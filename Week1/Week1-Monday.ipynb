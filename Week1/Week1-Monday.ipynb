{
 "cells": [
  {
   "cell_type": "markdown",
   "metadata": {
    "cell_id": "4b5cd20a322f48b29001cfe60ee9dc52",
    "deepnote_cell_type": "markdown",
    "tags": []
   },
   "source": [
    "# Week 1 Monday"
   ]
  },
  {
   "cell_type": "markdown",
   "metadata": {
    "cell_id": "768d1e80bfac4abcb71538f594ccea47",
    "deepnote_cell_type": "markdown",
    "tags": []
   },
   "source": [
    "## Announcements\n",
    "\n",
    "* My office hours this quarter will be Monday 11am ALP 3610 (next door), Wednesday 1pm ALP 3600, and by appointment.  I can't reserve these computer labs for office hours; I'll send an email to announce any last-minute changes to the location.\n",
    "* Worksheet 0 is due Tuesday before discussion section.  (Need groupmates?  Today's class is a good time to find them!)\n",
    "* Videos and video quizzes for this week have been posted.  They are due before lecture on Friday.  The video quizzes are open book, open computer, and can be taken two times.  It's fine to discuss them with classmates.\n",
    "* Today will be about half lecture and half time to work on Worksheet 1.  One of our two Learning Assistants, Alicia, is here to help during the work time.\n",
    "* Usually Tuesday discussion will have an in-class quiz, but not this week.  Some new material will be introduced in Tuesday discussion this week, so be sure to attend!"
   ]
  },
  {
   "cell_type": "code",
   "execution_count": 3,
   "metadata": {
    "cell_id": "c32fbf6440c4498d842861c41ec265cc",
    "deepnote_cell_type": "code",
    "deepnote_to_be_reexecuted": false,
    "execution_millis": 1,
    "execution_start": 1664211788614,
    "source_hash": "9b82ee11",
    "tags": []
   },
   "outputs": [],
   "source": [
    "import pandas as pd"
   ]
  },
  {
   "cell_type": "code",
   "execution_count": 4,
   "metadata": {
    "cell_id": "1c4157df5ca44337b17ebc302ff32663",
    "deepnote_cell_type": "code",
    "deepnote_to_be_reexecuted": false,
    "execution_millis": 19,
    "execution_start": 1664211789710,
    "source_hash": "ef6375d",
    "tags": []
   },
   "outputs": [],
   "source": [
    "df = pd.read_csv(\"vend.csv\")"
   ]
  },
  {
   "cell_type": "markdown",
   "metadata": {
    "cell_id": "e3c9eb7bd82743ccbd01aa43ac7c884b",
    "deepnote_cell_type": "markdown",
    "tags": []
   },
   "source": [
    "## Warm-up: Two useful pandas Series methods\n",
    "\n",
    "Reminder: If we want to get a column named `\"Product\"` out of a pandas DataFrame, we can use the following syntax.  The result is a pandas Series."
   ]
  },
  {
   "cell_type": "code",
   "execution_count": 5,
   "metadata": {
    "cell_id": "b3abf2fb43f24056ab65612c3f11d5b8",
    "deepnote_cell_type": "code",
    "deepnote_to_be_reexecuted": false,
    "execution_millis": 1,
    "execution_start": 1664211804092,
    "source_hash": "6c574766",
    "tags": []
   },
   "outputs": [
    {
     "data": {
      "text/plain": [
       "0       Red Bull - Energy Drink - Sugar Free\n",
       "1       Red Bull - Energy Drink - Sugar Free\n",
       "2           Takis - Hot Chilli Pepper & Lime\n",
       "3           Takis - Hot Chilli Pepper & Lime\n",
       "4       Red Bull - Energy Drink - Sugar Free\n",
       "                        ...                 \n",
       "6440            Lindens - Chocolate Chippers\n",
       "6441          Wonderful Pistachios - Variety\n",
       "6442          Hungry Buddha - Chocolate Chip\n",
       "6443                     Snapple Tea - Lemon\n",
       "6444                Goldfish Baked - Cheddar\n",
       "Name: Product, Length: 6445, dtype: object"
      ]
     },
     "execution_count": 5,
     "metadata": {},
     "output_type": "execute_result"
    }
   ],
   "source": [
    "df[\"Product\"]"
   ]
  },
  {
   "cell_type": "markdown",
   "metadata": {},
   "source": [
    "Here is the first of the two pandas Series methods we want to introduce.  (Think of a method like a function, but it's a function that is attached to a specific object.  In this case, the `value_counts` method is attached to our pandas Series.)  This `value_counts` method tells us how often each value occurs."
   ]
  },
  {
   "cell_type": "code",
   "execution_count": 6,
   "metadata": {
    "cell_id": "ff49c48c279b4a268dfc172193ab4d10",
    "deepnote_cell_type": "code",
    "deepnote_to_be_reexecuted": false,
    "execution_millis": 3,
    "execution_start": 1664211926256,
    "source_hash": "8ce4c170",
    "tags": []
   },
   "outputs": [
    {
     "data": {
      "text/plain": [
       "Coca Cola - Zero Sugar                           517\n",
       "Monster Energy Original                          385\n",
       "Poland Springs Water                             300\n",
       "KitKat - Crisp Wafers                            260\n",
       "Sunkist Soda - Orange                            217\n",
       "                                                ... \n",
       "Nature's Garden Trail Mix - Heart Healthy Mix      1\n",
       "Nature's Garden Trail Mix - Omega 3                1\n",
       "Larabar - Peanut Butter chocolate Chip             1\n",
       "Nature's Valley Crunchy Granola Bar - Oats &       1\n",
       "Nature's Valley Chewy Granola Bar - Fruit & N      1\n",
       "Name: Product, Length: 170, dtype: int64"
      ]
     },
     "execution_count": 6,
     "metadata": {},
     "output_type": "execute_result"
    }
   ],
   "source": [
    "df[\"Product\"].value_counts()"
   ]
  },
  {
   "cell_type": "markdown",
   "metadata": {},
   "source": [
    "We can also tell how many items appear in the \"Product\" column, 170, by looking at the length of the above Series.  If all you care about is what items occur, and you don't care about how often they occur, then it makes sense to use a different pandas Series method, `unique`."
   ]
  },
  {
   "cell_type": "code",
   "execution_count": 7,
   "metadata": {
    "cell_id": "dcb58baaec2d438d922dae17e38b78a4",
    "deepnote_cell_type": "code",
    "deepnote_to_be_reexecuted": false,
    "execution_millis": 6,
    "execution_start": 1664212067751,
    "source_hash": "b709ca6a",
    "tags": [
     "output_scroll"
    ]
   },
   "outputs": [
    {
     "data": {
      "text/plain": [
       "array(['Red Bull - Energy Drink - Sugar Free',\n",
       "       'Takis - Hot Chilli Pepper & Lime',\n",
       "       'Bai Antioxidant - Brasilia BB',\n",
       "       \"Miss Vickie's Potato Chip - Sea Salt & Vinega\",\n",
       "       \"Miss Vickie's Potato Chip - Lime & Cracked Pe\",\n",
       "       'Monster Energy Original',\n",
       "       'Seapoint Farms Dry Roasted Edamame - Wasabi',\n",
       "       'Snapple Diet Tea - Lemon', 'Skinny Pop Popcorn',\n",
       "       'Stretch Island Fruit Leathers Snacks - Variet',\n",
       "       'KitKat - Crisp Wafers', 'Wonderful Pistachios - Variety',\n",
       "       'Spindrift - Sparkling Water  Lime',\n",
       "       \"Miss Vickie's Potato Chip - Sea Salt Original\",\n",
       "       'Jacks Links Bar Beef Strip',\n",
       "       'Vitamin Water - XXX Acai BB Pomegranate',\n",
       "       'Cheetos - Fleming Hot Crunchy',\n",
       "       'Pure Organic Fruit Bar - Strawberry Banana', 'Oreo Mini',\n",
       "       'Nutter Butter Bites', 'Jack Links Beef Steak Original',\n",
       "       \"Robert Irvine's - Fit Crunch -  Chocolate Pea\",\n",
       "       'Good Health Veggie Stix - Zesty Ranch',\n",
       "       'Cheetos Baked - Flaming Hot',\n",
       "       'S. Pellegrino Sparkling Mineral Water', 'Mini Chips Ahoy',\n",
       "       'Newtons Fig Bar', 'SunChips Multigrain - Salsa',\n",
       "       'Bubly - Grapefruit', 'Poland Springs Water',\n",
       "       'Chum Fruit Bites - Mango/Strawberry',\n",
       "       'Snapple Diet Tea - Raspberry',\n",
       "       'Zevia Zero Calorie Energy - Mango Ginger',\n",
       "       'V8 Vegetable Juice - Original', 'BodyArmor LYTE  - Peach Mango',\n",
       "       'SunChips Multigrain - Harvest Cheddar',\n",
       "       'Good Health Veggie Stix - Sea Salt',\n",
       "       'Snapple Diet Tea - Peach Tea', 'Keto Krisp - Almond/Chocolate',\n",
       "       'Larabar - Peanut Butter chocolate Chip',\n",
       "       'Bai Antioxidant - Molokai Coconut', 'Monster Energy  Zero Ultra',\n",
       "       'Chesters Fries Flaming hot',\n",
       "       \"Miss Vickie's Potato Chip - Jalapeno\", 'Coca Cola - Zero Sugar',\n",
       "       'Red Bull - Original', 'Ruffles Baked  - Cheddar & Sour Cream',\n",
       "       'Ritz Bits Cheese', 'CheezIt - Original', 'Takis FUGEO mini',\n",
       "       'BodyArmor LYTE  - Berry Punch',\n",
       "       \"Miss Vickie's Potato Chip - Smokehouse BBQ\",\n",
       "       'Vitamin Water - Ice Cool Blue Lavender',\n",
       "       'CheezIt - White Cheddar',\n",
       "       \"Nature's Valley Crunchy Granola Bar - Oats &\",\n",
       "       'Lays Baked - Original', 'Bai Antioxidant - Zambia Bingcherry',\n",
       "       'Bubly - Cherry', 'Belvita Breakfast Cookies - Blueberry',\n",
       "       'Spindrift - Sparkling Water Raspberry Lime',\n",
       "       'SunChips Multigrain - Original', 'Popchips Potato - Barbeque',\n",
       "       \"Snyder's of Hanover Pretzel - Cheddar Cheese\",\n",
       "       'Pure Organic Pineapple Passionfruit',\n",
       "       'Keto Krisp - Almond Butter',\n",
       "       \"Nature's Valley Chewy Granola Bar - Fruit & N\",\n",
       "       'Vitamin Water - Squeezed Lemonade', 'Popchips Potato - Sea Salt',\n",
       "       'CheezIt - Double Cheese', 'Lays Baked - Barbecue',\n",
       "       'Sunkist Soda - Orange', 'Funyuns - Flaming Hot',\n",
       "       'Munchies Snack mix Flaming Hot',\n",
       "       'NuGo Dark Chocolate - Choc Chip', 'Oreo Single Server 6 ct',\n",
       "       'Cheetos Flaming Hot Limon Crunchy',\n",
       "       'Oberto Specialty Meats - Original', 'Doritos Famin Hot Nacho',\n",
       "       'Kinder - Bueno - Crispy Creamy Chocolate',\n",
       "       'Belvita Snack Packs - Blueberry',\n",
       "       'RXBAR - Protein Bar - Peanut Butter', 'Snapple Tea - Raspberry',\n",
       "       'KIND Bar - Dark Choc Almond SeaSalt', 'Fritos - Original',\n",
       "       'NuGo Dark Chocolate - Pretzel Sea Salt',\n",
       "       'Cheetos Baked - Crunchy Cheese',\n",
       "       'CheezIt - Cheddar Sour Cream and Onion',\n",
       "       'RXBAR - Protein Bar - Chocolate Sea Salt',\n",
       "       'Starbucks Doubleshot Energy - Mocha', 'Bubly - Blackberry',\n",
       "       'Doritos Nacho Cheese', 'Cheetos - Crunchy',\n",
       "       'Spindrift - Sparkling Water - Pineapple', 'Iberia Coconut Water',\n",
       "       'Doritos Cool Ranch', 'Lays - Classic',\n",
       "       'Genius Keto Bar - Chocolate Dream', nan,\n",
       "       'Lenny & Larrys - SnickerDoodle',\n",
       "       'Autumns Granola Bar - Cinnamon Almond',\n",
       "       'SunChips Multigrain - French Onion',\n",
       "       'Bai Antioxidant - Kula Watermelon', 'Honest Tea - Berry Hibiscus',\n",
       "       'Hungry Buddha - Chocolate Chip', 'Remedy Kombucha - Ginger Lemon',\n",
       "       'Doritos Dinamita Chile Lemon',\n",
       "       'Starbucks Refresher - Real Coconut Water',\n",
       "       'Hungry Buddha - Coconut Cocoa',\n",
       "       'Made in Nature - Mangoes Sweet & Tangy',\n",
       "       'Belvita Snack Packs - Cinnamon',\n",
       "       'Keto Bar - Creamy Peanut Butter Chocolate',\n",
       "       'Skippy Peanut Butter - Go Paks',\n",
       "       'Belvita Snack Bites - Cinnamon BS Go Paks',\n",
       "       'Pop Corners - Kettle Corn',\n",
       "       'Bai Antioxidant - Kupang strawberry kiwi',\n",
       "       'Quaker Caramel Rice Crisps', 'Belvita Snack Packs - Chocolate',\n",
       "       'Pop Corners - Sea Salt', 'Pop Corners - Spicy Queso',\n",
       "       'Quaker Apple Cinnamon Rice Crisps',\n",
       "       'Bai Antioxidant - Tanzania Lemon Super Tea',\n",
       "       'Quaker ButterMilk Ranch Rice Crisps',\n",
       "       'Bai Lemonade - Burundi Blueberry', 'Pop Corners - White Cheddar',\n",
       "       'Bubly - Mango', 'Nutri Grain Apple Cinnamon',\n",
       "       'Quaker Cheddar Rice Crisps', 'Cheetos Puffs',\n",
       "       'Cheetos Cheddar Jalapeno', 'Bubly - Lime',\n",
       "       \"Nature's Garden Trail Mix - Cranberry Healthy\",\n",
       "       'BodyArmor LYTE - Strawberry Lemonade',\n",
       "       'Keep Healthy - Chocolate Fudge', 'CheezIt - Go Paks',\n",
       "       'Lenny & Larrys - Chocolate Chip',\n",
       "       \"Snyder's of Hanover Pretzel Pieces - Honey Mu\",\n",
       "       'Belvita Breakfast Biscuit Bites - Blueberry',\n",
       "       \"Snyder's of Hanover Pretzel Pieces - Hot Buff\",\n",
       "       'Ice Breakers Ice Cubes - PepperMint', 'Goldfish Baked - Cheddar',\n",
       "       'Doritos Spicy Nacho', 'Pop Corners - Sweet & Salty Kettle',\n",
       "       'Mini Chips Ahoy - Go Paks', 'Oreo Mini - Go Paks',\n",
       "       'Teddy Grahams - Go Paks',\n",
       "       'BodyArmor  LYTE - Blueberry Pomegranate',\n",
       "       'Starbucks Doubleshot Energy - Coffee',\n",
       "       \"Snyder's of Hanover Pretzel Pieces - Cheddar\",\n",
       "       \"Nature's Bakery Fig Bar - Blueberry\",\n",
       "       \"Nature's Bakery Fig Bar - Raspberry\",\n",
       "       'Canada Dry - Ginger Ale & Lemonde', 'Canada Dry - Ginger Ale',\n",
       "       'Snapple Tea - Lemon', 'Popchips Potato - Sour Cream & Onion',\n",
       "       'Pringles - Cheddar Cheese', 'Pringles - Sour Cream & Onion',\n",
       "       'Coca Cola - Regular', 'Snapple Tea - Peach',\n",
       "       'Zone Perfect - Chocolate Chip Cookie Dough',\n",
       "       \"Nature's Garden Trail Mix - Omega 3\",\n",
       "       'S. Pellegrino Essenza Mineral Water - Blood O',\n",
       "       'Snapple Lemonade - black berry', 'Snapple Lemonade - watermelon',\n",
       "       'Snapple Lemonade - pineapple', 'Zevia Organic Tea - Peach',\n",
       "       \"Nature's Garden Trail Mix - Heart Healthy Mix\",\n",
       "       'Keto Bar - Chocolate Dream', 'Lindens - Chocolate Chippers',\n",
       "       'Pure Organic Fruit Bar - Raspberry Lemonade',\n",
       "       'TruBar - Cookie Dough', 'TruBar - Daydreaming about Donuts'],\n",
       "      dtype=object)"
      ]
     },
     "execution_count": 7,
     "metadata": {},
     "output_type": "execute_result"
    }
   ],
   "source": [
    "df[\"Product\"].unique()"
   ]
  },
  {
   "cell_type": "markdown",
   "metadata": {},
   "source": [
    "Here we check how many items occur, by calling the `len` function on `df[\"Product\"].unique()`.  Notice how `len` goes at the front of this expression; that's why we're calling `len` a function rather than a method."
   ]
  },
  {
   "cell_type": "code",
   "execution_count": 8,
   "metadata": {
    "cell_id": "fdc1fbe0670d424b9ba371bc17c1bfec",
    "deepnote_cell_type": "code",
    "deepnote_to_be_reexecuted": false,
    "execution_millis": 653,
    "execution_start": 1664212130185,
    "source_hash": "da2bdcbd",
    "tags": []
   },
   "outputs": [
    {
     "data": {
      "text/plain": [
       "171"
      ]
     },
     "execution_count": 8,
     "metadata": {},
     "output_type": "execute_result"
    }
   ],
   "source": [
    "len(df[\"Product\"].unique())"
   ]
  },
  {
   "cell_type": "markdown",
   "metadata": {},
   "source": [
    "Notice how this answer, 171, is one more than our length of 170 for the `value_counts` output.  This is presumably because the `unique` method includes the possibility of a missing value, and the `value_counts` method does not.  (A student later pointed out to me that the `unique` output does include `nan`, which stands for \"not a number\", and represents missing values.)"
   ]
  },
  {
   "cell_type": "markdown",
   "metadata": {
    "cell_id": "37b23bf17b5143918ccaff2af853760b",
    "deepnote_cell_type": "markdown",
    "tags": []
   },
   "source": [
    "## Indexing for pandas Series\n",
    "\n",
    "Indexing for pandas Series and especially for pandas DataFrames takes some getting used to.  What various types of indexing represents is largely something that needs to be memorized.\n",
    "\n",
    "Here is a reminder of what the top three rows in our DataFrame look like."
   ]
  },
  {
   "cell_type": "code",
   "execution_count": 10,
   "metadata": {
    "cell_id": "b9feaa5f088044aab94f6aac3f4ac420",
    "deepnote_cell_type": "code",
    "deepnote_to_be_reexecuted": false,
    "execution_millis": 30,
    "execution_start": 1664212295723,
    "source_hash": "3a1ea484",
    "tags": [
     "output_scroll"
    ]
   },
   "outputs": [
    {
     "data": {
      "application/vnd.deepnote.dataframe.v3+json": {
       "column_count": 18,
       "columns": [
        {
         "dtype": "object",
         "name": "Status",
         "stats": {
          "categories": [
           {
            "count": 3,
            "name": "Processed"
           }
          ],
          "nan_count": 0,
          "unique_count": 1
         }
        },
        {
         "dtype": "object",
         "name": "Device ID",
         "stats": {
          "categories": [
           {
            "count": 3,
            "name": "VJ300320611"
           }
          ],
          "nan_count": 0,
          "unique_count": 1
         }
        },
        {
         "dtype": "object",
         "name": "Location",
         "stats": {
          "categories": [
           {
            "count": 3,
            "name": "Brunswick Sq Mall"
           }
          ],
          "nan_count": 0,
          "unique_count": 1
         }
        },
        {
         "dtype": "object",
         "name": "Machine",
         "stats": {
          "categories": [
           {
            "count": 3,
            "name": "BSQ Mall x1366 - ATT"
           }
          ],
          "nan_count": 0,
          "unique_count": 1
         }
        },
        {
         "dtype": "object",
         "name": "Product",
         "stats": {
          "categories": [
           {
            "count": 2,
            "name": "Red Bull - Energy Drink - Sugar Free"
           },
           {
            "count": 1,
            "name": "Takis - Hot Chilli Pepper & Lime"
           }
          ],
          "nan_count": 0,
          "unique_count": 2
         }
        },
        {
         "dtype": "object",
         "name": "Category",
         "stats": {
          "categories": [
           {
            "count": 2,
            "name": "Carbonated"
           },
           {
            "count": 1,
            "name": "Food"
           }
          ],
          "nan_count": 0,
          "unique_count": 2
         }
        },
        {
         "dtype": "int64",
         "name": "Transaction",
         "stats": {
          "histogram": [
           {
            "bin_end": 14515802877.4,
            "bin_start": 14515778905,
            "count": 1
           },
           {
            "bin_end": 14515826849.8,
            "bin_start": 14515802877.4,
            "count": 0
           },
           {
            "bin_end": 14515850822.2,
            "bin_start": 14515826849.8,
            "count": 0
           },
           {
            "bin_end": 14515874794.6,
            "bin_start": 14515850822.2,
            "count": 0
           },
           {
            "bin_end": 14515898767,
            "bin_start": 14515874794.6,
            "count": 0
           },
           {
            "bin_end": 14515922739.4,
            "bin_start": 14515898767,
            "count": 0
           },
           {
            "bin_end": 14515946711.8,
            "bin_start": 14515922739.4,
            "count": 0
           },
           {
            "bin_end": 14515970684.2,
            "bin_start": 14515946711.8,
            "count": 0
           },
           {
            "bin_end": 14515994656.6,
            "bin_start": 14515970684.2,
            "count": 0
           },
           {
            "bin_end": 14516018629,
            "bin_start": 14515994656.6,
            "count": 2
           }
          ],
          "max": "14516018629",
          "min": "14515778905",
          "nan_count": 0,
          "unique_count": 2
         }
        },
        {
         "dtype": "object",
         "name": "TransDate",
         "stats": {
          "categories": [
           {
            "count": 3,
            "name": "Saturday, January 1, 2022"
           }
          ],
          "nan_count": 0,
          "unique_count": 1
         }
        },
        {
         "dtype": "object",
         "name": "Type",
         "stats": {
          "categories": [
           {
            "count": 3,
            "name": "Credit"
           }
          ],
          "nan_count": 0,
          "unique_count": 1
         }
        },
        {
         "dtype": "int64",
         "name": "RCoil",
         "stats": {
          "histogram": [
           {
            "bin_end": 125.5,
            "bin_start": 123,
            "count": 1
           },
           {
            "bin_end": 128,
            "bin_start": 125.5,
            "count": 0
           },
           {
            "bin_end": 130.5,
            "bin_start": 128,
            "count": 0
           },
           {
            "bin_end": 133,
            "bin_start": 130.5,
            "count": 0
           },
           {
            "bin_end": 135.5,
            "bin_start": 133,
            "count": 0
           },
           {
            "bin_end": 138,
            "bin_start": 135.5,
            "count": 0
           },
           {
            "bin_end": 140.5,
            "bin_start": 138,
            "count": 0
           },
           {
            "bin_end": 143,
            "bin_start": 140.5,
            "count": 0
           },
           {
            "bin_end": 145.5,
            "bin_start": 143,
            "count": 0
           },
           {
            "bin_end": 148,
            "bin_start": 145.5,
            "count": 2
           }
          ],
          "max": "148",
          "min": "123",
          "nan_count": 0,
          "unique_count": 2
         }
        },
        {
         "dtype": "float64",
         "name": "RPrice",
         "stats": {
          "histogram": [
           {
            "bin_end": 1.7,
            "bin_start": 1.5,
            "count": 1
           },
           {
            "bin_end": 1.9,
            "bin_start": 1.7,
            "count": 0
           },
           {
            "bin_end": 2.1,
            "bin_start": 1.9,
            "count": 0
           },
           {
            "bin_end": 2.3,
            "bin_start": 2.1,
            "count": 0
           },
           {
            "bin_end": 2.5,
            "bin_start": 2.3,
            "count": 0
           },
           {
            "bin_end": 2.7,
            "bin_start": 2.5,
            "count": 0
           },
           {
            "bin_end": 2.9000000000000004,
            "bin_start": 2.7,
            "count": 0
           },
           {
            "bin_end": 3.1,
            "bin_start": 2.9000000000000004,
            "count": 0
           },
           {
            "bin_end": 3.3,
            "bin_start": 3.1,
            "count": 0
           },
           {
            "bin_end": 3.5,
            "bin_start": 3.3,
            "count": 2
           }
          ],
          "max": "3.5",
          "min": "1.5",
          "nan_count": 0,
          "unique_count": 2
         }
        },
        {
         "dtype": "int64",
         "name": "RQty",
         "stats": {
          "histogram": [
           {
            "bin_end": 0.6,
            "bin_start": 0.5,
            "count": 0
           },
           {
            "bin_end": 0.7,
            "bin_start": 0.6,
            "count": 0
           },
           {
            "bin_end": 0.8,
            "bin_start": 0.7,
            "count": 0
           },
           {
            "bin_end": 0.9,
            "bin_start": 0.8,
            "count": 0
           },
           {
            "bin_end": 1,
            "bin_start": 0.9,
            "count": 0
           },
           {
            "bin_end": 1.1,
            "bin_start": 1,
            "count": 3
           },
           {
            "bin_end": 1.2000000000000002,
            "bin_start": 1.1,
            "count": 0
           },
           {
            "bin_end": 1.3,
            "bin_start": 1.2000000000000002,
            "count": 0
           },
           {
            "bin_end": 1.4,
            "bin_start": 1.3,
            "count": 0
           },
           {
            "bin_end": 1.5,
            "bin_start": 1.4,
            "count": 0
           }
          ],
          "max": "1",
          "min": "1",
          "nan_count": 0,
          "unique_count": 1
         }
        },
        {
         "dtype": "int64",
         "name": "MCoil",
         "stats": {
          "histogram": [
           {
            "bin_end": 125.5,
            "bin_start": 123,
            "count": 1
           },
           {
            "bin_end": 128,
            "bin_start": 125.5,
            "count": 0
           },
           {
            "bin_end": 130.5,
            "bin_start": 128,
            "count": 0
           },
           {
            "bin_end": 133,
            "bin_start": 130.5,
            "count": 0
           },
           {
            "bin_end": 135.5,
            "bin_start": 133,
            "count": 0
           },
           {
            "bin_end": 138,
            "bin_start": 135.5,
            "count": 0
           },
           {
            "bin_end": 140.5,
            "bin_start": 138,
            "count": 0
           },
           {
            "bin_end": 143,
            "bin_start": 140.5,
            "count": 0
           },
           {
            "bin_end": 145.5,
            "bin_start": 143,
            "count": 0
           },
           {
            "bin_end": 148,
            "bin_start": 145.5,
            "count": 2
           }
          ],
          "max": "148",
          "min": "123",
          "nan_count": 0,
          "unique_count": 2
         }
        },
        {
         "dtype": "float64",
         "name": "MPrice",
         "stats": {
          "histogram": [
           {
            "bin_end": 1.7,
            "bin_start": 1.5,
            "count": 1
           },
           {
            "bin_end": 1.9,
            "bin_start": 1.7,
            "count": 0
           },
           {
            "bin_end": 2.1,
            "bin_start": 1.9,
            "count": 0
           },
           {
            "bin_end": 2.3,
            "bin_start": 2.1,
            "count": 0
           },
           {
            "bin_end": 2.5,
            "bin_start": 2.3,
            "count": 0
           },
           {
            "bin_end": 2.7,
            "bin_start": 2.5,
            "count": 0
           },
           {
            "bin_end": 2.9000000000000004,
            "bin_start": 2.7,
            "count": 0
           },
           {
            "bin_end": 3.1,
            "bin_start": 2.9000000000000004,
            "count": 0
           },
           {
            "bin_end": 3.3,
            "bin_start": 3.1,
            "count": 0
           },
           {
            "bin_end": 3.5,
            "bin_start": 3.3,
            "count": 2
           }
          ],
          "max": "3.5",
          "min": "1.5",
          "nan_count": 0,
          "unique_count": 2
         }
        },
        {
         "dtype": "int64",
         "name": "MQty",
         "stats": {
          "histogram": [
           {
            "bin_end": 0.6,
            "bin_start": 0.5,
            "count": 0
           },
           {
            "bin_end": 0.7,
            "bin_start": 0.6,
            "count": 0
           },
           {
            "bin_end": 0.8,
            "bin_start": 0.7,
            "count": 0
           },
           {
            "bin_end": 0.9,
            "bin_start": 0.8,
            "count": 0
           },
           {
            "bin_end": 1,
            "bin_start": 0.9,
            "count": 0
           },
           {
            "bin_end": 1.1,
            "bin_start": 1,
            "count": 3
           },
           {
            "bin_end": 1.2000000000000002,
            "bin_start": 1.1,
            "count": 0
           },
           {
            "bin_end": 1.3,
            "bin_start": 1.2000000000000002,
            "count": 0
           },
           {
            "bin_end": 1.4,
            "bin_start": 1.3,
            "count": 0
           },
           {
            "bin_end": 1.5,
            "bin_start": 1.4,
            "count": 0
           }
          ],
          "max": "1",
          "min": "1",
          "nan_count": 0,
          "unique_count": 1
         }
        },
        {
         "dtype": "float64",
         "name": "LineTotal",
         "stats": {
          "histogram": [
           {
            "bin_end": 1.7,
            "bin_start": 1.5,
            "count": 1
           },
           {
            "bin_end": 1.9,
            "bin_start": 1.7,
            "count": 0
           },
           {
            "bin_end": 2.1,
            "bin_start": 1.9,
            "count": 0
           },
           {
            "bin_end": 2.3,
            "bin_start": 2.1,
            "count": 0
           },
           {
            "bin_end": 2.5,
            "bin_start": 2.3,
            "count": 0
           },
           {
            "bin_end": 2.7,
            "bin_start": 2.5,
            "count": 0
           },
           {
            "bin_end": 2.9000000000000004,
            "bin_start": 2.7,
            "count": 0
           },
           {
            "bin_end": 3.1,
            "bin_start": 2.9000000000000004,
            "count": 0
           },
           {
            "bin_end": 3.3,
            "bin_start": 3.1,
            "count": 0
           },
           {
            "bin_end": 3.5,
            "bin_start": 3.3,
            "count": 2
           }
          ],
          "max": "3.5",
          "min": "1.5",
          "nan_count": 0,
          "unique_count": 2
         }
        },
        {
         "dtype": "float64",
         "name": "TransTotal",
         "stats": {
          "histogram": [
           {
            "bin_end": 3.65,
            "bin_start": 3.5,
            "count": 1
           },
           {
            "bin_end": 3.8,
            "bin_start": 3.65,
            "count": 0
           },
           {
            "bin_end": 3.95,
            "bin_start": 3.8,
            "count": 0
           },
           {
            "bin_end": 4.1,
            "bin_start": 3.95,
            "count": 0
           },
           {
            "bin_end": 4.25,
            "bin_start": 4.1,
            "count": 0
           },
           {
            "bin_end": 4.4,
            "bin_start": 4.25,
            "count": 0
           },
           {
            "bin_end": 4.55,
            "bin_start": 4.4,
            "count": 0
           },
           {
            "bin_end": 4.7,
            "bin_start": 4.55,
            "count": 0
           },
           {
            "bin_end": 4.85,
            "bin_start": 4.7,
            "count": 0
           },
           {
            "bin_end": 5,
            "bin_start": 4.85,
            "count": 2
           }
          ],
          "max": "5.0",
          "min": "3.5",
          "nan_count": 0,
          "unique_count": 2
         }
        },
        {
         "dtype": "object",
         "name": "Prcd Date",
         "stats": {
          "categories": [
           {
            "count": 3,
            "name": "1/1/2022"
           }
          ],
          "nan_count": 0,
          "unique_count": 1
         }
        },
        {
         "dtype": "int64",
         "name": "_deepnote_index_column"
        }
       ],
       "row_count": 3,
       "rows": [
        {
         "Category": "Carbonated",
         "Device ID": "VJ300320611",
         "LineTotal": "3.5",
         "Location": "Brunswick Sq Mall",
         "MCoil": "148",
         "MPrice": "3.5",
         "MQty": "1",
         "Machine": "BSQ Mall x1366 - ATT",
         "Prcd Date": "1/1/2022",
         "Product": "Red Bull - Energy Drink - Sugar Free",
         "RCoil": "148",
         "RPrice": "3.5",
         "RQty": "1",
         "Status": "Processed",
         "TransDate": "Saturday, January 1, 2022",
         "TransTotal": "3.5",
         "Transaction": "14515778905",
         "Type": "Credit",
         "_deepnote_index_column": "0"
        },
        {
         "Category": "Carbonated",
         "Device ID": "VJ300320611",
         "LineTotal": "3.5",
         "Location": "Brunswick Sq Mall",
         "MCoil": "148",
         "MPrice": "3.5",
         "MQty": "1",
         "Machine": "BSQ Mall x1366 - ATT",
         "Prcd Date": "1/1/2022",
         "Product": "Red Bull - Energy Drink - Sugar Free",
         "RCoil": "148",
         "RPrice": "3.5",
         "RQty": "1",
         "Status": "Processed",
         "TransDate": "Saturday, January 1, 2022",
         "TransTotal": "5.0",
         "Transaction": "14516018629",
         "Type": "Credit",
         "_deepnote_index_column": "1"
        },
        {
         "Category": "Food",
         "Device ID": "VJ300320611",
         "LineTotal": "1.5",
         "Location": "Brunswick Sq Mall",
         "MCoil": "123",
         "MPrice": "1.5",
         "MQty": "1",
         "Machine": "BSQ Mall x1366 - ATT",
         "Prcd Date": "1/1/2022",
         "Product": "Takis - Hot Chilli Pepper & Lime",
         "RCoil": "123",
         "RPrice": "1.5",
         "RQty": "1",
         "Status": "Processed",
         "TransDate": "Saturday, January 1, 2022",
         "TransTotal": "5.0",
         "Transaction": "14516018629",
         "Type": "Credit",
         "_deepnote_index_column": "2"
        }
       ]
      },
      "text/html": [
       "<div>\n",
       "<style scoped>\n",
       "    .dataframe tbody tr th:only-of-type {\n",
       "        vertical-align: middle;\n",
       "    }\n",
       "\n",
       "    .dataframe tbody tr th {\n",
       "        vertical-align: top;\n",
       "    }\n",
       "\n",
       "    .dataframe thead th {\n",
       "        text-align: right;\n",
       "    }\n",
       "</style>\n",
       "<table border=\"1\" class=\"dataframe\">\n",
       "  <thead>\n",
       "    <tr style=\"text-align: right;\">\n",
       "      <th></th>\n",
       "      <th>Status</th>\n",
       "      <th>Device ID</th>\n",
       "      <th>Location</th>\n",
       "      <th>Machine</th>\n",
       "      <th>Product</th>\n",
       "      <th>Category</th>\n",
       "      <th>Transaction</th>\n",
       "      <th>TransDate</th>\n",
       "      <th>Type</th>\n",
       "      <th>RCoil</th>\n",
       "      <th>RPrice</th>\n",
       "      <th>RQty</th>\n",
       "      <th>MCoil</th>\n",
       "      <th>MPrice</th>\n",
       "      <th>MQty</th>\n",
       "      <th>LineTotal</th>\n",
       "      <th>TransTotal</th>\n",
       "      <th>Prcd Date</th>\n",
       "    </tr>\n",
       "  </thead>\n",
       "  <tbody>\n",
       "    <tr>\n",
       "      <th>0</th>\n",
       "      <td>Processed</td>\n",
       "      <td>VJ300320611</td>\n",
       "      <td>Brunswick Sq Mall</td>\n",
       "      <td>BSQ Mall x1366 - ATT</td>\n",
       "      <td>Red Bull - Energy Drink - Sugar Free</td>\n",
       "      <td>Carbonated</td>\n",
       "      <td>14515778905</td>\n",
       "      <td>Saturday, January 1, 2022</td>\n",
       "      <td>Credit</td>\n",
       "      <td>148</td>\n",
       "      <td>3.5</td>\n",
       "      <td>1</td>\n",
       "      <td>148</td>\n",
       "      <td>3.5</td>\n",
       "      <td>1</td>\n",
       "      <td>3.5</td>\n",
       "      <td>3.5</td>\n",
       "      <td>1/1/2022</td>\n",
       "    </tr>\n",
       "    <tr>\n",
       "      <th>1</th>\n",
       "      <td>Processed</td>\n",
       "      <td>VJ300320611</td>\n",
       "      <td>Brunswick Sq Mall</td>\n",
       "      <td>BSQ Mall x1366 - ATT</td>\n",
       "      <td>Red Bull - Energy Drink - Sugar Free</td>\n",
       "      <td>Carbonated</td>\n",
       "      <td>14516018629</td>\n",
       "      <td>Saturday, January 1, 2022</td>\n",
       "      <td>Credit</td>\n",
       "      <td>148</td>\n",
       "      <td>3.5</td>\n",
       "      <td>1</td>\n",
       "      <td>148</td>\n",
       "      <td>3.5</td>\n",
       "      <td>1</td>\n",
       "      <td>3.5</td>\n",
       "      <td>5.0</td>\n",
       "      <td>1/1/2022</td>\n",
       "    </tr>\n",
       "    <tr>\n",
       "      <th>2</th>\n",
       "      <td>Processed</td>\n",
       "      <td>VJ300320611</td>\n",
       "      <td>Brunswick Sq Mall</td>\n",
       "      <td>BSQ Mall x1366 - ATT</td>\n",
       "      <td>Takis - Hot Chilli Pepper &amp; Lime</td>\n",
       "      <td>Food</td>\n",
       "      <td>14516018629</td>\n",
       "      <td>Saturday, January 1, 2022</td>\n",
       "      <td>Credit</td>\n",
       "      <td>123</td>\n",
       "      <td>1.5</td>\n",
       "      <td>1</td>\n",
       "      <td>123</td>\n",
       "      <td>1.5</td>\n",
       "      <td>1</td>\n",
       "      <td>1.5</td>\n",
       "      <td>5.0</td>\n",
       "      <td>1/1/2022</td>\n",
       "    </tr>\n",
       "  </tbody>\n",
       "</table>\n",
       "</div>"
      ],
      "text/plain": [
       "      Status    Device ID           Location               Machine  \\\n",
       "0  Processed  VJ300320611  Brunswick Sq Mall  BSQ Mall x1366 - ATT   \n",
       "1  Processed  VJ300320611  Brunswick Sq Mall  BSQ Mall x1366 - ATT   \n",
       "2  Processed  VJ300320611  Brunswick Sq Mall  BSQ Mall x1366 - ATT   \n",
       "\n",
       "                                Product    Category  Transaction  \\\n",
       "0  Red Bull - Energy Drink - Sugar Free  Carbonated  14515778905   \n",
       "1  Red Bull - Energy Drink - Sugar Free  Carbonated  14516018629   \n",
       "2      Takis - Hot Chilli Pepper & Lime        Food  14516018629   \n",
       "\n",
       "                   TransDate    Type  RCoil  RPrice  RQty  MCoil  MPrice  \\\n",
       "0  Saturday, January 1, 2022  Credit    148     3.5     1    148     3.5   \n",
       "1  Saturday, January 1, 2022  Credit    148     3.5     1    148     3.5   \n",
       "2  Saturday, January 1, 2022  Credit    123     1.5     1    123     1.5   \n",
       "\n",
       "   MQty  LineTotal  TransTotal Prcd Date  \n",
       "0     1        3.5         3.5  1/1/2022  \n",
       "1     1        3.5         5.0  1/1/2022  \n",
       "2     1        1.5         5.0  1/1/2022  "
      ]
     },
     "execution_count": 10,
     "metadata": {},
     "output_type": "execute_result"
    }
   ],
   "source": [
    "df.head(3)"
   ]
  },
  {
   "cell_type": "markdown",
   "metadata": {},
   "source": [
    "Here is the code we used last week to get the zeroth element (remember that counting in Python starts with zero) out of the \"RPrice\" column."
   ]
  },
  {
   "cell_type": "code",
   "execution_count": 9,
   "metadata": {
    "cell_id": "bd693905e1cc40768e3378060a87732e",
    "deepnote_cell_type": "code",
    "deepnote_to_be_reexecuted": false,
    "execution_millis": 4,
    "execution_start": 1664212229988,
    "source_hash": "fb4e4a1b",
    "tags": []
   },
   "outputs": [
    {
     "data": {
      "text/plain": [
       "3.5"
      ]
     },
     "execution_count": 9,
     "metadata": {},
     "output_type": "execute_result"
    }
   ],
   "source": [
    "# Get the zeroth element out of the RPrice column\n",
    "df[\"RPrice\"].iloc[0]"
   ]
  },
  {
   "cell_type": "markdown",
   "metadata": {},
   "source": [
    "It's very reasonable to ask why we used this strange `.iloc[0]` syntax, when some similar versions also work in this case.  For example, `.loc[0]` also works in this case."
   ]
  },
  {
   "cell_type": "code",
   "execution_count": 11,
   "metadata": {
    "cell_id": "b11d55cf92d446b1a1edbb31f0c338d1",
    "deepnote_cell_type": "code",
    "deepnote_to_be_reexecuted": false,
    "execution_millis": 7,
    "execution_start": 1664212381510,
    "source_hash": "cc759a5f",
    "tags": []
   },
   "outputs": [
    {
     "data": {
      "text/plain": [
       "3.5"
      ]
     },
     "execution_count": 11,
     "metadata": {},
     "output_type": "execute_result"
    }
   ],
   "source": [
    "df[\"RPrice\"].loc[0]"
   ]
  },
  {
   "cell_type": "markdown",
   "metadata": {},
   "source": [
    "In fact, even `[0]` also works in this case."
   ]
  },
  {
   "cell_type": "code",
   "execution_count": 12,
   "metadata": {
    "cell_id": "bfeb6e4a885f450aaed300c04566db15",
    "deepnote_cell_type": "code",
    "deepnote_to_be_reexecuted": false,
    "execution_millis": 4,
    "execution_start": 1664212409044,
    "source_hash": "8ad6464a",
    "tags": []
   },
   "outputs": [
    {
     "data": {
      "text/plain": [
       "3.5"
      ]
     },
     "execution_count": 12,
     "metadata": {},
     "output_type": "execute_result"
    }
   ],
   "source": [
    "df[\"RPrice\"][0]"
   ]
  },
  {
   "cell_type": "markdown",
   "metadata": {},
   "source": [
    "The `.iloc[0]` version is really the correct version, and the other two only work by coincidence.  Let's look more closely at this pandas Series (this column from the DataFrame) `df[\"RPrice\"]`.  Notice there are seemingly two columns of numbers.  The left-hand column shows what's called the *index* of the pandas Series, and the right-hand column (which should be thought of as the more important column) contains the *values* of the pandas Series.  The elements in the index should be thought of as labels.  For example, `0` is the label for the float `3.5` at the top."
   ]
  },
  {
   "cell_type": "code",
   "execution_count": 13,
   "metadata": {
    "cell_id": "8d387704711b4746a1ea7b84c4792cc9",
    "deepnote_cell_type": "code",
    "deepnote_to_be_reexecuted": false,
    "execution_millis": 5,
    "execution_start": 1664212428924,
    "source_hash": "b2edacc5",
    "tags": []
   },
   "outputs": [
    {
     "data": {
      "text/plain": [
       "0       3.5\n",
       "1       3.5\n",
       "2       1.5\n",
       "3       1.5\n",
       "4       3.5\n",
       "       ... \n",
       "6440    2.0\n",
       "6441    2.0\n",
       "6442    2.0\n",
       "6443    2.5\n",
       "6444    1.5\n",
       "Name: RPrice, Length: 6445, dtype: float64"
      ]
     },
     "execution_count": 13,
     "metadata": {},
     "output_type": "execute_result"
    }
   ],
   "source": [
    "df[\"RPrice\"]"
   ]
  },
  {
   "cell_type": "markdown",
   "metadata": {},
   "source": [
    "Let's try sorting these prices, from biggest to smallest.  We use the `sort_values` method, which by default sorts the values from smallest to biggest, so we include what's called a *keyword argument* `ascending=False` to tell pandas to instead sort them in decreasing order."
   ]
  },
  {
   "cell_type": "code",
   "execution_count": 17,
   "metadata": {
    "cell_id": "e22b7adf99c94c13b4005d593bda6e09",
    "deepnote_cell_type": "code",
    "deepnote_to_be_reexecuted": false,
    "execution_millis": 6,
    "execution_start": 1664212554475,
    "source_hash": "d5952119",
    "tags": []
   },
   "outputs": [],
   "source": [
    "s = df[\"RPrice\"].sort_values(ascending=False)"
   ]
  },
  {
   "cell_type": "markdown",
   "metadata": {},
   "source": [
    "Notice how the index for the new Series `s` seems to be in a scrambled order now.  That is because the index has not been sorted, only the prices."
   ]
  },
  {
   "cell_type": "code",
   "execution_count": 18,
   "metadata": {
    "cell_id": "5cad2572983f499d8236dc26c340877b",
    "deepnote_cell_type": "code",
    "deepnote_to_be_reexecuted": false,
    "execution_millis": 7,
    "execution_start": 1664212556279,
    "source_hash": "465dd177",
    "tags": []
   },
   "outputs": [
    {
     "data": {
      "text/plain": [
       "5704    5.0\n",
       "4680    5.0\n",
       "3275    5.0\n",
       "4134    5.0\n",
       "2889    5.0\n",
       "       ... \n",
       "1491    1.0\n",
       "1837    1.0\n",
       "1054    1.0\n",
       "340     1.0\n",
       "2088    1.0\n",
       "Name: RPrice, Length: 6445, dtype: float64"
      ]
     },
     "execution_count": 18,
     "metadata": {},
     "output_type": "execute_result"
    }
   ],
   "source": [
    "s"
   ]
  },
  {
   "cell_type": "markdown",
   "metadata": {},
   "source": [
    "The `3.5` we saw earlier at the top still has the same label `0`, and if we call `s[0]`, we do not get the top element in `s`, instead we get the element (or theoretically elements) with label `0`."
   ]
  },
  {
   "cell_type": "code",
   "execution_count": 19,
   "metadata": {
    "cell_id": "288fc24c638e4d8ba1142a2eea21ae8b",
    "deepnote_cell_type": "code",
    "deepnote_to_be_reexecuted": false,
    "execution_millis": 23,
    "execution_start": 1664212575197,
    "source_hash": "2714c711",
    "tags": []
   },
   "outputs": [
    {
     "data": {
      "text/plain": [
       "3.5"
      ]
     },
     "execution_count": 19,
     "metadata": {},
     "output_type": "execute_result"
    }
   ],
   "source": [
    "s[0]"
   ]
  },
  {
   "cell_type": "markdown",
   "metadata": {},
   "source": [
    "The same goes for `loc`.  Think of `loc` as indexing by label and think of `iloc` as indexing by integer position."
   ]
  },
  {
   "cell_type": "code",
   "execution_count": 20,
   "metadata": {
    "cell_id": "db2539204ca94e8b804a9fc440e2331c",
    "deepnote_cell_type": "code",
    "deepnote_to_be_reexecuted": false,
    "execution_millis": 6,
    "execution_start": 1664212583469,
    "source_hash": "823ea29f",
    "tags": []
   },
   "outputs": [
    {
     "data": {
      "text/plain": [
       "3.5"
      ]
     },
     "execution_count": 20,
     "metadata": {},
     "output_type": "execute_result"
    }
   ],
   "source": [
    "s.loc[0]"
   ]
  },
  {
   "cell_type": "markdown",
   "metadata": {},
   "source": [
    "For this Series `s`, to get the top value, the indexing we need to use is `iloc`."
   ]
  },
  {
   "cell_type": "code",
   "execution_count": 21,
   "metadata": {
    "cell_id": "3ad1d3c918d74644ae7e0fb6d2dc1589",
    "deepnote_cell_type": "code",
    "deepnote_to_be_reexecuted": false,
    "execution_millis": 4,
    "execution_start": 1664212599846,
    "source_hash": "59cf50c3",
    "tags": []
   },
   "outputs": [
    {
     "data": {
      "text/plain": [
       "5.0"
      ]
     },
     "execution_count": 21,
     "metadata": {},
     "output_type": "execute_result"
    }
   ],
   "source": [
    "s.iloc[0]"
   ]
  },
  {
   "cell_type": "markdown",
   "metadata": {},
   "source": [
    "As an aside, if you need to access the labels directly, it is stored in the `index` attribute of the pandas Series."
   ]
  },
  {
   "cell_type": "code",
   "execution_count": 27,
   "metadata": {
    "cell_id": "b162465f486247e7ba159ad0ea6d247e",
    "deepnote_cell_type": "code",
    "deepnote_to_be_reexecuted": false,
    "execution_millis": 6,
    "execution_start": 1664212846488,
    "source_hash": "4a3a057a",
    "tags": []
   },
   "outputs": [
    {
     "data": {
      "text/plain": [
       "Int64Index([5704, 4680, 3275, 4134, 2889, 2635, 4152, 4868, 5795, 3191,\n",
       "            ...\n",
       "            1829, 1058, 1492, 1831, 1832, 1491, 1837, 1054,  340, 2088],\n",
       "           dtype='int64', length=6445)"
      ]
     },
     "execution_count": 27,
     "metadata": {},
     "output_type": "execute_result"
    }
   ],
   "source": [
    "s.index"
   ]
  },
  {
   "cell_type": "markdown",
   "metadata": {},
   "source": [
    "We'll see the exact same `loc` vs `iloc` distinction in the context of pandas DataFrames.  There also are some additional ways to index on DataFrames, related to the fact that DataFrames are two-dimensional objects, as opposed to Series which are one-dimensional objects."
   ]
  },
  {
   "cell_type": "markdown",
   "metadata": {
    "cell_id": "a1c80021e2bd4a42b49db1931791c89b",
    "deepnote_cell_type": "markdown",
    "tags": []
   },
   "source": [
    "## Indexing for pandas DataFrames\n",
    "\n",
    "The `loc` and `iloc` indexing works basically the same for pandas DataFrames.  Look down a few cells at our `df` DataFrame.  If we go to row `2` (counting from zero) and column `4` (counting from zero), do you agree that we reach the value `'Takis - Hot Chilli Pepper & Lime'`?  (Do not include the column names when you start counting, that should be considered as a header, and do not include the index (0, 1, 2, ...) at the left-most side when counting.)"
   ]
  },
  {
   "cell_type": "code",
   "execution_count": 23,
   "metadata": {
    "cell_id": "a8d04cd8f0e544b385c40148ac88a531",
    "deepnote_cell_type": "code",
    "deepnote_to_be_reexecuted": false,
    "execution_millis": 647,
    "execution_start": 1664212721619,
    "source_hash": "a212c56b",
    "tags": []
   },
   "outputs": [
    {
     "data": {
      "text/plain": [
       "'Takis - Hot Chilli Pepper & Lime'"
      ]
     },
     "execution_count": 23,
     "metadata": {},
     "output_type": "execute_result"
    }
   ],
   "source": [
    "df.iloc[2,4]"
   ]
  },
  {
   "cell_type": "markdown",
   "metadata": {},
   "source": [
    "If we instead want to index using the labels instead of the integer positions, then we use `loc` instead of `iloc`.  The row value stays the same since it is both the label and the integer position (that was what caused the confusion above with the `df[\"RPrice\"]` Series), but now the column value changes from the integer `4` to the string `\"Product\"`."
   ]
  },
  {
   "cell_type": "code",
   "execution_count": 25,
   "metadata": {
    "cell_id": "96a9bc485b67470888e255e36ae39ef8",
    "deepnote_cell_type": "code",
    "deepnote_to_be_reexecuted": false,
    "execution_millis": 147,
    "execution_start": 1664212778117,
    "source_hash": "c6dd200c",
    "tags": []
   },
   "outputs": [
    {
     "data": {
      "text/plain": [
       "'Takis - Hot Chilli Pepper & Lime'"
      ]
     },
     "execution_count": 25,
     "metadata": {},
     "output_type": "execute_result"
    }
   ],
   "source": [
    "df.loc[2,\"Product\"]"
   ]
  },
  {
   "cell_type": "code",
   "execution_count": 22,
   "metadata": {
    "cell_id": "80b55d24c54043068d658cda69298e5f",
    "deepnote_cell_type": "code",
    "deepnote_to_be_reexecuted": false,
    "execution_millis": 97,
    "execution_start": 1664212687934,
    "source_hash": "f804c160",
    "tags": [
     "output_scroll"
    ]
   },
   "outputs": [
    {
     "data": {
      "application/vnd.deepnote.dataframe.v3+json": {
       "column_count": 18,
       "columns": [
        {
         "dtype": "object",
         "name": "Status",
         "stats": {
          "categories": [
           {
            "count": 6444,
            "name": "Processed"
           },
           {
            "count": 1,
            "name": "Unlinked"
           }
          ],
          "nan_count": 0,
          "unique_count": 2
         }
        },
        {
         "dtype": "object",
         "name": "Device ID",
         "stats": {
          "categories": [
           {
            "count": 2568,
            "name": "VJ300320609"
           },
           {
            "count": 1922,
            "name": "VJ300320692"
           },
           {
            "count": 1955,
            "name": "3 others"
           }
          ],
          "nan_count": 0,
          "unique_count": 5
         }
        },
        {
         "dtype": "object",
         "name": "Location",
         "stats": {
          "categories": [
           {
            "count": 2568,
            "name": "GuttenPlans"
           },
           {
            "count": 1922,
            "name": "EB Public Library"
           },
           {
            "count": 1955,
            "name": "2 others"
           }
          ],
          "nan_count": 0,
          "unique_count": 4
         }
        },
        {
         "dtype": "object",
         "name": "Machine",
         "stats": {
          "categories": [
           {
            "count": 2568,
            "name": "GuttenPlans x1367"
           },
           {
            "count": 1922,
            "name": "EB Public Library x1380"
           },
           {
            "count": 1955,
            "name": "3 others"
           }
          ],
          "nan_count": 0,
          "unique_count": 5
         }
        },
        {
         "dtype": "object",
         "name": "Product",
         "stats": {
          "categories": [
           {
            "count": 517,
            "name": "Coca Cola - Zero Sugar"
           },
           {
            "count": 5924,
            "name": "169 others"
           },
           {
            "count": 4,
            "name": "Missing"
           }
          ],
          "nan_count": 4,
          "unique_count": 170
         }
        },
        {
         "dtype": "object",
         "name": "Category",
         "stats": {
          "categories": [
           {
            "count": 3428,
            "name": "Food"
           },
           {
            "count": 2832,
            "name": "3 others"
           },
           {
            "count": 185,
            "name": "Missing"
           }
          ],
          "nan_count": 185,
          "unique_count": 4
         }
        },
        {
         "dtype": "int64",
         "name": "Transaction",
         "stats": {
          "histogram": [
           {
            "bin_end": 14624593152.8,
            "bin_start": 14515778905,
            "count": 425
           },
           {
            "bin_end": 14733407400.6,
            "bin_start": 14624593152.8,
            "count": 455
           },
           {
            "bin_end": 14842221648.4,
            "bin_start": 14733407400.6,
            "count": 398
           },
           {
            "bin_end": 14951035896.2,
            "bin_start": 14842221648.4,
            "count": 582
           },
           {
            "bin_end": 15059850144,
            "bin_start": 14951035896.2,
            "count": 701
           },
           {
            "bin_end": 15168664391.8,
            "bin_start": 15059850144,
            "count": 672
           },
           {
            "bin_end": 15277478639.6,
            "bin_start": 15168664391.8,
            "count": 705
           },
           {
            "bin_end": 15386292887.4,
            "bin_start": 15277478639.6,
            "count": 917
           },
           {
            "bin_end": 15495107135.2,
            "bin_start": 15386292887.4,
            "count": 810
           },
           {
            "bin_end": 15603921383,
            "bin_start": 15495107135.2,
            "count": 780
           }
          ],
          "max": "15603921383",
          "min": "14515778905",
          "nan_count": 0,
          "unique_count": 6110
         }
        },
        {
         "dtype": "object",
         "name": "TransDate",
         "stats": {
          "categories": [
           {
            "count": 68,
            "name": "Thursday, July 14, 2022"
           },
           {
            "count": 65,
            "name": "Friday, July 1, 2022"
           },
           {
            "count": 6312,
            "name": "240 others"
           }
          ],
          "nan_count": 0,
          "unique_count": 242
         }
        },
        {
         "dtype": "object",
         "name": "Type",
         "stats": {
          "categories": [
           {
            "count": 4297,
            "name": "Cash"
           },
           {
            "count": 2148,
            "name": "Credit"
           }
          ],
          "nan_count": 0,
          "unique_count": 2
         }
        },
        {
         "dtype": "int64",
         "name": "RCoil",
         "stats": {
          "histogram": [
           {
            "bin_end": 115.5,
            "bin_start": 110,
            "count": 1092
           },
           {
            "bin_end": 121,
            "bin_start": 115.5,
            "count": 164
           },
           {
            "bin_end": 126.5,
            "bin_start": 121,
            "count": 1008
           },
           {
            "bin_end": 132,
            "bin_start": 126.5,
            "count": 176
           },
           {
            "bin_end": 137.5,
            "bin_start": 132,
            "count": 668
           },
           {
            "bin_end": 143,
            "bin_start": 137.5,
            "count": 1440
           },
           {
            "bin_end": 148.5,
            "bin_start": 143,
            "count": 1714
           },
           {
            "bin_end": 154,
            "bin_start": 148.5,
            "count": 58
           },
           {
            "bin_end": 159.5,
            "bin_start": 154,
            "count": 84
           },
           {
            "bin_end": 165,
            "bin_start": 159.5,
            "count": 41
           }
          ],
          "max": "165",
          "min": "110",
          "nan_count": 0,
          "unique_count": 45
         }
        },
        {
         "dtype": "float64",
         "name": "RPrice",
         "stats": {
          "histogram": [
           {
            "bin_end": 1.4,
            "bin_start": 1,
            "count": 595
           },
           {
            "bin_end": 1.8,
            "bin_start": 1.4,
            "count": 2985
           },
           {
            "bin_end": 2.2,
            "bin_start": 1.8,
            "count": 1174
           },
           {
            "bin_end": 2.6,
            "bin_start": 2.2,
            "count": 637
           },
           {
            "bin_end": 3,
            "bin_start": 2.6,
            "count": 194
           },
           {
            "bin_end": 3.4000000000000004,
            "bin_start": 3,
            "count": 544
           },
           {
            "bin_end": 3.8000000000000003,
            "bin_start": 3.4000000000000004,
            "count": 228
           },
           {
            "bin_end": 4.2,
            "bin_start": 3.8000000000000003,
            "count": 74
           },
           {
            "bin_end": 4.6,
            "bin_start": 4.2,
            "count": 4
           },
           {
            "bin_end": 5,
            "bin_start": 4.6,
            "count": 10
           }
          ],
          "max": "5.0",
          "min": "1.0",
          "nan_count": 0,
          "unique_count": 14
         }
        },
        {
         "dtype": "int64",
         "name": "RQty",
         "stats": {
          "histogram": [
           {
            "bin_end": 1.2,
            "bin_start": 1,
            "count": 6364
           },
           {
            "bin_end": 1.4,
            "bin_start": 1.2,
            "count": 0
           },
           {
            "bin_end": 1.6,
            "bin_start": 1.4,
            "count": 0
           },
           {
            "bin_end": 1.8,
            "bin_start": 1.6,
            "count": 0
           },
           {
            "bin_end": 2,
            "bin_start": 1.8,
            "count": 0
           },
           {
            "bin_end": 2.2,
            "bin_start": 2,
            "count": 76
           },
           {
            "bin_end": 2.4000000000000004,
            "bin_start": 2.2,
            "count": 0
           },
           {
            "bin_end": 2.6,
            "bin_start": 2.4000000000000004,
            "count": 0
           },
           {
            "bin_end": 2.8,
            "bin_start": 2.6,
            "count": 0
           },
           {
            "bin_end": 3,
            "bin_start": 2.8,
            "count": 5
           }
          ],
          "max": "3",
          "min": "1",
          "nan_count": 0,
          "unique_count": 3
         }
        },
        {
         "dtype": "int64",
         "name": "MCoil",
         "stats": {
          "histogram": [
           {
            "bin_end": 115.5,
            "bin_start": 110,
            "count": 1092
           },
           {
            "bin_end": 121,
            "bin_start": 115.5,
            "count": 164
           },
           {
            "bin_end": 126.5,
            "bin_start": 121,
            "count": 1008
           },
           {
            "bin_end": 132,
            "bin_start": 126.5,
            "count": 176
           },
           {
            "bin_end": 137.5,
            "bin_start": 132,
            "count": 668
           },
           {
            "bin_end": 143,
            "bin_start": 137.5,
            "count": 1440
           },
           {
            "bin_end": 148.5,
            "bin_start": 143,
            "count": 1714
           },
           {
            "bin_end": 154,
            "bin_start": 148.5,
            "count": 58
           },
           {
            "bin_end": 159.5,
            "bin_start": 154,
            "count": 84
           },
           {
            "bin_end": 165,
            "bin_start": 159.5,
            "count": 41
           }
          ],
          "max": "165",
          "min": "110",
          "nan_count": 0,
          "unique_count": 45
         }
        },
        {
         "dtype": "float64",
         "name": "MPrice",
         "stats": {
          "histogram": [
           {
            "bin_end": 1.4,
            "bin_start": 1,
            "count": 595
           },
           {
            "bin_end": 1.8,
            "bin_start": 1.4,
            "count": 2984
           },
           {
            "bin_end": 2.2,
            "bin_start": 1.8,
            "count": 1174
           },
           {
            "bin_end": 2.6,
            "bin_start": 2.2,
            "count": 637
           },
           {
            "bin_end": 3,
            "bin_start": 2.6,
            "count": 194
           },
           {
            "bin_end": 3.4000000000000004,
            "bin_start": 3,
            "count": 544
           },
           {
            "bin_end": 3.8000000000000003,
            "bin_start": 3.4000000000000004,
            "count": 228
           },
           {
            "bin_end": 4.2,
            "bin_start": 3.8000000000000003,
            "count": 74
           },
           {
            "bin_end": 4.6,
            "bin_start": 4.2,
            "count": 4
           },
           {
            "bin_end": 5,
            "bin_start": 4.6,
            "count": 10
           }
          ],
          "max": "5.0",
          "min": "1.0",
          "nan_count": 1,
          "unique_count": 14
         }
        },
        {
         "dtype": "int64",
         "name": "MQty",
         "stats": {
          "histogram": [
           {
            "bin_end": 1.2,
            "bin_start": 1,
            "count": 6364
           },
           {
            "bin_end": 1.4,
            "bin_start": 1.2,
            "count": 0
           },
           {
            "bin_end": 1.6,
            "bin_start": 1.4,
            "count": 0
           },
           {
            "bin_end": 1.8,
            "bin_start": 1.6,
            "count": 0
           },
           {
            "bin_end": 2,
            "bin_start": 1.8,
            "count": 0
           },
           {
            "bin_end": 2.2,
            "bin_start": 2,
            "count": 76
           },
           {
            "bin_end": 2.4000000000000004,
            "bin_start": 2.2,
            "count": 0
           },
           {
            "bin_end": 2.6,
            "bin_start": 2.4000000000000004,
            "count": 0
           },
           {
            "bin_end": 2.8,
            "bin_start": 2.6,
            "count": 0
           },
           {
            "bin_end": 3,
            "bin_start": 2.8,
            "count": 5
           }
          ],
          "max": "3",
          "min": "1",
          "nan_count": 0,
          "unique_count": 3
         }
        },
        {
         "dtype": "float64",
         "name": "LineTotal"
        },
        {
         "dtype": "float64",
         "name": "TransTotal"
        },
        {
         "dtype": "object",
         "name": "Prcd Date"
        },
        {
         "dtype": "int64",
         "name": "_deepnote_index_column"
        }
       ],
       "row_count": 6445,
       "rows": [
        {
         "Category": "Carbonated",
         "Device ID": "VJ300320611",
         "LineTotal": "3.5",
         "Location": "Brunswick Sq Mall",
         "MCoil": "148",
         "MPrice": "3.5",
         "MQty": "1",
         "Machine": "BSQ Mall x1366 - ATT",
         "Prcd Date": "1/1/2022",
         "Product": "Red Bull - Energy Drink - Sugar Free",
         "RCoil": "148",
         "RPrice": "3.5",
         "RQty": "1",
         "Status": "Processed",
         "TransDate": "Saturday, January 1, 2022",
         "TransTotal": "3.5",
         "Transaction": "14515778905",
         "Type": "Credit",
         "_deepnote_index_column": "0"
        },
        {
         "Category": "Carbonated",
         "Device ID": "VJ300320611",
         "LineTotal": "3.5",
         "Location": "Brunswick Sq Mall",
         "MCoil": "148",
         "MPrice": "3.5",
         "MQty": "1",
         "Machine": "BSQ Mall x1366 - ATT",
         "Prcd Date": "1/1/2022",
         "Product": "Red Bull - Energy Drink - Sugar Free",
         "RCoil": "148",
         "RPrice": "3.5",
         "RQty": "1",
         "Status": "Processed",
         "TransDate": "Saturday, January 1, 2022",
         "TransTotal": "5.0",
         "Transaction": "14516018629",
         "Type": "Credit",
         "_deepnote_index_column": "1"
        },
        {
         "Category": "Food",
         "Device ID": "VJ300320611",
         "LineTotal": "1.5",
         "Location": "Brunswick Sq Mall",
         "MCoil": "123",
         "MPrice": "1.5",
         "MQty": "1",
         "Machine": "BSQ Mall x1366 - ATT",
         "Prcd Date": "1/1/2022",
         "Product": "Takis - Hot Chilli Pepper & Lime",
         "RCoil": "123",
         "RPrice": "1.5",
         "RQty": "1",
         "Status": "Processed",
         "TransDate": "Saturday, January 1, 2022",
         "TransTotal": "5.0",
         "Transaction": "14516018629",
         "Type": "Credit",
         "_deepnote_index_column": "2"
        },
        {
         "Category": "Food",
         "Device ID": "VJ300320611",
         "LineTotal": "1.5",
         "Location": "Brunswick Sq Mall",
         "MCoil": "123",
         "MPrice": "1.5",
         "MQty": "1",
         "Machine": "BSQ Mall x1366 - ATT",
         "Prcd Date": "1/1/2022",
         "Product": "Takis - Hot Chilli Pepper & Lime",
         "RCoil": "123",
         "RPrice": "1.5",
         "RQty": "1",
         "Status": "Processed",
         "TransDate": "Saturday, January 1, 2022",
         "TransTotal": "1.5",
         "Transaction": "14516020373",
         "Type": "Credit",
         "_deepnote_index_column": "3"
        },
        {
         "Category": "Carbonated",
         "Device ID": "VJ300320611",
         "LineTotal": "3.5",
         "Location": "Brunswick Sq Mall",
         "MCoil": "148",
         "MPrice": "3.5",
         "MQty": "1",
         "Machine": "BSQ Mall x1366 - ATT",
         "Prcd Date": "1/1/2022",
         "Product": "Red Bull - Energy Drink - Sugar Free",
         "RCoil": "148",
         "RPrice": "3.5",
         "RQty": "1",
         "Status": "Processed",
         "TransDate": "Saturday, January 1, 2022",
         "TransTotal": "3.5",
         "Transaction": "14516021756",
         "Type": "Credit",
         "_deepnote_index_column": "4"
        },
        {
         "Category": "Non Carbonated",
         "Device ID": "VJ300205292",
         "LineTotal": "2.5",
         "Location": "Brunswick Sq Mall",
         "MCoil": "146",
         "MPrice": "2.5",
         "MQty": "1",
         "Machine": "BSQ Mall x1364 - Zales",
         "Prcd Date": "1/2/2022",
         "Product": "Bai Antioxidant - Brasilia BB",
         "RCoil": "146",
         "RPrice": "2.5",
         "RQty": "1",
         "Status": "Processed",
         "TransDate": "Sunday, January 2, 2022",
         "TransTotal": "2.5",
         "Transaction": "14517568743",
         "Type": "Cash",
         "_deepnote_index_column": "5"
        },
        {
         "Category": "Food",
         "Device ID": "VJ300205292",
         "LineTotal": "1.5",
         "Location": "Brunswick Sq Mall",
         "MCoil": "114",
         "MPrice": "1.5",
         "MQty": "1",
         "Machine": "BSQ Mall x1364 - Zales",
         "Prcd Date": "1/2/2022",
         "Product": "Miss Vickie's Potato Chip - Sea Salt & Vinega",
         "RCoil": "114",
         "RPrice": "1.5",
         "RQty": "1",
         "Status": "Processed",
         "TransDate": "Monday, January 3, 2022",
         "TransTotal": "1.5",
         "Transaction": "14518731524",
         "Type": "Cash",
         "_deepnote_index_column": "6"
        },
        {
         "Category": "Food",
         "Device ID": "VJ300320686",
         "LineTotal": "1.5",
         "Location": "Earle Asphalt",
         "MCoil": "110",
         "MPrice": "1.5",
         "MQty": "1",
         "Machine": "Earle Asphalt x1371",
         "Prcd Date": "1/3/2022",
         "Product": "Miss Vickie's Potato Chip - Lime & Cracked Pe",
         "RCoil": "110",
         "RPrice": "1.5",
         "RQty": "1",
         "Status": "Processed",
         "TransDate": "Monday, January 3, 2022",
         "TransTotal": "1.5",
         "Transaction": "14519162059",
         "Type": "Credit",
         "_deepnote_index_column": "7"
        },
        {
         "Category": "Carbonated",
         "Device ID": "VJ300320609",
         "LineTotal": "3.0",
         "Location": "GuttenPlans",
         "MCoil": "144",
         "MPrice": "3.0",
         "MQty": "1",
         "Machine": "GuttenPlans x1367",
         "Prcd Date": "1/3/2022",
         "Product": "Monster Energy Original",
         "RCoil": "144",
         "RPrice": "3.0",
         "RQty": "1",
         "Status": "Processed",
         "TransDate": "Monday, January 3, 2022",
         "TransTotal": "3.0",
         "Transaction": "14519670154",
         "Type": "Credit",
         "_deepnote_index_column": "8"
        },
        {
         "Category": "Food",
         "Device ID": "VJ300320686",
         "LineTotal": "2.5",
         "Location": "Earle Asphalt",
         "MCoil": "134",
         "MPrice": "2.5",
         "MQty": "1",
         "Machine": "Earle Asphalt x1371",
         "Prcd Date": "1/3/2022",
         "Product": "Seapoint Farms Dry Roasted Edamame - Wasabi",
         "RCoil": "134",
         "RPrice": "2.5",
         "RQty": "1",
         "Status": "Processed",
         "TransDate": "Monday, January 3, 2022",
         "TransTotal": "2.5",
         "Transaction": "14520315330",
         "Type": "Credit",
         "_deepnote_index_column": "9"
        }
       ]
      },
      "text/html": [
       "<div>\n",
       "<style scoped>\n",
       "    .dataframe tbody tr th:only-of-type {\n",
       "        vertical-align: middle;\n",
       "    }\n",
       "\n",
       "    .dataframe tbody tr th {\n",
       "        vertical-align: top;\n",
       "    }\n",
       "\n",
       "    .dataframe thead th {\n",
       "        text-align: right;\n",
       "    }\n",
       "</style>\n",
       "<table border=\"1\" class=\"dataframe\">\n",
       "  <thead>\n",
       "    <tr style=\"text-align: right;\">\n",
       "      <th></th>\n",
       "      <th>Status</th>\n",
       "      <th>Device ID</th>\n",
       "      <th>Location</th>\n",
       "      <th>Machine</th>\n",
       "      <th>Product</th>\n",
       "      <th>Category</th>\n",
       "      <th>Transaction</th>\n",
       "      <th>TransDate</th>\n",
       "      <th>Type</th>\n",
       "      <th>RCoil</th>\n",
       "      <th>RPrice</th>\n",
       "      <th>RQty</th>\n",
       "      <th>MCoil</th>\n",
       "      <th>MPrice</th>\n",
       "      <th>MQty</th>\n",
       "      <th>LineTotal</th>\n",
       "      <th>TransTotal</th>\n",
       "      <th>Prcd Date</th>\n",
       "    </tr>\n",
       "  </thead>\n",
       "  <tbody>\n",
       "    <tr>\n",
       "      <th>0</th>\n",
       "      <td>Processed</td>\n",
       "      <td>VJ300320611</td>\n",
       "      <td>Brunswick Sq Mall</td>\n",
       "      <td>BSQ Mall x1366 - ATT</td>\n",
       "      <td>Red Bull - Energy Drink - Sugar Free</td>\n",
       "      <td>Carbonated</td>\n",
       "      <td>14515778905</td>\n",
       "      <td>Saturday, January 1, 2022</td>\n",
       "      <td>Credit</td>\n",
       "      <td>148</td>\n",
       "      <td>3.5</td>\n",
       "      <td>1</td>\n",
       "      <td>148</td>\n",
       "      <td>3.5</td>\n",
       "      <td>1</td>\n",
       "      <td>3.5</td>\n",
       "      <td>3.5</td>\n",
       "      <td>1/1/2022</td>\n",
       "    </tr>\n",
       "    <tr>\n",
       "      <th>1</th>\n",
       "      <td>Processed</td>\n",
       "      <td>VJ300320611</td>\n",
       "      <td>Brunswick Sq Mall</td>\n",
       "      <td>BSQ Mall x1366 - ATT</td>\n",
       "      <td>Red Bull - Energy Drink - Sugar Free</td>\n",
       "      <td>Carbonated</td>\n",
       "      <td>14516018629</td>\n",
       "      <td>Saturday, January 1, 2022</td>\n",
       "      <td>Credit</td>\n",
       "      <td>148</td>\n",
       "      <td>3.5</td>\n",
       "      <td>1</td>\n",
       "      <td>148</td>\n",
       "      <td>3.5</td>\n",
       "      <td>1</td>\n",
       "      <td>3.5</td>\n",
       "      <td>5.0</td>\n",
       "      <td>1/1/2022</td>\n",
       "    </tr>\n",
       "    <tr>\n",
       "      <th>2</th>\n",
       "      <td>Processed</td>\n",
       "      <td>VJ300320611</td>\n",
       "      <td>Brunswick Sq Mall</td>\n",
       "      <td>BSQ Mall x1366 - ATT</td>\n",
       "      <td>Takis - Hot Chilli Pepper &amp; Lime</td>\n",
       "      <td>Food</td>\n",
       "      <td>14516018629</td>\n",
       "      <td>Saturday, January 1, 2022</td>\n",
       "      <td>Credit</td>\n",
       "      <td>123</td>\n",
       "      <td>1.5</td>\n",
       "      <td>1</td>\n",
       "      <td>123</td>\n",
       "      <td>1.5</td>\n",
       "      <td>1</td>\n",
       "      <td>1.5</td>\n",
       "      <td>5.0</td>\n",
       "      <td>1/1/2022</td>\n",
       "    </tr>\n",
       "    <tr>\n",
       "      <th>3</th>\n",
       "      <td>Processed</td>\n",
       "      <td>VJ300320611</td>\n",
       "      <td>Brunswick Sq Mall</td>\n",
       "      <td>BSQ Mall x1366 - ATT</td>\n",
       "      <td>Takis - Hot Chilli Pepper &amp; Lime</td>\n",
       "      <td>Food</td>\n",
       "      <td>14516020373</td>\n",
       "      <td>Saturday, January 1, 2022</td>\n",
       "      <td>Credit</td>\n",
       "      <td>123</td>\n",
       "      <td>1.5</td>\n",
       "      <td>1</td>\n",
       "      <td>123</td>\n",
       "      <td>1.5</td>\n",
       "      <td>1</td>\n",
       "      <td>1.5</td>\n",
       "      <td>1.5</td>\n",
       "      <td>1/1/2022</td>\n",
       "    </tr>\n",
       "    <tr>\n",
       "      <th>4</th>\n",
       "      <td>Processed</td>\n",
       "      <td>VJ300320611</td>\n",
       "      <td>Brunswick Sq Mall</td>\n",
       "      <td>BSQ Mall x1366 - ATT</td>\n",
       "      <td>Red Bull - Energy Drink - Sugar Free</td>\n",
       "      <td>Carbonated</td>\n",
       "      <td>14516021756</td>\n",
       "      <td>Saturday, January 1, 2022</td>\n",
       "      <td>Credit</td>\n",
       "      <td>148</td>\n",
       "      <td>3.5</td>\n",
       "      <td>1</td>\n",
       "      <td>148</td>\n",
       "      <td>3.5</td>\n",
       "      <td>1</td>\n",
       "      <td>3.5</td>\n",
       "      <td>3.5</td>\n",
       "      <td>1/1/2022</td>\n",
       "    </tr>\n",
       "    <tr>\n",
       "      <th>...</th>\n",
       "      <td>...</td>\n",
       "      <td>...</td>\n",
       "      <td>...</td>\n",
       "      <td>...</td>\n",
       "      <td>...</td>\n",
       "      <td>...</td>\n",
       "      <td>...</td>\n",
       "      <td>...</td>\n",
       "      <td>...</td>\n",
       "      <td>...</td>\n",
       "      <td>...</td>\n",
       "      <td>...</td>\n",
       "      <td>...</td>\n",
       "      <td>...</td>\n",
       "      <td>...</td>\n",
       "      <td>...</td>\n",
       "      <td>...</td>\n",
       "      <td>...</td>\n",
       "    </tr>\n",
       "    <tr>\n",
       "      <th>6440</th>\n",
       "      <td>Processed</td>\n",
       "      <td>VJ300320692</td>\n",
       "      <td>EB Public Library</td>\n",
       "      <td>EB Public Library x1380</td>\n",
       "      <td>Lindens - Chocolate Chippers</td>\n",
       "      <td>Food</td>\n",
       "      <td>15603201222</td>\n",
       "      <td>Wednesday, August 31, 2022</td>\n",
       "      <td>Credit</td>\n",
       "      <td>122</td>\n",
       "      <td>2.0</td>\n",
       "      <td>1</td>\n",
       "      <td>122</td>\n",
       "      <td>2.0</td>\n",
       "      <td>1</td>\n",
       "      <td>2.0</td>\n",
       "      <td>6.0</td>\n",
       "      <td>8/31/2022</td>\n",
       "    </tr>\n",
       "    <tr>\n",
       "      <th>6441</th>\n",
       "      <td>Processed</td>\n",
       "      <td>VJ300320692</td>\n",
       "      <td>EB Public Library</td>\n",
       "      <td>EB Public Library x1380</td>\n",
       "      <td>Wonderful Pistachios - Variety</td>\n",
       "      <td>Food</td>\n",
       "      <td>15603201222</td>\n",
       "      <td>Wednesday, August 31, 2022</td>\n",
       "      <td>Credit</td>\n",
       "      <td>131</td>\n",
       "      <td>2.0</td>\n",
       "      <td>1</td>\n",
       "      <td>131</td>\n",
       "      <td>2.0</td>\n",
       "      <td>1</td>\n",
       "      <td>2.0</td>\n",
       "      <td>6.0</td>\n",
       "      <td>8/31/2022</td>\n",
       "    </tr>\n",
       "    <tr>\n",
       "      <th>6442</th>\n",
       "      <td>Processed</td>\n",
       "      <td>VJ300320692</td>\n",
       "      <td>EB Public Library</td>\n",
       "      <td>EB Public Library x1380</td>\n",
       "      <td>Hungry Buddha - Chocolate Chip</td>\n",
       "      <td>Food</td>\n",
       "      <td>15603201222</td>\n",
       "      <td>Wednesday, August 31, 2022</td>\n",
       "      <td>Credit</td>\n",
       "      <td>137</td>\n",
       "      <td>2.0</td>\n",
       "      <td>1</td>\n",
       "      <td>137</td>\n",
       "      <td>2.0</td>\n",
       "      <td>1</td>\n",
       "      <td>2.0</td>\n",
       "      <td>6.0</td>\n",
       "      <td>8/31/2022</td>\n",
       "    </tr>\n",
       "    <tr>\n",
       "      <th>6443</th>\n",
       "      <td>Processed</td>\n",
       "      <td>VJ300320609</td>\n",
       "      <td>GuttenPlans</td>\n",
       "      <td>GuttenPlans x1367</td>\n",
       "      <td>Snapple Tea - Lemon</td>\n",
       "      <td>Non Carbonated</td>\n",
       "      <td>15603853105</td>\n",
       "      <td>Wednesday, August 31, 2022</td>\n",
       "      <td>Credit</td>\n",
       "      <td>145</td>\n",
       "      <td>2.5</td>\n",
       "      <td>1</td>\n",
       "      <td>145</td>\n",
       "      <td>2.5</td>\n",
       "      <td>1</td>\n",
       "      <td>2.5</td>\n",
       "      <td>2.5</td>\n",
       "      <td>8/31/2022</td>\n",
       "    </tr>\n",
       "    <tr>\n",
       "      <th>6444</th>\n",
       "      <td>Processed</td>\n",
       "      <td>VJ300320692</td>\n",
       "      <td>EB Public Library</td>\n",
       "      <td>EB Public Library x1380</td>\n",
       "      <td>Goldfish Baked - Cheddar</td>\n",
       "      <td>Food</td>\n",
       "      <td>15603921383</td>\n",
       "      <td>Wednesday, August 31, 2022</td>\n",
       "      <td>Cash</td>\n",
       "      <td>125</td>\n",
       "      <td>1.5</td>\n",
       "      <td>1</td>\n",
       "      <td>125</td>\n",
       "      <td>1.5</td>\n",
       "      <td>1</td>\n",
       "      <td>1.5</td>\n",
       "      <td>1.5</td>\n",
       "      <td>8/31/2022</td>\n",
       "    </tr>\n",
       "  </tbody>\n",
       "</table>\n",
       "<p>6445 rows × 18 columns</p>\n",
       "</div>"
      ],
      "text/plain": [
       "         Status    Device ID           Location                  Machine  \\\n",
       "0     Processed  VJ300320611  Brunswick Sq Mall     BSQ Mall x1366 - ATT   \n",
       "1     Processed  VJ300320611  Brunswick Sq Mall     BSQ Mall x1366 - ATT   \n",
       "2     Processed  VJ300320611  Brunswick Sq Mall     BSQ Mall x1366 - ATT   \n",
       "3     Processed  VJ300320611  Brunswick Sq Mall     BSQ Mall x1366 - ATT   \n",
       "4     Processed  VJ300320611  Brunswick Sq Mall     BSQ Mall x1366 - ATT   \n",
       "...         ...          ...                ...                      ...   \n",
       "6440  Processed  VJ300320692  EB Public Library  EB Public Library x1380   \n",
       "6441  Processed  VJ300320692  EB Public Library  EB Public Library x1380   \n",
       "6442  Processed  VJ300320692  EB Public Library  EB Public Library x1380   \n",
       "6443  Processed  VJ300320609        GuttenPlans        GuttenPlans x1367   \n",
       "6444  Processed  VJ300320692  EB Public Library  EB Public Library x1380   \n",
       "\n",
       "                                   Product        Category  Transaction  \\\n",
       "0     Red Bull - Energy Drink - Sugar Free      Carbonated  14515778905   \n",
       "1     Red Bull - Energy Drink - Sugar Free      Carbonated  14516018629   \n",
       "2         Takis - Hot Chilli Pepper & Lime            Food  14516018629   \n",
       "3         Takis - Hot Chilli Pepper & Lime            Food  14516020373   \n",
       "4     Red Bull - Energy Drink - Sugar Free      Carbonated  14516021756   \n",
       "...                                    ...             ...          ...   \n",
       "6440          Lindens - Chocolate Chippers            Food  15603201222   \n",
       "6441        Wonderful Pistachios - Variety            Food  15603201222   \n",
       "6442        Hungry Buddha - Chocolate Chip            Food  15603201222   \n",
       "6443                   Snapple Tea - Lemon  Non Carbonated  15603853105   \n",
       "6444              Goldfish Baked - Cheddar            Food  15603921383   \n",
       "\n",
       "                       TransDate    Type  RCoil  RPrice  RQty  MCoil  MPrice  \\\n",
       "0      Saturday, January 1, 2022  Credit    148     3.5     1    148     3.5   \n",
       "1      Saturday, January 1, 2022  Credit    148     3.5     1    148     3.5   \n",
       "2      Saturday, January 1, 2022  Credit    123     1.5     1    123     1.5   \n",
       "3      Saturday, January 1, 2022  Credit    123     1.5     1    123     1.5   \n",
       "4      Saturday, January 1, 2022  Credit    148     3.5     1    148     3.5   \n",
       "...                          ...     ...    ...     ...   ...    ...     ...   \n",
       "6440  Wednesday, August 31, 2022  Credit    122     2.0     1    122     2.0   \n",
       "6441  Wednesday, August 31, 2022  Credit    131     2.0     1    131     2.0   \n",
       "6442  Wednesday, August 31, 2022  Credit    137     2.0     1    137     2.0   \n",
       "6443  Wednesday, August 31, 2022  Credit    145     2.5     1    145     2.5   \n",
       "6444  Wednesday, August 31, 2022    Cash    125     1.5     1    125     1.5   \n",
       "\n",
       "      MQty  LineTotal  TransTotal  Prcd Date  \n",
       "0        1        3.5         3.5   1/1/2022  \n",
       "1        1        3.5         5.0   1/1/2022  \n",
       "2        1        1.5         5.0   1/1/2022  \n",
       "3        1        1.5         1.5   1/1/2022  \n",
       "4        1        3.5         3.5   1/1/2022  \n",
       "...    ...        ...         ...        ...  \n",
       "6440     1        2.0         6.0  8/31/2022  \n",
       "6441     1        2.0         6.0  8/31/2022  \n",
       "6442     1        2.0         6.0  8/31/2022  \n",
       "6443     1        2.5         2.5  8/31/2022  \n",
       "6444     1        1.5         1.5  8/31/2022  \n",
       "\n",
       "[6445 rows x 18 columns]"
      ]
     },
     "execution_count": 22,
     "metadata": {},
     "output_type": "execute_result"
    }
   ],
   "source": [
    "df"
   ]
  },
  {
   "cell_type": "markdown",
   "metadata": {},
   "source": [
    "At the very top of the DataFrame, we see the column names displayed.  It's often useful to have access to these column names, and they are stored in the DataFrame's `columns` attribute.  (Aside.  Notice that this `df.columns` is not a list nor a pandas Series nor any other data type we have met before.  Python is filled with many special-purpose types of objects.  This `df.columns` is a pandas Index object, but I don't think we will use any special features of this type of object in Math 10, so we will mostly ignore it.)"
   ]
  },
  {
   "cell_type": "code",
   "execution_count": 26,
   "metadata": {
    "cell_id": "1a824c6591124ecba7214a7c0125e54d",
    "deepnote_cell_type": "code",
    "deepnote_to_be_reexecuted": false,
    "execution_millis": 5,
    "execution_start": 1664212825125,
    "source_hash": "25d43fa0",
    "tags": []
   },
   "outputs": [
    {
     "data": {
      "text/plain": [
       "Index(['Status', 'Device ID', 'Location', 'Machine', 'Product', 'Category',\n",
       "       'Transaction', 'TransDate', 'Type', 'RCoil', 'RPrice', 'RQty', 'MCoil',\n",
       "       'MPrice', 'MQty', 'LineTotal', 'TransTotal', 'Prcd Date'],\n",
       "      dtype='object')"
      ]
     },
     "execution_count": 26,
     "metadata": {},
     "output_type": "execute_result"
    }
   ],
   "source": [
    "df.columns"
   ]
  },
  {
   "cell_type": "markdown",
   "metadata": {},
   "source": [
    "At the very left-hand side of the DataFrame, the row labels are displayed.  These labels are stored in the `index` attribute.  (Aside. I expected when I evaluated this to see something like `Index([0, 1, 2, 3, ..., 6443, 6445])`, but instead we see `RangeIndex(start=0, stop=6445, step=1)`.  The distinction is not important for us; presumably the one used by pandas in this case is more memory efficient, since it does not need to store all the explicit values.)\n",
    "\n",
    "These row labels are important, but we won't use them quite as often as we will use the column labels."
   ]
  },
  {
   "cell_type": "code",
   "execution_count": 28,
   "metadata": {
    "cell_id": "7b8c0e52f873447c92c423870257fae6",
    "deepnote_cell_type": "code",
    "deepnote_to_be_reexecuted": false,
    "execution_millis": 8,
    "execution_start": 1664212868916,
    "source_hash": "651ad380",
    "tags": []
   },
   "outputs": [
    {
     "data": {
      "text/plain": [
       "RangeIndex(start=0, stop=6445, step=1)"
      ]
     },
     "execution_count": 28,
     "metadata": {},
     "output_type": "execute_result"
    }
   ],
   "source": [
    "df.index"
   ]
  },
  {
   "cell_type": "markdown",
   "metadata": {},
   "source": [
    "Let's see some more types of indexing for pandas DataFrames.  There is no way to know how this works in advance.  Some of these conventions seem a little contradictory to me (the fact that some types of indexing access columns and some types of indexing access rows), and it's just something you need to memorize.\n",
    "\n",
    "If you want to access a sub-DataFrame containing only certain columns, you can pass a list of those column names.  Repetitions are fine.  Notice how we have two pairs of square brackets.  The outer pair starts the indexing, and the inner pair creates a Python list."
   ]
  },
  {
   "cell_type": "code",
   "execution_count": 29,
   "metadata": {
    "cell_id": "64961102f148435c8b4ddf2f8644d73e",
    "deepnote_cell_type": "code",
    "deepnote_to_be_reexecuted": false,
    "execution_millis": 3,
    "execution_start": 1664212929154,
    "source_hash": "4b485610",
    "tags": []
   },
   "outputs": [
    {
     "data": {
      "application/vnd.deepnote.dataframe.v3+json": {
       "column_count": 3,
       "columns": [
        {
         "dtype": "float64",
         "name": "RPrice",
         "stats": {
          "histogram": [
           {
            "bin_end": 1.4,
            "bin_start": 1,
            "count": 595
           },
           {
            "bin_end": 1.8,
            "bin_start": 1.4,
            "count": 2985
           },
           {
            "bin_end": 2.2,
            "bin_start": 1.8,
            "count": 1174
           },
           {
            "bin_end": 2.6,
            "bin_start": 2.2,
            "count": 637
           },
           {
            "bin_end": 3,
            "bin_start": 2.6,
            "count": 194
           },
           {
            "bin_end": 3.4000000000000004,
            "bin_start": 3,
            "count": 544
           },
           {
            "bin_end": 3.8000000000000003,
            "bin_start": 3.4000000000000004,
            "count": 228
           },
           {
            "bin_end": 4.2,
            "bin_start": 3.8000000000000003,
            "count": 74
           },
           {
            "bin_end": 4.6,
            "bin_start": 4.2,
            "count": 4
           },
           {
            "bin_end": 5,
            "bin_start": 4.6,
            "count": 10
           }
          ],
          "max": "5.0",
          "min": "1.0",
          "nan_count": 0,
          "unique_count": 14
         }
        },
        {
         "dtype": "float64",
         "name": "RPrice.1",
         "stats": {
          "histogram": [
           {
            "bin_end": 1.4,
            "bin_start": 1,
            "count": 595
           },
           {
            "bin_end": 1.8,
            "bin_start": 1.4,
            "count": 2985
           },
           {
            "bin_end": 2.2,
            "bin_start": 1.8,
            "count": 1174
           },
           {
            "bin_end": 2.6,
            "bin_start": 2.2,
            "count": 637
           },
           {
            "bin_end": 3,
            "bin_start": 2.6,
            "count": 194
           },
           {
            "bin_end": 3.4000000000000004,
            "bin_start": 3,
            "count": 544
           },
           {
            "bin_end": 3.8000000000000003,
            "bin_start": 3.4000000000000004,
            "count": 228
           },
           {
            "bin_end": 4.2,
            "bin_start": 3.8000000000000003,
            "count": 74
           },
           {
            "bin_end": 4.6,
            "bin_start": 4.2,
            "count": 4
           },
           {
            "bin_end": 5,
            "bin_start": 4.6,
            "count": 10
           }
          ],
          "max": "5.0",
          "min": "1.0",
          "nan_count": 0,
          "unique_count": 14
         }
        },
        {
         "dtype": "object",
         "name": "Location",
         "stats": {
          "categories": [
           {
            "count": 2568,
            "name": "GuttenPlans"
           },
           {
            "count": 1922,
            "name": "EB Public Library"
           },
           {
            "count": 1955,
            "name": "2 others"
           }
          ],
          "nan_count": 0,
          "unique_count": 4
         }
        },
        {
         "dtype": "int64",
         "name": "_deepnote_index_column"
        }
       ],
       "row_count": 6445,
       "rows": [
        {
         "Location": "Brunswick Sq Mall",
         "RPrice": "3.5",
         "RPrice.1": "3.5",
         "_deepnote_index_column": "0"
        },
        {
         "Location": "Brunswick Sq Mall",
         "RPrice": "3.5",
         "RPrice.1": "3.5",
         "_deepnote_index_column": "1"
        },
        {
         "Location": "Brunswick Sq Mall",
         "RPrice": "1.5",
         "RPrice.1": "1.5",
         "_deepnote_index_column": "2"
        },
        {
         "Location": "Brunswick Sq Mall",
         "RPrice": "1.5",
         "RPrice.1": "1.5",
         "_deepnote_index_column": "3"
        },
        {
         "Location": "Brunswick Sq Mall",
         "RPrice": "3.5",
         "RPrice.1": "3.5",
         "_deepnote_index_column": "4"
        },
        {
         "Location": "Brunswick Sq Mall",
         "RPrice": "2.5",
         "RPrice.1": "2.5",
         "_deepnote_index_column": "5"
        },
        {
         "Location": "Brunswick Sq Mall",
         "RPrice": "1.5",
         "RPrice.1": "1.5",
         "_deepnote_index_column": "6"
        },
        {
         "Location": "Earle Asphalt",
         "RPrice": "1.5",
         "RPrice.1": "1.5",
         "_deepnote_index_column": "7"
        },
        {
         "Location": "GuttenPlans",
         "RPrice": "3.0",
         "RPrice.1": "3.0",
         "_deepnote_index_column": "8"
        },
        {
         "Location": "Earle Asphalt",
         "RPrice": "2.5",
         "RPrice.1": "2.5",
         "_deepnote_index_column": "9"
        }
       ]
      },
      "text/html": [
       "<div>\n",
       "<style scoped>\n",
       "    .dataframe tbody tr th:only-of-type {\n",
       "        vertical-align: middle;\n",
       "    }\n",
       "\n",
       "    .dataframe tbody tr th {\n",
       "        vertical-align: top;\n",
       "    }\n",
       "\n",
       "    .dataframe thead th {\n",
       "        text-align: right;\n",
       "    }\n",
       "</style>\n",
       "<table border=\"1\" class=\"dataframe\">\n",
       "  <thead>\n",
       "    <tr style=\"text-align: right;\">\n",
       "      <th></th>\n",
       "      <th>RPrice</th>\n",
       "      <th>RPrice</th>\n",
       "      <th>Location</th>\n",
       "    </tr>\n",
       "  </thead>\n",
       "  <tbody>\n",
       "    <tr>\n",
       "      <th>0</th>\n",
       "      <td>3.5</td>\n",
       "      <td>3.5</td>\n",
       "      <td>Brunswick Sq Mall</td>\n",
       "    </tr>\n",
       "    <tr>\n",
       "      <th>1</th>\n",
       "      <td>3.5</td>\n",
       "      <td>3.5</td>\n",
       "      <td>Brunswick Sq Mall</td>\n",
       "    </tr>\n",
       "    <tr>\n",
       "      <th>2</th>\n",
       "      <td>1.5</td>\n",
       "      <td>1.5</td>\n",
       "      <td>Brunswick Sq Mall</td>\n",
       "    </tr>\n",
       "    <tr>\n",
       "      <th>3</th>\n",
       "      <td>1.5</td>\n",
       "      <td>1.5</td>\n",
       "      <td>Brunswick Sq Mall</td>\n",
       "    </tr>\n",
       "    <tr>\n",
       "      <th>4</th>\n",
       "      <td>3.5</td>\n",
       "      <td>3.5</td>\n",
       "      <td>Brunswick Sq Mall</td>\n",
       "    </tr>\n",
       "    <tr>\n",
       "      <th>...</th>\n",
       "      <td>...</td>\n",
       "      <td>...</td>\n",
       "      <td>...</td>\n",
       "    </tr>\n",
       "    <tr>\n",
       "      <th>6440</th>\n",
       "      <td>2.0</td>\n",
       "      <td>2.0</td>\n",
       "      <td>EB Public Library</td>\n",
       "    </tr>\n",
       "    <tr>\n",
       "      <th>6441</th>\n",
       "      <td>2.0</td>\n",
       "      <td>2.0</td>\n",
       "      <td>EB Public Library</td>\n",
       "    </tr>\n",
       "    <tr>\n",
       "      <th>6442</th>\n",
       "      <td>2.0</td>\n",
       "      <td>2.0</td>\n",
       "      <td>EB Public Library</td>\n",
       "    </tr>\n",
       "    <tr>\n",
       "      <th>6443</th>\n",
       "      <td>2.5</td>\n",
       "      <td>2.5</td>\n",
       "      <td>GuttenPlans</td>\n",
       "    </tr>\n",
       "    <tr>\n",
       "      <th>6444</th>\n",
       "      <td>1.5</td>\n",
       "      <td>1.5</td>\n",
       "      <td>EB Public Library</td>\n",
       "    </tr>\n",
       "  </tbody>\n",
       "</table>\n",
       "<p>6445 rows × 3 columns</p>\n",
       "</div>"
      ],
      "text/plain": [
       "      RPrice  RPrice           Location\n",
       "0        3.5     3.5  Brunswick Sq Mall\n",
       "1        3.5     3.5  Brunswick Sq Mall\n",
       "2        1.5     1.5  Brunswick Sq Mall\n",
       "3        1.5     1.5  Brunswick Sq Mall\n",
       "4        3.5     3.5  Brunswick Sq Mall\n",
       "...      ...     ...                ...\n",
       "6440     2.0     2.0  EB Public Library\n",
       "6441     2.0     2.0  EB Public Library\n",
       "6442     2.0     2.0  EB Public Library\n",
       "6443     2.5     2.5        GuttenPlans\n",
       "6444     1.5     1.5  EB Public Library\n",
       "\n",
       "[6445 rows x 3 columns]"
      ]
     },
     "execution_count": 29,
     "metadata": {},
     "output_type": "execute_result"
    }
   ],
   "source": [
    "df[[\"RPrice\", \"RPrice\", \"Location\"]]"
   ]
  },
  {
   "cell_type": "markdown",
   "metadata": {},
   "source": [
    "Here is an example of what is called *slicing*.  Notice how this accesses rows, not columns.  The following is short-hand for \"get the first 7 rows\"."
   ]
  },
  {
   "cell_type": "code",
   "execution_count": 31,
   "metadata": {
    "cell_id": "07fd37d6edfe4d32936223c67411e180",
    "deepnote_cell_type": "code",
    "deepnote_to_be_reexecuted": false,
    "execution_millis": 10,
    "execution_start": 1664213015962,
    "source_hash": "6980ee37",
    "tags": [
     "output_scroll"
    ]
   },
   "outputs": [
    {
     "data": {
      "application/vnd.deepnote.dataframe.v3+json": {
       "column_count": 18,
       "columns": [
        {
         "dtype": "object",
         "name": "Status",
         "stats": {
          "categories": [
           {
            "count": 7,
            "name": "Processed"
           }
          ],
          "nan_count": 0,
          "unique_count": 1
         }
        },
        {
         "dtype": "object",
         "name": "Device ID",
         "stats": {
          "categories": [
           {
            "count": 5,
            "name": "VJ300320611"
           },
           {
            "count": 2,
            "name": "VJ300205292"
           }
          ],
          "nan_count": 0,
          "unique_count": 2
         }
        },
        {
         "dtype": "object",
         "name": "Location",
         "stats": {
          "categories": [
           {
            "count": 7,
            "name": "Brunswick Sq Mall"
           }
          ],
          "nan_count": 0,
          "unique_count": 1
         }
        },
        {
         "dtype": "object",
         "name": "Machine",
         "stats": {
          "categories": [
           {
            "count": 5,
            "name": "BSQ Mall x1366 - ATT"
           },
           {
            "count": 2,
            "name": "BSQ Mall x1364 - Zales"
           }
          ],
          "nan_count": 0,
          "unique_count": 2
         }
        },
        {
         "dtype": "object",
         "name": "Product",
         "stats": {
          "categories": [
           {
            "count": 3,
            "name": "Red Bull - Energy Drink - Sugar Free"
           },
           {
            "count": 2,
            "name": "Takis - Hot Chilli Pepper & Lime"
           },
           {
            "count": 2,
            "name": "2 others"
           }
          ],
          "nan_count": 0,
          "unique_count": 4
         }
        },
        {
         "dtype": "object",
         "name": "Category",
         "stats": {
          "categories": [
           {
            "count": 3,
            "name": "Carbonated"
           },
           {
            "count": 3,
            "name": "Food"
           },
           {
            "count": 1,
            "name": "Non Carbonated"
           }
          ],
          "nan_count": 0,
          "unique_count": 3
         }
        },
        {
         "dtype": "int64",
         "name": "Transaction",
         "stats": {
          "histogram": [
           {
            "bin_end": 14516074166.9,
            "bin_start": 14515778905,
            "count": 5
           },
           {
            "bin_end": 14516369428.8,
            "bin_start": 14516074166.9,
            "count": 0
           },
           {
            "bin_end": 14516664690.7,
            "bin_start": 14516369428.8,
            "count": 0
           },
           {
            "bin_end": 14516959952.6,
            "bin_start": 14516664690.7,
            "count": 0
           },
           {
            "bin_end": 14517255214.5,
            "bin_start": 14516959952.6,
            "count": 0
           },
           {
            "bin_end": 14517550476.4,
            "bin_start": 14517255214.5,
            "count": 0
           },
           {
            "bin_end": 14517845738.3,
            "bin_start": 14517550476.4,
            "count": 1
           },
           {
            "bin_end": 14518141000.2,
            "bin_start": 14517845738.3,
            "count": 0
           },
           {
            "bin_end": 14518436262.1,
            "bin_start": 14518141000.2,
            "count": 0
           },
           {
            "bin_end": 14518731524,
            "bin_start": 14518436262.1,
            "count": 1
           }
          ],
          "max": "14518731524",
          "min": "14515778905",
          "nan_count": 0,
          "unique_count": 6
         }
        },
        {
         "dtype": "object",
         "name": "TransDate",
         "stats": {
          "categories": [
           {
            "count": 5,
            "name": "Saturday, January 1, 2022"
           },
           {
            "count": 1,
            "name": "Sunday, January 2, 2022"
           },
           {
            "count": 1,
            "name": "Monday, January 3, 2022"
           }
          ],
          "nan_count": 0,
          "unique_count": 3
         }
        },
        {
         "dtype": "object",
         "name": "Type",
         "stats": {
          "categories": [
           {
            "count": 5,
            "name": "Credit"
           },
           {
            "count": 2,
            "name": "Cash"
           }
          ],
          "nan_count": 0,
          "unique_count": 2
         }
        },
        {
         "dtype": "int64",
         "name": "RCoil",
         "stats": {
          "histogram": [
           {
            "bin_end": 117.4,
            "bin_start": 114,
            "count": 1
           },
           {
            "bin_end": 120.8,
            "bin_start": 117.4,
            "count": 0
           },
           {
            "bin_end": 124.2,
            "bin_start": 120.8,
            "count": 2
           },
           {
            "bin_end": 127.6,
            "bin_start": 124.2,
            "count": 0
           },
           {
            "bin_end": 131,
            "bin_start": 127.6,
            "count": 0
           },
           {
            "bin_end": 134.4,
            "bin_start": 131,
            "count": 0
           },
           {
            "bin_end": 137.8,
            "bin_start": 134.4,
            "count": 0
           },
           {
            "bin_end": 141.2,
            "bin_start": 137.8,
            "count": 0
           },
           {
            "bin_end": 144.6,
            "bin_start": 141.2,
            "count": 0
           },
           {
            "bin_end": 148,
            "bin_start": 144.6,
            "count": 4
           }
          ],
          "max": "148",
          "min": "114",
          "nan_count": 0,
          "unique_count": 4
         }
        },
        {
         "dtype": "float64",
         "name": "RPrice",
         "stats": {
          "histogram": [
           {
            "bin_end": 1.7,
            "bin_start": 1.5,
            "count": 3
           },
           {
            "bin_end": 1.9,
            "bin_start": 1.7,
            "count": 0
           },
           {
            "bin_end": 2.1,
            "bin_start": 1.9,
            "count": 0
           },
           {
            "bin_end": 2.3,
            "bin_start": 2.1,
            "count": 0
           },
           {
            "bin_end": 2.5,
            "bin_start": 2.3,
            "count": 0
           },
           {
            "bin_end": 2.7,
            "bin_start": 2.5,
            "count": 1
           },
           {
            "bin_end": 2.9000000000000004,
            "bin_start": 2.7,
            "count": 0
           },
           {
            "bin_end": 3.1,
            "bin_start": 2.9000000000000004,
            "count": 0
           },
           {
            "bin_end": 3.3,
            "bin_start": 3.1,
            "count": 0
           },
           {
            "bin_end": 3.5,
            "bin_start": 3.3,
            "count": 3
           }
          ],
          "max": "3.5",
          "min": "1.5",
          "nan_count": 0,
          "unique_count": 3
         }
        },
        {
         "dtype": "int64",
         "name": "RQty",
         "stats": {
          "histogram": [
           {
            "bin_end": 0.6,
            "bin_start": 0.5,
            "count": 0
           },
           {
            "bin_end": 0.7,
            "bin_start": 0.6,
            "count": 0
           },
           {
            "bin_end": 0.8,
            "bin_start": 0.7,
            "count": 0
           },
           {
            "bin_end": 0.9,
            "bin_start": 0.8,
            "count": 0
           },
           {
            "bin_end": 1,
            "bin_start": 0.9,
            "count": 0
           },
           {
            "bin_end": 1.1,
            "bin_start": 1,
            "count": 7
           },
           {
            "bin_end": 1.2000000000000002,
            "bin_start": 1.1,
            "count": 0
           },
           {
            "bin_end": 1.3,
            "bin_start": 1.2000000000000002,
            "count": 0
           },
           {
            "bin_end": 1.4,
            "bin_start": 1.3,
            "count": 0
           },
           {
            "bin_end": 1.5,
            "bin_start": 1.4,
            "count": 0
           }
          ],
          "max": "1",
          "min": "1",
          "nan_count": 0,
          "unique_count": 1
         }
        },
        {
         "dtype": "int64",
         "name": "MCoil",
         "stats": {
          "histogram": [
           {
            "bin_end": 117.4,
            "bin_start": 114,
            "count": 1
           },
           {
            "bin_end": 120.8,
            "bin_start": 117.4,
            "count": 0
           },
           {
            "bin_end": 124.2,
            "bin_start": 120.8,
            "count": 2
           },
           {
            "bin_end": 127.6,
            "bin_start": 124.2,
            "count": 0
           },
           {
            "bin_end": 131,
            "bin_start": 127.6,
            "count": 0
           },
           {
            "bin_end": 134.4,
            "bin_start": 131,
            "count": 0
           },
           {
            "bin_end": 137.8,
            "bin_start": 134.4,
            "count": 0
           },
           {
            "bin_end": 141.2,
            "bin_start": 137.8,
            "count": 0
           },
           {
            "bin_end": 144.6,
            "bin_start": 141.2,
            "count": 0
           },
           {
            "bin_end": 148,
            "bin_start": 144.6,
            "count": 4
           }
          ],
          "max": "148",
          "min": "114",
          "nan_count": 0,
          "unique_count": 4
         }
        },
        {
         "dtype": "float64",
         "name": "MPrice",
         "stats": {
          "histogram": [
           {
            "bin_end": 1.7,
            "bin_start": 1.5,
            "count": 3
           },
           {
            "bin_end": 1.9,
            "bin_start": 1.7,
            "count": 0
           },
           {
            "bin_end": 2.1,
            "bin_start": 1.9,
            "count": 0
           },
           {
            "bin_end": 2.3,
            "bin_start": 2.1,
            "count": 0
           },
           {
            "bin_end": 2.5,
            "bin_start": 2.3,
            "count": 0
           },
           {
            "bin_end": 2.7,
            "bin_start": 2.5,
            "count": 1
           },
           {
            "bin_end": 2.9000000000000004,
            "bin_start": 2.7,
            "count": 0
           },
           {
            "bin_end": 3.1,
            "bin_start": 2.9000000000000004,
            "count": 0
           },
           {
            "bin_end": 3.3,
            "bin_start": 3.1,
            "count": 0
           },
           {
            "bin_end": 3.5,
            "bin_start": 3.3,
            "count": 3
           }
          ],
          "max": "3.5",
          "min": "1.5",
          "nan_count": 0,
          "unique_count": 3
         }
        },
        {
         "dtype": "int64",
         "name": "MQty",
         "stats": {
          "histogram": [
           {
            "bin_end": 0.6,
            "bin_start": 0.5,
            "count": 0
           },
           {
            "bin_end": 0.7,
            "bin_start": 0.6,
            "count": 0
           },
           {
            "bin_end": 0.8,
            "bin_start": 0.7,
            "count": 0
           },
           {
            "bin_end": 0.9,
            "bin_start": 0.8,
            "count": 0
           },
           {
            "bin_end": 1,
            "bin_start": 0.9,
            "count": 0
           },
           {
            "bin_end": 1.1,
            "bin_start": 1,
            "count": 7
           },
           {
            "bin_end": 1.2000000000000002,
            "bin_start": 1.1,
            "count": 0
           },
           {
            "bin_end": 1.3,
            "bin_start": 1.2000000000000002,
            "count": 0
           },
           {
            "bin_end": 1.4,
            "bin_start": 1.3,
            "count": 0
           },
           {
            "bin_end": 1.5,
            "bin_start": 1.4,
            "count": 0
           }
          ],
          "max": "1",
          "min": "1",
          "nan_count": 0,
          "unique_count": 1
         }
        },
        {
         "dtype": "float64",
         "name": "LineTotal",
         "stats": {
          "histogram": [
           {
            "bin_end": 1.7,
            "bin_start": 1.5,
            "count": 3
           },
           {
            "bin_end": 1.9,
            "bin_start": 1.7,
            "count": 0
           },
           {
            "bin_end": 2.1,
            "bin_start": 1.9,
            "count": 0
           },
           {
            "bin_end": 2.3,
            "bin_start": 2.1,
            "count": 0
           },
           {
            "bin_end": 2.5,
            "bin_start": 2.3,
            "count": 0
           },
           {
            "bin_end": 2.7,
            "bin_start": 2.5,
            "count": 1
           },
           {
            "bin_end": 2.9000000000000004,
            "bin_start": 2.7,
            "count": 0
           },
           {
            "bin_end": 3.1,
            "bin_start": 2.9000000000000004,
            "count": 0
           },
           {
            "bin_end": 3.3,
            "bin_start": 3.1,
            "count": 0
           },
           {
            "bin_end": 3.5,
            "bin_start": 3.3,
            "count": 3
           }
          ],
          "max": "3.5",
          "min": "1.5",
          "nan_count": 0,
          "unique_count": 3
         }
        },
        {
         "dtype": "float64",
         "name": "TransTotal",
         "stats": {
          "histogram": [
           {
            "bin_end": 1.85,
            "bin_start": 1.5,
            "count": 2
           },
           {
            "bin_end": 2.2,
            "bin_start": 1.85,
            "count": 0
           },
           {
            "bin_end": 2.55,
            "bin_start": 2.2,
            "count": 1
           },
           {
            "bin_end": 2.9,
            "bin_start": 2.55,
            "count": 0
           },
           {
            "bin_end": 3.25,
            "bin_start": 2.9,
            "count": 0
           },
           {
            "bin_end": 3.5999999999999996,
            "bin_start": 3.25,
            "count": 2
           },
           {
            "bin_end": 3.9499999999999997,
            "bin_start": 3.5999999999999996,
            "count": 0
           },
           {
            "bin_end": 4.3,
            "bin_start": 3.9499999999999997,
            "count": 0
           },
           {
            "bin_end": 4.65,
            "bin_start": 4.3,
            "count": 0
           },
           {
            "bin_end": 5,
            "bin_start": 4.65,
            "count": 2
           }
          ],
          "max": "5.0",
          "min": "1.5",
          "nan_count": 0,
          "unique_count": 4
         }
        },
        {
         "dtype": "object",
         "name": "Prcd Date",
         "stats": {
          "categories": [
           {
            "count": 5,
            "name": "1/1/2022"
           },
           {
            "count": 2,
            "name": "1/2/2022"
           }
          ],
          "nan_count": 0,
          "unique_count": 2
         }
        },
        {
         "dtype": "int64",
         "name": "_deepnote_index_column"
        }
       ],
       "row_count": 7,
       "rows": [
        {
         "Category": "Carbonated",
         "Device ID": "VJ300320611",
         "LineTotal": "3.5",
         "Location": "Brunswick Sq Mall",
         "MCoil": "148",
         "MPrice": "3.5",
         "MQty": "1",
         "Machine": "BSQ Mall x1366 - ATT",
         "Prcd Date": "1/1/2022",
         "Product": "Red Bull - Energy Drink - Sugar Free",
         "RCoil": "148",
         "RPrice": "3.5",
         "RQty": "1",
         "Status": "Processed",
         "TransDate": "Saturday, January 1, 2022",
         "TransTotal": "3.5",
         "Transaction": "14515778905",
         "Type": "Credit",
         "_deepnote_index_column": "0"
        },
        {
         "Category": "Carbonated",
         "Device ID": "VJ300320611",
         "LineTotal": "3.5",
         "Location": "Brunswick Sq Mall",
         "MCoil": "148",
         "MPrice": "3.5",
         "MQty": "1",
         "Machine": "BSQ Mall x1366 - ATT",
         "Prcd Date": "1/1/2022",
         "Product": "Red Bull - Energy Drink - Sugar Free",
         "RCoil": "148",
         "RPrice": "3.5",
         "RQty": "1",
         "Status": "Processed",
         "TransDate": "Saturday, January 1, 2022",
         "TransTotal": "5.0",
         "Transaction": "14516018629",
         "Type": "Credit",
         "_deepnote_index_column": "1"
        },
        {
         "Category": "Food",
         "Device ID": "VJ300320611",
         "LineTotal": "1.5",
         "Location": "Brunswick Sq Mall",
         "MCoil": "123",
         "MPrice": "1.5",
         "MQty": "1",
         "Machine": "BSQ Mall x1366 - ATT",
         "Prcd Date": "1/1/2022",
         "Product": "Takis - Hot Chilli Pepper & Lime",
         "RCoil": "123",
         "RPrice": "1.5",
         "RQty": "1",
         "Status": "Processed",
         "TransDate": "Saturday, January 1, 2022",
         "TransTotal": "5.0",
         "Transaction": "14516018629",
         "Type": "Credit",
         "_deepnote_index_column": "2"
        },
        {
         "Category": "Food",
         "Device ID": "VJ300320611",
         "LineTotal": "1.5",
         "Location": "Brunswick Sq Mall",
         "MCoil": "123",
         "MPrice": "1.5",
         "MQty": "1",
         "Machine": "BSQ Mall x1366 - ATT",
         "Prcd Date": "1/1/2022",
         "Product": "Takis - Hot Chilli Pepper & Lime",
         "RCoil": "123",
         "RPrice": "1.5",
         "RQty": "1",
         "Status": "Processed",
         "TransDate": "Saturday, January 1, 2022",
         "TransTotal": "1.5",
         "Transaction": "14516020373",
         "Type": "Credit",
         "_deepnote_index_column": "3"
        },
        {
         "Category": "Carbonated",
         "Device ID": "VJ300320611",
         "LineTotal": "3.5",
         "Location": "Brunswick Sq Mall",
         "MCoil": "148",
         "MPrice": "3.5",
         "MQty": "1",
         "Machine": "BSQ Mall x1366 - ATT",
         "Prcd Date": "1/1/2022",
         "Product": "Red Bull - Energy Drink - Sugar Free",
         "RCoil": "148",
         "RPrice": "3.5",
         "RQty": "1",
         "Status": "Processed",
         "TransDate": "Saturday, January 1, 2022",
         "TransTotal": "3.5",
         "Transaction": "14516021756",
         "Type": "Credit",
         "_deepnote_index_column": "4"
        },
        {
         "Category": "Non Carbonated",
         "Device ID": "VJ300205292",
         "LineTotal": "2.5",
         "Location": "Brunswick Sq Mall",
         "MCoil": "146",
         "MPrice": "2.5",
         "MQty": "1",
         "Machine": "BSQ Mall x1364 - Zales",
         "Prcd Date": "1/2/2022",
         "Product": "Bai Antioxidant - Brasilia BB",
         "RCoil": "146",
         "RPrice": "2.5",
         "RQty": "1",
         "Status": "Processed",
         "TransDate": "Sunday, January 2, 2022",
         "TransTotal": "2.5",
         "Transaction": "14517568743",
         "Type": "Cash",
         "_deepnote_index_column": "5"
        },
        {
         "Category": "Food",
         "Device ID": "VJ300205292",
         "LineTotal": "1.5",
         "Location": "Brunswick Sq Mall",
         "MCoil": "114",
         "MPrice": "1.5",
         "MQty": "1",
         "Machine": "BSQ Mall x1364 - Zales",
         "Prcd Date": "1/2/2022",
         "Product": "Miss Vickie's Potato Chip - Sea Salt & Vinega",
         "RCoil": "114",
         "RPrice": "1.5",
         "RQty": "1",
         "Status": "Processed",
         "TransDate": "Monday, January 3, 2022",
         "TransTotal": "1.5",
         "Transaction": "14518731524",
         "Type": "Cash",
         "_deepnote_index_column": "6"
        }
       ]
      },
      "text/html": [
       "<div>\n",
       "<style scoped>\n",
       "    .dataframe tbody tr th:only-of-type {\n",
       "        vertical-align: middle;\n",
       "    }\n",
       "\n",
       "    .dataframe tbody tr th {\n",
       "        vertical-align: top;\n",
       "    }\n",
       "\n",
       "    .dataframe thead th {\n",
       "        text-align: right;\n",
       "    }\n",
       "</style>\n",
       "<table border=\"1\" class=\"dataframe\">\n",
       "  <thead>\n",
       "    <tr style=\"text-align: right;\">\n",
       "      <th></th>\n",
       "      <th>Status</th>\n",
       "      <th>Device ID</th>\n",
       "      <th>Location</th>\n",
       "      <th>Machine</th>\n",
       "      <th>Product</th>\n",
       "      <th>Category</th>\n",
       "      <th>Transaction</th>\n",
       "      <th>TransDate</th>\n",
       "      <th>Type</th>\n",
       "      <th>RCoil</th>\n",
       "      <th>RPrice</th>\n",
       "      <th>RQty</th>\n",
       "      <th>MCoil</th>\n",
       "      <th>MPrice</th>\n",
       "      <th>MQty</th>\n",
       "      <th>LineTotal</th>\n",
       "      <th>TransTotal</th>\n",
       "      <th>Prcd Date</th>\n",
       "    </tr>\n",
       "  </thead>\n",
       "  <tbody>\n",
       "    <tr>\n",
       "      <th>0</th>\n",
       "      <td>Processed</td>\n",
       "      <td>VJ300320611</td>\n",
       "      <td>Brunswick Sq Mall</td>\n",
       "      <td>BSQ Mall x1366 - ATT</td>\n",
       "      <td>Red Bull - Energy Drink - Sugar Free</td>\n",
       "      <td>Carbonated</td>\n",
       "      <td>14515778905</td>\n",
       "      <td>Saturday, January 1, 2022</td>\n",
       "      <td>Credit</td>\n",
       "      <td>148</td>\n",
       "      <td>3.5</td>\n",
       "      <td>1</td>\n",
       "      <td>148</td>\n",
       "      <td>3.5</td>\n",
       "      <td>1</td>\n",
       "      <td>3.5</td>\n",
       "      <td>3.5</td>\n",
       "      <td>1/1/2022</td>\n",
       "    </tr>\n",
       "    <tr>\n",
       "      <th>1</th>\n",
       "      <td>Processed</td>\n",
       "      <td>VJ300320611</td>\n",
       "      <td>Brunswick Sq Mall</td>\n",
       "      <td>BSQ Mall x1366 - ATT</td>\n",
       "      <td>Red Bull - Energy Drink - Sugar Free</td>\n",
       "      <td>Carbonated</td>\n",
       "      <td>14516018629</td>\n",
       "      <td>Saturday, January 1, 2022</td>\n",
       "      <td>Credit</td>\n",
       "      <td>148</td>\n",
       "      <td>3.5</td>\n",
       "      <td>1</td>\n",
       "      <td>148</td>\n",
       "      <td>3.5</td>\n",
       "      <td>1</td>\n",
       "      <td>3.5</td>\n",
       "      <td>5.0</td>\n",
       "      <td>1/1/2022</td>\n",
       "    </tr>\n",
       "    <tr>\n",
       "      <th>2</th>\n",
       "      <td>Processed</td>\n",
       "      <td>VJ300320611</td>\n",
       "      <td>Brunswick Sq Mall</td>\n",
       "      <td>BSQ Mall x1366 - ATT</td>\n",
       "      <td>Takis - Hot Chilli Pepper &amp; Lime</td>\n",
       "      <td>Food</td>\n",
       "      <td>14516018629</td>\n",
       "      <td>Saturday, January 1, 2022</td>\n",
       "      <td>Credit</td>\n",
       "      <td>123</td>\n",
       "      <td>1.5</td>\n",
       "      <td>1</td>\n",
       "      <td>123</td>\n",
       "      <td>1.5</td>\n",
       "      <td>1</td>\n",
       "      <td>1.5</td>\n",
       "      <td>5.0</td>\n",
       "      <td>1/1/2022</td>\n",
       "    </tr>\n",
       "    <tr>\n",
       "      <th>3</th>\n",
       "      <td>Processed</td>\n",
       "      <td>VJ300320611</td>\n",
       "      <td>Brunswick Sq Mall</td>\n",
       "      <td>BSQ Mall x1366 - ATT</td>\n",
       "      <td>Takis - Hot Chilli Pepper &amp; Lime</td>\n",
       "      <td>Food</td>\n",
       "      <td>14516020373</td>\n",
       "      <td>Saturday, January 1, 2022</td>\n",
       "      <td>Credit</td>\n",
       "      <td>123</td>\n",
       "      <td>1.5</td>\n",
       "      <td>1</td>\n",
       "      <td>123</td>\n",
       "      <td>1.5</td>\n",
       "      <td>1</td>\n",
       "      <td>1.5</td>\n",
       "      <td>1.5</td>\n",
       "      <td>1/1/2022</td>\n",
       "    </tr>\n",
       "    <tr>\n",
       "      <th>4</th>\n",
       "      <td>Processed</td>\n",
       "      <td>VJ300320611</td>\n",
       "      <td>Brunswick Sq Mall</td>\n",
       "      <td>BSQ Mall x1366 - ATT</td>\n",
       "      <td>Red Bull - Energy Drink - Sugar Free</td>\n",
       "      <td>Carbonated</td>\n",
       "      <td>14516021756</td>\n",
       "      <td>Saturday, January 1, 2022</td>\n",
       "      <td>Credit</td>\n",
       "      <td>148</td>\n",
       "      <td>3.5</td>\n",
       "      <td>1</td>\n",
       "      <td>148</td>\n",
       "      <td>3.5</td>\n",
       "      <td>1</td>\n",
       "      <td>3.5</td>\n",
       "      <td>3.5</td>\n",
       "      <td>1/1/2022</td>\n",
       "    </tr>\n",
       "    <tr>\n",
       "      <th>5</th>\n",
       "      <td>Processed</td>\n",
       "      <td>VJ300205292</td>\n",
       "      <td>Brunswick Sq Mall</td>\n",
       "      <td>BSQ Mall x1364 - Zales</td>\n",
       "      <td>Bai Antioxidant - Brasilia BB</td>\n",
       "      <td>Non Carbonated</td>\n",
       "      <td>14517568743</td>\n",
       "      <td>Sunday, January 2, 2022</td>\n",
       "      <td>Cash</td>\n",
       "      <td>146</td>\n",
       "      <td>2.5</td>\n",
       "      <td>1</td>\n",
       "      <td>146</td>\n",
       "      <td>2.5</td>\n",
       "      <td>1</td>\n",
       "      <td>2.5</td>\n",
       "      <td>2.5</td>\n",
       "      <td>1/2/2022</td>\n",
       "    </tr>\n",
       "    <tr>\n",
       "      <th>6</th>\n",
       "      <td>Processed</td>\n",
       "      <td>VJ300205292</td>\n",
       "      <td>Brunswick Sq Mall</td>\n",
       "      <td>BSQ Mall x1364 - Zales</td>\n",
       "      <td>Miss Vickie's Potato Chip - Sea Salt &amp; Vinega</td>\n",
       "      <td>Food</td>\n",
       "      <td>14518731524</td>\n",
       "      <td>Monday, January 3, 2022</td>\n",
       "      <td>Cash</td>\n",
       "      <td>114</td>\n",
       "      <td>1.5</td>\n",
       "      <td>1</td>\n",
       "      <td>114</td>\n",
       "      <td>1.5</td>\n",
       "      <td>1</td>\n",
       "      <td>1.5</td>\n",
       "      <td>1.5</td>\n",
       "      <td>1/2/2022</td>\n",
       "    </tr>\n",
       "  </tbody>\n",
       "</table>\n",
       "</div>"
      ],
      "text/plain": [
       "      Status    Device ID           Location                 Machine  \\\n",
       "0  Processed  VJ300320611  Brunswick Sq Mall    BSQ Mall x1366 - ATT   \n",
       "1  Processed  VJ300320611  Brunswick Sq Mall    BSQ Mall x1366 - ATT   \n",
       "2  Processed  VJ300320611  Brunswick Sq Mall    BSQ Mall x1366 - ATT   \n",
       "3  Processed  VJ300320611  Brunswick Sq Mall    BSQ Mall x1366 - ATT   \n",
       "4  Processed  VJ300320611  Brunswick Sq Mall    BSQ Mall x1366 - ATT   \n",
       "5  Processed  VJ300205292  Brunswick Sq Mall  BSQ Mall x1364 - Zales   \n",
       "6  Processed  VJ300205292  Brunswick Sq Mall  BSQ Mall x1364 - Zales   \n",
       "\n",
       "                                         Product        Category  Transaction  \\\n",
       "0           Red Bull - Energy Drink - Sugar Free      Carbonated  14515778905   \n",
       "1           Red Bull - Energy Drink - Sugar Free      Carbonated  14516018629   \n",
       "2               Takis - Hot Chilli Pepper & Lime            Food  14516018629   \n",
       "3               Takis - Hot Chilli Pepper & Lime            Food  14516020373   \n",
       "4           Red Bull - Energy Drink - Sugar Free      Carbonated  14516021756   \n",
       "5                  Bai Antioxidant - Brasilia BB  Non Carbonated  14517568743   \n",
       "6  Miss Vickie's Potato Chip - Sea Salt & Vinega            Food  14518731524   \n",
       "\n",
       "                   TransDate    Type  RCoil  RPrice  RQty  MCoil  MPrice  \\\n",
       "0  Saturday, January 1, 2022  Credit    148     3.5     1    148     3.5   \n",
       "1  Saturday, January 1, 2022  Credit    148     3.5     1    148     3.5   \n",
       "2  Saturday, January 1, 2022  Credit    123     1.5     1    123     1.5   \n",
       "3  Saturday, January 1, 2022  Credit    123     1.5     1    123     1.5   \n",
       "4  Saturday, January 1, 2022  Credit    148     3.5     1    148     3.5   \n",
       "5    Sunday, January 2, 2022    Cash    146     2.5     1    146     2.5   \n",
       "6    Monday, January 3, 2022    Cash    114     1.5     1    114     1.5   \n",
       "\n",
       "   MQty  LineTotal  TransTotal Prcd Date  \n",
       "0     1        3.5         3.5  1/1/2022  \n",
       "1     1        3.5         5.0  1/1/2022  \n",
       "2     1        1.5         5.0  1/1/2022  \n",
       "3     1        1.5         1.5  1/1/2022  \n",
       "4     1        3.5         3.5  1/1/2022  \n",
       "5     1        2.5         2.5  1/2/2022  \n",
       "6     1        1.5         1.5  1/2/2022  "
      ]
     },
     "execution_count": 31,
     "metadata": {},
     "output_type": "execute_result"
    }
   ],
   "source": [
    "df[:7]"
   ]
  },
  {
   "cell_type": "markdown",
   "metadata": {},
   "source": [
    "Above when we wrote `df[:7]`, that was an abbreviation for `df[0:7]`, so the following returns the exact same sub-DataFrame.  Related to the fact that numbering in Python starts at zero, when we specify endpoints in Python, usually the left endpoint is included but the right endpoint is not included.  In this case, the zeroth row is included but the seventh row (i.e., the row at integer position `7`, it would also be reasonable to call this the eighth row) is not."
   ]
  },
  {
   "cell_type": "code",
   "execution_count": 30,
   "metadata": {
    "cell_id": "eb0da613111f44a7a2fbef68f2b7540d",
    "deepnote_cell_type": "code",
    "deepnote_to_be_reexecuted": false,
    "execution_millis": 81,
    "execution_start": 1664212985581,
    "source_hash": "5b37370e",
    "tags": [
     "output_scroll"
    ]
   },
   "outputs": [
    {
     "data": {
      "application/vnd.deepnote.dataframe.v3+json": {
       "column_count": 18,
       "columns": [
        {
         "dtype": "object",
         "name": "Status",
         "stats": {
          "categories": [
           {
            "count": 7,
            "name": "Processed"
           }
          ],
          "nan_count": 0,
          "unique_count": 1
         }
        },
        {
         "dtype": "object",
         "name": "Device ID",
         "stats": {
          "categories": [
           {
            "count": 5,
            "name": "VJ300320611"
           },
           {
            "count": 2,
            "name": "VJ300205292"
           }
          ],
          "nan_count": 0,
          "unique_count": 2
         }
        },
        {
         "dtype": "object",
         "name": "Location",
         "stats": {
          "categories": [
           {
            "count": 7,
            "name": "Brunswick Sq Mall"
           }
          ],
          "nan_count": 0,
          "unique_count": 1
         }
        },
        {
         "dtype": "object",
         "name": "Machine",
         "stats": {
          "categories": [
           {
            "count": 5,
            "name": "BSQ Mall x1366 - ATT"
           },
           {
            "count": 2,
            "name": "BSQ Mall x1364 - Zales"
           }
          ],
          "nan_count": 0,
          "unique_count": 2
         }
        },
        {
         "dtype": "object",
         "name": "Product",
         "stats": {
          "categories": [
           {
            "count": 3,
            "name": "Red Bull - Energy Drink - Sugar Free"
           },
           {
            "count": 2,
            "name": "Takis - Hot Chilli Pepper & Lime"
           },
           {
            "count": 2,
            "name": "2 others"
           }
          ],
          "nan_count": 0,
          "unique_count": 4
         }
        },
        {
         "dtype": "object",
         "name": "Category",
         "stats": {
          "categories": [
           {
            "count": 3,
            "name": "Carbonated"
           },
           {
            "count": 3,
            "name": "Food"
           },
           {
            "count": 1,
            "name": "Non Carbonated"
           }
          ],
          "nan_count": 0,
          "unique_count": 3
         }
        },
        {
         "dtype": "int64",
         "name": "Transaction",
         "stats": {
          "histogram": [
           {
            "bin_end": 14516074166.9,
            "bin_start": 14515778905,
            "count": 5
           },
           {
            "bin_end": 14516369428.8,
            "bin_start": 14516074166.9,
            "count": 0
           },
           {
            "bin_end": 14516664690.7,
            "bin_start": 14516369428.8,
            "count": 0
           },
           {
            "bin_end": 14516959952.6,
            "bin_start": 14516664690.7,
            "count": 0
           },
           {
            "bin_end": 14517255214.5,
            "bin_start": 14516959952.6,
            "count": 0
           },
           {
            "bin_end": 14517550476.4,
            "bin_start": 14517255214.5,
            "count": 0
           },
           {
            "bin_end": 14517845738.3,
            "bin_start": 14517550476.4,
            "count": 1
           },
           {
            "bin_end": 14518141000.2,
            "bin_start": 14517845738.3,
            "count": 0
           },
           {
            "bin_end": 14518436262.1,
            "bin_start": 14518141000.2,
            "count": 0
           },
           {
            "bin_end": 14518731524,
            "bin_start": 14518436262.1,
            "count": 1
           }
          ],
          "max": "14518731524",
          "min": "14515778905",
          "nan_count": 0,
          "unique_count": 6
         }
        },
        {
         "dtype": "object",
         "name": "TransDate",
         "stats": {
          "categories": [
           {
            "count": 5,
            "name": "Saturday, January 1, 2022"
           },
           {
            "count": 1,
            "name": "Sunday, January 2, 2022"
           },
           {
            "count": 1,
            "name": "Monday, January 3, 2022"
           }
          ],
          "nan_count": 0,
          "unique_count": 3
         }
        },
        {
         "dtype": "object",
         "name": "Type",
         "stats": {
          "categories": [
           {
            "count": 5,
            "name": "Credit"
           },
           {
            "count": 2,
            "name": "Cash"
           }
          ],
          "nan_count": 0,
          "unique_count": 2
         }
        },
        {
         "dtype": "int64",
         "name": "RCoil",
         "stats": {
          "histogram": [
           {
            "bin_end": 117.4,
            "bin_start": 114,
            "count": 1
           },
           {
            "bin_end": 120.8,
            "bin_start": 117.4,
            "count": 0
           },
           {
            "bin_end": 124.2,
            "bin_start": 120.8,
            "count": 2
           },
           {
            "bin_end": 127.6,
            "bin_start": 124.2,
            "count": 0
           },
           {
            "bin_end": 131,
            "bin_start": 127.6,
            "count": 0
           },
           {
            "bin_end": 134.4,
            "bin_start": 131,
            "count": 0
           },
           {
            "bin_end": 137.8,
            "bin_start": 134.4,
            "count": 0
           },
           {
            "bin_end": 141.2,
            "bin_start": 137.8,
            "count": 0
           },
           {
            "bin_end": 144.6,
            "bin_start": 141.2,
            "count": 0
           },
           {
            "bin_end": 148,
            "bin_start": 144.6,
            "count": 4
           }
          ],
          "max": "148",
          "min": "114",
          "nan_count": 0,
          "unique_count": 4
         }
        },
        {
         "dtype": "float64",
         "name": "RPrice",
         "stats": {
          "histogram": [
           {
            "bin_end": 1.7,
            "bin_start": 1.5,
            "count": 3
           },
           {
            "bin_end": 1.9,
            "bin_start": 1.7,
            "count": 0
           },
           {
            "bin_end": 2.1,
            "bin_start": 1.9,
            "count": 0
           },
           {
            "bin_end": 2.3,
            "bin_start": 2.1,
            "count": 0
           },
           {
            "bin_end": 2.5,
            "bin_start": 2.3,
            "count": 0
           },
           {
            "bin_end": 2.7,
            "bin_start": 2.5,
            "count": 1
           },
           {
            "bin_end": 2.9000000000000004,
            "bin_start": 2.7,
            "count": 0
           },
           {
            "bin_end": 3.1,
            "bin_start": 2.9000000000000004,
            "count": 0
           },
           {
            "bin_end": 3.3,
            "bin_start": 3.1,
            "count": 0
           },
           {
            "bin_end": 3.5,
            "bin_start": 3.3,
            "count": 3
           }
          ],
          "max": "3.5",
          "min": "1.5",
          "nan_count": 0,
          "unique_count": 3
         }
        },
        {
         "dtype": "int64",
         "name": "RQty",
         "stats": {
          "histogram": [
           {
            "bin_end": 0.6,
            "bin_start": 0.5,
            "count": 0
           },
           {
            "bin_end": 0.7,
            "bin_start": 0.6,
            "count": 0
           },
           {
            "bin_end": 0.8,
            "bin_start": 0.7,
            "count": 0
           },
           {
            "bin_end": 0.9,
            "bin_start": 0.8,
            "count": 0
           },
           {
            "bin_end": 1,
            "bin_start": 0.9,
            "count": 0
           },
           {
            "bin_end": 1.1,
            "bin_start": 1,
            "count": 7
           },
           {
            "bin_end": 1.2000000000000002,
            "bin_start": 1.1,
            "count": 0
           },
           {
            "bin_end": 1.3,
            "bin_start": 1.2000000000000002,
            "count": 0
           },
           {
            "bin_end": 1.4,
            "bin_start": 1.3,
            "count": 0
           },
           {
            "bin_end": 1.5,
            "bin_start": 1.4,
            "count": 0
           }
          ],
          "max": "1",
          "min": "1",
          "nan_count": 0,
          "unique_count": 1
         }
        },
        {
         "dtype": "int64",
         "name": "MCoil",
         "stats": {
          "histogram": [
           {
            "bin_end": 117.4,
            "bin_start": 114,
            "count": 1
           },
           {
            "bin_end": 120.8,
            "bin_start": 117.4,
            "count": 0
           },
           {
            "bin_end": 124.2,
            "bin_start": 120.8,
            "count": 2
           },
           {
            "bin_end": 127.6,
            "bin_start": 124.2,
            "count": 0
           },
           {
            "bin_end": 131,
            "bin_start": 127.6,
            "count": 0
           },
           {
            "bin_end": 134.4,
            "bin_start": 131,
            "count": 0
           },
           {
            "bin_end": 137.8,
            "bin_start": 134.4,
            "count": 0
           },
           {
            "bin_end": 141.2,
            "bin_start": 137.8,
            "count": 0
           },
           {
            "bin_end": 144.6,
            "bin_start": 141.2,
            "count": 0
           },
           {
            "bin_end": 148,
            "bin_start": 144.6,
            "count": 4
           }
          ],
          "max": "148",
          "min": "114",
          "nan_count": 0,
          "unique_count": 4
         }
        },
        {
         "dtype": "float64",
         "name": "MPrice",
         "stats": {
          "histogram": [
           {
            "bin_end": 1.7,
            "bin_start": 1.5,
            "count": 3
           },
           {
            "bin_end": 1.9,
            "bin_start": 1.7,
            "count": 0
           },
           {
            "bin_end": 2.1,
            "bin_start": 1.9,
            "count": 0
           },
           {
            "bin_end": 2.3,
            "bin_start": 2.1,
            "count": 0
           },
           {
            "bin_end": 2.5,
            "bin_start": 2.3,
            "count": 0
           },
           {
            "bin_end": 2.7,
            "bin_start": 2.5,
            "count": 1
           },
           {
            "bin_end": 2.9000000000000004,
            "bin_start": 2.7,
            "count": 0
           },
           {
            "bin_end": 3.1,
            "bin_start": 2.9000000000000004,
            "count": 0
           },
           {
            "bin_end": 3.3,
            "bin_start": 3.1,
            "count": 0
           },
           {
            "bin_end": 3.5,
            "bin_start": 3.3,
            "count": 3
           }
          ],
          "max": "3.5",
          "min": "1.5",
          "nan_count": 0,
          "unique_count": 3
         }
        },
        {
         "dtype": "int64",
         "name": "MQty",
         "stats": {
          "histogram": [
           {
            "bin_end": 0.6,
            "bin_start": 0.5,
            "count": 0
           },
           {
            "bin_end": 0.7,
            "bin_start": 0.6,
            "count": 0
           },
           {
            "bin_end": 0.8,
            "bin_start": 0.7,
            "count": 0
           },
           {
            "bin_end": 0.9,
            "bin_start": 0.8,
            "count": 0
           },
           {
            "bin_end": 1,
            "bin_start": 0.9,
            "count": 0
           },
           {
            "bin_end": 1.1,
            "bin_start": 1,
            "count": 7
           },
           {
            "bin_end": 1.2000000000000002,
            "bin_start": 1.1,
            "count": 0
           },
           {
            "bin_end": 1.3,
            "bin_start": 1.2000000000000002,
            "count": 0
           },
           {
            "bin_end": 1.4,
            "bin_start": 1.3,
            "count": 0
           },
           {
            "bin_end": 1.5,
            "bin_start": 1.4,
            "count": 0
           }
          ],
          "max": "1",
          "min": "1",
          "nan_count": 0,
          "unique_count": 1
         }
        },
        {
         "dtype": "float64",
         "name": "LineTotal",
         "stats": {
          "histogram": [
           {
            "bin_end": 1.7,
            "bin_start": 1.5,
            "count": 3
           },
           {
            "bin_end": 1.9,
            "bin_start": 1.7,
            "count": 0
           },
           {
            "bin_end": 2.1,
            "bin_start": 1.9,
            "count": 0
           },
           {
            "bin_end": 2.3,
            "bin_start": 2.1,
            "count": 0
           },
           {
            "bin_end": 2.5,
            "bin_start": 2.3,
            "count": 0
           },
           {
            "bin_end": 2.7,
            "bin_start": 2.5,
            "count": 1
           },
           {
            "bin_end": 2.9000000000000004,
            "bin_start": 2.7,
            "count": 0
           },
           {
            "bin_end": 3.1,
            "bin_start": 2.9000000000000004,
            "count": 0
           },
           {
            "bin_end": 3.3,
            "bin_start": 3.1,
            "count": 0
           },
           {
            "bin_end": 3.5,
            "bin_start": 3.3,
            "count": 3
           }
          ],
          "max": "3.5",
          "min": "1.5",
          "nan_count": 0,
          "unique_count": 3
         }
        },
        {
         "dtype": "float64",
         "name": "TransTotal",
         "stats": {
          "histogram": [
           {
            "bin_end": 1.85,
            "bin_start": 1.5,
            "count": 2
           },
           {
            "bin_end": 2.2,
            "bin_start": 1.85,
            "count": 0
           },
           {
            "bin_end": 2.55,
            "bin_start": 2.2,
            "count": 1
           },
           {
            "bin_end": 2.9,
            "bin_start": 2.55,
            "count": 0
           },
           {
            "bin_end": 3.25,
            "bin_start": 2.9,
            "count": 0
           },
           {
            "bin_end": 3.5999999999999996,
            "bin_start": 3.25,
            "count": 2
           },
           {
            "bin_end": 3.9499999999999997,
            "bin_start": 3.5999999999999996,
            "count": 0
           },
           {
            "bin_end": 4.3,
            "bin_start": 3.9499999999999997,
            "count": 0
           },
           {
            "bin_end": 4.65,
            "bin_start": 4.3,
            "count": 0
           },
           {
            "bin_end": 5,
            "bin_start": 4.65,
            "count": 2
           }
          ],
          "max": "5.0",
          "min": "1.5",
          "nan_count": 0,
          "unique_count": 4
         }
        },
        {
         "dtype": "object",
         "name": "Prcd Date",
         "stats": {
          "categories": [
           {
            "count": 5,
            "name": "1/1/2022"
           },
           {
            "count": 2,
            "name": "1/2/2022"
           }
          ],
          "nan_count": 0,
          "unique_count": 2
         }
        },
        {
         "dtype": "int64",
         "name": "_deepnote_index_column"
        }
       ],
       "row_count": 7,
       "rows": [
        {
         "Category": "Carbonated",
         "Device ID": "VJ300320611",
         "LineTotal": "3.5",
         "Location": "Brunswick Sq Mall",
         "MCoil": "148",
         "MPrice": "3.5",
         "MQty": "1",
         "Machine": "BSQ Mall x1366 - ATT",
         "Prcd Date": "1/1/2022",
         "Product": "Red Bull - Energy Drink - Sugar Free",
         "RCoil": "148",
         "RPrice": "3.5",
         "RQty": "1",
         "Status": "Processed",
         "TransDate": "Saturday, January 1, 2022",
         "TransTotal": "3.5",
         "Transaction": "14515778905",
         "Type": "Credit",
         "_deepnote_index_column": "0"
        },
        {
         "Category": "Carbonated",
         "Device ID": "VJ300320611",
         "LineTotal": "3.5",
         "Location": "Brunswick Sq Mall",
         "MCoil": "148",
         "MPrice": "3.5",
         "MQty": "1",
         "Machine": "BSQ Mall x1366 - ATT",
         "Prcd Date": "1/1/2022",
         "Product": "Red Bull - Energy Drink - Sugar Free",
         "RCoil": "148",
         "RPrice": "3.5",
         "RQty": "1",
         "Status": "Processed",
         "TransDate": "Saturday, January 1, 2022",
         "TransTotal": "5.0",
         "Transaction": "14516018629",
         "Type": "Credit",
         "_deepnote_index_column": "1"
        },
        {
         "Category": "Food",
         "Device ID": "VJ300320611",
         "LineTotal": "1.5",
         "Location": "Brunswick Sq Mall",
         "MCoil": "123",
         "MPrice": "1.5",
         "MQty": "1",
         "Machine": "BSQ Mall x1366 - ATT",
         "Prcd Date": "1/1/2022",
         "Product": "Takis - Hot Chilli Pepper & Lime",
         "RCoil": "123",
         "RPrice": "1.5",
         "RQty": "1",
         "Status": "Processed",
         "TransDate": "Saturday, January 1, 2022",
         "TransTotal": "5.0",
         "Transaction": "14516018629",
         "Type": "Credit",
         "_deepnote_index_column": "2"
        },
        {
         "Category": "Food",
         "Device ID": "VJ300320611",
         "LineTotal": "1.5",
         "Location": "Brunswick Sq Mall",
         "MCoil": "123",
         "MPrice": "1.5",
         "MQty": "1",
         "Machine": "BSQ Mall x1366 - ATT",
         "Prcd Date": "1/1/2022",
         "Product": "Takis - Hot Chilli Pepper & Lime",
         "RCoil": "123",
         "RPrice": "1.5",
         "RQty": "1",
         "Status": "Processed",
         "TransDate": "Saturday, January 1, 2022",
         "TransTotal": "1.5",
         "Transaction": "14516020373",
         "Type": "Credit",
         "_deepnote_index_column": "3"
        },
        {
         "Category": "Carbonated",
         "Device ID": "VJ300320611",
         "LineTotal": "3.5",
         "Location": "Brunswick Sq Mall",
         "MCoil": "148",
         "MPrice": "3.5",
         "MQty": "1",
         "Machine": "BSQ Mall x1366 - ATT",
         "Prcd Date": "1/1/2022",
         "Product": "Red Bull - Energy Drink - Sugar Free",
         "RCoil": "148",
         "RPrice": "3.5",
         "RQty": "1",
         "Status": "Processed",
         "TransDate": "Saturday, January 1, 2022",
         "TransTotal": "3.5",
         "Transaction": "14516021756",
         "Type": "Credit",
         "_deepnote_index_column": "4"
        },
        {
         "Category": "Non Carbonated",
         "Device ID": "VJ300205292",
         "LineTotal": "2.5",
         "Location": "Brunswick Sq Mall",
         "MCoil": "146",
         "MPrice": "2.5",
         "MQty": "1",
         "Machine": "BSQ Mall x1364 - Zales",
         "Prcd Date": "1/2/2022",
         "Product": "Bai Antioxidant - Brasilia BB",
         "RCoil": "146",
         "RPrice": "2.5",
         "RQty": "1",
         "Status": "Processed",
         "TransDate": "Sunday, January 2, 2022",
         "TransTotal": "2.5",
         "Transaction": "14517568743",
         "Type": "Cash",
         "_deepnote_index_column": "5"
        },
        {
         "Category": "Food",
         "Device ID": "VJ300205292",
         "LineTotal": "1.5",
         "Location": "Brunswick Sq Mall",
         "MCoil": "114",
         "MPrice": "1.5",
         "MQty": "1",
         "Machine": "BSQ Mall x1364 - Zales",
         "Prcd Date": "1/2/2022",
         "Product": "Miss Vickie's Potato Chip - Sea Salt & Vinega",
         "RCoil": "114",
         "RPrice": "1.5",
         "RQty": "1",
         "Status": "Processed",
         "TransDate": "Monday, January 3, 2022",
         "TransTotal": "1.5",
         "Transaction": "14518731524",
         "Type": "Cash",
         "_deepnote_index_column": "6"
        }
       ]
      },
      "text/html": [
       "<div>\n",
       "<style scoped>\n",
       "    .dataframe tbody tr th:only-of-type {\n",
       "        vertical-align: middle;\n",
       "    }\n",
       "\n",
       "    .dataframe tbody tr th {\n",
       "        vertical-align: top;\n",
       "    }\n",
       "\n",
       "    .dataframe thead th {\n",
       "        text-align: right;\n",
       "    }\n",
       "</style>\n",
       "<table border=\"1\" class=\"dataframe\">\n",
       "  <thead>\n",
       "    <tr style=\"text-align: right;\">\n",
       "      <th></th>\n",
       "      <th>Status</th>\n",
       "      <th>Device ID</th>\n",
       "      <th>Location</th>\n",
       "      <th>Machine</th>\n",
       "      <th>Product</th>\n",
       "      <th>Category</th>\n",
       "      <th>Transaction</th>\n",
       "      <th>TransDate</th>\n",
       "      <th>Type</th>\n",
       "      <th>RCoil</th>\n",
       "      <th>RPrice</th>\n",
       "      <th>RQty</th>\n",
       "      <th>MCoil</th>\n",
       "      <th>MPrice</th>\n",
       "      <th>MQty</th>\n",
       "      <th>LineTotal</th>\n",
       "      <th>TransTotal</th>\n",
       "      <th>Prcd Date</th>\n",
       "    </tr>\n",
       "  </thead>\n",
       "  <tbody>\n",
       "    <tr>\n",
       "      <th>0</th>\n",
       "      <td>Processed</td>\n",
       "      <td>VJ300320611</td>\n",
       "      <td>Brunswick Sq Mall</td>\n",
       "      <td>BSQ Mall x1366 - ATT</td>\n",
       "      <td>Red Bull - Energy Drink - Sugar Free</td>\n",
       "      <td>Carbonated</td>\n",
       "      <td>14515778905</td>\n",
       "      <td>Saturday, January 1, 2022</td>\n",
       "      <td>Credit</td>\n",
       "      <td>148</td>\n",
       "      <td>3.5</td>\n",
       "      <td>1</td>\n",
       "      <td>148</td>\n",
       "      <td>3.5</td>\n",
       "      <td>1</td>\n",
       "      <td>3.5</td>\n",
       "      <td>3.5</td>\n",
       "      <td>1/1/2022</td>\n",
       "    </tr>\n",
       "    <tr>\n",
       "      <th>1</th>\n",
       "      <td>Processed</td>\n",
       "      <td>VJ300320611</td>\n",
       "      <td>Brunswick Sq Mall</td>\n",
       "      <td>BSQ Mall x1366 - ATT</td>\n",
       "      <td>Red Bull - Energy Drink - Sugar Free</td>\n",
       "      <td>Carbonated</td>\n",
       "      <td>14516018629</td>\n",
       "      <td>Saturday, January 1, 2022</td>\n",
       "      <td>Credit</td>\n",
       "      <td>148</td>\n",
       "      <td>3.5</td>\n",
       "      <td>1</td>\n",
       "      <td>148</td>\n",
       "      <td>3.5</td>\n",
       "      <td>1</td>\n",
       "      <td>3.5</td>\n",
       "      <td>5.0</td>\n",
       "      <td>1/1/2022</td>\n",
       "    </tr>\n",
       "    <tr>\n",
       "      <th>2</th>\n",
       "      <td>Processed</td>\n",
       "      <td>VJ300320611</td>\n",
       "      <td>Brunswick Sq Mall</td>\n",
       "      <td>BSQ Mall x1366 - ATT</td>\n",
       "      <td>Takis - Hot Chilli Pepper &amp; Lime</td>\n",
       "      <td>Food</td>\n",
       "      <td>14516018629</td>\n",
       "      <td>Saturday, January 1, 2022</td>\n",
       "      <td>Credit</td>\n",
       "      <td>123</td>\n",
       "      <td>1.5</td>\n",
       "      <td>1</td>\n",
       "      <td>123</td>\n",
       "      <td>1.5</td>\n",
       "      <td>1</td>\n",
       "      <td>1.5</td>\n",
       "      <td>5.0</td>\n",
       "      <td>1/1/2022</td>\n",
       "    </tr>\n",
       "    <tr>\n",
       "      <th>3</th>\n",
       "      <td>Processed</td>\n",
       "      <td>VJ300320611</td>\n",
       "      <td>Brunswick Sq Mall</td>\n",
       "      <td>BSQ Mall x1366 - ATT</td>\n",
       "      <td>Takis - Hot Chilli Pepper &amp; Lime</td>\n",
       "      <td>Food</td>\n",
       "      <td>14516020373</td>\n",
       "      <td>Saturday, January 1, 2022</td>\n",
       "      <td>Credit</td>\n",
       "      <td>123</td>\n",
       "      <td>1.5</td>\n",
       "      <td>1</td>\n",
       "      <td>123</td>\n",
       "      <td>1.5</td>\n",
       "      <td>1</td>\n",
       "      <td>1.5</td>\n",
       "      <td>1.5</td>\n",
       "      <td>1/1/2022</td>\n",
       "    </tr>\n",
       "    <tr>\n",
       "      <th>4</th>\n",
       "      <td>Processed</td>\n",
       "      <td>VJ300320611</td>\n",
       "      <td>Brunswick Sq Mall</td>\n",
       "      <td>BSQ Mall x1366 - ATT</td>\n",
       "      <td>Red Bull - Energy Drink - Sugar Free</td>\n",
       "      <td>Carbonated</td>\n",
       "      <td>14516021756</td>\n",
       "      <td>Saturday, January 1, 2022</td>\n",
       "      <td>Credit</td>\n",
       "      <td>148</td>\n",
       "      <td>3.5</td>\n",
       "      <td>1</td>\n",
       "      <td>148</td>\n",
       "      <td>3.5</td>\n",
       "      <td>1</td>\n",
       "      <td>3.5</td>\n",
       "      <td>3.5</td>\n",
       "      <td>1/1/2022</td>\n",
       "    </tr>\n",
       "    <tr>\n",
       "      <th>5</th>\n",
       "      <td>Processed</td>\n",
       "      <td>VJ300205292</td>\n",
       "      <td>Brunswick Sq Mall</td>\n",
       "      <td>BSQ Mall x1364 - Zales</td>\n",
       "      <td>Bai Antioxidant - Brasilia BB</td>\n",
       "      <td>Non Carbonated</td>\n",
       "      <td>14517568743</td>\n",
       "      <td>Sunday, January 2, 2022</td>\n",
       "      <td>Cash</td>\n",
       "      <td>146</td>\n",
       "      <td>2.5</td>\n",
       "      <td>1</td>\n",
       "      <td>146</td>\n",
       "      <td>2.5</td>\n",
       "      <td>1</td>\n",
       "      <td>2.5</td>\n",
       "      <td>2.5</td>\n",
       "      <td>1/2/2022</td>\n",
       "    </tr>\n",
       "    <tr>\n",
       "      <th>6</th>\n",
       "      <td>Processed</td>\n",
       "      <td>VJ300205292</td>\n",
       "      <td>Brunswick Sq Mall</td>\n",
       "      <td>BSQ Mall x1364 - Zales</td>\n",
       "      <td>Miss Vickie's Potato Chip - Sea Salt &amp; Vinega</td>\n",
       "      <td>Food</td>\n",
       "      <td>14518731524</td>\n",
       "      <td>Monday, January 3, 2022</td>\n",
       "      <td>Cash</td>\n",
       "      <td>114</td>\n",
       "      <td>1.5</td>\n",
       "      <td>1</td>\n",
       "      <td>114</td>\n",
       "      <td>1.5</td>\n",
       "      <td>1</td>\n",
       "      <td>1.5</td>\n",
       "      <td>1.5</td>\n",
       "      <td>1/2/2022</td>\n",
       "    </tr>\n",
       "  </tbody>\n",
       "</table>\n",
       "</div>"
      ],
      "text/plain": [
       "      Status    Device ID           Location                 Machine  \\\n",
       "0  Processed  VJ300320611  Brunswick Sq Mall    BSQ Mall x1366 - ATT   \n",
       "1  Processed  VJ300320611  Brunswick Sq Mall    BSQ Mall x1366 - ATT   \n",
       "2  Processed  VJ300320611  Brunswick Sq Mall    BSQ Mall x1366 - ATT   \n",
       "3  Processed  VJ300320611  Brunswick Sq Mall    BSQ Mall x1366 - ATT   \n",
       "4  Processed  VJ300320611  Brunswick Sq Mall    BSQ Mall x1366 - ATT   \n",
       "5  Processed  VJ300205292  Brunswick Sq Mall  BSQ Mall x1364 - Zales   \n",
       "6  Processed  VJ300205292  Brunswick Sq Mall  BSQ Mall x1364 - Zales   \n",
       "\n",
       "                                         Product        Category  Transaction  \\\n",
       "0           Red Bull - Energy Drink - Sugar Free      Carbonated  14515778905   \n",
       "1           Red Bull - Energy Drink - Sugar Free      Carbonated  14516018629   \n",
       "2               Takis - Hot Chilli Pepper & Lime            Food  14516018629   \n",
       "3               Takis - Hot Chilli Pepper & Lime            Food  14516020373   \n",
       "4           Red Bull - Energy Drink - Sugar Free      Carbonated  14516021756   \n",
       "5                  Bai Antioxidant - Brasilia BB  Non Carbonated  14517568743   \n",
       "6  Miss Vickie's Potato Chip - Sea Salt & Vinega            Food  14518731524   \n",
       "\n",
       "                   TransDate    Type  RCoil  RPrice  RQty  MCoil  MPrice  \\\n",
       "0  Saturday, January 1, 2022  Credit    148     3.5     1    148     3.5   \n",
       "1  Saturday, January 1, 2022  Credit    148     3.5     1    148     3.5   \n",
       "2  Saturday, January 1, 2022  Credit    123     1.5     1    123     1.5   \n",
       "3  Saturday, January 1, 2022  Credit    123     1.5     1    123     1.5   \n",
       "4  Saturday, January 1, 2022  Credit    148     3.5     1    148     3.5   \n",
       "5    Sunday, January 2, 2022    Cash    146     2.5     1    146     2.5   \n",
       "6    Monday, January 3, 2022    Cash    114     1.5     1    114     1.5   \n",
       "\n",
       "   MQty  LineTotal  TransTotal Prcd Date  \n",
       "0     1        3.5         3.5  1/1/2022  \n",
       "1     1        3.5         5.0  1/1/2022  \n",
       "2     1        1.5         5.0  1/1/2022  \n",
       "3     1        1.5         1.5  1/1/2022  \n",
       "4     1        3.5         3.5  1/1/2022  \n",
       "5     1        2.5         2.5  1/2/2022  \n",
       "6     1        1.5         1.5  1/2/2022  "
      ]
     },
     "execution_count": 30,
     "metadata": {},
     "output_type": "execute_result"
    }
   ],
   "source": [
    "df[0:7]"
   ]
  },
  {
   "cell_type": "markdown",
   "metadata": {},
   "source": [
    "Let's confirm that we really are getting seven rows.  If you call the function `len` on a pandas DataFrame, you get the number of rows.  (That's different from the Matlab convention.  In Matlab, calling `length` returns the length of the longest dimension.)"
   ]
  },
  {
   "cell_type": "code",
   "execution_count": 32,
   "metadata": {
    "cell_id": "44f561bc0af8483c814aca47a1fae6f4",
    "deepnote_cell_type": "code",
    "deepnote_to_be_reexecuted": false,
    "execution_millis": 6,
    "execution_start": 1664213049805,
    "source_hash": "93dcb8d3",
    "tags": []
   },
   "outputs": [
    {
     "data": {
      "text/plain": [
       "7"
      ]
     },
     "execution_count": 32,
     "metadata": {},
     "output_type": "execute_result"
    }
   ],
   "source": [
    "len(df[:7])"
   ]
  },
  {
   "cell_type": "markdown",
   "metadata": {},
   "source": [
    "Another way to find the number of rows is to first get the tuple representing the shape of the DataFrame."
   ]
  },
  {
   "cell_type": "code",
   "execution_count": 33,
   "metadata": {
    "cell_id": "2edc02e6860f401a82ff05b16d662ef4",
    "deepnote_cell_type": "code",
    "deepnote_to_be_reexecuted": false,
    "execution_millis": 376,
    "execution_start": 1664213061552,
    "source_hash": "64856fe",
    "tags": []
   },
   "outputs": [
    {
     "data": {
      "text/plain": [
       "(7, 18)"
      ]
     },
     "execution_count": 33,
     "metadata": {},
     "output_type": "execute_result"
    }
   ],
   "source": [
    "df[:7].shape"
   ]
  },
  {
   "cell_type": "markdown",
   "metadata": {},
   "source": [
    "And then get the zeroth element out of this tuple, which represents the number of rows.  (If instead we used `.shape[1]`, that would get the number of columns.)"
   ]
  },
  {
   "cell_type": "code",
   "execution_count": 34,
   "metadata": {
    "cell_id": "afeacdc6f8ce4eeabb87faacf4a1abad",
    "deepnote_cell_type": "code",
    "deepnote_to_be_reexecuted": false,
    "execution_millis": 7,
    "execution_start": 1664213071825,
    "source_hash": "f80312b5",
    "tags": []
   },
   "outputs": [
    {
     "data": {
      "text/plain": [
       "7"
      ]
     },
     "execution_count": 34,
     "metadata": {},
     "output_type": "execute_result"
    }
   ],
   "source": [
    "df[:7].shape[0]"
   ]
  },
  {
   "cell_type": "markdown",
   "metadata": {
    "cell_id": "ed642ad5fadb4c01b1e08884850b8f67",
    "deepnote_cell_type": "markdown",
    "tags": []
   },
   "source": [
    "## Boolean indexing\n",
    "\n",
    "The most powerful type of indexing for us will be what is called *Boolean indexing*.  Let's see an example on a smaller DataFrame.  Here we make `df2` by hand, instead of by reading in the contents of a csv file.  This isn't the most important part of this section, but I'll just point out that we are passing a dictionary to the DataFrame constructor function, `pd.DataFrame`.  The keys in this dictionary will be the column names, and the values in this dictionary will be the values in the columns.  There are many other things we could pass to `pd.DataFrame` instead of a dictionary."
   ]
  },
  {
   "cell_type": "code",
   "execution_count": 35,
   "metadata": {
    "cell_id": "13c2333d38f64df2a69cd1c878bf329c",
    "deepnote_cell_type": "code",
    "deepnote_to_be_reexecuted": false,
    "execution_millis": 1,
    "execution_start": 1664213116547,
    "source_hash": "d5f97d0a",
    "tags": []
   },
   "outputs": [],
   "source": [
    "df2 = pd.DataFrame({\n",
    "    \"A\": [5,1,6,1,2,3,8],\n",
    "    \"B\": [2,4,2,8,3,-1,0],\n",
    "    \"C\": [5, 1.1, 3.4, 5.5, 2.1, 4.2, -3.5]\n",
    "})"
   ]
  },
  {
   "cell_type": "markdown",
   "metadata": {},
   "source": [
    "Here is the resulting DataFrame, `df2`."
   ]
  },
  {
   "cell_type": "code",
   "execution_count": 36,
   "metadata": {
    "cell_id": "4966fe47e21140a6aab46fa69561a680",
    "deepnote_cell_type": "code",
    "deepnote_to_be_reexecuted": false,
    "execution_millis": 12,
    "execution_start": 1664213140028,
    "source_hash": "caa55e2e",
    "tags": []
   },
   "outputs": [
    {
     "data": {
      "application/vnd.deepnote.dataframe.v3+json": {
       "column_count": 3,
       "columns": [
        {
         "dtype": "int64",
         "name": "A",
         "stats": {
          "histogram": [
           {
            "bin_end": 1.7,
            "bin_start": 1,
            "count": 2
           },
           {
            "bin_end": 2.4,
            "bin_start": 1.7,
            "count": 1
           },
           {
            "bin_end": 3.0999999999999996,
            "bin_start": 2.4,
            "count": 1
           },
           {
            "bin_end": 3.8,
            "bin_start": 3.0999999999999996,
            "count": 0
           },
           {
            "bin_end": 4.5,
            "bin_start": 3.8,
            "count": 0
           },
           {
            "bin_end": 5.199999999999999,
            "bin_start": 4.5,
            "count": 1
           },
           {
            "bin_end": 5.8999999999999995,
            "bin_start": 5.199999999999999,
            "count": 0
           },
           {
            "bin_end": 6.6,
            "bin_start": 5.8999999999999995,
            "count": 1
           },
           {
            "bin_end": 7.3,
            "bin_start": 6.6,
            "count": 0
           },
           {
            "bin_end": 8,
            "bin_start": 7.3,
            "count": 1
           }
          ],
          "max": "8",
          "min": "1",
          "nan_count": 0,
          "unique_count": 6
         }
        },
        {
         "dtype": "int64",
         "name": "B",
         "stats": {
          "histogram": [
           {
            "bin_end": -0.09999999999999998,
            "bin_start": -1,
            "count": 1
           },
           {
            "bin_end": 0.8,
            "bin_start": -0.09999999999999998,
            "count": 1
           },
           {
            "bin_end": 1.7000000000000002,
            "bin_start": 0.8,
            "count": 0
           },
           {
            "bin_end": 2.6,
            "bin_start": 1.7000000000000002,
            "count": 2
           },
           {
            "bin_end": 3.5,
            "bin_start": 2.6,
            "count": 1
           },
           {
            "bin_end": 4.4,
            "bin_start": 3.5,
            "count": 1
           },
           {
            "bin_end": 5.3,
            "bin_start": 4.4,
            "count": 0
           },
           {
            "bin_end": 6.2,
            "bin_start": 5.3,
            "count": 0
           },
           {
            "bin_end": 7.1,
            "bin_start": 6.2,
            "count": 0
           },
           {
            "bin_end": 8,
            "bin_start": 7.1,
            "count": 1
           }
          ],
          "max": "8",
          "min": "-1",
          "nan_count": 0,
          "unique_count": 6
         }
        },
        {
         "dtype": "float64",
         "name": "C",
         "stats": {
          "histogram": [
           {
            "bin_end": -2.6,
            "bin_start": -3.5,
            "count": 1
           },
           {
            "bin_end": -1.7,
            "bin_start": -2.6,
            "count": 0
           },
           {
            "bin_end": -0.7999999999999998,
            "bin_start": -1.7,
            "count": 0
           },
           {
            "bin_end": 0.10000000000000009,
            "bin_start": -0.7999999999999998,
            "count": 0
           },
           {
            "bin_end": 1,
            "bin_start": 0.10000000000000009,
            "count": 0
           },
           {
            "bin_end": 1.9000000000000004,
            "bin_start": 1,
            "count": 1
           },
           {
            "bin_end": 2.8,
            "bin_start": 1.9000000000000004,
            "count": 1
           },
           {
            "bin_end": 3.7,
            "bin_start": 2.8,
            "count": 1
           },
           {
            "bin_end": 4.6,
            "bin_start": 3.7,
            "count": 1
           },
           {
            "bin_end": 5.5,
            "bin_start": 4.6,
            "count": 2
           }
          ],
          "max": "5.5",
          "min": "-3.5",
          "nan_count": 0,
          "unique_count": 7
         }
        },
        {
         "dtype": "int64",
         "name": "_deepnote_index_column"
        }
       ],
       "row_count": 7,
       "rows": [
        {
         "A": "5",
         "B": "2",
         "C": "5.0",
         "_deepnote_index_column": "0"
        },
        {
         "A": "1",
         "B": "4",
         "C": "1.1",
         "_deepnote_index_column": "1"
        },
        {
         "A": "6",
         "B": "2",
         "C": "3.4",
         "_deepnote_index_column": "2"
        },
        {
         "A": "1",
         "B": "8",
         "C": "5.5",
         "_deepnote_index_column": "3"
        },
        {
         "A": "2",
         "B": "3",
         "C": "2.1",
         "_deepnote_index_column": "4"
        },
        {
         "A": "3",
         "B": "-1",
         "C": "4.2",
         "_deepnote_index_column": "5"
        },
        {
         "A": "8",
         "B": "0",
         "C": "-3.5",
         "_deepnote_index_column": "6"
        }
       ]
      },
      "text/html": [
       "<div>\n",
       "<style scoped>\n",
       "    .dataframe tbody tr th:only-of-type {\n",
       "        vertical-align: middle;\n",
       "    }\n",
       "\n",
       "    .dataframe tbody tr th {\n",
       "        vertical-align: top;\n",
       "    }\n",
       "\n",
       "    .dataframe thead th {\n",
       "        text-align: right;\n",
       "    }\n",
       "</style>\n",
       "<table border=\"1\" class=\"dataframe\">\n",
       "  <thead>\n",
       "    <tr style=\"text-align: right;\">\n",
       "      <th></th>\n",
       "      <th>A</th>\n",
       "      <th>B</th>\n",
       "      <th>C</th>\n",
       "    </tr>\n",
       "  </thead>\n",
       "  <tbody>\n",
       "    <tr>\n",
       "      <th>0</th>\n",
       "      <td>5</td>\n",
       "      <td>2</td>\n",
       "      <td>5.0</td>\n",
       "    </tr>\n",
       "    <tr>\n",
       "      <th>1</th>\n",
       "      <td>1</td>\n",
       "      <td>4</td>\n",
       "      <td>1.1</td>\n",
       "    </tr>\n",
       "    <tr>\n",
       "      <th>2</th>\n",
       "      <td>6</td>\n",
       "      <td>2</td>\n",
       "      <td>3.4</td>\n",
       "    </tr>\n",
       "    <tr>\n",
       "      <th>3</th>\n",
       "      <td>1</td>\n",
       "      <td>8</td>\n",
       "      <td>5.5</td>\n",
       "    </tr>\n",
       "    <tr>\n",
       "      <th>4</th>\n",
       "      <td>2</td>\n",
       "      <td>3</td>\n",
       "      <td>2.1</td>\n",
       "    </tr>\n",
       "    <tr>\n",
       "      <th>5</th>\n",
       "      <td>3</td>\n",
       "      <td>-1</td>\n",
       "      <td>4.2</td>\n",
       "    </tr>\n",
       "    <tr>\n",
       "      <th>6</th>\n",
       "      <td>8</td>\n",
       "      <td>0</td>\n",
       "      <td>-3.5</td>\n",
       "    </tr>\n",
       "  </tbody>\n",
       "</table>\n",
       "</div>"
      ],
      "text/plain": [
       "   A  B    C\n",
       "0  5  2  5.0\n",
       "1  1  4  1.1\n",
       "2  6  2  3.4\n",
       "3  1  8  5.5\n",
       "4  2  3  2.1\n",
       "5  3 -1  4.2\n",
       "6  8  0 -3.5"
      ]
     },
     "execution_count": 36,
     "metadata": {},
     "output_type": "execute_result"
    }
   ],
   "source": [
    "df2"
   ]
  },
  {
   "cell_type": "markdown",
   "metadata": {},
   "source": [
    "The point of this section is not constructing DataFrames but instead the point is how to use Boolean indexing.  Before we get to Boolean indexing, here is an example of a *Boolean Series*.  It represents, in which positions is the value in column \"A\" strictly greater than 4?"
   ]
  },
  {
   "cell_type": "code",
   "execution_count": 37,
   "metadata": {
    "cell_id": "36cbf64ac6f94e5391e1df06dbd4677a",
    "deepnote_cell_type": "code",
    "deepnote_to_be_reexecuted": false,
    "execution_millis": 633,
    "execution_start": 1664213183335,
    "source_hash": "1e18946f",
    "tags": []
   },
   "outputs": [
    {
     "data": {
      "text/plain": [
       "0     True\n",
       "1    False\n",
       "2     True\n",
       "3    False\n",
       "4    False\n",
       "5    False\n",
       "6     True\n",
       "Name: A, dtype: bool"
      ]
     },
     "execution_count": 37,
     "metadata": {},
     "output_type": "execute_result"
    }
   ],
   "source": [
    "df2[\"A\"] > 4"
   ]
  },
  {
   "cell_type": "markdown",
   "metadata": {},
   "source": [
    "Here is an example of Boolean indexing.  Inside of the square brackets is the exact Boolean Series we saw above.  We are forming a sub-DataFrame consisting of all the rows in which the Boolean Series is `True`.  In other words, we are forming the sub-DataFrame of `df2` consisting of all rows where the value in the \"A\" column is strictly greater than 4.\n",
    "\n",
    "It is worth looking at this and the next example slowly, until you understand how they work."
   ]
  },
  {
   "cell_type": "code",
   "execution_count": 38,
   "metadata": {
    "cell_id": "80e4bdd0d780492b83ca608f7c268cd6",
    "deepnote_cell_type": "code",
    "deepnote_to_be_reexecuted": false,
    "execution_millis": 3,
    "execution_start": 1664213273595,
    "source_hash": "17de4c62",
    "tags": []
   },
   "outputs": [
    {
     "data": {
      "application/vnd.deepnote.dataframe.v3+json": {
       "column_count": 3,
       "columns": [
        {
         "dtype": "int64",
         "name": "A",
         "stats": {
          "histogram": [
           {
            "bin_end": 5.3,
            "bin_start": 5,
            "count": 1
           },
           {
            "bin_end": 5.6,
            "bin_start": 5.3,
            "count": 0
           },
           {
            "bin_end": 5.9,
            "bin_start": 5.6,
            "count": 0
           },
           {
            "bin_end": 6.2,
            "bin_start": 5.9,
            "count": 1
           },
           {
            "bin_end": 6.5,
            "bin_start": 6.2,
            "count": 0
           },
           {
            "bin_end": 6.8,
            "bin_start": 6.5,
            "count": 0
           },
           {
            "bin_end": 7.1,
            "bin_start": 6.8,
            "count": 0
           },
           {
            "bin_end": 7.4,
            "bin_start": 7.1,
            "count": 0
           },
           {
            "bin_end": 7.699999999999999,
            "bin_start": 7.4,
            "count": 0
           },
           {
            "bin_end": 8,
            "bin_start": 7.699999999999999,
            "count": 1
           }
          ],
          "max": "8",
          "min": "5",
          "nan_count": 0,
          "unique_count": 3
         }
        },
        {
         "dtype": "int64",
         "name": "B",
         "stats": {
          "histogram": [
           {
            "bin_end": 0.2,
            "bin_start": 0,
            "count": 1
           },
           {
            "bin_end": 0.4,
            "bin_start": 0.2,
            "count": 0
           },
           {
            "bin_end": 0.6000000000000001,
            "bin_start": 0.4,
            "count": 0
           },
           {
            "bin_end": 0.8,
            "bin_start": 0.6000000000000001,
            "count": 0
           },
           {
            "bin_end": 1,
            "bin_start": 0.8,
            "count": 0
           },
           {
            "bin_end": 1.2000000000000002,
            "bin_start": 1,
            "count": 0
           },
           {
            "bin_end": 1.4000000000000001,
            "bin_start": 1.2000000000000002,
            "count": 0
           },
           {
            "bin_end": 1.6,
            "bin_start": 1.4000000000000001,
            "count": 0
           },
           {
            "bin_end": 1.8,
            "bin_start": 1.6,
            "count": 0
           },
           {
            "bin_end": 2,
            "bin_start": 1.8,
            "count": 2
           }
          ],
          "max": "2",
          "min": "0",
          "nan_count": 0,
          "unique_count": 2
         }
        },
        {
         "dtype": "float64",
         "name": "C",
         "stats": {
          "histogram": [
           {
            "bin_end": -2.65,
            "bin_start": -3.5,
            "count": 1
           },
           {
            "bin_end": -1.8,
            "bin_start": -2.65,
            "count": 0
           },
           {
            "bin_end": -0.9500000000000002,
            "bin_start": -1.8,
            "count": 0
           },
           {
            "bin_end": -0.10000000000000009,
            "bin_start": -0.9500000000000002,
            "count": 0
           },
           {
            "bin_end": 0.75,
            "bin_start": -0.10000000000000009,
            "count": 0
           },
           {
            "bin_end": 1.5999999999999996,
            "bin_start": 0.75,
            "count": 0
           },
           {
            "bin_end": 2.45,
            "bin_start": 1.5999999999999996,
            "count": 0
           },
           {
            "bin_end": 3.3,
            "bin_start": 2.45,
            "count": 0
           },
           {
            "bin_end": 4.1499999999999995,
            "bin_start": 3.3,
            "count": 1
           },
           {
            "bin_end": 5,
            "bin_start": 4.1499999999999995,
            "count": 1
           }
          ],
          "max": "5.0",
          "min": "-3.5",
          "nan_count": 0,
          "unique_count": 3
         }
        },
        {
         "dtype": "int64",
         "name": "_deepnote_index_column"
        }
       ],
       "row_count": 3,
       "rows": [
        {
         "A": "5",
         "B": "2",
         "C": "5.0",
         "_deepnote_index_column": "0"
        },
        {
         "A": "6",
         "B": "2",
         "C": "3.4",
         "_deepnote_index_column": "2"
        },
        {
         "A": "8",
         "B": "0",
         "C": "-3.5",
         "_deepnote_index_column": "6"
        }
       ]
      },
      "text/html": [
       "<div>\n",
       "<style scoped>\n",
       "    .dataframe tbody tr th:only-of-type {\n",
       "        vertical-align: middle;\n",
       "    }\n",
       "\n",
       "    .dataframe tbody tr th {\n",
       "        vertical-align: top;\n",
       "    }\n",
       "\n",
       "    .dataframe thead th {\n",
       "        text-align: right;\n",
       "    }\n",
       "</style>\n",
       "<table border=\"1\" class=\"dataframe\">\n",
       "  <thead>\n",
       "    <tr style=\"text-align: right;\">\n",
       "      <th></th>\n",
       "      <th>A</th>\n",
       "      <th>B</th>\n",
       "      <th>C</th>\n",
       "    </tr>\n",
       "  </thead>\n",
       "  <tbody>\n",
       "    <tr>\n",
       "      <th>0</th>\n",
       "      <td>5</td>\n",
       "      <td>2</td>\n",
       "      <td>5.0</td>\n",
       "    </tr>\n",
       "    <tr>\n",
       "      <th>2</th>\n",
       "      <td>6</td>\n",
       "      <td>2</td>\n",
       "      <td>3.4</td>\n",
       "    </tr>\n",
       "    <tr>\n",
       "      <th>6</th>\n",
       "      <td>8</td>\n",
       "      <td>0</td>\n",
       "      <td>-3.5</td>\n",
       "    </tr>\n",
       "  </tbody>\n",
       "</table>\n",
       "</div>"
      ],
      "text/plain": [
       "   A  B    C\n",
       "0  5  2  5.0\n",
       "2  6  2  3.4\n",
       "6  8  0 -3.5"
      ]
     },
     "execution_count": 38,
     "metadata": {},
     "output_type": "execute_result"
    }
   ],
   "source": [
    "df2[df2[\"A\"] > 4]"
   ]
  },
  {
   "cell_type": "markdown",
   "metadata": {},
   "source": [
    "We can use the same type of Boolean indexing with a Series instead of a DataFrame on the outside.  Here we are getting all the values in the \"B\" column corresponding to rows where the value in the \"A\" column is strictly greater than 4."
   ]
  },
  {
   "cell_type": "code",
   "execution_count": 39,
   "metadata": {
    "cell_id": "fc7c06236b934567b5fc263156a072b8",
    "deepnote_cell_type": "code",
    "deepnote_to_be_reexecuted": false,
    "execution_millis": 10,
    "execution_start": 1664213302508,
    "source_hash": "d0fe76b0",
    "tags": []
   },
   "outputs": [
    {
     "data": {
      "text/plain": [
       "0    2\n",
       "2    2\n",
       "6    0\n",
       "Name: B, dtype: int64"
      ]
     },
     "execution_count": 39,
     "metadata": {},
     "output_type": "execute_result"
    }
   ],
   "source": [
    "df2[\"B\"][df2[\"A\"] > 4]"
   ]
  },
  {
   "cell_type": "markdown",
   "metadata": {},
   "source": [
    "Here is a reminder of how the original DataFrame looked.  Try to convince yourself that the pandas Series output by the above cell is exactly the sub-Series of column \"B\" corresponding to rows where the \"A\" column value is strictly greater than 4."
   ]
  },
  {
   "cell_type": "code",
   "execution_count": 40,
   "metadata": {
    "cell_id": "500464ca31c34b419f7a3bacdea2cdf7",
    "deepnote_cell_type": "code",
    "deepnote_to_be_reexecuted": false,
    "execution_millis": 7,
    "execution_start": 1664213346386,
    "source_hash": "caa55e2e",
    "tags": []
   },
   "outputs": [
    {
     "data": {
      "application/vnd.deepnote.dataframe.v3+json": {
       "column_count": 3,
       "columns": [
        {
         "dtype": "int64",
         "name": "A",
         "stats": {
          "histogram": [
           {
            "bin_end": 1.7,
            "bin_start": 1,
            "count": 2
           },
           {
            "bin_end": 2.4,
            "bin_start": 1.7,
            "count": 1
           },
           {
            "bin_end": 3.0999999999999996,
            "bin_start": 2.4,
            "count": 1
           },
           {
            "bin_end": 3.8,
            "bin_start": 3.0999999999999996,
            "count": 0
           },
           {
            "bin_end": 4.5,
            "bin_start": 3.8,
            "count": 0
           },
           {
            "bin_end": 5.199999999999999,
            "bin_start": 4.5,
            "count": 1
           },
           {
            "bin_end": 5.8999999999999995,
            "bin_start": 5.199999999999999,
            "count": 0
           },
           {
            "bin_end": 6.6,
            "bin_start": 5.8999999999999995,
            "count": 1
           },
           {
            "bin_end": 7.3,
            "bin_start": 6.6,
            "count": 0
           },
           {
            "bin_end": 8,
            "bin_start": 7.3,
            "count": 1
           }
          ],
          "max": "8",
          "min": "1",
          "nan_count": 0,
          "unique_count": 6
         }
        },
        {
         "dtype": "int64",
         "name": "B",
         "stats": {
          "histogram": [
           {
            "bin_end": -0.09999999999999998,
            "bin_start": -1,
            "count": 1
           },
           {
            "bin_end": 0.8,
            "bin_start": -0.09999999999999998,
            "count": 1
           },
           {
            "bin_end": 1.7000000000000002,
            "bin_start": 0.8,
            "count": 0
           },
           {
            "bin_end": 2.6,
            "bin_start": 1.7000000000000002,
            "count": 2
           },
           {
            "bin_end": 3.5,
            "bin_start": 2.6,
            "count": 1
           },
           {
            "bin_end": 4.4,
            "bin_start": 3.5,
            "count": 1
           },
           {
            "bin_end": 5.3,
            "bin_start": 4.4,
            "count": 0
           },
           {
            "bin_end": 6.2,
            "bin_start": 5.3,
            "count": 0
           },
           {
            "bin_end": 7.1,
            "bin_start": 6.2,
            "count": 0
           },
           {
            "bin_end": 8,
            "bin_start": 7.1,
            "count": 1
           }
          ],
          "max": "8",
          "min": "-1",
          "nan_count": 0,
          "unique_count": 6
         }
        },
        {
         "dtype": "float64",
         "name": "C",
         "stats": {
          "histogram": [
           {
            "bin_end": -2.6,
            "bin_start": -3.5,
            "count": 1
           },
           {
            "bin_end": -1.7,
            "bin_start": -2.6,
            "count": 0
           },
           {
            "bin_end": -0.7999999999999998,
            "bin_start": -1.7,
            "count": 0
           },
           {
            "bin_end": 0.10000000000000009,
            "bin_start": -0.7999999999999998,
            "count": 0
           },
           {
            "bin_end": 1,
            "bin_start": 0.10000000000000009,
            "count": 0
           },
           {
            "bin_end": 1.9000000000000004,
            "bin_start": 1,
            "count": 1
           },
           {
            "bin_end": 2.8,
            "bin_start": 1.9000000000000004,
            "count": 1
           },
           {
            "bin_end": 3.7,
            "bin_start": 2.8,
            "count": 1
           },
           {
            "bin_end": 4.6,
            "bin_start": 3.7,
            "count": 1
           },
           {
            "bin_end": 5.5,
            "bin_start": 4.6,
            "count": 2
           }
          ],
          "max": "5.5",
          "min": "-3.5",
          "nan_count": 0,
          "unique_count": 7
         }
        },
        {
         "dtype": "int64",
         "name": "_deepnote_index_column"
        }
       ],
       "row_count": 7,
       "rows": [
        {
         "A": "5",
         "B": "2",
         "C": "5.0",
         "_deepnote_index_column": "0"
        },
        {
         "A": "1",
         "B": "4",
         "C": "1.1",
         "_deepnote_index_column": "1"
        },
        {
         "A": "6",
         "B": "2",
         "C": "3.4",
         "_deepnote_index_column": "2"
        },
        {
         "A": "1",
         "B": "8",
         "C": "5.5",
         "_deepnote_index_column": "3"
        },
        {
         "A": "2",
         "B": "3",
         "C": "2.1",
         "_deepnote_index_column": "4"
        },
        {
         "A": "3",
         "B": "-1",
         "C": "4.2",
         "_deepnote_index_column": "5"
        },
        {
         "A": "8",
         "B": "0",
         "C": "-3.5",
         "_deepnote_index_column": "6"
        }
       ]
      },
      "text/html": [
       "<div>\n",
       "<style scoped>\n",
       "    .dataframe tbody tr th:only-of-type {\n",
       "        vertical-align: middle;\n",
       "    }\n",
       "\n",
       "    .dataframe tbody tr th {\n",
       "        vertical-align: top;\n",
       "    }\n",
       "\n",
       "    .dataframe thead th {\n",
       "        text-align: right;\n",
       "    }\n",
       "</style>\n",
       "<table border=\"1\" class=\"dataframe\">\n",
       "  <thead>\n",
       "    <tr style=\"text-align: right;\">\n",
       "      <th></th>\n",
       "      <th>A</th>\n",
       "      <th>B</th>\n",
       "      <th>C</th>\n",
       "    </tr>\n",
       "  </thead>\n",
       "  <tbody>\n",
       "    <tr>\n",
       "      <th>0</th>\n",
       "      <td>5</td>\n",
       "      <td>2</td>\n",
       "      <td>5.0</td>\n",
       "    </tr>\n",
       "    <tr>\n",
       "      <th>1</th>\n",
       "      <td>1</td>\n",
       "      <td>4</td>\n",
       "      <td>1.1</td>\n",
       "    </tr>\n",
       "    <tr>\n",
       "      <th>2</th>\n",
       "      <td>6</td>\n",
       "      <td>2</td>\n",
       "      <td>3.4</td>\n",
       "    </tr>\n",
       "    <tr>\n",
       "      <th>3</th>\n",
       "      <td>1</td>\n",
       "      <td>8</td>\n",
       "      <td>5.5</td>\n",
       "    </tr>\n",
       "    <tr>\n",
       "      <th>4</th>\n",
       "      <td>2</td>\n",
       "      <td>3</td>\n",
       "      <td>2.1</td>\n",
       "    </tr>\n",
       "    <tr>\n",
       "      <th>5</th>\n",
       "      <td>3</td>\n",
       "      <td>-1</td>\n",
       "      <td>4.2</td>\n",
       "    </tr>\n",
       "    <tr>\n",
       "      <th>6</th>\n",
       "      <td>8</td>\n",
       "      <td>0</td>\n",
       "      <td>-3.5</td>\n",
       "    </tr>\n",
       "  </tbody>\n",
       "</table>\n",
       "</div>"
      ],
      "text/plain": [
       "   A  B    C\n",
       "0  5  2  5.0\n",
       "1  1  4  1.1\n",
       "2  6  2  3.4\n",
       "3  1  8  5.5\n",
       "4  2  3  2.1\n",
       "5  3 -1  4.2\n",
       "6  8  0 -3.5"
      ]
     },
     "execution_count": 40,
     "metadata": {},
     "output_type": "execute_result"
    }
   ],
   "source": [
    "df2"
   ]
  },
  {
   "cell_type": "markdown",
   "metadata": {},
   "source": [
    "Let's see a more advanced example, still using Boolean indexing.  Here is the goal.  (This will help with a problem on the corresponding worksheet.)\n",
    "\n",
    "* Find the sub-DataFrame where the value in column \"C\" is strictly greater than 2 and where the value in column \"A\" column is not equal to 1.\n",
    "\n",
    "Our strategy will be to make one Boolean Series for the column \"C\" restriction, then make another Boolean Series for the column \"A\" restriction, and then to combine them."
   ]
  },
  {
   "cell_type": "code",
   "execution_count": 41,
   "metadata": {
    "cell_id": "564be140de9c4b9e8ff25449b0c4cd5e",
    "deepnote_cell_type": "code",
    "deepnote_to_be_reexecuted": false,
    "execution_millis": 9,
    "execution_start": 1664213403335,
    "source_hash": "43f98e58",
    "tags": []
   },
   "outputs": [
    {
     "data": {
      "text/plain": [
       "0     True\n",
       "1    False\n",
       "2     True\n",
       "3     True\n",
       "4     True\n",
       "5     True\n",
       "6    False\n",
       "Name: C, dtype: bool"
      ]
     },
     "execution_count": 41,
     "metadata": {},
     "output_type": "execute_result"
    }
   ],
   "source": [
    "df2[\"C\"] > 2"
   ]
  },
  {
   "cell_type": "markdown",
   "metadata": {},
   "source": [
    "To check \"not equal\" in Python, we can use `!=`."
   ]
  },
  {
   "cell_type": "code",
   "execution_count": 42,
   "metadata": {
    "cell_id": "c8478d9975d34b3e96c2f06b57b6b524",
    "deepnote_cell_type": "code",
    "deepnote_to_be_reexecuted": false,
    "execution_millis": 31,
    "execution_start": 1664213426688,
    "source_hash": "27edba71",
    "tags": []
   },
   "outputs": [
    {
     "data": {
      "text/plain": [
       "0     True\n",
       "1    False\n",
       "2     True\n",
       "3    False\n",
       "4     True\n",
       "5     True\n",
       "6     True\n",
       "Name: A, dtype: bool"
      ]
     },
     "execution_count": 42,
     "metadata": {},
     "output_type": "execute_result"
    }
   ],
   "source": [
    "df2[\"A\"] != 1"
   ]
  },
  {
   "cell_type": "markdown",
   "metadata": {},
   "source": [
    "We now create the Boolean Series where the previous two Boolean Series are both `True`.  If you've done some Python programming before, you might expect to use the word `and`, and that is correct in base Python, but in pandas (and in NumPy) usually we want instead to use the ampersand symbol, `&`."
   ]
  },
  {
   "cell_type": "code",
   "execution_count": 43,
   "metadata": {
    "cell_id": "12c965abfc9a4688aa370f4600a75d05",
    "deepnote_cell_type": "code",
    "deepnote_to_be_reexecuted": false,
    "execution_millis": 23,
    "execution_start": 1664213460429,
    "source_hash": "29ac1b60",
    "tags": []
   },
   "outputs": [
    {
     "data": {
      "text/plain": [
       "0     True\n",
       "1    False\n",
       "2     True\n",
       "3    False\n",
       "4     True\n",
       "5     True\n",
       "6    False\n",
       "dtype: bool"
      ]
     },
     "execution_count": 43,
     "metadata": {},
     "output_type": "execute_result"
    }
   ],
   "source": [
    "# Warning: in pandas, use &, in base Python, use and\n",
    "(df2[\"C\"] > 2) & (df2[\"A\"] != 1)"
   ]
  },
  {
   "cell_type": "markdown",
   "metadata": {},
   "source": [
    "We now use Boolean indexing with the Boolean Series we just created.  The following looks complicated, but the part inside the brackets is exactly the above code."
   ]
  },
  {
   "cell_type": "code",
   "execution_count": 44,
   "metadata": {
    "cell_id": "db78712ba2f440a3a4db0b066ac386b6",
    "deepnote_cell_type": "code",
    "deepnote_to_be_reexecuted": false,
    "execution_millis": 45,
    "execution_start": 1664213484951,
    "source_hash": "be2927e9",
    "tags": []
   },
   "outputs": [
    {
     "data": {
      "application/vnd.deepnote.dataframe.v3+json": {
       "column_count": 3,
       "columns": [
        {
         "dtype": "int64",
         "name": "A",
         "stats": {
          "histogram": [
           {
            "bin_end": 2.4,
            "bin_start": 2,
            "count": 1
           },
           {
            "bin_end": 2.8,
            "bin_start": 2.4,
            "count": 0
           },
           {
            "bin_end": 3.2,
            "bin_start": 2.8,
            "count": 1
           },
           {
            "bin_end": 3.6,
            "bin_start": 3.2,
            "count": 0
           },
           {
            "bin_end": 4,
            "bin_start": 3.6,
            "count": 0
           },
           {
            "bin_end": 4.4,
            "bin_start": 4,
            "count": 0
           },
           {
            "bin_end": 4.800000000000001,
            "bin_start": 4.4,
            "count": 0
           },
           {
            "bin_end": 5.2,
            "bin_start": 4.800000000000001,
            "count": 1
           },
           {
            "bin_end": 5.6,
            "bin_start": 5.2,
            "count": 0
           },
           {
            "bin_end": 6,
            "bin_start": 5.6,
            "count": 1
           }
          ],
          "max": "6",
          "min": "2",
          "nan_count": 0,
          "unique_count": 4
         }
        },
        {
         "dtype": "int64",
         "name": "B",
         "stats": {
          "histogram": [
           {
            "bin_end": -0.6,
            "bin_start": -1,
            "count": 1
           },
           {
            "bin_end": -0.19999999999999996,
            "bin_start": -0.6,
            "count": 0
           },
           {
            "bin_end": 0.20000000000000018,
            "bin_start": -0.19999999999999996,
            "count": 0
           },
           {
            "bin_end": 0.6000000000000001,
            "bin_start": 0.20000000000000018,
            "count": 0
           },
           {
            "bin_end": 1,
            "bin_start": 0.6000000000000001,
            "count": 0
           },
           {
            "bin_end": 1.4000000000000004,
            "bin_start": 1,
            "count": 0
           },
           {
            "bin_end": 1.8000000000000003,
            "bin_start": 1.4000000000000004,
            "count": 0
           },
           {
            "bin_end": 2.2,
            "bin_start": 1.8000000000000003,
            "count": 2
           },
           {
            "bin_end": 2.6,
            "bin_start": 2.2,
            "count": 0
           },
           {
            "bin_end": 3,
            "bin_start": 2.6,
            "count": 1
           }
          ],
          "max": "3",
          "min": "-1",
          "nan_count": 0,
          "unique_count": 3
         }
        },
        {
         "dtype": "float64",
         "name": "C",
         "stats": {
          "histogram": [
           {
            "bin_end": 2.39,
            "bin_start": 2.1,
            "count": 1
           },
           {
            "bin_end": 2.68,
            "bin_start": 2.39,
            "count": 0
           },
           {
            "bin_end": 2.9699999999999998,
            "bin_start": 2.68,
            "count": 0
           },
           {
            "bin_end": 3.26,
            "bin_start": 2.9699999999999998,
            "count": 0
           },
           {
            "bin_end": 3.55,
            "bin_start": 3.26,
            "count": 1
           },
           {
            "bin_end": 3.84,
            "bin_start": 3.55,
            "count": 0
           },
           {
            "bin_end": 4.13,
            "bin_start": 3.84,
            "count": 0
           },
           {
            "bin_end": 4.42,
            "bin_start": 4.13,
            "count": 1
           },
           {
            "bin_end": 4.71,
            "bin_start": 4.42,
            "count": 0
           },
           {
            "bin_end": 5,
            "bin_start": 4.71,
            "count": 1
           }
          ],
          "max": "5.0",
          "min": "2.1",
          "nan_count": 0,
          "unique_count": 4
         }
        },
        {
         "dtype": "int64",
         "name": "_deepnote_index_column"
        }
       ],
       "row_count": 4,
       "rows": [
        {
         "A": "5",
         "B": "2",
         "C": "5.0",
         "_deepnote_index_column": "0"
        },
        {
         "A": "6",
         "B": "2",
         "C": "3.4",
         "_deepnote_index_column": "2"
        },
        {
         "A": "2",
         "B": "3",
         "C": "2.1",
         "_deepnote_index_column": "4"
        },
        {
         "A": "3",
         "B": "-1",
         "C": "4.2",
         "_deepnote_index_column": "5"
        }
       ]
      },
      "text/html": [
       "<div>\n",
       "<style scoped>\n",
       "    .dataframe tbody tr th:only-of-type {\n",
       "        vertical-align: middle;\n",
       "    }\n",
       "\n",
       "    .dataframe tbody tr th {\n",
       "        vertical-align: top;\n",
       "    }\n",
       "\n",
       "    .dataframe thead th {\n",
       "        text-align: right;\n",
       "    }\n",
       "</style>\n",
       "<table border=\"1\" class=\"dataframe\">\n",
       "  <thead>\n",
       "    <tr style=\"text-align: right;\">\n",
       "      <th></th>\n",
       "      <th>A</th>\n",
       "      <th>B</th>\n",
       "      <th>C</th>\n",
       "    </tr>\n",
       "  </thead>\n",
       "  <tbody>\n",
       "    <tr>\n",
       "      <th>0</th>\n",
       "      <td>5</td>\n",
       "      <td>2</td>\n",
       "      <td>5.0</td>\n",
       "    </tr>\n",
       "    <tr>\n",
       "      <th>2</th>\n",
       "      <td>6</td>\n",
       "      <td>2</td>\n",
       "      <td>3.4</td>\n",
       "    </tr>\n",
       "    <tr>\n",
       "      <th>4</th>\n",
       "      <td>2</td>\n",
       "      <td>3</td>\n",
       "      <td>2.1</td>\n",
       "    </tr>\n",
       "    <tr>\n",
       "      <th>5</th>\n",
       "      <td>3</td>\n",
       "      <td>-1</td>\n",
       "      <td>4.2</td>\n",
       "    </tr>\n",
       "  </tbody>\n",
       "</table>\n",
       "</div>"
      ],
      "text/plain": [
       "   A  B    C\n",
       "0  5  2  5.0\n",
       "2  6  2  3.4\n",
       "4  2  3  2.1\n",
       "5  3 -1  4.2"
      ]
     },
     "execution_count": 44,
     "metadata": {},
     "output_type": "execute_result"
    }
   ],
   "source": [
    "df2[(df2[\"C\"] > 2) & (df2[\"A\"] != 1)]"
   ]
  },
  {
   "cell_type": "markdown",
   "metadata": {},
   "source": [
    "The above output represents the sub-DataFrame of `df2` consisting of all rows for which the \"C\" value is strictly greater than 2 and for which the \"A\" value is not equal to 1."
   ]
  }
 ],
 "metadata": {
  "deepnote": {},
  "deepnote_execution_queue": [],
  "deepnote_notebook_id": "74c095f60c9f46949fe3feae9cc16709",
  "deepnote_persisted_session": {
   "createdAt": "2022-09-26T16:18:17.954Z"
  },
  "kernelspec": {
   "display_name": "Python 3 (ipykernel)",
   "language": "python",
   "name": "python3"
  },
  "language_info": {
   "codemirror_mode": {
    "name": "ipython",
    "version": 3
   },
   "file_extension": ".py",
   "mimetype": "text/x-python",
   "name": "python",
   "nbconvert_exporter": "python",
   "pygments_lexer": "ipython3",
   "version": "3.9.13"
  }
 },
 "nbformat": 4,
 "nbformat_minor": 4
}
