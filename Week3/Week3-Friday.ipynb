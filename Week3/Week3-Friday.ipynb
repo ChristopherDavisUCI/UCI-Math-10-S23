{
 "cells": [
  {
   "cell_type": "markdown",
   "metadata": {
    "cell_id": "68cb05ea2da5431e9d8617470c547df3",
    "deepnote_cell_type": "markdown",
    "tags": []
   },
   "source": [
    "# Week 3 Friday"
   ]
  },
  {
   "cell_type": "markdown",
   "metadata": {
    "cell_id": "17c71f90f59d4a6582fc8d62805b473a",
    "deepnote_cell_type": "markdown",
    "tags": []
   },
   "source": [
    "## Announcements\n",
    "\n",
    "* Videos and video quizzes due.  Finish them later if you haven't already.\n",
    "* Worksheet 3 is graded.  (If you got a 0 and submitted something, probably you did not enable public sharing.  Enable public sharing following the instructions on the bottom of Worksheet 3 and send me an email to let me know.)\n",
    "* Worksheets 5 and 6 are due Tuesday before discussion section.\n",
    "* The in-class quiz on Tuesday will be based on the material up to and including Worksheet 6"
   ]
  },
  {
   "cell_type": "markdown",
   "metadata": {
    "cell_id": "7c2c8efea95f45ceb4205f44b9a2b295",
    "deepnote_cell_type": "markdown",
    "tags": []
   },
   "source": [
    "## Plan\n",
    "\n",
    "The main goal of today is to see how to use `groupby` with a for loop.  (I have had that on the agenda several times but never gotten to it.)  We will have plenty of time for questions, so please ask when something doesn't make sense.\n",
    "\n",
    "* Overall question: Within the \"mpg\" dataset from Seaborn, do newer cars seem to become more fuel-efficient (i.e., have higher mpg)? "
   ]
  },
  {
   "cell_type": "code",
   "execution_count": 1,
   "metadata": {
    "cell_id": "2b117783796c43a1baaff5ae640efb35",
    "deepnote_cell_type": "code",
    "deepnote_to_be_reexecuted": false,
    "execution_millis": 1392,
    "execution_start": 1665766923214,
    "source_hash": "e0df300b",
    "tags": []
   },
   "outputs": [],
   "source": [
    "import pandas as pd\n",
    "import seaborn as sns"
   ]
  },
  {
   "cell_type": "code",
   "execution_count": 2,
   "metadata": {
    "cell_id": "03d17143123043ad9d90920ac6712f70",
    "deepnote_cell_type": "code",
    "deepnote_to_be_reexecuted": false,
    "execution_millis": 436,
    "execution_start": 1665766932982,
    "source_hash": "14b6c106",
    "tags": []
   },
   "outputs": [],
   "source": [
    "df = sns.load_dataset(\"mpg\")"
   ]
  },
  {
   "cell_type": "code",
   "execution_count": 3,
   "metadata": {
    "cell_id": "2caef566d4d447cfbb490afeed22c452",
    "deepnote_cell_type": "code",
    "deepnote_to_be_reexecuted": false,
    "execution_millis": 24,
    "execution_start": 1665766946296,
    "source_hash": "3a1ea484",
    "tags": [
     "output_scroll"
    ]
   },
   "outputs": [
    {
     "data": {
      "application/vnd.deepnote.dataframe.v3+json": {
       "column_count": 9,
       "columns": [
        {
         "dtype": "float64",
         "name": "mpg",
         "stats": {
          "histogram": [
           {
            "bin_end": 15.3,
            "bin_start": 15,
            "count": 1
           },
           {
            "bin_end": 15.6,
            "bin_start": 15.3,
            "count": 0
           },
           {
            "bin_end": 15.9,
            "bin_start": 15.6,
            "count": 0
           },
           {
            "bin_end": 16.2,
            "bin_start": 15.9,
            "count": 0
           },
           {
            "bin_end": 16.5,
            "bin_start": 16.2,
            "count": 0
           },
           {
            "bin_end": 16.8,
            "bin_start": 16.5,
            "count": 0
           },
           {
            "bin_end": 17.1,
            "bin_start": 16.8,
            "count": 0
           },
           {
            "bin_end": 17.4,
            "bin_start": 17.1,
            "count": 0
           },
           {
            "bin_end": 17.7,
            "bin_start": 17.4,
            "count": 0
           },
           {
            "bin_end": 18,
            "bin_start": 17.7,
            "count": 2
           }
          ],
          "max": "18.0",
          "min": "15.0",
          "nan_count": 0,
          "unique_count": 2
         }
        },
        {
         "dtype": "int64",
         "name": "cylinders",
         "stats": {
          "histogram": [
           {
            "bin_end": 7.6,
            "bin_start": 7.5,
            "count": 0
           },
           {
            "bin_end": 7.7,
            "bin_start": 7.6,
            "count": 0
           },
           {
            "bin_end": 7.8,
            "bin_start": 7.7,
            "count": 0
           },
           {
            "bin_end": 7.9,
            "bin_start": 7.8,
            "count": 0
           },
           {
            "bin_end": 8,
            "bin_start": 7.9,
            "count": 0
           },
           {
            "bin_end": 8.1,
            "bin_start": 8,
            "count": 3
           },
           {
            "bin_end": 8.2,
            "bin_start": 8.1,
            "count": 0
           },
           {
            "bin_end": 8.3,
            "bin_start": 8.2,
            "count": 0
           },
           {
            "bin_end": 8.4,
            "bin_start": 8.3,
            "count": 0
           },
           {
            "bin_end": 8.5,
            "bin_start": 8.4,
            "count": 0
           }
          ],
          "max": "8",
          "min": "8",
          "nan_count": 0,
          "unique_count": 1
         }
        },
        {
         "dtype": "float64",
         "name": "displacement",
         "stats": {
          "histogram": [
           {
            "bin_end": 311.3,
            "bin_start": 307,
            "count": 1
           },
           {
            "bin_end": 315.6,
            "bin_start": 311.3,
            "count": 0
           },
           {
            "bin_end": 319.9,
            "bin_start": 315.6,
            "count": 1
           },
           {
            "bin_end": 324.2,
            "bin_start": 319.9,
            "count": 0
           },
           {
            "bin_end": 328.5,
            "bin_start": 324.2,
            "count": 0
           },
           {
            "bin_end": 332.8,
            "bin_start": 328.5,
            "count": 0
           },
           {
            "bin_end": 337.1,
            "bin_start": 332.8,
            "count": 0
           },
           {
            "bin_end": 341.4,
            "bin_start": 337.1,
            "count": 0
           },
           {
            "bin_end": 345.7,
            "bin_start": 341.4,
            "count": 0
           },
           {
            "bin_end": 350,
            "bin_start": 345.7,
            "count": 1
           }
          ],
          "max": "350.0",
          "min": "307.0",
          "nan_count": 0,
          "unique_count": 3
         }
        },
        {
         "dtype": "float64",
         "name": "horsepower",
         "stats": {
          "histogram": [
           {
            "bin_end": 133.5,
            "bin_start": 130,
            "count": 1
           },
           {
            "bin_end": 137,
            "bin_start": 133.5,
            "count": 0
           },
           {
            "bin_end": 140.5,
            "bin_start": 137,
            "count": 0
           },
           {
            "bin_end": 144,
            "bin_start": 140.5,
            "count": 0
           },
           {
            "bin_end": 147.5,
            "bin_start": 144,
            "count": 0
           },
           {
            "bin_end": 151,
            "bin_start": 147.5,
            "count": 1
           },
           {
            "bin_end": 154.5,
            "bin_start": 151,
            "count": 0
           },
           {
            "bin_end": 158,
            "bin_start": 154.5,
            "count": 0
           },
           {
            "bin_end": 161.5,
            "bin_start": 158,
            "count": 0
           },
           {
            "bin_end": 165,
            "bin_start": 161.5,
            "count": 1
           }
          ],
          "max": "165.0",
          "min": "130.0",
          "nan_count": 0,
          "unique_count": 3
         }
        },
        {
         "dtype": "int64",
         "name": "weight",
         "stats": {
          "histogram": [
           {
            "bin_end": 3461.7,
            "bin_start": 3436,
            "count": 1
           },
           {
            "bin_end": 3487.4,
            "bin_start": 3461.7,
            "count": 0
           },
           {
            "bin_end": 3513.1,
            "bin_start": 3487.4,
            "count": 1
           },
           {
            "bin_end": 3538.8,
            "bin_start": 3513.1,
            "count": 0
           },
           {
            "bin_end": 3564.5,
            "bin_start": 3538.8,
            "count": 0
           },
           {
            "bin_end": 3590.2,
            "bin_start": 3564.5,
            "count": 0
           },
           {
            "bin_end": 3615.9,
            "bin_start": 3590.2,
            "count": 0
           },
           {
            "bin_end": 3641.6,
            "bin_start": 3615.9,
            "count": 0
           },
           {
            "bin_end": 3667.3,
            "bin_start": 3641.6,
            "count": 0
           },
           {
            "bin_end": 3693,
            "bin_start": 3667.3,
            "count": 1
           }
          ],
          "max": "3693",
          "min": "3436",
          "nan_count": 0,
          "unique_count": 3
         }
        },
        {
         "dtype": "float64",
         "name": "acceleration",
         "stats": {
          "histogram": [
           {
            "bin_end": 11.1,
            "bin_start": 11,
            "count": 1
           },
           {
            "bin_end": 11.2,
            "bin_start": 11.1,
            "count": 0
           },
           {
            "bin_end": 11.3,
            "bin_start": 11.2,
            "count": 0
           },
           {
            "bin_end": 11.4,
            "bin_start": 11.3,
            "count": 0
           },
           {
            "bin_end": 11.5,
            "bin_start": 11.4,
            "count": 0
           },
           {
            "bin_end": 11.6,
            "bin_start": 11.5,
            "count": 1
           },
           {
            "bin_end": 11.7,
            "bin_start": 11.6,
            "count": 0
           },
           {
            "bin_end": 11.8,
            "bin_start": 11.7,
            "count": 0
           },
           {
            "bin_end": 11.9,
            "bin_start": 11.8,
            "count": 0
           },
           {
            "bin_end": 12,
            "bin_start": 11.9,
            "count": 1
           }
          ],
          "max": "12.0",
          "min": "11.0",
          "nan_count": 0,
          "unique_count": 3
         }
        },
        {
         "dtype": "int64",
         "name": "model_year",
         "stats": {
          "histogram": [
           {
            "bin_end": 69.6,
            "bin_start": 69.5,
            "count": 0
           },
           {
            "bin_end": 69.7,
            "bin_start": 69.6,
            "count": 0
           },
           {
            "bin_end": 69.8,
            "bin_start": 69.7,
            "count": 0
           },
           {
            "bin_end": 69.9,
            "bin_start": 69.8,
            "count": 0
           },
           {
            "bin_end": 70,
            "bin_start": 69.9,
            "count": 0
           },
           {
            "bin_end": 70.1,
            "bin_start": 70,
            "count": 3
           },
           {
            "bin_end": 70.2,
            "bin_start": 70.1,
            "count": 0
           },
           {
            "bin_end": 70.3,
            "bin_start": 70.2,
            "count": 0
           },
           {
            "bin_end": 70.4,
            "bin_start": 70.3,
            "count": 0
           },
           {
            "bin_end": 70.5,
            "bin_start": 70.4,
            "count": 0
           }
          ],
          "max": "70",
          "min": "70",
          "nan_count": 0,
          "unique_count": 1
         }
        },
        {
         "dtype": "object",
         "name": "origin",
         "stats": {
          "categories": [
           {
            "count": 3,
            "name": "usa"
           }
          ],
          "nan_count": 0,
          "unique_count": 1
         }
        },
        {
         "dtype": "object",
         "name": "name",
         "stats": {
          "categories": [
           {
            "count": 1,
            "name": "chevrolet chevelle malibu"
           },
           {
            "count": 1,
            "name": "buick skylark 320"
           },
           {
            "count": 1,
            "name": "plymouth satellite"
           }
          ],
          "nan_count": 0,
          "unique_count": 3
         }
        },
        {
         "dtype": "int64",
         "name": "_deepnote_index_column"
        }
       ],
       "row_count": 3,
       "rows": [
        {
         "_deepnote_index_column": "0",
         "acceleration": "12.0",
         "cylinders": "8",
         "displacement": "307.0",
         "horsepower": "130.0",
         "model_year": "70",
         "mpg": "18.0",
         "name": "chevrolet chevelle malibu",
         "origin": "usa",
         "weight": "3504"
        },
        {
         "_deepnote_index_column": "1",
         "acceleration": "11.5",
         "cylinders": "8",
         "displacement": "350.0",
         "horsepower": "165.0",
         "model_year": "70",
         "mpg": "15.0",
         "name": "buick skylark 320",
         "origin": "usa",
         "weight": "3693"
        },
        {
         "_deepnote_index_column": "2",
         "acceleration": "11.0",
         "cylinders": "8",
         "displacement": "318.0",
         "horsepower": "150.0",
         "model_year": "70",
         "mpg": "18.0",
         "name": "plymouth satellite",
         "origin": "usa",
         "weight": "3436"
        }
       ]
      },
      "text/html": [
       "<div>\n",
       "<style scoped>\n",
       "    .dataframe tbody tr th:only-of-type {\n",
       "        vertical-align: middle;\n",
       "    }\n",
       "\n",
       "    .dataframe tbody tr th {\n",
       "        vertical-align: top;\n",
       "    }\n",
       "\n",
       "    .dataframe thead th {\n",
       "        text-align: right;\n",
       "    }\n",
       "</style>\n",
       "<table border=\"1\" class=\"dataframe\">\n",
       "  <thead>\n",
       "    <tr style=\"text-align: right;\">\n",
       "      <th></th>\n",
       "      <th>mpg</th>\n",
       "      <th>cylinders</th>\n",
       "      <th>displacement</th>\n",
       "      <th>horsepower</th>\n",
       "      <th>weight</th>\n",
       "      <th>acceleration</th>\n",
       "      <th>model_year</th>\n",
       "      <th>origin</th>\n",
       "      <th>name</th>\n",
       "    </tr>\n",
       "  </thead>\n",
       "  <tbody>\n",
       "    <tr>\n",
       "      <th>0</th>\n",
       "      <td>18.0</td>\n",
       "      <td>8</td>\n",
       "      <td>307.0</td>\n",
       "      <td>130.0</td>\n",
       "      <td>3504</td>\n",
       "      <td>12.0</td>\n",
       "      <td>70</td>\n",
       "      <td>usa</td>\n",
       "      <td>chevrolet chevelle malibu</td>\n",
       "    </tr>\n",
       "    <tr>\n",
       "      <th>1</th>\n",
       "      <td>15.0</td>\n",
       "      <td>8</td>\n",
       "      <td>350.0</td>\n",
       "      <td>165.0</td>\n",
       "      <td>3693</td>\n",
       "      <td>11.5</td>\n",
       "      <td>70</td>\n",
       "      <td>usa</td>\n",
       "      <td>buick skylark 320</td>\n",
       "    </tr>\n",
       "    <tr>\n",
       "      <th>2</th>\n",
       "      <td>18.0</td>\n",
       "      <td>8</td>\n",
       "      <td>318.0</td>\n",
       "      <td>150.0</td>\n",
       "      <td>3436</td>\n",
       "      <td>11.0</td>\n",
       "      <td>70</td>\n",
       "      <td>usa</td>\n",
       "      <td>plymouth satellite</td>\n",
       "    </tr>\n",
       "  </tbody>\n",
       "</table>\n",
       "</div>"
      ],
      "text/plain": [
       "    mpg  cylinders  displacement  horsepower  weight  acceleration  \\\n",
       "0  18.0          8         307.0       130.0    3504          12.0   \n",
       "1  15.0          8         350.0       165.0    3693          11.5   \n",
       "2  18.0          8         318.0       150.0    3436          11.0   \n",
       "\n",
       "   model_year origin                       name  \n",
       "0          70    usa  chevrolet chevelle malibu  \n",
       "1          70    usa          buick skylark 320  \n",
       "2          70    usa         plymouth satellite  "
      ]
     },
     "execution_count": 3,
     "metadata": {},
     "output_type": "execute_result"
    }
   ],
   "source": [
    "df.head(3)"
   ]
  },
  {
   "cell_type": "markdown",
   "metadata": {
    "cell_id": "5cc1f15a62014eb7839fed97f3b28172",
    "deepnote_cell_type": "markdown",
    "tags": []
   },
   "source": [
    "## Using `groupby` with a for loop\n",
    "\n",
    "Recall that `df.groupby` produces its own type of object.  I often abbreviate the long name to a pandas GroupBy object."
   ]
  },
  {
   "cell_type": "code",
   "execution_count": 4,
   "metadata": {
    "cell_id": "317b4140724a46be8807ca1692458e2c",
    "deepnote_cell_type": "code",
    "deepnote_to_be_reexecuted": false,
    "execution_millis": 4,
    "execution_start": 1665767052035,
    "source_hash": "fbf224aa",
    "tags": []
   },
   "outputs": [
    {
     "data": {
      "text/plain": [
       "<pandas.core.groupby.generic.DataFrameGroupBy object at 0x7fad5d6cb7f0>"
      ]
     },
     "execution_count": 4,
     "metadata": {},
     "output_type": "execute_result"
    }
   ],
   "source": [
    "x = df.groupby(\"model_year\")\n",
    "x"
   ]
  },
  {
   "cell_type": "markdown",
   "metadata": {},
   "source": [
    "Here's a brief reminder about for loops in an easier example.  Here we are iterating over a range object.  Later we will iterate over a pandas GroupBy object."
   ]
  },
  {
   "cell_type": "code",
   "execution_count": 6,
   "metadata": {
    "cell_id": "a4b8e8a7ea5c4f8aa66c5ad0832bb1f9",
    "deepnote_cell_type": "code",
    "deepnote_to_be_reexecuted": false,
    "execution_millis": 11,
    "execution_start": 1665767313132,
    "source_hash": "aa7c48f7",
    "tags": []
   },
   "outputs": [
    {
     "name": "stdout",
     "output_type": "stream",
     "text": [
      "0\n",
      "1\n",
      "2\n",
      "3\n",
      "4\n"
     ]
    }
   ],
   "source": [
    "for z in range(5):\n",
    "    print(z)"
   ]
  },
  {
   "cell_type": "markdown",
   "metadata": {},
   "source": [
    "If we call `print` on the `type` of an object, we see an expression like the following.  As far as I know, `<class 'int'>` is exactly the same as `int`."
   ]
  },
  {
   "cell_type": "code",
   "execution_count": 5,
   "metadata": {
    "cell_id": "2b5ed38f10d745c6b76c335c8ab2b674",
    "deepnote_cell_type": "code",
    "deepnote_to_be_reexecuted": false,
    "execution_millis": 265,
    "execution_start": 1665767284251,
    "source_hash": "18b6db96",
    "tags": []
   },
   "outputs": [
    {
     "name": "stdout",
     "output_type": "stream",
     "text": [
      "<class 'int'>\n",
      "<class 'int'>\n",
      "<class 'int'>\n",
      "<class 'int'>\n",
      "<class 'int'>\n"
     ]
    }
   ],
   "source": [
    "for z in range(5):\n",
    "    print(type(z))"
   ]
  },
  {
   "cell_type": "markdown",
   "metadata": {},
   "source": [
    "It would be very reasonable to think that `z` is not defined, because it only occurred as a variable inside a for loop, but that's not how Python works with respect to for loops.  The variables are accessible external to the for loop.  We only see `4` because the assignment `z=4` overwrote the earlier assignments `z=0`, then `z=1`, and so on."
   ]
  },
  {
   "cell_type": "code",
   "execution_count": 7,
   "metadata": {
    "cell_id": "98015428bd2e481382c59ef4fea4dcd4",
    "deepnote_cell_type": "code",
    "deepnote_to_be_reexecuted": false,
    "execution_millis": 5,
    "execution_start": 1665767367667,
    "source_hash": "860ac4bd",
    "tags": []
   },
   "outputs": [
    {
     "data": {
      "text/plain": [
       "4"
      ]
     },
     "execution_count": 7,
     "metadata": {},
     "output_type": "execute_result"
    }
   ],
   "source": [
    "z"
   ]
  },
  {
   "cell_type": "markdown",
   "metadata": {},
   "source": [
    "This is what we usually see when we check the `type` of an object."
   ]
  },
  {
   "cell_type": "code",
   "execution_count": 8,
   "metadata": {
    "cell_id": "44ec5752e1e94558b1ad226965817e5a",
    "deepnote_cell_type": "code",
    "deepnote_to_be_reexecuted": false,
    "execution_millis": 162,
    "execution_start": 1665767377444,
    "source_hash": "e38715a6",
    "tags": []
   },
   "outputs": [
    {
     "data": {
      "text/plain": [
       "int"
      ]
     },
     "execution_count": 8,
     "metadata": {},
     "output_type": "execute_result"
    }
   ],
   "source": [
    "type(z)"
   ]
  },
  {
   "cell_type": "markdown",
   "metadata": {},
   "source": [
    "But if we `print` the type of the object, we see the same expression we saw above.  (**Comment**.  This material about `print(type(z))` is not itself important for us.  The only reason we are covering it, is so you are not confused when we see the word `class` below.)"
   ]
  },
  {
   "cell_type": "code",
   "execution_count": 9,
   "metadata": {
    "cell_id": "c10c61d35a1c462d879fc4e3da0f0719",
    "deepnote_cell_type": "code",
    "deepnote_to_be_reexecuted": false,
    "execution_millis": 5,
    "execution_start": 1665767388501,
    "source_hash": "47afed8",
    "tags": []
   },
   "outputs": [
    {
     "name": "stdout",
     "output_type": "stream",
     "text": [
      "<class 'int'>\n"
     ]
    }
   ],
   "source": [
    "print(type(z))"
   ]
  },
  {
   "cell_type": "markdown",
   "metadata": {},
   "source": [
    "Let's finally get to the topic of today, which is what type of objects do we get when we iterate through a pandas GroupBy object.  We get tuples."
   ]
  },
  {
   "cell_type": "code",
   "execution_count": 10,
   "metadata": {
    "cell_id": "ab1766c968994e05a37819b90d3b3268",
    "deepnote_cell_type": "code",
    "deepnote_to_be_reexecuted": false,
    "execution_millis": 715,
    "execution_start": 1665767421350,
    "source_hash": "29c8e4fd",
    "tags": []
   },
   "outputs": [
    {
     "name": "stdout",
     "output_type": "stream",
     "text": [
      "<class 'tuple'>\n",
      "<class 'tuple'>\n",
      "<class 'tuple'>\n",
      "<class 'tuple'>\n",
      "<class 'tuple'>\n",
      "<class 'tuple'>\n",
      "<class 'tuple'>\n",
      "<class 'tuple'>\n",
      "<class 'tuple'>\n",
      "<class 'tuple'>\n",
      "<class 'tuple'>\n",
      "<class 'tuple'>\n",
      "<class 'tuple'>\n"
     ]
    }
   ],
   "source": [
    "for z in df.groupby(\"model_year\"):\n",
    "    print(type(z))"
   ]
  },
  {
   "cell_type": "markdown",
   "metadata": {},
   "source": [
    "The most natural question to ask then is, what is the length of these tuples?  The length is 2."
   ]
  },
  {
   "cell_type": "code",
   "execution_count": 11,
   "metadata": {
    "cell_id": "fd46a2ab37c6412ba90ecfb1c7852aa4",
    "deepnote_cell_type": "code",
    "deepnote_to_be_reexecuted": false,
    "execution_millis": 5,
    "execution_start": 1665767521845,
    "source_hash": "8aeea7cb",
    "tags": []
   },
   "outputs": [
    {
     "name": "stdout",
     "output_type": "stream",
     "text": [
      "2\n",
      "2\n",
      "2\n",
      "2\n",
      "2\n",
      "2\n",
      "2\n",
      "2\n",
      "2\n",
      "2\n",
      "2\n",
      "2\n",
      "2\n"
     ]
    }
   ],
   "source": [
    "for z in df.groupby(\"model_year\"):\n",
    "    print(len(z))"
   ]
  },
  {
   "cell_type": "markdown",
   "metadata": {},
   "source": [
    "What is the initial element of the length 2 tuple?  Here they are.  Notice that these values are exactly the \"model_year\" values that occur in our pandas DataFrame `df`."
   ]
  },
  {
   "cell_type": "code",
   "execution_count": 13,
   "metadata": {
    "cell_id": "df067a4c9d1845af9f0d0125ce215205",
    "deepnote_cell_type": "code",
    "deepnote_to_be_reexecuted": false,
    "execution_millis": 144,
    "execution_start": 1665767650023,
    "source_hash": "4215a6a0",
    "tags": []
   },
   "outputs": [
    {
     "name": "stdout",
     "output_type": "stream",
     "text": [
      "70\n",
      "71\n",
      "72\n",
      "73\n",
      "74\n",
      "75\n",
      "76\n",
      "77\n",
      "78\n",
      "79\n",
      "80\n",
      "81\n",
      "82\n"
     ]
    }
   ],
   "source": [
    "for z in df.groupby(\"model_year\"):\n",
    "    print(z[0])"
   ]
  },
  {
   "cell_type": "markdown",
   "metadata": {},
   "source": [
    "We will usually \"unpack\" the tuple into two separate variables.  The `a` value in the following is exactly the same as the `z[0]` value above."
   ]
  },
  {
   "cell_type": "code",
   "execution_count": 12,
   "metadata": {
    "cell_id": "1c56f0aa05be45c6a0844f0da4738d66",
    "deepnote_cell_type": "code",
    "deepnote_to_be_reexecuted": false,
    "execution_millis": 9,
    "execution_start": 1665767586054,
    "source_hash": "9ce37c11",
    "tags": []
   },
   "outputs": [
    {
     "name": "stdout",
     "output_type": "stream",
     "text": [
      "70\n",
      "71\n",
      "72\n",
      "73\n",
      "74\n",
      "75\n",
      "76\n",
      "77\n",
      "78\n",
      "79\n",
      "80\n",
      "81\n",
      "82\n"
     ]
    }
   ],
   "source": [
    "for z in df.groupby(\"model_year\"):\n",
    "    (a,b) = z # tuple unpacking\n",
    "    print(a)"
   ]
  },
  {
   "cell_type": "markdown",
   "metadata": {},
   "source": [
    "Here is a more elegant way to do the tuple unpacking; we unpack immediately when we create the for loop, as opposed to defining a variable `z` which we never use."
   ]
  },
  {
   "cell_type": "code",
   "execution_count": 14,
   "metadata": {
    "cell_id": "9d6eb27443ca4a85b4389eca8886bdaf",
    "deepnote_cell_type": "code",
    "deepnote_to_be_reexecuted": false,
    "execution_millis": 15,
    "execution_start": 1665767697794,
    "source_hash": "8bf6a19",
    "tags": []
   },
   "outputs": [
    {
     "name": "stdout",
     "output_type": "stream",
     "text": [
      "70\n",
      "71\n",
      "72\n",
      "73\n",
      "74\n",
      "75\n",
      "76\n",
      "77\n",
      "78\n",
      "79\n",
      "80\n",
      "81\n",
      "82\n"
     ]
    }
   ],
   "source": [
    "for a,b in df.groupby(\"model_year\"):\n",
    "    print(a)"
   ]
  },
  {
   "cell_type": "markdown",
   "metadata": {},
   "source": [
    "This tuple unpacking only works because the elements produced when we iterate over `df.groupby` are length 2 tuples.  If we try to do this same unpacking with our `range(5)` for loop, we get an error."
   ]
  },
  {
   "cell_type": "code",
   "execution_count": 15,
   "metadata": {
    "cell_id": "fe44699f8925479d9985d4861e8b949b",
    "deepnote_cell_type": "code",
    "deepnote_to_be_reexecuted": false,
    "execution_millis": 620,
    "execution_start": 1665767727355,
    "source_hash": "362097af",
    "tags": []
   },
   "outputs": [
    {
     "ename": "TypeError",
     "evalue": "cannot unpack non-iterable int object",
     "output_type": "error",
     "traceback": [
      "\u001b[0;31m---------------------------------------------------------------------------\u001b[0m",
      "\u001b[0;31mTypeError\u001b[0m                                 Traceback (most recent call last)",
      "Cell \u001b[0;32mIn [15], line 1\u001b[0m\n\u001b[0;32m----> 1\u001b[0m \u001b[38;5;28;01mfor\u001b[39;00m a,b \u001b[38;5;129;01min\u001b[39;00m \u001b[38;5;28mrange\u001b[39m(\u001b[38;5;241m5\u001b[39m):\n\u001b[1;32m      2\u001b[0m     \u001b[38;5;28mprint\u001b[39m(a)\n",
      "\u001b[0;31mTypeError\u001b[0m: cannot unpack non-iterable int object"
     ]
    }
   ],
   "source": [
    "for a,b in range(5):\n",
    "    print(a)"
   ]
  },
  {
   "cell_type": "markdown",
   "metadata": {},
   "source": [
    "We get the exact same error if we try to unpack the initial thing in that for loop, `0`."
   ]
  },
  {
   "cell_type": "code",
   "execution_count": 16,
   "metadata": {
    "cell_id": "b0937dd80bda41bab0c3d85b418a1f47",
    "deepnote_cell_type": "code",
    "deepnote_to_be_reexecuted": false,
    "execution_millis": 6,
    "execution_start": 1665767745256,
    "source_hash": "5d13ec4f",
    "tags": []
   },
   "outputs": [
    {
     "ename": "TypeError",
     "evalue": "cannot unpack non-iterable int object",
     "output_type": "error",
     "traceback": [
      "\u001b[0;31m---------------------------------------------------------------------------\u001b[0m",
      "\u001b[0;31mTypeError\u001b[0m                                 Traceback (most recent call last)",
      "Cell \u001b[0;32mIn [16], line 1\u001b[0m\n\u001b[0;32m----> 1\u001b[0m a,b \u001b[38;5;241m=\u001b[39m \u001b[38;5;241m0\u001b[39m\n",
      "\u001b[0;31mTypeError\u001b[0m: cannot unpack non-iterable int object"
     ]
    }
   ],
   "source": [
    "a,b = 0"
   ]
  },
  {
   "cell_type": "markdown",
   "metadata": {},
   "source": [
    "Why do we see `2` so many times?  Does the following help?  Initially `z` is assigned to be `(3,5)`, and its length is `2`.  Then `z` is assigned to be `(1,2,3,4)`, and its length is `4`, and so on.  In our GroupBy for loop, the values of `z` always have the same length."
   ]
  },
  {
   "cell_type": "code",
   "execution_count": 17,
   "metadata": {
    "cell_id": "4360a3858eb248fda0a135fb34a5b7c8",
    "deepnote_cell_type": "code",
    "deepnote_to_be_reexecuted": false,
    "execution_millis": 467,
    "execution_start": 1665767873221,
    "source_hash": "9ed5375b",
    "tags": []
   },
   "outputs": [
    {
     "name": "stdout",
     "output_type": "stream",
     "text": [
      "2\n",
      "4\n",
      "3\n"
     ]
    }
   ],
   "source": [
    "for z in [(3,5), (1,2,3,4), (1,6,5)]:\n",
    "    print(len(z))"
   ]
  },
  {
   "cell_type": "markdown",
   "metadata": {},
   "source": [
    "We've already seen the following example.  The initial element (the zeroth element) in the length 2 tuples is the value we are grouping by."
   ]
  },
  {
   "cell_type": "code",
   "execution_count": 18,
   "metadata": {
    "cell_id": "9ddb36d7c8d84b848b8b04fb3ce9d828",
    "deepnote_cell_type": "code",
    "deepnote_to_be_reexecuted": false,
    "execution_millis": 2,
    "execution_start": 1665767960163,
    "source_hash": "8bf6a19",
    "tags": []
   },
   "outputs": [
    {
     "name": "stdout",
     "output_type": "stream",
     "text": [
      "70\n",
      "71\n",
      "72\n",
      "73\n",
      "74\n",
      "75\n",
      "76\n",
      "77\n",
      "78\n",
      "79\n",
      "80\n",
      "81\n",
      "82\n"
     ]
    }
   ],
   "source": [
    "for a,b in df.groupby(\"model_year\"):\n",
    "    print(a)"
   ]
  },
  {
   "cell_type": "markdown",
   "metadata": {},
   "source": [
    "If we try to do the analogous thing for `b`, the second object in the tuple, it is much less helpful.  We can at least tell that `b` is much more complicated than `a`."
   ]
  },
  {
   "cell_type": "code",
   "execution_count": 19,
   "metadata": {
    "cell_id": "e29b72363d13439889722b0e5ded2589",
    "deepnote_cell_type": "code",
    "deepnote_to_be_reexecuted": false,
    "execution_millis": 49,
    "execution_start": 1665767982373,
    "source_hash": "5ceceadc",
    "tags": [
     "output_scroll"
    ]
   },
   "outputs": [
    {
     "name": "stdout",
     "output_type": "stream",
     "text": [
      "     mpg  cylinders  displacement  horsepower  weight  acceleration  \\\n",
      "0   18.0          8         307.0       130.0    3504          12.0   \n",
      "1   15.0          8         350.0       165.0    3693          11.5   \n",
      "2   18.0          8         318.0       150.0    3436          11.0   \n",
      "3   16.0          8         304.0       150.0    3433          12.0   \n",
      "4   17.0          8         302.0       140.0    3449          10.5   \n",
      "5   15.0          8         429.0       198.0    4341          10.0   \n",
      "6   14.0          8         454.0       220.0    4354           9.0   \n",
      "7   14.0          8         440.0       215.0    4312           8.5   \n",
      "8   14.0          8         455.0       225.0    4425          10.0   \n",
      "9   15.0          8         390.0       190.0    3850           8.5   \n",
      "10  15.0          8         383.0       170.0    3563          10.0   \n",
      "11  14.0          8         340.0       160.0    3609           8.0   \n",
      "12  15.0          8         400.0       150.0    3761           9.5   \n",
      "13  14.0          8         455.0       225.0    3086          10.0   \n",
      "14  24.0          4         113.0        95.0    2372          15.0   \n",
      "15  22.0          6         198.0        95.0    2833          15.5   \n",
      "16  18.0          6         199.0        97.0    2774          15.5   \n",
      "17  21.0          6         200.0        85.0    2587          16.0   \n",
      "18  27.0          4          97.0        88.0    2130          14.5   \n",
      "19  26.0          4          97.0        46.0    1835          20.5   \n",
      "20  25.0          4         110.0        87.0    2672          17.5   \n",
      "21  24.0          4         107.0        90.0    2430          14.5   \n",
      "22  25.0          4         104.0        95.0    2375          17.5   \n",
      "23  26.0          4         121.0       113.0    2234          12.5   \n",
      "24  21.0          6         199.0        90.0    2648          15.0   \n",
      "25  10.0          8         360.0       215.0    4615          14.0   \n",
      "26  10.0          8         307.0       200.0    4376          15.0   \n",
      "27  11.0          8         318.0       210.0    4382          13.5   \n",
      "28   9.0          8         304.0       193.0    4732          18.5   \n",
      "\n",
      "    model_year  origin                          name  \n",
      "0           70     usa     chevrolet chevelle malibu  \n",
      "1           70     usa             buick skylark 320  \n",
      "2           70     usa            plymouth satellite  \n",
      "3           70     usa                 amc rebel sst  \n",
      "4           70     usa                   ford torino  \n",
      "5           70     usa              ford galaxie 500  \n",
      "6           70     usa              chevrolet impala  \n",
      "7           70     usa             plymouth fury iii  \n",
      "8           70     usa              pontiac catalina  \n",
      "9           70     usa            amc ambassador dpl  \n",
      "10          70     usa           dodge challenger se  \n",
      "11          70     usa            plymouth 'cuda 340  \n",
      "12          70     usa         chevrolet monte carlo  \n",
      "13          70     usa       buick estate wagon (sw)  \n",
      "14          70   japan         toyota corona mark ii  \n",
      "15          70     usa               plymouth duster  \n",
      "16          70     usa                    amc hornet  \n",
      "17          70     usa                 ford maverick  \n",
      "18          70   japan                  datsun pl510  \n",
      "19          70  europe  volkswagen 1131 deluxe sedan  \n",
      "20          70  europe                   peugeot 504  \n",
      "21          70  europe                   audi 100 ls  \n",
      "22          70  europe                      saab 99e  \n",
      "23          70  europe                      bmw 2002  \n",
      "24          70     usa                   amc gremlin  \n",
      "25          70     usa                     ford f250  \n",
      "26          70     usa                     chevy c20  \n",
      "27          70     usa                    dodge d200  \n",
      "28          70     usa                      hi 1200d  \n",
      "     mpg  cylinders  displacement  horsepower  weight  acceleration  \\\n",
      "29  27.0          4          97.0        88.0    2130          14.5   \n",
      "30  28.0          4         140.0        90.0    2264          15.5   \n",
      "31  25.0          4         113.0        95.0    2228          14.0   \n",
      "32  25.0          4          98.0         NaN    2046          19.0   \n",
      "33  19.0          6         232.0       100.0    2634          13.0   \n",
      "34  16.0          6         225.0       105.0    3439          15.5   \n",
      "35  17.0          6         250.0       100.0    3329          15.5   \n",
      "36  19.0          6         250.0        88.0    3302          15.5   \n",
      "37  18.0          6         232.0       100.0    3288          15.5   \n",
      "38  14.0          8         350.0       165.0    4209          12.0   \n",
      "39  14.0          8         400.0       175.0    4464          11.5   \n",
      "40  14.0          8         351.0       153.0    4154          13.5   \n",
      "41  14.0          8         318.0       150.0    4096          13.0   \n",
      "42  12.0          8         383.0       180.0    4955          11.5   \n",
      "43  13.0          8         400.0       170.0    4746          12.0   \n",
      "44  13.0          8         400.0       175.0    5140          12.0   \n",
      "45  18.0          6         258.0       110.0    2962          13.5   \n",
      "46  22.0          4         140.0        72.0    2408          19.0   \n",
      "47  19.0          6         250.0       100.0    3282          15.0   \n",
      "48  18.0          6         250.0        88.0    3139          14.5   \n",
      "49  23.0          4         122.0        86.0    2220          14.0   \n",
      "50  28.0          4         116.0        90.0    2123          14.0   \n",
      "51  30.0          4          79.0        70.0    2074          19.5   \n",
      "52  30.0          4          88.0        76.0    2065          14.5   \n",
      "53  31.0          4          71.0        65.0    1773          19.0   \n",
      "54  35.0          4          72.0        69.0    1613          18.0   \n",
      "55  27.0          4          97.0        60.0    1834          19.0   \n",
      "56  26.0          4          91.0        70.0    1955          20.5   \n",
      "\n",
      "    model_year  origin                        name  \n",
      "29          71   japan                datsun pl510  \n",
      "30          71     usa         chevrolet vega 2300  \n",
      "31          71   japan               toyota corona  \n",
      "32          71     usa                  ford pinto  \n",
      "33          71     usa                 amc gremlin  \n",
      "34          71     usa   plymouth satellite custom  \n",
      "35          71     usa   chevrolet chevelle malibu  \n",
      "36          71     usa             ford torino 500  \n",
      "37          71     usa                 amc matador  \n",
      "38          71     usa            chevrolet impala  \n",
      "39          71     usa   pontiac catalina brougham  \n",
      "40          71     usa            ford galaxie 500  \n",
      "41          71     usa           plymouth fury iii  \n",
      "42          71     usa           dodge monaco (sw)  \n",
      "43          71     usa    ford country squire (sw)  \n",
      "44          71     usa         pontiac safari (sw)  \n",
      "45          71     usa  amc hornet sportabout (sw)  \n",
      "46          71     usa         chevrolet vega (sw)  \n",
      "47          71     usa            pontiac firebird  \n",
      "48          71     usa                ford mustang  \n",
      "49          71     usa          mercury capri 2000  \n",
      "50          71  europe                   opel 1900  \n",
      "51          71  europe                 peugeot 304  \n",
      "52          71  europe                   fiat 124b  \n",
      "53          71   japan         toyota corolla 1200  \n",
      "54          71   japan                 datsun 1200  \n",
      "55          71  europe        volkswagen model 111  \n",
      "56          71     usa            plymouth cricket  \n",
      "     mpg  cylinders  displacement  horsepower  weight  acceleration  \\\n",
      "57  24.0          4         113.0        95.0    2278          15.5   \n",
      "58  25.0          4          97.5        80.0    2126          17.0   \n",
      "59  23.0          4          97.0        54.0    2254          23.5   \n",
      "60  20.0          4         140.0        90.0    2408          19.5   \n",
      "61  21.0          4         122.0        86.0    2226          16.5   \n",
      "62  13.0          8         350.0       165.0    4274          12.0   \n",
      "63  14.0          8         400.0       175.0    4385          12.0   \n",
      "64  15.0          8         318.0       150.0    4135          13.5   \n",
      "65  14.0          8         351.0       153.0    4129          13.0   \n",
      "66  17.0          8         304.0       150.0    3672          11.5   \n",
      "67  11.0          8         429.0       208.0    4633          11.0   \n",
      "68  13.0          8         350.0       155.0    4502          13.5   \n",
      "69  12.0          8         350.0       160.0    4456          13.5   \n",
      "70  13.0          8         400.0       190.0    4422          12.5   \n",
      "71  19.0          3          70.0        97.0    2330          13.5   \n",
      "72  15.0          8         304.0       150.0    3892          12.5   \n",
      "73  13.0          8         307.0       130.0    4098          14.0   \n",
      "74  13.0          8         302.0       140.0    4294          16.0   \n",
      "75  14.0          8         318.0       150.0    4077          14.0   \n",
      "76  18.0          4         121.0       112.0    2933          14.5   \n",
      "77  22.0          4         121.0        76.0    2511          18.0   \n",
      "78  21.0          4         120.0        87.0    2979          19.5   \n",
      "79  26.0          4          96.0        69.0    2189          18.0   \n",
      "80  22.0          4         122.0        86.0    2395          16.0   \n",
      "81  28.0          4          97.0        92.0    2288          17.0   \n",
      "82  23.0          4         120.0        97.0    2506          14.5   \n",
      "83  28.0          4          98.0        80.0    2164          15.0   \n",
      "84  27.0          4          97.0        88.0    2100          16.5   \n",
      "\n",
      "    model_year  origin                              name  \n",
      "57          72   japan             toyota corona hardtop  \n",
      "58          72     usa                dodge colt hardtop  \n",
      "59          72  europe                 volkswagen type 3  \n",
      "60          72     usa                    chevrolet vega  \n",
      "61          72     usa               ford pinto runabout  \n",
      "62          72     usa                  chevrolet impala  \n",
      "63          72     usa                  pontiac catalina  \n",
      "64          72     usa                 plymouth fury iii  \n",
      "65          72     usa                  ford galaxie 500  \n",
      "66          72     usa                amc ambassador sst  \n",
      "67          72     usa                   mercury marquis  \n",
      "68          72     usa              buick lesabre custom  \n",
      "69          72     usa        oldsmobile delta 88 royale  \n",
      "70          72     usa            chrysler newport royal  \n",
      "71          72   japan                   mazda rx2 coupe  \n",
      "72          72     usa                  amc matador (sw)  \n",
      "73          72     usa  chevrolet chevelle concours (sw)  \n",
      "74          72     usa             ford gran torino (sw)  \n",
      "75          72     usa    plymouth satellite custom (sw)  \n",
      "76          72  europe                   volvo 145e (sw)  \n",
      "77          72  europe               volkswagen 411 (sw)  \n",
      "78          72  europe                  peugeot 504 (sw)  \n",
      "79          72  europe                   renault 12 (sw)  \n",
      "80          72     usa                   ford pinto (sw)  \n",
      "81          72   japan                   datsun 510 (sw)  \n",
      "82          72   japan       toyouta corona mark ii (sw)  \n",
      "83          72     usa                   dodge colt (sw)  \n",
      "84          72   japan          toyota corolla 1600 (sw)  \n",
      "      mpg  cylinders  displacement  horsepower  weight  acceleration  \\\n",
      "85   13.0          8         350.0       175.0    4100          13.0   \n",
      "86   14.0          8         304.0       150.0    3672          11.5   \n",
      "87   13.0          8         350.0       145.0    3988          13.0   \n",
      "88   14.0          8         302.0       137.0    4042          14.5   \n",
      "89   15.0          8         318.0       150.0    3777          12.5   \n",
      "90   12.0          8         429.0       198.0    4952          11.5   \n",
      "91   13.0          8         400.0       150.0    4464          12.0   \n",
      "92   13.0          8         351.0       158.0    4363          13.0   \n",
      "93   14.0          8         318.0       150.0    4237          14.5   \n",
      "94   13.0          8         440.0       215.0    4735          11.0   \n",
      "95   12.0          8         455.0       225.0    4951          11.0   \n",
      "96   13.0          8         360.0       175.0    3821          11.0   \n",
      "97   18.0          6         225.0       105.0    3121          16.5   \n",
      "98   16.0          6         250.0       100.0    3278          18.0   \n",
      "99   18.0          6         232.0       100.0    2945          16.0   \n",
      "100  18.0          6         250.0        88.0    3021          16.5   \n",
      "101  23.0          6         198.0        95.0    2904          16.0   \n",
      "102  26.0          4          97.0        46.0    1950          21.0   \n",
      "103  11.0          8         400.0       150.0    4997          14.0   \n",
      "104  12.0          8         400.0       167.0    4906          12.5   \n",
      "105  13.0          8         360.0       170.0    4654          13.0   \n",
      "106  12.0          8         350.0       180.0    4499          12.5   \n",
      "107  18.0          6         232.0       100.0    2789          15.0   \n",
      "108  20.0          4          97.0        88.0    2279          19.0   \n",
      "109  21.0          4         140.0        72.0    2401          19.5   \n",
      "110  22.0          4         108.0        94.0    2379          16.5   \n",
      "111  18.0          3          70.0        90.0    2124          13.5   \n",
      "112  19.0          4         122.0        85.0    2310          18.5   \n",
      "113  21.0          6         155.0       107.0    2472          14.0   \n",
      "114  26.0          4          98.0        90.0    2265          15.5   \n",
      "115  15.0          8         350.0       145.0    4082          13.0   \n",
      "116  16.0          8         400.0       230.0    4278           9.5   \n",
      "117  29.0          4          68.0        49.0    1867          19.5   \n",
      "118  24.0          4         116.0        75.0    2158          15.5   \n",
      "119  20.0          4         114.0        91.0    2582          14.0   \n",
      "120  19.0          4         121.0       112.0    2868          15.5   \n",
      "121  15.0          8         318.0       150.0    3399          11.0   \n",
      "122  24.0          4         121.0       110.0    2660          14.0   \n",
      "123  20.0          6         156.0       122.0    2807          13.5   \n",
      "124  11.0          8         350.0       180.0    3664          11.0   \n",
      "\n",
      "     model_year  origin                          name  \n",
      "85           73     usa             buick century 350  \n",
      "86           73     usa                   amc matador  \n",
      "87           73     usa              chevrolet malibu  \n",
      "88           73     usa              ford gran torino  \n",
      "89           73     usa          dodge coronet custom  \n",
      "90           73     usa      mercury marquis brougham  \n",
      "91           73     usa     chevrolet caprice classic  \n",
      "92           73     usa                      ford ltd  \n",
      "93           73     usa      plymouth fury gran sedan  \n",
      "94           73     usa  chrysler new yorker brougham  \n",
      "95           73     usa      buick electra 225 custom  \n",
      "96           73     usa       amc ambassador brougham  \n",
      "97           73     usa              plymouth valiant  \n",
      "98           73     usa         chevrolet nova custom  \n",
      "99           73     usa                    amc hornet  \n",
      "100          73     usa                 ford maverick  \n",
      "101          73     usa               plymouth duster  \n",
      "102          73  europe       volkswagen super beetle  \n",
      "103          73     usa              chevrolet impala  \n",
      "104          73     usa                  ford country  \n",
      "105          73     usa        plymouth custom suburb  \n",
      "106          73     usa      oldsmobile vista cruiser  \n",
      "107          73     usa                   amc gremlin  \n",
      "108          73   japan                 toyota carina  \n",
      "109          73     usa                chevrolet vega  \n",
      "110          73   japan                    datsun 610  \n",
      "111          73   japan                     maxda rx3  \n",
      "112          73     usa                    ford pinto  \n",
      "113          73     usa              mercury capri v6  \n",
      "114          73  europe          fiat 124 sport coupe  \n",
      "115          73     usa       chevrolet monte carlo s  \n",
      "116          73     usa            pontiac grand prix  \n",
      "117          73  europe                      fiat 128  \n",
      "118          73  europe                    opel manta  \n",
      "119          73  europe                    audi 100ls  \n",
      "120          73  europe                   volvo 144ea  \n",
      "121          73     usa             dodge dart custom  \n",
      "122          73  europe                     saab 99le  \n",
      "123          73   japan                toyota mark ii  \n",
      "124          73     usa              oldsmobile omega  \n",
      "      mpg  cylinders  displacement  horsepower  weight  acceleration  \\\n",
      "125  20.0          6         198.0        95.0    3102          16.5   \n",
      "126  21.0          6         200.0         NaN    2875          17.0   \n",
      "127  19.0          6         232.0       100.0    2901          16.0   \n",
      "128  15.0          6         250.0       100.0    3336          17.0   \n",
      "129  31.0          4          79.0        67.0    1950          19.0   \n",
      "130  26.0          4         122.0        80.0    2451          16.5   \n",
      "131  32.0          4          71.0        65.0    1836          21.0   \n",
      "132  25.0          4         140.0        75.0    2542          17.0   \n",
      "133  16.0          6         250.0       100.0    3781          17.0   \n",
      "134  16.0          6         258.0       110.0    3632          18.0   \n",
      "135  18.0          6         225.0       105.0    3613          16.5   \n",
      "136  16.0          8         302.0       140.0    4141          14.0   \n",
      "137  13.0          8         350.0       150.0    4699          14.5   \n",
      "138  14.0          8         318.0       150.0    4457          13.5   \n",
      "139  14.0          8         302.0       140.0    4638          16.0   \n",
      "140  14.0          8         304.0       150.0    4257          15.5   \n",
      "141  29.0          4          98.0        83.0    2219          16.5   \n",
      "142  26.0          4          79.0        67.0    1963          15.5   \n",
      "143  26.0          4          97.0        78.0    2300          14.5   \n",
      "144  31.0          4          76.0        52.0    1649          16.5   \n",
      "145  32.0          4          83.0        61.0    2003          19.0   \n",
      "146  28.0          4          90.0        75.0    2125          14.5   \n",
      "147  24.0          4          90.0        75.0    2108          15.5   \n",
      "148  26.0          4         116.0        75.0    2246          14.0   \n",
      "149  24.0          4         120.0        97.0    2489          15.0   \n",
      "150  26.0          4         108.0        93.0    2391          15.5   \n",
      "151  31.0          4          79.0        67.0    2000          16.0   \n",
      "\n",
      "     model_year  origin                               name  \n",
      "125          74     usa                    plymouth duster  \n",
      "126          74     usa                      ford maverick  \n",
      "127          74     usa                         amc hornet  \n",
      "128          74     usa                     chevrolet nova  \n",
      "129          74   japan                        datsun b210  \n",
      "130          74     usa                         ford pinto  \n",
      "131          74   japan                toyota corolla 1200  \n",
      "132          74     usa                     chevrolet vega  \n",
      "133          74     usa  chevrolet chevelle malibu classic  \n",
      "134          74     usa                        amc matador  \n",
      "135          74     usa         plymouth satellite sebring  \n",
      "136          74     usa                   ford gran torino  \n",
      "137          74     usa           buick century luxus (sw)  \n",
      "138          74     usa          dodge coronet custom (sw)  \n",
      "139          74     usa              ford gran torino (sw)  \n",
      "140          74     usa                   amc matador (sw)  \n",
      "141          74  europe                           audi fox  \n",
      "142          74  europe                  volkswagen dasher  \n",
      "143          74  europe                         opel manta  \n",
      "144          74   japan                      toyota corona  \n",
      "145          74   japan                         datsun 710  \n",
      "146          74     usa                         dodge colt  \n",
      "147          74  europe                           fiat 128  \n",
      "148          74  europe                        fiat 124 tc  \n",
      "149          74   japan                        honda civic  \n",
      "150          74   japan                             subaru  \n",
      "151          74  europe                          fiat x1.9  \n",
      "      mpg  cylinders  displacement  horsepower  weight  acceleration  \\\n",
      "152  19.0          6         225.0        95.0    3264          16.0   \n",
      "153  18.0          6         250.0       105.0    3459          16.0   \n",
      "154  15.0          6         250.0        72.0    3432          21.0   \n",
      "155  15.0          6         250.0        72.0    3158          19.5   \n",
      "156  16.0          8         400.0       170.0    4668          11.5   \n",
      "157  15.0          8         350.0       145.0    4440          14.0   \n",
      "158  16.0          8         318.0       150.0    4498          14.5   \n",
      "159  14.0          8         351.0       148.0    4657          13.5   \n",
      "160  17.0          6         231.0       110.0    3907          21.0   \n",
      "161  16.0          6         250.0       105.0    3897          18.5   \n",
      "162  15.0          6         258.0       110.0    3730          19.0   \n",
      "163  18.0          6         225.0        95.0    3785          19.0   \n",
      "164  21.0          6         231.0       110.0    3039          15.0   \n",
      "165  20.0          8         262.0       110.0    3221          13.5   \n",
      "166  13.0          8         302.0       129.0    3169          12.0   \n",
      "167  29.0          4          97.0        75.0    2171          16.0   \n",
      "168  23.0          4         140.0        83.0    2639          17.0   \n",
      "169  20.0          6         232.0       100.0    2914          16.0   \n",
      "170  23.0          4         140.0        78.0    2592          18.5   \n",
      "171  24.0          4         134.0        96.0    2702          13.5   \n",
      "172  25.0          4          90.0        71.0    2223          16.5   \n",
      "173  24.0          4         119.0        97.0    2545          17.0   \n",
      "174  18.0          6         171.0        97.0    2984          14.5   \n",
      "175  29.0          4          90.0        70.0    1937          14.0   \n",
      "176  19.0          6         232.0        90.0    3211          17.0   \n",
      "177  23.0          4         115.0        95.0    2694          15.0   \n",
      "178  23.0          4         120.0        88.0    2957          17.0   \n",
      "179  22.0          4         121.0        98.0    2945          14.5   \n",
      "180  25.0          4         121.0       115.0    2671          13.5   \n",
      "181  33.0          4          91.0        53.0    1795          17.5   \n",
      "\n",
      "     model_year  origin                       name  \n",
      "152          75     usa    plymouth valiant custom  \n",
      "153          75     usa             chevrolet nova  \n",
      "154          75     usa            mercury monarch  \n",
      "155          75     usa              ford maverick  \n",
      "156          75     usa           pontiac catalina  \n",
      "157          75     usa          chevrolet bel air  \n",
      "158          75     usa        plymouth grand fury  \n",
      "159          75     usa                   ford ltd  \n",
      "160          75     usa              buick century  \n",
      "161          75     usa  chevroelt chevelle malibu  \n",
      "162          75     usa                amc matador  \n",
      "163          75     usa              plymouth fury  \n",
      "164          75     usa              buick skyhawk  \n",
      "165          75     usa        chevrolet monza 2+2  \n",
      "166          75     usa            ford mustang ii  \n",
      "167          75   japan             toyota corolla  \n",
      "168          75     usa                 ford pinto  \n",
      "169          75     usa                amc gremlin  \n",
      "170          75     usa              pontiac astro  \n",
      "171          75   japan              toyota corona  \n",
      "172          75  europe          volkswagen dasher  \n",
      "173          75   japan                 datsun 710  \n",
      "174          75     usa                 ford pinto  \n",
      "175          75  europe          volkswagen rabbit  \n",
      "176          75     usa                  amc pacer  \n",
      "177          75  europe                 audi 100ls  \n",
      "178          75  europe                peugeot 504  \n",
      "179          75  europe                volvo 244dl  \n",
      "180          75  europe                  saab 99le  \n",
      "181          75   japan           honda civic cvcc  \n",
      "      mpg  cylinders  displacement  horsepower  weight  acceleration  \\\n",
      "182  28.0          4         107.0        86.0    2464          15.5   \n",
      "183  25.0          4         116.0        81.0    2220          16.9   \n",
      "184  25.0          4         140.0        92.0    2572          14.9   \n",
      "185  26.0          4          98.0        79.0    2255          17.7   \n",
      "186  27.0          4         101.0        83.0    2202          15.3   \n",
      "187  17.5          8         305.0       140.0    4215          13.0   \n",
      "188  16.0          8         318.0       150.0    4190          13.0   \n",
      "189  15.5          8         304.0       120.0    3962          13.9   \n",
      "190  14.5          8         351.0       152.0    4215          12.8   \n",
      "191  22.0          6         225.0       100.0    3233          15.4   \n",
      "192  22.0          6         250.0       105.0    3353          14.5   \n",
      "193  24.0          6         200.0        81.0    3012          17.6   \n",
      "194  22.5          6         232.0        90.0    3085          17.6   \n",
      "195  29.0          4          85.0        52.0    2035          22.2   \n",
      "196  24.5          4          98.0        60.0    2164          22.1   \n",
      "197  29.0          4          90.0        70.0    1937          14.2   \n",
      "198  33.0          4          91.0        53.0    1795          17.4   \n",
      "199  20.0          6         225.0       100.0    3651          17.7   \n",
      "200  18.0          6         250.0        78.0    3574          21.0   \n",
      "201  18.5          6         250.0       110.0    3645          16.2   \n",
      "202  17.5          6         258.0        95.0    3193          17.8   \n",
      "203  29.5          4          97.0        71.0    1825          12.2   \n",
      "204  32.0          4          85.0        70.0    1990          17.0   \n",
      "205  28.0          4          97.0        75.0    2155          16.4   \n",
      "206  26.5          4         140.0        72.0    2565          13.6   \n",
      "207  20.0          4         130.0       102.0    3150          15.7   \n",
      "208  13.0          8         318.0       150.0    3940          13.2   \n",
      "209  19.0          4         120.0        88.0    3270          21.9   \n",
      "210  19.0          6         156.0       108.0    2930          15.5   \n",
      "211  16.5          6         168.0       120.0    3820          16.7   \n",
      "212  16.5          8         350.0       180.0    4380          12.1   \n",
      "213  13.0          8         350.0       145.0    4055          12.0   \n",
      "214  13.0          8         302.0       130.0    3870          15.0   \n",
      "215  13.0          8         318.0       150.0    3755          14.0   \n",
      "\n",
      "     model_year  origin                               name  \n",
      "182          76  europe                           fiat 131  \n",
      "183          76  europe                          opel 1900  \n",
      "184          76     usa                           capri ii  \n",
      "185          76     usa                         dodge colt  \n",
      "186          76  europe                       renault 12tl  \n",
      "187          76     usa  chevrolet chevelle malibu classic  \n",
      "188          76     usa             dodge coronet brougham  \n",
      "189          76     usa                        amc matador  \n",
      "190          76     usa                   ford gran torino  \n",
      "191          76     usa                   plymouth valiant  \n",
      "192          76     usa                     chevrolet nova  \n",
      "193          76     usa                      ford maverick  \n",
      "194          76     usa                         amc hornet  \n",
      "195          76     usa                 chevrolet chevette  \n",
      "196          76     usa                    chevrolet woody  \n",
      "197          76  europe                          vw rabbit  \n",
      "198          76   japan                        honda civic  \n",
      "199          76     usa                     dodge aspen se  \n",
      "200          76     usa                  ford granada ghia  \n",
      "201          76     usa                 pontiac ventura sj  \n",
      "202          76     usa                      amc pacer d/l  \n",
      "203          76  europe                  volkswagen rabbit  \n",
      "204          76   japan                       datsun b-210  \n",
      "205          76   japan                     toyota corolla  \n",
      "206          76     usa                         ford pinto  \n",
      "207          76  europe                          volvo 245  \n",
      "208          76     usa         plymouth volare premier v8  \n",
      "209          76  europe                        peugeot 504  \n",
      "210          76   japan                     toyota mark ii  \n",
      "211          76  europe                 mercedes-benz 280s  \n",
      "212          76     usa                   cadillac seville  \n",
      "213          76     usa                          chevy c10  \n",
      "214          76     usa                          ford f108  \n",
      "215          76     usa                         dodge d100  \n",
      "      mpg  cylinders  displacement  horsepower  weight  acceleration  \\\n",
      "216  31.5          4          98.0        68.0    2045          18.5   \n",
      "217  30.0          4         111.0        80.0    2155          14.8   \n",
      "218  36.0          4          79.0        58.0    1825          18.6   \n",
      "219  25.5          4         122.0        96.0    2300          15.5   \n",
      "220  33.5          4          85.0        70.0    1945          16.8   \n",
      "221  17.5          8         305.0       145.0    3880          12.5   \n",
      "222  17.0          8         260.0       110.0    4060          19.0   \n",
      "223  15.5          8         318.0       145.0    4140          13.7   \n",
      "224  15.0          8         302.0       130.0    4295          14.9   \n",
      "225  17.5          6         250.0       110.0    3520          16.4   \n",
      "226  20.5          6         231.0       105.0    3425          16.9   \n",
      "227  19.0          6         225.0       100.0    3630          17.7   \n",
      "228  18.5          6         250.0        98.0    3525          19.0   \n",
      "229  16.0          8         400.0       180.0    4220          11.1   \n",
      "230  15.5          8         350.0       170.0    4165          11.4   \n",
      "231  15.5          8         400.0       190.0    4325          12.2   \n",
      "232  16.0          8         351.0       149.0    4335          14.5   \n",
      "233  29.0          4          97.0        78.0    1940          14.5   \n",
      "234  24.5          4         151.0        88.0    2740          16.0   \n",
      "235  26.0          4          97.0        75.0    2265          18.2   \n",
      "236  25.5          4         140.0        89.0    2755          15.8   \n",
      "237  30.5          4          98.0        63.0    2051          17.0   \n",
      "238  33.5          4          98.0        83.0    2075          15.9   \n",
      "239  30.0          4          97.0        67.0    1985          16.4   \n",
      "240  30.5          4          97.0        78.0    2190          14.1   \n",
      "241  22.0          6         146.0        97.0    2815          14.5   \n",
      "242  21.5          4         121.0       110.0    2600          12.8   \n",
      "243  21.5          3          80.0       110.0    2720          13.5   \n",
      "\n",
      "     model_year  origin                          name  \n",
      "216          77   japan             honda accord cvcc  \n",
      "217          77     usa       buick opel isuzu deluxe  \n",
      "218          77  europe                 renault 5 gtl  \n",
      "219          77     usa             plymouth arrow gs  \n",
      "220          77   japan         datsun f-10 hatchback  \n",
      "221          77     usa     chevrolet caprice classic  \n",
      "222          77     usa    oldsmobile cutlass supreme  \n",
      "223          77     usa         dodge monaco brougham  \n",
      "224          77     usa       mercury cougar brougham  \n",
      "225          77     usa            chevrolet concours  \n",
      "226          77     usa                 buick skylark  \n",
      "227          77     usa        plymouth volare custom  \n",
      "228          77     usa                  ford granada  \n",
      "229          77     usa         pontiac grand prix lj  \n",
      "230          77     usa  chevrolet monte carlo landau  \n",
      "231          77     usa              chrysler cordoba  \n",
      "232          77     usa              ford thunderbird  \n",
      "233          77  europe      volkswagen rabbit custom  \n",
      "234          77     usa         pontiac sunbird coupe  \n",
      "235          77   japan       toyota corolla liftback  \n",
      "236          77     usa           ford mustang ii 2+2  \n",
      "237          77     usa            chevrolet chevette  \n",
      "238          77     usa                dodge colt m/m  \n",
      "239          77   japan                     subaru dl  \n",
      "240          77  europe             volkswagen dasher  \n",
      "241          77   japan                    datsun 810  \n",
      "242          77  europe                      bmw 320i  \n",
      "243          77   japan                    mazda rx-4  \n",
      "      mpg  cylinders  displacement  horsepower  weight  acceleration  \\\n",
      "244  43.1          4          90.0        48.0    1985          21.5   \n",
      "245  36.1          4          98.0        66.0    1800          14.4   \n",
      "246  32.8          4          78.0        52.0    1985          19.4   \n",
      "247  39.4          4          85.0        70.0    2070          18.6   \n",
      "248  36.1          4          91.0        60.0    1800          16.4   \n",
      "249  19.9          8         260.0       110.0    3365          15.5   \n",
      "250  19.4          8         318.0       140.0    3735          13.2   \n",
      "251  20.2          8         302.0       139.0    3570          12.8   \n",
      "252  19.2          6         231.0       105.0    3535          19.2   \n",
      "253  20.5          6         200.0        95.0    3155          18.2   \n",
      "254  20.2          6         200.0        85.0    2965          15.8   \n",
      "255  25.1          4         140.0        88.0    2720          15.4   \n",
      "256  20.5          6         225.0       100.0    3430          17.2   \n",
      "257  19.4          6         232.0        90.0    3210          17.2   \n",
      "258  20.6          6         231.0       105.0    3380          15.8   \n",
      "259  20.8          6         200.0        85.0    3070          16.7   \n",
      "260  18.6          6         225.0       110.0    3620          18.7   \n",
      "261  18.1          6         258.0       120.0    3410          15.1   \n",
      "262  19.2          8         305.0       145.0    3425          13.2   \n",
      "263  17.7          6         231.0       165.0    3445          13.4   \n",
      "264  18.1          8         302.0       139.0    3205          11.2   \n",
      "265  17.5          8         318.0       140.0    4080          13.7   \n",
      "266  30.0          4          98.0        68.0    2155          16.5   \n",
      "267  27.5          4         134.0        95.0    2560          14.2   \n",
      "268  27.2          4         119.0        97.0    2300          14.7   \n",
      "269  30.9          4         105.0        75.0    2230          14.5   \n",
      "270  21.1          4         134.0        95.0    2515          14.8   \n",
      "271  23.2          4         156.0       105.0    2745          16.7   \n",
      "272  23.8          4         151.0        85.0    2855          17.6   \n",
      "273  23.9          4         119.0        97.0    2405          14.9   \n",
      "274  20.3          5         131.0       103.0    2830          15.9   \n",
      "275  17.0          6         163.0       125.0    3140          13.6   \n",
      "276  21.6          4         121.0       115.0    2795          15.7   \n",
      "277  16.2          6         163.0       133.0    3410          15.8   \n",
      "278  31.5          4          89.0        71.0    1990          14.9   \n",
      "279  29.5          4          98.0        68.0    2135          16.6   \n",
      "\n",
      "     model_year  origin                               name  \n",
      "244          78  europe    volkswagen rabbit custom diesel  \n",
      "245          78     usa                        ford fiesta  \n",
      "246          78   japan                   mazda glc deluxe  \n",
      "247          78   japan                     datsun b210 gx  \n",
      "248          78   japan                   honda civic cvcc  \n",
      "249          78     usa  oldsmobile cutlass salon brougham  \n",
      "250          78     usa                     dodge diplomat  \n",
      "251          78     usa               mercury monarch ghia  \n",
      "252          78     usa                 pontiac phoenix lj  \n",
      "253          78     usa                   chevrolet malibu  \n",
      "254          78     usa               ford fairmont (auto)  \n",
      "255          78     usa                ford fairmont (man)  \n",
      "256          78     usa                    plymouth volare  \n",
      "257          78     usa                        amc concord  \n",
      "258          78     usa              buick century special  \n",
      "259          78     usa                     mercury zephyr  \n",
      "260          78     usa                        dodge aspen  \n",
      "261          78     usa                    amc concord d/l  \n",
      "262          78     usa       chevrolet monte carlo landau  \n",
      "263          78     usa    buick regal sport coupe (turbo)  \n",
      "264          78     usa                        ford futura  \n",
      "265          78     usa                    dodge magnum xe  \n",
      "266          78     usa                 chevrolet chevette  \n",
      "267          78   japan                      toyota corona  \n",
      "268          78   japan                         datsun 510  \n",
      "269          78     usa                         dodge omni  \n",
      "270          78   japan          toyota celica gt liftback  \n",
      "271          78     usa                   plymouth sapporo  \n",
      "272          78     usa             oldsmobile starfire sx  \n",
      "273          78   japan                      datsun 200-sx  \n",
      "274          78  europe                          audi 5000  \n",
      "275          78  europe                        volvo 264gl  \n",
      "276          78  europe                         saab 99gle  \n",
      "277          78  europe                      peugeot 604sl  \n",
      "278          78  europe                volkswagen scirocco  \n",
      "279          78   japan                    honda accord lx  \n",
      "      mpg  cylinders  displacement  horsepower  weight  acceleration  \\\n",
      "280  21.5          6         231.0       115.0    3245          15.4   \n",
      "281  19.8          6         200.0        85.0    2990          18.2   \n",
      "282  22.3          4         140.0        88.0    2890          17.3   \n",
      "283  20.2          6         232.0        90.0    3265          18.2   \n",
      "284  20.6          6         225.0       110.0    3360          16.6   \n",
      "285  17.0          8         305.0       130.0    3840          15.4   \n",
      "286  17.6          8         302.0       129.0    3725          13.4   \n",
      "287  16.5          8         351.0       138.0    3955          13.2   \n",
      "288  18.2          8         318.0       135.0    3830          15.2   \n",
      "289  16.9          8         350.0       155.0    4360          14.9   \n",
      "290  15.5          8         351.0       142.0    4054          14.3   \n",
      "291  19.2          8         267.0       125.0    3605          15.0   \n",
      "292  18.5          8         360.0       150.0    3940          13.0   \n",
      "293  31.9          4          89.0        71.0    1925          14.0   \n",
      "294  34.1          4          86.0        65.0    1975          15.2   \n",
      "295  35.7          4          98.0        80.0    1915          14.4   \n",
      "296  27.4          4         121.0        80.0    2670          15.0   \n",
      "297  25.4          5         183.0        77.0    3530          20.1   \n",
      "298  23.0          8         350.0       125.0    3900          17.4   \n",
      "299  27.2          4         141.0        71.0    3190          24.8   \n",
      "300  23.9          8         260.0        90.0    3420          22.2   \n",
      "301  34.2          4         105.0        70.0    2200          13.2   \n",
      "302  34.5          4         105.0        70.0    2150          14.9   \n",
      "303  31.8          4          85.0        65.0    2020          19.2   \n",
      "304  37.3          4          91.0        69.0    2130          14.7   \n",
      "305  28.4          4         151.0        90.0    2670          16.0   \n",
      "306  28.8          6         173.0       115.0    2595          11.3   \n",
      "307  26.8          6         173.0       115.0    2700          12.9   \n",
      "308  33.5          4         151.0        90.0    2556          13.2   \n",
      "\n",
      "     model_year  origin                                  name  \n",
      "280          79     usa                     pontiac lemans v6  \n",
      "281          79     usa                      mercury zephyr 6  \n",
      "282          79     usa                       ford fairmont 4  \n",
      "283          79     usa                      amc concord dl 6  \n",
      "284          79     usa                         dodge aspen 6  \n",
      "285          79     usa             chevrolet caprice classic  \n",
      "286          79     usa                       ford ltd landau  \n",
      "287          79     usa                 mercury grand marquis  \n",
      "288          79     usa                       dodge st. regis  \n",
      "289          79     usa               buick estate wagon (sw)  \n",
      "290          79     usa              ford country squire (sw)  \n",
      "291          79     usa         chevrolet malibu classic (sw)  \n",
      "292          79     usa  chrysler lebaron town @ country (sw)  \n",
      "293          79  europe                      vw rabbit custom  \n",
      "294          79   japan                      maxda glc deluxe  \n",
      "295          79     usa           dodge colt hatchback custom  \n",
      "296          79     usa                         amc spirit dl  \n",
      "297          79  europe                    mercedes benz 300d  \n",
      "298          79     usa                     cadillac eldorado  \n",
      "299          79  europe                           peugeot 504  \n",
      "300          79     usa     oldsmobile cutlass salon brougham  \n",
      "301          79     usa                      plymouth horizon  \n",
      "302          79     usa                  plymouth horizon tc3  \n",
      "303          79   japan                            datsun 210  \n",
      "304          79  europe                    fiat strada custom  \n",
      "305          79     usa                 buick skylark limited  \n",
      "306          79     usa                    chevrolet citation  \n",
      "307          79     usa             oldsmobile omega brougham  \n",
      "308          79     usa                       pontiac phoenix  \n",
      "      mpg  cylinders  displacement  horsepower  weight  acceleration  \\\n",
      "309  41.5          4          98.0        76.0    2144          14.7   \n",
      "310  38.1          4          89.0        60.0    1968          18.8   \n",
      "311  32.1          4          98.0        70.0    2120          15.5   \n",
      "312  37.2          4          86.0        65.0    2019          16.4   \n",
      "313  28.0          4         151.0        90.0    2678          16.5   \n",
      "314  26.4          4         140.0        88.0    2870          18.1   \n",
      "315  24.3          4         151.0        90.0    3003          20.1   \n",
      "316  19.1          6         225.0        90.0    3381          18.7   \n",
      "317  34.3          4          97.0        78.0    2188          15.8   \n",
      "318  29.8          4         134.0        90.0    2711          15.5   \n",
      "319  31.3          4         120.0        75.0    2542          17.5   \n",
      "320  37.0          4         119.0        92.0    2434          15.0   \n",
      "321  32.2          4         108.0        75.0    2265          15.2   \n",
      "322  46.6          4          86.0        65.0    2110          17.9   \n",
      "323  27.9          4         156.0       105.0    2800          14.4   \n",
      "324  40.8          4          85.0        65.0    2110          19.2   \n",
      "325  44.3          4          90.0        48.0    2085          21.7   \n",
      "326  43.4          4          90.0        48.0    2335          23.7   \n",
      "327  36.4          5         121.0        67.0    2950          19.9   \n",
      "328  30.0          4         146.0        67.0    3250          21.8   \n",
      "329  44.6          4          91.0        67.0    1850          13.8   \n",
      "330  40.9          4          85.0         NaN    1835          17.3   \n",
      "331  33.8          4          97.0        67.0    2145          18.0   \n",
      "332  29.8          4          89.0        62.0    1845          15.3   \n",
      "333  32.7          6         168.0       132.0    2910          11.4   \n",
      "334  23.7          3          70.0       100.0    2420          12.5   \n",
      "335  35.0          4         122.0        88.0    2500          15.1   \n",
      "336  23.6          4         140.0         NaN    2905          14.3   \n",
      "337  32.4          4         107.0        72.0    2290          17.0   \n",
      "\n",
      "     model_year  origin                    name  \n",
      "309          80  europe               vw rabbit  \n",
      "310          80   japan   toyota corolla tercel  \n",
      "311          80     usa      chevrolet chevette  \n",
      "312          80   japan              datsun 310  \n",
      "313          80     usa      chevrolet citation  \n",
      "314          80     usa           ford fairmont  \n",
      "315          80     usa             amc concord  \n",
      "316          80     usa             dodge aspen  \n",
      "317          80  europe               audi 4000  \n",
      "318          80   japan  toyota corona liftback  \n",
      "319          80   japan               mazda 626  \n",
      "320          80   japan    datsun 510 hatchback  \n",
      "321          80   japan          toyota corolla  \n",
      "322          80   japan               mazda glc  \n",
      "323          80     usa              dodge colt  \n",
      "324          80   japan              datsun 210  \n",
      "325          80  europe    vw rabbit c (diesel)  \n",
      "326          80  europe      vw dasher (diesel)  \n",
      "327          80  europe     audi 5000s (diesel)  \n",
      "328          80  europe      mercedes-benz 240d  \n",
      "329          80   japan     honda civic 1500 gl  \n",
      "330          80  europe    renault lecar deluxe  \n",
      "331          80   japan               subaru dl  \n",
      "332          80  europe        vokswagen rabbit  \n",
      "333          80   japan           datsun 280-zx  \n",
      "334          80   japan           mazda rx-7 gs  \n",
      "335          80  europe       triumph tr7 coupe  \n",
      "336          80     usa      ford mustang cobra  \n",
      "337          80   japan            honda accord  \n",
      "      mpg  cylinders  displacement  horsepower  weight  acceleration  \\\n",
      "338  27.2          4         135.0        84.0    2490          15.7   \n",
      "339  26.6          4         151.0        84.0    2635          16.4   \n",
      "340  25.8          4         156.0        92.0    2620          14.4   \n",
      "341  23.5          6         173.0       110.0    2725          12.6   \n",
      "342  30.0          4         135.0        84.0    2385          12.9   \n",
      "343  39.1          4          79.0        58.0    1755          16.9   \n",
      "344  39.0          4          86.0        64.0    1875          16.4   \n",
      "345  35.1          4          81.0        60.0    1760          16.1   \n",
      "346  32.3          4          97.0        67.0    2065          17.8   \n",
      "347  37.0          4          85.0        65.0    1975          19.4   \n",
      "348  37.7          4          89.0        62.0    2050          17.3   \n",
      "349  34.1          4          91.0        68.0    1985          16.0   \n",
      "350  34.7          4         105.0        63.0    2215          14.9   \n",
      "351  34.4          4          98.0        65.0    2045          16.2   \n",
      "352  29.9          4          98.0        65.0    2380          20.7   \n",
      "353  33.0          4         105.0        74.0    2190          14.2   \n",
      "354  34.5          4         100.0         NaN    2320          15.8   \n",
      "355  33.7          4         107.0        75.0    2210          14.4   \n",
      "356  32.4          4         108.0        75.0    2350          16.8   \n",
      "357  32.9          4         119.0       100.0    2615          14.8   \n",
      "358  31.6          4         120.0        74.0    2635          18.3   \n",
      "359  28.1          4         141.0        80.0    3230          20.4   \n",
      "360  30.7          6         145.0        76.0    3160          19.6   \n",
      "361  25.4          6         168.0       116.0    2900          12.6   \n",
      "362  24.2          6         146.0       120.0    2930          13.8   \n",
      "363  22.4          6         231.0       110.0    3415          15.8   \n",
      "364  26.6          8         350.0       105.0    3725          19.0   \n",
      "365  20.2          6         200.0        88.0    3060          17.1   \n",
      "366  17.6          6         225.0        85.0    3465          16.6   \n",
      "\n",
      "     model_year  origin                       name  \n",
      "338          81     usa           plymouth reliant  \n",
      "339          81     usa              buick skylark  \n",
      "340          81     usa     dodge aries wagon (sw)  \n",
      "341          81     usa         chevrolet citation  \n",
      "342          81     usa           plymouth reliant  \n",
      "343          81   japan             toyota starlet  \n",
      "344          81     usa             plymouth champ  \n",
      "345          81   japan           honda civic 1300  \n",
      "346          81   japan                     subaru  \n",
      "347          81   japan             datsun 210 mpg  \n",
      "348          81   japan              toyota tercel  \n",
      "349          81   japan                mazda glc 4  \n",
      "350          81     usa         plymouth horizon 4  \n",
      "351          81     usa             ford escort 4w  \n",
      "352          81     usa             ford escort 2h  \n",
      "353          81  europe           volkswagen jetta  \n",
      "354          81  europe                renault 18i  \n",
      "355          81   japan              honda prelude  \n",
      "356          81   japan             toyota corolla  \n",
      "357          81   japan               datsun 200sx  \n",
      "358          81   japan                  mazda 626  \n",
      "359          81  europe  peugeot 505s turbo diesel  \n",
      "360          81  europe               volvo diesel  \n",
      "361          81   japan            toyota cressida  \n",
      "362          81   japan          datsun 810 maxima  \n",
      "363          81     usa              buick century  \n",
      "364          81     usa      oldsmobile cutlass ls  \n",
      "365          81     usa            ford granada gl  \n",
      "366          81     usa     chrysler lebaron salon  \n",
      "      mpg  cylinders  displacement  horsepower  weight  acceleration  \\\n",
      "367  28.0          4         112.0        88.0    2605          19.6   \n",
      "368  27.0          4         112.0        88.0    2640          18.6   \n",
      "369  34.0          4         112.0        88.0    2395          18.0   \n",
      "370  31.0          4         112.0        85.0    2575          16.2   \n",
      "371  29.0          4         135.0        84.0    2525          16.0   \n",
      "372  27.0          4         151.0        90.0    2735          18.0   \n",
      "373  24.0          4         140.0        92.0    2865          16.4   \n",
      "374  23.0          4         151.0         NaN    3035          20.5   \n",
      "375  36.0          4         105.0        74.0    1980          15.3   \n",
      "376  37.0          4          91.0        68.0    2025          18.2   \n",
      "377  31.0          4          91.0        68.0    1970          17.6   \n",
      "378  38.0          4         105.0        63.0    2125          14.7   \n",
      "379  36.0          4          98.0        70.0    2125          17.3   \n",
      "380  36.0          4         120.0        88.0    2160          14.5   \n",
      "381  36.0          4         107.0        75.0    2205          14.5   \n",
      "382  34.0          4         108.0        70.0    2245          16.9   \n",
      "383  38.0          4          91.0        67.0    1965          15.0   \n",
      "384  32.0          4          91.0        67.0    1965          15.7   \n",
      "385  38.0          4          91.0        67.0    1995          16.2   \n",
      "386  25.0          6         181.0       110.0    2945          16.4   \n",
      "387  38.0          6         262.0        85.0    3015          17.0   \n",
      "388  26.0          4         156.0        92.0    2585          14.5   \n",
      "389  22.0          6         232.0       112.0    2835          14.7   \n",
      "390  32.0          4         144.0        96.0    2665          13.9   \n",
      "391  36.0          4         135.0        84.0    2370          13.0   \n",
      "392  27.0          4         151.0        90.0    2950          17.3   \n",
      "393  27.0          4         140.0        86.0    2790          15.6   \n",
      "394  44.0          4          97.0        52.0    2130          24.6   \n",
      "395  32.0          4         135.0        84.0    2295          11.6   \n",
      "396  28.0          4         120.0        79.0    2625          18.6   \n",
      "397  31.0          4         119.0        82.0    2720          19.4   \n",
      "\n",
      "     model_year  origin                               name  \n",
      "367          82     usa                 chevrolet cavalier  \n",
      "368          82     usa           chevrolet cavalier wagon  \n",
      "369          82     usa          chevrolet cavalier 2-door  \n",
      "370          82     usa         pontiac j2000 se hatchback  \n",
      "371          82     usa                     dodge aries se  \n",
      "372          82     usa                    pontiac phoenix  \n",
      "373          82     usa               ford fairmont futura  \n",
      "374          82     usa                     amc concord dl  \n",
      "375          82  europe                volkswagen rabbit l  \n",
      "376          82   japan                 mazda glc custom l  \n",
      "377          82   japan                   mazda glc custom  \n",
      "378          82     usa             plymouth horizon miser  \n",
      "379          82     usa                     mercury lynx l  \n",
      "380          82   japan                   nissan stanza xe  \n",
      "381          82   japan                       honda accord  \n",
      "382          82   japan                     toyota corolla  \n",
      "383          82   japan                        honda civic  \n",
      "384          82   japan                 honda civic (auto)  \n",
      "385          82   japan                      datsun 310 gx  \n",
      "386          82     usa              buick century limited  \n",
      "387          82     usa  oldsmobile cutlass ciera (diesel)  \n",
      "388          82     usa         chrysler lebaron medallion  \n",
      "389          82     usa                     ford granada l  \n",
      "390          82   japan                   toyota celica gt  \n",
      "391          82     usa                  dodge charger 2.2  \n",
      "392          82     usa                   chevrolet camaro  \n",
      "393          82     usa                    ford mustang gl  \n",
      "394          82  europe                          vw pickup  \n",
      "395          82     usa                      dodge rampage  \n",
      "396          82     usa                        ford ranger  \n",
      "397          82     usa                         chevy s-10  \n"
     ]
    }
   ],
   "source": [
    "for a,b in df.groupby(\"model_year\"):\n",
    "    print(b)"
   ]
  },
  {
   "cell_type": "code",
   "execution_count": 20,
   "metadata": {
    "cell_id": "e30e748195b6410f9dc29b5751dd0efc",
    "deepnote_cell_type": "code",
    "deepnote_to_be_reexecuted": false,
    "execution_millis": 4,
    "execution_start": 1665768065116,
    "source_hash": "9510a2de",
    "tags": []
   },
   "outputs": [
    {
     "name": "stdout",
     "output_type": "stream",
     "text": [
      "<class 'pandas.core.frame.DataFrame'>\n",
      "<class 'pandas.core.frame.DataFrame'>\n",
      "<class 'pandas.core.frame.DataFrame'>\n",
      "<class 'pandas.core.frame.DataFrame'>\n",
      "<class 'pandas.core.frame.DataFrame'>\n",
      "<class 'pandas.core.frame.DataFrame'>\n",
      "<class 'pandas.core.frame.DataFrame'>\n",
      "<class 'pandas.core.frame.DataFrame'>\n",
      "<class 'pandas.core.frame.DataFrame'>\n",
      "<class 'pandas.core.frame.DataFrame'>\n",
      "<class 'pandas.core.frame.DataFrame'>\n",
      "<class 'pandas.core.frame.DataFrame'>\n",
      "<class 'pandas.core.frame.DataFrame'>\n"
     ]
    }
   ],
   "source": [
    "for a,b in df.groupby(\"model_year\"):\n",
    "    print(type(b))"
   ]
  },
  {
   "cell_type": "markdown",
   "metadata": {},
   "source": [
    "Instead of using `print`, let's use `display` for `b`.  The information is the same, but it will be in a more familiar presentation.  Let's also use the expression `break` to leave the for loop immediately.  (So here we are doing the code inside the for loop exactly one time.)\n",
    "\n",
    "Notice that `a` is `70` in this case and `b` is a pandas DataFrame.  In fact, it is the sub-DataFrame corresponding to the model_year of 70.  We would normally get this sub-DataFrame `b` using Boolean indexing, but here pandas `groupby` is doing that work for us."
   ]
  },
  {
   "cell_type": "code",
   "execution_count": 21,
   "metadata": {
    "cell_id": "313759ddc0b449baad540ba1357b9cd0",
    "deepnote_cell_type": "code",
    "deepnote_to_be_reexecuted": false,
    "execution_millis": 172,
    "execution_start": 1665768151558,
    "source_hash": "278371e7",
    "tags": [
     "output_scroll"
    ]
   },
   "outputs": [
    {
     "name": "stdout",
     "output_type": "stream",
     "text": [
      "70\n"
     ]
    },
    {
     "data": {
      "application/vnd.deepnote.dataframe.v3+json": {
       "column_count": 9,
       "columns": [
        {
         "dtype": "float64",
         "name": "mpg",
         "stats": {
          "histogram": [
           {
            "bin_end": 10.8,
            "bin_start": 9,
            "count": 3
           },
           {
            "bin_end": 12.6,
            "bin_start": 10.8,
            "count": 1
           },
           {
            "bin_end": 14.4,
            "bin_start": 12.6,
            "count": 5
           },
           {
            "bin_end": 16.2,
            "bin_start": 14.4,
            "count": 6
           },
           {
            "bin_end": 18,
            "bin_start": 16.2,
            "count": 1
           },
           {
            "bin_end": 19.8,
            "bin_start": 18,
            "count": 3
           },
           {
            "bin_end": 21.6,
            "bin_start": 19.8,
            "count": 2
           },
           {
            "bin_end": 23.4,
            "bin_start": 21.6,
            "count": 1
           },
           {
            "bin_end": 25.2,
            "bin_start": 23.4,
            "count": 4
           },
           {
            "bin_end": 27,
            "bin_start": 25.2,
            "count": 3
           }
          ],
          "max": "27.0",
          "min": "9.0",
          "nan_count": 0,
          "unique_count": 14
         }
        },
        {
         "dtype": "int64",
         "name": "cylinders",
         "stats": {
          "histogram": [
           {
            "bin_end": 4.4,
            "bin_start": 4,
            "count": 7
           },
           {
            "bin_end": 4.8,
            "bin_start": 4.4,
            "count": 0
           },
           {
            "bin_end": 5.2,
            "bin_start": 4.8,
            "count": 0
           },
           {
            "bin_end": 5.6,
            "bin_start": 5.2,
            "count": 0
           },
           {
            "bin_end": 6,
            "bin_start": 5.6,
            "count": 0
           },
           {
            "bin_end": 6.4,
            "bin_start": 6,
            "count": 4
           },
           {
            "bin_end": 6.800000000000001,
            "bin_start": 6.4,
            "count": 0
           },
           {
            "bin_end": 7.2,
            "bin_start": 6.800000000000001,
            "count": 0
           },
           {
            "bin_end": 7.6,
            "bin_start": 7.2,
            "count": 0
           },
           {
            "bin_end": 8,
            "bin_start": 7.6,
            "count": 18
           }
          ],
          "max": "8",
          "min": "4",
          "nan_count": 0,
          "unique_count": 3
         }
        },
        {
         "dtype": "float64",
         "name": "displacement",
         "stats": {
          "histogram": [
           {
            "bin_end": 132.8,
            "bin_start": 97,
            "count": 7
           },
           {
            "bin_end": 168.6,
            "bin_start": 132.8,
            "count": 0
           },
           {
            "bin_end": 204.39999999999998,
            "bin_start": 168.6,
            "count": 4
           },
           {
            "bin_end": 240.2,
            "bin_start": 204.39999999999998,
            "count": 0
           },
           {
            "bin_end": 276,
            "bin_start": 240.2,
            "count": 0
           },
           {
            "bin_end": 311.79999999999995,
            "bin_start": 276,
            "count": 5
           },
           {
            "bin_end": 347.59999999999997,
            "bin_start": 311.79999999999995,
            "count": 3
           },
           {
            "bin_end": 383.4,
            "bin_start": 347.59999999999997,
            "count": 3
           },
           {
            "bin_end": 419.2,
            "bin_start": 383.4,
            "count": 2
           },
           {
            "bin_end": 455,
            "bin_start": 419.2,
            "count": 5
           }
          ],
          "max": "455.0",
          "min": "97.0",
          "nan_count": 0,
          "unique_count": 23
         }
        },
        {
         "dtype": "float64",
         "name": "horsepower",
         "stats": {
          "histogram": [
           {
            "bin_end": 63.9,
            "bin_start": 46,
            "count": 1
           },
           {
            "bin_end": 81.8,
            "bin_start": 63.9,
            "count": 0
           },
           {
            "bin_end": 99.69999999999999,
            "bin_start": 81.8,
            "count": 9
           },
           {
            "bin_end": 117.6,
            "bin_start": 99.69999999999999,
            "count": 1
           },
           {
            "bin_end": 135.5,
            "bin_start": 117.6,
            "count": 1
           },
           {
            "bin_end": 153.39999999999998,
            "bin_start": 135.5,
            "count": 4
           },
           {
            "bin_end": 171.29999999999998,
            "bin_start": 153.39999999999998,
            "count": 3
           },
           {
            "bin_end": 189.2,
            "bin_start": 171.29999999999998,
            "count": 0
           },
           {
            "bin_end": 207.1,
            "bin_start": 189.2,
            "count": 4
           },
           {
            "bin_end": 225,
            "bin_start": 207.1,
            "count": 6
           }
          ],
          "max": "225.0",
          "min": "46.0",
          "nan_count": 0,
          "unique_count": 22
         }
        },
        {
         "dtype": "int64",
         "name": "weight",
         "stats": {
          "histogram": [
           {
            "bin_end": 2124.7,
            "bin_start": 1835,
            "count": 1
           },
           {
            "bin_end": 2414.4,
            "bin_start": 2124.7,
            "count": 4
           },
           {
            "bin_end": 2704.1,
            "bin_start": 2414.4,
            "count": 4
           },
           {
            "bin_end": 2993.8,
            "bin_start": 2704.1,
            "count": 2
           },
           {
            "bin_end": 3283.5,
            "bin_start": 2993.8,
            "count": 1
           },
           {
            "bin_end": 3573.2,
            "bin_start": 3283.5,
            "count": 5
           },
           {
            "bin_end": 3862.8999999999996,
            "bin_start": 3573.2,
            "count": 4
           },
           {
            "bin_end": 4152.6,
            "bin_start": 3862.8999999999996,
            "count": 0
           },
           {
            "bin_end": 4442.299999999999,
            "bin_start": 4152.6,
            "count": 6
           },
           {
            "bin_end": 4732,
            "bin_start": 4442.299999999999,
            "count": 2
           }
          ],
          "max": "4732",
          "min": "1835",
          "nan_count": 0,
          "unique_count": 29
         }
        },
        {
         "dtype": "float64",
         "name": "acceleration",
         "stats": {
          "histogram": [
           {
            "bin_end": 9.25,
            "bin_start": 8,
            "count": 4
           },
           {
            "bin_end": 10.5,
            "bin_start": 9.25,
            "count": 5
           },
           {
            "bin_end": 11.75,
            "bin_start": 10.5,
            "count": 3
           },
           {
            "bin_end": 13,
            "bin_start": 11.75,
            "count": 3
           },
           {
            "bin_end": 14.25,
            "bin_start": 13,
            "count": 2
           },
           {
            "bin_end": 15.5,
            "bin_start": 14.25,
            "count": 5
           },
           {
            "bin_end": 16.75,
            "bin_start": 15.5,
            "count": 3
           },
           {
            "bin_end": 18,
            "bin_start": 16.75,
            "count": 2
           },
           {
            "bin_end": 19.25,
            "bin_start": 18,
            "count": 1
           },
           {
            "bin_end": 20.5,
            "bin_start": 19.25,
            "count": 1
           }
          ],
          "max": "20.5",
          "min": "8.0",
          "nan_count": 0,
          "unique_count": 19
         }
        },
        {
         "dtype": "int64",
         "name": "model_year",
         "stats": {
          "histogram": [
           {
            "bin_end": 69.6,
            "bin_start": 69.5,
            "count": 0
           },
           {
            "bin_end": 69.7,
            "bin_start": 69.6,
            "count": 0
           },
           {
            "bin_end": 69.8,
            "bin_start": 69.7,
            "count": 0
           },
           {
            "bin_end": 69.9,
            "bin_start": 69.8,
            "count": 0
           },
           {
            "bin_end": 70,
            "bin_start": 69.9,
            "count": 0
           },
           {
            "bin_end": 70.1,
            "bin_start": 70,
            "count": 29
           },
           {
            "bin_end": 70.2,
            "bin_start": 70.1,
            "count": 0
           },
           {
            "bin_end": 70.3,
            "bin_start": 70.2,
            "count": 0
           },
           {
            "bin_end": 70.4,
            "bin_start": 70.3,
            "count": 0
           },
           {
            "bin_end": 70.5,
            "bin_start": 70.4,
            "count": 0
           }
          ],
          "max": "70",
          "min": "70",
          "nan_count": 0,
          "unique_count": 1
         }
        },
        {
         "dtype": "object",
         "name": "origin",
         "stats": {
          "categories": [
           {
            "count": 22,
            "name": "usa"
           },
           {
            "count": 5,
            "name": "europe"
           },
           {
            "count": 2,
            "name": "japan"
           }
          ],
          "nan_count": 0,
          "unique_count": 3
         }
        },
        {
         "dtype": "object",
         "name": "name",
         "stats": {
          "categories": [
           {
            "count": 1,
            "name": "chevrolet chevelle malibu"
           },
           {
            "count": 1,
            "name": "buick skylark 320"
           },
           {
            "count": 27,
            "name": "27 others"
           }
          ],
          "nan_count": 0,
          "unique_count": 29
         }
        },
        {
         "dtype": "int64",
         "name": "_deepnote_index_column"
        }
       ],
       "row_count": 29,
       "rows": [
        {
         "_deepnote_index_column": "0",
         "acceleration": "12.0",
         "cylinders": "8",
         "displacement": "307.0",
         "horsepower": "130.0",
         "model_year": "70",
         "mpg": "18.0",
         "name": "chevrolet chevelle malibu",
         "origin": "usa",
         "weight": "3504"
        },
        {
         "_deepnote_index_column": "1",
         "acceleration": "11.5",
         "cylinders": "8",
         "displacement": "350.0",
         "horsepower": "165.0",
         "model_year": "70",
         "mpg": "15.0",
         "name": "buick skylark 320",
         "origin": "usa",
         "weight": "3693"
        },
        {
         "_deepnote_index_column": "2",
         "acceleration": "11.0",
         "cylinders": "8",
         "displacement": "318.0",
         "horsepower": "150.0",
         "model_year": "70",
         "mpg": "18.0",
         "name": "plymouth satellite",
         "origin": "usa",
         "weight": "3436"
        },
        {
         "_deepnote_index_column": "3",
         "acceleration": "12.0",
         "cylinders": "8",
         "displacement": "304.0",
         "horsepower": "150.0",
         "model_year": "70",
         "mpg": "16.0",
         "name": "amc rebel sst",
         "origin": "usa",
         "weight": "3433"
        },
        {
         "_deepnote_index_column": "4",
         "acceleration": "10.5",
         "cylinders": "8",
         "displacement": "302.0",
         "horsepower": "140.0",
         "model_year": "70",
         "mpg": "17.0",
         "name": "ford torino",
         "origin": "usa",
         "weight": "3449"
        },
        {
         "_deepnote_index_column": "5",
         "acceleration": "10.0",
         "cylinders": "8",
         "displacement": "429.0",
         "horsepower": "198.0",
         "model_year": "70",
         "mpg": "15.0",
         "name": "ford galaxie 500",
         "origin": "usa",
         "weight": "4341"
        },
        {
         "_deepnote_index_column": "6",
         "acceleration": "9.0",
         "cylinders": "8",
         "displacement": "454.0",
         "horsepower": "220.0",
         "model_year": "70",
         "mpg": "14.0",
         "name": "chevrolet impala",
         "origin": "usa",
         "weight": "4354"
        },
        {
         "_deepnote_index_column": "7",
         "acceleration": "8.5",
         "cylinders": "8",
         "displacement": "440.0",
         "horsepower": "215.0",
         "model_year": "70",
         "mpg": "14.0",
         "name": "plymouth fury iii",
         "origin": "usa",
         "weight": "4312"
        },
        {
         "_deepnote_index_column": "8",
         "acceleration": "10.0",
         "cylinders": "8",
         "displacement": "455.0",
         "horsepower": "225.0",
         "model_year": "70",
         "mpg": "14.0",
         "name": "pontiac catalina",
         "origin": "usa",
         "weight": "4425"
        },
        {
         "_deepnote_index_column": "9",
         "acceleration": "8.5",
         "cylinders": "8",
         "displacement": "390.0",
         "horsepower": "190.0",
         "model_year": "70",
         "mpg": "15.0",
         "name": "amc ambassador dpl",
         "origin": "usa",
         "weight": "3850"
        }
       ]
      },
      "text/html": [
       "<div>\n",
       "<style scoped>\n",
       "    .dataframe tbody tr th:only-of-type {\n",
       "        vertical-align: middle;\n",
       "    }\n",
       "\n",
       "    .dataframe tbody tr th {\n",
       "        vertical-align: top;\n",
       "    }\n",
       "\n",
       "    .dataframe thead th {\n",
       "        text-align: right;\n",
       "    }\n",
       "</style>\n",
       "<table border=\"1\" class=\"dataframe\">\n",
       "  <thead>\n",
       "    <tr style=\"text-align: right;\">\n",
       "      <th></th>\n",
       "      <th>mpg</th>\n",
       "      <th>cylinders</th>\n",
       "      <th>displacement</th>\n",
       "      <th>horsepower</th>\n",
       "      <th>weight</th>\n",
       "      <th>acceleration</th>\n",
       "      <th>model_year</th>\n",
       "      <th>origin</th>\n",
       "      <th>name</th>\n",
       "    </tr>\n",
       "  </thead>\n",
       "  <tbody>\n",
       "    <tr>\n",
       "      <th>0</th>\n",
       "      <td>18.0</td>\n",
       "      <td>8</td>\n",
       "      <td>307.0</td>\n",
       "      <td>130.0</td>\n",
       "      <td>3504</td>\n",
       "      <td>12.0</td>\n",
       "      <td>70</td>\n",
       "      <td>usa</td>\n",
       "      <td>chevrolet chevelle malibu</td>\n",
       "    </tr>\n",
       "    <tr>\n",
       "      <th>1</th>\n",
       "      <td>15.0</td>\n",
       "      <td>8</td>\n",
       "      <td>350.0</td>\n",
       "      <td>165.0</td>\n",
       "      <td>3693</td>\n",
       "      <td>11.5</td>\n",
       "      <td>70</td>\n",
       "      <td>usa</td>\n",
       "      <td>buick skylark 320</td>\n",
       "    </tr>\n",
       "    <tr>\n",
       "      <th>2</th>\n",
       "      <td>18.0</td>\n",
       "      <td>8</td>\n",
       "      <td>318.0</td>\n",
       "      <td>150.0</td>\n",
       "      <td>3436</td>\n",
       "      <td>11.0</td>\n",
       "      <td>70</td>\n",
       "      <td>usa</td>\n",
       "      <td>plymouth satellite</td>\n",
       "    </tr>\n",
       "    <tr>\n",
       "      <th>3</th>\n",
       "      <td>16.0</td>\n",
       "      <td>8</td>\n",
       "      <td>304.0</td>\n",
       "      <td>150.0</td>\n",
       "      <td>3433</td>\n",
       "      <td>12.0</td>\n",
       "      <td>70</td>\n",
       "      <td>usa</td>\n",
       "      <td>amc rebel sst</td>\n",
       "    </tr>\n",
       "    <tr>\n",
       "      <th>4</th>\n",
       "      <td>17.0</td>\n",
       "      <td>8</td>\n",
       "      <td>302.0</td>\n",
       "      <td>140.0</td>\n",
       "      <td>3449</td>\n",
       "      <td>10.5</td>\n",
       "      <td>70</td>\n",
       "      <td>usa</td>\n",
       "      <td>ford torino</td>\n",
       "    </tr>\n",
       "    <tr>\n",
       "      <th>5</th>\n",
       "      <td>15.0</td>\n",
       "      <td>8</td>\n",
       "      <td>429.0</td>\n",
       "      <td>198.0</td>\n",
       "      <td>4341</td>\n",
       "      <td>10.0</td>\n",
       "      <td>70</td>\n",
       "      <td>usa</td>\n",
       "      <td>ford galaxie 500</td>\n",
       "    </tr>\n",
       "    <tr>\n",
       "      <th>6</th>\n",
       "      <td>14.0</td>\n",
       "      <td>8</td>\n",
       "      <td>454.0</td>\n",
       "      <td>220.0</td>\n",
       "      <td>4354</td>\n",
       "      <td>9.0</td>\n",
       "      <td>70</td>\n",
       "      <td>usa</td>\n",
       "      <td>chevrolet impala</td>\n",
       "    </tr>\n",
       "    <tr>\n",
       "      <th>7</th>\n",
       "      <td>14.0</td>\n",
       "      <td>8</td>\n",
       "      <td>440.0</td>\n",
       "      <td>215.0</td>\n",
       "      <td>4312</td>\n",
       "      <td>8.5</td>\n",
       "      <td>70</td>\n",
       "      <td>usa</td>\n",
       "      <td>plymouth fury iii</td>\n",
       "    </tr>\n",
       "    <tr>\n",
       "      <th>8</th>\n",
       "      <td>14.0</td>\n",
       "      <td>8</td>\n",
       "      <td>455.0</td>\n",
       "      <td>225.0</td>\n",
       "      <td>4425</td>\n",
       "      <td>10.0</td>\n",
       "      <td>70</td>\n",
       "      <td>usa</td>\n",
       "      <td>pontiac catalina</td>\n",
       "    </tr>\n",
       "    <tr>\n",
       "      <th>9</th>\n",
       "      <td>15.0</td>\n",
       "      <td>8</td>\n",
       "      <td>390.0</td>\n",
       "      <td>190.0</td>\n",
       "      <td>3850</td>\n",
       "      <td>8.5</td>\n",
       "      <td>70</td>\n",
       "      <td>usa</td>\n",
       "      <td>amc ambassador dpl</td>\n",
       "    </tr>\n",
       "    <tr>\n",
       "      <th>10</th>\n",
       "      <td>15.0</td>\n",
       "      <td>8</td>\n",
       "      <td>383.0</td>\n",
       "      <td>170.0</td>\n",
       "      <td>3563</td>\n",
       "      <td>10.0</td>\n",
       "      <td>70</td>\n",
       "      <td>usa</td>\n",
       "      <td>dodge challenger se</td>\n",
       "    </tr>\n",
       "    <tr>\n",
       "      <th>11</th>\n",
       "      <td>14.0</td>\n",
       "      <td>8</td>\n",
       "      <td>340.0</td>\n",
       "      <td>160.0</td>\n",
       "      <td>3609</td>\n",
       "      <td>8.0</td>\n",
       "      <td>70</td>\n",
       "      <td>usa</td>\n",
       "      <td>plymouth 'cuda 340</td>\n",
       "    </tr>\n",
       "    <tr>\n",
       "      <th>12</th>\n",
       "      <td>15.0</td>\n",
       "      <td>8</td>\n",
       "      <td>400.0</td>\n",
       "      <td>150.0</td>\n",
       "      <td>3761</td>\n",
       "      <td>9.5</td>\n",
       "      <td>70</td>\n",
       "      <td>usa</td>\n",
       "      <td>chevrolet monte carlo</td>\n",
       "    </tr>\n",
       "    <tr>\n",
       "      <th>13</th>\n",
       "      <td>14.0</td>\n",
       "      <td>8</td>\n",
       "      <td>455.0</td>\n",
       "      <td>225.0</td>\n",
       "      <td>3086</td>\n",
       "      <td>10.0</td>\n",
       "      <td>70</td>\n",
       "      <td>usa</td>\n",
       "      <td>buick estate wagon (sw)</td>\n",
       "    </tr>\n",
       "    <tr>\n",
       "      <th>14</th>\n",
       "      <td>24.0</td>\n",
       "      <td>4</td>\n",
       "      <td>113.0</td>\n",
       "      <td>95.0</td>\n",
       "      <td>2372</td>\n",
       "      <td>15.0</td>\n",
       "      <td>70</td>\n",
       "      <td>japan</td>\n",
       "      <td>toyota corona mark ii</td>\n",
       "    </tr>\n",
       "    <tr>\n",
       "      <th>15</th>\n",
       "      <td>22.0</td>\n",
       "      <td>6</td>\n",
       "      <td>198.0</td>\n",
       "      <td>95.0</td>\n",
       "      <td>2833</td>\n",
       "      <td>15.5</td>\n",
       "      <td>70</td>\n",
       "      <td>usa</td>\n",
       "      <td>plymouth duster</td>\n",
       "    </tr>\n",
       "    <tr>\n",
       "      <th>16</th>\n",
       "      <td>18.0</td>\n",
       "      <td>6</td>\n",
       "      <td>199.0</td>\n",
       "      <td>97.0</td>\n",
       "      <td>2774</td>\n",
       "      <td>15.5</td>\n",
       "      <td>70</td>\n",
       "      <td>usa</td>\n",
       "      <td>amc hornet</td>\n",
       "    </tr>\n",
       "    <tr>\n",
       "      <th>17</th>\n",
       "      <td>21.0</td>\n",
       "      <td>6</td>\n",
       "      <td>200.0</td>\n",
       "      <td>85.0</td>\n",
       "      <td>2587</td>\n",
       "      <td>16.0</td>\n",
       "      <td>70</td>\n",
       "      <td>usa</td>\n",
       "      <td>ford maverick</td>\n",
       "    </tr>\n",
       "    <tr>\n",
       "      <th>18</th>\n",
       "      <td>27.0</td>\n",
       "      <td>4</td>\n",
       "      <td>97.0</td>\n",
       "      <td>88.0</td>\n",
       "      <td>2130</td>\n",
       "      <td>14.5</td>\n",
       "      <td>70</td>\n",
       "      <td>japan</td>\n",
       "      <td>datsun pl510</td>\n",
       "    </tr>\n",
       "    <tr>\n",
       "      <th>19</th>\n",
       "      <td>26.0</td>\n",
       "      <td>4</td>\n",
       "      <td>97.0</td>\n",
       "      <td>46.0</td>\n",
       "      <td>1835</td>\n",
       "      <td>20.5</td>\n",
       "      <td>70</td>\n",
       "      <td>europe</td>\n",
       "      <td>volkswagen 1131 deluxe sedan</td>\n",
       "    </tr>\n",
       "    <tr>\n",
       "      <th>20</th>\n",
       "      <td>25.0</td>\n",
       "      <td>4</td>\n",
       "      <td>110.0</td>\n",
       "      <td>87.0</td>\n",
       "      <td>2672</td>\n",
       "      <td>17.5</td>\n",
       "      <td>70</td>\n",
       "      <td>europe</td>\n",
       "      <td>peugeot 504</td>\n",
       "    </tr>\n",
       "    <tr>\n",
       "      <th>21</th>\n",
       "      <td>24.0</td>\n",
       "      <td>4</td>\n",
       "      <td>107.0</td>\n",
       "      <td>90.0</td>\n",
       "      <td>2430</td>\n",
       "      <td>14.5</td>\n",
       "      <td>70</td>\n",
       "      <td>europe</td>\n",
       "      <td>audi 100 ls</td>\n",
       "    </tr>\n",
       "    <tr>\n",
       "      <th>22</th>\n",
       "      <td>25.0</td>\n",
       "      <td>4</td>\n",
       "      <td>104.0</td>\n",
       "      <td>95.0</td>\n",
       "      <td>2375</td>\n",
       "      <td>17.5</td>\n",
       "      <td>70</td>\n",
       "      <td>europe</td>\n",
       "      <td>saab 99e</td>\n",
       "    </tr>\n",
       "    <tr>\n",
       "      <th>23</th>\n",
       "      <td>26.0</td>\n",
       "      <td>4</td>\n",
       "      <td>121.0</td>\n",
       "      <td>113.0</td>\n",
       "      <td>2234</td>\n",
       "      <td>12.5</td>\n",
       "      <td>70</td>\n",
       "      <td>europe</td>\n",
       "      <td>bmw 2002</td>\n",
       "    </tr>\n",
       "    <tr>\n",
       "      <th>24</th>\n",
       "      <td>21.0</td>\n",
       "      <td>6</td>\n",
       "      <td>199.0</td>\n",
       "      <td>90.0</td>\n",
       "      <td>2648</td>\n",
       "      <td>15.0</td>\n",
       "      <td>70</td>\n",
       "      <td>usa</td>\n",
       "      <td>amc gremlin</td>\n",
       "    </tr>\n",
       "    <tr>\n",
       "      <th>25</th>\n",
       "      <td>10.0</td>\n",
       "      <td>8</td>\n",
       "      <td>360.0</td>\n",
       "      <td>215.0</td>\n",
       "      <td>4615</td>\n",
       "      <td>14.0</td>\n",
       "      <td>70</td>\n",
       "      <td>usa</td>\n",
       "      <td>ford f250</td>\n",
       "    </tr>\n",
       "    <tr>\n",
       "      <th>26</th>\n",
       "      <td>10.0</td>\n",
       "      <td>8</td>\n",
       "      <td>307.0</td>\n",
       "      <td>200.0</td>\n",
       "      <td>4376</td>\n",
       "      <td>15.0</td>\n",
       "      <td>70</td>\n",
       "      <td>usa</td>\n",
       "      <td>chevy c20</td>\n",
       "    </tr>\n",
       "    <tr>\n",
       "      <th>27</th>\n",
       "      <td>11.0</td>\n",
       "      <td>8</td>\n",
       "      <td>318.0</td>\n",
       "      <td>210.0</td>\n",
       "      <td>4382</td>\n",
       "      <td>13.5</td>\n",
       "      <td>70</td>\n",
       "      <td>usa</td>\n",
       "      <td>dodge d200</td>\n",
       "    </tr>\n",
       "    <tr>\n",
       "      <th>28</th>\n",
       "      <td>9.0</td>\n",
       "      <td>8</td>\n",
       "      <td>304.0</td>\n",
       "      <td>193.0</td>\n",
       "      <td>4732</td>\n",
       "      <td>18.5</td>\n",
       "      <td>70</td>\n",
       "      <td>usa</td>\n",
       "      <td>hi 1200d</td>\n",
       "    </tr>\n",
       "  </tbody>\n",
       "</table>\n",
       "</div>"
      ],
      "text/plain": [
       "     mpg  cylinders  displacement  horsepower  weight  acceleration  \\\n",
       "0   18.0          8         307.0       130.0    3504          12.0   \n",
       "1   15.0          8         350.0       165.0    3693          11.5   \n",
       "2   18.0          8         318.0       150.0    3436          11.0   \n",
       "3   16.0          8         304.0       150.0    3433          12.0   \n",
       "4   17.0          8         302.0       140.0    3449          10.5   \n",
       "5   15.0          8         429.0       198.0    4341          10.0   \n",
       "6   14.0          8         454.0       220.0    4354           9.0   \n",
       "7   14.0          8         440.0       215.0    4312           8.5   \n",
       "8   14.0          8         455.0       225.0    4425          10.0   \n",
       "9   15.0          8         390.0       190.0    3850           8.5   \n",
       "10  15.0          8         383.0       170.0    3563          10.0   \n",
       "11  14.0          8         340.0       160.0    3609           8.0   \n",
       "12  15.0          8         400.0       150.0    3761           9.5   \n",
       "13  14.0          8         455.0       225.0    3086          10.0   \n",
       "14  24.0          4         113.0        95.0    2372          15.0   \n",
       "15  22.0          6         198.0        95.0    2833          15.5   \n",
       "16  18.0          6         199.0        97.0    2774          15.5   \n",
       "17  21.0          6         200.0        85.0    2587          16.0   \n",
       "18  27.0          4          97.0        88.0    2130          14.5   \n",
       "19  26.0          4          97.0        46.0    1835          20.5   \n",
       "20  25.0          4         110.0        87.0    2672          17.5   \n",
       "21  24.0          4         107.0        90.0    2430          14.5   \n",
       "22  25.0          4         104.0        95.0    2375          17.5   \n",
       "23  26.0          4         121.0       113.0    2234          12.5   \n",
       "24  21.0          6         199.0        90.0    2648          15.0   \n",
       "25  10.0          8         360.0       215.0    4615          14.0   \n",
       "26  10.0          8         307.0       200.0    4376          15.0   \n",
       "27  11.0          8         318.0       210.0    4382          13.5   \n",
       "28   9.0          8         304.0       193.0    4732          18.5   \n",
       "\n",
       "    model_year  origin                          name  \n",
       "0           70     usa     chevrolet chevelle malibu  \n",
       "1           70     usa             buick skylark 320  \n",
       "2           70     usa            plymouth satellite  \n",
       "3           70     usa                 amc rebel sst  \n",
       "4           70     usa                   ford torino  \n",
       "5           70     usa              ford galaxie 500  \n",
       "6           70     usa              chevrolet impala  \n",
       "7           70     usa             plymouth fury iii  \n",
       "8           70     usa              pontiac catalina  \n",
       "9           70     usa            amc ambassador dpl  \n",
       "10          70     usa           dodge challenger se  \n",
       "11          70     usa            plymouth 'cuda 340  \n",
       "12          70     usa         chevrolet monte carlo  \n",
       "13          70     usa       buick estate wagon (sw)  \n",
       "14          70   japan         toyota corona mark ii  \n",
       "15          70     usa               plymouth duster  \n",
       "16          70     usa                    amc hornet  \n",
       "17          70     usa                 ford maverick  \n",
       "18          70   japan                  datsun pl510  \n",
       "19          70  europe  volkswagen 1131 deluxe sedan  \n",
       "20          70  europe                   peugeot 504  \n",
       "21          70  europe                   audi 100 ls  \n",
       "22          70  europe                      saab 99e  \n",
       "23          70  europe                      bmw 2002  \n",
       "24          70     usa                   amc gremlin  \n",
       "25          70     usa                     ford f250  \n",
       "26          70     usa                     chevy c20  \n",
       "27          70     usa                    dodge d200  \n",
       "28          70     usa                      hi 1200d  "
      ]
     },
     "metadata": {},
     "output_type": "display_data"
    }
   ],
   "source": [
    "for a,b in df.groupby(\"model_year\"):\n",
    "    print(a)\n",
    "    display(b)\n",
    "    break # leave the for loop"
   ]
  },
  {
   "cell_type": "markdown",
   "metadata": {},
   "source": [
    "The above DataFrame `b` has length `29`.  The full DataFrame `df` has length `398`."
   ]
  },
  {
   "cell_type": "code",
   "execution_count": 22,
   "metadata": {
    "cell_id": "b00598533b054463a72185461b1fd3fc",
    "deepnote_cell_type": "code",
    "deepnote_to_be_reexecuted": false,
    "execution_millis": 5,
    "execution_start": 1665768174970,
    "source_hash": "2f88c77a",
    "tags": []
   },
   "outputs": [
    {
     "data": {
      "text/plain": [
       "398"
      ]
     },
     "execution_count": 22,
     "metadata": {},
     "output_type": "execute_result"
    }
   ],
   "source": [
    "len(df)"
   ]
  },
  {
   "cell_type": "markdown",
   "metadata": {},
   "source": [
    "Here is another example.  We tell the for loop to stop if we reach `a == 75`.  What I really want to see is, what is the value of `b` when `a == 75`.  If the `break` part is confusing, you can remove the `break` and just print \"hi\" or something, and you can then work with a later value of `b`."
   ]
  },
  {
   "cell_type": "code",
   "execution_count": 23,
   "metadata": {
    "cell_id": "543946c10b21406bbd5d10bd1cf7a8c1",
    "deepnote_cell_type": "code",
    "deepnote_to_be_reexecuted": false,
    "execution_millis": 2,
    "execution_start": 1665768257916,
    "source_hash": "6be0a458",
    "tags": []
   },
   "outputs": [],
   "source": [
    "for a,b in df.groupby(\"model_year\"):\n",
    "    if a == 75:\n",
    "        break"
   ]
  },
  {
   "cell_type": "markdown",
   "metadata": {},
   "source": [
    "Because we broke out of the for loop when `a` was equal to `75`, the value of `a` is still `75`.  It never reached the later values of `76` through `82`."
   ]
  },
  {
   "cell_type": "code",
   "execution_count": 24,
   "metadata": {
    "cell_id": "f114dd3eb57240bfa79fe05dc78acd93",
    "deepnote_cell_type": "code",
    "deepnote_to_be_reexecuted": false,
    "execution_millis": 956,
    "execution_start": 1665768265979,
    "source_hash": "ef4233c",
    "tags": []
   },
   "outputs": [
    {
     "data": {
      "text/plain": [
       "75"
      ]
     },
     "execution_count": 24,
     "metadata": {},
     "output_type": "execute_result"
    }
   ],
   "source": [
    "a"
   ]
  },
  {
   "cell_type": "markdown",
   "metadata": {},
   "source": [
    "What I really want to emphasize is, what is the value of `b` when `a` is `75`?  It is exactly the sub-DataFrame of `df` corresponding to model_year 75."
   ]
  },
  {
   "cell_type": "code",
   "execution_count": 25,
   "metadata": {
    "cell_id": "1d96bb612c5f4b54bc806662fe8f4291",
    "deepnote_cell_type": "code",
    "deepnote_to_be_reexecuted": false,
    "execution_millis": 21,
    "execution_start": 1665768270462,
    "source_hash": "129d9675",
    "tags": [
     "output_scroll"
    ]
   },
   "outputs": [
    {
     "data": {
      "application/vnd.deepnote.dataframe.v3+json": {
       "column_count": 9,
       "columns": [
        {
         "dtype": "float64",
         "name": "mpg",
         "stats": {
          "histogram": [
           {
            "bin_end": 15,
            "bin_start": 13,
            "count": 2
           },
           {
            "bin_end": 17,
            "bin_start": 15,
            "count": 7
           },
           {
            "bin_end": 19,
            "bin_start": 17,
            "count": 4
           },
           {
            "bin_end": 21,
            "bin_start": 19,
            "count": 4
           },
           {
            "bin_end": 23,
            "bin_start": 21,
            "count": 2
           },
           {
            "bin_end": 25,
            "bin_start": 23,
            "count": 6
           },
           {
            "bin_end": 27,
            "bin_start": 25,
            "count": 2
           },
           {
            "bin_end": 29,
            "bin_start": 27,
            "count": 0
           },
           {
            "bin_end": 31,
            "bin_start": 29,
            "count": 2
           },
           {
            "bin_end": 33,
            "bin_start": 31,
            "count": 1
           }
          ],
          "max": "33.0",
          "min": "13.0",
          "nan_count": 0,
          "unique_count": 15
         }
        },
        {
         "dtype": "int64",
         "name": "cylinders",
         "stats": {
          "histogram": [
           {
            "bin_end": 4.4,
            "bin_start": 4,
            "count": 12
           },
           {
            "bin_end": 4.8,
            "bin_start": 4.4,
            "count": 0
           },
           {
            "bin_end": 5.2,
            "bin_start": 4.8,
            "count": 0
           },
           {
            "bin_end": 5.6,
            "bin_start": 5.2,
            "count": 0
           },
           {
            "bin_end": 6,
            "bin_start": 5.6,
            "count": 0
           },
           {
            "bin_end": 6.4,
            "bin_start": 6,
            "count": 12
           },
           {
            "bin_end": 6.800000000000001,
            "bin_start": 6.4,
            "count": 0
           },
           {
            "bin_end": 7.2,
            "bin_start": 6.800000000000001,
            "count": 0
           },
           {
            "bin_end": 7.6,
            "bin_start": 7.2,
            "count": 0
           },
           {
            "bin_end": 8,
            "bin_start": 7.6,
            "count": 6
           }
          ],
          "max": "8",
          "min": "4",
          "nan_count": 0,
          "unique_count": 3
         }
        },
        {
         "dtype": "float64",
         "name": "displacement",
         "stats": {
          "histogram": [
           {
            "bin_end": 121,
            "bin_start": 90,
            "count": 7
           },
           {
            "bin_end": 152,
            "bin_start": 121,
            "count": 5
           },
           {
            "bin_end": 183,
            "bin_start": 152,
            "count": 1
           },
           {
            "bin_end": 214,
            "bin_start": 183,
            "count": 0
           },
           {
            "bin_end": 245,
            "bin_start": 214,
            "count": 6
           },
           {
            "bin_end": 276,
            "bin_start": 245,
            "count": 6
           },
           {
            "bin_end": 307,
            "bin_start": 276,
            "count": 1
           },
           {
            "bin_end": 338,
            "bin_start": 307,
            "count": 1
           },
           {
            "bin_end": 369,
            "bin_start": 338,
            "count": 2
           },
           {
            "bin_end": 400,
            "bin_start": 369,
            "count": 1
           }
          ],
          "max": "400.0",
          "min": "90.0",
          "nan_count": 0,
          "unique_count": 21
         }
        },
        {
         "dtype": "float64",
         "name": "horsepower",
         "stats": {
          "histogram": [
           {
            "bin_end": 64.7,
            "bin_start": 53,
            "count": 1
           },
           {
            "bin_end": 76.4,
            "bin_start": 64.7,
            "count": 5
           },
           {
            "bin_end": 88.1,
            "bin_start": 76.4,
            "count": 3
           },
           {
            "bin_end": 99.8,
            "bin_start": 88.1,
            "count": 8
           },
           {
            "bin_end": 111.5,
            "bin_start": 99.8,
            "count": 7
           },
           {
            "bin_end": 123.19999999999999,
            "bin_start": 111.5,
            "count": 1
           },
           {
            "bin_end": 134.89999999999998,
            "bin_start": 123.19999999999999,
            "count": 1
           },
           {
            "bin_end": 146.6,
            "bin_start": 134.89999999999998,
            "count": 1
           },
           {
            "bin_end": 158.3,
            "bin_start": 146.6,
            "count": 2
           },
           {
            "bin_end": 170,
            "bin_start": 158.3,
            "count": 1
           }
          ],
          "max": "170.0",
          "min": "53.0",
          "nan_count": 0,
          "unique_count": 22
         }
        },
        {
         "dtype": "int64",
         "name": "weight",
         "stats": {
          "histogram": [
           {
            "bin_end": 2082.3,
            "bin_start": 1795,
            "count": 2
           },
           {
            "bin_end": 2369.6,
            "bin_start": 2082.3,
            "count": 2
           },
           {
            "bin_end": 2656.9,
            "bin_start": 2369.6,
            "count": 3
           },
           {
            "bin_end": 2944.2,
            "bin_start": 2656.9,
            "count": 4
           },
           {
            "bin_end": 3231.5,
            "bin_start": 2944.2,
            "count": 8
           },
           {
            "bin_end": 3518.8,
            "bin_start": 3231.5,
            "count": 3
           },
           {
            "bin_end": 3806.1000000000004,
            "bin_start": 3518.8,
            "count": 2
           },
           {
            "bin_end": 4093.4,
            "bin_start": 3806.1000000000004,
            "count": 2
           },
           {
            "bin_end": 4380.700000000001,
            "bin_start": 4093.4,
            "count": 0
           },
           {
            "bin_end": 4668,
            "bin_start": 4380.700000000001,
            "count": 4
           }
          ],
          "max": "4668",
          "min": "1795",
          "nan_count": 0,
          "unique_count": 30
         }
        },
        {
         "dtype": "float64",
         "name": "acceleration",
         "stats": {
          "histogram": [
           {
            "bin_end": 12.45,
            "bin_start": 11.5,
            "count": 2
           },
           {
            "bin_end": 13.4,
            "bin_start": 12.45,
            "count": 0
           },
           {
            "bin_end": 14.35,
            "bin_start": 13.4,
            "count": 6
           },
           {
            "bin_end": 15.3,
            "bin_start": 14.35,
            "count": 5
           },
           {
            "bin_end": 16.25,
            "bin_start": 15.3,
            "count": 4
           },
           {
            "bin_end": 17.2,
            "bin_start": 16.25,
            "count": 5
           },
           {
            "bin_end": 18.15,
            "bin_start": 17.2,
            "count": 1
           },
           {
            "bin_end": 19.1,
            "bin_start": 18.15,
            "count": 4
           },
           {
            "bin_end": 20.049999999999997,
            "bin_start": 19.1,
            "count": 1
           },
           {
            "bin_end": 21,
            "bin_start": 20.049999999999997,
            "count": 2
           }
          ],
          "max": "21.0",
          "min": "11.5",
          "nan_count": 0,
          "unique_count": 14
         }
        },
        {
         "dtype": "int64",
         "name": "model_year",
         "stats": {
          "histogram": [
           {
            "bin_end": 74.6,
            "bin_start": 74.5,
            "count": 0
           },
           {
            "bin_end": 74.7,
            "bin_start": 74.6,
            "count": 0
           },
           {
            "bin_end": 74.8,
            "bin_start": 74.7,
            "count": 0
           },
           {
            "bin_end": 74.9,
            "bin_start": 74.8,
            "count": 0
           },
           {
            "bin_end": 75,
            "bin_start": 74.9,
            "count": 0
           },
           {
            "bin_end": 75.1,
            "bin_start": 75,
            "count": 30
           },
           {
            "bin_end": 75.2,
            "bin_start": 75.1,
            "count": 0
           },
           {
            "bin_end": 75.3,
            "bin_start": 75.2,
            "count": 0
           },
           {
            "bin_end": 75.4,
            "bin_start": 75.3,
            "count": 0
           },
           {
            "bin_end": 75.5,
            "bin_start": 75.4,
            "count": 0
           }
          ],
          "max": "75",
          "min": "75",
          "nan_count": 0,
          "unique_count": 1
         }
        },
        {
         "dtype": "object",
         "name": "origin",
         "stats": {
          "categories": [
           {
            "count": 20,
            "name": "usa"
           },
           {
            "count": 6,
            "name": "europe"
           },
           {
            "count": 4,
            "name": "japan"
           }
          ],
          "nan_count": 0,
          "unique_count": 3
         }
        },
        {
         "dtype": "object",
         "name": "name",
         "stats": {
          "categories": [
           {
            "count": 2,
            "name": "ford pinto"
           },
           {
            "count": 1,
            "name": "plymouth valiant custom"
           },
           {
            "count": 27,
            "name": "27 others"
           }
          ],
          "nan_count": 0,
          "unique_count": 29
         }
        },
        {
         "dtype": "int64",
         "name": "_deepnote_index_column"
        }
       ],
       "row_count": 30,
       "rows": [
        {
         "_deepnote_index_column": "152",
         "acceleration": "16.0",
         "cylinders": "6",
         "displacement": "225.0",
         "horsepower": "95.0",
         "model_year": "75",
         "mpg": "19.0",
         "name": "plymouth valiant custom",
         "origin": "usa",
         "weight": "3264"
        },
        {
         "_deepnote_index_column": "153",
         "acceleration": "16.0",
         "cylinders": "6",
         "displacement": "250.0",
         "horsepower": "105.0",
         "model_year": "75",
         "mpg": "18.0",
         "name": "chevrolet nova",
         "origin": "usa",
         "weight": "3459"
        },
        {
         "_deepnote_index_column": "154",
         "acceleration": "21.0",
         "cylinders": "6",
         "displacement": "250.0",
         "horsepower": "72.0",
         "model_year": "75",
         "mpg": "15.0",
         "name": "mercury monarch",
         "origin": "usa",
         "weight": "3432"
        },
        {
         "_deepnote_index_column": "155",
         "acceleration": "19.5",
         "cylinders": "6",
         "displacement": "250.0",
         "horsepower": "72.0",
         "model_year": "75",
         "mpg": "15.0",
         "name": "ford maverick",
         "origin": "usa",
         "weight": "3158"
        },
        {
         "_deepnote_index_column": "156",
         "acceleration": "11.5",
         "cylinders": "8",
         "displacement": "400.0",
         "horsepower": "170.0",
         "model_year": "75",
         "mpg": "16.0",
         "name": "pontiac catalina",
         "origin": "usa",
         "weight": "4668"
        },
        {
         "_deepnote_index_column": "157",
         "acceleration": "14.0",
         "cylinders": "8",
         "displacement": "350.0",
         "horsepower": "145.0",
         "model_year": "75",
         "mpg": "15.0",
         "name": "chevrolet bel air",
         "origin": "usa",
         "weight": "4440"
        },
        {
         "_deepnote_index_column": "158",
         "acceleration": "14.5",
         "cylinders": "8",
         "displacement": "318.0",
         "horsepower": "150.0",
         "model_year": "75",
         "mpg": "16.0",
         "name": "plymouth grand fury",
         "origin": "usa",
         "weight": "4498"
        },
        {
         "_deepnote_index_column": "159",
         "acceleration": "13.5",
         "cylinders": "8",
         "displacement": "351.0",
         "horsepower": "148.0",
         "model_year": "75",
         "mpg": "14.0",
         "name": "ford ltd",
         "origin": "usa",
         "weight": "4657"
        },
        {
         "_deepnote_index_column": "160",
         "acceleration": "21.0",
         "cylinders": "6",
         "displacement": "231.0",
         "horsepower": "110.0",
         "model_year": "75",
         "mpg": "17.0",
         "name": "buick century",
         "origin": "usa",
         "weight": "3907"
        },
        {
         "_deepnote_index_column": "161",
         "acceleration": "18.5",
         "cylinders": "6",
         "displacement": "250.0",
         "horsepower": "105.0",
         "model_year": "75",
         "mpg": "16.0",
         "name": "chevroelt chevelle malibu",
         "origin": "usa",
         "weight": "3897"
        }
       ]
      },
      "text/html": [
       "<div>\n",
       "<style scoped>\n",
       "    .dataframe tbody tr th:only-of-type {\n",
       "        vertical-align: middle;\n",
       "    }\n",
       "\n",
       "    .dataframe tbody tr th {\n",
       "        vertical-align: top;\n",
       "    }\n",
       "\n",
       "    .dataframe thead th {\n",
       "        text-align: right;\n",
       "    }\n",
       "</style>\n",
       "<table border=\"1\" class=\"dataframe\">\n",
       "  <thead>\n",
       "    <tr style=\"text-align: right;\">\n",
       "      <th></th>\n",
       "      <th>mpg</th>\n",
       "      <th>cylinders</th>\n",
       "      <th>displacement</th>\n",
       "      <th>horsepower</th>\n",
       "      <th>weight</th>\n",
       "      <th>acceleration</th>\n",
       "      <th>model_year</th>\n",
       "      <th>origin</th>\n",
       "      <th>name</th>\n",
       "    </tr>\n",
       "  </thead>\n",
       "  <tbody>\n",
       "    <tr>\n",
       "      <th>152</th>\n",
       "      <td>19.0</td>\n",
       "      <td>6</td>\n",
       "      <td>225.0</td>\n",
       "      <td>95.0</td>\n",
       "      <td>3264</td>\n",
       "      <td>16.0</td>\n",
       "      <td>75</td>\n",
       "      <td>usa</td>\n",
       "      <td>plymouth valiant custom</td>\n",
       "    </tr>\n",
       "    <tr>\n",
       "      <th>153</th>\n",
       "      <td>18.0</td>\n",
       "      <td>6</td>\n",
       "      <td>250.0</td>\n",
       "      <td>105.0</td>\n",
       "      <td>3459</td>\n",
       "      <td>16.0</td>\n",
       "      <td>75</td>\n",
       "      <td>usa</td>\n",
       "      <td>chevrolet nova</td>\n",
       "    </tr>\n",
       "    <tr>\n",
       "      <th>154</th>\n",
       "      <td>15.0</td>\n",
       "      <td>6</td>\n",
       "      <td>250.0</td>\n",
       "      <td>72.0</td>\n",
       "      <td>3432</td>\n",
       "      <td>21.0</td>\n",
       "      <td>75</td>\n",
       "      <td>usa</td>\n",
       "      <td>mercury monarch</td>\n",
       "    </tr>\n",
       "    <tr>\n",
       "      <th>155</th>\n",
       "      <td>15.0</td>\n",
       "      <td>6</td>\n",
       "      <td>250.0</td>\n",
       "      <td>72.0</td>\n",
       "      <td>3158</td>\n",
       "      <td>19.5</td>\n",
       "      <td>75</td>\n",
       "      <td>usa</td>\n",
       "      <td>ford maverick</td>\n",
       "    </tr>\n",
       "    <tr>\n",
       "      <th>156</th>\n",
       "      <td>16.0</td>\n",
       "      <td>8</td>\n",
       "      <td>400.0</td>\n",
       "      <td>170.0</td>\n",
       "      <td>4668</td>\n",
       "      <td>11.5</td>\n",
       "      <td>75</td>\n",
       "      <td>usa</td>\n",
       "      <td>pontiac catalina</td>\n",
       "    </tr>\n",
       "    <tr>\n",
       "      <th>157</th>\n",
       "      <td>15.0</td>\n",
       "      <td>8</td>\n",
       "      <td>350.0</td>\n",
       "      <td>145.0</td>\n",
       "      <td>4440</td>\n",
       "      <td>14.0</td>\n",
       "      <td>75</td>\n",
       "      <td>usa</td>\n",
       "      <td>chevrolet bel air</td>\n",
       "    </tr>\n",
       "    <tr>\n",
       "      <th>158</th>\n",
       "      <td>16.0</td>\n",
       "      <td>8</td>\n",
       "      <td>318.0</td>\n",
       "      <td>150.0</td>\n",
       "      <td>4498</td>\n",
       "      <td>14.5</td>\n",
       "      <td>75</td>\n",
       "      <td>usa</td>\n",
       "      <td>plymouth grand fury</td>\n",
       "    </tr>\n",
       "    <tr>\n",
       "      <th>159</th>\n",
       "      <td>14.0</td>\n",
       "      <td>8</td>\n",
       "      <td>351.0</td>\n",
       "      <td>148.0</td>\n",
       "      <td>4657</td>\n",
       "      <td>13.5</td>\n",
       "      <td>75</td>\n",
       "      <td>usa</td>\n",
       "      <td>ford ltd</td>\n",
       "    </tr>\n",
       "    <tr>\n",
       "      <th>160</th>\n",
       "      <td>17.0</td>\n",
       "      <td>6</td>\n",
       "      <td>231.0</td>\n",
       "      <td>110.0</td>\n",
       "      <td>3907</td>\n",
       "      <td>21.0</td>\n",
       "      <td>75</td>\n",
       "      <td>usa</td>\n",
       "      <td>buick century</td>\n",
       "    </tr>\n",
       "    <tr>\n",
       "      <th>161</th>\n",
       "      <td>16.0</td>\n",
       "      <td>6</td>\n",
       "      <td>250.0</td>\n",
       "      <td>105.0</td>\n",
       "      <td>3897</td>\n",
       "      <td>18.5</td>\n",
       "      <td>75</td>\n",
       "      <td>usa</td>\n",
       "      <td>chevroelt chevelle malibu</td>\n",
       "    </tr>\n",
       "    <tr>\n",
       "      <th>162</th>\n",
       "      <td>15.0</td>\n",
       "      <td>6</td>\n",
       "      <td>258.0</td>\n",
       "      <td>110.0</td>\n",
       "      <td>3730</td>\n",
       "      <td>19.0</td>\n",
       "      <td>75</td>\n",
       "      <td>usa</td>\n",
       "      <td>amc matador</td>\n",
       "    </tr>\n",
       "    <tr>\n",
       "      <th>163</th>\n",
       "      <td>18.0</td>\n",
       "      <td>6</td>\n",
       "      <td>225.0</td>\n",
       "      <td>95.0</td>\n",
       "      <td>3785</td>\n",
       "      <td>19.0</td>\n",
       "      <td>75</td>\n",
       "      <td>usa</td>\n",
       "      <td>plymouth fury</td>\n",
       "    </tr>\n",
       "    <tr>\n",
       "      <th>164</th>\n",
       "      <td>21.0</td>\n",
       "      <td>6</td>\n",
       "      <td>231.0</td>\n",
       "      <td>110.0</td>\n",
       "      <td>3039</td>\n",
       "      <td>15.0</td>\n",
       "      <td>75</td>\n",
       "      <td>usa</td>\n",
       "      <td>buick skyhawk</td>\n",
       "    </tr>\n",
       "    <tr>\n",
       "      <th>165</th>\n",
       "      <td>20.0</td>\n",
       "      <td>8</td>\n",
       "      <td>262.0</td>\n",
       "      <td>110.0</td>\n",
       "      <td>3221</td>\n",
       "      <td>13.5</td>\n",
       "      <td>75</td>\n",
       "      <td>usa</td>\n",
       "      <td>chevrolet monza 2+2</td>\n",
       "    </tr>\n",
       "    <tr>\n",
       "      <th>166</th>\n",
       "      <td>13.0</td>\n",
       "      <td>8</td>\n",
       "      <td>302.0</td>\n",
       "      <td>129.0</td>\n",
       "      <td>3169</td>\n",
       "      <td>12.0</td>\n",
       "      <td>75</td>\n",
       "      <td>usa</td>\n",
       "      <td>ford mustang ii</td>\n",
       "    </tr>\n",
       "    <tr>\n",
       "      <th>167</th>\n",
       "      <td>29.0</td>\n",
       "      <td>4</td>\n",
       "      <td>97.0</td>\n",
       "      <td>75.0</td>\n",
       "      <td>2171</td>\n",
       "      <td>16.0</td>\n",
       "      <td>75</td>\n",
       "      <td>japan</td>\n",
       "      <td>toyota corolla</td>\n",
       "    </tr>\n",
       "    <tr>\n",
       "      <th>168</th>\n",
       "      <td>23.0</td>\n",
       "      <td>4</td>\n",
       "      <td>140.0</td>\n",
       "      <td>83.0</td>\n",
       "      <td>2639</td>\n",
       "      <td>17.0</td>\n",
       "      <td>75</td>\n",
       "      <td>usa</td>\n",
       "      <td>ford pinto</td>\n",
       "    </tr>\n",
       "    <tr>\n",
       "      <th>169</th>\n",
       "      <td>20.0</td>\n",
       "      <td>6</td>\n",
       "      <td>232.0</td>\n",
       "      <td>100.0</td>\n",
       "      <td>2914</td>\n",
       "      <td>16.0</td>\n",
       "      <td>75</td>\n",
       "      <td>usa</td>\n",
       "      <td>amc gremlin</td>\n",
       "    </tr>\n",
       "    <tr>\n",
       "      <th>170</th>\n",
       "      <td>23.0</td>\n",
       "      <td>4</td>\n",
       "      <td>140.0</td>\n",
       "      <td>78.0</td>\n",
       "      <td>2592</td>\n",
       "      <td>18.5</td>\n",
       "      <td>75</td>\n",
       "      <td>usa</td>\n",
       "      <td>pontiac astro</td>\n",
       "    </tr>\n",
       "    <tr>\n",
       "      <th>171</th>\n",
       "      <td>24.0</td>\n",
       "      <td>4</td>\n",
       "      <td>134.0</td>\n",
       "      <td>96.0</td>\n",
       "      <td>2702</td>\n",
       "      <td>13.5</td>\n",
       "      <td>75</td>\n",
       "      <td>japan</td>\n",
       "      <td>toyota corona</td>\n",
       "    </tr>\n",
       "    <tr>\n",
       "      <th>172</th>\n",
       "      <td>25.0</td>\n",
       "      <td>4</td>\n",
       "      <td>90.0</td>\n",
       "      <td>71.0</td>\n",
       "      <td>2223</td>\n",
       "      <td>16.5</td>\n",
       "      <td>75</td>\n",
       "      <td>europe</td>\n",
       "      <td>volkswagen dasher</td>\n",
       "    </tr>\n",
       "    <tr>\n",
       "      <th>173</th>\n",
       "      <td>24.0</td>\n",
       "      <td>4</td>\n",
       "      <td>119.0</td>\n",
       "      <td>97.0</td>\n",
       "      <td>2545</td>\n",
       "      <td>17.0</td>\n",
       "      <td>75</td>\n",
       "      <td>japan</td>\n",
       "      <td>datsun 710</td>\n",
       "    </tr>\n",
       "    <tr>\n",
       "      <th>174</th>\n",
       "      <td>18.0</td>\n",
       "      <td>6</td>\n",
       "      <td>171.0</td>\n",
       "      <td>97.0</td>\n",
       "      <td>2984</td>\n",
       "      <td>14.5</td>\n",
       "      <td>75</td>\n",
       "      <td>usa</td>\n",
       "      <td>ford pinto</td>\n",
       "    </tr>\n",
       "    <tr>\n",
       "      <th>175</th>\n",
       "      <td>29.0</td>\n",
       "      <td>4</td>\n",
       "      <td>90.0</td>\n",
       "      <td>70.0</td>\n",
       "      <td>1937</td>\n",
       "      <td>14.0</td>\n",
       "      <td>75</td>\n",
       "      <td>europe</td>\n",
       "      <td>volkswagen rabbit</td>\n",
       "    </tr>\n",
       "    <tr>\n",
       "      <th>176</th>\n",
       "      <td>19.0</td>\n",
       "      <td>6</td>\n",
       "      <td>232.0</td>\n",
       "      <td>90.0</td>\n",
       "      <td>3211</td>\n",
       "      <td>17.0</td>\n",
       "      <td>75</td>\n",
       "      <td>usa</td>\n",
       "      <td>amc pacer</td>\n",
       "    </tr>\n",
       "    <tr>\n",
       "      <th>177</th>\n",
       "      <td>23.0</td>\n",
       "      <td>4</td>\n",
       "      <td>115.0</td>\n",
       "      <td>95.0</td>\n",
       "      <td>2694</td>\n",
       "      <td>15.0</td>\n",
       "      <td>75</td>\n",
       "      <td>europe</td>\n",
       "      <td>audi 100ls</td>\n",
       "    </tr>\n",
       "    <tr>\n",
       "      <th>178</th>\n",
       "      <td>23.0</td>\n",
       "      <td>4</td>\n",
       "      <td>120.0</td>\n",
       "      <td>88.0</td>\n",
       "      <td>2957</td>\n",
       "      <td>17.0</td>\n",
       "      <td>75</td>\n",
       "      <td>europe</td>\n",
       "      <td>peugeot 504</td>\n",
       "    </tr>\n",
       "    <tr>\n",
       "      <th>179</th>\n",
       "      <td>22.0</td>\n",
       "      <td>4</td>\n",
       "      <td>121.0</td>\n",
       "      <td>98.0</td>\n",
       "      <td>2945</td>\n",
       "      <td>14.5</td>\n",
       "      <td>75</td>\n",
       "      <td>europe</td>\n",
       "      <td>volvo 244dl</td>\n",
       "    </tr>\n",
       "    <tr>\n",
       "      <th>180</th>\n",
       "      <td>25.0</td>\n",
       "      <td>4</td>\n",
       "      <td>121.0</td>\n",
       "      <td>115.0</td>\n",
       "      <td>2671</td>\n",
       "      <td>13.5</td>\n",
       "      <td>75</td>\n",
       "      <td>europe</td>\n",
       "      <td>saab 99le</td>\n",
       "    </tr>\n",
       "    <tr>\n",
       "      <th>181</th>\n",
       "      <td>33.0</td>\n",
       "      <td>4</td>\n",
       "      <td>91.0</td>\n",
       "      <td>53.0</td>\n",
       "      <td>1795</td>\n",
       "      <td>17.5</td>\n",
       "      <td>75</td>\n",
       "      <td>japan</td>\n",
       "      <td>honda civic cvcc</td>\n",
       "    </tr>\n",
       "  </tbody>\n",
       "</table>\n",
       "</div>"
      ],
      "text/plain": [
       "      mpg  cylinders  displacement  horsepower  weight  acceleration  \\\n",
       "152  19.0          6         225.0        95.0    3264          16.0   \n",
       "153  18.0          6         250.0       105.0    3459          16.0   \n",
       "154  15.0          6         250.0        72.0    3432          21.0   \n",
       "155  15.0          6         250.0        72.0    3158          19.5   \n",
       "156  16.0          8         400.0       170.0    4668          11.5   \n",
       "157  15.0          8         350.0       145.0    4440          14.0   \n",
       "158  16.0          8         318.0       150.0    4498          14.5   \n",
       "159  14.0          8         351.0       148.0    4657          13.5   \n",
       "160  17.0          6         231.0       110.0    3907          21.0   \n",
       "161  16.0          6         250.0       105.0    3897          18.5   \n",
       "162  15.0          6         258.0       110.0    3730          19.0   \n",
       "163  18.0          6         225.0        95.0    3785          19.0   \n",
       "164  21.0          6         231.0       110.0    3039          15.0   \n",
       "165  20.0          8         262.0       110.0    3221          13.5   \n",
       "166  13.0          8         302.0       129.0    3169          12.0   \n",
       "167  29.0          4          97.0        75.0    2171          16.0   \n",
       "168  23.0          4         140.0        83.0    2639          17.0   \n",
       "169  20.0          6         232.0       100.0    2914          16.0   \n",
       "170  23.0          4         140.0        78.0    2592          18.5   \n",
       "171  24.0          4         134.0        96.0    2702          13.5   \n",
       "172  25.0          4          90.0        71.0    2223          16.5   \n",
       "173  24.0          4         119.0        97.0    2545          17.0   \n",
       "174  18.0          6         171.0        97.0    2984          14.5   \n",
       "175  29.0          4          90.0        70.0    1937          14.0   \n",
       "176  19.0          6         232.0        90.0    3211          17.0   \n",
       "177  23.0          4         115.0        95.0    2694          15.0   \n",
       "178  23.0          4         120.0        88.0    2957          17.0   \n",
       "179  22.0          4         121.0        98.0    2945          14.5   \n",
       "180  25.0          4         121.0       115.0    2671          13.5   \n",
       "181  33.0          4          91.0        53.0    1795          17.5   \n",
       "\n",
       "     model_year  origin                       name  \n",
       "152          75     usa    plymouth valiant custom  \n",
       "153          75     usa             chevrolet nova  \n",
       "154          75     usa            mercury monarch  \n",
       "155          75     usa              ford maverick  \n",
       "156          75     usa           pontiac catalina  \n",
       "157          75     usa          chevrolet bel air  \n",
       "158          75     usa        plymouth grand fury  \n",
       "159          75     usa                   ford ltd  \n",
       "160          75     usa              buick century  \n",
       "161          75     usa  chevroelt chevelle malibu  \n",
       "162          75     usa                amc matador  \n",
       "163          75     usa              plymouth fury  \n",
       "164          75     usa              buick skyhawk  \n",
       "165          75     usa        chevrolet monza 2+2  \n",
       "166          75     usa            ford mustang ii  \n",
       "167          75   japan             toyota corolla  \n",
       "168          75     usa                 ford pinto  \n",
       "169          75     usa                amc gremlin  \n",
       "170          75     usa              pontiac astro  \n",
       "171          75   japan              toyota corona  \n",
       "172          75  europe          volkswagen dasher  \n",
       "173          75   japan                 datsun 710  \n",
       "174          75     usa                 ford pinto  \n",
       "175          75  europe          volkswagen rabbit  \n",
       "176          75     usa                  amc pacer  \n",
       "177          75  europe                 audi 100ls  \n",
       "178          75  europe                peugeot 504  \n",
       "179          75  europe                volvo 244dl  \n",
       "180          75  europe                  saab 99le  \n",
       "181          75   japan           honda civic cvcc  "
      ]
     },
     "execution_count": 25,
     "metadata": {},
     "output_type": "execute_result"
    }
   ],
   "source": [
    "b"
   ]
  },
  {
   "cell_type": "markdown",
   "metadata": {},
   "source": [
    "Let's contrast that with how we would normally find this sub-DataFrame, using Boolean indexing."
   ]
  },
  {
   "cell_type": "code",
   "execution_count": 26,
   "metadata": {
    "cell_id": "cf7823f8b2d649589c943c5325aa95e8",
    "deepnote_cell_type": "code",
    "deepnote_to_be_reexecuted": false,
    "execution_millis": 4,
    "execution_start": 1665768356972,
    "source_hash": "ea18086f",
    "tags": []
   },
   "outputs": [],
   "source": [
    "# Boolean indexing\n",
    "sub_df = df[df[\"model_year\"] == 75]"
   ]
  },
  {
   "cell_type": "markdown",
   "metadata": {},
   "source": [
    "I claim that the sub-DataFrame `sub_df` we just defined is the same as `b` that was produced above.  If we evaluate `sub_df == b`, we get a whole DataFrame of `True`s and `False`s."
   ]
  },
  {
   "cell_type": "code",
   "execution_count": 27,
   "metadata": {
    "cell_id": "22631fb7928a42699a30f5fdbeaa9258",
    "deepnote_cell_type": "code",
    "deepnote_to_be_reexecuted": false,
    "execution_millis": 25,
    "execution_start": 1665768376276,
    "source_hash": "43290ac7",
    "tags": [
     "output_scroll"
    ]
   },
   "outputs": [
    {
     "data": {
      "application/vnd.deepnote.dataframe.v3+json": {
       "column_count": 9,
       "columns": [
        {
         "dtype": "bool",
         "name": "mpg",
         "stats": {
          "categories": [
           {
            "count": 30,
            "name": "True"
           }
          ],
          "nan_count": 0,
          "unique_count": 1
         }
        },
        {
         "dtype": "bool",
         "name": "cylinders",
         "stats": {
          "categories": [
           {
            "count": 30,
            "name": "True"
           }
          ],
          "nan_count": 0,
          "unique_count": 1
         }
        },
        {
         "dtype": "bool",
         "name": "displacement",
         "stats": {
          "categories": [
           {
            "count": 30,
            "name": "True"
           }
          ],
          "nan_count": 0,
          "unique_count": 1
         }
        },
        {
         "dtype": "bool",
         "name": "horsepower",
         "stats": {
          "categories": [
           {
            "count": 30,
            "name": "True"
           }
          ],
          "nan_count": 0,
          "unique_count": 1
         }
        },
        {
         "dtype": "bool",
         "name": "weight",
         "stats": {
          "categories": [
           {
            "count": 30,
            "name": "True"
           }
          ],
          "nan_count": 0,
          "unique_count": 1
         }
        },
        {
         "dtype": "bool",
         "name": "acceleration",
         "stats": {
          "categories": [
           {
            "count": 30,
            "name": "True"
           }
          ],
          "nan_count": 0,
          "unique_count": 1
         }
        },
        {
         "dtype": "bool",
         "name": "model_year",
         "stats": {
          "categories": [
           {
            "count": 30,
            "name": "True"
           }
          ],
          "nan_count": 0,
          "unique_count": 1
         }
        },
        {
         "dtype": "bool",
         "name": "origin",
         "stats": {
          "categories": [
           {
            "count": 30,
            "name": "True"
           }
          ],
          "nan_count": 0,
          "unique_count": 1
         }
        },
        {
         "dtype": "bool",
         "name": "name",
         "stats": {
          "categories": [
           {
            "count": 30,
            "name": "True"
           }
          ],
          "nan_count": 0,
          "unique_count": 1
         }
        },
        {
         "dtype": "int64",
         "name": "_deepnote_index_column"
        }
       ],
       "row_count": 30,
       "rows": [
        {
         "_deepnote_index_column": "152",
         "acceleration": "True",
         "cylinders": "True",
         "displacement": "True",
         "horsepower": "True",
         "model_year": "True",
         "mpg": "True",
         "name": "True",
         "origin": "True",
         "weight": "True"
        },
        {
         "_deepnote_index_column": "153",
         "acceleration": "True",
         "cylinders": "True",
         "displacement": "True",
         "horsepower": "True",
         "model_year": "True",
         "mpg": "True",
         "name": "True",
         "origin": "True",
         "weight": "True"
        },
        {
         "_deepnote_index_column": "154",
         "acceleration": "True",
         "cylinders": "True",
         "displacement": "True",
         "horsepower": "True",
         "model_year": "True",
         "mpg": "True",
         "name": "True",
         "origin": "True",
         "weight": "True"
        },
        {
         "_deepnote_index_column": "155",
         "acceleration": "True",
         "cylinders": "True",
         "displacement": "True",
         "horsepower": "True",
         "model_year": "True",
         "mpg": "True",
         "name": "True",
         "origin": "True",
         "weight": "True"
        },
        {
         "_deepnote_index_column": "156",
         "acceleration": "True",
         "cylinders": "True",
         "displacement": "True",
         "horsepower": "True",
         "model_year": "True",
         "mpg": "True",
         "name": "True",
         "origin": "True",
         "weight": "True"
        },
        {
         "_deepnote_index_column": "157",
         "acceleration": "True",
         "cylinders": "True",
         "displacement": "True",
         "horsepower": "True",
         "model_year": "True",
         "mpg": "True",
         "name": "True",
         "origin": "True",
         "weight": "True"
        },
        {
         "_deepnote_index_column": "158",
         "acceleration": "True",
         "cylinders": "True",
         "displacement": "True",
         "horsepower": "True",
         "model_year": "True",
         "mpg": "True",
         "name": "True",
         "origin": "True",
         "weight": "True"
        },
        {
         "_deepnote_index_column": "159",
         "acceleration": "True",
         "cylinders": "True",
         "displacement": "True",
         "horsepower": "True",
         "model_year": "True",
         "mpg": "True",
         "name": "True",
         "origin": "True",
         "weight": "True"
        },
        {
         "_deepnote_index_column": "160",
         "acceleration": "True",
         "cylinders": "True",
         "displacement": "True",
         "horsepower": "True",
         "model_year": "True",
         "mpg": "True",
         "name": "True",
         "origin": "True",
         "weight": "True"
        },
        {
         "_deepnote_index_column": "161",
         "acceleration": "True",
         "cylinders": "True",
         "displacement": "True",
         "horsepower": "True",
         "model_year": "True",
         "mpg": "True",
         "name": "True",
         "origin": "True",
         "weight": "True"
        }
       ]
      },
      "text/html": [
       "<div>\n",
       "<style scoped>\n",
       "    .dataframe tbody tr th:only-of-type {\n",
       "        vertical-align: middle;\n",
       "    }\n",
       "\n",
       "    .dataframe tbody tr th {\n",
       "        vertical-align: top;\n",
       "    }\n",
       "\n",
       "    .dataframe thead th {\n",
       "        text-align: right;\n",
       "    }\n",
       "</style>\n",
       "<table border=\"1\" class=\"dataframe\">\n",
       "  <thead>\n",
       "    <tr style=\"text-align: right;\">\n",
       "      <th></th>\n",
       "      <th>mpg</th>\n",
       "      <th>cylinders</th>\n",
       "      <th>displacement</th>\n",
       "      <th>horsepower</th>\n",
       "      <th>weight</th>\n",
       "      <th>acceleration</th>\n",
       "      <th>model_year</th>\n",
       "      <th>origin</th>\n",
       "      <th>name</th>\n",
       "    </tr>\n",
       "  </thead>\n",
       "  <tbody>\n",
       "    <tr>\n",
       "      <th>152</th>\n",
       "      <td>True</td>\n",
       "      <td>True</td>\n",
       "      <td>True</td>\n",
       "      <td>True</td>\n",
       "      <td>True</td>\n",
       "      <td>True</td>\n",
       "      <td>True</td>\n",
       "      <td>True</td>\n",
       "      <td>True</td>\n",
       "    </tr>\n",
       "    <tr>\n",
       "      <th>153</th>\n",
       "      <td>True</td>\n",
       "      <td>True</td>\n",
       "      <td>True</td>\n",
       "      <td>True</td>\n",
       "      <td>True</td>\n",
       "      <td>True</td>\n",
       "      <td>True</td>\n",
       "      <td>True</td>\n",
       "      <td>True</td>\n",
       "    </tr>\n",
       "    <tr>\n",
       "      <th>154</th>\n",
       "      <td>True</td>\n",
       "      <td>True</td>\n",
       "      <td>True</td>\n",
       "      <td>True</td>\n",
       "      <td>True</td>\n",
       "      <td>True</td>\n",
       "      <td>True</td>\n",
       "      <td>True</td>\n",
       "      <td>True</td>\n",
       "    </tr>\n",
       "    <tr>\n",
       "      <th>155</th>\n",
       "      <td>True</td>\n",
       "      <td>True</td>\n",
       "      <td>True</td>\n",
       "      <td>True</td>\n",
       "      <td>True</td>\n",
       "      <td>True</td>\n",
       "      <td>True</td>\n",
       "      <td>True</td>\n",
       "      <td>True</td>\n",
       "    </tr>\n",
       "    <tr>\n",
       "      <th>156</th>\n",
       "      <td>True</td>\n",
       "      <td>True</td>\n",
       "      <td>True</td>\n",
       "      <td>True</td>\n",
       "      <td>True</td>\n",
       "      <td>True</td>\n",
       "      <td>True</td>\n",
       "      <td>True</td>\n",
       "      <td>True</td>\n",
       "    </tr>\n",
       "    <tr>\n",
       "      <th>157</th>\n",
       "      <td>True</td>\n",
       "      <td>True</td>\n",
       "      <td>True</td>\n",
       "      <td>True</td>\n",
       "      <td>True</td>\n",
       "      <td>True</td>\n",
       "      <td>True</td>\n",
       "      <td>True</td>\n",
       "      <td>True</td>\n",
       "    </tr>\n",
       "    <tr>\n",
       "      <th>158</th>\n",
       "      <td>True</td>\n",
       "      <td>True</td>\n",
       "      <td>True</td>\n",
       "      <td>True</td>\n",
       "      <td>True</td>\n",
       "      <td>True</td>\n",
       "      <td>True</td>\n",
       "      <td>True</td>\n",
       "      <td>True</td>\n",
       "    </tr>\n",
       "    <tr>\n",
       "      <th>159</th>\n",
       "      <td>True</td>\n",
       "      <td>True</td>\n",
       "      <td>True</td>\n",
       "      <td>True</td>\n",
       "      <td>True</td>\n",
       "      <td>True</td>\n",
       "      <td>True</td>\n",
       "      <td>True</td>\n",
       "      <td>True</td>\n",
       "    </tr>\n",
       "    <tr>\n",
       "      <th>160</th>\n",
       "      <td>True</td>\n",
       "      <td>True</td>\n",
       "      <td>True</td>\n",
       "      <td>True</td>\n",
       "      <td>True</td>\n",
       "      <td>True</td>\n",
       "      <td>True</td>\n",
       "      <td>True</td>\n",
       "      <td>True</td>\n",
       "    </tr>\n",
       "    <tr>\n",
       "      <th>161</th>\n",
       "      <td>True</td>\n",
       "      <td>True</td>\n",
       "      <td>True</td>\n",
       "      <td>True</td>\n",
       "      <td>True</td>\n",
       "      <td>True</td>\n",
       "      <td>True</td>\n",
       "      <td>True</td>\n",
       "      <td>True</td>\n",
       "    </tr>\n",
       "    <tr>\n",
       "      <th>162</th>\n",
       "      <td>True</td>\n",
       "      <td>True</td>\n",
       "      <td>True</td>\n",
       "      <td>True</td>\n",
       "      <td>True</td>\n",
       "      <td>True</td>\n",
       "      <td>True</td>\n",
       "      <td>True</td>\n",
       "      <td>True</td>\n",
       "    </tr>\n",
       "    <tr>\n",
       "      <th>163</th>\n",
       "      <td>True</td>\n",
       "      <td>True</td>\n",
       "      <td>True</td>\n",
       "      <td>True</td>\n",
       "      <td>True</td>\n",
       "      <td>True</td>\n",
       "      <td>True</td>\n",
       "      <td>True</td>\n",
       "      <td>True</td>\n",
       "    </tr>\n",
       "    <tr>\n",
       "      <th>164</th>\n",
       "      <td>True</td>\n",
       "      <td>True</td>\n",
       "      <td>True</td>\n",
       "      <td>True</td>\n",
       "      <td>True</td>\n",
       "      <td>True</td>\n",
       "      <td>True</td>\n",
       "      <td>True</td>\n",
       "      <td>True</td>\n",
       "    </tr>\n",
       "    <tr>\n",
       "      <th>165</th>\n",
       "      <td>True</td>\n",
       "      <td>True</td>\n",
       "      <td>True</td>\n",
       "      <td>True</td>\n",
       "      <td>True</td>\n",
       "      <td>True</td>\n",
       "      <td>True</td>\n",
       "      <td>True</td>\n",
       "      <td>True</td>\n",
       "    </tr>\n",
       "    <tr>\n",
       "      <th>166</th>\n",
       "      <td>True</td>\n",
       "      <td>True</td>\n",
       "      <td>True</td>\n",
       "      <td>True</td>\n",
       "      <td>True</td>\n",
       "      <td>True</td>\n",
       "      <td>True</td>\n",
       "      <td>True</td>\n",
       "      <td>True</td>\n",
       "    </tr>\n",
       "    <tr>\n",
       "      <th>167</th>\n",
       "      <td>True</td>\n",
       "      <td>True</td>\n",
       "      <td>True</td>\n",
       "      <td>True</td>\n",
       "      <td>True</td>\n",
       "      <td>True</td>\n",
       "      <td>True</td>\n",
       "      <td>True</td>\n",
       "      <td>True</td>\n",
       "    </tr>\n",
       "    <tr>\n",
       "      <th>168</th>\n",
       "      <td>True</td>\n",
       "      <td>True</td>\n",
       "      <td>True</td>\n",
       "      <td>True</td>\n",
       "      <td>True</td>\n",
       "      <td>True</td>\n",
       "      <td>True</td>\n",
       "      <td>True</td>\n",
       "      <td>True</td>\n",
       "    </tr>\n",
       "    <tr>\n",
       "      <th>169</th>\n",
       "      <td>True</td>\n",
       "      <td>True</td>\n",
       "      <td>True</td>\n",
       "      <td>True</td>\n",
       "      <td>True</td>\n",
       "      <td>True</td>\n",
       "      <td>True</td>\n",
       "      <td>True</td>\n",
       "      <td>True</td>\n",
       "    </tr>\n",
       "    <tr>\n",
       "      <th>170</th>\n",
       "      <td>True</td>\n",
       "      <td>True</td>\n",
       "      <td>True</td>\n",
       "      <td>True</td>\n",
       "      <td>True</td>\n",
       "      <td>True</td>\n",
       "      <td>True</td>\n",
       "      <td>True</td>\n",
       "      <td>True</td>\n",
       "    </tr>\n",
       "    <tr>\n",
       "      <th>171</th>\n",
       "      <td>True</td>\n",
       "      <td>True</td>\n",
       "      <td>True</td>\n",
       "      <td>True</td>\n",
       "      <td>True</td>\n",
       "      <td>True</td>\n",
       "      <td>True</td>\n",
       "      <td>True</td>\n",
       "      <td>True</td>\n",
       "    </tr>\n",
       "    <tr>\n",
       "      <th>172</th>\n",
       "      <td>True</td>\n",
       "      <td>True</td>\n",
       "      <td>True</td>\n",
       "      <td>True</td>\n",
       "      <td>True</td>\n",
       "      <td>True</td>\n",
       "      <td>True</td>\n",
       "      <td>True</td>\n",
       "      <td>True</td>\n",
       "    </tr>\n",
       "    <tr>\n",
       "      <th>173</th>\n",
       "      <td>True</td>\n",
       "      <td>True</td>\n",
       "      <td>True</td>\n",
       "      <td>True</td>\n",
       "      <td>True</td>\n",
       "      <td>True</td>\n",
       "      <td>True</td>\n",
       "      <td>True</td>\n",
       "      <td>True</td>\n",
       "    </tr>\n",
       "    <tr>\n",
       "      <th>174</th>\n",
       "      <td>True</td>\n",
       "      <td>True</td>\n",
       "      <td>True</td>\n",
       "      <td>True</td>\n",
       "      <td>True</td>\n",
       "      <td>True</td>\n",
       "      <td>True</td>\n",
       "      <td>True</td>\n",
       "      <td>True</td>\n",
       "    </tr>\n",
       "    <tr>\n",
       "      <th>175</th>\n",
       "      <td>True</td>\n",
       "      <td>True</td>\n",
       "      <td>True</td>\n",
       "      <td>True</td>\n",
       "      <td>True</td>\n",
       "      <td>True</td>\n",
       "      <td>True</td>\n",
       "      <td>True</td>\n",
       "      <td>True</td>\n",
       "    </tr>\n",
       "    <tr>\n",
       "      <th>176</th>\n",
       "      <td>True</td>\n",
       "      <td>True</td>\n",
       "      <td>True</td>\n",
       "      <td>True</td>\n",
       "      <td>True</td>\n",
       "      <td>True</td>\n",
       "      <td>True</td>\n",
       "      <td>True</td>\n",
       "      <td>True</td>\n",
       "    </tr>\n",
       "    <tr>\n",
       "      <th>177</th>\n",
       "      <td>True</td>\n",
       "      <td>True</td>\n",
       "      <td>True</td>\n",
       "      <td>True</td>\n",
       "      <td>True</td>\n",
       "      <td>True</td>\n",
       "      <td>True</td>\n",
       "      <td>True</td>\n",
       "      <td>True</td>\n",
       "    </tr>\n",
       "    <tr>\n",
       "      <th>178</th>\n",
       "      <td>True</td>\n",
       "      <td>True</td>\n",
       "      <td>True</td>\n",
       "      <td>True</td>\n",
       "      <td>True</td>\n",
       "      <td>True</td>\n",
       "      <td>True</td>\n",
       "      <td>True</td>\n",
       "      <td>True</td>\n",
       "    </tr>\n",
       "    <tr>\n",
       "      <th>179</th>\n",
       "      <td>True</td>\n",
       "      <td>True</td>\n",
       "      <td>True</td>\n",
       "      <td>True</td>\n",
       "      <td>True</td>\n",
       "      <td>True</td>\n",
       "      <td>True</td>\n",
       "      <td>True</td>\n",
       "      <td>True</td>\n",
       "    </tr>\n",
       "    <tr>\n",
       "      <th>180</th>\n",
       "      <td>True</td>\n",
       "      <td>True</td>\n",
       "      <td>True</td>\n",
       "      <td>True</td>\n",
       "      <td>True</td>\n",
       "      <td>True</td>\n",
       "      <td>True</td>\n",
       "      <td>True</td>\n",
       "      <td>True</td>\n",
       "    </tr>\n",
       "    <tr>\n",
       "      <th>181</th>\n",
       "      <td>True</td>\n",
       "      <td>True</td>\n",
       "      <td>True</td>\n",
       "      <td>True</td>\n",
       "      <td>True</td>\n",
       "      <td>True</td>\n",
       "      <td>True</td>\n",
       "      <td>True</td>\n",
       "      <td>True</td>\n",
       "    </tr>\n",
       "  </tbody>\n",
       "</table>\n",
       "</div>"
      ],
      "text/plain": [
       "      mpg  cylinders  displacement  horsepower  weight  acceleration  \\\n",
       "152  True       True          True        True    True          True   \n",
       "153  True       True          True        True    True          True   \n",
       "154  True       True          True        True    True          True   \n",
       "155  True       True          True        True    True          True   \n",
       "156  True       True          True        True    True          True   \n",
       "157  True       True          True        True    True          True   \n",
       "158  True       True          True        True    True          True   \n",
       "159  True       True          True        True    True          True   \n",
       "160  True       True          True        True    True          True   \n",
       "161  True       True          True        True    True          True   \n",
       "162  True       True          True        True    True          True   \n",
       "163  True       True          True        True    True          True   \n",
       "164  True       True          True        True    True          True   \n",
       "165  True       True          True        True    True          True   \n",
       "166  True       True          True        True    True          True   \n",
       "167  True       True          True        True    True          True   \n",
       "168  True       True          True        True    True          True   \n",
       "169  True       True          True        True    True          True   \n",
       "170  True       True          True        True    True          True   \n",
       "171  True       True          True        True    True          True   \n",
       "172  True       True          True        True    True          True   \n",
       "173  True       True          True        True    True          True   \n",
       "174  True       True          True        True    True          True   \n",
       "175  True       True          True        True    True          True   \n",
       "176  True       True          True        True    True          True   \n",
       "177  True       True          True        True    True          True   \n",
       "178  True       True          True        True    True          True   \n",
       "179  True       True          True        True    True          True   \n",
       "180  True       True          True        True    True          True   \n",
       "181  True       True          True        True    True          True   \n",
       "\n",
       "     model_year  origin  name  \n",
       "152        True    True  True  \n",
       "153        True    True  True  \n",
       "154        True    True  True  \n",
       "155        True    True  True  \n",
       "156        True    True  True  \n",
       "157        True    True  True  \n",
       "158        True    True  True  \n",
       "159        True    True  True  \n",
       "160        True    True  True  \n",
       "161        True    True  True  \n",
       "162        True    True  True  \n",
       "163        True    True  True  \n",
       "164        True    True  True  \n",
       "165        True    True  True  \n",
       "166        True    True  True  \n",
       "167        True    True  True  \n",
       "168        True    True  True  \n",
       "169        True    True  True  \n",
       "170        True    True  True  \n",
       "171        True    True  True  \n",
       "172        True    True  True  \n",
       "173        True    True  True  \n",
       "174        True    True  True  \n",
       "175        True    True  True  \n",
       "176        True    True  True  \n",
       "177        True    True  True  \n",
       "178        True    True  True  \n",
       "179        True    True  True  \n",
       "180        True    True  True  \n",
       "181        True    True  True  "
      ]
     },
     "execution_count": 27,
     "metadata": {},
     "output_type": "execute_result"
    }
   ],
   "source": [
    "sub_df == b"
   ]
  },
  {
   "cell_type": "markdown",
   "metadata": {},
   "source": [
    "Are all of the values `True`?  (In other words, are the sub-DataFrames really equal?)  The following will tell us if all the values are equal along each individual row."
   ]
  },
  {
   "cell_type": "code",
   "execution_count": 28,
   "metadata": {
    "cell_id": "28107372e69441dab070550e2d3f492c",
    "deepnote_cell_type": "code",
    "deepnote_to_be_reexecuted": false,
    "execution_millis": 6,
    "execution_start": 1665768414465,
    "source_hash": "4585cd2",
    "tags": [
     "output_scroll"
    ]
   },
   "outputs": [
    {
     "data": {
      "text/plain": [
       "152    True\n",
       "153    True\n",
       "154    True\n",
       "155    True\n",
       "156    True\n",
       "157    True\n",
       "158    True\n",
       "159    True\n",
       "160    True\n",
       "161    True\n",
       "162    True\n",
       "163    True\n",
       "164    True\n",
       "165    True\n",
       "166    True\n",
       "167    True\n",
       "168    True\n",
       "169    True\n",
       "170    True\n",
       "171    True\n",
       "172    True\n",
       "173    True\n",
       "174    True\n",
       "175    True\n",
       "176    True\n",
       "177    True\n",
       "178    True\n",
       "179    True\n",
       "180    True\n",
       "181    True\n",
       "dtype: bool"
      ]
     },
     "execution_count": 28,
     "metadata": {},
     "output_type": "execute_result"
    }
   ],
   "source": [
    "(sub_df == b).all(axis=1)"
   ]
  },
  {
   "cell_type": "markdown",
   "metadata": {},
   "source": [
    "We can add another `all` to verify that all the rows really are equal.  The following confirms that the two DataFrames are equal."
   ]
  },
  {
   "cell_type": "code",
   "execution_count": 29,
   "metadata": {
    "cell_id": "9f7f7a5098744983841aec910fdcc6bb",
    "deepnote_cell_type": "code",
    "deepnote_to_be_reexecuted": false,
    "execution_millis": 6,
    "execution_start": 1665768427597,
    "source_hash": "59c7fcbc",
    "tags": []
   },
   "outputs": [
    {
     "data": {
      "text/plain": [
       "True"
      ]
     },
     "execution_count": 29,
     "metadata": {},
     "output_type": "execute_result"
    }
   ],
   "source": [
    "(sub_df == b).all(axis=1).all()"
   ]
  },
  {
   "cell_type": "markdown",
   "metadata": {
    "cell_id": "7a28a4606c414680a40de8a16ba752ca",
    "deepnote_cell_type": "markdown",
    "tags": []
   },
   "source": [
    "Let's finally get to a question we can solve by iterating over a GroupBy object with a for loop.\n",
    "\n",
    "* For each year, how many cars had mpg at least 25?\n",
    "\n",
    "Here we change to better variable names than `a` and `b`.  We use the variable names `year` and `sub_df`."
   ]
  },
  {
   "cell_type": "code",
   "execution_count": 30,
   "metadata": {
    "cell_id": "5634c7d2f44c4fb19afa565fec175e21",
    "deepnote_cell_type": "code",
    "deepnote_to_be_reexecuted": false,
    "execution_millis": 9,
    "execution_start": 1665768720162,
    "source_hash": "de4d4572",
    "tags": []
   },
   "outputs": [
    {
     "name": "stdout",
     "output_type": "stream",
     "text": [
      "70\n",
      "71\n",
      "72\n",
      "73\n",
      "74\n",
      "75\n",
      "76\n",
      "77\n",
      "78\n",
      "79\n",
      "80\n",
      "81\n",
      "82\n"
     ]
    }
   ],
   "source": [
    "for year, sub_df in df.groupby(\"model_year\"):\n",
    "    print(year)"
   ]
  },
  {
   "cell_type": "markdown",
   "metadata": {},
   "source": [
    "We can't realistically print out every value of `sub_df`, but here is the final value.  (Inside of the for loop, `sub_df` takes a different value for each year from 70 to 82.  When we leave the for loop, `sub_df` is still the final value, the sub-DataFrame corresponding to model_year 82.)  Notice how the model_year is 82 throughout this DataFrame."
   ]
  },
  {
   "cell_type": "code",
   "execution_count": 31,
   "metadata": {
    "cell_id": "d0765cbd10e74dc993425c14cccfe39a",
    "deepnote_cell_type": "code",
    "deepnote_to_be_reexecuted": false,
    "execution_millis": 10,
    "execution_start": 1665768764410,
    "source_hash": "893c1c48",
    "tags": [
     "output_scroll"
    ]
   },
   "outputs": [
    {
     "data": {
      "application/vnd.deepnote.dataframe.v3+json": {
       "column_count": 9,
       "columns": [
        {
         "dtype": "float64",
         "name": "mpg",
         "stats": {
          "histogram": [
           {
            "bin_end": 24.2,
            "bin_start": 22,
            "count": 3
           },
           {
            "bin_end": 26.4,
            "bin_start": 24.2,
            "count": 2
           },
           {
            "bin_end": 28.6,
            "bin_start": 26.4,
            "count": 6
           },
           {
            "bin_end": 30.8,
            "bin_start": 28.6,
            "count": 1
           },
           {
            "bin_end": 33,
            "bin_start": 30.8,
            "count": 6
           },
           {
            "bin_end": 35.2,
            "bin_start": 33,
            "count": 2
           },
           {
            "bin_end": 37.400000000000006,
            "bin_start": 35.2,
            "count": 6
           },
           {
            "bin_end": 39.6,
            "bin_start": 37.400000000000006,
            "count": 4
           },
           {
            "bin_end": 41.8,
            "bin_start": 39.6,
            "count": 0
           },
           {
            "bin_end": 44,
            "bin_start": 41.8,
            "count": 1
           }
          ],
          "max": "44.0",
          "min": "22.0",
          "nan_count": 0,
          "unique_count": 15
         }
        },
        {
         "dtype": "int64",
         "name": "cylinders",
         "stats": {
          "histogram": [
           {
            "bin_end": 4.2,
            "bin_start": 4,
            "count": 28
           },
           {
            "bin_end": 4.4,
            "bin_start": 4.2,
            "count": 0
           },
           {
            "bin_end": 4.6,
            "bin_start": 4.4,
            "count": 0
           },
           {
            "bin_end": 4.8,
            "bin_start": 4.6,
            "count": 0
           },
           {
            "bin_end": 5,
            "bin_start": 4.8,
            "count": 0
           },
           {
            "bin_end": 5.2,
            "bin_start": 5,
            "count": 0
           },
           {
            "bin_end": 5.4,
            "bin_start": 5.2,
            "count": 0
           },
           {
            "bin_end": 5.6,
            "bin_start": 5.4,
            "count": 0
           },
           {
            "bin_end": 5.8,
            "bin_start": 5.6,
            "count": 0
           },
           {
            "bin_end": 6,
            "bin_start": 5.8,
            "count": 3
           }
          ],
          "max": "6",
          "min": "4",
          "nan_count": 0,
          "unique_count": 2
         }
        },
        {
         "dtype": "float64",
         "name": "displacement",
         "stats": {
          "histogram": [
           {
            "bin_end": 108.1,
            "bin_start": 91,
            "count": 11
           },
           {
            "bin_end": 125.2,
            "bin_start": 108.1,
            "count": 7
           },
           {
            "bin_end": 142.3,
            "bin_start": 125.2,
            "count": 5
           },
           {
            "bin_end": 159.4,
            "bin_start": 142.3,
            "count": 5
           },
           {
            "bin_end": 176.5,
            "bin_start": 159.4,
            "count": 0
           },
           {
            "bin_end": 193.60000000000002,
            "bin_start": 176.5,
            "count": 1
           },
           {
            "bin_end": 210.70000000000002,
            "bin_start": 193.60000000000002,
            "count": 0
           },
           {
            "bin_end": 227.8,
            "bin_start": 210.70000000000002,
            "count": 0
           },
           {
            "bin_end": 244.9,
            "bin_start": 227.8,
            "count": 1
           },
           {
            "bin_end": 262,
            "bin_start": 244.9,
            "count": 1
           }
          ],
          "max": "262.0",
          "min": "91.0",
          "nan_count": 0,
          "unique_count": 17
         }
        },
        {
         "dtype": "float64",
         "name": "horsepower",
         "stats": {
          "histogram": [
           {
            "bin_end": 58,
            "bin_start": 52,
            "count": 1
           },
           {
            "bin_end": 64,
            "bin_start": 58,
            "count": 1
           },
           {
            "bin_end": 70,
            "bin_start": 64,
            "count": 5
           },
           {
            "bin_end": 76,
            "bin_start": 70,
            "count": 4
           },
           {
            "bin_end": 82,
            "bin_start": 76,
            "count": 1
           },
           {
            "bin_end": 88,
            "bin_start": 82,
            "count": 7
           },
           {
            "bin_end": 94,
            "bin_start": 88,
            "count": 8
           },
           {
            "bin_end": 100,
            "bin_start": 94,
            "count": 1
           },
           {
            "bin_end": 106,
            "bin_start": 100,
            "count": 0
           },
           {
            "bin_end": 112,
            "bin_start": 106,
            "count": 2
           }
          ],
          "max": "112.0",
          "min": "52.0",
          "nan_count": 1,
          "unique_count": 18
         }
        },
        {
         "dtype": "int64",
         "name": "weight",
         "stats": {
          "histogram": [
           {
            "bin_end": 2072,
            "bin_start": 1965,
            "count": 6
           },
           {
            "bin_end": 2179,
            "bin_start": 2072,
            "count": 4
           },
           {
            "bin_end": 2286,
            "bin_start": 2179,
            "count": 2
           },
           {
            "bin_end": 2393,
            "bin_start": 2286,
            "count": 2
           },
           {
            "bin_end": 2500,
            "bin_start": 2393,
            "count": 1
           },
           {
            "bin_end": 2607,
            "bin_start": 2500,
            "count": 4
           },
           {
            "bin_end": 2714,
            "bin_start": 2607,
            "count": 3
           },
           {
            "bin_end": 2821,
            "bin_start": 2714,
            "count": 3
           },
           {
            "bin_end": 2928,
            "bin_start": 2821,
            "count": 2
           },
           {
            "bin_end": 3035,
            "bin_start": 2928,
            "count": 4
           }
          ],
          "max": "3035",
          "min": "1965",
          "nan_count": 0,
          "unique_count": 29
         }
        },
        {
         "dtype": "float64",
         "name": "acceleration",
         "stats": {
          "histogram": [
           {
            "bin_end": 12.9,
            "bin_start": 11.6,
            "count": 1
           },
           {
            "bin_end": 14.2,
            "bin_start": 12.9,
            "count": 2
           },
           {
            "bin_end": 15.5,
            "bin_start": 14.2,
            "count": 7
           },
           {
            "bin_end": 16.8,
            "bin_start": 15.5,
            "count": 7
           },
           {
            "bin_end": 18.1,
            "bin_start": 16.8,
            "count": 7
           },
           {
            "bin_end": 19.400000000000002,
            "bin_start": 18.1,
            "count": 4
           },
           {
            "bin_end": 20.700000000000003,
            "bin_start": 19.400000000000002,
            "count": 2
           },
           {
            "bin_end": 22,
            "bin_start": 20.700000000000003,
            "count": 0
           },
           {
            "bin_end": 23.300000000000004,
            "bin_start": 22,
            "count": 0
           },
           {
            "bin_end": 24.6,
            "bin_start": 23.300000000000004,
            "count": 1
           }
          ],
          "max": "24.6",
          "min": "11.6",
          "nan_count": 0,
          "unique_count": 23
         }
        },
        {
         "dtype": "int64",
         "name": "model_year",
         "stats": {
          "histogram": [
           {
            "bin_end": 81.6,
            "bin_start": 81.5,
            "count": 0
           },
           {
            "bin_end": 81.7,
            "bin_start": 81.6,
            "count": 0
           },
           {
            "bin_end": 81.8,
            "bin_start": 81.7,
            "count": 0
           },
           {
            "bin_end": 81.9,
            "bin_start": 81.8,
            "count": 0
           },
           {
            "bin_end": 82,
            "bin_start": 81.9,
            "count": 0
           },
           {
            "bin_end": 82.1,
            "bin_start": 82,
            "count": 31
           },
           {
            "bin_end": 82.2,
            "bin_start": 82.1,
            "count": 0
           },
           {
            "bin_end": 82.3,
            "bin_start": 82.2,
            "count": 0
           },
           {
            "bin_end": 82.4,
            "bin_start": 82.3,
            "count": 0
           },
           {
            "bin_end": 82.5,
            "bin_start": 82.4,
            "count": 0
           }
          ],
          "max": "82",
          "min": "82",
          "nan_count": 0,
          "unique_count": 1
         }
        },
        {
         "dtype": "object",
         "name": "origin",
         "stats": {
          "categories": [
           {
            "count": 20,
            "name": "usa"
           },
           {
            "count": 9,
            "name": "japan"
           },
           {
            "count": 2,
            "name": "europe"
           }
          ],
          "nan_count": 0,
          "unique_count": 3
         }
        },
        {
         "dtype": "object",
         "name": "name",
         "stats": {
          "categories": [
           {
            "count": 1,
            "name": "chevrolet cavalier"
           },
           {
            "count": 1,
            "name": "chevrolet cavalier wagon"
           },
           {
            "count": 29,
            "name": "29 others"
           }
          ],
          "nan_count": 0,
          "unique_count": 31
         }
        },
        {
         "dtype": "int64",
         "name": "_deepnote_index_column"
        }
       ],
       "row_count": 31,
       "rows": [
        {
         "_deepnote_index_column": "367",
         "acceleration": "19.6",
         "cylinders": "4",
         "displacement": "112.0",
         "horsepower": "88.0",
         "model_year": "82",
         "mpg": "28.0",
         "name": "chevrolet cavalier",
         "origin": "usa",
         "weight": "2605"
        },
        {
         "_deepnote_index_column": "368",
         "acceleration": "18.6",
         "cylinders": "4",
         "displacement": "112.0",
         "horsepower": "88.0",
         "model_year": "82",
         "mpg": "27.0",
         "name": "chevrolet cavalier wagon",
         "origin": "usa",
         "weight": "2640"
        },
        {
         "_deepnote_index_column": "369",
         "acceleration": "18.0",
         "cylinders": "4",
         "displacement": "112.0",
         "horsepower": "88.0",
         "model_year": "82",
         "mpg": "34.0",
         "name": "chevrolet cavalier 2-door",
         "origin": "usa",
         "weight": "2395"
        },
        {
         "_deepnote_index_column": "370",
         "acceleration": "16.2",
         "cylinders": "4",
         "displacement": "112.0",
         "horsepower": "85.0",
         "model_year": "82",
         "mpg": "31.0",
         "name": "pontiac j2000 se hatchback",
         "origin": "usa",
         "weight": "2575"
        },
        {
         "_deepnote_index_column": "371",
         "acceleration": "16.0",
         "cylinders": "4",
         "displacement": "135.0",
         "horsepower": "84.0",
         "model_year": "82",
         "mpg": "29.0",
         "name": "dodge aries se",
         "origin": "usa",
         "weight": "2525"
        },
        {
         "_deepnote_index_column": "372",
         "acceleration": "18.0",
         "cylinders": "4",
         "displacement": "151.0",
         "horsepower": "90.0",
         "model_year": "82",
         "mpg": "27.0",
         "name": "pontiac phoenix",
         "origin": "usa",
         "weight": "2735"
        },
        {
         "_deepnote_index_column": "373",
         "acceleration": "16.4",
         "cylinders": "4",
         "displacement": "140.0",
         "horsepower": "92.0",
         "model_year": "82",
         "mpg": "24.0",
         "name": "ford fairmont futura",
         "origin": "usa",
         "weight": "2865"
        },
        {
         "_deepnote_index_column": "374",
         "acceleration": "20.5",
         "cylinders": "4",
         "displacement": "151.0",
         "horsepower": "nan",
         "model_year": "82",
         "mpg": "23.0",
         "name": "amc concord dl",
         "origin": "usa",
         "weight": "3035"
        },
        {
         "_deepnote_index_column": "375",
         "acceleration": "15.3",
         "cylinders": "4",
         "displacement": "105.0",
         "horsepower": "74.0",
         "model_year": "82",
         "mpg": "36.0",
         "name": "volkswagen rabbit l",
         "origin": "europe",
         "weight": "1980"
        },
        {
         "_deepnote_index_column": "376",
         "acceleration": "18.2",
         "cylinders": "4",
         "displacement": "91.0",
         "horsepower": "68.0",
         "model_year": "82",
         "mpg": "37.0",
         "name": "mazda glc custom l",
         "origin": "japan",
         "weight": "2025"
        }
       ]
      },
      "text/html": [
       "<div>\n",
       "<style scoped>\n",
       "    .dataframe tbody tr th:only-of-type {\n",
       "        vertical-align: middle;\n",
       "    }\n",
       "\n",
       "    .dataframe tbody tr th {\n",
       "        vertical-align: top;\n",
       "    }\n",
       "\n",
       "    .dataframe thead th {\n",
       "        text-align: right;\n",
       "    }\n",
       "</style>\n",
       "<table border=\"1\" class=\"dataframe\">\n",
       "  <thead>\n",
       "    <tr style=\"text-align: right;\">\n",
       "      <th></th>\n",
       "      <th>mpg</th>\n",
       "      <th>cylinders</th>\n",
       "      <th>displacement</th>\n",
       "      <th>horsepower</th>\n",
       "      <th>weight</th>\n",
       "      <th>acceleration</th>\n",
       "      <th>model_year</th>\n",
       "      <th>origin</th>\n",
       "      <th>name</th>\n",
       "    </tr>\n",
       "  </thead>\n",
       "  <tbody>\n",
       "    <tr>\n",
       "      <th>367</th>\n",
       "      <td>28.0</td>\n",
       "      <td>4</td>\n",
       "      <td>112.0</td>\n",
       "      <td>88.0</td>\n",
       "      <td>2605</td>\n",
       "      <td>19.6</td>\n",
       "      <td>82</td>\n",
       "      <td>usa</td>\n",
       "      <td>chevrolet cavalier</td>\n",
       "    </tr>\n",
       "    <tr>\n",
       "      <th>368</th>\n",
       "      <td>27.0</td>\n",
       "      <td>4</td>\n",
       "      <td>112.0</td>\n",
       "      <td>88.0</td>\n",
       "      <td>2640</td>\n",
       "      <td>18.6</td>\n",
       "      <td>82</td>\n",
       "      <td>usa</td>\n",
       "      <td>chevrolet cavalier wagon</td>\n",
       "    </tr>\n",
       "    <tr>\n",
       "      <th>369</th>\n",
       "      <td>34.0</td>\n",
       "      <td>4</td>\n",
       "      <td>112.0</td>\n",
       "      <td>88.0</td>\n",
       "      <td>2395</td>\n",
       "      <td>18.0</td>\n",
       "      <td>82</td>\n",
       "      <td>usa</td>\n",
       "      <td>chevrolet cavalier 2-door</td>\n",
       "    </tr>\n",
       "    <tr>\n",
       "      <th>370</th>\n",
       "      <td>31.0</td>\n",
       "      <td>4</td>\n",
       "      <td>112.0</td>\n",
       "      <td>85.0</td>\n",
       "      <td>2575</td>\n",
       "      <td>16.2</td>\n",
       "      <td>82</td>\n",
       "      <td>usa</td>\n",
       "      <td>pontiac j2000 se hatchback</td>\n",
       "    </tr>\n",
       "    <tr>\n",
       "      <th>371</th>\n",
       "      <td>29.0</td>\n",
       "      <td>4</td>\n",
       "      <td>135.0</td>\n",
       "      <td>84.0</td>\n",
       "      <td>2525</td>\n",
       "      <td>16.0</td>\n",
       "      <td>82</td>\n",
       "      <td>usa</td>\n",
       "      <td>dodge aries se</td>\n",
       "    </tr>\n",
       "    <tr>\n",
       "      <th>372</th>\n",
       "      <td>27.0</td>\n",
       "      <td>4</td>\n",
       "      <td>151.0</td>\n",
       "      <td>90.0</td>\n",
       "      <td>2735</td>\n",
       "      <td>18.0</td>\n",
       "      <td>82</td>\n",
       "      <td>usa</td>\n",
       "      <td>pontiac phoenix</td>\n",
       "    </tr>\n",
       "    <tr>\n",
       "      <th>373</th>\n",
       "      <td>24.0</td>\n",
       "      <td>4</td>\n",
       "      <td>140.0</td>\n",
       "      <td>92.0</td>\n",
       "      <td>2865</td>\n",
       "      <td>16.4</td>\n",
       "      <td>82</td>\n",
       "      <td>usa</td>\n",
       "      <td>ford fairmont futura</td>\n",
       "    </tr>\n",
       "    <tr>\n",
       "      <th>374</th>\n",
       "      <td>23.0</td>\n",
       "      <td>4</td>\n",
       "      <td>151.0</td>\n",
       "      <td>NaN</td>\n",
       "      <td>3035</td>\n",
       "      <td>20.5</td>\n",
       "      <td>82</td>\n",
       "      <td>usa</td>\n",
       "      <td>amc concord dl</td>\n",
       "    </tr>\n",
       "    <tr>\n",
       "      <th>375</th>\n",
       "      <td>36.0</td>\n",
       "      <td>4</td>\n",
       "      <td>105.0</td>\n",
       "      <td>74.0</td>\n",
       "      <td>1980</td>\n",
       "      <td>15.3</td>\n",
       "      <td>82</td>\n",
       "      <td>europe</td>\n",
       "      <td>volkswagen rabbit l</td>\n",
       "    </tr>\n",
       "    <tr>\n",
       "      <th>376</th>\n",
       "      <td>37.0</td>\n",
       "      <td>4</td>\n",
       "      <td>91.0</td>\n",
       "      <td>68.0</td>\n",
       "      <td>2025</td>\n",
       "      <td>18.2</td>\n",
       "      <td>82</td>\n",
       "      <td>japan</td>\n",
       "      <td>mazda glc custom l</td>\n",
       "    </tr>\n",
       "    <tr>\n",
       "      <th>377</th>\n",
       "      <td>31.0</td>\n",
       "      <td>4</td>\n",
       "      <td>91.0</td>\n",
       "      <td>68.0</td>\n",
       "      <td>1970</td>\n",
       "      <td>17.6</td>\n",
       "      <td>82</td>\n",
       "      <td>japan</td>\n",
       "      <td>mazda glc custom</td>\n",
       "    </tr>\n",
       "    <tr>\n",
       "      <th>378</th>\n",
       "      <td>38.0</td>\n",
       "      <td>4</td>\n",
       "      <td>105.0</td>\n",
       "      <td>63.0</td>\n",
       "      <td>2125</td>\n",
       "      <td>14.7</td>\n",
       "      <td>82</td>\n",
       "      <td>usa</td>\n",
       "      <td>plymouth horizon miser</td>\n",
       "    </tr>\n",
       "    <tr>\n",
       "      <th>379</th>\n",
       "      <td>36.0</td>\n",
       "      <td>4</td>\n",
       "      <td>98.0</td>\n",
       "      <td>70.0</td>\n",
       "      <td>2125</td>\n",
       "      <td>17.3</td>\n",
       "      <td>82</td>\n",
       "      <td>usa</td>\n",
       "      <td>mercury lynx l</td>\n",
       "    </tr>\n",
       "    <tr>\n",
       "      <th>380</th>\n",
       "      <td>36.0</td>\n",
       "      <td>4</td>\n",
       "      <td>120.0</td>\n",
       "      <td>88.0</td>\n",
       "      <td>2160</td>\n",
       "      <td>14.5</td>\n",
       "      <td>82</td>\n",
       "      <td>japan</td>\n",
       "      <td>nissan stanza xe</td>\n",
       "    </tr>\n",
       "    <tr>\n",
       "      <th>381</th>\n",
       "      <td>36.0</td>\n",
       "      <td>4</td>\n",
       "      <td>107.0</td>\n",
       "      <td>75.0</td>\n",
       "      <td>2205</td>\n",
       "      <td>14.5</td>\n",
       "      <td>82</td>\n",
       "      <td>japan</td>\n",
       "      <td>honda accord</td>\n",
       "    </tr>\n",
       "    <tr>\n",
       "      <th>382</th>\n",
       "      <td>34.0</td>\n",
       "      <td>4</td>\n",
       "      <td>108.0</td>\n",
       "      <td>70.0</td>\n",
       "      <td>2245</td>\n",
       "      <td>16.9</td>\n",
       "      <td>82</td>\n",
       "      <td>japan</td>\n",
       "      <td>toyota corolla</td>\n",
       "    </tr>\n",
       "    <tr>\n",
       "      <th>383</th>\n",
       "      <td>38.0</td>\n",
       "      <td>4</td>\n",
       "      <td>91.0</td>\n",
       "      <td>67.0</td>\n",
       "      <td>1965</td>\n",
       "      <td>15.0</td>\n",
       "      <td>82</td>\n",
       "      <td>japan</td>\n",
       "      <td>honda civic</td>\n",
       "    </tr>\n",
       "    <tr>\n",
       "      <th>384</th>\n",
       "      <td>32.0</td>\n",
       "      <td>4</td>\n",
       "      <td>91.0</td>\n",
       "      <td>67.0</td>\n",
       "      <td>1965</td>\n",
       "      <td>15.7</td>\n",
       "      <td>82</td>\n",
       "      <td>japan</td>\n",
       "      <td>honda civic (auto)</td>\n",
       "    </tr>\n",
       "    <tr>\n",
       "      <th>385</th>\n",
       "      <td>38.0</td>\n",
       "      <td>4</td>\n",
       "      <td>91.0</td>\n",
       "      <td>67.0</td>\n",
       "      <td>1995</td>\n",
       "      <td>16.2</td>\n",
       "      <td>82</td>\n",
       "      <td>japan</td>\n",
       "      <td>datsun 310 gx</td>\n",
       "    </tr>\n",
       "    <tr>\n",
       "      <th>386</th>\n",
       "      <td>25.0</td>\n",
       "      <td>6</td>\n",
       "      <td>181.0</td>\n",
       "      <td>110.0</td>\n",
       "      <td>2945</td>\n",
       "      <td>16.4</td>\n",
       "      <td>82</td>\n",
       "      <td>usa</td>\n",
       "      <td>buick century limited</td>\n",
       "    </tr>\n",
       "    <tr>\n",
       "      <th>387</th>\n",
       "      <td>38.0</td>\n",
       "      <td>6</td>\n",
       "      <td>262.0</td>\n",
       "      <td>85.0</td>\n",
       "      <td>3015</td>\n",
       "      <td>17.0</td>\n",
       "      <td>82</td>\n",
       "      <td>usa</td>\n",
       "      <td>oldsmobile cutlass ciera (diesel)</td>\n",
       "    </tr>\n",
       "    <tr>\n",
       "      <th>388</th>\n",
       "      <td>26.0</td>\n",
       "      <td>4</td>\n",
       "      <td>156.0</td>\n",
       "      <td>92.0</td>\n",
       "      <td>2585</td>\n",
       "      <td>14.5</td>\n",
       "      <td>82</td>\n",
       "      <td>usa</td>\n",
       "      <td>chrysler lebaron medallion</td>\n",
       "    </tr>\n",
       "    <tr>\n",
       "      <th>389</th>\n",
       "      <td>22.0</td>\n",
       "      <td>6</td>\n",
       "      <td>232.0</td>\n",
       "      <td>112.0</td>\n",
       "      <td>2835</td>\n",
       "      <td>14.7</td>\n",
       "      <td>82</td>\n",
       "      <td>usa</td>\n",
       "      <td>ford granada l</td>\n",
       "    </tr>\n",
       "    <tr>\n",
       "      <th>390</th>\n",
       "      <td>32.0</td>\n",
       "      <td>4</td>\n",
       "      <td>144.0</td>\n",
       "      <td>96.0</td>\n",
       "      <td>2665</td>\n",
       "      <td>13.9</td>\n",
       "      <td>82</td>\n",
       "      <td>japan</td>\n",
       "      <td>toyota celica gt</td>\n",
       "    </tr>\n",
       "    <tr>\n",
       "      <th>391</th>\n",
       "      <td>36.0</td>\n",
       "      <td>4</td>\n",
       "      <td>135.0</td>\n",
       "      <td>84.0</td>\n",
       "      <td>2370</td>\n",
       "      <td>13.0</td>\n",
       "      <td>82</td>\n",
       "      <td>usa</td>\n",
       "      <td>dodge charger 2.2</td>\n",
       "    </tr>\n",
       "    <tr>\n",
       "      <th>392</th>\n",
       "      <td>27.0</td>\n",
       "      <td>4</td>\n",
       "      <td>151.0</td>\n",
       "      <td>90.0</td>\n",
       "      <td>2950</td>\n",
       "      <td>17.3</td>\n",
       "      <td>82</td>\n",
       "      <td>usa</td>\n",
       "      <td>chevrolet camaro</td>\n",
       "    </tr>\n",
       "    <tr>\n",
       "      <th>393</th>\n",
       "      <td>27.0</td>\n",
       "      <td>4</td>\n",
       "      <td>140.0</td>\n",
       "      <td>86.0</td>\n",
       "      <td>2790</td>\n",
       "      <td>15.6</td>\n",
       "      <td>82</td>\n",
       "      <td>usa</td>\n",
       "      <td>ford mustang gl</td>\n",
       "    </tr>\n",
       "    <tr>\n",
       "      <th>394</th>\n",
       "      <td>44.0</td>\n",
       "      <td>4</td>\n",
       "      <td>97.0</td>\n",
       "      <td>52.0</td>\n",
       "      <td>2130</td>\n",
       "      <td>24.6</td>\n",
       "      <td>82</td>\n",
       "      <td>europe</td>\n",
       "      <td>vw pickup</td>\n",
       "    </tr>\n",
       "    <tr>\n",
       "      <th>395</th>\n",
       "      <td>32.0</td>\n",
       "      <td>4</td>\n",
       "      <td>135.0</td>\n",
       "      <td>84.0</td>\n",
       "      <td>2295</td>\n",
       "      <td>11.6</td>\n",
       "      <td>82</td>\n",
       "      <td>usa</td>\n",
       "      <td>dodge rampage</td>\n",
       "    </tr>\n",
       "    <tr>\n",
       "      <th>396</th>\n",
       "      <td>28.0</td>\n",
       "      <td>4</td>\n",
       "      <td>120.0</td>\n",
       "      <td>79.0</td>\n",
       "      <td>2625</td>\n",
       "      <td>18.6</td>\n",
       "      <td>82</td>\n",
       "      <td>usa</td>\n",
       "      <td>ford ranger</td>\n",
       "    </tr>\n",
       "    <tr>\n",
       "      <th>397</th>\n",
       "      <td>31.0</td>\n",
       "      <td>4</td>\n",
       "      <td>119.0</td>\n",
       "      <td>82.0</td>\n",
       "      <td>2720</td>\n",
       "      <td>19.4</td>\n",
       "      <td>82</td>\n",
       "      <td>usa</td>\n",
       "      <td>chevy s-10</td>\n",
       "    </tr>\n",
       "  </tbody>\n",
       "</table>\n",
       "</div>"
      ],
      "text/plain": [
       "      mpg  cylinders  displacement  horsepower  weight  acceleration  \\\n",
       "367  28.0          4         112.0        88.0    2605          19.6   \n",
       "368  27.0          4         112.0        88.0    2640          18.6   \n",
       "369  34.0          4         112.0        88.0    2395          18.0   \n",
       "370  31.0          4         112.0        85.0    2575          16.2   \n",
       "371  29.0          4         135.0        84.0    2525          16.0   \n",
       "372  27.0          4         151.0        90.0    2735          18.0   \n",
       "373  24.0          4         140.0        92.0    2865          16.4   \n",
       "374  23.0          4         151.0         NaN    3035          20.5   \n",
       "375  36.0          4         105.0        74.0    1980          15.3   \n",
       "376  37.0          4          91.0        68.0    2025          18.2   \n",
       "377  31.0          4          91.0        68.0    1970          17.6   \n",
       "378  38.0          4         105.0        63.0    2125          14.7   \n",
       "379  36.0          4          98.0        70.0    2125          17.3   \n",
       "380  36.0          4         120.0        88.0    2160          14.5   \n",
       "381  36.0          4         107.0        75.0    2205          14.5   \n",
       "382  34.0          4         108.0        70.0    2245          16.9   \n",
       "383  38.0          4          91.0        67.0    1965          15.0   \n",
       "384  32.0          4          91.0        67.0    1965          15.7   \n",
       "385  38.0          4          91.0        67.0    1995          16.2   \n",
       "386  25.0          6         181.0       110.0    2945          16.4   \n",
       "387  38.0          6         262.0        85.0    3015          17.0   \n",
       "388  26.0          4         156.0        92.0    2585          14.5   \n",
       "389  22.0          6         232.0       112.0    2835          14.7   \n",
       "390  32.0          4         144.0        96.0    2665          13.9   \n",
       "391  36.0          4         135.0        84.0    2370          13.0   \n",
       "392  27.0          4         151.0        90.0    2950          17.3   \n",
       "393  27.0          4         140.0        86.0    2790          15.6   \n",
       "394  44.0          4          97.0        52.0    2130          24.6   \n",
       "395  32.0          4         135.0        84.0    2295          11.6   \n",
       "396  28.0          4         120.0        79.0    2625          18.6   \n",
       "397  31.0          4         119.0        82.0    2720          19.4   \n",
       "\n",
       "     model_year  origin                               name  \n",
       "367          82     usa                 chevrolet cavalier  \n",
       "368          82     usa           chevrolet cavalier wagon  \n",
       "369          82     usa          chevrolet cavalier 2-door  \n",
       "370          82     usa         pontiac j2000 se hatchback  \n",
       "371          82     usa                     dodge aries se  \n",
       "372          82     usa                    pontiac phoenix  \n",
       "373          82     usa               ford fairmont futura  \n",
       "374          82     usa                     amc concord dl  \n",
       "375          82  europe                volkswagen rabbit l  \n",
       "376          82   japan                 mazda glc custom l  \n",
       "377          82   japan                   mazda glc custom  \n",
       "378          82     usa             plymouth horizon miser  \n",
       "379          82     usa                     mercury lynx l  \n",
       "380          82   japan                   nissan stanza xe  \n",
       "381          82   japan                       honda accord  \n",
       "382          82   japan                     toyota corolla  \n",
       "383          82   japan                        honda civic  \n",
       "384          82   japan                 honda civic (auto)  \n",
       "385          82   japan                      datsun 310 gx  \n",
       "386          82     usa              buick century limited  \n",
       "387          82     usa  oldsmobile cutlass ciera (diesel)  \n",
       "388          82     usa         chrysler lebaron medallion  \n",
       "389          82     usa                     ford granada l  \n",
       "390          82   japan                   toyota celica gt  \n",
       "391          82     usa                  dodge charger 2.2  \n",
       "392          82     usa                   chevrolet camaro  \n",
       "393          82     usa                    ford mustang gl  \n",
       "394          82  europe                          vw pickup  \n",
       "395          82     usa                      dodge rampage  \n",
       "396          82     usa                        ford ranger  \n",
       "397          82     usa                         chevy s-10  "
      ]
     },
     "execution_count": 31,
     "metadata": {},
     "output_type": "execute_result"
    }
   ],
   "source": [
    "sub_df"
   ]
  },
  {
   "cell_type": "markdown",
   "metadata": {},
   "source": [
    "Focusing just on this single sub-DataFrame, how can we determine how many values of \"mpg\" are greater than or equal to 25?  We won't be using Boolean indexing, but we will be using a Boolean Series."
   ]
  },
  {
   "cell_type": "code",
   "execution_count": 32,
   "metadata": {
    "cell_id": "5d095cbbf61f4f0980309e1f4eff694e",
    "deepnote_cell_type": "code",
    "deepnote_to_be_reexecuted": false,
    "execution_millis": 4,
    "execution_start": 1665768852715,
    "source_hash": "c92612c4",
    "tags": [
     "output_scroll"
    ]
   },
   "outputs": [
    {
     "data": {
      "text/plain": [
       "367     True\n",
       "368     True\n",
       "369     True\n",
       "370     True\n",
       "371     True\n",
       "372     True\n",
       "373    False\n",
       "374    False\n",
       "375     True\n",
       "376     True\n",
       "377     True\n",
       "378     True\n",
       "379     True\n",
       "380     True\n",
       "381     True\n",
       "382     True\n",
       "383     True\n",
       "384     True\n",
       "385     True\n",
       "386     True\n",
       "387     True\n",
       "388     True\n",
       "389    False\n",
       "390     True\n",
       "391     True\n",
       "392     True\n",
       "393     True\n",
       "394     True\n",
       "395     True\n",
       "396     True\n",
       "397     True\n",
       "Name: mpg, dtype: bool"
      ]
     },
     "execution_count": 32,
     "metadata": {},
     "output_type": "execute_result"
    }
   ],
   "source": [
    "sub_df[\"mpg\"] >= 25 "
   ]
  },
  {
   "cell_type": "markdown",
   "metadata": {},
   "source": [
    "Remember that Python treats `True` like `1` and treats `False` like `0`.  So we can count the number of `True` values just by adding up the values."
   ]
  },
  {
   "cell_type": "code",
   "execution_count": 33,
   "metadata": {
    "cell_id": "b67c4fcb05504987843841eb69aec08b",
    "deepnote_cell_type": "code",
    "deepnote_to_be_reexecuted": false,
    "execution_millis": 318,
    "execution_start": 1665768919174,
    "source_hash": "5edc2c03",
    "tags": []
   },
   "outputs": [
    {
     "data": {
      "text/plain": [
       "28"
      ]
     },
     "execution_count": 33,
     "metadata": {},
     "output_type": "execute_result"
    }
   ],
   "source": [
    "(sub_df[\"mpg\"] >= 25).sum()"
   ]
  },
  {
   "cell_type": "markdown",
   "metadata": {},
   "source": [
    "There was nothing special about this `sub_df` corresponding to model_year 82.  Within the for loop, we can use the exact same code.  For example, the results below say that in the sub-DataFrame corresponding to 75, there were only 5 cars with mpg of at least 25."
   ]
  },
  {
   "cell_type": "code",
   "execution_count": 35,
   "metadata": {
    "cell_id": "08c985e8052747888d7ae08071287eb9",
    "deepnote_cell_type": "code",
    "deepnote_to_be_reexecuted": false,
    "execution_millis": 4,
    "execution_start": 1665768969870,
    "source_hash": "b01cc754",
    "tags": [
     "output_scroll"
    ]
   },
   "outputs": [
    {
     "name": "stdout",
     "output_type": "stream",
     "text": [
      "70\n",
      "5\n",
      "\n",
      "71\n",
      "11\n",
      "\n",
      "72\n",
      "5\n",
      "\n",
      "73\n",
      "3\n",
      "\n",
      "74\n",
      "13\n",
      "\n",
      "75\n",
      "5\n",
      "\n",
      "76\n",
      "12\n",
      "\n",
      "77\n",
      "12\n",
      "\n",
      "78\n",
      "12\n",
      "\n",
      "79\n",
      "14\n",
      "\n",
      "80\n",
      "25\n",
      "\n",
      "81\n",
      "24\n",
      "\n",
      "82\n",
      "28\n",
      "\n"
     ]
    }
   ],
   "source": [
    "for year, sub_df in df.groupby(\"model_year\"):\n",
    "    print(year)\n",
    "    print((sub_df[\"mpg\"] >= 25).sum())\n",
    "    print()"
   ]
  },
  {
   "cell_type": "markdown",
   "metadata": {},
   "source": [
    "Let's try to make the output more readable using an f-string.  There is a very subtle mistake here.  Because my f-string uses double quotation marks `\"` and my column name also uses double quotation marks, Python doesn't know which quotation marks go together."
   ]
  },
  {
   "cell_type": "code",
   "execution_count": 36,
   "metadata": {
    "cell_id": "88cef5ec4756437790cc8e947bad8e55",
    "deepnote_cell_type": "code",
    "deepnote_to_be_reexecuted": false,
    "execution_millis": 5,
    "execution_start": 1665769093121,
    "source_hash": "bdefc9a5",
    "tags": [
     "output_scroll"
    ]
   },
   "outputs": [
    {
     "ename": "SyntaxError",
     "evalue": "f-string: unmatched '[' (4083946751.py, line 2)",
     "output_type": "error",
     "traceback": [
      "\u001b[0;36m  Cell \u001b[0;32mIn [36], line 2\u001b[0;36m\u001b[0m\n\u001b[0;31m    print(f\"In the year 19{year} there were {(sub_df[\"mpg\"] >= 25).sum()} cars in the dataset with mpg at least 25.\")\u001b[0m\n\u001b[0m                                                      ^\u001b[0m\n\u001b[0;31mSyntaxError\u001b[0m\u001b[0;31m:\u001b[0m f-string: unmatched '['\n"
     ]
    }
   ],
   "source": [
    "for year, sub_df in df.groupby(\"model_year\"):\n",
    "    print(f\"In the year 19{year} there were {(sub_df[\"mpg\"] >= 25).sum()} cars in the dataset with mpg at least 25.\")"
   ]
  },
  {
   "cell_type": "markdown",
   "metadata": {},
   "source": [
    "Luckily this error is very easy to fix once we identify it.  We just switch one of the pairs of quotation marks to single apostrophes."
   ]
  },
  {
   "cell_type": "code",
   "execution_count": 38,
   "metadata": {
    "cell_id": "42e2f6e36323477d8fa81d8ce96572b0",
    "deepnote_cell_type": "code",
    "deepnote_to_be_reexecuted": false,
    "execution_millis": 10,
    "execution_start": 1665769166977,
    "source_hash": "9cc6fb19",
    "tags": [
     "output_scroll"
    ]
   },
   "outputs": [
    {
     "name": "stdout",
     "output_type": "stream",
     "text": [
      "In the year 1970 there were 5 cars in the dataset with mpg at least 25.\n",
      "In the year 1971 there were 11 cars in the dataset with mpg at least 25.\n",
      "In the year 1972 there were 5 cars in the dataset with mpg at least 25.\n",
      "In the year 1973 there were 3 cars in the dataset with mpg at least 25.\n",
      "In the year 1974 there were 13 cars in the dataset with mpg at least 25.\n",
      "In the year 1975 there were 5 cars in the dataset with mpg at least 25.\n",
      "In the year 1976 there were 12 cars in the dataset with mpg at least 25.\n",
      "In the year 1977 there were 12 cars in the dataset with mpg at least 25.\n",
      "In the year 1978 there were 12 cars in the dataset with mpg at least 25.\n",
      "In the year 1979 there were 14 cars in the dataset with mpg at least 25.\n",
      "In the year 1980 there were 25 cars in the dataset with mpg at least 25.\n",
      "In the year 1981 there were 24 cars in the dataset with mpg at least 25.\n",
      "In the year 1982 there were 28 cars in the dataset with mpg at least 25.\n"
     ]
    }
   ],
   "source": [
    "for year, sub_df in df.groupby(\"model_year\"):\n",
    "    print(f\"In the year 19{year} there were {(sub_df['mpg'] >= 25).sum()} cars in the dataset with mpg at least 25.\")"
   ]
  },
  {
   "cell_type": "markdown",
   "metadata": {},
   "source": [
    "I think the code is more readable if we move the `(sub_df['mpg'] >= 25).sum()` portion onto its own line."
   ]
  },
  {
   "cell_type": "code",
   "execution_count": 39,
   "metadata": {
    "cell_id": "789afb7c55764995b81c4e0da33b5ac8",
    "deepnote_cell_type": "code",
    "deepnote_to_be_reexecuted": false,
    "execution_millis": 5,
    "execution_start": 1665769217193,
    "source_hash": "dae569b3",
    "tags": [
     "output_scroll"
    ]
   },
   "outputs": [
    {
     "name": "stdout",
     "output_type": "stream",
     "text": [
      "In the year 1970 there were 5 cars in the dataset with mpg at least 25.\n",
      "In the year 1971 there were 11 cars in the dataset with mpg at least 25.\n",
      "In the year 1972 there were 5 cars in the dataset with mpg at least 25.\n",
      "In the year 1973 there were 3 cars in the dataset with mpg at least 25.\n",
      "In the year 1974 there were 13 cars in the dataset with mpg at least 25.\n",
      "In the year 1975 there were 5 cars in the dataset with mpg at least 25.\n",
      "In the year 1976 there were 12 cars in the dataset with mpg at least 25.\n",
      "In the year 1977 there were 12 cars in the dataset with mpg at least 25.\n",
      "In the year 1978 there were 12 cars in the dataset with mpg at least 25.\n",
      "In the year 1979 there were 14 cars in the dataset with mpg at least 25.\n",
      "In the year 1980 there were 25 cars in the dataset with mpg at least 25.\n",
      "In the year 1981 there were 24 cars in the dataset with mpg at least 25.\n",
      "In the year 1982 there were 28 cars in the dataset with mpg at least 25.\n"
     ]
    }
   ],
   "source": [
    "# most important: understand what are year and sub_df as we move through this for loop\n",
    "for year, sub_df in df.groupby(\"model_year\"):\n",
    "    num_cars = (sub_df['mpg'] >= 25).sum()\n",
    "    print(f\"In the year 19{year} there were {num_cars} cars in the dataset with mpg at least 25.\")"
   ]
  },
  {
   "cell_type": "markdown",
   "metadata": {},
   "source": [
    "Notice how `num_cars` is `28`, the same value we saw above."
   ]
  },
  {
   "cell_type": "code",
   "execution_count": 40,
   "metadata": {
    "cell_id": "61d32e27306c49e7a395a09ae7504661",
    "deepnote_cell_type": "code",
    "deepnote_to_be_reexecuted": false,
    "execution_millis": 4,
    "execution_start": 1665769449060,
    "source_hash": "294cc8ee",
    "tags": []
   },
   "outputs": [
    {
     "data": {
      "text/plain": [
       "28"
      ]
     },
     "execution_count": 40,
     "metadata": {},
     "output_type": "execute_result"
    }
   ],
   "source": [
    "num_cars"
   ]
  },
  {
   "cell_type": "markdown",
   "metadata": {},
   "source": [
    "Aside: there was a question about how `break` works.  Here is a simpler example (but it's very easy to be off slightly in your expectation).  Imagine `i` is `18`.  Then the condition in the if statement fails, so `i` increases to `21`, then the condition in the if statement is True, os we break out of the for loop.  So when we leave the for loop, `i` is `21`."
   ]
  },
  {
   "cell_type": "code",
   "execution_count": 41,
   "metadata": {
    "cell_id": "3f0047c156894acd95f6974d1db25b73",
    "deepnote_cell_type": "code",
    "deepnote_to_be_reexecuted": false,
    "execution_millis": 0,
    "execution_start": 1665769527400,
    "source_hash": "bf465932",
    "tags": []
   },
   "outputs": [],
   "source": [
    "for i in range(0,100,3):\n",
    "    if i > 20:\n",
    "        break"
   ]
  },
  {
   "cell_type": "code",
   "execution_count": 42,
   "metadata": {
    "cell_id": "b2023c21bbde4d1cbb45c9638e2ad4d1",
    "deepnote_cell_type": "code",
    "deepnote_to_be_reexecuted": false,
    "execution_millis": 9,
    "execution_start": 1665769554780,
    "source_hash": "b8fd4f94",
    "tags": []
   },
   "outputs": [
    {
     "data": {
      "text/plain": [
       "21"
      ]
     },
     "execution_count": 42,
     "metadata": {},
     "output_type": "execute_result"
    }
   ],
   "source": [
    "i"
   ]
  },
  {
   "cell_type": "markdown",
   "metadata": {
    "cell_id": "12b1a3ed697f4a459f810f15b0ef2932",
    "deepnote_cell_type": "markdown",
    "tags": []
   },
   "source": [
    "You'll be impressed at how easily we can switch from the above question, about absolute numbers, to the following question, about proportions.  The key reason behind this is again that `True` counts as `1` and `False` counts as `0`, so if we compute the `mean` of a collection of Trues and Falses, then that mean will represent exactly the proprtion of `True` values.\n",
    "\n",
    "* For each year, what proportion of cars had mpg at least 25?"
   ]
  },
  {
   "cell_type": "code",
   "execution_count": 43,
   "metadata": {
    "cell_id": "32840583908840c0915ce982c662950e",
    "deepnote_cell_type": "code",
    "deepnote_to_be_reexecuted": false,
    "execution_millis": 2,
    "execution_start": 1665769681307,
    "source_hash": "4ece4d95",
    "tags": [
     "output_scroll"
    ]
   },
   "outputs": [
    {
     "name": "stdout",
     "output_type": "stream",
     "text": [
      "In the year 1970, 0.1724137931034483 proportion of cars in the dataset had mpg at least 25.\n",
      "In the year 1971, 0.39285714285714285 proportion of cars in the dataset had mpg at least 25.\n",
      "In the year 1972, 0.17857142857142858 proportion of cars in the dataset had mpg at least 25.\n",
      "In the year 1973, 0.075 proportion of cars in the dataset had mpg at least 25.\n",
      "In the year 1974, 0.48148148148148145 proportion of cars in the dataset had mpg at least 25.\n",
      "In the year 1975, 0.16666666666666666 proportion of cars in the dataset had mpg at least 25.\n",
      "In the year 1976, 0.35294117647058826 proportion of cars in the dataset had mpg at least 25.\n",
      "In the year 1977, 0.42857142857142855 proportion of cars in the dataset had mpg at least 25.\n",
      "In the year 1978, 0.3333333333333333 proportion of cars in the dataset had mpg at least 25.\n",
      "In the year 1979, 0.4827586206896552 proportion of cars in the dataset had mpg at least 25.\n",
      "In the year 1980, 0.8620689655172413 proportion of cars in the dataset had mpg at least 25.\n",
      "In the year 1981, 0.8275862068965517 proportion of cars in the dataset had mpg at least 25.\n",
      "In the year 1982, 0.9032258064516129 proportion of cars in the dataset had mpg at least 25.\n"
     ]
    }
   ],
   "source": [
    "# Because True is like 1 and False is like 0, can use mean to get the proportion\n",
    "for year, sub_df in df.groupby(\"model_year\"):\n",
    "    prop_cars = (sub_df['mpg'] >= 25).mean()\n",
    "    print(f\"In the year 19{year}, {prop_cars} proportion of cars in the dataset had mpg at least 25.\")"
   ]
  },
  {
   "cell_type": "markdown",
   "metadata": {},
   "source": [
    "Stare at the `prop_cars` code above until it makes sense.  For example, try it with a smaller Boolean Series, maybe a Boolean Series with three `True` values and one `False` value.  The `mean` of such a Series would be `0.75`.\n",
    "\n",
    "The next two cells are just for fun, and are meant to show you some of the possibilities with string formatting.  Here the string formatting automatically converts from a proportion (between 0 and 1) to a percentage (between 0 and 100)."
   ]
  },
  {
   "cell_type": "code",
   "execution_count": 45,
   "metadata": {
    "cell_id": "af0b454ccf8a4bf993604f5a9657c5aa",
    "deepnote_cell_type": "code",
    "deepnote_to_be_reexecuted": false,
    "execution_millis": 8,
    "execution_start": 1665769729341,
    "source_hash": "15299bc0",
    "tags": [
     "output_scroll"
    ]
   },
   "outputs": [
    {
     "name": "stdout",
     "output_type": "stream",
     "text": [
      "In the year 1970, 17.241379% percent of cars in the dataset had mpg at least 25.\n",
      "In the year 1971, 39.285714% percent of cars in the dataset had mpg at least 25.\n",
      "In the year 1972, 17.857143% percent of cars in the dataset had mpg at least 25.\n",
      "In the year 1973, 7.500000% percent of cars in the dataset had mpg at least 25.\n",
      "In the year 1974, 48.148148% percent of cars in the dataset had mpg at least 25.\n",
      "In the year 1975, 16.666667% percent of cars in the dataset had mpg at least 25.\n",
      "In the year 1976, 35.294118% percent of cars in the dataset had mpg at least 25.\n",
      "In the year 1977, 42.857143% percent of cars in the dataset had mpg at least 25.\n",
      "In the year 1978, 33.333333% percent of cars in the dataset had mpg at least 25.\n",
      "In the year 1979, 48.275862% percent of cars in the dataset had mpg at least 25.\n",
      "In the year 1980, 86.206897% percent of cars in the dataset had mpg at least 25.\n",
      "In the year 1981, 82.758621% percent of cars in the dataset had mpg at least 25.\n",
      "In the year 1982, 90.322581% percent of cars in the dataset had mpg at least 25.\n"
     ]
    }
   ],
   "source": [
    "# Because True is like 1 and False is like 0, can use mean to get the proportion\n",
    "for year, sub_df in df.groupby(\"model_year\"):\n",
    "    prop_cars = (sub_df['mpg'] >= 25).mean()\n",
    "    print(f\"In the year 19{year}, {prop_cars:%} percent of cars in the dataset had mpg at least 25.\")"
   ]
  },
  {
   "cell_type": "markdown",
   "metadata": {},
   "source": [
    "We can also make things look a little nicer by saying we only want two decimal places in the percentage."
   ]
  },
  {
   "cell_type": "code",
   "execution_count": 46,
   "metadata": {
    "cell_id": "3f2ffac3a9f2431f99bed57a2f959ab3",
    "deepnote_cell_type": "code",
    "deepnote_to_be_reexecuted": false,
    "execution_millis": 445,
    "execution_start": 1665769755661,
    "source_hash": "dbc1c7f2",
    "tags": []
   },
   "outputs": [
    {
     "name": "stdout",
     "output_type": "stream",
     "text": [
      "In the year 1970, 17.24% percent of cars in the dataset had mpg at least 25.\n",
      "In the year 1971, 39.29% percent of cars in the dataset had mpg at least 25.\n",
      "In the year 1972, 17.86% percent of cars in the dataset had mpg at least 25.\n",
      "In the year 1973, 7.50% percent of cars in the dataset had mpg at least 25.\n",
      "In the year 1974, 48.15% percent of cars in the dataset had mpg at least 25.\n",
      "In the year 1975, 16.67% percent of cars in the dataset had mpg at least 25.\n",
      "In the year 1976, 35.29% percent of cars in the dataset had mpg at least 25.\n",
      "In the year 1977, 42.86% percent of cars in the dataset had mpg at least 25.\n",
      "In the year 1978, 33.33% percent of cars in the dataset had mpg at least 25.\n",
      "In the year 1979, 48.28% percent of cars in the dataset had mpg at least 25.\n",
      "In the year 1980, 86.21% percent of cars in the dataset had mpg at least 25.\n",
      "In the year 1981, 82.76% percent of cars in the dataset had mpg at least 25.\n",
      "In the year 1982, 90.32% percent of cars in the dataset had mpg at least 25.\n"
     ]
    }
   ],
   "source": [
    "# Because True is like 1 and False is like 0, can use mean to get the proportion\n",
    "for year, sub_df in df.groupby(\"model_year\"):\n",
    "    prop_cars = (sub_df['mpg'] >= 25).mean()\n",
    "    print(f\"In the year 19{year}, {prop_cars:.2%} percent of cars in the dataset had mpg at least 25.\")"
   ]
  },
  {
   "cell_type": "markdown",
   "metadata": {},
   "source": [
    "We didn't get to any of the later portions of this notebook."
   ]
  },
  {
   "cell_type": "markdown",
   "metadata": {
    "cell_id": "03d82987f054471ba806b4e680ce94aa",
    "deepnote_cell_type": "markdown",
    "deepnote_to_be_reexecuted": false,
    "execution_millis": 3,
    "execution_start": 1665764522925,
    "source_hash": "4ba4490b",
    "tags": []
   },
   "source": [
    "## Using the `mean` method of a pandas GroupBy object\n",
    "\n",
    "The above for-loop method is very flexible, but for easier questions, often there are easier approaches.\n",
    "\n",
    "* For each year, what was the average mpg?"
   ]
  },
  {
   "cell_type": "markdown",
   "metadata": {
    "cell_id": "3235935351cc43b0ae8df4ce1d603e1e",
    "deepnote_cell_type": "markdown",
    "tags": []
   },
   "source": [
    "## Visualizing the data\n",
    "\n",
    "* Using Altair, make a scatter plot where the x-axis is the model_year, the y-axis is the mpg, and the color is encoded from the \"origin\" column.\n",
    "* Which of these fields (model_year, mpg, origin) could be most improved by specifying an encoding type?"
   ]
  },
  {
   "cell_type": "markdown",
   "metadata": {
    "cell_id": "30f4835a9b8f45678d7db38025f2b7ca",
    "deepnote_cell_type": "markdown",
    "tags": []
   },
   "source": [
    "* How could we use `mean` and a bar chart to encode the average mpg data by year?  (Remove the color for this one.)"
   ]
  },
  {
   "cell_type": "markdown",
   "metadata": {
    "cell_id": "466098a8d5a54e7db4893a2929ce0325",
    "deepnote_cell_type": "markdown",
    "tags": []
   },
   "source": [
    "* Put these last two Altair charts side by side using `alt.hconcat`."
   ]
  },
  {
   "cell_type": "markdown",
   "metadata": {
    "cell_id": "b4d85daa124549f7ad5cffbf873c2a78",
    "deepnote_cell_type": "markdown",
    "tags": []
   },
   "source": [
    "(There probably won't be time for this example.)\n",
    "\n",
    "* What if we put the data into a facet chart, where we divide by weight?"
   ]
  }
 ],
 "metadata": {
  "deepnote": {},
  "deepnote_execution_queue": [],
  "deepnote_notebook_id": "184bbc23d4fd4bd1a60b11a5cfa2889c",
  "deepnote_persisted_session": {
   "createdAt": "2022-10-14T14:45:45.567Z"
  },
  "kernelspec": {
   "display_name": "Python 3 (ipykernel)",
   "language": "python",
   "name": "python3"
  },
  "language_info": {
   "codemirror_mode": {
    "name": "ipython",
    "version": 3
   },
   "file_extension": ".py",
   "mimetype": "text/x-python",
   "name": "python",
   "nbconvert_exporter": "python",
   "pygments_lexer": "ipython3",
   "version": "3.9.13"
  }
 },
 "nbformat": 4,
 "nbformat_minor": 4
}
