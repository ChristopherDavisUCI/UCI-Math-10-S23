{
 "cells": [
  {
   "cell_type": "markdown",
   "metadata": {
    "cell_id": "f62897ecbc2b481ca234cc537af3b185",
    "deepnote_cell_type": "markdown",
    "tags": []
   },
   "source": [
    "# Worksheet 6\n",
    "\n",
    "This worksheet is due Tuesday of Week 4, before discussion section.  You are encouraged to work in groups of up to 3 total students, but each student should make their own submission on Canvas.  (It's fine for everyone in the group to have the same upload.)"
   ]
  },
  {
   "cell_type": "markdown",
   "metadata": {
    "cell_id": "aa09dd704b724a789a45ff376c3a2d92",
    "deepnote_cell_type": "markdown",
    "tags": []
   },
   "source": [
    "* Import the attached \"Math2B_grades_clean.csv\" file, and name the DataFrame `df`.\n",
    "* Using Boolean indexing, find the sub-DataFrame where the course grade (\"Total\") is \"D\" and where the Midterm 1 score is strictly greater than 72.  Name this sub-DataFrame `df_sub`."
   ]
  },
  {
   "cell_type": "code",
   "execution_count": null,
   "metadata": {
    "cell_id": "448409ef6de447f0b6aba2da2c684428",
    "deepnote_cell_type": "code",
    "tags": []
   },
   "outputs": [],
   "source": []
  },
  {
   "cell_type": "markdown",
   "metadata": {
    "cell_id": "9ee9c5599ad64cd8850a3673611a8cfe",
    "deepnote_cell_type": "markdown",
    "tags": []
   },
   "source": [
    "* Using Altair, make a scatter plot using the data from `df_sub` for which the x-coordinate is \"Midterm 2\", the y-coordinate is \"Final exam\", the color corresponds to the student id number, and the size corresponds to the Quiz 3 score."
   ]
  },
  {
   "cell_type": "code",
   "execution_count": null,
   "metadata": {
    "cell_id": "36ef1f19855a4945bd659cd149d634f9",
    "deepnote_cell_type": "code",
    "tags": []
   },
   "outputs": [],
   "source": []
  },
  {
   "cell_type": "markdown",
   "metadata": {
    "cell_id": "8078c15c458641f5958db479cabc5be0",
    "deepnote_cell_type": "markdown",
    "tags": []
   },
   "source": [
    "* Instead of using the default encoding type for the student id number, specify the encoding type you think makes the most sense for this value.  [Reference](https://altair-viz.github.io/user_guide/encoding.html#encoding-data-types)."
   ]
  },
  {
   "cell_type": "code",
   "execution_count": null,
   "metadata": {
    "cell_id": "2d8a535840854714b425512f2394b5b9",
    "deepnote_cell_type": "code",
    "tags": []
   },
   "outputs": [],
   "source": []
  },
  {
   "cell_type": "markdown",
   "metadata": {
    "cell_id": "dc80a93681544059b633b61425df1eab",
    "deepnote_cell_type": "markdown",
    "tags": []
   },
   "source": [
    "* Based on the chart, what are the two student ids of the students who have the lowest scores on Quiz 3?"
   ]
  },
  {
   "cell_type": "code",
   "execution_count": null,
   "metadata": {
    "cell_id": "e2d3041689db48a883f924315cbc77a3",
    "deepnote_cell_type": "code",
    "tags": []
   },
   "outputs": [],
   "source": []
  },
  {
   "cell_type": "markdown",
   "metadata": {
    "cell_id": "d4fa39b0f95341a4822ab53025bf3dc1",
    "deepnote_cell_type": "markdown",
    "tags": []
   },
   "source": [
    "* Add a tooltip to the chart so that you can tell exactly what the student id and the Quiz 3 score are for each point.  Do your identified students indeed have the lowest Quiz 3 scores?"
   ]
  },
  {
   "cell_type": "code",
   "execution_count": null,
   "metadata": {
    "cell_id": "5c238ed4341e48a1baab5f8957802549",
    "deepnote_cell_type": "code",
    "tags": []
   },
   "outputs": [],
   "source": []
  },
  {
   "cell_type": "markdown",
   "metadata": {
    "cell_id": "6fd0710763f344b9b4bb13b268016ac0",
    "deepnote_cell_type": "markdown",
    "tags": []
   },
   "source": [
    "* Here is a way to find one of those student ids (not both) using pandas.  Can you figure out how the following code works by breaking it up into pieces?  (There might be a question based on this code on the next quiz or on the midterm.) \n",
    "```\n",
    "df_sub.set_index(\"Student_id\")[\"Quiz 3\"].idxmin()\n",
    "```"
   ]
  },
  {
   "cell_type": "code",
   "execution_count": null,
   "metadata": {
    "cell_id": "cf8102559bcf471899c316709e03d642",
    "deepnote_cell_type": "code",
    "tags": []
   },
   "outputs": [],
   "source": []
  },
  {
   "cell_type": "markdown",
   "metadata": {
    "cell_id": "ee3c42c1fc5a43aeb22d5cfaedabbf2d",
    "deepnote_cell_type": "markdown",
    "tags": []
   },
   "source": [
    "* Why does the following code give a different answer?\n",
    "```\n",
    "df_sub[\"Quiz 3\"].idxmin()\n",
    "```"
   ]
  },
  {
   "cell_type": "code",
   "execution_count": null,
   "metadata": {
    "cell_id": "201d1199e9004af596255bfd001a307c",
    "deepnote_cell_type": "code",
    "tags": []
   },
   "outputs": [],
   "source": []
  },
  {
   "cell_type": "markdown",
   "metadata": {
    "cell_id": "f01fa5a7ccd74b85924922341cbfee08",
    "deepnote_cell_type": "markdown",
    "tags": []
   },
   "source": [
    "* What changes if we use `argmin` instead of `idxmin`?  What is the difference between these two methods?"
   ]
  },
  {
   "cell_type": "code",
   "execution_count": null,
   "metadata": {
    "cell_id": "0d2c2afeb4f04f5e8a91258faf6cc699",
    "deepnote_cell_type": "code",
    "tags": []
   },
   "outputs": [],
   "source": []
  },
  {
   "cell_type": "markdown",
   "metadata": {
    "cell_id": "63c14d2f10e94975961b73b28ce49a11",
    "deepnote_cell_type": "markdown",
    "tags": []
   },
   "source": [
    "* We were just talking about two students who had the same score on Quiz 3.  Can you identify these same two students from the following Altair chart?  (Notice how we have moved back from `df_sub` to `df`.  Scroll all the way to the right to see the color scale.)\n",
    "```\n",
    "alt.Chart(df).mark_circle().encode(\n",
    "    x=alt.X(\"Midterm 1\", scale=alt.Scale(zero=False)),\n",
    "    y=\"Midterm 2\",\n",
    "    color=alt.Color(\"Quiz 3\", scale=alt.Scale(scheme=\"turbo\")),\n",
    "    tooltip=[\"Student_id\", \"Midterm 1\"]\n",
    ").facet(\"Total\").resolve_scale(\n",
    "    x='independent'\n",
    ")\n",
    "```"
   ]
  },
  {
   "cell_type": "code",
   "execution_count": null,
   "metadata": {
    "cell_id": "c3383b89885445e4b5dd11a2dc1617bd",
    "deepnote_cell_type": "code",
    "tags": []
   },
   "outputs": [],
   "source": []
  },
  {
   "cell_type": "markdown",
   "metadata": {
    "cell_id": "cfe677b2a3ef4fc29c44cdfd64359bec",
    "deepnote_cell_type": "markdown",
    "tags": []
   },
   "source": [
    "* Try to make the above FacetChart using the following template.  (There will be slight differences; for example, the chart titles will be more bold in this version.)\n",
    "```\n",
    "chart_list = []\n",
    "\n",
    "for grade, df_mini in df.groupby(???):\n",
    "    c = alt.Chart(???).mark_circle().encode(\n",
    "        x = alt.X(\"Midterm 1\", scale=alt.Scale(zero=False)),\n",
    "        y = \"Midterm 2\",\n",
    "        color=alt.Color(\"Quiz 3\", scale=alt.Scale(scheme=\"turbo\")),\n",
    "        tooltip=[\"Student_id\", \"Midterm 1\"]\n",
    "    ).properties(\n",
    "        title=???\n",
    "    )\n",
    "    chart_list.append(???)\n",
    "\n",
    "alt.hconcat(*???)\n",
    "```"
   ]
  },
  {
   "cell_type": "code",
   "execution_count": null,
   "metadata": {
    "cell_id": "697a9f320ef14961bdef3c1074ce7837",
    "deepnote_cell_type": "code",
    "tags": []
   },
   "outputs": [],
   "source": []
  },
  {
   "cell_type": "markdown",
   "metadata": {
    "cell_id": "9594c8896d924041a22f69975a30db3e",
    "deepnote_cell_type": "markdown",
    "tags": []
   },
   "source": [
    "* If `mychart` is an Altair chart object (like the output of `alt.hconcat` in the previous question), you can save the chart as a json file using the following code.   Create this json file for the `HConcatChart` object you just created, and upload that json file to Canvas.\n",
    "```\n",
    "with open(\"hconcat_file.json\", \"w\") as f:\n",
    "    f.write(mychart.to_json())\n",
    "```"
   ]
  },
  {
   "cell_type": "code",
   "execution_count": null,
   "metadata": {
    "cell_id": "8740d1cd7bcf4adc83f5a1b10c6d8f41",
    "deepnote_cell_type": "code",
    "tags": []
   },
   "outputs": [],
   "source": []
  },
  {
   "cell_type": "markdown",
   "metadata": {
    "cell_id": "62fb249289fc44daab0cdde1763227c4",
    "deepnote_cell_type": "markdown",
    "tags": []
   },
   "source": [
    "* If you want to check that your json file contains the correct information, you can try pasting its contents into the [Vega-Lite editor](https://vega.github.io/editor/#/edited) and then clicking Run at the top.  (You should see a warning about the Vega-Lite version, but the chart itself should look correct.)  Or you can create a new notebook, load the json file using\n",
    "```\n",
    "with open(\"hconcat_file.json\", \"r\") as f:\n",
    "    s = f.read()\n",
    "```\n",
    "and then use `alt.Chart.from_json(???)`."
   ]
  },
  {
   "cell_type": "code",
   "execution_count": null,
   "metadata": {
    "cell_id": "9b474697bcb048899bd13a2c5a8a61d9",
    "deepnote_cell_type": "code",
    "tags": []
   },
   "outputs": [],
   "source": []
  },
  {
   "cell_type": "markdown",
   "metadata": {
    "cell_id": "dfb608ec8abd475ab45a68dedb36c6ca",
    "deepnote_cell_type": "markdown",
    "tags": []
   },
   "source": [
    "## Reminder\n",
    "\n",
    "Every group member needs to submit this on Canvas (even if you all submit the same file).\n",
    "\n",
    "Be sure you've included the names of you and your group members at the top after \"Authors\".  You might consider restarting this notebook (the Deepnote refresh icon, not your browser refresh icon) and running it again to make sure it's working."
   ]
  }
 ],
 "metadata": {
  "deepnote": {
   "is_reactive": false
  },
  "deepnote_execution_queue": [],
  "deepnote_notebook_id": "0de75adcfbfc48b8ad694e75b1a109c3",
  "deepnote_persisted_session": {
   "createdAt": "2022-10-10T23:10:30.473Z"
  },
  "kernelspec": {
   "display_name": "Python 3 (ipykernel)",
   "language": "python",
   "name": "python3"
  },
  "language_info": {
   "codemirror_mode": {
    "name": "ipython",
    "version": 3
   },
   "file_extension": ".py",
   "mimetype": "text/x-python",
   "name": "python",
   "nbconvert_exporter": "python",
   "pygments_lexer": "ipython3",
   "version": "3.9.13"
  }
 },
 "nbformat": 4,
 "nbformat_minor": 4
}
