{
 "cells": [
  {
   "cell_type": "markdown",
   "metadata": {
    "cell_id": "6cfa813927154bc580947fe962e52a26",
    "deepnote_cell_type": "markdown",
    "tags": []
   },
   "source": [
    "# Worksheet 12"
   ]
  },
  {
   "cell_type": "markdown",
   "metadata": {
    "cell_id": "7a41e5c6bd8d4572b328b3720bc387b2",
    "deepnote_cell_type": "markdown",
    "tags": []
   },
   "source": [
    "## Plots of polynomial regression curves\n",
    "\n",
    "Write a function `polyreg_plot` which takes four inputs: a pandas DataFrame `df_data` (which can be assumed to have two columns \"x\" and \"y\"), an integer `degree` with the default value of `1`, an integer `num_rows` with the default value of `-1`, and an integer `state` with the default value of `0`.  The function should do the following.\n",
    "* If `num_rows` is `-1`, the function should set `num_rows` to the number of rows of `df_data`.  (This assignment should go at the top of the body of the function.  Use an if statement.)\n",
    "* Select `num_rows` random rows from `df_data` and define `df` to be a copy of these rows.  Use the pandas DataFrame `sample` method with the keyword argument `random_state=state` to select these random rows.  Use the `copy` method to make the copy.\n",
    "* For each integer value of `d` from `1` to `degree`, including `degree`, add a new column \"xd\" to `df` containing the d-th power of the \"x\" column.  For example, when `d=2`, the column will be named \"x2\" and will be equal to `df[\"x\"]**2`.  **Comment**.  If you'd rather use `PolynomialFeatures` instead of the \"by-hand\" method described here, that's great.  I wrote it this way in case we didn't get to `PolynomialFeatures`.\n",
    "* Fit a scikit-learn LinearRegression object to this data, using columns \"x1\" to \"xdegree\" as the predictor columns and using \"y\" as the target column.  For example, if `degree=3`, then we would be using the columns \"x1\", \"x2\", \"x3\".  (I believe it's best to make all of the imports outside of the function, so like `from sklearn.linear_model ...` would be written outside of the function, probably in an earlier cell.  The instantiate step, `reg = LinearRegression()` would be written inside the function.)\n",
    "* Using NumPy's `arange` function, make a one-dimensional NumPy array containing the values -8, -7.9, -7.8, ..., 7.8, 7.9, and then reshape this array so it has the same length and one column (using `.reshape(???,???)`... you should not need to type any numbers into `reshape` other than $\\pm 1$).  Name the resulting \"column matrix\" as `X1`.\n",
    "* Using list comprehension, make a list called `Xlist` containing `X1`, `X1**2`, ..., `X1**degree`.  Concatenate these side-by-side into a NumPy array `X` using `X = np.concatenate(Xlist, axis=???)`.  **Comment**.  Again, you can replace this step with `PolynomialFeatures` if you want.\n",
    "* Convert `X` into a pandas DataFrame `dfX` with column names \"x1\" to \"xdegree\" as above.  This DataFrame should have 160 rows and degree columns.\n",
    "* Use the Linear Regression object you fit above (don't fit it again) to make predictions corresponding to the input `dfX`.  Name the resulting array of predictions `ypred`.  This NumPy array `ypred` should have length 160.\n",
    "* Using Matplotlib as in [last week's videos](https://christopherdavisuci.github.io/UCI-Math-10-F22/Week6/Week6-Videos.html?highlight=matplotlib#plotting-using-matplotlib), make a Matplotlib Axes object containing a scatter-plot of the (x,y) points from `df` (use `ax.scatter`) and containing a traditional plot (a line chart, use `ax.plot`) of points (x1, y1) where x1 runs through the \"x1\" column of `dfX` and where y1 is the corresponding predicted value from `ypred`.  Set the color of the line plot to red by using `'r'` as the format specification. (Even if you're an experienced Matplotlib user, please check the syntax from the video, because I want us to use the Object Oriented Matplotlib syntax, for example, using `plt.subplots` and `ax.scatter` instead of `plt.scatter`.)\n",
    "* The function should, as output, return the Matplotlib Figure object.  (As I have it written, the function both shows the plot and also returns the figure object, so don't worry if the figure shows up twice when you call the function.  I'm not sure how to remove the extra display.)"
   ]
  },
  {
   "cell_type": "markdown",
   "metadata": {
    "cell_id": "56cb9f1246394715a3b5a1be4fd3d3ab",
    "deepnote_cell_type": "markdown",
    "deepnote_to_be_reexecuted": false,
    "execution_millis": 1,
    "execution_start": 1668004827654,
    "source_hash": "1458d4ec",
    "tags": []
   },
   "source": [
    "## Submission instructions\n",
    "\n",
    "* Before evaluating the function, set a Matplotlib style using `plt.style.use(???)` and one of the choices from `plt.style.available`.  I think it makes the most sense to do this outside of the function body.\n",
    "* Run the function with `df_data` as the attached `sim_data.csv` (read it in using `pd.read_csv` as usual), with `num_rows=30`, with `degree=7`, and with `state` as your student id number (if you are in a group, just choose one of your student id numbers.)\n",
    "* Save the resulting Matplotlib Figure object as a pickle file named *wkst12-ans.pickle*, as in the [Worksheet 1 instructions](https://christopherdavisuci.github.io/UCI-Math-10-F22/Week1/Worksheet1.html), and upload that pickle file to Canvas.\n",
    "* If you want to check that your figure has been saved correctly, create a new notebook (or refresh this one) and run the following code (let me know if you see an easier approach):\n",
    "\n",
    "```\n",
    "import matplotlib.pyplot as plt\n",
    "import pickle\n",
    "\n",
    "plt.show()\n",
    "\n",
    "with open(\"wkst12-ans.pickle\", \"rb\") as f:\n",
    "    fig = pickle.load(f)\n",
    "\n",
    "fig\n",
    "```"
   ]
  },
  {
   "cell_type": "markdown",
   "metadata": {
    "cell_id": "6d42b0f7167a4990aa2ffd55d8c16914",
    "deepnote_cell_type": "markdown",
    "tags": []
   },
   "source": [
    "## Important for Midterm 2\n",
    "\n",
    "Not to be turned in but important for the next midterm.  How do the predicted plots (the red curves) change as we use higher degrees?  How do they change as we use smaller or larger subsets of the data (i.e., as we use fewer rows or more rows)?"
   ]
  },
  {
   "cell_type": "markdown",
   "metadata": {
    "cell_id": "273c4ad212024f23aba92a344bba896e",
    "deepnote_cell_type": "markdown",
    "tags": []
   },
   "source": [
    "## Reminder\n",
    "\n",
    "Every group member needs to submit this on Canvas (even if you all submit the same file)."
   ]
  },
  {
   "cell_type": "markdown",
   "metadata": {
    "cell_id": "9159d938bc9f4bfc9316c2f89dcbd0bd",
    "deepnote_cell_type": "markdown",
    "tags": []
   },
   "source": [
    "## Submission\n",
    "\n",
    "Submit the pickle file on Canvas, as described in the instructions above."
   ]
  }
 ],
 "metadata": {
  "deepnote": {},
  "deepnote_execution_queue": [],
  "deepnote_notebook_id": "aeb820d4d7614ac5a18e7c0f483d8bf0",
  "deepnote_persisted_session": {
   "createdAt": "2022-11-05T17:45:23.762Z"
  },
  "kernelspec": {
   "display_name": "Python 3 (ipykernel)",
   "language": "python",
   "name": "python3"
  },
  "language_info": {
   "codemirror_mode": {
    "name": "ipython",
    "version": 3
   },
   "file_extension": ".py",
   "mimetype": "text/x-python",
   "name": "python",
   "nbconvert_exporter": "python",
   "pygments_lexer": "ipython3",
   "version": "3.9.13"
  }
 },
 "nbformat": 4,
 "nbformat_minor": 4
}
