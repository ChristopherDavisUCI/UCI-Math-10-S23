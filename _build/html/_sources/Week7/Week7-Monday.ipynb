{
 "cells": [
  {
   "cell_type": "markdown",
   "metadata": {
    "cell_id": "dfc0383852a546079b8b8a69d92d2c3e",
    "deepnote_cell_type": "markdown",
    "tags": []
   },
   "source": [
    "# Week 7 Monday"
   ]
  },
  {
   "cell_type": "markdown",
   "metadata": {
    "cell_id": "26e916ed5f3a4182abf069a60cd8c042",
    "deepnote_cell_type": "markdown",
    "tags": []
   },
   "source": [
    "## Announcements\n",
    "\n",
    "* The next videos and video quizzes are posted.  Due Monday of Week 8 (because Friday is a holiday this week).\n",
    "* Worksheets 9 and 10 due tomorrow.\n",
    "* In-class quiz tomorrow based on K-means clustering and also has one question on `StandardScaler` (which William discussed on Tuesday and we discussed on Friday).\n",
    "* I have office hours after class at 11am, next door in ALP 3610.\n",
    "* I posted sample solutions to Midterm 1.  They're linked from the Course Updates section on our Canvas homepage."
   ]
  },
  {
   "cell_type": "code",
   "execution_count": 1,
   "metadata": {
    "cell_id": "a6dc0449adcc44c9940900346bff10fa",
    "deepnote_cell_type": "code",
    "deepnote_to_be_reexecuted": false,
    "execution_millis": 2,
    "execution_start": 1667843851357,
    "source_hash": "9b82ee11",
    "tags": []
   },
   "outputs": [],
   "source": [
    "import pandas as pd"
   ]
  },
  {
   "cell_type": "markdown",
   "metadata": {
    "cell_id": "78f8130c3b564cd1bf56448c1151231a",
    "deepnote_cell_type": "markdown",
    "tags": []
   },
   "source": [
    "## The pandas DataFrame `merge` method\n",
    "\n",
    "The `merge` method could have been covered in the first half of Math 10.  We are covering it now because it appears on today's worksheet. There is also a related method `join`, but I am in the habit of using `merge`.\n",
    "\n",
    "* Combine the data from the following two DataFrames using `df_menu.merge` together with `how=\"inner\"`.\n",
    "* Practice question (won't go over today): can you make the same result using the `map` method, like what we did with the stocks dataset?"
   ]
  },
  {
   "cell_type": "code",
   "execution_count": 2,
   "metadata": {
    "cell_id": "7a647569d6944e67bb4efc64d2f08c9d",
    "deepnote_cell_type": "code",
    "deepnote_to_be_reexecuted": false,
    "execution_millis": 1,
    "execution_start": 1667844108622,
    "source_hash": "4f5a085e",
    "tags": []
   },
   "outputs": [],
   "source": [
    "df_menu = pd.DataFrame({\n",
    "                    \"item\": [\"BLT\", \"Egg sandwich\", \"Ramen\", \"Pumpkin Pie\",\n",
    "                            \"Caesar salad\", \"House salad\", \"Falafel wrap\"],\n",
    "                    \"food_type\": [\"Sandwich\", \"Sandwich\", \"Soup\", \"Dessert\",\n",
    "                            \"Salad\", \"Salad\", \"Sandwich\"],\n",
    "                    \"Vegan\": [False, False, False, False, False, True, True]\n",
    "                    })\n",
    "\n",
    "df_price = pd.DataFrame({\n",
    "                    \"food_type\": [\"Drink\", \"Salad\", \"Sandwich\", \"Soup\"],\n",
    "                    \"price\": [5, 16, 12, 10]\n",
    "                    })"
   ]
  },
  {
   "cell_type": "code",
   "execution_count": 3,
   "metadata": {
    "cell_id": "2f0e8389dc934d468bb34bbad0d4dd5f",
    "deepnote_cell_type": "code",
    "deepnote_to_be_reexecuted": false,
    "execution_millis": 1032,
    "execution_start": 1667844115289,
    "source_hash": "50573cfb",
    "tags": []
   },
   "outputs": [
    {
     "data": {
      "application/vnd.deepnote.dataframe.v3+json": {
       "column_count": 3,
       "columns": [
        {
         "dtype": "object",
         "name": "item",
         "stats": {
          "categories": [
           {
            "count": 1,
            "name": "BLT"
           },
           {
            "count": 1,
            "name": "Egg sandwich"
           },
           {
            "count": 5,
            "name": "5 others"
           }
          ],
          "nan_count": 0,
          "unique_count": 7
         }
        },
        {
         "dtype": "object",
         "name": "food_type",
         "stats": {
          "categories": [
           {
            "count": 3,
            "name": "Sandwich"
           },
           {
            "count": 2,
            "name": "Salad"
           },
           {
            "count": 2,
            "name": "2 others"
           }
          ],
          "nan_count": 0,
          "unique_count": 4
         }
        },
        {
         "dtype": "bool",
         "name": "Vegan",
         "stats": {
          "categories": [
           {
            "count": 5,
            "name": "False"
           },
           {
            "count": 2,
            "name": "True"
           }
          ],
          "nan_count": 0,
          "unique_count": 2
         }
        },
        {
         "dtype": "int64",
         "name": "_deepnote_index_column"
        }
       ],
       "row_count": 7,
       "rows": [
        {
         "Vegan": "False",
         "_deepnote_index_column": "0",
         "food_type": "Sandwich",
         "item": "BLT"
        },
        {
         "Vegan": "False",
         "_deepnote_index_column": "1",
         "food_type": "Sandwich",
         "item": "Egg sandwich"
        },
        {
         "Vegan": "False",
         "_deepnote_index_column": "2",
         "food_type": "Soup",
         "item": "Ramen"
        },
        {
         "Vegan": "False",
         "_deepnote_index_column": "3",
         "food_type": "Dessert",
         "item": "Pumpkin Pie"
        },
        {
         "Vegan": "False",
         "_deepnote_index_column": "4",
         "food_type": "Salad",
         "item": "Caesar salad"
        },
        {
         "Vegan": "True",
         "_deepnote_index_column": "5",
         "food_type": "Salad",
         "item": "House salad"
        },
        {
         "Vegan": "True",
         "_deepnote_index_column": "6",
         "food_type": "Sandwich",
         "item": "Falafel wrap"
        }
       ]
      },
      "text/html": [
       "<div>\n",
       "<style scoped>\n",
       "    .dataframe tbody tr th:only-of-type {\n",
       "        vertical-align: middle;\n",
       "    }\n",
       "\n",
       "    .dataframe tbody tr th {\n",
       "        vertical-align: top;\n",
       "    }\n",
       "\n",
       "    .dataframe thead th {\n",
       "        text-align: right;\n",
       "    }\n",
       "</style>\n",
       "<table border=\"1\" class=\"dataframe\">\n",
       "  <thead>\n",
       "    <tr style=\"text-align: right;\">\n",
       "      <th></th>\n",
       "      <th>item</th>\n",
       "      <th>food_type</th>\n",
       "      <th>Vegan</th>\n",
       "    </tr>\n",
       "  </thead>\n",
       "  <tbody>\n",
       "    <tr>\n",
       "      <th>0</th>\n",
       "      <td>BLT</td>\n",
       "      <td>Sandwich</td>\n",
       "      <td>False</td>\n",
       "    </tr>\n",
       "    <tr>\n",
       "      <th>1</th>\n",
       "      <td>Egg sandwich</td>\n",
       "      <td>Sandwich</td>\n",
       "      <td>False</td>\n",
       "    </tr>\n",
       "    <tr>\n",
       "      <th>2</th>\n",
       "      <td>Ramen</td>\n",
       "      <td>Soup</td>\n",
       "      <td>False</td>\n",
       "    </tr>\n",
       "    <tr>\n",
       "      <th>3</th>\n",
       "      <td>Pumpkin Pie</td>\n",
       "      <td>Dessert</td>\n",
       "      <td>False</td>\n",
       "    </tr>\n",
       "    <tr>\n",
       "      <th>4</th>\n",
       "      <td>Caesar salad</td>\n",
       "      <td>Salad</td>\n",
       "      <td>False</td>\n",
       "    </tr>\n",
       "    <tr>\n",
       "      <th>5</th>\n",
       "      <td>House salad</td>\n",
       "      <td>Salad</td>\n",
       "      <td>True</td>\n",
       "    </tr>\n",
       "    <tr>\n",
       "      <th>6</th>\n",
       "      <td>Falafel wrap</td>\n",
       "      <td>Sandwich</td>\n",
       "      <td>True</td>\n",
       "    </tr>\n",
       "  </tbody>\n",
       "</table>\n",
       "</div>"
      ],
      "text/plain": [
       "           item food_type  Vegan\n",
       "0           BLT  Sandwich  False\n",
       "1  Egg sandwich  Sandwich  False\n",
       "2         Ramen      Soup  False\n",
       "3   Pumpkin Pie   Dessert  False\n",
       "4  Caesar salad     Salad  False\n",
       "5   House salad     Salad   True\n",
       "6  Falafel wrap  Sandwich   True"
      ]
     },
     "execution_count": 3,
     "metadata": {},
     "output_type": "execute_result"
    }
   ],
   "source": [
    "df_menu"
   ]
  },
  {
   "cell_type": "code",
   "execution_count": 4,
   "metadata": {
    "cell_id": "83ff1ef814cb4399b76634830f718fe7",
    "deepnote_cell_type": "code",
    "deepnote_to_be_reexecuted": false,
    "execution_millis": 10,
    "execution_start": 1667844127241,
    "source_hash": "ed4d15e9",
    "tags": []
   },
   "outputs": [
    {
     "data": {
      "application/vnd.deepnote.dataframe.v3+json": {
       "column_count": 2,
       "columns": [
        {
         "dtype": "object",
         "name": "food_type",
         "stats": {
          "categories": [
           {
            "count": 1,
            "name": "Drink"
           },
           {
            "count": 1,
            "name": "Salad"
           },
           {
            "count": 2,
            "name": "2 others"
           }
          ],
          "nan_count": 0,
          "unique_count": 4
         }
        },
        {
         "dtype": "int64",
         "name": "price",
         "stats": {
          "histogram": [
           {
            "bin_end": 6.1,
            "bin_start": 5,
            "count": 1
           },
           {
            "bin_end": 7.2,
            "bin_start": 6.1,
            "count": 0
           },
           {
            "bin_end": 8.3,
            "bin_start": 7.2,
            "count": 0
           },
           {
            "bin_end": 9.4,
            "bin_start": 8.3,
            "count": 0
           },
           {
            "bin_end": 10.5,
            "bin_start": 9.4,
            "count": 1
           },
           {
            "bin_end": 11.600000000000001,
            "bin_start": 10.5,
            "count": 0
           },
           {
            "bin_end": 12.700000000000001,
            "bin_start": 11.600000000000001,
            "count": 1
           },
           {
            "bin_end": 13.8,
            "bin_start": 12.700000000000001,
            "count": 0
           },
           {
            "bin_end": 14.9,
            "bin_start": 13.8,
            "count": 0
           },
           {
            "bin_end": 16,
            "bin_start": 14.9,
            "count": 1
           }
          ],
          "max": "16",
          "min": "5",
          "nan_count": 0,
          "unique_count": 4
         }
        },
        {
         "dtype": "int64",
         "name": "_deepnote_index_column"
        }
       ],
       "row_count": 4,
       "rows": [
        {
         "_deepnote_index_column": "0",
         "food_type": "Drink",
         "price": "5"
        },
        {
         "_deepnote_index_column": "1",
         "food_type": "Salad",
         "price": "16"
        },
        {
         "_deepnote_index_column": "2",
         "food_type": "Sandwich",
         "price": "12"
        },
        {
         "_deepnote_index_column": "3",
         "food_type": "Soup",
         "price": "10"
        }
       ]
      },
      "text/html": [
       "<div>\n",
       "<style scoped>\n",
       "    .dataframe tbody tr th:only-of-type {\n",
       "        vertical-align: middle;\n",
       "    }\n",
       "\n",
       "    .dataframe tbody tr th {\n",
       "        vertical-align: top;\n",
       "    }\n",
       "\n",
       "    .dataframe thead th {\n",
       "        text-align: right;\n",
       "    }\n",
       "</style>\n",
       "<table border=\"1\" class=\"dataframe\">\n",
       "  <thead>\n",
       "    <tr style=\"text-align: right;\">\n",
       "      <th></th>\n",
       "      <th>food_type</th>\n",
       "      <th>price</th>\n",
       "    </tr>\n",
       "  </thead>\n",
       "  <tbody>\n",
       "    <tr>\n",
       "      <th>0</th>\n",
       "      <td>Drink</td>\n",
       "      <td>5</td>\n",
       "    </tr>\n",
       "    <tr>\n",
       "      <th>1</th>\n",
       "      <td>Salad</td>\n",
       "      <td>16</td>\n",
       "    </tr>\n",
       "    <tr>\n",
       "      <th>2</th>\n",
       "      <td>Sandwich</td>\n",
       "      <td>12</td>\n",
       "    </tr>\n",
       "    <tr>\n",
       "      <th>3</th>\n",
       "      <td>Soup</td>\n",
       "      <td>10</td>\n",
       "    </tr>\n",
       "  </tbody>\n",
       "</table>\n",
       "</div>"
      ],
      "text/plain": [
       "  food_type  price\n",
       "0     Drink      5\n",
       "1     Salad     16\n",
       "2  Sandwich     12\n",
       "3      Soup     10"
      ]
     },
     "execution_count": 4,
     "metadata": {},
     "output_type": "execute_result"
    }
   ],
   "source": [
    "df_price"
   ]
  },
  {
   "cell_type": "markdown",
   "metadata": {},
   "source": [
    "The following doesn't raise an error, but it also doesn't do what we want.  For example, the prices are not aligned with the correct categories."
   ]
  },
  {
   "cell_type": "code",
   "execution_count": 5,
   "metadata": {
    "cell_id": "8a26b908a3804a63bd5668ed7fe3015f",
    "deepnote_cell_type": "code",
    "deepnote_to_be_reexecuted": false,
    "execution_millis": 6,
    "execution_start": 1667844211143,
    "source_hash": "c1d8ae9f",
    "tags": []
   },
   "outputs": [
    {
     "data": {
      "application/vnd.deepnote.dataframe.v3+json": {
       "column_count": 5,
       "columns": [
        {
         "dtype": "object",
         "name": "item",
         "stats": {
          "categories": [
           {
            "count": 1,
            "name": "BLT"
           },
           {
            "count": 1,
            "name": "Egg sandwich"
           },
           {
            "count": 5,
            "name": "5 others"
           }
          ],
          "nan_count": 0,
          "unique_count": 7
         }
        },
        {
         "dtype": "object",
         "name": "food_type",
         "stats": {
          "categories": [
           {
            "count": 3,
            "name": "Sandwich"
           },
           {
            "count": 2,
            "name": "Salad"
           },
           {
            "count": 2,
            "name": "2 others"
           }
          ],
          "nan_count": 0,
          "unique_count": 4
         }
        },
        {
         "dtype": "bool",
         "name": "Vegan",
         "stats": {
          "categories": [
           {
            "count": 5,
            "name": "False"
           },
           {
            "count": 2,
            "name": "True"
           }
          ],
          "nan_count": 0,
          "unique_count": 2
         }
        },
        {
         "dtype": "object",
         "name": "food_type.1",
         "stats": {
          "categories": [
           {
            "count": 1,
            "name": "Drink"
           },
           {
            "count": 3,
            "name": "3 others"
           },
           {
            "count": 3,
            "name": "Missing"
           }
          ],
          "nan_count": 3,
          "unique_count": 4
         }
        },
        {
         "dtype": "float64",
         "name": "price",
         "stats": {
          "histogram": [
           {
            "bin_end": 6.1,
            "bin_start": 5,
            "count": 1
           },
           {
            "bin_end": 7.2,
            "bin_start": 6.1,
            "count": 0
           },
           {
            "bin_end": 8.3,
            "bin_start": 7.2,
            "count": 0
           },
           {
            "bin_end": 9.4,
            "bin_start": 8.3,
            "count": 0
           },
           {
            "bin_end": 10.5,
            "bin_start": 9.4,
            "count": 1
           },
           {
            "bin_end": 11.600000000000001,
            "bin_start": 10.5,
            "count": 0
           },
           {
            "bin_end": 12.700000000000001,
            "bin_start": 11.600000000000001,
            "count": 1
           },
           {
            "bin_end": 13.8,
            "bin_start": 12.700000000000001,
            "count": 0
           },
           {
            "bin_end": 14.9,
            "bin_start": 13.8,
            "count": 0
           },
           {
            "bin_end": 16,
            "bin_start": 14.9,
            "count": 1
           }
          ],
          "max": "16.0",
          "min": "5.0",
          "nan_count": 3,
          "unique_count": 4
         }
        },
        {
         "dtype": "int64",
         "name": "_deepnote_index_column"
        }
       ],
       "row_count": 7,
       "rows": [
        {
         "Vegan": "False",
         "_deepnote_index_column": "0",
         "food_type": "Sandwich",
         "food_type.1": "Drink",
         "item": "BLT",
         "price": "5.0"
        },
        {
         "Vegan": "False",
         "_deepnote_index_column": "1",
         "food_type": "Sandwich",
         "food_type.1": "Salad",
         "item": "Egg sandwich",
         "price": "16.0"
        },
        {
         "Vegan": "False",
         "_deepnote_index_column": "2",
         "food_type": "Soup",
         "food_type.1": "Sandwich",
         "item": "Ramen",
         "price": "12.0"
        },
        {
         "Vegan": "False",
         "_deepnote_index_column": "3",
         "food_type": "Dessert",
         "food_type.1": "Soup",
         "item": "Pumpkin Pie",
         "price": "10.0"
        },
        {
         "Vegan": "False",
         "_deepnote_index_column": "4",
         "food_type": "Salad",
         "food_type.1": "nan",
         "item": "Caesar salad",
         "price": "nan"
        },
        {
         "Vegan": "True",
         "_deepnote_index_column": "5",
         "food_type": "Salad",
         "food_type.1": "nan",
         "item": "House salad",
         "price": "nan"
        },
        {
         "Vegan": "True",
         "_deepnote_index_column": "6",
         "food_type": "Sandwich",
         "food_type.1": "nan",
         "item": "Falafel wrap",
         "price": "nan"
        }
       ]
      },
      "text/html": [
       "<div>\n",
       "<style scoped>\n",
       "    .dataframe tbody tr th:only-of-type {\n",
       "        vertical-align: middle;\n",
       "    }\n",
       "\n",
       "    .dataframe tbody tr th {\n",
       "        vertical-align: top;\n",
       "    }\n",
       "\n",
       "    .dataframe thead th {\n",
       "        text-align: right;\n",
       "    }\n",
       "</style>\n",
       "<table border=\"1\" class=\"dataframe\">\n",
       "  <thead>\n",
       "    <tr style=\"text-align: right;\">\n",
       "      <th></th>\n",
       "      <th>item</th>\n",
       "      <th>food_type</th>\n",
       "      <th>Vegan</th>\n",
       "      <th>food_type</th>\n",
       "      <th>price</th>\n",
       "    </tr>\n",
       "  </thead>\n",
       "  <tbody>\n",
       "    <tr>\n",
       "      <th>0</th>\n",
       "      <td>BLT</td>\n",
       "      <td>Sandwich</td>\n",
       "      <td>False</td>\n",
       "      <td>Drink</td>\n",
       "      <td>5.0</td>\n",
       "    </tr>\n",
       "    <tr>\n",
       "      <th>1</th>\n",
       "      <td>Egg sandwich</td>\n",
       "      <td>Sandwich</td>\n",
       "      <td>False</td>\n",
       "      <td>Salad</td>\n",
       "      <td>16.0</td>\n",
       "    </tr>\n",
       "    <tr>\n",
       "      <th>2</th>\n",
       "      <td>Ramen</td>\n",
       "      <td>Soup</td>\n",
       "      <td>False</td>\n",
       "      <td>Sandwich</td>\n",
       "      <td>12.0</td>\n",
       "    </tr>\n",
       "    <tr>\n",
       "      <th>3</th>\n",
       "      <td>Pumpkin Pie</td>\n",
       "      <td>Dessert</td>\n",
       "      <td>False</td>\n",
       "      <td>Soup</td>\n",
       "      <td>10.0</td>\n",
       "    </tr>\n",
       "    <tr>\n",
       "      <th>4</th>\n",
       "      <td>Caesar salad</td>\n",
       "      <td>Salad</td>\n",
       "      <td>False</td>\n",
       "      <td>NaN</td>\n",
       "      <td>NaN</td>\n",
       "    </tr>\n",
       "    <tr>\n",
       "      <th>5</th>\n",
       "      <td>House salad</td>\n",
       "      <td>Salad</td>\n",
       "      <td>True</td>\n",
       "      <td>NaN</td>\n",
       "      <td>NaN</td>\n",
       "    </tr>\n",
       "    <tr>\n",
       "      <th>6</th>\n",
       "      <td>Falafel wrap</td>\n",
       "      <td>Sandwich</td>\n",
       "      <td>True</td>\n",
       "      <td>NaN</td>\n",
       "      <td>NaN</td>\n",
       "    </tr>\n",
       "  </tbody>\n",
       "</table>\n",
       "</div>"
      ],
      "text/plain": [
       "           item food_type  Vegan food_type  price\n",
       "0           BLT  Sandwich  False     Drink    5.0\n",
       "1  Egg sandwich  Sandwich  False     Salad   16.0\n",
       "2         Ramen      Soup  False  Sandwich   12.0\n",
       "3   Pumpkin Pie   Dessert  False      Soup   10.0\n",
       "4  Caesar salad     Salad  False       NaN    NaN\n",
       "5   House salad     Salad   True       NaN    NaN\n",
       "6  Falafel wrap  Sandwich   True       NaN    NaN"
      ]
     },
     "execution_count": 5,
     "metadata": {},
     "output_type": "execute_result"
    }
   ],
   "source": [
    "# doesn't work\n",
    "pd.concat((df_menu, df_price), axis=1)"
   ]
  },
  {
   "cell_type": "markdown",
   "metadata": {},
   "source": [
    "The following `how=\"left\"` syntax and its variants are related to database methods.  In this case, because the `df_menu` DataFrame is the DataFrame that occurs on the left side of the code, we are telling pandas to keep all of the rows from that DataFrame.  We match them to rows in the other DataFrame using the `\"food_type\"` column."
   ]
  },
  {
   "cell_type": "code",
   "execution_count": 6,
   "metadata": {
    "cell_id": "41aa9b306dcb4c829a16beb5b7d64df0",
    "deepnote_cell_type": "code",
    "deepnote_to_be_reexecuted": false,
    "execution_millis": 762,
    "execution_start": 1667844380534,
    "source_hash": "7478273",
    "tags": []
   },
   "outputs": [
    {
     "data": {
      "application/vnd.deepnote.dataframe.v3+json": {
       "column_count": 4,
       "columns": [
        {
         "dtype": "object",
         "name": "item",
         "stats": {
          "categories": [
           {
            "count": 1,
            "name": "BLT"
           },
           {
            "count": 1,
            "name": "Egg sandwich"
           },
           {
            "count": 5,
            "name": "5 others"
           }
          ],
          "nan_count": 0,
          "unique_count": 7
         }
        },
        {
         "dtype": "object",
         "name": "food_type",
         "stats": {
          "categories": [
           {
            "count": 3,
            "name": "Sandwich"
           },
           {
            "count": 2,
            "name": "Salad"
           },
           {
            "count": 2,
            "name": "2 others"
           }
          ],
          "nan_count": 0,
          "unique_count": 4
         }
        },
        {
         "dtype": "bool",
         "name": "Vegan",
         "stats": {
          "categories": [
           {
            "count": 5,
            "name": "False"
           },
           {
            "count": 2,
            "name": "True"
           }
          ],
          "nan_count": 0,
          "unique_count": 2
         }
        },
        {
         "dtype": "float64",
         "name": "price",
         "stats": {
          "histogram": [
           {
            "bin_end": 10.6,
            "bin_start": 10,
            "count": 1
           },
           {
            "bin_end": 11.2,
            "bin_start": 10.6,
            "count": 0
           },
           {
            "bin_end": 11.8,
            "bin_start": 11.2,
            "count": 0
           },
           {
            "bin_end": 12.4,
            "bin_start": 11.8,
            "count": 3
           },
           {
            "bin_end": 13,
            "bin_start": 12.4,
            "count": 0
           },
           {
            "bin_end": 13.6,
            "bin_start": 13,
            "count": 0
           },
           {
            "bin_end": 14.2,
            "bin_start": 13.6,
            "count": 0
           },
           {
            "bin_end": 14.8,
            "bin_start": 14.2,
            "count": 0
           },
           {
            "bin_end": 15.399999999999999,
            "bin_start": 14.8,
            "count": 0
           },
           {
            "bin_end": 16,
            "bin_start": 15.399999999999999,
            "count": 2
           }
          ],
          "max": "16.0",
          "min": "10.0",
          "nan_count": 1,
          "unique_count": 3
         }
        },
        {
         "dtype": "int64",
         "name": "_deepnote_index_column"
        }
       ],
       "row_count": 7,
       "rows": [
        {
         "Vegan": "False",
         "_deepnote_index_column": "0",
         "food_type": "Sandwich",
         "item": "BLT",
         "price": "12.0"
        },
        {
         "Vegan": "False",
         "_deepnote_index_column": "1",
         "food_type": "Sandwich",
         "item": "Egg sandwich",
         "price": "12.0"
        },
        {
         "Vegan": "False",
         "_deepnote_index_column": "2",
         "food_type": "Soup",
         "item": "Ramen",
         "price": "10.0"
        },
        {
         "Vegan": "False",
         "_deepnote_index_column": "3",
         "food_type": "Dessert",
         "item": "Pumpkin Pie",
         "price": "nan"
        },
        {
         "Vegan": "False",
         "_deepnote_index_column": "4",
         "food_type": "Salad",
         "item": "Caesar salad",
         "price": "16.0"
        },
        {
         "Vegan": "True",
         "_deepnote_index_column": "5",
         "food_type": "Salad",
         "item": "House salad",
         "price": "16.0"
        },
        {
         "Vegan": "True",
         "_deepnote_index_column": "6",
         "food_type": "Sandwich",
         "item": "Falafel wrap",
         "price": "12.0"
        }
       ]
      },
      "text/html": [
       "<div>\n",
       "<style scoped>\n",
       "    .dataframe tbody tr th:only-of-type {\n",
       "        vertical-align: middle;\n",
       "    }\n",
       "\n",
       "    .dataframe tbody tr th {\n",
       "        vertical-align: top;\n",
       "    }\n",
       "\n",
       "    .dataframe thead th {\n",
       "        text-align: right;\n",
       "    }\n",
       "</style>\n",
       "<table border=\"1\" class=\"dataframe\">\n",
       "  <thead>\n",
       "    <tr style=\"text-align: right;\">\n",
       "      <th></th>\n",
       "      <th>item</th>\n",
       "      <th>food_type</th>\n",
       "      <th>Vegan</th>\n",
       "      <th>price</th>\n",
       "    </tr>\n",
       "  </thead>\n",
       "  <tbody>\n",
       "    <tr>\n",
       "      <th>0</th>\n",
       "      <td>BLT</td>\n",
       "      <td>Sandwich</td>\n",
       "      <td>False</td>\n",
       "      <td>12.0</td>\n",
       "    </tr>\n",
       "    <tr>\n",
       "      <th>1</th>\n",
       "      <td>Egg sandwich</td>\n",
       "      <td>Sandwich</td>\n",
       "      <td>False</td>\n",
       "      <td>12.0</td>\n",
       "    </tr>\n",
       "    <tr>\n",
       "      <th>2</th>\n",
       "      <td>Ramen</td>\n",
       "      <td>Soup</td>\n",
       "      <td>False</td>\n",
       "      <td>10.0</td>\n",
       "    </tr>\n",
       "    <tr>\n",
       "      <th>3</th>\n",
       "      <td>Pumpkin Pie</td>\n",
       "      <td>Dessert</td>\n",
       "      <td>False</td>\n",
       "      <td>NaN</td>\n",
       "    </tr>\n",
       "    <tr>\n",
       "      <th>4</th>\n",
       "      <td>Caesar salad</td>\n",
       "      <td>Salad</td>\n",
       "      <td>False</td>\n",
       "      <td>16.0</td>\n",
       "    </tr>\n",
       "    <tr>\n",
       "      <th>5</th>\n",
       "      <td>House salad</td>\n",
       "      <td>Salad</td>\n",
       "      <td>True</td>\n",
       "      <td>16.0</td>\n",
       "    </tr>\n",
       "    <tr>\n",
       "      <th>6</th>\n",
       "      <td>Falafel wrap</td>\n",
       "      <td>Sandwich</td>\n",
       "      <td>True</td>\n",
       "      <td>12.0</td>\n",
       "    </tr>\n",
       "  </tbody>\n",
       "</table>\n",
       "</div>"
      ],
      "text/plain": [
       "           item food_type  Vegan  price\n",
       "0           BLT  Sandwich  False   12.0\n",
       "1  Egg sandwich  Sandwich  False   12.0\n",
       "2         Ramen      Soup  False   10.0\n",
       "3   Pumpkin Pie   Dessert  False    NaN\n",
       "4  Caesar salad     Salad  False   16.0\n",
       "5   House salad     Salad   True   16.0\n",
       "6  Falafel wrap  Sandwich   True   12.0"
      ]
     },
     "execution_count": 6,
     "metadata": {},
     "output_type": "execute_result"
    }
   ],
   "source": [
    "df_menu.merge(df_price, on=\"food_type\", how=\"left\")"
   ]
  },
  {
   "cell_type": "markdown",
   "metadata": {},
   "source": [
    "The following is similar, but we use all of the rows from the `df_price` DataFrame.  Notice how the \"Salad\" row occurs twice, because it occurs twice in the `df_menu` DataFrame.  Notice how the \"Pumpkin Pie\" row does not show up, because \"Dessert\" does not occur in the right DataFrame.  (Don't worry about the order of the rows.  I'm not certain how that is determined.)"
   ]
  },
  {
   "cell_type": "code",
   "execution_count": 7,
   "metadata": {
    "cell_id": "c236ea1254034693969ac8b567c11413",
    "deepnote_cell_type": "code",
    "deepnote_to_be_reexecuted": false,
    "execution_millis": 2,
    "execution_start": 1667844456583,
    "source_hash": "d5ab4d26",
    "tags": []
   },
   "outputs": [
    {
     "data": {
      "application/vnd.deepnote.dataframe.v3+json": {
       "column_count": 4,
       "columns": [
        {
         "dtype": "object",
         "name": "item",
         "stats": {
          "categories": [
           {
            "count": 1,
            "name": "Caesar salad"
           },
           {
            "count": 5,
            "name": "5 others"
           },
           {
            "count": 1,
            "name": "Missing"
           }
          ],
          "nan_count": 1,
          "unique_count": 6
         }
        },
        {
         "dtype": "object",
         "name": "food_type",
         "stats": {
          "categories": [
           {
            "count": 3,
            "name": "Sandwich"
           },
           {
            "count": 2,
            "name": "Salad"
           },
           {
            "count": 2,
            "name": "2 others"
           }
          ],
          "nan_count": 0,
          "unique_count": 4
         }
        },
        {
         "dtype": "object",
         "name": "Vegan",
         "stats": {
          "categories": [
           {
            "count": 4,
            "name": "False"
           },
           {
            "count": 2,
            "name": "True"
           },
           {
            "count": 1,
            "name": "Missing"
           }
          ],
          "nan_count": 1,
          "unique_count": 2
         }
        },
        {
         "dtype": "int64",
         "name": "price",
         "stats": {
          "histogram": [
           {
            "bin_end": 6.1,
            "bin_start": 5,
            "count": 1
           },
           {
            "bin_end": 7.2,
            "bin_start": 6.1,
            "count": 0
           },
           {
            "bin_end": 8.3,
            "bin_start": 7.2,
            "count": 0
           },
           {
            "bin_end": 9.4,
            "bin_start": 8.3,
            "count": 0
           },
           {
            "bin_end": 10.5,
            "bin_start": 9.4,
            "count": 1
           },
           {
            "bin_end": 11.600000000000001,
            "bin_start": 10.5,
            "count": 0
           },
           {
            "bin_end": 12.700000000000001,
            "bin_start": 11.600000000000001,
            "count": 3
           },
           {
            "bin_end": 13.8,
            "bin_start": 12.700000000000001,
            "count": 0
           },
           {
            "bin_end": 14.9,
            "bin_start": 13.8,
            "count": 0
           },
           {
            "bin_end": 16,
            "bin_start": 14.9,
            "count": 2
           }
          ],
          "max": "16",
          "min": "5",
          "nan_count": 0,
          "unique_count": 4
         }
        },
        {
         "dtype": "int64",
         "name": "_deepnote_index_column"
        }
       ],
       "row_count": 7,
       "rows": [
        {
         "Vegan": "nan",
         "_deepnote_index_column": "0",
         "food_type": "Drink",
         "item": "nan",
         "price": "5"
        },
        {
         "Vegan": "False",
         "_deepnote_index_column": "1",
         "food_type": "Salad",
         "item": "Caesar salad",
         "price": "16"
        },
        {
         "Vegan": "True",
         "_deepnote_index_column": "2",
         "food_type": "Salad",
         "item": "House salad",
         "price": "16"
        },
        {
         "Vegan": "False",
         "_deepnote_index_column": "3",
         "food_type": "Sandwich",
         "item": "BLT",
         "price": "12"
        },
        {
         "Vegan": "False",
         "_deepnote_index_column": "4",
         "food_type": "Sandwich",
         "item": "Egg sandwich",
         "price": "12"
        },
        {
         "Vegan": "True",
         "_deepnote_index_column": "5",
         "food_type": "Sandwich",
         "item": "Falafel wrap",
         "price": "12"
        },
        {
         "Vegan": "False",
         "_deepnote_index_column": "6",
         "food_type": "Soup",
         "item": "Ramen",
         "price": "10"
        }
       ]
      },
      "text/html": [
       "<div>\n",
       "<style scoped>\n",
       "    .dataframe tbody tr th:only-of-type {\n",
       "        vertical-align: middle;\n",
       "    }\n",
       "\n",
       "    .dataframe tbody tr th {\n",
       "        vertical-align: top;\n",
       "    }\n",
       "\n",
       "    .dataframe thead th {\n",
       "        text-align: right;\n",
       "    }\n",
       "</style>\n",
       "<table border=\"1\" class=\"dataframe\">\n",
       "  <thead>\n",
       "    <tr style=\"text-align: right;\">\n",
       "      <th></th>\n",
       "      <th>item</th>\n",
       "      <th>food_type</th>\n",
       "      <th>Vegan</th>\n",
       "      <th>price</th>\n",
       "    </tr>\n",
       "  </thead>\n",
       "  <tbody>\n",
       "    <tr>\n",
       "      <th>0</th>\n",
       "      <td>NaN</td>\n",
       "      <td>Drink</td>\n",
       "      <td>NaN</td>\n",
       "      <td>5</td>\n",
       "    </tr>\n",
       "    <tr>\n",
       "      <th>1</th>\n",
       "      <td>Caesar salad</td>\n",
       "      <td>Salad</td>\n",
       "      <td>False</td>\n",
       "      <td>16</td>\n",
       "    </tr>\n",
       "    <tr>\n",
       "      <th>2</th>\n",
       "      <td>House salad</td>\n",
       "      <td>Salad</td>\n",
       "      <td>True</td>\n",
       "      <td>16</td>\n",
       "    </tr>\n",
       "    <tr>\n",
       "      <th>3</th>\n",
       "      <td>BLT</td>\n",
       "      <td>Sandwich</td>\n",
       "      <td>False</td>\n",
       "      <td>12</td>\n",
       "    </tr>\n",
       "    <tr>\n",
       "      <th>4</th>\n",
       "      <td>Egg sandwich</td>\n",
       "      <td>Sandwich</td>\n",
       "      <td>False</td>\n",
       "      <td>12</td>\n",
       "    </tr>\n",
       "    <tr>\n",
       "      <th>5</th>\n",
       "      <td>Falafel wrap</td>\n",
       "      <td>Sandwich</td>\n",
       "      <td>True</td>\n",
       "      <td>12</td>\n",
       "    </tr>\n",
       "    <tr>\n",
       "      <th>6</th>\n",
       "      <td>Ramen</td>\n",
       "      <td>Soup</td>\n",
       "      <td>False</td>\n",
       "      <td>10</td>\n",
       "    </tr>\n",
       "  </tbody>\n",
       "</table>\n",
       "</div>"
      ],
      "text/plain": [
       "           item food_type  Vegan  price\n",
       "0           NaN     Drink    NaN      5\n",
       "1  Caesar salad     Salad  False     16\n",
       "2   House salad     Salad   True     16\n",
       "3           BLT  Sandwich  False     12\n",
       "4  Egg sandwich  Sandwich  False     12\n",
       "5  Falafel wrap  Sandwich   True     12\n",
       "6         Ramen      Soup  False     10"
      ]
     },
     "execution_count": 7,
     "metadata": {},
     "output_type": "execute_result"
    }
   ],
   "source": [
    "df_menu.merge(df_price, on=\"food_type\", how=\"right\")"
   ]
  },
  {
   "cell_type": "markdown",
   "metadata": {},
   "source": [
    "The keyword argument `how=\"inner\"` is like an intersection.  We only keep rows if the corresponding \"food_type\" value occurs in both DataFrames.  Notice how there are no missing values in the following DataFrame, unlike the two previous DataFrames which did have `nan` values."
   ]
  },
  {
   "cell_type": "code",
   "execution_count": 8,
   "metadata": {
    "cell_id": "a7e0a3cae22b4f67b90c48f972fd83ed",
    "deepnote_cell_type": "code",
    "deepnote_to_be_reexecuted": false,
    "execution_millis": 3,
    "execution_start": 1667844594946,
    "source_hash": "a897284f",
    "tags": []
   },
   "outputs": [
    {
     "data": {
      "application/vnd.deepnote.dataframe.v3+json": {
       "column_count": 4,
       "columns": [
        {
         "dtype": "object",
         "name": "item",
         "stats": {
          "categories": [
           {
            "count": 1,
            "name": "BLT"
           },
           {
            "count": 1,
            "name": "Egg sandwich"
           },
           {
            "count": 4,
            "name": "4 others"
           }
          ],
          "nan_count": 0,
          "unique_count": 6
         }
        },
        {
         "dtype": "object",
         "name": "food_type",
         "stats": {
          "categories": [
           {
            "count": 3,
            "name": "Sandwich"
           },
           {
            "count": 2,
            "name": "Salad"
           },
           {
            "count": 1,
            "name": "Soup"
           }
          ],
          "nan_count": 0,
          "unique_count": 3
         }
        },
        {
         "dtype": "bool",
         "name": "Vegan",
         "stats": {
          "categories": [
           {
            "count": 4,
            "name": "False"
           },
           {
            "count": 2,
            "name": "True"
           }
          ],
          "nan_count": 0,
          "unique_count": 2
         }
        },
        {
         "dtype": "int64",
         "name": "price",
         "stats": {
          "histogram": [
           {
            "bin_end": 10.6,
            "bin_start": 10,
            "count": 1
           },
           {
            "bin_end": 11.2,
            "bin_start": 10.6,
            "count": 0
           },
           {
            "bin_end": 11.8,
            "bin_start": 11.2,
            "count": 0
           },
           {
            "bin_end": 12.4,
            "bin_start": 11.8,
            "count": 3
           },
           {
            "bin_end": 13,
            "bin_start": 12.4,
            "count": 0
           },
           {
            "bin_end": 13.6,
            "bin_start": 13,
            "count": 0
           },
           {
            "bin_end": 14.2,
            "bin_start": 13.6,
            "count": 0
           },
           {
            "bin_end": 14.8,
            "bin_start": 14.2,
            "count": 0
           },
           {
            "bin_end": 15.399999999999999,
            "bin_start": 14.8,
            "count": 0
           },
           {
            "bin_end": 16,
            "bin_start": 15.399999999999999,
            "count": 2
           }
          ],
          "max": "16",
          "min": "10",
          "nan_count": 0,
          "unique_count": 3
         }
        },
        {
         "dtype": "int64",
         "name": "_deepnote_index_column"
        }
       ],
       "row_count": 6,
       "rows": [
        {
         "Vegan": "False",
         "_deepnote_index_column": "0",
         "food_type": "Sandwich",
         "item": "BLT",
         "price": "12"
        },
        {
         "Vegan": "False",
         "_deepnote_index_column": "1",
         "food_type": "Sandwich",
         "item": "Egg sandwich",
         "price": "12"
        },
        {
         "Vegan": "True",
         "_deepnote_index_column": "2",
         "food_type": "Sandwich",
         "item": "Falafel wrap",
         "price": "12"
        },
        {
         "Vegan": "False",
         "_deepnote_index_column": "3",
         "food_type": "Soup",
         "item": "Ramen",
         "price": "10"
        },
        {
         "Vegan": "False",
         "_deepnote_index_column": "4",
         "food_type": "Salad",
         "item": "Caesar salad",
         "price": "16"
        },
        {
         "Vegan": "True",
         "_deepnote_index_column": "5",
         "food_type": "Salad",
         "item": "House salad",
         "price": "16"
        }
       ]
      },
      "text/html": [
       "<div>\n",
       "<style scoped>\n",
       "    .dataframe tbody tr th:only-of-type {\n",
       "        vertical-align: middle;\n",
       "    }\n",
       "\n",
       "    .dataframe tbody tr th {\n",
       "        vertical-align: top;\n",
       "    }\n",
       "\n",
       "    .dataframe thead th {\n",
       "        text-align: right;\n",
       "    }\n",
       "</style>\n",
       "<table border=\"1\" class=\"dataframe\">\n",
       "  <thead>\n",
       "    <tr style=\"text-align: right;\">\n",
       "      <th></th>\n",
       "      <th>item</th>\n",
       "      <th>food_type</th>\n",
       "      <th>Vegan</th>\n",
       "      <th>price</th>\n",
       "    </tr>\n",
       "  </thead>\n",
       "  <tbody>\n",
       "    <tr>\n",
       "      <th>0</th>\n",
       "      <td>BLT</td>\n",
       "      <td>Sandwich</td>\n",
       "      <td>False</td>\n",
       "      <td>12</td>\n",
       "    </tr>\n",
       "    <tr>\n",
       "      <th>1</th>\n",
       "      <td>Egg sandwich</td>\n",
       "      <td>Sandwich</td>\n",
       "      <td>False</td>\n",
       "      <td>12</td>\n",
       "    </tr>\n",
       "    <tr>\n",
       "      <th>2</th>\n",
       "      <td>Falafel wrap</td>\n",
       "      <td>Sandwich</td>\n",
       "      <td>True</td>\n",
       "      <td>12</td>\n",
       "    </tr>\n",
       "    <tr>\n",
       "      <th>3</th>\n",
       "      <td>Ramen</td>\n",
       "      <td>Soup</td>\n",
       "      <td>False</td>\n",
       "      <td>10</td>\n",
       "    </tr>\n",
       "    <tr>\n",
       "      <th>4</th>\n",
       "      <td>Caesar salad</td>\n",
       "      <td>Salad</td>\n",
       "      <td>False</td>\n",
       "      <td>16</td>\n",
       "    </tr>\n",
       "    <tr>\n",
       "      <th>5</th>\n",
       "      <td>House salad</td>\n",
       "      <td>Salad</td>\n",
       "      <td>True</td>\n",
       "      <td>16</td>\n",
       "    </tr>\n",
       "  </tbody>\n",
       "</table>\n",
       "</div>"
      ],
      "text/plain": [
       "           item food_type  Vegan  price\n",
       "0           BLT  Sandwich  False     12\n",
       "1  Egg sandwich  Sandwich  False     12\n",
       "2  Falafel wrap  Sandwich   True     12\n",
       "3         Ramen      Soup  False     10\n",
       "4  Caesar salad     Salad  False     16\n",
       "5   House salad     Salad   True     16"
      ]
     },
     "execution_count": 8,
     "metadata": {},
     "output_type": "execute_result"
    }
   ],
   "source": [
    "df_menu.merge(df_price, on=\"food_type\", how=\"inner\")"
   ]
  },
  {
   "cell_type": "markdown",
   "metadata": {},
   "source": [
    "The following is like a union."
   ]
  },
  {
   "cell_type": "code",
   "execution_count": 9,
   "metadata": {
    "cell_id": "d0a4028f853b44a0adce20334046b861",
    "deepnote_cell_type": "code",
    "deepnote_to_be_reexecuted": false,
    "execution_millis": 822,
    "execution_start": 1667844634942,
    "source_hash": "2d53e948",
    "tags": []
   },
   "outputs": [
    {
     "data": {
      "application/vnd.deepnote.dataframe.v3+json": {
       "column_count": 4,
       "columns": [
        {
         "dtype": "object",
         "name": "item",
         "stats": {
          "categories": [
           {
            "count": 1,
            "name": "BLT"
           },
           {
            "count": 6,
            "name": "6 others"
           },
           {
            "count": 1,
            "name": "Missing"
           }
          ],
          "nan_count": 1,
          "unique_count": 7
         }
        },
        {
         "dtype": "object",
         "name": "food_type",
         "stats": {
          "categories": [
           {
            "count": 3,
            "name": "Sandwich"
           },
           {
            "count": 2,
            "name": "Salad"
           },
           {
            "count": 3,
            "name": "3 others"
           }
          ],
          "nan_count": 0,
          "unique_count": 5
         }
        },
        {
         "dtype": "object",
         "name": "Vegan",
         "stats": {
          "categories": [
           {
            "count": 5,
            "name": "False"
           },
           {
            "count": 2,
            "name": "True"
           },
           {
            "count": 1,
            "name": "Missing"
           }
          ],
          "nan_count": 1,
          "unique_count": 2
         }
        },
        {
         "dtype": "float64",
         "name": "price",
         "stats": {
          "histogram": [
           {
            "bin_end": 6.1,
            "bin_start": 5,
            "count": 1
           },
           {
            "bin_end": 7.2,
            "bin_start": 6.1,
            "count": 0
           },
           {
            "bin_end": 8.3,
            "bin_start": 7.2,
            "count": 0
           },
           {
            "bin_end": 9.4,
            "bin_start": 8.3,
            "count": 0
           },
           {
            "bin_end": 10.5,
            "bin_start": 9.4,
            "count": 1
           },
           {
            "bin_end": 11.600000000000001,
            "bin_start": 10.5,
            "count": 0
           },
           {
            "bin_end": 12.700000000000001,
            "bin_start": 11.600000000000001,
            "count": 3
           },
           {
            "bin_end": 13.8,
            "bin_start": 12.700000000000001,
            "count": 0
           },
           {
            "bin_end": 14.9,
            "bin_start": 13.8,
            "count": 0
           },
           {
            "bin_end": 16,
            "bin_start": 14.9,
            "count": 2
           }
          ],
          "max": "16.0",
          "min": "5.0",
          "nan_count": 1,
          "unique_count": 4
         }
        },
        {
         "dtype": "int64",
         "name": "_deepnote_index_column"
        }
       ],
       "row_count": 8,
       "rows": [
        {
         "Vegan": "False",
         "_deepnote_index_column": "0",
         "food_type": "Sandwich",
         "item": "BLT",
         "price": "12.0"
        },
        {
         "Vegan": "False",
         "_deepnote_index_column": "1",
         "food_type": "Sandwich",
         "item": "Egg sandwich",
         "price": "12.0"
        },
        {
         "Vegan": "True",
         "_deepnote_index_column": "2",
         "food_type": "Sandwich",
         "item": "Falafel wrap",
         "price": "12.0"
        },
        {
         "Vegan": "False",
         "_deepnote_index_column": "3",
         "food_type": "Soup",
         "item": "Ramen",
         "price": "10.0"
        },
        {
         "Vegan": "False",
         "_deepnote_index_column": "4",
         "food_type": "Dessert",
         "item": "Pumpkin Pie",
         "price": "nan"
        },
        {
         "Vegan": "False",
         "_deepnote_index_column": "5",
         "food_type": "Salad",
         "item": "Caesar salad",
         "price": "16.0"
        },
        {
         "Vegan": "True",
         "_deepnote_index_column": "6",
         "food_type": "Salad",
         "item": "House salad",
         "price": "16.0"
        },
        {
         "Vegan": "nan",
         "_deepnote_index_column": "7",
         "food_type": "Drink",
         "item": "nan",
         "price": "5.0"
        }
       ]
      },
      "text/html": [
       "<div>\n",
       "<style scoped>\n",
       "    .dataframe tbody tr th:only-of-type {\n",
       "        vertical-align: middle;\n",
       "    }\n",
       "\n",
       "    .dataframe tbody tr th {\n",
       "        vertical-align: top;\n",
       "    }\n",
       "\n",
       "    .dataframe thead th {\n",
       "        text-align: right;\n",
       "    }\n",
       "</style>\n",
       "<table border=\"1\" class=\"dataframe\">\n",
       "  <thead>\n",
       "    <tr style=\"text-align: right;\">\n",
       "      <th></th>\n",
       "      <th>item</th>\n",
       "      <th>food_type</th>\n",
       "      <th>Vegan</th>\n",
       "      <th>price</th>\n",
       "    </tr>\n",
       "  </thead>\n",
       "  <tbody>\n",
       "    <tr>\n",
       "      <th>0</th>\n",
       "      <td>BLT</td>\n",
       "      <td>Sandwich</td>\n",
       "      <td>False</td>\n",
       "      <td>12.0</td>\n",
       "    </tr>\n",
       "    <tr>\n",
       "      <th>1</th>\n",
       "      <td>Egg sandwich</td>\n",
       "      <td>Sandwich</td>\n",
       "      <td>False</td>\n",
       "      <td>12.0</td>\n",
       "    </tr>\n",
       "    <tr>\n",
       "      <th>2</th>\n",
       "      <td>Falafel wrap</td>\n",
       "      <td>Sandwich</td>\n",
       "      <td>True</td>\n",
       "      <td>12.0</td>\n",
       "    </tr>\n",
       "    <tr>\n",
       "      <th>3</th>\n",
       "      <td>Ramen</td>\n",
       "      <td>Soup</td>\n",
       "      <td>False</td>\n",
       "      <td>10.0</td>\n",
       "    </tr>\n",
       "    <tr>\n",
       "      <th>4</th>\n",
       "      <td>Pumpkin Pie</td>\n",
       "      <td>Dessert</td>\n",
       "      <td>False</td>\n",
       "      <td>NaN</td>\n",
       "    </tr>\n",
       "    <tr>\n",
       "      <th>5</th>\n",
       "      <td>Caesar salad</td>\n",
       "      <td>Salad</td>\n",
       "      <td>False</td>\n",
       "      <td>16.0</td>\n",
       "    </tr>\n",
       "    <tr>\n",
       "      <th>6</th>\n",
       "      <td>House salad</td>\n",
       "      <td>Salad</td>\n",
       "      <td>True</td>\n",
       "      <td>16.0</td>\n",
       "    </tr>\n",
       "    <tr>\n",
       "      <th>7</th>\n",
       "      <td>NaN</td>\n",
       "      <td>Drink</td>\n",
       "      <td>NaN</td>\n",
       "      <td>5.0</td>\n",
       "    </tr>\n",
       "  </tbody>\n",
       "</table>\n",
       "</div>"
      ],
      "text/plain": [
       "           item food_type  Vegan  price\n",
       "0           BLT  Sandwich  False   12.0\n",
       "1  Egg sandwich  Sandwich  False   12.0\n",
       "2  Falafel wrap  Sandwich   True   12.0\n",
       "3         Ramen      Soup  False   10.0\n",
       "4   Pumpkin Pie   Dessert  False    NaN\n",
       "5  Caesar salad     Salad  False   16.0\n",
       "6   House salad     Salad   True   16.0\n",
       "7           NaN     Drink    NaN    5.0"
      ]
     },
     "execution_count": 9,
     "metadata": {},
     "output_type": "execute_result"
    }
   ],
   "source": [
    "df_menu.merge(df_price, on=\"food_type\", how=\"outer\")"
   ]
  },
  {
   "cell_type": "markdown",
   "metadata": {},
   "source": [
    "What if we don't specify the `how` keyword argument?  We can check the documentation, which shows us that `\"inner\"` is the default value of this keyword argument.  So if we don't specify `how`, it will be the same as specifying `how=\"inner\"`."
   ]
  },
  {
   "cell_type": "code",
   "execution_count": 10,
   "metadata": {
    "cell_id": "70c8aef9398e45178f2127b8bf799b01",
    "deepnote_cell_type": "code",
    "deepnote_to_be_reexecuted": false,
    "execution_millis": 8,
    "execution_start": 1667844701360,
    "source_hash": "5adaf409",
    "tags": [
     "output_scroll"
    ]
   },
   "outputs": [
    {
     "name": "stdout",
     "output_type": "stream",
     "text": [
      "Help on method merge in module pandas.core.frame:\n",
      "\n",
      "merge(right, how='inner', on=None, left_on=None, right_on=None, left_index=False, right_index=False, sort=False, suffixes=('_x', '_y'), copy=True, indicator=False, validate=None) -> 'DataFrame' method of pandas.core.frame.DataFrame instance\n",
      "    Merge DataFrame or named Series objects with a database-style join.\n",
      "    \n",
      "    The join is done on columns or indexes. If joining columns on\n",
      "    columns, the DataFrame indexes *will be ignored*. Otherwise if joining indexes\n",
      "    on indexes or indexes on a column or columns, the index will be passed on.\n",
      "    When performing a cross merge, no column specifications to merge on are\n",
      "    allowed.\n",
      "    \n",
      "    Parameters\n",
      "    ----------\n",
      "    right : DataFrame or named Series\n",
      "        Object to merge with.\n",
      "    how : {'left', 'right', 'outer', 'inner', 'cross'}, default 'inner'\n",
      "        Type of merge to be performed.\n",
      "    \n",
      "        * left: use only keys from left frame, similar to a SQL left outer join;\n",
      "          preserve key order.\n",
      "        * right: use only keys from right frame, similar to a SQL right outer join;\n",
      "          preserve key order.\n",
      "        * outer: use union of keys from both frames, similar to a SQL full outer\n",
      "          join; sort keys lexicographically.\n",
      "        * inner: use intersection of keys from both frames, similar to a SQL inner\n",
      "          join; preserve the order of the left keys.\n",
      "        * cross: creates the cartesian product from both frames, preserves the order\n",
      "          of the left keys.\n",
      "    \n",
      "          .. versionadded:: 1.2.0\n",
      "    \n",
      "    on : label or list\n",
      "        Column or index level names to join on. These must be found in both\n",
      "        DataFrames. If `on` is None and not merging on indexes then this defaults\n",
      "        to the intersection of the columns in both DataFrames.\n",
      "    left_on : label or list, or array-like\n",
      "        Column or index level names to join on in the left DataFrame. Can also\n",
      "        be an array or list of arrays of the length of the left DataFrame.\n",
      "        These arrays are treated as if they are columns.\n",
      "    right_on : label or list, or array-like\n",
      "        Column or index level names to join on in the right DataFrame. Can also\n",
      "        be an array or list of arrays of the length of the right DataFrame.\n",
      "        These arrays are treated as if they are columns.\n",
      "    left_index : bool, default False\n",
      "        Use the index from the left DataFrame as the join key(s). If it is a\n",
      "        MultiIndex, the number of keys in the other DataFrame (either the index\n",
      "        or a number of columns) must match the number of levels.\n",
      "    right_index : bool, default False\n",
      "        Use the index from the right DataFrame as the join key. Same caveats as\n",
      "        left_index.\n",
      "    sort : bool, default False\n",
      "        Sort the join keys lexicographically in the result DataFrame. If False,\n",
      "        the order of the join keys depends on the join type (how keyword).\n",
      "    suffixes : list-like, default is (\"_x\", \"_y\")\n",
      "        A length-2 sequence where each element is optionally a string\n",
      "        indicating the suffix to add to overlapping column names in\n",
      "        `left` and `right` respectively. Pass a value of `None` instead\n",
      "        of a string to indicate that the column name from `left` or\n",
      "        `right` should be left as-is, with no suffix. At least one of the\n",
      "        values must not be None.\n",
      "    copy : bool, default True\n",
      "        If False, avoid copy if possible.\n",
      "    indicator : bool or str, default False\n",
      "        If True, adds a column to the output DataFrame called \"_merge\" with\n",
      "        information on the source of each row. The column can be given a different\n",
      "        name by providing a string argument. The column will have a Categorical\n",
      "        type with the value of \"left_only\" for observations whose merge key only\n",
      "        appears in the left DataFrame, \"right_only\" for observations\n",
      "        whose merge key only appears in the right DataFrame, and \"both\"\n",
      "        if the observation's merge key is found in both DataFrames.\n",
      "    \n",
      "    validate : str, optional\n",
      "        If specified, checks if merge is of specified type.\n",
      "    \n",
      "        * \"one_to_one\" or \"1:1\": check if merge keys are unique in both\n",
      "          left and right datasets.\n",
      "        * \"one_to_many\" or \"1:m\": check if merge keys are unique in left\n",
      "          dataset.\n",
      "        * \"many_to_one\" or \"m:1\": check if merge keys are unique in right\n",
      "          dataset.\n",
      "        * \"many_to_many\" or \"m:m\": allowed, but does not result in checks.\n",
      "    \n",
      "    Returns\n",
      "    -------\n",
      "    DataFrame\n",
      "        A DataFrame of the two merged objects.\n",
      "    \n",
      "    See Also\n",
      "    --------\n",
      "    merge_ordered : Merge with optional filling/interpolation.\n",
      "    merge_asof : Merge on nearest keys.\n",
      "    DataFrame.join : Similar method using indices.\n",
      "    \n",
      "    Notes\n",
      "    -----\n",
      "    Support for specifying index levels as the `on`, `left_on`, and\n",
      "    `right_on` parameters was added in version 0.23.0\n",
      "    Support for merging named Series objects was added in version 0.24.0\n",
      "    \n",
      "    Examples\n",
      "    --------\n",
      "    >>> df1 = pd.DataFrame({'lkey': ['foo', 'bar', 'baz', 'foo'],\n",
      "    ...                     'value': [1, 2, 3, 5]})\n",
      "    >>> df2 = pd.DataFrame({'rkey': ['foo', 'bar', 'baz', 'foo'],\n",
      "    ...                     'value': [5, 6, 7, 8]})\n",
      "    >>> df1\n",
      "        lkey value\n",
      "    0   foo      1\n",
      "    1   bar      2\n",
      "    2   baz      3\n",
      "    3   foo      5\n",
      "    >>> df2\n",
      "        rkey value\n",
      "    0   foo      5\n",
      "    1   bar      6\n",
      "    2   baz      7\n",
      "    3   foo      8\n",
      "    \n",
      "    Merge df1 and df2 on the lkey and rkey columns. The value columns have\n",
      "    the default suffixes, _x and _y, appended.\n",
      "    \n",
      "    >>> df1.merge(df2, left_on='lkey', right_on='rkey')\n",
      "      lkey  value_x rkey  value_y\n",
      "    0  foo        1  foo        5\n",
      "    1  foo        1  foo        8\n",
      "    2  foo        5  foo        5\n",
      "    3  foo        5  foo        8\n",
      "    4  bar        2  bar        6\n",
      "    5  baz        3  baz        7\n",
      "    \n",
      "    Merge DataFrames df1 and df2 with specified left and right suffixes\n",
      "    appended to any overlapping columns.\n",
      "    \n",
      "    >>> df1.merge(df2, left_on='lkey', right_on='rkey',\n",
      "    ...           suffixes=('_left', '_right'))\n",
      "      lkey  value_left rkey  value_right\n",
      "    0  foo           1  foo            5\n",
      "    1  foo           1  foo            8\n",
      "    2  foo           5  foo            5\n",
      "    3  foo           5  foo            8\n",
      "    4  bar           2  bar            6\n",
      "    5  baz           3  baz            7\n",
      "    \n",
      "    Merge DataFrames df1 and df2, but raise an exception if the DataFrames have\n",
      "    any overlapping columns.\n",
      "    \n",
      "    >>> df1.merge(df2, left_on='lkey', right_on='rkey', suffixes=(False, False))\n",
      "    Traceback (most recent call last):\n",
      "    ...\n",
      "    ValueError: columns overlap but no suffix specified:\n",
      "        Index(['value'], dtype='object')\n",
      "    \n",
      "    >>> df1 = pd.DataFrame({'a': ['foo', 'bar'], 'b': [1, 2]})\n",
      "    >>> df2 = pd.DataFrame({'a': ['foo', 'baz'], 'c': [3, 4]})\n",
      "    >>> df1\n",
      "          a  b\n",
      "    0   foo  1\n",
      "    1   bar  2\n",
      "    >>> df2\n",
      "          a  c\n",
      "    0   foo  3\n",
      "    1   baz  4\n",
      "    \n",
      "    >>> df1.merge(df2, how='inner', on='a')\n",
      "          a  b  c\n",
      "    0   foo  1  3\n",
      "    \n",
      "    >>> df1.merge(df2, how='left', on='a')\n",
      "          a  b  c\n",
      "    0   foo  1  3.0\n",
      "    1   bar  2  NaN\n",
      "    \n",
      "    >>> df1 = pd.DataFrame({'left': ['foo', 'bar']})\n",
      "    >>> df2 = pd.DataFrame({'right': [7, 8]})\n",
      "    >>> df1\n",
      "        left\n",
      "    0   foo\n",
      "    1   bar\n",
      "    >>> df2\n",
      "        right\n",
      "    0   7\n",
      "    1   8\n",
      "    \n",
      "    >>> df1.merge(df2, how='cross')\n",
      "       left  right\n",
      "    0   foo      7\n",
      "    1   foo      8\n",
      "    2   bar      7\n",
      "    3   bar      8\n",
      "\n"
     ]
    }
   ],
   "source": [
    "help(df_menu.merge)"
   ]
  },
  {
   "cell_type": "markdown",
   "metadata": {
    "cell_id": "31377afd89cb449ab4aafb2f0bcda7f0",
    "deepnote_cell_type": "markdown",
    "tags": []
   },
   "source": [
    "## Some code from the last class\n",
    "\n",
    "Here is the base code we were using for linear regression on Friday."
   ]
  },
  {
   "cell_type": "code",
   "execution_count": 11,
   "metadata": {
    "cell_id": "7fb44ede713045368c167315bae27df6",
    "deepnote_cell_type": "code",
    "deepnote_to_be_reexecuted": false,
    "execution_millis": 1010,
    "execution_start": 1667844730508,
    "source_hash": "29ac5446",
    "tags": []
   },
   "outputs": [],
   "source": [
    "import pandas as pd\n",
    "import numpy as np\n",
    "\n",
    "import altair as alt\n",
    "import seaborn as sns\n",
    "\n",
    "from sklearn.linear_model import LinearRegression"
   ]
  },
  {
   "cell_type": "code",
   "execution_count": 12,
   "metadata": {
    "cell_id": "20e17987db664a5bbf3820f740d08232",
    "deepnote_cell_type": "code",
    "deepnote_to_be_reexecuted": false,
    "execution_millis": 360,
    "execution_start": 1667844733189,
    "source_hash": "edc73efe",
    "tags": []
   },
   "outputs": [],
   "source": [
    "df = sns.load_dataset(\"mpg\").dropna(axis=0)\n",
    "\n",
    "cols = [\"horsepower\", \"weight\", \"model_year\", \"cylinders\"]"
   ]
  },
  {
   "cell_type": "code",
   "execution_count": 13,
   "metadata": {
    "cell_id": "6f598531ad394944b61f04b9e80384e5",
    "deepnote_cell_type": "code",
    "deepnote_to_be_reexecuted": false,
    "execution_millis": 1,
    "execution_start": 1667844734070,
    "source_hash": "cd72858e",
    "tags": []
   },
   "outputs": [],
   "source": [
    "reg = LinearRegression()"
   ]
  },
  {
   "cell_type": "code",
   "execution_count": 14,
   "metadata": {
    "cell_id": "b54d7c5649ba4cd490c0bcbd32d6dd0d",
    "deepnote_cell_type": "code",
    "deepnote_to_be_reexecuted": false,
    "execution_millis": 752,
    "execution_start": 1667844735140,
    "source_hash": "bf85b034",
    "tags": []
   },
   "outputs": [
    {
     "data": {
      "text/html": [
       "<style>#sk-container-id-1 {color: black;background-color: white;}#sk-container-id-1 pre{padding: 0;}#sk-container-id-1 div.sk-toggleable {background-color: white;}#sk-container-id-1 label.sk-toggleable__label {cursor: pointer;display: block;width: 100%;margin-bottom: 0;padding: 0.3em;box-sizing: border-box;text-align: center;}#sk-container-id-1 label.sk-toggleable__label-arrow:before {content: \"▸\";float: left;margin-right: 0.25em;color: #696969;}#sk-container-id-1 label.sk-toggleable__label-arrow:hover:before {color: black;}#sk-container-id-1 div.sk-estimator:hover label.sk-toggleable__label-arrow:before {color: black;}#sk-container-id-1 div.sk-toggleable__content {max-height: 0;max-width: 0;overflow: hidden;text-align: left;background-color: #f0f8ff;}#sk-container-id-1 div.sk-toggleable__content pre {margin: 0.2em;color: black;border-radius: 0.25em;background-color: #f0f8ff;}#sk-container-id-1 input.sk-toggleable__control:checked~div.sk-toggleable__content {max-height: 200px;max-width: 100%;overflow: auto;}#sk-container-id-1 input.sk-toggleable__control:checked~label.sk-toggleable__label-arrow:before {content: \"▾\";}#sk-container-id-1 div.sk-estimator input.sk-toggleable__control:checked~label.sk-toggleable__label {background-color: #d4ebff;}#sk-container-id-1 div.sk-label input.sk-toggleable__control:checked~label.sk-toggleable__label {background-color: #d4ebff;}#sk-container-id-1 input.sk-hidden--visually {border: 0;clip: rect(1px 1px 1px 1px);clip: rect(1px, 1px, 1px, 1px);height: 1px;margin: -1px;overflow: hidden;padding: 0;position: absolute;width: 1px;}#sk-container-id-1 div.sk-estimator {font-family: monospace;background-color: #f0f8ff;border: 1px dotted black;border-radius: 0.25em;box-sizing: border-box;margin-bottom: 0.5em;}#sk-container-id-1 div.sk-estimator:hover {background-color: #d4ebff;}#sk-container-id-1 div.sk-parallel-item::after {content: \"\";width: 100%;border-bottom: 1px solid gray;flex-grow: 1;}#sk-container-id-1 div.sk-label:hover label.sk-toggleable__label {background-color: #d4ebff;}#sk-container-id-1 div.sk-serial::before {content: \"\";position: absolute;border-left: 1px solid gray;box-sizing: border-box;top: 0;bottom: 0;left: 50%;z-index: 0;}#sk-container-id-1 div.sk-serial {display: flex;flex-direction: column;align-items: center;background-color: white;padding-right: 0.2em;padding-left: 0.2em;position: relative;}#sk-container-id-1 div.sk-item {position: relative;z-index: 1;}#sk-container-id-1 div.sk-parallel {display: flex;align-items: stretch;justify-content: center;background-color: white;position: relative;}#sk-container-id-1 div.sk-item::before, #sk-container-id-1 div.sk-parallel-item::before {content: \"\";position: absolute;border-left: 1px solid gray;box-sizing: border-box;top: 0;bottom: 0;left: 50%;z-index: -1;}#sk-container-id-1 div.sk-parallel-item {display: flex;flex-direction: column;z-index: 1;position: relative;background-color: white;}#sk-container-id-1 div.sk-parallel-item:first-child::after {align-self: flex-end;width: 50%;}#sk-container-id-1 div.sk-parallel-item:last-child::after {align-self: flex-start;width: 50%;}#sk-container-id-1 div.sk-parallel-item:only-child::after {width: 0;}#sk-container-id-1 div.sk-dashed-wrapped {border: 1px dashed gray;margin: 0 0.4em 0.5em 0.4em;box-sizing: border-box;padding-bottom: 0.4em;background-color: white;}#sk-container-id-1 div.sk-label label {font-family: monospace;font-weight: bold;display: inline-block;line-height: 1.2em;}#sk-container-id-1 div.sk-label-container {text-align: center;}#sk-container-id-1 div.sk-container {/* jupyter's `normalize.less` sets `[hidden] { display: none; }` but bootstrap.min.css set `[hidden] { display: none !important; }` so we also need the `!important` here to be able to override the default hidden behavior on the sphinx rendered scikit-learn.org. See: https://github.com/scikit-learn/scikit-learn/issues/21755 */display: inline-block !important;position: relative;}#sk-container-id-1 div.sk-text-repr-fallback {display: none;}</style><div id=\"sk-container-id-1\" class=\"sk-top-container\"><div class=\"sk-text-repr-fallback\"><pre>LinearRegression()</pre><b>In a Jupyter environment, please rerun this cell to show the HTML representation or trust the notebook. <br />On GitHub, the HTML representation is unable to render, please try loading this page with nbviewer.org.</b></div><div class=\"sk-container\" hidden><div class=\"sk-item\"><div class=\"sk-estimator sk-toggleable\"><input class=\"sk-toggleable__control sk-hidden--visually\" id=\"sk-estimator-id-1\" type=\"checkbox\" checked><label for=\"sk-estimator-id-1\" class=\"sk-toggleable__label sk-toggleable__label-arrow\">LinearRegression</label><div class=\"sk-toggleable__content\"><pre>LinearRegression()</pre></div></div></div></div></div>"
      ],
      "text/plain": [
       "LinearRegression()"
      ]
     },
     "execution_count": 14,
     "metadata": {},
     "output_type": "execute_result"
    }
   ],
   "source": [
    "reg.fit(df[cols], df[\"mpg\"])"
   ]
  },
  {
   "cell_type": "code",
   "execution_count": 15,
   "metadata": {
    "cell_id": "00753784f30149648a72f1ecca8b4314",
    "deepnote_cell_type": "code",
    "deepnote_to_be_reexecuted": false,
    "execution_millis": 7,
    "execution_start": 1667844736684,
    "source_hash": "7f9518fb",
    "tags": []
   },
   "outputs": [
    {
     "data": {
      "text/plain": [
       "horsepower   -0.003615\n",
       "weight       -0.006275\n",
       "model_year    0.746632\n",
       "cylinders    -0.127687\n",
       "dtype: float64"
      ]
     },
     "execution_count": 15,
     "metadata": {},
     "output_type": "execute_result"
    }
   ],
   "source": [
    "pd.Series(reg.coef_, index=reg.feature_names_in_)"
   ]
  },
  {
   "cell_type": "code",
   "execution_count": 16,
   "metadata": {
    "cell_id": "10c880cc16cc4d84932c6474f23b7ea0",
    "deepnote_cell_type": "code",
    "deepnote_to_be_reexecuted": false,
    "execution_millis": 18,
    "execution_start": 1667844805419,
    "source_hash": "3a1ea484",
    "tags": []
   },
   "outputs": [
    {
     "data": {
      "application/vnd.deepnote.dataframe.v3+json": {
       "column_count": 9,
       "columns": [
        {
         "dtype": "float64",
         "name": "mpg",
         "stats": {
          "histogram": [
           {
            "bin_end": 15.3,
            "bin_start": 15,
            "count": 1
           },
           {
            "bin_end": 15.6,
            "bin_start": 15.3,
            "count": 0
           },
           {
            "bin_end": 15.9,
            "bin_start": 15.6,
            "count": 0
           },
           {
            "bin_end": 16.2,
            "bin_start": 15.9,
            "count": 0
           },
           {
            "bin_end": 16.5,
            "bin_start": 16.2,
            "count": 0
           },
           {
            "bin_end": 16.8,
            "bin_start": 16.5,
            "count": 0
           },
           {
            "bin_end": 17.1,
            "bin_start": 16.8,
            "count": 0
           },
           {
            "bin_end": 17.4,
            "bin_start": 17.1,
            "count": 0
           },
           {
            "bin_end": 17.7,
            "bin_start": 17.4,
            "count": 0
           },
           {
            "bin_end": 18,
            "bin_start": 17.7,
            "count": 2
           }
          ],
          "max": "18.0",
          "min": "15.0",
          "nan_count": 0,
          "unique_count": 2
         }
        },
        {
         "dtype": "int64",
         "name": "cylinders",
         "stats": {
          "histogram": [
           {
            "bin_end": 7.6,
            "bin_start": 7.5,
            "count": 0
           },
           {
            "bin_end": 7.7,
            "bin_start": 7.6,
            "count": 0
           },
           {
            "bin_end": 7.8,
            "bin_start": 7.7,
            "count": 0
           },
           {
            "bin_end": 7.9,
            "bin_start": 7.8,
            "count": 0
           },
           {
            "bin_end": 8,
            "bin_start": 7.9,
            "count": 0
           },
           {
            "bin_end": 8.1,
            "bin_start": 8,
            "count": 3
           },
           {
            "bin_end": 8.2,
            "bin_start": 8.1,
            "count": 0
           },
           {
            "bin_end": 8.3,
            "bin_start": 8.2,
            "count": 0
           },
           {
            "bin_end": 8.4,
            "bin_start": 8.3,
            "count": 0
           },
           {
            "bin_end": 8.5,
            "bin_start": 8.4,
            "count": 0
           }
          ],
          "max": "8",
          "min": "8",
          "nan_count": 0,
          "unique_count": 1
         }
        },
        {
         "dtype": "float64",
         "name": "displacement",
         "stats": {
          "histogram": [
           {
            "bin_end": 311.3,
            "bin_start": 307,
            "count": 1
           },
           {
            "bin_end": 315.6,
            "bin_start": 311.3,
            "count": 0
           },
           {
            "bin_end": 319.9,
            "bin_start": 315.6,
            "count": 1
           },
           {
            "bin_end": 324.2,
            "bin_start": 319.9,
            "count": 0
           },
           {
            "bin_end": 328.5,
            "bin_start": 324.2,
            "count": 0
           },
           {
            "bin_end": 332.8,
            "bin_start": 328.5,
            "count": 0
           },
           {
            "bin_end": 337.1,
            "bin_start": 332.8,
            "count": 0
           },
           {
            "bin_end": 341.4,
            "bin_start": 337.1,
            "count": 0
           },
           {
            "bin_end": 345.7,
            "bin_start": 341.4,
            "count": 0
           },
           {
            "bin_end": 350,
            "bin_start": 345.7,
            "count": 1
           }
          ],
          "max": "350.0",
          "min": "307.0",
          "nan_count": 0,
          "unique_count": 3
         }
        },
        {
         "dtype": "float64",
         "name": "horsepower",
         "stats": {
          "histogram": [
           {
            "bin_end": 133.5,
            "bin_start": 130,
            "count": 1
           },
           {
            "bin_end": 137,
            "bin_start": 133.5,
            "count": 0
           },
           {
            "bin_end": 140.5,
            "bin_start": 137,
            "count": 0
           },
           {
            "bin_end": 144,
            "bin_start": 140.5,
            "count": 0
           },
           {
            "bin_end": 147.5,
            "bin_start": 144,
            "count": 0
           },
           {
            "bin_end": 151,
            "bin_start": 147.5,
            "count": 1
           },
           {
            "bin_end": 154.5,
            "bin_start": 151,
            "count": 0
           },
           {
            "bin_end": 158,
            "bin_start": 154.5,
            "count": 0
           },
           {
            "bin_end": 161.5,
            "bin_start": 158,
            "count": 0
           },
           {
            "bin_end": 165,
            "bin_start": 161.5,
            "count": 1
           }
          ],
          "max": "165.0",
          "min": "130.0",
          "nan_count": 0,
          "unique_count": 3
         }
        },
        {
         "dtype": "int64",
         "name": "weight",
         "stats": {
          "histogram": [
           {
            "bin_end": 3461.7,
            "bin_start": 3436,
            "count": 1
           },
           {
            "bin_end": 3487.4,
            "bin_start": 3461.7,
            "count": 0
           },
           {
            "bin_end": 3513.1,
            "bin_start": 3487.4,
            "count": 1
           },
           {
            "bin_end": 3538.8,
            "bin_start": 3513.1,
            "count": 0
           },
           {
            "bin_end": 3564.5,
            "bin_start": 3538.8,
            "count": 0
           },
           {
            "bin_end": 3590.2,
            "bin_start": 3564.5,
            "count": 0
           },
           {
            "bin_end": 3615.9,
            "bin_start": 3590.2,
            "count": 0
           },
           {
            "bin_end": 3641.6,
            "bin_start": 3615.9,
            "count": 0
           },
           {
            "bin_end": 3667.3,
            "bin_start": 3641.6,
            "count": 0
           },
           {
            "bin_end": 3693,
            "bin_start": 3667.3,
            "count": 1
           }
          ],
          "max": "3693",
          "min": "3436",
          "nan_count": 0,
          "unique_count": 3
         }
        },
        {
         "dtype": "float64",
         "name": "acceleration",
         "stats": {
          "histogram": [
           {
            "bin_end": 11.1,
            "bin_start": 11,
            "count": 1
           },
           {
            "bin_end": 11.2,
            "bin_start": 11.1,
            "count": 0
           },
           {
            "bin_end": 11.3,
            "bin_start": 11.2,
            "count": 0
           },
           {
            "bin_end": 11.4,
            "bin_start": 11.3,
            "count": 0
           },
           {
            "bin_end": 11.5,
            "bin_start": 11.4,
            "count": 0
           },
           {
            "bin_end": 11.6,
            "bin_start": 11.5,
            "count": 1
           },
           {
            "bin_end": 11.7,
            "bin_start": 11.6,
            "count": 0
           },
           {
            "bin_end": 11.8,
            "bin_start": 11.7,
            "count": 0
           },
           {
            "bin_end": 11.9,
            "bin_start": 11.8,
            "count": 0
           },
           {
            "bin_end": 12,
            "bin_start": 11.9,
            "count": 1
           }
          ],
          "max": "12.0",
          "min": "11.0",
          "nan_count": 0,
          "unique_count": 3
         }
        },
        {
         "dtype": "int64",
         "name": "model_year",
         "stats": {
          "histogram": [
           {
            "bin_end": 69.6,
            "bin_start": 69.5,
            "count": 0
           },
           {
            "bin_end": 69.7,
            "bin_start": 69.6,
            "count": 0
           },
           {
            "bin_end": 69.8,
            "bin_start": 69.7,
            "count": 0
           },
           {
            "bin_end": 69.9,
            "bin_start": 69.8,
            "count": 0
           },
           {
            "bin_end": 70,
            "bin_start": 69.9,
            "count": 0
           },
           {
            "bin_end": 70.1,
            "bin_start": 70,
            "count": 3
           },
           {
            "bin_end": 70.2,
            "bin_start": 70.1,
            "count": 0
           },
           {
            "bin_end": 70.3,
            "bin_start": 70.2,
            "count": 0
           },
           {
            "bin_end": 70.4,
            "bin_start": 70.3,
            "count": 0
           },
           {
            "bin_end": 70.5,
            "bin_start": 70.4,
            "count": 0
           }
          ],
          "max": "70",
          "min": "70",
          "nan_count": 0,
          "unique_count": 1
         }
        },
        {
         "dtype": "object",
         "name": "origin",
         "stats": {
          "categories": [
           {
            "count": 3,
            "name": "usa"
           }
          ],
          "nan_count": 0,
          "unique_count": 1
         }
        },
        {
         "dtype": "object",
         "name": "name",
         "stats": {
          "categories": [
           {
            "count": 1,
            "name": "chevrolet chevelle malibu"
           },
           {
            "count": 1,
            "name": "buick skylark 320"
           },
           {
            "count": 1,
            "name": "plymouth satellite"
           }
          ],
          "nan_count": 0,
          "unique_count": 3
         }
        },
        {
         "dtype": "int64",
         "name": "_deepnote_index_column"
        }
       ],
       "row_count": 3,
       "rows": [
        {
         "_deepnote_index_column": "0",
         "acceleration": "12.0",
         "cylinders": "8",
         "displacement": "307.0",
         "horsepower": "130.0",
         "model_year": "70",
         "mpg": "18.0",
         "name": "chevrolet chevelle malibu",
         "origin": "usa",
         "weight": "3504"
        },
        {
         "_deepnote_index_column": "1",
         "acceleration": "11.5",
         "cylinders": "8",
         "displacement": "350.0",
         "horsepower": "165.0",
         "model_year": "70",
         "mpg": "15.0",
         "name": "buick skylark 320",
         "origin": "usa",
         "weight": "3693"
        },
        {
         "_deepnote_index_column": "2",
         "acceleration": "11.0",
         "cylinders": "8",
         "displacement": "318.0",
         "horsepower": "150.0",
         "model_year": "70",
         "mpg": "18.0",
         "name": "plymouth satellite",
         "origin": "usa",
         "weight": "3436"
        }
       ]
      },
      "text/html": [
       "<div>\n",
       "<style scoped>\n",
       "    .dataframe tbody tr th:only-of-type {\n",
       "        vertical-align: middle;\n",
       "    }\n",
       "\n",
       "    .dataframe tbody tr th {\n",
       "        vertical-align: top;\n",
       "    }\n",
       "\n",
       "    .dataframe thead th {\n",
       "        text-align: right;\n",
       "    }\n",
       "</style>\n",
       "<table border=\"1\" class=\"dataframe\">\n",
       "  <thead>\n",
       "    <tr style=\"text-align: right;\">\n",
       "      <th></th>\n",
       "      <th>mpg</th>\n",
       "      <th>cylinders</th>\n",
       "      <th>displacement</th>\n",
       "      <th>horsepower</th>\n",
       "      <th>weight</th>\n",
       "      <th>acceleration</th>\n",
       "      <th>model_year</th>\n",
       "      <th>origin</th>\n",
       "      <th>name</th>\n",
       "    </tr>\n",
       "  </thead>\n",
       "  <tbody>\n",
       "    <tr>\n",
       "      <th>0</th>\n",
       "      <td>18.0</td>\n",
       "      <td>8</td>\n",
       "      <td>307.0</td>\n",
       "      <td>130.0</td>\n",
       "      <td>3504</td>\n",
       "      <td>12.0</td>\n",
       "      <td>70</td>\n",
       "      <td>usa</td>\n",
       "      <td>chevrolet chevelle malibu</td>\n",
       "    </tr>\n",
       "    <tr>\n",
       "      <th>1</th>\n",
       "      <td>15.0</td>\n",
       "      <td>8</td>\n",
       "      <td>350.0</td>\n",
       "      <td>165.0</td>\n",
       "      <td>3693</td>\n",
       "      <td>11.5</td>\n",
       "      <td>70</td>\n",
       "      <td>usa</td>\n",
       "      <td>buick skylark 320</td>\n",
       "    </tr>\n",
       "    <tr>\n",
       "      <th>2</th>\n",
       "      <td>18.0</td>\n",
       "      <td>8</td>\n",
       "      <td>318.0</td>\n",
       "      <td>150.0</td>\n",
       "      <td>3436</td>\n",
       "      <td>11.0</td>\n",
       "      <td>70</td>\n",
       "      <td>usa</td>\n",
       "      <td>plymouth satellite</td>\n",
       "    </tr>\n",
       "  </tbody>\n",
       "</table>\n",
       "</div>"
      ],
      "text/plain": [
       "    mpg  cylinders  displacement  horsepower  weight  acceleration  \\\n",
       "0  18.0          8         307.0       130.0    3504          12.0   \n",
       "1  15.0          8         350.0       165.0    3693          11.5   \n",
       "2  18.0          8         318.0       150.0    3436          11.0   \n",
       "\n",
       "   model_year origin                       name  \n",
       "0          70    usa  chevrolet chevelle malibu  \n",
       "1          70    usa          buick skylark 320  \n",
       "2          70    usa         plymouth satellite  "
      ]
     },
     "execution_count": 16,
     "metadata": {},
     "output_type": "execute_result"
    }
   ],
   "source": [
    "df.head(3)"
   ]
  },
  {
   "cell_type": "markdown",
   "metadata": {
    "cell_id": "d2b35035fc194a01a16c28222e26d244",
    "deepnote_cell_type": "markdown",
    "tags": []
   },
   "source": [
    "## Linear Regression using a categorical variable\n",
    "\n",
    "* Again perform linear regression, this time also including \"origin\" as an additional predictor.  Use a `OneHotEncoder` object.\n",
    "* These three new origin columns act like a separate intercept for each origin (one intercept for \"europe\", one intercept for \"japan\", one intercept for \"usa\"). Thus it makes sense to remove the `intercept` (also called bias) when we instantiate the `LinearRegression` object."
   ]
  },
  {
   "cell_type": "code",
   "execution_count": 17,
   "metadata": {
    "cell_id": "97919c8ef3e34dd995762ea6926cc8d5",
    "deepnote_cell_type": "code",
    "deepnote_to_be_reexecuted": false,
    "execution_millis": 635,
    "execution_start": 1667844829623,
    "source_hash": "96c74577",
    "tags": []
   },
   "outputs": [
    {
     "data": {
      "text/plain": [
       "array(['usa', 'japan', 'europe'], dtype=object)"
      ]
     },
     "execution_count": 17,
     "metadata": {},
     "output_type": "execute_result"
    }
   ],
   "source": [
    "df[\"origin\"].unique()"
   ]
  },
  {
   "cell_type": "markdown",
   "metadata": {},
   "source": [
    "It would not make sense to perform linear regression using the \"origin\" column, because it contains strings.  Even if we convert those three strings to for example `0`, `1`, `2`, that is still not a good idea, because it is forcing an order on the strings, as well as forcing the spacing between them.  Instead we will add a column to the DataFrame for each possible value in this column."
   ]
  },
  {
   "cell_type": "code",
   "execution_count": 1,
   "metadata": {
    "cell_id": "f3c4156b33554ef59d9ecec9f9ab41ad",
    "deepnote_cell_type": "code",
    "deepnote_to_be_reexecuted": false,
    "execution_millis": 2,
    "execution_start": 1667844955616,
    "source_hash": "e1e6f593",
    "tags": []
   },
   "outputs": [],
   "source": [
    "from sklearn.preprocessing import OneHotEncoder"
   ]
  },
  {
   "cell_type": "markdown",
   "metadata": {},
   "source": [
    "This syntax is similar to the `StandardScaler` syntax."
   ]
  },
  {
   "cell_type": "code",
   "execution_count": 19,
   "metadata": {
    "cell_id": "4fefa76434294366b561ab7d203dfedd",
    "deepnote_cell_type": "code",
    "deepnote_to_be_reexecuted": false,
    "execution_millis": 5,
    "execution_start": 1667845022568,
    "source_hash": "93fdf3e0",
    "tags": []
   },
   "outputs": [],
   "source": [
    "encoder = OneHotEncoder()"
   ]
  },
  {
   "cell_type": "markdown",
   "metadata": {},
   "source": [
    "Here is our common error, of passing a one-dimensional object (a Series) instead of a two-dimensional object (a DataFrame)."
   ]
  },
  {
   "cell_type": "code",
   "execution_count": 20,
   "metadata": {
    "cell_id": "c09928c27cc04b5bbcaf0b1afba71be3",
    "deepnote_cell_type": "code",
    "deepnote_to_be_reexecuted": false,
    "execution_millis": 1203,
    "execution_start": 1667845106227,
    "source_hash": "271df75b",
    "tags": [
     "output_scroll"
    ]
   },
   "outputs": [
    {
     "ename": "ValueError",
     "evalue": "Expected 2D array, got 1D array instead:\narray=['usa' 'usa' 'usa' 'usa' 'usa' 'usa' 'usa' 'usa' 'usa' 'usa' 'usa' 'usa'\n 'usa' 'usa' 'japan' 'usa' 'usa' 'usa' 'japan' 'europe' 'europe' 'europe'\n 'europe' 'europe' 'usa' 'usa' 'usa' 'usa' 'usa' 'japan' 'usa' 'japan'\n 'usa' 'usa' 'usa' 'usa' 'usa' 'usa' 'usa' 'usa' 'usa' 'usa' 'usa' 'usa'\n 'usa' 'usa' 'usa' 'usa' 'usa' 'europe' 'europe' 'europe' 'japan' 'japan'\n 'europe' 'usa' 'japan' 'usa' 'europe' 'usa' 'usa' 'usa' 'usa' 'usa' 'usa'\n 'usa' 'usa' 'usa' 'usa' 'usa' 'japan' 'usa' 'usa' 'usa' 'usa' 'europe'\n 'europe' 'europe' 'europe' 'usa' 'japan' 'japan' 'usa' 'japan' 'usa'\n 'usa' 'usa' 'usa' 'usa' 'usa' 'usa' 'usa' 'usa' 'usa' 'usa' 'usa' 'usa'\n 'usa' 'usa' 'usa' 'usa' 'europe' 'usa' 'usa' 'usa' 'usa' 'usa' 'japan'\n 'usa' 'japan' 'japan' 'usa' 'usa' 'europe' 'usa' 'usa' 'europe' 'europe'\n 'europe' 'europe' 'usa' 'europe' 'japan' 'usa' 'usa' 'usa' 'usa' 'japan'\n 'usa' 'japan' 'usa' 'usa' 'usa' 'usa' 'usa' 'usa' 'usa' 'usa' 'usa'\n 'europe' 'europe' 'europe' 'japan' 'japan' 'usa' 'europe' 'europe'\n 'japan' 'japan' 'europe' 'usa' 'usa' 'usa' 'usa' 'usa' 'usa' 'usa' 'usa'\n 'usa' 'usa' 'usa' 'usa' 'usa' 'usa' 'usa' 'japan' 'usa' 'usa' 'usa'\n 'japan' 'europe' 'japan' 'usa' 'europe' 'usa' 'europe' 'europe' 'europe'\n 'europe' 'japan' 'europe' 'europe' 'usa' 'usa' 'europe' 'usa' 'usa' 'usa'\n 'usa' 'usa' 'usa' 'usa' 'usa' 'usa' 'usa' 'europe' 'japan' 'usa' 'usa'\n 'usa' 'usa' 'europe' 'japan' 'japan' 'usa' 'europe' 'usa' 'europe'\n 'japan' 'europe' 'usa' 'usa' 'usa' 'usa' 'japan' 'usa' 'europe' 'usa'\n 'japan' 'usa' 'usa' 'usa' 'usa' 'usa' 'usa' 'usa' 'usa' 'usa' 'usa' 'usa'\n 'usa' 'europe' 'usa' 'japan' 'usa' 'usa' 'usa' 'japan' 'europe' 'japan'\n 'europe' 'japan' 'europe' 'usa' 'japan' 'japan' 'japan' 'usa' 'usa' 'usa'\n 'usa' 'usa' 'usa' 'usa' 'usa' 'usa' 'usa' 'usa' 'usa' 'usa' 'usa' 'usa'\n 'usa' 'usa' 'usa' 'japan' 'japan' 'usa' 'japan' 'usa' 'usa' 'japan'\n 'europe' 'europe' 'europe' 'europe' 'europe' 'japan' 'usa' 'usa' 'usa'\n 'usa' 'usa' 'usa' 'usa' 'usa' 'usa' 'usa' 'usa' 'usa' 'usa' 'europe'\n 'japan' 'usa' 'usa' 'europe' 'usa' 'europe' 'usa' 'usa' 'usa' 'japan'\n 'europe' 'usa' 'usa' 'usa' 'usa' 'europe' 'japan' 'usa' 'japan' 'usa'\n 'usa' 'usa' 'usa' 'europe' 'japan' 'japan' 'japan' 'japan' 'japan' 'usa'\n 'japan' 'europe' 'europe' 'europe' 'europe' 'japan' 'japan' 'europe'\n 'japan' 'japan' 'europe' 'japan' 'usa' 'usa' 'usa' 'usa' 'usa' 'japan'\n 'usa' 'japan' 'japan' 'japan' 'japan' 'japan' 'usa' 'usa' 'usa' 'europe'\n 'japan' 'japan' 'japan' 'japan' 'europe' 'europe' 'japan' 'japan' 'usa'\n 'usa' 'usa' 'usa' 'usa' 'usa' 'usa' 'usa' 'usa' 'usa' 'usa' 'europe'\n 'japan' 'japan' 'usa' 'usa' 'japan' 'japan' 'japan' 'japan' 'japan'\n 'japan' 'usa' 'usa' 'usa' 'usa' 'japan' 'usa' 'usa' 'usa' 'europe' 'usa'\n 'usa' 'usa'].\nReshape your data either using array.reshape(-1, 1) if your data has a single feature or array.reshape(1, -1) if it contains a single sample.",
     "output_type": "error",
     "traceback": [
      "\u001b[0;31m---------------------------------------------------------------------------\u001b[0m",
      "\u001b[0;31mValueError\u001b[0m                                Traceback (most recent call last)",
      "Cell \u001b[0;32mIn [20], line 1\u001b[0m\n\u001b[0;32m----> 1\u001b[0m \u001b[43mencoder\u001b[49m\u001b[38;5;241;43m.\u001b[39;49m\u001b[43mfit\u001b[49m\u001b[43m(\u001b[49m\u001b[43mdf\u001b[49m\u001b[43m[\u001b[49m\u001b[38;5;124;43m\"\u001b[39;49m\u001b[38;5;124;43morigin\u001b[39;49m\u001b[38;5;124;43m\"\u001b[39;49m\u001b[43m]\u001b[49m\u001b[43m)\u001b[49m\n",
      "File \u001b[0;32m/shared-libs/python3.9/py/lib/python3.9/site-packages/sklearn/preprocessing/_encoders.py:818\u001b[0m, in \u001b[0;36mOneHotEncoder.fit\u001b[0;34m(self, X, y)\u001b[0m\n\u001b[1;32m    800\u001b[0m \u001b[38;5;124;03m\"\"\"\u001b[39;00m\n\u001b[1;32m    801\u001b[0m \u001b[38;5;124;03mFit OneHotEncoder to X.\u001b[39;00m\n\u001b[1;32m    802\u001b[0m \n\u001b[0;32m   (...)\u001b[0m\n\u001b[1;32m    815\u001b[0m \u001b[38;5;124;03m    Fitted encoder.\u001b[39;00m\n\u001b[1;32m    816\u001b[0m \u001b[38;5;124;03m\"\"\"\u001b[39;00m\n\u001b[1;32m    817\u001b[0m \u001b[38;5;28mself\u001b[39m\u001b[38;5;241m.\u001b[39m_validate_keywords()\n\u001b[0;32m--> 818\u001b[0m fit_results \u001b[38;5;241m=\u001b[39m \u001b[38;5;28;43mself\u001b[39;49m\u001b[38;5;241;43m.\u001b[39;49m\u001b[43m_fit\u001b[49m\u001b[43m(\u001b[49m\n\u001b[1;32m    819\u001b[0m \u001b[43m    \u001b[49m\u001b[43mX\u001b[49m\u001b[43m,\u001b[49m\n\u001b[1;32m    820\u001b[0m \u001b[43m    \u001b[49m\u001b[43mhandle_unknown\u001b[49m\u001b[38;5;241;43m=\u001b[39;49m\u001b[38;5;28;43mself\u001b[39;49m\u001b[38;5;241;43m.\u001b[39;49m\u001b[43mhandle_unknown\u001b[49m\u001b[43m,\u001b[49m\n\u001b[1;32m    821\u001b[0m \u001b[43m    \u001b[49m\u001b[43mforce_all_finite\u001b[49m\u001b[38;5;241;43m=\u001b[39;49m\u001b[38;5;124;43m\"\u001b[39;49m\u001b[38;5;124;43mallow-nan\u001b[39;49m\u001b[38;5;124;43m\"\u001b[39;49m\u001b[43m,\u001b[49m\n\u001b[1;32m    822\u001b[0m \u001b[43m    \u001b[49m\u001b[43mreturn_counts\u001b[49m\u001b[38;5;241;43m=\u001b[39;49m\u001b[38;5;28;43mself\u001b[39;49m\u001b[38;5;241;43m.\u001b[39;49m\u001b[43m_infrequent_enabled\u001b[49m\u001b[43m,\u001b[49m\n\u001b[1;32m    823\u001b[0m \u001b[43m\u001b[49m\u001b[43m)\u001b[49m\n\u001b[1;32m    824\u001b[0m \u001b[38;5;28;01mif\u001b[39;00m \u001b[38;5;28mself\u001b[39m\u001b[38;5;241m.\u001b[39m_infrequent_enabled:\n\u001b[1;32m    825\u001b[0m     \u001b[38;5;28mself\u001b[39m\u001b[38;5;241m.\u001b[39m_fit_infrequent_category_mapping(\n\u001b[1;32m    826\u001b[0m         fit_results[\u001b[38;5;124m\"\u001b[39m\u001b[38;5;124mn_samples\u001b[39m\u001b[38;5;124m\"\u001b[39m], fit_results[\u001b[38;5;124m\"\u001b[39m\u001b[38;5;124mcategory_counts\u001b[39m\u001b[38;5;124m\"\u001b[39m]\n\u001b[1;32m    827\u001b[0m     )\n",
      "File \u001b[0;32m/shared-libs/python3.9/py/lib/python3.9/site-packages/sklearn/preprocessing/_encoders.py:80\u001b[0m, in \u001b[0;36m_BaseEncoder._fit\u001b[0;34m(self, X, handle_unknown, force_all_finite, return_counts)\u001b[0m\n\u001b[1;32m     78\u001b[0m \u001b[38;5;28mself\u001b[39m\u001b[38;5;241m.\u001b[39m_check_n_features(X, reset\u001b[38;5;241m=\u001b[39m\u001b[38;5;28;01mTrue\u001b[39;00m)\n\u001b[1;32m     79\u001b[0m \u001b[38;5;28mself\u001b[39m\u001b[38;5;241m.\u001b[39m_check_feature_names(X, reset\u001b[38;5;241m=\u001b[39m\u001b[38;5;28;01mTrue\u001b[39;00m)\n\u001b[0;32m---> 80\u001b[0m X_list, n_samples, n_features \u001b[38;5;241m=\u001b[39m \u001b[38;5;28;43mself\u001b[39;49m\u001b[38;5;241;43m.\u001b[39;49m\u001b[43m_check_X\u001b[49m\u001b[43m(\u001b[49m\n\u001b[1;32m     81\u001b[0m \u001b[43m    \u001b[49m\u001b[43mX\u001b[49m\u001b[43m,\u001b[49m\u001b[43m \u001b[49m\u001b[43mforce_all_finite\u001b[49m\u001b[38;5;241;43m=\u001b[39;49m\u001b[43mforce_all_finite\u001b[49m\n\u001b[1;32m     82\u001b[0m \u001b[43m\u001b[49m\u001b[43m)\u001b[49m\n\u001b[1;32m     83\u001b[0m \u001b[38;5;28mself\u001b[39m\u001b[38;5;241m.\u001b[39mn_features_in_ \u001b[38;5;241m=\u001b[39m n_features\n\u001b[1;32m     85\u001b[0m \u001b[38;5;28;01mif\u001b[39;00m \u001b[38;5;28mself\u001b[39m\u001b[38;5;241m.\u001b[39mcategories \u001b[38;5;241m!=\u001b[39m \u001b[38;5;124m\"\u001b[39m\u001b[38;5;124mauto\u001b[39m\u001b[38;5;124m\"\u001b[39m:\n",
      "File \u001b[0;32m/shared-libs/python3.9/py/lib/python3.9/site-packages/sklearn/preprocessing/_encoders.py:45\u001b[0m, in \u001b[0;36m_BaseEncoder._check_X\u001b[0;34m(self, X, force_all_finite)\u001b[0m\n\u001b[1;32m     32\u001b[0m \u001b[38;5;124;03m\"\"\"\u001b[39;00m\n\u001b[1;32m     33\u001b[0m \u001b[38;5;124;03mPerform custom check_array:\u001b[39;00m\n\u001b[1;32m     34\u001b[0m \u001b[38;5;124;03m- convert list of strings to object dtype\u001b[39;00m\n\u001b[0;32m   (...)\u001b[0m\n\u001b[1;32m     41\u001b[0m \n\u001b[1;32m     42\u001b[0m \u001b[38;5;124;03m\"\"\"\u001b[39;00m\n\u001b[1;32m     43\u001b[0m \u001b[38;5;28;01mif\u001b[39;00m \u001b[38;5;129;01mnot\u001b[39;00m (\u001b[38;5;28mhasattr\u001b[39m(X, \u001b[38;5;124m\"\u001b[39m\u001b[38;5;124miloc\u001b[39m\u001b[38;5;124m\"\u001b[39m) \u001b[38;5;129;01mand\u001b[39;00m \u001b[38;5;28mgetattr\u001b[39m(X, \u001b[38;5;124m\"\u001b[39m\u001b[38;5;124mndim\u001b[39m\u001b[38;5;124m\"\u001b[39m, \u001b[38;5;241m0\u001b[39m) \u001b[38;5;241m==\u001b[39m \u001b[38;5;241m2\u001b[39m):\n\u001b[1;32m     44\u001b[0m     \u001b[38;5;66;03m# if not a dataframe, do normal check_array validation\u001b[39;00m\n\u001b[0;32m---> 45\u001b[0m     X_temp \u001b[38;5;241m=\u001b[39m \u001b[43mcheck_array\u001b[49m\u001b[43m(\u001b[49m\u001b[43mX\u001b[49m\u001b[43m,\u001b[49m\u001b[43m \u001b[49m\u001b[43mdtype\u001b[49m\u001b[38;5;241;43m=\u001b[39;49m\u001b[38;5;28;43;01mNone\u001b[39;49;00m\u001b[43m,\u001b[49m\u001b[43m \u001b[49m\u001b[43mforce_all_finite\u001b[49m\u001b[38;5;241;43m=\u001b[39;49m\u001b[43mforce_all_finite\u001b[49m\u001b[43m)\u001b[49m\n\u001b[1;32m     46\u001b[0m     \u001b[38;5;28;01mif\u001b[39;00m \u001b[38;5;129;01mnot\u001b[39;00m \u001b[38;5;28mhasattr\u001b[39m(X, \u001b[38;5;124m\"\u001b[39m\u001b[38;5;124mdtype\u001b[39m\u001b[38;5;124m\"\u001b[39m) \u001b[38;5;129;01mand\u001b[39;00m np\u001b[38;5;241m.\u001b[39missubdtype(X_temp\u001b[38;5;241m.\u001b[39mdtype, np\u001b[38;5;241m.\u001b[39mstr_):\n\u001b[1;32m     47\u001b[0m         X \u001b[38;5;241m=\u001b[39m check_array(X, dtype\u001b[38;5;241m=\u001b[39m\u001b[38;5;28mobject\u001b[39m, force_all_finite\u001b[38;5;241m=\u001b[39mforce_all_finite)\n",
      "File \u001b[0;32m/shared-libs/python3.9/py/lib/python3.9/site-packages/sklearn/utils/validation.py:879\u001b[0m, in \u001b[0;36mcheck_array\u001b[0;34m(array, accept_sparse, accept_large_sparse, dtype, order, copy, force_all_finite, ensure_2d, allow_nd, ensure_min_samples, ensure_min_features, estimator, input_name)\u001b[0m\n\u001b[1;32m    877\u001b[0m     \u001b[38;5;66;03m# If input is 1D raise error\u001b[39;00m\n\u001b[1;32m    878\u001b[0m     \u001b[38;5;28;01mif\u001b[39;00m array\u001b[38;5;241m.\u001b[39mndim \u001b[38;5;241m==\u001b[39m \u001b[38;5;241m1\u001b[39m:\n\u001b[0;32m--> 879\u001b[0m         \u001b[38;5;28;01mraise\u001b[39;00m \u001b[38;5;167;01mValueError\u001b[39;00m(\n\u001b[1;32m    880\u001b[0m             \u001b[38;5;124m\"\u001b[39m\u001b[38;5;124mExpected 2D array, got 1D array instead:\u001b[39m\u001b[38;5;130;01m\\n\u001b[39;00m\u001b[38;5;124marray=\u001b[39m\u001b[38;5;132;01m{}\u001b[39;00m\u001b[38;5;124m.\u001b[39m\u001b[38;5;130;01m\\n\u001b[39;00m\u001b[38;5;124m\"\u001b[39m\n\u001b[1;32m    881\u001b[0m             \u001b[38;5;124m\"\u001b[39m\u001b[38;5;124mReshape your data either using array.reshape(-1, 1) if \u001b[39m\u001b[38;5;124m\"\u001b[39m\n\u001b[1;32m    882\u001b[0m             \u001b[38;5;124m\"\u001b[39m\u001b[38;5;124myour data has a single feature or array.reshape(1, -1) \u001b[39m\u001b[38;5;124m\"\u001b[39m\n\u001b[1;32m    883\u001b[0m             \u001b[38;5;124m\"\u001b[39m\u001b[38;5;124mif it contains a single sample.\u001b[39m\u001b[38;5;124m\"\u001b[39m\u001b[38;5;241m.\u001b[39mformat(array)\n\u001b[1;32m    884\u001b[0m         )\n\u001b[1;32m    886\u001b[0m \u001b[38;5;28;01mif\u001b[39;00m dtype_numeric \u001b[38;5;129;01mand\u001b[39;00m array\u001b[38;5;241m.\u001b[39mdtype\u001b[38;5;241m.\u001b[39mkind \u001b[38;5;129;01min\u001b[39;00m \u001b[38;5;124m\"\u001b[39m\u001b[38;5;124mUSV\u001b[39m\u001b[38;5;124m\"\u001b[39m:\n\u001b[1;32m    887\u001b[0m     \u001b[38;5;28;01mraise\u001b[39;00m \u001b[38;5;167;01mValueError\u001b[39;00m(\n\u001b[1;32m    888\u001b[0m         \u001b[38;5;124m\"\u001b[39m\u001b[38;5;124mdtype=\u001b[39m\u001b[38;5;124m'\u001b[39m\u001b[38;5;124mnumeric\u001b[39m\u001b[38;5;124m'\u001b[39m\u001b[38;5;124m is not compatible with arrays of bytes/strings.\u001b[39m\u001b[38;5;124m\"\u001b[39m\n\u001b[1;32m    889\u001b[0m         \u001b[38;5;124m\"\u001b[39m\u001b[38;5;124mConvert your data to numeric values explicitly instead.\u001b[39m\u001b[38;5;124m\"\u001b[39m\n\u001b[1;32m    890\u001b[0m     )\n",
      "\u001b[0;31mValueError\u001b[0m: Expected 2D array, got 1D array instead:\narray=['usa' 'usa' 'usa' 'usa' 'usa' 'usa' 'usa' 'usa' 'usa' 'usa' 'usa' 'usa'\n 'usa' 'usa' 'japan' 'usa' 'usa' 'usa' 'japan' 'europe' 'europe' 'europe'\n 'europe' 'europe' 'usa' 'usa' 'usa' 'usa' 'usa' 'japan' 'usa' 'japan'\n 'usa' 'usa' 'usa' 'usa' 'usa' 'usa' 'usa' 'usa' 'usa' 'usa' 'usa' 'usa'\n 'usa' 'usa' 'usa' 'usa' 'usa' 'europe' 'europe' 'europe' 'japan' 'japan'\n 'europe' 'usa' 'japan' 'usa' 'europe' 'usa' 'usa' 'usa' 'usa' 'usa' 'usa'\n 'usa' 'usa' 'usa' 'usa' 'usa' 'japan' 'usa' 'usa' 'usa' 'usa' 'europe'\n 'europe' 'europe' 'europe' 'usa' 'japan' 'japan' 'usa' 'japan' 'usa'\n 'usa' 'usa' 'usa' 'usa' 'usa' 'usa' 'usa' 'usa' 'usa' 'usa' 'usa' 'usa'\n 'usa' 'usa' 'usa' 'usa' 'europe' 'usa' 'usa' 'usa' 'usa' 'usa' 'japan'\n 'usa' 'japan' 'japan' 'usa' 'usa' 'europe' 'usa' 'usa' 'europe' 'europe'\n 'europe' 'europe' 'usa' 'europe' 'japan' 'usa' 'usa' 'usa' 'usa' 'japan'\n 'usa' 'japan' 'usa' 'usa' 'usa' 'usa' 'usa' 'usa' 'usa' 'usa' 'usa'\n 'europe' 'europe' 'europe' 'japan' 'japan' 'usa' 'europe' 'europe'\n 'japan' 'japan' 'europe' 'usa' 'usa' 'usa' 'usa' 'usa' 'usa' 'usa' 'usa'\n 'usa' 'usa' 'usa' 'usa' 'usa' 'usa' 'usa' 'japan' 'usa' 'usa' 'usa'\n 'japan' 'europe' 'japan' 'usa' 'europe' 'usa' 'europe' 'europe' 'europe'\n 'europe' 'japan' 'europe' 'europe' 'usa' 'usa' 'europe' 'usa' 'usa' 'usa'\n 'usa' 'usa' 'usa' 'usa' 'usa' 'usa' 'usa' 'europe' 'japan' 'usa' 'usa'\n 'usa' 'usa' 'europe' 'japan' 'japan' 'usa' 'europe' 'usa' 'europe'\n 'japan' 'europe' 'usa' 'usa' 'usa' 'usa' 'japan' 'usa' 'europe' 'usa'\n 'japan' 'usa' 'usa' 'usa' 'usa' 'usa' 'usa' 'usa' 'usa' 'usa' 'usa' 'usa'\n 'usa' 'europe' 'usa' 'japan' 'usa' 'usa' 'usa' 'japan' 'europe' 'japan'\n 'europe' 'japan' 'europe' 'usa' 'japan' 'japan' 'japan' 'usa' 'usa' 'usa'\n 'usa' 'usa' 'usa' 'usa' 'usa' 'usa' 'usa' 'usa' 'usa' 'usa' 'usa' 'usa'\n 'usa' 'usa' 'usa' 'japan' 'japan' 'usa' 'japan' 'usa' 'usa' 'japan'\n 'europe' 'europe' 'europe' 'europe' 'europe' 'japan' 'usa' 'usa' 'usa'\n 'usa' 'usa' 'usa' 'usa' 'usa' 'usa' 'usa' 'usa' 'usa' 'usa' 'europe'\n 'japan' 'usa' 'usa' 'europe' 'usa' 'europe' 'usa' 'usa' 'usa' 'japan'\n 'europe' 'usa' 'usa' 'usa' 'usa' 'europe' 'japan' 'usa' 'japan' 'usa'\n 'usa' 'usa' 'usa' 'europe' 'japan' 'japan' 'japan' 'japan' 'japan' 'usa'\n 'japan' 'europe' 'europe' 'europe' 'europe' 'japan' 'japan' 'europe'\n 'japan' 'japan' 'europe' 'japan' 'usa' 'usa' 'usa' 'usa' 'usa' 'japan'\n 'usa' 'japan' 'japan' 'japan' 'japan' 'japan' 'usa' 'usa' 'usa' 'europe'\n 'japan' 'japan' 'japan' 'japan' 'europe' 'europe' 'japan' 'japan' 'usa'\n 'usa' 'usa' 'usa' 'usa' 'usa' 'usa' 'usa' 'usa' 'usa' 'usa' 'europe'\n 'japan' 'japan' 'usa' 'usa' 'japan' 'japan' 'japan' 'japan' 'japan'\n 'japan' 'usa' 'usa' 'usa' 'usa' 'japan' 'usa' 'usa' 'usa' 'europe' 'usa'\n 'usa' 'usa'].\nReshape your data either using array.reshape(-1, 1) if your data has a single feature or array.reshape(1, -1) if it contains a single sample."
     ]
    }
   ],
   "source": [
    "encoder.fit(df[\"origin\"])"
   ]
  },
  {
   "cell_type": "markdown",
   "metadata": {},
   "source": [
    "Here is the correct way to pass this single column."
   ]
  },
  {
   "cell_type": "code",
   "execution_count": 21,
   "metadata": {
    "cell_id": "a5e3888c897e461d90676eeccfdc2b5d",
    "deepnote_cell_type": "code",
    "deepnote_to_be_reexecuted": false,
    "execution_millis": 1,
    "execution_start": 1667845142630,
    "source_hash": "c6d39e3d",
    "tags": []
   },
   "outputs": [
    {
     "data": {
      "text/html": [
       "<style>#sk-container-id-2 {color: black;background-color: white;}#sk-container-id-2 pre{padding: 0;}#sk-container-id-2 div.sk-toggleable {background-color: white;}#sk-container-id-2 label.sk-toggleable__label {cursor: pointer;display: block;width: 100%;margin-bottom: 0;padding: 0.3em;box-sizing: border-box;text-align: center;}#sk-container-id-2 label.sk-toggleable__label-arrow:before {content: \"▸\";float: left;margin-right: 0.25em;color: #696969;}#sk-container-id-2 label.sk-toggleable__label-arrow:hover:before {color: black;}#sk-container-id-2 div.sk-estimator:hover label.sk-toggleable__label-arrow:before {color: black;}#sk-container-id-2 div.sk-toggleable__content {max-height: 0;max-width: 0;overflow: hidden;text-align: left;background-color: #f0f8ff;}#sk-container-id-2 div.sk-toggleable__content pre {margin: 0.2em;color: black;border-radius: 0.25em;background-color: #f0f8ff;}#sk-container-id-2 input.sk-toggleable__control:checked~div.sk-toggleable__content {max-height: 200px;max-width: 100%;overflow: auto;}#sk-container-id-2 input.sk-toggleable__control:checked~label.sk-toggleable__label-arrow:before {content: \"▾\";}#sk-container-id-2 div.sk-estimator input.sk-toggleable__control:checked~label.sk-toggleable__label {background-color: #d4ebff;}#sk-container-id-2 div.sk-label input.sk-toggleable__control:checked~label.sk-toggleable__label {background-color: #d4ebff;}#sk-container-id-2 input.sk-hidden--visually {border: 0;clip: rect(1px 1px 1px 1px);clip: rect(1px, 1px, 1px, 1px);height: 1px;margin: -1px;overflow: hidden;padding: 0;position: absolute;width: 1px;}#sk-container-id-2 div.sk-estimator {font-family: monospace;background-color: #f0f8ff;border: 1px dotted black;border-radius: 0.25em;box-sizing: border-box;margin-bottom: 0.5em;}#sk-container-id-2 div.sk-estimator:hover {background-color: #d4ebff;}#sk-container-id-2 div.sk-parallel-item::after {content: \"\";width: 100%;border-bottom: 1px solid gray;flex-grow: 1;}#sk-container-id-2 div.sk-label:hover label.sk-toggleable__label {background-color: #d4ebff;}#sk-container-id-2 div.sk-serial::before {content: \"\";position: absolute;border-left: 1px solid gray;box-sizing: border-box;top: 0;bottom: 0;left: 50%;z-index: 0;}#sk-container-id-2 div.sk-serial {display: flex;flex-direction: column;align-items: center;background-color: white;padding-right: 0.2em;padding-left: 0.2em;position: relative;}#sk-container-id-2 div.sk-item {position: relative;z-index: 1;}#sk-container-id-2 div.sk-parallel {display: flex;align-items: stretch;justify-content: center;background-color: white;position: relative;}#sk-container-id-2 div.sk-item::before, #sk-container-id-2 div.sk-parallel-item::before {content: \"\";position: absolute;border-left: 1px solid gray;box-sizing: border-box;top: 0;bottom: 0;left: 50%;z-index: -1;}#sk-container-id-2 div.sk-parallel-item {display: flex;flex-direction: column;z-index: 1;position: relative;background-color: white;}#sk-container-id-2 div.sk-parallel-item:first-child::after {align-self: flex-end;width: 50%;}#sk-container-id-2 div.sk-parallel-item:last-child::after {align-self: flex-start;width: 50%;}#sk-container-id-2 div.sk-parallel-item:only-child::after {width: 0;}#sk-container-id-2 div.sk-dashed-wrapped {border: 1px dashed gray;margin: 0 0.4em 0.5em 0.4em;box-sizing: border-box;padding-bottom: 0.4em;background-color: white;}#sk-container-id-2 div.sk-label label {font-family: monospace;font-weight: bold;display: inline-block;line-height: 1.2em;}#sk-container-id-2 div.sk-label-container {text-align: center;}#sk-container-id-2 div.sk-container {/* jupyter's `normalize.less` sets `[hidden] { display: none; }` but bootstrap.min.css set `[hidden] { display: none !important; }` so we also need the `!important` here to be able to override the default hidden behavior on the sphinx rendered scikit-learn.org. See: https://github.com/scikit-learn/scikit-learn/issues/21755 */display: inline-block !important;position: relative;}#sk-container-id-2 div.sk-text-repr-fallback {display: none;}</style><div id=\"sk-container-id-2\" class=\"sk-top-container\"><div class=\"sk-text-repr-fallback\"><pre>OneHotEncoder()</pre><b>In a Jupyter environment, please rerun this cell to show the HTML representation or trust the notebook. <br />On GitHub, the HTML representation is unable to render, please try loading this page with nbviewer.org.</b></div><div class=\"sk-container\" hidden><div class=\"sk-item\"><div class=\"sk-estimator sk-toggleable\"><input class=\"sk-toggleable__control sk-hidden--visually\" id=\"sk-estimator-id-2\" type=\"checkbox\" checked><label for=\"sk-estimator-id-2\" class=\"sk-toggleable__label sk-toggleable__label-arrow\">OneHotEncoder</label><div class=\"sk-toggleable__content\"><pre>OneHotEncoder()</pre></div></div></div></div></div>"
      ],
      "text/plain": [
       "OneHotEncoder()"
      ]
     },
     "execution_count": 21,
     "metadata": {},
     "output_type": "execute_result"
    }
   ],
   "source": [
    "encoder.fit(df[[\"origin\"]])"
   ]
  },
  {
   "cell_type": "markdown",
   "metadata": {},
   "source": [
    "We now transform the data.  (Notice how we use the method `transform` instead of `predict`.  We are not in the Machine Learning portion at the moment, we are not predicting anything.  Instead we are in the preprocessing or the data cleaning stage.)"
   ]
  },
  {
   "cell_type": "code",
   "execution_count": 22,
   "metadata": {
    "cell_id": "5853dbd6250b43419c727bfe6650b0f7",
    "deepnote_cell_type": "code",
    "deepnote_to_be_reexecuted": false,
    "execution_millis": 572,
    "execution_start": 1667845175948,
    "source_hash": "25fa5d33",
    "tags": []
   },
   "outputs": [
    {
     "data": {
      "text/plain": [
       "<392x3 sparse matrix of type '<class 'numpy.float64'>'\n",
       "\twith 392 stored elements in Compressed Sparse Row format>"
      ]
     },
     "execution_count": 22,
     "metadata": {},
     "output_type": "execute_result"
    }
   ],
   "source": [
    "encoder.transform(df[[\"origin\"]])"
   ]
  },
  {
   "cell_type": "markdown",
   "metadata": {},
   "source": [
    "The produced object is a little strange, but we can convert it to a NumPy array.  (The array will contain mostly zeros, and so it can be more efficient to not store all of those rows separately.  That is why, by default, scikit-learn uses this sparse matrix object instead of a usual NumPy array.)"
   ]
  },
  {
   "cell_type": "code",
   "execution_count": 23,
   "metadata": {
    "cell_id": "89d4b74d5bfd42138c88d615378d62f2",
    "deepnote_cell_type": "code",
    "deepnote_to_be_reexecuted": false,
    "execution_millis": 294,
    "execution_start": 1667845205318,
    "source_hash": "d566ba3d",
    "tags": []
   },
   "outputs": [
    {
     "data": {
      "text/plain": [
       "array([[0., 0., 1.],\n",
       "       [0., 0., 1.],\n",
       "       [0., 0., 1.],\n",
       "       ...,\n",
       "       [0., 0., 1.],\n",
       "       [0., 0., 1.],\n",
       "       [0., 0., 1.]])"
      ]
     },
     "execution_count": 23,
     "metadata": {},
     "output_type": "execute_result"
    }
   ],
   "source": [
    "encoder.transform(df[[\"origin\"]]).toarray()"
   ]
  },
  {
   "cell_type": "markdown",
   "metadata": {},
   "source": [
    "There are three columns, corresponding to three values in the \"origin\" column.  Which column corresponds to which value?  We can use the following method to check."
   ]
  },
  {
   "cell_type": "code",
   "execution_count": 24,
   "metadata": {
    "cell_id": "b4ceea899f8b47cd8dbb3c4de5dcf693",
    "deepnote_cell_type": "code",
    "deepnote_to_be_reexecuted": false,
    "execution_millis": 6,
    "execution_start": 1667845259474,
    "source_hash": "c664fe16",
    "tags": []
   },
   "outputs": [
    {
     "data": {
      "text/plain": [
       "array(['origin_europe', 'origin_japan', 'origin_usa'], dtype=object)"
      ]
     },
     "execution_count": 24,
     "metadata": {},
     "output_type": "execute_result"
    }
   ],
   "source": [
    "encoder.get_feature_names_out()"
   ]
  },
  {
   "cell_type": "markdown",
   "metadata": {},
   "source": [
    "Let's add these three new columns to our DataFrame.  To be safe, we will make the changes in a new DataFrame."
   ]
  },
  {
   "cell_type": "code",
   "execution_count": 25,
   "metadata": {
    "cell_id": "b447923b5dcd4cd982a44c104473ff45",
    "deepnote_cell_type": "code",
    "deepnote_to_be_reexecuted": false,
    "execution_millis": 4,
    "execution_start": 1667845373618,
    "source_hash": "f91a71af",
    "tags": []
   },
   "outputs": [],
   "source": [
    "df2 = df.copy()"
   ]
  },
  {
   "cell_type": "markdown",
   "metadata": {},
   "source": [
    "At some point (I don't remember exactly where), we will get an error if we have the new column names in a NumPy array instead of a list, so here we convert it to a list."
   ]
  },
  {
   "cell_type": "code",
   "execution_count": 26,
   "metadata": {
    "cell_id": "6893f9e8f24f4b11aeb089468a02cdb8",
    "deepnote_cell_type": "code",
    "deepnote_to_be_reexecuted": false,
    "execution_millis": 1,
    "execution_start": 1667845391745,
    "source_hash": "f226524f",
    "tags": []
   },
   "outputs": [],
   "source": [
    "new_cols = list(encoder.get_feature_names_out())"
   ]
  },
  {
   "cell_type": "code",
   "execution_count": 27,
   "metadata": {
    "cell_id": "3d9fb081de4a4b63ab496ee8f02d54b9",
    "deepnote_cell_type": "code",
    "deepnote_to_be_reexecuted": false,
    "execution_millis": 4,
    "execution_start": 1667845393982,
    "source_hash": "c00825fb",
    "tags": []
   },
   "outputs": [
    {
     "data": {
      "text/plain": [
       "['origin_europe', 'origin_japan', 'origin_usa']"
      ]
     },
     "execution_count": 27,
     "metadata": {},
     "output_type": "execute_result"
    }
   ],
   "source": [
    "new_cols"
   ]
  },
  {
   "cell_type": "markdown",
   "metadata": {},
   "source": [
    "Here we put the above NumPy array into these three new columns."
   ]
  },
  {
   "cell_type": "code",
   "execution_count": 28,
   "metadata": {
    "cell_id": "840be70f91d640139ba32804598eabe9",
    "deepnote_cell_type": "code",
    "deepnote_to_be_reexecuted": false,
    "execution_millis": 1,
    "execution_start": 1667845449951,
    "source_hash": "7cd00360",
    "tags": []
   },
   "outputs": [],
   "source": [
    "df2[new_cols] = encoder.transform(df[[\"origin\"]]).toarray()"
   ]
  },
  {
   "cell_type": "markdown",
   "metadata": {},
   "source": [
    "Think of these last three columns as like Boolean Series.  For example, everywhere we see a `1` in the \"origin_europe\" column, that signifies that the origin value is \"europe\".  These columns don't contain any new information (it was all already present in the \"origin\" column), but they are numeric, so they can be used for linear regression (or clustering or many other Machine Learning techniques that require numerical values)."
   ]
  },
  {
   "cell_type": "code",
   "execution_count": 30,
   "metadata": {
    "cell_id": "75f0cdad2206497aa34f3318f18fb22f",
    "deepnote_cell_type": "code",
    "deepnote_to_be_reexecuted": false,
    "execution_millis": 8,
    "execution_start": 1667845480342,
    "source_hash": "9123f3f0",
    "tags": [
     "output_scroll"
    ]
   },
   "outputs": [
    {
     "data": {
      "application/vnd.deepnote.dataframe.v3+json": {
       "column_count": 12,
       "columns": [
        {
         "dtype": "float64",
         "name": "mpg",
         "stats": {
          "histogram": [
           {
            "bin_end": 17.01,
            "bin_start": 15,
            "count": 1
           },
           {
            "bin_end": 19.02,
            "bin_start": 17.01,
            "count": 0
           },
           {
            "bin_end": 21.03,
            "bin_start": 19.02,
            "count": 0
           },
           {
            "bin_end": 23.04,
            "bin_start": 21.03,
            "count": 1
           },
           {
            "bin_end": 25.05,
            "bin_start": 23.04,
            "count": 0
           },
           {
            "bin_end": 27.060000000000002,
            "bin_start": 25.05,
            "count": 0
           },
           {
            "bin_end": 29.07,
            "bin_start": 27.060000000000002,
            "count": 1
           },
           {
            "bin_end": 31.080000000000002,
            "bin_start": 29.07,
            "count": 1
           },
           {
            "bin_end": 33.09,
            "bin_start": 31.080000000000002,
            "count": 0
           },
           {
            "bin_end": 35.1,
            "bin_start": 33.09,
            "count": 1
           }
          ],
          "max": "35.1",
          "min": "15.0",
          "nan_count": 0,
          "unique_count": 5
         }
        },
        {
         "dtype": "int64",
         "name": "cylinders",
         "stats": {
          "histogram": [
           {
            "bin_end": 4.4,
            "bin_start": 4,
            "count": 4
           },
           {
            "bin_end": 4.8,
            "bin_start": 4.4,
            "count": 0
           },
           {
            "bin_end": 5.2,
            "bin_start": 4.8,
            "count": 0
           },
           {
            "bin_end": 5.6,
            "bin_start": 5.2,
            "count": 0
           },
           {
            "bin_end": 6,
            "bin_start": 5.6,
            "count": 0
           },
           {
            "bin_end": 6.4,
            "bin_start": 6,
            "count": 0
           },
           {
            "bin_end": 6.800000000000001,
            "bin_start": 6.4,
            "count": 0
           },
           {
            "bin_end": 7.2,
            "bin_start": 6.800000000000001,
            "count": 0
           },
           {
            "bin_end": 7.6,
            "bin_start": 7.2,
            "count": 0
           },
           {
            "bin_end": 8,
            "bin_start": 7.6,
            "count": 1
           }
          ],
          "max": "8",
          "min": "4",
          "nan_count": 0,
          "unique_count": 2
         }
        },
        {
         "dtype": "float64",
         "name": "displacement",
         "stats": {
          "histogram": [
           {
            "bin_end": 107.9,
            "bin_start": 81,
            "count": 3
           },
           {
            "bin_end": 134.8,
            "bin_start": 107.9,
            "count": 1
           },
           {
            "bin_end": 161.7,
            "bin_start": 134.8,
            "count": 0
           },
           {
            "bin_end": 188.6,
            "bin_start": 161.7,
            "count": 0
           },
           {
            "bin_end": 215.5,
            "bin_start": 188.6,
            "count": 0
           },
           {
            "bin_end": 242.39999999999998,
            "bin_start": 215.5,
            "count": 0
           },
           {
            "bin_end": 269.29999999999995,
            "bin_start": 242.39999999999998,
            "count": 0
           },
           {
            "bin_end": 296.2,
            "bin_start": 269.29999999999995,
            "count": 0
           },
           {
            "bin_end": 323.1,
            "bin_start": 296.2,
            "count": 0
           },
           {
            "bin_end": 350,
            "bin_start": 323.1,
            "count": 1
           }
          ],
          "max": "350.0",
          "min": "81.0",
          "nan_count": 0,
          "unique_count": 5
         }
        },
        {
         "dtype": "float64",
         "name": "horsepower",
         "stats": {
          "histogram": [
           {
            "bin_end": 70.5,
            "bin_start": 60,
            "count": 1
           },
           {
            "bin_end": 81,
            "bin_start": 70.5,
            "count": 2
           },
           {
            "bin_end": 91.5,
            "bin_start": 81,
            "count": 0
           },
           {
            "bin_end": 102,
            "bin_start": 91.5,
            "count": 1
           },
           {
            "bin_end": 112.5,
            "bin_start": 102,
            "count": 0
           },
           {
            "bin_end": 123,
            "bin_start": 112.5,
            "count": 0
           },
           {
            "bin_end": 133.5,
            "bin_start": 123,
            "count": 0
           },
           {
            "bin_end": 144,
            "bin_start": 133.5,
            "count": 0
           },
           {
            "bin_end": 154.5,
            "bin_start": 144,
            "count": 0
           },
           {
            "bin_end": 165,
            "bin_start": 154.5,
            "count": 1
           }
          ],
          "max": "165.0",
          "min": "60.0",
          "nan_count": 0,
          "unique_count": 5
         }
        },
        {
         "dtype": "int64",
         "name": "weight",
         "stats": {
          "histogram": [
           {
            "bin_end": 1953.3,
            "bin_start": 1760,
            "count": 1
           },
           {
            "bin_end": 2146.6,
            "bin_start": 1953.3,
            "count": 1
           },
           {
            "bin_end": 2339.9,
            "bin_start": 2146.6,
            "count": 1
           },
           {
            "bin_end": 2533.2,
            "bin_start": 2339.9,
            "count": 1
           },
           {
            "bin_end": 2726.5,
            "bin_start": 2533.2,
            "count": 0
           },
           {
            "bin_end": 2919.8,
            "bin_start": 2726.5,
            "count": 0
           },
           {
            "bin_end": 3113.1000000000004,
            "bin_start": 2919.8,
            "count": 0
           },
           {
            "bin_end": 3306.4,
            "bin_start": 3113.1000000000004,
            "count": 0
           },
           {
            "bin_end": 3499.7,
            "bin_start": 3306.4,
            "count": 0
           },
           {
            "bin_end": 3693,
            "bin_start": 3499.7,
            "count": 1
           }
          ],
          "max": "3693",
          "min": "1760",
          "nan_count": 0,
          "unique_count": 5
         }
        },
        {
         "dtype": "float64",
         "name": "acceleration",
         "stats": {
          "histogram": [
           {
            "bin_end": 11.96,
            "bin_start": 11.5,
            "count": 1
           },
           {
            "bin_end": 12.42,
            "bin_start": 11.96,
            "count": 0
           },
           {
            "bin_end": 12.88,
            "bin_start": 12.42,
            "count": 0
           },
           {
            "bin_end": 13.34,
            "bin_start": 12.88,
            "count": 0
           },
           {
            "bin_end": 13.8,
            "bin_start": 13.34,
            "count": 0
           },
           {
            "bin_end": 14.260000000000002,
            "bin_start": 13.8,
            "count": 1
           },
           {
            "bin_end": 14.72,
            "bin_start": 14.260000000000002,
            "count": 2
           },
           {
            "bin_end": 15.180000000000001,
            "bin_start": 14.72,
            "count": 0
           },
           {
            "bin_end": 15.64,
            "bin_start": 15.180000000000001,
            "count": 0
           },
           {
            "bin_end": 16.1,
            "bin_start": 15.64,
            "count": 1
           }
          ],
          "max": "16.1",
          "min": "11.5",
          "nan_count": 0,
          "unique_count": 4
         }
        },
        {
         "dtype": "int64",
         "name": "model_year",
         "stats": {
          "histogram": [
           {
            "bin_end": 71.1,
            "bin_start": 70,
            "count": 1
           },
           {
            "bin_end": 72.2,
            "bin_start": 71.1,
            "count": 1
           },
           {
            "bin_end": 73.3,
            "bin_start": 72.2,
            "count": 0
           },
           {
            "bin_end": 74.4,
            "bin_start": 73.3,
            "count": 1
           },
           {
            "bin_end": 75.5,
            "bin_start": 74.4,
            "count": 0
           },
           {
            "bin_end": 76.6,
            "bin_start": 75.5,
            "count": 0
           },
           {
            "bin_end": 77.7,
            "bin_start": 76.6,
            "count": 1
           },
           {
            "bin_end": 78.8,
            "bin_start": 77.7,
            "count": 0
           },
           {
            "bin_end": 79.9,
            "bin_start": 78.8,
            "count": 0
           },
           {
            "bin_end": 81,
            "bin_start": 79.9,
            "count": 1
           }
          ],
          "max": "81",
          "min": "70",
          "nan_count": 0,
          "unique_count": 5
         }
        },
        {
         "dtype": "object",
         "name": "origin",
         "stats": {
          "categories": [
           {
            "count": 2,
            "name": "usa"
           },
           {
            "count": 2,
            "name": "japan"
           },
           {
            "count": 1,
            "name": "europe"
           }
          ],
          "nan_count": 0,
          "unique_count": 3
         }
        },
        {
         "dtype": "object",
         "name": "name",
         "stats": {
          "categories": [
           {
            "count": 1,
            "name": "dodge colt"
           },
           {
            "count": 1,
            "name": "volkswagen dasher"
           },
           {
            "count": 3,
            "name": "3 others"
           }
          ],
          "nan_count": 0,
          "unique_count": 5
         }
        },
        {
         "dtype": "float64",
         "name": "origin_europe",
         "stats": {
          "histogram": [
           {
            "bin_end": 0.1,
            "bin_start": 0,
            "count": 4
           },
           {
            "bin_end": 0.2,
            "bin_start": 0.1,
            "count": 0
           },
           {
            "bin_end": 0.30000000000000004,
            "bin_start": 0.2,
            "count": 0
           },
           {
            "bin_end": 0.4,
            "bin_start": 0.30000000000000004,
            "count": 0
           },
           {
            "bin_end": 0.5,
            "bin_start": 0.4,
            "count": 0
           },
           {
            "bin_end": 0.6000000000000001,
            "bin_start": 0.5,
            "count": 0
           },
           {
            "bin_end": 0.7000000000000001,
            "bin_start": 0.6000000000000001,
            "count": 0
           },
           {
            "bin_end": 0.8,
            "bin_start": 0.7000000000000001,
            "count": 0
           },
           {
            "bin_end": 0.9,
            "bin_start": 0.8,
            "count": 0
           },
           {
            "bin_end": 1,
            "bin_start": 0.9,
            "count": 1
           }
          ],
          "max": "1.0",
          "min": "0.0",
          "nan_count": 0,
          "unique_count": 2
         }
        },
        {
         "dtype": "float64",
         "name": "origin_japan",
         "stats": {
          "histogram": [
           {
            "bin_end": 0.1,
            "bin_start": 0,
            "count": 3
           },
           {
            "bin_end": 0.2,
            "bin_start": 0.1,
            "count": 0
           },
           {
            "bin_end": 0.30000000000000004,
            "bin_start": 0.2,
            "count": 0
           },
           {
            "bin_end": 0.4,
            "bin_start": 0.30000000000000004,
            "count": 0
           },
           {
            "bin_end": 0.5,
            "bin_start": 0.4,
            "count": 0
           },
           {
            "bin_end": 0.6000000000000001,
            "bin_start": 0.5,
            "count": 0
           },
           {
            "bin_end": 0.7000000000000001,
            "bin_start": 0.6000000000000001,
            "count": 0
           },
           {
            "bin_end": 0.8,
            "bin_start": 0.7000000000000001,
            "count": 0
           },
           {
            "bin_end": 0.9,
            "bin_start": 0.8,
            "count": 0
           },
           {
            "bin_end": 1,
            "bin_start": 0.9,
            "count": 2
           }
          ],
          "max": "1.0",
          "min": "0.0",
          "nan_count": 0,
          "unique_count": 2
         }
        },
        {
         "dtype": "float64",
         "name": "origin_usa",
         "stats": {
          "histogram": [
           {
            "bin_end": 0.1,
            "bin_start": 0,
            "count": 3
           },
           {
            "bin_end": 0.2,
            "bin_start": 0.1,
            "count": 0
           },
           {
            "bin_end": 0.30000000000000004,
            "bin_start": 0.2,
            "count": 0
           },
           {
            "bin_end": 0.4,
            "bin_start": 0.30000000000000004,
            "count": 0
           },
           {
            "bin_end": 0.5,
            "bin_start": 0.4,
            "count": 0
           },
           {
            "bin_end": 0.6000000000000001,
            "bin_start": 0.5,
            "count": 0
           },
           {
            "bin_end": 0.7000000000000001,
            "bin_start": 0.6000000000000001,
            "count": 0
           },
           {
            "bin_end": 0.8,
            "bin_start": 0.7000000000000001,
            "count": 0
           },
           {
            "bin_end": 0.9,
            "bin_start": 0.8,
            "count": 0
           },
           {
            "bin_end": 1,
            "bin_start": 0.9,
            "count": 2
           }
          ],
          "max": "1.0",
          "min": "0.0",
          "nan_count": 0,
          "unique_count": 2
         }
        },
        {
         "dtype": "int64",
         "name": "_deepnote_index_column"
        }
       ],
       "row_count": 5,
       "rows": [
        {
         "_deepnote_index_column": "146",
         "acceleration": "14.5",
         "cylinders": "4",
         "displacement": "90.0",
         "horsepower": "75.0",
         "model_year": "74",
         "mpg": "28.0",
         "name": "dodge colt",
         "origin": "usa",
         "origin_europe": "0.0",
         "origin_japan": "0.0",
         "origin_usa": "1.0",
         "weight": "2125"
        },
        {
         "_deepnote_index_column": "240",
         "acceleration": "14.1",
         "cylinders": "4",
         "displacement": "97.0",
         "horsepower": "78.0",
         "model_year": "77",
         "mpg": "30.5",
         "name": "volkswagen dasher",
         "origin": "europe",
         "origin_europe": "1.0",
         "origin_japan": "0.0",
         "origin_usa": "0.0",
         "weight": "2190"
        },
        {
         "_deepnote_index_column": "82",
         "acceleration": "14.5",
         "cylinders": "4",
         "displacement": "120.0",
         "horsepower": "97.0",
         "model_year": "72",
         "mpg": "23.0",
         "name": "toyouta corona mark ii (sw)",
         "origin": "japan",
         "origin_europe": "0.0",
         "origin_japan": "1.0",
         "origin_usa": "0.0",
         "weight": "2506"
        },
        {
         "_deepnote_index_column": "1",
         "acceleration": "11.5",
         "cylinders": "8",
         "displacement": "350.0",
         "horsepower": "165.0",
         "model_year": "70",
         "mpg": "15.0",
         "name": "buick skylark 320",
         "origin": "usa",
         "origin_europe": "0.0",
         "origin_japan": "0.0",
         "origin_usa": "1.0",
         "weight": "3693"
        },
        {
         "_deepnote_index_column": "345",
         "acceleration": "16.1",
         "cylinders": "4",
         "displacement": "81.0",
         "horsepower": "60.0",
         "model_year": "81",
         "mpg": "35.1",
         "name": "honda civic 1300",
         "origin": "japan",
         "origin_europe": "0.0",
         "origin_japan": "1.0",
         "origin_usa": "0.0",
         "weight": "1760"
        }
       ]
      },
      "text/html": [
       "<div>\n",
       "<style scoped>\n",
       "    .dataframe tbody tr th:only-of-type {\n",
       "        vertical-align: middle;\n",
       "    }\n",
       "\n",
       "    .dataframe tbody tr th {\n",
       "        vertical-align: top;\n",
       "    }\n",
       "\n",
       "    .dataframe thead th {\n",
       "        text-align: right;\n",
       "    }\n",
       "</style>\n",
       "<table border=\"1\" class=\"dataframe\">\n",
       "  <thead>\n",
       "    <tr style=\"text-align: right;\">\n",
       "      <th></th>\n",
       "      <th>mpg</th>\n",
       "      <th>cylinders</th>\n",
       "      <th>displacement</th>\n",
       "      <th>horsepower</th>\n",
       "      <th>weight</th>\n",
       "      <th>acceleration</th>\n",
       "      <th>model_year</th>\n",
       "      <th>origin</th>\n",
       "      <th>name</th>\n",
       "      <th>origin_europe</th>\n",
       "      <th>origin_japan</th>\n",
       "      <th>origin_usa</th>\n",
       "    </tr>\n",
       "  </thead>\n",
       "  <tbody>\n",
       "    <tr>\n",
       "      <th>146</th>\n",
       "      <td>28.0</td>\n",
       "      <td>4</td>\n",
       "      <td>90.0</td>\n",
       "      <td>75.0</td>\n",
       "      <td>2125</td>\n",
       "      <td>14.5</td>\n",
       "      <td>74</td>\n",
       "      <td>usa</td>\n",
       "      <td>dodge colt</td>\n",
       "      <td>0.0</td>\n",
       "      <td>0.0</td>\n",
       "      <td>1.0</td>\n",
       "    </tr>\n",
       "    <tr>\n",
       "      <th>240</th>\n",
       "      <td>30.5</td>\n",
       "      <td>4</td>\n",
       "      <td>97.0</td>\n",
       "      <td>78.0</td>\n",
       "      <td>2190</td>\n",
       "      <td>14.1</td>\n",
       "      <td>77</td>\n",
       "      <td>europe</td>\n",
       "      <td>volkswagen dasher</td>\n",
       "      <td>1.0</td>\n",
       "      <td>0.0</td>\n",
       "      <td>0.0</td>\n",
       "    </tr>\n",
       "    <tr>\n",
       "      <th>82</th>\n",
       "      <td>23.0</td>\n",
       "      <td>4</td>\n",
       "      <td>120.0</td>\n",
       "      <td>97.0</td>\n",
       "      <td>2506</td>\n",
       "      <td>14.5</td>\n",
       "      <td>72</td>\n",
       "      <td>japan</td>\n",
       "      <td>toyouta corona mark ii (sw)</td>\n",
       "      <td>0.0</td>\n",
       "      <td>1.0</td>\n",
       "      <td>0.0</td>\n",
       "    </tr>\n",
       "    <tr>\n",
       "      <th>1</th>\n",
       "      <td>15.0</td>\n",
       "      <td>8</td>\n",
       "      <td>350.0</td>\n",
       "      <td>165.0</td>\n",
       "      <td>3693</td>\n",
       "      <td>11.5</td>\n",
       "      <td>70</td>\n",
       "      <td>usa</td>\n",
       "      <td>buick skylark 320</td>\n",
       "      <td>0.0</td>\n",
       "      <td>0.0</td>\n",
       "      <td>1.0</td>\n",
       "    </tr>\n",
       "    <tr>\n",
       "      <th>345</th>\n",
       "      <td>35.1</td>\n",
       "      <td>4</td>\n",
       "      <td>81.0</td>\n",
       "      <td>60.0</td>\n",
       "      <td>1760</td>\n",
       "      <td>16.1</td>\n",
       "      <td>81</td>\n",
       "      <td>japan</td>\n",
       "      <td>honda civic 1300</td>\n",
       "      <td>0.0</td>\n",
       "      <td>1.0</td>\n",
       "      <td>0.0</td>\n",
       "    </tr>\n",
       "  </tbody>\n",
       "</table>\n",
       "</div>"
      ],
      "text/plain": [
       "      mpg  cylinders  displacement  horsepower  weight  acceleration  \\\n",
       "146  28.0          4          90.0        75.0    2125          14.5   \n",
       "240  30.5          4          97.0        78.0    2190          14.1   \n",
       "82   23.0          4         120.0        97.0    2506          14.5   \n",
       "1    15.0          8         350.0       165.0    3693          11.5   \n",
       "345  35.1          4          81.0        60.0    1760          16.1   \n",
       "\n",
       "     model_year  origin                         name  origin_europe  \\\n",
       "146          74     usa                   dodge colt            0.0   \n",
       "240          77  europe            volkswagen dasher            1.0   \n",
       "82           72   japan  toyouta corona mark ii (sw)            0.0   \n",
       "1            70     usa            buick skylark 320            0.0   \n",
       "345          81   japan             honda civic 1300            0.0   \n",
       "\n",
       "     origin_japan  origin_usa  \n",
       "146           0.0         1.0  \n",
       "240           0.0         0.0  \n",
       "82            1.0         0.0  \n",
       "1             0.0         1.0  \n",
       "345           1.0         0.0  "
      ]
     },
     "execution_count": 30,
     "metadata": {},
     "output_type": "execute_result"
    }
   ],
   "source": [
    "df2.sample(5, random_state=12)"
   ]
  },
  {
   "cell_type": "markdown",
   "metadata": {
    "cell_id": "7a6c3616426e4f139406e30bec7adb17",
    "deepnote_cell_type": "code",
    "tags": []
   },
   "source": [
    "I think that on Wednesday we'll perform linear regression to predict the miles-per-gallon of a car using these new columns as well as our `cols` list of columns from before."
   ]
  }
 ],
 "metadata": {
  "deepnote": {},
  "deepnote_execution_queue": [],
  "deepnote_notebook_id": "0a1daefe257849c4a8f37f12fe729ebc",
  "deepnote_persisted_session": {
   "createdAt": "2022-11-07T19:30:27.813Z"
  },
  "kernelspec": {
   "display_name": "Python 3 (ipykernel)",
   "language": "python",
   "name": "python3"
  },
  "language_info": {
   "codemirror_mode": {
    "name": "ipython",
    "version": 3
   },
   "file_extension": ".py",
   "mimetype": "text/x-python",
   "name": "python",
   "nbconvert_exporter": "python",
   "pygments_lexer": "ipython3",
   "version": "3.9.13"
  }
 },
 "nbformat": 4,
 "nbformat_minor": 4
}
