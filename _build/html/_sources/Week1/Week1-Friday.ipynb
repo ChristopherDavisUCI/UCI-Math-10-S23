{
 "cells": [
  {
   "cell_type": "markdown",
   "metadata": {
    "cell_id": "18ccf278bbcd4a86a0e04d8787aaa344",
    "deepnote_cell_type": "markdown",
    "tags": []
   },
   "source": [
    "# Week 1 Friday"
   ]
  },
  {
   "cell_type": "markdown",
   "metadata": {
    "cell_id": "c24c958ce83546f2b64e4f2f4788b454",
    "deepnote_cell_type": "markdown",
    "tags": []
   },
   "source": [
    "## Announcements\n",
    "\n",
    "* Videos and video quizzes due now.  Submit the quizzes sometime this weekend if you haven't finished them yet.\n",
    "* Our first in-class quiz is Tuesday during discussion section.  It is based on the material up to and including Worksheet 2 (especially Boolean indexing and the `str` and `dt` accessor attributes)."
   ]
  },
  {
   "cell_type": "markdown",
   "metadata": {
    "cell_id": "fe47925e07c34f028867689dd70397a6",
    "deepnote_cell_type": "markdown",
    "tags": []
   },
   "source": [
    "## Warm-up\n",
    "\n",
    "One more class with the vending machines dataset.  We'll use a different dataset on Monday."
   ]
  },
  {
   "cell_type": "code",
   "execution_count": 3,
   "metadata": {
    "cell_id": "b81cf8a9579f425f8b2d91e2e37c707d",
    "deepnote_cell_type": "code",
    "deepnote_to_be_reexecuted": false,
    "execution_millis": 1,
    "execution_start": 1664557305859,
    "source_hash": "9b82ee11",
    "tags": []
   },
   "outputs": [],
   "source": [
    "import pandas as pd"
   ]
  },
  {
   "cell_type": "code",
   "execution_count": 4,
   "metadata": {
    "cell_id": "d319feef77764ec0956ee4a4d84ee631",
    "deepnote_cell_type": "code",
    "deepnote_to_be_reexecuted": false,
    "execution_millis": 59,
    "execution_start": 1664557308596,
    "source_hash": "eb0e25b2",
    "tags": []
   },
   "outputs": [],
   "source": [
    "df = pd.read_csv(\"vend.csv\")\n",
    "date_series = df[\"TransDate\"]"
   ]
  },
  {
   "cell_type": "code",
   "execution_count": 5,
   "metadata": {
    "cell_id": "b2671b645419411590cd8f4bc2af5773",
    "deepnote_cell_type": "code",
    "deepnote_to_be_reexecuted": false,
    "execution_millis": 3,
    "execution_start": 1664557331506,
    "source_hash": "ed9eb5eb",
    "tags": []
   },
   "outputs": [
    {
     "data": {
      "text/plain": [
       "0        Saturday, January 1, 2022\n",
       "1        Saturday, January 1, 2022\n",
       "2        Saturday, January 1, 2022\n",
       "3        Saturday, January 1, 2022\n",
       "4        Saturday, January 1, 2022\n",
       "                   ...            \n",
       "6440    Wednesday, August 31, 2022\n",
       "6441    Wednesday, August 31, 2022\n",
       "6442    Wednesday, August 31, 2022\n",
       "6443    Wednesday, August 31, 2022\n",
       "6444    Wednesday, August 31, 2022\n",
       "Name: TransDate, Length: 6445, dtype: object"
      ]
     },
     "execution_count": 5,
     "metadata": {},
     "output_type": "execute_result"
    }
   ],
   "source": [
    "date_series"
   ]
  },
  {
   "cell_type": "markdown",
   "metadata": {
    "cell_id": "34a589f3a4004723a09662dd9a4c3936",
    "deepnote_cell_type": "markdown",
    "tags": []
   },
   "source": [
    "List each transaction date that corresponds to \"Monday\" in the DataFrame.  Don't list the same date twice.  Use the following strategies."
   ]
  },
  {
   "cell_type": "markdown",
   "metadata": {
    "cell_id": "273c95475839422dbd3d2e742b2596e0",
    "deepnote_cell_type": "markdown",
    "tags": []
   },
   "source": [
    "* Use `find`, as on Worksheet 2.  (This approach was given on the Worksheet for practice, but I think you'll agree that the other two approaches given here feel more natural.  The `find` approach is most useful if we care about *where* the substring occurs.)"
   ]
  },
  {
   "cell_type": "markdown",
   "metadata": {},
   "source": [
    "It's good to be able to recognize the following error.  What do we need to add, so that there is a `find` attribute?"
   ]
  },
  {
   "cell_type": "code",
   "execution_count": 6,
   "metadata": {
    "cell_id": "01685181797e4abf9a4bb3f4e0f90b8c",
    "deepnote_cell_type": "code",
    "deepnote_to_be_reexecuted": false,
    "execution_millis": 1949,
    "execution_start": 1664557414442,
    "source_hash": "f5015848",
    "tags": []
   },
   "outputs": [
    {
     "ename": "AttributeError",
     "evalue": "'Series' object has no attribute 'find'",
     "output_type": "error",
     "traceback": [
      "\u001b[0;31m---------------------------------------------------------------------------\u001b[0m",
      "\u001b[0;31mAttributeError\u001b[0m                            Traceback (most recent call last)",
      "Cell \u001b[0;32mIn [6], line 1\u001b[0m\n\u001b[0;32m----> 1\u001b[0m \u001b[43mdate_series\u001b[49m\u001b[38;5;241;43m.\u001b[39;49m\u001b[43mfind\u001b[49m(\u001b[38;5;124m\"\u001b[39m\u001b[38;5;124mMonday\u001b[39m\u001b[38;5;124m\"\u001b[39m)\n",
      "File \u001b[0;32m/shared-libs/python3.9/py/lib/python3.9/site-packages/pandas/core/generic.py:5465\u001b[0m, in \u001b[0;36mNDFrame.__getattr__\u001b[0;34m(self, name)\u001b[0m\n\u001b[1;32m   5463\u001b[0m \u001b[38;5;28;01mif\u001b[39;00m \u001b[38;5;28mself\u001b[39m\u001b[38;5;241m.\u001b[39m_info_axis\u001b[38;5;241m.\u001b[39m_can_hold_identifiers_and_holds_name(name):\n\u001b[1;32m   5464\u001b[0m     \u001b[38;5;28;01mreturn\u001b[39;00m \u001b[38;5;28mself\u001b[39m[name]\n\u001b[0;32m-> 5465\u001b[0m \u001b[38;5;28;01mreturn\u001b[39;00m \u001b[38;5;28;43mobject\u001b[39;49m\u001b[38;5;241;43m.\u001b[39;49m\u001b[38;5;21;43m__getattribute__\u001b[39;49m\u001b[43m(\u001b[49m\u001b[38;5;28;43mself\u001b[39;49m\u001b[43m,\u001b[49m\u001b[43m \u001b[49m\u001b[43mname\u001b[49m\u001b[43m)\u001b[49m\n",
      "\u001b[0;31mAttributeError\u001b[0m: 'Series' object has no attribute 'find'"
     ]
    }
   ],
   "source": [
    "date_series.find(\"Monday\")"
   ]
  },
  {
   "cell_type": "markdown",
   "metadata": {},
   "source": [
    "We need to add the `str` string accessor attribute between the pandas Series and the `find` method."
   ]
  },
  {
   "cell_type": "code",
   "execution_count": 9,
   "metadata": {
    "cell_id": "284b2031756f4baa87f60adf282a778f",
    "deepnote_cell_type": "code",
    "deepnote_to_be_reexecuted": false,
    "execution_millis": 5,
    "execution_start": 1664557558232,
    "source_hash": "b11508aa",
    "tags": []
   },
   "outputs": [
    {
     "data": {
      "text/plain": [
       "0      -1\n",
       "1      -1\n",
       "2      -1\n",
       "3      -1\n",
       "4      -1\n",
       "       ..\n",
       "6440   -1\n",
       "6441   -1\n",
       "6442   -1\n",
       "6443   -1\n",
       "6444   -1\n",
       "Name: TransDate, Length: 6445, dtype: int64"
      ]
     },
     "execution_count": 9,
     "metadata": {},
     "output_type": "execute_result"
    }
   ],
   "source": [
    "date_series.str.find(\"Monday\")"
   ]
  },
  {
   "cell_type": "markdown",
   "metadata": {},
   "source": [
    "Recall that `-1` in this case means \"not found\".  We are interested in the positions where \"Monday\" *is* found, so we want to check that the value is *not* equal to `-1`.  This is a little indirect, and the below methods will feel more natural."
   ]
  },
  {
   "cell_type": "code",
   "execution_count": 8,
   "metadata": {
    "cell_id": "b5bffe31ae9a40eb9b16318aa94a664d",
    "deepnote_cell_type": "code",
    "deepnote_to_be_reexecuted": false,
    "execution_millis": 859,
    "execution_start": 1664557549415,
    "source_hash": "7f6f5ac2",
    "tags": []
   },
   "outputs": [
    {
     "data": {
      "text/plain": [
       "0       False\n",
       "1       False\n",
       "2       False\n",
       "3       False\n",
       "4       False\n",
       "        ...  \n",
       "6440    False\n",
       "6441    False\n",
       "6442    False\n",
       "6443    False\n",
       "6444    False\n",
       "Name: TransDate, Length: 6445, dtype: bool"
      ]
     },
     "execution_count": 8,
     "metadata": {},
     "output_type": "execute_result"
    }
   ],
   "source": [
    "date_series.str.find(\"Monday\") != -1"
   ]
  },
  {
   "cell_type": "markdown",
   "metadata": {},
   "source": [
    "The above is an example of a \"Boolean Series\".  We now perform \"Boolean indexing\" using that Series.  This keeps all the rows in `df` where `True` occurs in the Series."
   ]
  },
  {
   "cell_type": "code",
   "execution_count": 10,
   "metadata": {
    "cell_id": "74b8cbaceebe43f2939b5b5d4699e9c7",
    "deepnote_cell_type": "code",
    "deepnote_to_be_reexecuted": false,
    "execution_millis": 63,
    "execution_start": 1664557609158,
    "source_hash": "bf13d373",
    "tags": [
     "output_scroll"
    ]
   },
   "outputs": [
    {
     "data": {
      "application/vnd.deepnote.dataframe.v3+json": {
       "column_count": 18,
       "columns": [
        {
         "dtype": "object",
         "name": "Status",
         "stats": {
          "categories": [
           {
            "count": 1023,
            "name": "Processed"
           }
          ],
          "nan_count": 0,
          "unique_count": 1
         }
        },
        {
         "dtype": "object",
         "name": "Device ID",
         "stats": {
          "categories": [
           {
            "count": 378,
            "name": "VJ300320609"
           },
           {
            "count": 333,
            "name": "VJ300320692"
           },
           {
            "count": 312,
            "name": "3 others"
           }
          ],
          "nan_count": 0,
          "unique_count": 5
         }
        },
        {
         "dtype": "object",
         "name": "Location",
         "stats": {
          "categories": [
           {
            "count": 378,
            "name": "GuttenPlans"
           },
           {
            "count": 333,
            "name": "EB Public Library"
           },
           {
            "count": 312,
            "name": "2 others"
           }
          ],
          "nan_count": 0,
          "unique_count": 4
         }
        },
        {
         "dtype": "object",
         "name": "Machine",
         "stats": {
          "categories": [
           {
            "count": 378,
            "name": "GuttenPlans x1367"
           },
           {
            "count": 333,
            "name": "EB Public Library x1380"
           },
           {
            "count": 312,
            "name": "3 others"
           }
          ],
          "nan_count": 0,
          "unique_count": 5
         }
        },
        {
         "dtype": "object",
         "name": "Product",
         "stats": {
          "categories": [
           {
            "count": 91,
            "name": "Coca Cola - Zero Sugar"
           },
           {
            "count": 53,
            "name": "Poland Springs Water"
           },
           {
            "count": 879,
            "name": "137 others"
           }
          ],
          "nan_count": 0,
          "unique_count": 139
         }
        },
        {
         "dtype": "object",
         "name": "Category",
         "stats": {
          "categories": [
           {
            "count": 551,
            "name": "Food"
           },
           {
            "count": 449,
            "name": "3 others"
           },
           {
            "count": 23,
            "name": "Missing"
           }
          ],
          "nan_count": 23,
          "unique_count": 4
         }
        },
        {
         "dtype": "int64",
         "name": "Transaction",
         "stats": {
          "histogram": [
           {
            "bin_end": 14626411501,
            "bin_start": 14518731524,
            "count": 58
           },
           {
            "bin_end": 14734091478,
            "bin_start": 14626411501,
            "count": 87
           },
           {
            "bin_end": 14841771455,
            "bin_start": 14734091478,
            "count": 46
           },
           {
            "bin_end": 14949451432,
            "bin_start": 14841771455,
            "count": 101
           },
           {
            "bin_end": 15057131409,
            "bin_start": 14949451432,
            "count": 152
           },
           {
            "bin_end": 15164811386,
            "bin_start": 15057131409,
            "count": 94
           },
           {
            "bin_end": 15272491363,
            "bin_start": 15164811386,
            "count": 86
           },
           {
            "bin_end": 15380171340,
            "bin_start": 15272491363,
            "count": 143
           },
           {
            "bin_end": 15487851317,
            "bin_start": 15380171340,
            "count": 101
           },
           {
            "bin_end": 15595531294,
            "bin_start": 15487851317,
            "count": 155
           }
          ],
          "max": "15595531294",
          "min": "14518731524",
          "nan_count": 0,
          "unique_count": 966
         }
        },
        {
         "dtype": "object",
         "name": "TransDate",
         "stats": {
          "categories": [
           {
            "count": 52,
            "name": "Monday, June 27, 2022"
           },
           {
            "count": 51,
            "name": "Monday, July 11, 2022"
           },
           {
            "count": 920,
            "name": "33 others"
           }
          ],
          "nan_count": 0,
          "unique_count": 35
         }
        },
        {
         "dtype": "object",
         "name": "Type",
         "stats": {
          "categories": [
           {
            "count": 671,
            "name": "Cash"
           },
           {
            "count": 352,
            "name": "Credit"
           }
          ],
          "nan_count": 0,
          "unique_count": 2
         }
        },
        {
         "dtype": "int64",
         "name": "RCoil",
         "stats": {
          "histogram": [
           {
            "bin_end": 115.5,
            "bin_start": 110,
            "count": 158
           },
           {
            "bin_end": 121,
            "bin_start": 115.5,
            "count": 25
           },
           {
            "bin_end": 126.5,
            "bin_start": 121,
            "count": 153
           },
           {
            "bin_end": 132,
            "bin_start": 126.5,
            "count": 27
           },
           {
            "bin_end": 137.5,
            "bin_start": 132,
            "count": 121
           },
           {
            "bin_end": 143,
            "bin_start": 137.5,
            "count": 254
           },
           {
            "bin_end": 148.5,
            "bin_start": 143,
            "count": 254
           },
           {
            "bin_end": 154,
            "bin_start": 148.5,
            "count": 12
           },
           {
            "bin_end": 159.5,
            "bin_start": 154,
            "count": 14
           },
           {
            "bin_end": 165,
            "bin_start": 159.5,
            "count": 5
           }
          ],
          "max": "165",
          "min": "110",
          "nan_count": 0,
          "unique_count": 42
         }
        },
        {
         "dtype": "float64",
         "name": "RPrice",
         "stats": {
          "histogram": [
           {
            "bin_end": 1.4,
            "bin_start": 1,
            "count": 105
           },
           {
            "bin_end": 1.8,
            "bin_start": 1.4,
            "count": 462
           },
           {
            "bin_end": 2.2,
            "bin_start": 1.8,
            "count": 205
           },
           {
            "bin_end": 2.6,
            "bin_start": 2.2,
            "count": 98
           },
           {
            "bin_end": 3,
            "bin_start": 2.6,
            "count": 26
           },
           {
            "bin_end": 3.4000000000000004,
            "bin_start": 3,
            "count": 75
           },
           {
            "bin_end": 3.8000000000000003,
            "bin_start": 3.4000000000000004,
            "count": 35
           },
           {
            "bin_end": 4.2,
            "bin_start": 3.8000000000000003,
            "count": 14
           },
           {
            "bin_end": 4.6,
            "bin_start": 4.2,
            "count": 1
           },
           {
            "bin_end": 5,
            "bin_start": 4.6,
            "count": 2
           }
          ],
          "max": "5.0",
          "min": "1.0",
          "nan_count": 0,
          "unique_count": 14
         }
        },
        {
         "dtype": "int64",
         "name": "RQty",
         "stats": {
          "histogram": [
           {
            "bin_end": 1.2,
            "bin_start": 1,
            "count": 1006
           },
           {
            "bin_end": 1.4,
            "bin_start": 1.2,
            "count": 0
           },
           {
            "bin_end": 1.6,
            "bin_start": 1.4,
            "count": 0
           },
           {
            "bin_end": 1.8,
            "bin_start": 1.6,
            "count": 0
           },
           {
            "bin_end": 2,
            "bin_start": 1.8,
            "count": 0
           },
           {
            "bin_end": 2.2,
            "bin_start": 2,
            "count": 15
           },
           {
            "bin_end": 2.4000000000000004,
            "bin_start": 2.2,
            "count": 0
           },
           {
            "bin_end": 2.6,
            "bin_start": 2.4000000000000004,
            "count": 0
           },
           {
            "bin_end": 2.8,
            "bin_start": 2.6,
            "count": 0
           },
           {
            "bin_end": 3,
            "bin_start": 2.8,
            "count": 2
           }
          ],
          "max": "3",
          "min": "1",
          "nan_count": 0,
          "unique_count": 3
         }
        },
        {
         "dtype": "int64",
         "name": "MCoil",
         "stats": {
          "histogram": [
           {
            "bin_end": 115.5,
            "bin_start": 110,
            "count": 158
           },
           {
            "bin_end": 121,
            "bin_start": 115.5,
            "count": 25
           },
           {
            "bin_end": 126.5,
            "bin_start": 121,
            "count": 153
           },
           {
            "bin_end": 132,
            "bin_start": 126.5,
            "count": 27
           },
           {
            "bin_end": 137.5,
            "bin_start": 132,
            "count": 121
           },
           {
            "bin_end": 143,
            "bin_start": 137.5,
            "count": 254
           },
           {
            "bin_end": 148.5,
            "bin_start": 143,
            "count": 254
           },
           {
            "bin_end": 154,
            "bin_start": 148.5,
            "count": 12
           },
           {
            "bin_end": 159.5,
            "bin_start": 154,
            "count": 14
           },
           {
            "bin_end": 165,
            "bin_start": 159.5,
            "count": 5
           }
          ],
          "max": "165",
          "min": "110",
          "nan_count": 0,
          "unique_count": 42
         }
        },
        {
         "dtype": "float64",
         "name": "MPrice",
         "stats": {
          "histogram": [
           {
            "bin_end": 1.4,
            "bin_start": 1,
            "count": 105
           },
           {
            "bin_end": 1.8,
            "bin_start": 1.4,
            "count": 462
           },
           {
            "bin_end": 2.2,
            "bin_start": 1.8,
            "count": 205
           },
           {
            "bin_end": 2.6,
            "bin_start": 2.2,
            "count": 98
           },
           {
            "bin_end": 3,
            "bin_start": 2.6,
            "count": 26
           },
           {
            "bin_end": 3.4000000000000004,
            "bin_start": 3,
            "count": 75
           },
           {
            "bin_end": 3.8000000000000003,
            "bin_start": 3.4000000000000004,
            "count": 35
           },
           {
            "bin_end": 4.2,
            "bin_start": 3.8000000000000003,
            "count": 14
           },
           {
            "bin_end": 4.6,
            "bin_start": 4.2,
            "count": 1
           },
           {
            "bin_end": 5,
            "bin_start": 4.6,
            "count": 2
           }
          ],
          "max": "5.0",
          "min": "1.0",
          "nan_count": 0,
          "unique_count": 14
         }
        },
        {
         "dtype": "int64",
         "name": "MQty",
         "stats": {
          "histogram": [
           {
            "bin_end": 1.2,
            "bin_start": 1,
            "count": 1006
           },
           {
            "bin_end": 1.4,
            "bin_start": 1.2,
            "count": 0
           },
           {
            "bin_end": 1.6,
            "bin_start": 1.4,
            "count": 0
           },
           {
            "bin_end": 1.8,
            "bin_start": 1.6,
            "count": 0
           },
           {
            "bin_end": 2,
            "bin_start": 1.8,
            "count": 0
           },
           {
            "bin_end": 2.2,
            "bin_start": 2,
            "count": 15
           },
           {
            "bin_end": 2.4000000000000004,
            "bin_start": 2.2,
            "count": 0
           },
           {
            "bin_end": 2.6,
            "bin_start": 2.4000000000000004,
            "count": 0
           },
           {
            "bin_end": 2.8,
            "bin_start": 2.6,
            "count": 0
           },
           {
            "bin_end": 3,
            "bin_start": 2.8,
            "count": 2
           }
          ],
          "max": "3",
          "min": "1",
          "nan_count": 0,
          "unique_count": 3
         }
        },
        {
         "dtype": "float64",
         "name": "LineTotal",
         "stats": {
          "histogram": [
           {
            "bin_end": 1.4,
            "bin_start": 1,
            "count": 104
           },
           {
            "bin_end": 1.8,
            "bin_start": 1.4,
            "count": 449
           },
           {
            "bin_end": 2.2,
            "bin_start": 1.8,
            "count": 203
           },
           {
            "bin_end": 2.6,
            "bin_start": 2.2,
            "count": 98
           },
           {
            "bin_end": 3,
            "bin_start": 2.6,
            "count": 26
           },
           {
            "bin_end": 3.4000000000000004,
            "bin_start": 3,
            "count": 86
           },
           {
            "bin_end": 3.8000000000000003,
            "bin_start": 3.4000000000000004,
            "count": 35
           },
           {
            "bin_end": 4.2,
            "bin_start": 3.8000000000000003,
            "count": 16
           },
           {
            "bin_end": 4.6,
            "bin_start": 4.2,
            "count": 3
           },
           {
            "bin_end": 5,
            "bin_start": 4.6,
            "count": 3
           }
          ],
          "max": "5.0",
          "min": "1.0",
          "nan_count": 0,
          "unique_count": 14
         }
        },
        {
         "dtype": "float64",
         "name": "TransTotal",
         "stats": {
          "histogram": [
           {
            "bin_end": 1.55,
            "bin_start": 1,
            "count": 498
           },
           {
            "bin_end": 2.1,
            "bin_start": 1.55,
            "count": 183
           },
           {
            "bin_end": 2.6500000000000004,
            "bin_start": 2.1,
            "count": 82
           },
           {
            "bin_end": 3.2,
            "bin_start": 2.6500000000000004,
            "count": 122
           },
           {
            "bin_end": 3.75,
            "bin_start": 3.2,
            "count": 46
           },
           {
            "bin_end": 4.300000000000001,
            "bin_start": 3.75,
            "count": 32
           },
           {
            "bin_end": 4.8500000000000005,
            "bin_start": 4.300000000000001,
            "count": 15
           },
           {
            "bin_end": 5.4,
            "bin_start": 4.8500000000000005,
            "count": 16
           },
           {
            "bin_end": 5.95,
            "bin_start": 5.4,
            "count": 10
           },
           {
            "bin_end": 6.5,
            "bin_start": 5.95,
            "count": 19
           }
          ],
          "max": "6.5",
          "min": "1.0",
          "nan_count": 0,
          "unique_count": 19
         }
        },
        {
         "dtype": "object",
         "name": "Prcd Date",
         "stats": {
          "categories": [
           {
            "count": 51,
            "name": "7/11/2022"
           },
           {
            "count": 46,
            "name": "6/13/2022"
           },
           {
            "count": 926,
            "name": "55 others"
           }
          ],
          "nan_count": 0,
          "unique_count": 57
         }
        },
        {
         "dtype": "int64",
         "name": "_deepnote_index_column"
        }
       ],
       "row_count": 1023,
       "rows": [
        {
         "Category": "Food",
         "Device ID": "VJ300205292",
         "LineTotal": "1.5",
         "Location": "Brunswick Sq Mall",
         "MCoil": "114",
         "MPrice": "1.5",
         "MQty": "1",
         "Machine": "BSQ Mall x1364 - Zales",
         "Prcd Date": "1/2/2022",
         "Product": "Miss Vickie's Potato Chip - Sea Salt & Vinega",
         "RCoil": "114",
         "RPrice": "1.5",
         "RQty": "1",
         "Status": "Processed",
         "TransDate": "Monday, January 3, 2022",
         "TransTotal": "1.5",
         "Transaction": "14518731524",
         "Type": "Cash",
         "_deepnote_index_column": "6"
        },
        {
         "Category": "Food",
         "Device ID": "VJ300320686",
         "LineTotal": "1.5",
         "Location": "Earle Asphalt",
         "MCoil": "110",
         "MPrice": "1.5",
         "MQty": "1",
         "Machine": "Earle Asphalt x1371",
         "Prcd Date": "1/3/2022",
         "Product": "Miss Vickie's Potato Chip - Lime & Cracked Pe",
         "RCoil": "110",
         "RPrice": "1.5",
         "RQty": "1",
         "Status": "Processed",
         "TransDate": "Monday, January 3, 2022",
         "TransTotal": "1.5",
         "Transaction": "14519162059",
         "Type": "Credit",
         "_deepnote_index_column": "7"
        },
        {
         "Category": "Carbonated",
         "Device ID": "VJ300320609",
         "LineTotal": "3.0",
         "Location": "GuttenPlans",
         "MCoil": "144",
         "MPrice": "3.0",
         "MQty": "1",
         "Machine": "GuttenPlans x1367",
         "Prcd Date": "1/3/2022",
         "Product": "Monster Energy Original",
         "RCoil": "144",
         "RPrice": "3.0",
         "RQty": "1",
         "Status": "Processed",
         "TransDate": "Monday, January 3, 2022",
         "TransTotal": "3.0",
         "Transaction": "14519670154",
         "Type": "Credit",
         "_deepnote_index_column": "8"
        },
        {
         "Category": "Food",
         "Device ID": "VJ300320686",
         "LineTotal": "2.5",
         "Location": "Earle Asphalt",
         "MCoil": "134",
         "MPrice": "2.5",
         "MQty": "1",
         "Machine": "Earle Asphalt x1371",
         "Prcd Date": "1/3/2022",
         "Product": "Seapoint Farms Dry Roasted Edamame - Wasabi",
         "RCoil": "134",
         "RPrice": "2.5",
         "RQty": "1",
         "Status": "Processed",
         "TransDate": "Monday, January 3, 2022",
         "TransTotal": "2.5",
         "Transaction": "14520315330",
         "Type": "Credit",
         "_deepnote_index_column": "9"
        },
        {
         "Category": "Non Carbonated",
         "Device ID": "VJ300320609",
         "LineTotal": "2.5",
         "Location": "GuttenPlans",
         "MCoil": "143",
         "MPrice": "2.5",
         "MQty": "1",
         "Machine": "GuttenPlans x1367",
         "Prcd Date": "1/3/2022",
         "Product": "Snapple Diet Tea - Lemon",
         "RCoil": "143",
         "RPrice": "2.5",
         "RQty": "1",
         "Status": "Processed",
         "TransDate": "Monday, January 3, 2022",
         "TransTotal": "2.5",
         "Transaction": "14520522827",
         "Type": "Cash",
         "_deepnote_index_column": "10"
        },
        {
         "Category": "Food",
         "Device ID": "VJ300320609",
         "LineTotal": "1.5",
         "Location": "GuttenPlans",
         "MCoil": "111",
         "MPrice": "1.5",
         "MQty": "1",
         "Machine": "GuttenPlans x1367",
         "Prcd Date": "1/3/2022",
         "Product": "Skinny Pop Popcorn",
         "RCoil": "111",
         "RPrice": "1.5",
         "RQty": "1",
         "Status": "Processed",
         "TransDate": "Monday, January 3, 2022",
         "TransTotal": "1.5",
         "Transaction": "14520523909",
         "Type": "Cash",
         "_deepnote_index_column": "11"
        },
        {
         "Category": "Food",
         "Device ID": "VJ300320609",
         "LineTotal": "1.0",
         "Location": "GuttenPlans",
         "MCoil": "131",
         "MPrice": "1.0",
         "MQty": "1",
         "Machine": "GuttenPlans x1367",
         "Prcd Date": "1/3/2022",
         "Product": "Stretch Island Fruit Leathers Snacks - Variet",
         "RCoil": "131",
         "RPrice": "1.0",
         "RQty": "1",
         "Status": "Processed",
         "TransDate": "Monday, January 3, 2022",
         "TransTotal": "1.0",
         "Transaction": "14520526471",
         "Type": "Cash",
         "_deepnote_index_column": "12"
        },
        {
         "Category": "Food",
         "Device ID": "VJ300320686",
         "LineTotal": "1.75",
         "Location": "Earle Asphalt",
         "MCoil": "136",
         "MPrice": "1.75",
         "MQty": "1",
         "Machine": "Earle Asphalt x1371",
         "Prcd Date": "1/3/2022",
         "Product": "KitKat - Crisp Wafers",
         "RCoil": "136",
         "RPrice": "1.75",
         "RQty": "1",
         "Status": "Processed",
         "TransDate": "Monday, January 3, 2022",
         "TransTotal": "1.75",
         "Transaction": "14520549978",
         "Type": "Credit",
         "_deepnote_index_column": "13"
        },
        {
         "Category": "Food",
         "Device ID": "VJ300320609",
         "LineTotal": "1.5",
         "Location": "GuttenPlans",
         "MCoil": "111",
         "MPrice": "1.5",
         "MQty": "1",
         "Machine": "GuttenPlans x1367",
         "Prcd Date": "1/3/2022",
         "Product": "Skinny Pop Popcorn",
         "RCoil": "111",
         "RPrice": "1.5",
         "RQty": "1",
         "Status": "Processed",
         "TransDate": "Monday, January 3, 2022",
         "TransTotal": "1.5",
         "Transaction": "14520565434",
         "Type": "Cash",
         "_deepnote_index_column": "14"
        },
        {
         "Category": "Food",
         "Device ID": "VJ300320686",
         "LineTotal": "2.0",
         "Location": "Earle Asphalt",
         "MCoil": "132",
         "MPrice": "2.0",
         "MQty": "1",
         "Machine": "Earle Asphalt x1371",
         "Prcd Date": "1/3/2022",
         "Product": "Wonderful Pistachios - Variety",
         "RCoil": "132",
         "RPrice": "2.0",
         "RQty": "1",
         "Status": "Processed",
         "TransDate": "Monday, January 3, 2022",
         "TransTotal": "2.0",
         "Transaction": "14520852487",
         "Type": "Cash",
         "_deepnote_index_column": "15"
        }
       ]
      },
      "text/html": [
       "<div>\n",
       "<style scoped>\n",
       "    .dataframe tbody tr th:only-of-type {\n",
       "        vertical-align: middle;\n",
       "    }\n",
       "\n",
       "    .dataframe tbody tr th {\n",
       "        vertical-align: top;\n",
       "    }\n",
       "\n",
       "    .dataframe thead th {\n",
       "        text-align: right;\n",
       "    }\n",
       "</style>\n",
       "<table border=\"1\" class=\"dataframe\">\n",
       "  <thead>\n",
       "    <tr style=\"text-align: right;\">\n",
       "      <th></th>\n",
       "      <th>Status</th>\n",
       "      <th>Device ID</th>\n",
       "      <th>Location</th>\n",
       "      <th>Machine</th>\n",
       "      <th>Product</th>\n",
       "      <th>Category</th>\n",
       "      <th>Transaction</th>\n",
       "      <th>TransDate</th>\n",
       "      <th>Type</th>\n",
       "      <th>RCoil</th>\n",
       "      <th>RPrice</th>\n",
       "      <th>RQty</th>\n",
       "      <th>MCoil</th>\n",
       "      <th>MPrice</th>\n",
       "      <th>MQty</th>\n",
       "      <th>LineTotal</th>\n",
       "      <th>TransTotal</th>\n",
       "      <th>Prcd Date</th>\n",
       "    </tr>\n",
       "  </thead>\n",
       "  <tbody>\n",
       "    <tr>\n",
       "      <th>6</th>\n",
       "      <td>Processed</td>\n",
       "      <td>VJ300205292</td>\n",
       "      <td>Brunswick Sq Mall</td>\n",
       "      <td>BSQ Mall x1364 - Zales</td>\n",
       "      <td>Miss Vickie's Potato Chip - Sea Salt &amp; Vinega</td>\n",
       "      <td>Food</td>\n",
       "      <td>14518731524</td>\n",
       "      <td>Monday, January 3, 2022</td>\n",
       "      <td>Cash</td>\n",
       "      <td>114</td>\n",
       "      <td>1.5</td>\n",
       "      <td>1</td>\n",
       "      <td>114</td>\n",
       "      <td>1.5</td>\n",
       "      <td>1</td>\n",
       "      <td>1.5</td>\n",
       "      <td>1.5</td>\n",
       "      <td>1/2/2022</td>\n",
       "    </tr>\n",
       "    <tr>\n",
       "      <th>7</th>\n",
       "      <td>Processed</td>\n",
       "      <td>VJ300320686</td>\n",
       "      <td>Earle Asphalt</td>\n",
       "      <td>Earle Asphalt x1371</td>\n",
       "      <td>Miss Vickie's Potato Chip - Lime &amp; Cracked Pe</td>\n",
       "      <td>Food</td>\n",
       "      <td>14519162059</td>\n",
       "      <td>Monday, January 3, 2022</td>\n",
       "      <td>Credit</td>\n",
       "      <td>110</td>\n",
       "      <td>1.5</td>\n",
       "      <td>1</td>\n",
       "      <td>110</td>\n",
       "      <td>1.5</td>\n",
       "      <td>1</td>\n",
       "      <td>1.5</td>\n",
       "      <td>1.5</td>\n",
       "      <td>1/3/2022</td>\n",
       "    </tr>\n",
       "    <tr>\n",
       "      <th>8</th>\n",
       "      <td>Processed</td>\n",
       "      <td>VJ300320609</td>\n",
       "      <td>GuttenPlans</td>\n",
       "      <td>GuttenPlans x1367</td>\n",
       "      <td>Monster Energy Original</td>\n",
       "      <td>Carbonated</td>\n",
       "      <td>14519670154</td>\n",
       "      <td>Monday, January 3, 2022</td>\n",
       "      <td>Credit</td>\n",
       "      <td>144</td>\n",
       "      <td>3.0</td>\n",
       "      <td>1</td>\n",
       "      <td>144</td>\n",
       "      <td>3.0</td>\n",
       "      <td>1</td>\n",
       "      <td>3.0</td>\n",
       "      <td>3.0</td>\n",
       "      <td>1/3/2022</td>\n",
       "    </tr>\n",
       "    <tr>\n",
       "      <th>9</th>\n",
       "      <td>Processed</td>\n",
       "      <td>VJ300320686</td>\n",
       "      <td>Earle Asphalt</td>\n",
       "      <td>Earle Asphalt x1371</td>\n",
       "      <td>Seapoint Farms Dry Roasted Edamame - Wasabi</td>\n",
       "      <td>Food</td>\n",
       "      <td>14520315330</td>\n",
       "      <td>Monday, January 3, 2022</td>\n",
       "      <td>Credit</td>\n",
       "      <td>134</td>\n",
       "      <td>2.5</td>\n",
       "      <td>1</td>\n",
       "      <td>134</td>\n",
       "      <td>2.5</td>\n",
       "      <td>1</td>\n",
       "      <td>2.5</td>\n",
       "      <td>2.5</td>\n",
       "      <td>1/3/2022</td>\n",
       "    </tr>\n",
       "    <tr>\n",
       "      <th>10</th>\n",
       "      <td>Processed</td>\n",
       "      <td>VJ300320609</td>\n",
       "      <td>GuttenPlans</td>\n",
       "      <td>GuttenPlans x1367</td>\n",
       "      <td>Snapple Diet Tea - Lemon</td>\n",
       "      <td>Non Carbonated</td>\n",
       "      <td>14520522827</td>\n",
       "      <td>Monday, January 3, 2022</td>\n",
       "      <td>Cash</td>\n",
       "      <td>143</td>\n",
       "      <td>2.5</td>\n",
       "      <td>1</td>\n",
       "      <td>143</td>\n",
       "      <td>2.5</td>\n",
       "      <td>1</td>\n",
       "      <td>2.5</td>\n",
       "      <td>2.5</td>\n",
       "      <td>1/3/2022</td>\n",
       "    </tr>\n",
       "    <tr>\n",
       "      <th>...</th>\n",
       "      <td>...</td>\n",
       "      <td>...</td>\n",
       "      <td>...</td>\n",
       "      <td>...</td>\n",
       "      <td>...</td>\n",
       "      <td>...</td>\n",
       "      <td>...</td>\n",
       "      <td>...</td>\n",
       "      <td>...</td>\n",
       "      <td>...</td>\n",
       "      <td>...</td>\n",
       "      <td>...</td>\n",
       "      <td>...</td>\n",
       "      <td>...</td>\n",
       "      <td>...</td>\n",
       "      <td>...</td>\n",
       "      <td>...</td>\n",
       "      <td>...</td>\n",
       "    </tr>\n",
       "    <tr>\n",
       "      <th>6389</th>\n",
       "      <td>Processed</td>\n",
       "      <td>VJ300205292</td>\n",
       "      <td>Brunswick Sq Mall</td>\n",
       "      <td>BSQ Mall x1364 - Zales</td>\n",
       "      <td>Snapple Tea - Lemon</td>\n",
       "      <td>Non Carbonated</td>\n",
       "      <td>15595167352</td>\n",
       "      <td>Monday, August 29, 2022</td>\n",
       "      <td>Credit</td>\n",
       "      <td>147</td>\n",
       "      <td>2.5</td>\n",
       "      <td>1</td>\n",
       "      <td>147</td>\n",
       "      <td>2.5</td>\n",
       "      <td>1</td>\n",
       "      <td>2.5</td>\n",
       "      <td>6.0</td>\n",
       "      <td>8/29/2022</td>\n",
       "    </tr>\n",
       "    <tr>\n",
       "      <th>6390</th>\n",
       "      <td>Processed</td>\n",
       "      <td>VJ300205292</td>\n",
       "      <td>Brunswick Sq Mall</td>\n",
       "      <td>BSQ Mall x1364 - Zales</td>\n",
       "      <td>Coca Cola - Zero Sugar</td>\n",
       "      <td>Carbonated</td>\n",
       "      <td>15595167352</td>\n",
       "      <td>Monday, August 29, 2022</td>\n",
       "      <td>Credit</td>\n",
       "      <td>140</td>\n",
       "      <td>1.5</td>\n",
       "      <td>1</td>\n",
       "      <td>140</td>\n",
       "      <td>1.5</td>\n",
       "      <td>1</td>\n",
       "      <td>1.5</td>\n",
       "      <td>6.0</td>\n",
       "      <td>8/29/2022</td>\n",
       "    </tr>\n",
       "    <tr>\n",
       "      <th>6391</th>\n",
       "      <td>Processed</td>\n",
       "      <td>VJ300205292</td>\n",
       "      <td>Brunswick Sq Mall</td>\n",
       "      <td>BSQ Mall x1364 - Zales</td>\n",
       "      <td>KitKat - Crisp Wafers</td>\n",
       "      <td>Food</td>\n",
       "      <td>15595167352</td>\n",
       "      <td>Monday, August 29, 2022</td>\n",
       "      <td>Credit</td>\n",
       "      <td>130</td>\n",
       "      <td>2.0</td>\n",
       "      <td>1</td>\n",
       "      <td>130</td>\n",
       "      <td>2.0</td>\n",
       "      <td>1</td>\n",
       "      <td>2.0</td>\n",
       "      <td>6.0</td>\n",
       "      <td>8/29/2022</td>\n",
       "    </tr>\n",
       "    <tr>\n",
       "      <th>6392</th>\n",
       "      <td>Processed</td>\n",
       "      <td>VJ300205292</td>\n",
       "      <td>Brunswick Sq Mall</td>\n",
       "      <td>BSQ Mall x1364 - Zales</td>\n",
       "      <td>KitKat - Crisp Wafers</td>\n",
       "      <td>Food</td>\n",
       "      <td>15595370548</td>\n",
       "      <td>Monday, August 29, 2022</td>\n",
       "      <td>Credit</td>\n",
       "      <td>130</td>\n",
       "      <td>2.0</td>\n",
       "      <td>1</td>\n",
       "      <td>130</td>\n",
       "      <td>2.0</td>\n",
       "      <td>1</td>\n",
       "      <td>2.0</td>\n",
       "      <td>2.0</td>\n",
       "      <td>8/29/2022</td>\n",
       "    </tr>\n",
       "    <tr>\n",
       "      <th>6393</th>\n",
       "      <td>Processed</td>\n",
       "      <td>VJ300205292</td>\n",
       "      <td>Brunswick Sq Mall</td>\n",
       "      <td>BSQ Mall x1364 - Zales</td>\n",
       "      <td>KitKat - Crisp Wafers</td>\n",
       "      <td>Food</td>\n",
       "      <td>15595531294</td>\n",
       "      <td>Monday, August 29, 2022</td>\n",
       "      <td>Credit</td>\n",
       "      <td>130</td>\n",
       "      <td>2.0</td>\n",
       "      <td>2</td>\n",
       "      <td>130</td>\n",
       "      <td>2.0</td>\n",
       "      <td>2</td>\n",
       "      <td>4.0</td>\n",
       "      <td>4.0</td>\n",
       "      <td>8/29/2022</td>\n",
       "    </tr>\n",
       "  </tbody>\n",
       "</table>\n",
       "<p>1023 rows × 18 columns</p>\n",
       "</div>"
      ],
      "text/plain": [
       "         Status    Device ID           Location                 Machine  \\\n",
       "6     Processed  VJ300205292  Brunswick Sq Mall  BSQ Mall x1364 - Zales   \n",
       "7     Processed  VJ300320686      Earle Asphalt     Earle Asphalt x1371   \n",
       "8     Processed  VJ300320609        GuttenPlans       GuttenPlans x1367   \n",
       "9     Processed  VJ300320686      Earle Asphalt     Earle Asphalt x1371   \n",
       "10    Processed  VJ300320609        GuttenPlans       GuttenPlans x1367   \n",
       "...         ...          ...                ...                     ...   \n",
       "6389  Processed  VJ300205292  Brunswick Sq Mall  BSQ Mall x1364 - Zales   \n",
       "6390  Processed  VJ300205292  Brunswick Sq Mall  BSQ Mall x1364 - Zales   \n",
       "6391  Processed  VJ300205292  Brunswick Sq Mall  BSQ Mall x1364 - Zales   \n",
       "6392  Processed  VJ300205292  Brunswick Sq Mall  BSQ Mall x1364 - Zales   \n",
       "6393  Processed  VJ300205292  Brunswick Sq Mall  BSQ Mall x1364 - Zales   \n",
       "\n",
       "                                            Product        Category  \\\n",
       "6     Miss Vickie's Potato Chip - Sea Salt & Vinega            Food   \n",
       "7     Miss Vickie's Potato Chip - Lime & Cracked Pe            Food   \n",
       "8                           Monster Energy Original      Carbonated   \n",
       "9       Seapoint Farms Dry Roasted Edamame - Wasabi            Food   \n",
       "10                         Snapple Diet Tea - Lemon  Non Carbonated   \n",
       "...                                             ...             ...   \n",
       "6389                            Snapple Tea - Lemon  Non Carbonated   \n",
       "6390                         Coca Cola - Zero Sugar      Carbonated   \n",
       "6391                          KitKat - Crisp Wafers            Food   \n",
       "6392                          KitKat - Crisp Wafers            Food   \n",
       "6393                          KitKat - Crisp Wafers            Food   \n",
       "\n",
       "      Transaction                TransDate    Type  RCoil  RPrice  RQty  \\\n",
       "6     14518731524  Monday, January 3, 2022    Cash    114     1.5     1   \n",
       "7     14519162059  Monday, January 3, 2022  Credit    110     1.5     1   \n",
       "8     14519670154  Monday, January 3, 2022  Credit    144     3.0     1   \n",
       "9     14520315330  Monday, January 3, 2022  Credit    134     2.5     1   \n",
       "10    14520522827  Monday, January 3, 2022    Cash    143     2.5     1   \n",
       "...           ...                      ...     ...    ...     ...   ...   \n",
       "6389  15595167352  Monday, August 29, 2022  Credit    147     2.5     1   \n",
       "6390  15595167352  Monday, August 29, 2022  Credit    140     1.5     1   \n",
       "6391  15595167352  Monday, August 29, 2022  Credit    130     2.0     1   \n",
       "6392  15595370548  Monday, August 29, 2022  Credit    130     2.0     1   \n",
       "6393  15595531294  Monday, August 29, 2022  Credit    130     2.0     2   \n",
       "\n",
       "      MCoil  MPrice  MQty  LineTotal  TransTotal  Prcd Date  \n",
       "6       114     1.5     1        1.5         1.5   1/2/2022  \n",
       "7       110     1.5     1        1.5         1.5   1/3/2022  \n",
       "8       144     3.0     1        3.0         3.0   1/3/2022  \n",
       "9       134     2.5     1        2.5         2.5   1/3/2022  \n",
       "10      143     2.5     1        2.5         2.5   1/3/2022  \n",
       "...     ...     ...   ...        ...         ...        ...  \n",
       "6389    147     2.5     1        2.5         6.0  8/29/2022  \n",
       "6390    140     1.5     1        1.5         6.0  8/29/2022  \n",
       "6391    130     2.0     1        2.0         6.0  8/29/2022  \n",
       "6392    130     2.0     1        2.0         2.0  8/29/2022  \n",
       "6393    130     2.0     2        4.0         4.0  8/29/2022  \n",
       "\n",
       "[1023 rows x 18 columns]"
      ]
     },
     "execution_count": 10,
     "metadata": {},
     "output_type": "execute_result"
    }
   ],
   "source": [
    "df[date_series.str.find(\"Monday\") != -1]"
   ]
  },
  {
   "cell_type": "markdown",
   "metadata": {},
   "source": [
    "We can also use Boolean indexing with a Series.  Here we are keeping only those values in `date_series` where the corresponding value is `True` in the Boolean index.  Phrased another way, the Boolean index tells us which values to keep in `date_series`."
   ]
  },
  {
   "cell_type": "code",
   "execution_count": null,
   "metadata": {
    "cell_id": "12a305cfbab8446dab85d6dfbfbaedb3",
    "deepnote_cell_type": "code",
    "tags": []
   },
   "outputs": [
    {
     "data": {
      "text/plain": [
       "6       Monday, January 3, 2022\n",
       "7       Monday, January 3, 2022\n",
       "8       Monday, January 3, 2022\n",
       "9       Monday, January 3, 2022\n",
       "10      Monday, January 3, 2022\n",
       "                 ...           \n",
       "6389    Monday, August 29, 2022\n",
       "6390    Monday, August 29, 2022\n",
       "6391    Monday, August 29, 2022\n",
       "6392    Monday, August 29, 2022\n",
       "6393    Monday, August 29, 2022\n",
       "Name: TransDate, Length: 1023, dtype: object"
      ]
     },
     "execution_count": 11,
     "metadata": {},
     "output_type": "execute_result"
    }
   ],
   "source": [
    "date_series[date_series.str.find(\"Monday\") != -1]"
   ]
  },
  {
   "cell_type": "markdown",
   "metadata": {},
   "source": [
    "We want to remove repetitions.  The most natural way to do this is with the `unique` method."
   ]
  },
  {
   "cell_type": "code",
   "execution_count": 12,
   "metadata": {
    "cell_id": "aba79b60a1a64f81885075f62f7588f3",
    "deepnote_cell_type": "code",
    "deepnote_to_be_reexecuted": false,
    "execution_millis": 5,
    "execution_start": 1664557775987,
    "source_hash": "369714c9",
    "tags": []
   },
   "outputs": [
    {
     "data": {
      "text/plain": [
       "array(['Monday, January 3, 2022', 'Monday, January 10, 2022',\n",
       "       'Monday, January 17, 2022', 'Monday, January 24, 2022',\n",
       "       'Monday, January 31, 2022', 'Monday, February 7, 2022',\n",
       "       'Monday, February 14, 2022', 'Monday, February 21, 2022',\n",
       "       'Monday, February 28, 2022', 'Monday, March 7, 2022',\n",
       "       'Monday, March 14, 2022', 'Monday, March 21, 2022',\n",
       "       'Monday, March 28, 2022', 'Monday, April 4, 2022',\n",
       "       'Monday, April 11, 2022', 'Monday, April 18, 2022',\n",
       "       'Monday, April 25, 2022', 'Monday, May 2, 2022',\n",
       "       'Monday, May 9, 2022', 'Monday, May 16, 2022',\n",
       "       'Monday, May 23, 2022', 'Monday, May 30, 2022',\n",
       "       'Monday, June 6, 2022', 'Monday, June 13, 2022',\n",
       "       'Monday, June 20, 2022', 'Monday, June 27, 2022',\n",
       "       'Monday, July 4, 2022', 'Monday, July 11, 2022',\n",
       "       'Monday, July 18, 2022', 'Monday, July 25, 2022',\n",
       "       'Monday, August 1, 2022', 'Monday, August 8, 2022',\n",
       "       'Monday, August 15, 2022', 'Monday, August 22, 2022',\n",
       "       'Monday, August 29, 2022'], dtype=object)"
      ]
     },
     "execution_count": 12,
     "metadata": {},
     "output_type": "execute_result"
    }
   ],
   "source": [
    "date_series[date_series.str.find(\"Monday\") != -1].unique()"
   ]
  },
  {
   "cell_type": "markdown",
   "metadata": {},
   "source": [
    "Just as an example, here we convert the above array into a Python list."
   ]
  },
  {
   "cell_type": "code",
   "execution_count": 13,
   "metadata": {
    "cell_id": "dec1b476f8c848b9a48ec2244072d943",
    "deepnote_cell_type": "code",
    "deepnote_to_be_reexecuted": false,
    "execution_millis": 369,
    "execution_start": 1664557808634,
    "source_hash": "68ef16db",
    "tags": [
     "output_scroll"
    ]
   },
   "outputs": [
    {
     "data": {
      "text/plain": [
       "['Monday, January 3, 2022',\n",
       " 'Monday, January 10, 2022',\n",
       " 'Monday, January 17, 2022',\n",
       " 'Monday, January 24, 2022',\n",
       " 'Monday, January 31, 2022',\n",
       " 'Monday, February 7, 2022',\n",
       " 'Monday, February 14, 2022',\n",
       " 'Monday, February 21, 2022',\n",
       " 'Monday, February 28, 2022',\n",
       " 'Monday, March 7, 2022',\n",
       " 'Monday, March 14, 2022',\n",
       " 'Monday, March 21, 2022',\n",
       " 'Monday, March 28, 2022',\n",
       " 'Monday, April 4, 2022',\n",
       " 'Monday, April 11, 2022',\n",
       " 'Monday, April 18, 2022',\n",
       " 'Monday, April 25, 2022',\n",
       " 'Monday, May 2, 2022',\n",
       " 'Monday, May 9, 2022',\n",
       " 'Monday, May 16, 2022',\n",
       " 'Monday, May 23, 2022',\n",
       " 'Monday, May 30, 2022',\n",
       " 'Monday, June 6, 2022',\n",
       " 'Monday, June 13, 2022',\n",
       " 'Monday, June 20, 2022',\n",
       " 'Monday, June 27, 2022',\n",
       " 'Monday, July 4, 2022',\n",
       " 'Monday, July 11, 2022',\n",
       " 'Monday, July 18, 2022',\n",
       " 'Monday, July 25, 2022',\n",
       " 'Monday, August 1, 2022',\n",
       " 'Monday, August 8, 2022',\n",
       " 'Monday, August 15, 2022',\n",
       " 'Monday, August 22, 2022',\n",
       " 'Monday, August 29, 2022']"
      ]
     },
     "execution_count": 13,
     "metadata": {},
     "output_type": "execute_result"
    }
   ],
   "source": [
    "list(date_series[date_series.str.find(\"Monday\") != -1].unique())"
   ]
  },
  {
   "cell_type": "markdown",
   "metadata": {},
   "source": [
    "An alternative approach would be to convert the original Series (with the repetitions) into a set, because sets do not have repetitions.  (Two important things to memorize about a set are that they do not have repetitions, and that they are not ordered.)"
   ]
  },
  {
   "cell_type": "code",
   "execution_count": 14,
   "metadata": {
    "cell_id": "31857f46f0b34008baf8ea218f9f248f",
    "deepnote_cell_type": "code",
    "deepnote_to_be_reexecuted": false,
    "execution_millis": 875,
    "execution_start": 1664557897804,
    "source_hash": "7bf346fe",
    "tags": [
     "output_scroll"
    ]
   },
   "outputs": [
    {
     "data": {
      "text/plain": [
       "{'Monday, April 11, 2022',\n",
       " 'Monday, April 18, 2022',\n",
       " 'Monday, April 25, 2022',\n",
       " 'Monday, April 4, 2022',\n",
       " 'Monday, August 1, 2022',\n",
       " 'Monday, August 15, 2022',\n",
       " 'Monday, August 22, 2022',\n",
       " 'Monday, August 29, 2022',\n",
       " 'Monday, August 8, 2022',\n",
       " 'Monday, February 14, 2022',\n",
       " 'Monday, February 21, 2022',\n",
       " 'Monday, February 28, 2022',\n",
       " 'Monday, February 7, 2022',\n",
       " 'Monday, January 10, 2022',\n",
       " 'Monday, January 17, 2022',\n",
       " 'Monday, January 24, 2022',\n",
       " 'Monday, January 3, 2022',\n",
       " 'Monday, January 31, 2022',\n",
       " 'Monday, July 11, 2022',\n",
       " 'Monday, July 18, 2022',\n",
       " 'Monday, July 25, 2022',\n",
       " 'Monday, July 4, 2022',\n",
       " 'Monday, June 13, 2022',\n",
       " 'Monday, June 20, 2022',\n",
       " 'Monday, June 27, 2022',\n",
       " 'Monday, June 6, 2022',\n",
       " 'Monday, March 14, 2022',\n",
       " 'Monday, March 21, 2022',\n",
       " 'Monday, March 28, 2022',\n",
       " 'Monday, March 7, 2022',\n",
       " 'Monday, May 16, 2022',\n",
       " 'Monday, May 2, 2022',\n",
       " 'Monday, May 23, 2022',\n",
       " 'Monday, May 30, 2022',\n",
       " 'Monday, May 9, 2022'}"
      ]
     },
     "execution_count": 14,
     "metadata": {},
     "output_type": "execute_result"
    }
   ],
   "source": [
    "# sets do not have repetitions, so don't need unique in this part\n",
    "set(date_series[date_series.str.find(\"Monday\") != -1])"
   ]
  },
  {
   "cell_type": "markdown",
   "metadata": {
    "cell_id": "abbe6a97bbe1440dab88a74f64b3fb21",
    "deepnote_cell_type": "markdown",
    "tags": []
   },
   "source": [
    "* Use `contains`.\n",
    "\n",
    "Here we will see what I think is a more natural approach.  This `contains` method is special, because it is not a method defined on strings themselves."
   ]
  },
  {
   "cell_type": "code",
   "execution_count": 15,
   "metadata": {
    "cell_id": "2cdc0520cbec40568960131fcad0df68",
    "deepnote_cell_type": "code",
    "deepnote_to_be_reexecuted": false,
    "execution_millis": 2,
    "execution_start": 1664557981259,
    "source_hash": "c42491ab",
    "tags": [
     "output_scroll"
    ]
   },
   "outputs": [
    {
     "data": {
      "text/plain": [
       "['__add__',\n",
       " '__class__',\n",
       " '__contains__',\n",
       " '__delattr__',\n",
       " '__dir__',\n",
       " '__doc__',\n",
       " '__eq__',\n",
       " '__format__',\n",
       " '__ge__',\n",
       " '__getattribute__',\n",
       " '__getitem__',\n",
       " '__getnewargs__',\n",
       " '__gt__',\n",
       " '__hash__',\n",
       " '__init__',\n",
       " '__init_subclass__',\n",
       " '__iter__',\n",
       " '__le__',\n",
       " '__len__',\n",
       " '__lt__',\n",
       " '__mod__',\n",
       " '__mul__',\n",
       " '__ne__',\n",
       " '__new__',\n",
       " '__reduce__',\n",
       " '__reduce_ex__',\n",
       " '__repr__',\n",
       " '__rmod__',\n",
       " '__rmul__',\n",
       " '__setattr__',\n",
       " '__sizeof__',\n",
       " '__str__',\n",
       " '__subclasshook__',\n",
       " 'capitalize',\n",
       " 'casefold',\n",
       " 'center',\n",
       " 'count',\n",
       " 'encode',\n",
       " 'endswith',\n",
       " 'expandtabs',\n",
       " 'find',\n",
       " 'format',\n",
       " 'format_map',\n",
       " 'index',\n",
       " 'isalnum',\n",
       " 'isalpha',\n",
       " 'isascii',\n",
       " 'isdecimal',\n",
       " 'isdigit',\n",
       " 'isidentifier',\n",
       " 'islower',\n",
       " 'isnumeric',\n",
       " 'isprintable',\n",
       " 'isspace',\n",
       " 'istitle',\n",
       " 'isupper',\n",
       " 'join',\n",
       " 'ljust',\n",
       " 'lower',\n",
       " 'lstrip',\n",
       " 'maketrans',\n",
       " 'partition',\n",
       " 'removeprefix',\n",
       " 'removesuffix',\n",
       " 'replace',\n",
       " 'rfind',\n",
       " 'rindex',\n",
       " 'rjust',\n",
       " 'rpartition',\n",
       " 'rsplit',\n",
       " 'rstrip',\n",
       " 'split',\n",
       " 'splitlines',\n",
       " 'startswith',\n",
       " 'strip',\n",
       " 'swapcase',\n",
       " 'title',\n",
       " 'translate',\n",
       " 'upper',\n",
       " 'zfill']"
      ]
     },
     "execution_count": 15,
     "metadata": {},
     "output_type": "execute_result"
    }
   ],
   "source": [
    "dir('Monday, May 16, 2022')"
   ]
  },
  {
   "cell_type": "markdown",
   "metadata": {},
   "source": [
    "Here we verify that `\"contains\"` is not in the above list of string attributes and methods."
   ]
  },
  {
   "cell_type": "code",
   "execution_count": 16,
   "metadata": {
    "cell_id": "7e86a346733d453c8194fa3aaffcaa71",
    "deepnote_cell_type": "code",
    "deepnote_to_be_reexecuted": false,
    "execution_millis": 837,
    "execution_start": 1664558003897,
    "source_hash": "7a47aa00",
    "tags": []
   },
   "outputs": [
    {
     "data": {
      "text/plain": [
       "False"
      ]
     },
     "execution_count": 16,
     "metadata": {},
     "output_type": "execute_result"
    }
   ],
   "source": [
    "\"contains\" in dir('Monday, May 16, 2022')"
   ]
  },
  {
   "cell_type": "markdown",
   "metadata": {},
   "source": [
    "On the other hand, `\"contains\"` is a method available on `date_series.str`."
   ]
  },
  {
   "cell_type": "code",
   "execution_count": 17,
   "metadata": {
    "cell_id": "66693545b2cc42ca840d9731fe33c595",
    "deepnote_cell_type": "code",
    "deepnote_to_be_reexecuted": false,
    "execution_millis": 1014,
    "execution_start": 1664558032001,
    "source_hash": "8f643b6e",
    "tags": []
   },
   "outputs": [
    {
     "data": {
      "text/plain": [
       "True"
      ]
     },
     "execution_count": 17,
     "metadata": {},
     "output_type": "execute_result"
    }
   ],
   "source": [
    "\"contains\" in dir(date_series.str)"
   ]
  },
  {
   "cell_type": "markdown",
   "metadata": {},
   "source": [
    "Aside: The main reason `contains` is not defined on strings is because you don't need that method, you can use the `in` operator instead.  The following says that `\"stop\"` appears as a substring in `\"Christopher\"`."
   ]
  },
  {
   "cell_type": "code",
   "execution_count": 18,
   "metadata": {
    "cell_id": "7fe8ff97008c4e53be47301c0d83ab1f",
    "deepnote_cell_type": "code",
    "deepnote_to_be_reexecuted": false,
    "execution_millis": 5,
    "execution_start": 1664558057442,
    "source_hash": "67d42b91",
    "tags": []
   },
   "outputs": [
    {
     "data": {
      "text/plain": [
       "True"
      ]
     },
     "execution_count": 18,
     "metadata": {},
     "output_type": "execute_result"
    }
   ],
   "source": [
    "\"stop\" in \"Christopher\""
   ]
  },
  {
   "cell_type": "markdown",
   "metadata": {},
   "source": [
    "Here is a reminder of what `date_series` looks like."
   ]
  },
  {
   "cell_type": "code",
   "execution_count": 19,
   "metadata": {
    "cell_id": "cac24adc5af24f3985bdb62d0f0db777",
    "deepnote_cell_type": "code",
    "deepnote_to_be_reexecuted": false,
    "execution_millis": 939,
    "execution_start": 1664558093523,
    "source_hash": "ed9eb5eb",
    "tags": []
   },
   "outputs": [
    {
     "data": {
      "text/plain": [
       "0        Saturday, January 1, 2022\n",
       "1        Saturday, January 1, 2022\n",
       "2        Saturday, January 1, 2022\n",
       "3        Saturday, January 1, 2022\n",
       "4        Saturday, January 1, 2022\n",
       "                   ...            \n",
       "6440    Wednesday, August 31, 2022\n",
       "6441    Wednesday, August 31, 2022\n",
       "6442    Wednesday, August 31, 2022\n",
       "6443    Wednesday, August 31, 2022\n",
       "6444    Wednesday, August 31, 2022\n",
       "Name: TransDate, Length: 6445, dtype: object"
      ]
     },
     "execution_count": 19,
     "metadata": {},
     "output_type": "execute_result"
    }
   ],
   "source": [
    "date_series"
   ]
  },
  {
   "cell_type": "markdown",
   "metadata": {},
   "source": [
    "We can get a Boolean Series corresponding to which of these strings contain the word `\"January\"`.  (We'll switch to `\"Monday\"` below.)"
   ]
  },
  {
   "cell_type": "code",
   "execution_count": 20,
   "metadata": {
    "cell_id": "f6e94fb7abd646ceb9a840f883f16698",
    "deepnote_cell_type": "code",
    "deepnote_to_be_reexecuted": false,
    "execution_millis": 6,
    "execution_start": 1664558104770,
    "source_hash": "6cac2e72",
    "tags": []
   },
   "outputs": [
    {
     "data": {
      "text/plain": [
       "0        True\n",
       "1        True\n",
       "2        True\n",
       "3        True\n",
       "4        True\n",
       "        ...  \n",
       "6440    False\n",
       "6441    False\n",
       "6442    False\n",
       "6443    False\n",
       "6444    False\n",
       "Name: TransDate, Length: 6445, dtype: bool"
      ]
     },
     "execution_count": 20,
     "metadata": {},
     "output_type": "execute_result"
    }
   ],
   "source": [
    "date_series.str.contains(\"January\")"
   ]
  },
  {
   "cell_type": "markdown",
   "metadata": {},
   "source": [
    "We can count the number of strings containing \"January\" by adding up all these `True` and `False` terms.  This sum will be the number of `True`s that occur, which is the same as the number of strings containing the word \"January\"."
   ]
  },
  {
   "cell_type": "code",
   "execution_count": 21,
   "metadata": {
    "cell_id": "40c99d52854d450ab5828578ae80e9af",
    "deepnote_cell_type": "code",
    "deepnote_to_be_reexecuted": false,
    "execution_millis": 20,
    "execution_start": 1664558174275,
    "source_hash": "5cd8c8ce",
    "tags": []
   },
   "outputs": [
    {
     "data": {
      "text/plain": [
       "482"
      ]
     },
     "execution_count": 21,
     "metadata": {},
     "output_type": "execute_result"
    }
   ],
   "source": [
    "date_series.str.contains(\"January\").sum()"
   ]
  },
  {
   "cell_type": "markdown",
   "metadata": {},
   "source": [
    "Here we make two changes.  First, we switch from \"January\" to \"Monday\".  Second, we use Boolean indexing to get only the days in `date_series` which correspond to Monday."
   ]
  },
  {
   "cell_type": "code",
   "execution_count": 23,
   "metadata": {
    "cell_id": "73be1bd8cfba440ea443b1346586de68",
    "deepnote_cell_type": "code",
    "deepnote_to_be_reexecuted": false,
    "execution_millis": 764,
    "execution_start": 1664558237549,
    "source_hash": "18d08e39",
    "tags": []
   },
   "outputs": [
    {
     "data": {
      "text/plain": [
       "6       Monday, January 3, 2022\n",
       "7       Monday, January 3, 2022\n",
       "8       Monday, January 3, 2022\n",
       "9       Monday, January 3, 2022\n",
       "10      Monday, January 3, 2022\n",
       "                 ...           \n",
       "6389    Monday, August 29, 2022\n",
       "6390    Monday, August 29, 2022\n",
       "6391    Monday, August 29, 2022\n",
       "6392    Monday, August 29, 2022\n",
       "6393    Monday, August 29, 2022\n",
       "Name: TransDate, Length: 1023, dtype: object"
      ]
     },
     "execution_count": 23,
     "metadata": {},
     "output_type": "execute_result"
    }
   ],
   "source": [
    "date_series[date_series.str.contains(\"Monday\")]"
   ]
  },
  {
   "cell_type": "markdown",
   "metadata": {},
   "source": [
    "We can again get the unique values by calling the `unique` method.  I recommend comparing this code to the above code using `find`.  They are pretty similar in terms of length, but this code is easier to read, because the `contains` method immediately tells us `True` or `False`, unlike the `find` method which tells us an index."
   ]
  },
  {
   "cell_type": "code",
   "execution_count": 24,
   "metadata": {
    "cell_id": "c9e1bea4c893419d9cdfd26c08adb06d",
    "deepnote_cell_type": "code",
    "deepnote_to_be_reexecuted": false,
    "execution_millis": 6,
    "execution_start": 1664558294388,
    "source_hash": "e144c5ee",
    "tags": []
   },
   "outputs": [
    {
     "data": {
      "text/plain": [
       "array(['Monday, January 3, 2022', 'Monday, January 10, 2022',\n",
       "       'Monday, January 17, 2022', 'Monday, January 24, 2022',\n",
       "       'Monday, January 31, 2022', 'Monday, February 7, 2022',\n",
       "       'Monday, February 14, 2022', 'Monday, February 21, 2022',\n",
       "       'Monday, February 28, 2022', 'Monday, March 7, 2022',\n",
       "       'Monday, March 14, 2022', 'Monday, March 21, 2022',\n",
       "       'Monday, March 28, 2022', 'Monday, April 4, 2022',\n",
       "       'Monday, April 11, 2022', 'Monday, April 18, 2022',\n",
       "       'Monday, April 25, 2022', 'Monday, May 2, 2022',\n",
       "       'Monday, May 9, 2022', 'Monday, May 16, 2022',\n",
       "       'Monday, May 23, 2022', 'Monday, May 30, 2022',\n",
       "       'Monday, June 6, 2022', 'Monday, June 13, 2022',\n",
       "       'Monday, June 20, 2022', 'Monday, June 27, 2022',\n",
       "       'Monday, July 4, 2022', 'Monday, July 11, 2022',\n",
       "       'Monday, July 18, 2022', 'Monday, July 25, 2022',\n",
       "       'Monday, August 1, 2022', 'Monday, August 8, 2022',\n",
       "       'Monday, August 15, 2022', 'Monday, August 22, 2022',\n",
       "       'Monday, August 29, 2022'], dtype=object)"
      ]
     },
     "execution_count": 24,
     "metadata": {},
     "output_type": "execute_result"
    }
   ],
   "source": [
    "date_series[date_series.str.contains(\"Monday\")].unique()"
   ]
  },
  {
   "cell_type": "markdown",
   "metadata": {
    "cell_id": "45be4dd239c74a32b8045ef3ecb997d8",
    "deepnote_cell_type": "markdown",
    "tags": []
   },
   "source": [
    "* Use `day_name()`.\n",
    "\n",
    "Here is another approach to the same problem, this time using datetime values.\n",
    "\n",
    "Here is a common mistake.  The `dt` attribute cannot be called on `date_series`, which is a pandas Series of strings."
   ]
  },
  {
   "cell_type": "code",
   "execution_count": 25,
   "metadata": {
    "cell_id": "efcb922cdc62477e8b861f93b7ef3e83",
    "deepnote_cell_type": "code",
    "deepnote_to_be_reexecuted": false,
    "execution_millis": 701,
    "execution_start": 1664558495195,
    "source_hash": "31fdeaec",
    "tags": [
     "output_scroll"
    ]
   },
   "outputs": [
    {
     "ename": "AttributeError",
     "evalue": "Can only use .dt accessor with datetimelike values",
     "output_type": "error",
     "traceback": [
      "\u001b[0;31m---------------------------------------------------------------------------\u001b[0m",
      "\u001b[0;31mAttributeError\u001b[0m                            Traceback (most recent call last)",
      "Cell \u001b[0;32mIn [25], line 1\u001b[0m\n\u001b[0;32m----> 1\u001b[0m \u001b[43mdate_series\u001b[49m\u001b[38;5;241;43m.\u001b[39;49m\u001b[43mdt\u001b[49m\u001b[38;5;241m.\u001b[39mday_name()\n",
      "File \u001b[0;32m/shared-libs/python3.9/py/lib/python3.9/site-packages/pandas/core/generic.py:5461\u001b[0m, in \u001b[0;36mNDFrame.__getattr__\u001b[0;34m(self, name)\u001b[0m\n\u001b[1;32m   5454\u001b[0m \u001b[38;5;66;03m# Note: obj.x will always call obj.__getattribute__('x') prior to\u001b[39;00m\n\u001b[1;32m   5455\u001b[0m \u001b[38;5;66;03m# calling obj.__getattr__('x').\u001b[39;00m\n\u001b[1;32m   5456\u001b[0m \u001b[38;5;28;01mif\u001b[39;00m (\n\u001b[1;32m   5457\u001b[0m     name \u001b[38;5;129;01min\u001b[39;00m \u001b[38;5;28mself\u001b[39m\u001b[38;5;241m.\u001b[39m_internal_names_set\n\u001b[1;32m   5458\u001b[0m     \u001b[38;5;129;01mor\u001b[39;00m name \u001b[38;5;129;01min\u001b[39;00m \u001b[38;5;28mself\u001b[39m\u001b[38;5;241m.\u001b[39m_metadata\n\u001b[1;32m   5459\u001b[0m     \u001b[38;5;129;01mor\u001b[39;00m name \u001b[38;5;129;01min\u001b[39;00m \u001b[38;5;28mself\u001b[39m\u001b[38;5;241m.\u001b[39m_accessors\n\u001b[1;32m   5460\u001b[0m ):\n\u001b[0;32m-> 5461\u001b[0m     \u001b[38;5;28;01mreturn\u001b[39;00m \u001b[38;5;28;43mobject\u001b[39;49m\u001b[38;5;241;43m.\u001b[39;49m\u001b[38;5;21;43m__getattribute__\u001b[39;49m\u001b[43m(\u001b[49m\u001b[38;5;28;43mself\u001b[39;49m\u001b[43m,\u001b[49m\u001b[43m \u001b[49m\u001b[43mname\u001b[49m\u001b[43m)\u001b[49m\n\u001b[1;32m   5462\u001b[0m \u001b[38;5;28;01melse\u001b[39;00m:\n\u001b[1;32m   5463\u001b[0m     \u001b[38;5;28;01mif\u001b[39;00m \u001b[38;5;28mself\u001b[39m\u001b[38;5;241m.\u001b[39m_info_axis\u001b[38;5;241m.\u001b[39m_can_hold_identifiers_and_holds_name(name):\n",
      "File \u001b[0;32m/shared-libs/python3.9/py/lib/python3.9/site-packages/pandas/core/accessor.py:180\u001b[0m, in \u001b[0;36mCachedAccessor.__get__\u001b[0;34m(self, obj, cls)\u001b[0m\n\u001b[1;32m    177\u001b[0m \u001b[38;5;28;01mif\u001b[39;00m obj \u001b[38;5;129;01mis\u001b[39;00m \u001b[38;5;28;01mNone\u001b[39;00m:\n\u001b[1;32m    178\u001b[0m     \u001b[38;5;66;03m# we're accessing the attribute of the class, i.e., Dataset.geo\u001b[39;00m\n\u001b[1;32m    179\u001b[0m     \u001b[38;5;28;01mreturn\u001b[39;00m \u001b[38;5;28mself\u001b[39m\u001b[38;5;241m.\u001b[39m_accessor\n\u001b[0;32m--> 180\u001b[0m accessor_obj \u001b[38;5;241m=\u001b[39m \u001b[38;5;28;43mself\u001b[39;49m\u001b[38;5;241;43m.\u001b[39;49m\u001b[43m_accessor\u001b[49m\u001b[43m(\u001b[49m\u001b[43mobj\u001b[49m\u001b[43m)\u001b[49m\n\u001b[1;32m    181\u001b[0m \u001b[38;5;66;03m# Replace the property with the accessor object. Inspired by:\u001b[39;00m\n\u001b[1;32m    182\u001b[0m \u001b[38;5;66;03m# https://www.pydanny.com/cached-property.html\u001b[39;00m\n\u001b[1;32m    183\u001b[0m \u001b[38;5;66;03m# We need to use object.__setattr__ because we overwrite __setattr__ on\u001b[39;00m\n\u001b[1;32m    184\u001b[0m \u001b[38;5;66;03m# NDFrame\u001b[39;00m\n\u001b[1;32m    185\u001b[0m \u001b[38;5;28mobject\u001b[39m\u001b[38;5;241m.\u001b[39m\u001b[38;5;21m__setattr__\u001b[39m(obj, \u001b[38;5;28mself\u001b[39m\u001b[38;5;241m.\u001b[39m_name, accessor_obj)\n",
      "File \u001b[0;32m/shared-libs/python3.9/py/lib/python3.9/site-packages/pandas/core/indexes/accessors.py:494\u001b[0m, in \u001b[0;36mCombinedDatetimelikeProperties.__new__\u001b[0;34m(cls, data)\u001b[0m\n\u001b[1;32m    491\u001b[0m \u001b[38;5;28;01melif\u001b[39;00m is_period_dtype(data\u001b[38;5;241m.\u001b[39mdtype):\n\u001b[1;32m    492\u001b[0m     \u001b[38;5;28;01mreturn\u001b[39;00m PeriodProperties(data, orig)\n\u001b[0;32m--> 494\u001b[0m \u001b[38;5;28;01mraise\u001b[39;00m \u001b[38;5;167;01mAttributeError\u001b[39;00m(\u001b[38;5;124m\"\u001b[39m\u001b[38;5;124mCan only use .dt accessor with datetimelike values\u001b[39m\u001b[38;5;124m\"\u001b[39m)\n",
      "\u001b[0;31mAttributeError\u001b[0m: Can only use .dt accessor with datetimelike values"
     ]
    }
   ],
   "source": [
    "date_series.dt.day_name()"
   ]
  },
  {
   "cell_type": "markdown",
   "metadata": {},
   "source": [
    "Instead, we need to first convert these strings to Timestamps, using `pd.to_datetime`."
   ]
  },
  {
   "cell_type": "code",
   "execution_count": 26,
   "metadata": {
    "cell_id": "5a823c550dae4ca7b58d6cf0df950521",
    "deepnote_cell_type": "code",
    "deepnote_to_be_reexecuted": false,
    "execution_millis": 682,
    "execution_start": 1664558571574,
    "source_hash": "6dcc5f46",
    "tags": []
   },
   "outputs": [
    {
     "data": {
      "text/plain": [
       "0        Saturday\n",
       "1        Saturday\n",
       "2        Saturday\n",
       "3        Saturday\n",
       "4        Saturday\n",
       "          ...    \n",
       "6440    Wednesday\n",
       "6441    Wednesday\n",
       "6442    Wednesday\n",
       "6443    Wednesday\n",
       "6444    Wednesday\n",
       "Name: TransDate, Length: 6445, dtype: object"
      ]
     },
     "execution_count": 26,
     "metadata": {},
     "output_type": "execute_result"
    }
   ],
   "source": [
    "pd.to_datetime(date_series).dt.day_name()"
   ]
  },
  {
   "cell_type": "markdown",
   "metadata": {},
   "source": [
    "We now produce a Boolean Series indicating which days are Monday."
   ]
  },
  {
   "cell_type": "code",
   "execution_count": 27,
   "metadata": {
    "cell_id": "9c9634e1efbf42bd98526913a25eb078",
    "deepnote_cell_type": "code",
    "deepnote_to_be_reexecuted": false,
    "execution_millis": 395,
    "execution_start": 1664558644811,
    "source_hash": "e991debd",
    "tags": []
   },
   "outputs": [
    {
     "data": {
      "text/plain": [
       "0       False\n",
       "1       False\n",
       "2       False\n",
       "3       False\n",
       "4       False\n",
       "        ...  \n",
       "6440    False\n",
       "6441    False\n",
       "6442    False\n",
       "6443    False\n",
       "6444    False\n",
       "Name: TransDate, Length: 6445, dtype: bool"
      ]
     },
     "execution_count": 27,
     "metadata": {},
     "output_type": "execute_result"
    }
   ],
   "source": [
    "# Boolean Series\n",
    "pd.to_datetime(date_series).dt.day_name() == \"Monday\""
   ]
  },
  {
   "cell_type": "markdown",
   "metadata": {},
   "source": [
    "We now can use Boolean indexing to get only the Mondays out of `date_series`."
   ]
  },
  {
   "cell_type": "code",
   "execution_count": 28,
   "metadata": {
    "cell_id": "eb6d939300df41b68d99935d0d481712",
    "deepnote_cell_type": "code",
    "deepnote_to_be_reexecuted": false,
    "execution_millis": 661,
    "execution_start": 1664558674920,
    "source_hash": "792c6de0",
    "tags": []
   },
   "outputs": [
    {
     "data": {
      "text/plain": [
       "6       Monday, January 3, 2022\n",
       "7       Monday, January 3, 2022\n",
       "8       Monday, January 3, 2022\n",
       "9       Monday, January 3, 2022\n",
       "10      Monday, January 3, 2022\n",
       "                 ...           \n",
       "6389    Monday, August 29, 2022\n",
       "6390    Monday, August 29, 2022\n",
       "6391    Monday, August 29, 2022\n",
       "6392    Monday, August 29, 2022\n",
       "6393    Monday, August 29, 2022\n",
       "Name: TransDate, Length: 1023, dtype: object"
      ]
     },
     "execution_count": 28,
     "metadata": {},
     "output_type": "execute_result"
    }
   ],
   "source": [
    "date_series[pd.to_datetime(date_series).dt.day_name() == \"Monday\"]"
   ]
  },
  {
   "cell_type": "markdown",
   "metadata": {},
   "source": [
    "We can again use the `unique` method to get rid of the repetitions."
   ]
  },
  {
   "cell_type": "code",
   "execution_count": 29,
   "metadata": {
    "cell_id": "2c28e4e84cc44be7886c922ad2df1c96",
    "deepnote_cell_type": "code",
    "deepnote_to_be_reexecuted": false,
    "execution_millis": 14,
    "execution_start": 1664558688746,
    "source_hash": "2888f018",
    "tags": []
   },
   "outputs": [
    {
     "data": {
      "text/plain": [
       "array(['Monday, January 3, 2022', 'Monday, January 10, 2022',\n",
       "       'Monday, January 17, 2022', 'Monday, January 24, 2022',\n",
       "       'Monday, January 31, 2022', 'Monday, February 7, 2022',\n",
       "       'Monday, February 14, 2022', 'Monday, February 21, 2022',\n",
       "       'Monday, February 28, 2022', 'Monday, March 7, 2022',\n",
       "       'Monday, March 14, 2022', 'Monday, March 21, 2022',\n",
       "       'Monday, March 28, 2022', 'Monday, April 4, 2022',\n",
       "       'Monday, April 11, 2022', 'Monday, April 18, 2022',\n",
       "       'Monday, April 25, 2022', 'Monday, May 2, 2022',\n",
       "       'Monday, May 9, 2022', 'Monday, May 16, 2022',\n",
       "       'Monday, May 23, 2022', 'Monday, May 30, 2022',\n",
       "       'Monday, June 6, 2022', 'Monday, June 13, 2022',\n",
       "       'Monday, June 20, 2022', 'Monday, June 27, 2022',\n",
       "       'Monday, July 4, 2022', 'Monday, July 11, 2022',\n",
       "       'Monday, July 18, 2022', 'Monday, July 25, 2022',\n",
       "       'Monday, August 1, 2022', 'Monday, August 8, 2022',\n",
       "       'Monday, August 15, 2022', 'Monday, August 22, 2022',\n",
       "       'Monday, August 29, 2022'], dtype=object)"
      ]
     },
     "execution_count": 29,
     "metadata": {},
     "output_type": "execute_result"
    }
   ],
   "source": [
    "date_series[pd.to_datetime(date_series).dt.day_name() == \"Monday\"].unique()"
   ]
  },
  {
   "cell_type": "markdown",
   "metadata": {
    "cell_id": "d9e6fa42b385475e9a540819fd5bf663",
    "deepnote_cell_type": "markdown",
    "tags": []
   },
   "source": [
    "## Which location had the lowest average sale price?\n",
    "\n",
    "It's surprising how rarely in Math 10 we will write functions using `def` and how rarely we will use for loops, but these are essential parts of any programming language, and it is important to practice with them."
   ]
  },
  {
   "cell_type": "markdown",
   "metadata": {
    "cell_id": "e007882992dc41d6b2a58f7b6dbef796",
    "deepnote_cell_type": "markdown",
    "tags": []
   },
   "source": [
    "* Write a function `ave_sale` which takes as input a location (like the string \"GuttenPlans\") and as output returns the average sale price (from the \"RPrice\" column) for transactions at that location in the vending machines dataset."
   ]
  },
  {
   "cell_type": "markdown",
   "metadata": {},
   "source": [
    "We start out making this computation for a particular location."
   ]
  },
  {
   "cell_type": "code",
   "execution_count": 30,
   "metadata": {
    "cell_id": "63815c11958f42f79b91444de0ee0a12",
    "deepnote_cell_type": "code",
    "deepnote_to_be_reexecuted": false,
    "execution_millis": 5,
    "execution_start": 1664558946580,
    "source_hash": "27adbf40",
    "tags": []
   },
   "outputs": [],
   "source": [
    "s = \"GuttenPlans\""
   ]
  },
  {
   "cell_type": "markdown",
   "metadata": {},
   "source": [
    "Like above, here we are making a Boolean Series.  You could imagine that `df[\"Location\"] == s` would just return `False`, since the Series on the left is not equal to the string on the right, but instead pandas uses what is called *broadcasting* to instead compare each individual value to `s`.  That is how we end up with the Boolean Series displayed below."
   ]
  },
  {
   "cell_type": "code",
   "execution_count": 31,
   "metadata": {
    "cell_id": "750114a56ce24ec6af9c335e4a87607f",
    "deepnote_cell_type": "code",
    "deepnote_to_be_reexecuted": false,
    "execution_millis": 3,
    "execution_start": 1664558958130,
    "source_hash": "1d32a1ce",
    "tags": []
   },
   "outputs": [
    {
     "data": {
      "text/plain": [
       "0       False\n",
       "1       False\n",
       "2       False\n",
       "3       False\n",
       "4       False\n",
       "        ...  \n",
       "6440    False\n",
       "6441    False\n",
       "6442    False\n",
       "6443     True\n",
       "6444    False\n",
       "Name: Location, Length: 6445, dtype: bool"
      ]
     },
     "execution_count": 31,
     "metadata": {},
     "output_type": "execute_result"
    }
   ],
   "source": [
    "df[\"Location\"] == s"
   ]
  },
  {
   "cell_type": "markdown",
   "metadata": {},
   "source": [
    "Again, we can use Boolean indexing with the above Boolean Series.  We keep the rows corresponding to `True` in the above Boolean Series.  Notice how every location listed in this DataFrame is `\"GuttenPlans\"`."
   ]
  },
  {
   "cell_type": "code",
   "execution_count": 32,
   "metadata": {
    "cell_id": "44d4e8a589b04a45a2657ff242d733d9",
    "deepnote_cell_type": "code",
    "deepnote_to_be_reexecuted": false,
    "execution_millis": 424,
    "execution_start": 1664558969690,
    "source_hash": "8b4c136c",
    "tags": [
     "output_scroll"
    ]
   },
   "outputs": [
    {
     "data": {
      "application/vnd.deepnote.dataframe.v3+json": {
       "column_count": 18,
       "columns": [
        {
         "dtype": "object",
         "name": "Status",
         "stats": {
          "categories": [
           {
            "count": 2567,
            "name": "Processed"
           },
           {
            "count": 1,
            "name": "Unlinked"
           }
          ],
          "nan_count": 0,
          "unique_count": 2
         }
        },
        {
         "dtype": "object",
         "name": "Device ID",
         "stats": {
          "categories": [
           {
            "count": 2568,
            "name": "VJ300320609"
           }
          ],
          "nan_count": 0,
          "unique_count": 1
         }
        },
        {
         "dtype": "object",
         "name": "Location",
         "stats": {
          "categories": [
           {
            "count": 2568,
            "name": "GuttenPlans"
           }
          ],
          "nan_count": 0,
          "unique_count": 1
         }
        },
        {
         "dtype": "object",
         "name": "Machine",
         "stats": {
          "categories": [
           {
            "count": 2568,
            "name": "GuttenPlans x1367"
           }
          ],
          "nan_count": 0,
          "unique_count": 1
         }
        },
        {
         "dtype": "object",
         "name": "Product",
         "stats": {
          "categories": [
           {
            "count": 307,
            "name": "Monster Energy Original"
           },
           {
            "count": 2260,
            "name": "71 others"
           },
           {
            "count": 1,
            "name": "Missing"
           }
          ],
          "nan_count": 1,
          "unique_count": 72
         }
        },
        {
         "dtype": "object",
         "name": "Category",
         "stats": {
          "categories": [
           {
            "count": 1202,
            "name": "Food"
           },
           {
            "count": 1322,
            "name": "2 others"
           },
           {
            "count": 44,
            "name": "Missing"
           }
          ],
          "nan_count": 44,
          "unique_count": 3
         }
        },
        {
         "dtype": "int64",
         "name": "Transaction",
         "stats": {
          "histogram": [
           {
            "bin_end": 14628088449.1,
            "bin_start": 14519670154,
            "count": 253
           },
           {
            "bin_end": 14736506744.2,
            "bin_start": 14628088449.1,
            "count": 215
           },
           {
            "bin_end": 14844925039.3,
            "bin_start": 14736506744.2,
            "count": 230
           },
           {
            "bin_end": 14953343334.4,
            "bin_start": 14844925039.3,
            "count": 180
           },
           {
            "bin_end": 15061761629.5,
            "bin_start": 14953343334.4,
            "count": 303
           },
           {
            "bin_end": 15170179924.6,
            "bin_start": 15061761629.5,
            "count": 216
           },
           {
            "bin_end": 15278598219.7,
            "bin_start": 15170179924.6,
            "count": 198
           },
           {
            "bin_end": 15387016514.8,
            "bin_start": 15278598219.7,
            "count": 333
           },
           {
            "bin_end": 15495434809.9,
            "bin_start": 15387016514.8,
            "count": 353
           },
           {
            "bin_end": 15603853105,
            "bin_start": 15495434809.9,
            "count": 287
           }
          ],
          "max": "15603853105",
          "min": "14519670154",
          "nan_count": 0,
          "unique_count": 2398
         }
        },
        {
         "dtype": "object",
         "name": "TransDate",
         "stats": {
          "categories": [
           {
            "count": 35,
            "name": "Friday, July 1, 2022"
           },
           {
            "count": 30,
            "name": "Friday, August 5, 2022"
           },
           {
            "count": 2503,
            "name": "201 others"
           }
          ],
          "nan_count": 0,
          "unique_count": 203
         }
        },
        {
         "dtype": "object",
         "name": "Type",
         "stats": {
          "categories": [
           {
            "count": 1969,
            "name": "Cash"
           },
           {
            "count": 599,
            "name": "Credit"
           }
          ],
          "nan_count": 0,
          "unique_count": 2
         }
        },
        {
         "dtype": "int64",
         "name": "RCoil",
         "stats": {
          "histogram": [
           {
            "bin_end": 113.8,
            "bin_start": 110,
            "count": 319
           },
           {
            "bin_end": 117.6,
            "bin_start": 113.8,
            "count": 76
           },
           {
            "bin_end": 121.4,
            "bin_start": 117.6,
            "count": 162
           },
           {
            "bin_end": 125.2,
            "bin_start": 121.4,
            "count": 298
           },
           {
            "bin_end": 129,
            "bin_start": 125.2,
            "count": 0
           },
           {
            "bin_end": 132.8,
            "bin_start": 129,
            "count": 85
           },
           {
            "bin_end": 136.6,
            "bin_start": 132.8,
            "count": 164
           },
           {
            "bin_end": 140.4,
            "bin_start": 136.6,
            "count": 362
           },
           {
            "bin_end": 144.2,
            "bin_start": 140.4,
            "count": 648
           },
           {
            "bin_end": 148,
            "bin_start": 144.2,
            "count": 454
           }
          ],
          "max": "148",
          "min": "110",
          "nan_count": 0,
          "unique_count": 30
         }
        },
        {
         "dtype": "float64",
         "name": "RPrice",
         "stats": {
          "histogram": [
           {
            "bin_end": 1.25,
            "bin_start": 1,
            "count": 302
           },
           {
            "bin_end": 1.5,
            "bin_start": 1.25,
            "count": 51
           },
           {
            "bin_end": 1.75,
            "bin_start": 1.5,
            "count": 1240
           },
           {
            "bin_end": 2,
            "bin_start": 1.75,
            "count": 0
           },
           {
            "bin_end": 2.25,
            "bin_start": 2,
            "count": 199
           },
           {
            "bin_end": 2.5,
            "bin_start": 2.25,
            "count": 0
           },
           {
            "bin_end": 2.75,
            "bin_start": 2.5,
            "count": 325
           },
           {
            "bin_end": 3,
            "bin_start": 2.75,
            "count": 0
           },
           {
            "bin_end": 3.25,
            "bin_start": 3,
            "count": 340
           },
           {
            "bin_end": 3.5,
            "bin_start": 3.25,
            "count": 111
           }
          ],
          "max": "3.5",
          "min": "1.0",
          "nan_count": 0,
          "unique_count": 8
         }
        },
        {
         "dtype": "int64",
         "name": "RQty",
         "stats": {
          "histogram": [
           {
            "bin_end": 1.2,
            "bin_start": 1,
            "count": 2542
           },
           {
            "bin_end": 1.4,
            "bin_start": 1.2,
            "count": 0
           },
           {
            "bin_end": 1.6,
            "bin_start": 1.4,
            "count": 0
           },
           {
            "bin_end": 1.8,
            "bin_start": 1.6,
            "count": 0
           },
           {
            "bin_end": 2,
            "bin_start": 1.8,
            "count": 0
           },
           {
            "bin_end": 2.2,
            "bin_start": 2,
            "count": 25
           },
           {
            "bin_end": 2.4000000000000004,
            "bin_start": 2.2,
            "count": 0
           },
           {
            "bin_end": 2.6,
            "bin_start": 2.4000000000000004,
            "count": 0
           },
           {
            "bin_end": 2.8,
            "bin_start": 2.6,
            "count": 0
           },
           {
            "bin_end": 3,
            "bin_start": 2.8,
            "count": 1
           }
          ],
          "max": "3",
          "min": "1",
          "nan_count": 0,
          "unique_count": 3
         }
        },
        {
         "dtype": "int64",
         "name": "MCoil",
         "stats": {
          "histogram": [
           {
            "bin_end": 113.8,
            "bin_start": 110,
            "count": 319
           },
           {
            "bin_end": 117.6,
            "bin_start": 113.8,
            "count": 76
           },
           {
            "bin_end": 121.4,
            "bin_start": 117.6,
            "count": 162
           },
           {
            "bin_end": 125.2,
            "bin_start": 121.4,
            "count": 298
           },
           {
            "bin_end": 129,
            "bin_start": 125.2,
            "count": 0
           },
           {
            "bin_end": 132.8,
            "bin_start": 129,
            "count": 85
           },
           {
            "bin_end": 136.6,
            "bin_start": 132.8,
            "count": 164
           },
           {
            "bin_end": 140.4,
            "bin_start": 136.6,
            "count": 362
           },
           {
            "bin_end": 144.2,
            "bin_start": 140.4,
            "count": 648
           },
           {
            "bin_end": 148,
            "bin_start": 144.2,
            "count": 454
           }
          ],
          "max": "148",
          "min": "110",
          "nan_count": 0,
          "unique_count": 30
         }
        },
        {
         "dtype": "float64",
         "name": "MPrice",
         "stats": {
          "histogram": [
           {
            "bin_end": 1.25,
            "bin_start": 1,
            "count": 302
           },
           {
            "bin_end": 1.5,
            "bin_start": 1.25,
            "count": 51
           },
           {
            "bin_end": 1.75,
            "bin_start": 1.5,
            "count": 1239
           },
           {
            "bin_end": 2,
            "bin_start": 1.75,
            "count": 0
           },
           {
            "bin_end": 2.25,
            "bin_start": 2,
            "count": 199
           },
           {
            "bin_end": 2.5,
            "bin_start": 2.25,
            "count": 0
           },
           {
            "bin_end": 2.75,
            "bin_start": 2.5,
            "count": 325
           },
           {
            "bin_end": 3,
            "bin_start": 2.75,
            "count": 0
           },
           {
            "bin_end": 3.25,
            "bin_start": 3,
            "count": 340
           },
           {
            "bin_end": 3.5,
            "bin_start": 3.25,
            "count": 111
           }
          ],
          "max": "3.5",
          "min": "1.0",
          "nan_count": 1,
          "unique_count": 8
         }
        },
        {
         "dtype": "int64",
         "name": "MQty",
         "stats": {
          "histogram": [
           {
            "bin_end": 1.2,
            "bin_start": 1,
            "count": 2542
           },
           {
            "bin_end": 1.4,
            "bin_start": 1.2,
            "count": 0
           },
           {
            "bin_end": 1.6,
            "bin_start": 1.4,
            "count": 0
           },
           {
            "bin_end": 1.8,
            "bin_start": 1.6,
            "count": 0
           },
           {
            "bin_end": 2,
            "bin_start": 1.8,
            "count": 0
           },
           {
            "bin_end": 2.2,
            "bin_start": 2,
            "count": 25
           },
           {
            "bin_end": 2.4000000000000004,
            "bin_start": 2.2,
            "count": 0
           },
           {
            "bin_end": 2.6,
            "bin_start": 2.4000000000000004,
            "count": 0
           },
           {
            "bin_end": 2.8,
            "bin_start": 2.6,
            "count": 0
           },
           {
            "bin_end": 3,
            "bin_start": 2.8,
            "count": 1
           }
          ],
          "max": "3",
          "min": "1",
          "nan_count": 0,
          "unique_count": 3
         }
        },
        {
         "dtype": "float64",
         "name": "LineTotal",
         "stats": {
          "histogram": [
           {
            "bin_end": 1.4,
            "bin_start": 1,
            "count": 353
           },
           {
            "bin_end": 1.8,
            "bin_start": 1.4,
            "count": 1219
           },
           {
            "bin_end": 2.2,
            "bin_start": 1.8,
            "count": 195
           },
           {
            "bin_end": 2.6,
            "bin_start": 2.2,
            "count": 324
           },
           {
            "bin_end": 3,
            "bin_start": 2.6,
            "count": 0
           },
           {
            "bin_end": 3.4000000000000004,
            "bin_start": 3,
            "count": 376
           },
           {
            "bin_end": 3.8000000000000003,
            "bin_start": 3.4000000000000004,
            "count": 95
           },
           {
            "bin_end": 4.2,
            "bin_start": 3.8000000000000003,
            "count": 4
           },
           {
            "bin_end": 4.6,
            "bin_start": 4.2,
            "count": 1
           },
           {
            "bin_end": 5,
            "bin_start": 4.6,
            "count": 1
           }
          ],
          "max": "5.0",
          "min": "1.0",
          "nan_count": 0,
          "unique_count": 11
         }
        },
        {
         "dtype": "float64",
         "name": "TransTotal",
         "stats": {
          "histogram": [
           {
            "bin_end": 1.6,
            "bin_start": 1,
            "count": 1412
           },
           {
            "bin_end": 2.2,
            "bin_start": 1.6,
            "count": 152
           },
           {
            "bin_end": 2.8,
            "bin_start": 2.2,
            "count": 264
           },
           {
            "bin_end": 3.4,
            "bin_start": 2.8,
            "count": 394
           },
           {
            "bin_end": 4,
            "bin_start": 3.4,
            "count": 110
           },
           {
            "bin_end": 4.6,
            "bin_start": 4,
            "count": 92
           },
           {
            "bin_end": 5.2,
            "bin_start": 4.6,
            "count": 66
           },
           {
            "bin_end": 5.8,
            "bin_start": 5.2,
            "count": 38
           },
           {
            "bin_end": 6.3999999999999995,
            "bin_start": 5.8,
            "count": 17
           },
           {
            "bin_end": 7,
            "bin_start": 6.3999999999999995,
            "count": 23
           }
          ],
          "max": "7.0",
          "min": "1.0",
          "nan_count": 0,
          "unique_count": 18
         }
        },
        {
         "dtype": "object",
         "name": "Prcd Date",
         "stats": {
          "categories": [
           {
            "count": 45,
            "name": "7/22/2022"
           },
           {
            "count": 30,
            "name": "8/11/2022"
           },
           {
            "count": 2493,
            "name": "195 others"
           }
          ],
          "nan_count": 0,
          "unique_count": 197
         }
        },
        {
         "dtype": "int64",
         "name": "_deepnote_index_column"
        }
       ],
       "row_count": 2568,
       "rows": [
        {
         "Category": "Carbonated",
         "Device ID": "VJ300320609",
         "LineTotal": "3.0",
         "Location": "GuttenPlans",
         "MCoil": "144",
         "MPrice": "3.0",
         "MQty": "1",
         "Machine": "GuttenPlans x1367",
         "Prcd Date": "1/3/2022",
         "Product": "Monster Energy Original",
         "RCoil": "144",
         "RPrice": "3.0",
         "RQty": "1",
         "Status": "Processed",
         "TransDate": "Monday, January 3, 2022",
         "TransTotal": "3.0",
         "Transaction": "14519670154",
         "Type": "Credit",
         "_deepnote_index_column": "8"
        },
        {
         "Category": "Non Carbonated",
         "Device ID": "VJ300320609",
         "LineTotal": "2.5",
         "Location": "GuttenPlans",
         "MCoil": "143",
         "MPrice": "2.5",
         "MQty": "1",
         "Machine": "GuttenPlans x1367",
         "Prcd Date": "1/3/2022",
         "Product": "Snapple Diet Tea - Lemon",
         "RCoil": "143",
         "RPrice": "2.5",
         "RQty": "1",
         "Status": "Processed",
         "TransDate": "Monday, January 3, 2022",
         "TransTotal": "2.5",
         "Transaction": "14520522827",
         "Type": "Cash",
         "_deepnote_index_column": "10"
        },
        {
         "Category": "Food",
         "Device ID": "VJ300320609",
         "LineTotal": "1.5",
         "Location": "GuttenPlans",
         "MCoil": "111",
         "MPrice": "1.5",
         "MQty": "1",
         "Machine": "GuttenPlans x1367",
         "Prcd Date": "1/3/2022",
         "Product": "Skinny Pop Popcorn",
         "RCoil": "111",
         "RPrice": "1.5",
         "RQty": "1",
         "Status": "Processed",
         "TransDate": "Monday, January 3, 2022",
         "TransTotal": "1.5",
         "Transaction": "14520523909",
         "Type": "Cash",
         "_deepnote_index_column": "11"
        },
        {
         "Category": "Food",
         "Device ID": "VJ300320609",
         "LineTotal": "1.0",
         "Location": "GuttenPlans",
         "MCoil": "131",
         "MPrice": "1.0",
         "MQty": "1",
         "Machine": "GuttenPlans x1367",
         "Prcd Date": "1/3/2022",
         "Product": "Stretch Island Fruit Leathers Snacks - Variet",
         "RCoil": "131",
         "RPrice": "1.0",
         "RQty": "1",
         "Status": "Processed",
         "TransDate": "Monday, January 3, 2022",
         "TransTotal": "1.0",
         "Transaction": "14520526471",
         "Type": "Cash",
         "_deepnote_index_column": "12"
        },
        {
         "Category": "Food",
         "Device ID": "VJ300320609",
         "LineTotal": "1.5",
         "Location": "GuttenPlans",
         "MCoil": "111",
         "MPrice": "1.5",
         "MQty": "1",
         "Machine": "GuttenPlans x1367",
         "Prcd Date": "1/3/2022",
         "Product": "Skinny Pop Popcorn",
         "RCoil": "111",
         "RPrice": "1.5",
         "RQty": "1",
         "Status": "Processed",
         "TransDate": "Monday, January 3, 2022",
         "TransTotal": "1.5",
         "Transaction": "14520565434",
         "Type": "Cash",
         "_deepnote_index_column": "14"
        },
        {
         "Category": "Non Carbonated",
         "Device ID": "VJ300320609",
         "LineTotal": "2.5",
         "Location": "GuttenPlans",
         "MCoil": "143",
         "MPrice": "2.5",
         "MQty": "1",
         "Machine": "GuttenPlans x1367",
         "Prcd Date": "1/3/2022",
         "Product": "Snapple Diet Tea - Lemon",
         "RCoil": "143",
         "RPrice": "2.5",
         "RQty": "1",
         "Status": "Processed",
         "TransDate": "Monday, January 3, 2022",
         "TransTotal": "2.5",
         "Transaction": "14521610477",
         "Type": "Cash",
         "_deepnote_index_column": "18"
        },
        {
         "Category": "Carbonated",
         "Device ID": "VJ300320609",
         "LineTotal": "3.0",
         "Location": "GuttenPlans",
         "MCoil": "146",
         "MPrice": "3.0",
         "MQty": "1",
         "Machine": "GuttenPlans x1367",
         "Prcd Date": "1/3/2022",
         "Product": "Monster Energy Original",
         "RCoil": "146",
         "RPrice": "3.0",
         "RQty": "1",
         "Status": "Processed",
         "TransDate": "Monday, January 3, 2022",
         "TransTotal": "3.0",
         "Transaction": "14522404967",
         "Type": "Cash",
         "_deepnote_index_column": "19"
        },
        {
         "Category": "Carbonated",
         "Device ID": "VJ300320609",
         "LineTotal": "3.0",
         "Location": "GuttenPlans",
         "MCoil": "144",
         "MPrice": "3.0",
         "MQty": "1",
         "Machine": "GuttenPlans x1367",
         "Prcd Date": "1/3/2022",
         "Product": "Monster Energy Original",
         "RCoil": "144",
         "RPrice": "3.0",
         "RQty": "1",
         "Status": "Processed",
         "TransDate": "Monday, January 3, 2022",
         "TransTotal": "3.0",
         "Transaction": "14522580949",
         "Type": "Cash",
         "_deepnote_index_column": "20"
        },
        {
         "Category": "Carbonated",
         "Device ID": "VJ300320609",
         "LineTotal": "1.0",
         "Location": "GuttenPlans",
         "MCoil": "140",
         "MPrice": "1.0",
         "MQty": "1",
         "Machine": "GuttenPlans x1367",
         "Prcd Date": "1/3/2022",
         "Product": "Spindrift - Sparkling Water  Lime",
         "RCoil": "140",
         "RPrice": "1.0",
         "RQty": "1",
         "Status": "Processed",
         "TransDate": "Tuesday, January 4, 2022",
         "TransTotal": "1.0",
         "Transaction": "14522634264",
         "Type": "Cash",
         "_deepnote_index_column": "21"
        },
        {
         "Category": "Food",
         "Device ID": "VJ300320609",
         "LineTotal": "2.0",
         "Location": "GuttenPlans",
         "MCoil": "134",
         "MPrice": "2.0",
         "MQty": "1",
         "Machine": "GuttenPlans x1367",
         "Prcd Date": "1/3/2022",
         "Product": "KitKat - Crisp Wafers",
         "RCoil": "134",
         "RPrice": "2.0",
         "RQty": "1",
         "Status": "Processed",
         "TransDate": "Tuesday, January 4, 2022",
         "TransTotal": "2.0",
         "Transaction": "14522634805",
         "Type": "Cash",
         "_deepnote_index_column": "22"
        }
       ]
      },
      "text/html": [
       "<div>\n",
       "<style scoped>\n",
       "    .dataframe tbody tr th:only-of-type {\n",
       "        vertical-align: middle;\n",
       "    }\n",
       "\n",
       "    .dataframe tbody tr th {\n",
       "        vertical-align: top;\n",
       "    }\n",
       "\n",
       "    .dataframe thead th {\n",
       "        text-align: right;\n",
       "    }\n",
       "</style>\n",
       "<table border=\"1\" class=\"dataframe\">\n",
       "  <thead>\n",
       "    <tr style=\"text-align: right;\">\n",
       "      <th></th>\n",
       "      <th>Status</th>\n",
       "      <th>Device ID</th>\n",
       "      <th>Location</th>\n",
       "      <th>Machine</th>\n",
       "      <th>Product</th>\n",
       "      <th>Category</th>\n",
       "      <th>Transaction</th>\n",
       "      <th>TransDate</th>\n",
       "      <th>Type</th>\n",
       "      <th>RCoil</th>\n",
       "      <th>RPrice</th>\n",
       "      <th>RQty</th>\n",
       "      <th>MCoil</th>\n",
       "      <th>MPrice</th>\n",
       "      <th>MQty</th>\n",
       "      <th>LineTotal</th>\n",
       "      <th>TransTotal</th>\n",
       "      <th>Prcd Date</th>\n",
       "    </tr>\n",
       "  </thead>\n",
       "  <tbody>\n",
       "    <tr>\n",
       "      <th>8</th>\n",
       "      <td>Processed</td>\n",
       "      <td>VJ300320609</td>\n",
       "      <td>GuttenPlans</td>\n",
       "      <td>GuttenPlans x1367</td>\n",
       "      <td>Monster Energy Original</td>\n",
       "      <td>Carbonated</td>\n",
       "      <td>14519670154</td>\n",
       "      <td>Monday, January 3, 2022</td>\n",
       "      <td>Credit</td>\n",
       "      <td>144</td>\n",
       "      <td>3.0</td>\n",
       "      <td>1</td>\n",
       "      <td>144</td>\n",
       "      <td>3.0</td>\n",
       "      <td>1</td>\n",
       "      <td>3.0</td>\n",
       "      <td>3.0</td>\n",
       "      <td>1/3/2022</td>\n",
       "    </tr>\n",
       "    <tr>\n",
       "      <th>10</th>\n",
       "      <td>Processed</td>\n",
       "      <td>VJ300320609</td>\n",
       "      <td>GuttenPlans</td>\n",
       "      <td>GuttenPlans x1367</td>\n",
       "      <td>Snapple Diet Tea - Lemon</td>\n",
       "      <td>Non Carbonated</td>\n",
       "      <td>14520522827</td>\n",
       "      <td>Monday, January 3, 2022</td>\n",
       "      <td>Cash</td>\n",
       "      <td>143</td>\n",
       "      <td>2.5</td>\n",
       "      <td>1</td>\n",
       "      <td>143</td>\n",
       "      <td>2.5</td>\n",
       "      <td>1</td>\n",
       "      <td>2.5</td>\n",
       "      <td>2.5</td>\n",
       "      <td>1/3/2022</td>\n",
       "    </tr>\n",
       "    <tr>\n",
       "      <th>11</th>\n",
       "      <td>Processed</td>\n",
       "      <td>VJ300320609</td>\n",
       "      <td>GuttenPlans</td>\n",
       "      <td>GuttenPlans x1367</td>\n",
       "      <td>Skinny Pop Popcorn</td>\n",
       "      <td>Food</td>\n",
       "      <td>14520523909</td>\n",
       "      <td>Monday, January 3, 2022</td>\n",
       "      <td>Cash</td>\n",
       "      <td>111</td>\n",
       "      <td>1.5</td>\n",
       "      <td>1</td>\n",
       "      <td>111</td>\n",
       "      <td>1.5</td>\n",
       "      <td>1</td>\n",
       "      <td>1.5</td>\n",
       "      <td>1.5</td>\n",
       "      <td>1/3/2022</td>\n",
       "    </tr>\n",
       "    <tr>\n",
       "      <th>12</th>\n",
       "      <td>Processed</td>\n",
       "      <td>VJ300320609</td>\n",
       "      <td>GuttenPlans</td>\n",
       "      <td>GuttenPlans x1367</td>\n",
       "      <td>Stretch Island Fruit Leathers Snacks - Variet</td>\n",
       "      <td>Food</td>\n",
       "      <td>14520526471</td>\n",
       "      <td>Monday, January 3, 2022</td>\n",
       "      <td>Cash</td>\n",
       "      <td>131</td>\n",
       "      <td>1.0</td>\n",
       "      <td>1</td>\n",
       "      <td>131</td>\n",
       "      <td>1.0</td>\n",
       "      <td>1</td>\n",
       "      <td>1.0</td>\n",
       "      <td>1.0</td>\n",
       "      <td>1/3/2022</td>\n",
       "    </tr>\n",
       "    <tr>\n",
       "      <th>14</th>\n",
       "      <td>Processed</td>\n",
       "      <td>VJ300320609</td>\n",
       "      <td>GuttenPlans</td>\n",
       "      <td>GuttenPlans x1367</td>\n",
       "      <td>Skinny Pop Popcorn</td>\n",
       "      <td>Food</td>\n",
       "      <td>14520565434</td>\n",
       "      <td>Monday, January 3, 2022</td>\n",
       "      <td>Cash</td>\n",
       "      <td>111</td>\n",
       "      <td>1.5</td>\n",
       "      <td>1</td>\n",
       "      <td>111</td>\n",
       "      <td>1.5</td>\n",
       "      <td>1</td>\n",
       "      <td>1.5</td>\n",
       "      <td>1.5</td>\n",
       "      <td>1/3/2022</td>\n",
       "    </tr>\n",
       "    <tr>\n",
       "      <th>...</th>\n",
       "      <td>...</td>\n",
       "      <td>...</td>\n",
       "      <td>...</td>\n",
       "      <td>...</td>\n",
       "      <td>...</td>\n",
       "      <td>...</td>\n",
       "      <td>...</td>\n",
       "      <td>...</td>\n",
       "      <td>...</td>\n",
       "      <td>...</td>\n",
       "      <td>...</td>\n",
       "      <td>...</td>\n",
       "      <td>...</td>\n",
       "      <td>...</td>\n",
       "      <td>...</td>\n",
       "      <td>...</td>\n",
       "      <td>...</td>\n",
       "      <td>...</td>\n",
       "    </tr>\n",
       "    <tr>\n",
       "      <th>6418</th>\n",
       "      <td>Processed</td>\n",
       "      <td>VJ300320609</td>\n",
       "      <td>GuttenPlans</td>\n",
       "      <td>GuttenPlans x1367</td>\n",
       "      <td>Fritos - Original</td>\n",
       "      <td>Food</td>\n",
       "      <td>15598584893</td>\n",
       "      <td>Tuesday, August 30, 2022</td>\n",
       "      <td>Cash</td>\n",
       "      <td>125</td>\n",
       "      <td>1.5</td>\n",
       "      <td>1</td>\n",
       "      <td>125</td>\n",
       "      <td>1.5</td>\n",
       "      <td>1</td>\n",
       "      <td>1.5</td>\n",
       "      <td>1.5</td>\n",
       "      <td>8/30/2022</td>\n",
       "    </tr>\n",
       "    <tr>\n",
       "      <th>6419</th>\n",
       "      <td>Processed</td>\n",
       "      <td>VJ300320609</td>\n",
       "      <td>GuttenPlans</td>\n",
       "      <td>GuttenPlans x1367</td>\n",
       "      <td>Doritos Famin Hot Nacho</td>\n",
       "      <td>Food</td>\n",
       "      <td>15598991940</td>\n",
       "      <td>Tuesday, August 30, 2022</td>\n",
       "      <td>Cash</td>\n",
       "      <td>112</td>\n",
       "      <td>1.5</td>\n",
       "      <td>1</td>\n",
       "      <td>112</td>\n",
       "      <td>1.5</td>\n",
       "      <td>1</td>\n",
       "      <td>1.5</td>\n",
       "      <td>1.5</td>\n",
       "      <td>8/30/2022</td>\n",
       "    </tr>\n",
       "    <tr>\n",
       "      <th>6432</th>\n",
       "      <td>Processed</td>\n",
       "      <td>VJ300320609</td>\n",
       "      <td>GuttenPlans</td>\n",
       "      <td>GuttenPlans x1367</td>\n",
       "      <td>Cheetos - Fleming Hot Crunchy</td>\n",
       "      <td>Food</td>\n",
       "      <td>15600267402</td>\n",
       "      <td>Tuesday, August 30, 2022</td>\n",
       "      <td>Cash</td>\n",
       "      <td>122</td>\n",
       "      <td>1.5</td>\n",
       "      <td>1</td>\n",
       "      <td>122</td>\n",
       "      <td>1.5</td>\n",
       "      <td>1</td>\n",
       "      <td>1.5</td>\n",
       "      <td>1.5</td>\n",
       "      <td>8/30/2022</td>\n",
       "    </tr>\n",
       "    <tr>\n",
       "      <th>6434</th>\n",
       "      <td>Processed</td>\n",
       "      <td>VJ300320609</td>\n",
       "      <td>GuttenPlans</td>\n",
       "      <td>GuttenPlans x1367</td>\n",
       "      <td>Fritos - Original</td>\n",
       "      <td>Food</td>\n",
       "      <td>15600761938</td>\n",
       "      <td>Tuesday, August 30, 2022</td>\n",
       "      <td>Cash</td>\n",
       "      <td>125</td>\n",
       "      <td>1.5</td>\n",
       "      <td>1</td>\n",
       "      <td>125</td>\n",
       "      <td>1.5</td>\n",
       "      <td>1</td>\n",
       "      <td>1.5</td>\n",
       "      <td>1.5</td>\n",
       "      <td>8/30/2022</td>\n",
       "    </tr>\n",
       "    <tr>\n",
       "      <th>6443</th>\n",
       "      <td>Processed</td>\n",
       "      <td>VJ300320609</td>\n",
       "      <td>GuttenPlans</td>\n",
       "      <td>GuttenPlans x1367</td>\n",
       "      <td>Snapple Tea - Lemon</td>\n",
       "      <td>Non Carbonated</td>\n",
       "      <td>15603853105</td>\n",
       "      <td>Wednesday, August 31, 2022</td>\n",
       "      <td>Credit</td>\n",
       "      <td>145</td>\n",
       "      <td>2.5</td>\n",
       "      <td>1</td>\n",
       "      <td>145</td>\n",
       "      <td>2.5</td>\n",
       "      <td>1</td>\n",
       "      <td>2.5</td>\n",
       "      <td>2.5</td>\n",
       "      <td>8/31/2022</td>\n",
       "    </tr>\n",
       "  </tbody>\n",
       "</table>\n",
       "<p>2568 rows × 18 columns</p>\n",
       "</div>"
      ],
      "text/plain": [
       "         Status    Device ID     Location            Machine  \\\n",
       "8     Processed  VJ300320609  GuttenPlans  GuttenPlans x1367   \n",
       "10    Processed  VJ300320609  GuttenPlans  GuttenPlans x1367   \n",
       "11    Processed  VJ300320609  GuttenPlans  GuttenPlans x1367   \n",
       "12    Processed  VJ300320609  GuttenPlans  GuttenPlans x1367   \n",
       "14    Processed  VJ300320609  GuttenPlans  GuttenPlans x1367   \n",
       "...         ...          ...          ...                ...   \n",
       "6418  Processed  VJ300320609  GuttenPlans  GuttenPlans x1367   \n",
       "6419  Processed  VJ300320609  GuttenPlans  GuttenPlans x1367   \n",
       "6432  Processed  VJ300320609  GuttenPlans  GuttenPlans x1367   \n",
       "6434  Processed  VJ300320609  GuttenPlans  GuttenPlans x1367   \n",
       "6443  Processed  VJ300320609  GuttenPlans  GuttenPlans x1367   \n",
       "\n",
       "                                            Product        Category  \\\n",
       "8                           Monster Energy Original      Carbonated   \n",
       "10                         Snapple Diet Tea - Lemon  Non Carbonated   \n",
       "11                               Skinny Pop Popcorn            Food   \n",
       "12    Stretch Island Fruit Leathers Snacks - Variet            Food   \n",
       "14                               Skinny Pop Popcorn            Food   \n",
       "...                                             ...             ...   \n",
       "6418                              Fritos - Original            Food   \n",
       "6419                        Doritos Famin Hot Nacho            Food   \n",
       "6432                  Cheetos - Fleming Hot Crunchy            Food   \n",
       "6434                              Fritos - Original            Food   \n",
       "6443                            Snapple Tea - Lemon  Non Carbonated   \n",
       "\n",
       "      Transaction                   TransDate    Type  RCoil  RPrice  RQty  \\\n",
       "8     14519670154     Monday, January 3, 2022  Credit    144     3.0     1   \n",
       "10    14520522827     Monday, January 3, 2022    Cash    143     2.5     1   \n",
       "11    14520523909     Monday, January 3, 2022    Cash    111     1.5     1   \n",
       "12    14520526471     Monday, January 3, 2022    Cash    131     1.0     1   \n",
       "14    14520565434     Monday, January 3, 2022    Cash    111     1.5     1   \n",
       "...           ...                         ...     ...    ...     ...   ...   \n",
       "6418  15598584893    Tuesday, August 30, 2022    Cash    125     1.5     1   \n",
       "6419  15598991940    Tuesday, August 30, 2022    Cash    112     1.5     1   \n",
       "6432  15600267402    Tuesday, August 30, 2022    Cash    122     1.5     1   \n",
       "6434  15600761938    Tuesday, August 30, 2022    Cash    125     1.5     1   \n",
       "6443  15603853105  Wednesday, August 31, 2022  Credit    145     2.5     1   \n",
       "\n",
       "      MCoil  MPrice  MQty  LineTotal  TransTotal  Prcd Date  \n",
       "8       144     3.0     1        3.0         3.0   1/3/2022  \n",
       "10      143     2.5     1        2.5         2.5   1/3/2022  \n",
       "11      111     1.5     1        1.5         1.5   1/3/2022  \n",
       "12      131     1.0     1        1.0         1.0   1/3/2022  \n",
       "14      111     1.5     1        1.5         1.5   1/3/2022  \n",
       "...     ...     ...   ...        ...         ...        ...  \n",
       "6418    125     1.5     1        1.5         1.5  8/30/2022  \n",
       "6419    112     1.5     1        1.5         1.5  8/30/2022  \n",
       "6432    122     1.5     1        1.5         1.5  8/30/2022  \n",
       "6434    125     1.5     1        1.5         1.5  8/30/2022  \n",
       "6443    145     2.5     1        2.5         2.5  8/31/2022  \n",
       "\n",
       "[2568 rows x 18 columns]"
      ]
     },
     "execution_count": 32,
     "metadata": {},
     "output_type": "execute_result"
    }
   ],
   "source": [
    "df[df[\"Location\"] == s]"
   ]
  },
  {
   "cell_type": "markdown",
   "metadata": {},
   "source": [
    "From the DataFrame displayed above, we can now get the `\"RPrice\"` column."
   ]
  },
  {
   "cell_type": "code",
   "execution_count": 33,
   "metadata": {
    "cell_id": "81321a3d6705472180e7726807d5c554",
    "deepnote_cell_type": "code",
    "deepnote_to_be_reexecuted": false,
    "execution_millis": 6,
    "execution_start": 1664558997448,
    "source_hash": "b156ba1d",
    "tags": []
   },
   "outputs": [
    {
     "data": {
      "text/plain": [
       "8       3.0\n",
       "10      2.5\n",
       "11      1.5\n",
       "12      1.0\n",
       "14      1.5\n",
       "       ... \n",
       "6418    1.5\n",
       "6419    1.5\n",
       "6432    1.5\n",
       "6434    1.5\n",
       "6443    2.5\n",
       "Name: RPrice, Length: 2568, dtype: float64"
      ]
     },
     "execution_count": 33,
     "metadata": {},
     "output_type": "execute_result"
    }
   ],
   "source": [
    "df[df[\"Location\"] == s][\"RPrice\"]"
   ]
  },
  {
   "cell_type": "markdown",
   "metadata": {},
   "source": [
    "An alternative, that is equally good, is to start with the `\"RPrice\"` column, and then apply Boolean indexing to that.  This is the approach taken in the next cell.  It should create the exact same Series."
   ]
  },
  {
   "cell_type": "code",
   "execution_count": 34,
   "metadata": {
    "cell_id": "26dc3e61cc9f4e1fb00c98546b03759f",
    "deepnote_cell_type": "code",
    "deepnote_to_be_reexecuted": false,
    "execution_millis": 3,
    "execution_start": 1664559063040,
    "source_hash": "632af0c5",
    "tags": []
   },
   "outputs": [
    {
     "data": {
      "text/plain": [
       "8       3.0\n",
       "10      2.5\n",
       "11      1.5\n",
       "12      1.0\n",
       "14      1.5\n",
       "       ... \n",
       "6418    1.5\n",
       "6419    1.5\n",
       "6432    1.5\n",
       "6434    1.5\n",
       "6443    2.5\n",
       "Name: RPrice, Length: 2568, dtype: float64"
      ]
     },
     "execution_count": 34,
     "metadata": {},
     "output_type": "execute_result"
    }
   ],
   "source": [
    "df[\"RPrice\"][df[\"Location\"] == s]"
   ]
  },
  {
   "cell_type": "markdown",
   "metadata": {},
   "source": [
    "Once we have this Series, we can compute the average of the Series using the `mean` method."
   ]
  },
  {
   "cell_type": "code",
   "execution_count": 35,
   "metadata": {
    "cell_id": "ce06c1439c234614841140181141f2ae",
    "deepnote_cell_type": "code",
    "deepnote_to_be_reexecuted": false,
    "execution_millis": 931,
    "execution_start": 1664559126601,
    "source_hash": "1dae29e9",
    "tags": []
   },
   "outputs": [
    {
     "data": {
      "text/plain": [
       "1.8850272585669783"
      ]
     },
     "execution_count": 35,
     "metadata": {},
     "output_type": "execute_result"
    }
   ],
   "source": [
    "df[\"RPrice\"][df[\"Location\"] == s].mean()"
   ]
  },
  {
   "cell_type": "markdown",
   "metadata": {},
   "source": [
    "If you didn't know that the `mean` method existed, you could instead use the `sum` method and then divide by the length.  Make sure you are dividing by the length of this \"GuttenPlans\" Series, and not the length of the original DataFrame or the original full column `df[\"RPrice\"]`."
   ]
  },
  {
   "cell_type": "code",
   "execution_count": 37,
   "metadata": {
    "cell_id": "ef7fc64283444e289c97af646e6c72c8",
    "deepnote_cell_type": "code",
    "deepnote_to_be_reexecuted": false,
    "execution_millis": 4,
    "execution_start": 1664559207259,
    "source_hash": "bbb7a0f4",
    "tags": []
   },
   "outputs": [],
   "source": [
    "sub_series = df[\"RPrice\"][df[\"Location\"] == s]"
   ]
  },
  {
   "cell_type": "code",
   "execution_count": 38,
   "metadata": {
    "cell_id": "6042d5da7bb849f5aadacba8507cda96",
    "deepnote_cell_type": "code",
    "deepnote_to_be_reexecuted": false,
    "execution_millis": 505,
    "execution_start": 1664559216019,
    "source_hash": "4591407a",
    "tags": []
   },
   "outputs": [
    {
     "data": {
      "text/plain": [
       "1.8850272585669783"
      ]
     },
     "execution_count": 38,
     "metadata": {},
     "output_type": "execute_result"
    }
   ],
   "source": [
    "sub_series.sum()/len(sub_series)"
   ]
  },
  {
   "cell_type": "markdown",
   "metadata": {},
   "source": [
    "Now that we have seen how to get the desired answer for one particular location, it is easy to turn this into a general function.  (Be sure to practice writing this function syntax on your own.  It will be very difficult to remember unless you try writing it on your own, without looking at a sample.)  In this case, we are naming the input string `loc`, so we replace `s` in the above formula by `loc`.  The variable could just as well have been called something like `x` instead of `loc`."
   ]
  },
  {
   "cell_type": "code",
   "execution_count": 39,
   "metadata": {
    "cell_id": "23fe443d518c4a9fb5ff5749aaba1226",
    "deepnote_cell_type": "code",
    "deepnote_to_be_reexecuted": false,
    "execution_millis": 1,
    "execution_start": 1664559339411,
    "source_hash": "d909cae3",
    "tags": []
   },
   "outputs": [],
   "source": [
    "def ave_sale(loc):\n",
    "    return df[\"RPrice\"][df[\"Location\"] == loc].mean()"
   ]
  },
  {
   "cell_type": "markdown",
   "metadata": {},
   "source": [
    "We get the same answer as above, which is good, but we should be careful to also test the function on other values."
   ]
  },
  {
   "cell_type": "code",
   "execution_count": 40,
   "metadata": {
    "cell_id": "72964093e61149f48c53c51a7640ac78",
    "deepnote_cell_type": "code",
    "deepnote_to_be_reexecuted": false,
    "execution_millis": 6,
    "execution_start": 1664559346237,
    "source_hash": "4f1e20ec",
    "tags": []
   },
   "outputs": [
    {
     "data": {
      "text/plain": [
       "1.8850272585669783"
      ]
     },
     "execution_count": 40,
     "metadata": {},
     "output_type": "execute_result"
    }
   ],
   "source": [
    "ave_sale(\"GuttenPlans\")"
   ]
  },
  {
   "cell_type": "markdown",
   "metadata": {},
   "source": [
    "The fact that the function also works on another location, and gives us a distinct answer, is a good sign."
   ]
  },
  {
   "cell_type": "code",
   "execution_count": 41,
   "metadata": {
    "cell_id": "c279aa5e672d41578f20ebc070ff930e",
    "deepnote_cell_type": "code",
    "deepnote_to_be_reexecuted": false,
    "execution_millis": 6,
    "execution_start": 1664559397715,
    "source_hash": "2ef1cfcf",
    "tags": []
   },
   "outputs": [
    {
     "data": {
      "text/plain": [
       "1.9276778733385458"
      ]
     },
     "execution_count": 41,
     "metadata": {},
     "output_type": "execute_result"
    }
   ],
   "source": [
    "ave_sale(\"Brunswick Sq Mall\")"
   ]
  },
  {
   "cell_type": "markdown",
   "metadata": {
    "cell_id": "5d10c9bdf12d47ffba485fb056fc75b8",
    "deepnote_cell_type": "markdown",
    "tags": []
   },
   "source": [
    "* Define the same function, this time using a `lambda` function.\n",
    "\n",
    "Notice how our answer above did not involve any intermediate compuations; the whole formula fit on a single line."
   ]
  },
  {
   "cell_type": "code",
   "execution_count": 42,
   "metadata": {
    "cell_id": "88342b302b674ac89ff6b826fa2c6d69",
    "deepnote_cell_type": "code",
    "deepnote_to_be_reexecuted": false,
    "execution_millis": 0,
    "execution_start": 1664559502296,
    "source_hash": "dcb2f90b",
    "tags": []
   },
   "outputs": [],
   "source": [
    "# Full definition syntax\n",
    "def ave_sale(loc):\n",
    "    return df[\"RPrice\"][df[\"Location\"] == loc].mean()"
   ]
  },
  {
   "cell_type": "markdown",
   "metadata": {},
   "source": [
    "For that kind of short function definition, it is often more elegant to define it using what is called a `lambda` function.  In this case, the term `lambda` is telling Python that a function is going to be defined.  (This is like the `@` syntax in Matlab, for defining anonymous functions.)  The part that comes before the colon lists the zero or more input variables, and the part that comes after the colon is the returned value.  Notice how in the `def` notation, we need to use the `return` operator, but in this `lambda` function syntax, we do not explicitly use the word `return`."
   ]
  },
  {
   "cell_type": "code",
   "execution_count": 43,
   "metadata": {
    "cell_id": "03b0b512b57c4fa39e97e798c5b0b0d5",
    "deepnote_cell_type": "code",
    "deepnote_to_be_reexecuted": false,
    "execution_millis": 2,
    "execution_start": 1664559594506,
    "source_hash": "4fbb3cb7",
    "tags": []
   },
   "outputs": [],
   "source": [
    "# lambda function definition\n",
    "ave_sale2 = lambda loc: df[\"RPrice\"][df[\"Location\"] == loc].mean()"
   ]
  },
  {
   "cell_type": "markdown",
   "metadata": {},
   "source": [
    "Let's check that this `ave_sale2` gives the same answer as above."
   ]
  },
  {
   "cell_type": "code",
   "execution_count": 44,
   "metadata": {
    "cell_id": "455a00fef9ad4b9ca2c08721bcbcb669",
    "deepnote_cell_type": "code",
    "deepnote_to_be_reexecuted": false,
    "execution_millis": 863,
    "execution_start": 1664559623590,
    "source_hash": "90c07671",
    "tags": []
   },
   "outputs": [
    {
     "data": {
      "text/plain": [
       "1.9276778733385458"
      ]
     },
     "execution_count": 44,
     "metadata": {},
     "output_type": "execute_result"
    }
   ],
   "source": [
    "ave_sale2(\"Brunswick Sq Mall\")"
   ]
  },
  {
   "cell_type": "markdown",
   "metadata": {
    "cell_id": "9c548283040745d780eb69204cc68d9e",
    "deepnote_cell_type": "markdown",
    "tags": []
   },
   "source": [
    "* For each location, display the name of that location together with the average price.  Use a for loop."
   ]
  },
  {
   "cell_type": "markdown",
   "metadata": {},
   "source": [
    "Here we are going to iterate through each unique location."
   ]
  },
  {
   "cell_type": "code",
   "execution_count": 45,
   "metadata": {
    "cell_id": "9ce33092ac2d49c89e3e3c317f7217e1",
    "deepnote_cell_type": "code",
    "deepnote_to_be_reexecuted": false,
    "execution_millis": 7,
    "execution_start": 1664559688122,
    "source_hash": "e5f3704a",
    "tags": []
   },
   "outputs": [
    {
     "data": {
      "text/plain": [
       "array(['Brunswick Sq Mall', 'Earle Asphalt', 'GuttenPlans',\n",
       "       'EB Public Library'], dtype=object)"
      ]
     },
     "execution_count": 45,
     "metadata": {},
     "output_type": "execute_result"
    }
   ],
   "source": [
    "df[\"Location\"].unique()"
   ]
  },
  {
   "cell_type": "markdown",
   "metadata": {},
   "source": [
    "Aside: I wasn't sure if this was a NumPy array (more common) or a pandas array (less common).  It turns out, this output of the `unique` method is a NumPy array."
   ]
  },
  {
   "cell_type": "code",
   "execution_count": 46,
   "metadata": {
    "cell_id": "7cba66e67d9246d2a31f3b24ead0131c",
    "deepnote_cell_type": "code",
    "deepnote_to_be_reexecuted": false,
    "execution_millis": 721,
    "execution_start": 1664559708185,
    "source_hash": "78f3e7bb",
    "tags": []
   },
   "outputs": [
    {
     "data": {
      "text/plain": [
       "numpy.ndarray"
      ]
     },
     "execution_count": 46,
     "metadata": {},
     "output_type": "execute_result"
    }
   ],
   "source": [
    "type(df[\"Location\"].unique())"
   ]
  },
  {
   "cell_type": "markdown",
   "metadata": {},
   "source": [
    "The fact that it is a NumPy array is not that important.  The important thing is that we can iterate through these values.  Here we just print them out."
   ]
  },
  {
   "cell_type": "code",
   "execution_count": 47,
   "metadata": {
    "cell_id": "838840601b9c4073958907e37c00e600",
    "deepnote_cell_type": "code",
    "deepnote_to_be_reexecuted": false,
    "execution_millis": 5,
    "execution_start": 1664559749526,
    "source_hash": "3581fa71",
    "tags": []
   },
   "outputs": [
    {
     "name": "stdout",
     "output_type": "stream",
     "text": [
      "Brunswick Sq Mall\n",
      "Earle Asphalt\n",
      "GuttenPlans\n",
      "EB Public Library\n"
     ]
    }
   ],
   "source": [
    "for loc in df[\"Location\"].unique():\n",
    "    print(loc)"
   ]
  },
  {
   "cell_type": "markdown",
   "metadata": {},
   "source": [
    "If we tried the same thing without calling `unique`, we would get over 6000 locations displayed, because repetitions are not being removed."
   ]
  },
  {
   "cell_type": "code",
   "execution_count": 48,
   "metadata": {
    "cell_id": "58666aa7795340ba97c741a009761f58",
    "deepnote_cell_type": "code",
    "deepnote_to_be_reexecuted": false,
    "execution_millis": 48,
    "execution_start": 1664559782638,
    "source_hash": "deccabcc",
    "tags": [
     "output_scroll"
    ]
   },
   "outputs": [
    {
     "name": "stdout",
     "output_type": "stream",
     "text": [
      "Brunswick Sq Mall\n",
      "GuttenPlans\n",
      "GuttenPlans\n",
      "GuttenPlans\n",
      "GuttenPlans\n",
      "GuttenPlans\n",
      "Earle Asphalt\n",
      "EB Public Library\n",
      "EB Public Library\n",
      "EB Public Library\n",
      "Earle Asphalt\n",
      "EB Public Library\n",
      "EB Public Library\n",
      "EB Public Library\n",
      "Earle Asphalt\n",
      "Earle Asphalt\n",
      "Earle Asphalt\n",
      "GuttenPlans\n",
      "GuttenPlans\n",
      "EB Public Library\n",
      "Brunswick Sq Mall\n",
      "GuttenPlans\n",
      "GuttenPlans\n",
      "GuttenPlans\n",
      "GuttenPlans\n",
      "EB Public Library\n",
      "GuttenPlans\n",
      "GuttenPlans\n",
      "GuttenPlans\n",
      "GuttenPlans\n",
      "GuttenPlans\n",
      "Earle Asphalt\n",
      "EB Public Library\n",
      "EB Public Library\n",
      "Brunswick Sq Mall\n",
      "Earle Asphalt\n",
      "Earle Asphalt\n",
      "GuttenPlans\n",
      "Earle Asphalt\n",
      "EB Public Library\n",
      "Earle Asphalt\n",
      "EB Public Library\n",
      "Earle Asphalt\n",
      "EB Public Library\n",
      "Earle Asphalt\n",
      "EB Public Library\n",
      "EB Public Library\n",
      "Earle Asphalt\n",
      "EB Public Library\n",
      "EB Public Library\n",
      "EB Public Library\n",
      "Brunswick Sq Mall\n",
      "GuttenPlans\n",
      "GuttenPlans\n",
      "GuttenPlans\n",
      "GuttenPlans\n",
      "GuttenPlans\n",
      "GuttenPlans\n",
      "Brunswick Sq Mall\n",
      "Brunswick Sq Mall\n",
      "EB Public Library\n",
      "EB Public Library\n",
      "GuttenPlans\n",
      "GuttenPlans\n",
      "GuttenPlans\n",
      "Brunswick Sq Mall\n",
      "EB Public Library\n",
      "EB Public Library\n",
      "GuttenPlans\n",
      "GuttenPlans\n",
      "Brunswick Sq Mall\n",
      "Earle Asphalt\n",
      "EB Public Library\n",
      "EB Public Library\n",
      "EB Public Library\n",
      "EB Public Library\n",
      "GuttenPlans\n",
      "GuttenPlans\n",
      "GuttenPlans\n",
      "GuttenPlans\n",
      "GuttenPlans\n",
      "GuttenPlans\n",
      "GuttenPlans\n",
      "GuttenPlans\n",
      "GuttenPlans\n",
      "GuttenPlans\n",
      "GuttenPlans\n",
      "GuttenPlans\n",
      "GuttenPlans\n",
      "EB Public Library\n",
      "EB Public Library\n",
      "Brunswick Sq Mall\n",
      "Brunswick Sq Mall\n",
      "GuttenPlans\n",
      "GuttenPlans\n",
      "GuttenPlans\n",
      "GuttenPlans\n",
      "GuttenPlans\n",
      "GuttenPlans\n",
      "GuttenPlans\n",
      "EB Public Library\n",
      "EB Public Library\n",
      "Earle Asphalt\n",
      "Earle Asphalt\n",
      "EB Public Library\n",
      "EB Public Library\n",
      "EB Public Library\n",
      "EB Public Library\n",
      "GuttenPlans\n",
      "GuttenPlans\n",
      "EB Public Library\n",
      "EB Public Library\n",
      "EB Public Library\n",
      "GuttenPlans\n",
      "GuttenPlans\n",
      "GuttenPlans\n",
      "GuttenPlans\n",
      "GuttenPlans\n",
      "GuttenPlans\n",
      "GuttenPlans\n",
      "EB Public Library\n",
      "GuttenPlans\n",
      "GuttenPlans\n",
      "GuttenPlans\n",
      "GuttenPlans\n",
      "GuttenPlans\n",
      "GuttenPlans\n",
      "GuttenPlans\n",
      "GuttenPlans\n",
      "GuttenPlans\n",
      "GuttenPlans\n",
      "GuttenPlans\n",
      "GuttenPlans\n",
      "GuttenPlans\n",
      "GuttenPlans\n",
      "GuttenPlans\n",
      "GuttenPlans\n",
      "EB Public Library\n",
      "Earle Asphalt\n",
      "EB Public Library\n",
      "Brunswick Sq Mall\n",
      "GuttenPlans\n",
      "GuttenPlans\n",
      "Brunswick Sq Mall\n",
      "EB Public Library\n",
      "GuttenPlans\n",
      "GuttenPlans\n",
      "GuttenPlans\n",
      "GuttenPlans\n",
      "EB Public Library\n",
      "EB Public Library\n",
      "EB Public Library\n",
      "EB Public Library\n",
      "GuttenPlans\n",
      "GuttenPlans\n",
      "EB Public Library\n",
      "GuttenPlans\n",
      "GuttenPlans\n",
      "GuttenPlans\n",
      "Brunswick Sq Mall\n",
      "GuttenPlans\n",
      "GuttenPlans\n",
      "EB Public Library\n",
      "GuttenPlans\n",
      "GuttenPlans\n",
      "Brunswick Sq Mall\n",
      "EB Public Library\n",
      "GuttenPlans\n",
      "Brunswick Sq Mall\n",
      "GuttenPlans\n",
      "Brunswick Sq Mall\n",
      "Brunswick Sq Mall\n",
      "GuttenPlans\n",
      "GuttenPlans\n",
      "GuttenPlans\n",
      "GuttenPlans\n",
      "GuttenPlans\n",
      "GuttenPlans\n",
      "GuttenPlans\n",
      "GuttenPlans\n",
      "EB Public Library\n",
      "EB Public Library\n",
      "GuttenPlans\n",
      "GuttenPlans\n",
      "GuttenPlans\n",
      "Brunswick Sq Mall\n",
      "Brunswick Sq Mall\n",
      "EB Public Library\n",
      "Brunswick Sq Mall\n",
      "EB Public Library\n",
      "GuttenPlans\n",
      "Brunswick Sq Mall\n",
      "Brunswick Sq Mall\n",
      "Brunswick Sq Mall\n",
      "Brunswick Sq Mall\n",
      "Brunswick Sq Mall\n",
      "Brunswick Sq Mall\n",
      "GuttenPlans\n",
      "GuttenPlans\n",
      "GuttenPlans\n",
      "GuttenPlans\n",
      "GuttenPlans\n",
      "GuttenPlans\n",
      "GuttenPlans\n",
      "Earle Asphalt\n",
      "Earle Asphalt\n",
      "Earle Asphalt\n",
      "Earle Asphalt\n",
      "Earle Asphalt\n",
      "Earle Asphalt\n",
      "Earle Asphalt\n",
      "EB Public Library\n",
      "GuttenPlans\n",
      "GuttenPlans\n",
      "Earle Asphalt\n",
      "GuttenPlans\n",
      "EB Public Library\n",
      "EB Public Library\n",
      "Earle Asphalt\n",
      "GuttenPlans\n",
      "GuttenPlans\n",
      "GuttenPlans\n",
      "Brunswick Sq Mall\n",
      "GuttenPlans\n",
      "GuttenPlans\n",
      "GuttenPlans\n",
      "EB Public Library\n",
      "GuttenPlans\n",
      "EB Public Library\n",
      "EB Public Library\n",
      "Brunswick Sq Mall\n",
      "EB Public Library\n",
      "GuttenPlans\n",
      "GuttenPlans\n",
      "GuttenPlans\n",
      "GuttenPlans\n",
      "GuttenPlans\n",
      "GuttenPlans\n",
      "GuttenPlans\n",
      "GuttenPlans\n",
      "GuttenPlans\n",
      "GuttenPlans\n",
      "GuttenPlans\n",
      "GuttenPlans\n",
      "Earle Asphalt\n",
      "Earle Asphalt\n",
      "GuttenPlans\n",
      "GuttenPlans\n",
      "EB Public Library\n",
      "EB Public Library\n",
      "EB Public Library\n",
      "Earle Asphalt\n",
      "Earle Asphalt\n",
      "GuttenPlans\n",
      "GuttenPlans\n",
      "Earle Asphalt\n",
      "Earle Asphalt\n",
      "GuttenPlans\n",
      "EB Public Library\n",
      "EB Public Library\n",
      "EB Public Library\n",
      "EB Public Library\n",
      "Earle Asphalt\n",
      "EB Public Library\n",
      "EB Public Library\n",
      "EB Public Library\n",
      "Earle Asphalt\n",
      "GuttenPlans\n",
      "GuttenPlans\n",
      "Earle Asphalt\n",
      "GuttenPlans\n",
      "Earle Asphalt\n",
      "GuttenPlans\n",
      "GuttenPlans\n",
      "GuttenPlans\n",
      "Earle Asphalt\n",
      "GuttenPlans\n",
      "GuttenPlans\n",
      "GuttenPlans\n",
      "Brunswick Sq Mall\n",
      "GuttenPlans\n",
      "EB Public Library\n",
      "Brunswick Sq Mall\n",
      "GuttenPlans\n",
      "GuttenPlans\n",
      "GuttenPlans\n",
      "GuttenPlans\n",
      "GuttenPlans\n",
      "GuttenPlans\n",
      "GuttenPlans\n",
      "GuttenPlans\n",
      "GuttenPlans\n",
      "GuttenPlans\n",
      "GuttenPlans\n",
      "GuttenPlans\n",
      "Earle Asphalt\n",
      "GuttenPlans\n",
      "GuttenPlans\n",
      "GuttenPlans\n",
      "GuttenPlans\n",
      "EB Public Library\n",
      "GuttenPlans\n",
      "Brunswick Sq Mall\n",
      "Earle Asphalt\n",
      "GuttenPlans\n",
      "GuttenPlans\n",
      "EB Public Library\n",
      "EB Public Library\n",
      "EB Public Library\n",
      "Brunswick Sq Mall\n",
      "Earle Asphalt\n",
      "GuttenPlans\n",
      "GuttenPlans\n",
      "GuttenPlans\n",
      "GuttenPlans\n",
      "GuttenPlans\n",
      "EB Public Library\n",
      "Earle Asphalt\n",
      "EB Public Library\n",
      "EB Public Library\n",
      "EB Public Library\n",
      "EB Public Library\n",
      "GuttenPlans\n",
      "Brunswick Sq Mall\n",
      "GuttenPlans\n",
      "GuttenPlans\n",
      "GuttenPlans\n",
      "GuttenPlans\n",
      "GuttenPlans\n",
      "EB Public Library\n",
      "GuttenPlans\n",
      "GuttenPlans\n",
      "EB Public Library\n",
      "Earle Asphalt\n",
      "GuttenPlans\n",
      "GuttenPlans\n",
      "GuttenPlans\n",
      "EB Public Library\n",
      "Earle Asphalt\n",
      "EB Public Library\n",
      "GuttenPlans\n",
      "GuttenPlans\n",
      "GuttenPlans\n",
      "GuttenPlans\n",
      "EB Public Library\n",
      "EB Public Library\n",
      "GuttenPlans\n",
      "GuttenPlans\n",
      "GuttenPlans\n",
      "EB Public Library\n",
      "Earle Asphalt\n",
      "EB Public Library\n",
      "Earle Asphalt\n",
      "Earle Asphalt\n",
      "EB Public Library\n",
      "EB Public Library\n",
      "Earle Asphalt\n",
      "Earle Asphalt\n",
      "Earle Asphalt\n",
      "GuttenPlans\n",
      "GuttenPlans\n",
      "GuttenPlans\n",
      "GuttenPlans\n",
      "GuttenPlans\n",
      "EB Public Library\n",
      "GuttenPlans\n",
      "GuttenPlans\n",
      "EB Public Library\n",
      "Brunswick Sq Mall\n",
      "EB Public Library\n",
      "GuttenPlans\n",
      "GuttenPlans\n",
      "GuttenPlans\n",
      "GuttenPlans\n",
      "GuttenPlans\n",
      "GuttenPlans\n",
      "GuttenPlans\n",
      "GuttenPlans\n",
      "GuttenPlans\n",
      "GuttenPlans\n",
      "GuttenPlans\n",
      "GuttenPlans\n",
      "GuttenPlans\n",
      "GuttenPlans\n",
      "GuttenPlans\n",
      "GuttenPlans\n",
      "GuttenPlans\n",
      "GuttenPlans\n",
      "Earle Asphalt\n",
      "Earle Asphalt\n",
      "Earle Asphalt\n",
      "Earle Asphalt\n",
      "EB Public Library\n",
      "Earle Asphalt\n",
      "Earle Asphalt\n",
      "Earle Asphalt\n",
      "EB Public Library\n",
      "Earle Asphalt\n",
      "EB Public Library\n",
      "EB Public Library\n",
      "EB Public Library\n",
      "Brunswick Sq Mall\n",
      "EB Public Library\n",
      "EB Public Library\n",
      "EB Public Library\n",
      "EB Public Library\n",
      "EB Public Library\n",
      "EB Public Library\n",
      "EB Public Library\n",
      "EB Public Library\n",
      "EB Public Library\n",
      "EB Public Library\n",
      "EB Public Library\n",
      "EB Public Library\n",
      "EB Public Library\n",
      "GuttenPlans\n",
      "Brunswick Sq Mall\n",
      "GuttenPlans\n",
      "GuttenPlans\n",
      "GuttenPlans\n",
      "GuttenPlans\n",
      "EB Public Library\n",
      "EB Public Library\n",
      "EB Public Library\n",
      "EB Public Library\n",
      "EB Public Library\n",
      "EB Public Library\n",
      "EB Public Library\n",
      "GuttenPlans\n",
      "GuttenPlans\n",
      "Brunswick Sq Mall\n",
      "EB Public Library\n",
      "Brunswick Sq Mall\n",
      "EB Public Library\n",
      "Brunswick Sq Mall\n",
      "Brunswick Sq Mall\n",
      "Brunswick Sq Mall\n",
      "GuttenPlans\n",
      "EB Public Library\n",
      "Earle Asphalt\n",
      "Brunswick Sq Mall\n",
      "EB Public Library\n",
      "EB Public Library\n",
      "EB Public Library\n",
      "Earle Asphalt\n",
      "Earle Asphalt\n",
      "GuttenPlans\n",
      "GuttenPlans\n",
      "Earle Asphalt\n",
      "Earle Asphalt\n",
      "EB Public Library\n",
      "Brunswick Sq Mall\n",
      "Earle Asphalt\n",
      "EB Public Library\n",
      "GuttenPlans\n",
      "Earle Asphalt\n",
      "EB Public Library\n",
      "EB Public Library\n",
      "EB Public Library\n",
      "EB Public Library\n",
      "EB Public Library\n",
      "EB Public Library\n",
      "EB Public Library\n",
      "GuttenPlans\n",
      "GuttenPlans\n",
      "EB Public Library\n",
      "EB Public Library\n",
      "EB Public Library\n",
      "EB Public Library\n",
      "Earle Asphalt\n",
      "Earle Asphalt\n",
      "EB Public Library\n",
      "EB Public Library\n",
      "EB Public Library\n",
      "EB Public Library\n",
      "EB Public Library\n",
      "EB Public Library\n",
      "Brunswick Sq Mall\n",
      "Brunswick Sq Mall\n",
      "EB Public Library\n",
      "EB Public Library\n",
      "EB Public Library\n",
      "EB Public Library\n",
      "EB Public Library\n",
      "EB Public Library\n",
      "EB Public Library\n",
      "GuttenPlans\n",
      "GuttenPlans\n",
      "EB Public Library\n",
      "EB Public Library\n",
      "EB Public Library\n",
      "EB Public Library\n",
      "Brunswick Sq Mall\n",
      "EB Public Library\n",
      "EB Public Library\n",
      "EB Public Library\n",
      "EB Public Library\n",
      "EB Public Library\n",
      "GuttenPlans\n",
      "EB Public Library\n",
      "EB Public Library\n",
      "Brunswick Sq Mall\n",
      "EB Public Library\n",
      "GuttenPlans\n",
      "GuttenPlans\n",
      "Earle Asphalt\n",
      "EB Public Library\n",
      "EB Public Library\n",
      "Brunswick Sq Mall\n",
      "Brunswick Sq Mall\n",
      "EB Public Library\n",
      "EB Public Library\n",
      "Earle Asphalt\n",
      "EB Public Library\n",
      "EB Public Library\n",
      "EB Public Library\n",
      "Earle Asphalt\n",
      "Earle Asphalt\n",
      "Earle Asphalt\n",
      "EB Public Library\n",
      "EB Public Library\n",
      "EB Public Library\n",
      "GuttenPlans\n",
      "GuttenPlans\n",
      "GuttenPlans\n",
      "EB Public Library\n",
      "Brunswick Sq Mall\n",
      "Brunswick Sq Mall\n",
      "EB Public Library\n",
      "EB Public Library\n",
      "EB Public Library\n",
      "EB Public Library\n",
      "EB Public Library\n",
      "Brunswick Sq Mall\n",
      "Brunswick Sq Mall\n",
      "Brunswick Sq Mall\n",
      "Brunswick Sq Mall\n",
      "GuttenPlans\n",
      "GuttenPlans\n",
      "Brunswick Sq Mall\n",
      "EB Public Library\n",
      "GuttenPlans\n",
      "Brunswick Sq Mall\n",
      "EB Public Library\n",
      "EB Public Library\n",
      "EB Public Library\n",
      "Earle Asphalt\n",
      "Earle Asphalt\n",
      "Earle Asphalt\n",
      "Earle Asphalt\n",
      "Earle Asphalt\n",
      "EB Public Library\n",
      "Earle Asphalt\n",
      "Brunswick Sq Mall\n",
      "Earle Asphalt\n",
      "EB Public Library\n",
      "EB Public Library\n",
      "GuttenPlans\n",
      "Earle Asphalt\n",
      "EB Public Library\n",
      "EB Public Library\n",
      "Earle Asphalt\n",
      "EB Public Library\n",
      "GuttenPlans\n",
      "EB Public Library\n",
      "EB Public Library\n",
      "GuttenPlans\n",
      "GuttenPlans\n",
      "GuttenPlans\n",
      "GuttenPlans\n",
      "GuttenPlans\n",
      "GuttenPlans\n",
      "Brunswick Sq Mall\n",
      "GuttenPlans\n",
      "EB Public Library\n",
      "GuttenPlans\n",
      "GuttenPlans\n",
      "GuttenPlans\n",
      "GuttenPlans\n",
      "Brunswick Sq Mall\n",
      "GuttenPlans\n",
      "GuttenPlans\n",
      "EB Public Library\n",
      "GuttenPlans\n",
      "Brunswick Sq Mall\n",
      "EB Public Library\n",
      "GuttenPlans\n",
      "GuttenPlans\n",
      "GuttenPlans\n",
      "EB Public Library\n",
      "EB Public Library\n",
      "EB Public Library\n",
      "GuttenPlans\n",
      "GuttenPlans\n",
      "GuttenPlans\n",
      "GuttenPlans\n",
      "GuttenPlans\n",
      "GuttenPlans\n",
      "GuttenPlans\n",
      "GuttenPlans\n",
      "Earle Asphalt\n",
      "Earle Asphalt\n",
      "Earle Asphalt\n",
      "EB Public Library\n",
      "EB Public Library\n",
      "Earle Asphalt\n",
      "EB Public Library\n",
      "EB Public Library\n",
      "Brunswick Sq Mall\n",
      "Earle Asphalt\n",
      "Earle Asphalt\n",
      "Brunswick Sq Mall\n",
      "EB Public Library\n",
      "Earle Asphalt\n",
      "GuttenPlans\n",
      "GuttenPlans\n",
      "EB Public Library\n",
      "EB Public Library\n",
      "EB Public Library\n",
      "GuttenPlans\n",
      "GuttenPlans\n",
      "EB Public Library\n",
      "EB Public Library\n",
      "EB Public Library\n",
      "Brunswick Sq Mall\n",
      "GuttenPlans\n",
      "GuttenPlans\n",
      "EB Public Library\n",
      "GuttenPlans\n",
      "GuttenPlans\n",
      "GuttenPlans\n",
      "Brunswick Sq Mall\n",
      "GuttenPlans\n",
      "GuttenPlans\n",
      "GuttenPlans\n",
      "Brunswick Sq Mall\n",
      "GuttenPlans\n",
      "GuttenPlans\n",
      "Brunswick Sq Mall\n",
      "Brunswick Sq Mall\n",
      "GuttenPlans\n",
      "GuttenPlans\n",
      "GuttenPlans\n",
      "GuttenPlans\n",
      "GuttenPlans\n",
      "GuttenPlans\n",
      "GuttenPlans\n",
      "GuttenPlans\n",
      "GuttenPlans\n",
      "EB Public Library\n",
      "Brunswick Sq Mall\n",
      "EB Public Library\n",
      "EB Public Library\n",
      "Brunswick Sq Mall\n",
      "Brunswick Sq Mall\n",
      "Brunswick Sq Mall\n",
      "EB Public Library\n",
      "Brunswick Sq Mall\n",
      "Brunswick Sq Mall\n",
      "Brunswick Sq Mall\n",
      "Brunswick Sq Mall\n",
      "Brunswick Sq Mall\n",
      "Brunswick Sq Mall\n",
      "Brunswick Sq Mall\n",
      "Brunswick Sq Mall\n",
      "Brunswick Sq Mall\n",
      "Brunswick Sq Mall\n",
      "GuttenPlans\n",
      "Earle Asphalt\n",
      "GuttenPlans\n",
      "EB Public Library\n",
      "EB Public Library\n",
      "EB Public Library\n",
      "Brunswick Sq Mall\n",
      "Brunswick Sq Mall\n",
      "Earle Asphalt\n",
      "EB Public Library\n",
      "EB Public Library\n",
      "EB Public Library\n",
      "Brunswick Sq Mall\n",
      "EB Public Library\n",
      "GuttenPlans\n",
      "Earle Asphalt\n",
      "Earle Asphalt\n",
      "Earle Asphalt\n",
      "GuttenPlans\n",
      "EB Public Library\n",
      "EB Public Library\n",
      "EB Public Library\n",
      "EB Public Library\n",
      "GuttenPlans\n",
      "GuttenPlans\n",
      "Brunswick Sq Mall\n",
      "Brunswick Sq Mall\n",
      "GuttenPlans\n",
      "GuttenPlans\n",
      "EB Public Library\n",
      "Brunswick Sq Mall\n",
      "Brunswick Sq Mall\n",
      "Brunswick Sq Mall\n",
      "EB Public Library\n",
      "GuttenPlans\n",
      "GuttenPlans\n",
      "GuttenPlans\n",
      "GuttenPlans\n",
      "Brunswick Sq Mall\n",
      "Brunswick Sq Mall\n",
      "GuttenPlans\n",
      "Brunswick Sq Mall\n",
      "Brunswick Sq Mall\n",
      "Brunswick Sq Mall\n",
      "GuttenPlans\n",
      "Earle Asphalt\n",
      "Earle Asphalt\n",
      "Earle Asphalt\n",
      "EB Public Library\n",
      "GuttenPlans\n",
      "Brunswick Sq Mall\n",
      "GuttenPlans\n",
      "GuttenPlans\n",
      "GuttenPlans\n",
      "Earle Asphalt\n",
      "GuttenPlans\n",
      "GuttenPlans\n",
      "GuttenPlans\n",
      "GuttenPlans\n",
      "GuttenPlans\n",
      "GuttenPlans\n",
      "GuttenPlans\n",
      "GuttenPlans\n",
      "Brunswick Sq Mall\n",
      "Brunswick Sq Mall\n",
      "GuttenPlans\n",
      "GuttenPlans\n",
      "GuttenPlans\n",
      "GuttenPlans\n",
      "GuttenPlans\n",
      "GuttenPlans\n",
      "EB Public Library\n",
      "EB Public Library\n",
      "EB Public Library\n",
      "EB Public Library\n",
      "EB Public Library\n",
      "EB Public Library\n",
      "GuttenPlans\n",
      "EB Public Library\n",
      "GuttenPlans\n",
      "GuttenPlans\n",
      "GuttenPlans\n",
      "GuttenPlans\n",
      "Earle Asphalt\n",
      "Earle Asphalt\n",
      "Earle Asphalt\n",
      "EB Public Library\n",
      "Brunswick Sq Mall\n",
      "Brunswick Sq Mall\n",
      "EB Public Library\n",
      "Earle Asphalt\n",
      "GuttenPlans\n",
      "GuttenPlans\n",
      "GuttenPlans\n",
      "GuttenPlans\n",
      "EB Public Library\n",
      "EB Public Library\n",
      "EB Public Library\n",
      "EB Public Library\n",
      "EB Public Library\n",
      "EB Public Library\n",
      "EB Public Library\n",
      "GuttenPlans\n",
      "GuttenPlans\n",
      "GuttenPlans\n",
      "GuttenPlans\n",
      "GuttenPlans\n",
      "GuttenPlans\n",
      "GuttenPlans\n",
      "EB Public Library\n",
      "EB Public Library\n",
      "EB Public Library\n",
      "EB Public Library\n",
      "EB Public Library\n",
      "EB Public Library\n",
      "EB Public Library\n",
      "EB Public Library\n",
      "GuttenPlans\n",
      "GuttenPlans\n",
      "GuttenPlans\n",
      "GuttenPlans\n",
      "GuttenPlans\n",
      "EB Public Library\n",
      "GuttenPlans\n",
      "GuttenPlans\n",
      "EB Public Library\n",
      "EB Public Library\n",
      "Earle Asphalt\n",
      "Earle Asphalt\n",
      "GuttenPlans\n",
      "Earle Asphalt\n",
      "EB Public Library\n",
      "EB Public Library\n",
      "GuttenPlans\n",
      "EB Public Library\n",
      "EB Public Library\n",
      "EB Public Library\n",
      "GuttenPlans\n",
      "GuttenPlans\n",
      "GuttenPlans\n",
      "GuttenPlans\n",
      "EB Public Library\n",
      "Earle Asphalt\n",
      "EB Public Library\n",
      "Brunswick Sq Mall\n",
      "EB Public Library\n",
      "GuttenPlans\n",
      "GuttenPlans\n",
      "EB Public Library\n",
      "EB Public Library\n",
      "EB Public Library\n",
      "EB Public Library\n",
      "EB Public Library\n",
      "EB Public Library\n",
      "EB Public Library\n",
      "Brunswick Sq Mall\n",
      "Brunswick Sq Mall\n",
      "GuttenPlans\n",
      "GuttenPlans\n",
      "GuttenPlans\n",
      "GuttenPlans\n",
      "GuttenPlans\n",
      "GuttenPlans\n",
      "GuttenPlans\n",
      "GuttenPlans\n",
      "GuttenPlans\n",
      "GuttenPlans\n",
      "Earle Asphalt\n",
      "GuttenPlans\n",
      "GuttenPlans\n",
      "GuttenPlans\n",
      "EB Public Library\n",
      "GuttenPlans\n",
      "EB Public Library\n",
      "GuttenPlans\n",
      "Earle Asphalt\n",
      "Brunswick Sq Mall\n",
      "Brunswick Sq Mall\n",
      "Brunswick Sq Mall\n",
      "Brunswick Sq Mall\n",
      "EB Public Library\n",
      "EB Public Library\n",
      "EB Public Library\n",
      "EB Public Library\n",
      "EB Public Library\n",
      "GuttenPlans\n",
      "GuttenPlans\n",
      "GuttenPlans\n",
      "GuttenPlans\n",
      "GuttenPlans\n",
      "Brunswick Sq Mall\n",
      "GuttenPlans\n",
      "GuttenPlans\n",
      "GuttenPlans\n",
      "GuttenPlans\n",
      "GuttenPlans\n",
      "EB Public Library\n",
      "EB Public Library\n",
      "EB Public Library\n",
      "EB Public Library\n",
      "EB Public Library\n",
      "EB Public Library\n",
      "Brunswick Sq Mall\n",
      "EB Public Library\n",
      "EB Public Library\n",
      "Brunswick Sq Mall\n",
      "EB Public Library\n",
      "EB Public Library\n",
      "EB Public Library\n",
      "EB Public Library\n",
      "EB Public Library\n",
      "EB Public Library\n",
      "Brunswick Sq Mall\n",
      "Brunswick Sq Mall\n",
      "Brunswick Sq Mall\n",
      "Brunswick Sq Mall\n",
      "Brunswick Sq Mall\n",
      "Brunswick Sq Mall\n",
      "Brunswick Sq Mall\n",
      "Brunswick Sq Mall\n",
      "Brunswick Sq Mall\n",
      "Brunswick Sq Mall\n",
      "Brunswick Sq Mall\n",
      "Brunswick Sq Mall\n",
      "Brunswick Sq Mall\n",
      "Brunswick Sq Mall\n",
      "Brunswick Sq Mall\n",
      "Brunswick Sq Mall\n",
      "Brunswick Sq Mall\n",
      "Brunswick Sq Mall\n",
      "Brunswick Sq Mall\n",
      "Brunswick Sq Mall\n",
      "Brunswick Sq Mall\n",
      "Brunswick Sq Mall\n",
      "Brunswick Sq Mall\n",
      "Brunswick Sq Mall\n",
      "Brunswick Sq Mall\n",
      "Earle Asphalt\n",
      "GuttenPlans\n",
      "GuttenPlans\n",
      "GuttenPlans\n",
      "Earle Asphalt\n",
      "EB Public Library\n",
      "EB Public Library\n",
      "EB Public Library\n",
      "EB Public Library\n",
      "GuttenPlans\n",
      "GuttenPlans\n",
      "GuttenPlans\n",
      "GuttenPlans\n",
      "EB Public Library\n",
      "EB Public Library\n",
      "Earle Asphalt\n",
      "Earle Asphalt\n",
      "EB Public Library\n",
      "Brunswick Sq Mall\n",
      "EB Public Library\n",
      "EB Public Library\n",
      "EB Public Library\n",
      "EB Public Library\n",
      "Brunswick Sq Mall\n",
      "EB Public Library\n",
      "EB Public Library\n",
      "EB Public Library\n",
      "EB Public Library\n",
      "EB Public Library\n",
      "GuttenPlans\n",
      "GuttenPlans\n",
      "GuttenPlans\n",
      "EB Public Library\n",
      "EB Public Library\n",
      "EB Public Library\n",
      "EB Public Library\n",
      "EB Public Library\n",
      "EB Public Library\n",
      "EB Public Library\n",
      "Brunswick Sq Mall\n",
      "Brunswick Sq Mall\n",
      "Brunswick Sq Mall\n",
      "Brunswick Sq Mall\n",
      "Brunswick Sq Mall\n",
      "GuttenPlans\n",
      "GuttenPlans\n",
      "Earle Asphalt\n",
      "EB Public Library\n",
      "Earle Asphalt\n",
      "Earle Asphalt\n",
      "EB Public Library\n",
      "EB Public Library\n",
      "EB Public Library\n",
      "EB Public Library\n",
      "EB Public Library\n",
      "EB Public Library\n",
      "Brunswick Sq Mall\n",
      "Brunswick Sq Mall\n",
      "Brunswick Sq Mall\n",
      "Earle Asphalt\n",
      "GuttenPlans\n",
      "GuttenPlans\n",
      "GuttenPlans\n",
      "GuttenPlans\n",
      "GuttenPlans\n",
      "Earle Asphalt\n",
      "GuttenPlans\n",
      "GuttenPlans\n",
      "GuttenPlans\n",
      "GuttenPlans\n",
      "Earle Asphalt\n",
      "EB Public Library\n",
      "EB Public Library\n",
      "Brunswick Sq Mall\n",
      "EB Public Library\n",
      "Earle Asphalt\n",
      "EB Public Library\n",
      "EB Public Library\n",
      "EB Public Library\n",
      "EB Public Library\n",
      "EB Public Library\n",
      "Brunswick Sq Mall\n",
      "GuttenPlans\n",
      "Brunswick Sq Mall\n",
      "GuttenPlans\n",
      "Earle Asphalt\n",
      "Earle Asphalt\n",
      "Earle Asphalt\n",
      "Earle Asphalt\n",
      "Earle Asphalt\n",
      "EB Public Library\n",
      "EB Public Library\n",
      "EB Public Library\n",
      "GuttenPlans\n",
      "EB Public Library\n"
     ]
    }
   ],
   "source": [
    "for loc in df[\"Location\"]:\n",
    "    print(loc)"
   ]
  },
  {
   "cell_type": "markdown",
   "metadata": {},
   "source": [
    "There are more elegant ways to do this, but for now, we will print the location and then the corresponding average sale."
   ]
  },
  {
   "cell_type": "code",
   "execution_count": 49,
   "metadata": {
    "cell_id": "211af1e873e94804a8300bef63ef51e1",
    "deepnote_cell_type": "code",
    "deepnote_to_be_reexecuted": false,
    "execution_millis": 7,
    "execution_start": 1664559809269,
    "source_hash": "300bfaf3",
    "tags": []
   },
   "outputs": [
    {
     "name": "stdout",
     "output_type": "stream",
     "text": [
      "Brunswick Sq Mall\n",
      "1.9276778733385458\n",
      "Earle Asphalt\n",
      "1.7566568047337279\n",
      "GuttenPlans\n",
      "1.8850272585669783\n",
      "EB Public Library\n",
      "2.0418834547346516\n"
     ]
    }
   ],
   "source": [
    "for loc in df[\"Location\"].unique():\n",
    "    print(loc)\n",
    "    print(ave_sale(loc))"
   ]
  },
  {
   "cell_type": "markdown",
   "metadata": {
    "cell_id": "67318b97b7194208bb8d78a6d9ed0687",
    "deepnote_cell_type": "markdown",
    "tags": []
   },
   "source": [
    "* Do the same thing, this time also using f-strings to display the information in a more readable format.\n",
    "\n",
    "Postponed.  We'll see later, maybe in Week 2, a more elegant way to display the same information."
   ]
  },
  {
   "cell_type": "markdown",
   "metadata": {
    "cell_id": "5ea72b591dea4c4aadd2b6341b600822",
    "deepnote_cell_type": "markdown",
    "tags": []
   },
   "source": [
    "* Put the same information into a dictionary, where the keys are the locations and where the values are the average sale prices."
   ]
  },
  {
   "cell_type": "markdown",
   "metadata": {},
   "source": [
    "We start by making an empty dictionary.  (It's not obvious that `{}` should make an empty dictionary as opposed to an empty set.)"
   ]
  },
  {
   "cell_type": "code",
   "execution_count": 50,
   "metadata": {
    "cell_id": "5cc174519f304f58bbeb6c1ea2642689",
    "deepnote_cell_type": "code",
    "deepnote_to_be_reexecuted": false,
    "execution_millis": 2,
    "execution_start": 1664559878540,
    "source_hash": "1864023d",
    "tags": []
   },
   "outputs": [],
   "source": [
    "d = {}"
   ]
  },
  {
   "cell_type": "markdown",
   "metadata": {},
   "source": [
    "Here we verify that `d` really is a dictionary."
   ]
  },
  {
   "cell_type": "code",
   "execution_count": 51,
   "metadata": {
    "cell_id": "2b5c6c92958e48228670a2540262f0ad",
    "deepnote_cell_type": "code",
    "deepnote_to_be_reexecuted": false,
    "execution_millis": 5,
    "execution_start": 1664559888593,
    "source_hash": "8170b663",
    "tags": []
   },
   "outputs": [
    {
     "data": {
      "text/plain": [
       "dict"
      ]
     },
     "execution_count": 51,
     "metadata": {},
     "output_type": "execute_result"
    }
   ],
   "source": [
    "type(d)"
   ]
  },
  {
   "cell_type": "markdown",
   "metadata": {},
   "source": [
    "Even though we have `d` defined above, it's a good idea to put that definition into the same cell as our for loop, so that if we make a mistake, we can reset `d` just by evaluating this single cell.  Recall the syntax for setting a value in a Python dictionary: `d[key] = value`."
   ]
  },
  {
   "cell_type": "code",
   "execution_count": 52,
   "metadata": {
    "cell_id": "6cb5ddce8ba64185a3b1001d0b37d790",
    "deepnote_cell_type": "code",
    "deepnote_to_be_reexecuted": false,
    "execution_millis": 1,
    "execution_start": 1664559962580,
    "source_hash": "bc5526e5",
    "tags": []
   },
   "outputs": [],
   "source": [
    "d = {}\n",
    "for loc in df[\"Location\"].unique():\n",
    "    d[loc] = ave_sale(loc)"
   ]
  },
  {
   "cell_type": "markdown",
   "metadata": {},
   "source": [
    "Here is the contents of `d`."
   ]
  },
  {
   "cell_type": "code",
   "execution_count": 53,
   "metadata": {
    "cell_id": "30df9070cefc4f53aec7a1473e3c4e28",
    "deepnote_cell_type": "code",
    "deepnote_to_be_reexecuted": false,
    "execution_millis": 9,
    "execution_start": 1664559966478,
    "source_hash": "2671bbb0",
    "tags": []
   },
   "outputs": [
    {
     "data": {
      "text/plain": [
       "{'Brunswick Sq Mall': 1.9276778733385458,\n",
       " 'Earle Asphalt': 1.7566568047337279,\n",
       " 'GuttenPlans': 1.8850272585669783,\n",
       " 'EB Public Library': 2.0418834547346516}"
      ]
     },
     "execution_count": 53,
     "metadata": {},
     "output_type": "execute_result"
    }
   ],
   "source": [
    "d"
   ]
  },
  {
   "cell_type": "markdown",
   "metadata": {},
   "source": [
    "In a dictionary is a very convenient way to store this data, because we can access the values using indexing.  For example, `d[\"GuttenPlans\"]` is equal to the average price of the sales at the GuttenPlans location."
   ]
  },
  {
   "cell_type": "code",
   "execution_count": 54,
   "metadata": {
    "cell_id": "872ed70092174ab694bfca1537e68413",
    "deepnote_cell_type": "code",
    "deepnote_to_be_reexecuted": false,
    "execution_millis": 4,
    "execution_start": 1664559978145,
    "source_hash": "95205ace",
    "tags": []
   },
   "outputs": [
    {
     "data": {
      "text/plain": [
       "1.8850272585669783"
      ]
     },
     "execution_count": 54,
     "metadata": {},
     "output_type": "execute_result"
    }
   ],
   "source": [
    "d[\"GuttenPlans\"]"
   ]
  },
  {
   "cell_type": "markdown",
   "metadata": {
    "cell_id": "b0f230d63711435893221f2a75d540d5",
    "deepnote_cell_type": "markdown",
    "tags": []
   },
   "source": [
    "* Which location had the lowest average sale price?  Answer this by converting the dictionary to a pandas Series, and then sorting the values and getting the zeroth index."
   ]
  },
  {
   "cell_type": "markdown",
   "metadata": {},
   "source": [
    "Here is a reminder of what `d` looks like."
   ]
  },
  {
   "cell_type": "code",
   "execution_count": 55,
   "metadata": {
    "cell_id": "bcc963cf0c0f4e9bb576e13190cfc35d",
    "deepnote_cell_type": "code",
    "deepnote_to_be_reexecuted": false,
    "execution_millis": 1021,
    "execution_start": 1664560016086,
    "source_hash": "2671bbb0",
    "tags": []
   },
   "outputs": [
    {
     "data": {
      "text/plain": [
       "{'Brunswick Sq Mall': 1.9276778733385458,\n",
       " 'Earle Asphalt': 1.7566568047337279,\n",
       " 'GuttenPlans': 1.8850272585669783,\n",
       " 'EB Public Library': 2.0418834547346516}"
      ]
     },
     "execution_count": 55,
     "metadata": {},
     "output_type": "execute_result"
    }
   ],
   "source": [
    "d"
   ]
  },
  {
   "cell_type": "markdown",
   "metadata": {},
   "source": [
    "It really is a dictionary."
   ]
  },
  {
   "cell_type": "code",
   "execution_count": 56,
   "metadata": {
    "cell_id": "39e8477115374de5965765d9e4be5fd6",
    "deepnote_cell_type": "code",
    "deepnote_to_be_reexecuted": false,
    "execution_millis": 13,
    "execution_start": 1664560020825,
    "source_hash": "8170b663",
    "tags": []
   },
   "outputs": [
    {
     "data": {
      "text/plain": [
       "dict"
      ]
     },
     "execution_count": 56,
     "metadata": {},
     "output_type": "execute_result"
    }
   ],
   "source": [
    "type(d)"
   ]
  },
  {
   "cell_type": "markdown",
   "metadata": {},
   "source": [
    "Here is a first attempt to convert it to a dictionary.  Python does not know where to look for the definition of `Series`, because it is not a type defined in base Python."
   ]
  },
  {
   "cell_type": "code",
   "execution_count": 57,
   "metadata": {
    "cell_id": "3cfe85aba4c14e4e97c2ec41a3163b87",
    "deepnote_cell_type": "code",
    "deepnote_to_be_reexecuted": false,
    "execution_millis": 82,
    "execution_start": 1664560063205,
    "source_hash": "b7a887ca",
    "tags": []
   },
   "outputs": [
    {
     "ename": "NameError",
     "evalue": "name 'Series' is not defined",
     "output_type": "error",
     "traceback": [
      "\u001b[0;31m---------------------------------------------------------------------------\u001b[0m",
      "\u001b[0;31mNameError\u001b[0m                                 Traceback (most recent call last)",
      "Cell \u001b[0;32mIn [57], line 1\u001b[0m\n\u001b[0;32m----> 1\u001b[0m \u001b[43mSeries\u001b[49m(d)\n",
      "\u001b[0;31mNameError\u001b[0m: name 'Series' is not defined"
     ]
    }
   ],
   "source": [
    "Series(d)"
   ]
  },
  {
   "cell_type": "markdown",
   "metadata": {},
   "source": [
    "Here again an error is raised, because this data type is case sensitive; it should be `pd.Series`."
   ]
  },
  {
   "cell_type": "code",
   "execution_count": 58,
   "metadata": {
    "cell_id": "28ee1d86245342eaafdcc4322b8b7d7f",
    "deepnote_cell_type": "code",
    "deepnote_to_be_reexecuted": false,
    "execution_millis": 14,
    "execution_start": 1664560069493,
    "source_hash": "edb0e138",
    "tags": []
   },
   "outputs": [
    {
     "ename": "AttributeError",
     "evalue": "module 'pandas' has no attribute 'series'",
     "output_type": "error",
     "traceback": [
      "\u001b[0;31m---------------------------------------------------------------------------\u001b[0m",
      "\u001b[0;31mAttributeError\u001b[0m                            Traceback (most recent call last)",
      "Cell \u001b[0;32mIn [58], line 1\u001b[0m\n\u001b[0;32m----> 1\u001b[0m \u001b[43mpd\u001b[49m\u001b[38;5;241;43m.\u001b[39;49m\u001b[43mseries\u001b[49m(d)\n",
      "File \u001b[0;32m/shared-libs/python3.9/py/lib/python3.9/site-packages/pandas/__init__.py:244\u001b[0m, in \u001b[0;36m__getattr__\u001b[0;34m(name)\u001b[0m\n\u001b[1;32m    240\u001b[0m     \u001b[38;5;28;01mfrom\u001b[39;00m \u001b[38;5;21;01mpandas\u001b[39;00m\u001b[38;5;21;01m.\u001b[39;00m\u001b[38;5;21;01mcore\u001b[39;00m\u001b[38;5;21;01m.\u001b[39;00m\u001b[38;5;21;01marrays\u001b[39;00m\u001b[38;5;21;01m.\u001b[39;00m\u001b[38;5;21;01msparse\u001b[39;00m \u001b[38;5;28;01mimport\u001b[39;00m SparseArray \u001b[38;5;28;01mas\u001b[39;00m _SparseArray\n\u001b[1;32m    242\u001b[0m     \u001b[38;5;28;01mreturn\u001b[39;00m _SparseArray\n\u001b[0;32m--> 244\u001b[0m \u001b[38;5;28;01mraise\u001b[39;00m \u001b[38;5;167;01mAttributeError\u001b[39;00m(\u001b[38;5;124mf\u001b[39m\u001b[38;5;124m\"\u001b[39m\u001b[38;5;124mmodule \u001b[39m\u001b[38;5;124m'\u001b[39m\u001b[38;5;124mpandas\u001b[39m\u001b[38;5;124m'\u001b[39m\u001b[38;5;124m has no attribute \u001b[39m\u001b[38;5;124m'\u001b[39m\u001b[38;5;132;01m{\u001b[39;00mname\u001b[38;5;132;01m}\u001b[39;00m\u001b[38;5;124m'\u001b[39m\u001b[38;5;124m\"\u001b[39m)\n",
      "\u001b[0;31mAttributeError\u001b[0m: module 'pandas' has no attribute 'series'"
     ]
    }
   ],
   "source": [
    "pd.series(d)"
   ]
  },
  {
   "cell_type": "markdown",
   "metadata": {},
   "source": [
    "This works.  Notice how the dictionary `d` has been converted into a pandas Series."
   ]
  },
  {
   "cell_type": "code",
   "execution_count": 59,
   "metadata": {
    "cell_id": "b65d3d875164426089e3e492fccc9758",
    "deepnote_cell_type": "code",
    "deepnote_to_be_reexecuted": false,
    "execution_millis": 5,
    "execution_start": 1664560081613,
    "source_hash": "ef1cac7a",
    "tags": []
   },
   "outputs": [
    {
     "data": {
      "text/plain": [
       "Brunswick Sq Mall    1.927678\n",
       "Earle Asphalt        1.756657\n",
       "GuttenPlans          1.885027\n",
       "EB Public Library    2.041883\n",
       "dtype: float64"
      ]
     },
     "execution_count": 59,
     "metadata": {},
     "output_type": "execute_result"
    }
   ],
   "source": [
    "pd.Series(d)"
   ]
  },
  {
   "cell_type": "markdown",
   "metadata": {},
   "source": [
    "If we want to find the location with the lowest average sale price, we can first sort the Series according to the values.  (By default, sorting is done in increasing order.)"
   ]
  },
  {
   "cell_type": "code",
   "execution_count": 60,
   "metadata": {
    "cell_id": "9540371aa08d4c73841a96c054aa3701",
    "deepnote_cell_type": "code",
    "deepnote_to_be_reexecuted": false,
    "execution_millis": 7,
    "execution_start": 1664560107601,
    "source_hash": "261c8aa4",
    "tags": []
   },
   "outputs": [
    {
     "data": {
      "text/plain": [
       "Earle Asphalt        1.756657\n",
       "GuttenPlans          1.885027\n",
       "Brunswick Sq Mall    1.927678\n",
       "EB Public Library    2.041883\n",
       "dtype: float64"
      ]
     },
     "execution_count": 60,
     "metadata": {},
     "output_type": "execute_result"
    }
   ],
   "source": [
    "pd.Series(d).sort_values()"
   ]
  },
  {
   "cell_type": "markdown",
   "metadata": {},
   "source": [
    "We want the zeroth element in the corresponding index.  Here is the index."
   ]
  },
  {
   "cell_type": "code",
   "execution_count": 61,
   "metadata": {
    "cell_id": "c935a44c215849b68b2fe03fc6f68b76",
    "deepnote_cell_type": "code",
    "deepnote_to_be_reexecuted": false,
    "execution_millis": 10,
    "execution_start": 1664560116643,
    "source_hash": "55d734d4",
    "tags": []
   },
   "outputs": [
    {
     "data": {
      "text/plain": [
       "Index(['Earle Asphalt', 'GuttenPlans', 'Brunswick Sq Mall',\n",
       "       'EB Public Library'],\n",
       "      dtype='object')"
      ]
     },
     "execution_count": 61,
     "metadata": {},
     "output_type": "execute_result"
    }
   ],
   "source": [
    "pd.Series(d).sort_values().index"
   ]
  },
  {
   "cell_type": "markdown",
   "metadata": {},
   "source": [
    "Here is the initial element in that index.  (This would not work without the `sort_values` call.)"
   ]
  },
  {
   "cell_type": "code",
   "execution_count": 62,
   "metadata": {
    "cell_id": "560de09c7f1e4e518a389633c3ecc739",
    "deepnote_cell_type": "code",
    "deepnote_to_be_reexecuted": false,
    "execution_millis": 7,
    "execution_start": 1664560127117,
    "source_hash": "944d6ec2",
    "tags": []
   },
   "outputs": [
    {
     "data": {
      "text/plain": [
       "'Earle Asphalt'"
      ]
     },
     "execution_count": 62,
     "metadata": {},
     "output_type": "execute_result"
    }
   ],
   "source": [
    "# lowest average sale price\n",
    "pd.Series(d).sort_values().index[0]"
   ]
  },
  {
   "cell_type": "markdown",
   "metadata": {},
   "source": [
    "If instead you wanted the initial value, instead of the initial key, then you should use `iloc`."
   ]
  },
  {
   "cell_type": "code",
   "execution_count": 63,
   "metadata": {
    "cell_id": "925e9d7549b94d3aa1768a6749d8ffe0",
    "deepnote_cell_type": "code",
    "deepnote_to_be_reexecuted": false,
    "execution_millis": 798,
    "execution_start": 1664560162174,
    "source_hash": "d53b6752",
    "tags": []
   },
   "outputs": [
    {
     "data": {
      "text/plain": [
       "1.7566568047337279"
      ]
     },
     "execution_count": 63,
     "metadata": {},
     "output_type": "execute_result"
    }
   ],
   "source": [
    "pd.Series(d).sort_values().iloc[0]"
   ]
  }
 ],
 "metadata": {
  "deepnote": {},
  "deepnote_execution_queue": [],
  "deepnote_notebook_id": "1245cbbcab244e7e95dc6ef8ea17dc3c",
  "deepnote_persisted_session": {
   "createdAt": "2022-09-30T02:16:16.982Z"
  },
  "kernelspec": {
   "display_name": "Python 3 (ipykernel)",
   "language": "python",
   "name": "python3"
  },
  "language_info": {
   "codemirror_mode": {
    "name": "ipython",
    "version": 3
   },
   "file_extension": ".py",
   "mimetype": "text/x-python",
   "name": "python",
   "nbconvert_exporter": "python",
   "pygments_lexer": "ipython3",
   "version": "3.9.13"
  }
 },
 "nbformat": 4,
 "nbformat_minor": 4
}
