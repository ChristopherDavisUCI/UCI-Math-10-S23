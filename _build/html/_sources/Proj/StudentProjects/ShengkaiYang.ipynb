{
 "cells": [
  {
   "cell_type": "markdown",
   "metadata": {
    "cell_id": "62b4e68d76824cfc9af00f054fbdb510",
    "deepnote_cell_type": "markdown",
    "tags": []
   },
   "source": [
    "# NFL offense performance and analysis\n",
    "\n",
    "Author: Shengkai Yang\n",
    "\n",
    "Course Project, UC Irvine, Math 10, F22"
   ]
  },
  {
   "cell_type": "markdown",
   "metadata": {
    "cell_id": "af5738ac38f146a297c0e7217dd121e0",
    "deepnote_cell_type": "markdown",
    "tags": []
   },
   "source": [
    "## Introduction\n",
    "\n",
    "In this project, I want to use machine learning to analyze how some specific data which affect NFL football games. Also, I want to know how these data affect teams performance and predict them."
   ]
  },
  {
   "cell_type": "markdown",
   "metadata": {
    "cell_id": "15df5f6366324cef8870ce2cebd89be1",
    "deepnote_cell_type": "markdown",
    "tags": []
   },
   "source": [
    "## Main part of project\n",
    "\n",
    "You can either have all one section or divide into multiple sections.  To make new sections, use `##` in a markdown cell.  Double-click this cell for an example of using `##`"
   ]
  },
  {
   "cell_type": "code",
   "execution_count": 1,
   "metadata": {
    "cell_id": "597c659cdaf543f8b694344f8f7f86a4",
    "deepnote_cell_type": "code",
    "deepnote_to_be_reexecuted": false,
    "execution_millis": 2390,
    "execution_start": 1670476287275,
    "source_hash": "efcae692",
    "tags": []
   },
   "outputs": [],
   "source": [
    "import pandas as pd\n",
    "import numpy as np\n",
    "import altair as alt\n",
    "import matplotlib.pyplot as plt\n",
    "from sklearn.cluster import KMeans\n",
    "import seaborn as sns"
   ]
  },
  {
   "cell_type": "code",
   "execution_count": 2,
   "metadata": {
    "cell_id": "9ed1303551f74ca38a83a5fd38c4dd22",
    "deepnote_cell_type": "code",
    "deepnote_to_be_reexecuted": false,
    "execution_millis": 0,
    "execution_start": 1670476289714,
    "source_hash": "5a048b23",
    "tags": []
   },
   "outputs": [],
   "source": [
    "w4 = pd.read_csv(\"nfloffenseweek4.csv\")"
   ]
  },
  {
   "cell_type": "code",
   "execution_count": 3,
   "metadata": {
    "cell_id": "38269c5c1e8641689834e40d78c46103",
    "deepnote_cell_type": "code",
    "deepnote_to_be_reexecuted": false,
    "execution_millis": 91,
    "execution_start": 1670476289715,
    "source_hash": "636c45b0",
    "tags": []
   },
   "outputs": [
    {
     "data": {
      "application/vnd.deepnote.dataframe.v3+json": {
       "column_count": 28,
       "columns": [
        {
         "dtype": "int64",
         "name": "rank",
         "stats": {
          "histogram": [
           {
            "bin_end": 4.1,
            "bin_start": 1,
            "count": 4
           },
           {
            "bin_end": 7.2,
            "bin_start": 4.1,
            "count": 3
           },
           {
            "bin_end": 10.3,
            "bin_start": 7.2,
            "count": 3
           },
           {
            "bin_end": 13.4,
            "bin_start": 10.3,
            "count": 3
           },
           {
            "bin_end": 16.5,
            "bin_start": 13.4,
            "count": 3
           },
           {
            "bin_end": 19.6,
            "bin_start": 16.5,
            "count": 3
           },
           {
            "bin_end": 22.7,
            "bin_start": 19.6,
            "count": 3
           },
           {
            "bin_end": 25.8,
            "bin_start": 22.7,
            "count": 3
           },
           {
            "bin_end": 28.900000000000002,
            "bin_start": 25.8,
            "count": 3
           },
           {
            "bin_end": 32,
            "bin_start": 28.900000000000002,
            "count": 4
           }
          ],
          "max": "32",
          "min": "1",
          "nan_count": 0,
          "unique_count": 32
         }
        },
        {
         "dtype": "object",
         "name": "team",
         "stats": {
          "categories": [
           {
            "count": 1,
            "name": "Detroit Lions"
           },
           {
            "count": 1,
            "name": "Kansas City Chiefs"
           },
           {
            "count": 30,
            "name": "30 others"
           }
          ],
          "nan_count": 0,
          "unique_count": 32
         }
        },
        {
         "dtype": "int64",
         "name": "games",
         "stats": {
          "histogram": [
           {
            "bin_end": 3.6,
            "bin_start": 3.5,
            "count": 0
           },
           {
            "bin_end": 3.7,
            "bin_start": 3.6,
            "count": 0
           },
           {
            "bin_end": 3.8,
            "bin_start": 3.7,
            "count": 0
           },
           {
            "bin_end": 3.9,
            "bin_start": 3.8,
            "count": 0
           },
           {
            "bin_end": 4,
            "bin_start": 3.9,
            "count": 0
           },
           {
            "bin_end": 4.1,
            "bin_start": 4,
            "count": 32
           },
           {
            "bin_end": 4.2,
            "bin_start": 4.1,
            "count": 0
           },
           {
            "bin_end": 4.3,
            "bin_start": 4.2,
            "count": 0
           },
           {
            "bin_end": 4.4,
            "bin_start": 4.3,
            "count": 0
           },
           {
            "bin_end": 4.5,
            "bin_start": 4.4,
            "count": 0
           }
          ],
          "max": "4",
          "min": "4",
          "nan_count": 0,
          "unique_count": 1
         }
        },
        {
         "dtype": "int64",
         "name": "points_scored",
         "stats": {
          "histogram": [
           {
            "bin_end": 65.3,
            "bin_start": 57,
            "count": 2
           },
           {
            "bin_end": 73.6,
            "bin_start": 65.3,
            "count": 6
           },
           {
            "bin_end": 81.9,
            "bin_start": 73.6,
            "count": 8
           },
           {
            "bin_end": 90.2,
            "bin_start": 81.9,
            "count": 3
           },
           {
            "bin_end": 98.5,
            "bin_start": 90.2,
            "count": 5
           },
           {
            "bin_end": 106.80000000000001,
            "bin_start": 98.5,
            "count": 3
           },
           {
            "bin_end": 115.10000000000001,
            "bin_start": 106.80000000000001,
            "count": 2
           },
           {
            "bin_end": 123.4,
            "bin_start": 115.10000000000001,
            "count": 1
           },
           {
            "bin_end": 131.7,
            "bin_start": 123.4,
            "count": 1
           },
           {
            "bin_end": 140,
            "bin_start": 131.7,
            "count": 1
           }
          ],
          "max": "140",
          "min": "57",
          "nan_count": 0,
          "unique_count": 25
         }
        },
        {
         "dtype": "int64",
         "name": "total_yards",
         "stats": {
          "histogram": [
           {
            "bin_end": 1118.8,
            "bin_start": 1049,
            "count": 3
           },
           {
            "bin_end": 1188.6,
            "bin_start": 1118.8,
            "count": 2
           },
           {
            "bin_end": 1258.4,
            "bin_start": 1188.6,
            "count": 2
           },
           {
            "bin_end": 1328.2,
            "bin_start": 1258.4,
            "count": 4
           },
           {
            "bin_end": 1398,
            "bin_start": 1328.2,
            "count": 7
           },
           {
            "bin_end": 1467.8,
            "bin_start": 1398,
            "count": 7
           },
           {
            "bin_end": 1537.6,
            "bin_start": 1467.8,
            "count": 2
           },
           {
            "bin_end": 1607.4,
            "bin_start": 1537.6,
            "count": 2
           },
           {
            "bin_end": 1677.1999999999998,
            "bin_start": 1607.4,
            "count": 1
           },
           {
            "bin_end": 1747,
            "bin_start": 1677.1999999999998,
            "count": 2
           }
          ],
          "max": "1747",
          "min": "1049",
          "nan_count": 0,
          "unique_count": 30
         }
        },
        {
         "dtype": "int64",
         "name": "offensive_plays",
         "stats": {
          "histogram": [
           {
            "bin_end": 221.8,
            "bin_start": 214,
            "count": 3
           },
           {
            "bin_end": 229.6,
            "bin_start": 221.8,
            "count": 2
           },
           {
            "bin_end": 237.4,
            "bin_start": 229.6,
            "count": 4
           },
           {
            "bin_end": 245.2,
            "bin_start": 237.4,
            "count": 5
           },
           {
            "bin_end": 253,
            "bin_start": 245.2,
            "count": 3
           },
           {
            "bin_end": 260.8,
            "bin_start": 253,
            "count": 5
           },
           {
            "bin_end": 268.6,
            "bin_start": 260.8,
            "count": 1
           },
           {
            "bin_end": 276.4,
            "bin_start": 268.6,
            "count": 3
           },
           {
            "bin_end": 284.2,
            "bin_start": 276.4,
            "count": 1
           },
           {
            "bin_end": 292,
            "bin_start": 284.2,
            "count": 5
           }
          ],
          "max": "292",
          "min": "214",
          "nan_count": 0,
          "unique_count": 30
         }
        },
        {
         "dtype": "float64",
         "name": "yards_per_play",
         "stats": {
          "histogram": [
           {
            "bin_end": 4.79,
            "bin_start": 4.6,
            "count": 2
           },
           {
            "bin_end": 4.9799999999999995,
            "bin_start": 4.79,
            "count": 4
           },
           {
            "bin_end": 5.17,
            "bin_start": 4.9799999999999995,
            "count": 4
           },
           {
            "bin_end": 5.359999999999999,
            "bin_start": 5.17,
            "count": 4
           },
           {
            "bin_end": 5.55,
            "bin_start": 5.359999999999999,
            "count": 5
           },
           {
            "bin_end": 5.74,
            "bin_start": 5.55,
            "count": 3
           },
           {
            "bin_end": 5.93,
            "bin_start": 5.74,
            "count": 2
           },
           {
            "bin_end": 6.12,
            "bin_start": 5.93,
            "count": 4
           },
           {
            "bin_end": 6.31,
            "bin_start": 6.12,
            "count": 2
           },
           {
            "bin_end": 6.5,
            "bin_start": 6.31,
            "count": 2
           }
          ],
          "max": "6.5",
          "min": "4.6",
          "nan_count": 0,
          "unique_count": 19
         }
        },
        {
         "dtype": "int64",
         "name": "turnovers_lost",
         "stats": {
          "histogram": [
           {
            "bin_end": 2.9,
            "bin_start": 2,
            "count": 3
           },
           {
            "bin_end": 3.8,
            "bin_start": 2.9,
            "count": 1
           },
           {
            "bin_end": 4.7,
            "bin_start": 3.8,
            "count": 5
           },
           {
            "bin_end": 5.6,
            "bin_start": 4.7,
            "count": 6
           },
           {
            "bin_end": 6.5,
            "bin_start": 5.6,
            "count": 6
           },
           {
            "bin_end": 7.4,
            "bin_start": 6.5,
            "count": 5
           },
           {
            "bin_end": 8.3,
            "bin_start": 7.4,
            "count": 1
           },
           {
            "bin_end": 9.2,
            "bin_start": 8.3,
            "count": 4
           },
           {
            "bin_end": 10.1,
            "bin_start": 9.2,
            "count": 0
           },
           {
            "bin_end": 11,
            "bin_start": 10.1,
            "count": 1
           }
          ],
          "max": "11",
          "min": "2",
          "nan_count": 0,
          "unique_count": 9
         }
        },
        {
         "dtype": "int64",
         "name": "fumbles_lost",
         "stats": {
          "histogram": [
           {
            "bin_end": 0.6,
            "bin_start": 0,
            "count": 3
           },
           {
            "bin_end": 1.2,
            "bin_start": 0.6,
            "count": 7
           },
           {
            "bin_end": 1.7999999999999998,
            "bin_start": 1.2,
            "count": 0
           },
           {
            "bin_end": 2.4,
            "bin_start": 1.7999999999999998,
            "count": 6
           },
           {
            "bin_end": 3,
            "bin_start": 2.4,
            "count": 0
           },
           {
            "bin_end": 3.5999999999999996,
            "bin_start": 3,
            "count": 7
           },
           {
            "bin_end": 4.2,
            "bin_start": 3.5999999999999996,
            "count": 7
           },
           {
            "bin_end": 4.8,
            "bin_start": 4.2,
            "count": 0
           },
           {
            "bin_end": 5.3999999999999995,
            "bin_start": 4.8,
            "count": 1
           },
           {
            "bin_end": 6,
            "bin_start": 5.3999999999999995,
            "count": 1
           }
          ],
          "max": "6",
          "min": "0",
          "nan_count": 0,
          "unique_count": 7
         }
        },
        {
         "dtype": "int64",
         "name": "1st_downs",
         "stats": {
          "histogram": [
           {
            "bin_end": 60.3,
            "bin_start": 56,
            "count": 2
           },
           {
            "bin_end": 64.6,
            "bin_start": 60.3,
            "count": 0
           },
           {
            "bin_end": 68.9,
            "bin_start": 64.6,
            "count": 3
           },
           {
            "bin_end": 73.2,
            "bin_start": 68.9,
            "count": 3
           },
           {
            "bin_end": 77.5,
            "bin_start": 73.2,
            "count": 5
           },
           {
            "bin_end": 81.8,
            "bin_start": 77.5,
            "count": 3
           },
           {
            "bin_end": 86.1,
            "bin_start": 81.8,
            "count": 7
           },
           {
            "bin_end": 90.4,
            "bin_start": 86.1,
            "count": 4
           },
           {
            "bin_end": 94.69999999999999,
            "bin_start": 90.4,
            "count": 1
           },
           {
            "bin_end": 99,
            "bin_start": 94.69999999999999,
            "count": 4
           }
          ],
          "max": "99",
          "min": "56",
          "nan_count": 0,
          "unique_count": 22
         }
        },
        {
         "dtype": "int64",
         "name": "passes_completed",
         "stats": {
          "histogram": [
           {
            "bin_end": 42.1,
            "bin_start": 34,
            "count": 1
           },
           {
            "bin_end": 50.2,
            "bin_start": 42.1,
            "count": 0
           },
           {
            "bin_end": 58.3,
            "bin_start": 50.2,
            "count": 1
           },
           {
            "bin_end": 66.4,
            "bin_start": 58.3,
            "count": 2
           },
           {
            "bin_end": 74.5,
            "bin_start": 66.4,
            "count": 2
           },
           {
            "bin_end": 82.6,
            "bin_start": 74.5,
            "count": 7
           },
           {
            "bin_end": 90.69999999999999,
            "bin_start": 82.6,
            "count": 2
           },
           {
            "bin_end": 98.8,
            "bin_start": 90.69999999999999,
            "count": 6
           },
           {
            "bin_end": 106.89999999999999,
            "bin_start": 98.8,
            "count": 6
           },
           {
            "bin_end": 115,
            "bin_start": 106.89999999999999,
            "count": 5
           }
          ],
          "max": "115",
          "min": "34",
          "nan_count": 0,
          "unique_count": 22
         }
        },
        {
         "dtype": "int64",
         "name": "passes_attempted",
         "stats": {
          "histogram": [
           {
            "bin_end": 79.6,
            "bin_start": 67,
            "count": 1
           },
           {
            "bin_end": 92.2,
            "bin_start": 79.6,
            "count": 0
           },
           {
            "bin_end": 104.8,
            "bin_start": 92.2,
            "count": 1
           },
           {
            "bin_end": 117.4,
            "bin_start": 104.8,
            "count": 5
           },
           {
            "bin_end": 130,
            "bin_start": 117.4,
            "count": 4
           },
           {
            "bin_end": 142.6,
            "bin_start": 130,
            "count": 7
           },
           {
            "bin_end": 155.2,
            "bin_start": 142.6,
            "count": 7
           },
           {
            "bin_end": 167.8,
            "bin_start": 155.2,
            "count": 3
           },
           {
            "bin_end": 180.39999999999998,
            "bin_start": 167.8,
            "count": 3
           },
           {
            "bin_end": 193,
            "bin_start": 180.39999999999998,
            "count": 1
           }
          ],
          "max": "193",
          "min": "67",
          "nan_count": 0,
          "unique_count": 27
         }
        },
        {
         "dtype": "int64",
         "name": "passing_yards",
         "stats": {
          "histogram": [
           {
            "bin_end": 473.9,
            "bin_start": 390,
            "count": 1
           },
           {
            "bin_end": 557.8,
            "bin_start": 473.9,
            "count": 0
           },
           {
            "bin_end": 641.7,
            "bin_start": 557.8,
            "count": 1
           },
           {
            "bin_end": 725.6,
            "bin_start": 641.7,
            "count": 2
           },
           {
            "bin_end": 809.5,
            "bin_start": 725.6,
            "count": 4
           },
           {
            "bin_end": 893.4000000000001,
            "bin_start": 809.5,
            "count": 4
           },
           {
            "bin_end": 977.3000000000001,
            "bin_start": 893.4000000000001,
            "count": 7
           },
           {
            "bin_end": 1061.2,
            "bin_start": 977.3000000000001,
            "count": 6
           },
           {
            "bin_end": 1145.1,
            "bin_start": 1061.2,
            "count": 4
           },
           {
            "bin_end": 1229,
            "bin_start": 1145.1,
            "count": 3
           }
          ],
          "max": "1229",
          "min": "390",
          "nan_count": 0,
          "unique_count": 31
         }
        },
        {
         "dtype": "int64",
         "name": "passing_touchdowns",
         "stats": {
          "histogram": [
           {
            "bin_end": 2.9,
            "bin_start": 2,
            "count": 2
           },
           {
            "bin_end": 3.8,
            "bin_start": 2.9,
            "count": 4
           },
           {
            "bin_end": 4.7,
            "bin_start": 3.8,
            "count": 6
           },
           {
            "bin_end": 5.6,
            "bin_start": 4.7,
            "count": 5
           },
           {
            "bin_end": 6.5,
            "bin_start": 5.6,
            "count": 5
           },
           {
            "bin_end": 7.4,
            "bin_start": 6.5,
            "count": 1
           },
           {
            "bin_end": 8.3,
            "bin_start": 7.4,
            "count": 3
           },
           {
            "bin_end": 9.2,
            "bin_start": 8.3,
            "count": 2
           },
           {
            "bin_end": 10.1,
            "bin_start": 9.2,
            "count": 1
           },
           {
            "bin_end": 11,
            "bin_start": 10.1,
            "count": 3
           }
          ],
          "max": "11",
          "min": "2",
          "nan_count": 0,
          "unique_count": 10
         }
        },
        {
         "dtype": "int64",
         "name": "passing_interceptions",
         "stats": {
          "histogram": [
           {
            "bin_end": 1.5,
            "bin_start": 1,
            "count": 3
           },
           {
            "bin_end": 2,
            "bin_start": 1.5,
            "count": 0
           },
           {
            "bin_end": 2.5,
            "bin_start": 2,
            "count": 7
           },
           {
            "bin_end": 3,
            "bin_start": 2.5,
            "count": 0
           },
           {
            "bin_end": 3.5,
            "bin_start": 3,
            "count": 7
           },
           {
            "bin_end": 4,
            "bin_start": 3.5,
            "count": 0
           },
           {
            "bin_end": 4.5,
            "bin_start": 4,
            "count": 8
           },
           {
            "bin_end": 5,
            "bin_start": 4.5,
            "count": 0
           },
           {
            "bin_end": 5.5,
            "bin_start": 5,
            "count": 6
           },
           {
            "bin_end": 6,
            "bin_start": 5.5,
            "count": 1
           }
          ],
          "max": "6",
          "min": "1",
          "nan_count": 0,
          "unique_count": 6
         }
        },
        {
         "dtype": "float64",
         "name": "net_yards_per_pass_attempt",
         "stats": {
          "histogram": [
           {
            "bin_end": 4.96,
            "bin_start": 4.6,
            "count": 3
           },
           {
            "bin_end": 5.319999999999999,
            "bin_start": 4.96,
            "count": 3
           },
           {
            "bin_end": 5.68,
            "bin_start": 5.319999999999999,
            "count": 3
           },
           {
            "bin_end": 6.039999999999999,
            "bin_start": 5.68,
            "count": 5
           },
           {
            "bin_end": 6.3999999999999995,
            "bin_start": 6.039999999999999,
            "count": 3
           },
           {
            "bin_end": 6.76,
            "bin_start": 6.3999999999999995,
            "count": 7
           },
           {
            "bin_end": 7.119999999999999,
            "bin_start": 6.76,
            "count": 5
           },
           {
            "bin_end": 7.4799999999999995,
            "bin_start": 7.119999999999999,
            "count": 1
           },
           {
            "bin_end": 7.84,
            "bin_start": 7.4799999999999995,
            "count": 0
           },
           {
            "bin_end": 8.2,
            "bin_start": 7.84,
            "count": 2
           }
          ],
          "max": "8.2",
          "min": "4.6",
          "nan_count": 0,
          "unique_count": 21
         }
        },
        {
         "dtype": "int64",
         "name": "passing_1st_downs",
         "stats": {
          "histogram": [
           {
            "bin_end": 21.6,
            "bin_start": 17,
            "count": 1
           },
           {
            "bin_end": 26.2,
            "bin_start": 21.6,
            "count": 0
           },
           {
            "bin_end": 30.799999999999997,
            "bin_start": 26.2,
            "count": 2
           },
           {
            "bin_end": 35.4,
            "bin_start": 30.799999999999997,
            "count": 1
           },
           {
            "bin_end": 40,
            "bin_start": 35.4,
            "count": 5
           },
           {
            "bin_end": 44.599999999999994,
            "bin_start": 40,
            "count": 4
           },
           {
            "bin_end": 49.199999999999996,
            "bin_start": 44.599999999999994,
            "count": 4
           },
           {
            "bin_end": 53.8,
            "bin_start": 49.199999999999996,
            "count": 3
           },
           {
            "bin_end": 58.4,
            "bin_start": 53.8,
            "count": 8
           },
           {
            "bin_end": 63,
            "bin_start": 58.4,
            "count": 4
           }
          ],
          "max": "63",
          "min": "17",
          "nan_count": 0,
          "unique_count": 21
         }
        },
        {
         "dtype": "int64",
         "name": "rushing_attempts",
         "stats": {
          "histogram": [
           {
            "bin_end": 87.3,
            "bin_start": 80,
            "count": 6
           },
           {
            "bin_end": 94.6,
            "bin_start": 87.3,
            "count": 5
           },
           {
            "bin_end": 101.9,
            "bin_start": 94.6,
            "count": 4
           },
           {
            "bin_end": 109.2,
            "bin_start": 101.9,
            "count": 6
           },
           {
            "bin_end": 116.5,
            "bin_start": 109.2,
            "count": 4
           },
           {
            "bin_end": 123.8,
            "bin_start": 116.5,
            "count": 2
           },
           {
            "bin_end": 131.1,
            "bin_start": 123.8,
            "count": 1
           },
           {
            "bin_end": 138.4,
            "bin_start": 131.1,
            "count": 2
           },
           {
            "bin_end": 145.7,
            "bin_start": 138.4,
            "count": 0
           },
           {
            "bin_end": 153,
            "bin_start": 145.7,
            "count": 2
           }
          ],
          "max": "153",
          "min": "80",
          "nan_count": 0,
          "unique_count": 26
         }
        },
        {
         "dtype": "int64",
         "name": "rushing_yards",
         "stats": {
          "histogram": [
           {
            "bin_end": 309.2,
            "bin_start": 258,
            "count": 4
           },
           {
            "bin_end": 360.4,
            "bin_start": 309.2,
            "count": 3
           },
           {
            "bin_end": 411.6,
            "bin_start": 360.4,
            "count": 6
           },
           {
            "bin_end": 462.8,
            "bin_start": 411.6,
            "count": 8
           },
           {
            "bin_end": 514,
            "bin_start": 462.8,
            "count": 1
           },
           {
            "bin_end": 565.2,
            "bin_start": 514,
            "count": 2
           },
           {
            "bin_end": 616.4000000000001,
            "bin_start": 565.2,
            "count": 2
           },
           {
            "bin_end": 667.6,
            "bin_start": 616.4000000000001,
            "count": 2
           },
           {
            "bin_end": 718.8,
            "bin_start": 667.6,
            "count": 2
           },
           {
            "bin_end": 770,
            "bin_start": 718.8,
            "count": 2
           }
          ],
          "max": "770",
          "min": "258",
          "nan_count": 0,
          "unique_count": 32
         }
        },
        {
         "dtype": "int64",
         "name": "rushing_touchdowns",
         "stats": {
          "histogram": [
           {
            "bin_end": 1.9,
            "bin_start": 1,
            "count": 4
           },
           {
            "bin_end": 2.8,
            "bin_start": 1.9,
            "count": 9
           },
           {
            "bin_end": 3.7,
            "bin_start": 2.8,
            "count": 6
           },
           {
            "bin_end": 4.6,
            "bin_start": 3.7,
            "count": 8
           },
           {
            "bin_end": 5.5,
            "bin_start": 4.6,
            "count": 1
           },
           {
            "bin_end": 6.4,
            "bin_start": 5.5,
            "count": 1
           },
           {
            "bin_end": 7.3,
            "bin_start": 6.4,
            "count": 2
           },
           {
            "bin_end": 8.2,
            "bin_start": 7.3,
            "count": 0
           },
           {
            "bin_end": 9.1,
            "bin_start": 8.2,
            "count": 0
           },
           {
            "bin_end": 10,
            "bin_start": 9.1,
            "count": 1
           }
          ],
          "max": "10",
          "min": "1",
          "nan_count": 0,
          "unique_count": 8
         }
        },
        {
         "dtype": "float64",
         "name": "rushing_yards_per_attempt",
         "stats": {
          "histogram": [
           {
            "bin_end": 3.02,
            "bin_start": 2.7,
            "count": 1
           },
           {
            "bin_end": 3.3400000000000003,
            "bin_start": 3.02,
            "count": 3
           },
           {
            "bin_end": 3.66,
            "bin_start": 3.3400000000000003,
            "count": 2
           },
           {
            "bin_end": 3.9800000000000004,
            "bin_start": 3.66,
            "count": 1
           },
           {
            "bin_end": 4.300000000000001,
            "bin_start": 3.9800000000000004,
            "count": 8
           },
           {
            "bin_end": 4.62,
            "bin_start": 4.300000000000001,
            "count": 6
           },
           {
            "bin_end": 4.94,
            "bin_start": 4.62,
            "count": 1
           },
           {
            "bin_end": 5.26,
            "bin_start": 4.94,
            "count": 7
           },
           {
            "bin_end": 5.58,
            "bin_start": 5.26,
            "count": 1
           },
           {
            "bin_end": 5.9,
            "bin_start": 5.58,
            "count": 2
           }
          ],
          "max": "5.9",
          "min": "2.7",
          "nan_count": 0,
          "unique_count": 18
         }
        },
        {
         "dtype": "int64",
         "name": "rushing_1st_downs",
         "stats": {
          "histogram": [
           {
            "bin_end": 16.3,
            "bin_start": 13,
            "count": 3
           },
           {
            "bin_end": 19.6,
            "bin_start": 16.3,
            "count": 5
           },
           {
            "bin_end": 22.9,
            "bin_start": 19.6,
            "count": 5
           },
           {
            "bin_end": 26.2,
            "bin_start": 22.9,
            "count": 8
           },
           {
            "bin_end": 29.5,
            "bin_start": 26.2,
            "count": 2
           },
           {
            "bin_end": 32.8,
            "bin_start": 29.5,
            "count": 1
           },
           {
            "bin_end": 36.099999999999994,
            "bin_start": 32.8,
            "count": 5
           },
           {
            "bin_end": 39.4,
            "bin_start": 36.099999999999994,
            "count": 0
           },
           {
            "bin_end": 42.7,
            "bin_start": 39.4,
            "count": 1
           },
           {
            "bin_end": 46,
            "bin_start": 42.7,
            "count": 2
           }
          ],
          "max": "46",
          "min": "13",
          "nan_count": 0,
          "unique_count": 19
         }
        },
        {
         "dtype": "int64",
         "name": "penalties",
         "stats": {
          "histogram": [
           {
            "bin_end": 16.3,
            "bin_start": 14,
            "count": 3
           },
           {
            "bin_end": 18.6,
            "bin_start": 16.3,
            "count": 2
           },
           {
            "bin_end": 20.9,
            "bin_start": 18.6,
            "count": 2
           },
           {
            "bin_end": 23.2,
            "bin_start": 20.9,
            "count": 10
           },
           {
            "bin_end": 25.5,
            "bin_start": 23.2,
            "count": 5
           },
           {
            "bin_end": 27.799999999999997,
            "bin_start": 25.5,
            "count": 4
           },
           {
            "bin_end": 30.099999999999998,
            "bin_start": 27.799999999999997,
            "count": 2
           },
           {
            "bin_end": 32.4,
            "bin_start": 30.099999999999998,
            "count": 2
           },
           {
            "bin_end": 34.7,
            "bin_start": 32.4,
            "count": 1
           },
           {
            "bin_end": 37,
            "bin_start": 34.7,
            "count": 1
           }
          ],
          "max": "37",
          "min": "14",
          "nan_count": 0,
          "unique_count": 18
         }
        },
        {
         "dtype": "int64",
         "name": "penalty_yards",
         "stats": {
          "histogram": [
           {
            "bin_end": 117.4,
            "bin_start": 95,
            "count": 3
           },
           {
            "bin_end": 139.8,
            "bin_start": 117.4,
            "count": 2
           },
           {
            "bin_end": 162.2,
            "bin_start": 139.8,
            "count": 7
           },
           {
            "bin_end": 184.6,
            "bin_start": 162.2,
            "count": 4
           },
           {
            "bin_end": 207,
            "bin_start": 184.6,
            "count": 5
           },
           {
            "bin_end": 229.39999999999998,
            "bin_start": 207,
            "count": 3
           },
           {
            "bin_end": 251.79999999999998,
            "bin_start": 229.39999999999998,
            "count": 1
           },
           {
            "bin_end": 274.2,
            "bin_start": 251.79999999999998,
            "count": 3
           },
           {
            "bin_end": 296.6,
            "bin_start": 274.2,
            "count": 2
           },
           {
            "bin_end": 319,
            "bin_start": 296.6,
            "count": 2
           }
          ],
          "max": "319",
          "min": "95",
          "nan_count": 0,
          "unique_count": 30
         }
        },
        {
         "dtype": "int64",
         "name": "1st_down_penalties",
         "stats": {
          "histogram": [
           {
            "bin_end": 3.9,
            "bin_start": 3,
            "count": 1
           },
           {
            "bin_end": 4.8,
            "bin_start": 3.9,
            "count": 1
           },
           {
            "bin_end": 5.7,
            "bin_start": 4.8,
            "count": 5
           },
           {
            "bin_end": 6.6,
            "bin_start": 5.7,
            "count": 2
           },
           {
            "bin_end": 7.5,
            "bin_start": 6.6,
            "count": 7
           },
           {
            "bin_end": 8.4,
            "bin_start": 7.5,
            "count": 5
           },
           {
            "bin_end": 9.3,
            "bin_start": 8.4,
            "count": 6
           },
           {
            "bin_end": 10.2,
            "bin_start": 9.3,
            "count": 1
           },
           {
            "bin_end": 11.1,
            "bin_start": 10.2,
            "count": 3
           },
           {
            "bin_end": 12,
            "bin_start": 11.1,
            "count": 1
           }
          ],
          "max": "12",
          "min": "3",
          "nan_count": 0,
          "unique_count": 10
         }
        },
        {
         "dtype": "float64",
         "name": "percentage_scoring_drives",
         "stats": {
          "histogram": [
           {
            "bin_end": 24.44,
            "bin_start": 21.6,
            "count": 1
           },
           {
            "bin_end": 27.28,
            "bin_start": 24.44,
            "count": 2
           },
           {
            "bin_end": 30.12,
            "bin_start": 27.28,
            "count": 3
           },
           {
            "bin_end": 32.96,
            "bin_start": 30.12,
            "count": 7
           },
           {
            "bin_end": 35.8,
            "bin_start": 32.96,
            "count": 3
           },
           {
            "bin_end": 38.64,
            "bin_start": 35.8,
            "count": 5
           },
           {
            "bin_end": 41.480000000000004,
            "bin_start": 38.64,
            "count": 2
           },
           {
            "bin_end": 44.32,
            "bin_start": 41.480000000000004,
            "count": 4
           },
           {
            "bin_end": 47.16,
            "bin_start": 44.32,
            "count": 2
           },
           {
            "bin_end": 50,
            "bin_start": 47.16,
            "count": 3
           }
          ],
          "max": "50.0",
          "min": "21.6",
          "nan_count": 0,
          "unique_count": 29
         }
        },
        {
         "dtype": "float64",
         "name": "percentage_turnover_drives",
         "stats": {
          "histogram": [
           {
            "bin_end": 6.2700000000000005,
            "bin_start": 4.4,
            "count": 3
           },
           {
            "bin_end": 8.14,
            "bin_start": 6.2700000000000005,
            "count": 3
           },
           {
            "bin_end": 10.010000000000002,
            "bin_start": 8.14,
            "count": 4
           },
           {
            "bin_end": 11.880000000000003,
            "bin_start": 10.010000000000002,
            "count": 8
           },
           {
            "bin_end": 13.750000000000002,
            "bin_start": 11.880000000000003,
            "count": 6
           },
           {
            "bin_end": 15.620000000000003,
            "bin_start": 13.750000000000002,
            "count": 1
           },
           {
            "bin_end": 17.490000000000002,
            "bin_start": 15.620000000000003,
            "count": 0
           },
           {
            "bin_end": 19.360000000000003,
            "bin_start": 17.490000000000002,
            "count": 2
           },
           {
            "bin_end": 21.230000000000004,
            "bin_start": 19.360000000000003,
            "count": 3
           },
           {
            "bin_end": 23.1,
            "bin_start": 21.230000000000004,
            "count": 2
           }
          ],
          "max": "23.1",
          "min": "4.4",
          "nan_count": 0,
          "unique_count": 27
         }
        },
        {
         "dtype": "float64",
         "name": "expected_points",
         "stats": {
          "histogram": [
           {
            "bin_end": -16.949,
            "bin_start": -25.26,
            "count": 2
           },
           {
            "bin_end": -8.638000000000002,
            "bin_start": -16.949,
            "count": 5
           },
           {
            "bin_end": -0.32700000000000173,
            "bin_start": -8.638000000000002,
            "count": 6
           },
           {
            "bin_end": 7.983999999999998,
            "bin_start": -0.32700000000000173,
            "count": 4
           },
           {
            "bin_end": 16.294999999999998,
            "bin_start": 7.983999999999998,
            "count": 2
           },
           {
            "bin_end": 24.605999999999998,
            "bin_start": 16.294999999999998,
            "count": 4
           },
           {
            "bin_end": 32.917,
            "bin_start": 24.605999999999998,
            "count": 1
           },
           {
            "bin_end": 41.227999999999994,
            "bin_start": 32.917,
            "count": 2
           },
           {
            "bin_end": 49.539,
            "bin_start": 41.227999999999994,
            "count": 3
           },
           {
            "bin_end": 57.85,
            "bin_start": 49.539,
            "count": 3
           }
          ],
          "max": "57.85",
          "min": "-25.26",
          "nan_count": 0,
          "unique_count": 32
         }
        },
        {
         "dtype": "int64",
         "name": "_deepnote_index_column"
        }
       ],
       "row_count": 32,
       "rows": [
        {
         "1st_down_penalties": "7",
         "1st_downs": "90",
         "_deepnote_index_column": "0",
         "expected_points": "53.17",
         "fumbles_lost": "1",
         "games": "4",
         "net_yards_per_pass_attempt": "6.9",
         "offensive_plays": "269",
         "passes_attempted": "152",
         "passes_completed": "93",
         "passing_1st_downs": "57",
         "passing_interceptions": "3",
         "passing_touchdowns": "11",
         "passing_yards": "1091",
         "penalties": "23",
         "penalty_yards": "188",
         "percentage_scoring_drives": "45.8",
         "percentage_turnover_drives": "8.3",
         "points_scored": "140",
         "rank": "1",
         "rushing_1st_downs": "26",
         "rushing_attempts": "112",
         "rushing_touchdowns": "7",
         "rushing_yards": "656",
         "rushing_yards_per_attempt": "5.9",
         "team": "Detroit Lions",
         "total_yards": "1747",
         "turnovers_lost": "4",
         "yards_per_play": "6.5"
        },
        {
         "1st_down_penalties": "10",
         "1st_downs": "95",
         "_deepnote_index_column": "1",
         "expected_points": "57.85",
         "fumbles_lost": "2",
         "games": "4",
         "net_yards_per_pass_attempt": "7.0",
         "offensive_plays": "257",
         "passes_attempted": "147",
         "passes_completed": "97",
         "passing_1st_downs": "62",
         "passing_interceptions": "2",
         "passing_touchdowns": "11",
         "passing_yards": "1071",
         "penalties": "19",
         "penalty_yards": "156",
         "percentage_scoring_drives": "50.0",
         "percentage_turnover_drives": "7.1",
         "points_scored": "129",
         "rank": "2",
         "rushing_1st_downs": "23",
         "rushing_attempts": "105",
         "rushing_touchdowns": "4",
         "rushing_yards": "468",
         "rushing_yards_per_attempt": "4.5",
         "team": "Kansas City Chiefs",
         "total_yards": "1539",
         "turnovers_lost": "4",
         "yards_per_play": "6.0"
        },
        {
         "1st_down_penalties": "7",
         "1st_downs": "77",
         "_deepnote_index_column": "2",
         "expected_points": "32.97",
         "fumbles_lost": "1",
         "games": "4",
         "net_yards_per_pass_attempt": "7.0",
         "offensive_plays": "230",
         "passes_attempted": "117",
         "passes_completed": "76",
         "passing_1st_downs": "39",
         "passing_interceptions": "4",
         "passing_touchdowns": "11",
         "passing_yards": "869",
         "penalties": "17",
         "penalty_yards": "114",
         "percentage_scoring_drives": "42.2",
         "percentage_turnover_drives": "11.1",
         "points_scored": "119",
         "rank": "3",
         "rushing_1st_downs": "31",
         "rushing_attempts": "105",
         "rushing_touchdowns": "3",
         "rushing_yards": "568",
         "rushing_yards_per_attempt": "5.4",
         "team": "Baltimore Ravens",
         "total_yards": "1437",
         "turnovers_lost": "5",
         "yards_per_play": "6.2"
        },
        {
         "1st_down_penalties": "9",
         "1st_downs": "98",
         "_deepnote_index_column": "3",
         "expected_points": "44.88",
         "fumbles_lost": "0",
         "games": "4",
         "net_yards_per_pass_attempt": "8.2",
         "offensive_plays": "285",
         "passes_attempted": "123",
         "passes_completed": "82",
         "passing_1st_downs": "49",
         "passing_interceptions": "2",
         "passing_touchdowns": "4",
         "passing_yards": "1081",
         "penalties": "26",
         "penalty_yards": "193",
         "percentage_scoring_drives": "40.0",
         "percentage_turnover_drives": "4.4",
         "points_scored": "115",
         "rank": "4",
         "rushing_1st_downs": "40",
         "rushing_attempts": "153",
         "rushing_touchdowns": "10",
         "rushing_yards": "661",
         "rushing_yards_per_attempt": "4.3",
         "team": "Philadelphia Eagles",
         "total_yards": "1742",
         "turnovers_lost": "2",
         "yards_per_play": "6.1"
        },
        {
         "1st_down_penalties": "7",
         "1st_downs": "99",
         "_deepnote_index_column": "4",
         "expected_points": "49.56",
         "fumbles_lost": "4",
         "games": "4",
         "net_yards_per_pass_attempt": "6.7",
         "offensive_plays": "275",
         "passes_attempted": "170",
         "passes_completed": "113",
         "passing_1st_downs": "63",
         "passing_interceptions": "3",
         "passing_touchdowns": "10",
         "passing_yards": "1188",
         "penalties": "24",
         "penalty_yards": "167",
         "percentage_scoring_drives": "47.5",
         "percentage_turnover_drives": "17.5",
         "points_scored": "114",
         "rank": "5",
         "rushing_1st_downs": "29",
         "rushing_attempts": "97",
         "rushing_touchdowns": "2",
         "rushing_yards": "462",
         "rushing_yards_per_attempt": "4.8",
         "team": "Buffalo Bills",
         "total_yards": "1650",
         "turnovers_lost": "7",
         "yards_per_play": "6.0"
        },
        {
         "1st_down_penalties": "7",
         "1st_downs": "96",
         "_deepnote_index_column": "5",
         "expected_points": "40.78",
         "fumbles_lost": "1",
         "games": "4",
         "net_yards_per_pass_attempt": "6.0",
         "offensive_plays": "281",
         "passes_attempted": "127",
         "passes_completed": "82",
         "passing_1st_downs": "43",
         "passing_interceptions": "2",
         "passing_touchdowns": "4",
         "passing_yards": "790",
         "penalties": "26",
         "penalty_yards": "184",
         "percentage_scoring_drives": "46.3",
         "percentage_turnover_drives": "7.3",
         "points_scored": "105",
         "rank": "6",
         "rushing_1st_downs": "46",
         "rushing_attempts": "149",
         "rushing_touchdowns": "7",
         "rushing_yards": "749",
         "rushing_yards_per_attempt": "5.0",
         "team": "Cleveland Browns",
         "total_yards": "1539",
         "turnovers_lost": "3",
         "yards_per_play": "5.5"
        },
        {
         "1st_down_penalties": "8",
         "1st_downs": "83",
         "_deepnote_index_column": "6",
         "expected_points": "17.69",
         "fumbles_lost": "4",
         "games": "4",
         "net_yards_per_pass_attempt": "6.5",
         "offensive_plays": "250",
         "passes_attempted": "134",
         "passes_completed": "88",
         "passing_1st_downs": "52",
         "passing_interceptions": "2",
         "passing_touchdowns": "8",
         "passing_yards": "905",
         "penalties": "22",
         "penalty_yards": "157",
         "percentage_scoring_drives": "40.9",
         "percentage_turnover_drives": "13.6",
         "points_scored": "105",
         "rank": "7",
         "rushing_1st_downs": "23",
         "rushing_attempts": "110",
         "rushing_touchdowns": "3",
         "rushing_yards": "441",
         "rushing_yards_per_attempt": "4.0",
         "team": "Jacksonville Jaguars",
         "total_yards": "1346",
         "turnovers_lost": "6",
         "yards_per_play": "5.4"
        },
        {
         "1st_down_penalties": "12",
         "1st_downs": "86",
         "_deepnote_index_column": "7",
         "expected_points": "30.77",
         "fumbles_lost": "4",
         "games": "4",
         "net_yards_per_pass_attempt": "6.9",
         "offensive_plays": "236",
         "passes_attempted": "98",
         "passes_completed": "57",
         "passing_1st_downs": "38",
         "passing_interceptions": "4",
         "passing_touchdowns": "3",
         "passing_yards": "724",
         "penalties": "16",
         "penalty_yards": "114",
         "percentage_scoring_drives": "44.2",
         "percentage_turnover_drives": "18.6",
         "points_scored": "103",
         "rank": "8",
         "rushing_1st_downs": "36",
         "rushing_attempts": "131",
         "rushing_touchdowns": "6",
         "rushing_yards": "672",
         "rushing_yards_per_attempt": "5.1",
         "team": "Atlanta Falcons",
         "total_yards": "1396",
         "turnovers_lost": "8",
         "yards_per_play": "5.9"
        },
        {
         "1st_down_penalties": "9",
         "1st_downs": "80",
         "_deepnote_index_column": "8",
         "expected_points": "46.01",
         "fumbles_lost": "0",
         "games": "4",
         "net_yards_per_pass_attempt": "7.9",
         "offensive_plays": "227",
         "passes_attempted": "140",
         "passes_completed": "94",
         "passing_1st_downs": "56",
         "passing_interceptions": "4",
         "passing_touchdowns": "9",
         "passing_yards": "1167",
         "penalties": "22",
         "penalty_yards": "132",
         "percentage_scoring_drives": "42.1",
         "percentage_turnover_drives": "10.5",
         "points_scored": "98",
         "rank": "9",
         "rushing_1st_downs": "15",
         "rushing_attempts": "80",
         "rushing_touchdowns": "2",
         "rushing_yards": "277",
         "rushing_yards_per_attempt": "3.5",
         "team": "Miami Dolphins",
         "total_yards": "1444",
         "turnovers_lost": "4",
         "yards_per_play": "6.4"
        },
        {
         "1st_down_penalties": "5",
         "1st_downs": "87",
         "_deepnote_index_column": "9",
         "expected_points": "23.26",
         "fumbles_lost": "1",
         "games": "4",
         "net_yards_per_pass_attempt": "5.9",
         "offensive_plays": "256",
         "passes_attempted": "155",
         "passes_completed": "95",
         "passing_1st_downs": "56",
         "passing_interceptions": "4",
         "passing_touchdowns": "6",
         "passing_yards": "973",
         "penalties": "23",
         "penalty_yards": "148",
         "percentage_scoring_drives": "50.0",
         "percentage_turnover_drives": "12.5",
         "points_scored": "96",
         "rank": "10",
         "rushing_1st_downs": "26",
         "rushing_attempts": "91",
         "rushing_touchdowns": "2",
         "rushing_yards": "452",
         "rushing_yards_per_attempt": "5.0",
         "team": "Las Vegas Raiders",
         "total_yards": "1425",
         "turnovers_lost": "5",
         "yards_per_play": "5.6"
        }
       ]
      },
      "text/html": [
       "<div>\n",
       "<style scoped>\n",
       "    .dataframe tbody tr th:only-of-type {\n",
       "        vertical-align: middle;\n",
       "    }\n",
       "\n",
       "    .dataframe tbody tr th {\n",
       "        vertical-align: top;\n",
       "    }\n",
       "\n",
       "    .dataframe thead th {\n",
       "        text-align: right;\n",
       "    }\n",
       "</style>\n",
       "<table border=\"1\" class=\"dataframe\">\n",
       "  <thead>\n",
       "    <tr style=\"text-align: right;\">\n",
       "      <th></th>\n",
       "      <th>rank</th>\n",
       "      <th>team</th>\n",
       "      <th>games</th>\n",
       "      <th>points_scored</th>\n",
       "      <th>total_yards</th>\n",
       "      <th>offensive_plays</th>\n",
       "      <th>yards_per_play</th>\n",
       "      <th>turnovers_lost</th>\n",
       "      <th>fumbles_lost</th>\n",
       "      <th>1st_downs</th>\n",
       "      <th>...</th>\n",
       "      <th>rushing_yards</th>\n",
       "      <th>rushing_touchdowns</th>\n",
       "      <th>rushing_yards_per_attempt</th>\n",
       "      <th>rushing_1st_downs</th>\n",
       "      <th>penalties</th>\n",
       "      <th>penalty_yards</th>\n",
       "      <th>1st_down_penalties</th>\n",
       "      <th>percentage_scoring_drives</th>\n",
       "      <th>percentage_turnover_drives</th>\n",
       "      <th>expected_points</th>\n",
       "    </tr>\n",
       "  </thead>\n",
       "  <tbody>\n",
       "    <tr>\n",
       "      <th>0</th>\n",
       "      <td>1</td>\n",
       "      <td>Detroit Lions</td>\n",
       "      <td>4</td>\n",
       "      <td>140</td>\n",
       "      <td>1747</td>\n",
       "      <td>269</td>\n",
       "      <td>6.5</td>\n",
       "      <td>4</td>\n",
       "      <td>1</td>\n",
       "      <td>90</td>\n",
       "      <td>...</td>\n",
       "      <td>656</td>\n",
       "      <td>7</td>\n",
       "      <td>5.9</td>\n",
       "      <td>26</td>\n",
       "      <td>23</td>\n",
       "      <td>188</td>\n",
       "      <td>7</td>\n",
       "      <td>45.8</td>\n",
       "      <td>8.3</td>\n",
       "      <td>53.17</td>\n",
       "    </tr>\n",
       "    <tr>\n",
       "      <th>1</th>\n",
       "      <td>2</td>\n",
       "      <td>Kansas City Chiefs</td>\n",
       "      <td>4</td>\n",
       "      <td>129</td>\n",
       "      <td>1539</td>\n",
       "      <td>257</td>\n",
       "      <td>6.0</td>\n",
       "      <td>4</td>\n",
       "      <td>2</td>\n",
       "      <td>95</td>\n",
       "      <td>...</td>\n",
       "      <td>468</td>\n",
       "      <td>4</td>\n",
       "      <td>4.5</td>\n",
       "      <td>23</td>\n",
       "      <td>19</td>\n",
       "      <td>156</td>\n",
       "      <td>10</td>\n",
       "      <td>50.0</td>\n",
       "      <td>7.1</td>\n",
       "      <td>57.85</td>\n",
       "    </tr>\n",
       "    <tr>\n",
       "      <th>2</th>\n",
       "      <td>3</td>\n",
       "      <td>Baltimore Ravens</td>\n",
       "      <td>4</td>\n",
       "      <td>119</td>\n",
       "      <td>1437</td>\n",
       "      <td>230</td>\n",
       "      <td>6.2</td>\n",
       "      <td>5</td>\n",
       "      <td>1</td>\n",
       "      <td>77</td>\n",
       "      <td>...</td>\n",
       "      <td>568</td>\n",
       "      <td>3</td>\n",
       "      <td>5.4</td>\n",
       "      <td>31</td>\n",
       "      <td>17</td>\n",
       "      <td>114</td>\n",
       "      <td>7</td>\n",
       "      <td>42.2</td>\n",
       "      <td>11.1</td>\n",
       "      <td>32.97</td>\n",
       "    </tr>\n",
       "    <tr>\n",
       "      <th>3</th>\n",
       "      <td>4</td>\n",
       "      <td>Philadelphia Eagles</td>\n",
       "      <td>4</td>\n",
       "      <td>115</td>\n",
       "      <td>1742</td>\n",
       "      <td>285</td>\n",
       "      <td>6.1</td>\n",
       "      <td>2</td>\n",
       "      <td>0</td>\n",
       "      <td>98</td>\n",
       "      <td>...</td>\n",
       "      <td>661</td>\n",
       "      <td>10</td>\n",
       "      <td>4.3</td>\n",
       "      <td>40</td>\n",
       "      <td>26</td>\n",
       "      <td>193</td>\n",
       "      <td>9</td>\n",
       "      <td>40.0</td>\n",
       "      <td>4.4</td>\n",
       "      <td>44.88</td>\n",
       "    </tr>\n",
       "    <tr>\n",
       "      <th>4</th>\n",
       "      <td>5</td>\n",
       "      <td>Buffalo Bills</td>\n",
       "      <td>4</td>\n",
       "      <td>114</td>\n",
       "      <td>1650</td>\n",
       "      <td>275</td>\n",
       "      <td>6.0</td>\n",
       "      <td>7</td>\n",
       "      <td>4</td>\n",
       "      <td>99</td>\n",
       "      <td>...</td>\n",
       "      <td>462</td>\n",
       "      <td>2</td>\n",
       "      <td>4.8</td>\n",
       "      <td>29</td>\n",
       "      <td>24</td>\n",
       "      <td>167</td>\n",
       "      <td>7</td>\n",
       "      <td>47.5</td>\n",
       "      <td>17.5</td>\n",
       "      <td>49.56</td>\n",
       "    </tr>\n",
       "    <tr>\n",
       "      <th>5</th>\n",
       "      <td>6</td>\n",
       "      <td>Cleveland Browns</td>\n",
       "      <td>4</td>\n",
       "      <td>105</td>\n",
       "      <td>1539</td>\n",
       "      <td>281</td>\n",
       "      <td>5.5</td>\n",
       "      <td>3</td>\n",
       "      <td>1</td>\n",
       "      <td>96</td>\n",
       "      <td>...</td>\n",
       "      <td>749</td>\n",
       "      <td>7</td>\n",
       "      <td>5.0</td>\n",
       "      <td>46</td>\n",
       "      <td>26</td>\n",
       "      <td>184</td>\n",
       "      <td>7</td>\n",
       "      <td>46.3</td>\n",
       "      <td>7.3</td>\n",
       "      <td>40.78</td>\n",
       "    </tr>\n",
       "    <tr>\n",
       "      <th>6</th>\n",
       "      <td>7</td>\n",
       "      <td>Jacksonville Jaguars</td>\n",
       "      <td>4</td>\n",
       "      <td>105</td>\n",
       "      <td>1346</td>\n",
       "      <td>250</td>\n",
       "      <td>5.4</td>\n",
       "      <td>6</td>\n",
       "      <td>4</td>\n",
       "      <td>83</td>\n",
       "      <td>...</td>\n",
       "      <td>441</td>\n",
       "      <td>3</td>\n",
       "      <td>4.0</td>\n",
       "      <td>23</td>\n",
       "      <td>22</td>\n",
       "      <td>157</td>\n",
       "      <td>8</td>\n",
       "      <td>40.9</td>\n",
       "      <td>13.6</td>\n",
       "      <td>17.69</td>\n",
       "    </tr>\n",
       "    <tr>\n",
       "      <th>7</th>\n",
       "      <td>8</td>\n",
       "      <td>Atlanta Falcons</td>\n",
       "      <td>4</td>\n",
       "      <td>103</td>\n",
       "      <td>1396</td>\n",
       "      <td>236</td>\n",
       "      <td>5.9</td>\n",
       "      <td>8</td>\n",
       "      <td>4</td>\n",
       "      <td>86</td>\n",
       "      <td>...</td>\n",
       "      <td>672</td>\n",
       "      <td>6</td>\n",
       "      <td>5.1</td>\n",
       "      <td>36</td>\n",
       "      <td>16</td>\n",
       "      <td>114</td>\n",
       "      <td>12</td>\n",
       "      <td>44.2</td>\n",
       "      <td>18.6</td>\n",
       "      <td>30.77</td>\n",
       "    </tr>\n",
       "    <tr>\n",
       "      <th>8</th>\n",
       "      <td>9</td>\n",
       "      <td>Miami Dolphins</td>\n",
       "      <td>4</td>\n",
       "      <td>98</td>\n",
       "      <td>1444</td>\n",
       "      <td>227</td>\n",
       "      <td>6.4</td>\n",
       "      <td>4</td>\n",
       "      <td>0</td>\n",
       "      <td>80</td>\n",
       "      <td>...</td>\n",
       "      <td>277</td>\n",
       "      <td>2</td>\n",
       "      <td>3.5</td>\n",
       "      <td>15</td>\n",
       "      <td>22</td>\n",
       "      <td>132</td>\n",
       "      <td>9</td>\n",
       "      <td>42.1</td>\n",
       "      <td>10.5</td>\n",
       "      <td>46.01</td>\n",
       "    </tr>\n",
       "    <tr>\n",
       "      <th>9</th>\n",
       "      <td>10</td>\n",
       "      <td>Las Vegas Raiders</td>\n",
       "      <td>4</td>\n",
       "      <td>96</td>\n",
       "      <td>1425</td>\n",
       "      <td>256</td>\n",
       "      <td>5.6</td>\n",
       "      <td>5</td>\n",
       "      <td>1</td>\n",
       "      <td>87</td>\n",
       "      <td>...</td>\n",
       "      <td>452</td>\n",
       "      <td>2</td>\n",
       "      <td>5.0</td>\n",
       "      <td>26</td>\n",
       "      <td>23</td>\n",
       "      <td>148</td>\n",
       "      <td>5</td>\n",
       "      <td>50.0</td>\n",
       "      <td>12.5</td>\n",
       "      <td>23.26</td>\n",
       "    </tr>\n",
       "    <tr>\n",
       "      <th>10</th>\n",
       "      <td>11</td>\n",
       "      <td>Seattle Seahawks</td>\n",
       "      <td>4</td>\n",
       "      <td>95</td>\n",
       "      <td>1444</td>\n",
       "      <td>228</td>\n",
       "      <td>6.3</td>\n",
       "      <td>6</td>\n",
       "      <td>3</td>\n",
       "      <td>83</td>\n",
       "      <td>...</td>\n",
       "      <td>459</td>\n",
       "      <td>3</td>\n",
       "      <td>5.2</td>\n",
       "      <td>26</td>\n",
       "      <td>32</td>\n",
       "      <td>306</td>\n",
       "      <td>9</td>\n",
       "      <td>44.1</td>\n",
       "      <td>11.8</td>\n",
       "      <td>42.94</td>\n",
       "    </tr>\n",
       "    <tr>\n",
       "      <th>11</th>\n",
       "      <td>12</td>\n",
       "      <td>Los Angeles Chargers</td>\n",
       "      <td>4</td>\n",
       "      <td>92</td>\n",
       "      <td>1487</td>\n",
       "      <td>264</td>\n",
       "      <td>5.6</td>\n",
       "      <td>4</td>\n",
       "      <td>2</td>\n",
       "      <td>77</td>\n",
       "      <td>...</td>\n",
       "      <td>258</td>\n",
       "      <td>2</td>\n",
       "      <td>2.7</td>\n",
       "      <td>17</td>\n",
       "      <td>21</td>\n",
       "      <td>161</td>\n",
       "      <td>5</td>\n",
       "      <td>36.4</td>\n",
       "      <td>6.8</td>\n",
       "      <td>17.02</td>\n",
       "    </tr>\n",
       "    <tr>\n",
       "      <th>12</th>\n",
       "      <td>13</td>\n",
       "      <td>Cincinnati Bengals</td>\n",
       "      <td>4</td>\n",
       "      <td>91</td>\n",
       "      <td>1387</td>\n",
       "      <td>290</td>\n",
       "      <td>4.8</td>\n",
       "      <td>6</td>\n",
       "      <td>2</td>\n",
       "      <td>87</td>\n",
       "      <td>...</td>\n",
       "      <td>358</td>\n",
       "      <td>1</td>\n",
       "      <td>3.1</td>\n",
       "      <td>18</td>\n",
       "      <td>22</td>\n",
       "      <td>166</td>\n",
       "      <td>11</td>\n",
       "      <td>37.5</td>\n",
       "      <td>12.5</td>\n",
       "      <td>6.37</td>\n",
       "    </tr>\n",
       "    <tr>\n",
       "      <th>13</th>\n",
       "      <td>14</td>\n",
       "      <td>Arizona Cardinals</td>\n",
       "      <td>4</td>\n",
       "      <td>88</td>\n",
       "      <td>1398</td>\n",
       "      <td>292</td>\n",
       "      <td>4.8</td>\n",
       "      <td>2</td>\n",
       "      <td>0</td>\n",
       "      <td>89</td>\n",
       "      <td>...</td>\n",
       "      <td>448</td>\n",
       "      <td>4</td>\n",
       "      <td>4.1</td>\n",
       "      <td>33</td>\n",
       "      <td>30</td>\n",
       "      <td>280</td>\n",
       "      <td>6</td>\n",
       "      <td>36.6</td>\n",
       "      <td>4.9</td>\n",
       "      <td>8.95</td>\n",
       "    </tr>\n",
       "    <tr>\n",
       "      <th>14</th>\n",
       "      <td>15</td>\n",
       "      <td>Minnesota Vikings</td>\n",
       "      <td>4</td>\n",
       "      <td>86</td>\n",
       "      <td>1376</td>\n",
       "      <td>254</td>\n",
       "      <td>5.4</td>\n",
       "      <td>5</td>\n",
       "      <td>1</td>\n",
       "      <td>92</td>\n",
       "      <td>...</td>\n",
       "      <td>392</td>\n",
       "      <td>3</td>\n",
       "      <td>4.4</td>\n",
       "      <td>22</td>\n",
       "      <td>16</td>\n",
       "      <td>95</td>\n",
       "      <td>11</td>\n",
       "      <td>38.6</td>\n",
       "      <td>11.4</td>\n",
       "      <td>20.12</td>\n",
       "    </tr>\n",
       "    <tr>\n",
       "      <th>15</th>\n",
       "      <td>16</td>\n",
       "      <td>Tampa Bay Buccaneers</td>\n",
       "      <td>4</td>\n",
       "      <td>82</td>\n",
       "      <td>1268</td>\n",
       "      <td>245</td>\n",
       "      <td>5.2</td>\n",
       "      <td>6</td>\n",
       "      <td>5</td>\n",
       "      <td>77</td>\n",
       "      <td>...</td>\n",
       "      <td>261</td>\n",
       "      <td>1</td>\n",
       "      <td>3.1</td>\n",
       "      <td>13</td>\n",
       "      <td>24</td>\n",
       "      <td>206</td>\n",
       "      <td>9</td>\n",
       "      <td>34.8</td>\n",
       "      <td>10.9</td>\n",
       "      <td>-3.64</td>\n",
       "    </tr>\n",
       "    <tr>\n",
       "      <th>16</th>\n",
       "      <td>17</td>\n",
       "      <td>Carolina Panthers</td>\n",
       "      <td>4</td>\n",
       "      <td>78</td>\n",
       "      <td>1049</td>\n",
       "      <td>214</td>\n",
       "      <td>4.9</td>\n",
       "      <td>6</td>\n",
       "      <td>3</td>\n",
       "      <td>56</td>\n",
       "      <td>...</td>\n",
       "      <td>385</td>\n",
       "      <td>2</td>\n",
       "      <td>4.5</td>\n",
       "      <td>22</td>\n",
       "      <td>23</td>\n",
       "      <td>250</td>\n",
       "      <td>7</td>\n",
       "      <td>31.1</td>\n",
       "      <td>11.1</td>\n",
       "      <td>-25.26</td>\n",
       "    </tr>\n",
       "    <tr>\n",
       "      <th>17</th>\n",
       "      <td>18</td>\n",
       "      <td>New Orleans Saints</td>\n",
       "      <td>4</td>\n",
       "      <td>76</td>\n",
       "      <td>1457</td>\n",
       "      <td>244</td>\n",
       "      <td>6.0</td>\n",
       "      <td>11</td>\n",
       "      <td>6</td>\n",
       "      <td>74</td>\n",
       "      <td>...</td>\n",
       "      <td>446</td>\n",
       "      <td>4</td>\n",
       "      <td>5.1</td>\n",
       "      <td>23</td>\n",
       "      <td>34</td>\n",
       "      <td>319</td>\n",
       "      <td>5</td>\n",
       "      <td>27.1</td>\n",
       "      <td>20.8</td>\n",
       "      <td>-11.00</td>\n",
       "    </tr>\n",
       "    <tr>\n",
       "      <th>18</th>\n",
       "      <td>19</td>\n",
       "      <td>New York Giants</td>\n",
       "      <td>4</td>\n",
       "      <td>76</td>\n",
       "      <td>1328</td>\n",
       "      <td>256</td>\n",
       "      <td>5.2</td>\n",
       "      <td>5</td>\n",
       "      <td>2</td>\n",
       "      <td>80</td>\n",
       "      <td>...</td>\n",
       "      <td>770</td>\n",
       "      <td>4</td>\n",
       "      <td>5.7</td>\n",
       "      <td>43</td>\n",
       "      <td>31</td>\n",
       "      <td>219</td>\n",
       "      <td>9</td>\n",
       "      <td>35.6</td>\n",
       "      <td>8.9</td>\n",
       "      <td>6.34</td>\n",
       "    </tr>\n",
       "    <tr>\n",
       "      <th>19</th>\n",
       "      <td>20</td>\n",
       "      <td>New York Jets</td>\n",
       "      <td>4</td>\n",
       "      <td>76</td>\n",
       "      <td>1458</td>\n",
       "      <td>289</td>\n",
       "      <td>5.0</td>\n",
       "      <td>9</td>\n",
       "      <td>4</td>\n",
       "      <td>82</td>\n",
       "      <td>...</td>\n",
       "      <td>350</td>\n",
       "      <td>1</td>\n",
       "      <td>4.1</td>\n",
       "      <td>15</td>\n",
       "      <td>25</td>\n",
       "      <td>257</td>\n",
       "      <td>8</td>\n",
       "      <td>32.6</td>\n",
       "      <td>19.6</td>\n",
       "      <td>-10.79</td>\n",
       "    </tr>\n",
       "    <tr>\n",
       "      <th>20</th>\n",
       "      <td>21</td>\n",
       "      <td>Green Bay Packers</td>\n",
       "      <td>4</td>\n",
       "      <td>75</td>\n",
       "      <td>1510</td>\n",
       "      <td>259</td>\n",
       "      <td>5.8</td>\n",
       "      <td>7</td>\n",
       "      <td>4</td>\n",
       "      <td>85</td>\n",
       "      <td>...</td>\n",
       "      <td>580</td>\n",
       "      <td>3</td>\n",
       "      <td>5.0</td>\n",
       "      <td>34</td>\n",
       "      <td>17</td>\n",
       "      <td>140</td>\n",
       "      <td>5</td>\n",
       "      <td>28.3</td>\n",
       "      <td>15.2</td>\n",
       "      <td>16.07</td>\n",
       "    </tr>\n",
       "    <tr>\n",
       "      <th>21</th>\n",
       "      <td>22</td>\n",
       "      <td>Tennessee Titans</td>\n",
       "      <td>4</td>\n",
       "      <td>75</td>\n",
       "      <td>1150</td>\n",
       "      <td>220</td>\n",
       "      <td>5.2</td>\n",
       "      <td>6</td>\n",
       "      <td>3</td>\n",
       "      <td>69</td>\n",
       "      <td>...</td>\n",
       "      <td>409</td>\n",
       "      <td>4</td>\n",
       "      <td>3.8</td>\n",
       "      <td>19</td>\n",
       "      <td>29</td>\n",
       "      <td>262</td>\n",
       "      <td>9</td>\n",
       "      <td>31.0</td>\n",
       "      <td>9.5</td>\n",
       "      <td>2.39</td>\n",
       "    </tr>\n",
       "    <tr>\n",
       "      <th>22</th>\n",
       "      <td>23</td>\n",
       "      <td>Pittsburgh Steelers</td>\n",
       "      <td>4</td>\n",
       "      <td>74</td>\n",
       "      <td>1115</td>\n",
       "      <td>234</td>\n",
       "      <td>4.8</td>\n",
       "      <td>7</td>\n",
       "      <td>2</td>\n",
       "      <td>69</td>\n",
       "      <td>...</td>\n",
       "      <td>389</td>\n",
       "      <td>4</td>\n",
       "      <td>4.0</td>\n",
       "      <td>25</td>\n",
       "      <td>24</td>\n",
       "      <td>159</td>\n",
       "      <td>4</td>\n",
       "      <td>30.4</td>\n",
       "      <td>13.0</td>\n",
       "      <td>-15.59</td>\n",
       "    </tr>\n",
       "    <tr>\n",
       "      <th>23</th>\n",
       "      <td>24</td>\n",
       "      <td>New England Patriots</td>\n",
       "      <td>4</td>\n",
       "      <td>74</td>\n",
       "      <td>1365</td>\n",
       "      <td>241</td>\n",
       "      <td>5.7</td>\n",
       "      <td>9</td>\n",
       "      <td>4</td>\n",
       "      <td>74</td>\n",
       "      <td>...</td>\n",
       "      <td>514</td>\n",
       "      <td>5</td>\n",
       "      <td>4.5</td>\n",
       "      <td>33</td>\n",
       "      <td>20</td>\n",
       "      <td>161</td>\n",
       "      <td>3</td>\n",
       "      <td>28.6</td>\n",
       "      <td>21.4</td>\n",
       "      <td>-0.64</td>\n",
       "    </tr>\n",
       "    <tr>\n",
       "      <th>24</th>\n",
       "      <td>25</td>\n",
       "      <td>Houston Texans</td>\n",
       "      <td>4</td>\n",
       "      <td>73</td>\n",
       "      <td>1208</td>\n",
       "      <td>237</td>\n",
       "      <td>5.1</td>\n",
       "      <td>5</td>\n",
       "      <td>1</td>\n",
       "      <td>68</td>\n",
       "      <td>...</td>\n",
       "      <td>380</td>\n",
       "      <td>2</td>\n",
       "      <td>4.5</td>\n",
       "      <td>19</td>\n",
       "      <td>26</td>\n",
       "      <td>226</td>\n",
       "      <td>11</td>\n",
       "      <td>31.3</td>\n",
       "      <td>10.4</td>\n",
       "      <td>-12.95</td>\n",
       "    </tr>\n",
       "    <tr>\n",
       "      <th>25</th>\n",
       "      <td>26</td>\n",
       "      <td>Washington Commanders</td>\n",
       "      <td>4</td>\n",
       "      <td>73</td>\n",
       "      <td>1323</td>\n",
       "      <td>287</td>\n",
       "      <td>4.6</td>\n",
       "      <td>7</td>\n",
       "      <td>2</td>\n",
       "      <td>84</td>\n",
       "      <td>...</td>\n",
       "      <td>402</td>\n",
       "      <td>2</td>\n",
       "      <td>4.1</td>\n",
       "      <td>24</td>\n",
       "      <td>23</td>\n",
       "      <td>264</td>\n",
       "      <td>8</td>\n",
       "      <td>21.6</td>\n",
       "      <td>13.7</td>\n",
       "      <td>-16.38</td>\n",
       "    </tr>\n",
       "    <tr>\n",
       "      <th>26</th>\n",
       "      <td>27</td>\n",
       "      <td>Dallas Cowboys</td>\n",
       "      <td>4</td>\n",
       "      <td>71</td>\n",
       "      <td>1251</td>\n",
       "      <td>241</td>\n",
       "      <td>5.2</td>\n",
       "      <td>2</td>\n",
       "      <td>1</td>\n",
       "      <td>69</td>\n",
       "      <td>...</td>\n",
       "      <td>416</td>\n",
       "      <td>2</td>\n",
       "      <td>4.0</td>\n",
       "      <td>22</td>\n",
       "      <td>27</td>\n",
       "      <td>208</td>\n",
       "      <td>7</td>\n",
       "      <td>35.6</td>\n",
       "      <td>4.4</td>\n",
       "      <td>1.65</td>\n",
       "    </tr>\n",
       "    <tr>\n",
       "      <th>27</th>\n",
       "      <td>28</td>\n",
       "      <td>San Francisco 49ers</td>\n",
       "      <td>4</td>\n",
       "      <td>71</td>\n",
       "      <td>1298</td>\n",
       "      <td>238</td>\n",
       "      <td>5.5</td>\n",
       "      <td>5</td>\n",
       "      <td>3</td>\n",
       "      <td>68</td>\n",
       "      <td>...</td>\n",
       "      <td>541</td>\n",
       "      <td>4</td>\n",
       "      <td>4.4</td>\n",
       "      <td>29</td>\n",
       "      <td>24</td>\n",
       "      <td>190</td>\n",
       "      <td>8</td>\n",
       "      <td>27.3</td>\n",
       "      <td>11.4</td>\n",
       "      <td>-1.21</td>\n",
       "    </tr>\n",
       "    <tr>\n",
       "      <th>28</th>\n",
       "      <td>29</td>\n",
       "      <td>Los Angeles Rams</td>\n",
       "      <td>4</td>\n",
       "      <td>70</td>\n",
       "      <td>1176</td>\n",
       "      <td>248</td>\n",
       "      <td>4.7</td>\n",
       "      <td>9</td>\n",
       "      <td>3</td>\n",
       "      <td>79</td>\n",
       "      <td>...</td>\n",
       "      <td>274</td>\n",
       "      <td>3</td>\n",
       "      <td>3.3</td>\n",
       "      <td>17</td>\n",
       "      <td>14</td>\n",
       "      <td>131</td>\n",
       "      <td>6</td>\n",
       "      <td>35.9</td>\n",
       "      <td>23.1</td>\n",
       "      <td>-8.08</td>\n",
       "    </tr>\n",
       "    <tr>\n",
       "      <th>29</th>\n",
       "      <td>30</td>\n",
       "      <td>Denver Broncos</td>\n",
       "      <td>4</td>\n",
       "      <td>66</td>\n",
       "      <td>1343</td>\n",
       "      <td>247</td>\n",
       "      <td>5.4</td>\n",
       "      <td>4</td>\n",
       "      <td>3</td>\n",
       "      <td>66</td>\n",
       "      <td>...</td>\n",
       "      <td>438</td>\n",
       "      <td>2</td>\n",
       "      <td>4.2</td>\n",
       "      <td>20</td>\n",
       "      <td>37</td>\n",
       "      <td>286</td>\n",
       "      <td>7</td>\n",
       "      <td>31.8</td>\n",
       "      <td>9.1</td>\n",
       "      <td>-6.92</td>\n",
       "    </tr>\n",
       "    <tr>\n",
       "      <th>30</th>\n",
       "      <td>31</td>\n",
       "      <td>Chicago Bears</td>\n",
       "      <td>4</td>\n",
       "      <td>64</td>\n",
       "      <td>1099</td>\n",
       "      <td>219</td>\n",
       "      <td>5.0</td>\n",
       "      <td>7</td>\n",
       "      <td>3</td>\n",
       "      <td>59</td>\n",
       "      <td>...</td>\n",
       "      <td>709</td>\n",
       "      <td>4</td>\n",
       "      <td>5.2</td>\n",
       "      <td>34</td>\n",
       "      <td>21</td>\n",
       "      <td>171</td>\n",
       "      <td>8</td>\n",
       "      <td>31.8</td>\n",
       "      <td>13.6</td>\n",
       "      <td>-5.87</td>\n",
       "    </tr>\n",
       "    <tr>\n",
       "      <th>31</th>\n",
       "      <td>32</td>\n",
       "      <td>Indianapolis Colts</td>\n",
       "      <td>4</td>\n",
       "      <td>57</td>\n",
       "      <td>1359</td>\n",
       "      <td>270</td>\n",
       "      <td>5.0</td>\n",
       "      <td>9</td>\n",
       "      <td>4</td>\n",
       "      <td>82</td>\n",
       "      <td>...</td>\n",
       "      <td>351</td>\n",
       "      <td>1</td>\n",
       "      <td>3.5</td>\n",
       "      <td>22</td>\n",
       "      <td>23</td>\n",
       "      <td>203</td>\n",
       "      <td>5</td>\n",
       "      <td>25.0</td>\n",
       "      <td>20.5</td>\n",
       "      <td>-18.74</td>\n",
       "    </tr>\n",
       "  </tbody>\n",
       "</table>\n",
       "<p>32 rows × 28 columns</p>\n",
       "</div>"
      ],
      "text/plain": [
       "    rank                   team  games  points_scored  total_yards  \\\n",
       "0      1          Detroit Lions      4            140         1747   \n",
       "1      2     Kansas City Chiefs      4            129         1539   \n",
       "2      3       Baltimore Ravens      4            119         1437   \n",
       "3      4    Philadelphia Eagles      4            115         1742   \n",
       "4      5          Buffalo Bills      4            114         1650   \n",
       "5      6       Cleveland Browns      4            105         1539   \n",
       "6      7   Jacksonville Jaguars      4            105         1346   \n",
       "7      8        Atlanta Falcons      4            103         1396   \n",
       "8      9         Miami Dolphins      4             98         1444   \n",
       "9     10      Las Vegas Raiders      4             96         1425   \n",
       "10    11       Seattle Seahawks      4             95         1444   \n",
       "11    12   Los Angeles Chargers      4             92         1487   \n",
       "12    13     Cincinnati Bengals      4             91         1387   \n",
       "13    14      Arizona Cardinals      4             88         1398   \n",
       "14    15      Minnesota Vikings      4             86         1376   \n",
       "15    16   Tampa Bay Buccaneers      4             82         1268   \n",
       "16    17      Carolina Panthers      4             78         1049   \n",
       "17    18     New Orleans Saints      4             76         1457   \n",
       "18    19        New York Giants      4             76         1328   \n",
       "19    20          New York Jets      4             76         1458   \n",
       "20    21      Green Bay Packers      4             75         1510   \n",
       "21    22       Tennessee Titans      4             75         1150   \n",
       "22    23    Pittsburgh Steelers      4             74         1115   \n",
       "23    24   New England Patriots      4             74         1365   \n",
       "24    25         Houston Texans      4             73         1208   \n",
       "25    26  Washington Commanders      4             73         1323   \n",
       "26    27         Dallas Cowboys      4             71         1251   \n",
       "27    28    San Francisco 49ers      4             71         1298   \n",
       "28    29       Los Angeles Rams      4             70         1176   \n",
       "29    30         Denver Broncos      4             66         1343   \n",
       "30    31          Chicago Bears      4             64         1099   \n",
       "31    32     Indianapolis Colts      4             57         1359   \n",
       "\n",
       "    offensive_plays  yards_per_play  turnovers_lost  fumbles_lost  1st_downs  \\\n",
       "0               269             6.5               4             1         90   \n",
       "1               257             6.0               4             2         95   \n",
       "2               230             6.2               5             1         77   \n",
       "3               285             6.1               2             0         98   \n",
       "4               275             6.0               7             4         99   \n",
       "5               281             5.5               3             1         96   \n",
       "6               250             5.4               6             4         83   \n",
       "7               236             5.9               8             4         86   \n",
       "8               227             6.4               4             0         80   \n",
       "9               256             5.6               5             1         87   \n",
       "10              228             6.3               6             3         83   \n",
       "11              264             5.6               4             2         77   \n",
       "12              290             4.8               6             2         87   \n",
       "13              292             4.8               2             0         89   \n",
       "14              254             5.4               5             1         92   \n",
       "15              245             5.2               6             5         77   \n",
       "16              214             4.9               6             3         56   \n",
       "17              244             6.0              11             6         74   \n",
       "18              256             5.2               5             2         80   \n",
       "19              289             5.0               9             4         82   \n",
       "20              259             5.8               7             4         85   \n",
       "21              220             5.2               6             3         69   \n",
       "22              234             4.8               7             2         69   \n",
       "23              241             5.7               9             4         74   \n",
       "24              237             5.1               5             1         68   \n",
       "25              287             4.6               7             2         84   \n",
       "26              241             5.2               2             1         69   \n",
       "27              238             5.5               5             3         68   \n",
       "28              248             4.7               9             3         79   \n",
       "29              247             5.4               4             3         66   \n",
       "30              219             5.0               7             3         59   \n",
       "31              270             5.0               9             4         82   \n",
       "\n",
       "    ...  rushing_yards  rushing_touchdowns  rushing_yards_per_attempt  \\\n",
       "0   ...            656                   7                        5.9   \n",
       "1   ...            468                   4                        4.5   \n",
       "2   ...            568                   3                        5.4   \n",
       "3   ...            661                  10                        4.3   \n",
       "4   ...            462                   2                        4.8   \n",
       "5   ...            749                   7                        5.0   \n",
       "6   ...            441                   3                        4.0   \n",
       "7   ...            672                   6                        5.1   \n",
       "8   ...            277                   2                        3.5   \n",
       "9   ...            452                   2                        5.0   \n",
       "10  ...            459                   3                        5.2   \n",
       "11  ...            258                   2                        2.7   \n",
       "12  ...            358                   1                        3.1   \n",
       "13  ...            448                   4                        4.1   \n",
       "14  ...            392                   3                        4.4   \n",
       "15  ...            261                   1                        3.1   \n",
       "16  ...            385                   2                        4.5   \n",
       "17  ...            446                   4                        5.1   \n",
       "18  ...            770                   4                        5.7   \n",
       "19  ...            350                   1                        4.1   \n",
       "20  ...            580                   3                        5.0   \n",
       "21  ...            409                   4                        3.8   \n",
       "22  ...            389                   4                        4.0   \n",
       "23  ...            514                   5                        4.5   \n",
       "24  ...            380                   2                        4.5   \n",
       "25  ...            402                   2                        4.1   \n",
       "26  ...            416                   2                        4.0   \n",
       "27  ...            541                   4                        4.4   \n",
       "28  ...            274                   3                        3.3   \n",
       "29  ...            438                   2                        4.2   \n",
       "30  ...            709                   4                        5.2   \n",
       "31  ...            351                   1                        3.5   \n",
       "\n",
       "    rushing_1st_downs  penalties  penalty_yards  1st_down_penalties  \\\n",
       "0                  26         23            188                   7   \n",
       "1                  23         19            156                  10   \n",
       "2                  31         17            114                   7   \n",
       "3                  40         26            193                   9   \n",
       "4                  29         24            167                   7   \n",
       "5                  46         26            184                   7   \n",
       "6                  23         22            157                   8   \n",
       "7                  36         16            114                  12   \n",
       "8                  15         22            132                   9   \n",
       "9                  26         23            148                   5   \n",
       "10                 26         32            306                   9   \n",
       "11                 17         21            161                   5   \n",
       "12                 18         22            166                  11   \n",
       "13                 33         30            280                   6   \n",
       "14                 22         16             95                  11   \n",
       "15                 13         24            206                   9   \n",
       "16                 22         23            250                   7   \n",
       "17                 23         34            319                   5   \n",
       "18                 43         31            219                   9   \n",
       "19                 15         25            257                   8   \n",
       "20                 34         17            140                   5   \n",
       "21                 19         29            262                   9   \n",
       "22                 25         24            159                   4   \n",
       "23                 33         20            161                   3   \n",
       "24                 19         26            226                  11   \n",
       "25                 24         23            264                   8   \n",
       "26                 22         27            208                   7   \n",
       "27                 29         24            190                   8   \n",
       "28                 17         14            131                   6   \n",
       "29                 20         37            286                   7   \n",
       "30                 34         21            171                   8   \n",
       "31                 22         23            203                   5   \n",
       "\n",
       "    percentage_scoring_drives  percentage_turnover_drives  expected_points  \n",
       "0                        45.8                         8.3            53.17  \n",
       "1                        50.0                         7.1            57.85  \n",
       "2                        42.2                        11.1            32.97  \n",
       "3                        40.0                         4.4            44.88  \n",
       "4                        47.5                        17.5            49.56  \n",
       "5                        46.3                         7.3            40.78  \n",
       "6                        40.9                        13.6            17.69  \n",
       "7                        44.2                        18.6            30.77  \n",
       "8                        42.1                        10.5            46.01  \n",
       "9                        50.0                        12.5            23.26  \n",
       "10                       44.1                        11.8            42.94  \n",
       "11                       36.4                         6.8            17.02  \n",
       "12                       37.5                        12.5             6.37  \n",
       "13                       36.6                         4.9             8.95  \n",
       "14                       38.6                        11.4            20.12  \n",
       "15                       34.8                        10.9            -3.64  \n",
       "16                       31.1                        11.1           -25.26  \n",
       "17                       27.1                        20.8           -11.00  \n",
       "18                       35.6                         8.9             6.34  \n",
       "19                       32.6                        19.6           -10.79  \n",
       "20                       28.3                        15.2            16.07  \n",
       "21                       31.0                         9.5             2.39  \n",
       "22                       30.4                        13.0           -15.59  \n",
       "23                       28.6                        21.4            -0.64  \n",
       "24                       31.3                        10.4           -12.95  \n",
       "25                       21.6                        13.7           -16.38  \n",
       "26                       35.6                         4.4             1.65  \n",
       "27                       27.3                        11.4            -1.21  \n",
       "28                       35.9                        23.1            -8.08  \n",
       "29                       31.8                         9.1            -6.92  \n",
       "30                       31.8                        13.6            -5.87  \n",
       "31                       25.0                        20.5           -18.74  \n",
       "\n",
       "[32 rows x 28 columns]"
      ]
     },
     "execution_count": 3,
     "metadata": {},
     "output_type": "execute_result"
    }
   ],
   "source": [
    "w4"
   ]
  },
  {
   "cell_type": "markdown",
   "metadata": {
    "cell_id": "1bfca43e6ec047daa8f6c7ee1841549b",
    "deepnote_cell_type": "markdown",
    "tags": []
   },
   "source": [
    "First of all, I need to clean the data, based on the original data, I have the data of rushing touchdowns and passing touchdowns, I want to collect all of them together to make sure how many touchdowns they made.\n"
   ]
  },
  {
   "cell_type": "code",
   "execution_count": 4,
   "metadata": {
    "cell_id": "9347a3ad50cf40029a9f1f43ccdedde5",
    "deepnote_cell_type": "code",
    "deepnote_to_be_reexecuted": false,
    "execution_millis": 93,
    "execution_start": 1670476289806,
    "source_hash": "6155c481",
    "tags": []
   },
   "outputs": [
    {
     "data": {
      "application/vnd.deepnote.dataframe.v3+json": {
       "column_count": 29,
       "columns": [
        {
         "dtype": "int64",
         "name": "rank",
         "stats": {
          "histogram": [
           {
            "bin_end": 4.1,
            "bin_start": 1,
            "count": 4
           },
           {
            "bin_end": 7.2,
            "bin_start": 4.1,
            "count": 3
           },
           {
            "bin_end": 10.3,
            "bin_start": 7.2,
            "count": 3
           },
           {
            "bin_end": 13.4,
            "bin_start": 10.3,
            "count": 3
           },
           {
            "bin_end": 16.5,
            "bin_start": 13.4,
            "count": 3
           },
           {
            "bin_end": 19.6,
            "bin_start": 16.5,
            "count": 3
           },
           {
            "bin_end": 22.7,
            "bin_start": 19.6,
            "count": 3
           },
           {
            "bin_end": 25.8,
            "bin_start": 22.7,
            "count": 3
           },
           {
            "bin_end": 28.900000000000002,
            "bin_start": 25.8,
            "count": 3
           },
           {
            "bin_end": 32,
            "bin_start": 28.900000000000002,
            "count": 4
           }
          ],
          "max": "32",
          "min": "1",
          "nan_count": 0,
          "unique_count": 32
         }
        },
        {
         "dtype": "object",
         "name": "team",
         "stats": {
          "categories": [
           {
            "count": 1,
            "name": "Detroit Lions"
           },
           {
            "count": 1,
            "name": "Kansas City Chiefs"
           },
           {
            "count": 30,
            "name": "30 others"
           }
          ],
          "nan_count": 0,
          "unique_count": 32
         }
        },
        {
         "dtype": "int64",
         "name": "games",
         "stats": {
          "histogram": [
           {
            "bin_end": 3.6,
            "bin_start": 3.5,
            "count": 0
           },
           {
            "bin_end": 3.7,
            "bin_start": 3.6,
            "count": 0
           },
           {
            "bin_end": 3.8,
            "bin_start": 3.7,
            "count": 0
           },
           {
            "bin_end": 3.9,
            "bin_start": 3.8,
            "count": 0
           },
           {
            "bin_end": 4,
            "bin_start": 3.9,
            "count": 0
           },
           {
            "bin_end": 4.1,
            "bin_start": 4,
            "count": 32
           },
           {
            "bin_end": 4.2,
            "bin_start": 4.1,
            "count": 0
           },
           {
            "bin_end": 4.3,
            "bin_start": 4.2,
            "count": 0
           },
           {
            "bin_end": 4.4,
            "bin_start": 4.3,
            "count": 0
           },
           {
            "bin_end": 4.5,
            "bin_start": 4.4,
            "count": 0
           }
          ],
          "max": "4",
          "min": "4",
          "nan_count": 0,
          "unique_count": 1
         }
        },
        {
         "dtype": "int64",
         "name": "points_scored",
         "stats": {
          "histogram": [
           {
            "bin_end": 65.3,
            "bin_start": 57,
            "count": 2
           },
           {
            "bin_end": 73.6,
            "bin_start": 65.3,
            "count": 6
           },
           {
            "bin_end": 81.9,
            "bin_start": 73.6,
            "count": 8
           },
           {
            "bin_end": 90.2,
            "bin_start": 81.9,
            "count": 3
           },
           {
            "bin_end": 98.5,
            "bin_start": 90.2,
            "count": 5
           },
           {
            "bin_end": 106.80000000000001,
            "bin_start": 98.5,
            "count": 3
           },
           {
            "bin_end": 115.10000000000001,
            "bin_start": 106.80000000000001,
            "count": 2
           },
           {
            "bin_end": 123.4,
            "bin_start": 115.10000000000001,
            "count": 1
           },
           {
            "bin_end": 131.7,
            "bin_start": 123.4,
            "count": 1
           },
           {
            "bin_end": 140,
            "bin_start": 131.7,
            "count": 1
           }
          ],
          "max": "140",
          "min": "57",
          "nan_count": 0,
          "unique_count": 25
         }
        },
        {
         "dtype": "int64",
         "name": "total_yards",
         "stats": {
          "histogram": [
           {
            "bin_end": 1118.8,
            "bin_start": 1049,
            "count": 3
           },
           {
            "bin_end": 1188.6,
            "bin_start": 1118.8,
            "count": 2
           },
           {
            "bin_end": 1258.4,
            "bin_start": 1188.6,
            "count": 2
           },
           {
            "bin_end": 1328.2,
            "bin_start": 1258.4,
            "count": 4
           },
           {
            "bin_end": 1398,
            "bin_start": 1328.2,
            "count": 7
           },
           {
            "bin_end": 1467.8,
            "bin_start": 1398,
            "count": 7
           },
           {
            "bin_end": 1537.6,
            "bin_start": 1467.8,
            "count": 2
           },
           {
            "bin_end": 1607.4,
            "bin_start": 1537.6,
            "count": 2
           },
           {
            "bin_end": 1677.1999999999998,
            "bin_start": 1607.4,
            "count": 1
           },
           {
            "bin_end": 1747,
            "bin_start": 1677.1999999999998,
            "count": 2
           }
          ],
          "max": "1747",
          "min": "1049",
          "nan_count": 0,
          "unique_count": 30
         }
        },
        {
         "dtype": "int64",
         "name": "offensive_plays",
         "stats": {
          "histogram": [
           {
            "bin_end": 221.8,
            "bin_start": 214,
            "count": 3
           },
           {
            "bin_end": 229.6,
            "bin_start": 221.8,
            "count": 2
           },
           {
            "bin_end": 237.4,
            "bin_start": 229.6,
            "count": 4
           },
           {
            "bin_end": 245.2,
            "bin_start": 237.4,
            "count": 5
           },
           {
            "bin_end": 253,
            "bin_start": 245.2,
            "count": 3
           },
           {
            "bin_end": 260.8,
            "bin_start": 253,
            "count": 5
           },
           {
            "bin_end": 268.6,
            "bin_start": 260.8,
            "count": 1
           },
           {
            "bin_end": 276.4,
            "bin_start": 268.6,
            "count": 3
           },
           {
            "bin_end": 284.2,
            "bin_start": 276.4,
            "count": 1
           },
           {
            "bin_end": 292,
            "bin_start": 284.2,
            "count": 5
           }
          ],
          "max": "292",
          "min": "214",
          "nan_count": 0,
          "unique_count": 30
         }
        },
        {
         "dtype": "float64",
         "name": "yards_per_play",
         "stats": {
          "histogram": [
           {
            "bin_end": 4.79,
            "bin_start": 4.6,
            "count": 2
           },
           {
            "bin_end": 4.9799999999999995,
            "bin_start": 4.79,
            "count": 4
           },
           {
            "bin_end": 5.17,
            "bin_start": 4.9799999999999995,
            "count": 4
           },
           {
            "bin_end": 5.359999999999999,
            "bin_start": 5.17,
            "count": 4
           },
           {
            "bin_end": 5.55,
            "bin_start": 5.359999999999999,
            "count": 5
           },
           {
            "bin_end": 5.74,
            "bin_start": 5.55,
            "count": 3
           },
           {
            "bin_end": 5.93,
            "bin_start": 5.74,
            "count": 2
           },
           {
            "bin_end": 6.12,
            "bin_start": 5.93,
            "count": 4
           },
           {
            "bin_end": 6.31,
            "bin_start": 6.12,
            "count": 2
           },
           {
            "bin_end": 6.5,
            "bin_start": 6.31,
            "count": 2
           }
          ],
          "max": "6.5",
          "min": "4.6",
          "nan_count": 0,
          "unique_count": 19
         }
        },
        {
         "dtype": "int64",
         "name": "turnovers_lost",
         "stats": {
          "histogram": [
           {
            "bin_end": 2.9,
            "bin_start": 2,
            "count": 3
           },
           {
            "bin_end": 3.8,
            "bin_start": 2.9,
            "count": 1
           },
           {
            "bin_end": 4.7,
            "bin_start": 3.8,
            "count": 5
           },
           {
            "bin_end": 5.6,
            "bin_start": 4.7,
            "count": 6
           },
           {
            "bin_end": 6.5,
            "bin_start": 5.6,
            "count": 6
           },
           {
            "bin_end": 7.4,
            "bin_start": 6.5,
            "count": 5
           },
           {
            "bin_end": 8.3,
            "bin_start": 7.4,
            "count": 1
           },
           {
            "bin_end": 9.2,
            "bin_start": 8.3,
            "count": 4
           },
           {
            "bin_end": 10.1,
            "bin_start": 9.2,
            "count": 0
           },
           {
            "bin_end": 11,
            "bin_start": 10.1,
            "count": 1
           }
          ],
          "max": "11",
          "min": "2",
          "nan_count": 0,
          "unique_count": 9
         }
        },
        {
         "dtype": "int64",
         "name": "fumbles_lost",
         "stats": {
          "histogram": [
           {
            "bin_end": 0.6,
            "bin_start": 0,
            "count": 3
           },
           {
            "bin_end": 1.2,
            "bin_start": 0.6,
            "count": 7
           },
           {
            "bin_end": 1.7999999999999998,
            "bin_start": 1.2,
            "count": 0
           },
           {
            "bin_end": 2.4,
            "bin_start": 1.7999999999999998,
            "count": 6
           },
           {
            "bin_end": 3,
            "bin_start": 2.4,
            "count": 0
           },
           {
            "bin_end": 3.5999999999999996,
            "bin_start": 3,
            "count": 7
           },
           {
            "bin_end": 4.2,
            "bin_start": 3.5999999999999996,
            "count": 7
           },
           {
            "bin_end": 4.8,
            "bin_start": 4.2,
            "count": 0
           },
           {
            "bin_end": 5.3999999999999995,
            "bin_start": 4.8,
            "count": 1
           },
           {
            "bin_end": 6,
            "bin_start": 5.3999999999999995,
            "count": 1
           }
          ],
          "max": "6",
          "min": "0",
          "nan_count": 0,
          "unique_count": 7
         }
        },
        {
         "dtype": "int64",
         "name": "1st_downs",
         "stats": {
          "histogram": [
           {
            "bin_end": 60.3,
            "bin_start": 56,
            "count": 2
           },
           {
            "bin_end": 64.6,
            "bin_start": 60.3,
            "count": 0
           },
           {
            "bin_end": 68.9,
            "bin_start": 64.6,
            "count": 3
           },
           {
            "bin_end": 73.2,
            "bin_start": 68.9,
            "count": 3
           },
           {
            "bin_end": 77.5,
            "bin_start": 73.2,
            "count": 5
           },
           {
            "bin_end": 81.8,
            "bin_start": 77.5,
            "count": 3
           },
           {
            "bin_end": 86.1,
            "bin_start": 81.8,
            "count": 7
           },
           {
            "bin_end": 90.4,
            "bin_start": 86.1,
            "count": 4
           },
           {
            "bin_end": 94.69999999999999,
            "bin_start": 90.4,
            "count": 1
           },
           {
            "bin_end": 99,
            "bin_start": 94.69999999999999,
            "count": 4
           }
          ],
          "max": "99",
          "min": "56",
          "nan_count": 0,
          "unique_count": 22
         }
        },
        {
         "dtype": "int64",
         "name": "passes_completed",
         "stats": {
          "histogram": [
           {
            "bin_end": 42.1,
            "bin_start": 34,
            "count": 1
           },
           {
            "bin_end": 50.2,
            "bin_start": 42.1,
            "count": 0
           },
           {
            "bin_end": 58.3,
            "bin_start": 50.2,
            "count": 1
           },
           {
            "bin_end": 66.4,
            "bin_start": 58.3,
            "count": 2
           },
           {
            "bin_end": 74.5,
            "bin_start": 66.4,
            "count": 2
           },
           {
            "bin_end": 82.6,
            "bin_start": 74.5,
            "count": 7
           },
           {
            "bin_end": 90.69999999999999,
            "bin_start": 82.6,
            "count": 2
           },
           {
            "bin_end": 98.8,
            "bin_start": 90.69999999999999,
            "count": 6
           },
           {
            "bin_end": 106.89999999999999,
            "bin_start": 98.8,
            "count": 6
           },
           {
            "bin_end": 115,
            "bin_start": 106.89999999999999,
            "count": 5
           }
          ],
          "max": "115",
          "min": "34",
          "nan_count": 0,
          "unique_count": 22
         }
        },
        {
         "dtype": "int64",
         "name": "passes_attempted",
         "stats": {
          "histogram": [
           {
            "bin_end": 79.6,
            "bin_start": 67,
            "count": 1
           },
           {
            "bin_end": 92.2,
            "bin_start": 79.6,
            "count": 0
           },
           {
            "bin_end": 104.8,
            "bin_start": 92.2,
            "count": 1
           },
           {
            "bin_end": 117.4,
            "bin_start": 104.8,
            "count": 5
           },
           {
            "bin_end": 130,
            "bin_start": 117.4,
            "count": 4
           },
           {
            "bin_end": 142.6,
            "bin_start": 130,
            "count": 7
           },
           {
            "bin_end": 155.2,
            "bin_start": 142.6,
            "count": 7
           },
           {
            "bin_end": 167.8,
            "bin_start": 155.2,
            "count": 3
           },
           {
            "bin_end": 180.39999999999998,
            "bin_start": 167.8,
            "count": 3
           },
           {
            "bin_end": 193,
            "bin_start": 180.39999999999998,
            "count": 1
           }
          ],
          "max": "193",
          "min": "67",
          "nan_count": 0,
          "unique_count": 27
         }
        },
        {
         "dtype": "int64",
         "name": "passing_yards",
         "stats": {
          "histogram": [
           {
            "bin_end": 473.9,
            "bin_start": 390,
            "count": 1
           },
           {
            "bin_end": 557.8,
            "bin_start": 473.9,
            "count": 0
           },
           {
            "bin_end": 641.7,
            "bin_start": 557.8,
            "count": 1
           },
           {
            "bin_end": 725.6,
            "bin_start": 641.7,
            "count": 2
           },
           {
            "bin_end": 809.5,
            "bin_start": 725.6,
            "count": 4
           },
           {
            "bin_end": 893.4000000000001,
            "bin_start": 809.5,
            "count": 4
           },
           {
            "bin_end": 977.3000000000001,
            "bin_start": 893.4000000000001,
            "count": 7
           },
           {
            "bin_end": 1061.2,
            "bin_start": 977.3000000000001,
            "count": 6
           },
           {
            "bin_end": 1145.1,
            "bin_start": 1061.2,
            "count": 4
           },
           {
            "bin_end": 1229,
            "bin_start": 1145.1,
            "count": 3
           }
          ],
          "max": "1229",
          "min": "390",
          "nan_count": 0,
          "unique_count": 31
         }
        },
        {
         "dtype": "int64",
         "name": "passing_touchdowns",
         "stats": {
          "histogram": [
           {
            "bin_end": 2.9,
            "bin_start": 2,
            "count": 2
           },
           {
            "bin_end": 3.8,
            "bin_start": 2.9,
            "count": 4
           },
           {
            "bin_end": 4.7,
            "bin_start": 3.8,
            "count": 6
           },
           {
            "bin_end": 5.6,
            "bin_start": 4.7,
            "count": 5
           },
           {
            "bin_end": 6.5,
            "bin_start": 5.6,
            "count": 5
           },
           {
            "bin_end": 7.4,
            "bin_start": 6.5,
            "count": 1
           },
           {
            "bin_end": 8.3,
            "bin_start": 7.4,
            "count": 3
           },
           {
            "bin_end": 9.2,
            "bin_start": 8.3,
            "count": 2
           },
           {
            "bin_end": 10.1,
            "bin_start": 9.2,
            "count": 1
           },
           {
            "bin_end": 11,
            "bin_start": 10.1,
            "count": 3
           }
          ],
          "max": "11",
          "min": "2",
          "nan_count": 0,
          "unique_count": 10
         }
        },
        {
         "dtype": "int64",
         "name": "passing_interceptions",
         "stats": {
          "histogram": [
           {
            "bin_end": 1.5,
            "bin_start": 1,
            "count": 3
           },
           {
            "bin_end": 2,
            "bin_start": 1.5,
            "count": 0
           },
           {
            "bin_end": 2.5,
            "bin_start": 2,
            "count": 7
           },
           {
            "bin_end": 3,
            "bin_start": 2.5,
            "count": 0
           },
           {
            "bin_end": 3.5,
            "bin_start": 3,
            "count": 7
           },
           {
            "bin_end": 4,
            "bin_start": 3.5,
            "count": 0
           },
           {
            "bin_end": 4.5,
            "bin_start": 4,
            "count": 8
           },
           {
            "bin_end": 5,
            "bin_start": 4.5,
            "count": 0
           },
           {
            "bin_end": 5.5,
            "bin_start": 5,
            "count": 6
           },
           {
            "bin_end": 6,
            "bin_start": 5.5,
            "count": 1
           }
          ],
          "max": "6",
          "min": "1",
          "nan_count": 0,
          "unique_count": 6
         }
        },
        {
         "dtype": "float64",
         "name": "net_yards_per_pass_attempt",
         "stats": {
          "histogram": [
           {
            "bin_end": 4.96,
            "bin_start": 4.6,
            "count": 3
           },
           {
            "bin_end": 5.319999999999999,
            "bin_start": 4.96,
            "count": 3
           },
           {
            "bin_end": 5.68,
            "bin_start": 5.319999999999999,
            "count": 3
           },
           {
            "bin_end": 6.039999999999999,
            "bin_start": 5.68,
            "count": 5
           },
           {
            "bin_end": 6.3999999999999995,
            "bin_start": 6.039999999999999,
            "count": 3
           },
           {
            "bin_end": 6.76,
            "bin_start": 6.3999999999999995,
            "count": 7
           },
           {
            "bin_end": 7.119999999999999,
            "bin_start": 6.76,
            "count": 5
           },
           {
            "bin_end": 7.4799999999999995,
            "bin_start": 7.119999999999999,
            "count": 1
           },
           {
            "bin_end": 7.84,
            "bin_start": 7.4799999999999995,
            "count": 0
           },
           {
            "bin_end": 8.2,
            "bin_start": 7.84,
            "count": 2
           }
          ],
          "max": "8.2",
          "min": "4.6",
          "nan_count": 0,
          "unique_count": 21
         }
        },
        {
         "dtype": "int64",
         "name": "passing_1st_downs",
         "stats": {
          "histogram": [
           {
            "bin_end": 21.6,
            "bin_start": 17,
            "count": 1
           },
           {
            "bin_end": 26.2,
            "bin_start": 21.6,
            "count": 0
           },
           {
            "bin_end": 30.799999999999997,
            "bin_start": 26.2,
            "count": 2
           },
           {
            "bin_end": 35.4,
            "bin_start": 30.799999999999997,
            "count": 1
           },
           {
            "bin_end": 40,
            "bin_start": 35.4,
            "count": 5
           },
           {
            "bin_end": 44.599999999999994,
            "bin_start": 40,
            "count": 4
           },
           {
            "bin_end": 49.199999999999996,
            "bin_start": 44.599999999999994,
            "count": 4
           },
           {
            "bin_end": 53.8,
            "bin_start": 49.199999999999996,
            "count": 3
           },
           {
            "bin_end": 58.4,
            "bin_start": 53.8,
            "count": 8
           },
           {
            "bin_end": 63,
            "bin_start": 58.4,
            "count": 4
           }
          ],
          "max": "63",
          "min": "17",
          "nan_count": 0,
          "unique_count": 21
         }
        },
        {
         "dtype": "int64",
         "name": "rushing_attempts",
         "stats": {
          "histogram": [
           {
            "bin_end": 87.3,
            "bin_start": 80,
            "count": 6
           },
           {
            "bin_end": 94.6,
            "bin_start": 87.3,
            "count": 5
           },
           {
            "bin_end": 101.9,
            "bin_start": 94.6,
            "count": 4
           },
           {
            "bin_end": 109.2,
            "bin_start": 101.9,
            "count": 6
           },
           {
            "bin_end": 116.5,
            "bin_start": 109.2,
            "count": 4
           },
           {
            "bin_end": 123.8,
            "bin_start": 116.5,
            "count": 2
           },
           {
            "bin_end": 131.1,
            "bin_start": 123.8,
            "count": 1
           },
           {
            "bin_end": 138.4,
            "bin_start": 131.1,
            "count": 2
           },
           {
            "bin_end": 145.7,
            "bin_start": 138.4,
            "count": 0
           },
           {
            "bin_end": 153,
            "bin_start": 145.7,
            "count": 2
           }
          ],
          "max": "153",
          "min": "80",
          "nan_count": 0,
          "unique_count": 26
         }
        },
        {
         "dtype": "int64",
         "name": "rushing_yards",
         "stats": {
          "histogram": [
           {
            "bin_end": 309.2,
            "bin_start": 258,
            "count": 4
           },
           {
            "bin_end": 360.4,
            "bin_start": 309.2,
            "count": 3
           },
           {
            "bin_end": 411.6,
            "bin_start": 360.4,
            "count": 6
           },
           {
            "bin_end": 462.8,
            "bin_start": 411.6,
            "count": 8
           },
           {
            "bin_end": 514,
            "bin_start": 462.8,
            "count": 1
           },
           {
            "bin_end": 565.2,
            "bin_start": 514,
            "count": 2
           },
           {
            "bin_end": 616.4000000000001,
            "bin_start": 565.2,
            "count": 2
           },
           {
            "bin_end": 667.6,
            "bin_start": 616.4000000000001,
            "count": 2
           },
           {
            "bin_end": 718.8,
            "bin_start": 667.6,
            "count": 2
           },
           {
            "bin_end": 770,
            "bin_start": 718.8,
            "count": 2
           }
          ],
          "max": "770",
          "min": "258",
          "nan_count": 0,
          "unique_count": 32
         }
        },
        {
         "dtype": "int64",
         "name": "rushing_touchdowns",
         "stats": {
          "histogram": [
           {
            "bin_end": 1.9,
            "bin_start": 1,
            "count": 4
           },
           {
            "bin_end": 2.8,
            "bin_start": 1.9,
            "count": 9
           },
           {
            "bin_end": 3.7,
            "bin_start": 2.8,
            "count": 6
           },
           {
            "bin_end": 4.6,
            "bin_start": 3.7,
            "count": 8
           },
           {
            "bin_end": 5.5,
            "bin_start": 4.6,
            "count": 1
           },
           {
            "bin_end": 6.4,
            "bin_start": 5.5,
            "count": 1
           },
           {
            "bin_end": 7.3,
            "bin_start": 6.4,
            "count": 2
           },
           {
            "bin_end": 8.2,
            "bin_start": 7.3,
            "count": 0
           },
           {
            "bin_end": 9.1,
            "bin_start": 8.2,
            "count": 0
           },
           {
            "bin_end": 10,
            "bin_start": 9.1,
            "count": 1
           }
          ],
          "max": "10",
          "min": "1",
          "nan_count": 0,
          "unique_count": 8
         }
        },
        {
         "dtype": "float64",
         "name": "rushing_yards_per_attempt",
         "stats": {
          "histogram": [
           {
            "bin_end": 3.02,
            "bin_start": 2.7,
            "count": 1
           },
           {
            "bin_end": 3.3400000000000003,
            "bin_start": 3.02,
            "count": 3
           },
           {
            "bin_end": 3.66,
            "bin_start": 3.3400000000000003,
            "count": 2
           },
           {
            "bin_end": 3.9800000000000004,
            "bin_start": 3.66,
            "count": 1
           },
           {
            "bin_end": 4.300000000000001,
            "bin_start": 3.9800000000000004,
            "count": 8
           },
           {
            "bin_end": 4.62,
            "bin_start": 4.300000000000001,
            "count": 6
           },
           {
            "bin_end": 4.94,
            "bin_start": 4.62,
            "count": 1
           },
           {
            "bin_end": 5.26,
            "bin_start": 4.94,
            "count": 7
           },
           {
            "bin_end": 5.58,
            "bin_start": 5.26,
            "count": 1
           },
           {
            "bin_end": 5.9,
            "bin_start": 5.58,
            "count": 2
           }
          ],
          "max": "5.9",
          "min": "2.7",
          "nan_count": 0,
          "unique_count": 18
         }
        },
        {
         "dtype": "int64",
         "name": "rushing_1st_downs",
         "stats": {
          "histogram": [
           {
            "bin_end": 16.3,
            "bin_start": 13,
            "count": 3
           },
           {
            "bin_end": 19.6,
            "bin_start": 16.3,
            "count": 5
           },
           {
            "bin_end": 22.9,
            "bin_start": 19.6,
            "count": 5
           },
           {
            "bin_end": 26.2,
            "bin_start": 22.9,
            "count": 8
           },
           {
            "bin_end": 29.5,
            "bin_start": 26.2,
            "count": 2
           },
           {
            "bin_end": 32.8,
            "bin_start": 29.5,
            "count": 1
           },
           {
            "bin_end": 36.099999999999994,
            "bin_start": 32.8,
            "count": 5
           },
           {
            "bin_end": 39.4,
            "bin_start": 36.099999999999994,
            "count": 0
           },
           {
            "bin_end": 42.7,
            "bin_start": 39.4,
            "count": 1
           },
           {
            "bin_end": 46,
            "bin_start": 42.7,
            "count": 2
           }
          ],
          "max": "46",
          "min": "13",
          "nan_count": 0,
          "unique_count": 19
         }
        },
        {
         "dtype": "int64",
         "name": "penalties",
         "stats": {
          "histogram": [
           {
            "bin_end": 16.3,
            "bin_start": 14,
            "count": 3
           },
           {
            "bin_end": 18.6,
            "bin_start": 16.3,
            "count": 2
           },
           {
            "bin_end": 20.9,
            "bin_start": 18.6,
            "count": 2
           },
           {
            "bin_end": 23.2,
            "bin_start": 20.9,
            "count": 10
           },
           {
            "bin_end": 25.5,
            "bin_start": 23.2,
            "count": 5
           },
           {
            "bin_end": 27.799999999999997,
            "bin_start": 25.5,
            "count": 4
           },
           {
            "bin_end": 30.099999999999998,
            "bin_start": 27.799999999999997,
            "count": 2
           },
           {
            "bin_end": 32.4,
            "bin_start": 30.099999999999998,
            "count": 2
           },
           {
            "bin_end": 34.7,
            "bin_start": 32.4,
            "count": 1
           },
           {
            "bin_end": 37,
            "bin_start": 34.7,
            "count": 1
           }
          ],
          "max": "37",
          "min": "14",
          "nan_count": 0,
          "unique_count": 18
         }
        },
        {
         "dtype": "int64",
         "name": "penalty_yards",
         "stats": {
          "histogram": [
           {
            "bin_end": 117.4,
            "bin_start": 95,
            "count": 3
           },
           {
            "bin_end": 139.8,
            "bin_start": 117.4,
            "count": 2
           },
           {
            "bin_end": 162.2,
            "bin_start": 139.8,
            "count": 7
           },
           {
            "bin_end": 184.6,
            "bin_start": 162.2,
            "count": 4
           },
           {
            "bin_end": 207,
            "bin_start": 184.6,
            "count": 5
           },
           {
            "bin_end": 229.39999999999998,
            "bin_start": 207,
            "count": 3
           },
           {
            "bin_end": 251.79999999999998,
            "bin_start": 229.39999999999998,
            "count": 1
           },
           {
            "bin_end": 274.2,
            "bin_start": 251.79999999999998,
            "count": 3
           },
           {
            "bin_end": 296.6,
            "bin_start": 274.2,
            "count": 2
           },
           {
            "bin_end": 319,
            "bin_start": 296.6,
            "count": 2
           }
          ],
          "max": "319",
          "min": "95",
          "nan_count": 0,
          "unique_count": 30
         }
        },
        {
         "dtype": "int64",
         "name": "1st_down_penalties",
         "stats": {
          "histogram": [
           {
            "bin_end": 3.9,
            "bin_start": 3,
            "count": 1
           },
           {
            "bin_end": 4.8,
            "bin_start": 3.9,
            "count": 1
           },
           {
            "bin_end": 5.7,
            "bin_start": 4.8,
            "count": 5
           },
           {
            "bin_end": 6.6,
            "bin_start": 5.7,
            "count": 2
           },
           {
            "bin_end": 7.5,
            "bin_start": 6.6,
            "count": 7
           },
           {
            "bin_end": 8.4,
            "bin_start": 7.5,
            "count": 5
           },
           {
            "bin_end": 9.3,
            "bin_start": 8.4,
            "count": 6
           },
           {
            "bin_end": 10.2,
            "bin_start": 9.3,
            "count": 1
           },
           {
            "bin_end": 11.1,
            "bin_start": 10.2,
            "count": 3
           },
           {
            "bin_end": 12,
            "bin_start": 11.1,
            "count": 1
           }
          ],
          "max": "12",
          "min": "3",
          "nan_count": 0,
          "unique_count": 10
         }
        },
        {
         "dtype": "float64",
         "name": "percentage_scoring_drives",
         "stats": {
          "histogram": [
           {
            "bin_end": 24.44,
            "bin_start": 21.6,
            "count": 1
           },
           {
            "bin_end": 27.28,
            "bin_start": 24.44,
            "count": 2
           },
           {
            "bin_end": 30.12,
            "bin_start": 27.28,
            "count": 3
           },
           {
            "bin_end": 32.96,
            "bin_start": 30.12,
            "count": 7
           },
           {
            "bin_end": 35.8,
            "bin_start": 32.96,
            "count": 3
           },
           {
            "bin_end": 38.64,
            "bin_start": 35.8,
            "count": 5
           },
           {
            "bin_end": 41.480000000000004,
            "bin_start": 38.64,
            "count": 2
           },
           {
            "bin_end": 44.32,
            "bin_start": 41.480000000000004,
            "count": 4
           },
           {
            "bin_end": 47.16,
            "bin_start": 44.32,
            "count": 2
           },
           {
            "bin_end": 50,
            "bin_start": 47.16,
            "count": 3
           }
          ],
          "max": "50.0",
          "min": "21.6",
          "nan_count": 0,
          "unique_count": 29
         }
        },
        {
         "dtype": "float64",
         "name": "percentage_turnover_drives",
         "stats": {
          "histogram": [
           {
            "bin_end": 6.2700000000000005,
            "bin_start": 4.4,
            "count": 3
           },
           {
            "bin_end": 8.14,
            "bin_start": 6.2700000000000005,
            "count": 3
           },
           {
            "bin_end": 10.010000000000002,
            "bin_start": 8.14,
            "count": 4
           },
           {
            "bin_end": 11.880000000000003,
            "bin_start": 10.010000000000002,
            "count": 8
           },
           {
            "bin_end": 13.750000000000002,
            "bin_start": 11.880000000000003,
            "count": 6
           },
           {
            "bin_end": 15.620000000000003,
            "bin_start": 13.750000000000002,
            "count": 1
           },
           {
            "bin_end": 17.490000000000002,
            "bin_start": 15.620000000000003,
            "count": 0
           },
           {
            "bin_end": 19.360000000000003,
            "bin_start": 17.490000000000002,
            "count": 2
           },
           {
            "bin_end": 21.230000000000004,
            "bin_start": 19.360000000000003,
            "count": 3
           },
           {
            "bin_end": 23.1,
            "bin_start": 21.230000000000004,
            "count": 2
           }
          ],
          "max": "23.1",
          "min": "4.4",
          "nan_count": 0,
          "unique_count": 27
         }
        },
        {
         "dtype": "float64",
         "name": "expected_points",
         "stats": {
          "histogram": [
           {
            "bin_end": -16.949,
            "bin_start": -25.26,
            "count": 2
           },
           {
            "bin_end": -8.638000000000002,
            "bin_start": -16.949,
            "count": 5
           },
           {
            "bin_end": -0.32700000000000173,
            "bin_start": -8.638000000000002,
            "count": 6
           },
           {
            "bin_end": 7.983999999999998,
            "bin_start": -0.32700000000000173,
            "count": 4
           },
           {
            "bin_end": 16.294999999999998,
            "bin_start": 7.983999999999998,
            "count": 2
           },
           {
            "bin_end": 24.605999999999998,
            "bin_start": 16.294999999999998,
            "count": 4
           },
           {
            "bin_end": 32.917,
            "bin_start": 24.605999999999998,
            "count": 1
           },
           {
            "bin_end": 41.227999999999994,
            "bin_start": 32.917,
            "count": 2
           },
           {
            "bin_end": 49.539,
            "bin_start": 41.227999999999994,
            "count": 3
           },
           {
            "bin_end": 57.85,
            "bin_start": 49.539,
            "count": 3
           }
          ],
          "max": "57.85",
          "min": "-25.26",
          "nan_count": 0,
          "unique_count": 32
         }
        },
        {
         "dtype": "int64",
         "name": "touchdowns",
         "stats": {
          "histogram": [
           {
            "bin_end": 7.2,
            "bin_start": 6,
            "count": 11
           },
           {
            "bin_end": 8.4,
            "bin_start": 7.2,
            "count": 3
           },
           {
            "bin_end": 9.6,
            "bin_start": 8.4,
            "count": 8
           },
           {
            "bin_end": 10.8,
            "bin_start": 9.6,
            "count": 1
           },
           {
            "bin_end": 12,
            "bin_start": 10.8,
            "count": 4
           },
           {
            "bin_end": 13.2,
            "bin_start": 12,
            "count": 1
           },
           {
            "bin_end": 14.4,
            "bin_start": 13.2,
            "count": 2
           },
           {
            "bin_end": 15.6,
            "bin_start": 14.4,
            "count": 1
           },
           {
            "bin_end": 16.799999999999997,
            "bin_start": 15.6,
            "count": 0
           },
           {
            "bin_end": 18,
            "bin_start": 16.799999999999997,
            "count": 1
           }
          ],
          "max": "18",
          "min": "6",
          "nan_count": 0,
          "unique_count": 10
         }
        },
        {
         "dtype": "int64",
         "name": "_deepnote_index_column"
        }
       ],
       "row_count": 32,
       "rows": [
        {
         "1st_down_penalties": "7",
         "1st_downs": "90",
         "_deepnote_index_column": "0",
         "expected_points": "53.17",
         "fumbles_lost": "1",
         "games": "4",
         "net_yards_per_pass_attempt": "6.9",
         "offensive_plays": "269",
         "passes_attempted": "152",
         "passes_completed": "93",
         "passing_1st_downs": "57",
         "passing_interceptions": "3",
         "passing_touchdowns": "11",
         "passing_yards": "1091",
         "penalties": "23",
         "penalty_yards": "188",
         "percentage_scoring_drives": "45.8",
         "percentage_turnover_drives": "8.3",
         "points_scored": "140",
         "rank": "1",
         "rushing_1st_downs": "26",
         "rushing_attempts": "112",
         "rushing_touchdowns": "7",
         "rushing_yards": "656",
         "rushing_yards_per_attempt": "5.9",
         "team": "Detroit Lions",
         "total_yards": "1747",
         "touchdowns": "18",
         "turnovers_lost": "4",
         "yards_per_play": "6.5"
        },
        {
         "1st_down_penalties": "10",
         "1st_downs": "95",
         "_deepnote_index_column": "1",
         "expected_points": "57.85",
         "fumbles_lost": "2",
         "games": "4",
         "net_yards_per_pass_attempt": "7.0",
         "offensive_plays": "257",
         "passes_attempted": "147",
         "passes_completed": "97",
         "passing_1st_downs": "62",
         "passing_interceptions": "2",
         "passing_touchdowns": "11",
         "passing_yards": "1071",
         "penalties": "19",
         "penalty_yards": "156",
         "percentage_scoring_drives": "50.0",
         "percentage_turnover_drives": "7.1",
         "points_scored": "129",
         "rank": "2",
         "rushing_1st_downs": "23",
         "rushing_attempts": "105",
         "rushing_touchdowns": "4",
         "rushing_yards": "468",
         "rushing_yards_per_attempt": "4.5",
         "team": "Kansas City Chiefs",
         "total_yards": "1539",
         "touchdowns": "15",
         "turnovers_lost": "4",
         "yards_per_play": "6.0"
        },
        {
         "1st_down_penalties": "7",
         "1st_downs": "77",
         "_deepnote_index_column": "2",
         "expected_points": "32.97",
         "fumbles_lost": "1",
         "games": "4",
         "net_yards_per_pass_attempt": "7.0",
         "offensive_plays": "230",
         "passes_attempted": "117",
         "passes_completed": "76",
         "passing_1st_downs": "39",
         "passing_interceptions": "4",
         "passing_touchdowns": "11",
         "passing_yards": "869",
         "penalties": "17",
         "penalty_yards": "114",
         "percentage_scoring_drives": "42.2",
         "percentage_turnover_drives": "11.1",
         "points_scored": "119",
         "rank": "3",
         "rushing_1st_downs": "31",
         "rushing_attempts": "105",
         "rushing_touchdowns": "3",
         "rushing_yards": "568",
         "rushing_yards_per_attempt": "5.4",
         "team": "Baltimore Ravens",
         "total_yards": "1437",
         "touchdowns": "14",
         "turnovers_lost": "5",
         "yards_per_play": "6.2"
        },
        {
         "1st_down_penalties": "9",
         "1st_downs": "98",
         "_deepnote_index_column": "3",
         "expected_points": "44.88",
         "fumbles_lost": "0",
         "games": "4",
         "net_yards_per_pass_attempt": "8.2",
         "offensive_plays": "285",
         "passes_attempted": "123",
         "passes_completed": "82",
         "passing_1st_downs": "49",
         "passing_interceptions": "2",
         "passing_touchdowns": "4",
         "passing_yards": "1081",
         "penalties": "26",
         "penalty_yards": "193",
         "percentage_scoring_drives": "40.0",
         "percentage_turnover_drives": "4.4",
         "points_scored": "115",
         "rank": "4",
         "rushing_1st_downs": "40",
         "rushing_attempts": "153",
         "rushing_touchdowns": "10",
         "rushing_yards": "661",
         "rushing_yards_per_attempt": "4.3",
         "team": "Philadelphia Eagles",
         "total_yards": "1742",
         "touchdowns": "14",
         "turnovers_lost": "2",
         "yards_per_play": "6.1"
        },
        {
         "1st_down_penalties": "7",
         "1st_downs": "99",
         "_deepnote_index_column": "4",
         "expected_points": "49.56",
         "fumbles_lost": "4",
         "games": "4",
         "net_yards_per_pass_attempt": "6.7",
         "offensive_plays": "275",
         "passes_attempted": "170",
         "passes_completed": "113",
         "passing_1st_downs": "63",
         "passing_interceptions": "3",
         "passing_touchdowns": "10",
         "passing_yards": "1188",
         "penalties": "24",
         "penalty_yards": "167",
         "percentage_scoring_drives": "47.5",
         "percentage_turnover_drives": "17.5",
         "points_scored": "114",
         "rank": "5",
         "rushing_1st_downs": "29",
         "rushing_attempts": "97",
         "rushing_touchdowns": "2",
         "rushing_yards": "462",
         "rushing_yards_per_attempt": "4.8",
         "team": "Buffalo Bills",
         "total_yards": "1650",
         "touchdowns": "12",
         "turnovers_lost": "7",
         "yards_per_play": "6.0"
        },
        {
         "1st_down_penalties": "7",
         "1st_downs": "96",
         "_deepnote_index_column": "5",
         "expected_points": "40.78",
         "fumbles_lost": "1",
         "games": "4",
         "net_yards_per_pass_attempt": "6.0",
         "offensive_plays": "281",
         "passes_attempted": "127",
         "passes_completed": "82",
         "passing_1st_downs": "43",
         "passing_interceptions": "2",
         "passing_touchdowns": "4",
         "passing_yards": "790",
         "penalties": "26",
         "penalty_yards": "184",
         "percentage_scoring_drives": "46.3",
         "percentage_turnover_drives": "7.3",
         "points_scored": "105",
         "rank": "6",
         "rushing_1st_downs": "46",
         "rushing_attempts": "149",
         "rushing_touchdowns": "7",
         "rushing_yards": "749",
         "rushing_yards_per_attempt": "5.0",
         "team": "Cleveland Browns",
         "total_yards": "1539",
         "touchdowns": "11",
         "turnovers_lost": "3",
         "yards_per_play": "5.5"
        },
        {
         "1st_down_penalties": "8",
         "1st_downs": "83",
         "_deepnote_index_column": "6",
         "expected_points": "17.69",
         "fumbles_lost": "4",
         "games": "4",
         "net_yards_per_pass_attempt": "6.5",
         "offensive_plays": "250",
         "passes_attempted": "134",
         "passes_completed": "88",
         "passing_1st_downs": "52",
         "passing_interceptions": "2",
         "passing_touchdowns": "8",
         "passing_yards": "905",
         "penalties": "22",
         "penalty_yards": "157",
         "percentage_scoring_drives": "40.9",
         "percentage_turnover_drives": "13.6",
         "points_scored": "105",
         "rank": "7",
         "rushing_1st_downs": "23",
         "rushing_attempts": "110",
         "rushing_touchdowns": "3",
         "rushing_yards": "441",
         "rushing_yards_per_attempt": "4.0",
         "team": "Jacksonville Jaguars",
         "total_yards": "1346",
         "touchdowns": "11",
         "turnovers_lost": "6",
         "yards_per_play": "5.4"
        },
        {
         "1st_down_penalties": "12",
         "1st_downs": "86",
         "_deepnote_index_column": "7",
         "expected_points": "30.77",
         "fumbles_lost": "4",
         "games": "4",
         "net_yards_per_pass_attempt": "6.9",
         "offensive_plays": "236",
         "passes_attempted": "98",
         "passes_completed": "57",
         "passing_1st_downs": "38",
         "passing_interceptions": "4",
         "passing_touchdowns": "3",
         "passing_yards": "724",
         "penalties": "16",
         "penalty_yards": "114",
         "percentage_scoring_drives": "44.2",
         "percentage_turnover_drives": "18.6",
         "points_scored": "103",
         "rank": "8",
         "rushing_1st_downs": "36",
         "rushing_attempts": "131",
         "rushing_touchdowns": "6",
         "rushing_yards": "672",
         "rushing_yards_per_attempt": "5.1",
         "team": "Atlanta Falcons",
         "total_yards": "1396",
         "touchdowns": "9",
         "turnovers_lost": "8",
         "yards_per_play": "5.9"
        },
        {
         "1st_down_penalties": "9",
         "1st_downs": "80",
         "_deepnote_index_column": "8",
         "expected_points": "46.01",
         "fumbles_lost": "0",
         "games": "4",
         "net_yards_per_pass_attempt": "7.9",
         "offensive_plays": "227",
         "passes_attempted": "140",
         "passes_completed": "94",
         "passing_1st_downs": "56",
         "passing_interceptions": "4",
         "passing_touchdowns": "9",
         "passing_yards": "1167",
         "penalties": "22",
         "penalty_yards": "132",
         "percentage_scoring_drives": "42.1",
         "percentage_turnover_drives": "10.5",
         "points_scored": "98",
         "rank": "9",
         "rushing_1st_downs": "15",
         "rushing_attempts": "80",
         "rushing_touchdowns": "2",
         "rushing_yards": "277",
         "rushing_yards_per_attempt": "3.5",
         "team": "Miami Dolphins",
         "total_yards": "1444",
         "touchdowns": "11",
         "turnovers_lost": "4",
         "yards_per_play": "6.4"
        },
        {
         "1st_down_penalties": "5",
         "1st_downs": "87",
         "_deepnote_index_column": "9",
         "expected_points": "23.26",
         "fumbles_lost": "1",
         "games": "4",
         "net_yards_per_pass_attempt": "5.9",
         "offensive_plays": "256",
         "passes_attempted": "155",
         "passes_completed": "95",
         "passing_1st_downs": "56",
         "passing_interceptions": "4",
         "passing_touchdowns": "6",
         "passing_yards": "973",
         "penalties": "23",
         "penalty_yards": "148",
         "percentage_scoring_drives": "50.0",
         "percentage_turnover_drives": "12.5",
         "points_scored": "96",
         "rank": "10",
         "rushing_1st_downs": "26",
         "rushing_attempts": "91",
         "rushing_touchdowns": "2",
         "rushing_yards": "452",
         "rushing_yards_per_attempt": "5.0",
         "team": "Las Vegas Raiders",
         "total_yards": "1425",
         "touchdowns": "8",
         "turnovers_lost": "5",
         "yards_per_play": "5.6"
        }
       ]
      },
      "text/html": [
       "<div>\n",
       "<style scoped>\n",
       "    .dataframe tbody tr th:only-of-type {\n",
       "        vertical-align: middle;\n",
       "    }\n",
       "\n",
       "    .dataframe tbody tr th {\n",
       "        vertical-align: top;\n",
       "    }\n",
       "\n",
       "    .dataframe thead th {\n",
       "        text-align: right;\n",
       "    }\n",
       "</style>\n",
       "<table border=\"1\" class=\"dataframe\">\n",
       "  <thead>\n",
       "    <tr style=\"text-align: right;\">\n",
       "      <th></th>\n",
       "      <th>rank</th>\n",
       "      <th>team</th>\n",
       "      <th>games</th>\n",
       "      <th>points_scored</th>\n",
       "      <th>total_yards</th>\n",
       "      <th>offensive_plays</th>\n",
       "      <th>yards_per_play</th>\n",
       "      <th>turnovers_lost</th>\n",
       "      <th>fumbles_lost</th>\n",
       "      <th>1st_downs</th>\n",
       "      <th>...</th>\n",
       "      <th>rushing_touchdowns</th>\n",
       "      <th>rushing_yards_per_attempt</th>\n",
       "      <th>rushing_1st_downs</th>\n",
       "      <th>penalties</th>\n",
       "      <th>penalty_yards</th>\n",
       "      <th>1st_down_penalties</th>\n",
       "      <th>percentage_scoring_drives</th>\n",
       "      <th>percentage_turnover_drives</th>\n",
       "      <th>expected_points</th>\n",
       "      <th>touchdowns</th>\n",
       "    </tr>\n",
       "  </thead>\n",
       "  <tbody>\n",
       "    <tr>\n",
       "      <th>0</th>\n",
       "      <td>1</td>\n",
       "      <td>Detroit Lions</td>\n",
       "      <td>4</td>\n",
       "      <td>140</td>\n",
       "      <td>1747</td>\n",
       "      <td>269</td>\n",
       "      <td>6.5</td>\n",
       "      <td>4</td>\n",
       "      <td>1</td>\n",
       "      <td>90</td>\n",
       "      <td>...</td>\n",
       "      <td>7</td>\n",
       "      <td>5.9</td>\n",
       "      <td>26</td>\n",
       "      <td>23</td>\n",
       "      <td>188</td>\n",
       "      <td>7</td>\n",
       "      <td>45.8</td>\n",
       "      <td>8.3</td>\n",
       "      <td>53.17</td>\n",
       "      <td>18</td>\n",
       "    </tr>\n",
       "    <tr>\n",
       "      <th>1</th>\n",
       "      <td>2</td>\n",
       "      <td>Kansas City Chiefs</td>\n",
       "      <td>4</td>\n",
       "      <td>129</td>\n",
       "      <td>1539</td>\n",
       "      <td>257</td>\n",
       "      <td>6.0</td>\n",
       "      <td>4</td>\n",
       "      <td>2</td>\n",
       "      <td>95</td>\n",
       "      <td>...</td>\n",
       "      <td>4</td>\n",
       "      <td>4.5</td>\n",
       "      <td>23</td>\n",
       "      <td>19</td>\n",
       "      <td>156</td>\n",
       "      <td>10</td>\n",
       "      <td>50.0</td>\n",
       "      <td>7.1</td>\n",
       "      <td>57.85</td>\n",
       "      <td>15</td>\n",
       "    </tr>\n",
       "    <tr>\n",
       "      <th>2</th>\n",
       "      <td>3</td>\n",
       "      <td>Baltimore Ravens</td>\n",
       "      <td>4</td>\n",
       "      <td>119</td>\n",
       "      <td>1437</td>\n",
       "      <td>230</td>\n",
       "      <td>6.2</td>\n",
       "      <td>5</td>\n",
       "      <td>1</td>\n",
       "      <td>77</td>\n",
       "      <td>...</td>\n",
       "      <td>3</td>\n",
       "      <td>5.4</td>\n",
       "      <td>31</td>\n",
       "      <td>17</td>\n",
       "      <td>114</td>\n",
       "      <td>7</td>\n",
       "      <td>42.2</td>\n",
       "      <td>11.1</td>\n",
       "      <td>32.97</td>\n",
       "      <td>14</td>\n",
       "    </tr>\n",
       "    <tr>\n",
       "      <th>3</th>\n",
       "      <td>4</td>\n",
       "      <td>Philadelphia Eagles</td>\n",
       "      <td>4</td>\n",
       "      <td>115</td>\n",
       "      <td>1742</td>\n",
       "      <td>285</td>\n",
       "      <td>6.1</td>\n",
       "      <td>2</td>\n",
       "      <td>0</td>\n",
       "      <td>98</td>\n",
       "      <td>...</td>\n",
       "      <td>10</td>\n",
       "      <td>4.3</td>\n",
       "      <td>40</td>\n",
       "      <td>26</td>\n",
       "      <td>193</td>\n",
       "      <td>9</td>\n",
       "      <td>40.0</td>\n",
       "      <td>4.4</td>\n",
       "      <td>44.88</td>\n",
       "      <td>14</td>\n",
       "    </tr>\n",
       "    <tr>\n",
       "      <th>4</th>\n",
       "      <td>5</td>\n",
       "      <td>Buffalo Bills</td>\n",
       "      <td>4</td>\n",
       "      <td>114</td>\n",
       "      <td>1650</td>\n",
       "      <td>275</td>\n",
       "      <td>6.0</td>\n",
       "      <td>7</td>\n",
       "      <td>4</td>\n",
       "      <td>99</td>\n",
       "      <td>...</td>\n",
       "      <td>2</td>\n",
       "      <td>4.8</td>\n",
       "      <td>29</td>\n",
       "      <td>24</td>\n",
       "      <td>167</td>\n",
       "      <td>7</td>\n",
       "      <td>47.5</td>\n",
       "      <td>17.5</td>\n",
       "      <td>49.56</td>\n",
       "      <td>12</td>\n",
       "    </tr>\n",
       "    <tr>\n",
       "      <th>5</th>\n",
       "      <td>6</td>\n",
       "      <td>Cleveland Browns</td>\n",
       "      <td>4</td>\n",
       "      <td>105</td>\n",
       "      <td>1539</td>\n",
       "      <td>281</td>\n",
       "      <td>5.5</td>\n",
       "      <td>3</td>\n",
       "      <td>1</td>\n",
       "      <td>96</td>\n",
       "      <td>...</td>\n",
       "      <td>7</td>\n",
       "      <td>5.0</td>\n",
       "      <td>46</td>\n",
       "      <td>26</td>\n",
       "      <td>184</td>\n",
       "      <td>7</td>\n",
       "      <td>46.3</td>\n",
       "      <td>7.3</td>\n",
       "      <td>40.78</td>\n",
       "      <td>11</td>\n",
       "    </tr>\n",
       "    <tr>\n",
       "      <th>6</th>\n",
       "      <td>7</td>\n",
       "      <td>Jacksonville Jaguars</td>\n",
       "      <td>4</td>\n",
       "      <td>105</td>\n",
       "      <td>1346</td>\n",
       "      <td>250</td>\n",
       "      <td>5.4</td>\n",
       "      <td>6</td>\n",
       "      <td>4</td>\n",
       "      <td>83</td>\n",
       "      <td>...</td>\n",
       "      <td>3</td>\n",
       "      <td>4.0</td>\n",
       "      <td>23</td>\n",
       "      <td>22</td>\n",
       "      <td>157</td>\n",
       "      <td>8</td>\n",
       "      <td>40.9</td>\n",
       "      <td>13.6</td>\n",
       "      <td>17.69</td>\n",
       "      <td>11</td>\n",
       "    </tr>\n",
       "    <tr>\n",
       "      <th>7</th>\n",
       "      <td>8</td>\n",
       "      <td>Atlanta Falcons</td>\n",
       "      <td>4</td>\n",
       "      <td>103</td>\n",
       "      <td>1396</td>\n",
       "      <td>236</td>\n",
       "      <td>5.9</td>\n",
       "      <td>8</td>\n",
       "      <td>4</td>\n",
       "      <td>86</td>\n",
       "      <td>...</td>\n",
       "      <td>6</td>\n",
       "      <td>5.1</td>\n",
       "      <td>36</td>\n",
       "      <td>16</td>\n",
       "      <td>114</td>\n",
       "      <td>12</td>\n",
       "      <td>44.2</td>\n",
       "      <td>18.6</td>\n",
       "      <td>30.77</td>\n",
       "      <td>9</td>\n",
       "    </tr>\n",
       "    <tr>\n",
       "      <th>8</th>\n",
       "      <td>9</td>\n",
       "      <td>Miami Dolphins</td>\n",
       "      <td>4</td>\n",
       "      <td>98</td>\n",
       "      <td>1444</td>\n",
       "      <td>227</td>\n",
       "      <td>6.4</td>\n",
       "      <td>4</td>\n",
       "      <td>0</td>\n",
       "      <td>80</td>\n",
       "      <td>...</td>\n",
       "      <td>2</td>\n",
       "      <td>3.5</td>\n",
       "      <td>15</td>\n",
       "      <td>22</td>\n",
       "      <td>132</td>\n",
       "      <td>9</td>\n",
       "      <td>42.1</td>\n",
       "      <td>10.5</td>\n",
       "      <td>46.01</td>\n",
       "      <td>11</td>\n",
       "    </tr>\n",
       "    <tr>\n",
       "      <th>9</th>\n",
       "      <td>10</td>\n",
       "      <td>Las Vegas Raiders</td>\n",
       "      <td>4</td>\n",
       "      <td>96</td>\n",
       "      <td>1425</td>\n",
       "      <td>256</td>\n",
       "      <td>5.6</td>\n",
       "      <td>5</td>\n",
       "      <td>1</td>\n",
       "      <td>87</td>\n",
       "      <td>...</td>\n",
       "      <td>2</td>\n",
       "      <td>5.0</td>\n",
       "      <td>26</td>\n",
       "      <td>23</td>\n",
       "      <td>148</td>\n",
       "      <td>5</td>\n",
       "      <td>50.0</td>\n",
       "      <td>12.5</td>\n",
       "      <td>23.26</td>\n",
       "      <td>8</td>\n",
       "    </tr>\n",
       "    <tr>\n",
       "      <th>10</th>\n",
       "      <td>11</td>\n",
       "      <td>Seattle Seahawks</td>\n",
       "      <td>4</td>\n",
       "      <td>95</td>\n",
       "      <td>1444</td>\n",
       "      <td>228</td>\n",
       "      <td>6.3</td>\n",
       "      <td>6</td>\n",
       "      <td>3</td>\n",
       "      <td>83</td>\n",
       "      <td>...</td>\n",
       "      <td>3</td>\n",
       "      <td>5.2</td>\n",
       "      <td>26</td>\n",
       "      <td>32</td>\n",
       "      <td>306</td>\n",
       "      <td>9</td>\n",
       "      <td>44.1</td>\n",
       "      <td>11.8</td>\n",
       "      <td>42.94</td>\n",
       "      <td>9</td>\n",
       "    </tr>\n",
       "    <tr>\n",
       "      <th>11</th>\n",
       "      <td>12</td>\n",
       "      <td>Los Angeles Chargers</td>\n",
       "      <td>4</td>\n",
       "      <td>92</td>\n",
       "      <td>1487</td>\n",
       "      <td>264</td>\n",
       "      <td>5.6</td>\n",
       "      <td>4</td>\n",
       "      <td>2</td>\n",
       "      <td>77</td>\n",
       "      <td>...</td>\n",
       "      <td>2</td>\n",
       "      <td>2.7</td>\n",
       "      <td>17</td>\n",
       "      <td>21</td>\n",
       "      <td>161</td>\n",
       "      <td>5</td>\n",
       "      <td>36.4</td>\n",
       "      <td>6.8</td>\n",
       "      <td>17.02</td>\n",
       "      <td>11</td>\n",
       "    </tr>\n",
       "    <tr>\n",
       "      <th>12</th>\n",
       "      <td>13</td>\n",
       "      <td>Cincinnati Bengals</td>\n",
       "      <td>4</td>\n",
       "      <td>91</td>\n",
       "      <td>1387</td>\n",
       "      <td>290</td>\n",
       "      <td>4.8</td>\n",
       "      <td>6</td>\n",
       "      <td>2</td>\n",
       "      <td>87</td>\n",
       "      <td>...</td>\n",
       "      <td>1</td>\n",
       "      <td>3.1</td>\n",
       "      <td>18</td>\n",
       "      <td>22</td>\n",
       "      <td>166</td>\n",
       "      <td>11</td>\n",
       "      <td>37.5</td>\n",
       "      <td>12.5</td>\n",
       "      <td>6.37</td>\n",
       "      <td>9</td>\n",
       "    </tr>\n",
       "    <tr>\n",
       "      <th>13</th>\n",
       "      <td>14</td>\n",
       "      <td>Arizona Cardinals</td>\n",
       "      <td>4</td>\n",
       "      <td>88</td>\n",
       "      <td>1398</td>\n",
       "      <td>292</td>\n",
       "      <td>4.8</td>\n",
       "      <td>2</td>\n",
       "      <td>0</td>\n",
       "      <td>89</td>\n",
       "      <td>...</td>\n",
       "      <td>4</td>\n",
       "      <td>4.1</td>\n",
       "      <td>33</td>\n",
       "      <td>30</td>\n",
       "      <td>280</td>\n",
       "      <td>6</td>\n",
       "      <td>36.6</td>\n",
       "      <td>4.9</td>\n",
       "      <td>8.95</td>\n",
       "      <td>9</td>\n",
       "    </tr>\n",
       "    <tr>\n",
       "      <th>14</th>\n",
       "      <td>15</td>\n",
       "      <td>Minnesota Vikings</td>\n",
       "      <td>4</td>\n",
       "      <td>86</td>\n",
       "      <td>1376</td>\n",
       "      <td>254</td>\n",
       "      <td>5.4</td>\n",
       "      <td>5</td>\n",
       "      <td>1</td>\n",
       "      <td>92</td>\n",
       "      <td>...</td>\n",
       "      <td>3</td>\n",
       "      <td>4.4</td>\n",
       "      <td>22</td>\n",
       "      <td>16</td>\n",
       "      <td>95</td>\n",
       "      <td>11</td>\n",
       "      <td>38.6</td>\n",
       "      <td>11.4</td>\n",
       "      <td>20.12</td>\n",
       "      <td>9</td>\n",
       "    </tr>\n",
       "    <tr>\n",
       "      <th>15</th>\n",
       "      <td>16</td>\n",
       "      <td>Tampa Bay Buccaneers</td>\n",
       "      <td>4</td>\n",
       "      <td>82</td>\n",
       "      <td>1268</td>\n",
       "      <td>245</td>\n",
       "      <td>5.2</td>\n",
       "      <td>6</td>\n",
       "      <td>5</td>\n",
       "      <td>77</td>\n",
       "      <td>...</td>\n",
       "      <td>1</td>\n",
       "      <td>3.1</td>\n",
       "      <td>13</td>\n",
       "      <td>24</td>\n",
       "      <td>206</td>\n",
       "      <td>9</td>\n",
       "      <td>34.8</td>\n",
       "      <td>10.9</td>\n",
       "      <td>-3.64</td>\n",
       "      <td>7</td>\n",
       "    </tr>\n",
       "    <tr>\n",
       "      <th>16</th>\n",
       "      <td>17</td>\n",
       "      <td>Carolina Panthers</td>\n",
       "      <td>4</td>\n",
       "      <td>78</td>\n",
       "      <td>1049</td>\n",
       "      <td>214</td>\n",
       "      <td>4.9</td>\n",
       "      <td>6</td>\n",
       "      <td>3</td>\n",
       "      <td>56</td>\n",
       "      <td>...</td>\n",
       "      <td>2</td>\n",
       "      <td>4.5</td>\n",
       "      <td>22</td>\n",
       "      <td>23</td>\n",
       "      <td>250</td>\n",
       "      <td>7</td>\n",
       "      <td>31.1</td>\n",
       "      <td>11.1</td>\n",
       "      <td>-25.26</td>\n",
       "      <td>6</td>\n",
       "    </tr>\n",
       "    <tr>\n",
       "      <th>17</th>\n",
       "      <td>18</td>\n",
       "      <td>New Orleans Saints</td>\n",
       "      <td>4</td>\n",
       "      <td>76</td>\n",
       "      <td>1457</td>\n",
       "      <td>244</td>\n",
       "      <td>6.0</td>\n",
       "      <td>11</td>\n",
       "      <td>6</td>\n",
       "      <td>74</td>\n",
       "      <td>...</td>\n",
       "      <td>4</td>\n",
       "      <td>5.1</td>\n",
       "      <td>23</td>\n",
       "      <td>34</td>\n",
       "      <td>319</td>\n",
       "      <td>5</td>\n",
       "      <td>27.1</td>\n",
       "      <td>20.8</td>\n",
       "      <td>-11.00</td>\n",
       "      <td>9</td>\n",
       "    </tr>\n",
       "    <tr>\n",
       "      <th>18</th>\n",
       "      <td>19</td>\n",
       "      <td>New York Giants</td>\n",
       "      <td>4</td>\n",
       "      <td>76</td>\n",
       "      <td>1328</td>\n",
       "      <td>256</td>\n",
       "      <td>5.2</td>\n",
       "      <td>5</td>\n",
       "      <td>2</td>\n",
       "      <td>80</td>\n",
       "      <td>...</td>\n",
       "      <td>4</td>\n",
       "      <td>5.7</td>\n",
       "      <td>43</td>\n",
       "      <td>31</td>\n",
       "      <td>219</td>\n",
       "      <td>9</td>\n",
       "      <td>35.6</td>\n",
       "      <td>8.9</td>\n",
       "      <td>6.34</td>\n",
       "      <td>7</td>\n",
       "    </tr>\n",
       "    <tr>\n",
       "      <th>19</th>\n",
       "      <td>20</td>\n",
       "      <td>New York Jets</td>\n",
       "      <td>4</td>\n",
       "      <td>76</td>\n",
       "      <td>1458</td>\n",
       "      <td>289</td>\n",
       "      <td>5.0</td>\n",
       "      <td>9</td>\n",
       "      <td>4</td>\n",
       "      <td>82</td>\n",
       "      <td>...</td>\n",
       "      <td>1</td>\n",
       "      <td>4.1</td>\n",
       "      <td>15</td>\n",
       "      <td>25</td>\n",
       "      <td>257</td>\n",
       "      <td>8</td>\n",
       "      <td>32.6</td>\n",
       "      <td>19.6</td>\n",
       "      <td>-10.79</td>\n",
       "      <td>8</td>\n",
       "    </tr>\n",
       "    <tr>\n",
       "      <th>20</th>\n",
       "      <td>21</td>\n",
       "      <td>Green Bay Packers</td>\n",
       "      <td>4</td>\n",
       "      <td>75</td>\n",
       "      <td>1510</td>\n",
       "      <td>259</td>\n",
       "      <td>5.8</td>\n",
       "      <td>7</td>\n",
       "      <td>4</td>\n",
       "      <td>85</td>\n",
       "      <td>...</td>\n",
       "      <td>3</td>\n",
       "      <td>5.0</td>\n",
       "      <td>34</td>\n",
       "      <td>17</td>\n",
       "      <td>140</td>\n",
       "      <td>5</td>\n",
       "      <td>28.3</td>\n",
       "      <td>15.2</td>\n",
       "      <td>16.07</td>\n",
       "      <td>9</td>\n",
       "    </tr>\n",
       "    <tr>\n",
       "      <th>21</th>\n",
       "      <td>22</td>\n",
       "      <td>Tennessee Titans</td>\n",
       "      <td>4</td>\n",
       "      <td>75</td>\n",
       "      <td>1150</td>\n",
       "      <td>220</td>\n",
       "      <td>5.2</td>\n",
       "      <td>6</td>\n",
       "      <td>3</td>\n",
       "      <td>69</td>\n",
       "      <td>...</td>\n",
       "      <td>4</td>\n",
       "      <td>3.8</td>\n",
       "      <td>19</td>\n",
       "      <td>29</td>\n",
       "      <td>262</td>\n",
       "      <td>9</td>\n",
       "      <td>31.0</td>\n",
       "      <td>9.5</td>\n",
       "      <td>2.39</td>\n",
       "      <td>9</td>\n",
       "    </tr>\n",
       "    <tr>\n",
       "      <th>22</th>\n",
       "      <td>23</td>\n",
       "      <td>Pittsburgh Steelers</td>\n",
       "      <td>4</td>\n",
       "      <td>74</td>\n",
       "      <td>1115</td>\n",
       "      <td>234</td>\n",
       "      <td>4.8</td>\n",
       "      <td>7</td>\n",
       "      <td>2</td>\n",
       "      <td>69</td>\n",
       "      <td>...</td>\n",
       "      <td>4</td>\n",
       "      <td>4.0</td>\n",
       "      <td>25</td>\n",
       "      <td>24</td>\n",
       "      <td>159</td>\n",
       "      <td>4</td>\n",
       "      <td>30.4</td>\n",
       "      <td>13.0</td>\n",
       "      <td>-15.59</td>\n",
       "      <td>6</td>\n",
       "    </tr>\n",
       "    <tr>\n",
       "      <th>23</th>\n",
       "      <td>24</td>\n",
       "      <td>New England Patriots</td>\n",
       "      <td>4</td>\n",
       "      <td>74</td>\n",
       "      <td>1365</td>\n",
       "      <td>241</td>\n",
       "      <td>5.7</td>\n",
       "      <td>9</td>\n",
       "      <td>4</td>\n",
       "      <td>74</td>\n",
       "      <td>...</td>\n",
       "      <td>5</td>\n",
       "      <td>4.5</td>\n",
       "      <td>33</td>\n",
       "      <td>20</td>\n",
       "      <td>161</td>\n",
       "      <td>3</td>\n",
       "      <td>28.6</td>\n",
       "      <td>21.4</td>\n",
       "      <td>-0.64</td>\n",
       "      <td>8</td>\n",
       "    </tr>\n",
       "    <tr>\n",
       "      <th>24</th>\n",
       "      <td>25</td>\n",
       "      <td>Houston Texans</td>\n",
       "      <td>4</td>\n",
       "      <td>73</td>\n",
       "      <td>1208</td>\n",
       "      <td>237</td>\n",
       "      <td>5.1</td>\n",
       "      <td>5</td>\n",
       "      <td>1</td>\n",
       "      <td>68</td>\n",
       "      <td>...</td>\n",
       "      <td>2</td>\n",
       "      <td>4.5</td>\n",
       "      <td>19</td>\n",
       "      <td>26</td>\n",
       "      <td>226</td>\n",
       "      <td>11</td>\n",
       "      <td>31.3</td>\n",
       "      <td>10.4</td>\n",
       "      <td>-12.95</td>\n",
       "      <td>7</td>\n",
       "    </tr>\n",
       "    <tr>\n",
       "      <th>25</th>\n",
       "      <td>26</td>\n",
       "      <td>Washington Commanders</td>\n",
       "      <td>4</td>\n",
       "      <td>73</td>\n",
       "      <td>1323</td>\n",
       "      <td>287</td>\n",
       "      <td>4.6</td>\n",
       "      <td>7</td>\n",
       "      <td>2</td>\n",
       "      <td>84</td>\n",
       "      <td>...</td>\n",
       "      <td>2</td>\n",
       "      <td>4.1</td>\n",
       "      <td>24</td>\n",
       "      <td>23</td>\n",
       "      <td>264</td>\n",
       "      <td>8</td>\n",
       "      <td>21.6</td>\n",
       "      <td>13.7</td>\n",
       "      <td>-16.38</td>\n",
       "      <td>10</td>\n",
       "    </tr>\n",
       "    <tr>\n",
       "      <th>26</th>\n",
       "      <td>27</td>\n",
       "      <td>Dallas Cowboys</td>\n",
       "      <td>4</td>\n",
       "      <td>71</td>\n",
       "      <td>1251</td>\n",
       "      <td>241</td>\n",
       "      <td>5.2</td>\n",
       "      <td>2</td>\n",
       "      <td>1</td>\n",
       "      <td>69</td>\n",
       "      <td>...</td>\n",
       "      <td>2</td>\n",
       "      <td>4.0</td>\n",
       "      <td>22</td>\n",
       "      <td>27</td>\n",
       "      <td>208</td>\n",
       "      <td>7</td>\n",
       "      <td>35.6</td>\n",
       "      <td>4.4</td>\n",
       "      <td>1.65</td>\n",
       "      <td>6</td>\n",
       "    </tr>\n",
       "    <tr>\n",
       "      <th>27</th>\n",
       "      <td>28</td>\n",
       "      <td>San Francisco 49ers</td>\n",
       "      <td>4</td>\n",
       "      <td>71</td>\n",
       "      <td>1298</td>\n",
       "      <td>238</td>\n",
       "      <td>5.5</td>\n",
       "      <td>5</td>\n",
       "      <td>3</td>\n",
       "      <td>68</td>\n",
       "      <td>...</td>\n",
       "      <td>4</td>\n",
       "      <td>4.4</td>\n",
       "      <td>29</td>\n",
       "      <td>24</td>\n",
       "      <td>190</td>\n",
       "      <td>8</td>\n",
       "      <td>27.3</td>\n",
       "      <td>11.4</td>\n",
       "      <td>-1.21</td>\n",
       "      <td>7</td>\n",
       "    </tr>\n",
       "    <tr>\n",
       "      <th>28</th>\n",
       "      <td>29</td>\n",
       "      <td>Los Angeles Rams</td>\n",
       "      <td>4</td>\n",
       "      <td>70</td>\n",
       "      <td>1176</td>\n",
       "      <td>248</td>\n",
       "      <td>4.7</td>\n",
       "      <td>9</td>\n",
       "      <td>3</td>\n",
       "      <td>79</td>\n",
       "      <td>...</td>\n",
       "      <td>3</td>\n",
       "      <td>3.3</td>\n",
       "      <td>17</td>\n",
       "      <td>14</td>\n",
       "      <td>131</td>\n",
       "      <td>6</td>\n",
       "      <td>35.9</td>\n",
       "      <td>23.1</td>\n",
       "      <td>-8.08</td>\n",
       "      <td>7</td>\n",
       "    </tr>\n",
       "    <tr>\n",
       "      <th>29</th>\n",
       "      <td>30</td>\n",
       "      <td>Denver Broncos</td>\n",
       "      <td>4</td>\n",
       "      <td>66</td>\n",
       "      <td>1343</td>\n",
       "      <td>247</td>\n",
       "      <td>5.4</td>\n",
       "      <td>4</td>\n",
       "      <td>3</td>\n",
       "      <td>66</td>\n",
       "      <td>...</td>\n",
       "      <td>2</td>\n",
       "      <td>4.2</td>\n",
       "      <td>20</td>\n",
       "      <td>37</td>\n",
       "      <td>286</td>\n",
       "      <td>7</td>\n",
       "      <td>31.8</td>\n",
       "      <td>9.1</td>\n",
       "      <td>-6.92</td>\n",
       "      <td>6</td>\n",
       "    </tr>\n",
       "    <tr>\n",
       "      <th>30</th>\n",
       "      <td>31</td>\n",
       "      <td>Chicago Bears</td>\n",
       "      <td>4</td>\n",
       "      <td>64</td>\n",
       "      <td>1099</td>\n",
       "      <td>219</td>\n",
       "      <td>5.0</td>\n",
       "      <td>7</td>\n",
       "      <td>3</td>\n",
       "      <td>59</td>\n",
       "      <td>...</td>\n",
       "      <td>4</td>\n",
       "      <td>5.2</td>\n",
       "      <td>34</td>\n",
       "      <td>21</td>\n",
       "      <td>171</td>\n",
       "      <td>8</td>\n",
       "      <td>31.8</td>\n",
       "      <td>13.6</td>\n",
       "      <td>-5.87</td>\n",
       "      <td>6</td>\n",
       "    </tr>\n",
       "    <tr>\n",
       "      <th>31</th>\n",
       "      <td>32</td>\n",
       "      <td>Indianapolis Colts</td>\n",
       "      <td>4</td>\n",
       "      <td>57</td>\n",
       "      <td>1359</td>\n",
       "      <td>270</td>\n",
       "      <td>5.0</td>\n",
       "      <td>9</td>\n",
       "      <td>4</td>\n",
       "      <td>82</td>\n",
       "      <td>...</td>\n",
       "      <td>1</td>\n",
       "      <td>3.5</td>\n",
       "      <td>22</td>\n",
       "      <td>23</td>\n",
       "      <td>203</td>\n",
       "      <td>5</td>\n",
       "      <td>25.0</td>\n",
       "      <td>20.5</td>\n",
       "      <td>-18.74</td>\n",
       "      <td>6</td>\n",
       "    </tr>\n",
       "  </tbody>\n",
       "</table>\n",
       "<p>32 rows × 29 columns</p>\n",
       "</div>"
      ],
      "text/plain": [
       "    rank                   team  games  points_scored  total_yards  \\\n",
       "0      1          Detroit Lions      4            140         1747   \n",
       "1      2     Kansas City Chiefs      4            129         1539   \n",
       "2      3       Baltimore Ravens      4            119         1437   \n",
       "3      4    Philadelphia Eagles      4            115         1742   \n",
       "4      5          Buffalo Bills      4            114         1650   \n",
       "5      6       Cleveland Browns      4            105         1539   \n",
       "6      7   Jacksonville Jaguars      4            105         1346   \n",
       "7      8        Atlanta Falcons      4            103         1396   \n",
       "8      9         Miami Dolphins      4             98         1444   \n",
       "9     10      Las Vegas Raiders      4             96         1425   \n",
       "10    11       Seattle Seahawks      4             95         1444   \n",
       "11    12   Los Angeles Chargers      4             92         1487   \n",
       "12    13     Cincinnati Bengals      4             91         1387   \n",
       "13    14      Arizona Cardinals      4             88         1398   \n",
       "14    15      Minnesota Vikings      4             86         1376   \n",
       "15    16   Tampa Bay Buccaneers      4             82         1268   \n",
       "16    17      Carolina Panthers      4             78         1049   \n",
       "17    18     New Orleans Saints      4             76         1457   \n",
       "18    19        New York Giants      4             76         1328   \n",
       "19    20          New York Jets      4             76         1458   \n",
       "20    21      Green Bay Packers      4             75         1510   \n",
       "21    22       Tennessee Titans      4             75         1150   \n",
       "22    23    Pittsburgh Steelers      4             74         1115   \n",
       "23    24   New England Patriots      4             74         1365   \n",
       "24    25         Houston Texans      4             73         1208   \n",
       "25    26  Washington Commanders      4             73         1323   \n",
       "26    27         Dallas Cowboys      4             71         1251   \n",
       "27    28    San Francisco 49ers      4             71         1298   \n",
       "28    29       Los Angeles Rams      4             70         1176   \n",
       "29    30         Denver Broncos      4             66         1343   \n",
       "30    31          Chicago Bears      4             64         1099   \n",
       "31    32     Indianapolis Colts      4             57         1359   \n",
       "\n",
       "    offensive_plays  yards_per_play  turnovers_lost  fumbles_lost  1st_downs  \\\n",
       "0               269             6.5               4             1         90   \n",
       "1               257             6.0               4             2         95   \n",
       "2               230             6.2               5             1         77   \n",
       "3               285             6.1               2             0         98   \n",
       "4               275             6.0               7             4         99   \n",
       "5               281             5.5               3             1         96   \n",
       "6               250             5.4               6             4         83   \n",
       "7               236             5.9               8             4         86   \n",
       "8               227             6.4               4             0         80   \n",
       "9               256             5.6               5             1         87   \n",
       "10              228             6.3               6             3         83   \n",
       "11              264             5.6               4             2         77   \n",
       "12              290             4.8               6             2         87   \n",
       "13              292             4.8               2             0         89   \n",
       "14              254             5.4               5             1         92   \n",
       "15              245             5.2               6             5         77   \n",
       "16              214             4.9               6             3         56   \n",
       "17              244             6.0              11             6         74   \n",
       "18              256             5.2               5             2         80   \n",
       "19              289             5.0               9             4         82   \n",
       "20              259             5.8               7             4         85   \n",
       "21              220             5.2               6             3         69   \n",
       "22              234             4.8               7             2         69   \n",
       "23              241             5.7               9             4         74   \n",
       "24              237             5.1               5             1         68   \n",
       "25              287             4.6               7             2         84   \n",
       "26              241             5.2               2             1         69   \n",
       "27              238             5.5               5             3         68   \n",
       "28              248             4.7               9             3         79   \n",
       "29              247             5.4               4             3         66   \n",
       "30              219             5.0               7             3         59   \n",
       "31              270             5.0               9             4         82   \n",
       "\n",
       "    ...  rushing_touchdowns  rushing_yards_per_attempt  rushing_1st_downs  \\\n",
       "0   ...                   7                        5.9                 26   \n",
       "1   ...                   4                        4.5                 23   \n",
       "2   ...                   3                        5.4                 31   \n",
       "3   ...                  10                        4.3                 40   \n",
       "4   ...                   2                        4.8                 29   \n",
       "5   ...                   7                        5.0                 46   \n",
       "6   ...                   3                        4.0                 23   \n",
       "7   ...                   6                        5.1                 36   \n",
       "8   ...                   2                        3.5                 15   \n",
       "9   ...                   2                        5.0                 26   \n",
       "10  ...                   3                        5.2                 26   \n",
       "11  ...                   2                        2.7                 17   \n",
       "12  ...                   1                        3.1                 18   \n",
       "13  ...                   4                        4.1                 33   \n",
       "14  ...                   3                        4.4                 22   \n",
       "15  ...                   1                        3.1                 13   \n",
       "16  ...                   2                        4.5                 22   \n",
       "17  ...                   4                        5.1                 23   \n",
       "18  ...                   4                        5.7                 43   \n",
       "19  ...                   1                        4.1                 15   \n",
       "20  ...                   3                        5.0                 34   \n",
       "21  ...                   4                        3.8                 19   \n",
       "22  ...                   4                        4.0                 25   \n",
       "23  ...                   5                        4.5                 33   \n",
       "24  ...                   2                        4.5                 19   \n",
       "25  ...                   2                        4.1                 24   \n",
       "26  ...                   2                        4.0                 22   \n",
       "27  ...                   4                        4.4                 29   \n",
       "28  ...                   3                        3.3                 17   \n",
       "29  ...                   2                        4.2                 20   \n",
       "30  ...                   4                        5.2                 34   \n",
       "31  ...                   1                        3.5                 22   \n",
       "\n",
       "    penalties  penalty_yards  1st_down_penalties  percentage_scoring_drives  \\\n",
       "0          23            188                   7                       45.8   \n",
       "1          19            156                  10                       50.0   \n",
       "2          17            114                   7                       42.2   \n",
       "3          26            193                   9                       40.0   \n",
       "4          24            167                   7                       47.5   \n",
       "5          26            184                   7                       46.3   \n",
       "6          22            157                   8                       40.9   \n",
       "7          16            114                  12                       44.2   \n",
       "8          22            132                   9                       42.1   \n",
       "9          23            148                   5                       50.0   \n",
       "10         32            306                   9                       44.1   \n",
       "11         21            161                   5                       36.4   \n",
       "12         22            166                  11                       37.5   \n",
       "13         30            280                   6                       36.6   \n",
       "14         16             95                  11                       38.6   \n",
       "15         24            206                   9                       34.8   \n",
       "16         23            250                   7                       31.1   \n",
       "17         34            319                   5                       27.1   \n",
       "18         31            219                   9                       35.6   \n",
       "19         25            257                   8                       32.6   \n",
       "20         17            140                   5                       28.3   \n",
       "21         29            262                   9                       31.0   \n",
       "22         24            159                   4                       30.4   \n",
       "23         20            161                   3                       28.6   \n",
       "24         26            226                  11                       31.3   \n",
       "25         23            264                   8                       21.6   \n",
       "26         27            208                   7                       35.6   \n",
       "27         24            190                   8                       27.3   \n",
       "28         14            131                   6                       35.9   \n",
       "29         37            286                   7                       31.8   \n",
       "30         21            171                   8                       31.8   \n",
       "31         23            203                   5                       25.0   \n",
       "\n",
       "    percentage_turnover_drives  expected_points  touchdowns  \n",
       "0                          8.3            53.17          18  \n",
       "1                          7.1            57.85          15  \n",
       "2                         11.1            32.97          14  \n",
       "3                          4.4            44.88          14  \n",
       "4                         17.5            49.56          12  \n",
       "5                          7.3            40.78          11  \n",
       "6                         13.6            17.69          11  \n",
       "7                         18.6            30.77           9  \n",
       "8                         10.5            46.01          11  \n",
       "9                         12.5            23.26           8  \n",
       "10                        11.8            42.94           9  \n",
       "11                         6.8            17.02          11  \n",
       "12                        12.5             6.37           9  \n",
       "13                         4.9             8.95           9  \n",
       "14                        11.4            20.12           9  \n",
       "15                        10.9            -3.64           7  \n",
       "16                        11.1           -25.26           6  \n",
       "17                        20.8           -11.00           9  \n",
       "18                         8.9             6.34           7  \n",
       "19                        19.6           -10.79           8  \n",
       "20                        15.2            16.07           9  \n",
       "21                         9.5             2.39           9  \n",
       "22                        13.0           -15.59           6  \n",
       "23                        21.4            -0.64           8  \n",
       "24                        10.4           -12.95           7  \n",
       "25                        13.7           -16.38          10  \n",
       "26                         4.4             1.65           6  \n",
       "27                        11.4            -1.21           7  \n",
       "28                        23.1            -8.08           7  \n",
       "29                         9.1            -6.92           6  \n",
       "30                        13.6            -5.87           6  \n",
       "31                        20.5           -18.74           6  \n",
       "\n",
       "[32 rows x 29 columns]"
      ]
     },
     "execution_count": 4,
     "metadata": {},
     "output_type": "execute_result"
    }
   ],
   "source": [
    "w4[\"touchdowns\"] = w4[\"passing_touchdowns\"]+w4[\"rushing_touchdowns\"]\n",
    "w4"
   ]
  },
  {
   "cell_type": "code",
   "execution_count": 5,
   "metadata": {
    "cell_id": "963c7a0d245342e28fc56ae06f686728",
    "deepnote_cell_type": "code",
    "deepnote_to_be_reexecuted": false,
    "execution_millis": 97,
    "execution_start": 1670476289906,
    "source_hash": "997eba97",
    "tags": []
   },
   "outputs": [
    {
     "data": {
      "application/vnd.deepnote.dataframe.v3+json": {
       "column_count": 30,
       "columns": [
        {
         "dtype": "int64",
         "name": "rank",
         "stats": {
          "histogram": [
           {
            "bin_end": 4.1,
            "bin_start": 1,
            "count": 4
           },
           {
            "bin_end": 7.2,
            "bin_start": 4.1,
            "count": 3
           },
           {
            "bin_end": 10.3,
            "bin_start": 7.2,
            "count": 3
           },
           {
            "bin_end": 13.4,
            "bin_start": 10.3,
            "count": 3
           },
           {
            "bin_end": 16.5,
            "bin_start": 13.4,
            "count": 3
           },
           {
            "bin_end": 19.6,
            "bin_start": 16.5,
            "count": 3
           },
           {
            "bin_end": 22.7,
            "bin_start": 19.6,
            "count": 3
           },
           {
            "bin_end": 25.8,
            "bin_start": 22.7,
            "count": 3
           },
           {
            "bin_end": 28.900000000000002,
            "bin_start": 25.8,
            "count": 3
           },
           {
            "bin_end": 32,
            "bin_start": 28.900000000000002,
            "count": 4
           }
          ],
          "max": "32",
          "min": "1",
          "nan_count": 0,
          "unique_count": 32
         }
        },
        {
         "dtype": "object",
         "name": "team",
         "stats": {
          "categories": [
           {
            "count": 1,
            "name": "Detroit Lions"
           },
           {
            "count": 1,
            "name": "Kansas City Chiefs"
           },
           {
            "count": 30,
            "name": "30 others"
           }
          ],
          "nan_count": 0,
          "unique_count": 32
         }
        },
        {
         "dtype": "int64",
         "name": "games",
         "stats": {
          "histogram": [
           {
            "bin_end": 3.6,
            "bin_start": 3.5,
            "count": 0
           },
           {
            "bin_end": 3.7,
            "bin_start": 3.6,
            "count": 0
           },
           {
            "bin_end": 3.8,
            "bin_start": 3.7,
            "count": 0
           },
           {
            "bin_end": 3.9,
            "bin_start": 3.8,
            "count": 0
           },
           {
            "bin_end": 4,
            "bin_start": 3.9,
            "count": 0
           },
           {
            "bin_end": 4.1,
            "bin_start": 4,
            "count": 32
           },
           {
            "bin_end": 4.2,
            "bin_start": 4.1,
            "count": 0
           },
           {
            "bin_end": 4.3,
            "bin_start": 4.2,
            "count": 0
           },
           {
            "bin_end": 4.4,
            "bin_start": 4.3,
            "count": 0
           },
           {
            "bin_end": 4.5,
            "bin_start": 4.4,
            "count": 0
           }
          ],
          "max": "4",
          "min": "4",
          "nan_count": 0,
          "unique_count": 1
         }
        },
        {
         "dtype": "int64",
         "name": "points_scored",
         "stats": {
          "histogram": [
           {
            "bin_end": 65.3,
            "bin_start": 57,
            "count": 2
           },
           {
            "bin_end": 73.6,
            "bin_start": 65.3,
            "count": 6
           },
           {
            "bin_end": 81.9,
            "bin_start": 73.6,
            "count": 8
           },
           {
            "bin_end": 90.2,
            "bin_start": 81.9,
            "count": 3
           },
           {
            "bin_end": 98.5,
            "bin_start": 90.2,
            "count": 5
           },
           {
            "bin_end": 106.80000000000001,
            "bin_start": 98.5,
            "count": 3
           },
           {
            "bin_end": 115.10000000000001,
            "bin_start": 106.80000000000001,
            "count": 2
           },
           {
            "bin_end": 123.4,
            "bin_start": 115.10000000000001,
            "count": 1
           },
           {
            "bin_end": 131.7,
            "bin_start": 123.4,
            "count": 1
           },
           {
            "bin_end": 140,
            "bin_start": 131.7,
            "count": 1
           }
          ],
          "max": "140",
          "min": "57",
          "nan_count": 0,
          "unique_count": 25
         }
        },
        {
         "dtype": "int64",
         "name": "total_yards",
         "stats": {
          "histogram": [
           {
            "bin_end": 1118.8,
            "bin_start": 1049,
            "count": 3
           },
           {
            "bin_end": 1188.6,
            "bin_start": 1118.8,
            "count": 2
           },
           {
            "bin_end": 1258.4,
            "bin_start": 1188.6,
            "count": 2
           },
           {
            "bin_end": 1328.2,
            "bin_start": 1258.4,
            "count": 4
           },
           {
            "bin_end": 1398,
            "bin_start": 1328.2,
            "count": 7
           },
           {
            "bin_end": 1467.8,
            "bin_start": 1398,
            "count": 7
           },
           {
            "bin_end": 1537.6,
            "bin_start": 1467.8,
            "count": 2
           },
           {
            "bin_end": 1607.4,
            "bin_start": 1537.6,
            "count": 2
           },
           {
            "bin_end": 1677.1999999999998,
            "bin_start": 1607.4,
            "count": 1
           },
           {
            "bin_end": 1747,
            "bin_start": 1677.1999999999998,
            "count": 2
           }
          ],
          "max": "1747",
          "min": "1049",
          "nan_count": 0,
          "unique_count": 30
         }
        },
        {
         "dtype": "int64",
         "name": "offensive_plays",
         "stats": {
          "histogram": [
           {
            "bin_end": 221.8,
            "bin_start": 214,
            "count": 3
           },
           {
            "bin_end": 229.6,
            "bin_start": 221.8,
            "count": 2
           },
           {
            "bin_end": 237.4,
            "bin_start": 229.6,
            "count": 4
           },
           {
            "bin_end": 245.2,
            "bin_start": 237.4,
            "count": 5
           },
           {
            "bin_end": 253,
            "bin_start": 245.2,
            "count": 3
           },
           {
            "bin_end": 260.8,
            "bin_start": 253,
            "count": 5
           },
           {
            "bin_end": 268.6,
            "bin_start": 260.8,
            "count": 1
           },
           {
            "bin_end": 276.4,
            "bin_start": 268.6,
            "count": 3
           },
           {
            "bin_end": 284.2,
            "bin_start": 276.4,
            "count": 1
           },
           {
            "bin_end": 292,
            "bin_start": 284.2,
            "count": 5
           }
          ],
          "max": "292",
          "min": "214",
          "nan_count": 0,
          "unique_count": 30
         }
        },
        {
         "dtype": "float64",
         "name": "yards_per_play",
         "stats": {
          "histogram": [
           {
            "bin_end": 4.79,
            "bin_start": 4.6,
            "count": 2
           },
           {
            "bin_end": 4.9799999999999995,
            "bin_start": 4.79,
            "count": 4
           },
           {
            "bin_end": 5.17,
            "bin_start": 4.9799999999999995,
            "count": 4
           },
           {
            "bin_end": 5.359999999999999,
            "bin_start": 5.17,
            "count": 4
           },
           {
            "bin_end": 5.55,
            "bin_start": 5.359999999999999,
            "count": 5
           },
           {
            "bin_end": 5.74,
            "bin_start": 5.55,
            "count": 3
           },
           {
            "bin_end": 5.93,
            "bin_start": 5.74,
            "count": 2
           },
           {
            "bin_end": 6.12,
            "bin_start": 5.93,
            "count": 4
           },
           {
            "bin_end": 6.31,
            "bin_start": 6.12,
            "count": 2
           },
           {
            "bin_end": 6.5,
            "bin_start": 6.31,
            "count": 2
           }
          ],
          "max": "6.5",
          "min": "4.6",
          "nan_count": 0,
          "unique_count": 19
         }
        },
        {
         "dtype": "int64",
         "name": "turnovers_lost",
         "stats": {
          "histogram": [
           {
            "bin_end": 2.9,
            "bin_start": 2,
            "count": 3
           },
           {
            "bin_end": 3.8,
            "bin_start": 2.9,
            "count": 1
           },
           {
            "bin_end": 4.7,
            "bin_start": 3.8,
            "count": 5
           },
           {
            "bin_end": 5.6,
            "bin_start": 4.7,
            "count": 6
           },
           {
            "bin_end": 6.5,
            "bin_start": 5.6,
            "count": 6
           },
           {
            "bin_end": 7.4,
            "bin_start": 6.5,
            "count": 5
           },
           {
            "bin_end": 8.3,
            "bin_start": 7.4,
            "count": 1
           },
           {
            "bin_end": 9.2,
            "bin_start": 8.3,
            "count": 4
           },
           {
            "bin_end": 10.1,
            "bin_start": 9.2,
            "count": 0
           },
           {
            "bin_end": 11,
            "bin_start": 10.1,
            "count": 1
           }
          ],
          "max": "11",
          "min": "2",
          "nan_count": 0,
          "unique_count": 9
         }
        },
        {
         "dtype": "int64",
         "name": "fumbles_lost",
         "stats": {
          "histogram": [
           {
            "bin_end": 0.6,
            "bin_start": 0,
            "count": 3
           },
           {
            "bin_end": 1.2,
            "bin_start": 0.6,
            "count": 7
           },
           {
            "bin_end": 1.7999999999999998,
            "bin_start": 1.2,
            "count": 0
           },
           {
            "bin_end": 2.4,
            "bin_start": 1.7999999999999998,
            "count": 6
           },
           {
            "bin_end": 3,
            "bin_start": 2.4,
            "count": 0
           },
           {
            "bin_end": 3.5999999999999996,
            "bin_start": 3,
            "count": 7
           },
           {
            "bin_end": 4.2,
            "bin_start": 3.5999999999999996,
            "count": 7
           },
           {
            "bin_end": 4.8,
            "bin_start": 4.2,
            "count": 0
           },
           {
            "bin_end": 5.3999999999999995,
            "bin_start": 4.8,
            "count": 1
           },
           {
            "bin_end": 6,
            "bin_start": 5.3999999999999995,
            "count": 1
           }
          ],
          "max": "6",
          "min": "0",
          "nan_count": 0,
          "unique_count": 7
         }
        },
        {
         "dtype": "int64",
         "name": "1st_downs",
         "stats": {
          "histogram": [
           {
            "bin_end": 60.3,
            "bin_start": 56,
            "count": 2
           },
           {
            "bin_end": 64.6,
            "bin_start": 60.3,
            "count": 0
           },
           {
            "bin_end": 68.9,
            "bin_start": 64.6,
            "count": 3
           },
           {
            "bin_end": 73.2,
            "bin_start": 68.9,
            "count": 3
           },
           {
            "bin_end": 77.5,
            "bin_start": 73.2,
            "count": 5
           },
           {
            "bin_end": 81.8,
            "bin_start": 77.5,
            "count": 3
           },
           {
            "bin_end": 86.1,
            "bin_start": 81.8,
            "count": 7
           },
           {
            "bin_end": 90.4,
            "bin_start": 86.1,
            "count": 4
           },
           {
            "bin_end": 94.69999999999999,
            "bin_start": 90.4,
            "count": 1
           },
           {
            "bin_end": 99,
            "bin_start": 94.69999999999999,
            "count": 4
           }
          ],
          "max": "99",
          "min": "56",
          "nan_count": 0,
          "unique_count": 22
         }
        },
        {
         "dtype": "int64",
         "name": "passes_completed",
         "stats": {
          "histogram": [
           {
            "bin_end": 42.1,
            "bin_start": 34,
            "count": 1
           },
           {
            "bin_end": 50.2,
            "bin_start": 42.1,
            "count": 0
           },
           {
            "bin_end": 58.3,
            "bin_start": 50.2,
            "count": 1
           },
           {
            "bin_end": 66.4,
            "bin_start": 58.3,
            "count": 2
           },
           {
            "bin_end": 74.5,
            "bin_start": 66.4,
            "count": 2
           },
           {
            "bin_end": 82.6,
            "bin_start": 74.5,
            "count": 7
           },
           {
            "bin_end": 90.69999999999999,
            "bin_start": 82.6,
            "count": 2
           },
           {
            "bin_end": 98.8,
            "bin_start": 90.69999999999999,
            "count": 6
           },
           {
            "bin_end": 106.89999999999999,
            "bin_start": 98.8,
            "count": 6
           },
           {
            "bin_end": 115,
            "bin_start": 106.89999999999999,
            "count": 5
           }
          ],
          "max": "115",
          "min": "34",
          "nan_count": 0,
          "unique_count": 22
         }
        },
        {
         "dtype": "int64",
         "name": "passes_attempted",
         "stats": {
          "histogram": [
           {
            "bin_end": 79.6,
            "bin_start": 67,
            "count": 1
           },
           {
            "bin_end": 92.2,
            "bin_start": 79.6,
            "count": 0
           },
           {
            "bin_end": 104.8,
            "bin_start": 92.2,
            "count": 1
           },
           {
            "bin_end": 117.4,
            "bin_start": 104.8,
            "count": 5
           },
           {
            "bin_end": 130,
            "bin_start": 117.4,
            "count": 4
           },
           {
            "bin_end": 142.6,
            "bin_start": 130,
            "count": 7
           },
           {
            "bin_end": 155.2,
            "bin_start": 142.6,
            "count": 7
           },
           {
            "bin_end": 167.8,
            "bin_start": 155.2,
            "count": 3
           },
           {
            "bin_end": 180.39999999999998,
            "bin_start": 167.8,
            "count": 3
           },
           {
            "bin_end": 193,
            "bin_start": 180.39999999999998,
            "count": 1
           }
          ],
          "max": "193",
          "min": "67",
          "nan_count": 0,
          "unique_count": 27
         }
        },
        {
         "dtype": "int64",
         "name": "passing_yards",
         "stats": {
          "histogram": [
           {
            "bin_end": 473.9,
            "bin_start": 390,
            "count": 1
           },
           {
            "bin_end": 557.8,
            "bin_start": 473.9,
            "count": 0
           },
           {
            "bin_end": 641.7,
            "bin_start": 557.8,
            "count": 1
           },
           {
            "bin_end": 725.6,
            "bin_start": 641.7,
            "count": 2
           },
           {
            "bin_end": 809.5,
            "bin_start": 725.6,
            "count": 4
           },
           {
            "bin_end": 893.4000000000001,
            "bin_start": 809.5,
            "count": 4
           },
           {
            "bin_end": 977.3000000000001,
            "bin_start": 893.4000000000001,
            "count": 7
           },
           {
            "bin_end": 1061.2,
            "bin_start": 977.3000000000001,
            "count": 6
           },
           {
            "bin_end": 1145.1,
            "bin_start": 1061.2,
            "count": 4
           },
           {
            "bin_end": 1229,
            "bin_start": 1145.1,
            "count": 3
           }
          ],
          "max": "1229",
          "min": "390",
          "nan_count": 0,
          "unique_count": 31
         }
        },
        {
         "dtype": "int64",
         "name": "passing_touchdowns",
         "stats": {
          "histogram": [
           {
            "bin_end": 2.9,
            "bin_start": 2,
            "count": 2
           },
           {
            "bin_end": 3.8,
            "bin_start": 2.9,
            "count": 4
           },
           {
            "bin_end": 4.7,
            "bin_start": 3.8,
            "count": 6
           },
           {
            "bin_end": 5.6,
            "bin_start": 4.7,
            "count": 5
           },
           {
            "bin_end": 6.5,
            "bin_start": 5.6,
            "count": 5
           },
           {
            "bin_end": 7.4,
            "bin_start": 6.5,
            "count": 1
           },
           {
            "bin_end": 8.3,
            "bin_start": 7.4,
            "count": 3
           },
           {
            "bin_end": 9.2,
            "bin_start": 8.3,
            "count": 2
           },
           {
            "bin_end": 10.1,
            "bin_start": 9.2,
            "count": 1
           },
           {
            "bin_end": 11,
            "bin_start": 10.1,
            "count": 3
           }
          ],
          "max": "11",
          "min": "2",
          "nan_count": 0,
          "unique_count": 10
         }
        },
        {
         "dtype": "int64",
         "name": "passing_interceptions",
         "stats": {
          "histogram": [
           {
            "bin_end": 1.5,
            "bin_start": 1,
            "count": 3
           },
           {
            "bin_end": 2,
            "bin_start": 1.5,
            "count": 0
           },
           {
            "bin_end": 2.5,
            "bin_start": 2,
            "count": 7
           },
           {
            "bin_end": 3,
            "bin_start": 2.5,
            "count": 0
           },
           {
            "bin_end": 3.5,
            "bin_start": 3,
            "count": 7
           },
           {
            "bin_end": 4,
            "bin_start": 3.5,
            "count": 0
           },
           {
            "bin_end": 4.5,
            "bin_start": 4,
            "count": 8
           },
           {
            "bin_end": 5,
            "bin_start": 4.5,
            "count": 0
           },
           {
            "bin_end": 5.5,
            "bin_start": 5,
            "count": 6
           },
           {
            "bin_end": 6,
            "bin_start": 5.5,
            "count": 1
           }
          ],
          "max": "6",
          "min": "1",
          "nan_count": 0,
          "unique_count": 6
         }
        },
        {
         "dtype": "float64",
         "name": "net_yards_per_pass_attempt",
         "stats": {
          "histogram": [
           {
            "bin_end": 4.96,
            "bin_start": 4.6,
            "count": 3
           },
           {
            "bin_end": 5.319999999999999,
            "bin_start": 4.96,
            "count": 3
           },
           {
            "bin_end": 5.68,
            "bin_start": 5.319999999999999,
            "count": 3
           },
           {
            "bin_end": 6.039999999999999,
            "bin_start": 5.68,
            "count": 5
           },
           {
            "bin_end": 6.3999999999999995,
            "bin_start": 6.039999999999999,
            "count": 3
           },
           {
            "bin_end": 6.76,
            "bin_start": 6.3999999999999995,
            "count": 7
           },
           {
            "bin_end": 7.119999999999999,
            "bin_start": 6.76,
            "count": 5
           },
           {
            "bin_end": 7.4799999999999995,
            "bin_start": 7.119999999999999,
            "count": 1
           },
           {
            "bin_end": 7.84,
            "bin_start": 7.4799999999999995,
            "count": 0
           },
           {
            "bin_end": 8.2,
            "bin_start": 7.84,
            "count": 2
           }
          ],
          "max": "8.2",
          "min": "4.6",
          "nan_count": 0,
          "unique_count": 21
         }
        },
        {
         "dtype": "int64",
         "name": "passing_1st_downs",
         "stats": {
          "histogram": [
           {
            "bin_end": 21.6,
            "bin_start": 17,
            "count": 1
           },
           {
            "bin_end": 26.2,
            "bin_start": 21.6,
            "count": 0
           },
           {
            "bin_end": 30.799999999999997,
            "bin_start": 26.2,
            "count": 2
           },
           {
            "bin_end": 35.4,
            "bin_start": 30.799999999999997,
            "count": 1
           },
           {
            "bin_end": 40,
            "bin_start": 35.4,
            "count": 5
           },
           {
            "bin_end": 44.599999999999994,
            "bin_start": 40,
            "count": 4
           },
           {
            "bin_end": 49.199999999999996,
            "bin_start": 44.599999999999994,
            "count": 4
           },
           {
            "bin_end": 53.8,
            "bin_start": 49.199999999999996,
            "count": 3
           },
           {
            "bin_end": 58.4,
            "bin_start": 53.8,
            "count": 8
           },
           {
            "bin_end": 63,
            "bin_start": 58.4,
            "count": 4
           }
          ],
          "max": "63",
          "min": "17",
          "nan_count": 0,
          "unique_count": 21
         }
        },
        {
         "dtype": "int64",
         "name": "rushing_attempts",
         "stats": {
          "histogram": [
           {
            "bin_end": 87.3,
            "bin_start": 80,
            "count": 6
           },
           {
            "bin_end": 94.6,
            "bin_start": 87.3,
            "count": 5
           },
           {
            "bin_end": 101.9,
            "bin_start": 94.6,
            "count": 4
           },
           {
            "bin_end": 109.2,
            "bin_start": 101.9,
            "count": 6
           },
           {
            "bin_end": 116.5,
            "bin_start": 109.2,
            "count": 4
           },
           {
            "bin_end": 123.8,
            "bin_start": 116.5,
            "count": 2
           },
           {
            "bin_end": 131.1,
            "bin_start": 123.8,
            "count": 1
           },
           {
            "bin_end": 138.4,
            "bin_start": 131.1,
            "count": 2
           },
           {
            "bin_end": 145.7,
            "bin_start": 138.4,
            "count": 0
           },
           {
            "bin_end": 153,
            "bin_start": 145.7,
            "count": 2
           }
          ],
          "max": "153",
          "min": "80",
          "nan_count": 0,
          "unique_count": 26
         }
        },
        {
         "dtype": "int64",
         "name": "rushing_yards",
         "stats": {
          "histogram": [
           {
            "bin_end": 309.2,
            "bin_start": 258,
            "count": 4
           },
           {
            "bin_end": 360.4,
            "bin_start": 309.2,
            "count": 3
           },
           {
            "bin_end": 411.6,
            "bin_start": 360.4,
            "count": 6
           },
           {
            "bin_end": 462.8,
            "bin_start": 411.6,
            "count": 8
           },
           {
            "bin_end": 514,
            "bin_start": 462.8,
            "count": 1
           },
           {
            "bin_end": 565.2,
            "bin_start": 514,
            "count": 2
           },
           {
            "bin_end": 616.4000000000001,
            "bin_start": 565.2,
            "count": 2
           },
           {
            "bin_end": 667.6,
            "bin_start": 616.4000000000001,
            "count": 2
           },
           {
            "bin_end": 718.8,
            "bin_start": 667.6,
            "count": 2
           },
           {
            "bin_end": 770,
            "bin_start": 718.8,
            "count": 2
           }
          ],
          "max": "770",
          "min": "258",
          "nan_count": 0,
          "unique_count": 32
         }
        },
        {
         "dtype": "int64",
         "name": "rushing_touchdowns",
         "stats": {
          "histogram": [
           {
            "bin_end": 1.9,
            "bin_start": 1,
            "count": 4
           },
           {
            "bin_end": 2.8,
            "bin_start": 1.9,
            "count": 9
           },
           {
            "bin_end": 3.7,
            "bin_start": 2.8,
            "count": 6
           },
           {
            "bin_end": 4.6,
            "bin_start": 3.7,
            "count": 8
           },
           {
            "bin_end": 5.5,
            "bin_start": 4.6,
            "count": 1
           },
           {
            "bin_end": 6.4,
            "bin_start": 5.5,
            "count": 1
           },
           {
            "bin_end": 7.3,
            "bin_start": 6.4,
            "count": 2
           },
           {
            "bin_end": 8.2,
            "bin_start": 7.3,
            "count": 0
           },
           {
            "bin_end": 9.1,
            "bin_start": 8.2,
            "count": 0
           },
           {
            "bin_end": 10,
            "bin_start": 9.1,
            "count": 1
           }
          ],
          "max": "10",
          "min": "1",
          "nan_count": 0,
          "unique_count": 8
         }
        },
        {
         "dtype": "float64",
         "name": "rushing_yards_per_attempt",
         "stats": {
          "histogram": [
           {
            "bin_end": 3.02,
            "bin_start": 2.7,
            "count": 1
           },
           {
            "bin_end": 3.3400000000000003,
            "bin_start": 3.02,
            "count": 3
           },
           {
            "bin_end": 3.66,
            "bin_start": 3.3400000000000003,
            "count": 2
           },
           {
            "bin_end": 3.9800000000000004,
            "bin_start": 3.66,
            "count": 1
           },
           {
            "bin_end": 4.300000000000001,
            "bin_start": 3.9800000000000004,
            "count": 8
           },
           {
            "bin_end": 4.62,
            "bin_start": 4.300000000000001,
            "count": 6
           },
           {
            "bin_end": 4.94,
            "bin_start": 4.62,
            "count": 1
           },
           {
            "bin_end": 5.26,
            "bin_start": 4.94,
            "count": 7
           },
           {
            "bin_end": 5.58,
            "bin_start": 5.26,
            "count": 1
           },
           {
            "bin_end": 5.9,
            "bin_start": 5.58,
            "count": 2
           }
          ],
          "max": "5.9",
          "min": "2.7",
          "nan_count": 0,
          "unique_count": 18
         }
        },
        {
         "dtype": "int64",
         "name": "rushing_1st_downs",
         "stats": {
          "histogram": [
           {
            "bin_end": 16.3,
            "bin_start": 13,
            "count": 3
           },
           {
            "bin_end": 19.6,
            "bin_start": 16.3,
            "count": 5
           },
           {
            "bin_end": 22.9,
            "bin_start": 19.6,
            "count": 5
           },
           {
            "bin_end": 26.2,
            "bin_start": 22.9,
            "count": 8
           },
           {
            "bin_end": 29.5,
            "bin_start": 26.2,
            "count": 2
           },
           {
            "bin_end": 32.8,
            "bin_start": 29.5,
            "count": 1
           },
           {
            "bin_end": 36.099999999999994,
            "bin_start": 32.8,
            "count": 5
           },
           {
            "bin_end": 39.4,
            "bin_start": 36.099999999999994,
            "count": 0
           },
           {
            "bin_end": 42.7,
            "bin_start": 39.4,
            "count": 1
           },
           {
            "bin_end": 46,
            "bin_start": 42.7,
            "count": 2
           }
          ],
          "max": "46",
          "min": "13",
          "nan_count": 0,
          "unique_count": 19
         }
        },
        {
         "dtype": "int64",
         "name": "penalties",
         "stats": {
          "histogram": [
           {
            "bin_end": 16.3,
            "bin_start": 14,
            "count": 3
           },
           {
            "bin_end": 18.6,
            "bin_start": 16.3,
            "count": 2
           },
           {
            "bin_end": 20.9,
            "bin_start": 18.6,
            "count": 2
           },
           {
            "bin_end": 23.2,
            "bin_start": 20.9,
            "count": 10
           },
           {
            "bin_end": 25.5,
            "bin_start": 23.2,
            "count": 5
           },
           {
            "bin_end": 27.799999999999997,
            "bin_start": 25.5,
            "count": 4
           },
           {
            "bin_end": 30.099999999999998,
            "bin_start": 27.799999999999997,
            "count": 2
           },
           {
            "bin_end": 32.4,
            "bin_start": 30.099999999999998,
            "count": 2
           },
           {
            "bin_end": 34.7,
            "bin_start": 32.4,
            "count": 1
           },
           {
            "bin_end": 37,
            "bin_start": 34.7,
            "count": 1
           }
          ],
          "max": "37",
          "min": "14",
          "nan_count": 0,
          "unique_count": 18
         }
        },
        {
         "dtype": "int64",
         "name": "penalty_yards",
         "stats": {
          "histogram": [
           {
            "bin_end": 117.4,
            "bin_start": 95,
            "count": 3
           },
           {
            "bin_end": 139.8,
            "bin_start": 117.4,
            "count": 2
           },
           {
            "bin_end": 162.2,
            "bin_start": 139.8,
            "count": 7
           },
           {
            "bin_end": 184.6,
            "bin_start": 162.2,
            "count": 4
           },
           {
            "bin_end": 207,
            "bin_start": 184.6,
            "count": 5
           },
           {
            "bin_end": 229.39999999999998,
            "bin_start": 207,
            "count": 3
           },
           {
            "bin_end": 251.79999999999998,
            "bin_start": 229.39999999999998,
            "count": 1
           },
           {
            "bin_end": 274.2,
            "bin_start": 251.79999999999998,
            "count": 3
           },
           {
            "bin_end": 296.6,
            "bin_start": 274.2,
            "count": 2
           },
           {
            "bin_end": 319,
            "bin_start": 296.6,
            "count": 2
           }
          ],
          "max": "319",
          "min": "95",
          "nan_count": 0,
          "unique_count": 30
         }
        },
        {
         "dtype": "int64",
         "name": "1st_down_penalties",
         "stats": {
          "histogram": [
           {
            "bin_end": 3.9,
            "bin_start": 3,
            "count": 1
           },
           {
            "bin_end": 4.8,
            "bin_start": 3.9,
            "count": 1
           },
           {
            "bin_end": 5.7,
            "bin_start": 4.8,
            "count": 5
           },
           {
            "bin_end": 6.6,
            "bin_start": 5.7,
            "count": 2
           },
           {
            "bin_end": 7.5,
            "bin_start": 6.6,
            "count": 7
           },
           {
            "bin_end": 8.4,
            "bin_start": 7.5,
            "count": 5
           },
           {
            "bin_end": 9.3,
            "bin_start": 8.4,
            "count": 6
           },
           {
            "bin_end": 10.2,
            "bin_start": 9.3,
            "count": 1
           },
           {
            "bin_end": 11.1,
            "bin_start": 10.2,
            "count": 3
           },
           {
            "bin_end": 12,
            "bin_start": 11.1,
            "count": 1
           }
          ],
          "max": "12",
          "min": "3",
          "nan_count": 0,
          "unique_count": 10
         }
        },
        {
         "dtype": "float64",
         "name": "percentage_scoring_drives",
         "stats": {
          "histogram": [
           {
            "bin_end": 24.44,
            "bin_start": 21.6,
            "count": 1
           },
           {
            "bin_end": 27.28,
            "bin_start": 24.44,
            "count": 2
           },
           {
            "bin_end": 30.12,
            "bin_start": 27.28,
            "count": 3
           },
           {
            "bin_end": 32.96,
            "bin_start": 30.12,
            "count": 7
           },
           {
            "bin_end": 35.8,
            "bin_start": 32.96,
            "count": 3
           },
           {
            "bin_end": 38.64,
            "bin_start": 35.8,
            "count": 5
           },
           {
            "bin_end": 41.480000000000004,
            "bin_start": 38.64,
            "count": 2
           },
           {
            "bin_end": 44.32,
            "bin_start": 41.480000000000004,
            "count": 4
           },
           {
            "bin_end": 47.16,
            "bin_start": 44.32,
            "count": 2
           },
           {
            "bin_end": 50,
            "bin_start": 47.16,
            "count": 3
           }
          ],
          "max": "50.0",
          "min": "21.6",
          "nan_count": 0,
          "unique_count": 29
         }
        },
        {
         "dtype": "float64",
         "name": "percentage_turnover_drives",
         "stats": {
          "histogram": [
           {
            "bin_end": 6.2700000000000005,
            "bin_start": 4.4,
            "count": 3
           },
           {
            "bin_end": 8.14,
            "bin_start": 6.2700000000000005,
            "count": 3
           },
           {
            "bin_end": 10.010000000000002,
            "bin_start": 8.14,
            "count": 4
           },
           {
            "bin_end": 11.880000000000003,
            "bin_start": 10.010000000000002,
            "count": 8
           },
           {
            "bin_end": 13.750000000000002,
            "bin_start": 11.880000000000003,
            "count": 6
           },
           {
            "bin_end": 15.620000000000003,
            "bin_start": 13.750000000000002,
            "count": 1
           },
           {
            "bin_end": 17.490000000000002,
            "bin_start": 15.620000000000003,
            "count": 0
           },
           {
            "bin_end": 19.360000000000003,
            "bin_start": 17.490000000000002,
            "count": 2
           },
           {
            "bin_end": 21.230000000000004,
            "bin_start": 19.360000000000003,
            "count": 3
           },
           {
            "bin_end": 23.1,
            "bin_start": 21.230000000000004,
            "count": 2
           }
          ],
          "max": "23.1",
          "min": "4.4",
          "nan_count": 0,
          "unique_count": 27
         }
        },
        {
         "dtype": "float64",
         "name": "expected_points",
         "stats": {
          "histogram": [
           {
            "bin_end": -16.949,
            "bin_start": -25.26,
            "count": 2
           },
           {
            "bin_end": -8.638000000000002,
            "bin_start": -16.949,
            "count": 5
           },
           {
            "bin_end": -0.32700000000000173,
            "bin_start": -8.638000000000002,
            "count": 6
           },
           {
            "bin_end": 7.983999999999998,
            "bin_start": -0.32700000000000173,
            "count": 4
           },
           {
            "bin_end": 16.294999999999998,
            "bin_start": 7.983999999999998,
            "count": 2
           },
           {
            "bin_end": 24.605999999999998,
            "bin_start": 16.294999999999998,
            "count": 4
           },
           {
            "bin_end": 32.917,
            "bin_start": 24.605999999999998,
            "count": 1
           },
           {
            "bin_end": 41.227999999999994,
            "bin_start": 32.917,
            "count": 2
           },
           {
            "bin_end": 49.539,
            "bin_start": 41.227999999999994,
            "count": 3
           },
           {
            "bin_end": 57.85,
            "bin_start": 49.539,
            "count": 3
           }
          ],
          "max": "57.85",
          "min": "-25.26",
          "nan_count": 0,
          "unique_count": 32
         }
        },
        {
         "dtype": "int64",
         "name": "touchdowns",
         "stats": {
          "histogram": [
           {
            "bin_end": 7.2,
            "bin_start": 6,
            "count": 11
           },
           {
            "bin_end": 8.4,
            "bin_start": 7.2,
            "count": 3
           },
           {
            "bin_end": 9.6,
            "bin_start": 8.4,
            "count": 8
           },
           {
            "bin_end": 10.8,
            "bin_start": 9.6,
            "count": 1
           },
           {
            "bin_end": 12,
            "bin_start": 10.8,
            "count": 4
           },
           {
            "bin_end": 13.2,
            "bin_start": 12,
            "count": 1
           },
           {
            "bin_end": 14.4,
            "bin_start": 13.2,
            "count": 2
           },
           {
            "bin_end": 15.6,
            "bin_start": 14.4,
            "count": 1
           },
           {
            "bin_end": 16.799999999999997,
            "bin_start": 15.6,
            "count": 0
           },
           {
            "bin_end": 18,
            "bin_start": 16.799999999999997,
            "count": 1
           }
          ],
          "max": "18",
          "min": "6",
          "nan_count": 0,
          "unique_count": 10
         }
        },
        {
         "dtype": "int64",
         "name": "lost",
         "stats": {
          "histogram": [
           {
            "bin_end": 3.5,
            "bin_start": 2,
            "count": 3
           },
           {
            "bin_end": 5,
            "bin_start": 3.5,
            "count": 2
           },
           {
            "bin_end": 6.5,
            "bin_start": 5,
            "count": 7
           },
           {
            "bin_end": 8,
            "bin_start": 6.5,
            "count": 2
           },
           {
            "bin_end": 9.5,
            "bin_start": 8,
            "count": 7
           },
           {
            "bin_end": 11,
            "bin_start": 9.5,
            "count": 2
           },
           {
            "bin_end": 12.5,
            "bin_start": 11,
            "count": 5
           },
           {
            "bin_end": 14,
            "bin_start": 12.5,
            "count": 3
           },
           {
            "bin_end": 15.5,
            "bin_start": 14,
            "count": 0
           },
           {
            "bin_end": 17,
            "bin_start": 15.5,
            "count": 1
           }
          ],
          "max": "17",
          "min": "2",
          "nan_count": 0,
          "unique_count": 13
         }
        },
        {
         "dtype": "int64",
         "name": "_deepnote_index_column"
        }
       ],
       "row_count": 32,
       "rows": [
        {
         "1st_down_penalties": "7",
         "1st_downs": "90",
         "_deepnote_index_column": "0",
         "expected_points": "53.17",
         "fumbles_lost": "1",
         "games": "4",
         "lost": "5",
         "net_yards_per_pass_attempt": "6.9",
         "offensive_plays": "269",
         "passes_attempted": "152",
         "passes_completed": "93",
         "passing_1st_downs": "57",
         "passing_interceptions": "3",
         "passing_touchdowns": "11",
         "passing_yards": "1091",
         "penalties": "23",
         "penalty_yards": "188",
         "percentage_scoring_drives": "45.8",
         "percentage_turnover_drives": "8.3",
         "points_scored": "140",
         "rank": "1",
         "rushing_1st_downs": "26",
         "rushing_attempts": "112",
         "rushing_touchdowns": "7",
         "rushing_yards": "656",
         "rushing_yards_per_attempt": "5.9",
         "team": "Detroit Lions",
         "total_yards": "1747",
         "touchdowns": "18",
         "turnovers_lost": "4",
         "yards_per_play": "6.5"
        },
        {
         "1st_down_penalties": "10",
         "1st_downs": "95",
         "_deepnote_index_column": "1",
         "expected_points": "57.85",
         "fumbles_lost": "2",
         "games": "4",
         "lost": "6",
         "net_yards_per_pass_attempt": "7.0",
         "offensive_plays": "257",
         "passes_attempted": "147",
         "passes_completed": "97",
         "passing_1st_downs": "62",
         "passing_interceptions": "2",
         "passing_touchdowns": "11",
         "passing_yards": "1071",
         "penalties": "19",
         "penalty_yards": "156",
         "percentage_scoring_drives": "50.0",
         "percentage_turnover_drives": "7.1",
         "points_scored": "129",
         "rank": "2",
         "rushing_1st_downs": "23",
         "rushing_attempts": "105",
         "rushing_touchdowns": "4",
         "rushing_yards": "468",
         "rushing_yards_per_attempt": "4.5",
         "team": "Kansas City Chiefs",
         "total_yards": "1539",
         "touchdowns": "15",
         "turnovers_lost": "4",
         "yards_per_play": "6.0"
        },
        {
         "1st_down_penalties": "7",
         "1st_downs": "77",
         "_deepnote_index_column": "2",
         "expected_points": "32.97",
         "fumbles_lost": "1",
         "games": "4",
         "lost": "6",
         "net_yards_per_pass_attempt": "7.0",
         "offensive_plays": "230",
         "passes_attempted": "117",
         "passes_completed": "76",
         "passing_1st_downs": "39",
         "passing_interceptions": "4",
         "passing_touchdowns": "11",
         "passing_yards": "869",
         "penalties": "17",
         "penalty_yards": "114",
         "percentage_scoring_drives": "42.2",
         "percentage_turnover_drives": "11.1",
         "points_scored": "119",
         "rank": "3",
         "rushing_1st_downs": "31",
         "rushing_attempts": "105",
         "rushing_touchdowns": "3",
         "rushing_yards": "568",
         "rushing_yards_per_attempt": "5.4",
         "team": "Baltimore Ravens",
         "total_yards": "1437",
         "touchdowns": "14",
         "turnovers_lost": "5",
         "yards_per_play": "6.2"
        },
        {
         "1st_down_penalties": "9",
         "1st_downs": "98",
         "_deepnote_index_column": "3",
         "expected_points": "44.88",
         "fumbles_lost": "0",
         "games": "4",
         "lost": "2",
         "net_yards_per_pass_attempt": "8.2",
         "offensive_plays": "285",
         "passes_attempted": "123",
         "passes_completed": "82",
         "passing_1st_downs": "49",
         "passing_interceptions": "2",
         "passing_touchdowns": "4",
         "passing_yards": "1081",
         "penalties": "26",
         "penalty_yards": "193",
         "percentage_scoring_drives": "40.0",
         "percentage_turnover_drives": "4.4",
         "points_scored": "115",
         "rank": "4",
         "rushing_1st_downs": "40",
         "rushing_attempts": "153",
         "rushing_touchdowns": "10",
         "rushing_yards": "661",
         "rushing_yards_per_attempt": "4.3",
         "team": "Philadelphia Eagles",
         "total_yards": "1742",
         "touchdowns": "14",
         "turnovers_lost": "2",
         "yards_per_play": "6.1"
        },
        {
         "1st_down_penalties": "7",
         "1st_downs": "99",
         "_deepnote_index_column": "4",
         "expected_points": "49.56",
         "fumbles_lost": "4",
         "games": "4",
         "lost": "11",
         "net_yards_per_pass_attempt": "6.7",
         "offensive_plays": "275",
         "passes_attempted": "170",
         "passes_completed": "113",
         "passing_1st_downs": "63",
         "passing_interceptions": "3",
         "passing_touchdowns": "10",
         "passing_yards": "1188",
         "penalties": "24",
         "penalty_yards": "167",
         "percentage_scoring_drives": "47.5",
         "percentage_turnover_drives": "17.5",
         "points_scored": "114",
         "rank": "5",
         "rushing_1st_downs": "29",
         "rushing_attempts": "97",
         "rushing_touchdowns": "2",
         "rushing_yards": "462",
         "rushing_yards_per_attempt": "4.8",
         "team": "Buffalo Bills",
         "total_yards": "1650",
         "touchdowns": "12",
         "turnovers_lost": "7",
         "yards_per_play": "6.0"
        },
        {
         "1st_down_penalties": "7",
         "1st_downs": "96",
         "_deepnote_index_column": "5",
         "expected_points": "40.78",
         "fumbles_lost": "1",
         "games": "4",
         "lost": "4",
         "net_yards_per_pass_attempt": "6.0",
         "offensive_plays": "281",
         "passes_attempted": "127",
         "passes_completed": "82",
         "passing_1st_downs": "43",
         "passing_interceptions": "2",
         "passing_touchdowns": "4",
         "passing_yards": "790",
         "penalties": "26",
         "penalty_yards": "184",
         "percentage_scoring_drives": "46.3",
         "percentage_turnover_drives": "7.3",
         "points_scored": "105",
         "rank": "6",
         "rushing_1st_downs": "46",
         "rushing_attempts": "149",
         "rushing_touchdowns": "7",
         "rushing_yards": "749",
         "rushing_yards_per_attempt": "5.0",
         "team": "Cleveland Browns",
         "total_yards": "1539",
         "touchdowns": "11",
         "turnovers_lost": "3",
         "yards_per_play": "5.5"
        },
        {
         "1st_down_penalties": "8",
         "1st_downs": "83",
         "_deepnote_index_column": "6",
         "expected_points": "17.69",
         "fumbles_lost": "4",
         "games": "4",
         "lost": "10",
         "net_yards_per_pass_attempt": "6.5",
         "offensive_plays": "250",
         "passes_attempted": "134",
         "passes_completed": "88",
         "passing_1st_downs": "52",
         "passing_interceptions": "2",
         "passing_touchdowns": "8",
         "passing_yards": "905",
         "penalties": "22",
         "penalty_yards": "157",
         "percentage_scoring_drives": "40.9",
         "percentage_turnover_drives": "13.6",
         "points_scored": "105",
         "rank": "7",
         "rushing_1st_downs": "23",
         "rushing_attempts": "110",
         "rushing_touchdowns": "3",
         "rushing_yards": "441",
         "rushing_yards_per_attempt": "4.0",
         "team": "Jacksonville Jaguars",
         "total_yards": "1346",
         "touchdowns": "11",
         "turnovers_lost": "6",
         "yards_per_play": "5.4"
        },
        {
         "1st_down_penalties": "12",
         "1st_downs": "86",
         "_deepnote_index_column": "7",
         "expected_points": "30.77",
         "fumbles_lost": "4",
         "games": "4",
         "lost": "12",
         "net_yards_per_pass_attempt": "6.9",
         "offensive_plays": "236",
         "passes_attempted": "98",
         "passes_completed": "57",
         "passing_1st_downs": "38",
         "passing_interceptions": "4",
         "passing_touchdowns": "3",
         "passing_yards": "724",
         "penalties": "16",
         "penalty_yards": "114",
         "percentage_scoring_drives": "44.2",
         "percentage_turnover_drives": "18.6",
         "points_scored": "103",
         "rank": "8",
         "rushing_1st_downs": "36",
         "rushing_attempts": "131",
         "rushing_touchdowns": "6",
         "rushing_yards": "672",
         "rushing_yards_per_attempt": "5.1",
         "team": "Atlanta Falcons",
         "total_yards": "1396",
         "touchdowns": "9",
         "turnovers_lost": "8",
         "yards_per_play": "5.9"
        },
        {
         "1st_down_penalties": "9",
         "1st_downs": "80",
         "_deepnote_index_column": "8",
         "expected_points": "46.01",
         "fumbles_lost": "0",
         "games": "4",
         "lost": "4",
         "net_yards_per_pass_attempt": "7.9",
         "offensive_plays": "227",
         "passes_attempted": "140",
         "passes_completed": "94",
         "passing_1st_downs": "56",
         "passing_interceptions": "4",
         "passing_touchdowns": "9",
         "passing_yards": "1167",
         "penalties": "22",
         "penalty_yards": "132",
         "percentage_scoring_drives": "42.1",
         "percentage_turnover_drives": "10.5",
         "points_scored": "98",
         "rank": "9",
         "rushing_1st_downs": "15",
         "rushing_attempts": "80",
         "rushing_touchdowns": "2",
         "rushing_yards": "277",
         "rushing_yards_per_attempt": "3.5",
         "team": "Miami Dolphins",
         "total_yards": "1444",
         "touchdowns": "11",
         "turnovers_lost": "4",
         "yards_per_play": "6.4"
        },
        {
         "1st_down_penalties": "5",
         "1st_downs": "87",
         "_deepnote_index_column": "9",
         "expected_points": "23.26",
         "fumbles_lost": "1",
         "games": "4",
         "lost": "6",
         "net_yards_per_pass_attempt": "5.9",
         "offensive_plays": "256",
         "passes_attempted": "155",
         "passes_completed": "95",
         "passing_1st_downs": "56",
         "passing_interceptions": "4",
         "passing_touchdowns": "6",
         "passing_yards": "973",
         "penalties": "23",
         "penalty_yards": "148",
         "percentage_scoring_drives": "50.0",
         "percentage_turnover_drives": "12.5",
         "points_scored": "96",
         "rank": "10",
         "rushing_1st_downs": "26",
         "rushing_attempts": "91",
         "rushing_touchdowns": "2",
         "rushing_yards": "452",
         "rushing_yards_per_attempt": "5.0",
         "team": "Las Vegas Raiders",
         "total_yards": "1425",
         "touchdowns": "8",
         "turnovers_lost": "5",
         "yards_per_play": "5.6"
        }
       ]
      },
      "text/html": [
       "<div>\n",
       "<style scoped>\n",
       "    .dataframe tbody tr th:only-of-type {\n",
       "        vertical-align: middle;\n",
       "    }\n",
       "\n",
       "    .dataframe tbody tr th {\n",
       "        vertical-align: top;\n",
       "    }\n",
       "\n",
       "    .dataframe thead th {\n",
       "        text-align: right;\n",
       "    }\n",
       "</style>\n",
       "<table border=\"1\" class=\"dataframe\">\n",
       "  <thead>\n",
       "    <tr style=\"text-align: right;\">\n",
       "      <th></th>\n",
       "      <th>rank</th>\n",
       "      <th>team</th>\n",
       "      <th>games</th>\n",
       "      <th>points_scored</th>\n",
       "      <th>total_yards</th>\n",
       "      <th>offensive_plays</th>\n",
       "      <th>yards_per_play</th>\n",
       "      <th>turnovers_lost</th>\n",
       "      <th>fumbles_lost</th>\n",
       "      <th>1st_downs</th>\n",
       "      <th>...</th>\n",
       "      <th>rushing_yards_per_attempt</th>\n",
       "      <th>rushing_1st_downs</th>\n",
       "      <th>penalties</th>\n",
       "      <th>penalty_yards</th>\n",
       "      <th>1st_down_penalties</th>\n",
       "      <th>percentage_scoring_drives</th>\n",
       "      <th>percentage_turnover_drives</th>\n",
       "      <th>expected_points</th>\n",
       "      <th>touchdowns</th>\n",
       "      <th>lost</th>\n",
       "    </tr>\n",
       "  </thead>\n",
       "  <tbody>\n",
       "    <tr>\n",
       "      <th>0</th>\n",
       "      <td>1</td>\n",
       "      <td>Detroit Lions</td>\n",
       "      <td>4</td>\n",
       "      <td>140</td>\n",
       "      <td>1747</td>\n",
       "      <td>269</td>\n",
       "      <td>6.5</td>\n",
       "      <td>4</td>\n",
       "      <td>1</td>\n",
       "      <td>90</td>\n",
       "      <td>...</td>\n",
       "      <td>5.9</td>\n",
       "      <td>26</td>\n",
       "      <td>23</td>\n",
       "      <td>188</td>\n",
       "      <td>7</td>\n",
       "      <td>45.8</td>\n",
       "      <td>8.3</td>\n",
       "      <td>53.17</td>\n",
       "      <td>18</td>\n",
       "      <td>5</td>\n",
       "    </tr>\n",
       "    <tr>\n",
       "      <th>1</th>\n",
       "      <td>2</td>\n",
       "      <td>Kansas City Chiefs</td>\n",
       "      <td>4</td>\n",
       "      <td>129</td>\n",
       "      <td>1539</td>\n",
       "      <td>257</td>\n",
       "      <td>6.0</td>\n",
       "      <td>4</td>\n",
       "      <td>2</td>\n",
       "      <td>95</td>\n",
       "      <td>...</td>\n",
       "      <td>4.5</td>\n",
       "      <td>23</td>\n",
       "      <td>19</td>\n",
       "      <td>156</td>\n",
       "      <td>10</td>\n",
       "      <td>50.0</td>\n",
       "      <td>7.1</td>\n",
       "      <td>57.85</td>\n",
       "      <td>15</td>\n",
       "      <td>6</td>\n",
       "    </tr>\n",
       "    <tr>\n",
       "      <th>2</th>\n",
       "      <td>3</td>\n",
       "      <td>Baltimore Ravens</td>\n",
       "      <td>4</td>\n",
       "      <td>119</td>\n",
       "      <td>1437</td>\n",
       "      <td>230</td>\n",
       "      <td>6.2</td>\n",
       "      <td>5</td>\n",
       "      <td>1</td>\n",
       "      <td>77</td>\n",
       "      <td>...</td>\n",
       "      <td>5.4</td>\n",
       "      <td>31</td>\n",
       "      <td>17</td>\n",
       "      <td>114</td>\n",
       "      <td>7</td>\n",
       "      <td>42.2</td>\n",
       "      <td>11.1</td>\n",
       "      <td>32.97</td>\n",
       "      <td>14</td>\n",
       "      <td>6</td>\n",
       "    </tr>\n",
       "    <tr>\n",
       "      <th>3</th>\n",
       "      <td>4</td>\n",
       "      <td>Philadelphia Eagles</td>\n",
       "      <td>4</td>\n",
       "      <td>115</td>\n",
       "      <td>1742</td>\n",
       "      <td>285</td>\n",
       "      <td>6.1</td>\n",
       "      <td>2</td>\n",
       "      <td>0</td>\n",
       "      <td>98</td>\n",
       "      <td>...</td>\n",
       "      <td>4.3</td>\n",
       "      <td>40</td>\n",
       "      <td>26</td>\n",
       "      <td>193</td>\n",
       "      <td>9</td>\n",
       "      <td>40.0</td>\n",
       "      <td>4.4</td>\n",
       "      <td>44.88</td>\n",
       "      <td>14</td>\n",
       "      <td>2</td>\n",
       "    </tr>\n",
       "    <tr>\n",
       "      <th>4</th>\n",
       "      <td>5</td>\n",
       "      <td>Buffalo Bills</td>\n",
       "      <td>4</td>\n",
       "      <td>114</td>\n",
       "      <td>1650</td>\n",
       "      <td>275</td>\n",
       "      <td>6.0</td>\n",
       "      <td>7</td>\n",
       "      <td>4</td>\n",
       "      <td>99</td>\n",
       "      <td>...</td>\n",
       "      <td>4.8</td>\n",
       "      <td>29</td>\n",
       "      <td>24</td>\n",
       "      <td>167</td>\n",
       "      <td>7</td>\n",
       "      <td>47.5</td>\n",
       "      <td>17.5</td>\n",
       "      <td>49.56</td>\n",
       "      <td>12</td>\n",
       "      <td>11</td>\n",
       "    </tr>\n",
       "    <tr>\n",
       "      <th>5</th>\n",
       "      <td>6</td>\n",
       "      <td>Cleveland Browns</td>\n",
       "      <td>4</td>\n",
       "      <td>105</td>\n",
       "      <td>1539</td>\n",
       "      <td>281</td>\n",
       "      <td>5.5</td>\n",
       "      <td>3</td>\n",
       "      <td>1</td>\n",
       "      <td>96</td>\n",
       "      <td>...</td>\n",
       "      <td>5.0</td>\n",
       "      <td>46</td>\n",
       "      <td>26</td>\n",
       "      <td>184</td>\n",
       "      <td>7</td>\n",
       "      <td>46.3</td>\n",
       "      <td>7.3</td>\n",
       "      <td>40.78</td>\n",
       "      <td>11</td>\n",
       "      <td>4</td>\n",
       "    </tr>\n",
       "    <tr>\n",
       "      <th>6</th>\n",
       "      <td>7</td>\n",
       "      <td>Jacksonville Jaguars</td>\n",
       "      <td>4</td>\n",
       "      <td>105</td>\n",
       "      <td>1346</td>\n",
       "      <td>250</td>\n",
       "      <td>5.4</td>\n",
       "      <td>6</td>\n",
       "      <td>4</td>\n",
       "      <td>83</td>\n",
       "      <td>...</td>\n",
       "      <td>4.0</td>\n",
       "      <td>23</td>\n",
       "      <td>22</td>\n",
       "      <td>157</td>\n",
       "      <td>8</td>\n",
       "      <td>40.9</td>\n",
       "      <td>13.6</td>\n",
       "      <td>17.69</td>\n",
       "      <td>11</td>\n",
       "      <td>10</td>\n",
       "    </tr>\n",
       "    <tr>\n",
       "      <th>7</th>\n",
       "      <td>8</td>\n",
       "      <td>Atlanta Falcons</td>\n",
       "      <td>4</td>\n",
       "      <td>103</td>\n",
       "      <td>1396</td>\n",
       "      <td>236</td>\n",
       "      <td>5.9</td>\n",
       "      <td>8</td>\n",
       "      <td>4</td>\n",
       "      <td>86</td>\n",
       "      <td>...</td>\n",
       "      <td>5.1</td>\n",
       "      <td>36</td>\n",
       "      <td>16</td>\n",
       "      <td>114</td>\n",
       "      <td>12</td>\n",
       "      <td>44.2</td>\n",
       "      <td>18.6</td>\n",
       "      <td>30.77</td>\n",
       "      <td>9</td>\n",
       "      <td>12</td>\n",
       "    </tr>\n",
       "    <tr>\n",
       "      <th>8</th>\n",
       "      <td>9</td>\n",
       "      <td>Miami Dolphins</td>\n",
       "      <td>4</td>\n",
       "      <td>98</td>\n",
       "      <td>1444</td>\n",
       "      <td>227</td>\n",
       "      <td>6.4</td>\n",
       "      <td>4</td>\n",
       "      <td>0</td>\n",
       "      <td>80</td>\n",
       "      <td>...</td>\n",
       "      <td>3.5</td>\n",
       "      <td>15</td>\n",
       "      <td>22</td>\n",
       "      <td>132</td>\n",
       "      <td>9</td>\n",
       "      <td>42.1</td>\n",
       "      <td>10.5</td>\n",
       "      <td>46.01</td>\n",
       "      <td>11</td>\n",
       "      <td>4</td>\n",
       "    </tr>\n",
       "    <tr>\n",
       "      <th>9</th>\n",
       "      <td>10</td>\n",
       "      <td>Las Vegas Raiders</td>\n",
       "      <td>4</td>\n",
       "      <td>96</td>\n",
       "      <td>1425</td>\n",
       "      <td>256</td>\n",
       "      <td>5.6</td>\n",
       "      <td>5</td>\n",
       "      <td>1</td>\n",
       "      <td>87</td>\n",
       "      <td>...</td>\n",
       "      <td>5.0</td>\n",
       "      <td>26</td>\n",
       "      <td>23</td>\n",
       "      <td>148</td>\n",
       "      <td>5</td>\n",
       "      <td>50.0</td>\n",
       "      <td>12.5</td>\n",
       "      <td>23.26</td>\n",
       "      <td>8</td>\n",
       "      <td>6</td>\n",
       "    </tr>\n",
       "    <tr>\n",
       "      <th>10</th>\n",
       "      <td>11</td>\n",
       "      <td>Seattle Seahawks</td>\n",
       "      <td>4</td>\n",
       "      <td>95</td>\n",
       "      <td>1444</td>\n",
       "      <td>228</td>\n",
       "      <td>6.3</td>\n",
       "      <td>6</td>\n",
       "      <td>3</td>\n",
       "      <td>83</td>\n",
       "      <td>...</td>\n",
       "      <td>5.2</td>\n",
       "      <td>26</td>\n",
       "      <td>32</td>\n",
       "      <td>306</td>\n",
       "      <td>9</td>\n",
       "      <td>44.1</td>\n",
       "      <td>11.8</td>\n",
       "      <td>42.94</td>\n",
       "      <td>9</td>\n",
       "      <td>9</td>\n",
       "    </tr>\n",
       "    <tr>\n",
       "      <th>11</th>\n",
       "      <td>12</td>\n",
       "      <td>Los Angeles Chargers</td>\n",
       "      <td>4</td>\n",
       "      <td>92</td>\n",
       "      <td>1487</td>\n",
       "      <td>264</td>\n",
       "      <td>5.6</td>\n",
       "      <td>4</td>\n",
       "      <td>2</td>\n",
       "      <td>77</td>\n",
       "      <td>...</td>\n",
       "      <td>2.7</td>\n",
       "      <td>17</td>\n",
       "      <td>21</td>\n",
       "      <td>161</td>\n",
       "      <td>5</td>\n",
       "      <td>36.4</td>\n",
       "      <td>6.8</td>\n",
       "      <td>17.02</td>\n",
       "      <td>11</td>\n",
       "      <td>6</td>\n",
       "    </tr>\n",
       "    <tr>\n",
       "      <th>12</th>\n",
       "      <td>13</td>\n",
       "      <td>Cincinnati Bengals</td>\n",
       "      <td>4</td>\n",
       "      <td>91</td>\n",
       "      <td>1387</td>\n",
       "      <td>290</td>\n",
       "      <td>4.8</td>\n",
       "      <td>6</td>\n",
       "      <td>2</td>\n",
       "      <td>87</td>\n",
       "      <td>...</td>\n",
       "      <td>3.1</td>\n",
       "      <td>18</td>\n",
       "      <td>22</td>\n",
       "      <td>166</td>\n",
       "      <td>11</td>\n",
       "      <td>37.5</td>\n",
       "      <td>12.5</td>\n",
       "      <td>6.37</td>\n",
       "      <td>9</td>\n",
       "      <td>8</td>\n",
       "    </tr>\n",
       "    <tr>\n",
       "      <th>13</th>\n",
       "      <td>14</td>\n",
       "      <td>Arizona Cardinals</td>\n",
       "      <td>4</td>\n",
       "      <td>88</td>\n",
       "      <td>1398</td>\n",
       "      <td>292</td>\n",
       "      <td>4.8</td>\n",
       "      <td>2</td>\n",
       "      <td>0</td>\n",
       "      <td>89</td>\n",
       "      <td>...</td>\n",
       "      <td>4.1</td>\n",
       "      <td>33</td>\n",
       "      <td>30</td>\n",
       "      <td>280</td>\n",
       "      <td>6</td>\n",
       "      <td>36.6</td>\n",
       "      <td>4.9</td>\n",
       "      <td>8.95</td>\n",
       "      <td>9</td>\n",
       "      <td>2</td>\n",
       "    </tr>\n",
       "    <tr>\n",
       "      <th>14</th>\n",
       "      <td>15</td>\n",
       "      <td>Minnesota Vikings</td>\n",
       "      <td>4</td>\n",
       "      <td>86</td>\n",
       "      <td>1376</td>\n",
       "      <td>254</td>\n",
       "      <td>5.4</td>\n",
       "      <td>5</td>\n",
       "      <td>1</td>\n",
       "      <td>92</td>\n",
       "      <td>...</td>\n",
       "      <td>4.4</td>\n",
       "      <td>22</td>\n",
       "      <td>16</td>\n",
       "      <td>95</td>\n",
       "      <td>11</td>\n",
       "      <td>38.6</td>\n",
       "      <td>11.4</td>\n",
       "      <td>20.12</td>\n",
       "      <td>9</td>\n",
       "      <td>6</td>\n",
       "    </tr>\n",
       "    <tr>\n",
       "      <th>15</th>\n",
       "      <td>16</td>\n",
       "      <td>Tampa Bay Buccaneers</td>\n",
       "      <td>4</td>\n",
       "      <td>82</td>\n",
       "      <td>1268</td>\n",
       "      <td>245</td>\n",
       "      <td>5.2</td>\n",
       "      <td>6</td>\n",
       "      <td>5</td>\n",
       "      <td>77</td>\n",
       "      <td>...</td>\n",
       "      <td>3.1</td>\n",
       "      <td>13</td>\n",
       "      <td>24</td>\n",
       "      <td>206</td>\n",
       "      <td>9</td>\n",
       "      <td>34.8</td>\n",
       "      <td>10.9</td>\n",
       "      <td>-3.64</td>\n",
       "      <td>7</td>\n",
       "      <td>11</td>\n",
       "    </tr>\n",
       "    <tr>\n",
       "      <th>16</th>\n",
       "      <td>17</td>\n",
       "      <td>Carolina Panthers</td>\n",
       "      <td>4</td>\n",
       "      <td>78</td>\n",
       "      <td>1049</td>\n",
       "      <td>214</td>\n",
       "      <td>4.9</td>\n",
       "      <td>6</td>\n",
       "      <td>3</td>\n",
       "      <td>56</td>\n",
       "      <td>...</td>\n",
       "      <td>4.5</td>\n",
       "      <td>22</td>\n",
       "      <td>23</td>\n",
       "      <td>250</td>\n",
       "      <td>7</td>\n",
       "      <td>31.1</td>\n",
       "      <td>11.1</td>\n",
       "      <td>-25.26</td>\n",
       "      <td>6</td>\n",
       "      <td>9</td>\n",
       "    </tr>\n",
       "    <tr>\n",
       "      <th>17</th>\n",
       "      <td>18</td>\n",
       "      <td>New Orleans Saints</td>\n",
       "      <td>4</td>\n",
       "      <td>76</td>\n",
       "      <td>1457</td>\n",
       "      <td>244</td>\n",
       "      <td>6.0</td>\n",
       "      <td>11</td>\n",
       "      <td>6</td>\n",
       "      <td>74</td>\n",
       "      <td>...</td>\n",
       "      <td>5.1</td>\n",
       "      <td>23</td>\n",
       "      <td>34</td>\n",
       "      <td>319</td>\n",
       "      <td>5</td>\n",
       "      <td>27.1</td>\n",
       "      <td>20.8</td>\n",
       "      <td>-11.00</td>\n",
       "      <td>9</td>\n",
       "      <td>17</td>\n",
       "    </tr>\n",
       "    <tr>\n",
       "      <th>18</th>\n",
       "      <td>19</td>\n",
       "      <td>New York Giants</td>\n",
       "      <td>4</td>\n",
       "      <td>76</td>\n",
       "      <td>1328</td>\n",
       "      <td>256</td>\n",
       "      <td>5.2</td>\n",
       "      <td>5</td>\n",
       "      <td>2</td>\n",
       "      <td>80</td>\n",
       "      <td>...</td>\n",
       "      <td>5.7</td>\n",
       "      <td>43</td>\n",
       "      <td>31</td>\n",
       "      <td>219</td>\n",
       "      <td>9</td>\n",
       "      <td>35.6</td>\n",
       "      <td>8.9</td>\n",
       "      <td>6.34</td>\n",
       "      <td>7</td>\n",
       "      <td>7</td>\n",
       "    </tr>\n",
       "    <tr>\n",
       "      <th>19</th>\n",
       "      <td>20</td>\n",
       "      <td>New York Jets</td>\n",
       "      <td>4</td>\n",
       "      <td>76</td>\n",
       "      <td>1458</td>\n",
       "      <td>289</td>\n",
       "      <td>5.0</td>\n",
       "      <td>9</td>\n",
       "      <td>4</td>\n",
       "      <td>82</td>\n",
       "      <td>...</td>\n",
       "      <td>4.1</td>\n",
       "      <td>15</td>\n",
       "      <td>25</td>\n",
       "      <td>257</td>\n",
       "      <td>8</td>\n",
       "      <td>32.6</td>\n",
       "      <td>19.6</td>\n",
       "      <td>-10.79</td>\n",
       "      <td>8</td>\n",
       "      <td>13</td>\n",
       "    </tr>\n",
       "    <tr>\n",
       "      <th>20</th>\n",
       "      <td>21</td>\n",
       "      <td>Green Bay Packers</td>\n",
       "      <td>4</td>\n",
       "      <td>75</td>\n",
       "      <td>1510</td>\n",
       "      <td>259</td>\n",
       "      <td>5.8</td>\n",
       "      <td>7</td>\n",
       "      <td>4</td>\n",
       "      <td>85</td>\n",
       "      <td>...</td>\n",
       "      <td>5.0</td>\n",
       "      <td>34</td>\n",
       "      <td>17</td>\n",
       "      <td>140</td>\n",
       "      <td>5</td>\n",
       "      <td>28.3</td>\n",
       "      <td>15.2</td>\n",
       "      <td>16.07</td>\n",
       "      <td>9</td>\n",
       "      <td>11</td>\n",
       "    </tr>\n",
       "    <tr>\n",
       "      <th>21</th>\n",
       "      <td>22</td>\n",
       "      <td>Tennessee Titans</td>\n",
       "      <td>4</td>\n",
       "      <td>75</td>\n",
       "      <td>1150</td>\n",
       "      <td>220</td>\n",
       "      <td>5.2</td>\n",
       "      <td>6</td>\n",
       "      <td>3</td>\n",
       "      <td>69</td>\n",
       "      <td>...</td>\n",
       "      <td>3.8</td>\n",
       "      <td>19</td>\n",
       "      <td>29</td>\n",
       "      <td>262</td>\n",
       "      <td>9</td>\n",
       "      <td>31.0</td>\n",
       "      <td>9.5</td>\n",
       "      <td>2.39</td>\n",
       "      <td>9</td>\n",
       "      <td>9</td>\n",
       "    </tr>\n",
       "    <tr>\n",
       "      <th>22</th>\n",
       "      <td>23</td>\n",
       "      <td>Pittsburgh Steelers</td>\n",
       "      <td>4</td>\n",
       "      <td>74</td>\n",
       "      <td>1115</td>\n",
       "      <td>234</td>\n",
       "      <td>4.8</td>\n",
       "      <td>7</td>\n",
       "      <td>2</td>\n",
       "      <td>69</td>\n",
       "      <td>...</td>\n",
       "      <td>4.0</td>\n",
       "      <td>25</td>\n",
       "      <td>24</td>\n",
       "      <td>159</td>\n",
       "      <td>4</td>\n",
       "      <td>30.4</td>\n",
       "      <td>13.0</td>\n",
       "      <td>-15.59</td>\n",
       "      <td>6</td>\n",
       "      <td>9</td>\n",
       "    </tr>\n",
       "    <tr>\n",
       "      <th>23</th>\n",
       "      <td>24</td>\n",
       "      <td>New England Patriots</td>\n",
       "      <td>4</td>\n",
       "      <td>74</td>\n",
       "      <td>1365</td>\n",
       "      <td>241</td>\n",
       "      <td>5.7</td>\n",
       "      <td>9</td>\n",
       "      <td>4</td>\n",
       "      <td>74</td>\n",
       "      <td>...</td>\n",
       "      <td>4.5</td>\n",
       "      <td>33</td>\n",
       "      <td>20</td>\n",
       "      <td>161</td>\n",
       "      <td>3</td>\n",
       "      <td>28.6</td>\n",
       "      <td>21.4</td>\n",
       "      <td>-0.64</td>\n",
       "      <td>8</td>\n",
       "      <td>13</td>\n",
       "    </tr>\n",
       "    <tr>\n",
       "      <th>24</th>\n",
       "      <td>25</td>\n",
       "      <td>Houston Texans</td>\n",
       "      <td>4</td>\n",
       "      <td>73</td>\n",
       "      <td>1208</td>\n",
       "      <td>237</td>\n",
       "      <td>5.1</td>\n",
       "      <td>5</td>\n",
       "      <td>1</td>\n",
       "      <td>68</td>\n",
       "      <td>...</td>\n",
       "      <td>4.5</td>\n",
       "      <td>19</td>\n",
       "      <td>26</td>\n",
       "      <td>226</td>\n",
       "      <td>11</td>\n",
       "      <td>31.3</td>\n",
       "      <td>10.4</td>\n",
       "      <td>-12.95</td>\n",
       "      <td>7</td>\n",
       "      <td>6</td>\n",
       "    </tr>\n",
       "    <tr>\n",
       "      <th>25</th>\n",
       "      <td>26</td>\n",
       "      <td>Washington Commanders</td>\n",
       "      <td>4</td>\n",
       "      <td>73</td>\n",
       "      <td>1323</td>\n",
       "      <td>287</td>\n",
       "      <td>4.6</td>\n",
       "      <td>7</td>\n",
       "      <td>2</td>\n",
       "      <td>84</td>\n",
       "      <td>...</td>\n",
       "      <td>4.1</td>\n",
       "      <td>24</td>\n",
       "      <td>23</td>\n",
       "      <td>264</td>\n",
       "      <td>8</td>\n",
       "      <td>21.6</td>\n",
       "      <td>13.7</td>\n",
       "      <td>-16.38</td>\n",
       "      <td>10</td>\n",
       "      <td>9</td>\n",
       "    </tr>\n",
       "    <tr>\n",
       "      <th>26</th>\n",
       "      <td>27</td>\n",
       "      <td>Dallas Cowboys</td>\n",
       "      <td>4</td>\n",
       "      <td>71</td>\n",
       "      <td>1251</td>\n",
       "      <td>241</td>\n",
       "      <td>5.2</td>\n",
       "      <td>2</td>\n",
       "      <td>1</td>\n",
       "      <td>69</td>\n",
       "      <td>...</td>\n",
       "      <td>4.0</td>\n",
       "      <td>22</td>\n",
       "      <td>27</td>\n",
       "      <td>208</td>\n",
       "      <td>7</td>\n",
       "      <td>35.6</td>\n",
       "      <td>4.4</td>\n",
       "      <td>1.65</td>\n",
       "      <td>6</td>\n",
       "      <td>3</td>\n",
       "    </tr>\n",
       "    <tr>\n",
       "      <th>27</th>\n",
       "      <td>28</td>\n",
       "      <td>San Francisco 49ers</td>\n",
       "      <td>4</td>\n",
       "      <td>71</td>\n",
       "      <td>1298</td>\n",
       "      <td>238</td>\n",
       "      <td>5.5</td>\n",
       "      <td>5</td>\n",
       "      <td>3</td>\n",
       "      <td>68</td>\n",
       "      <td>...</td>\n",
       "      <td>4.4</td>\n",
       "      <td>29</td>\n",
       "      <td>24</td>\n",
       "      <td>190</td>\n",
       "      <td>8</td>\n",
       "      <td>27.3</td>\n",
       "      <td>11.4</td>\n",
       "      <td>-1.21</td>\n",
       "      <td>7</td>\n",
       "      <td>8</td>\n",
       "    </tr>\n",
       "    <tr>\n",
       "      <th>28</th>\n",
       "      <td>29</td>\n",
       "      <td>Los Angeles Rams</td>\n",
       "      <td>4</td>\n",
       "      <td>70</td>\n",
       "      <td>1176</td>\n",
       "      <td>248</td>\n",
       "      <td>4.7</td>\n",
       "      <td>9</td>\n",
       "      <td>3</td>\n",
       "      <td>79</td>\n",
       "      <td>...</td>\n",
       "      <td>3.3</td>\n",
       "      <td>17</td>\n",
       "      <td>14</td>\n",
       "      <td>131</td>\n",
       "      <td>6</td>\n",
       "      <td>35.9</td>\n",
       "      <td>23.1</td>\n",
       "      <td>-8.08</td>\n",
       "      <td>7</td>\n",
       "      <td>12</td>\n",
       "    </tr>\n",
       "    <tr>\n",
       "      <th>29</th>\n",
       "      <td>30</td>\n",
       "      <td>Denver Broncos</td>\n",
       "      <td>4</td>\n",
       "      <td>66</td>\n",
       "      <td>1343</td>\n",
       "      <td>247</td>\n",
       "      <td>5.4</td>\n",
       "      <td>4</td>\n",
       "      <td>3</td>\n",
       "      <td>66</td>\n",
       "      <td>...</td>\n",
       "      <td>4.2</td>\n",
       "      <td>20</td>\n",
       "      <td>37</td>\n",
       "      <td>286</td>\n",
       "      <td>7</td>\n",
       "      <td>31.8</td>\n",
       "      <td>9.1</td>\n",
       "      <td>-6.92</td>\n",
       "      <td>6</td>\n",
       "      <td>7</td>\n",
       "    </tr>\n",
       "    <tr>\n",
       "      <th>30</th>\n",
       "      <td>31</td>\n",
       "      <td>Chicago Bears</td>\n",
       "      <td>4</td>\n",
       "      <td>64</td>\n",
       "      <td>1099</td>\n",
       "      <td>219</td>\n",
       "      <td>5.0</td>\n",
       "      <td>7</td>\n",
       "      <td>3</td>\n",
       "      <td>59</td>\n",
       "      <td>...</td>\n",
       "      <td>5.2</td>\n",
       "      <td>34</td>\n",
       "      <td>21</td>\n",
       "      <td>171</td>\n",
       "      <td>8</td>\n",
       "      <td>31.8</td>\n",
       "      <td>13.6</td>\n",
       "      <td>-5.87</td>\n",
       "      <td>6</td>\n",
       "      <td>10</td>\n",
       "    </tr>\n",
       "    <tr>\n",
       "      <th>31</th>\n",
       "      <td>32</td>\n",
       "      <td>Indianapolis Colts</td>\n",
       "      <td>4</td>\n",
       "      <td>57</td>\n",
       "      <td>1359</td>\n",
       "      <td>270</td>\n",
       "      <td>5.0</td>\n",
       "      <td>9</td>\n",
       "      <td>4</td>\n",
       "      <td>82</td>\n",
       "      <td>...</td>\n",
       "      <td>3.5</td>\n",
       "      <td>22</td>\n",
       "      <td>23</td>\n",
       "      <td>203</td>\n",
       "      <td>5</td>\n",
       "      <td>25.0</td>\n",
       "      <td>20.5</td>\n",
       "      <td>-18.74</td>\n",
       "      <td>6</td>\n",
       "      <td>13</td>\n",
       "    </tr>\n",
       "  </tbody>\n",
       "</table>\n",
       "<p>32 rows × 30 columns</p>\n",
       "</div>"
      ],
      "text/plain": [
       "    rank                   team  games  points_scored  total_yards  \\\n",
       "0      1          Detroit Lions      4            140         1747   \n",
       "1      2     Kansas City Chiefs      4            129         1539   \n",
       "2      3       Baltimore Ravens      4            119         1437   \n",
       "3      4    Philadelphia Eagles      4            115         1742   \n",
       "4      5          Buffalo Bills      4            114         1650   \n",
       "5      6       Cleveland Browns      4            105         1539   \n",
       "6      7   Jacksonville Jaguars      4            105         1346   \n",
       "7      8        Atlanta Falcons      4            103         1396   \n",
       "8      9         Miami Dolphins      4             98         1444   \n",
       "9     10      Las Vegas Raiders      4             96         1425   \n",
       "10    11       Seattle Seahawks      4             95         1444   \n",
       "11    12   Los Angeles Chargers      4             92         1487   \n",
       "12    13     Cincinnati Bengals      4             91         1387   \n",
       "13    14      Arizona Cardinals      4             88         1398   \n",
       "14    15      Minnesota Vikings      4             86         1376   \n",
       "15    16   Tampa Bay Buccaneers      4             82         1268   \n",
       "16    17      Carolina Panthers      4             78         1049   \n",
       "17    18     New Orleans Saints      4             76         1457   \n",
       "18    19        New York Giants      4             76         1328   \n",
       "19    20          New York Jets      4             76         1458   \n",
       "20    21      Green Bay Packers      4             75         1510   \n",
       "21    22       Tennessee Titans      4             75         1150   \n",
       "22    23    Pittsburgh Steelers      4             74         1115   \n",
       "23    24   New England Patriots      4             74         1365   \n",
       "24    25         Houston Texans      4             73         1208   \n",
       "25    26  Washington Commanders      4             73         1323   \n",
       "26    27         Dallas Cowboys      4             71         1251   \n",
       "27    28    San Francisco 49ers      4             71         1298   \n",
       "28    29       Los Angeles Rams      4             70         1176   \n",
       "29    30         Denver Broncos      4             66         1343   \n",
       "30    31          Chicago Bears      4             64         1099   \n",
       "31    32     Indianapolis Colts      4             57         1359   \n",
       "\n",
       "    offensive_plays  yards_per_play  turnovers_lost  fumbles_lost  1st_downs  \\\n",
       "0               269             6.5               4             1         90   \n",
       "1               257             6.0               4             2         95   \n",
       "2               230             6.2               5             1         77   \n",
       "3               285             6.1               2             0         98   \n",
       "4               275             6.0               7             4         99   \n",
       "5               281             5.5               3             1         96   \n",
       "6               250             5.4               6             4         83   \n",
       "7               236             5.9               8             4         86   \n",
       "8               227             6.4               4             0         80   \n",
       "9               256             5.6               5             1         87   \n",
       "10              228             6.3               6             3         83   \n",
       "11              264             5.6               4             2         77   \n",
       "12              290             4.8               6             2         87   \n",
       "13              292             4.8               2             0         89   \n",
       "14              254             5.4               5             1         92   \n",
       "15              245             5.2               6             5         77   \n",
       "16              214             4.9               6             3         56   \n",
       "17              244             6.0              11             6         74   \n",
       "18              256             5.2               5             2         80   \n",
       "19              289             5.0               9             4         82   \n",
       "20              259             5.8               7             4         85   \n",
       "21              220             5.2               6             3         69   \n",
       "22              234             4.8               7             2         69   \n",
       "23              241             5.7               9             4         74   \n",
       "24              237             5.1               5             1         68   \n",
       "25              287             4.6               7             2         84   \n",
       "26              241             5.2               2             1         69   \n",
       "27              238             5.5               5             3         68   \n",
       "28              248             4.7               9             3         79   \n",
       "29              247             5.4               4             3         66   \n",
       "30              219             5.0               7             3         59   \n",
       "31              270             5.0               9             4         82   \n",
       "\n",
       "    ...  rushing_yards_per_attempt  rushing_1st_downs  penalties  \\\n",
       "0   ...                        5.9                 26         23   \n",
       "1   ...                        4.5                 23         19   \n",
       "2   ...                        5.4                 31         17   \n",
       "3   ...                        4.3                 40         26   \n",
       "4   ...                        4.8                 29         24   \n",
       "5   ...                        5.0                 46         26   \n",
       "6   ...                        4.0                 23         22   \n",
       "7   ...                        5.1                 36         16   \n",
       "8   ...                        3.5                 15         22   \n",
       "9   ...                        5.0                 26         23   \n",
       "10  ...                        5.2                 26         32   \n",
       "11  ...                        2.7                 17         21   \n",
       "12  ...                        3.1                 18         22   \n",
       "13  ...                        4.1                 33         30   \n",
       "14  ...                        4.4                 22         16   \n",
       "15  ...                        3.1                 13         24   \n",
       "16  ...                        4.5                 22         23   \n",
       "17  ...                        5.1                 23         34   \n",
       "18  ...                        5.7                 43         31   \n",
       "19  ...                        4.1                 15         25   \n",
       "20  ...                        5.0                 34         17   \n",
       "21  ...                        3.8                 19         29   \n",
       "22  ...                        4.0                 25         24   \n",
       "23  ...                        4.5                 33         20   \n",
       "24  ...                        4.5                 19         26   \n",
       "25  ...                        4.1                 24         23   \n",
       "26  ...                        4.0                 22         27   \n",
       "27  ...                        4.4                 29         24   \n",
       "28  ...                        3.3                 17         14   \n",
       "29  ...                        4.2                 20         37   \n",
       "30  ...                        5.2                 34         21   \n",
       "31  ...                        3.5                 22         23   \n",
       "\n",
       "    penalty_yards  1st_down_penalties  percentage_scoring_drives  \\\n",
       "0             188                   7                       45.8   \n",
       "1             156                  10                       50.0   \n",
       "2             114                   7                       42.2   \n",
       "3             193                   9                       40.0   \n",
       "4             167                   7                       47.5   \n",
       "5             184                   7                       46.3   \n",
       "6             157                   8                       40.9   \n",
       "7             114                  12                       44.2   \n",
       "8             132                   9                       42.1   \n",
       "9             148                   5                       50.0   \n",
       "10            306                   9                       44.1   \n",
       "11            161                   5                       36.4   \n",
       "12            166                  11                       37.5   \n",
       "13            280                   6                       36.6   \n",
       "14             95                  11                       38.6   \n",
       "15            206                   9                       34.8   \n",
       "16            250                   7                       31.1   \n",
       "17            319                   5                       27.1   \n",
       "18            219                   9                       35.6   \n",
       "19            257                   8                       32.6   \n",
       "20            140                   5                       28.3   \n",
       "21            262                   9                       31.0   \n",
       "22            159                   4                       30.4   \n",
       "23            161                   3                       28.6   \n",
       "24            226                  11                       31.3   \n",
       "25            264                   8                       21.6   \n",
       "26            208                   7                       35.6   \n",
       "27            190                   8                       27.3   \n",
       "28            131                   6                       35.9   \n",
       "29            286                   7                       31.8   \n",
       "30            171                   8                       31.8   \n",
       "31            203                   5                       25.0   \n",
       "\n",
       "    percentage_turnover_drives  expected_points  touchdowns  lost  \n",
       "0                          8.3            53.17          18     5  \n",
       "1                          7.1            57.85          15     6  \n",
       "2                         11.1            32.97          14     6  \n",
       "3                          4.4            44.88          14     2  \n",
       "4                         17.5            49.56          12    11  \n",
       "5                          7.3            40.78          11     4  \n",
       "6                         13.6            17.69          11    10  \n",
       "7                         18.6            30.77           9    12  \n",
       "8                         10.5            46.01          11     4  \n",
       "9                         12.5            23.26           8     6  \n",
       "10                        11.8            42.94           9     9  \n",
       "11                         6.8            17.02          11     6  \n",
       "12                        12.5             6.37           9     8  \n",
       "13                         4.9             8.95           9     2  \n",
       "14                        11.4            20.12           9     6  \n",
       "15                        10.9            -3.64           7    11  \n",
       "16                        11.1           -25.26           6     9  \n",
       "17                        20.8           -11.00           9    17  \n",
       "18                         8.9             6.34           7     7  \n",
       "19                        19.6           -10.79           8    13  \n",
       "20                        15.2            16.07           9    11  \n",
       "21                         9.5             2.39           9     9  \n",
       "22                        13.0           -15.59           6     9  \n",
       "23                        21.4            -0.64           8    13  \n",
       "24                        10.4           -12.95           7     6  \n",
       "25                        13.7           -16.38          10     9  \n",
       "26                         4.4             1.65           6     3  \n",
       "27                        11.4            -1.21           7     8  \n",
       "28                        23.1            -8.08           7    12  \n",
       "29                         9.1            -6.92           6     7  \n",
       "30                        13.6            -5.87           6    10  \n",
       "31                        20.5           -18.74           6    13  \n",
       "\n",
       "[32 rows x 30 columns]"
      ]
     },
     "execution_count": 5,
     "metadata": {},
     "output_type": "execute_result"
    }
   ],
   "source": [
    "w4[\"lost\"] = w4[\"turnovers_lost\"]+w4[\"fumbles_lost\"]\n",
    "w4"
   ]
  },
  {
   "cell_type": "markdown",
   "metadata": {
    "cell_id": "7f2b8929536b47678bdb1869d5c3e7c1",
    "deepnote_cell_type": "markdown",
    "tags": []
   },
   "source": [
    "## Using Altair chart to show the relationship between their offense performance and the rank\n"
   ]
  },
  {
   "cell_type": "code",
   "execution_count": 6,
   "metadata": {
    "cell_id": "b14032e1fef04ba59d240b92d01340af",
    "deepnote_cell_type": "code",
    "deepnote_to_be_reexecuted": false,
    "execution_millis": 10,
    "execution_start": 1670476290024,
    "source_hash": "17c21ea9",
    "tags": []
   },
   "outputs": [],
   "source": [
    "c1 = alt.Chart(w4).mark_circle().encode(\n",
    "    x=\"yards_per_play\",\n",
    "    y=\"points_scored\",\n",
    "    color =alt.Color(\"rank\", scale=alt.Scale(scheme=\"goldgreen\")),\n",
    "    tooltip =[\"team\", \"yards_per_play\", \"points_scored\"]\n",
    ")"
   ]
  },
  {
   "cell_type": "code",
   "execution_count": 7,
   "metadata": {
    "cell_id": "a37087790e194f84a90eb20d1dd9924b",
    "deepnote_cell_type": "code",
    "deepnote_to_be_reexecuted": false,
    "execution_millis": 45,
    "execution_start": 1670476290040,
    "source_hash": "3517cd09",
    "tags": []
   },
   "outputs": [
    {
     "data": {
      "text/html": [
       "\n",
       "<div id=\"altair-viz-d720605da85f40e5a59b8e900ce51b81\"></div>\n",
       "<script type=\"text/javascript\">\n",
       "  var VEGA_DEBUG = (typeof VEGA_DEBUG == \"undefined\") ? {} : VEGA_DEBUG;\n",
       "  (function(spec, embedOpt){\n",
       "    let outputDiv = document.currentScript.previousElementSibling;\n",
       "    if (outputDiv.id !== \"altair-viz-d720605da85f40e5a59b8e900ce51b81\") {\n",
       "      outputDiv = document.getElementById(\"altair-viz-d720605da85f40e5a59b8e900ce51b81\");\n",
       "    }\n",
       "    const paths = {\n",
       "      \"vega\": \"https://cdn.jsdelivr.net/npm//vega@5?noext\",\n",
       "      \"vega-lib\": \"https://cdn.jsdelivr.net/npm//vega-lib?noext\",\n",
       "      \"vega-lite\": \"https://cdn.jsdelivr.net/npm//vega-lite@4.17.0?noext\",\n",
       "      \"vega-embed\": \"https://cdn.jsdelivr.net/npm//vega-embed@6?noext\",\n",
       "    };\n",
       "\n",
       "    function maybeLoadScript(lib, version) {\n",
       "      var key = `${lib.replace(\"-\", \"\")}_version`;\n",
       "      return (VEGA_DEBUG[key] == version) ?\n",
       "        Promise.resolve(paths[lib]) :\n",
       "        new Promise(function(resolve, reject) {\n",
       "          var s = document.createElement('script');\n",
       "          document.getElementsByTagName(\"head\")[0].appendChild(s);\n",
       "          s.async = true;\n",
       "          s.onload = () => {\n",
       "            VEGA_DEBUG[key] = version;\n",
       "            return resolve(paths[lib]);\n",
       "          };\n",
       "          s.onerror = () => reject(`Error loading script: ${paths[lib]}`);\n",
       "          s.src = paths[lib];\n",
       "        });\n",
       "    }\n",
       "\n",
       "    function showError(err) {\n",
       "      outputDiv.innerHTML = `<div class=\"error\" style=\"color:red;\">${err}</div>`;\n",
       "      throw err;\n",
       "    }\n",
       "\n",
       "    function displayChart(vegaEmbed) {\n",
       "      vegaEmbed(outputDiv, spec, embedOpt)\n",
       "        .catch(err => showError(`Javascript Error: ${err.message}<br>This usually means there's a typo in your chart specification. See the javascript console for the full traceback.`));\n",
       "    }\n",
       "\n",
       "    if(typeof define === \"function\" && define.amd) {\n",
       "      requirejs.config({paths});\n",
       "      require([\"vega-embed\"], displayChart, err => showError(`Error loading script: ${err.message}`));\n",
       "    } else {\n",
       "      maybeLoadScript(\"vega\", \"5\")\n",
       "        .then(() => maybeLoadScript(\"vega-lite\", \"4.17.0\"))\n",
       "        .then(() => maybeLoadScript(\"vega-embed\", \"6\"))\n",
       "        .catch(showError)\n",
       "        .then(() => displayChart(vegaEmbed));\n",
       "    }\n",
       "  })({\"config\": {\"view\": {\"continuousWidth\": 400, \"continuousHeight\": 300}}, \"data\": {\"name\": \"data-33ebbf30e2888d8eeb1fd9b0ca0a54b0\"}, \"mark\": \"circle\", \"encoding\": {\"color\": {\"field\": \"rank\", \"scale\": {\"scheme\": \"goldgreen\"}, \"type\": \"quantitative\"}, \"tooltip\": [{\"field\": \"team\", \"type\": \"nominal\"}, {\"field\": \"yards_per_play\", \"type\": \"quantitative\"}, {\"field\": \"points_scored\", \"type\": \"quantitative\"}], \"x\": {\"field\": \"yards_per_play\", \"type\": \"quantitative\"}, \"y\": {\"field\": \"points_scored\", \"type\": \"quantitative\"}}, \"$schema\": \"https://vega.github.io/schema/vega-lite/v4.17.0.json\", \"datasets\": {\"data-33ebbf30e2888d8eeb1fd9b0ca0a54b0\": [{\"rank\": 1, \"team\": \"Detroit Lions\", \"games\": 4, \"points_scored\": 140, \"total_yards\": 1747, \"offensive_plays\": 269, \"yards_per_play\": 6.5, \"turnovers_lost\": 4, \"fumbles_lost\": 1, \"1st_downs\": 90, \"passes_completed\": 93, \"passes_attempted\": 152, \"passing_yards\": 1091, \"passing_touchdowns\": 11, \"passing_interceptions\": 3, \"net_yards_per_pass_attempt\": 6.9, \"passing_1st_downs\": 57, \"rushing_attempts\": 112, \"rushing_yards\": 656, \"rushing_touchdowns\": 7, \"rushing_yards_per_attempt\": 5.9, \"rushing_1st_downs\": 26, \"penalties\": 23, \"penalty_yards\": 188, \"1st_down_penalties\": 7, \"percentage_scoring_drives\": 45.8, \"percentage_turnover_drives\": 8.3, \"expected_points\": 53.17, \"touchdowns\": 18, \"lost\": 5}, {\"rank\": 2, \"team\": \"Kansas City Chiefs\", \"games\": 4, \"points_scored\": 129, \"total_yards\": 1539, \"offensive_plays\": 257, \"yards_per_play\": 6.0, \"turnovers_lost\": 4, \"fumbles_lost\": 2, \"1st_downs\": 95, \"passes_completed\": 97, \"passes_attempted\": 147, \"passing_yards\": 1071, \"passing_touchdowns\": 11, \"passing_interceptions\": 2, \"net_yards_per_pass_attempt\": 7.0, \"passing_1st_downs\": 62, \"rushing_attempts\": 105, \"rushing_yards\": 468, \"rushing_touchdowns\": 4, \"rushing_yards_per_attempt\": 4.5, \"rushing_1st_downs\": 23, \"penalties\": 19, \"penalty_yards\": 156, \"1st_down_penalties\": 10, \"percentage_scoring_drives\": 50.0, \"percentage_turnover_drives\": 7.1, \"expected_points\": 57.85, \"touchdowns\": 15, \"lost\": 6}, {\"rank\": 3, \"team\": \"Baltimore Ravens\", \"games\": 4, \"points_scored\": 119, \"total_yards\": 1437, \"offensive_plays\": 230, \"yards_per_play\": 6.2, \"turnovers_lost\": 5, \"fumbles_lost\": 1, \"1st_downs\": 77, \"passes_completed\": 76, \"passes_attempted\": 117, \"passing_yards\": 869, \"passing_touchdowns\": 11, \"passing_interceptions\": 4, \"net_yards_per_pass_attempt\": 7.0, \"passing_1st_downs\": 39, \"rushing_attempts\": 105, \"rushing_yards\": 568, \"rushing_touchdowns\": 3, \"rushing_yards_per_attempt\": 5.4, \"rushing_1st_downs\": 31, \"penalties\": 17, \"penalty_yards\": 114, \"1st_down_penalties\": 7, \"percentage_scoring_drives\": 42.2, \"percentage_turnover_drives\": 11.1, \"expected_points\": 32.97, \"touchdowns\": 14, \"lost\": 6}, {\"rank\": 4, \"team\": \"Philadelphia Eagles\", \"games\": 4, \"points_scored\": 115, \"total_yards\": 1742, \"offensive_plays\": 285, \"yards_per_play\": 6.1, \"turnovers_lost\": 2, \"fumbles_lost\": 0, \"1st_downs\": 98, \"passes_completed\": 82, \"passes_attempted\": 123, \"passing_yards\": 1081, \"passing_touchdowns\": 4, \"passing_interceptions\": 2, \"net_yards_per_pass_attempt\": 8.2, \"passing_1st_downs\": 49, \"rushing_attempts\": 153, \"rushing_yards\": 661, \"rushing_touchdowns\": 10, \"rushing_yards_per_attempt\": 4.3, \"rushing_1st_downs\": 40, \"penalties\": 26, \"penalty_yards\": 193, \"1st_down_penalties\": 9, \"percentage_scoring_drives\": 40.0, \"percentage_turnover_drives\": 4.4, \"expected_points\": 44.88, \"touchdowns\": 14, \"lost\": 2}, {\"rank\": 5, \"team\": \"Buffalo Bills\", \"games\": 4, \"points_scored\": 114, \"total_yards\": 1650, \"offensive_plays\": 275, \"yards_per_play\": 6.0, \"turnovers_lost\": 7, \"fumbles_lost\": 4, \"1st_downs\": 99, \"passes_completed\": 113, \"passes_attempted\": 170, \"passing_yards\": 1188, \"passing_touchdowns\": 10, \"passing_interceptions\": 3, \"net_yards_per_pass_attempt\": 6.7, \"passing_1st_downs\": 63, \"rushing_attempts\": 97, \"rushing_yards\": 462, \"rushing_touchdowns\": 2, \"rushing_yards_per_attempt\": 4.8, \"rushing_1st_downs\": 29, \"penalties\": 24, \"penalty_yards\": 167, \"1st_down_penalties\": 7, \"percentage_scoring_drives\": 47.5, \"percentage_turnover_drives\": 17.5, \"expected_points\": 49.56, \"touchdowns\": 12, \"lost\": 11}, {\"rank\": 6, \"team\": \"Cleveland Browns\", \"games\": 4, \"points_scored\": 105, \"total_yards\": 1539, \"offensive_plays\": 281, \"yards_per_play\": 5.5, \"turnovers_lost\": 3, \"fumbles_lost\": 1, \"1st_downs\": 96, \"passes_completed\": 82, \"passes_attempted\": 127, \"passing_yards\": 790, \"passing_touchdowns\": 4, \"passing_interceptions\": 2, \"net_yards_per_pass_attempt\": 6.0, \"passing_1st_downs\": 43, \"rushing_attempts\": 149, \"rushing_yards\": 749, \"rushing_touchdowns\": 7, \"rushing_yards_per_attempt\": 5.0, \"rushing_1st_downs\": 46, \"penalties\": 26, \"penalty_yards\": 184, \"1st_down_penalties\": 7, \"percentage_scoring_drives\": 46.3, \"percentage_turnover_drives\": 7.3, \"expected_points\": 40.78, \"touchdowns\": 11, \"lost\": 4}, {\"rank\": 7, \"team\": \"Jacksonville Jaguars\", \"games\": 4, \"points_scored\": 105, \"total_yards\": 1346, \"offensive_plays\": 250, \"yards_per_play\": 5.4, \"turnovers_lost\": 6, \"fumbles_lost\": 4, \"1st_downs\": 83, \"passes_completed\": 88, \"passes_attempted\": 134, \"passing_yards\": 905, \"passing_touchdowns\": 8, \"passing_interceptions\": 2, \"net_yards_per_pass_attempt\": 6.5, \"passing_1st_downs\": 52, \"rushing_attempts\": 110, \"rushing_yards\": 441, \"rushing_touchdowns\": 3, \"rushing_yards_per_attempt\": 4.0, \"rushing_1st_downs\": 23, \"penalties\": 22, \"penalty_yards\": 157, \"1st_down_penalties\": 8, \"percentage_scoring_drives\": 40.9, \"percentage_turnover_drives\": 13.6, \"expected_points\": 17.69, \"touchdowns\": 11, \"lost\": 10}, {\"rank\": 8, \"team\": \"Atlanta Falcons\", \"games\": 4, \"points_scored\": 103, \"total_yards\": 1396, \"offensive_plays\": 236, \"yards_per_play\": 5.9, \"turnovers_lost\": 8, \"fumbles_lost\": 4, \"1st_downs\": 86, \"passes_completed\": 57, \"passes_attempted\": 98, \"passing_yards\": 724, \"passing_touchdowns\": 3, \"passing_interceptions\": 4, \"net_yards_per_pass_attempt\": 6.9, \"passing_1st_downs\": 38, \"rushing_attempts\": 131, \"rushing_yards\": 672, \"rushing_touchdowns\": 6, \"rushing_yards_per_attempt\": 5.1, \"rushing_1st_downs\": 36, \"penalties\": 16, \"penalty_yards\": 114, \"1st_down_penalties\": 12, \"percentage_scoring_drives\": 44.2, \"percentage_turnover_drives\": 18.6, \"expected_points\": 30.77, \"touchdowns\": 9, \"lost\": 12}, {\"rank\": 9, \"team\": \"Miami Dolphins\", \"games\": 4, \"points_scored\": 98, \"total_yards\": 1444, \"offensive_plays\": 227, \"yards_per_play\": 6.4, \"turnovers_lost\": 4, \"fumbles_lost\": 0, \"1st_downs\": 80, \"passes_completed\": 94, \"passes_attempted\": 140, \"passing_yards\": 1167, \"passing_touchdowns\": 9, \"passing_interceptions\": 4, \"net_yards_per_pass_attempt\": 7.9, \"passing_1st_downs\": 56, \"rushing_attempts\": 80, \"rushing_yards\": 277, \"rushing_touchdowns\": 2, \"rushing_yards_per_attempt\": 3.5, \"rushing_1st_downs\": 15, \"penalties\": 22, \"penalty_yards\": 132, \"1st_down_penalties\": 9, \"percentage_scoring_drives\": 42.1, \"percentage_turnover_drives\": 10.5, \"expected_points\": 46.01, \"touchdowns\": 11, \"lost\": 4}, {\"rank\": 10, \"team\": \"Las Vegas Raiders\", \"games\": 4, \"points_scored\": 96, \"total_yards\": 1425, \"offensive_plays\": 256, \"yards_per_play\": 5.6, \"turnovers_lost\": 5, \"fumbles_lost\": 1, \"1st_downs\": 87, \"passes_completed\": 95, \"passes_attempted\": 155, \"passing_yards\": 973, \"passing_touchdowns\": 6, \"passing_interceptions\": 4, \"net_yards_per_pass_attempt\": 5.9, \"passing_1st_downs\": 56, \"rushing_attempts\": 91, \"rushing_yards\": 452, \"rushing_touchdowns\": 2, \"rushing_yards_per_attempt\": 5.0, \"rushing_1st_downs\": 26, \"penalties\": 23, \"penalty_yards\": 148, \"1st_down_penalties\": 5, \"percentage_scoring_drives\": 50.0, \"percentage_turnover_drives\": 12.5, \"expected_points\": 23.26, \"touchdowns\": 8, \"lost\": 6}, {\"rank\": 11, \"team\": \"Seattle Seahawks\", \"games\": 4, \"points_scored\": 95, \"total_yards\": 1444, \"offensive_plays\": 228, \"yards_per_play\": 6.3, \"turnovers_lost\": 6, \"fumbles_lost\": 3, \"1st_downs\": 83, \"passes_completed\": 102, \"passes_attempted\": 133, \"passing_yards\": 985, \"passing_touchdowns\": 6, \"passing_interceptions\": 3, \"net_yards_per_pass_attempt\": 7.1, \"passing_1st_downs\": 48, \"rushing_attempts\": 89, \"rushing_yards\": 459, \"rushing_touchdowns\": 3, \"rushing_yards_per_attempt\": 5.2, \"rushing_1st_downs\": 26, \"penalties\": 32, \"penalty_yards\": 306, \"1st_down_penalties\": 9, \"percentage_scoring_drives\": 44.1, \"percentage_turnover_drives\": 11.8, \"expected_points\": 42.94, \"touchdowns\": 9, \"lost\": 9}, {\"rank\": 12, \"team\": \"Los Angeles Chargers\", \"games\": 4, \"points_scored\": 92, \"total_yards\": 1487, \"offensive_plays\": 264, \"yards_per_play\": 5.6, \"turnovers_lost\": 4, \"fumbles_lost\": 2, \"1st_downs\": 77, \"passes_completed\": 111, \"passes_attempted\": 166, \"passing_yards\": 1229, \"passing_touchdowns\": 9, \"passing_interceptions\": 2, \"net_yards_per_pass_attempt\": 7.2, \"passing_1st_downs\": 55, \"rushing_attempts\": 94, \"rushing_yards\": 258, \"rushing_touchdowns\": 2, \"rushing_yards_per_attempt\": 2.7, \"rushing_1st_downs\": 17, \"penalties\": 21, \"penalty_yards\": 161, \"1st_down_penalties\": 5, \"percentage_scoring_drives\": 36.4, \"percentage_turnover_drives\": 6.8, \"expected_points\": 17.02, \"touchdowns\": 11, \"lost\": 6}, {\"rank\": 13, \"team\": \"Cincinnati Bengals\", \"games\": 4, \"points_scored\": 91, \"total_yards\": 1387, \"offensive_plays\": 290, \"yards_per_play\": 4.8, \"turnovers_lost\": 6, \"fumbles_lost\": 2, \"1st_downs\": 87, \"passes_completed\": 101, \"passes_attempted\": 157, \"passing_yards\": 1029, \"passing_touchdowns\": 8, \"passing_interceptions\": 4, \"net_yards_per_pass_attempt\": 5.9, \"passing_1st_downs\": 58, \"rushing_attempts\": 117, \"rushing_yards\": 358, \"rushing_touchdowns\": 1, \"rushing_yards_per_attempt\": 3.1, \"rushing_1st_downs\": 18, \"penalties\": 22, \"penalty_yards\": 166, \"1st_down_penalties\": 11, \"percentage_scoring_drives\": 37.5, \"percentage_turnover_drives\": 12.5, \"expected_points\": 6.37, \"touchdowns\": 9, \"lost\": 8}, {\"rank\": 14, \"team\": \"Arizona Cardinals\", \"games\": 4, \"points_scored\": 88, \"total_yards\": 1398, \"offensive_plays\": 292, \"yards_per_play\": 4.8, \"turnovers_lost\": 2, \"fumbles_lost\": 0, \"1st_downs\": 89, \"passes_completed\": 115, \"passes_attempted\": 177, \"passing_yards\": 950, \"passing_touchdowns\": 5, \"passing_interceptions\": 2, \"net_yards_per_pass_attempt\": 5.2, \"passing_1st_downs\": 50, \"rushing_attempts\": 108, \"rushing_yards\": 448, \"rushing_touchdowns\": 4, \"rushing_yards_per_attempt\": 4.1, \"rushing_1st_downs\": 33, \"penalties\": 30, \"penalty_yards\": 280, \"1st_down_penalties\": 6, \"percentage_scoring_drives\": 36.6, \"percentage_turnover_drives\": 4.9, \"expected_points\": 8.95, \"touchdowns\": 9, \"lost\": 2}, {\"rank\": 15, \"team\": \"Minnesota Vikings\", \"games\": 4, \"points_scored\": 86, \"total_yards\": 1376, \"offensive_plays\": 254, \"yards_per_play\": 5.4, \"turnovers_lost\": 5, \"fumbles_lost\": 1, \"1st_downs\": 92, \"passes_completed\": 100, \"passes_attempted\": 158, \"passing_yards\": 984, \"passing_touchdowns\": 6, \"passing_interceptions\": 4, \"net_yards_per_pass_attempt\": 6.0, \"passing_1st_downs\": 59, \"rushing_attempts\": 89, \"rushing_yards\": 392, \"rushing_touchdowns\": 3, \"rushing_yards_per_attempt\": 4.4, \"rushing_1st_downs\": 22, \"penalties\": 16, \"penalty_yards\": 95, \"1st_down_penalties\": 11, \"percentage_scoring_drives\": 38.6, \"percentage_turnover_drives\": 11.4, \"expected_points\": 20.12, \"touchdowns\": 9, \"lost\": 6}, {\"rank\": 16, \"team\": \"Tampa Bay Buccaneers\", \"games\": 4, \"points_scored\": 82, \"total_yards\": 1268, \"offensive_plays\": 245, \"yards_per_play\": 5.2, \"turnovers_lost\": 6, \"fumbles_lost\": 5, \"1st_downs\": 77, \"passes_completed\": 106, \"passes_attempted\": 155, \"passing_yards\": 1007, \"passing_touchdowns\": 6, \"passing_interceptions\": 1, \"net_yards_per_pass_attempt\": 6.2, \"passing_1st_downs\": 55, \"rushing_attempts\": 83, \"rushing_yards\": 261, \"rushing_touchdowns\": 1, \"rushing_yards_per_attempt\": 3.1, \"rushing_1st_downs\": 13, \"penalties\": 24, \"penalty_yards\": 206, \"1st_down_penalties\": 9, \"percentage_scoring_drives\": 34.8, \"percentage_turnover_drives\": 10.9, \"expected_points\": -3.64, \"touchdowns\": 7, \"lost\": 11}, {\"rank\": 17, \"team\": \"Carolina Panthers\", \"games\": 4, \"points_scored\": 78, \"total_yards\": 1049, \"offensive_plays\": 214, \"yards_per_play\": 4.9, \"turnovers_lost\": 6, \"fumbles_lost\": 3, \"1st_downs\": 56, \"passes_completed\": 64, \"passes_attempted\": 117, \"passing_yards\": 664, \"passing_touchdowns\": 4, \"passing_interceptions\": 3, \"net_yards_per_pass_attempt\": 5.2, \"passing_1st_downs\": 27, \"rushing_attempts\": 86, \"rushing_yards\": 385, \"rushing_touchdowns\": 2, \"rushing_yards_per_attempt\": 4.5, \"rushing_1st_downs\": 22, \"penalties\": 23, \"penalty_yards\": 250, \"1st_down_penalties\": 7, \"percentage_scoring_drives\": 31.1, \"percentage_turnover_drives\": 11.1, \"expected_points\": -25.26, \"touchdowns\": 6, \"lost\": 9}, {\"rank\": 18, \"team\": \"New Orleans Saints\", \"games\": 4, \"points_scored\": 76, \"total_yards\": 1457, \"offensive_plays\": 244, \"yards_per_play\": 6.0, \"turnovers_lost\": 11, \"fumbles_lost\": 6, \"1st_downs\": 74, \"passes_completed\": 93, \"passes_attempted\": 143, \"passing_yards\": 1011, \"passing_touchdowns\": 5, \"passing_interceptions\": 5, \"net_yards_per_pass_attempt\": 6.5, \"passing_1st_downs\": 46, \"rushing_attempts\": 88, \"rushing_yards\": 446, \"rushing_touchdowns\": 4, \"rushing_yards_per_attempt\": 5.1, \"rushing_1st_downs\": 23, \"penalties\": 34, \"penalty_yards\": 319, \"1st_down_penalties\": 5, \"percentage_scoring_drives\": 27.1, \"percentage_turnover_drives\": 20.8, \"expected_points\": -11.0, \"touchdowns\": 9, \"lost\": 17}, {\"rank\": 19, \"team\": \"New York Giants\", \"games\": 4, \"points_scored\": 76, \"total_yards\": 1328, \"offensive_plays\": 256, \"yards_per_play\": 5.2, \"turnovers_lost\": 5, \"fumbles_lost\": 2, \"1st_downs\": 80, \"passes_completed\": 68, \"passes_attempted\": 108, \"passing_yards\": 558, \"passing_touchdowns\": 3, \"passing_interceptions\": 3, \"net_yards_per_pass_attempt\": 4.6, \"passing_1st_downs\": 28, \"rushing_attempts\": 134, \"rushing_yards\": 770, \"rushing_touchdowns\": 4, \"rushing_yards_per_attempt\": 5.7, \"rushing_1st_downs\": 43, \"penalties\": 31, \"penalty_yards\": 219, \"1st_down_penalties\": 9, \"percentage_scoring_drives\": 35.6, \"percentage_turnover_drives\": 8.9, \"expected_points\": 6.34, \"touchdowns\": 7, \"lost\": 7}, {\"rank\": 20, \"team\": \"New York Jets\", \"games\": 4, \"points_scored\": 76, \"total_yards\": 1458, \"offensive_plays\": 289, \"yards_per_play\": 5.0, \"turnovers_lost\": 9, \"fumbles_lost\": 4, \"1st_downs\": 82, \"passes_completed\": 111, \"passes_attempted\": 193, \"passing_yards\": 1108, \"passing_touchdowns\": 7, \"passing_interceptions\": 5, \"net_yards_per_pass_attempt\": 5.5, \"passing_1st_downs\": 59, \"rushing_attempts\": 86, \"rushing_yards\": 350, \"rushing_touchdowns\": 1, \"rushing_yards_per_attempt\": 4.1, \"rushing_1st_downs\": 15, \"penalties\": 25, \"penalty_yards\": 257, \"1st_down_penalties\": 8, \"percentage_scoring_drives\": 32.6, \"percentage_turnover_drives\": 19.6, \"expected_points\": -10.79, \"touchdowns\": 8, \"lost\": 13}, {\"rank\": 21, \"team\": \"Green Bay Packers\", \"games\": 4, \"points_scored\": 75, \"total_yards\": 1510, \"offensive_plays\": 259, \"yards_per_play\": 5.8, \"turnovers_lost\": 7, \"fumbles_lost\": 4, \"1st_downs\": 85, \"passes_completed\": 93, \"passes_attempted\": 134, \"passing_yards\": 930, \"passing_touchdowns\": 6, \"passing_interceptions\": 3, \"net_yards_per_pass_attempt\": 6.5, \"passing_1st_downs\": 46, \"rushing_attempts\": 116, \"rushing_yards\": 580, \"rushing_touchdowns\": 3, \"rushing_yards_per_attempt\": 5.0, \"rushing_1st_downs\": 34, \"penalties\": 17, \"penalty_yards\": 140, \"1st_down_penalties\": 5, \"percentage_scoring_drives\": 28.3, \"percentage_turnover_drives\": 15.2, \"expected_points\": 16.07, \"touchdowns\": 9, \"lost\": 11}, {\"rank\": 22, \"team\": \"Tennessee Titans\", \"games\": 4, \"points_scored\": 75, \"total_yards\": 1150, \"offensive_plays\": 220, \"yards_per_play\": 5.2, \"turnovers_lost\": 6, \"fumbles_lost\": 3, \"1st_downs\": 69, \"passes_completed\": 68, \"passes_attempted\": 105, \"passing_yards\": 741, \"passing_touchdowns\": 5, \"passing_interceptions\": 3, \"net_yards_per_pass_attempt\": 6.6, \"passing_1st_downs\": 41, \"rushing_attempts\": 108, \"rushing_yards\": 409, \"rushing_touchdowns\": 4, \"rushing_yards_per_attempt\": 3.8, \"rushing_1st_downs\": 19, \"penalties\": 29, \"penalty_yards\": 262, \"1st_down_penalties\": 9, \"percentage_scoring_drives\": 31.0, \"percentage_turnover_drives\": 9.5, \"expected_points\": 2.39, \"touchdowns\": 9, \"lost\": 9}, {\"rank\": 23, \"team\": \"Pittsburgh Steelers\", \"games\": 4, \"points_scored\": 74, \"total_yards\": 1115, \"offensive_plays\": 234, \"yards_per_play\": 4.8, \"turnovers_lost\": 7, \"fumbles_lost\": 2, \"1st_downs\": 69, \"passes_completed\": 79, \"passes_attempted\": 129, \"passing_yards\": 726, \"passing_touchdowns\": 2, \"passing_interceptions\": 5, \"net_yards_per_pass_attempt\": 5.3, \"passing_1st_downs\": 40, \"rushing_attempts\": 97, \"rushing_yards\": 389, \"rushing_touchdowns\": 4, \"rushing_yards_per_attempt\": 4.0, \"rushing_1st_downs\": 25, \"penalties\": 24, \"penalty_yards\": 159, \"1st_down_penalties\": 4, \"percentage_scoring_drives\": 30.4, \"percentage_turnover_drives\": 13.0, \"expected_points\": -15.59, \"touchdowns\": 6, \"lost\": 9}, {\"rank\": 24, \"team\": \"New England Patriots\", \"games\": 4, \"points_scored\": 74, \"total_yards\": 1365, \"offensive_plays\": 241, \"yards_per_play\": 5.7, \"turnovers_lost\": 9, \"fumbles_lost\": 4, \"1st_downs\": 74, \"passes_completed\": 79, \"passes_attempted\": 118, \"passing_yards\": 851, \"passing_touchdowns\": 3, \"passing_interceptions\": 5, \"net_yards_per_pass_attempt\": 6.7, \"passing_1st_downs\": 38, \"rushing_attempts\": 114, \"rushing_yards\": 514, \"rushing_touchdowns\": 5, \"rushing_yards_per_attempt\": 4.5, \"rushing_1st_downs\": 33, \"penalties\": 20, \"penalty_yards\": 161, \"1st_down_penalties\": 3, \"percentage_scoring_drives\": 28.6, \"percentage_turnover_drives\": 21.4, \"expected_points\": -0.64, \"touchdowns\": 8, \"lost\": 13}, {\"rank\": 25, \"team\": \"Houston Texans\", \"games\": 4, \"points_scored\": 73, \"total_yards\": 1208, \"offensive_plays\": 237, \"yards_per_play\": 5.1, \"turnovers_lost\": 5, \"fumbles_lost\": 1, \"1st_downs\": 68, \"passes_completed\": 88, \"passes_attempted\": 142, \"passing_yards\": 828, \"passing_touchdowns\": 5, \"passing_interceptions\": 4, \"net_yards_per_pass_attempt\": 5.4, \"passing_1st_downs\": 38, \"rushing_attempts\": 84, \"rushing_yards\": 380, \"rushing_touchdowns\": 2, \"rushing_yards_per_attempt\": 4.5, \"rushing_1st_downs\": 19, \"penalties\": 26, \"penalty_yards\": 226, \"1st_down_penalties\": 11, \"percentage_scoring_drives\": 31.3, \"percentage_turnover_drives\": 10.4, \"expected_points\": -12.95, \"touchdowns\": 7, \"lost\": 6}, {\"rank\": 26, \"team\": \"Washington Commanders\", \"games\": 4, \"points_scored\": 73, \"total_yards\": 1323, \"offensive_plays\": 287, \"yards_per_play\": 4.6, \"turnovers_lost\": 7, \"fumbles_lost\": 2, \"1st_downs\": 84, \"passes_completed\": 107, \"passes_attempted\": 172, \"passing_yards\": 921, \"passing_touchdowns\": 8, \"passing_interceptions\": 5, \"net_yards_per_pass_attempt\": 4.9, \"passing_1st_downs\": 52, \"rushing_attempts\": 98, \"rushing_yards\": 402, \"rushing_touchdowns\": 2, \"rushing_yards_per_attempt\": 4.1, \"rushing_1st_downs\": 24, \"penalties\": 23, \"penalty_yards\": 264, \"1st_down_penalties\": 8, \"percentage_scoring_drives\": 21.6, \"percentage_turnover_drives\": 13.7, \"expected_points\": -16.38, \"touchdowns\": 10, \"lost\": 9}, {\"rank\": 27, \"team\": \"Dallas Cowboys\", \"games\": 4, \"points_scored\": 71, \"total_yards\": 1251, \"offensive_plays\": 241, \"yards_per_play\": 5.2, \"turnovers_lost\": 2, \"fumbles_lost\": 1, \"1st_downs\": 69, \"passes_completed\": 76, \"passes_attempted\": 131, \"passing_yards\": 835, \"passing_touchdowns\": 4, \"passing_interceptions\": 1, \"net_yards_per_pass_attempt\": 6.1, \"passing_1st_downs\": 40, \"rushing_attempts\": 104, \"rushing_yards\": 416, \"rushing_touchdowns\": 2, \"rushing_yards_per_attempt\": 4.0, \"rushing_1st_downs\": 22, \"penalties\": 27, \"penalty_yards\": 208, \"1st_down_penalties\": 7, \"percentage_scoring_drives\": 35.6, \"percentage_turnover_drives\": 4.4, \"expected_points\": 1.65, \"touchdowns\": 6, \"lost\": 3}, {\"rank\": 28, \"team\": \"San Francisco 49ers\", \"games\": 4, \"points_scored\": 71, \"total_yards\": 1298, \"offensive_plays\": 238, \"yards_per_play\": 5.5, \"turnovers_lost\": 5, \"fumbles_lost\": 3, \"1st_downs\": 68, \"passes_completed\": 62, \"passes_attempted\": 108, \"passing_yards\": 757, \"passing_touchdowns\": 3, \"passing_interceptions\": 2, \"net_yards_per_pass_attempt\": 6.6, \"passing_1st_downs\": 31, \"rushing_attempts\": 123, \"rushing_yards\": 541, \"rushing_touchdowns\": 4, \"rushing_yards_per_attempt\": 4.4, \"rushing_1st_downs\": 29, \"penalties\": 24, \"penalty_yards\": 190, \"1st_down_penalties\": 8, \"percentage_scoring_drives\": 27.3, \"percentage_turnover_drives\": 11.4, \"expected_points\": -1.21, \"touchdowns\": 7, \"lost\": 8}, {\"rank\": 29, \"team\": \"Los Angeles Rams\", \"games\": 4, \"points_scored\": 70, \"total_yards\": 1176, \"offensive_plays\": 248, \"yards_per_play\": 4.7, \"turnovers_lost\": 9, \"fumbles_lost\": 3, \"1st_downs\": 79, \"passes_completed\": 106, \"passes_attempted\": 150, \"passing_yards\": 902, \"passing_touchdowns\": 4, \"passing_interceptions\": 6, \"net_yards_per_pass_attempt\": 5.4, \"passing_1st_downs\": 56, \"rushing_attempts\": 82, \"rushing_yards\": 274, \"rushing_touchdowns\": 3, \"rushing_yards_per_attempt\": 3.3, \"rushing_1st_downs\": 17, \"penalties\": 14, \"penalty_yards\": 131, \"1st_down_penalties\": 6, \"percentage_scoring_drives\": 35.9, \"percentage_turnover_drives\": 23.1, \"expected_points\": -8.08, \"touchdowns\": 7, \"lost\": 12}, {\"rank\": 30, \"team\": \"Denver Broncos\", \"games\": 4, \"points_scored\": 66, \"total_yards\": 1343, \"offensive_plays\": 247, \"yards_per_play\": 5.4, \"turnovers_lost\": 4, \"fumbles_lost\": 3, \"1st_downs\": 66, \"passes_completed\": 80, \"passes_attempted\": 131, \"passing_yards\": 905, \"passing_touchdowns\": 4, \"passing_interceptions\": 1, \"net_yards_per_pass_attempt\": 6.3, \"passing_1st_downs\": 39, \"rushing_attempts\": 104, \"rushing_yards\": 438, \"rushing_touchdowns\": 2, \"rushing_yards_per_attempt\": 4.2, \"rushing_1st_downs\": 20, \"penalties\": 37, \"penalty_yards\": 286, \"1st_down_penalties\": 7, \"percentage_scoring_drives\": 31.8, \"percentage_turnover_drives\": 9.1, \"expected_points\": -6.92, \"touchdowns\": 6, \"lost\": 7}, {\"rank\": 31, \"team\": \"Chicago Bears\", \"games\": 4, \"points_scored\": 64, \"total_yards\": 1099, \"offensive_plays\": 219, \"yards_per_play\": 5.0, \"turnovers_lost\": 7, \"fumbles_lost\": 3, \"1st_downs\": 59, \"passes_completed\": 34, \"passes_attempted\": 67, \"passing_yards\": 390, \"passing_touchdowns\": 2, \"passing_interceptions\": 4, \"net_yards_per_pass_attempt\": 4.7, \"passing_1st_downs\": 17, \"rushing_attempts\": 136, \"rushing_yards\": 709, \"rushing_touchdowns\": 4, \"rushing_yards_per_attempt\": 5.2, \"rushing_1st_downs\": 34, \"penalties\": 21, \"penalty_yards\": 171, \"1st_down_penalties\": 8, \"percentage_scoring_drives\": 31.8, \"percentage_turnover_drives\": 13.6, \"expected_points\": -5.87, \"touchdowns\": 6, \"lost\": 10}, {\"rank\": 32, \"team\": \"Indianapolis Colts\", \"games\": 4, \"points_scored\": 57, \"total_yards\": 1359, \"offensive_plays\": 270, \"yards_per_play\": 5.0, \"turnovers_lost\": 9, \"fumbles_lost\": 4, \"1st_downs\": 82, \"passes_completed\": 102, \"passes_attempted\": 154, \"passing_yards\": 1008, \"passing_touchdowns\": 5, \"passing_interceptions\": 5, \"net_yards_per_pass_attempt\": 6.0, \"passing_1st_downs\": 55, \"rushing_attempts\": 101, \"rushing_yards\": 351, \"rushing_touchdowns\": 1, \"rushing_yards_per_attempt\": 3.5, \"rushing_1st_downs\": 22, \"penalties\": 23, \"penalty_yards\": 203, \"1st_down_penalties\": 5, \"percentage_scoring_drives\": 25.0, \"percentage_turnover_drives\": 20.5, \"expected_points\": -18.74, \"touchdowns\": 6, \"lost\": 13}]}}, {\"mode\": \"vega-lite\"});\n",
       "</script>"
      ],
      "text/plain": [
       "alt.Chart(...)"
      ]
     },
     "execution_count": 7,
     "metadata": {},
     "output_type": "execute_result"
    }
   ],
   "source": [
    "c1"
   ]
  },
  {
   "cell_type": "code",
   "execution_count": 8,
   "metadata": {
    "cell_id": "640ab7f5240c4bae83a14a77a605130c",
    "deepnote_cell_type": "code",
    "deepnote_to_be_reexecuted": false,
    "execution_millis": 11,
    "execution_start": 1670476290083,
    "source_hash": "81b9a059",
    "tags": []
   },
   "outputs": [
    {
     "data": {
      "text/plain": [
       "Index(['rank', 'team', 'games', 'points_scored', 'total_yards',\n",
       "       'offensive_plays', 'yards_per_play', 'turnovers_lost', 'fumbles_lost',\n",
       "       '1st_downs', 'passes_completed', 'passes_attempted', 'passing_yards',\n",
       "       'passing_touchdowns', 'passing_interceptions',\n",
       "       'net_yards_per_pass_attempt', 'passing_1st_downs', 'rushing_attempts',\n",
       "       'rushing_yards', 'rushing_touchdowns', 'rushing_yards_per_attempt',\n",
       "       'rushing_1st_downs', 'penalties', 'penalty_yards', '1st_down_penalties',\n",
       "       'percentage_scoring_drives', 'percentage_turnover_drives',\n",
       "       'expected_points', 'touchdowns', 'lost'],\n",
       "      dtype='object')"
      ]
     },
     "execution_count": 8,
     "metadata": {},
     "output_type": "execute_result"
    }
   ],
   "source": [
    "w4.columns"
   ]
  },
  {
   "cell_type": "markdown",
   "metadata": {
    "cell_id": "230dce4b153e42cd91230ded60430d49",
    "deepnote_cell_type": "markdown",
    "tags": []
   },
   "source": [
    "from above altair chart, we can tell lighter yellow means higher rank, darker green means lower rank, in the middle part. Since Green and Yello is totally different, so we can directly see the relationship between rank and offense performance. Miami Dolphins gets top yards_per_play in the league, but the rank is low."
   ]
  },
  {
   "cell_type": "markdown",
   "metadata": {
    "cell_id": "aabb79747487429fabe96eb08de7b9c4",
    "deepnote_cell_type": "markdown",
    "tags": []
   },
   "source": [
    "## Using DecisionTree to classify to predict"
   ]
  },
  {
   "cell_type": "markdown",
   "metadata": {
    "cell_id": "3d522b90812a4ffc9137fceec34c2a97",
    "deepnote_cell_type": "markdown",
    "tags": []
   },
   "source": [
    "I want to find the relationship between yards per play and teams' touchdowns, so I use decision tree to predict them."
   ]
  },
  {
   "cell_type": "code",
   "execution_count": 9,
   "metadata": {
    "cell_id": "849d70ab6479419f9351499229d24a2d",
    "deepnote_cell_type": "code",
    "deepnote_to_be_reexecuted": false,
    "execution_millis": 7,
    "execution_start": 1670476290088,
    "source_hash": "c5f2449",
    "tags": []
   },
   "outputs": [],
   "source": [
    "from sklearn.preprocessing import StandardScaler\n",
    "from sklearn.model_selection import train_test_split\n",
    "from sklearn.tree import DecisionTreeClassifier\n",
    "from pandas.api.types import is_numeric_dtype"
   ]
  },
  {
   "cell_type": "code",
   "execution_count": 10,
   "metadata": {
    "cell_id": "ab706184da9f4eadb028471e25d11a7f",
    "deepnote_cell_type": "code",
    "deepnote_to_be_reexecuted": false,
    "execution_millis": 59,
    "execution_start": 1670476290099,
    "source_hash": "326d3496",
    "tags": []
   },
   "outputs": [
    {
     "data": {
      "application/vnd.deepnote.dataframe.v3+json": {
       "column_count": 6,
       "columns": [
        {
         "dtype": "int64",
         "name": "points_scored",
         "stats": {
          "histogram": [
           {
            "bin_end": 65.3,
            "bin_start": 57,
            "count": 2
           },
           {
            "bin_end": 73.6,
            "bin_start": 65.3,
            "count": 6
           },
           {
            "bin_end": 81.9,
            "bin_start": 73.6,
            "count": 8
           },
           {
            "bin_end": 90.2,
            "bin_start": 81.9,
            "count": 3
           },
           {
            "bin_end": 98.5,
            "bin_start": 90.2,
            "count": 5
           },
           {
            "bin_end": 106.80000000000001,
            "bin_start": 98.5,
            "count": 3
           },
           {
            "bin_end": 115.10000000000001,
            "bin_start": 106.80000000000001,
            "count": 2
           },
           {
            "bin_end": 123.4,
            "bin_start": 115.10000000000001,
            "count": 1
           },
           {
            "bin_end": 131.7,
            "bin_start": 123.4,
            "count": 1
           },
           {
            "bin_end": 140,
            "bin_start": 131.7,
            "count": 1
           }
          ],
          "max": "140",
          "min": "57",
          "nan_count": 0,
          "unique_count": 25
         }
        },
        {
         "dtype": "float64",
         "name": "yards_per_play",
         "stats": {
          "histogram": [
           {
            "bin_end": 4.79,
            "bin_start": 4.6,
            "count": 2
           },
           {
            "bin_end": 4.9799999999999995,
            "bin_start": 4.79,
            "count": 4
           },
           {
            "bin_end": 5.17,
            "bin_start": 4.9799999999999995,
            "count": 4
           },
           {
            "bin_end": 5.359999999999999,
            "bin_start": 5.17,
            "count": 4
           },
           {
            "bin_end": 5.55,
            "bin_start": 5.359999999999999,
            "count": 5
           },
           {
            "bin_end": 5.74,
            "bin_start": 5.55,
            "count": 3
           },
           {
            "bin_end": 5.93,
            "bin_start": 5.74,
            "count": 2
           },
           {
            "bin_end": 6.12,
            "bin_start": 5.93,
            "count": 4
           },
           {
            "bin_end": 6.31,
            "bin_start": 6.12,
            "count": 2
           },
           {
            "bin_end": 6.5,
            "bin_start": 6.31,
            "count": 2
           }
          ],
          "max": "6.5",
          "min": "4.6",
          "nan_count": 0,
          "unique_count": 19
         }
        },
        {
         "dtype": "int64",
         "name": "offensive_plays",
         "stats": {
          "histogram": [
           {
            "bin_end": 221.8,
            "bin_start": 214,
            "count": 3
           },
           {
            "bin_end": 229.6,
            "bin_start": 221.8,
            "count": 2
           },
           {
            "bin_end": 237.4,
            "bin_start": 229.6,
            "count": 4
           },
           {
            "bin_end": 245.2,
            "bin_start": 237.4,
            "count": 5
           },
           {
            "bin_end": 253,
            "bin_start": 245.2,
            "count": 3
           },
           {
            "bin_end": 260.8,
            "bin_start": 253,
            "count": 5
           },
           {
            "bin_end": 268.6,
            "bin_start": 260.8,
            "count": 1
           },
           {
            "bin_end": 276.4,
            "bin_start": 268.6,
            "count": 3
           },
           {
            "bin_end": 284.2,
            "bin_start": 276.4,
            "count": 1
           },
           {
            "bin_end": 292,
            "bin_start": 284.2,
            "count": 5
           }
          ],
          "max": "292",
          "min": "214",
          "nan_count": 0,
          "unique_count": 30
         }
        },
        {
         "dtype": "int64",
         "name": "passes_completed",
         "stats": {
          "histogram": [
           {
            "bin_end": 42.1,
            "bin_start": 34,
            "count": 1
           },
           {
            "bin_end": 50.2,
            "bin_start": 42.1,
            "count": 0
           },
           {
            "bin_end": 58.3,
            "bin_start": 50.2,
            "count": 1
           },
           {
            "bin_end": 66.4,
            "bin_start": 58.3,
            "count": 2
           },
           {
            "bin_end": 74.5,
            "bin_start": 66.4,
            "count": 2
           },
           {
            "bin_end": 82.6,
            "bin_start": 74.5,
            "count": 7
           },
           {
            "bin_end": 90.69999999999999,
            "bin_start": 82.6,
            "count": 2
           },
           {
            "bin_end": 98.8,
            "bin_start": 90.69999999999999,
            "count": 6
           },
           {
            "bin_end": 106.89999999999999,
            "bin_start": 98.8,
            "count": 6
           },
           {
            "bin_end": 115,
            "bin_start": 106.89999999999999,
            "count": 5
           }
          ],
          "max": "115",
          "min": "34",
          "nan_count": 0,
          "unique_count": 22
         }
        },
        {
         "dtype": "int64",
         "name": "passes_attempted",
         "stats": {
          "histogram": [
           {
            "bin_end": 79.6,
            "bin_start": 67,
            "count": 1
           },
           {
            "bin_end": 92.2,
            "bin_start": 79.6,
            "count": 0
           },
           {
            "bin_end": 104.8,
            "bin_start": 92.2,
            "count": 1
           },
           {
            "bin_end": 117.4,
            "bin_start": 104.8,
            "count": 5
           },
           {
            "bin_end": 130,
            "bin_start": 117.4,
            "count": 4
           },
           {
            "bin_end": 142.6,
            "bin_start": 130,
            "count": 7
           },
           {
            "bin_end": 155.2,
            "bin_start": 142.6,
            "count": 7
           },
           {
            "bin_end": 167.8,
            "bin_start": 155.2,
            "count": 3
           },
           {
            "bin_end": 180.39999999999998,
            "bin_start": 167.8,
            "count": 3
           },
           {
            "bin_end": 193,
            "bin_start": 180.39999999999998,
            "count": 1
           }
          ],
          "max": "193",
          "min": "67",
          "nan_count": 0,
          "unique_count": 27
         }
        },
        {
         "dtype": "int64",
         "name": "touchdowns",
         "stats": {
          "histogram": [
           {
            "bin_end": 7.2,
            "bin_start": 6,
            "count": 11
           },
           {
            "bin_end": 8.4,
            "bin_start": 7.2,
            "count": 3
           },
           {
            "bin_end": 9.6,
            "bin_start": 8.4,
            "count": 8
           },
           {
            "bin_end": 10.8,
            "bin_start": 9.6,
            "count": 1
           },
           {
            "bin_end": 12,
            "bin_start": 10.8,
            "count": 4
           },
           {
            "bin_end": 13.2,
            "bin_start": 12,
            "count": 1
           },
           {
            "bin_end": 14.4,
            "bin_start": 13.2,
            "count": 2
           },
           {
            "bin_end": 15.6,
            "bin_start": 14.4,
            "count": 1
           },
           {
            "bin_end": 16.799999999999997,
            "bin_start": 15.6,
            "count": 0
           },
           {
            "bin_end": 18,
            "bin_start": 16.799999999999997,
            "count": 1
           }
          ],
          "max": "18",
          "min": "6",
          "nan_count": 0,
          "unique_count": 10
         }
        },
        {
         "dtype": "int64",
         "name": "_deepnote_index_column"
        }
       ],
       "row_count": 32,
       "rows": [
        {
         "_deepnote_index_column": "0",
         "offensive_plays": "269",
         "passes_attempted": "152",
         "passes_completed": "93",
         "points_scored": "140",
         "touchdowns": "18",
         "yards_per_play": "6.5"
        },
        {
         "_deepnote_index_column": "1",
         "offensive_plays": "257",
         "passes_attempted": "147",
         "passes_completed": "97",
         "points_scored": "129",
         "touchdowns": "15",
         "yards_per_play": "6.0"
        },
        {
         "_deepnote_index_column": "2",
         "offensive_plays": "230",
         "passes_attempted": "117",
         "passes_completed": "76",
         "points_scored": "119",
         "touchdowns": "14",
         "yards_per_play": "6.2"
        },
        {
         "_deepnote_index_column": "3",
         "offensive_plays": "285",
         "passes_attempted": "123",
         "passes_completed": "82",
         "points_scored": "115",
         "touchdowns": "14",
         "yards_per_play": "6.1"
        },
        {
         "_deepnote_index_column": "4",
         "offensive_plays": "275",
         "passes_attempted": "170",
         "passes_completed": "113",
         "points_scored": "114",
         "touchdowns": "12",
         "yards_per_play": "6.0"
        },
        {
         "_deepnote_index_column": "5",
         "offensive_plays": "281",
         "passes_attempted": "127",
         "passes_completed": "82",
         "points_scored": "105",
         "touchdowns": "11",
         "yards_per_play": "5.5"
        },
        {
         "_deepnote_index_column": "6",
         "offensive_plays": "250",
         "passes_attempted": "134",
         "passes_completed": "88",
         "points_scored": "105",
         "touchdowns": "11",
         "yards_per_play": "5.4"
        },
        {
         "_deepnote_index_column": "7",
         "offensive_plays": "236",
         "passes_attempted": "98",
         "passes_completed": "57",
         "points_scored": "103",
         "touchdowns": "9",
         "yards_per_play": "5.9"
        },
        {
         "_deepnote_index_column": "8",
         "offensive_plays": "227",
         "passes_attempted": "140",
         "passes_completed": "94",
         "points_scored": "98",
         "touchdowns": "11",
         "yards_per_play": "6.4"
        },
        {
         "_deepnote_index_column": "9",
         "offensive_plays": "256",
         "passes_attempted": "155",
         "passes_completed": "95",
         "points_scored": "96",
         "touchdowns": "8",
         "yards_per_play": "5.6"
        }
       ]
      },
      "text/html": [
       "<div>\n",
       "<style scoped>\n",
       "    .dataframe tbody tr th:only-of-type {\n",
       "        vertical-align: middle;\n",
       "    }\n",
       "\n",
       "    .dataframe tbody tr th {\n",
       "        vertical-align: top;\n",
       "    }\n",
       "\n",
       "    .dataframe thead th {\n",
       "        text-align: right;\n",
       "    }\n",
       "</style>\n",
       "<table border=\"1\" class=\"dataframe\">\n",
       "  <thead>\n",
       "    <tr style=\"text-align: right;\">\n",
       "      <th></th>\n",
       "      <th>points_scored</th>\n",
       "      <th>yards_per_play</th>\n",
       "      <th>offensive_plays</th>\n",
       "      <th>passes_completed</th>\n",
       "      <th>passes_attempted</th>\n",
       "      <th>touchdowns</th>\n",
       "    </tr>\n",
       "  </thead>\n",
       "  <tbody>\n",
       "    <tr>\n",
       "      <th>0</th>\n",
       "      <td>140</td>\n",
       "      <td>6.5</td>\n",
       "      <td>269</td>\n",
       "      <td>93</td>\n",
       "      <td>152</td>\n",
       "      <td>18</td>\n",
       "    </tr>\n",
       "    <tr>\n",
       "      <th>1</th>\n",
       "      <td>129</td>\n",
       "      <td>6.0</td>\n",
       "      <td>257</td>\n",
       "      <td>97</td>\n",
       "      <td>147</td>\n",
       "      <td>15</td>\n",
       "    </tr>\n",
       "    <tr>\n",
       "      <th>2</th>\n",
       "      <td>119</td>\n",
       "      <td>6.2</td>\n",
       "      <td>230</td>\n",
       "      <td>76</td>\n",
       "      <td>117</td>\n",
       "      <td>14</td>\n",
       "    </tr>\n",
       "    <tr>\n",
       "      <th>3</th>\n",
       "      <td>115</td>\n",
       "      <td>6.1</td>\n",
       "      <td>285</td>\n",
       "      <td>82</td>\n",
       "      <td>123</td>\n",
       "      <td>14</td>\n",
       "    </tr>\n",
       "    <tr>\n",
       "      <th>4</th>\n",
       "      <td>114</td>\n",
       "      <td>6.0</td>\n",
       "      <td>275</td>\n",
       "      <td>113</td>\n",
       "      <td>170</td>\n",
       "      <td>12</td>\n",
       "    </tr>\n",
       "    <tr>\n",
       "      <th>5</th>\n",
       "      <td>105</td>\n",
       "      <td>5.5</td>\n",
       "      <td>281</td>\n",
       "      <td>82</td>\n",
       "      <td>127</td>\n",
       "      <td>11</td>\n",
       "    </tr>\n",
       "    <tr>\n",
       "      <th>6</th>\n",
       "      <td>105</td>\n",
       "      <td>5.4</td>\n",
       "      <td>250</td>\n",
       "      <td>88</td>\n",
       "      <td>134</td>\n",
       "      <td>11</td>\n",
       "    </tr>\n",
       "    <tr>\n",
       "      <th>7</th>\n",
       "      <td>103</td>\n",
       "      <td>5.9</td>\n",
       "      <td>236</td>\n",
       "      <td>57</td>\n",
       "      <td>98</td>\n",
       "      <td>9</td>\n",
       "    </tr>\n",
       "    <tr>\n",
       "      <th>8</th>\n",
       "      <td>98</td>\n",
       "      <td>6.4</td>\n",
       "      <td>227</td>\n",
       "      <td>94</td>\n",
       "      <td>140</td>\n",
       "      <td>11</td>\n",
       "    </tr>\n",
       "    <tr>\n",
       "      <th>9</th>\n",
       "      <td>96</td>\n",
       "      <td>5.6</td>\n",
       "      <td>256</td>\n",
       "      <td>95</td>\n",
       "      <td>155</td>\n",
       "      <td>8</td>\n",
       "    </tr>\n",
       "    <tr>\n",
       "      <th>10</th>\n",
       "      <td>95</td>\n",
       "      <td>6.3</td>\n",
       "      <td>228</td>\n",
       "      <td>102</td>\n",
       "      <td>133</td>\n",
       "      <td>9</td>\n",
       "    </tr>\n",
       "    <tr>\n",
       "      <th>11</th>\n",
       "      <td>92</td>\n",
       "      <td>5.6</td>\n",
       "      <td>264</td>\n",
       "      <td>111</td>\n",
       "      <td>166</td>\n",
       "      <td>11</td>\n",
       "    </tr>\n",
       "    <tr>\n",
       "      <th>12</th>\n",
       "      <td>91</td>\n",
       "      <td>4.8</td>\n",
       "      <td>290</td>\n",
       "      <td>101</td>\n",
       "      <td>157</td>\n",
       "      <td>9</td>\n",
       "    </tr>\n",
       "    <tr>\n",
       "      <th>13</th>\n",
       "      <td>88</td>\n",
       "      <td>4.8</td>\n",
       "      <td>292</td>\n",
       "      <td>115</td>\n",
       "      <td>177</td>\n",
       "      <td>9</td>\n",
       "    </tr>\n",
       "    <tr>\n",
       "      <th>14</th>\n",
       "      <td>86</td>\n",
       "      <td>5.4</td>\n",
       "      <td>254</td>\n",
       "      <td>100</td>\n",
       "      <td>158</td>\n",
       "      <td>9</td>\n",
       "    </tr>\n",
       "    <tr>\n",
       "      <th>15</th>\n",
       "      <td>82</td>\n",
       "      <td>5.2</td>\n",
       "      <td>245</td>\n",
       "      <td>106</td>\n",
       "      <td>155</td>\n",
       "      <td>7</td>\n",
       "    </tr>\n",
       "    <tr>\n",
       "      <th>16</th>\n",
       "      <td>78</td>\n",
       "      <td>4.9</td>\n",
       "      <td>214</td>\n",
       "      <td>64</td>\n",
       "      <td>117</td>\n",
       "      <td>6</td>\n",
       "    </tr>\n",
       "    <tr>\n",
       "      <th>17</th>\n",
       "      <td>76</td>\n",
       "      <td>6.0</td>\n",
       "      <td>244</td>\n",
       "      <td>93</td>\n",
       "      <td>143</td>\n",
       "      <td>9</td>\n",
       "    </tr>\n",
       "    <tr>\n",
       "      <th>18</th>\n",
       "      <td>76</td>\n",
       "      <td>5.2</td>\n",
       "      <td>256</td>\n",
       "      <td>68</td>\n",
       "      <td>108</td>\n",
       "      <td>7</td>\n",
       "    </tr>\n",
       "    <tr>\n",
       "      <th>19</th>\n",
       "      <td>76</td>\n",
       "      <td>5.0</td>\n",
       "      <td>289</td>\n",
       "      <td>111</td>\n",
       "      <td>193</td>\n",
       "      <td>8</td>\n",
       "    </tr>\n",
       "    <tr>\n",
       "      <th>20</th>\n",
       "      <td>75</td>\n",
       "      <td>5.8</td>\n",
       "      <td>259</td>\n",
       "      <td>93</td>\n",
       "      <td>134</td>\n",
       "      <td>9</td>\n",
       "    </tr>\n",
       "    <tr>\n",
       "      <th>21</th>\n",
       "      <td>75</td>\n",
       "      <td>5.2</td>\n",
       "      <td>220</td>\n",
       "      <td>68</td>\n",
       "      <td>105</td>\n",
       "      <td>9</td>\n",
       "    </tr>\n",
       "    <tr>\n",
       "      <th>22</th>\n",
       "      <td>74</td>\n",
       "      <td>4.8</td>\n",
       "      <td>234</td>\n",
       "      <td>79</td>\n",
       "      <td>129</td>\n",
       "      <td>6</td>\n",
       "    </tr>\n",
       "    <tr>\n",
       "      <th>23</th>\n",
       "      <td>74</td>\n",
       "      <td>5.7</td>\n",
       "      <td>241</td>\n",
       "      <td>79</td>\n",
       "      <td>118</td>\n",
       "      <td>8</td>\n",
       "    </tr>\n",
       "    <tr>\n",
       "      <th>24</th>\n",
       "      <td>73</td>\n",
       "      <td>5.1</td>\n",
       "      <td>237</td>\n",
       "      <td>88</td>\n",
       "      <td>142</td>\n",
       "      <td>7</td>\n",
       "    </tr>\n",
       "    <tr>\n",
       "      <th>25</th>\n",
       "      <td>73</td>\n",
       "      <td>4.6</td>\n",
       "      <td>287</td>\n",
       "      <td>107</td>\n",
       "      <td>172</td>\n",
       "      <td>10</td>\n",
       "    </tr>\n",
       "    <tr>\n",
       "      <th>26</th>\n",
       "      <td>71</td>\n",
       "      <td>5.2</td>\n",
       "      <td>241</td>\n",
       "      <td>76</td>\n",
       "      <td>131</td>\n",
       "      <td>6</td>\n",
       "    </tr>\n",
       "    <tr>\n",
       "      <th>27</th>\n",
       "      <td>71</td>\n",
       "      <td>5.5</td>\n",
       "      <td>238</td>\n",
       "      <td>62</td>\n",
       "      <td>108</td>\n",
       "      <td>7</td>\n",
       "    </tr>\n",
       "    <tr>\n",
       "      <th>28</th>\n",
       "      <td>70</td>\n",
       "      <td>4.7</td>\n",
       "      <td>248</td>\n",
       "      <td>106</td>\n",
       "      <td>150</td>\n",
       "      <td>7</td>\n",
       "    </tr>\n",
       "    <tr>\n",
       "      <th>29</th>\n",
       "      <td>66</td>\n",
       "      <td>5.4</td>\n",
       "      <td>247</td>\n",
       "      <td>80</td>\n",
       "      <td>131</td>\n",
       "      <td>6</td>\n",
       "    </tr>\n",
       "    <tr>\n",
       "      <th>30</th>\n",
       "      <td>64</td>\n",
       "      <td>5.0</td>\n",
       "      <td>219</td>\n",
       "      <td>34</td>\n",
       "      <td>67</td>\n",
       "      <td>6</td>\n",
       "    </tr>\n",
       "    <tr>\n",
       "      <th>31</th>\n",
       "      <td>57</td>\n",
       "      <td>5.0</td>\n",
       "      <td>270</td>\n",
       "      <td>102</td>\n",
       "      <td>154</td>\n",
       "      <td>6</td>\n",
       "    </tr>\n",
       "  </tbody>\n",
       "</table>\n",
       "</div>"
      ],
      "text/plain": [
       "    points_scored  yards_per_play  offensive_plays  passes_completed  \\\n",
       "0             140             6.5              269                93   \n",
       "1             129             6.0              257                97   \n",
       "2             119             6.2              230                76   \n",
       "3             115             6.1              285                82   \n",
       "4             114             6.0              275               113   \n",
       "5             105             5.5              281                82   \n",
       "6             105             5.4              250                88   \n",
       "7             103             5.9              236                57   \n",
       "8              98             6.4              227                94   \n",
       "9              96             5.6              256                95   \n",
       "10             95             6.3              228               102   \n",
       "11             92             5.6              264               111   \n",
       "12             91             4.8              290               101   \n",
       "13             88             4.8              292               115   \n",
       "14             86             5.4              254               100   \n",
       "15             82             5.2              245               106   \n",
       "16             78             4.9              214                64   \n",
       "17             76             6.0              244                93   \n",
       "18             76             5.2              256                68   \n",
       "19             76             5.0              289               111   \n",
       "20             75             5.8              259                93   \n",
       "21             75             5.2              220                68   \n",
       "22             74             4.8              234                79   \n",
       "23             74             5.7              241                79   \n",
       "24             73             5.1              237                88   \n",
       "25             73             4.6              287               107   \n",
       "26             71             5.2              241                76   \n",
       "27             71             5.5              238                62   \n",
       "28             70             4.7              248               106   \n",
       "29             66             5.4              247                80   \n",
       "30             64             5.0              219                34   \n",
       "31             57             5.0              270               102   \n",
       "\n",
       "    passes_attempted  touchdowns  \n",
       "0                152          18  \n",
       "1                147          15  \n",
       "2                117          14  \n",
       "3                123          14  \n",
       "4                170          12  \n",
       "5                127          11  \n",
       "6                134          11  \n",
       "7                 98           9  \n",
       "8                140          11  \n",
       "9                155           8  \n",
       "10               133           9  \n",
       "11               166          11  \n",
       "12               157           9  \n",
       "13               177           9  \n",
       "14               158           9  \n",
       "15               155           7  \n",
       "16               117           6  \n",
       "17               143           9  \n",
       "18               108           7  \n",
       "19               193           8  \n",
       "20               134           9  \n",
       "21               105           9  \n",
       "22               129           6  \n",
       "23               118           8  \n",
       "24               142           7  \n",
       "25               172          10  \n",
       "26               131           6  \n",
       "27               108           7  \n",
       "28               150           7  \n",
       "29               131           6  \n",
       "30                67           6  \n",
       "31               154           6  "
      ]
     },
     "execution_count": 10,
     "metadata": {},
     "output_type": "execute_result"
    }
   ],
   "source": [
    "\n",
    "w4_1 = w4[[\"points_scored\",\"yards_per_play\",\"offensive_plays\",\"passes_completed\",\"passes_attempted\",\"touchdowns\"]]\n",
    "w4_1"
   ]
  },
  {
   "cell_type": "code",
   "execution_count": 11,
   "metadata": {
    "cell_id": "1d6abd7f96774f10bafc2de227f04054",
    "deepnote_cell_type": "code",
    "deepnote_to_be_reexecuted": false,
    "execution_millis": 7,
    "execution_start": 1670476290160,
    "source_hash": "6e7b73a2",
    "tags": []
   },
   "outputs": [
    {
     "data": {
      "text/plain": [
       "['points_scored',\n",
       " 'yards_per_play',\n",
       " 'offensive_plays',\n",
       " 'passes_completed',\n",
       " 'passes_attempted',\n",
       " 'touchdowns']"
      ]
     },
     "execution_count": 11,
     "metadata": {},
     "output_type": "execute_result"
    }
   ],
   "source": [
    "num_cols = [c for c in w4_1.columns if is_numeric_dtype(w4[c])]\n",
    "num_cols"
   ]
  },
  {
   "cell_type": "code",
   "execution_count": 12,
   "metadata": {
    "cell_id": "74fe20fc3c234aa8975d09a99745c894",
    "deepnote_cell_type": "code",
    "deepnote_to_be_reexecuted": false,
    "execution_millis": 3,
    "execution_start": 1670476290170,
    "source_hash": "9139fd0f",
    "tags": []
   },
   "outputs": [
    {
     "data": {
      "text/plain": [
       "['points_scored',\n",
       " 'yards_per_play',\n",
       " 'offensive_plays',\n",
       " 'passes_completed',\n",
       " 'passes_attempted']"
      ]
     },
     "execution_count": 12,
     "metadata": {},
     "output_type": "execute_result"
    }
   ],
   "source": [
    "features = [c for c in w4_1 if c != \"touchdowns\"]\n",
    "features"
   ]
  },
  {
   "cell_type": "code",
   "execution_count": 13,
   "metadata": {
    "cell_id": "faaa3d90d92d43f088c05907f11dc586",
    "deepnote_cell_type": "code",
    "deepnote_to_be_reexecuted": false,
    "execution_millis": 0,
    "execution_start": 1670476290214,
    "source_hash": "f389cb94",
    "tags": []
   },
   "outputs": [],
   "source": [
    "x = w4_1[features]\n",
    "y = w4_1[\"touchdowns\"]"
   ]
  },
  {
   "cell_type": "code",
   "execution_count": 14,
   "metadata": {
    "cell_id": "6bfa80f4e47b456a8ca2fcecb4631cdc",
    "deepnote_cell_type": "code",
    "deepnote_to_be_reexecuted": false,
    "execution_millis": 0,
    "execution_start": 1670476290215,
    "source_hash": "3c76b03",
    "tags": []
   },
   "outputs": [],
   "source": [
    "X_train, X_test, y_train, y_test = train_test_split(w4_1, w4_1[\"touchdowns\"], test_size=0.2, random_state=0)"
   ]
  },
  {
   "cell_type": "code",
   "execution_count": 15,
   "metadata": {
    "cell_id": "a33bf716cc9a46a1bf72b5bfe9d5c61f",
    "deepnote_cell_type": "code",
    "deepnote_to_be_reexecuted": false,
    "execution_millis": 33,
    "execution_start": 1670476290215,
    "source_hash": "508797b8",
    "tags": []
   },
   "outputs": [],
   "source": [
    "clf = DecisionTreeClassifier(max_depth=6)"
   ]
  },
  {
   "cell_type": "code",
   "execution_count": 16,
   "metadata": {
    "cell_id": "35184cfdd2314f0b96d37c3d12114a65",
    "deepnote_cell_type": "code",
    "deepnote_to_be_reexecuted": false,
    "execution_millis": 4,
    "execution_start": 1670476290248,
    "source_hash": "cb9bc34b",
    "tags": []
   },
   "outputs": [
    {
     "data": {
      "text/plain": [
       "11    11\n",
       "22     6\n",
       "10     9\n",
       "2     14\n",
       "16     6\n",
       "14     9\n",
       "28     7\n",
       "Name: touchdowns, dtype: int64"
      ]
     },
     "execution_count": 16,
     "metadata": {},
     "output_type": "execute_result"
    }
   ],
   "source": [
    "X_test\n",
    "y_test"
   ]
  },
  {
   "cell_type": "code",
   "execution_count": 17,
   "metadata": {
    "cell_id": "91c82b581f0148f098eb3af73970ba59",
    "deepnote_cell_type": "code",
    "deepnote_to_be_reexecuted": false,
    "execution_millis": 3,
    "execution_start": 1670476290249,
    "source_hash": "641b2282",
    "tags": []
   },
   "outputs": [
    {
     "data": {
      "text/plain": [
       "26     6\n",
       "20     9\n",
       "13     9\n",
       "24     7\n",
       "5     11\n",
       "17     9\n",
       "8     11\n",
       "30     6\n",
       "25    10\n",
       "23     8\n",
       "1     15\n",
       "31     6\n",
       "6     11\n",
       "4     12\n",
       "18     7\n",
       "29     6\n",
       "19     8\n",
       "9      8\n",
       "7      9\n",
       "27     7\n",
       "3     14\n",
       "0     18\n",
       "21     9\n",
       "15     7\n",
       "12     9\n",
       "Name: touchdowns, dtype: int64"
      ]
     },
     "execution_count": 17,
     "metadata": {},
     "output_type": "execute_result"
    }
   ],
   "source": [
    "X_train\n",
    "y_train"
   ]
  },
  {
   "cell_type": "code",
   "execution_count": 18,
   "metadata": {
    "cell_id": "0ceb9277ffcd4e97bcf4fff639490b10",
    "deepnote_cell_type": "code",
    "deepnote_to_be_reexecuted": false,
    "execution_millis": 6,
    "execution_start": 1670476290250,
    "source_hash": "e7844c31",
    "tags": []
   },
   "outputs": [
    {
     "data": {
      "text/plain": [
       "DecisionTreeClassifier(max_depth=6)"
      ]
     },
     "execution_count": 18,
     "metadata": {},
     "output_type": "execute_result"
    }
   ],
   "source": [
    "clf.fit(X_train, y_train)"
   ]
  },
  {
   "cell_type": "code",
   "execution_count": 19,
   "metadata": {
    "cell_id": "3142fa2d146044c3929a6504bce411cb",
    "deepnote_cell_type": "code",
    "deepnote_to_be_reexecuted": false,
    "execution_millis": 3,
    "execution_start": 1670476290262,
    "source_hash": "2f42d172",
    "tags": []
   },
   "outputs": [
    {
     "data": {
      "text/plain": [
       "0.96"
      ]
     },
     "execution_count": 19,
     "metadata": {},
     "output_type": "execute_result"
    }
   ],
   "source": [
    "clf.score(X_train, y_train)"
   ]
  },
  {
   "cell_type": "code",
   "execution_count": 20,
   "metadata": {
    "cell_id": "6a72be509d00486aa1ec863522b22676",
    "deepnote_cell_type": "code",
    "deepnote_to_be_reexecuted": false,
    "execution_millis": 10,
    "execution_start": 1670476290266,
    "source_hash": "a356aeea",
    "tags": []
   },
   "outputs": [
    {
     "data": {
      "text/plain": [
       "0.8571428571428571"
      ]
     },
     "execution_count": 20,
     "metadata": {},
     "output_type": "execute_result"
    }
   ],
   "source": [
    "clf.score(X_test, y_test)"
   ]
  },
  {
   "cell_type": "code",
   "execution_count": 21,
   "metadata": {
    "cell_id": "1412bb84b895422ba1f8c35ef2a7370b",
    "deepnote_cell_type": "code",
    "deepnote_to_be_reexecuted": false,
    "execution_millis": 2,
    "execution_start": 1670476290277,
    "source_hash": "e8a3f753",
    "tags": []
   },
   "outputs": [],
   "source": [
    "from sklearn.tree import plot_tree\n",
    "import matplotlib.pyplot as plt"
   ]
  },
  {
   "cell_type": "code",
   "execution_count": 22,
   "metadata": {
    "cell_id": "c791f113f1714080bd9edb0915188125",
    "deepnote_cell_type": "code",
    "deepnote_to_be_reexecuted": false,
    "execution_millis": 1588,
    "execution_start": 1670476290321,
    "source_hash": "6961b633",
    "tags": []
   },
   "outputs": [
    {
     "data": {
      "image/png": "[encoded data removed]",
      "text/plain": [
       "<Figure size 900x1500 with 1 Axes>"
      ]
     },
     "metadata": {
      "image/png": {
       "height": 1175,
       "width": 717
      }
     },
     "output_type": "display_data"
    }
   ],
   "source": [
    "fig = plt.figure(figsize=(9,15))\n",
    "plot_tree(\n",
    "        clf,\n",
    "        feature_names=clf.feature_names_in_,\n",
    "        filled=True\n",
    "        \n",
    "    );"
   ]
  },
  {
   "cell_type": "markdown",
   "metadata": {
    "cell_id": "dc6d3139dec44e21b76aa6f4994cf351",
    "deepnote_cell_type": "markdown",
    "tags": []
   },
   "source": [
    "Based on above information, I choose max_depth is 6, and the train set value is 0.96 and the test value is round to 0.86, so this is not overfitting in this model. Also in the above Decission chart, we can see the different situation's result. Like touchdowns less or equal than 9.5,etc."
   ]
  },
  {
   "cell_type": "markdown",
   "metadata": {
    "cell_id": "5c95248fab5646d091cdb87e44421cdd",
    "deepnote_cell_type": "markdown",
    "tags": []
   },
   "source": [
    "## Using K-Neighbors to predict"
   ]
  },
  {
   "cell_type": "markdown",
   "metadata": {
    "cell_id": "e0d8d980e70e4f48ba4db58ea74d5d5e",
    "deepnote_cell_type": "markdown",
    "tags": []
   },
   "source": [
    "This is the extra part of Math10, because this classifier is supervised and make classificartions, predictions about individual data point in a group, so I think it is good for analyze NFL datas. Even though peopla call it \"lazy\"."
   ]
  },
  {
   "cell_type": "code",
   "execution_count": 23,
   "metadata": {
    "cell_id": "54fab31958224d979713d6074ff907af",
    "deepnote_cell_type": "code",
    "deepnote_to_be_reexecuted": false,
    "execution_millis": 5,
    "execution_start": 1670476291822,
    "source_hash": "4e690cc3",
    "tags": []
   },
   "outputs": [],
   "source": [
    "from sklearn.neighbors import KNeighborsClassifier"
   ]
  },
  {
   "cell_type": "code",
   "execution_count": 27,
   "metadata": {
    "cell_id": "9f20181f75d2493790807af171426034",
    "deepnote_cell_type": "code",
    "deepnote_to_be_reexecuted": false,
    "execution_millis": 2,
    "execution_start": 1670476310156,
    "source_hash": "3f7881ff",
    "tags": []
   },
   "outputs": [],
   "source": [
    "scaler = StandardScaler()\n",
    "scaler.fit(X)\n",
    "X_scaled = scaler.transform(X)"
   ]
  },
  {
   "cell_type": "code",
   "execution_count": 25,
   "metadata": {
    "cell_id": "1bca4a854fa34a03a58e7b1444940d68",
    "deepnote_cell_type": "code",
    "deepnote_to_be_reexecuted": false,
    "execution_millis": 1,
    "execution_start": 1670476291887,
    "source_hash": "f5d53a02",
    "tags": []
   },
   "outputs": [],
   "source": [
    "X = w4[[\"rushing_attempts\",\"passes_attempted\"]]\n",
    "y = w4[\"points_scored\"]"
   ]
  },
  {
   "cell_type": "code",
   "execution_count": 28,
   "metadata": {
    "cell_id": "7505f71df55e4c2ebb4179768ed70caa",
    "deepnote_cell_type": "code",
    "deepnote_to_be_reexecuted": false,
    "execution_millis": 3,
    "execution_start": 1670476312657,
    "source_hash": "366594d2",
    "tags": []
   },
   "outputs": [],
   "source": [
    "X_train, X_test, y_train, y_test = train_test_split(X_scaled, y, train_size=0.6, random_state=4)"
   ]
  },
  {
   "cell_type": "code",
   "execution_count": 30,
   "metadata": {
    "cell_id": "b1319de7c2224e4bac891a1264e52325",
    "deepnote_cell_type": "code",
    "deepnote_to_be_reexecuted": false,
    "execution_millis": 7,
    "execution_start": 1670476352201,
    "source_hash": "470a3951",
    "tags": []
   },
   "outputs": [
    {
     "data": {
      "text/plain": [
       "KNeighborsClassifier()"
      ]
     },
     "execution_count": 30,
     "metadata": {},
     "output_type": "execute_result"
    }
   ],
   "source": [
    "clf2 = KNeighborsClassifier()\n",
    "clf2.fit(X_train, y_train)"
   ]
  },
  {
   "cell_type": "code",
   "execution_count": 47,
   "metadata": {
    "cell_id": "9a09b3050bad433ea03d464e39d82b9a",
    "deepnote_cell_type": "code",
    "deepnote_to_be_reexecuted": false,
    "execution_millis": 7,
    "execution_start": 1670476933824,
    "source_hash": "bd23c256",
    "tags": []
   },
   "outputs": [
    {
     "name": "stderr",
     "output_type": "stream",
     "text": [
      "/shared-libs/python3.7/py-core/lib/python3.7/site-packages/ipykernel_launcher.py:1: SettingWithCopyWarning: \n",
      "A value is trying to be set on a copy of a slice from a DataFrame.\n",
      "Try using .loc[row_indexer,col_indexer] = value instead\n",
      "\n",
      "See the caveats in the documentation: https://pandas.pydata.org/pandas-docs/stable/user_guide/indexing.html#returning-a-view-versus-a-copy\n",
      "  \"\"\"Entry point for launching an IPython kernel.\n"
     ]
    },
    {
     "data": {
      "text/plain": [
       "KNeighborsClassifier()"
      ]
     },
     "execution_count": 47,
     "metadata": {},
     "output_type": "execute_result"
    }
   ],
   "source": [
    "w4_1[\"pred\"] = clf2.predict(X_scaled)\n",
    "clf2.fit(X_train, y_train)"
   ]
  },
  {
   "cell_type": "code",
   "execution_count": 52,
   "metadata": {
    "cell_id": "95a36719280046c4bcefd18c4c8dd117",
    "deepnote_cell_type": "code",
    "deepnote_to_be_reexecuted": false,
    "execution_millis": 45,
    "execution_start": 1670477066928,
    "source_hash": "23b06daf",
    "tags": []
   },
   "outputs": [
    {
     "data": {
      "application/vnd.deepnote.dataframe.v3+json": {
       "column_count": 9,
       "columns": [
        {
         "dtype": "int64",
         "name": "points_scored",
         "stats": {
          "histogram": [
           {
            "bin_end": 65.3,
            "bin_start": 57,
            "count": 2
           },
           {
            "bin_end": 73.6,
            "bin_start": 65.3,
            "count": 6
           },
           {
            "bin_end": 81.9,
            "bin_start": 73.6,
            "count": 8
           },
           {
            "bin_end": 90.2,
            "bin_start": 81.9,
            "count": 3
           },
           {
            "bin_end": 98.5,
            "bin_start": 90.2,
            "count": 5
           },
           {
            "bin_end": 106.80000000000001,
            "bin_start": 98.5,
            "count": 3
           },
           {
            "bin_end": 115.10000000000001,
            "bin_start": 106.80000000000001,
            "count": 2
           },
           {
            "bin_end": 123.4,
            "bin_start": 115.10000000000001,
            "count": 1
           },
           {
            "bin_end": 131.7,
            "bin_start": 123.4,
            "count": 1
           },
           {
            "bin_end": 140,
            "bin_start": 131.7,
            "count": 1
           }
          ],
          "max": "140",
          "min": "57",
          "nan_count": 0,
          "unique_count": 25
         }
        },
        {
         "dtype": "float64",
         "name": "yards_per_play",
         "stats": {
          "histogram": [
           {
            "bin_end": 4.79,
            "bin_start": 4.6,
            "count": 2
           },
           {
            "bin_end": 4.9799999999999995,
            "bin_start": 4.79,
            "count": 4
           },
           {
            "bin_end": 5.17,
            "bin_start": 4.9799999999999995,
            "count": 4
           },
           {
            "bin_end": 5.359999999999999,
            "bin_start": 5.17,
            "count": 4
           },
           {
            "bin_end": 5.55,
            "bin_start": 5.359999999999999,
            "count": 5
           },
           {
            "bin_end": 5.74,
            "bin_start": 5.55,
            "count": 3
           },
           {
            "bin_end": 5.93,
            "bin_start": 5.74,
            "count": 2
           },
           {
            "bin_end": 6.12,
            "bin_start": 5.93,
            "count": 4
           },
           {
            "bin_end": 6.31,
            "bin_start": 6.12,
            "count": 2
           },
           {
            "bin_end": 6.5,
            "bin_start": 6.31,
            "count": 2
           }
          ],
          "max": "6.5",
          "min": "4.6",
          "nan_count": 0,
          "unique_count": 19
         }
        },
        {
         "dtype": "int64",
         "name": "offensive_plays",
         "stats": {
          "histogram": [
           {
            "bin_end": 221.8,
            "bin_start": 214,
            "count": 3
           },
           {
            "bin_end": 229.6,
            "bin_start": 221.8,
            "count": 2
           },
           {
            "bin_end": 237.4,
            "bin_start": 229.6,
            "count": 4
           },
           {
            "bin_end": 245.2,
            "bin_start": 237.4,
            "count": 5
           },
           {
            "bin_end": 253,
            "bin_start": 245.2,
            "count": 3
           },
           {
            "bin_end": 260.8,
            "bin_start": 253,
            "count": 5
           },
           {
            "bin_end": 268.6,
            "bin_start": 260.8,
            "count": 1
           },
           {
            "bin_end": 276.4,
            "bin_start": 268.6,
            "count": 3
           },
           {
            "bin_end": 284.2,
            "bin_start": 276.4,
            "count": 1
           },
           {
            "bin_end": 292,
            "bin_start": 284.2,
            "count": 5
           }
          ],
          "max": "292",
          "min": "214",
          "nan_count": 0,
          "unique_count": 30
         }
        },
        {
         "dtype": "int64",
         "name": "passes_completed",
         "stats": {
          "histogram": [
           {
            "bin_end": 42.1,
            "bin_start": 34,
            "count": 1
           },
           {
            "bin_end": 50.2,
            "bin_start": 42.1,
            "count": 0
           },
           {
            "bin_end": 58.3,
            "bin_start": 50.2,
            "count": 1
           },
           {
            "bin_end": 66.4,
            "bin_start": 58.3,
            "count": 2
           },
           {
            "bin_end": 74.5,
            "bin_start": 66.4,
            "count": 2
           },
           {
            "bin_end": 82.6,
            "bin_start": 74.5,
            "count": 7
           },
           {
            "bin_end": 90.69999999999999,
            "bin_start": 82.6,
            "count": 2
           },
           {
            "bin_end": 98.8,
            "bin_start": 90.69999999999999,
            "count": 6
           },
           {
            "bin_end": 106.89999999999999,
            "bin_start": 98.8,
            "count": 6
           },
           {
            "bin_end": 115,
            "bin_start": 106.89999999999999,
            "count": 5
           }
          ],
          "max": "115",
          "min": "34",
          "nan_count": 0,
          "unique_count": 22
         }
        },
        {
         "dtype": "int64",
         "name": "passes_attempted",
         "stats": {
          "histogram": [
           {
            "bin_end": 79.6,
            "bin_start": 67,
            "count": 1
           },
           {
            "bin_end": 92.2,
            "bin_start": 79.6,
            "count": 0
           },
           {
            "bin_end": 104.8,
            "bin_start": 92.2,
            "count": 1
           },
           {
            "bin_end": 117.4,
            "bin_start": 104.8,
            "count": 5
           },
           {
            "bin_end": 130,
            "bin_start": 117.4,
            "count": 4
           },
           {
            "bin_end": 142.6,
            "bin_start": 130,
            "count": 7
           },
           {
            "bin_end": 155.2,
            "bin_start": 142.6,
            "count": 7
           },
           {
            "bin_end": 167.8,
            "bin_start": 155.2,
            "count": 3
           },
           {
            "bin_end": 180.39999999999998,
            "bin_start": 167.8,
            "count": 3
           },
           {
            "bin_end": 193,
            "bin_start": 180.39999999999998,
            "count": 1
           }
          ],
          "max": "193",
          "min": "67",
          "nan_count": 0,
          "unique_count": 27
         }
        },
        {
         "dtype": "int64",
         "name": "touchdowns",
         "stats": {
          "histogram": [
           {
            "bin_end": 7.2,
            "bin_start": 6,
            "count": 11
           },
           {
            "bin_end": 8.4,
            "bin_start": 7.2,
            "count": 3
           },
           {
            "bin_end": 9.6,
            "bin_start": 8.4,
            "count": 8
           },
           {
            "bin_end": 10.8,
            "bin_start": 9.6,
            "count": 1
           },
           {
            "bin_end": 12,
            "bin_start": 10.8,
            "count": 4
           },
           {
            "bin_end": 13.2,
            "bin_start": 12,
            "count": 1
           },
           {
            "bin_end": 14.4,
            "bin_start": 13.2,
            "count": 2
           },
           {
            "bin_end": 15.6,
            "bin_start": 14.4,
            "count": 1
           },
           {
            "bin_end": 16.799999999999997,
            "bin_start": 15.6,
            "count": 0
           },
           {
            "bin_end": 18,
            "bin_start": 16.799999999999997,
            "count": 1
           }
          ],
          "max": "18",
          "min": "6",
          "nan_count": 0,
          "unique_count": 10
         }
        },
        {
         "dtype": "int64",
         "name": "pred_1",
         "stats": {
          "histogram": [
           {
            "bin_end": 61.8,
            "bin_start": 57,
            "count": 10
           },
           {
            "bin_end": 66.6,
            "bin_start": 61.8,
            "count": 14
           },
           {
            "bin_end": 71.4,
            "bin_start": 66.6,
            "count": 0
           },
           {
            "bin_end": 76.2,
            "bin_start": 71.4,
            "count": 7
           },
           {
            "bin_end": 81,
            "bin_start": 76.2,
            "count": 0
           },
           {
            "bin_end": 85.8,
            "bin_start": 81,
            "count": 0
           },
           {
            "bin_end": 90.6,
            "bin_start": 85.8,
            "count": 0
           },
           {
            "bin_end": 95.4,
            "bin_start": 90.6,
            "count": 0
           },
           {
            "bin_end": 100.19999999999999,
            "bin_start": 95.4,
            "count": 0
           },
           {
            "bin_end": 105,
            "bin_start": 100.19999999999999,
            "count": 1
           }
          ],
          "max": "105",
          "min": "57",
          "nan_count": 0,
          "unique_count": 6
         }
        },
        {
         "dtype": "int64",
         "name": "predict",
         "stats": {
          "histogram": [
           {
            "bin_end": 61.8,
            "bin_start": 57,
            "count": 10
           },
           {
            "bin_end": 66.6,
            "bin_start": 61.8,
            "count": 14
           },
           {
            "bin_end": 71.4,
            "bin_start": 66.6,
            "count": 0
           },
           {
            "bin_end": 76.2,
            "bin_start": 71.4,
            "count": 7
           },
           {
            "bin_end": 81,
            "bin_start": 76.2,
            "count": 0
           },
           {
            "bin_end": 85.8,
            "bin_start": 81,
            "count": 0
           },
           {
            "bin_end": 90.6,
            "bin_start": 85.8,
            "count": 0
           },
           {
            "bin_end": 95.4,
            "bin_start": 90.6,
            "count": 0
           },
           {
            "bin_end": 100.19999999999999,
            "bin_start": 95.4,
            "count": 0
           },
           {
            "bin_end": 105,
            "bin_start": 100.19999999999999,
            "count": 1
           }
          ],
          "max": "105",
          "min": "57",
          "nan_count": 0,
          "unique_count": 6
         }
        },
        {
         "dtype": "int64",
         "name": "pred",
         "stats": {
          "histogram": [
           {
            "bin_end": 61.8,
            "bin_start": 57,
            "count": 10
           },
           {
            "bin_end": 66.6,
            "bin_start": 61.8,
            "count": 14
           },
           {
            "bin_end": 71.4,
            "bin_start": 66.6,
            "count": 0
           },
           {
            "bin_end": 76.2,
            "bin_start": 71.4,
            "count": 7
           },
           {
            "bin_end": 81,
            "bin_start": 76.2,
            "count": 0
           },
           {
            "bin_end": 85.8,
            "bin_start": 81,
            "count": 0
           },
           {
            "bin_end": 90.6,
            "bin_start": 85.8,
            "count": 0
           },
           {
            "bin_end": 95.4,
            "bin_start": 90.6,
            "count": 0
           },
           {
            "bin_end": 100.19999999999999,
            "bin_start": 95.4,
            "count": 0
           },
           {
            "bin_end": 105,
            "bin_start": 100.19999999999999,
            "count": 1
           }
          ],
          "max": "105",
          "min": "57",
          "nan_count": 0,
          "unique_count": 6
         }
        },
        {
         "dtype": "int64",
         "name": "_deepnote_index_column"
        }
       ],
       "row_count": 32,
       "rows": [
        {
         "_deepnote_index_column": "0",
         "offensive_plays": "269",
         "passes_attempted": "152",
         "passes_completed": "93",
         "points_scored": "140",
         "pred": "57",
         "pred_1": "57",
         "predict": "57",
         "touchdowns": "18",
         "yards_per_play": "6.5"
        },
        {
         "_deepnote_index_column": "1",
         "offensive_plays": "257",
         "passes_attempted": "147",
         "passes_completed": "97",
         "points_scored": "129",
         "pred": "57",
         "pred_1": "57",
         "predict": "57",
         "touchdowns": "15",
         "yards_per_play": "6.0"
        },
        {
         "_deepnote_index_column": "2",
         "offensive_plays": "230",
         "passes_attempted": "117",
         "passes_completed": "76",
         "points_scored": "119",
         "pred": "66",
         "pred_1": "66",
         "predict": "66",
         "touchdowns": "14",
         "yards_per_play": "6.2"
        },
        {
         "_deepnote_index_column": "3",
         "offensive_plays": "285",
         "passes_attempted": "123",
         "passes_completed": "82",
         "points_scored": "115",
         "pred": "105",
         "pred_1": "105",
         "predict": "105",
         "touchdowns": "14",
         "yards_per_play": "6.1"
        },
        {
         "_deepnote_index_column": "4",
         "offensive_plays": "275",
         "passes_attempted": "170",
         "passes_completed": "113",
         "points_scored": "114",
         "pred": "57",
         "pred_1": "57",
         "predict": "57",
         "touchdowns": "12",
         "yards_per_play": "6.0"
        },
        {
         "_deepnote_index_column": "5",
         "offensive_plays": "281",
         "passes_attempted": "127",
         "passes_completed": "82",
         "points_scored": "105",
         "pred": "74",
         "pred_1": "74",
         "predict": "74",
         "touchdowns": "11",
         "yards_per_play": "5.5"
        },
        {
         "_deepnote_index_column": "6",
         "offensive_plays": "250",
         "passes_attempted": "134",
         "passes_completed": "88",
         "points_scored": "105",
         "pred": "66",
         "pred_1": "66",
         "predict": "66",
         "touchdowns": "11",
         "yards_per_play": "5.4"
        },
        {
         "_deepnote_index_column": "7",
         "offensive_plays": "236",
         "passes_attempted": "98",
         "passes_completed": "57",
         "points_scored": "103",
         "pred": "64",
         "pred_1": "64",
         "predict": "64",
         "touchdowns": "9",
         "yards_per_play": "5.9"
        },
        {
         "_deepnote_index_column": "8",
         "offensive_plays": "227",
         "passes_attempted": "140",
         "passes_completed": "94",
         "points_scored": "98",
         "pred": "73",
         "pred_1": "73",
         "predict": "73",
         "touchdowns": "11",
         "yards_per_play": "6.4"
        },
        {
         "_deepnote_index_column": "9",
         "offensive_plays": "256",
         "passes_attempted": "155",
         "passes_completed": "95",
         "points_scored": "96",
         "pred": "57",
         "pred_1": "57",
         "predict": "57",
         "touchdowns": "8",
         "yards_per_play": "5.6"
        }
       ]
      },
      "text/html": [
       "<div>\n",
       "<style scoped>\n",
       "    .dataframe tbody tr th:only-of-type {\n",
       "        vertical-align: middle;\n",
       "    }\n",
       "\n",
       "    .dataframe tbody tr th {\n",
       "        vertical-align: top;\n",
       "    }\n",
       "\n",
       "    .dataframe thead th {\n",
       "        text-align: right;\n",
       "    }\n",
       "</style>\n",
       "<table border=\"1\" class=\"dataframe\">\n",
       "  <thead>\n",
       "    <tr style=\"text-align: right;\">\n",
       "      <th></th>\n",
       "      <th>points_scored</th>\n",
       "      <th>yards_per_play</th>\n",
       "      <th>offensive_plays</th>\n",
       "      <th>passes_completed</th>\n",
       "      <th>passes_attempted</th>\n",
       "      <th>touchdowns</th>\n",
       "      <th>pred_1</th>\n",
       "      <th>predict</th>\n",
       "      <th>pred</th>\n",
       "    </tr>\n",
       "  </thead>\n",
       "  <tbody>\n",
       "    <tr>\n",
       "      <th>0</th>\n",
       "      <td>140</td>\n",
       "      <td>6.5</td>\n",
       "      <td>269</td>\n",
       "      <td>93</td>\n",
       "      <td>152</td>\n",
       "      <td>18</td>\n",
       "      <td>57</td>\n",
       "      <td>57</td>\n",
       "      <td>57</td>\n",
       "    </tr>\n",
       "    <tr>\n",
       "      <th>1</th>\n",
       "      <td>129</td>\n",
       "      <td>6.0</td>\n",
       "      <td>257</td>\n",
       "      <td>97</td>\n",
       "      <td>147</td>\n",
       "      <td>15</td>\n",
       "      <td>57</td>\n",
       "      <td>57</td>\n",
       "      <td>57</td>\n",
       "    </tr>\n",
       "    <tr>\n",
       "      <th>2</th>\n",
       "      <td>119</td>\n",
       "      <td>6.2</td>\n",
       "      <td>230</td>\n",
       "      <td>76</td>\n",
       "      <td>117</td>\n",
       "      <td>14</td>\n",
       "      <td>66</td>\n",
       "      <td>66</td>\n",
       "      <td>66</td>\n",
       "    </tr>\n",
       "    <tr>\n",
       "      <th>3</th>\n",
       "      <td>115</td>\n",
       "      <td>6.1</td>\n",
       "      <td>285</td>\n",
       "      <td>82</td>\n",
       "      <td>123</td>\n",
       "      <td>14</td>\n",
       "      <td>105</td>\n",
       "      <td>105</td>\n",
       "      <td>105</td>\n",
       "    </tr>\n",
       "    <tr>\n",
       "      <th>4</th>\n",
       "      <td>114</td>\n",
       "      <td>6.0</td>\n",
       "      <td>275</td>\n",
       "      <td>113</td>\n",
       "      <td>170</td>\n",
       "      <td>12</td>\n",
       "      <td>57</td>\n",
       "      <td>57</td>\n",
       "      <td>57</td>\n",
       "    </tr>\n",
       "    <tr>\n",
       "      <th>5</th>\n",
       "      <td>105</td>\n",
       "      <td>5.5</td>\n",
       "      <td>281</td>\n",
       "      <td>82</td>\n",
       "      <td>127</td>\n",
       "      <td>11</td>\n",
       "      <td>74</td>\n",
       "      <td>74</td>\n",
       "      <td>74</td>\n",
       "    </tr>\n",
       "    <tr>\n",
       "      <th>6</th>\n",
       "      <td>105</td>\n",
       "      <td>5.4</td>\n",
       "      <td>250</td>\n",
       "      <td>88</td>\n",
       "      <td>134</td>\n",
       "      <td>11</td>\n",
       "      <td>66</td>\n",
       "      <td>66</td>\n",
       "      <td>66</td>\n",
       "    </tr>\n",
       "    <tr>\n",
       "      <th>7</th>\n",
       "      <td>103</td>\n",
       "      <td>5.9</td>\n",
       "      <td>236</td>\n",
       "      <td>57</td>\n",
       "      <td>98</td>\n",
       "      <td>9</td>\n",
       "      <td>64</td>\n",
       "      <td>64</td>\n",
       "      <td>64</td>\n",
       "    </tr>\n",
       "    <tr>\n",
       "      <th>8</th>\n",
       "      <td>98</td>\n",
       "      <td>6.4</td>\n",
       "      <td>227</td>\n",
       "      <td>94</td>\n",
       "      <td>140</td>\n",
       "      <td>11</td>\n",
       "      <td>73</td>\n",
       "      <td>73</td>\n",
       "      <td>73</td>\n",
       "    </tr>\n",
       "    <tr>\n",
       "      <th>9</th>\n",
       "      <td>96</td>\n",
       "      <td>5.6</td>\n",
       "      <td>256</td>\n",
       "      <td>95</td>\n",
       "      <td>155</td>\n",
       "      <td>8</td>\n",
       "      <td>57</td>\n",
       "      <td>57</td>\n",
       "      <td>57</td>\n",
       "    </tr>\n",
       "    <tr>\n",
       "      <th>10</th>\n",
       "      <td>95</td>\n",
       "      <td>6.3</td>\n",
       "      <td>228</td>\n",
       "      <td>102</td>\n",
       "      <td>133</td>\n",
       "      <td>9</td>\n",
       "      <td>66</td>\n",
       "      <td>66</td>\n",
       "      <td>66</td>\n",
       "    </tr>\n",
       "    <tr>\n",
       "      <th>11</th>\n",
       "      <td>92</td>\n",
       "      <td>5.6</td>\n",
       "      <td>264</td>\n",
       "      <td>111</td>\n",
       "      <td>166</td>\n",
       "      <td>11</td>\n",
       "      <td>57</td>\n",
       "      <td>57</td>\n",
       "      <td>57</td>\n",
       "    </tr>\n",
       "    <tr>\n",
       "      <th>12</th>\n",
       "      <td>91</td>\n",
       "      <td>4.8</td>\n",
       "      <td>290</td>\n",
       "      <td>101</td>\n",
       "      <td>157</td>\n",
       "      <td>9</td>\n",
       "      <td>57</td>\n",
       "      <td>57</td>\n",
       "      <td>57</td>\n",
       "    </tr>\n",
       "    <tr>\n",
       "      <th>13</th>\n",
       "      <td>88</td>\n",
       "      <td>4.8</td>\n",
       "      <td>292</td>\n",
       "      <td>115</td>\n",
       "      <td>177</td>\n",
       "      <td>9</td>\n",
       "      <td>57</td>\n",
       "      <td>57</td>\n",
       "      <td>57</td>\n",
       "    </tr>\n",
       "    <tr>\n",
       "      <th>14</th>\n",
       "      <td>86</td>\n",
       "      <td>5.4</td>\n",
       "      <td>254</td>\n",
       "      <td>100</td>\n",
       "      <td>158</td>\n",
       "      <td>9</td>\n",
       "      <td>57</td>\n",
       "      <td>57</td>\n",
       "      <td>57</td>\n",
       "    </tr>\n",
       "    <tr>\n",
       "      <th>15</th>\n",
       "      <td>82</td>\n",
       "      <td>5.2</td>\n",
       "      <td>245</td>\n",
       "      <td>106</td>\n",
       "      <td>155</td>\n",
       "      <td>7</td>\n",
       "      <td>73</td>\n",
       "      <td>73</td>\n",
       "      <td>73</td>\n",
       "    </tr>\n",
       "    <tr>\n",
       "      <th>16</th>\n",
       "      <td>78</td>\n",
       "      <td>4.9</td>\n",
       "      <td>214</td>\n",
       "      <td>64</td>\n",
       "      <td>117</td>\n",
       "      <td>6</td>\n",
       "      <td>66</td>\n",
       "      <td>66</td>\n",
       "      <td>66</td>\n",
       "    </tr>\n",
       "    <tr>\n",
       "      <th>17</th>\n",
       "      <td>76</td>\n",
       "      <td>6.0</td>\n",
       "      <td>244</td>\n",
       "      <td>93</td>\n",
       "      <td>143</td>\n",
       "      <td>9</td>\n",
       "      <td>73</td>\n",
       "      <td>73</td>\n",
       "      <td>73</td>\n",
       "    </tr>\n",
       "    <tr>\n",
       "      <th>18</th>\n",
       "      <td>76</td>\n",
       "      <td>5.2</td>\n",
       "      <td>256</td>\n",
       "      <td>68</td>\n",
       "      <td>108</td>\n",
       "      <td>7</td>\n",
       "      <td>64</td>\n",
       "      <td>64</td>\n",
       "      <td>64</td>\n",
       "    </tr>\n",
       "    <tr>\n",
       "      <th>19</th>\n",
       "      <td>76</td>\n",
       "      <td>5.0</td>\n",
       "      <td>289</td>\n",
       "      <td>111</td>\n",
       "      <td>193</td>\n",
       "      <td>8</td>\n",
       "      <td>73</td>\n",
       "      <td>73</td>\n",
       "      <td>73</td>\n",
       "    </tr>\n",
       "    <tr>\n",
       "      <th>20</th>\n",
       "      <td>75</td>\n",
       "      <td>5.8</td>\n",
       "      <td>259</td>\n",
       "      <td>93</td>\n",
       "      <td>134</td>\n",
       "      <td>9</td>\n",
       "      <td>66</td>\n",
       "      <td>66</td>\n",
       "      <td>66</td>\n",
       "    </tr>\n",
       "    <tr>\n",
       "      <th>21</th>\n",
       "      <td>75</td>\n",
       "      <td>5.2</td>\n",
       "      <td>220</td>\n",
       "      <td>68</td>\n",
       "      <td>105</td>\n",
       "      <td>9</td>\n",
       "      <td>66</td>\n",
       "      <td>66</td>\n",
       "      <td>66</td>\n",
       "    </tr>\n",
       "    <tr>\n",
       "      <th>22</th>\n",
       "      <td>74</td>\n",
       "      <td>4.8</td>\n",
       "      <td>234</td>\n",
       "      <td>79</td>\n",
       "      <td>129</td>\n",
       "      <td>6</td>\n",
       "      <td>66</td>\n",
       "      <td>66</td>\n",
       "      <td>66</td>\n",
       "    </tr>\n",
       "    <tr>\n",
       "      <th>23</th>\n",
       "      <td>74</td>\n",
       "      <td>5.7</td>\n",
       "      <td>241</td>\n",
       "      <td>79</td>\n",
       "      <td>118</td>\n",
       "      <td>8</td>\n",
       "      <td>66</td>\n",
       "      <td>66</td>\n",
       "      <td>66</td>\n",
       "    </tr>\n",
       "    <tr>\n",
       "      <th>24</th>\n",
       "      <td>73</td>\n",
       "      <td>5.1</td>\n",
       "      <td>237</td>\n",
       "      <td>88</td>\n",
       "      <td>142</td>\n",
       "      <td>7</td>\n",
       "      <td>73</td>\n",
       "      <td>73</td>\n",
       "      <td>73</td>\n",
       "    </tr>\n",
       "    <tr>\n",
       "      <th>25</th>\n",
       "      <td>73</td>\n",
       "      <td>4.6</td>\n",
       "      <td>287</td>\n",
       "      <td>107</td>\n",
       "      <td>172</td>\n",
       "      <td>10</td>\n",
       "      <td>57</td>\n",
       "      <td>57</td>\n",
       "      <td>57</td>\n",
       "    </tr>\n",
       "    <tr>\n",
       "      <th>26</th>\n",
       "      <td>71</td>\n",
       "      <td>5.2</td>\n",
       "      <td>241</td>\n",
       "      <td>76</td>\n",
       "      <td>131</td>\n",
       "      <td>6</td>\n",
       "      <td>66</td>\n",
       "      <td>66</td>\n",
       "      <td>66</td>\n",
       "    </tr>\n",
       "    <tr>\n",
       "      <th>27</th>\n",
       "      <td>71</td>\n",
       "      <td>5.5</td>\n",
       "      <td>238</td>\n",
       "      <td>62</td>\n",
       "      <td>108</td>\n",
       "      <td>7</td>\n",
       "      <td>66</td>\n",
       "      <td>66</td>\n",
       "      <td>66</td>\n",
       "    </tr>\n",
       "    <tr>\n",
       "      <th>28</th>\n",
       "      <td>70</td>\n",
       "      <td>4.7</td>\n",
       "      <td>248</td>\n",
       "      <td>106</td>\n",
       "      <td>150</td>\n",
       "      <td>7</td>\n",
       "      <td>73</td>\n",
       "      <td>73</td>\n",
       "      <td>73</td>\n",
       "    </tr>\n",
       "    <tr>\n",
       "      <th>29</th>\n",
       "      <td>66</td>\n",
       "      <td>5.4</td>\n",
       "      <td>247</td>\n",
       "      <td>80</td>\n",
       "      <td>131</td>\n",
       "      <td>6</td>\n",
       "      <td>66</td>\n",
       "      <td>66</td>\n",
       "      <td>66</td>\n",
       "    </tr>\n",
       "    <tr>\n",
       "      <th>30</th>\n",
       "      <td>64</td>\n",
       "      <td>5.0</td>\n",
       "      <td>219</td>\n",
       "      <td>34</td>\n",
       "      <td>67</td>\n",
       "      <td>6</td>\n",
       "      <td>64</td>\n",
       "      <td>64</td>\n",
       "      <td>64</td>\n",
       "    </tr>\n",
       "    <tr>\n",
       "      <th>31</th>\n",
       "      <td>57</td>\n",
       "      <td>5.0</td>\n",
       "      <td>270</td>\n",
       "      <td>102</td>\n",
       "      <td>154</td>\n",
       "      <td>6</td>\n",
       "      <td>57</td>\n",
       "      <td>57</td>\n",
       "      <td>57</td>\n",
       "    </tr>\n",
       "  </tbody>\n",
       "</table>\n",
       "</div>"
      ],
      "text/plain": [
       "    points_scored  yards_per_play  offensive_plays  passes_completed  \\\n",
       "0             140             6.5              269                93   \n",
       "1             129             6.0              257                97   \n",
       "2             119             6.2              230                76   \n",
       "3             115             6.1              285                82   \n",
       "4             114             6.0              275               113   \n",
       "5             105             5.5              281                82   \n",
       "6             105             5.4              250                88   \n",
       "7             103             5.9              236                57   \n",
       "8              98             6.4              227                94   \n",
       "9              96             5.6              256                95   \n",
       "10             95             6.3              228               102   \n",
       "11             92             5.6              264               111   \n",
       "12             91             4.8              290               101   \n",
       "13             88             4.8              292               115   \n",
       "14             86             5.4              254               100   \n",
       "15             82             5.2              245               106   \n",
       "16             78             4.9              214                64   \n",
       "17             76             6.0              244                93   \n",
       "18             76             5.2              256                68   \n",
       "19             76             5.0              289               111   \n",
       "20             75             5.8              259                93   \n",
       "21             75             5.2              220                68   \n",
       "22             74             4.8              234                79   \n",
       "23             74             5.7              241                79   \n",
       "24             73             5.1              237                88   \n",
       "25             73             4.6              287               107   \n",
       "26             71             5.2              241                76   \n",
       "27             71             5.5              238                62   \n",
       "28             70             4.7              248               106   \n",
       "29             66             5.4              247                80   \n",
       "30             64             5.0              219                34   \n",
       "31             57             5.0              270               102   \n",
       "\n",
       "    passes_attempted  touchdowns  pred_1  predict  pred  \n",
       "0                152          18      57       57    57  \n",
       "1                147          15      57       57    57  \n",
       "2                117          14      66       66    66  \n",
       "3                123          14     105      105   105  \n",
       "4                170          12      57       57    57  \n",
       "5                127          11      74       74    74  \n",
       "6                134          11      66       66    66  \n",
       "7                 98           9      64       64    64  \n",
       "8                140          11      73       73    73  \n",
       "9                155           8      57       57    57  \n",
       "10               133           9      66       66    66  \n",
       "11               166          11      57       57    57  \n",
       "12               157           9      57       57    57  \n",
       "13               177           9      57       57    57  \n",
       "14               158           9      57       57    57  \n",
       "15               155           7      73       73    73  \n",
       "16               117           6      66       66    66  \n",
       "17               143           9      73       73    73  \n",
       "18               108           7      64       64    64  \n",
       "19               193           8      73       73    73  \n",
       "20               134           9      66       66    66  \n",
       "21               105           9      66       66    66  \n",
       "22               129           6      66       66    66  \n",
       "23               118           8      66       66    66  \n",
       "24               142           7      73       73    73  \n",
       "25               172          10      57       57    57  \n",
       "26               131           6      66       66    66  \n",
       "27               108           7      66       66    66  \n",
       "28               150           7      73       73    73  \n",
       "29               131           6      66       66    66  \n",
       "30                67           6      64       64    64  \n",
       "31               154           6      57       57    57  "
      ]
     },
     "execution_count": 52,
     "metadata": {},
     "output_type": "execute_result"
    }
   ],
   "source": [
    "w4_1"
   ]
  },
  {
   "cell_type": "code",
   "execution_count": 60,
   "metadata": {
    "cell_id": "cc56557ee1cb44d5892fadc705c5d757",
    "deepnote_cell_type": "code",
    "deepnote_to_be_reexecuted": false,
    "execution_millis": 34,
    "execution_start": 1670477717691,
    "source_hash": "e513dec8",
    "tags": []
   },
   "outputs": [
    {
     "data": {
      "text/html": [
       "\n",
       "<div id=\"altair-viz-7d385ceaebe84e87bbec029886e6e618\"></div>\n",
       "<script type=\"text/javascript\">\n",
       "  var VEGA_DEBUG = (typeof VEGA_DEBUG == \"undefined\") ? {} : VEGA_DEBUG;\n",
       "  (function(spec, embedOpt){\n",
       "    let outputDiv = document.currentScript.previousElementSibling;\n",
       "    if (outputDiv.id !== \"altair-viz-7d385ceaebe84e87bbec029886e6e618\") {\n",
       "      outputDiv = document.getElementById(\"altair-viz-7d385ceaebe84e87bbec029886e6e618\");\n",
       "    }\n",
       "    const paths = {\n",
       "      \"vega\": \"https://cdn.jsdelivr.net/npm//vega@5?noext\",\n",
       "      \"vega-lib\": \"https://cdn.jsdelivr.net/npm//vega-lib?noext\",\n",
       "      \"vega-lite\": \"https://cdn.jsdelivr.net/npm//vega-lite@4.17.0?noext\",\n",
       "      \"vega-embed\": \"https://cdn.jsdelivr.net/npm//vega-embed@6?noext\",\n",
       "    };\n",
       "\n",
       "    function maybeLoadScript(lib, version) {\n",
       "      var key = `${lib.replace(\"-\", \"\")}_version`;\n",
       "      return (VEGA_DEBUG[key] == version) ?\n",
       "        Promise.resolve(paths[lib]) :\n",
       "        new Promise(function(resolve, reject) {\n",
       "          var s = document.createElement('script');\n",
       "          document.getElementsByTagName(\"head\")[0].appendChild(s);\n",
       "          s.async = true;\n",
       "          s.onload = () => {\n",
       "            VEGA_DEBUG[key] = version;\n",
       "            return resolve(paths[lib]);\n",
       "          };\n",
       "          s.onerror = () => reject(`Error loading script: ${paths[lib]}`);\n",
       "          s.src = paths[lib];\n",
       "        });\n",
       "    }\n",
       "\n",
       "    function showError(err) {\n",
       "      outputDiv.innerHTML = `<div class=\"error\" style=\"color:red;\">${err}</div>`;\n",
       "      throw err;\n",
       "    }\n",
       "\n",
       "    function displayChart(vegaEmbed) {\n",
       "      vegaEmbed(outputDiv, spec, embedOpt)\n",
       "        .catch(err => showError(`Javascript Error: ${err.message}<br>This usually means there's a typo in your chart specification. See the javascript console for the full traceback.`));\n",
       "    }\n",
       "\n",
       "    if(typeof define === \"function\" && define.amd) {\n",
       "      requirejs.config({paths});\n",
       "      require([\"vega-embed\"], displayChart, err => showError(`Error loading script: ${err.message}`));\n",
       "    } else {\n",
       "      maybeLoadScript(\"vega\", \"5\")\n",
       "        .then(() => maybeLoadScript(\"vega-lite\", \"4.17.0\"))\n",
       "        .then(() => maybeLoadScript(\"vega-embed\", \"6\"))\n",
       "        .catch(showError)\n",
       "        .then(() => displayChart(vegaEmbed));\n",
       "    }\n",
       "  })({\"config\": {\"view\": {\"continuousWidth\": 400, \"continuousHeight\": 300}}, \"data\": {\"name\": \"data-3691e41c4b8cd102a0b0318f60ffc119\"}, \"mark\": \"circle\", \"encoding\": {\"color\": {\"field\": \"pred\", \"title\": \"rank\", \"type\": \"quantitative\"}, \"tooltip\": [{\"field\": \"passes_attempted\", \"type\": \"quantitative\"}, {\"field\": \"touchdowns\", \"type\": \"quantitative\"}, {\"field\": \"points_scored\", \"type\": \"quantitative\"}, {\"field\": \"yards_per_play\", \"type\": \"quantitative\"}, {\"field\": \"passes_completed\", \"type\": \"quantitative\"}], \"x\": {\"field\": \"passes_completed\", \"type\": \"quantitative\"}, \"y\": {\"field\": \"passes_attempted\", \"type\": \"quantitative\"}}, \"height\": 400, \"title\": \"Passing\", \"width\": 400, \"$schema\": \"https://vega.github.io/schema/vega-lite/v4.17.0.json\", \"datasets\": {\"data-3691e41c4b8cd102a0b0318f60ffc119\": [{\"points_scored\": 140, \"yards_per_play\": 6.5, \"offensive_plays\": 269, \"passes_completed\": 93, \"passes_attempted\": 152, \"touchdowns\": 18, \"pred_1\": 57, \"predict\": 57, \"pred\": 57}, {\"points_scored\": 129, \"yards_per_play\": 6.0, \"offensive_plays\": 257, \"passes_completed\": 97, \"passes_attempted\": 147, \"touchdowns\": 15, \"pred_1\": 57, \"predict\": 57, \"pred\": 57}, {\"points_scored\": 119, \"yards_per_play\": 6.2, \"offensive_plays\": 230, \"passes_completed\": 76, \"passes_attempted\": 117, \"touchdowns\": 14, \"pred_1\": 66, \"predict\": 66, \"pred\": 66}, {\"points_scored\": 115, \"yards_per_play\": 6.1, \"offensive_plays\": 285, \"passes_completed\": 82, \"passes_attempted\": 123, \"touchdowns\": 14, \"pred_1\": 105, \"predict\": 105, \"pred\": 105}, {\"points_scored\": 114, \"yards_per_play\": 6.0, \"offensive_plays\": 275, \"passes_completed\": 113, \"passes_attempted\": 170, \"touchdowns\": 12, \"pred_1\": 57, \"predict\": 57, \"pred\": 57}, {\"points_scored\": 105, \"yards_per_play\": 5.5, \"offensive_plays\": 281, \"passes_completed\": 82, \"passes_attempted\": 127, \"touchdowns\": 11, \"pred_1\": 74, \"predict\": 74, \"pred\": 74}, {\"points_scored\": 105, \"yards_per_play\": 5.4, \"offensive_plays\": 250, \"passes_completed\": 88, \"passes_attempted\": 134, \"touchdowns\": 11, \"pred_1\": 66, \"predict\": 66, \"pred\": 66}, {\"points_scored\": 103, \"yards_per_play\": 5.9, \"offensive_plays\": 236, \"passes_completed\": 57, \"passes_attempted\": 98, \"touchdowns\": 9, \"pred_1\": 64, \"predict\": 64, \"pred\": 64}, {\"points_scored\": 98, \"yards_per_play\": 6.4, \"offensive_plays\": 227, \"passes_completed\": 94, \"passes_attempted\": 140, \"touchdowns\": 11, \"pred_1\": 73, \"predict\": 73, \"pred\": 73}, {\"points_scored\": 96, \"yards_per_play\": 5.6, \"offensive_plays\": 256, \"passes_completed\": 95, \"passes_attempted\": 155, \"touchdowns\": 8, \"pred_1\": 57, \"predict\": 57, \"pred\": 57}, {\"points_scored\": 95, \"yards_per_play\": 6.3, \"offensive_plays\": 228, \"passes_completed\": 102, \"passes_attempted\": 133, \"touchdowns\": 9, \"pred_1\": 66, \"predict\": 66, \"pred\": 66}, {\"points_scored\": 92, \"yards_per_play\": 5.6, \"offensive_plays\": 264, \"passes_completed\": 111, \"passes_attempted\": 166, \"touchdowns\": 11, \"pred_1\": 57, \"predict\": 57, \"pred\": 57}, {\"points_scored\": 91, \"yards_per_play\": 4.8, \"offensive_plays\": 290, \"passes_completed\": 101, \"passes_attempted\": 157, \"touchdowns\": 9, \"pred_1\": 57, \"predict\": 57, \"pred\": 57}, {\"points_scored\": 88, \"yards_per_play\": 4.8, \"offensive_plays\": 292, \"passes_completed\": 115, \"passes_attempted\": 177, \"touchdowns\": 9, \"pred_1\": 57, \"predict\": 57, \"pred\": 57}, {\"points_scored\": 86, \"yards_per_play\": 5.4, \"offensive_plays\": 254, \"passes_completed\": 100, \"passes_attempted\": 158, \"touchdowns\": 9, \"pred_1\": 57, \"predict\": 57, \"pred\": 57}, {\"points_scored\": 82, \"yards_per_play\": 5.2, \"offensive_plays\": 245, \"passes_completed\": 106, \"passes_attempted\": 155, \"touchdowns\": 7, \"pred_1\": 73, \"predict\": 73, \"pred\": 73}, {\"points_scored\": 78, \"yards_per_play\": 4.9, \"offensive_plays\": 214, \"passes_completed\": 64, \"passes_attempted\": 117, \"touchdowns\": 6, \"pred_1\": 66, \"predict\": 66, \"pred\": 66}, {\"points_scored\": 76, \"yards_per_play\": 6.0, \"offensive_plays\": 244, \"passes_completed\": 93, \"passes_attempted\": 143, \"touchdowns\": 9, \"pred_1\": 73, \"predict\": 73, \"pred\": 73}, {\"points_scored\": 76, \"yards_per_play\": 5.2, \"offensive_plays\": 256, \"passes_completed\": 68, \"passes_attempted\": 108, \"touchdowns\": 7, \"pred_1\": 64, \"predict\": 64, \"pred\": 64}, {\"points_scored\": 76, \"yards_per_play\": 5.0, \"offensive_plays\": 289, \"passes_completed\": 111, \"passes_attempted\": 193, \"touchdowns\": 8, \"pred_1\": 73, \"predict\": 73, \"pred\": 73}, {\"points_scored\": 75, \"yards_per_play\": 5.8, \"offensive_plays\": 259, \"passes_completed\": 93, \"passes_attempted\": 134, \"touchdowns\": 9, \"pred_1\": 66, \"predict\": 66, \"pred\": 66}, {\"points_scored\": 75, \"yards_per_play\": 5.2, \"offensive_plays\": 220, \"passes_completed\": 68, \"passes_attempted\": 105, \"touchdowns\": 9, \"pred_1\": 66, \"predict\": 66, \"pred\": 66}, {\"points_scored\": 74, \"yards_per_play\": 4.8, \"offensive_plays\": 234, \"passes_completed\": 79, \"passes_attempted\": 129, \"touchdowns\": 6, \"pred_1\": 66, \"predict\": 66, \"pred\": 66}, {\"points_scored\": 74, \"yards_per_play\": 5.7, \"offensive_plays\": 241, \"passes_completed\": 79, \"passes_attempted\": 118, \"touchdowns\": 8, \"pred_1\": 66, \"predict\": 66, \"pred\": 66}, {\"points_scored\": 73, \"yards_per_play\": 5.1, \"offensive_plays\": 237, \"passes_completed\": 88, \"passes_attempted\": 142, \"touchdowns\": 7, \"pred_1\": 73, \"predict\": 73, \"pred\": 73}, {\"points_scored\": 73, \"yards_per_play\": 4.6, \"offensive_plays\": 287, \"passes_completed\": 107, \"passes_attempted\": 172, \"touchdowns\": 10, \"pred_1\": 57, \"predict\": 57, \"pred\": 57}, {\"points_scored\": 71, \"yards_per_play\": 5.2, \"offensive_plays\": 241, \"passes_completed\": 76, \"passes_attempted\": 131, \"touchdowns\": 6, \"pred_1\": 66, \"predict\": 66, \"pred\": 66}, {\"points_scored\": 71, \"yards_per_play\": 5.5, \"offensive_plays\": 238, \"passes_completed\": 62, \"passes_attempted\": 108, \"touchdowns\": 7, \"pred_1\": 66, \"predict\": 66, \"pred\": 66}, {\"points_scored\": 70, \"yards_per_play\": 4.7, \"offensive_plays\": 248, \"passes_completed\": 106, \"passes_attempted\": 150, \"touchdowns\": 7, \"pred_1\": 73, \"predict\": 73, \"pred\": 73}, {\"points_scored\": 66, \"yards_per_play\": 5.4, \"offensive_plays\": 247, \"passes_completed\": 80, \"passes_attempted\": 131, \"touchdowns\": 6, \"pred_1\": 66, \"predict\": 66, \"pred\": 66}, {\"points_scored\": 64, \"yards_per_play\": 5.0, \"offensive_plays\": 219, \"passes_completed\": 34, \"passes_attempted\": 67, \"touchdowns\": 6, \"pred_1\": 64, \"predict\": 64, \"pred\": 64}, {\"points_scored\": 57, \"yards_per_play\": 5.0, \"offensive_plays\": 270, \"passes_completed\": 102, \"passes_attempted\": 154, \"touchdowns\": 6, \"pred_1\": 57, \"predict\": 57, \"pred\": 57}]}}, {\"mode\": \"vega-lite\"});\n",
       "</script>"
      ],
      "text/plain": [
       "alt.Chart(...)"
      ]
     },
     "execution_count": 60,
     "metadata": {},
     "output_type": "execute_result"
    }
   ],
   "source": [
    "c3 = alt.Chart(w4_1).mark_circle().encode(\n",
    "    x=\"passes_completed\",\n",
    "    y=\"passes_attempted\",\n",
    "    color=alt.Color(\"pred\", title=\"rank\"),\n",
    "    tooltip = ('passes_attempted','touchdowns','points_scored','yards_per_play','passes_completed')\n",
    ").properties(\n",
    "    title=\"Passing\",\n",
    "    width=400,\n",
    "    height=400,\n",
    ")\n",
    "c3\n"
   ]
  },
  {
   "cell_type": "markdown",
   "metadata": {
    "cell_id": "4975b7dacc334263a388840d7f49b5eb",
    "deepnote_cell_type": "markdown",
    "tags": []
   },
   "source": [
    "Using KNeighborsCalssifier and altair chart to show the performance of passing in each team, except two teams, which is almost 50% passing complete on the left side, and another one 193 passes attempts and 111 completed, high passes, high rate of success. other team has the similar rate of passing success. We can see there is a line in the graph."
   ]
  },
  {
   "cell_type": "markdown",
   "metadata": {
    "cell_id": "cfda09bc0b1d4acdad67853d34cf22fb",
    "deepnote_cell_type": "markdown",
    "tags": []
   },
   "source": [
    "## Summary\n",
    "In the final project, I use altair chart, Decission Tree and KNeighbor classifier to analyze the NFL teams offense performance. Also, using Decission Tree to make sure whtether it is overfitting or not which is very important in machine learning. "
   ]
  },
  {
   "cell_type": "markdown",
   "metadata": {
    "cell_id": "5c3e861e7b36483a8fcbcc78c8d71c23",
    "deepnote_cell_type": "markdown",
    "tags": []
   },
   "source": [
    "## References\n",
    "\n",
    "Your code above should include references.  Here is some additional space for references."
   ]
  },
  {
   "cell_type": "markdown",
   "metadata": {
    "cell_id": "9aa2a0d8bee54c62a786f0a4254bc069",
    "deepnote_cell_type": "markdown",
    "tags": []
   },
   "source": [
    "* What is the source of your dataset(s)?\n",
    "https://www.kaggle.com/datasets/kendallgillies/nflstatistics"
   ]
  },
  {
   "cell_type": "markdown",
   "metadata": {
    "cell_id": "826a0c6fc03042d78dd4581a039cda28",
    "deepnote_cell_type": "markdown",
    "deepnote_to_be_reexecuted": false,
    "execution_millis": 0,
    "execution_start": 1652916033453,
    "source_hash": "aa45eba7",
    "tags": []
   },
   "source": [
    "* List any other references that you found helpful.\n",
    "https://scikit-learn.org/stable/modules/generated/sklearn.neighbors.KNeighborsClassifier.html\n",
    "https://scikit-learn.org/stable/modules/generated/sklearn.tree.DecisionTreeClassifier.html"
   ]
  },
  {
   "cell_type": "markdown",
   "metadata": {
    "cell_id": "aabd687b962e4a2ebfb48dd6e436e85a",
    "deepnote_cell_type": "markdown",
    "tags": []
   },
   "source": [
    "## Submission\n",
    "\n",
    "Using the Share button at the top right, **enable Comment privileges** for anyone with a link to the project. Then submit that link on Canvas."
   ]
  },
  {
   "cell_type": "markdown",
   "metadata": {
    "created_in_deepnote_cell": true,
    "deepnote_cell_type": "markdown",
    "tags": []
   },
   "source": [
    "<a style='text-decoration:none;line-height:16px;display:flex;color:#5B5B62;padding:10px;justify-content:end;' href='https://deepnote.com?utm_source=created-in-deepnote-cell&projectId=f8a7d75c-60f8-4572-9513-6dbb4ae3d40d' target=\"_blank\">\n",
    "<img alt='Created in deepnote.com' style='display:inline;max-height:16px;margin:0px;margin-right:7.5px;' src='data:image/svg+xml;base64,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' > </img>\n",
    "Created in <span style='font-weight:600;margin-left:4px;'>Deepnote</span></a>"
   ]
  }
 ],
 "metadata": {
  "deepnote": {
   "is_reactive": false
  },
  "deepnote_execution_queue": [],
  "deepnote_notebook_id": "cd024e8177944c5fb210423e131bf682",
  "kernelspec": {
   "display_name": "Python 3 (ipykernel)",
   "language": "python",
   "name": "python3"
  },
  "language_info": {
   "codemirror_mode": {
    "name": "ipython",
    "version": 3
   },
   "file_extension": ".py",
   "mimetype": "text/x-python",
   "name": "python",
   "nbconvert_exporter": "python",
   "pygments_lexer": "ipython3",
   "version": "3.9.13"
  }
 },
 "nbformat": 4,
 "nbformat_minor": 4
}
