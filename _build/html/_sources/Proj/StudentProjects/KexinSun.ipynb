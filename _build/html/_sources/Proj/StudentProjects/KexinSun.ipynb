{
 "cells": [
  {
   "cell_type": "markdown",
   "metadata": {
    "cell_id": "54b773877fde42debcf31017e3f80a5d",
    "deepnote_cell_type": "text-cell-h1",
    "formattedRanges": [],
    "is_collapsed": false,
    "tags": []
   },
   "source": [
    "# Car Price Prediction"
   ]
  },
  {
   "cell_type": "markdown",
   "metadata": {
    "cell_id": "1098f3ff429f4e6588fc0ce81ebc26b5",
    "deepnote_cell_type": "text-cell-p",
    "formattedRanges": [],
    "is_collapsed": false,
    "tags": []
   },
   "source": [
    "Author: Kexin Sun"
   ]
  },
  {
   "cell_type": "markdown",
   "metadata": {
    "cell_id": "f945b33e9bc84b4ab13fc8eafc62ed73",
    "deepnote_cell_type": "text-cell-p",
    "formattedRanges": [],
    "is_collapsed": false,
    "tags": []
   },
   "source": [
    "Course Project, UC Irvine, Math 10, F22"
   ]
  },
  {
   "cell_type": "markdown",
   "metadata": {
    "cell_id": "0753048d46ce4e9f9fa7d0b3462948f3",
    "deepnote_cell_type": "text-cell-h2",
    "formattedRanges": [],
    "is_collapsed": false,
    "tags": []
   },
   "source": [
    "## Introduction"
   ]
  },
  {
   "cell_type": "markdown",
   "metadata": {
    "cell_id": "89bc8ecffd72430e994a64e4af367919",
    "deepnote_cell_type": "text-cell-p",
    "formattedRanges": [],
    "is_collapsed": false,
    "tags": []
   },
   "source": [
    "My project is to predict the price of future cars by analyzing the data in the data set. I first found out the brands with high sales volume, and then determined the factors affecting the price of the car by analyzing the correlation between various variables. I used Linear regression and train_test_split to analyze the prediction. I mainly analyzed the three most important factors: enginesize, curbweight, and horsepower to increase the accuracy of the model."
   ]
  },
  {
   "cell_type": "markdown",
   "metadata": {
    "cell_id": "0513984c49294025ba670380cca9d663",
    "deepnote_cell_type": "text-cell-h2",
    "formattedRanges": [],
    "is_collapsed": false,
    "tags": []
   },
   "source": [
    "## Main portion of the project"
   ]
  },
  {
   "cell_type": "markdown",
   "metadata": {
    "cell_id": "527ad484f3524a0780721442db409370",
    "deepnote_cell_type": "text-cell-h3",
    "formattedRanges": [],
    "is_collapsed": false,
    "tags": []
   },
   "source": [
    "### Data Loading"
   ]
  },
  {
   "cell_type": "code",
   "execution_count": 1,
   "metadata": {
    "cell_id": "c4800eb7310a47ff97f733cec03fd773",
    "deepnote_cell_type": "code",
    "deepnote_to_be_reexecuted": false,
    "execution_millis": 1967,
    "execution_start": 1670310943215,
    "source_hash": "4ebf7b4f",
    "tags": []
   },
   "outputs": [],
   "source": [
    "import pandas as pd\n",
    "import altair as alt\n",
    "import seaborn as sns\n",
    "import matplotlib.pyplot as plt\n",
    "import plotly.express as px\n",
    "from sklearn.linear_model import LinearRegression\n",
    "from sklearn.model_selection import train_test_split\n",
    "from sklearn.preprocessing import StandardScaler\n",
    "from sklearn.metrics import mean_squared_error\n",
    "from sklearn.metrics import r2_score"
   ]
  },
  {
   "cell_type": "code",
   "execution_count": 2,
   "metadata": {
    "cell_id": "81942cb7aea94aa3a6d4725785983f77",
    "deepnote_cell_type": "code",
    "deepnote_to_be_reexecuted": false,
    "execution_millis": 70,
    "execution_start": 1670310945225,
    "source_hash": "6e474926",
    "tags": []
   },
   "outputs": [
    {
     "data": {
      "application/vnd.deepnote.dataframe.v3+json": {
       "column_count": 26,
       "columns": [
        {
         "dtype": "int64",
         "name": "car_ID",
         "stats": {
          "histogram": [
           {
            "bin_end": 21.4,
            "bin_start": 1,
            "count": 21
           },
           {
            "bin_end": 41.8,
            "bin_start": 21.4,
            "count": 20
           },
           {
            "bin_end": 62.199999999999996,
            "bin_start": 41.8,
            "count": 21
           },
           {
            "bin_end": 82.6,
            "bin_start": 62.199999999999996,
            "count": 20
           },
           {
            "bin_end": 103,
            "bin_start": 82.6,
            "count": 20
           },
           {
            "bin_end": 123.39999999999999,
            "bin_start": 103,
            "count": 21
           },
           {
            "bin_end": 143.79999999999998,
            "bin_start": 123.39999999999999,
            "count": 20
           },
           {
            "bin_end": 164.2,
            "bin_start": 143.79999999999998,
            "count": 21
           },
           {
            "bin_end": 184.6,
            "bin_start": 164.2,
            "count": 20
           },
           {
            "bin_end": 205,
            "bin_start": 184.6,
            "count": 21
           }
          ],
          "max": "205",
          "min": "1",
          "nan_count": 0,
          "unique_count": 205
         }
        },
        {
         "dtype": "int64",
         "name": "symboling",
         "stats": {
          "histogram": [
           {
            "bin_end": -1.5,
            "bin_start": -2,
            "count": 3
           },
           {
            "bin_end": -1,
            "bin_start": -1.5,
            "count": 0
           },
           {
            "bin_end": -0.5,
            "bin_start": -1,
            "count": 22
           },
           {
            "bin_end": 0,
            "bin_start": -0.5,
            "count": 0
           },
           {
            "bin_end": 0.5,
            "bin_start": 0,
            "count": 67
           },
           {
            "bin_end": 1,
            "bin_start": 0.5,
            "count": 0
           },
           {
            "bin_end": 1.5,
            "bin_start": 1,
            "count": 54
           },
           {
            "bin_end": 2,
            "bin_start": 1.5,
            "count": 0
           },
           {
            "bin_end": 2.5,
            "bin_start": 2,
            "count": 32
           },
           {
            "bin_end": 3,
            "bin_start": 2.5,
            "count": 27
           }
          ],
          "max": "3",
          "min": "-2",
          "nan_count": 0,
          "unique_count": 6
         }
        },
        {
         "dtype": "object",
         "name": "CarName",
         "stats": {
          "categories": [
           {
            "count": 6,
            "name": "peugeot 504"
           },
           {
            "count": 6,
            "name": "toyota corona"
           },
           {
            "count": 193,
            "name": "145 others"
           }
          ],
          "nan_count": 0,
          "unique_count": 147
         }
        },
        {
         "dtype": "object",
         "name": "fueltype",
         "stats": {
          "categories": [
           {
            "count": 185,
            "name": "gas"
           },
           {
            "count": 20,
            "name": "diesel"
           }
          ],
          "nan_count": 0,
          "unique_count": 2
         }
        },
        {
         "dtype": "object",
         "name": "aspiration",
         "stats": {
          "categories": [
           {
            "count": 168,
            "name": "std"
           },
           {
            "count": 37,
            "name": "turbo"
           }
          ],
          "nan_count": 0,
          "unique_count": 2
         }
        },
        {
         "dtype": "object",
         "name": "doornumber",
         "stats": {
          "categories": [
           {
            "count": 115,
            "name": "four"
           },
           {
            "count": 90,
            "name": "two"
           }
          ],
          "nan_count": 0,
          "unique_count": 2
         }
        },
        {
         "dtype": "object",
         "name": "carbody",
         "stats": {
          "categories": [
           {
            "count": 96,
            "name": "sedan"
           },
           {
            "count": 70,
            "name": "hatchback"
           },
           {
            "count": 39,
            "name": "3 others"
           }
          ],
          "nan_count": 0,
          "unique_count": 5
         }
        },
        {
         "dtype": "object",
         "name": "drivewheel",
         "stats": {
          "categories": [
           {
            "count": 120,
            "name": "fwd"
           },
           {
            "count": 76,
            "name": "rwd"
           },
           {
            "count": 9,
            "name": "4wd"
           }
          ],
          "nan_count": 0,
          "unique_count": 3
         }
        },
        {
         "dtype": "object",
         "name": "enginelocation",
         "stats": {
          "categories": [
           {
            "count": 202,
            "name": "front"
           },
           {
            "count": 3,
            "name": "rear"
           }
          ],
          "nan_count": 0,
          "unique_count": 2
         }
        },
        {
         "dtype": "float64",
         "name": "wheelbase",
         "stats": {
          "histogram": [
           {
            "bin_end": 90.03,
            "bin_start": 86.6,
            "count": 8
           },
           {
            "bin_end": 93.46,
            "bin_start": 90.03,
            "count": 9
           },
           {
            "bin_end": 96.89,
            "bin_start": 93.46,
            "count": 83
           },
           {
            "bin_end": 100.32,
            "bin_start": 96.89,
            "count": 42
           },
           {
            "bin_end": 103.75,
            "bin_start": 100.32,
            "count": 24
           },
           {
            "bin_end": 107.18,
            "bin_start": 103.75,
            "count": 14
           },
           {
            "bin_end": 110.61,
            "bin_start": 107.18,
            "count": 15
           },
           {
            "bin_end": 114.04,
            "bin_start": 110.61,
            "count": 3
           },
           {
            "bin_end": 117.47,
            "bin_start": 114.04,
            "count": 6
           },
           {
            "bin_end": 120.9,
            "bin_start": 117.47,
            "count": 1
           }
          ],
          "max": "120.9",
          "min": "86.6",
          "nan_count": 0,
          "unique_count": 53
         }
        },
        {
         "dtype": "float64",
         "name": "carlength",
         "stats": {
          "histogram": [
           {
            "bin_end": 147.79999999999998,
            "bin_start": 141.1,
            "count": 3
           },
           {
            "bin_end": 154.5,
            "bin_start": 147.79999999999998,
            "count": 3
           },
           {
            "bin_end": 161.2,
            "bin_start": 154.5,
            "count": 29
           },
           {
            "bin_end": 167.9,
            "bin_start": 161.2,
            "count": 23
           },
           {
            "bin_end": 174.6,
            "bin_start": 167.9,
            "count": 54
           },
           {
            "bin_end": 181.3,
            "bin_start": 174.6,
            "count": 39
           },
           {
            "bin_end": 188,
            "bin_start": 181.3,
            "count": 23
           },
           {
            "bin_end": 194.7,
            "bin_start": 188,
            "count": 20
           },
           {
            "bin_end": 201.4,
            "bin_start": 194.7,
            "count": 8
           },
           {
            "bin_end": 208.1,
            "bin_start": 201.4,
            "count": 3
           }
          ],
          "max": "208.1",
          "min": "141.1",
          "nan_count": 0,
          "unique_count": 75
         }
        },
        {
         "dtype": "float64",
         "name": "carwidth",
         "stats": {
          "histogram": [
           {
            "bin_end": 61.5,
            "bin_start": 60.3,
            "count": 1
           },
           {
            "bin_end": 62.699999999999996,
            "bin_start": 61.5,
            "count": 2
           },
           {
            "bin_end": 63.9,
            "bin_start": 62.699999999999996,
            "count": 36
           },
           {
            "bin_end": 65.1,
            "bin_start": 63.9,
            "count": 39
           },
           {
            "bin_end": 66.3,
            "bin_start": 65.1,
            "count": 44
           },
           {
            "bin_end": 67.5,
            "bin_start": 66.3,
            "count": 42
           },
           {
            "bin_end": 68.7,
            "bin_start": 67.5,
            "count": 20
           },
           {
            "bin_end": 69.89999999999999,
            "bin_start": 68.7,
            "count": 7
           },
           {
            "bin_end": 71.1,
            "bin_start": 69.89999999999999,
            "count": 6
           },
           {
            "bin_end": 72.3,
            "bin_start": 71.1,
            "count": 8
           }
          ],
          "max": "72.3",
          "min": "60.3",
          "nan_count": 0,
          "unique_count": 44
         }
        },
        {
         "dtype": "float64",
         "name": "carheight",
         "stats": {
          "histogram": [
           {
            "bin_end": 49,
            "bin_start": 47.8,
            "count": 3
           },
           {
            "bin_end": 50.199999999999996,
            "bin_start": 49,
            "count": 9
           },
           {
            "bin_end": 51.4,
            "bin_start": 50.199999999999996,
            "count": 28
           },
           {
            "bin_end": 52.599999999999994,
            "bin_start": 51.4,
            "count": 25
           },
           {
            "bin_end": 53.8,
            "bin_start": 52.599999999999994,
            "count": 33
           },
           {
            "bin_end": 55,
            "bin_start": 53.8,
            "count": 41
           },
           {
            "bin_end": 56.199999999999996,
            "bin_start": 55,
            "count": 38
           },
           {
            "bin_end": 57.4,
            "bin_start": 56.199999999999996,
            "count": 15
           },
           {
            "bin_end": 58.599999999999994,
            "bin_start": 57.4,
            "count": 4
           },
           {
            "bin_end": 59.8,
            "bin_start": 58.599999999999994,
            "count": 9
           }
          ],
          "max": "59.8",
          "min": "47.8",
          "nan_count": 0,
          "unique_count": 49
         }
        },
        {
         "dtype": "int64",
         "name": "curbweight",
         "stats": {
          "histogram": [
           {
            "bin_end": 1745.8,
            "bin_start": 1488,
            "count": 2
           },
           {
            "bin_end": 2003.6,
            "bin_start": 1745.8,
            "count": 29
           },
           {
            "bin_end": 2261.4,
            "bin_start": 2003.6,
            "count": 33
           },
           {
            "bin_end": 2519.2,
            "bin_start": 2261.4,
            "count": 50
           },
           {
            "bin_end": 2777,
            "bin_start": 2519.2,
            "count": 25
           },
           {
            "bin_end": 3034.8,
            "bin_start": 2777,
            "count": 23
           },
           {
            "bin_end": 3292.6000000000004,
            "bin_start": 3034.8,
            "count": 26
           },
           {
            "bin_end": 3550.4,
            "bin_start": 3292.6000000000004,
            "count": 8
           },
           {
            "bin_end": 3808.2000000000003,
            "bin_start": 3550.4,
            "count": 5
           },
           {
            "bin_end": 4066,
            "bin_start": 3808.2000000000003,
            "count": 4
           }
          ],
          "max": "4066",
          "min": "1488",
          "nan_count": 0,
          "unique_count": 171
         }
        },
        {
         "dtype": "object",
         "name": "enginetype",
         "stats": {
          "categories": [
           {
            "count": 148,
            "name": "ohc"
           },
           {
            "count": 15,
            "name": "ohcf"
           },
           {
            "count": 42,
            "name": "5 others"
           }
          ],
          "nan_count": 0,
          "unique_count": 7
         }
        },
        {
         "dtype": "object",
         "name": "cylindernumber",
         "stats": {
          "categories": [
           {
            "count": 159,
            "name": "four"
           },
           {
            "count": 24,
            "name": "six"
           },
           {
            "count": 22,
            "name": "5 others"
           }
          ],
          "nan_count": 0,
          "unique_count": 7
         }
        },
        {
         "dtype": "int64",
         "name": "enginesize",
         "stats": {
          "histogram": [
           {
            "bin_end": 87.5,
            "bin_start": 61,
            "count": 6
           },
           {
            "bin_end": 114,
            "bin_start": 87.5,
            "count": 95
           },
           {
            "bin_end": 140.5,
            "bin_start": 114,
            "count": 46
           },
           {
            "bin_end": 167,
            "bin_start": 140.5,
            "count": 30
           },
           {
            "bin_end": 193.5,
            "bin_start": 167,
            "count": 14
           },
           {
            "bin_end": 220,
            "bin_start": 193.5,
            "count": 7
           },
           {
            "bin_end": 246.5,
            "bin_start": 220,
            "count": 2
           },
           {
            "bin_end": 273,
            "bin_start": 246.5,
            "count": 2
           },
           {
            "bin_end": 299.5,
            "bin_start": 273,
            "count": 0
           },
           {
            "bin_end": 326,
            "bin_start": 299.5,
            "count": 3
           }
          ],
          "max": "326",
          "min": "61",
          "nan_count": 0,
          "unique_count": 44
         }
        },
        {
         "dtype": "object",
         "name": "fuelsystem",
         "stats": {
          "categories": [
           {
            "count": 94,
            "name": "mpfi"
           },
           {
            "count": 66,
            "name": "2bbl"
           },
           {
            "count": 45,
            "name": "6 others"
           }
          ],
          "nan_count": 0,
          "unique_count": 8
         }
        },
        {
         "dtype": "float64",
         "name": "boreratio",
         "stats": {
          "histogram": [
           {
            "bin_end": 2.68,
            "bin_start": 2.54,
            "count": 1
           },
           {
            "bin_end": 2.82,
            "bin_start": 2.68,
            "count": 1
           },
           {
            "bin_end": 2.96,
            "bin_start": 2.82,
            "count": 8
           },
           {
            "bin_end": 3.1,
            "bin_start": 2.96,
            "count": 37
           },
           {
            "bin_end": 3.24,
            "bin_start": 3.1,
            "count": 40
           },
           {
            "bin_end": 3.38,
            "bin_start": 3.24,
            "count": 28
           },
           {
            "bin_end": 3.52,
            "bin_start": 3.38,
            "count": 27
           },
           {
            "bin_end": 3.66,
            "bin_start": 3.52,
            "count": 42
           },
           {
            "bin_end": 3.8,
            "bin_start": 3.66,
            "count": 17
           },
           {
            "bin_end": 3.94,
            "bin_start": 3.8,
            "count": 4
           }
          ],
          "max": "3.94",
          "min": "2.54",
          "nan_count": 0,
          "unique_count": 38
         }
        },
        {
         "dtype": "float64",
         "name": "stroke",
         "stats": {
          "histogram": [
           {
            "bin_end": 2.28,
            "bin_start": 2.07,
            "count": 3
           },
           {
            "bin_end": 2.4899999999999998,
            "bin_start": 2.28,
            "count": 1
           },
           {
            "bin_end": 2.7,
            "bin_start": 2.4899999999999998,
            "count": 13
           },
           {
            "bin_end": 2.91,
            "bin_start": 2.7,
            "count": 7
           },
           {
            "bin_end": 3.12,
            "bin_start": 2.91,
            "count": 30
           },
           {
            "bin_end": 3.33,
            "bin_start": 3.12,
            "count": 56
           },
           {
            "bin_end": 3.54,
            "bin_start": 3.33,
            "count": 71
           },
           {
            "bin_end": 3.75,
            "bin_start": 3.54,
            "count": 15
           },
           {
            "bin_end": 3.96,
            "bin_start": 3.75,
            "count": 7
           },
           {
            "bin_end": 4.17,
            "bin_start": 3.96,
            "count": 2
           }
          ],
          "max": "4.17",
          "min": "2.07",
          "nan_count": 0,
          "unique_count": 37
         }
        },
        {
         "dtype": "float64",
         "name": "compressionratio",
         "stats": {
          "histogram": [
           {
            "bin_end": 8.6,
            "bin_start": 7,
            "count": 51
           },
           {
            "bin_end": 10.2,
            "bin_start": 8.6,
            "count": 133
           },
           {
            "bin_end": 11.8,
            "bin_start": 10.2,
            "count": 1
           },
           {
            "bin_end": 13.4,
            "bin_start": 11.8,
            "count": 0
           },
           {
            "bin_end": 15,
            "bin_start": 13.4,
            "count": 0
           },
           {
            "bin_end": 16.6,
            "bin_start": 15,
            "count": 0
           },
           {
            "bin_end": 18.200000000000003,
            "bin_start": 16.6,
            "count": 0
           },
           {
            "bin_end": 19.8,
            "bin_start": 18.200000000000003,
            "count": 0
           },
           {
            "bin_end": 21.4,
            "bin_start": 19.8,
            "count": 5
           },
           {
            "bin_end": 23,
            "bin_start": 21.4,
            "count": 15
           }
          ],
          "max": "23.0",
          "min": "7.0",
          "nan_count": 0,
          "unique_count": 32
         }
        },
        {
         "dtype": "int64",
         "name": "horsepower",
         "stats": {
          "histogram": [
           {
            "bin_end": 72,
            "bin_start": 48,
            "count": 55
           },
           {
            "bin_end": 96,
            "bin_start": 72,
            "count": 51
           },
           {
            "bin_end": 120,
            "bin_start": 96,
            "count": 49
           },
           {
            "bin_end": 144,
            "bin_start": 120,
            "count": 13
           },
           {
            "bin_end": 168,
            "bin_start": 144,
            "count": 23
           },
           {
            "bin_end": 192,
            "bin_start": 168,
            "count": 8
           },
           {
            "bin_end": 216,
            "bin_start": 192,
            "count": 4
           },
           {
            "bin_end": 240,
            "bin_start": 216,
            "count": 0
           },
           {
            "bin_end": 264,
            "bin_start": 240,
            "count": 1
           },
           {
            "bin_end": 288,
            "bin_start": 264,
            "count": 1
           }
          ],
          "max": "288",
          "min": "48",
          "nan_count": 0,
          "unique_count": 59
         }
        },
        {
         "dtype": "int64",
         "name": "peakrpm",
         "stats": {
          "histogram": [
           {
            "bin_end": 4395,
            "bin_start": 4150,
            "count": 17
           },
           {
            "bin_end": 4640,
            "bin_start": 4395,
            "count": 10
           },
           {
            "bin_end": 4885,
            "bin_start": 4640,
            "count": 41
           },
           {
            "bin_end": 5130,
            "bin_start": 4885,
            "count": 33
           },
           {
            "bin_end": 5375,
            "bin_start": 5130,
            "count": 31
           },
           {
            "bin_end": 5620,
            "bin_start": 5375,
            "count": 51
           },
           {
            "bin_end": 5865,
            "bin_start": 5620,
            "count": 8
           },
           {
            "bin_end": 6110,
            "bin_start": 5865,
            "count": 12
           },
           {
            "bin_end": 6355,
            "bin_start": 6110,
            "count": 0
           },
           {
            "bin_end": 6600,
            "bin_start": 6355,
            "count": 2
           }
          ],
          "max": "6600",
          "min": "4150",
          "nan_count": 0,
          "unique_count": 23
         }
        },
        {
         "dtype": "int64",
         "name": "citympg",
         "stats": {
          "histogram": [
           {
            "bin_end": 16.6,
            "bin_start": 13,
            "count": 12
           },
           {
            "bin_end": 20.2,
            "bin_start": 16.6,
            "count": 46
           },
           {
            "bin_end": 23.8,
            "bin_start": 20.2,
            "count": 24
           },
           {
            "bin_end": 27.4,
            "bin_start": 23.8,
            "count": 56
           },
           {
            "bin_end": 31,
            "bin_start": 27.4,
            "count": 18
           },
           {
            "bin_end": 34.6,
            "bin_start": 31,
            "count": 31
           },
           {
            "bin_end": 38.2,
            "bin_start": 34.6,
            "count": 15
           },
           {
            "bin_end": 41.8,
            "bin_start": 38.2,
            "count": 0
           },
           {
            "bin_end": 45.4,
            "bin_start": 41.8,
            "count": 1
           },
           {
            "bin_end": 49,
            "bin_start": 45.4,
            "count": 2
           }
          ],
          "max": "49",
          "min": "13",
          "nan_count": 0,
          "unique_count": 29
         }
        },
        {
         "dtype": "int64",
         "name": "highwaympg",
         "stats": {
          "histogram": [
           {
            "bin_end": 19.8,
            "bin_start": 16,
            "count": 7
           },
           {
            "bin_end": 23.6,
            "bin_start": 19.8,
            "count": 17
           },
           {
            "bin_end": 27.4,
            "bin_start": 23.6,
            "count": 44
           },
           {
            "bin_end": 31.2,
            "bin_start": 27.4,
            "count": 47
           },
           {
            "bin_end": 35,
            "bin_start": 31.2,
            "count": 39
           },
           {
            "bin_end": 38.8,
            "bin_start": 35,
            "count": 32
           },
           {
            "bin_end": 42.599999999999994,
            "bin_start": 38.8,
            "count": 8
           },
           {
            "bin_end": 46.4,
            "bin_start": 42.599999999999994,
            "count": 6
           },
           {
            "bin_end": 50.199999999999996,
            "bin_start": 46.4,
            "count": 3
           },
           {
            "bin_end": 54,
            "bin_start": 50.199999999999996,
            "count": 2
           }
          ],
          "max": "54",
          "min": "16",
          "nan_count": 0,
          "unique_count": 30
         }
        },
        {
         "dtype": "float64",
         "name": "price",
         "stats": {
          "histogram": [
           {
            "bin_end": 9146.2,
            "bin_start": 5118,
            "count": 83
           },
           {
            "bin_end": 13174.4,
            "bin_start": 9146.2,
            "count": 45
           },
           {
            "bin_end": 17202.6,
            "bin_start": 13174.4,
            "count": 35
           },
           {
            "bin_end": 21230.8,
            "bin_start": 17202.6,
            "count": 18
           },
           {
            "bin_end": 25259,
            "bin_start": 21230.8,
            "count": 6
           },
           {
            "bin_end": 29287.199999999997,
            "bin_start": 25259,
            "count": 3
           },
           {
            "bin_end": 33315.399999999994,
            "bin_start": 29287.199999999997,
            "count": 5
           },
           {
            "bin_end": 37343.6,
            "bin_start": 33315.399999999994,
            "count": 7
           },
           {
            "bin_end": 41371.799999999996,
            "bin_start": 37343.6,
            "count": 2
           },
           {
            "bin_end": 45400,
            "bin_start": 41371.799999999996,
            "count": 1
           }
          ],
          "max": "45400.0",
          "min": "5118.0",
          "nan_count": 0,
          "unique_count": 189
         }
        },
        {
         "dtype": "int64",
         "name": "_deepnote_index_column"
        }
       ],
       "row_count": 205,
       "rows": [
        {
         "CarName": "alfa-romero giulia",
         "_deepnote_index_column": "0",
         "aspiration": "std",
         "boreratio": "3.47",
         "car_ID": "1",
         "carbody": "convertible",
         "carheight": "48.8",
         "carlength": "168.8",
         "carwidth": "64.1",
         "citympg": "21",
         "compressionratio": "9.0",
         "curbweight": "2548",
         "cylindernumber": "four",
         "doornumber": "two",
         "drivewheel": "rwd",
         "enginelocation": "front",
         "enginesize": "130",
         "enginetype": "dohc",
         "fuelsystem": "mpfi",
         "fueltype": "gas",
         "highwaympg": "27",
         "horsepower": "111",
         "peakrpm": "5000",
         "price": "13495.0",
         "stroke": "2.68",
         "symboling": "3",
         "wheelbase": "88.6"
        },
        {
         "CarName": "alfa-romero stelvio",
         "_deepnote_index_column": "1",
         "aspiration": "std",
         "boreratio": "3.47",
         "car_ID": "2",
         "carbody": "convertible",
         "carheight": "48.8",
         "carlength": "168.8",
         "carwidth": "64.1",
         "citympg": "21",
         "compressionratio": "9.0",
         "curbweight": "2548",
         "cylindernumber": "four",
         "doornumber": "two",
         "drivewheel": "rwd",
         "enginelocation": "front",
         "enginesize": "130",
         "enginetype": "dohc",
         "fuelsystem": "mpfi",
         "fueltype": "gas",
         "highwaympg": "27",
         "horsepower": "111",
         "peakrpm": "5000",
         "price": "16500.0",
         "stroke": "2.68",
         "symboling": "3",
         "wheelbase": "88.6"
        },
        {
         "CarName": "alfa-romero Quadrifoglio",
         "_deepnote_index_column": "2",
         "aspiration": "std",
         "boreratio": "2.68",
         "car_ID": "3",
         "carbody": "hatchback",
         "carheight": "52.4",
         "carlength": "171.2",
         "carwidth": "65.5",
         "citympg": "19",
         "compressionratio": "9.0",
         "curbweight": "2823",
         "cylindernumber": "six",
         "doornumber": "two",
         "drivewheel": "rwd",
         "enginelocation": "front",
         "enginesize": "152",
         "enginetype": "ohcv",
         "fuelsystem": "mpfi",
         "fueltype": "gas",
         "highwaympg": "26",
         "horsepower": "154",
         "peakrpm": "5000",
         "price": "16500.0",
         "stroke": "3.47",
         "symboling": "1",
         "wheelbase": "94.5"
        },
        {
         "CarName": "audi 100 ls",
         "_deepnote_index_column": "3",
         "aspiration": "std",
         "boreratio": "3.19",
         "car_ID": "4",
         "carbody": "sedan",
         "carheight": "54.3",
         "carlength": "176.6",
         "carwidth": "66.2",
         "citympg": "24",
         "compressionratio": "10.0",
         "curbweight": "2337",
         "cylindernumber": "four",
         "doornumber": "four",
         "drivewheel": "fwd",
         "enginelocation": "front",
         "enginesize": "109",
         "enginetype": "ohc",
         "fuelsystem": "mpfi",
         "fueltype": "gas",
         "highwaympg": "30",
         "horsepower": "102",
         "peakrpm": "5500",
         "price": "13950.0",
         "stroke": "3.4",
         "symboling": "2",
         "wheelbase": "99.8"
        },
        {
         "CarName": "audi 100ls",
         "_deepnote_index_column": "4",
         "aspiration": "std",
         "boreratio": "3.19",
         "car_ID": "5",
         "carbody": "sedan",
         "carheight": "54.3",
         "carlength": "176.6",
         "carwidth": "66.4",
         "citympg": "18",
         "compressionratio": "8.0",
         "curbweight": "2824",
         "cylindernumber": "five",
         "doornumber": "four",
         "drivewheel": "4wd",
         "enginelocation": "front",
         "enginesize": "136",
         "enginetype": "ohc",
         "fuelsystem": "mpfi",
         "fueltype": "gas",
         "highwaympg": "22",
         "horsepower": "115",
         "peakrpm": "5500",
         "price": "17450.0",
         "stroke": "3.4",
         "symboling": "2",
         "wheelbase": "99.4"
        },
        {
         "CarName": "audi fox",
         "_deepnote_index_column": "5",
         "aspiration": "std",
         "boreratio": "3.19",
         "car_ID": "6",
         "carbody": "sedan",
         "carheight": "53.1",
         "carlength": "177.3",
         "carwidth": "66.3",
         "citympg": "19",
         "compressionratio": "8.5",
         "curbweight": "2507",
         "cylindernumber": "five",
         "doornumber": "two",
         "drivewheel": "fwd",
         "enginelocation": "front",
         "enginesize": "136",
         "enginetype": "ohc",
         "fuelsystem": "mpfi",
         "fueltype": "gas",
         "highwaympg": "25",
         "horsepower": "110",
         "peakrpm": "5500",
         "price": "15250.0",
         "stroke": "3.4",
         "symboling": "2",
         "wheelbase": "99.8"
        },
        {
         "CarName": "audi 100ls",
         "_deepnote_index_column": "6",
         "aspiration": "std",
         "boreratio": "3.19",
         "car_ID": "7",
         "carbody": "sedan",
         "carheight": "55.7",
         "carlength": "192.7",
         "carwidth": "71.4",
         "citympg": "19",
         "compressionratio": "8.5",
         "curbweight": "2844",
         "cylindernumber": "five",
         "doornumber": "four",
         "drivewheel": "fwd",
         "enginelocation": "front",
         "enginesize": "136",
         "enginetype": "ohc",
         "fuelsystem": "mpfi",
         "fueltype": "gas",
         "highwaympg": "25",
         "horsepower": "110",
         "peakrpm": "5500",
         "price": "17710.0",
         "stroke": "3.4",
         "symboling": "1",
         "wheelbase": "105.8"
        },
        {
         "CarName": "audi 5000",
         "_deepnote_index_column": "7",
         "aspiration": "std",
         "boreratio": "3.19",
         "car_ID": "8",
         "carbody": "wagon",
         "carheight": "55.7",
         "carlength": "192.7",
         "carwidth": "71.4",
         "citympg": "19",
         "compressionratio": "8.5",
         "curbweight": "2954",
         "cylindernumber": "five",
         "doornumber": "four",
         "drivewheel": "fwd",
         "enginelocation": "front",
         "enginesize": "136",
         "enginetype": "ohc",
         "fuelsystem": "mpfi",
         "fueltype": "gas",
         "highwaympg": "25",
         "horsepower": "110",
         "peakrpm": "5500",
         "price": "18920.0",
         "stroke": "3.4",
         "symboling": "1",
         "wheelbase": "105.8"
        },
        {
         "CarName": "audi 4000",
         "_deepnote_index_column": "8",
         "aspiration": "turbo",
         "boreratio": "3.13",
         "car_ID": "9",
         "carbody": "sedan",
         "carheight": "55.9",
         "carlength": "192.7",
         "carwidth": "71.4",
         "citympg": "17",
         "compressionratio": "8.3",
         "curbweight": "3086",
         "cylindernumber": "five",
         "doornumber": "four",
         "drivewheel": "fwd",
         "enginelocation": "front",
         "enginesize": "131",
         "enginetype": "ohc",
         "fuelsystem": "mpfi",
         "fueltype": "gas",
         "highwaympg": "20",
         "horsepower": "140",
         "peakrpm": "5500",
         "price": "23875.0",
         "stroke": "3.4",
         "symboling": "1",
         "wheelbase": "105.8"
        },
        {
         "CarName": "audi 5000s (diesel)",
         "_deepnote_index_column": "9",
         "aspiration": "turbo",
         "boreratio": "3.13",
         "car_ID": "10",
         "carbody": "hatchback",
         "carheight": "52.0",
         "carlength": "178.2",
         "carwidth": "67.9",
         "citympg": "16",
         "compressionratio": "7.0",
         "curbweight": "3053",
         "cylindernumber": "five",
         "doornumber": "two",
         "drivewheel": "4wd",
         "enginelocation": "front",
         "enginesize": "131",
         "enginetype": "ohc",
         "fuelsystem": "mpfi",
         "fueltype": "gas",
         "highwaympg": "22",
         "horsepower": "160",
         "peakrpm": "5500",
         "price": "17859.167",
         "stroke": "3.4",
         "symboling": "0",
         "wheelbase": "99.5"
        }
       ]
      },
      "text/html": [
       "<div>\n",
       "<style scoped>\n",
       "    .dataframe tbody tr th:only-of-type {\n",
       "        vertical-align: middle;\n",
       "    }\n",
       "\n",
       "    .dataframe tbody tr th {\n",
       "        vertical-align: top;\n",
       "    }\n",
       "\n",
       "    .dataframe thead th {\n",
       "        text-align: right;\n",
       "    }\n",
       "</style>\n",
       "<table border=\"1\" class=\"dataframe\">\n",
       "  <thead>\n",
       "    <tr style=\"text-align: right;\">\n",
       "      <th></th>\n",
       "      <th>car_ID</th>\n",
       "      <th>symboling</th>\n",
       "      <th>CarName</th>\n",
       "      <th>fueltype</th>\n",
       "      <th>aspiration</th>\n",
       "      <th>doornumber</th>\n",
       "      <th>carbody</th>\n",
       "      <th>drivewheel</th>\n",
       "      <th>enginelocation</th>\n",
       "      <th>wheelbase</th>\n",
       "      <th>...</th>\n",
       "      <th>enginesize</th>\n",
       "      <th>fuelsystem</th>\n",
       "      <th>boreratio</th>\n",
       "      <th>stroke</th>\n",
       "      <th>compressionratio</th>\n",
       "      <th>horsepower</th>\n",
       "      <th>peakrpm</th>\n",
       "      <th>citympg</th>\n",
       "      <th>highwaympg</th>\n",
       "      <th>price</th>\n",
       "    </tr>\n",
       "  </thead>\n",
       "  <tbody>\n",
       "    <tr>\n",
       "      <th>0</th>\n",
       "      <td>1</td>\n",
       "      <td>3</td>\n",
       "      <td>alfa-romero giulia</td>\n",
       "      <td>gas</td>\n",
       "      <td>std</td>\n",
       "      <td>two</td>\n",
       "      <td>convertible</td>\n",
       "      <td>rwd</td>\n",
       "      <td>front</td>\n",
       "      <td>88.6</td>\n",
       "      <td>...</td>\n",
       "      <td>130</td>\n",
       "      <td>mpfi</td>\n",
       "      <td>3.47</td>\n",
       "      <td>2.68</td>\n",
       "      <td>9.0</td>\n",
       "      <td>111</td>\n",
       "      <td>5000</td>\n",
       "      <td>21</td>\n",
       "      <td>27</td>\n",
       "      <td>13495.0</td>\n",
       "    </tr>\n",
       "    <tr>\n",
       "      <th>1</th>\n",
       "      <td>2</td>\n",
       "      <td>3</td>\n",
       "      <td>alfa-romero stelvio</td>\n",
       "      <td>gas</td>\n",
       "      <td>std</td>\n",
       "      <td>two</td>\n",
       "      <td>convertible</td>\n",
       "      <td>rwd</td>\n",
       "      <td>front</td>\n",
       "      <td>88.6</td>\n",
       "      <td>...</td>\n",
       "      <td>130</td>\n",
       "      <td>mpfi</td>\n",
       "      <td>3.47</td>\n",
       "      <td>2.68</td>\n",
       "      <td>9.0</td>\n",
       "      <td>111</td>\n",
       "      <td>5000</td>\n",
       "      <td>21</td>\n",
       "      <td>27</td>\n",
       "      <td>16500.0</td>\n",
       "    </tr>\n",
       "    <tr>\n",
       "      <th>2</th>\n",
       "      <td>3</td>\n",
       "      <td>1</td>\n",
       "      <td>alfa-romero Quadrifoglio</td>\n",
       "      <td>gas</td>\n",
       "      <td>std</td>\n",
       "      <td>two</td>\n",
       "      <td>hatchback</td>\n",
       "      <td>rwd</td>\n",
       "      <td>front</td>\n",
       "      <td>94.5</td>\n",
       "      <td>...</td>\n",
       "      <td>152</td>\n",
       "      <td>mpfi</td>\n",
       "      <td>2.68</td>\n",
       "      <td>3.47</td>\n",
       "      <td>9.0</td>\n",
       "      <td>154</td>\n",
       "      <td>5000</td>\n",
       "      <td>19</td>\n",
       "      <td>26</td>\n",
       "      <td>16500.0</td>\n",
       "    </tr>\n",
       "    <tr>\n",
       "      <th>3</th>\n",
       "      <td>4</td>\n",
       "      <td>2</td>\n",
       "      <td>audi 100 ls</td>\n",
       "      <td>gas</td>\n",
       "      <td>std</td>\n",
       "      <td>four</td>\n",
       "      <td>sedan</td>\n",
       "      <td>fwd</td>\n",
       "      <td>front</td>\n",
       "      <td>99.8</td>\n",
       "      <td>...</td>\n",
       "      <td>109</td>\n",
       "      <td>mpfi</td>\n",
       "      <td>3.19</td>\n",
       "      <td>3.40</td>\n",
       "      <td>10.0</td>\n",
       "      <td>102</td>\n",
       "      <td>5500</td>\n",
       "      <td>24</td>\n",
       "      <td>30</td>\n",
       "      <td>13950.0</td>\n",
       "    </tr>\n",
       "    <tr>\n",
       "      <th>4</th>\n",
       "      <td>5</td>\n",
       "      <td>2</td>\n",
       "      <td>audi 100ls</td>\n",
       "      <td>gas</td>\n",
       "      <td>std</td>\n",
       "      <td>four</td>\n",
       "      <td>sedan</td>\n",
       "      <td>4wd</td>\n",
       "      <td>front</td>\n",
       "      <td>99.4</td>\n",
       "      <td>...</td>\n",
       "      <td>136</td>\n",
       "      <td>mpfi</td>\n",
       "      <td>3.19</td>\n",
       "      <td>3.40</td>\n",
       "      <td>8.0</td>\n",
       "      <td>115</td>\n",
       "      <td>5500</td>\n",
       "      <td>18</td>\n",
       "      <td>22</td>\n",
       "      <td>17450.0</td>\n",
       "    </tr>\n",
       "    <tr>\n",
       "      <th>...</th>\n",
       "      <td>...</td>\n",
       "      <td>...</td>\n",
       "      <td>...</td>\n",
       "      <td>...</td>\n",
       "      <td>...</td>\n",
       "      <td>...</td>\n",
       "      <td>...</td>\n",
       "      <td>...</td>\n",
       "      <td>...</td>\n",
       "      <td>...</td>\n",
       "      <td>...</td>\n",
       "      <td>...</td>\n",
       "      <td>...</td>\n",
       "      <td>...</td>\n",
       "      <td>...</td>\n",
       "      <td>...</td>\n",
       "      <td>...</td>\n",
       "      <td>...</td>\n",
       "      <td>...</td>\n",
       "      <td>...</td>\n",
       "      <td>...</td>\n",
       "    </tr>\n",
       "    <tr>\n",
       "      <th>200</th>\n",
       "      <td>201</td>\n",
       "      <td>-1</td>\n",
       "      <td>volvo 145e (sw)</td>\n",
       "      <td>gas</td>\n",
       "      <td>std</td>\n",
       "      <td>four</td>\n",
       "      <td>sedan</td>\n",
       "      <td>rwd</td>\n",
       "      <td>front</td>\n",
       "      <td>109.1</td>\n",
       "      <td>...</td>\n",
       "      <td>141</td>\n",
       "      <td>mpfi</td>\n",
       "      <td>3.78</td>\n",
       "      <td>3.15</td>\n",
       "      <td>9.5</td>\n",
       "      <td>114</td>\n",
       "      <td>5400</td>\n",
       "      <td>23</td>\n",
       "      <td>28</td>\n",
       "      <td>16845.0</td>\n",
       "    </tr>\n",
       "    <tr>\n",
       "      <th>201</th>\n",
       "      <td>202</td>\n",
       "      <td>-1</td>\n",
       "      <td>volvo 144ea</td>\n",
       "      <td>gas</td>\n",
       "      <td>turbo</td>\n",
       "      <td>four</td>\n",
       "      <td>sedan</td>\n",
       "      <td>rwd</td>\n",
       "      <td>front</td>\n",
       "      <td>109.1</td>\n",
       "      <td>...</td>\n",
       "      <td>141</td>\n",
       "      <td>mpfi</td>\n",
       "      <td>3.78</td>\n",
       "      <td>3.15</td>\n",
       "      <td>8.7</td>\n",
       "      <td>160</td>\n",
       "      <td>5300</td>\n",
       "      <td>19</td>\n",
       "      <td>25</td>\n",
       "      <td>19045.0</td>\n",
       "    </tr>\n",
       "    <tr>\n",
       "      <th>202</th>\n",
       "      <td>203</td>\n",
       "      <td>-1</td>\n",
       "      <td>volvo 244dl</td>\n",
       "      <td>gas</td>\n",
       "      <td>std</td>\n",
       "      <td>four</td>\n",
       "      <td>sedan</td>\n",
       "      <td>rwd</td>\n",
       "      <td>front</td>\n",
       "      <td>109.1</td>\n",
       "      <td>...</td>\n",
       "      <td>173</td>\n",
       "      <td>mpfi</td>\n",
       "      <td>3.58</td>\n",
       "      <td>2.87</td>\n",
       "      <td>8.8</td>\n",
       "      <td>134</td>\n",
       "      <td>5500</td>\n",
       "      <td>18</td>\n",
       "      <td>23</td>\n",
       "      <td>21485.0</td>\n",
       "    </tr>\n",
       "    <tr>\n",
       "      <th>203</th>\n",
       "      <td>204</td>\n",
       "      <td>-1</td>\n",
       "      <td>volvo 246</td>\n",
       "      <td>diesel</td>\n",
       "      <td>turbo</td>\n",
       "      <td>four</td>\n",
       "      <td>sedan</td>\n",
       "      <td>rwd</td>\n",
       "      <td>front</td>\n",
       "      <td>109.1</td>\n",
       "      <td>...</td>\n",
       "      <td>145</td>\n",
       "      <td>idi</td>\n",
       "      <td>3.01</td>\n",
       "      <td>3.40</td>\n",
       "      <td>23.0</td>\n",
       "      <td>106</td>\n",
       "      <td>4800</td>\n",
       "      <td>26</td>\n",
       "      <td>27</td>\n",
       "      <td>22470.0</td>\n",
       "    </tr>\n",
       "    <tr>\n",
       "      <th>204</th>\n",
       "      <td>205</td>\n",
       "      <td>-1</td>\n",
       "      <td>volvo 264gl</td>\n",
       "      <td>gas</td>\n",
       "      <td>turbo</td>\n",
       "      <td>four</td>\n",
       "      <td>sedan</td>\n",
       "      <td>rwd</td>\n",
       "      <td>front</td>\n",
       "      <td>109.1</td>\n",
       "      <td>...</td>\n",
       "      <td>141</td>\n",
       "      <td>mpfi</td>\n",
       "      <td>3.78</td>\n",
       "      <td>3.15</td>\n",
       "      <td>9.5</td>\n",
       "      <td>114</td>\n",
       "      <td>5400</td>\n",
       "      <td>19</td>\n",
       "      <td>25</td>\n",
       "      <td>22625.0</td>\n",
       "    </tr>\n",
       "  </tbody>\n",
       "</table>\n",
       "<p>205 rows × 26 columns</p>\n",
       "</div>"
      ],
      "text/plain": [
       "     car_ID  symboling                   CarName fueltype aspiration  \\\n",
       "0         1          3        alfa-romero giulia      gas        std   \n",
       "1         2          3       alfa-romero stelvio      gas        std   \n",
       "2         3          1  alfa-romero Quadrifoglio      gas        std   \n",
       "3         4          2               audi 100 ls      gas        std   \n",
       "4         5          2                audi 100ls      gas        std   \n",
       "..      ...        ...                       ...      ...        ...   \n",
       "200     201         -1           volvo 145e (sw)      gas        std   \n",
       "201     202         -1               volvo 144ea      gas      turbo   \n",
       "202     203         -1               volvo 244dl      gas        std   \n",
       "203     204         -1                 volvo 246   diesel      turbo   \n",
       "204     205         -1               volvo 264gl      gas      turbo   \n",
       "\n",
       "    doornumber      carbody drivewheel enginelocation  wheelbase  ...  \\\n",
       "0          two  convertible        rwd          front       88.6  ...   \n",
       "1          two  convertible        rwd          front       88.6  ...   \n",
       "2          two    hatchback        rwd          front       94.5  ...   \n",
       "3         four        sedan        fwd          front       99.8  ...   \n",
       "4         four        sedan        4wd          front       99.4  ...   \n",
       "..         ...          ...        ...            ...        ...  ...   \n",
       "200       four        sedan        rwd          front      109.1  ...   \n",
       "201       four        sedan        rwd          front      109.1  ...   \n",
       "202       four        sedan        rwd          front      109.1  ...   \n",
       "203       four        sedan        rwd          front      109.1  ...   \n",
       "204       four        sedan        rwd          front      109.1  ...   \n",
       "\n",
       "     enginesize  fuelsystem  boreratio  stroke compressionratio horsepower  \\\n",
       "0           130        mpfi       3.47    2.68              9.0        111   \n",
       "1           130        mpfi       3.47    2.68              9.0        111   \n",
       "2           152        mpfi       2.68    3.47              9.0        154   \n",
       "3           109        mpfi       3.19    3.40             10.0        102   \n",
       "4           136        mpfi       3.19    3.40              8.0        115   \n",
       "..          ...         ...        ...     ...              ...        ...   \n",
       "200         141        mpfi       3.78    3.15              9.5        114   \n",
       "201         141        mpfi       3.78    3.15              8.7        160   \n",
       "202         173        mpfi       3.58    2.87              8.8        134   \n",
       "203         145         idi       3.01    3.40             23.0        106   \n",
       "204         141        mpfi       3.78    3.15              9.5        114   \n",
       "\n",
       "     peakrpm citympg  highwaympg    price  \n",
       "0       5000      21          27  13495.0  \n",
       "1       5000      21          27  16500.0  \n",
       "2       5000      19          26  16500.0  \n",
       "3       5500      24          30  13950.0  \n",
       "4       5500      18          22  17450.0  \n",
       "..       ...     ...         ...      ...  \n",
       "200     5400      23          28  16845.0  \n",
       "201     5300      19          25  19045.0  \n",
       "202     5500      18          23  21485.0  \n",
       "203     4800      26          27  22470.0  \n",
       "204     5400      19          25  22625.0  \n",
       "\n",
       "[205 rows x 26 columns]"
      ]
     },
     "execution_count": 2,
     "metadata": {},
     "output_type": "execute_result"
    }
   ],
   "source": [
    "df=pd.read_csv(\"CarPrice_Assignment.csv\")\n",
    "df"
   ]
  },
  {
   "cell_type": "code",
   "execution_count": 3,
   "metadata": {
    "cell_id": "70cb2c12cad84eac8109d4e863d129a5",
    "deepnote_cell_type": "code",
    "deepnote_to_be_reexecuted": false,
    "execution_millis": 11,
    "execution_start": 1670310945295,
    "source_hash": "14f60b8f",
    "tags": []
   },
   "outputs": [
    {
     "data": {
      "text/plain": [
       "(205, 26)"
      ]
     },
     "execution_count": 3,
     "metadata": {},
     "output_type": "execute_result"
    }
   ],
   "source": [
    "df.shape"
   ]
  },
  {
   "cell_type": "code",
   "execution_count": 4,
   "metadata": {
    "cell_id": "f80b7ef642a64d58bbdc050ea3b07f9c",
    "deepnote_cell_type": "code",
    "deepnote_to_be_reexecuted": false,
    "execution_millis": 5,
    "execution_start": 1670310945311,
    "source_hash": "a36fbbd4",
    "tags": []
   },
   "outputs": [
    {
     "data": {
      "text/plain": [
       "False"
      ]
     },
     "execution_count": 4,
     "metadata": {},
     "output_type": "execute_result"
    }
   ],
   "source": [
    "df.isna().any().any()"
   ]
  },
  {
   "cell_type": "code",
   "execution_count": 5,
   "metadata": {
    "cell_id": "94c0ad48f9224d42aa9c60fac61eb750",
    "deepnote_cell_type": "code",
    "deepnote_to_be_reexecuted": false,
    "execution_millis": 5,
    "execution_start": 1670310945317,
    "source_hash": "3b8903d5",
    "tags": []
   },
   "outputs": [
    {
     "data": {
      "text/plain": [
       "array(['alfa-romero', 'audi', 'bmw', 'chevrolet', 'dodge', 'honda',\n",
       "       'isuzu', 'jaguar', 'maxda', 'mazda', 'buick', 'mercury',\n",
       "       'mitsubishi', 'Nissan', 'nissan', 'peugeot', 'plymouth', 'porsche',\n",
       "       'porcshce', 'renault', 'saab', 'subaru', 'toyota', 'toyouta',\n",
       "       'vokswagen', 'volkswagen', 'vw', 'volvo'], dtype=object)"
      ]
     },
     "execution_count": 5,
     "metadata": {},
     "output_type": "execute_result"
    }
   ],
   "source": [
    "df[\"Brand\"]=df[\"CarName\"].apply(lambda x:x.split(\" \")[0])\n",
    "df[\"Brand\"].unique()"
   ]
  },
  {
   "cell_type": "code",
   "execution_count": 6,
   "metadata": {
    "cell_id": "11f90ce1af68482d965f2031cfe73da4",
    "deepnote_cell_type": "code",
    "deepnote_to_be_reexecuted": false,
    "execution_millis": 1,
    "execution_start": 1670310945359,
    "source_hash": "1a7797c9",
    "tags": []
   },
   "outputs": [],
   "source": [
    "df=df.copy()"
   ]
  },
  {
   "cell_type": "code",
   "execution_count": 7,
   "metadata": {
    "cell_id": "8f6296eaeea54b2db44606c5bee2dc8f",
    "deepnote_cell_type": "code",
    "deepnote_to_be_reexecuted": false,
    "execution_millis": 0,
    "execution_start": 1670310945360,
    "source_hash": "17217010",
    "tags": []
   },
   "outputs": [],
   "source": [
    "df=df.replace(['alfa-romero','maxda','Nissan','porschce','toyouta','vokswagen','volkswagen'],['alfa-romeo','mazda','nissan','porsche','toyota','vw','vw'])"
   ]
  },
  {
   "cell_type": "code",
   "execution_count": 8,
   "metadata": {
    "cell_id": "ef1e99585088422ba5fc94a400dda103",
    "deepnote_cell_type": "code",
    "deepnote_to_be_reexecuted": false,
    "execution_millis": 1,
    "execution_start": 1670310945360,
    "source_hash": "adab2f49",
    "tags": []
   },
   "outputs": [],
   "source": [
    "df.drop(\"CarName\",axis=1,inplace=True)"
   ]
  },
  {
   "cell_type": "markdown",
   "metadata": {
    "cell_id": "91e03b507d2b4017a425b1c201c0f119",
    "deepnote_cell_type": "text-cell-h3",
    "formattedRanges": [],
    "is_collapsed": false,
    "tags": []
   },
   "source": [
    "### Data Visualization"
   ]
  },
  {
   "cell_type": "code",
   "execution_count": 9,
   "metadata": {
    "cell_id": "3a4bddb362654040b8e7c041a7745d41",
    "deepnote_cell_type": "code",
    "deepnote_to_be_reexecuted": false,
    "execution_millis": 92,
    "execution_start": 1670310945361,
    "source_hash": "9cb46fc9",
    "tags": []
   },
   "outputs": [
    {
     "data": {
      "text/html": [
       "\n",
       "<div id=\"altair-viz-68f94e9b49bb4fd780fb5933ef782fe8\"></div>\n",
       "<script type=\"text/javascript\">\n",
       "  var VEGA_DEBUG = (typeof VEGA_DEBUG == \"undefined\") ? {} : VEGA_DEBUG;\n",
       "  (function(spec, embedOpt){\n",
       "    let outputDiv = document.currentScript.previousElementSibling;\n",
       "    if (outputDiv.id !== \"altair-viz-68f94e9b49bb4fd780fb5933ef782fe8\") {\n",
       "      outputDiv = document.getElementById(\"altair-viz-68f94e9b49bb4fd780fb5933ef782fe8\");\n",
       "    }\n",
       "    const paths = {\n",
       "      \"vega\": \"https://cdn.jsdelivr.net/npm//vega@5?noext\",\n",
       "      \"vega-lib\": \"https://cdn.jsdelivr.net/npm//vega-lib?noext\",\n",
       "      \"vega-lite\": \"https://cdn.jsdelivr.net/npm//vega-lite@4.17.0?noext\",\n",
       "      \"vega-embed\": \"https://cdn.jsdelivr.net/npm//vega-embed@6?noext\",\n",
       "    };\n",
       "\n",
       "    function maybeLoadScript(lib, version) {\n",
       "      var key = `${lib.replace(\"-\", \"\")}_version`;\n",
       "      return (VEGA_DEBUG[key] == version) ?\n",
       "        Promise.resolve(paths[lib]) :\n",
       "        new Promise(function(resolve, reject) {\n",
       "          var s = document.createElement('script');\n",
       "          document.getElementsByTagName(\"head\")[0].appendChild(s);\n",
       "          s.async = true;\n",
       "          s.onload = () => {\n",
       "            VEGA_DEBUG[key] = version;\n",
       "            return resolve(paths[lib]);\n",
       "          };\n",
       "          s.onerror = () => reject(`Error loading script: ${paths[lib]}`);\n",
       "          s.src = paths[lib];\n",
       "        });\n",
       "    }\n",
       "\n",
       "    function showError(err) {\n",
       "      outputDiv.innerHTML = `<div class=\"error\" style=\"color:red;\">${err}</div>`;\n",
       "      throw err;\n",
       "    }\n",
       "\n",
       "    function displayChart(vegaEmbed) {\n",
       "      vegaEmbed(outputDiv, spec, embedOpt)\n",
       "        .catch(err => showError(`Javascript Error: ${err.message}<br>This usually means there's a typo in your chart specification. See the javascript console for the full traceback.`));\n",
       "    }\n",
       "\n",
       "    if(typeof define === \"function\" && define.amd) {\n",
       "      requirejs.config({paths});\n",
       "      require([\"vega-embed\"], displayChart, err => showError(`Error loading script: ${err.message}`));\n",
       "    } else {\n",
       "      maybeLoadScript(\"vega\", \"5\")\n",
       "        .then(() => maybeLoadScript(\"vega-lite\", \"4.17.0\"))\n",
       "        .then(() => maybeLoadScript(\"vega-embed\", \"6\"))\n",
       "        .catch(showError)\n",
       "        .then(() => displayChart(vegaEmbed));\n",
       "    }\n",
       "  })({\"config\": {\"view\": {\"continuousWidth\": 400, \"continuousHeight\": 300}}, \"data\": {\"name\": \"data-731dcb320885476b15b9db5b94915bce\"}, \"mark\": \"bar\", \"encoding\": {\"color\": {\"field\": \"Brand\", \"type\": \"nominal\"}, \"x\": {\"field\": \"Brand\", \"type\": \"nominal\"}, \"y\": {\"aggregate\": \"count\", \"type\": \"quantitative\"}}, \"title\": \"Sales of Each Brand\", \"$schema\": \"https://vega.github.io/schema/vega-lite/v4.17.0.json\", \"datasets\": {\"data-731dcb320885476b15b9db5b94915bce\": [{\"car_ID\": 1, \"symboling\": 3, \"fueltype\": \"gas\", \"aspiration\": \"std\", \"doornumber\": \"two\", \"carbody\": \"convertible\", \"drivewheel\": \"rwd\", \"enginelocation\": \"front\", \"wheelbase\": 88.6, \"carlength\": 168.8, \"carwidth\": 64.1, \"carheight\": 48.8, \"curbweight\": 2548, \"enginetype\": \"dohc\", \"cylindernumber\": \"four\", \"enginesize\": 130, \"fuelsystem\": \"mpfi\", \"boreratio\": 3.47, \"stroke\": 2.68, \"compressionratio\": 9.0, \"horsepower\": 111, \"peakrpm\": 5000, \"citympg\": 21, \"highwaympg\": 27, \"price\": 13495.0, \"Brand\": \"alfa-romeo\"}, {\"car_ID\": 2, \"symboling\": 3, \"fueltype\": \"gas\", \"aspiration\": \"std\", \"doornumber\": \"two\", \"carbody\": \"convertible\", \"drivewheel\": \"rwd\", \"enginelocation\": \"front\", \"wheelbase\": 88.6, \"carlength\": 168.8, \"carwidth\": 64.1, \"carheight\": 48.8, \"curbweight\": 2548, \"enginetype\": \"dohc\", \"cylindernumber\": \"four\", \"enginesize\": 130, \"fuelsystem\": \"mpfi\", \"boreratio\": 3.47, \"stroke\": 2.68, \"compressionratio\": 9.0, \"horsepower\": 111, \"peakrpm\": 5000, \"citympg\": 21, \"highwaympg\": 27, \"price\": 16500.0, \"Brand\": \"alfa-romeo\"}, {\"car_ID\": 3, \"symboling\": 1, \"fueltype\": \"gas\", \"aspiration\": \"std\", \"doornumber\": \"two\", \"carbody\": \"hatchback\", \"drivewheel\": \"rwd\", \"enginelocation\": \"front\", \"wheelbase\": 94.5, \"carlength\": 171.2, \"carwidth\": 65.5, \"carheight\": 52.4, \"curbweight\": 2823, \"enginetype\": \"ohcv\", \"cylindernumber\": \"six\", \"enginesize\": 152, \"fuelsystem\": \"mpfi\", \"boreratio\": 2.68, \"stroke\": 3.47, \"compressionratio\": 9.0, \"horsepower\": 154, \"peakrpm\": 5000, \"citympg\": 19, \"highwaympg\": 26, \"price\": 16500.0, \"Brand\": \"alfa-romeo\"}, {\"car_ID\": 4, \"symboling\": 2, \"fueltype\": \"gas\", \"aspiration\": \"std\", \"doornumber\": \"four\", \"carbody\": \"sedan\", \"drivewheel\": \"fwd\", \"enginelocation\": \"front\", \"wheelbase\": 99.8, \"carlength\": 176.6, \"carwidth\": 66.2, \"carheight\": 54.3, \"curbweight\": 2337, \"enginetype\": \"ohc\", \"cylindernumber\": \"four\", \"enginesize\": 109, \"fuelsystem\": \"mpfi\", \"boreratio\": 3.19, \"stroke\": 3.4, \"compressionratio\": 10.0, \"horsepower\": 102, \"peakrpm\": 5500, \"citympg\": 24, \"highwaympg\": 30, \"price\": 13950.0, \"Brand\": \"audi\"}, {\"car_ID\": 5, \"symboling\": 2, \"fueltype\": \"gas\", \"aspiration\": \"std\", \"doornumber\": \"four\", \"carbody\": \"sedan\", \"drivewheel\": \"4wd\", \"enginelocation\": \"front\", \"wheelbase\": 99.4, \"carlength\": 176.6, \"carwidth\": 66.4, \"carheight\": 54.3, \"curbweight\": 2824, \"enginetype\": \"ohc\", \"cylindernumber\": \"five\", \"enginesize\": 136, \"fuelsystem\": \"mpfi\", \"boreratio\": 3.19, \"stroke\": 3.4, \"compressionratio\": 8.0, \"horsepower\": 115, \"peakrpm\": 5500, \"citympg\": 18, \"highwaympg\": 22, \"price\": 17450.0, \"Brand\": \"audi\"}, {\"car_ID\": 6, \"symboling\": 2, \"fueltype\": \"gas\", \"aspiration\": \"std\", \"doornumber\": \"two\", \"carbody\": \"sedan\", \"drivewheel\": \"fwd\", \"enginelocation\": \"front\", \"wheelbase\": 99.8, \"carlength\": 177.3, \"carwidth\": 66.3, \"carheight\": 53.1, \"curbweight\": 2507, \"enginetype\": \"ohc\", \"cylindernumber\": \"five\", \"enginesize\": 136, \"fuelsystem\": \"mpfi\", \"boreratio\": 3.19, \"stroke\": 3.4, \"compressionratio\": 8.5, \"horsepower\": 110, \"peakrpm\": 5500, \"citympg\": 19, \"highwaympg\": 25, \"price\": 15250.0, \"Brand\": \"audi\"}, {\"car_ID\": 7, \"symboling\": 1, \"fueltype\": \"gas\", \"aspiration\": \"std\", \"doornumber\": \"four\", \"carbody\": \"sedan\", \"drivewheel\": \"fwd\", \"enginelocation\": \"front\", \"wheelbase\": 105.8, \"carlength\": 192.7, \"carwidth\": 71.4, \"carheight\": 55.7, \"curbweight\": 2844, \"enginetype\": \"ohc\", \"cylindernumber\": \"five\", \"enginesize\": 136, \"fuelsystem\": \"mpfi\", \"boreratio\": 3.19, \"stroke\": 3.4, \"compressionratio\": 8.5, \"horsepower\": 110, \"peakrpm\": 5500, \"citympg\": 19, \"highwaympg\": 25, \"price\": 17710.0, \"Brand\": \"audi\"}, {\"car_ID\": 8, \"symboling\": 1, \"fueltype\": \"gas\", \"aspiration\": \"std\", \"doornumber\": \"four\", \"carbody\": \"wagon\", \"drivewheel\": \"fwd\", \"enginelocation\": \"front\", \"wheelbase\": 105.8, \"carlength\": 192.7, \"carwidth\": 71.4, \"carheight\": 55.7, \"curbweight\": 2954, \"enginetype\": \"ohc\", \"cylindernumber\": \"five\", \"enginesize\": 136, \"fuelsystem\": \"mpfi\", \"boreratio\": 3.19, \"stroke\": 3.4, \"compressionratio\": 8.5, \"horsepower\": 110, \"peakrpm\": 5500, \"citympg\": 19, \"highwaympg\": 25, \"price\": 18920.0, \"Brand\": \"audi\"}, {\"car_ID\": 9, \"symboling\": 1, \"fueltype\": \"gas\", \"aspiration\": \"turbo\", \"doornumber\": \"four\", \"carbody\": \"sedan\", \"drivewheel\": \"fwd\", \"enginelocation\": \"front\", \"wheelbase\": 105.8, \"carlength\": 192.7, \"carwidth\": 71.4, \"carheight\": 55.9, \"curbweight\": 3086, \"enginetype\": \"ohc\", \"cylindernumber\": \"five\", \"enginesize\": 131, \"fuelsystem\": \"mpfi\", \"boreratio\": 3.13, \"stroke\": 3.4, \"compressionratio\": 8.3, \"horsepower\": 140, \"peakrpm\": 5500, \"citympg\": 17, \"highwaympg\": 20, \"price\": 23875.0, \"Brand\": \"audi\"}, {\"car_ID\": 10, \"symboling\": 0, \"fueltype\": \"gas\", \"aspiration\": \"turbo\", \"doornumber\": \"two\", \"carbody\": \"hatchback\", \"drivewheel\": \"4wd\", \"enginelocation\": \"front\", \"wheelbase\": 99.5, \"carlength\": 178.2, \"carwidth\": 67.9, \"carheight\": 52.0, \"curbweight\": 3053, \"enginetype\": \"ohc\", \"cylindernumber\": \"five\", \"enginesize\": 131, \"fuelsystem\": \"mpfi\", \"boreratio\": 3.13, \"stroke\": 3.4, \"compressionratio\": 7.0, \"horsepower\": 160, \"peakrpm\": 5500, \"citympg\": 16, \"highwaympg\": 22, \"price\": 17859.167, \"Brand\": \"audi\"}, {\"car_ID\": 11, \"symboling\": 2, \"fueltype\": \"gas\", \"aspiration\": \"std\", \"doornumber\": \"two\", \"carbody\": \"sedan\", \"drivewheel\": \"rwd\", \"enginelocation\": \"front\", \"wheelbase\": 101.2, \"carlength\": 176.8, \"carwidth\": 64.8, \"carheight\": 54.3, \"curbweight\": 2395, \"enginetype\": \"ohc\", \"cylindernumber\": \"four\", \"enginesize\": 108, \"fuelsystem\": \"mpfi\", \"boreratio\": 3.5, \"stroke\": 2.8, \"compressionratio\": 8.8, \"horsepower\": 101, \"peakrpm\": 5800, \"citympg\": 23, \"highwaympg\": 29, \"price\": 16430.0, \"Brand\": \"bmw\"}, {\"car_ID\": 12, \"symboling\": 0, \"fueltype\": \"gas\", \"aspiration\": \"std\", \"doornumber\": \"four\", \"carbody\": \"sedan\", \"drivewheel\": \"rwd\", \"enginelocation\": \"front\", \"wheelbase\": 101.2, \"carlength\": 176.8, \"carwidth\": 64.8, \"carheight\": 54.3, \"curbweight\": 2395, \"enginetype\": \"ohc\", \"cylindernumber\": \"four\", \"enginesize\": 108, \"fuelsystem\": \"mpfi\", \"boreratio\": 3.5, \"stroke\": 2.8, \"compressionratio\": 8.8, \"horsepower\": 101, \"peakrpm\": 5800, \"citympg\": 23, \"highwaympg\": 29, \"price\": 16925.0, \"Brand\": \"bmw\"}, {\"car_ID\": 13, \"symboling\": 0, \"fueltype\": \"gas\", \"aspiration\": \"std\", \"doornumber\": \"two\", \"carbody\": \"sedan\", \"drivewheel\": \"rwd\", \"enginelocation\": \"front\", \"wheelbase\": 101.2, \"carlength\": 176.8, \"carwidth\": 64.8, \"carheight\": 54.3, \"curbweight\": 2710, \"enginetype\": \"ohc\", \"cylindernumber\": \"six\", \"enginesize\": 164, \"fuelsystem\": \"mpfi\", \"boreratio\": 3.31, \"stroke\": 3.19, \"compressionratio\": 9.0, \"horsepower\": 121, \"peakrpm\": 4250, \"citympg\": 21, \"highwaympg\": 28, \"price\": 20970.0, \"Brand\": \"bmw\"}, {\"car_ID\": 14, \"symboling\": 0, \"fueltype\": \"gas\", \"aspiration\": \"std\", \"doornumber\": \"four\", \"carbody\": \"sedan\", \"drivewheel\": \"rwd\", \"enginelocation\": \"front\", \"wheelbase\": 101.2, \"carlength\": 176.8, \"carwidth\": 64.8, \"carheight\": 54.3, \"curbweight\": 2765, \"enginetype\": \"ohc\", \"cylindernumber\": \"six\", \"enginesize\": 164, \"fuelsystem\": \"mpfi\", \"boreratio\": 3.31, \"stroke\": 3.19, \"compressionratio\": 9.0, \"horsepower\": 121, \"peakrpm\": 4250, \"citympg\": 21, \"highwaympg\": 28, \"price\": 21105.0, \"Brand\": \"bmw\"}, {\"car_ID\": 15, \"symboling\": 1, \"fueltype\": \"gas\", \"aspiration\": \"std\", \"doornumber\": \"four\", \"carbody\": \"sedan\", \"drivewheel\": \"rwd\", \"enginelocation\": \"front\", \"wheelbase\": 103.5, \"carlength\": 189.0, \"carwidth\": 66.9, \"carheight\": 55.7, \"curbweight\": 3055, \"enginetype\": \"ohc\", \"cylindernumber\": \"six\", \"enginesize\": 164, \"fuelsystem\": \"mpfi\", \"boreratio\": 3.31, \"stroke\": 3.19, \"compressionratio\": 9.0, \"horsepower\": 121, \"peakrpm\": 4250, \"citympg\": 20, \"highwaympg\": 25, \"price\": 24565.0, \"Brand\": \"bmw\"}, {\"car_ID\": 16, \"symboling\": 0, \"fueltype\": \"gas\", \"aspiration\": \"std\", \"doornumber\": \"four\", \"carbody\": \"sedan\", \"drivewheel\": \"rwd\", \"enginelocation\": \"front\", \"wheelbase\": 103.5, \"carlength\": 189.0, \"carwidth\": 66.9, \"carheight\": 55.7, \"curbweight\": 3230, \"enginetype\": \"ohc\", \"cylindernumber\": \"six\", \"enginesize\": 209, \"fuelsystem\": \"mpfi\", \"boreratio\": 3.62, \"stroke\": 3.39, \"compressionratio\": 8.0, \"horsepower\": 182, \"peakrpm\": 5400, \"citympg\": 16, \"highwaympg\": 22, \"price\": 30760.0, \"Brand\": \"bmw\"}, {\"car_ID\": 17, \"symboling\": 0, \"fueltype\": \"gas\", \"aspiration\": \"std\", \"doornumber\": \"two\", \"carbody\": \"sedan\", \"drivewheel\": \"rwd\", \"enginelocation\": \"front\", \"wheelbase\": 103.5, \"carlength\": 193.8, \"carwidth\": 67.9, \"carheight\": 53.7, \"curbweight\": 3380, \"enginetype\": \"ohc\", \"cylindernumber\": \"six\", \"enginesize\": 209, \"fuelsystem\": \"mpfi\", \"boreratio\": 3.62, \"stroke\": 3.39, \"compressionratio\": 8.0, \"horsepower\": 182, \"peakrpm\": 5400, \"citympg\": 16, \"highwaympg\": 22, \"price\": 41315.0, \"Brand\": \"bmw\"}, {\"car_ID\": 18, \"symboling\": 0, \"fueltype\": \"gas\", \"aspiration\": \"std\", \"doornumber\": \"four\", \"carbody\": \"sedan\", \"drivewheel\": \"rwd\", \"enginelocation\": \"front\", \"wheelbase\": 110.0, \"carlength\": 197.0, \"carwidth\": 70.9, \"carheight\": 56.3, \"curbweight\": 3505, \"enginetype\": \"ohc\", \"cylindernumber\": \"six\", \"enginesize\": 209, \"fuelsystem\": \"mpfi\", \"boreratio\": 3.62, \"stroke\": 3.39, \"compressionratio\": 8.0, \"horsepower\": 182, \"peakrpm\": 5400, \"citympg\": 15, \"highwaympg\": 20, \"price\": 36880.0, \"Brand\": \"bmw\"}, {\"car_ID\": 19, \"symboling\": 2, \"fueltype\": \"gas\", \"aspiration\": \"std\", \"doornumber\": \"two\", \"carbody\": \"hatchback\", \"drivewheel\": \"fwd\", \"enginelocation\": \"front\", \"wheelbase\": 88.4, \"carlength\": 141.1, \"carwidth\": 60.3, \"carheight\": 53.2, \"curbweight\": 1488, \"enginetype\": \"l\", \"cylindernumber\": \"three\", \"enginesize\": 61, \"fuelsystem\": \"2bbl\", \"boreratio\": 2.91, \"stroke\": 3.03, \"compressionratio\": 9.5, \"horsepower\": 48, \"peakrpm\": 5100, \"citympg\": 47, \"highwaympg\": 53, \"price\": 5151.0, \"Brand\": \"chevrolet\"}, {\"car_ID\": 20, \"symboling\": 1, \"fueltype\": \"gas\", \"aspiration\": \"std\", \"doornumber\": \"two\", \"carbody\": \"hatchback\", \"drivewheel\": \"fwd\", \"enginelocation\": \"front\", \"wheelbase\": 94.5, \"carlength\": 155.9, \"carwidth\": 63.6, \"carheight\": 52.0, \"curbweight\": 1874, \"enginetype\": \"ohc\", \"cylindernumber\": \"four\", \"enginesize\": 90, \"fuelsystem\": \"2bbl\", \"boreratio\": 3.03, \"stroke\": 3.11, \"compressionratio\": 9.6, \"horsepower\": 70, \"peakrpm\": 5400, \"citympg\": 38, \"highwaympg\": 43, \"price\": 6295.0, \"Brand\": \"chevrolet\"}, {\"car_ID\": 21, \"symboling\": 0, \"fueltype\": \"gas\", \"aspiration\": \"std\", \"doornumber\": \"four\", \"carbody\": \"sedan\", \"drivewheel\": \"fwd\", \"enginelocation\": \"front\", \"wheelbase\": 94.5, \"carlength\": 158.8, \"carwidth\": 63.6, \"carheight\": 52.0, \"curbweight\": 1909, \"enginetype\": \"ohc\", \"cylindernumber\": \"four\", \"enginesize\": 90, \"fuelsystem\": \"2bbl\", \"boreratio\": 3.03, \"stroke\": 3.11, \"compressionratio\": 9.6, \"horsepower\": 70, \"peakrpm\": 5400, \"citympg\": 38, \"highwaympg\": 43, \"price\": 6575.0, \"Brand\": \"chevrolet\"}, {\"car_ID\": 22, \"symboling\": 1, \"fueltype\": \"gas\", \"aspiration\": \"std\", \"doornumber\": \"two\", \"carbody\": \"hatchback\", \"drivewheel\": \"fwd\", \"enginelocation\": \"front\", \"wheelbase\": 93.7, \"carlength\": 157.3, \"carwidth\": 63.8, \"carheight\": 50.8, \"curbweight\": 1876, \"enginetype\": \"ohc\", \"cylindernumber\": \"four\", \"enginesize\": 90, \"fuelsystem\": \"2bbl\", \"boreratio\": 2.97, \"stroke\": 3.23, \"compressionratio\": 9.41, \"horsepower\": 68, \"peakrpm\": 5500, \"citympg\": 37, \"highwaympg\": 41, \"price\": 5572.0, \"Brand\": \"dodge\"}, {\"car_ID\": 23, \"symboling\": 1, \"fueltype\": \"gas\", \"aspiration\": \"std\", \"doornumber\": \"two\", \"carbody\": \"hatchback\", \"drivewheel\": \"fwd\", \"enginelocation\": \"front\", \"wheelbase\": 93.7, \"carlength\": 157.3, \"carwidth\": 63.8, \"carheight\": 50.8, \"curbweight\": 1876, \"enginetype\": \"ohc\", \"cylindernumber\": \"four\", \"enginesize\": 90, \"fuelsystem\": \"2bbl\", \"boreratio\": 2.97, \"stroke\": 3.23, \"compressionratio\": 9.4, \"horsepower\": 68, \"peakrpm\": 5500, \"citympg\": 31, \"highwaympg\": 38, \"price\": 6377.0, \"Brand\": \"dodge\"}, {\"car_ID\": 24, \"symboling\": 1, \"fueltype\": \"gas\", \"aspiration\": \"turbo\", \"doornumber\": \"two\", \"carbody\": \"hatchback\", \"drivewheel\": \"fwd\", \"enginelocation\": \"front\", \"wheelbase\": 93.7, \"carlength\": 157.3, \"carwidth\": 63.8, \"carheight\": 50.8, \"curbweight\": 2128, \"enginetype\": \"ohc\", \"cylindernumber\": \"four\", \"enginesize\": 98, \"fuelsystem\": \"mpfi\", \"boreratio\": 3.03, \"stroke\": 3.39, \"compressionratio\": 7.6, \"horsepower\": 102, \"peakrpm\": 5500, \"citympg\": 24, \"highwaympg\": 30, \"price\": 7957.0, \"Brand\": \"dodge\"}, {\"car_ID\": 25, \"symboling\": 1, \"fueltype\": \"gas\", \"aspiration\": \"std\", \"doornumber\": \"four\", \"carbody\": \"hatchback\", \"drivewheel\": \"fwd\", \"enginelocation\": \"front\", \"wheelbase\": 93.7, \"carlength\": 157.3, \"carwidth\": 63.8, \"carheight\": 50.6, \"curbweight\": 1967, \"enginetype\": \"ohc\", \"cylindernumber\": \"four\", \"enginesize\": 90, \"fuelsystem\": \"2bbl\", \"boreratio\": 2.97, \"stroke\": 3.23, \"compressionratio\": 9.4, \"horsepower\": 68, \"peakrpm\": 5500, \"citympg\": 31, \"highwaympg\": 38, \"price\": 6229.0, \"Brand\": \"dodge\"}, {\"car_ID\": 26, \"symboling\": 1, \"fueltype\": \"gas\", \"aspiration\": \"std\", \"doornumber\": \"four\", \"carbody\": \"sedan\", \"drivewheel\": \"fwd\", \"enginelocation\": \"front\", \"wheelbase\": 93.7, \"carlength\": 157.3, \"carwidth\": 63.8, \"carheight\": 50.6, \"curbweight\": 1989, \"enginetype\": \"ohc\", \"cylindernumber\": \"four\", \"enginesize\": 90, \"fuelsystem\": \"2bbl\", \"boreratio\": 2.97, \"stroke\": 3.23, \"compressionratio\": 9.4, \"horsepower\": 68, \"peakrpm\": 5500, \"citympg\": 31, \"highwaympg\": 38, \"price\": 6692.0, \"Brand\": \"dodge\"}, {\"car_ID\": 27, \"symboling\": 1, \"fueltype\": \"gas\", \"aspiration\": \"std\", \"doornumber\": \"four\", \"carbody\": \"sedan\", \"drivewheel\": \"fwd\", \"enginelocation\": \"front\", \"wheelbase\": 93.7, \"carlength\": 157.3, \"carwidth\": 63.8, \"carheight\": 50.6, \"curbweight\": 1989, \"enginetype\": \"ohc\", \"cylindernumber\": \"four\", \"enginesize\": 90, \"fuelsystem\": \"2bbl\", \"boreratio\": 2.97, \"stroke\": 3.23, \"compressionratio\": 9.4, \"horsepower\": 68, \"peakrpm\": 5500, \"citympg\": 31, \"highwaympg\": 38, \"price\": 7609.0, \"Brand\": \"dodge\"}, {\"car_ID\": 28, \"symboling\": 1, \"fueltype\": \"gas\", \"aspiration\": \"turbo\", \"doornumber\": \"two\", \"carbody\": \"sedan\", \"drivewheel\": \"fwd\", \"enginelocation\": \"front\", \"wheelbase\": 93.7, \"carlength\": 157.3, \"carwidth\": 63.8, \"carheight\": 50.6, \"curbweight\": 2191, \"enginetype\": \"ohc\", \"cylindernumber\": \"four\", \"enginesize\": 98, \"fuelsystem\": \"mpfi\", \"boreratio\": 3.03, \"stroke\": 3.39, \"compressionratio\": 7.6, \"horsepower\": 102, \"peakrpm\": 5500, \"citympg\": 24, \"highwaympg\": 30, \"price\": 8558.0, \"Brand\": \"dodge\"}, {\"car_ID\": 29, \"symboling\": -1, \"fueltype\": \"gas\", \"aspiration\": \"std\", \"doornumber\": \"four\", \"carbody\": \"wagon\", \"drivewheel\": \"fwd\", \"enginelocation\": \"front\", \"wheelbase\": 103.3, \"carlength\": 174.6, \"carwidth\": 64.6, \"carheight\": 59.8, \"curbweight\": 2535, \"enginetype\": \"ohc\", \"cylindernumber\": \"four\", \"enginesize\": 122, \"fuelsystem\": \"2bbl\", \"boreratio\": 3.34, \"stroke\": 3.46, \"compressionratio\": 8.5, \"horsepower\": 88, \"peakrpm\": 5000, \"citympg\": 24, \"highwaympg\": 30, \"price\": 8921.0, \"Brand\": \"dodge\"}, {\"car_ID\": 30, \"symboling\": 3, \"fueltype\": \"gas\", \"aspiration\": \"turbo\", \"doornumber\": \"two\", \"carbody\": \"hatchback\", \"drivewheel\": \"fwd\", \"enginelocation\": \"front\", \"wheelbase\": 95.9, \"carlength\": 173.2, \"carwidth\": 66.3, \"carheight\": 50.2, \"curbweight\": 2811, \"enginetype\": \"ohc\", \"cylindernumber\": \"four\", \"enginesize\": 156, \"fuelsystem\": \"mfi\", \"boreratio\": 3.6, \"stroke\": 3.9, \"compressionratio\": 7.0, \"horsepower\": 145, \"peakrpm\": 5000, \"citympg\": 19, \"highwaympg\": 24, \"price\": 12964.0, \"Brand\": \"dodge\"}, {\"car_ID\": 31, \"symboling\": 2, \"fueltype\": \"gas\", \"aspiration\": \"std\", \"doornumber\": \"two\", \"carbody\": \"hatchback\", \"drivewheel\": \"fwd\", \"enginelocation\": \"front\", \"wheelbase\": 86.6, \"carlength\": 144.6, \"carwidth\": 63.9, \"carheight\": 50.8, \"curbweight\": 1713, \"enginetype\": \"ohc\", \"cylindernumber\": \"four\", \"enginesize\": 92, \"fuelsystem\": \"1bbl\", \"boreratio\": 2.91, \"stroke\": 3.41, \"compressionratio\": 9.6, \"horsepower\": 58, \"peakrpm\": 4800, \"citympg\": 49, \"highwaympg\": 54, \"price\": 6479.0, \"Brand\": \"honda\"}, {\"car_ID\": 32, \"symboling\": 2, \"fueltype\": \"gas\", \"aspiration\": \"std\", \"doornumber\": \"two\", \"carbody\": \"hatchback\", \"drivewheel\": \"fwd\", \"enginelocation\": \"front\", \"wheelbase\": 86.6, \"carlength\": 144.6, \"carwidth\": 63.9, \"carheight\": 50.8, \"curbweight\": 1819, \"enginetype\": \"ohc\", \"cylindernumber\": \"four\", \"enginesize\": 92, \"fuelsystem\": \"1bbl\", \"boreratio\": 2.91, \"stroke\": 3.41, \"compressionratio\": 9.2, \"horsepower\": 76, \"peakrpm\": 6000, \"citympg\": 31, \"highwaympg\": 38, \"price\": 6855.0, \"Brand\": \"honda\"}, {\"car_ID\": 33, \"symboling\": 1, \"fueltype\": \"gas\", \"aspiration\": \"std\", \"doornumber\": \"two\", \"carbody\": \"hatchback\", \"drivewheel\": \"fwd\", \"enginelocation\": \"front\", \"wheelbase\": 93.7, \"carlength\": 150.0, \"carwidth\": 64.0, \"carheight\": 52.6, \"curbweight\": 1837, \"enginetype\": \"ohc\", \"cylindernumber\": \"four\", \"enginesize\": 79, \"fuelsystem\": \"1bbl\", \"boreratio\": 2.91, \"stroke\": 3.07, \"compressionratio\": 10.1, \"horsepower\": 60, \"peakrpm\": 5500, \"citympg\": 38, \"highwaympg\": 42, \"price\": 5399.0, \"Brand\": \"honda\"}, {\"car_ID\": 34, \"symboling\": 1, \"fueltype\": \"gas\", \"aspiration\": \"std\", \"doornumber\": \"two\", \"carbody\": \"hatchback\", \"drivewheel\": \"fwd\", \"enginelocation\": \"front\", \"wheelbase\": 93.7, \"carlength\": 150.0, \"carwidth\": 64.0, \"carheight\": 52.6, \"curbweight\": 1940, \"enginetype\": \"ohc\", \"cylindernumber\": \"four\", \"enginesize\": 92, \"fuelsystem\": \"1bbl\", \"boreratio\": 2.91, \"stroke\": 3.41, \"compressionratio\": 9.2, \"horsepower\": 76, \"peakrpm\": 6000, \"citympg\": 30, \"highwaympg\": 34, \"price\": 6529.0, \"Brand\": \"honda\"}, {\"car_ID\": 35, \"symboling\": 1, \"fueltype\": \"gas\", \"aspiration\": \"std\", \"doornumber\": \"two\", \"carbody\": \"hatchback\", \"drivewheel\": \"fwd\", \"enginelocation\": \"front\", \"wheelbase\": 93.7, \"carlength\": 150.0, \"carwidth\": 64.0, \"carheight\": 52.6, \"curbweight\": 1956, \"enginetype\": \"ohc\", \"cylindernumber\": \"four\", \"enginesize\": 92, \"fuelsystem\": \"1bbl\", \"boreratio\": 2.91, \"stroke\": 3.41, \"compressionratio\": 9.2, \"horsepower\": 76, \"peakrpm\": 6000, \"citympg\": 30, \"highwaympg\": 34, \"price\": 7129.0, \"Brand\": \"honda\"}, {\"car_ID\": 36, \"symboling\": 0, \"fueltype\": \"gas\", \"aspiration\": \"std\", \"doornumber\": \"four\", \"carbody\": \"sedan\", \"drivewheel\": \"fwd\", \"enginelocation\": \"front\", \"wheelbase\": 96.5, \"carlength\": 163.4, \"carwidth\": 64.0, \"carheight\": 54.5, \"curbweight\": 2010, \"enginetype\": \"ohc\", \"cylindernumber\": \"four\", \"enginesize\": 92, \"fuelsystem\": \"1bbl\", \"boreratio\": 2.91, \"stroke\": 3.41, \"compressionratio\": 9.2, \"horsepower\": 76, \"peakrpm\": 6000, \"citympg\": 30, \"highwaympg\": 34, \"price\": 7295.0, \"Brand\": \"honda\"}, {\"car_ID\": 37, \"symboling\": 0, \"fueltype\": \"gas\", \"aspiration\": \"std\", \"doornumber\": \"four\", \"carbody\": \"wagon\", \"drivewheel\": \"fwd\", \"enginelocation\": \"front\", \"wheelbase\": 96.5, \"carlength\": 157.1, \"carwidth\": 63.9, \"carheight\": 58.3, \"curbweight\": 2024, \"enginetype\": \"ohc\", \"cylindernumber\": \"four\", \"enginesize\": 92, \"fuelsystem\": \"1bbl\", \"boreratio\": 2.92, \"stroke\": 3.41, \"compressionratio\": 9.2, \"horsepower\": 76, \"peakrpm\": 6000, \"citympg\": 30, \"highwaympg\": 34, \"price\": 7295.0, \"Brand\": \"honda\"}, {\"car_ID\": 38, \"symboling\": 0, \"fueltype\": \"gas\", \"aspiration\": \"std\", \"doornumber\": \"two\", \"carbody\": \"hatchback\", \"drivewheel\": \"fwd\", \"enginelocation\": \"front\", \"wheelbase\": 96.5, \"carlength\": 167.5, \"carwidth\": 65.2, \"carheight\": 53.3, \"curbweight\": 2236, \"enginetype\": \"ohc\", \"cylindernumber\": \"four\", \"enginesize\": 110, \"fuelsystem\": \"1bbl\", \"boreratio\": 3.15, \"stroke\": 3.58, \"compressionratio\": 9.0, \"horsepower\": 86, \"peakrpm\": 5800, \"citympg\": 27, \"highwaympg\": 33, \"price\": 7895.0, \"Brand\": \"honda\"}, {\"car_ID\": 39, \"symboling\": 0, \"fueltype\": \"gas\", \"aspiration\": \"std\", \"doornumber\": \"two\", \"carbody\": \"hatchback\", \"drivewheel\": \"fwd\", \"enginelocation\": \"front\", \"wheelbase\": 96.5, \"carlength\": 167.5, \"carwidth\": 65.2, \"carheight\": 53.3, \"curbweight\": 2289, \"enginetype\": \"ohc\", \"cylindernumber\": \"four\", \"enginesize\": 110, \"fuelsystem\": \"1bbl\", \"boreratio\": 3.15, \"stroke\": 3.58, \"compressionratio\": 9.0, \"horsepower\": 86, \"peakrpm\": 5800, \"citympg\": 27, \"highwaympg\": 33, \"price\": 9095.0, \"Brand\": \"honda\"}, {\"car_ID\": 40, \"symboling\": 0, \"fueltype\": \"gas\", \"aspiration\": \"std\", \"doornumber\": \"four\", \"carbody\": \"sedan\", \"drivewheel\": \"fwd\", \"enginelocation\": \"front\", \"wheelbase\": 96.5, \"carlength\": 175.4, \"carwidth\": 65.2, \"carheight\": 54.1, \"curbweight\": 2304, \"enginetype\": \"ohc\", \"cylindernumber\": \"four\", \"enginesize\": 110, \"fuelsystem\": \"1bbl\", \"boreratio\": 3.15, \"stroke\": 3.58, \"compressionratio\": 9.0, \"horsepower\": 86, \"peakrpm\": 5800, \"citympg\": 27, \"highwaympg\": 33, \"price\": 8845.0, \"Brand\": \"honda\"}, {\"car_ID\": 41, \"symboling\": 0, \"fueltype\": \"gas\", \"aspiration\": \"std\", \"doornumber\": \"four\", \"carbody\": \"sedan\", \"drivewheel\": \"fwd\", \"enginelocation\": \"front\", \"wheelbase\": 96.5, \"carlength\": 175.4, \"carwidth\": 62.5, \"carheight\": 54.1, \"curbweight\": 2372, \"enginetype\": \"ohc\", \"cylindernumber\": \"four\", \"enginesize\": 110, \"fuelsystem\": \"1bbl\", \"boreratio\": 3.15, \"stroke\": 3.58, \"compressionratio\": 9.0, \"horsepower\": 86, \"peakrpm\": 5800, \"citympg\": 27, \"highwaympg\": 33, \"price\": 10295.0, \"Brand\": \"honda\"}, {\"car_ID\": 42, \"symboling\": 0, \"fueltype\": \"gas\", \"aspiration\": \"std\", \"doornumber\": \"four\", \"carbody\": \"sedan\", \"drivewheel\": \"fwd\", \"enginelocation\": \"front\", \"wheelbase\": 96.5, \"carlength\": 175.4, \"carwidth\": 65.2, \"carheight\": 54.1, \"curbweight\": 2465, \"enginetype\": \"ohc\", \"cylindernumber\": \"four\", \"enginesize\": 110, \"fuelsystem\": \"mpfi\", \"boreratio\": 3.15, \"stroke\": 3.58, \"compressionratio\": 9.0, \"horsepower\": 101, \"peakrpm\": 5800, \"citympg\": 24, \"highwaympg\": 28, \"price\": 12945.0, \"Brand\": \"honda\"}, {\"car_ID\": 43, \"symboling\": 1, \"fueltype\": \"gas\", \"aspiration\": \"std\", \"doornumber\": \"two\", \"carbody\": \"sedan\", \"drivewheel\": \"fwd\", \"enginelocation\": \"front\", \"wheelbase\": 96.5, \"carlength\": 169.1, \"carwidth\": 66.0, \"carheight\": 51.0, \"curbweight\": 2293, \"enginetype\": \"ohc\", \"cylindernumber\": \"four\", \"enginesize\": 110, \"fuelsystem\": \"2bbl\", \"boreratio\": 3.15, \"stroke\": 3.58, \"compressionratio\": 9.1, \"horsepower\": 100, \"peakrpm\": 5500, \"citympg\": 25, \"highwaympg\": 31, \"price\": 10345.0, \"Brand\": \"honda\"}, {\"car_ID\": 44, \"symboling\": 0, \"fueltype\": \"gas\", \"aspiration\": \"std\", \"doornumber\": \"four\", \"carbody\": \"sedan\", \"drivewheel\": \"rwd\", \"enginelocation\": \"front\", \"wheelbase\": 94.3, \"carlength\": 170.7, \"carwidth\": 61.8, \"carheight\": 53.5, \"curbweight\": 2337, \"enginetype\": \"ohc\", \"cylindernumber\": \"four\", \"enginesize\": 111, \"fuelsystem\": \"2bbl\", \"boreratio\": 3.31, \"stroke\": 3.23, \"compressionratio\": 8.5, \"horsepower\": 78, \"peakrpm\": 4800, \"citympg\": 24, \"highwaympg\": 29, \"price\": 6785.0, \"Brand\": \"isuzu\"}, {\"car_ID\": 45, \"symboling\": 1, \"fueltype\": \"gas\", \"aspiration\": \"std\", \"doornumber\": \"two\", \"carbody\": \"sedan\", \"drivewheel\": \"fwd\", \"enginelocation\": \"front\", \"wheelbase\": 94.5, \"carlength\": 155.9, \"carwidth\": 63.6, \"carheight\": 52.0, \"curbweight\": 1874, \"enginetype\": \"ohc\", \"cylindernumber\": \"four\", \"enginesize\": 90, \"fuelsystem\": \"2bbl\", \"boreratio\": 3.03, \"stroke\": 3.11, \"compressionratio\": 9.6, \"horsepower\": 70, \"peakrpm\": 5400, \"citympg\": 38, \"highwaympg\": 43, \"price\": 8916.5, \"Brand\": \"isuzu\"}, {\"car_ID\": 46, \"symboling\": 0, \"fueltype\": \"gas\", \"aspiration\": \"std\", \"doornumber\": \"four\", \"carbody\": \"sedan\", \"drivewheel\": \"fwd\", \"enginelocation\": \"front\", \"wheelbase\": 94.5, \"carlength\": 155.9, \"carwidth\": 63.6, \"carheight\": 52.0, \"curbweight\": 1909, \"enginetype\": \"ohc\", \"cylindernumber\": \"four\", \"enginesize\": 90, \"fuelsystem\": \"2bbl\", \"boreratio\": 3.03, \"stroke\": 3.11, \"compressionratio\": 9.6, \"horsepower\": 70, \"peakrpm\": 5400, \"citympg\": 38, \"highwaympg\": 43, \"price\": 8916.5, \"Brand\": \"isuzu\"}, {\"car_ID\": 47, \"symboling\": 2, \"fueltype\": \"gas\", \"aspiration\": \"std\", \"doornumber\": \"two\", \"carbody\": \"hatchback\", \"drivewheel\": \"rwd\", \"enginelocation\": \"front\", \"wheelbase\": 96.0, \"carlength\": 172.6, \"carwidth\": 65.2, \"carheight\": 51.4, \"curbweight\": 2734, \"enginetype\": \"ohc\", \"cylindernumber\": \"four\", \"enginesize\": 119, \"fuelsystem\": \"spfi\", \"boreratio\": 3.43, \"stroke\": 3.23, \"compressionratio\": 9.2, \"horsepower\": 90, \"peakrpm\": 5000, \"citympg\": 24, \"highwaympg\": 29, \"price\": 11048.0, \"Brand\": \"isuzu\"}, {\"car_ID\": 48, \"symboling\": 0, \"fueltype\": \"gas\", \"aspiration\": \"std\", \"doornumber\": \"four\", \"carbody\": \"sedan\", \"drivewheel\": \"rwd\", \"enginelocation\": \"front\", \"wheelbase\": 113.0, \"carlength\": 199.6, \"carwidth\": 69.6, \"carheight\": 52.8, \"curbweight\": 4066, \"enginetype\": \"dohc\", \"cylindernumber\": \"six\", \"enginesize\": 258, \"fuelsystem\": \"mpfi\", \"boreratio\": 3.63, \"stroke\": 4.17, \"compressionratio\": 8.1, \"horsepower\": 176, \"peakrpm\": 4750, \"citympg\": 15, \"highwaympg\": 19, \"price\": 32250.0, \"Brand\": \"jaguar\"}, {\"car_ID\": 49, \"symboling\": 0, \"fueltype\": \"gas\", \"aspiration\": \"std\", \"doornumber\": \"four\", \"carbody\": \"sedan\", \"drivewheel\": \"rwd\", \"enginelocation\": \"front\", \"wheelbase\": 113.0, \"carlength\": 199.6, \"carwidth\": 69.6, \"carheight\": 52.8, \"curbweight\": 4066, \"enginetype\": \"dohc\", \"cylindernumber\": \"six\", \"enginesize\": 258, \"fuelsystem\": \"mpfi\", \"boreratio\": 3.63, \"stroke\": 4.17, \"compressionratio\": 8.1, \"horsepower\": 176, \"peakrpm\": 4750, \"citympg\": 15, \"highwaympg\": 19, \"price\": 35550.0, \"Brand\": \"jaguar\"}, {\"car_ID\": 50, \"symboling\": 0, \"fueltype\": \"gas\", \"aspiration\": \"std\", \"doornumber\": \"two\", \"carbody\": \"sedan\", \"drivewheel\": \"rwd\", \"enginelocation\": \"front\", \"wheelbase\": 102.0, \"carlength\": 191.7, \"carwidth\": 70.6, \"carheight\": 47.8, \"curbweight\": 3950, \"enginetype\": \"ohcv\", \"cylindernumber\": \"twelve\", \"enginesize\": 326, \"fuelsystem\": \"mpfi\", \"boreratio\": 3.54, \"stroke\": 2.76, \"compressionratio\": 11.5, \"horsepower\": 262, \"peakrpm\": 5000, \"citympg\": 13, \"highwaympg\": 17, \"price\": 36000.0, \"Brand\": \"jaguar\"}, {\"car_ID\": 51, \"symboling\": 1, \"fueltype\": \"gas\", \"aspiration\": \"std\", \"doornumber\": \"two\", \"carbody\": \"hatchback\", \"drivewheel\": \"fwd\", \"enginelocation\": \"front\", \"wheelbase\": 93.1, \"carlength\": 159.1, \"carwidth\": 64.2, \"carheight\": 54.1, \"curbweight\": 1890, \"enginetype\": \"ohc\", \"cylindernumber\": \"four\", \"enginesize\": 91, \"fuelsystem\": \"2bbl\", \"boreratio\": 3.03, \"stroke\": 3.15, \"compressionratio\": 9.0, \"horsepower\": 68, \"peakrpm\": 5000, \"citympg\": 30, \"highwaympg\": 31, \"price\": 5195.0, \"Brand\": \"mazda\"}, {\"car_ID\": 52, \"symboling\": 1, \"fueltype\": \"gas\", \"aspiration\": \"std\", \"doornumber\": \"two\", \"carbody\": \"hatchback\", \"drivewheel\": \"fwd\", \"enginelocation\": \"front\", \"wheelbase\": 93.1, \"carlength\": 159.1, \"carwidth\": 64.2, \"carheight\": 54.1, \"curbweight\": 1900, \"enginetype\": \"ohc\", \"cylindernumber\": \"four\", \"enginesize\": 91, \"fuelsystem\": \"2bbl\", \"boreratio\": 3.03, \"stroke\": 3.15, \"compressionratio\": 9.0, \"horsepower\": 68, \"peakrpm\": 5000, \"citympg\": 31, \"highwaympg\": 38, \"price\": 6095.0, \"Brand\": \"mazda\"}, {\"car_ID\": 53, \"symboling\": 1, \"fueltype\": \"gas\", \"aspiration\": \"std\", \"doornumber\": \"two\", \"carbody\": \"hatchback\", \"drivewheel\": \"fwd\", \"enginelocation\": \"front\", \"wheelbase\": 93.1, \"carlength\": 159.1, \"carwidth\": 64.2, \"carheight\": 54.1, \"curbweight\": 1905, \"enginetype\": \"ohc\", \"cylindernumber\": \"four\", \"enginesize\": 91, \"fuelsystem\": \"2bbl\", \"boreratio\": 3.03, \"stroke\": 3.15, \"compressionratio\": 9.0, \"horsepower\": 68, \"peakrpm\": 5000, \"citympg\": 31, \"highwaympg\": 38, \"price\": 6795.0, \"Brand\": \"mazda\"}, {\"car_ID\": 54, \"symboling\": 1, \"fueltype\": \"gas\", \"aspiration\": \"std\", \"doornumber\": \"four\", \"carbody\": \"sedan\", \"drivewheel\": \"fwd\", \"enginelocation\": \"front\", \"wheelbase\": 93.1, \"carlength\": 166.8, \"carwidth\": 64.2, \"carheight\": 54.1, \"curbweight\": 1945, \"enginetype\": \"ohc\", \"cylindernumber\": \"four\", \"enginesize\": 91, \"fuelsystem\": \"2bbl\", \"boreratio\": 3.03, \"stroke\": 3.15, \"compressionratio\": 9.0, \"horsepower\": 68, \"peakrpm\": 5000, \"citympg\": 31, \"highwaympg\": 38, \"price\": 6695.0, \"Brand\": \"mazda\"}, {\"car_ID\": 55, \"symboling\": 1, \"fueltype\": \"gas\", \"aspiration\": \"std\", \"doornumber\": \"four\", \"carbody\": \"sedan\", \"drivewheel\": \"fwd\", \"enginelocation\": \"front\", \"wheelbase\": 93.1, \"carlength\": 166.8, \"carwidth\": 64.2, \"carheight\": 54.1, \"curbweight\": 1950, \"enginetype\": \"ohc\", \"cylindernumber\": \"four\", \"enginesize\": 91, \"fuelsystem\": \"2bbl\", \"boreratio\": 3.08, \"stroke\": 3.15, \"compressionratio\": 9.0, \"horsepower\": 68, \"peakrpm\": 5000, \"citympg\": 31, \"highwaympg\": 38, \"price\": 7395.0, \"Brand\": \"mazda\"}, {\"car_ID\": 56, \"symboling\": 3, \"fueltype\": \"gas\", \"aspiration\": \"std\", \"doornumber\": \"two\", \"carbody\": \"hatchback\", \"drivewheel\": \"rwd\", \"enginelocation\": \"front\", \"wheelbase\": 95.3, \"carlength\": 169.0, \"carwidth\": 65.7, \"carheight\": 49.6, \"curbweight\": 2380, \"enginetype\": \"rotor\", \"cylindernumber\": \"two\", \"enginesize\": 70, \"fuelsystem\": \"4bbl\", \"boreratio\": 3.33, \"stroke\": 3.255, \"compressionratio\": 9.4, \"horsepower\": 101, \"peakrpm\": 6000, \"citympg\": 17, \"highwaympg\": 23, \"price\": 10945.0, \"Brand\": \"mazda\"}, {\"car_ID\": 57, \"symboling\": 3, \"fueltype\": \"gas\", \"aspiration\": \"std\", \"doornumber\": \"two\", \"carbody\": \"hatchback\", \"drivewheel\": \"rwd\", \"enginelocation\": \"front\", \"wheelbase\": 95.3, \"carlength\": 169.0, \"carwidth\": 65.7, \"carheight\": 49.6, \"curbweight\": 2380, \"enginetype\": \"rotor\", \"cylindernumber\": \"two\", \"enginesize\": 70, \"fuelsystem\": \"4bbl\", \"boreratio\": 3.33, \"stroke\": 3.255, \"compressionratio\": 9.4, \"horsepower\": 101, \"peakrpm\": 6000, \"citympg\": 17, \"highwaympg\": 23, \"price\": 11845.0, \"Brand\": \"mazda\"}, {\"car_ID\": 58, \"symboling\": 3, \"fueltype\": \"gas\", \"aspiration\": \"std\", \"doornumber\": \"two\", \"carbody\": \"hatchback\", \"drivewheel\": \"rwd\", \"enginelocation\": \"front\", \"wheelbase\": 95.3, \"carlength\": 169.0, \"carwidth\": 65.7, \"carheight\": 49.6, \"curbweight\": 2385, \"enginetype\": \"rotor\", \"cylindernumber\": \"two\", \"enginesize\": 70, \"fuelsystem\": \"4bbl\", \"boreratio\": 3.33, \"stroke\": 3.255, \"compressionratio\": 9.4, \"horsepower\": 101, \"peakrpm\": 6000, \"citympg\": 17, \"highwaympg\": 23, \"price\": 13645.0, \"Brand\": \"mazda\"}, {\"car_ID\": 59, \"symboling\": 3, \"fueltype\": \"gas\", \"aspiration\": \"std\", \"doornumber\": \"two\", \"carbody\": \"hatchback\", \"drivewheel\": \"rwd\", \"enginelocation\": \"front\", \"wheelbase\": 95.3, \"carlength\": 169.0, \"carwidth\": 65.7, \"carheight\": 49.6, \"curbweight\": 2500, \"enginetype\": \"rotor\", \"cylindernumber\": \"two\", \"enginesize\": 80, \"fuelsystem\": \"mpfi\", \"boreratio\": 3.33, \"stroke\": 3.255, \"compressionratio\": 9.4, \"horsepower\": 135, \"peakrpm\": 6000, \"citympg\": 16, \"highwaympg\": 23, \"price\": 15645.0, \"Brand\": \"mazda\"}, {\"car_ID\": 60, \"symboling\": 1, \"fueltype\": \"gas\", \"aspiration\": \"std\", \"doornumber\": \"two\", \"carbody\": \"hatchback\", \"drivewheel\": \"fwd\", \"enginelocation\": \"front\", \"wheelbase\": 98.8, \"carlength\": 177.8, \"carwidth\": 66.5, \"carheight\": 53.7, \"curbweight\": 2385, \"enginetype\": \"ohc\", \"cylindernumber\": \"four\", \"enginesize\": 122, \"fuelsystem\": \"2bbl\", \"boreratio\": 3.39, \"stroke\": 3.39, \"compressionratio\": 8.6, \"horsepower\": 84, \"peakrpm\": 4800, \"citympg\": 26, \"highwaympg\": 32, \"price\": 8845.0, \"Brand\": \"mazda\"}, {\"car_ID\": 61, \"symboling\": 0, \"fueltype\": \"gas\", \"aspiration\": \"std\", \"doornumber\": \"four\", \"carbody\": \"sedan\", \"drivewheel\": \"fwd\", \"enginelocation\": \"front\", \"wheelbase\": 98.8, \"carlength\": 177.8, \"carwidth\": 66.5, \"carheight\": 55.5, \"curbweight\": 2410, \"enginetype\": \"ohc\", \"cylindernumber\": \"four\", \"enginesize\": 122, \"fuelsystem\": \"2bbl\", \"boreratio\": 3.39, \"stroke\": 3.39, \"compressionratio\": 8.6, \"horsepower\": 84, \"peakrpm\": 4800, \"citympg\": 26, \"highwaympg\": 32, \"price\": 8495.0, \"Brand\": \"mazda\"}, {\"car_ID\": 62, \"symboling\": 1, \"fueltype\": \"gas\", \"aspiration\": \"std\", \"doornumber\": \"two\", \"carbody\": \"hatchback\", \"drivewheel\": \"fwd\", \"enginelocation\": \"front\", \"wheelbase\": 98.8, \"carlength\": 177.8, \"carwidth\": 66.5, \"carheight\": 53.7, \"curbweight\": 2385, \"enginetype\": \"ohc\", \"cylindernumber\": \"four\", \"enginesize\": 122, \"fuelsystem\": \"2bbl\", \"boreratio\": 3.39, \"stroke\": 3.39, \"compressionratio\": 8.6, \"horsepower\": 84, \"peakrpm\": 4800, \"citympg\": 26, \"highwaympg\": 32, \"price\": 10595.0, \"Brand\": \"mazda\"}, {\"car_ID\": 63, \"symboling\": 0, \"fueltype\": \"gas\", \"aspiration\": \"std\", \"doornumber\": \"four\", \"carbody\": \"sedan\", \"drivewheel\": \"fwd\", \"enginelocation\": \"front\", \"wheelbase\": 98.8, \"carlength\": 177.8, \"carwidth\": 66.5, \"carheight\": 55.5, \"curbweight\": 2410, \"enginetype\": \"ohc\", \"cylindernumber\": \"four\", \"enginesize\": 122, \"fuelsystem\": \"2bbl\", \"boreratio\": 3.39, \"stroke\": 3.39, \"compressionratio\": 8.6, \"horsepower\": 84, \"peakrpm\": 4800, \"citympg\": 26, \"highwaympg\": 32, \"price\": 10245.0, \"Brand\": \"mazda\"}, {\"car_ID\": 64, \"symboling\": 0, \"fueltype\": \"diesel\", \"aspiration\": \"std\", \"doornumber\": \"four\", \"carbody\": \"sedan\", \"drivewheel\": \"fwd\", \"enginelocation\": \"front\", \"wheelbase\": 98.8, \"carlength\": 177.8, \"carwidth\": 66.5, \"carheight\": 55.5, \"curbweight\": 2443, \"enginetype\": \"ohc\", \"cylindernumber\": \"four\", \"enginesize\": 122, \"fuelsystem\": \"idi\", \"boreratio\": 3.39, \"stroke\": 3.39, \"compressionratio\": 22.7, \"horsepower\": 64, \"peakrpm\": 4650, \"citympg\": 36, \"highwaympg\": 42, \"price\": 10795.0, \"Brand\": \"mazda\"}, {\"car_ID\": 65, \"symboling\": 0, \"fueltype\": \"gas\", \"aspiration\": \"std\", \"doornumber\": \"four\", \"carbody\": \"hatchback\", \"drivewheel\": \"fwd\", \"enginelocation\": \"front\", \"wheelbase\": 98.8, \"carlength\": 177.8, \"carwidth\": 66.5, \"carheight\": 55.5, \"curbweight\": 2425, \"enginetype\": \"ohc\", \"cylindernumber\": \"four\", \"enginesize\": 122, \"fuelsystem\": \"2bbl\", \"boreratio\": 3.39, \"stroke\": 3.39, \"compressionratio\": 8.6, \"horsepower\": 84, \"peakrpm\": 4800, \"citympg\": 26, \"highwaympg\": 32, \"price\": 11245.0, \"Brand\": \"mazda\"}, {\"car_ID\": 66, \"symboling\": 0, \"fueltype\": \"gas\", \"aspiration\": \"std\", \"doornumber\": \"four\", \"carbody\": \"sedan\", \"drivewheel\": \"rwd\", \"enginelocation\": \"front\", \"wheelbase\": 104.9, \"carlength\": 175.0, \"carwidth\": 66.1, \"carheight\": 54.4, \"curbweight\": 2670, \"enginetype\": \"ohc\", \"cylindernumber\": \"four\", \"enginesize\": 140, \"fuelsystem\": \"mpfi\", \"boreratio\": 3.76, \"stroke\": 3.16, \"compressionratio\": 8.0, \"horsepower\": 120, \"peakrpm\": 5000, \"citympg\": 19, \"highwaympg\": 27, \"price\": 18280.0, \"Brand\": \"mazda\"}, {\"car_ID\": 67, \"symboling\": 0, \"fueltype\": \"diesel\", \"aspiration\": \"std\", \"doornumber\": \"four\", \"carbody\": \"sedan\", \"drivewheel\": \"rwd\", \"enginelocation\": \"front\", \"wheelbase\": 104.9, \"carlength\": 175.0, \"carwidth\": 66.1, \"carheight\": 54.4, \"curbweight\": 2700, \"enginetype\": \"ohc\", \"cylindernumber\": \"four\", \"enginesize\": 134, \"fuelsystem\": \"idi\", \"boreratio\": 3.43, \"stroke\": 3.64, \"compressionratio\": 22.0, \"horsepower\": 72, \"peakrpm\": 4200, \"citympg\": 31, \"highwaympg\": 39, \"price\": 18344.0, \"Brand\": \"mazda\"}, {\"car_ID\": 68, \"symboling\": -1, \"fueltype\": \"diesel\", \"aspiration\": \"turbo\", \"doornumber\": \"four\", \"carbody\": \"sedan\", \"drivewheel\": \"rwd\", \"enginelocation\": \"front\", \"wheelbase\": 110.0, \"carlength\": 190.9, \"carwidth\": 70.3, \"carheight\": 56.5, \"curbweight\": 3515, \"enginetype\": \"ohc\", \"cylindernumber\": \"five\", \"enginesize\": 183, \"fuelsystem\": \"idi\", \"boreratio\": 3.58, \"stroke\": 3.64, \"compressionratio\": 21.5, \"horsepower\": 123, \"peakrpm\": 4350, \"citympg\": 22, \"highwaympg\": 25, \"price\": 25552.0, \"Brand\": \"buick\"}, {\"car_ID\": 69, \"symboling\": -1, \"fueltype\": \"diesel\", \"aspiration\": \"turbo\", \"doornumber\": \"four\", \"carbody\": \"wagon\", \"drivewheel\": \"rwd\", \"enginelocation\": \"front\", \"wheelbase\": 110.0, \"carlength\": 190.9, \"carwidth\": 70.3, \"carheight\": 58.7, \"curbweight\": 3750, \"enginetype\": \"ohc\", \"cylindernumber\": \"five\", \"enginesize\": 183, \"fuelsystem\": \"idi\", \"boreratio\": 3.58, \"stroke\": 3.64, \"compressionratio\": 21.5, \"horsepower\": 123, \"peakrpm\": 4350, \"citympg\": 22, \"highwaympg\": 25, \"price\": 28248.0, \"Brand\": \"buick\"}, {\"car_ID\": 70, \"symboling\": 0, \"fueltype\": \"diesel\", \"aspiration\": \"turbo\", \"doornumber\": \"two\", \"carbody\": \"hardtop\", \"drivewheel\": \"rwd\", \"enginelocation\": \"front\", \"wheelbase\": 106.7, \"carlength\": 187.5, \"carwidth\": 70.3, \"carheight\": 54.9, \"curbweight\": 3495, \"enginetype\": \"ohc\", \"cylindernumber\": \"five\", \"enginesize\": 183, \"fuelsystem\": \"idi\", \"boreratio\": 3.58, \"stroke\": 3.64, \"compressionratio\": 21.5, \"horsepower\": 123, \"peakrpm\": 4350, \"citympg\": 22, \"highwaympg\": 25, \"price\": 28176.0, \"Brand\": \"buick\"}, {\"car_ID\": 71, \"symboling\": -1, \"fueltype\": \"diesel\", \"aspiration\": \"turbo\", \"doornumber\": \"four\", \"carbody\": \"sedan\", \"drivewheel\": \"rwd\", \"enginelocation\": \"front\", \"wheelbase\": 115.6, \"carlength\": 202.6, \"carwidth\": 71.7, \"carheight\": 56.3, \"curbweight\": 3770, \"enginetype\": \"ohc\", \"cylindernumber\": \"five\", \"enginesize\": 183, \"fuelsystem\": \"idi\", \"boreratio\": 3.58, \"stroke\": 3.64, \"compressionratio\": 21.5, \"horsepower\": 123, \"peakrpm\": 4350, \"citympg\": 22, \"highwaympg\": 25, \"price\": 31600.0, \"Brand\": \"buick\"}, {\"car_ID\": 72, \"symboling\": -1, \"fueltype\": \"gas\", \"aspiration\": \"std\", \"doornumber\": \"four\", \"carbody\": \"sedan\", \"drivewheel\": \"rwd\", \"enginelocation\": \"front\", \"wheelbase\": 115.6, \"carlength\": 202.6, \"carwidth\": 71.7, \"carheight\": 56.5, \"curbweight\": 3740, \"enginetype\": \"ohcv\", \"cylindernumber\": \"eight\", \"enginesize\": 234, \"fuelsystem\": \"mpfi\", \"boreratio\": 3.46, \"stroke\": 3.1, \"compressionratio\": 8.3, \"horsepower\": 155, \"peakrpm\": 4750, \"citympg\": 16, \"highwaympg\": 18, \"price\": 34184.0, \"Brand\": \"buick\"}, {\"car_ID\": 73, \"symboling\": 3, \"fueltype\": \"gas\", \"aspiration\": \"std\", \"doornumber\": \"two\", \"carbody\": \"convertible\", \"drivewheel\": \"rwd\", \"enginelocation\": \"front\", \"wheelbase\": 96.6, \"carlength\": 180.3, \"carwidth\": 70.5, \"carheight\": 50.8, \"curbweight\": 3685, \"enginetype\": \"ohcv\", \"cylindernumber\": \"eight\", \"enginesize\": 234, \"fuelsystem\": \"mpfi\", \"boreratio\": 3.46, \"stroke\": 3.1, \"compressionratio\": 8.3, \"horsepower\": 155, \"peakrpm\": 4750, \"citympg\": 16, \"highwaympg\": 18, \"price\": 35056.0, \"Brand\": \"buick\"}, {\"car_ID\": 74, \"symboling\": 0, \"fueltype\": \"gas\", \"aspiration\": \"std\", \"doornumber\": \"four\", \"carbody\": \"sedan\", \"drivewheel\": \"rwd\", \"enginelocation\": \"front\", \"wheelbase\": 120.9, \"carlength\": 208.1, \"carwidth\": 71.7, \"carheight\": 56.7, \"curbweight\": 3900, \"enginetype\": \"ohcv\", \"cylindernumber\": \"eight\", \"enginesize\": 308, \"fuelsystem\": \"mpfi\", \"boreratio\": 3.8, \"stroke\": 3.35, \"compressionratio\": 8.0, \"horsepower\": 184, \"peakrpm\": 4500, \"citympg\": 14, \"highwaympg\": 16, \"price\": 40960.0, \"Brand\": \"buick\"}, {\"car_ID\": 75, \"symboling\": 1, \"fueltype\": \"gas\", \"aspiration\": \"std\", \"doornumber\": \"two\", \"carbody\": \"hardtop\", \"drivewheel\": \"rwd\", \"enginelocation\": \"front\", \"wheelbase\": 112.0, \"carlength\": 199.2, \"carwidth\": 72.0, \"carheight\": 55.4, \"curbweight\": 3715, \"enginetype\": \"ohcv\", \"cylindernumber\": \"eight\", \"enginesize\": 304, \"fuelsystem\": \"mpfi\", \"boreratio\": 3.8, \"stroke\": 3.35, \"compressionratio\": 8.0, \"horsepower\": 184, \"peakrpm\": 4500, \"citympg\": 14, \"highwaympg\": 16, \"price\": 45400.0, \"Brand\": \"buick\"}, {\"car_ID\": 76, \"symboling\": 1, \"fueltype\": \"gas\", \"aspiration\": \"turbo\", \"doornumber\": \"two\", \"carbody\": \"hatchback\", \"drivewheel\": \"rwd\", \"enginelocation\": \"front\", \"wheelbase\": 102.7, \"carlength\": 178.4, \"carwidth\": 68.0, \"carheight\": 54.8, \"curbweight\": 2910, \"enginetype\": \"ohc\", \"cylindernumber\": \"four\", \"enginesize\": 140, \"fuelsystem\": \"mpfi\", \"boreratio\": 3.78, \"stroke\": 3.12, \"compressionratio\": 8.0, \"horsepower\": 175, \"peakrpm\": 5000, \"citympg\": 19, \"highwaympg\": 24, \"price\": 16503.0, \"Brand\": \"mercury\"}, {\"car_ID\": 77, \"symboling\": 2, \"fueltype\": \"gas\", \"aspiration\": \"std\", \"doornumber\": \"two\", \"carbody\": \"hatchback\", \"drivewheel\": \"fwd\", \"enginelocation\": \"front\", \"wheelbase\": 93.7, \"carlength\": 157.3, \"carwidth\": 64.4, \"carheight\": 50.8, \"curbweight\": 1918, \"enginetype\": \"ohc\", \"cylindernumber\": \"four\", \"enginesize\": 92, \"fuelsystem\": \"2bbl\", \"boreratio\": 2.97, \"stroke\": 3.23, \"compressionratio\": 9.4, \"horsepower\": 68, \"peakrpm\": 5500, \"citympg\": 37, \"highwaympg\": 41, \"price\": 5389.0, \"Brand\": \"mitsubishi\"}, {\"car_ID\": 78, \"symboling\": 2, \"fueltype\": \"gas\", \"aspiration\": \"std\", \"doornumber\": \"two\", \"carbody\": \"hatchback\", \"drivewheel\": \"fwd\", \"enginelocation\": \"front\", \"wheelbase\": 93.7, \"carlength\": 157.3, \"carwidth\": 64.4, \"carheight\": 50.8, \"curbweight\": 1944, \"enginetype\": \"ohc\", \"cylindernumber\": \"four\", \"enginesize\": 92, \"fuelsystem\": \"2bbl\", \"boreratio\": 2.97, \"stroke\": 3.23, \"compressionratio\": 9.4, \"horsepower\": 68, \"peakrpm\": 5500, \"citympg\": 31, \"highwaympg\": 38, \"price\": 6189.0, \"Brand\": \"mitsubishi\"}, {\"car_ID\": 79, \"symboling\": 2, \"fueltype\": \"gas\", \"aspiration\": \"std\", \"doornumber\": \"two\", \"carbody\": \"hatchback\", \"drivewheel\": \"fwd\", \"enginelocation\": \"front\", \"wheelbase\": 93.7, \"carlength\": 157.3, \"carwidth\": 64.4, \"carheight\": 50.8, \"curbweight\": 2004, \"enginetype\": \"ohc\", \"cylindernumber\": \"four\", \"enginesize\": 92, \"fuelsystem\": \"2bbl\", \"boreratio\": 2.97, \"stroke\": 3.23, \"compressionratio\": 9.4, \"horsepower\": 68, \"peakrpm\": 5500, \"citympg\": 31, \"highwaympg\": 38, \"price\": 6669.0, \"Brand\": \"mitsubishi\"}, {\"car_ID\": 80, \"symboling\": 1, \"fueltype\": \"gas\", \"aspiration\": \"turbo\", \"doornumber\": \"two\", \"carbody\": \"hatchback\", \"drivewheel\": \"fwd\", \"enginelocation\": \"front\", \"wheelbase\": 93.0, \"carlength\": 157.3, \"carwidth\": 63.8, \"carheight\": 50.8, \"curbweight\": 2145, \"enginetype\": \"ohc\", \"cylindernumber\": \"four\", \"enginesize\": 98, \"fuelsystem\": \"spdi\", \"boreratio\": 3.03, \"stroke\": 3.39, \"compressionratio\": 7.6, \"horsepower\": 102, \"peakrpm\": 5500, \"citympg\": 24, \"highwaympg\": 30, \"price\": 7689.0, \"Brand\": \"mitsubishi\"}, {\"car_ID\": 81, \"symboling\": 3, \"fueltype\": \"gas\", \"aspiration\": \"turbo\", \"doornumber\": \"two\", \"carbody\": \"hatchback\", \"drivewheel\": \"fwd\", \"enginelocation\": \"front\", \"wheelbase\": 96.3, \"carlength\": 173.0, \"carwidth\": 65.4, \"carheight\": 49.4, \"curbweight\": 2370, \"enginetype\": \"ohc\", \"cylindernumber\": \"four\", \"enginesize\": 110, \"fuelsystem\": \"spdi\", \"boreratio\": 3.17, \"stroke\": 3.46, \"compressionratio\": 7.5, \"horsepower\": 116, \"peakrpm\": 5500, \"citympg\": 23, \"highwaympg\": 30, \"price\": 9959.0, \"Brand\": \"mitsubishi\"}, {\"car_ID\": 82, \"symboling\": 3, \"fueltype\": \"gas\", \"aspiration\": \"std\", \"doornumber\": \"two\", \"carbody\": \"hatchback\", \"drivewheel\": \"fwd\", \"enginelocation\": \"front\", \"wheelbase\": 96.3, \"carlength\": 173.0, \"carwidth\": 65.4, \"carheight\": 49.4, \"curbweight\": 2328, \"enginetype\": \"ohc\", \"cylindernumber\": \"four\", \"enginesize\": 122, \"fuelsystem\": \"2bbl\", \"boreratio\": 3.35, \"stroke\": 3.46, \"compressionratio\": 8.5, \"horsepower\": 88, \"peakrpm\": 5000, \"citympg\": 25, \"highwaympg\": 32, \"price\": 8499.0, \"Brand\": \"mitsubishi\"}, {\"car_ID\": 83, \"symboling\": 3, \"fueltype\": \"gas\", \"aspiration\": \"turbo\", \"doornumber\": \"two\", \"carbody\": \"hatchback\", \"drivewheel\": \"fwd\", \"enginelocation\": \"front\", \"wheelbase\": 95.9, \"carlength\": 173.2, \"carwidth\": 66.3, \"carheight\": 50.2, \"curbweight\": 2833, \"enginetype\": \"ohc\", \"cylindernumber\": \"four\", \"enginesize\": 156, \"fuelsystem\": \"spdi\", \"boreratio\": 3.58, \"stroke\": 3.86, \"compressionratio\": 7.0, \"horsepower\": 145, \"peakrpm\": 5000, \"citympg\": 19, \"highwaympg\": 24, \"price\": 12629.0, \"Brand\": \"mitsubishi\"}, {\"car_ID\": 84, \"symboling\": 3, \"fueltype\": \"gas\", \"aspiration\": \"turbo\", \"doornumber\": \"two\", \"carbody\": \"hatchback\", \"drivewheel\": \"fwd\", \"enginelocation\": \"front\", \"wheelbase\": 95.9, \"carlength\": 173.2, \"carwidth\": 66.3, \"carheight\": 50.2, \"curbweight\": 2921, \"enginetype\": \"ohc\", \"cylindernumber\": \"four\", \"enginesize\": 156, \"fuelsystem\": \"spdi\", \"boreratio\": 3.59, \"stroke\": 3.86, \"compressionratio\": 7.0, \"horsepower\": 145, \"peakrpm\": 5000, \"citympg\": 19, \"highwaympg\": 24, \"price\": 14869.0, \"Brand\": \"mitsubishi\"}, {\"car_ID\": 85, \"symboling\": 3, \"fueltype\": \"gas\", \"aspiration\": \"turbo\", \"doornumber\": \"two\", \"carbody\": \"hatchback\", \"drivewheel\": \"fwd\", \"enginelocation\": \"front\", \"wheelbase\": 95.9, \"carlength\": 173.2, \"carwidth\": 66.3, \"carheight\": 50.2, \"curbweight\": 2926, \"enginetype\": \"ohc\", \"cylindernumber\": \"four\", \"enginesize\": 156, \"fuelsystem\": \"spdi\", \"boreratio\": 3.59, \"stroke\": 3.86, \"compressionratio\": 7.0, \"horsepower\": 145, \"peakrpm\": 5000, \"citympg\": 19, \"highwaympg\": 24, \"price\": 14489.0, \"Brand\": \"mitsubishi\"}, {\"car_ID\": 86, \"symboling\": 1, \"fueltype\": \"gas\", \"aspiration\": \"std\", \"doornumber\": \"four\", \"carbody\": \"sedan\", \"drivewheel\": \"fwd\", \"enginelocation\": \"front\", \"wheelbase\": 96.3, \"carlength\": 172.4, \"carwidth\": 65.4, \"carheight\": 51.6, \"curbweight\": 2365, \"enginetype\": \"ohc\", \"cylindernumber\": \"four\", \"enginesize\": 122, \"fuelsystem\": \"2bbl\", \"boreratio\": 3.35, \"stroke\": 3.46, \"compressionratio\": 8.5, \"horsepower\": 88, \"peakrpm\": 5000, \"citympg\": 25, \"highwaympg\": 32, \"price\": 6989.0, \"Brand\": \"mitsubishi\"}, {\"car_ID\": 87, \"symboling\": 1, \"fueltype\": \"gas\", \"aspiration\": \"std\", \"doornumber\": \"four\", \"carbody\": \"sedan\", \"drivewheel\": \"fwd\", \"enginelocation\": \"front\", \"wheelbase\": 96.3, \"carlength\": 172.4, \"carwidth\": 65.4, \"carheight\": 51.6, \"curbweight\": 2405, \"enginetype\": \"ohc\", \"cylindernumber\": \"four\", \"enginesize\": 122, \"fuelsystem\": \"2bbl\", \"boreratio\": 3.35, \"stroke\": 3.46, \"compressionratio\": 8.5, \"horsepower\": 88, \"peakrpm\": 5000, \"citympg\": 25, \"highwaympg\": 32, \"price\": 8189.0, \"Brand\": \"mitsubishi\"}, {\"car_ID\": 88, \"symboling\": 1, \"fueltype\": \"gas\", \"aspiration\": \"turbo\", \"doornumber\": \"four\", \"carbody\": \"sedan\", \"drivewheel\": \"fwd\", \"enginelocation\": \"front\", \"wheelbase\": 96.3, \"carlength\": 172.4, \"carwidth\": 65.4, \"carheight\": 51.6, \"curbweight\": 2403, \"enginetype\": \"ohc\", \"cylindernumber\": \"four\", \"enginesize\": 110, \"fuelsystem\": \"spdi\", \"boreratio\": 3.17, \"stroke\": 3.46, \"compressionratio\": 7.5, \"horsepower\": 116, \"peakrpm\": 5500, \"citympg\": 23, \"highwaympg\": 30, \"price\": 9279.0, \"Brand\": \"mitsubishi\"}, {\"car_ID\": 89, \"symboling\": -1, \"fueltype\": \"gas\", \"aspiration\": \"std\", \"doornumber\": \"four\", \"carbody\": \"sedan\", \"drivewheel\": \"fwd\", \"enginelocation\": \"front\", \"wheelbase\": 96.3, \"carlength\": 172.4, \"carwidth\": 65.4, \"carheight\": 51.6, \"curbweight\": 2403, \"enginetype\": \"ohc\", \"cylindernumber\": \"four\", \"enginesize\": 110, \"fuelsystem\": \"spdi\", \"boreratio\": 3.17, \"stroke\": 3.46, \"compressionratio\": 7.5, \"horsepower\": 116, \"peakrpm\": 5500, \"citympg\": 23, \"highwaympg\": 30, \"price\": 9279.0, \"Brand\": \"mitsubishi\"}, {\"car_ID\": 90, \"symboling\": 1, \"fueltype\": \"gas\", \"aspiration\": \"std\", \"doornumber\": \"two\", \"carbody\": \"sedan\", \"drivewheel\": \"fwd\", \"enginelocation\": \"front\", \"wheelbase\": 94.5, \"carlength\": 165.3, \"carwidth\": 63.8, \"carheight\": 54.5, \"curbweight\": 1889, \"enginetype\": \"ohc\", \"cylindernumber\": \"four\", \"enginesize\": 97, \"fuelsystem\": \"2bbl\", \"boreratio\": 3.15, \"stroke\": 3.29, \"compressionratio\": 9.4, \"horsepower\": 69, \"peakrpm\": 5200, \"citympg\": 31, \"highwaympg\": 37, \"price\": 5499.0, \"Brand\": \"nissan\"}, {\"car_ID\": 91, \"symboling\": 1, \"fueltype\": \"diesel\", \"aspiration\": \"std\", \"doornumber\": \"two\", \"carbody\": \"sedan\", \"drivewheel\": \"fwd\", \"enginelocation\": \"front\", \"wheelbase\": 94.5, \"carlength\": 165.3, \"carwidth\": 63.8, \"carheight\": 54.5, \"curbweight\": 2017, \"enginetype\": \"ohc\", \"cylindernumber\": \"four\", \"enginesize\": 103, \"fuelsystem\": \"idi\", \"boreratio\": 2.99, \"stroke\": 3.47, \"compressionratio\": 21.9, \"horsepower\": 55, \"peakrpm\": 4800, \"citympg\": 45, \"highwaympg\": 50, \"price\": 7099.0, \"Brand\": \"nissan\"}, {\"car_ID\": 92, \"symboling\": 1, \"fueltype\": \"gas\", \"aspiration\": \"std\", \"doornumber\": \"two\", \"carbody\": \"sedan\", \"drivewheel\": \"fwd\", \"enginelocation\": \"front\", \"wheelbase\": 94.5, \"carlength\": 165.3, \"carwidth\": 63.8, \"carheight\": 54.5, \"curbweight\": 1918, \"enginetype\": \"ohc\", \"cylindernumber\": \"four\", \"enginesize\": 97, \"fuelsystem\": \"2bbl\", \"boreratio\": 3.15, \"stroke\": 3.29, \"compressionratio\": 9.4, \"horsepower\": 69, \"peakrpm\": 5200, \"citympg\": 31, \"highwaympg\": 37, \"price\": 6649.0, \"Brand\": \"nissan\"}, {\"car_ID\": 93, \"symboling\": 1, \"fueltype\": \"gas\", \"aspiration\": \"std\", \"doornumber\": \"four\", \"carbody\": \"sedan\", \"drivewheel\": \"fwd\", \"enginelocation\": \"front\", \"wheelbase\": 94.5, \"carlength\": 165.3, \"carwidth\": 63.8, \"carheight\": 54.5, \"curbweight\": 1938, \"enginetype\": \"ohc\", \"cylindernumber\": \"four\", \"enginesize\": 97, \"fuelsystem\": \"2bbl\", \"boreratio\": 3.15, \"stroke\": 3.29, \"compressionratio\": 9.4, \"horsepower\": 69, \"peakrpm\": 5200, \"citympg\": 31, \"highwaympg\": 37, \"price\": 6849.0, \"Brand\": \"nissan\"}, {\"car_ID\": 94, \"symboling\": 1, \"fueltype\": \"gas\", \"aspiration\": \"std\", \"doornumber\": \"four\", \"carbody\": \"wagon\", \"drivewheel\": \"fwd\", \"enginelocation\": \"front\", \"wheelbase\": 94.5, \"carlength\": 170.2, \"carwidth\": 63.8, \"carheight\": 53.5, \"curbweight\": 2024, \"enginetype\": \"ohc\", \"cylindernumber\": \"four\", \"enginesize\": 97, \"fuelsystem\": \"2bbl\", \"boreratio\": 3.15, \"stroke\": 3.29, \"compressionratio\": 9.4, \"horsepower\": 69, \"peakrpm\": 5200, \"citympg\": 31, \"highwaympg\": 37, \"price\": 7349.0, \"Brand\": \"nissan\"}, {\"car_ID\": 95, \"symboling\": 1, \"fueltype\": \"gas\", \"aspiration\": \"std\", \"doornumber\": \"two\", \"carbody\": \"sedan\", \"drivewheel\": \"fwd\", \"enginelocation\": \"front\", \"wheelbase\": 94.5, \"carlength\": 165.3, \"carwidth\": 63.8, \"carheight\": 54.5, \"curbweight\": 1951, \"enginetype\": \"ohc\", \"cylindernumber\": \"four\", \"enginesize\": 97, \"fuelsystem\": \"2bbl\", \"boreratio\": 3.15, \"stroke\": 3.29, \"compressionratio\": 9.4, \"horsepower\": 69, \"peakrpm\": 5200, \"citympg\": 31, \"highwaympg\": 37, \"price\": 7299.0, \"Brand\": \"nissan\"}, {\"car_ID\": 96, \"symboling\": 1, \"fueltype\": \"gas\", \"aspiration\": \"std\", \"doornumber\": \"two\", \"carbody\": \"hatchback\", \"drivewheel\": \"fwd\", \"enginelocation\": \"front\", \"wheelbase\": 94.5, \"carlength\": 165.6, \"carwidth\": 63.8, \"carheight\": 53.3, \"curbweight\": 2028, \"enginetype\": \"ohc\", \"cylindernumber\": \"four\", \"enginesize\": 97, \"fuelsystem\": \"2bbl\", \"boreratio\": 3.15, \"stroke\": 3.29, \"compressionratio\": 9.4, \"horsepower\": 69, \"peakrpm\": 5200, \"citympg\": 31, \"highwaympg\": 37, \"price\": 7799.0, \"Brand\": \"nissan\"}, {\"car_ID\": 97, \"symboling\": 1, \"fueltype\": \"gas\", \"aspiration\": \"std\", \"doornumber\": \"four\", \"carbody\": \"sedan\", \"drivewheel\": \"fwd\", \"enginelocation\": \"front\", \"wheelbase\": 94.5, \"carlength\": 165.3, \"carwidth\": 63.8, \"carheight\": 54.5, \"curbweight\": 1971, \"enginetype\": \"ohc\", \"cylindernumber\": \"four\", \"enginesize\": 97, \"fuelsystem\": \"2bbl\", \"boreratio\": 3.15, \"stroke\": 3.29, \"compressionratio\": 9.4, \"horsepower\": 69, \"peakrpm\": 5200, \"citympg\": 31, \"highwaympg\": 37, \"price\": 7499.0, \"Brand\": \"nissan\"}, {\"car_ID\": 98, \"symboling\": 1, \"fueltype\": \"gas\", \"aspiration\": \"std\", \"doornumber\": \"four\", \"carbody\": \"wagon\", \"drivewheel\": \"fwd\", \"enginelocation\": \"front\", \"wheelbase\": 94.5, \"carlength\": 170.2, \"carwidth\": 63.8, \"carheight\": 53.5, \"curbweight\": 2037, \"enginetype\": \"ohc\", \"cylindernumber\": \"four\", \"enginesize\": 97, \"fuelsystem\": \"2bbl\", \"boreratio\": 3.15, \"stroke\": 3.29, \"compressionratio\": 9.4, \"horsepower\": 69, \"peakrpm\": 5200, \"citympg\": 31, \"highwaympg\": 37, \"price\": 7999.0, \"Brand\": \"nissan\"}, {\"car_ID\": 99, \"symboling\": 2, \"fueltype\": \"gas\", \"aspiration\": \"std\", \"doornumber\": \"two\", \"carbody\": \"hardtop\", \"drivewheel\": \"fwd\", \"enginelocation\": \"front\", \"wheelbase\": 95.1, \"carlength\": 162.4, \"carwidth\": 63.8, \"carheight\": 53.3, \"curbweight\": 2008, \"enginetype\": \"ohc\", \"cylindernumber\": \"four\", \"enginesize\": 97, \"fuelsystem\": \"2bbl\", \"boreratio\": 3.15, \"stroke\": 3.29, \"compressionratio\": 9.4, \"horsepower\": 69, \"peakrpm\": 5200, \"citympg\": 31, \"highwaympg\": 37, \"price\": 8249.0, \"Brand\": \"nissan\"}, {\"car_ID\": 100, \"symboling\": 0, \"fueltype\": \"gas\", \"aspiration\": \"std\", \"doornumber\": \"four\", \"carbody\": \"hatchback\", \"drivewheel\": \"fwd\", \"enginelocation\": \"front\", \"wheelbase\": 97.2, \"carlength\": 173.4, \"carwidth\": 65.2, \"carheight\": 54.7, \"curbweight\": 2324, \"enginetype\": \"ohc\", \"cylindernumber\": \"four\", \"enginesize\": 120, \"fuelsystem\": \"2bbl\", \"boreratio\": 3.33, \"stroke\": 3.47, \"compressionratio\": 8.5, \"horsepower\": 97, \"peakrpm\": 5200, \"citympg\": 27, \"highwaympg\": 34, \"price\": 8949.0, \"Brand\": \"nissan\"}, {\"car_ID\": 101, \"symboling\": 0, \"fueltype\": \"gas\", \"aspiration\": \"std\", \"doornumber\": \"four\", \"carbody\": \"sedan\", \"drivewheel\": \"fwd\", \"enginelocation\": \"front\", \"wheelbase\": 97.2, \"carlength\": 173.4, \"carwidth\": 65.2, \"carheight\": 54.7, \"curbweight\": 2302, \"enginetype\": \"ohc\", \"cylindernumber\": \"four\", \"enginesize\": 120, \"fuelsystem\": \"2bbl\", \"boreratio\": 3.33, \"stroke\": 3.47, \"compressionratio\": 8.5, \"horsepower\": 97, \"peakrpm\": 5200, \"citympg\": 27, \"highwaympg\": 34, \"price\": 9549.0, \"Brand\": \"nissan\"}, {\"car_ID\": 102, \"symboling\": 0, \"fueltype\": \"gas\", \"aspiration\": \"std\", \"doornumber\": \"four\", \"carbody\": \"sedan\", \"drivewheel\": \"fwd\", \"enginelocation\": \"front\", \"wheelbase\": 100.4, \"carlength\": 181.7, \"carwidth\": 66.5, \"carheight\": 55.1, \"curbweight\": 3095, \"enginetype\": \"ohcv\", \"cylindernumber\": \"six\", \"enginesize\": 181, \"fuelsystem\": \"mpfi\", \"boreratio\": 3.43, \"stroke\": 3.27, \"compressionratio\": 9.0, \"horsepower\": 152, \"peakrpm\": 5200, \"citympg\": 17, \"highwaympg\": 22, \"price\": 13499.0, \"Brand\": \"nissan\"}, {\"car_ID\": 103, \"symboling\": 0, \"fueltype\": \"gas\", \"aspiration\": \"std\", \"doornumber\": \"four\", \"carbody\": \"wagon\", \"drivewheel\": \"fwd\", \"enginelocation\": \"front\", \"wheelbase\": 100.4, \"carlength\": 184.6, \"carwidth\": 66.5, \"carheight\": 56.1, \"curbweight\": 3296, \"enginetype\": \"ohcv\", \"cylindernumber\": \"six\", \"enginesize\": 181, \"fuelsystem\": \"mpfi\", \"boreratio\": 3.43, \"stroke\": 3.27, \"compressionratio\": 9.0, \"horsepower\": 152, \"peakrpm\": 5200, \"citympg\": 17, \"highwaympg\": 22, \"price\": 14399.0, \"Brand\": \"nissan\"}, {\"car_ID\": 104, \"symboling\": 0, \"fueltype\": \"gas\", \"aspiration\": \"std\", \"doornumber\": \"four\", \"carbody\": \"sedan\", \"drivewheel\": \"fwd\", \"enginelocation\": \"front\", \"wheelbase\": 100.4, \"carlength\": 184.6, \"carwidth\": 66.5, \"carheight\": 55.1, \"curbweight\": 3060, \"enginetype\": \"ohcv\", \"cylindernumber\": \"six\", \"enginesize\": 181, \"fuelsystem\": \"mpfi\", \"boreratio\": 3.43, \"stroke\": 3.27, \"compressionratio\": 9.0, \"horsepower\": 152, \"peakrpm\": 5200, \"citympg\": 19, \"highwaympg\": 25, \"price\": 13499.0, \"Brand\": \"nissan\"}, {\"car_ID\": 105, \"symboling\": 3, \"fueltype\": \"gas\", \"aspiration\": \"std\", \"doornumber\": \"two\", \"carbody\": \"hatchback\", \"drivewheel\": \"rwd\", \"enginelocation\": \"front\", \"wheelbase\": 91.3, \"carlength\": 170.7, \"carwidth\": 67.9, \"carheight\": 49.7, \"curbweight\": 3071, \"enginetype\": \"ohcv\", \"cylindernumber\": \"six\", \"enginesize\": 181, \"fuelsystem\": \"mpfi\", \"boreratio\": 3.43, \"stroke\": 3.27, \"compressionratio\": 9.0, \"horsepower\": 160, \"peakrpm\": 5200, \"citympg\": 19, \"highwaympg\": 25, \"price\": 17199.0, \"Brand\": \"nissan\"}, {\"car_ID\": 106, \"symboling\": 3, \"fueltype\": \"gas\", \"aspiration\": \"turbo\", \"doornumber\": \"two\", \"carbody\": \"hatchback\", \"drivewheel\": \"rwd\", \"enginelocation\": \"front\", \"wheelbase\": 91.3, \"carlength\": 170.7, \"carwidth\": 67.9, \"carheight\": 49.7, \"curbweight\": 3139, \"enginetype\": \"ohcv\", \"cylindernumber\": \"six\", \"enginesize\": 181, \"fuelsystem\": \"mpfi\", \"boreratio\": 3.43, \"stroke\": 3.27, \"compressionratio\": 7.8, \"horsepower\": 200, \"peakrpm\": 5200, \"citympg\": 17, \"highwaympg\": 23, \"price\": 19699.0, \"Brand\": \"nissan\"}, {\"car_ID\": 107, \"symboling\": 1, \"fueltype\": \"gas\", \"aspiration\": \"std\", \"doornumber\": \"two\", \"carbody\": \"hatchback\", \"drivewheel\": \"rwd\", \"enginelocation\": \"front\", \"wheelbase\": 99.2, \"carlength\": 178.5, \"carwidth\": 67.9, \"carheight\": 49.7, \"curbweight\": 3139, \"enginetype\": \"ohcv\", \"cylindernumber\": \"six\", \"enginesize\": 181, \"fuelsystem\": \"mpfi\", \"boreratio\": 3.43, \"stroke\": 3.27, \"compressionratio\": 9.0, \"horsepower\": 160, \"peakrpm\": 5200, \"citympg\": 19, \"highwaympg\": 25, \"price\": 18399.0, \"Brand\": \"nissan\"}, {\"car_ID\": 108, \"symboling\": 0, \"fueltype\": \"gas\", \"aspiration\": \"std\", \"doornumber\": \"four\", \"carbody\": \"sedan\", \"drivewheel\": \"rwd\", \"enginelocation\": \"front\", \"wheelbase\": 107.9, \"carlength\": 186.7, \"carwidth\": 68.4, \"carheight\": 56.7, \"curbweight\": 3020, \"enginetype\": \"l\", \"cylindernumber\": \"four\", \"enginesize\": 120, \"fuelsystem\": \"mpfi\", \"boreratio\": 3.46, \"stroke\": 3.19, \"compressionratio\": 8.4, \"horsepower\": 97, \"peakrpm\": 5000, \"citympg\": 19, \"highwaympg\": 24, \"price\": 11900.0, \"Brand\": \"peugeot\"}, {\"car_ID\": 109, \"symboling\": 0, \"fueltype\": \"diesel\", \"aspiration\": \"turbo\", \"doornumber\": \"four\", \"carbody\": \"sedan\", \"drivewheel\": \"rwd\", \"enginelocation\": \"front\", \"wheelbase\": 107.9, \"carlength\": 186.7, \"carwidth\": 68.4, \"carheight\": 56.7, \"curbweight\": 3197, \"enginetype\": \"l\", \"cylindernumber\": \"four\", \"enginesize\": 152, \"fuelsystem\": \"idi\", \"boreratio\": 3.7, \"stroke\": 3.52, \"compressionratio\": 21.0, \"horsepower\": 95, \"peakrpm\": 4150, \"citympg\": 28, \"highwaympg\": 33, \"price\": 13200.0, \"Brand\": \"peugeot\"}, {\"car_ID\": 110, \"symboling\": 0, \"fueltype\": \"gas\", \"aspiration\": \"std\", \"doornumber\": \"four\", \"carbody\": \"wagon\", \"drivewheel\": \"rwd\", \"enginelocation\": \"front\", \"wheelbase\": 114.2, \"carlength\": 198.9, \"carwidth\": 68.4, \"carheight\": 58.7, \"curbweight\": 3230, \"enginetype\": \"l\", \"cylindernumber\": \"four\", \"enginesize\": 120, \"fuelsystem\": \"mpfi\", \"boreratio\": 3.46, \"stroke\": 3.19, \"compressionratio\": 8.4, \"horsepower\": 97, \"peakrpm\": 5000, \"citympg\": 19, \"highwaympg\": 24, \"price\": 12440.0, \"Brand\": \"peugeot\"}, {\"car_ID\": 111, \"symboling\": 0, \"fueltype\": \"diesel\", \"aspiration\": \"turbo\", \"doornumber\": \"four\", \"carbody\": \"wagon\", \"drivewheel\": \"rwd\", \"enginelocation\": \"front\", \"wheelbase\": 114.2, \"carlength\": 198.9, \"carwidth\": 68.4, \"carheight\": 58.7, \"curbweight\": 3430, \"enginetype\": \"l\", \"cylindernumber\": \"four\", \"enginesize\": 152, \"fuelsystem\": \"idi\", \"boreratio\": 3.7, \"stroke\": 3.52, \"compressionratio\": 21.0, \"horsepower\": 95, \"peakrpm\": 4150, \"citympg\": 25, \"highwaympg\": 25, \"price\": 13860.0, \"Brand\": \"peugeot\"}, {\"car_ID\": 112, \"symboling\": 0, \"fueltype\": \"gas\", \"aspiration\": \"std\", \"doornumber\": \"four\", \"carbody\": \"sedan\", \"drivewheel\": \"rwd\", \"enginelocation\": \"front\", \"wheelbase\": 107.9, \"carlength\": 186.7, \"carwidth\": 68.4, \"carheight\": 56.7, \"curbweight\": 3075, \"enginetype\": \"l\", \"cylindernumber\": \"four\", \"enginesize\": 120, \"fuelsystem\": \"mpfi\", \"boreratio\": 3.46, \"stroke\": 2.19, \"compressionratio\": 8.4, \"horsepower\": 95, \"peakrpm\": 5000, \"citympg\": 19, \"highwaympg\": 24, \"price\": 15580.0, \"Brand\": \"peugeot\"}, {\"car_ID\": 113, \"symboling\": 0, \"fueltype\": \"diesel\", \"aspiration\": \"turbo\", \"doornumber\": \"four\", \"carbody\": \"sedan\", \"drivewheel\": \"rwd\", \"enginelocation\": \"front\", \"wheelbase\": 107.9, \"carlength\": 186.7, \"carwidth\": 68.4, \"carheight\": 56.7, \"curbweight\": 3252, \"enginetype\": \"l\", \"cylindernumber\": \"four\", \"enginesize\": 152, \"fuelsystem\": \"idi\", \"boreratio\": 3.7, \"stroke\": 3.52, \"compressionratio\": 21.0, \"horsepower\": 95, \"peakrpm\": 4150, \"citympg\": 28, \"highwaympg\": 33, \"price\": 16900.0, \"Brand\": \"peugeot\"}, {\"car_ID\": 114, \"symboling\": 0, \"fueltype\": \"gas\", \"aspiration\": \"std\", \"doornumber\": \"four\", \"carbody\": \"wagon\", \"drivewheel\": \"rwd\", \"enginelocation\": \"front\", \"wheelbase\": 114.2, \"carlength\": 198.9, \"carwidth\": 68.4, \"carheight\": 56.7, \"curbweight\": 3285, \"enginetype\": \"l\", \"cylindernumber\": \"four\", \"enginesize\": 120, \"fuelsystem\": \"mpfi\", \"boreratio\": 3.46, \"stroke\": 2.19, \"compressionratio\": 8.4, \"horsepower\": 95, \"peakrpm\": 5000, \"citympg\": 19, \"highwaympg\": 24, \"price\": 16695.0, \"Brand\": \"peugeot\"}, {\"car_ID\": 115, \"symboling\": 0, \"fueltype\": \"diesel\", \"aspiration\": \"turbo\", \"doornumber\": \"four\", \"carbody\": \"wagon\", \"drivewheel\": \"rwd\", \"enginelocation\": \"front\", \"wheelbase\": 114.2, \"carlength\": 198.9, \"carwidth\": 68.4, \"carheight\": 58.7, \"curbweight\": 3485, \"enginetype\": \"l\", \"cylindernumber\": \"four\", \"enginesize\": 152, \"fuelsystem\": \"idi\", \"boreratio\": 3.7, \"stroke\": 3.52, \"compressionratio\": 21.0, \"horsepower\": 95, \"peakrpm\": 4150, \"citympg\": 25, \"highwaympg\": 25, \"price\": 17075.0, \"Brand\": \"peugeot\"}, {\"car_ID\": 116, \"symboling\": 0, \"fueltype\": \"gas\", \"aspiration\": \"std\", \"doornumber\": \"four\", \"carbody\": \"sedan\", \"drivewheel\": \"rwd\", \"enginelocation\": \"front\", \"wheelbase\": 107.9, \"carlength\": 186.7, \"carwidth\": 68.4, \"carheight\": 56.7, \"curbweight\": 3075, \"enginetype\": \"l\", \"cylindernumber\": \"four\", \"enginesize\": 120, \"fuelsystem\": \"mpfi\", \"boreratio\": 3.46, \"stroke\": 3.19, \"compressionratio\": 8.4, \"horsepower\": 97, \"peakrpm\": 5000, \"citympg\": 19, \"highwaympg\": 24, \"price\": 16630.0, \"Brand\": \"peugeot\"}, {\"car_ID\": 117, \"symboling\": 0, \"fueltype\": \"diesel\", \"aspiration\": \"turbo\", \"doornumber\": \"four\", \"carbody\": \"sedan\", \"drivewheel\": \"rwd\", \"enginelocation\": \"front\", \"wheelbase\": 107.9, \"carlength\": 186.7, \"carwidth\": 68.4, \"carheight\": 56.7, \"curbweight\": 3252, \"enginetype\": \"l\", \"cylindernumber\": \"four\", \"enginesize\": 152, \"fuelsystem\": \"idi\", \"boreratio\": 3.7, \"stroke\": 3.52, \"compressionratio\": 21.0, \"horsepower\": 95, \"peakrpm\": 4150, \"citympg\": 28, \"highwaympg\": 33, \"price\": 17950.0, \"Brand\": \"peugeot\"}, {\"car_ID\": 118, \"symboling\": 0, \"fueltype\": \"gas\", \"aspiration\": \"turbo\", \"doornumber\": \"four\", \"carbody\": \"sedan\", \"drivewheel\": \"rwd\", \"enginelocation\": \"front\", \"wheelbase\": 108.0, \"carlength\": 186.7, \"carwidth\": 68.3, \"carheight\": 56.0, \"curbweight\": 3130, \"enginetype\": \"l\", \"cylindernumber\": \"four\", \"enginesize\": 134, \"fuelsystem\": \"mpfi\", \"boreratio\": 3.61, \"stroke\": 3.21, \"compressionratio\": 7.0, \"horsepower\": 142, \"peakrpm\": 5600, \"citympg\": 18, \"highwaympg\": 24, \"price\": 18150.0, \"Brand\": \"peugeot\"}, {\"car_ID\": 119, \"symboling\": 1, \"fueltype\": \"gas\", \"aspiration\": \"std\", \"doornumber\": \"two\", \"carbody\": \"hatchback\", \"drivewheel\": \"fwd\", \"enginelocation\": \"front\", \"wheelbase\": 93.7, \"carlength\": 157.3, \"carwidth\": 63.8, \"carheight\": 50.8, \"curbweight\": 1918, \"enginetype\": \"ohc\", \"cylindernumber\": \"four\", \"enginesize\": 90, \"fuelsystem\": \"2bbl\", \"boreratio\": 2.97, \"stroke\": 3.23, \"compressionratio\": 9.4, \"horsepower\": 68, \"peakrpm\": 5500, \"citympg\": 37, \"highwaympg\": 41, \"price\": 5572.0, \"Brand\": \"plymouth\"}, {\"car_ID\": 120, \"symboling\": 1, \"fueltype\": \"gas\", \"aspiration\": \"turbo\", \"doornumber\": \"two\", \"carbody\": \"hatchback\", \"drivewheel\": \"fwd\", \"enginelocation\": \"front\", \"wheelbase\": 93.7, \"carlength\": 157.3, \"carwidth\": 63.8, \"carheight\": 50.8, \"curbweight\": 2128, \"enginetype\": \"ohc\", \"cylindernumber\": \"four\", \"enginesize\": 98, \"fuelsystem\": \"spdi\", \"boreratio\": 3.03, \"stroke\": 3.39, \"compressionratio\": 7.6, \"horsepower\": 102, \"peakrpm\": 5500, \"citympg\": 24, \"highwaympg\": 30, \"price\": 7957.0, \"Brand\": \"plymouth\"}, {\"car_ID\": 121, \"symboling\": 1, \"fueltype\": \"gas\", \"aspiration\": \"std\", \"doornumber\": \"four\", \"carbody\": \"hatchback\", \"drivewheel\": \"fwd\", \"enginelocation\": \"front\", \"wheelbase\": 93.7, \"carlength\": 157.3, \"carwidth\": 63.8, \"carheight\": 50.6, \"curbweight\": 1967, \"enginetype\": \"ohc\", \"cylindernumber\": \"four\", \"enginesize\": 90, \"fuelsystem\": \"2bbl\", \"boreratio\": 2.97, \"stroke\": 3.23, \"compressionratio\": 9.4, \"horsepower\": 68, \"peakrpm\": 5500, \"citympg\": 31, \"highwaympg\": 38, \"price\": 6229.0, \"Brand\": \"plymouth\"}, {\"car_ID\": 122, \"symboling\": 1, \"fueltype\": \"gas\", \"aspiration\": \"std\", \"doornumber\": \"four\", \"carbody\": \"sedan\", \"drivewheel\": \"fwd\", \"enginelocation\": \"front\", \"wheelbase\": 93.7, \"carlength\": 167.3, \"carwidth\": 63.8, \"carheight\": 50.8, \"curbweight\": 1989, \"enginetype\": \"ohc\", \"cylindernumber\": \"four\", \"enginesize\": 90, \"fuelsystem\": \"2bbl\", \"boreratio\": 2.97, \"stroke\": 3.23, \"compressionratio\": 9.4, \"horsepower\": 68, \"peakrpm\": 5500, \"citympg\": 31, \"highwaympg\": 38, \"price\": 6692.0, \"Brand\": \"plymouth\"}, {\"car_ID\": 123, \"symboling\": 1, \"fueltype\": \"gas\", \"aspiration\": \"std\", \"doornumber\": \"four\", \"carbody\": \"sedan\", \"drivewheel\": \"fwd\", \"enginelocation\": \"front\", \"wheelbase\": 93.7, \"carlength\": 167.3, \"carwidth\": 63.8, \"carheight\": 50.8, \"curbweight\": 2191, \"enginetype\": \"ohc\", \"cylindernumber\": \"four\", \"enginesize\": 98, \"fuelsystem\": \"2bbl\", \"boreratio\": 2.97, \"stroke\": 3.23, \"compressionratio\": 9.4, \"horsepower\": 68, \"peakrpm\": 5500, \"citympg\": 31, \"highwaympg\": 38, \"price\": 7609.0, \"Brand\": \"plymouth\"}, {\"car_ID\": 124, \"symboling\": -1, \"fueltype\": \"gas\", \"aspiration\": \"std\", \"doornumber\": \"four\", \"carbody\": \"wagon\", \"drivewheel\": \"fwd\", \"enginelocation\": \"front\", \"wheelbase\": 103.3, \"carlength\": 174.6, \"carwidth\": 64.6, \"carheight\": 59.8, \"curbweight\": 2535, \"enginetype\": \"ohc\", \"cylindernumber\": \"four\", \"enginesize\": 122, \"fuelsystem\": \"2bbl\", \"boreratio\": 3.35, \"stroke\": 3.46, \"compressionratio\": 8.5, \"horsepower\": 88, \"peakrpm\": 5000, \"citympg\": 24, \"highwaympg\": 30, \"price\": 8921.0, \"Brand\": \"plymouth\"}, {\"car_ID\": 125, \"symboling\": 3, \"fueltype\": \"gas\", \"aspiration\": \"turbo\", \"doornumber\": \"two\", \"carbody\": \"hatchback\", \"drivewheel\": \"rwd\", \"enginelocation\": \"front\", \"wheelbase\": 95.9, \"carlength\": 173.2, \"carwidth\": 66.3, \"carheight\": 50.2, \"curbweight\": 2818, \"enginetype\": \"ohc\", \"cylindernumber\": \"four\", \"enginesize\": 156, \"fuelsystem\": \"spdi\", \"boreratio\": 3.59, \"stroke\": 3.86, \"compressionratio\": 7.0, \"horsepower\": 145, \"peakrpm\": 5000, \"citympg\": 19, \"highwaympg\": 24, \"price\": 12764.0, \"Brand\": \"plymouth\"}, {\"car_ID\": 126, \"symboling\": 3, \"fueltype\": \"gas\", \"aspiration\": \"std\", \"doornumber\": \"two\", \"carbody\": \"hatchback\", \"drivewheel\": \"rwd\", \"enginelocation\": \"front\", \"wheelbase\": 94.5, \"carlength\": 168.9, \"carwidth\": 68.3, \"carheight\": 50.2, \"curbweight\": 2778, \"enginetype\": \"ohc\", \"cylindernumber\": \"four\", \"enginesize\": 151, \"fuelsystem\": \"mpfi\", \"boreratio\": 3.94, \"stroke\": 3.11, \"compressionratio\": 9.5, \"horsepower\": 143, \"peakrpm\": 5500, \"citympg\": 19, \"highwaympg\": 27, \"price\": 22018.0, \"Brand\": \"porsche\"}, {\"car_ID\": 127, \"symboling\": 3, \"fueltype\": \"gas\", \"aspiration\": \"std\", \"doornumber\": \"two\", \"carbody\": \"hardtop\", \"drivewheel\": \"rwd\", \"enginelocation\": \"rear\", \"wheelbase\": 89.5, \"carlength\": 168.9, \"carwidth\": 65.0, \"carheight\": 51.6, \"curbweight\": 2756, \"enginetype\": \"ohcf\", \"cylindernumber\": \"six\", \"enginesize\": 194, \"fuelsystem\": \"mpfi\", \"boreratio\": 3.74, \"stroke\": 2.9, \"compressionratio\": 9.5, \"horsepower\": 207, \"peakrpm\": 5900, \"citympg\": 17, \"highwaympg\": 25, \"price\": 32528.0, \"Brand\": \"porcshce\"}, {\"car_ID\": 128, \"symboling\": 3, \"fueltype\": \"gas\", \"aspiration\": \"std\", \"doornumber\": \"two\", \"carbody\": \"hardtop\", \"drivewheel\": \"rwd\", \"enginelocation\": \"rear\", \"wheelbase\": 89.5, \"carlength\": 168.9, \"carwidth\": 65.0, \"carheight\": 51.6, \"curbweight\": 2756, \"enginetype\": \"ohcf\", \"cylindernumber\": \"six\", \"enginesize\": 194, \"fuelsystem\": \"mpfi\", \"boreratio\": 3.74, \"stroke\": 2.9, \"compressionratio\": 9.5, \"horsepower\": 207, \"peakrpm\": 5900, \"citympg\": 17, \"highwaympg\": 25, \"price\": 34028.0, \"Brand\": \"porsche\"}, {\"car_ID\": 129, \"symboling\": 3, \"fueltype\": \"gas\", \"aspiration\": \"std\", \"doornumber\": \"two\", \"carbody\": \"convertible\", \"drivewheel\": \"rwd\", \"enginelocation\": \"rear\", \"wheelbase\": 89.5, \"carlength\": 168.9, \"carwidth\": 65.0, \"carheight\": 51.6, \"curbweight\": 2800, \"enginetype\": \"ohcf\", \"cylindernumber\": \"six\", \"enginesize\": 194, \"fuelsystem\": \"mpfi\", \"boreratio\": 3.74, \"stroke\": 2.9, \"compressionratio\": 9.5, \"horsepower\": 207, \"peakrpm\": 5900, \"citympg\": 17, \"highwaympg\": 25, \"price\": 37028.0, \"Brand\": \"porsche\"}, {\"car_ID\": 130, \"symboling\": 1, \"fueltype\": \"gas\", \"aspiration\": \"std\", \"doornumber\": \"two\", \"carbody\": \"hatchback\", \"drivewheel\": \"rwd\", \"enginelocation\": \"front\", \"wheelbase\": 98.4, \"carlength\": 175.7, \"carwidth\": 72.3, \"carheight\": 50.5, \"curbweight\": 3366, \"enginetype\": \"dohcv\", \"cylindernumber\": \"eight\", \"enginesize\": 203, \"fuelsystem\": \"mpfi\", \"boreratio\": 3.94, \"stroke\": 3.11, \"compressionratio\": 10.0, \"horsepower\": 288, \"peakrpm\": 5750, \"citympg\": 17, \"highwaympg\": 28, \"price\": 31400.5, \"Brand\": \"porsche\"}, {\"car_ID\": 131, \"symboling\": 0, \"fueltype\": \"gas\", \"aspiration\": \"std\", \"doornumber\": \"four\", \"carbody\": \"wagon\", \"drivewheel\": \"fwd\", \"enginelocation\": \"front\", \"wheelbase\": 96.1, \"carlength\": 181.5, \"carwidth\": 66.5, \"carheight\": 55.2, \"curbweight\": 2579, \"enginetype\": \"ohc\", \"cylindernumber\": \"four\", \"enginesize\": 132, \"fuelsystem\": \"mpfi\", \"boreratio\": 3.46, \"stroke\": 3.9, \"compressionratio\": 8.7, \"horsepower\": 90, \"peakrpm\": 5100, \"citympg\": 23, \"highwaympg\": 31, \"price\": 9295.0, \"Brand\": \"renault\"}, {\"car_ID\": 132, \"symboling\": 2, \"fueltype\": \"gas\", \"aspiration\": \"std\", \"doornumber\": \"two\", \"carbody\": \"hatchback\", \"drivewheel\": \"fwd\", \"enginelocation\": \"front\", \"wheelbase\": 96.1, \"carlength\": 176.8, \"carwidth\": 66.6, \"carheight\": 50.5, \"curbweight\": 2460, \"enginetype\": \"ohc\", \"cylindernumber\": \"four\", \"enginesize\": 132, \"fuelsystem\": \"mpfi\", \"boreratio\": 3.46, \"stroke\": 3.9, \"compressionratio\": 8.7, \"horsepower\": 90, \"peakrpm\": 5100, \"citympg\": 23, \"highwaympg\": 31, \"price\": 9895.0, \"Brand\": \"renault\"}, {\"car_ID\": 133, \"symboling\": 3, \"fueltype\": \"gas\", \"aspiration\": \"std\", \"doornumber\": \"two\", \"carbody\": \"hatchback\", \"drivewheel\": \"fwd\", \"enginelocation\": \"front\", \"wheelbase\": 99.1, \"carlength\": 186.6, \"carwidth\": 66.5, \"carheight\": 56.1, \"curbweight\": 2658, \"enginetype\": \"ohc\", \"cylindernumber\": \"four\", \"enginesize\": 121, \"fuelsystem\": \"mpfi\", \"boreratio\": 3.54, \"stroke\": 3.07, \"compressionratio\": 9.31, \"horsepower\": 110, \"peakrpm\": 5250, \"citympg\": 21, \"highwaympg\": 28, \"price\": 11850.0, \"Brand\": \"saab\"}, {\"car_ID\": 134, \"symboling\": 2, \"fueltype\": \"gas\", \"aspiration\": \"std\", \"doornumber\": \"four\", \"carbody\": \"sedan\", \"drivewheel\": \"fwd\", \"enginelocation\": \"front\", \"wheelbase\": 99.1, \"carlength\": 186.6, \"carwidth\": 66.5, \"carheight\": 56.1, \"curbweight\": 2695, \"enginetype\": \"ohc\", \"cylindernumber\": \"four\", \"enginesize\": 121, \"fuelsystem\": \"mpfi\", \"boreratio\": 3.54, \"stroke\": 3.07, \"compressionratio\": 9.3, \"horsepower\": 110, \"peakrpm\": 5250, \"citympg\": 21, \"highwaympg\": 28, \"price\": 12170.0, \"Brand\": \"saab\"}, {\"car_ID\": 135, \"symboling\": 3, \"fueltype\": \"gas\", \"aspiration\": \"std\", \"doornumber\": \"two\", \"carbody\": \"hatchback\", \"drivewheel\": \"fwd\", \"enginelocation\": \"front\", \"wheelbase\": 99.1, \"carlength\": 186.6, \"carwidth\": 66.5, \"carheight\": 56.1, \"curbweight\": 2707, \"enginetype\": \"ohc\", \"cylindernumber\": \"four\", \"enginesize\": 121, \"fuelsystem\": \"mpfi\", \"boreratio\": 2.54, \"stroke\": 2.07, \"compressionratio\": 9.3, \"horsepower\": 110, \"peakrpm\": 5250, \"citympg\": 21, \"highwaympg\": 28, \"price\": 15040.0, \"Brand\": \"saab\"}, {\"car_ID\": 136, \"symboling\": 2, \"fueltype\": \"gas\", \"aspiration\": \"std\", \"doornumber\": \"four\", \"carbody\": \"sedan\", \"drivewheel\": \"fwd\", \"enginelocation\": \"front\", \"wheelbase\": 99.1, \"carlength\": 186.6, \"carwidth\": 66.5, \"carheight\": 56.1, \"curbweight\": 2758, \"enginetype\": \"ohc\", \"cylindernumber\": \"four\", \"enginesize\": 121, \"fuelsystem\": \"mpfi\", \"boreratio\": 3.54, \"stroke\": 3.07, \"compressionratio\": 9.3, \"horsepower\": 110, \"peakrpm\": 5250, \"citympg\": 21, \"highwaympg\": 28, \"price\": 15510.0, \"Brand\": \"saab\"}, {\"car_ID\": 137, \"symboling\": 3, \"fueltype\": \"gas\", \"aspiration\": \"turbo\", \"doornumber\": \"two\", \"carbody\": \"hatchback\", \"drivewheel\": \"fwd\", \"enginelocation\": \"front\", \"wheelbase\": 99.1, \"carlength\": 186.6, \"carwidth\": 66.5, \"carheight\": 56.1, \"curbweight\": 2808, \"enginetype\": \"dohc\", \"cylindernumber\": \"four\", \"enginesize\": 121, \"fuelsystem\": \"mpfi\", \"boreratio\": 3.54, \"stroke\": 3.07, \"compressionratio\": 9.0, \"horsepower\": 160, \"peakrpm\": 5500, \"citympg\": 19, \"highwaympg\": 26, \"price\": 18150.0, \"Brand\": \"saab\"}, {\"car_ID\": 138, \"symboling\": 2, \"fueltype\": \"gas\", \"aspiration\": \"turbo\", \"doornumber\": \"four\", \"carbody\": \"sedan\", \"drivewheel\": \"fwd\", \"enginelocation\": \"front\", \"wheelbase\": 99.1, \"carlength\": 186.6, \"carwidth\": 66.5, \"carheight\": 56.1, \"curbweight\": 2847, \"enginetype\": \"dohc\", \"cylindernumber\": \"four\", \"enginesize\": 121, \"fuelsystem\": \"mpfi\", \"boreratio\": 3.54, \"stroke\": 3.07, \"compressionratio\": 9.0, \"horsepower\": 160, \"peakrpm\": 5500, \"citympg\": 19, \"highwaympg\": 26, \"price\": 18620.0, \"Brand\": \"saab\"}, {\"car_ID\": 139, \"symboling\": 2, \"fueltype\": \"gas\", \"aspiration\": \"std\", \"doornumber\": \"two\", \"carbody\": \"hatchback\", \"drivewheel\": \"fwd\", \"enginelocation\": \"front\", \"wheelbase\": 93.7, \"carlength\": 156.9, \"carwidth\": 63.4, \"carheight\": 53.7, \"curbweight\": 2050, \"enginetype\": \"ohcf\", \"cylindernumber\": \"four\", \"enginesize\": 97, \"fuelsystem\": \"2bbl\", \"boreratio\": 3.62, \"stroke\": 2.36, \"compressionratio\": 9.0, \"horsepower\": 69, \"peakrpm\": 4900, \"citympg\": 31, \"highwaympg\": 36, \"price\": 5118.0, \"Brand\": \"subaru\"}, {\"car_ID\": 140, \"symboling\": 2, \"fueltype\": \"gas\", \"aspiration\": \"std\", \"doornumber\": \"two\", \"carbody\": \"hatchback\", \"drivewheel\": \"fwd\", \"enginelocation\": \"front\", \"wheelbase\": 93.7, \"carlength\": 157.9, \"carwidth\": 63.6, \"carheight\": 53.7, \"curbweight\": 2120, \"enginetype\": \"ohcf\", \"cylindernumber\": \"four\", \"enginesize\": 108, \"fuelsystem\": \"2bbl\", \"boreratio\": 3.62, \"stroke\": 2.64, \"compressionratio\": 8.7, \"horsepower\": 73, \"peakrpm\": 4400, \"citympg\": 26, \"highwaympg\": 31, \"price\": 7053.0, \"Brand\": \"subaru\"}, {\"car_ID\": 141, \"symboling\": 2, \"fueltype\": \"gas\", \"aspiration\": \"std\", \"doornumber\": \"two\", \"carbody\": \"hatchback\", \"drivewheel\": \"4wd\", \"enginelocation\": \"front\", \"wheelbase\": 93.3, \"carlength\": 157.3, \"carwidth\": 63.8, \"carheight\": 55.7, \"curbweight\": 2240, \"enginetype\": \"ohcf\", \"cylindernumber\": \"four\", \"enginesize\": 108, \"fuelsystem\": \"2bbl\", \"boreratio\": 3.62, \"stroke\": 2.64, \"compressionratio\": 8.7, \"horsepower\": 73, \"peakrpm\": 4400, \"citympg\": 26, \"highwaympg\": 31, \"price\": 7603.0, \"Brand\": \"subaru\"}, {\"car_ID\": 142, \"symboling\": 0, \"fueltype\": \"gas\", \"aspiration\": \"std\", \"doornumber\": \"four\", \"carbody\": \"sedan\", \"drivewheel\": \"fwd\", \"enginelocation\": \"front\", \"wheelbase\": 97.2, \"carlength\": 172.0, \"carwidth\": 65.4, \"carheight\": 52.5, \"curbweight\": 2145, \"enginetype\": \"ohcf\", \"cylindernumber\": \"four\", \"enginesize\": 108, \"fuelsystem\": \"2bbl\", \"boreratio\": 3.62, \"stroke\": 2.64, \"compressionratio\": 9.5, \"horsepower\": 82, \"peakrpm\": 4800, \"citympg\": 32, \"highwaympg\": 37, \"price\": 7126.0, \"Brand\": \"subaru\"}, {\"car_ID\": 143, \"symboling\": 0, \"fueltype\": \"gas\", \"aspiration\": \"std\", \"doornumber\": \"four\", \"carbody\": \"sedan\", \"drivewheel\": \"fwd\", \"enginelocation\": \"front\", \"wheelbase\": 97.2, \"carlength\": 172.0, \"carwidth\": 65.4, \"carheight\": 52.5, \"curbweight\": 2190, \"enginetype\": \"ohcf\", \"cylindernumber\": \"four\", \"enginesize\": 108, \"fuelsystem\": \"2bbl\", \"boreratio\": 3.62, \"stroke\": 2.64, \"compressionratio\": 9.5, \"horsepower\": 82, \"peakrpm\": 4400, \"citympg\": 28, \"highwaympg\": 33, \"price\": 7775.0, \"Brand\": \"subaru\"}, {\"car_ID\": 144, \"symboling\": 0, \"fueltype\": \"gas\", \"aspiration\": \"std\", \"doornumber\": \"four\", \"carbody\": \"sedan\", \"drivewheel\": \"fwd\", \"enginelocation\": \"front\", \"wheelbase\": 97.2, \"carlength\": 172.0, \"carwidth\": 65.4, \"carheight\": 52.5, \"curbweight\": 2340, \"enginetype\": \"ohcf\", \"cylindernumber\": \"four\", \"enginesize\": 108, \"fuelsystem\": \"mpfi\", \"boreratio\": 3.62, \"stroke\": 2.64, \"compressionratio\": 9.0, \"horsepower\": 94, \"peakrpm\": 5200, \"citympg\": 26, \"highwaympg\": 32, \"price\": 9960.0, \"Brand\": \"subaru\"}, {\"car_ID\": 145, \"symboling\": 0, \"fueltype\": \"gas\", \"aspiration\": \"std\", \"doornumber\": \"four\", \"carbody\": \"sedan\", \"drivewheel\": \"4wd\", \"enginelocation\": \"front\", \"wheelbase\": 97.0, \"carlength\": 172.0, \"carwidth\": 65.4, \"carheight\": 54.3, \"curbweight\": 2385, \"enginetype\": \"ohcf\", \"cylindernumber\": \"four\", \"enginesize\": 108, \"fuelsystem\": \"2bbl\", \"boreratio\": 3.62, \"stroke\": 2.64, \"compressionratio\": 9.0, \"horsepower\": 82, \"peakrpm\": 4800, \"citympg\": 24, \"highwaympg\": 25, \"price\": 9233.0, \"Brand\": \"subaru\"}, {\"car_ID\": 146, \"symboling\": 0, \"fueltype\": \"gas\", \"aspiration\": \"turbo\", \"doornumber\": \"four\", \"carbody\": \"sedan\", \"drivewheel\": \"4wd\", \"enginelocation\": \"front\", \"wheelbase\": 97.0, \"carlength\": 172.0, \"carwidth\": 65.4, \"carheight\": 54.3, \"curbweight\": 2510, \"enginetype\": \"ohcf\", \"cylindernumber\": \"four\", \"enginesize\": 108, \"fuelsystem\": \"mpfi\", \"boreratio\": 3.62, \"stroke\": 2.64, \"compressionratio\": 7.7, \"horsepower\": 111, \"peakrpm\": 4800, \"citympg\": 24, \"highwaympg\": 29, \"price\": 11259.0, \"Brand\": \"subaru\"}, {\"car_ID\": 147, \"symboling\": 0, \"fueltype\": \"gas\", \"aspiration\": \"std\", \"doornumber\": \"four\", \"carbody\": \"wagon\", \"drivewheel\": \"fwd\", \"enginelocation\": \"front\", \"wheelbase\": 97.0, \"carlength\": 173.5, \"carwidth\": 65.4, \"carheight\": 53.0, \"curbweight\": 2290, \"enginetype\": \"ohcf\", \"cylindernumber\": \"four\", \"enginesize\": 108, \"fuelsystem\": \"2bbl\", \"boreratio\": 3.62, \"stroke\": 2.64, \"compressionratio\": 9.0, \"horsepower\": 82, \"peakrpm\": 4800, \"citympg\": 28, \"highwaympg\": 32, \"price\": 7463.0, \"Brand\": \"subaru\"}, {\"car_ID\": 148, \"symboling\": 0, \"fueltype\": \"gas\", \"aspiration\": \"std\", \"doornumber\": \"four\", \"carbody\": \"wagon\", \"drivewheel\": \"fwd\", \"enginelocation\": \"front\", \"wheelbase\": 97.0, \"carlength\": 173.5, \"carwidth\": 65.4, \"carheight\": 53.0, \"curbweight\": 2455, \"enginetype\": \"ohcf\", \"cylindernumber\": \"four\", \"enginesize\": 108, \"fuelsystem\": \"mpfi\", \"boreratio\": 3.62, \"stroke\": 2.64, \"compressionratio\": 9.0, \"horsepower\": 94, \"peakrpm\": 5200, \"citympg\": 25, \"highwaympg\": 31, \"price\": 10198.0, \"Brand\": \"subaru\"}, {\"car_ID\": 149, \"symboling\": 0, \"fueltype\": \"gas\", \"aspiration\": \"std\", \"doornumber\": \"four\", \"carbody\": \"wagon\", \"drivewheel\": \"4wd\", \"enginelocation\": \"front\", \"wheelbase\": 96.9, \"carlength\": 173.6, \"carwidth\": 65.4, \"carheight\": 54.9, \"curbweight\": 2420, \"enginetype\": \"ohcf\", \"cylindernumber\": \"four\", \"enginesize\": 108, \"fuelsystem\": \"2bbl\", \"boreratio\": 3.62, \"stroke\": 2.64, \"compressionratio\": 9.0, \"horsepower\": 82, \"peakrpm\": 4800, \"citympg\": 23, \"highwaympg\": 29, \"price\": 8013.0, \"Brand\": \"subaru\"}, {\"car_ID\": 150, \"symboling\": 0, \"fueltype\": \"gas\", \"aspiration\": \"turbo\", \"doornumber\": \"four\", \"carbody\": \"wagon\", \"drivewheel\": \"4wd\", \"enginelocation\": \"front\", \"wheelbase\": 96.9, \"carlength\": 173.6, \"carwidth\": 65.4, \"carheight\": 54.9, \"curbweight\": 2650, \"enginetype\": \"ohcf\", \"cylindernumber\": \"four\", \"enginesize\": 108, \"fuelsystem\": \"mpfi\", \"boreratio\": 3.62, \"stroke\": 2.64, \"compressionratio\": 7.7, \"horsepower\": 111, \"peakrpm\": 4800, \"citympg\": 23, \"highwaympg\": 23, \"price\": 11694.0, \"Brand\": \"subaru\"}, {\"car_ID\": 151, \"symboling\": 1, \"fueltype\": \"gas\", \"aspiration\": \"std\", \"doornumber\": \"two\", \"carbody\": \"hatchback\", \"drivewheel\": \"fwd\", \"enginelocation\": \"front\", \"wheelbase\": 95.7, \"carlength\": 158.7, \"carwidth\": 63.6, \"carheight\": 54.5, \"curbweight\": 1985, \"enginetype\": \"ohc\", \"cylindernumber\": \"four\", \"enginesize\": 92, \"fuelsystem\": \"2bbl\", \"boreratio\": 3.05, \"stroke\": 3.03, \"compressionratio\": 9.0, \"horsepower\": 62, \"peakrpm\": 4800, \"citympg\": 35, \"highwaympg\": 39, \"price\": 5348.0, \"Brand\": \"toyota\"}, {\"car_ID\": 152, \"symboling\": 1, \"fueltype\": \"gas\", \"aspiration\": \"std\", \"doornumber\": \"two\", \"carbody\": \"hatchback\", \"drivewheel\": \"fwd\", \"enginelocation\": \"front\", \"wheelbase\": 95.7, \"carlength\": 158.7, \"carwidth\": 63.6, \"carheight\": 54.5, \"curbweight\": 2040, \"enginetype\": \"ohc\", \"cylindernumber\": \"four\", \"enginesize\": 92, \"fuelsystem\": \"2bbl\", \"boreratio\": 3.05, \"stroke\": 3.03, \"compressionratio\": 9.0, \"horsepower\": 62, \"peakrpm\": 4800, \"citympg\": 31, \"highwaympg\": 38, \"price\": 6338.0, \"Brand\": \"toyota\"}, {\"car_ID\": 153, \"symboling\": 1, \"fueltype\": \"gas\", \"aspiration\": \"std\", \"doornumber\": \"four\", \"carbody\": \"hatchback\", \"drivewheel\": \"fwd\", \"enginelocation\": \"front\", \"wheelbase\": 95.7, \"carlength\": 158.7, \"carwidth\": 63.6, \"carheight\": 54.5, \"curbweight\": 2015, \"enginetype\": \"ohc\", \"cylindernumber\": \"four\", \"enginesize\": 92, \"fuelsystem\": \"2bbl\", \"boreratio\": 3.05, \"stroke\": 3.03, \"compressionratio\": 9.0, \"horsepower\": 62, \"peakrpm\": 4800, \"citympg\": 31, \"highwaympg\": 38, \"price\": 6488.0, \"Brand\": \"toyota\"}, {\"car_ID\": 154, \"symboling\": 0, \"fueltype\": \"gas\", \"aspiration\": \"std\", \"doornumber\": \"four\", \"carbody\": \"wagon\", \"drivewheel\": \"fwd\", \"enginelocation\": \"front\", \"wheelbase\": 95.7, \"carlength\": 169.7, \"carwidth\": 63.6, \"carheight\": 59.1, \"curbweight\": 2280, \"enginetype\": \"ohc\", \"cylindernumber\": \"four\", \"enginesize\": 92, \"fuelsystem\": \"2bbl\", \"boreratio\": 3.05, \"stroke\": 3.03, \"compressionratio\": 9.0, \"horsepower\": 62, \"peakrpm\": 4800, \"citympg\": 31, \"highwaympg\": 37, \"price\": 6918.0, \"Brand\": \"toyota\"}, {\"car_ID\": 155, \"symboling\": 0, \"fueltype\": \"gas\", \"aspiration\": \"std\", \"doornumber\": \"four\", \"carbody\": \"wagon\", \"drivewheel\": \"4wd\", \"enginelocation\": \"front\", \"wheelbase\": 95.7, \"carlength\": 169.7, \"carwidth\": 63.6, \"carheight\": 59.1, \"curbweight\": 2290, \"enginetype\": \"ohc\", \"cylindernumber\": \"four\", \"enginesize\": 92, \"fuelsystem\": \"2bbl\", \"boreratio\": 3.05, \"stroke\": 3.03, \"compressionratio\": 9.0, \"horsepower\": 62, \"peakrpm\": 4800, \"citympg\": 27, \"highwaympg\": 32, \"price\": 7898.0, \"Brand\": \"toyota\"}, {\"car_ID\": 156, \"symboling\": 0, \"fueltype\": \"gas\", \"aspiration\": \"std\", \"doornumber\": \"four\", \"carbody\": \"wagon\", \"drivewheel\": \"4wd\", \"enginelocation\": \"front\", \"wheelbase\": 95.7, \"carlength\": 169.7, \"carwidth\": 63.6, \"carheight\": 59.1, \"curbweight\": 3110, \"enginetype\": \"ohc\", \"cylindernumber\": \"four\", \"enginesize\": 92, \"fuelsystem\": \"2bbl\", \"boreratio\": 3.05, \"stroke\": 3.03, \"compressionratio\": 9.0, \"horsepower\": 62, \"peakrpm\": 4800, \"citympg\": 27, \"highwaympg\": 32, \"price\": 8778.0, \"Brand\": \"toyota\"}, {\"car_ID\": 157, \"symboling\": 0, \"fueltype\": \"gas\", \"aspiration\": \"std\", \"doornumber\": \"four\", \"carbody\": \"sedan\", \"drivewheel\": \"fwd\", \"enginelocation\": \"front\", \"wheelbase\": 95.7, \"carlength\": 166.3, \"carwidth\": 64.4, \"carheight\": 53.0, \"curbweight\": 2081, \"enginetype\": \"ohc\", \"cylindernumber\": \"four\", \"enginesize\": 98, \"fuelsystem\": \"2bbl\", \"boreratio\": 3.19, \"stroke\": 3.03, \"compressionratio\": 9.0, \"horsepower\": 70, \"peakrpm\": 4800, \"citympg\": 30, \"highwaympg\": 37, \"price\": 6938.0, \"Brand\": \"toyota\"}, {\"car_ID\": 158, \"symboling\": 0, \"fueltype\": \"gas\", \"aspiration\": \"std\", \"doornumber\": \"four\", \"carbody\": \"hatchback\", \"drivewheel\": \"fwd\", \"enginelocation\": \"front\", \"wheelbase\": 95.7, \"carlength\": 166.3, \"carwidth\": 64.4, \"carheight\": 52.8, \"curbweight\": 2109, \"enginetype\": \"ohc\", \"cylindernumber\": \"four\", \"enginesize\": 98, \"fuelsystem\": \"2bbl\", \"boreratio\": 3.19, \"stroke\": 3.03, \"compressionratio\": 9.0, \"horsepower\": 70, \"peakrpm\": 4800, \"citympg\": 30, \"highwaympg\": 37, \"price\": 7198.0, \"Brand\": \"toyota\"}, {\"car_ID\": 159, \"symboling\": 0, \"fueltype\": \"diesel\", \"aspiration\": \"std\", \"doornumber\": \"four\", \"carbody\": \"sedan\", \"drivewheel\": \"fwd\", \"enginelocation\": \"front\", \"wheelbase\": 95.7, \"carlength\": 166.3, \"carwidth\": 64.4, \"carheight\": 53.0, \"curbweight\": 2275, \"enginetype\": \"ohc\", \"cylindernumber\": \"four\", \"enginesize\": 110, \"fuelsystem\": \"idi\", \"boreratio\": 3.27, \"stroke\": 3.35, \"compressionratio\": 22.5, \"horsepower\": 56, \"peakrpm\": 4500, \"citympg\": 34, \"highwaympg\": 36, \"price\": 7898.0, \"Brand\": \"toyota\"}, {\"car_ID\": 160, \"symboling\": 0, \"fueltype\": \"diesel\", \"aspiration\": \"std\", \"doornumber\": \"four\", \"carbody\": \"hatchback\", \"drivewheel\": \"fwd\", \"enginelocation\": \"front\", \"wheelbase\": 95.7, \"carlength\": 166.3, \"carwidth\": 64.4, \"carheight\": 52.8, \"curbweight\": 2275, \"enginetype\": \"ohc\", \"cylindernumber\": \"four\", \"enginesize\": 110, \"fuelsystem\": \"idi\", \"boreratio\": 3.27, \"stroke\": 3.35, \"compressionratio\": 22.5, \"horsepower\": 56, \"peakrpm\": 4500, \"citympg\": 38, \"highwaympg\": 47, \"price\": 7788.0, \"Brand\": \"toyota\"}, {\"car_ID\": 161, \"symboling\": 0, \"fueltype\": \"gas\", \"aspiration\": \"std\", \"doornumber\": \"four\", \"carbody\": \"sedan\", \"drivewheel\": \"fwd\", \"enginelocation\": \"front\", \"wheelbase\": 95.7, \"carlength\": 166.3, \"carwidth\": 64.4, \"carheight\": 53.0, \"curbweight\": 2094, \"enginetype\": \"ohc\", \"cylindernumber\": \"four\", \"enginesize\": 98, \"fuelsystem\": \"2bbl\", \"boreratio\": 3.19, \"stroke\": 3.03, \"compressionratio\": 9.0, \"horsepower\": 70, \"peakrpm\": 4800, \"citympg\": 38, \"highwaympg\": 47, \"price\": 7738.0, \"Brand\": \"toyota\"}, {\"car_ID\": 162, \"symboling\": 0, \"fueltype\": \"gas\", \"aspiration\": \"std\", \"doornumber\": \"four\", \"carbody\": \"hatchback\", \"drivewheel\": \"fwd\", \"enginelocation\": \"front\", \"wheelbase\": 95.7, \"carlength\": 166.3, \"carwidth\": 64.4, \"carheight\": 52.8, \"curbweight\": 2122, \"enginetype\": \"ohc\", \"cylindernumber\": \"four\", \"enginesize\": 98, \"fuelsystem\": \"2bbl\", \"boreratio\": 3.19, \"stroke\": 3.03, \"compressionratio\": 9.0, \"horsepower\": 70, \"peakrpm\": 4800, \"citympg\": 28, \"highwaympg\": 34, \"price\": 8358.0, \"Brand\": \"toyota\"}, {\"car_ID\": 163, \"symboling\": 0, \"fueltype\": \"gas\", \"aspiration\": \"std\", \"doornumber\": \"four\", \"carbody\": \"sedan\", \"drivewheel\": \"fwd\", \"enginelocation\": \"front\", \"wheelbase\": 95.7, \"carlength\": 166.3, \"carwidth\": 64.4, \"carheight\": 52.8, \"curbweight\": 2140, \"enginetype\": \"ohc\", \"cylindernumber\": \"four\", \"enginesize\": 98, \"fuelsystem\": \"2bbl\", \"boreratio\": 3.19, \"stroke\": 3.03, \"compressionratio\": 9.0, \"horsepower\": 70, \"peakrpm\": 4800, \"citympg\": 28, \"highwaympg\": 34, \"price\": 9258.0, \"Brand\": \"toyota\"}, {\"car_ID\": 164, \"symboling\": 1, \"fueltype\": \"gas\", \"aspiration\": \"std\", \"doornumber\": \"two\", \"carbody\": \"sedan\", \"drivewheel\": \"rwd\", \"enginelocation\": \"front\", \"wheelbase\": 94.5, \"carlength\": 168.7, \"carwidth\": 64.0, \"carheight\": 52.6, \"curbweight\": 2169, \"enginetype\": \"ohc\", \"cylindernumber\": \"four\", \"enginesize\": 98, \"fuelsystem\": \"2bbl\", \"boreratio\": 3.19, \"stroke\": 3.03, \"compressionratio\": 9.0, \"horsepower\": 70, \"peakrpm\": 4800, \"citympg\": 29, \"highwaympg\": 34, \"price\": 8058.0, \"Brand\": \"toyota\"}, {\"car_ID\": 165, \"symboling\": 1, \"fueltype\": \"gas\", \"aspiration\": \"std\", \"doornumber\": \"two\", \"carbody\": \"hatchback\", \"drivewheel\": \"rwd\", \"enginelocation\": \"front\", \"wheelbase\": 94.5, \"carlength\": 168.7, \"carwidth\": 64.0, \"carheight\": 52.6, \"curbweight\": 2204, \"enginetype\": \"ohc\", \"cylindernumber\": \"four\", \"enginesize\": 98, \"fuelsystem\": \"2bbl\", \"boreratio\": 3.19, \"stroke\": 3.03, \"compressionratio\": 9.0, \"horsepower\": 70, \"peakrpm\": 4800, \"citympg\": 29, \"highwaympg\": 34, \"price\": 8238.0, \"Brand\": \"toyota\"}, {\"car_ID\": 166, \"symboling\": 1, \"fueltype\": \"gas\", \"aspiration\": \"std\", \"doornumber\": \"two\", \"carbody\": \"sedan\", \"drivewheel\": \"rwd\", \"enginelocation\": \"front\", \"wheelbase\": 94.5, \"carlength\": 168.7, \"carwidth\": 64.0, \"carheight\": 52.6, \"curbweight\": 2265, \"enginetype\": \"dohc\", \"cylindernumber\": \"four\", \"enginesize\": 98, \"fuelsystem\": \"mpfi\", \"boreratio\": 3.24, \"stroke\": 3.08, \"compressionratio\": 9.4, \"horsepower\": 112, \"peakrpm\": 6600, \"citympg\": 26, \"highwaympg\": 29, \"price\": 9298.0, \"Brand\": \"toyota\"}, {\"car_ID\": 167, \"symboling\": 1, \"fueltype\": \"gas\", \"aspiration\": \"std\", \"doornumber\": \"two\", \"carbody\": \"hatchback\", \"drivewheel\": \"rwd\", \"enginelocation\": \"front\", \"wheelbase\": 94.5, \"carlength\": 168.7, \"carwidth\": 64.0, \"carheight\": 52.6, \"curbweight\": 2300, \"enginetype\": \"dohc\", \"cylindernumber\": \"four\", \"enginesize\": 98, \"fuelsystem\": \"mpfi\", \"boreratio\": 3.24, \"stroke\": 3.08, \"compressionratio\": 9.4, \"horsepower\": 112, \"peakrpm\": 6600, \"citympg\": 26, \"highwaympg\": 29, \"price\": 9538.0, \"Brand\": \"toyota\"}, {\"car_ID\": 168, \"symboling\": 2, \"fueltype\": \"gas\", \"aspiration\": \"std\", \"doornumber\": \"two\", \"carbody\": \"hardtop\", \"drivewheel\": \"rwd\", \"enginelocation\": \"front\", \"wheelbase\": 98.4, \"carlength\": 176.2, \"carwidth\": 65.6, \"carheight\": 52.0, \"curbweight\": 2540, \"enginetype\": \"ohc\", \"cylindernumber\": \"four\", \"enginesize\": 146, \"fuelsystem\": \"mpfi\", \"boreratio\": 3.62, \"stroke\": 3.5, \"compressionratio\": 9.3, \"horsepower\": 116, \"peakrpm\": 4800, \"citympg\": 24, \"highwaympg\": 30, \"price\": 8449.0, \"Brand\": \"toyota\"}, {\"car_ID\": 169, \"symboling\": 2, \"fueltype\": \"gas\", \"aspiration\": \"std\", \"doornumber\": \"two\", \"carbody\": \"hardtop\", \"drivewheel\": \"rwd\", \"enginelocation\": \"front\", \"wheelbase\": 98.4, \"carlength\": 176.2, \"carwidth\": 65.6, \"carheight\": 52.0, \"curbweight\": 2536, \"enginetype\": \"ohc\", \"cylindernumber\": \"four\", \"enginesize\": 146, \"fuelsystem\": \"mpfi\", \"boreratio\": 3.62, \"stroke\": 3.5, \"compressionratio\": 9.3, \"horsepower\": 116, \"peakrpm\": 4800, \"citympg\": 24, \"highwaympg\": 30, \"price\": 9639.0, \"Brand\": \"toyota\"}, {\"car_ID\": 170, \"symboling\": 2, \"fueltype\": \"gas\", \"aspiration\": \"std\", \"doornumber\": \"two\", \"carbody\": \"hatchback\", \"drivewheel\": \"rwd\", \"enginelocation\": \"front\", \"wheelbase\": 98.4, \"carlength\": 176.2, \"carwidth\": 65.6, \"carheight\": 52.0, \"curbweight\": 2551, \"enginetype\": \"ohc\", \"cylindernumber\": \"four\", \"enginesize\": 146, \"fuelsystem\": \"mpfi\", \"boreratio\": 3.62, \"stroke\": 3.5, \"compressionratio\": 9.3, \"horsepower\": 116, \"peakrpm\": 4800, \"citympg\": 24, \"highwaympg\": 30, \"price\": 9989.0, \"Brand\": \"toyota\"}, {\"car_ID\": 171, \"symboling\": 2, \"fueltype\": \"gas\", \"aspiration\": \"std\", \"doornumber\": \"two\", \"carbody\": \"hardtop\", \"drivewheel\": \"rwd\", \"enginelocation\": \"front\", \"wheelbase\": 98.4, \"carlength\": 176.2, \"carwidth\": 65.6, \"carheight\": 52.0, \"curbweight\": 2679, \"enginetype\": \"ohc\", \"cylindernumber\": \"four\", \"enginesize\": 146, \"fuelsystem\": \"mpfi\", \"boreratio\": 3.62, \"stroke\": 3.5, \"compressionratio\": 9.3, \"horsepower\": 116, \"peakrpm\": 4800, \"citympg\": 24, \"highwaympg\": 30, \"price\": 11199.0, \"Brand\": \"toyota\"}, {\"car_ID\": 172, \"symboling\": 2, \"fueltype\": \"gas\", \"aspiration\": \"std\", \"doornumber\": \"two\", \"carbody\": \"hatchback\", \"drivewheel\": \"rwd\", \"enginelocation\": \"front\", \"wheelbase\": 98.4, \"carlength\": 176.2, \"carwidth\": 65.6, \"carheight\": 52.0, \"curbweight\": 2714, \"enginetype\": \"ohc\", \"cylindernumber\": \"four\", \"enginesize\": 146, \"fuelsystem\": \"mpfi\", \"boreratio\": 3.62, \"stroke\": 3.5, \"compressionratio\": 9.3, \"horsepower\": 116, \"peakrpm\": 4800, \"citympg\": 24, \"highwaympg\": 30, \"price\": 11549.0, \"Brand\": \"toyota\"}, {\"car_ID\": 173, \"symboling\": 2, \"fueltype\": \"gas\", \"aspiration\": \"std\", \"doornumber\": \"two\", \"carbody\": \"convertible\", \"drivewheel\": \"rwd\", \"enginelocation\": \"front\", \"wheelbase\": 98.4, \"carlength\": 176.2, \"carwidth\": 65.6, \"carheight\": 53.0, \"curbweight\": 2975, \"enginetype\": \"ohc\", \"cylindernumber\": \"four\", \"enginesize\": 146, \"fuelsystem\": \"mpfi\", \"boreratio\": 3.62, \"stroke\": 3.5, \"compressionratio\": 9.3, \"horsepower\": 116, \"peakrpm\": 4800, \"citympg\": 24, \"highwaympg\": 30, \"price\": 17669.0, \"Brand\": \"toyota\"}, {\"car_ID\": 174, \"symboling\": -1, \"fueltype\": \"gas\", \"aspiration\": \"std\", \"doornumber\": \"four\", \"carbody\": \"sedan\", \"drivewheel\": \"fwd\", \"enginelocation\": \"front\", \"wheelbase\": 102.4, \"carlength\": 175.6, \"carwidth\": 66.5, \"carheight\": 54.9, \"curbweight\": 2326, \"enginetype\": \"ohc\", \"cylindernumber\": \"four\", \"enginesize\": 122, \"fuelsystem\": \"mpfi\", \"boreratio\": 3.31, \"stroke\": 3.54, \"compressionratio\": 8.7, \"horsepower\": 92, \"peakrpm\": 4200, \"citympg\": 29, \"highwaympg\": 34, \"price\": 8948.0, \"Brand\": \"toyota\"}, {\"car_ID\": 175, \"symboling\": -1, \"fueltype\": \"diesel\", \"aspiration\": \"turbo\", \"doornumber\": \"four\", \"carbody\": \"sedan\", \"drivewheel\": \"fwd\", \"enginelocation\": \"front\", \"wheelbase\": 102.4, \"carlength\": 175.6, \"carwidth\": 66.5, \"carheight\": 54.9, \"curbweight\": 2480, \"enginetype\": \"ohc\", \"cylindernumber\": \"four\", \"enginesize\": 110, \"fuelsystem\": \"idi\", \"boreratio\": 3.27, \"stroke\": 3.35, \"compressionratio\": 22.5, \"horsepower\": 73, \"peakrpm\": 4500, \"citympg\": 30, \"highwaympg\": 33, \"price\": 10698.0, \"Brand\": \"toyota\"}, {\"car_ID\": 176, \"symboling\": -1, \"fueltype\": \"gas\", \"aspiration\": \"std\", \"doornumber\": \"four\", \"carbody\": \"hatchback\", \"drivewheel\": \"fwd\", \"enginelocation\": \"front\", \"wheelbase\": 102.4, \"carlength\": 175.6, \"carwidth\": 66.5, \"carheight\": 53.9, \"curbweight\": 2414, \"enginetype\": \"ohc\", \"cylindernumber\": \"four\", \"enginesize\": 122, \"fuelsystem\": \"mpfi\", \"boreratio\": 3.31, \"stroke\": 3.54, \"compressionratio\": 8.7, \"horsepower\": 92, \"peakrpm\": 4200, \"citympg\": 27, \"highwaympg\": 32, \"price\": 9988.0, \"Brand\": \"toyota\"}, {\"car_ID\": 177, \"symboling\": -1, \"fueltype\": \"gas\", \"aspiration\": \"std\", \"doornumber\": \"four\", \"carbody\": \"sedan\", \"drivewheel\": \"fwd\", \"enginelocation\": \"front\", \"wheelbase\": 102.4, \"carlength\": 175.6, \"carwidth\": 66.5, \"carheight\": 54.9, \"curbweight\": 2414, \"enginetype\": \"ohc\", \"cylindernumber\": \"four\", \"enginesize\": 122, \"fuelsystem\": \"mpfi\", \"boreratio\": 3.31, \"stroke\": 3.54, \"compressionratio\": 8.7, \"horsepower\": 92, \"peakrpm\": 4200, \"citympg\": 27, \"highwaympg\": 32, \"price\": 10898.0, \"Brand\": \"toyota\"}, {\"car_ID\": 178, \"symboling\": -1, \"fueltype\": \"gas\", \"aspiration\": \"std\", \"doornumber\": \"four\", \"carbody\": \"hatchback\", \"drivewheel\": \"fwd\", \"enginelocation\": \"front\", \"wheelbase\": 102.4, \"carlength\": 175.6, \"carwidth\": 66.5, \"carheight\": 53.9, \"curbweight\": 2458, \"enginetype\": \"ohc\", \"cylindernumber\": \"four\", \"enginesize\": 122, \"fuelsystem\": \"mpfi\", \"boreratio\": 3.31, \"stroke\": 3.54, \"compressionratio\": 8.7, \"horsepower\": 92, \"peakrpm\": 4200, \"citympg\": 27, \"highwaympg\": 32, \"price\": 11248.0, \"Brand\": \"toyota\"}, {\"car_ID\": 179, \"symboling\": 3, \"fueltype\": \"gas\", \"aspiration\": \"std\", \"doornumber\": \"two\", \"carbody\": \"hatchback\", \"drivewheel\": \"rwd\", \"enginelocation\": \"front\", \"wheelbase\": 102.9, \"carlength\": 183.5, \"carwidth\": 67.7, \"carheight\": 52.0, \"curbweight\": 2976, \"enginetype\": \"dohc\", \"cylindernumber\": \"six\", \"enginesize\": 171, \"fuelsystem\": \"mpfi\", \"boreratio\": 3.27, \"stroke\": 3.35, \"compressionratio\": 9.3, \"horsepower\": 161, \"peakrpm\": 5200, \"citympg\": 20, \"highwaympg\": 24, \"price\": 16558.0, \"Brand\": \"toyota\"}, {\"car_ID\": 180, \"symboling\": 3, \"fueltype\": \"gas\", \"aspiration\": \"std\", \"doornumber\": \"two\", \"carbody\": \"hatchback\", \"drivewheel\": \"rwd\", \"enginelocation\": \"front\", \"wheelbase\": 102.9, \"carlength\": 183.5, \"carwidth\": 67.7, \"carheight\": 52.0, \"curbweight\": 3016, \"enginetype\": \"dohc\", \"cylindernumber\": \"six\", \"enginesize\": 171, \"fuelsystem\": \"mpfi\", \"boreratio\": 3.27, \"stroke\": 3.35, \"compressionratio\": 9.3, \"horsepower\": 161, \"peakrpm\": 5200, \"citympg\": 19, \"highwaympg\": 24, \"price\": 15998.0, \"Brand\": \"toyota\"}, {\"car_ID\": 181, \"symboling\": -1, \"fueltype\": \"gas\", \"aspiration\": \"std\", \"doornumber\": \"four\", \"carbody\": \"sedan\", \"drivewheel\": \"rwd\", \"enginelocation\": \"front\", \"wheelbase\": 104.5, \"carlength\": 187.8, \"carwidth\": 66.5, \"carheight\": 54.1, \"curbweight\": 3131, \"enginetype\": \"dohc\", \"cylindernumber\": \"six\", \"enginesize\": 171, \"fuelsystem\": \"mpfi\", \"boreratio\": 3.27, \"stroke\": 3.35, \"compressionratio\": 9.2, \"horsepower\": 156, \"peakrpm\": 5200, \"citympg\": 20, \"highwaympg\": 24, \"price\": 15690.0, \"Brand\": \"toyota\"}, {\"car_ID\": 182, \"symboling\": -1, \"fueltype\": \"gas\", \"aspiration\": \"std\", \"doornumber\": \"four\", \"carbody\": \"wagon\", \"drivewheel\": \"rwd\", \"enginelocation\": \"front\", \"wheelbase\": 104.5, \"carlength\": 187.8, \"carwidth\": 66.5, \"carheight\": 54.1, \"curbweight\": 3151, \"enginetype\": \"dohc\", \"cylindernumber\": \"six\", \"enginesize\": 161, \"fuelsystem\": \"mpfi\", \"boreratio\": 3.27, \"stroke\": 3.35, \"compressionratio\": 9.2, \"horsepower\": 156, \"peakrpm\": 5200, \"citympg\": 19, \"highwaympg\": 24, \"price\": 15750.0, \"Brand\": \"toyota\"}, {\"car_ID\": 183, \"symboling\": 2, \"fueltype\": \"diesel\", \"aspiration\": \"std\", \"doornumber\": \"two\", \"carbody\": \"sedan\", \"drivewheel\": \"fwd\", \"enginelocation\": \"front\", \"wheelbase\": 97.3, \"carlength\": 171.7, \"carwidth\": 65.5, \"carheight\": 55.7, \"curbweight\": 2261, \"enginetype\": \"ohc\", \"cylindernumber\": \"four\", \"enginesize\": 97, \"fuelsystem\": \"idi\", \"boreratio\": 3.01, \"stroke\": 3.4, \"compressionratio\": 23.0, \"horsepower\": 52, \"peakrpm\": 4800, \"citympg\": 37, \"highwaympg\": 46, \"price\": 7775.0, \"Brand\": \"vw\"}, {\"car_ID\": 184, \"symboling\": 2, \"fueltype\": \"gas\", \"aspiration\": \"std\", \"doornumber\": \"two\", \"carbody\": \"sedan\", \"drivewheel\": \"fwd\", \"enginelocation\": \"front\", \"wheelbase\": 97.3, \"carlength\": 171.7, \"carwidth\": 65.5, \"carheight\": 55.7, \"curbweight\": 2209, \"enginetype\": \"ohc\", \"cylindernumber\": \"four\", \"enginesize\": 109, \"fuelsystem\": \"mpfi\", \"boreratio\": 3.19, \"stroke\": 3.4, \"compressionratio\": 9.0, \"horsepower\": 85, \"peakrpm\": 5250, \"citympg\": 27, \"highwaympg\": 34, \"price\": 7975.0, \"Brand\": \"vw\"}, {\"car_ID\": 185, \"symboling\": 2, \"fueltype\": \"diesel\", \"aspiration\": \"std\", \"doornumber\": \"four\", \"carbody\": \"sedan\", \"drivewheel\": \"fwd\", \"enginelocation\": \"front\", \"wheelbase\": 97.3, \"carlength\": 171.7, \"carwidth\": 65.5, \"carheight\": 55.7, \"curbweight\": 2264, \"enginetype\": \"ohc\", \"cylindernumber\": \"four\", \"enginesize\": 97, \"fuelsystem\": \"idi\", \"boreratio\": 3.01, \"stroke\": 3.4, \"compressionratio\": 23.0, \"horsepower\": 52, \"peakrpm\": 4800, \"citympg\": 37, \"highwaympg\": 46, \"price\": 7995.0, \"Brand\": \"vw\"}, {\"car_ID\": 186, \"symboling\": 2, \"fueltype\": \"gas\", \"aspiration\": \"std\", \"doornumber\": \"four\", \"carbody\": \"sedan\", \"drivewheel\": \"fwd\", \"enginelocation\": \"front\", \"wheelbase\": 97.3, \"carlength\": 171.7, \"carwidth\": 65.5, \"carheight\": 55.7, \"curbweight\": 2212, \"enginetype\": \"ohc\", \"cylindernumber\": \"four\", \"enginesize\": 109, \"fuelsystem\": \"mpfi\", \"boreratio\": 3.19, \"stroke\": 3.4, \"compressionratio\": 9.0, \"horsepower\": 85, \"peakrpm\": 5250, \"citympg\": 27, \"highwaympg\": 34, \"price\": 8195.0, \"Brand\": \"vw\"}, {\"car_ID\": 187, \"symboling\": 2, \"fueltype\": \"gas\", \"aspiration\": \"std\", \"doornumber\": \"four\", \"carbody\": \"sedan\", \"drivewheel\": \"fwd\", \"enginelocation\": \"front\", \"wheelbase\": 97.3, \"carlength\": 171.7, \"carwidth\": 65.5, \"carheight\": 55.7, \"curbweight\": 2275, \"enginetype\": \"ohc\", \"cylindernumber\": \"four\", \"enginesize\": 109, \"fuelsystem\": \"mpfi\", \"boreratio\": 3.19, \"stroke\": 3.4, \"compressionratio\": 9.0, \"horsepower\": 85, \"peakrpm\": 5250, \"citympg\": 27, \"highwaympg\": 34, \"price\": 8495.0, \"Brand\": \"vw\"}, {\"car_ID\": 188, \"symboling\": 2, \"fueltype\": \"diesel\", \"aspiration\": \"turbo\", \"doornumber\": \"four\", \"carbody\": \"sedan\", \"drivewheel\": \"fwd\", \"enginelocation\": \"front\", \"wheelbase\": 97.3, \"carlength\": 171.7, \"carwidth\": 65.5, \"carheight\": 55.7, \"curbweight\": 2319, \"enginetype\": \"ohc\", \"cylindernumber\": \"four\", \"enginesize\": 97, \"fuelsystem\": \"idi\", \"boreratio\": 3.01, \"stroke\": 3.4, \"compressionratio\": 23.0, \"horsepower\": 68, \"peakrpm\": 4500, \"citympg\": 37, \"highwaympg\": 42, \"price\": 9495.0, \"Brand\": \"vw\"}, {\"car_ID\": 189, \"symboling\": 2, \"fueltype\": \"gas\", \"aspiration\": \"std\", \"doornumber\": \"four\", \"carbody\": \"sedan\", \"drivewheel\": \"fwd\", \"enginelocation\": \"front\", \"wheelbase\": 97.3, \"carlength\": 171.7, \"carwidth\": 65.5, \"carheight\": 55.7, \"curbweight\": 2300, \"enginetype\": \"ohc\", \"cylindernumber\": \"four\", \"enginesize\": 109, \"fuelsystem\": \"mpfi\", \"boreratio\": 3.19, \"stroke\": 3.4, \"compressionratio\": 10.0, \"horsepower\": 100, \"peakrpm\": 5500, \"citympg\": 26, \"highwaympg\": 32, \"price\": 9995.0, \"Brand\": \"vw\"}, {\"car_ID\": 190, \"symboling\": 3, \"fueltype\": \"gas\", \"aspiration\": \"std\", \"doornumber\": \"two\", \"carbody\": \"convertible\", \"drivewheel\": \"fwd\", \"enginelocation\": \"front\", \"wheelbase\": 94.5, \"carlength\": 159.3, \"carwidth\": 64.2, \"carheight\": 55.6, \"curbweight\": 2254, \"enginetype\": \"ohc\", \"cylindernumber\": \"four\", \"enginesize\": 109, \"fuelsystem\": \"mpfi\", \"boreratio\": 3.19, \"stroke\": 3.4, \"compressionratio\": 8.5, \"horsepower\": 90, \"peakrpm\": 5500, \"citympg\": 24, \"highwaympg\": 29, \"price\": 11595.0, \"Brand\": \"vw\"}, {\"car_ID\": 191, \"symboling\": 3, \"fueltype\": \"gas\", \"aspiration\": \"std\", \"doornumber\": \"two\", \"carbody\": \"hatchback\", \"drivewheel\": \"fwd\", \"enginelocation\": \"front\", \"wheelbase\": 94.5, \"carlength\": 165.7, \"carwidth\": 64.0, \"carheight\": 51.4, \"curbweight\": 2221, \"enginetype\": \"ohc\", \"cylindernumber\": \"four\", \"enginesize\": 109, \"fuelsystem\": \"mpfi\", \"boreratio\": 3.19, \"stroke\": 3.4, \"compressionratio\": 8.5, \"horsepower\": 90, \"peakrpm\": 5500, \"citympg\": 24, \"highwaympg\": 29, \"price\": 9980.0, \"Brand\": \"vw\"}, {\"car_ID\": 192, \"symboling\": 0, \"fueltype\": \"gas\", \"aspiration\": \"std\", \"doornumber\": \"four\", \"carbody\": \"sedan\", \"drivewheel\": \"fwd\", \"enginelocation\": \"front\", \"wheelbase\": 100.4, \"carlength\": 180.2, \"carwidth\": 66.9, \"carheight\": 55.1, \"curbweight\": 2661, \"enginetype\": \"ohc\", \"cylindernumber\": \"five\", \"enginesize\": 136, \"fuelsystem\": \"mpfi\", \"boreratio\": 3.19, \"stroke\": 3.4, \"compressionratio\": 8.5, \"horsepower\": 110, \"peakrpm\": 5500, \"citympg\": 19, \"highwaympg\": 24, \"price\": 13295.0, \"Brand\": \"vw\"}, {\"car_ID\": 193, \"symboling\": 0, \"fueltype\": \"diesel\", \"aspiration\": \"turbo\", \"doornumber\": \"four\", \"carbody\": \"sedan\", \"drivewheel\": \"fwd\", \"enginelocation\": \"front\", \"wheelbase\": 100.4, \"carlength\": 180.2, \"carwidth\": 66.9, \"carheight\": 55.1, \"curbweight\": 2579, \"enginetype\": \"ohc\", \"cylindernumber\": \"four\", \"enginesize\": 97, \"fuelsystem\": \"idi\", \"boreratio\": 3.01, \"stroke\": 3.4, \"compressionratio\": 23.0, \"horsepower\": 68, \"peakrpm\": 4500, \"citympg\": 33, \"highwaympg\": 38, \"price\": 13845.0, \"Brand\": \"vw\"}, {\"car_ID\": 194, \"symboling\": 0, \"fueltype\": \"gas\", \"aspiration\": \"std\", \"doornumber\": \"four\", \"carbody\": \"wagon\", \"drivewheel\": \"fwd\", \"enginelocation\": \"front\", \"wheelbase\": 100.4, \"carlength\": 183.1, \"carwidth\": 66.9, \"carheight\": 55.1, \"curbweight\": 2563, \"enginetype\": \"ohc\", \"cylindernumber\": \"four\", \"enginesize\": 109, \"fuelsystem\": \"mpfi\", \"boreratio\": 3.19, \"stroke\": 3.4, \"compressionratio\": 9.0, \"horsepower\": 88, \"peakrpm\": 5500, \"citympg\": 25, \"highwaympg\": 31, \"price\": 12290.0, \"Brand\": \"vw\"}, {\"car_ID\": 195, \"symboling\": -2, \"fueltype\": \"gas\", \"aspiration\": \"std\", \"doornumber\": \"four\", \"carbody\": \"sedan\", \"drivewheel\": \"rwd\", \"enginelocation\": \"front\", \"wheelbase\": 104.3, \"carlength\": 188.8, \"carwidth\": 67.2, \"carheight\": 56.2, \"curbweight\": 2912, \"enginetype\": \"ohc\", \"cylindernumber\": \"four\", \"enginesize\": 141, \"fuelsystem\": \"mpfi\", \"boreratio\": 3.78, \"stroke\": 3.15, \"compressionratio\": 9.5, \"horsepower\": 114, \"peakrpm\": 5400, \"citympg\": 23, \"highwaympg\": 28, \"price\": 12940.0, \"Brand\": \"volvo\"}, {\"car_ID\": 196, \"symboling\": -1, \"fueltype\": \"gas\", \"aspiration\": \"std\", \"doornumber\": \"four\", \"carbody\": \"wagon\", \"drivewheel\": \"rwd\", \"enginelocation\": \"front\", \"wheelbase\": 104.3, \"carlength\": 188.8, \"carwidth\": 67.2, \"carheight\": 57.5, \"curbweight\": 3034, \"enginetype\": \"ohc\", \"cylindernumber\": \"four\", \"enginesize\": 141, \"fuelsystem\": \"mpfi\", \"boreratio\": 3.78, \"stroke\": 3.15, \"compressionratio\": 9.5, \"horsepower\": 114, \"peakrpm\": 5400, \"citympg\": 23, \"highwaympg\": 28, \"price\": 13415.0, \"Brand\": \"volvo\"}, {\"car_ID\": 197, \"symboling\": -2, \"fueltype\": \"gas\", \"aspiration\": \"std\", \"doornumber\": \"four\", \"carbody\": \"sedan\", \"drivewheel\": \"rwd\", \"enginelocation\": \"front\", \"wheelbase\": 104.3, \"carlength\": 188.8, \"carwidth\": 67.2, \"carheight\": 56.2, \"curbweight\": 2935, \"enginetype\": \"ohc\", \"cylindernumber\": \"four\", \"enginesize\": 141, \"fuelsystem\": \"mpfi\", \"boreratio\": 3.78, \"stroke\": 3.15, \"compressionratio\": 9.5, \"horsepower\": 114, \"peakrpm\": 5400, \"citympg\": 24, \"highwaympg\": 28, \"price\": 15985.0, \"Brand\": \"volvo\"}, {\"car_ID\": 198, \"symboling\": -1, \"fueltype\": \"gas\", \"aspiration\": \"std\", \"doornumber\": \"four\", \"carbody\": \"wagon\", \"drivewheel\": \"rwd\", \"enginelocation\": \"front\", \"wheelbase\": 104.3, \"carlength\": 188.8, \"carwidth\": 67.2, \"carheight\": 57.5, \"curbweight\": 3042, \"enginetype\": \"ohc\", \"cylindernumber\": \"four\", \"enginesize\": 141, \"fuelsystem\": \"mpfi\", \"boreratio\": 3.78, \"stroke\": 3.15, \"compressionratio\": 9.5, \"horsepower\": 114, \"peakrpm\": 5400, \"citympg\": 24, \"highwaympg\": 28, \"price\": 16515.0, \"Brand\": \"volvo\"}, {\"car_ID\": 199, \"symboling\": -2, \"fueltype\": \"gas\", \"aspiration\": \"turbo\", \"doornumber\": \"four\", \"carbody\": \"sedan\", \"drivewheel\": \"rwd\", \"enginelocation\": \"front\", \"wheelbase\": 104.3, \"carlength\": 188.8, \"carwidth\": 67.2, \"carheight\": 56.2, \"curbweight\": 3045, \"enginetype\": \"ohc\", \"cylindernumber\": \"four\", \"enginesize\": 130, \"fuelsystem\": \"mpfi\", \"boreratio\": 3.62, \"stroke\": 3.15, \"compressionratio\": 7.5, \"horsepower\": 162, \"peakrpm\": 5100, \"citympg\": 17, \"highwaympg\": 22, \"price\": 18420.0, \"Brand\": \"volvo\"}, {\"car_ID\": 200, \"symboling\": -1, \"fueltype\": \"gas\", \"aspiration\": \"turbo\", \"doornumber\": \"four\", \"carbody\": \"wagon\", \"drivewheel\": \"rwd\", \"enginelocation\": \"front\", \"wheelbase\": 104.3, \"carlength\": 188.8, \"carwidth\": 67.2, \"carheight\": 57.5, \"curbweight\": 3157, \"enginetype\": \"ohc\", \"cylindernumber\": \"four\", \"enginesize\": 130, \"fuelsystem\": \"mpfi\", \"boreratio\": 3.62, \"stroke\": 3.15, \"compressionratio\": 7.5, \"horsepower\": 162, \"peakrpm\": 5100, \"citympg\": 17, \"highwaympg\": 22, \"price\": 18950.0, \"Brand\": \"volvo\"}, {\"car_ID\": 201, \"symboling\": -1, \"fueltype\": \"gas\", \"aspiration\": \"std\", \"doornumber\": \"four\", \"carbody\": \"sedan\", \"drivewheel\": \"rwd\", \"enginelocation\": \"front\", \"wheelbase\": 109.1, \"carlength\": 188.8, \"carwidth\": 68.9, \"carheight\": 55.5, \"curbweight\": 2952, \"enginetype\": \"ohc\", \"cylindernumber\": \"four\", \"enginesize\": 141, \"fuelsystem\": \"mpfi\", \"boreratio\": 3.78, \"stroke\": 3.15, \"compressionratio\": 9.5, \"horsepower\": 114, \"peakrpm\": 5400, \"citympg\": 23, \"highwaympg\": 28, \"price\": 16845.0, \"Brand\": \"volvo\"}, {\"car_ID\": 202, \"symboling\": -1, \"fueltype\": \"gas\", \"aspiration\": \"turbo\", \"doornumber\": \"four\", \"carbody\": \"sedan\", \"drivewheel\": \"rwd\", \"enginelocation\": \"front\", \"wheelbase\": 109.1, \"carlength\": 188.8, \"carwidth\": 68.8, \"carheight\": 55.5, \"curbweight\": 3049, \"enginetype\": \"ohc\", \"cylindernumber\": \"four\", \"enginesize\": 141, \"fuelsystem\": \"mpfi\", \"boreratio\": 3.78, \"stroke\": 3.15, \"compressionratio\": 8.7, \"horsepower\": 160, \"peakrpm\": 5300, \"citympg\": 19, \"highwaympg\": 25, \"price\": 19045.0, \"Brand\": \"volvo\"}, {\"car_ID\": 203, \"symboling\": -1, \"fueltype\": \"gas\", \"aspiration\": \"std\", \"doornumber\": \"four\", \"carbody\": \"sedan\", \"drivewheel\": \"rwd\", \"enginelocation\": \"front\", \"wheelbase\": 109.1, \"carlength\": 188.8, \"carwidth\": 68.9, \"carheight\": 55.5, \"curbweight\": 3012, \"enginetype\": \"ohcv\", \"cylindernumber\": \"six\", \"enginesize\": 173, \"fuelsystem\": \"mpfi\", \"boreratio\": 3.58, \"stroke\": 2.87, \"compressionratio\": 8.8, \"horsepower\": 134, \"peakrpm\": 5500, \"citympg\": 18, \"highwaympg\": 23, \"price\": 21485.0, \"Brand\": \"volvo\"}, {\"car_ID\": 204, \"symboling\": -1, \"fueltype\": \"diesel\", \"aspiration\": \"turbo\", \"doornumber\": \"four\", \"carbody\": \"sedan\", \"drivewheel\": \"rwd\", \"enginelocation\": \"front\", \"wheelbase\": 109.1, \"carlength\": 188.8, \"carwidth\": 68.9, \"carheight\": 55.5, \"curbweight\": 3217, \"enginetype\": \"ohc\", \"cylindernumber\": \"six\", \"enginesize\": 145, \"fuelsystem\": \"idi\", \"boreratio\": 3.01, \"stroke\": 3.4, \"compressionratio\": 23.0, \"horsepower\": 106, \"peakrpm\": 4800, \"citympg\": 26, \"highwaympg\": 27, \"price\": 22470.0, \"Brand\": \"volvo\"}, {\"car_ID\": 205, \"symboling\": -1, \"fueltype\": \"gas\", \"aspiration\": \"turbo\", \"doornumber\": \"four\", \"carbody\": \"sedan\", \"drivewheel\": \"rwd\", \"enginelocation\": \"front\", \"wheelbase\": 109.1, \"carlength\": 188.8, \"carwidth\": 68.9, \"carheight\": 55.5, \"curbweight\": 3062, \"enginetype\": \"ohc\", \"cylindernumber\": \"four\", \"enginesize\": 141, \"fuelsystem\": \"mpfi\", \"boreratio\": 3.78, \"stroke\": 3.15, \"compressionratio\": 9.5, \"horsepower\": 114, \"peakrpm\": 5400, \"citympg\": 19, \"highwaympg\": 25, \"price\": 22625.0, \"Brand\": \"volvo\"}]}}, {\"mode\": \"vega-lite\"});\n",
       "</script>"
      ],
      "text/plain": [
       "alt.Chart(...)"
      ]
     },
     "execution_count": 9,
     "metadata": {},
     "output_type": "execute_result"
    }
   ],
   "source": [
    "c = alt.Chart(df).mark_bar().encode(\n",
    "    x = \"Brand\",\n",
    "    y = \"count()\",\n",
    "    color=\"Brand\"\n",
    ").properties(title=\"Sales of Each Brand\"\n",
    ")\n",
    "c"
   ]
  },
  {
   "cell_type": "markdown",
   "metadata": {
    "cell_id": "c5dee26559824e8c97bf66b05034e5e5",
    "deepnote_cell_type": "text-cell-p",
    "formattedRanges": [
     {
      "fromCodePoint": 46,
      "marks": {
       "underline": true
      },
      "toCodePoint": 52,
      "type": "marks"
     }
    ],
    "is_collapsed": false,
    "tags": []
   },
   "source": [
    "According to the above chart, we can see that Toyota has the highest sales volume."
   ]
  },
  {
   "cell_type": "code",
   "execution_count": 10,
   "metadata": {
    "cell_id": "0beeff613556455fa6340e76785ea643",
    "deepnote_cell_type": "code",
    "deepnote_to_be_reexecuted": false,
    "execution_millis": 8,
    "execution_start": 1670310945449,
    "source_hash": "df836c99",
    "tags": []
   },
   "outputs": [
    {
     "data": {
      "text/plain": [
       "Brand\n",
       "alfa-romeo    15498.333333\n",
       "audi          17859.166714\n",
       "bmw           26118.750000\n",
       "buick         33647.000000\n",
       "chevrolet      6007.000000\n",
       "dodge          7875.444444\n",
       "honda          8184.692308\n",
       "isuzu          8916.500000\n",
       "jaguar        34600.000000\n",
       "mazda         10652.882353\n",
       "mercury       16503.000000\n",
       "mitsubishi     9239.769231\n",
       "nissan        10415.666667\n",
       "peugeot       15489.090909\n",
       "plymouth       7963.428571\n",
       "porcshce      32528.000000\n",
       "porsche       31118.625000\n",
       "renault        9595.000000\n",
       "saab          15223.333333\n",
       "subaru         8541.250000\n",
       "toyota         9885.812500\n",
       "volvo         18063.181818\n",
       "vw            10077.500000\n",
       "Name: price, dtype: float64"
      ]
     },
     "execution_count": 10,
     "metadata": {},
     "output_type": "execute_result"
    }
   ],
   "source": [
    "avg=df.groupby(\"Brand\")[\"price\"].mean()\n",
    "avg"
   ]
  },
  {
   "cell_type": "code",
   "execution_count": 11,
   "metadata": {
    "cell_id": "d19668b815a042739776dc1a337c1a7d",
    "deepnote_cell_type": "code",
    "deepnote_to_be_reexecuted": false,
    "execution_millis": 1075,
    "execution_start": 1670310945458,
    "source_hash": "321befc5",
    "tags": []
   },
   "outputs": [
    {
     "data": {
      "text/html": [
       "<html>\n",
       "<head><meta charset=\"utf-8\" /></head>\n",
       "<body>\n",
       "    <div>            <script src=\"https://cdnjs.cloudflare.com/ajax/libs/mathjax/2.7.5/MathJax.js?config=TeX-AMS-MML_SVG\"></script><script type=\"text/javascript\">if (window.MathJax && window.MathJax.Hub && window.MathJax.Hub.Config) {window.MathJax.Hub.Config({SVG: {font: \"STIX-Web\"}});}</script>                <script type=\"text/javascript\">window.PlotlyConfig = {MathJaxConfig: 'local'};</script>\n",
       "        <script src=\"https://cdn.plot.ly/plotly-2.14.0.min.js\"></script>                <div id=\"eade4fc8-780f-44cc-9b21-dcc9791831b3\" class=\"plotly-graph-div\" style=\"height:525px; width:100%;\"></div>            <script type=\"text/javascript\">                                    window.PLOTLYENV=window.PLOTLYENV || {};                                    if (document.getElementById(\"eade4fc8-780f-44cc-9b21-dcc9791831b3\")) {                    Plotly.newPlot(                        \"eade4fc8-780f-44cc-9b21-dcc9791831b3\",                        [{\"alignmentgroup\":\"True\",\"hovertemplate\":\"x=%{x}<br>y=%{y}<extra></extra>\",\"legendgroup\":\"\",\"marker\":{\"color\":\"#636efa\",\"pattern\":{\"shape\":\"\"}},\"name\":\"\",\"offsetgroup\":\"\",\"orientation\":\"v\",\"showlegend\":false,\"textposition\":\"auto\",\"x\":[\"alfa-romeo\",\"audi\",\"bmw\",\"buick\",\"chevrolet\",\"dodge\",\"honda\",\"isuzu\",\"jaguar\",\"mazda\",\"mercury\",\"mitsubishi\",\"nissan\",\"peugeot\",\"plymouth\",\"porcshce\",\"porsche\",\"renault\",\"saab\",\"subaru\",\"toyota\",\"volvo\",\"vw\"],\"xaxis\":\"x\",\"y\":[15498.333333333334,17859.166714285715,26118.75,33647.0,6007.0,7875.444444444444,8184.692307692308,8916.5,34600.0,10652.882352941177,16503.0,9239.76923076923,10415.666666666666,15489.09090909091,7963.428571428572,32528.0,31118.625,9595.0,15223.333333333334,8541.25,9885.8125,18063.18181818182,10077.5],\"yaxis\":\"y\",\"type\":\"bar\"}],                        {\"template\":{\"data\":{\"histogram2dcontour\":[{\"type\":\"histogram2dcontour\",\"colorbar\":{\"outlinewidth\":0,\"ticks\":\"\"},\"colorscale\":[[0.0,\"#0d0887\"],[0.1111111111111111,\"#46039f\"],[0.2222222222222222,\"#7201a8\"],[0.3333333333333333,\"#9c179e\"],[0.4444444444444444,\"#bd3786\"],[0.5555555555555556,\"#d8576b\"],[0.6666666666666666,\"#ed7953\"],[0.7777777777777778,\"#fb9f3a\"],[0.8888888888888888,\"#fdca26\"],[1.0,\"#f0f921\"]]}],\"choropleth\":[{\"type\":\"choropleth\",\"colorbar\":{\"outlinewidth\":0,\"ticks\":\"\"}}],\"histogram2d\":[{\"type\":\"histogram2d\",\"colorbar\":{\"outlinewidth\":0,\"ticks\":\"\"},\"colorscale\":[[0.0,\"#0d0887\"],[0.1111111111111111,\"#46039f\"],[0.2222222222222222,\"#7201a8\"],[0.3333333333333333,\"#9c179e\"],[0.4444444444444444,\"#bd3786\"],[0.5555555555555556,\"#d8576b\"],[0.6666666666666666,\"#ed7953\"],[0.7777777777777778,\"#fb9f3a\"],[0.8888888888888888,\"#fdca26\"],[1.0,\"#f0f921\"]]}],\"heatmap\":[{\"type\":\"heatmap\",\"colorbar\":{\"outlinewidth\":0,\"ticks\":\"\"},\"colorscale\":[[0.0,\"#0d0887\"],[0.1111111111111111,\"#46039f\"],[0.2222222222222222,\"#7201a8\"],[0.3333333333333333,\"#9c179e\"],[0.4444444444444444,\"#bd3786\"],[0.5555555555555556,\"#d8576b\"],[0.6666666666666666,\"#ed7953\"],[0.7777777777777778,\"#fb9f3a\"],[0.8888888888888888,\"#fdca26\"],[1.0,\"#f0f921\"]]}],\"heatmapgl\":[{\"type\":\"heatmapgl\",\"colorbar\":{\"outlinewidth\":0,\"ticks\":\"\"},\"colorscale\":[[0.0,\"#0d0887\"],[0.1111111111111111,\"#46039f\"],[0.2222222222222222,\"#7201a8\"],[0.3333333333333333,\"#9c179e\"],[0.4444444444444444,\"#bd3786\"],[0.5555555555555556,\"#d8576b\"],[0.6666666666666666,\"#ed7953\"],[0.7777777777777778,\"#fb9f3a\"],[0.8888888888888888,\"#fdca26\"],[1.0,\"#f0f921\"]]}],\"contourcarpet\":[{\"type\":\"contourcarpet\",\"colorbar\":{\"outlinewidth\":0,\"ticks\":\"\"}}],\"contour\":[{\"type\":\"contour\",\"colorbar\":{\"outlinewidth\":0,\"ticks\":\"\"},\"colorscale\":[[0.0,\"#0d0887\"],[0.1111111111111111,\"#46039f\"],[0.2222222222222222,\"#7201a8\"],[0.3333333333333333,\"#9c179e\"],[0.4444444444444444,\"#bd3786\"],[0.5555555555555556,\"#d8576b\"],[0.6666666666666666,\"#ed7953\"],[0.7777777777777778,\"#fb9f3a\"],[0.8888888888888888,\"#fdca26\"],[1.0,\"#f0f921\"]]}],\"surface\":[{\"type\":\"surface\",\"colorbar\":{\"outlinewidth\":0,\"ticks\":\"\"},\"colorscale\":[[0.0,\"#0d0887\"],[0.1111111111111111,\"#46039f\"],[0.2222222222222222,\"#7201a8\"],[0.3333333333333333,\"#9c179e\"],[0.4444444444444444,\"#bd3786\"],[0.5555555555555556,\"#d8576b\"],[0.6666666666666666,\"#ed7953\"],[0.7777777777777778,\"#fb9f3a\"],[0.8888888888888888,\"#fdca26\"],[1.0,\"#f0f921\"]]}],\"mesh3d\":[{\"type\":\"mesh3d\",\"colorbar\":{\"outlinewidth\":0,\"ticks\":\"\"}}],\"scatter\":[{\"fillpattern\":{\"fillmode\":\"overlay\",\"size\":10,\"solidity\":0.2},\"type\":\"scatter\"}],\"parcoords\":[{\"type\":\"parcoords\",\"line\":{\"colorbar\":{\"outlinewidth\":0,\"ticks\":\"\"}}}],\"scatterpolargl\":[{\"type\":\"scatterpolargl\",\"marker\":{\"colorbar\":{\"outlinewidth\":0,\"ticks\":\"\"}}}],\"bar\":[{\"error_x\":{\"color\":\"#2a3f5f\"},\"error_y\":{\"color\":\"#2a3f5f\"},\"marker\":{\"line\":{\"color\":\"#E5ECF6\",\"width\":0.5},\"pattern\":{\"fillmode\":\"overlay\",\"size\":10,\"solidity\":0.2}},\"type\":\"bar\"}],\"scattergeo\":[{\"type\":\"scattergeo\",\"marker\":{\"colorbar\":{\"outlinewidth\":0,\"ticks\":\"\"}}}],\"scatterpolar\":[{\"type\":\"scatterpolar\",\"marker\":{\"colorbar\":{\"outlinewidth\":0,\"ticks\":\"\"}}}],\"histogram\":[{\"marker\":{\"pattern\":{\"fillmode\":\"overlay\",\"size\":10,\"solidity\":0.2}},\"type\":\"histogram\"}],\"scattergl\":[{\"type\":\"scattergl\",\"marker\":{\"colorbar\":{\"outlinewidth\":0,\"ticks\":\"\"}}}],\"scatter3d\":[{\"type\":\"scatter3d\",\"line\":{\"colorbar\":{\"outlinewidth\":0,\"ticks\":\"\"}},\"marker\":{\"colorbar\":{\"outlinewidth\":0,\"ticks\":\"\"}}}],\"scattermapbox\":[{\"type\":\"scattermapbox\",\"marker\":{\"colorbar\":{\"outlinewidth\":0,\"ticks\":\"\"}}}],\"scatterternary\":[{\"type\":\"scatterternary\",\"marker\":{\"colorbar\":{\"outlinewidth\":0,\"ticks\":\"\"}}}],\"scattercarpet\":[{\"type\":\"scattercarpet\",\"marker\":{\"colorbar\":{\"outlinewidth\":0,\"ticks\":\"\"}}}],\"carpet\":[{\"aaxis\":{\"endlinecolor\":\"#2a3f5f\",\"gridcolor\":\"white\",\"linecolor\":\"white\",\"minorgridcolor\":\"white\",\"startlinecolor\":\"#2a3f5f\"},\"baxis\":{\"endlinecolor\":\"#2a3f5f\",\"gridcolor\":\"white\",\"linecolor\":\"white\",\"minorgridcolor\":\"white\",\"startlinecolor\":\"#2a3f5f\"},\"type\":\"carpet\"}],\"table\":[{\"cells\":{\"fill\":{\"color\":\"#EBF0F8\"},\"line\":{\"color\":\"white\"}},\"header\":{\"fill\":{\"color\":\"#C8D4E3\"},\"line\":{\"color\":\"white\"}},\"type\":\"table\"}],\"barpolar\":[{\"marker\":{\"line\":{\"color\":\"#E5ECF6\",\"width\":0.5},\"pattern\":{\"fillmode\":\"overlay\",\"size\":10,\"solidity\":0.2}},\"type\":\"barpolar\"}],\"pie\":[{\"automargin\":true,\"type\":\"pie\"}]},\"layout\":{\"autotypenumbers\":\"strict\",\"colorway\":[\"#636efa\",\"#EF553B\",\"#00cc96\",\"#ab63fa\",\"#FFA15A\",\"#19d3f3\",\"#FF6692\",\"#B6E880\",\"#FF97FF\",\"#FECB52\"],\"font\":{\"color\":\"#2a3f5f\"},\"hovermode\":\"closest\",\"hoverlabel\":{\"align\":\"left\"},\"paper_bgcolor\":\"white\",\"plot_bgcolor\":\"#E5ECF6\",\"polar\":{\"bgcolor\":\"#E5ECF6\",\"angularaxis\":{\"gridcolor\":\"white\",\"linecolor\":\"white\",\"ticks\":\"\"},\"radialaxis\":{\"gridcolor\":\"white\",\"linecolor\":\"white\",\"ticks\":\"\"}},\"ternary\":{\"bgcolor\":\"#E5ECF6\",\"aaxis\":{\"gridcolor\":\"white\",\"linecolor\":\"white\",\"ticks\":\"\"},\"baxis\":{\"gridcolor\":\"white\",\"linecolor\":\"white\",\"ticks\":\"\"},\"caxis\":{\"gridcolor\":\"white\",\"linecolor\":\"white\",\"ticks\":\"\"}},\"coloraxis\":{\"colorbar\":{\"outlinewidth\":0,\"ticks\":\"\"}},\"colorscale\":{\"sequential\":[[0.0,\"#0d0887\"],[0.1111111111111111,\"#46039f\"],[0.2222222222222222,\"#7201a8\"],[0.3333333333333333,\"#9c179e\"],[0.4444444444444444,\"#bd3786\"],[0.5555555555555556,\"#d8576b\"],[0.6666666666666666,\"#ed7953\"],[0.7777777777777778,\"#fb9f3a\"],[0.8888888888888888,\"#fdca26\"],[1.0,\"#f0f921\"]],\"sequentialminus\":[[0.0,\"#0d0887\"],[0.1111111111111111,\"#46039f\"],[0.2222222222222222,\"#7201a8\"],[0.3333333333333333,\"#9c179e\"],[0.4444444444444444,\"#bd3786\"],[0.5555555555555556,\"#d8576b\"],[0.6666666666666666,\"#ed7953\"],[0.7777777777777778,\"#fb9f3a\"],[0.8888888888888888,\"#fdca26\"],[1.0,\"#f0f921\"]],\"diverging\":[[0,\"#8e0152\"],[0.1,\"#c51b7d\"],[0.2,\"#de77ae\"],[0.3,\"#f1b6da\"],[0.4,\"#fde0ef\"],[0.5,\"#f7f7f7\"],[0.6,\"#e6f5d0\"],[0.7,\"#b8e186\"],[0.8,\"#7fbc41\"],[0.9,\"#4d9221\"],[1,\"#276419\"]]},\"xaxis\":{\"gridcolor\":\"white\",\"linecolor\":\"white\",\"ticks\":\"\",\"title\":{\"standoff\":15},\"zerolinecolor\":\"white\",\"automargin\":true,\"zerolinewidth\":2},\"yaxis\":{\"gridcolor\":\"white\",\"linecolor\":\"white\",\"ticks\":\"\",\"title\":{\"standoff\":15},\"zerolinecolor\":\"white\",\"automargin\":true,\"zerolinewidth\":2},\"scene\":{\"xaxis\":{\"backgroundcolor\":\"#E5ECF6\",\"gridcolor\":\"white\",\"linecolor\":\"white\",\"showbackground\":true,\"ticks\":\"\",\"zerolinecolor\":\"white\",\"gridwidth\":2},\"yaxis\":{\"backgroundcolor\":\"#E5ECF6\",\"gridcolor\":\"white\",\"linecolor\":\"white\",\"showbackground\":true,\"ticks\":\"\",\"zerolinecolor\":\"white\",\"gridwidth\":2},\"zaxis\":{\"backgroundcolor\":\"#E5ECF6\",\"gridcolor\":\"white\",\"linecolor\":\"white\",\"showbackground\":true,\"ticks\":\"\",\"zerolinecolor\":\"white\",\"gridwidth\":2}},\"shapedefaults\":{\"line\":{\"color\":\"#2a3f5f\"}},\"annotationdefaults\":{\"arrowcolor\":\"#2a3f5f\",\"arrowhead\":0,\"arrowwidth\":1},\"geo\":{\"bgcolor\":\"white\",\"landcolor\":\"#E5ECF6\",\"subunitcolor\":\"white\",\"showland\":true,\"showlakes\":true,\"lakecolor\":\"white\"},\"title\":{\"x\":0.05},\"mapbox\":{\"style\":\"light\"}}},\"xaxis\":{\"anchor\":\"y\",\"domain\":[0.0,1.0],\"title\":{\"text\":\"x\"}},\"yaxis\":{\"anchor\":\"x\",\"domain\":[0.0,1.0],\"title\":{\"text\":\"y\"}},\"legend\":{\"tracegroupgap\":0},\"margin\":{\"t\":60},\"barmode\":\"relative\"},                        {\"responsive\": true}                    ).then(function(){\n",
       "                            \n",
       "var gd = document.getElementById('eade4fc8-780f-44cc-9b21-dcc9791831b3');\n",
       "var x = new MutationObserver(function (mutations, observer) {{\n",
       "        var display = window.getComputedStyle(gd).display;\n",
       "        if (!display || display === 'none') {{\n",
       "            console.log([gd, 'removed!']);\n",
       "            Plotly.purge(gd);\n",
       "            observer.disconnect();\n",
       "        }}\n",
       "}});\n",
       "\n",
       "// Listen for the removal of the full notebook cells\n",
       "var notebookContainer = gd.closest('#notebook-container');\n",
       "if (notebookContainer) {{\n",
       "    x.observe(notebookContainer, {childList: true});\n",
       "}}\n",
       "\n",
       "// Listen for the clearing of the current output cell\n",
       "var outputEl = gd.closest('.output');\n",
       "if (outputEl) {{\n",
       "    x.observe(outputEl, {childList: true});\n",
       "}}\n",
       "\n",
       "                        })                };                            </script>        </div>\n",
       "</body>\n",
       "</html>"
      ]
     },
     "metadata": {},
     "output_type": "display_data"
    }
   ],
   "source": [
    "fig = px.bar(df, x=avg.index, y=avg)\n",
    "fig.show()"
   ]
  },
  {
   "cell_type": "markdown",
   "metadata": {
    "cell_id": "0bda71c9c6ad440c926348cb499511ca",
    "deepnote_cell_type": "text-cell-p",
    "formattedRanges": [
     {
      "fromCodePoint": 75,
      "marks": {
       "underline": true
      },
      "toCodePoint": 80,
      "type": "marks"
     },
     {
      "fromCodePoint": 85,
      "marks": {
       "underline": true
      },
      "toCodePoint": 90,
      "type": "marks"
     }
    ],
    "is_collapsed": false,
    "tags": []
   },
   "source": [
    "According to the above chart, we can see that the average selling price of Buick and Jaguar are higher than that of other brands."
   ]
  },
  {
   "cell_type": "markdown",
   "metadata": {
    "cell_id": "b2b893884fb04389b2c56dde790178d5",
    "deepnote_cell_type": "text-cell-h3",
    "formattedRanges": [],
    "is_collapsed": false,
    "tags": []
   },
   "source": [
    "### Find the correlation"
   ]
  },
  {
   "cell_type": "code",
   "execution_count": 12,
   "metadata": {
    "cell_id": "db977275ddf7447fa3bcf1d420109b78",
    "deepnote_cell_type": "code",
    "deepnote_to_be_reexecuted": false,
    "execution_millis": 6,
    "execution_start": 1670310946534,
    "source_hash": "52430027",
    "tags": []
   },
   "outputs": [
    {
     "data": {
      "text/plain": [
       "car_ID                int64\n",
       "symboling             int64\n",
       "fueltype             object\n",
       "aspiration           object\n",
       "doornumber           object\n",
       "carbody              object\n",
       "drivewheel           object\n",
       "enginelocation       object\n",
       "wheelbase           float64\n",
       "carlength           float64\n",
       "carwidth            float64\n",
       "carheight           float64\n",
       "curbweight            int64\n",
       "enginetype           object\n",
       "cylindernumber       object\n",
       "enginesize            int64\n",
       "fuelsystem           object\n",
       "boreratio           float64\n",
       "stroke              float64\n",
       "compressionratio    float64\n",
       "horsepower            int64\n",
       "peakrpm               int64\n",
       "citympg               int64\n",
       "highwaympg            int64\n",
       "price               float64\n",
       "Brand                object\n",
       "dtype: object"
      ]
     },
     "execution_count": 12,
     "metadata": {},
     "output_type": "execute_result"
    }
   ],
   "source": [
    "df.dtypes"
   ]
  },
  {
   "cell_type": "code",
   "execution_count": 13,
   "metadata": {
    "cell_id": "2e5abc66c9424d05bfd8a2f074c5f3c7",
    "deepnote_cell_type": "code",
    "deepnote_to_be_reexecuted": false,
    "execution_millis": 4,
    "execution_start": 1670310946543,
    "source_hash": "2293ad4b",
    "tags": []
   },
   "outputs": [],
   "source": [
    "num_col = df.select_dtypes(exclude=['object']).columns\n",
    "num = df[num_col].drop(['car_ID'],axis=1)"
   ]
  },
  {
   "cell_type": "code",
   "execution_count": 14,
   "metadata": {
    "cell_id": "1f2b784a89554454b8dc5f865bff6219",
    "deepnote_cell_type": "code",
    "deepnote_to_be_reexecuted": false,
    "execution_millis": 59,
    "execution_start": 1670310946551,
    "source_hash": "4f14834d",
    "tags": []
   },
   "outputs": [
    {
     "data": {
      "application/vnd.deepnote.dataframe.v3+json": {
       "column_count": 15,
       "columns": [
        {
         "dtype": "float64",
         "name": "symboling",
         "stats": {
          "histogram": [
           {
            "bin_end": -0.38693437979166867,
            "bin_start": -0.5410381997685207,
            "count": 2
           },
           {
            "bin_end": -0.2328305598148166,
            "bin_start": -0.38693437979166867,
            "count": 2
           },
           {
            "bin_end": -0.07872673983796452,
            "bin_start": -0.2328305598148166,
            "count": 5
           },
           {
            "bin_end": 0.07537708013888755,
            "bin_start": -0.07872673983796452,
            "count": 4
           },
           {
            "bin_end": 0.22948090011573963,
            "bin_start": 0.07537708013888755,
            "count": 0
           },
           {
            "bin_end": 0.3835847200925917,
            "bin_start": 0.22948090011573963,
            "count": 1
           },
           {
            "bin_end": 0.5376885400694438,
            "bin_start": 0.3835847200925917,
            "count": 0
           },
           {
            "bin_end": 0.6917923600462959,
            "bin_start": 0.5376885400694438,
            "count": 0
           },
           {
            "bin_end": 0.8458961800231479,
            "bin_start": 0.6917923600462959,
            "count": 0
           },
           {
            "bin_end": 1,
            "bin_start": 0.8458961800231479,
            "count": 1
           }
          ],
          "max": "1.0",
          "min": "-0.5410381997685207",
          "nan_count": 0,
          "unique_count": 15
         }
        },
        {
         "dtype": "float64",
         "name": "wheelbase",
         "stats": {
          "histogram": [
           {
            "bin_end": -0.38967373106794523,
            "bin_start": -0.544081923408828,
            "count": 3
           },
           {
            "bin_end": -0.2352655387270624,
            "bin_start": -0.38967373106794523,
            "count": 1
           },
           {
            "bin_end": -0.08085734638617958,
            "bin_start": -0.2352655387270624,
            "count": 0
           },
           {
            "bin_end": 0.07355084595470318,
            "bin_start": -0.08085734638617958,
            "count": 0
           },
           {
            "bin_end": 0.22795903829558595,
            "bin_start": 0.07355084595470318,
            "count": 1
           },
           {
            "bin_end": 0.3823672306364688,
            "bin_start": 0.22795903829558595,
            "count": 2
           },
           {
            "bin_end": 0.5367754229773515,
            "bin_start": 0.3823672306364688,
            "count": 1
           },
           {
            "bin_end": 0.6911836153182344,
            "bin_start": 0.5367754229773515,
            "count": 3
           },
           {
            "bin_end": 0.8455918076591172,
            "bin_start": 0.6911836153182344,
            "count": 2
           },
           {
            "bin_end": 1,
            "bin_start": 0.8455918076591172,
            "count": 2
           }
          ],
          "max": "1.0",
          "min": "-0.544081923408828",
          "nan_count": 0,
          "unique_count": 15
         }
        },
        {
         "dtype": "float64",
         "name": "carlength",
         "stats": {
          "histogram": [
           {
            "bin_end": -0.5341954431882954,
            "bin_start": -0.7046616035425505,
            "count": 2
           },
           {
            "bin_end": -0.3637292828340404,
            "bin_start": -0.5341954431882954,
            "count": 0
           },
           {
            "bin_end": -0.19326312247978528,
            "bin_start": -0.3637292828340404,
            "count": 2
           },
           {
            "bin_end": -0.022796962125530285,
            "bin_start": -0.19326312247978528,
            "count": 0
           },
           {
            "bin_end": 0.1476691982287247,
            "bin_start": -0.022796962125530285,
            "count": 1
           },
           {
            "bin_end": 0.3181353585829799,
            "bin_start": 0.1476691982287247,
            "count": 1
           },
           {
            "bin_end": 0.4886015189372349,
            "bin_start": 0.3181353585829799,
            "count": 0
           },
           {
            "bin_end": 0.6590676792914899,
            "bin_start": 0.4886015189372349,
            "count": 3
           },
           {
            "bin_end": 0.8295338396457449,
            "bin_start": 0.6590676792914899,
            "count": 2
           },
           {
            "bin_end": 1,
            "bin_start": 0.8295338396457449,
            "count": 4
           }
          ],
          "max": "1.0",
          "min": "-0.7046616035425505",
          "nan_count": 0,
          "unique_count": 15
         }
        },
        {
         "dtype": "float64",
         "name": "carwidth",
         "stats": {
          "histogram": [
           {
            "bin_end": -0.5094961255805417,
            "bin_start": -0.677217917311713,
            "count": 2
           },
           {
            "bin_end": -0.3417743338493704,
            "bin_start": -0.5094961255805417,
            "count": 0
           },
           {
            "bin_end": -0.1740525421181991,
            "bin_start": -0.3417743338493704,
            "count": 2
           },
           {
            "bin_end": -0.006330750387027795,
            "bin_start": -0.1740525421181991,
            "count": 0
           },
           {
            "bin_end": 0.1613910413441435,
            "bin_start": -0.006330750387027795,
            "count": 0
           },
           {
            "bin_end": 0.3291128330753148,
            "bin_start": 0.1613910413441435,
            "count": 3
           },
           {
            "bin_end": 0.4968346248064861,
            "bin_start": 0.3291128330753148,
            "count": 0
           },
           {
            "bin_end": 0.6645564165376574,
            "bin_start": 0.4968346248064861,
            "count": 2
           },
           {
            "bin_end": 0.8322782082688287,
            "bin_start": 0.6645564165376574,
            "count": 3
           },
           {
            "bin_end": 1,
            "bin_start": 0.8322782082688287,
            "count": 3
           }
          ],
          "max": "1.0",
          "min": "-0.677217917311713",
          "nan_count": 0,
          "unique_count": 15
         }
        },
        {
         "dtype": "float64",
         "name": "carheight",
         "stats": {
          "histogram": [
           {
            "bin_end": -0.38693437979166867,
            "bin_start": -0.5410381997685207,
            "count": 1
           },
           {
            "bin_end": -0.2328305598148166,
            "bin_start": -0.38693437979166867,
            "count": 1
           },
           {
            "bin_end": -0.07872673983796452,
            "bin_start": -0.2328305598148166,
            "count": 2
           },
           {
            "bin_end": 0.07537708013888755,
            "bin_start": -0.07872673983796452,
            "count": 3
           },
           {
            "bin_end": 0.22948090011573963,
            "bin_start": 0.07537708013888755,
            "count": 2
           },
           {
            "bin_end": 0.3835847200925917,
            "bin_start": 0.22948090011573963,
            "count": 3
           },
           {
            "bin_end": 0.5376885400694438,
            "bin_start": 0.3835847200925917,
            "count": 1
           },
           {
            "bin_end": 0.6917923600462959,
            "bin_start": 0.5376885400694438,
            "count": 1
           },
           {
            "bin_end": 0.8458961800231479,
            "bin_start": 0.6917923600462959,
            "count": 0
           },
           {
            "bin_end": 1,
            "bin_start": 0.8458961800231479,
            "count": 1
           }
          ],
          "max": "1.0",
          "min": "-0.5410381997685207",
          "nan_count": 0,
          "unique_count": 15
         }
        },
        {
         "dtype": "float64",
         "name": "curbweight",
         "stats": {
          "histogram": [
           {
            "bin_end": -0.6177183130530622,
            "bin_start": -0.7974647922811803,
            "count": 2
           },
           {
            "bin_end": -0.4379718338249442,
            "bin_start": -0.6177183130530622,
            "count": 0
           },
           {
            "bin_end": -0.25822535459682616,
            "bin_start": -0.4379718338249442,
            "count": 1
           },
           {
            "bin_end": -0.07847887536870812,
            "bin_start": -0.25822535459682616,
            "count": 1
           },
           {
            "bin_end": 0.10126760385940992,
            "bin_start": -0.07847887536870812,
            "count": 0
           },
           {
            "bin_end": 0.28101408308752795,
            "bin_start": 0.10126760385940992,
            "count": 2
           },
           {
            "bin_end": 0.460760562315646,
            "bin_start": 0.28101408308752795,
            "count": 1
           },
           {
            "bin_end": 0.640507041543764,
            "bin_start": 0.460760562315646,
            "count": 0
           },
           {
            "bin_end": 0.8202535207718821,
            "bin_start": 0.640507041543764,
            "count": 3
           },
           {
            "bin_end": 1,
            "bin_start": 0.8202535207718821,
            "count": 5
           }
          ],
          "max": "1.0",
          "min": "-0.7974647922811803",
          "nan_count": 0,
          "unique_count": 15
         }
        },
        {
         "dtype": "float64",
         "name": "enginesize",
         "stats": {
          "histogram": [
           {
            "bin_end": -0.509722917054787,
            "bin_start": -0.6774699078386522,
            "count": 2
           },
           {
            "bin_end": -0.3419759262709218,
            "bin_start": -0.509722917054787,
            "count": 0
           },
           {
            "bin_end": -0.17422893548705665,
            "bin_start": -0.3419759262709218,
            "count": 1
           },
           {
            "bin_end": -0.006481944703191411,
            "bin_start": -0.17422893548705665,
            "count": 1
           },
           {
            "bin_end": 0.16126504608067382,
            "bin_start": -0.006481944703191411,
            "count": 2
           },
           {
            "bin_end": 0.32901203686453895,
            "bin_start": 0.16126504608067382,
            "count": 1
           },
           {
            "bin_end": 0.4967590276484043,
            "bin_start": 0.32901203686453895,
            "count": 0
           },
           {
            "bin_end": 0.6645060184322694,
            "bin_start": 0.4967590276484043,
            "count": 2
           },
           {
            "bin_end": 0.8322530092161345,
            "bin_start": 0.6645060184322694,
            "count": 3
           },
           {
            "bin_end": 1,
            "bin_start": 0.8322530092161345,
            "count": 3
           }
          ],
          "max": "1.0",
          "min": "-0.6774699078386522",
          "nan_count": 0,
          "unique_count": 15
         }
        },
        {
         "dtype": "float64",
         "name": "boreratio",
         "stats": {
          "histogram": [
           {
            "bin_end": -0.42831060581759983,
            "bin_start": -0.5870117842417776,
            "count": 2
           },
           {
            "bin_end": -0.26960942739342203,
            "bin_start": -0.42831060581759983,
            "count": 0
           },
           {
            "bin_end": -0.11090824896924423,
            "bin_start": -0.26960942739342203,
            "count": 2
           },
           {
            "bin_end": 0.04779292945493352,
            "bin_start": -0.11090824896924423,
            "count": 2
           },
           {
            "bin_end": 0.20649410787911127,
            "bin_start": 0.04779292945493352,
            "count": 1
           },
           {
            "bin_end": 0.3651952863032891,
            "bin_start": 0.20649410787911127,
            "count": 0
           },
           {
            "bin_end": 0.5238964647274668,
            "bin_start": 0.3651952863032891,
            "count": 1
           },
           {
            "bin_end": 0.6825976431516446,
            "bin_start": 0.5238964647274668,
            "count": 6
           },
           {
            "bin_end": 0.8412988215758225,
            "bin_start": 0.6825976431516446,
            "count": 0
           },
           {
            "bin_end": 1,
            "bin_start": 0.8412988215758225,
            "count": 1
           }
          ],
          "max": "1.0",
          "min": "-0.5870117842417776",
          "nan_count": 0,
          "unique_count": 15
         }
        },
        {
         "dtype": "float64",
         "name": "stroke",
         "stats": {
          "histogram": [
           {
            "bin_end": 0.03883262215158059,
            "bin_start": -0.06796375316491045,
            "count": 6
           },
           {
            "bin_end": 0.14562899746807162,
            "bin_start": 0.03883262215158059,
            "count": 3
           },
           {
            "bin_end": 0.2524253727845627,
            "bin_start": 0.14562899746807162,
            "count": 5
           },
           {
            "bin_end": 0.35922174810105373,
            "bin_start": 0.2524253727845627,
            "count": 0
           },
           {
            "bin_end": 0.4660181234175448,
            "bin_start": 0.35922174810105373,
            "count": 0
           },
           {
            "bin_end": 0.5728144987340358,
            "bin_start": 0.4660181234175448,
            "count": 0
           },
           {
            "bin_end": 0.6796108740505269,
            "bin_start": 0.5728144987340358,
            "count": 0
           },
           {
            "bin_end": 0.7864072493670179,
            "bin_start": 0.6796108740505269,
            "count": 0
           },
           {
            "bin_end": 0.8932036246835089,
            "bin_start": 0.7864072493670179,
            "count": 0
           },
           {
            "bin_end": 1,
            "bin_start": 0.8932036246835089,
            "count": 1
           }
          ],
          "max": "1.0",
          "min": "-0.06796375316491045",
          "nan_count": 0,
          "unique_count": 15
         }
        },
        {
         "dtype": "float64",
         "name": "compressionratio",
         "stats": {
          "histogram": [
           {
            "bin_end": -0.29216646301057747,
            "bin_start": -0.43574051445619716,
            "count": 1
           },
           {
            "bin_end": -0.14859241156495773,
            "bin_start": -0.29216646301057747,
            "count": 2
           },
           {
            "bin_end": -0.005018360119338039,
            "bin_start": -0.14859241156495773,
            "count": 0
           },
           {
            "bin_end": 0.1385556913262817,
            "bin_start": -0.005018360119338039,
            "count": 3
           },
           {
            "bin_end": 0.28212974277190145,
            "bin_start": 0.1385556913262817,
            "count": 7
           },
           {
            "bin_end": 0.4257037942175211,
            "bin_start": 0.28212974277190145,
            "count": 1
           },
           {
            "bin_end": 0.5692778456631409,
            "bin_start": 0.4257037942175211,
            "count": 0
           },
           {
            "bin_end": 0.7128518971087605,
            "bin_start": 0.5692778456631409,
            "count": 0
           },
           {
            "bin_end": 0.8564259485543801,
            "bin_start": 0.7128518971087605,
            "count": 0
           },
           {
            "bin_end": 1,
            "bin_start": 0.8564259485543801,
            "count": 1
           }
          ],
          "max": "1.0",
          "min": "-0.43574051445619716",
          "nan_count": 0,
          "unique_count": 15
         }
        },
        {
         "dtype": "float64",
         "name": "horsepower",
         "stats": {
          "histogram": [
           {
            "bin_end": -0.6213105580996438,
            "bin_start": -0.8014561756662708,
            "count": 2
           },
           {
            "bin_end": -0.44116494053301664,
            "bin_start": -0.6213105580996438,
            "count": 0
           },
           {
            "bin_end": -0.2610193229663895,
            "bin_start": -0.44116494053301664,
            "count": 0
           },
           {
            "bin_end": -0.08087370539976246,
            "bin_start": -0.2610193229663895,
            "count": 2
           },
           {
            "bin_end": 0.0992719121668646,
            "bin_start": -0.08087370539976246,
            "count": 2
           },
           {
            "bin_end": 0.27941752973349177,
            "bin_start": 0.0992719121668646,
            "count": 1
           },
           {
            "bin_end": 0.4595631473001187,
            "bin_start": 0.27941752973349177,
            "count": 1
           },
           {
            "bin_end": 0.6397087648667459,
            "bin_start": 0.4595631473001187,
            "count": 2
           },
           {
            "bin_end": 0.819854382433373,
            "bin_start": 0.6397087648667459,
            "count": 4
           },
           {
            "bin_end": 1,
            "bin_start": 0.819854382433373,
            "count": 1
           }
          ],
          "max": "1.0",
          "min": "-0.8014561756662708",
          "nan_count": 0,
          "unique_count": 15
         }
        },
        {
         "dtype": "float64",
         "name": "peakrpm",
         "stats": {
          "histogram": [
           {
            "bin_end": -0.29216646301057747,
            "bin_start": -0.43574051445619716,
            "count": 3
           },
           {
            "bin_end": -0.14859241156495773,
            "bin_start": -0.29216646301057747,
            "count": 5
           },
           {
            "bin_end": -0.005018360119338039,
            "bin_start": -0.14859241156495773,
            "count": 4
           },
           {
            "bin_end": 0.1385556913262817,
            "bin_start": -0.005018360119338039,
            "count": 1
           },
           {
            "bin_end": 0.28212974277190145,
            "bin_start": 0.1385556913262817,
            "count": 1
           },
           {
            "bin_end": 0.4257037942175211,
            "bin_start": 0.28212974277190145,
            "count": 0
           },
           {
            "bin_end": 0.5692778456631409,
            "bin_start": 0.4257037942175211,
            "count": 0
           },
           {
            "bin_end": 0.7128518971087605,
            "bin_start": 0.5692778456631409,
            "count": 0
           },
           {
            "bin_end": 0.8564259485543801,
            "bin_start": 0.7128518971087605,
            "count": 0
           },
           {
            "bin_end": 1,
            "bin_start": 0.8564259485543801,
            "count": 1
           }
          ],
          "max": "1.0",
          "min": "-0.43574051445619716",
          "nan_count": 0,
          "unique_count": 15
         }
        },
        {
         "dtype": "float64",
         "name": "citympg",
         "stats": {
          "histogram": [
           {
            "bin_end": -0.6213105580996438,
            "bin_start": -0.8014561756662708,
            "count": 6
           },
           {
            "bin_end": -0.44116494053301664,
            "bin_start": -0.6213105580996438,
            "count": 2
           },
           {
            "bin_end": -0.2610193229663895,
            "bin_start": -0.44116494053301664,
            "count": 0
           },
           {
            "bin_end": -0.08087370539976246,
            "bin_start": -0.2610193229663895,
            "count": 1
           },
           {
            "bin_end": 0.0992719121668646,
            "bin_start": -0.08087370539976246,
            "count": 3
           },
           {
            "bin_end": 0.27941752973349177,
            "bin_start": 0.0992719121668646,
            "count": 0
           },
           {
            "bin_end": 0.4595631473001187,
            "bin_start": 0.27941752973349177,
            "count": 1
           },
           {
            "bin_end": 0.6397087648667459,
            "bin_start": 0.4595631473001187,
            "count": 0
           },
           {
            "bin_end": 0.819854382433373,
            "bin_start": 0.6397087648667459,
            "count": 0
           },
           {
            "bin_end": 1,
            "bin_start": 0.819854382433373,
            "count": 2
           }
          ],
          "max": "1.0",
          "min": "-0.8014561756662708",
          "nan_count": 0,
          "unique_count": 15
         }
        },
        {
         "dtype": "float64",
         "name": "highwaympg",
         "stats": {
          "histogram": [
           {
            "bin_end": -0.6177183130530622,
            "bin_start": -0.7974647922811803,
            "count": 6
           },
           {
            "bin_end": -0.4379718338249442,
            "bin_start": -0.6177183130530622,
            "count": 2
           },
           {
            "bin_end": -0.25822535459682616,
            "bin_start": -0.4379718338249442,
            "count": 0
           },
           {
            "bin_end": -0.07847887536870812,
            "bin_start": -0.25822535459682616,
            "count": 1
           },
           {
            "bin_end": 0.10126760385940992,
            "bin_start": -0.07847887536870812,
            "count": 3
           },
           {
            "bin_end": 0.28101408308752795,
            "bin_start": 0.10126760385940992,
            "count": 1
           },
           {
            "bin_end": 0.460760562315646,
            "bin_start": 0.28101408308752795,
            "count": 0
           },
           {
            "bin_end": 0.640507041543764,
            "bin_start": 0.460760562315646,
            "count": 0
           },
           {
            "bin_end": 0.8202535207718821,
            "bin_start": 0.640507041543764,
            "count": 0
           },
           {
            "bin_end": 1,
            "bin_start": 0.8202535207718821,
            "count": 2
           }
          ],
          "max": "1.0",
          "min": "-0.7974647922811803",
          "nan_count": 0,
          "unique_count": 15
         }
        },
        {
         "dtype": "float64",
         "name": "price",
         "stats": {
          "histogram": [
           {
            "bin_end": -0.5278391824819015,
            "bin_start": -0.6975990916465573,
            "count": 2
           },
           {
            "bin_end": -0.35807927331724587,
            "bin_start": -0.5278391824819015,
            "count": 0
           },
           {
            "bin_end": -0.1883193641525902,
            "bin_start": -0.35807927331724587,
            "count": 0
           },
           {
            "bin_end": -0.01855945498793443,
            "bin_start": -0.1883193641525902,
            "count": 2
           },
           {
            "bin_end": 0.15120045417672134,
            "bin_start": -0.01855945498793443,
            "count": 3
           },
           {
            "bin_end": 0.3209603633413769,
            "bin_start": 0.15120045417672134,
            "count": 0
           },
           {
            "bin_end": 0.4907202725060327,
            "bin_start": 0.3209603633413769,
            "count": 0
           },
           {
            "bin_end": 0.6604801816706884,
            "bin_start": 0.4907202725060327,
            "count": 2
           },
           {
            "bin_end": 0.8302400908353442,
            "bin_start": 0.6604801816706884,
            "count": 3
           },
           {
            "bin_end": 1,
            "bin_start": 0.8302400908353442,
            "count": 3
           }
          ],
          "max": "1.0",
          "min": "-0.6975990916465573",
          "nan_count": 0,
          "unique_count": 15
         }
        },
        {
         "dtype": "object",
         "name": "_deepnote_index_column"
        }
       ],
       "row_count": 15,
       "rows": [
        {
         "_deepnote_index_column": "symboling",
         "boreratio": "-0.13005135968493117",
         "carheight": "-0.5410381997685207",
         "carlength": "-0.35761152261729123",
         "carwidth": "-0.23291906097426712",
         "citympg": "-0.03582262794554099",
         "compressionratio": "-0.17851508438647604",
         "curbweight": "-0.2276905884774526",
         "enginesize": "-0.10578970928966426",
         "highwaympg": "0.034606000711919854",
         "horsepower": "0.07087272404244964",
         "peakrpm": "0.27360624512880943",
         "price": "-0.07997822464270359",
         "stroke": "-0.008735140673331062",
         "symboling": "1.0",
         "wheelbase": "-0.5319536816234925"
        },
        {
         "_deepnote_index_column": "wheelbase",
         "boreratio": "0.4887498752756672",
         "carheight": "0.5894347616933517",
         "carlength": "0.874587475964264",
         "carwidth": "0.795143643616968",
         "citympg": "-0.47041361340548293",
         "compressionratio": "0.24978584518743374",
         "curbweight": "0.7763863277822105",
         "enginesize": "0.5693286815396968",
         "highwaympg": "-0.544081923408828",
         "horsepower": "0.35329447820540005",
         "peakrpm": "-0.36046874776149224",
         "price": "0.5778155982921489",
         "stroke": "0.16095904729726282",
         "symboling": "-0.5319536816234925",
         "wheelbase": "1.0"
        },
        {
         "_deepnote_index_column": "carlength",
         "boreratio": "0.6064543579849689",
         "carheight": "0.4910294575042151",
         "carlength": "1.0",
         "carwidth": "0.8411182684818453",
         "citympg": "-0.6709086615585719",
         "compressionratio": "0.15841370644020683",
         "curbweight": "0.8777284608306433",
         "enginesize": "0.6833598726519026",
         "highwaympg": "-0.7046616035425505",
         "horsepower": "0.5526229673941837",
         "peakrpm": "-0.28724220281843926",
         "price": "0.6829200156779629",
         "stroke": "0.12953261112791242",
         "symboling": "-0.35761152261729123",
         "wheelbase": "0.874587475964264"
        },
        {
         "_deepnote_index_column": "carwidth",
         "boreratio": "0.5591499086023913",
         "carheight": "0.27921032110974997",
         "carlength": "0.8411182684818453",
         "carwidth": "1.0",
         "citympg": "-0.6427043407108963",
         "compressionratio": "0.1811286267707973",
         "curbweight": "0.8670324646791233",
         "enginesize": "0.7354334047796364",
         "highwaympg": "-0.677217917311713",
         "horsepower": "0.6407320755722926",
         "peakrpm": "-0.22001230306613748",
         "price": "0.759325299741511",
         "stroke": "0.1829416925142188",
         "symboling": "-0.23291906097426712",
         "wheelbase": "0.795143643616968"
        },
        {
         "_deepnote_index_column": "carheight",
         "boreratio": "0.17107092150966066",
         "carheight": "1.0",
         "carlength": "0.4910294575042151",
         "carwidth": "0.27921032110974997",
         "citympg": "-0.04863962869509337",
         "compressionratio": "0.2612142263199395",
         "curbweight": "0.29557172619485034",
         "enginesize": "0.06714874180270604",
         "highwaympg": "-0.10735762697679854",
         "horsepower": "-0.10880205898413536",
         "peakrpm": "-0.3204107238101862",
         "price": "0.11933622657049496",
         "stroke": "-0.05530667369878668",
         "symboling": "-0.5410381997685207",
         "wheelbase": "0.5894347616933517"
        },
        {
         "_deepnote_index_column": "curbweight",
         "boreratio": "0.648479748701071",
         "carheight": "0.29557172619485034",
         "carlength": "0.8777284608306433",
         "carwidth": "0.8670324646791233",
         "citympg": "-0.757413784505601",
         "compressionratio": "0.15136174003093056",
         "curbweight": "1.0",
         "enginesize": "0.850594073426277",
         "highwaympg": "-0.7974647922811803",
         "horsepower": "0.7507392514434825",
         "peakrpm": "-0.2662431843367313",
         "price": "0.8353048793372975",
         "stroke": "0.16879003525191993",
         "symboling": "-0.2276905884774526",
         "wheelbase": "0.7763863277822105"
        },
        {
         "_deepnote_index_column": "enginesize",
         "boreratio": "0.583774327417099",
         "carheight": "0.06714874180270604",
         "carlength": "0.6833598726519026",
         "carwidth": "0.7354334047796364",
         "citympg": "-0.6536579163114195",
         "compressionratio": "0.028971359704083287",
         "curbweight": "0.850594073426277",
         "enginesize": "1.0",
         "highwaympg": "-0.6774699078386522",
         "horsepower": "0.8097686545377302",
         "peakrpm": "-0.24465982533217653",
         "price": "0.8741448025245117",
         "stroke": "0.20312858790295577",
         "symboling": "-0.10578970928966426",
         "wheelbase": "0.5693286815396968"
        },
        {
         "_deepnote_index_column": "boreratio",
         "boreratio": "1.0",
         "carheight": "0.17107092150966066",
         "carlength": "0.6064543579849689",
         "carwidth": "0.5591499086023913",
         "citympg": "-0.5845317156694846",
         "compressionratio": "0.0051973387005891224",
         "curbweight": "0.648479748701071",
         "enginesize": "0.583774327417099",
         "highwaympg": "-0.5870117842417776",
         "horsepower": "0.57367682346572",
         "peakrpm": "-0.25497552836873105",
         "price": "0.5531732367984439",
         "stroke": "-0.05590898252008878",
         "symboling": "-0.13005135968493117",
         "wheelbase": "0.4887498752756672"
        },
        {
         "_deepnote_index_column": "stroke",
         "boreratio": "-0.05590898252008878",
         "carheight": "-0.05530667369878668",
         "carlength": "0.12953261112791242",
         "carwidth": "0.1829416925142188",
         "citympg": "-0.042144754040548675",
         "compressionratio": "0.1861101102879554",
         "curbweight": "0.16879003525191993",
         "enginesize": "0.20312858790295577",
         "highwaympg": "-0.04393093044651369",
         "horsepower": "0.08093953574495318",
         "peakrpm": "-0.06796375316491045",
         "price": "0.0794430838819307",
         "stroke": "1.0",
         "symboling": "-0.008735140673331062",
         "wheelbase": "0.16095904729726282"
        },
        {
         "_deepnote_index_column": "compressionratio",
         "boreratio": "0.0051973387005891224",
         "carheight": "0.2612142263199395",
         "carlength": "0.15841370644020683",
         "carwidth": "0.1811286267707973",
         "citympg": "0.32470142452073303",
         "compressionratio": "1.0",
         "curbweight": "0.15136174003093056",
         "enginesize": "0.028971359704083287",
         "highwaympg": "0.2652013891633968",
         "horsepower": "-0.20432622618867832",
         "peakrpm": "-0.43574051445619716",
         "price": "0.06798350579944266",
         "stroke": "0.1861101102879554",
         "symboling": "-0.17851508438647604",
         "wheelbase": "0.24978584518743374"
        }
       ]
      },
      "text/html": [
       "<div>\n",
       "<style scoped>\n",
       "    .dataframe tbody tr th:only-of-type {\n",
       "        vertical-align: middle;\n",
       "    }\n",
       "\n",
       "    .dataframe tbody tr th {\n",
       "        vertical-align: top;\n",
       "    }\n",
       "\n",
       "    .dataframe thead th {\n",
       "        text-align: right;\n",
       "    }\n",
       "</style>\n",
       "<table border=\"1\" class=\"dataframe\">\n",
       "  <thead>\n",
       "    <tr style=\"text-align: right;\">\n",
       "      <th></th>\n",
       "      <th>symboling</th>\n",
       "      <th>wheelbase</th>\n",
       "      <th>carlength</th>\n",
       "      <th>carwidth</th>\n",
       "      <th>carheight</th>\n",
       "      <th>curbweight</th>\n",
       "      <th>enginesize</th>\n",
       "      <th>boreratio</th>\n",
       "      <th>stroke</th>\n",
       "      <th>compressionratio</th>\n",
       "      <th>horsepower</th>\n",
       "      <th>peakrpm</th>\n",
       "      <th>citympg</th>\n",
       "      <th>highwaympg</th>\n",
       "      <th>price</th>\n",
       "    </tr>\n",
       "  </thead>\n",
       "  <tbody>\n",
       "    <tr>\n",
       "      <th>symboling</th>\n",
       "      <td>1.000000</td>\n",
       "      <td>-0.531954</td>\n",
       "      <td>-0.357612</td>\n",
       "      <td>-0.232919</td>\n",
       "      <td>-0.541038</td>\n",
       "      <td>-0.227691</td>\n",
       "      <td>-0.105790</td>\n",
       "      <td>-0.130051</td>\n",
       "      <td>-0.008735</td>\n",
       "      <td>-0.178515</td>\n",
       "      <td>0.070873</td>\n",
       "      <td>0.273606</td>\n",
       "      <td>-0.035823</td>\n",
       "      <td>0.034606</td>\n",
       "      <td>-0.079978</td>\n",
       "    </tr>\n",
       "    <tr>\n",
       "      <th>wheelbase</th>\n",
       "      <td>-0.531954</td>\n",
       "      <td>1.000000</td>\n",
       "      <td>0.874587</td>\n",
       "      <td>0.795144</td>\n",
       "      <td>0.589435</td>\n",
       "      <td>0.776386</td>\n",
       "      <td>0.569329</td>\n",
       "      <td>0.488750</td>\n",
       "      <td>0.160959</td>\n",
       "      <td>0.249786</td>\n",
       "      <td>0.353294</td>\n",
       "      <td>-0.360469</td>\n",
       "      <td>-0.470414</td>\n",
       "      <td>-0.544082</td>\n",
       "      <td>0.577816</td>\n",
       "    </tr>\n",
       "    <tr>\n",
       "      <th>carlength</th>\n",
       "      <td>-0.357612</td>\n",
       "      <td>0.874587</td>\n",
       "      <td>1.000000</td>\n",
       "      <td>0.841118</td>\n",
       "      <td>0.491029</td>\n",
       "      <td>0.877728</td>\n",
       "      <td>0.683360</td>\n",
       "      <td>0.606454</td>\n",
       "      <td>0.129533</td>\n",
       "      <td>0.158414</td>\n",
       "      <td>0.552623</td>\n",
       "      <td>-0.287242</td>\n",
       "      <td>-0.670909</td>\n",
       "      <td>-0.704662</td>\n",
       "      <td>0.682920</td>\n",
       "    </tr>\n",
       "    <tr>\n",
       "      <th>carwidth</th>\n",
       "      <td>-0.232919</td>\n",
       "      <td>0.795144</td>\n",
       "      <td>0.841118</td>\n",
       "      <td>1.000000</td>\n",
       "      <td>0.279210</td>\n",
       "      <td>0.867032</td>\n",
       "      <td>0.735433</td>\n",
       "      <td>0.559150</td>\n",
       "      <td>0.182942</td>\n",
       "      <td>0.181129</td>\n",
       "      <td>0.640732</td>\n",
       "      <td>-0.220012</td>\n",
       "      <td>-0.642704</td>\n",
       "      <td>-0.677218</td>\n",
       "      <td>0.759325</td>\n",
       "    </tr>\n",
       "    <tr>\n",
       "      <th>carheight</th>\n",
       "      <td>-0.541038</td>\n",
       "      <td>0.589435</td>\n",
       "      <td>0.491029</td>\n",
       "      <td>0.279210</td>\n",
       "      <td>1.000000</td>\n",
       "      <td>0.295572</td>\n",
       "      <td>0.067149</td>\n",
       "      <td>0.171071</td>\n",
       "      <td>-0.055307</td>\n",
       "      <td>0.261214</td>\n",
       "      <td>-0.108802</td>\n",
       "      <td>-0.320411</td>\n",
       "      <td>-0.048640</td>\n",
       "      <td>-0.107358</td>\n",
       "      <td>0.119336</td>\n",
       "    </tr>\n",
       "    <tr>\n",
       "      <th>curbweight</th>\n",
       "      <td>-0.227691</td>\n",
       "      <td>0.776386</td>\n",
       "      <td>0.877728</td>\n",
       "      <td>0.867032</td>\n",
       "      <td>0.295572</td>\n",
       "      <td>1.000000</td>\n",
       "      <td>0.850594</td>\n",
       "      <td>0.648480</td>\n",
       "      <td>0.168790</td>\n",
       "      <td>0.151362</td>\n",
       "      <td>0.750739</td>\n",
       "      <td>-0.266243</td>\n",
       "      <td>-0.757414</td>\n",
       "      <td>-0.797465</td>\n",
       "      <td>0.835305</td>\n",
       "    </tr>\n",
       "    <tr>\n",
       "      <th>enginesize</th>\n",
       "      <td>-0.105790</td>\n",
       "      <td>0.569329</td>\n",
       "      <td>0.683360</td>\n",
       "      <td>0.735433</td>\n",
       "      <td>0.067149</td>\n",
       "      <td>0.850594</td>\n",
       "      <td>1.000000</td>\n",
       "      <td>0.583774</td>\n",
       "      <td>0.203129</td>\n",
       "      <td>0.028971</td>\n",
       "      <td>0.809769</td>\n",
       "      <td>-0.244660</td>\n",
       "      <td>-0.653658</td>\n",
       "      <td>-0.677470</td>\n",
       "      <td>0.874145</td>\n",
       "    </tr>\n",
       "    <tr>\n",
       "      <th>boreratio</th>\n",
       "      <td>-0.130051</td>\n",
       "      <td>0.488750</td>\n",
       "      <td>0.606454</td>\n",
       "      <td>0.559150</td>\n",
       "      <td>0.171071</td>\n",
       "      <td>0.648480</td>\n",
       "      <td>0.583774</td>\n",
       "      <td>1.000000</td>\n",
       "      <td>-0.055909</td>\n",
       "      <td>0.005197</td>\n",
       "      <td>0.573677</td>\n",
       "      <td>-0.254976</td>\n",
       "      <td>-0.584532</td>\n",
       "      <td>-0.587012</td>\n",
       "      <td>0.553173</td>\n",
       "    </tr>\n",
       "    <tr>\n",
       "      <th>stroke</th>\n",
       "      <td>-0.008735</td>\n",
       "      <td>0.160959</td>\n",
       "      <td>0.129533</td>\n",
       "      <td>0.182942</td>\n",
       "      <td>-0.055307</td>\n",
       "      <td>0.168790</td>\n",
       "      <td>0.203129</td>\n",
       "      <td>-0.055909</td>\n",
       "      <td>1.000000</td>\n",
       "      <td>0.186110</td>\n",
       "      <td>0.080940</td>\n",
       "      <td>-0.067964</td>\n",
       "      <td>-0.042145</td>\n",
       "      <td>-0.043931</td>\n",
       "      <td>0.079443</td>\n",
       "    </tr>\n",
       "    <tr>\n",
       "      <th>compressionratio</th>\n",
       "      <td>-0.178515</td>\n",
       "      <td>0.249786</td>\n",
       "      <td>0.158414</td>\n",
       "      <td>0.181129</td>\n",
       "      <td>0.261214</td>\n",
       "      <td>0.151362</td>\n",
       "      <td>0.028971</td>\n",
       "      <td>0.005197</td>\n",
       "      <td>0.186110</td>\n",
       "      <td>1.000000</td>\n",
       "      <td>-0.204326</td>\n",
       "      <td>-0.435741</td>\n",
       "      <td>0.324701</td>\n",
       "      <td>0.265201</td>\n",
       "      <td>0.067984</td>\n",
       "    </tr>\n",
       "    <tr>\n",
       "      <th>horsepower</th>\n",
       "      <td>0.070873</td>\n",
       "      <td>0.353294</td>\n",
       "      <td>0.552623</td>\n",
       "      <td>0.640732</td>\n",
       "      <td>-0.108802</td>\n",
       "      <td>0.750739</td>\n",
       "      <td>0.809769</td>\n",
       "      <td>0.573677</td>\n",
       "      <td>0.080940</td>\n",
       "      <td>-0.204326</td>\n",
       "      <td>1.000000</td>\n",
       "      <td>0.131073</td>\n",
       "      <td>-0.801456</td>\n",
       "      <td>-0.770544</td>\n",
       "      <td>0.808139</td>\n",
       "    </tr>\n",
       "    <tr>\n",
       "      <th>peakrpm</th>\n",
       "      <td>0.273606</td>\n",
       "      <td>-0.360469</td>\n",
       "      <td>-0.287242</td>\n",
       "      <td>-0.220012</td>\n",
       "      <td>-0.320411</td>\n",
       "      <td>-0.266243</td>\n",
       "      <td>-0.244660</td>\n",
       "      <td>-0.254976</td>\n",
       "      <td>-0.067964</td>\n",
       "      <td>-0.435741</td>\n",
       "      <td>0.131073</td>\n",
       "      <td>1.000000</td>\n",
       "      <td>-0.113544</td>\n",
       "      <td>-0.054275</td>\n",
       "      <td>-0.085267</td>\n",
       "    </tr>\n",
       "    <tr>\n",
       "      <th>citympg</th>\n",
       "      <td>-0.035823</td>\n",
       "      <td>-0.470414</td>\n",
       "      <td>-0.670909</td>\n",
       "      <td>-0.642704</td>\n",
       "      <td>-0.048640</td>\n",
       "      <td>-0.757414</td>\n",
       "      <td>-0.653658</td>\n",
       "      <td>-0.584532</td>\n",
       "      <td>-0.042145</td>\n",
       "      <td>0.324701</td>\n",
       "      <td>-0.801456</td>\n",
       "      <td>-0.113544</td>\n",
       "      <td>1.000000</td>\n",
       "      <td>0.971337</td>\n",
       "      <td>-0.685751</td>\n",
       "    </tr>\n",
       "    <tr>\n",
       "      <th>highwaympg</th>\n",
       "      <td>0.034606</td>\n",
       "      <td>-0.544082</td>\n",
       "      <td>-0.704662</td>\n",
       "      <td>-0.677218</td>\n",
       "      <td>-0.107358</td>\n",
       "      <td>-0.797465</td>\n",
       "      <td>-0.677470</td>\n",
       "      <td>-0.587012</td>\n",
       "      <td>-0.043931</td>\n",
       "      <td>0.265201</td>\n",
       "      <td>-0.770544</td>\n",
       "      <td>-0.054275</td>\n",
       "      <td>0.971337</td>\n",
       "      <td>1.000000</td>\n",
       "      <td>-0.697599</td>\n",
       "    </tr>\n",
       "    <tr>\n",
       "      <th>price</th>\n",
       "      <td>-0.079978</td>\n",
       "      <td>0.577816</td>\n",
       "      <td>0.682920</td>\n",
       "      <td>0.759325</td>\n",
       "      <td>0.119336</td>\n",
       "      <td>0.835305</td>\n",
       "      <td>0.874145</td>\n",
       "      <td>0.553173</td>\n",
       "      <td>0.079443</td>\n",
       "      <td>0.067984</td>\n",
       "      <td>0.808139</td>\n",
       "      <td>-0.085267</td>\n",
       "      <td>-0.685751</td>\n",
       "      <td>-0.697599</td>\n",
       "      <td>1.000000</td>\n",
       "    </tr>\n",
       "  </tbody>\n",
       "</table>\n",
       "</div>"
      ],
      "text/plain": [
       "                  symboling  wheelbase  carlength  carwidth  carheight  \\\n",
       "symboling          1.000000  -0.531954  -0.357612 -0.232919  -0.541038   \n",
       "wheelbase         -0.531954   1.000000   0.874587  0.795144   0.589435   \n",
       "carlength         -0.357612   0.874587   1.000000  0.841118   0.491029   \n",
       "carwidth          -0.232919   0.795144   0.841118  1.000000   0.279210   \n",
       "carheight         -0.541038   0.589435   0.491029  0.279210   1.000000   \n",
       "curbweight        -0.227691   0.776386   0.877728  0.867032   0.295572   \n",
       "enginesize        -0.105790   0.569329   0.683360  0.735433   0.067149   \n",
       "boreratio         -0.130051   0.488750   0.606454  0.559150   0.171071   \n",
       "stroke            -0.008735   0.160959   0.129533  0.182942  -0.055307   \n",
       "compressionratio  -0.178515   0.249786   0.158414  0.181129   0.261214   \n",
       "horsepower         0.070873   0.353294   0.552623  0.640732  -0.108802   \n",
       "peakrpm            0.273606  -0.360469  -0.287242 -0.220012  -0.320411   \n",
       "citympg           -0.035823  -0.470414  -0.670909 -0.642704  -0.048640   \n",
       "highwaympg         0.034606  -0.544082  -0.704662 -0.677218  -0.107358   \n",
       "price             -0.079978   0.577816   0.682920  0.759325   0.119336   \n",
       "\n",
       "                  curbweight  enginesize  boreratio    stroke  \\\n",
       "symboling          -0.227691   -0.105790  -0.130051 -0.008735   \n",
       "wheelbase           0.776386    0.569329   0.488750  0.160959   \n",
       "carlength           0.877728    0.683360   0.606454  0.129533   \n",
       "carwidth            0.867032    0.735433   0.559150  0.182942   \n",
       "carheight           0.295572    0.067149   0.171071 -0.055307   \n",
       "curbweight          1.000000    0.850594   0.648480  0.168790   \n",
       "enginesize          0.850594    1.000000   0.583774  0.203129   \n",
       "boreratio           0.648480    0.583774   1.000000 -0.055909   \n",
       "stroke              0.168790    0.203129  -0.055909  1.000000   \n",
       "compressionratio    0.151362    0.028971   0.005197  0.186110   \n",
       "horsepower          0.750739    0.809769   0.573677  0.080940   \n",
       "peakrpm            -0.266243   -0.244660  -0.254976 -0.067964   \n",
       "citympg            -0.757414   -0.653658  -0.584532 -0.042145   \n",
       "highwaympg         -0.797465   -0.677470  -0.587012 -0.043931   \n",
       "price               0.835305    0.874145   0.553173  0.079443   \n",
       "\n",
       "                  compressionratio  horsepower   peakrpm   citympg  \\\n",
       "symboling                -0.178515    0.070873  0.273606 -0.035823   \n",
       "wheelbase                 0.249786    0.353294 -0.360469 -0.470414   \n",
       "carlength                 0.158414    0.552623 -0.287242 -0.670909   \n",
       "carwidth                  0.181129    0.640732 -0.220012 -0.642704   \n",
       "carheight                 0.261214   -0.108802 -0.320411 -0.048640   \n",
       "curbweight                0.151362    0.750739 -0.266243 -0.757414   \n",
       "enginesize                0.028971    0.809769 -0.244660 -0.653658   \n",
       "boreratio                 0.005197    0.573677 -0.254976 -0.584532   \n",
       "stroke                    0.186110    0.080940 -0.067964 -0.042145   \n",
       "compressionratio          1.000000   -0.204326 -0.435741  0.324701   \n",
       "horsepower               -0.204326    1.000000  0.131073 -0.801456   \n",
       "peakrpm                  -0.435741    0.131073  1.000000 -0.113544   \n",
       "citympg                   0.324701   -0.801456 -0.113544  1.000000   \n",
       "highwaympg                0.265201   -0.770544 -0.054275  0.971337   \n",
       "price                     0.067984    0.808139 -0.085267 -0.685751   \n",
       "\n",
       "                  highwaympg     price  \n",
       "symboling           0.034606 -0.079978  \n",
       "wheelbase          -0.544082  0.577816  \n",
       "carlength          -0.704662  0.682920  \n",
       "carwidth           -0.677218  0.759325  \n",
       "carheight          -0.107358  0.119336  \n",
       "curbweight         -0.797465  0.835305  \n",
       "enginesize         -0.677470  0.874145  \n",
       "boreratio          -0.587012  0.553173  \n",
       "stroke             -0.043931  0.079443  \n",
       "compressionratio    0.265201  0.067984  \n",
       "horsepower         -0.770544  0.808139  \n",
       "peakrpm            -0.054275 -0.085267  \n",
       "citympg             0.971337 -0.685751  \n",
       "highwaympg          1.000000 -0.697599  \n",
       "price              -0.697599  1.000000  "
      ]
     },
     "execution_count": 14,
     "metadata": {},
     "output_type": "execute_result"
    }
   ],
   "source": [
    "cormatrix=num.corr()# find the correlationship among the dataset\n",
    "cormatrix"
   ]
  },
  {
   "cell_type": "code",
   "execution_count": 15,
   "metadata": {
    "cell_id": "21d19c8a80794d9ba0554c422ea1b67d",
    "deepnote_cell_type": "code",
    "deepnote_to_be_reexecuted": false,
    "execution_millis": 1313,
    "execution_start": 1670310946608,
    "source_hash": "70fe7369",
    "tags": []
   },
   "outputs": [
    {
     "data": {
      "image/png": "[encoded data removed]",
      "text/plain": [
       "<Figure size 2000x2000 with 2 Axes>"
      ]
     },
     "metadata": {
      "image/png": {
       "height": 1695,
       "width": 1490
      }
     },
     "output_type": "display_data"
    }
   ],
   "source": [
    "plt.figure(figsize = (20,20))\n",
    "sns.heatmap(cormatrix, annot=True)\n",
    "plt.show()"
   ]
  },
  {
   "cell_type": "markdown",
   "metadata": {
    "cell_id": "ac24b9a16fd54cb58fea08726c2e154c",
    "deepnote_cell_type": "text-cell-p",
    "formattedRanges": [],
    "is_collapsed": false,
    "tags": []
   },
   "source": [
    "From this graph we can see the correlation between the two variables."
   ]
  },
  {
   "cell_type": "code",
   "execution_count": 16,
   "metadata": {
    "cell_id": "726e7661cc5041eba30bc35866f8569e",
    "deepnote_cell_type": "code",
    "deepnote_to_be_reexecuted": false,
    "execution_millis": 11,
    "execution_start": 1670310947917,
    "source_hash": "3fefc13e",
    "tags": []
   },
   "outputs": [],
   "source": [
    "df[\"price\"] = df[\"price\"].astype(int)"
   ]
  },
  {
   "cell_type": "code",
   "execution_count": 17,
   "metadata": {
    "cell_id": "b4596646bd874de2b972c6f939e547a7",
    "deepnote_cell_type": "code",
    "deepnote_to_be_reexecuted": false,
    "execution_millis": 110,
    "execution_start": 1670310947936,
    "source_hash": "935322ad",
    "tags": []
   },
   "outputs": [
    {
     "data": {
      "application/vnd.deepnote.dataframe.v3+json": {
       "column_count": 27,
       "columns": [
        {
         "dtype": "int64",
         "name": "car_ID",
         "stats": {
          "histogram": [
           {
            "bin_end": 21.4,
            "bin_start": 1,
            "count": 21
           },
           {
            "bin_end": 41.8,
            "bin_start": 21.4,
            "count": 20
           },
           {
            "bin_end": 62.199999999999996,
            "bin_start": 41.8,
            "count": 21
           },
           {
            "bin_end": 82.6,
            "bin_start": 62.199999999999996,
            "count": 20
           },
           {
            "bin_end": 103,
            "bin_start": 82.6,
            "count": 20
           },
           {
            "bin_end": 123.39999999999999,
            "bin_start": 103,
            "count": 21
           },
           {
            "bin_end": 143.79999999999998,
            "bin_start": 123.39999999999999,
            "count": 20
           },
           {
            "bin_end": 164.2,
            "bin_start": 143.79999999999998,
            "count": 21
           },
           {
            "bin_end": 184.6,
            "bin_start": 164.2,
            "count": 20
           },
           {
            "bin_end": 205,
            "bin_start": 184.6,
            "count": 21
           }
          ],
          "max": "205",
          "min": "1",
          "nan_count": 0,
          "unique_count": 205
         }
        },
        {
         "dtype": "int64",
         "name": "symboling",
         "stats": {
          "histogram": [
           {
            "bin_end": -1.5,
            "bin_start": -2,
            "count": 3
           },
           {
            "bin_end": -1,
            "bin_start": -1.5,
            "count": 0
           },
           {
            "bin_end": -0.5,
            "bin_start": -1,
            "count": 22
           },
           {
            "bin_end": 0,
            "bin_start": -0.5,
            "count": 0
           },
           {
            "bin_end": 0.5,
            "bin_start": 0,
            "count": 67
           },
           {
            "bin_end": 1,
            "bin_start": 0.5,
            "count": 0
           },
           {
            "bin_end": 1.5,
            "bin_start": 1,
            "count": 54
           },
           {
            "bin_end": 2,
            "bin_start": 1.5,
            "count": 0
           },
           {
            "bin_end": 2.5,
            "bin_start": 2,
            "count": 32
           },
           {
            "bin_end": 3,
            "bin_start": 2.5,
            "count": 27
           }
          ],
          "max": "3",
          "min": "-2",
          "nan_count": 0,
          "unique_count": 6
         }
        },
        {
         "dtype": "object",
         "name": "fueltype",
         "stats": {
          "categories": [
           {
            "count": 185,
            "name": "gas"
           },
           {
            "count": 20,
            "name": "diesel"
           }
          ],
          "nan_count": 0,
          "unique_count": 2
         }
        },
        {
         "dtype": "object",
         "name": "aspiration",
         "stats": {
          "categories": [
           {
            "count": 168,
            "name": "std"
           },
           {
            "count": 37,
            "name": "turbo"
           }
          ],
          "nan_count": 0,
          "unique_count": 2
         }
        },
        {
         "dtype": "object",
         "name": "doornumber",
         "stats": {
          "categories": [
           {
            "count": 115,
            "name": "four"
           },
           {
            "count": 90,
            "name": "two"
           }
          ],
          "nan_count": 0,
          "unique_count": 2
         }
        },
        {
         "dtype": "object",
         "name": "carbody",
         "stats": {
          "categories": [
           {
            "count": 96,
            "name": "sedan"
           },
           {
            "count": 70,
            "name": "hatchback"
           },
           {
            "count": 39,
            "name": "3 others"
           }
          ],
          "nan_count": 0,
          "unique_count": 5
         }
        },
        {
         "dtype": "object",
         "name": "drivewheel",
         "stats": {
          "categories": [
           {
            "count": 120,
            "name": "fwd"
           },
           {
            "count": 76,
            "name": "rwd"
           },
           {
            "count": 9,
            "name": "4wd"
           }
          ],
          "nan_count": 0,
          "unique_count": 3
         }
        },
        {
         "dtype": "object",
         "name": "enginelocation",
         "stats": {
          "categories": [
           {
            "count": 202,
            "name": "front"
           },
           {
            "count": 3,
            "name": "rear"
           }
          ],
          "nan_count": 0,
          "unique_count": 2
         }
        },
        {
         "dtype": "float64",
         "name": "wheelbase",
         "stats": {
          "histogram": [
           {
            "bin_end": 90.03,
            "bin_start": 86.6,
            "count": 8
           },
           {
            "bin_end": 93.46,
            "bin_start": 90.03,
            "count": 9
           },
           {
            "bin_end": 96.89,
            "bin_start": 93.46,
            "count": 83
           },
           {
            "bin_end": 100.32,
            "bin_start": 96.89,
            "count": 42
           },
           {
            "bin_end": 103.75,
            "bin_start": 100.32,
            "count": 24
           },
           {
            "bin_end": 107.18,
            "bin_start": 103.75,
            "count": 14
           },
           {
            "bin_end": 110.61,
            "bin_start": 107.18,
            "count": 15
           },
           {
            "bin_end": 114.04,
            "bin_start": 110.61,
            "count": 3
           },
           {
            "bin_end": 117.47,
            "bin_start": 114.04,
            "count": 6
           },
           {
            "bin_end": 120.9,
            "bin_start": 117.47,
            "count": 1
           }
          ],
          "max": "120.9",
          "min": "86.6",
          "nan_count": 0,
          "unique_count": 53
         }
        },
        {
         "dtype": "float64",
         "name": "carlength",
         "stats": {
          "histogram": [
           {
            "bin_end": 147.79999999999998,
            "bin_start": 141.1,
            "count": 3
           },
           {
            "bin_end": 154.5,
            "bin_start": 147.79999999999998,
            "count": 3
           },
           {
            "bin_end": 161.2,
            "bin_start": 154.5,
            "count": 29
           },
           {
            "bin_end": 167.9,
            "bin_start": 161.2,
            "count": 23
           },
           {
            "bin_end": 174.6,
            "bin_start": 167.9,
            "count": 54
           },
           {
            "bin_end": 181.3,
            "bin_start": 174.6,
            "count": 39
           },
           {
            "bin_end": 188,
            "bin_start": 181.3,
            "count": 23
           },
           {
            "bin_end": 194.7,
            "bin_start": 188,
            "count": 20
           },
           {
            "bin_end": 201.4,
            "bin_start": 194.7,
            "count": 8
           },
           {
            "bin_end": 208.1,
            "bin_start": 201.4,
            "count": 3
           }
          ],
          "max": "208.1",
          "min": "141.1",
          "nan_count": 0,
          "unique_count": 75
         }
        },
        {
         "dtype": "float64",
         "name": "carwidth",
         "stats": {
          "histogram": [
           {
            "bin_end": 61.5,
            "bin_start": 60.3,
            "count": 1
           },
           {
            "bin_end": 62.699999999999996,
            "bin_start": 61.5,
            "count": 2
           },
           {
            "bin_end": 63.9,
            "bin_start": 62.699999999999996,
            "count": 36
           },
           {
            "bin_end": 65.1,
            "bin_start": 63.9,
            "count": 39
           },
           {
            "bin_end": 66.3,
            "bin_start": 65.1,
            "count": 44
           },
           {
            "bin_end": 67.5,
            "bin_start": 66.3,
            "count": 42
           },
           {
            "bin_end": 68.7,
            "bin_start": 67.5,
            "count": 20
           },
           {
            "bin_end": 69.89999999999999,
            "bin_start": 68.7,
            "count": 7
           },
           {
            "bin_end": 71.1,
            "bin_start": 69.89999999999999,
            "count": 6
           },
           {
            "bin_end": 72.3,
            "bin_start": 71.1,
            "count": 8
           }
          ],
          "max": "72.3",
          "min": "60.3",
          "nan_count": 0,
          "unique_count": 44
         }
        },
        {
         "dtype": "float64",
         "name": "carheight",
         "stats": {
          "histogram": [
           {
            "bin_end": 49,
            "bin_start": 47.8,
            "count": 3
           },
           {
            "bin_end": 50.199999999999996,
            "bin_start": 49,
            "count": 9
           },
           {
            "bin_end": 51.4,
            "bin_start": 50.199999999999996,
            "count": 28
           },
           {
            "bin_end": 52.599999999999994,
            "bin_start": 51.4,
            "count": 25
           },
           {
            "bin_end": 53.8,
            "bin_start": 52.599999999999994,
            "count": 33
           },
           {
            "bin_end": 55,
            "bin_start": 53.8,
            "count": 41
           },
           {
            "bin_end": 56.199999999999996,
            "bin_start": 55,
            "count": 38
           },
           {
            "bin_end": 57.4,
            "bin_start": 56.199999999999996,
            "count": 15
           },
           {
            "bin_end": 58.599999999999994,
            "bin_start": 57.4,
            "count": 4
           },
           {
            "bin_end": 59.8,
            "bin_start": 58.599999999999994,
            "count": 9
           }
          ],
          "max": "59.8",
          "min": "47.8",
          "nan_count": 0,
          "unique_count": 49
         }
        },
        {
         "dtype": "int64",
         "name": "curbweight",
         "stats": {
          "histogram": [
           {
            "bin_end": 1745.8,
            "bin_start": 1488,
            "count": 2
           },
           {
            "bin_end": 2003.6,
            "bin_start": 1745.8,
            "count": 29
           },
           {
            "bin_end": 2261.4,
            "bin_start": 2003.6,
            "count": 33
           },
           {
            "bin_end": 2519.2,
            "bin_start": 2261.4,
            "count": 50
           },
           {
            "bin_end": 2777,
            "bin_start": 2519.2,
            "count": 25
           },
           {
            "bin_end": 3034.8,
            "bin_start": 2777,
            "count": 23
           },
           {
            "bin_end": 3292.6000000000004,
            "bin_start": 3034.8,
            "count": 26
           },
           {
            "bin_end": 3550.4,
            "bin_start": 3292.6000000000004,
            "count": 8
           },
           {
            "bin_end": 3808.2000000000003,
            "bin_start": 3550.4,
            "count": 5
           },
           {
            "bin_end": 4066,
            "bin_start": 3808.2000000000003,
            "count": 4
           }
          ],
          "max": "4066",
          "min": "1488",
          "nan_count": 0,
          "unique_count": 171
         }
        },
        {
         "dtype": "object",
         "name": "enginetype",
         "stats": {
          "categories": [
           {
            "count": 148,
            "name": "ohc"
           },
           {
            "count": 15,
            "name": "ohcf"
           },
           {
            "count": 42,
            "name": "5 others"
           }
          ],
          "nan_count": 0,
          "unique_count": 7
         }
        },
        {
         "dtype": "object",
         "name": "cylindernumber",
         "stats": {
          "categories": [
           {
            "count": 159,
            "name": "four"
           },
           {
            "count": 24,
            "name": "six"
           },
           {
            "count": 22,
            "name": "5 others"
           }
          ],
          "nan_count": 0,
          "unique_count": 7
         }
        },
        {
         "dtype": "int64",
         "name": "enginesize",
         "stats": {
          "histogram": [
           {
            "bin_end": 87.5,
            "bin_start": 61,
            "count": 6
           },
           {
            "bin_end": 114,
            "bin_start": 87.5,
            "count": 95
           },
           {
            "bin_end": 140.5,
            "bin_start": 114,
            "count": 46
           },
           {
            "bin_end": 167,
            "bin_start": 140.5,
            "count": 30
           },
           {
            "bin_end": 193.5,
            "bin_start": 167,
            "count": 14
           },
           {
            "bin_end": 220,
            "bin_start": 193.5,
            "count": 7
           },
           {
            "bin_end": 246.5,
            "bin_start": 220,
            "count": 2
           },
           {
            "bin_end": 273,
            "bin_start": 246.5,
            "count": 2
           },
           {
            "bin_end": 299.5,
            "bin_start": 273,
            "count": 0
           },
           {
            "bin_end": 326,
            "bin_start": 299.5,
            "count": 3
           }
          ],
          "max": "326",
          "min": "61",
          "nan_count": 0,
          "unique_count": 44
         }
        },
        {
         "dtype": "object",
         "name": "fuelsystem",
         "stats": {
          "categories": [
           {
            "count": 94,
            "name": "mpfi"
           },
           {
            "count": 66,
            "name": "2bbl"
           },
           {
            "count": 45,
            "name": "6 others"
           }
          ],
          "nan_count": 0,
          "unique_count": 8
         }
        },
        {
         "dtype": "float64",
         "name": "boreratio",
         "stats": {
          "histogram": [
           {
            "bin_end": 2.68,
            "bin_start": 2.54,
            "count": 1
           },
           {
            "bin_end": 2.82,
            "bin_start": 2.68,
            "count": 1
           },
           {
            "bin_end": 2.96,
            "bin_start": 2.82,
            "count": 8
           },
           {
            "bin_end": 3.1,
            "bin_start": 2.96,
            "count": 37
           },
           {
            "bin_end": 3.24,
            "bin_start": 3.1,
            "count": 40
           },
           {
            "bin_end": 3.38,
            "bin_start": 3.24,
            "count": 28
           },
           {
            "bin_end": 3.52,
            "bin_start": 3.38,
            "count": 27
           },
           {
            "bin_end": 3.66,
            "bin_start": 3.52,
            "count": 42
           },
           {
            "bin_end": 3.8,
            "bin_start": 3.66,
            "count": 17
           },
           {
            "bin_end": 3.94,
            "bin_start": 3.8,
            "count": 4
           }
          ],
          "max": "3.94",
          "min": "2.54",
          "nan_count": 0,
          "unique_count": 38
         }
        },
        {
         "dtype": "float64",
         "name": "stroke",
         "stats": {
          "histogram": [
           {
            "bin_end": 2.28,
            "bin_start": 2.07,
            "count": 3
           },
           {
            "bin_end": 2.4899999999999998,
            "bin_start": 2.28,
            "count": 1
           },
           {
            "bin_end": 2.7,
            "bin_start": 2.4899999999999998,
            "count": 13
           },
           {
            "bin_end": 2.91,
            "bin_start": 2.7,
            "count": 7
           },
           {
            "bin_end": 3.12,
            "bin_start": 2.91,
            "count": 30
           },
           {
            "bin_end": 3.33,
            "bin_start": 3.12,
            "count": 56
           },
           {
            "bin_end": 3.54,
            "bin_start": 3.33,
            "count": 71
           },
           {
            "bin_end": 3.75,
            "bin_start": 3.54,
            "count": 15
           },
           {
            "bin_end": 3.96,
            "bin_start": 3.75,
            "count": 7
           },
           {
            "bin_end": 4.17,
            "bin_start": 3.96,
            "count": 2
           }
          ],
          "max": "4.17",
          "min": "2.07",
          "nan_count": 0,
          "unique_count": 37
         }
        },
        {
         "dtype": "float64",
         "name": "compressionratio",
         "stats": {
          "histogram": [
           {
            "bin_end": 8.6,
            "bin_start": 7,
            "count": 51
           },
           {
            "bin_end": 10.2,
            "bin_start": 8.6,
            "count": 133
           },
           {
            "bin_end": 11.8,
            "bin_start": 10.2,
            "count": 1
           },
           {
            "bin_end": 13.4,
            "bin_start": 11.8,
            "count": 0
           },
           {
            "bin_end": 15,
            "bin_start": 13.4,
            "count": 0
           },
           {
            "bin_end": 16.6,
            "bin_start": 15,
            "count": 0
           },
           {
            "bin_end": 18.200000000000003,
            "bin_start": 16.6,
            "count": 0
           },
           {
            "bin_end": 19.8,
            "bin_start": 18.200000000000003,
            "count": 0
           },
           {
            "bin_end": 21.4,
            "bin_start": 19.8,
            "count": 5
           },
           {
            "bin_end": 23,
            "bin_start": 21.4,
            "count": 15
           }
          ],
          "max": "23.0",
          "min": "7.0",
          "nan_count": 0,
          "unique_count": 32
         }
        },
        {
         "dtype": "int64",
         "name": "horsepower",
         "stats": {
          "histogram": [
           {
            "bin_end": 72,
            "bin_start": 48,
            "count": 55
           },
           {
            "bin_end": 96,
            "bin_start": 72,
            "count": 51
           },
           {
            "bin_end": 120,
            "bin_start": 96,
            "count": 49
           },
           {
            "bin_end": 144,
            "bin_start": 120,
            "count": 13
           },
           {
            "bin_end": 168,
            "bin_start": 144,
            "count": 23
           },
           {
            "bin_end": 192,
            "bin_start": 168,
            "count": 8
           },
           {
            "bin_end": 216,
            "bin_start": 192,
            "count": 4
           },
           {
            "bin_end": 240,
            "bin_start": 216,
            "count": 0
           },
           {
            "bin_end": 264,
            "bin_start": 240,
            "count": 1
           },
           {
            "bin_end": 288,
            "bin_start": 264,
            "count": 1
           }
          ],
          "max": "288",
          "min": "48",
          "nan_count": 0,
          "unique_count": 59
         }
        },
        {
         "dtype": "int64",
         "name": "peakrpm",
         "stats": {
          "histogram": [
           {
            "bin_end": 4395,
            "bin_start": 4150,
            "count": 17
           },
           {
            "bin_end": 4640,
            "bin_start": 4395,
            "count": 10
           },
           {
            "bin_end": 4885,
            "bin_start": 4640,
            "count": 41
           },
           {
            "bin_end": 5130,
            "bin_start": 4885,
            "count": 33
           },
           {
            "bin_end": 5375,
            "bin_start": 5130,
            "count": 31
           },
           {
            "bin_end": 5620,
            "bin_start": 5375,
            "count": 51
           },
           {
            "bin_end": 5865,
            "bin_start": 5620,
            "count": 8
           },
           {
            "bin_end": 6110,
            "bin_start": 5865,
            "count": 12
           },
           {
            "bin_end": 6355,
            "bin_start": 6110,
            "count": 0
           },
           {
            "bin_end": 6600,
            "bin_start": 6355,
            "count": 2
           }
          ],
          "max": "6600",
          "min": "4150",
          "nan_count": 0,
          "unique_count": 23
         }
        },
        {
         "dtype": "int64",
         "name": "citympg",
         "stats": {
          "histogram": [
           {
            "bin_end": 16.6,
            "bin_start": 13,
            "count": 12
           },
           {
            "bin_end": 20.2,
            "bin_start": 16.6,
            "count": 46
           },
           {
            "bin_end": 23.8,
            "bin_start": 20.2,
            "count": 24
           },
           {
            "bin_end": 27.4,
            "bin_start": 23.8,
            "count": 56
           },
           {
            "bin_end": 31,
            "bin_start": 27.4,
            "count": 18
           },
           {
            "bin_end": 34.6,
            "bin_start": 31,
            "count": 31
           },
           {
            "bin_end": 38.2,
            "bin_start": 34.6,
            "count": 15
           },
           {
            "bin_end": 41.8,
            "bin_start": 38.2,
            "count": 0
           },
           {
            "bin_end": 45.4,
            "bin_start": 41.8,
            "count": 1
           },
           {
            "bin_end": 49,
            "bin_start": 45.4,
            "count": 2
           }
          ],
          "max": "49",
          "min": "13",
          "nan_count": 0,
          "unique_count": 29
         }
        },
        {
         "dtype": "int64",
         "name": "highwaympg",
         "stats": {
          "histogram": [
           {
            "bin_end": 19.8,
            "bin_start": 16,
            "count": 7
           },
           {
            "bin_end": 23.6,
            "bin_start": 19.8,
            "count": 17
           },
           {
            "bin_end": 27.4,
            "bin_start": 23.6,
            "count": 44
           },
           {
            "bin_end": 31.2,
            "bin_start": 27.4,
            "count": 47
           },
           {
            "bin_end": 35,
            "bin_start": 31.2,
            "count": 39
           },
           {
            "bin_end": 38.8,
            "bin_start": 35,
            "count": 32
           },
           {
            "bin_end": 42.599999999999994,
            "bin_start": 38.8,
            "count": 8
           },
           {
            "bin_end": 46.4,
            "bin_start": 42.599999999999994,
            "count": 6
           },
           {
            "bin_end": 50.199999999999996,
            "bin_start": 46.4,
            "count": 3
           },
           {
            "bin_end": 54,
            "bin_start": 50.199999999999996,
            "count": 2
           }
          ],
          "max": "54",
          "min": "16",
          "nan_count": 0,
          "unique_count": 30
         }
        },
        {
         "dtype": "int64",
         "name": "price",
         "stats": {
          "histogram": [
           {
            "bin_end": 9146.2,
            "bin_start": 5118,
            "count": 83
           },
           {
            "bin_end": 13174.4,
            "bin_start": 9146.2,
            "count": 45
           },
           {
            "bin_end": 17202.6,
            "bin_start": 13174.4,
            "count": 35
           },
           {
            "bin_end": 21230.8,
            "bin_start": 17202.6,
            "count": 18
           },
           {
            "bin_end": 25259,
            "bin_start": 21230.8,
            "count": 6
           },
           {
            "bin_end": 29287.199999999997,
            "bin_start": 25259,
            "count": 3
           },
           {
            "bin_end": 33315.399999999994,
            "bin_start": 29287.199999999997,
            "count": 5
           },
           {
            "bin_end": 37343.6,
            "bin_start": 33315.399999999994,
            "count": 7
           },
           {
            "bin_end": 41371.799999999996,
            "bin_start": 37343.6,
            "count": 2
           },
           {
            "bin_end": 45400,
            "bin_start": 41371.799999999996,
            "count": 1
           }
          ],
          "max": "45400",
          "min": "5118",
          "nan_count": 0,
          "unique_count": 189
         }
        },
        {
         "dtype": "object",
         "name": "Brand",
         "stats": {
          "categories": [
           {
            "count": 32,
            "name": "toyota"
           },
           {
            "count": 18,
            "name": "nissan"
           },
           {
            "count": 155,
            "name": "21 others"
           }
          ],
          "nan_count": 0,
          "unique_count": 23
         }
        },
        {
         "dtype": "category",
         "name": "price_level",
         "stats": {
          "categories": [
           {
            "count": 95,
            "name": "cheap"
           },
           {
            "count": 86,
            "name": "ordinary"
           },
           {
            "count": 24,
            "name": "expensive"
           }
          ],
          "nan_count": 0,
          "unique_count": 3
         }
        },
        {
         "dtype": "int64",
         "name": "_deepnote_index_column"
        }
       ],
       "row_count": 205,
       "rows": [
        {
         "Brand": "alfa-romeo",
         "_deepnote_index_column": "0",
         "aspiration": "std",
         "boreratio": "3.47",
         "car_ID": "1",
         "carbody": "convertible",
         "carheight": "48.8",
         "carlength": "168.8",
         "carwidth": "64.1",
         "citympg": "21",
         "compressionratio": "9.0",
         "curbweight": "2548",
         "cylindernumber": "four",
         "doornumber": "two",
         "drivewheel": "rwd",
         "enginelocation": "front",
         "enginesize": "130",
         "enginetype": "dohc",
         "fuelsystem": "mpfi",
         "fueltype": "gas",
         "highwaympg": "27",
         "horsepower": "111",
         "peakrpm": "5000",
         "price": "13495",
         "price_level": "ordinary",
         "stroke": "2.68",
         "symboling": "3",
         "wheelbase": "88.6"
        },
        {
         "Brand": "alfa-romeo",
         "_deepnote_index_column": "1",
         "aspiration": "std",
         "boreratio": "3.47",
         "car_ID": "2",
         "carbody": "convertible",
         "carheight": "48.8",
         "carlength": "168.8",
         "carwidth": "64.1",
         "citympg": "21",
         "compressionratio": "9.0",
         "curbweight": "2548",
         "cylindernumber": "four",
         "doornumber": "two",
         "drivewheel": "rwd",
         "enginelocation": "front",
         "enginesize": "130",
         "enginetype": "dohc",
         "fuelsystem": "mpfi",
         "fueltype": "gas",
         "highwaympg": "27",
         "horsepower": "111",
         "peakrpm": "5000",
         "price": "16500",
         "price_level": "ordinary",
         "stroke": "2.68",
         "symboling": "3",
         "wheelbase": "88.6"
        },
        {
         "Brand": "alfa-romeo",
         "_deepnote_index_column": "2",
         "aspiration": "std",
         "boreratio": "2.68",
         "car_ID": "3",
         "carbody": "hatchback",
         "carheight": "52.4",
         "carlength": "171.2",
         "carwidth": "65.5",
         "citympg": "19",
         "compressionratio": "9.0",
         "curbweight": "2823",
         "cylindernumber": "six",
         "doornumber": "two",
         "drivewheel": "rwd",
         "enginelocation": "front",
         "enginesize": "152",
         "enginetype": "ohcv",
         "fuelsystem": "mpfi",
         "fueltype": "gas",
         "highwaympg": "26",
         "horsepower": "154",
         "peakrpm": "5000",
         "price": "16500",
         "price_level": "ordinary",
         "stroke": "3.47",
         "symboling": "1",
         "wheelbase": "94.5"
        },
        {
         "Brand": "audi",
         "_deepnote_index_column": "3",
         "aspiration": "std",
         "boreratio": "3.19",
         "car_ID": "4",
         "carbody": "sedan",
         "carheight": "54.3",
         "carlength": "176.6",
         "carwidth": "66.2",
         "citympg": "24",
         "compressionratio": "10.0",
         "curbweight": "2337",
         "cylindernumber": "four",
         "doornumber": "four",
         "drivewheel": "fwd",
         "enginelocation": "front",
         "enginesize": "109",
         "enginetype": "ohc",
         "fuelsystem": "mpfi",
         "fueltype": "gas",
         "highwaympg": "30",
         "horsepower": "102",
         "peakrpm": "5500",
         "price": "13950",
         "price_level": "ordinary",
         "stroke": "3.4",
         "symboling": "2",
         "wheelbase": "99.8"
        },
        {
         "Brand": "audi",
         "_deepnote_index_column": "4",
         "aspiration": "std",
         "boreratio": "3.19",
         "car_ID": "5",
         "carbody": "sedan",
         "carheight": "54.3",
         "carlength": "176.6",
         "carwidth": "66.4",
         "citympg": "18",
         "compressionratio": "8.0",
         "curbweight": "2824",
         "cylindernumber": "five",
         "doornumber": "four",
         "drivewheel": "4wd",
         "enginelocation": "front",
         "enginesize": "136",
         "enginetype": "ohc",
         "fuelsystem": "mpfi",
         "fueltype": "gas",
         "highwaympg": "22",
         "horsepower": "115",
         "peakrpm": "5500",
         "price": "17450",
         "price_level": "ordinary",
         "stroke": "3.4",
         "symboling": "2",
         "wheelbase": "99.4"
        },
        {
         "Brand": "audi",
         "_deepnote_index_column": "5",
         "aspiration": "std",
         "boreratio": "3.19",
         "car_ID": "6",
         "carbody": "sedan",
         "carheight": "53.1",
         "carlength": "177.3",
         "carwidth": "66.3",
         "citympg": "19",
         "compressionratio": "8.5",
         "curbweight": "2507",
         "cylindernumber": "five",
         "doornumber": "two",
         "drivewheel": "fwd",
         "enginelocation": "front",
         "enginesize": "136",
         "enginetype": "ohc",
         "fuelsystem": "mpfi",
         "fueltype": "gas",
         "highwaympg": "25",
         "horsepower": "110",
         "peakrpm": "5500",
         "price": "15250",
         "price_level": "ordinary",
         "stroke": "3.4",
         "symboling": "2",
         "wheelbase": "99.8"
        },
        {
         "Brand": "audi",
         "_deepnote_index_column": "6",
         "aspiration": "std",
         "boreratio": "3.19",
         "car_ID": "7",
         "carbody": "sedan",
         "carheight": "55.7",
         "carlength": "192.7",
         "carwidth": "71.4",
         "citympg": "19",
         "compressionratio": "8.5",
         "curbweight": "2844",
         "cylindernumber": "five",
         "doornumber": "four",
         "drivewheel": "fwd",
         "enginelocation": "front",
         "enginesize": "136",
         "enginetype": "ohc",
         "fuelsystem": "mpfi",
         "fueltype": "gas",
         "highwaympg": "25",
         "horsepower": "110",
         "peakrpm": "5500",
         "price": "17710",
         "price_level": "ordinary",
         "stroke": "3.4",
         "symboling": "1",
         "wheelbase": "105.8"
        },
        {
         "Brand": "audi",
         "_deepnote_index_column": "7",
         "aspiration": "std",
         "boreratio": "3.19",
         "car_ID": "8",
         "carbody": "wagon",
         "carheight": "55.7",
         "carlength": "192.7",
         "carwidth": "71.4",
         "citympg": "19",
         "compressionratio": "8.5",
         "curbweight": "2954",
         "cylindernumber": "five",
         "doornumber": "four",
         "drivewheel": "fwd",
         "enginelocation": "front",
         "enginesize": "136",
         "enginetype": "ohc",
         "fuelsystem": "mpfi",
         "fueltype": "gas",
         "highwaympg": "25",
         "horsepower": "110",
         "peakrpm": "5500",
         "price": "18920",
         "price_level": "ordinary",
         "stroke": "3.4",
         "symboling": "1",
         "wheelbase": "105.8"
        },
        {
         "Brand": "audi",
         "_deepnote_index_column": "8",
         "aspiration": "turbo",
         "boreratio": "3.13",
         "car_ID": "9",
         "carbody": "sedan",
         "carheight": "55.9",
         "carlength": "192.7",
         "carwidth": "71.4",
         "citympg": "17",
         "compressionratio": "8.3",
         "curbweight": "3086",
         "cylindernumber": "five",
         "doornumber": "four",
         "drivewheel": "fwd",
         "enginelocation": "front",
         "enginesize": "131",
         "enginetype": "ohc",
         "fuelsystem": "mpfi",
         "fueltype": "gas",
         "highwaympg": "20",
         "horsepower": "140",
         "peakrpm": "5500",
         "price": "23875",
         "price_level": "ordinary",
         "stroke": "3.4",
         "symboling": "1",
         "wheelbase": "105.8"
        },
        {
         "Brand": "audi",
         "_deepnote_index_column": "9",
         "aspiration": "turbo",
         "boreratio": "3.13",
         "car_ID": "10",
         "carbody": "hatchback",
         "carheight": "52.0",
         "carlength": "178.2",
         "carwidth": "67.9",
         "citympg": "16",
         "compressionratio": "7.0",
         "curbweight": "3053",
         "cylindernumber": "five",
         "doornumber": "two",
         "drivewheel": "4wd",
         "enginelocation": "front",
         "enginesize": "131",
         "enginetype": "ohc",
         "fuelsystem": "mpfi",
         "fueltype": "gas",
         "highwaympg": "22",
         "horsepower": "160",
         "peakrpm": "5500",
         "price": "17859",
         "price_level": "ordinary",
         "stroke": "3.4",
         "symboling": "0",
         "wheelbase": "99.5"
        }
       ]
      },
      "text/html": [
       "<div>\n",
       "<style scoped>\n",
       "    .dataframe tbody tr th:only-of-type {\n",
       "        vertical-align: middle;\n",
       "    }\n",
       "\n",
       "    .dataframe tbody tr th {\n",
       "        vertical-align: top;\n",
       "    }\n",
       "\n",
       "    .dataframe thead th {\n",
       "        text-align: right;\n",
       "    }\n",
       "</style>\n",
       "<table border=\"1\" class=\"dataframe\">\n",
       "  <thead>\n",
       "    <tr style=\"text-align: right;\">\n",
       "      <th></th>\n",
       "      <th>car_ID</th>\n",
       "      <th>symboling</th>\n",
       "      <th>fueltype</th>\n",
       "      <th>aspiration</th>\n",
       "      <th>doornumber</th>\n",
       "      <th>carbody</th>\n",
       "      <th>drivewheel</th>\n",
       "      <th>enginelocation</th>\n",
       "      <th>wheelbase</th>\n",
       "      <th>carlength</th>\n",
       "      <th>...</th>\n",
       "      <th>boreratio</th>\n",
       "      <th>stroke</th>\n",
       "      <th>compressionratio</th>\n",
       "      <th>horsepower</th>\n",
       "      <th>peakrpm</th>\n",
       "      <th>citympg</th>\n",
       "      <th>highwaympg</th>\n",
       "      <th>price</th>\n",
       "      <th>Brand</th>\n",
       "      <th>price_level</th>\n",
       "    </tr>\n",
       "  </thead>\n",
       "  <tbody>\n",
       "    <tr>\n",
       "      <th>0</th>\n",
       "      <td>1</td>\n",
       "      <td>3</td>\n",
       "      <td>gas</td>\n",
       "      <td>std</td>\n",
       "      <td>two</td>\n",
       "      <td>convertible</td>\n",
       "      <td>rwd</td>\n",
       "      <td>front</td>\n",
       "      <td>88.6</td>\n",
       "      <td>168.8</td>\n",
       "      <td>...</td>\n",
       "      <td>3.47</td>\n",
       "      <td>2.68</td>\n",
       "      <td>9.0</td>\n",
       "      <td>111</td>\n",
       "      <td>5000</td>\n",
       "      <td>21</td>\n",
       "      <td>27</td>\n",
       "      <td>13495</td>\n",
       "      <td>alfa-romeo</td>\n",
       "      <td>ordinary</td>\n",
       "    </tr>\n",
       "    <tr>\n",
       "      <th>1</th>\n",
       "      <td>2</td>\n",
       "      <td>3</td>\n",
       "      <td>gas</td>\n",
       "      <td>std</td>\n",
       "      <td>two</td>\n",
       "      <td>convertible</td>\n",
       "      <td>rwd</td>\n",
       "      <td>front</td>\n",
       "      <td>88.6</td>\n",
       "      <td>168.8</td>\n",
       "      <td>...</td>\n",
       "      <td>3.47</td>\n",
       "      <td>2.68</td>\n",
       "      <td>9.0</td>\n",
       "      <td>111</td>\n",
       "      <td>5000</td>\n",
       "      <td>21</td>\n",
       "      <td>27</td>\n",
       "      <td>16500</td>\n",
       "      <td>alfa-romeo</td>\n",
       "      <td>ordinary</td>\n",
       "    </tr>\n",
       "    <tr>\n",
       "      <th>2</th>\n",
       "      <td>3</td>\n",
       "      <td>1</td>\n",
       "      <td>gas</td>\n",
       "      <td>std</td>\n",
       "      <td>two</td>\n",
       "      <td>hatchback</td>\n",
       "      <td>rwd</td>\n",
       "      <td>front</td>\n",
       "      <td>94.5</td>\n",
       "      <td>171.2</td>\n",
       "      <td>...</td>\n",
       "      <td>2.68</td>\n",
       "      <td>3.47</td>\n",
       "      <td>9.0</td>\n",
       "      <td>154</td>\n",
       "      <td>5000</td>\n",
       "      <td>19</td>\n",
       "      <td>26</td>\n",
       "      <td>16500</td>\n",
       "      <td>alfa-romeo</td>\n",
       "      <td>ordinary</td>\n",
       "    </tr>\n",
       "    <tr>\n",
       "      <th>3</th>\n",
       "      <td>4</td>\n",
       "      <td>2</td>\n",
       "      <td>gas</td>\n",
       "      <td>std</td>\n",
       "      <td>four</td>\n",
       "      <td>sedan</td>\n",
       "      <td>fwd</td>\n",
       "      <td>front</td>\n",
       "      <td>99.8</td>\n",
       "      <td>176.6</td>\n",
       "      <td>...</td>\n",
       "      <td>3.19</td>\n",
       "      <td>3.40</td>\n",
       "      <td>10.0</td>\n",
       "      <td>102</td>\n",
       "      <td>5500</td>\n",
       "      <td>24</td>\n",
       "      <td>30</td>\n",
       "      <td>13950</td>\n",
       "      <td>audi</td>\n",
       "      <td>ordinary</td>\n",
       "    </tr>\n",
       "    <tr>\n",
       "      <th>4</th>\n",
       "      <td>5</td>\n",
       "      <td>2</td>\n",
       "      <td>gas</td>\n",
       "      <td>std</td>\n",
       "      <td>four</td>\n",
       "      <td>sedan</td>\n",
       "      <td>4wd</td>\n",
       "      <td>front</td>\n",
       "      <td>99.4</td>\n",
       "      <td>176.6</td>\n",
       "      <td>...</td>\n",
       "      <td>3.19</td>\n",
       "      <td>3.40</td>\n",
       "      <td>8.0</td>\n",
       "      <td>115</td>\n",
       "      <td>5500</td>\n",
       "      <td>18</td>\n",
       "      <td>22</td>\n",
       "      <td>17450</td>\n",
       "      <td>audi</td>\n",
       "      <td>ordinary</td>\n",
       "    </tr>\n",
       "    <tr>\n",
       "      <th>...</th>\n",
       "      <td>...</td>\n",
       "      <td>...</td>\n",
       "      <td>...</td>\n",
       "      <td>...</td>\n",
       "      <td>...</td>\n",
       "      <td>...</td>\n",
       "      <td>...</td>\n",
       "      <td>...</td>\n",
       "      <td>...</td>\n",
       "      <td>...</td>\n",
       "      <td>...</td>\n",
       "      <td>...</td>\n",
       "      <td>...</td>\n",
       "      <td>...</td>\n",
       "      <td>...</td>\n",
       "      <td>...</td>\n",
       "      <td>...</td>\n",
       "      <td>...</td>\n",
       "      <td>...</td>\n",
       "      <td>...</td>\n",
       "      <td>...</td>\n",
       "    </tr>\n",
       "    <tr>\n",
       "      <th>200</th>\n",
       "      <td>201</td>\n",
       "      <td>-1</td>\n",
       "      <td>gas</td>\n",
       "      <td>std</td>\n",
       "      <td>four</td>\n",
       "      <td>sedan</td>\n",
       "      <td>rwd</td>\n",
       "      <td>front</td>\n",
       "      <td>109.1</td>\n",
       "      <td>188.8</td>\n",
       "      <td>...</td>\n",
       "      <td>3.78</td>\n",
       "      <td>3.15</td>\n",
       "      <td>9.5</td>\n",
       "      <td>114</td>\n",
       "      <td>5400</td>\n",
       "      <td>23</td>\n",
       "      <td>28</td>\n",
       "      <td>16845</td>\n",
       "      <td>volvo</td>\n",
       "      <td>ordinary</td>\n",
       "    </tr>\n",
       "    <tr>\n",
       "      <th>201</th>\n",
       "      <td>202</td>\n",
       "      <td>-1</td>\n",
       "      <td>gas</td>\n",
       "      <td>turbo</td>\n",
       "      <td>four</td>\n",
       "      <td>sedan</td>\n",
       "      <td>rwd</td>\n",
       "      <td>front</td>\n",
       "      <td>109.1</td>\n",
       "      <td>188.8</td>\n",
       "      <td>...</td>\n",
       "      <td>3.78</td>\n",
       "      <td>3.15</td>\n",
       "      <td>8.7</td>\n",
       "      <td>160</td>\n",
       "      <td>5300</td>\n",
       "      <td>19</td>\n",
       "      <td>25</td>\n",
       "      <td>19045</td>\n",
       "      <td>volvo</td>\n",
       "      <td>ordinary</td>\n",
       "    </tr>\n",
       "    <tr>\n",
       "      <th>202</th>\n",
       "      <td>203</td>\n",
       "      <td>-1</td>\n",
       "      <td>gas</td>\n",
       "      <td>std</td>\n",
       "      <td>four</td>\n",
       "      <td>sedan</td>\n",
       "      <td>rwd</td>\n",
       "      <td>front</td>\n",
       "      <td>109.1</td>\n",
       "      <td>188.8</td>\n",
       "      <td>...</td>\n",
       "      <td>3.58</td>\n",
       "      <td>2.87</td>\n",
       "      <td>8.8</td>\n",
       "      <td>134</td>\n",
       "      <td>5500</td>\n",
       "      <td>18</td>\n",
       "      <td>23</td>\n",
       "      <td>21485</td>\n",
       "      <td>volvo</td>\n",
       "      <td>ordinary</td>\n",
       "    </tr>\n",
       "    <tr>\n",
       "      <th>203</th>\n",
       "      <td>204</td>\n",
       "      <td>-1</td>\n",
       "      <td>diesel</td>\n",
       "      <td>turbo</td>\n",
       "      <td>four</td>\n",
       "      <td>sedan</td>\n",
       "      <td>rwd</td>\n",
       "      <td>front</td>\n",
       "      <td>109.1</td>\n",
       "      <td>188.8</td>\n",
       "      <td>...</td>\n",
       "      <td>3.01</td>\n",
       "      <td>3.40</td>\n",
       "      <td>23.0</td>\n",
       "      <td>106</td>\n",
       "      <td>4800</td>\n",
       "      <td>26</td>\n",
       "      <td>27</td>\n",
       "      <td>22470</td>\n",
       "      <td>volvo</td>\n",
       "      <td>ordinary</td>\n",
       "    </tr>\n",
       "    <tr>\n",
       "      <th>204</th>\n",
       "      <td>205</td>\n",
       "      <td>-1</td>\n",
       "      <td>gas</td>\n",
       "      <td>turbo</td>\n",
       "      <td>four</td>\n",
       "      <td>sedan</td>\n",
       "      <td>rwd</td>\n",
       "      <td>front</td>\n",
       "      <td>109.1</td>\n",
       "      <td>188.8</td>\n",
       "      <td>...</td>\n",
       "      <td>3.78</td>\n",
       "      <td>3.15</td>\n",
       "      <td>9.5</td>\n",
       "      <td>114</td>\n",
       "      <td>5400</td>\n",
       "      <td>19</td>\n",
       "      <td>25</td>\n",
       "      <td>22625</td>\n",
       "      <td>volvo</td>\n",
       "      <td>ordinary</td>\n",
       "    </tr>\n",
       "  </tbody>\n",
       "</table>\n",
       "<p>205 rows × 27 columns</p>\n",
       "</div>"
      ],
      "text/plain": [
       "     car_ID  symboling fueltype aspiration doornumber      carbody drivewheel  \\\n",
       "0         1          3      gas        std        two  convertible        rwd   \n",
       "1         2          3      gas        std        two  convertible        rwd   \n",
       "2         3          1      gas        std        two    hatchback        rwd   \n",
       "3         4          2      gas        std       four        sedan        fwd   \n",
       "4         5          2      gas        std       four        sedan        4wd   \n",
       "..      ...        ...      ...        ...        ...          ...        ...   \n",
       "200     201         -1      gas        std       four        sedan        rwd   \n",
       "201     202         -1      gas      turbo       four        sedan        rwd   \n",
       "202     203         -1      gas        std       four        sedan        rwd   \n",
       "203     204         -1   diesel      turbo       four        sedan        rwd   \n",
       "204     205         -1      gas      turbo       four        sedan        rwd   \n",
       "\n",
       "    enginelocation  wheelbase  carlength  ...  boreratio  stroke  \\\n",
       "0            front       88.6      168.8  ...       3.47    2.68   \n",
       "1            front       88.6      168.8  ...       3.47    2.68   \n",
       "2            front       94.5      171.2  ...       2.68    3.47   \n",
       "3            front       99.8      176.6  ...       3.19    3.40   \n",
       "4            front       99.4      176.6  ...       3.19    3.40   \n",
       "..             ...        ...        ...  ...        ...     ...   \n",
       "200          front      109.1      188.8  ...       3.78    3.15   \n",
       "201          front      109.1      188.8  ...       3.78    3.15   \n",
       "202          front      109.1      188.8  ...       3.58    2.87   \n",
       "203          front      109.1      188.8  ...       3.01    3.40   \n",
       "204          front      109.1      188.8  ...       3.78    3.15   \n",
       "\n",
       "     compressionratio horsepower peakrpm  citympg highwaympg  price  \\\n",
       "0                 9.0        111    5000       21         27  13495   \n",
       "1                 9.0        111    5000       21         27  16500   \n",
       "2                 9.0        154    5000       19         26  16500   \n",
       "3                10.0        102    5500       24         30  13950   \n",
       "4                 8.0        115    5500       18         22  17450   \n",
       "..                ...        ...     ...      ...        ...    ...   \n",
       "200               9.5        114    5400       23         28  16845   \n",
       "201               8.7        160    5300       19         25  19045   \n",
       "202               8.8        134    5500       18         23  21485   \n",
       "203              23.0        106    4800       26         27  22470   \n",
       "204               9.5        114    5400       19         25  22625   \n",
       "\n",
       "          Brand  price_level  \n",
       "0    alfa-romeo     ordinary  \n",
       "1    alfa-romeo     ordinary  \n",
       "2    alfa-romeo     ordinary  \n",
       "3          audi     ordinary  \n",
       "4          audi     ordinary  \n",
       "..          ...          ...  \n",
       "200       volvo     ordinary  \n",
       "201       volvo     ordinary  \n",
       "202       volvo     ordinary  \n",
       "203       volvo     ordinary  \n",
       "204       volvo     ordinary  \n",
       "\n",
       "[205 rows x 27 columns]"
      ]
     },
     "execution_count": 17,
     "metadata": {},
     "output_type": "execute_result"
    }
   ],
   "source": [
    "df2 = df.copy()\n",
    "df2 = df2.merge(avg.reset_index(),how=\"left\",on= \"Brand\")\n",
    "bins = [0,10000,20000,40000]\n",
    "label = [\"cheap\",\"ordinary\",\"expensive\"]\n",
    "df[\"price_level\"] = pd.cut(df2[\"price_y\"],bins,right=False,labels=label)\n",
    "df"
   ]
  },
  {
   "cell_type": "markdown",
   "metadata": {
    "cell_id": "07fd6fdbbd334404a4c0ce27e3468427",
    "deepnote_cell_type": "text-cell-p",
    "formattedRanges": [],
    "is_collapsed": false,
    "tags": []
   },
   "source": [
    "The above are car brands in the same price range based on their average price."
   ]
  },
  {
   "cell_type": "code",
   "execution_count": 18,
   "metadata": {
    "cell_id": "363aa76b88424fdaac89bddd7f50f544",
    "deepnote_cell_type": "code",
    "deepnote_to_be_reexecuted": false,
    "execution_millis": 5,
    "execution_start": 1670310948046,
    "source_hash": "fd23a79a",
    "tags": []
   },
   "outputs": [
    {
     "name": "stdout",
     "output_type": "stream",
     "text": [
      "price               1.000000\n",
      "enginesize          0.874145\n",
      "curbweight          0.835305\n",
      "horsepower          0.808139\n",
      "carwidth            0.759325\n",
      "carlength           0.682920\n",
      "wheelbase           0.577816\n",
      "boreratio           0.553173\n",
      "carheight           0.119336\n",
      "stroke              0.079443\n",
      "compressionratio    0.067984\n",
      "symboling          -0.079978\n",
      "peakrpm            -0.085267\n",
      "citympg            -0.685751\n",
      "highwaympg         -0.697599\n",
      "Name: price, dtype: float64\n"
     ]
    }
   ],
   "source": [
    "cormatrix.sort_values([\"price\"], ascending = False, inplace = True)\n",
    "print(cormatrix.price)"
   ]
  },
  {
   "cell_type": "markdown",
   "metadata": {
    "cell_id": "9c320f74348d4fc89974b781e2f3cc2f",
    "deepnote_cell_type": "text-cell-p",
    "formattedRanges": [],
    "is_collapsed": false,
    "tags": []
   },
   "source": [
    "We find a strong positive correlation between enginesize, curbweight, horsepower, carwidth, carlength and car price, while a strong negative correlation between citympg, highwaympg and car price.（Positive correlation: When one variable increases, another will also increase; Negative correlation: An increase in one variable and a decrease in another.）"
   ]
  },
  {
   "cell_type": "markdown",
   "metadata": {
    "cell_id": "b328e9b17b9f413da588e4968e23221f",
    "deepnote_cell_type": "text-cell-h3",
    "formattedRanges": [],
    "is_collapsed": false,
    "tags": []
   },
   "source": [
    "### Create Linear Regression for the above 7 factors"
   ]
  },
  {
   "cell_type": "code",
   "execution_count": 19,
   "metadata": {
    "cell_id": "afffb4614c744345acc968830191e313",
    "deepnote_cell_type": "code",
    "deepnote_to_be_reexecuted": false,
    "execution_millis": 11,
    "execution_start": 1670310948056,
    "source_hash": "e4870977",
    "tags": []
   },
   "outputs": [
    {
     "data": {
      "text/plain": [
       "curbweight      3.083904\n",
       "enginesize     83.155749\n",
       "horsepower     47.807804\n",
       "carwidth      630.832670\n",
       "carlength     -31.697844\n",
       "citympg       -61.820861\n",
       "highwaympg     78.983351\n",
       "dtype: float64"
      ]
     },
     "execution_count": 19,
     "metadata": {},
     "output_type": "execute_result"
    }
   ],
   "source": [
    "reg = LinearRegression()\n",
    "cols=['curbweight','enginesize','horsepower','carwidth','carlength','citympg','highwaympg']\n",
    "reg.fit(df[cols],df[\"price\"])\n",
    "pd.Series(reg.coef_,index=cols)"
   ]
  },
  {
   "cell_type": "code",
   "execution_count": 20,
   "metadata": {
    "cell_id": "2b1d94b6c8384185954689481afb8619",
    "deepnote_cell_type": "code",
    "deepnote_to_be_reexecuted": false,
    "execution_millis": 7,
    "execution_start": 1670310948069,
    "source_hash": "1661cbe7",
    "tags": []
   },
   "outputs": [
    {
     "data": {
      "text/plain": [
       "-47064.65162829726"
      ]
     },
     "execution_count": 20,
     "metadata": {},
     "output_type": "execute_result"
    }
   ],
   "source": [
    "reg.intercept_"
   ]
  },
  {
   "cell_type": "code",
   "execution_count": 21,
   "metadata": {
    "cell_id": "cd7fb01d65b6479cacad4d2e1ca44c0d",
    "deepnote_cell_type": "code",
    "deepnote_to_be_reexecuted": false,
    "execution_millis": 7,
    "execution_start": 1670310948107,
    "source_hash": "c0bd65f9",
    "tags": []
   },
   "outputs": [
    {
     "data": {
      "text/plain": [
       "array([  3.08390409,  83.155749  ,  47.80780381, 630.83267019,\n",
       "       -31.69784366, -61.82086051,  78.98335081])"
      ]
     },
     "execution_count": 21,
     "metadata": {},
     "output_type": "execute_result"
    }
   ],
   "source": [
    "reg.coef_"
   ]
  },
  {
   "cell_type": "code",
   "execution_count": 22,
   "metadata": {
    "cell_id": "9d3cf830c76c446d87eac17630dcba04",
    "deepnote_cell_type": "code",
    "deepnote_to_be_reexecuted": false,
    "execution_millis": 89,
    "execution_start": 1670310948119,
    "source_hash": "3a6e3d43",
    "tags": []
   },
   "outputs": [
    {
     "data": {
      "application/vnd.deepnote.dataframe.v3+json": {
       "column_count": 28,
       "columns": [
        {
         "dtype": "int64",
         "name": "car_ID",
         "stats": {
          "histogram": [
           {
            "bin_end": 21.4,
            "bin_start": 1,
            "count": 21
           },
           {
            "bin_end": 41.8,
            "bin_start": 21.4,
            "count": 20
           },
           {
            "bin_end": 62.199999999999996,
            "bin_start": 41.8,
            "count": 21
           },
           {
            "bin_end": 82.6,
            "bin_start": 62.199999999999996,
            "count": 20
           },
           {
            "bin_end": 103,
            "bin_start": 82.6,
            "count": 20
           },
           {
            "bin_end": 123.39999999999999,
            "bin_start": 103,
            "count": 21
           },
           {
            "bin_end": 143.79999999999998,
            "bin_start": 123.39999999999999,
            "count": 20
           },
           {
            "bin_end": 164.2,
            "bin_start": 143.79999999999998,
            "count": 21
           },
           {
            "bin_end": 184.6,
            "bin_start": 164.2,
            "count": 20
           },
           {
            "bin_end": 205,
            "bin_start": 184.6,
            "count": 21
           }
          ],
          "max": "205",
          "min": "1",
          "nan_count": 0,
          "unique_count": 205
         }
        },
        {
         "dtype": "int64",
         "name": "symboling",
         "stats": {
          "histogram": [
           {
            "bin_end": -1.5,
            "bin_start": -2,
            "count": 3
           },
           {
            "bin_end": -1,
            "bin_start": -1.5,
            "count": 0
           },
           {
            "bin_end": -0.5,
            "bin_start": -1,
            "count": 22
           },
           {
            "bin_end": 0,
            "bin_start": -0.5,
            "count": 0
           },
           {
            "bin_end": 0.5,
            "bin_start": 0,
            "count": 67
           },
           {
            "bin_end": 1,
            "bin_start": 0.5,
            "count": 0
           },
           {
            "bin_end": 1.5,
            "bin_start": 1,
            "count": 54
           },
           {
            "bin_end": 2,
            "bin_start": 1.5,
            "count": 0
           },
           {
            "bin_end": 2.5,
            "bin_start": 2,
            "count": 32
           },
           {
            "bin_end": 3,
            "bin_start": 2.5,
            "count": 27
           }
          ],
          "max": "3",
          "min": "-2",
          "nan_count": 0,
          "unique_count": 6
         }
        },
        {
         "dtype": "object",
         "name": "fueltype",
         "stats": {
          "categories": [
           {
            "count": 185,
            "name": "gas"
           },
           {
            "count": 20,
            "name": "diesel"
           }
          ],
          "nan_count": 0,
          "unique_count": 2
         }
        },
        {
         "dtype": "object",
         "name": "aspiration",
         "stats": {
          "categories": [
           {
            "count": 168,
            "name": "std"
           },
           {
            "count": 37,
            "name": "turbo"
           }
          ],
          "nan_count": 0,
          "unique_count": 2
         }
        },
        {
         "dtype": "object",
         "name": "doornumber",
         "stats": {
          "categories": [
           {
            "count": 115,
            "name": "four"
           },
           {
            "count": 90,
            "name": "two"
           }
          ],
          "nan_count": 0,
          "unique_count": 2
         }
        },
        {
         "dtype": "object",
         "name": "carbody",
         "stats": {
          "categories": [
           {
            "count": 96,
            "name": "sedan"
           },
           {
            "count": 70,
            "name": "hatchback"
           },
           {
            "count": 39,
            "name": "3 others"
           }
          ],
          "nan_count": 0,
          "unique_count": 5
         }
        },
        {
         "dtype": "object",
         "name": "drivewheel",
         "stats": {
          "categories": [
           {
            "count": 120,
            "name": "fwd"
           },
           {
            "count": 76,
            "name": "rwd"
           },
           {
            "count": 9,
            "name": "4wd"
           }
          ],
          "nan_count": 0,
          "unique_count": 3
         }
        },
        {
         "dtype": "object",
         "name": "enginelocation",
         "stats": {
          "categories": [
           {
            "count": 202,
            "name": "front"
           },
           {
            "count": 3,
            "name": "rear"
           }
          ],
          "nan_count": 0,
          "unique_count": 2
         }
        },
        {
         "dtype": "float64",
         "name": "wheelbase",
         "stats": {
          "histogram": [
           {
            "bin_end": 90.03,
            "bin_start": 86.6,
            "count": 8
           },
           {
            "bin_end": 93.46,
            "bin_start": 90.03,
            "count": 9
           },
           {
            "bin_end": 96.89,
            "bin_start": 93.46,
            "count": 83
           },
           {
            "bin_end": 100.32,
            "bin_start": 96.89,
            "count": 42
           },
           {
            "bin_end": 103.75,
            "bin_start": 100.32,
            "count": 24
           },
           {
            "bin_end": 107.18,
            "bin_start": 103.75,
            "count": 14
           },
           {
            "bin_end": 110.61,
            "bin_start": 107.18,
            "count": 15
           },
           {
            "bin_end": 114.04,
            "bin_start": 110.61,
            "count": 3
           },
           {
            "bin_end": 117.47,
            "bin_start": 114.04,
            "count": 6
           },
           {
            "bin_end": 120.9,
            "bin_start": 117.47,
            "count": 1
           }
          ],
          "max": "120.9",
          "min": "86.6",
          "nan_count": 0,
          "unique_count": 53
         }
        },
        {
         "dtype": "float64",
         "name": "carlength",
         "stats": {
          "histogram": [
           {
            "bin_end": 147.79999999999998,
            "bin_start": 141.1,
            "count": 3
           },
           {
            "bin_end": 154.5,
            "bin_start": 147.79999999999998,
            "count": 3
           },
           {
            "bin_end": 161.2,
            "bin_start": 154.5,
            "count": 29
           },
           {
            "bin_end": 167.9,
            "bin_start": 161.2,
            "count": 23
           },
           {
            "bin_end": 174.6,
            "bin_start": 167.9,
            "count": 54
           },
           {
            "bin_end": 181.3,
            "bin_start": 174.6,
            "count": 39
           },
           {
            "bin_end": 188,
            "bin_start": 181.3,
            "count": 23
           },
           {
            "bin_end": 194.7,
            "bin_start": 188,
            "count": 20
           },
           {
            "bin_end": 201.4,
            "bin_start": 194.7,
            "count": 8
           },
           {
            "bin_end": 208.1,
            "bin_start": 201.4,
            "count": 3
           }
          ],
          "max": "208.1",
          "min": "141.1",
          "nan_count": 0,
          "unique_count": 75
         }
        },
        {
         "dtype": "float64",
         "name": "carwidth",
         "stats": {
          "histogram": [
           {
            "bin_end": 61.5,
            "bin_start": 60.3,
            "count": 1
           },
           {
            "bin_end": 62.699999999999996,
            "bin_start": 61.5,
            "count": 2
           },
           {
            "bin_end": 63.9,
            "bin_start": 62.699999999999996,
            "count": 36
           },
           {
            "bin_end": 65.1,
            "bin_start": 63.9,
            "count": 39
           },
           {
            "bin_end": 66.3,
            "bin_start": 65.1,
            "count": 44
           },
           {
            "bin_end": 67.5,
            "bin_start": 66.3,
            "count": 42
           },
           {
            "bin_end": 68.7,
            "bin_start": 67.5,
            "count": 20
           },
           {
            "bin_end": 69.89999999999999,
            "bin_start": 68.7,
            "count": 7
           },
           {
            "bin_end": 71.1,
            "bin_start": 69.89999999999999,
            "count": 6
           },
           {
            "bin_end": 72.3,
            "bin_start": 71.1,
            "count": 8
           }
          ],
          "max": "72.3",
          "min": "60.3",
          "nan_count": 0,
          "unique_count": 44
         }
        },
        {
         "dtype": "float64",
         "name": "carheight",
         "stats": {
          "histogram": [
           {
            "bin_end": 49,
            "bin_start": 47.8,
            "count": 3
           },
           {
            "bin_end": 50.199999999999996,
            "bin_start": 49,
            "count": 9
           },
           {
            "bin_end": 51.4,
            "bin_start": 50.199999999999996,
            "count": 28
           },
           {
            "bin_end": 52.599999999999994,
            "bin_start": 51.4,
            "count": 25
           },
           {
            "bin_end": 53.8,
            "bin_start": 52.599999999999994,
            "count": 33
           },
           {
            "bin_end": 55,
            "bin_start": 53.8,
            "count": 41
           },
           {
            "bin_end": 56.199999999999996,
            "bin_start": 55,
            "count": 38
           },
           {
            "bin_end": 57.4,
            "bin_start": 56.199999999999996,
            "count": 15
           },
           {
            "bin_end": 58.599999999999994,
            "bin_start": 57.4,
            "count": 4
           },
           {
            "bin_end": 59.8,
            "bin_start": 58.599999999999994,
            "count": 9
           }
          ],
          "max": "59.8",
          "min": "47.8",
          "nan_count": 0,
          "unique_count": 49
         }
        },
        {
         "dtype": "int64",
         "name": "curbweight",
         "stats": {
          "histogram": [
           {
            "bin_end": 1745.8,
            "bin_start": 1488,
            "count": 2
           },
           {
            "bin_end": 2003.6,
            "bin_start": 1745.8,
            "count": 29
           },
           {
            "bin_end": 2261.4,
            "bin_start": 2003.6,
            "count": 33
           },
           {
            "bin_end": 2519.2,
            "bin_start": 2261.4,
            "count": 50
           },
           {
            "bin_end": 2777,
            "bin_start": 2519.2,
            "count": 25
           },
           {
            "bin_end": 3034.8,
            "bin_start": 2777,
            "count": 23
           },
           {
            "bin_end": 3292.6000000000004,
            "bin_start": 3034.8,
            "count": 26
           },
           {
            "bin_end": 3550.4,
            "bin_start": 3292.6000000000004,
            "count": 8
           },
           {
            "bin_end": 3808.2000000000003,
            "bin_start": 3550.4,
            "count": 5
           },
           {
            "bin_end": 4066,
            "bin_start": 3808.2000000000003,
            "count": 4
           }
          ],
          "max": "4066",
          "min": "1488",
          "nan_count": 0,
          "unique_count": 171
         }
        },
        {
         "dtype": "object",
         "name": "enginetype",
         "stats": {
          "categories": [
           {
            "count": 148,
            "name": "ohc"
           },
           {
            "count": 15,
            "name": "ohcf"
           },
           {
            "count": 42,
            "name": "5 others"
           }
          ],
          "nan_count": 0,
          "unique_count": 7
         }
        },
        {
         "dtype": "object",
         "name": "cylindernumber",
         "stats": {
          "categories": [
           {
            "count": 159,
            "name": "four"
           },
           {
            "count": 24,
            "name": "six"
           },
           {
            "count": 22,
            "name": "5 others"
           }
          ],
          "nan_count": 0,
          "unique_count": 7
         }
        },
        {
         "dtype": "int64",
         "name": "enginesize",
         "stats": {
          "histogram": [
           {
            "bin_end": 87.5,
            "bin_start": 61,
            "count": 6
           },
           {
            "bin_end": 114,
            "bin_start": 87.5,
            "count": 95
           },
           {
            "bin_end": 140.5,
            "bin_start": 114,
            "count": 46
           },
           {
            "bin_end": 167,
            "bin_start": 140.5,
            "count": 30
           },
           {
            "bin_end": 193.5,
            "bin_start": 167,
            "count": 14
           },
           {
            "bin_end": 220,
            "bin_start": 193.5,
            "count": 7
           },
           {
            "bin_end": 246.5,
            "bin_start": 220,
            "count": 2
           },
           {
            "bin_end": 273,
            "bin_start": 246.5,
            "count": 2
           },
           {
            "bin_end": 299.5,
            "bin_start": 273,
            "count": 0
           },
           {
            "bin_end": 326,
            "bin_start": 299.5,
            "count": 3
           }
          ],
          "max": "326",
          "min": "61",
          "nan_count": 0,
          "unique_count": 44
         }
        },
        {
         "dtype": "object",
         "name": "fuelsystem",
         "stats": {
          "categories": [
           {
            "count": 94,
            "name": "mpfi"
           },
           {
            "count": 66,
            "name": "2bbl"
           },
           {
            "count": 45,
            "name": "6 others"
           }
          ],
          "nan_count": 0,
          "unique_count": 8
         }
        },
        {
         "dtype": "float64",
         "name": "boreratio",
         "stats": {
          "histogram": [
           {
            "bin_end": 2.68,
            "bin_start": 2.54,
            "count": 1
           },
           {
            "bin_end": 2.82,
            "bin_start": 2.68,
            "count": 1
           },
           {
            "bin_end": 2.96,
            "bin_start": 2.82,
            "count": 8
           },
           {
            "bin_end": 3.1,
            "bin_start": 2.96,
            "count": 37
           },
           {
            "bin_end": 3.24,
            "bin_start": 3.1,
            "count": 40
           },
           {
            "bin_end": 3.38,
            "bin_start": 3.24,
            "count": 28
           },
           {
            "bin_end": 3.52,
            "bin_start": 3.38,
            "count": 27
           },
           {
            "bin_end": 3.66,
            "bin_start": 3.52,
            "count": 42
           },
           {
            "bin_end": 3.8,
            "bin_start": 3.66,
            "count": 17
           },
           {
            "bin_end": 3.94,
            "bin_start": 3.8,
            "count": 4
           }
          ],
          "max": "3.94",
          "min": "2.54",
          "nan_count": 0,
          "unique_count": 38
         }
        },
        {
         "dtype": "float64",
         "name": "stroke",
         "stats": {
          "histogram": [
           {
            "bin_end": 2.28,
            "bin_start": 2.07,
            "count": 3
           },
           {
            "bin_end": 2.4899999999999998,
            "bin_start": 2.28,
            "count": 1
           },
           {
            "bin_end": 2.7,
            "bin_start": 2.4899999999999998,
            "count": 13
           },
           {
            "bin_end": 2.91,
            "bin_start": 2.7,
            "count": 7
           },
           {
            "bin_end": 3.12,
            "bin_start": 2.91,
            "count": 30
           },
           {
            "bin_end": 3.33,
            "bin_start": 3.12,
            "count": 56
           },
           {
            "bin_end": 3.54,
            "bin_start": 3.33,
            "count": 71
           },
           {
            "bin_end": 3.75,
            "bin_start": 3.54,
            "count": 15
           },
           {
            "bin_end": 3.96,
            "bin_start": 3.75,
            "count": 7
           },
           {
            "bin_end": 4.17,
            "bin_start": 3.96,
            "count": 2
           }
          ],
          "max": "4.17",
          "min": "2.07",
          "nan_count": 0,
          "unique_count": 37
         }
        },
        {
         "dtype": "float64",
         "name": "compressionratio",
         "stats": {
          "histogram": [
           {
            "bin_end": 8.6,
            "bin_start": 7,
            "count": 51
           },
           {
            "bin_end": 10.2,
            "bin_start": 8.6,
            "count": 133
           },
           {
            "bin_end": 11.8,
            "bin_start": 10.2,
            "count": 1
           },
           {
            "bin_end": 13.4,
            "bin_start": 11.8,
            "count": 0
           },
           {
            "bin_end": 15,
            "bin_start": 13.4,
            "count": 0
           },
           {
            "bin_end": 16.6,
            "bin_start": 15,
            "count": 0
           },
           {
            "bin_end": 18.200000000000003,
            "bin_start": 16.6,
            "count": 0
           },
           {
            "bin_end": 19.8,
            "bin_start": 18.200000000000003,
            "count": 0
           },
           {
            "bin_end": 21.4,
            "bin_start": 19.8,
            "count": 5
           },
           {
            "bin_end": 23,
            "bin_start": 21.4,
            "count": 15
           }
          ],
          "max": "23.0",
          "min": "7.0",
          "nan_count": 0,
          "unique_count": 32
         }
        },
        {
         "dtype": "int64",
         "name": "horsepower",
         "stats": {
          "histogram": [
           {
            "bin_end": 72,
            "bin_start": 48,
            "count": 55
           },
           {
            "bin_end": 96,
            "bin_start": 72,
            "count": 51
           },
           {
            "bin_end": 120,
            "bin_start": 96,
            "count": 49
           },
           {
            "bin_end": 144,
            "bin_start": 120,
            "count": 13
           },
           {
            "bin_end": 168,
            "bin_start": 144,
            "count": 23
           },
           {
            "bin_end": 192,
            "bin_start": 168,
            "count": 8
           },
           {
            "bin_end": 216,
            "bin_start": 192,
            "count": 4
           },
           {
            "bin_end": 240,
            "bin_start": 216,
            "count": 0
           },
           {
            "bin_end": 264,
            "bin_start": 240,
            "count": 1
           },
           {
            "bin_end": 288,
            "bin_start": 264,
            "count": 1
           }
          ],
          "max": "288",
          "min": "48",
          "nan_count": 0,
          "unique_count": 59
         }
        },
        {
         "dtype": "int64",
         "name": "peakrpm",
         "stats": {
          "histogram": [
           {
            "bin_end": 4395,
            "bin_start": 4150,
            "count": 17
           },
           {
            "bin_end": 4640,
            "bin_start": 4395,
            "count": 10
           },
           {
            "bin_end": 4885,
            "bin_start": 4640,
            "count": 41
           },
           {
            "bin_end": 5130,
            "bin_start": 4885,
            "count": 33
           },
           {
            "bin_end": 5375,
            "bin_start": 5130,
            "count": 31
           },
           {
            "bin_end": 5620,
            "bin_start": 5375,
            "count": 51
           },
           {
            "bin_end": 5865,
            "bin_start": 5620,
            "count": 8
           },
           {
            "bin_end": 6110,
            "bin_start": 5865,
            "count": 12
           },
           {
            "bin_end": 6355,
            "bin_start": 6110,
            "count": 0
           },
           {
            "bin_end": 6600,
            "bin_start": 6355,
            "count": 2
           }
          ],
          "max": "6600",
          "min": "4150",
          "nan_count": 0,
          "unique_count": 23
         }
        },
        {
         "dtype": "int64",
         "name": "citympg",
         "stats": {
          "histogram": [
           {
            "bin_end": 16.6,
            "bin_start": 13,
            "count": 12
           },
           {
            "bin_end": 20.2,
            "bin_start": 16.6,
            "count": 46
           },
           {
            "bin_end": 23.8,
            "bin_start": 20.2,
            "count": 24
           },
           {
            "bin_end": 27.4,
            "bin_start": 23.8,
            "count": 56
           },
           {
            "bin_end": 31,
            "bin_start": 27.4,
            "count": 18
           },
           {
            "bin_end": 34.6,
            "bin_start": 31,
            "count": 31
           },
           {
            "bin_end": 38.2,
            "bin_start": 34.6,
            "count": 15
           },
           {
            "bin_end": 41.8,
            "bin_start": 38.2,
            "count": 0
           },
           {
            "bin_end": 45.4,
            "bin_start": 41.8,
            "count": 1
           },
           {
            "bin_end": 49,
            "bin_start": 45.4,
            "count": 2
           }
          ],
          "max": "49",
          "min": "13",
          "nan_count": 0,
          "unique_count": 29
         }
        },
        {
         "dtype": "int64",
         "name": "highwaympg",
         "stats": {
          "histogram": [
           {
            "bin_end": 19.8,
            "bin_start": 16,
            "count": 7
           },
           {
            "bin_end": 23.6,
            "bin_start": 19.8,
            "count": 17
           },
           {
            "bin_end": 27.4,
            "bin_start": 23.6,
            "count": 44
           },
           {
            "bin_end": 31.2,
            "bin_start": 27.4,
            "count": 47
           },
           {
            "bin_end": 35,
            "bin_start": 31.2,
            "count": 39
           },
           {
            "bin_end": 38.8,
            "bin_start": 35,
            "count": 32
           },
           {
            "bin_end": 42.599999999999994,
            "bin_start": 38.8,
            "count": 8
           },
           {
            "bin_end": 46.4,
            "bin_start": 42.599999999999994,
            "count": 6
           },
           {
            "bin_end": 50.199999999999996,
            "bin_start": 46.4,
            "count": 3
           },
           {
            "bin_end": 54,
            "bin_start": 50.199999999999996,
            "count": 2
           }
          ],
          "max": "54",
          "min": "16",
          "nan_count": 0,
          "unique_count": 30
         }
        },
        {
         "dtype": "int64",
         "name": "price",
         "stats": {
          "histogram": [
           {
            "bin_end": 9146.2,
            "bin_start": 5118,
            "count": 83
           },
           {
            "bin_end": 13174.4,
            "bin_start": 9146.2,
            "count": 45
           },
           {
            "bin_end": 17202.6,
            "bin_start": 13174.4,
            "count": 35
           },
           {
            "bin_end": 21230.8,
            "bin_start": 17202.6,
            "count": 18
           },
           {
            "bin_end": 25259,
            "bin_start": 21230.8,
            "count": 6
           },
           {
            "bin_end": 29287.199999999997,
            "bin_start": 25259,
            "count": 3
           },
           {
            "bin_end": 33315.399999999994,
            "bin_start": 29287.199999999997,
            "count": 5
           },
           {
            "bin_end": 37343.6,
            "bin_start": 33315.399999999994,
            "count": 7
           },
           {
            "bin_end": 41371.799999999996,
            "bin_start": 37343.6,
            "count": 2
           },
           {
            "bin_end": 45400,
            "bin_start": 41371.799999999996,
            "count": 1
           }
          ],
          "max": "45400",
          "min": "5118",
          "nan_count": 0,
          "unique_count": 189
         }
        },
        {
         "dtype": "object",
         "name": "Brand",
         "stats": {
          "categories": [
           {
            "count": 32,
            "name": "toyota"
           },
           {
            "count": 18,
            "name": "nissan"
           },
           {
            "count": 155,
            "name": "21 others"
           }
          ],
          "nan_count": 0,
          "unique_count": 23
         }
        },
        {
         "dtype": "category",
         "name": "price_level",
         "stats": {
          "categories": [
           {
            "count": 95,
            "name": "cheap"
           },
           {
            "count": 86,
            "name": "ordinary"
           },
           {
            "count": 24,
            "name": "expensive"
           }
          ],
          "nan_count": 0,
          "unique_count": 3
         }
        },
        {
         "dtype": "float64",
         "name": "Pred1",
         "stats": {
          "histogram": [
           {
            "bin_end": 4139.843319630307,
            "bin_start": -261.3456426220728,
            "count": 1
           },
           {
            "bin_end": 8541.032281882686,
            "bin_start": 4139.843319630307,
            "count": 63
           },
           {
            "bin_end": 12942.221244135066,
            "bin_start": 8541.032281882686,
            "count": 57
           },
           {
            "bin_end": 17343.410206387445,
            "bin_start": 12942.221244135066,
            "count": 30
           },
           {
            "bin_end": 21744.599168639827,
            "bin_start": 17343.410206387445,
            "count": 31
           },
           {
            "bin_end": 26145.788130892204,
            "bin_start": 21744.599168639827,
            "count": 13
           },
           {
            "bin_end": 30546.977093144582,
            "bin_start": 26145.788130892204,
            "count": 3
           },
           {
            "bin_end": 34948.16605539696,
            "bin_start": 30546.977093144582,
            "count": 3
           },
           {
            "bin_end": 39349.355017649345,
            "bin_start": 34948.16605539696,
            "count": 3
           },
           {
            "bin_end": 43750.54397990172,
            "bin_start": 39349.355017649345,
            "count": 1
           }
          ],
          "max": "43750.54397990172",
          "min": "-261.3456426220728",
          "nan_count": 0,
          "unique_count": 190
         }
        },
        {
         "dtype": "int64",
         "name": "_deepnote_index_column"
        }
       ],
       "row_count": 205,
       "rows": [
        {
         "Brand": "alfa-romeo",
         "Pred1": "12830.140148038903",
         "_deepnote_index_column": "0",
         "aspiration": "std",
         "boreratio": "3.47",
         "car_ID": "1",
         "carbody": "convertible",
         "carheight": "48.8",
         "carlength": "168.8",
         "carwidth": "64.1",
         "citympg": "21",
         "compressionratio": "9.0",
         "curbweight": "2548",
         "cylindernumber": "four",
         "doornumber": "two",
         "drivewheel": "rwd",
         "enginelocation": "front",
         "enginesize": "130",
         "enginetype": "dohc",
         "fuelsystem": "mpfi",
         "fueltype": "gas",
         "highwaympg": "27",
         "horsepower": "111",
         "peakrpm": "5000",
         "price": "13495",
         "price_level": "ordinary",
         "stroke": "2.68",
         "symboling": "3",
         "wheelbase": "88.6"
        },
        {
         "Brand": "alfa-romeo",
         "Pred1": "12830.140148038903",
         "_deepnote_index_column": "1",
         "aspiration": "std",
         "boreratio": "3.47",
         "car_ID": "2",
         "carbody": "convertible",
         "carheight": "48.8",
         "carlength": "168.8",
         "carwidth": "64.1",
         "citympg": "21",
         "compressionratio": "9.0",
         "curbweight": "2548",
         "cylindernumber": "four",
         "doornumber": "two",
         "drivewheel": "rwd",
         "enginelocation": "front",
         "enginesize": "130",
         "enginetype": "dohc",
         "fuelsystem": "mpfi",
         "fueltype": "gas",
         "highwaympg": "27",
         "horsepower": "111",
         "peakrpm": "5000",
         "price": "16500",
         "price_level": "ordinary",
         "stroke": "2.68",
         "symboling": "3",
         "wheelbase": "88.6"
        },
        {
         "Brand": "alfa-romeo",
         "Pred1": "18415.125099582176",
         "_deepnote_index_column": "2",
         "aspiration": "std",
         "boreratio": "2.68",
         "car_ID": "3",
         "carbody": "hatchback",
         "carheight": "52.4",
         "carlength": "171.2",
         "carwidth": "65.5",
         "citympg": "19",
         "compressionratio": "9.0",
         "curbweight": "2823",
         "cylindernumber": "six",
         "doornumber": "two",
         "drivewheel": "rwd",
         "enginelocation": "front",
         "enginesize": "152",
         "enginetype": "ohcv",
         "fuelsystem": "mpfi",
         "fueltype": "gas",
         "highwaympg": "26",
         "horsepower": "154",
         "peakrpm": "5000",
         "price": "16500",
         "price_level": "ordinary",
         "stroke": "3.47",
         "symboling": "1",
         "wheelbase": "94.5"
        },
        {
         "Brand": "audi",
         "Pred1": "11131.888318664438",
         "_deepnote_index_column": "3",
         "aspiration": "std",
         "boreratio": "3.19",
         "car_ID": "4",
         "carbody": "sedan",
         "carheight": "54.3",
         "carlength": "176.6",
         "carwidth": "66.2",
         "citympg": "24",
         "compressionratio": "10.0",
         "curbweight": "2337",
         "cylindernumber": "four",
         "doornumber": "four",
         "drivewheel": "fwd",
         "enginelocation": "front",
         "enginesize": "109",
         "enginetype": "ohc",
         "fuelsystem": "mpfi",
         "fueltype": "gas",
         "highwaympg": "30",
         "horsepower": "102",
         "peakrpm": "5500",
         "price": "13950",
         "price_level": "ordinary",
         "stroke": "3.4",
         "symboling": "2",
         "wheelbase": "99.8"
        },
        {
         "Brand": "audi",
         "Pred1": "15365.681175719517",
         "_deepnote_index_column": "4",
         "aspiration": "std",
         "boreratio": "3.19",
         "car_ID": "5",
         "carbody": "sedan",
         "carheight": "54.3",
         "carlength": "176.6",
         "carwidth": "66.4",
         "citympg": "18",
         "compressionratio": "8.0",
         "curbweight": "2824",
         "cylindernumber": "five",
         "doornumber": "four",
         "drivewheel": "4wd",
         "enginelocation": "front",
         "enginesize": "136",
         "enginetype": "ohc",
         "fuelsystem": "mpfi",
         "fueltype": "gas",
         "highwaympg": "22",
         "horsepower": "115",
         "peakrpm": "5500",
         "price": "17450",
         "price_level": "ordinary",
         "stroke": "3.4",
         "symboling": "2",
         "wheelbase": "99.4"
        },
        {
         "Brand": "audi",
         "Pred1": "14238.901993066647",
         "_deepnote_index_column": "5",
         "aspiration": "std",
         "boreratio": "3.19",
         "car_ID": "6",
         "carbody": "sedan",
         "carheight": "53.1",
         "carlength": "177.3",
         "carwidth": "66.3",
         "citympg": "19",
         "compressionratio": "8.5",
         "curbweight": "2507",
         "cylindernumber": "five",
         "doornumber": "two",
         "drivewheel": "fwd",
         "enginelocation": "front",
         "enginesize": "136",
         "enginetype": "ohc",
         "fuelsystem": "mpfi",
         "fueltype": "gas",
         "highwaympg": "25",
         "horsepower": "110",
         "peakrpm": "5500",
         "price": "15250",
         "price_level": "ordinary",
         "stroke": "3.4",
         "symboling": "2",
         "wheelbase": "99.8"
        },
        {
         "Brand": "audi",
         "Pred1": "18007.277498533127",
         "_deepnote_index_column": "6",
         "aspiration": "std",
         "boreratio": "3.19",
         "car_ID": "7",
         "carbody": "sedan",
         "carheight": "55.7",
         "carlength": "192.7",
         "carwidth": "71.4",
         "citympg": "19",
         "compressionratio": "8.5",
         "curbweight": "2844",
         "cylindernumber": "five",
         "doornumber": "four",
         "drivewheel": "fwd",
         "enginelocation": "front",
         "enginesize": "136",
         "enginetype": "ohc",
         "fuelsystem": "mpfi",
         "fueltype": "gas",
         "highwaympg": "25",
         "horsepower": "110",
         "peakrpm": "5500",
         "price": "17710",
         "price_level": "ordinary",
         "stroke": "3.4",
         "symboling": "1",
         "wheelbase": "105.8"
        },
        {
         "Brand": "audi",
         "Pred1": "18346.506948917035",
         "_deepnote_index_column": "7",
         "aspiration": "std",
         "boreratio": "3.19",
         "car_ID": "8",
         "carbody": "wagon",
         "carheight": "55.7",
         "carlength": "192.7",
         "carwidth": "71.4",
         "citympg": "19",
         "compressionratio": "8.5",
         "curbweight": "2954",
         "cylindernumber": "five",
         "doornumber": "four",
         "drivewheel": "fwd",
         "enginelocation": "front",
         "enginesize": "136",
         "enginetype": "ohc",
         "fuelsystem": "mpfi",
         "fueltype": "gas",
         "highwaympg": "25",
         "horsepower": "110",
         "peakrpm": "5500",
         "price": "18920",
         "price_level": "ordinary",
         "stroke": "3.4",
         "symboling": "1",
         "wheelbase": "105.8"
        },
        {
         "Brand": "audi",
         "Pred1": "19500.76262577674",
         "_deepnote_index_column": "8",
         "aspiration": "turbo",
         "boreratio": "3.13",
         "car_ID": "9",
         "carbody": "sedan",
         "carheight": "55.9",
         "carlength": "192.7",
         "carwidth": "71.4",
         "citympg": "17",
         "compressionratio": "8.3",
         "curbweight": "3086",
         "cylindernumber": "five",
         "doornumber": "four",
         "drivewheel": "fwd",
         "enginelocation": "front",
         "enginesize": "131",
         "enginetype": "ohc",
         "fuelsystem": "mpfi",
         "fueltype": "gas",
         "highwaympg": "20",
         "horsepower": "140",
         "peakrpm": "5500",
         "price": "23875",
         "price_level": "ordinary",
         "stroke": "3.4",
         "symboling": "1",
         "wheelbase": "105.8"
        },
        {
         "Brand": "audi",
         "Pred1": "18826.64181640769",
         "_deepnote_index_column": "9",
         "aspiration": "turbo",
         "boreratio": "3.13",
         "car_ID": "10",
         "carbody": "hatchback",
         "carheight": "52.0",
         "carlength": "178.2",
         "carwidth": "67.9",
         "citympg": "16",
         "compressionratio": "7.0",
         "curbweight": "3053",
         "cylindernumber": "five",
         "doornumber": "two",
         "drivewheel": "4wd",
         "enginelocation": "front",
         "enginesize": "131",
         "enginetype": "ohc",
         "fuelsystem": "mpfi",
         "fueltype": "gas",
         "highwaympg": "22",
         "horsepower": "160",
         "peakrpm": "5500",
         "price": "17859",
         "price_level": "ordinary",
         "stroke": "3.4",
         "symboling": "0",
         "wheelbase": "99.5"
        }
       ]
      },
      "text/html": [
       "<div>\n",
       "<style scoped>\n",
       "    .dataframe tbody tr th:only-of-type {\n",
       "        vertical-align: middle;\n",
       "    }\n",
       "\n",
       "    .dataframe tbody tr th {\n",
       "        vertical-align: top;\n",
       "    }\n",
       "\n",
       "    .dataframe thead th {\n",
       "        text-align: right;\n",
       "    }\n",
       "</style>\n",
       "<table border=\"1\" class=\"dataframe\">\n",
       "  <thead>\n",
       "    <tr style=\"text-align: right;\">\n",
       "      <th></th>\n",
       "      <th>car_ID</th>\n",
       "      <th>symboling</th>\n",
       "      <th>fueltype</th>\n",
       "      <th>aspiration</th>\n",
       "      <th>doornumber</th>\n",
       "      <th>carbody</th>\n",
       "      <th>drivewheel</th>\n",
       "      <th>enginelocation</th>\n",
       "      <th>wheelbase</th>\n",
       "      <th>carlength</th>\n",
       "      <th>...</th>\n",
       "      <th>stroke</th>\n",
       "      <th>compressionratio</th>\n",
       "      <th>horsepower</th>\n",
       "      <th>peakrpm</th>\n",
       "      <th>citympg</th>\n",
       "      <th>highwaympg</th>\n",
       "      <th>price</th>\n",
       "      <th>Brand</th>\n",
       "      <th>price_level</th>\n",
       "      <th>Pred1</th>\n",
       "    </tr>\n",
       "  </thead>\n",
       "  <tbody>\n",
       "    <tr>\n",
       "      <th>0</th>\n",
       "      <td>1</td>\n",
       "      <td>3</td>\n",
       "      <td>gas</td>\n",
       "      <td>std</td>\n",
       "      <td>two</td>\n",
       "      <td>convertible</td>\n",
       "      <td>rwd</td>\n",
       "      <td>front</td>\n",
       "      <td>88.6</td>\n",
       "      <td>168.8</td>\n",
       "      <td>...</td>\n",
       "      <td>2.68</td>\n",
       "      <td>9.0</td>\n",
       "      <td>111</td>\n",
       "      <td>5000</td>\n",
       "      <td>21</td>\n",
       "      <td>27</td>\n",
       "      <td>13495</td>\n",
       "      <td>alfa-romeo</td>\n",
       "      <td>ordinary</td>\n",
       "      <td>12830.140148</td>\n",
       "    </tr>\n",
       "    <tr>\n",
       "      <th>1</th>\n",
       "      <td>2</td>\n",
       "      <td>3</td>\n",
       "      <td>gas</td>\n",
       "      <td>std</td>\n",
       "      <td>two</td>\n",
       "      <td>convertible</td>\n",
       "      <td>rwd</td>\n",
       "      <td>front</td>\n",
       "      <td>88.6</td>\n",
       "      <td>168.8</td>\n",
       "      <td>...</td>\n",
       "      <td>2.68</td>\n",
       "      <td>9.0</td>\n",
       "      <td>111</td>\n",
       "      <td>5000</td>\n",
       "      <td>21</td>\n",
       "      <td>27</td>\n",
       "      <td>16500</td>\n",
       "      <td>alfa-romeo</td>\n",
       "      <td>ordinary</td>\n",
       "      <td>12830.140148</td>\n",
       "    </tr>\n",
       "    <tr>\n",
       "      <th>2</th>\n",
       "      <td>3</td>\n",
       "      <td>1</td>\n",
       "      <td>gas</td>\n",
       "      <td>std</td>\n",
       "      <td>two</td>\n",
       "      <td>hatchback</td>\n",
       "      <td>rwd</td>\n",
       "      <td>front</td>\n",
       "      <td>94.5</td>\n",
       "      <td>171.2</td>\n",
       "      <td>...</td>\n",
       "      <td>3.47</td>\n",
       "      <td>9.0</td>\n",
       "      <td>154</td>\n",
       "      <td>5000</td>\n",
       "      <td>19</td>\n",
       "      <td>26</td>\n",
       "      <td>16500</td>\n",
       "      <td>alfa-romeo</td>\n",
       "      <td>ordinary</td>\n",
       "      <td>18415.125100</td>\n",
       "    </tr>\n",
       "    <tr>\n",
       "      <th>3</th>\n",
       "      <td>4</td>\n",
       "      <td>2</td>\n",
       "      <td>gas</td>\n",
       "      <td>std</td>\n",
       "      <td>four</td>\n",
       "      <td>sedan</td>\n",
       "      <td>fwd</td>\n",
       "      <td>front</td>\n",
       "      <td>99.8</td>\n",
       "      <td>176.6</td>\n",
       "      <td>...</td>\n",
       "      <td>3.40</td>\n",
       "      <td>10.0</td>\n",
       "      <td>102</td>\n",
       "      <td>5500</td>\n",
       "      <td>24</td>\n",
       "      <td>30</td>\n",
       "      <td>13950</td>\n",
       "      <td>audi</td>\n",
       "      <td>ordinary</td>\n",
       "      <td>11131.888319</td>\n",
       "    </tr>\n",
       "    <tr>\n",
       "      <th>4</th>\n",
       "      <td>5</td>\n",
       "      <td>2</td>\n",
       "      <td>gas</td>\n",
       "      <td>std</td>\n",
       "      <td>four</td>\n",
       "      <td>sedan</td>\n",
       "      <td>4wd</td>\n",
       "      <td>front</td>\n",
       "      <td>99.4</td>\n",
       "      <td>176.6</td>\n",
       "      <td>...</td>\n",
       "      <td>3.40</td>\n",
       "      <td>8.0</td>\n",
       "      <td>115</td>\n",
       "      <td>5500</td>\n",
       "      <td>18</td>\n",
       "      <td>22</td>\n",
       "      <td>17450</td>\n",
       "      <td>audi</td>\n",
       "      <td>ordinary</td>\n",
       "      <td>15365.681176</td>\n",
       "    </tr>\n",
       "    <tr>\n",
       "      <th>...</th>\n",
       "      <td>...</td>\n",
       "      <td>...</td>\n",
       "      <td>...</td>\n",
       "      <td>...</td>\n",
       "      <td>...</td>\n",
       "      <td>...</td>\n",
       "      <td>...</td>\n",
       "      <td>...</td>\n",
       "      <td>...</td>\n",
       "      <td>...</td>\n",
       "      <td>...</td>\n",
       "      <td>...</td>\n",
       "      <td>...</td>\n",
       "      <td>...</td>\n",
       "      <td>...</td>\n",
       "      <td>...</td>\n",
       "      <td>...</td>\n",
       "      <td>...</td>\n",
       "      <td>...</td>\n",
       "      <td>...</td>\n",
       "      <td>...</td>\n",
       "    </tr>\n",
       "    <tr>\n",
       "      <th>200</th>\n",
       "      <td>201</td>\n",
       "      <td>-1</td>\n",
       "      <td>gas</td>\n",
       "      <td>std</td>\n",
       "      <td>four</td>\n",
       "      <td>sedan</td>\n",
       "      <td>rwd</td>\n",
       "      <td>front</td>\n",
       "      <td>109.1</td>\n",
       "      <td>188.8</td>\n",
       "      <td>...</td>\n",
       "      <td>3.15</td>\n",
       "      <td>9.5</td>\n",
       "      <td>114</td>\n",
       "      <td>5400</td>\n",
       "      <td>23</td>\n",
       "      <td>28</td>\n",
       "      <td>16845</td>\n",
       "      <td>volvo</td>\n",
       "      <td>ordinary</td>\n",
       "      <td>17483.555626</td>\n",
       "    </tr>\n",
       "    <tr>\n",
       "      <th>201</th>\n",
       "      <td>202</td>\n",
       "      <td>-1</td>\n",
       "      <td>gas</td>\n",
       "      <td>turbo</td>\n",
       "      <td>four</td>\n",
       "      <td>sedan</td>\n",
       "      <td>rwd</td>\n",
       "      <td>front</td>\n",
       "      <td>109.1</td>\n",
       "      <td>188.8</td>\n",
       "      <td>...</td>\n",
       "      <td>3.15</td>\n",
       "      <td>8.7</td>\n",
       "      <td>160</td>\n",
       "      <td>5300</td>\n",
       "      <td>19</td>\n",
       "      <td>25</td>\n",
       "      <td>19045</td>\n",
       "      <td>volvo</td>\n",
       "      <td>ordinary</td>\n",
       "      <td>19929.103421</td>\n",
       "    </tr>\n",
       "    <tr>\n",
       "      <th>202</th>\n",
       "      <td>203</td>\n",
       "      <td>-1</td>\n",
       "      <td>gas</td>\n",
       "      <td>std</td>\n",
       "      <td>four</td>\n",
       "      <td>sedan</td>\n",
       "      <td>rwd</td>\n",
       "      <td>front</td>\n",
       "      <td>109.1</td>\n",
       "      <td>188.8</td>\n",
       "      <td>...</td>\n",
       "      <td>2.87</td>\n",
       "      <td>8.8</td>\n",
       "      <td>134</td>\n",
       "      <td>5500</td>\n",
       "      <td>18</td>\n",
       "      <td>23</td>\n",
       "      <td>21485</td>\n",
       "      <td>volvo</td>\n",
       "      <td>ordinary</td>\n",
       "      <td>21199.917464</td>\n",
       "    </tr>\n",
       "    <tr>\n",
       "      <th>203</th>\n",
       "      <td>204</td>\n",
       "      <td>-1</td>\n",
       "      <td>diesel</td>\n",
       "      <td>turbo</td>\n",
       "      <td>four</td>\n",
       "      <td>sedan</td>\n",
       "      <td>rwd</td>\n",
       "      <td>front</td>\n",
       "      <td>109.1</td>\n",
       "      <td>188.8</td>\n",
       "      <td>...</td>\n",
       "      <td>3.40</td>\n",
       "      <td>23.0</td>\n",
       "      <td>106</td>\n",
       "      <td>4800</td>\n",
       "      <td>26</td>\n",
       "      <td>27</td>\n",
       "      <td>22470</td>\n",
       "      <td>volvo</td>\n",
       "      <td>ordinary</td>\n",
       "      <td>17986.504844</td>\n",
       "    </tr>\n",
       "    <tr>\n",
       "      <th>204</th>\n",
       "      <td>205</td>\n",
       "      <td>-1</td>\n",
       "      <td>gas</td>\n",
       "      <td>turbo</td>\n",
       "      <td>four</td>\n",
       "      <td>sedan</td>\n",
       "      <td>rwd</td>\n",
       "      <td>front</td>\n",
       "      <td>109.1</td>\n",
       "      <td>188.8</td>\n",
       "      <td>...</td>\n",
       "      <td>3.15</td>\n",
       "      <td>9.5</td>\n",
       "      <td>114</td>\n",
       "      <td>5400</td>\n",
       "      <td>19</td>\n",
       "      <td>25</td>\n",
       "      <td>22625</td>\n",
       "      <td>volvo</td>\n",
       "      <td>ordinary</td>\n",
       "      <td>17833.118466</td>\n",
       "    </tr>\n",
       "  </tbody>\n",
       "</table>\n",
       "<p>205 rows × 28 columns</p>\n",
       "</div>"
      ],
      "text/plain": [
       "     car_ID  symboling fueltype aspiration doornumber      carbody drivewheel  \\\n",
       "0         1          3      gas        std        two  convertible        rwd   \n",
       "1         2          3      gas        std        two  convertible        rwd   \n",
       "2         3          1      gas        std        two    hatchback        rwd   \n",
       "3         4          2      gas        std       four        sedan        fwd   \n",
       "4         5          2      gas        std       four        sedan        4wd   \n",
       "..      ...        ...      ...        ...        ...          ...        ...   \n",
       "200     201         -1      gas        std       four        sedan        rwd   \n",
       "201     202         -1      gas      turbo       four        sedan        rwd   \n",
       "202     203         -1      gas        std       four        sedan        rwd   \n",
       "203     204         -1   diesel      turbo       four        sedan        rwd   \n",
       "204     205         -1      gas      turbo       four        sedan        rwd   \n",
       "\n",
       "    enginelocation  wheelbase  carlength  ...  stroke  compressionratio  \\\n",
       "0            front       88.6      168.8  ...    2.68               9.0   \n",
       "1            front       88.6      168.8  ...    2.68               9.0   \n",
       "2            front       94.5      171.2  ...    3.47               9.0   \n",
       "3            front       99.8      176.6  ...    3.40              10.0   \n",
       "4            front       99.4      176.6  ...    3.40               8.0   \n",
       "..             ...        ...        ...  ...     ...               ...   \n",
       "200          front      109.1      188.8  ...    3.15               9.5   \n",
       "201          front      109.1      188.8  ...    3.15               8.7   \n",
       "202          front      109.1      188.8  ...    2.87               8.8   \n",
       "203          front      109.1      188.8  ...    3.40              23.0   \n",
       "204          front      109.1      188.8  ...    3.15               9.5   \n",
       "\n",
       "     horsepower peakrpm citympg  highwaympg  price       Brand  price_level  \\\n",
       "0           111    5000      21          27  13495  alfa-romeo     ordinary   \n",
       "1           111    5000      21          27  16500  alfa-romeo     ordinary   \n",
       "2           154    5000      19          26  16500  alfa-romeo     ordinary   \n",
       "3           102    5500      24          30  13950        audi     ordinary   \n",
       "4           115    5500      18          22  17450        audi     ordinary   \n",
       "..          ...     ...     ...         ...    ...         ...          ...   \n",
       "200         114    5400      23          28  16845       volvo     ordinary   \n",
       "201         160    5300      19          25  19045       volvo     ordinary   \n",
       "202         134    5500      18          23  21485       volvo     ordinary   \n",
       "203         106    4800      26          27  22470       volvo     ordinary   \n",
       "204         114    5400      19          25  22625       volvo     ordinary   \n",
       "\n",
       "            Pred1  \n",
       "0    12830.140148  \n",
       "1    12830.140148  \n",
       "2    18415.125100  \n",
       "3    11131.888319  \n",
       "4    15365.681176  \n",
       "..            ...  \n",
       "200  17483.555626  \n",
       "201  19929.103421  \n",
       "202  21199.917464  \n",
       "203  17986.504844  \n",
       "204  17833.118466  \n",
       "\n",
       "[205 rows x 28 columns]"
      ]
     },
     "execution_count": 22,
     "metadata": {},
     "output_type": "execute_result"
    }
   ],
   "source": [
    "df[\"Pred1\"] = reg.predict(df[cols])\n",
    "df"
   ]
  },
  {
   "cell_type": "markdown",
   "metadata": {
    "cell_id": "8915c44e5ec9499eafb8876cffd87644",
    "deepnote_cell_type": "text-cell-p",
    "formattedRanges": [],
    "is_collapsed": false,
    "tags": []
   },
   "source": [
    "We find seven factors that affect the price and make price forecast, which are enginesize, curbweight, horsepower, carwidth, carlength, citympg and highwaympg."
   ]
  },
  {
   "cell_type": "code",
   "execution_count": 40,
   "metadata": {
    "cell_id": "408befd5d6744947a18fab18b37571de",
    "deepnote_cell_type": "code",
    "deepnote_to_be_reexecuted": false,
    "execution_millis": 62,
    "execution_start": 1670311078217,
    "source_hash": "95cb1612",
    "tags": []
   },
   "outputs": [
    {
     "data": {
      "text/html": [
       "\n",
       "<div id=\"altair-viz-35ea1f827d5042d5ad2805aeb6774a43\"></div>\n",
       "<script type=\"text/javascript\">\n",
       "  var VEGA_DEBUG = (typeof VEGA_DEBUG == \"undefined\") ? {} : VEGA_DEBUG;\n",
       "  (function(spec, embedOpt){\n",
       "    let outputDiv = document.currentScript.previousElementSibling;\n",
       "    if (outputDiv.id !== \"altair-viz-35ea1f827d5042d5ad2805aeb6774a43\") {\n",
       "      outputDiv = document.getElementById(\"altair-viz-35ea1f827d5042d5ad2805aeb6774a43\");\n",
       "    }\n",
       "    const paths = {\n",
       "      \"vega\": \"https://cdn.jsdelivr.net/npm//vega@5?noext\",\n",
       "      \"vega-lib\": \"https://cdn.jsdelivr.net/npm//vega-lib?noext\",\n",
       "      \"vega-lite\": \"https://cdn.jsdelivr.net/npm//vega-lite@4.17.0?noext\",\n",
       "      \"vega-embed\": \"https://cdn.jsdelivr.net/npm//vega-embed@6?noext\",\n",
       "    };\n",
       "\n",
       "    function maybeLoadScript(lib, version) {\n",
       "      var key = `${lib.replace(\"-\", \"\")}_version`;\n",
       "      return (VEGA_DEBUG[key] == version) ?\n",
       "        Promise.resolve(paths[lib]) :\n",
       "        new Promise(function(resolve, reject) {\n",
       "          var s = document.createElement('script');\n",
       "          document.getElementsByTagName(\"head\")[0].appendChild(s);\n",
       "          s.async = true;\n",
       "          s.onload = () => {\n",
       "            VEGA_DEBUG[key] = version;\n",
       "            return resolve(paths[lib]);\n",
       "          };\n",
       "          s.onerror = () => reject(`Error loading script: ${paths[lib]}`);\n",
       "          s.src = paths[lib];\n",
       "        });\n",
       "    }\n",
       "\n",
       "    function showError(err) {\n",
       "      outputDiv.innerHTML = `<div class=\"error\" style=\"color:red;\">${err}</div>`;\n",
       "      throw err;\n",
       "    }\n",
       "\n",
       "    function displayChart(vegaEmbed) {\n",
       "      vegaEmbed(outputDiv, spec, embedOpt)\n",
       "        .catch(err => showError(`Javascript Error: ${err.message}<br>This usually means there's a typo in your chart specification. See the javascript console for the full traceback.`));\n",
       "    }\n",
       "\n",
       "    if(typeof define === \"function\" && define.amd) {\n",
       "      requirejs.config({paths});\n",
       "      require([\"vega-embed\"], displayChart, err => showError(`Error loading script: ${err.message}`));\n",
       "    } else {\n",
       "      maybeLoadScript(\"vega\", \"5\")\n",
       "        .then(() => maybeLoadScript(\"vega-lite\", \"4.17.0\"))\n",
       "        .then(() => maybeLoadScript(\"vega-embed\", \"6\"))\n",
       "        .catch(showError)\n",
       "        .then(() => displayChart(vegaEmbed));\n",
       "    }\n",
       "  })({\"config\": {\"view\": {\"continuousWidth\": 400, \"continuousHeight\": 300}}, \"vconcat\": [{\"mark\": \"circle\", \"encoding\": {\"color\": {\"field\": \"Brand\", \"type\": \"nominal\"}, \"x\": {\"field\": \"curbweight\", \"type\": \"quantitative\"}, \"y\": {\"field\": \"price\", \"type\": \"quantitative\"}}}, {\"mark\": \"circle\", \"encoding\": {\"color\": {\"field\": \"Brand\", \"type\": \"nominal\"}, \"x\": {\"field\": \"enginesize\", \"type\": \"quantitative\"}, \"y\": {\"field\": \"price\", \"type\": \"quantitative\"}}}, {\"mark\": \"circle\", \"encoding\": {\"color\": {\"field\": \"Brand\", \"type\": \"nominal\"}, \"x\": {\"field\": \"horsepower\", \"type\": \"quantitative\"}, \"y\": {\"field\": \"price\", \"type\": \"quantitative\"}}}, {\"mark\": \"circle\", \"encoding\": {\"color\": {\"field\": \"Brand\", \"type\": \"nominal\"}, \"x\": {\"field\": \"carwidth\", \"type\": \"quantitative\"}, \"y\": {\"field\": \"price\", \"type\": \"quantitative\"}}}, {\"mark\": \"circle\", \"encoding\": {\"color\": {\"field\": \"Brand\", \"type\": \"nominal\"}, \"x\": {\"field\": \"carlength\", \"type\": \"quantitative\"}, \"y\": {\"field\": \"price\", \"type\": \"quantitative\"}}}, {\"mark\": \"circle\", \"encoding\": {\"color\": {\"field\": \"Brand\", \"type\": \"nominal\"}, \"x\": {\"field\": \"citympg\", \"type\": \"quantitative\"}, \"y\": {\"field\": \"price\", \"type\": \"quantitative\"}}}, {\"mark\": \"circle\", \"encoding\": {\"color\": {\"field\": \"Brand\", \"type\": \"nominal\"}, \"x\": {\"field\": \"highwaympg\", \"type\": \"quantitative\"}, \"y\": {\"field\": \"price\", \"type\": \"quantitative\"}}}], \"data\": {\"name\": \"data-37de221e775b76640e8db0cf75da32b2\"}, \"$schema\": \"https://vega.github.io/schema/vega-lite/v4.17.0.json\", \"datasets\": {\"data-37de221e775b76640e8db0cf75da32b2\": [{\"car_ID\": 1, \"symboling\": 3, \"fueltype\": \"gas\", \"aspiration\": \"std\", \"doornumber\": \"two\", \"carbody\": \"convertible\", \"drivewheel\": \"rwd\", \"enginelocation\": \"front\", \"wheelbase\": 88.6, \"carlength\": 168.8, \"carwidth\": 64.1, \"carheight\": 48.8, \"curbweight\": 2548, \"enginetype\": \"dohc\", \"cylindernumber\": \"four\", \"enginesize\": 130, \"fuelsystem\": \"mpfi\", \"boreratio\": 3.47, \"stroke\": 2.68, \"compressionratio\": 9.0, \"horsepower\": 111, \"peakrpm\": 5000, \"citympg\": 21, \"highwaympg\": 27, \"price\": 13495, \"Brand\": \"alfa-romeo\", \"price_level\": \"ordinary\", \"Pred1\": 12830.140148038903, \"Pred2\": 13842.478268830182}, {\"car_ID\": 2, \"symboling\": 3, \"fueltype\": \"gas\", \"aspiration\": \"std\", \"doornumber\": \"two\", \"carbody\": \"convertible\", \"drivewheel\": \"rwd\", \"enginelocation\": \"front\", \"wheelbase\": 88.6, \"carlength\": 168.8, \"carwidth\": 64.1, \"carheight\": 48.8, \"curbweight\": 2548, \"enginetype\": \"dohc\", \"cylindernumber\": \"four\", \"enginesize\": 130, \"fuelsystem\": \"mpfi\", \"boreratio\": 3.47, \"stroke\": 2.68, \"compressionratio\": 9.0, \"horsepower\": 111, \"peakrpm\": 5000, \"citympg\": 21, \"highwaympg\": 27, \"price\": 16500, \"Brand\": \"alfa-romeo\", \"price_level\": \"ordinary\", \"Pred1\": 12830.140148038903, \"Pred2\": 13842.478268830182}, {\"car_ID\": 3, \"symboling\": 1, \"fueltype\": \"gas\", \"aspiration\": \"std\", \"doornumber\": \"two\", \"carbody\": \"hatchback\", \"drivewheel\": \"rwd\", \"enginelocation\": \"front\", \"wheelbase\": 94.5, \"carlength\": 171.2, \"carwidth\": 65.5, \"carheight\": 52.4, \"curbweight\": 2823, \"enginetype\": \"ohcv\", \"cylindernumber\": \"six\", \"enginesize\": 152, \"fuelsystem\": \"mpfi\", \"boreratio\": 2.68, \"stroke\": 3.47, \"compressionratio\": 9.0, \"horsepower\": 154, \"peakrpm\": 5000, \"citympg\": 19, \"highwaympg\": 26, \"price\": 16500, \"Brand\": \"alfa-romeo\", \"price_level\": \"ordinary\", \"Pred1\": 18415.125099582176, \"Pred2\": 18978.14775119607}, {\"car_ID\": 4, \"symboling\": 2, \"fueltype\": \"gas\", \"aspiration\": \"std\", \"doornumber\": \"four\", \"carbody\": \"sedan\", \"drivewheel\": \"fwd\", \"enginelocation\": \"front\", \"wheelbase\": 99.8, \"carlength\": 176.6, \"carwidth\": 66.2, \"carheight\": 54.3, \"curbweight\": 2337, \"enginetype\": \"ohc\", \"cylindernumber\": \"four\", \"enginesize\": 109, \"fuelsystem\": \"mpfi\", \"boreratio\": 3.19, \"stroke\": 3.4, \"compressionratio\": 10.0, \"horsepower\": 102, \"peakrpm\": 5500, \"citympg\": 24, \"highwaympg\": 30, \"price\": 13950, \"Brand\": \"audi\", \"price_level\": \"ordinary\", \"Pred1\": 11131.888318664438, \"Pred2\": 10721.87804583053}, {\"car_ID\": 5, \"symboling\": 2, \"fueltype\": \"gas\", \"aspiration\": \"std\", \"doornumber\": \"four\", \"carbody\": \"sedan\", \"drivewheel\": \"4wd\", \"enginelocation\": \"front\", \"wheelbase\": 99.4, \"carlength\": 176.6, \"carwidth\": 66.4, \"carheight\": 54.3, \"curbweight\": 2824, \"enginetype\": \"ohc\", \"cylindernumber\": \"five\", \"enginesize\": 136, \"fuelsystem\": \"mpfi\", \"boreratio\": 3.19, \"stroke\": 3.4, \"compressionratio\": 8.0, \"horsepower\": 115, \"peakrpm\": 5500, \"citympg\": 18, \"highwaympg\": 22, \"price\": 17450, \"Brand\": \"audi\", \"price_level\": \"ordinary\", \"Pred1\": 15365.681175719517, \"Pred2\": 15723.214753179942}, {\"car_ID\": 6, \"symboling\": 2, \"fueltype\": \"gas\", \"aspiration\": \"std\", \"doornumber\": \"two\", \"carbody\": \"sedan\", \"drivewheel\": \"fwd\", \"enginelocation\": \"front\", \"wheelbase\": 99.8, \"carlength\": 177.3, \"carwidth\": 66.3, \"carheight\": 53.1, \"curbweight\": 2507, \"enginetype\": \"ohc\", \"cylindernumber\": \"five\", \"enginesize\": 136, \"fuelsystem\": \"mpfi\", \"boreratio\": 3.19, \"stroke\": 3.4, \"compressionratio\": 8.5, \"horsepower\": 110, \"peakrpm\": 5500, \"citympg\": 19, \"highwaympg\": 25, \"price\": 15250, \"Brand\": \"audi\", \"price_level\": \"ordinary\", \"Pred1\": 14238.901993066647, \"Pred2\": 14128.245318968999}, {\"car_ID\": 7, \"symboling\": 1, \"fueltype\": \"gas\", \"aspiration\": \"std\", \"doornumber\": \"four\", \"carbody\": \"sedan\", \"drivewheel\": \"fwd\", \"enginelocation\": \"front\", \"wheelbase\": 105.8, \"carlength\": 192.7, \"carwidth\": 71.4, \"carheight\": 55.7, \"curbweight\": 2844, \"enginetype\": \"ohc\", \"cylindernumber\": \"five\", \"enginesize\": 136, \"fuelsystem\": \"mpfi\", \"boreratio\": 3.19, \"stroke\": 3.4, \"compressionratio\": 8.5, \"horsepower\": 110, \"peakrpm\": 5500, \"citympg\": 19, \"highwaympg\": 25, \"price\": 17710, \"Brand\": \"audi\", \"price_level\": \"ordinary\", \"Pred1\": 18007.277498533127, \"Pred2\": 15564.733238627832}, {\"car_ID\": 8, \"symboling\": 1, \"fueltype\": \"gas\", \"aspiration\": \"std\", \"doornumber\": \"four\", \"carbody\": \"wagon\", \"drivewheel\": \"fwd\", \"enginelocation\": \"front\", \"wheelbase\": 105.8, \"carlength\": 192.7, \"carwidth\": 71.4, \"carheight\": 55.7, \"curbweight\": 2954, \"enginetype\": \"ohc\", \"cylindernumber\": \"five\", \"enginesize\": 136, \"fuelsystem\": \"mpfi\", \"boreratio\": 3.19, \"stroke\": 3.4, \"compressionratio\": 8.5, \"horsepower\": 110, \"peakrpm\": 5500, \"citympg\": 19, \"highwaympg\": 25, \"price\": 18920, \"Brand\": \"audi\", \"price_level\": \"ordinary\", \"Pred1\": 18346.506948917035, \"Pred2\": 16033.61653584585}, {\"car_ID\": 9, \"symboling\": 1, \"fueltype\": \"gas\", \"aspiration\": \"turbo\", \"doornumber\": \"four\", \"carbody\": \"sedan\", \"drivewheel\": \"fwd\", \"enginelocation\": \"front\", \"wheelbase\": 105.8, \"carlength\": 192.7, \"carwidth\": 71.4, \"carheight\": 55.9, \"curbweight\": 3086, \"enginetype\": \"ohc\", \"cylindernumber\": \"five\", \"enginesize\": 131, \"fuelsystem\": \"mpfi\", \"boreratio\": 3.13, \"stroke\": 3.4, \"compressionratio\": 8.3, \"horsepower\": 140, \"peakrpm\": 5500, \"citympg\": 17, \"highwaympg\": 20, \"price\": 23875, \"Brand\": \"audi\", \"price_level\": \"ordinary\", \"Pred1\": 19500.76262577674, \"Pred2\": 17634.27525852594}, {\"car_ID\": 10, \"symboling\": 0, \"fueltype\": \"gas\", \"aspiration\": \"turbo\", \"doornumber\": \"two\", \"carbody\": \"hatchback\", \"drivewheel\": \"4wd\", \"enginelocation\": \"front\", \"wheelbase\": 99.5, \"carlength\": 178.2, \"carwidth\": 67.9, \"carheight\": 52.0, \"curbweight\": 3053, \"enginetype\": \"ohc\", \"cylindernumber\": \"five\", \"enginesize\": 131, \"fuelsystem\": \"mpfi\", \"boreratio\": 3.13, \"stroke\": 3.4, \"compressionratio\": 7.0, \"horsepower\": 160, \"peakrpm\": 5500, \"citympg\": 16, \"highwaympg\": 22, \"price\": 17859, \"Brand\": \"audi\", \"price_level\": \"ordinary\", \"Pred1\": 18826.64181640769, \"Pred2\": 18468.54236190935}, {\"car_ID\": 11, \"symboling\": 2, \"fueltype\": \"gas\", \"aspiration\": \"std\", \"doornumber\": \"two\", \"carbody\": \"sedan\", \"drivewheel\": \"rwd\", \"enginelocation\": \"front\", \"wheelbase\": 101.2, \"carlength\": 176.8, \"carwidth\": 64.8, \"carheight\": 54.3, \"curbweight\": 2395, \"enginetype\": \"ohc\", \"cylindernumber\": \"four\", \"enginesize\": 108, \"fuelsystem\": \"mpfi\", \"boreratio\": 3.5, \"stroke\": 2.8, \"compressionratio\": 8.8, \"horsepower\": 101, \"peakrpm\": 5800, \"citympg\": 23, \"highwaympg\": 29, \"price\": 16430, \"Brand\": \"bmw\", \"price_level\": \"expensive\", \"Pred1\": 10273.12340603763, \"Pred2\": 10835.48094153891}, {\"car_ID\": 12, \"symboling\": 0, \"fueltype\": \"gas\", \"aspiration\": \"std\", \"doornumber\": \"four\", \"carbody\": \"sedan\", \"drivewheel\": \"rwd\", \"enginelocation\": \"front\", \"wheelbase\": 101.2, \"carlength\": 176.8, \"carwidth\": 64.8, \"carheight\": 54.3, \"curbweight\": 2395, \"enginetype\": \"ohc\", \"cylindernumber\": \"four\", \"enginesize\": 108, \"fuelsystem\": \"mpfi\", \"boreratio\": 3.5, \"stroke\": 2.8, \"compressionratio\": 8.8, \"horsepower\": 101, \"peakrpm\": 5800, \"citympg\": 23, \"highwaympg\": 29, \"price\": 16925, \"Brand\": \"bmw\", \"price_level\": \"expensive\", \"Pred1\": 10273.12340603763, \"Pred2\": 10835.48094153891}, {\"car_ID\": 13, \"symboling\": 0, \"fueltype\": \"gas\", \"aspiration\": \"std\", \"doornumber\": \"two\", \"carbody\": \"sedan\", \"drivewheel\": \"rwd\", \"enginelocation\": \"front\", \"wheelbase\": 101.2, \"carlength\": 176.8, \"carwidth\": 64.8, \"carheight\": 54.3, \"curbweight\": 2710, \"enginetype\": \"ohc\", \"cylindernumber\": \"six\", \"enginesize\": 164, \"fuelsystem\": \"mpfi\", \"boreratio\": 3.31, \"stroke\": 3.19, \"compressionratio\": 9.0, \"horsepower\": 121, \"peakrpm\": 4250, \"citympg\": 21, \"highwaympg\": 28, \"price\": 20970, \"Brand\": \"bmw\", \"price_level\": \"expensive\", \"Pred1\": 16902.089586022186, \"Pred2\": 17906.39726971614}, {\"car_ID\": 14, \"symboling\": 0, \"fueltype\": \"gas\", \"aspiration\": \"std\", \"doornumber\": \"four\", \"carbody\": \"sedan\", \"drivewheel\": \"rwd\", \"enginelocation\": \"front\", \"wheelbase\": 101.2, \"carlength\": 176.8, \"carwidth\": 64.8, \"carheight\": 54.3, \"curbweight\": 2765, \"enginetype\": \"ohc\", \"cylindernumber\": \"six\", \"enginesize\": 164, \"fuelsystem\": \"mpfi\", \"boreratio\": 3.31, \"stroke\": 3.19, \"compressionratio\": 9.0, \"horsepower\": 121, \"peakrpm\": 4250, \"citympg\": 21, \"highwaympg\": 28, \"price\": 21105, \"Brand\": \"bmw\", \"price_level\": \"expensive\", \"Pred1\": 17071.704311214133, \"Pred2\": 18140.83891832515}, {\"car_ID\": 15, \"symboling\": 1, \"fueltype\": \"gas\", \"aspiration\": \"std\", \"doornumber\": \"four\", \"carbody\": \"sedan\", \"drivewheel\": \"rwd\", \"enginelocation\": \"front\", \"wheelbase\": 103.5, \"carlength\": 189.0, \"carwidth\": 66.9, \"carheight\": 55.7, \"curbweight\": 3055, \"enginetype\": \"ohc\", \"cylindernumber\": \"six\", \"enginesize\": 164, \"fuelsystem\": \"mpfi\", \"boreratio\": 3.31, \"stroke\": 3.19, \"compressionratio\": 9.0, \"horsepower\": 121, \"peakrpm\": 4250, \"citympg\": 20, \"highwaympg\": 25, \"price\": 24565, \"Brand\": \"bmw\", \"price_level\": \"expensive\", \"Pred1\": 18728.94222146657, \"Pred2\": 19376.985792809017}, {\"car_ID\": 16, \"symboling\": 0, \"fueltype\": \"gas\", \"aspiration\": \"std\", \"doornumber\": \"four\", \"carbody\": \"sedan\", \"drivewheel\": \"rwd\", \"enginelocation\": \"front\", \"wheelbase\": 103.5, \"carlength\": 189.0, \"carwidth\": 66.9, \"carheight\": 55.7, \"curbweight\": 3230, \"enginetype\": \"ohc\", \"cylindernumber\": \"six\", \"enginesize\": 209, \"fuelsystem\": \"mpfi\", \"boreratio\": 3.62, \"stroke\": 3.39, \"compressionratio\": 8.0, \"horsepower\": 182, \"peakrpm\": 5400, \"citympg\": 16, \"highwaympg\": 22, \"price\": 30760, \"Brand\": \"bmw\", \"price_level\": \"expensive\", \"Pred1\": 25937.24356503028, \"Pred2\": 26916.07373044521}, {\"car_ID\": 17, \"symboling\": 0, \"fueltype\": \"gas\", \"aspiration\": \"std\", \"doornumber\": \"two\", \"carbody\": \"sedan\", \"drivewheel\": \"rwd\", \"enginelocation\": \"front\", \"wheelbase\": 103.5, \"carlength\": 193.8, \"carwidth\": 67.9, \"carheight\": 53.7, \"curbweight\": 3380, \"enginetype\": \"ohc\", \"cylindernumber\": \"six\", \"enginesize\": 209, \"fuelsystem\": \"mpfi\", \"boreratio\": 3.62, \"stroke\": 3.39, \"compressionratio\": 8.0, \"horsepower\": 182, \"peakrpm\": 5400, \"citympg\": 16, \"highwaympg\": 22, \"price\": 41315, \"Brand\": \"bmw\", \"price_level\": \"expensive\", \"Pred1\": 26878.512199829653, \"Pred2\": 27555.460044833413}, {\"car_ID\": 18, \"symboling\": 0, \"fueltype\": \"gas\", \"aspiration\": \"std\", \"doornumber\": \"four\", \"carbody\": \"sedan\", \"drivewheel\": \"rwd\", \"enginelocation\": \"front\", \"wheelbase\": 110.0, \"carlength\": 197.0, \"carwidth\": 70.9, \"carheight\": 56.3, \"curbweight\": 3505, \"enginetype\": \"ohc\", \"cylindernumber\": \"six\", \"enginesize\": 209, \"fuelsystem\": \"mpfi\", \"boreratio\": 3.62, \"stroke\": 3.39, \"compressionratio\": 8.0, \"horsepower\": 182, \"peakrpm\": 5400, \"citympg\": 15, \"highwaympg\": 20, \"price\": 36880, \"Brand\": \"bmw\", \"price_level\": \"expensive\", \"Pred1\": 28958.91928138175, \"Pred2\": 28088.281973490248}, {\"car_ID\": 19, \"symboling\": 2, \"fueltype\": \"gas\", \"aspiration\": \"std\", \"doornumber\": \"two\", \"carbody\": \"hatchback\", \"drivewheel\": \"fwd\", \"enginelocation\": \"front\", \"wheelbase\": 88.4, \"carlength\": 141.1, \"carwidth\": 60.3, \"carheight\": 53.2, \"curbweight\": 1488, \"enginetype\": \"l\", \"cylindernumber\": \"three\", \"enginesize\": 61, \"fuelsystem\": \"2bbl\", \"boreratio\": 2.91, \"stroke\": 3.03, \"compressionratio\": 9.5, \"horsepower\": 48, \"peakrpm\": 5100, \"citympg\": 47, \"highwaympg\": 53, \"price\": 5151, \"Brand\": \"chevrolet\", \"price_level\": \"cheap\", \"Pred1\": -261.3456426220728, \"Pred2\": 396.400877585902}, {\"car_ID\": 20, \"symboling\": 1, \"fueltype\": \"gas\", \"aspiration\": \"std\", \"doornumber\": \"two\", \"carbody\": \"hatchback\", \"drivewheel\": \"fwd\", \"enginelocation\": \"front\", \"wheelbase\": 94.5, \"carlength\": 155.9, \"carwidth\": 63.6, \"carheight\": 52.0, \"curbweight\": 1874, \"enginetype\": \"ohc\", \"cylindernumber\": \"four\", \"enginesize\": 90, \"fuelsystem\": \"2bbl\", \"boreratio\": 3.03, \"stroke\": 3.11, \"compressionratio\": 9.6, \"horsepower\": 70, \"peakrpm\": 5400, \"citympg\": 38, \"highwaympg\": 43, \"price\": 6295, \"Brand\": \"chevrolet\", \"price_level\": \"cheap\", \"Pred1\": 5771.503704592309, \"Pred2\": 5575.696657349454}, {\"car_ID\": 21, \"symboling\": 0, \"fueltype\": \"gas\", \"aspiration\": \"std\", \"doornumber\": \"four\", \"carbody\": \"sedan\", \"drivewheel\": \"fwd\", \"enginelocation\": \"front\", \"wheelbase\": 94.5, \"carlength\": 158.8, \"carwidth\": 63.6, \"carheight\": 52.0, \"curbweight\": 1909, \"enginetype\": \"ohc\", \"cylindernumber\": \"four\", \"enginesize\": 90, \"fuelsystem\": \"2bbl\", \"boreratio\": 3.03, \"stroke\": 3.11, \"compressionratio\": 9.6, \"horsepower\": 70, \"peakrpm\": 5400, \"citympg\": 38, \"highwaympg\": 43, \"price\": 6575, \"Brand\": \"chevrolet\", \"price_level\": \"cheap\", \"Pred1\": 5787.516601295145, \"Pred2\": 5724.886797373369}, {\"car_ID\": 22, \"symboling\": 1, \"fueltype\": \"gas\", \"aspiration\": \"std\", \"doornumber\": \"two\", \"carbody\": \"hatchback\", \"drivewheel\": \"fwd\", \"enginelocation\": \"front\", \"wheelbase\": 93.7, \"carlength\": 157.3, \"carwidth\": 63.8, \"carheight\": 50.8, \"curbweight\": 1876, \"enginetype\": \"ohc\", \"cylindernumber\": \"four\", \"enginesize\": 90, \"fuelsystem\": \"2bbl\", \"boreratio\": 2.97, \"stroke\": 3.23, \"compressionratio\": 9.41, \"horsepower\": 68, \"peakrpm\": 5500, \"citympg\": 37, \"highwaympg\": 41, \"price\": 5572, \"Brand\": \"dodge\", \"price_level\": \"cheap\", \"Pred1\": 5667.699616965008, \"Pred2\": 5486.728598953083}, {\"car_ID\": 23, \"symboling\": 1, \"fueltype\": \"gas\", \"aspiration\": \"std\", \"doornumber\": \"two\", \"carbody\": \"hatchback\", \"drivewheel\": \"fwd\", \"enginelocation\": \"front\", \"wheelbase\": 93.7, \"carlength\": 157.3, \"carwidth\": 63.8, \"carheight\": 50.8, \"curbweight\": 1876, \"enginetype\": \"ohc\", \"cylindernumber\": \"four\", \"enginesize\": 90, \"fuelsystem\": \"2bbl\", \"boreratio\": 2.97, \"stroke\": 3.23, \"compressionratio\": 9.4, \"horsepower\": 68, \"peakrpm\": 5500, \"citympg\": 31, \"highwaympg\": 38, \"price\": 6377, \"Brand\": \"dodge\", \"price_level\": \"cheap\", \"Pred1\": 5801.674727584192, \"Pred2\": 5486.728598953083}, {\"car_ID\": 24, \"symboling\": 1, \"fueltype\": \"gas\", \"aspiration\": \"turbo\", \"doornumber\": \"two\", \"carbody\": \"hatchback\", \"drivewheel\": \"fwd\", \"enginelocation\": \"front\", \"wheelbase\": 93.7, \"carlength\": 157.3, \"carwidth\": 63.8, \"carheight\": 50.8, \"curbweight\": 2128, \"enginetype\": \"ohc\", \"cylindernumber\": \"four\", \"enginesize\": 98, \"fuelsystem\": \"mpfi\", \"boreratio\": 3.03, \"stroke\": 3.39, \"compressionratio\": 7.6, \"horsepower\": 102, \"peakrpm\": 5500, \"citympg\": 24, \"highwaympg\": 30, \"price\": 7957, \"Brand\": \"dodge\", \"price_level\": \"cheap\", \"Pred1\": 8670.409098085045, \"Pred2\": 8897.321160945852}, {\"car_ID\": 25, \"symboling\": 1, \"fueltype\": \"gas\", \"aspiration\": \"std\", \"doornumber\": \"four\", \"carbody\": \"hatchback\", \"drivewheel\": \"fwd\", \"enginelocation\": \"front\", \"wheelbase\": 93.7, \"carlength\": 157.3, \"carwidth\": 63.8, \"carheight\": 50.6, \"curbweight\": 1967, \"enginetype\": \"ohc\", \"cylindernumber\": \"four\", \"enginesize\": 90, \"fuelsystem\": \"2bbl\", \"boreratio\": 2.97, \"stroke\": 3.23, \"compressionratio\": 9.4, \"horsepower\": 68, \"peakrpm\": 5500, \"citympg\": 31, \"highwaympg\": 38, \"price\": 6229, \"Brand\": \"dodge\", \"price_level\": \"cheap\", \"Pred1\": 6082.3100001745115, \"Pred2\": 5874.622963015259}, {\"car_ID\": 26, \"symboling\": 1, \"fueltype\": \"gas\", \"aspiration\": \"std\", \"doornumber\": \"four\", \"carbody\": \"sedan\", \"drivewheel\": \"fwd\", \"enginelocation\": \"front\", \"wheelbase\": 93.7, \"carlength\": 157.3, \"carwidth\": 63.8, \"carheight\": 50.6, \"curbweight\": 1989, \"enginetype\": \"ohc\", \"cylindernumber\": \"four\", \"enginesize\": 90, \"fuelsystem\": \"2bbl\", \"boreratio\": 2.97, \"stroke\": 3.23, \"compressionratio\": 9.4, \"horsepower\": 68, \"peakrpm\": 5500, \"citympg\": 31, \"highwaympg\": 38, \"price\": 6692, \"Brand\": \"dodge\", \"price_level\": \"cheap\", \"Pred1\": 6150.155890251299, \"Pred2\": 5968.399622458863}, {\"car_ID\": 27, \"symboling\": 1, \"fueltype\": \"gas\", \"aspiration\": \"std\", \"doornumber\": \"four\", \"carbody\": \"sedan\", \"drivewheel\": \"fwd\", \"enginelocation\": \"front\", \"wheelbase\": 93.7, \"carlength\": 157.3, \"carwidth\": 63.8, \"carheight\": 50.6, \"curbweight\": 1989, \"enginetype\": \"ohc\", \"cylindernumber\": \"four\", \"enginesize\": 90, \"fuelsystem\": \"2bbl\", \"boreratio\": 2.97, \"stroke\": 3.23, \"compressionratio\": 9.4, \"horsepower\": 68, \"peakrpm\": 5500, \"citympg\": 31, \"highwaympg\": 38, \"price\": 7609, \"Brand\": \"dodge\", \"price_level\": \"cheap\", \"Pred1\": 6150.155890251299, \"Pred2\": 5968.399622458863}, {\"car_ID\": 28, \"symboling\": 1, \"fueltype\": \"gas\", \"aspiration\": \"turbo\", \"doornumber\": \"two\", \"carbody\": \"sedan\", \"drivewheel\": \"fwd\", \"enginelocation\": \"front\", \"wheelbase\": 93.7, \"carlength\": 157.3, \"carwidth\": 63.8, \"carheight\": 50.6, \"curbweight\": 2191, \"enginetype\": \"ohc\", \"cylindernumber\": \"four\", \"enginesize\": 98, \"fuelsystem\": \"mpfi\", \"boreratio\": 3.03, \"stroke\": 3.39, \"compressionratio\": 7.6, \"horsepower\": 102, \"peakrpm\": 5500, \"citympg\": 24, \"highwaympg\": 30, \"price\": 8558, \"Brand\": \"dodge\", \"price_level\": \"cheap\", \"Pred1\": 8864.695056032186, \"Pred2\": 9165.863412988896}, {\"car_ID\": 29, \"symboling\": -1, \"fueltype\": \"gas\", \"aspiration\": \"std\", \"doornumber\": \"four\", \"carbody\": \"wagon\", \"drivewheel\": \"fwd\", \"enginelocation\": \"front\", \"wheelbase\": 103.3, \"carlength\": 174.6, \"carwidth\": 64.6, \"carheight\": 59.8, \"curbweight\": 2535, \"enginetype\": \"ohc\", \"cylindernumber\": \"four\", \"enginesize\": 122, \"fuelsystem\": \"2bbl\", \"boreratio\": 3.34, \"stroke\": 3.46, \"compressionratio\": 8.5, \"horsepower\": 88, \"peakrpm\": 5000, \"citympg\": 24, \"highwaympg\": 30, \"price\": 8921, \"Brand\": \"dodge\", \"price_level\": \"cheap\", \"Pred1\": 11208.280227927535, \"Pred2\": 11986.853885331137}, {\"car_ID\": 30, \"symboling\": 3, \"fueltype\": \"gas\", \"aspiration\": \"turbo\", \"doornumber\": \"two\", \"carbody\": \"hatchback\", \"drivewheel\": \"fwd\", \"enginelocation\": \"front\", \"wheelbase\": 95.9, \"carlength\": 173.2, \"carwidth\": 66.3, \"carheight\": 50.2, \"curbweight\": 2811, \"enginetype\": \"ohc\", \"cylindernumber\": \"four\", \"enginesize\": 156, \"fuelsystem\": \"mfi\", \"boreratio\": 3.6, \"stroke\": 3.9, \"compressionratio\": 7.0, \"horsepower\": 145, \"peakrpm\": 5000, \"citympg\": 19, \"highwaympg\": 24, \"price\": 12964, \"Brand\": \"dodge\", \"price_level\": \"cheap\", \"Pred1\": 18563.774759334105, \"Pred2\": 18827.796902641847}, {\"car_ID\": 31, \"symboling\": 2, \"fueltype\": \"gas\", \"aspiration\": \"std\", \"doornumber\": \"two\", \"carbody\": \"hatchback\", \"drivewheel\": \"fwd\", \"enginelocation\": \"front\", \"wheelbase\": 86.6, \"carlength\": 144.6, \"carwidth\": 63.9, \"carheight\": 50.8, \"curbweight\": 1713, \"enginetype\": \"ohc\", \"cylindernumber\": \"four\", \"enginesize\": 92, \"fuelsystem\": \"1bbl\", \"boreratio\": 2.91, \"stroke\": 3.41, \"compressionratio\": 9.6, \"horsepower\": 58, \"peakrpm\": 4800, \"citympg\": 49, \"highwaympg\": 54, \"price\": 6479, \"Brand\": \"honda\", \"price_level\": \"cheap\", \"Pred1\": 5603.835825296257, \"Pred2\": 4474.222506832059}, {\"car_ID\": 32, \"symboling\": 2, \"fueltype\": \"gas\", \"aspiration\": \"std\", \"doornumber\": \"two\", \"carbody\": \"hatchback\", \"drivewheel\": \"fwd\", \"enginelocation\": \"front\", \"wheelbase\": 86.6, \"carlength\": 144.6, \"carwidth\": 63.9, \"carheight\": 50.8, \"curbweight\": 1819, \"enginetype\": \"ohc\", \"cylindernumber\": \"four\", \"enginesize\": 92, \"fuelsystem\": \"1bbl\", \"boreratio\": 2.91, \"stroke\": 3.41, \"compressionratio\": 9.2, \"horsepower\": 76, \"peakrpm\": 6000, \"citympg\": 31, \"highwaympg\": 38, \"price\": 6855, \"Brand\": \"honda\", \"price_level\": \"cheap\", \"Pred1\": 6640.312004147301, \"Pred2\": 5803.494385626989}, {\"car_ID\": 33, \"symboling\": 1, \"fueltype\": \"gas\", \"aspiration\": \"std\", \"doornumber\": \"two\", \"carbody\": \"hatchback\", \"drivewheel\": \"fwd\", \"enginelocation\": \"front\", \"wheelbase\": 93.7, \"carlength\": 150.0, \"carwidth\": 64.0, \"carheight\": 52.6, \"curbweight\": 1837, \"enginetype\": \"ohc\", \"cylindernumber\": \"four\", \"enginesize\": 79, \"fuelsystem\": \"1bbl\", \"boreratio\": 2.91, \"stroke\": 3.07, \"compressionratio\": 10.1, \"horsepower\": 60, \"peakrpm\": 5500, \"citympg\": 38, \"highwaympg\": 42, \"price\": 5399, \"Brand\": \"honda\", \"price_level\": \"cheap\", \"Pred1\": 4624.974970843876, \"Pred2\": 3996.836700022177}, {\"car_ID\": 34, \"symboling\": 1, \"fueltype\": \"gas\", \"aspiration\": \"std\", \"doornumber\": \"two\", \"carbody\": \"hatchback\", \"drivewheel\": \"fwd\", \"enginelocation\": \"front\", \"wheelbase\": 93.7, \"carlength\": 150.0, \"carwidth\": 64.0, \"carheight\": 52.6, \"curbweight\": 1940, \"enginetype\": \"ohc\", \"cylindernumber\": \"four\", \"enginesize\": 92, \"fuelsystem\": \"1bbl\", \"boreratio\": 2.91, \"stroke\": 3.41, \"compressionratio\": 9.2, \"horsepower\": 76, \"peakrpm\": 6000, \"citympg\": 30, \"highwaympg\": 34, \"price\": 6529, \"Brand\": \"honda\", \"price_level\": \"cheap\", \"Pred1\": 6651.266768123809, \"Pred2\": 6319.266012566808}, {\"car_ID\": 35, \"symboling\": 1, \"fueltype\": \"gas\", \"aspiration\": \"std\", \"doornumber\": \"two\", \"carbody\": \"hatchback\", \"drivewheel\": \"fwd\", \"enginelocation\": \"front\", \"wheelbase\": 93.7, \"carlength\": 150.0, \"carwidth\": 64.0, \"carheight\": 52.6, \"curbweight\": 1956, \"enginetype\": \"ohc\", \"cylindernumber\": \"four\", \"enginesize\": 92, \"fuelsystem\": \"1bbl\", \"boreratio\": 2.91, \"stroke\": 3.41, \"compressionratio\": 9.2, \"horsepower\": 76, \"peakrpm\": 6000, \"citympg\": 30, \"highwaympg\": 34, \"price\": 7129, \"Brand\": \"honda\", \"price_level\": \"cheap\", \"Pred1\": 6700.609233634197, \"Pred2\": 6387.467219434882}, {\"car_ID\": 36, \"symboling\": 0, \"fueltype\": \"gas\", \"aspiration\": \"std\", \"doornumber\": \"four\", \"carbody\": \"sedan\", \"drivewheel\": \"fwd\", \"enginelocation\": \"front\", \"wheelbase\": 96.5, \"carlength\": 163.4, \"carwidth\": 64.0, \"carheight\": 54.5, \"curbweight\": 2010, \"enginetype\": \"ohc\", \"cylindernumber\": \"four\", \"enginesize\": 92, \"fuelsystem\": \"1bbl\", \"boreratio\": 2.91, \"stroke\": 3.41, \"compressionratio\": 9.2, \"horsepower\": 76, \"peakrpm\": 6000, \"citympg\": 30, \"highwaympg\": 34, \"price\": 7295, \"Brand\": \"honda\", \"price_level\": \"cheap\", \"Pred1\": 6442.388949747219, \"Pred2\": 6617.646292614638}, {\"car_ID\": 37, \"symboling\": 0, \"fueltype\": \"gas\", \"aspiration\": \"std\", \"doornumber\": \"four\", \"carbody\": \"wagon\", \"drivewheel\": \"fwd\", \"enginelocation\": \"front\", \"wheelbase\": 96.5, \"carlength\": 157.1, \"carwidth\": 63.9, \"carheight\": 58.3, \"curbweight\": 2024, \"enginetype\": \"ohc\", \"cylindernumber\": \"four\", \"enginesize\": 92, \"fuelsystem\": \"1bbl\", \"boreratio\": 2.92, \"stroke\": 3.41, \"compressionratio\": 9.2, \"horsepower\": 76, \"peakrpm\": 6000, \"citympg\": 30, \"highwaympg\": 34, \"price\": 7295, \"Brand\": \"honda\", \"price_level\": \"cheap\", \"Pred1\": 6622.176755080225, \"Pred2\": 6677.322348624202}, {\"car_ID\": 38, \"symboling\": 0, \"fueltype\": \"gas\", \"aspiration\": \"std\", \"doornumber\": \"two\", \"carbody\": \"hatchback\", \"drivewheel\": \"fwd\", \"enginelocation\": \"front\", \"wheelbase\": 96.5, \"carlength\": 167.5, \"carwidth\": 65.2, \"carheight\": 53.3, \"curbweight\": 2236, \"enginetype\": \"ohc\", \"cylindernumber\": \"four\", \"enginesize\": 110, \"fuelsystem\": \"1bbl\", \"boreratio\": 3.15, \"stroke\": 3.58, \"compressionratio\": 9.0, \"horsepower\": 86, \"peakrpm\": 5800, \"citympg\": 27, \"highwaympg\": 33, \"price\": 7895, \"Brand\": \"honda\", \"price_level\": \"cheap\", \"Pred1\": 9847.750071092305, \"Pred2\": 9596.292127997702}, {\"car_ID\": 39, \"symboling\": 0, \"fueltype\": \"gas\", \"aspiration\": \"std\", \"doornumber\": \"two\", \"carbody\": \"hatchback\", \"drivewheel\": \"fwd\", \"enginelocation\": \"front\", \"wheelbase\": 96.5, \"carlength\": 167.5, \"carwidth\": 65.2, \"carheight\": 53.3, \"curbweight\": 2289, \"enginetype\": \"ohc\", \"cylindernumber\": \"four\", \"enginesize\": 110, \"fuelsystem\": \"1bbl\", \"boreratio\": 3.15, \"stroke\": 3.58, \"compressionratio\": 9.0, \"horsepower\": 86, \"peakrpm\": 5800, \"citympg\": 27, \"highwaympg\": 33, \"price\": 9095, \"Brand\": \"honda\", \"price_level\": \"cheap\", \"Pred1\": 10011.196988095464, \"Pred2\": 9822.2086257482}, {\"car_ID\": 40, \"symboling\": 0, \"fueltype\": \"gas\", \"aspiration\": \"std\", \"doornumber\": \"four\", \"carbody\": \"sedan\", \"drivewheel\": \"fwd\", \"enginelocation\": \"front\", \"wheelbase\": 96.5, \"carlength\": 175.4, \"carwidth\": 65.2, \"carheight\": 54.1, \"curbweight\": 2304, \"enginetype\": \"ohc\", \"cylindernumber\": \"four\", \"enginesize\": 110, \"fuelsystem\": \"1bbl\", \"boreratio\": 3.15, \"stroke\": 3.58, \"compressionratio\": 9.0, \"horsepower\": 86, \"peakrpm\": 5800, \"citympg\": 27, \"highwaympg\": 33, \"price\": 8845, \"Brand\": \"honda\", \"price_level\": \"cheap\", \"Pred1\": 9807.042584632509, \"Pred2\": 9886.147257187022}, {\"car_ID\": 41, \"symboling\": 0, \"fueltype\": \"gas\", \"aspiration\": \"std\", \"doornumber\": \"four\", \"carbody\": \"sedan\", \"drivewheel\": \"fwd\", \"enginelocation\": \"front\", \"wheelbase\": 96.5, \"carlength\": 175.4, \"carwidth\": 62.5, \"carheight\": 54.1, \"curbweight\": 2372, \"enginetype\": \"ohc\", \"cylindernumber\": \"four\", \"enginesize\": 110, \"fuelsystem\": \"1bbl\", \"boreratio\": 3.15, \"stroke\": 3.58, \"compressionratio\": 9.0, \"horsepower\": 86, \"peakrpm\": 5800, \"citympg\": 27, \"highwaympg\": 33, \"price\": 10295, \"Brand\": \"honda\", \"price_level\": \"cheap\", \"Pred1\": 8313.499853548914, \"Pred2\": 10176.002386376342}, {\"car_ID\": 42, \"symboling\": 0, \"fueltype\": \"gas\", \"aspiration\": \"std\", \"doornumber\": \"four\", \"carbody\": \"sedan\", \"drivewheel\": \"fwd\", \"enginelocation\": \"front\", \"wheelbase\": 96.5, \"carlength\": 175.4, \"carwidth\": 65.2, \"carheight\": 54.1, \"curbweight\": 2465, \"enginetype\": \"ohc\", \"cylindernumber\": \"four\", \"enginesize\": 110, \"fuelsystem\": \"mpfi\", \"boreratio\": 3.15, \"stroke\": 3.58, \"compressionratio\": 9.0, \"horsepower\": 101, \"peakrpm\": 5800, \"citympg\": 24, \"highwaympg\": 28, \"price\": 12945, \"Brand\": \"honda\", \"price_level\": \"cheap\", \"Pred1\": 10811.21402851474, \"Pred2\": 11303.620970708638}, {\"car_ID\": 43, \"symboling\": 1, \"fueltype\": \"gas\", \"aspiration\": \"std\", \"doornumber\": \"two\", \"carbody\": \"sedan\", \"drivewheel\": \"fwd\", \"enginelocation\": \"front\", \"wheelbase\": 96.5, \"carlength\": 169.1, \"carwidth\": 66.0, \"carheight\": 51.0, \"curbweight\": 2293, \"enginetype\": \"ohc\", \"cylindernumber\": \"four\", \"enginesize\": 110, \"fuelsystem\": \"2bbl\", \"boreratio\": 3.15, \"stroke\": 3.58, \"compressionratio\": 9.1, \"horsepower\": 100, \"peakrpm\": 5500, \"citympg\": 25, \"highwaympg\": 31, \"price\": 10345, \"Brand\": \"honda\", \"price_level\": \"cheap\", \"Pred1\": 11112.466463560115, \"Pred2\": 10521.711392249392}, {\"car_ID\": 44, \"symboling\": 0, \"fueltype\": \"gas\", \"aspiration\": \"std\", \"doornumber\": \"four\", \"carbody\": \"sedan\", \"drivewheel\": \"rwd\", \"enginelocation\": \"front\", \"wheelbase\": 94.3, \"carlength\": 170.7, \"carwidth\": 61.8, \"carheight\": 53.5, \"curbweight\": 2337, \"enginetype\": \"ohc\", \"cylindernumber\": \"four\", \"enginesize\": 111, \"fuelsystem\": \"2bbl\", \"boreratio\": 3.31, \"stroke\": 3.23, \"compressionratio\": 8.5, \"horsepower\": 78, \"peakrpm\": 4800, \"citympg\": 24, \"highwaympg\": 29, \"price\": 6785, \"Brand\": \"isuzu\", \"price_level\": \"cheap\", \"Pred1\": 7483.182703073886, \"Pred2\": 9721.71928389385}, {\"car_ID\": 45, \"symboling\": 1, \"fueltype\": \"gas\", \"aspiration\": \"std\", \"doornumber\": \"two\", \"carbody\": \"sedan\", \"drivewheel\": \"fwd\", \"enginelocation\": \"front\", \"wheelbase\": 94.5, \"carlength\": 155.9, \"carwidth\": 63.6, \"carheight\": 52.0, \"curbweight\": 1874, \"enginetype\": \"ohc\", \"cylindernumber\": \"four\", \"enginesize\": 90, \"fuelsystem\": \"2bbl\", \"boreratio\": 3.03, \"stroke\": 3.11, \"compressionratio\": 9.6, \"horsepower\": 70, \"peakrpm\": 5400, \"citympg\": 38, \"highwaympg\": 43, \"price\": 8916, \"Brand\": \"isuzu\", \"price_level\": \"cheap\", \"Pred1\": 5771.503704592309, \"Pred2\": 5575.696657349454}, {\"car_ID\": 46, \"symboling\": 0, \"fueltype\": \"gas\", \"aspiration\": \"std\", \"doornumber\": \"four\", \"carbody\": \"sedan\", \"drivewheel\": \"fwd\", \"enginelocation\": \"front\", \"wheelbase\": 94.5, \"carlength\": 155.9, \"carwidth\": 63.6, \"carheight\": 52.0, \"curbweight\": 1909, \"enginetype\": \"ohc\", \"cylindernumber\": \"four\", \"enginesize\": 90, \"fuelsystem\": \"2bbl\", \"boreratio\": 3.03, \"stroke\": 3.11, \"compressionratio\": 9.6, \"horsepower\": 70, \"peakrpm\": 5400, \"citympg\": 38, \"highwaympg\": 43, \"price\": 8916, \"Brand\": \"isuzu\", \"price_level\": \"cheap\", \"Pred1\": 5879.440347896278, \"Pred2\": 5724.886797373369}, {\"car_ID\": 47, \"symboling\": 2, \"fueltype\": \"gas\", \"aspiration\": \"std\", \"doornumber\": \"two\", \"carbody\": \"hatchback\", \"drivewheel\": \"rwd\", \"enginelocation\": \"front\", \"wheelbase\": 96.0, \"carlength\": 172.6, \"carwidth\": 65.2, \"carheight\": 51.4, \"curbweight\": 2734, \"enginetype\": \"ohc\", \"cylindernumber\": \"four\", \"enginesize\": 119, \"fuelsystem\": \"spfi\", \"boreratio\": 3.43, \"stroke\": 3.23, \"compressionratio\": 9.2, \"horsepower\": 90, \"peakrpm\": 5000, \"citympg\": 24, \"highwaympg\": 29, \"price\": 11048, \"Brand\": \"isuzu\", \"price_level\": \"cheap\", \"Pred1\": 12031.037441967019, \"Pred2\": 12677.959981324853}, {\"car_ID\": 48, \"symboling\": 0, \"fueltype\": \"gas\", \"aspiration\": \"std\", \"doornumber\": \"four\", \"carbody\": \"sedan\", \"drivewheel\": \"rwd\", \"enginelocation\": \"front\", \"wheelbase\": 113.0, \"carlength\": 199.6, \"carwidth\": 69.6, \"carheight\": 52.8, \"curbweight\": 4066, \"enginetype\": \"dohc\", \"cylindernumber\": \"six\", \"enginesize\": 258, \"fuelsystem\": \"mpfi\", \"boreratio\": 3.63, \"stroke\": 4.17, \"compressionratio\": 8.1, \"horsepower\": 176, \"peakrpm\": 4750, \"citympg\": 15, \"highwaympg\": 19, \"price\": 32250, \"Brand\": \"jaguar\", \"price_level\": \"expensive\", \"Pred1\": 33495.294140706, \"Pred2\": 34346.22101502403}, {\"car_ID\": 49, \"symboling\": 0, \"fueltype\": \"gas\", \"aspiration\": \"std\", \"doornumber\": \"four\", \"carbody\": \"sedan\", \"drivewheel\": \"rwd\", \"enginelocation\": \"front\", \"wheelbase\": 113.0, \"carlength\": 199.6, \"carwidth\": 69.6, \"carheight\": 52.8, \"curbweight\": 4066, \"enginetype\": \"dohc\", \"cylindernumber\": \"six\", \"enginesize\": 258, \"fuelsystem\": \"mpfi\", \"boreratio\": 3.63, \"stroke\": 4.17, \"compressionratio\": 8.1, \"horsepower\": 176, \"peakrpm\": 4750, \"citympg\": 15, \"highwaympg\": 19, \"price\": 35550, \"Brand\": \"jaguar\", \"price_level\": \"expensive\", \"Pred1\": 33495.294140706, \"Pred2\": 34346.22101502403}, {\"car_ID\": 50, \"symboling\": 0, \"fueltype\": \"gas\", \"aspiration\": \"std\", \"doornumber\": \"two\", \"carbody\": \"sedan\", \"drivewheel\": \"rwd\", \"enginelocation\": \"front\", \"wheelbase\": 102.0, \"carlength\": 191.7, \"carwidth\": 70.6, \"carheight\": 47.8, \"curbweight\": 3950, \"enginetype\": \"ohcv\", \"cylindernumber\": \"twelve\", \"enginesize\": 326, \"fuelsystem\": \"mpfi\", \"boreratio\": 3.54, \"stroke\": 2.76, \"compressionratio\": 11.5, \"horsepower\": 262, \"peakrpm\": 5000, \"citympg\": 13, \"highwaympg\": 17, \"price\": 36000, \"Brand\": \"jaguar\", \"price_level\": \"expensive\", \"Pred1\": 43750.54397990172, \"Pred2\": 43815.80173333497}, {\"car_ID\": 51, \"symboling\": 1, \"fueltype\": \"gas\", \"aspiration\": \"std\", \"doornumber\": \"two\", \"carbody\": \"hatchback\", \"drivewheel\": \"fwd\", \"enginelocation\": \"front\", \"wheelbase\": 93.1, \"carlength\": 159.1, \"carwidth\": 64.2, \"carheight\": 54.1, \"curbweight\": 1890, \"enginetype\": \"ohc\", \"cylindernumber\": \"four\", \"enginesize\": 91, \"fuelsystem\": \"2bbl\", \"boreratio\": 3.03, \"stroke\": 3.15, \"compressionratio\": 9.0, \"horsepower\": 68, \"peakrpm\": 5000, \"citympg\": 30, \"highwaympg\": 31, \"price\": 5195, \"Brand\": \"mazda\", \"price_level\": \"ordinary\", \"Pred1\": 5632.219488248193, \"Pred2\": 5631.284529523597}, {\"car_ID\": 52, \"symboling\": 1, \"fueltype\": \"gas\", \"aspiration\": \"std\", \"doornumber\": \"two\", \"carbody\": \"hatchback\", \"drivewheel\": \"fwd\", \"enginelocation\": \"front\", \"wheelbase\": 93.1, \"carlength\": 159.1, \"carwidth\": 64.2, \"carheight\": 54.1, \"curbweight\": 1900, \"enginetype\": \"ohc\", \"cylindernumber\": \"four\", \"enginesize\": 91, \"fuelsystem\": \"2bbl\", \"boreratio\": 3.03, \"stroke\": 3.15, \"compressionratio\": 9.0, \"horsepower\": 68, \"peakrpm\": 5000, \"citympg\": 31, \"highwaympg\": 38, \"price\": 6095, \"Brand\": \"mazda\", \"price_level\": \"ordinary\", \"Pred1\": 6154.121124340185, \"Pred2\": 5673.910283816145}, {\"car_ID\": 53, \"symboling\": 1, \"fueltype\": \"gas\", \"aspiration\": \"std\", \"doornumber\": \"two\", \"carbody\": \"hatchback\", \"drivewheel\": \"fwd\", \"enginelocation\": \"front\", \"wheelbase\": 93.1, \"carlength\": 159.1, \"carwidth\": 64.2, \"carheight\": 54.1, \"curbweight\": 1905, \"enginetype\": \"ohc\", \"cylindernumber\": \"four\", \"enginesize\": 91, \"fuelsystem\": \"2bbl\", \"boreratio\": 3.03, \"stroke\": 3.15, \"compressionratio\": 9.0, \"horsepower\": 68, \"peakrpm\": 5000, \"citympg\": 31, \"highwaympg\": 38, \"price\": 6795, \"Brand\": \"mazda\", \"price_level\": \"ordinary\", \"Pred1\": 6169.540644812187, \"Pred2\": 5695.223160962418}, {\"car_ID\": 54, \"symboling\": 1, \"fueltype\": \"gas\", \"aspiration\": \"std\", \"doornumber\": \"four\", \"carbody\": \"sedan\", \"drivewheel\": \"fwd\", \"enginelocation\": \"front\", \"wheelbase\": 93.1, \"carlength\": 166.8, \"carwidth\": 64.2, \"carheight\": 54.1, \"curbweight\": 1945, \"enginetype\": \"ohc\", \"cylindernumber\": \"four\", \"enginesize\": 91, \"fuelsystem\": \"2bbl\", \"boreratio\": 3.03, \"stroke\": 3.15, \"compressionratio\": 9.0, \"horsepower\": 68, \"peakrpm\": 5000, \"citympg\": 31, \"highwaympg\": 38, \"price\": 6695, \"Brand\": \"mazda\", \"price_level\": \"ordinary\", \"Pred1\": 6048.823412440317, \"Pred2\": 5865.726178132609}, {\"car_ID\": 55, \"symboling\": 1, \"fueltype\": \"gas\", \"aspiration\": \"std\", \"doornumber\": \"four\", \"carbody\": \"sedan\", \"drivewheel\": \"fwd\", \"enginelocation\": \"front\", \"wheelbase\": 93.1, \"carlength\": 166.8, \"carwidth\": 64.2, \"carheight\": 54.1, \"curbweight\": 1950, \"enginetype\": \"ohc\", \"cylindernumber\": \"four\", \"enginesize\": 91, \"fuelsystem\": \"2bbl\", \"boreratio\": 3.08, \"stroke\": 3.15, \"compressionratio\": 9.0, \"horsepower\": 68, \"peakrpm\": 5000, \"citympg\": 31, \"highwaympg\": 38, \"price\": 7395, \"Brand\": \"mazda\", \"price_level\": \"ordinary\", \"Pred1\": 6064.2429329123115, \"Pred2\": 5887.039055278881}, {\"car_ID\": 56, \"symboling\": 3, \"fueltype\": \"gas\", \"aspiration\": \"std\", \"doornumber\": \"two\", \"carbody\": \"hatchback\", \"drivewheel\": \"rwd\", \"enginelocation\": \"front\", \"wheelbase\": 95.3, \"carlength\": 169.0, \"carwidth\": 65.7, \"carheight\": 49.6, \"curbweight\": 2380, \"enginetype\": \"rotor\", \"cylindernumber\": \"two\", \"enginesize\": 70, \"fuelsystem\": \"4bbl\", \"boreratio\": 3.33, \"stroke\": 3.255, \"compressionratio\": 9.4, \"horsepower\": 101, \"peakrpm\": 6000, \"citympg\": 17, \"highwaympg\": 23, \"price\": 10945, \"Brand\": \"mazda\", \"price_level\": \"ordinary\", \"Pred1\": 7778.964024652101, \"Pred2\": 7546.107076783999}, {\"car_ID\": 57, \"symboling\": 3, \"fueltype\": \"gas\", \"aspiration\": \"std\", \"doornumber\": \"two\", \"carbody\": \"hatchback\", \"drivewheel\": \"rwd\", \"enginelocation\": \"front\", \"wheelbase\": 95.3, \"carlength\": 169.0, \"carwidth\": 65.7, \"carheight\": 49.6, \"curbweight\": 2380, \"enginetype\": \"rotor\", \"cylindernumber\": \"two\", \"enginesize\": 70, \"fuelsystem\": \"4bbl\", \"boreratio\": 3.33, \"stroke\": 3.255, \"compressionratio\": 9.4, \"horsepower\": 101, \"peakrpm\": 6000, \"citympg\": 17, \"highwaympg\": 23, \"price\": 11845, \"Brand\": \"mazda\", \"price_level\": \"ordinary\", \"Pred1\": 7778.964024652101, \"Pred2\": 7546.107076783999}, {\"car_ID\": 58, \"symboling\": 3, \"fueltype\": \"gas\", \"aspiration\": \"std\", \"doornumber\": \"two\", \"carbody\": \"hatchback\", \"drivewheel\": \"rwd\", \"enginelocation\": \"front\", \"wheelbase\": 95.3, \"carlength\": 169.0, \"carwidth\": 65.7, \"carheight\": 49.6, \"curbweight\": 2385, \"enginetype\": \"rotor\", \"cylindernumber\": \"two\", \"enginesize\": 70, \"fuelsystem\": \"4bbl\", \"boreratio\": 3.33, \"stroke\": 3.255, \"compressionratio\": 9.4, \"horsepower\": 101, \"peakrpm\": 6000, \"citympg\": 17, \"highwaympg\": 23, \"price\": 13645, \"Brand\": \"mazda\", \"price_level\": \"ordinary\", \"Pred1\": 7794.383545124096, \"Pred2\": 7567.419953930275}, {\"car_ID\": 59, \"symboling\": 3, \"fueltype\": \"gas\", \"aspiration\": \"std\", \"doornumber\": \"two\", \"carbody\": \"hatchback\", \"drivewheel\": \"rwd\", \"enginelocation\": \"front\", \"wheelbase\": 95.3, \"carlength\": 169.0, \"carwidth\": 65.7, \"carheight\": 49.6, \"curbweight\": 2500, \"enginetype\": \"rotor\", \"cylindernumber\": \"two\", \"enginesize\": 80, \"fuelsystem\": \"mpfi\", \"boreratio\": 3.33, \"stroke\": 3.255, \"compressionratio\": 9.4, \"horsepower\": 135, \"peakrpm\": 6000, \"citympg\": 16, \"highwaympg\": 23, \"price\": 15645, \"Brand\": \"mazda\", \"price_level\": \"ordinary\", \"Pred1\": 10667.876196104371, \"Pred2\": 10563.799431237047}, {\"car_ID\": 60, \"symboling\": 1, \"fueltype\": \"gas\", \"aspiration\": \"std\", \"doornumber\": \"two\", \"carbody\": \"hatchback\", \"drivewheel\": \"fwd\", \"enginelocation\": \"front\", \"wheelbase\": 98.8, \"carlength\": 177.8, \"carwidth\": 66.5, \"carheight\": 53.7, \"curbweight\": 2385, \"enginetype\": \"ohc\", \"cylindernumber\": \"four\", \"enginesize\": 122, \"fuelsystem\": \"2bbl\", \"boreratio\": 3.39, \"stroke\": 3.39, \"compressionratio\": 8.6, \"horsepower\": 84, \"peakrpm\": 4800, \"citympg\": 26, \"highwaympg\": 32, \"price\": 8845, \"Brand\": \"mazda\", \"price_level\": \"ordinary\", \"Pred1\": 11685.937352771274, \"Pred2\": 11152.48115243317}, {\"car_ID\": 61, \"symboling\": 0, \"fueltype\": \"gas\", \"aspiration\": \"std\", \"doornumber\": \"four\", \"carbody\": \"sedan\", \"drivewheel\": \"fwd\", \"enginelocation\": \"front\", \"wheelbase\": 98.8, \"carlength\": 177.8, \"carwidth\": 66.5, \"carheight\": 55.5, \"curbweight\": 2410, \"enginetype\": \"ohc\", \"cylindernumber\": \"four\", \"enginesize\": 122, \"fuelsystem\": \"2bbl\", \"boreratio\": 3.39, \"stroke\": 3.39, \"compressionratio\": 8.6, \"horsepower\": 84, \"peakrpm\": 4800, \"citympg\": 26, \"highwaympg\": 32, \"price\": 8495, \"Brand\": \"mazda\", \"price_level\": \"ordinary\", \"Pred1\": 11763.034955131254, \"Pred2\": 11259.045538164537}, {\"car_ID\": 62, \"symboling\": 1, \"fueltype\": \"gas\", \"aspiration\": \"std\", \"doornumber\": \"two\", \"carbody\": \"hatchback\", \"drivewheel\": \"fwd\", \"enginelocation\": \"front\", \"wheelbase\": 98.8, \"carlength\": 177.8, \"carwidth\": 66.5, \"carheight\": 53.7, \"curbweight\": 2385, \"enginetype\": \"ohc\", \"cylindernumber\": \"four\", \"enginesize\": 122, \"fuelsystem\": \"2bbl\", \"boreratio\": 3.39, \"stroke\": 3.39, \"compressionratio\": 8.6, \"horsepower\": 84, \"peakrpm\": 4800, \"citympg\": 26, \"highwaympg\": 32, \"price\": 10595, \"Brand\": \"mazda\", \"price_level\": \"ordinary\", \"Pred1\": 11685.937352771274, \"Pred2\": 11152.48115243317}, {\"car_ID\": 63, \"symboling\": 0, \"fueltype\": \"gas\", \"aspiration\": \"std\", \"doornumber\": \"four\", \"carbody\": \"sedan\", \"drivewheel\": \"fwd\", \"enginelocation\": \"front\", \"wheelbase\": 98.8, \"carlength\": 177.8, \"carwidth\": 66.5, \"carheight\": 55.5, \"curbweight\": 2410, \"enginetype\": \"ohc\", \"cylindernumber\": \"four\", \"enginesize\": 122, \"fuelsystem\": \"2bbl\", \"boreratio\": 3.39, \"stroke\": 3.39, \"compressionratio\": 8.6, \"horsepower\": 84, \"peakrpm\": 4800, \"citympg\": 26, \"highwaympg\": 32, \"price\": 10245, \"Brand\": \"mazda\", \"price_level\": \"ordinary\", \"Pred1\": 11763.034955131254, \"Pred2\": 11259.045538164537}, {\"car_ID\": 64, \"symboling\": 0, \"fueltype\": \"diesel\", \"aspiration\": \"std\", \"doornumber\": \"four\", \"carbody\": \"sedan\", \"drivewheel\": \"fwd\", \"enginelocation\": \"front\", \"wheelbase\": 98.8, \"carlength\": 177.8, \"carwidth\": 66.5, \"carheight\": 55.5, \"curbweight\": 2443, \"enginetype\": \"ohc\", \"cylindernumber\": \"four\", \"enginesize\": 122, \"fuelsystem\": \"idi\", \"boreratio\": 3.39, \"stroke\": 3.39, \"compressionratio\": 22.7, \"horsepower\": 64, \"peakrpm\": 4650, \"citympg\": 36, \"highwaympg\": 42, \"price\": 10795, \"Brand\": \"mazda\", \"price_level\": \"ordinary\", \"Pred1\": 11080.272616984585, \"Pred2\": 10424.778434781125}, {\"car_ID\": 65, \"symboling\": 0, \"fueltype\": \"gas\", \"aspiration\": \"std\", \"doornumber\": \"four\", \"carbody\": \"hatchback\", \"drivewheel\": \"fwd\", \"enginelocation\": \"front\", \"wheelbase\": 98.8, \"carlength\": 177.8, \"carwidth\": 66.5, \"carheight\": 55.5, \"curbweight\": 2425, \"enginetype\": \"ohc\", \"cylindernumber\": \"four\", \"enginesize\": 122, \"fuelsystem\": \"2bbl\", \"boreratio\": 3.39, \"stroke\": 3.39, \"compressionratio\": 8.6, \"horsepower\": 84, \"peakrpm\": 4800, \"citympg\": 26, \"highwaympg\": 32, \"price\": 11245, \"Brand\": \"mazda\", \"price_level\": \"ordinary\", \"Pred1\": 11809.293516547245, \"Pred2\": 11322.984169603358}, {\"car_ID\": 66, \"symboling\": 0, \"fueltype\": \"gas\", \"aspiration\": \"std\", \"doornumber\": \"four\", \"carbody\": \"sedan\", \"drivewheel\": \"rwd\", \"enginelocation\": \"front\", \"wheelbase\": 104.9, \"carlength\": 175.0, \"carwidth\": 66.1, \"carheight\": 54.4, \"curbweight\": 2670, \"enginetype\": \"ohc\", \"cylindernumber\": \"four\", \"enginesize\": 140, \"fuelsystem\": \"mpfi\", \"boreratio\": 3.76, \"stroke\": 3.16, \"compressionratio\": 8.0, \"horsepower\": 120, \"peakrpm\": 5000, \"citympg\": 19, \"highwaympg\": 27, \"price\": 18280, \"Brand\": \"mazda\", \"price_level\": \"ordinary\", \"Pred1\": 15656.984602558448, \"Pred2\": 15650.030658455722}, {\"car_ID\": 67, \"symboling\": 0, \"fueltype\": \"diesel\", \"aspiration\": \"std\", \"doornumber\": \"four\", \"carbody\": \"sedan\", \"drivewheel\": \"rwd\", \"enginelocation\": \"front\", \"wheelbase\": 104.9, \"carlength\": 175.0, \"carwidth\": 66.1, \"carheight\": 54.4, \"curbweight\": 2700, \"enginetype\": \"ohc\", \"cylindernumber\": \"four\", \"enginesize\": 134, \"fuelsystem\": \"idi\", \"boreratio\": 3.43, \"stroke\": 3.64, \"compressionratio\": 22.0, \"horsepower\": 72, \"peakrpm\": 4200, \"citympg\": 31, \"highwaympg\": 39, \"price\": 18344, \"Brand\": \"mazda\", \"price_level\": \"ordinary\", \"Pred1\": 13161.742531977397, \"Pred2\": 12928.791651850504}, {\"car_ID\": 68, \"symboling\": -1, \"fueltype\": \"diesel\", \"aspiration\": \"turbo\", \"doornumber\": \"four\", \"carbody\": \"sedan\", \"drivewheel\": \"rwd\", \"enginelocation\": \"front\", \"wheelbase\": 110.0, \"carlength\": 190.9, \"carwidth\": 70.3, \"carheight\": 56.5, \"curbweight\": 3515, \"enginetype\": \"ohc\", \"cylindernumber\": \"five\", \"enginesize\": 183, \"fuelsystem\": \"idi\", \"boreratio\": 3.58, \"stroke\": 3.64, \"compressionratio\": 21.5, \"horsepower\": 123, \"peakrpm\": 4350, \"citympg\": 22, \"highwaympg\": 25, \"price\": 25552, \"Brand\": \"buick\", \"price_level\": \"expensive\", \"Pred1\": 23784.076398113393, \"Pred2\": 23047.9813161791}, {\"car_ID\": 69, \"symboling\": -1, \"fueltype\": \"diesel\", \"aspiration\": \"turbo\", \"doornumber\": \"four\", \"carbody\": \"wagon\", \"drivewheel\": \"rwd\", \"enginelocation\": \"front\", \"wheelbase\": 110.0, \"carlength\": 190.9, \"carwidth\": 70.3, \"carheight\": 58.7, \"curbweight\": 3750, \"enginetype\": \"ohc\", \"cylindernumber\": \"five\", \"enginesize\": 183, \"fuelsystem\": \"idi\", \"boreratio\": 3.58, \"stroke\": 3.64, \"compressionratio\": 21.5, \"horsepower\": 123, \"peakrpm\": 4350, \"citympg\": 22, \"highwaympg\": 25, \"price\": 28248, \"Brand\": \"buick\", \"price_level\": \"expensive\", \"Pred1\": 24508.7938602972, \"Pred2\": 24049.686542053958}, {\"car_ID\": 70, \"symboling\": 0, \"fueltype\": \"diesel\", \"aspiration\": \"turbo\", \"doornumber\": \"two\", \"carbody\": \"hardtop\", \"drivewheel\": \"rwd\", \"enginelocation\": \"front\", \"wheelbase\": 106.7, \"carlength\": 187.5, \"carwidth\": 70.3, \"carheight\": 54.9, \"curbweight\": 3495, \"enginetype\": \"ohc\", \"cylindernumber\": \"five\", \"enginesize\": 183, \"fuelsystem\": \"idi\", \"boreratio\": 3.58, \"stroke\": 3.64, \"compressionratio\": 21.5, \"horsepower\": 123, \"peakrpm\": 4350, \"citympg\": 22, \"highwaympg\": 25, \"price\": 28176, \"Brand\": \"buick\", \"price_level\": \"expensive\", \"Pred1\": 23830.170984654324, \"Pred2\": 22962.72980759401}, {\"car_ID\": 71, \"symboling\": -1, \"fueltype\": \"diesel\", \"aspiration\": \"turbo\", \"doornumber\": \"four\", \"carbody\": \"sedan\", \"drivewheel\": \"rwd\", \"enginelocation\": \"front\", \"wheelbase\": 115.6, \"carlength\": 202.6, \"carwidth\": 71.7, \"carheight\": 56.3, \"curbweight\": 3770, \"enginetype\": \"ohc\", \"cylindernumber\": \"five\", \"enginesize\": 183, \"fuelsystem\": \"idi\", \"boreratio\": 3.58, \"stroke\": 3.64, \"compressionratio\": 21.5, \"horsepower\": 123, \"peakrpm\": 4350, \"citympg\": 22, \"highwaympg\": 25, \"price\": 31600, \"Brand\": \"buick\", \"price_level\": \"expensive\", \"Pred1\": 25082.772909675783, \"Pred2\": 24134.938050639048}, {\"car_ID\": 72, \"symboling\": -1, \"fueltype\": \"gas\", \"aspiration\": \"std\", \"doornumber\": \"four\", \"carbody\": \"sedan\", \"drivewheel\": \"rwd\", \"enginelocation\": \"front\", \"wheelbase\": 115.6, \"carlength\": 202.6, \"carwidth\": 71.7, \"carheight\": 56.5, \"curbweight\": 3740, \"enginetype\": \"ohcv\", \"cylindernumber\": \"eight\", \"enginesize\": 234, \"fuelsystem\": \"mpfi\", \"boreratio\": 3.46, \"stroke\": 3.1, \"compressionratio\": 8.3, \"horsepower\": 155, \"peakrpm\": 4750, \"citympg\": 16, \"highwaympg\": 18, \"price\": 34184, \"Brand\": \"buick\", \"price_level\": \"expensive\", \"Pred1\": 30579.090415055703, \"Pred2\": 29895.825738447948}, {\"car_ID\": 73, \"symboling\": 3, \"fueltype\": \"gas\", \"aspiration\": \"std\", \"doornumber\": \"two\", \"carbody\": \"convertible\", \"drivewheel\": \"rwd\", \"enginelocation\": \"front\", \"wheelbase\": 96.6, \"carlength\": 180.3, \"carwidth\": 70.5, \"carheight\": 50.8, \"curbweight\": 3685, \"enginetype\": \"ohcv\", \"cylindernumber\": \"eight\", \"enginesize\": 234, \"fuelsystem\": \"mpfi\", \"boreratio\": 3.46, \"stroke\": 3.1, \"compressionratio\": 8.3, \"horsepower\": 155, \"peakrpm\": 4750, \"citympg\": 16, \"highwaympg\": 18, \"price\": 35056, \"Brand\": \"buick\", \"price_level\": \"expensive\", \"Pred1\": 30359.33839915936, \"Pred2\": 29661.384089838943}, {\"car_ID\": 74, \"symboling\": 0, \"fueltype\": \"gas\", \"aspiration\": \"std\", \"doornumber\": \"four\", \"carbody\": \"sedan\", \"drivewheel\": \"rwd\", \"enginelocation\": \"front\", \"wheelbase\": 120.9, \"carlength\": 208.1, \"carwidth\": 71.7, \"carheight\": 56.7, \"curbweight\": 3900, \"enginetype\": \"ohcv\", \"cylindernumber\": \"eight\", \"enginesize\": 308, \"fuelsystem\": \"mpfi\", \"boreratio\": 3.8, \"stroke\": 3.35, \"compressionratio\": 8.0, \"horsepower\": 184, \"peakrpm\": 4500, \"citympg\": 14, \"highwaympg\": 16, \"price\": 40960, \"Brand\": \"buick\", \"price_level\": \"expensive\", \"Pred1\": 38403.80368574314, \"Pred2\": 38272.60005883477}, {\"car_ID\": 75, \"symboling\": 1, \"fueltype\": \"gas\", \"aspiration\": \"std\", \"doornumber\": \"two\", \"carbody\": \"hardtop\", \"drivewheel\": \"rwd\", \"enginelocation\": \"front\", \"wheelbase\": 112.0, \"carlength\": 199.2, \"carwidth\": 72.0, \"carheight\": 55.4, \"curbweight\": 3715, \"enginetype\": \"ohcv\", \"cylindernumber\": \"eight\", \"enginesize\": 304, \"fuelsystem\": \"mpfi\", \"boreratio\": 3.8, \"stroke\": 3.35, \"compressionratio\": 8.0, \"horsepower\": 184, \"peakrpm\": 4500, \"citympg\": 14, \"highwaympg\": 16, \"price\": 45400, \"Brand\": \"buick\", \"price_level\": \"expensive\", \"Pred1\": 37972.019041885884, \"Pred2\": 37144.50410617885}, {\"car_ID\": 76, \"symboling\": 1, \"fueltype\": \"gas\", \"aspiration\": \"turbo\", \"doornumber\": \"two\", \"carbody\": \"hatchback\", \"drivewheel\": \"rwd\", \"enginelocation\": \"front\", \"wheelbase\": 102.7, \"carlength\": 178.4, \"carwidth\": 68.0, \"carheight\": 54.8, \"curbweight\": 2910, \"enginetype\": \"ohc\", \"cylindernumber\": \"four\", \"enginesize\": 140, \"fuelsystem\": \"mpfi\", \"boreratio\": 3.78, \"stroke\": 3.12, \"compressionratio\": 8.0, \"horsepower\": 175, \"peakrpm\": 5000, \"citympg\": 19, \"highwaympg\": 24, \"price\": 16503, \"Brand\": \"mercury\", \"price_level\": \"ordinary\", \"Pred1\": 19880.410147455943, \"Pred2\": 19354.112015986084}, {\"car_ID\": 77, \"symboling\": 2, \"fueltype\": \"gas\", \"aspiration\": \"std\", \"doornumber\": \"two\", \"carbody\": \"hatchback\", \"drivewheel\": \"fwd\", \"enginelocation\": \"front\", \"wheelbase\": 93.7, \"carlength\": 157.3, \"carwidth\": 64.4, \"carheight\": 50.8, \"curbweight\": 1918, \"enginetype\": \"ohc\", \"cylindernumber\": \"four\", \"enginesize\": 92, \"fuelsystem\": \"2bbl\", \"boreratio\": 2.97, \"stroke\": 3.23, \"compressionratio\": 9.4, \"horsepower\": 68, \"peakrpm\": 5500, \"citympg\": 37, \"highwaympg\": 41, \"price\": 5389, \"Brand\": \"mitsubishi\", \"price_level\": \"cheap\", \"Pred1\": 6342.034689033389, \"Pred2\": 5835.516516103678}, {\"car_ID\": 78, \"symboling\": 2, \"fueltype\": \"gas\", \"aspiration\": \"std\", \"doornumber\": \"two\", \"carbody\": \"hatchback\", \"drivewheel\": \"fwd\", \"enginelocation\": \"front\", \"wheelbase\": 93.7, \"carlength\": 157.3, \"carwidth\": 64.4, \"carheight\": 50.8, \"curbweight\": 1944, \"enginetype\": \"ohc\", \"cylindernumber\": \"four\", \"enginesize\": 92, \"fuelsystem\": \"2bbl\", \"boreratio\": 2.97, \"stroke\": 3.23, \"compressionratio\": 9.4, \"horsepower\": 68, \"peakrpm\": 5500, \"citympg\": 31, \"highwaympg\": 38, \"price\": 6189, \"Brand\": \"mitsubishi\", \"price_level\": \"cheap\", \"Pred1\": 6556.191306106957, \"Pred2\": 5946.343477264301}, {\"car_ID\": 79, \"symboling\": 2, \"fueltype\": \"gas\", \"aspiration\": \"std\", \"doornumber\": \"two\", \"carbody\": \"hatchback\", \"drivewheel\": \"fwd\", \"enginelocation\": \"front\", \"wheelbase\": 93.7, \"carlength\": 157.3, \"carwidth\": 64.4, \"carheight\": 50.8, \"curbweight\": 2004, \"enginetype\": \"ohc\", \"cylindernumber\": \"four\", \"enginesize\": 92, \"fuelsystem\": \"2bbl\", \"boreratio\": 2.97, \"stroke\": 3.23, \"compressionratio\": 9.4, \"horsepower\": 68, \"peakrpm\": 5500, \"citympg\": 31, \"highwaympg\": 38, \"price\": 6669, \"Brand\": \"mitsubishi\", \"price_level\": \"cheap\", \"Pred1\": 6741.225551770905, \"Pred2\": 6202.098003019582}, {\"car_ID\": 80, \"symboling\": 1, \"fueltype\": \"gas\", \"aspiration\": \"turbo\", \"doornumber\": \"two\", \"carbody\": \"hatchback\", \"drivewheel\": \"fwd\", \"enginelocation\": \"front\", \"wheelbase\": 93.0, \"carlength\": 157.3, \"carwidth\": 63.8, \"carheight\": 50.8, \"curbweight\": 2145, \"enginetype\": \"ohc\", \"cylindernumber\": \"four\", \"enginesize\": 98, \"fuelsystem\": \"spdi\", \"boreratio\": 3.03, \"stroke\": 3.39, \"compressionratio\": 7.6, \"horsepower\": 102, \"peakrpm\": 5500, \"citympg\": 24, \"highwaympg\": 30, \"price\": 7689, \"Brand\": \"mitsubishi\", \"price_level\": \"cheap\", \"Pred1\": 8722.83546768983, \"Pred2\": 8969.78494324318}, {\"car_ID\": 81, \"symboling\": 3, \"fueltype\": \"gas\", \"aspiration\": \"turbo\", \"doornumber\": \"two\", \"carbody\": \"hatchback\", \"drivewheel\": \"fwd\", \"enginelocation\": \"front\", \"wheelbase\": 96.3, \"carlength\": 173.0, \"carwidth\": 65.4, \"carheight\": 49.4, \"curbweight\": 2370, \"enginetype\": \"ohc\", \"cylindernumber\": \"four\", \"enginesize\": 110, \"fuelsystem\": \"spdi\", \"boreratio\": 3.17, \"stroke\": 3.46, \"compressionratio\": 7.5, \"horsepower\": 116, \"peakrpm\": 5500, \"citympg\": 23, \"highwaympg\": 30, \"price\": 9959, \"Brand\": \"mitsubishi\", \"price_level\": \"cheap\", \"Pred1\": 11657.389117682244, \"Pred2\": 11629.875374341053}, {\"car_ID\": 82, \"symboling\": 3, \"fueltype\": \"gas\", \"aspiration\": \"std\", \"doornumber\": \"two\", \"carbody\": \"hatchback\", \"drivewheel\": \"fwd\", \"enginelocation\": \"front\", \"wheelbase\": 96.3, \"carlength\": 173.0, \"carwidth\": 65.4, \"carheight\": 49.4, \"curbweight\": 2328, \"enginetype\": \"ohc\", \"cylindernumber\": \"four\", \"enginesize\": 122, \"fuelsystem\": \"2bbl\", \"boreratio\": 3.35, \"stroke\": 3.46, \"compressionratio\": 8.5, \"horsepower\": 88, \"peakrpm\": 5000, \"citympg\": 25, \"highwaympg\": 32, \"price\": 8499, \"Brand\": \"mitsubishi\", \"price_level\": \"cheap\", \"Pred1\": 11221.440607493394, \"Pred2\": 11104.500771475414}, {\"car_ID\": 83, \"symboling\": 3, \"fueltype\": \"gas\", \"aspiration\": \"turbo\", \"doornumber\": \"two\", \"carbody\": \"hatchback\", \"drivewheel\": \"fwd\", \"enginelocation\": \"front\", \"wheelbase\": 95.9, \"carlength\": 173.2, \"carwidth\": 66.3, \"carheight\": 50.2, \"curbweight\": 2833, \"enginetype\": \"ohc\", \"cylindernumber\": \"four\", \"enginesize\": 156, \"fuelsystem\": \"spdi\", \"boreratio\": 3.58, \"stroke\": 3.86, \"compressionratio\": 7.0, \"horsepower\": 145, \"peakrpm\": 5000, \"citympg\": 19, \"highwaympg\": 24, \"price\": 12629, \"Brand\": \"mitsubishi\", \"price_level\": \"cheap\", \"Pred1\": 18631.620649410892, \"Pred2\": 18921.57356208545}, {\"car_ID\": 84, \"symboling\": 3, \"fueltype\": \"gas\", \"aspiration\": \"turbo\", \"doornumber\": \"two\", \"carbody\": \"hatchback\", \"drivewheel\": \"fwd\", \"enginelocation\": \"front\", \"wheelbase\": 95.9, \"carlength\": 173.2, \"carwidth\": 66.3, \"carheight\": 50.2, \"curbweight\": 2921, \"enginetype\": \"ohc\", \"cylindernumber\": \"four\", \"enginesize\": 156, \"fuelsystem\": \"spdi\", \"boreratio\": 3.59, \"stroke\": 3.86, \"compressionratio\": 7.0, \"horsepower\": 145, \"peakrpm\": 5000, \"citympg\": 19, \"highwaympg\": 24, \"price\": 14869, \"Brand\": \"mitsubishi\", \"price_level\": \"cheap\", \"Pred1\": 18903.004209718012, \"Pred2\": 19296.68019985986}, {\"car_ID\": 85, \"symboling\": 3, \"fueltype\": \"gas\", \"aspiration\": \"turbo\", \"doornumber\": \"two\", \"carbody\": \"hatchback\", \"drivewheel\": \"fwd\", \"enginelocation\": \"front\", \"wheelbase\": 95.9, \"carlength\": 173.2, \"carwidth\": 66.3, \"carheight\": 50.2, \"curbweight\": 2926, \"enginetype\": \"ohc\", \"cylindernumber\": \"four\", \"enginesize\": 156, \"fuelsystem\": \"spdi\", \"boreratio\": 3.59, \"stroke\": 3.86, \"compressionratio\": 7.0, \"horsepower\": 145, \"peakrpm\": 5000, \"citympg\": 19, \"highwaympg\": 24, \"price\": 14489, \"Brand\": \"mitsubishi\", \"price_level\": \"cheap\", \"Pred1\": 18918.423730190014, \"Pred2\": 19317.993077006136}, {\"car_ID\": 86, \"symboling\": 1, \"fueltype\": \"gas\", \"aspiration\": \"std\", \"doornumber\": \"four\", \"carbody\": \"sedan\", \"drivewheel\": \"fwd\", \"enginelocation\": \"front\", \"wheelbase\": 96.3, \"carlength\": 172.4, \"carwidth\": 65.4, \"carheight\": 51.6, \"curbweight\": 2365, \"enginetype\": \"ohc\", \"cylindernumber\": \"four\", \"enginesize\": 122, \"fuelsystem\": \"2bbl\", \"boreratio\": 3.35, \"stroke\": 3.46, \"compressionratio\": 8.5, \"horsepower\": 88, \"peakrpm\": 5000, \"citympg\": 25, \"highwaympg\": 32, \"price\": 6989, \"Brand\": \"mitsubishi\", \"price_level\": \"cheap\", \"Pred1\": 11354.563765179504, \"Pred2\": 11262.216062357838}, {\"car_ID\": 87, \"symboling\": 1, \"fueltype\": \"gas\", \"aspiration\": \"std\", \"doornumber\": \"four\", \"carbody\": \"sedan\", \"drivewheel\": \"fwd\", \"enginelocation\": \"front\", \"wheelbase\": 96.3, \"carlength\": 172.4, \"carwidth\": 65.4, \"carheight\": 51.6, \"curbweight\": 2405, \"enginetype\": \"ohc\", \"cylindernumber\": \"four\", \"enginesize\": 122, \"fuelsystem\": \"2bbl\", \"boreratio\": 3.35, \"stroke\": 3.46, \"compressionratio\": 8.5, \"horsepower\": 88, \"peakrpm\": 5000, \"citympg\": 25, \"highwaympg\": 32, \"price\": 8189, \"Brand\": \"mitsubishi\", \"price_level\": \"cheap\", \"Pred1\": 11477.91992895546, \"Pred2\": 11432.719079528026}, {\"car_ID\": 88, \"symboling\": 1, \"fueltype\": \"gas\", \"aspiration\": \"turbo\", \"doornumber\": \"four\", \"carbody\": \"sedan\", \"drivewheel\": \"fwd\", \"enginelocation\": \"front\", \"wheelbase\": 96.3, \"carlength\": 172.4, \"carwidth\": 65.4, \"carheight\": 51.6, \"curbweight\": 2403, \"enginetype\": \"ohc\", \"cylindernumber\": \"four\", \"enginesize\": 110, \"fuelsystem\": \"spdi\", \"boreratio\": 3.17, \"stroke\": 3.46, \"compressionratio\": 7.5, \"horsepower\": 116, \"peakrpm\": 5500, \"citympg\": 23, \"highwaympg\": 30, \"price\": 9279, \"Brand\": \"mitsubishi\", \"price_level\": \"cheap\", \"Pred1\": 11778.176658990757, \"Pred2\": 11770.540363506458}, {\"car_ID\": 89, \"symboling\": -1, \"fueltype\": \"gas\", \"aspiration\": \"std\", \"doornumber\": \"four\", \"carbody\": \"sedan\", \"drivewheel\": \"fwd\", \"enginelocation\": \"front\", \"wheelbase\": 96.3, \"carlength\": 172.4, \"carwidth\": 65.4, \"carheight\": 51.6, \"curbweight\": 2403, \"enginetype\": \"ohc\", \"cylindernumber\": \"four\", \"enginesize\": 110, \"fuelsystem\": \"spdi\", \"boreratio\": 3.17, \"stroke\": 3.46, \"compressionratio\": 7.5, \"horsepower\": 116, \"peakrpm\": 5500, \"citympg\": 23, \"highwaympg\": 30, \"price\": 9279, \"Brand\": \"mitsubishi\", \"price_level\": \"cheap\", \"Pred1\": 11778.176658990757, \"Pred2\": 11770.540363506458}, {\"car_ID\": 90, \"symboling\": 1, \"fueltype\": \"gas\", \"aspiration\": \"std\", \"doornumber\": \"two\", \"carbody\": \"sedan\", \"drivewheel\": \"fwd\", \"enginelocation\": \"front\", \"wheelbase\": 94.5, \"carlength\": 165.3, \"carwidth\": 63.8, \"carheight\": 54.5, \"curbweight\": 1889, \"enginetype\": \"ohc\", \"cylindernumber\": \"four\", \"enginesize\": 97, \"fuelsystem\": \"2bbl\", \"boreratio\": 3.15, \"stroke\": 3.29, \"compressionratio\": 9.4, \"horsepower\": 69, \"peakrpm\": 5200, \"citympg\": 31, \"highwaympg\": 37, \"price\": 5499, \"Brand\": \"nissan\", \"price_level\": \"ordinary\", \"Pred1\": 6139.097427544111, \"Pred2\": 6185.047806087481}, {\"car_ID\": 91, \"symboling\": 1, \"fueltype\": \"diesel\", \"aspiration\": \"std\", \"doornumber\": \"two\", \"carbody\": \"sedan\", \"drivewheel\": \"fwd\", \"enginelocation\": \"front\", \"wheelbase\": 94.5, \"carlength\": 165.3, \"carwidth\": 63.8, \"carheight\": 54.5, \"curbweight\": 2017, \"enginetype\": \"ohc\", \"cylindernumber\": \"four\", \"enginesize\": 103, \"fuelsystem\": \"idi\", \"boreratio\": 2.99, \"stroke\": 3.47, \"compressionratio\": 21.9, \"horsepower\": 55, \"peakrpm\": 4800, \"citympg\": 45, \"highwaympg\": 50, \"price\": 7099, \"Brand\": \"nissan\", \"price_level\": \"ordinary\", \"Pred1\": 6524.753905616926, \"Pred2\": 6557.484243613613}, {\"car_ID\": 92, \"symboling\": 1, \"fueltype\": \"gas\", \"aspiration\": \"std\", \"doornumber\": \"two\", \"carbody\": \"sedan\", \"drivewheel\": \"fwd\", \"enginelocation\": \"front\", \"wheelbase\": 94.5, \"carlength\": 165.3, \"carwidth\": 63.8, \"carheight\": 54.5, \"curbweight\": 1918, \"enginetype\": \"ohc\", \"cylindernumber\": \"four\", \"enginesize\": 97, \"fuelsystem\": \"2bbl\", \"boreratio\": 3.15, \"stroke\": 3.29, \"compressionratio\": 9.4, \"horsepower\": 69, \"peakrpm\": 5200, \"citympg\": 31, \"highwaympg\": 37, \"price\": 6649, \"Brand\": \"nissan\", \"price_level\": \"ordinary\", \"Pred1\": 6228.530646281681, \"Pred2\": 6308.662493535867}, {\"car_ID\": 93, \"symboling\": 1, \"fueltype\": \"gas\", \"aspiration\": \"std\", \"doornumber\": \"four\", \"carbody\": \"sedan\", \"drivewheel\": \"fwd\", \"enginelocation\": \"front\", \"wheelbase\": 94.5, \"carlength\": 165.3, \"carwidth\": 63.8, \"carheight\": 54.5, \"curbweight\": 1938, \"enginetype\": \"ohc\", \"cylindernumber\": \"four\", \"enginesize\": 97, \"fuelsystem\": \"2bbl\", \"boreratio\": 3.15, \"stroke\": 3.29, \"compressionratio\": 9.4, \"horsepower\": 69, \"peakrpm\": 5200, \"citympg\": 31, \"highwaympg\": 37, \"price\": 6849, \"Brand\": \"nissan\", \"price_level\": \"ordinary\", \"Pred1\": 6290.208728169659, \"Pred2\": 6393.9140021209605}, {\"car_ID\": 94, \"symboling\": 1, \"fueltype\": \"gas\", \"aspiration\": \"std\", \"doornumber\": \"four\", \"carbody\": \"wagon\", \"drivewheel\": \"fwd\", \"enginelocation\": \"front\", \"wheelbase\": 94.5, \"carlength\": 170.2, \"carwidth\": 63.8, \"carheight\": 53.5, \"curbweight\": 2024, \"enginetype\": \"ohc\", \"cylindernumber\": \"four\", \"enginesize\": 97, \"fuelsystem\": \"2bbl\", \"boreratio\": 3.15, \"stroke\": 3.29, \"compressionratio\": 9.4, \"horsepower\": 69, \"peakrpm\": 5200, \"citympg\": 31, \"highwaympg\": 37, \"price\": 7349, \"Brand\": \"nissan\", \"price_level\": \"ordinary\", \"Pred1\": 6400.105046375742, \"Pred2\": 6760.4954890368645}, {\"car_ID\": 95, \"symboling\": 1, \"fueltype\": \"gas\", \"aspiration\": \"std\", \"doornumber\": \"two\", \"carbody\": \"sedan\", \"drivewheel\": \"fwd\", \"enginelocation\": \"front\", \"wheelbase\": 94.5, \"carlength\": 165.3, \"carwidth\": 63.8, \"carheight\": 54.5, \"curbweight\": 1951, \"enginetype\": \"ohc\", \"cylindernumber\": \"four\", \"enginesize\": 97, \"fuelsystem\": \"2bbl\", \"boreratio\": 3.15, \"stroke\": 3.29, \"compressionratio\": 9.4, \"horsepower\": 69, \"peakrpm\": 5200, \"citympg\": 31, \"highwaympg\": 37, \"price\": 7299, \"Brand\": \"nissan\", \"price_level\": \"ordinary\", \"Pred1\": 6330.299481396854, \"Pred2\": 6449.327482701272}, {\"car_ID\": 96, \"symboling\": 1, \"fueltype\": \"gas\", \"aspiration\": \"std\", \"doornumber\": \"two\", \"carbody\": \"hatchback\", \"drivewheel\": \"fwd\", \"enginelocation\": \"front\", \"wheelbase\": 94.5, \"carlength\": 165.6, \"carwidth\": 63.8, \"carheight\": 53.3, \"curbweight\": 2028, \"enginetype\": \"ohc\", \"cylindernumber\": \"four\", \"enginesize\": 97, \"fuelsystem\": \"2bbl\", \"boreratio\": 3.15, \"stroke\": 3.29, \"compressionratio\": 9.4, \"horsepower\": 69, \"peakrpm\": 5200, \"citympg\": 31, \"highwaympg\": 37, \"price\": 7799, \"Brand\": \"nissan\", \"price_level\": \"ordinary\", \"Pred1\": 6558.250743568919, \"Pred2\": 6777.545790753884}, {\"car_ID\": 97, \"symboling\": 1, \"fueltype\": \"gas\", \"aspiration\": \"std\", \"doornumber\": \"four\", \"carbody\": \"sedan\", \"drivewheel\": \"fwd\", \"enginelocation\": \"front\", \"wheelbase\": 94.5, \"carlength\": 165.3, \"carwidth\": 63.8, \"carheight\": 54.5, \"curbweight\": 1971, \"enginetype\": \"ohc\", \"cylindernumber\": \"four\", \"enginesize\": 97, \"fuelsystem\": \"2bbl\", \"boreratio\": 3.15, \"stroke\": 3.29, \"compressionratio\": 9.4, \"horsepower\": 69, \"peakrpm\": 5200, \"citympg\": 31, \"highwaympg\": 37, \"price\": 7499, \"Brand\": \"nissan\", \"price_level\": \"ordinary\", \"Pred1\": 6391.977563284832, \"Pred2\": 6534.578991286366}, {\"car_ID\": 98, \"symboling\": 1, \"fueltype\": \"gas\", \"aspiration\": \"std\", \"doornumber\": \"four\", \"carbody\": \"wagon\", \"drivewheel\": \"fwd\", \"enginelocation\": \"front\", \"wheelbase\": 94.5, \"carlength\": 170.2, \"carwidth\": 63.8, \"carheight\": 53.5, \"curbweight\": 2037, \"enginetype\": \"ohc\", \"cylindernumber\": \"four\", \"enginesize\": 97, \"fuelsystem\": \"2bbl\", \"boreratio\": 3.15, \"stroke\": 3.29, \"compressionratio\": 9.4, \"horsepower\": 69, \"peakrpm\": 5200, \"citympg\": 31, \"highwaympg\": 37, \"price\": 7999, \"Brand\": \"nissan\", \"price_level\": \"ordinary\", \"Pred1\": 6440.195799602923, \"Pred2\": 6815.908969617176}, {\"car_ID\": 99, \"symboling\": 2, \"fueltype\": \"gas\", \"aspiration\": \"std\", \"doornumber\": \"two\", \"carbody\": \"hardtop\", \"drivewheel\": \"fwd\", \"enginelocation\": \"front\", \"wheelbase\": 95.1, \"carlength\": 162.4, \"carwidth\": 63.8, \"carheight\": 53.3, \"curbweight\": 2008, \"enginetype\": \"ohc\", \"cylindernumber\": \"four\", \"enginesize\": 97, \"fuelsystem\": \"2bbl\", \"boreratio\": 3.15, \"stroke\": 3.29, \"compressionratio\": 9.4, \"horsepower\": 69, \"peakrpm\": 5200, \"citympg\": 31, \"highwaympg\": 37, \"price\": 8249, \"Brand\": \"nissan\", \"price_level\": \"ordinary\", \"Pred1\": 6598.005761378736, \"Pred2\": 6692.29428216879}, {\"car_ID\": 100, \"symboling\": 0, \"fueltype\": \"gas\", \"aspiration\": \"std\", \"doornumber\": \"four\", \"carbody\": \"hatchback\", \"drivewheel\": \"fwd\", \"enginelocation\": \"front\", \"wheelbase\": 97.2, \"carlength\": 173.4, \"carwidth\": 65.2, \"carheight\": 54.7, \"curbweight\": 2324, \"enginetype\": \"ohc\", \"cylindernumber\": \"four\", \"enginesize\": 120, \"fuelsystem\": \"2bbl\", \"boreratio\": 3.33, \"stroke\": 3.47, \"compressionratio\": 8.5, \"horsepower\": 97, \"peakrpm\": 5200, \"citympg\": 27, \"highwaympg\": 34, \"price\": 8949, \"Brand\": \"nissan\", \"price_level\": \"ordinary\", \"Pred1\": 11368.543036547075, \"Pred2\": 11356.410162283464}, {\"car_ID\": 101, \"symboling\": 0, \"fueltype\": \"gas\", \"aspiration\": \"std\", \"doornumber\": \"four\", \"carbody\": \"sedan\", \"drivewheel\": \"fwd\", \"enginelocation\": \"front\", \"wheelbase\": 97.2, \"carlength\": 173.4, \"carwidth\": 65.2, \"carheight\": 54.7, \"curbweight\": 2302, \"enginetype\": \"ohc\", \"cylindernumber\": \"four\", \"enginesize\": 120, \"fuelsystem\": \"2bbl\", \"boreratio\": 3.33, \"stroke\": 3.47, \"compressionratio\": 8.5, \"horsepower\": 97, \"peakrpm\": 5200, \"citympg\": 27, \"highwaympg\": 34, \"price\": 9549, \"Brand\": \"nissan\", \"price_level\": \"ordinary\", \"Pred1\": 11300.697146470295, \"Pred2\": 11262.63350283986}, {\"car_ID\": 102, \"symboling\": 0, \"fueltype\": \"gas\", \"aspiration\": \"std\", \"doornumber\": \"four\", \"carbody\": \"sedan\", \"drivewheel\": \"fwd\", \"enginelocation\": \"front\", \"wheelbase\": 100.4, \"carlength\": 181.7, \"carwidth\": 66.5, \"carheight\": 55.1, \"curbweight\": 3095, \"enginetype\": \"ohcv\", \"cylindernumber\": \"six\", \"enginesize\": 181, \"fuelsystem\": \"mpfi\", \"boreratio\": 3.43, \"stroke\": 3.27, \"compressionratio\": 9.0, \"horsepower\": 152, \"peakrpm\": 5200, \"citympg\": 17, \"highwaympg\": 22, \"price\": 13499, \"Brand\": \"nissan\", \"price_level\": \"ordinary\", \"Pred1\": 21675.56175609991, \"Pred2\": 22501.591420966008}, {\"car_ID\": 103, \"symboling\": 0, \"fueltype\": \"gas\", \"aspiration\": \"std\", \"doornumber\": \"four\", \"carbody\": \"wagon\", \"drivewheel\": \"fwd\", \"enginelocation\": \"front\", \"wheelbase\": 100.4, \"carlength\": 184.6, \"carwidth\": 66.5, \"carheight\": 56.1, \"curbweight\": 3296, \"enginetype\": \"ohcv\", \"cylindernumber\": \"six\", \"enginesize\": 181, \"fuelsystem\": \"mpfi\", \"boreratio\": 3.43, \"stroke\": 3.27, \"compressionratio\": 9.0, \"horsepower\": 152, \"peakrpm\": 5200, \"citympg\": 17, \"highwaympg\": 22, \"price\": 14399, \"Brand\": \"nissan\", \"price_level\": \"ordinary\", \"Pred1\": 22203.502732473018, \"Pred2\": 23358.369082246205}, {\"car_ID\": 104, \"symboling\": 0, \"fueltype\": \"gas\", \"aspiration\": \"std\", \"doornumber\": \"four\", \"carbody\": \"sedan\", \"drivewheel\": \"fwd\", \"enginelocation\": \"front\", \"wheelbase\": 100.4, \"carlength\": 184.6, \"carwidth\": 66.5, \"carheight\": 55.1, \"curbweight\": 3060, \"enginetype\": \"ohcv\", \"cylindernumber\": \"six\", \"enginesize\": 181, \"fuelsystem\": \"mpfi\", \"boreratio\": 3.43, \"stroke\": 3.27, \"compressionratio\": 9.0, \"horsepower\": 152, \"peakrpm\": 5200, \"citympg\": 19, \"highwaympg\": 25, \"price\": 13499, \"Brand\": \"nissan\", \"price_level\": \"ordinary\", \"Pred1\": 21589.009697604182, \"Pred2\": 22352.401280942093}, {\"car_ID\": 105, \"symboling\": 3, \"fueltype\": \"gas\", \"aspiration\": \"std\", \"doornumber\": \"two\", \"carbody\": \"hatchback\", \"drivewheel\": \"rwd\", \"enginelocation\": \"front\", \"wheelbase\": 91.3, \"carlength\": 170.7, \"carwidth\": 67.9, \"carheight\": 49.7, \"curbweight\": 3071, \"enginetype\": \"ohcv\", \"cylindernumber\": \"six\", \"enginesize\": 181, \"fuelsystem\": \"mpfi\", \"boreratio\": 3.43, \"stroke\": 3.27, \"compressionratio\": 9.0, \"horsepower\": 160, \"peakrpm\": 5200, \"citympg\": 19, \"highwaympg\": 25, \"price\": 17199, \"Brand\": \"nissan\", \"price_level\": \"ordinary\", \"Pred1\": 23329.16083822328, \"Pred2\": 22789.26244768342}, {\"car_ID\": 106, \"symboling\": 3, \"fueltype\": \"gas\", \"aspiration\": \"turbo\", \"doornumber\": \"two\", \"carbody\": \"hatchback\", \"drivewheel\": \"rwd\", \"enginelocation\": \"front\", \"wheelbase\": 91.3, \"carlength\": 170.7, \"carwidth\": 67.9, \"carheight\": 49.7, \"curbweight\": 3139, \"enginetype\": \"ohcv\", \"cylindernumber\": \"six\", \"enginesize\": 181, \"fuelsystem\": \"mpfi\", \"boreratio\": 3.43, \"stroke\": 3.27, \"compressionratio\": 7.8, \"horsepower\": 200, \"peakrpm\": 5200, \"citympg\": 17, \"highwaympg\": 23, \"price\": 19699, \"Brand\": \"nissan\", \"price_level\": \"ordinary\", \"Pred1\": 25416.853488579465, \"Pred2\": 25028.98176197037}, {\"car_ID\": 107, \"symboling\": 1, \"fueltype\": \"gas\", \"aspiration\": \"std\", \"doornumber\": \"two\", \"carbody\": \"hatchback\", \"drivewheel\": \"rwd\", \"enginelocation\": \"front\", \"wheelbase\": 99.2, \"carlength\": 178.5, \"carwidth\": 67.9, \"carheight\": 49.7, \"curbweight\": 3139, \"enginetype\": \"ohcv\", \"cylindernumber\": \"six\", \"enginesize\": 181, \"fuelsystem\": \"mpfi\", \"boreratio\": 3.43, \"stroke\": 3.27, \"compressionratio\": 9.0, \"horsepower\": 160, \"peakrpm\": 5200, \"citympg\": 19, \"highwaympg\": 25, \"price\": 18399, \"Brand\": \"nissan\", \"price_level\": \"ordinary\", \"Pred1\": 23291.62313612904, \"Pred2\": 23079.117576872744}, {\"car_ID\": 108, \"symboling\": 0, \"fueltype\": \"gas\", \"aspiration\": \"std\", \"doornumber\": \"four\", \"carbody\": \"sedan\", \"drivewheel\": \"rwd\", \"enginelocation\": \"front\", \"wheelbase\": 107.9, \"carlength\": 186.7, \"carwidth\": 68.4, \"carheight\": 56.7, \"curbweight\": 3020, \"enginetype\": \"l\", \"cylindernumber\": \"four\", \"enginesize\": 120, \"fuelsystem\": \"mpfi\", \"boreratio\": 3.46, \"stroke\": 3.19, \"compressionratio\": 8.4, \"horsepower\": 97, \"peakrpm\": 5000, \"citympg\": 19, \"highwaympg\": 24, \"price\": 11900, \"Brand\": \"peugeot\", \"price_level\": \"ordinary\", \"Pred1\": 14816.756886204079, \"Pred2\": 14323.162661044731}, {\"car_ID\": 109, \"symboling\": 0, \"fueltype\": \"diesel\", \"aspiration\": \"turbo\", \"doornumber\": \"four\", \"carbody\": \"sedan\", \"drivewheel\": \"rwd\", \"enginelocation\": \"front\", \"wheelbase\": 107.9, \"carlength\": 186.7, \"carwidth\": 68.4, \"carheight\": 56.7, \"curbweight\": 3197, \"enginetype\": \"l\", \"cylindernumber\": \"four\", \"enginesize\": 152, \"fuelsystem\": \"idi\", \"boreratio\": 3.7, \"stroke\": 3.52, \"compressionratio\": 21.0, \"horsepower\": 95, \"peakrpm\": 4150, \"citympg\": 28, \"highwaympg\": 33, \"price\": 13200, \"Brand\": \"peugeot\", \"price_level\": \"ordinary\", \"Pred1\": 18082.438683862856, \"Pred2\": 17696.30128871832}, {\"car_ID\": 110, \"symboling\": 0, \"fueltype\": \"gas\", \"aspiration\": \"std\", \"doornumber\": \"four\", \"carbody\": \"wagon\", \"drivewheel\": \"rwd\", \"enginelocation\": \"front\", \"wheelbase\": 114.2, \"carlength\": 198.9, \"carwidth\": 68.4, \"carheight\": 58.7, \"curbweight\": 3230, \"enginetype\": \"l\", \"cylindernumber\": \"four\", \"enginesize\": 120, \"fuelsystem\": \"mpfi\", \"boreratio\": 3.46, \"stroke\": 3.19, \"compressionratio\": 8.4, \"horsepower\": 97, \"peakrpm\": 5000, \"citympg\": 19, \"highwaympg\": 24, \"price\": 12440, \"Brand\": \"peugeot\", \"price_level\": \"ordinary\", \"Pred1\": 15077.663053430042, \"Pred2\": 15218.30350118822}, {\"car_ID\": 111, \"symboling\": 0, \"fueltype\": \"diesel\", \"aspiration\": \"turbo\", \"doornumber\": \"four\", \"carbody\": \"wagon\", \"drivewheel\": \"rwd\", \"enginelocation\": \"front\", \"wheelbase\": 114.2, \"carlength\": 198.9, \"carwidth\": 68.4, \"carheight\": 58.7, \"curbweight\": 3430, \"enginetype\": \"l\", \"cylindernumber\": \"four\", \"enginesize\": 152, \"fuelsystem\": \"idi\", \"boreratio\": 3.7, \"stroke\": 3.52, \"compressionratio\": 21.0, \"horsepower\": 95, \"peakrpm\": 4150, \"citympg\": 25, \"highwaympg\": 25, \"price\": 13860, \"Brand\": \"peugeot\", \"price_level\": \"ordinary\", \"Pred1\": 17967.870420318395, \"Pred2\": 18689.481363734667}, {\"car_ID\": 112, \"symboling\": 0, \"fueltype\": \"gas\", \"aspiration\": \"std\", \"doornumber\": \"four\", \"carbody\": \"sedan\", \"drivewheel\": \"rwd\", \"enginelocation\": \"front\", \"wheelbase\": 107.9, \"carlength\": 186.7, \"carwidth\": 68.4, \"carheight\": 56.7, \"curbweight\": 3075, \"enginetype\": \"l\", \"cylindernumber\": \"four\", \"enginesize\": 120, \"fuelsystem\": \"mpfi\", \"boreratio\": 3.46, \"stroke\": 2.19, \"compressionratio\": 8.4, \"horsepower\": 95, \"peakrpm\": 5000, \"citympg\": 19, \"highwaympg\": 24, \"price\": 15580, \"Brand\": \"peugeot\", \"price_level\": \"ordinary\", \"Pred1\": 14890.7560037691, \"Pred2\": 14460.111100398855}, {\"car_ID\": 113, \"symboling\": 0, \"fueltype\": \"diesel\", \"aspiration\": \"turbo\", \"doornumber\": \"four\", \"carbody\": \"sedan\", \"drivewheel\": \"rwd\", \"enginelocation\": \"front\", \"wheelbase\": 107.9, \"carlength\": 186.7, \"carwidth\": 68.4, \"carheight\": 56.7, \"curbweight\": 3252, \"enginetype\": \"l\", \"cylindernumber\": \"four\", \"enginesize\": 152, \"fuelsystem\": \"idi\", \"boreratio\": 3.7, \"stroke\": 3.52, \"compressionratio\": 21.0, \"horsepower\": 95, \"peakrpm\": 4150, \"citympg\": 28, \"highwaympg\": 33, \"price\": 16900, \"Brand\": \"peugeot\", \"price_level\": \"ordinary\", \"Pred1\": 18252.053409054803, \"Pred2\": 17930.74293732733}, {\"car_ID\": 114, \"symboling\": 0, \"fueltype\": \"gas\", \"aspiration\": \"std\", \"doornumber\": \"four\", \"carbody\": \"wagon\", \"drivewheel\": \"rwd\", \"enginelocation\": \"front\", \"wheelbase\": 114.2, \"carlength\": 198.9, \"carwidth\": 68.4, \"carheight\": 56.7, \"curbweight\": 3285, \"enginetype\": \"l\", \"cylindernumber\": \"four\", \"enginesize\": 120, \"fuelsystem\": \"mpfi\", \"boreratio\": 3.46, \"stroke\": 2.19, \"compressionratio\": 8.4, \"horsepower\": 95, \"peakrpm\": 5000, \"citympg\": 19, \"highwaympg\": 24, \"price\": 16695, \"Brand\": \"peugeot\", \"price_level\": \"ordinary\", \"Pred1\": 15151.662170995063, \"Pred2\": 15355.251940542345}, {\"car_ID\": 115, \"symboling\": 0, \"fueltype\": \"diesel\", \"aspiration\": \"turbo\", \"doornumber\": \"four\", \"carbody\": \"wagon\", \"drivewheel\": \"rwd\", \"enginelocation\": \"front\", \"wheelbase\": 114.2, \"carlength\": 198.9, \"carwidth\": 68.4, \"carheight\": 58.7, \"curbweight\": 3485, \"enginetype\": \"l\", \"cylindernumber\": \"four\", \"enginesize\": 152, \"fuelsystem\": \"idi\", \"boreratio\": 3.7, \"stroke\": 3.52, \"compressionratio\": 21.0, \"horsepower\": 95, \"peakrpm\": 4150, \"citympg\": 25, \"highwaympg\": 25, \"price\": 17075, \"Brand\": \"peugeot\", \"price_level\": \"ordinary\", \"Pred1\": 18137.48514551034, \"Pred2\": 18923.923012343676}, {\"car_ID\": 116, \"symboling\": 0, \"fueltype\": \"gas\", \"aspiration\": \"std\", \"doornumber\": \"four\", \"carbody\": \"sedan\", \"drivewheel\": \"rwd\", \"enginelocation\": \"front\", \"wheelbase\": 107.9, \"carlength\": 186.7, \"carwidth\": 68.4, \"carheight\": 56.7, \"curbweight\": 3075, \"enginetype\": \"l\", \"cylindernumber\": \"four\", \"enginesize\": 120, \"fuelsystem\": \"mpfi\", \"boreratio\": 3.46, \"stroke\": 3.19, \"compressionratio\": 8.4, \"horsepower\": 97, \"peakrpm\": 5000, \"citympg\": 19, \"highwaympg\": 24, \"price\": 16630, \"Brand\": \"peugeot\", \"price_level\": \"ordinary\", \"Pred1\": 14986.371611396025, \"Pred2\": 14557.60430965374}, {\"car_ID\": 117, \"symboling\": 0, \"fueltype\": \"diesel\", \"aspiration\": \"turbo\", \"doornumber\": \"four\", \"carbody\": \"sedan\", \"drivewheel\": \"rwd\", \"enginelocation\": \"front\", \"wheelbase\": 107.9, \"carlength\": 186.7, \"carwidth\": 68.4, \"carheight\": 56.7, \"curbweight\": 3252, \"enginetype\": \"l\", \"cylindernumber\": \"four\", \"enginesize\": 152, \"fuelsystem\": \"idi\", \"boreratio\": 3.7, \"stroke\": 3.52, \"compressionratio\": 21.0, \"horsepower\": 95, \"peakrpm\": 4150, \"citympg\": 28, \"highwaympg\": 33, \"price\": 17950, \"Brand\": \"peugeot\", \"price_level\": \"ordinary\", \"Pred1\": 18252.053409054803, \"Pred2\": 17930.74293732733}, {\"car_ID\": 118, \"symboling\": 0, \"fueltype\": \"gas\", \"aspiration\": \"turbo\", \"doornumber\": \"four\", \"carbody\": \"sedan\", \"drivewheel\": \"rwd\", \"enginelocation\": \"front\", \"wheelbase\": 108.0, \"carlength\": 186.7, \"carwidth\": 68.3, \"carheight\": 56.0, \"curbweight\": 3130, \"enginetype\": \"l\", \"cylindernumber\": \"four\", \"enginesize\": 134, \"fuelsystem\": \"mpfi\", \"boreratio\": 3.61, \"stroke\": 3.21, \"compressionratio\": 7.0, \"horsepower\": 142, \"peakrpm\": 5600, \"citympg\": 18, \"highwaympg\": 24, \"price\": 18150, \"Brand\": \"peugeot\", \"price_level\": \"ordinary\", \"Pred1\": 18470.255587625616, \"Pred2\": 18173.961410350876}, {\"car_ID\": 119, \"symboling\": 1, \"fueltype\": \"gas\", \"aspiration\": \"std\", \"doornumber\": \"two\", \"carbody\": \"hatchback\", \"drivewheel\": \"fwd\", \"enginelocation\": \"front\", \"wheelbase\": 93.7, \"carlength\": 157.3, \"carwidth\": 63.8, \"carheight\": 50.8, \"curbweight\": 1918, \"enginetype\": \"ohc\", \"cylindernumber\": \"four\", \"enginesize\": 90, \"fuelsystem\": \"2bbl\", \"boreratio\": 2.97, \"stroke\": 3.23, \"compressionratio\": 9.4, \"horsepower\": 68, \"peakrpm\": 5500, \"citympg\": 37, \"highwaympg\": 41, \"price\": 5572, \"Brand\": \"plymouth\", \"price_level\": \"cheap\", \"Pred1\": 5797.2235889297735, \"Pred2\": 5665.75676698178}, {\"car_ID\": 120, \"symboling\": 1, \"fueltype\": \"gas\", \"aspiration\": \"turbo\", \"doornumber\": \"two\", \"carbody\": \"hatchback\", \"drivewheel\": \"fwd\", \"enginelocation\": \"front\", \"wheelbase\": 93.7, \"carlength\": 157.3, \"carwidth\": 63.8, \"carheight\": 50.8, \"curbweight\": 2128, \"enginetype\": \"ohc\", \"cylindernumber\": \"four\", \"enginesize\": 98, \"fuelsystem\": \"spdi\", \"boreratio\": 3.03, \"stroke\": 3.39, \"compressionratio\": 7.6, \"horsepower\": 102, \"peakrpm\": 5500, \"citympg\": 24, \"highwaympg\": 30, \"price\": 7957, \"Brand\": \"plymouth\", \"price_level\": \"cheap\", \"Pred1\": 8670.409098085045, \"Pred2\": 8897.321160945852}, {\"car_ID\": 121, \"symboling\": 1, \"fueltype\": \"gas\", \"aspiration\": \"std\", \"doornumber\": \"four\", \"carbody\": \"hatchback\", \"drivewheel\": \"fwd\", \"enginelocation\": \"front\", \"wheelbase\": 93.7, \"carlength\": 157.3, \"carwidth\": 63.8, \"carheight\": 50.6, \"curbweight\": 1967, \"enginetype\": \"ohc\", \"cylindernumber\": \"four\", \"enginesize\": 90, \"fuelsystem\": \"2bbl\", \"boreratio\": 2.97, \"stroke\": 3.23, \"compressionratio\": 9.4, \"horsepower\": 68, \"peakrpm\": 5500, \"citympg\": 31, \"highwaympg\": 38, \"price\": 6229, \"Brand\": \"plymouth\", \"price_level\": \"cheap\", \"Pred1\": 6082.3100001745115, \"Pred2\": 5874.622963015259}, {\"car_ID\": 122, \"symboling\": 1, \"fueltype\": \"gas\", \"aspiration\": \"std\", \"doornumber\": \"four\", \"carbody\": \"sedan\", \"drivewheel\": \"fwd\", \"enginelocation\": \"front\", \"wheelbase\": 93.7, \"carlength\": 167.3, \"carwidth\": 63.8, \"carheight\": 50.8, \"curbweight\": 1989, \"enginetype\": \"ohc\", \"cylindernumber\": \"four\", \"enginesize\": 90, \"fuelsystem\": \"2bbl\", \"boreratio\": 2.97, \"stroke\": 3.23, \"compressionratio\": 9.4, \"horsepower\": 68, \"peakrpm\": 5500, \"citympg\": 31, \"highwaympg\": 38, \"price\": 6692, \"Brand\": \"plymouth\", \"price_level\": \"cheap\", \"Pred1\": 5833.177453695673, \"Pred2\": 5968.399622458863}, {\"car_ID\": 123, \"symboling\": 1, \"fueltype\": \"gas\", \"aspiration\": \"std\", \"doornumber\": \"four\", \"carbody\": \"sedan\", \"drivewheel\": \"fwd\", \"enginelocation\": \"front\", \"wheelbase\": 93.7, \"carlength\": 167.3, \"carwidth\": 63.8, \"carheight\": 50.8, \"curbweight\": 2191, \"enginetype\": \"ohc\", \"cylindernumber\": \"four\", \"enginesize\": 98, \"fuelsystem\": \"2bbl\", \"boreratio\": 2.97, \"stroke\": 3.23, \"compressionratio\": 9.4, \"horsepower\": 68, \"peakrpm\": 5500, \"citympg\": 31, \"highwaympg\": 38, \"price\": 7609, \"Brand\": \"plymouth\", \"price_level\": \"cheap\", \"Pred1\": 7121.372072731894, \"Pred2\": 7508.478855655911}, {\"car_ID\": 124, \"symboling\": -1, \"fueltype\": \"gas\", \"aspiration\": \"std\", \"doornumber\": \"four\", \"carbody\": \"wagon\", \"drivewheel\": \"fwd\", \"enginelocation\": \"front\", \"wheelbase\": 103.3, \"carlength\": 174.6, \"carwidth\": 64.6, \"carheight\": 59.8, \"curbweight\": 2535, \"enginetype\": \"ohc\", \"cylindernumber\": \"four\", \"enginesize\": 122, \"fuelsystem\": \"2bbl\", \"boreratio\": 3.35, \"stroke\": 3.46, \"compressionratio\": 8.5, \"horsepower\": 88, \"peakrpm\": 5000, \"citympg\": 24, \"highwaympg\": 30, \"price\": 8921, \"Brand\": \"plymouth\", \"price_level\": \"cheap\", \"Pred1\": 11208.280227927535, \"Pred2\": 11986.853885331137}, {\"car_ID\": 125, \"symboling\": 3, \"fueltype\": \"gas\", \"aspiration\": \"turbo\", \"doornumber\": \"two\", \"carbody\": \"hatchback\", \"drivewheel\": \"rwd\", \"enginelocation\": \"front\", \"wheelbase\": 95.9, \"carlength\": 173.2, \"carwidth\": 66.3, \"carheight\": 50.2, \"curbweight\": 2818, \"enginetype\": \"ohc\", \"cylindernumber\": \"four\", \"enginesize\": 156, \"fuelsystem\": \"spdi\", \"boreratio\": 3.59, \"stroke\": 3.86, \"compressionratio\": 7.0, \"horsepower\": 145, \"peakrpm\": 5000, \"citympg\": 19, \"highwaympg\": 24, \"price\": 12764, \"Brand\": \"plymouth\", \"price_level\": \"cheap\", \"Pred1\": 18585.3620879949, \"Pred2\": 18857.63493064663}, {\"car_ID\": 126, \"symboling\": 3, \"fueltype\": \"gas\", \"aspiration\": \"std\", \"doornumber\": \"two\", \"carbody\": \"hatchback\", \"drivewheel\": \"rwd\", \"enginelocation\": \"front\", \"wheelbase\": 94.5, \"carlength\": 168.9, \"carwidth\": 68.3, \"carheight\": 50.2, \"curbweight\": 2778, \"enginetype\": \"ohc\", \"cylindernumber\": \"four\", \"enginesize\": 151, \"fuelsystem\": \"mpfi\", \"boreratio\": 3.94, \"stroke\": 3.11, \"compressionratio\": 9.5, \"horsepower\": 143, \"peakrpm\": 5500, \"citympg\": 19, \"highwaympg\": 27, \"price\": 22018, \"Brand\": \"porsche\", \"price_level\": \"expensive\", \"Pred1\": 19585.527692127216, \"Pred2\": 18165.23933141681}, {\"car_ID\": 127, \"symboling\": 3, \"fueltype\": \"gas\", \"aspiration\": \"std\", \"doornumber\": \"two\", \"carbody\": \"hardtop\", \"drivewheel\": \"rwd\", \"enginelocation\": \"rear\", \"wheelbase\": 89.5, \"carlength\": 168.9, \"carwidth\": 65.0, \"carheight\": 51.6, \"curbweight\": 2756, \"enginetype\": \"ohcf\", \"cylindernumber\": \"six\", \"enginesize\": 194, \"fuelsystem\": \"mpfi\", \"boreratio\": 3.74, \"stroke\": 2.9, \"compressionratio\": 9.5, \"horsepower\": 207, \"peakrpm\": 5900, \"citympg\": 17, \"highwaympg\": 25, \"price\": 32528, \"Brand\": \"porcshce\", \"price_level\": \"expensive\", \"Pred1\": 24037.00566072193, \"Pred2\": 24841.079974250253}, {\"car_ID\": 128, \"symboling\": 3, \"fueltype\": \"gas\", \"aspiration\": \"std\", \"doornumber\": \"two\", \"carbody\": \"hardtop\", \"drivewheel\": \"rwd\", \"enginelocation\": \"rear\", \"wheelbase\": 89.5, \"carlength\": 168.9, \"carwidth\": 65.0, \"carheight\": 51.6, \"curbweight\": 2756, \"enginetype\": \"ohcf\", \"cylindernumber\": \"six\", \"enginesize\": 194, \"fuelsystem\": \"mpfi\", \"boreratio\": 3.74, \"stroke\": 2.9, \"compressionratio\": 9.5, \"horsepower\": 207, \"peakrpm\": 5900, \"citympg\": 17, \"highwaympg\": 25, \"price\": 34028, \"Brand\": \"porsche\", \"price_level\": \"expensive\", \"Pred1\": 24037.00566072193, \"Pred2\": 24841.079974250253}, {\"car_ID\": 129, \"symboling\": 3, \"fueltype\": \"gas\", \"aspiration\": \"std\", \"doornumber\": \"two\", \"carbody\": \"convertible\", \"drivewheel\": \"rwd\", \"enginelocation\": \"rear\", \"wheelbase\": 89.5, \"carlength\": 168.9, \"carwidth\": 65.0, \"carheight\": 51.6, \"curbweight\": 2800, \"enginetype\": \"ohcf\", \"cylindernumber\": \"six\", \"enginesize\": 194, \"fuelsystem\": \"mpfi\", \"boreratio\": 3.74, \"stroke\": 2.9, \"compressionratio\": 9.5, \"horsepower\": 207, \"peakrpm\": 5900, \"citympg\": 17, \"highwaympg\": 25, \"price\": 37028, \"Brand\": \"porsche\", \"price_level\": \"expensive\", \"Pred1\": 24172.69744087549, \"Pred2\": 25028.63329313746}, {\"car_ID\": 130, \"symboling\": 1, \"fueltype\": \"gas\", \"aspiration\": \"std\", \"doornumber\": \"two\", \"carbody\": \"hatchback\", \"drivewheel\": \"rwd\", \"enginelocation\": \"front\", \"wheelbase\": 98.4, \"carlength\": 175.7, \"carwidth\": 72.3, \"carheight\": 50.5, \"curbweight\": 3366, \"enginetype\": \"dohcv\", \"cylindernumber\": \"eight\", \"enginesize\": 203, \"fuelsystem\": \"mpfi\", \"boreratio\": 3.94, \"stroke\": 3.11, \"compressionratio\": 10.0, \"horsepower\": 288, \"peakrpm\": 5750, \"citympg\": 17, \"highwaympg\": 28, \"price\": 31400, \"Brand\": \"porsche\", \"price_level\": \"expensive\", \"Pred1\": 35165.50421608452, \"Pred2\": 32153.644831966867}, {\"car_ID\": 131, \"symboling\": 0, \"fueltype\": \"gas\", \"aspiration\": \"std\", \"doornumber\": \"four\", \"carbody\": \"wagon\", \"drivewheel\": \"fwd\", \"enginelocation\": \"front\", \"wheelbase\": 96.1, \"carlength\": 181.5, \"carwidth\": 66.5, \"carheight\": 55.2, \"curbweight\": 2579, \"enginetype\": \"ohc\", \"cylindernumber\": \"four\", \"enginesize\": 132, \"fuelsystem\": \"mpfi\", \"boreratio\": 3.46, \"stroke\": 3.9, \"compressionratio\": 8.7, \"horsepower\": 90, \"peakrpm\": 5100, \"citympg\": 23, \"highwaympg\": 31, \"price\": 9295, \"Brand\": \"renault\", \"price_level\": \"cheap\", \"Pred1\": 13391.816269112926, \"Pred2\": 13120.69915908272}, {\"car_ID\": 132, \"symboling\": 2, \"fueltype\": \"gas\", \"aspiration\": \"std\", \"doornumber\": \"two\", \"carbody\": \"hatchback\", \"drivewheel\": \"fwd\", \"enginelocation\": \"front\", \"wheelbase\": 96.1, \"carlength\": 176.8, \"carwidth\": 66.6, \"carheight\": 50.5, \"curbweight\": 2460, \"enginetype\": \"ohc\", \"cylindernumber\": \"four\", \"enginesize\": 132, \"fuelsystem\": \"mpfi\", \"boreratio\": 3.46, \"stroke\": 3.9, \"compressionratio\": 8.7, \"horsepower\": 90, \"peakrpm\": 5100, \"citympg\": 23, \"highwaympg\": 31, \"price\": 9895, \"Brand\": \"renault\", \"price_level\": \"cheap\", \"Pred1\": 13236.894814079176, \"Pred2\": 12613.452683001411}, {\"car_ID\": 133, \"symboling\": 3, \"fueltype\": \"gas\", \"aspiration\": \"std\", \"doornumber\": \"two\", \"carbody\": \"hatchback\", \"drivewheel\": \"fwd\", \"enginelocation\": \"front\", \"wheelbase\": 99.1, \"carlength\": 186.6, \"carwidth\": 66.5, \"carheight\": 56.1, \"curbweight\": 2658, \"enginetype\": \"ohc\", \"cylindernumber\": \"four\", \"enginesize\": 121, \"fuelsystem\": \"mpfi\", \"boreratio\": 3.54, \"stroke\": 3.07, \"compressionratio\": 9.31, \"horsepower\": 110, \"peakrpm\": 5250, \"citympg\": 21, \"highwaympg\": 28, \"price\": 11850, \"Brand\": \"saab\", \"price_level\": \"ordinary\", \"Pred1\": 13401.920195831553, \"Pred2\": 13498.696090372214}, {\"car_ID\": 134, \"symboling\": 2, \"fueltype\": \"gas\", \"aspiration\": \"std\", \"doornumber\": \"four\", \"carbody\": \"sedan\", \"drivewheel\": \"fwd\", \"enginelocation\": \"front\", \"wheelbase\": 99.1, \"carlength\": 186.6, \"carwidth\": 66.5, \"carheight\": 56.1, \"curbweight\": 2695, \"enginetype\": \"ohc\", \"cylindernumber\": \"four\", \"enginesize\": 121, \"fuelsystem\": \"mpfi\", \"boreratio\": 3.54, \"stroke\": 3.07, \"compressionratio\": 9.3, \"horsepower\": 110, \"peakrpm\": 5250, \"citympg\": 21, \"highwaympg\": 28, \"price\": 12170, \"Brand\": \"saab\", \"price_level\": \"ordinary\", \"Pred1\": 13516.024647324331, \"Pred2\": 13656.411381254635}, {\"car_ID\": 135, \"symboling\": 3, \"fueltype\": \"gas\", \"aspiration\": \"std\", \"doornumber\": \"two\", \"carbody\": \"hatchback\", \"drivewheel\": \"fwd\", \"enginelocation\": \"front\", \"wheelbase\": 99.1, \"carlength\": 186.6, \"carwidth\": 66.5, \"carheight\": 56.1, \"curbweight\": 2707, \"enginetype\": \"ohc\", \"cylindernumber\": \"four\", \"enginesize\": 121, \"fuelsystem\": \"mpfi\", \"boreratio\": 2.54, \"stroke\": 2.07, \"compressionratio\": 9.3, \"horsepower\": 110, \"peakrpm\": 5250, \"citympg\": 21, \"highwaympg\": 28, \"price\": 15040, \"Brand\": \"saab\", \"price_level\": \"ordinary\", \"Pred1\": 13553.031496457115, \"Pred2\": 13707.562286405693}, {\"car_ID\": 136, \"symboling\": 2, \"fueltype\": \"gas\", \"aspiration\": \"std\", \"doornumber\": \"four\", \"carbody\": \"sedan\", \"drivewheel\": \"fwd\", \"enginelocation\": \"front\", \"wheelbase\": 99.1, \"carlength\": 186.6, \"carwidth\": 66.5, \"carheight\": 56.1, \"curbweight\": 2758, \"enginetype\": \"ohc\", \"cylindernumber\": \"four\", \"enginesize\": 121, \"fuelsystem\": \"mpfi\", \"boreratio\": 3.54, \"stroke\": 3.07, \"compressionratio\": 9.3, \"horsepower\": 110, \"peakrpm\": 5250, \"citympg\": 21, \"highwaympg\": 28, \"price\": 15510, \"Brand\": \"saab\", \"price_level\": \"ordinary\", \"Pred1\": 13710.310605271472, \"Pred2\": 13924.953633297682}, {\"car_ID\": 137, \"symboling\": 3, \"fueltype\": \"gas\", \"aspiration\": \"turbo\", \"doornumber\": \"two\", \"carbody\": \"hatchback\", \"drivewheel\": \"fwd\", \"enginelocation\": \"front\", \"wheelbase\": 99.1, \"carlength\": 186.6, \"carwidth\": 66.5, \"carheight\": 56.1, \"curbweight\": 2808, \"enginetype\": \"dohc\", \"cylindernumber\": \"four\", \"enginesize\": 121, \"fuelsystem\": \"mpfi\", \"boreratio\": 3.54, \"stroke\": 3.07, \"compressionratio\": 9.0, \"horsepower\": 160, \"peakrpm\": 5500, \"citympg\": 19, \"highwaympg\": 26, \"price\": 18150, \"Brand\": \"saab\", \"price_level\": \"ordinary\", \"Pred1\": 16220.571020063093, \"Pred2\": 16575.412636132452}, {\"car_ID\": 138, \"symboling\": 2, \"fueltype\": \"gas\", \"aspiration\": \"turbo\", \"doornumber\": \"four\", \"carbody\": \"sedan\", \"drivewheel\": \"fwd\", \"enginelocation\": \"front\", \"wheelbase\": 99.1, \"carlength\": 186.6, \"carwidth\": 66.5, \"carheight\": 56.1, \"curbweight\": 2847, \"enginetype\": \"dohc\", \"cylindernumber\": \"four\", \"enginesize\": 121, \"fuelsystem\": \"mpfi\", \"boreratio\": 3.54, \"stroke\": 3.07, \"compressionratio\": 9.0, \"horsepower\": 160, \"peakrpm\": 5500, \"citympg\": 19, \"highwaympg\": 26, \"price\": 18620, \"Brand\": \"saab\", \"price_level\": \"ordinary\", \"Pred1\": 16340.843279744651, \"Pred2\": 16741.653077873383}, {\"car_ID\": 139, \"symboling\": 2, \"fueltype\": \"gas\", \"aspiration\": \"std\", \"doornumber\": \"two\", \"carbody\": \"hatchback\", \"drivewheel\": \"fwd\", \"enginelocation\": \"front\", \"wheelbase\": 93.7, \"carlength\": 156.9, \"carwidth\": 63.4, \"carheight\": 53.7, \"curbweight\": 2050, \"enginetype\": \"ohcf\", \"cylindernumber\": \"four\", \"enginesize\": 97, \"fuelsystem\": \"2bbl\", \"boreratio\": 3.62, \"stroke\": 2.36, \"compressionratio\": 9.0, \"horsepower\": 69, \"peakrpm\": 4900, \"citympg\": 31, \"highwaympg\": 36, \"price\": 5118, \"Brand\": \"subaru\", \"price_level\": \"cheap\", \"Pred1\": 6570.5514545667465, \"Pred2\": 6871.322450197487}, {\"car_ID\": 140, \"symboling\": 2, \"fueltype\": \"gas\", \"aspiration\": \"std\", \"doornumber\": \"two\", \"carbody\": \"hatchback\", \"drivewheel\": \"fwd\", \"enginelocation\": \"front\", \"wheelbase\": 93.7, \"carlength\": 157.9, \"carwidth\": 63.6, \"carheight\": 53.7, \"curbweight\": 2120, \"enginetype\": \"ohcf\", \"cylindernumber\": \"four\", \"enginesize\": 108, \"fuelsystem\": \"2bbl\", \"boreratio\": 3.62, \"stroke\": 2.64, \"compressionratio\": 8.7, \"horsepower\": 73, \"peakrpm\": 4400, \"citympg\": 26, \"highwaympg\": 31, \"price\": 7053, \"Brand\": \"subaru\", \"price_level\": \"cheap\", \"Pred1\": 7901.025434261952, \"Pred2\": 8298.367768925527}, {\"car_ID\": 141, \"symboling\": 2, \"fueltype\": \"gas\", \"aspiration\": \"std\", \"doornumber\": \"two\", \"carbody\": \"hatchback\", \"drivewheel\": \"4wd\", \"enginelocation\": \"front\", \"wheelbase\": 93.3, \"carlength\": 157.3, \"carwidth\": 63.8, \"carheight\": 55.7, \"curbweight\": 2240, \"enginetype\": \"ohcf\", \"cylindernumber\": \"four\", \"enginesize\": 108, \"fuelsystem\": \"2bbl\", \"boreratio\": 3.62, \"stroke\": 2.64, \"compressionratio\": 8.7, \"horsepower\": 73, \"peakrpm\": 4400, \"citympg\": 26, \"highwaympg\": 31, \"price\": 7603, \"Brand\": \"subaru\", \"price_level\": \"cheap\", \"Pred1\": 8416.279165820422, \"Pred2\": 8809.876820436093}, {\"car_ID\": 142, \"symboling\": 0, \"fueltype\": \"gas\", \"aspiration\": \"std\", \"doornumber\": \"four\", \"carbody\": \"sedan\", \"drivewheel\": \"fwd\", \"enginelocation\": \"front\", \"wheelbase\": 97.2, \"carlength\": 172.0, \"carwidth\": 65.4, \"carheight\": 52.5, \"curbweight\": 2145, \"enginetype\": \"ohcf\", \"cylindernumber\": \"four\", \"enginesize\": 108, \"fuelsystem\": \"2bbl\", \"boreratio\": 3.62, \"stroke\": 2.64, \"compressionratio\": 9.5, \"horsepower\": 82, \"peakrpm\": 4800, \"citympg\": 32, \"highwaympg\": 37, \"price\": 7126, \"Brand\": \"subaru\", \"price_level\": \"cheap\", \"Pred1\": 9199.92742353928, \"Pred2\": 8843.651596303862}, {\"car_ID\": 143, \"symboling\": 0, \"fueltype\": \"gas\", \"aspiration\": \"std\", \"doornumber\": \"four\", \"carbody\": \"sedan\", \"drivewheel\": \"fwd\", \"enginelocation\": \"front\", \"wheelbase\": 97.2, \"carlength\": 172.0, \"carwidth\": 65.4, \"carheight\": 52.5, \"curbweight\": 2190, \"enginetype\": \"ohcf\", \"cylindernumber\": \"four\", \"enginesize\": 108, \"fuelsystem\": \"2bbl\", \"boreratio\": 3.62, \"stroke\": 2.64, \"compressionratio\": 9.5, \"horsepower\": 82, \"peakrpm\": 4400, \"citympg\": 28, \"highwaympg\": 33, \"price\": 7775, \"Brand\": \"subaru\", \"price_level\": \"cheap\", \"Pred1\": 9270.053146584272, \"Pred2\": 9035.467490620322}, {\"car_ID\": 144, \"symboling\": 0, \"fueltype\": \"gas\", \"aspiration\": \"std\", \"doornumber\": \"four\", \"carbody\": \"sedan\", \"drivewheel\": \"fwd\", \"enginelocation\": \"front\", \"wheelbase\": 97.2, \"carlength\": 172.0, \"carwidth\": 65.4, \"carheight\": 52.5, \"curbweight\": 2340, \"enginetype\": \"ohcf\", \"cylindernumber\": \"four\", \"enginesize\": 108, \"fuelsystem\": \"mpfi\", \"boreratio\": 3.62, \"stroke\": 2.64, \"compressionratio\": 9.0, \"horsepower\": 94, \"peakrpm\": 5200, \"citympg\": 26, \"highwaympg\": 32, \"price\": 9960, \"Brand\": \"subaru\", \"price_level\": \"cheap\", \"Pred1\": 10350.990776712097, \"Pred2\": 10259.813060537817}, {\"car_ID\": 145, \"symboling\": 0, \"fueltype\": \"gas\", \"aspiration\": \"std\", \"doornumber\": \"four\", \"carbody\": \"sedan\", \"drivewheel\": \"4wd\", \"enginelocation\": \"front\", \"wheelbase\": 97.0, \"carlength\": 172.0, \"carwidth\": 65.4, \"carheight\": 54.3, \"curbweight\": 2385, \"enginetype\": \"ohcf\", \"cylindernumber\": \"four\", \"enginesize\": 108, \"fuelsystem\": \"2bbl\", \"boreratio\": 3.62, \"stroke\": 2.64, \"compressionratio\": 9.0, \"horsepower\": 82, \"peakrpm\": 4800, \"citympg\": 24, \"highwaympg\": 25, \"price\": 9233, \"Brand\": \"subaru\", \"price_level\": \"cheap\", \"Pred1\": 9486.831080557633, \"Pred2\": 9866.66969932499}, {\"car_ID\": 146, \"symboling\": 0, \"fueltype\": \"gas\", \"aspiration\": \"turbo\", \"doornumber\": \"four\", \"carbody\": \"sedan\", \"drivewheel\": \"4wd\", \"enginelocation\": \"front\", \"wheelbase\": 97.0, \"carlength\": 172.0, \"carwidth\": 65.4, \"carheight\": 54.3, \"curbweight\": 2510, \"enginetype\": \"ohcf\", \"cylindernumber\": \"four\", \"enginesize\": 108, \"fuelsystem\": \"mpfi\", \"boreratio\": 3.62, \"stroke\": 2.64, \"compressionratio\": 7.7, \"horsepower\": 111, \"peakrpm\": 4800, \"citympg\": 24, \"highwaympg\": 29, \"price\": 11259, \"Brand\": \"subaru\", \"price_level\": \"cheap\", \"Pred1\": 11574.678806179458, \"Pred2\": 11813.143162177606}, {\"car_ID\": 147, \"symboling\": 0, \"fueltype\": \"gas\", \"aspiration\": \"std\", \"doornumber\": \"four\", \"carbody\": \"wagon\", \"drivewheel\": \"fwd\", \"enginelocation\": \"front\", \"wheelbase\": 97.0, \"carlength\": 173.5, \"carwidth\": 65.4, \"carheight\": 53.0, \"curbweight\": 2290, \"enginetype\": \"ohcf\", \"cylindernumber\": \"four\", \"enginesize\": 108, \"fuelsystem\": \"2bbl\", \"boreratio\": 3.62, \"stroke\": 2.64, \"compressionratio\": 9.0, \"horsepower\": 82, \"peakrpm\": 4800, \"citympg\": 28, \"highwaympg\": 32, \"price\": 7463, \"Brand\": \"subaru\", \"price_level\": \"cheap\", \"Pred1\": 9451.913439732976, \"Pred2\": 9461.725033545794}, {\"car_ID\": 148, \"symboling\": 0, \"fueltype\": \"gas\", \"aspiration\": \"std\", \"doornumber\": \"four\", \"carbody\": \"wagon\", \"drivewheel\": \"fwd\", \"enginelocation\": \"front\", \"wheelbase\": 97.0, \"carlength\": 173.5, \"carwidth\": 65.4, \"carheight\": 53.0, \"curbweight\": 2455, \"enginetype\": \"ohcf\", \"cylindernumber\": \"four\", \"enginesize\": 108, \"fuelsystem\": \"mpfi\", \"boreratio\": 3.62, \"stroke\": 2.64, \"compressionratio\": 9.0, \"horsepower\": 94, \"peakrpm\": 5200, \"citympg\": 25, \"highwaympg\": 31, \"price\": 10198, \"Brand\": \"subaru\", \"price_level\": \"cheap\", \"Pred1\": 10640.930491783918, \"Pred2\": 10750.009234902107}, {\"car_ID\": 149, \"symboling\": 0, \"fueltype\": \"gas\", \"aspiration\": \"std\", \"doornumber\": \"four\", \"carbody\": \"wagon\", \"drivewheel\": \"4wd\", \"enginelocation\": \"front\", \"wheelbase\": 96.9, \"carlength\": 173.6, \"carwidth\": 65.4, \"carheight\": 54.9, \"curbweight\": 2420, \"enginetype\": \"ohcf\", \"cylindernumber\": \"four\", \"enginesize\": 108, \"fuelsystem\": \"2bbl\", \"boreratio\": 3.62, \"stroke\": 2.64, \"compressionratio\": 9.0, \"horsepower\": 82, \"peakrpm\": 4800, \"citympg\": 23, \"highwaympg\": 29, \"price\": 8013, \"Brand\": \"subaru\", \"price_level\": \"cheap\", \"Pred1\": 9921.805437751347, \"Pred2\": 10015.859839348905}, {\"car_ID\": 150, \"symboling\": 0, \"fueltype\": \"gas\", \"aspiration\": \"turbo\", \"doornumber\": \"four\", \"carbody\": \"wagon\", \"drivewheel\": \"4wd\", \"enginelocation\": \"front\", \"wheelbase\": 96.9, \"carlength\": 173.6, \"carwidth\": 65.4, \"carheight\": 54.9, \"curbweight\": 2650, \"enginetype\": \"ohcf\", \"cylindernumber\": \"four\", \"enginesize\": 108, \"fuelsystem\": \"mpfi\", \"boreratio\": 3.62, \"stroke\": 2.64, \"compressionratio\": 7.7, \"horsepower\": 111, \"peakrpm\": 4800, \"citympg\": 23, \"highwaympg\": 23, \"price\": 11694, \"Brand\": \"subaru\", \"price_level\": \"cheap\", \"Pred1\": 11543.629585206327, \"Pred2\": 12409.903722273266}, {\"car_ID\": 151, \"symboling\": 1, \"fueltype\": \"gas\", \"aspiration\": \"std\", \"doornumber\": \"two\", \"carbody\": \"hatchback\", \"drivewheel\": \"fwd\", \"enginelocation\": \"front\", \"wheelbase\": 95.7, \"carlength\": 158.7, \"carwidth\": 63.6, \"carheight\": 54.5, \"curbweight\": 1985, \"enginetype\": \"ohc\", \"cylindernumber\": \"four\", \"enginesize\": 92, \"fuelsystem\": \"2bbl\", \"boreratio\": 3.05, \"stroke\": 3.03, \"compressionratio\": 9.0, \"horsepower\": 62, \"peakrpm\": 4800, \"citympg\": 35, \"highwaympg\": 39, \"price\": 5348, \"Brand\": \"toyota\", \"price_level\": \"cheap\", \"Pred1\": 5678.441342609127, \"Pred2\": 5828.6294420991}, {\"car_ID\": 152, \"symboling\": 1, \"fueltype\": \"gas\", \"aspiration\": \"std\", \"doornumber\": \"two\", \"carbody\": \"hatchback\", \"drivewheel\": \"fwd\", \"enginelocation\": \"front\", \"wheelbase\": 95.7, \"carlength\": 158.7, \"carwidth\": 63.6, \"carheight\": 54.5, \"curbweight\": 2040, \"enginetype\": \"ohc\", \"cylindernumber\": \"four\", \"enginesize\": 92, \"fuelsystem\": \"2bbl\", \"boreratio\": 3.05, \"stroke\": 3.03, \"compressionratio\": 9.0, \"horsepower\": 62, \"peakrpm\": 4800, \"citympg\": 31, \"highwaympg\": 38, \"price\": 6338, \"Brand\": \"toyota\", \"price_level\": \"cheap\", \"Pred1\": 6016.3561590217505, \"Pred2\": 6063.071090708108}, {\"car_ID\": 153, \"symboling\": 1, \"fueltype\": \"gas\", \"aspiration\": \"std\", \"doornumber\": \"four\", \"carbody\": \"hatchback\", \"drivewheel\": \"fwd\", \"enginelocation\": \"front\", \"wheelbase\": 95.7, \"carlength\": 158.7, \"carwidth\": 63.6, \"carheight\": 54.5, \"curbweight\": 2015, \"enginetype\": \"ohc\", \"cylindernumber\": \"four\", \"enginesize\": 92, \"fuelsystem\": \"2bbl\", \"boreratio\": 3.05, \"stroke\": 3.03, \"compressionratio\": 9.0, \"horsepower\": 62, \"peakrpm\": 4800, \"citympg\": 31, \"highwaympg\": 38, \"price\": 6488, \"Brand\": \"toyota\", \"price_level\": \"cheap\", \"Pred1\": 5939.258556661771, \"Pred2\": 5956.506704976739}, {\"car_ID\": 154, \"symboling\": 0, \"fueltype\": \"gas\", \"aspiration\": \"std\", \"doornumber\": \"four\", \"carbody\": \"wagon\", \"drivewheel\": \"fwd\", \"enginelocation\": \"front\", \"wheelbase\": 95.7, \"carlength\": 169.7, \"carwidth\": 63.6, \"carheight\": 59.1, \"curbweight\": 2280, \"enginetype\": \"ohc\", \"cylindernumber\": \"four\", \"enginesize\": 92, \"fuelsystem\": \"2bbl\", \"boreratio\": 3.05, \"stroke\": 3.03, \"compressionratio\": 9.0, \"horsepower\": 62, \"peakrpm\": 4800, \"citympg\": 31, \"highwaympg\": 37, \"price\": 6918, \"Brand\": \"toyota\", \"price_level\": \"cheap\", \"Pred1\": 6328.8335106584855, \"Pred2\": 7086.089193729236}, {\"car_ID\": 155, \"symboling\": 0, \"fueltype\": \"gas\", \"aspiration\": \"std\", \"doornumber\": \"four\", \"carbody\": \"wagon\", \"drivewheel\": \"4wd\", \"enginelocation\": \"front\", \"wheelbase\": 95.7, \"carlength\": 169.7, \"carwidth\": 63.6, \"carheight\": 59.1, \"curbweight\": 2290, \"enginetype\": \"ohc\", \"cylindernumber\": \"four\", \"enginesize\": 92, \"fuelsystem\": \"2bbl\", \"boreratio\": 3.05, \"stroke\": 3.03, \"compressionratio\": 9.0, \"horsepower\": 62, \"peakrpm\": 4800, \"citympg\": 27, \"highwaympg\": 32, \"price\": 7898, \"Brand\": \"toyota\", \"price_level\": \"cheap\", \"Pred1\": 6212.039239591635, \"Pred2\": 7128.714948021781}, {\"car_ID\": 156, \"symboling\": 0, \"fueltype\": \"gas\", \"aspiration\": \"std\", \"doornumber\": \"four\", \"carbody\": \"wagon\", \"drivewheel\": \"4wd\", \"enginelocation\": \"front\", \"wheelbase\": 95.7, \"carlength\": 169.7, \"carwidth\": 63.6, \"carheight\": 59.1, \"curbweight\": 3110, \"enginetype\": \"ohc\", \"cylindernumber\": \"four\", \"enginesize\": 92, \"fuelsystem\": \"2bbl\", \"boreratio\": 3.05, \"stroke\": 3.03, \"compressionratio\": 9.0, \"horsepower\": 62, \"peakrpm\": 4800, \"citympg\": 27, \"highwaympg\": 32, \"price\": 8778, \"Brand\": \"toyota\", \"price_level\": \"cheap\", \"Pred1\": 8740.840596998962, \"Pred2\": 10624.026800010633}, {\"car_ID\": 157, \"symboling\": 0, \"fueltype\": \"gas\", \"aspiration\": \"std\", \"doornumber\": \"four\", \"carbody\": \"sedan\", \"drivewheel\": \"fwd\", \"enginelocation\": \"front\", \"wheelbase\": 95.7, \"carlength\": 166.3, \"carwidth\": 64.4, \"carheight\": 53.0, \"curbweight\": 2081, \"enginetype\": \"ohc\", \"cylindernumber\": \"four\", \"enginesize\": 98, \"fuelsystem\": \"2bbl\", \"boreratio\": 3.19, \"stroke\": 3.03, \"compressionratio\": 9.0, \"horsepower\": 70, \"peakrpm\": 4800, \"citympg\": 30, \"highwaympg\": 37, \"price\": 6938, \"Brand\": \"toyota\", \"price_level\": \"cheap\", \"Pred1\": 7270.793185441464, \"Pred2\": 7137.088767692774}, {\"car_ID\": 158, \"symboling\": 0, \"fueltype\": \"gas\", \"aspiration\": \"std\", \"doornumber\": \"four\", \"carbody\": \"hatchback\", \"drivewheel\": \"fwd\", \"enginelocation\": \"front\", \"wheelbase\": 95.7, \"carlength\": 166.3, \"carwidth\": 64.4, \"carheight\": 52.8, \"curbweight\": 2109, \"enginetype\": \"ohc\", \"cylindernumber\": \"four\", \"enginesize\": 98, \"fuelsystem\": \"2bbl\", \"boreratio\": 3.19, \"stroke\": 3.03, \"compressionratio\": 9.0, \"horsepower\": 70, \"peakrpm\": 4800, \"citympg\": 30, \"highwaympg\": 37, \"price\": 7198, \"Brand\": \"toyota\", \"price_level\": \"cheap\", \"Pred1\": 7357.142500084636, \"Pred2\": 7256.440879711907}, {\"car_ID\": 159, \"symboling\": 0, \"fueltype\": \"diesel\", \"aspiration\": \"std\", \"doornumber\": \"four\", \"carbody\": \"sedan\", \"drivewheel\": \"fwd\", \"enginelocation\": \"front\", \"wheelbase\": 95.7, \"carlength\": 166.3, \"carwidth\": 64.4, \"carheight\": 53.0, \"curbweight\": 2275, \"enginetype\": \"ohc\", \"cylindernumber\": \"four\", \"enginesize\": 110, \"fuelsystem\": \"idi\", \"boreratio\": 3.27, \"stroke\": 3.35, \"compressionratio\": 22.5, \"horsepower\": 56, \"peakrpm\": 4500, \"citympg\": 34, \"highwaympg\": 36, \"price\": 7898, \"Brand\": \"toyota\", \"price_level\": \"cheap\", \"Pred1\": 7871.363521481391, \"Pred2\": 8300.134430915412}, {\"car_ID\": 160, \"symboling\": 0, \"fueltype\": \"diesel\", \"aspiration\": \"std\", \"doornumber\": \"four\", \"carbody\": \"hatchback\", \"drivewheel\": \"fwd\", \"enginelocation\": \"front\", \"wheelbase\": 95.7, \"carlength\": 166.3, \"carwidth\": 64.4, \"carheight\": 52.8, \"curbweight\": 2275, \"enginetype\": \"ohc\", \"cylindernumber\": \"four\", \"enginesize\": 110, \"fuelsystem\": \"idi\", \"boreratio\": 3.27, \"stroke\": 3.35, \"compressionratio\": 22.5, \"horsepower\": 56, \"peakrpm\": 4500, \"citympg\": 38, \"highwaympg\": 47, \"price\": 7788, \"Brand\": \"toyota\", \"price_level\": \"cheap\", \"Pred1\": 8492.896938339494, \"Pred2\": 8300.134430915412}, {\"car_ID\": 161, \"symboling\": 0, \"fueltype\": \"gas\", \"aspiration\": \"std\", \"doornumber\": \"four\", \"carbody\": \"sedan\", \"drivewheel\": \"fwd\", \"enginelocation\": \"front\", \"wheelbase\": 95.7, \"carlength\": 166.3, \"carwidth\": 64.4, \"carheight\": 53.0, \"curbweight\": 2094, \"enginetype\": \"ohc\", \"cylindernumber\": \"four\", \"enginesize\": 98, \"fuelsystem\": \"2bbl\", \"boreratio\": 3.19, \"stroke\": 3.03, \"compressionratio\": 9.0, \"horsepower\": 70, \"peakrpm\": 4800, \"citympg\": 38, \"highwaympg\": 47, \"price\": 7738, \"Brand\": \"toyota\", \"price_level\": \"cheap\", \"Pred1\": 7606.150562690331, \"Pred2\": 7192.502248273086}, {\"car_ID\": 162, \"symboling\": 0, \"fueltype\": \"gas\", \"aspiration\": \"std\", \"doornumber\": \"four\", \"carbody\": \"hatchback\", \"drivewheel\": \"fwd\", \"enginelocation\": \"front\", \"wheelbase\": 95.7, \"carlength\": 166.3, \"carwidth\": 64.4, \"carheight\": 52.8, \"curbweight\": 2122, \"enginetype\": \"ohc\", \"cylindernumber\": \"four\", \"enginesize\": 98, \"fuelsystem\": \"2bbl\", \"boreratio\": 3.19, \"stroke\": 3.03, \"compressionratio\": 9.0, \"horsepower\": 70, \"peakrpm\": 4800, \"citympg\": 28, \"highwaympg\": 34, \"price\": 8358, \"Brand\": \"toyota\", \"price_level\": \"cheap\", \"Pred1\": 7283.924921902457, \"Pred2\": 7311.854360292218}, {\"car_ID\": 163, \"symboling\": 0, \"fueltype\": \"gas\", \"aspiration\": \"std\", \"doornumber\": \"four\", \"carbody\": \"sedan\", \"drivewheel\": \"fwd\", \"enginelocation\": \"front\", \"wheelbase\": 95.7, \"carlength\": 166.3, \"carwidth\": 64.4, \"carheight\": 52.8, \"curbweight\": 2140, \"enginetype\": \"ohc\", \"cylindernumber\": \"four\", \"enginesize\": 98, \"fuelsystem\": \"2bbl\", \"boreratio\": 3.19, \"stroke\": 3.03, \"compressionratio\": 9.0, \"horsepower\": 70, \"peakrpm\": 4800, \"citympg\": 28, \"highwaympg\": 34, \"price\": 9258, \"Brand\": \"toyota\", \"price_level\": \"cheap\", \"Pred1\": 7339.435195601647, \"Pred2\": 7388.580718018802}, {\"car_ID\": 164, \"symboling\": 1, \"fueltype\": \"gas\", \"aspiration\": \"std\", \"doornumber\": \"two\", \"carbody\": \"sedan\", \"drivewheel\": \"rwd\", \"enginelocation\": \"front\", \"wheelbase\": 94.5, \"carlength\": 168.7, \"carwidth\": 64.0, \"carheight\": 52.6, \"curbweight\": 2169, \"enginetype\": \"ohc\", \"cylindernumber\": \"four\", \"enginesize\": 98, \"fuelsystem\": \"2bbl\", \"boreratio\": 3.19, \"stroke\": 3.03, \"compressionratio\": 9.0, \"horsepower\": 70, \"peakrpm\": 4800, \"citympg\": 29, \"highwaympg\": 34, \"price\": 8058, \"Brand\": \"toyota\", \"price_level\": \"cheap\", \"Pred1\": 7038.639660984256, \"Pred2\": 7512.195405467188}, {\"car_ID\": 165, \"symboling\": 1, \"fueltype\": \"gas\", \"aspiration\": \"std\", \"doornumber\": \"two\", \"carbody\": \"hatchback\", \"drivewheel\": \"rwd\", \"enginelocation\": \"front\", \"wheelbase\": 94.5, \"carlength\": 168.7, \"carwidth\": 64.0, \"carheight\": 52.6, \"curbweight\": 2204, \"enginetype\": \"ohc\", \"cylindernumber\": \"four\", \"enginesize\": 98, \"fuelsystem\": \"2bbl\", \"boreratio\": 3.19, \"stroke\": 3.03, \"compressionratio\": 9.0, \"horsepower\": 70, \"peakrpm\": 4800, \"citympg\": 29, \"highwaympg\": 34, \"price\": 8238, \"Brand\": \"toyota\", \"price_level\": \"cheap\", \"Pred1\": 7146.576304288232, \"Pred2\": 7661.385545491103}, {\"car_ID\": 166, \"symboling\": 1, \"fueltype\": \"gas\", \"aspiration\": \"std\", \"doornumber\": \"two\", \"carbody\": \"sedan\", \"drivewheel\": \"rwd\", \"enginelocation\": \"front\", \"wheelbase\": 94.5, \"carlength\": 168.7, \"carwidth\": 64.0, \"carheight\": 52.6, \"curbweight\": 2265, \"enginetype\": \"dohc\", \"cylindernumber\": \"four\", \"enginesize\": 98, \"fuelsystem\": \"mpfi\", \"boreratio\": 3.24, \"stroke\": 3.08, \"compressionratio\": 9.4, \"horsepower\": 112, \"peakrpm\": 6600, \"citympg\": 26, \"highwaympg\": 29, \"price\": 9298, \"Brand\": \"toyota\", \"price_level\": \"cheap\", \"Pred1\": 9133.168041694036, \"Pred2\": 9968.760041028152}, {\"car_ID\": 167, \"symboling\": 1, \"fueltype\": \"gas\", \"aspiration\": \"std\", \"doornumber\": \"two\", \"carbody\": \"hatchback\", \"drivewheel\": \"rwd\", \"enginelocation\": \"front\", \"wheelbase\": 94.5, \"carlength\": 168.7, \"carwidth\": 64.0, \"carheight\": 52.6, \"curbweight\": 2300, \"enginetype\": \"dohc\", \"cylindernumber\": \"four\", \"enginesize\": 98, \"fuelsystem\": \"mpfi\", \"boreratio\": 3.24, \"stroke\": 3.08, \"compressionratio\": 9.4, \"horsepower\": 112, \"peakrpm\": 6600, \"citympg\": 26, \"highwaympg\": 29, \"price\": 9538, \"Brand\": \"toyota\", \"price_level\": \"cheap\", \"Pred1\": 9241.104684998012, \"Pred2\": 10117.950181052067}, {\"car_ID\": 168, \"symboling\": 2, \"fueltype\": \"gas\", \"aspiration\": \"std\", \"doornumber\": \"two\", \"carbody\": \"hardtop\", \"drivewheel\": \"rwd\", \"enginelocation\": \"front\", \"wheelbase\": 98.4, \"carlength\": 176.2, \"carwidth\": 65.6, \"carheight\": 52.0, \"curbweight\": 2540, \"enginetype\": \"ohc\", \"cylindernumber\": \"four\", \"enginesize\": 146, \"fuelsystem\": \"mpfi\", \"boreratio\": 3.62, \"stroke\": 3.5, \"compressionratio\": 9.3, \"horsepower\": 116, \"peakrpm\": 4800, \"citympg\": 24, \"highwaympg\": 30, \"price\": 8449, \"Brand\": \"toyota\", \"price_level\": \"cheap\", \"Pred1\": 15138.172351416571, \"Pred2\": 15410.188681508545}, {\"car_ID\": 169, \"symboling\": 2, \"fueltype\": \"gas\", \"aspiration\": \"std\", \"doornumber\": \"two\", \"carbody\": \"hardtop\", \"drivewheel\": \"rwd\", \"enginelocation\": \"front\", \"wheelbase\": 98.4, \"carlength\": 176.2, \"carwidth\": 65.6, \"carheight\": 52.0, \"curbweight\": 2536, \"enginetype\": \"ohc\", \"cylindernumber\": \"four\", \"enginesize\": 146, \"fuelsystem\": \"mpfi\", \"boreratio\": 3.62, \"stroke\": 3.5, \"compressionratio\": 9.3, \"horsepower\": 116, \"peakrpm\": 4800, \"citympg\": 24, \"highwaympg\": 30, \"price\": 9639, \"Brand\": \"toyota\", \"price_level\": \"cheap\", \"Pred1\": 15125.836735038967, \"Pred2\": 15393.138379791526}, {\"car_ID\": 170, \"symboling\": 2, \"fueltype\": \"gas\", \"aspiration\": \"std\", \"doornumber\": \"two\", \"carbody\": \"hatchback\", \"drivewheel\": \"rwd\", \"enginelocation\": \"front\", \"wheelbase\": 98.4, \"carlength\": 176.2, \"carwidth\": 65.6, \"carheight\": 52.0, \"curbweight\": 2551, \"enginetype\": \"ohc\", \"cylindernumber\": \"four\", \"enginesize\": 146, \"fuelsystem\": \"mpfi\", \"boreratio\": 3.62, \"stroke\": 3.5, \"compressionratio\": 9.3, \"horsepower\": 116, \"peakrpm\": 4800, \"citympg\": 24, \"highwaympg\": 30, \"price\": 9989, \"Brand\": \"toyota\", \"price_level\": \"cheap\", \"Pred1\": 15172.095296454958, \"Pred2\": 15457.077011230347}, {\"car_ID\": 171, \"symboling\": 2, \"fueltype\": \"gas\", \"aspiration\": \"std\", \"doornumber\": \"two\", \"carbody\": \"hardtop\", \"drivewheel\": \"rwd\", \"enginelocation\": \"front\", \"wheelbase\": 98.4, \"carlength\": 176.2, \"carwidth\": 65.6, \"carheight\": 52.0, \"curbweight\": 2679, \"enginetype\": \"ohc\", \"cylindernumber\": \"four\", \"enginesize\": 146, \"fuelsystem\": \"mpfi\", \"boreratio\": 3.62, \"stroke\": 3.5, \"compressionratio\": 9.3, \"horsepower\": 116, \"peakrpm\": 4800, \"citympg\": 24, \"highwaympg\": 30, \"price\": 11199, \"Brand\": \"toyota\", \"price_level\": \"cheap\", \"Pred1\": 15566.835020538048, \"Pred2\": 16002.686666174948}, {\"car_ID\": 172, \"symboling\": 2, \"fueltype\": \"gas\", \"aspiration\": \"std\", \"doornumber\": \"two\", \"carbody\": \"hatchback\", \"drivewheel\": \"rwd\", \"enginelocation\": \"front\", \"wheelbase\": 98.4, \"carlength\": 176.2, \"carwidth\": 65.6, \"carheight\": 52.0, \"curbweight\": 2714, \"enginetype\": \"ohc\", \"cylindernumber\": \"four\", \"enginesize\": 146, \"fuelsystem\": \"mpfi\", \"boreratio\": 3.62, \"stroke\": 3.5, \"compressionratio\": 9.3, \"horsepower\": 116, \"peakrpm\": 4800, \"citympg\": 24, \"highwaympg\": 30, \"price\": 11549, \"Brand\": \"toyota\", \"price_level\": \"cheap\", \"Pred1\": 15674.771663842032, \"Pred2\": 16151.876806198863}, {\"car_ID\": 173, \"symboling\": 2, \"fueltype\": \"gas\", \"aspiration\": \"std\", \"doornumber\": \"two\", \"carbody\": \"convertible\", \"drivewheel\": \"rwd\", \"enginelocation\": \"front\", \"wheelbase\": 98.4, \"carlength\": 176.2, \"carwidth\": 65.6, \"carheight\": 53.0, \"curbweight\": 2975, \"enginetype\": \"ohc\", \"cylindernumber\": \"four\", \"enginesize\": 146, \"fuelsystem\": \"mpfi\", \"boreratio\": 3.62, \"stroke\": 3.5, \"compressionratio\": 9.3, \"horsepower\": 116, \"peakrpm\": 4800, \"citympg\": 24, \"highwaympg\": 30, \"price\": 17669, \"Brand\": \"toyota\", \"price_level\": \"cheap\", \"Pred1\": 16479.670632480214, \"Pred2\": 17264.408993234338}, {\"car_ID\": 174, \"symboling\": -1, \"fueltype\": \"gas\", \"aspiration\": \"std\", \"doornumber\": \"four\", \"carbody\": \"sedan\", \"drivewheel\": \"fwd\", \"enginelocation\": \"front\", \"wheelbase\": 102.4, \"carlength\": 175.6, \"carwidth\": 66.5, \"carheight\": 54.9, \"curbweight\": 2326, \"enginetype\": \"ohc\", \"cylindernumber\": \"four\", \"enginesize\": 122, \"fuelsystem\": \"mpfi\", \"boreratio\": 3.31, \"stroke\": 3.54, \"compressionratio\": 8.7, \"horsepower\": 92, \"peakrpm\": 4200, \"citympg\": 29, \"highwaympg\": 34, \"price\": 8948, \"Brand\": \"toyota\", \"price_level\": \"cheap\", \"Pred1\": 11928.688817846014, \"Pred2\": 11290.962039126669}, {\"car_ID\": 175, \"symboling\": -1, \"fueltype\": \"diesel\", \"aspiration\": \"turbo\", \"doornumber\": \"four\", \"carbody\": \"sedan\", \"drivewheel\": \"fwd\", \"enginelocation\": \"front\", \"wheelbase\": 102.4, \"carlength\": 175.6, \"carwidth\": 66.5, \"carheight\": 54.9, \"curbweight\": 2480, \"enginetype\": \"ohc\", \"cylindernumber\": \"four\", \"enginesize\": 110, \"fuelsystem\": \"idi\", \"boreratio\": 3.27, \"stroke\": 3.35, \"compressionratio\": 22.5, \"horsepower\": 73, \"peakrpm\": 4500, \"citympg\": 30, \"highwaympg\": 33, \"price\": 10698, \"Brand\": \"toyota\", \"price_level\": \"cheap\", \"Pred1\": 10356.588576661285, \"Pred2\": 10002.65467257912}, {\"car_ID\": 176, \"symboling\": -1, \"fueltype\": \"gas\", \"aspiration\": \"std\", \"doornumber\": \"four\", \"carbody\": \"hatchback\", \"drivewheel\": \"fwd\", \"enginelocation\": \"front\", \"wheelbase\": 102.4, \"carlength\": 175.6, \"carwidth\": 66.5, \"carheight\": 53.9, \"curbweight\": 2414, \"enginetype\": \"ohc\", \"cylindernumber\": \"four\", \"enginesize\": 122, \"fuelsystem\": \"mpfi\", \"boreratio\": 3.31, \"stroke\": 3.54, \"compressionratio\": 8.7, \"horsepower\": 92, \"peakrpm\": 4200, \"citympg\": 27, \"highwaympg\": 32, \"price\": 9988, \"Brand\": \"toyota\", \"price_level\": \"cheap\", \"Pred1\": 12165.747397551662, \"Pred2\": 11666.068676901083}, {\"car_ID\": 177, \"symboling\": -1, \"fueltype\": \"gas\", \"aspiration\": \"std\", \"doornumber\": \"four\", \"carbody\": \"sedan\", \"drivewheel\": \"fwd\", \"enginelocation\": \"front\", \"wheelbase\": 102.4, \"carlength\": 175.6, \"carwidth\": 66.5, \"carheight\": 54.9, \"curbweight\": 2414, \"enginetype\": \"ohc\", \"cylindernumber\": \"four\", \"enginesize\": 122, \"fuelsystem\": \"mpfi\", \"boreratio\": 3.31, \"stroke\": 3.54, \"compressionratio\": 8.7, \"horsepower\": 92, \"peakrpm\": 4200, \"citympg\": 27, \"highwaympg\": 32, \"price\": 10898, \"Brand\": \"toyota\", \"price_level\": \"cheap\", \"Pred1\": 12165.747397551662, \"Pred2\": 11666.068676901083}, {\"car_ID\": 178, \"symboling\": -1, \"fueltype\": \"gas\", \"aspiration\": \"std\", \"doornumber\": \"four\", \"carbody\": \"hatchback\", \"drivewheel\": \"fwd\", \"enginelocation\": \"front\", \"wheelbase\": 102.4, \"carlength\": 175.6, \"carwidth\": 66.5, \"carheight\": 53.9, \"curbweight\": 2458, \"enginetype\": \"ohc\", \"cylindernumber\": \"four\", \"enginesize\": 122, \"fuelsystem\": \"mpfi\", \"boreratio\": 3.31, \"stroke\": 3.54, \"compressionratio\": 8.7, \"horsepower\": 92, \"peakrpm\": 4200, \"citympg\": 27, \"highwaympg\": 32, \"price\": 11248, \"Brand\": \"toyota\", \"price_level\": \"cheap\", \"Pred1\": 12301.439177705222, \"Pred2\": 11853.62199578829}, {\"car_ID\": 179, \"symboling\": 3, \"fueltype\": \"gas\", \"aspiration\": \"std\", \"doornumber\": \"two\", \"carbody\": \"hatchback\", \"drivewheel\": \"rwd\", \"enginelocation\": \"front\", \"wheelbase\": 102.9, \"carlength\": 183.5, \"carwidth\": 67.7, \"carheight\": 52.0, \"curbweight\": 2976, \"enginetype\": \"dohc\", \"cylindernumber\": \"six\", \"enginesize\": 171, \"fuelsystem\": \"mpfi\", \"boreratio\": 3.27, \"stroke\": 3.35, \"compressionratio\": 9.3, \"horsepower\": 161, \"peakrpm\": 5200, \"citympg\": 20, \"highwaympg\": 24, \"price\": 16558, \"Brand\": \"toyota\", \"price_level\": \"cheap\", \"Pred1\": 21579.737118965873, \"Pred2\": 21584.26564092217}, {\"car_ID\": 180, \"symboling\": 3, \"fueltype\": \"gas\", \"aspiration\": \"std\", \"doornumber\": \"two\", \"carbody\": \"hatchback\", \"drivewheel\": \"rwd\", \"enginelocation\": \"front\", \"wheelbase\": 102.9, \"carlength\": 183.5, \"carwidth\": 67.7, \"carheight\": 52.0, \"curbweight\": 3016, \"enginetype\": \"dohc\", \"cylindernumber\": \"six\", \"enginesize\": 171, \"fuelsystem\": \"mpfi\", \"boreratio\": 3.27, \"stroke\": 3.35, \"compressionratio\": 9.3, \"horsepower\": 161, \"peakrpm\": 5200, \"citympg\": 19, \"highwaympg\": 24, \"price\": 15998, \"Brand\": \"toyota\", \"price_level\": \"cheap\", \"Pred1\": 21764.914143248985, \"Pred2\": 21754.76865809236}, {\"car_ID\": 181, \"symboling\": -1, \"fueltype\": \"gas\", \"aspiration\": \"std\", \"doornumber\": \"four\", \"carbody\": \"sedan\", \"drivewheel\": \"rwd\", \"enginelocation\": \"front\", \"wheelbase\": 104.5, \"carlength\": 187.8, \"carwidth\": 66.5, \"carheight\": 54.1, \"curbweight\": 3131, \"enginetype\": \"dohc\", \"cylindernumber\": \"six\", \"enginesize\": 171, \"fuelsystem\": \"mpfi\", \"boreratio\": 3.27, \"stroke\": 3.35, \"compressionratio\": 9.2, \"horsepower\": 156, \"peakrpm\": 5200, \"citympg\": 20, \"highwaympg\": 24, \"price\": 15690, \"Brand\": \"toyota\", \"price_level\": \"cheap\", \"Pred1\": 20925.403302588078, \"Pred2\": 22001.231809319444}, {\"car_ID\": 182, \"symboling\": -1, \"fueltype\": \"gas\", \"aspiration\": \"std\", \"doornumber\": \"four\", \"carbody\": \"wagon\", \"drivewheel\": \"rwd\", \"enginelocation\": \"front\", \"wheelbase\": 104.5, \"carlength\": 187.8, \"carwidth\": 66.5, \"carheight\": 54.1, \"curbweight\": 3151, \"enginetype\": \"dohc\", \"cylindernumber\": \"six\", \"enginesize\": 161, \"fuelsystem\": \"mpfi\", \"boreratio\": 3.27, \"stroke\": 3.35, \"compressionratio\": 9.2, \"horsepower\": 156, \"peakrpm\": 5200, \"citympg\": 19, \"highwaympg\": 24, \"price\": 15750, \"Brand\": \"toyota\", \"price_level\": \"cheap\", \"Pred1\": 20217.34475502369, \"Pred2\": 21237.684572295042}, {\"car_ID\": 183, \"symboling\": 2, \"fueltype\": \"diesel\", \"aspiration\": \"std\", \"doornumber\": \"two\", \"carbody\": \"sedan\", \"drivewheel\": \"fwd\", \"enginelocation\": \"front\", \"wheelbase\": 97.3, \"carlength\": 171.7, \"carwidth\": 65.5, \"carheight\": 55.7, \"curbweight\": 2261, \"enginetype\": \"ohc\", \"cylindernumber\": \"four\", \"enginesize\": 97, \"fuelsystem\": \"idi\", \"boreratio\": 3.01, \"stroke\": 3.4, \"compressionratio\": 23.0, \"horsepower\": 52, \"peakrpm\": 4800, \"citympg\": 37, \"highwaympg\": 46, \"price\": 7775, \"Brand\": \"vw\", \"price_level\": \"ordinary\", \"Pred1\": 7683.051419980751, \"Pred2\": 6942.033587103739}, {\"car_ID\": 184, \"symboling\": 2, \"fueltype\": \"gas\", \"aspiration\": \"std\", \"doornumber\": \"two\", \"carbody\": \"sedan\", \"drivewheel\": \"fwd\", \"enginelocation\": \"front\", \"wheelbase\": 97.3, \"carlength\": 171.7, \"carwidth\": 65.5, \"carheight\": 55.7, \"curbweight\": 2209, \"enginetype\": \"ohc\", \"cylindernumber\": \"four\", \"enginesize\": 109, \"fuelsystem\": \"mpfi\", \"boreratio\": 3.19, \"stroke\": 3.4, \"compressionratio\": 9.0, \"horsepower\": 85, \"peakrpm\": 5250, \"citympg\": 27, \"highwaympg\": 34, \"price\": 7975, \"Brand\": \"vw\", \"price_level\": \"ordinary\", \"Pred1\": 9768.623316244484, \"Pred2\": 9347.576112219434}, {\"car_ID\": 185, \"symboling\": 2, \"fueltype\": \"diesel\", \"aspiration\": \"std\", \"doornumber\": \"four\", \"carbody\": \"sedan\", \"drivewheel\": \"fwd\", \"enginelocation\": \"front\", \"wheelbase\": 97.3, \"carlength\": 171.7, \"carwidth\": 65.5, \"carheight\": 55.7, \"curbweight\": 2264, \"enginetype\": \"ohc\", \"cylindernumber\": \"four\", \"enginesize\": 97, \"fuelsystem\": \"idi\", \"boreratio\": 3.01, \"stroke\": 3.4, \"compressionratio\": 23.0, \"horsepower\": 52, \"peakrpm\": 4800, \"citympg\": 37, \"highwaympg\": 46, \"price\": 7995, \"Brand\": \"vw\", \"price_level\": \"ordinary\", \"Pred1\": 7692.303132263944, \"Pred2\": 6954.8213133915015}, {\"car_ID\": 186, \"symboling\": 2, \"fueltype\": \"gas\", \"aspiration\": \"std\", \"doornumber\": \"four\", \"carbody\": \"sedan\", \"drivewheel\": \"fwd\", \"enginelocation\": \"front\", \"wheelbase\": 97.3, \"carlength\": 171.7, \"carwidth\": 65.5, \"carheight\": 55.7, \"curbweight\": 2212, \"enginetype\": \"ohc\", \"cylindernumber\": \"four\", \"enginesize\": 109, \"fuelsystem\": \"mpfi\", \"boreratio\": 3.19, \"stroke\": 3.4, \"compressionratio\": 9.0, \"horsepower\": 85, \"peakrpm\": 5250, \"citympg\": 27, \"highwaympg\": 34, \"price\": 8195, \"Brand\": \"vw\", \"price_level\": \"ordinary\", \"Pred1\": 9777.875028527684, \"Pred2\": 9360.363838507197}, {\"car_ID\": 187, \"symboling\": 2, \"fueltype\": \"gas\", \"aspiration\": \"std\", \"doornumber\": \"four\", \"carbody\": \"sedan\", \"drivewheel\": \"fwd\", \"enginelocation\": \"front\", \"wheelbase\": 97.3, \"carlength\": 171.7, \"carwidth\": 65.5, \"carheight\": 55.7, \"curbweight\": 2275, \"enginetype\": \"ohc\", \"cylindernumber\": \"four\", \"enginesize\": 109, \"fuelsystem\": \"mpfi\", \"boreratio\": 3.19, \"stroke\": 3.4, \"compressionratio\": 9.0, \"horsepower\": 85, \"peakrpm\": 5250, \"citympg\": 27, \"highwaympg\": 34, \"price\": 8495, \"Brand\": \"vw\", \"price_level\": \"ordinary\", \"Pred1\": 9972.160986474832, \"Pred2\": 9628.906090550245}, {\"car_ID\": 188, \"symboling\": 2, \"fueltype\": \"diesel\", \"aspiration\": \"turbo\", \"doornumber\": \"four\", \"carbody\": \"sedan\", \"drivewheel\": \"fwd\", \"enginelocation\": \"front\", \"wheelbase\": 97.3, \"carlength\": 171.7, \"carwidth\": 65.5, \"carheight\": 55.7, \"curbweight\": 2319, \"enginetype\": \"ohc\", \"cylindernumber\": \"four\", \"enginesize\": 97, \"fuelsystem\": \"idi\", \"boreratio\": 3.01, \"stroke\": 3.4, \"compressionratio\": 23.0, \"horsepower\": 68, \"peakrpm\": 4500, \"citympg\": 37, \"highwaympg\": 42, \"price\": 9495, \"Brand\": \"vw\", \"price_level\": \"ordinary\", \"Pred1\": 8310.909315239798, \"Pred2\": 7969.208636039562}, {\"car_ID\": 189, \"symboling\": 2, \"fueltype\": \"gas\", \"aspiration\": \"std\", \"doornumber\": \"four\", \"carbody\": \"sedan\", \"drivewheel\": \"fwd\", \"enginelocation\": \"front\", \"wheelbase\": 97.3, \"carlength\": 171.7, \"carwidth\": 65.5, \"carheight\": 55.7, \"curbweight\": 2300, \"enginetype\": \"ohc\", \"cylindernumber\": \"four\", \"enginesize\": 109, \"fuelsystem\": \"mpfi\", \"boreratio\": 3.19, \"stroke\": 3.4, \"compressionratio\": 10.0, \"horsepower\": 100, \"peakrpm\": 5500, \"citympg\": 26, \"highwaympg\": 32, \"price\": 9995, \"Brand\": \"vw\", \"price_level\": \"ordinary\", \"Pred1\": 10670.229804928138, \"Pred2\": 10466.669545693225}, {\"car_ID\": 190, \"symboling\": 3, \"fueltype\": \"gas\", \"aspiration\": \"std\", \"doornumber\": \"two\", \"carbody\": \"convertible\", \"drivewheel\": \"fwd\", \"enginelocation\": \"front\", \"wheelbase\": 94.5, \"carlength\": 159.3, \"carwidth\": 64.2, \"carheight\": 55.6, \"curbweight\": 2254, \"enginetype\": \"ohc\", \"cylindernumber\": \"four\", \"enginesize\": 109, \"fuelsystem\": \"mpfi\", \"boreratio\": 3.19, \"stroke\": 3.4, \"compressionratio\": 8.5, \"horsepower\": 90, \"peakrpm\": 5500, \"citympg\": 24, \"highwaympg\": 29, \"price\": 11595, \"Brand\": \"vw\", \"price_level\": \"ordinary\", \"Pred1\": 9509.9546371287, \"Pred2\": 9783.125029673098}, {\"car_ID\": 191, \"symboling\": 3, \"fueltype\": \"gas\", \"aspiration\": \"std\", \"doornumber\": \"two\", \"carbody\": \"hatchback\", \"drivewheel\": \"fwd\", \"enginelocation\": \"front\", \"wheelbase\": 94.5, \"carlength\": 165.7, \"carwidth\": 64.0, \"carheight\": 51.4, \"curbweight\": 2221, \"enginetype\": \"ohc\", \"cylindernumber\": \"four\", \"enginesize\": 109, \"fuelsystem\": \"mpfi\", \"boreratio\": 3.19, \"stroke\": 3.4, \"compressionratio\": 8.5, \"horsepower\": 90, \"peakrpm\": 5500, \"citympg\": 24, \"highwaympg\": 29, \"price\": 9980, \"Brand\": \"vw\", \"price_level\": \"ordinary\", \"Pred1\": 9079.153068580687, \"Pred2\": 9642.460040507693}, {\"car_ID\": 192, \"symboling\": 0, \"fueltype\": \"gas\", \"aspiration\": \"std\", \"doornumber\": \"four\", \"carbody\": \"sedan\", \"drivewheel\": \"fwd\", \"enginelocation\": \"front\", \"wheelbase\": 100.4, \"carlength\": 180.2, \"carwidth\": 66.9, \"carheight\": 55.1, \"curbweight\": 2661, \"enginetype\": \"ohc\", \"cylindernumber\": \"five\", \"enginesize\": 136, \"fuelsystem\": \"mpfi\", \"boreratio\": 3.19, \"stroke\": 3.4, \"compressionratio\": 8.5, \"horsepower\": 110, \"peakrpm\": 5500, \"citympg\": 19, \"highwaympg\": 24, \"price\": 13295, \"Brand\": \"vw\", \"price_level\": \"ordinary\", \"Pred1\": 14921.415728306827, \"Pred2\": 14784.681935074223}, {\"car_ID\": 193, \"symboling\": 0, \"fueltype\": \"diesel\", \"aspiration\": \"turbo\", \"doornumber\": \"four\", \"carbody\": \"sedan\", \"drivewheel\": \"fwd\", \"enginelocation\": \"front\", \"wheelbase\": 100.4, \"carlength\": 180.2, \"carwidth\": 66.9, \"carheight\": 55.1, \"curbweight\": 2579, \"enginetype\": \"ohc\", \"cylindernumber\": \"four\", \"enginesize\": 97, \"fuelsystem\": \"idi\", \"boreratio\": 3.01, \"stroke\": 3.4, \"compressionratio\": 23.0, \"horsepower\": 68, \"peakrpm\": 4500, \"citympg\": 33, \"highwaympg\": 38, \"price\": 13845, \"Brand\": \"vw\", \"price_level\": \"ordinary\", \"Pred1\": 9657.808485769026, \"Pred2\": 9077.478247645784}, {\"car_ID\": 194, \"symboling\": 0, \"fueltype\": \"gas\", \"aspiration\": \"std\", \"doornumber\": \"four\", \"carbody\": \"wagon\", \"drivewheel\": \"fwd\", \"enginelocation\": \"front\", \"wheelbase\": 100.4, \"carlength\": 183.1, \"carwidth\": 66.9, \"carheight\": 55.1, \"curbweight\": 2563, \"enginetype\": \"ohc\", \"cylindernumber\": \"four\", \"enginesize\": 109, \"fuelsystem\": \"mpfi\", \"boreratio\": 3.19, \"stroke\": 3.4, \"compressionratio\": 9.0, \"horsepower\": 88, \"peakrpm\": 5500, \"citympg\": 25, \"highwaympg\": 31, \"price\": 12290, \"Brand\": \"vw\", \"price_level\": \"ordinary\", \"Pred1\": 11412.250766280093, \"Pred2\": 11002.767628057918}, {\"car_ID\": 195, \"symboling\": -2, \"fueltype\": \"gas\", \"aspiration\": \"std\", \"doornumber\": \"four\", \"carbody\": \"sedan\", \"drivewheel\": \"rwd\", \"enginelocation\": \"front\", \"wheelbase\": 104.3, \"carlength\": 188.8, \"carwidth\": 67.2, \"carheight\": 56.2, \"curbweight\": 2912, \"enginetype\": \"ohc\", \"cylindernumber\": \"four\", \"enginesize\": 141, \"fuelsystem\": \"mpfi\", \"boreratio\": 3.78, \"stroke\": 3.15, \"compressionratio\": 9.5, \"horsepower\": 114, \"peakrpm\": 5400, \"citympg\": 23, \"highwaympg\": 28, \"price\": 12940, \"Brand\": \"volvo\", \"price_level\": \"ordinary\", \"Pred1\": 16287.783923055613, \"Pred2\": 16473.97415913166}, {\"car_ID\": 196, \"symboling\": -1, \"fueltype\": \"gas\", \"aspiration\": \"std\", \"doornumber\": \"four\", \"carbody\": \"wagon\", \"drivewheel\": \"rwd\", \"enginelocation\": \"front\", \"wheelbase\": 104.3, \"carlength\": 188.8, \"carwidth\": 67.2, \"carheight\": 57.5, \"curbweight\": 3034, \"enginetype\": \"ohc\", \"cylindernumber\": \"four\", \"enginesize\": 141, \"fuelsystem\": \"mpfi\", \"boreratio\": 3.78, \"stroke\": 3.15, \"compressionratio\": 9.5, \"horsepower\": 114, \"peakrpm\": 5400, \"citympg\": 23, \"highwaympg\": 28, \"price\": 13415, \"Brand\": \"volvo\", \"price_level\": \"ordinary\", \"Pred1\": 16664.020222572304, \"Pred2\": 16994.008361500735}, {\"car_ID\": 197, \"symboling\": -2, \"fueltype\": \"gas\", \"aspiration\": \"std\", \"doornumber\": \"four\", \"carbody\": \"sedan\", \"drivewheel\": \"rwd\", \"enginelocation\": \"front\", \"wheelbase\": 104.3, \"carlength\": 188.8, \"carwidth\": 67.2, \"carheight\": 56.2, \"curbweight\": 2935, \"enginetype\": \"ohc\", \"cylindernumber\": \"four\", \"enginesize\": 141, \"fuelsystem\": \"mpfi\", \"boreratio\": 3.78, \"stroke\": 3.15, \"compressionratio\": 9.5, \"horsepower\": 114, \"peakrpm\": 5400, \"citympg\": 24, \"highwaympg\": 28, \"price\": 15985, \"Brand\": \"volvo\", \"price_level\": \"ordinary\", \"Pred1\": 16296.892856719649, \"Pred2\": 16572.01339400452}, {\"car_ID\": 198, \"symboling\": -1, \"fueltype\": \"gas\", \"aspiration\": \"std\", \"doornumber\": \"four\", \"carbody\": \"wagon\", \"drivewheel\": \"rwd\", \"enginelocation\": \"front\", \"wheelbase\": 104.3, \"carlength\": 188.8, \"carwidth\": 67.2, \"carheight\": 57.5, \"curbweight\": 3042, \"enginetype\": \"ohc\", \"cylindernumber\": \"four\", \"enginesize\": 141, \"fuelsystem\": \"mpfi\", \"boreratio\": 3.78, \"stroke\": 3.15, \"compressionratio\": 9.5, \"horsepower\": 114, \"peakrpm\": 5400, \"citympg\": 24, \"highwaympg\": 28, \"price\": 16515, \"Brand\": \"volvo\", \"price_level\": \"ordinary\", \"Pred1\": 16626.870594820364, \"Pred2\": 17028.10896493477}, {\"car_ID\": 199, \"symboling\": -2, \"fueltype\": \"gas\", \"aspiration\": \"turbo\", \"doornumber\": \"four\", \"carbody\": \"sedan\", \"drivewheel\": \"rwd\", \"enginelocation\": \"front\", \"wheelbase\": 104.3, \"carlength\": 188.8, \"carwidth\": 67.2, \"carheight\": 56.2, \"curbweight\": 3045, \"enginetype\": \"ohc\", \"cylindernumber\": \"four\", \"enginesize\": 130, \"fuelsystem\": \"mpfi\", \"boreratio\": 3.62, \"stroke\": 3.15, \"compressionratio\": 7.5, \"horsepower\": 162, \"peakrpm\": 5100, \"citympg\": 17, \"highwaympg\": 22, \"price\": 18420, \"Brand\": \"volvo\", \"price_level\": \"ordinary\", \"Pred1\": 17975.029569897037, \"Pred2\": 18447.055093169245}, {\"car_ID\": 200, \"symboling\": -1, \"fueltype\": \"gas\", \"aspiration\": \"turbo\", \"doornumber\": \"four\", \"carbody\": \"wagon\", \"drivewheel\": \"rwd\", \"enginelocation\": \"front\", \"wheelbase\": 104.3, \"carlength\": 188.8, \"carwidth\": 67.2, \"carheight\": 57.5, \"curbweight\": 3157, \"enginetype\": \"ohc\", \"cylindernumber\": \"four\", \"enginesize\": 130, \"fuelsystem\": \"mpfi\", \"boreratio\": 3.62, \"stroke\": 3.15, \"compressionratio\": 7.5, \"horsepower\": 162, \"peakrpm\": 5100, \"citympg\": 17, \"highwaympg\": 22, \"price\": 18950, \"Brand\": \"volvo\", \"price_level\": \"ordinary\", \"Pred1\": 18320.42682846974, \"Pred2\": 18924.463541245772}, {\"car_ID\": 201, \"symboling\": -1, \"fueltype\": \"gas\", \"aspiration\": \"std\", \"doornumber\": \"four\", \"carbody\": \"sedan\", \"drivewheel\": \"rwd\", \"enginelocation\": \"front\", \"wheelbase\": 109.1, \"carlength\": 188.8, \"carwidth\": 68.9, \"carheight\": 55.5, \"curbweight\": 2952, \"enginetype\": \"ohc\", \"cylindernumber\": \"four\", \"enginesize\": 141, \"fuelsystem\": \"mpfi\", \"boreratio\": 3.78, \"stroke\": 3.15, \"compressionratio\": 9.5, \"horsepower\": 114, \"peakrpm\": 5400, \"citympg\": 23, \"highwaympg\": 28, \"price\": 16845, \"Brand\": \"volvo\", \"price_level\": \"ordinary\", \"Pred1\": 17483.55562614811, \"Pred2\": 16644.47717630185}, {\"car_ID\": 202, \"symboling\": -1, \"fueltype\": \"gas\", \"aspiration\": \"turbo\", \"doornumber\": \"four\", \"carbody\": \"sedan\", \"drivewheel\": \"rwd\", \"enginelocation\": \"front\", \"wheelbase\": 109.1, \"carlength\": 188.8, \"carwidth\": 68.8, \"carheight\": 55.5, \"curbweight\": 3049, \"enginetype\": \"ohc\", \"cylindernumber\": \"four\", \"enginesize\": 141, \"fuelsystem\": \"mpfi\", \"boreratio\": 3.78, \"stroke\": 3.15, \"compressionratio\": 8.7, \"horsepower\": 160, \"peakrpm\": 5300, \"citympg\": 19, \"highwaympg\": 25, \"price\": 19045, \"Brand\": \"volvo\", \"price_level\": \"ordinary\", \"Pred1\": 19929.10342131043, \"Pred2\": 19300.29080580183}, {\"car_ID\": 203, \"symboling\": -1, \"fueltype\": \"gas\", \"aspiration\": \"std\", \"doornumber\": \"four\", \"carbody\": \"sedan\", \"drivewheel\": \"rwd\", \"enginelocation\": \"front\", \"wheelbase\": 109.1, \"carlength\": 188.8, \"carwidth\": 68.9, \"carheight\": 55.5, \"curbweight\": 3012, \"enginetype\": \"ohcv\", \"cylindernumber\": \"six\", \"enginesize\": 173, \"fuelsystem\": \"mpfi\", \"boreratio\": 3.58, \"stroke\": 2.87, \"compressionratio\": 8.8, \"horsepower\": 134, \"peakrpm\": 5500, \"citympg\": 18, \"highwaympg\": 23, \"price\": 21485, \"Brand\": \"volvo\", \"price_level\": \"ordinary\", \"Pred1\": 21199.917464447994, \"Pred2\": 20591.319780556336}, {\"car_ID\": 204, \"symboling\": -1, \"fueltype\": \"diesel\", \"aspiration\": \"turbo\", \"doornumber\": \"four\", \"carbody\": \"sedan\", \"drivewheel\": \"rwd\", \"enginelocation\": \"front\", \"wheelbase\": 109.1, \"carlength\": 188.8, \"carwidth\": 68.9, \"carheight\": 55.5, \"curbweight\": 3217, \"enginetype\": \"ohc\", \"cylindernumber\": \"six\", \"enginesize\": 145, \"fuelsystem\": \"idi\", \"boreratio\": 3.01, \"stroke\": 3.4, \"compressionratio\": 23.0, \"horsepower\": 106, \"peakrpm\": 4800, \"citympg\": 26, \"highwaympg\": 27, \"price\": 22470, \"Brand\": \"volvo\", \"price_level\": \"ordinary\", \"Pred1\": 17986.504844310715, \"Pred2\": 17723.606326278616}, {\"car_ID\": 205, \"symboling\": -1, \"fueltype\": \"gas\", \"aspiration\": \"turbo\", \"doornumber\": \"four\", \"carbody\": \"sedan\", \"drivewheel\": \"rwd\", \"enginelocation\": \"front\", \"wheelbase\": 109.1, \"carlength\": 188.8, \"carwidth\": 68.9, \"carheight\": 55.5, \"curbweight\": 3062, \"enginetype\": \"ohc\", \"cylindernumber\": \"four\", \"enginesize\": 141, \"fuelsystem\": \"mpfi\", \"boreratio\": 3.78, \"stroke\": 3.15, \"compressionratio\": 9.5, \"horsepower\": 114, \"peakrpm\": 5400, \"citympg\": 19, \"highwaympg\": 25, \"price\": 22625, \"Brand\": \"volvo\", \"price_level\": \"ordinary\", \"Pred1\": 17833.118466136948, \"Pred2\": 17113.360473519864}]}}, {\"mode\": \"vega-lite\"});\n",
       "</script>"
      ],
      "text/plain": [
       "alt.VConcatChart(...)"
      ]
     },
     "execution_count": 40,
     "metadata": {},
     "output_type": "execute_result"
    }
   ],
   "source": [
    "C=[]\n",
    "for i in cols:\n",
    "    c1=alt.Chart(df).mark_circle().encode(\n",
    "        x=i,\n",
    "        y=\"price\",\n",
    "        color=\"Brand\"\n",
    "    )\n",
    "    C.append(c1)\n",
    "alt.vconcat(*C)"
   ]
  },
  {
   "cell_type": "markdown",
   "metadata": {
    "cell_id": "2cd0aa7c265042c88ad7f41be4f5b152",
    "deepnote_cell_type": "text-cell-p",
    "formattedRanges": [
     {
      "fromCodePoint": 56,
      "ranges": [],
      "toCodePoint": 143,
      "type": "link",
      "url": "https://christopherdavisuci.github.io/UCI-Math-10-S22/Proj/StudentProjects/KehanLi.html"
     }
    ],
    "is_collapsed": false,
    "tags": []
   },
   "source": [
    "The configuration of this Altair chart was adapted from https://christopherdavisuci.github.io/UCI-Math-10-S22/Proj/StudentProjects/KehanLi.html."
   ]
  },
  {
   "cell_type": "markdown",
   "metadata": {
    "cell_id": "8771fb92f91241c7913dc0be5790493d",
    "deepnote_cell_type": "text-cell-p",
    "formattedRanges": [],
    "is_collapsed": false,
    "tags": []
   },
   "source": [
    "As can be seen from the figure above, enginesize, curbweight, horsepower, carwidth, carlength are positively correlated with price, while citympg, highwaympg are negatively correlated with price."
   ]
  },
  {
   "cell_type": "code",
   "execution_count": 24,
   "metadata": {
    "cell_id": "a96afda8746940e798c68bde592e0302",
    "deepnote_cell_type": "code",
    "deepnote_to_be_reexecuted": false,
    "execution_millis": 63,
    "execution_start": 1670310948373,
    "source_hash": "badc925d",
    "tags": []
   },
   "outputs": [
    {
     "data": {
      "text/html": [
       "\n",
       "<div id=\"altair-viz-4532cb5bec1e4386b0023c3855bdbeb7\"></div>\n",
       "<script type=\"text/javascript\">\n",
       "  var VEGA_DEBUG = (typeof VEGA_DEBUG == \"undefined\") ? {} : VEGA_DEBUG;\n",
       "  (function(spec, embedOpt){\n",
       "    let outputDiv = document.currentScript.previousElementSibling;\n",
       "    if (outputDiv.id !== \"altair-viz-4532cb5bec1e4386b0023c3855bdbeb7\") {\n",
       "      outputDiv = document.getElementById(\"altair-viz-4532cb5bec1e4386b0023c3855bdbeb7\");\n",
       "    }\n",
       "    const paths = {\n",
       "      \"vega\": \"https://cdn.jsdelivr.net/npm//vega@5?noext\",\n",
       "      \"vega-lib\": \"https://cdn.jsdelivr.net/npm//vega-lib?noext\",\n",
       "      \"vega-lite\": \"https://cdn.jsdelivr.net/npm//vega-lite@4.17.0?noext\",\n",
       "      \"vega-embed\": \"https://cdn.jsdelivr.net/npm//vega-embed@6?noext\",\n",
       "    };\n",
       "\n",
       "    function maybeLoadScript(lib, version) {\n",
       "      var key = `${lib.replace(\"-\", \"\")}_version`;\n",
       "      return (VEGA_DEBUG[key] == version) ?\n",
       "        Promise.resolve(paths[lib]) :\n",
       "        new Promise(function(resolve, reject) {\n",
       "          var s = document.createElement('script');\n",
       "          document.getElementsByTagName(\"head\")[0].appendChild(s);\n",
       "          s.async = true;\n",
       "          s.onload = () => {\n",
       "            VEGA_DEBUG[key] = version;\n",
       "            return resolve(paths[lib]);\n",
       "          };\n",
       "          s.onerror = () => reject(`Error loading script: ${paths[lib]}`);\n",
       "          s.src = paths[lib];\n",
       "        });\n",
       "    }\n",
       "\n",
       "    function showError(err) {\n",
       "      outputDiv.innerHTML = `<div class=\"error\" style=\"color:red;\">${err}</div>`;\n",
       "      throw err;\n",
       "    }\n",
       "\n",
       "    function displayChart(vegaEmbed) {\n",
       "      vegaEmbed(outputDiv, spec, embedOpt)\n",
       "        .catch(err => showError(`Javascript Error: ${err.message}<br>This usually means there's a typo in your chart specification. See the javascript console for the full traceback.`));\n",
       "    }\n",
       "\n",
       "    if(typeof define === \"function\" && define.amd) {\n",
       "      requirejs.config({paths});\n",
       "      require([\"vega-embed\"], displayChart, err => showError(`Error loading script: ${err.message}`));\n",
       "    } else {\n",
       "      maybeLoadScript(\"vega\", \"5\")\n",
       "        .then(() => maybeLoadScript(\"vega-lite\", \"4.17.0\"))\n",
       "        .then(() => maybeLoadScript(\"vega-embed\", \"6\"))\n",
       "        .catch(showError)\n",
       "        .then(() => displayChart(vegaEmbed));\n",
       "    }\n",
       "  })({\"config\": {\"view\": {\"continuousWidth\": 400, \"continuousHeight\": 300}}, \"layer\": [{\"mark\": \"circle\", \"encoding\": {\"color\": {\"field\": \"Brand\", \"type\": \"nominal\"}, \"x\": {\"field\": \"enginesize\", \"type\": \"quantitative\"}, \"y\": {\"field\": \"price\", \"type\": \"quantitative\"}}}, {\"mark\": {\"type\": \"line\", \"color\": \"Blue\"}, \"encoding\": {\"x\": {\"field\": \"enginesize\", \"type\": \"quantitative\"}, \"y\": {\"field\": \"Pred1\", \"type\": \"quantitative\"}}}], \"data\": {\"name\": \"data-f05e5950fec0bc1159537216b58a9bb8\"}, \"$schema\": \"https://vega.github.io/schema/vega-lite/v4.17.0.json\", \"datasets\": {\"data-f05e5950fec0bc1159537216b58a9bb8\": [{\"car_ID\": 1, \"symboling\": 3, \"fueltype\": \"gas\", \"aspiration\": \"std\", \"doornumber\": \"two\", \"carbody\": \"convertible\", \"drivewheel\": \"rwd\", \"enginelocation\": \"front\", \"wheelbase\": 88.6, \"carlength\": 168.8, \"carwidth\": 64.1, \"carheight\": 48.8, \"curbweight\": 2548, \"enginetype\": \"dohc\", \"cylindernumber\": \"four\", \"enginesize\": 130, \"fuelsystem\": \"mpfi\", \"boreratio\": 3.47, \"stroke\": 2.68, \"compressionratio\": 9.0, \"horsepower\": 111, \"peakrpm\": 5000, \"citympg\": 21, \"highwaympg\": 27, \"price\": 13495, \"Brand\": \"alfa-romeo\", \"price_level\": \"ordinary\", \"Pred1\": 12830.140148038903}, {\"car_ID\": 2, \"symboling\": 3, \"fueltype\": \"gas\", \"aspiration\": \"std\", \"doornumber\": \"two\", \"carbody\": \"convertible\", \"drivewheel\": \"rwd\", \"enginelocation\": \"front\", \"wheelbase\": 88.6, \"carlength\": 168.8, \"carwidth\": 64.1, \"carheight\": 48.8, \"curbweight\": 2548, \"enginetype\": \"dohc\", \"cylindernumber\": \"four\", \"enginesize\": 130, \"fuelsystem\": \"mpfi\", \"boreratio\": 3.47, \"stroke\": 2.68, \"compressionratio\": 9.0, \"horsepower\": 111, \"peakrpm\": 5000, \"citympg\": 21, \"highwaympg\": 27, \"price\": 16500, \"Brand\": \"alfa-romeo\", \"price_level\": \"ordinary\", \"Pred1\": 12830.140148038903}, {\"car_ID\": 3, \"symboling\": 1, \"fueltype\": \"gas\", \"aspiration\": \"std\", \"doornumber\": \"two\", \"carbody\": \"hatchback\", \"drivewheel\": \"rwd\", \"enginelocation\": \"front\", \"wheelbase\": 94.5, \"carlength\": 171.2, \"carwidth\": 65.5, \"carheight\": 52.4, \"curbweight\": 2823, \"enginetype\": \"ohcv\", \"cylindernumber\": \"six\", \"enginesize\": 152, \"fuelsystem\": \"mpfi\", \"boreratio\": 2.68, \"stroke\": 3.47, \"compressionratio\": 9.0, \"horsepower\": 154, \"peakrpm\": 5000, \"citympg\": 19, \"highwaympg\": 26, \"price\": 16500, \"Brand\": \"alfa-romeo\", \"price_level\": \"ordinary\", \"Pred1\": 18415.125099582176}, {\"car_ID\": 4, \"symboling\": 2, \"fueltype\": \"gas\", \"aspiration\": \"std\", \"doornumber\": \"four\", \"carbody\": \"sedan\", \"drivewheel\": \"fwd\", \"enginelocation\": \"front\", \"wheelbase\": 99.8, \"carlength\": 176.6, \"carwidth\": 66.2, \"carheight\": 54.3, \"curbweight\": 2337, \"enginetype\": \"ohc\", \"cylindernumber\": \"four\", \"enginesize\": 109, \"fuelsystem\": \"mpfi\", \"boreratio\": 3.19, \"stroke\": 3.4, \"compressionratio\": 10.0, \"horsepower\": 102, \"peakrpm\": 5500, \"citympg\": 24, \"highwaympg\": 30, \"price\": 13950, \"Brand\": \"audi\", \"price_level\": \"ordinary\", \"Pred1\": 11131.888318664438}, {\"car_ID\": 5, \"symboling\": 2, \"fueltype\": \"gas\", \"aspiration\": \"std\", \"doornumber\": \"four\", \"carbody\": \"sedan\", \"drivewheel\": \"4wd\", \"enginelocation\": \"front\", \"wheelbase\": 99.4, \"carlength\": 176.6, \"carwidth\": 66.4, \"carheight\": 54.3, \"curbweight\": 2824, \"enginetype\": \"ohc\", \"cylindernumber\": \"five\", \"enginesize\": 136, \"fuelsystem\": \"mpfi\", \"boreratio\": 3.19, \"stroke\": 3.4, \"compressionratio\": 8.0, \"horsepower\": 115, \"peakrpm\": 5500, \"citympg\": 18, \"highwaympg\": 22, \"price\": 17450, \"Brand\": \"audi\", \"price_level\": \"ordinary\", \"Pred1\": 15365.681175719517}, {\"car_ID\": 6, \"symboling\": 2, \"fueltype\": \"gas\", \"aspiration\": \"std\", \"doornumber\": \"two\", \"carbody\": \"sedan\", \"drivewheel\": \"fwd\", \"enginelocation\": \"front\", \"wheelbase\": 99.8, \"carlength\": 177.3, \"carwidth\": 66.3, \"carheight\": 53.1, \"curbweight\": 2507, \"enginetype\": \"ohc\", \"cylindernumber\": \"five\", \"enginesize\": 136, \"fuelsystem\": \"mpfi\", \"boreratio\": 3.19, \"stroke\": 3.4, \"compressionratio\": 8.5, \"horsepower\": 110, \"peakrpm\": 5500, \"citympg\": 19, \"highwaympg\": 25, \"price\": 15250, \"Brand\": \"audi\", \"price_level\": \"ordinary\", \"Pred1\": 14238.901993066647}, {\"car_ID\": 7, \"symboling\": 1, \"fueltype\": \"gas\", \"aspiration\": \"std\", \"doornumber\": \"four\", \"carbody\": \"sedan\", \"drivewheel\": \"fwd\", \"enginelocation\": \"front\", \"wheelbase\": 105.8, \"carlength\": 192.7, \"carwidth\": 71.4, \"carheight\": 55.7, \"curbweight\": 2844, \"enginetype\": \"ohc\", \"cylindernumber\": \"five\", \"enginesize\": 136, \"fuelsystem\": \"mpfi\", \"boreratio\": 3.19, \"stroke\": 3.4, \"compressionratio\": 8.5, \"horsepower\": 110, \"peakrpm\": 5500, \"citympg\": 19, \"highwaympg\": 25, \"price\": 17710, \"Brand\": \"audi\", \"price_level\": \"ordinary\", \"Pred1\": 18007.277498533127}, {\"car_ID\": 8, \"symboling\": 1, \"fueltype\": \"gas\", \"aspiration\": \"std\", \"doornumber\": \"four\", \"carbody\": \"wagon\", \"drivewheel\": \"fwd\", \"enginelocation\": \"front\", \"wheelbase\": 105.8, \"carlength\": 192.7, \"carwidth\": 71.4, \"carheight\": 55.7, \"curbweight\": 2954, \"enginetype\": \"ohc\", \"cylindernumber\": \"five\", \"enginesize\": 136, \"fuelsystem\": \"mpfi\", \"boreratio\": 3.19, \"stroke\": 3.4, \"compressionratio\": 8.5, \"horsepower\": 110, \"peakrpm\": 5500, \"citympg\": 19, \"highwaympg\": 25, \"price\": 18920, \"Brand\": \"audi\", \"price_level\": \"ordinary\", \"Pred1\": 18346.506948917035}, {\"car_ID\": 9, \"symboling\": 1, \"fueltype\": \"gas\", \"aspiration\": \"turbo\", \"doornumber\": \"four\", \"carbody\": \"sedan\", \"drivewheel\": \"fwd\", \"enginelocation\": \"front\", \"wheelbase\": 105.8, \"carlength\": 192.7, \"carwidth\": 71.4, \"carheight\": 55.9, \"curbweight\": 3086, \"enginetype\": \"ohc\", \"cylindernumber\": \"five\", \"enginesize\": 131, \"fuelsystem\": \"mpfi\", \"boreratio\": 3.13, \"stroke\": 3.4, \"compressionratio\": 8.3, \"horsepower\": 140, \"peakrpm\": 5500, \"citympg\": 17, \"highwaympg\": 20, \"price\": 23875, \"Brand\": \"audi\", \"price_level\": \"ordinary\", \"Pred1\": 19500.76262577674}, {\"car_ID\": 10, \"symboling\": 0, \"fueltype\": \"gas\", \"aspiration\": \"turbo\", \"doornumber\": \"two\", \"carbody\": \"hatchback\", \"drivewheel\": \"4wd\", \"enginelocation\": \"front\", \"wheelbase\": 99.5, \"carlength\": 178.2, \"carwidth\": 67.9, \"carheight\": 52.0, \"curbweight\": 3053, \"enginetype\": \"ohc\", \"cylindernumber\": \"five\", \"enginesize\": 131, \"fuelsystem\": \"mpfi\", \"boreratio\": 3.13, \"stroke\": 3.4, \"compressionratio\": 7.0, \"horsepower\": 160, \"peakrpm\": 5500, \"citympg\": 16, \"highwaympg\": 22, \"price\": 17859, \"Brand\": \"audi\", \"price_level\": \"ordinary\", \"Pred1\": 18826.64181640769}, {\"car_ID\": 11, \"symboling\": 2, \"fueltype\": \"gas\", \"aspiration\": \"std\", \"doornumber\": \"two\", \"carbody\": \"sedan\", \"drivewheel\": \"rwd\", \"enginelocation\": \"front\", \"wheelbase\": 101.2, \"carlength\": 176.8, \"carwidth\": 64.8, \"carheight\": 54.3, \"curbweight\": 2395, \"enginetype\": \"ohc\", \"cylindernumber\": \"four\", \"enginesize\": 108, \"fuelsystem\": \"mpfi\", \"boreratio\": 3.5, \"stroke\": 2.8, \"compressionratio\": 8.8, \"horsepower\": 101, \"peakrpm\": 5800, \"citympg\": 23, \"highwaympg\": 29, \"price\": 16430, \"Brand\": \"bmw\", \"price_level\": \"expensive\", \"Pred1\": 10273.12340603763}, {\"car_ID\": 12, \"symboling\": 0, \"fueltype\": \"gas\", \"aspiration\": \"std\", \"doornumber\": \"four\", \"carbody\": \"sedan\", \"drivewheel\": \"rwd\", \"enginelocation\": \"front\", \"wheelbase\": 101.2, \"carlength\": 176.8, \"carwidth\": 64.8, \"carheight\": 54.3, \"curbweight\": 2395, \"enginetype\": \"ohc\", \"cylindernumber\": \"four\", \"enginesize\": 108, \"fuelsystem\": \"mpfi\", \"boreratio\": 3.5, \"stroke\": 2.8, \"compressionratio\": 8.8, \"horsepower\": 101, \"peakrpm\": 5800, \"citympg\": 23, \"highwaympg\": 29, \"price\": 16925, \"Brand\": \"bmw\", \"price_level\": \"expensive\", \"Pred1\": 10273.12340603763}, {\"car_ID\": 13, \"symboling\": 0, \"fueltype\": \"gas\", \"aspiration\": \"std\", \"doornumber\": \"two\", \"carbody\": \"sedan\", \"drivewheel\": \"rwd\", \"enginelocation\": \"front\", \"wheelbase\": 101.2, \"carlength\": 176.8, \"carwidth\": 64.8, \"carheight\": 54.3, \"curbweight\": 2710, \"enginetype\": \"ohc\", \"cylindernumber\": \"six\", \"enginesize\": 164, \"fuelsystem\": \"mpfi\", \"boreratio\": 3.31, \"stroke\": 3.19, \"compressionratio\": 9.0, \"horsepower\": 121, \"peakrpm\": 4250, \"citympg\": 21, \"highwaympg\": 28, \"price\": 20970, \"Brand\": \"bmw\", \"price_level\": \"expensive\", \"Pred1\": 16902.089586022186}, {\"car_ID\": 14, \"symboling\": 0, \"fueltype\": \"gas\", \"aspiration\": \"std\", \"doornumber\": \"four\", \"carbody\": \"sedan\", \"drivewheel\": \"rwd\", \"enginelocation\": \"front\", \"wheelbase\": 101.2, \"carlength\": 176.8, \"carwidth\": 64.8, \"carheight\": 54.3, \"curbweight\": 2765, \"enginetype\": \"ohc\", \"cylindernumber\": \"six\", \"enginesize\": 164, \"fuelsystem\": \"mpfi\", \"boreratio\": 3.31, \"stroke\": 3.19, \"compressionratio\": 9.0, \"horsepower\": 121, \"peakrpm\": 4250, \"citympg\": 21, \"highwaympg\": 28, \"price\": 21105, \"Brand\": \"bmw\", \"price_level\": \"expensive\", \"Pred1\": 17071.704311214133}, {\"car_ID\": 15, \"symboling\": 1, \"fueltype\": \"gas\", \"aspiration\": \"std\", \"doornumber\": \"four\", \"carbody\": \"sedan\", \"drivewheel\": \"rwd\", \"enginelocation\": \"front\", \"wheelbase\": 103.5, \"carlength\": 189.0, \"carwidth\": 66.9, \"carheight\": 55.7, \"curbweight\": 3055, \"enginetype\": \"ohc\", \"cylindernumber\": \"six\", \"enginesize\": 164, \"fuelsystem\": \"mpfi\", \"boreratio\": 3.31, \"stroke\": 3.19, \"compressionratio\": 9.0, \"horsepower\": 121, \"peakrpm\": 4250, \"citympg\": 20, \"highwaympg\": 25, \"price\": 24565, \"Brand\": \"bmw\", \"price_level\": \"expensive\", \"Pred1\": 18728.94222146657}, {\"car_ID\": 16, \"symboling\": 0, \"fueltype\": \"gas\", \"aspiration\": \"std\", \"doornumber\": \"four\", \"carbody\": \"sedan\", \"drivewheel\": \"rwd\", \"enginelocation\": \"front\", \"wheelbase\": 103.5, \"carlength\": 189.0, \"carwidth\": 66.9, \"carheight\": 55.7, \"curbweight\": 3230, \"enginetype\": \"ohc\", \"cylindernumber\": \"six\", \"enginesize\": 209, \"fuelsystem\": \"mpfi\", \"boreratio\": 3.62, \"stroke\": 3.39, \"compressionratio\": 8.0, \"horsepower\": 182, \"peakrpm\": 5400, \"citympg\": 16, \"highwaympg\": 22, \"price\": 30760, \"Brand\": \"bmw\", \"price_level\": \"expensive\", \"Pred1\": 25937.24356503028}, {\"car_ID\": 17, \"symboling\": 0, \"fueltype\": \"gas\", \"aspiration\": \"std\", \"doornumber\": \"two\", \"carbody\": \"sedan\", \"drivewheel\": \"rwd\", \"enginelocation\": \"front\", \"wheelbase\": 103.5, \"carlength\": 193.8, \"carwidth\": 67.9, \"carheight\": 53.7, \"curbweight\": 3380, \"enginetype\": \"ohc\", \"cylindernumber\": \"six\", \"enginesize\": 209, \"fuelsystem\": \"mpfi\", \"boreratio\": 3.62, \"stroke\": 3.39, \"compressionratio\": 8.0, \"horsepower\": 182, \"peakrpm\": 5400, \"citympg\": 16, \"highwaympg\": 22, \"price\": 41315, \"Brand\": \"bmw\", \"price_level\": \"expensive\", \"Pred1\": 26878.512199829653}, {\"car_ID\": 18, \"symboling\": 0, \"fueltype\": \"gas\", \"aspiration\": \"std\", \"doornumber\": \"four\", \"carbody\": \"sedan\", \"drivewheel\": \"rwd\", \"enginelocation\": \"front\", \"wheelbase\": 110.0, \"carlength\": 197.0, \"carwidth\": 70.9, \"carheight\": 56.3, \"curbweight\": 3505, \"enginetype\": \"ohc\", \"cylindernumber\": \"six\", \"enginesize\": 209, \"fuelsystem\": \"mpfi\", \"boreratio\": 3.62, \"stroke\": 3.39, \"compressionratio\": 8.0, \"horsepower\": 182, \"peakrpm\": 5400, \"citympg\": 15, \"highwaympg\": 20, \"price\": 36880, \"Brand\": \"bmw\", \"price_level\": \"expensive\", \"Pred1\": 28958.91928138175}, {\"car_ID\": 19, \"symboling\": 2, \"fueltype\": \"gas\", \"aspiration\": \"std\", \"doornumber\": \"two\", \"carbody\": \"hatchback\", \"drivewheel\": \"fwd\", \"enginelocation\": \"front\", \"wheelbase\": 88.4, \"carlength\": 141.1, \"carwidth\": 60.3, \"carheight\": 53.2, \"curbweight\": 1488, \"enginetype\": \"l\", \"cylindernumber\": \"three\", \"enginesize\": 61, \"fuelsystem\": \"2bbl\", \"boreratio\": 2.91, \"stroke\": 3.03, \"compressionratio\": 9.5, \"horsepower\": 48, \"peakrpm\": 5100, \"citympg\": 47, \"highwaympg\": 53, \"price\": 5151, \"Brand\": \"chevrolet\", \"price_level\": \"cheap\", \"Pred1\": -261.3456426220728}, {\"car_ID\": 20, \"symboling\": 1, \"fueltype\": \"gas\", \"aspiration\": \"std\", \"doornumber\": \"two\", \"carbody\": \"hatchback\", \"drivewheel\": \"fwd\", \"enginelocation\": \"front\", \"wheelbase\": 94.5, \"carlength\": 155.9, \"carwidth\": 63.6, \"carheight\": 52.0, \"curbweight\": 1874, \"enginetype\": \"ohc\", \"cylindernumber\": \"four\", \"enginesize\": 90, \"fuelsystem\": \"2bbl\", \"boreratio\": 3.03, \"stroke\": 3.11, \"compressionratio\": 9.6, \"horsepower\": 70, \"peakrpm\": 5400, \"citympg\": 38, \"highwaympg\": 43, \"price\": 6295, \"Brand\": \"chevrolet\", \"price_level\": \"cheap\", \"Pred1\": 5771.503704592309}, {\"car_ID\": 21, \"symboling\": 0, \"fueltype\": \"gas\", \"aspiration\": \"std\", \"doornumber\": \"four\", \"carbody\": \"sedan\", \"drivewheel\": \"fwd\", \"enginelocation\": \"front\", \"wheelbase\": 94.5, \"carlength\": 158.8, \"carwidth\": 63.6, \"carheight\": 52.0, \"curbweight\": 1909, \"enginetype\": \"ohc\", \"cylindernumber\": \"four\", \"enginesize\": 90, \"fuelsystem\": \"2bbl\", \"boreratio\": 3.03, \"stroke\": 3.11, \"compressionratio\": 9.6, \"horsepower\": 70, \"peakrpm\": 5400, \"citympg\": 38, \"highwaympg\": 43, \"price\": 6575, \"Brand\": \"chevrolet\", \"price_level\": \"cheap\", \"Pred1\": 5787.516601295145}, {\"car_ID\": 22, \"symboling\": 1, \"fueltype\": \"gas\", \"aspiration\": \"std\", \"doornumber\": \"two\", \"carbody\": \"hatchback\", \"drivewheel\": \"fwd\", \"enginelocation\": \"front\", \"wheelbase\": 93.7, \"carlength\": 157.3, \"carwidth\": 63.8, \"carheight\": 50.8, \"curbweight\": 1876, \"enginetype\": \"ohc\", \"cylindernumber\": \"four\", \"enginesize\": 90, \"fuelsystem\": \"2bbl\", \"boreratio\": 2.97, \"stroke\": 3.23, \"compressionratio\": 9.41, \"horsepower\": 68, \"peakrpm\": 5500, \"citympg\": 37, \"highwaympg\": 41, \"price\": 5572, \"Brand\": \"dodge\", \"price_level\": \"cheap\", \"Pred1\": 5667.699616965008}, {\"car_ID\": 23, \"symboling\": 1, \"fueltype\": \"gas\", \"aspiration\": \"std\", \"doornumber\": \"two\", \"carbody\": \"hatchback\", \"drivewheel\": \"fwd\", \"enginelocation\": \"front\", \"wheelbase\": 93.7, \"carlength\": 157.3, \"carwidth\": 63.8, \"carheight\": 50.8, \"curbweight\": 1876, \"enginetype\": \"ohc\", \"cylindernumber\": \"four\", \"enginesize\": 90, \"fuelsystem\": \"2bbl\", \"boreratio\": 2.97, \"stroke\": 3.23, \"compressionratio\": 9.4, \"horsepower\": 68, \"peakrpm\": 5500, \"citympg\": 31, \"highwaympg\": 38, \"price\": 6377, \"Brand\": \"dodge\", \"price_level\": \"cheap\", \"Pred1\": 5801.674727584192}, {\"car_ID\": 24, \"symboling\": 1, \"fueltype\": \"gas\", \"aspiration\": \"turbo\", \"doornumber\": \"two\", \"carbody\": \"hatchback\", \"drivewheel\": \"fwd\", \"enginelocation\": \"front\", \"wheelbase\": 93.7, \"carlength\": 157.3, \"carwidth\": 63.8, \"carheight\": 50.8, \"curbweight\": 2128, \"enginetype\": \"ohc\", \"cylindernumber\": \"four\", \"enginesize\": 98, \"fuelsystem\": \"mpfi\", \"boreratio\": 3.03, \"stroke\": 3.39, \"compressionratio\": 7.6, \"horsepower\": 102, \"peakrpm\": 5500, \"citympg\": 24, \"highwaympg\": 30, \"price\": 7957, \"Brand\": \"dodge\", \"price_level\": \"cheap\", \"Pred1\": 8670.409098085045}, {\"car_ID\": 25, \"symboling\": 1, \"fueltype\": \"gas\", \"aspiration\": \"std\", \"doornumber\": \"four\", \"carbody\": \"hatchback\", \"drivewheel\": \"fwd\", \"enginelocation\": \"front\", \"wheelbase\": 93.7, \"carlength\": 157.3, \"carwidth\": 63.8, \"carheight\": 50.6, \"curbweight\": 1967, \"enginetype\": \"ohc\", \"cylindernumber\": \"four\", \"enginesize\": 90, \"fuelsystem\": \"2bbl\", \"boreratio\": 2.97, \"stroke\": 3.23, \"compressionratio\": 9.4, \"horsepower\": 68, \"peakrpm\": 5500, \"citympg\": 31, \"highwaympg\": 38, \"price\": 6229, \"Brand\": \"dodge\", \"price_level\": \"cheap\", \"Pred1\": 6082.3100001745115}, {\"car_ID\": 26, \"symboling\": 1, \"fueltype\": \"gas\", \"aspiration\": \"std\", \"doornumber\": \"four\", \"carbody\": \"sedan\", \"drivewheel\": \"fwd\", \"enginelocation\": \"front\", \"wheelbase\": 93.7, \"carlength\": 157.3, \"carwidth\": 63.8, \"carheight\": 50.6, \"curbweight\": 1989, \"enginetype\": \"ohc\", \"cylindernumber\": \"four\", \"enginesize\": 90, \"fuelsystem\": \"2bbl\", \"boreratio\": 2.97, \"stroke\": 3.23, \"compressionratio\": 9.4, \"horsepower\": 68, \"peakrpm\": 5500, \"citympg\": 31, \"highwaympg\": 38, \"price\": 6692, \"Brand\": \"dodge\", \"price_level\": \"cheap\", \"Pred1\": 6150.155890251299}, {\"car_ID\": 27, \"symboling\": 1, \"fueltype\": \"gas\", \"aspiration\": \"std\", \"doornumber\": \"four\", \"carbody\": \"sedan\", \"drivewheel\": \"fwd\", \"enginelocation\": \"front\", \"wheelbase\": 93.7, \"carlength\": 157.3, \"carwidth\": 63.8, \"carheight\": 50.6, \"curbweight\": 1989, \"enginetype\": \"ohc\", \"cylindernumber\": \"four\", \"enginesize\": 90, \"fuelsystem\": \"2bbl\", \"boreratio\": 2.97, \"stroke\": 3.23, \"compressionratio\": 9.4, \"horsepower\": 68, \"peakrpm\": 5500, \"citympg\": 31, \"highwaympg\": 38, \"price\": 7609, \"Brand\": \"dodge\", \"price_level\": \"cheap\", \"Pred1\": 6150.155890251299}, {\"car_ID\": 28, \"symboling\": 1, \"fueltype\": \"gas\", \"aspiration\": \"turbo\", \"doornumber\": \"two\", \"carbody\": \"sedan\", \"drivewheel\": \"fwd\", \"enginelocation\": \"front\", \"wheelbase\": 93.7, \"carlength\": 157.3, \"carwidth\": 63.8, \"carheight\": 50.6, \"curbweight\": 2191, \"enginetype\": \"ohc\", \"cylindernumber\": \"four\", \"enginesize\": 98, \"fuelsystem\": \"mpfi\", \"boreratio\": 3.03, \"stroke\": 3.39, \"compressionratio\": 7.6, \"horsepower\": 102, \"peakrpm\": 5500, \"citympg\": 24, \"highwaympg\": 30, \"price\": 8558, \"Brand\": \"dodge\", \"price_level\": \"cheap\", \"Pred1\": 8864.695056032186}, {\"car_ID\": 29, \"symboling\": -1, \"fueltype\": \"gas\", \"aspiration\": \"std\", \"doornumber\": \"four\", \"carbody\": \"wagon\", \"drivewheel\": \"fwd\", \"enginelocation\": \"front\", \"wheelbase\": 103.3, \"carlength\": 174.6, \"carwidth\": 64.6, \"carheight\": 59.8, \"curbweight\": 2535, \"enginetype\": \"ohc\", \"cylindernumber\": \"four\", \"enginesize\": 122, \"fuelsystem\": \"2bbl\", \"boreratio\": 3.34, \"stroke\": 3.46, \"compressionratio\": 8.5, \"horsepower\": 88, \"peakrpm\": 5000, \"citympg\": 24, \"highwaympg\": 30, \"price\": 8921, \"Brand\": \"dodge\", \"price_level\": \"cheap\", \"Pred1\": 11208.280227927535}, {\"car_ID\": 30, \"symboling\": 3, \"fueltype\": \"gas\", \"aspiration\": \"turbo\", \"doornumber\": \"two\", \"carbody\": \"hatchback\", \"drivewheel\": \"fwd\", \"enginelocation\": \"front\", \"wheelbase\": 95.9, \"carlength\": 173.2, \"carwidth\": 66.3, \"carheight\": 50.2, \"curbweight\": 2811, \"enginetype\": \"ohc\", \"cylindernumber\": \"four\", \"enginesize\": 156, \"fuelsystem\": \"mfi\", \"boreratio\": 3.6, \"stroke\": 3.9, \"compressionratio\": 7.0, \"horsepower\": 145, \"peakrpm\": 5000, \"citympg\": 19, \"highwaympg\": 24, \"price\": 12964, \"Brand\": \"dodge\", \"price_level\": \"cheap\", \"Pred1\": 18563.774759334105}, {\"car_ID\": 31, \"symboling\": 2, \"fueltype\": \"gas\", \"aspiration\": \"std\", \"doornumber\": \"two\", \"carbody\": \"hatchback\", \"drivewheel\": \"fwd\", \"enginelocation\": \"front\", \"wheelbase\": 86.6, \"carlength\": 144.6, \"carwidth\": 63.9, \"carheight\": 50.8, \"curbweight\": 1713, \"enginetype\": \"ohc\", \"cylindernumber\": \"four\", \"enginesize\": 92, \"fuelsystem\": \"1bbl\", \"boreratio\": 2.91, \"stroke\": 3.41, \"compressionratio\": 9.6, \"horsepower\": 58, \"peakrpm\": 4800, \"citympg\": 49, \"highwaympg\": 54, \"price\": 6479, \"Brand\": \"honda\", \"price_level\": \"cheap\", \"Pred1\": 5603.835825296257}, {\"car_ID\": 32, \"symboling\": 2, \"fueltype\": \"gas\", \"aspiration\": \"std\", \"doornumber\": \"two\", \"carbody\": \"hatchback\", \"drivewheel\": \"fwd\", \"enginelocation\": \"front\", \"wheelbase\": 86.6, \"carlength\": 144.6, \"carwidth\": 63.9, \"carheight\": 50.8, \"curbweight\": 1819, \"enginetype\": \"ohc\", \"cylindernumber\": \"four\", \"enginesize\": 92, \"fuelsystem\": \"1bbl\", \"boreratio\": 2.91, \"stroke\": 3.41, \"compressionratio\": 9.2, \"horsepower\": 76, \"peakrpm\": 6000, \"citympg\": 31, \"highwaympg\": 38, \"price\": 6855, \"Brand\": \"honda\", \"price_level\": \"cheap\", \"Pred1\": 6640.312004147301}, {\"car_ID\": 33, \"symboling\": 1, \"fueltype\": \"gas\", \"aspiration\": \"std\", \"doornumber\": \"two\", \"carbody\": \"hatchback\", \"drivewheel\": \"fwd\", \"enginelocation\": \"front\", \"wheelbase\": 93.7, \"carlength\": 150.0, \"carwidth\": 64.0, \"carheight\": 52.6, \"curbweight\": 1837, \"enginetype\": \"ohc\", \"cylindernumber\": \"four\", \"enginesize\": 79, \"fuelsystem\": \"1bbl\", \"boreratio\": 2.91, \"stroke\": 3.07, \"compressionratio\": 10.1, \"horsepower\": 60, \"peakrpm\": 5500, \"citympg\": 38, \"highwaympg\": 42, \"price\": 5399, \"Brand\": \"honda\", \"price_level\": \"cheap\", \"Pred1\": 4624.974970843876}, {\"car_ID\": 34, \"symboling\": 1, \"fueltype\": \"gas\", \"aspiration\": \"std\", \"doornumber\": \"two\", \"carbody\": \"hatchback\", \"drivewheel\": \"fwd\", \"enginelocation\": \"front\", \"wheelbase\": 93.7, \"carlength\": 150.0, \"carwidth\": 64.0, \"carheight\": 52.6, \"curbweight\": 1940, \"enginetype\": \"ohc\", \"cylindernumber\": \"four\", \"enginesize\": 92, \"fuelsystem\": \"1bbl\", \"boreratio\": 2.91, \"stroke\": 3.41, \"compressionratio\": 9.2, \"horsepower\": 76, \"peakrpm\": 6000, \"citympg\": 30, \"highwaympg\": 34, \"price\": 6529, \"Brand\": \"honda\", \"price_level\": \"cheap\", \"Pred1\": 6651.266768123809}, {\"car_ID\": 35, \"symboling\": 1, \"fueltype\": \"gas\", \"aspiration\": \"std\", \"doornumber\": \"two\", \"carbody\": \"hatchback\", \"drivewheel\": \"fwd\", \"enginelocation\": \"front\", \"wheelbase\": 93.7, \"carlength\": 150.0, \"carwidth\": 64.0, \"carheight\": 52.6, \"curbweight\": 1956, \"enginetype\": \"ohc\", \"cylindernumber\": \"four\", \"enginesize\": 92, \"fuelsystem\": \"1bbl\", \"boreratio\": 2.91, \"stroke\": 3.41, \"compressionratio\": 9.2, \"horsepower\": 76, \"peakrpm\": 6000, \"citympg\": 30, \"highwaympg\": 34, \"price\": 7129, \"Brand\": \"honda\", \"price_level\": \"cheap\", \"Pred1\": 6700.609233634197}, {\"car_ID\": 36, \"symboling\": 0, \"fueltype\": \"gas\", \"aspiration\": \"std\", \"doornumber\": \"four\", \"carbody\": \"sedan\", \"drivewheel\": \"fwd\", \"enginelocation\": \"front\", \"wheelbase\": 96.5, \"carlength\": 163.4, \"carwidth\": 64.0, \"carheight\": 54.5, \"curbweight\": 2010, \"enginetype\": \"ohc\", \"cylindernumber\": \"four\", \"enginesize\": 92, \"fuelsystem\": \"1bbl\", \"boreratio\": 2.91, \"stroke\": 3.41, \"compressionratio\": 9.2, \"horsepower\": 76, \"peakrpm\": 6000, \"citympg\": 30, \"highwaympg\": 34, \"price\": 7295, \"Brand\": \"honda\", \"price_level\": \"cheap\", \"Pred1\": 6442.388949747219}, {\"car_ID\": 37, \"symboling\": 0, \"fueltype\": \"gas\", \"aspiration\": \"std\", \"doornumber\": \"four\", \"carbody\": \"wagon\", \"drivewheel\": \"fwd\", \"enginelocation\": \"front\", \"wheelbase\": 96.5, \"carlength\": 157.1, \"carwidth\": 63.9, \"carheight\": 58.3, \"curbweight\": 2024, \"enginetype\": \"ohc\", \"cylindernumber\": \"four\", \"enginesize\": 92, \"fuelsystem\": \"1bbl\", \"boreratio\": 2.92, \"stroke\": 3.41, \"compressionratio\": 9.2, \"horsepower\": 76, \"peakrpm\": 6000, \"citympg\": 30, \"highwaympg\": 34, \"price\": 7295, \"Brand\": \"honda\", \"price_level\": \"cheap\", \"Pred1\": 6622.176755080225}, {\"car_ID\": 38, \"symboling\": 0, \"fueltype\": \"gas\", \"aspiration\": \"std\", \"doornumber\": \"two\", \"carbody\": \"hatchback\", \"drivewheel\": \"fwd\", \"enginelocation\": \"front\", \"wheelbase\": 96.5, \"carlength\": 167.5, \"carwidth\": 65.2, \"carheight\": 53.3, \"curbweight\": 2236, \"enginetype\": \"ohc\", \"cylindernumber\": \"four\", \"enginesize\": 110, \"fuelsystem\": \"1bbl\", \"boreratio\": 3.15, \"stroke\": 3.58, \"compressionratio\": 9.0, \"horsepower\": 86, \"peakrpm\": 5800, \"citympg\": 27, \"highwaympg\": 33, \"price\": 7895, \"Brand\": \"honda\", \"price_level\": \"cheap\", \"Pred1\": 9847.750071092305}, {\"car_ID\": 39, \"symboling\": 0, \"fueltype\": \"gas\", \"aspiration\": \"std\", \"doornumber\": \"two\", \"carbody\": \"hatchback\", \"drivewheel\": \"fwd\", \"enginelocation\": \"front\", \"wheelbase\": 96.5, \"carlength\": 167.5, \"carwidth\": 65.2, \"carheight\": 53.3, \"curbweight\": 2289, \"enginetype\": \"ohc\", \"cylindernumber\": \"four\", \"enginesize\": 110, \"fuelsystem\": \"1bbl\", \"boreratio\": 3.15, \"stroke\": 3.58, \"compressionratio\": 9.0, \"horsepower\": 86, \"peakrpm\": 5800, \"citympg\": 27, \"highwaympg\": 33, \"price\": 9095, \"Brand\": \"honda\", \"price_level\": \"cheap\", \"Pred1\": 10011.196988095464}, {\"car_ID\": 40, \"symboling\": 0, \"fueltype\": \"gas\", \"aspiration\": \"std\", \"doornumber\": \"four\", \"carbody\": \"sedan\", \"drivewheel\": \"fwd\", \"enginelocation\": \"front\", \"wheelbase\": 96.5, \"carlength\": 175.4, \"carwidth\": 65.2, \"carheight\": 54.1, \"curbweight\": 2304, \"enginetype\": \"ohc\", \"cylindernumber\": \"four\", \"enginesize\": 110, \"fuelsystem\": \"1bbl\", \"boreratio\": 3.15, \"stroke\": 3.58, \"compressionratio\": 9.0, \"horsepower\": 86, \"peakrpm\": 5800, \"citympg\": 27, \"highwaympg\": 33, \"price\": 8845, \"Brand\": \"honda\", \"price_level\": \"cheap\", \"Pred1\": 9807.042584632509}, {\"car_ID\": 41, \"symboling\": 0, \"fueltype\": \"gas\", \"aspiration\": \"std\", \"doornumber\": \"four\", \"carbody\": \"sedan\", \"drivewheel\": \"fwd\", \"enginelocation\": \"front\", \"wheelbase\": 96.5, \"carlength\": 175.4, \"carwidth\": 62.5, \"carheight\": 54.1, \"curbweight\": 2372, \"enginetype\": \"ohc\", \"cylindernumber\": \"four\", \"enginesize\": 110, \"fuelsystem\": \"1bbl\", \"boreratio\": 3.15, \"stroke\": 3.58, \"compressionratio\": 9.0, \"horsepower\": 86, \"peakrpm\": 5800, \"citympg\": 27, \"highwaympg\": 33, \"price\": 10295, \"Brand\": \"honda\", \"price_level\": \"cheap\", \"Pred1\": 8313.499853548914}, {\"car_ID\": 42, \"symboling\": 0, \"fueltype\": \"gas\", \"aspiration\": \"std\", \"doornumber\": \"four\", \"carbody\": \"sedan\", \"drivewheel\": \"fwd\", \"enginelocation\": \"front\", \"wheelbase\": 96.5, \"carlength\": 175.4, \"carwidth\": 65.2, \"carheight\": 54.1, \"curbweight\": 2465, \"enginetype\": \"ohc\", \"cylindernumber\": \"four\", \"enginesize\": 110, \"fuelsystem\": \"mpfi\", \"boreratio\": 3.15, \"stroke\": 3.58, \"compressionratio\": 9.0, \"horsepower\": 101, \"peakrpm\": 5800, \"citympg\": 24, \"highwaympg\": 28, \"price\": 12945, \"Brand\": \"honda\", \"price_level\": \"cheap\", \"Pred1\": 10811.21402851474}, {\"car_ID\": 43, \"symboling\": 1, \"fueltype\": \"gas\", \"aspiration\": \"std\", \"doornumber\": \"two\", \"carbody\": \"sedan\", \"drivewheel\": \"fwd\", \"enginelocation\": \"front\", \"wheelbase\": 96.5, \"carlength\": 169.1, \"carwidth\": 66.0, \"carheight\": 51.0, \"curbweight\": 2293, \"enginetype\": \"ohc\", \"cylindernumber\": \"four\", \"enginesize\": 110, \"fuelsystem\": \"2bbl\", \"boreratio\": 3.15, \"stroke\": 3.58, \"compressionratio\": 9.1, \"horsepower\": 100, \"peakrpm\": 5500, \"citympg\": 25, \"highwaympg\": 31, \"price\": 10345, \"Brand\": \"honda\", \"price_level\": \"cheap\", \"Pred1\": 11112.466463560115}, {\"car_ID\": 44, \"symboling\": 0, \"fueltype\": \"gas\", \"aspiration\": \"std\", \"doornumber\": \"four\", \"carbody\": \"sedan\", \"drivewheel\": \"rwd\", \"enginelocation\": \"front\", \"wheelbase\": 94.3, \"carlength\": 170.7, \"carwidth\": 61.8, \"carheight\": 53.5, \"curbweight\": 2337, \"enginetype\": \"ohc\", \"cylindernumber\": \"four\", \"enginesize\": 111, \"fuelsystem\": \"2bbl\", \"boreratio\": 3.31, \"stroke\": 3.23, \"compressionratio\": 8.5, \"horsepower\": 78, \"peakrpm\": 4800, \"citympg\": 24, \"highwaympg\": 29, \"price\": 6785, \"Brand\": \"isuzu\", \"price_level\": \"cheap\", \"Pred1\": 7483.182703073886}, {\"car_ID\": 45, \"symboling\": 1, \"fueltype\": \"gas\", \"aspiration\": \"std\", \"doornumber\": \"two\", \"carbody\": \"sedan\", \"drivewheel\": \"fwd\", \"enginelocation\": \"front\", \"wheelbase\": 94.5, \"carlength\": 155.9, \"carwidth\": 63.6, \"carheight\": 52.0, \"curbweight\": 1874, \"enginetype\": \"ohc\", \"cylindernumber\": \"four\", \"enginesize\": 90, \"fuelsystem\": \"2bbl\", \"boreratio\": 3.03, \"stroke\": 3.11, \"compressionratio\": 9.6, \"horsepower\": 70, \"peakrpm\": 5400, \"citympg\": 38, \"highwaympg\": 43, \"price\": 8916, \"Brand\": \"isuzu\", \"price_level\": \"cheap\", \"Pred1\": 5771.503704592309}, {\"car_ID\": 46, \"symboling\": 0, \"fueltype\": \"gas\", \"aspiration\": \"std\", \"doornumber\": \"four\", \"carbody\": \"sedan\", \"drivewheel\": \"fwd\", \"enginelocation\": \"front\", \"wheelbase\": 94.5, \"carlength\": 155.9, \"carwidth\": 63.6, \"carheight\": 52.0, \"curbweight\": 1909, \"enginetype\": \"ohc\", \"cylindernumber\": \"four\", \"enginesize\": 90, \"fuelsystem\": \"2bbl\", \"boreratio\": 3.03, \"stroke\": 3.11, \"compressionratio\": 9.6, \"horsepower\": 70, \"peakrpm\": 5400, \"citympg\": 38, \"highwaympg\": 43, \"price\": 8916, \"Brand\": \"isuzu\", \"price_level\": \"cheap\", \"Pred1\": 5879.440347896278}, {\"car_ID\": 47, \"symboling\": 2, \"fueltype\": \"gas\", \"aspiration\": \"std\", \"doornumber\": \"two\", \"carbody\": \"hatchback\", \"drivewheel\": \"rwd\", \"enginelocation\": \"front\", \"wheelbase\": 96.0, \"carlength\": 172.6, \"carwidth\": 65.2, \"carheight\": 51.4, \"curbweight\": 2734, \"enginetype\": \"ohc\", \"cylindernumber\": \"four\", \"enginesize\": 119, \"fuelsystem\": \"spfi\", \"boreratio\": 3.43, \"stroke\": 3.23, \"compressionratio\": 9.2, \"horsepower\": 90, \"peakrpm\": 5000, \"citympg\": 24, \"highwaympg\": 29, \"price\": 11048, \"Brand\": \"isuzu\", \"price_level\": \"cheap\", \"Pred1\": 12031.037441967019}, {\"car_ID\": 48, \"symboling\": 0, \"fueltype\": \"gas\", \"aspiration\": \"std\", \"doornumber\": \"four\", \"carbody\": \"sedan\", \"drivewheel\": \"rwd\", \"enginelocation\": \"front\", \"wheelbase\": 113.0, \"carlength\": 199.6, \"carwidth\": 69.6, \"carheight\": 52.8, \"curbweight\": 4066, \"enginetype\": \"dohc\", \"cylindernumber\": \"six\", \"enginesize\": 258, \"fuelsystem\": \"mpfi\", \"boreratio\": 3.63, \"stroke\": 4.17, \"compressionratio\": 8.1, \"horsepower\": 176, \"peakrpm\": 4750, \"citympg\": 15, \"highwaympg\": 19, \"price\": 32250, \"Brand\": \"jaguar\", \"price_level\": \"expensive\", \"Pred1\": 33495.294140706}, {\"car_ID\": 49, \"symboling\": 0, \"fueltype\": \"gas\", \"aspiration\": \"std\", \"doornumber\": \"four\", \"carbody\": \"sedan\", \"drivewheel\": \"rwd\", \"enginelocation\": \"front\", \"wheelbase\": 113.0, \"carlength\": 199.6, \"carwidth\": 69.6, \"carheight\": 52.8, \"curbweight\": 4066, \"enginetype\": \"dohc\", \"cylindernumber\": \"six\", \"enginesize\": 258, \"fuelsystem\": \"mpfi\", \"boreratio\": 3.63, \"stroke\": 4.17, \"compressionratio\": 8.1, \"horsepower\": 176, \"peakrpm\": 4750, \"citympg\": 15, \"highwaympg\": 19, \"price\": 35550, \"Brand\": \"jaguar\", \"price_level\": \"expensive\", \"Pred1\": 33495.294140706}, {\"car_ID\": 50, \"symboling\": 0, \"fueltype\": \"gas\", \"aspiration\": \"std\", \"doornumber\": \"two\", \"carbody\": \"sedan\", \"drivewheel\": \"rwd\", \"enginelocation\": \"front\", \"wheelbase\": 102.0, \"carlength\": 191.7, \"carwidth\": 70.6, \"carheight\": 47.8, \"curbweight\": 3950, \"enginetype\": \"ohcv\", \"cylindernumber\": \"twelve\", \"enginesize\": 326, \"fuelsystem\": \"mpfi\", \"boreratio\": 3.54, \"stroke\": 2.76, \"compressionratio\": 11.5, \"horsepower\": 262, \"peakrpm\": 5000, \"citympg\": 13, \"highwaympg\": 17, \"price\": 36000, \"Brand\": \"jaguar\", \"price_level\": \"expensive\", \"Pred1\": 43750.54397990172}, {\"car_ID\": 51, \"symboling\": 1, \"fueltype\": \"gas\", \"aspiration\": \"std\", \"doornumber\": \"two\", \"carbody\": \"hatchback\", \"drivewheel\": \"fwd\", \"enginelocation\": \"front\", \"wheelbase\": 93.1, \"carlength\": 159.1, \"carwidth\": 64.2, \"carheight\": 54.1, \"curbweight\": 1890, \"enginetype\": \"ohc\", \"cylindernumber\": \"four\", \"enginesize\": 91, \"fuelsystem\": \"2bbl\", \"boreratio\": 3.03, \"stroke\": 3.15, \"compressionratio\": 9.0, \"horsepower\": 68, \"peakrpm\": 5000, \"citympg\": 30, \"highwaympg\": 31, \"price\": 5195, \"Brand\": \"mazda\", \"price_level\": \"ordinary\", \"Pred1\": 5632.219488248193}, {\"car_ID\": 52, \"symboling\": 1, \"fueltype\": \"gas\", \"aspiration\": \"std\", \"doornumber\": \"two\", \"carbody\": \"hatchback\", \"drivewheel\": \"fwd\", \"enginelocation\": \"front\", \"wheelbase\": 93.1, \"carlength\": 159.1, \"carwidth\": 64.2, \"carheight\": 54.1, \"curbweight\": 1900, \"enginetype\": \"ohc\", \"cylindernumber\": \"four\", \"enginesize\": 91, \"fuelsystem\": \"2bbl\", \"boreratio\": 3.03, \"stroke\": 3.15, \"compressionratio\": 9.0, \"horsepower\": 68, \"peakrpm\": 5000, \"citympg\": 31, \"highwaympg\": 38, \"price\": 6095, \"Brand\": \"mazda\", \"price_level\": \"ordinary\", \"Pred1\": 6154.121124340185}, {\"car_ID\": 53, \"symboling\": 1, \"fueltype\": \"gas\", \"aspiration\": \"std\", \"doornumber\": \"two\", \"carbody\": \"hatchback\", \"drivewheel\": \"fwd\", \"enginelocation\": \"front\", \"wheelbase\": 93.1, \"carlength\": 159.1, \"carwidth\": 64.2, \"carheight\": 54.1, \"curbweight\": 1905, \"enginetype\": \"ohc\", \"cylindernumber\": \"four\", \"enginesize\": 91, \"fuelsystem\": \"2bbl\", \"boreratio\": 3.03, \"stroke\": 3.15, \"compressionratio\": 9.0, \"horsepower\": 68, \"peakrpm\": 5000, \"citympg\": 31, \"highwaympg\": 38, \"price\": 6795, \"Brand\": \"mazda\", \"price_level\": \"ordinary\", \"Pred1\": 6169.540644812187}, {\"car_ID\": 54, \"symboling\": 1, \"fueltype\": \"gas\", \"aspiration\": \"std\", \"doornumber\": \"four\", \"carbody\": \"sedan\", \"drivewheel\": \"fwd\", \"enginelocation\": \"front\", \"wheelbase\": 93.1, \"carlength\": 166.8, \"carwidth\": 64.2, \"carheight\": 54.1, \"curbweight\": 1945, \"enginetype\": \"ohc\", \"cylindernumber\": \"four\", \"enginesize\": 91, \"fuelsystem\": \"2bbl\", \"boreratio\": 3.03, \"stroke\": 3.15, \"compressionratio\": 9.0, \"horsepower\": 68, \"peakrpm\": 5000, \"citympg\": 31, \"highwaympg\": 38, \"price\": 6695, \"Brand\": \"mazda\", \"price_level\": \"ordinary\", \"Pred1\": 6048.823412440317}, {\"car_ID\": 55, \"symboling\": 1, \"fueltype\": \"gas\", \"aspiration\": \"std\", \"doornumber\": \"four\", \"carbody\": \"sedan\", \"drivewheel\": \"fwd\", \"enginelocation\": \"front\", \"wheelbase\": 93.1, \"carlength\": 166.8, \"carwidth\": 64.2, \"carheight\": 54.1, \"curbweight\": 1950, \"enginetype\": \"ohc\", \"cylindernumber\": \"four\", \"enginesize\": 91, \"fuelsystem\": \"2bbl\", \"boreratio\": 3.08, \"stroke\": 3.15, \"compressionratio\": 9.0, \"horsepower\": 68, \"peakrpm\": 5000, \"citympg\": 31, \"highwaympg\": 38, \"price\": 7395, \"Brand\": \"mazda\", \"price_level\": \"ordinary\", \"Pred1\": 6064.2429329123115}, {\"car_ID\": 56, \"symboling\": 3, \"fueltype\": \"gas\", \"aspiration\": \"std\", \"doornumber\": \"two\", \"carbody\": \"hatchback\", \"drivewheel\": \"rwd\", \"enginelocation\": \"front\", \"wheelbase\": 95.3, \"carlength\": 169.0, \"carwidth\": 65.7, \"carheight\": 49.6, \"curbweight\": 2380, \"enginetype\": \"rotor\", \"cylindernumber\": \"two\", \"enginesize\": 70, \"fuelsystem\": \"4bbl\", \"boreratio\": 3.33, \"stroke\": 3.255, \"compressionratio\": 9.4, \"horsepower\": 101, \"peakrpm\": 6000, \"citympg\": 17, \"highwaympg\": 23, \"price\": 10945, \"Brand\": \"mazda\", \"price_level\": \"ordinary\", \"Pred1\": 7778.964024652101}, {\"car_ID\": 57, \"symboling\": 3, \"fueltype\": \"gas\", \"aspiration\": \"std\", \"doornumber\": \"two\", \"carbody\": \"hatchback\", \"drivewheel\": \"rwd\", \"enginelocation\": \"front\", \"wheelbase\": 95.3, \"carlength\": 169.0, \"carwidth\": 65.7, \"carheight\": 49.6, \"curbweight\": 2380, \"enginetype\": \"rotor\", \"cylindernumber\": \"two\", \"enginesize\": 70, \"fuelsystem\": \"4bbl\", \"boreratio\": 3.33, \"stroke\": 3.255, \"compressionratio\": 9.4, \"horsepower\": 101, \"peakrpm\": 6000, \"citympg\": 17, \"highwaympg\": 23, \"price\": 11845, \"Brand\": \"mazda\", \"price_level\": \"ordinary\", \"Pred1\": 7778.964024652101}, {\"car_ID\": 58, \"symboling\": 3, \"fueltype\": \"gas\", \"aspiration\": \"std\", \"doornumber\": \"two\", \"carbody\": \"hatchback\", \"drivewheel\": \"rwd\", \"enginelocation\": \"front\", \"wheelbase\": 95.3, \"carlength\": 169.0, \"carwidth\": 65.7, \"carheight\": 49.6, \"curbweight\": 2385, \"enginetype\": \"rotor\", \"cylindernumber\": \"two\", \"enginesize\": 70, \"fuelsystem\": \"4bbl\", \"boreratio\": 3.33, \"stroke\": 3.255, \"compressionratio\": 9.4, \"horsepower\": 101, \"peakrpm\": 6000, \"citympg\": 17, \"highwaympg\": 23, \"price\": 13645, \"Brand\": \"mazda\", \"price_level\": \"ordinary\", \"Pred1\": 7794.383545124096}, {\"car_ID\": 59, \"symboling\": 3, \"fueltype\": \"gas\", \"aspiration\": \"std\", \"doornumber\": \"two\", \"carbody\": \"hatchback\", \"drivewheel\": \"rwd\", \"enginelocation\": \"front\", \"wheelbase\": 95.3, \"carlength\": 169.0, \"carwidth\": 65.7, \"carheight\": 49.6, \"curbweight\": 2500, \"enginetype\": \"rotor\", \"cylindernumber\": \"two\", \"enginesize\": 80, \"fuelsystem\": \"mpfi\", \"boreratio\": 3.33, \"stroke\": 3.255, \"compressionratio\": 9.4, \"horsepower\": 135, \"peakrpm\": 6000, \"citympg\": 16, \"highwaympg\": 23, \"price\": 15645, \"Brand\": \"mazda\", \"price_level\": \"ordinary\", \"Pred1\": 10667.876196104371}, {\"car_ID\": 60, \"symboling\": 1, \"fueltype\": \"gas\", \"aspiration\": \"std\", \"doornumber\": \"two\", \"carbody\": \"hatchback\", \"drivewheel\": \"fwd\", \"enginelocation\": \"front\", \"wheelbase\": 98.8, \"carlength\": 177.8, \"carwidth\": 66.5, \"carheight\": 53.7, \"curbweight\": 2385, \"enginetype\": \"ohc\", \"cylindernumber\": \"four\", \"enginesize\": 122, \"fuelsystem\": \"2bbl\", \"boreratio\": 3.39, \"stroke\": 3.39, \"compressionratio\": 8.6, \"horsepower\": 84, \"peakrpm\": 4800, \"citympg\": 26, \"highwaympg\": 32, \"price\": 8845, \"Brand\": \"mazda\", \"price_level\": \"ordinary\", \"Pred1\": 11685.937352771274}, {\"car_ID\": 61, \"symboling\": 0, \"fueltype\": \"gas\", \"aspiration\": \"std\", \"doornumber\": \"four\", \"carbody\": \"sedan\", \"drivewheel\": \"fwd\", \"enginelocation\": \"front\", \"wheelbase\": 98.8, \"carlength\": 177.8, \"carwidth\": 66.5, \"carheight\": 55.5, \"curbweight\": 2410, \"enginetype\": \"ohc\", \"cylindernumber\": \"four\", \"enginesize\": 122, \"fuelsystem\": \"2bbl\", \"boreratio\": 3.39, \"stroke\": 3.39, \"compressionratio\": 8.6, \"horsepower\": 84, \"peakrpm\": 4800, \"citympg\": 26, \"highwaympg\": 32, \"price\": 8495, \"Brand\": \"mazda\", \"price_level\": \"ordinary\", \"Pred1\": 11763.034955131254}, {\"car_ID\": 62, \"symboling\": 1, \"fueltype\": \"gas\", \"aspiration\": \"std\", \"doornumber\": \"two\", \"carbody\": \"hatchback\", \"drivewheel\": \"fwd\", \"enginelocation\": \"front\", \"wheelbase\": 98.8, \"carlength\": 177.8, \"carwidth\": 66.5, \"carheight\": 53.7, \"curbweight\": 2385, \"enginetype\": \"ohc\", \"cylindernumber\": \"four\", \"enginesize\": 122, \"fuelsystem\": \"2bbl\", \"boreratio\": 3.39, \"stroke\": 3.39, \"compressionratio\": 8.6, \"horsepower\": 84, \"peakrpm\": 4800, \"citympg\": 26, \"highwaympg\": 32, \"price\": 10595, \"Brand\": \"mazda\", \"price_level\": \"ordinary\", \"Pred1\": 11685.937352771274}, {\"car_ID\": 63, \"symboling\": 0, \"fueltype\": \"gas\", \"aspiration\": \"std\", \"doornumber\": \"four\", \"carbody\": \"sedan\", \"drivewheel\": \"fwd\", \"enginelocation\": \"front\", \"wheelbase\": 98.8, \"carlength\": 177.8, \"carwidth\": 66.5, \"carheight\": 55.5, \"curbweight\": 2410, \"enginetype\": \"ohc\", \"cylindernumber\": \"four\", \"enginesize\": 122, \"fuelsystem\": \"2bbl\", \"boreratio\": 3.39, \"stroke\": 3.39, \"compressionratio\": 8.6, \"horsepower\": 84, \"peakrpm\": 4800, \"citympg\": 26, \"highwaympg\": 32, \"price\": 10245, \"Brand\": \"mazda\", \"price_level\": \"ordinary\", \"Pred1\": 11763.034955131254}, {\"car_ID\": 64, \"symboling\": 0, \"fueltype\": \"diesel\", \"aspiration\": \"std\", \"doornumber\": \"four\", \"carbody\": \"sedan\", \"drivewheel\": \"fwd\", \"enginelocation\": \"front\", \"wheelbase\": 98.8, \"carlength\": 177.8, \"carwidth\": 66.5, \"carheight\": 55.5, \"curbweight\": 2443, \"enginetype\": \"ohc\", \"cylindernumber\": \"four\", \"enginesize\": 122, \"fuelsystem\": \"idi\", \"boreratio\": 3.39, \"stroke\": 3.39, \"compressionratio\": 22.7, \"horsepower\": 64, \"peakrpm\": 4650, \"citympg\": 36, \"highwaympg\": 42, \"price\": 10795, \"Brand\": \"mazda\", \"price_level\": \"ordinary\", \"Pred1\": 11080.272616984585}, {\"car_ID\": 65, \"symboling\": 0, \"fueltype\": \"gas\", \"aspiration\": \"std\", \"doornumber\": \"four\", \"carbody\": \"hatchback\", \"drivewheel\": \"fwd\", \"enginelocation\": \"front\", \"wheelbase\": 98.8, \"carlength\": 177.8, \"carwidth\": 66.5, \"carheight\": 55.5, \"curbweight\": 2425, \"enginetype\": \"ohc\", \"cylindernumber\": \"four\", \"enginesize\": 122, \"fuelsystem\": \"2bbl\", \"boreratio\": 3.39, \"stroke\": 3.39, \"compressionratio\": 8.6, \"horsepower\": 84, \"peakrpm\": 4800, \"citympg\": 26, \"highwaympg\": 32, \"price\": 11245, \"Brand\": \"mazda\", \"price_level\": \"ordinary\", \"Pred1\": 11809.293516547245}, {\"car_ID\": 66, \"symboling\": 0, \"fueltype\": \"gas\", \"aspiration\": \"std\", \"doornumber\": \"four\", \"carbody\": \"sedan\", \"drivewheel\": \"rwd\", \"enginelocation\": \"front\", \"wheelbase\": 104.9, \"carlength\": 175.0, \"carwidth\": 66.1, \"carheight\": 54.4, \"curbweight\": 2670, \"enginetype\": \"ohc\", \"cylindernumber\": \"four\", \"enginesize\": 140, \"fuelsystem\": \"mpfi\", \"boreratio\": 3.76, \"stroke\": 3.16, \"compressionratio\": 8.0, \"horsepower\": 120, \"peakrpm\": 5000, \"citympg\": 19, \"highwaympg\": 27, \"price\": 18280, \"Brand\": \"mazda\", \"price_level\": \"ordinary\", \"Pred1\": 15656.984602558448}, {\"car_ID\": 67, \"symboling\": 0, \"fueltype\": \"diesel\", \"aspiration\": \"std\", \"doornumber\": \"four\", \"carbody\": \"sedan\", \"drivewheel\": \"rwd\", \"enginelocation\": \"front\", \"wheelbase\": 104.9, \"carlength\": 175.0, \"carwidth\": 66.1, \"carheight\": 54.4, \"curbweight\": 2700, \"enginetype\": \"ohc\", \"cylindernumber\": \"four\", \"enginesize\": 134, \"fuelsystem\": \"idi\", \"boreratio\": 3.43, \"stroke\": 3.64, \"compressionratio\": 22.0, \"horsepower\": 72, \"peakrpm\": 4200, \"citympg\": 31, \"highwaympg\": 39, \"price\": 18344, \"Brand\": \"mazda\", \"price_level\": \"ordinary\", \"Pred1\": 13161.742531977397}, {\"car_ID\": 68, \"symboling\": -1, \"fueltype\": \"diesel\", \"aspiration\": \"turbo\", \"doornumber\": \"four\", \"carbody\": \"sedan\", \"drivewheel\": \"rwd\", \"enginelocation\": \"front\", \"wheelbase\": 110.0, \"carlength\": 190.9, \"carwidth\": 70.3, \"carheight\": 56.5, \"curbweight\": 3515, \"enginetype\": \"ohc\", \"cylindernumber\": \"five\", \"enginesize\": 183, \"fuelsystem\": \"idi\", \"boreratio\": 3.58, \"stroke\": 3.64, \"compressionratio\": 21.5, \"horsepower\": 123, \"peakrpm\": 4350, \"citympg\": 22, \"highwaympg\": 25, \"price\": 25552, \"Brand\": \"buick\", \"price_level\": \"expensive\", \"Pred1\": 23784.076398113393}, {\"car_ID\": 69, \"symboling\": -1, \"fueltype\": \"diesel\", \"aspiration\": \"turbo\", \"doornumber\": \"four\", \"carbody\": \"wagon\", \"drivewheel\": \"rwd\", \"enginelocation\": \"front\", \"wheelbase\": 110.0, \"carlength\": 190.9, \"carwidth\": 70.3, \"carheight\": 58.7, \"curbweight\": 3750, \"enginetype\": \"ohc\", \"cylindernumber\": \"five\", \"enginesize\": 183, \"fuelsystem\": \"idi\", \"boreratio\": 3.58, \"stroke\": 3.64, \"compressionratio\": 21.5, \"horsepower\": 123, \"peakrpm\": 4350, \"citympg\": 22, \"highwaympg\": 25, \"price\": 28248, \"Brand\": \"buick\", \"price_level\": \"expensive\", \"Pred1\": 24508.7938602972}, {\"car_ID\": 70, \"symboling\": 0, \"fueltype\": \"diesel\", \"aspiration\": \"turbo\", \"doornumber\": \"two\", \"carbody\": \"hardtop\", \"drivewheel\": \"rwd\", \"enginelocation\": \"front\", \"wheelbase\": 106.7, \"carlength\": 187.5, \"carwidth\": 70.3, \"carheight\": 54.9, \"curbweight\": 3495, \"enginetype\": \"ohc\", \"cylindernumber\": \"five\", \"enginesize\": 183, \"fuelsystem\": \"idi\", \"boreratio\": 3.58, \"stroke\": 3.64, \"compressionratio\": 21.5, \"horsepower\": 123, \"peakrpm\": 4350, \"citympg\": 22, \"highwaympg\": 25, \"price\": 28176, \"Brand\": \"buick\", \"price_level\": \"expensive\", \"Pred1\": 23830.170984654324}, {\"car_ID\": 71, \"symboling\": -1, \"fueltype\": \"diesel\", \"aspiration\": \"turbo\", \"doornumber\": \"four\", \"carbody\": \"sedan\", \"drivewheel\": \"rwd\", \"enginelocation\": \"front\", \"wheelbase\": 115.6, \"carlength\": 202.6, \"carwidth\": 71.7, \"carheight\": 56.3, \"curbweight\": 3770, \"enginetype\": \"ohc\", \"cylindernumber\": \"five\", \"enginesize\": 183, \"fuelsystem\": \"idi\", \"boreratio\": 3.58, \"stroke\": 3.64, \"compressionratio\": 21.5, \"horsepower\": 123, \"peakrpm\": 4350, \"citympg\": 22, \"highwaympg\": 25, \"price\": 31600, \"Brand\": \"buick\", \"price_level\": \"expensive\", \"Pred1\": 25082.772909675783}, {\"car_ID\": 72, \"symboling\": -1, \"fueltype\": \"gas\", \"aspiration\": \"std\", \"doornumber\": \"four\", \"carbody\": \"sedan\", \"drivewheel\": \"rwd\", \"enginelocation\": \"front\", \"wheelbase\": 115.6, \"carlength\": 202.6, \"carwidth\": 71.7, \"carheight\": 56.5, \"curbweight\": 3740, \"enginetype\": \"ohcv\", \"cylindernumber\": \"eight\", \"enginesize\": 234, \"fuelsystem\": \"mpfi\", \"boreratio\": 3.46, \"stroke\": 3.1, \"compressionratio\": 8.3, \"horsepower\": 155, \"peakrpm\": 4750, \"citympg\": 16, \"highwaympg\": 18, \"price\": 34184, \"Brand\": \"buick\", \"price_level\": \"expensive\", \"Pred1\": 30579.090415055703}, {\"car_ID\": 73, \"symboling\": 3, \"fueltype\": \"gas\", \"aspiration\": \"std\", \"doornumber\": \"two\", \"carbody\": \"convertible\", \"drivewheel\": \"rwd\", \"enginelocation\": \"front\", \"wheelbase\": 96.6, \"carlength\": 180.3, \"carwidth\": 70.5, \"carheight\": 50.8, \"curbweight\": 3685, \"enginetype\": \"ohcv\", \"cylindernumber\": \"eight\", \"enginesize\": 234, \"fuelsystem\": \"mpfi\", \"boreratio\": 3.46, \"stroke\": 3.1, \"compressionratio\": 8.3, \"horsepower\": 155, \"peakrpm\": 4750, \"citympg\": 16, \"highwaympg\": 18, \"price\": 35056, \"Brand\": \"buick\", \"price_level\": \"expensive\", \"Pred1\": 30359.33839915936}, {\"car_ID\": 74, \"symboling\": 0, \"fueltype\": \"gas\", \"aspiration\": \"std\", \"doornumber\": \"four\", \"carbody\": \"sedan\", \"drivewheel\": \"rwd\", \"enginelocation\": \"front\", \"wheelbase\": 120.9, \"carlength\": 208.1, \"carwidth\": 71.7, \"carheight\": 56.7, \"curbweight\": 3900, \"enginetype\": \"ohcv\", \"cylindernumber\": \"eight\", \"enginesize\": 308, \"fuelsystem\": \"mpfi\", \"boreratio\": 3.8, \"stroke\": 3.35, \"compressionratio\": 8.0, \"horsepower\": 184, \"peakrpm\": 4500, \"citympg\": 14, \"highwaympg\": 16, \"price\": 40960, \"Brand\": \"buick\", \"price_level\": \"expensive\", \"Pred1\": 38403.80368574314}, {\"car_ID\": 75, \"symboling\": 1, \"fueltype\": \"gas\", \"aspiration\": \"std\", \"doornumber\": \"two\", \"carbody\": \"hardtop\", \"drivewheel\": \"rwd\", \"enginelocation\": \"front\", \"wheelbase\": 112.0, \"carlength\": 199.2, \"carwidth\": 72.0, \"carheight\": 55.4, \"curbweight\": 3715, \"enginetype\": \"ohcv\", \"cylindernumber\": \"eight\", \"enginesize\": 304, \"fuelsystem\": \"mpfi\", \"boreratio\": 3.8, \"stroke\": 3.35, \"compressionratio\": 8.0, \"horsepower\": 184, \"peakrpm\": 4500, \"citympg\": 14, \"highwaympg\": 16, \"price\": 45400, \"Brand\": \"buick\", \"price_level\": \"expensive\", \"Pred1\": 37972.019041885884}, {\"car_ID\": 76, \"symboling\": 1, \"fueltype\": \"gas\", \"aspiration\": \"turbo\", \"doornumber\": \"two\", \"carbody\": \"hatchback\", \"drivewheel\": \"rwd\", \"enginelocation\": \"front\", \"wheelbase\": 102.7, \"carlength\": 178.4, \"carwidth\": 68.0, \"carheight\": 54.8, \"curbweight\": 2910, \"enginetype\": \"ohc\", \"cylindernumber\": \"four\", \"enginesize\": 140, \"fuelsystem\": \"mpfi\", \"boreratio\": 3.78, \"stroke\": 3.12, \"compressionratio\": 8.0, \"horsepower\": 175, \"peakrpm\": 5000, \"citympg\": 19, \"highwaympg\": 24, \"price\": 16503, \"Brand\": \"mercury\", \"price_level\": \"ordinary\", \"Pred1\": 19880.410147455943}, {\"car_ID\": 77, \"symboling\": 2, \"fueltype\": \"gas\", \"aspiration\": \"std\", \"doornumber\": \"two\", \"carbody\": \"hatchback\", \"drivewheel\": \"fwd\", \"enginelocation\": \"front\", \"wheelbase\": 93.7, \"carlength\": 157.3, \"carwidth\": 64.4, \"carheight\": 50.8, \"curbweight\": 1918, \"enginetype\": \"ohc\", \"cylindernumber\": \"four\", \"enginesize\": 92, \"fuelsystem\": \"2bbl\", \"boreratio\": 2.97, \"stroke\": 3.23, \"compressionratio\": 9.4, \"horsepower\": 68, \"peakrpm\": 5500, \"citympg\": 37, \"highwaympg\": 41, \"price\": 5389, \"Brand\": \"mitsubishi\", \"price_level\": \"cheap\", \"Pred1\": 6342.034689033389}, {\"car_ID\": 78, \"symboling\": 2, \"fueltype\": \"gas\", \"aspiration\": \"std\", \"doornumber\": \"two\", \"carbody\": \"hatchback\", \"drivewheel\": \"fwd\", \"enginelocation\": \"front\", \"wheelbase\": 93.7, \"carlength\": 157.3, \"carwidth\": 64.4, \"carheight\": 50.8, \"curbweight\": 1944, \"enginetype\": \"ohc\", \"cylindernumber\": \"four\", \"enginesize\": 92, \"fuelsystem\": \"2bbl\", \"boreratio\": 2.97, \"stroke\": 3.23, \"compressionratio\": 9.4, \"horsepower\": 68, \"peakrpm\": 5500, \"citympg\": 31, \"highwaympg\": 38, \"price\": 6189, \"Brand\": \"mitsubishi\", \"price_level\": \"cheap\", \"Pred1\": 6556.191306106957}, {\"car_ID\": 79, \"symboling\": 2, \"fueltype\": \"gas\", \"aspiration\": \"std\", \"doornumber\": \"two\", \"carbody\": \"hatchback\", \"drivewheel\": \"fwd\", \"enginelocation\": \"front\", \"wheelbase\": 93.7, \"carlength\": 157.3, \"carwidth\": 64.4, \"carheight\": 50.8, \"curbweight\": 2004, \"enginetype\": \"ohc\", \"cylindernumber\": \"four\", \"enginesize\": 92, \"fuelsystem\": \"2bbl\", \"boreratio\": 2.97, \"stroke\": 3.23, \"compressionratio\": 9.4, \"horsepower\": 68, \"peakrpm\": 5500, \"citympg\": 31, \"highwaympg\": 38, \"price\": 6669, \"Brand\": \"mitsubishi\", \"price_level\": \"cheap\", \"Pred1\": 6741.225551770905}, {\"car_ID\": 80, \"symboling\": 1, \"fueltype\": \"gas\", \"aspiration\": \"turbo\", \"doornumber\": \"two\", \"carbody\": \"hatchback\", \"drivewheel\": \"fwd\", \"enginelocation\": \"front\", \"wheelbase\": 93.0, \"carlength\": 157.3, \"carwidth\": 63.8, \"carheight\": 50.8, \"curbweight\": 2145, \"enginetype\": \"ohc\", \"cylindernumber\": \"four\", \"enginesize\": 98, \"fuelsystem\": \"spdi\", \"boreratio\": 3.03, \"stroke\": 3.39, \"compressionratio\": 7.6, \"horsepower\": 102, \"peakrpm\": 5500, \"citympg\": 24, \"highwaympg\": 30, \"price\": 7689, \"Brand\": \"mitsubishi\", \"price_level\": \"cheap\", \"Pred1\": 8722.83546768983}, {\"car_ID\": 81, \"symboling\": 3, \"fueltype\": \"gas\", \"aspiration\": \"turbo\", \"doornumber\": \"two\", \"carbody\": \"hatchback\", \"drivewheel\": \"fwd\", \"enginelocation\": \"front\", \"wheelbase\": 96.3, \"carlength\": 173.0, \"carwidth\": 65.4, \"carheight\": 49.4, \"curbweight\": 2370, \"enginetype\": \"ohc\", \"cylindernumber\": \"four\", \"enginesize\": 110, \"fuelsystem\": \"spdi\", \"boreratio\": 3.17, \"stroke\": 3.46, \"compressionratio\": 7.5, \"horsepower\": 116, \"peakrpm\": 5500, \"citympg\": 23, \"highwaympg\": 30, \"price\": 9959, \"Brand\": \"mitsubishi\", \"price_level\": \"cheap\", \"Pred1\": 11657.389117682244}, {\"car_ID\": 82, \"symboling\": 3, \"fueltype\": \"gas\", \"aspiration\": \"std\", \"doornumber\": \"two\", \"carbody\": \"hatchback\", \"drivewheel\": \"fwd\", \"enginelocation\": \"front\", \"wheelbase\": 96.3, \"carlength\": 173.0, \"carwidth\": 65.4, \"carheight\": 49.4, \"curbweight\": 2328, \"enginetype\": \"ohc\", \"cylindernumber\": \"four\", \"enginesize\": 122, \"fuelsystem\": \"2bbl\", \"boreratio\": 3.35, \"stroke\": 3.46, \"compressionratio\": 8.5, \"horsepower\": 88, \"peakrpm\": 5000, \"citympg\": 25, \"highwaympg\": 32, \"price\": 8499, \"Brand\": \"mitsubishi\", \"price_level\": \"cheap\", \"Pred1\": 11221.440607493394}, {\"car_ID\": 83, \"symboling\": 3, \"fueltype\": \"gas\", \"aspiration\": \"turbo\", \"doornumber\": \"two\", \"carbody\": \"hatchback\", \"drivewheel\": \"fwd\", \"enginelocation\": \"front\", \"wheelbase\": 95.9, \"carlength\": 173.2, \"carwidth\": 66.3, \"carheight\": 50.2, \"curbweight\": 2833, \"enginetype\": \"ohc\", \"cylindernumber\": \"four\", \"enginesize\": 156, \"fuelsystem\": \"spdi\", \"boreratio\": 3.58, \"stroke\": 3.86, \"compressionratio\": 7.0, \"horsepower\": 145, \"peakrpm\": 5000, \"citympg\": 19, \"highwaympg\": 24, \"price\": 12629, \"Brand\": \"mitsubishi\", \"price_level\": \"cheap\", \"Pred1\": 18631.620649410892}, {\"car_ID\": 84, \"symboling\": 3, \"fueltype\": \"gas\", \"aspiration\": \"turbo\", \"doornumber\": \"two\", \"carbody\": \"hatchback\", \"drivewheel\": \"fwd\", \"enginelocation\": \"front\", \"wheelbase\": 95.9, \"carlength\": 173.2, \"carwidth\": 66.3, \"carheight\": 50.2, \"curbweight\": 2921, \"enginetype\": \"ohc\", \"cylindernumber\": \"four\", \"enginesize\": 156, \"fuelsystem\": \"spdi\", \"boreratio\": 3.59, \"stroke\": 3.86, \"compressionratio\": 7.0, \"horsepower\": 145, \"peakrpm\": 5000, \"citympg\": 19, \"highwaympg\": 24, \"price\": 14869, \"Brand\": \"mitsubishi\", \"price_level\": \"cheap\", \"Pred1\": 18903.004209718012}, {\"car_ID\": 85, \"symboling\": 3, \"fueltype\": \"gas\", \"aspiration\": \"turbo\", \"doornumber\": \"two\", \"carbody\": \"hatchback\", \"drivewheel\": \"fwd\", \"enginelocation\": \"front\", \"wheelbase\": 95.9, \"carlength\": 173.2, \"carwidth\": 66.3, \"carheight\": 50.2, \"curbweight\": 2926, \"enginetype\": \"ohc\", \"cylindernumber\": \"four\", \"enginesize\": 156, \"fuelsystem\": \"spdi\", \"boreratio\": 3.59, \"stroke\": 3.86, \"compressionratio\": 7.0, \"horsepower\": 145, \"peakrpm\": 5000, \"citympg\": 19, \"highwaympg\": 24, \"price\": 14489, \"Brand\": \"mitsubishi\", \"price_level\": \"cheap\", \"Pred1\": 18918.423730190014}, {\"car_ID\": 86, \"symboling\": 1, \"fueltype\": \"gas\", \"aspiration\": \"std\", \"doornumber\": \"four\", \"carbody\": \"sedan\", \"drivewheel\": \"fwd\", \"enginelocation\": \"front\", \"wheelbase\": 96.3, \"carlength\": 172.4, \"carwidth\": 65.4, \"carheight\": 51.6, \"curbweight\": 2365, \"enginetype\": \"ohc\", \"cylindernumber\": \"four\", \"enginesize\": 122, \"fuelsystem\": \"2bbl\", \"boreratio\": 3.35, \"stroke\": 3.46, \"compressionratio\": 8.5, \"horsepower\": 88, \"peakrpm\": 5000, \"citympg\": 25, \"highwaympg\": 32, \"price\": 6989, \"Brand\": \"mitsubishi\", \"price_level\": \"cheap\", \"Pred1\": 11354.563765179504}, {\"car_ID\": 87, \"symboling\": 1, \"fueltype\": \"gas\", \"aspiration\": \"std\", \"doornumber\": \"four\", \"carbody\": \"sedan\", \"drivewheel\": \"fwd\", \"enginelocation\": \"front\", \"wheelbase\": 96.3, \"carlength\": 172.4, \"carwidth\": 65.4, \"carheight\": 51.6, \"curbweight\": 2405, \"enginetype\": \"ohc\", \"cylindernumber\": \"four\", \"enginesize\": 122, \"fuelsystem\": \"2bbl\", \"boreratio\": 3.35, \"stroke\": 3.46, \"compressionratio\": 8.5, \"horsepower\": 88, \"peakrpm\": 5000, \"citympg\": 25, \"highwaympg\": 32, \"price\": 8189, \"Brand\": \"mitsubishi\", \"price_level\": \"cheap\", \"Pred1\": 11477.91992895546}, {\"car_ID\": 88, \"symboling\": 1, \"fueltype\": \"gas\", \"aspiration\": \"turbo\", \"doornumber\": \"four\", \"carbody\": \"sedan\", \"drivewheel\": \"fwd\", \"enginelocation\": \"front\", \"wheelbase\": 96.3, \"carlength\": 172.4, \"carwidth\": 65.4, \"carheight\": 51.6, \"curbweight\": 2403, \"enginetype\": \"ohc\", \"cylindernumber\": \"four\", \"enginesize\": 110, \"fuelsystem\": \"spdi\", \"boreratio\": 3.17, \"stroke\": 3.46, \"compressionratio\": 7.5, \"horsepower\": 116, \"peakrpm\": 5500, \"citympg\": 23, \"highwaympg\": 30, \"price\": 9279, \"Brand\": \"mitsubishi\", \"price_level\": \"cheap\", \"Pred1\": 11778.176658990757}, {\"car_ID\": 89, \"symboling\": -1, \"fueltype\": \"gas\", \"aspiration\": \"std\", \"doornumber\": \"four\", \"carbody\": \"sedan\", \"drivewheel\": \"fwd\", \"enginelocation\": \"front\", \"wheelbase\": 96.3, \"carlength\": 172.4, \"carwidth\": 65.4, \"carheight\": 51.6, \"curbweight\": 2403, \"enginetype\": \"ohc\", \"cylindernumber\": \"four\", \"enginesize\": 110, \"fuelsystem\": \"spdi\", \"boreratio\": 3.17, \"stroke\": 3.46, \"compressionratio\": 7.5, \"horsepower\": 116, \"peakrpm\": 5500, \"citympg\": 23, \"highwaympg\": 30, \"price\": 9279, \"Brand\": \"mitsubishi\", \"price_level\": \"cheap\", \"Pred1\": 11778.176658990757}, {\"car_ID\": 90, \"symboling\": 1, \"fueltype\": \"gas\", \"aspiration\": \"std\", \"doornumber\": \"two\", \"carbody\": \"sedan\", \"drivewheel\": \"fwd\", \"enginelocation\": \"front\", \"wheelbase\": 94.5, \"carlength\": 165.3, \"carwidth\": 63.8, \"carheight\": 54.5, \"curbweight\": 1889, \"enginetype\": \"ohc\", \"cylindernumber\": \"four\", \"enginesize\": 97, \"fuelsystem\": \"2bbl\", \"boreratio\": 3.15, \"stroke\": 3.29, \"compressionratio\": 9.4, \"horsepower\": 69, \"peakrpm\": 5200, \"citympg\": 31, \"highwaympg\": 37, \"price\": 5499, \"Brand\": \"nissan\", \"price_level\": \"ordinary\", \"Pred1\": 6139.097427544111}, {\"car_ID\": 91, \"symboling\": 1, \"fueltype\": \"diesel\", \"aspiration\": \"std\", \"doornumber\": \"two\", \"carbody\": \"sedan\", \"drivewheel\": \"fwd\", \"enginelocation\": \"front\", \"wheelbase\": 94.5, \"carlength\": 165.3, \"carwidth\": 63.8, \"carheight\": 54.5, \"curbweight\": 2017, \"enginetype\": \"ohc\", \"cylindernumber\": \"four\", \"enginesize\": 103, \"fuelsystem\": \"idi\", \"boreratio\": 2.99, \"stroke\": 3.47, \"compressionratio\": 21.9, \"horsepower\": 55, \"peakrpm\": 4800, \"citympg\": 45, \"highwaympg\": 50, \"price\": 7099, \"Brand\": \"nissan\", \"price_level\": \"ordinary\", \"Pred1\": 6524.753905616926}, {\"car_ID\": 92, \"symboling\": 1, \"fueltype\": \"gas\", \"aspiration\": \"std\", \"doornumber\": \"two\", \"carbody\": \"sedan\", \"drivewheel\": \"fwd\", \"enginelocation\": \"front\", \"wheelbase\": 94.5, \"carlength\": 165.3, \"carwidth\": 63.8, \"carheight\": 54.5, \"curbweight\": 1918, \"enginetype\": \"ohc\", \"cylindernumber\": \"four\", \"enginesize\": 97, \"fuelsystem\": \"2bbl\", \"boreratio\": 3.15, \"stroke\": 3.29, \"compressionratio\": 9.4, \"horsepower\": 69, \"peakrpm\": 5200, \"citympg\": 31, \"highwaympg\": 37, \"price\": 6649, \"Brand\": \"nissan\", \"price_level\": \"ordinary\", \"Pred1\": 6228.530646281681}, {\"car_ID\": 93, \"symboling\": 1, \"fueltype\": \"gas\", \"aspiration\": \"std\", \"doornumber\": \"four\", \"carbody\": \"sedan\", \"drivewheel\": \"fwd\", \"enginelocation\": \"front\", \"wheelbase\": 94.5, \"carlength\": 165.3, \"carwidth\": 63.8, \"carheight\": 54.5, \"curbweight\": 1938, \"enginetype\": \"ohc\", \"cylindernumber\": \"four\", \"enginesize\": 97, \"fuelsystem\": \"2bbl\", \"boreratio\": 3.15, \"stroke\": 3.29, \"compressionratio\": 9.4, \"horsepower\": 69, \"peakrpm\": 5200, \"citympg\": 31, \"highwaympg\": 37, \"price\": 6849, \"Brand\": \"nissan\", \"price_level\": \"ordinary\", \"Pred1\": 6290.208728169659}, {\"car_ID\": 94, \"symboling\": 1, \"fueltype\": \"gas\", \"aspiration\": \"std\", \"doornumber\": \"four\", \"carbody\": \"wagon\", \"drivewheel\": \"fwd\", \"enginelocation\": \"front\", \"wheelbase\": 94.5, \"carlength\": 170.2, \"carwidth\": 63.8, \"carheight\": 53.5, \"curbweight\": 2024, \"enginetype\": \"ohc\", \"cylindernumber\": \"four\", \"enginesize\": 97, \"fuelsystem\": \"2bbl\", \"boreratio\": 3.15, \"stroke\": 3.29, \"compressionratio\": 9.4, \"horsepower\": 69, \"peakrpm\": 5200, \"citympg\": 31, \"highwaympg\": 37, \"price\": 7349, \"Brand\": \"nissan\", \"price_level\": \"ordinary\", \"Pred1\": 6400.105046375742}, {\"car_ID\": 95, \"symboling\": 1, \"fueltype\": \"gas\", \"aspiration\": \"std\", \"doornumber\": \"two\", \"carbody\": \"sedan\", \"drivewheel\": \"fwd\", \"enginelocation\": \"front\", \"wheelbase\": 94.5, \"carlength\": 165.3, \"carwidth\": 63.8, \"carheight\": 54.5, \"curbweight\": 1951, \"enginetype\": \"ohc\", \"cylindernumber\": \"four\", \"enginesize\": 97, \"fuelsystem\": \"2bbl\", \"boreratio\": 3.15, \"stroke\": 3.29, \"compressionratio\": 9.4, \"horsepower\": 69, \"peakrpm\": 5200, \"citympg\": 31, \"highwaympg\": 37, \"price\": 7299, \"Brand\": \"nissan\", \"price_level\": \"ordinary\", \"Pred1\": 6330.299481396854}, {\"car_ID\": 96, \"symboling\": 1, \"fueltype\": \"gas\", \"aspiration\": \"std\", \"doornumber\": \"two\", \"carbody\": \"hatchback\", \"drivewheel\": \"fwd\", \"enginelocation\": \"front\", \"wheelbase\": 94.5, \"carlength\": 165.6, \"carwidth\": 63.8, \"carheight\": 53.3, \"curbweight\": 2028, \"enginetype\": \"ohc\", \"cylindernumber\": \"four\", \"enginesize\": 97, \"fuelsystem\": \"2bbl\", \"boreratio\": 3.15, \"stroke\": 3.29, \"compressionratio\": 9.4, \"horsepower\": 69, \"peakrpm\": 5200, \"citympg\": 31, \"highwaympg\": 37, \"price\": 7799, \"Brand\": \"nissan\", \"price_level\": \"ordinary\", \"Pred1\": 6558.250743568919}, {\"car_ID\": 97, \"symboling\": 1, \"fueltype\": \"gas\", \"aspiration\": \"std\", \"doornumber\": \"four\", \"carbody\": \"sedan\", \"drivewheel\": \"fwd\", \"enginelocation\": \"front\", \"wheelbase\": 94.5, \"carlength\": 165.3, \"carwidth\": 63.8, \"carheight\": 54.5, \"curbweight\": 1971, \"enginetype\": \"ohc\", \"cylindernumber\": \"four\", \"enginesize\": 97, \"fuelsystem\": \"2bbl\", \"boreratio\": 3.15, \"stroke\": 3.29, \"compressionratio\": 9.4, \"horsepower\": 69, \"peakrpm\": 5200, \"citympg\": 31, \"highwaympg\": 37, \"price\": 7499, \"Brand\": \"nissan\", \"price_level\": \"ordinary\", \"Pred1\": 6391.977563284832}, {\"car_ID\": 98, \"symboling\": 1, \"fueltype\": \"gas\", \"aspiration\": \"std\", \"doornumber\": \"four\", \"carbody\": \"wagon\", \"drivewheel\": \"fwd\", \"enginelocation\": \"front\", \"wheelbase\": 94.5, \"carlength\": 170.2, \"carwidth\": 63.8, \"carheight\": 53.5, \"curbweight\": 2037, \"enginetype\": \"ohc\", \"cylindernumber\": \"four\", \"enginesize\": 97, \"fuelsystem\": \"2bbl\", \"boreratio\": 3.15, \"stroke\": 3.29, \"compressionratio\": 9.4, \"horsepower\": 69, \"peakrpm\": 5200, \"citympg\": 31, \"highwaympg\": 37, \"price\": 7999, \"Brand\": \"nissan\", \"price_level\": \"ordinary\", \"Pred1\": 6440.195799602923}, {\"car_ID\": 99, \"symboling\": 2, \"fueltype\": \"gas\", \"aspiration\": \"std\", \"doornumber\": \"two\", \"carbody\": \"hardtop\", \"drivewheel\": \"fwd\", \"enginelocation\": \"front\", \"wheelbase\": 95.1, \"carlength\": 162.4, \"carwidth\": 63.8, \"carheight\": 53.3, \"curbweight\": 2008, \"enginetype\": \"ohc\", \"cylindernumber\": \"four\", \"enginesize\": 97, \"fuelsystem\": \"2bbl\", \"boreratio\": 3.15, \"stroke\": 3.29, \"compressionratio\": 9.4, \"horsepower\": 69, \"peakrpm\": 5200, \"citympg\": 31, \"highwaympg\": 37, \"price\": 8249, \"Brand\": \"nissan\", \"price_level\": \"ordinary\", \"Pred1\": 6598.005761378736}, {\"car_ID\": 100, \"symboling\": 0, \"fueltype\": \"gas\", \"aspiration\": \"std\", \"doornumber\": \"four\", \"carbody\": \"hatchback\", \"drivewheel\": \"fwd\", \"enginelocation\": \"front\", \"wheelbase\": 97.2, \"carlength\": 173.4, \"carwidth\": 65.2, \"carheight\": 54.7, \"curbweight\": 2324, \"enginetype\": \"ohc\", \"cylindernumber\": \"four\", \"enginesize\": 120, \"fuelsystem\": \"2bbl\", \"boreratio\": 3.33, \"stroke\": 3.47, \"compressionratio\": 8.5, \"horsepower\": 97, \"peakrpm\": 5200, \"citympg\": 27, \"highwaympg\": 34, \"price\": 8949, \"Brand\": \"nissan\", \"price_level\": \"ordinary\", \"Pred1\": 11368.543036547075}, {\"car_ID\": 101, \"symboling\": 0, \"fueltype\": \"gas\", \"aspiration\": \"std\", \"doornumber\": \"four\", \"carbody\": \"sedan\", \"drivewheel\": \"fwd\", \"enginelocation\": \"front\", \"wheelbase\": 97.2, \"carlength\": 173.4, \"carwidth\": 65.2, \"carheight\": 54.7, \"curbweight\": 2302, \"enginetype\": \"ohc\", \"cylindernumber\": \"four\", \"enginesize\": 120, \"fuelsystem\": \"2bbl\", \"boreratio\": 3.33, \"stroke\": 3.47, \"compressionratio\": 8.5, \"horsepower\": 97, \"peakrpm\": 5200, \"citympg\": 27, \"highwaympg\": 34, \"price\": 9549, \"Brand\": \"nissan\", \"price_level\": \"ordinary\", \"Pred1\": 11300.697146470295}, {\"car_ID\": 102, \"symboling\": 0, \"fueltype\": \"gas\", \"aspiration\": \"std\", \"doornumber\": \"four\", \"carbody\": \"sedan\", \"drivewheel\": \"fwd\", \"enginelocation\": \"front\", \"wheelbase\": 100.4, \"carlength\": 181.7, \"carwidth\": 66.5, \"carheight\": 55.1, \"curbweight\": 3095, \"enginetype\": \"ohcv\", \"cylindernumber\": \"six\", \"enginesize\": 181, \"fuelsystem\": \"mpfi\", \"boreratio\": 3.43, \"stroke\": 3.27, \"compressionratio\": 9.0, \"horsepower\": 152, \"peakrpm\": 5200, \"citympg\": 17, \"highwaympg\": 22, \"price\": 13499, \"Brand\": \"nissan\", \"price_level\": \"ordinary\", \"Pred1\": 21675.56175609991}, {\"car_ID\": 103, \"symboling\": 0, \"fueltype\": \"gas\", \"aspiration\": \"std\", \"doornumber\": \"four\", \"carbody\": \"wagon\", \"drivewheel\": \"fwd\", \"enginelocation\": \"front\", \"wheelbase\": 100.4, \"carlength\": 184.6, \"carwidth\": 66.5, \"carheight\": 56.1, \"curbweight\": 3296, \"enginetype\": \"ohcv\", \"cylindernumber\": \"six\", \"enginesize\": 181, \"fuelsystem\": \"mpfi\", \"boreratio\": 3.43, \"stroke\": 3.27, \"compressionratio\": 9.0, \"horsepower\": 152, \"peakrpm\": 5200, \"citympg\": 17, \"highwaympg\": 22, \"price\": 14399, \"Brand\": \"nissan\", \"price_level\": \"ordinary\", \"Pred1\": 22203.502732473018}, {\"car_ID\": 104, \"symboling\": 0, \"fueltype\": \"gas\", \"aspiration\": \"std\", \"doornumber\": \"four\", \"carbody\": \"sedan\", \"drivewheel\": \"fwd\", \"enginelocation\": \"front\", \"wheelbase\": 100.4, \"carlength\": 184.6, \"carwidth\": 66.5, \"carheight\": 55.1, \"curbweight\": 3060, \"enginetype\": \"ohcv\", \"cylindernumber\": \"six\", \"enginesize\": 181, \"fuelsystem\": \"mpfi\", \"boreratio\": 3.43, \"stroke\": 3.27, \"compressionratio\": 9.0, \"horsepower\": 152, \"peakrpm\": 5200, \"citympg\": 19, \"highwaympg\": 25, \"price\": 13499, \"Brand\": \"nissan\", \"price_level\": \"ordinary\", \"Pred1\": 21589.009697604182}, {\"car_ID\": 105, \"symboling\": 3, \"fueltype\": \"gas\", \"aspiration\": \"std\", \"doornumber\": \"two\", \"carbody\": \"hatchback\", \"drivewheel\": \"rwd\", \"enginelocation\": \"front\", \"wheelbase\": 91.3, \"carlength\": 170.7, \"carwidth\": 67.9, \"carheight\": 49.7, \"curbweight\": 3071, \"enginetype\": \"ohcv\", \"cylindernumber\": \"six\", \"enginesize\": 181, \"fuelsystem\": \"mpfi\", \"boreratio\": 3.43, \"stroke\": 3.27, \"compressionratio\": 9.0, \"horsepower\": 160, \"peakrpm\": 5200, \"citympg\": 19, \"highwaympg\": 25, \"price\": 17199, \"Brand\": \"nissan\", \"price_level\": \"ordinary\", \"Pred1\": 23329.16083822328}, {\"car_ID\": 106, \"symboling\": 3, \"fueltype\": \"gas\", \"aspiration\": \"turbo\", \"doornumber\": \"two\", \"carbody\": \"hatchback\", \"drivewheel\": \"rwd\", \"enginelocation\": \"front\", \"wheelbase\": 91.3, \"carlength\": 170.7, \"carwidth\": 67.9, \"carheight\": 49.7, \"curbweight\": 3139, \"enginetype\": \"ohcv\", \"cylindernumber\": \"six\", \"enginesize\": 181, \"fuelsystem\": \"mpfi\", \"boreratio\": 3.43, \"stroke\": 3.27, \"compressionratio\": 7.8, \"horsepower\": 200, \"peakrpm\": 5200, \"citympg\": 17, \"highwaympg\": 23, \"price\": 19699, \"Brand\": \"nissan\", \"price_level\": \"ordinary\", \"Pred1\": 25416.853488579465}, {\"car_ID\": 107, \"symboling\": 1, \"fueltype\": \"gas\", \"aspiration\": \"std\", \"doornumber\": \"two\", \"carbody\": \"hatchback\", \"drivewheel\": \"rwd\", \"enginelocation\": \"front\", \"wheelbase\": 99.2, \"carlength\": 178.5, \"carwidth\": 67.9, \"carheight\": 49.7, \"curbweight\": 3139, \"enginetype\": \"ohcv\", \"cylindernumber\": \"six\", \"enginesize\": 181, \"fuelsystem\": \"mpfi\", \"boreratio\": 3.43, \"stroke\": 3.27, \"compressionratio\": 9.0, \"horsepower\": 160, \"peakrpm\": 5200, \"citympg\": 19, \"highwaympg\": 25, \"price\": 18399, \"Brand\": \"nissan\", \"price_level\": \"ordinary\", \"Pred1\": 23291.62313612904}, {\"car_ID\": 108, \"symboling\": 0, \"fueltype\": \"gas\", \"aspiration\": \"std\", \"doornumber\": \"four\", \"carbody\": \"sedan\", \"drivewheel\": \"rwd\", \"enginelocation\": \"front\", \"wheelbase\": 107.9, \"carlength\": 186.7, \"carwidth\": 68.4, \"carheight\": 56.7, \"curbweight\": 3020, \"enginetype\": \"l\", \"cylindernumber\": \"four\", \"enginesize\": 120, \"fuelsystem\": \"mpfi\", \"boreratio\": 3.46, \"stroke\": 3.19, \"compressionratio\": 8.4, \"horsepower\": 97, \"peakrpm\": 5000, \"citympg\": 19, \"highwaympg\": 24, \"price\": 11900, \"Brand\": \"peugeot\", \"price_level\": \"ordinary\", \"Pred1\": 14816.756886204079}, {\"car_ID\": 109, \"symboling\": 0, \"fueltype\": \"diesel\", \"aspiration\": \"turbo\", \"doornumber\": \"four\", \"carbody\": \"sedan\", \"drivewheel\": \"rwd\", \"enginelocation\": \"front\", \"wheelbase\": 107.9, \"carlength\": 186.7, \"carwidth\": 68.4, \"carheight\": 56.7, \"curbweight\": 3197, \"enginetype\": \"l\", \"cylindernumber\": \"four\", \"enginesize\": 152, \"fuelsystem\": \"idi\", \"boreratio\": 3.7, \"stroke\": 3.52, \"compressionratio\": 21.0, \"horsepower\": 95, \"peakrpm\": 4150, \"citympg\": 28, \"highwaympg\": 33, \"price\": 13200, \"Brand\": \"peugeot\", \"price_level\": \"ordinary\", \"Pred1\": 18082.438683862856}, {\"car_ID\": 110, \"symboling\": 0, \"fueltype\": \"gas\", \"aspiration\": \"std\", \"doornumber\": \"four\", \"carbody\": \"wagon\", \"drivewheel\": \"rwd\", \"enginelocation\": \"front\", \"wheelbase\": 114.2, \"carlength\": 198.9, \"carwidth\": 68.4, \"carheight\": 58.7, \"curbweight\": 3230, \"enginetype\": \"l\", \"cylindernumber\": \"four\", \"enginesize\": 120, \"fuelsystem\": \"mpfi\", \"boreratio\": 3.46, \"stroke\": 3.19, \"compressionratio\": 8.4, \"horsepower\": 97, \"peakrpm\": 5000, \"citympg\": 19, \"highwaympg\": 24, \"price\": 12440, \"Brand\": \"peugeot\", \"price_level\": \"ordinary\", \"Pred1\": 15077.663053430042}, {\"car_ID\": 111, \"symboling\": 0, \"fueltype\": \"diesel\", \"aspiration\": \"turbo\", \"doornumber\": \"four\", \"carbody\": \"wagon\", \"drivewheel\": \"rwd\", \"enginelocation\": \"front\", \"wheelbase\": 114.2, \"carlength\": 198.9, \"carwidth\": 68.4, \"carheight\": 58.7, \"curbweight\": 3430, \"enginetype\": \"l\", \"cylindernumber\": \"four\", \"enginesize\": 152, \"fuelsystem\": \"idi\", \"boreratio\": 3.7, \"stroke\": 3.52, \"compressionratio\": 21.0, \"horsepower\": 95, \"peakrpm\": 4150, \"citympg\": 25, \"highwaympg\": 25, \"price\": 13860, \"Brand\": \"peugeot\", \"price_level\": \"ordinary\", \"Pred1\": 17967.870420318395}, {\"car_ID\": 112, \"symboling\": 0, \"fueltype\": \"gas\", \"aspiration\": \"std\", \"doornumber\": \"four\", \"carbody\": \"sedan\", \"drivewheel\": \"rwd\", \"enginelocation\": \"front\", \"wheelbase\": 107.9, \"carlength\": 186.7, \"carwidth\": 68.4, \"carheight\": 56.7, \"curbweight\": 3075, \"enginetype\": \"l\", \"cylindernumber\": \"four\", \"enginesize\": 120, \"fuelsystem\": \"mpfi\", \"boreratio\": 3.46, \"stroke\": 2.19, \"compressionratio\": 8.4, \"horsepower\": 95, \"peakrpm\": 5000, \"citympg\": 19, \"highwaympg\": 24, \"price\": 15580, \"Brand\": \"peugeot\", \"price_level\": \"ordinary\", \"Pred1\": 14890.7560037691}, {\"car_ID\": 113, \"symboling\": 0, \"fueltype\": \"diesel\", \"aspiration\": \"turbo\", \"doornumber\": \"four\", \"carbody\": \"sedan\", \"drivewheel\": \"rwd\", \"enginelocation\": \"front\", \"wheelbase\": 107.9, \"carlength\": 186.7, \"carwidth\": 68.4, \"carheight\": 56.7, \"curbweight\": 3252, \"enginetype\": \"l\", \"cylindernumber\": \"four\", \"enginesize\": 152, \"fuelsystem\": \"idi\", \"boreratio\": 3.7, \"stroke\": 3.52, \"compressionratio\": 21.0, \"horsepower\": 95, \"peakrpm\": 4150, \"citympg\": 28, \"highwaympg\": 33, \"price\": 16900, \"Brand\": \"peugeot\", \"price_level\": \"ordinary\", \"Pred1\": 18252.053409054803}, {\"car_ID\": 114, \"symboling\": 0, \"fueltype\": \"gas\", \"aspiration\": \"std\", \"doornumber\": \"four\", \"carbody\": \"wagon\", \"drivewheel\": \"rwd\", \"enginelocation\": \"front\", \"wheelbase\": 114.2, \"carlength\": 198.9, \"carwidth\": 68.4, \"carheight\": 56.7, \"curbweight\": 3285, \"enginetype\": \"l\", \"cylindernumber\": \"four\", \"enginesize\": 120, \"fuelsystem\": \"mpfi\", \"boreratio\": 3.46, \"stroke\": 2.19, \"compressionratio\": 8.4, \"horsepower\": 95, \"peakrpm\": 5000, \"citympg\": 19, \"highwaympg\": 24, \"price\": 16695, \"Brand\": \"peugeot\", \"price_level\": \"ordinary\", \"Pred1\": 15151.662170995063}, {\"car_ID\": 115, \"symboling\": 0, \"fueltype\": \"diesel\", \"aspiration\": \"turbo\", \"doornumber\": \"four\", \"carbody\": \"wagon\", \"drivewheel\": \"rwd\", \"enginelocation\": \"front\", \"wheelbase\": 114.2, \"carlength\": 198.9, \"carwidth\": 68.4, \"carheight\": 58.7, \"curbweight\": 3485, \"enginetype\": \"l\", \"cylindernumber\": \"four\", \"enginesize\": 152, \"fuelsystem\": \"idi\", \"boreratio\": 3.7, \"stroke\": 3.52, \"compressionratio\": 21.0, \"horsepower\": 95, \"peakrpm\": 4150, \"citympg\": 25, \"highwaympg\": 25, \"price\": 17075, \"Brand\": \"peugeot\", \"price_level\": \"ordinary\", \"Pred1\": 18137.48514551034}, {\"car_ID\": 116, \"symboling\": 0, \"fueltype\": \"gas\", \"aspiration\": \"std\", \"doornumber\": \"four\", \"carbody\": \"sedan\", \"drivewheel\": \"rwd\", \"enginelocation\": \"front\", \"wheelbase\": 107.9, \"carlength\": 186.7, \"carwidth\": 68.4, \"carheight\": 56.7, \"curbweight\": 3075, \"enginetype\": \"l\", \"cylindernumber\": \"four\", \"enginesize\": 120, \"fuelsystem\": \"mpfi\", \"boreratio\": 3.46, \"stroke\": 3.19, \"compressionratio\": 8.4, \"horsepower\": 97, \"peakrpm\": 5000, \"citympg\": 19, \"highwaympg\": 24, \"price\": 16630, \"Brand\": \"peugeot\", \"price_level\": \"ordinary\", \"Pred1\": 14986.371611396025}, {\"car_ID\": 117, \"symboling\": 0, \"fueltype\": \"diesel\", \"aspiration\": \"turbo\", \"doornumber\": \"four\", \"carbody\": \"sedan\", \"drivewheel\": \"rwd\", \"enginelocation\": \"front\", \"wheelbase\": 107.9, \"carlength\": 186.7, \"carwidth\": 68.4, \"carheight\": 56.7, \"curbweight\": 3252, \"enginetype\": \"l\", \"cylindernumber\": \"four\", \"enginesize\": 152, \"fuelsystem\": \"idi\", \"boreratio\": 3.7, \"stroke\": 3.52, \"compressionratio\": 21.0, \"horsepower\": 95, \"peakrpm\": 4150, \"citympg\": 28, \"highwaympg\": 33, \"price\": 17950, \"Brand\": \"peugeot\", \"price_level\": \"ordinary\", \"Pred1\": 18252.053409054803}, {\"car_ID\": 118, \"symboling\": 0, \"fueltype\": \"gas\", \"aspiration\": \"turbo\", \"doornumber\": \"four\", \"carbody\": \"sedan\", \"drivewheel\": \"rwd\", \"enginelocation\": \"front\", \"wheelbase\": 108.0, \"carlength\": 186.7, \"carwidth\": 68.3, \"carheight\": 56.0, \"curbweight\": 3130, \"enginetype\": \"l\", \"cylindernumber\": \"four\", \"enginesize\": 134, \"fuelsystem\": \"mpfi\", \"boreratio\": 3.61, \"stroke\": 3.21, \"compressionratio\": 7.0, \"horsepower\": 142, \"peakrpm\": 5600, \"citympg\": 18, \"highwaympg\": 24, \"price\": 18150, \"Brand\": \"peugeot\", \"price_level\": \"ordinary\", \"Pred1\": 18470.255587625616}, {\"car_ID\": 119, \"symboling\": 1, \"fueltype\": \"gas\", \"aspiration\": \"std\", \"doornumber\": \"two\", \"carbody\": \"hatchback\", \"drivewheel\": \"fwd\", \"enginelocation\": \"front\", \"wheelbase\": 93.7, \"carlength\": 157.3, \"carwidth\": 63.8, \"carheight\": 50.8, \"curbweight\": 1918, \"enginetype\": \"ohc\", \"cylindernumber\": \"four\", \"enginesize\": 90, \"fuelsystem\": \"2bbl\", \"boreratio\": 2.97, \"stroke\": 3.23, \"compressionratio\": 9.4, \"horsepower\": 68, \"peakrpm\": 5500, \"citympg\": 37, \"highwaympg\": 41, \"price\": 5572, \"Brand\": \"plymouth\", \"price_level\": \"cheap\", \"Pred1\": 5797.2235889297735}, {\"car_ID\": 120, \"symboling\": 1, \"fueltype\": \"gas\", \"aspiration\": \"turbo\", \"doornumber\": \"two\", \"carbody\": \"hatchback\", \"drivewheel\": \"fwd\", \"enginelocation\": \"front\", \"wheelbase\": 93.7, \"carlength\": 157.3, \"carwidth\": 63.8, \"carheight\": 50.8, \"curbweight\": 2128, \"enginetype\": \"ohc\", \"cylindernumber\": \"four\", \"enginesize\": 98, \"fuelsystem\": \"spdi\", \"boreratio\": 3.03, \"stroke\": 3.39, \"compressionratio\": 7.6, \"horsepower\": 102, \"peakrpm\": 5500, \"citympg\": 24, \"highwaympg\": 30, \"price\": 7957, \"Brand\": \"plymouth\", \"price_level\": \"cheap\", \"Pred1\": 8670.409098085045}, {\"car_ID\": 121, \"symboling\": 1, \"fueltype\": \"gas\", \"aspiration\": \"std\", \"doornumber\": \"four\", \"carbody\": \"hatchback\", \"drivewheel\": \"fwd\", \"enginelocation\": \"front\", \"wheelbase\": 93.7, \"carlength\": 157.3, \"carwidth\": 63.8, \"carheight\": 50.6, \"curbweight\": 1967, \"enginetype\": \"ohc\", \"cylindernumber\": \"four\", \"enginesize\": 90, \"fuelsystem\": \"2bbl\", \"boreratio\": 2.97, \"stroke\": 3.23, \"compressionratio\": 9.4, \"horsepower\": 68, \"peakrpm\": 5500, \"citympg\": 31, \"highwaympg\": 38, \"price\": 6229, \"Brand\": \"plymouth\", \"price_level\": \"cheap\", \"Pred1\": 6082.3100001745115}, {\"car_ID\": 122, \"symboling\": 1, \"fueltype\": \"gas\", \"aspiration\": \"std\", \"doornumber\": \"four\", \"carbody\": \"sedan\", \"drivewheel\": \"fwd\", \"enginelocation\": \"front\", \"wheelbase\": 93.7, \"carlength\": 167.3, \"carwidth\": 63.8, \"carheight\": 50.8, \"curbweight\": 1989, \"enginetype\": \"ohc\", \"cylindernumber\": \"four\", \"enginesize\": 90, \"fuelsystem\": \"2bbl\", \"boreratio\": 2.97, \"stroke\": 3.23, \"compressionratio\": 9.4, \"horsepower\": 68, \"peakrpm\": 5500, \"citympg\": 31, \"highwaympg\": 38, \"price\": 6692, \"Brand\": \"plymouth\", \"price_level\": \"cheap\", \"Pred1\": 5833.177453695673}, {\"car_ID\": 123, \"symboling\": 1, \"fueltype\": \"gas\", \"aspiration\": \"std\", \"doornumber\": \"four\", \"carbody\": \"sedan\", \"drivewheel\": \"fwd\", \"enginelocation\": \"front\", \"wheelbase\": 93.7, \"carlength\": 167.3, \"carwidth\": 63.8, \"carheight\": 50.8, \"curbweight\": 2191, \"enginetype\": \"ohc\", \"cylindernumber\": \"four\", \"enginesize\": 98, \"fuelsystem\": \"2bbl\", \"boreratio\": 2.97, \"stroke\": 3.23, \"compressionratio\": 9.4, \"horsepower\": 68, \"peakrpm\": 5500, \"citympg\": 31, \"highwaympg\": 38, \"price\": 7609, \"Brand\": \"plymouth\", \"price_level\": \"cheap\", \"Pred1\": 7121.372072731894}, {\"car_ID\": 124, \"symboling\": -1, \"fueltype\": \"gas\", \"aspiration\": \"std\", \"doornumber\": \"four\", \"carbody\": \"wagon\", \"drivewheel\": \"fwd\", \"enginelocation\": \"front\", \"wheelbase\": 103.3, \"carlength\": 174.6, \"carwidth\": 64.6, \"carheight\": 59.8, \"curbweight\": 2535, \"enginetype\": \"ohc\", \"cylindernumber\": \"four\", \"enginesize\": 122, \"fuelsystem\": \"2bbl\", \"boreratio\": 3.35, \"stroke\": 3.46, \"compressionratio\": 8.5, \"horsepower\": 88, \"peakrpm\": 5000, \"citympg\": 24, \"highwaympg\": 30, \"price\": 8921, \"Brand\": \"plymouth\", \"price_level\": \"cheap\", \"Pred1\": 11208.280227927535}, {\"car_ID\": 125, \"symboling\": 3, \"fueltype\": \"gas\", \"aspiration\": \"turbo\", \"doornumber\": \"two\", \"carbody\": \"hatchback\", \"drivewheel\": \"rwd\", \"enginelocation\": \"front\", \"wheelbase\": 95.9, \"carlength\": 173.2, \"carwidth\": 66.3, \"carheight\": 50.2, \"curbweight\": 2818, \"enginetype\": \"ohc\", \"cylindernumber\": \"four\", \"enginesize\": 156, \"fuelsystem\": \"spdi\", \"boreratio\": 3.59, \"stroke\": 3.86, \"compressionratio\": 7.0, \"horsepower\": 145, \"peakrpm\": 5000, \"citympg\": 19, \"highwaympg\": 24, \"price\": 12764, \"Brand\": \"plymouth\", \"price_level\": \"cheap\", \"Pred1\": 18585.3620879949}, {\"car_ID\": 126, \"symboling\": 3, \"fueltype\": \"gas\", \"aspiration\": \"std\", \"doornumber\": \"two\", \"carbody\": \"hatchback\", \"drivewheel\": \"rwd\", \"enginelocation\": \"front\", \"wheelbase\": 94.5, \"carlength\": 168.9, \"carwidth\": 68.3, \"carheight\": 50.2, \"curbweight\": 2778, \"enginetype\": \"ohc\", \"cylindernumber\": \"four\", \"enginesize\": 151, \"fuelsystem\": \"mpfi\", \"boreratio\": 3.94, \"stroke\": 3.11, \"compressionratio\": 9.5, \"horsepower\": 143, \"peakrpm\": 5500, \"citympg\": 19, \"highwaympg\": 27, \"price\": 22018, \"Brand\": \"porsche\", \"price_level\": \"expensive\", \"Pred1\": 19585.527692127216}, {\"car_ID\": 127, \"symboling\": 3, \"fueltype\": \"gas\", \"aspiration\": \"std\", \"doornumber\": \"two\", \"carbody\": \"hardtop\", \"drivewheel\": \"rwd\", \"enginelocation\": \"rear\", \"wheelbase\": 89.5, \"carlength\": 168.9, \"carwidth\": 65.0, \"carheight\": 51.6, \"curbweight\": 2756, \"enginetype\": \"ohcf\", \"cylindernumber\": \"six\", \"enginesize\": 194, \"fuelsystem\": \"mpfi\", \"boreratio\": 3.74, \"stroke\": 2.9, \"compressionratio\": 9.5, \"horsepower\": 207, \"peakrpm\": 5900, \"citympg\": 17, \"highwaympg\": 25, \"price\": 32528, \"Brand\": \"porcshce\", \"price_level\": \"expensive\", \"Pred1\": 24037.00566072193}, {\"car_ID\": 128, \"symboling\": 3, \"fueltype\": \"gas\", \"aspiration\": \"std\", \"doornumber\": \"two\", \"carbody\": \"hardtop\", \"drivewheel\": \"rwd\", \"enginelocation\": \"rear\", \"wheelbase\": 89.5, \"carlength\": 168.9, \"carwidth\": 65.0, \"carheight\": 51.6, \"curbweight\": 2756, \"enginetype\": \"ohcf\", \"cylindernumber\": \"six\", \"enginesize\": 194, \"fuelsystem\": \"mpfi\", \"boreratio\": 3.74, \"stroke\": 2.9, \"compressionratio\": 9.5, \"horsepower\": 207, \"peakrpm\": 5900, \"citympg\": 17, \"highwaympg\": 25, \"price\": 34028, \"Brand\": \"porsche\", \"price_level\": \"expensive\", \"Pred1\": 24037.00566072193}, {\"car_ID\": 129, \"symboling\": 3, \"fueltype\": \"gas\", \"aspiration\": \"std\", \"doornumber\": \"two\", \"carbody\": \"convertible\", \"drivewheel\": \"rwd\", \"enginelocation\": \"rear\", \"wheelbase\": 89.5, \"carlength\": 168.9, \"carwidth\": 65.0, \"carheight\": 51.6, \"curbweight\": 2800, \"enginetype\": \"ohcf\", \"cylindernumber\": \"six\", \"enginesize\": 194, \"fuelsystem\": \"mpfi\", \"boreratio\": 3.74, \"stroke\": 2.9, \"compressionratio\": 9.5, \"horsepower\": 207, \"peakrpm\": 5900, \"citympg\": 17, \"highwaympg\": 25, \"price\": 37028, \"Brand\": \"porsche\", \"price_level\": \"expensive\", \"Pred1\": 24172.69744087549}, {\"car_ID\": 130, \"symboling\": 1, \"fueltype\": \"gas\", \"aspiration\": \"std\", \"doornumber\": \"two\", \"carbody\": \"hatchback\", \"drivewheel\": \"rwd\", \"enginelocation\": \"front\", \"wheelbase\": 98.4, \"carlength\": 175.7, \"carwidth\": 72.3, \"carheight\": 50.5, \"curbweight\": 3366, \"enginetype\": \"dohcv\", \"cylindernumber\": \"eight\", \"enginesize\": 203, \"fuelsystem\": \"mpfi\", \"boreratio\": 3.94, \"stroke\": 3.11, \"compressionratio\": 10.0, \"horsepower\": 288, \"peakrpm\": 5750, \"citympg\": 17, \"highwaympg\": 28, \"price\": 31400, \"Brand\": \"porsche\", \"price_level\": \"expensive\", \"Pred1\": 35165.50421608452}, {\"car_ID\": 131, \"symboling\": 0, \"fueltype\": \"gas\", \"aspiration\": \"std\", \"doornumber\": \"four\", \"carbody\": \"wagon\", \"drivewheel\": \"fwd\", \"enginelocation\": \"front\", \"wheelbase\": 96.1, \"carlength\": 181.5, \"carwidth\": 66.5, \"carheight\": 55.2, \"curbweight\": 2579, \"enginetype\": \"ohc\", \"cylindernumber\": \"four\", \"enginesize\": 132, \"fuelsystem\": \"mpfi\", \"boreratio\": 3.46, \"stroke\": 3.9, \"compressionratio\": 8.7, \"horsepower\": 90, \"peakrpm\": 5100, \"citympg\": 23, \"highwaympg\": 31, \"price\": 9295, \"Brand\": \"renault\", \"price_level\": \"cheap\", \"Pred1\": 13391.816269112926}, {\"car_ID\": 132, \"symboling\": 2, \"fueltype\": \"gas\", \"aspiration\": \"std\", \"doornumber\": \"two\", \"carbody\": \"hatchback\", \"drivewheel\": \"fwd\", \"enginelocation\": \"front\", \"wheelbase\": 96.1, \"carlength\": 176.8, \"carwidth\": 66.6, \"carheight\": 50.5, \"curbweight\": 2460, \"enginetype\": \"ohc\", \"cylindernumber\": \"four\", \"enginesize\": 132, \"fuelsystem\": \"mpfi\", \"boreratio\": 3.46, \"stroke\": 3.9, \"compressionratio\": 8.7, \"horsepower\": 90, \"peakrpm\": 5100, \"citympg\": 23, \"highwaympg\": 31, \"price\": 9895, \"Brand\": \"renault\", \"price_level\": \"cheap\", \"Pred1\": 13236.894814079176}, {\"car_ID\": 133, \"symboling\": 3, \"fueltype\": \"gas\", \"aspiration\": \"std\", \"doornumber\": \"two\", \"carbody\": \"hatchback\", \"drivewheel\": \"fwd\", \"enginelocation\": \"front\", \"wheelbase\": 99.1, \"carlength\": 186.6, \"carwidth\": 66.5, \"carheight\": 56.1, \"curbweight\": 2658, \"enginetype\": \"ohc\", \"cylindernumber\": \"four\", \"enginesize\": 121, \"fuelsystem\": \"mpfi\", \"boreratio\": 3.54, \"stroke\": 3.07, \"compressionratio\": 9.31, \"horsepower\": 110, \"peakrpm\": 5250, \"citympg\": 21, \"highwaympg\": 28, \"price\": 11850, \"Brand\": \"saab\", \"price_level\": \"ordinary\", \"Pred1\": 13401.920195831553}, {\"car_ID\": 134, \"symboling\": 2, \"fueltype\": \"gas\", \"aspiration\": \"std\", \"doornumber\": \"four\", \"carbody\": \"sedan\", \"drivewheel\": \"fwd\", \"enginelocation\": \"front\", \"wheelbase\": 99.1, \"carlength\": 186.6, \"carwidth\": 66.5, \"carheight\": 56.1, \"curbweight\": 2695, \"enginetype\": \"ohc\", \"cylindernumber\": \"four\", \"enginesize\": 121, \"fuelsystem\": \"mpfi\", \"boreratio\": 3.54, \"stroke\": 3.07, \"compressionratio\": 9.3, \"horsepower\": 110, \"peakrpm\": 5250, \"citympg\": 21, \"highwaympg\": 28, \"price\": 12170, \"Brand\": \"saab\", \"price_level\": \"ordinary\", \"Pred1\": 13516.024647324331}, {\"car_ID\": 135, \"symboling\": 3, \"fueltype\": \"gas\", \"aspiration\": \"std\", \"doornumber\": \"two\", \"carbody\": \"hatchback\", \"drivewheel\": \"fwd\", \"enginelocation\": \"front\", \"wheelbase\": 99.1, \"carlength\": 186.6, \"carwidth\": 66.5, \"carheight\": 56.1, \"curbweight\": 2707, \"enginetype\": \"ohc\", \"cylindernumber\": \"four\", \"enginesize\": 121, \"fuelsystem\": \"mpfi\", \"boreratio\": 2.54, \"stroke\": 2.07, \"compressionratio\": 9.3, \"horsepower\": 110, \"peakrpm\": 5250, \"citympg\": 21, \"highwaympg\": 28, \"price\": 15040, \"Brand\": \"saab\", \"price_level\": \"ordinary\", \"Pred1\": 13553.031496457115}, {\"car_ID\": 136, \"symboling\": 2, \"fueltype\": \"gas\", \"aspiration\": \"std\", \"doornumber\": \"four\", \"carbody\": \"sedan\", \"drivewheel\": \"fwd\", \"enginelocation\": \"front\", \"wheelbase\": 99.1, \"carlength\": 186.6, \"carwidth\": 66.5, \"carheight\": 56.1, \"curbweight\": 2758, \"enginetype\": \"ohc\", \"cylindernumber\": \"four\", \"enginesize\": 121, \"fuelsystem\": \"mpfi\", \"boreratio\": 3.54, \"stroke\": 3.07, \"compressionratio\": 9.3, \"horsepower\": 110, \"peakrpm\": 5250, \"citympg\": 21, \"highwaympg\": 28, \"price\": 15510, \"Brand\": \"saab\", \"price_level\": \"ordinary\", \"Pred1\": 13710.310605271472}, {\"car_ID\": 137, \"symboling\": 3, \"fueltype\": \"gas\", \"aspiration\": \"turbo\", \"doornumber\": \"two\", \"carbody\": \"hatchback\", \"drivewheel\": \"fwd\", \"enginelocation\": \"front\", \"wheelbase\": 99.1, \"carlength\": 186.6, \"carwidth\": 66.5, \"carheight\": 56.1, \"curbweight\": 2808, \"enginetype\": \"dohc\", \"cylindernumber\": \"four\", \"enginesize\": 121, \"fuelsystem\": \"mpfi\", \"boreratio\": 3.54, \"stroke\": 3.07, \"compressionratio\": 9.0, \"horsepower\": 160, \"peakrpm\": 5500, \"citympg\": 19, \"highwaympg\": 26, \"price\": 18150, \"Brand\": \"saab\", \"price_level\": \"ordinary\", \"Pred1\": 16220.571020063093}, {\"car_ID\": 138, \"symboling\": 2, \"fueltype\": \"gas\", \"aspiration\": \"turbo\", \"doornumber\": \"four\", \"carbody\": \"sedan\", \"drivewheel\": \"fwd\", \"enginelocation\": \"front\", \"wheelbase\": 99.1, \"carlength\": 186.6, \"carwidth\": 66.5, \"carheight\": 56.1, \"curbweight\": 2847, \"enginetype\": \"dohc\", \"cylindernumber\": \"four\", \"enginesize\": 121, \"fuelsystem\": \"mpfi\", \"boreratio\": 3.54, \"stroke\": 3.07, \"compressionratio\": 9.0, \"horsepower\": 160, \"peakrpm\": 5500, \"citympg\": 19, \"highwaympg\": 26, \"price\": 18620, \"Brand\": \"saab\", \"price_level\": \"ordinary\", \"Pred1\": 16340.843279744651}, {\"car_ID\": 139, \"symboling\": 2, \"fueltype\": \"gas\", \"aspiration\": \"std\", \"doornumber\": \"two\", \"carbody\": \"hatchback\", \"drivewheel\": \"fwd\", \"enginelocation\": \"front\", \"wheelbase\": 93.7, \"carlength\": 156.9, \"carwidth\": 63.4, \"carheight\": 53.7, \"curbweight\": 2050, \"enginetype\": \"ohcf\", \"cylindernumber\": \"four\", \"enginesize\": 97, \"fuelsystem\": \"2bbl\", \"boreratio\": 3.62, \"stroke\": 2.36, \"compressionratio\": 9.0, \"horsepower\": 69, \"peakrpm\": 4900, \"citympg\": 31, \"highwaympg\": 36, \"price\": 5118, \"Brand\": \"subaru\", \"price_level\": \"cheap\", \"Pred1\": 6570.5514545667465}, {\"car_ID\": 140, \"symboling\": 2, \"fueltype\": \"gas\", \"aspiration\": \"std\", \"doornumber\": \"two\", \"carbody\": \"hatchback\", \"drivewheel\": \"fwd\", \"enginelocation\": \"front\", \"wheelbase\": 93.7, \"carlength\": 157.9, \"carwidth\": 63.6, \"carheight\": 53.7, \"curbweight\": 2120, \"enginetype\": \"ohcf\", \"cylindernumber\": \"four\", \"enginesize\": 108, \"fuelsystem\": \"2bbl\", \"boreratio\": 3.62, \"stroke\": 2.64, \"compressionratio\": 8.7, \"horsepower\": 73, \"peakrpm\": 4400, \"citympg\": 26, \"highwaympg\": 31, \"price\": 7053, \"Brand\": \"subaru\", \"price_level\": \"cheap\", \"Pred1\": 7901.025434261952}, {\"car_ID\": 141, \"symboling\": 2, \"fueltype\": \"gas\", \"aspiration\": \"std\", \"doornumber\": \"two\", \"carbody\": \"hatchback\", \"drivewheel\": \"4wd\", \"enginelocation\": \"front\", \"wheelbase\": 93.3, \"carlength\": 157.3, \"carwidth\": 63.8, \"carheight\": 55.7, \"curbweight\": 2240, \"enginetype\": \"ohcf\", \"cylindernumber\": \"four\", \"enginesize\": 108, \"fuelsystem\": \"2bbl\", \"boreratio\": 3.62, \"stroke\": 2.64, \"compressionratio\": 8.7, \"horsepower\": 73, \"peakrpm\": 4400, \"citympg\": 26, \"highwaympg\": 31, \"price\": 7603, \"Brand\": \"subaru\", \"price_level\": \"cheap\", \"Pred1\": 8416.279165820422}, {\"car_ID\": 142, \"symboling\": 0, \"fueltype\": \"gas\", \"aspiration\": \"std\", \"doornumber\": \"four\", \"carbody\": \"sedan\", \"drivewheel\": \"fwd\", \"enginelocation\": \"front\", \"wheelbase\": 97.2, \"carlength\": 172.0, \"carwidth\": 65.4, \"carheight\": 52.5, \"curbweight\": 2145, \"enginetype\": \"ohcf\", \"cylindernumber\": \"four\", \"enginesize\": 108, \"fuelsystem\": \"2bbl\", \"boreratio\": 3.62, \"stroke\": 2.64, \"compressionratio\": 9.5, \"horsepower\": 82, \"peakrpm\": 4800, \"citympg\": 32, \"highwaympg\": 37, \"price\": 7126, \"Brand\": \"subaru\", \"price_level\": \"cheap\", \"Pred1\": 9199.92742353928}, {\"car_ID\": 143, \"symboling\": 0, \"fueltype\": \"gas\", \"aspiration\": \"std\", \"doornumber\": \"four\", \"carbody\": \"sedan\", \"drivewheel\": \"fwd\", \"enginelocation\": \"front\", \"wheelbase\": 97.2, \"carlength\": 172.0, \"carwidth\": 65.4, \"carheight\": 52.5, \"curbweight\": 2190, \"enginetype\": \"ohcf\", \"cylindernumber\": \"four\", \"enginesize\": 108, \"fuelsystem\": \"2bbl\", \"boreratio\": 3.62, \"stroke\": 2.64, \"compressionratio\": 9.5, \"horsepower\": 82, \"peakrpm\": 4400, \"citympg\": 28, \"highwaympg\": 33, \"price\": 7775, \"Brand\": \"subaru\", \"price_level\": \"cheap\", \"Pred1\": 9270.053146584272}, {\"car_ID\": 144, \"symboling\": 0, \"fueltype\": \"gas\", \"aspiration\": \"std\", \"doornumber\": \"four\", \"carbody\": \"sedan\", \"drivewheel\": \"fwd\", \"enginelocation\": \"front\", \"wheelbase\": 97.2, \"carlength\": 172.0, \"carwidth\": 65.4, \"carheight\": 52.5, \"curbweight\": 2340, \"enginetype\": \"ohcf\", \"cylindernumber\": \"four\", \"enginesize\": 108, \"fuelsystem\": \"mpfi\", \"boreratio\": 3.62, \"stroke\": 2.64, \"compressionratio\": 9.0, \"horsepower\": 94, \"peakrpm\": 5200, \"citympg\": 26, \"highwaympg\": 32, \"price\": 9960, \"Brand\": \"subaru\", \"price_level\": \"cheap\", \"Pred1\": 10350.990776712097}, {\"car_ID\": 145, \"symboling\": 0, \"fueltype\": \"gas\", \"aspiration\": \"std\", \"doornumber\": \"four\", \"carbody\": \"sedan\", \"drivewheel\": \"4wd\", \"enginelocation\": \"front\", \"wheelbase\": 97.0, \"carlength\": 172.0, \"carwidth\": 65.4, \"carheight\": 54.3, \"curbweight\": 2385, \"enginetype\": \"ohcf\", \"cylindernumber\": \"four\", \"enginesize\": 108, \"fuelsystem\": \"2bbl\", \"boreratio\": 3.62, \"stroke\": 2.64, \"compressionratio\": 9.0, \"horsepower\": 82, \"peakrpm\": 4800, \"citympg\": 24, \"highwaympg\": 25, \"price\": 9233, \"Brand\": \"subaru\", \"price_level\": \"cheap\", \"Pred1\": 9486.831080557633}, {\"car_ID\": 146, \"symboling\": 0, \"fueltype\": \"gas\", \"aspiration\": \"turbo\", \"doornumber\": \"four\", \"carbody\": \"sedan\", \"drivewheel\": \"4wd\", \"enginelocation\": \"front\", \"wheelbase\": 97.0, \"carlength\": 172.0, \"carwidth\": 65.4, \"carheight\": 54.3, \"curbweight\": 2510, \"enginetype\": \"ohcf\", \"cylindernumber\": \"four\", \"enginesize\": 108, \"fuelsystem\": \"mpfi\", \"boreratio\": 3.62, \"stroke\": 2.64, \"compressionratio\": 7.7, \"horsepower\": 111, \"peakrpm\": 4800, \"citympg\": 24, \"highwaympg\": 29, \"price\": 11259, \"Brand\": \"subaru\", \"price_level\": \"cheap\", \"Pred1\": 11574.678806179458}, {\"car_ID\": 147, \"symboling\": 0, \"fueltype\": \"gas\", \"aspiration\": \"std\", \"doornumber\": \"four\", \"carbody\": \"wagon\", \"drivewheel\": \"fwd\", \"enginelocation\": \"front\", \"wheelbase\": 97.0, \"carlength\": 173.5, \"carwidth\": 65.4, \"carheight\": 53.0, \"curbweight\": 2290, \"enginetype\": \"ohcf\", \"cylindernumber\": \"four\", \"enginesize\": 108, \"fuelsystem\": \"2bbl\", \"boreratio\": 3.62, \"stroke\": 2.64, \"compressionratio\": 9.0, \"horsepower\": 82, \"peakrpm\": 4800, \"citympg\": 28, \"highwaympg\": 32, \"price\": 7463, \"Brand\": \"subaru\", \"price_level\": \"cheap\", \"Pred1\": 9451.913439732976}, {\"car_ID\": 148, \"symboling\": 0, \"fueltype\": \"gas\", \"aspiration\": \"std\", \"doornumber\": \"four\", \"carbody\": \"wagon\", \"drivewheel\": \"fwd\", \"enginelocation\": \"front\", \"wheelbase\": 97.0, \"carlength\": 173.5, \"carwidth\": 65.4, \"carheight\": 53.0, \"curbweight\": 2455, \"enginetype\": \"ohcf\", \"cylindernumber\": \"four\", \"enginesize\": 108, \"fuelsystem\": \"mpfi\", \"boreratio\": 3.62, \"stroke\": 2.64, \"compressionratio\": 9.0, \"horsepower\": 94, \"peakrpm\": 5200, \"citympg\": 25, \"highwaympg\": 31, \"price\": 10198, \"Brand\": \"subaru\", \"price_level\": \"cheap\", \"Pred1\": 10640.930491783918}, {\"car_ID\": 149, \"symboling\": 0, \"fueltype\": \"gas\", \"aspiration\": \"std\", \"doornumber\": \"four\", \"carbody\": \"wagon\", \"drivewheel\": \"4wd\", \"enginelocation\": \"front\", \"wheelbase\": 96.9, \"carlength\": 173.6, \"carwidth\": 65.4, \"carheight\": 54.9, \"curbweight\": 2420, \"enginetype\": \"ohcf\", \"cylindernumber\": \"four\", \"enginesize\": 108, \"fuelsystem\": \"2bbl\", \"boreratio\": 3.62, \"stroke\": 2.64, \"compressionratio\": 9.0, \"horsepower\": 82, \"peakrpm\": 4800, \"citympg\": 23, \"highwaympg\": 29, \"price\": 8013, \"Brand\": \"subaru\", \"price_level\": \"cheap\", \"Pred1\": 9921.805437751347}, {\"car_ID\": 150, \"symboling\": 0, \"fueltype\": \"gas\", \"aspiration\": \"turbo\", \"doornumber\": \"four\", \"carbody\": \"wagon\", \"drivewheel\": \"4wd\", \"enginelocation\": \"front\", \"wheelbase\": 96.9, \"carlength\": 173.6, \"carwidth\": 65.4, \"carheight\": 54.9, \"curbweight\": 2650, \"enginetype\": \"ohcf\", \"cylindernumber\": \"four\", \"enginesize\": 108, \"fuelsystem\": \"mpfi\", \"boreratio\": 3.62, \"stroke\": 2.64, \"compressionratio\": 7.7, \"horsepower\": 111, \"peakrpm\": 4800, \"citympg\": 23, \"highwaympg\": 23, \"price\": 11694, \"Brand\": \"subaru\", \"price_level\": \"cheap\", \"Pred1\": 11543.629585206327}, {\"car_ID\": 151, \"symboling\": 1, \"fueltype\": \"gas\", \"aspiration\": \"std\", \"doornumber\": \"two\", \"carbody\": \"hatchback\", \"drivewheel\": \"fwd\", \"enginelocation\": \"front\", \"wheelbase\": 95.7, \"carlength\": 158.7, \"carwidth\": 63.6, \"carheight\": 54.5, \"curbweight\": 1985, \"enginetype\": \"ohc\", \"cylindernumber\": \"four\", \"enginesize\": 92, \"fuelsystem\": \"2bbl\", \"boreratio\": 3.05, \"stroke\": 3.03, \"compressionratio\": 9.0, \"horsepower\": 62, \"peakrpm\": 4800, \"citympg\": 35, \"highwaympg\": 39, \"price\": 5348, \"Brand\": \"toyota\", \"price_level\": \"cheap\", \"Pred1\": 5678.441342609127}, {\"car_ID\": 152, \"symboling\": 1, \"fueltype\": \"gas\", \"aspiration\": \"std\", \"doornumber\": \"two\", \"carbody\": \"hatchback\", \"drivewheel\": \"fwd\", \"enginelocation\": \"front\", \"wheelbase\": 95.7, \"carlength\": 158.7, \"carwidth\": 63.6, \"carheight\": 54.5, \"curbweight\": 2040, \"enginetype\": \"ohc\", \"cylindernumber\": \"four\", \"enginesize\": 92, \"fuelsystem\": \"2bbl\", \"boreratio\": 3.05, \"stroke\": 3.03, \"compressionratio\": 9.0, \"horsepower\": 62, \"peakrpm\": 4800, \"citympg\": 31, \"highwaympg\": 38, \"price\": 6338, \"Brand\": \"toyota\", \"price_level\": \"cheap\", \"Pred1\": 6016.3561590217505}, {\"car_ID\": 153, \"symboling\": 1, \"fueltype\": \"gas\", \"aspiration\": \"std\", \"doornumber\": \"four\", \"carbody\": \"hatchback\", \"drivewheel\": \"fwd\", \"enginelocation\": \"front\", \"wheelbase\": 95.7, \"carlength\": 158.7, \"carwidth\": 63.6, \"carheight\": 54.5, \"curbweight\": 2015, \"enginetype\": \"ohc\", \"cylindernumber\": \"four\", \"enginesize\": 92, \"fuelsystem\": \"2bbl\", \"boreratio\": 3.05, \"stroke\": 3.03, \"compressionratio\": 9.0, \"horsepower\": 62, \"peakrpm\": 4800, \"citympg\": 31, \"highwaympg\": 38, \"price\": 6488, \"Brand\": \"toyota\", \"price_level\": \"cheap\", \"Pred1\": 5939.258556661771}, {\"car_ID\": 154, \"symboling\": 0, \"fueltype\": \"gas\", \"aspiration\": \"std\", \"doornumber\": \"four\", \"carbody\": \"wagon\", \"drivewheel\": \"fwd\", \"enginelocation\": \"front\", \"wheelbase\": 95.7, \"carlength\": 169.7, \"carwidth\": 63.6, \"carheight\": 59.1, \"curbweight\": 2280, \"enginetype\": \"ohc\", \"cylindernumber\": \"four\", \"enginesize\": 92, \"fuelsystem\": \"2bbl\", \"boreratio\": 3.05, \"stroke\": 3.03, \"compressionratio\": 9.0, \"horsepower\": 62, \"peakrpm\": 4800, \"citympg\": 31, \"highwaympg\": 37, \"price\": 6918, \"Brand\": \"toyota\", \"price_level\": \"cheap\", \"Pred1\": 6328.8335106584855}, {\"car_ID\": 155, \"symboling\": 0, \"fueltype\": \"gas\", \"aspiration\": \"std\", \"doornumber\": \"four\", \"carbody\": \"wagon\", \"drivewheel\": \"4wd\", \"enginelocation\": \"front\", \"wheelbase\": 95.7, \"carlength\": 169.7, \"carwidth\": 63.6, \"carheight\": 59.1, \"curbweight\": 2290, \"enginetype\": \"ohc\", \"cylindernumber\": \"four\", \"enginesize\": 92, \"fuelsystem\": \"2bbl\", \"boreratio\": 3.05, \"stroke\": 3.03, \"compressionratio\": 9.0, \"horsepower\": 62, \"peakrpm\": 4800, \"citympg\": 27, \"highwaympg\": 32, \"price\": 7898, \"Brand\": \"toyota\", \"price_level\": \"cheap\", \"Pred1\": 6212.039239591635}, {\"car_ID\": 156, \"symboling\": 0, \"fueltype\": \"gas\", \"aspiration\": \"std\", \"doornumber\": \"four\", \"carbody\": \"wagon\", \"drivewheel\": \"4wd\", \"enginelocation\": \"front\", \"wheelbase\": 95.7, \"carlength\": 169.7, \"carwidth\": 63.6, \"carheight\": 59.1, \"curbweight\": 3110, \"enginetype\": \"ohc\", \"cylindernumber\": \"four\", \"enginesize\": 92, \"fuelsystem\": \"2bbl\", \"boreratio\": 3.05, \"stroke\": 3.03, \"compressionratio\": 9.0, \"horsepower\": 62, \"peakrpm\": 4800, \"citympg\": 27, \"highwaympg\": 32, \"price\": 8778, \"Brand\": \"toyota\", \"price_level\": \"cheap\", \"Pred1\": 8740.840596998962}, {\"car_ID\": 157, \"symboling\": 0, \"fueltype\": \"gas\", \"aspiration\": \"std\", \"doornumber\": \"four\", \"carbody\": \"sedan\", \"drivewheel\": \"fwd\", \"enginelocation\": \"front\", \"wheelbase\": 95.7, \"carlength\": 166.3, \"carwidth\": 64.4, \"carheight\": 53.0, \"curbweight\": 2081, \"enginetype\": \"ohc\", \"cylindernumber\": \"four\", \"enginesize\": 98, \"fuelsystem\": \"2bbl\", \"boreratio\": 3.19, \"stroke\": 3.03, \"compressionratio\": 9.0, \"horsepower\": 70, \"peakrpm\": 4800, \"citympg\": 30, \"highwaympg\": 37, \"price\": 6938, \"Brand\": \"toyota\", \"price_level\": \"cheap\", \"Pred1\": 7270.793185441464}, {\"car_ID\": 158, \"symboling\": 0, \"fueltype\": \"gas\", \"aspiration\": \"std\", \"doornumber\": \"four\", \"carbody\": \"hatchback\", \"drivewheel\": \"fwd\", \"enginelocation\": \"front\", \"wheelbase\": 95.7, \"carlength\": 166.3, \"carwidth\": 64.4, \"carheight\": 52.8, \"curbweight\": 2109, \"enginetype\": \"ohc\", \"cylindernumber\": \"four\", \"enginesize\": 98, \"fuelsystem\": \"2bbl\", \"boreratio\": 3.19, \"stroke\": 3.03, \"compressionratio\": 9.0, \"horsepower\": 70, \"peakrpm\": 4800, \"citympg\": 30, \"highwaympg\": 37, \"price\": 7198, \"Brand\": \"toyota\", \"price_level\": \"cheap\", \"Pred1\": 7357.142500084636}, {\"car_ID\": 159, \"symboling\": 0, \"fueltype\": \"diesel\", \"aspiration\": \"std\", \"doornumber\": \"four\", \"carbody\": \"sedan\", \"drivewheel\": \"fwd\", \"enginelocation\": \"front\", \"wheelbase\": 95.7, \"carlength\": 166.3, \"carwidth\": 64.4, \"carheight\": 53.0, \"curbweight\": 2275, \"enginetype\": \"ohc\", \"cylindernumber\": \"four\", \"enginesize\": 110, \"fuelsystem\": \"idi\", \"boreratio\": 3.27, \"stroke\": 3.35, \"compressionratio\": 22.5, \"horsepower\": 56, \"peakrpm\": 4500, \"citympg\": 34, \"highwaympg\": 36, \"price\": 7898, \"Brand\": \"toyota\", \"price_level\": \"cheap\", \"Pred1\": 7871.363521481391}, {\"car_ID\": 160, \"symboling\": 0, \"fueltype\": \"diesel\", \"aspiration\": \"std\", \"doornumber\": \"four\", \"carbody\": \"hatchback\", \"drivewheel\": \"fwd\", \"enginelocation\": \"front\", \"wheelbase\": 95.7, \"carlength\": 166.3, \"carwidth\": 64.4, \"carheight\": 52.8, \"curbweight\": 2275, \"enginetype\": \"ohc\", \"cylindernumber\": \"four\", \"enginesize\": 110, \"fuelsystem\": \"idi\", \"boreratio\": 3.27, \"stroke\": 3.35, \"compressionratio\": 22.5, \"horsepower\": 56, \"peakrpm\": 4500, \"citympg\": 38, \"highwaympg\": 47, \"price\": 7788, \"Brand\": \"toyota\", \"price_level\": \"cheap\", \"Pred1\": 8492.896938339494}, {\"car_ID\": 161, \"symboling\": 0, \"fueltype\": \"gas\", \"aspiration\": \"std\", \"doornumber\": \"four\", \"carbody\": \"sedan\", \"drivewheel\": \"fwd\", \"enginelocation\": \"front\", \"wheelbase\": 95.7, \"carlength\": 166.3, \"carwidth\": 64.4, \"carheight\": 53.0, \"curbweight\": 2094, \"enginetype\": \"ohc\", \"cylindernumber\": \"four\", \"enginesize\": 98, \"fuelsystem\": \"2bbl\", \"boreratio\": 3.19, \"stroke\": 3.03, \"compressionratio\": 9.0, \"horsepower\": 70, \"peakrpm\": 4800, \"citympg\": 38, \"highwaympg\": 47, \"price\": 7738, \"Brand\": \"toyota\", \"price_level\": \"cheap\", \"Pred1\": 7606.150562690331}, {\"car_ID\": 162, \"symboling\": 0, \"fueltype\": \"gas\", \"aspiration\": \"std\", \"doornumber\": \"four\", \"carbody\": \"hatchback\", \"drivewheel\": \"fwd\", \"enginelocation\": \"front\", \"wheelbase\": 95.7, \"carlength\": 166.3, \"carwidth\": 64.4, \"carheight\": 52.8, \"curbweight\": 2122, \"enginetype\": \"ohc\", \"cylindernumber\": \"four\", \"enginesize\": 98, \"fuelsystem\": \"2bbl\", \"boreratio\": 3.19, \"stroke\": 3.03, \"compressionratio\": 9.0, \"horsepower\": 70, \"peakrpm\": 4800, \"citympg\": 28, \"highwaympg\": 34, \"price\": 8358, \"Brand\": \"toyota\", \"price_level\": \"cheap\", \"Pred1\": 7283.924921902457}, {\"car_ID\": 163, \"symboling\": 0, \"fueltype\": \"gas\", \"aspiration\": \"std\", \"doornumber\": \"four\", \"carbody\": \"sedan\", \"drivewheel\": \"fwd\", \"enginelocation\": \"front\", \"wheelbase\": 95.7, \"carlength\": 166.3, \"carwidth\": 64.4, \"carheight\": 52.8, \"curbweight\": 2140, \"enginetype\": \"ohc\", \"cylindernumber\": \"four\", \"enginesize\": 98, \"fuelsystem\": \"2bbl\", \"boreratio\": 3.19, \"stroke\": 3.03, \"compressionratio\": 9.0, \"horsepower\": 70, \"peakrpm\": 4800, \"citympg\": 28, \"highwaympg\": 34, \"price\": 9258, \"Brand\": \"toyota\", \"price_level\": \"cheap\", \"Pred1\": 7339.435195601647}, {\"car_ID\": 164, \"symboling\": 1, \"fueltype\": \"gas\", \"aspiration\": \"std\", \"doornumber\": \"two\", \"carbody\": \"sedan\", \"drivewheel\": \"rwd\", \"enginelocation\": \"front\", \"wheelbase\": 94.5, \"carlength\": 168.7, \"carwidth\": 64.0, \"carheight\": 52.6, \"curbweight\": 2169, \"enginetype\": \"ohc\", \"cylindernumber\": \"four\", \"enginesize\": 98, \"fuelsystem\": \"2bbl\", \"boreratio\": 3.19, \"stroke\": 3.03, \"compressionratio\": 9.0, \"horsepower\": 70, \"peakrpm\": 4800, \"citympg\": 29, \"highwaympg\": 34, \"price\": 8058, \"Brand\": \"toyota\", \"price_level\": \"cheap\", \"Pred1\": 7038.639660984256}, {\"car_ID\": 165, \"symboling\": 1, \"fueltype\": \"gas\", \"aspiration\": \"std\", \"doornumber\": \"two\", \"carbody\": \"hatchback\", \"drivewheel\": \"rwd\", \"enginelocation\": \"front\", \"wheelbase\": 94.5, \"carlength\": 168.7, \"carwidth\": 64.0, \"carheight\": 52.6, \"curbweight\": 2204, \"enginetype\": \"ohc\", \"cylindernumber\": \"four\", \"enginesize\": 98, \"fuelsystem\": \"2bbl\", \"boreratio\": 3.19, \"stroke\": 3.03, \"compressionratio\": 9.0, \"horsepower\": 70, \"peakrpm\": 4800, \"citympg\": 29, \"highwaympg\": 34, \"price\": 8238, \"Brand\": \"toyota\", \"price_level\": \"cheap\", \"Pred1\": 7146.576304288232}, {\"car_ID\": 166, \"symboling\": 1, \"fueltype\": \"gas\", \"aspiration\": \"std\", \"doornumber\": \"two\", \"carbody\": \"sedan\", \"drivewheel\": \"rwd\", \"enginelocation\": \"front\", \"wheelbase\": 94.5, \"carlength\": 168.7, \"carwidth\": 64.0, \"carheight\": 52.6, \"curbweight\": 2265, \"enginetype\": \"dohc\", \"cylindernumber\": \"four\", \"enginesize\": 98, \"fuelsystem\": \"mpfi\", \"boreratio\": 3.24, \"stroke\": 3.08, \"compressionratio\": 9.4, \"horsepower\": 112, \"peakrpm\": 6600, \"citympg\": 26, \"highwaympg\": 29, \"price\": 9298, \"Brand\": \"toyota\", \"price_level\": \"cheap\", \"Pred1\": 9133.168041694036}, {\"car_ID\": 167, \"symboling\": 1, \"fueltype\": \"gas\", \"aspiration\": \"std\", \"doornumber\": \"two\", \"carbody\": \"hatchback\", \"drivewheel\": \"rwd\", \"enginelocation\": \"front\", \"wheelbase\": 94.5, \"carlength\": 168.7, \"carwidth\": 64.0, \"carheight\": 52.6, \"curbweight\": 2300, \"enginetype\": \"dohc\", \"cylindernumber\": \"four\", \"enginesize\": 98, \"fuelsystem\": \"mpfi\", \"boreratio\": 3.24, \"stroke\": 3.08, \"compressionratio\": 9.4, \"horsepower\": 112, \"peakrpm\": 6600, \"citympg\": 26, \"highwaympg\": 29, \"price\": 9538, \"Brand\": \"toyota\", \"price_level\": \"cheap\", \"Pred1\": 9241.104684998012}, {\"car_ID\": 168, \"symboling\": 2, \"fueltype\": \"gas\", \"aspiration\": \"std\", \"doornumber\": \"two\", \"carbody\": \"hardtop\", \"drivewheel\": \"rwd\", \"enginelocation\": \"front\", \"wheelbase\": 98.4, \"carlength\": 176.2, \"carwidth\": 65.6, \"carheight\": 52.0, \"curbweight\": 2540, \"enginetype\": \"ohc\", \"cylindernumber\": \"four\", \"enginesize\": 146, \"fuelsystem\": \"mpfi\", \"boreratio\": 3.62, \"stroke\": 3.5, \"compressionratio\": 9.3, \"horsepower\": 116, \"peakrpm\": 4800, \"citympg\": 24, \"highwaympg\": 30, \"price\": 8449, \"Brand\": \"toyota\", \"price_level\": \"cheap\", \"Pred1\": 15138.172351416571}, {\"car_ID\": 169, \"symboling\": 2, \"fueltype\": \"gas\", \"aspiration\": \"std\", \"doornumber\": \"two\", \"carbody\": \"hardtop\", \"drivewheel\": \"rwd\", \"enginelocation\": \"front\", \"wheelbase\": 98.4, \"carlength\": 176.2, \"carwidth\": 65.6, \"carheight\": 52.0, \"curbweight\": 2536, \"enginetype\": \"ohc\", \"cylindernumber\": \"four\", \"enginesize\": 146, \"fuelsystem\": \"mpfi\", \"boreratio\": 3.62, \"stroke\": 3.5, \"compressionratio\": 9.3, \"horsepower\": 116, \"peakrpm\": 4800, \"citympg\": 24, \"highwaympg\": 30, \"price\": 9639, \"Brand\": \"toyota\", \"price_level\": \"cheap\", \"Pred1\": 15125.836735038967}, {\"car_ID\": 170, \"symboling\": 2, \"fueltype\": \"gas\", \"aspiration\": \"std\", \"doornumber\": \"two\", \"carbody\": \"hatchback\", \"drivewheel\": \"rwd\", \"enginelocation\": \"front\", \"wheelbase\": 98.4, \"carlength\": 176.2, \"carwidth\": 65.6, \"carheight\": 52.0, \"curbweight\": 2551, \"enginetype\": \"ohc\", \"cylindernumber\": \"four\", \"enginesize\": 146, \"fuelsystem\": \"mpfi\", \"boreratio\": 3.62, \"stroke\": 3.5, \"compressionratio\": 9.3, \"horsepower\": 116, \"peakrpm\": 4800, \"citympg\": 24, \"highwaympg\": 30, \"price\": 9989, \"Brand\": \"toyota\", \"price_level\": \"cheap\", \"Pred1\": 15172.095296454958}, {\"car_ID\": 171, \"symboling\": 2, \"fueltype\": \"gas\", \"aspiration\": \"std\", \"doornumber\": \"two\", \"carbody\": \"hardtop\", \"drivewheel\": \"rwd\", \"enginelocation\": \"front\", \"wheelbase\": 98.4, \"carlength\": 176.2, \"carwidth\": 65.6, \"carheight\": 52.0, \"curbweight\": 2679, \"enginetype\": \"ohc\", \"cylindernumber\": \"four\", \"enginesize\": 146, \"fuelsystem\": \"mpfi\", \"boreratio\": 3.62, \"stroke\": 3.5, \"compressionratio\": 9.3, \"horsepower\": 116, \"peakrpm\": 4800, \"citympg\": 24, \"highwaympg\": 30, \"price\": 11199, \"Brand\": \"toyota\", \"price_level\": \"cheap\", \"Pred1\": 15566.835020538048}, {\"car_ID\": 172, \"symboling\": 2, \"fueltype\": \"gas\", \"aspiration\": \"std\", \"doornumber\": \"two\", \"carbody\": \"hatchback\", \"drivewheel\": \"rwd\", \"enginelocation\": \"front\", \"wheelbase\": 98.4, \"carlength\": 176.2, \"carwidth\": 65.6, \"carheight\": 52.0, \"curbweight\": 2714, \"enginetype\": \"ohc\", \"cylindernumber\": \"four\", \"enginesize\": 146, \"fuelsystem\": \"mpfi\", \"boreratio\": 3.62, \"stroke\": 3.5, \"compressionratio\": 9.3, \"horsepower\": 116, \"peakrpm\": 4800, \"citympg\": 24, \"highwaympg\": 30, \"price\": 11549, \"Brand\": \"toyota\", \"price_level\": \"cheap\", \"Pred1\": 15674.771663842032}, {\"car_ID\": 173, \"symboling\": 2, \"fueltype\": \"gas\", \"aspiration\": \"std\", \"doornumber\": \"two\", \"carbody\": \"convertible\", \"drivewheel\": \"rwd\", \"enginelocation\": \"front\", \"wheelbase\": 98.4, \"carlength\": 176.2, \"carwidth\": 65.6, \"carheight\": 53.0, \"curbweight\": 2975, \"enginetype\": \"ohc\", \"cylindernumber\": \"four\", \"enginesize\": 146, \"fuelsystem\": \"mpfi\", \"boreratio\": 3.62, \"stroke\": 3.5, \"compressionratio\": 9.3, \"horsepower\": 116, \"peakrpm\": 4800, \"citympg\": 24, \"highwaympg\": 30, \"price\": 17669, \"Brand\": \"toyota\", \"price_level\": \"cheap\", \"Pred1\": 16479.670632480214}, {\"car_ID\": 174, \"symboling\": -1, \"fueltype\": \"gas\", \"aspiration\": \"std\", \"doornumber\": \"four\", \"carbody\": \"sedan\", \"drivewheel\": \"fwd\", \"enginelocation\": \"front\", \"wheelbase\": 102.4, \"carlength\": 175.6, \"carwidth\": 66.5, \"carheight\": 54.9, \"curbweight\": 2326, \"enginetype\": \"ohc\", \"cylindernumber\": \"four\", \"enginesize\": 122, \"fuelsystem\": \"mpfi\", \"boreratio\": 3.31, \"stroke\": 3.54, \"compressionratio\": 8.7, \"horsepower\": 92, \"peakrpm\": 4200, \"citympg\": 29, \"highwaympg\": 34, \"price\": 8948, \"Brand\": \"toyota\", \"price_level\": \"cheap\", \"Pred1\": 11928.688817846014}, {\"car_ID\": 175, \"symboling\": -1, \"fueltype\": \"diesel\", \"aspiration\": \"turbo\", \"doornumber\": \"four\", \"carbody\": \"sedan\", \"drivewheel\": \"fwd\", \"enginelocation\": \"front\", \"wheelbase\": 102.4, \"carlength\": 175.6, \"carwidth\": 66.5, \"carheight\": 54.9, \"curbweight\": 2480, \"enginetype\": \"ohc\", \"cylindernumber\": \"four\", \"enginesize\": 110, \"fuelsystem\": \"idi\", \"boreratio\": 3.27, \"stroke\": 3.35, \"compressionratio\": 22.5, \"horsepower\": 73, \"peakrpm\": 4500, \"citympg\": 30, \"highwaympg\": 33, \"price\": 10698, \"Brand\": \"toyota\", \"price_level\": \"cheap\", \"Pred1\": 10356.588576661285}, {\"car_ID\": 176, \"symboling\": -1, \"fueltype\": \"gas\", \"aspiration\": \"std\", \"doornumber\": \"four\", \"carbody\": \"hatchback\", \"drivewheel\": \"fwd\", \"enginelocation\": \"front\", \"wheelbase\": 102.4, \"carlength\": 175.6, \"carwidth\": 66.5, \"carheight\": 53.9, \"curbweight\": 2414, \"enginetype\": \"ohc\", \"cylindernumber\": \"four\", \"enginesize\": 122, \"fuelsystem\": \"mpfi\", \"boreratio\": 3.31, \"stroke\": 3.54, \"compressionratio\": 8.7, \"horsepower\": 92, \"peakrpm\": 4200, \"citympg\": 27, \"highwaympg\": 32, \"price\": 9988, \"Brand\": \"toyota\", \"price_level\": \"cheap\", \"Pred1\": 12165.747397551662}, {\"car_ID\": 177, \"symboling\": -1, \"fueltype\": \"gas\", \"aspiration\": \"std\", \"doornumber\": \"four\", \"carbody\": \"sedan\", \"drivewheel\": \"fwd\", \"enginelocation\": \"front\", \"wheelbase\": 102.4, \"carlength\": 175.6, \"carwidth\": 66.5, \"carheight\": 54.9, \"curbweight\": 2414, \"enginetype\": \"ohc\", \"cylindernumber\": \"four\", \"enginesize\": 122, \"fuelsystem\": \"mpfi\", \"boreratio\": 3.31, \"stroke\": 3.54, \"compressionratio\": 8.7, \"horsepower\": 92, \"peakrpm\": 4200, \"citympg\": 27, \"highwaympg\": 32, \"price\": 10898, \"Brand\": \"toyota\", \"price_level\": \"cheap\", \"Pred1\": 12165.747397551662}, {\"car_ID\": 178, \"symboling\": -1, \"fueltype\": \"gas\", \"aspiration\": \"std\", \"doornumber\": \"four\", \"carbody\": \"hatchback\", \"drivewheel\": \"fwd\", \"enginelocation\": \"front\", \"wheelbase\": 102.4, \"carlength\": 175.6, \"carwidth\": 66.5, \"carheight\": 53.9, \"curbweight\": 2458, \"enginetype\": \"ohc\", \"cylindernumber\": \"four\", \"enginesize\": 122, \"fuelsystem\": \"mpfi\", \"boreratio\": 3.31, \"stroke\": 3.54, \"compressionratio\": 8.7, \"horsepower\": 92, \"peakrpm\": 4200, \"citympg\": 27, \"highwaympg\": 32, \"price\": 11248, \"Brand\": \"toyota\", \"price_level\": \"cheap\", \"Pred1\": 12301.439177705222}, {\"car_ID\": 179, \"symboling\": 3, \"fueltype\": \"gas\", \"aspiration\": \"std\", \"doornumber\": \"two\", \"carbody\": \"hatchback\", \"drivewheel\": \"rwd\", \"enginelocation\": \"front\", \"wheelbase\": 102.9, \"carlength\": 183.5, \"carwidth\": 67.7, \"carheight\": 52.0, \"curbweight\": 2976, \"enginetype\": \"dohc\", \"cylindernumber\": \"six\", \"enginesize\": 171, \"fuelsystem\": \"mpfi\", \"boreratio\": 3.27, \"stroke\": 3.35, \"compressionratio\": 9.3, \"horsepower\": 161, \"peakrpm\": 5200, \"citympg\": 20, \"highwaympg\": 24, \"price\": 16558, \"Brand\": \"toyota\", \"price_level\": \"cheap\", \"Pred1\": 21579.737118965873}, {\"car_ID\": 180, \"symboling\": 3, \"fueltype\": \"gas\", \"aspiration\": \"std\", \"doornumber\": \"two\", \"carbody\": \"hatchback\", \"drivewheel\": \"rwd\", \"enginelocation\": \"front\", \"wheelbase\": 102.9, \"carlength\": 183.5, \"carwidth\": 67.7, \"carheight\": 52.0, \"curbweight\": 3016, \"enginetype\": \"dohc\", \"cylindernumber\": \"six\", \"enginesize\": 171, \"fuelsystem\": \"mpfi\", \"boreratio\": 3.27, \"stroke\": 3.35, \"compressionratio\": 9.3, \"horsepower\": 161, \"peakrpm\": 5200, \"citympg\": 19, \"highwaympg\": 24, \"price\": 15998, \"Brand\": \"toyota\", \"price_level\": \"cheap\", \"Pred1\": 21764.914143248985}, {\"car_ID\": 181, \"symboling\": -1, \"fueltype\": \"gas\", \"aspiration\": \"std\", \"doornumber\": \"four\", \"carbody\": \"sedan\", \"drivewheel\": \"rwd\", \"enginelocation\": \"front\", \"wheelbase\": 104.5, \"carlength\": 187.8, \"carwidth\": 66.5, \"carheight\": 54.1, \"curbweight\": 3131, \"enginetype\": \"dohc\", \"cylindernumber\": \"six\", \"enginesize\": 171, \"fuelsystem\": \"mpfi\", \"boreratio\": 3.27, \"stroke\": 3.35, \"compressionratio\": 9.2, \"horsepower\": 156, \"peakrpm\": 5200, \"citympg\": 20, \"highwaympg\": 24, \"price\": 15690, \"Brand\": \"toyota\", \"price_level\": \"cheap\", \"Pred1\": 20925.403302588078}, {\"car_ID\": 182, \"symboling\": -1, \"fueltype\": \"gas\", \"aspiration\": \"std\", \"doornumber\": \"four\", \"carbody\": \"wagon\", \"drivewheel\": \"rwd\", \"enginelocation\": \"front\", \"wheelbase\": 104.5, \"carlength\": 187.8, \"carwidth\": 66.5, \"carheight\": 54.1, \"curbweight\": 3151, \"enginetype\": \"dohc\", \"cylindernumber\": \"six\", \"enginesize\": 161, \"fuelsystem\": \"mpfi\", \"boreratio\": 3.27, \"stroke\": 3.35, \"compressionratio\": 9.2, \"horsepower\": 156, \"peakrpm\": 5200, \"citympg\": 19, \"highwaympg\": 24, \"price\": 15750, \"Brand\": \"toyota\", \"price_level\": \"cheap\", \"Pred1\": 20217.34475502369}, {\"car_ID\": 183, \"symboling\": 2, \"fueltype\": \"diesel\", \"aspiration\": \"std\", \"doornumber\": \"two\", \"carbody\": \"sedan\", \"drivewheel\": \"fwd\", \"enginelocation\": \"front\", \"wheelbase\": 97.3, \"carlength\": 171.7, \"carwidth\": 65.5, \"carheight\": 55.7, \"curbweight\": 2261, \"enginetype\": \"ohc\", \"cylindernumber\": \"four\", \"enginesize\": 97, \"fuelsystem\": \"idi\", \"boreratio\": 3.01, \"stroke\": 3.4, \"compressionratio\": 23.0, \"horsepower\": 52, \"peakrpm\": 4800, \"citympg\": 37, \"highwaympg\": 46, \"price\": 7775, \"Brand\": \"vw\", \"price_level\": \"ordinary\", \"Pred1\": 7683.051419980751}, {\"car_ID\": 184, \"symboling\": 2, \"fueltype\": \"gas\", \"aspiration\": \"std\", \"doornumber\": \"two\", \"carbody\": \"sedan\", \"drivewheel\": \"fwd\", \"enginelocation\": \"front\", \"wheelbase\": 97.3, \"carlength\": 171.7, \"carwidth\": 65.5, \"carheight\": 55.7, \"curbweight\": 2209, \"enginetype\": \"ohc\", \"cylindernumber\": \"four\", \"enginesize\": 109, \"fuelsystem\": \"mpfi\", \"boreratio\": 3.19, \"stroke\": 3.4, \"compressionratio\": 9.0, \"horsepower\": 85, \"peakrpm\": 5250, \"citympg\": 27, \"highwaympg\": 34, \"price\": 7975, \"Brand\": \"vw\", \"price_level\": \"ordinary\", \"Pred1\": 9768.623316244484}, {\"car_ID\": 185, \"symboling\": 2, \"fueltype\": \"diesel\", \"aspiration\": \"std\", \"doornumber\": \"four\", \"carbody\": \"sedan\", \"drivewheel\": \"fwd\", \"enginelocation\": \"front\", \"wheelbase\": 97.3, \"carlength\": 171.7, \"carwidth\": 65.5, \"carheight\": 55.7, \"curbweight\": 2264, \"enginetype\": \"ohc\", \"cylindernumber\": \"four\", \"enginesize\": 97, \"fuelsystem\": \"idi\", \"boreratio\": 3.01, \"stroke\": 3.4, \"compressionratio\": 23.0, \"horsepower\": 52, \"peakrpm\": 4800, \"citympg\": 37, \"highwaympg\": 46, \"price\": 7995, \"Brand\": \"vw\", \"price_level\": \"ordinary\", \"Pred1\": 7692.303132263944}, {\"car_ID\": 186, \"symboling\": 2, \"fueltype\": \"gas\", \"aspiration\": \"std\", \"doornumber\": \"four\", \"carbody\": \"sedan\", \"drivewheel\": \"fwd\", \"enginelocation\": \"front\", \"wheelbase\": 97.3, \"carlength\": 171.7, \"carwidth\": 65.5, \"carheight\": 55.7, \"curbweight\": 2212, \"enginetype\": \"ohc\", \"cylindernumber\": \"four\", \"enginesize\": 109, \"fuelsystem\": \"mpfi\", \"boreratio\": 3.19, \"stroke\": 3.4, \"compressionratio\": 9.0, \"horsepower\": 85, \"peakrpm\": 5250, \"citympg\": 27, \"highwaympg\": 34, \"price\": 8195, \"Brand\": \"vw\", \"price_level\": \"ordinary\", \"Pred1\": 9777.875028527684}, {\"car_ID\": 187, \"symboling\": 2, \"fueltype\": \"gas\", \"aspiration\": \"std\", \"doornumber\": \"four\", \"carbody\": \"sedan\", \"drivewheel\": \"fwd\", \"enginelocation\": \"front\", \"wheelbase\": 97.3, \"carlength\": 171.7, \"carwidth\": 65.5, \"carheight\": 55.7, \"curbweight\": 2275, \"enginetype\": \"ohc\", \"cylindernumber\": \"four\", \"enginesize\": 109, \"fuelsystem\": \"mpfi\", \"boreratio\": 3.19, \"stroke\": 3.4, \"compressionratio\": 9.0, \"horsepower\": 85, \"peakrpm\": 5250, \"citympg\": 27, \"highwaympg\": 34, \"price\": 8495, \"Brand\": \"vw\", \"price_level\": \"ordinary\", \"Pred1\": 9972.160986474832}, {\"car_ID\": 188, \"symboling\": 2, \"fueltype\": \"diesel\", \"aspiration\": \"turbo\", \"doornumber\": \"four\", \"carbody\": \"sedan\", \"drivewheel\": \"fwd\", \"enginelocation\": \"front\", \"wheelbase\": 97.3, \"carlength\": 171.7, \"carwidth\": 65.5, \"carheight\": 55.7, \"curbweight\": 2319, \"enginetype\": \"ohc\", \"cylindernumber\": \"four\", \"enginesize\": 97, \"fuelsystem\": \"idi\", \"boreratio\": 3.01, \"stroke\": 3.4, \"compressionratio\": 23.0, \"horsepower\": 68, \"peakrpm\": 4500, \"citympg\": 37, \"highwaympg\": 42, \"price\": 9495, \"Brand\": \"vw\", \"price_level\": \"ordinary\", \"Pred1\": 8310.909315239798}, {\"car_ID\": 189, \"symboling\": 2, \"fueltype\": \"gas\", \"aspiration\": \"std\", \"doornumber\": \"four\", \"carbody\": \"sedan\", \"drivewheel\": \"fwd\", \"enginelocation\": \"front\", \"wheelbase\": 97.3, \"carlength\": 171.7, \"carwidth\": 65.5, \"carheight\": 55.7, \"curbweight\": 2300, \"enginetype\": \"ohc\", \"cylindernumber\": \"four\", \"enginesize\": 109, \"fuelsystem\": \"mpfi\", \"boreratio\": 3.19, \"stroke\": 3.4, \"compressionratio\": 10.0, \"horsepower\": 100, \"peakrpm\": 5500, \"citympg\": 26, \"highwaympg\": 32, \"price\": 9995, \"Brand\": \"vw\", \"price_level\": \"ordinary\", \"Pred1\": 10670.229804928138}, {\"car_ID\": 190, \"symboling\": 3, \"fueltype\": \"gas\", \"aspiration\": \"std\", \"doornumber\": \"two\", \"carbody\": \"convertible\", \"drivewheel\": \"fwd\", \"enginelocation\": \"front\", \"wheelbase\": 94.5, \"carlength\": 159.3, \"carwidth\": 64.2, \"carheight\": 55.6, \"curbweight\": 2254, \"enginetype\": \"ohc\", \"cylindernumber\": \"four\", \"enginesize\": 109, \"fuelsystem\": \"mpfi\", \"boreratio\": 3.19, \"stroke\": 3.4, \"compressionratio\": 8.5, \"horsepower\": 90, \"peakrpm\": 5500, \"citympg\": 24, \"highwaympg\": 29, \"price\": 11595, \"Brand\": \"vw\", \"price_level\": \"ordinary\", \"Pred1\": 9509.9546371287}, {\"car_ID\": 191, \"symboling\": 3, \"fueltype\": \"gas\", \"aspiration\": \"std\", \"doornumber\": \"two\", \"carbody\": \"hatchback\", \"drivewheel\": \"fwd\", \"enginelocation\": \"front\", \"wheelbase\": 94.5, \"carlength\": 165.7, \"carwidth\": 64.0, \"carheight\": 51.4, \"curbweight\": 2221, \"enginetype\": \"ohc\", \"cylindernumber\": \"four\", \"enginesize\": 109, \"fuelsystem\": \"mpfi\", \"boreratio\": 3.19, \"stroke\": 3.4, \"compressionratio\": 8.5, \"horsepower\": 90, \"peakrpm\": 5500, \"citympg\": 24, \"highwaympg\": 29, \"price\": 9980, \"Brand\": \"vw\", \"price_level\": \"ordinary\", \"Pred1\": 9079.153068580687}, {\"car_ID\": 192, \"symboling\": 0, \"fueltype\": \"gas\", \"aspiration\": \"std\", \"doornumber\": \"four\", \"carbody\": \"sedan\", \"drivewheel\": \"fwd\", \"enginelocation\": \"front\", \"wheelbase\": 100.4, \"carlength\": 180.2, \"carwidth\": 66.9, \"carheight\": 55.1, \"curbweight\": 2661, \"enginetype\": \"ohc\", \"cylindernumber\": \"five\", \"enginesize\": 136, \"fuelsystem\": \"mpfi\", \"boreratio\": 3.19, \"stroke\": 3.4, \"compressionratio\": 8.5, \"horsepower\": 110, \"peakrpm\": 5500, \"citympg\": 19, \"highwaympg\": 24, \"price\": 13295, \"Brand\": \"vw\", \"price_level\": \"ordinary\", \"Pred1\": 14921.415728306827}, {\"car_ID\": 193, \"symboling\": 0, \"fueltype\": \"diesel\", \"aspiration\": \"turbo\", \"doornumber\": \"four\", \"carbody\": \"sedan\", \"drivewheel\": \"fwd\", \"enginelocation\": \"front\", \"wheelbase\": 100.4, \"carlength\": 180.2, \"carwidth\": 66.9, \"carheight\": 55.1, \"curbweight\": 2579, \"enginetype\": \"ohc\", \"cylindernumber\": \"four\", \"enginesize\": 97, \"fuelsystem\": \"idi\", \"boreratio\": 3.01, \"stroke\": 3.4, \"compressionratio\": 23.0, \"horsepower\": 68, \"peakrpm\": 4500, \"citympg\": 33, \"highwaympg\": 38, \"price\": 13845, \"Brand\": \"vw\", \"price_level\": \"ordinary\", \"Pred1\": 9657.808485769026}, {\"car_ID\": 194, \"symboling\": 0, \"fueltype\": \"gas\", \"aspiration\": \"std\", \"doornumber\": \"four\", \"carbody\": \"wagon\", \"drivewheel\": \"fwd\", \"enginelocation\": \"front\", \"wheelbase\": 100.4, \"carlength\": 183.1, \"carwidth\": 66.9, \"carheight\": 55.1, \"curbweight\": 2563, \"enginetype\": \"ohc\", \"cylindernumber\": \"four\", \"enginesize\": 109, \"fuelsystem\": \"mpfi\", \"boreratio\": 3.19, \"stroke\": 3.4, \"compressionratio\": 9.0, \"horsepower\": 88, \"peakrpm\": 5500, \"citympg\": 25, \"highwaympg\": 31, \"price\": 12290, \"Brand\": \"vw\", \"price_level\": \"ordinary\", \"Pred1\": 11412.250766280093}, {\"car_ID\": 195, \"symboling\": -2, \"fueltype\": \"gas\", \"aspiration\": \"std\", \"doornumber\": \"four\", \"carbody\": \"sedan\", \"drivewheel\": \"rwd\", \"enginelocation\": \"front\", \"wheelbase\": 104.3, \"carlength\": 188.8, \"carwidth\": 67.2, \"carheight\": 56.2, \"curbweight\": 2912, \"enginetype\": \"ohc\", \"cylindernumber\": \"four\", \"enginesize\": 141, \"fuelsystem\": \"mpfi\", \"boreratio\": 3.78, \"stroke\": 3.15, \"compressionratio\": 9.5, \"horsepower\": 114, \"peakrpm\": 5400, \"citympg\": 23, \"highwaympg\": 28, \"price\": 12940, \"Brand\": \"volvo\", \"price_level\": \"ordinary\", \"Pred1\": 16287.783923055613}, {\"car_ID\": 196, \"symboling\": -1, \"fueltype\": \"gas\", \"aspiration\": \"std\", \"doornumber\": \"four\", \"carbody\": \"wagon\", \"drivewheel\": \"rwd\", \"enginelocation\": \"front\", \"wheelbase\": 104.3, \"carlength\": 188.8, \"carwidth\": 67.2, \"carheight\": 57.5, \"curbweight\": 3034, \"enginetype\": \"ohc\", \"cylindernumber\": \"four\", \"enginesize\": 141, \"fuelsystem\": \"mpfi\", \"boreratio\": 3.78, \"stroke\": 3.15, \"compressionratio\": 9.5, \"horsepower\": 114, \"peakrpm\": 5400, \"citympg\": 23, \"highwaympg\": 28, \"price\": 13415, \"Brand\": \"volvo\", \"price_level\": \"ordinary\", \"Pred1\": 16664.020222572304}, {\"car_ID\": 197, \"symboling\": -2, \"fueltype\": \"gas\", \"aspiration\": \"std\", \"doornumber\": \"four\", \"carbody\": \"sedan\", \"drivewheel\": \"rwd\", \"enginelocation\": \"front\", \"wheelbase\": 104.3, \"carlength\": 188.8, \"carwidth\": 67.2, \"carheight\": 56.2, \"curbweight\": 2935, \"enginetype\": \"ohc\", \"cylindernumber\": \"four\", \"enginesize\": 141, \"fuelsystem\": \"mpfi\", \"boreratio\": 3.78, \"stroke\": 3.15, \"compressionratio\": 9.5, \"horsepower\": 114, \"peakrpm\": 5400, \"citympg\": 24, \"highwaympg\": 28, \"price\": 15985, \"Brand\": \"volvo\", \"price_level\": \"ordinary\", \"Pred1\": 16296.892856719649}, {\"car_ID\": 198, \"symboling\": -1, \"fueltype\": \"gas\", \"aspiration\": \"std\", \"doornumber\": \"four\", \"carbody\": \"wagon\", \"drivewheel\": \"rwd\", \"enginelocation\": \"front\", \"wheelbase\": 104.3, \"carlength\": 188.8, \"carwidth\": 67.2, \"carheight\": 57.5, \"curbweight\": 3042, \"enginetype\": \"ohc\", \"cylindernumber\": \"four\", \"enginesize\": 141, \"fuelsystem\": \"mpfi\", \"boreratio\": 3.78, \"stroke\": 3.15, \"compressionratio\": 9.5, \"horsepower\": 114, \"peakrpm\": 5400, \"citympg\": 24, \"highwaympg\": 28, \"price\": 16515, \"Brand\": \"volvo\", \"price_level\": \"ordinary\", \"Pred1\": 16626.870594820364}, {\"car_ID\": 199, \"symboling\": -2, \"fueltype\": \"gas\", \"aspiration\": \"turbo\", \"doornumber\": \"four\", \"carbody\": \"sedan\", \"drivewheel\": \"rwd\", \"enginelocation\": \"front\", \"wheelbase\": 104.3, \"carlength\": 188.8, \"carwidth\": 67.2, \"carheight\": 56.2, \"curbweight\": 3045, \"enginetype\": \"ohc\", \"cylindernumber\": \"four\", \"enginesize\": 130, \"fuelsystem\": \"mpfi\", \"boreratio\": 3.62, \"stroke\": 3.15, \"compressionratio\": 7.5, \"horsepower\": 162, \"peakrpm\": 5100, \"citympg\": 17, \"highwaympg\": 22, \"price\": 18420, \"Brand\": \"volvo\", \"price_level\": \"ordinary\", \"Pred1\": 17975.029569897037}, {\"car_ID\": 200, \"symboling\": -1, \"fueltype\": \"gas\", \"aspiration\": \"turbo\", \"doornumber\": \"four\", \"carbody\": \"wagon\", \"drivewheel\": \"rwd\", \"enginelocation\": \"front\", \"wheelbase\": 104.3, \"carlength\": 188.8, \"carwidth\": 67.2, \"carheight\": 57.5, \"curbweight\": 3157, \"enginetype\": \"ohc\", \"cylindernumber\": \"four\", \"enginesize\": 130, \"fuelsystem\": \"mpfi\", \"boreratio\": 3.62, \"stroke\": 3.15, \"compressionratio\": 7.5, \"horsepower\": 162, \"peakrpm\": 5100, \"citympg\": 17, \"highwaympg\": 22, \"price\": 18950, \"Brand\": \"volvo\", \"price_level\": \"ordinary\", \"Pred1\": 18320.42682846974}, {\"car_ID\": 201, \"symboling\": -1, \"fueltype\": \"gas\", \"aspiration\": \"std\", \"doornumber\": \"four\", \"carbody\": \"sedan\", \"drivewheel\": \"rwd\", \"enginelocation\": \"front\", \"wheelbase\": 109.1, \"carlength\": 188.8, \"carwidth\": 68.9, \"carheight\": 55.5, \"curbweight\": 2952, \"enginetype\": \"ohc\", \"cylindernumber\": \"four\", \"enginesize\": 141, \"fuelsystem\": \"mpfi\", \"boreratio\": 3.78, \"stroke\": 3.15, \"compressionratio\": 9.5, \"horsepower\": 114, \"peakrpm\": 5400, \"citympg\": 23, \"highwaympg\": 28, \"price\": 16845, \"Brand\": \"volvo\", \"price_level\": \"ordinary\", \"Pred1\": 17483.55562614811}, {\"car_ID\": 202, \"symboling\": -1, \"fueltype\": \"gas\", \"aspiration\": \"turbo\", \"doornumber\": \"four\", \"carbody\": \"sedan\", \"drivewheel\": \"rwd\", \"enginelocation\": \"front\", \"wheelbase\": 109.1, \"carlength\": 188.8, \"carwidth\": 68.8, \"carheight\": 55.5, \"curbweight\": 3049, \"enginetype\": \"ohc\", \"cylindernumber\": \"four\", \"enginesize\": 141, \"fuelsystem\": \"mpfi\", \"boreratio\": 3.78, \"stroke\": 3.15, \"compressionratio\": 8.7, \"horsepower\": 160, \"peakrpm\": 5300, \"citympg\": 19, \"highwaympg\": 25, \"price\": 19045, \"Brand\": \"volvo\", \"price_level\": \"ordinary\", \"Pred1\": 19929.10342131043}, {\"car_ID\": 203, \"symboling\": -1, \"fueltype\": \"gas\", \"aspiration\": \"std\", \"doornumber\": \"four\", \"carbody\": \"sedan\", \"drivewheel\": \"rwd\", \"enginelocation\": \"front\", \"wheelbase\": 109.1, \"carlength\": 188.8, \"carwidth\": 68.9, \"carheight\": 55.5, \"curbweight\": 3012, \"enginetype\": \"ohcv\", \"cylindernumber\": \"six\", \"enginesize\": 173, \"fuelsystem\": \"mpfi\", \"boreratio\": 3.58, \"stroke\": 2.87, \"compressionratio\": 8.8, \"horsepower\": 134, \"peakrpm\": 5500, \"citympg\": 18, \"highwaympg\": 23, \"price\": 21485, \"Brand\": \"volvo\", \"price_level\": \"ordinary\", \"Pred1\": 21199.917464447994}, {\"car_ID\": 204, \"symboling\": -1, \"fueltype\": \"diesel\", \"aspiration\": \"turbo\", \"doornumber\": \"four\", \"carbody\": \"sedan\", \"drivewheel\": \"rwd\", \"enginelocation\": \"front\", \"wheelbase\": 109.1, \"carlength\": 188.8, \"carwidth\": 68.9, \"carheight\": 55.5, \"curbweight\": 3217, \"enginetype\": \"ohc\", \"cylindernumber\": \"six\", \"enginesize\": 145, \"fuelsystem\": \"idi\", \"boreratio\": 3.01, \"stroke\": 3.4, \"compressionratio\": 23.0, \"horsepower\": 106, \"peakrpm\": 4800, \"citympg\": 26, \"highwaympg\": 27, \"price\": 22470, \"Brand\": \"volvo\", \"price_level\": \"ordinary\", \"Pred1\": 17986.504844310715}, {\"car_ID\": 205, \"symboling\": -1, \"fueltype\": \"gas\", \"aspiration\": \"turbo\", \"doornumber\": \"four\", \"carbody\": \"sedan\", \"drivewheel\": \"rwd\", \"enginelocation\": \"front\", \"wheelbase\": 109.1, \"carlength\": 188.8, \"carwidth\": 68.9, \"carheight\": 55.5, \"curbweight\": 3062, \"enginetype\": \"ohc\", \"cylindernumber\": \"four\", \"enginesize\": 141, \"fuelsystem\": \"mpfi\", \"boreratio\": 3.78, \"stroke\": 3.15, \"compressionratio\": 9.5, \"horsepower\": 114, \"peakrpm\": 5400, \"citympg\": 19, \"highwaympg\": 25, \"price\": 22625, \"Brand\": \"volvo\", \"price_level\": \"ordinary\", \"Pred1\": 17833.118466136948}]}}, {\"mode\": \"vega-lite\"});\n",
       "</script>"
      ],
      "text/plain": [
       "alt.LayerChart(...)"
      ]
     },
     "execution_count": 24,
     "metadata": {},
     "output_type": "execute_result"
    }
   ],
   "source": [
    "c2 = alt.Chart(df).mark_circle().encode(\n",
    "    x=\"enginesize\",\n",
    "    y=\"price\",\n",
    "    color=\"Brand\"\n",
    ")\n",
    "c3=alt.Chart(df).mark_line(color=\"Blue\").encode(\n",
    "    x=\"enginesize\",\n",
    "    y='Pred1',\n",
    ")\n",
    "c2+c3"
   ]
  },
  {
   "cell_type": "markdown",
   "metadata": {
    "cell_id": "a68fb58f89d4435f99615263d8c34b99",
    "deepnote_cell_type": "text-cell-h3",
    "formattedRanges": [],
    "is_collapsed": false,
    "tags": []
   },
   "source": [
    "### Linear Regression for the most related 3 factor"
   ]
  },
  {
   "cell_type": "code",
   "execution_count": 25,
   "metadata": {
    "cell_id": "39a095a30f5643f59004071640e1c869",
    "deepnote_cell_type": "code",
    "deepnote_to_be_reexecuted": false,
    "execution_millis": 1,
    "execution_start": 1670310948437,
    "source_hash": "ecec5279",
    "tags": []
   },
   "outputs": [],
   "source": [
    "cols2=[\"enginesize\",\"curbweight\",\"horsepower\"]"
   ]
  },
  {
   "cell_type": "code",
   "execution_count": 26,
   "metadata": {
    "cell_id": "13df87d56b0641269a77b05f3ad034d4",
    "deepnote_cell_type": "code",
    "deepnote_to_be_reexecuted": false,
    "execution_millis": 7,
    "execution_start": 1670310948451,
    "source_hash": "d03e5c8d",
    "tags": []
   },
   "outputs": [],
   "source": [
    "reg2=LinearRegression()\n",
    "reg2.fit(df[cols2],df[\"price\"])\n",
    "df[\"Pred2\"]=reg2.predict(df[cols2])"
   ]
  },
  {
   "cell_type": "code",
   "execution_count": 27,
   "metadata": {
    "cell_id": "ef93a5914d22476ea92438b35b0c32d8",
    "deepnote_cell_type": "code",
    "deepnote_to_be_reexecuted": false,
    "execution_millis": 101,
    "execution_start": 1670310948459,
    "source_hash": "f804c160",
    "tags": []
   },
   "outputs": [
    {
     "data": {
      "application/vnd.deepnote.dataframe.v3+json": {
       "column_count": 29,
       "columns": [
        {
         "dtype": "int64",
         "name": "car_ID",
         "stats": {
          "histogram": [
           {
            "bin_end": 21.4,
            "bin_start": 1,
            "count": 21
           },
           {
            "bin_end": 41.8,
            "bin_start": 21.4,
            "count": 20
           },
           {
            "bin_end": 62.199999999999996,
            "bin_start": 41.8,
            "count": 21
           },
           {
            "bin_end": 82.6,
            "bin_start": 62.199999999999996,
            "count": 20
           },
           {
            "bin_end": 103,
            "bin_start": 82.6,
            "count": 20
           },
           {
            "bin_end": 123.39999999999999,
            "bin_start": 103,
            "count": 21
           },
           {
            "bin_end": 143.79999999999998,
            "bin_start": 123.39999999999999,
            "count": 20
           },
           {
            "bin_end": 164.2,
            "bin_start": 143.79999999999998,
            "count": 21
           },
           {
            "bin_end": 184.6,
            "bin_start": 164.2,
            "count": 20
           },
           {
            "bin_end": 205,
            "bin_start": 184.6,
            "count": 21
           }
          ],
          "max": "205",
          "min": "1",
          "nan_count": 0,
          "unique_count": 205
         }
        },
        {
         "dtype": "int64",
         "name": "symboling",
         "stats": {
          "histogram": [
           {
            "bin_end": -1.5,
            "bin_start": -2,
            "count": 3
           },
           {
            "bin_end": -1,
            "bin_start": -1.5,
            "count": 0
           },
           {
            "bin_end": -0.5,
            "bin_start": -1,
            "count": 22
           },
           {
            "bin_end": 0,
            "bin_start": -0.5,
            "count": 0
           },
           {
            "bin_end": 0.5,
            "bin_start": 0,
            "count": 67
           },
           {
            "bin_end": 1,
            "bin_start": 0.5,
            "count": 0
           },
           {
            "bin_end": 1.5,
            "bin_start": 1,
            "count": 54
           },
           {
            "bin_end": 2,
            "bin_start": 1.5,
            "count": 0
           },
           {
            "bin_end": 2.5,
            "bin_start": 2,
            "count": 32
           },
           {
            "bin_end": 3,
            "bin_start": 2.5,
            "count": 27
           }
          ],
          "max": "3",
          "min": "-2",
          "nan_count": 0,
          "unique_count": 6
         }
        },
        {
         "dtype": "object",
         "name": "fueltype",
         "stats": {
          "categories": [
           {
            "count": 185,
            "name": "gas"
           },
           {
            "count": 20,
            "name": "diesel"
           }
          ],
          "nan_count": 0,
          "unique_count": 2
         }
        },
        {
         "dtype": "object",
         "name": "aspiration",
         "stats": {
          "categories": [
           {
            "count": 168,
            "name": "std"
           },
           {
            "count": 37,
            "name": "turbo"
           }
          ],
          "nan_count": 0,
          "unique_count": 2
         }
        },
        {
         "dtype": "object",
         "name": "doornumber",
         "stats": {
          "categories": [
           {
            "count": 115,
            "name": "four"
           },
           {
            "count": 90,
            "name": "two"
           }
          ],
          "nan_count": 0,
          "unique_count": 2
         }
        },
        {
         "dtype": "object",
         "name": "carbody",
         "stats": {
          "categories": [
           {
            "count": 96,
            "name": "sedan"
           },
           {
            "count": 70,
            "name": "hatchback"
           },
           {
            "count": 39,
            "name": "3 others"
           }
          ],
          "nan_count": 0,
          "unique_count": 5
         }
        },
        {
         "dtype": "object",
         "name": "drivewheel",
         "stats": {
          "categories": [
           {
            "count": 120,
            "name": "fwd"
           },
           {
            "count": 76,
            "name": "rwd"
           },
           {
            "count": 9,
            "name": "4wd"
           }
          ],
          "nan_count": 0,
          "unique_count": 3
         }
        },
        {
         "dtype": "object",
         "name": "enginelocation",
         "stats": {
          "categories": [
           {
            "count": 202,
            "name": "front"
           },
           {
            "count": 3,
            "name": "rear"
           }
          ],
          "nan_count": 0,
          "unique_count": 2
         }
        },
        {
         "dtype": "float64",
         "name": "wheelbase",
         "stats": {
          "histogram": [
           {
            "bin_end": 90.03,
            "bin_start": 86.6,
            "count": 8
           },
           {
            "bin_end": 93.46,
            "bin_start": 90.03,
            "count": 9
           },
           {
            "bin_end": 96.89,
            "bin_start": 93.46,
            "count": 83
           },
           {
            "bin_end": 100.32,
            "bin_start": 96.89,
            "count": 42
           },
           {
            "bin_end": 103.75,
            "bin_start": 100.32,
            "count": 24
           },
           {
            "bin_end": 107.18,
            "bin_start": 103.75,
            "count": 14
           },
           {
            "bin_end": 110.61,
            "bin_start": 107.18,
            "count": 15
           },
           {
            "bin_end": 114.04,
            "bin_start": 110.61,
            "count": 3
           },
           {
            "bin_end": 117.47,
            "bin_start": 114.04,
            "count": 6
           },
           {
            "bin_end": 120.9,
            "bin_start": 117.47,
            "count": 1
           }
          ],
          "max": "120.9",
          "min": "86.6",
          "nan_count": 0,
          "unique_count": 53
         }
        },
        {
         "dtype": "float64",
         "name": "carlength",
         "stats": {
          "histogram": [
           {
            "bin_end": 147.79999999999998,
            "bin_start": 141.1,
            "count": 3
           },
           {
            "bin_end": 154.5,
            "bin_start": 147.79999999999998,
            "count": 3
           },
           {
            "bin_end": 161.2,
            "bin_start": 154.5,
            "count": 29
           },
           {
            "bin_end": 167.9,
            "bin_start": 161.2,
            "count": 23
           },
           {
            "bin_end": 174.6,
            "bin_start": 167.9,
            "count": 54
           },
           {
            "bin_end": 181.3,
            "bin_start": 174.6,
            "count": 39
           },
           {
            "bin_end": 188,
            "bin_start": 181.3,
            "count": 23
           },
           {
            "bin_end": 194.7,
            "bin_start": 188,
            "count": 20
           },
           {
            "bin_end": 201.4,
            "bin_start": 194.7,
            "count": 8
           },
           {
            "bin_end": 208.1,
            "bin_start": 201.4,
            "count": 3
           }
          ],
          "max": "208.1",
          "min": "141.1",
          "nan_count": 0,
          "unique_count": 75
         }
        },
        {
         "dtype": "float64",
         "name": "carwidth",
         "stats": {
          "histogram": [
           {
            "bin_end": 61.5,
            "bin_start": 60.3,
            "count": 1
           },
           {
            "bin_end": 62.699999999999996,
            "bin_start": 61.5,
            "count": 2
           },
           {
            "bin_end": 63.9,
            "bin_start": 62.699999999999996,
            "count": 36
           },
           {
            "bin_end": 65.1,
            "bin_start": 63.9,
            "count": 39
           },
           {
            "bin_end": 66.3,
            "bin_start": 65.1,
            "count": 44
           },
           {
            "bin_end": 67.5,
            "bin_start": 66.3,
            "count": 42
           },
           {
            "bin_end": 68.7,
            "bin_start": 67.5,
            "count": 20
           },
           {
            "bin_end": 69.89999999999999,
            "bin_start": 68.7,
            "count": 7
           },
           {
            "bin_end": 71.1,
            "bin_start": 69.89999999999999,
            "count": 6
           },
           {
            "bin_end": 72.3,
            "bin_start": 71.1,
            "count": 8
           }
          ],
          "max": "72.3",
          "min": "60.3",
          "nan_count": 0,
          "unique_count": 44
         }
        },
        {
         "dtype": "float64",
         "name": "carheight",
         "stats": {
          "histogram": [
           {
            "bin_end": 49,
            "bin_start": 47.8,
            "count": 3
           },
           {
            "bin_end": 50.199999999999996,
            "bin_start": 49,
            "count": 9
           },
           {
            "bin_end": 51.4,
            "bin_start": 50.199999999999996,
            "count": 28
           },
           {
            "bin_end": 52.599999999999994,
            "bin_start": 51.4,
            "count": 25
           },
           {
            "bin_end": 53.8,
            "bin_start": 52.599999999999994,
            "count": 33
           },
           {
            "bin_end": 55,
            "bin_start": 53.8,
            "count": 41
           },
           {
            "bin_end": 56.199999999999996,
            "bin_start": 55,
            "count": 38
           },
           {
            "bin_end": 57.4,
            "bin_start": 56.199999999999996,
            "count": 15
           },
           {
            "bin_end": 58.599999999999994,
            "bin_start": 57.4,
            "count": 4
           },
           {
            "bin_end": 59.8,
            "bin_start": 58.599999999999994,
            "count": 9
           }
          ],
          "max": "59.8",
          "min": "47.8",
          "nan_count": 0,
          "unique_count": 49
         }
        },
        {
         "dtype": "int64",
         "name": "curbweight",
         "stats": {
          "histogram": [
           {
            "bin_end": 1745.8,
            "bin_start": 1488,
            "count": 2
           },
           {
            "bin_end": 2003.6,
            "bin_start": 1745.8,
            "count": 29
           },
           {
            "bin_end": 2261.4,
            "bin_start": 2003.6,
            "count": 33
           },
           {
            "bin_end": 2519.2,
            "bin_start": 2261.4,
            "count": 50
           },
           {
            "bin_end": 2777,
            "bin_start": 2519.2,
            "count": 25
           },
           {
            "bin_end": 3034.8,
            "bin_start": 2777,
            "count": 23
           },
           {
            "bin_end": 3292.6000000000004,
            "bin_start": 3034.8,
            "count": 26
           },
           {
            "bin_end": 3550.4,
            "bin_start": 3292.6000000000004,
            "count": 8
           },
           {
            "bin_end": 3808.2000000000003,
            "bin_start": 3550.4,
            "count": 5
           },
           {
            "bin_end": 4066,
            "bin_start": 3808.2000000000003,
            "count": 4
           }
          ],
          "max": "4066",
          "min": "1488",
          "nan_count": 0,
          "unique_count": 171
         }
        },
        {
         "dtype": "object",
         "name": "enginetype",
         "stats": {
          "categories": [
           {
            "count": 148,
            "name": "ohc"
           },
           {
            "count": 15,
            "name": "ohcf"
           },
           {
            "count": 42,
            "name": "5 others"
           }
          ],
          "nan_count": 0,
          "unique_count": 7
         }
        },
        {
         "dtype": "object",
         "name": "cylindernumber",
         "stats": {
          "categories": [
           {
            "count": 159,
            "name": "four"
           },
           {
            "count": 24,
            "name": "six"
           },
           {
            "count": 22,
            "name": "5 others"
           }
          ],
          "nan_count": 0,
          "unique_count": 7
         }
        },
        {
         "dtype": "int64",
         "name": "enginesize",
         "stats": {
          "histogram": [
           {
            "bin_end": 87.5,
            "bin_start": 61,
            "count": 6
           },
           {
            "bin_end": 114,
            "bin_start": 87.5,
            "count": 95
           },
           {
            "bin_end": 140.5,
            "bin_start": 114,
            "count": 46
           },
           {
            "bin_end": 167,
            "bin_start": 140.5,
            "count": 30
           },
           {
            "bin_end": 193.5,
            "bin_start": 167,
            "count": 14
           },
           {
            "bin_end": 220,
            "bin_start": 193.5,
            "count": 7
           },
           {
            "bin_end": 246.5,
            "bin_start": 220,
            "count": 2
           },
           {
            "bin_end": 273,
            "bin_start": 246.5,
            "count": 2
           },
           {
            "bin_end": 299.5,
            "bin_start": 273,
            "count": 0
           },
           {
            "bin_end": 326,
            "bin_start": 299.5,
            "count": 3
           }
          ],
          "max": "326",
          "min": "61",
          "nan_count": 0,
          "unique_count": 44
         }
        },
        {
         "dtype": "object",
         "name": "fuelsystem",
         "stats": {
          "categories": [
           {
            "count": 94,
            "name": "mpfi"
           },
           {
            "count": 66,
            "name": "2bbl"
           },
           {
            "count": 45,
            "name": "6 others"
           }
          ],
          "nan_count": 0,
          "unique_count": 8
         }
        },
        {
         "dtype": "float64",
         "name": "boreratio",
         "stats": {
          "histogram": [
           {
            "bin_end": 2.68,
            "bin_start": 2.54,
            "count": 1
           },
           {
            "bin_end": 2.82,
            "bin_start": 2.68,
            "count": 1
           },
           {
            "bin_end": 2.96,
            "bin_start": 2.82,
            "count": 8
           },
           {
            "bin_end": 3.1,
            "bin_start": 2.96,
            "count": 37
           },
           {
            "bin_end": 3.24,
            "bin_start": 3.1,
            "count": 40
           },
           {
            "bin_end": 3.38,
            "bin_start": 3.24,
            "count": 28
           },
           {
            "bin_end": 3.52,
            "bin_start": 3.38,
            "count": 27
           },
           {
            "bin_end": 3.66,
            "bin_start": 3.52,
            "count": 42
           },
           {
            "bin_end": 3.8,
            "bin_start": 3.66,
            "count": 17
           },
           {
            "bin_end": 3.94,
            "bin_start": 3.8,
            "count": 4
           }
          ],
          "max": "3.94",
          "min": "2.54",
          "nan_count": 0,
          "unique_count": 38
         }
        },
        {
         "dtype": "float64",
         "name": "stroke",
         "stats": {
          "histogram": [
           {
            "bin_end": 2.28,
            "bin_start": 2.07,
            "count": 3
           },
           {
            "bin_end": 2.4899999999999998,
            "bin_start": 2.28,
            "count": 1
           },
           {
            "bin_end": 2.7,
            "bin_start": 2.4899999999999998,
            "count": 13
           },
           {
            "bin_end": 2.91,
            "bin_start": 2.7,
            "count": 7
           },
           {
            "bin_end": 3.12,
            "bin_start": 2.91,
            "count": 30
           },
           {
            "bin_end": 3.33,
            "bin_start": 3.12,
            "count": 56
           },
           {
            "bin_end": 3.54,
            "bin_start": 3.33,
            "count": 71
           },
           {
            "bin_end": 3.75,
            "bin_start": 3.54,
            "count": 15
           },
           {
            "bin_end": 3.96,
            "bin_start": 3.75,
            "count": 7
           },
           {
            "bin_end": 4.17,
            "bin_start": 3.96,
            "count": 2
           }
          ],
          "max": "4.17",
          "min": "2.07",
          "nan_count": 0,
          "unique_count": 37
         }
        },
        {
         "dtype": "float64",
         "name": "compressionratio",
         "stats": {
          "histogram": [
           {
            "bin_end": 8.6,
            "bin_start": 7,
            "count": 51
           },
           {
            "bin_end": 10.2,
            "bin_start": 8.6,
            "count": 133
           },
           {
            "bin_end": 11.8,
            "bin_start": 10.2,
            "count": 1
           },
           {
            "bin_end": 13.4,
            "bin_start": 11.8,
            "count": 0
           },
           {
            "bin_end": 15,
            "bin_start": 13.4,
            "count": 0
           },
           {
            "bin_end": 16.6,
            "bin_start": 15,
            "count": 0
           },
           {
            "bin_end": 18.200000000000003,
            "bin_start": 16.6,
            "count": 0
           },
           {
            "bin_end": 19.8,
            "bin_start": 18.200000000000003,
            "count": 0
           },
           {
            "bin_end": 21.4,
            "bin_start": 19.8,
            "count": 5
           },
           {
            "bin_end": 23,
            "bin_start": 21.4,
            "count": 15
           }
          ],
          "max": "23.0",
          "min": "7.0",
          "nan_count": 0,
          "unique_count": 32
         }
        },
        {
         "dtype": "int64",
         "name": "horsepower",
         "stats": {
          "histogram": [
           {
            "bin_end": 72,
            "bin_start": 48,
            "count": 55
           },
           {
            "bin_end": 96,
            "bin_start": 72,
            "count": 51
           },
           {
            "bin_end": 120,
            "bin_start": 96,
            "count": 49
           },
           {
            "bin_end": 144,
            "bin_start": 120,
            "count": 13
           },
           {
            "bin_end": 168,
            "bin_start": 144,
            "count": 23
           },
           {
            "bin_end": 192,
            "bin_start": 168,
            "count": 8
           },
           {
            "bin_end": 216,
            "bin_start": 192,
            "count": 4
           },
           {
            "bin_end": 240,
            "bin_start": 216,
            "count": 0
           },
           {
            "bin_end": 264,
            "bin_start": 240,
            "count": 1
           },
           {
            "bin_end": 288,
            "bin_start": 264,
            "count": 1
           }
          ],
          "max": "288",
          "min": "48",
          "nan_count": 0,
          "unique_count": 59
         }
        },
        {
         "dtype": "int64",
         "name": "peakrpm",
         "stats": {
          "histogram": [
           {
            "bin_end": 4395,
            "bin_start": 4150,
            "count": 17
           },
           {
            "bin_end": 4640,
            "bin_start": 4395,
            "count": 10
           },
           {
            "bin_end": 4885,
            "bin_start": 4640,
            "count": 41
           },
           {
            "bin_end": 5130,
            "bin_start": 4885,
            "count": 33
           },
           {
            "bin_end": 5375,
            "bin_start": 5130,
            "count": 31
           },
           {
            "bin_end": 5620,
            "bin_start": 5375,
            "count": 51
           },
           {
            "bin_end": 5865,
            "bin_start": 5620,
            "count": 8
           },
           {
            "bin_end": 6110,
            "bin_start": 5865,
            "count": 12
           },
           {
            "bin_end": 6355,
            "bin_start": 6110,
            "count": 0
           },
           {
            "bin_end": 6600,
            "bin_start": 6355,
            "count": 2
           }
          ],
          "max": "6600",
          "min": "4150",
          "nan_count": 0,
          "unique_count": 23
         }
        },
        {
         "dtype": "int64",
         "name": "citympg",
         "stats": {
          "histogram": [
           {
            "bin_end": 16.6,
            "bin_start": 13,
            "count": 12
           },
           {
            "bin_end": 20.2,
            "bin_start": 16.6,
            "count": 46
           },
           {
            "bin_end": 23.8,
            "bin_start": 20.2,
            "count": 24
           },
           {
            "bin_end": 27.4,
            "bin_start": 23.8,
            "count": 56
           },
           {
            "bin_end": 31,
            "bin_start": 27.4,
            "count": 18
           },
           {
            "bin_end": 34.6,
            "bin_start": 31,
            "count": 31
           },
           {
            "bin_end": 38.2,
            "bin_start": 34.6,
            "count": 15
           },
           {
            "bin_end": 41.8,
            "bin_start": 38.2,
            "count": 0
           },
           {
            "bin_end": 45.4,
            "bin_start": 41.8,
            "count": 1
           },
           {
            "bin_end": 49,
            "bin_start": 45.4,
            "count": 2
           }
          ],
          "max": "49",
          "min": "13",
          "nan_count": 0,
          "unique_count": 29
         }
        },
        {
         "dtype": "int64",
         "name": "highwaympg",
         "stats": {
          "histogram": [
           {
            "bin_end": 19.8,
            "bin_start": 16,
            "count": 7
           },
           {
            "bin_end": 23.6,
            "bin_start": 19.8,
            "count": 17
           },
           {
            "bin_end": 27.4,
            "bin_start": 23.6,
            "count": 44
           },
           {
            "bin_end": 31.2,
            "bin_start": 27.4,
            "count": 47
           },
           {
            "bin_end": 35,
            "bin_start": 31.2,
            "count": 39
           },
           {
            "bin_end": 38.8,
            "bin_start": 35,
            "count": 32
           },
           {
            "bin_end": 42.599999999999994,
            "bin_start": 38.8,
            "count": 8
           },
           {
            "bin_end": 46.4,
            "bin_start": 42.599999999999994,
            "count": 6
           },
           {
            "bin_end": 50.199999999999996,
            "bin_start": 46.4,
            "count": 3
           },
           {
            "bin_end": 54,
            "bin_start": 50.199999999999996,
            "count": 2
           }
          ],
          "max": "54",
          "min": "16",
          "nan_count": 0,
          "unique_count": 30
         }
        },
        {
         "dtype": "int64",
         "name": "price",
         "stats": {
          "histogram": [
           {
            "bin_end": 9146.2,
            "bin_start": 5118,
            "count": 83
           },
           {
            "bin_end": 13174.4,
            "bin_start": 9146.2,
            "count": 45
           },
           {
            "bin_end": 17202.6,
            "bin_start": 13174.4,
            "count": 35
           },
           {
            "bin_end": 21230.8,
            "bin_start": 17202.6,
            "count": 18
           },
           {
            "bin_end": 25259,
            "bin_start": 21230.8,
            "count": 6
           },
           {
            "bin_end": 29287.199999999997,
            "bin_start": 25259,
            "count": 3
           },
           {
            "bin_end": 33315.399999999994,
            "bin_start": 29287.199999999997,
            "count": 5
           },
           {
            "bin_end": 37343.6,
            "bin_start": 33315.399999999994,
            "count": 7
           },
           {
            "bin_end": 41371.799999999996,
            "bin_start": 37343.6,
            "count": 2
           },
           {
            "bin_end": 45400,
            "bin_start": 41371.799999999996,
            "count": 1
           }
          ],
          "max": "45400",
          "min": "5118",
          "nan_count": 0,
          "unique_count": 189
         }
        },
        {
         "dtype": "object",
         "name": "Brand",
         "stats": {
          "categories": [
           {
            "count": 32,
            "name": "toyota"
           },
           {
            "count": 18,
            "name": "nissan"
           },
           {
            "count": 155,
            "name": "21 others"
           }
          ],
          "nan_count": 0,
          "unique_count": 23
         }
        },
        {
         "dtype": "category",
         "name": "price_level",
         "stats": {
          "categories": [
           {
            "count": 95,
            "name": "cheap"
           },
           {
            "count": 86,
            "name": "ordinary"
           },
           {
            "count": 24,
            "name": "expensive"
           }
          ],
          "nan_count": 0,
          "unique_count": 3
         }
        },
        {
         "dtype": "float64",
         "name": "Pred1",
         "stats": {
          "histogram": [
           {
            "bin_end": 4139.843319630307,
            "bin_start": -261.3456426220728,
            "count": 1
           },
           {
            "bin_end": 8541.032281882686,
            "bin_start": 4139.843319630307,
            "count": 63
           },
           {
            "bin_end": 12942.221244135066,
            "bin_start": 8541.032281882686,
            "count": 57
           },
           {
            "bin_end": 17343.410206387445,
            "bin_start": 12942.221244135066,
            "count": 30
           },
           {
            "bin_end": 21744.599168639827,
            "bin_start": 17343.410206387445,
            "count": 31
           },
           {
            "bin_end": 26145.788130892204,
            "bin_start": 21744.599168639827,
            "count": 13
           },
           {
            "bin_end": 30546.977093144582,
            "bin_start": 26145.788130892204,
            "count": 3
           },
           {
            "bin_end": 34948.16605539696,
            "bin_start": 30546.977093144582,
            "count": 3
           },
           {
            "bin_end": 39349.355017649345,
            "bin_start": 34948.16605539696,
            "count": 3
           },
           {
            "bin_end": 43750.54397990172,
            "bin_start": 39349.355017649345,
            "count": 1
           }
          ],
          "max": "43750.54397990172",
          "min": "-261.3456426220728",
          "nan_count": 0,
          "unique_count": 190
         }
        },
        {
         "dtype": "float64",
         "name": "Pred2",
         "stats": {
          "histogram": [
           {
            "bin_end": 4738.340963160808,
            "bin_start": 396.400877585902,
            "count": 3
           },
           {
            "bin_end": 9080.281048735715,
            "bin_start": 4738.340963160808,
            "count": 65
           },
           {
            "bin_end": 13422.221134310621,
            "bin_start": 9080.281048735715,
            "count": 54
           },
           {
            "bin_end": 17764.16121988553,
            "bin_start": 13422.221134310621,
            "count": 34
           },
           {
            "bin_end": 22106.101305460434,
            "bin_start": 17764.16121988553,
            "count": 25
           },
           {
            "bin_end": 26448.041391035338,
            "bin_start": 22106.101305460434,
            "count": 13
           },
           {
            "bin_end": 30789.98147661025,
            "bin_start": 26448.041391035338,
            "count": 5
           },
           {
            "bin_end": 35131.921562185154,
            "bin_start": 30789.98147661025,
            "count": 3
           },
           {
            "bin_end": 39473.86164776006,
            "bin_start": 35131.921562185154,
            "count": 2
           },
           {
            "bin_end": 43815.80173333497,
            "bin_start": 39473.86164776006,
            "count": 1
           }
          ],
          "max": "43815.80173333497",
          "min": "396.400877585902",
          "nan_count": 0,
          "unique_count": 186
         }
        },
        {
         "dtype": "int64",
         "name": "_deepnote_index_column"
        }
       ],
       "row_count": 205,
       "rows": [
        {
         "Brand": "alfa-romeo",
         "Pred1": "12830.140148038903",
         "Pred2": "13842.478268830182",
         "_deepnote_index_column": "0",
         "aspiration": "std",
         "boreratio": "3.47",
         "car_ID": "1",
         "carbody": "convertible",
         "carheight": "48.8",
         "carlength": "168.8",
         "carwidth": "64.1",
         "citympg": "21",
         "compressionratio": "9.0",
         "curbweight": "2548",
         "cylindernumber": "four",
         "doornumber": "two",
         "drivewheel": "rwd",
         "enginelocation": "front",
         "enginesize": "130",
         "enginetype": "dohc",
         "fuelsystem": "mpfi",
         "fueltype": "gas",
         "highwaympg": "27",
         "horsepower": "111",
         "peakrpm": "5000",
         "price": "13495",
         "price_level": "ordinary",
         "stroke": "2.68",
         "symboling": "3",
         "wheelbase": "88.6"
        },
        {
         "Brand": "alfa-romeo",
         "Pred1": "12830.140148038903",
         "Pred2": "13842.478268830182",
         "_deepnote_index_column": "1",
         "aspiration": "std",
         "boreratio": "3.47",
         "car_ID": "2",
         "carbody": "convertible",
         "carheight": "48.8",
         "carlength": "168.8",
         "carwidth": "64.1",
         "citympg": "21",
         "compressionratio": "9.0",
         "curbweight": "2548",
         "cylindernumber": "four",
         "doornumber": "two",
         "drivewheel": "rwd",
         "enginelocation": "front",
         "enginesize": "130",
         "enginetype": "dohc",
         "fuelsystem": "mpfi",
         "fueltype": "gas",
         "highwaympg": "27",
         "horsepower": "111",
         "peakrpm": "5000",
         "price": "16500",
         "price_level": "ordinary",
         "stroke": "2.68",
         "symboling": "3",
         "wheelbase": "88.6"
        },
        {
         "Brand": "alfa-romeo",
         "Pred1": "18415.125099582176",
         "Pred2": "18978.14775119607",
         "_deepnote_index_column": "2",
         "aspiration": "std",
         "boreratio": "2.68",
         "car_ID": "3",
         "carbody": "hatchback",
         "carheight": "52.4",
         "carlength": "171.2",
         "carwidth": "65.5",
         "citympg": "19",
         "compressionratio": "9.0",
         "curbweight": "2823",
         "cylindernumber": "six",
         "doornumber": "two",
         "drivewheel": "rwd",
         "enginelocation": "front",
         "enginesize": "152",
         "enginetype": "ohcv",
         "fuelsystem": "mpfi",
         "fueltype": "gas",
         "highwaympg": "26",
         "horsepower": "154",
         "peakrpm": "5000",
         "price": "16500",
         "price_level": "ordinary",
         "stroke": "3.47",
         "symboling": "1",
         "wheelbase": "94.5"
        },
        {
         "Brand": "audi",
         "Pred1": "11131.888318664438",
         "Pred2": "10721.87804583053",
         "_deepnote_index_column": "3",
         "aspiration": "std",
         "boreratio": "3.19",
         "car_ID": "4",
         "carbody": "sedan",
         "carheight": "54.3",
         "carlength": "176.6",
         "carwidth": "66.2",
         "citympg": "24",
         "compressionratio": "10.0",
         "curbweight": "2337",
         "cylindernumber": "four",
         "doornumber": "four",
         "drivewheel": "fwd",
         "enginelocation": "front",
         "enginesize": "109",
         "enginetype": "ohc",
         "fuelsystem": "mpfi",
         "fueltype": "gas",
         "highwaympg": "30",
         "horsepower": "102",
         "peakrpm": "5500",
         "price": "13950",
         "price_level": "ordinary",
         "stroke": "3.4",
         "symboling": "2",
         "wheelbase": "99.8"
        },
        {
         "Brand": "audi",
         "Pred1": "15365.681175719517",
         "Pred2": "15723.214753179942",
         "_deepnote_index_column": "4",
         "aspiration": "std",
         "boreratio": "3.19",
         "car_ID": "5",
         "carbody": "sedan",
         "carheight": "54.3",
         "carlength": "176.6",
         "carwidth": "66.4",
         "citympg": "18",
         "compressionratio": "8.0",
         "curbweight": "2824",
         "cylindernumber": "five",
         "doornumber": "four",
         "drivewheel": "4wd",
         "enginelocation": "front",
         "enginesize": "136",
         "enginetype": "ohc",
         "fuelsystem": "mpfi",
         "fueltype": "gas",
         "highwaympg": "22",
         "horsepower": "115",
         "peakrpm": "5500",
         "price": "17450",
         "price_level": "ordinary",
         "stroke": "3.4",
         "symboling": "2",
         "wheelbase": "99.4"
        },
        {
         "Brand": "audi",
         "Pred1": "14238.901993066647",
         "Pred2": "14128.245318968999",
         "_deepnote_index_column": "5",
         "aspiration": "std",
         "boreratio": "3.19",
         "car_ID": "6",
         "carbody": "sedan",
         "carheight": "53.1",
         "carlength": "177.3",
         "carwidth": "66.3",
         "citympg": "19",
         "compressionratio": "8.5",
         "curbweight": "2507",
         "cylindernumber": "five",
         "doornumber": "two",
         "drivewheel": "fwd",
         "enginelocation": "front",
         "enginesize": "136",
         "enginetype": "ohc",
         "fuelsystem": "mpfi",
         "fueltype": "gas",
         "highwaympg": "25",
         "horsepower": "110",
         "peakrpm": "5500",
         "price": "15250",
         "price_level": "ordinary",
         "stroke": "3.4",
         "symboling": "2",
         "wheelbase": "99.8"
        },
        {
         "Brand": "audi",
         "Pred1": "18007.277498533127",
         "Pred2": "15564.733238627832",
         "_deepnote_index_column": "6",
         "aspiration": "std",
         "boreratio": "3.19",
         "car_ID": "7",
         "carbody": "sedan",
         "carheight": "55.7",
         "carlength": "192.7",
         "carwidth": "71.4",
         "citympg": "19",
         "compressionratio": "8.5",
         "curbweight": "2844",
         "cylindernumber": "five",
         "doornumber": "four",
         "drivewheel": "fwd",
         "enginelocation": "front",
         "enginesize": "136",
         "enginetype": "ohc",
         "fuelsystem": "mpfi",
         "fueltype": "gas",
         "highwaympg": "25",
         "horsepower": "110",
         "peakrpm": "5500",
         "price": "17710",
         "price_level": "ordinary",
         "stroke": "3.4",
         "symboling": "1",
         "wheelbase": "105.8"
        },
        {
         "Brand": "audi",
         "Pred1": "18346.506948917035",
         "Pred2": "16033.61653584585",
         "_deepnote_index_column": "7",
         "aspiration": "std",
         "boreratio": "3.19",
         "car_ID": "8",
         "carbody": "wagon",
         "carheight": "55.7",
         "carlength": "192.7",
         "carwidth": "71.4",
         "citympg": "19",
         "compressionratio": "8.5",
         "curbweight": "2954",
         "cylindernumber": "five",
         "doornumber": "four",
         "drivewheel": "fwd",
         "enginelocation": "front",
         "enginesize": "136",
         "enginetype": "ohc",
         "fuelsystem": "mpfi",
         "fueltype": "gas",
         "highwaympg": "25",
         "horsepower": "110",
         "peakrpm": "5500",
         "price": "18920",
         "price_level": "ordinary",
         "stroke": "3.4",
         "symboling": "1",
         "wheelbase": "105.8"
        },
        {
         "Brand": "audi",
         "Pred1": "19500.76262577674",
         "Pred2": "17634.27525852594",
         "_deepnote_index_column": "8",
         "aspiration": "turbo",
         "boreratio": "3.13",
         "car_ID": "9",
         "carbody": "sedan",
         "carheight": "55.9",
         "carlength": "192.7",
         "carwidth": "71.4",
         "citympg": "17",
         "compressionratio": "8.3",
         "curbweight": "3086",
         "cylindernumber": "five",
         "doornumber": "four",
         "drivewheel": "fwd",
         "enginelocation": "front",
         "enginesize": "131",
         "enginetype": "ohc",
         "fuelsystem": "mpfi",
         "fueltype": "gas",
         "highwaympg": "20",
         "horsepower": "140",
         "peakrpm": "5500",
         "price": "23875",
         "price_level": "ordinary",
         "stroke": "3.4",
         "symboling": "1",
         "wheelbase": "105.8"
        },
        {
         "Brand": "audi",
         "Pred1": "18826.64181640769",
         "Pred2": "18468.54236190935",
         "_deepnote_index_column": "9",
         "aspiration": "turbo",
         "boreratio": "3.13",
         "car_ID": "10",
         "carbody": "hatchback",
         "carheight": "52.0",
         "carlength": "178.2",
         "carwidth": "67.9",
         "citympg": "16",
         "compressionratio": "7.0",
         "curbweight": "3053",
         "cylindernumber": "five",
         "doornumber": "two",
         "drivewheel": "4wd",
         "enginelocation": "front",
         "enginesize": "131",
         "enginetype": "ohc",
         "fuelsystem": "mpfi",
         "fueltype": "gas",
         "highwaympg": "22",
         "horsepower": "160",
         "peakrpm": "5500",
         "price": "17859",
         "price_level": "ordinary",
         "stroke": "3.4",
         "symboling": "0",
         "wheelbase": "99.5"
        }
       ]
      },
      "text/html": [
       "<div>\n",
       "<style scoped>\n",
       "    .dataframe tbody tr th:only-of-type {\n",
       "        vertical-align: middle;\n",
       "    }\n",
       "\n",
       "    .dataframe tbody tr th {\n",
       "        vertical-align: top;\n",
       "    }\n",
       "\n",
       "    .dataframe thead th {\n",
       "        text-align: right;\n",
       "    }\n",
       "</style>\n",
       "<table border=\"1\" class=\"dataframe\">\n",
       "  <thead>\n",
       "    <tr style=\"text-align: right;\">\n",
       "      <th></th>\n",
       "      <th>car_ID</th>\n",
       "      <th>symboling</th>\n",
       "      <th>fueltype</th>\n",
       "      <th>aspiration</th>\n",
       "      <th>doornumber</th>\n",
       "      <th>carbody</th>\n",
       "      <th>drivewheel</th>\n",
       "      <th>enginelocation</th>\n",
       "      <th>wheelbase</th>\n",
       "      <th>carlength</th>\n",
       "      <th>...</th>\n",
       "      <th>compressionratio</th>\n",
       "      <th>horsepower</th>\n",
       "      <th>peakrpm</th>\n",
       "      <th>citympg</th>\n",
       "      <th>highwaympg</th>\n",
       "      <th>price</th>\n",
       "      <th>Brand</th>\n",
       "      <th>price_level</th>\n",
       "      <th>Pred1</th>\n",
       "      <th>Pred2</th>\n",
       "    </tr>\n",
       "  </thead>\n",
       "  <tbody>\n",
       "    <tr>\n",
       "      <th>0</th>\n",
       "      <td>1</td>\n",
       "      <td>3</td>\n",
       "      <td>gas</td>\n",
       "      <td>std</td>\n",
       "      <td>two</td>\n",
       "      <td>convertible</td>\n",
       "      <td>rwd</td>\n",
       "      <td>front</td>\n",
       "      <td>88.6</td>\n",
       "      <td>168.8</td>\n",
       "      <td>...</td>\n",
       "      <td>9.0</td>\n",
       "      <td>111</td>\n",
       "      <td>5000</td>\n",
       "      <td>21</td>\n",
       "      <td>27</td>\n",
       "      <td>13495</td>\n",
       "      <td>alfa-romeo</td>\n",
       "      <td>ordinary</td>\n",
       "      <td>12830.140148</td>\n",
       "      <td>13842.478269</td>\n",
       "    </tr>\n",
       "    <tr>\n",
       "      <th>1</th>\n",
       "      <td>2</td>\n",
       "      <td>3</td>\n",
       "      <td>gas</td>\n",
       "      <td>std</td>\n",
       "      <td>two</td>\n",
       "      <td>convertible</td>\n",
       "      <td>rwd</td>\n",
       "      <td>front</td>\n",
       "      <td>88.6</td>\n",
       "      <td>168.8</td>\n",
       "      <td>...</td>\n",
       "      <td>9.0</td>\n",
       "      <td>111</td>\n",
       "      <td>5000</td>\n",
       "      <td>21</td>\n",
       "      <td>27</td>\n",
       "      <td>16500</td>\n",
       "      <td>alfa-romeo</td>\n",
       "      <td>ordinary</td>\n",
       "      <td>12830.140148</td>\n",
       "      <td>13842.478269</td>\n",
       "    </tr>\n",
       "    <tr>\n",
       "      <th>2</th>\n",
       "      <td>3</td>\n",
       "      <td>1</td>\n",
       "      <td>gas</td>\n",
       "      <td>std</td>\n",
       "      <td>two</td>\n",
       "      <td>hatchback</td>\n",
       "      <td>rwd</td>\n",
       "      <td>front</td>\n",
       "      <td>94.5</td>\n",
       "      <td>171.2</td>\n",
       "      <td>...</td>\n",
       "      <td>9.0</td>\n",
       "      <td>154</td>\n",
       "      <td>5000</td>\n",
       "      <td>19</td>\n",
       "      <td>26</td>\n",
       "      <td>16500</td>\n",
       "      <td>alfa-romeo</td>\n",
       "      <td>ordinary</td>\n",
       "      <td>18415.125100</td>\n",
       "      <td>18978.147751</td>\n",
       "    </tr>\n",
       "    <tr>\n",
       "      <th>3</th>\n",
       "      <td>4</td>\n",
       "      <td>2</td>\n",
       "      <td>gas</td>\n",
       "      <td>std</td>\n",
       "      <td>four</td>\n",
       "      <td>sedan</td>\n",
       "      <td>fwd</td>\n",
       "      <td>front</td>\n",
       "      <td>99.8</td>\n",
       "      <td>176.6</td>\n",
       "      <td>...</td>\n",
       "      <td>10.0</td>\n",
       "      <td>102</td>\n",
       "      <td>5500</td>\n",
       "      <td>24</td>\n",
       "      <td>30</td>\n",
       "      <td>13950</td>\n",
       "      <td>audi</td>\n",
       "      <td>ordinary</td>\n",
       "      <td>11131.888319</td>\n",
       "      <td>10721.878046</td>\n",
       "    </tr>\n",
       "    <tr>\n",
       "      <th>4</th>\n",
       "      <td>5</td>\n",
       "      <td>2</td>\n",
       "      <td>gas</td>\n",
       "      <td>std</td>\n",
       "      <td>four</td>\n",
       "      <td>sedan</td>\n",
       "      <td>4wd</td>\n",
       "      <td>front</td>\n",
       "      <td>99.4</td>\n",
       "      <td>176.6</td>\n",
       "      <td>...</td>\n",
       "      <td>8.0</td>\n",
       "      <td>115</td>\n",
       "      <td>5500</td>\n",
       "      <td>18</td>\n",
       "      <td>22</td>\n",
       "      <td>17450</td>\n",
       "      <td>audi</td>\n",
       "      <td>ordinary</td>\n",
       "      <td>15365.681176</td>\n",
       "      <td>15723.214753</td>\n",
       "    </tr>\n",
       "    <tr>\n",
       "      <th>...</th>\n",
       "      <td>...</td>\n",
       "      <td>...</td>\n",
       "      <td>...</td>\n",
       "      <td>...</td>\n",
       "      <td>...</td>\n",
       "      <td>...</td>\n",
       "      <td>...</td>\n",
       "      <td>...</td>\n",
       "      <td>...</td>\n",
       "      <td>...</td>\n",
       "      <td>...</td>\n",
       "      <td>...</td>\n",
       "      <td>...</td>\n",
       "      <td>...</td>\n",
       "      <td>...</td>\n",
       "      <td>...</td>\n",
       "      <td>...</td>\n",
       "      <td>...</td>\n",
       "      <td>...</td>\n",
       "      <td>...</td>\n",
       "      <td>...</td>\n",
       "    </tr>\n",
       "    <tr>\n",
       "      <th>200</th>\n",
       "      <td>201</td>\n",
       "      <td>-1</td>\n",
       "      <td>gas</td>\n",
       "      <td>std</td>\n",
       "      <td>four</td>\n",
       "      <td>sedan</td>\n",
       "      <td>rwd</td>\n",
       "      <td>front</td>\n",
       "      <td>109.1</td>\n",
       "      <td>188.8</td>\n",
       "      <td>...</td>\n",
       "      <td>9.5</td>\n",
       "      <td>114</td>\n",
       "      <td>5400</td>\n",
       "      <td>23</td>\n",
       "      <td>28</td>\n",
       "      <td>16845</td>\n",
       "      <td>volvo</td>\n",
       "      <td>ordinary</td>\n",
       "      <td>17483.555626</td>\n",
       "      <td>16644.477176</td>\n",
       "    </tr>\n",
       "    <tr>\n",
       "      <th>201</th>\n",
       "      <td>202</td>\n",
       "      <td>-1</td>\n",
       "      <td>gas</td>\n",
       "      <td>turbo</td>\n",
       "      <td>four</td>\n",
       "      <td>sedan</td>\n",
       "      <td>rwd</td>\n",
       "      <td>front</td>\n",
       "      <td>109.1</td>\n",
       "      <td>188.8</td>\n",
       "      <td>...</td>\n",
       "      <td>8.7</td>\n",
       "      <td>160</td>\n",
       "      <td>5300</td>\n",
       "      <td>19</td>\n",
       "      <td>25</td>\n",
       "      <td>19045</td>\n",
       "      <td>volvo</td>\n",
       "      <td>ordinary</td>\n",
       "      <td>19929.103421</td>\n",
       "      <td>19300.290806</td>\n",
       "    </tr>\n",
       "    <tr>\n",
       "      <th>202</th>\n",
       "      <td>203</td>\n",
       "      <td>-1</td>\n",
       "      <td>gas</td>\n",
       "      <td>std</td>\n",
       "      <td>four</td>\n",
       "      <td>sedan</td>\n",
       "      <td>rwd</td>\n",
       "      <td>front</td>\n",
       "      <td>109.1</td>\n",
       "      <td>188.8</td>\n",
       "      <td>...</td>\n",
       "      <td>8.8</td>\n",
       "      <td>134</td>\n",
       "      <td>5500</td>\n",
       "      <td>18</td>\n",
       "      <td>23</td>\n",
       "      <td>21485</td>\n",
       "      <td>volvo</td>\n",
       "      <td>ordinary</td>\n",
       "      <td>21199.917464</td>\n",
       "      <td>20591.319781</td>\n",
       "    </tr>\n",
       "    <tr>\n",
       "      <th>203</th>\n",
       "      <td>204</td>\n",
       "      <td>-1</td>\n",
       "      <td>diesel</td>\n",
       "      <td>turbo</td>\n",
       "      <td>four</td>\n",
       "      <td>sedan</td>\n",
       "      <td>rwd</td>\n",
       "      <td>front</td>\n",
       "      <td>109.1</td>\n",
       "      <td>188.8</td>\n",
       "      <td>...</td>\n",
       "      <td>23.0</td>\n",
       "      <td>106</td>\n",
       "      <td>4800</td>\n",
       "      <td>26</td>\n",
       "      <td>27</td>\n",
       "      <td>22470</td>\n",
       "      <td>volvo</td>\n",
       "      <td>ordinary</td>\n",
       "      <td>17986.504844</td>\n",
       "      <td>17723.606326</td>\n",
       "    </tr>\n",
       "    <tr>\n",
       "      <th>204</th>\n",
       "      <td>205</td>\n",
       "      <td>-1</td>\n",
       "      <td>gas</td>\n",
       "      <td>turbo</td>\n",
       "      <td>four</td>\n",
       "      <td>sedan</td>\n",
       "      <td>rwd</td>\n",
       "      <td>front</td>\n",
       "      <td>109.1</td>\n",
       "      <td>188.8</td>\n",
       "      <td>...</td>\n",
       "      <td>9.5</td>\n",
       "      <td>114</td>\n",
       "      <td>5400</td>\n",
       "      <td>19</td>\n",
       "      <td>25</td>\n",
       "      <td>22625</td>\n",
       "      <td>volvo</td>\n",
       "      <td>ordinary</td>\n",
       "      <td>17833.118466</td>\n",
       "      <td>17113.360474</td>\n",
       "    </tr>\n",
       "  </tbody>\n",
       "</table>\n",
       "<p>205 rows × 29 columns</p>\n",
       "</div>"
      ],
      "text/plain": [
       "     car_ID  symboling fueltype aspiration doornumber      carbody drivewheel  \\\n",
       "0         1          3      gas        std        two  convertible        rwd   \n",
       "1         2          3      gas        std        two  convertible        rwd   \n",
       "2         3          1      gas        std        two    hatchback        rwd   \n",
       "3         4          2      gas        std       four        sedan        fwd   \n",
       "4         5          2      gas        std       four        sedan        4wd   \n",
       "..      ...        ...      ...        ...        ...          ...        ...   \n",
       "200     201         -1      gas        std       four        sedan        rwd   \n",
       "201     202         -1      gas      turbo       four        sedan        rwd   \n",
       "202     203         -1      gas        std       four        sedan        rwd   \n",
       "203     204         -1   diesel      turbo       four        sedan        rwd   \n",
       "204     205         -1      gas      turbo       four        sedan        rwd   \n",
       "\n",
       "    enginelocation  wheelbase  carlength  ...  compressionratio  horsepower  \\\n",
       "0            front       88.6      168.8  ...               9.0         111   \n",
       "1            front       88.6      168.8  ...               9.0         111   \n",
       "2            front       94.5      171.2  ...               9.0         154   \n",
       "3            front       99.8      176.6  ...              10.0         102   \n",
       "4            front       99.4      176.6  ...               8.0         115   \n",
       "..             ...        ...        ...  ...               ...         ...   \n",
       "200          front      109.1      188.8  ...               9.5         114   \n",
       "201          front      109.1      188.8  ...               8.7         160   \n",
       "202          front      109.1      188.8  ...               8.8         134   \n",
       "203          front      109.1      188.8  ...              23.0         106   \n",
       "204          front      109.1      188.8  ...               9.5         114   \n",
       "\n",
       "     peakrpm citympg highwaympg  price       Brand  price_level         Pred1  \\\n",
       "0       5000      21         27  13495  alfa-romeo     ordinary  12830.140148   \n",
       "1       5000      21         27  16500  alfa-romeo     ordinary  12830.140148   \n",
       "2       5000      19         26  16500  alfa-romeo     ordinary  18415.125100   \n",
       "3       5500      24         30  13950        audi     ordinary  11131.888319   \n",
       "4       5500      18         22  17450        audi     ordinary  15365.681176   \n",
       "..       ...     ...        ...    ...         ...          ...           ...   \n",
       "200     5400      23         28  16845       volvo     ordinary  17483.555626   \n",
       "201     5300      19         25  19045       volvo     ordinary  19929.103421   \n",
       "202     5500      18         23  21485       volvo     ordinary  21199.917464   \n",
       "203     4800      26         27  22470       volvo     ordinary  17986.504844   \n",
       "204     5400      19         25  22625       volvo     ordinary  17833.118466   \n",
       "\n",
       "            Pred2  \n",
       "0    13842.478269  \n",
       "1    13842.478269  \n",
       "2    18978.147751  \n",
       "3    10721.878046  \n",
       "4    15723.214753  \n",
       "..            ...  \n",
       "200  16644.477176  \n",
       "201  19300.290806  \n",
       "202  20591.319781  \n",
       "203  17723.606326  \n",
       "204  17113.360474  \n",
       "\n",
       "[205 rows x 29 columns]"
      ]
     },
     "execution_count": 27,
     "metadata": {},
     "output_type": "execute_result"
    }
   ],
   "source": [
    "df"
   ]
  },
  {
   "cell_type": "code",
   "execution_count": 28,
   "metadata": {
    "cell_id": "e26e83ddbc4e4872a2454f00988f18c4",
    "deepnote_cell_type": "code",
    "deepnote_to_be_reexecuted": false,
    "execution_millis": 6,
    "execution_start": 1670310948562,
    "source_hash": "b6aa95b2",
    "tags": []
   },
   "outputs": [
    {
     "data": {
      "text/plain": [
       "-13463.82073148018"
      ]
     },
     "execution_count": 28,
     "metadata": {},
     "output_type": "execute_result"
    }
   ],
   "source": [
    "reg2.intercept_"
   ]
  },
  {
   "cell_type": "code",
   "execution_count": 29,
   "metadata": {
    "cell_id": "f4c506b53de04b4eaea4695dae16fec3",
    "deepnote_cell_type": "code",
    "deepnote_to_be_reexecuted": false,
    "execution_millis": 5,
    "execution_start": 1670310948568,
    "source_hash": "59aadfbd",
    "tags": []
   },
   "outputs": [
    {
     "data": {
      "text/plain": [
       "array([84.87987456,  4.26257543, 48.74660463])"
      ]
     },
     "execution_count": 29,
     "metadata": {},
     "output_type": "execute_result"
    }
   ],
   "source": [
    "reg2.coef_"
   ]
  },
  {
   "cell_type": "code",
   "execution_count": 30,
   "metadata": {
    "cell_id": "84e40b9e440747de8b420dcc6e2ac75a",
    "deepnote_cell_type": "code",
    "deepnote_to_be_reexecuted": false,
    "execution_millis": 30,
    "execution_start": 1670310948573,
    "source_hash": "64082a92",
    "tags": []
   },
   "outputs": [],
   "source": [
    "std= StandardScaler()\n",
    "std.fit(df[cols2])\n",
    "X= std.transform(df[cols2])"
   ]
  },
  {
   "cell_type": "code",
   "execution_count": 31,
   "metadata": {
    "cell_id": "33e8cb9d1ee64a338b53ff6f273e277f",
    "deepnote_cell_type": "code",
    "deepnote_to_be_reexecuted": false,
    "execution_millis": 0,
    "execution_start": 1670310948631,
    "source_hash": "a7a79dde",
    "tags": []
   },
   "outputs": [],
   "source": [
    "y=df[\"price\"]"
   ]
  },
  {
   "cell_type": "code",
   "execution_count": 32,
   "metadata": {
    "cell_id": "678a44f6dae84ddbae1af88065a5c1fe",
    "deepnote_cell_type": "code",
    "deepnote_to_be_reexecuted": false,
    "execution_millis": 1,
    "execution_start": 1670310948631,
    "source_hash": "2b8f8c85",
    "tags": []
   },
   "outputs": [],
   "source": [
    "X_train,X_test,y_train,y_test = train_test_split(X,y,test_size = 0.9, random_state=0)"
   ]
  },
  {
   "cell_type": "code",
   "execution_count": 33,
   "metadata": {
    "cell_id": "ef78aedc82314da6ac241fc190035fc3",
    "deepnote_cell_type": "code",
    "deepnote_to_be_reexecuted": false,
    "execution_millis": 2,
    "execution_start": 1670310948632,
    "source_hash": "83f8c40",
    "tags": []
   },
   "outputs": [
    {
     "data": {
      "text/plain": [
       "(205, 3)"
      ]
     },
     "execution_count": 33,
     "metadata": {},
     "output_type": "execute_result"
    }
   ],
   "source": [
    "X.shape"
   ]
  },
  {
   "cell_type": "code",
   "execution_count": 34,
   "metadata": {
    "cell_id": "77cecbe8b3914f13b73409305dc9b4cd",
    "deepnote_cell_type": "code",
    "deepnote_to_be_reexecuted": false,
    "execution_millis": 17,
    "execution_start": 1670310948633,
    "source_hash": "ae5a24a1",
    "tags": []
   },
   "outputs": [
    {
     "data": {
      "text/plain": [
       "0.9087845055081182"
      ]
     },
     "execution_count": 34,
     "metadata": {},
     "output_type": "execute_result"
    }
   ],
   "source": [
    "M=LinearRegression()\n",
    "M.fit(X_train,y_train)\n",
    "M.score(X_train, y_train)"
   ]
  },
  {
   "cell_type": "code",
   "execution_count": 35,
   "metadata": {
    "cell_id": "b66859ff925d4cb6bae8d74d3cbb0c90",
    "deepnote_cell_type": "code",
    "deepnote_to_be_reexecuted": false,
    "execution_millis": 2,
    "execution_start": 1670310948649,
    "source_hash": "bfcac394",
    "tags": []
   },
   "outputs": [
    {
     "data": {
      "text/plain": [
       "0.49538808151370906"
      ]
     },
     "execution_count": 35,
     "metadata": {},
     "output_type": "execute_result"
    }
   ],
   "source": [
    "M.score(X_test, y_test)"
   ]
  },
  {
   "cell_type": "code",
   "execution_count": 36,
   "metadata": {
    "cell_id": "f835dead10e64eb8916e66a7d01eb025",
    "deepnote_cell_type": "code",
    "deepnote_to_be_reexecuted": false,
    "execution_millis": 1,
    "execution_start": 1670310948655,
    "source_hash": "f522680",
    "tags": []
   },
   "outputs": [
    {
     "name": "stdout",
     "output_type": "stream",
     "text": [
      " \n",
      "accuracy on Train score: 90.9%\n",
      "accuracy on Test score: 49.5%\n",
      "\n"
     ]
    }
   ],
   "source": [
    "print(f''' \n",
    "accuracy on Train score: {M.score(X_train, y_train):.1%}\n",
    "accuracy on Test score: {M.score(X_test, y_test):.1%}\n",
    "''')"
   ]
  },
  {
   "cell_type": "code",
   "execution_count": 37,
   "metadata": {
    "cell_id": "ef4c90e5f50a4b7781fb074e140bdb74",
    "deepnote_cell_type": "code",
    "deepnote_to_be_reexecuted": false,
    "execution_millis": 1,
    "execution_start": 1670310948702,
    "source_hash": "3294b84e",
    "tags": []
   },
   "outputs": [],
   "source": [
    "pred=M.predict(X_test)"
   ]
  },
  {
   "cell_type": "code",
   "execution_count": 38,
   "metadata": {
    "cell_id": "6c992e49be2142038fe831bdafc2dd10",
    "deepnote_cell_type": "code",
    "deepnote_to_be_reexecuted": false,
    "execution_millis": 6,
    "execution_start": 1670310948704,
    "source_hash": "55cede1b",
    "tags": []
   },
   "outputs": [
    {
     "data": {
      "text/plain": [
       "32337410.48764465"
      ]
     },
     "execution_count": 38,
     "metadata": {},
     "output_type": "execute_result"
    }
   ],
   "source": [
    "mean_squared_error(y_test, pred)"
   ]
  },
  {
   "cell_type": "code",
   "execution_count": 39,
   "metadata": {
    "cell_id": "a1f6a889362f4ec2b922d222051b5c74",
    "deepnote_cell_type": "code",
    "deepnote_to_be_reexecuted": false,
    "execution_millis": 3,
    "execution_start": 1670310948714,
    "source_hash": "63a87371",
    "tags": []
   },
   "outputs": [
    {
     "data": {
      "text/plain": [
       "0.49538808151370906"
      ]
     },
     "execution_count": 39,
     "metadata": {},
     "output_type": "execute_result"
    }
   ],
   "source": [
    "r2_score(y_test,pred)"
   ]
  },
  {
   "cell_type": "markdown",
   "metadata": {
    "cell_id": "7361455ba6bb484da000447e0d8e172a",
    "deepnote_cell_type": "text-cell-p",
    "formattedRanges": [],
    "is_collapsed": false,
    "tags": []
   },
   "source": [
    "The model accounted for nearly 91% of the variance of the training data. But the score of testing data is too low, so it is not appropriate."
   ]
  },
  {
   "cell_type": "markdown",
   "metadata": {
    "cell_id": "dfac656652e041d6ac21187903f7844d",
    "deepnote_cell_type": "text-cell-h3",
    "formattedRanges": [],
    "is_collapsed": false,
    "tags": []
   },
   "source": [
    "### Summary"
   ]
  },
  {
   "cell_type": "markdown",
   "metadata": {
    "cell_id": "6c79d2d51a9248f9b0177c2a7684ae01",
    "deepnote_cell_type": "text-cell-p",
    "formattedRanges": [],
    "is_collapsed": false,
    "tags": []
   },
   "source": [
    "I built a linear regression model to predict future car prices. After comparing the influence of various factors on the final result, I identified three key factors, namely enginesize, curbweight and horsepower. It is also found that citympg, highwaympg and price will be negatively correlated. Based on the analysis of the three main factors, the results show that the accuracy of the model is nearly 91% on the training data set and about 50% on the test data set. The R square of the model is about 50%."
   ]
  },
  {
   "cell_type": "markdown",
   "metadata": {
    "cell_id": "eae10ce479cb4af4951bf068ea2fb128",
    "deepnote_cell_type": "text-cell-h3",
    "formattedRanges": [],
    "is_collapsed": false,
    "tags": []
   },
   "source": [
    "### Reference"
   ]
  },
  {
   "cell_type": "markdown",
   "metadata": {
    "cell_id": "0fbfda190efe4355a07b6afb16f7f212",
    "deepnote_cell_type": "text-cell-p",
    "formattedRanges": [
     {
      "fromCodePoint": 11,
      "ranges": [],
      "toCodePoint": 69,
      "type": "link",
      "url": "https://www.kaggle.com/datasets/gagandeep16/car-sales/code"
     }
    ],
    "is_collapsed": false,
    "tags": []
   },
   "source": [
    "Dataframe: https://www.kaggle.com/datasets/gagandeep16/car-sales/code"
   ]
  },
  {
   "cell_type": "markdown",
   "metadata": {
    "cell_id": "2936fb983da746d6a4843732e93ea2d9",
    "deepnote_cell_type": "text-cell-p",
    "formattedRanges": [
     {
      "fromCodePoint": 8,
      "ranges": [],
      "toCodePoint": 49,
      "type": "link",
      "url": "https://plotly.com/python/plotly-express/"
     },
     {
      "fromCodePoint": 49,
      "ranges": [],
      "toCodePoint": 49,
      "type": "link",
      "url": "https://plotly.com/python/plotly-express/"
     }
    ],
    "is_collapsed": false,
    "tags": []
   },
   "source": [
    "Plotly: https://plotly.com/python/plotly-express/"
   ]
  },
  {
   "cell_type": "markdown",
   "metadata": {
    "cell_id": "dab031f94af543d69354b754c29676bc",
    "deepnote_cell_type": "text-cell-p",
    "formattedRanges": [
     {
      "fromCodePoint": 17,
      "ranges": [],
      "toCodePoint": 115,
      "type": "link",
      "url": "https://machinelearningknowledge.ai/seaborn-heatmap-using-sns-heatmap-with-examples-for-beginners/"
     }
    ],
    "is_collapsed": false,
    "tags": []
   },
   "source": [
    "seaborn heatmap: https://machinelearningknowledge.ai/seaborn-heatmap-using-sns-heatmap-with-examples-for-beginners/"
   ]
  },
  {
   "cell_type": "markdown",
   "metadata": {
    "cell_id": "ccb36c68cf794c1f8f6272fafe8d14c6",
    "deepnote_cell_type": "text-cell-p",
    "formattedRanges": [
     {
      "fromCodePoint": 11,
      "ranges": [],
      "toCodePoint": 85,
      "type": "link",
      "url": "https://pandas.pydata.org/pandas-docs/stable/reference/api/pandas.cut.html"
     }
    ],
    "is_collapsed": false,
    "tags": []
   },
   "source": [
    "pandas.cut:https://pandas.pydata.org/pandas-docs/stable/reference/api/pandas.cut.html"
   ]
  },
  {
   "cell_type": "markdown",
   "metadata": {
    "cell_id": "e05b1b87ecb74e238c2a8f18f25bfbfe",
    "deepnote_cell_type": "text-cell-p",
    "formattedRanges": [
     {
      "fromCodePoint": 15,
      "ranges": [],
      "toCodePoint": 89,
      "type": "link",
      "url": " https://pandas.pydata.org/docs/reference/api/pandas.DataFrame.astype.html"
     }
    ],
    "is_collapsed": false,
    "tags": []
   },
   "source": [
    "pandas.astype:  https://pandas.pydata.org/docs/reference/api/pandas.DataFrame.astype.html"
   ]
  },
  {
   "cell_type": "markdown",
   "metadata": {
    "created_in_deepnote_cell": true,
    "deepnote_cell_type": "markdown",
    "tags": []
   },
   "source": [
    "<a style='text-decoration:none;line-height:16px;display:flex;color:#5B5B62;padding:10px;justify-content:end;' href='https://deepnote.com?utm_source=created-in-deepnote-cell&projectId=f620a85d-d1ca-4f8c-a911-f5e4c03dc368' target=\"_blank\">\n",
    "<img alt='Created in deepnote.com' style='display:inline;max-height:16px;margin:0px;margin-right:7.5px;' src='data:image/svg+xml;base64,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' > </img>\n",
    "Created in <span style='font-weight:600;margin-left:4px;'>Deepnote</span></a>"
   ]
  }
 ],
 "metadata": {
  "deepnote": {},
  "deepnote_execution_queue": [],
  "deepnote_notebook_id": "b568b354fbb4492587784a16fdf28e49",
  "deepnote_persisted_session": {
   "createdAt": "2022-12-07T00:16:43.200Z"
  },
  "kernelspec": {
   "display_name": "Python 3 (ipykernel)",
   "language": "python",
   "name": "python3"
  },
  "language_info": {
   "codemirror_mode": {
    "name": "ipython",
    "version": 3
   },
   "file_extension": ".py",
   "mimetype": "text/x-python",
   "name": "python",
   "nbconvert_exporter": "python",
   "pygments_lexer": "ipython3",
   "version": "3.9.13"
  }
 },
 "nbformat": 4,
 "nbformat_minor": 4
}
