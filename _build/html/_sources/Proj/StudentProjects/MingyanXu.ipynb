{
 "cells": [
  {
   "cell_type": "markdown",
   "metadata": {
    "cell_id": "70883f7c1c88453083bc2b278e3c491b",
    "deepnote_cell_type": "markdown",
    "tags": []
   },
   "source": [
    "# The relationship and prediction between Pokemon's stats and generation\n",
    "\n",
    "Author: Mingyan Xu\n",
    "\n",
    "Course Project, UC Irvine, Math 10, F22"
   ]
  },
  {
   "cell_type": "markdown",
   "metadata": {
    "cell_id": "e14fbd7ec779411c9772c012c9910211",
    "deepnote_cell_type": "markdown",
    "tags": []
   },
   "source": [
    "## Introduction\n",
    "\n",
    "Introduce your project here.  Maybe 3 sentences.\n",
    "\n",
    "From other's project in the past quarter, I found that there were some analysis about Pokemon, which was one of my favorite games, so I chose to explore more about this dataset. The main topic I choose is to find the relationship between the generations and the each stats for pokemons, and study whether the strength of Pokemon has become stronger through generations. In addition, I will try to predict the trend on designing new generation pokemon, such as their type and stats."
   ]
  },
  {
   "cell_type": "markdown",
   "metadata": {
    "cell_id": "8b193e9ab0a848a5b1a35bdd63038a10",
    "deepnote_cell_type": "markdown",
    "tags": []
   },
   "source": [
    "## Import Section"
   ]
  },
  {
   "cell_type": "code",
   "execution_count": 1,
   "metadata": {
    "cell_id": "ce2158dd75574f529d1ea57b64d07089",
    "deepnote_cell_type": "code",
    "deepnote_to_be_reexecuted": false,
    "execution_millis": 2104,
    "execution_start": 1670317131086,
    "source_hash": "a60365bf",
    "tags": []
   },
   "outputs": [],
   "source": [
    "import pandas as pd\n",
    "import altair as alt\n",
    "import numpy as np\n",
    "import matplotlib.pyplot as plt\n",
    "import seaborn as sns\n",
    "\n",
    "from sklearn.cluster import KMeans\n",
    "from sklearn.linear_model import LinearRegression\n",
    "from sklearn.linear_model import LogisticRegression\n",
    "from sklearn.tree import DecisionTreeRegressor\n",
    "from sklearn.ensemble import RandomForestRegressor\n",
    "\n",
    "from sklearn.model_selection import train_test_split\n",
    "from sklearn.metrics import mean_squared_error"
   ]
  },
  {
   "cell_type": "markdown",
   "metadata": {
    "cell_id": "ab5bad45e78c42c69e90dd585cbf7b4f",
    "deepnote_cell_type": "markdown",
    "tags": []
   },
   "source": [
    "## Feature Engineering"
   ]
  },
  {
   "cell_type": "markdown",
   "metadata": {
    "cell_id": "58415d7c1f444774a13f1de1996d2fe3",
    "deepnote_cell_type": "markdown",
    "tags": []
   },
   "source": [
    "This dataset contains the general information of 800 different pokemons, including their names, types, HP, attack, defense and other stats."
   ]
  },
  {
   "cell_type": "code",
   "execution_count": 2,
   "metadata": {
    "cell_id": "685880b941df4c4b8ac27248d192ffb2",
    "deepnote_cell_type": "code",
    "deepnote_to_be_reexecuted": false,
    "execution_millis": 40,
    "execution_start": 1670317133232,
    "source_hash": "49025b5a",
    "tags": []
   },
   "outputs": [
    {
     "data": {
      "application/vnd.deepnote.dataframe.v3+json": {
       "column_count": 13,
       "columns": [
        {
         "dtype": "int64",
         "name": "#",
         "stats": {
          "histogram": [
           {
            "bin_end": 73,
            "bin_start": 1,
            "count": 79
           },
           {
            "bin_end": 145,
            "bin_start": 73,
            "count": 78
           },
           {
            "bin_end": 217,
            "bin_start": 145,
            "count": 78
           },
           {
            "bin_end": 289,
            "bin_start": 217,
            "count": 78
           },
           {
            "bin_end": 361,
            "bin_start": 289,
            "count": 82
           },
           {
            "bin_end": 433,
            "bin_start": 361,
            "count": 86
           },
           {
            "bin_end": 505,
            "bin_start": 433,
            "count": 83
           },
           {
            "bin_end": 577,
            "bin_start": 505,
            "count": 74
           },
           {
            "bin_end": 649,
            "bin_start": 577,
            "count": 79
           },
           {
            "bin_end": 721,
            "bin_start": 649,
            "count": 83
           }
          ],
          "max": "721",
          "min": "1",
          "nan_count": 0,
          "unique_count": 721
         }
        },
        {
         "dtype": "object",
         "name": "Name",
         "stats": {
          "categories": [
           {
            "count": 1,
            "name": "Bulbasaur"
           },
           {
            "count": 1,
            "name": "Ivysaur"
           },
           {
            "count": 798,
            "name": "798 others"
           }
          ],
          "nan_count": 0,
          "unique_count": 800
         }
        },
        {
         "dtype": "object",
         "name": "Type 1",
         "stats": {
          "categories": [
           {
            "count": 112,
            "name": "Water"
           },
           {
            "count": 98,
            "name": "Normal"
           },
           {
            "count": 590,
            "name": "16 others"
           }
          ],
          "nan_count": 0,
          "unique_count": 18
         }
        },
        {
         "dtype": "object",
         "name": "Type 2",
         "stats": {
          "categories": [
           {
            "count": 97,
            "name": "Flying"
           },
           {
            "count": 317,
            "name": "17 others"
           },
           {
            "count": 386,
            "name": "Missing"
           }
          ],
          "nan_count": 386,
          "unique_count": 18
         }
        },
        {
         "dtype": "int64",
         "name": "Total",
         "stats": {
          "histogram": [
           {
            "bin_end": 240,
            "bin_start": 180,
            "count": 29
           },
           {
            "bin_end": 300,
            "bin_start": 240,
            "count": 73
           },
           {
            "bin_end": 360,
            "bin_start": 300,
            "count": 154
           },
           {
            "bin_end": 420,
            "bin_start": 360,
            "count": 97
           },
           {
            "bin_end": 480,
            "bin_start": 420,
            "count": 115
           },
           {
            "bin_end": 540,
            "bin_start": 480,
            "count": 198
           },
           {
            "bin_end": 600,
            "bin_start": 540,
            "count": 49
           },
           {
            "bin_end": 660,
            "bin_start": 600,
            "count": 52
           },
           {
            "bin_end": 720,
            "bin_start": 660,
            "count": 27
           },
           {
            "bin_end": 780,
            "bin_start": 720,
            "count": 6
           }
          ],
          "max": "780",
          "min": "180",
          "nan_count": 0,
          "unique_count": 200
         }
        },
        {
         "dtype": "int64",
         "name": "HP",
         "stats": {
          "histogram": [
           {
            "bin_end": 26.4,
            "bin_start": 1,
            "count": 10
           },
           {
            "bin_end": 51.8,
            "bin_start": 26.4,
            "count": 202
           },
           {
            "bin_end": 77.19999999999999,
            "bin_start": 51.8,
            "count": 336
           },
           {
            "bin_end": 102.6,
            "bin_start": 77.19999999999999,
            "count": 186
           },
           {
            "bin_end": 128,
            "bin_start": 102.6,
            "count": 50
           },
           {
            "bin_end": 153.39999999999998,
            "bin_start": 128,
            "count": 10
           },
           {
            "bin_end": 178.79999999999998,
            "bin_start": 153.39999999999998,
            "count": 3
           },
           {
            "bin_end": 204.2,
            "bin_start": 178.79999999999998,
            "count": 1
           },
           {
            "bin_end": 229.6,
            "bin_start": 204.2,
            "count": 0
           },
           {
            "bin_end": 255,
            "bin_start": 229.6,
            "count": 2
           }
          ],
          "max": "255",
          "min": "1",
          "nan_count": 0,
          "unique_count": 94
         }
        },
        {
         "dtype": "int64",
         "name": "Attack",
         "stats": {
          "histogram": [
           {
            "bin_end": 23.5,
            "bin_start": 5,
            "count": 16
           },
           {
            "bin_end": 42,
            "bin_start": 23.5,
            "count": 71
           },
           {
            "bin_end": 60.5,
            "bin_start": 42,
            "count": 173
           },
           {
            "bin_end": 79,
            "bin_start": 60.5,
            "count": 161
           },
           {
            "bin_end": 97.5,
            "bin_start": 79,
            "count": 166
           },
           {
            "bin_end": 116,
            "bin_start": 97.5,
            "count": 101
           },
           {
            "bin_end": 134.5,
            "bin_start": 116,
            "count": 65
           },
           {
            "bin_end": 153,
            "bin_start": 134.5,
            "count": 29
           },
           {
            "bin_end": 171.5,
            "bin_start": 153,
            "count": 13
           },
           {
            "bin_end": 190,
            "bin_start": 171.5,
            "count": 5
           }
          ],
          "max": "190",
          "min": "5",
          "nan_count": 0,
          "unique_count": 111
         }
        },
        {
         "dtype": "int64",
         "name": "Defense",
         "stats": {
          "histogram": [
           {
            "bin_end": 27.5,
            "bin_start": 5,
            "count": 14
           },
           {
            "bin_end": 50,
            "bin_start": 27.5,
            "count": 149
           },
           {
            "bin_end": 72.5,
            "bin_start": 50,
            "count": 283
           },
           {
            "bin_end": 95,
            "bin_start": 72.5,
            "count": 170
           },
           {
            "bin_end": 117.5,
            "bin_start": 95,
            "count": 111
           },
           {
            "bin_end": 140,
            "bin_start": 117.5,
            "count": 45
           },
           {
            "bin_end": 162.5,
            "bin_start": 140,
            "count": 18
           },
           {
            "bin_end": 185,
            "bin_start": 162.5,
            "count": 5
           },
           {
            "bin_end": 207.5,
            "bin_start": 185,
            "count": 2
           },
           {
            "bin_end": 230,
            "bin_start": 207.5,
            "count": 3
           }
          ],
          "max": "230",
          "min": "5",
          "nan_count": 0,
          "unique_count": 103
         }
        },
        {
         "dtype": "int64",
         "name": "Sp. Atk",
         "stats": {
          "histogram": [
           {
            "bin_end": 28.4,
            "bin_start": 10,
            "count": 31
           },
           {
            "bin_end": 46.8,
            "bin_start": 28.4,
            "count": 162
           },
           {
            "bin_end": 65.19999999999999,
            "bin_start": 46.8,
            "count": 218
           },
           {
            "bin_end": 83.6,
            "bin_start": 65.19999999999999,
            "count": 121
           },
           {
            "bin_end": 102,
            "bin_start": 83.6,
            "count": 123
           },
           {
            "bin_end": 120.39999999999999,
            "bin_start": 102,
            "count": 75
           },
           {
            "bin_end": 138.79999999999998,
            "bin_start": 120.39999999999999,
            "count": 38
           },
           {
            "bin_end": 157.2,
            "bin_start": 138.79999999999998,
            "count": 19
           },
           {
            "bin_end": 175.6,
            "bin_start": 157.2,
            "count": 9
           },
           {
            "bin_end": 194,
            "bin_start": 175.6,
            "count": 4
           }
          ],
          "max": "194",
          "min": "10",
          "nan_count": 0,
          "unique_count": 105
         }
        },
        {
         "dtype": "int64",
         "name": "Sp. Def",
         "stats": {
          "histogram": [
           {
            "bin_end": 41,
            "bin_start": 20,
            "count": 97
           },
           {
            "bin_end": 62,
            "bin_start": 41,
            "count": 230
           },
           {
            "bin_end": 83,
            "bin_start": 62,
            "count": 223
           },
           {
            "bin_end": 104,
            "bin_start": 83,
            "count": 148
           },
           {
            "bin_end": 125,
            "bin_start": 104,
            "count": 67
           },
           {
            "bin_end": 146,
            "bin_start": 125,
            "count": 21
           },
           {
            "bin_end": 167,
            "bin_start": 146,
            "count": 12
           },
           {
            "bin_end": 188,
            "bin_start": 167,
            "count": 0
           },
           {
            "bin_end": 209,
            "bin_start": 188,
            "count": 1
           },
           {
            "bin_end": 230,
            "bin_start": 209,
            "count": 1
           }
          ],
          "max": "230",
          "min": "20",
          "nan_count": 0,
          "unique_count": 92
         }
        },
        {
         "dtype": "int64",
         "name": "Speed",
         "stats": {
          "histogram": [
           {
            "bin_end": 22.5,
            "bin_start": 5,
            "count": 30
           },
           {
            "bin_end": 40,
            "bin_start": 22.5,
            "count": 97
           },
           {
            "bin_end": 57.5,
            "bin_start": 40,
            "count": 183
           },
           {
            "bin_end": 75,
            "bin_start": 57.5,
            "count": 168
           },
           {
            "bin_end": 92.5,
            "bin_start": 75,
            "count": 144
           },
           {
            "bin_end": 110,
            "bin_start": 92.5,
            "count": 108
           },
           {
            "bin_end": 127.5,
            "bin_start": 110,
            "count": 50
           },
           {
            "bin_end": 145,
            "bin_start": 127.5,
            "count": 11
           },
           {
            "bin_end": 162.5,
            "bin_start": 145,
            "count": 8
           },
           {
            "bin_end": 180,
            "bin_start": 162.5,
            "count": 1
           }
          ],
          "max": "180",
          "min": "5",
          "nan_count": 0,
          "unique_count": 108
         }
        },
        {
         "dtype": "int64",
         "name": "Generation",
         "stats": {
          "histogram": [
           {
            "bin_end": 1.5,
            "bin_start": 1,
            "count": 166
           },
           {
            "bin_end": 2,
            "bin_start": 1.5,
            "count": 0
           },
           {
            "bin_end": 2.5,
            "bin_start": 2,
            "count": 106
           },
           {
            "bin_end": 3,
            "bin_start": 2.5,
            "count": 0
           },
           {
            "bin_end": 3.5,
            "bin_start": 3,
            "count": 160
           },
           {
            "bin_end": 4,
            "bin_start": 3.5,
            "count": 0
           },
           {
            "bin_end": 4.5,
            "bin_start": 4,
            "count": 121
           },
           {
            "bin_end": 5,
            "bin_start": 4.5,
            "count": 0
           },
           {
            "bin_end": 5.5,
            "bin_start": 5,
            "count": 165
           },
           {
            "bin_end": 6,
            "bin_start": 5.5,
            "count": 82
           }
          ],
          "max": "6",
          "min": "1",
          "nan_count": 0,
          "unique_count": 6
         }
        },
        {
         "dtype": "bool",
         "name": "Legendary",
         "stats": {
          "categories": [
           {
            "count": 735,
            "name": "False"
           },
           {
            "count": 65,
            "name": "True"
           }
          ],
          "nan_count": 0,
          "unique_count": 2
         }
        },
        {
         "dtype": "int64",
         "name": "_deepnote_index_column"
        }
       ],
       "row_count": 800,
       "rows": [
        {
         "#": "1",
         "Attack": "49",
         "Defense": "49",
         "Generation": "1",
         "HP": "45",
         "Legendary": "False",
         "Name": "Bulbasaur",
         "Sp. Atk": "65",
         "Sp. Def": "65",
         "Speed": "45",
         "Total": "318",
         "Type 1": "Grass",
         "Type 2": "Poison",
         "_deepnote_index_column": "0"
        },
        {
         "#": "2",
         "Attack": "62",
         "Defense": "63",
         "Generation": "1",
         "HP": "60",
         "Legendary": "False",
         "Name": "Ivysaur",
         "Sp. Atk": "80",
         "Sp. Def": "80",
         "Speed": "60",
         "Total": "405",
         "Type 1": "Grass",
         "Type 2": "Poison",
         "_deepnote_index_column": "1"
        },
        {
         "#": "3",
         "Attack": "82",
         "Defense": "83",
         "Generation": "1",
         "HP": "80",
         "Legendary": "False",
         "Name": "Venusaur",
         "Sp. Atk": "100",
         "Sp. Def": "100",
         "Speed": "80",
         "Total": "525",
         "Type 1": "Grass",
         "Type 2": "Poison",
         "_deepnote_index_column": "2"
        },
        {
         "#": "3",
         "Attack": "100",
         "Defense": "123",
         "Generation": "1",
         "HP": "80",
         "Legendary": "False",
         "Name": "VenusaurMega Venusaur",
         "Sp. Atk": "122",
         "Sp. Def": "120",
         "Speed": "80",
         "Total": "625",
         "Type 1": "Grass",
         "Type 2": "Poison",
         "_deepnote_index_column": "3"
        },
        {
         "#": "4",
         "Attack": "52",
         "Defense": "43",
         "Generation": "1",
         "HP": "39",
         "Legendary": "False",
         "Name": "Charmander",
         "Sp. Atk": "60",
         "Sp. Def": "50",
         "Speed": "65",
         "Total": "309",
         "Type 1": "Fire",
         "Type 2": "nan",
         "_deepnote_index_column": "4"
        },
        {
         "#": "5",
         "Attack": "64",
         "Defense": "58",
         "Generation": "1",
         "HP": "58",
         "Legendary": "False",
         "Name": "Charmeleon",
         "Sp. Atk": "80",
         "Sp. Def": "65",
         "Speed": "80",
         "Total": "405",
         "Type 1": "Fire",
         "Type 2": "nan",
         "_deepnote_index_column": "5"
        },
        {
         "#": "6",
         "Attack": "84",
         "Defense": "78",
         "Generation": "1",
         "HP": "78",
         "Legendary": "False",
         "Name": "Charizard",
         "Sp. Atk": "109",
         "Sp. Def": "85",
         "Speed": "100",
         "Total": "534",
         "Type 1": "Fire",
         "Type 2": "Flying",
         "_deepnote_index_column": "6"
        },
        {
         "#": "6",
         "Attack": "130",
         "Defense": "111",
         "Generation": "1",
         "HP": "78",
         "Legendary": "False",
         "Name": "CharizardMega Charizard X",
         "Sp. Atk": "130",
         "Sp. Def": "85",
         "Speed": "100",
         "Total": "634",
         "Type 1": "Fire",
         "Type 2": "Dragon",
         "_deepnote_index_column": "7"
        },
        {
         "#": "6",
         "Attack": "104",
         "Defense": "78",
         "Generation": "1",
         "HP": "78",
         "Legendary": "False",
         "Name": "CharizardMega Charizard Y",
         "Sp. Atk": "159",
         "Sp. Def": "115",
         "Speed": "100",
         "Total": "634",
         "Type 1": "Fire",
         "Type 2": "Flying",
         "_deepnote_index_column": "8"
        },
        {
         "#": "7",
         "Attack": "48",
         "Defense": "65",
         "Generation": "1",
         "HP": "44",
         "Legendary": "False",
         "Name": "Squirtle",
         "Sp. Atk": "50",
         "Sp. Def": "64",
         "Speed": "43",
         "Total": "314",
         "Type 1": "Water",
         "Type 2": "nan",
         "_deepnote_index_column": "9"
        }
       ]
      },
      "text/html": [
       "<div>\n",
       "<style scoped>\n",
       "    .dataframe tbody tr th:only-of-type {\n",
       "        vertical-align: middle;\n",
       "    }\n",
       "\n",
       "    .dataframe tbody tr th {\n",
       "        vertical-align: top;\n",
       "    }\n",
       "\n",
       "    .dataframe thead th {\n",
       "        text-align: right;\n",
       "    }\n",
       "</style>\n",
       "<table border=\"1\" class=\"dataframe\">\n",
       "  <thead>\n",
       "    <tr style=\"text-align: right;\">\n",
       "      <th></th>\n",
       "      <th>#</th>\n",
       "      <th>Name</th>\n",
       "      <th>Type 1</th>\n",
       "      <th>Type 2</th>\n",
       "      <th>Total</th>\n",
       "      <th>HP</th>\n",
       "      <th>Attack</th>\n",
       "      <th>Defense</th>\n",
       "      <th>Sp. Atk</th>\n",
       "      <th>Sp. Def</th>\n",
       "      <th>Speed</th>\n",
       "      <th>Generation</th>\n",
       "      <th>Legendary</th>\n",
       "    </tr>\n",
       "  </thead>\n",
       "  <tbody>\n",
       "    <tr>\n",
       "      <th>0</th>\n",
       "      <td>1</td>\n",
       "      <td>Bulbasaur</td>\n",
       "      <td>Grass</td>\n",
       "      <td>Poison</td>\n",
       "      <td>318</td>\n",
       "      <td>45</td>\n",
       "      <td>49</td>\n",
       "      <td>49</td>\n",
       "      <td>65</td>\n",
       "      <td>65</td>\n",
       "      <td>45</td>\n",
       "      <td>1</td>\n",
       "      <td>False</td>\n",
       "    </tr>\n",
       "    <tr>\n",
       "      <th>1</th>\n",
       "      <td>2</td>\n",
       "      <td>Ivysaur</td>\n",
       "      <td>Grass</td>\n",
       "      <td>Poison</td>\n",
       "      <td>405</td>\n",
       "      <td>60</td>\n",
       "      <td>62</td>\n",
       "      <td>63</td>\n",
       "      <td>80</td>\n",
       "      <td>80</td>\n",
       "      <td>60</td>\n",
       "      <td>1</td>\n",
       "      <td>False</td>\n",
       "    </tr>\n",
       "    <tr>\n",
       "      <th>2</th>\n",
       "      <td>3</td>\n",
       "      <td>Venusaur</td>\n",
       "      <td>Grass</td>\n",
       "      <td>Poison</td>\n",
       "      <td>525</td>\n",
       "      <td>80</td>\n",
       "      <td>82</td>\n",
       "      <td>83</td>\n",
       "      <td>100</td>\n",
       "      <td>100</td>\n",
       "      <td>80</td>\n",
       "      <td>1</td>\n",
       "      <td>False</td>\n",
       "    </tr>\n",
       "    <tr>\n",
       "      <th>3</th>\n",
       "      <td>3</td>\n",
       "      <td>VenusaurMega Venusaur</td>\n",
       "      <td>Grass</td>\n",
       "      <td>Poison</td>\n",
       "      <td>625</td>\n",
       "      <td>80</td>\n",
       "      <td>100</td>\n",
       "      <td>123</td>\n",
       "      <td>122</td>\n",
       "      <td>120</td>\n",
       "      <td>80</td>\n",
       "      <td>1</td>\n",
       "      <td>False</td>\n",
       "    </tr>\n",
       "    <tr>\n",
       "      <th>4</th>\n",
       "      <td>4</td>\n",
       "      <td>Charmander</td>\n",
       "      <td>Fire</td>\n",
       "      <td>NaN</td>\n",
       "      <td>309</td>\n",
       "      <td>39</td>\n",
       "      <td>52</td>\n",
       "      <td>43</td>\n",
       "      <td>60</td>\n",
       "      <td>50</td>\n",
       "      <td>65</td>\n",
       "      <td>1</td>\n",
       "      <td>False</td>\n",
       "    </tr>\n",
       "    <tr>\n",
       "      <th>...</th>\n",
       "      <td>...</td>\n",
       "      <td>...</td>\n",
       "      <td>...</td>\n",
       "      <td>...</td>\n",
       "      <td>...</td>\n",
       "      <td>...</td>\n",
       "      <td>...</td>\n",
       "      <td>...</td>\n",
       "      <td>...</td>\n",
       "      <td>...</td>\n",
       "      <td>...</td>\n",
       "      <td>...</td>\n",
       "      <td>...</td>\n",
       "    </tr>\n",
       "    <tr>\n",
       "      <th>795</th>\n",
       "      <td>719</td>\n",
       "      <td>Diancie</td>\n",
       "      <td>Rock</td>\n",
       "      <td>Fairy</td>\n",
       "      <td>600</td>\n",
       "      <td>50</td>\n",
       "      <td>100</td>\n",
       "      <td>150</td>\n",
       "      <td>100</td>\n",
       "      <td>150</td>\n",
       "      <td>50</td>\n",
       "      <td>6</td>\n",
       "      <td>True</td>\n",
       "    </tr>\n",
       "    <tr>\n",
       "      <th>796</th>\n",
       "      <td>719</td>\n",
       "      <td>DiancieMega Diancie</td>\n",
       "      <td>Rock</td>\n",
       "      <td>Fairy</td>\n",
       "      <td>700</td>\n",
       "      <td>50</td>\n",
       "      <td>160</td>\n",
       "      <td>110</td>\n",
       "      <td>160</td>\n",
       "      <td>110</td>\n",
       "      <td>110</td>\n",
       "      <td>6</td>\n",
       "      <td>True</td>\n",
       "    </tr>\n",
       "    <tr>\n",
       "      <th>797</th>\n",
       "      <td>720</td>\n",
       "      <td>HoopaHoopa Confined</td>\n",
       "      <td>Psychic</td>\n",
       "      <td>Ghost</td>\n",
       "      <td>600</td>\n",
       "      <td>80</td>\n",
       "      <td>110</td>\n",
       "      <td>60</td>\n",
       "      <td>150</td>\n",
       "      <td>130</td>\n",
       "      <td>70</td>\n",
       "      <td>6</td>\n",
       "      <td>True</td>\n",
       "    </tr>\n",
       "    <tr>\n",
       "      <th>798</th>\n",
       "      <td>720</td>\n",
       "      <td>HoopaHoopa Unbound</td>\n",
       "      <td>Psychic</td>\n",
       "      <td>Dark</td>\n",
       "      <td>680</td>\n",
       "      <td>80</td>\n",
       "      <td>160</td>\n",
       "      <td>60</td>\n",
       "      <td>170</td>\n",
       "      <td>130</td>\n",
       "      <td>80</td>\n",
       "      <td>6</td>\n",
       "      <td>True</td>\n",
       "    </tr>\n",
       "    <tr>\n",
       "      <th>799</th>\n",
       "      <td>721</td>\n",
       "      <td>Volcanion</td>\n",
       "      <td>Fire</td>\n",
       "      <td>Water</td>\n",
       "      <td>600</td>\n",
       "      <td>80</td>\n",
       "      <td>110</td>\n",
       "      <td>120</td>\n",
       "      <td>130</td>\n",
       "      <td>90</td>\n",
       "      <td>70</td>\n",
       "      <td>6</td>\n",
       "      <td>True</td>\n",
       "    </tr>\n",
       "  </tbody>\n",
       "</table>\n",
       "<p>800 rows × 13 columns</p>\n",
       "</div>"
      ],
      "text/plain": [
       "       #                   Name   Type 1  Type 2  Total  HP  Attack  Defense  \\\n",
       "0      1              Bulbasaur    Grass  Poison    318  45      49       49   \n",
       "1      2                Ivysaur    Grass  Poison    405  60      62       63   \n",
       "2      3               Venusaur    Grass  Poison    525  80      82       83   \n",
       "3      3  VenusaurMega Venusaur    Grass  Poison    625  80     100      123   \n",
       "4      4             Charmander     Fire     NaN    309  39      52       43   \n",
       "..   ...                    ...      ...     ...    ...  ..     ...      ...   \n",
       "795  719                Diancie     Rock   Fairy    600  50     100      150   \n",
       "796  719    DiancieMega Diancie     Rock   Fairy    700  50     160      110   \n",
       "797  720    HoopaHoopa Confined  Psychic   Ghost    600  80     110       60   \n",
       "798  720     HoopaHoopa Unbound  Psychic    Dark    680  80     160       60   \n",
       "799  721              Volcanion     Fire   Water    600  80     110      120   \n",
       "\n",
       "     Sp. Atk  Sp. Def  Speed  Generation  Legendary  \n",
       "0         65       65     45           1      False  \n",
       "1         80       80     60           1      False  \n",
       "2        100      100     80           1      False  \n",
       "3        122      120     80           1      False  \n",
       "4         60       50     65           1      False  \n",
       "..       ...      ...    ...         ...        ...  \n",
       "795      100      150     50           6       True  \n",
       "796      160      110    110           6       True  \n",
       "797      150      130     70           6       True  \n",
       "798      170      130     80           6       True  \n",
       "799      130       90     70           6       True  \n",
       "\n",
       "[800 rows x 13 columns]"
      ]
     },
     "execution_count": 2,
     "metadata": {},
     "output_type": "execute_result"
    }
   ],
   "source": [
    "df = pd.read_csv(\"Pokemon.csv\")\n",
    "df"
   ]
  },
  {
   "cell_type": "markdown",
   "metadata": {
    "cell_id": "b9f670081a9d41f38f8ae959a24e3ef3",
    "deepnote_cell_type": "markdown",
    "tags": []
   },
   "source": [
    "I think I'm going to use the pokemons that have two types to avoid the error porvided by types. \n",
    "Use dropna() method to drop the nan value in the whole dataset."
   ]
  },
  {
   "cell_type": "code",
   "execution_count": 3,
   "metadata": {
    "cell_id": "c49fc042f73a4aacb5337178e7967faa",
    "deepnote_cell_type": "code",
    "deepnote_to_be_reexecuted": false,
    "execution_millis": 41,
    "execution_start": 1670317133317,
    "source_hash": "4314666a",
    "tags": []
   },
   "outputs": [],
   "source": [
    "df = df.dropna()"
   ]
  },
  {
   "cell_type": "markdown",
   "metadata": {
    "cell_id": "0e7c53fc74614152aa2b143e7c2b10b5",
    "deepnote_cell_type": "markdown",
    "tags": []
   },
   "source": [
    "I plan to use non-legendary pokemon for this project because the legendary pokemons are designed to have higher stats compared to the regular pokemons."
   ]
  },
  {
   "cell_type": "code",
   "execution_count": 4,
   "metadata": {
    "cell_id": "f4a123847b6c4dbba6e88da908518d41",
    "deepnote_cell_type": "code",
    "deepnote_table_loading": false,
    "deepnote_table_state": {
     "filters": [],
     "pageIndex": 0,
     "pageSize": 10,
     "sortBy": []
    },
    "deepnote_to_be_reexecuted": false,
    "execution_millis": 9,
    "execution_start": 1670317133359,
    "source_hash": "cabab4ba",
    "tags": []
   },
   "outputs": [
    {
     "data": {
      "application/vnd.deepnote.dataframe.v3+json": {
       "column_count": 13,
       "columns": [
        {
         "dtype": "int64",
         "name": "#",
         "stats": {
          "histogram": [
           {
            "bin_end": 72.4,
            "bin_start": 1,
            "count": 36
           },
           {
            "bin_end": 143.8,
            "bin_start": 72.4,
            "count": 37
           },
           {
            "bin_end": 215.20000000000002,
            "bin_start": 143.8,
            "count": 37
           },
           {
            "bin_end": 286.6,
            "bin_start": 215.20000000000002,
            "count": 42
           },
           {
            "bin_end": 358,
            "bin_start": 286.6,
            "count": 39
           },
           {
            "bin_end": 429.40000000000003,
            "bin_start": 358,
            "count": 32
           },
           {
            "bin_end": 500.80000000000007,
            "bin_start": 429.40000000000003,
            "count": 41
           },
           {
            "bin_end": 572.2,
            "bin_start": 500.80000000000007,
            "count": 30
           },
           {
            "bin_end": 643.6,
            "bin_start": 572.2,
            "count": 32
           },
           {
            "bin_end": 715,
            "bin_start": 643.6,
            "count": 48
           }
          ],
          "max": "715",
          "min": "1",
          "nan_count": 0,
          "unique_count": 329
         }
        },
        {
         "dtype": "object",
         "name": "Name",
         "stats": {
          "categories": [
           {
            "count": 1,
            "name": "Bulbasaur"
           },
           {
            "count": 1,
            "name": "Ivysaur"
           },
           {
            "count": 372,
            "name": "372 others"
           }
          ],
          "nan_count": 0,
          "unique_count": 374
         }
        },
        {
         "dtype": "object",
         "name": "Type 1",
         "stats": {
          "categories": [
           {
            "count": 52,
            "name": "Bug"
           },
           {
            "count": 52,
            "name": "Water"
           },
           {
            "count": 270,
            "name": "16 others"
           }
          ],
          "nan_count": 0,
          "unique_count": 18
         }
        },
        {
         "dtype": "object",
         "name": "Type 2",
         "stats": {
          "categories": [
           {
            "count": 84,
            "name": "Flying"
           },
           {
            "count": 34,
            "name": "Poison"
           },
           {
            "count": 256,
            "name": "16 others"
           }
          ],
          "nan_count": 0,
          "unique_count": 18
         }
        },
        {
         "dtype": "int64",
         "name": "Total",
         "stats": {
          "histogram": [
           {
            "bin_end": 241,
            "bin_start": 190,
            "count": 8
           },
           {
            "bin_end": 292,
            "bin_start": 241,
            "count": 30
           },
           {
            "bin_end": 343,
            "bin_start": 292,
            "count": 56
           },
           {
            "bin_end": 394,
            "bin_start": 343,
            "count": 35
           },
           {
            "bin_end": 445,
            "bin_start": 394,
            "count": 48
           },
           {
            "bin_end": 496,
            "bin_start": 445,
            "count": 79
           },
           {
            "bin_end": 547,
            "bin_start": 496,
            "count": 75
           },
           {
            "bin_end": 598,
            "bin_start": 547,
            "count": 11
           },
           {
            "bin_end": 649,
            "bin_start": 598,
            "count": 28
           },
           {
            "bin_end": 700,
            "bin_start": 649,
            "count": 4
           }
          ],
          "max": "700",
          "min": "190",
          "nan_count": 0,
          "unique_count": 142
         }
        },
        {
         "dtype": "int64",
         "name": "HP",
         "stats": {
          "histogram": [
           {
            "bin_end": 15.9,
            "bin_start": 1,
            "count": 1
           },
           {
            "bin_end": 30.8,
            "bin_start": 15.9,
            "count": 10
           },
           {
            "bin_end": 45.7,
            "bin_start": 30.8,
            "count": 49
           },
           {
            "bin_end": 60.6,
            "bin_start": 45.7,
            "count": 101
           },
           {
            "bin_end": 75.5,
            "bin_start": 60.6,
            "count": 99
           },
           {
            "bin_end": 90.4,
            "bin_start": 75.5,
            "count": 60
           },
           {
            "bin_end": 105.3,
            "bin_start": 90.4,
            "count": 36
           },
           {
            "bin_end": 120.2,
            "bin_start": 105.3,
            "count": 13
           },
           {
            "bin_end": 135.1,
            "bin_start": 120.2,
            "count": 3
           },
           {
            "bin_end": 150,
            "bin_start": 135.1,
            "count": 2
           }
          ],
          "max": "150",
          "min": "1",
          "nan_count": 0,
          "unique_count": 70
         }
        },
        {
         "dtype": "int64",
         "name": "Attack",
         "stats": {
          "histogram": [
           {
            "bin_end": 27.5,
            "bin_start": 10,
            "count": 10
           },
           {
            "bin_end": 45,
            "bin_start": 27.5,
            "count": 33
           },
           {
            "bin_end": 62.5,
            "bin_start": 45,
            "count": 80
           },
           {
            "bin_end": 80,
            "bin_start": 62.5,
            "count": 74
           },
           {
            "bin_end": 97.5,
            "bin_start": 80,
            "count": 86
           },
           {
            "bin_end": 115,
            "bin_start": 97.5,
            "count": 34
           },
           {
            "bin_end": 132.5,
            "bin_start": 115,
            "count": 32
           },
           {
            "bin_end": 150,
            "bin_start": 132.5,
            "count": 14
           },
           {
            "bin_end": 167.5,
            "bin_start": 150,
            "count": 9
           },
           {
            "bin_end": 185,
            "bin_start": 167.5,
            "count": 2
           }
          ],
          "max": "185",
          "min": "10",
          "nan_count": 0,
          "unique_count": 91
         }
        },
        {
         "dtype": "int64",
         "name": "Defense",
         "stats": {
          "histogram": [
           {
            "bin_end": 36.5,
            "bin_start": 15,
            "count": 26
           },
           {
            "bin_end": 58,
            "bin_start": 36.5,
            "count": 85
           },
           {
            "bin_end": 79.5,
            "bin_start": 58,
            "count": 101
           },
           {
            "bin_end": 101,
            "bin_start": 79.5,
            "count": 87
           },
           {
            "bin_end": 122.5,
            "bin_start": 101,
            "count": 43
           },
           {
            "bin_end": 144,
            "bin_start": 122.5,
            "count": 18
           },
           {
            "bin_end": 165.5,
            "bin_start": 144,
            "count": 7
           },
           {
            "bin_end": 187,
            "bin_start": 165.5,
            "count": 4
           },
           {
            "bin_end": 208.5,
            "bin_start": 187,
            "count": 1
           },
           {
            "bin_end": 230,
            "bin_start": 208.5,
            "count": 2
           }
          ],
          "max": "230",
          "min": "15",
          "nan_count": 0,
          "unique_count": 83
         }
        },
        {
         "dtype": "int64",
         "name": "Sp. Atk",
         "stats": {
          "histogram": [
           {
            "bin_end": 26,
            "bin_start": 10,
            "count": 9
           },
           {
            "bin_end": 42,
            "bin_start": 26,
            "count": 52
           },
           {
            "bin_end": 58,
            "bin_start": 42,
            "count": 76
           },
           {
            "bin_end": 74,
            "bin_start": 58,
            "count": 79
           },
           {
            "bin_end": 90,
            "bin_start": 74,
            "count": 55
           },
           {
            "bin_end": 106,
            "bin_start": 90,
            "count": 53
           },
           {
            "bin_end": 122,
            "bin_start": 106,
            "count": 23
           },
           {
            "bin_end": 138,
            "bin_start": 122,
            "count": 16
           },
           {
            "bin_end": 154,
            "bin_start": 138,
            "count": 7
           },
           {
            "bin_end": 170,
            "bin_start": 154,
            "count": 4
           }
          ],
          "max": "170",
          "min": "10",
          "nan_count": 0,
          "unique_count": 81
         }
        },
        {
         "dtype": "int64",
         "name": "Sp. Def",
         "stats": {
          "histogram": [
           {
            "bin_end": 41,
            "bin_start": 20,
            "count": 37
           },
           {
            "bin_end": 62,
            "bin_start": 41,
            "count": 109
           },
           {
            "bin_end": 83,
            "bin_start": 62,
            "count": 112
           },
           {
            "bin_end": 104,
            "bin_start": 83,
            "count": 66
           },
           {
            "bin_end": 125,
            "bin_start": 104,
            "count": 40
           },
           {
            "bin_end": 146,
            "bin_start": 125,
            "count": 6
           },
           {
            "bin_end": 167,
            "bin_start": 146,
            "count": 3
           },
           {
            "bin_end": 188,
            "bin_start": 167,
            "count": 0
           },
           {
            "bin_end": 209,
            "bin_start": 188,
            "count": 0
           },
           {
            "bin_end": 230,
            "bin_start": 209,
            "count": 1
           }
          ],
          "max": "230",
          "min": "20",
          "nan_count": 0,
          "unique_count": 68
         }
        },
        {
         "dtype": "int64",
         "name": "Speed",
         "stats": {
          "histogram": [
           {
            "bin_end": 20.5,
            "bin_start": 5,
            "count": 14
           },
           {
            "bin_end": 36,
            "bin_start": 20.5,
            "count": 36
           },
           {
            "bin_end": 51.5,
            "bin_start": 36,
            "count": 71
           },
           {
            "bin_end": 67,
            "bin_start": 51.5,
            "count": 70
           },
           {
            "bin_end": 82.5,
            "bin_start": 67,
            "count": 76
           },
           {
            "bin_end": 98,
            "bin_start": 82.5,
            "count": 44
           },
           {
            "bin_end": 113.5,
            "bin_start": 98,
            "count": 41
           },
           {
            "bin_end": 129,
            "bin_start": 113.5,
            "count": 14
           },
           {
            "bin_end": 144.5,
            "bin_start": 129,
            "count": 4
           },
           {
            "bin_end": 160,
            "bin_start": 144.5,
            "count": 4
           }
          ],
          "max": "160",
          "min": "5",
          "nan_count": 0,
          "unique_count": 91
         }
        },
        {
         "dtype": "int64",
         "name": "Generation",
         "stats": {
          "histogram": [
           {
            "bin_end": 1.5,
            "bin_start": 1,
            "count": 74
           },
           {
            "bin_end": 2,
            "bin_start": 1.5,
            "count": 0
           },
           {
            "bin_end": 2.5,
            "bin_start": 2,
            "count": 53
           },
           {
            "bin_end": 3,
            "bin_start": 2.5,
            "count": 0
           },
           {
            "bin_end": 3.5,
            "bin_start": 3,
            "count": 74
           },
           {
            "bin_end": 4,
            "bin_start": 3.5,
            "count": 0
           },
           {
            "bin_end": 4.5,
            "bin_start": 4,
            "count": 61
           },
           {
            "bin_end": 5,
            "bin_start": 4.5,
            "count": 0
           },
           {
            "bin_end": 5.5,
            "bin_start": 5,
            "count": 69
           },
           {
            "bin_end": 6,
            "bin_start": 5.5,
            "count": 43
           }
          ],
          "max": "6",
          "min": "1",
          "nan_count": 0,
          "unique_count": 6
         }
        },
        {
         "dtype": "bool",
         "name": "Legendary",
         "stats": {
          "categories": [
           {
            "count": 374,
            "name": "False"
           }
          ],
          "nan_count": 0,
          "unique_count": 1
         }
        },
        {
         "dtype": "int64",
         "name": "_deepnote_index_column"
        }
       ],
       "row_count": 374,
       "rows": [
        {
         "#": "1",
         "Attack": "49",
         "Defense": "49",
         "Generation": "1",
         "HP": "45",
         "Legendary": "False",
         "Name": "Bulbasaur",
         "Sp. Atk": "65",
         "Sp. Def": "65",
         "Speed": "45",
         "Total": "318",
         "Type 1": "Grass",
         "Type 2": "Poison",
         "_deepnote_index_column": "0"
        },
        {
         "#": "2",
         "Attack": "62",
         "Defense": "63",
         "Generation": "1",
         "HP": "60",
         "Legendary": "False",
         "Name": "Ivysaur",
         "Sp. Atk": "80",
         "Sp. Def": "80",
         "Speed": "60",
         "Total": "405",
         "Type 1": "Grass",
         "Type 2": "Poison",
         "_deepnote_index_column": "1"
        },
        {
         "#": "3",
         "Attack": "82",
         "Defense": "83",
         "Generation": "1",
         "HP": "80",
         "Legendary": "False",
         "Name": "Venusaur",
         "Sp. Atk": "100",
         "Sp. Def": "100",
         "Speed": "80",
         "Total": "525",
         "Type 1": "Grass",
         "Type 2": "Poison",
         "_deepnote_index_column": "2"
        },
        {
         "#": "3",
         "Attack": "100",
         "Defense": "123",
         "Generation": "1",
         "HP": "80",
         "Legendary": "False",
         "Name": "VenusaurMega Venusaur",
         "Sp. Atk": "122",
         "Sp. Def": "120",
         "Speed": "80",
         "Total": "625",
         "Type 1": "Grass",
         "Type 2": "Poison",
         "_deepnote_index_column": "3"
        },
        {
         "#": "6",
         "Attack": "84",
         "Defense": "78",
         "Generation": "1",
         "HP": "78",
         "Legendary": "False",
         "Name": "Charizard",
         "Sp. Atk": "109",
         "Sp. Def": "85",
         "Speed": "100",
         "Total": "534",
         "Type 1": "Fire",
         "Type 2": "Flying",
         "_deepnote_index_column": "6"
        },
        {
         "#": "6",
         "Attack": "130",
         "Defense": "111",
         "Generation": "1",
         "HP": "78",
         "Legendary": "False",
         "Name": "CharizardMega Charizard X",
         "Sp. Atk": "130",
         "Sp. Def": "85",
         "Speed": "100",
         "Total": "634",
         "Type 1": "Fire",
         "Type 2": "Dragon",
         "_deepnote_index_column": "7"
        },
        {
         "#": "6",
         "Attack": "104",
         "Defense": "78",
         "Generation": "1",
         "HP": "78",
         "Legendary": "False",
         "Name": "CharizardMega Charizard Y",
         "Sp. Atk": "159",
         "Sp. Def": "115",
         "Speed": "100",
         "Total": "634",
         "Type 1": "Fire",
         "Type 2": "Flying",
         "_deepnote_index_column": "8"
        },
        {
         "#": "12",
         "Attack": "45",
         "Defense": "50",
         "Generation": "1",
         "HP": "60",
         "Legendary": "False",
         "Name": "Butterfree",
         "Sp. Atk": "90",
         "Sp. Def": "80",
         "Speed": "70",
         "Total": "395",
         "Type 1": "Bug",
         "Type 2": "Flying",
         "_deepnote_index_column": "15"
        },
        {
         "#": "13",
         "Attack": "35",
         "Defense": "30",
         "Generation": "1",
         "HP": "40",
         "Legendary": "False",
         "Name": "Weedle",
         "Sp. Atk": "20",
         "Sp. Def": "20",
         "Speed": "50",
         "Total": "195",
         "Type 1": "Bug",
         "Type 2": "Poison",
         "_deepnote_index_column": "16"
        },
        {
         "#": "14",
         "Attack": "25",
         "Defense": "50",
         "Generation": "1",
         "HP": "45",
         "Legendary": "False",
         "Name": "Kakuna",
         "Sp. Atk": "25",
         "Sp. Def": "25",
         "Speed": "35",
         "Total": "205",
         "Type 1": "Bug",
         "Type 2": "Poison",
         "_deepnote_index_column": "17"
        }
       ]
      },
      "text/html": [
       "<div>\n",
       "<style scoped>\n",
       "    .dataframe tbody tr th:only-of-type {\n",
       "        vertical-align: middle;\n",
       "    }\n",
       "\n",
       "    .dataframe tbody tr th {\n",
       "        vertical-align: top;\n",
       "    }\n",
       "\n",
       "    .dataframe thead th {\n",
       "        text-align: right;\n",
       "    }\n",
       "</style>\n",
       "<table border=\"1\" class=\"dataframe\">\n",
       "  <thead>\n",
       "    <tr style=\"text-align: right;\">\n",
       "      <th></th>\n",
       "      <th>#</th>\n",
       "      <th>Name</th>\n",
       "      <th>Type 1</th>\n",
       "      <th>Type 2</th>\n",
       "      <th>Total</th>\n",
       "      <th>HP</th>\n",
       "      <th>Attack</th>\n",
       "      <th>Defense</th>\n",
       "      <th>Sp. Atk</th>\n",
       "      <th>Sp. Def</th>\n",
       "      <th>Speed</th>\n",
       "      <th>Generation</th>\n",
       "      <th>Legendary</th>\n",
       "    </tr>\n",
       "  </thead>\n",
       "  <tbody>\n",
       "    <tr>\n",
       "      <th>0</th>\n",
       "      <td>1</td>\n",
       "      <td>Bulbasaur</td>\n",
       "      <td>Grass</td>\n",
       "      <td>Poison</td>\n",
       "      <td>318</td>\n",
       "      <td>45</td>\n",
       "      <td>49</td>\n",
       "      <td>49</td>\n",
       "      <td>65</td>\n",
       "      <td>65</td>\n",
       "      <td>45</td>\n",
       "      <td>1</td>\n",
       "      <td>False</td>\n",
       "    </tr>\n",
       "    <tr>\n",
       "      <th>1</th>\n",
       "      <td>2</td>\n",
       "      <td>Ivysaur</td>\n",
       "      <td>Grass</td>\n",
       "      <td>Poison</td>\n",
       "      <td>405</td>\n",
       "      <td>60</td>\n",
       "      <td>62</td>\n",
       "      <td>63</td>\n",
       "      <td>80</td>\n",
       "      <td>80</td>\n",
       "      <td>60</td>\n",
       "      <td>1</td>\n",
       "      <td>False</td>\n",
       "    </tr>\n",
       "    <tr>\n",
       "      <th>2</th>\n",
       "      <td>3</td>\n",
       "      <td>Venusaur</td>\n",
       "      <td>Grass</td>\n",
       "      <td>Poison</td>\n",
       "      <td>525</td>\n",
       "      <td>80</td>\n",
       "      <td>82</td>\n",
       "      <td>83</td>\n",
       "      <td>100</td>\n",
       "      <td>100</td>\n",
       "      <td>80</td>\n",
       "      <td>1</td>\n",
       "      <td>False</td>\n",
       "    </tr>\n",
       "    <tr>\n",
       "      <th>3</th>\n",
       "      <td>3</td>\n",
       "      <td>VenusaurMega Venusaur</td>\n",
       "      <td>Grass</td>\n",
       "      <td>Poison</td>\n",
       "      <td>625</td>\n",
       "      <td>80</td>\n",
       "      <td>100</td>\n",
       "      <td>123</td>\n",
       "      <td>122</td>\n",
       "      <td>120</td>\n",
       "      <td>80</td>\n",
       "      <td>1</td>\n",
       "      <td>False</td>\n",
       "    </tr>\n",
       "    <tr>\n",
       "      <th>6</th>\n",
       "      <td>6</td>\n",
       "      <td>Charizard</td>\n",
       "      <td>Fire</td>\n",
       "      <td>Flying</td>\n",
       "      <td>534</td>\n",
       "      <td>78</td>\n",
       "      <td>84</td>\n",
       "      <td>78</td>\n",
       "      <td>109</td>\n",
       "      <td>85</td>\n",
       "      <td>100</td>\n",
       "      <td>1</td>\n",
       "      <td>False</td>\n",
       "    </tr>\n",
       "    <tr>\n",
       "      <th>...</th>\n",
       "      <td>...</td>\n",
       "      <td>...</td>\n",
       "      <td>...</td>\n",
       "      <td>...</td>\n",
       "      <td>...</td>\n",
       "      <td>...</td>\n",
       "      <td>...</td>\n",
       "      <td>...</td>\n",
       "      <td>...</td>\n",
       "      <td>...</td>\n",
       "      <td>...</td>\n",
       "      <td>...</td>\n",
       "      <td>...</td>\n",
       "    </tr>\n",
       "    <tr>\n",
       "      <th>785</th>\n",
       "      <td>711</td>\n",
       "      <td>GourgeistSmall Size</td>\n",
       "      <td>Ghost</td>\n",
       "      <td>Grass</td>\n",
       "      <td>494</td>\n",
       "      <td>55</td>\n",
       "      <td>85</td>\n",
       "      <td>122</td>\n",
       "      <td>58</td>\n",
       "      <td>75</td>\n",
       "      <td>99</td>\n",
       "      <td>6</td>\n",
       "      <td>False</td>\n",
       "    </tr>\n",
       "    <tr>\n",
       "      <th>786</th>\n",
       "      <td>711</td>\n",
       "      <td>GourgeistLarge Size</td>\n",
       "      <td>Ghost</td>\n",
       "      <td>Grass</td>\n",
       "      <td>494</td>\n",
       "      <td>75</td>\n",
       "      <td>95</td>\n",
       "      <td>122</td>\n",
       "      <td>58</td>\n",
       "      <td>75</td>\n",
       "      <td>69</td>\n",
       "      <td>6</td>\n",
       "      <td>False</td>\n",
       "    </tr>\n",
       "    <tr>\n",
       "      <th>787</th>\n",
       "      <td>711</td>\n",
       "      <td>GourgeistSuper Size</td>\n",
       "      <td>Ghost</td>\n",
       "      <td>Grass</td>\n",
       "      <td>494</td>\n",
       "      <td>85</td>\n",
       "      <td>100</td>\n",
       "      <td>122</td>\n",
       "      <td>58</td>\n",
       "      <td>75</td>\n",
       "      <td>54</td>\n",
       "      <td>6</td>\n",
       "      <td>False</td>\n",
       "    </tr>\n",
       "    <tr>\n",
       "      <th>790</th>\n",
       "      <td>714</td>\n",
       "      <td>Noibat</td>\n",
       "      <td>Flying</td>\n",
       "      <td>Dragon</td>\n",
       "      <td>245</td>\n",
       "      <td>40</td>\n",
       "      <td>30</td>\n",
       "      <td>35</td>\n",
       "      <td>45</td>\n",
       "      <td>40</td>\n",
       "      <td>55</td>\n",
       "      <td>6</td>\n",
       "      <td>False</td>\n",
       "    </tr>\n",
       "    <tr>\n",
       "      <th>791</th>\n",
       "      <td>715</td>\n",
       "      <td>Noivern</td>\n",
       "      <td>Flying</td>\n",
       "      <td>Dragon</td>\n",
       "      <td>535</td>\n",
       "      <td>85</td>\n",
       "      <td>70</td>\n",
       "      <td>80</td>\n",
       "      <td>97</td>\n",
       "      <td>80</td>\n",
       "      <td>123</td>\n",
       "      <td>6</td>\n",
       "      <td>False</td>\n",
       "    </tr>\n",
       "  </tbody>\n",
       "</table>\n",
       "<p>374 rows × 13 columns</p>\n",
       "</div>"
      ],
      "text/plain": [
       "       #                   Name  Type 1  Type 2  Total  HP  Attack  Defense  \\\n",
       "0      1              Bulbasaur   Grass  Poison    318  45      49       49   \n",
       "1      2                Ivysaur   Grass  Poison    405  60      62       63   \n",
       "2      3               Venusaur   Grass  Poison    525  80      82       83   \n",
       "3      3  VenusaurMega Venusaur   Grass  Poison    625  80     100      123   \n",
       "6      6              Charizard    Fire  Flying    534  78      84       78   \n",
       "..   ...                    ...     ...     ...    ...  ..     ...      ...   \n",
       "785  711    GourgeistSmall Size   Ghost   Grass    494  55      85      122   \n",
       "786  711    GourgeistLarge Size   Ghost   Grass    494  75      95      122   \n",
       "787  711    GourgeistSuper Size   Ghost   Grass    494  85     100      122   \n",
       "790  714                 Noibat  Flying  Dragon    245  40      30       35   \n",
       "791  715                Noivern  Flying  Dragon    535  85      70       80   \n",
       "\n",
       "     Sp. Atk  Sp. Def  Speed  Generation  Legendary  \n",
       "0         65       65     45           1      False  \n",
       "1         80       80     60           1      False  \n",
       "2        100      100     80           1      False  \n",
       "3        122      120     80           1      False  \n",
       "6        109       85    100           1      False  \n",
       "..       ...      ...    ...         ...        ...  \n",
       "785       58       75     99           6      False  \n",
       "786       58       75     69           6      False  \n",
       "787       58       75     54           6      False  \n",
       "790       45       40     55           6      False  \n",
       "791       97       80    123           6      False  \n",
       "\n",
       "[374 rows x 13 columns]"
      ]
     },
     "execution_count": 4,
     "metadata": {},
     "output_type": "execute_result"
    }
   ],
   "source": [
    "df = df[df[\"Legendary\"]==False]\n",
    "df"
   ]
  },
  {
   "cell_type": "markdown",
   "metadata": {
    "cell_id": "493219525d2c49819215398dfd34f50c",
    "deepnote_cell_type": "markdown",
    "tags": []
   },
   "source": [
    "I don't need the \"Legendary\" column anymore, so I just drop it."
   ]
  },
  {
   "cell_type": "code",
   "execution_count": 5,
   "metadata": {
    "cell_id": "7a62ca50277e462a95cf605f7f6bf3ef",
    "deepnote_cell_type": "code",
    "deepnote_to_be_reexecuted": false,
    "execution_millis": 1,
    "execution_start": 1670317133367,
    "source_hash": "800ecbfb",
    "tags": []
   },
   "outputs": [],
   "source": [
    "df = df.drop(\"Legendary\",axis=1)"
   ]
  },
  {
   "cell_type": "markdown",
   "metadata": {
    "cell_id": "998c64d8e2df49ac837c64b186476b9f",
    "deepnote_cell_type": "markdown",
    "tags": []
   },
   "source": [
    "The original column names are not working when doing the altair chart, so I change  the name for speical attack and defense."
   ]
  },
  {
   "cell_type": "code",
   "execution_count": 6,
   "metadata": {
    "cell_id": "4c6c84caa8de4c9a9b33d643aac0f40b",
    "deepnote_cell_type": "code",
    "deepnote_to_be_reexecuted": false,
    "execution_millis": 0,
    "execution_start": 1670317133369,
    "source_hash": "21528e1",
    "tags": []
   },
   "outputs": [],
   "source": [
    "df = df.rename(columns={\"Sp. Atk\":\"SpecialA\",\"Sp. Def\": \"SpecialD\"})"
   ]
  },
  {
   "cell_type": "code",
   "execution_count": 7,
   "metadata": {
    "cell_id": "46f5a0e19db14e21bda09a1d8c458af9",
    "deepnote_cell_type": "code",
    "deepnote_to_be_reexecuted": false,
    "execution_millis": 61,
    "execution_start": 1670317133372,
    "source_hash": "14f60b8f",
    "tags": []
   },
   "outputs": [
    {
     "data": {
      "text/plain": [
       "(374, 12)"
      ]
     },
     "execution_count": 7,
     "metadata": {},
     "output_type": "execute_result"
    }
   ],
   "source": [
    "df.shape"
   ]
  },
  {
   "cell_type": "markdown",
   "metadata": {
    "cell_id": "5a28c85e31d44764801f98dce79422f1",
    "deepnote_cell_type": "markdown",
    "tags": []
   },
   "source": [
    "## Analysis of the dataset"
   ]
  },
  {
   "cell_type": "markdown",
   "metadata": {
    "cell_id": "d8f53228a3d64596b3ae2151772338b1",
    "deepnote_cell_type": "markdown",
    "tags": []
   },
   "source": [
    "To focus on the generation, first check the number of pokemons in each generations."
   ]
  },
  {
   "cell_type": "code",
   "execution_count": 8,
   "metadata": {
    "cell_id": "d10cab94cdbd4d4fa45a60e53c58a5e3",
    "deepnote_cell_type": "code",
    "deepnote_to_be_reexecuted": false,
    "execution_millis": 4,
    "execution_start": 1670317133440,
    "source_hash": "42a532bf",
    "tags": []
   },
   "outputs": [
    {
     "data": {
      "text/plain": [
       "1    74\n",
       "3    74\n",
       "5    69\n",
       "4    61\n",
       "2    53\n",
       "6    43\n",
       "Name: Generation, dtype: int64"
      ]
     },
     "execution_count": 8,
     "metadata": {},
     "output_type": "execute_result"
    }
   ],
   "source": [
    "df[\"Generation\"].value_counts()"
   ]
  },
  {
   "cell_type": "markdown",
   "metadata": {
    "cell_id": "7e93c2cb21d045b2bdabf21cab3f91f8",
    "deepnote_cell_type": "markdown",
    "tags": []
   },
   "source": [
    "Use groupby method to see more detailed information."
   ]
  },
  {
   "cell_type": "code",
   "execution_count": 9,
   "metadata": {
    "cell_id": "d33d2f53f51f491b965cf128fd3b3c4f",
    "deepnote_cell_type": "code",
    "deepnote_to_be_reexecuted": false,
    "execution_millis": 369,
    "execution_start": 1670317133488,
    "source_hash": "89dc8990",
    "tags": []
   },
   "outputs": [
    {
     "data": {
      "text/html": [
       "<div>\n",
       "<style scoped>\n",
       "    .dataframe tbody tr th:only-of-type {\n",
       "        vertical-align: middle;\n",
       "    }\n",
       "\n",
       "    .dataframe tbody tr th {\n",
       "        vertical-align: top;\n",
       "    }\n",
       "\n",
       "    .dataframe thead th {\n",
       "        text-align: right;\n",
       "    }\n",
       "</style>\n",
       "<table border=\"1\" class=\"dataframe\">\n",
       "  <thead>\n",
       "    <tr style=\"text-align: right;\">\n",
       "      <th></th>\n",
       "      <th>#</th>\n",
       "      <th>Name</th>\n",
       "      <th>Type 1</th>\n",
       "      <th>Type 2</th>\n",
       "      <th>Total</th>\n",
       "      <th>HP</th>\n",
       "      <th>Attack</th>\n",
       "      <th>Defense</th>\n",
       "      <th>SpecialA</th>\n",
       "      <th>SpecialD</th>\n",
       "      <th>Speed</th>\n",
       "      <th>Generation</th>\n",
       "    </tr>\n",
       "  </thead>\n",
       "  <tbody>\n",
       "    <tr>\n",
       "      <th>0</th>\n",
       "      <td>1</td>\n",
       "      <td>Bulbasaur</td>\n",
       "      <td>Grass</td>\n",
       "      <td>Poison</td>\n",
       "      <td>318</td>\n",
       "      <td>45</td>\n",
       "      <td>49</td>\n",
       "      <td>49</td>\n",
       "      <td>65</td>\n",
       "      <td>65</td>\n",
       "      <td>45</td>\n",
       "      <td>1</td>\n",
       "    </tr>\n",
       "    <tr>\n",
       "      <th>1</th>\n",
       "      <td>2</td>\n",
       "      <td>Ivysaur</td>\n",
       "      <td>Grass</td>\n",
       "      <td>Poison</td>\n",
       "      <td>405</td>\n",
       "      <td>60</td>\n",
       "      <td>62</td>\n",
       "      <td>63</td>\n",
       "      <td>80</td>\n",
       "      <td>80</td>\n",
       "      <td>60</td>\n",
       "      <td>1</td>\n",
       "    </tr>\n",
       "    <tr>\n",
       "      <th>2</th>\n",
       "      <td>3</td>\n",
       "      <td>Venusaur</td>\n",
       "      <td>Grass</td>\n",
       "      <td>Poison</td>\n",
       "      <td>525</td>\n",
       "      <td>80</td>\n",
       "      <td>82</td>\n",
       "      <td>83</td>\n",
       "      <td>100</td>\n",
       "      <td>100</td>\n",
       "      <td>80</td>\n",
       "      <td>1</td>\n",
       "    </tr>\n",
       "    <tr>\n",
       "      <th>3</th>\n",
       "      <td>3</td>\n",
       "      <td>VenusaurMega Venusaur</td>\n",
       "      <td>Grass</td>\n",
       "      <td>Poison</td>\n",
       "      <td>625</td>\n",
       "      <td>80</td>\n",
       "      <td>100</td>\n",
       "      <td>123</td>\n",
       "      <td>122</td>\n",
       "      <td>120</td>\n",
       "      <td>80</td>\n",
       "      <td>1</td>\n",
       "    </tr>\n",
       "    <tr>\n",
       "      <th>6</th>\n",
       "      <td>6</td>\n",
       "      <td>Charizard</td>\n",
       "      <td>Fire</td>\n",
       "      <td>Flying</td>\n",
       "      <td>534</td>\n",
       "      <td>78</td>\n",
       "      <td>84</td>\n",
       "      <td>78</td>\n",
       "      <td>109</td>\n",
       "      <td>85</td>\n",
       "      <td>100</td>\n",
       "      <td>1</td>\n",
       "    </tr>\n",
       "    <tr>\n",
       "      <th>...</th>\n",
       "      <td>...</td>\n",
       "      <td>...</td>\n",
       "      <td>...</td>\n",
       "      <td>...</td>\n",
       "      <td>...</td>\n",
       "      <td>...</td>\n",
       "      <td>...</td>\n",
       "      <td>...</td>\n",
       "      <td>...</td>\n",
       "      <td>...</td>\n",
       "      <td>...</td>\n",
       "      <td>...</td>\n",
       "    </tr>\n",
       "    <tr>\n",
       "      <th>151</th>\n",
       "      <td>140</td>\n",
       "      <td>Kabuto</td>\n",
       "      <td>Rock</td>\n",
       "      <td>Water</td>\n",
       "      <td>355</td>\n",
       "      <td>30</td>\n",
       "      <td>80</td>\n",
       "      <td>90</td>\n",
       "      <td>55</td>\n",
       "      <td>45</td>\n",
       "      <td>55</td>\n",
       "      <td>1</td>\n",
       "    </tr>\n",
       "    <tr>\n",
       "      <th>152</th>\n",
       "      <td>141</td>\n",
       "      <td>Kabutops</td>\n",
       "      <td>Rock</td>\n",
       "      <td>Water</td>\n",
       "      <td>495</td>\n",
       "      <td>60</td>\n",
       "      <td>115</td>\n",
       "      <td>105</td>\n",
       "      <td>65</td>\n",
       "      <td>70</td>\n",
       "      <td>80</td>\n",
       "      <td>1</td>\n",
       "    </tr>\n",
       "    <tr>\n",
       "      <th>153</th>\n",
       "      <td>142</td>\n",
       "      <td>Aerodactyl</td>\n",
       "      <td>Rock</td>\n",
       "      <td>Flying</td>\n",
       "      <td>515</td>\n",
       "      <td>80</td>\n",
       "      <td>105</td>\n",
       "      <td>65</td>\n",
       "      <td>60</td>\n",
       "      <td>75</td>\n",
       "      <td>130</td>\n",
       "      <td>1</td>\n",
       "    </tr>\n",
       "    <tr>\n",
       "      <th>154</th>\n",
       "      <td>142</td>\n",
       "      <td>AerodactylMega Aerodactyl</td>\n",
       "      <td>Rock</td>\n",
       "      <td>Flying</td>\n",
       "      <td>615</td>\n",
       "      <td>80</td>\n",
       "      <td>135</td>\n",
       "      <td>85</td>\n",
       "      <td>70</td>\n",
       "      <td>95</td>\n",
       "      <td>150</td>\n",
       "      <td>1</td>\n",
       "    </tr>\n",
       "    <tr>\n",
       "      <th>161</th>\n",
       "      <td>149</td>\n",
       "      <td>Dragonite</td>\n",
       "      <td>Dragon</td>\n",
       "      <td>Flying</td>\n",
       "      <td>600</td>\n",
       "      <td>91</td>\n",
       "      <td>134</td>\n",
       "      <td>95</td>\n",
       "      <td>100</td>\n",
       "      <td>100</td>\n",
       "      <td>80</td>\n",
       "      <td>1</td>\n",
       "    </tr>\n",
       "  </tbody>\n",
       "</table>\n",
       "<p>74 rows × 12 columns</p>\n",
       "</div>"
      ],
      "text/plain": [
       "       #                       Name  Type 1  Type 2  Total  HP  Attack  \\\n",
       "0      1                  Bulbasaur   Grass  Poison    318  45      49   \n",
       "1      2                    Ivysaur   Grass  Poison    405  60      62   \n",
       "2      3                   Venusaur   Grass  Poison    525  80      82   \n",
       "3      3      VenusaurMega Venusaur   Grass  Poison    625  80     100   \n",
       "6      6                  Charizard    Fire  Flying    534  78      84   \n",
       "..   ...                        ...     ...     ...    ...  ..     ...   \n",
       "151  140                     Kabuto    Rock   Water    355  30      80   \n",
       "152  141                   Kabutops    Rock   Water    495  60     115   \n",
       "153  142                 Aerodactyl    Rock  Flying    515  80     105   \n",
       "154  142  AerodactylMega Aerodactyl    Rock  Flying    615  80     135   \n",
       "161  149                  Dragonite  Dragon  Flying    600  91     134   \n",
       "\n",
       "     Defense  SpecialA  SpecialD  Speed  Generation  \n",
       "0         49        65        65     45           1  \n",
       "1         63        80        80     60           1  \n",
       "2         83       100       100     80           1  \n",
       "3        123       122       120     80           1  \n",
       "6         78       109        85    100           1  \n",
       "..       ...       ...       ...    ...         ...  \n",
       "151       90        55        45     55           1  \n",
       "152      105        65        70     80           1  \n",
       "153       65        60        75    130           1  \n",
       "154       85        70        95    150           1  \n",
       "161       95       100       100     80           1  \n",
       "\n",
       "[74 rows x 12 columns]"
      ]
     },
     "metadata": {},
     "output_type": "display_data"
    },
    {
     "data": {
      "text/html": [
       "<div>\n",
       "<style scoped>\n",
       "    .dataframe tbody tr th:only-of-type {\n",
       "        vertical-align: middle;\n",
       "    }\n",
       "\n",
       "    .dataframe tbody tr th {\n",
       "        vertical-align: top;\n",
       "    }\n",
       "\n",
       "    .dataframe thead th {\n",
       "        text-align: right;\n",
       "    }\n",
       "</style>\n",
       "<table border=\"1\" class=\"dataframe\">\n",
       "  <thead>\n",
       "    <tr style=\"text-align: right;\">\n",
       "      <th></th>\n",
       "      <th>#</th>\n",
       "      <th>Name</th>\n",
       "      <th>Type 1</th>\n",
       "      <th>Type 2</th>\n",
       "      <th>Total</th>\n",
       "      <th>HP</th>\n",
       "      <th>Attack</th>\n",
       "      <th>Defense</th>\n",
       "      <th>SpecialA</th>\n",
       "      <th>SpecialD</th>\n",
       "      <th>Speed</th>\n",
       "      <th>Generation</th>\n",
       "    </tr>\n",
       "  </thead>\n",
       "  <tbody>\n",
       "    <tr>\n",
       "      <th>177</th>\n",
       "      <td>163</td>\n",
       "      <td>Hoothoot</td>\n",
       "      <td>Normal</td>\n",
       "      <td>Flying</td>\n",
       "      <td>262</td>\n",
       "      <td>60</td>\n",
       "      <td>30</td>\n",
       "      <td>30</td>\n",
       "      <td>36</td>\n",
       "      <td>56</td>\n",
       "      <td>50</td>\n",
       "      <td>2</td>\n",
       "    </tr>\n",
       "    <tr>\n",
       "      <th>178</th>\n",
       "      <td>164</td>\n",
       "      <td>Noctowl</td>\n",
       "      <td>Normal</td>\n",
       "      <td>Flying</td>\n",
       "      <td>442</td>\n",
       "      <td>100</td>\n",
       "      <td>50</td>\n",
       "      <td>50</td>\n",
       "      <td>76</td>\n",
       "      <td>96</td>\n",
       "      <td>70</td>\n",
       "      <td>2</td>\n",
       "    </tr>\n",
       "    <tr>\n",
       "      <th>179</th>\n",
       "      <td>165</td>\n",
       "      <td>Ledyba</td>\n",
       "      <td>Bug</td>\n",
       "      <td>Flying</td>\n",
       "      <td>265</td>\n",
       "      <td>40</td>\n",
       "      <td>20</td>\n",
       "      <td>30</td>\n",
       "      <td>40</td>\n",
       "      <td>80</td>\n",
       "      <td>55</td>\n",
       "      <td>2</td>\n",
       "    </tr>\n",
       "    <tr>\n",
       "      <th>180</th>\n",
       "      <td>166</td>\n",
       "      <td>Ledian</td>\n",
       "      <td>Bug</td>\n",
       "      <td>Flying</td>\n",
       "      <td>390</td>\n",
       "      <td>55</td>\n",
       "      <td>35</td>\n",
       "      <td>50</td>\n",
       "      <td>55</td>\n",
       "      <td>110</td>\n",
       "      <td>85</td>\n",
       "      <td>2</td>\n",
       "    </tr>\n",
       "    <tr>\n",
       "      <th>181</th>\n",
       "      <td>167</td>\n",
       "      <td>Spinarak</td>\n",
       "      <td>Bug</td>\n",
       "      <td>Poison</td>\n",
       "      <td>250</td>\n",
       "      <td>40</td>\n",
       "      <td>60</td>\n",
       "      <td>40</td>\n",
       "      <td>40</td>\n",
       "      <td>40</td>\n",
       "      <td>30</td>\n",
       "      <td>2</td>\n",
       "    </tr>\n",
       "    <tr>\n",
       "      <th>182</th>\n",
       "      <td>168</td>\n",
       "      <td>Ariados</td>\n",
       "      <td>Bug</td>\n",
       "      <td>Poison</td>\n",
       "      <td>390</td>\n",
       "      <td>70</td>\n",
       "      <td>90</td>\n",
       "      <td>70</td>\n",
       "      <td>60</td>\n",
       "      <td>60</td>\n",
       "      <td>40</td>\n",
       "      <td>2</td>\n",
       "    </tr>\n",
       "    <tr>\n",
       "      <th>183</th>\n",
       "      <td>169</td>\n",
       "      <td>Crobat</td>\n",
       "      <td>Poison</td>\n",
       "      <td>Flying</td>\n",
       "      <td>535</td>\n",
       "      <td>85</td>\n",
       "      <td>90</td>\n",
       "      <td>80</td>\n",
       "      <td>70</td>\n",
       "      <td>80</td>\n",
       "      <td>130</td>\n",
       "      <td>2</td>\n",
       "    </tr>\n",
       "    <tr>\n",
       "      <th>184</th>\n",
       "      <td>170</td>\n",
       "      <td>Chinchou</td>\n",
       "      <td>Water</td>\n",
       "      <td>Electric</td>\n",
       "      <td>330</td>\n",
       "      <td>75</td>\n",
       "      <td>38</td>\n",
       "      <td>38</td>\n",
       "      <td>56</td>\n",
       "      <td>56</td>\n",
       "      <td>67</td>\n",
       "      <td>2</td>\n",
       "    </tr>\n",
       "    <tr>\n",
       "      <th>185</th>\n",
       "      <td>171</td>\n",
       "      <td>Lanturn</td>\n",
       "      <td>Water</td>\n",
       "      <td>Electric</td>\n",
       "      <td>460</td>\n",
       "      <td>125</td>\n",
       "      <td>58</td>\n",
       "      <td>58</td>\n",
       "      <td>76</td>\n",
       "      <td>76</td>\n",
       "      <td>67</td>\n",
       "      <td>2</td>\n",
       "    </tr>\n",
       "    <tr>\n",
       "      <th>188</th>\n",
       "      <td>174</td>\n",
       "      <td>Igglybuff</td>\n",
       "      <td>Normal</td>\n",
       "      <td>Fairy</td>\n",
       "      <td>210</td>\n",
       "      <td>90</td>\n",
       "      <td>30</td>\n",
       "      <td>15</td>\n",
       "      <td>40</td>\n",
       "      <td>20</td>\n",
       "      <td>15</td>\n",
       "      <td>2</td>\n",
       "    </tr>\n",
       "    <tr>\n",
       "      <th>190</th>\n",
       "      <td>176</td>\n",
       "      <td>Togetic</td>\n",
       "      <td>Fairy</td>\n",
       "      <td>Flying</td>\n",
       "      <td>405</td>\n",
       "      <td>55</td>\n",
       "      <td>40</td>\n",
       "      <td>85</td>\n",
       "      <td>80</td>\n",
       "      <td>105</td>\n",
       "      <td>40</td>\n",
       "      <td>2</td>\n",
       "    </tr>\n",
       "    <tr>\n",
       "      <th>191</th>\n",
       "      <td>177</td>\n",
       "      <td>Natu</td>\n",
       "      <td>Psychic</td>\n",
       "      <td>Flying</td>\n",
       "      <td>320</td>\n",
       "      <td>40</td>\n",
       "      <td>50</td>\n",
       "      <td>45</td>\n",
       "      <td>70</td>\n",
       "      <td>45</td>\n",
       "      <td>70</td>\n",
       "      <td>2</td>\n",
       "    </tr>\n",
       "    <tr>\n",
       "      <th>192</th>\n",
       "      <td>178</td>\n",
       "      <td>Xatu</td>\n",
       "      <td>Psychic</td>\n",
       "      <td>Flying</td>\n",
       "      <td>470</td>\n",
       "      <td>65</td>\n",
       "      <td>75</td>\n",
       "      <td>70</td>\n",
       "      <td>95</td>\n",
       "      <td>70</td>\n",
       "      <td>95</td>\n",
       "      <td>2</td>\n",
       "    </tr>\n",
       "    <tr>\n",
       "      <th>196</th>\n",
       "      <td>181</td>\n",
       "      <td>AmpharosMega Ampharos</td>\n",
       "      <td>Electric</td>\n",
       "      <td>Dragon</td>\n",
       "      <td>610</td>\n",
       "      <td>90</td>\n",
       "      <td>95</td>\n",
       "      <td>105</td>\n",
       "      <td>165</td>\n",
       "      <td>110</td>\n",
       "      <td>45</td>\n",
       "      <td>2</td>\n",
       "    </tr>\n",
       "    <tr>\n",
       "      <th>198</th>\n",
       "      <td>183</td>\n",
       "      <td>Marill</td>\n",
       "      <td>Water</td>\n",
       "      <td>Fairy</td>\n",
       "      <td>250</td>\n",
       "      <td>70</td>\n",
       "      <td>20</td>\n",
       "      <td>50</td>\n",
       "      <td>20</td>\n",
       "      <td>50</td>\n",
       "      <td>40</td>\n",
       "      <td>2</td>\n",
       "    </tr>\n",
       "    <tr>\n",
       "      <th>199</th>\n",
       "      <td>184</td>\n",
       "      <td>Azumarill</td>\n",
       "      <td>Water</td>\n",
       "      <td>Fairy</td>\n",
       "      <td>420</td>\n",
       "      <td>100</td>\n",
       "      <td>50</td>\n",
       "      <td>80</td>\n",
       "      <td>60</td>\n",
       "      <td>80</td>\n",
       "      <td>50</td>\n",
       "      <td>2</td>\n",
       "    </tr>\n",
       "    <tr>\n",
       "      <th>202</th>\n",
       "      <td>187</td>\n",
       "      <td>Hoppip</td>\n",
       "      <td>Grass</td>\n",
       "      <td>Flying</td>\n",
       "      <td>250</td>\n",
       "      <td>35</td>\n",
       "      <td>35</td>\n",
       "      <td>40</td>\n",
       "      <td>35</td>\n",
       "      <td>55</td>\n",
       "      <td>50</td>\n",
       "      <td>2</td>\n",
       "    </tr>\n",
       "    <tr>\n",
       "      <th>203</th>\n",
       "      <td>188</td>\n",
       "      <td>Skiploom</td>\n",
       "      <td>Grass</td>\n",
       "      <td>Flying</td>\n",
       "      <td>340</td>\n",
       "      <td>55</td>\n",
       "      <td>45</td>\n",
       "      <td>50</td>\n",
       "      <td>45</td>\n",
       "      <td>65</td>\n",
       "      <td>80</td>\n",
       "      <td>2</td>\n",
       "    </tr>\n",
       "    <tr>\n",
       "      <th>204</th>\n",
       "      <td>189</td>\n",
       "      <td>Jumpluff</td>\n",
       "      <td>Grass</td>\n",
       "      <td>Flying</td>\n",
       "      <td>460</td>\n",
       "      <td>75</td>\n",
       "      <td>55</td>\n",
       "      <td>70</td>\n",
       "      <td>55</td>\n",
       "      <td>95</td>\n",
       "      <td>110</td>\n",
       "      <td>2</td>\n",
       "    </tr>\n",
       "    <tr>\n",
       "      <th>208</th>\n",
       "      <td>193</td>\n",
       "      <td>Yanma</td>\n",
       "      <td>Bug</td>\n",
       "      <td>Flying</td>\n",
       "      <td>390</td>\n",
       "      <td>65</td>\n",
       "      <td>65</td>\n",
       "      <td>45</td>\n",
       "      <td>75</td>\n",
       "      <td>45</td>\n",
       "      <td>95</td>\n",
       "      <td>2</td>\n",
       "    </tr>\n",
       "    <tr>\n",
       "      <th>209</th>\n",
       "      <td>194</td>\n",
       "      <td>Wooper</td>\n",
       "      <td>Water</td>\n",
       "      <td>Ground</td>\n",
       "      <td>210</td>\n",
       "      <td>55</td>\n",
       "      <td>45</td>\n",
       "      <td>45</td>\n",
       "      <td>25</td>\n",
       "      <td>25</td>\n",
       "      <td>15</td>\n",
       "      <td>2</td>\n",
       "    </tr>\n",
       "    <tr>\n",
       "      <th>210</th>\n",
       "      <td>195</td>\n",
       "      <td>Quagsire</td>\n",
       "      <td>Water</td>\n",
       "      <td>Ground</td>\n",
       "      <td>430</td>\n",
       "      <td>95</td>\n",
       "      <td>85</td>\n",
       "      <td>85</td>\n",
       "      <td>65</td>\n",
       "      <td>65</td>\n",
       "      <td>35</td>\n",
       "      <td>2</td>\n",
       "    </tr>\n",
       "    <tr>\n",
       "      <th>213</th>\n",
       "      <td>198</td>\n",
       "      <td>Murkrow</td>\n",
       "      <td>Dark</td>\n",
       "      <td>Flying</td>\n",
       "      <td>405</td>\n",
       "      <td>60</td>\n",
       "      <td>85</td>\n",
       "      <td>42</td>\n",
       "      <td>85</td>\n",
       "      <td>42</td>\n",
       "      <td>91</td>\n",
       "      <td>2</td>\n",
       "    </tr>\n",
       "    <tr>\n",
       "      <th>214</th>\n",
       "      <td>199</td>\n",
       "      <td>Slowking</td>\n",
       "      <td>Water</td>\n",
       "      <td>Psychic</td>\n",
       "      <td>490</td>\n",
       "      <td>95</td>\n",
       "      <td>75</td>\n",
       "      <td>80</td>\n",
       "      <td>100</td>\n",
       "      <td>110</td>\n",
       "      <td>30</td>\n",
       "      <td>2</td>\n",
       "    </tr>\n",
       "    <tr>\n",
       "      <th>218</th>\n",
       "      <td>203</td>\n",
       "      <td>Girafarig</td>\n",
       "      <td>Normal</td>\n",
       "      <td>Psychic</td>\n",
       "      <td>455</td>\n",
       "      <td>70</td>\n",
       "      <td>80</td>\n",
       "      <td>65</td>\n",
       "      <td>90</td>\n",
       "      <td>65</td>\n",
       "      <td>85</td>\n",
       "      <td>2</td>\n",
       "    </tr>\n",
       "    <tr>\n",
       "      <th>220</th>\n",
       "      <td>205</td>\n",
       "      <td>Forretress</td>\n",
       "      <td>Bug</td>\n",
       "      <td>Steel</td>\n",
       "      <td>465</td>\n",
       "      <td>75</td>\n",
       "      <td>90</td>\n",
       "      <td>140</td>\n",
       "      <td>60</td>\n",
       "      <td>60</td>\n",
       "      <td>40</td>\n",
       "      <td>2</td>\n",
       "    </tr>\n",
       "    <tr>\n",
       "      <th>222</th>\n",
       "      <td>207</td>\n",
       "      <td>Gligar</td>\n",
       "      <td>Ground</td>\n",
       "      <td>Flying</td>\n",
       "      <td>430</td>\n",
       "      <td>65</td>\n",
       "      <td>75</td>\n",
       "      <td>105</td>\n",
       "      <td>35</td>\n",
       "      <td>65</td>\n",
       "      <td>85</td>\n",
       "      <td>2</td>\n",
       "    </tr>\n",
       "    <tr>\n",
       "      <th>223</th>\n",
       "      <td>208</td>\n",
       "      <td>Steelix</td>\n",
       "      <td>Steel</td>\n",
       "      <td>Ground</td>\n",
       "      <td>510</td>\n",
       "      <td>75</td>\n",
       "      <td>85</td>\n",
       "      <td>200</td>\n",
       "      <td>55</td>\n",
       "      <td>65</td>\n",
       "      <td>30</td>\n",
       "      <td>2</td>\n",
       "    </tr>\n",
       "    <tr>\n",
       "      <th>224</th>\n",
       "      <td>208</td>\n",
       "      <td>SteelixMega Steelix</td>\n",
       "      <td>Steel</td>\n",
       "      <td>Ground</td>\n",
       "      <td>610</td>\n",
       "      <td>75</td>\n",
       "      <td>125</td>\n",
       "      <td>230</td>\n",
       "      <td>55</td>\n",
       "      <td>95</td>\n",
       "      <td>30</td>\n",
       "      <td>2</td>\n",
       "    </tr>\n",
       "    <tr>\n",
       "      <th>227</th>\n",
       "      <td>211</td>\n",
       "      <td>Qwilfish</td>\n",
       "      <td>Water</td>\n",
       "      <td>Poison</td>\n",
       "      <td>430</td>\n",
       "      <td>65</td>\n",
       "      <td>95</td>\n",
       "      <td>75</td>\n",
       "      <td>55</td>\n",
       "      <td>55</td>\n",
       "      <td>85</td>\n",
       "      <td>2</td>\n",
       "    </tr>\n",
       "    <tr>\n",
       "      <th>228</th>\n",
       "      <td>212</td>\n",
       "      <td>Scizor</td>\n",
       "      <td>Bug</td>\n",
       "      <td>Steel</td>\n",
       "      <td>500</td>\n",
       "      <td>70</td>\n",
       "      <td>130</td>\n",
       "      <td>100</td>\n",
       "      <td>55</td>\n",
       "      <td>80</td>\n",
       "      <td>65</td>\n",
       "      <td>2</td>\n",
       "    </tr>\n",
       "    <tr>\n",
       "      <th>229</th>\n",
       "      <td>212</td>\n",
       "      <td>ScizorMega Scizor</td>\n",
       "      <td>Bug</td>\n",
       "      <td>Steel</td>\n",
       "      <td>600</td>\n",
       "      <td>70</td>\n",
       "      <td>150</td>\n",
       "      <td>140</td>\n",
       "      <td>65</td>\n",
       "      <td>100</td>\n",
       "      <td>75</td>\n",
       "      <td>2</td>\n",
       "    </tr>\n",
       "    <tr>\n",
       "      <th>230</th>\n",
       "      <td>213</td>\n",
       "      <td>Shuckle</td>\n",
       "      <td>Bug</td>\n",
       "      <td>Rock</td>\n",
       "      <td>505</td>\n",
       "      <td>20</td>\n",
       "      <td>10</td>\n",
       "      <td>230</td>\n",
       "      <td>10</td>\n",
       "      <td>230</td>\n",
       "      <td>5</td>\n",
       "      <td>2</td>\n",
       "    </tr>\n",
       "    <tr>\n",
       "      <th>231</th>\n",
       "      <td>214</td>\n",
       "      <td>Heracross</td>\n",
       "      <td>Bug</td>\n",
       "      <td>Fighting</td>\n",
       "      <td>500</td>\n",
       "      <td>80</td>\n",
       "      <td>125</td>\n",
       "      <td>75</td>\n",
       "      <td>40</td>\n",
       "      <td>95</td>\n",
       "      <td>85</td>\n",
       "      <td>2</td>\n",
       "    </tr>\n",
       "    <tr>\n",
       "      <th>232</th>\n",
       "      <td>214</td>\n",
       "      <td>HeracrossMega Heracross</td>\n",
       "      <td>Bug</td>\n",
       "      <td>Fighting</td>\n",
       "      <td>600</td>\n",
       "      <td>80</td>\n",
       "      <td>185</td>\n",
       "      <td>115</td>\n",
       "      <td>40</td>\n",
       "      <td>105</td>\n",
       "      <td>75</td>\n",
       "      <td>2</td>\n",
       "    </tr>\n",
       "    <tr>\n",
       "      <th>233</th>\n",
       "      <td>215</td>\n",
       "      <td>Sneasel</td>\n",
       "      <td>Dark</td>\n",
       "      <td>Ice</td>\n",
       "      <td>430</td>\n",
       "      <td>55</td>\n",
       "      <td>95</td>\n",
       "      <td>55</td>\n",
       "      <td>35</td>\n",
       "      <td>75</td>\n",
       "      <td>115</td>\n",
       "      <td>2</td>\n",
       "    </tr>\n",
       "    <tr>\n",
       "      <th>237</th>\n",
       "      <td>219</td>\n",
       "      <td>Magcargo</td>\n",
       "      <td>Fire</td>\n",
       "      <td>Rock</td>\n",
       "      <td>410</td>\n",
       "      <td>50</td>\n",
       "      <td>50</td>\n",
       "      <td>120</td>\n",
       "      <td>80</td>\n",
       "      <td>80</td>\n",
       "      <td>30</td>\n",
       "      <td>2</td>\n",
       "    </tr>\n",
       "    <tr>\n",
       "      <th>238</th>\n",
       "      <td>220</td>\n",
       "      <td>Swinub</td>\n",
       "      <td>Ice</td>\n",
       "      <td>Ground</td>\n",
       "      <td>250</td>\n",
       "      <td>50</td>\n",
       "      <td>50</td>\n",
       "      <td>40</td>\n",
       "      <td>30</td>\n",
       "      <td>30</td>\n",
       "      <td>50</td>\n",
       "      <td>2</td>\n",
       "    </tr>\n",
       "    <tr>\n",
       "      <th>239</th>\n",
       "      <td>221</td>\n",
       "      <td>Piloswine</td>\n",
       "      <td>Ice</td>\n",
       "      <td>Ground</td>\n",
       "      <td>450</td>\n",
       "      <td>100</td>\n",
       "      <td>100</td>\n",
       "      <td>80</td>\n",
       "      <td>60</td>\n",
       "      <td>60</td>\n",
       "      <td>50</td>\n",
       "      <td>2</td>\n",
       "    </tr>\n",
       "    <tr>\n",
       "      <th>240</th>\n",
       "      <td>222</td>\n",
       "      <td>Corsola</td>\n",
       "      <td>Water</td>\n",
       "      <td>Rock</td>\n",
       "      <td>380</td>\n",
       "      <td>55</td>\n",
       "      <td>55</td>\n",
       "      <td>85</td>\n",
       "      <td>65</td>\n",
       "      <td>85</td>\n",
       "      <td>35</td>\n",
       "      <td>2</td>\n",
       "    </tr>\n",
       "    <tr>\n",
       "      <th>243</th>\n",
       "      <td>225</td>\n",
       "      <td>Delibird</td>\n",
       "      <td>Ice</td>\n",
       "      <td>Flying</td>\n",
       "      <td>330</td>\n",
       "      <td>45</td>\n",
       "      <td>55</td>\n",
       "      <td>45</td>\n",
       "      <td>65</td>\n",
       "      <td>45</td>\n",
       "      <td>75</td>\n",
       "      <td>2</td>\n",
       "    </tr>\n",
       "    <tr>\n",
       "      <th>244</th>\n",
       "      <td>226</td>\n",
       "      <td>Mantine</td>\n",
       "      <td>Water</td>\n",
       "      <td>Flying</td>\n",
       "      <td>465</td>\n",
       "      <td>65</td>\n",
       "      <td>40</td>\n",
       "      <td>70</td>\n",
       "      <td>80</td>\n",
       "      <td>140</td>\n",
       "      <td>70</td>\n",
       "      <td>2</td>\n",
       "    </tr>\n",
       "    <tr>\n",
       "      <th>245</th>\n",
       "      <td>227</td>\n",
       "      <td>Skarmory</td>\n",
       "      <td>Steel</td>\n",
       "      <td>Flying</td>\n",
       "      <td>465</td>\n",
       "      <td>65</td>\n",
       "      <td>80</td>\n",
       "      <td>140</td>\n",
       "      <td>40</td>\n",
       "      <td>70</td>\n",
       "      <td>70</td>\n",
       "      <td>2</td>\n",
       "    </tr>\n",
       "    <tr>\n",
       "      <th>246</th>\n",
       "      <td>228</td>\n",
       "      <td>Houndour</td>\n",
       "      <td>Dark</td>\n",
       "      <td>Fire</td>\n",
       "      <td>330</td>\n",
       "      <td>45</td>\n",
       "      <td>60</td>\n",
       "      <td>30</td>\n",
       "      <td>80</td>\n",
       "      <td>50</td>\n",
       "      <td>65</td>\n",
       "      <td>2</td>\n",
       "    </tr>\n",
       "    <tr>\n",
       "      <th>247</th>\n",
       "      <td>229</td>\n",
       "      <td>Houndoom</td>\n",
       "      <td>Dark</td>\n",
       "      <td>Fire</td>\n",
       "      <td>500</td>\n",
       "      <td>75</td>\n",
       "      <td>90</td>\n",
       "      <td>50</td>\n",
       "      <td>110</td>\n",
       "      <td>80</td>\n",
       "      <td>95</td>\n",
       "      <td>2</td>\n",
       "    </tr>\n",
       "    <tr>\n",
       "      <th>248</th>\n",
       "      <td>229</td>\n",
       "      <td>HoundoomMega Houndoom</td>\n",
       "      <td>Dark</td>\n",
       "      <td>Fire</td>\n",
       "      <td>600</td>\n",
       "      <td>75</td>\n",
       "      <td>90</td>\n",
       "      <td>90</td>\n",
       "      <td>140</td>\n",
       "      <td>90</td>\n",
       "      <td>115</td>\n",
       "      <td>2</td>\n",
       "    </tr>\n",
       "    <tr>\n",
       "      <th>249</th>\n",
       "      <td>230</td>\n",
       "      <td>Kingdra</td>\n",
       "      <td>Water</td>\n",
       "      <td>Dragon</td>\n",
       "      <td>540</td>\n",
       "      <td>75</td>\n",
       "      <td>95</td>\n",
       "      <td>95</td>\n",
       "      <td>95</td>\n",
       "      <td>95</td>\n",
       "      <td>85</td>\n",
       "      <td>2</td>\n",
       "    </tr>\n",
       "    <tr>\n",
       "      <th>257</th>\n",
       "      <td>238</td>\n",
       "      <td>Smoochum</td>\n",
       "      <td>Ice</td>\n",
       "      <td>Psychic</td>\n",
       "      <td>305</td>\n",
       "      <td>45</td>\n",
       "      <td>30</td>\n",
       "      <td>15</td>\n",
       "      <td>85</td>\n",
       "      <td>65</td>\n",
       "      <td>65</td>\n",
       "      <td>2</td>\n",
       "    </tr>\n",
       "    <tr>\n",
       "      <th>265</th>\n",
       "      <td>246</td>\n",
       "      <td>Larvitar</td>\n",
       "      <td>Rock</td>\n",
       "      <td>Ground</td>\n",
       "      <td>300</td>\n",
       "      <td>50</td>\n",
       "      <td>64</td>\n",
       "      <td>50</td>\n",
       "      <td>45</td>\n",
       "      <td>50</td>\n",
       "      <td>41</td>\n",
       "      <td>2</td>\n",
       "    </tr>\n",
       "    <tr>\n",
       "      <th>266</th>\n",
       "      <td>247</td>\n",
       "      <td>Pupitar</td>\n",
       "      <td>Rock</td>\n",
       "      <td>Ground</td>\n",
       "      <td>410</td>\n",
       "      <td>70</td>\n",
       "      <td>84</td>\n",
       "      <td>70</td>\n",
       "      <td>65</td>\n",
       "      <td>70</td>\n",
       "      <td>51</td>\n",
       "      <td>2</td>\n",
       "    </tr>\n",
       "    <tr>\n",
       "      <th>267</th>\n",
       "      <td>248</td>\n",
       "      <td>Tyranitar</td>\n",
       "      <td>Rock</td>\n",
       "      <td>Dark</td>\n",
       "      <td>600</td>\n",
       "      <td>100</td>\n",
       "      <td>134</td>\n",
       "      <td>110</td>\n",
       "      <td>95</td>\n",
       "      <td>100</td>\n",
       "      <td>61</td>\n",
       "      <td>2</td>\n",
       "    </tr>\n",
       "    <tr>\n",
       "      <th>268</th>\n",
       "      <td>248</td>\n",
       "      <td>TyranitarMega Tyranitar</td>\n",
       "      <td>Rock</td>\n",
       "      <td>Dark</td>\n",
       "      <td>700</td>\n",
       "      <td>100</td>\n",
       "      <td>164</td>\n",
       "      <td>150</td>\n",
       "      <td>95</td>\n",
       "      <td>120</td>\n",
       "      <td>71</td>\n",
       "      <td>2</td>\n",
       "    </tr>\n",
       "    <tr>\n",
       "      <th>271</th>\n",
       "      <td>251</td>\n",
       "      <td>Celebi</td>\n",
       "      <td>Psychic</td>\n",
       "      <td>Grass</td>\n",
       "      <td>600</td>\n",
       "      <td>100</td>\n",
       "      <td>100</td>\n",
       "      <td>100</td>\n",
       "      <td>100</td>\n",
       "      <td>100</td>\n",
       "      <td>100</td>\n",
       "      <td>2</td>\n",
       "    </tr>\n",
       "  </tbody>\n",
       "</table>\n",
       "</div>"
      ],
      "text/plain": [
       "       #                     Name    Type 1    Type 2  Total   HP  Attack  \\\n",
       "177  163                 Hoothoot    Normal    Flying    262   60      30   \n",
       "178  164                  Noctowl    Normal    Flying    442  100      50   \n",
       "179  165                   Ledyba       Bug    Flying    265   40      20   \n",
       "180  166                   Ledian       Bug    Flying    390   55      35   \n",
       "181  167                 Spinarak       Bug    Poison    250   40      60   \n",
       "182  168                  Ariados       Bug    Poison    390   70      90   \n",
       "183  169                   Crobat    Poison    Flying    535   85      90   \n",
       "184  170                 Chinchou     Water  Electric    330   75      38   \n",
       "185  171                  Lanturn     Water  Electric    460  125      58   \n",
       "188  174                Igglybuff    Normal     Fairy    210   90      30   \n",
       "190  176                  Togetic     Fairy    Flying    405   55      40   \n",
       "191  177                     Natu   Psychic    Flying    320   40      50   \n",
       "192  178                     Xatu   Psychic    Flying    470   65      75   \n",
       "196  181    AmpharosMega Ampharos  Electric    Dragon    610   90      95   \n",
       "198  183                   Marill     Water     Fairy    250   70      20   \n",
       "199  184                Azumarill     Water     Fairy    420  100      50   \n",
       "202  187                   Hoppip     Grass    Flying    250   35      35   \n",
       "203  188                 Skiploom     Grass    Flying    340   55      45   \n",
       "204  189                 Jumpluff     Grass    Flying    460   75      55   \n",
       "208  193                    Yanma       Bug    Flying    390   65      65   \n",
       "209  194                   Wooper     Water    Ground    210   55      45   \n",
       "210  195                 Quagsire     Water    Ground    430   95      85   \n",
       "213  198                  Murkrow      Dark    Flying    405   60      85   \n",
       "214  199                 Slowking     Water   Psychic    490   95      75   \n",
       "218  203                Girafarig    Normal   Psychic    455   70      80   \n",
       "220  205               Forretress       Bug     Steel    465   75      90   \n",
       "222  207                   Gligar    Ground    Flying    430   65      75   \n",
       "223  208                  Steelix     Steel    Ground    510   75      85   \n",
       "224  208      SteelixMega Steelix     Steel    Ground    610   75     125   \n",
       "227  211                 Qwilfish     Water    Poison    430   65      95   \n",
       "228  212                   Scizor       Bug     Steel    500   70     130   \n",
       "229  212        ScizorMega Scizor       Bug     Steel    600   70     150   \n",
       "230  213                  Shuckle       Bug      Rock    505   20      10   \n",
       "231  214                Heracross       Bug  Fighting    500   80     125   \n",
       "232  214  HeracrossMega Heracross       Bug  Fighting    600   80     185   \n",
       "233  215                  Sneasel      Dark       Ice    430   55      95   \n",
       "237  219                 Magcargo      Fire      Rock    410   50      50   \n",
       "238  220                   Swinub       Ice    Ground    250   50      50   \n",
       "239  221                Piloswine       Ice    Ground    450  100     100   \n",
       "240  222                  Corsola     Water      Rock    380   55      55   \n",
       "243  225                 Delibird       Ice    Flying    330   45      55   \n",
       "244  226                  Mantine     Water    Flying    465   65      40   \n",
       "245  227                 Skarmory     Steel    Flying    465   65      80   \n",
       "246  228                 Houndour      Dark      Fire    330   45      60   \n",
       "247  229                 Houndoom      Dark      Fire    500   75      90   \n",
       "248  229    HoundoomMega Houndoom      Dark      Fire    600   75      90   \n",
       "249  230                  Kingdra     Water    Dragon    540   75      95   \n",
       "257  238                 Smoochum       Ice   Psychic    305   45      30   \n",
       "265  246                 Larvitar      Rock    Ground    300   50      64   \n",
       "266  247                  Pupitar      Rock    Ground    410   70      84   \n",
       "267  248                Tyranitar      Rock      Dark    600  100     134   \n",
       "268  248  TyranitarMega Tyranitar      Rock      Dark    700  100     164   \n",
       "271  251                   Celebi   Psychic     Grass    600  100     100   \n",
       "\n",
       "     Defense  SpecialA  SpecialD  Speed  Generation  \n",
       "177       30        36        56     50           2  \n",
       "178       50        76        96     70           2  \n",
       "179       30        40        80     55           2  \n",
       "180       50        55       110     85           2  \n",
       "181       40        40        40     30           2  \n",
       "182       70        60        60     40           2  \n",
       "183       80        70        80    130           2  \n",
       "184       38        56        56     67           2  \n",
       "185       58        76        76     67           2  \n",
       "188       15        40        20     15           2  \n",
       "190       85        80       105     40           2  \n",
       "191       45        70        45     70           2  \n",
       "192       70        95        70     95           2  \n",
       "196      105       165       110     45           2  \n",
       "198       50        20        50     40           2  \n",
       "199       80        60        80     50           2  \n",
       "202       40        35        55     50           2  \n",
       "203       50        45        65     80           2  \n",
       "204       70        55        95    110           2  \n",
       "208       45        75        45     95           2  \n",
       "209       45        25        25     15           2  \n",
       "210       85        65        65     35           2  \n",
       "213       42        85        42     91           2  \n",
       "214       80       100       110     30           2  \n",
       "218       65        90        65     85           2  \n",
       "220      140        60        60     40           2  \n",
       "222      105        35        65     85           2  \n",
       "223      200        55        65     30           2  \n",
       "224      230        55        95     30           2  \n",
       "227       75        55        55     85           2  \n",
       "228      100        55        80     65           2  \n",
       "229      140        65       100     75           2  \n",
       "230      230        10       230      5           2  \n",
       "231       75        40        95     85           2  \n",
       "232      115        40       105     75           2  \n",
       "233       55        35        75    115           2  \n",
       "237      120        80        80     30           2  \n",
       "238       40        30        30     50           2  \n",
       "239       80        60        60     50           2  \n",
       "240       85        65        85     35           2  \n",
       "243       45        65        45     75           2  \n",
       "244       70        80       140     70           2  \n",
       "245      140        40        70     70           2  \n",
       "246       30        80        50     65           2  \n",
       "247       50       110        80     95           2  \n",
       "248       90       140        90    115           2  \n",
       "249       95        95        95     85           2  \n",
       "257       15        85        65     65           2  \n",
       "265       50        45        50     41           2  \n",
       "266       70        65        70     51           2  \n",
       "267      110        95       100     61           2  \n",
       "268      150        95       120     71           2  \n",
       "271      100       100       100    100           2  "
      ]
     },
     "metadata": {},
     "output_type": "display_data"
    },
    {
     "data": {
      "text/html": [
       "<div>\n",
       "<style scoped>\n",
       "    .dataframe tbody tr th:only-of-type {\n",
       "        vertical-align: middle;\n",
       "    }\n",
       "\n",
       "    .dataframe tbody tr th {\n",
       "        vertical-align: top;\n",
       "    }\n",
       "\n",
       "    .dataframe thead th {\n",
       "        text-align: right;\n",
       "    }\n",
       "</style>\n",
       "<table border=\"1\" class=\"dataframe\">\n",
       "  <thead>\n",
       "    <tr style=\"text-align: right;\">\n",
       "      <th></th>\n",
       "      <th>#</th>\n",
       "      <th>Name</th>\n",
       "      <th>Type 1</th>\n",
       "      <th>Type 2</th>\n",
       "      <th>Total</th>\n",
       "      <th>HP</th>\n",
       "      <th>Attack</th>\n",
       "      <th>Defense</th>\n",
       "      <th>SpecialA</th>\n",
       "      <th>SpecialD</th>\n",
       "      <th>Speed</th>\n",
       "      <th>Generation</th>\n",
       "    </tr>\n",
       "  </thead>\n",
       "  <tbody>\n",
       "    <tr>\n",
       "      <th>275</th>\n",
       "      <td>254</td>\n",
       "      <td>SceptileMega Sceptile</td>\n",
       "      <td>Grass</td>\n",
       "      <td>Dragon</td>\n",
       "      <td>630</td>\n",
       "      <td>70</td>\n",
       "      <td>110</td>\n",
       "      <td>75</td>\n",
       "      <td>145</td>\n",
       "      <td>85</td>\n",
       "      <td>145</td>\n",
       "      <td>3</td>\n",
       "    </tr>\n",
       "    <tr>\n",
       "      <th>277</th>\n",
       "      <td>256</td>\n",
       "      <td>Combusken</td>\n",
       "      <td>Fire</td>\n",
       "      <td>Fighting</td>\n",
       "      <td>405</td>\n",
       "      <td>60</td>\n",
       "      <td>85</td>\n",
       "      <td>60</td>\n",
       "      <td>85</td>\n",
       "      <td>60</td>\n",
       "      <td>55</td>\n",
       "      <td>3</td>\n",
       "    </tr>\n",
       "    <tr>\n",
       "      <th>278</th>\n",
       "      <td>257</td>\n",
       "      <td>Blaziken</td>\n",
       "      <td>Fire</td>\n",
       "      <td>Fighting</td>\n",
       "      <td>530</td>\n",
       "      <td>80</td>\n",
       "      <td>120</td>\n",
       "      <td>70</td>\n",
       "      <td>110</td>\n",
       "      <td>70</td>\n",
       "      <td>80</td>\n",
       "      <td>3</td>\n",
       "    </tr>\n",
       "    <tr>\n",
       "      <th>279</th>\n",
       "      <td>257</td>\n",
       "      <td>BlazikenMega Blaziken</td>\n",
       "      <td>Fire</td>\n",
       "      <td>Fighting</td>\n",
       "      <td>630</td>\n",
       "      <td>80</td>\n",
       "      <td>160</td>\n",
       "      <td>80</td>\n",
       "      <td>130</td>\n",
       "      <td>80</td>\n",
       "      <td>100</td>\n",
       "      <td>3</td>\n",
       "    </tr>\n",
       "    <tr>\n",
       "      <th>281</th>\n",
       "      <td>259</td>\n",
       "      <td>Marshtomp</td>\n",
       "      <td>Water</td>\n",
       "      <td>Ground</td>\n",
       "      <td>405</td>\n",
       "      <td>70</td>\n",
       "      <td>85</td>\n",
       "      <td>70</td>\n",
       "      <td>60</td>\n",
       "      <td>70</td>\n",
       "      <td>50</td>\n",
       "      <td>3</td>\n",
       "    </tr>\n",
       "    <tr>\n",
       "      <th>...</th>\n",
       "      <td>...</td>\n",
       "      <td>...</td>\n",
       "      <td>...</td>\n",
       "      <td>...</td>\n",
       "      <td>...</td>\n",
       "      <td>...</td>\n",
       "      <td>...</td>\n",
       "      <td>...</td>\n",
       "      <td>...</td>\n",
       "      <td>...</td>\n",
       "      <td>...</td>\n",
       "      <td>...</td>\n",
       "    </tr>\n",
       "    <tr>\n",
       "      <th>409</th>\n",
       "      <td>373</td>\n",
       "      <td>SalamenceMega Salamence</td>\n",
       "      <td>Dragon</td>\n",
       "      <td>Flying</td>\n",
       "      <td>700</td>\n",
       "      <td>95</td>\n",
       "      <td>145</td>\n",
       "      <td>130</td>\n",
       "      <td>120</td>\n",
       "      <td>90</td>\n",
       "      <td>120</td>\n",
       "      <td>3</td>\n",
       "    </tr>\n",
       "    <tr>\n",
       "      <th>410</th>\n",
       "      <td>374</td>\n",
       "      <td>Beldum</td>\n",
       "      <td>Steel</td>\n",
       "      <td>Psychic</td>\n",
       "      <td>300</td>\n",
       "      <td>40</td>\n",
       "      <td>55</td>\n",
       "      <td>80</td>\n",
       "      <td>35</td>\n",
       "      <td>60</td>\n",
       "      <td>30</td>\n",
       "      <td>3</td>\n",
       "    </tr>\n",
       "    <tr>\n",
       "      <th>411</th>\n",
       "      <td>375</td>\n",
       "      <td>Metang</td>\n",
       "      <td>Steel</td>\n",
       "      <td>Psychic</td>\n",
       "      <td>420</td>\n",
       "      <td>60</td>\n",
       "      <td>75</td>\n",
       "      <td>100</td>\n",
       "      <td>55</td>\n",
       "      <td>80</td>\n",
       "      <td>50</td>\n",
       "      <td>3</td>\n",
       "    </tr>\n",
       "    <tr>\n",
       "      <th>412</th>\n",
       "      <td>376</td>\n",
       "      <td>Metagross</td>\n",
       "      <td>Steel</td>\n",
       "      <td>Psychic</td>\n",
       "      <td>600</td>\n",
       "      <td>80</td>\n",
       "      <td>135</td>\n",
       "      <td>130</td>\n",
       "      <td>95</td>\n",
       "      <td>90</td>\n",
       "      <td>70</td>\n",
       "      <td>3</td>\n",
       "    </tr>\n",
       "    <tr>\n",
       "      <th>413</th>\n",
       "      <td>376</td>\n",
       "      <td>MetagrossMega Metagross</td>\n",
       "      <td>Steel</td>\n",
       "      <td>Psychic</td>\n",
       "      <td>700</td>\n",
       "      <td>80</td>\n",
       "      <td>145</td>\n",
       "      <td>150</td>\n",
       "      <td>105</td>\n",
       "      <td>110</td>\n",
       "      <td>110</td>\n",
       "      <td>3</td>\n",
       "    </tr>\n",
       "  </tbody>\n",
       "</table>\n",
       "<p>74 rows × 12 columns</p>\n",
       "</div>"
      ],
      "text/plain": [
       "       #                     Name  Type 1    Type 2  Total  HP  Attack  \\\n",
       "275  254    SceptileMega Sceptile   Grass    Dragon    630  70     110   \n",
       "277  256                Combusken    Fire  Fighting    405  60      85   \n",
       "278  257                 Blaziken    Fire  Fighting    530  80     120   \n",
       "279  257    BlazikenMega Blaziken    Fire  Fighting    630  80     160   \n",
       "281  259                Marshtomp   Water    Ground    405  70      85   \n",
       "..   ...                      ...     ...       ...    ...  ..     ...   \n",
       "409  373  SalamenceMega Salamence  Dragon    Flying    700  95     145   \n",
       "410  374                   Beldum   Steel   Psychic    300  40      55   \n",
       "411  375                   Metang   Steel   Psychic    420  60      75   \n",
       "412  376                Metagross   Steel   Psychic    600  80     135   \n",
       "413  376  MetagrossMega Metagross   Steel   Psychic    700  80     145   \n",
       "\n",
       "     Defense  SpecialA  SpecialD  Speed  Generation  \n",
       "275       75       145        85    145           3  \n",
       "277       60        85        60     55           3  \n",
       "278       70       110        70     80           3  \n",
       "279       80       130        80    100           3  \n",
       "281       70        60        70     50           3  \n",
       "..       ...       ...       ...    ...         ...  \n",
       "409      130       120        90    120           3  \n",
       "410       80        35        60     30           3  \n",
       "411      100        55        80     50           3  \n",
       "412      130        95        90     70           3  \n",
       "413      150       105       110    110           3  \n",
       "\n",
       "[74 rows x 12 columns]"
      ]
     },
     "metadata": {},
     "output_type": "display_data"
    },
    {
     "data": {
      "text/html": [
       "<div>\n",
       "<style scoped>\n",
       "    .dataframe tbody tr th:only-of-type {\n",
       "        vertical-align: middle;\n",
       "    }\n",
       "\n",
       "    .dataframe tbody tr th {\n",
       "        vertical-align: top;\n",
       "    }\n",
       "\n",
       "    .dataframe thead th {\n",
       "        text-align: right;\n",
       "    }\n",
       "</style>\n",
       "<table border=\"1\" class=\"dataframe\">\n",
       "  <thead>\n",
       "    <tr style=\"text-align: right;\">\n",
       "      <th></th>\n",
       "      <th>#</th>\n",
       "      <th>Name</th>\n",
       "      <th>Type 1</th>\n",
       "      <th>Type 2</th>\n",
       "      <th>Total</th>\n",
       "      <th>HP</th>\n",
       "      <th>Attack</th>\n",
       "      <th>Defense</th>\n",
       "      <th>SpecialA</th>\n",
       "      <th>SpecialD</th>\n",
       "      <th>Speed</th>\n",
       "      <th>Generation</th>\n",
       "    </tr>\n",
       "  </thead>\n",
       "  <tbody>\n",
       "    <tr>\n",
       "      <th>434</th>\n",
       "      <td>389</td>\n",
       "      <td>Torterra</td>\n",
       "      <td>Grass</td>\n",
       "      <td>Ground</td>\n",
       "      <td>525</td>\n",
       "      <td>95</td>\n",
       "      <td>109</td>\n",
       "      <td>105</td>\n",
       "      <td>75</td>\n",
       "      <td>85</td>\n",
       "      <td>56</td>\n",
       "      <td>4</td>\n",
       "    </tr>\n",
       "    <tr>\n",
       "      <th>436</th>\n",
       "      <td>391</td>\n",
       "      <td>Monferno</td>\n",
       "      <td>Fire</td>\n",
       "      <td>Fighting</td>\n",
       "      <td>405</td>\n",
       "      <td>64</td>\n",
       "      <td>78</td>\n",
       "      <td>52</td>\n",
       "      <td>78</td>\n",
       "      <td>52</td>\n",
       "      <td>81</td>\n",
       "      <td>4</td>\n",
       "    </tr>\n",
       "    <tr>\n",
       "      <th>437</th>\n",
       "      <td>392</td>\n",
       "      <td>Infernape</td>\n",
       "      <td>Fire</td>\n",
       "      <td>Fighting</td>\n",
       "      <td>534</td>\n",
       "      <td>76</td>\n",
       "      <td>104</td>\n",
       "      <td>71</td>\n",
       "      <td>104</td>\n",
       "      <td>71</td>\n",
       "      <td>108</td>\n",
       "      <td>4</td>\n",
       "    </tr>\n",
       "    <tr>\n",
       "      <th>440</th>\n",
       "      <td>395</td>\n",
       "      <td>Empoleon</td>\n",
       "      <td>Water</td>\n",
       "      <td>Steel</td>\n",
       "      <td>530</td>\n",
       "      <td>84</td>\n",
       "      <td>86</td>\n",
       "      <td>88</td>\n",
       "      <td>111</td>\n",
       "      <td>101</td>\n",
       "      <td>60</td>\n",
       "      <td>4</td>\n",
       "    </tr>\n",
       "    <tr>\n",
       "      <th>441</th>\n",
       "      <td>396</td>\n",
       "      <td>Starly</td>\n",
       "      <td>Normal</td>\n",
       "      <td>Flying</td>\n",
       "      <td>245</td>\n",
       "      <td>40</td>\n",
       "      <td>55</td>\n",
       "      <td>30</td>\n",
       "      <td>30</td>\n",
       "      <td>30</td>\n",
       "      <td>60</td>\n",
       "      <td>4</td>\n",
       "    </tr>\n",
       "    <tr>\n",
       "      <th>...</th>\n",
       "      <td>...</td>\n",
       "      <td>...</td>\n",
       "      <td>...</td>\n",
       "      <td>...</td>\n",
       "      <td>...</td>\n",
       "      <td>...</td>\n",
       "      <td>...</td>\n",
       "      <td>...</td>\n",
       "      <td>...</td>\n",
       "      <td>...</td>\n",
       "      <td>...</td>\n",
       "      <td>...</td>\n",
       "    </tr>\n",
       "    <tr>\n",
       "      <th>532</th>\n",
       "      <td>479</td>\n",
       "      <td>RotomHeat Rotom</td>\n",
       "      <td>Electric</td>\n",
       "      <td>Fire</td>\n",
       "      <td>520</td>\n",
       "      <td>50</td>\n",
       "      <td>65</td>\n",
       "      <td>107</td>\n",
       "      <td>105</td>\n",
       "      <td>107</td>\n",
       "      <td>86</td>\n",
       "      <td>4</td>\n",
       "    </tr>\n",
       "    <tr>\n",
       "      <th>533</th>\n",
       "      <td>479</td>\n",
       "      <td>RotomWash Rotom</td>\n",
       "      <td>Electric</td>\n",
       "      <td>Water</td>\n",
       "      <td>520</td>\n",
       "      <td>50</td>\n",
       "      <td>65</td>\n",
       "      <td>107</td>\n",
       "      <td>105</td>\n",
       "      <td>107</td>\n",
       "      <td>86</td>\n",
       "      <td>4</td>\n",
       "    </tr>\n",
       "    <tr>\n",
       "      <th>534</th>\n",
       "      <td>479</td>\n",
       "      <td>RotomFrost Rotom</td>\n",
       "      <td>Electric</td>\n",
       "      <td>Ice</td>\n",
       "      <td>520</td>\n",
       "      <td>50</td>\n",
       "      <td>65</td>\n",
       "      <td>107</td>\n",
       "      <td>105</td>\n",
       "      <td>107</td>\n",
       "      <td>86</td>\n",
       "      <td>4</td>\n",
       "    </tr>\n",
       "    <tr>\n",
       "      <th>535</th>\n",
       "      <td>479</td>\n",
       "      <td>RotomFan Rotom</td>\n",
       "      <td>Electric</td>\n",
       "      <td>Flying</td>\n",
       "      <td>520</td>\n",
       "      <td>50</td>\n",
       "      <td>65</td>\n",
       "      <td>107</td>\n",
       "      <td>105</td>\n",
       "      <td>107</td>\n",
       "      <td>86</td>\n",
       "      <td>4</td>\n",
       "    </tr>\n",
       "    <tr>\n",
       "      <th>536</th>\n",
       "      <td>479</td>\n",
       "      <td>RotomMow Rotom</td>\n",
       "      <td>Electric</td>\n",
       "      <td>Grass</td>\n",
       "      <td>520</td>\n",
       "      <td>50</td>\n",
       "      <td>65</td>\n",
       "      <td>107</td>\n",
       "      <td>105</td>\n",
       "      <td>107</td>\n",
       "      <td>86</td>\n",
       "      <td>4</td>\n",
       "    </tr>\n",
       "  </tbody>\n",
       "</table>\n",
       "<p>61 rows × 12 columns</p>\n",
       "</div>"
      ],
      "text/plain": [
       "       #              Name    Type 1    Type 2  Total  HP  Attack  Defense  \\\n",
       "434  389          Torterra     Grass    Ground    525  95     109      105   \n",
       "436  391          Monferno      Fire  Fighting    405  64      78       52   \n",
       "437  392         Infernape      Fire  Fighting    534  76     104       71   \n",
       "440  395          Empoleon     Water     Steel    530  84      86       88   \n",
       "441  396            Starly    Normal    Flying    245  40      55       30   \n",
       "..   ...               ...       ...       ...    ...  ..     ...      ...   \n",
       "532  479   RotomHeat Rotom  Electric      Fire    520  50      65      107   \n",
       "533  479   RotomWash Rotom  Electric     Water    520  50      65      107   \n",
       "534  479  RotomFrost Rotom  Electric       Ice    520  50      65      107   \n",
       "535  479    RotomFan Rotom  Electric    Flying    520  50      65      107   \n",
       "536  479    RotomMow Rotom  Electric     Grass    520  50      65      107   \n",
       "\n",
       "     SpecialA  SpecialD  Speed  Generation  \n",
       "434        75        85     56           4  \n",
       "436        78        52     81           4  \n",
       "437       104        71    108           4  \n",
       "440       111       101     60           4  \n",
       "441        30        30     60           4  \n",
       "..        ...       ...    ...         ...  \n",
       "532       105       107     86           4  \n",
       "533       105       107     86           4  \n",
       "534       105       107     86           4  \n",
       "535       105       107     86           4  \n",
       "536       105       107     86           4  \n",
       "\n",
       "[61 rows x 12 columns]"
      ]
     },
     "metadata": {},
     "output_type": "display_data"
    },
    {
     "data": {
      "text/html": [
       "<div>\n",
       "<style scoped>\n",
       "    .dataframe tbody tr th:only-of-type {\n",
       "        vertical-align: middle;\n",
       "    }\n",
       "\n",
       "    .dataframe tbody tr th {\n",
       "        vertical-align: top;\n",
       "    }\n",
       "\n",
       "    .dataframe thead th {\n",
       "        text-align: right;\n",
       "    }\n",
       "</style>\n",
       "<table border=\"1\" class=\"dataframe\">\n",
       "  <thead>\n",
       "    <tr style=\"text-align: right;\">\n",
       "      <th></th>\n",
       "      <th>#</th>\n",
       "      <th>Name</th>\n",
       "      <th>Type 1</th>\n",
       "      <th>Type 2</th>\n",
       "      <th>Total</th>\n",
       "      <th>HP</th>\n",
       "      <th>Attack</th>\n",
       "      <th>Defense</th>\n",
       "      <th>SpecialA</th>\n",
       "      <th>SpecialD</th>\n",
       "      <th>Speed</th>\n",
       "      <th>Generation</th>\n",
       "    </tr>\n",
       "  </thead>\n",
       "  <tbody>\n",
       "    <tr>\n",
       "      <th>558</th>\n",
       "      <td>499</td>\n",
       "      <td>Pignite</td>\n",
       "      <td>Fire</td>\n",
       "      <td>Fighting</td>\n",
       "      <td>418</td>\n",
       "      <td>90</td>\n",
       "      <td>93</td>\n",
       "      <td>55</td>\n",
       "      <td>70</td>\n",
       "      <td>55</td>\n",
       "      <td>55</td>\n",
       "      <td>5</td>\n",
       "    </tr>\n",
       "    <tr>\n",
       "      <th>559</th>\n",
       "      <td>500</td>\n",
       "      <td>Emboar</td>\n",
       "      <td>Fire</td>\n",
       "      <td>Fighting</td>\n",
       "      <td>528</td>\n",
       "      <td>110</td>\n",
       "      <td>123</td>\n",
       "      <td>65</td>\n",
       "      <td>100</td>\n",
       "      <td>65</td>\n",
       "      <td>65</td>\n",
       "      <td>5</td>\n",
       "    </tr>\n",
       "    <tr>\n",
       "      <th>578</th>\n",
       "      <td>519</td>\n",
       "      <td>Pidove</td>\n",
       "      <td>Normal</td>\n",
       "      <td>Flying</td>\n",
       "      <td>264</td>\n",
       "      <td>50</td>\n",
       "      <td>55</td>\n",
       "      <td>50</td>\n",
       "      <td>36</td>\n",
       "      <td>30</td>\n",
       "      <td>43</td>\n",
       "      <td>5</td>\n",
       "    </tr>\n",
       "    <tr>\n",
       "      <th>579</th>\n",
       "      <td>520</td>\n",
       "      <td>Tranquill</td>\n",
       "      <td>Normal</td>\n",
       "      <td>Flying</td>\n",
       "      <td>358</td>\n",
       "      <td>62</td>\n",
       "      <td>77</td>\n",
       "      <td>62</td>\n",
       "      <td>50</td>\n",
       "      <td>42</td>\n",
       "      <td>65</td>\n",
       "      <td>5</td>\n",
       "    </tr>\n",
       "    <tr>\n",
       "      <th>580</th>\n",
       "      <td>521</td>\n",
       "      <td>Unfezant</td>\n",
       "      <td>Normal</td>\n",
       "      <td>Flying</td>\n",
       "      <td>488</td>\n",
       "      <td>80</td>\n",
       "      <td>115</td>\n",
       "      <td>80</td>\n",
       "      <td>65</td>\n",
       "      <td>55</td>\n",
       "      <td>93</td>\n",
       "      <td>5</td>\n",
       "    </tr>\n",
       "    <tr>\n",
       "      <th>...</th>\n",
       "      <td>...</td>\n",
       "      <td>...</td>\n",
       "      <td>...</td>\n",
       "      <td>...</td>\n",
       "      <td>...</td>\n",
       "      <td>...</td>\n",
       "      <td>...</td>\n",
       "      <td>...</td>\n",
       "      <td>...</td>\n",
       "      <td>...</td>\n",
       "      <td>...</td>\n",
       "      <td>...</td>\n",
       "    </tr>\n",
       "    <tr>\n",
       "      <th>713</th>\n",
       "      <td>647</td>\n",
       "      <td>KeldeoOrdinary Forme</td>\n",
       "      <td>Water</td>\n",
       "      <td>Fighting</td>\n",
       "      <td>580</td>\n",
       "      <td>91</td>\n",
       "      <td>72</td>\n",
       "      <td>90</td>\n",
       "      <td>129</td>\n",
       "      <td>90</td>\n",
       "      <td>108</td>\n",
       "      <td>5</td>\n",
       "    </tr>\n",
       "    <tr>\n",
       "      <th>714</th>\n",
       "      <td>647</td>\n",
       "      <td>KeldeoResolute Forme</td>\n",
       "      <td>Water</td>\n",
       "      <td>Fighting</td>\n",
       "      <td>580</td>\n",
       "      <td>91</td>\n",
       "      <td>72</td>\n",
       "      <td>90</td>\n",
       "      <td>129</td>\n",
       "      <td>90</td>\n",
       "      <td>108</td>\n",
       "      <td>5</td>\n",
       "    </tr>\n",
       "    <tr>\n",
       "      <th>715</th>\n",
       "      <td>648</td>\n",
       "      <td>MeloettaAria Forme</td>\n",
       "      <td>Normal</td>\n",
       "      <td>Psychic</td>\n",
       "      <td>600</td>\n",
       "      <td>100</td>\n",
       "      <td>77</td>\n",
       "      <td>77</td>\n",
       "      <td>128</td>\n",
       "      <td>128</td>\n",
       "      <td>90</td>\n",
       "      <td>5</td>\n",
       "    </tr>\n",
       "    <tr>\n",
       "      <th>716</th>\n",
       "      <td>648</td>\n",
       "      <td>MeloettaPirouette Forme</td>\n",
       "      <td>Normal</td>\n",
       "      <td>Fighting</td>\n",
       "      <td>600</td>\n",
       "      <td>100</td>\n",
       "      <td>128</td>\n",
       "      <td>90</td>\n",
       "      <td>77</td>\n",
       "      <td>77</td>\n",
       "      <td>128</td>\n",
       "      <td>5</td>\n",
       "    </tr>\n",
       "    <tr>\n",
       "      <th>717</th>\n",
       "      <td>649</td>\n",
       "      <td>Genesect</td>\n",
       "      <td>Bug</td>\n",
       "      <td>Steel</td>\n",
       "      <td>600</td>\n",
       "      <td>71</td>\n",
       "      <td>120</td>\n",
       "      <td>95</td>\n",
       "      <td>120</td>\n",
       "      <td>95</td>\n",
       "      <td>99</td>\n",
       "      <td>5</td>\n",
       "    </tr>\n",
       "  </tbody>\n",
       "</table>\n",
       "<p>69 rows × 12 columns</p>\n",
       "</div>"
      ],
      "text/plain": [
       "       #                     Name  Type 1    Type 2  Total   HP  Attack  \\\n",
       "558  499                  Pignite    Fire  Fighting    418   90      93   \n",
       "559  500                   Emboar    Fire  Fighting    528  110     123   \n",
       "578  519                   Pidove  Normal    Flying    264   50      55   \n",
       "579  520                Tranquill  Normal    Flying    358   62      77   \n",
       "580  521                 Unfezant  Normal    Flying    488   80     115   \n",
       "..   ...                      ...     ...       ...    ...  ...     ...   \n",
       "713  647     KeldeoOrdinary Forme   Water  Fighting    580   91      72   \n",
       "714  647     KeldeoResolute Forme   Water  Fighting    580   91      72   \n",
       "715  648       MeloettaAria Forme  Normal   Psychic    600  100      77   \n",
       "716  648  MeloettaPirouette Forme  Normal  Fighting    600  100     128   \n",
       "717  649                 Genesect     Bug     Steel    600   71     120   \n",
       "\n",
       "     Defense  SpecialA  SpecialD  Speed  Generation  \n",
       "558       55        70        55     55           5  \n",
       "559       65       100        65     65           5  \n",
       "578       50        36        30     43           5  \n",
       "579       62        50        42     65           5  \n",
       "580       80        65        55     93           5  \n",
       "..       ...       ...       ...    ...         ...  \n",
       "713       90       129        90    108           5  \n",
       "714       90       129        90    108           5  \n",
       "715       77       128       128     90           5  \n",
       "716       90        77        77    128           5  \n",
       "717       95       120        95     99           5  \n",
       "\n",
       "[69 rows x 12 columns]"
      ]
     },
     "metadata": {},
     "output_type": "display_data"
    },
    {
     "data": {
      "text/html": [
       "<div>\n",
       "<style scoped>\n",
       "    .dataframe tbody tr th:only-of-type {\n",
       "        vertical-align: middle;\n",
       "    }\n",
       "\n",
       "    .dataframe tbody tr th {\n",
       "        vertical-align: top;\n",
       "    }\n",
       "\n",
       "    .dataframe thead th {\n",
       "        text-align: right;\n",
       "    }\n",
       "</style>\n",
       "<table border=\"1\" class=\"dataframe\">\n",
       "  <thead>\n",
       "    <tr style=\"text-align: right;\">\n",
       "      <th></th>\n",
       "      <th>#</th>\n",
       "      <th>Name</th>\n",
       "      <th>Type 1</th>\n",
       "      <th>Type 2</th>\n",
       "      <th>Total</th>\n",
       "      <th>HP</th>\n",
       "      <th>Attack</th>\n",
       "      <th>Defense</th>\n",
       "      <th>SpecialA</th>\n",
       "      <th>SpecialD</th>\n",
       "      <th>Speed</th>\n",
       "      <th>Generation</th>\n",
       "    </tr>\n",
       "  </thead>\n",
       "  <tbody>\n",
       "    <tr>\n",
       "      <th>720</th>\n",
       "      <td>652</td>\n",
       "      <td>Chesnaught</td>\n",
       "      <td>Grass</td>\n",
       "      <td>Fighting</td>\n",
       "      <td>530</td>\n",
       "      <td>88</td>\n",
       "      <td>107</td>\n",
       "      <td>122</td>\n",
       "      <td>74</td>\n",
       "      <td>75</td>\n",
       "      <td>64</td>\n",
       "      <td>6</td>\n",
       "    </tr>\n",
       "    <tr>\n",
       "      <th>723</th>\n",
       "      <td>655</td>\n",
       "      <td>Delphox</td>\n",
       "      <td>Fire</td>\n",
       "      <td>Psychic</td>\n",
       "      <td>534</td>\n",
       "      <td>75</td>\n",
       "      <td>69</td>\n",
       "      <td>72</td>\n",
       "      <td>114</td>\n",
       "      <td>100</td>\n",
       "      <td>104</td>\n",
       "      <td>6</td>\n",
       "    </tr>\n",
       "    <tr>\n",
       "      <th>726</th>\n",
       "      <td>658</td>\n",
       "      <td>Greninja</td>\n",
       "      <td>Water</td>\n",
       "      <td>Dark</td>\n",
       "      <td>530</td>\n",
       "      <td>72</td>\n",
       "      <td>95</td>\n",
       "      <td>67</td>\n",
       "      <td>103</td>\n",
       "      <td>71</td>\n",
       "      <td>122</td>\n",
       "      <td>6</td>\n",
       "    </tr>\n",
       "    <tr>\n",
       "      <th>728</th>\n",
       "      <td>660</td>\n",
       "      <td>Diggersby</td>\n",
       "      <td>Normal</td>\n",
       "      <td>Ground</td>\n",
       "      <td>423</td>\n",
       "      <td>85</td>\n",
       "      <td>56</td>\n",
       "      <td>77</td>\n",
       "      <td>50</td>\n",
       "      <td>77</td>\n",
       "      <td>78</td>\n",
       "      <td>6</td>\n",
       "    </tr>\n",
       "    <tr>\n",
       "      <th>729</th>\n",
       "      <td>661</td>\n",
       "      <td>Fletchling</td>\n",
       "      <td>Normal</td>\n",
       "      <td>Flying</td>\n",
       "      <td>278</td>\n",
       "      <td>45</td>\n",
       "      <td>50</td>\n",
       "      <td>43</td>\n",
       "      <td>40</td>\n",
       "      <td>38</td>\n",
       "      <td>62</td>\n",
       "      <td>6</td>\n",
       "    </tr>\n",
       "    <tr>\n",
       "      <th>730</th>\n",
       "      <td>662</td>\n",
       "      <td>Fletchinder</td>\n",
       "      <td>Fire</td>\n",
       "      <td>Flying</td>\n",
       "      <td>382</td>\n",
       "      <td>62</td>\n",
       "      <td>73</td>\n",
       "      <td>55</td>\n",
       "      <td>56</td>\n",
       "      <td>52</td>\n",
       "      <td>84</td>\n",
       "      <td>6</td>\n",
       "    </tr>\n",
       "    <tr>\n",
       "      <th>731</th>\n",
       "      <td>663</td>\n",
       "      <td>Talonflame</td>\n",
       "      <td>Fire</td>\n",
       "      <td>Flying</td>\n",
       "      <td>499</td>\n",
       "      <td>78</td>\n",
       "      <td>81</td>\n",
       "      <td>71</td>\n",
       "      <td>74</td>\n",
       "      <td>69</td>\n",
       "      <td>126</td>\n",
       "      <td>6</td>\n",
       "    </tr>\n",
       "    <tr>\n",
       "      <th>734</th>\n",
       "      <td>666</td>\n",
       "      <td>Vivillon</td>\n",
       "      <td>Bug</td>\n",
       "      <td>Flying</td>\n",
       "      <td>411</td>\n",
       "      <td>80</td>\n",
       "      <td>52</td>\n",
       "      <td>50</td>\n",
       "      <td>90</td>\n",
       "      <td>50</td>\n",
       "      <td>89</td>\n",
       "      <td>6</td>\n",
       "    </tr>\n",
       "    <tr>\n",
       "      <th>735</th>\n",
       "      <td>667</td>\n",
       "      <td>Litleo</td>\n",
       "      <td>Fire</td>\n",
       "      <td>Normal</td>\n",
       "      <td>369</td>\n",
       "      <td>62</td>\n",
       "      <td>50</td>\n",
       "      <td>58</td>\n",
       "      <td>73</td>\n",
       "      <td>54</td>\n",
       "      <td>72</td>\n",
       "      <td>6</td>\n",
       "    </tr>\n",
       "    <tr>\n",
       "      <th>736</th>\n",
       "      <td>668</td>\n",
       "      <td>Pyroar</td>\n",
       "      <td>Fire</td>\n",
       "      <td>Normal</td>\n",
       "      <td>507</td>\n",
       "      <td>86</td>\n",
       "      <td>68</td>\n",
       "      <td>72</td>\n",
       "      <td>109</td>\n",
       "      <td>66</td>\n",
       "      <td>106</td>\n",
       "      <td>6</td>\n",
       "    </tr>\n",
       "    <tr>\n",
       "      <th>743</th>\n",
       "      <td>675</td>\n",
       "      <td>Pangoro</td>\n",
       "      <td>Fighting</td>\n",
       "      <td>Dark</td>\n",
       "      <td>495</td>\n",
       "      <td>95</td>\n",
       "      <td>124</td>\n",
       "      <td>78</td>\n",
       "      <td>69</td>\n",
       "      <td>71</td>\n",
       "      <td>58</td>\n",
       "      <td>6</td>\n",
       "    </tr>\n",
       "    <tr>\n",
       "      <th>748</th>\n",
       "      <td>679</td>\n",
       "      <td>Honedge</td>\n",
       "      <td>Steel</td>\n",
       "      <td>Ghost</td>\n",
       "      <td>325</td>\n",
       "      <td>45</td>\n",
       "      <td>80</td>\n",
       "      <td>100</td>\n",
       "      <td>35</td>\n",
       "      <td>37</td>\n",
       "      <td>28</td>\n",
       "      <td>6</td>\n",
       "    </tr>\n",
       "    <tr>\n",
       "      <th>749</th>\n",
       "      <td>680</td>\n",
       "      <td>Doublade</td>\n",
       "      <td>Steel</td>\n",
       "      <td>Ghost</td>\n",
       "      <td>448</td>\n",
       "      <td>59</td>\n",
       "      <td>110</td>\n",
       "      <td>150</td>\n",
       "      <td>45</td>\n",
       "      <td>49</td>\n",
       "      <td>35</td>\n",
       "      <td>6</td>\n",
       "    </tr>\n",
       "    <tr>\n",
       "      <th>750</th>\n",
       "      <td>681</td>\n",
       "      <td>AegislashBlade Forme</td>\n",
       "      <td>Steel</td>\n",
       "      <td>Ghost</td>\n",
       "      <td>520</td>\n",
       "      <td>60</td>\n",
       "      <td>150</td>\n",
       "      <td>50</td>\n",
       "      <td>150</td>\n",
       "      <td>50</td>\n",
       "      <td>60</td>\n",
       "      <td>6</td>\n",
       "    </tr>\n",
       "    <tr>\n",
       "      <th>751</th>\n",
       "      <td>681</td>\n",
       "      <td>AegislashShield Forme</td>\n",
       "      <td>Steel</td>\n",
       "      <td>Ghost</td>\n",
       "      <td>520</td>\n",
       "      <td>60</td>\n",
       "      <td>50</td>\n",
       "      <td>150</td>\n",
       "      <td>50</td>\n",
       "      <td>150</td>\n",
       "      <td>60</td>\n",
       "      <td>6</td>\n",
       "    </tr>\n",
       "    <tr>\n",
       "      <th>756</th>\n",
       "      <td>686</td>\n",
       "      <td>Inkay</td>\n",
       "      <td>Dark</td>\n",
       "      <td>Psychic</td>\n",
       "      <td>288</td>\n",
       "      <td>53</td>\n",
       "      <td>54</td>\n",
       "      <td>53</td>\n",
       "      <td>37</td>\n",
       "      <td>46</td>\n",
       "      <td>45</td>\n",
       "      <td>6</td>\n",
       "    </tr>\n",
       "    <tr>\n",
       "      <th>757</th>\n",
       "      <td>687</td>\n",
       "      <td>Malamar</td>\n",
       "      <td>Dark</td>\n",
       "      <td>Psychic</td>\n",
       "      <td>482</td>\n",
       "      <td>86</td>\n",
       "      <td>92</td>\n",
       "      <td>88</td>\n",
       "      <td>68</td>\n",
       "      <td>75</td>\n",
       "      <td>73</td>\n",
       "      <td>6</td>\n",
       "    </tr>\n",
       "    <tr>\n",
       "      <th>758</th>\n",
       "      <td>688</td>\n",
       "      <td>Binacle</td>\n",
       "      <td>Rock</td>\n",
       "      <td>Water</td>\n",
       "      <td>306</td>\n",
       "      <td>42</td>\n",
       "      <td>52</td>\n",
       "      <td>67</td>\n",
       "      <td>39</td>\n",
       "      <td>56</td>\n",
       "      <td>50</td>\n",
       "      <td>6</td>\n",
       "    </tr>\n",
       "    <tr>\n",
       "      <th>759</th>\n",
       "      <td>689</td>\n",
       "      <td>Barbaracle</td>\n",
       "      <td>Rock</td>\n",
       "      <td>Water</td>\n",
       "      <td>500</td>\n",
       "      <td>72</td>\n",
       "      <td>105</td>\n",
       "      <td>115</td>\n",
       "      <td>54</td>\n",
       "      <td>86</td>\n",
       "      <td>68</td>\n",
       "      <td>6</td>\n",
       "    </tr>\n",
       "    <tr>\n",
       "      <th>760</th>\n",
       "      <td>690</td>\n",
       "      <td>Skrelp</td>\n",
       "      <td>Poison</td>\n",
       "      <td>Water</td>\n",
       "      <td>320</td>\n",
       "      <td>50</td>\n",
       "      <td>60</td>\n",
       "      <td>60</td>\n",
       "      <td>60</td>\n",
       "      <td>60</td>\n",
       "      <td>30</td>\n",
       "      <td>6</td>\n",
       "    </tr>\n",
       "    <tr>\n",
       "      <th>761</th>\n",
       "      <td>691</td>\n",
       "      <td>Dragalge</td>\n",
       "      <td>Poison</td>\n",
       "      <td>Dragon</td>\n",
       "      <td>494</td>\n",
       "      <td>65</td>\n",
       "      <td>75</td>\n",
       "      <td>90</td>\n",
       "      <td>97</td>\n",
       "      <td>123</td>\n",
       "      <td>44</td>\n",
       "      <td>6</td>\n",
       "    </tr>\n",
       "    <tr>\n",
       "      <th>764</th>\n",
       "      <td>694</td>\n",
       "      <td>Helioptile</td>\n",
       "      <td>Electric</td>\n",
       "      <td>Normal</td>\n",
       "      <td>289</td>\n",
       "      <td>44</td>\n",
       "      <td>38</td>\n",
       "      <td>33</td>\n",
       "      <td>61</td>\n",
       "      <td>43</td>\n",
       "      <td>70</td>\n",
       "      <td>6</td>\n",
       "    </tr>\n",
       "    <tr>\n",
       "      <th>765</th>\n",
       "      <td>695</td>\n",
       "      <td>Heliolisk</td>\n",
       "      <td>Electric</td>\n",
       "      <td>Normal</td>\n",
       "      <td>481</td>\n",
       "      <td>62</td>\n",
       "      <td>55</td>\n",
       "      <td>52</td>\n",
       "      <td>109</td>\n",
       "      <td>94</td>\n",
       "      <td>109</td>\n",
       "      <td>6</td>\n",
       "    </tr>\n",
       "    <tr>\n",
       "      <th>766</th>\n",
       "      <td>696</td>\n",
       "      <td>Tyrunt</td>\n",
       "      <td>Rock</td>\n",
       "      <td>Dragon</td>\n",
       "      <td>362</td>\n",
       "      <td>58</td>\n",
       "      <td>89</td>\n",
       "      <td>77</td>\n",
       "      <td>45</td>\n",
       "      <td>45</td>\n",
       "      <td>48</td>\n",
       "      <td>6</td>\n",
       "    </tr>\n",
       "    <tr>\n",
       "      <th>767</th>\n",
       "      <td>697</td>\n",
       "      <td>Tyrantrum</td>\n",
       "      <td>Rock</td>\n",
       "      <td>Dragon</td>\n",
       "      <td>521</td>\n",
       "      <td>82</td>\n",
       "      <td>121</td>\n",
       "      <td>119</td>\n",
       "      <td>69</td>\n",
       "      <td>59</td>\n",
       "      <td>71</td>\n",
       "      <td>6</td>\n",
       "    </tr>\n",
       "    <tr>\n",
       "      <th>768</th>\n",
       "      <td>698</td>\n",
       "      <td>Amaura</td>\n",
       "      <td>Rock</td>\n",
       "      <td>Ice</td>\n",
       "      <td>362</td>\n",
       "      <td>77</td>\n",
       "      <td>59</td>\n",
       "      <td>50</td>\n",
       "      <td>67</td>\n",
       "      <td>63</td>\n",
       "      <td>46</td>\n",
       "      <td>6</td>\n",
       "    </tr>\n",
       "    <tr>\n",
       "      <th>769</th>\n",
       "      <td>699</td>\n",
       "      <td>Aurorus</td>\n",
       "      <td>Rock</td>\n",
       "      <td>Ice</td>\n",
       "      <td>521</td>\n",
       "      <td>123</td>\n",
       "      <td>77</td>\n",
       "      <td>72</td>\n",
       "      <td>99</td>\n",
       "      <td>92</td>\n",
       "      <td>58</td>\n",
       "      <td>6</td>\n",
       "    </tr>\n",
       "    <tr>\n",
       "      <th>771</th>\n",
       "      <td>701</td>\n",
       "      <td>Hawlucha</td>\n",
       "      <td>Fighting</td>\n",
       "      <td>Flying</td>\n",
       "      <td>500</td>\n",
       "      <td>78</td>\n",
       "      <td>92</td>\n",
       "      <td>75</td>\n",
       "      <td>74</td>\n",
       "      <td>63</td>\n",
       "      <td>118</td>\n",
       "      <td>6</td>\n",
       "    </tr>\n",
       "    <tr>\n",
       "      <th>772</th>\n",
       "      <td>702</td>\n",
       "      <td>Dedenne</td>\n",
       "      <td>Electric</td>\n",
       "      <td>Fairy</td>\n",
       "      <td>431</td>\n",
       "      <td>67</td>\n",
       "      <td>58</td>\n",
       "      <td>57</td>\n",
       "      <td>81</td>\n",
       "      <td>67</td>\n",
       "      <td>101</td>\n",
       "      <td>6</td>\n",
       "    </tr>\n",
       "    <tr>\n",
       "      <th>773</th>\n",
       "      <td>703</td>\n",
       "      <td>Carbink</td>\n",
       "      <td>Rock</td>\n",
       "      <td>Fairy</td>\n",
       "      <td>500</td>\n",
       "      <td>50</td>\n",
       "      <td>50</td>\n",
       "      <td>150</td>\n",
       "      <td>50</td>\n",
       "      <td>150</td>\n",
       "      <td>50</td>\n",
       "      <td>6</td>\n",
       "    </tr>\n",
       "    <tr>\n",
       "      <th>777</th>\n",
       "      <td>707</td>\n",
       "      <td>Klefki</td>\n",
       "      <td>Steel</td>\n",
       "      <td>Fairy</td>\n",
       "      <td>470</td>\n",
       "      <td>57</td>\n",
       "      <td>80</td>\n",
       "      <td>91</td>\n",
       "      <td>80</td>\n",
       "      <td>87</td>\n",
       "      <td>75</td>\n",
       "      <td>6</td>\n",
       "    </tr>\n",
       "    <tr>\n",
       "      <th>778</th>\n",
       "      <td>708</td>\n",
       "      <td>Phantump</td>\n",
       "      <td>Ghost</td>\n",
       "      <td>Grass</td>\n",
       "      <td>309</td>\n",
       "      <td>43</td>\n",
       "      <td>70</td>\n",
       "      <td>48</td>\n",
       "      <td>50</td>\n",
       "      <td>60</td>\n",
       "      <td>38</td>\n",
       "      <td>6</td>\n",
       "    </tr>\n",
       "    <tr>\n",
       "      <th>779</th>\n",
       "      <td>709</td>\n",
       "      <td>Trevenant</td>\n",
       "      <td>Ghost</td>\n",
       "      <td>Grass</td>\n",
       "      <td>474</td>\n",
       "      <td>85</td>\n",
       "      <td>110</td>\n",
       "      <td>76</td>\n",
       "      <td>65</td>\n",
       "      <td>82</td>\n",
       "      <td>56</td>\n",
       "      <td>6</td>\n",
       "    </tr>\n",
       "    <tr>\n",
       "      <th>780</th>\n",
       "      <td>710</td>\n",
       "      <td>PumpkabooAverage Size</td>\n",
       "      <td>Ghost</td>\n",
       "      <td>Grass</td>\n",
       "      <td>335</td>\n",
       "      <td>49</td>\n",
       "      <td>66</td>\n",
       "      <td>70</td>\n",
       "      <td>44</td>\n",
       "      <td>55</td>\n",
       "      <td>51</td>\n",
       "      <td>6</td>\n",
       "    </tr>\n",
       "    <tr>\n",
       "      <th>781</th>\n",
       "      <td>710</td>\n",
       "      <td>PumpkabooSmall Size</td>\n",
       "      <td>Ghost</td>\n",
       "      <td>Grass</td>\n",
       "      <td>335</td>\n",
       "      <td>44</td>\n",
       "      <td>66</td>\n",
       "      <td>70</td>\n",
       "      <td>44</td>\n",
       "      <td>55</td>\n",
       "      <td>56</td>\n",
       "      <td>6</td>\n",
       "    </tr>\n",
       "    <tr>\n",
       "      <th>782</th>\n",
       "      <td>710</td>\n",
       "      <td>PumpkabooLarge Size</td>\n",
       "      <td>Ghost</td>\n",
       "      <td>Grass</td>\n",
       "      <td>335</td>\n",
       "      <td>54</td>\n",
       "      <td>66</td>\n",
       "      <td>70</td>\n",
       "      <td>44</td>\n",
       "      <td>55</td>\n",
       "      <td>46</td>\n",
       "      <td>6</td>\n",
       "    </tr>\n",
       "    <tr>\n",
       "      <th>783</th>\n",
       "      <td>710</td>\n",
       "      <td>PumpkabooSuper Size</td>\n",
       "      <td>Ghost</td>\n",
       "      <td>Grass</td>\n",
       "      <td>335</td>\n",
       "      <td>59</td>\n",
       "      <td>66</td>\n",
       "      <td>70</td>\n",
       "      <td>44</td>\n",
       "      <td>55</td>\n",
       "      <td>41</td>\n",
       "      <td>6</td>\n",
       "    </tr>\n",
       "    <tr>\n",
       "      <th>784</th>\n",
       "      <td>711</td>\n",
       "      <td>GourgeistAverage Size</td>\n",
       "      <td>Ghost</td>\n",
       "      <td>Grass</td>\n",
       "      <td>494</td>\n",
       "      <td>65</td>\n",
       "      <td>90</td>\n",
       "      <td>122</td>\n",
       "      <td>58</td>\n",
       "      <td>75</td>\n",
       "      <td>84</td>\n",
       "      <td>6</td>\n",
       "    </tr>\n",
       "    <tr>\n",
       "      <th>785</th>\n",
       "      <td>711</td>\n",
       "      <td>GourgeistSmall Size</td>\n",
       "      <td>Ghost</td>\n",
       "      <td>Grass</td>\n",
       "      <td>494</td>\n",
       "      <td>55</td>\n",
       "      <td>85</td>\n",
       "      <td>122</td>\n",
       "      <td>58</td>\n",
       "      <td>75</td>\n",
       "      <td>99</td>\n",
       "      <td>6</td>\n",
       "    </tr>\n",
       "    <tr>\n",
       "      <th>786</th>\n",
       "      <td>711</td>\n",
       "      <td>GourgeistLarge Size</td>\n",
       "      <td>Ghost</td>\n",
       "      <td>Grass</td>\n",
       "      <td>494</td>\n",
       "      <td>75</td>\n",
       "      <td>95</td>\n",
       "      <td>122</td>\n",
       "      <td>58</td>\n",
       "      <td>75</td>\n",
       "      <td>69</td>\n",
       "      <td>6</td>\n",
       "    </tr>\n",
       "    <tr>\n",
       "      <th>787</th>\n",
       "      <td>711</td>\n",
       "      <td>GourgeistSuper Size</td>\n",
       "      <td>Ghost</td>\n",
       "      <td>Grass</td>\n",
       "      <td>494</td>\n",
       "      <td>85</td>\n",
       "      <td>100</td>\n",
       "      <td>122</td>\n",
       "      <td>58</td>\n",
       "      <td>75</td>\n",
       "      <td>54</td>\n",
       "      <td>6</td>\n",
       "    </tr>\n",
       "    <tr>\n",
       "      <th>790</th>\n",
       "      <td>714</td>\n",
       "      <td>Noibat</td>\n",
       "      <td>Flying</td>\n",
       "      <td>Dragon</td>\n",
       "      <td>245</td>\n",
       "      <td>40</td>\n",
       "      <td>30</td>\n",
       "      <td>35</td>\n",
       "      <td>45</td>\n",
       "      <td>40</td>\n",
       "      <td>55</td>\n",
       "      <td>6</td>\n",
       "    </tr>\n",
       "    <tr>\n",
       "      <th>791</th>\n",
       "      <td>715</td>\n",
       "      <td>Noivern</td>\n",
       "      <td>Flying</td>\n",
       "      <td>Dragon</td>\n",
       "      <td>535</td>\n",
       "      <td>85</td>\n",
       "      <td>70</td>\n",
       "      <td>80</td>\n",
       "      <td>97</td>\n",
       "      <td>80</td>\n",
       "      <td>123</td>\n",
       "      <td>6</td>\n",
       "    </tr>\n",
       "  </tbody>\n",
       "</table>\n",
       "</div>"
      ],
      "text/plain": [
       "       #                   Name    Type 1    Type 2  Total   HP  Attack  \\\n",
       "720  652             Chesnaught     Grass  Fighting    530   88     107   \n",
       "723  655                Delphox      Fire   Psychic    534   75      69   \n",
       "726  658               Greninja     Water      Dark    530   72      95   \n",
       "728  660              Diggersby    Normal    Ground    423   85      56   \n",
       "729  661             Fletchling    Normal    Flying    278   45      50   \n",
       "730  662            Fletchinder      Fire    Flying    382   62      73   \n",
       "731  663             Talonflame      Fire    Flying    499   78      81   \n",
       "734  666               Vivillon       Bug    Flying    411   80      52   \n",
       "735  667                 Litleo      Fire    Normal    369   62      50   \n",
       "736  668                 Pyroar      Fire    Normal    507   86      68   \n",
       "743  675                Pangoro  Fighting      Dark    495   95     124   \n",
       "748  679                Honedge     Steel     Ghost    325   45      80   \n",
       "749  680               Doublade     Steel     Ghost    448   59     110   \n",
       "750  681   AegislashBlade Forme     Steel     Ghost    520   60     150   \n",
       "751  681  AegislashShield Forme     Steel     Ghost    520   60      50   \n",
       "756  686                  Inkay      Dark   Psychic    288   53      54   \n",
       "757  687                Malamar      Dark   Psychic    482   86      92   \n",
       "758  688                Binacle      Rock     Water    306   42      52   \n",
       "759  689             Barbaracle      Rock     Water    500   72     105   \n",
       "760  690                 Skrelp    Poison     Water    320   50      60   \n",
       "761  691               Dragalge    Poison    Dragon    494   65      75   \n",
       "764  694             Helioptile  Electric    Normal    289   44      38   \n",
       "765  695              Heliolisk  Electric    Normal    481   62      55   \n",
       "766  696                 Tyrunt      Rock    Dragon    362   58      89   \n",
       "767  697              Tyrantrum      Rock    Dragon    521   82     121   \n",
       "768  698                 Amaura      Rock       Ice    362   77      59   \n",
       "769  699                Aurorus      Rock       Ice    521  123      77   \n",
       "771  701               Hawlucha  Fighting    Flying    500   78      92   \n",
       "772  702                Dedenne  Electric     Fairy    431   67      58   \n",
       "773  703                Carbink      Rock     Fairy    500   50      50   \n",
       "777  707                 Klefki     Steel     Fairy    470   57      80   \n",
       "778  708               Phantump     Ghost     Grass    309   43      70   \n",
       "779  709              Trevenant     Ghost     Grass    474   85     110   \n",
       "780  710  PumpkabooAverage Size     Ghost     Grass    335   49      66   \n",
       "781  710    PumpkabooSmall Size     Ghost     Grass    335   44      66   \n",
       "782  710    PumpkabooLarge Size     Ghost     Grass    335   54      66   \n",
       "783  710    PumpkabooSuper Size     Ghost     Grass    335   59      66   \n",
       "784  711  GourgeistAverage Size     Ghost     Grass    494   65      90   \n",
       "785  711    GourgeistSmall Size     Ghost     Grass    494   55      85   \n",
       "786  711    GourgeistLarge Size     Ghost     Grass    494   75      95   \n",
       "787  711    GourgeistSuper Size     Ghost     Grass    494   85     100   \n",
       "790  714                 Noibat    Flying    Dragon    245   40      30   \n",
       "791  715                Noivern    Flying    Dragon    535   85      70   \n",
       "\n",
       "     Defense  SpecialA  SpecialD  Speed  Generation  \n",
       "720      122        74        75     64           6  \n",
       "723       72       114       100    104           6  \n",
       "726       67       103        71    122           6  \n",
       "728       77        50        77     78           6  \n",
       "729       43        40        38     62           6  \n",
       "730       55        56        52     84           6  \n",
       "731       71        74        69    126           6  \n",
       "734       50        90        50     89           6  \n",
       "735       58        73        54     72           6  \n",
       "736       72       109        66    106           6  \n",
       "743       78        69        71     58           6  \n",
       "748      100        35        37     28           6  \n",
       "749      150        45        49     35           6  \n",
       "750       50       150        50     60           6  \n",
       "751      150        50       150     60           6  \n",
       "756       53        37        46     45           6  \n",
       "757       88        68        75     73           6  \n",
       "758       67        39        56     50           6  \n",
       "759      115        54        86     68           6  \n",
       "760       60        60        60     30           6  \n",
       "761       90        97       123     44           6  \n",
       "764       33        61        43     70           6  \n",
       "765       52       109        94    109           6  \n",
       "766       77        45        45     48           6  \n",
       "767      119        69        59     71           6  \n",
       "768       50        67        63     46           6  \n",
       "769       72        99        92     58           6  \n",
       "771       75        74        63    118           6  \n",
       "772       57        81        67    101           6  \n",
       "773      150        50       150     50           6  \n",
       "777       91        80        87     75           6  \n",
       "778       48        50        60     38           6  \n",
       "779       76        65        82     56           6  \n",
       "780       70        44        55     51           6  \n",
       "781       70        44        55     56           6  \n",
       "782       70        44        55     46           6  \n",
       "783       70        44        55     41           6  \n",
       "784      122        58        75     84           6  \n",
       "785      122        58        75     99           6  \n",
       "786      122        58        75     69           6  \n",
       "787      122        58        75     54           6  \n",
       "790       35        45        40     55           6  \n",
       "791       80        97        80    123           6  "
      ]
     },
     "metadata": {},
     "output_type": "display_data"
    },
    {
     "data": {
      "application/vnd.deepnote.dataframe.v3+json": {
       "column_count": 0,
       "columns": [
        {
         "dtype": "object",
         "name": "_deepnote_index_column"
        }
       ],
       "row_count": 0,
       "rows": []
      },
      "text/html": [
       "<div>\n",
       "<style scoped>\n",
       "    .dataframe tbody tr th:only-of-type {\n",
       "        vertical-align: middle;\n",
       "    }\n",
       "\n",
       "    .dataframe tbody tr th {\n",
       "        vertical-align: top;\n",
       "    }\n",
       "\n",
       "    .dataframe thead th {\n",
       "        text-align: right;\n",
       "    }\n",
       "</style>\n",
       "<table border=\"1\" class=\"dataframe\">\n",
       "  <thead>\n",
       "    <tr style=\"text-align: right;\">\n",
       "      <th></th>\n",
       "    </tr>\n",
       "  </thead>\n",
       "  <tbody>\n",
       "  </tbody>\n",
       "</table>\n",
       "</div>"
      ],
      "text/plain": [
       "Empty DataFrame\n",
       "Columns: []\n",
       "Index: []"
      ]
     },
     "execution_count": 9,
     "metadata": {},
     "output_type": "execute_result"
    }
   ],
   "source": [
    "df.groupby(\"Generation\").apply(display)"
   ]
  },
  {
   "cell_type": "markdown",
   "metadata": {
    "cell_id": "44ccc7b3b3504964977b22bfe4fd9c21",
    "deepnote_cell_type": "markdown",
    "tags": []
   },
   "source": [
    "Divide the original dataset into 6 based on generations."
   ]
  },
  {
   "cell_type": "code",
   "execution_count": 10,
   "metadata": {
    "cell_id": "fe18906ac8cf49c792a55cb19eae4f4a",
    "deepnote_cell_type": "code",
    "deepnote_to_be_reexecuted": false,
    "execution_millis": 0,
    "execution_start": 1670317133858,
    "source_hash": "9078a6f6",
    "tags": []
   },
   "outputs": [],
   "source": [
    "grouped = df.groupby(\"Generation\")\n",
    "list=[]\n",
    "\n",
    "for gen, group in grouped:\n",
    "    list.append(group)"
   ]
  },
  {
   "cell_type": "markdown",
   "metadata": {
    "cell_id": "1f194a90abb34f80b46cf26203c45656",
    "deepnote_cell_type": "markdown",
    "tags": []
   },
   "source": [
    "## Data Visualization"
   ]
  },
  {
   "cell_type": "markdown",
   "metadata": {
    "cell_id": "99a8e6c0de77405a893ae121a60b8707",
    "deepnote_cell_type": "markdown",
    "tags": []
   },
   "source": [
    "First visualizing the number of pokemons in each generation and find that the first generation has the most and the sixth generation has the least."
   ]
  },
  {
   "cell_type": "code",
   "execution_count": 11,
   "metadata": {
    "cell_id": "dec0f9c20ef2400d9b18bd9cef9da950",
    "deepnote_cell_type": "code",
    "deepnote_to_be_reexecuted": false,
    "execution_millis": 46,
    "execution_start": 1670317133904,
    "source_hash": "ee0ba3d9",
    "tags": []
   },
   "outputs": [
    {
     "data": {
      "text/html": [
       "\n",
       "<div id=\"altair-viz-751f1e1691ba4828b27baa6ebe67dfab\"></div>\n",
       "<script type=\"text/javascript\">\n",
       "  var VEGA_DEBUG = (typeof VEGA_DEBUG == \"undefined\") ? {} : VEGA_DEBUG;\n",
       "  (function(spec, embedOpt){\n",
       "    let outputDiv = document.currentScript.previousElementSibling;\n",
       "    if (outputDiv.id !== \"altair-viz-751f1e1691ba4828b27baa6ebe67dfab\") {\n",
       "      outputDiv = document.getElementById(\"altair-viz-751f1e1691ba4828b27baa6ebe67dfab\");\n",
       "    }\n",
       "    const paths = {\n",
       "      \"vega\": \"https://cdn.jsdelivr.net/npm//vega@5?noext\",\n",
       "      \"vega-lib\": \"https://cdn.jsdelivr.net/npm//vega-lib?noext\",\n",
       "      \"vega-lite\": \"https://cdn.jsdelivr.net/npm//vega-lite@4.17.0?noext\",\n",
       "      \"vega-embed\": \"https://cdn.jsdelivr.net/npm//vega-embed@6?noext\",\n",
       "    };\n",
       "\n",
       "    function maybeLoadScript(lib, version) {\n",
       "      var key = `${lib.replace(\"-\", \"\")}_version`;\n",
       "      return (VEGA_DEBUG[key] == version) ?\n",
       "        Promise.resolve(paths[lib]) :\n",
       "        new Promise(function(resolve, reject) {\n",
       "          var s = document.createElement('script');\n",
       "          document.getElementsByTagName(\"head\")[0].appendChild(s);\n",
       "          s.async = true;\n",
       "          s.onload = () => {\n",
       "            VEGA_DEBUG[key] = version;\n",
       "            return resolve(paths[lib]);\n",
       "          };\n",
       "          s.onerror = () => reject(`Error loading script: ${paths[lib]}`);\n",
       "          s.src = paths[lib];\n",
       "        });\n",
       "    }\n",
       "\n",
       "    function showError(err) {\n",
       "      outputDiv.innerHTML = `<div class=\"error\" style=\"color:red;\">${err}</div>`;\n",
       "      throw err;\n",
       "    }\n",
       "\n",
       "    function displayChart(vegaEmbed) {\n",
       "      vegaEmbed(outputDiv, spec, embedOpt)\n",
       "        .catch(err => showError(`Javascript Error: ${err.message}<br>This usually means there's a typo in your chart specification. See the javascript console for the full traceback.`));\n",
       "    }\n",
       "\n",
       "    if(typeof define === \"function\" && define.amd) {\n",
       "      requirejs.config({paths});\n",
       "      require([\"vega-embed\"], displayChart, err => showError(`Error loading script: ${err.message}`));\n",
       "    } else {\n",
       "      maybeLoadScript(\"vega\", \"5\")\n",
       "        .then(() => maybeLoadScript(\"vega-lite\", \"4.17.0\"))\n",
       "        .then(() => maybeLoadScript(\"vega-embed\", \"6\"))\n",
       "        .catch(showError)\n",
       "        .then(() => displayChart(vegaEmbed));\n",
       "    }\n",
       "  })({\"config\": {\"view\": {\"continuousWidth\": 400, \"continuousHeight\": 300}}, \"data\": {\"name\": \"data-8f8f5a820e13a98ac2edffa1fa08f1db\"}, \"mark\": {\"type\": \"bar\", \"size\": 15}, \"encoding\": {\"color\": {\"field\": \"Generation\", \"type\": \"nominal\"}, \"x\": {\"field\": \"Generation\", \"type\": \"quantitative\"}, \"y\": {\"aggregate\": \"count\", \"type\": \"quantitative\"}}, \"$schema\": \"https://vega.github.io/schema/vega-lite/v4.17.0.json\", \"datasets\": {\"data-8f8f5a820e13a98ac2edffa1fa08f1db\": [{\"#\": 1, \"Name\": \"Bulbasaur\", \"Type 1\": \"Grass\", \"Type 2\": \"Poison\", \"Total\": 318, \"HP\": 45, \"Attack\": 49, \"Defense\": 49, \"SpecialA\": 65, \"SpecialD\": 65, \"Speed\": 45, \"Generation\": 1}, {\"#\": 2, \"Name\": \"Ivysaur\", \"Type 1\": \"Grass\", \"Type 2\": \"Poison\", \"Total\": 405, \"HP\": 60, \"Attack\": 62, \"Defense\": 63, \"SpecialA\": 80, \"SpecialD\": 80, \"Speed\": 60, \"Generation\": 1}, {\"#\": 3, \"Name\": \"Venusaur\", \"Type 1\": \"Grass\", \"Type 2\": \"Poison\", \"Total\": 525, \"HP\": 80, \"Attack\": 82, \"Defense\": 83, \"SpecialA\": 100, \"SpecialD\": 100, \"Speed\": 80, \"Generation\": 1}, {\"#\": 3, \"Name\": \"VenusaurMega Venusaur\", \"Type 1\": \"Grass\", \"Type 2\": \"Poison\", \"Total\": 625, \"HP\": 80, \"Attack\": 100, \"Defense\": 123, \"SpecialA\": 122, \"SpecialD\": 120, \"Speed\": 80, \"Generation\": 1}, {\"#\": 6, \"Name\": \"Charizard\", \"Type 1\": \"Fire\", \"Type 2\": \"Flying\", \"Total\": 534, \"HP\": 78, \"Attack\": 84, \"Defense\": 78, \"SpecialA\": 109, \"SpecialD\": 85, \"Speed\": 100, \"Generation\": 1}, {\"#\": 6, \"Name\": \"CharizardMega Charizard X\", \"Type 1\": \"Fire\", \"Type 2\": \"Dragon\", \"Total\": 634, \"HP\": 78, \"Attack\": 130, \"Defense\": 111, \"SpecialA\": 130, \"SpecialD\": 85, \"Speed\": 100, \"Generation\": 1}, {\"#\": 6, \"Name\": \"CharizardMega Charizard Y\", \"Type 1\": \"Fire\", \"Type 2\": \"Flying\", \"Total\": 634, \"HP\": 78, \"Attack\": 104, \"Defense\": 78, \"SpecialA\": 159, \"SpecialD\": 115, \"Speed\": 100, \"Generation\": 1}, {\"#\": 12, \"Name\": \"Butterfree\", \"Type 1\": \"Bug\", \"Type 2\": \"Flying\", \"Total\": 395, \"HP\": 60, \"Attack\": 45, \"Defense\": 50, \"SpecialA\": 90, \"SpecialD\": 80, \"Speed\": 70, \"Generation\": 1}, {\"#\": 13, \"Name\": \"Weedle\", \"Type 1\": \"Bug\", \"Type 2\": \"Poison\", \"Total\": 195, \"HP\": 40, \"Attack\": 35, \"Defense\": 30, \"SpecialA\": 20, \"SpecialD\": 20, \"Speed\": 50, \"Generation\": 1}, {\"#\": 14, \"Name\": \"Kakuna\", \"Type 1\": \"Bug\", \"Type 2\": \"Poison\", \"Total\": 205, \"HP\": 45, \"Attack\": 25, \"Defense\": 50, \"SpecialA\": 25, \"SpecialD\": 25, \"Speed\": 35, \"Generation\": 1}, {\"#\": 15, \"Name\": \"Beedrill\", \"Type 1\": \"Bug\", \"Type 2\": \"Poison\", \"Total\": 395, \"HP\": 65, \"Attack\": 90, \"Defense\": 40, \"SpecialA\": 45, \"SpecialD\": 80, \"Speed\": 75, \"Generation\": 1}, {\"#\": 15, \"Name\": \"BeedrillMega Beedrill\", \"Type 1\": \"Bug\", \"Type 2\": \"Poison\", \"Total\": 495, \"HP\": 65, \"Attack\": 150, \"Defense\": 40, \"SpecialA\": 15, \"SpecialD\": 80, \"Speed\": 145, \"Generation\": 1}, {\"#\": 16, \"Name\": \"Pidgey\", \"Type 1\": \"Normal\", \"Type 2\": \"Flying\", \"Total\": 251, \"HP\": 40, \"Attack\": 45, \"Defense\": 40, \"SpecialA\": 35, \"SpecialD\": 35, \"Speed\": 56, \"Generation\": 1}, {\"#\": 17, \"Name\": \"Pidgeotto\", \"Type 1\": \"Normal\", \"Type 2\": \"Flying\", \"Total\": 349, \"HP\": 63, \"Attack\": 60, \"Defense\": 55, \"SpecialA\": 50, \"SpecialD\": 50, \"Speed\": 71, \"Generation\": 1}, {\"#\": 18, \"Name\": \"Pidgeot\", \"Type 1\": \"Normal\", \"Type 2\": \"Flying\", \"Total\": 479, \"HP\": 83, \"Attack\": 80, \"Defense\": 75, \"SpecialA\": 70, \"SpecialD\": 70, \"Speed\": 101, \"Generation\": 1}, {\"#\": 18, \"Name\": \"PidgeotMega Pidgeot\", \"Type 1\": \"Normal\", \"Type 2\": \"Flying\", \"Total\": 579, \"HP\": 83, \"Attack\": 80, \"Defense\": 80, \"SpecialA\": 135, \"SpecialD\": 80, \"Speed\": 121, \"Generation\": 1}, {\"#\": 21, \"Name\": \"Spearow\", \"Type 1\": \"Normal\", \"Type 2\": \"Flying\", \"Total\": 262, \"HP\": 40, \"Attack\": 60, \"Defense\": 30, \"SpecialA\": 31, \"SpecialD\": 31, \"Speed\": 70, \"Generation\": 1}, {\"#\": 22, \"Name\": \"Fearow\", \"Type 1\": \"Normal\", \"Type 2\": \"Flying\", \"Total\": 442, \"HP\": 65, \"Attack\": 90, \"Defense\": 65, \"SpecialA\": 61, \"SpecialD\": 61, \"Speed\": 100, \"Generation\": 1}, {\"#\": 31, \"Name\": \"Nidoqueen\", \"Type 1\": \"Poison\", \"Type 2\": \"Ground\", \"Total\": 505, \"HP\": 90, \"Attack\": 92, \"Defense\": 87, \"SpecialA\": 75, \"SpecialD\": 85, \"Speed\": 76, \"Generation\": 1}, {\"#\": 34, \"Name\": \"Nidoking\", \"Type 1\": \"Poison\", \"Type 2\": \"Ground\", \"Total\": 505, \"HP\": 81, \"Attack\": 102, \"Defense\": 77, \"SpecialA\": 85, \"SpecialD\": 75, \"Speed\": 85, \"Generation\": 1}, {\"#\": 39, \"Name\": \"Jigglypuff\", \"Type 1\": \"Normal\", \"Type 2\": \"Fairy\", \"Total\": 270, \"HP\": 115, \"Attack\": 45, \"Defense\": 20, \"SpecialA\": 45, \"SpecialD\": 25, \"Speed\": 20, \"Generation\": 1}, {\"#\": 40, \"Name\": \"Wigglytuff\", \"Type 1\": \"Normal\", \"Type 2\": \"Fairy\", \"Total\": 435, \"HP\": 140, \"Attack\": 70, \"Defense\": 45, \"SpecialA\": 85, \"SpecialD\": 50, \"Speed\": 45, \"Generation\": 1}, {\"#\": 41, \"Name\": \"Zubat\", \"Type 1\": \"Poison\", \"Type 2\": \"Flying\", \"Total\": 245, \"HP\": 40, \"Attack\": 45, \"Defense\": 35, \"SpecialA\": 30, \"SpecialD\": 40, \"Speed\": 55, \"Generation\": 1}, {\"#\": 42, \"Name\": \"Golbat\", \"Type 1\": \"Poison\", \"Type 2\": \"Flying\", \"Total\": 455, \"HP\": 75, \"Attack\": 80, \"Defense\": 70, \"SpecialA\": 65, \"SpecialD\": 75, \"Speed\": 90, \"Generation\": 1}, {\"#\": 43, \"Name\": \"Oddish\", \"Type 1\": \"Grass\", \"Type 2\": \"Poison\", \"Total\": 320, \"HP\": 45, \"Attack\": 50, \"Defense\": 55, \"SpecialA\": 75, \"SpecialD\": 65, \"Speed\": 30, \"Generation\": 1}, {\"#\": 44, \"Name\": \"Gloom\", \"Type 1\": \"Grass\", \"Type 2\": \"Poison\", \"Total\": 395, \"HP\": 60, \"Attack\": 65, \"Defense\": 70, \"SpecialA\": 85, \"SpecialD\": 75, \"Speed\": 40, \"Generation\": 1}, {\"#\": 45, \"Name\": \"Vileplume\", \"Type 1\": \"Grass\", \"Type 2\": \"Poison\", \"Total\": 490, \"HP\": 75, \"Attack\": 80, \"Defense\": 85, \"SpecialA\": 110, \"SpecialD\": 90, \"Speed\": 50, \"Generation\": 1}, {\"#\": 46, \"Name\": \"Paras\", \"Type 1\": \"Bug\", \"Type 2\": \"Grass\", \"Total\": 285, \"HP\": 35, \"Attack\": 70, \"Defense\": 55, \"SpecialA\": 45, \"SpecialD\": 55, \"Speed\": 25, \"Generation\": 1}, {\"#\": 47, \"Name\": \"Parasect\", \"Type 1\": \"Bug\", \"Type 2\": \"Grass\", \"Total\": 405, \"HP\": 60, \"Attack\": 95, \"Defense\": 80, \"SpecialA\": 60, \"SpecialD\": 80, \"Speed\": 30, \"Generation\": 1}, {\"#\": 48, \"Name\": \"Venonat\", \"Type 1\": \"Bug\", \"Type 2\": \"Poison\", \"Total\": 305, \"HP\": 60, \"Attack\": 55, \"Defense\": 50, \"SpecialA\": 40, \"SpecialD\": 55, \"Speed\": 45, \"Generation\": 1}, {\"#\": 49, \"Name\": \"Venomoth\", \"Type 1\": \"Bug\", \"Type 2\": \"Poison\", \"Total\": 450, \"HP\": 70, \"Attack\": 65, \"Defense\": 60, \"SpecialA\": 90, \"SpecialD\": 75, \"Speed\": 90, \"Generation\": 1}, {\"#\": 62, \"Name\": \"Poliwrath\", \"Type 1\": \"Water\", \"Type 2\": \"Fighting\", \"Total\": 510, \"HP\": 90, \"Attack\": 95, \"Defense\": 95, \"SpecialA\": 70, \"SpecialD\": 90, \"Speed\": 70, \"Generation\": 1}, {\"#\": 69, \"Name\": \"Bellsprout\", \"Type 1\": \"Grass\", \"Type 2\": \"Poison\", \"Total\": 300, \"HP\": 50, \"Attack\": 75, \"Defense\": 35, \"SpecialA\": 70, \"SpecialD\": 30, \"Speed\": 40, \"Generation\": 1}, {\"#\": 70, \"Name\": \"Weepinbell\", \"Type 1\": \"Grass\", \"Type 2\": \"Poison\", \"Total\": 390, \"HP\": 65, \"Attack\": 90, \"Defense\": 50, \"SpecialA\": 85, \"SpecialD\": 45, \"Speed\": 55, \"Generation\": 1}, {\"#\": 71, \"Name\": \"Victreebel\", \"Type 1\": \"Grass\", \"Type 2\": \"Poison\", \"Total\": 490, \"HP\": 80, \"Attack\": 105, \"Defense\": 65, \"SpecialA\": 100, \"SpecialD\": 70, \"Speed\": 70, \"Generation\": 1}, {\"#\": 72, \"Name\": \"Tentacool\", \"Type 1\": \"Water\", \"Type 2\": \"Poison\", \"Total\": 335, \"HP\": 40, \"Attack\": 40, \"Defense\": 35, \"SpecialA\": 50, \"SpecialD\": 100, \"Speed\": 70, \"Generation\": 1}, {\"#\": 73, \"Name\": \"Tentacruel\", \"Type 1\": \"Water\", \"Type 2\": \"Poison\", \"Total\": 515, \"HP\": 80, \"Attack\": 70, \"Defense\": 65, \"SpecialA\": 80, \"SpecialD\": 120, \"Speed\": 100, \"Generation\": 1}, {\"#\": 74, \"Name\": \"Geodude\", \"Type 1\": \"Rock\", \"Type 2\": \"Ground\", \"Total\": 300, \"HP\": 40, \"Attack\": 80, \"Defense\": 100, \"SpecialA\": 30, \"SpecialD\": 30, \"Speed\": 20, \"Generation\": 1}, {\"#\": 75, \"Name\": \"Graveler\", \"Type 1\": \"Rock\", \"Type 2\": \"Ground\", \"Total\": 390, \"HP\": 55, \"Attack\": 95, \"Defense\": 115, \"SpecialA\": 45, \"SpecialD\": 45, \"Speed\": 35, \"Generation\": 1}, {\"#\": 76, \"Name\": \"Golem\", \"Type 1\": \"Rock\", \"Type 2\": \"Ground\", \"Total\": 495, \"HP\": 80, \"Attack\": 120, \"Defense\": 130, \"SpecialA\": 55, \"SpecialD\": 65, \"Speed\": 45, \"Generation\": 1}, {\"#\": 79, \"Name\": \"Slowpoke\", \"Type 1\": \"Water\", \"Type 2\": \"Psychic\", \"Total\": 315, \"HP\": 90, \"Attack\": 65, \"Defense\": 65, \"SpecialA\": 40, \"SpecialD\": 40, \"Speed\": 15, \"Generation\": 1}, {\"#\": 80, \"Name\": \"Slowbro\", \"Type 1\": \"Water\", \"Type 2\": \"Psychic\", \"Total\": 490, \"HP\": 95, \"Attack\": 75, \"Defense\": 110, \"SpecialA\": 100, \"SpecialD\": 80, \"Speed\": 30, \"Generation\": 1}, {\"#\": 80, \"Name\": \"SlowbroMega Slowbro\", \"Type 1\": \"Water\", \"Type 2\": \"Psychic\", \"Total\": 590, \"HP\": 95, \"Attack\": 75, \"Defense\": 180, \"SpecialA\": 130, \"SpecialD\": 80, \"Speed\": 30, \"Generation\": 1}, {\"#\": 81, \"Name\": \"Magnemite\", \"Type 1\": \"Electric\", \"Type 2\": \"Steel\", \"Total\": 325, \"HP\": 25, \"Attack\": 35, \"Defense\": 70, \"SpecialA\": 95, \"SpecialD\": 55, \"Speed\": 45, \"Generation\": 1}, {\"#\": 82, \"Name\": \"Magneton\", \"Type 1\": \"Electric\", \"Type 2\": \"Steel\", \"Total\": 465, \"HP\": 50, \"Attack\": 60, \"Defense\": 95, \"SpecialA\": 120, \"SpecialD\": 70, \"Speed\": 70, \"Generation\": 1}, {\"#\": 83, \"Name\": \"Farfetch'd\", \"Type 1\": \"Normal\", \"Type 2\": \"Flying\", \"Total\": 352, \"HP\": 52, \"Attack\": 65, \"Defense\": 55, \"SpecialA\": 58, \"SpecialD\": 62, \"Speed\": 60, \"Generation\": 1}, {\"#\": 84, \"Name\": \"Doduo\", \"Type 1\": \"Normal\", \"Type 2\": \"Flying\", \"Total\": 310, \"HP\": 35, \"Attack\": 85, \"Defense\": 45, \"SpecialA\": 35, \"SpecialD\": 35, \"Speed\": 75, \"Generation\": 1}, {\"#\": 85, \"Name\": \"Dodrio\", \"Type 1\": \"Normal\", \"Type 2\": \"Flying\", \"Total\": 460, \"HP\": 60, \"Attack\": 110, \"Defense\": 70, \"SpecialA\": 60, \"SpecialD\": 60, \"Speed\": 100, \"Generation\": 1}, {\"#\": 87, \"Name\": \"Dewgong\", \"Type 1\": \"Water\", \"Type 2\": \"Ice\", \"Total\": 475, \"HP\": 90, \"Attack\": 70, \"Defense\": 80, \"SpecialA\": 70, \"SpecialD\": 95, \"Speed\": 70, \"Generation\": 1}, {\"#\": 91, \"Name\": \"Cloyster\", \"Type 1\": \"Water\", \"Type 2\": \"Ice\", \"Total\": 525, \"HP\": 50, \"Attack\": 95, \"Defense\": 180, \"SpecialA\": 85, \"SpecialD\": 45, \"Speed\": 70, \"Generation\": 1}, {\"#\": 92, \"Name\": \"Gastly\", \"Type 1\": \"Ghost\", \"Type 2\": \"Poison\", \"Total\": 310, \"HP\": 30, \"Attack\": 35, \"Defense\": 30, \"SpecialA\": 100, \"SpecialD\": 35, \"Speed\": 80, \"Generation\": 1}, {\"#\": 93, \"Name\": \"Haunter\", \"Type 1\": \"Ghost\", \"Type 2\": \"Poison\", \"Total\": 405, \"HP\": 45, \"Attack\": 50, \"Defense\": 45, \"SpecialA\": 115, \"SpecialD\": 55, \"Speed\": 95, \"Generation\": 1}, {\"#\": 94, \"Name\": \"Gengar\", \"Type 1\": \"Ghost\", \"Type 2\": \"Poison\", \"Total\": 500, \"HP\": 60, \"Attack\": 65, \"Defense\": 60, \"SpecialA\": 130, \"SpecialD\": 75, \"Speed\": 110, \"Generation\": 1}, {\"#\": 94, \"Name\": \"GengarMega Gengar\", \"Type 1\": \"Ghost\", \"Type 2\": \"Poison\", \"Total\": 600, \"HP\": 60, \"Attack\": 65, \"Defense\": 80, \"SpecialA\": 170, \"SpecialD\": 95, \"Speed\": 130, \"Generation\": 1}, {\"#\": 95, \"Name\": \"Onix\", \"Type 1\": \"Rock\", \"Type 2\": \"Ground\", \"Total\": 385, \"HP\": 35, \"Attack\": 45, \"Defense\": 160, \"SpecialA\": 30, \"SpecialD\": 45, \"Speed\": 70, \"Generation\": 1}, {\"#\": 102, \"Name\": \"Exeggcute\", \"Type 1\": \"Grass\", \"Type 2\": \"Psychic\", \"Total\": 325, \"HP\": 60, \"Attack\": 40, \"Defense\": 80, \"SpecialA\": 60, \"SpecialD\": 45, \"Speed\": 40, \"Generation\": 1}, {\"#\": 103, \"Name\": \"Exeggutor\", \"Type 1\": \"Grass\", \"Type 2\": \"Psychic\", \"Total\": 520, \"HP\": 95, \"Attack\": 95, \"Defense\": 85, \"SpecialA\": 125, \"SpecialD\": 65, \"Speed\": 55, \"Generation\": 1}, {\"#\": 111, \"Name\": \"Rhyhorn\", \"Type 1\": \"Ground\", \"Type 2\": \"Rock\", \"Total\": 345, \"HP\": 80, \"Attack\": 85, \"Defense\": 95, \"SpecialA\": 30, \"SpecialD\": 30, \"Speed\": 25, \"Generation\": 1}, {\"#\": 112, \"Name\": \"Rhydon\", \"Type 1\": \"Ground\", \"Type 2\": \"Rock\", \"Total\": 485, \"HP\": 105, \"Attack\": 130, \"Defense\": 120, \"SpecialA\": 45, \"SpecialD\": 45, \"Speed\": 40, \"Generation\": 1}, {\"#\": 121, \"Name\": \"Starmie\", \"Type 1\": \"Water\", \"Type 2\": \"Psychic\", \"Total\": 520, \"HP\": 60, \"Attack\": 75, \"Defense\": 85, \"SpecialA\": 100, \"SpecialD\": 85, \"Speed\": 115, \"Generation\": 1}, {\"#\": 122, \"Name\": \"Mr. Mime\", \"Type 1\": \"Psychic\", \"Type 2\": \"Fairy\", \"Total\": 460, \"HP\": 40, \"Attack\": 45, \"Defense\": 65, \"SpecialA\": 100, \"SpecialD\": 120, \"Speed\": 90, \"Generation\": 1}, {\"#\": 123, \"Name\": \"Scyther\", \"Type 1\": \"Bug\", \"Type 2\": \"Flying\", \"Total\": 500, \"HP\": 70, \"Attack\": 110, \"Defense\": 80, \"SpecialA\": 55, \"SpecialD\": 80, \"Speed\": 105, \"Generation\": 1}, {\"#\": 124, \"Name\": \"Jynx\", \"Type 1\": \"Ice\", \"Type 2\": \"Psychic\", \"Total\": 455, \"HP\": 65, \"Attack\": 50, \"Defense\": 35, \"SpecialA\": 115, \"SpecialD\": 95, \"Speed\": 95, \"Generation\": 1}, {\"#\": 127, \"Name\": \"PinsirMega Pinsir\", \"Type 1\": \"Bug\", \"Type 2\": \"Flying\", \"Total\": 600, \"HP\": 65, \"Attack\": 155, \"Defense\": 120, \"SpecialA\": 65, \"SpecialD\": 90, \"Speed\": 105, \"Generation\": 1}, {\"#\": 130, \"Name\": \"Gyarados\", \"Type 1\": \"Water\", \"Type 2\": \"Flying\", \"Total\": 540, \"HP\": 95, \"Attack\": 125, \"Defense\": 79, \"SpecialA\": 60, \"SpecialD\": 100, \"Speed\": 81, \"Generation\": 1}, {\"#\": 130, \"Name\": \"GyaradosMega Gyarados\", \"Type 1\": \"Water\", \"Type 2\": \"Dark\", \"Total\": 640, \"HP\": 95, \"Attack\": 155, \"Defense\": 109, \"SpecialA\": 70, \"SpecialD\": 130, \"Speed\": 81, \"Generation\": 1}, {\"#\": 131, \"Name\": \"Lapras\", \"Type 1\": \"Water\", \"Type 2\": \"Ice\", \"Total\": 535, \"HP\": 130, \"Attack\": 85, \"Defense\": 80, \"SpecialA\": 85, \"SpecialD\": 95, \"Speed\": 60, \"Generation\": 1}, {\"#\": 138, \"Name\": \"Omanyte\", \"Type 1\": \"Rock\", \"Type 2\": \"Water\", \"Total\": 355, \"HP\": 35, \"Attack\": 40, \"Defense\": 100, \"SpecialA\": 90, \"SpecialD\": 55, \"Speed\": 35, \"Generation\": 1}, {\"#\": 139, \"Name\": \"Omastar\", \"Type 1\": \"Rock\", \"Type 2\": \"Water\", \"Total\": 495, \"HP\": 70, \"Attack\": 60, \"Defense\": 125, \"SpecialA\": 115, \"SpecialD\": 70, \"Speed\": 55, \"Generation\": 1}, {\"#\": 140, \"Name\": \"Kabuto\", \"Type 1\": \"Rock\", \"Type 2\": \"Water\", \"Total\": 355, \"HP\": 30, \"Attack\": 80, \"Defense\": 90, \"SpecialA\": 55, \"SpecialD\": 45, \"Speed\": 55, \"Generation\": 1}, {\"#\": 141, \"Name\": \"Kabutops\", \"Type 1\": \"Rock\", \"Type 2\": \"Water\", \"Total\": 495, \"HP\": 60, \"Attack\": 115, \"Defense\": 105, \"SpecialA\": 65, \"SpecialD\": 70, \"Speed\": 80, \"Generation\": 1}, {\"#\": 142, \"Name\": \"Aerodactyl\", \"Type 1\": \"Rock\", \"Type 2\": \"Flying\", \"Total\": 515, \"HP\": 80, \"Attack\": 105, \"Defense\": 65, \"SpecialA\": 60, \"SpecialD\": 75, \"Speed\": 130, \"Generation\": 1}, {\"#\": 142, \"Name\": \"AerodactylMega Aerodactyl\", \"Type 1\": \"Rock\", \"Type 2\": \"Flying\", \"Total\": 615, \"HP\": 80, \"Attack\": 135, \"Defense\": 85, \"SpecialA\": 70, \"SpecialD\": 95, \"Speed\": 150, \"Generation\": 1}, {\"#\": 149, \"Name\": \"Dragonite\", \"Type 1\": \"Dragon\", \"Type 2\": \"Flying\", \"Total\": 600, \"HP\": 91, \"Attack\": 134, \"Defense\": 95, \"SpecialA\": 100, \"SpecialD\": 100, \"Speed\": 80, \"Generation\": 1}, {\"#\": 163, \"Name\": \"Hoothoot\", \"Type 1\": \"Normal\", \"Type 2\": \"Flying\", \"Total\": 262, \"HP\": 60, \"Attack\": 30, \"Defense\": 30, \"SpecialA\": 36, \"SpecialD\": 56, \"Speed\": 50, \"Generation\": 2}, {\"#\": 164, \"Name\": \"Noctowl\", \"Type 1\": \"Normal\", \"Type 2\": \"Flying\", \"Total\": 442, \"HP\": 100, \"Attack\": 50, \"Defense\": 50, \"SpecialA\": 76, \"SpecialD\": 96, \"Speed\": 70, \"Generation\": 2}, {\"#\": 165, \"Name\": \"Ledyba\", \"Type 1\": \"Bug\", \"Type 2\": \"Flying\", \"Total\": 265, \"HP\": 40, \"Attack\": 20, \"Defense\": 30, \"SpecialA\": 40, \"SpecialD\": 80, \"Speed\": 55, \"Generation\": 2}, {\"#\": 166, \"Name\": \"Ledian\", \"Type 1\": \"Bug\", \"Type 2\": \"Flying\", \"Total\": 390, \"HP\": 55, \"Attack\": 35, \"Defense\": 50, \"SpecialA\": 55, \"SpecialD\": 110, \"Speed\": 85, \"Generation\": 2}, {\"#\": 167, \"Name\": \"Spinarak\", \"Type 1\": \"Bug\", \"Type 2\": \"Poison\", \"Total\": 250, \"HP\": 40, \"Attack\": 60, \"Defense\": 40, \"SpecialA\": 40, \"SpecialD\": 40, \"Speed\": 30, \"Generation\": 2}, {\"#\": 168, \"Name\": \"Ariados\", \"Type 1\": \"Bug\", \"Type 2\": \"Poison\", \"Total\": 390, \"HP\": 70, \"Attack\": 90, \"Defense\": 70, \"SpecialA\": 60, \"SpecialD\": 60, \"Speed\": 40, \"Generation\": 2}, {\"#\": 169, \"Name\": \"Crobat\", \"Type 1\": \"Poison\", \"Type 2\": \"Flying\", \"Total\": 535, \"HP\": 85, \"Attack\": 90, \"Defense\": 80, \"SpecialA\": 70, \"SpecialD\": 80, \"Speed\": 130, \"Generation\": 2}, {\"#\": 170, \"Name\": \"Chinchou\", \"Type 1\": \"Water\", \"Type 2\": \"Electric\", \"Total\": 330, \"HP\": 75, \"Attack\": 38, \"Defense\": 38, \"SpecialA\": 56, \"SpecialD\": 56, \"Speed\": 67, \"Generation\": 2}, {\"#\": 171, \"Name\": \"Lanturn\", \"Type 1\": \"Water\", \"Type 2\": \"Electric\", \"Total\": 460, \"HP\": 125, \"Attack\": 58, \"Defense\": 58, \"SpecialA\": 76, \"SpecialD\": 76, \"Speed\": 67, \"Generation\": 2}, {\"#\": 174, \"Name\": \"Igglybuff\", \"Type 1\": \"Normal\", \"Type 2\": \"Fairy\", \"Total\": 210, \"HP\": 90, \"Attack\": 30, \"Defense\": 15, \"SpecialA\": 40, \"SpecialD\": 20, \"Speed\": 15, \"Generation\": 2}, {\"#\": 176, \"Name\": \"Togetic\", \"Type 1\": \"Fairy\", \"Type 2\": \"Flying\", \"Total\": 405, \"HP\": 55, \"Attack\": 40, \"Defense\": 85, \"SpecialA\": 80, \"SpecialD\": 105, \"Speed\": 40, \"Generation\": 2}, {\"#\": 177, \"Name\": \"Natu\", \"Type 1\": \"Psychic\", \"Type 2\": \"Flying\", \"Total\": 320, \"HP\": 40, \"Attack\": 50, \"Defense\": 45, \"SpecialA\": 70, \"SpecialD\": 45, \"Speed\": 70, \"Generation\": 2}, {\"#\": 178, \"Name\": \"Xatu\", \"Type 1\": \"Psychic\", \"Type 2\": \"Flying\", \"Total\": 470, \"HP\": 65, \"Attack\": 75, \"Defense\": 70, \"SpecialA\": 95, \"SpecialD\": 70, \"Speed\": 95, \"Generation\": 2}, {\"#\": 181, \"Name\": \"AmpharosMega Ampharos\", \"Type 1\": \"Electric\", \"Type 2\": \"Dragon\", \"Total\": 610, \"HP\": 90, \"Attack\": 95, \"Defense\": 105, \"SpecialA\": 165, \"SpecialD\": 110, \"Speed\": 45, \"Generation\": 2}, {\"#\": 183, \"Name\": \"Marill\", \"Type 1\": \"Water\", \"Type 2\": \"Fairy\", \"Total\": 250, \"HP\": 70, \"Attack\": 20, \"Defense\": 50, \"SpecialA\": 20, \"SpecialD\": 50, \"Speed\": 40, \"Generation\": 2}, {\"#\": 184, \"Name\": \"Azumarill\", \"Type 1\": \"Water\", \"Type 2\": \"Fairy\", \"Total\": 420, \"HP\": 100, \"Attack\": 50, \"Defense\": 80, \"SpecialA\": 60, \"SpecialD\": 80, \"Speed\": 50, \"Generation\": 2}, {\"#\": 187, \"Name\": \"Hoppip\", \"Type 1\": \"Grass\", \"Type 2\": \"Flying\", \"Total\": 250, \"HP\": 35, \"Attack\": 35, \"Defense\": 40, \"SpecialA\": 35, \"SpecialD\": 55, \"Speed\": 50, \"Generation\": 2}, {\"#\": 188, \"Name\": \"Skiploom\", \"Type 1\": \"Grass\", \"Type 2\": \"Flying\", \"Total\": 340, \"HP\": 55, \"Attack\": 45, \"Defense\": 50, \"SpecialA\": 45, \"SpecialD\": 65, \"Speed\": 80, \"Generation\": 2}, {\"#\": 189, \"Name\": \"Jumpluff\", \"Type 1\": \"Grass\", \"Type 2\": \"Flying\", \"Total\": 460, \"HP\": 75, \"Attack\": 55, \"Defense\": 70, \"SpecialA\": 55, \"SpecialD\": 95, \"Speed\": 110, \"Generation\": 2}, {\"#\": 193, \"Name\": \"Yanma\", \"Type 1\": \"Bug\", \"Type 2\": \"Flying\", \"Total\": 390, \"HP\": 65, \"Attack\": 65, \"Defense\": 45, \"SpecialA\": 75, \"SpecialD\": 45, \"Speed\": 95, \"Generation\": 2}, {\"#\": 194, \"Name\": \"Wooper\", \"Type 1\": \"Water\", \"Type 2\": \"Ground\", \"Total\": 210, \"HP\": 55, \"Attack\": 45, \"Defense\": 45, \"SpecialA\": 25, \"SpecialD\": 25, \"Speed\": 15, \"Generation\": 2}, {\"#\": 195, \"Name\": \"Quagsire\", \"Type 1\": \"Water\", \"Type 2\": \"Ground\", \"Total\": 430, \"HP\": 95, \"Attack\": 85, \"Defense\": 85, \"SpecialA\": 65, \"SpecialD\": 65, \"Speed\": 35, \"Generation\": 2}, {\"#\": 198, \"Name\": \"Murkrow\", \"Type 1\": \"Dark\", \"Type 2\": \"Flying\", \"Total\": 405, \"HP\": 60, \"Attack\": 85, \"Defense\": 42, \"SpecialA\": 85, \"SpecialD\": 42, \"Speed\": 91, \"Generation\": 2}, {\"#\": 199, \"Name\": \"Slowking\", \"Type 1\": \"Water\", \"Type 2\": \"Psychic\", \"Total\": 490, \"HP\": 95, \"Attack\": 75, \"Defense\": 80, \"SpecialA\": 100, \"SpecialD\": 110, \"Speed\": 30, \"Generation\": 2}, {\"#\": 203, \"Name\": \"Girafarig\", \"Type 1\": \"Normal\", \"Type 2\": \"Psychic\", \"Total\": 455, \"HP\": 70, \"Attack\": 80, \"Defense\": 65, \"SpecialA\": 90, \"SpecialD\": 65, \"Speed\": 85, \"Generation\": 2}, {\"#\": 205, \"Name\": \"Forretress\", \"Type 1\": \"Bug\", \"Type 2\": \"Steel\", \"Total\": 465, \"HP\": 75, \"Attack\": 90, \"Defense\": 140, \"SpecialA\": 60, \"SpecialD\": 60, \"Speed\": 40, \"Generation\": 2}, {\"#\": 207, \"Name\": \"Gligar\", \"Type 1\": \"Ground\", \"Type 2\": \"Flying\", \"Total\": 430, \"HP\": 65, \"Attack\": 75, \"Defense\": 105, \"SpecialA\": 35, \"SpecialD\": 65, \"Speed\": 85, \"Generation\": 2}, {\"#\": 208, \"Name\": \"Steelix\", \"Type 1\": \"Steel\", \"Type 2\": \"Ground\", \"Total\": 510, \"HP\": 75, \"Attack\": 85, \"Defense\": 200, \"SpecialA\": 55, \"SpecialD\": 65, \"Speed\": 30, \"Generation\": 2}, {\"#\": 208, \"Name\": \"SteelixMega Steelix\", \"Type 1\": \"Steel\", \"Type 2\": \"Ground\", \"Total\": 610, \"HP\": 75, \"Attack\": 125, \"Defense\": 230, \"SpecialA\": 55, \"SpecialD\": 95, \"Speed\": 30, \"Generation\": 2}, {\"#\": 211, \"Name\": \"Qwilfish\", \"Type 1\": \"Water\", \"Type 2\": \"Poison\", \"Total\": 430, \"HP\": 65, \"Attack\": 95, \"Defense\": 75, \"SpecialA\": 55, \"SpecialD\": 55, \"Speed\": 85, \"Generation\": 2}, {\"#\": 212, \"Name\": \"Scizor\", \"Type 1\": \"Bug\", \"Type 2\": \"Steel\", \"Total\": 500, \"HP\": 70, \"Attack\": 130, \"Defense\": 100, \"SpecialA\": 55, \"SpecialD\": 80, \"Speed\": 65, \"Generation\": 2}, {\"#\": 212, \"Name\": \"ScizorMega Scizor\", \"Type 1\": \"Bug\", \"Type 2\": \"Steel\", \"Total\": 600, \"HP\": 70, \"Attack\": 150, \"Defense\": 140, \"SpecialA\": 65, \"SpecialD\": 100, \"Speed\": 75, \"Generation\": 2}, {\"#\": 213, \"Name\": \"Shuckle\", \"Type 1\": \"Bug\", \"Type 2\": \"Rock\", \"Total\": 505, \"HP\": 20, \"Attack\": 10, \"Defense\": 230, \"SpecialA\": 10, \"SpecialD\": 230, \"Speed\": 5, \"Generation\": 2}, {\"#\": 214, \"Name\": \"Heracross\", \"Type 1\": \"Bug\", \"Type 2\": \"Fighting\", \"Total\": 500, \"HP\": 80, \"Attack\": 125, \"Defense\": 75, \"SpecialA\": 40, \"SpecialD\": 95, \"Speed\": 85, \"Generation\": 2}, {\"#\": 214, \"Name\": \"HeracrossMega Heracross\", \"Type 1\": \"Bug\", \"Type 2\": \"Fighting\", \"Total\": 600, \"HP\": 80, \"Attack\": 185, \"Defense\": 115, \"SpecialA\": 40, \"SpecialD\": 105, \"Speed\": 75, \"Generation\": 2}, {\"#\": 215, \"Name\": \"Sneasel\", \"Type 1\": \"Dark\", \"Type 2\": \"Ice\", \"Total\": 430, \"HP\": 55, \"Attack\": 95, \"Defense\": 55, \"SpecialA\": 35, \"SpecialD\": 75, \"Speed\": 115, \"Generation\": 2}, {\"#\": 219, \"Name\": \"Magcargo\", \"Type 1\": \"Fire\", \"Type 2\": \"Rock\", \"Total\": 410, \"HP\": 50, \"Attack\": 50, \"Defense\": 120, \"SpecialA\": 80, \"SpecialD\": 80, \"Speed\": 30, \"Generation\": 2}, {\"#\": 220, \"Name\": \"Swinub\", \"Type 1\": \"Ice\", \"Type 2\": \"Ground\", \"Total\": 250, \"HP\": 50, \"Attack\": 50, \"Defense\": 40, \"SpecialA\": 30, \"SpecialD\": 30, \"Speed\": 50, \"Generation\": 2}, {\"#\": 221, \"Name\": \"Piloswine\", \"Type 1\": \"Ice\", \"Type 2\": \"Ground\", \"Total\": 450, \"HP\": 100, \"Attack\": 100, \"Defense\": 80, \"SpecialA\": 60, \"SpecialD\": 60, \"Speed\": 50, \"Generation\": 2}, {\"#\": 222, \"Name\": \"Corsola\", \"Type 1\": \"Water\", \"Type 2\": \"Rock\", \"Total\": 380, \"HP\": 55, \"Attack\": 55, \"Defense\": 85, \"SpecialA\": 65, \"SpecialD\": 85, \"Speed\": 35, \"Generation\": 2}, {\"#\": 225, \"Name\": \"Delibird\", \"Type 1\": \"Ice\", \"Type 2\": \"Flying\", \"Total\": 330, \"HP\": 45, \"Attack\": 55, \"Defense\": 45, \"SpecialA\": 65, \"SpecialD\": 45, \"Speed\": 75, \"Generation\": 2}, {\"#\": 226, \"Name\": \"Mantine\", \"Type 1\": \"Water\", \"Type 2\": \"Flying\", \"Total\": 465, \"HP\": 65, \"Attack\": 40, \"Defense\": 70, \"SpecialA\": 80, \"SpecialD\": 140, \"Speed\": 70, \"Generation\": 2}, {\"#\": 227, \"Name\": \"Skarmory\", \"Type 1\": \"Steel\", \"Type 2\": \"Flying\", \"Total\": 465, \"HP\": 65, \"Attack\": 80, \"Defense\": 140, \"SpecialA\": 40, \"SpecialD\": 70, \"Speed\": 70, \"Generation\": 2}, {\"#\": 228, \"Name\": \"Houndour\", \"Type 1\": \"Dark\", \"Type 2\": \"Fire\", \"Total\": 330, \"HP\": 45, \"Attack\": 60, \"Defense\": 30, \"SpecialA\": 80, \"SpecialD\": 50, \"Speed\": 65, \"Generation\": 2}, {\"#\": 229, \"Name\": \"Houndoom\", \"Type 1\": \"Dark\", \"Type 2\": \"Fire\", \"Total\": 500, \"HP\": 75, \"Attack\": 90, \"Defense\": 50, \"SpecialA\": 110, \"SpecialD\": 80, \"Speed\": 95, \"Generation\": 2}, {\"#\": 229, \"Name\": \"HoundoomMega Houndoom\", \"Type 1\": \"Dark\", \"Type 2\": \"Fire\", \"Total\": 600, \"HP\": 75, \"Attack\": 90, \"Defense\": 90, \"SpecialA\": 140, \"SpecialD\": 90, \"Speed\": 115, \"Generation\": 2}, {\"#\": 230, \"Name\": \"Kingdra\", \"Type 1\": \"Water\", \"Type 2\": \"Dragon\", \"Total\": 540, \"HP\": 75, \"Attack\": 95, \"Defense\": 95, \"SpecialA\": 95, \"SpecialD\": 95, \"Speed\": 85, \"Generation\": 2}, {\"#\": 238, \"Name\": \"Smoochum\", \"Type 1\": \"Ice\", \"Type 2\": \"Psychic\", \"Total\": 305, \"HP\": 45, \"Attack\": 30, \"Defense\": 15, \"SpecialA\": 85, \"SpecialD\": 65, \"Speed\": 65, \"Generation\": 2}, {\"#\": 246, \"Name\": \"Larvitar\", \"Type 1\": \"Rock\", \"Type 2\": \"Ground\", \"Total\": 300, \"HP\": 50, \"Attack\": 64, \"Defense\": 50, \"SpecialA\": 45, \"SpecialD\": 50, \"Speed\": 41, \"Generation\": 2}, {\"#\": 247, \"Name\": \"Pupitar\", \"Type 1\": \"Rock\", \"Type 2\": \"Ground\", \"Total\": 410, \"HP\": 70, \"Attack\": 84, \"Defense\": 70, \"SpecialA\": 65, \"SpecialD\": 70, \"Speed\": 51, \"Generation\": 2}, {\"#\": 248, \"Name\": \"Tyranitar\", \"Type 1\": \"Rock\", \"Type 2\": \"Dark\", \"Total\": 600, \"HP\": 100, \"Attack\": 134, \"Defense\": 110, \"SpecialA\": 95, \"SpecialD\": 100, \"Speed\": 61, \"Generation\": 2}, {\"#\": 248, \"Name\": \"TyranitarMega Tyranitar\", \"Type 1\": \"Rock\", \"Type 2\": \"Dark\", \"Total\": 700, \"HP\": 100, \"Attack\": 164, \"Defense\": 150, \"SpecialA\": 95, \"SpecialD\": 120, \"Speed\": 71, \"Generation\": 2}, {\"#\": 251, \"Name\": \"Celebi\", \"Type 1\": \"Psychic\", \"Type 2\": \"Grass\", \"Total\": 600, \"HP\": 100, \"Attack\": 100, \"Defense\": 100, \"SpecialA\": 100, \"SpecialD\": 100, \"Speed\": 100, \"Generation\": 2}, {\"#\": 254, \"Name\": \"SceptileMega Sceptile\", \"Type 1\": \"Grass\", \"Type 2\": \"Dragon\", \"Total\": 630, \"HP\": 70, \"Attack\": 110, \"Defense\": 75, \"SpecialA\": 145, \"SpecialD\": 85, \"Speed\": 145, \"Generation\": 3}, {\"#\": 256, \"Name\": \"Combusken\", \"Type 1\": \"Fire\", \"Type 2\": \"Fighting\", \"Total\": 405, \"HP\": 60, \"Attack\": 85, \"Defense\": 60, \"SpecialA\": 85, \"SpecialD\": 60, \"Speed\": 55, \"Generation\": 3}, {\"#\": 257, \"Name\": \"Blaziken\", \"Type 1\": \"Fire\", \"Type 2\": \"Fighting\", \"Total\": 530, \"HP\": 80, \"Attack\": 120, \"Defense\": 70, \"SpecialA\": 110, \"SpecialD\": 70, \"Speed\": 80, \"Generation\": 3}, {\"#\": 257, \"Name\": \"BlazikenMega Blaziken\", \"Type 1\": \"Fire\", \"Type 2\": \"Fighting\", \"Total\": 630, \"HP\": 80, \"Attack\": 160, \"Defense\": 80, \"SpecialA\": 130, \"SpecialD\": 80, \"Speed\": 100, \"Generation\": 3}, {\"#\": 259, \"Name\": \"Marshtomp\", \"Type 1\": \"Water\", \"Type 2\": \"Ground\", \"Total\": 405, \"HP\": 70, \"Attack\": 85, \"Defense\": 70, \"SpecialA\": 60, \"SpecialD\": 70, \"Speed\": 50, \"Generation\": 3}, {\"#\": 260, \"Name\": \"Swampert\", \"Type 1\": \"Water\", \"Type 2\": \"Ground\", \"Total\": 535, \"HP\": 100, \"Attack\": 110, \"Defense\": 90, \"SpecialA\": 85, \"SpecialD\": 90, \"Speed\": 60, \"Generation\": 3}, {\"#\": 260, \"Name\": \"SwampertMega Swampert\", \"Type 1\": \"Water\", \"Type 2\": \"Ground\", \"Total\": 635, \"HP\": 100, \"Attack\": 150, \"Defense\": 110, \"SpecialA\": 95, \"SpecialD\": 110, \"Speed\": 70, \"Generation\": 3}, {\"#\": 267, \"Name\": \"Beautifly\", \"Type 1\": \"Bug\", \"Type 2\": \"Flying\", \"Total\": 395, \"HP\": 60, \"Attack\": 70, \"Defense\": 50, \"SpecialA\": 100, \"SpecialD\": 50, \"Speed\": 65, \"Generation\": 3}, {\"#\": 269, \"Name\": \"Dustox\", \"Type 1\": \"Bug\", \"Type 2\": \"Poison\", \"Total\": 385, \"HP\": 60, \"Attack\": 50, \"Defense\": 70, \"SpecialA\": 50, \"SpecialD\": 90, \"Speed\": 65, \"Generation\": 3}, {\"#\": 270, \"Name\": \"Lotad\", \"Type 1\": \"Water\", \"Type 2\": \"Grass\", \"Total\": 220, \"HP\": 40, \"Attack\": 30, \"Defense\": 30, \"SpecialA\": 40, \"SpecialD\": 50, \"Speed\": 30, \"Generation\": 3}, {\"#\": 271, \"Name\": \"Lombre\", \"Type 1\": \"Water\", \"Type 2\": \"Grass\", \"Total\": 340, \"HP\": 60, \"Attack\": 50, \"Defense\": 50, \"SpecialA\": 60, \"SpecialD\": 70, \"Speed\": 50, \"Generation\": 3}, {\"#\": 272, \"Name\": \"Ludicolo\", \"Type 1\": \"Water\", \"Type 2\": \"Grass\", \"Total\": 480, \"HP\": 80, \"Attack\": 70, \"Defense\": 70, \"SpecialA\": 90, \"SpecialD\": 100, \"Speed\": 70, \"Generation\": 3}, {\"#\": 274, \"Name\": \"Nuzleaf\", \"Type 1\": \"Grass\", \"Type 2\": \"Dark\", \"Total\": 340, \"HP\": 70, \"Attack\": 70, \"Defense\": 40, \"SpecialA\": 60, \"SpecialD\": 40, \"Speed\": 60, \"Generation\": 3}, {\"#\": 275, \"Name\": \"Shiftry\", \"Type 1\": \"Grass\", \"Type 2\": \"Dark\", \"Total\": 480, \"HP\": 90, \"Attack\": 100, \"Defense\": 60, \"SpecialA\": 90, \"SpecialD\": 60, \"Speed\": 80, \"Generation\": 3}, {\"#\": 276, \"Name\": \"Taillow\", \"Type 1\": \"Normal\", \"Type 2\": \"Flying\", \"Total\": 270, \"HP\": 40, \"Attack\": 55, \"Defense\": 30, \"SpecialA\": 30, \"SpecialD\": 30, \"Speed\": 85, \"Generation\": 3}, {\"#\": 277, \"Name\": \"Swellow\", \"Type 1\": \"Normal\", \"Type 2\": \"Flying\", \"Total\": 430, \"HP\": 60, \"Attack\": 85, \"Defense\": 60, \"SpecialA\": 50, \"SpecialD\": 50, \"Speed\": 125, \"Generation\": 3}, {\"#\": 278, \"Name\": \"Wingull\", \"Type 1\": \"Water\", \"Type 2\": \"Flying\", \"Total\": 270, \"HP\": 40, \"Attack\": 30, \"Defense\": 30, \"SpecialA\": 55, \"SpecialD\": 30, \"Speed\": 85, \"Generation\": 3}, {\"#\": 279, \"Name\": \"Pelipper\", \"Type 1\": \"Water\", \"Type 2\": \"Flying\", \"Total\": 430, \"HP\": 60, \"Attack\": 50, \"Defense\": 100, \"SpecialA\": 85, \"SpecialD\": 70, \"Speed\": 65, \"Generation\": 3}, {\"#\": 280, \"Name\": \"Ralts\", \"Type 1\": \"Psychic\", \"Type 2\": \"Fairy\", \"Total\": 198, \"HP\": 28, \"Attack\": 25, \"Defense\": 25, \"SpecialA\": 45, \"SpecialD\": 35, \"Speed\": 40, \"Generation\": 3}, {\"#\": 281, \"Name\": \"Kirlia\", \"Type 1\": \"Psychic\", \"Type 2\": \"Fairy\", \"Total\": 278, \"HP\": 38, \"Attack\": 35, \"Defense\": 35, \"SpecialA\": 65, \"SpecialD\": 55, \"Speed\": 50, \"Generation\": 3}, {\"#\": 282, \"Name\": \"Gardevoir\", \"Type 1\": \"Psychic\", \"Type 2\": \"Fairy\", \"Total\": 518, \"HP\": 68, \"Attack\": 65, \"Defense\": 65, \"SpecialA\": 125, \"SpecialD\": 115, \"Speed\": 80, \"Generation\": 3}, {\"#\": 282, \"Name\": \"GardevoirMega Gardevoir\", \"Type 1\": \"Psychic\", \"Type 2\": \"Fairy\", \"Total\": 618, \"HP\": 68, \"Attack\": 85, \"Defense\": 65, \"SpecialA\": 165, \"SpecialD\": 135, \"Speed\": 100, \"Generation\": 3}, {\"#\": 283, \"Name\": \"Surskit\", \"Type 1\": \"Bug\", \"Type 2\": \"Water\", \"Total\": 269, \"HP\": 40, \"Attack\": 30, \"Defense\": 32, \"SpecialA\": 50, \"SpecialD\": 52, \"Speed\": 65, \"Generation\": 3}, {\"#\": 284, \"Name\": \"Masquerain\", \"Type 1\": \"Bug\", \"Type 2\": \"Flying\", \"Total\": 414, \"HP\": 70, \"Attack\": 60, \"Defense\": 62, \"SpecialA\": 80, \"SpecialD\": 82, \"Speed\": 60, \"Generation\": 3}, {\"#\": 286, \"Name\": \"Breloom\", \"Type 1\": \"Grass\", \"Type 2\": \"Fighting\", \"Total\": 460, \"HP\": 60, \"Attack\": 130, \"Defense\": 80, \"SpecialA\": 60, \"SpecialD\": 60, \"Speed\": 70, \"Generation\": 3}, {\"#\": 290, \"Name\": \"Nincada\", \"Type 1\": \"Bug\", \"Type 2\": \"Ground\", \"Total\": 266, \"HP\": 31, \"Attack\": 45, \"Defense\": 90, \"SpecialA\": 30, \"SpecialD\": 30, \"Speed\": 40, \"Generation\": 3}, {\"#\": 291, \"Name\": \"Ninjask\", \"Type 1\": \"Bug\", \"Type 2\": \"Flying\", \"Total\": 456, \"HP\": 61, \"Attack\": 90, \"Defense\": 45, \"SpecialA\": 50, \"SpecialD\": 50, \"Speed\": 160, \"Generation\": 3}, {\"#\": 292, \"Name\": \"Shedinja\", \"Type 1\": \"Bug\", \"Type 2\": \"Ghost\", \"Total\": 236, \"HP\": 1, \"Attack\": 90, \"Defense\": 45, \"SpecialA\": 30, \"SpecialD\": 30, \"Speed\": 40, \"Generation\": 3}, {\"#\": 298, \"Name\": \"Azurill\", \"Type 1\": \"Normal\", \"Type 2\": \"Fairy\", \"Total\": 190, \"HP\": 50, \"Attack\": 20, \"Defense\": 40, \"SpecialA\": 20, \"SpecialD\": 40, \"Speed\": 20, \"Generation\": 3}, {\"#\": 302, \"Name\": \"Sableye\", \"Type 1\": \"Dark\", \"Type 2\": \"Ghost\", \"Total\": 380, \"HP\": 50, \"Attack\": 75, \"Defense\": 75, \"SpecialA\": 65, \"SpecialD\": 65, \"Speed\": 50, \"Generation\": 3}, {\"#\": 302, \"Name\": \"SableyeMega Sableye\", \"Type 1\": \"Dark\", \"Type 2\": \"Ghost\", \"Total\": 480, \"HP\": 50, \"Attack\": 85, \"Defense\": 125, \"SpecialA\": 85, \"SpecialD\": 115, \"Speed\": 20, \"Generation\": 3}, {\"#\": 303, \"Name\": \"Mawile\", \"Type 1\": \"Steel\", \"Type 2\": \"Fairy\", \"Total\": 380, \"HP\": 50, \"Attack\": 85, \"Defense\": 85, \"SpecialA\": 55, \"SpecialD\": 55, \"Speed\": 50, \"Generation\": 3}, {\"#\": 303, \"Name\": \"MawileMega Mawile\", \"Type 1\": \"Steel\", \"Type 2\": \"Fairy\", \"Total\": 480, \"HP\": 50, \"Attack\": 105, \"Defense\": 125, \"SpecialA\": 55, \"SpecialD\": 95, \"Speed\": 50, \"Generation\": 3}, {\"#\": 304, \"Name\": \"Aron\", \"Type 1\": \"Steel\", \"Type 2\": \"Rock\", \"Total\": 330, \"HP\": 50, \"Attack\": 70, \"Defense\": 100, \"SpecialA\": 40, \"SpecialD\": 40, \"Speed\": 30, \"Generation\": 3}, {\"#\": 305, \"Name\": \"Lairon\", \"Type 1\": \"Steel\", \"Type 2\": \"Rock\", \"Total\": 430, \"HP\": 60, \"Attack\": 90, \"Defense\": 140, \"SpecialA\": 50, \"SpecialD\": 50, \"Speed\": 40, \"Generation\": 3}, {\"#\": 306, \"Name\": \"Aggron\", \"Type 1\": \"Steel\", \"Type 2\": \"Rock\", \"Total\": 530, \"HP\": 70, \"Attack\": 110, \"Defense\": 180, \"SpecialA\": 60, \"SpecialD\": 60, \"Speed\": 50, \"Generation\": 3}, {\"#\": 307, \"Name\": \"Meditite\", \"Type 1\": \"Fighting\", \"Type 2\": \"Psychic\", \"Total\": 280, \"HP\": 30, \"Attack\": 40, \"Defense\": 55, \"SpecialA\": 40, \"SpecialD\": 55, \"Speed\": 60, \"Generation\": 3}, {\"#\": 308, \"Name\": \"Medicham\", \"Type 1\": \"Fighting\", \"Type 2\": \"Psychic\", \"Total\": 410, \"HP\": 60, \"Attack\": 60, \"Defense\": 75, \"SpecialA\": 60, \"SpecialD\": 75, \"Speed\": 80, \"Generation\": 3}, {\"#\": 308, \"Name\": \"MedichamMega Medicham\", \"Type 1\": \"Fighting\", \"Type 2\": \"Psychic\", \"Total\": 510, \"HP\": 60, \"Attack\": 100, \"Defense\": 85, \"SpecialA\": 80, \"SpecialD\": 85, \"Speed\": 100, \"Generation\": 3}, {\"#\": 315, \"Name\": \"Roselia\", \"Type 1\": \"Grass\", \"Type 2\": \"Poison\", \"Total\": 400, \"HP\": 50, \"Attack\": 60, \"Defense\": 45, \"SpecialA\": 100, \"SpecialD\": 80, \"Speed\": 65, \"Generation\": 3}, {\"#\": 318, \"Name\": \"Carvanha\", \"Type 1\": \"Water\", \"Type 2\": \"Dark\", \"Total\": 305, \"HP\": 45, \"Attack\": 90, \"Defense\": 20, \"SpecialA\": 65, \"SpecialD\": 20, \"Speed\": 65, \"Generation\": 3}, {\"#\": 319, \"Name\": \"Sharpedo\", \"Type 1\": \"Water\", \"Type 2\": \"Dark\", \"Total\": 460, \"HP\": 70, \"Attack\": 120, \"Defense\": 40, \"SpecialA\": 95, \"SpecialD\": 40, \"Speed\": 95, \"Generation\": 3}, {\"#\": 319, \"Name\": \"SharpedoMega Sharpedo\", \"Type 1\": \"Water\", \"Type 2\": \"Dark\", \"Total\": 560, \"HP\": 70, \"Attack\": 140, \"Defense\": 70, \"SpecialA\": 110, \"SpecialD\": 65, \"Speed\": 105, \"Generation\": 3}, {\"#\": 322, \"Name\": \"Numel\", \"Type 1\": \"Fire\", \"Type 2\": \"Ground\", \"Total\": 305, \"HP\": 60, \"Attack\": 60, \"Defense\": 40, \"SpecialA\": 65, \"SpecialD\": 45, \"Speed\": 35, \"Generation\": 3}, {\"#\": 323, \"Name\": \"Camerupt\", \"Type 1\": \"Fire\", \"Type 2\": \"Ground\", \"Total\": 460, \"HP\": 70, \"Attack\": 100, \"Defense\": 70, \"SpecialA\": 105, \"SpecialD\": 75, \"Speed\": 40, \"Generation\": 3}, {\"#\": 323, \"Name\": \"CameruptMega Camerupt\", \"Type 1\": \"Fire\", \"Type 2\": \"Ground\", \"Total\": 560, \"HP\": 70, \"Attack\": 120, \"Defense\": 100, \"SpecialA\": 145, \"SpecialD\": 105, \"Speed\": 20, \"Generation\": 3}, {\"#\": 329, \"Name\": \"Vibrava\", \"Type 1\": \"Ground\", \"Type 2\": \"Dragon\", \"Total\": 340, \"HP\": 50, \"Attack\": 70, \"Defense\": 50, \"SpecialA\": 50, \"SpecialD\": 50, \"Speed\": 70, \"Generation\": 3}, {\"#\": 330, \"Name\": \"Flygon\", \"Type 1\": \"Ground\", \"Type 2\": \"Dragon\", \"Total\": 520, \"HP\": 80, \"Attack\": 100, \"Defense\": 80, \"SpecialA\": 80, \"SpecialD\": 80, \"Speed\": 100, \"Generation\": 3}, {\"#\": 332, \"Name\": \"Cacturne\", \"Type 1\": \"Grass\", \"Type 2\": \"Dark\", \"Total\": 475, \"HP\": 70, \"Attack\": 115, \"Defense\": 60, \"SpecialA\": 115, \"SpecialD\": 60, \"Speed\": 55, \"Generation\": 3}, {\"#\": 333, \"Name\": \"Swablu\", \"Type 1\": \"Normal\", \"Type 2\": \"Flying\", \"Total\": 310, \"HP\": 45, \"Attack\": 40, \"Defense\": 60, \"SpecialA\": 40, \"SpecialD\": 75, \"Speed\": 50, \"Generation\": 3}, {\"#\": 334, \"Name\": \"Altaria\", \"Type 1\": \"Dragon\", \"Type 2\": \"Flying\", \"Total\": 490, \"HP\": 75, \"Attack\": 70, \"Defense\": 90, \"SpecialA\": 70, \"SpecialD\": 105, \"Speed\": 80, \"Generation\": 3}, {\"#\": 334, \"Name\": \"AltariaMega Altaria\", \"Type 1\": \"Dragon\", \"Type 2\": \"Fairy\", \"Total\": 590, \"HP\": 75, \"Attack\": 110, \"Defense\": 110, \"SpecialA\": 110, \"SpecialD\": 105, \"Speed\": 80, \"Generation\": 3}, {\"#\": 337, \"Name\": \"Lunatone\", \"Type 1\": \"Rock\", \"Type 2\": \"Psychic\", \"Total\": 440, \"HP\": 70, \"Attack\": 55, \"Defense\": 65, \"SpecialA\": 95, \"SpecialD\": 85, \"Speed\": 70, \"Generation\": 3}, {\"#\": 338, \"Name\": \"Solrock\", \"Type 1\": \"Rock\", \"Type 2\": \"Psychic\", \"Total\": 440, \"HP\": 70, \"Attack\": 95, \"Defense\": 85, \"SpecialA\": 55, \"SpecialD\": 65, \"Speed\": 70, \"Generation\": 3}, {\"#\": 339, \"Name\": \"Barboach\", \"Type 1\": \"Water\", \"Type 2\": \"Ground\", \"Total\": 288, \"HP\": 50, \"Attack\": 48, \"Defense\": 43, \"SpecialA\": 46, \"SpecialD\": 41, \"Speed\": 60, \"Generation\": 3}, {\"#\": 340, \"Name\": \"Whiscash\", \"Type 1\": \"Water\", \"Type 2\": \"Ground\", \"Total\": 468, \"HP\": 110, \"Attack\": 78, \"Defense\": 73, \"SpecialA\": 76, \"SpecialD\": 71, \"Speed\": 60, \"Generation\": 3}, {\"#\": 342, \"Name\": \"Crawdaunt\", \"Type 1\": \"Water\", \"Type 2\": \"Dark\", \"Total\": 468, \"HP\": 63, \"Attack\": 120, \"Defense\": 85, \"SpecialA\": 90, \"SpecialD\": 55, \"Speed\": 55, \"Generation\": 3}, {\"#\": 343, \"Name\": \"Baltoy\", \"Type 1\": \"Ground\", \"Type 2\": \"Psychic\", \"Total\": 300, \"HP\": 40, \"Attack\": 40, \"Defense\": 55, \"SpecialA\": 40, \"SpecialD\": 70, \"Speed\": 55, \"Generation\": 3}, {\"#\": 344, \"Name\": \"Claydol\", \"Type 1\": \"Ground\", \"Type 2\": \"Psychic\", \"Total\": 500, \"HP\": 60, \"Attack\": 70, \"Defense\": 105, \"SpecialA\": 70, \"SpecialD\": 120, \"Speed\": 75, \"Generation\": 3}, {\"#\": 345, \"Name\": \"Lileep\", \"Type 1\": \"Rock\", \"Type 2\": \"Grass\", \"Total\": 355, \"HP\": 66, \"Attack\": 41, \"Defense\": 77, \"SpecialA\": 61, \"SpecialD\": 87, \"Speed\": 23, \"Generation\": 3}, {\"#\": 346, \"Name\": \"Cradily\", \"Type 1\": \"Rock\", \"Type 2\": \"Grass\", \"Total\": 495, \"HP\": 86, \"Attack\": 81, \"Defense\": 97, \"SpecialA\": 81, \"SpecialD\": 107, \"Speed\": 43, \"Generation\": 3}, {\"#\": 347, \"Name\": \"Anorith\", \"Type 1\": \"Rock\", \"Type 2\": \"Bug\", \"Total\": 355, \"HP\": 45, \"Attack\": 95, \"Defense\": 50, \"SpecialA\": 40, \"SpecialD\": 50, \"Speed\": 75, \"Generation\": 3}, {\"#\": 348, \"Name\": \"Armaldo\", \"Type 1\": \"Rock\", \"Type 2\": \"Bug\", \"Total\": 495, \"HP\": 75, \"Attack\": 125, \"Defense\": 100, \"SpecialA\": 70, \"SpecialD\": 80, \"Speed\": 45, \"Generation\": 3}, {\"#\": 357, \"Name\": \"Tropius\", \"Type 1\": \"Grass\", \"Type 2\": \"Flying\", \"Total\": 460, \"HP\": 99, \"Attack\": 68, \"Defense\": 83, \"SpecialA\": 72, \"SpecialD\": 87, \"Speed\": 51, \"Generation\": 3}, {\"#\": 363, \"Name\": \"Spheal\", \"Type 1\": \"Ice\", \"Type 2\": \"Water\", \"Total\": 290, \"HP\": 70, \"Attack\": 40, \"Defense\": 50, \"SpecialA\": 55, \"SpecialD\": 50, \"Speed\": 25, \"Generation\": 3}, {\"#\": 364, \"Name\": \"Sealeo\", \"Type 1\": \"Ice\", \"Type 2\": \"Water\", \"Total\": 410, \"HP\": 90, \"Attack\": 60, \"Defense\": 70, \"SpecialA\": 75, \"SpecialD\": 70, \"Speed\": 45, \"Generation\": 3}, {\"#\": 365, \"Name\": \"Walrein\", \"Type 1\": \"Ice\", \"Type 2\": \"Water\", \"Total\": 530, \"HP\": 110, \"Attack\": 80, \"Defense\": 90, \"SpecialA\": 95, \"SpecialD\": 90, \"Speed\": 65, \"Generation\": 3}, {\"#\": 369, \"Name\": \"Relicanth\", \"Type 1\": \"Water\", \"Type 2\": \"Rock\", \"Total\": 485, \"HP\": 100, \"Attack\": 90, \"Defense\": 130, \"SpecialA\": 45, \"SpecialD\": 65, \"Speed\": 55, \"Generation\": 3}, {\"#\": 373, \"Name\": \"Salamence\", \"Type 1\": \"Dragon\", \"Type 2\": \"Flying\", \"Total\": 600, \"HP\": 95, \"Attack\": 135, \"Defense\": 80, \"SpecialA\": 110, \"SpecialD\": 80, \"Speed\": 100, \"Generation\": 3}, {\"#\": 373, \"Name\": \"SalamenceMega Salamence\", \"Type 1\": \"Dragon\", \"Type 2\": \"Flying\", \"Total\": 700, \"HP\": 95, \"Attack\": 145, \"Defense\": 130, \"SpecialA\": 120, \"SpecialD\": 90, \"Speed\": 120, \"Generation\": 3}, {\"#\": 374, \"Name\": \"Beldum\", \"Type 1\": \"Steel\", \"Type 2\": \"Psychic\", \"Total\": 300, \"HP\": 40, \"Attack\": 55, \"Defense\": 80, \"SpecialA\": 35, \"SpecialD\": 60, \"Speed\": 30, \"Generation\": 3}, {\"#\": 375, \"Name\": \"Metang\", \"Type 1\": \"Steel\", \"Type 2\": \"Psychic\", \"Total\": 420, \"HP\": 60, \"Attack\": 75, \"Defense\": 100, \"SpecialA\": 55, \"SpecialD\": 80, \"Speed\": 50, \"Generation\": 3}, {\"#\": 376, \"Name\": \"Metagross\", \"Type 1\": \"Steel\", \"Type 2\": \"Psychic\", \"Total\": 600, \"HP\": 80, \"Attack\": 135, \"Defense\": 130, \"SpecialA\": 95, \"SpecialD\": 90, \"Speed\": 70, \"Generation\": 3}, {\"#\": 376, \"Name\": \"MetagrossMega Metagross\", \"Type 1\": \"Steel\", \"Type 2\": \"Psychic\", \"Total\": 700, \"HP\": 80, \"Attack\": 145, \"Defense\": 150, \"SpecialA\": 105, \"SpecialD\": 110, \"Speed\": 110, \"Generation\": 3}, {\"#\": 389, \"Name\": \"Torterra\", \"Type 1\": \"Grass\", \"Type 2\": \"Ground\", \"Total\": 525, \"HP\": 95, \"Attack\": 109, \"Defense\": 105, \"SpecialA\": 75, \"SpecialD\": 85, \"Speed\": 56, \"Generation\": 4}, {\"#\": 391, \"Name\": \"Monferno\", \"Type 1\": \"Fire\", \"Type 2\": \"Fighting\", \"Total\": 405, \"HP\": 64, \"Attack\": 78, \"Defense\": 52, \"SpecialA\": 78, \"SpecialD\": 52, \"Speed\": 81, \"Generation\": 4}, {\"#\": 392, \"Name\": \"Infernape\", \"Type 1\": \"Fire\", \"Type 2\": \"Fighting\", \"Total\": 534, \"HP\": 76, \"Attack\": 104, \"Defense\": 71, \"SpecialA\": 104, \"SpecialD\": 71, \"Speed\": 108, \"Generation\": 4}, {\"#\": 395, \"Name\": \"Empoleon\", \"Type 1\": \"Water\", \"Type 2\": \"Steel\", \"Total\": 530, \"HP\": 84, \"Attack\": 86, \"Defense\": 88, \"SpecialA\": 111, \"SpecialD\": 101, \"Speed\": 60, \"Generation\": 4}, {\"#\": 396, \"Name\": \"Starly\", \"Type 1\": \"Normal\", \"Type 2\": \"Flying\", \"Total\": 245, \"HP\": 40, \"Attack\": 55, \"Defense\": 30, \"SpecialA\": 30, \"SpecialD\": 30, \"Speed\": 60, \"Generation\": 4}, {\"#\": 397, \"Name\": \"Staravia\", \"Type 1\": \"Normal\", \"Type 2\": \"Flying\", \"Total\": 340, \"HP\": 55, \"Attack\": 75, \"Defense\": 50, \"SpecialA\": 40, \"SpecialD\": 40, \"Speed\": 80, \"Generation\": 4}, {\"#\": 398, \"Name\": \"Staraptor\", \"Type 1\": \"Normal\", \"Type 2\": \"Flying\", \"Total\": 485, \"HP\": 85, \"Attack\": 120, \"Defense\": 70, \"SpecialA\": 50, \"SpecialD\": 60, \"Speed\": 100, \"Generation\": 4}, {\"#\": 400, \"Name\": \"Bibarel\", \"Type 1\": \"Normal\", \"Type 2\": \"Water\", \"Total\": 410, \"HP\": 79, \"Attack\": 85, \"Defense\": 60, \"SpecialA\": 55, \"SpecialD\": 60, \"Speed\": 71, \"Generation\": 4}, {\"#\": 406, \"Name\": \"Budew\", \"Type 1\": \"Grass\", \"Type 2\": \"Poison\", \"Total\": 280, \"HP\": 40, \"Attack\": 30, \"Defense\": 35, \"SpecialA\": 50, \"SpecialD\": 70, \"Speed\": 55, \"Generation\": 4}, {\"#\": 407, \"Name\": \"Roserade\", \"Type 1\": \"Grass\", \"Type 2\": \"Poison\", \"Total\": 515, \"HP\": 60, \"Attack\": 70, \"Defense\": 65, \"SpecialA\": 125, \"SpecialD\": 105, \"Speed\": 90, \"Generation\": 4}, {\"#\": 410, \"Name\": \"Shieldon\", \"Type 1\": \"Rock\", \"Type 2\": \"Steel\", \"Total\": 350, \"HP\": 30, \"Attack\": 42, \"Defense\": 118, \"SpecialA\": 42, \"SpecialD\": 88, \"Speed\": 30, \"Generation\": 4}, {\"#\": 411, \"Name\": \"Bastiodon\", \"Type 1\": \"Rock\", \"Type 2\": \"Steel\", \"Total\": 495, \"HP\": 60, \"Attack\": 52, \"Defense\": 168, \"SpecialA\": 47, \"SpecialD\": 138, \"Speed\": 30, \"Generation\": 4}, {\"#\": 413, \"Name\": \"WormadamPlant Cloak\", \"Type 1\": \"Bug\", \"Type 2\": \"Grass\", \"Total\": 424, \"HP\": 60, \"Attack\": 59, \"Defense\": 85, \"SpecialA\": 79, \"SpecialD\": 105, \"Speed\": 36, \"Generation\": 4}, {\"#\": 413, \"Name\": \"WormadamSandy Cloak\", \"Type 1\": \"Bug\", \"Type 2\": \"Ground\", \"Total\": 424, \"HP\": 60, \"Attack\": 79, \"Defense\": 105, \"SpecialA\": 59, \"SpecialD\": 85, \"Speed\": 36, \"Generation\": 4}, {\"#\": 413, \"Name\": \"WormadamTrash Cloak\", \"Type 1\": \"Bug\", \"Type 2\": \"Steel\", \"Total\": 424, \"HP\": 60, \"Attack\": 69, \"Defense\": 95, \"SpecialA\": 69, \"SpecialD\": 95, \"Speed\": 36, \"Generation\": 4}, {\"#\": 414, \"Name\": \"Mothim\", \"Type 1\": \"Bug\", \"Type 2\": \"Flying\", \"Total\": 424, \"HP\": 70, \"Attack\": 94, \"Defense\": 50, \"SpecialA\": 94, \"SpecialD\": 50, \"Speed\": 66, \"Generation\": 4}, {\"#\": 415, \"Name\": \"Combee\", \"Type 1\": \"Bug\", \"Type 2\": \"Flying\", \"Total\": 244, \"HP\": 30, \"Attack\": 30, \"Defense\": 42, \"SpecialA\": 30, \"SpecialD\": 42, \"Speed\": 70, \"Generation\": 4}, {\"#\": 416, \"Name\": \"Vespiquen\", \"Type 1\": \"Bug\", \"Type 2\": \"Flying\", \"Total\": 474, \"HP\": 70, \"Attack\": 80, \"Defense\": 102, \"SpecialA\": 80, \"SpecialD\": 102, \"Speed\": 40, \"Generation\": 4}, {\"#\": 423, \"Name\": \"Gastrodon\", \"Type 1\": \"Water\", \"Type 2\": \"Ground\", \"Total\": 475, \"HP\": 111, \"Attack\": 83, \"Defense\": 68, \"SpecialA\": 92, \"SpecialD\": 82, \"Speed\": 39, \"Generation\": 4}, {\"#\": 425, \"Name\": \"Drifloon\", \"Type 1\": \"Ghost\", \"Type 2\": \"Flying\", \"Total\": 348, \"HP\": 90, \"Attack\": 50, \"Defense\": 34, \"SpecialA\": 60, \"SpecialD\": 44, \"Speed\": 70, \"Generation\": 4}, {\"#\": 426, \"Name\": \"Drifblim\", \"Type 1\": \"Ghost\", \"Type 2\": \"Flying\", \"Total\": 498, \"HP\": 150, \"Attack\": 80, \"Defense\": 44, \"SpecialA\": 90, \"SpecialD\": 54, \"Speed\": 80, \"Generation\": 4}, {\"#\": 428, \"Name\": \"LopunnyMega Lopunny\", \"Type 1\": \"Normal\", \"Type 2\": \"Fighting\", \"Total\": 580, \"HP\": 65, \"Attack\": 136, \"Defense\": 94, \"SpecialA\": 54, \"SpecialD\": 96, \"Speed\": 135, \"Generation\": 4}, {\"#\": 430, \"Name\": \"Honchkrow\", \"Type 1\": \"Dark\", \"Type 2\": \"Flying\", \"Total\": 505, \"HP\": 100, \"Attack\": 125, \"Defense\": 52, \"SpecialA\": 105, \"SpecialD\": 52, \"Speed\": 71, \"Generation\": 4}, {\"#\": 434, \"Name\": \"Stunky\", \"Type 1\": \"Poison\", \"Type 2\": \"Dark\", \"Total\": 329, \"HP\": 63, \"Attack\": 63, \"Defense\": 47, \"SpecialA\": 41, \"SpecialD\": 41, \"Speed\": 74, \"Generation\": 4}, {\"#\": 435, \"Name\": \"Skuntank\", \"Type 1\": \"Poison\", \"Type 2\": \"Dark\", \"Total\": 479, \"HP\": 103, \"Attack\": 93, \"Defense\": 67, \"SpecialA\": 71, \"SpecialD\": 61, \"Speed\": 84, \"Generation\": 4}, {\"#\": 436, \"Name\": \"Bronzor\", \"Type 1\": \"Steel\", \"Type 2\": \"Psychic\", \"Total\": 300, \"HP\": 57, \"Attack\": 24, \"Defense\": 86, \"SpecialA\": 24, \"SpecialD\": 86, \"Speed\": 23, \"Generation\": 4}, {\"#\": 437, \"Name\": \"Bronzong\", \"Type 1\": \"Steel\", \"Type 2\": \"Psychic\", \"Total\": 500, \"HP\": 67, \"Attack\": 89, \"Defense\": 116, \"SpecialA\": 79, \"SpecialD\": 116, \"Speed\": 33, \"Generation\": 4}, {\"#\": 439, \"Name\": \"Mime Jr.\", \"Type 1\": \"Psychic\", \"Type 2\": \"Fairy\", \"Total\": 310, \"HP\": 20, \"Attack\": 25, \"Defense\": 45, \"SpecialA\": 70, \"SpecialD\": 90, \"Speed\": 60, \"Generation\": 4}, {\"#\": 441, \"Name\": \"Chatot\", \"Type 1\": \"Normal\", \"Type 2\": \"Flying\", \"Total\": 411, \"HP\": 76, \"Attack\": 65, \"Defense\": 45, \"SpecialA\": 92, \"SpecialD\": 42, \"Speed\": 91, \"Generation\": 4}, {\"#\": 442, \"Name\": \"Spiritomb\", \"Type 1\": \"Ghost\", \"Type 2\": \"Dark\", \"Total\": 485, \"HP\": 50, \"Attack\": 92, \"Defense\": 108, \"SpecialA\": 92, \"SpecialD\": 108, \"Speed\": 35, \"Generation\": 4}, {\"#\": 443, \"Name\": \"Gible\", \"Type 1\": \"Dragon\", \"Type 2\": \"Ground\", \"Total\": 300, \"HP\": 58, \"Attack\": 70, \"Defense\": 45, \"SpecialA\": 40, \"SpecialD\": 45, \"Speed\": 42, \"Generation\": 4}, {\"#\": 444, \"Name\": \"Gabite\", \"Type 1\": \"Dragon\", \"Type 2\": \"Ground\", \"Total\": 410, \"HP\": 68, \"Attack\": 90, \"Defense\": 65, \"SpecialA\": 50, \"SpecialD\": 55, \"Speed\": 82, \"Generation\": 4}, {\"#\": 445, \"Name\": \"Garchomp\", \"Type 1\": \"Dragon\", \"Type 2\": \"Ground\", \"Total\": 600, \"HP\": 108, \"Attack\": 130, \"Defense\": 95, \"SpecialA\": 80, \"SpecialD\": 85, \"Speed\": 102, \"Generation\": 4}, {\"#\": 445, \"Name\": \"GarchompMega Garchomp\", \"Type 1\": \"Dragon\", \"Type 2\": \"Ground\", \"Total\": 700, \"HP\": 108, \"Attack\": 170, \"Defense\": 115, \"SpecialA\": 120, \"SpecialD\": 95, \"Speed\": 92, \"Generation\": 4}, {\"#\": 448, \"Name\": \"Lucario\", \"Type 1\": \"Fighting\", \"Type 2\": \"Steel\", \"Total\": 525, \"HP\": 70, \"Attack\": 110, \"Defense\": 70, \"SpecialA\": 115, \"SpecialD\": 70, \"Speed\": 90, \"Generation\": 4}, {\"#\": 448, \"Name\": \"LucarioMega Lucario\", \"Type 1\": \"Fighting\", \"Type 2\": \"Steel\", \"Total\": 625, \"HP\": 70, \"Attack\": 145, \"Defense\": 88, \"SpecialA\": 140, \"SpecialD\": 70, \"Speed\": 112, \"Generation\": 4}, {\"#\": 451, \"Name\": \"Skorupi\", \"Type 1\": \"Poison\", \"Type 2\": \"Bug\", \"Total\": 330, \"HP\": 40, \"Attack\": 50, \"Defense\": 90, \"SpecialA\": 30, \"SpecialD\": 55, \"Speed\": 65, \"Generation\": 4}, {\"#\": 452, \"Name\": \"Drapion\", \"Type 1\": \"Poison\", \"Type 2\": \"Dark\", \"Total\": 500, \"HP\": 70, \"Attack\": 90, \"Defense\": 110, \"SpecialA\": 60, \"SpecialD\": 75, \"Speed\": 95, \"Generation\": 4}, {\"#\": 453, \"Name\": \"Croagunk\", \"Type 1\": \"Poison\", \"Type 2\": \"Fighting\", \"Total\": 300, \"HP\": 48, \"Attack\": 61, \"Defense\": 40, \"SpecialA\": 61, \"SpecialD\": 40, \"Speed\": 50, \"Generation\": 4}, {\"#\": 454, \"Name\": \"Toxicroak\", \"Type 1\": \"Poison\", \"Type 2\": \"Fighting\", \"Total\": 490, \"HP\": 83, \"Attack\": 106, \"Defense\": 65, \"SpecialA\": 86, \"SpecialD\": 65, \"Speed\": 85, \"Generation\": 4}, {\"#\": 458, \"Name\": \"Mantyke\", \"Type 1\": \"Water\", \"Type 2\": \"Flying\", \"Total\": 345, \"HP\": 45, \"Attack\": 20, \"Defense\": 50, \"SpecialA\": 60, \"SpecialD\": 120, \"Speed\": 50, \"Generation\": 4}, {\"#\": 459, \"Name\": \"Snover\", \"Type 1\": \"Grass\", \"Type 2\": \"Ice\", \"Total\": 334, \"HP\": 60, \"Attack\": 62, \"Defense\": 50, \"SpecialA\": 62, \"SpecialD\": 60, \"Speed\": 40, \"Generation\": 4}, {\"#\": 460, \"Name\": \"Abomasnow\", \"Type 1\": \"Grass\", \"Type 2\": \"Ice\", \"Total\": 494, \"HP\": 90, \"Attack\": 92, \"Defense\": 75, \"SpecialA\": 92, \"SpecialD\": 85, \"Speed\": 60, \"Generation\": 4}, {\"#\": 460, \"Name\": \"AbomasnowMega Abomasnow\", \"Type 1\": \"Grass\", \"Type 2\": \"Ice\", \"Total\": 594, \"HP\": 90, \"Attack\": 132, \"Defense\": 105, \"SpecialA\": 132, \"SpecialD\": 105, \"Speed\": 30, \"Generation\": 4}, {\"#\": 461, \"Name\": \"Weavile\", \"Type 1\": \"Dark\", \"Type 2\": \"Ice\", \"Total\": 510, \"HP\": 70, \"Attack\": 120, \"Defense\": 65, \"SpecialA\": 45, \"SpecialD\": 85, \"Speed\": 125, \"Generation\": 4}, {\"#\": 462, \"Name\": \"Magnezone\", \"Type 1\": \"Electric\", \"Type 2\": \"Steel\", \"Total\": 535, \"HP\": 70, \"Attack\": 70, \"Defense\": 115, \"SpecialA\": 130, \"SpecialD\": 90, \"Speed\": 60, \"Generation\": 4}, {\"#\": 464, \"Name\": \"Rhyperior\", \"Type 1\": \"Ground\", \"Type 2\": \"Rock\", \"Total\": 535, \"HP\": 115, \"Attack\": 140, \"Defense\": 130, \"SpecialA\": 55, \"SpecialD\": 55, \"Speed\": 40, \"Generation\": 4}, {\"#\": 468, \"Name\": \"Togekiss\", \"Type 1\": \"Fairy\", \"Type 2\": \"Flying\", \"Total\": 545, \"HP\": 85, \"Attack\": 50, \"Defense\": 95, \"SpecialA\": 120, \"SpecialD\": 115, \"Speed\": 80, \"Generation\": 4}, {\"#\": 469, \"Name\": \"Yanmega\", \"Type 1\": \"Bug\", \"Type 2\": \"Flying\", \"Total\": 515, \"HP\": 86, \"Attack\": 76, \"Defense\": 86, \"SpecialA\": 116, \"SpecialD\": 56, \"Speed\": 95, \"Generation\": 4}, {\"#\": 472, \"Name\": \"Gliscor\", \"Type 1\": \"Ground\", \"Type 2\": \"Flying\", \"Total\": 510, \"HP\": 75, \"Attack\": 95, \"Defense\": 125, \"SpecialA\": 45, \"SpecialD\": 75, \"Speed\": 95, \"Generation\": 4}, {\"#\": 473, \"Name\": \"Mamoswine\", \"Type 1\": \"Ice\", \"Type 2\": \"Ground\", \"Total\": 530, \"HP\": 110, \"Attack\": 130, \"Defense\": 80, \"SpecialA\": 70, \"SpecialD\": 60, \"Speed\": 80, \"Generation\": 4}, {\"#\": 475, \"Name\": \"Gallade\", \"Type 1\": \"Psychic\", \"Type 2\": \"Fighting\", \"Total\": 518, \"HP\": 68, \"Attack\": 125, \"Defense\": 65, \"SpecialA\": 65, \"SpecialD\": 115, \"Speed\": 80, \"Generation\": 4}, {\"#\": 475, \"Name\": \"GalladeMega Gallade\", \"Type 1\": \"Psychic\", \"Type 2\": \"Fighting\", \"Total\": 618, \"HP\": 68, \"Attack\": 165, \"Defense\": 95, \"SpecialA\": 65, \"SpecialD\": 115, \"Speed\": 110, \"Generation\": 4}, {\"#\": 476, \"Name\": \"Probopass\", \"Type 1\": \"Rock\", \"Type 2\": \"Steel\", \"Total\": 525, \"HP\": 60, \"Attack\": 55, \"Defense\": 145, \"SpecialA\": 75, \"SpecialD\": 150, \"Speed\": 40, \"Generation\": 4}, {\"#\": 478, \"Name\": \"Froslass\", \"Type 1\": \"Ice\", \"Type 2\": \"Ghost\", \"Total\": 480, \"HP\": 70, \"Attack\": 80, \"Defense\": 70, \"SpecialA\": 80, \"SpecialD\": 70, \"Speed\": 110, \"Generation\": 4}, {\"#\": 479, \"Name\": \"Rotom\", \"Type 1\": \"Electric\", \"Type 2\": \"Ghost\", \"Total\": 440, \"HP\": 50, \"Attack\": 50, \"Defense\": 77, \"SpecialA\": 95, \"SpecialD\": 77, \"Speed\": 91, \"Generation\": 4}, {\"#\": 479, \"Name\": \"RotomHeat Rotom\", \"Type 1\": \"Electric\", \"Type 2\": \"Fire\", \"Total\": 520, \"HP\": 50, \"Attack\": 65, \"Defense\": 107, \"SpecialA\": 105, \"SpecialD\": 107, \"Speed\": 86, \"Generation\": 4}, {\"#\": 479, \"Name\": \"RotomWash Rotom\", \"Type 1\": \"Electric\", \"Type 2\": \"Water\", \"Total\": 520, \"HP\": 50, \"Attack\": 65, \"Defense\": 107, \"SpecialA\": 105, \"SpecialD\": 107, \"Speed\": 86, \"Generation\": 4}, {\"#\": 479, \"Name\": \"RotomFrost Rotom\", \"Type 1\": \"Electric\", \"Type 2\": \"Ice\", \"Total\": 520, \"HP\": 50, \"Attack\": 65, \"Defense\": 107, \"SpecialA\": 105, \"SpecialD\": 107, \"Speed\": 86, \"Generation\": 4}, {\"#\": 479, \"Name\": \"RotomFan Rotom\", \"Type 1\": \"Electric\", \"Type 2\": \"Flying\", \"Total\": 520, \"HP\": 50, \"Attack\": 65, \"Defense\": 107, \"SpecialA\": 105, \"SpecialD\": 107, \"Speed\": 86, \"Generation\": 4}, {\"#\": 479, \"Name\": \"RotomMow Rotom\", \"Type 1\": \"Electric\", \"Type 2\": \"Grass\", \"Total\": 520, \"HP\": 50, \"Attack\": 65, \"Defense\": 107, \"SpecialA\": 105, \"SpecialD\": 107, \"Speed\": 86, \"Generation\": 4}, {\"#\": 499, \"Name\": \"Pignite\", \"Type 1\": \"Fire\", \"Type 2\": \"Fighting\", \"Total\": 418, \"HP\": 90, \"Attack\": 93, \"Defense\": 55, \"SpecialA\": 70, \"SpecialD\": 55, \"Speed\": 55, \"Generation\": 5}, {\"#\": 500, \"Name\": \"Emboar\", \"Type 1\": \"Fire\", \"Type 2\": \"Fighting\", \"Total\": 528, \"HP\": 110, \"Attack\": 123, \"Defense\": 65, \"SpecialA\": 100, \"SpecialD\": 65, \"Speed\": 65, \"Generation\": 5}, {\"#\": 519, \"Name\": \"Pidove\", \"Type 1\": \"Normal\", \"Type 2\": \"Flying\", \"Total\": 264, \"HP\": 50, \"Attack\": 55, \"Defense\": 50, \"SpecialA\": 36, \"SpecialD\": 30, \"Speed\": 43, \"Generation\": 5}, {\"#\": 520, \"Name\": \"Tranquill\", \"Type 1\": \"Normal\", \"Type 2\": \"Flying\", \"Total\": 358, \"HP\": 62, \"Attack\": 77, \"Defense\": 62, \"SpecialA\": 50, \"SpecialD\": 42, \"Speed\": 65, \"Generation\": 5}, {\"#\": 521, \"Name\": \"Unfezant\", \"Type 1\": \"Normal\", \"Type 2\": \"Flying\", \"Total\": 488, \"HP\": 80, \"Attack\": 115, \"Defense\": 80, \"SpecialA\": 65, \"SpecialD\": 55, \"Speed\": 93, \"Generation\": 5}, {\"#\": 527, \"Name\": \"Woobat\", \"Type 1\": \"Psychic\", \"Type 2\": \"Flying\", \"Total\": 313, \"HP\": 55, \"Attack\": 45, \"Defense\": 43, \"SpecialA\": 55, \"SpecialD\": 43, \"Speed\": 72, \"Generation\": 5}, {\"#\": 528, \"Name\": \"Swoobat\", \"Type 1\": \"Psychic\", \"Type 2\": \"Flying\", \"Total\": 425, \"HP\": 67, \"Attack\": 57, \"Defense\": 55, \"SpecialA\": 77, \"SpecialD\": 55, \"Speed\": 114, \"Generation\": 5}, {\"#\": 530, \"Name\": \"Excadrill\", \"Type 1\": \"Ground\", \"Type 2\": \"Steel\", \"Total\": 508, \"HP\": 110, \"Attack\": 135, \"Defense\": 60, \"SpecialA\": 50, \"SpecialD\": 65, \"Speed\": 88, \"Generation\": 5}, {\"#\": 531, \"Name\": \"AudinoMega Audino\", \"Type 1\": \"Normal\", \"Type 2\": \"Fairy\", \"Total\": 545, \"HP\": 103, \"Attack\": 60, \"Defense\": 126, \"SpecialA\": 80, \"SpecialD\": 126, \"Speed\": 50, \"Generation\": 5}, {\"#\": 536, \"Name\": \"Palpitoad\", \"Type 1\": \"Water\", \"Type 2\": \"Ground\", \"Total\": 384, \"HP\": 75, \"Attack\": 65, \"Defense\": 55, \"SpecialA\": 65, \"SpecialD\": 55, \"Speed\": 69, \"Generation\": 5}, {\"#\": 537, \"Name\": \"Seismitoad\", \"Type 1\": \"Water\", \"Type 2\": \"Ground\", \"Total\": 509, \"HP\": 105, \"Attack\": 95, \"Defense\": 75, \"SpecialA\": 85, \"SpecialD\": 75, \"Speed\": 74, \"Generation\": 5}, {\"#\": 540, \"Name\": \"Sewaddle\", \"Type 1\": \"Bug\", \"Type 2\": \"Grass\", \"Total\": 310, \"HP\": 45, \"Attack\": 53, \"Defense\": 70, \"SpecialA\": 40, \"SpecialD\": 60, \"Speed\": 42, \"Generation\": 5}, {\"#\": 541, \"Name\": \"Swadloon\", \"Type 1\": \"Bug\", \"Type 2\": \"Grass\", \"Total\": 380, \"HP\": 55, \"Attack\": 63, \"Defense\": 90, \"SpecialA\": 50, \"SpecialD\": 80, \"Speed\": 42, \"Generation\": 5}, {\"#\": 542, \"Name\": \"Leavanny\", \"Type 1\": \"Bug\", \"Type 2\": \"Grass\", \"Total\": 500, \"HP\": 75, \"Attack\": 103, \"Defense\": 80, \"SpecialA\": 70, \"SpecialD\": 80, \"Speed\": 92, \"Generation\": 5}, {\"#\": 543, \"Name\": \"Venipede\", \"Type 1\": \"Bug\", \"Type 2\": \"Poison\", \"Total\": 260, \"HP\": 30, \"Attack\": 45, \"Defense\": 59, \"SpecialA\": 30, \"SpecialD\": 39, \"Speed\": 57, \"Generation\": 5}, {\"#\": 544, \"Name\": \"Whirlipede\", \"Type 1\": \"Bug\", \"Type 2\": \"Poison\", \"Total\": 360, \"HP\": 40, \"Attack\": 55, \"Defense\": 99, \"SpecialA\": 40, \"SpecialD\": 79, \"Speed\": 47, \"Generation\": 5}, {\"#\": 545, \"Name\": \"Scolipede\", \"Type 1\": \"Bug\", \"Type 2\": \"Poison\", \"Total\": 485, \"HP\": 60, \"Attack\": 100, \"Defense\": 89, \"SpecialA\": 55, \"SpecialD\": 69, \"Speed\": 112, \"Generation\": 5}, {\"#\": 546, \"Name\": \"Cottonee\", \"Type 1\": \"Grass\", \"Type 2\": \"Fairy\", \"Total\": 280, \"HP\": 40, \"Attack\": 27, \"Defense\": 60, \"SpecialA\": 37, \"SpecialD\": 50, \"Speed\": 66, \"Generation\": 5}, {\"#\": 547, \"Name\": \"Whimsicott\", \"Type 1\": \"Grass\", \"Type 2\": \"Fairy\", \"Total\": 480, \"HP\": 60, \"Attack\": 67, \"Defense\": 85, \"SpecialA\": 77, \"SpecialD\": 75, \"Speed\": 116, \"Generation\": 5}, {\"#\": 551, \"Name\": \"Sandile\", \"Type 1\": \"Ground\", \"Type 2\": \"Dark\", \"Total\": 292, \"HP\": 50, \"Attack\": 72, \"Defense\": 35, \"SpecialA\": 35, \"SpecialD\": 35, \"Speed\": 65, \"Generation\": 5}, {\"#\": 552, \"Name\": \"Krokorok\", \"Type 1\": \"Ground\", \"Type 2\": \"Dark\", \"Total\": 351, \"HP\": 60, \"Attack\": 82, \"Defense\": 45, \"SpecialA\": 45, \"SpecialD\": 45, \"Speed\": 74, \"Generation\": 5}, {\"#\": 553, \"Name\": \"Krookodile\", \"Type 1\": \"Ground\", \"Type 2\": \"Dark\", \"Total\": 519, \"HP\": 95, \"Attack\": 117, \"Defense\": 80, \"SpecialA\": 65, \"SpecialD\": 70, \"Speed\": 92, \"Generation\": 5}, {\"#\": 555, \"Name\": \"DarmanitanZen Mode\", \"Type 1\": \"Fire\", \"Type 2\": \"Psychic\", \"Total\": 540, \"HP\": 105, \"Attack\": 30, \"Defense\": 105, \"SpecialA\": 140, \"SpecialD\": 105, \"Speed\": 55, \"Generation\": 5}, {\"#\": 557, \"Name\": \"Dwebble\", \"Type 1\": \"Bug\", \"Type 2\": \"Rock\", \"Total\": 325, \"HP\": 50, \"Attack\": 65, \"Defense\": 85, \"SpecialA\": 35, \"SpecialD\": 35, \"Speed\": 55, \"Generation\": 5}, {\"#\": 558, \"Name\": \"Crustle\", \"Type 1\": \"Bug\", \"Type 2\": \"Rock\", \"Total\": 475, \"HP\": 70, \"Attack\": 95, \"Defense\": 125, \"SpecialA\": 65, \"SpecialD\": 75, \"Speed\": 45, \"Generation\": 5}, {\"#\": 559, \"Name\": \"Scraggy\", \"Type 1\": \"Dark\", \"Type 2\": \"Fighting\", \"Total\": 348, \"HP\": 50, \"Attack\": 75, \"Defense\": 70, \"SpecialA\": 35, \"SpecialD\": 70, \"Speed\": 48, \"Generation\": 5}, {\"#\": 560, \"Name\": \"Scrafty\", \"Type 1\": \"Dark\", \"Type 2\": \"Fighting\", \"Total\": 488, \"HP\": 65, \"Attack\": 90, \"Defense\": 115, \"SpecialA\": 45, \"SpecialD\": 115, \"Speed\": 58, \"Generation\": 5}, {\"#\": 561, \"Name\": \"Sigilyph\", \"Type 1\": \"Psychic\", \"Type 2\": \"Flying\", \"Total\": 490, \"HP\": 72, \"Attack\": 58, \"Defense\": 80, \"SpecialA\": 103, \"SpecialD\": 80, \"Speed\": 97, \"Generation\": 5}, {\"#\": 564, \"Name\": \"Tirtouga\", \"Type 1\": \"Water\", \"Type 2\": \"Rock\", \"Total\": 355, \"HP\": 54, \"Attack\": 78, \"Defense\": 103, \"SpecialA\": 53, \"SpecialD\": 45, \"Speed\": 22, \"Generation\": 5}, {\"#\": 565, \"Name\": \"Carracosta\", \"Type 1\": \"Water\", \"Type 2\": \"Rock\", \"Total\": 495, \"HP\": 74, \"Attack\": 108, \"Defense\": 133, \"SpecialA\": 83, \"SpecialD\": 65, \"Speed\": 32, \"Generation\": 5}, {\"#\": 566, \"Name\": \"Archen\", \"Type 1\": \"Rock\", \"Type 2\": \"Flying\", \"Total\": 401, \"HP\": 55, \"Attack\": 112, \"Defense\": 45, \"SpecialA\": 74, \"SpecialD\": 45, \"Speed\": 70, \"Generation\": 5}, {\"#\": 567, \"Name\": \"Archeops\", \"Type 1\": \"Rock\", \"Type 2\": \"Flying\", \"Total\": 567, \"HP\": 75, \"Attack\": 140, \"Defense\": 65, \"SpecialA\": 112, \"SpecialD\": 65, \"Speed\": 110, \"Generation\": 5}, {\"#\": 580, \"Name\": \"Ducklett\", \"Type 1\": \"Water\", \"Type 2\": \"Flying\", \"Total\": 305, \"HP\": 62, \"Attack\": 44, \"Defense\": 50, \"SpecialA\": 44, \"SpecialD\": 50, \"Speed\": 55, \"Generation\": 5}, {\"#\": 581, \"Name\": \"Swanna\", \"Type 1\": \"Water\", \"Type 2\": \"Flying\", \"Total\": 473, \"HP\": 75, \"Attack\": 87, \"Defense\": 63, \"SpecialA\": 87, \"SpecialD\": 63, \"Speed\": 98, \"Generation\": 5}, {\"#\": 585, \"Name\": \"Deerling\", \"Type 1\": \"Normal\", \"Type 2\": \"Grass\", \"Total\": 335, \"HP\": 60, \"Attack\": 60, \"Defense\": 50, \"SpecialA\": 40, \"SpecialD\": 50, \"Speed\": 75, \"Generation\": 5}, {\"#\": 586, \"Name\": \"Sawsbuck\", \"Type 1\": \"Normal\", \"Type 2\": \"Grass\", \"Total\": 475, \"HP\": 80, \"Attack\": 100, \"Defense\": 70, \"SpecialA\": 60, \"SpecialD\": 70, \"Speed\": 95, \"Generation\": 5}, {\"#\": 587, \"Name\": \"Emolga\", \"Type 1\": \"Electric\", \"Type 2\": \"Flying\", \"Total\": 428, \"HP\": 55, \"Attack\": 75, \"Defense\": 60, \"SpecialA\": 75, \"SpecialD\": 60, \"Speed\": 103, \"Generation\": 5}, {\"#\": 589, \"Name\": \"Escavalier\", \"Type 1\": \"Bug\", \"Type 2\": \"Steel\", \"Total\": 495, \"HP\": 70, \"Attack\": 135, \"Defense\": 105, \"SpecialA\": 60, \"SpecialD\": 105, \"Speed\": 20, \"Generation\": 5}, {\"#\": 590, \"Name\": \"Foongus\", \"Type 1\": \"Grass\", \"Type 2\": \"Poison\", \"Total\": 294, \"HP\": 69, \"Attack\": 55, \"Defense\": 45, \"SpecialA\": 55, \"SpecialD\": 55, \"Speed\": 15, \"Generation\": 5}, {\"#\": 591, \"Name\": \"Amoonguss\", \"Type 1\": \"Grass\", \"Type 2\": \"Poison\", \"Total\": 464, \"HP\": 114, \"Attack\": 85, \"Defense\": 70, \"SpecialA\": 85, \"SpecialD\": 80, \"Speed\": 30, \"Generation\": 5}, {\"#\": 592, \"Name\": \"Frillish\", \"Type 1\": \"Water\", \"Type 2\": \"Ghost\", \"Total\": 335, \"HP\": 55, \"Attack\": 40, \"Defense\": 50, \"SpecialA\": 65, \"SpecialD\": 85, \"Speed\": 40, \"Generation\": 5}, {\"#\": 593, \"Name\": \"Jellicent\", \"Type 1\": \"Water\", \"Type 2\": \"Ghost\", \"Total\": 480, \"HP\": 100, \"Attack\": 60, \"Defense\": 70, \"SpecialA\": 85, \"SpecialD\": 105, \"Speed\": 60, \"Generation\": 5}, {\"#\": 595, \"Name\": \"Joltik\", \"Type 1\": \"Bug\", \"Type 2\": \"Electric\", \"Total\": 319, \"HP\": 50, \"Attack\": 47, \"Defense\": 50, \"SpecialA\": 57, \"SpecialD\": 50, \"Speed\": 65, \"Generation\": 5}, {\"#\": 596, \"Name\": \"Galvantula\", \"Type 1\": \"Bug\", \"Type 2\": \"Electric\", \"Total\": 472, \"HP\": 70, \"Attack\": 77, \"Defense\": 60, \"SpecialA\": 97, \"SpecialD\": 60, \"Speed\": 108, \"Generation\": 5}, {\"#\": 597, \"Name\": \"Ferroseed\", \"Type 1\": \"Grass\", \"Type 2\": \"Steel\", \"Total\": 305, \"HP\": 44, \"Attack\": 50, \"Defense\": 91, \"SpecialA\": 24, \"SpecialD\": 86, \"Speed\": 10, \"Generation\": 5}, {\"#\": 598, \"Name\": \"Ferrothorn\", \"Type 1\": \"Grass\", \"Type 2\": \"Steel\", \"Total\": 489, \"HP\": 74, \"Attack\": 94, \"Defense\": 131, \"SpecialA\": 54, \"SpecialD\": 116, \"Speed\": 20, \"Generation\": 5}, {\"#\": 607, \"Name\": \"Litwick\", \"Type 1\": \"Ghost\", \"Type 2\": \"Fire\", \"Total\": 275, \"HP\": 50, \"Attack\": 30, \"Defense\": 55, \"SpecialA\": 65, \"SpecialD\": 55, \"Speed\": 20, \"Generation\": 5}, {\"#\": 608, \"Name\": \"Lampent\", \"Type 1\": \"Ghost\", \"Type 2\": \"Fire\", \"Total\": 370, \"HP\": 60, \"Attack\": 40, \"Defense\": 60, \"SpecialA\": 95, \"SpecialD\": 60, \"Speed\": 55, \"Generation\": 5}, {\"#\": 609, \"Name\": \"Chandelure\", \"Type 1\": \"Ghost\", \"Type 2\": \"Fire\", \"Total\": 520, \"HP\": 60, \"Attack\": 55, \"Defense\": 90, \"SpecialA\": 145, \"SpecialD\": 90, \"Speed\": 80, \"Generation\": 5}, {\"#\": 618, \"Name\": \"Stunfisk\", \"Type 1\": \"Ground\", \"Type 2\": \"Electric\", \"Total\": 471, \"HP\": 109, \"Attack\": 66, \"Defense\": 84, \"SpecialA\": 81, \"SpecialD\": 99, \"Speed\": 32, \"Generation\": 5}, {\"#\": 622, \"Name\": \"Golett\", \"Type 1\": \"Ground\", \"Type 2\": \"Ghost\", \"Total\": 303, \"HP\": 59, \"Attack\": 74, \"Defense\": 50, \"SpecialA\": 35, \"SpecialD\": 50, \"Speed\": 35, \"Generation\": 5}, {\"#\": 623, \"Name\": \"Golurk\", \"Type 1\": \"Ground\", \"Type 2\": \"Ghost\", \"Total\": 483, \"HP\": 89, \"Attack\": 124, \"Defense\": 80, \"SpecialA\": 55, \"SpecialD\": 80, \"Speed\": 55, \"Generation\": 5}, {\"#\": 624, \"Name\": \"Pawniard\", \"Type 1\": \"Dark\", \"Type 2\": \"Steel\", \"Total\": 340, \"HP\": 45, \"Attack\": 85, \"Defense\": 70, \"SpecialA\": 40, \"SpecialD\": 40, \"Speed\": 60, \"Generation\": 5}, {\"#\": 625, \"Name\": \"Bisharp\", \"Type 1\": \"Dark\", \"Type 2\": \"Steel\", \"Total\": 490, \"HP\": 65, \"Attack\": 125, \"Defense\": 100, \"SpecialA\": 60, \"SpecialD\": 70, \"Speed\": 70, \"Generation\": 5}, {\"#\": 627, \"Name\": \"Rufflet\", \"Type 1\": \"Normal\", \"Type 2\": \"Flying\", \"Total\": 350, \"HP\": 70, \"Attack\": 83, \"Defense\": 50, \"SpecialA\": 37, \"SpecialD\": 50, \"Speed\": 60, \"Generation\": 5}, {\"#\": 628, \"Name\": \"Braviary\", \"Type 1\": \"Normal\", \"Type 2\": \"Flying\", \"Total\": 510, \"HP\": 100, \"Attack\": 123, \"Defense\": 75, \"SpecialA\": 57, \"SpecialD\": 75, \"Speed\": 80, \"Generation\": 5}, {\"#\": 629, \"Name\": \"Vullaby\", \"Type 1\": \"Dark\", \"Type 2\": \"Flying\", \"Total\": 370, \"HP\": 70, \"Attack\": 55, \"Defense\": 75, \"SpecialA\": 45, \"SpecialD\": 65, \"Speed\": 60, \"Generation\": 5}, {\"#\": 630, \"Name\": \"Mandibuzz\", \"Type 1\": \"Dark\", \"Type 2\": \"Flying\", \"Total\": 510, \"HP\": 110, \"Attack\": 65, \"Defense\": 105, \"SpecialA\": 55, \"SpecialD\": 95, \"Speed\": 80, \"Generation\": 5}, {\"#\": 632, \"Name\": \"Durant\", \"Type 1\": \"Bug\", \"Type 2\": \"Steel\", \"Total\": 484, \"HP\": 58, \"Attack\": 109, \"Defense\": 112, \"SpecialA\": 48, \"SpecialD\": 48, \"Speed\": 109, \"Generation\": 5}, {\"#\": 633, \"Name\": \"Deino\", \"Type 1\": \"Dark\", \"Type 2\": \"Dragon\", \"Total\": 300, \"HP\": 52, \"Attack\": 65, \"Defense\": 50, \"SpecialA\": 45, \"SpecialD\": 50, \"Speed\": 38, \"Generation\": 5}, {\"#\": 634, \"Name\": \"Zweilous\", \"Type 1\": \"Dark\", \"Type 2\": \"Dragon\", \"Total\": 420, \"HP\": 72, \"Attack\": 85, \"Defense\": 70, \"SpecialA\": 65, \"SpecialD\": 70, \"Speed\": 58, \"Generation\": 5}, {\"#\": 635, \"Name\": \"Hydreigon\", \"Type 1\": \"Dark\", \"Type 2\": \"Dragon\", \"Total\": 600, \"HP\": 92, \"Attack\": 105, \"Defense\": 90, \"SpecialA\": 125, \"SpecialD\": 90, \"Speed\": 98, \"Generation\": 5}, {\"#\": 636, \"Name\": \"Larvesta\", \"Type 1\": \"Bug\", \"Type 2\": \"Fire\", \"Total\": 360, \"HP\": 55, \"Attack\": 85, \"Defense\": 55, \"SpecialA\": 50, \"SpecialD\": 55, \"Speed\": 60, \"Generation\": 5}, {\"#\": 637, \"Name\": \"Volcarona\", \"Type 1\": \"Bug\", \"Type 2\": \"Fire\", \"Total\": 550, \"HP\": 85, \"Attack\": 60, \"Defense\": 65, \"SpecialA\": 135, \"SpecialD\": 105, \"Speed\": 100, \"Generation\": 5}, {\"#\": 647, \"Name\": \"KeldeoOrdinary Forme\", \"Type 1\": \"Water\", \"Type 2\": \"Fighting\", \"Total\": 580, \"HP\": 91, \"Attack\": 72, \"Defense\": 90, \"SpecialA\": 129, \"SpecialD\": 90, \"Speed\": 108, \"Generation\": 5}, {\"#\": 647, \"Name\": \"KeldeoResolute Forme\", \"Type 1\": \"Water\", \"Type 2\": \"Fighting\", \"Total\": 580, \"HP\": 91, \"Attack\": 72, \"Defense\": 90, \"SpecialA\": 129, \"SpecialD\": 90, \"Speed\": 108, \"Generation\": 5}, {\"#\": 648, \"Name\": \"MeloettaAria Forme\", \"Type 1\": \"Normal\", \"Type 2\": \"Psychic\", \"Total\": 600, \"HP\": 100, \"Attack\": 77, \"Defense\": 77, \"SpecialA\": 128, \"SpecialD\": 128, \"Speed\": 90, \"Generation\": 5}, {\"#\": 648, \"Name\": \"MeloettaPirouette Forme\", \"Type 1\": \"Normal\", \"Type 2\": \"Fighting\", \"Total\": 600, \"HP\": 100, \"Attack\": 128, \"Defense\": 90, \"SpecialA\": 77, \"SpecialD\": 77, \"Speed\": 128, \"Generation\": 5}, {\"#\": 649, \"Name\": \"Genesect\", \"Type 1\": \"Bug\", \"Type 2\": \"Steel\", \"Total\": 600, \"HP\": 71, \"Attack\": 120, \"Defense\": 95, \"SpecialA\": 120, \"SpecialD\": 95, \"Speed\": 99, \"Generation\": 5}, {\"#\": 652, \"Name\": \"Chesnaught\", \"Type 1\": \"Grass\", \"Type 2\": \"Fighting\", \"Total\": 530, \"HP\": 88, \"Attack\": 107, \"Defense\": 122, \"SpecialA\": 74, \"SpecialD\": 75, \"Speed\": 64, \"Generation\": 6}, {\"#\": 655, \"Name\": \"Delphox\", \"Type 1\": \"Fire\", \"Type 2\": \"Psychic\", \"Total\": 534, \"HP\": 75, \"Attack\": 69, \"Defense\": 72, \"SpecialA\": 114, \"SpecialD\": 100, \"Speed\": 104, \"Generation\": 6}, {\"#\": 658, \"Name\": \"Greninja\", \"Type 1\": \"Water\", \"Type 2\": \"Dark\", \"Total\": 530, \"HP\": 72, \"Attack\": 95, \"Defense\": 67, \"SpecialA\": 103, \"SpecialD\": 71, \"Speed\": 122, \"Generation\": 6}, {\"#\": 660, \"Name\": \"Diggersby\", \"Type 1\": \"Normal\", \"Type 2\": \"Ground\", \"Total\": 423, \"HP\": 85, \"Attack\": 56, \"Defense\": 77, \"SpecialA\": 50, \"SpecialD\": 77, \"Speed\": 78, \"Generation\": 6}, {\"#\": 661, \"Name\": \"Fletchling\", \"Type 1\": \"Normal\", \"Type 2\": \"Flying\", \"Total\": 278, \"HP\": 45, \"Attack\": 50, \"Defense\": 43, \"SpecialA\": 40, \"SpecialD\": 38, \"Speed\": 62, \"Generation\": 6}, {\"#\": 662, \"Name\": \"Fletchinder\", \"Type 1\": \"Fire\", \"Type 2\": \"Flying\", \"Total\": 382, \"HP\": 62, \"Attack\": 73, \"Defense\": 55, \"SpecialA\": 56, \"SpecialD\": 52, \"Speed\": 84, \"Generation\": 6}, {\"#\": 663, \"Name\": \"Talonflame\", \"Type 1\": \"Fire\", \"Type 2\": \"Flying\", \"Total\": 499, \"HP\": 78, \"Attack\": 81, \"Defense\": 71, \"SpecialA\": 74, \"SpecialD\": 69, \"Speed\": 126, \"Generation\": 6}, {\"#\": 666, \"Name\": \"Vivillon\", \"Type 1\": \"Bug\", \"Type 2\": \"Flying\", \"Total\": 411, \"HP\": 80, \"Attack\": 52, \"Defense\": 50, \"SpecialA\": 90, \"SpecialD\": 50, \"Speed\": 89, \"Generation\": 6}, {\"#\": 667, \"Name\": \"Litleo\", \"Type 1\": \"Fire\", \"Type 2\": \"Normal\", \"Total\": 369, \"HP\": 62, \"Attack\": 50, \"Defense\": 58, \"SpecialA\": 73, \"SpecialD\": 54, \"Speed\": 72, \"Generation\": 6}, {\"#\": 668, \"Name\": \"Pyroar\", \"Type 1\": \"Fire\", \"Type 2\": \"Normal\", \"Total\": 507, \"HP\": 86, \"Attack\": 68, \"Defense\": 72, \"SpecialA\": 109, \"SpecialD\": 66, \"Speed\": 106, \"Generation\": 6}, {\"#\": 675, \"Name\": \"Pangoro\", \"Type 1\": \"Fighting\", \"Type 2\": \"Dark\", \"Total\": 495, \"HP\": 95, \"Attack\": 124, \"Defense\": 78, \"SpecialA\": 69, \"SpecialD\": 71, \"Speed\": 58, \"Generation\": 6}, {\"#\": 679, \"Name\": \"Honedge\", \"Type 1\": \"Steel\", \"Type 2\": \"Ghost\", \"Total\": 325, \"HP\": 45, \"Attack\": 80, \"Defense\": 100, \"SpecialA\": 35, \"SpecialD\": 37, \"Speed\": 28, \"Generation\": 6}, {\"#\": 680, \"Name\": \"Doublade\", \"Type 1\": \"Steel\", \"Type 2\": \"Ghost\", \"Total\": 448, \"HP\": 59, \"Attack\": 110, \"Defense\": 150, \"SpecialA\": 45, \"SpecialD\": 49, \"Speed\": 35, \"Generation\": 6}, {\"#\": 681, \"Name\": \"AegislashBlade Forme\", \"Type 1\": \"Steel\", \"Type 2\": \"Ghost\", \"Total\": 520, \"HP\": 60, \"Attack\": 150, \"Defense\": 50, \"SpecialA\": 150, \"SpecialD\": 50, \"Speed\": 60, \"Generation\": 6}, {\"#\": 681, \"Name\": \"AegislashShield Forme\", \"Type 1\": \"Steel\", \"Type 2\": \"Ghost\", \"Total\": 520, \"HP\": 60, \"Attack\": 50, \"Defense\": 150, \"SpecialA\": 50, \"SpecialD\": 150, \"Speed\": 60, \"Generation\": 6}, {\"#\": 686, \"Name\": \"Inkay\", \"Type 1\": \"Dark\", \"Type 2\": \"Psychic\", \"Total\": 288, \"HP\": 53, \"Attack\": 54, \"Defense\": 53, \"SpecialA\": 37, \"SpecialD\": 46, \"Speed\": 45, \"Generation\": 6}, {\"#\": 687, \"Name\": \"Malamar\", \"Type 1\": \"Dark\", \"Type 2\": \"Psychic\", \"Total\": 482, \"HP\": 86, \"Attack\": 92, \"Defense\": 88, \"SpecialA\": 68, \"SpecialD\": 75, \"Speed\": 73, \"Generation\": 6}, {\"#\": 688, \"Name\": \"Binacle\", \"Type 1\": \"Rock\", \"Type 2\": \"Water\", \"Total\": 306, \"HP\": 42, \"Attack\": 52, \"Defense\": 67, \"SpecialA\": 39, \"SpecialD\": 56, \"Speed\": 50, \"Generation\": 6}, {\"#\": 689, \"Name\": \"Barbaracle\", \"Type 1\": \"Rock\", \"Type 2\": \"Water\", \"Total\": 500, \"HP\": 72, \"Attack\": 105, \"Defense\": 115, \"SpecialA\": 54, \"SpecialD\": 86, \"Speed\": 68, \"Generation\": 6}, {\"#\": 690, \"Name\": \"Skrelp\", \"Type 1\": \"Poison\", \"Type 2\": \"Water\", \"Total\": 320, \"HP\": 50, \"Attack\": 60, \"Defense\": 60, \"SpecialA\": 60, \"SpecialD\": 60, \"Speed\": 30, \"Generation\": 6}, {\"#\": 691, \"Name\": \"Dragalge\", \"Type 1\": \"Poison\", \"Type 2\": \"Dragon\", \"Total\": 494, \"HP\": 65, \"Attack\": 75, \"Defense\": 90, \"SpecialA\": 97, \"SpecialD\": 123, \"Speed\": 44, \"Generation\": 6}, {\"#\": 694, \"Name\": \"Helioptile\", \"Type 1\": \"Electric\", \"Type 2\": \"Normal\", \"Total\": 289, \"HP\": 44, \"Attack\": 38, \"Defense\": 33, \"SpecialA\": 61, \"SpecialD\": 43, \"Speed\": 70, \"Generation\": 6}, {\"#\": 695, \"Name\": \"Heliolisk\", \"Type 1\": \"Electric\", \"Type 2\": \"Normal\", \"Total\": 481, \"HP\": 62, \"Attack\": 55, \"Defense\": 52, \"SpecialA\": 109, \"SpecialD\": 94, \"Speed\": 109, \"Generation\": 6}, {\"#\": 696, \"Name\": \"Tyrunt\", \"Type 1\": \"Rock\", \"Type 2\": \"Dragon\", \"Total\": 362, \"HP\": 58, \"Attack\": 89, \"Defense\": 77, \"SpecialA\": 45, \"SpecialD\": 45, \"Speed\": 48, \"Generation\": 6}, {\"#\": 697, \"Name\": \"Tyrantrum\", \"Type 1\": \"Rock\", \"Type 2\": \"Dragon\", \"Total\": 521, \"HP\": 82, \"Attack\": 121, \"Defense\": 119, \"SpecialA\": 69, \"SpecialD\": 59, \"Speed\": 71, \"Generation\": 6}, {\"#\": 698, \"Name\": \"Amaura\", \"Type 1\": \"Rock\", \"Type 2\": \"Ice\", \"Total\": 362, \"HP\": 77, \"Attack\": 59, \"Defense\": 50, \"SpecialA\": 67, \"SpecialD\": 63, \"Speed\": 46, \"Generation\": 6}, {\"#\": 699, \"Name\": \"Aurorus\", \"Type 1\": \"Rock\", \"Type 2\": \"Ice\", \"Total\": 521, \"HP\": 123, \"Attack\": 77, \"Defense\": 72, \"SpecialA\": 99, \"SpecialD\": 92, \"Speed\": 58, \"Generation\": 6}, {\"#\": 701, \"Name\": \"Hawlucha\", \"Type 1\": \"Fighting\", \"Type 2\": \"Flying\", \"Total\": 500, \"HP\": 78, \"Attack\": 92, \"Defense\": 75, \"SpecialA\": 74, \"SpecialD\": 63, \"Speed\": 118, \"Generation\": 6}, {\"#\": 702, \"Name\": \"Dedenne\", \"Type 1\": \"Electric\", \"Type 2\": \"Fairy\", \"Total\": 431, \"HP\": 67, \"Attack\": 58, \"Defense\": 57, \"SpecialA\": 81, \"SpecialD\": 67, \"Speed\": 101, \"Generation\": 6}, {\"#\": 703, \"Name\": \"Carbink\", \"Type 1\": \"Rock\", \"Type 2\": \"Fairy\", \"Total\": 500, \"HP\": 50, \"Attack\": 50, \"Defense\": 150, \"SpecialA\": 50, \"SpecialD\": 150, \"Speed\": 50, \"Generation\": 6}, {\"#\": 707, \"Name\": \"Klefki\", \"Type 1\": \"Steel\", \"Type 2\": \"Fairy\", \"Total\": 470, \"HP\": 57, \"Attack\": 80, \"Defense\": 91, \"SpecialA\": 80, \"SpecialD\": 87, \"Speed\": 75, \"Generation\": 6}, {\"#\": 708, \"Name\": \"Phantump\", \"Type 1\": \"Ghost\", \"Type 2\": \"Grass\", \"Total\": 309, \"HP\": 43, \"Attack\": 70, \"Defense\": 48, \"SpecialA\": 50, \"SpecialD\": 60, \"Speed\": 38, \"Generation\": 6}, {\"#\": 709, \"Name\": \"Trevenant\", \"Type 1\": \"Ghost\", \"Type 2\": \"Grass\", \"Total\": 474, \"HP\": 85, \"Attack\": 110, \"Defense\": 76, \"SpecialA\": 65, \"SpecialD\": 82, \"Speed\": 56, \"Generation\": 6}, {\"#\": 710, \"Name\": \"PumpkabooAverage Size\", \"Type 1\": \"Ghost\", \"Type 2\": \"Grass\", \"Total\": 335, \"HP\": 49, \"Attack\": 66, \"Defense\": 70, \"SpecialA\": 44, \"SpecialD\": 55, \"Speed\": 51, \"Generation\": 6}, {\"#\": 710, \"Name\": \"PumpkabooSmall Size\", \"Type 1\": \"Ghost\", \"Type 2\": \"Grass\", \"Total\": 335, \"HP\": 44, \"Attack\": 66, \"Defense\": 70, \"SpecialA\": 44, \"SpecialD\": 55, \"Speed\": 56, \"Generation\": 6}, {\"#\": 710, \"Name\": \"PumpkabooLarge Size\", \"Type 1\": \"Ghost\", \"Type 2\": \"Grass\", \"Total\": 335, \"HP\": 54, \"Attack\": 66, \"Defense\": 70, \"SpecialA\": 44, \"SpecialD\": 55, \"Speed\": 46, \"Generation\": 6}, {\"#\": 710, \"Name\": \"PumpkabooSuper Size\", \"Type 1\": \"Ghost\", \"Type 2\": \"Grass\", \"Total\": 335, \"HP\": 59, \"Attack\": 66, \"Defense\": 70, \"SpecialA\": 44, \"SpecialD\": 55, \"Speed\": 41, \"Generation\": 6}, {\"#\": 711, \"Name\": \"GourgeistAverage Size\", \"Type 1\": \"Ghost\", \"Type 2\": \"Grass\", \"Total\": 494, \"HP\": 65, \"Attack\": 90, \"Defense\": 122, \"SpecialA\": 58, \"SpecialD\": 75, \"Speed\": 84, \"Generation\": 6}, {\"#\": 711, \"Name\": \"GourgeistSmall Size\", \"Type 1\": \"Ghost\", \"Type 2\": \"Grass\", \"Total\": 494, \"HP\": 55, \"Attack\": 85, \"Defense\": 122, \"SpecialA\": 58, \"SpecialD\": 75, \"Speed\": 99, \"Generation\": 6}, {\"#\": 711, \"Name\": \"GourgeistLarge Size\", \"Type 1\": \"Ghost\", \"Type 2\": \"Grass\", \"Total\": 494, \"HP\": 75, \"Attack\": 95, \"Defense\": 122, \"SpecialA\": 58, \"SpecialD\": 75, \"Speed\": 69, \"Generation\": 6}, {\"#\": 711, \"Name\": \"GourgeistSuper Size\", \"Type 1\": \"Ghost\", \"Type 2\": \"Grass\", \"Total\": 494, \"HP\": 85, \"Attack\": 100, \"Defense\": 122, \"SpecialA\": 58, \"SpecialD\": 75, \"Speed\": 54, \"Generation\": 6}, {\"#\": 714, \"Name\": \"Noibat\", \"Type 1\": \"Flying\", \"Type 2\": \"Dragon\", \"Total\": 245, \"HP\": 40, \"Attack\": 30, \"Defense\": 35, \"SpecialA\": 45, \"SpecialD\": 40, \"Speed\": 55, \"Generation\": 6}, {\"#\": 715, \"Name\": \"Noivern\", \"Type 1\": \"Flying\", \"Type 2\": \"Dragon\", \"Total\": 535, \"HP\": 85, \"Attack\": 70, \"Defense\": 80, \"SpecialA\": 97, \"SpecialD\": 80, \"Speed\": 123, \"Generation\": 6}]}}, {\"mode\": \"vega-lite\"});\n",
       "</script>"
      ],
      "text/plain": [
       "alt.Chart(...)"
      ]
     },
     "execution_count": 11,
     "metadata": {},
     "output_type": "execute_result"
    }
   ],
   "source": [
    "alt.Chart(df).mark_bar(size=15).encode(\n",
    "    x=alt.X(\"Generation\"),\n",
    "    y=\"count()\",\n",
    "    color=\"Generation:N\"\n",
    ")"
   ]
  },
  {
   "cell_type": "code",
   "execution_count": 51,
   "metadata": {
    "cell_id": "2c98f1d76ba34286ad9f40c780951805",
    "deepnote_cell_type": "code",
    "deepnote_to_be_reexecuted": false,
    "execution_millis": 916,
    "execution_start": 1670317240685,
    "source_hash": "c70449db",
    "tags": []
   },
   "outputs": [
    {
     "data": {
      "image/png": "[encoded data removed]",
      "text/plain": [
       "<Figure size 600x400 with 2 Axes>"
      ]
     },
     "metadata": {
      "image/png": {
       "height": 414,
       "width": 548
      }
     },
     "output_type": "display_data"
    }
   ],
   "source": [
    "plt.figure(figsize=(6,4))\n",
    "corr=df.iloc[:,5:11].corr().round(3)\n",
    "sns.heatmap(corr,annot=True)\n",
    "sns.set(font_scale=1.0)\n",
    "sns.set_style(\"whitegrid\")"
   ]
  },
  {
   "cell_type": "code",
   "execution_count": 13,
   "metadata": {
    "cell_id": "c1487163bc894314acd4f6ef264fc2dd",
    "deepnote_cell_type": "code",
    "deepnote_to_be_reexecuted": false,
    "execution_millis": 24,
    "execution_start": 1670317134930,
    "source_hash": "5dc729cb",
    "tags": []
   },
   "outputs": [
    {
     "data": {
      "text/html": [
       "\n",
       "<div id=\"altair-viz-01be7bdea25a402b9bd032f0c6cce960\"></div>\n",
       "<script type=\"text/javascript\">\n",
       "  var VEGA_DEBUG = (typeof VEGA_DEBUG == \"undefined\") ? {} : VEGA_DEBUG;\n",
       "  (function(spec, embedOpt){\n",
       "    let outputDiv = document.currentScript.previousElementSibling;\n",
       "    if (outputDiv.id !== \"altair-viz-01be7bdea25a402b9bd032f0c6cce960\") {\n",
       "      outputDiv = document.getElementById(\"altair-viz-01be7bdea25a402b9bd032f0c6cce960\");\n",
       "    }\n",
       "    const paths = {\n",
       "      \"vega\": \"https://cdn.jsdelivr.net/npm//vega@5?noext\",\n",
       "      \"vega-lib\": \"https://cdn.jsdelivr.net/npm//vega-lib?noext\",\n",
       "      \"vega-lite\": \"https://cdn.jsdelivr.net/npm//vega-lite@4.17.0?noext\",\n",
       "      \"vega-embed\": \"https://cdn.jsdelivr.net/npm//vega-embed@6?noext\",\n",
       "    };\n",
       "\n",
       "    function maybeLoadScript(lib, version) {\n",
       "      var key = `${lib.replace(\"-\", \"\")}_version`;\n",
       "      return (VEGA_DEBUG[key] == version) ?\n",
       "        Promise.resolve(paths[lib]) :\n",
       "        new Promise(function(resolve, reject) {\n",
       "          var s = document.createElement('script');\n",
       "          document.getElementsByTagName(\"head\")[0].appendChild(s);\n",
       "          s.async = true;\n",
       "          s.onload = () => {\n",
       "            VEGA_DEBUG[key] = version;\n",
       "            return resolve(paths[lib]);\n",
       "          };\n",
       "          s.onerror = () => reject(`Error loading script: ${paths[lib]}`);\n",
       "          s.src = paths[lib];\n",
       "        });\n",
       "    }\n",
       "\n",
       "    function showError(err) {\n",
       "      outputDiv.innerHTML = `<div class=\"error\" style=\"color:red;\">${err}</div>`;\n",
       "      throw err;\n",
       "    }\n",
       "\n",
       "    function displayChart(vegaEmbed) {\n",
       "      vegaEmbed(outputDiv, spec, embedOpt)\n",
       "        .catch(err => showError(`Javascript Error: ${err.message}<br>This usually means there's a typo in your chart specification. See the javascript console for the full traceback.`));\n",
       "    }\n",
       "\n",
       "    if(typeof define === \"function\" && define.amd) {\n",
       "      requirejs.config({paths});\n",
       "      require([\"vega-embed\"], displayChart, err => showError(`Error loading script: ${err.message}`));\n",
       "    } else {\n",
       "      maybeLoadScript(\"vega\", \"5\")\n",
       "        .then(() => maybeLoadScript(\"vega-lite\", \"4.17.0\"))\n",
       "        .then(() => maybeLoadScript(\"vega-embed\", \"6\"))\n",
       "        .catch(showError)\n",
       "        .then(() => displayChart(vegaEmbed));\n",
       "    }\n",
       "  })({\"config\": {\"view\": {\"continuousWidth\": 400, \"continuousHeight\": 300}}, \"data\": {\"name\": \"data-8f8f5a820e13a98ac2edffa1fa08f1db\"}, \"mark\": \"circle\", \"encoding\": {\"color\": {\"field\": \"Generation\", \"type\": \"nominal\"}, \"tooltip\": [{\"field\": \"Name\", \"type\": \"nominal\"}, {\"field\": \"Attack\", \"type\": \"quantitative\"}, {\"field\": \"SpecialA\", \"type\": \"quantitative\"}], \"x\": {\"field\": \"SpecialA\", \"scale\": {\"domain\": [0, 250]}, \"type\": \"quantitative\"}, \"y\": {\"field\": \"Attack\", \"scale\": {\"domain\": [0, 240]}, \"type\": \"quantitative\"}}, \"title\": \"Attack v.s. Special Attack based on generation\", \"$schema\": \"https://vega.github.io/schema/vega-lite/v4.17.0.json\", \"datasets\": {\"data-8f8f5a820e13a98ac2edffa1fa08f1db\": [{\"#\": 1, \"Name\": \"Bulbasaur\", \"Type 1\": \"Grass\", \"Type 2\": \"Poison\", \"Total\": 318, \"HP\": 45, \"Attack\": 49, \"Defense\": 49, \"SpecialA\": 65, \"SpecialD\": 65, \"Speed\": 45, \"Generation\": 1}, {\"#\": 2, \"Name\": \"Ivysaur\", \"Type 1\": \"Grass\", \"Type 2\": \"Poison\", \"Total\": 405, \"HP\": 60, \"Attack\": 62, \"Defense\": 63, \"SpecialA\": 80, \"SpecialD\": 80, \"Speed\": 60, \"Generation\": 1}, {\"#\": 3, \"Name\": \"Venusaur\", \"Type 1\": \"Grass\", \"Type 2\": \"Poison\", \"Total\": 525, \"HP\": 80, \"Attack\": 82, \"Defense\": 83, \"SpecialA\": 100, \"SpecialD\": 100, \"Speed\": 80, \"Generation\": 1}, {\"#\": 3, \"Name\": \"VenusaurMega Venusaur\", \"Type 1\": \"Grass\", \"Type 2\": \"Poison\", \"Total\": 625, \"HP\": 80, \"Attack\": 100, \"Defense\": 123, \"SpecialA\": 122, \"SpecialD\": 120, \"Speed\": 80, \"Generation\": 1}, {\"#\": 6, \"Name\": \"Charizard\", \"Type 1\": \"Fire\", \"Type 2\": \"Flying\", \"Total\": 534, \"HP\": 78, \"Attack\": 84, \"Defense\": 78, \"SpecialA\": 109, \"SpecialD\": 85, \"Speed\": 100, \"Generation\": 1}, {\"#\": 6, \"Name\": \"CharizardMega Charizard X\", \"Type 1\": \"Fire\", \"Type 2\": \"Dragon\", \"Total\": 634, \"HP\": 78, \"Attack\": 130, \"Defense\": 111, \"SpecialA\": 130, \"SpecialD\": 85, \"Speed\": 100, \"Generation\": 1}, {\"#\": 6, \"Name\": \"CharizardMega Charizard Y\", \"Type 1\": \"Fire\", \"Type 2\": \"Flying\", \"Total\": 634, \"HP\": 78, \"Attack\": 104, \"Defense\": 78, \"SpecialA\": 159, \"SpecialD\": 115, \"Speed\": 100, \"Generation\": 1}, {\"#\": 12, \"Name\": \"Butterfree\", \"Type 1\": \"Bug\", \"Type 2\": \"Flying\", \"Total\": 395, \"HP\": 60, \"Attack\": 45, \"Defense\": 50, \"SpecialA\": 90, \"SpecialD\": 80, \"Speed\": 70, \"Generation\": 1}, {\"#\": 13, \"Name\": \"Weedle\", \"Type 1\": \"Bug\", \"Type 2\": \"Poison\", \"Total\": 195, \"HP\": 40, \"Attack\": 35, \"Defense\": 30, \"SpecialA\": 20, \"SpecialD\": 20, \"Speed\": 50, \"Generation\": 1}, {\"#\": 14, \"Name\": \"Kakuna\", \"Type 1\": \"Bug\", \"Type 2\": \"Poison\", \"Total\": 205, \"HP\": 45, \"Attack\": 25, \"Defense\": 50, \"SpecialA\": 25, \"SpecialD\": 25, \"Speed\": 35, \"Generation\": 1}, {\"#\": 15, \"Name\": \"Beedrill\", \"Type 1\": \"Bug\", \"Type 2\": \"Poison\", \"Total\": 395, \"HP\": 65, \"Attack\": 90, \"Defense\": 40, \"SpecialA\": 45, \"SpecialD\": 80, \"Speed\": 75, \"Generation\": 1}, {\"#\": 15, \"Name\": \"BeedrillMega Beedrill\", \"Type 1\": \"Bug\", \"Type 2\": \"Poison\", \"Total\": 495, \"HP\": 65, \"Attack\": 150, \"Defense\": 40, \"SpecialA\": 15, \"SpecialD\": 80, \"Speed\": 145, \"Generation\": 1}, {\"#\": 16, \"Name\": \"Pidgey\", \"Type 1\": \"Normal\", \"Type 2\": \"Flying\", \"Total\": 251, \"HP\": 40, \"Attack\": 45, \"Defense\": 40, \"SpecialA\": 35, \"SpecialD\": 35, \"Speed\": 56, \"Generation\": 1}, {\"#\": 17, \"Name\": \"Pidgeotto\", \"Type 1\": \"Normal\", \"Type 2\": \"Flying\", \"Total\": 349, \"HP\": 63, \"Attack\": 60, \"Defense\": 55, \"SpecialA\": 50, \"SpecialD\": 50, \"Speed\": 71, \"Generation\": 1}, {\"#\": 18, \"Name\": \"Pidgeot\", \"Type 1\": \"Normal\", \"Type 2\": \"Flying\", \"Total\": 479, \"HP\": 83, \"Attack\": 80, \"Defense\": 75, \"SpecialA\": 70, \"SpecialD\": 70, \"Speed\": 101, \"Generation\": 1}, {\"#\": 18, \"Name\": \"PidgeotMega Pidgeot\", \"Type 1\": \"Normal\", \"Type 2\": \"Flying\", \"Total\": 579, \"HP\": 83, \"Attack\": 80, \"Defense\": 80, \"SpecialA\": 135, \"SpecialD\": 80, \"Speed\": 121, \"Generation\": 1}, {\"#\": 21, \"Name\": \"Spearow\", \"Type 1\": \"Normal\", \"Type 2\": \"Flying\", \"Total\": 262, \"HP\": 40, \"Attack\": 60, \"Defense\": 30, \"SpecialA\": 31, \"SpecialD\": 31, \"Speed\": 70, \"Generation\": 1}, {\"#\": 22, \"Name\": \"Fearow\", \"Type 1\": \"Normal\", \"Type 2\": \"Flying\", \"Total\": 442, \"HP\": 65, \"Attack\": 90, \"Defense\": 65, \"SpecialA\": 61, \"SpecialD\": 61, \"Speed\": 100, \"Generation\": 1}, {\"#\": 31, \"Name\": \"Nidoqueen\", \"Type 1\": \"Poison\", \"Type 2\": \"Ground\", \"Total\": 505, \"HP\": 90, \"Attack\": 92, \"Defense\": 87, \"SpecialA\": 75, \"SpecialD\": 85, \"Speed\": 76, \"Generation\": 1}, {\"#\": 34, \"Name\": \"Nidoking\", \"Type 1\": \"Poison\", \"Type 2\": \"Ground\", \"Total\": 505, \"HP\": 81, \"Attack\": 102, \"Defense\": 77, \"SpecialA\": 85, \"SpecialD\": 75, \"Speed\": 85, \"Generation\": 1}, {\"#\": 39, \"Name\": \"Jigglypuff\", \"Type 1\": \"Normal\", \"Type 2\": \"Fairy\", \"Total\": 270, \"HP\": 115, \"Attack\": 45, \"Defense\": 20, \"SpecialA\": 45, \"SpecialD\": 25, \"Speed\": 20, \"Generation\": 1}, {\"#\": 40, \"Name\": \"Wigglytuff\", \"Type 1\": \"Normal\", \"Type 2\": \"Fairy\", \"Total\": 435, \"HP\": 140, \"Attack\": 70, \"Defense\": 45, \"SpecialA\": 85, \"SpecialD\": 50, \"Speed\": 45, \"Generation\": 1}, {\"#\": 41, \"Name\": \"Zubat\", \"Type 1\": \"Poison\", \"Type 2\": \"Flying\", \"Total\": 245, \"HP\": 40, \"Attack\": 45, \"Defense\": 35, \"SpecialA\": 30, \"SpecialD\": 40, \"Speed\": 55, \"Generation\": 1}, {\"#\": 42, \"Name\": \"Golbat\", \"Type 1\": \"Poison\", \"Type 2\": \"Flying\", \"Total\": 455, \"HP\": 75, \"Attack\": 80, \"Defense\": 70, \"SpecialA\": 65, \"SpecialD\": 75, \"Speed\": 90, \"Generation\": 1}, {\"#\": 43, \"Name\": \"Oddish\", \"Type 1\": \"Grass\", \"Type 2\": \"Poison\", \"Total\": 320, \"HP\": 45, \"Attack\": 50, \"Defense\": 55, \"SpecialA\": 75, \"SpecialD\": 65, \"Speed\": 30, \"Generation\": 1}, {\"#\": 44, \"Name\": \"Gloom\", \"Type 1\": \"Grass\", \"Type 2\": \"Poison\", \"Total\": 395, \"HP\": 60, \"Attack\": 65, \"Defense\": 70, \"SpecialA\": 85, \"SpecialD\": 75, \"Speed\": 40, \"Generation\": 1}, {\"#\": 45, \"Name\": \"Vileplume\", \"Type 1\": \"Grass\", \"Type 2\": \"Poison\", \"Total\": 490, \"HP\": 75, \"Attack\": 80, \"Defense\": 85, \"SpecialA\": 110, \"SpecialD\": 90, \"Speed\": 50, \"Generation\": 1}, {\"#\": 46, \"Name\": \"Paras\", \"Type 1\": \"Bug\", \"Type 2\": \"Grass\", \"Total\": 285, \"HP\": 35, \"Attack\": 70, \"Defense\": 55, \"SpecialA\": 45, \"SpecialD\": 55, \"Speed\": 25, \"Generation\": 1}, {\"#\": 47, \"Name\": \"Parasect\", \"Type 1\": \"Bug\", \"Type 2\": \"Grass\", \"Total\": 405, \"HP\": 60, \"Attack\": 95, \"Defense\": 80, \"SpecialA\": 60, \"SpecialD\": 80, \"Speed\": 30, \"Generation\": 1}, {\"#\": 48, \"Name\": \"Venonat\", \"Type 1\": \"Bug\", \"Type 2\": \"Poison\", \"Total\": 305, \"HP\": 60, \"Attack\": 55, \"Defense\": 50, \"SpecialA\": 40, \"SpecialD\": 55, \"Speed\": 45, \"Generation\": 1}, {\"#\": 49, \"Name\": \"Venomoth\", \"Type 1\": \"Bug\", \"Type 2\": \"Poison\", \"Total\": 450, \"HP\": 70, \"Attack\": 65, \"Defense\": 60, \"SpecialA\": 90, \"SpecialD\": 75, \"Speed\": 90, \"Generation\": 1}, {\"#\": 62, \"Name\": \"Poliwrath\", \"Type 1\": \"Water\", \"Type 2\": \"Fighting\", \"Total\": 510, \"HP\": 90, \"Attack\": 95, \"Defense\": 95, \"SpecialA\": 70, \"SpecialD\": 90, \"Speed\": 70, \"Generation\": 1}, {\"#\": 69, \"Name\": \"Bellsprout\", \"Type 1\": \"Grass\", \"Type 2\": \"Poison\", \"Total\": 300, \"HP\": 50, \"Attack\": 75, \"Defense\": 35, \"SpecialA\": 70, \"SpecialD\": 30, \"Speed\": 40, \"Generation\": 1}, {\"#\": 70, \"Name\": \"Weepinbell\", \"Type 1\": \"Grass\", \"Type 2\": \"Poison\", \"Total\": 390, \"HP\": 65, \"Attack\": 90, \"Defense\": 50, \"SpecialA\": 85, \"SpecialD\": 45, \"Speed\": 55, \"Generation\": 1}, {\"#\": 71, \"Name\": \"Victreebel\", \"Type 1\": \"Grass\", \"Type 2\": \"Poison\", \"Total\": 490, \"HP\": 80, \"Attack\": 105, \"Defense\": 65, \"SpecialA\": 100, \"SpecialD\": 70, \"Speed\": 70, \"Generation\": 1}, {\"#\": 72, \"Name\": \"Tentacool\", \"Type 1\": \"Water\", \"Type 2\": \"Poison\", \"Total\": 335, \"HP\": 40, \"Attack\": 40, \"Defense\": 35, \"SpecialA\": 50, \"SpecialD\": 100, \"Speed\": 70, \"Generation\": 1}, {\"#\": 73, \"Name\": \"Tentacruel\", \"Type 1\": \"Water\", \"Type 2\": \"Poison\", \"Total\": 515, \"HP\": 80, \"Attack\": 70, \"Defense\": 65, \"SpecialA\": 80, \"SpecialD\": 120, \"Speed\": 100, \"Generation\": 1}, {\"#\": 74, \"Name\": \"Geodude\", \"Type 1\": \"Rock\", \"Type 2\": \"Ground\", \"Total\": 300, \"HP\": 40, \"Attack\": 80, \"Defense\": 100, \"SpecialA\": 30, \"SpecialD\": 30, \"Speed\": 20, \"Generation\": 1}, {\"#\": 75, \"Name\": \"Graveler\", \"Type 1\": \"Rock\", \"Type 2\": \"Ground\", \"Total\": 390, \"HP\": 55, \"Attack\": 95, \"Defense\": 115, \"SpecialA\": 45, \"SpecialD\": 45, \"Speed\": 35, \"Generation\": 1}, {\"#\": 76, \"Name\": \"Golem\", \"Type 1\": \"Rock\", \"Type 2\": \"Ground\", \"Total\": 495, \"HP\": 80, \"Attack\": 120, \"Defense\": 130, \"SpecialA\": 55, \"SpecialD\": 65, \"Speed\": 45, \"Generation\": 1}, {\"#\": 79, \"Name\": \"Slowpoke\", \"Type 1\": \"Water\", \"Type 2\": \"Psychic\", \"Total\": 315, \"HP\": 90, \"Attack\": 65, \"Defense\": 65, \"SpecialA\": 40, \"SpecialD\": 40, \"Speed\": 15, \"Generation\": 1}, {\"#\": 80, \"Name\": \"Slowbro\", \"Type 1\": \"Water\", \"Type 2\": \"Psychic\", \"Total\": 490, \"HP\": 95, \"Attack\": 75, \"Defense\": 110, \"SpecialA\": 100, \"SpecialD\": 80, \"Speed\": 30, \"Generation\": 1}, {\"#\": 80, \"Name\": \"SlowbroMega Slowbro\", \"Type 1\": \"Water\", \"Type 2\": \"Psychic\", \"Total\": 590, \"HP\": 95, \"Attack\": 75, \"Defense\": 180, \"SpecialA\": 130, \"SpecialD\": 80, \"Speed\": 30, \"Generation\": 1}, {\"#\": 81, \"Name\": \"Magnemite\", \"Type 1\": \"Electric\", \"Type 2\": \"Steel\", \"Total\": 325, \"HP\": 25, \"Attack\": 35, \"Defense\": 70, \"SpecialA\": 95, \"SpecialD\": 55, \"Speed\": 45, \"Generation\": 1}, {\"#\": 82, \"Name\": \"Magneton\", \"Type 1\": \"Electric\", \"Type 2\": \"Steel\", \"Total\": 465, \"HP\": 50, \"Attack\": 60, \"Defense\": 95, \"SpecialA\": 120, \"SpecialD\": 70, \"Speed\": 70, \"Generation\": 1}, {\"#\": 83, \"Name\": \"Farfetch'd\", \"Type 1\": \"Normal\", \"Type 2\": \"Flying\", \"Total\": 352, \"HP\": 52, \"Attack\": 65, \"Defense\": 55, \"SpecialA\": 58, \"SpecialD\": 62, \"Speed\": 60, \"Generation\": 1}, {\"#\": 84, \"Name\": \"Doduo\", \"Type 1\": \"Normal\", \"Type 2\": \"Flying\", \"Total\": 310, \"HP\": 35, \"Attack\": 85, \"Defense\": 45, \"SpecialA\": 35, \"SpecialD\": 35, \"Speed\": 75, \"Generation\": 1}, {\"#\": 85, \"Name\": \"Dodrio\", \"Type 1\": \"Normal\", \"Type 2\": \"Flying\", \"Total\": 460, \"HP\": 60, \"Attack\": 110, \"Defense\": 70, \"SpecialA\": 60, \"SpecialD\": 60, \"Speed\": 100, \"Generation\": 1}, {\"#\": 87, \"Name\": \"Dewgong\", \"Type 1\": \"Water\", \"Type 2\": \"Ice\", \"Total\": 475, \"HP\": 90, \"Attack\": 70, \"Defense\": 80, \"SpecialA\": 70, \"SpecialD\": 95, \"Speed\": 70, \"Generation\": 1}, {\"#\": 91, \"Name\": \"Cloyster\", \"Type 1\": \"Water\", \"Type 2\": \"Ice\", \"Total\": 525, \"HP\": 50, \"Attack\": 95, \"Defense\": 180, \"SpecialA\": 85, \"SpecialD\": 45, \"Speed\": 70, \"Generation\": 1}, {\"#\": 92, \"Name\": \"Gastly\", \"Type 1\": \"Ghost\", \"Type 2\": \"Poison\", \"Total\": 310, \"HP\": 30, \"Attack\": 35, \"Defense\": 30, \"SpecialA\": 100, \"SpecialD\": 35, \"Speed\": 80, \"Generation\": 1}, {\"#\": 93, \"Name\": \"Haunter\", \"Type 1\": \"Ghost\", \"Type 2\": \"Poison\", \"Total\": 405, \"HP\": 45, \"Attack\": 50, \"Defense\": 45, \"SpecialA\": 115, \"SpecialD\": 55, \"Speed\": 95, \"Generation\": 1}, {\"#\": 94, \"Name\": \"Gengar\", \"Type 1\": \"Ghost\", \"Type 2\": \"Poison\", \"Total\": 500, \"HP\": 60, \"Attack\": 65, \"Defense\": 60, \"SpecialA\": 130, \"SpecialD\": 75, \"Speed\": 110, \"Generation\": 1}, {\"#\": 94, \"Name\": \"GengarMega Gengar\", \"Type 1\": \"Ghost\", \"Type 2\": \"Poison\", \"Total\": 600, \"HP\": 60, \"Attack\": 65, \"Defense\": 80, \"SpecialA\": 170, \"SpecialD\": 95, \"Speed\": 130, \"Generation\": 1}, {\"#\": 95, \"Name\": \"Onix\", \"Type 1\": \"Rock\", \"Type 2\": \"Ground\", \"Total\": 385, \"HP\": 35, \"Attack\": 45, \"Defense\": 160, \"SpecialA\": 30, \"SpecialD\": 45, \"Speed\": 70, \"Generation\": 1}, {\"#\": 102, \"Name\": \"Exeggcute\", \"Type 1\": \"Grass\", \"Type 2\": \"Psychic\", \"Total\": 325, \"HP\": 60, \"Attack\": 40, \"Defense\": 80, \"SpecialA\": 60, \"SpecialD\": 45, \"Speed\": 40, \"Generation\": 1}, {\"#\": 103, \"Name\": \"Exeggutor\", \"Type 1\": \"Grass\", \"Type 2\": \"Psychic\", \"Total\": 520, \"HP\": 95, \"Attack\": 95, \"Defense\": 85, \"SpecialA\": 125, \"SpecialD\": 65, \"Speed\": 55, \"Generation\": 1}, {\"#\": 111, \"Name\": \"Rhyhorn\", \"Type 1\": \"Ground\", \"Type 2\": \"Rock\", \"Total\": 345, \"HP\": 80, \"Attack\": 85, \"Defense\": 95, \"SpecialA\": 30, \"SpecialD\": 30, \"Speed\": 25, \"Generation\": 1}, {\"#\": 112, \"Name\": \"Rhydon\", \"Type 1\": \"Ground\", \"Type 2\": \"Rock\", \"Total\": 485, \"HP\": 105, \"Attack\": 130, \"Defense\": 120, \"SpecialA\": 45, \"SpecialD\": 45, \"Speed\": 40, \"Generation\": 1}, {\"#\": 121, \"Name\": \"Starmie\", \"Type 1\": \"Water\", \"Type 2\": \"Psychic\", \"Total\": 520, \"HP\": 60, \"Attack\": 75, \"Defense\": 85, \"SpecialA\": 100, \"SpecialD\": 85, \"Speed\": 115, \"Generation\": 1}, {\"#\": 122, \"Name\": \"Mr. Mime\", \"Type 1\": \"Psychic\", \"Type 2\": \"Fairy\", \"Total\": 460, \"HP\": 40, \"Attack\": 45, \"Defense\": 65, \"SpecialA\": 100, \"SpecialD\": 120, \"Speed\": 90, \"Generation\": 1}, {\"#\": 123, \"Name\": \"Scyther\", \"Type 1\": \"Bug\", \"Type 2\": \"Flying\", \"Total\": 500, \"HP\": 70, \"Attack\": 110, \"Defense\": 80, \"SpecialA\": 55, \"SpecialD\": 80, \"Speed\": 105, \"Generation\": 1}, {\"#\": 124, \"Name\": \"Jynx\", \"Type 1\": \"Ice\", \"Type 2\": \"Psychic\", \"Total\": 455, \"HP\": 65, \"Attack\": 50, \"Defense\": 35, \"SpecialA\": 115, \"SpecialD\": 95, \"Speed\": 95, \"Generation\": 1}, {\"#\": 127, \"Name\": \"PinsirMega Pinsir\", \"Type 1\": \"Bug\", \"Type 2\": \"Flying\", \"Total\": 600, \"HP\": 65, \"Attack\": 155, \"Defense\": 120, \"SpecialA\": 65, \"SpecialD\": 90, \"Speed\": 105, \"Generation\": 1}, {\"#\": 130, \"Name\": \"Gyarados\", \"Type 1\": \"Water\", \"Type 2\": \"Flying\", \"Total\": 540, \"HP\": 95, \"Attack\": 125, \"Defense\": 79, \"SpecialA\": 60, \"SpecialD\": 100, \"Speed\": 81, \"Generation\": 1}, {\"#\": 130, \"Name\": \"GyaradosMega Gyarados\", \"Type 1\": \"Water\", \"Type 2\": \"Dark\", \"Total\": 640, \"HP\": 95, \"Attack\": 155, \"Defense\": 109, \"SpecialA\": 70, \"SpecialD\": 130, \"Speed\": 81, \"Generation\": 1}, {\"#\": 131, \"Name\": \"Lapras\", \"Type 1\": \"Water\", \"Type 2\": \"Ice\", \"Total\": 535, \"HP\": 130, \"Attack\": 85, \"Defense\": 80, \"SpecialA\": 85, \"SpecialD\": 95, \"Speed\": 60, \"Generation\": 1}, {\"#\": 138, \"Name\": \"Omanyte\", \"Type 1\": \"Rock\", \"Type 2\": \"Water\", \"Total\": 355, \"HP\": 35, \"Attack\": 40, \"Defense\": 100, \"SpecialA\": 90, \"SpecialD\": 55, \"Speed\": 35, \"Generation\": 1}, {\"#\": 139, \"Name\": \"Omastar\", \"Type 1\": \"Rock\", \"Type 2\": \"Water\", \"Total\": 495, \"HP\": 70, \"Attack\": 60, \"Defense\": 125, \"SpecialA\": 115, \"SpecialD\": 70, \"Speed\": 55, \"Generation\": 1}, {\"#\": 140, \"Name\": \"Kabuto\", \"Type 1\": \"Rock\", \"Type 2\": \"Water\", \"Total\": 355, \"HP\": 30, \"Attack\": 80, \"Defense\": 90, \"SpecialA\": 55, \"SpecialD\": 45, \"Speed\": 55, \"Generation\": 1}, {\"#\": 141, \"Name\": \"Kabutops\", \"Type 1\": \"Rock\", \"Type 2\": \"Water\", \"Total\": 495, \"HP\": 60, \"Attack\": 115, \"Defense\": 105, \"SpecialA\": 65, \"SpecialD\": 70, \"Speed\": 80, \"Generation\": 1}, {\"#\": 142, \"Name\": \"Aerodactyl\", \"Type 1\": \"Rock\", \"Type 2\": \"Flying\", \"Total\": 515, \"HP\": 80, \"Attack\": 105, \"Defense\": 65, \"SpecialA\": 60, \"SpecialD\": 75, \"Speed\": 130, \"Generation\": 1}, {\"#\": 142, \"Name\": \"AerodactylMega Aerodactyl\", \"Type 1\": \"Rock\", \"Type 2\": \"Flying\", \"Total\": 615, \"HP\": 80, \"Attack\": 135, \"Defense\": 85, \"SpecialA\": 70, \"SpecialD\": 95, \"Speed\": 150, \"Generation\": 1}, {\"#\": 149, \"Name\": \"Dragonite\", \"Type 1\": \"Dragon\", \"Type 2\": \"Flying\", \"Total\": 600, \"HP\": 91, \"Attack\": 134, \"Defense\": 95, \"SpecialA\": 100, \"SpecialD\": 100, \"Speed\": 80, \"Generation\": 1}, {\"#\": 163, \"Name\": \"Hoothoot\", \"Type 1\": \"Normal\", \"Type 2\": \"Flying\", \"Total\": 262, \"HP\": 60, \"Attack\": 30, \"Defense\": 30, \"SpecialA\": 36, \"SpecialD\": 56, \"Speed\": 50, \"Generation\": 2}, {\"#\": 164, \"Name\": \"Noctowl\", \"Type 1\": \"Normal\", \"Type 2\": \"Flying\", \"Total\": 442, \"HP\": 100, \"Attack\": 50, \"Defense\": 50, \"SpecialA\": 76, \"SpecialD\": 96, \"Speed\": 70, \"Generation\": 2}, {\"#\": 165, \"Name\": \"Ledyba\", \"Type 1\": \"Bug\", \"Type 2\": \"Flying\", \"Total\": 265, \"HP\": 40, \"Attack\": 20, \"Defense\": 30, \"SpecialA\": 40, \"SpecialD\": 80, \"Speed\": 55, \"Generation\": 2}, {\"#\": 166, \"Name\": \"Ledian\", \"Type 1\": \"Bug\", \"Type 2\": \"Flying\", \"Total\": 390, \"HP\": 55, \"Attack\": 35, \"Defense\": 50, \"SpecialA\": 55, \"SpecialD\": 110, \"Speed\": 85, \"Generation\": 2}, {\"#\": 167, \"Name\": \"Spinarak\", \"Type 1\": \"Bug\", \"Type 2\": \"Poison\", \"Total\": 250, \"HP\": 40, \"Attack\": 60, \"Defense\": 40, \"SpecialA\": 40, \"SpecialD\": 40, \"Speed\": 30, \"Generation\": 2}, {\"#\": 168, \"Name\": \"Ariados\", \"Type 1\": \"Bug\", \"Type 2\": \"Poison\", \"Total\": 390, \"HP\": 70, \"Attack\": 90, \"Defense\": 70, \"SpecialA\": 60, \"SpecialD\": 60, \"Speed\": 40, \"Generation\": 2}, {\"#\": 169, \"Name\": \"Crobat\", \"Type 1\": \"Poison\", \"Type 2\": \"Flying\", \"Total\": 535, \"HP\": 85, \"Attack\": 90, \"Defense\": 80, \"SpecialA\": 70, \"SpecialD\": 80, \"Speed\": 130, \"Generation\": 2}, {\"#\": 170, \"Name\": \"Chinchou\", \"Type 1\": \"Water\", \"Type 2\": \"Electric\", \"Total\": 330, \"HP\": 75, \"Attack\": 38, \"Defense\": 38, \"SpecialA\": 56, \"SpecialD\": 56, \"Speed\": 67, \"Generation\": 2}, {\"#\": 171, \"Name\": \"Lanturn\", \"Type 1\": \"Water\", \"Type 2\": \"Electric\", \"Total\": 460, \"HP\": 125, \"Attack\": 58, \"Defense\": 58, \"SpecialA\": 76, \"SpecialD\": 76, \"Speed\": 67, \"Generation\": 2}, {\"#\": 174, \"Name\": \"Igglybuff\", \"Type 1\": \"Normal\", \"Type 2\": \"Fairy\", \"Total\": 210, \"HP\": 90, \"Attack\": 30, \"Defense\": 15, \"SpecialA\": 40, \"SpecialD\": 20, \"Speed\": 15, \"Generation\": 2}, {\"#\": 176, \"Name\": \"Togetic\", \"Type 1\": \"Fairy\", \"Type 2\": \"Flying\", \"Total\": 405, \"HP\": 55, \"Attack\": 40, \"Defense\": 85, \"SpecialA\": 80, \"SpecialD\": 105, \"Speed\": 40, \"Generation\": 2}, {\"#\": 177, \"Name\": \"Natu\", \"Type 1\": \"Psychic\", \"Type 2\": \"Flying\", \"Total\": 320, \"HP\": 40, \"Attack\": 50, \"Defense\": 45, \"SpecialA\": 70, \"SpecialD\": 45, \"Speed\": 70, \"Generation\": 2}, {\"#\": 178, \"Name\": \"Xatu\", \"Type 1\": \"Psychic\", \"Type 2\": \"Flying\", \"Total\": 470, \"HP\": 65, \"Attack\": 75, \"Defense\": 70, \"SpecialA\": 95, \"SpecialD\": 70, \"Speed\": 95, \"Generation\": 2}, {\"#\": 181, \"Name\": \"AmpharosMega Ampharos\", \"Type 1\": \"Electric\", \"Type 2\": \"Dragon\", \"Total\": 610, \"HP\": 90, \"Attack\": 95, \"Defense\": 105, \"SpecialA\": 165, \"SpecialD\": 110, \"Speed\": 45, \"Generation\": 2}, {\"#\": 183, \"Name\": \"Marill\", \"Type 1\": \"Water\", \"Type 2\": \"Fairy\", \"Total\": 250, \"HP\": 70, \"Attack\": 20, \"Defense\": 50, \"SpecialA\": 20, \"SpecialD\": 50, \"Speed\": 40, \"Generation\": 2}, {\"#\": 184, \"Name\": \"Azumarill\", \"Type 1\": \"Water\", \"Type 2\": \"Fairy\", \"Total\": 420, \"HP\": 100, \"Attack\": 50, \"Defense\": 80, \"SpecialA\": 60, \"SpecialD\": 80, \"Speed\": 50, \"Generation\": 2}, {\"#\": 187, \"Name\": \"Hoppip\", \"Type 1\": \"Grass\", \"Type 2\": \"Flying\", \"Total\": 250, \"HP\": 35, \"Attack\": 35, \"Defense\": 40, \"SpecialA\": 35, \"SpecialD\": 55, \"Speed\": 50, \"Generation\": 2}, {\"#\": 188, \"Name\": \"Skiploom\", \"Type 1\": \"Grass\", \"Type 2\": \"Flying\", \"Total\": 340, \"HP\": 55, \"Attack\": 45, \"Defense\": 50, \"SpecialA\": 45, \"SpecialD\": 65, \"Speed\": 80, \"Generation\": 2}, {\"#\": 189, \"Name\": \"Jumpluff\", \"Type 1\": \"Grass\", \"Type 2\": \"Flying\", \"Total\": 460, \"HP\": 75, \"Attack\": 55, \"Defense\": 70, \"SpecialA\": 55, \"SpecialD\": 95, \"Speed\": 110, \"Generation\": 2}, {\"#\": 193, \"Name\": \"Yanma\", \"Type 1\": \"Bug\", \"Type 2\": \"Flying\", \"Total\": 390, \"HP\": 65, \"Attack\": 65, \"Defense\": 45, \"SpecialA\": 75, \"SpecialD\": 45, \"Speed\": 95, \"Generation\": 2}, {\"#\": 194, \"Name\": \"Wooper\", \"Type 1\": \"Water\", \"Type 2\": \"Ground\", \"Total\": 210, \"HP\": 55, \"Attack\": 45, \"Defense\": 45, \"SpecialA\": 25, \"SpecialD\": 25, \"Speed\": 15, \"Generation\": 2}, {\"#\": 195, \"Name\": \"Quagsire\", \"Type 1\": \"Water\", \"Type 2\": \"Ground\", \"Total\": 430, \"HP\": 95, \"Attack\": 85, \"Defense\": 85, \"SpecialA\": 65, \"SpecialD\": 65, \"Speed\": 35, \"Generation\": 2}, {\"#\": 198, \"Name\": \"Murkrow\", \"Type 1\": \"Dark\", \"Type 2\": \"Flying\", \"Total\": 405, \"HP\": 60, \"Attack\": 85, \"Defense\": 42, \"SpecialA\": 85, \"SpecialD\": 42, \"Speed\": 91, \"Generation\": 2}, {\"#\": 199, \"Name\": \"Slowking\", \"Type 1\": \"Water\", \"Type 2\": \"Psychic\", \"Total\": 490, \"HP\": 95, \"Attack\": 75, \"Defense\": 80, \"SpecialA\": 100, \"SpecialD\": 110, \"Speed\": 30, \"Generation\": 2}, {\"#\": 203, \"Name\": \"Girafarig\", \"Type 1\": \"Normal\", \"Type 2\": \"Psychic\", \"Total\": 455, \"HP\": 70, \"Attack\": 80, \"Defense\": 65, \"SpecialA\": 90, \"SpecialD\": 65, \"Speed\": 85, \"Generation\": 2}, {\"#\": 205, \"Name\": \"Forretress\", \"Type 1\": \"Bug\", \"Type 2\": \"Steel\", \"Total\": 465, \"HP\": 75, \"Attack\": 90, \"Defense\": 140, \"SpecialA\": 60, \"SpecialD\": 60, \"Speed\": 40, \"Generation\": 2}, {\"#\": 207, \"Name\": \"Gligar\", \"Type 1\": \"Ground\", \"Type 2\": \"Flying\", \"Total\": 430, \"HP\": 65, \"Attack\": 75, \"Defense\": 105, \"SpecialA\": 35, \"SpecialD\": 65, \"Speed\": 85, \"Generation\": 2}, {\"#\": 208, \"Name\": \"Steelix\", \"Type 1\": \"Steel\", \"Type 2\": \"Ground\", \"Total\": 510, \"HP\": 75, \"Attack\": 85, \"Defense\": 200, \"SpecialA\": 55, \"SpecialD\": 65, \"Speed\": 30, \"Generation\": 2}, {\"#\": 208, \"Name\": \"SteelixMega Steelix\", \"Type 1\": \"Steel\", \"Type 2\": \"Ground\", \"Total\": 610, \"HP\": 75, \"Attack\": 125, \"Defense\": 230, \"SpecialA\": 55, \"SpecialD\": 95, \"Speed\": 30, \"Generation\": 2}, {\"#\": 211, \"Name\": \"Qwilfish\", \"Type 1\": \"Water\", \"Type 2\": \"Poison\", \"Total\": 430, \"HP\": 65, \"Attack\": 95, \"Defense\": 75, \"SpecialA\": 55, \"SpecialD\": 55, \"Speed\": 85, \"Generation\": 2}, {\"#\": 212, \"Name\": \"Scizor\", \"Type 1\": \"Bug\", \"Type 2\": \"Steel\", \"Total\": 500, \"HP\": 70, \"Attack\": 130, \"Defense\": 100, \"SpecialA\": 55, \"SpecialD\": 80, \"Speed\": 65, \"Generation\": 2}, {\"#\": 212, \"Name\": \"ScizorMega Scizor\", \"Type 1\": \"Bug\", \"Type 2\": \"Steel\", \"Total\": 600, \"HP\": 70, \"Attack\": 150, \"Defense\": 140, \"SpecialA\": 65, \"SpecialD\": 100, \"Speed\": 75, \"Generation\": 2}, {\"#\": 213, \"Name\": \"Shuckle\", \"Type 1\": \"Bug\", \"Type 2\": \"Rock\", \"Total\": 505, \"HP\": 20, \"Attack\": 10, \"Defense\": 230, \"SpecialA\": 10, \"SpecialD\": 230, \"Speed\": 5, \"Generation\": 2}, {\"#\": 214, \"Name\": \"Heracross\", \"Type 1\": \"Bug\", \"Type 2\": \"Fighting\", \"Total\": 500, \"HP\": 80, \"Attack\": 125, \"Defense\": 75, \"SpecialA\": 40, \"SpecialD\": 95, \"Speed\": 85, \"Generation\": 2}, {\"#\": 214, \"Name\": \"HeracrossMega Heracross\", \"Type 1\": \"Bug\", \"Type 2\": \"Fighting\", \"Total\": 600, \"HP\": 80, \"Attack\": 185, \"Defense\": 115, \"SpecialA\": 40, \"SpecialD\": 105, \"Speed\": 75, \"Generation\": 2}, {\"#\": 215, \"Name\": \"Sneasel\", \"Type 1\": \"Dark\", \"Type 2\": \"Ice\", \"Total\": 430, \"HP\": 55, \"Attack\": 95, \"Defense\": 55, \"SpecialA\": 35, \"SpecialD\": 75, \"Speed\": 115, \"Generation\": 2}, {\"#\": 219, \"Name\": \"Magcargo\", \"Type 1\": \"Fire\", \"Type 2\": \"Rock\", \"Total\": 410, \"HP\": 50, \"Attack\": 50, \"Defense\": 120, \"SpecialA\": 80, \"SpecialD\": 80, \"Speed\": 30, \"Generation\": 2}, {\"#\": 220, \"Name\": \"Swinub\", \"Type 1\": \"Ice\", \"Type 2\": \"Ground\", \"Total\": 250, \"HP\": 50, \"Attack\": 50, \"Defense\": 40, \"SpecialA\": 30, \"SpecialD\": 30, \"Speed\": 50, \"Generation\": 2}, {\"#\": 221, \"Name\": \"Piloswine\", \"Type 1\": \"Ice\", \"Type 2\": \"Ground\", \"Total\": 450, \"HP\": 100, \"Attack\": 100, \"Defense\": 80, \"SpecialA\": 60, \"SpecialD\": 60, \"Speed\": 50, \"Generation\": 2}, {\"#\": 222, \"Name\": \"Corsola\", \"Type 1\": \"Water\", \"Type 2\": \"Rock\", \"Total\": 380, \"HP\": 55, \"Attack\": 55, \"Defense\": 85, \"SpecialA\": 65, \"SpecialD\": 85, \"Speed\": 35, \"Generation\": 2}, {\"#\": 225, \"Name\": \"Delibird\", \"Type 1\": \"Ice\", \"Type 2\": \"Flying\", \"Total\": 330, \"HP\": 45, \"Attack\": 55, \"Defense\": 45, \"SpecialA\": 65, \"SpecialD\": 45, \"Speed\": 75, \"Generation\": 2}, {\"#\": 226, \"Name\": \"Mantine\", \"Type 1\": \"Water\", \"Type 2\": \"Flying\", \"Total\": 465, \"HP\": 65, \"Attack\": 40, \"Defense\": 70, \"SpecialA\": 80, \"SpecialD\": 140, \"Speed\": 70, \"Generation\": 2}, {\"#\": 227, \"Name\": \"Skarmory\", \"Type 1\": \"Steel\", \"Type 2\": \"Flying\", \"Total\": 465, \"HP\": 65, \"Attack\": 80, \"Defense\": 140, \"SpecialA\": 40, \"SpecialD\": 70, \"Speed\": 70, \"Generation\": 2}, {\"#\": 228, \"Name\": \"Houndour\", \"Type 1\": \"Dark\", \"Type 2\": \"Fire\", \"Total\": 330, \"HP\": 45, \"Attack\": 60, \"Defense\": 30, \"SpecialA\": 80, \"SpecialD\": 50, \"Speed\": 65, \"Generation\": 2}, {\"#\": 229, \"Name\": \"Houndoom\", \"Type 1\": \"Dark\", \"Type 2\": \"Fire\", \"Total\": 500, \"HP\": 75, \"Attack\": 90, \"Defense\": 50, \"SpecialA\": 110, \"SpecialD\": 80, \"Speed\": 95, \"Generation\": 2}, {\"#\": 229, \"Name\": \"HoundoomMega Houndoom\", \"Type 1\": \"Dark\", \"Type 2\": \"Fire\", \"Total\": 600, \"HP\": 75, \"Attack\": 90, \"Defense\": 90, \"SpecialA\": 140, \"SpecialD\": 90, \"Speed\": 115, \"Generation\": 2}, {\"#\": 230, \"Name\": \"Kingdra\", \"Type 1\": \"Water\", \"Type 2\": \"Dragon\", \"Total\": 540, \"HP\": 75, \"Attack\": 95, \"Defense\": 95, \"SpecialA\": 95, \"SpecialD\": 95, \"Speed\": 85, \"Generation\": 2}, {\"#\": 238, \"Name\": \"Smoochum\", \"Type 1\": \"Ice\", \"Type 2\": \"Psychic\", \"Total\": 305, \"HP\": 45, \"Attack\": 30, \"Defense\": 15, \"SpecialA\": 85, \"SpecialD\": 65, \"Speed\": 65, \"Generation\": 2}, {\"#\": 246, \"Name\": \"Larvitar\", \"Type 1\": \"Rock\", \"Type 2\": \"Ground\", \"Total\": 300, \"HP\": 50, \"Attack\": 64, \"Defense\": 50, \"SpecialA\": 45, \"SpecialD\": 50, \"Speed\": 41, \"Generation\": 2}, {\"#\": 247, \"Name\": \"Pupitar\", \"Type 1\": \"Rock\", \"Type 2\": \"Ground\", \"Total\": 410, \"HP\": 70, \"Attack\": 84, \"Defense\": 70, \"SpecialA\": 65, \"SpecialD\": 70, \"Speed\": 51, \"Generation\": 2}, {\"#\": 248, \"Name\": \"Tyranitar\", \"Type 1\": \"Rock\", \"Type 2\": \"Dark\", \"Total\": 600, \"HP\": 100, \"Attack\": 134, \"Defense\": 110, \"SpecialA\": 95, \"SpecialD\": 100, \"Speed\": 61, \"Generation\": 2}, {\"#\": 248, \"Name\": \"TyranitarMega Tyranitar\", \"Type 1\": \"Rock\", \"Type 2\": \"Dark\", \"Total\": 700, \"HP\": 100, \"Attack\": 164, \"Defense\": 150, \"SpecialA\": 95, \"SpecialD\": 120, \"Speed\": 71, \"Generation\": 2}, {\"#\": 251, \"Name\": \"Celebi\", \"Type 1\": \"Psychic\", \"Type 2\": \"Grass\", \"Total\": 600, \"HP\": 100, \"Attack\": 100, \"Defense\": 100, \"SpecialA\": 100, \"SpecialD\": 100, \"Speed\": 100, \"Generation\": 2}, {\"#\": 254, \"Name\": \"SceptileMega Sceptile\", \"Type 1\": \"Grass\", \"Type 2\": \"Dragon\", \"Total\": 630, \"HP\": 70, \"Attack\": 110, \"Defense\": 75, \"SpecialA\": 145, \"SpecialD\": 85, \"Speed\": 145, \"Generation\": 3}, {\"#\": 256, \"Name\": \"Combusken\", \"Type 1\": \"Fire\", \"Type 2\": \"Fighting\", \"Total\": 405, \"HP\": 60, \"Attack\": 85, \"Defense\": 60, \"SpecialA\": 85, \"SpecialD\": 60, \"Speed\": 55, \"Generation\": 3}, {\"#\": 257, \"Name\": \"Blaziken\", \"Type 1\": \"Fire\", \"Type 2\": \"Fighting\", \"Total\": 530, \"HP\": 80, \"Attack\": 120, \"Defense\": 70, \"SpecialA\": 110, \"SpecialD\": 70, \"Speed\": 80, \"Generation\": 3}, {\"#\": 257, \"Name\": \"BlazikenMega Blaziken\", \"Type 1\": \"Fire\", \"Type 2\": \"Fighting\", \"Total\": 630, \"HP\": 80, \"Attack\": 160, \"Defense\": 80, \"SpecialA\": 130, \"SpecialD\": 80, \"Speed\": 100, \"Generation\": 3}, {\"#\": 259, \"Name\": \"Marshtomp\", \"Type 1\": \"Water\", \"Type 2\": \"Ground\", \"Total\": 405, \"HP\": 70, \"Attack\": 85, \"Defense\": 70, \"SpecialA\": 60, \"SpecialD\": 70, \"Speed\": 50, \"Generation\": 3}, {\"#\": 260, \"Name\": \"Swampert\", \"Type 1\": \"Water\", \"Type 2\": \"Ground\", \"Total\": 535, \"HP\": 100, \"Attack\": 110, \"Defense\": 90, \"SpecialA\": 85, \"SpecialD\": 90, \"Speed\": 60, \"Generation\": 3}, {\"#\": 260, \"Name\": \"SwampertMega Swampert\", \"Type 1\": \"Water\", \"Type 2\": \"Ground\", \"Total\": 635, \"HP\": 100, \"Attack\": 150, \"Defense\": 110, \"SpecialA\": 95, \"SpecialD\": 110, \"Speed\": 70, \"Generation\": 3}, {\"#\": 267, \"Name\": \"Beautifly\", \"Type 1\": \"Bug\", \"Type 2\": \"Flying\", \"Total\": 395, \"HP\": 60, \"Attack\": 70, \"Defense\": 50, \"SpecialA\": 100, \"SpecialD\": 50, \"Speed\": 65, \"Generation\": 3}, {\"#\": 269, \"Name\": \"Dustox\", \"Type 1\": \"Bug\", \"Type 2\": \"Poison\", \"Total\": 385, \"HP\": 60, \"Attack\": 50, \"Defense\": 70, \"SpecialA\": 50, \"SpecialD\": 90, \"Speed\": 65, \"Generation\": 3}, {\"#\": 270, \"Name\": \"Lotad\", \"Type 1\": \"Water\", \"Type 2\": \"Grass\", \"Total\": 220, \"HP\": 40, \"Attack\": 30, \"Defense\": 30, \"SpecialA\": 40, \"SpecialD\": 50, \"Speed\": 30, \"Generation\": 3}, {\"#\": 271, \"Name\": \"Lombre\", \"Type 1\": \"Water\", \"Type 2\": \"Grass\", \"Total\": 340, \"HP\": 60, \"Attack\": 50, \"Defense\": 50, \"SpecialA\": 60, \"SpecialD\": 70, \"Speed\": 50, \"Generation\": 3}, {\"#\": 272, \"Name\": \"Ludicolo\", \"Type 1\": \"Water\", \"Type 2\": \"Grass\", \"Total\": 480, \"HP\": 80, \"Attack\": 70, \"Defense\": 70, \"SpecialA\": 90, \"SpecialD\": 100, \"Speed\": 70, \"Generation\": 3}, {\"#\": 274, \"Name\": \"Nuzleaf\", \"Type 1\": \"Grass\", \"Type 2\": \"Dark\", \"Total\": 340, \"HP\": 70, \"Attack\": 70, \"Defense\": 40, \"SpecialA\": 60, \"SpecialD\": 40, \"Speed\": 60, \"Generation\": 3}, {\"#\": 275, \"Name\": \"Shiftry\", \"Type 1\": \"Grass\", \"Type 2\": \"Dark\", \"Total\": 480, \"HP\": 90, \"Attack\": 100, \"Defense\": 60, \"SpecialA\": 90, \"SpecialD\": 60, \"Speed\": 80, \"Generation\": 3}, {\"#\": 276, \"Name\": \"Taillow\", \"Type 1\": \"Normal\", \"Type 2\": \"Flying\", \"Total\": 270, \"HP\": 40, \"Attack\": 55, \"Defense\": 30, \"SpecialA\": 30, \"SpecialD\": 30, \"Speed\": 85, \"Generation\": 3}, {\"#\": 277, \"Name\": \"Swellow\", \"Type 1\": \"Normal\", \"Type 2\": \"Flying\", \"Total\": 430, \"HP\": 60, \"Attack\": 85, \"Defense\": 60, \"SpecialA\": 50, \"SpecialD\": 50, \"Speed\": 125, \"Generation\": 3}, {\"#\": 278, \"Name\": \"Wingull\", \"Type 1\": \"Water\", \"Type 2\": \"Flying\", \"Total\": 270, \"HP\": 40, \"Attack\": 30, \"Defense\": 30, \"SpecialA\": 55, \"SpecialD\": 30, \"Speed\": 85, \"Generation\": 3}, {\"#\": 279, \"Name\": \"Pelipper\", \"Type 1\": \"Water\", \"Type 2\": \"Flying\", \"Total\": 430, \"HP\": 60, \"Attack\": 50, \"Defense\": 100, \"SpecialA\": 85, \"SpecialD\": 70, \"Speed\": 65, \"Generation\": 3}, {\"#\": 280, \"Name\": \"Ralts\", \"Type 1\": \"Psychic\", \"Type 2\": \"Fairy\", \"Total\": 198, \"HP\": 28, \"Attack\": 25, \"Defense\": 25, \"SpecialA\": 45, \"SpecialD\": 35, \"Speed\": 40, \"Generation\": 3}, {\"#\": 281, \"Name\": \"Kirlia\", \"Type 1\": \"Psychic\", \"Type 2\": \"Fairy\", \"Total\": 278, \"HP\": 38, \"Attack\": 35, \"Defense\": 35, \"SpecialA\": 65, \"SpecialD\": 55, \"Speed\": 50, \"Generation\": 3}, {\"#\": 282, \"Name\": \"Gardevoir\", \"Type 1\": \"Psychic\", \"Type 2\": \"Fairy\", \"Total\": 518, \"HP\": 68, \"Attack\": 65, \"Defense\": 65, \"SpecialA\": 125, \"SpecialD\": 115, \"Speed\": 80, \"Generation\": 3}, {\"#\": 282, \"Name\": \"GardevoirMega Gardevoir\", \"Type 1\": \"Psychic\", \"Type 2\": \"Fairy\", \"Total\": 618, \"HP\": 68, \"Attack\": 85, \"Defense\": 65, \"SpecialA\": 165, \"SpecialD\": 135, \"Speed\": 100, \"Generation\": 3}, {\"#\": 283, \"Name\": \"Surskit\", \"Type 1\": \"Bug\", \"Type 2\": \"Water\", \"Total\": 269, \"HP\": 40, \"Attack\": 30, \"Defense\": 32, \"SpecialA\": 50, \"SpecialD\": 52, \"Speed\": 65, \"Generation\": 3}, {\"#\": 284, \"Name\": \"Masquerain\", \"Type 1\": \"Bug\", \"Type 2\": \"Flying\", \"Total\": 414, \"HP\": 70, \"Attack\": 60, \"Defense\": 62, \"SpecialA\": 80, \"SpecialD\": 82, \"Speed\": 60, \"Generation\": 3}, {\"#\": 286, \"Name\": \"Breloom\", \"Type 1\": \"Grass\", \"Type 2\": \"Fighting\", \"Total\": 460, \"HP\": 60, \"Attack\": 130, \"Defense\": 80, \"SpecialA\": 60, \"SpecialD\": 60, \"Speed\": 70, \"Generation\": 3}, {\"#\": 290, \"Name\": \"Nincada\", \"Type 1\": \"Bug\", \"Type 2\": \"Ground\", \"Total\": 266, \"HP\": 31, \"Attack\": 45, \"Defense\": 90, \"SpecialA\": 30, \"SpecialD\": 30, \"Speed\": 40, \"Generation\": 3}, {\"#\": 291, \"Name\": \"Ninjask\", \"Type 1\": \"Bug\", \"Type 2\": \"Flying\", \"Total\": 456, \"HP\": 61, \"Attack\": 90, \"Defense\": 45, \"SpecialA\": 50, \"SpecialD\": 50, \"Speed\": 160, \"Generation\": 3}, {\"#\": 292, \"Name\": \"Shedinja\", \"Type 1\": \"Bug\", \"Type 2\": \"Ghost\", \"Total\": 236, \"HP\": 1, \"Attack\": 90, \"Defense\": 45, \"SpecialA\": 30, \"SpecialD\": 30, \"Speed\": 40, \"Generation\": 3}, {\"#\": 298, \"Name\": \"Azurill\", \"Type 1\": \"Normal\", \"Type 2\": \"Fairy\", \"Total\": 190, \"HP\": 50, \"Attack\": 20, \"Defense\": 40, \"SpecialA\": 20, \"SpecialD\": 40, \"Speed\": 20, \"Generation\": 3}, {\"#\": 302, \"Name\": \"Sableye\", \"Type 1\": \"Dark\", \"Type 2\": \"Ghost\", \"Total\": 380, \"HP\": 50, \"Attack\": 75, \"Defense\": 75, \"SpecialA\": 65, \"SpecialD\": 65, \"Speed\": 50, \"Generation\": 3}, {\"#\": 302, \"Name\": \"SableyeMega Sableye\", \"Type 1\": \"Dark\", \"Type 2\": \"Ghost\", \"Total\": 480, \"HP\": 50, \"Attack\": 85, \"Defense\": 125, \"SpecialA\": 85, \"SpecialD\": 115, \"Speed\": 20, \"Generation\": 3}, {\"#\": 303, \"Name\": \"Mawile\", \"Type 1\": \"Steel\", \"Type 2\": \"Fairy\", \"Total\": 380, \"HP\": 50, \"Attack\": 85, \"Defense\": 85, \"SpecialA\": 55, \"SpecialD\": 55, \"Speed\": 50, \"Generation\": 3}, {\"#\": 303, \"Name\": \"MawileMega Mawile\", \"Type 1\": \"Steel\", \"Type 2\": \"Fairy\", \"Total\": 480, \"HP\": 50, \"Attack\": 105, \"Defense\": 125, \"SpecialA\": 55, \"SpecialD\": 95, \"Speed\": 50, \"Generation\": 3}, {\"#\": 304, \"Name\": \"Aron\", \"Type 1\": \"Steel\", \"Type 2\": \"Rock\", \"Total\": 330, \"HP\": 50, \"Attack\": 70, \"Defense\": 100, \"SpecialA\": 40, \"SpecialD\": 40, \"Speed\": 30, \"Generation\": 3}, {\"#\": 305, \"Name\": \"Lairon\", \"Type 1\": \"Steel\", \"Type 2\": \"Rock\", \"Total\": 430, \"HP\": 60, \"Attack\": 90, \"Defense\": 140, \"SpecialA\": 50, \"SpecialD\": 50, \"Speed\": 40, \"Generation\": 3}, {\"#\": 306, \"Name\": \"Aggron\", \"Type 1\": \"Steel\", \"Type 2\": \"Rock\", \"Total\": 530, \"HP\": 70, \"Attack\": 110, \"Defense\": 180, \"SpecialA\": 60, \"SpecialD\": 60, \"Speed\": 50, \"Generation\": 3}, {\"#\": 307, \"Name\": \"Meditite\", \"Type 1\": \"Fighting\", \"Type 2\": \"Psychic\", \"Total\": 280, \"HP\": 30, \"Attack\": 40, \"Defense\": 55, \"SpecialA\": 40, \"SpecialD\": 55, \"Speed\": 60, \"Generation\": 3}, {\"#\": 308, \"Name\": \"Medicham\", \"Type 1\": \"Fighting\", \"Type 2\": \"Psychic\", \"Total\": 410, \"HP\": 60, \"Attack\": 60, \"Defense\": 75, \"SpecialA\": 60, \"SpecialD\": 75, \"Speed\": 80, \"Generation\": 3}, {\"#\": 308, \"Name\": \"MedichamMega Medicham\", \"Type 1\": \"Fighting\", \"Type 2\": \"Psychic\", \"Total\": 510, \"HP\": 60, \"Attack\": 100, \"Defense\": 85, \"SpecialA\": 80, \"SpecialD\": 85, \"Speed\": 100, \"Generation\": 3}, {\"#\": 315, \"Name\": \"Roselia\", \"Type 1\": \"Grass\", \"Type 2\": \"Poison\", \"Total\": 400, \"HP\": 50, \"Attack\": 60, \"Defense\": 45, \"SpecialA\": 100, \"SpecialD\": 80, \"Speed\": 65, \"Generation\": 3}, {\"#\": 318, \"Name\": \"Carvanha\", \"Type 1\": \"Water\", \"Type 2\": \"Dark\", \"Total\": 305, \"HP\": 45, \"Attack\": 90, \"Defense\": 20, \"SpecialA\": 65, \"SpecialD\": 20, \"Speed\": 65, \"Generation\": 3}, {\"#\": 319, \"Name\": \"Sharpedo\", \"Type 1\": \"Water\", \"Type 2\": \"Dark\", \"Total\": 460, \"HP\": 70, \"Attack\": 120, \"Defense\": 40, \"SpecialA\": 95, \"SpecialD\": 40, \"Speed\": 95, \"Generation\": 3}, {\"#\": 319, \"Name\": \"SharpedoMega Sharpedo\", \"Type 1\": \"Water\", \"Type 2\": \"Dark\", \"Total\": 560, \"HP\": 70, \"Attack\": 140, \"Defense\": 70, \"SpecialA\": 110, \"SpecialD\": 65, \"Speed\": 105, \"Generation\": 3}, {\"#\": 322, \"Name\": \"Numel\", \"Type 1\": \"Fire\", \"Type 2\": \"Ground\", \"Total\": 305, \"HP\": 60, \"Attack\": 60, \"Defense\": 40, \"SpecialA\": 65, \"SpecialD\": 45, \"Speed\": 35, \"Generation\": 3}, {\"#\": 323, \"Name\": \"Camerupt\", \"Type 1\": \"Fire\", \"Type 2\": \"Ground\", \"Total\": 460, \"HP\": 70, \"Attack\": 100, \"Defense\": 70, \"SpecialA\": 105, \"SpecialD\": 75, \"Speed\": 40, \"Generation\": 3}, {\"#\": 323, \"Name\": \"CameruptMega Camerupt\", \"Type 1\": \"Fire\", \"Type 2\": \"Ground\", \"Total\": 560, \"HP\": 70, \"Attack\": 120, \"Defense\": 100, \"SpecialA\": 145, \"SpecialD\": 105, \"Speed\": 20, \"Generation\": 3}, {\"#\": 329, \"Name\": \"Vibrava\", \"Type 1\": \"Ground\", \"Type 2\": \"Dragon\", \"Total\": 340, \"HP\": 50, \"Attack\": 70, \"Defense\": 50, \"SpecialA\": 50, \"SpecialD\": 50, \"Speed\": 70, \"Generation\": 3}, {\"#\": 330, \"Name\": \"Flygon\", \"Type 1\": \"Ground\", \"Type 2\": \"Dragon\", \"Total\": 520, \"HP\": 80, \"Attack\": 100, \"Defense\": 80, \"SpecialA\": 80, \"SpecialD\": 80, \"Speed\": 100, \"Generation\": 3}, {\"#\": 332, \"Name\": \"Cacturne\", \"Type 1\": \"Grass\", \"Type 2\": \"Dark\", \"Total\": 475, \"HP\": 70, \"Attack\": 115, \"Defense\": 60, \"SpecialA\": 115, \"SpecialD\": 60, \"Speed\": 55, \"Generation\": 3}, {\"#\": 333, \"Name\": \"Swablu\", \"Type 1\": \"Normal\", \"Type 2\": \"Flying\", \"Total\": 310, \"HP\": 45, \"Attack\": 40, \"Defense\": 60, \"SpecialA\": 40, \"SpecialD\": 75, \"Speed\": 50, \"Generation\": 3}, {\"#\": 334, \"Name\": \"Altaria\", \"Type 1\": \"Dragon\", \"Type 2\": \"Flying\", \"Total\": 490, \"HP\": 75, \"Attack\": 70, \"Defense\": 90, \"SpecialA\": 70, \"SpecialD\": 105, \"Speed\": 80, \"Generation\": 3}, {\"#\": 334, \"Name\": \"AltariaMega Altaria\", \"Type 1\": \"Dragon\", \"Type 2\": \"Fairy\", \"Total\": 590, \"HP\": 75, \"Attack\": 110, \"Defense\": 110, \"SpecialA\": 110, \"SpecialD\": 105, \"Speed\": 80, \"Generation\": 3}, {\"#\": 337, \"Name\": \"Lunatone\", \"Type 1\": \"Rock\", \"Type 2\": \"Psychic\", \"Total\": 440, \"HP\": 70, \"Attack\": 55, \"Defense\": 65, \"SpecialA\": 95, \"SpecialD\": 85, \"Speed\": 70, \"Generation\": 3}, {\"#\": 338, \"Name\": \"Solrock\", \"Type 1\": \"Rock\", \"Type 2\": \"Psychic\", \"Total\": 440, \"HP\": 70, \"Attack\": 95, \"Defense\": 85, \"SpecialA\": 55, \"SpecialD\": 65, \"Speed\": 70, \"Generation\": 3}, {\"#\": 339, \"Name\": \"Barboach\", \"Type 1\": \"Water\", \"Type 2\": \"Ground\", \"Total\": 288, \"HP\": 50, \"Attack\": 48, \"Defense\": 43, \"SpecialA\": 46, \"SpecialD\": 41, \"Speed\": 60, \"Generation\": 3}, {\"#\": 340, \"Name\": \"Whiscash\", \"Type 1\": \"Water\", \"Type 2\": \"Ground\", \"Total\": 468, \"HP\": 110, \"Attack\": 78, \"Defense\": 73, \"SpecialA\": 76, \"SpecialD\": 71, \"Speed\": 60, \"Generation\": 3}, {\"#\": 342, \"Name\": \"Crawdaunt\", \"Type 1\": \"Water\", \"Type 2\": \"Dark\", \"Total\": 468, \"HP\": 63, \"Attack\": 120, \"Defense\": 85, \"SpecialA\": 90, \"SpecialD\": 55, \"Speed\": 55, \"Generation\": 3}, {\"#\": 343, \"Name\": \"Baltoy\", \"Type 1\": \"Ground\", \"Type 2\": \"Psychic\", \"Total\": 300, \"HP\": 40, \"Attack\": 40, \"Defense\": 55, \"SpecialA\": 40, \"SpecialD\": 70, \"Speed\": 55, \"Generation\": 3}, {\"#\": 344, \"Name\": \"Claydol\", \"Type 1\": \"Ground\", \"Type 2\": \"Psychic\", \"Total\": 500, \"HP\": 60, \"Attack\": 70, \"Defense\": 105, \"SpecialA\": 70, \"SpecialD\": 120, \"Speed\": 75, \"Generation\": 3}, {\"#\": 345, \"Name\": \"Lileep\", \"Type 1\": \"Rock\", \"Type 2\": \"Grass\", \"Total\": 355, \"HP\": 66, \"Attack\": 41, \"Defense\": 77, \"SpecialA\": 61, \"SpecialD\": 87, \"Speed\": 23, \"Generation\": 3}, {\"#\": 346, \"Name\": \"Cradily\", \"Type 1\": \"Rock\", \"Type 2\": \"Grass\", \"Total\": 495, \"HP\": 86, \"Attack\": 81, \"Defense\": 97, \"SpecialA\": 81, \"SpecialD\": 107, \"Speed\": 43, \"Generation\": 3}, {\"#\": 347, \"Name\": \"Anorith\", \"Type 1\": \"Rock\", \"Type 2\": \"Bug\", \"Total\": 355, \"HP\": 45, \"Attack\": 95, \"Defense\": 50, \"SpecialA\": 40, \"SpecialD\": 50, \"Speed\": 75, \"Generation\": 3}, {\"#\": 348, \"Name\": \"Armaldo\", \"Type 1\": \"Rock\", \"Type 2\": \"Bug\", \"Total\": 495, \"HP\": 75, \"Attack\": 125, \"Defense\": 100, \"SpecialA\": 70, \"SpecialD\": 80, \"Speed\": 45, \"Generation\": 3}, {\"#\": 357, \"Name\": \"Tropius\", \"Type 1\": \"Grass\", \"Type 2\": \"Flying\", \"Total\": 460, \"HP\": 99, \"Attack\": 68, \"Defense\": 83, \"SpecialA\": 72, \"SpecialD\": 87, \"Speed\": 51, \"Generation\": 3}, {\"#\": 363, \"Name\": \"Spheal\", \"Type 1\": \"Ice\", \"Type 2\": \"Water\", \"Total\": 290, \"HP\": 70, \"Attack\": 40, \"Defense\": 50, \"SpecialA\": 55, \"SpecialD\": 50, \"Speed\": 25, \"Generation\": 3}, {\"#\": 364, \"Name\": \"Sealeo\", \"Type 1\": \"Ice\", \"Type 2\": \"Water\", \"Total\": 410, \"HP\": 90, \"Attack\": 60, \"Defense\": 70, \"SpecialA\": 75, \"SpecialD\": 70, \"Speed\": 45, \"Generation\": 3}, {\"#\": 365, \"Name\": \"Walrein\", \"Type 1\": \"Ice\", \"Type 2\": \"Water\", \"Total\": 530, \"HP\": 110, \"Attack\": 80, \"Defense\": 90, \"SpecialA\": 95, \"SpecialD\": 90, \"Speed\": 65, \"Generation\": 3}, {\"#\": 369, \"Name\": \"Relicanth\", \"Type 1\": \"Water\", \"Type 2\": \"Rock\", \"Total\": 485, \"HP\": 100, \"Attack\": 90, \"Defense\": 130, \"SpecialA\": 45, \"SpecialD\": 65, \"Speed\": 55, \"Generation\": 3}, {\"#\": 373, \"Name\": \"Salamence\", \"Type 1\": \"Dragon\", \"Type 2\": \"Flying\", \"Total\": 600, \"HP\": 95, \"Attack\": 135, \"Defense\": 80, \"SpecialA\": 110, \"SpecialD\": 80, \"Speed\": 100, \"Generation\": 3}, {\"#\": 373, \"Name\": \"SalamenceMega Salamence\", \"Type 1\": \"Dragon\", \"Type 2\": \"Flying\", \"Total\": 700, \"HP\": 95, \"Attack\": 145, \"Defense\": 130, \"SpecialA\": 120, \"SpecialD\": 90, \"Speed\": 120, \"Generation\": 3}, {\"#\": 374, \"Name\": \"Beldum\", \"Type 1\": \"Steel\", \"Type 2\": \"Psychic\", \"Total\": 300, \"HP\": 40, \"Attack\": 55, \"Defense\": 80, \"SpecialA\": 35, \"SpecialD\": 60, \"Speed\": 30, \"Generation\": 3}, {\"#\": 375, \"Name\": \"Metang\", \"Type 1\": \"Steel\", \"Type 2\": \"Psychic\", \"Total\": 420, \"HP\": 60, \"Attack\": 75, \"Defense\": 100, \"SpecialA\": 55, \"SpecialD\": 80, \"Speed\": 50, \"Generation\": 3}, {\"#\": 376, \"Name\": \"Metagross\", \"Type 1\": \"Steel\", \"Type 2\": \"Psychic\", \"Total\": 600, \"HP\": 80, \"Attack\": 135, \"Defense\": 130, \"SpecialA\": 95, \"SpecialD\": 90, \"Speed\": 70, \"Generation\": 3}, {\"#\": 376, \"Name\": \"MetagrossMega Metagross\", \"Type 1\": \"Steel\", \"Type 2\": \"Psychic\", \"Total\": 700, \"HP\": 80, \"Attack\": 145, \"Defense\": 150, \"SpecialA\": 105, \"SpecialD\": 110, \"Speed\": 110, \"Generation\": 3}, {\"#\": 389, \"Name\": \"Torterra\", \"Type 1\": \"Grass\", \"Type 2\": \"Ground\", \"Total\": 525, \"HP\": 95, \"Attack\": 109, \"Defense\": 105, \"SpecialA\": 75, \"SpecialD\": 85, \"Speed\": 56, \"Generation\": 4}, {\"#\": 391, \"Name\": \"Monferno\", \"Type 1\": \"Fire\", \"Type 2\": \"Fighting\", \"Total\": 405, \"HP\": 64, \"Attack\": 78, \"Defense\": 52, \"SpecialA\": 78, \"SpecialD\": 52, \"Speed\": 81, \"Generation\": 4}, {\"#\": 392, \"Name\": \"Infernape\", \"Type 1\": \"Fire\", \"Type 2\": \"Fighting\", \"Total\": 534, \"HP\": 76, \"Attack\": 104, \"Defense\": 71, \"SpecialA\": 104, \"SpecialD\": 71, \"Speed\": 108, \"Generation\": 4}, {\"#\": 395, \"Name\": \"Empoleon\", \"Type 1\": \"Water\", \"Type 2\": \"Steel\", \"Total\": 530, \"HP\": 84, \"Attack\": 86, \"Defense\": 88, \"SpecialA\": 111, \"SpecialD\": 101, \"Speed\": 60, \"Generation\": 4}, {\"#\": 396, \"Name\": \"Starly\", \"Type 1\": \"Normal\", \"Type 2\": \"Flying\", \"Total\": 245, \"HP\": 40, \"Attack\": 55, \"Defense\": 30, \"SpecialA\": 30, \"SpecialD\": 30, \"Speed\": 60, \"Generation\": 4}, {\"#\": 397, \"Name\": \"Staravia\", \"Type 1\": \"Normal\", \"Type 2\": \"Flying\", \"Total\": 340, \"HP\": 55, \"Attack\": 75, \"Defense\": 50, \"SpecialA\": 40, \"SpecialD\": 40, \"Speed\": 80, \"Generation\": 4}, {\"#\": 398, \"Name\": \"Staraptor\", \"Type 1\": \"Normal\", \"Type 2\": \"Flying\", \"Total\": 485, \"HP\": 85, \"Attack\": 120, \"Defense\": 70, \"SpecialA\": 50, \"SpecialD\": 60, \"Speed\": 100, \"Generation\": 4}, {\"#\": 400, \"Name\": \"Bibarel\", \"Type 1\": \"Normal\", \"Type 2\": \"Water\", \"Total\": 410, \"HP\": 79, \"Attack\": 85, \"Defense\": 60, \"SpecialA\": 55, \"SpecialD\": 60, \"Speed\": 71, \"Generation\": 4}, {\"#\": 406, \"Name\": \"Budew\", \"Type 1\": \"Grass\", \"Type 2\": \"Poison\", \"Total\": 280, \"HP\": 40, \"Attack\": 30, \"Defense\": 35, \"SpecialA\": 50, \"SpecialD\": 70, \"Speed\": 55, \"Generation\": 4}, {\"#\": 407, \"Name\": \"Roserade\", \"Type 1\": \"Grass\", \"Type 2\": \"Poison\", \"Total\": 515, \"HP\": 60, \"Attack\": 70, \"Defense\": 65, \"SpecialA\": 125, \"SpecialD\": 105, \"Speed\": 90, \"Generation\": 4}, {\"#\": 410, \"Name\": \"Shieldon\", \"Type 1\": \"Rock\", \"Type 2\": \"Steel\", \"Total\": 350, \"HP\": 30, \"Attack\": 42, \"Defense\": 118, \"SpecialA\": 42, \"SpecialD\": 88, \"Speed\": 30, \"Generation\": 4}, {\"#\": 411, \"Name\": \"Bastiodon\", \"Type 1\": \"Rock\", \"Type 2\": \"Steel\", \"Total\": 495, \"HP\": 60, \"Attack\": 52, \"Defense\": 168, \"SpecialA\": 47, \"SpecialD\": 138, \"Speed\": 30, \"Generation\": 4}, {\"#\": 413, \"Name\": \"WormadamPlant Cloak\", \"Type 1\": \"Bug\", \"Type 2\": \"Grass\", \"Total\": 424, \"HP\": 60, \"Attack\": 59, \"Defense\": 85, \"SpecialA\": 79, \"SpecialD\": 105, \"Speed\": 36, \"Generation\": 4}, {\"#\": 413, \"Name\": \"WormadamSandy Cloak\", \"Type 1\": \"Bug\", \"Type 2\": \"Ground\", \"Total\": 424, \"HP\": 60, \"Attack\": 79, \"Defense\": 105, \"SpecialA\": 59, \"SpecialD\": 85, \"Speed\": 36, \"Generation\": 4}, {\"#\": 413, \"Name\": \"WormadamTrash Cloak\", \"Type 1\": \"Bug\", \"Type 2\": \"Steel\", \"Total\": 424, \"HP\": 60, \"Attack\": 69, \"Defense\": 95, \"SpecialA\": 69, \"SpecialD\": 95, \"Speed\": 36, \"Generation\": 4}, {\"#\": 414, \"Name\": \"Mothim\", \"Type 1\": \"Bug\", \"Type 2\": \"Flying\", \"Total\": 424, \"HP\": 70, \"Attack\": 94, \"Defense\": 50, \"SpecialA\": 94, \"SpecialD\": 50, \"Speed\": 66, \"Generation\": 4}, {\"#\": 415, \"Name\": \"Combee\", \"Type 1\": \"Bug\", \"Type 2\": \"Flying\", \"Total\": 244, \"HP\": 30, \"Attack\": 30, \"Defense\": 42, \"SpecialA\": 30, \"SpecialD\": 42, \"Speed\": 70, \"Generation\": 4}, {\"#\": 416, \"Name\": \"Vespiquen\", \"Type 1\": \"Bug\", \"Type 2\": \"Flying\", \"Total\": 474, \"HP\": 70, \"Attack\": 80, \"Defense\": 102, \"SpecialA\": 80, \"SpecialD\": 102, \"Speed\": 40, \"Generation\": 4}, {\"#\": 423, \"Name\": \"Gastrodon\", \"Type 1\": \"Water\", \"Type 2\": \"Ground\", \"Total\": 475, \"HP\": 111, \"Attack\": 83, \"Defense\": 68, \"SpecialA\": 92, \"SpecialD\": 82, \"Speed\": 39, \"Generation\": 4}, {\"#\": 425, \"Name\": \"Drifloon\", \"Type 1\": \"Ghost\", \"Type 2\": \"Flying\", \"Total\": 348, \"HP\": 90, \"Attack\": 50, \"Defense\": 34, \"SpecialA\": 60, \"SpecialD\": 44, \"Speed\": 70, \"Generation\": 4}, {\"#\": 426, \"Name\": \"Drifblim\", \"Type 1\": \"Ghost\", \"Type 2\": \"Flying\", \"Total\": 498, \"HP\": 150, \"Attack\": 80, \"Defense\": 44, \"SpecialA\": 90, \"SpecialD\": 54, \"Speed\": 80, \"Generation\": 4}, {\"#\": 428, \"Name\": \"LopunnyMega Lopunny\", \"Type 1\": \"Normal\", \"Type 2\": \"Fighting\", \"Total\": 580, \"HP\": 65, \"Attack\": 136, \"Defense\": 94, \"SpecialA\": 54, \"SpecialD\": 96, \"Speed\": 135, \"Generation\": 4}, {\"#\": 430, \"Name\": \"Honchkrow\", \"Type 1\": \"Dark\", \"Type 2\": \"Flying\", \"Total\": 505, \"HP\": 100, \"Attack\": 125, \"Defense\": 52, \"SpecialA\": 105, \"SpecialD\": 52, \"Speed\": 71, \"Generation\": 4}, {\"#\": 434, \"Name\": \"Stunky\", \"Type 1\": \"Poison\", \"Type 2\": \"Dark\", \"Total\": 329, \"HP\": 63, \"Attack\": 63, \"Defense\": 47, \"SpecialA\": 41, \"SpecialD\": 41, \"Speed\": 74, \"Generation\": 4}, {\"#\": 435, \"Name\": \"Skuntank\", \"Type 1\": \"Poison\", \"Type 2\": \"Dark\", \"Total\": 479, \"HP\": 103, \"Attack\": 93, \"Defense\": 67, \"SpecialA\": 71, \"SpecialD\": 61, \"Speed\": 84, \"Generation\": 4}, {\"#\": 436, \"Name\": \"Bronzor\", \"Type 1\": \"Steel\", \"Type 2\": \"Psychic\", \"Total\": 300, \"HP\": 57, \"Attack\": 24, \"Defense\": 86, \"SpecialA\": 24, \"SpecialD\": 86, \"Speed\": 23, \"Generation\": 4}, {\"#\": 437, \"Name\": \"Bronzong\", \"Type 1\": \"Steel\", \"Type 2\": \"Psychic\", \"Total\": 500, \"HP\": 67, \"Attack\": 89, \"Defense\": 116, \"SpecialA\": 79, \"SpecialD\": 116, \"Speed\": 33, \"Generation\": 4}, {\"#\": 439, \"Name\": \"Mime Jr.\", \"Type 1\": \"Psychic\", \"Type 2\": \"Fairy\", \"Total\": 310, \"HP\": 20, \"Attack\": 25, \"Defense\": 45, \"SpecialA\": 70, \"SpecialD\": 90, \"Speed\": 60, \"Generation\": 4}, {\"#\": 441, \"Name\": \"Chatot\", \"Type 1\": \"Normal\", \"Type 2\": \"Flying\", \"Total\": 411, \"HP\": 76, \"Attack\": 65, \"Defense\": 45, \"SpecialA\": 92, \"SpecialD\": 42, \"Speed\": 91, \"Generation\": 4}, {\"#\": 442, \"Name\": \"Spiritomb\", \"Type 1\": \"Ghost\", \"Type 2\": \"Dark\", \"Total\": 485, \"HP\": 50, \"Attack\": 92, \"Defense\": 108, \"SpecialA\": 92, \"SpecialD\": 108, \"Speed\": 35, \"Generation\": 4}, {\"#\": 443, \"Name\": \"Gible\", \"Type 1\": \"Dragon\", \"Type 2\": \"Ground\", \"Total\": 300, \"HP\": 58, \"Attack\": 70, \"Defense\": 45, \"SpecialA\": 40, \"SpecialD\": 45, \"Speed\": 42, \"Generation\": 4}, {\"#\": 444, \"Name\": \"Gabite\", \"Type 1\": \"Dragon\", \"Type 2\": \"Ground\", \"Total\": 410, \"HP\": 68, \"Attack\": 90, \"Defense\": 65, \"SpecialA\": 50, \"SpecialD\": 55, \"Speed\": 82, \"Generation\": 4}, {\"#\": 445, \"Name\": \"Garchomp\", \"Type 1\": \"Dragon\", \"Type 2\": \"Ground\", \"Total\": 600, \"HP\": 108, \"Attack\": 130, \"Defense\": 95, \"SpecialA\": 80, \"SpecialD\": 85, \"Speed\": 102, \"Generation\": 4}, {\"#\": 445, \"Name\": \"GarchompMega Garchomp\", \"Type 1\": \"Dragon\", \"Type 2\": \"Ground\", \"Total\": 700, \"HP\": 108, \"Attack\": 170, \"Defense\": 115, \"SpecialA\": 120, \"SpecialD\": 95, \"Speed\": 92, \"Generation\": 4}, {\"#\": 448, \"Name\": \"Lucario\", \"Type 1\": \"Fighting\", \"Type 2\": \"Steel\", \"Total\": 525, \"HP\": 70, \"Attack\": 110, \"Defense\": 70, \"SpecialA\": 115, \"SpecialD\": 70, \"Speed\": 90, \"Generation\": 4}, {\"#\": 448, \"Name\": \"LucarioMega Lucario\", \"Type 1\": \"Fighting\", \"Type 2\": \"Steel\", \"Total\": 625, \"HP\": 70, \"Attack\": 145, \"Defense\": 88, \"SpecialA\": 140, \"SpecialD\": 70, \"Speed\": 112, \"Generation\": 4}, {\"#\": 451, \"Name\": \"Skorupi\", \"Type 1\": \"Poison\", \"Type 2\": \"Bug\", \"Total\": 330, \"HP\": 40, \"Attack\": 50, \"Defense\": 90, \"SpecialA\": 30, \"SpecialD\": 55, \"Speed\": 65, \"Generation\": 4}, {\"#\": 452, \"Name\": \"Drapion\", \"Type 1\": \"Poison\", \"Type 2\": \"Dark\", \"Total\": 500, \"HP\": 70, \"Attack\": 90, \"Defense\": 110, \"SpecialA\": 60, \"SpecialD\": 75, \"Speed\": 95, \"Generation\": 4}, {\"#\": 453, \"Name\": \"Croagunk\", \"Type 1\": \"Poison\", \"Type 2\": \"Fighting\", \"Total\": 300, \"HP\": 48, \"Attack\": 61, \"Defense\": 40, \"SpecialA\": 61, \"SpecialD\": 40, \"Speed\": 50, \"Generation\": 4}, {\"#\": 454, \"Name\": \"Toxicroak\", \"Type 1\": \"Poison\", \"Type 2\": \"Fighting\", \"Total\": 490, \"HP\": 83, \"Attack\": 106, \"Defense\": 65, \"SpecialA\": 86, \"SpecialD\": 65, \"Speed\": 85, \"Generation\": 4}, {\"#\": 458, \"Name\": \"Mantyke\", \"Type 1\": \"Water\", \"Type 2\": \"Flying\", \"Total\": 345, \"HP\": 45, \"Attack\": 20, \"Defense\": 50, \"SpecialA\": 60, \"SpecialD\": 120, \"Speed\": 50, \"Generation\": 4}, {\"#\": 459, \"Name\": \"Snover\", \"Type 1\": \"Grass\", \"Type 2\": \"Ice\", \"Total\": 334, \"HP\": 60, \"Attack\": 62, \"Defense\": 50, \"SpecialA\": 62, \"SpecialD\": 60, \"Speed\": 40, \"Generation\": 4}, {\"#\": 460, \"Name\": \"Abomasnow\", \"Type 1\": \"Grass\", \"Type 2\": \"Ice\", \"Total\": 494, \"HP\": 90, \"Attack\": 92, \"Defense\": 75, \"SpecialA\": 92, \"SpecialD\": 85, \"Speed\": 60, \"Generation\": 4}, {\"#\": 460, \"Name\": \"AbomasnowMega Abomasnow\", \"Type 1\": \"Grass\", \"Type 2\": \"Ice\", \"Total\": 594, \"HP\": 90, \"Attack\": 132, \"Defense\": 105, \"SpecialA\": 132, \"SpecialD\": 105, \"Speed\": 30, \"Generation\": 4}, {\"#\": 461, \"Name\": \"Weavile\", \"Type 1\": \"Dark\", \"Type 2\": \"Ice\", \"Total\": 510, \"HP\": 70, \"Attack\": 120, \"Defense\": 65, \"SpecialA\": 45, \"SpecialD\": 85, \"Speed\": 125, \"Generation\": 4}, {\"#\": 462, \"Name\": \"Magnezone\", \"Type 1\": \"Electric\", \"Type 2\": \"Steel\", \"Total\": 535, \"HP\": 70, \"Attack\": 70, \"Defense\": 115, \"SpecialA\": 130, \"SpecialD\": 90, \"Speed\": 60, \"Generation\": 4}, {\"#\": 464, \"Name\": \"Rhyperior\", \"Type 1\": \"Ground\", \"Type 2\": \"Rock\", \"Total\": 535, \"HP\": 115, \"Attack\": 140, \"Defense\": 130, \"SpecialA\": 55, \"SpecialD\": 55, \"Speed\": 40, \"Generation\": 4}, {\"#\": 468, \"Name\": \"Togekiss\", \"Type 1\": \"Fairy\", \"Type 2\": \"Flying\", \"Total\": 545, \"HP\": 85, \"Attack\": 50, \"Defense\": 95, \"SpecialA\": 120, \"SpecialD\": 115, \"Speed\": 80, \"Generation\": 4}, {\"#\": 469, \"Name\": \"Yanmega\", \"Type 1\": \"Bug\", \"Type 2\": \"Flying\", \"Total\": 515, \"HP\": 86, \"Attack\": 76, \"Defense\": 86, \"SpecialA\": 116, \"SpecialD\": 56, \"Speed\": 95, \"Generation\": 4}, {\"#\": 472, \"Name\": \"Gliscor\", \"Type 1\": \"Ground\", \"Type 2\": \"Flying\", \"Total\": 510, \"HP\": 75, \"Attack\": 95, \"Defense\": 125, \"SpecialA\": 45, \"SpecialD\": 75, \"Speed\": 95, \"Generation\": 4}, {\"#\": 473, \"Name\": \"Mamoswine\", \"Type 1\": \"Ice\", \"Type 2\": \"Ground\", \"Total\": 530, \"HP\": 110, \"Attack\": 130, \"Defense\": 80, \"SpecialA\": 70, \"SpecialD\": 60, \"Speed\": 80, \"Generation\": 4}, {\"#\": 475, \"Name\": \"Gallade\", \"Type 1\": \"Psychic\", \"Type 2\": \"Fighting\", \"Total\": 518, \"HP\": 68, \"Attack\": 125, \"Defense\": 65, \"SpecialA\": 65, \"SpecialD\": 115, \"Speed\": 80, \"Generation\": 4}, {\"#\": 475, \"Name\": \"GalladeMega Gallade\", \"Type 1\": \"Psychic\", \"Type 2\": \"Fighting\", \"Total\": 618, \"HP\": 68, \"Attack\": 165, \"Defense\": 95, \"SpecialA\": 65, \"SpecialD\": 115, \"Speed\": 110, \"Generation\": 4}, {\"#\": 476, \"Name\": \"Probopass\", \"Type 1\": \"Rock\", \"Type 2\": \"Steel\", \"Total\": 525, \"HP\": 60, \"Attack\": 55, \"Defense\": 145, \"SpecialA\": 75, \"SpecialD\": 150, \"Speed\": 40, \"Generation\": 4}, {\"#\": 478, \"Name\": \"Froslass\", \"Type 1\": \"Ice\", \"Type 2\": \"Ghost\", \"Total\": 480, \"HP\": 70, \"Attack\": 80, \"Defense\": 70, \"SpecialA\": 80, \"SpecialD\": 70, \"Speed\": 110, \"Generation\": 4}, {\"#\": 479, \"Name\": \"Rotom\", \"Type 1\": \"Electric\", \"Type 2\": \"Ghost\", \"Total\": 440, \"HP\": 50, \"Attack\": 50, \"Defense\": 77, \"SpecialA\": 95, \"SpecialD\": 77, \"Speed\": 91, \"Generation\": 4}, {\"#\": 479, \"Name\": \"RotomHeat Rotom\", \"Type 1\": \"Electric\", \"Type 2\": \"Fire\", \"Total\": 520, \"HP\": 50, \"Attack\": 65, \"Defense\": 107, \"SpecialA\": 105, \"SpecialD\": 107, \"Speed\": 86, \"Generation\": 4}, {\"#\": 479, \"Name\": \"RotomWash Rotom\", \"Type 1\": \"Electric\", \"Type 2\": \"Water\", \"Total\": 520, \"HP\": 50, \"Attack\": 65, \"Defense\": 107, \"SpecialA\": 105, \"SpecialD\": 107, \"Speed\": 86, \"Generation\": 4}, {\"#\": 479, \"Name\": \"RotomFrost Rotom\", \"Type 1\": \"Electric\", \"Type 2\": \"Ice\", \"Total\": 520, \"HP\": 50, \"Attack\": 65, \"Defense\": 107, \"SpecialA\": 105, \"SpecialD\": 107, \"Speed\": 86, \"Generation\": 4}, {\"#\": 479, \"Name\": \"RotomFan Rotom\", \"Type 1\": \"Electric\", \"Type 2\": \"Flying\", \"Total\": 520, \"HP\": 50, \"Attack\": 65, \"Defense\": 107, \"SpecialA\": 105, \"SpecialD\": 107, \"Speed\": 86, \"Generation\": 4}, {\"#\": 479, \"Name\": \"RotomMow Rotom\", \"Type 1\": \"Electric\", \"Type 2\": \"Grass\", \"Total\": 520, \"HP\": 50, \"Attack\": 65, \"Defense\": 107, \"SpecialA\": 105, \"SpecialD\": 107, \"Speed\": 86, \"Generation\": 4}, {\"#\": 499, \"Name\": \"Pignite\", \"Type 1\": \"Fire\", \"Type 2\": \"Fighting\", \"Total\": 418, \"HP\": 90, \"Attack\": 93, \"Defense\": 55, \"SpecialA\": 70, \"SpecialD\": 55, \"Speed\": 55, \"Generation\": 5}, {\"#\": 500, \"Name\": \"Emboar\", \"Type 1\": \"Fire\", \"Type 2\": \"Fighting\", \"Total\": 528, \"HP\": 110, \"Attack\": 123, \"Defense\": 65, \"SpecialA\": 100, \"SpecialD\": 65, \"Speed\": 65, \"Generation\": 5}, {\"#\": 519, \"Name\": \"Pidove\", \"Type 1\": \"Normal\", \"Type 2\": \"Flying\", \"Total\": 264, \"HP\": 50, \"Attack\": 55, \"Defense\": 50, \"SpecialA\": 36, \"SpecialD\": 30, \"Speed\": 43, \"Generation\": 5}, {\"#\": 520, \"Name\": \"Tranquill\", \"Type 1\": \"Normal\", \"Type 2\": \"Flying\", \"Total\": 358, \"HP\": 62, \"Attack\": 77, \"Defense\": 62, \"SpecialA\": 50, \"SpecialD\": 42, \"Speed\": 65, \"Generation\": 5}, {\"#\": 521, \"Name\": \"Unfezant\", \"Type 1\": \"Normal\", \"Type 2\": \"Flying\", \"Total\": 488, \"HP\": 80, \"Attack\": 115, \"Defense\": 80, \"SpecialA\": 65, \"SpecialD\": 55, \"Speed\": 93, \"Generation\": 5}, {\"#\": 527, \"Name\": \"Woobat\", \"Type 1\": \"Psychic\", \"Type 2\": \"Flying\", \"Total\": 313, \"HP\": 55, \"Attack\": 45, \"Defense\": 43, \"SpecialA\": 55, \"SpecialD\": 43, \"Speed\": 72, \"Generation\": 5}, {\"#\": 528, \"Name\": \"Swoobat\", \"Type 1\": \"Psychic\", \"Type 2\": \"Flying\", \"Total\": 425, \"HP\": 67, \"Attack\": 57, \"Defense\": 55, \"SpecialA\": 77, \"SpecialD\": 55, \"Speed\": 114, \"Generation\": 5}, {\"#\": 530, \"Name\": \"Excadrill\", \"Type 1\": \"Ground\", \"Type 2\": \"Steel\", \"Total\": 508, \"HP\": 110, \"Attack\": 135, \"Defense\": 60, \"SpecialA\": 50, \"SpecialD\": 65, \"Speed\": 88, \"Generation\": 5}, {\"#\": 531, \"Name\": \"AudinoMega Audino\", \"Type 1\": \"Normal\", \"Type 2\": \"Fairy\", \"Total\": 545, \"HP\": 103, \"Attack\": 60, \"Defense\": 126, \"SpecialA\": 80, \"SpecialD\": 126, \"Speed\": 50, \"Generation\": 5}, {\"#\": 536, \"Name\": \"Palpitoad\", \"Type 1\": \"Water\", \"Type 2\": \"Ground\", \"Total\": 384, \"HP\": 75, \"Attack\": 65, \"Defense\": 55, \"SpecialA\": 65, \"SpecialD\": 55, \"Speed\": 69, \"Generation\": 5}, {\"#\": 537, \"Name\": \"Seismitoad\", \"Type 1\": \"Water\", \"Type 2\": \"Ground\", \"Total\": 509, \"HP\": 105, \"Attack\": 95, \"Defense\": 75, \"SpecialA\": 85, \"SpecialD\": 75, \"Speed\": 74, \"Generation\": 5}, {\"#\": 540, \"Name\": \"Sewaddle\", \"Type 1\": \"Bug\", \"Type 2\": \"Grass\", \"Total\": 310, \"HP\": 45, \"Attack\": 53, \"Defense\": 70, \"SpecialA\": 40, \"SpecialD\": 60, \"Speed\": 42, \"Generation\": 5}, {\"#\": 541, \"Name\": \"Swadloon\", \"Type 1\": \"Bug\", \"Type 2\": \"Grass\", \"Total\": 380, \"HP\": 55, \"Attack\": 63, \"Defense\": 90, \"SpecialA\": 50, \"SpecialD\": 80, \"Speed\": 42, \"Generation\": 5}, {\"#\": 542, \"Name\": \"Leavanny\", \"Type 1\": \"Bug\", \"Type 2\": \"Grass\", \"Total\": 500, \"HP\": 75, \"Attack\": 103, \"Defense\": 80, \"SpecialA\": 70, \"SpecialD\": 80, \"Speed\": 92, \"Generation\": 5}, {\"#\": 543, \"Name\": \"Venipede\", \"Type 1\": \"Bug\", \"Type 2\": \"Poison\", \"Total\": 260, \"HP\": 30, \"Attack\": 45, \"Defense\": 59, \"SpecialA\": 30, \"SpecialD\": 39, \"Speed\": 57, \"Generation\": 5}, {\"#\": 544, \"Name\": \"Whirlipede\", \"Type 1\": \"Bug\", \"Type 2\": \"Poison\", \"Total\": 360, \"HP\": 40, \"Attack\": 55, \"Defense\": 99, \"SpecialA\": 40, \"SpecialD\": 79, \"Speed\": 47, \"Generation\": 5}, {\"#\": 545, \"Name\": \"Scolipede\", \"Type 1\": \"Bug\", \"Type 2\": \"Poison\", \"Total\": 485, \"HP\": 60, \"Attack\": 100, \"Defense\": 89, \"SpecialA\": 55, \"SpecialD\": 69, \"Speed\": 112, \"Generation\": 5}, {\"#\": 546, \"Name\": \"Cottonee\", \"Type 1\": \"Grass\", \"Type 2\": \"Fairy\", \"Total\": 280, \"HP\": 40, \"Attack\": 27, \"Defense\": 60, \"SpecialA\": 37, \"SpecialD\": 50, \"Speed\": 66, \"Generation\": 5}, {\"#\": 547, \"Name\": \"Whimsicott\", \"Type 1\": \"Grass\", \"Type 2\": \"Fairy\", \"Total\": 480, \"HP\": 60, \"Attack\": 67, \"Defense\": 85, \"SpecialA\": 77, \"SpecialD\": 75, \"Speed\": 116, \"Generation\": 5}, {\"#\": 551, \"Name\": \"Sandile\", \"Type 1\": \"Ground\", \"Type 2\": \"Dark\", \"Total\": 292, \"HP\": 50, \"Attack\": 72, \"Defense\": 35, \"SpecialA\": 35, \"SpecialD\": 35, \"Speed\": 65, \"Generation\": 5}, {\"#\": 552, \"Name\": \"Krokorok\", \"Type 1\": \"Ground\", \"Type 2\": \"Dark\", \"Total\": 351, \"HP\": 60, \"Attack\": 82, \"Defense\": 45, \"SpecialA\": 45, \"SpecialD\": 45, \"Speed\": 74, \"Generation\": 5}, {\"#\": 553, \"Name\": \"Krookodile\", \"Type 1\": \"Ground\", \"Type 2\": \"Dark\", \"Total\": 519, \"HP\": 95, \"Attack\": 117, \"Defense\": 80, \"SpecialA\": 65, \"SpecialD\": 70, \"Speed\": 92, \"Generation\": 5}, {\"#\": 555, \"Name\": \"DarmanitanZen Mode\", \"Type 1\": \"Fire\", \"Type 2\": \"Psychic\", \"Total\": 540, \"HP\": 105, \"Attack\": 30, \"Defense\": 105, \"SpecialA\": 140, \"SpecialD\": 105, \"Speed\": 55, \"Generation\": 5}, {\"#\": 557, \"Name\": \"Dwebble\", \"Type 1\": \"Bug\", \"Type 2\": \"Rock\", \"Total\": 325, \"HP\": 50, \"Attack\": 65, \"Defense\": 85, \"SpecialA\": 35, \"SpecialD\": 35, \"Speed\": 55, \"Generation\": 5}, {\"#\": 558, \"Name\": \"Crustle\", \"Type 1\": \"Bug\", \"Type 2\": \"Rock\", \"Total\": 475, \"HP\": 70, \"Attack\": 95, \"Defense\": 125, \"SpecialA\": 65, \"SpecialD\": 75, \"Speed\": 45, \"Generation\": 5}, {\"#\": 559, \"Name\": \"Scraggy\", \"Type 1\": \"Dark\", \"Type 2\": \"Fighting\", \"Total\": 348, \"HP\": 50, \"Attack\": 75, \"Defense\": 70, \"SpecialA\": 35, \"SpecialD\": 70, \"Speed\": 48, \"Generation\": 5}, {\"#\": 560, \"Name\": \"Scrafty\", \"Type 1\": \"Dark\", \"Type 2\": \"Fighting\", \"Total\": 488, \"HP\": 65, \"Attack\": 90, \"Defense\": 115, \"SpecialA\": 45, \"SpecialD\": 115, \"Speed\": 58, \"Generation\": 5}, {\"#\": 561, \"Name\": \"Sigilyph\", \"Type 1\": \"Psychic\", \"Type 2\": \"Flying\", \"Total\": 490, \"HP\": 72, \"Attack\": 58, \"Defense\": 80, \"SpecialA\": 103, \"SpecialD\": 80, \"Speed\": 97, \"Generation\": 5}, {\"#\": 564, \"Name\": \"Tirtouga\", \"Type 1\": \"Water\", \"Type 2\": \"Rock\", \"Total\": 355, \"HP\": 54, \"Attack\": 78, \"Defense\": 103, \"SpecialA\": 53, \"SpecialD\": 45, \"Speed\": 22, \"Generation\": 5}, {\"#\": 565, \"Name\": \"Carracosta\", \"Type 1\": \"Water\", \"Type 2\": \"Rock\", \"Total\": 495, \"HP\": 74, \"Attack\": 108, \"Defense\": 133, \"SpecialA\": 83, \"SpecialD\": 65, \"Speed\": 32, \"Generation\": 5}, {\"#\": 566, \"Name\": \"Archen\", \"Type 1\": \"Rock\", \"Type 2\": \"Flying\", \"Total\": 401, \"HP\": 55, \"Attack\": 112, \"Defense\": 45, \"SpecialA\": 74, \"SpecialD\": 45, \"Speed\": 70, \"Generation\": 5}, {\"#\": 567, \"Name\": \"Archeops\", \"Type 1\": \"Rock\", \"Type 2\": \"Flying\", \"Total\": 567, \"HP\": 75, \"Attack\": 140, \"Defense\": 65, \"SpecialA\": 112, \"SpecialD\": 65, \"Speed\": 110, \"Generation\": 5}, {\"#\": 580, \"Name\": \"Ducklett\", \"Type 1\": \"Water\", \"Type 2\": \"Flying\", \"Total\": 305, \"HP\": 62, \"Attack\": 44, \"Defense\": 50, \"SpecialA\": 44, \"SpecialD\": 50, \"Speed\": 55, \"Generation\": 5}, {\"#\": 581, \"Name\": \"Swanna\", \"Type 1\": \"Water\", \"Type 2\": \"Flying\", \"Total\": 473, \"HP\": 75, \"Attack\": 87, \"Defense\": 63, \"SpecialA\": 87, \"SpecialD\": 63, \"Speed\": 98, \"Generation\": 5}, {\"#\": 585, \"Name\": \"Deerling\", \"Type 1\": \"Normal\", \"Type 2\": \"Grass\", \"Total\": 335, \"HP\": 60, \"Attack\": 60, \"Defense\": 50, \"SpecialA\": 40, \"SpecialD\": 50, \"Speed\": 75, \"Generation\": 5}, {\"#\": 586, \"Name\": \"Sawsbuck\", \"Type 1\": \"Normal\", \"Type 2\": \"Grass\", \"Total\": 475, \"HP\": 80, \"Attack\": 100, \"Defense\": 70, \"SpecialA\": 60, \"SpecialD\": 70, \"Speed\": 95, \"Generation\": 5}, {\"#\": 587, \"Name\": \"Emolga\", \"Type 1\": \"Electric\", \"Type 2\": \"Flying\", \"Total\": 428, \"HP\": 55, \"Attack\": 75, \"Defense\": 60, \"SpecialA\": 75, \"SpecialD\": 60, \"Speed\": 103, \"Generation\": 5}, {\"#\": 589, \"Name\": \"Escavalier\", \"Type 1\": \"Bug\", \"Type 2\": \"Steel\", \"Total\": 495, \"HP\": 70, \"Attack\": 135, \"Defense\": 105, \"SpecialA\": 60, \"SpecialD\": 105, \"Speed\": 20, \"Generation\": 5}, {\"#\": 590, \"Name\": \"Foongus\", \"Type 1\": \"Grass\", \"Type 2\": \"Poison\", \"Total\": 294, \"HP\": 69, \"Attack\": 55, \"Defense\": 45, \"SpecialA\": 55, \"SpecialD\": 55, \"Speed\": 15, \"Generation\": 5}, {\"#\": 591, \"Name\": \"Amoonguss\", \"Type 1\": \"Grass\", \"Type 2\": \"Poison\", \"Total\": 464, \"HP\": 114, \"Attack\": 85, \"Defense\": 70, \"SpecialA\": 85, \"SpecialD\": 80, \"Speed\": 30, \"Generation\": 5}, {\"#\": 592, \"Name\": \"Frillish\", \"Type 1\": \"Water\", \"Type 2\": \"Ghost\", \"Total\": 335, \"HP\": 55, \"Attack\": 40, \"Defense\": 50, \"SpecialA\": 65, \"SpecialD\": 85, \"Speed\": 40, \"Generation\": 5}, {\"#\": 593, \"Name\": \"Jellicent\", \"Type 1\": \"Water\", \"Type 2\": \"Ghost\", \"Total\": 480, \"HP\": 100, \"Attack\": 60, \"Defense\": 70, \"SpecialA\": 85, \"SpecialD\": 105, \"Speed\": 60, \"Generation\": 5}, {\"#\": 595, \"Name\": \"Joltik\", \"Type 1\": \"Bug\", \"Type 2\": \"Electric\", \"Total\": 319, \"HP\": 50, \"Attack\": 47, \"Defense\": 50, \"SpecialA\": 57, \"SpecialD\": 50, \"Speed\": 65, \"Generation\": 5}, {\"#\": 596, \"Name\": \"Galvantula\", \"Type 1\": \"Bug\", \"Type 2\": \"Electric\", \"Total\": 472, \"HP\": 70, \"Attack\": 77, \"Defense\": 60, \"SpecialA\": 97, \"SpecialD\": 60, \"Speed\": 108, \"Generation\": 5}, {\"#\": 597, \"Name\": \"Ferroseed\", \"Type 1\": \"Grass\", \"Type 2\": \"Steel\", \"Total\": 305, \"HP\": 44, \"Attack\": 50, \"Defense\": 91, \"SpecialA\": 24, \"SpecialD\": 86, \"Speed\": 10, \"Generation\": 5}, {\"#\": 598, \"Name\": \"Ferrothorn\", \"Type 1\": \"Grass\", \"Type 2\": \"Steel\", \"Total\": 489, \"HP\": 74, \"Attack\": 94, \"Defense\": 131, \"SpecialA\": 54, \"SpecialD\": 116, \"Speed\": 20, \"Generation\": 5}, {\"#\": 607, \"Name\": \"Litwick\", \"Type 1\": \"Ghost\", \"Type 2\": \"Fire\", \"Total\": 275, \"HP\": 50, \"Attack\": 30, \"Defense\": 55, \"SpecialA\": 65, \"SpecialD\": 55, \"Speed\": 20, \"Generation\": 5}, {\"#\": 608, \"Name\": \"Lampent\", \"Type 1\": \"Ghost\", \"Type 2\": \"Fire\", \"Total\": 370, \"HP\": 60, \"Attack\": 40, \"Defense\": 60, \"SpecialA\": 95, \"SpecialD\": 60, \"Speed\": 55, \"Generation\": 5}, {\"#\": 609, \"Name\": \"Chandelure\", \"Type 1\": \"Ghost\", \"Type 2\": \"Fire\", \"Total\": 520, \"HP\": 60, \"Attack\": 55, \"Defense\": 90, \"SpecialA\": 145, \"SpecialD\": 90, \"Speed\": 80, \"Generation\": 5}, {\"#\": 618, \"Name\": \"Stunfisk\", \"Type 1\": \"Ground\", \"Type 2\": \"Electric\", \"Total\": 471, \"HP\": 109, \"Attack\": 66, \"Defense\": 84, \"SpecialA\": 81, \"SpecialD\": 99, \"Speed\": 32, \"Generation\": 5}, {\"#\": 622, \"Name\": \"Golett\", \"Type 1\": \"Ground\", \"Type 2\": \"Ghost\", \"Total\": 303, \"HP\": 59, \"Attack\": 74, \"Defense\": 50, \"SpecialA\": 35, \"SpecialD\": 50, \"Speed\": 35, \"Generation\": 5}, {\"#\": 623, \"Name\": \"Golurk\", \"Type 1\": \"Ground\", \"Type 2\": \"Ghost\", \"Total\": 483, \"HP\": 89, \"Attack\": 124, \"Defense\": 80, \"SpecialA\": 55, \"SpecialD\": 80, \"Speed\": 55, \"Generation\": 5}, {\"#\": 624, \"Name\": \"Pawniard\", \"Type 1\": \"Dark\", \"Type 2\": \"Steel\", \"Total\": 340, \"HP\": 45, \"Attack\": 85, \"Defense\": 70, \"SpecialA\": 40, \"SpecialD\": 40, \"Speed\": 60, \"Generation\": 5}, {\"#\": 625, \"Name\": \"Bisharp\", \"Type 1\": \"Dark\", \"Type 2\": \"Steel\", \"Total\": 490, \"HP\": 65, \"Attack\": 125, \"Defense\": 100, \"SpecialA\": 60, \"SpecialD\": 70, \"Speed\": 70, \"Generation\": 5}, {\"#\": 627, \"Name\": \"Rufflet\", \"Type 1\": \"Normal\", \"Type 2\": \"Flying\", \"Total\": 350, \"HP\": 70, \"Attack\": 83, \"Defense\": 50, \"SpecialA\": 37, \"SpecialD\": 50, \"Speed\": 60, \"Generation\": 5}, {\"#\": 628, \"Name\": \"Braviary\", \"Type 1\": \"Normal\", \"Type 2\": \"Flying\", \"Total\": 510, \"HP\": 100, \"Attack\": 123, \"Defense\": 75, \"SpecialA\": 57, \"SpecialD\": 75, \"Speed\": 80, \"Generation\": 5}, {\"#\": 629, \"Name\": \"Vullaby\", \"Type 1\": \"Dark\", \"Type 2\": \"Flying\", \"Total\": 370, \"HP\": 70, \"Attack\": 55, \"Defense\": 75, \"SpecialA\": 45, \"SpecialD\": 65, \"Speed\": 60, \"Generation\": 5}, {\"#\": 630, \"Name\": \"Mandibuzz\", \"Type 1\": \"Dark\", \"Type 2\": \"Flying\", \"Total\": 510, \"HP\": 110, \"Attack\": 65, \"Defense\": 105, \"SpecialA\": 55, \"SpecialD\": 95, \"Speed\": 80, \"Generation\": 5}, {\"#\": 632, \"Name\": \"Durant\", \"Type 1\": \"Bug\", \"Type 2\": \"Steel\", \"Total\": 484, \"HP\": 58, \"Attack\": 109, \"Defense\": 112, \"SpecialA\": 48, \"SpecialD\": 48, \"Speed\": 109, \"Generation\": 5}, {\"#\": 633, \"Name\": \"Deino\", \"Type 1\": \"Dark\", \"Type 2\": \"Dragon\", \"Total\": 300, \"HP\": 52, \"Attack\": 65, \"Defense\": 50, \"SpecialA\": 45, \"SpecialD\": 50, \"Speed\": 38, \"Generation\": 5}, {\"#\": 634, \"Name\": \"Zweilous\", \"Type 1\": \"Dark\", \"Type 2\": \"Dragon\", \"Total\": 420, \"HP\": 72, \"Attack\": 85, \"Defense\": 70, \"SpecialA\": 65, \"SpecialD\": 70, \"Speed\": 58, \"Generation\": 5}, {\"#\": 635, \"Name\": \"Hydreigon\", \"Type 1\": \"Dark\", \"Type 2\": \"Dragon\", \"Total\": 600, \"HP\": 92, \"Attack\": 105, \"Defense\": 90, \"SpecialA\": 125, \"SpecialD\": 90, \"Speed\": 98, \"Generation\": 5}, {\"#\": 636, \"Name\": \"Larvesta\", \"Type 1\": \"Bug\", \"Type 2\": \"Fire\", \"Total\": 360, \"HP\": 55, \"Attack\": 85, \"Defense\": 55, \"SpecialA\": 50, \"SpecialD\": 55, \"Speed\": 60, \"Generation\": 5}, {\"#\": 637, \"Name\": \"Volcarona\", \"Type 1\": \"Bug\", \"Type 2\": \"Fire\", \"Total\": 550, \"HP\": 85, \"Attack\": 60, \"Defense\": 65, \"SpecialA\": 135, \"SpecialD\": 105, \"Speed\": 100, \"Generation\": 5}, {\"#\": 647, \"Name\": \"KeldeoOrdinary Forme\", \"Type 1\": \"Water\", \"Type 2\": \"Fighting\", \"Total\": 580, \"HP\": 91, \"Attack\": 72, \"Defense\": 90, \"SpecialA\": 129, \"SpecialD\": 90, \"Speed\": 108, \"Generation\": 5}, {\"#\": 647, \"Name\": \"KeldeoResolute Forme\", \"Type 1\": \"Water\", \"Type 2\": \"Fighting\", \"Total\": 580, \"HP\": 91, \"Attack\": 72, \"Defense\": 90, \"SpecialA\": 129, \"SpecialD\": 90, \"Speed\": 108, \"Generation\": 5}, {\"#\": 648, \"Name\": \"MeloettaAria Forme\", \"Type 1\": \"Normal\", \"Type 2\": \"Psychic\", \"Total\": 600, \"HP\": 100, \"Attack\": 77, \"Defense\": 77, \"SpecialA\": 128, \"SpecialD\": 128, \"Speed\": 90, \"Generation\": 5}, {\"#\": 648, \"Name\": \"MeloettaPirouette Forme\", \"Type 1\": \"Normal\", \"Type 2\": \"Fighting\", \"Total\": 600, \"HP\": 100, \"Attack\": 128, \"Defense\": 90, \"SpecialA\": 77, \"SpecialD\": 77, \"Speed\": 128, \"Generation\": 5}, {\"#\": 649, \"Name\": \"Genesect\", \"Type 1\": \"Bug\", \"Type 2\": \"Steel\", \"Total\": 600, \"HP\": 71, \"Attack\": 120, \"Defense\": 95, \"SpecialA\": 120, \"SpecialD\": 95, \"Speed\": 99, \"Generation\": 5}, {\"#\": 652, \"Name\": \"Chesnaught\", \"Type 1\": \"Grass\", \"Type 2\": \"Fighting\", \"Total\": 530, \"HP\": 88, \"Attack\": 107, \"Defense\": 122, \"SpecialA\": 74, \"SpecialD\": 75, \"Speed\": 64, \"Generation\": 6}, {\"#\": 655, \"Name\": \"Delphox\", \"Type 1\": \"Fire\", \"Type 2\": \"Psychic\", \"Total\": 534, \"HP\": 75, \"Attack\": 69, \"Defense\": 72, \"SpecialA\": 114, \"SpecialD\": 100, \"Speed\": 104, \"Generation\": 6}, {\"#\": 658, \"Name\": \"Greninja\", \"Type 1\": \"Water\", \"Type 2\": \"Dark\", \"Total\": 530, \"HP\": 72, \"Attack\": 95, \"Defense\": 67, \"SpecialA\": 103, \"SpecialD\": 71, \"Speed\": 122, \"Generation\": 6}, {\"#\": 660, \"Name\": \"Diggersby\", \"Type 1\": \"Normal\", \"Type 2\": \"Ground\", \"Total\": 423, \"HP\": 85, \"Attack\": 56, \"Defense\": 77, \"SpecialA\": 50, \"SpecialD\": 77, \"Speed\": 78, \"Generation\": 6}, {\"#\": 661, \"Name\": \"Fletchling\", \"Type 1\": \"Normal\", \"Type 2\": \"Flying\", \"Total\": 278, \"HP\": 45, \"Attack\": 50, \"Defense\": 43, \"SpecialA\": 40, \"SpecialD\": 38, \"Speed\": 62, \"Generation\": 6}, {\"#\": 662, \"Name\": \"Fletchinder\", \"Type 1\": \"Fire\", \"Type 2\": \"Flying\", \"Total\": 382, \"HP\": 62, \"Attack\": 73, \"Defense\": 55, \"SpecialA\": 56, \"SpecialD\": 52, \"Speed\": 84, \"Generation\": 6}, {\"#\": 663, \"Name\": \"Talonflame\", \"Type 1\": \"Fire\", \"Type 2\": \"Flying\", \"Total\": 499, \"HP\": 78, \"Attack\": 81, \"Defense\": 71, \"SpecialA\": 74, \"SpecialD\": 69, \"Speed\": 126, \"Generation\": 6}, {\"#\": 666, \"Name\": \"Vivillon\", \"Type 1\": \"Bug\", \"Type 2\": \"Flying\", \"Total\": 411, \"HP\": 80, \"Attack\": 52, \"Defense\": 50, \"SpecialA\": 90, \"SpecialD\": 50, \"Speed\": 89, \"Generation\": 6}, {\"#\": 667, \"Name\": \"Litleo\", \"Type 1\": \"Fire\", \"Type 2\": \"Normal\", \"Total\": 369, \"HP\": 62, \"Attack\": 50, \"Defense\": 58, \"SpecialA\": 73, \"SpecialD\": 54, \"Speed\": 72, \"Generation\": 6}, {\"#\": 668, \"Name\": \"Pyroar\", \"Type 1\": \"Fire\", \"Type 2\": \"Normal\", \"Total\": 507, \"HP\": 86, \"Attack\": 68, \"Defense\": 72, \"SpecialA\": 109, \"SpecialD\": 66, \"Speed\": 106, \"Generation\": 6}, {\"#\": 675, \"Name\": \"Pangoro\", \"Type 1\": \"Fighting\", \"Type 2\": \"Dark\", \"Total\": 495, \"HP\": 95, \"Attack\": 124, \"Defense\": 78, \"SpecialA\": 69, \"SpecialD\": 71, \"Speed\": 58, \"Generation\": 6}, {\"#\": 679, \"Name\": \"Honedge\", \"Type 1\": \"Steel\", \"Type 2\": \"Ghost\", \"Total\": 325, \"HP\": 45, \"Attack\": 80, \"Defense\": 100, \"SpecialA\": 35, \"SpecialD\": 37, \"Speed\": 28, \"Generation\": 6}, {\"#\": 680, \"Name\": \"Doublade\", \"Type 1\": \"Steel\", \"Type 2\": \"Ghost\", \"Total\": 448, \"HP\": 59, \"Attack\": 110, \"Defense\": 150, \"SpecialA\": 45, \"SpecialD\": 49, \"Speed\": 35, \"Generation\": 6}, {\"#\": 681, \"Name\": \"AegislashBlade Forme\", \"Type 1\": \"Steel\", \"Type 2\": \"Ghost\", \"Total\": 520, \"HP\": 60, \"Attack\": 150, \"Defense\": 50, \"SpecialA\": 150, \"SpecialD\": 50, \"Speed\": 60, \"Generation\": 6}, {\"#\": 681, \"Name\": \"AegislashShield Forme\", \"Type 1\": \"Steel\", \"Type 2\": \"Ghost\", \"Total\": 520, \"HP\": 60, \"Attack\": 50, \"Defense\": 150, \"SpecialA\": 50, \"SpecialD\": 150, \"Speed\": 60, \"Generation\": 6}, {\"#\": 686, \"Name\": \"Inkay\", \"Type 1\": \"Dark\", \"Type 2\": \"Psychic\", \"Total\": 288, \"HP\": 53, \"Attack\": 54, \"Defense\": 53, \"SpecialA\": 37, \"SpecialD\": 46, \"Speed\": 45, \"Generation\": 6}, {\"#\": 687, \"Name\": \"Malamar\", \"Type 1\": \"Dark\", \"Type 2\": \"Psychic\", \"Total\": 482, \"HP\": 86, \"Attack\": 92, \"Defense\": 88, \"SpecialA\": 68, \"SpecialD\": 75, \"Speed\": 73, \"Generation\": 6}, {\"#\": 688, \"Name\": \"Binacle\", \"Type 1\": \"Rock\", \"Type 2\": \"Water\", \"Total\": 306, \"HP\": 42, \"Attack\": 52, \"Defense\": 67, \"SpecialA\": 39, \"SpecialD\": 56, \"Speed\": 50, \"Generation\": 6}, {\"#\": 689, \"Name\": \"Barbaracle\", \"Type 1\": \"Rock\", \"Type 2\": \"Water\", \"Total\": 500, \"HP\": 72, \"Attack\": 105, \"Defense\": 115, \"SpecialA\": 54, \"SpecialD\": 86, \"Speed\": 68, \"Generation\": 6}, {\"#\": 690, \"Name\": \"Skrelp\", \"Type 1\": \"Poison\", \"Type 2\": \"Water\", \"Total\": 320, \"HP\": 50, \"Attack\": 60, \"Defense\": 60, \"SpecialA\": 60, \"SpecialD\": 60, \"Speed\": 30, \"Generation\": 6}, {\"#\": 691, \"Name\": \"Dragalge\", \"Type 1\": \"Poison\", \"Type 2\": \"Dragon\", \"Total\": 494, \"HP\": 65, \"Attack\": 75, \"Defense\": 90, \"SpecialA\": 97, \"SpecialD\": 123, \"Speed\": 44, \"Generation\": 6}, {\"#\": 694, \"Name\": \"Helioptile\", \"Type 1\": \"Electric\", \"Type 2\": \"Normal\", \"Total\": 289, \"HP\": 44, \"Attack\": 38, \"Defense\": 33, \"SpecialA\": 61, \"SpecialD\": 43, \"Speed\": 70, \"Generation\": 6}, {\"#\": 695, \"Name\": \"Heliolisk\", \"Type 1\": \"Electric\", \"Type 2\": \"Normal\", \"Total\": 481, \"HP\": 62, \"Attack\": 55, \"Defense\": 52, \"SpecialA\": 109, \"SpecialD\": 94, \"Speed\": 109, \"Generation\": 6}, {\"#\": 696, \"Name\": \"Tyrunt\", \"Type 1\": \"Rock\", \"Type 2\": \"Dragon\", \"Total\": 362, \"HP\": 58, \"Attack\": 89, \"Defense\": 77, \"SpecialA\": 45, \"SpecialD\": 45, \"Speed\": 48, \"Generation\": 6}, {\"#\": 697, \"Name\": \"Tyrantrum\", \"Type 1\": \"Rock\", \"Type 2\": \"Dragon\", \"Total\": 521, \"HP\": 82, \"Attack\": 121, \"Defense\": 119, \"SpecialA\": 69, \"SpecialD\": 59, \"Speed\": 71, \"Generation\": 6}, {\"#\": 698, \"Name\": \"Amaura\", \"Type 1\": \"Rock\", \"Type 2\": \"Ice\", \"Total\": 362, \"HP\": 77, \"Attack\": 59, \"Defense\": 50, \"SpecialA\": 67, \"SpecialD\": 63, \"Speed\": 46, \"Generation\": 6}, {\"#\": 699, \"Name\": \"Aurorus\", \"Type 1\": \"Rock\", \"Type 2\": \"Ice\", \"Total\": 521, \"HP\": 123, \"Attack\": 77, \"Defense\": 72, \"SpecialA\": 99, \"SpecialD\": 92, \"Speed\": 58, \"Generation\": 6}, {\"#\": 701, \"Name\": \"Hawlucha\", \"Type 1\": \"Fighting\", \"Type 2\": \"Flying\", \"Total\": 500, \"HP\": 78, \"Attack\": 92, \"Defense\": 75, \"SpecialA\": 74, \"SpecialD\": 63, \"Speed\": 118, \"Generation\": 6}, {\"#\": 702, \"Name\": \"Dedenne\", \"Type 1\": \"Electric\", \"Type 2\": \"Fairy\", \"Total\": 431, \"HP\": 67, \"Attack\": 58, \"Defense\": 57, \"SpecialA\": 81, \"SpecialD\": 67, \"Speed\": 101, \"Generation\": 6}, {\"#\": 703, \"Name\": \"Carbink\", \"Type 1\": \"Rock\", \"Type 2\": \"Fairy\", \"Total\": 500, \"HP\": 50, \"Attack\": 50, \"Defense\": 150, \"SpecialA\": 50, \"SpecialD\": 150, \"Speed\": 50, \"Generation\": 6}, {\"#\": 707, \"Name\": \"Klefki\", \"Type 1\": \"Steel\", \"Type 2\": \"Fairy\", \"Total\": 470, \"HP\": 57, \"Attack\": 80, \"Defense\": 91, \"SpecialA\": 80, \"SpecialD\": 87, \"Speed\": 75, \"Generation\": 6}, {\"#\": 708, \"Name\": \"Phantump\", \"Type 1\": \"Ghost\", \"Type 2\": \"Grass\", \"Total\": 309, \"HP\": 43, \"Attack\": 70, \"Defense\": 48, \"SpecialA\": 50, \"SpecialD\": 60, \"Speed\": 38, \"Generation\": 6}, {\"#\": 709, \"Name\": \"Trevenant\", \"Type 1\": \"Ghost\", \"Type 2\": \"Grass\", \"Total\": 474, \"HP\": 85, \"Attack\": 110, \"Defense\": 76, \"SpecialA\": 65, \"SpecialD\": 82, \"Speed\": 56, \"Generation\": 6}, {\"#\": 710, \"Name\": \"PumpkabooAverage Size\", \"Type 1\": \"Ghost\", \"Type 2\": \"Grass\", \"Total\": 335, \"HP\": 49, \"Attack\": 66, \"Defense\": 70, \"SpecialA\": 44, \"SpecialD\": 55, \"Speed\": 51, \"Generation\": 6}, {\"#\": 710, \"Name\": \"PumpkabooSmall Size\", \"Type 1\": \"Ghost\", \"Type 2\": \"Grass\", \"Total\": 335, \"HP\": 44, \"Attack\": 66, \"Defense\": 70, \"SpecialA\": 44, \"SpecialD\": 55, \"Speed\": 56, \"Generation\": 6}, {\"#\": 710, \"Name\": \"PumpkabooLarge Size\", \"Type 1\": \"Ghost\", \"Type 2\": \"Grass\", \"Total\": 335, \"HP\": 54, \"Attack\": 66, \"Defense\": 70, \"SpecialA\": 44, \"SpecialD\": 55, \"Speed\": 46, \"Generation\": 6}, {\"#\": 710, \"Name\": \"PumpkabooSuper Size\", \"Type 1\": \"Ghost\", \"Type 2\": \"Grass\", \"Total\": 335, \"HP\": 59, \"Attack\": 66, \"Defense\": 70, \"SpecialA\": 44, \"SpecialD\": 55, \"Speed\": 41, \"Generation\": 6}, {\"#\": 711, \"Name\": \"GourgeistAverage Size\", \"Type 1\": \"Ghost\", \"Type 2\": \"Grass\", \"Total\": 494, \"HP\": 65, \"Attack\": 90, \"Defense\": 122, \"SpecialA\": 58, \"SpecialD\": 75, \"Speed\": 84, \"Generation\": 6}, {\"#\": 711, \"Name\": \"GourgeistSmall Size\", \"Type 1\": \"Ghost\", \"Type 2\": \"Grass\", \"Total\": 494, \"HP\": 55, \"Attack\": 85, \"Defense\": 122, \"SpecialA\": 58, \"SpecialD\": 75, \"Speed\": 99, \"Generation\": 6}, {\"#\": 711, \"Name\": \"GourgeistLarge Size\", \"Type 1\": \"Ghost\", \"Type 2\": \"Grass\", \"Total\": 494, \"HP\": 75, \"Attack\": 95, \"Defense\": 122, \"SpecialA\": 58, \"SpecialD\": 75, \"Speed\": 69, \"Generation\": 6}, {\"#\": 711, \"Name\": \"GourgeistSuper Size\", \"Type 1\": \"Ghost\", \"Type 2\": \"Grass\", \"Total\": 494, \"HP\": 85, \"Attack\": 100, \"Defense\": 122, \"SpecialA\": 58, \"SpecialD\": 75, \"Speed\": 54, \"Generation\": 6}, {\"#\": 714, \"Name\": \"Noibat\", \"Type 1\": \"Flying\", \"Type 2\": \"Dragon\", \"Total\": 245, \"HP\": 40, \"Attack\": 30, \"Defense\": 35, \"SpecialA\": 45, \"SpecialD\": 40, \"Speed\": 55, \"Generation\": 6}, {\"#\": 715, \"Name\": \"Noivern\", \"Type 1\": \"Flying\", \"Type 2\": \"Dragon\", \"Total\": 535, \"HP\": 85, \"Attack\": 70, \"Defense\": 80, \"SpecialA\": 97, \"SpecialD\": 80, \"Speed\": 123, \"Generation\": 6}]}}, {\"mode\": \"vega-lite\"});\n",
       "</script>"
      ],
      "text/plain": [
       "alt.Chart(...)"
      ]
     },
     "execution_count": 13,
     "metadata": {},
     "output_type": "execute_result"
    }
   ],
   "source": [
    "alt.Chart(df).mark_circle().encode(\n",
    "    x=alt.X(\"SpecialA\",scale=alt.Scale(domain=[0, 250])),\n",
    "    y=alt.Y(\"Attack\",scale=alt.Scale(domain=[0, 240])),\n",
    "    color=\"Generation:N\",\n",
    "    tooltip=[\"Name\",\"Attack\",\"SpecialA\"]\n",
    ").properties(\n",
    "    title=\"Attack v.s. Special Attack based on generation\"\n",
    ")"
   ]
  },
  {
   "cell_type": "code",
   "execution_count": 14,
   "metadata": {
    "cell_id": "905ce75ba39a4c308413159d3f1462a1",
    "deepnote_cell_type": "code",
    "deepnote_to_be_reexecuted": false,
    "execution_millis": 77,
    "execution_start": 1670317134968,
    "source_hash": "3e6b3249",
    "tags": []
   },
   "outputs": [
    {
     "data": {
      "text/html": [
       "\n",
       "<div id=\"altair-viz-7bdbadb3816e48b2aa55071c2817244d\"></div>\n",
       "<script type=\"text/javascript\">\n",
       "  var VEGA_DEBUG = (typeof VEGA_DEBUG == \"undefined\") ? {} : VEGA_DEBUG;\n",
       "  (function(spec, embedOpt){\n",
       "    let outputDiv = document.currentScript.previousElementSibling;\n",
       "    if (outputDiv.id !== \"altair-viz-7bdbadb3816e48b2aa55071c2817244d\") {\n",
       "      outputDiv = document.getElementById(\"altair-viz-7bdbadb3816e48b2aa55071c2817244d\");\n",
       "    }\n",
       "    const paths = {\n",
       "      \"vega\": \"https://cdn.jsdelivr.net/npm//vega@5?noext\",\n",
       "      \"vega-lib\": \"https://cdn.jsdelivr.net/npm//vega-lib?noext\",\n",
       "      \"vega-lite\": \"https://cdn.jsdelivr.net/npm//vega-lite@4.17.0?noext\",\n",
       "      \"vega-embed\": \"https://cdn.jsdelivr.net/npm//vega-embed@6?noext\",\n",
       "    };\n",
       "\n",
       "    function maybeLoadScript(lib, version) {\n",
       "      var key = `${lib.replace(\"-\", \"\")}_version`;\n",
       "      return (VEGA_DEBUG[key] == version) ?\n",
       "        Promise.resolve(paths[lib]) :\n",
       "        new Promise(function(resolve, reject) {\n",
       "          var s = document.createElement('script');\n",
       "          document.getElementsByTagName(\"head\")[0].appendChild(s);\n",
       "          s.async = true;\n",
       "          s.onload = () => {\n",
       "            VEGA_DEBUG[key] = version;\n",
       "            return resolve(paths[lib]);\n",
       "          };\n",
       "          s.onerror = () => reject(`Error loading script: ${paths[lib]}`);\n",
       "          s.src = paths[lib];\n",
       "        });\n",
       "    }\n",
       "\n",
       "    function showError(err) {\n",
       "      outputDiv.innerHTML = `<div class=\"error\" style=\"color:red;\">${err}</div>`;\n",
       "      throw err;\n",
       "    }\n",
       "\n",
       "    function displayChart(vegaEmbed) {\n",
       "      vegaEmbed(outputDiv, spec, embedOpt)\n",
       "        .catch(err => showError(`Javascript Error: ${err.message}<br>This usually means there's a typo in your chart specification. See the javascript console for the full traceback.`));\n",
       "    }\n",
       "\n",
       "    if(typeof define === \"function\" && define.amd) {\n",
       "      requirejs.config({paths});\n",
       "      require([\"vega-embed\"], displayChart, err => showError(`Error loading script: ${err.message}`));\n",
       "    } else {\n",
       "      maybeLoadScript(\"vega\", \"5\")\n",
       "        .then(() => maybeLoadScript(\"vega-lite\", \"4.17.0\"))\n",
       "        .then(() => maybeLoadScript(\"vega-embed\", \"6\"))\n",
       "        .catch(showError)\n",
       "        .then(() => displayChart(vegaEmbed));\n",
       "    }\n",
       "  })({\"config\": {\"view\": {\"continuousWidth\": 400, \"continuousHeight\": 300}}, \"data\": {\"name\": \"data-8f8f5a820e13a98ac2edffa1fa08f1db\"}, \"mark\": \"circle\", \"encoding\": {\"color\": {\"field\": \"Generation\", \"type\": \"nominal\"}, \"tooltip\": [{\"field\": \"Name\", \"type\": \"nominal\"}, {\"field\": \"Defense\", \"type\": \"quantitative\"}, {\"field\": \"SpecialD\", \"type\": \"quantitative\"}], \"x\": {\"field\": \"SpecialD\", \"scale\": {\"domain\": [0, 250]}, \"type\": \"quantitative\"}, \"y\": {\"field\": \"Defense\", \"scale\": {\"domain\": [0, 240]}, \"type\": \"quantitative\"}}, \"title\": \"Defense v.s. Special Defense based on generation\", \"$schema\": \"https://vega.github.io/schema/vega-lite/v4.17.0.json\", \"datasets\": {\"data-8f8f5a820e13a98ac2edffa1fa08f1db\": [{\"#\": 1, \"Name\": \"Bulbasaur\", \"Type 1\": \"Grass\", \"Type 2\": \"Poison\", \"Total\": 318, \"HP\": 45, \"Attack\": 49, \"Defense\": 49, \"SpecialA\": 65, \"SpecialD\": 65, \"Speed\": 45, \"Generation\": 1}, {\"#\": 2, \"Name\": \"Ivysaur\", \"Type 1\": \"Grass\", \"Type 2\": \"Poison\", \"Total\": 405, \"HP\": 60, \"Attack\": 62, \"Defense\": 63, \"SpecialA\": 80, \"SpecialD\": 80, \"Speed\": 60, \"Generation\": 1}, {\"#\": 3, \"Name\": \"Venusaur\", \"Type 1\": \"Grass\", \"Type 2\": \"Poison\", \"Total\": 525, \"HP\": 80, \"Attack\": 82, \"Defense\": 83, \"SpecialA\": 100, \"SpecialD\": 100, \"Speed\": 80, \"Generation\": 1}, {\"#\": 3, \"Name\": \"VenusaurMega Venusaur\", \"Type 1\": \"Grass\", \"Type 2\": \"Poison\", \"Total\": 625, \"HP\": 80, \"Attack\": 100, \"Defense\": 123, \"SpecialA\": 122, \"SpecialD\": 120, \"Speed\": 80, \"Generation\": 1}, {\"#\": 6, \"Name\": \"Charizard\", \"Type 1\": \"Fire\", \"Type 2\": \"Flying\", \"Total\": 534, \"HP\": 78, \"Attack\": 84, \"Defense\": 78, \"SpecialA\": 109, \"SpecialD\": 85, \"Speed\": 100, \"Generation\": 1}, {\"#\": 6, \"Name\": \"CharizardMega Charizard X\", \"Type 1\": \"Fire\", \"Type 2\": \"Dragon\", \"Total\": 634, \"HP\": 78, \"Attack\": 130, \"Defense\": 111, \"SpecialA\": 130, \"SpecialD\": 85, \"Speed\": 100, \"Generation\": 1}, {\"#\": 6, \"Name\": \"CharizardMega Charizard Y\", \"Type 1\": \"Fire\", \"Type 2\": \"Flying\", \"Total\": 634, \"HP\": 78, \"Attack\": 104, \"Defense\": 78, \"SpecialA\": 159, \"SpecialD\": 115, \"Speed\": 100, \"Generation\": 1}, {\"#\": 12, \"Name\": \"Butterfree\", \"Type 1\": \"Bug\", \"Type 2\": \"Flying\", \"Total\": 395, \"HP\": 60, \"Attack\": 45, \"Defense\": 50, \"SpecialA\": 90, \"SpecialD\": 80, \"Speed\": 70, \"Generation\": 1}, {\"#\": 13, \"Name\": \"Weedle\", \"Type 1\": \"Bug\", \"Type 2\": \"Poison\", \"Total\": 195, \"HP\": 40, \"Attack\": 35, \"Defense\": 30, \"SpecialA\": 20, \"SpecialD\": 20, \"Speed\": 50, \"Generation\": 1}, {\"#\": 14, \"Name\": \"Kakuna\", \"Type 1\": \"Bug\", \"Type 2\": \"Poison\", \"Total\": 205, \"HP\": 45, \"Attack\": 25, \"Defense\": 50, \"SpecialA\": 25, \"SpecialD\": 25, \"Speed\": 35, \"Generation\": 1}, {\"#\": 15, \"Name\": \"Beedrill\", \"Type 1\": \"Bug\", \"Type 2\": \"Poison\", \"Total\": 395, \"HP\": 65, \"Attack\": 90, \"Defense\": 40, \"SpecialA\": 45, \"SpecialD\": 80, \"Speed\": 75, \"Generation\": 1}, {\"#\": 15, \"Name\": \"BeedrillMega Beedrill\", \"Type 1\": \"Bug\", \"Type 2\": \"Poison\", \"Total\": 495, \"HP\": 65, \"Attack\": 150, \"Defense\": 40, \"SpecialA\": 15, \"SpecialD\": 80, \"Speed\": 145, \"Generation\": 1}, {\"#\": 16, \"Name\": \"Pidgey\", \"Type 1\": \"Normal\", \"Type 2\": \"Flying\", \"Total\": 251, \"HP\": 40, \"Attack\": 45, \"Defense\": 40, \"SpecialA\": 35, \"SpecialD\": 35, \"Speed\": 56, \"Generation\": 1}, {\"#\": 17, \"Name\": \"Pidgeotto\", \"Type 1\": \"Normal\", \"Type 2\": \"Flying\", \"Total\": 349, \"HP\": 63, \"Attack\": 60, \"Defense\": 55, \"SpecialA\": 50, \"SpecialD\": 50, \"Speed\": 71, \"Generation\": 1}, {\"#\": 18, \"Name\": \"Pidgeot\", \"Type 1\": \"Normal\", \"Type 2\": \"Flying\", \"Total\": 479, \"HP\": 83, \"Attack\": 80, \"Defense\": 75, \"SpecialA\": 70, \"SpecialD\": 70, \"Speed\": 101, \"Generation\": 1}, {\"#\": 18, \"Name\": \"PidgeotMega Pidgeot\", \"Type 1\": \"Normal\", \"Type 2\": \"Flying\", \"Total\": 579, \"HP\": 83, \"Attack\": 80, \"Defense\": 80, \"SpecialA\": 135, \"SpecialD\": 80, \"Speed\": 121, \"Generation\": 1}, {\"#\": 21, \"Name\": \"Spearow\", \"Type 1\": \"Normal\", \"Type 2\": \"Flying\", \"Total\": 262, \"HP\": 40, \"Attack\": 60, \"Defense\": 30, \"SpecialA\": 31, \"SpecialD\": 31, \"Speed\": 70, \"Generation\": 1}, {\"#\": 22, \"Name\": \"Fearow\", \"Type 1\": \"Normal\", \"Type 2\": \"Flying\", \"Total\": 442, \"HP\": 65, \"Attack\": 90, \"Defense\": 65, \"SpecialA\": 61, \"SpecialD\": 61, \"Speed\": 100, \"Generation\": 1}, {\"#\": 31, \"Name\": \"Nidoqueen\", \"Type 1\": \"Poison\", \"Type 2\": \"Ground\", \"Total\": 505, \"HP\": 90, \"Attack\": 92, \"Defense\": 87, \"SpecialA\": 75, \"SpecialD\": 85, \"Speed\": 76, \"Generation\": 1}, {\"#\": 34, \"Name\": \"Nidoking\", \"Type 1\": \"Poison\", \"Type 2\": \"Ground\", \"Total\": 505, \"HP\": 81, \"Attack\": 102, \"Defense\": 77, \"SpecialA\": 85, \"SpecialD\": 75, \"Speed\": 85, \"Generation\": 1}, {\"#\": 39, \"Name\": \"Jigglypuff\", \"Type 1\": \"Normal\", \"Type 2\": \"Fairy\", \"Total\": 270, \"HP\": 115, \"Attack\": 45, \"Defense\": 20, \"SpecialA\": 45, \"SpecialD\": 25, \"Speed\": 20, \"Generation\": 1}, {\"#\": 40, \"Name\": \"Wigglytuff\", \"Type 1\": \"Normal\", \"Type 2\": \"Fairy\", \"Total\": 435, \"HP\": 140, \"Attack\": 70, \"Defense\": 45, \"SpecialA\": 85, \"SpecialD\": 50, \"Speed\": 45, \"Generation\": 1}, {\"#\": 41, \"Name\": \"Zubat\", \"Type 1\": \"Poison\", \"Type 2\": \"Flying\", \"Total\": 245, \"HP\": 40, \"Attack\": 45, \"Defense\": 35, \"SpecialA\": 30, \"SpecialD\": 40, \"Speed\": 55, \"Generation\": 1}, {\"#\": 42, \"Name\": \"Golbat\", \"Type 1\": \"Poison\", \"Type 2\": \"Flying\", \"Total\": 455, \"HP\": 75, \"Attack\": 80, \"Defense\": 70, \"SpecialA\": 65, \"SpecialD\": 75, \"Speed\": 90, \"Generation\": 1}, {\"#\": 43, \"Name\": \"Oddish\", \"Type 1\": \"Grass\", \"Type 2\": \"Poison\", \"Total\": 320, \"HP\": 45, \"Attack\": 50, \"Defense\": 55, \"SpecialA\": 75, \"SpecialD\": 65, \"Speed\": 30, \"Generation\": 1}, {\"#\": 44, \"Name\": \"Gloom\", \"Type 1\": \"Grass\", \"Type 2\": \"Poison\", \"Total\": 395, \"HP\": 60, \"Attack\": 65, \"Defense\": 70, \"SpecialA\": 85, \"SpecialD\": 75, \"Speed\": 40, \"Generation\": 1}, {\"#\": 45, \"Name\": \"Vileplume\", \"Type 1\": \"Grass\", \"Type 2\": \"Poison\", \"Total\": 490, \"HP\": 75, \"Attack\": 80, \"Defense\": 85, \"SpecialA\": 110, \"SpecialD\": 90, \"Speed\": 50, \"Generation\": 1}, {\"#\": 46, \"Name\": \"Paras\", \"Type 1\": \"Bug\", \"Type 2\": \"Grass\", \"Total\": 285, \"HP\": 35, \"Attack\": 70, \"Defense\": 55, \"SpecialA\": 45, \"SpecialD\": 55, \"Speed\": 25, \"Generation\": 1}, {\"#\": 47, \"Name\": \"Parasect\", \"Type 1\": \"Bug\", \"Type 2\": \"Grass\", \"Total\": 405, \"HP\": 60, \"Attack\": 95, \"Defense\": 80, \"SpecialA\": 60, \"SpecialD\": 80, \"Speed\": 30, \"Generation\": 1}, {\"#\": 48, \"Name\": \"Venonat\", \"Type 1\": \"Bug\", \"Type 2\": \"Poison\", \"Total\": 305, \"HP\": 60, \"Attack\": 55, \"Defense\": 50, \"SpecialA\": 40, \"SpecialD\": 55, \"Speed\": 45, \"Generation\": 1}, {\"#\": 49, \"Name\": \"Venomoth\", \"Type 1\": \"Bug\", \"Type 2\": \"Poison\", \"Total\": 450, \"HP\": 70, \"Attack\": 65, \"Defense\": 60, \"SpecialA\": 90, \"SpecialD\": 75, \"Speed\": 90, \"Generation\": 1}, {\"#\": 62, \"Name\": \"Poliwrath\", \"Type 1\": \"Water\", \"Type 2\": \"Fighting\", \"Total\": 510, \"HP\": 90, \"Attack\": 95, \"Defense\": 95, \"SpecialA\": 70, \"SpecialD\": 90, \"Speed\": 70, \"Generation\": 1}, {\"#\": 69, \"Name\": \"Bellsprout\", \"Type 1\": \"Grass\", \"Type 2\": \"Poison\", \"Total\": 300, \"HP\": 50, \"Attack\": 75, \"Defense\": 35, \"SpecialA\": 70, \"SpecialD\": 30, \"Speed\": 40, \"Generation\": 1}, {\"#\": 70, \"Name\": \"Weepinbell\", \"Type 1\": \"Grass\", \"Type 2\": \"Poison\", \"Total\": 390, \"HP\": 65, \"Attack\": 90, \"Defense\": 50, \"SpecialA\": 85, \"SpecialD\": 45, \"Speed\": 55, \"Generation\": 1}, {\"#\": 71, \"Name\": \"Victreebel\", \"Type 1\": \"Grass\", \"Type 2\": \"Poison\", \"Total\": 490, \"HP\": 80, \"Attack\": 105, \"Defense\": 65, \"SpecialA\": 100, \"SpecialD\": 70, \"Speed\": 70, \"Generation\": 1}, {\"#\": 72, \"Name\": \"Tentacool\", \"Type 1\": \"Water\", \"Type 2\": \"Poison\", \"Total\": 335, \"HP\": 40, \"Attack\": 40, \"Defense\": 35, \"SpecialA\": 50, \"SpecialD\": 100, \"Speed\": 70, \"Generation\": 1}, {\"#\": 73, \"Name\": \"Tentacruel\", \"Type 1\": \"Water\", \"Type 2\": \"Poison\", \"Total\": 515, \"HP\": 80, \"Attack\": 70, \"Defense\": 65, \"SpecialA\": 80, \"SpecialD\": 120, \"Speed\": 100, \"Generation\": 1}, {\"#\": 74, \"Name\": \"Geodude\", \"Type 1\": \"Rock\", \"Type 2\": \"Ground\", \"Total\": 300, \"HP\": 40, \"Attack\": 80, \"Defense\": 100, \"SpecialA\": 30, \"SpecialD\": 30, \"Speed\": 20, \"Generation\": 1}, {\"#\": 75, \"Name\": \"Graveler\", \"Type 1\": \"Rock\", \"Type 2\": \"Ground\", \"Total\": 390, \"HP\": 55, \"Attack\": 95, \"Defense\": 115, \"SpecialA\": 45, \"SpecialD\": 45, \"Speed\": 35, \"Generation\": 1}, {\"#\": 76, \"Name\": \"Golem\", \"Type 1\": \"Rock\", \"Type 2\": \"Ground\", \"Total\": 495, \"HP\": 80, \"Attack\": 120, \"Defense\": 130, \"SpecialA\": 55, \"SpecialD\": 65, \"Speed\": 45, \"Generation\": 1}, {\"#\": 79, \"Name\": \"Slowpoke\", \"Type 1\": \"Water\", \"Type 2\": \"Psychic\", \"Total\": 315, \"HP\": 90, \"Attack\": 65, \"Defense\": 65, \"SpecialA\": 40, \"SpecialD\": 40, \"Speed\": 15, \"Generation\": 1}, {\"#\": 80, \"Name\": \"Slowbro\", \"Type 1\": \"Water\", \"Type 2\": \"Psychic\", \"Total\": 490, \"HP\": 95, \"Attack\": 75, \"Defense\": 110, \"SpecialA\": 100, \"SpecialD\": 80, \"Speed\": 30, \"Generation\": 1}, {\"#\": 80, \"Name\": \"SlowbroMega Slowbro\", \"Type 1\": \"Water\", \"Type 2\": \"Psychic\", \"Total\": 590, \"HP\": 95, \"Attack\": 75, \"Defense\": 180, \"SpecialA\": 130, \"SpecialD\": 80, \"Speed\": 30, \"Generation\": 1}, {\"#\": 81, \"Name\": \"Magnemite\", \"Type 1\": \"Electric\", \"Type 2\": \"Steel\", \"Total\": 325, \"HP\": 25, \"Attack\": 35, \"Defense\": 70, \"SpecialA\": 95, \"SpecialD\": 55, \"Speed\": 45, \"Generation\": 1}, {\"#\": 82, \"Name\": \"Magneton\", \"Type 1\": \"Electric\", \"Type 2\": \"Steel\", \"Total\": 465, \"HP\": 50, \"Attack\": 60, \"Defense\": 95, \"SpecialA\": 120, \"SpecialD\": 70, \"Speed\": 70, \"Generation\": 1}, {\"#\": 83, \"Name\": \"Farfetch'd\", \"Type 1\": \"Normal\", \"Type 2\": \"Flying\", \"Total\": 352, \"HP\": 52, \"Attack\": 65, \"Defense\": 55, \"SpecialA\": 58, \"SpecialD\": 62, \"Speed\": 60, \"Generation\": 1}, {\"#\": 84, \"Name\": \"Doduo\", \"Type 1\": \"Normal\", \"Type 2\": \"Flying\", \"Total\": 310, \"HP\": 35, \"Attack\": 85, \"Defense\": 45, \"SpecialA\": 35, \"SpecialD\": 35, \"Speed\": 75, \"Generation\": 1}, {\"#\": 85, \"Name\": \"Dodrio\", \"Type 1\": \"Normal\", \"Type 2\": \"Flying\", \"Total\": 460, \"HP\": 60, \"Attack\": 110, \"Defense\": 70, \"SpecialA\": 60, \"SpecialD\": 60, \"Speed\": 100, \"Generation\": 1}, {\"#\": 87, \"Name\": \"Dewgong\", \"Type 1\": \"Water\", \"Type 2\": \"Ice\", \"Total\": 475, \"HP\": 90, \"Attack\": 70, \"Defense\": 80, \"SpecialA\": 70, \"SpecialD\": 95, \"Speed\": 70, \"Generation\": 1}, {\"#\": 91, \"Name\": \"Cloyster\", \"Type 1\": \"Water\", \"Type 2\": \"Ice\", \"Total\": 525, \"HP\": 50, \"Attack\": 95, \"Defense\": 180, \"SpecialA\": 85, \"SpecialD\": 45, \"Speed\": 70, \"Generation\": 1}, {\"#\": 92, \"Name\": \"Gastly\", \"Type 1\": \"Ghost\", \"Type 2\": \"Poison\", \"Total\": 310, \"HP\": 30, \"Attack\": 35, \"Defense\": 30, \"SpecialA\": 100, \"SpecialD\": 35, \"Speed\": 80, \"Generation\": 1}, {\"#\": 93, \"Name\": \"Haunter\", \"Type 1\": \"Ghost\", \"Type 2\": \"Poison\", \"Total\": 405, \"HP\": 45, \"Attack\": 50, \"Defense\": 45, \"SpecialA\": 115, \"SpecialD\": 55, \"Speed\": 95, \"Generation\": 1}, {\"#\": 94, \"Name\": \"Gengar\", \"Type 1\": \"Ghost\", \"Type 2\": \"Poison\", \"Total\": 500, \"HP\": 60, \"Attack\": 65, \"Defense\": 60, \"SpecialA\": 130, \"SpecialD\": 75, \"Speed\": 110, \"Generation\": 1}, {\"#\": 94, \"Name\": \"GengarMega Gengar\", \"Type 1\": \"Ghost\", \"Type 2\": \"Poison\", \"Total\": 600, \"HP\": 60, \"Attack\": 65, \"Defense\": 80, \"SpecialA\": 170, \"SpecialD\": 95, \"Speed\": 130, \"Generation\": 1}, {\"#\": 95, \"Name\": \"Onix\", \"Type 1\": \"Rock\", \"Type 2\": \"Ground\", \"Total\": 385, \"HP\": 35, \"Attack\": 45, \"Defense\": 160, \"SpecialA\": 30, \"SpecialD\": 45, \"Speed\": 70, \"Generation\": 1}, {\"#\": 102, \"Name\": \"Exeggcute\", \"Type 1\": \"Grass\", \"Type 2\": \"Psychic\", \"Total\": 325, \"HP\": 60, \"Attack\": 40, \"Defense\": 80, \"SpecialA\": 60, \"SpecialD\": 45, \"Speed\": 40, \"Generation\": 1}, {\"#\": 103, \"Name\": \"Exeggutor\", \"Type 1\": \"Grass\", \"Type 2\": \"Psychic\", \"Total\": 520, \"HP\": 95, \"Attack\": 95, \"Defense\": 85, \"SpecialA\": 125, \"SpecialD\": 65, \"Speed\": 55, \"Generation\": 1}, {\"#\": 111, \"Name\": \"Rhyhorn\", \"Type 1\": \"Ground\", \"Type 2\": \"Rock\", \"Total\": 345, \"HP\": 80, \"Attack\": 85, \"Defense\": 95, \"SpecialA\": 30, \"SpecialD\": 30, \"Speed\": 25, \"Generation\": 1}, {\"#\": 112, \"Name\": \"Rhydon\", \"Type 1\": \"Ground\", \"Type 2\": \"Rock\", \"Total\": 485, \"HP\": 105, \"Attack\": 130, \"Defense\": 120, \"SpecialA\": 45, \"SpecialD\": 45, \"Speed\": 40, \"Generation\": 1}, {\"#\": 121, \"Name\": \"Starmie\", \"Type 1\": \"Water\", \"Type 2\": \"Psychic\", \"Total\": 520, \"HP\": 60, \"Attack\": 75, \"Defense\": 85, \"SpecialA\": 100, \"SpecialD\": 85, \"Speed\": 115, \"Generation\": 1}, {\"#\": 122, \"Name\": \"Mr. Mime\", \"Type 1\": \"Psychic\", \"Type 2\": \"Fairy\", \"Total\": 460, \"HP\": 40, \"Attack\": 45, \"Defense\": 65, \"SpecialA\": 100, \"SpecialD\": 120, \"Speed\": 90, \"Generation\": 1}, {\"#\": 123, \"Name\": \"Scyther\", \"Type 1\": \"Bug\", \"Type 2\": \"Flying\", \"Total\": 500, \"HP\": 70, \"Attack\": 110, \"Defense\": 80, \"SpecialA\": 55, \"SpecialD\": 80, \"Speed\": 105, \"Generation\": 1}, {\"#\": 124, \"Name\": \"Jynx\", \"Type 1\": \"Ice\", \"Type 2\": \"Psychic\", \"Total\": 455, \"HP\": 65, \"Attack\": 50, \"Defense\": 35, \"SpecialA\": 115, \"SpecialD\": 95, \"Speed\": 95, \"Generation\": 1}, {\"#\": 127, \"Name\": \"PinsirMega Pinsir\", \"Type 1\": \"Bug\", \"Type 2\": \"Flying\", \"Total\": 600, \"HP\": 65, \"Attack\": 155, \"Defense\": 120, \"SpecialA\": 65, \"SpecialD\": 90, \"Speed\": 105, \"Generation\": 1}, {\"#\": 130, \"Name\": \"Gyarados\", \"Type 1\": \"Water\", \"Type 2\": \"Flying\", \"Total\": 540, \"HP\": 95, \"Attack\": 125, \"Defense\": 79, \"SpecialA\": 60, \"SpecialD\": 100, \"Speed\": 81, \"Generation\": 1}, {\"#\": 130, \"Name\": \"GyaradosMega Gyarados\", \"Type 1\": \"Water\", \"Type 2\": \"Dark\", \"Total\": 640, \"HP\": 95, \"Attack\": 155, \"Defense\": 109, \"SpecialA\": 70, \"SpecialD\": 130, \"Speed\": 81, \"Generation\": 1}, {\"#\": 131, \"Name\": \"Lapras\", \"Type 1\": \"Water\", \"Type 2\": \"Ice\", \"Total\": 535, \"HP\": 130, \"Attack\": 85, \"Defense\": 80, \"SpecialA\": 85, \"SpecialD\": 95, \"Speed\": 60, \"Generation\": 1}, {\"#\": 138, \"Name\": \"Omanyte\", \"Type 1\": \"Rock\", \"Type 2\": \"Water\", \"Total\": 355, \"HP\": 35, \"Attack\": 40, \"Defense\": 100, \"SpecialA\": 90, \"SpecialD\": 55, \"Speed\": 35, \"Generation\": 1}, {\"#\": 139, \"Name\": \"Omastar\", \"Type 1\": \"Rock\", \"Type 2\": \"Water\", \"Total\": 495, \"HP\": 70, \"Attack\": 60, \"Defense\": 125, \"SpecialA\": 115, \"SpecialD\": 70, \"Speed\": 55, \"Generation\": 1}, {\"#\": 140, \"Name\": \"Kabuto\", \"Type 1\": \"Rock\", \"Type 2\": \"Water\", \"Total\": 355, \"HP\": 30, \"Attack\": 80, \"Defense\": 90, \"SpecialA\": 55, \"SpecialD\": 45, \"Speed\": 55, \"Generation\": 1}, {\"#\": 141, \"Name\": \"Kabutops\", \"Type 1\": \"Rock\", \"Type 2\": \"Water\", \"Total\": 495, \"HP\": 60, \"Attack\": 115, \"Defense\": 105, \"SpecialA\": 65, \"SpecialD\": 70, \"Speed\": 80, \"Generation\": 1}, {\"#\": 142, \"Name\": \"Aerodactyl\", \"Type 1\": \"Rock\", \"Type 2\": \"Flying\", \"Total\": 515, \"HP\": 80, \"Attack\": 105, \"Defense\": 65, \"SpecialA\": 60, \"SpecialD\": 75, \"Speed\": 130, \"Generation\": 1}, {\"#\": 142, \"Name\": \"AerodactylMega Aerodactyl\", \"Type 1\": \"Rock\", \"Type 2\": \"Flying\", \"Total\": 615, \"HP\": 80, \"Attack\": 135, \"Defense\": 85, \"SpecialA\": 70, \"SpecialD\": 95, \"Speed\": 150, \"Generation\": 1}, {\"#\": 149, \"Name\": \"Dragonite\", \"Type 1\": \"Dragon\", \"Type 2\": \"Flying\", \"Total\": 600, \"HP\": 91, \"Attack\": 134, \"Defense\": 95, \"SpecialA\": 100, \"SpecialD\": 100, \"Speed\": 80, \"Generation\": 1}, {\"#\": 163, \"Name\": \"Hoothoot\", \"Type 1\": \"Normal\", \"Type 2\": \"Flying\", \"Total\": 262, \"HP\": 60, \"Attack\": 30, \"Defense\": 30, \"SpecialA\": 36, \"SpecialD\": 56, \"Speed\": 50, \"Generation\": 2}, {\"#\": 164, \"Name\": \"Noctowl\", \"Type 1\": \"Normal\", \"Type 2\": \"Flying\", \"Total\": 442, \"HP\": 100, \"Attack\": 50, \"Defense\": 50, \"SpecialA\": 76, \"SpecialD\": 96, \"Speed\": 70, \"Generation\": 2}, {\"#\": 165, \"Name\": \"Ledyba\", \"Type 1\": \"Bug\", \"Type 2\": \"Flying\", \"Total\": 265, \"HP\": 40, \"Attack\": 20, \"Defense\": 30, \"SpecialA\": 40, \"SpecialD\": 80, \"Speed\": 55, \"Generation\": 2}, {\"#\": 166, \"Name\": \"Ledian\", \"Type 1\": \"Bug\", \"Type 2\": \"Flying\", \"Total\": 390, \"HP\": 55, \"Attack\": 35, \"Defense\": 50, \"SpecialA\": 55, \"SpecialD\": 110, \"Speed\": 85, \"Generation\": 2}, {\"#\": 167, \"Name\": \"Spinarak\", \"Type 1\": \"Bug\", \"Type 2\": \"Poison\", \"Total\": 250, \"HP\": 40, \"Attack\": 60, \"Defense\": 40, \"SpecialA\": 40, \"SpecialD\": 40, \"Speed\": 30, \"Generation\": 2}, {\"#\": 168, \"Name\": \"Ariados\", \"Type 1\": \"Bug\", \"Type 2\": \"Poison\", \"Total\": 390, \"HP\": 70, \"Attack\": 90, \"Defense\": 70, \"SpecialA\": 60, \"SpecialD\": 60, \"Speed\": 40, \"Generation\": 2}, {\"#\": 169, \"Name\": \"Crobat\", \"Type 1\": \"Poison\", \"Type 2\": \"Flying\", \"Total\": 535, \"HP\": 85, \"Attack\": 90, \"Defense\": 80, \"SpecialA\": 70, \"SpecialD\": 80, \"Speed\": 130, \"Generation\": 2}, {\"#\": 170, \"Name\": \"Chinchou\", \"Type 1\": \"Water\", \"Type 2\": \"Electric\", \"Total\": 330, \"HP\": 75, \"Attack\": 38, \"Defense\": 38, \"SpecialA\": 56, \"SpecialD\": 56, \"Speed\": 67, \"Generation\": 2}, {\"#\": 171, \"Name\": \"Lanturn\", \"Type 1\": \"Water\", \"Type 2\": \"Electric\", \"Total\": 460, \"HP\": 125, \"Attack\": 58, \"Defense\": 58, \"SpecialA\": 76, \"SpecialD\": 76, \"Speed\": 67, \"Generation\": 2}, {\"#\": 174, \"Name\": \"Igglybuff\", \"Type 1\": \"Normal\", \"Type 2\": \"Fairy\", \"Total\": 210, \"HP\": 90, \"Attack\": 30, \"Defense\": 15, \"SpecialA\": 40, \"SpecialD\": 20, \"Speed\": 15, \"Generation\": 2}, {\"#\": 176, \"Name\": \"Togetic\", \"Type 1\": \"Fairy\", \"Type 2\": \"Flying\", \"Total\": 405, \"HP\": 55, \"Attack\": 40, \"Defense\": 85, \"SpecialA\": 80, \"SpecialD\": 105, \"Speed\": 40, \"Generation\": 2}, {\"#\": 177, \"Name\": \"Natu\", \"Type 1\": \"Psychic\", \"Type 2\": \"Flying\", \"Total\": 320, \"HP\": 40, \"Attack\": 50, \"Defense\": 45, \"SpecialA\": 70, \"SpecialD\": 45, \"Speed\": 70, \"Generation\": 2}, {\"#\": 178, \"Name\": \"Xatu\", \"Type 1\": \"Psychic\", \"Type 2\": \"Flying\", \"Total\": 470, \"HP\": 65, \"Attack\": 75, \"Defense\": 70, \"SpecialA\": 95, \"SpecialD\": 70, \"Speed\": 95, \"Generation\": 2}, {\"#\": 181, \"Name\": \"AmpharosMega Ampharos\", \"Type 1\": \"Electric\", \"Type 2\": \"Dragon\", \"Total\": 610, \"HP\": 90, \"Attack\": 95, \"Defense\": 105, \"SpecialA\": 165, \"SpecialD\": 110, \"Speed\": 45, \"Generation\": 2}, {\"#\": 183, \"Name\": \"Marill\", \"Type 1\": \"Water\", \"Type 2\": \"Fairy\", \"Total\": 250, \"HP\": 70, \"Attack\": 20, \"Defense\": 50, \"SpecialA\": 20, \"SpecialD\": 50, \"Speed\": 40, \"Generation\": 2}, {\"#\": 184, \"Name\": \"Azumarill\", \"Type 1\": \"Water\", \"Type 2\": \"Fairy\", \"Total\": 420, \"HP\": 100, \"Attack\": 50, \"Defense\": 80, \"SpecialA\": 60, \"SpecialD\": 80, \"Speed\": 50, \"Generation\": 2}, {\"#\": 187, \"Name\": \"Hoppip\", \"Type 1\": \"Grass\", \"Type 2\": \"Flying\", \"Total\": 250, \"HP\": 35, \"Attack\": 35, \"Defense\": 40, \"SpecialA\": 35, \"SpecialD\": 55, \"Speed\": 50, \"Generation\": 2}, {\"#\": 188, \"Name\": \"Skiploom\", \"Type 1\": \"Grass\", \"Type 2\": \"Flying\", \"Total\": 340, \"HP\": 55, \"Attack\": 45, \"Defense\": 50, \"SpecialA\": 45, \"SpecialD\": 65, \"Speed\": 80, \"Generation\": 2}, {\"#\": 189, \"Name\": \"Jumpluff\", \"Type 1\": \"Grass\", \"Type 2\": \"Flying\", \"Total\": 460, \"HP\": 75, \"Attack\": 55, \"Defense\": 70, \"SpecialA\": 55, \"SpecialD\": 95, \"Speed\": 110, \"Generation\": 2}, {\"#\": 193, \"Name\": \"Yanma\", \"Type 1\": \"Bug\", \"Type 2\": \"Flying\", \"Total\": 390, \"HP\": 65, \"Attack\": 65, \"Defense\": 45, \"SpecialA\": 75, \"SpecialD\": 45, \"Speed\": 95, \"Generation\": 2}, {\"#\": 194, \"Name\": \"Wooper\", \"Type 1\": \"Water\", \"Type 2\": \"Ground\", \"Total\": 210, \"HP\": 55, \"Attack\": 45, \"Defense\": 45, \"SpecialA\": 25, \"SpecialD\": 25, \"Speed\": 15, \"Generation\": 2}, {\"#\": 195, \"Name\": \"Quagsire\", \"Type 1\": \"Water\", \"Type 2\": \"Ground\", \"Total\": 430, \"HP\": 95, \"Attack\": 85, \"Defense\": 85, \"SpecialA\": 65, \"SpecialD\": 65, \"Speed\": 35, \"Generation\": 2}, {\"#\": 198, \"Name\": \"Murkrow\", \"Type 1\": \"Dark\", \"Type 2\": \"Flying\", \"Total\": 405, \"HP\": 60, \"Attack\": 85, \"Defense\": 42, \"SpecialA\": 85, \"SpecialD\": 42, \"Speed\": 91, \"Generation\": 2}, {\"#\": 199, \"Name\": \"Slowking\", \"Type 1\": \"Water\", \"Type 2\": \"Psychic\", \"Total\": 490, \"HP\": 95, \"Attack\": 75, \"Defense\": 80, \"SpecialA\": 100, \"SpecialD\": 110, \"Speed\": 30, \"Generation\": 2}, {\"#\": 203, \"Name\": \"Girafarig\", \"Type 1\": \"Normal\", \"Type 2\": \"Psychic\", \"Total\": 455, \"HP\": 70, \"Attack\": 80, \"Defense\": 65, \"SpecialA\": 90, \"SpecialD\": 65, \"Speed\": 85, \"Generation\": 2}, {\"#\": 205, \"Name\": \"Forretress\", \"Type 1\": \"Bug\", \"Type 2\": \"Steel\", \"Total\": 465, \"HP\": 75, \"Attack\": 90, \"Defense\": 140, \"SpecialA\": 60, \"SpecialD\": 60, \"Speed\": 40, \"Generation\": 2}, {\"#\": 207, \"Name\": \"Gligar\", \"Type 1\": \"Ground\", \"Type 2\": \"Flying\", \"Total\": 430, \"HP\": 65, \"Attack\": 75, \"Defense\": 105, \"SpecialA\": 35, \"SpecialD\": 65, \"Speed\": 85, \"Generation\": 2}, {\"#\": 208, \"Name\": \"Steelix\", \"Type 1\": \"Steel\", \"Type 2\": \"Ground\", \"Total\": 510, \"HP\": 75, \"Attack\": 85, \"Defense\": 200, \"SpecialA\": 55, \"SpecialD\": 65, \"Speed\": 30, \"Generation\": 2}, {\"#\": 208, \"Name\": \"SteelixMega Steelix\", \"Type 1\": \"Steel\", \"Type 2\": \"Ground\", \"Total\": 610, \"HP\": 75, \"Attack\": 125, \"Defense\": 230, \"SpecialA\": 55, \"SpecialD\": 95, \"Speed\": 30, \"Generation\": 2}, {\"#\": 211, \"Name\": \"Qwilfish\", \"Type 1\": \"Water\", \"Type 2\": \"Poison\", \"Total\": 430, \"HP\": 65, \"Attack\": 95, \"Defense\": 75, \"SpecialA\": 55, \"SpecialD\": 55, \"Speed\": 85, \"Generation\": 2}, {\"#\": 212, \"Name\": \"Scizor\", \"Type 1\": \"Bug\", \"Type 2\": \"Steel\", \"Total\": 500, \"HP\": 70, \"Attack\": 130, \"Defense\": 100, \"SpecialA\": 55, \"SpecialD\": 80, \"Speed\": 65, \"Generation\": 2}, {\"#\": 212, \"Name\": \"ScizorMega Scizor\", \"Type 1\": \"Bug\", \"Type 2\": \"Steel\", \"Total\": 600, \"HP\": 70, \"Attack\": 150, \"Defense\": 140, \"SpecialA\": 65, \"SpecialD\": 100, \"Speed\": 75, \"Generation\": 2}, {\"#\": 213, \"Name\": \"Shuckle\", \"Type 1\": \"Bug\", \"Type 2\": \"Rock\", \"Total\": 505, \"HP\": 20, \"Attack\": 10, \"Defense\": 230, \"SpecialA\": 10, \"SpecialD\": 230, \"Speed\": 5, \"Generation\": 2}, {\"#\": 214, \"Name\": \"Heracross\", \"Type 1\": \"Bug\", \"Type 2\": \"Fighting\", \"Total\": 500, \"HP\": 80, \"Attack\": 125, \"Defense\": 75, \"SpecialA\": 40, \"SpecialD\": 95, \"Speed\": 85, \"Generation\": 2}, {\"#\": 214, \"Name\": \"HeracrossMega Heracross\", \"Type 1\": \"Bug\", \"Type 2\": \"Fighting\", \"Total\": 600, \"HP\": 80, \"Attack\": 185, \"Defense\": 115, \"SpecialA\": 40, \"SpecialD\": 105, \"Speed\": 75, \"Generation\": 2}, {\"#\": 215, \"Name\": \"Sneasel\", \"Type 1\": \"Dark\", \"Type 2\": \"Ice\", \"Total\": 430, \"HP\": 55, \"Attack\": 95, \"Defense\": 55, \"SpecialA\": 35, \"SpecialD\": 75, \"Speed\": 115, \"Generation\": 2}, {\"#\": 219, \"Name\": \"Magcargo\", \"Type 1\": \"Fire\", \"Type 2\": \"Rock\", \"Total\": 410, \"HP\": 50, \"Attack\": 50, \"Defense\": 120, \"SpecialA\": 80, \"SpecialD\": 80, \"Speed\": 30, \"Generation\": 2}, {\"#\": 220, \"Name\": \"Swinub\", \"Type 1\": \"Ice\", \"Type 2\": \"Ground\", \"Total\": 250, \"HP\": 50, \"Attack\": 50, \"Defense\": 40, \"SpecialA\": 30, \"SpecialD\": 30, \"Speed\": 50, \"Generation\": 2}, {\"#\": 221, \"Name\": \"Piloswine\", \"Type 1\": \"Ice\", \"Type 2\": \"Ground\", \"Total\": 450, \"HP\": 100, \"Attack\": 100, \"Defense\": 80, \"SpecialA\": 60, \"SpecialD\": 60, \"Speed\": 50, \"Generation\": 2}, {\"#\": 222, \"Name\": \"Corsola\", \"Type 1\": \"Water\", \"Type 2\": \"Rock\", \"Total\": 380, \"HP\": 55, \"Attack\": 55, \"Defense\": 85, \"SpecialA\": 65, \"SpecialD\": 85, \"Speed\": 35, \"Generation\": 2}, {\"#\": 225, \"Name\": \"Delibird\", \"Type 1\": \"Ice\", \"Type 2\": \"Flying\", \"Total\": 330, \"HP\": 45, \"Attack\": 55, \"Defense\": 45, \"SpecialA\": 65, \"SpecialD\": 45, \"Speed\": 75, \"Generation\": 2}, {\"#\": 226, \"Name\": \"Mantine\", \"Type 1\": \"Water\", \"Type 2\": \"Flying\", \"Total\": 465, \"HP\": 65, \"Attack\": 40, \"Defense\": 70, \"SpecialA\": 80, \"SpecialD\": 140, \"Speed\": 70, \"Generation\": 2}, {\"#\": 227, \"Name\": \"Skarmory\", \"Type 1\": \"Steel\", \"Type 2\": \"Flying\", \"Total\": 465, \"HP\": 65, \"Attack\": 80, \"Defense\": 140, \"SpecialA\": 40, \"SpecialD\": 70, \"Speed\": 70, \"Generation\": 2}, {\"#\": 228, \"Name\": \"Houndour\", \"Type 1\": \"Dark\", \"Type 2\": \"Fire\", \"Total\": 330, \"HP\": 45, \"Attack\": 60, \"Defense\": 30, \"SpecialA\": 80, \"SpecialD\": 50, \"Speed\": 65, \"Generation\": 2}, {\"#\": 229, \"Name\": \"Houndoom\", \"Type 1\": \"Dark\", \"Type 2\": \"Fire\", \"Total\": 500, \"HP\": 75, \"Attack\": 90, \"Defense\": 50, \"SpecialA\": 110, \"SpecialD\": 80, \"Speed\": 95, \"Generation\": 2}, {\"#\": 229, \"Name\": \"HoundoomMega Houndoom\", \"Type 1\": \"Dark\", \"Type 2\": \"Fire\", \"Total\": 600, \"HP\": 75, \"Attack\": 90, \"Defense\": 90, \"SpecialA\": 140, \"SpecialD\": 90, \"Speed\": 115, \"Generation\": 2}, {\"#\": 230, \"Name\": \"Kingdra\", \"Type 1\": \"Water\", \"Type 2\": \"Dragon\", \"Total\": 540, \"HP\": 75, \"Attack\": 95, \"Defense\": 95, \"SpecialA\": 95, \"SpecialD\": 95, \"Speed\": 85, \"Generation\": 2}, {\"#\": 238, \"Name\": \"Smoochum\", \"Type 1\": \"Ice\", \"Type 2\": \"Psychic\", \"Total\": 305, \"HP\": 45, \"Attack\": 30, \"Defense\": 15, \"SpecialA\": 85, \"SpecialD\": 65, \"Speed\": 65, \"Generation\": 2}, {\"#\": 246, \"Name\": \"Larvitar\", \"Type 1\": \"Rock\", \"Type 2\": \"Ground\", \"Total\": 300, \"HP\": 50, \"Attack\": 64, \"Defense\": 50, \"SpecialA\": 45, \"SpecialD\": 50, \"Speed\": 41, \"Generation\": 2}, {\"#\": 247, \"Name\": \"Pupitar\", \"Type 1\": \"Rock\", \"Type 2\": \"Ground\", \"Total\": 410, \"HP\": 70, \"Attack\": 84, \"Defense\": 70, \"SpecialA\": 65, \"SpecialD\": 70, \"Speed\": 51, \"Generation\": 2}, {\"#\": 248, \"Name\": \"Tyranitar\", \"Type 1\": \"Rock\", \"Type 2\": \"Dark\", \"Total\": 600, \"HP\": 100, \"Attack\": 134, \"Defense\": 110, \"SpecialA\": 95, \"SpecialD\": 100, \"Speed\": 61, \"Generation\": 2}, {\"#\": 248, \"Name\": \"TyranitarMega Tyranitar\", \"Type 1\": \"Rock\", \"Type 2\": \"Dark\", \"Total\": 700, \"HP\": 100, \"Attack\": 164, \"Defense\": 150, \"SpecialA\": 95, \"SpecialD\": 120, \"Speed\": 71, \"Generation\": 2}, {\"#\": 251, \"Name\": \"Celebi\", \"Type 1\": \"Psychic\", \"Type 2\": \"Grass\", \"Total\": 600, \"HP\": 100, \"Attack\": 100, \"Defense\": 100, \"SpecialA\": 100, \"SpecialD\": 100, \"Speed\": 100, \"Generation\": 2}, {\"#\": 254, \"Name\": \"SceptileMega Sceptile\", \"Type 1\": \"Grass\", \"Type 2\": \"Dragon\", \"Total\": 630, \"HP\": 70, \"Attack\": 110, \"Defense\": 75, \"SpecialA\": 145, \"SpecialD\": 85, \"Speed\": 145, \"Generation\": 3}, {\"#\": 256, \"Name\": \"Combusken\", \"Type 1\": \"Fire\", \"Type 2\": \"Fighting\", \"Total\": 405, \"HP\": 60, \"Attack\": 85, \"Defense\": 60, \"SpecialA\": 85, \"SpecialD\": 60, \"Speed\": 55, \"Generation\": 3}, {\"#\": 257, \"Name\": \"Blaziken\", \"Type 1\": \"Fire\", \"Type 2\": \"Fighting\", \"Total\": 530, \"HP\": 80, \"Attack\": 120, \"Defense\": 70, \"SpecialA\": 110, \"SpecialD\": 70, \"Speed\": 80, \"Generation\": 3}, {\"#\": 257, \"Name\": \"BlazikenMega Blaziken\", \"Type 1\": \"Fire\", \"Type 2\": \"Fighting\", \"Total\": 630, \"HP\": 80, \"Attack\": 160, \"Defense\": 80, \"SpecialA\": 130, \"SpecialD\": 80, \"Speed\": 100, \"Generation\": 3}, {\"#\": 259, \"Name\": \"Marshtomp\", \"Type 1\": \"Water\", \"Type 2\": \"Ground\", \"Total\": 405, \"HP\": 70, \"Attack\": 85, \"Defense\": 70, \"SpecialA\": 60, \"SpecialD\": 70, \"Speed\": 50, \"Generation\": 3}, {\"#\": 260, \"Name\": \"Swampert\", \"Type 1\": \"Water\", \"Type 2\": \"Ground\", \"Total\": 535, \"HP\": 100, \"Attack\": 110, \"Defense\": 90, \"SpecialA\": 85, \"SpecialD\": 90, \"Speed\": 60, \"Generation\": 3}, {\"#\": 260, \"Name\": \"SwampertMega Swampert\", \"Type 1\": \"Water\", \"Type 2\": \"Ground\", \"Total\": 635, \"HP\": 100, \"Attack\": 150, \"Defense\": 110, \"SpecialA\": 95, \"SpecialD\": 110, \"Speed\": 70, \"Generation\": 3}, {\"#\": 267, \"Name\": \"Beautifly\", \"Type 1\": \"Bug\", \"Type 2\": \"Flying\", \"Total\": 395, \"HP\": 60, \"Attack\": 70, \"Defense\": 50, \"SpecialA\": 100, \"SpecialD\": 50, \"Speed\": 65, \"Generation\": 3}, {\"#\": 269, \"Name\": \"Dustox\", \"Type 1\": \"Bug\", \"Type 2\": \"Poison\", \"Total\": 385, \"HP\": 60, \"Attack\": 50, \"Defense\": 70, \"SpecialA\": 50, \"SpecialD\": 90, \"Speed\": 65, \"Generation\": 3}, {\"#\": 270, \"Name\": \"Lotad\", \"Type 1\": \"Water\", \"Type 2\": \"Grass\", \"Total\": 220, \"HP\": 40, \"Attack\": 30, \"Defense\": 30, \"SpecialA\": 40, \"SpecialD\": 50, \"Speed\": 30, \"Generation\": 3}, {\"#\": 271, \"Name\": \"Lombre\", \"Type 1\": \"Water\", \"Type 2\": \"Grass\", \"Total\": 340, \"HP\": 60, \"Attack\": 50, \"Defense\": 50, \"SpecialA\": 60, \"SpecialD\": 70, \"Speed\": 50, \"Generation\": 3}, {\"#\": 272, \"Name\": \"Ludicolo\", \"Type 1\": \"Water\", \"Type 2\": \"Grass\", \"Total\": 480, \"HP\": 80, \"Attack\": 70, \"Defense\": 70, \"SpecialA\": 90, \"SpecialD\": 100, \"Speed\": 70, \"Generation\": 3}, {\"#\": 274, \"Name\": \"Nuzleaf\", \"Type 1\": \"Grass\", \"Type 2\": \"Dark\", \"Total\": 340, \"HP\": 70, \"Attack\": 70, \"Defense\": 40, \"SpecialA\": 60, \"SpecialD\": 40, \"Speed\": 60, \"Generation\": 3}, {\"#\": 275, \"Name\": \"Shiftry\", \"Type 1\": \"Grass\", \"Type 2\": \"Dark\", \"Total\": 480, \"HP\": 90, \"Attack\": 100, \"Defense\": 60, \"SpecialA\": 90, \"SpecialD\": 60, \"Speed\": 80, \"Generation\": 3}, {\"#\": 276, \"Name\": \"Taillow\", \"Type 1\": \"Normal\", \"Type 2\": \"Flying\", \"Total\": 270, \"HP\": 40, \"Attack\": 55, \"Defense\": 30, \"SpecialA\": 30, \"SpecialD\": 30, \"Speed\": 85, \"Generation\": 3}, {\"#\": 277, \"Name\": \"Swellow\", \"Type 1\": \"Normal\", \"Type 2\": \"Flying\", \"Total\": 430, \"HP\": 60, \"Attack\": 85, \"Defense\": 60, \"SpecialA\": 50, \"SpecialD\": 50, \"Speed\": 125, \"Generation\": 3}, {\"#\": 278, \"Name\": \"Wingull\", \"Type 1\": \"Water\", \"Type 2\": \"Flying\", \"Total\": 270, \"HP\": 40, \"Attack\": 30, \"Defense\": 30, \"SpecialA\": 55, \"SpecialD\": 30, \"Speed\": 85, \"Generation\": 3}, {\"#\": 279, \"Name\": \"Pelipper\", \"Type 1\": \"Water\", \"Type 2\": \"Flying\", \"Total\": 430, \"HP\": 60, \"Attack\": 50, \"Defense\": 100, \"SpecialA\": 85, \"SpecialD\": 70, \"Speed\": 65, \"Generation\": 3}, {\"#\": 280, \"Name\": \"Ralts\", \"Type 1\": \"Psychic\", \"Type 2\": \"Fairy\", \"Total\": 198, \"HP\": 28, \"Attack\": 25, \"Defense\": 25, \"SpecialA\": 45, \"SpecialD\": 35, \"Speed\": 40, \"Generation\": 3}, {\"#\": 281, \"Name\": \"Kirlia\", \"Type 1\": \"Psychic\", \"Type 2\": \"Fairy\", \"Total\": 278, \"HP\": 38, \"Attack\": 35, \"Defense\": 35, \"SpecialA\": 65, \"SpecialD\": 55, \"Speed\": 50, \"Generation\": 3}, {\"#\": 282, \"Name\": \"Gardevoir\", \"Type 1\": \"Psychic\", \"Type 2\": \"Fairy\", \"Total\": 518, \"HP\": 68, \"Attack\": 65, \"Defense\": 65, \"SpecialA\": 125, \"SpecialD\": 115, \"Speed\": 80, \"Generation\": 3}, {\"#\": 282, \"Name\": \"GardevoirMega Gardevoir\", \"Type 1\": \"Psychic\", \"Type 2\": \"Fairy\", \"Total\": 618, \"HP\": 68, \"Attack\": 85, \"Defense\": 65, \"SpecialA\": 165, \"SpecialD\": 135, \"Speed\": 100, \"Generation\": 3}, {\"#\": 283, \"Name\": \"Surskit\", \"Type 1\": \"Bug\", \"Type 2\": \"Water\", \"Total\": 269, \"HP\": 40, \"Attack\": 30, \"Defense\": 32, \"SpecialA\": 50, \"SpecialD\": 52, \"Speed\": 65, \"Generation\": 3}, {\"#\": 284, \"Name\": \"Masquerain\", \"Type 1\": \"Bug\", \"Type 2\": \"Flying\", \"Total\": 414, \"HP\": 70, \"Attack\": 60, \"Defense\": 62, \"SpecialA\": 80, \"SpecialD\": 82, \"Speed\": 60, \"Generation\": 3}, {\"#\": 286, \"Name\": \"Breloom\", \"Type 1\": \"Grass\", \"Type 2\": \"Fighting\", \"Total\": 460, \"HP\": 60, \"Attack\": 130, \"Defense\": 80, \"SpecialA\": 60, \"SpecialD\": 60, \"Speed\": 70, \"Generation\": 3}, {\"#\": 290, \"Name\": \"Nincada\", \"Type 1\": \"Bug\", \"Type 2\": \"Ground\", \"Total\": 266, \"HP\": 31, \"Attack\": 45, \"Defense\": 90, \"SpecialA\": 30, \"SpecialD\": 30, \"Speed\": 40, \"Generation\": 3}, {\"#\": 291, \"Name\": \"Ninjask\", \"Type 1\": \"Bug\", \"Type 2\": \"Flying\", \"Total\": 456, \"HP\": 61, \"Attack\": 90, \"Defense\": 45, \"SpecialA\": 50, \"SpecialD\": 50, \"Speed\": 160, \"Generation\": 3}, {\"#\": 292, \"Name\": \"Shedinja\", \"Type 1\": \"Bug\", \"Type 2\": \"Ghost\", \"Total\": 236, \"HP\": 1, \"Attack\": 90, \"Defense\": 45, \"SpecialA\": 30, \"SpecialD\": 30, \"Speed\": 40, \"Generation\": 3}, {\"#\": 298, \"Name\": \"Azurill\", \"Type 1\": \"Normal\", \"Type 2\": \"Fairy\", \"Total\": 190, \"HP\": 50, \"Attack\": 20, \"Defense\": 40, \"SpecialA\": 20, \"SpecialD\": 40, \"Speed\": 20, \"Generation\": 3}, {\"#\": 302, \"Name\": \"Sableye\", \"Type 1\": \"Dark\", \"Type 2\": \"Ghost\", \"Total\": 380, \"HP\": 50, \"Attack\": 75, \"Defense\": 75, \"SpecialA\": 65, \"SpecialD\": 65, \"Speed\": 50, \"Generation\": 3}, {\"#\": 302, \"Name\": \"SableyeMega Sableye\", \"Type 1\": \"Dark\", \"Type 2\": \"Ghost\", \"Total\": 480, \"HP\": 50, \"Attack\": 85, \"Defense\": 125, \"SpecialA\": 85, \"SpecialD\": 115, \"Speed\": 20, \"Generation\": 3}, {\"#\": 303, \"Name\": \"Mawile\", \"Type 1\": \"Steel\", \"Type 2\": \"Fairy\", \"Total\": 380, \"HP\": 50, \"Attack\": 85, \"Defense\": 85, \"SpecialA\": 55, \"SpecialD\": 55, \"Speed\": 50, \"Generation\": 3}, {\"#\": 303, \"Name\": \"MawileMega Mawile\", \"Type 1\": \"Steel\", \"Type 2\": \"Fairy\", \"Total\": 480, \"HP\": 50, \"Attack\": 105, \"Defense\": 125, \"SpecialA\": 55, \"SpecialD\": 95, \"Speed\": 50, \"Generation\": 3}, {\"#\": 304, \"Name\": \"Aron\", \"Type 1\": \"Steel\", \"Type 2\": \"Rock\", \"Total\": 330, \"HP\": 50, \"Attack\": 70, \"Defense\": 100, \"SpecialA\": 40, \"SpecialD\": 40, \"Speed\": 30, \"Generation\": 3}, {\"#\": 305, \"Name\": \"Lairon\", \"Type 1\": \"Steel\", \"Type 2\": \"Rock\", \"Total\": 430, \"HP\": 60, \"Attack\": 90, \"Defense\": 140, \"SpecialA\": 50, \"SpecialD\": 50, \"Speed\": 40, \"Generation\": 3}, {\"#\": 306, \"Name\": \"Aggron\", \"Type 1\": \"Steel\", \"Type 2\": \"Rock\", \"Total\": 530, \"HP\": 70, \"Attack\": 110, \"Defense\": 180, \"SpecialA\": 60, \"SpecialD\": 60, \"Speed\": 50, \"Generation\": 3}, {\"#\": 307, \"Name\": \"Meditite\", \"Type 1\": \"Fighting\", \"Type 2\": \"Psychic\", \"Total\": 280, \"HP\": 30, \"Attack\": 40, \"Defense\": 55, \"SpecialA\": 40, \"SpecialD\": 55, \"Speed\": 60, \"Generation\": 3}, {\"#\": 308, \"Name\": \"Medicham\", \"Type 1\": \"Fighting\", \"Type 2\": \"Psychic\", \"Total\": 410, \"HP\": 60, \"Attack\": 60, \"Defense\": 75, \"SpecialA\": 60, \"SpecialD\": 75, \"Speed\": 80, \"Generation\": 3}, {\"#\": 308, \"Name\": \"MedichamMega Medicham\", \"Type 1\": \"Fighting\", \"Type 2\": \"Psychic\", \"Total\": 510, \"HP\": 60, \"Attack\": 100, \"Defense\": 85, \"SpecialA\": 80, \"SpecialD\": 85, \"Speed\": 100, \"Generation\": 3}, {\"#\": 315, \"Name\": \"Roselia\", \"Type 1\": \"Grass\", \"Type 2\": \"Poison\", \"Total\": 400, \"HP\": 50, \"Attack\": 60, \"Defense\": 45, \"SpecialA\": 100, \"SpecialD\": 80, \"Speed\": 65, \"Generation\": 3}, {\"#\": 318, \"Name\": \"Carvanha\", \"Type 1\": \"Water\", \"Type 2\": \"Dark\", \"Total\": 305, \"HP\": 45, \"Attack\": 90, \"Defense\": 20, \"SpecialA\": 65, \"SpecialD\": 20, \"Speed\": 65, \"Generation\": 3}, {\"#\": 319, \"Name\": \"Sharpedo\", \"Type 1\": \"Water\", \"Type 2\": \"Dark\", \"Total\": 460, \"HP\": 70, \"Attack\": 120, \"Defense\": 40, \"SpecialA\": 95, \"SpecialD\": 40, \"Speed\": 95, \"Generation\": 3}, {\"#\": 319, \"Name\": \"SharpedoMega Sharpedo\", \"Type 1\": \"Water\", \"Type 2\": \"Dark\", \"Total\": 560, \"HP\": 70, \"Attack\": 140, \"Defense\": 70, \"SpecialA\": 110, \"SpecialD\": 65, \"Speed\": 105, \"Generation\": 3}, {\"#\": 322, \"Name\": \"Numel\", \"Type 1\": \"Fire\", \"Type 2\": \"Ground\", \"Total\": 305, \"HP\": 60, \"Attack\": 60, \"Defense\": 40, \"SpecialA\": 65, \"SpecialD\": 45, \"Speed\": 35, \"Generation\": 3}, {\"#\": 323, \"Name\": \"Camerupt\", \"Type 1\": \"Fire\", \"Type 2\": \"Ground\", \"Total\": 460, \"HP\": 70, \"Attack\": 100, \"Defense\": 70, \"SpecialA\": 105, \"SpecialD\": 75, \"Speed\": 40, \"Generation\": 3}, {\"#\": 323, \"Name\": \"CameruptMega Camerupt\", \"Type 1\": \"Fire\", \"Type 2\": \"Ground\", \"Total\": 560, \"HP\": 70, \"Attack\": 120, \"Defense\": 100, \"SpecialA\": 145, \"SpecialD\": 105, \"Speed\": 20, \"Generation\": 3}, {\"#\": 329, \"Name\": \"Vibrava\", \"Type 1\": \"Ground\", \"Type 2\": \"Dragon\", \"Total\": 340, \"HP\": 50, \"Attack\": 70, \"Defense\": 50, \"SpecialA\": 50, \"SpecialD\": 50, \"Speed\": 70, \"Generation\": 3}, {\"#\": 330, \"Name\": \"Flygon\", \"Type 1\": \"Ground\", \"Type 2\": \"Dragon\", \"Total\": 520, \"HP\": 80, \"Attack\": 100, \"Defense\": 80, \"SpecialA\": 80, \"SpecialD\": 80, \"Speed\": 100, \"Generation\": 3}, {\"#\": 332, \"Name\": \"Cacturne\", \"Type 1\": \"Grass\", \"Type 2\": \"Dark\", \"Total\": 475, \"HP\": 70, \"Attack\": 115, \"Defense\": 60, \"SpecialA\": 115, \"SpecialD\": 60, \"Speed\": 55, \"Generation\": 3}, {\"#\": 333, \"Name\": \"Swablu\", \"Type 1\": \"Normal\", \"Type 2\": \"Flying\", \"Total\": 310, \"HP\": 45, \"Attack\": 40, \"Defense\": 60, \"SpecialA\": 40, \"SpecialD\": 75, \"Speed\": 50, \"Generation\": 3}, {\"#\": 334, \"Name\": \"Altaria\", \"Type 1\": \"Dragon\", \"Type 2\": \"Flying\", \"Total\": 490, \"HP\": 75, \"Attack\": 70, \"Defense\": 90, \"SpecialA\": 70, \"SpecialD\": 105, \"Speed\": 80, \"Generation\": 3}, {\"#\": 334, \"Name\": \"AltariaMega Altaria\", \"Type 1\": \"Dragon\", \"Type 2\": \"Fairy\", \"Total\": 590, \"HP\": 75, \"Attack\": 110, \"Defense\": 110, \"SpecialA\": 110, \"SpecialD\": 105, \"Speed\": 80, \"Generation\": 3}, {\"#\": 337, \"Name\": \"Lunatone\", \"Type 1\": \"Rock\", \"Type 2\": \"Psychic\", \"Total\": 440, \"HP\": 70, \"Attack\": 55, \"Defense\": 65, \"SpecialA\": 95, \"SpecialD\": 85, \"Speed\": 70, \"Generation\": 3}, {\"#\": 338, \"Name\": \"Solrock\", \"Type 1\": \"Rock\", \"Type 2\": \"Psychic\", \"Total\": 440, \"HP\": 70, \"Attack\": 95, \"Defense\": 85, \"SpecialA\": 55, \"SpecialD\": 65, \"Speed\": 70, \"Generation\": 3}, {\"#\": 339, \"Name\": \"Barboach\", \"Type 1\": \"Water\", \"Type 2\": \"Ground\", \"Total\": 288, \"HP\": 50, \"Attack\": 48, \"Defense\": 43, \"SpecialA\": 46, \"SpecialD\": 41, \"Speed\": 60, \"Generation\": 3}, {\"#\": 340, \"Name\": \"Whiscash\", \"Type 1\": \"Water\", \"Type 2\": \"Ground\", \"Total\": 468, \"HP\": 110, \"Attack\": 78, \"Defense\": 73, \"SpecialA\": 76, \"SpecialD\": 71, \"Speed\": 60, \"Generation\": 3}, {\"#\": 342, \"Name\": \"Crawdaunt\", \"Type 1\": \"Water\", \"Type 2\": \"Dark\", \"Total\": 468, \"HP\": 63, \"Attack\": 120, \"Defense\": 85, \"SpecialA\": 90, \"SpecialD\": 55, \"Speed\": 55, \"Generation\": 3}, {\"#\": 343, \"Name\": \"Baltoy\", \"Type 1\": \"Ground\", \"Type 2\": \"Psychic\", \"Total\": 300, \"HP\": 40, \"Attack\": 40, \"Defense\": 55, \"SpecialA\": 40, \"SpecialD\": 70, \"Speed\": 55, \"Generation\": 3}, {\"#\": 344, \"Name\": \"Claydol\", \"Type 1\": \"Ground\", \"Type 2\": \"Psychic\", \"Total\": 500, \"HP\": 60, \"Attack\": 70, \"Defense\": 105, \"SpecialA\": 70, \"SpecialD\": 120, \"Speed\": 75, \"Generation\": 3}, {\"#\": 345, \"Name\": \"Lileep\", \"Type 1\": \"Rock\", \"Type 2\": \"Grass\", \"Total\": 355, \"HP\": 66, \"Attack\": 41, \"Defense\": 77, \"SpecialA\": 61, \"SpecialD\": 87, \"Speed\": 23, \"Generation\": 3}, {\"#\": 346, \"Name\": \"Cradily\", \"Type 1\": \"Rock\", \"Type 2\": \"Grass\", \"Total\": 495, \"HP\": 86, \"Attack\": 81, \"Defense\": 97, \"SpecialA\": 81, \"SpecialD\": 107, \"Speed\": 43, \"Generation\": 3}, {\"#\": 347, \"Name\": \"Anorith\", \"Type 1\": \"Rock\", \"Type 2\": \"Bug\", \"Total\": 355, \"HP\": 45, \"Attack\": 95, \"Defense\": 50, \"SpecialA\": 40, \"SpecialD\": 50, \"Speed\": 75, \"Generation\": 3}, {\"#\": 348, \"Name\": \"Armaldo\", \"Type 1\": \"Rock\", \"Type 2\": \"Bug\", \"Total\": 495, \"HP\": 75, \"Attack\": 125, \"Defense\": 100, \"SpecialA\": 70, \"SpecialD\": 80, \"Speed\": 45, \"Generation\": 3}, {\"#\": 357, \"Name\": \"Tropius\", \"Type 1\": \"Grass\", \"Type 2\": \"Flying\", \"Total\": 460, \"HP\": 99, \"Attack\": 68, \"Defense\": 83, \"SpecialA\": 72, \"SpecialD\": 87, \"Speed\": 51, \"Generation\": 3}, {\"#\": 363, \"Name\": \"Spheal\", \"Type 1\": \"Ice\", \"Type 2\": \"Water\", \"Total\": 290, \"HP\": 70, \"Attack\": 40, \"Defense\": 50, \"SpecialA\": 55, \"SpecialD\": 50, \"Speed\": 25, \"Generation\": 3}, {\"#\": 364, \"Name\": \"Sealeo\", \"Type 1\": \"Ice\", \"Type 2\": \"Water\", \"Total\": 410, \"HP\": 90, \"Attack\": 60, \"Defense\": 70, \"SpecialA\": 75, \"SpecialD\": 70, \"Speed\": 45, \"Generation\": 3}, {\"#\": 365, \"Name\": \"Walrein\", \"Type 1\": \"Ice\", \"Type 2\": \"Water\", \"Total\": 530, \"HP\": 110, \"Attack\": 80, \"Defense\": 90, \"SpecialA\": 95, \"SpecialD\": 90, \"Speed\": 65, \"Generation\": 3}, {\"#\": 369, \"Name\": \"Relicanth\", \"Type 1\": \"Water\", \"Type 2\": \"Rock\", \"Total\": 485, \"HP\": 100, \"Attack\": 90, \"Defense\": 130, \"SpecialA\": 45, \"SpecialD\": 65, \"Speed\": 55, \"Generation\": 3}, {\"#\": 373, \"Name\": \"Salamence\", \"Type 1\": \"Dragon\", \"Type 2\": \"Flying\", \"Total\": 600, \"HP\": 95, \"Attack\": 135, \"Defense\": 80, \"SpecialA\": 110, \"SpecialD\": 80, \"Speed\": 100, \"Generation\": 3}, {\"#\": 373, \"Name\": \"SalamenceMega Salamence\", \"Type 1\": \"Dragon\", \"Type 2\": \"Flying\", \"Total\": 700, \"HP\": 95, \"Attack\": 145, \"Defense\": 130, \"SpecialA\": 120, \"SpecialD\": 90, \"Speed\": 120, \"Generation\": 3}, {\"#\": 374, \"Name\": \"Beldum\", \"Type 1\": \"Steel\", \"Type 2\": \"Psychic\", \"Total\": 300, \"HP\": 40, \"Attack\": 55, \"Defense\": 80, \"SpecialA\": 35, \"SpecialD\": 60, \"Speed\": 30, \"Generation\": 3}, {\"#\": 375, \"Name\": \"Metang\", \"Type 1\": \"Steel\", \"Type 2\": \"Psychic\", \"Total\": 420, \"HP\": 60, \"Attack\": 75, \"Defense\": 100, \"SpecialA\": 55, \"SpecialD\": 80, \"Speed\": 50, \"Generation\": 3}, {\"#\": 376, \"Name\": \"Metagross\", \"Type 1\": \"Steel\", \"Type 2\": \"Psychic\", \"Total\": 600, \"HP\": 80, \"Attack\": 135, \"Defense\": 130, \"SpecialA\": 95, \"SpecialD\": 90, \"Speed\": 70, \"Generation\": 3}, {\"#\": 376, \"Name\": \"MetagrossMega Metagross\", \"Type 1\": \"Steel\", \"Type 2\": \"Psychic\", \"Total\": 700, \"HP\": 80, \"Attack\": 145, \"Defense\": 150, \"SpecialA\": 105, \"SpecialD\": 110, \"Speed\": 110, \"Generation\": 3}, {\"#\": 389, \"Name\": \"Torterra\", \"Type 1\": \"Grass\", \"Type 2\": \"Ground\", \"Total\": 525, \"HP\": 95, \"Attack\": 109, \"Defense\": 105, \"SpecialA\": 75, \"SpecialD\": 85, \"Speed\": 56, \"Generation\": 4}, {\"#\": 391, \"Name\": \"Monferno\", \"Type 1\": \"Fire\", \"Type 2\": \"Fighting\", \"Total\": 405, \"HP\": 64, \"Attack\": 78, \"Defense\": 52, \"SpecialA\": 78, \"SpecialD\": 52, \"Speed\": 81, \"Generation\": 4}, {\"#\": 392, \"Name\": \"Infernape\", \"Type 1\": \"Fire\", \"Type 2\": \"Fighting\", \"Total\": 534, \"HP\": 76, \"Attack\": 104, \"Defense\": 71, \"SpecialA\": 104, \"SpecialD\": 71, \"Speed\": 108, \"Generation\": 4}, {\"#\": 395, \"Name\": \"Empoleon\", \"Type 1\": \"Water\", \"Type 2\": \"Steel\", \"Total\": 530, \"HP\": 84, \"Attack\": 86, \"Defense\": 88, \"SpecialA\": 111, \"SpecialD\": 101, \"Speed\": 60, \"Generation\": 4}, {\"#\": 396, \"Name\": \"Starly\", \"Type 1\": \"Normal\", \"Type 2\": \"Flying\", \"Total\": 245, \"HP\": 40, \"Attack\": 55, \"Defense\": 30, \"SpecialA\": 30, \"SpecialD\": 30, \"Speed\": 60, \"Generation\": 4}, {\"#\": 397, \"Name\": \"Staravia\", \"Type 1\": \"Normal\", \"Type 2\": \"Flying\", \"Total\": 340, \"HP\": 55, \"Attack\": 75, \"Defense\": 50, \"SpecialA\": 40, \"SpecialD\": 40, \"Speed\": 80, \"Generation\": 4}, {\"#\": 398, \"Name\": \"Staraptor\", \"Type 1\": \"Normal\", \"Type 2\": \"Flying\", \"Total\": 485, \"HP\": 85, \"Attack\": 120, \"Defense\": 70, \"SpecialA\": 50, \"SpecialD\": 60, \"Speed\": 100, \"Generation\": 4}, {\"#\": 400, \"Name\": \"Bibarel\", \"Type 1\": \"Normal\", \"Type 2\": \"Water\", \"Total\": 410, \"HP\": 79, \"Attack\": 85, \"Defense\": 60, \"SpecialA\": 55, \"SpecialD\": 60, \"Speed\": 71, \"Generation\": 4}, {\"#\": 406, \"Name\": \"Budew\", \"Type 1\": \"Grass\", \"Type 2\": \"Poison\", \"Total\": 280, \"HP\": 40, \"Attack\": 30, \"Defense\": 35, \"SpecialA\": 50, \"SpecialD\": 70, \"Speed\": 55, \"Generation\": 4}, {\"#\": 407, \"Name\": \"Roserade\", \"Type 1\": \"Grass\", \"Type 2\": \"Poison\", \"Total\": 515, \"HP\": 60, \"Attack\": 70, \"Defense\": 65, \"SpecialA\": 125, \"SpecialD\": 105, \"Speed\": 90, \"Generation\": 4}, {\"#\": 410, \"Name\": \"Shieldon\", \"Type 1\": \"Rock\", \"Type 2\": \"Steel\", \"Total\": 350, \"HP\": 30, \"Attack\": 42, \"Defense\": 118, \"SpecialA\": 42, \"SpecialD\": 88, \"Speed\": 30, \"Generation\": 4}, {\"#\": 411, \"Name\": \"Bastiodon\", \"Type 1\": \"Rock\", \"Type 2\": \"Steel\", \"Total\": 495, \"HP\": 60, \"Attack\": 52, \"Defense\": 168, \"SpecialA\": 47, \"SpecialD\": 138, \"Speed\": 30, \"Generation\": 4}, {\"#\": 413, \"Name\": \"WormadamPlant Cloak\", \"Type 1\": \"Bug\", \"Type 2\": \"Grass\", \"Total\": 424, \"HP\": 60, \"Attack\": 59, \"Defense\": 85, \"SpecialA\": 79, \"SpecialD\": 105, \"Speed\": 36, \"Generation\": 4}, {\"#\": 413, \"Name\": \"WormadamSandy Cloak\", \"Type 1\": \"Bug\", \"Type 2\": \"Ground\", \"Total\": 424, \"HP\": 60, \"Attack\": 79, \"Defense\": 105, \"SpecialA\": 59, \"SpecialD\": 85, \"Speed\": 36, \"Generation\": 4}, {\"#\": 413, \"Name\": \"WormadamTrash Cloak\", \"Type 1\": \"Bug\", \"Type 2\": \"Steel\", \"Total\": 424, \"HP\": 60, \"Attack\": 69, \"Defense\": 95, \"SpecialA\": 69, \"SpecialD\": 95, \"Speed\": 36, \"Generation\": 4}, {\"#\": 414, \"Name\": \"Mothim\", \"Type 1\": \"Bug\", \"Type 2\": \"Flying\", \"Total\": 424, \"HP\": 70, \"Attack\": 94, \"Defense\": 50, \"SpecialA\": 94, \"SpecialD\": 50, \"Speed\": 66, \"Generation\": 4}, {\"#\": 415, \"Name\": \"Combee\", \"Type 1\": \"Bug\", \"Type 2\": \"Flying\", \"Total\": 244, \"HP\": 30, \"Attack\": 30, \"Defense\": 42, \"SpecialA\": 30, \"SpecialD\": 42, \"Speed\": 70, \"Generation\": 4}, {\"#\": 416, \"Name\": \"Vespiquen\", \"Type 1\": \"Bug\", \"Type 2\": \"Flying\", \"Total\": 474, \"HP\": 70, \"Attack\": 80, \"Defense\": 102, \"SpecialA\": 80, \"SpecialD\": 102, \"Speed\": 40, \"Generation\": 4}, {\"#\": 423, \"Name\": \"Gastrodon\", \"Type 1\": \"Water\", \"Type 2\": \"Ground\", \"Total\": 475, \"HP\": 111, \"Attack\": 83, \"Defense\": 68, \"SpecialA\": 92, \"SpecialD\": 82, \"Speed\": 39, \"Generation\": 4}, {\"#\": 425, \"Name\": \"Drifloon\", \"Type 1\": \"Ghost\", \"Type 2\": \"Flying\", \"Total\": 348, \"HP\": 90, \"Attack\": 50, \"Defense\": 34, \"SpecialA\": 60, \"SpecialD\": 44, \"Speed\": 70, \"Generation\": 4}, {\"#\": 426, \"Name\": \"Drifblim\", \"Type 1\": \"Ghost\", \"Type 2\": \"Flying\", \"Total\": 498, \"HP\": 150, \"Attack\": 80, \"Defense\": 44, \"SpecialA\": 90, \"SpecialD\": 54, \"Speed\": 80, \"Generation\": 4}, {\"#\": 428, \"Name\": \"LopunnyMega Lopunny\", \"Type 1\": \"Normal\", \"Type 2\": \"Fighting\", \"Total\": 580, \"HP\": 65, \"Attack\": 136, \"Defense\": 94, \"SpecialA\": 54, \"SpecialD\": 96, \"Speed\": 135, \"Generation\": 4}, {\"#\": 430, \"Name\": \"Honchkrow\", \"Type 1\": \"Dark\", \"Type 2\": \"Flying\", \"Total\": 505, \"HP\": 100, \"Attack\": 125, \"Defense\": 52, \"SpecialA\": 105, \"SpecialD\": 52, \"Speed\": 71, \"Generation\": 4}, {\"#\": 434, \"Name\": \"Stunky\", \"Type 1\": \"Poison\", \"Type 2\": \"Dark\", \"Total\": 329, \"HP\": 63, \"Attack\": 63, \"Defense\": 47, \"SpecialA\": 41, \"SpecialD\": 41, \"Speed\": 74, \"Generation\": 4}, {\"#\": 435, \"Name\": \"Skuntank\", \"Type 1\": \"Poison\", \"Type 2\": \"Dark\", \"Total\": 479, \"HP\": 103, \"Attack\": 93, \"Defense\": 67, \"SpecialA\": 71, \"SpecialD\": 61, \"Speed\": 84, \"Generation\": 4}, {\"#\": 436, \"Name\": \"Bronzor\", \"Type 1\": \"Steel\", \"Type 2\": \"Psychic\", \"Total\": 300, \"HP\": 57, \"Attack\": 24, \"Defense\": 86, \"SpecialA\": 24, \"SpecialD\": 86, \"Speed\": 23, \"Generation\": 4}, {\"#\": 437, \"Name\": \"Bronzong\", \"Type 1\": \"Steel\", \"Type 2\": \"Psychic\", \"Total\": 500, \"HP\": 67, \"Attack\": 89, \"Defense\": 116, \"SpecialA\": 79, \"SpecialD\": 116, \"Speed\": 33, \"Generation\": 4}, {\"#\": 439, \"Name\": \"Mime Jr.\", \"Type 1\": \"Psychic\", \"Type 2\": \"Fairy\", \"Total\": 310, \"HP\": 20, \"Attack\": 25, \"Defense\": 45, \"SpecialA\": 70, \"SpecialD\": 90, \"Speed\": 60, \"Generation\": 4}, {\"#\": 441, \"Name\": \"Chatot\", \"Type 1\": \"Normal\", \"Type 2\": \"Flying\", \"Total\": 411, \"HP\": 76, \"Attack\": 65, \"Defense\": 45, \"SpecialA\": 92, \"SpecialD\": 42, \"Speed\": 91, \"Generation\": 4}, {\"#\": 442, \"Name\": \"Spiritomb\", \"Type 1\": \"Ghost\", \"Type 2\": \"Dark\", \"Total\": 485, \"HP\": 50, \"Attack\": 92, \"Defense\": 108, \"SpecialA\": 92, \"SpecialD\": 108, \"Speed\": 35, \"Generation\": 4}, {\"#\": 443, \"Name\": \"Gible\", \"Type 1\": \"Dragon\", \"Type 2\": \"Ground\", \"Total\": 300, \"HP\": 58, \"Attack\": 70, \"Defense\": 45, \"SpecialA\": 40, \"SpecialD\": 45, \"Speed\": 42, \"Generation\": 4}, {\"#\": 444, \"Name\": \"Gabite\", \"Type 1\": \"Dragon\", \"Type 2\": \"Ground\", \"Total\": 410, \"HP\": 68, \"Attack\": 90, \"Defense\": 65, \"SpecialA\": 50, \"SpecialD\": 55, \"Speed\": 82, \"Generation\": 4}, {\"#\": 445, \"Name\": \"Garchomp\", \"Type 1\": \"Dragon\", \"Type 2\": \"Ground\", \"Total\": 600, \"HP\": 108, \"Attack\": 130, \"Defense\": 95, \"SpecialA\": 80, \"SpecialD\": 85, \"Speed\": 102, \"Generation\": 4}, {\"#\": 445, \"Name\": \"GarchompMega Garchomp\", \"Type 1\": \"Dragon\", \"Type 2\": \"Ground\", \"Total\": 700, \"HP\": 108, \"Attack\": 170, \"Defense\": 115, \"SpecialA\": 120, \"SpecialD\": 95, \"Speed\": 92, \"Generation\": 4}, {\"#\": 448, \"Name\": \"Lucario\", \"Type 1\": \"Fighting\", \"Type 2\": \"Steel\", \"Total\": 525, \"HP\": 70, \"Attack\": 110, \"Defense\": 70, \"SpecialA\": 115, \"SpecialD\": 70, \"Speed\": 90, \"Generation\": 4}, {\"#\": 448, \"Name\": \"LucarioMega Lucario\", \"Type 1\": \"Fighting\", \"Type 2\": \"Steel\", \"Total\": 625, \"HP\": 70, \"Attack\": 145, \"Defense\": 88, \"SpecialA\": 140, \"SpecialD\": 70, \"Speed\": 112, \"Generation\": 4}, {\"#\": 451, \"Name\": \"Skorupi\", \"Type 1\": \"Poison\", \"Type 2\": \"Bug\", \"Total\": 330, \"HP\": 40, \"Attack\": 50, \"Defense\": 90, \"SpecialA\": 30, \"SpecialD\": 55, \"Speed\": 65, \"Generation\": 4}, {\"#\": 452, \"Name\": \"Drapion\", \"Type 1\": \"Poison\", \"Type 2\": \"Dark\", \"Total\": 500, \"HP\": 70, \"Attack\": 90, \"Defense\": 110, \"SpecialA\": 60, \"SpecialD\": 75, \"Speed\": 95, \"Generation\": 4}, {\"#\": 453, \"Name\": \"Croagunk\", \"Type 1\": \"Poison\", \"Type 2\": \"Fighting\", \"Total\": 300, \"HP\": 48, \"Attack\": 61, \"Defense\": 40, \"SpecialA\": 61, \"SpecialD\": 40, \"Speed\": 50, \"Generation\": 4}, {\"#\": 454, \"Name\": \"Toxicroak\", \"Type 1\": \"Poison\", \"Type 2\": \"Fighting\", \"Total\": 490, \"HP\": 83, \"Attack\": 106, \"Defense\": 65, \"SpecialA\": 86, \"SpecialD\": 65, \"Speed\": 85, \"Generation\": 4}, {\"#\": 458, \"Name\": \"Mantyke\", \"Type 1\": \"Water\", \"Type 2\": \"Flying\", \"Total\": 345, \"HP\": 45, \"Attack\": 20, \"Defense\": 50, \"SpecialA\": 60, \"SpecialD\": 120, \"Speed\": 50, \"Generation\": 4}, {\"#\": 459, \"Name\": \"Snover\", \"Type 1\": \"Grass\", \"Type 2\": \"Ice\", \"Total\": 334, \"HP\": 60, \"Attack\": 62, \"Defense\": 50, \"SpecialA\": 62, \"SpecialD\": 60, \"Speed\": 40, \"Generation\": 4}, {\"#\": 460, \"Name\": \"Abomasnow\", \"Type 1\": \"Grass\", \"Type 2\": \"Ice\", \"Total\": 494, \"HP\": 90, \"Attack\": 92, \"Defense\": 75, \"SpecialA\": 92, \"SpecialD\": 85, \"Speed\": 60, \"Generation\": 4}, {\"#\": 460, \"Name\": \"AbomasnowMega Abomasnow\", \"Type 1\": \"Grass\", \"Type 2\": \"Ice\", \"Total\": 594, \"HP\": 90, \"Attack\": 132, \"Defense\": 105, \"SpecialA\": 132, \"SpecialD\": 105, \"Speed\": 30, \"Generation\": 4}, {\"#\": 461, \"Name\": \"Weavile\", \"Type 1\": \"Dark\", \"Type 2\": \"Ice\", \"Total\": 510, \"HP\": 70, \"Attack\": 120, \"Defense\": 65, \"SpecialA\": 45, \"SpecialD\": 85, \"Speed\": 125, \"Generation\": 4}, {\"#\": 462, \"Name\": \"Magnezone\", \"Type 1\": \"Electric\", \"Type 2\": \"Steel\", \"Total\": 535, \"HP\": 70, \"Attack\": 70, \"Defense\": 115, \"SpecialA\": 130, \"SpecialD\": 90, \"Speed\": 60, \"Generation\": 4}, {\"#\": 464, \"Name\": \"Rhyperior\", \"Type 1\": \"Ground\", \"Type 2\": \"Rock\", \"Total\": 535, \"HP\": 115, \"Attack\": 140, \"Defense\": 130, \"SpecialA\": 55, \"SpecialD\": 55, \"Speed\": 40, \"Generation\": 4}, {\"#\": 468, \"Name\": \"Togekiss\", \"Type 1\": \"Fairy\", \"Type 2\": \"Flying\", \"Total\": 545, \"HP\": 85, \"Attack\": 50, \"Defense\": 95, \"SpecialA\": 120, \"SpecialD\": 115, \"Speed\": 80, \"Generation\": 4}, {\"#\": 469, \"Name\": \"Yanmega\", \"Type 1\": \"Bug\", \"Type 2\": \"Flying\", \"Total\": 515, \"HP\": 86, \"Attack\": 76, \"Defense\": 86, \"SpecialA\": 116, \"SpecialD\": 56, \"Speed\": 95, \"Generation\": 4}, {\"#\": 472, \"Name\": \"Gliscor\", \"Type 1\": \"Ground\", \"Type 2\": \"Flying\", \"Total\": 510, \"HP\": 75, \"Attack\": 95, \"Defense\": 125, \"SpecialA\": 45, \"SpecialD\": 75, \"Speed\": 95, \"Generation\": 4}, {\"#\": 473, \"Name\": \"Mamoswine\", \"Type 1\": \"Ice\", \"Type 2\": \"Ground\", \"Total\": 530, \"HP\": 110, \"Attack\": 130, \"Defense\": 80, \"SpecialA\": 70, \"SpecialD\": 60, \"Speed\": 80, \"Generation\": 4}, {\"#\": 475, \"Name\": \"Gallade\", \"Type 1\": \"Psychic\", \"Type 2\": \"Fighting\", \"Total\": 518, \"HP\": 68, \"Attack\": 125, \"Defense\": 65, \"SpecialA\": 65, \"SpecialD\": 115, \"Speed\": 80, \"Generation\": 4}, {\"#\": 475, \"Name\": \"GalladeMega Gallade\", \"Type 1\": \"Psychic\", \"Type 2\": \"Fighting\", \"Total\": 618, \"HP\": 68, \"Attack\": 165, \"Defense\": 95, \"SpecialA\": 65, \"SpecialD\": 115, \"Speed\": 110, \"Generation\": 4}, {\"#\": 476, \"Name\": \"Probopass\", \"Type 1\": \"Rock\", \"Type 2\": \"Steel\", \"Total\": 525, \"HP\": 60, \"Attack\": 55, \"Defense\": 145, \"SpecialA\": 75, \"SpecialD\": 150, \"Speed\": 40, \"Generation\": 4}, {\"#\": 478, \"Name\": \"Froslass\", \"Type 1\": \"Ice\", \"Type 2\": \"Ghost\", \"Total\": 480, \"HP\": 70, \"Attack\": 80, \"Defense\": 70, \"SpecialA\": 80, \"SpecialD\": 70, \"Speed\": 110, \"Generation\": 4}, {\"#\": 479, \"Name\": \"Rotom\", \"Type 1\": \"Electric\", \"Type 2\": \"Ghost\", \"Total\": 440, \"HP\": 50, \"Attack\": 50, \"Defense\": 77, \"SpecialA\": 95, \"SpecialD\": 77, \"Speed\": 91, \"Generation\": 4}, {\"#\": 479, \"Name\": \"RotomHeat Rotom\", \"Type 1\": \"Electric\", \"Type 2\": \"Fire\", \"Total\": 520, \"HP\": 50, \"Attack\": 65, \"Defense\": 107, \"SpecialA\": 105, \"SpecialD\": 107, \"Speed\": 86, \"Generation\": 4}, {\"#\": 479, \"Name\": \"RotomWash Rotom\", \"Type 1\": \"Electric\", \"Type 2\": \"Water\", \"Total\": 520, \"HP\": 50, \"Attack\": 65, \"Defense\": 107, \"SpecialA\": 105, \"SpecialD\": 107, \"Speed\": 86, \"Generation\": 4}, {\"#\": 479, \"Name\": \"RotomFrost Rotom\", \"Type 1\": \"Electric\", \"Type 2\": \"Ice\", \"Total\": 520, \"HP\": 50, \"Attack\": 65, \"Defense\": 107, \"SpecialA\": 105, \"SpecialD\": 107, \"Speed\": 86, \"Generation\": 4}, {\"#\": 479, \"Name\": \"RotomFan Rotom\", \"Type 1\": \"Electric\", \"Type 2\": \"Flying\", \"Total\": 520, \"HP\": 50, \"Attack\": 65, \"Defense\": 107, \"SpecialA\": 105, \"SpecialD\": 107, \"Speed\": 86, \"Generation\": 4}, {\"#\": 479, \"Name\": \"RotomMow Rotom\", \"Type 1\": \"Electric\", \"Type 2\": \"Grass\", \"Total\": 520, \"HP\": 50, \"Attack\": 65, \"Defense\": 107, \"SpecialA\": 105, \"SpecialD\": 107, \"Speed\": 86, \"Generation\": 4}, {\"#\": 499, \"Name\": \"Pignite\", \"Type 1\": \"Fire\", \"Type 2\": \"Fighting\", \"Total\": 418, \"HP\": 90, \"Attack\": 93, \"Defense\": 55, \"SpecialA\": 70, \"SpecialD\": 55, \"Speed\": 55, \"Generation\": 5}, {\"#\": 500, \"Name\": \"Emboar\", \"Type 1\": \"Fire\", \"Type 2\": \"Fighting\", \"Total\": 528, \"HP\": 110, \"Attack\": 123, \"Defense\": 65, \"SpecialA\": 100, \"SpecialD\": 65, \"Speed\": 65, \"Generation\": 5}, {\"#\": 519, \"Name\": \"Pidove\", \"Type 1\": \"Normal\", \"Type 2\": \"Flying\", \"Total\": 264, \"HP\": 50, \"Attack\": 55, \"Defense\": 50, \"SpecialA\": 36, \"SpecialD\": 30, \"Speed\": 43, \"Generation\": 5}, {\"#\": 520, \"Name\": \"Tranquill\", \"Type 1\": \"Normal\", \"Type 2\": \"Flying\", \"Total\": 358, \"HP\": 62, \"Attack\": 77, \"Defense\": 62, \"SpecialA\": 50, \"SpecialD\": 42, \"Speed\": 65, \"Generation\": 5}, {\"#\": 521, \"Name\": \"Unfezant\", \"Type 1\": \"Normal\", \"Type 2\": \"Flying\", \"Total\": 488, \"HP\": 80, \"Attack\": 115, \"Defense\": 80, \"SpecialA\": 65, \"SpecialD\": 55, \"Speed\": 93, \"Generation\": 5}, {\"#\": 527, \"Name\": \"Woobat\", \"Type 1\": \"Psychic\", \"Type 2\": \"Flying\", \"Total\": 313, \"HP\": 55, \"Attack\": 45, \"Defense\": 43, \"SpecialA\": 55, \"SpecialD\": 43, \"Speed\": 72, \"Generation\": 5}, {\"#\": 528, \"Name\": \"Swoobat\", \"Type 1\": \"Psychic\", \"Type 2\": \"Flying\", \"Total\": 425, \"HP\": 67, \"Attack\": 57, \"Defense\": 55, \"SpecialA\": 77, \"SpecialD\": 55, \"Speed\": 114, \"Generation\": 5}, {\"#\": 530, \"Name\": \"Excadrill\", \"Type 1\": \"Ground\", \"Type 2\": \"Steel\", \"Total\": 508, \"HP\": 110, \"Attack\": 135, \"Defense\": 60, \"SpecialA\": 50, \"SpecialD\": 65, \"Speed\": 88, \"Generation\": 5}, {\"#\": 531, \"Name\": \"AudinoMega Audino\", \"Type 1\": \"Normal\", \"Type 2\": \"Fairy\", \"Total\": 545, \"HP\": 103, \"Attack\": 60, \"Defense\": 126, \"SpecialA\": 80, \"SpecialD\": 126, \"Speed\": 50, \"Generation\": 5}, {\"#\": 536, \"Name\": \"Palpitoad\", \"Type 1\": \"Water\", \"Type 2\": \"Ground\", \"Total\": 384, \"HP\": 75, \"Attack\": 65, \"Defense\": 55, \"SpecialA\": 65, \"SpecialD\": 55, \"Speed\": 69, \"Generation\": 5}, {\"#\": 537, \"Name\": \"Seismitoad\", \"Type 1\": \"Water\", \"Type 2\": \"Ground\", \"Total\": 509, \"HP\": 105, \"Attack\": 95, \"Defense\": 75, \"SpecialA\": 85, \"SpecialD\": 75, \"Speed\": 74, \"Generation\": 5}, {\"#\": 540, \"Name\": \"Sewaddle\", \"Type 1\": \"Bug\", \"Type 2\": \"Grass\", \"Total\": 310, \"HP\": 45, \"Attack\": 53, \"Defense\": 70, \"SpecialA\": 40, \"SpecialD\": 60, \"Speed\": 42, \"Generation\": 5}, {\"#\": 541, \"Name\": \"Swadloon\", \"Type 1\": \"Bug\", \"Type 2\": \"Grass\", \"Total\": 380, \"HP\": 55, \"Attack\": 63, \"Defense\": 90, \"SpecialA\": 50, \"SpecialD\": 80, \"Speed\": 42, \"Generation\": 5}, {\"#\": 542, \"Name\": \"Leavanny\", \"Type 1\": \"Bug\", \"Type 2\": \"Grass\", \"Total\": 500, \"HP\": 75, \"Attack\": 103, \"Defense\": 80, \"SpecialA\": 70, \"SpecialD\": 80, \"Speed\": 92, \"Generation\": 5}, {\"#\": 543, \"Name\": \"Venipede\", \"Type 1\": \"Bug\", \"Type 2\": \"Poison\", \"Total\": 260, \"HP\": 30, \"Attack\": 45, \"Defense\": 59, \"SpecialA\": 30, \"SpecialD\": 39, \"Speed\": 57, \"Generation\": 5}, {\"#\": 544, \"Name\": \"Whirlipede\", \"Type 1\": \"Bug\", \"Type 2\": \"Poison\", \"Total\": 360, \"HP\": 40, \"Attack\": 55, \"Defense\": 99, \"SpecialA\": 40, \"SpecialD\": 79, \"Speed\": 47, \"Generation\": 5}, {\"#\": 545, \"Name\": \"Scolipede\", \"Type 1\": \"Bug\", \"Type 2\": \"Poison\", \"Total\": 485, \"HP\": 60, \"Attack\": 100, \"Defense\": 89, \"SpecialA\": 55, \"SpecialD\": 69, \"Speed\": 112, \"Generation\": 5}, {\"#\": 546, \"Name\": \"Cottonee\", \"Type 1\": \"Grass\", \"Type 2\": \"Fairy\", \"Total\": 280, \"HP\": 40, \"Attack\": 27, \"Defense\": 60, \"SpecialA\": 37, \"SpecialD\": 50, \"Speed\": 66, \"Generation\": 5}, {\"#\": 547, \"Name\": \"Whimsicott\", \"Type 1\": \"Grass\", \"Type 2\": \"Fairy\", \"Total\": 480, \"HP\": 60, \"Attack\": 67, \"Defense\": 85, \"SpecialA\": 77, \"SpecialD\": 75, \"Speed\": 116, \"Generation\": 5}, {\"#\": 551, \"Name\": \"Sandile\", \"Type 1\": \"Ground\", \"Type 2\": \"Dark\", \"Total\": 292, \"HP\": 50, \"Attack\": 72, \"Defense\": 35, \"SpecialA\": 35, \"SpecialD\": 35, \"Speed\": 65, \"Generation\": 5}, {\"#\": 552, \"Name\": \"Krokorok\", \"Type 1\": \"Ground\", \"Type 2\": \"Dark\", \"Total\": 351, \"HP\": 60, \"Attack\": 82, \"Defense\": 45, \"SpecialA\": 45, \"SpecialD\": 45, \"Speed\": 74, \"Generation\": 5}, {\"#\": 553, \"Name\": \"Krookodile\", \"Type 1\": \"Ground\", \"Type 2\": \"Dark\", \"Total\": 519, \"HP\": 95, \"Attack\": 117, \"Defense\": 80, \"SpecialA\": 65, \"SpecialD\": 70, \"Speed\": 92, \"Generation\": 5}, {\"#\": 555, \"Name\": \"DarmanitanZen Mode\", \"Type 1\": \"Fire\", \"Type 2\": \"Psychic\", \"Total\": 540, \"HP\": 105, \"Attack\": 30, \"Defense\": 105, \"SpecialA\": 140, \"SpecialD\": 105, \"Speed\": 55, \"Generation\": 5}, {\"#\": 557, \"Name\": \"Dwebble\", \"Type 1\": \"Bug\", \"Type 2\": \"Rock\", \"Total\": 325, \"HP\": 50, \"Attack\": 65, \"Defense\": 85, \"SpecialA\": 35, \"SpecialD\": 35, \"Speed\": 55, \"Generation\": 5}, {\"#\": 558, \"Name\": \"Crustle\", \"Type 1\": \"Bug\", \"Type 2\": \"Rock\", \"Total\": 475, \"HP\": 70, \"Attack\": 95, \"Defense\": 125, \"SpecialA\": 65, \"SpecialD\": 75, \"Speed\": 45, \"Generation\": 5}, {\"#\": 559, \"Name\": \"Scraggy\", \"Type 1\": \"Dark\", \"Type 2\": \"Fighting\", \"Total\": 348, \"HP\": 50, \"Attack\": 75, \"Defense\": 70, \"SpecialA\": 35, \"SpecialD\": 70, \"Speed\": 48, \"Generation\": 5}, {\"#\": 560, \"Name\": \"Scrafty\", \"Type 1\": \"Dark\", \"Type 2\": \"Fighting\", \"Total\": 488, \"HP\": 65, \"Attack\": 90, \"Defense\": 115, \"SpecialA\": 45, \"SpecialD\": 115, \"Speed\": 58, \"Generation\": 5}, {\"#\": 561, \"Name\": \"Sigilyph\", \"Type 1\": \"Psychic\", \"Type 2\": \"Flying\", \"Total\": 490, \"HP\": 72, \"Attack\": 58, \"Defense\": 80, \"SpecialA\": 103, \"SpecialD\": 80, \"Speed\": 97, \"Generation\": 5}, {\"#\": 564, \"Name\": \"Tirtouga\", \"Type 1\": \"Water\", \"Type 2\": \"Rock\", \"Total\": 355, \"HP\": 54, \"Attack\": 78, \"Defense\": 103, \"SpecialA\": 53, \"SpecialD\": 45, \"Speed\": 22, \"Generation\": 5}, {\"#\": 565, \"Name\": \"Carracosta\", \"Type 1\": \"Water\", \"Type 2\": \"Rock\", \"Total\": 495, \"HP\": 74, \"Attack\": 108, \"Defense\": 133, \"SpecialA\": 83, \"SpecialD\": 65, \"Speed\": 32, \"Generation\": 5}, {\"#\": 566, \"Name\": \"Archen\", \"Type 1\": \"Rock\", \"Type 2\": \"Flying\", \"Total\": 401, \"HP\": 55, \"Attack\": 112, \"Defense\": 45, \"SpecialA\": 74, \"SpecialD\": 45, \"Speed\": 70, \"Generation\": 5}, {\"#\": 567, \"Name\": \"Archeops\", \"Type 1\": \"Rock\", \"Type 2\": \"Flying\", \"Total\": 567, \"HP\": 75, \"Attack\": 140, \"Defense\": 65, \"SpecialA\": 112, \"SpecialD\": 65, \"Speed\": 110, \"Generation\": 5}, {\"#\": 580, \"Name\": \"Ducklett\", \"Type 1\": \"Water\", \"Type 2\": \"Flying\", \"Total\": 305, \"HP\": 62, \"Attack\": 44, \"Defense\": 50, \"SpecialA\": 44, \"SpecialD\": 50, \"Speed\": 55, \"Generation\": 5}, {\"#\": 581, \"Name\": \"Swanna\", \"Type 1\": \"Water\", \"Type 2\": \"Flying\", \"Total\": 473, \"HP\": 75, \"Attack\": 87, \"Defense\": 63, \"SpecialA\": 87, \"SpecialD\": 63, \"Speed\": 98, \"Generation\": 5}, {\"#\": 585, \"Name\": \"Deerling\", \"Type 1\": \"Normal\", \"Type 2\": \"Grass\", \"Total\": 335, \"HP\": 60, \"Attack\": 60, \"Defense\": 50, \"SpecialA\": 40, \"SpecialD\": 50, \"Speed\": 75, \"Generation\": 5}, {\"#\": 586, \"Name\": \"Sawsbuck\", \"Type 1\": \"Normal\", \"Type 2\": \"Grass\", \"Total\": 475, \"HP\": 80, \"Attack\": 100, \"Defense\": 70, \"SpecialA\": 60, \"SpecialD\": 70, \"Speed\": 95, \"Generation\": 5}, {\"#\": 587, \"Name\": \"Emolga\", \"Type 1\": \"Electric\", \"Type 2\": \"Flying\", \"Total\": 428, \"HP\": 55, \"Attack\": 75, \"Defense\": 60, \"SpecialA\": 75, \"SpecialD\": 60, \"Speed\": 103, \"Generation\": 5}, {\"#\": 589, \"Name\": \"Escavalier\", \"Type 1\": \"Bug\", \"Type 2\": \"Steel\", \"Total\": 495, \"HP\": 70, \"Attack\": 135, \"Defense\": 105, \"SpecialA\": 60, \"SpecialD\": 105, \"Speed\": 20, \"Generation\": 5}, {\"#\": 590, \"Name\": \"Foongus\", \"Type 1\": \"Grass\", \"Type 2\": \"Poison\", \"Total\": 294, \"HP\": 69, \"Attack\": 55, \"Defense\": 45, \"SpecialA\": 55, \"SpecialD\": 55, \"Speed\": 15, \"Generation\": 5}, {\"#\": 591, \"Name\": \"Amoonguss\", \"Type 1\": \"Grass\", \"Type 2\": \"Poison\", \"Total\": 464, \"HP\": 114, \"Attack\": 85, \"Defense\": 70, \"SpecialA\": 85, \"SpecialD\": 80, \"Speed\": 30, \"Generation\": 5}, {\"#\": 592, \"Name\": \"Frillish\", \"Type 1\": \"Water\", \"Type 2\": \"Ghost\", \"Total\": 335, \"HP\": 55, \"Attack\": 40, \"Defense\": 50, \"SpecialA\": 65, \"SpecialD\": 85, \"Speed\": 40, \"Generation\": 5}, {\"#\": 593, \"Name\": \"Jellicent\", \"Type 1\": \"Water\", \"Type 2\": \"Ghost\", \"Total\": 480, \"HP\": 100, \"Attack\": 60, \"Defense\": 70, \"SpecialA\": 85, \"SpecialD\": 105, \"Speed\": 60, \"Generation\": 5}, {\"#\": 595, \"Name\": \"Joltik\", \"Type 1\": \"Bug\", \"Type 2\": \"Electric\", \"Total\": 319, \"HP\": 50, \"Attack\": 47, \"Defense\": 50, \"SpecialA\": 57, \"SpecialD\": 50, \"Speed\": 65, \"Generation\": 5}, {\"#\": 596, \"Name\": \"Galvantula\", \"Type 1\": \"Bug\", \"Type 2\": \"Electric\", \"Total\": 472, \"HP\": 70, \"Attack\": 77, \"Defense\": 60, \"SpecialA\": 97, \"SpecialD\": 60, \"Speed\": 108, \"Generation\": 5}, {\"#\": 597, \"Name\": \"Ferroseed\", \"Type 1\": \"Grass\", \"Type 2\": \"Steel\", \"Total\": 305, \"HP\": 44, \"Attack\": 50, \"Defense\": 91, \"SpecialA\": 24, \"SpecialD\": 86, \"Speed\": 10, \"Generation\": 5}, {\"#\": 598, \"Name\": \"Ferrothorn\", \"Type 1\": \"Grass\", \"Type 2\": \"Steel\", \"Total\": 489, \"HP\": 74, \"Attack\": 94, \"Defense\": 131, \"SpecialA\": 54, \"SpecialD\": 116, \"Speed\": 20, \"Generation\": 5}, {\"#\": 607, \"Name\": \"Litwick\", \"Type 1\": \"Ghost\", \"Type 2\": \"Fire\", \"Total\": 275, \"HP\": 50, \"Attack\": 30, \"Defense\": 55, \"SpecialA\": 65, \"SpecialD\": 55, \"Speed\": 20, \"Generation\": 5}, {\"#\": 608, \"Name\": \"Lampent\", \"Type 1\": \"Ghost\", \"Type 2\": \"Fire\", \"Total\": 370, \"HP\": 60, \"Attack\": 40, \"Defense\": 60, \"SpecialA\": 95, \"SpecialD\": 60, \"Speed\": 55, \"Generation\": 5}, {\"#\": 609, \"Name\": \"Chandelure\", \"Type 1\": \"Ghost\", \"Type 2\": \"Fire\", \"Total\": 520, \"HP\": 60, \"Attack\": 55, \"Defense\": 90, \"SpecialA\": 145, \"SpecialD\": 90, \"Speed\": 80, \"Generation\": 5}, {\"#\": 618, \"Name\": \"Stunfisk\", \"Type 1\": \"Ground\", \"Type 2\": \"Electric\", \"Total\": 471, \"HP\": 109, \"Attack\": 66, \"Defense\": 84, \"SpecialA\": 81, \"SpecialD\": 99, \"Speed\": 32, \"Generation\": 5}, {\"#\": 622, \"Name\": \"Golett\", \"Type 1\": \"Ground\", \"Type 2\": \"Ghost\", \"Total\": 303, \"HP\": 59, \"Attack\": 74, \"Defense\": 50, \"SpecialA\": 35, \"SpecialD\": 50, \"Speed\": 35, \"Generation\": 5}, {\"#\": 623, \"Name\": \"Golurk\", \"Type 1\": \"Ground\", \"Type 2\": \"Ghost\", \"Total\": 483, \"HP\": 89, \"Attack\": 124, \"Defense\": 80, \"SpecialA\": 55, \"SpecialD\": 80, \"Speed\": 55, \"Generation\": 5}, {\"#\": 624, \"Name\": \"Pawniard\", \"Type 1\": \"Dark\", \"Type 2\": \"Steel\", \"Total\": 340, \"HP\": 45, \"Attack\": 85, \"Defense\": 70, \"SpecialA\": 40, \"SpecialD\": 40, \"Speed\": 60, \"Generation\": 5}, {\"#\": 625, \"Name\": \"Bisharp\", \"Type 1\": \"Dark\", \"Type 2\": \"Steel\", \"Total\": 490, \"HP\": 65, \"Attack\": 125, \"Defense\": 100, \"SpecialA\": 60, \"SpecialD\": 70, \"Speed\": 70, \"Generation\": 5}, {\"#\": 627, \"Name\": \"Rufflet\", \"Type 1\": \"Normal\", \"Type 2\": \"Flying\", \"Total\": 350, \"HP\": 70, \"Attack\": 83, \"Defense\": 50, \"SpecialA\": 37, \"SpecialD\": 50, \"Speed\": 60, \"Generation\": 5}, {\"#\": 628, \"Name\": \"Braviary\", \"Type 1\": \"Normal\", \"Type 2\": \"Flying\", \"Total\": 510, \"HP\": 100, \"Attack\": 123, \"Defense\": 75, \"SpecialA\": 57, \"SpecialD\": 75, \"Speed\": 80, \"Generation\": 5}, {\"#\": 629, \"Name\": \"Vullaby\", \"Type 1\": \"Dark\", \"Type 2\": \"Flying\", \"Total\": 370, \"HP\": 70, \"Attack\": 55, \"Defense\": 75, \"SpecialA\": 45, \"SpecialD\": 65, \"Speed\": 60, \"Generation\": 5}, {\"#\": 630, \"Name\": \"Mandibuzz\", \"Type 1\": \"Dark\", \"Type 2\": \"Flying\", \"Total\": 510, \"HP\": 110, \"Attack\": 65, \"Defense\": 105, \"SpecialA\": 55, \"SpecialD\": 95, \"Speed\": 80, \"Generation\": 5}, {\"#\": 632, \"Name\": \"Durant\", \"Type 1\": \"Bug\", \"Type 2\": \"Steel\", \"Total\": 484, \"HP\": 58, \"Attack\": 109, \"Defense\": 112, \"SpecialA\": 48, \"SpecialD\": 48, \"Speed\": 109, \"Generation\": 5}, {\"#\": 633, \"Name\": \"Deino\", \"Type 1\": \"Dark\", \"Type 2\": \"Dragon\", \"Total\": 300, \"HP\": 52, \"Attack\": 65, \"Defense\": 50, \"SpecialA\": 45, \"SpecialD\": 50, \"Speed\": 38, \"Generation\": 5}, {\"#\": 634, \"Name\": \"Zweilous\", \"Type 1\": \"Dark\", \"Type 2\": \"Dragon\", \"Total\": 420, \"HP\": 72, \"Attack\": 85, \"Defense\": 70, \"SpecialA\": 65, \"SpecialD\": 70, \"Speed\": 58, \"Generation\": 5}, {\"#\": 635, \"Name\": \"Hydreigon\", \"Type 1\": \"Dark\", \"Type 2\": \"Dragon\", \"Total\": 600, \"HP\": 92, \"Attack\": 105, \"Defense\": 90, \"SpecialA\": 125, \"SpecialD\": 90, \"Speed\": 98, \"Generation\": 5}, {\"#\": 636, \"Name\": \"Larvesta\", \"Type 1\": \"Bug\", \"Type 2\": \"Fire\", \"Total\": 360, \"HP\": 55, \"Attack\": 85, \"Defense\": 55, \"SpecialA\": 50, \"SpecialD\": 55, \"Speed\": 60, \"Generation\": 5}, {\"#\": 637, \"Name\": \"Volcarona\", \"Type 1\": \"Bug\", \"Type 2\": \"Fire\", \"Total\": 550, \"HP\": 85, \"Attack\": 60, \"Defense\": 65, \"SpecialA\": 135, \"SpecialD\": 105, \"Speed\": 100, \"Generation\": 5}, {\"#\": 647, \"Name\": \"KeldeoOrdinary Forme\", \"Type 1\": \"Water\", \"Type 2\": \"Fighting\", \"Total\": 580, \"HP\": 91, \"Attack\": 72, \"Defense\": 90, \"SpecialA\": 129, \"SpecialD\": 90, \"Speed\": 108, \"Generation\": 5}, {\"#\": 647, \"Name\": \"KeldeoResolute Forme\", \"Type 1\": \"Water\", \"Type 2\": \"Fighting\", \"Total\": 580, \"HP\": 91, \"Attack\": 72, \"Defense\": 90, \"SpecialA\": 129, \"SpecialD\": 90, \"Speed\": 108, \"Generation\": 5}, {\"#\": 648, \"Name\": \"MeloettaAria Forme\", \"Type 1\": \"Normal\", \"Type 2\": \"Psychic\", \"Total\": 600, \"HP\": 100, \"Attack\": 77, \"Defense\": 77, \"SpecialA\": 128, \"SpecialD\": 128, \"Speed\": 90, \"Generation\": 5}, {\"#\": 648, \"Name\": \"MeloettaPirouette Forme\", \"Type 1\": \"Normal\", \"Type 2\": \"Fighting\", \"Total\": 600, \"HP\": 100, \"Attack\": 128, \"Defense\": 90, \"SpecialA\": 77, \"SpecialD\": 77, \"Speed\": 128, \"Generation\": 5}, {\"#\": 649, \"Name\": \"Genesect\", \"Type 1\": \"Bug\", \"Type 2\": \"Steel\", \"Total\": 600, \"HP\": 71, \"Attack\": 120, \"Defense\": 95, \"SpecialA\": 120, \"SpecialD\": 95, \"Speed\": 99, \"Generation\": 5}, {\"#\": 652, \"Name\": \"Chesnaught\", \"Type 1\": \"Grass\", \"Type 2\": \"Fighting\", \"Total\": 530, \"HP\": 88, \"Attack\": 107, \"Defense\": 122, \"SpecialA\": 74, \"SpecialD\": 75, \"Speed\": 64, \"Generation\": 6}, {\"#\": 655, \"Name\": \"Delphox\", \"Type 1\": \"Fire\", \"Type 2\": \"Psychic\", \"Total\": 534, \"HP\": 75, \"Attack\": 69, \"Defense\": 72, \"SpecialA\": 114, \"SpecialD\": 100, \"Speed\": 104, \"Generation\": 6}, {\"#\": 658, \"Name\": \"Greninja\", \"Type 1\": \"Water\", \"Type 2\": \"Dark\", \"Total\": 530, \"HP\": 72, \"Attack\": 95, \"Defense\": 67, \"SpecialA\": 103, \"SpecialD\": 71, \"Speed\": 122, \"Generation\": 6}, {\"#\": 660, \"Name\": \"Diggersby\", \"Type 1\": \"Normal\", \"Type 2\": \"Ground\", \"Total\": 423, \"HP\": 85, \"Attack\": 56, \"Defense\": 77, \"SpecialA\": 50, \"SpecialD\": 77, \"Speed\": 78, \"Generation\": 6}, {\"#\": 661, \"Name\": \"Fletchling\", \"Type 1\": \"Normal\", \"Type 2\": \"Flying\", \"Total\": 278, \"HP\": 45, \"Attack\": 50, \"Defense\": 43, \"SpecialA\": 40, \"SpecialD\": 38, \"Speed\": 62, \"Generation\": 6}, {\"#\": 662, \"Name\": \"Fletchinder\", \"Type 1\": \"Fire\", \"Type 2\": \"Flying\", \"Total\": 382, \"HP\": 62, \"Attack\": 73, \"Defense\": 55, \"SpecialA\": 56, \"SpecialD\": 52, \"Speed\": 84, \"Generation\": 6}, {\"#\": 663, \"Name\": \"Talonflame\", \"Type 1\": \"Fire\", \"Type 2\": \"Flying\", \"Total\": 499, \"HP\": 78, \"Attack\": 81, \"Defense\": 71, \"SpecialA\": 74, \"SpecialD\": 69, \"Speed\": 126, \"Generation\": 6}, {\"#\": 666, \"Name\": \"Vivillon\", \"Type 1\": \"Bug\", \"Type 2\": \"Flying\", \"Total\": 411, \"HP\": 80, \"Attack\": 52, \"Defense\": 50, \"SpecialA\": 90, \"SpecialD\": 50, \"Speed\": 89, \"Generation\": 6}, {\"#\": 667, \"Name\": \"Litleo\", \"Type 1\": \"Fire\", \"Type 2\": \"Normal\", \"Total\": 369, \"HP\": 62, \"Attack\": 50, \"Defense\": 58, \"SpecialA\": 73, \"SpecialD\": 54, \"Speed\": 72, \"Generation\": 6}, {\"#\": 668, \"Name\": \"Pyroar\", \"Type 1\": \"Fire\", \"Type 2\": \"Normal\", \"Total\": 507, \"HP\": 86, \"Attack\": 68, \"Defense\": 72, \"SpecialA\": 109, \"SpecialD\": 66, \"Speed\": 106, \"Generation\": 6}, {\"#\": 675, \"Name\": \"Pangoro\", \"Type 1\": \"Fighting\", \"Type 2\": \"Dark\", \"Total\": 495, \"HP\": 95, \"Attack\": 124, \"Defense\": 78, \"SpecialA\": 69, \"SpecialD\": 71, \"Speed\": 58, \"Generation\": 6}, {\"#\": 679, \"Name\": \"Honedge\", \"Type 1\": \"Steel\", \"Type 2\": \"Ghost\", \"Total\": 325, \"HP\": 45, \"Attack\": 80, \"Defense\": 100, \"SpecialA\": 35, \"SpecialD\": 37, \"Speed\": 28, \"Generation\": 6}, {\"#\": 680, \"Name\": \"Doublade\", \"Type 1\": \"Steel\", \"Type 2\": \"Ghost\", \"Total\": 448, \"HP\": 59, \"Attack\": 110, \"Defense\": 150, \"SpecialA\": 45, \"SpecialD\": 49, \"Speed\": 35, \"Generation\": 6}, {\"#\": 681, \"Name\": \"AegislashBlade Forme\", \"Type 1\": \"Steel\", \"Type 2\": \"Ghost\", \"Total\": 520, \"HP\": 60, \"Attack\": 150, \"Defense\": 50, \"SpecialA\": 150, \"SpecialD\": 50, \"Speed\": 60, \"Generation\": 6}, {\"#\": 681, \"Name\": \"AegislashShield Forme\", \"Type 1\": \"Steel\", \"Type 2\": \"Ghost\", \"Total\": 520, \"HP\": 60, \"Attack\": 50, \"Defense\": 150, \"SpecialA\": 50, \"SpecialD\": 150, \"Speed\": 60, \"Generation\": 6}, {\"#\": 686, \"Name\": \"Inkay\", \"Type 1\": \"Dark\", \"Type 2\": \"Psychic\", \"Total\": 288, \"HP\": 53, \"Attack\": 54, \"Defense\": 53, \"SpecialA\": 37, \"SpecialD\": 46, \"Speed\": 45, \"Generation\": 6}, {\"#\": 687, \"Name\": \"Malamar\", \"Type 1\": \"Dark\", \"Type 2\": \"Psychic\", \"Total\": 482, \"HP\": 86, \"Attack\": 92, \"Defense\": 88, \"SpecialA\": 68, \"SpecialD\": 75, \"Speed\": 73, \"Generation\": 6}, {\"#\": 688, \"Name\": \"Binacle\", \"Type 1\": \"Rock\", \"Type 2\": \"Water\", \"Total\": 306, \"HP\": 42, \"Attack\": 52, \"Defense\": 67, \"SpecialA\": 39, \"SpecialD\": 56, \"Speed\": 50, \"Generation\": 6}, {\"#\": 689, \"Name\": \"Barbaracle\", \"Type 1\": \"Rock\", \"Type 2\": \"Water\", \"Total\": 500, \"HP\": 72, \"Attack\": 105, \"Defense\": 115, \"SpecialA\": 54, \"SpecialD\": 86, \"Speed\": 68, \"Generation\": 6}, {\"#\": 690, \"Name\": \"Skrelp\", \"Type 1\": \"Poison\", \"Type 2\": \"Water\", \"Total\": 320, \"HP\": 50, \"Attack\": 60, \"Defense\": 60, \"SpecialA\": 60, \"SpecialD\": 60, \"Speed\": 30, \"Generation\": 6}, {\"#\": 691, \"Name\": \"Dragalge\", \"Type 1\": \"Poison\", \"Type 2\": \"Dragon\", \"Total\": 494, \"HP\": 65, \"Attack\": 75, \"Defense\": 90, \"SpecialA\": 97, \"SpecialD\": 123, \"Speed\": 44, \"Generation\": 6}, {\"#\": 694, \"Name\": \"Helioptile\", \"Type 1\": \"Electric\", \"Type 2\": \"Normal\", \"Total\": 289, \"HP\": 44, \"Attack\": 38, \"Defense\": 33, \"SpecialA\": 61, \"SpecialD\": 43, \"Speed\": 70, \"Generation\": 6}, {\"#\": 695, \"Name\": \"Heliolisk\", \"Type 1\": \"Electric\", \"Type 2\": \"Normal\", \"Total\": 481, \"HP\": 62, \"Attack\": 55, \"Defense\": 52, \"SpecialA\": 109, \"SpecialD\": 94, \"Speed\": 109, \"Generation\": 6}, {\"#\": 696, \"Name\": \"Tyrunt\", \"Type 1\": \"Rock\", \"Type 2\": \"Dragon\", \"Total\": 362, \"HP\": 58, \"Attack\": 89, \"Defense\": 77, \"SpecialA\": 45, \"SpecialD\": 45, \"Speed\": 48, \"Generation\": 6}, {\"#\": 697, \"Name\": \"Tyrantrum\", \"Type 1\": \"Rock\", \"Type 2\": \"Dragon\", \"Total\": 521, \"HP\": 82, \"Attack\": 121, \"Defense\": 119, \"SpecialA\": 69, \"SpecialD\": 59, \"Speed\": 71, \"Generation\": 6}, {\"#\": 698, \"Name\": \"Amaura\", \"Type 1\": \"Rock\", \"Type 2\": \"Ice\", \"Total\": 362, \"HP\": 77, \"Attack\": 59, \"Defense\": 50, \"SpecialA\": 67, \"SpecialD\": 63, \"Speed\": 46, \"Generation\": 6}, {\"#\": 699, \"Name\": \"Aurorus\", \"Type 1\": \"Rock\", \"Type 2\": \"Ice\", \"Total\": 521, \"HP\": 123, \"Attack\": 77, \"Defense\": 72, \"SpecialA\": 99, \"SpecialD\": 92, \"Speed\": 58, \"Generation\": 6}, {\"#\": 701, \"Name\": \"Hawlucha\", \"Type 1\": \"Fighting\", \"Type 2\": \"Flying\", \"Total\": 500, \"HP\": 78, \"Attack\": 92, \"Defense\": 75, \"SpecialA\": 74, \"SpecialD\": 63, \"Speed\": 118, \"Generation\": 6}, {\"#\": 702, \"Name\": \"Dedenne\", \"Type 1\": \"Electric\", \"Type 2\": \"Fairy\", \"Total\": 431, \"HP\": 67, \"Attack\": 58, \"Defense\": 57, \"SpecialA\": 81, \"SpecialD\": 67, \"Speed\": 101, \"Generation\": 6}, {\"#\": 703, \"Name\": \"Carbink\", \"Type 1\": \"Rock\", \"Type 2\": \"Fairy\", \"Total\": 500, \"HP\": 50, \"Attack\": 50, \"Defense\": 150, \"SpecialA\": 50, \"SpecialD\": 150, \"Speed\": 50, \"Generation\": 6}, {\"#\": 707, \"Name\": \"Klefki\", \"Type 1\": \"Steel\", \"Type 2\": \"Fairy\", \"Total\": 470, \"HP\": 57, \"Attack\": 80, \"Defense\": 91, \"SpecialA\": 80, \"SpecialD\": 87, \"Speed\": 75, \"Generation\": 6}, {\"#\": 708, \"Name\": \"Phantump\", \"Type 1\": \"Ghost\", \"Type 2\": \"Grass\", \"Total\": 309, \"HP\": 43, \"Attack\": 70, \"Defense\": 48, \"SpecialA\": 50, \"SpecialD\": 60, \"Speed\": 38, \"Generation\": 6}, {\"#\": 709, \"Name\": \"Trevenant\", \"Type 1\": \"Ghost\", \"Type 2\": \"Grass\", \"Total\": 474, \"HP\": 85, \"Attack\": 110, \"Defense\": 76, \"SpecialA\": 65, \"SpecialD\": 82, \"Speed\": 56, \"Generation\": 6}, {\"#\": 710, \"Name\": \"PumpkabooAverage Size\", \"Type 1\": \"Ghost\", \"Type 2\": \"Grass\", \"Total\": 335, \"HP\": 49, \"Attack\": 66, \"Defense\": 70, \"SpecialA\": 44, \"SpecialD\": 55, \"Speed\": 51, \"Generation\": 6}, {\"#\": 710, \"Name\": \"PumpkabooSmall Size\", \"Type 1\": \"Ghost\", \"Type 2\": \"Grass\", \"Total\": 335, \"HP\": 44, \"Attack\": 66, \"Defense\": 70, \"SpecialA\": 44, \"SpecialD\": 55, \"Speed\": 56, \"Generation\": 6}, {\"#\": 710, \"Name\": \"PumpkabooLarge Size\", \"Type 1\": \"Ghost\", \"Type 2\": \"Grass\", \"Total\": 335, \"HP\": 54, \"Attack\": 66, \"Defense\": 70, \"SpecialA\": 44, \"SpecialD\": 55, \"Speed\": 46, \"Generation\": 6}, {\"#\": 710, \"Name\": \"PumpkabooSuper Size\", \"Type 1\": \"Ghost\", \"Type 2\": \"Grass\", \"Total\": 335, \"HP\": 59, \"Attack\": 66, \"Defense\": 70, \"SpecialA\": 44, \"SpecialD\": 55, \"Speed\": 41, \"Generation\": 6}, {\"#\": 711, \"Name\": \"GourgeistAverage Size\", \"Type 1\": \"Ghost\", \"Type 2\": \"Grass\", \"Total\": 494, \"HP\": 65, \"Attack\": 90, \"Defense\": 122, \"SpecialA\": 58, \"SpecialD\": 75, \"Speed\": 84, \"Generation\": 6}, {\"#\": 711, \"Name\": \"GourgeistSmall Size\", \"Type 1\": \"Ghost\", \"Type 2\": \"Grass\", \"Total\": 494, \"HP\": 55, \"Attack\": 85, \"Defense\": 122, \"SpecialA\": 58, \"SpecialD\": 75, \"Speed\": 99, \"Generation\": 6}, {\"#\": 711, \"Name\": \"GourgeistLarge Size\", \"Type 1\": \"Ghost\", \"Type 2\": \"Grass\", \"Total\": 494, \"HP\": 75, \"Attack\": 95, \"Defense\": 122, \"SpecialA\": 58, \"SpecialD\": 75, \"Speed\": 69, \"Generation\": 6}, {\"#\": 711, \"Name\": \"GourgeistSuper Size\", \"Type 1\": \"Ghost\", \"Type 2\": \"Grass\", \"Total\": 494, \"HP\": 85, \"Attack\": 100, \"Defense\": 122, \"SpecialA\": 58, \"SpecialD\": 75, \"Speed\": 54, \"Generation\": 6}, {\"#\": 714, \"Name\": \"Noibat\", \"Type 1\": \"Flying\", \"Type 2\": \"Dragon\", \"Total\": 245, \"HP\": 40, \"Attack\": 30, \"Defense\": 35, \"SpecialA\": 45, \"SpecialD\": 40, \"Speed\": 55, \"Generation\": 6}, {\"#\": 715, \"Name\": \"Noivern\", \"Type 1\": \"Flying\", \"Type 2\": \"Dragon\", \"Total\": 535, \"HP\": 85, \"Attack\": 70, \"Defense\": 80, \"SpecialA\": 97, \"SpecialD\": 80, \"Speed\": 123, \"Generation\": 6}]}}, {\"mode\": \"vega-lite\"});\n",
       "</script>"
      ],
      "text/plain": [
       "alt.Chart(...)"
      ]
     },
     "execution_count": 14,
     "metadata": {},
     "output_type": "execute_result"
    }
   ],
   "source": [
    "alt.Chart(df).mark_circle().encode(\n",
    "    x=alt.X(\"SpecialD\",scale=alt.Scale(domain=[0, 250])),\n",
    "    y=alt.Y(\"Defense\",scale=alt.Scale(domain=[0, 240])),\n",
    "    color=\"Generation:N\",\n",
    "    tooltip=[\"Name\",\"Defense\",\"SpecialD\"]\n",
    ").properties(\n",
    "    title=\"Defense v.s. Special Defense based on generation\"\n",
    ")"
   ]
  },
  {
   "cell_type": "markdown",
   "metadata": {
    "cell_id": "12b29527d4d04ccc92db10bdf1a8f9fa",
    "deepnote_cell_type": "markdown",
    "tags": []
   },
   "source": [
    "From the chart above, we can find that the general shape and trend for each generation are similar. \n",
    "I find that the distribution is not similar to what I believe before. I think a pokemon should have whether a high attack or high special attack, but the graph shows that most of the pokemon have the same attack and special attack. Also the same observation for the defense and special defense."
   ]
  },
  {
   "cell_type": "markdown",
   "metadata": {
    "cell_id": "16c6deb0f4d641298053bb050fc147ad",
    "deepnote_cell_type": "markdown",
    "tags": []
   },
   "source": [
    "## K-Mean clusters\n",
    "\n",
    "Use the stats value to predict clusters. I choose 6 because there are total 6 generations in the dataset."
   ]
  },
  {
   "cell_type": "code",
   "execution_count": 15,
   "metadata": {
    "cell_id": "01889dbe908640cf8597bae6836ded16",
    "deepnote_cell_type": "code",
    "deepnote_to_be_reexecuted": false,
    "execution_millis": 5602395,
    "execution_start": 1670317135049,
    "source_hash": "e82d3d6d",
    "tags": []
   },
   "outputs": [],
   "source": [
    "kmeans = KMeans(n_clusters=6)"
   ]
  },
  {
   "cell_type": "markdown",
   "metadata": {
    "cell_id": "734e3489116a429d9ce45db12525e9bf",
    "deepnote_cell_type": "markdown",
    "tags": []
   },
   "source": [
    "Use all the stats value in the dataset to predict the cluster."
   ]
  },
  {
   "cell_type": "code",
   "execution_count": 16,
   "metadata": {
    "cell_id": "2170782dda3f42d19646b5a758706f07",
    "deepnote_cell_type": "code",
    "deepnote_to_be_reexecuted": false,
    "execution_millis": 5602397,
    "execution_start": 1670317135051,
    "source_hash": "23ac9910",
    "tags": []
   },
   "outputs": [],
   "source": [
    "first_col = \"Total\"\n",
    "last_col = \"Speed\""
   ]
  },
  {
   "cell_type": "code",
   "execution_count": 17,
   "metadata": {
    "cell_id": "971f97ffa6b540eb9066b185665ab614",
    "deepnote_cell_type": "code",
    "deepnote_to_be_reexecuted": false,
    "execution_millis": 1388,
    "execution_start": 1670317135054,
    "source_hash": "528abb2f",
    "tags": []
   },
   "outputs": [
    {
     "data": {
      "text/plain": [
       "KMeans(n_clusters=6)"
      ]
     },
     "execution_count": 17,
     "metadata": {},
     "output_type": "execute_result"
    }
   ],
   "source": [
    "kmeans.fit(df[[first_col,last_col]])"
   ]
  },
  {
   "cell_type": "code",
   "execution_count": 18,
   "metadata": {
    "cell_id": "2b4724d3b4c34ed38b7b9857fdc92484",
    "deepnote_cell_type": "code",
    "deepnote_to_be_reexecuted": false,
    "execution_millis": 109,
    "execution_start": 1670317136445,
    "source_hash": "ca83ae83",
    "tags": []
   },
   "outputs": [],
   "source": [
    "arr = kmeans.predict(df[[first_col,last_col]])"
   ]
  },
  {
   "cell_type": "code",
   "execution_count": 19,
   "metadata": {
    "cell_id": "02277c5982464afb8e402544d0aa833d",
    "deepnote_cell_type": "code",
    "deepnote_table_loading": false,
    "deepnote_table_state": {
     "filters": [],
     "pageIndex": 2,
     "pageSize": 10,
     "sortBy": []
    },
    "deepnote_to_be_reexecuted": false,
    "execution_millis": 78,
    "execution_start": 1670317136556,
    "source_hash": "7a6c8d78",
    "tags": []
   },
   "outputs": [],
   "source": [
    "df[\"cluster\"]= arr"
   ]
  },
  {
   "cell_type": "code",
   "execution_count": 20,
   "metadata": {
    "cell_id": "0984138e3309431ca3adb84905095837",
    "deepnote_cell_type": "code",
    "deepnote_to_be_reexecuted": false,
    "execution_millis": 102,
    "execution_start": 1670317136762,
    "source_hash": "28c02e2e",
    "tags": []
   },
   "outputs": [
    {
     "data": {
      "text/html": [
       "\n",
       "<div id=\"altair-viz-49c08d680e9348288655b343bc107328\"></div>\n",
       "<script type=\"text/javascript\">\n",
       "  var VEGA_DEBUG = (typeof VEGA_DEBUG == \"undefined\") ? {} : VEGA_DEBUG;\n",
       "  (function(spec, embedOpt){\n",
       "    let outputDiv = document.currentScript.previousElementSibling;\n",
       "    if (outputDiv.id !== \"altair-viz-49c08d680e9348288655b343bc107328\") {\n",
       "      outputDiv = document.getElementById(\"altair-viz-49c08d680e9348288655b343bc107328\");\n",
       "    }\n",
       "    const paths = {\n",
       "      \"vega\": \"https://cdn.jsdelivr.net/npm//vega@5?noext\",\n",
       "      \"vega-lib\": \"https://cdn.jsdelivr.net/npm//vega-lib?noext\",\n",
       "      \"vega-lite\": \"https://cdn.jsdelivr.net/npm//vega-lite@4.17.0?noext\",\n",
       "      \"vega-embed\": \"https://cdn.jsdelivr.net/npm//vega-embed@6?noext\",\n",
       "    };\n",
       "\n",
       "    function maybeLoadScript(lib, version) {\n",
       "      var key = `${lib.replace(\"-\", \"\")}_version`;\n",
       "      return (VEGA_DEBUG[key] == version) ?\n",
       "        Promise.resolve(paths[lib]) :\n",
       "        new Promise(function(resolve, reject) {\n",
       "          var s = document.createElement('script');\n",
       "          document.getElementsByTagName(\"head\")[0].appendChild(s);\n",
       "          s.async = true;\n",
       "          s.onload = () => {\n",
       "            VEGA_DEBUG[key] = version;\n",
       "            return resolve(paths[lib]);\n",
       "          };\n",
       "          s.onerror = () => reject(`Error loading script: ${paths[lib]}`);\n",
       "          s.src = paths[lib];\n",
       "        });\n",
       "    }\n",
       "\n",
       "    function showError(err) {\n",
       "      outputDiv.innerHTML = `<div class=\"error\" style=\"color:red;\">${err}</div>`;\n",
       "      throw err;\n",
       "    }\n",
       "\n",
       "    function displayChart(vegaEmbed) {\n",
       "      vegaEmbed(outputDiv, spec, embedOpt)\n",
       "        .catch(err => showError(`Javascript Error: ${err.message}<br>This usually means there's a typo in your chart specification. See the javascript console for the full traceback.`));\n",
       "    }\n",
       "\n",
       "    if(typeof define === \"function\" && define.amd) {\n",
       "      requirejs.config({paths});\n",
       "      require([\"vega-embed\"], displayChart, err => showError(`Error loading script: ${err.message}`));\n",
       "    } else {\n",
       "      maybeLoadScript(\"vega\", \"5\")\n",
       "        .then(() => maybeLoadScript(\"vega-lite\", \"4.17.0\"))\n",
       "        .then(() => maybeLoadScript(\"vega-embed\", \"6\"))\n",
       "        .catch(showError)\n",
       "        .then(() => displayChart(vegaEmbed));\n",
       "    }\n",
       "  })({\"config\": {\"view\": {\"continuousWidth\": 400, \"continuousHeight\": 300}}, \"data\": {\"name\": \"data-be55c0f643bbcd7bc8096199e58d496f\"}, \"facet\": {\"row\": {\"field\": \"Generation\", \"type\": \"quantitative\"}}, \"spec\": {\"mark\": \"circle\", \"encoding\": {\"color\": {\"field\": \"cluster\", \"type\": \"nominal\"}, \"tooltip\": [{\"field\": \"#\", \"type\": \"quantitative\"}, {\"field\": \"Name\", \"type\": \"nominal\"}, {\"field\": \"Attack\", \"type\": \"quantitative\"}, {\"field\": \"SpecialA\", \"type\": \"quantitative\"}], \"x\": {\"field\": \"Attack\", \"type\": \"quantitative\"}, \"y\": {\"field\": \"SpecialA\", \"type\": \"quantitative\"}}}, \"$schema\": \"https://vega.github.io/schema/vega-lite/v4.17.0.json\", \"datasets\": {\"data-be55c0f643bbcd7bc8096199e58d496f\": [{\"#\": 1, \"Name\": \"Bulbasaur\", \"Type 1\": \"Grass\", \"Type 2\": \"Poison\", \"Total\": 318, \"HP\": 45, \"Attack\": 49, \"Defense\": 49, \"SpecialA\": 65, \"SpecialD\": 65, \"Speed\": 45, \"Generation\": 1, \"cluster\": 1}, {\"#\": 2, \"Name\": \"Ivysaur\", \"Type 1\": \"Grass\", \"Type 2\": \"Poison\", \"Total\": 405, \"HP\": 60, \"Attack\": 62, \"Defense\": 63, \"SpecialA\": 80, \"SpecialD\": 80, \"Speed\": 60, \"Generation\": 1, \"cluster\": 3}, {\"#\": 3, \"Name\": \"Venusaur\", \"Type 1\": \"Grass\", \"Type 2\": \"Poison\", \"Total\": 525, \"HP\": 80, \"Attack\": 82, \"Defense\": 83, \"SpecialA\": 100, \"SpecialD\": 100, \"Speed\": 80, \"Generation\": 1, \"cluster\": 0}, {\"#\": 3, \"Name\": \"VenusaurMega Venusaur\", \"Type 1\": \"Grass\", \"Type 2\": \"Poison\", \"Total\": 625, \"HP\": 80, \"Attack\": 100, \"Defense\": 123, \"SpecialA\": 122, \"SpecialD\": 120, \"Speed\": 80, \"Generation\": 1, \"cluster\": 2}, {\"#\": 6, \"Name\": \"Charizard\", \"Type 1\": \"Fire\", \"Type 2\": \"Flying\", \"Total\": 534, \"HP\": 78, \"Attack\": 84, \"Defense\": 78, \"SpecialA\": 109, \"SpecialD\": 85, \"Speed\": 100, \"Generation\": 1, \"cluster\": 0}, {\"#\": 6, \"Name\": \"CharizardMega Charizard X\", \"Type 1\": \"Fire\", \"Type 2\": \"Dragon\", \"Total\": 634, \"HP\": 78, \"Attack\": 130, \"Defense\": 111, \"SpecialA\": 130, \"SpecialD\": 85, \"Speed\": 100, \"Generation\": 1, \"cluster\": 2}, {\"#\": 6, \"Name\": \"CharizardMega Charizard Y\", \"Type 1\": \"Fire\", \"Type 2\": \"Flying\", \"Total\": 634, \"HP\": 78, \"Attack\": 104, \"Defense\": 78, \"SpecialA\": 159, \"SpecialD\": 115, \"Speed\": 100, \"Generation\": 1, \"cluster\": 2}, {\"#\": 12, \"Name\": \"Butterfree\", \"Type 1\": \"Bug\", \"Type 2\": \"Flying\", \"Total\": 395, \"HP\": 60, \"Attack\": 45, \"Defense\": 50, \"SpecialA\": 90, \"SpecialD\": 80, \"Speed\": 70, \"Generation\": 1, \"cluster\": 3}, {\"#\": 13, \"Name\": \"Weedle\", \"Type 1\": \"Bug\", \"Type 2\": \"Poison\", \"Total\": 195, \"HP\": 40, \"Attack\": 35, \"Defense\": 30, \"SpecialA\": 20, \"SpecialD\": 20, \"Speed\": 50, \"Generation\": 1, \"cluster\": 4}, {\"#\": 14, \"Name\": \"Kakuna\", \"Type 1\": \"Bug\", \"Type 2\": \"Poison\", \"Total\": 205, \"HP\": 45, \"Attack\": 25, \"Defense\": 50, \"SpecialA\": 25, \"SpecialD\": 25, \"Speed\": 35, \"Generation\": 1, \"cluster\": 4}, {\"#\": 15, \"Name\": \"Beedrill\", \"Type 1\": \"Bug\", \"Type 2\": \"Poison\", \"Total\": 395, \"HP\": 65, \"Attack\": 90, \"Defense\": 40, \"SpecialA\": 45, \"SpecialD\": 80, \"Speed\": 75, \"Generation\": 1, \"cluster\": 3}, {\"#\": 15, \"Name\": \"BeedrillMega Beedrill\", \"Type 1\": \"Bug\", \"Type 2\": \"Poison\", \"Total\": 495, \"HP\": 65, \"Attack\": 150, \"Defense\": 40, \"SpecialA\": 15, \"SpecialD\": 80, \"Speed\": 145, \"Generation\": 1, \"cluster\": 0}, {\"#\": 16, \"Name\": \"Pidgey\", \"Type 1\": \"Normal\", \"Type 2\": \"Flying\", \"Total\": 251, \"HP\": 40, \"Attack\": 45, \"Defense\": 40, \"SpecialA\": 35, \"SpecialD\": 35, \"Speed\": 56, \"Generation\": 1, \"cluster\": 4}, {\"#\": 17, \"Name\": \"Pidgeotto\", \"Type 1\": \"Normal\", \"Type 2\": \"Flying\", \"Total\": 349, \"HP\": 63, \"Attack\": 60, \"Defense\": 55, \"SpecialA\": 50, \"SpecialD\": 50, \"Speed\": 71, \"Generation\": 1, \"cluster\": 1}, {\"#\": 18, \"Name\": \"Pidgeot\", \"Type 1\": \"Normal\", \"Type 2\": \"Flying\", \"Total\": 479, \"HP\": 83, \"Attack\": 80, \"Defense\": 75, \"SpecialA\": 70, \"SpecialD\": 70, \"Speed\": 101, \"Generation\": 1, \"cluster\": 0}, {\"#\": 18, \"Name\": \"PidgeotMega Pidgeot\", \"Type 1\": \"Normal\", \"Type 2\": \"Flying\", \"Total\": 579, \"HP\": 83, \"Attack\": 80, \"Defense\": 80, \"SpecialA\": 135, \"SpecialD\": 80, \"Speed\": 121, \"Generation\": 1, \"cluster\": 2}, {\"#\": 21, \"Name\": \"Spearow\", \"Type 1\": \"Normal\", \"Type 2\": \"Flying\", \"Total\": 262, \"HP\": 40, \"Attack\": 60, \"Defense\": 30, \"SpecialA\": 31, \"SpecialD\": 31, \"Speed\": 70, \"Generation\": 1, \"cluster\": 4}, {\"#\": 22, \"Name\": \"Fearow\", \"Type 1\": \"Normal\", \"Type 2\": \"Flying\", \"Total\": 442, \"HP\": 65, \"Attack\": 90, \"Defense\": 65, \"SpecialA\": 61, \"SpecialD\": 61, \"Speed\": 100, \"Generation\": 1, \"cluster\": 3}, {\"#\": 31, \"Name\": \"Nidoqueen\", \"Type 1\": \"Poison\", \"Type 2\": \"Ground\", \"Total\": 505, \"HP\": 90, \"Attack\": 92, \"Defense\": 87, \"SpecialA\": 75, \"SpecialD\": 85, \"Speed\": 76, \"Generation\": 1, \"cluster\": 0}, {\"#\": 34, \"Name\": \"Nidoking\", \"Type 1\": \"Poison\", \"Type 2\": \"Ground\", \"Total\": 505, \"HP\": 81, \"Attack\": 102, \"Defense\": 77, \"SpecialA\": 85, \"SpecialD\": 75, \"Speed\": 85, \"Generation\": 1, \"cluster\": 0}, {\"#\": 39, \"Name\": \"Jigglypuff\", \"Type 1\": \"Normal\", \"Type 2\": \"Fairy\", \"Total\": 270, \"HP\": 115, \"Attack\": 45, \"Defense\": 20, \"SpecialA\": 45, \"SpecialD\": 25, \"Speed\": 20, \"Generation\": 1, \"cluster\": 4}, {\"#\": 40, \"Name\": \"Wigglytuff\", \"Type 1\": \"Normal\", \"Type 2\": \"Fairy\", \"Total\": 435, \"HP\": 140, \"Attack\": 70, \"Defense\": 45, \"SpecialA\": 85, \"SpecialD\": 50, \"Speed\": 45, \"Generation\": 1, \"cluster\": 3}, {\"#\": 41, \"Name\": \"Zubat\", \"Type 1\": \"Poison\", \"Type 2\": \"Flying\", \"Total\": 245, \"HP\": 40, \"Attack\": 45, \"Defense\": 35, \"SpecialA\": 30, \"SpecialD\": 40, \"Speed\": 55, \"Generation\": 1, \"cluster\": 4}, {\"#\": 42, \"Name\": \"Golbat\", \"Type 1\": \"Poison\", \"Type 2\": \"Flying\", \"Total\": 455, \"HP\": 75, \"Attack\": 80, \"Defense\": 70, \"SpecialA\": 65, \"SpecialD\": 75, \"Speed\": 90, \"Generation\": 1, \"cluster\": 5}, {\"#\": 43, \"Name\": \"Oddish\", \"Type 1\": \"Grass\", \"Type 2\": \"Poison\", \"Total\": 320, \"HP\": 45, \"Attack\": 50, \"Defense\": 55, \"SpecialA\": 75, \"SpecialD\": 65, \"Speed\": 30, \"Generation\": 1, \"cluster\": 1}, {\"#\": 44, \"Name\": \"Gloom\", \"Type 1\": \"Grass\", \"Type 2\": \"Poison\", \"Total\": 395, \"HP\": 60, \"Attack\": 65, \"Defense\": 70, \"SpecialA\": 85, \"SpecialD\": 75, \"Speed\": 40, \"Generation\": 1, \"cluster\": 3}, {\"#\": 45, \"Name\": \"Vileplume\", \"Type 1\": \"Grass\", \"Type 2\": \"Poison\", \"Total\": 490, \"HP\": 75, \"Attack\": 80, \"Defense\": 85, \"SpecialA\": 110, \"SpecialD\": 90, \"Speed\": 50, \"Generation\": 1, \"cluster\": 5}, {\"#\": 46, \"Name\": \"Paras\", \"Type 1\": \"Bug\", \"Type 2\": \"Grass\", \"Total\": 285, \"HP\": 35, \"Attack\": 70, \"Defense\": 55, \"SpecialA\": 45, \"SpecialD\": 55, \"Speed\": 25, \"Generation\": 1, \"cluster\": 4}, {\"#\": 47, \"Name\": \"Parasect\", \"Type 1\": \"Bug\", \"Type 2\": \"Grass\", \"Total\": 405, \"HP\": 60, \"Attack\": 95, \"Defense\": 80, \"SpecialA\": 60, \"SpecialD\": 80, \"Speed\": 30, \"Generation\": 1, \"cluster\": 3}, {\"#\": 48, \"Name\": \"Venonat\", \"Type 1\": \"Bug\", \"Type 2\": \"Poison\", \"Total\": 305, \"HP\": 60, \"Attack\": 55, \"Defense\": 50, \"SpecialA\": 40, \"SpecialD\": 55, \"Speed\": 45, \"Generation\": 1, \"cluster\": 1}, {\"#\": 49, \"Name\": \"Venomoth\", \"Type 1\": \"Bug\", \"Type 2\": \"Poison\", \"Total\": 450, \"HP\": 70, \"Attack\": 65, \"Defense\": 60, \"SpecialA\": 90, \"SpecialD\": 75, \"Speed\": 90, \"Generation\": 1, \"cluster\": 5}, {\"#\": 62, \"Name\": \"Poliwrath\", \"Type 1\": \"Water\", \"Type 2\": \"Fighting\", \"Total\": 510, \"HP\": 90, \"Attack\": 95, \"Defense\": 95, \"SpecialA\": 70, \"SpecialD\": 90, \"Speed\": 70, \"Generation\": 1, \"cluster\": 0}, {\"#\": 69, \"Name\": \"Bellsprout\", \"Type 1\": \"Grass\", \"Type 2\": \"Poison\", \"Total\": 300, \"HP\": 50, \"Attack\": 75, \"Defense\": 35, \"SpecialA\": 70, \"SpecialD\": 30, \"Speed\": 40, \"Generation\": 1, \"cluster\": 1}, {\"#\": 70, \"Name\": \"Weepinbell\", \"Type 1\": \"Grass\", \"Type 2\": \"Poison\", \"Total\": 390, \"HP\": 65, \"Attack\": 90, \"Defense\": 50, \"SpecialA\": 85, \"SpecialD\": 45, \"Speed\": 55, \"Generation\": 1, \"cluster\": 3}, {\"#\": 71, \"Name\": \"Victreebel\", \"Type 1\": \"Grass\", \"Type 2\": \"Poison\", \"Total\": 490, \"HP\": 80, \"Attack\": 105, \"Defense\": 65, \"SpecialA\": 100, \"SpecialD\": 70, \"Speed\": 70, \"Generation\": 1, \"cluster\": 5}, {\"#\": 72, \"Name\": \"Tentacool\", \"Type 1\": \"Water\", \"Type 2\": \"Poison\", \"Total\": 335, \"HP\": 40, \"Attack\": 40, \"Defense\": 35, \"SpecialA\": 50, \"SpecialD\": 100, \"Speed\": 70, \"Generation\": 1, \"cluster\": 1}, {\"#\": 73, \"Name\": \"Tentacruel\", \"Type 1\": \"Water\", \"Type 2\": \"Poison\", \"Total\": 515, \"HP\": 80, \"Attack\": 70, \"Defense\": 65, \"SpecialA\": 80, \"SpecialD\": 120, \"Speed\": 100, \"Generation\": 1, \"cluster\": 0}, {\"#\": 74, \"Name\": \"Geodude\", \"Type 1\": \"Rock\", \"Type 2\": \"Ground\", \"Total\": 300, \"HP\": 40, \"Attack\": 80, \"Defense\": 100, \"SpecialA\": 30, \"SpecialD\": 30, \"Speed\": 20, \"Generation\": 1, \"cluster\": 1}, {\"#\": 75, \"Name\": \"Graveler\", \"Type 1\": \"Rock\", \"Type 2\": \"Ground\", \"Total\": 390, \"HP\": 55, \"Attack\": 95, \"Defense\": 115, \"SpecialA\": 45, \"SpecialD\": 45, \"Speed\": 35, \"Generation\": 1, \"cluster\": 3}, {\"#\": 76, \"Name\": \"Golem\", \"Type 1\": \"Rock\", \"Type 2\": \"Ground\", \"Total\": 495, \"HP\": 80, \"Attack\": 120, \"Defense\": 130, \"SpecialA\": 55, \"SpecialD\": 65, \"Speed\": 45, \"Generation\": 1, \"cluster\": 5}, {\"#\": 79, \"Name\": \"Slowpoke\", \"Type 1\": \"Water\", \"Type 2\": \"Psychic\", \"Total\": 315, \"HP\": 90, \"Attack\": 65, \"Defense\": 65, \"SpecialA\": 40, \"SpecialD\": 40, \"Speed\": 15, \"Generation\": 1, \"cluster\": 1}, {\"#\": 80, \"Name\": \"Slowbro\", \"Type 1\": \"Water\", \"Type 2\": \"Psychic\", \"Total\": 490, \"HP\": 95, \"Attack\": 75, \"Defense\": 110, \"SpecialA\": 100, \"SpecialD\": 80, \"Speed\": 30, \"Generation\": 1, \"cluster\": 5}, {\"#\": 80, \"Name\": \"SlowbroMega Slowbro\", \"Type 1\": \"Water\", \"Type 2\": \"Psychic\", \"Total\": 590, \"HP\": 95, \"Attack\": 75, \"Defense\": 180, \"SpecialA\": 130, \"SpecialD\": 80, \"Speed\": 30, \"Generation\": 1, \"cluster\": 2}, {\"#\": 81, \"Name\": \"Magnemite\", \"Type 1\": \"Electric\", \"Type 2\": \"Steel\", \"Total\": 325, \"HP\": 25, \"Attack\": 35, \"Defense\": 70, \"SpecialA\": 95, \"SpecialD\": 55, \"Speed\": 45, \"Generation\": 1, \"cluster\": 1}, {\"#\": 82, \"Name\": \"Magneton\", \"Type 1\": \"Electric\", \"Type 2\": \"Steel\", \"Total\": 465, \"HP\": 50, \"Attack\": 60, \"Defense\": 95, \"SpecialA\": 120, \"SpecialD\": 70, \"Speed\": 70, \"Generation\": 1, \"cluster\": 5}, {\"#\": 83, \"Name\": \"Farfetch'd\", \"Type 1\": \"Normal\", \"Type 2\": \"Flying\", \"Total\": 352, \"HP\": 52, \"Attack\": 65, \"Defense\": 55, \"SpecialA\": 58, \"SpecialD\": 62, \"Speed\": 60, \"Generation\": 1, \"cluster\": 1}, {\"#\": 84, \"Name\": \"Doduo\", \"Type 1\": \"Normal\", \"Type 2\": \"Flying\", \"Total\": 310, \"HP\": 35, \"Attack\": 85, \"Defense\": 45, \"SpecialA\": 35, \"SpecialD\": 35, \"Speed\": 75, \"Generation\": 1, \"cluster\": 1}, {\"#\": 85, \"Name\": \"Dodrio\", \"Type 1\": \"Normal\", \"Type 2\": \"Flying\", \"Total\": 460, \"HP\": 60, \"Attack\": 110, \"Defense\": 70, \"SpecialA\": 60, \"SpecialD\": 60, \"Speed\": 100, \"Generation\": 1, \"cluster\": 5}, {\"#\": 87, \"Name\": \"Dewgong\", \"Type 1\": \"Water\", \"Type 2\": \"Ice\", \"Total\": 475, \"HP\": 90, \"Attack\": 70, \"Defense\": 80, \"SpecialA\": 70, \"SpecialD\": 95, \"Speed\": 70, \"Generation\": 1, \"cluster\": 5}, {\"#\": 91, \"Name\": \"Cloyster\", \"Type 1\": \"Water\", \"Type 2\": \"Ice\", \"Total\": 525, \"HP\": 50, \"Attack\": 95, \"Defense\": 180, \"SpecialA\": 85, \"SpecialD\": 45, \"Speed\": 70, \"Generation\": 1, \"cluster\": 0}, {\"#\": 92, \"Name\": \"Gastly\", \"Type 1\": \"Ghost\", \"Type 2\": \"Poison\", \"Total\": 310, \"HP\": 30, \"Attack\": 35, \"Defense\": 30, \"SpecialA\": 100, \"SpecialD\": 35, \"Speed\": 80, \"Generation\": 1, \"cluster\": 1}, {\"#\": 93, \"Name\": \"Haunter\", \"Type 1\": \"Ghost\", \"Type 2\": \"Poison\", \"Total\": 405, \"HP\": 45, \"Attack\": 50, \"Defense\": 45, \"SpecialA\": 115, \"SpecialD\": 55, \"Speed\": 95, \"Generation\": 1, \"cluster\": 3}, {\"#\": 94, \"Name\": \"Gengar\", \"Type 1\": \"Ghost\", \"Type 2\": \"Poison\", \"Total\": 500, \"HP\": 60, \"Attack\": 65, \"Defense\": 60, \"SpecialA\": 130, \"SpecialD\": 75, \"Speed\": 110, \"Generation\": 1, \"cluster\": 0}, {\"#\": 94, \"Name\": \"GengarMega Gengar\", \"Type 1\": \"Ghost\", \"Type 2\": \"Poison\", \"Total\": 600, \"HP\": 60, \"Attack\": 65, \"Defense\": 80, \"SpecialA\": 170, \"SpecialD\": 95, \"Speed\": 130, \"Generation\": 1, \"cluster\": 2}, {\"#\": 95, \"Name\": \"Onix\", \"Type 1\": \"Rock\", \"Type 2\": \"Ground\", \"Total\": 385, \"HP\": 35, \"Attack\": 45, \"Defense\": 160, \"SpecialA\": 30, \"SpecialD\": 45, \"Speed\": 70, \"Generation\": 1, \"cluster\": 3}, {\"#\": 102, \"Name\": \"Exeggcute\", \"Type 1\": \"Grass\", \"Type 2\": \"Psychic\", \"Total\": 325, \"HP\": 60, \"Attack\": 40, \"Defense\": 80, \"SpecialA\": 60, \"SpecialD\": 45, \"Speed\": 40, \"Generation\": 1, \"cluster\": 1}, {\"#\": 103, \"Name\": \"Exeggutor\", \"Type 1\": \"Grass\", \"Type 2\": \"Psychic\", \"Total\": 520, \"HP\": 95, \"Attack\": 95, \"Defense\": 85, \"SpecialA\": 125, \"SpecialD\": 65, \"Speed\": 55, \"Generation\": 1, \"cluster\": 0}, {\"#\": 111, \"Name\": \"Rhyhorn\", \"Type 1\": \"Ground\", \"Type 2\": \"Rock\", \"Total\": 345, \"HP\": 80, \"Attack\": 85, \"Defense\": 95, \"SpecialA\": 30, \"SpecialD\": 30, \"Speed\": 25, \"Generation\": 1, \"cluster\": 1}, {\"#\": 112, \"Name\": \"Rhydon\", \"Type 1\": \"Ground\", \"Type 2\": \"Rock\", \"Total\": 485, \"HP\": 105, \"Attack\": 130, \"Defense\": 120, \"SpecialA\": 45, \"SpecialD\": 45, \"Speed\": 40, \"Generation\": 1, \"cluster\": 5}, {\"#\": 121, \"Name\": \"Starmie\", \"Type 1\": \"Water\", \"Type 2\": \"Psychic\", \"Total\": 520, \"HP\": 60, \"Attack\": 75, \"Defense\": 85, \"SpecialA\": 100, \"SpecialD\": 85, \"Speed\": 115, \"Generation\": 1, \"cluster\": 0}, {\"#\": 122, \"Name\": \"Mr. Mime\", \"Type 1\": \"Psychic\", \"Type 2\": \"Fairy\", \"Total\": 460, \"HP\": 40, \"Attack\": 45, \"Defense\": 65, \"SpecialA\": 100, \"SpecialD\": 120, \"Speed\": 90, \"Generation\": 1, \"cluster\": 5}, {\"#\": 123, \"Name\": \"Scyther\", \"Type 1\": \"Bug\", \"Type 2\": \"Flying\", \"Total\": 500, \"HP\": 70, \"Attack\": 110, \"Defense\": 80, \"SpecialA\": 55, \"SpecialD\": 80, \"Speed\": 105, \"Generation\": 1, \"cluster\": 0}, {\"#\": 124, \"Name\": \"Jynx\", \"Type 1\": \"Ice\", \"Type 2\": \"Psychic\", \"Total\": 455, \"HP\": 65, \"Attack\": 50, \"Defense\": 35, \"SpecialA\": 115, \"SpecialD\": 95, \"Speed\": 95, \"Generation\": 1, \"cluster\": 5}, {\"#\": 127, \"Name\": \"PinsirMega Pinsir\", \"Type 1\": \"Bug\", \"Type 2\": \"Flying\", \"Total\": 600, \"HP\": 65, \"Attack\": 155, \"Defense\": 120, \"SpecialA\": 65, \"SpecialD\": 90, \"Speed\": 105, \"Generation\": 1, \"cluster\": 2}, {\"#\": 130, \"Name\": \"Gyarados\", \"Type 1\": \"Water\", \"Type 2\": \"Flying\", \"Total\": 540, \"HP\": 95, \"Attack\": 125, \"Defense\": 79, \"SpecialA\": 60, \"SpecialD\": 100, \"Speed\": 81, \"Generation\": 1, \"cluster\": 0}, {\"#\": 130, \"Name\": \"GyaradosMega Gyarados\", \"Type 1\": \"Water\", \"Type 2\": \"Dark\", \"Total\": 640, \"HP\": 95, \"Attack\": 155, \"Defense\": 109, \"SpecialA\": 70, \"SpecialD\": 130, \"Speed\": 81, \"Generation\": 1, \"cluster\": 2}, {\"#\": 131, \"Name\": \"Lapras\", \"Type 1\": \"Water\", \"Type 2\": \"Ice\", \"Total\": 535, \"HP\": 130, \"Attack\": 85, \"Defense\": 80, \"SpecialA\": 85, \"SpecialD\": 95, \"Speed\": 60, \"Generation\": 1, \"cluster\": 0}, {\"#\": 138, \"Name\": \"Omanyte\", \"Type 1\": \"Rock\", \"Type 2\": \"Water\", \"Total\": 355, \"HP\": 35, \"Attack\": 40, \"Defense\": 100, \"SpecialA\": 90, \"SpecialD\": 55, \"Speed\": 35, \"Generation\": 1, \"cluster\": 1}, {\"#\": 139, \"Name\": \"Omastar\", \"Type 1\": \"Rock\", \"Type 2\": \"Water\", \"Total\": 495, \"HP\": 70, \"Attack\": 60, \"Defense\": 125, \"SpecialA\": 115, \"SpecialD\": 70, \"Speed\": 55, \"Generation\": 1, \"cluster\": 5}, {\"#\": 140, \"Name\": \"Kabuto\", \"Type 1\": \"Rock\", \"Type 2\": \"Water\", \"Total\": 355, \"HP\": 30, \"Attack\": 80, \"Defense\": 90, \"SpecialA\": 55, \"SpecialD\": 45, \"Speed\": 55, \"Generation\": 1, \"cluster\": 1}, {\"#\": 141, \"Name\": \"Kabutops\", \"Type 1\": \"Rock\", \"Type 2\": \"Water\", \"Total\": 495, \"HP\": 60, \"Attack\": 115, \"Defense\": 105, \"SpecialA\": 65, \"SpecialD\": 70, \"Speed\": 80, \"Generation\": 1, \"cluster\": 0}, {\"#\": 142, \"Name\": \"Aerodactyl\", \"Type 1\": \"Rock\", \"Type 2\": \"Flying\", \"Total\": 515, \"HP\": 80, \"Attack\": 105, \"Defense\": 65, \"SpecialA\": 60, \"SpecialD\": 75, \"Speed\": 130, \"Generation\": 1, \"cluster\": 0}, {\"#\": 142, \"Name\": \"AerodactylMega Aerodactyl\", \"Type 1\": \"Rock\", \"Type 2\": \"Flying\", \"Total\": 615, \"HP\": 80, \"Attack\": 135, \"Defense\": 85, \"SpecialA\": 70, \"SpecialD\": 95, \"Speed\": 150, \"Generation\": 1, \"cluster\": 2}, {\"#\": 149, \"Name\": \"Dragonite\", \"Type 1\": \"Dragon\", \"Type 2\": \"Flying\", \"Total\": 600, \"HP\": 91, \"Attack\": 134, \"Defense\": 95, \"SpecialA\": 100, \"SpecialD\": 100, \"Speed\": 80, \"Generation\": 1, \"cluster\": 2}, {\"#\": 163, \"Name\": \"Hoothoot\", \"Type 1\": \"Normal\", \"Type 2\": \"Flying\", \"Total\": 262, \"HP\": 60, \"Attack\": 30, \"Defense\": 30, \"SpecialA\": 36, \"SpecialD\": 56, \"Speed\": 50, \"Generation\": 2, \"cluster\": 4}, {\"#\": 164, \"Name\": \"Noctowl\", \"Type 1\": \"Normal\", \"Type 2\": \"Flying\", \"Total\": 442, \"HP\": 100, \"Attack\": 50, \"Defense\": 50, \"SpecialA\": 76, \"SpecialD\": 96, \"Speed\": 70, \"Generation\": 2, \"cluster\": 3}, {\"#\": 165, \"Name\": \"Ledyba\", \"Type 1\": \"Bug\", \"Type 2\": \"Flying\", \"Total\": 265, \"HP\": 40, \"Attack\": 20, \"Defense\": 30, \"SpecialA\": 40, \"SpecialD\": 80, \"Speed\": 55, \"Generation\": 2, \"cluster\": 4}, {\"#\": 166, \"Name\": \"Ledian\", \"Type 1\": \"Bug\", \"Type 2\": \"Flying\", \"Total\": 390, \"HP\": 55, \"Attack\": 35, \"Defense\": 50, \"SpecialA\": 55, \"SpecialD\": 110, \"Speed\": 85, \"Generation\": 2, \"cluster\": 3}, {\"#\": 167, \"Name\": \"Spinarak\", \"Type 1\": \"Bug\", \"Type 2\": \"Poison\", \"Total\": 250, \"HP\": 40, \"Attack\": 60, \"Defense\": 40, \"SpecialA\": 40, \"SpecialD\": 40, \"Speed\": 30, \"Generation\": 2, \"cluster\": 4}, {\"#\": 168, \"Name\": \"Ariados\", \"Type 1\": \"Bug\", \"Type 2\": \"Poison\", \"Total\": 390, \"HP\": 70, \"Attack\": 90, \"Defense\": 70, \"SpecialA\": 60, \"SpecialD\": 60, \"Speed\": 40, \"Generation\": 2, \"cluster\": 3}, {\"#\": 169, \"Name\": \"Crobat\", \"Type 1\": \"Poison\", \"Type 2\": \"Flying\", \"Total\": 535, \"HP\": 85, \"Attack\": 90, \"Defense\": 80, \"SpecialA\": 70, \"SpecialD\": 80, \"Speed\": 130, \"Generation\": 2, \"cluster\": 0}, {\"#\": 170, \"Name\": \"Chinchou\", \"Type 1\": \"Water\", \"Type 2\": \"Electric\", \"Total\": 330, \"HP\": 75, \"Attack\": 38, \"Defense\": 38, \"SpecialA\": 56, \"SpecialD\": 56, \"Speed\": 67, \"Generation\": 2, \"cluster\": 1}, {\"#\": 171, \"Name\": \"Lanturn\", \"Type 1\": \"Water\", \"Type 2\": \"Electric\", \"Total\": 460, \"HP\": 125, \"Attack\": 58, \"Defense\": 58, \"SpecialA\": 76, \"SpecialD\": 76, \"Speed\": 67, \"Generation\": 2, \"cluster\": 5}, {\"#\": 174, \"Name\": \"Igglybuff\", \"Type 1\": \"Normal\", \"Type 2\": \"Fairy\", \"Total\": 210, \"HP\": 90, \"Attack\": 30, \"Defense\": 15, \"SpecialA\": 40, \"SpecialD\": 20, \"Speed\": 15, \"Generation\": 2, \"cluster\": 4}, {\"#\": 176, \"Name\": \"Togetic\", \"Type 1\": \"Fairy\", \"Type 2\": \"Flying\", \"Total\": 405, \"HP\": 55, \"Attack\": 40, \"Defense\": 85, \"SpecialA\": 80, \"SpecialD\": 105, \"Speed\": 40, \"Generation\": 2, \"cluster\": 3}, {\"#\": 177, \"Name\": \"Natu\", \"Type 1\": \"Psychic\", \"Type 2\": \"Flying\", \"Total\": 320, \"HP\": 40, \"Attack\": 50, \"Defense\": 45, \"SpecialA\": 70, \"SpecialD\": 45, \"Speed\": 70, \"Generation\": 2, \"cluster\": 1}, {\"#\": 178, \"Name\": \"Xatu\", \"Type 1\": \"Psychic\", \"Type 2\": \"Flying\", \"Total\": 470, \"HP\": 65, \"Attack\": 75, \"Defense\": 70, \"SpecialA\": 95, \"SpecialD\": 70, \"Speed\": 95, \"Generation\": 2, \"cluster\": 5}, {\"#\": 181, \"Name\": \"AmpharosMega Ampharos\", \"Type 1\": \"Electric\", \"Type 2\": \"Dragon\", \"Total\": 610, \"HP\": 90, \"Attack\": 95, \"Defense\": 105, \"SpecialA\": 165, \"SpecialD\": 110, \"Speed\": 45, \"Generation\": 2, \"cluster\": 2}, {\"#\": 183, \"Name\": \"Marill\", \"Type 1\": \"Water\", \"Type 2\": \"Fairy\", \"Total\": 250, \"HP\": 70, \"Attack\": 20, \"Defense\": 50, \"SpecialA\": 20, \"SpecialD\": 50, \"Speed\": 40, \"Generation\": 2, \"cluster\": 4}, {\"#\": 184, \"Name\": \"Azumarill\", \"Type 1\": \"Water\", \"Type 2\": \"Fairy\", \"Total\": 420, \"HP\": 100, \"Attack\": 50, \"Defense\": 80, \"SpecialA\": 60, \"SpecialD\": 80, \"Speed\": 50, \"Generation\": 2, \"cluster\": 3}, {\"#\": 187, \"Name\": \"Hoppip\", \"Type 1\": \"Grass\", \"Type 2\": \"Flying\", \"Total\": 250, \"HP\": 35, \"Attack\": 35, \"Defense\": 40, \"SpecialA\": 35, \"SpecialD\": 55, \"Speed\": 50, \"Generation\": 2, \"cluster\": 4}, {\"#\": 188, \"Name\": \"Skiploom\", \"Type 1\": \"Grass\", \"Type 2\": \"Flying\", \"Total\": 340, \"HP\": 55, \"Attack\": 45, \"Defense\": 50, \"SpecialA\": 45, \"SpecialD\": 65, \"Speed\": 80, \"Generation\": 2, \"cluster\": 1}, {\"#\": 189, \"Name\": \"Jumpluff\", \"Type 1\": \"Grass\", \"Type 2\": \"Flying\", \"Total\": 460, \"HP\": 75, \"Attack\": 55, \"Defense\": 70, \"SpecialA\": 55, \"SpecialD\": 95, \"Speed\": 110, \"Generation\": 2, \"cluster\": 5}, {\"#\": 193, \"Name\": \"Yanma\", \"Type 1\": \"Bug\", \"Type 2\": \"Flying\", \"Total\": 390, \"HP\": 65, \"Attack\": 65, \"Defense\": 45, \"SpecialA\": 75, \"SpecialD\": 45, \"Speed\": 95, \"Generation\": 2, \"cluster\": 3}, {\"#\": 194, \"Name\": \"Wooper\", \"Type 1\": \"Water\", \"Type 2\": \"Ground\", \"Total\": 210, \"HP\": 55, \"Attack\": 45, \"Defense\": 45, \"SpecialA\": 25, \"SpecialD\": 25, \"Speed\": 15, \"Generation\": 2, \"cluster\": 4}, {\"#\": 195, \"Name\": \"Quagsire\", \"Type 1\": \"Water\", \"Type 2\": \"Ground\", \"Total\": 430, \"HP\": 95, \"Attack\": 85, \"Defense\": 85, \"SpecialA\": 65, \"SpecialD\": 65, \"Speed\": 35, \"Generation\": 2, \"cluster\": 3}, {\"#\": 198, \"Name\": \"Murkrow\", \"Type 1\": \"Dark\", \"Type 2\": \"Flying\", \"Total\": 405, \"HP\": 60, \"Attack\": 85, \"Defense\": 42, \"SpecialA\": 85, \"SpecialD\": 42, \"Speed\": 91, \"Generation\": 2, \"cluster\": 3}, {\"#\": 199, \"Name\": \"Slowking\", \"Type 1\": \"Water\", \"Type 2\": \"Psychic\", \"Total\": 490, \"HP\": 95, \"Attack\": 75, \"Defense\": 80, \"SpecialA\": 100, \"SpecialD\": 110, \"Speed\": 30, \"Generation\": 2, \"cluster\": 5}, {\"#\": 203, \"Name\": \"Girafarig\", \"Type 1\": \"Normal\", \"Type 2\": \"Psychic\", \"Total\": 455, \"HP\": 70, \"Attack\": 80, \"Defense\": 65, \"SpecialA\": 90, \"SpecialD\": 65, \"Speed\": 85, \"Generation\": 2, \"cluster\": 5}, {\"#\": 205, \"Name\": \"Forretress\", \"Type 1\": \"Bug\", \"Type 2\": \"Steel\", \"Total\": 465, \"HP\": 75, \"Attack\": 90, \"Defense\": 140, \"SpecialA\": 60, \"SpecialD\": 60, \"Speed\": 40, \"Generation\": 2, \"cluster\": 5}, {\"#\": 207, \"Name\": \"Gligar\", \"Type 1\": \"Ground\", \"Type 2\": \"Flying\", \"Total\": 430, \"HP\": 65, \"Attack\": 75, \"Defense\": 105, \"SpecialA\": 35, \"SpecialD\": 65, \"Speed\": 85, \"Generation\": 2, \"cluster\": 3}, {\"#\": 208, \"Name\": \"Steelix\", \"Type 1\": \"Steel\", \"Type 2\": \"Ground\", \"Total\": 510, \"HP\": 75, \"Attack\": 85, \"Defense\": 200, \"SpecialA\": 55, \"SpecialD\": 65, \"Speed\": 30, \"Generation\": 2, \"cluster\": 5}, {\"#\": 208, \"Name\": \"SteelixMega Steelix\", \"Type 1\": \"Steel\", \"Type 2\": \"Ground\", \"Total\": 610, \"HP\": 75, \"Attack\": 125, \"Defense\": 230, \"SpecialA\": 55, \"SpecialD\": 95, \"Speed\": 30, \"Generation\": 2, \"cluster\": 2}, {\"#\": 211, \"Name\": \"Qwilfish\", \"Type 1\": \"Water\", \"Type 2\": \"Poison\", \"Total\": 430, \"HP\": 65, \"Attack\": 95, \"Defense\": 75, \"SpecialA\": 55, \"SpecialD\": 55, \"Speed\": 85, \"Generation\": 2, \"cluster\": 3}, {\"#\": 212, \"Name\": \"Scizor\", \"Type 1\": \"Bug\", \"Type 2\": \"Steel\", \"Total\": 500, \"HP\": 70, \"Attack\": 130, \"Defense\": 100, \"SpecialA\": 55, \"SpecialD\": 80, \"Speed\": 65, \"Generation\": 2, \"cluster\": 5}, {\"#\": 212, \"Name\": \"ScizorMega Scizor\", \"Type 1\": \"Bug\", \"Type 2\": \"Steel\", \"Total\": 600, \"HP\": 70, \"Attack\": 150, \"Defense\": 140, \"SpecialA\": 65, \"SpecialD\": 100, \"Speed\": 75, \"Generation\": 2, \"cluster\": 2}, {\"#\": 213, \"Name\": \"Shuckle\", \"Type 1\": \"Bug\", \"Type 2\": \"Rock\", \"Total\": 505, \"HP\": 20, \"Attack\": 10, \"Defense\": 230, \"SpecialA\": 10, \"SpecialD\": 230, \"Speed\": 5, \"Generation\": 2, \"cluster\": 5}, {\"#\": 214, \"Name\": \"Heracross\", \"Type 1\": \"Bug\", \"Type 2\": \"Fighting\", \"Total\": 500, \"HP\": 80, \"Attack\": 125, \"Defense\": 75, \"SpecialA\": 40, \"SpecialD\": 95, \"Speed\": 85, \"Generation\": 2, \"cluster\": 0}, {\"#\": 214, \"Name\": \"HeracrossMega Heracross\", \"Type 1\": \"Bug\", \"Type 2\": \"Fighting\", \"Total\": 600, \"HP\": 80, \"Attack\": 185, \"Defense\": 115, \"SpecialA\": 40, \"SpecialD\": 105, \"Speed\": 75, \"Generation\": 2, \"cluster\": 2}, {\"#\": 215, \"Name\": \"Sneasel\", \"Type 1\": \"Dark\", \"Type 2\": \"Ice\", \"Total\": 430, \"HP\": 55, \"Attack\": 95, \"Defense\": 55, \"SpecialA\": 35, \"SpecialD\": 75, \"Speed\": 115, \"Generation\": 2, \"cluster\": 3}, {\"#\": 219, \"Name\": \"Magcargo\", \"Type 1\": \"Fire\", \"Type 2\": \"Rock\", \"Total\": 410, \"HP\": 50, \"Attack\": 50, \"Defense\": 120, \"SpecialA\": 80, \"SpecialD\": 80, \"Speed\": 30, \"Generation\": 2, \"cluster\": 3}, {\"#\": 220, \"Name\": \"Swinub\", \"Type 1\": \"Ice\", \"Type 2\": \"Ground\", \"Total\": 250, \"HP\": 50, \"Attack\": 50, \"Defense\": 40, \"SpecialA\": 30, \"SpecialD\": 30, \"Speed\": 50, \"Generation\": 2, \"cluster\": 4}, {\"#\": 221, \"Name\": \"Piloswine\", \"Type 1\": \"Ice\", \"Type 2\": \"Ground\", \"Total\": 450, \"HP\": 100, \"Attack\": 100, \"Defense\": 80, \"SpecialA\": 60, \"SpecialD\": 60, \"Speed\": 50, \"Generation\": 2, \"cluster\": 5}, {\"#\": 222, \"Name\": \"Corsola\", \"Type 1\": \"Water\", \"Type 2\": \"Rock\", \"Total\": 380, \"HP\": 55, \"Attack\": 55, \"Defense\": 85, \"SpecialA\": 65, \"SpecialD\": 85, \"Speed\": 35, \"Generation\": 2, \"cluster\": 3}, {\"#\": 225, \"Name\": \"Delibird\", \"Type 1\": \"Ice\", \"Type 2\": \"Flying\", \"Total\": 330, \"HP\": 45, \"Attack\": 55, \"Defense\": 45, \"SpecialA\": 65, \"SpecialD\": 45, \"Speed\": 75, \"Generation\": 2, \"cluster\": 1}, {\"#\": 226, \"Name\": \"Mantine\", \"Type 1\": \"Water\", \"Type 2\": \"Flying\", \"Total\": 465, \"HP\": 65, \"Attack\": 40, \"Defense\": 70, \"SpecialA\": 80, \"SpecialD\": 140, \"Speed\": 70, \"Generation\": 2, \"cluster\": 5}, {\"#\": 227, \"Name\": \"Skarmory\", \"Type 1\": \"Steel\", \"Type 2\": \"Flying\", \"Total\": 465, \"HP\": 65, \"Attack\": 80, \"Defense\": 140, \"SpecialA\": 40, \"SpecialD\": 70, \"Speed\": 70, \"Generation\": 2, \"cluster\": 5}, {\"#\": 228, \"Name\": \"Houndour\", \"Type 1\": \"Dark\", \"Type 2\": \"Fire\", \"Total\": 330, \"HP\": 45, \"Attack\": 60, \"Defense\": 30, \"SpecialA\": 80, \"SpecialD\": 50, \"Speed\": 65, \"Generation\": 2, \"cluster\": 1}, {\"#\": 229, \"Name\": \"Houndoom\", \"Type 1\": \"Dark\", \"Type 2\": \"Fire\", \"Total\": 500, \"HP\": 75, \"Attack\": 90, \"Defense\": 50, \"SpecialA\": 110, \"SpecialD\": 80, \"Speed\": 95, \"Generation\": 2, \"cluster\": 0}, {\"#\": 229, \"Name\": \"HoundoomMega Houndoom\", \"Type 1\": \"Dark\", \"Type 2\": \"Fire\", \"Total\": 600, \"HP\": 75, \"Attack\": 90, \"Defense\": 90, \"SpecialA\": 140, \"SpecialD\": 90, \"Speed\": 115, \"Generation\": 2, \"cluster\": 2}, {\"#\": 230, \"Name\": \"Kingdra\", \"Type 1\": \"Water\", \"Type 2\": \"Dragon\", \"Total\": 540, \"HP\": 75, \"Attack\": 95, \"Defense\": 95, \"SpecialA\": 95, \"SpecialD\": 95, \"Speed\": 85, \"Generation\": 2, \"cluster\": 0}, {\"#\": 238, \"Name\": \"Smoochum\", \"Type 1\": \"Ice\", \"Type 2\": \"Psychic\", \"Total\": 305, \"HP\": 45, \"Attack\": 30, \"Defense\": 15, \"SpecialA\": 85, \"SpecialD\": 65, \"Speed\": 65, \"Generation\": 2, \"cluster\": 1}, {\"#\": 246, \"Name\": \"Larvitar\", \"Type 1\": \"Rock\", \"Type 2\": \"Ground\", \"Total\": 300, \"HP\": 50, \"Attack\": 64, \"Defense\": 50, \"SpecialA\": 45, \"SpecialD\": 50, \"Speed\": 41, \"Generation\": 2, \"cluster\": 1}, {\"#\": 247, \"Name\": \"Pupitar\", \"Type 1\": \"Rock\", \"Type 2\": \"Ground\", \"Total\": 410, \"HP\": 70, \"Attack\": 84, \"Defense\": 70, \"SpecialA\": 65, \"SpecialD\": 70, \"Speed\": 51, \"Generation\": 2, \"cluster\": 3}, {\"#\": 248, \"Name\": \"Tyranitar\", \"Type 1\": \"Rock\", \"Type 2\": \"Dark\", \"Total\": 600, \"HP\": 100, \"Attack\": 134, \"Defense\": 110, \"SpecialA\": 95, \"SpecialD\": 100, \"Speed\": 61, \"Generation\": 2, \"cluster\": 2}, {\"#\": 248, \"Name\": \"TyranitarMega Tyranitar\", \"Type 1\": \"Rock\", \"Type 2\": \"Dark\", \"Total\": 700, \"HP\": 100, \"Attack\": 164, \"Defense\": 150, \"SpecialA\": 95, \"SpecialD\": 120, \"Speed\": 71, \"Generation\": 2, \"cluster\": 2}, {\"#\": 251, \"Name\": \"Celebi\", \"Type 1\": \"Psychic\", \"Type 2\": \"Grass\", \"Total\": 600, \"HP\": 100, \"Attack\": 100, \"Defense\": 100, \"SpecialA\": 100, \"SpecialD\": 100, \"Speed\": 100, \"Generation\": 2, \"cluster\": 2}, {\"#\": 254, \"Name\": \"SceptileMega Sceptile\", \"Type 1\": \"Grass\", \"Type 2\": \"Dragon\", \"Total\": 630, \"HP\": 70, \"Attack\": 110, \"Defense\": 75, \"SpecialA\": 145, \"SpecialD\": 85, \"Speed\": 145, \"Generation\": 3, \"cluster\": 2}, {\"#\": 256, \"Name\": \"Combusken\", \"Type 1\": \"Fire\", \"Type 2\": \"Fighting\", \"Total\": 405, \"HP\": 60, \"Attack\": 85, \"Defense\": 60, \"SpecialA\": 85, \"SpecialD\": 60, \"Speed\": 55, \"Generation\": 3, \"cluster\": 3}, {\"#\": 257, \"Name\": \"Blaziken\", \"Type 1\": \"Fire\", \"Type 2\": \"Fighting\", \"Total\": 530, \"HP\": 80, \"Attack\": 120, \"Defense\": 70, \"SpecialA\": 110, \"SpecialD\": 70, \"Speed\": 80, \"Generation\": 3, \"cluster\": 0}, {\"#\": 257, \"Name\": \"BlazikenMega Blaziken\", \"Type 1\": \"Fire\", \"Type 2\": \"Fighting\", \"Total\": 630, \"HP\": 80, \"Attack\": 160, \"Defense\": 80, \"SpecialA\": 130, \"SpecialD\": 80, \"Speed\": 100, \"Generation\": 3, \"cluster\": 2}, {\"#\": 259, \"Name\": \"Marshtomp\", \"Type 1\": \"Water\", \"Type 2\": \"Ground\", \"Total\": 405, \"HP\": 70, \"Attack\": 85, \"Defense\": 70, \"SpecialA\": 60, \"SpecialD\": 70, \"Speed\": 50, \"Generation\": 3, \"cluster\": 3}, {\"#\": 260, \"Name\": \"Swampert\", \"Type 1\": \"Water\", \"Type 2\": \"Ground\", \"Total\": 535, \"HP\": 100, \"Attack\": 110, \"Defense\": 90, \"SpecialA\": 85, \"SpecialD\": 90, \"Speed\": 60, \"Generation\": 3, \"cluster\": 0}, {\"#\": 260, \"Name\": \"SwampertMega Swampert\", \"Type 1\": \"Water\", \"Type 2\": \"Ground\", \"Total\": 635, \"HP\": 100, \"Attack\": 150, \"Defense\": 110, \"SpecialA\": 95, \"SpecialD\": 110, \"Speed\": 70, \"Generation\": 3, \"cluster\": 2}, {\"#\": 267, \"Name\": \"Beautifly\", \"Type 1\": \"Bug\", \"Type 2\": \"Flying\", \"Total\": 395, \"HP\": 60, \"Attack\": 70, \"Defense\": 50, \"SpecialA\": 100, \"SpecialD\": 50, \"Speed\": 65, \"Generation\": 3, \"cluster\": 3}, {\"#\": 269, \"Name\": \"Dustox\", \"Type 1\": \"Bug\", \"Type 2\": \"Poison\", \"Total\": 385, \"HP\": 60, \"Attack\": 50, \"Defense\": 70, \"SpecialA\": 50, \"SpecialD\": 90, \"Speed\": 65, \"Generation\": 3, \"cluster\": 3}, {\"#\": 270, \"Name\": \"Lotad\", \"Type 1\": \"Water\", \"Type 2\": \"Grass\", \"Total\": 220, \"HP\": 40, \"Attack\": 30, \"Defense\": 30, \"SpecialA\": 40, \"SpecialD\": 50, \"Speed\": 30, \"Generation\": 3, \"cluster\": 4}, {\"#\": 271, \"Name\": \"Lombre\", \"Type 1\": \"Water\", \"Type 2\": \"Grass\", \"Total\": 340, \"HP\": 60, \"Attack\": 50, \"Defense\": 50, \"SpecialA\": 60, \"SpecialD\": 70, \"Speed\": 50, \"Generation\": 3, \"cluster\": 1}, {\"#\": 272, \"Name\": \"Ludicolo\", \"Type 1\": \"Water\", \"Type 2\": \"Grass\", \"Total\": 480, \"HP\": 80, \"Attack\": 70, \"Defense\": 70, \"SpecialA\": 90, \"SpecialD\": 100, \"Speed\": 70, \"Generation\": 3, \"cluster\": 5}, {\"#\": 274, \"Name\": \"Nuzleaf\", \"Type 1\": \"Grass\", \"Type 2\": \"Dark\", \"Total\": 340, \"HP\": 70, \"Attack\": 70, \"Defense\": 40, \"SpecialA\": 60, \"SpecialD\": 40, \"Speed\": 60, \"Generation\": 3, \"cluster\": 1}, {\"#\": 275, \"Name\": \"Shiftry\", \"Type 1\": \"Grass\", \"Type 2\": \"Dark\", \"Total\": 480, \"HP\": 90, \"Attack\": 100, \"Defense\": 60, \"SpecialA\": 90, \"SpecialD\": 60, \"Speed\": 80, \"Generation\": 3, \"cluster\": 5}, {\"#\": 276, \"Name\": \"Taillow\", \"Type 1\": \"Normal\", \"Type 2\": \"Flying\", \"Total\": 270, \"HP\": 40, \"Attack\": 55, \"Defense\": 30, \"SpecialA\": 30, \"SpecialD\": 30, \"Speed\": 85, \"Generation\": 3, \"cluster\": 4}, {\"#\": 277, \"Name\": \"Swellow\", \"Type 1\": \"Normal\", \"Type 2\": \"Flying\", \"Total\": 430, \"HP\": 60, \"Attack\": 85, \"Defense\": 60, \"SpecialA\": 50, \"SpecialD\": 50, \"Speed\": 125, \"Generation\": 3, \"cluster\": 3}, {\"#\": 278, \"Name\": \"Wingull\", \"Type 1\": \"Water\", \"Type 2\": \"Flying\", \"Total\": 270, \"HP\": 40, \"Attack\": 30, \"Defense\": 30, \"SpecialA\": 55, \"SpecialD\": 30, \"Speed\": 85, \"Generation\": 3, \"cluster\": 4}, {\"#\": 279, \"Name\": \"Pelipper\", \"Type 1\": \"Water\", \"Type 2\": \"Flying\", \"Total\": 430, \"HP\": 60, \"Attack\": 50, \"Defense\": 100, \"SpecialA\": 85, \"SpecialD\": 70, \"Speed\": 65, \"Generation\": 3, \"cluster\": 3}, {\"#\": 280, \"Name\": \"Ralts\", \"Type 1\": \"Psychic\", \"Type 2\": \"Fairy\", \"Total\": 198, \"HP\": 28, \"Attack\": 25, \"Defense\": 25, \"SpecialA\": 45, \"SpecialD\": 35, \"Speed\": 40, \"Generation\": 3, \"cluster\": 4}, {\"#\": 281, \"Name\": \"Kirlia\", \"Type 1\": \"Psychic\", \"Type 2\": \"Fairy\", \"Total\": 278, \"HP\": 38, \"Attack\": 35, \"Defense\": 35, \"SpecialA\": 65, \"SpecialD\": 55, \"Speed\": 50, \"Generation\": 3, \"cluster\": 4}, {\"#\": 282, \"Name\": \"Gardevoir\", \"Type 1\": \"Psychic\", \"Type 2\": \"Fairy\", \"Total\": 518, \"HP\": 68, \"Attack\": 65, \"Defense\": 65, \"SpecialA\": 125, \"SpecialD\": 115, \"Speed\": 80, \"Generation\": 3, \"cluster\": 0}, {\"#\": 282, \"Name\": \"GardevoirMega Gardevoir\", \"Type 1\": \"Psychic\", \"Type 2\": \"Fairy\", \"Total\": 618, \"HP\": 68, \"Attack\": 85, \"Defense\": 65, \"SpecialA\": 165, \"SpecialD\": 135, \"Speed\": 100, \"Generation\": 3, \"cluster\": 2}, {\"#\": 283, \"Name\": \"Surskit\", \"Type 1\": \"Bug\", \"Type 2\": \"Water\", \"Total\": 269, \"HP\": 40, \"Attack\": 30, \"Defense\": 32, \"SpecialA\": 50, \"SpecialD\": 52, \"Speed\": 65, \"Generation\": 3, \"cluster\": 4}, {\"#\": 284, \"Name\": \"Masquerain\", \"Type 1\": \"Bug\", \"Type 2\": \"Flying\", \"Total\": 414, \"HP\": 70, \"Attack\": 60, \"Defense\": 62, \"SpecialA\": 80, \"SpecialD\": 82, \"Speed\": 60, \"Generation\": 3, \"cluster\": 3}, {\"#\": 286, \"Name\": \"Breloom\", \"Type 1\": \"Grass\", \"Type 2\": \"Fighting\", \"Total\": 460, \"HP\": 60, \"Attack\": 130, \"Defense\": 80, \"SpecialA\": 60, \"SpecialD\": 60, \"Speed\": 70, \"Generation\": 3, \"cluster\": 5}, {\"#\": 290, \"Name\": \"Nincada\", \"Type 1\": \"Bug\", \"Type 2\": \"Ground\", \"Total\": 266, \"HP\": 31, \"Attack\": 45, \"Defense\": 90, \"SpecialA\": 30, \"SpecialD\": 30, \"Speed\": 40, \"Generation\": 3, \"cluster\": 4}, {\"#\": 291, \"Name\": \"Ninjask\", \"Type 1\": \"Bug\", \"Type 2\": \"Flying\", \"Total\": 456, \"HP\": 61, \"Attack\": 90, \"Defense\": 45, \"SpecialA\": 50, \"SpecialD\": 50, \"Speed\": 160, \"Generation\": 3, \"cluster\": 0}, {\"#\": 292, \"Name\": \"Shedinja\", \"Type 1\": \"Bug\", \"Type 2\": \"Ghost\", \"Total\": 236, \"HP\": 1, \"Attack\": 90, \"Defense\": 45, \"SpecialA\": 30, \"SpecialD\": 30, \"Speed\": 40, \"Generation\": 3, \"cluster\": 4}, {\"#\": 298, \"Name\": \"Azurill\", \"Type 1\": \"Normal\", \"Type 2\": \"Fairy\", \"Total\": 190, \"HP\": 50, \"Attack\": 20, \"Defense\": 40, \"SpecialA\": 20, \"SpecialD\": 40, \"Speed\": 20, \"Generation\": 3, \"cluster\": 4}, {\"#\": 302, \"Name\": \"Sableye\", \"Type 1\": \"Dark\", \"Type 2\": \"Ghost\", \"Total\": 380, \"HP\": 50, \"Attack\": 75, \"Defense\": 75, \"SpecialA\": 65, \"SpecialD\": 65, \"Speed\": 50, \"Generation\": 3, \"cluster\": 3}, {\"#\": 302, \"Name\": \"SableyeMega Sableye\", \"Type 1\": \"Dark\", \"Type 2\": \"Ghost\", \"Total\": 480, \"HP\": 50, \"Attack\": 85, \"Defense\": 125, \"SpecialA\": 85, \"SpecialD\": 115, \"Speed\": 20, \"Generation\": 3, \"cluster\": 5}, {\"#\": 303, \"Name\": \"Mawile\", \"Type 1\": \"Steel\", \"Type 2\": \"Fairy\", \"Total\": 380, \"HP\": 50, \"Attack\": 85, \"Defense\": 85, \"SpecialA\": 55, \"SpecialD\": 55, \"Speed\": 50, \"Generation\": 3, \"cluster\": 3}, {\"#\": 303, \"Name\": \"MawileMega Mawile\", \"Type 1\": \"Steel\", \"Type 2\": \"Fairy\", \"Total\": 480, \"HP\": 50, \"Attack\": 105, \"Defense\": 125, \"SpecialA\": 55, \"SpecialD\": 95, \"Speed\": 50, \"Generation\": 3, \"cluster\": 5}, {\"#\": 304, \"Name\": \"Aron\", \"Type 1\": \"Steel\", \"Type 2\": \"Rock\", \"Total\": 330, \"HP\": 50, \"Attack\": 70, \"Defense\": 100, \"SpecialA\": 40, \"SpecialD\": 40, \"Speed\": 30, \"Generation\": 3, \"cluster\": 1}, {\"#\": 305, \"Name\": \"Lairon\", \"Type 1\": \"Steel\", \"Type 2\": \"Rock\", \"Total\": 430, \"HP\": 60, \"Attack\": 90, \"Defense\": 140, \"SpecialA\": 50, \"SpecialD\": 50, \"Speed\": 40, \"Generation\": 3, \"cluster\": 3}, {\"#\": 306, \"Name\": \"Aggron\", \"Type 1\": \"Steel\", \"Type 2\": \"Rock\", \"Total\": 530, \"HP\": 70, \"Attack\": 110, \"Defense\": 180, \"SpecialA\": 60, \"SpecialD\": 60, \"Speed\": 50, \"Generation\": 3, \"cluster\": 0}, {\"#\": 307, \"Name\": \"Meditite\", \"Type 1\": \"Fighting\", \"Type 2\": \"Psychic\", \"Total\": 280, \"HP\": 30, \"Attack\": 40, \"Defense\": 55, \"SpecialA\": 40, \"SpecialD\": 55, \"Speed\": 60, \"Generation\": 3, \"cluster\": 4}, {\"#\": 308, \"Name\": \"Medicham\", \"Type 1\": \"Fighting\", \"Type 2\": \"Psychic\", \"Total\": 410, \"HP\": 60, \"Attack\": 60, \"Defense\": 75, \"SpecialA\": 60, \"SpecialD\": 75, \"Speed\": 80, \"Generation\": 3, \"cluster\": 3}, {\"#\": 308, \"Name\": \"MedichamMega Medicham\", \"Type 1\": \"Fighting\", \"Type 2\": \"Psychic\", \"Total\": 510, \"HP\": 60, \"Attack\": 100, \"Defense\": 85, \"SpecialA\": 80, \"SpecialD\": 85, \"Speed\": 100, \"Generation\": 3, \"cluster\": 0}, {\"#\": 315, \"Name\": \"Roselia\", \"Type 1\": \"Grass\", \"Type 2\": \"Poison\", \"Total\": 400, \"HP\": 50, \"Attack\": 60, \"Defense\": 45, \"SpecialA\": 100, \"SpecialD\": 80, \"Speed\": 65, \"Generation\": 3, \"cluster\": 3}, {\"#\": 318, \"Name\": \"Carvanha\", \"Type 1\": \"Water\", \"Type 2\": \"Dark\", \"Total\": 305, \"HP\": 45, \"Attack\": 90, \"Defense\": 20, \"SpecialA\": 65, \"SpecialD\": 20, \"Speed\": 65, \"Generation\": 3, \"cluster\": 1}, {\"#\": 319, \"Name\": \"Sharpedo\", \"Type 1\": \"Water\", \"Type 2\": \"Dark\", \"Total\": 460, \"HP\": 70, \"Attack\": 120, \"Defense\": 40, \"SpecialA\": 95, \"SpecialD\": 40, \"Speed\": 95, \"Generation\": 3, \"cluster\": 5}, {\"#\": 319, \"Name\": \"SharpedoMega Sharpedo\", \"Type 1\": \"Water\", \"Type 2\": \"Dark\", \"Total\": 560, \"HP\": 70, \"Attack\": 140, \"Defense\": 70, \"SpecialA\": 110, \"SpecialD\": 65, \"Speed\": 105, \"Generation\": 3, \"cluster\": 0}, {\"#\": 322, \"Name\": \"Numel\", \"Type 1\": \"Fire\", \"Type 2\": \"Ground\", \"Total\": 305, \"HP\": 60, \"Attack\": 60, \"Defense\": 40, \"SpecialA\": 65, \"SpecialD\": 45, \"Speed\": 35, \"Generation\": 3, \"cluster\": 1}, {\"#\": 323, \"Name\": \"Camerupt\", \"Type 1\": \"Fire\", \"Type 2\": \"Ground\", \"Total\": 460, \"HP\": 70, \"Attack\": 100, \"Defense\": 70, \"SpecialA\": 105, \"SpecialD\": 75, \"Speed\": 40, \"Generation\": 3, \"cluster\": 5}, {\"#\": 323, \"Name\": \"CameruptMega Camerupt\", \"Type 1\": \"Fire\", \"Type 2\": \"Ground\", \"Total\": 560, \"HP\": 70, \"Attack\": 120, \"Defense\": 100, \"SpecialA\": 145, \"SpecialD\": 105, \"Speed\": 20, \"Generation\": 3, \"cluster\": 0}, {\"#\": 329, \"Name\": \"Vibrava\", \"Type 1\": \"Ground\", \"Type 2\": \"Dragon\", \"Total\": 340, \"HP\": 50, \"Attack\": 70, \"Defense\": 50, \"SpecialA\": 50, \"SpecialD\": 50, \"Speed\": 70, \"Generation\": 3, \"cluster\": 1}, {\"#\": 330, \"Name\": \"Flygon\", \"Type 1\": \"Ground\", \"Type 2\": \"Dragon\", \"Total\": 520, \"HP\": 80, \"Attack\": 100, \"Defense\": 80, \"SpecialA\": 80, \"SpecialD\": 80, \"Speed\": 100, \"Generation\": 3, \"cluster\": 0}, {\"#\": 332, \"Name\": \"Cacturne\", \"Type 1\": \"Grass\", \"Type 2\": \"Dark\", \"Total\": 475, \"HP\": 70, \"Attack\": 115, \"Defense\": 60, \"SpecialA\": 115, \"SpecialD\": 60, \"Speed\": 55, \"Generation\": 3, \"cluster\": 5}, {\"#\": 333, \"Name\": \"Swablu\", \"Type 1\": \"Normal\", \"Type 2\": \"Flying\", \"Total\": 310, \"HP\": 45, \"Attack\": 40, \"Defense\": 60, \"SpecialA\": 40, \"SpecialD\": 75, \"Speed\": 50, \"Generation\": 3, \"cluster\": 1}, {\"#\": 334, \"Name\": \"Altaria\", \"Type 1\": \"Dragon\", \"Type 2\": \"Flying\", \"Total\": 490, \"HP\": 75, \"Attack\": 70, \"Defense\": 90, \"SpecialA\": 70, \"SpecialD\": 105, \"Speed\": 80, \"Generation\": 3, \"cluster\": 0}, {\"#\": 334, \"Name\": \"AltariaMega Altaria\", \"Type 1\": \"Dragon\", \"Type 2\": \"Fairy\", \"Total\": 590, \"HP\": 75, \"Attack\": 110, \"Defense\": 110, \"SpecialA\": 110, \"SpecialD\": 105, \"Speed\": 80, \"Generation\": 3, \"cluster\": 2}, {\"#\": 337, \"Name\": \"Lunatone\", \"Type 1\": \"Rock\", \"Type 2\": \"Psychic\", \"Total\": 440, \"HP\": 70, \"Attack\": 55, \"Defense\": 65, \"SpecialA\": 95, \"SpecialD\": 85, \"Speed\": 70, \"Generation\": 3, \"cluster\": 3}, {\"#\": 338, \"Name\": \"Solrock\", \"Type 1\": \"Rock\", \"Type 2\": \"Psychic\", \"Total\": 440, \"HP\": 70, \"Attack\": 95, \"Defense\": 85, \"SpecialA\": 55, \"SpecialD\": 65, \"Speed\": 70, \"Generation\": 3, \"cluster\": 3}, {\"#\": 339, \"Name\": \"Barboach\", \"Type 1\": \"Water\", \"Type 2\": \"Ground\", \"Total\": 288, \"HP\": 50, \"Attack\": 48, \"Defense\": 43, \"SpecialA\": 46, \"SpecialD\": 41, \"Speed\": 60, \"Generation\": 3, \"cluster\": 1}, {\"#\": 340, \"Name\": \"Whiscash\", \"Type 1\": \"Water\", \"Type 2\": \"Ground\", \"Total\": 468, \"HP\": 110, \"Attack\": 78, \"Defense\": 73, \"SpecialA\": 76, \"SpecialD\": 71, \"Speed\": 60, \"Generation\": 3, \"cluster\": 5}, {\"#\": 342, \"Name\": \"Crawdaunt\", \"Type 1\": \"Water\", \"Type 2\": \"Dark\", \"Total\": 468, \"HP\": 63, \"Attack\": 120, \"Defense\": 85, \"SpecialA\": 90, \"SpecialD\": 55, \"Speed\": 55, \"Generation\": 3, \"cluster\": 5}, {\"#\": 343, \"Name\": \"Baltoy\", \"Type 1\": \"Ground\", \"Type 2\": \"Psychic\", \"Total\": 300, \"HP\": 40, \"Attack\": 40, \"Defense\": 55, \"SpecialA\": 40, \"SpecialD\": 70, \"Speed\": 55, \"Generation\": 3, \"cluster\": 1}, {\"#\": 344, \"Name\": \"Claydol\", \"Type 1\": \"Ground\", \"Type 2\": \"Psychic\", \"Total\": 500, \"HP\": 60, \"Attack\": 70, \"Defense\": 105, \"SpecialA\": 70, \"SpecialD\": 120, \"Speed\": 75, \"Generation\": 3, \"cluster\": 0}, {\"#\": 345, \"Name\": \"Lileep\", \"Type 1\": \"Rock\", \"Type 2\": \"Grass\", \"Total\": 355, \"HP\": 66, \"Attack\": 41, \"Defense\": 77, \"SpecialA\": 61, \"SpecialD\": 87, \"Speed\": 23, \"Generation\": 3, \"cluster\": 1}, {\"#\": 346, \"Name\": \"Cradily\", \"Type 1\": \"Rock\", \"Type 2\": \"Grass\", \"Total\": 495, \"HP\": 86, \"Attack\": 81, \"Defense\": 97, \"SpecialA\": 81, \"SpecialD\": 107, \"Speed\": 43, \"Generation\": 3, \"cluster\": 5}, {\"#\": 347, \"Name\": \"Anorith\", \"Type 1\": \"Rock\", \"Type 2\": \"Bug\", \"Total\": 355, \"HP\": 45, \"Attack\": 95, \"Defense\": 50, \"SpecialA\": 40, \"SpecialD\": 50, \"Speed\": 75, \"Generation\": 3, \"cluster\": 1}, {\"#\": 348, \"Name\": \"Armaldo\", \"Type 1\": \"Rock\", \"Type 2\": \"Bug\", \"Total\": 495, \"HP\": 75, \"Attack\": 125, \"Defense\": 100, \"SpecialA\": 70, \"SpecialD\": 80, \"Speed\": 45, \"Generation\": 3, \"cluster\": 5}, {\"#\": 357, \"Name\": \"Tropius\", \"Type 1\": \"Grass\", \"Type 2\": \"Flying\", \"Total\": 460, \"HP\": 99, \"Attack\": 68, \"Defense\": 83, \"SpecialA\": 72, \"SpecialD\": 87, \"Speed\": 51, \"Generation\": 3, \"cluster\": 5}, {\"#\": 363, \"Name\": \"Spheal\", \"Type 1\": \"Ice\", \"Type 2\": \"Water\", \"Total\": 290, \"HP\": 70, \"Attack\": 40, \"Defense\": 50, \"SpecialA\": 55, \"SpecialD\": 50, \"Speed\": 25, \"Generation\": 3, \"cluster\": 1}, {\"#\": 364, \"Name\": \"Sealeo\", \"Type 1\": \"Ice\", \"Type 2\": \"Water\", \"Total\": 410, \"HP\": 90, \"Attack\": 60, \"Defense\": 70, \"SpecialA\": 75, \"SpecialD\": 70, \"Speed\": 45, \"Generation\": 3, \"cluster\": 3}, {\"#\": 365, \"Name\": \"Walrein\", \"Type 1\": \"Ice\", \"Type 2\": \"Water\", \"Total\": 530, \"HP\": 110, \"Attack\": 80, \"Defense\": 90, \"SpecialA\": 95, \"SpecialD\": 90, \"Speed\": 65, \"Generation\": 3, \"cluster\": 0}, {\"#\": 369, \"Name\": \"Relicanth\", \"Type 1\": \"Water\", \"Type 2\": \"Rock\", \"Total\": 485, \"HP\": 100, \"Attack\": 90, \"Defense\": 130, \"SpecialA\": 45, \"SpecialD\": 65, \"Speed\": 55, \"Generation\": 3, \"cluster\": 5}, {\"#\": 373, \"Name\": \"Salamence\", \"Type 1\": \"Dragon\", \"Type 2\": \"Flying\", \"Total\": 600, \"HP\": 95, \"Attack\": 135, \"Defense\": 80, \"SpecialA\": 110, \"SpecialD\": 80, \"Speed\": 100, \"Generation\": 3, \"cluster\": 2}, {\"#\": 373, \"Name\": \"SalamenceMega Salamence\", \"Type 1\": \"Dragon\", \"Type 2\": \"Flying\", \"Total\": 700, \"HP\": 95, \"Attack\": 145, \"Defense\": 130, \"SpecialA\": 120, \"SpecialD\": 90, \"Speed\": 120, \"Generation\": 3, \"cluster\": 2}, {\"#\": 374, \"Name\": \"Beldum\", \"Type 1\": \"Steel\", \"Type 2\": \"Psychic\", \"Total\": 300, \"HP\": 40, \"Attack\": 55, \"Defense\": 80, \"SpecialA\": 35, \"SpecialD\": 60, \"Speed\": 30, \"Generation\": 3, \"cluster\": 1}, {\"#\": 375, \"Name\": \"Metang\", \"Type 1\": \"Steel\", \"Type 2\": \"Psychic\", \"Total\": 420, \"HP\": 60, \"Attack\": 75, \"Defense\": 100, \"SpecialA\": 55, \"SpecialD\": 80, \"Speed\": 50, \"Generation\": 3, \"cluster\": 3}, {\"#\": 376, \"Name\": \"Metagross\", \"Type 1\": \"Steel\", \"Type 2\": \"Psychic\", \"Total\": 600, \"HP\": 80, \"Attack\": 135, \"Defense\": 130, \"SpecialA\": 95, \"SpecialD\": 90, \"Speed\": 70, \"Generation\": 3, \"cluster\": 2}, {\"#\": 376, \"Name\": \"MetagrossMega Metagross\", \"Type 1\": \"Steel\", \"Type 2\": \"Psychic\", \"Total\": 700, \"HP\": 80, \"Attack\": 145, \"Defense\": 150, \"SpecialA\": 105, \"SpecialD\": 110, \"Speed\": 110, \"Generation\": 3, \"cluster\": 2}, {\"#\": 389, \"Name\": \"Torterra\", \"Type 1\": \"Grass\", \"Type 2\": \"Ground\", \"Total\": 525, \"HP\": 95, \"Attack\": 109, \"Defense\": 105, \"SpecialA\": 75, \"SpecialD\": 85, \"Speed\": 56, \"Generation\": 4, \"cluster\": 0}, {\"#\": 391, \"Name\": \"Monferno\", \"Type 1\": \"Fire\", \"Type 2\": \"Fighting\", \"Total\": 405, \"HP\": 64, \"Attack\": 78, \"Defense\": 52, \"SpecialA\": 78, \"SpecialD\": 52, \"Speed\": 81, \"Generation\": 4, \"cluster\": 3}, {\"#\": 392, \"Name\": \"Infernape\", \"Type 1\": \"Fire\", \"Type 2\": \"Fighting\", \"Total\": 534, \"HP\": 76, \"Attack\": 104, \"Defense\": 71, \"SpecialA\": 104, \"SpecialD\": 71, \"Speed\": 108, \"Generation\": 4, \"cluster\": 0}, {\"#\": 395, \"Name\": \"Empoleon\", \"Type 1\": \"Water\", \"Type 2\": \"Steel\", \"Total\": 530, \"HP\": 84, \"Attack\": 86, \"Defense\": 88, \"SpecialA\": 111, \"SpecialD\": 101, \"Speed\": 60, \"Generation\": 4, \"cluster\": 0}, {\"#\": 396, \"Name\": \"Starly\", \"Type 1\": \"Normal\", \"Type 2\": \"Flying\", \"Total\": 245, \"HP\": 40, \"Attack\": 55, \"Defense\": 30, \"SpecialA\": 30, \"SpecialD\": 30, \"Speed\": 60, \"Generation\": 4, \"cluster\": 4}, {\"#\": 397, \"Name\": \"Staravia\", \"Type 1\": \"Normal\", \"Type 2\": \"Flying\", \"Total\": 340, \"HP\": 55, \"Attack\": 75, \"Defense\": 50, \"SpecialA\": 40, \"SpecialD\": 40, \"Speed\": 80, \"Generation\": 4, \"cluster\": 1}, {\"#\": 398, \"Name\": \"Staraptor\", \"Type 1\": \"Normal\", \"Type 2\": \"Flying\", \"Total\": 485, \"HP\": 85, \"Attack\": 120, \"Defense\": 70, \"SpecialA\": 50, \"SpecialD\": 60, \"Speed\": 100, \"Generation\": 4, \"cluster\": 0}, {\"#\": 400, \"Name\": \"Bibarel\", \"Type 1\": \"Normal\", \"Type 2\": \"Water\", \"Total\": 410, \"HP\": 79, \"Attack\": 85, \"Defense\": 60, \"SpecialA\": 55, \"SpecialD\": 60, \"Speed\": 71, \"Generation\": 4, \"cluster\": 3}, {\"#\": 406, \"Name\": \"Budew\", \"Type 1\": \"Grass\", \"Type 2\": \"Poison\", \"Total\": 280, \"HP\": 40, \"Attack\": 30, \"Defense\": 35, \"SpecialA\": 50, \"SpecialD\": 70, \"Speed\": 55, \"Generation\": 4, \"cluster\": 4}, {\"#\": 407, \"Name\": \"Roserade\", \"Type 1\": \"Grass\", \"Type 2\": \"Poison\", \"Total\": 515, \"HP\": 60, \"Attack\": 70, \"Defense\": 65, \"SpecialA\": 125, \"SpecialD\": 105, \"Speed\": 90, \"Generation\": 4, \"cluster\": 0}, {\"#\": 410, \"Name\": \"Shieldon\", \"Type 1\": \"Rock\", \"Type 2\": \"Steel\", \"Total\": 350, \"HP\": 30, \"Attack\": 42, \"Defense\": 118, \"SpecialA\": 42, \"SpecialD\": 88, \"Speed\": 30, \"Generation\": 4, \"cluster\": 1}, {\"#\": 411, \"Name\": \"Bastiodon\", \"Type 1\": \"Rock\", \"Type 2\": \"Steel\", \"Total\": 495, \"HP\": 60, \"Attack\": 52, \"Defense\": 168, \"SpecialA\": 47, \"SpecialD\": 138, \"Speed\": 30, \"Generation\": 4, \"cluster\": 5}, {\"#\": 413, \"Name\": \"WormadamPlant Cloak\", \"Type 1\": \"Bug\", \"Type 2\": \"Grass\", \"Total\": 424, \"HP\": 60, \"Attack\": 59, \"Defense\": 85, \"SpecialA\": 79, \"SpecialD\": 105, \"Speed\": 36, \"Generation\": 4, \"cluster\": 3}, {\"#\": 413, \"Name\": \"WormadamSandy Cloak\", \"Type 1\": \"Bug\", \"Type 2\": \"Ground\", \"Total\": 424, \"HP\": 60, \"Attack\": 79, \"Defense\": 105, \"SpecialA\": 59, \"SpecialD\": 85, \"Speed\": 36, \"Generation\": 4, \"cluster\": 3}, {\"#\": 413, \"Name\": \"WormadamTrash Cloak\", \"Type 1\": \"Bug\", \"Type 2\": \"Steel\", \"Total\": 424, \"HP\": 60, \"Attack\": 69, \"Defense\": 95, \"SpecialA\": 69, \"SpecialD\": 95, \"Speed\": 36, \"Generation\": 4, \"cluster\": 3}, {\"#\": 414, \"Name\": \"Mothim\", \"Type 1\": \"Bug\", \"Type 2\": \"Flying\", \"Total\": 424, \"HP\": 70, \"Attack\": 94, \"Defense\": 50, \"SpecialA\": 94, \"SpecialD\": 50, \"Speed\": 66, \"Generation\": 4, \"cluster\": 3}, {\"#\": 415, \"Name\": \"Combee\", \"Type 1\": \"Bug\", \"Type 2\": \"Flying\", \"Total\": 244, \"HP\": 30, \"Attack\": 30, \"Defense\": 42, \"SpecialA\": 30, \"SpecialD\": 42, \"Speed\": 70, \"Generation\": 4, \"cluster\": 4}, {\"#\": 416, \"Name\": \"Vespiquen\", \"Type 1\": \"Bug\", \"Type 2\": \"Flying\", \"Total\": 474, \"HP\": 70, \"Attack\": 80, \"Defense\": 102, \"SpecialA\": 80, \"SpecialD\": 102, \"Speed\": 40, \"Generation\": 4, \"cluster\": 5}, {\"#\": 423, \"Name\": \"Gastrodon\", \"Type 1\": \"Water\", \"Type 2\": \"Ground\", \"Total\": 475, \"HP\": 111, \"Attack\": 83, \"Defense\": 68, \"SpecialA\": 92, \"SpecialD\": 82, \"Speed\": 39, \"Generation\": 4, \"cluster\": 5}, {\"#\": 425, \"Name\": \"Drifloon\", \"Type 1\": \"Ghost\", \"Type 2\": \"Flying\", \"Total\": 348, \"HP\": 90, \"Attack\": 50, \"Defense\": 34, \"SpecialA\": 60, \"SpecialD\": 44, \"Speed\": 70, \"Generation\": 4, \"cluster\": 1}, {\"#\": 426, \"Name\": \"Drifblim\", \"Type 1\": \"Ghost\", \"Type 2\": \"Flying\", \"Total\": 498, \"HP\": 150, \"Attack\": 80, \"Defense\": 44, \"SpecialA\": 90, \"SpecialD\": 54, \"Speed\": 80, \"Generation\": 4, \"cluster\": 0}, {\"#\": 428, \"Name\": \"LopunnyMega Lopunny\", \"Type 1\": \"Normal\", \"Type 2\": \"Fighting\", \"Total\": 580, \"HP\": 65, \"Attack\": 136, \"Defense\": 94, \"SpecialA\": 54, \"SpecialD\": 96, \"Speed\": 135, \"Generation\": 4, \"cluster\": 2}, {\"#\": 430, \"Name\": \"Honchkrow\", \"Type 1\": \"Dark\", \"Type 2\": \"Flying\", \"Total\": 505, \"HP\": 100, \"Attack\": 125, \"Defense\": 52, \"SpecialA\": 105, \"SpecialD\": 52, \"Speed\": 71, \"Generation\": 4, \"cluster\": 0}, {\"#\": 434, \"Name\": \"Stunky\", \"Type 1\": \"Poison\", \"Type 2\": \"Dark\", \"Total\": 329, \"HP\": 63, \"Attack\": 63, \"Defense\": 47, \"SpecialA\": 41, \"SpecialD\": 41, \"Speed\": 74, \"Generation\": 4, \"cluster\": 1}, {\"#\": 435, \"Name\": \"Skuntank\", \"Type 1\": \"Poison\", \"Type 2\": \"Dark\", \"Total\": 479, \"HP\": 103, \"Attack\": 93, \"Defense\": 67, \"SpecialA\": 71, \"SpecialD\": 61, \"Speed\": 84, \"Generation\": 4, \"cluster\": 5}, {\"#\": 436, \"Name\": \"Bronzor\", \"Type 1\": \"Steel\", \"Type 2\": \"Psychic\", \"Total\": 300, \"HP\": 57, \"Attack\": 24, \"Defense\": 86, \"SpecialA\": 24, \"SpecialD\": 86, \"Speed\": 23, \"Generation\": 4, \"cluster\": 1}, {\"#\": 437, \"Name\": \"Bronzong\", \"Type 1\": \"Steel\", \"Type 2\": \"Psychic\", \"Total\": 500, \"HP\": 67, \"Attack\": 89, \"Defense\": 116, \"SpecialA\": 79, \"SpecialD\": 116, \"Speed\": 33, \"Generation\": 4, \"cluster\": 5}, {\"#\": 439, \"Name\": \"Mime Jr.\", \"Type 1\": \"Psychic\", \"Type 2\": \"Fairy\", \"Total\": 310, \"HP\": 20, \"Attack\": 25, \"Defense\": 45, \"SpecialA\": 70, \"SpecialD\": 90, \"Speed\": 60, \"Generation\": 4, \"cluster\": 1}, {\"#\": 441, \"Name\": \"Chatot\", \"Type 1\": \"Normal\", \"Type 2\": \"Flying\", \"Total\": 411, \"HP\": 76, \"Attack\": 65, \"Defense\": 45, \"SpecialA\": 92, \"SpecialD\": 42, \"Speed\": 91, \"Generation\": 4, \"cluster\": 3}, {\"#\": 442, \"Name\": \"Spiritomb\", \"Type 1\": \"Ghost\", \"Type 2\": \"Dark\", \"Total\": 485, \"HP\": 50, \"Attack\": 92, \"Defense\": 108, \"SpecialA\": 92, \"SpecialD\": 108, \"Speed\": 35, \"Generation\": 4, \"cluster\": 5}, {\"#\": 443, \"Name\": \"Gible\", \"Type 1\": \"Dragon\", \"Type 2\": \"Ground\", \"Total\": 300, \"HP\": 58, \"Attack\": 70, \"Defense\": 45, \"SpecialA\": 40, \"SpecialD\": 45, \"Speed\": 42, \"Generation\": 4, \"cluster\": 1}, {\"#\": 444, \"Name\": \"Gabite\", \"Type 1\": \"Dragon\", \"Type 2\": \"Ground\", \"Total\": 410, \"HP\": 68, \"Attack\": 90, \"Defense\": 65, \"SpecialA\": 50, \"SpecialD\": 55, \"Speed\": 82, \"Generation\": 4, \"cluster\": 3}, {\"#\": 445, \"Name\": \"Garchomp\", \"Type 1\": \"Dragon\", \"Type 2\": \"Ground\", \"Total\": 600, \"HP\": 108, \"Attack\": 130, \"Defense\": 95, \"SpecialA\": 80, \"SpecialD\": 85, \"Speed\": 102, \"Generation\": 4, \"cluster\": 2}, {\"#\": 445, \"Name\": \"GarchompMega Garchomp\", \"Type 1\": \"Dragon\", \"Type 2\": \"Ground\", \"Total\": 700, \"HP\": 108, \"Attack\": 170, \"Defense\": 115, \"SpecialA\": 120, \"SpecialD\": 95, \"Speed\": 92, \"Generation\": 4, \"cluster\": 2}, {\"#\": 448, \"Name\": \"Lucario\", \"Type 1\": \"Fighting\", \"Type 2\": \"Steel\", \"Total\": 525, \"HP\": 70, \"Attack\": 110, \"Defense\": 70, \"SpecialA\": 115, \"SpecialD\": 70, \"Speed\": 90, \"Generation\": 4, \"cluster\": 0}, {\"#\": 448, \"Name\": \"LucarioMega Lucario\", \"Type 1\": \"Fighting\", \"Type 2\": \"Steel\", \"Total\": 625, \"HP\": 70, \"Attack\": 145, \"Defense\": 88, \"SpecialA\": 140, \"SpecialD\": 70, \"Speed\": 112, \"Generation\": 4, \"cluster\": 2}, {\"#\": 451, \"Name\": \"Skorupi\", \"Type 1\": \"Poison\", \"Type 2\": \"Bug\", \"Total\": 330, \"HP\": 40, \"Attack\": 50, \"Defense\": 90, \"SpecialA\": 30, \"SpecialD\": 55, \"Speed\": 65, \"Generation\": 4, \"cluster\": 1}, {\"#\": 452, \"Name\": \"Drapion\", \"Type 1\": \"Poison\", \"Type 2\": \"Dark\", \"Total\": 500, \"HP\": 70, \"Attack\": 90, \"Defense\": 110, \"SpecialA\": 60, \"SpecialD\": 75, \"Speed\": 95, \"Generation\": 4, \"cluster\": 0}, {\"#\": 453, \"Name\": \"Croagunk\", \"Type 1\": \"Poison\", \"Type 2\": \"Fighting\", \"Total\": 300, \"HP\": 48, \"Attack\": 61, \"Defense\": 40, \"SpecialA\": 61, \"SpecialD\": 40, \"Speed\": 50, \"Generation\": 4, \"cluster\": 1}, {\"#\": 454, \"Name\": \"Toxicroak\", \"Type 1\": \"Poison\", \"Type 2\": \"Fighting\", \"Total\": 490, \"HP\": 83, \"Attack\": 106, \"Defense\": 65, \"SpecialA\": 86, \"SpecialD\": 65, \"Speed\": 85, \"Generation\": 4, \"cluster\": 0}, {\"#\": 458, \"Name\": \"Mantyke\", \"Type 1\": \"Water\", \"Type 2\": \"Flying\", \"Total\": 345, \"HP\": 45, \"Attack\": 20, \"Defense\": 50, \"SpecialA\": 60, \"SpecialD\": 120, \"Speed\": 50, \"Generation\": 4, \"cluster\": 1}, {\"#\": 459, \"Name\": \"Snover\", \"Type 1\": \"Grass\", \"Type 2\": \"Ice\", \"Total\": 334, \"HP\": 60, \"Attack\": 62, \"Defense\": 50, \"SpecialA\": 62, \"SpecialD\": 60, \"Speed\": 40, \"Generation\": 4, \"cluster\": 1}, {\"#\": 460, \"Name\": \"Abomasnow\", \"Type 1\": \"Grass\", \"Type 2\": \"Ice\", \"Total\": 494, \"HP\": 90, \"Attack\": 92, \"Defense\": 75, \"SpecialA\": 92, \"SpecialD\": 85, \"Speed\": 60, \"Generation\": 4, \"cluster\": 5}, {\"#\": 460, \"Name\": \"AbomasnowMega Abomasnow\", \"Type 1\": \"Grass\", \"Type 2\": \"Ice\", \"Total\": 594, \"HP\": 90, \"Attack\": 132, \"Defense\": 105, \"SpecialA\": 132, \"SpecialD\": 105, \"Speed\": 30, \"Generation\": 4, \"cluster\": 2}, {\"#\": 461, \"Name\": \"Weavile\", \"Type 1\": \"Dark\", \"Type 2\": \"Ice\", \"Total\": 510, \"HP\": 70, \"Attack\": 120, \"Defense\": 65, \"SpecialA\": 45, \"SpecialD\": 85, \"Speed\": 125, \"Generation\": 4, \"cluster\": 0}, {\"#\": 462, \"Name\": \"Magnezone\", \"Type 1\": \"Electric\", \"Type 2\": \"Steel\", \"Total\": 535, \"HP\": 70, \"Attack\": 70, \"Defense\": 115, \"SpecialA\": 130, \"SpecialD\": 90, \"Speed\": 60, \"Generation\": 4, \"cluster\": 0}, {\"#\": 464, \"Name\": \"Rhyperior\", \"Type 1\": \"Ground\", \"Type 2\": \"Rock\", \"Total\": 535, \"HP\": 115, \"Attack\": 140, \"Defense\": 130, \"SpecialA\": 55, \"SpecialD\": 55, \"Speed\": 40, \"Generation\": 4, \"cluster\": 0}, {\"#\": 468, \"Name\": \"Togekiss\", \"Type 1\": \"Fairy\", \"Type 2\": \"Flying\", \"Total\": 545, \"HP\": 85, \"Attack\": 50, \"Defense\": 95, \"SpecialA\": 120, \"SpecialD\": 115, \"Speed\": 80, \"Generation\": 4, \"cluster\": 0}, {\"#\": 469, \"Name\": \"Yanmega\", \"Type 1\": \"Bug\", \"Type 2\": \"Flying\", \"Total\": 515, \"HP\": 86, \"Attack\": 76, \"Defense\": 86, \"SpecialA\": 116, \"SpecialD\": 56, \"Speed\": 95, \"Generation\": 4, \"cluster\": 0}, {\"#\": 472, \"Name\": \"Gliscor\", \"Type 1\": \"Ground\", \"Type 2\": \"Flying\", \"Total\": 510, \"HP\": 75, \"Attack\": 95, \"Defense\": 125, \"SpecialA\": 45, \"SpecialD\": 75, \"Speed\": 95, \"Generation\": 4, \"cluster\": 0}, {\"#\": 473, \"Name\": \"Mamoswine\", \"Type 1\": \"Ice\", \"Type 2\": \"Ground\", \"Total\": 530, \"HP\": 110, \"Attack\": 130, \"Defense\": 80, \"SpecialA\": 70, \"SpecialD\": 60, \"Speed\": 80, \"Generation\": 4, \"cluster\": 0}, {\"#\": 475, \"Name\": \"Gallade\", \"Type 1\": \"Psychic\", \"Type 2\": \"Fighting\", \"Total\": 518, \"HP\": 68, \"Attack\": 125, \"Defense\": 65, \"SpecialA\": 65, \"SpecialD\": 115, \"Speed\": 80, \"Generation\": 4, \"cluster\": 0}, {\"#\": 475, \"Name\": \"GalladeMega Gallade\", \"Type 1\": \"Psychic\", \"Type 2\": \"Fighting\", \"Total\": 618, \"HP\": 68, \"Attack\": 165, \"Defense\": 95, \"SpecialA\": 65, \"SpecialD\": 115, \"Speed\": 110, \"Generation\": 4, \"cluster\": 2}, {\"#\": 476, \"Name\": \"Probopass\", \"Type 1\": \"Rock\", \"Type 2\": \"Steel\", \"Total\": 525, \"HP\": 60, \"Attack\": 55, \"Defense\": 145, \"SpecialA\": 75, \"SpecialD\": 150, \"Speed\": 40, \"Generation\": 4, \"cluster\": 0}, {\"#\": 478, \"Name\": \"Froslass\", \"Type 1\": \"Ice\", \"Type 2\": \"Ghost\", \"Total\": 480, \"HP\": 70, \"Attack\": 80, \"Defense\": 70, \"SpecialA\": 80, \"SpecialD\": 70, \"Speed\": 110, \"Generation\": 4, \"cluster\": 0}, {\"#\": 479, \"Name\": \"Rotom\", \"Type 1\": \"Electric\", \"Type 2\": \"Ghost\", \"Total\": 440, \"HP\": 50, \"Attack\": 50, \"Defense\": 77, \"SpecialA\": 95, \"SpecialD\": 77, \"Speed\": 91, \"Generation\": 4, \"cluster\": 3}, {\"#\": 479, \"Name\": \"RotomHeat Rotom\", \"Type 1\": \"Electric\", \"Type 2\": \"Fire\", \"Total\": 520, \"HP\": 50, \"Attack\": 65, \"Defense\": 107, \"SpecialA\": 105, \"SpecialD\": 107, \"Speed\": 86, \"Generation\": 4, \"cluster\": 0}, {\"#\": 479, \"Name\": \"RotomWash Rotom\", \"Type 1\": \"Electric\", \"Type 2\": \"Water\", \"Total\": 520, \"HP\": 50, \"Attack\": 65, \"Defense\": 107, \"SpecialA\": 105, \"SpecialD\": 107, \"Speed\": 86, \"Generation\": 4, \"cluster\": 0}, {\"#\": 479, \"Name\": \"RotomFrost Rotom\", \"Type 1\": \"Electric\", \"Type 2\": \"Ice\", \"Total\": 520, \"HP\": 50, \"Attack\": 65, \"Defense\": 107, \"SpecialA\": 105, \"SpecialD\": 107, \"Speed\": 86, \"Generation\": 4, \"cluster\": 0}, {\"#\": 479, \"Name\": \"RotomFan Rotom\", \"Type 1\": \"Electric\", \"Type 2\": \"Flying\", \"Total\": 520, \"HP\": 50, \"Attack\": 65, \"Defense\": 107, \"SpecialA\": 105, \"SpecialD\": 107, \"Speed\": 86, \"Generation\": 4, \"cluster\": 0}, {\"#\": 479, \"Name\": \"RotomMow Rotom\", \"Type 1\": \"Electric\", \"Type 2\": \"Grass\", \"Total\": 520, \"HP\": 50, \"Attack\": 65, \"Defense\": 107, \"SpecialA\": 105, \"SpecialD\": 107, \"Speed\": 86, \"Generation\": 4, \"cluster\": 0}, {\"#\": 499, \"Name\": \"Pignite\", \"Type 1\": \"Fire\", \"Type 2\": \"Fighting\", \"Total\": 418, \"HP\": 90, \"Attack\": 93, \"Defense\": 55, \"SpecialA\": 70, \"SpecialD\": 55, \"Speed\": 55, \"Generation\": 5, \"cluster\": 3}, {\"#\": 500, \"Name\": \"Emboar\", \"Type 1\": \"Fire\", \"Type 2\": \"Fighting\", \"Total\": 528, \"HP\": 110, \"Attack\": 123, \"Defense\": 65, \"SpecialA\": 100, \"SpecialD\": 65, \"Speed\": 65, \"Generation\": 5, \"cluster\": 0}, {\"#\": 519, \"Name\": \"Pidove\", \"Type 1\": \"Normal\", \"Type 2\": \"Flying\", \"Total\": 264, \"HP\": 50, \"Attack\": 55, \"Defense\": 50, \"SpecialA\": 36, \"SpecialD\": 30, \"Speed\": 43, \"Generation\": 5, \"cluster\": 4}, {\"#\": 520, \"Name\": \"Tranquill\", \"Type 1\": \"Normal\", \"Type 2\": \"Flying\", \"Total\": 358, \"HP\": 62, \"Attack\": 77, \"Defense\": 62, \"SpecialA\": 50, \"SpecialD\": 42, \"Speed\": 65, \"Generation\": 5, \"cluster\": 1}, {\"#\": 521, \"Name\": \"Unfezant\", \"Type 1\": \"Normal\", \"Type 2\": \"Flying\", \"Total\": 488, \"HP\": 80, \"Attack\": 115, \"Defense\": 80, \"SpecialA\": 65, \"SpecialD\": 55, \"Speed\": 93, \"Generation\": 5, \"cluster\": 0}, {\"#\": 527, \"Name\": \"Woobat\", \"Type 1\": \"Psychic\", \"Type 2\": \"Flying\", \"Total\": 313, \"HP\": 55, \"Attack\": 45, \"Defense\": 43, \"SpecialA\": 55, \"SpecialD\": 43, \"Speed\": 72, \"Generation\": 5, \"cluster\": 1}, {\"#\": 528, \"Name\": \"Swoobat\", \"Type 1\": \"Psychic\", \"Type 2\": \"Flying\", \"Total\": 425, \"HP\": 67, \"Attack\": 57, \"Defense\": 55, \"SpecialA\": 77, \"SpecialD\": 55, \"Speed\": 114, \"Generation\": 5, \"cluster\": 3}, {\"#\": 530, \"Name\": \"Excadrill\", \"Type 1\": \"Ground\", \"Type 2\": \"Steel\", \"Total\": 508, \"HP\": 110, \"Attack\": 135, \"Defense\": 60, \"SpecialA\": 50, \"SpecialD\": 65, \"Speed\": 88, \"Generation\": 5, \"cluster\": 0}, {\"#\": 531, \"Name\": \"AudinoMega Audino\", \"Type 1\": \"Normal\", \"Type 2\": \"Fairy\", \"Total\": 545, \"HP\": 103, \"Attack\": 60, \"Defense\": 126, \"SpecialA\": 80, \"SpecialD\": 126, \"Speed\": 50, \"Generation\": 5, \"cluster\": 0}, {\"#\": 536, \"Name\": \"Palpitoad\", \"Type 1\": \"Water\", \"Type 2\": \"Ground\", \"Total\": 384, \"HP\": 75, \"Attack\": 65, \"Defense\": 55, \"SpecialA\": 65, \"SpecialD\": 55, \"Speed\": 69, \"Generation\": 5, \"cluster\": 3}, {\"#\": 537, \"Name\": \"Seismitoad\", \"Type 1\": \"Water\", \"Type 2\": \"Ground\", \"Total\": 509, \"HP\": 105, \"Attack\": 95, \"Defense\": 75, \"SpecialA\": 85, \"SpecialD\": 75, \"Speed\": 74, \"Generation\": 5, \"cluster\": 0}, {\"#\": 540, \"Name\": \"Sewaddle\", \"Type 1\": \"Bug\", \"Type 2\": \"Grass\", \"Total\": 310, \"HP\": 45, \"Attack\": 53, \"Defense\": 70, \"SpecialA\": 40, \"SpecialD\": 60, \"Speed\": 42, \"Generation\": 5, \"cluster\": 1}, {\"#\": 541, \"Name\": \"Swadloon\", \"Type 1\": \"Bug\", \"Type 2\": \"Grass\", \"Total\": 380, \"HP\": 55, \"Attack\": 63, \"Defense\": 90, \"SpecialA\": 50, \"SpecialD\": 80, \"Speed\": 42, \"Generation\": 5, \"cluster\": 3}, {\"#\": 542, \"Name\": \"Leavanny\", \"Type 1\": \"Bug\", \"Type 2\": \"Grass\", \"Total\": 500, \"HP\": 75, \"Attack\": 103, \"Defense\": 80, \"SpecialA\": 70, \"SpecialD\": 80, \"Speed\": 92, \"Generation\": 5, \"cluster\": 0}, {\"#\": 543, \"Name\": \"Venipede\", \"Type 1\": \"Bug\", \"Type 2\": \"Poison\", \"Total\": 260, \"HP\": 30, \"Attack\": 45, \"Defense\": 59, \"SpecialA\": 30, \"SpecialD\": 39, \"Speed\": 57, \"Generation\": 5, \"cluster\": 4}, {\"#\": 544, \"Name\": \"Whirlipede\", \"Type 1\": \"Bug\", \"Type 2\": \"Poison\", \"Total\": 360, \"HP\": 40, \"Attack\": 55, \"Defense\": 99, \"SpecialA\": 40, \"SpecialD\": 79, \"Speed\": 47, \"Generation\": 5, \"cluster\": 1}, {\"#\": 545, \"Name\": \"Scolipede\", \"Type 1\": \"Bug\", \"Type 2\": \"Poison\", \"Total\": 485, \"HP\": 60, \"Attack\": 100, \"Defense\": 89, \"SpecialA\": 55, \"SpecialD\": 69, \"Speed\": 112, \"Generation\": 5, \"cluster\": 0}, {\"#\": 546, \"Name\": \"Cottonee\", \"Type 1\": \"Grass\", \"Type 2\": \"Fairy\", \"Total\": 280, \"HP\": 40, \"Attack\": 27, \"Defense\": 60, \"SpecialA\": 37, \"SpecialD\": 50, \"Speed\": 66, \"Generation\": 5, \"cluster\": 4}, {\"#\": 547, \"Name\": \"Whimsicott\", \"Type 1\": \"Grass\", \"Type 2\": \"Fairy\", \"Total\": 480, \"HP\": 60, \"Attack\": 67, \"Defense\": 85, \"SpecialA\": 77, \"SpecialD\": 75, \"Speed\": 116, \"Generation\": 5, \"cluster\": 0}, {\"#\": 551, \"Name\": \"Sandile\", \"Type 1\": \"Ground\", \"Type 2\": \"Dark\", \"Total\": 292, \"HP\": 50, \"Attack\": 72, \"Defense\": 35, \"SpecialA\": 35, \"SpecialD\": 35, \"Speed\": 65, \"Generation\": 5, \"cluster\": 1}, {\"#\": 552, \"Name\": \"Krokorok\", \"Type 1\": \"Ground\", \"Type 2\": \"Dark\", \"Total\": 351, \"HP\": 60, \"Attack\": 82, \"Defense\": 45, \"SpecialA\": 45, \"SpecialD\": 45, \"Speed\": 74, \"Generation\": 5, \"cluster\": 1}, {\"#\": 553, \"Name\": \"Krookodile\", \"Type 1\": \"Ground\", \"Type 2\": \"Dark\", \"Total\": 519, \"HP\": 95, \"Attack\": 117, \"Defense\": 80, \"SpecialA\": 65, \"SpecialD\": 70, \"Speed\": 92, \"Generation\": 5, \"cluster\": 0}, {\"#\": 555, \"Name\": \"DarmanitanZen Mode\", \"Type 1\": \"Fire\", \"Type 2\": \"Psychic\", \"Total\": 540, \"HP\": 105, \"Attack\": 30, \"Defense\": 105, \"SpecialA\": 140, \"SpecialD\": 105, \"Speed\": 55, \"Generation\": 5, \"cluster\": 0}, {\"#\": 557, \"Name\": \"Dwebble\", \"Type 1\": \"Bug\", \"Type 2\": \"Rock\", \"Total\": 325, \"HP\": 50, \"Attack\": 65, \"Defense\": 85, \"SpecialA\": 35, \"SpecialD\": 35, \"Speed\": 55, \"Generation\": 5, \"cluster\": 1}, {\"#\": 558, \"Name\": \"Crustle\", \"Type 1\": \"Bug\", \"Type 2\": \"Rock\", \"Total\": 475, \"HP\": 70, \"Attack\": 95, \"Defense\": 125, \"SpecialA\": 65, \"SpecialD\": 75, \"Speed\": 45, \"Generation\": 5, \"cluster\": 5}, {\"#\": 559, \"Name\": \"Scraggy\", \"Type 1\": \"Dark\", \"Type 2\": \"Fighting\", \"Total\": 348, \"HP\": 50, \"Attack\": 75, \"Defense\": 70, \"SpecialA\": 35, \"SpecialD\": 70, \"Speed\": 48, \"Generation\": 5, \"cluster\": 1}, {\"#\": 560, \"Name\": \"Scrafty\", \"Type 1\": \"Dark\", \"Type 2\": \"Fighting\", \"Total\": 488, \"HP\": 65, \"Attack\": 90, \"Defense\": 115, \"SpecialA\": 45, \"SpecialD\": 115, \"Speed\": 58, \"Generation\": 5, \"cluster\": 5}, {\"#\": 561, \"Name\": \"Sigilyph\", \"Type 1\": \"Psychic\", \"Type 2\": \"Flying\", \"Total\": 490, \"HP\": 72, \"Attack\": 58, \"Defense\": 80, \"SpecialA\": 103, \"SpecialD\": 80, \"Speed\": 97, \"Generation\": 5, \"cluster\": 0}, {\"#\": 564, \"Name\": \"Tirtouga\", \"Type 1\": \"Water\", \"Type 2\": \"Rock\", \"Total\": 355, \"HP\": 54, \"Attack\": 78, \"Defense\": 103, \"SpecialA\": 53, \"SpecialD\": 45, \"Speed\": 22, \"Generation\": 5, \"cluster\": 1}, {\"#\": 565, \"Name\": \"Carracosta\", \"Type 1\": \"Water\", \"Type 2\": \"Rock\", \"Total\": 495, \"HP\": 74, \"Attack\": 108, \"Defense\": 133, \"SpecialA\": 83, \"SpecialD\": 65, \"Speed\": 32, \"Generation\": 5, \"cluster\": 5}, {\"#\": 566, \"Name\": \"Archen\", \"Type 1\": \"Rock\", \"Type 2\": \"Flying\", \"Total\": 401, \"HP\": 55, \"Attack\": 112, \"Defense\": 45, \"SpecialA\": 74, \"SpecialD\": 45, \"Speed\": 70, \"Generation\": 5, \"cluster\": 3}, {\"#\": 567, \"Name\": \"Archeops\", \"Type 1\": \"Rock\", \"Type 2\": \"Flying\", \"Total\": 567, \"HP\": 75, \"Attack\": 140, \"Defense\": 65, \"SpecialA\": 112, \"SpecialD\": 65, \"Speed\": 110, \"Generation\": 5, \"cluster\": 2}, {\"#\": 580, \"Name\": \"Ducklett\", \"Type 1\": \"Water\", \"Type 2\": \"Flying\", \"Total\": 305, \"HP\": 62, \"Attack\": 44, \"Defense\": 50, \"SpecialA\": 44, \"SpecialD\": 50, \"Speed\": 55, \"Generation\": 5, \"cluster\": 1}, {\"#\": 581, \"Name\": \"Swanna\", \"Type 1\": \"Water\", \"Type 2\": \"Flying\", \"Total\": 473, \"HP\": 75, \"Attack\": 87, \"Defense\": 63, \"SpecialA\": 87, \"SpecialD\": 63, \"Speed\": 98, \"Generation\": 5, \"cluster\": 5}, {\"#\": 585, \"Name\": \"Deerling\", \"Type 1\": \"Normal\", \"Type 2\": \"Grass\", \"Total\": 335, \"HP\": 60, \"Attack\": 60, \"Defense\": 50, \"SpecialA\": 40, \"SpecialD\": 50, \"Speed\": 75, \"Generation\": 5, \"cluster\": 1}, {\"#\": 586, \"Name\": \"Sawsbuck\", \"Type 1\": \"Normal\", \"Type 2\": \"Grass\", \"Total\": 475, \"HP\": 80, \"Attack\": 100, \"Defense\": 70, \"SpecialA\": 60, \"SpecialD\": 70, \"Speed\": 95, \"Generation\": 5, \"cluster\": 5}, {\"#\": 587, \"Name\": \"Emolga\", \"Type 1\": \"Electric\", \"Type 2\": \"Flying\", \"Total\": 428, \"HP\": 55, \"Attack\": 75, \"Defense\": 60, \"SpecialA\": 75, \"SpecialD\": 60, \"Speed\": 103, \"Generation\": 5, \"cluster\": 3}, {\"#\": 589, \"Name\": \"Escavalier\", \"Type 1\": \"Bug\", \"Type 2\": \"Steel\", \"Total\": 495, \"HP\": 70, \"Attack\": 135, \"Defense\": 105, \"SpecialA\": 60, \"SpecialD\": 105, \"Speed\": 20, \"Generation\": 5, \"cluster\": 5}, {\"#\": 590, \"Name\": \"Foongus\", \"Type 1\": \"Grass\", \"Type 2\": \"Poison\", \"Total\": 294, \"HP\": 69, \"Attack\": 55, \"Defense\": 45, \"SpecialA\": 55, \"SpecialD\": 55, \"Speed\": 15, \"Generation\": 5, \"cluster\": 1}, {\"#\": 591, \"Name\": \"Amoonguss\", \"Type 1\": \"Grass\", \"Type 2\": \"Poison\", \"Total\": 464, \"HP\": 114, \"Attack\": 85, \"Defense\": 70, \"SpecialA\": 85, \"SpecialD\": 80, \"Speed\": 30, \"Generation\": 5, \"cluster\": 5}, {\"#\": 592, \"Name\": \"Frillish\", \"Type 1\": \"Water\", \"Type 2\": \"Ghost\", \"Total\": 335, \"HP\": 55, \"Attack\": 40, \"Defense\": 50, \"SpecialA\": 65, \"SpecialD\": 85, \"Speed\": 40, \"Generation\": 5, \"cluster\": 1}, {\"#\": 593, \"Name\": \"Jellicent\", \"Type 1\": \"Water\", \"Type 2\": \"Ghost\", \"Total\": 480, \"HP\": 100, \"Attack\": 60, \"Defense\": 70, \"SpecialA\": 85, \"SpecialD\": 105, \"Speed\": 60, \"Generation\": 5, \"cluster\": 5}, {\"#\": 595, \"Name\": \"Joltik\", \"Type 1\": \"Bug\", \"Type 2\": \"Electric\", \"Total\": 319, \"HP\": 50, \"Attack\": 47, \"Defense\": 50, \"SpecialA\": 57, \"SpecialD\": 50, \"Speed\": 65, \"Generation\": 5, \"cluster\": 1}, {\"#\": 596, \"Name\": \"Galvantula\", \"Type 1\": \"Bug\", \"Type 2\": \"Electric\", \"Total\": 472, \"HP\": 70, \"Attack\": 77, \"Defense\": 60, \"SpecialA\": 97, \"SpecialD\": 60, \"Speed\": 108, \"Generation\": 5, \"cluster\": 0}, {\"#\": 597, \"Name\": \"Ferroseed\", \"Type 1\": \"Grass\", \"Type 2\": \"Steel\", \"Total\": 305, \"HP\": 44, \"Attack\": 50, \"Defense\": 91, \"SpecialA\": 24, \"SpecialD\": 86, \"Speed\": 10, \"Generation\": 5, \"cluster\": 1}, {\"#\": 598, \"Name\": \"Ferrothorn\", \"Type 1\": \"Grass\", \"Type 2\": \"Steel\", \"Total\": 489, \"HP\": 74, \"Attack\": 94, \"Defense\": 131, \"SpecialA\": 54, \"SpecialD\": 116, \"Speed\": 20, \"Generation\": 5, \"cluster\": 5}, {\"#\": 607, \"Name\": \"Litwick\", \"Type 1\": \"Ghost\", \"Type 2\": \"Fire\", \"Total\": 275, \"HP\": 50, \"Attack\": 30, \"Defense\": 55, \"SpecialA\": 65, \"SpecialD\": 55, \"Speed\": 20, \"Generation\": 5, \"cluster\": 4}, {\"#\": 608, \"Name\": \"Lampent\", \"Type 1\": \"Ghost\", \"Type 2\": \"Fire\", \"Total\": 370, \"HP\": 60, \"Attack\": 40, \"Defense\": 60, \"SpecialA\": 95, \"SpecialD\": 60, \"Speed\": 55, \"Generation\": 5, \"cluster\": 3}, {\"#\": 609, \"Name\": \"Chandelure\", \"Type 1\": \"Ghost\", \"Type 2\": \"Fire\", \"Total\": 520, \"HP\": 60, \"Attack\": 55, \"Defense\": 90, \"SpecialA\": 145, \"SpecialD\": 90, \"Speed\": 80, \"Generation\": 5, \"cluster\": 0}, {\"#\": 618, \"Name\": \"Stunfisk\", \"Type 1\": \"Ground\", \"Type 2\": \"Electric\", \"Total\": 471, \"HP\": 109, \"Attack\": 66, \"Defense\": 84, \"SpecialA\": 81, \"SpecialD\": 99, \"Speed\": 32, \"Generation\": 5, \"cluster\": 5}, {\"#\": 622, \"Name\": \"Golett\", \"Type 1\": \"Ground\", \"Type 2\": \"Ghost\", \"Total\": 303, \"HP\": 59, \"Attack\": 74, \"Defense\": 50, \"SpecialA\": 35, \"SpecialD\": 50, \"Speed\": 35, \"Generation\": 5, \"cluster\": 1}, {\"#\": 623, \"Name\": \"Golurk\", \"Type 1\": \"Ground\", \"Type 2\": \"Ghost\", \"Total\": 483, \"HP\": 89, \"Attack\": 124, \"Defense\": 80, \"SpecialA\": 55, \"SpecialD\": 80, \"Speed\": 55, \"Generation\": 5, \"cluster\": 5}, {\"#\": 624, \"Name\": \"Pawniard\", \"Type 1\": \"Dark\", \"Type 2\": \"Steel\", \"Total\": 340, \"HP\": 45, \"Attack\": 85, \"Defense\": 70, \"SpecialA\": 40, \"SpecialD\": 40, \"Speed\": 60, \"Generation\": 5, \"cluster\": 1}, {\"#\": 625, \"Name\": \"Bisharp\", \"Type 1\": \"Dark\", \"Type 2\": \"Steel\", \"Total\": 490, \"HP\": 65, \"Attack\": 125, \"Defense\": 100, \"SpecialA\": 60, \"SpecialD\": 70, \"Speed\": 70, \"Generation\": 5, \"cluster\": 5}, {\"#\": 627, \"Name\": \"Rufflet\", \"Type 1\": \"Normal\", \"Type 2\": \"Flying\", \"Total\": 350, \"HP\": 70, \"Attack\": 83, \"Defense\": 50, \"SpecialA\": 37, \"SpecialD\": 50, \"Speed\": 60, \"Generation\": 5, \"cluster\": 1}, {\"#\": 628, \"Name\": \"Braviary\", \"Type 1\": \"Normal\", \"Type 2\": \"Flying\", \"Total\": 510, \"HP\": 100, \"Attack\": 123, \"Defense\": 75, \"SpecialA\": 57, \"SpecialD\": 75, \"Speed\": 80, \"Generation\": 5, \"cluster\": 0}, {\"#\": 629, \"Name\": \"Vullaby\", \"Type 1\": \"Dark\", \"Type 2\": \"Flying\", \"Total\": 370, \"HP\": 70, \"Attack\": 55, \"Defense\": 75, \"SpecialA\": 45, \"SpecialD\": 65, \"Speed\": 60, \"Generation\": 5, \"cluster\": 3}, {\"#\": 630, \"Name\": \"Mandibuzz\", \"Type 1\": \"Dark\", \"Type 2\": \"Flying\", \"Total\": 510, \"HP\": 110, \"Attack\": 65, \"Defense\": 105, \"SpecialA\": 55, \"SpecialD\": 95, \"Speed\": 80, \"Generation\": 5, \"cluster\": 0}, {\"#\": 632, \"Name\": \"Durant\", \"Type 1\": \"Bug\", \"Type 2\": \"Steel\", \"Total\": 484, \"HP\": 58, \"Attack\": 109, \"Defense\": 112, \"SpecialA\": 48, \"SpecialD\": 48, \"Speed\": 109, \"Generation\": 5, \"cluster\": 0}, {\"#\": 633, \"Name\": \"Deino\", \"Type 1\": \"Dark\", \"Type 2\": \"Dragon\", \"Total\": 300, \"HP\": 52, \"Attack\": 65, \"Defense\": 50, \"SpecialA\": 45, \"SpecialD\": 50, \"Speed\": 38, \"Generation\": 5, \"cluster\": 1}, {\"#\": 634, \"Name\": \"Zweilous\", \"Type 1\": \"Dark\", \"Type 2\": \"Dragon\", \"Total\": 420, \"HP\": 72, \"Attack\": 85, \"Defense\": 70, \"SpecialA\": 65, \"SpecialD\": 70, \"Speed\": 58, \"Generation\": 5, \"cluster\": 3}, {\"#\": 635, \"Name\": \"Hydreigon\", \"Type 1\": \"Dark\", \"Type 2\": \"Dragon\", \"Total\": 600, \"HP\": 92, \"Attack\": 105, \"Defense\": 90, \"SpecialA\": 125, \"SpecialD\": 90, \"Speed\": 98, \"Generation\": 5, \"cluster\": 2}, {\"#\": 636, \"Name\": \"Larvesta\", \"Type 1\": \"Bug\", \"Type 2\": \"Fire\", \"Total\": 360, \"HP\": 55, \"Attack\": 85, \"Defense\": 55, \"SpecialA\": 50, \"SpecialD\": 55, \"Speed\": 60, \"Generation\": 5, \"cluster\": 1}, {\"#\": 637, \"Name\": \"Volcarona\", \"Type 1\": \"Bug\", \"Type 2\": \"Fire\", \"Total\": 550, \"HP\": 85, \"Attack\": 60, \"Defense\": 65, \"SpecialA\": 135, \"SpecialD\": 105, \"Speed\": 100, \"Generation\": 5, \"cluster\": 0}, {\"#\": 647, \"Name\": \"KeldeoOrdinary Forme\", \"Type 1\": \"Water\", \"Type 2\": \"Fighting\", \"Total\": 580, \"HP\": 91, \"Attack\": 72, \"Defense\": 90, \"SpecialA\": 129, \"SpecialD\": 90, \"Speed\": 108, \"Generation\": 5, \"cluster\": 2}, {\"#\": 647, \"Name\": \"KeldeoResolute Forme\", \"Type 1\": \"Water\", \"Type 2\": \"Fighting\", \"Total\": 580, \"HP\": 91, \"Attack\": 72, \"Defense\": 90, \"SpecialA\": 129, \"SpecialD\": 90, \"Speed\": 108, \"Generation\": 5, \"cluster\": 2}, {\"#\": 648, \"Name\": \"MeloettaAria Forme\", \"Type 1\": \"Normal\", \"Type 2\": \"Psychic\", \"Total\": 600, \"HP\": 100, \"Attack\": 77, \"Defense\": 77, \"SpecialA\": 128, \"SpecialD\": 128, \"Speed\": 90, \"Generation\": 5, \"cluster\": 2}, {\"#\": 648, \"Name\": \"MeloettaPirouette Forme\", \"Type 1\": \"Normal\", \"Type 2\": \"Fighting\", \"Total\": 600, \"HP\": 100, \"Attack\": 128, \"Defense\": 90, \"SpecialA\": 77, \"SpecialD\": 77, \"Speed\": 128, \"Generation\": 5, \"cluster\": 2}, {\"#\": 649, \"Name\": \"Genesect\", \"Type 1\": \"Bug\", \"Type 2\": \"Steel\", \"Total\": 600, \"HP\": 71, \"Attack\": 120, \"Defense\": 95, \"SpecialA\": 120, \"SpecialD\": 95, \"Speed\": 99, \"Generation\": 5, \"cluster\": 2}, {\"#\": 652, \"Name\": \"Chesnaught\", \"Type 1\": \"Grass\", \"Type 2\": \"Fighting\", \"Total\": 530, \"HP\": 88, \"Attack\": 107, \"Defense\": 122, \"SpecialA\": 74, \"SpecialD\": 75, \"Speed\": 64, \"Generation\": 6, \"cluster\": 0}, {\"#\": 655, \"Name\": \"Delphox\", \"Type 1\": \"Fire\", \"Type 2\": \"Psychic\", \"Total\": 534, \"HP\": 75, \"Attack\": 69, \"Defense\": 72, \"SpecialA\": 114, \"SpecialD\": 100, \"Speed\": 104, \"Generation\": 6, \"cluster\": 0}, {\"#\": 658, \"Name\": \"Greninja\", \"Type 1\": \"Water\", \"Type 2\": \"Dark\", \"Total\": 530, \"HP\": 72, \"Attack\": 95, \"Defense\": 67, \"SpecialA\": 103, \"SpecialD\": 71, \"Speed\": 122, \"Generation\": 6, \"cluster\": 0}, {\"#\": 660, \"Name\": \"Diggersby\", \"Type 1\": \"Normal\", \"Type 2\": \"Ground\", \"Total\": 423, \"HP\": 85, \"Attack\": 56, \"Defense\": 77, \"SpecialA\": 50, \"SpecialD\": 77, \"Speed\": 78, \"Generation\": 6, \"cluster\": 3}, {\"#\": 661, \"Name\": \"Fletchling\", \"Type 1\": \"Normal\", \"Type 2\": \"Flying\", \"Total\": 278, \"HP\": 45, \"Attack\": 50, \"Defense\": 43, \"SpecialA\": 40, \"SpecialD\": 38, \"Speed\": 62, \"Generation\": 6, \"cluster\": 4}, {\"#\": 662, \"Name\": \"Fletchinder\", \"Type 1\": \"Fire\", \"Type 2\": \"Flying\", \"Total\": 382, \"HP\": 62, \"Attack\": 73, \"Defense\": 55, \"SpecialA\": 56, \"SpecialD\": 52, \"Speed\": 84, \"Generation\": 6, \"cluster\": 3}, {\"#\": 663, \"Name\": \"Talonflame\", \"Type 1\": \"Fire\", \"Type 2\": \"Flying\", \"Total\": 499, \"HP\": 78, \"Attack\": 81, \"Defense\": 71, \"SpecialA\": 74, \"SpecialD\": 69, \"Speed\": 126, \"Generation\": 6, \"cluster\": 0}, {\"#\": 666, \"Name\": \"Vivillon\", \"Type 1\": \"Bug\", \"Type 2\": \"Flying\", \"Total\": 411, \"HP\": 80, \"Attack\": 52, \"Defense\": 50, \"SpecialA\": 90, \"SpecialD\": 50, \"Speed\": 89, \"Generation\": 6, \"cluster\": 3}, {\"#\": 667, \"Name\": \"Litleo\", \"Type 1\": \"Fire\", \"Type 2\": \"Normal\", \"Total\": 369, \"HP\": 62, \"Attack\": 50, \"Defense\": 58, \"SpecialA\": 73, \"SpecialD\": 54, \"Speed\": 72, \"Generation\": 6, \"cluster\": 3}, {\"#\": 668, \"Name\": \"Pyroar\", \"Type 1\": \"Fire\", \"Type 2\": \"Normal\", \"Total\": 507, \"HP\": 86, \"Attack\": 68, \"Defense\": 72, \"SpecialA\": 109, \"SpecialD\": 66, \"Speed\": 106, \"Generation\": 6, \"cluster\": 0}, {\"#\": 675, \"Name\": \"Pangoro\", \"Type 1\": \"Fighting\", \"Type 2\": \"Dark\", \"Total\": 495, \"HP\": 95, \"Attack\": 124, \"Defense\": 78, \"SpecialA\": 69, \"SpecialD\": 71, \"Speed\": 58, \"Generation\": 6, \"cluster\": 5}, {\"#\": 679, \"Name\": \"Honedge\", \"Type 1\": \"Steel\", \"Type 2\": \"Ghost\", \"Total\": 325, \"HP\": 45, \"Attack\": 80, \"Defense\": 100, \"SpecialA\": 35, \"SpecialD\": 37, \"Speed\": 28, \"Generation\": 6, \"cluster\": 1}, {\"#\": 680, \"Name\": \"Doublade\", \"Type 1\": \"Steel\", \"Type 2\": \"Ghost\", \"Total\": 448, \"HP\": 59, \"Attack\": 110, \"Defense\": 150, \"SpecialA\": 45, \"SpecialD\": 49, \"Speed\": 35, \"Generation\": 6, \"cluster\": 5}, {\"#\": 681, \"Name\": \"AegislashBlade Forme\", \"Type 1\": \"Steel\", \"Type 2\": \"Ghost\", \"Total\": 520, \"HP\": 60, \"Attack\": 150, \"Defense\": 50, \"SpecialA\": 150, \"SpecialD\": 50, \"Speed\": 60, \"Generation\": 6, \"cluster\": 0}, {\"#\": 681, \"Name\": \"AegislashShield Forme\", \"Type 1\": \"Steel\", \"Type 2\": \"Ghost\", \"Total\": 520, \"HP\": 60, \"Attack\": 50, \"Defense\": 150, \"SpecialA\": 50, \"SpecialD\": 150, \"Speed\": 60, \"Generation\": 6, \"cluster\": 0}, {\"#\": 686, \"Name\": \"Inkay\", \"Type 1\": \"Dark\", \"Type 2\": \"Psychic\", \"Total\": 288, \"HP\": 53, \"Attack\": 54, \"Defense\": 53, \"SpecialA\": 37, \"SpecialD\": 46, \"Speed\": 45, \"Generation\": 6, \"cluster\": 1}, {\"#\": 687, \"Name\": \"Malamar\", \"Type 1\": \"Dark\", \"Type 2\": \"Psychic\", \"Total\": 482, \"HP\": 86, \"Attack\": 92, \"Defense\": 88, \"SpecialA\": 68, \"SpecialD\": 75, \"Speed\": 73, \"Generation\": 6, \"cluster\": 5}, {\"#\": 688, \"Name\": \"Binacle\", \"Type 1\": \"Rock\", \"Type 2\": \"Water\", \"Total\": 306, \"HP\": 42, \"Attack\": 52, \"Defense\": 67, \"SpecialA\": 39, \"SpecialD\": 56, \"Speed\": 50, \"Generation\": 6, \"cluster\": 1}, {\"#\": 689, \"Name\": \"Barbaracle\", \"Type 1\": \"Rock\", \"Type 2\": \"Water\", \"Total\": 500, \"HP\": 72, \"Attack\": 105, \"Defense\": 115, \"SpecialA\": 54, \"SpecialD\": 86, \"Speed\": 68, \"Generation\": 6, \"cluster\": 0}, {\"#\": 690, \"Name\": \"Skrelp\", \"Type 1\": \"Poison\", \"Type 2\": \"Water\", \"Total\": 320, \"HP\": 50, \"Attack\": 60, \"Defense\": 60, \"SpecialA\": 60, \"SpecialD\": 60, \"Speed\": 30, \"Generation\": 6, \"cluster\": 1}, {\"#\": 691, \"Name\": \"Dragalge\", \"Type 1\": \"Poison\", \"Type 2\": \"Dragon\", \"Total\": 494, \"HP\": 65, \"Attack\": 75, \"Defense\": 90, \"SpecialA\": 97, \"SpecialD\": 123, \"Speed\": 44, \"Generation\": 6, \"cluster\": 5}, {\"#\": 694, \"Name\": \"Helioptile\", \"Type 1\": \"Electric\", \"Type 2\": \"Normal\", \"Total\": 289, \"HP\": 44, \"Attack\": 38, \"Defense\": 33, \"SpecialA\": 61, \"SpecialD\": 43, \"Speed\": 70, \"Generation\": 6, \"cluster\": 1}, {\"#\": 695, \"Name\": \"Heliolisk\", \"Type 1\": \"Electric\", \"Type 2\": \"Normal\", \"Total\": 481, \"HP\": 62, \"Attack\": 55, \"Defense\": 52, \"SpecialA\": 109, \"SpecialD\": 94, \"Speed\": 109, \"Generation\": 6, \"cluster\": 0}, {\"#\": 696, \"Name\": \"Tyrunt\", \"Type 1\": \"Rock\", \"Type 2\": \"Dragon\", \"Total\": 362, \"HP\": 58, \"Attack\": 89, \"Defense\": 77, \"SpecialA\": 45, \"SpecialD\": 45, \"Speed\": 48, \"Generation\": 6, \"cluster\": 1}, {\"#\": 697, \"Name\": \"Tyrantrum\", \"Type 1\": \"Rock\", \"Type 2\": \"Dragon\", \"Total\": 521, \"HP\": 82, \"Attack\": 121, \"Defense\": 119, \"SpecialA\": 69, \"SpecialD\": 59, \"Speed\": 71, \"Generation\": 6, \"cluster\": 0}, {\"#\": 698, \"Name\": \"Amaura\", \"Type 1\": \"Rock\", \"Type 2\": \"Ice\", \"Total\": 362, \"HP\": 77, \"Attack\": 59, \"Defense\": 50, \"SpecialA\": 67, \"SpecialD\": 63, \"Speed\": 46, \"Generation\": 6, \"cluster\": 1}, {\"#\": 699, \"Name\": \"Aurorus\", \"Type 1\": \"Rock\", \"Type 2\": \"Ice\", \"Total\": 521, \"HP\": 123, \"Attack\": 77, \"Defense\": 72, \"SpecialA\": 99, \"SpecialD\": 92, \"Speed\": 58, \"Generation\": 6, \"cluster\": 0}, {\"#\": 701, \"Name\": \"Hawlucha\", \"Type 1\": \"Fighting\", \"Type 2\": \"Flying\", \"Total\": 500, \"HP\": 78, \"Attack\": 92, \"Defense\": 75, \"SpecialA\": 74, \"SpecialD\": 63, \"Speed\": 118, \"Generation\": 6, \"cluster\": 0}, {\"#\": 702, \"Name\": \"Dedenne\", \"Type 1\": \"Electric\", \"Type 2\": \"Fairy\", \"Total\": 431, \"HP\": 67, \"Attack\": 58, \"Defense\": 57, \"SpecialA\": 81, \"SpecialD\": 67, \"Speed\": 101, \"Generation\": 6, \"cluster\": 3}, {\"#\": 703, \"Name\": \"Carbink\", \"Type 1\": \"Rock\", \"Type 2\": \"Fairy\", \"Total\": 500, \"HP\": 50, \"Attack\": 50, \"Defense\": 150, \"SpecialA\": 50, \"SpecialD\": 150, \"Speed\": 50, \"Generation\": 6, \"cluster\": 5}, {\"#\": 707, \"Name\": \"Klefki\", \"Type 1\": \"Steel\", \"Type 2\": \"Fairy\", \"Total\": 470, \"HP\": 57, \"Attack\": 80, \"Defense\": 91, \"SpecialA\": 80, \"SpecialD\": 87, \"Speed\": 75, \"Generation\": 6, \"cluster\": 5}, {\"#\": 708, \"Name\": \"Phantump\", \"Type 1\": \"Ghost\", \"Type 2\": \"Grass\", \"Total\": 309, \"HP\": 43, \"Attack\": 70, \"Defense\": 48, \"SpecialA\": 50, \"SpecialD\": 60, \"Speed\": 38, \"Generation\": 6, \"cluster\": 1}, {\"#\": 709, \"Name\": \"Trevenant\", \"Type 1\": \"Ghost\", \"Type 2\": \"Grass\", \"Total\": 474, \"HP\": 85, \"Attack\": 110, \"Defense\": 76, \"SpecialA\": 65, \"SpecialD\": 82, \"Speed\": 56, \"Generation\": 6, \"cluster\": 5}, {\"#\": 710, \"Name\": \"PumpkabooAverage Size\", \"Type 1\": \"Ghost\", \"Type 2\": \"Grass\", \"Total\": 335, \"HP\": 49, \"Attack\": 66, \"Defense\": 70, \"SpecialA\": 44, \"SpecialD\": 55, \"Speed\": 51, \"Generation\": 6, \"cluster\": 1}, {\"#\": 710, \"Name\": \"PumpkabooSmall Size\", \"Type 1\": \"Ghost\", \"Type 2\": \"Grass\", \"Total\": 335, \"HP\": 44, \"Attack\": 66, \"Defense\": 70, \"SpecialA\": 44, \"SpecialD\": 55, \"Speed\": 56, \"Generation\": 6, \"cluster\": 1}, {\"#\": 710, \"Name\": \"PumpkabooLarge Size\", \"Type 1\": \"Ghost\", \"Type 2\": \"Grass\", \"Total\": 335, \"HP\": 54, \"Attack\": 66, \"Defense\": 70, \"SpecialA\": 44, \"SpecialD\": 55, \"Speed\": 46, \"Generation\": 6, \"cluster\": 1}, {\"#\": 710, \"Name\": \"PumpkabooSuper Size\", \"Type 1\": \"Ghost\", \"Type 2\": \"Grass\", \"Total\": 335, \"HP\": 59, \"Attack\": 66, \"Defense\": 70, \"SpecialA\": 44, \"SpecialD\": 55, \"Speed\": 41, \"Generation\": 6, \"cluster\": 1}, {\"#\": 711, \"Name\": \"GourgeistAverage Size\", \"Type 1\": \"Ghost\", \"Type 2\": \"Grass\", \"Total\": 494, \"HP\": 65, \"Attack\": 90, \"Defense\": 122, \"SpecialA\": 58, \"SpecialD\": 75, \"Speed\": 84, \"Generation\": 6, \"cluster\": 0}, {\"#\": 711, \"Name\": \"GourgeistSmall Size\", \"Type 1\": \"Ghost\", \"Type 2\": \"Grass\", \"Total\": 494, \"HP\": 55, \"Attack\": 85, \"Defense\": 122, \"SpecialA\": 58, \"SpecialD\": 75, \"Speed\": 99, \"Generation\": 6, \"cluster\": 0}, {\"#\": 711, \"Name\": \"GourgeistLarge Size\", \"Type 1\": \"Ghost\", \"Type 2\": \"Grass\", \"Total\": 494, \"HP\": 75, \"Attack\": 95, \"Defense\": 122, \"SpecialA\": 58, \"SpecialD\": 75, \"Speed\": 69, \"Generation\": 6, \"cluster\": 5}, {\"#\": 711, \"Name\": \"GourgeistSuper Size\", \"Type 1\": \"Ghost\", \"Type 2\": \"Grass\", \"Total\": 494, \"HP\": 85, \"Attack\": 100, \"Defense\": 122, \"SpecialA\": 58, \"SpecialD\": 75, \"Speed\": 54, \"Generation\": 6, \"cluster\": 5}, {\"#\": 714, \"Name\": \"Noibat\", \"Type 1\": \"Flying\", \"Type 2\": \"Dragon\", \"Total\": 245, \"HP\": 40, \"Attack\": 30, \"Defense\": 35, \"SpecialA\": 45, \"SpecialD\": 40, \"Speed\": 55, \"Generation\": 6, \"cluster\": 4}, {\"#\": 715, \"Name\": \"Noivern\", \"Type 1\": \"Flying\", \"Type 2\": \"Dragon\", \"Total\": 535, \"HP\": 85, \"Attack\": 70, \"Defense\": 80, \"SpecialA\": 97, \"SpecialD\": 80, \"Speed\": 123, \"Generation\": 6, \"cluster\": 0}]}}, {\"mode\": \"vega-lite\"});\n",
       "</script>"
      ],
      "text/plain": [
       "alt.FacetChart(...)"
      ]
     },
     "execution_count": 20,
     "metadata": {},
     "output_type": "execute_result"
    }
   ],
   "source": [
    "alt.Chart(df).mark_circle().encode(\n",
    "    x=\"Attack\",\n",
    "    y=\"SpecialA\",\n",
    "    color=\"cluster:N\",\n",
    "    tooltip=[\"#\",\"Name\",\"Attack\",\"SpecialA\"]\n",
    ").facet(\n",
    "    row=\"Generation\"\n",
    ")"
   ]
  },
  {
   "cell_type": "markdown",
   "metadata": {
    "cell_id": "9c33e1e5334c45dfa6979d906c6e0016",
    "deepnote_cell_type": "markdown",
    "tags": []
   },
   "source": [
    "The charts show that the predicting cluster is roughly and evenly distributed in each generation, so we can get a conclusion that Pokemon's stats strength are not clearly related to generation.\n",
    "Therefore, we can say that The number of Pokemons of similar strength is about the same in each generation based on the result from K-means cluster."
   ]
  },
  {
   "cell_type": "markdown",
   "metadata": {
    "cell_id": "db50475e03c140c39900d9505ea302ed",
    "deepnote_cell_type": "markdown",
    "tags": []
   },
   "source": [
    "## Machine Learning - Linear Regression\n",
    "\n",
    "For the machine learning part, I first choose to use the linear regression model to predict the generation based on the known data. "
   ]
  },
  {
   "cell_type": "code",
   "execution_count": 21,
   "metadata": {
    "cell_id": "4654b41e3aa24386a0390c9c432949af",
    "deepnote_cell_type": "code",
    "deepnote_to_be_reexecuted": false,
    "execution_millis": 5602682,
    "execution_start": 1670317136851,
    "source_hash": "91833c9f",
    "tags": []
   },
   "outputs": [],
   "source": [
    "features = [\"Total\",\"HP\",\"Attack\",\"SpecialA\",\"Defense\",\"SpecialD\",\"Speed\"]"
   ]
  },
  {
   "cell_type": "code",
   "execution_count": 22,
   "metadata": {
    "cell_id": "5bfb60c511a4447e88a8f8fdcaafc22a",
    "deepnote_cell_type": "code",
    "deepnote_to_be_reexecuted": false,
    "execution_millis": 0,
    "execution_start": 1670317136862,
    "source_hash": "9a629d48",
    "tags": []
   },
   "outputs": [],
   "source": [
    "X_train, X_test, y_train, y_test = train_test_split(df[features],df[\"Generation\"],train_size=0.7)"
   ]
  },
  {
   "cell_type": "code",
   "execution_count": 23,
   "metadata": {
    "cell_id": "1750072086d144e086e9b86270755866",
    "deepnote_cell_type": "code",
    "deepnote_to_be_reexecuted": false,
    "execution_millis": 0,
    "execution_start": 1670317136862,
    "source_hash": "5fe45430",
    "tags": []
   },
   "outputs": [],
   "source": [
    "lin = LinearRegression()"
   ]
  },
  {
   "cell_type": "code",
   "execution_count": 24,
   "metadata": {
    "cell_id": "694745aa2df64428a257a7b1eb1d0599",
    "deepnote_cell_type": "code",
    "deepnote_to_be_reexecuted": false,
    "execution_millis": 4,
    "execution_start": 1670317136863,
    "source_hash": "4c19a06c",
    "tags": []
   },
   "outputs": [
    {
     "data": {
      "text/plain": [
       "LinearRegression()"
      ]
     },
     "execution_count": 24,
     "metadata": {},
     "output_type": "execute_result"
    }
   ],
   "source": [
    "lin.fit(X_train,y_train)"
   ]
  },
  {
   "cell_type": "code",
   "execution_count": 25,
   "metadata": {
    "cell_id": "de6ab75ff55347d8a6f6b5030539f70f",
    "deepnote_cell_type": "code",
    "deepnote_to_be_reexecuted": false,
    "execution_millis": 1,
    "execution_start": 1670317136949,
    "source_hash": "7f238970",
    "tags": []
   },
   "outputs": [],
   "source": [
    "linear_train_accuracy = lin.score(X_train,y_train)"
   ]
  },
  {
   "cell_type": "code",
   "execution_count": 26,
   "metadata": {
    "cell_id": "1bdf3016c7844fd8ae7b25240b4c85b2",
    "deepnote_cell_type": "code",
    "deepnote_to_be_reexecuted": false,
    "execution_millis": 0,
    "execution_start": 1670317136951,
    "source_hash": "5b31e8b5",
    "tags": []
   },
   "outputs": [],
   "source": [
    "linear_test_accuracy = lin.score(X_test,y_test)"
   ]
  },
  {
   "cell_type": "code",
   "execution_count": 27,
   "metadata": {
    "cell_id": "ff18ba1937414952a0d2a86b22e46138",
    "deepnote_cell_type": "code",
    "deepnote_to_be_reexecuted": false,
    "execution_millis": 3,
    "execution_start": 1670317136952,
    "source_hash": "cbf4d6aa",
    "tags": []
   },
   "outputs": [
    {
     "name": "stdout",
     "output_type": "stream",
     "text": [
      "When using the linear regression model,\n",
      "the accuracy for the training set is 0.010434201363984985,\n",
      "and the accuracy for the test set is -0.04463859744672849.\n"
     ]
    }
   ],
   "source": [
    "print(f\"When using the linear regression model,\\nthe accuracy for the training set is {linear_train_accuracy},\\nand the accuracy for the test set is {linear_test_accuracy}.\")"
   ]
  },
  {
   "cell_type": "markdown",
   "metadata": {
    "cell_id": "57aedf925da64bdfad09cc1b0db618a4",
    "deepnote_cell_type": "markdown",
    "tags": []
   },
   "source": [
    "By using the score method, I calculate the accuracy for both train and test data, but the accuracies are very low compared with the dataset we used in class, which means that my dataset doesn't perform well under the linear regression model."
   ]
  },
  {
   "cell_type": "markdown",
   "metadata": {
    "cell_id": "512d861e14854400b48f547d51ee4b1c",
    "deepnote_cell_type": "markdown",
    "tags": []
   },
   "source": [
    "## Machine Learning - Logistic Regression\n",
    "\n",
    "Then, I try to use the logistic regression model to check if the generation can be predicted using pokemon's stats. \n",
    "For this model, I also include the calculation of the mean squared error to see the accuracy."
   ]
  },
  {
   "cell_type": "code",
   "execution_count": 28,
   "metadata": {
    "cell_id": "d3d32fbd9901461b9fb227106dbcee82",
    "deepnote_cell_type": "code",
    "deepnote_to_be_reexecuted": false,
    "execution_millis": 3,
    "execution_start": 1670317136954,
    "source_hash": "d9e17eab",
    "tags": []
   },
   "outputs": [],
   "source": [
    "lgr = LogisticRegression(max_iter=500)"
   ]
  },
  {
   "cell_type": "code",
   "execution_count": 29,
   "metadata": {
    "cell_id": "356ddf8820324750af71f2f08c7abcff",
    "deepnote_cell_type": "code",
    "deepnote_to_be_reexecuted": false,
    "execution_millis": 168,
    "execution_start": 1670317136958,
    "source_hash": "c04d47bb",
    "tags": []
   },
   "outputs": [
    {
     "data": {
      "text/plain": [
       "LogisticRegression(max_iter=500)"
      ]
     },
     "execution_count": 29,
     "metadata": {},
     "output_type": "execute_result"
    }
   ],
   "source": [
    "lgr.fit(X_train,y_train)"
   ]
  },
  {
   "cell_type": "code",
   "execution_count": 30,
   "metadata": {
    "cell_id": "f60efc0c12744ad18a8d0a79d10e55ff",
    "deepnote_cell_type": "code",
    "deepnote_to_be_reexecuted": false,
    "execution_millis": 0,
    "execution_start": 1670317137123,
    "source_hash": "830f281",
    "tags": []
   },
   "outputs": [],
   "source": [
    "log_test_accuracy = lgr.score(X_test, y_test)"
   ]
  },
  {
   "cell_type": "code",
   "execution_count": 31,
   "metadata": {
    "cell_id": "dea14017f5484ed896fd96cc6b8cbbbc",
    "deepnote_cell_type": "code",
    "deepnote_to_be_reexecuted": false,
    "execution_millis": 0,
    "execution_start": 1670317137124,
    "source_hash": "31e088dc",
    "tags": []
   },
   "outputs": [],
   "source": [
    "log_train_accuracy = lgr.score(X_train, y_train)"
   ]
  },
  {
   "cell_type": "code",
   "execution_count": 32,
   "metadata": {
    "cell_id": "48f0436a2f8542b4b9184782a8036ba4",
    "deepnote_cell_type": "code",
    "deepnote_to_be_reexecuted": false,
    "execution_millis": 4,
    "execution_start": 1670317137134,
    "source_hash": "8d73378f",
    "tags": []
   },
   "outputs": [],
   "source": [
    "log_train_error = mean_squared_error(y_train,lgr.predict(X_train))\n",
    "log_test_error = mean_squared_error(y_test,lgr.predict(X_test))"
   ]
  },
  {
   "cell_type": "code",
   "execution_count": 33,
   "metadata": {
    "cell_id": "960aab1a0f284fcfb1386ea43b58fcb2",
    "deepnote_cell_type": "code",
    "deepnote_to_be_reexecuted": false,
    "execution_millis": 4,
    "execution_start": 1670317137139,
    "source_hash": "f1e57e5a",
    "tags": []
   },
   "outputs": [
    {
     "name": "stdout",
     "output_type": "stream",
     "text": [
      "The mean squared  error for the training set is 4.819923371647509,\n",
      "  and the mean squared error for the test set is 5.070796460176991.\n",
      "The accuracy for the training set is 0.2681992337164751,\n",
      "  and the accuracy for the test set is 0.18584070796460178.\n"
     ]
    }
   ],
   "source": [
    "print(f\"The mean squared  error for the training set is {log_train_error},\\n  and the mean squared error for the test set is {log_test_error}.\\nThe accuracy for the training set is {log_train_accuracy},\\n  and the accuracy for the test set is {log_test_accuracy}.\")"
   ]
  },
  {
   "cell_type": "markdown",
   "metadata": {
    "cell_id": "84a54533681646d6a03574ecb4c2f858",
    "deepnote_cell_type": "markdown",
    "tags": []
   },
   "source": [
    "I get the similar result as the linear regression model, even a little bit less accurate because my accuracy is lower and error is relatively high. "
   ]
  },
  {
   "cell_type": "markdown",
   "metadata": {
    "cell_id": "29c0e756fd04453ea734b7ed273bc4a1",
    "deepnote_cell_type": "markdown",
    "tags": []
   },
   "source": [
    "It is clear that the generation can't be predicted by the stats from three above regression model, so I changed my goal to using attack to predict the special attack for each pokemon for the following regression.\n"
   ]
  },
  {
   "cell_type": "markdown",
   "metadata": {
    "cell_id": "7aa4ce0bfb5d439c91ec7f07f9e86196",
    "deepnote_cell_type": "markdown",
    "tags": []
   },
   "source": [
    "## Machine Learning - Decision Tree Regressor\n",
    "Since my expectation is to predict the generation, using tree regressor instead of classifier is better."
   ]
  },
  {
   "cell_type": "code",
   "execution_count": 34,
   "metadata": {
    "cell_id": "e8e99db93768416fa0fead5af25c3a28",
    "deepnote_cell_type": "code",
    "deepnote_to_be_reexecuted": false,
    "execution_millis": 61,
    "execution_start": 1670317137171,
    "source_hash": "11bbe73f",
    "tags": []
   },
   "outputs": [
    {
     "data": {
      "text/html": [
       "\n",
       "<div id=\"altair-viz-aa8243f1348840258577a04ad6ad1163\"></div>\n",
       "<script type=\"text/javascript\">\n",
       "  var VEGA_DEBUG = (typeof VEGA_DEBUG == \"undefined\") ? {} : VEGA_DEBUG;\n",
       "  (function(spec, embedOpt){\n",
       "    let outputDiv = document.currentScript.previousElementSibling;\n",
       "    if (outputDiv.id !== \"altair-viz-aa8243f1348840258577a04ad6ad1163\") {\n",
       "      outputDiv = document.getElementById(\"altair-viz-aa8243f1348840258577a04ad6ad1163\");\n",
       "    }\n",
       "    const paths = {\n",
       "      \"vega\": \"https://cdn.jsdelivr.net/npm//vega@5?noext\",\n",
       "      \"vega-lib\": \"https://cdn.jsdelivr.net/npm//vega-lib?noext\",\n",
       "      \"vega-lite\": \"https://cdn.jsdelivr.net/npm//vega-lite@4.17.0?noext\",\n",
       "      \"vega-embed\": \"https://cdn.jsdelivr.net/npm//vega-embed@6?noext\",\n",
       "    };\n",
       "\n",
       "    function maybeLoadScript(lib, version) {\n",
       "      var key = `${lib.replace(\"-\", \"\")}_version`;\n",
       "      return (VEGA_DEBUG[key] == version) ?\n",
       "        Promise.resolve(paths[lib]) :\n",
       "        new Promise(function(resolve, reject) {\n",
       "          var s = document.createElement('script');\n",
       "          document.getElementsByTagName(\"head\")[0].appendChild(s);\n",
       "          s.async = true;\n",
       "          s.onload = () => {\n",
       "            VEGA_DEBUG[key] = version;\n",
       "            return resolve(paths[lib]);\n",
       "          };\n",
       "          s.onerror = () => reject(`Error loading script: ${paths[lib]}`);\n",
       "          s.src = paths[lib];\n",
       "        });\n",
       "    }\n",
       "\n",
       "    function showError(err) {\n",
       "      outputDiv.innerHTML = `<div class=\"error\" style=\"color:red;\">${err}</div>`;\n",
       "      throw err;\n",
       "    }\n",
       "\n",
       "    function displayChart(vegaEmbed) {\n",
       "      vegaEmbed(outputDiv, spec, embedOpt)\n",
       "        .catch(err => showError(`Javascript Error: ${err.message}<br>This usually means there's a typo in your chart specification. See the javascript console for the full traceback.`));\n",
       "    }\n",
       "\n",
       "    if(typeof define === \"function\" && define.amd) {\n",
       "      requirejs.config({paths});\n",
       "      require([\"vega-embed\"], displayChart, err => showError(`Error loading script: ${err.message}`));\n",
       "    } else {\n",
       "      maybeLoadScript(\"vega\", \"5\")\n",
       "        .then(() => maybeLoadScript(\"vega-lite\", \"4.17.0\"))\n",
       "        .then(() => maybeLoadScript(\"vega-embed\", \"6\"))\n",
       "        .catch(showError)\n",
       "        .then(() => displayChart(vegaEmbed));\n",
       "    }\n",
       "  })({\"config\": {\"view\": {\"continuousWidth\": 400, \"continuousHeight\": 300}}, \"data\": {\"name\": \"data-be55c0f643bbcd7bc8096199e58d496f\"}, \"mark\": \"line\", \"encoding\": {\"x\": {\"field\": \"Attack\", \"type\": \"quantitative\"}, \"y\": {\"field\": \"SpecialA\", \"type\": \"quantitative\"}}, \"$schema\": \"https://vega.github.io/schema/vega-lite/v4.17.0.json\", \"datasets\": {\"data-be55c0f643bbcd7bc8096199e58d496f\": [{\"#\": 1, \"Name\": \"Bulbasaur\", \"Type 1\": \"Grass\", \"Type 2\": \"Poison\", \"Total\": 318, \"HP\": 45, \"Attack\": 49, \"Defense\": 49, \"SpecialA\": 65, \"SpecialD\": 65, \"Speed\": 45, \"Generation\": 1, \"cluster\": 1}, {\"#\": 2, \"Name\": \"Ivysaur\", \"Type 1\": \"Grass\", \"Type 2\": \"Poison\", \"Total\": 405, \"HP\": 60, \"Attack\": 62, \"Defense\": 63, \"SpecialA\": 80, \"SpecialD\": 80, \"Speed\": 60, \"Generation\": 1, \"cluster\": 3}, {\"#\": 3, \"Name\": \"Venusaur\", \"Type 1\": \"Grass\", \"Type 2\": \"Poison\", \"Total\": 525, \"HP\": 80, \"Attack\": 82, \"Defense\": 83, \"SpecialA\": 100, \"SpecialD\": 100, \"Speed\": 80, \"Generation\": 1, \"cluster\": 0}, {\"#\": 3, \"Name\": \"VenusaurMega Venusaur\", \"Type 1\": \"Grass\", \"Type 2\": \"Poison\", \"Total\": 625, \"HP\": 80, \"Attack\": 100, \"Defense\": 123, \"SpecialA\": 122, \"SpecialD\": 120, \"Speed\": 80, \"Generation\": 1, \"cluster\": 2}, {\"#\": 6, \"Name\": \"Charizard\", \"Type 1\": \"Fire\", \"Type 2\": \"Flying\", \"Total\": 534, \"HP\": 78, \"Attack\": 84, \"Defense\": 78, \"SpecialA\": 109, \"SpecialD\": 85, \"Speed\": 100, \"Generation\": 1, \"cluster\": 0}, {\"#\": 6, \"Name\": \"CharizardMega Charizard X\", \"Type 1\": \"Fire\", \"Type 2\": \"Dragon\", \"Total\": 634, \"HP\": 78, \"Attack\": 130, \"Defense\": 111, \"SpecialA\": 130, \"SpecialD\": 85, \"Speed\": 100, \"Generation\": 1, \"cluster\": 2}, {\"#\": 6, \"Name\": \"CharizardMega Charizard Y\", \"Type 1\": \"Fire\", \"Type 2\": \"Flying\", \"Total\": 634, \"HP\": 78, \"Attack\": 104, \"Defense\": 78, \"SpecialA\": 159, \"SpecialD\": 115, \"Speed\": 100, \"Generation\": 1, \"cluster\": 2}, {\"#\": 12, \"Name\": \"Butterfree\", \"Type 1\": \"Bug\", \"Type 2\": \"Flying\", \"Total\": 395, \"HP\": 60, \"Attack\": 45, \"Defense\": 50, \"SpecialA\": 90, \"SpecialD\": 80, \"Speed\": 70, \"Generation\": 1, \"cluster\": 3}, {\"#\": 13, \"Name\": \"Weedle\", \"Type 1\": \"Bug\", \"Type 2\": \"Poison\", \"Total\": 195, \"HP\": 40, \"Attack\": 35, \"Defense\": 30, \"SpecialA\": 20, \"SpecialD\": 20, \"Speed\": 50, \"Generation\": 1, \"cluster\": 4}, {\"#\": 14, \"Name\": \"Kakuna\", \"Type 1\": \"Bug\", \"Type 2\": \"Poison\", \"Total\": 205, \"HP\": 45, \"Attack\": 25, \"Defense\": 50, \"SpecialA\": 25, \"SpecialD\": 25, \"Speed\": 35, \"Generation\": 1, \"cluster\": 4}, {\"#\": 15, \"Name\": \"Beedrill\", \"Type 1\": \"Bug\", \"Type 2\": \"Poison\", \"Total\": 395, \"HP\": 65, \"Attack\": 90, \"Defense\": 40, \"SpecialA\": 45, \"SpecialD\": 80, \"Speed\": 75, \"Generation\": 1, \"cluster\": 3}, {\"#\": 15, \"Name\": \"BeedrillMega Beedrill\", \"Type 1\": \"Bug\", \"Type 2\": \"Poison\", \"Total\": 495, \"HP\": 65, \"Attack\": 150, \"Defense\": 40, \"SpecialA\": 15, \"SpecialD\": 80, \"Speed\": 145, \"Generation\": 1, \"cluster\": 0}, {\"#\": 16, \"Name\": \"Pidgey\", \"Type 1\": \"Normal\", \"Type 2\": \"Flying\", \"Total\": 251, \"HP\": 40, \"Attack\": 45, \"Defense\": 40, \"SpecialA\": 35, \"SpecialD\": 35, \"Speed\": 56, \"Generation\": 1, \"cluster\": 4}, {\"#\": 17, \"Name\": \"Pidgeotto\", \"Type 1\": \"Normal\", \"Type 2\": \"Flying\", \"Total\": 349, \"HP\": 63, \"Attack\": 60, \"Defense\": 55, \"SpecialA\": 50, \"SpecialD\": 50, \"Speed\": 71, \"Generation\": 1, \"cluster\": 1}, {\"#\": 18, \"Name\": \"Pidgeot\", \"Type 1\": \"Normal\", \"Type 2\": \"Flying\", \"Total\": 479, \"HP\": 83, \"Attack\": 80, \"Defense\": 75, \"SpecialA\": 70, \"SpecialD\": 70, \"Speed\": 101, \"Generation\": 1, \"cluster\": 0}, {\"#\": 18, \"Name\": \"PidgeotMega Pidgeot\", \"Type 1\": \"Normal\", \"Type 2\": \"Flying\", \"Total\": 579, \"HP\": 83, \"Attack\": 80, \"Defense\": 80, \"SpecialA\": 135, \"SpecialD\": 80, \"Speed\": 121, \"Generation\": 1, \"cluster\": 2}, {\"#\": 21, \"Name\": \"Spearow\", \"Type 1\": \"Normal\", \"Type 2\": \"Flying\", \"Total\": 262, \"HP\": 40, \"Attack\": 60, \"Defense\": 30, \"SpecialA\": 31, \"SpecialD\": 31, \"Speed\": 70, \"Generation\": 1, \"cluster\": 4}, {\"#\": 22, \"Name\": \"Fearow\", \"Type 1\": \"Normal\", \"Type 2\": \"Flying\", \"Total\": 442, \"HP\": 65, \"Attack\": 90, \"Defense\": 65, \"SpecialA\": 61, \"SpecialD\": 61, \"Speed\": 100, \"Generation\": 1, \"cluster\": 3}, {\"#\": 31, \"Name\": \"Nidoqueen\", \"Type 1\": \"Poison\", \"Type 2\": \"Ground\", \"Total\": 505, \"HP\": 90, \"Attack\": 92, \"Defense\": 87, \"SpecialA\": 75, \"SpecialD\": 85, \"Speed\": 76, \"Generation\": 1, \"cluster\": 0}, {\"#\": 34, \"Name\": \"Nidoking\", \"Type 1\": \"Poison\", \"Type 2\": \"Ground\", \"Total\": 505, \"HP\": 81, \"Attack\": 102, \"Defense\": 77, \"SpecialA\": 85, \"SpecialD\": 75, \"Speed\": 85, \"Generation\": 1, \"cluster\": 0}, {\"#\": 39, \"Name\": \"Jigglypuff\", \"Type 1\": \"Normal\", \"Type 2\": \"Fairy\", \"Total\": 270, \"HP\": 115, \"Attack\": 45, \"Defense\": 20, \"SpecialA\": 45, \"SpecialD\": 25, \"Speed\": 20, \"Generation\": 1, \"cluster\": 4}, {\"#\": 40, \"Name\": \"Wigglytuff\", \"Type 1\": \"Normal\", \"Type 2\": \"Fairy\", \"Total\": 435, \"HP\": 140, \"Attack\": 70, \"Defense\": 45, \"SpecialA\": 85, \"SpecialD\": 50, \"Speed\": 45, \"Generation\": 1, \"cluster\": 3}, {\"#\": 41, \"Name\": \"Zubat\", \"Type 1\": \"Poison\", \"Type 2\": \"Flying\", \"Total\": 245, \"HP\": 40, \"Attack\": 45, \"Defense\": 35, \"SpecialA\": 30, \"SpecialD\": 40, \"Speed\": 55, \"Generation\": 1, \"cluster\": 4}, {\"#\": 42, \"Name\": \"Golbat\", \"Type 1\": \"Poison\", \"Type 2\": \"Flying\", \"Total\": 455, \"HP\": 75, \"Attack\": 80, \"Defense\": 70, \"SpecialA\": 65, \"SpecialD\": 75, \"Speed\": 90, \"Generation\": 1, \"cluster\": 5}, {\"#\": 43, \"Name\": \"Oddish\", \"Type 1\": \"Grass\", \"Type 2\": \"Poison\", \"Total\": 320, \"HP\": 45, \"Attack\": 50, \"Defense\": 55, \"SpecialA\": 75, \"SpecialD\": 65, \"Speed\": 30, \"Generation\": 1, \"cluster\": 1}, {\"#\": 44, \"Name\": \"Gloom\", \"Type 1\": \"Grass\", \"Type 2\": \"Poison\", \"Total\": 395, \"HP\": 60, \"Attack\": 65, \"Defense\": 70, \"SpecialA\": 85, \"SpecialD\": 75, \"Speed\": 40, \"Generation\": 1, \"cluster\": 3}, {\"#\": 45, \"Name\": \"Vileplume\", \"Type 1\": \"Grass\", \"Type 2\": \"Poison\", \"Total\": 490, \"HP\": 75, \"Attack\": 80, \"Defense\": 85, \"SpecialA\": 110, \"SpecialD\": 90, \"Speed\": 50, \"Generation\": 1, \"cluster\": 5}, {\"#\": 46, \"Name\": \"Paras\", \"Type 1\": \"Bug\", \"Type 2\": \"Grass\", \"Total\": 285, \"HP\": 35, \"Attack\": 70, \"Defense\": 55, \"SpecialA\": 45, \"SpecialD\": 55, \"Speed\": 25, \"Generation\": 1, \"cluster\": 4}, {\"#\": 47, \"Name\": \"Parasect\", \"Type 1\": \"Bug\", \"Type 2\": \"Grass\", \"Total\": 405, \"HP\": 60, \"Attack\": 95, \"Defense\": 80, \"SpecialA\": 60, \"SpecialD\": 80, \"Speed\": 30, \"Generation\": 1, \"cluster\": 3}, {\"#\": 48, \"Name\": \"Venonat\", \"Type 1\": \"Bug\", \"Type 2\": \"Poison\", \"Total\": 305, \"HP\": 60, \"Attack\": 55, \"Defense\": 50, \"SpecialA\": 40, \"SpecialD\": 55, \"Speed\": 45, \"Generation\": 1, \"cluster\": 1}, {\"#\": 49, \"Name\": \"Venomoth\", \"Type 1\": \"Bug\", \"Type 2\": \"Poison\", \"Total\": 450, \"HP\": 70, \"Attack\": 65, \"Defense\": 60, \"SpecialA\": 90, \"SpecialD\": 75, \"Speed\": 90, \"Generation\": 1, \"cluster\": 5}, {\"#\": 62, \"Name\": \"Poliwrath\", \"Type 1\": \"Water\", \"Type 2\": \"Fighting\", \"Total\": 510, \"HP\": 90, \"Attack\": 95, \"Defense\": 95, \"SpecialA\": 70, \"SpecialD\": 90, \"Speed\": 70, \"Generation\": 1, \"cluster\": 0}, {\"#\": 69, \"Name\": \"Bellsprout\", \"Type 1\": \"Grass\", \"Type 2\": \"Poison\", \"Total\": 300, \"HP\": 50, \"Attack\": 75, \"Defense\": 35, \"SpecialA\": 70, \"SpecialD\": 30, \"Speed\": 40, \"Generation\": 1, \"cluster\": 1}, {\"#\": 70, \"Name\": \"Weepinbell\", \"Type 1\": \"Grass\", \"Type 2\": \"Poison\", \"Total\": 390, \"HP\": 65, \"Attack\": 90, \"Defense\": 50, \"SpecialA\": 85, \"SpecialD\": 45, \"Speed\": 55, \"Generation\": 1, \"cluster\": 3}, {\"#\": 71, \"Name\": \"Victreebel\", \"Type 1\": \"Grass\", \"Type 2\": \"Poison\", \"Total\": 490, \"HP\": 80, \"Attack\": 105, \"Defense\": 65, \"SpecialA\": 100, \"SpecialD\": 70, \"Speed\": 70, \"Generation\": 1, \"cluster\": 5}, {\"#\": 72, \"Name\": \"Tentacool\", \"Type 1\": \"Water\", \"Type 2\": \"Poison\", \"Total\": 335, \"HP\": 40, \"Attack\": 40, \"Defense\": 35, \"SpecialA\": 50, \"SpecialD\": 100, \"Speed\": 70, \"Generation\": 1, \"cluster\": 1}, {\"#\": 73, \"Name\": \"Tentacruel\", \"Type 1\": \"Water\", \"Type 2\": \"Poison\", \"Total\": 515, \"HP\": 80, \"Attack\": 70, \"Defense\": 65, \"SpecialA\": 80, \"SpecialD\": 120, \"Speed\": 100, \"Generation\": 1, \"cluster\": 0}, {\"#\": 74, \"Name\": \"Geodude\", \"Type 1\": \"Rock\", \"Type 2\": \"Ground\", \"Total\": 300, \"HP\": 40, \"Attack\": 80, \"Defense\": 100, \"SpecialA\": 30, \"SpecialD\": 30, \"Speed\": 20, \"Generation\": 1, \"cluster\": 1}, {\"#\": 75, \"Name\": \"Graveler\", \"Type 1\": \"Rock\", \"Type 2\": \"Ground\", \"Total\": 390, \"HP\": 55, \"Attack\": 95, \"Defense\": 115, \"SpecialA\": 45, \"SpecialD\": 45, \"Speed\": 35, \"Generation\": 1, \"cluster\": 3}, {\"#\": 76, \"Name\": \"Golem\", \"Type 1\": \"Rock\", \"Type 2\": \"Ground\", \"Total\": 495, \"HP\": 80, \"Attack\": 120, \"Defense\": 130, \"SpecialA\": 55, \"SpecialD\": 65, \"Speed\": 45, \"Generation\": 1, \"cluster\": 5}, {\"#\": 79, \"Name\": \"Slowpoke\", \"Type 1\": \"Water\", \"Type 2\": \"Psychic\", \"Total\": 315, \"HP\": 90, \"Attack\": 65, \"Defense\": 65, \"SpecialA\": 40, \"SpecialD\": 40, \"Speed\": 15, \"Generation\": 1, \"cluster\": 1}, {\"#\": 80, \"Name\": \"Slowbro\", \"Type 1\": \"Water\", \"Type 2\": \"Psychic\", \"Total\": 490, \"HP\": 95, \"Attack\": 75, \"Defense\": 110, \"SpecialA\": 100, \"SpecialD\": 80, \"Speed\": 30, \"Generation\": 1, \"cluster\": 5}, {\"#\": 80, \"Name\": \"SlowbroMega Slowbro\", \"Type 1\": \"Water\", \"Type 2\": \"Psychic\", \"Total\": 590, \"HP\": 95, \"Attack\": 75, \"Defense\": 180, \"SpecialA\": 130, \"SpecialD\": 80, \"Speed\": 30, \"Generation\": 1, \"cluster\": 2}, {\"#\": 81, \"Name\": \"Magnemite\", \"Type 1\": \"Electric\", \"Type 2\": \"Steel\", \"Total\": 325, \"HP\": 25, \"Attack\": 35, \"Defense\": 70, \"SpecialA\": 95, \"SpecialD\": 55, \"Speed\": 45, \"Generation\": 1, \"cluster\": 1}, {\"#\": 82, \"Name\": \"Magneton\", \"Type 1\": \"Electric\", \"Type 2\": \"Steel\", \"Total\": 465, \"HP\": 50, \"Attack\": 60, \"Defense\": 95, \"SpecialA\": 120, \"SpecialD\": 70, \"Speed\": 70, \"Generation\": 1, \"cluster\": 5}, {\"#\": 83, \"Name\": \"Farfetch'd\", \"Type 1\": \"Normal\", \"Type 2\": \"Flying\", \"Total\": 352, \"HP\": 52, \"Attack\": 65, \"Defense\": 55, \"SpecialA\": 58, \"SpecialD\": 62, \"Speed\": 60, \"Generation\": 1, \"cluster\": 1}, {\"#\": 84, \"Name\": \"Doduo\", \"Type 1\": \"Normal\", \"Type 2\": \"Flying\", \"Total\": 310, \"HP\": 35, \"Attack\": 85, \"Defense\": 45, \"SpecialA\": 35, \"SpecialD\": 35, \"Speed\": 75, \"Generation\": 1, \"cluster\": 1}, {\"#\": 85, \"Name\": \"Dodrio\", \"Type 1\": \"Normal\", \"Type 2\": \"Flying\", \"Total\": 460, \"HP\": 60, \"Attack\": 110, \"Defense\": 70, \"SpecialA\": 60, \"SpecialD\": 60, \"Speed\": 100, \"Generation\": 1, \"cluster\": 5}, {\"#\": 87, \"Name\": \"Dewgong\", \"Type 1\": \"Water\", \"Type 2\": \"Ice\", \"Total\": 475, \"HP\": 90, \"Attack\": 70, \"Defense\": 80, \"SpecialA\": 70, \"SpecialD\": 95, \"Speed\": 70, \"Generation\": 1, \"cluster\": 5}, {\"#\": 91, \"Name\": \"Cloyster\", \"Type 1\": \"Water\", \"Type 2\": \"Ice\", \"Total\": 525, \"HP\": 50, \"Attack\": 95, \"Defense\": 180, \"SpecialA\": 85, \"SpecialD\": 45, \"Speed\": 70, \"Generation\": 1, \"cluster\": 0}, {\"#\": 92, \"Name\": \"Gastly\", \"Type 1\": \"Ghost\", \"Type 2\": \"Poison\", \"Total\": 310, \"HP\": 30, \"Attack\": 35, \"Defense\": 30, \"SpecialA\": 100, \"SpecialD\": 35, \"Speed\": 80, \"Generation\": 1, \"cluster\": 1}, {\"#\": 93, \"Name\": \"Haunter\", \"Type 1\": \"Ghost\", \"Type 2\": \"Poison\", \"Total\": 405, \"HP\": 45, \"Attack\": 50, \"Defense\": 45, \"SpecialA\": 115, \"SpecialD\": 55, \"Speed\": 95, \"Generation\": 1, \"cluster\": 3}, {\"#\": 94, \"Name\": \"Gengar\", \"Type 1\": \"Ghost\", \"Type 2\": \"Poison\", \"Total\": 500, \"HP\": 60, \"Attack\": 65, \"Defense\": 60, \"SpecialA\": 130, \"SpecialD\": 75, \"Speed\": 110, \"Generation\": 1, \"cluster\": 0}, {\"#\": 94, \"Name\": \"GengarMega Gengar\", \"Type 1\": \"Ghost\", \"Type 2\": \"Poison\", \"Total\": 600, \"HP\": 60, \"Attack\": 65, \"Defense\": 80, \"SpecialA\": 170, \"SpecialD\": 95, \"Speed\": 130, \"Generation\": 1, \"cluster\": 2}, {\"#\": 95, \"Name\": \"Onix\", \"Type 1\": \"Rock\", \"Type 2\": \"Ground\", \"Total\": 385, \"HP\": 35, \"Attack\": 45, \"Defense\": 160, \"SpecialA\": 30, \"SpecialD\": 45, \"Speed\": 70, \"Generation\": 1, \"cluster\": 3}, {\"#\": 102, \"Name\": \"Exeggcute\", \"Type 1\": \"Grass\", \"Type 2\": \"Psychic\", \"Total\": 325, \"HP\": 60, \"Attack\": 40, \"Defense\": 80, \"SpecialA\": 60, \"SpecialD\": 45, \"Speed\": 40, \"Generation\": 1, \"cluster\": 1}, {\"#\": 103, \"Name\": \"Exeggutor\", \"Type 1\": \"Grass\", \"Type 2\": \"Psychic\", \"Total\": 520, \"HP\": 95, \"Attack\": 95, \"Defense\": 85, \"SpecialA\": 125, \"SpecialD\": 65, \"Speed\": 55, \"Generation\": 1, \"cluster\": 0}, {\"#\": 111, \"Name\": \"Rhyhorn\", \"Type 1\": \"Ground\", \"Type 2\": \"Rock\", \"Total\": 345, \"HP\": 80, \"Attack\": 85, \"Defense\": 95, \"SpecialA\": 30, \"SpecialD\": 30, \"Speed\": 25, \"Generation\": 1, \"cluster\": 1}, {\"#\": 112, \"Name\": \"Rhydon\", \"Type 1\": \"Ground\", \"Type 2\": \"Rock\", \"Total\": 485, \"HP\": 105, \"Attack\": 130, \"Defense\": 120, \"SpecialA\": 45, \"SpecialD\": 45, \"Speed\": 40, \"Generation\": 1, \"cluster\": 5}, {\"#\": 121, \"Name\": \"Starmie\", \"Type 1\": \"Water\", \"Type 2\": \"Psychic\", \"Total\": 520, \"HP\": 60, \"Attack\": 75, \"Defense\": 85, \"SpecialA\": 100, \"SpecialD\": 85, \"Speed\": 115, \"Generation\": 1, \"cluster\": 0}, {\"#\": 122, \"Name\": \"Mr. Mime\", \"Type 1\": \"Psychic\", \"Type 2\": \"Fairy\", \"Total\": 460, \"HP\": 40, \"Attack\": 45, \"Defense\": 65, \"SpecialA\": 100, \"SpecialD\": 120, \"Speed\": 90, \"Generation\": 1, \"cluster\": 5}, {\"#\": 123, \"Name\": \"Scyther\", \"Type 1\": \"Bug\", \"Type 2\": \"Flying\", \"Total\": 500, \"HP\": 70, \"Attack\": 110, \"Defense\": 80, \"SpecialA\": 55, \"SpecialD\": 80, \"Speed\": 105, \"Generation\": 1, \"cluster\": 0}, {\"#\": 124, \"Name\": \"Jynx\", \"Type 1\": \"Ice\", \"Type 2\": \"Psychic\", \"Total\": 455, \"HP\": 65, \"Attack\": 50, \"Defense\": 35, \"SpecialA\": 115, \"SpecialD\": 95, \"Speed\": 95, \"Generation\": 1, \"cluster\": 5}, {\"#\": 127, \"Name\": \"PinsirMega Pinsir\", \"Type 1\": \"Bug\", \"Type 2\": \"Flying\", \"Total\": 600, \"HP\": 65, \"Attack\": 155, \"Defense\": 120, \"SpecialA\": 65, \"SpecialD\": 90, \"Speed\": 105, \"Generation\": 1, \"cluster\": 2}, {\"#\": 130, \"Name\": \"Gyarados\", \"Type 1\": \"Water\", \"Type 2\": \"Flying\", \"Total\": 540, \"HP\": 95, \"Attack\": 125, \"Defense\": 79, \"SpecialA\": 60, \"SpecialD\": 100, \"Speed\": 81, \"Generation\": 1, \"cluster\": 0}, {\"#\": 130, \"Name\": \"GyaradosMega Gyarados\", \"Type 1\": \"Water\", \"Type 2\": \"Dark\", \"Total\": 640, \"HP\": 95, \"Attack\": 155, \"Defense\": 109, \"SpecialA\": 70, \"SpecialD\": 130, \"Speed\": 81, \"Generation\": 1, \"cluster\": 2}, {\"#\": 131, \"Name\": \"Lapras\", \"Type 1\": \"Water\", \"Type 2\": \"Ice\", \"Total\": 535, \"HP\": 130, \"Attack\": 85, \"Defense\": 80, \"SpecialA\": 85, \"SpecialD\": 95, \"Speed\": 60, \"Generation\": 1, \"cluster\": 0}, {\"#\": 138, \"Name\": \"Omanyte\", \"Type 1\": \"Rock\", \"Type 2\": \"Water\", \"Total\": 355, \"HP\": 35, \"Attack\": 40, \"Defense\": 100, \"SpecialA\": 90, \"SpecialD\": 55, \"Speed\": 35, \"Generation\": 1, \"cluster\": 1}, {\"#\": 139, \"Name\": \"Omastar\", \"Type 1\": \"Rock\", \"Type 2\": \"Water\", \"Total\": 495, \"HP\": 70, \"Attack\": 60, \"Defense\": 125, \"SpecialA\": 115, \"SpecialD\": 70, \"Speed\": 55, \"Generation\": 1, \"cluster\": 5}, {\"#\": 140, \"Name\": \"Kabuto\", \"Type 1\": \"Rock\", \"Type 2\": \"Water\", \"Total\": 355, \"HP\": 30, \"Attack\": 80, \"Defense\": 90, \"SpecialA\": 55, \"SpecialD\": 45, \"Speed\": 55, \"Generation\": 1, \"cluster\": 1}, {\"#\": 141, \"Name\": \"Kabutops\", \"Type 1\": \"Rock\", \"Type 2\": \"Water\", \"Total\": 495, \"HP\": 60, \"Attack\": 115, \"Defense\": 105, \"SpecialA\": 65, \"SpecialD\": 70, \"Speed\": 80, \"Generation\": 1, \"cluster\": 0}, {\"#\": 142, \"Name\": \"Aerodactyl\", \"Type 1\": \"Rock\", \"Type 2\": \"Flying\", \"Total\": 515, \"HP\": 80, \"Attack\": 105, \"Defense\": 65, \"SpecialA\": 60, \"SpecialD\": 75, \"Speed\": 130, \"Generation\": 1, \"cluster\": 0}, {\"#\": 142, \"Name\": \"AerodactylMega Aerodactyl\", \"Type 1\": \"Rock\", \"Type 2\": \"Flying\", \"Total\": 615, \"HP\": 80, \"Attack\": 135, \"Defense\": 85, \"SpecialA\": 70, \"SpecialD\": 95, \"Speed\": 150, \"Generation\": 1, \"cluster\": 2}, {\"#\": 149, \"Name\": \"Dragonite\", \"Type 1\": \"Dragon\", \"Type 2\": \"Flying\", \"Total\": 600, \"HP\": 91, \"Attack\": 134, \"Defense\": 95, \"SpecialA\": 100, \"SpecialD\": 100, \"Speed\": 80, \"Generation\": 1, \"cluster\": 2}, {\"#\": 163, \"Name\": \"Hoothoot\", \"Type 1\": \"Normal\", \"Type 2\": \"Flying\", \"Total\": 262, \"HP\": 60, \"Attack\": 30, \"Defense\": 30, \"SpecialA\": 36, \"SpecialD\": 56, \"Speed\": 50, \"Generation\": 2, \"cluster\": 4}, {\"#\": 164, \"Name\": \"Noctowl\", \"Type 1\": \"Normal\", \"Type 2\": \"Flying\", \"Total\": 442, \"HP\": 100, \"Attack\": 50, \"Defense\": 50, \"SpecialA\": 76, \"SpecialD\": 96, \"Speed\": 70, \"Generation\": 2, \"cluster\": 3}, {\"#\": 165, \"Name\": \"Ledyba\", \"Type 1\": \"Bug\", \"Type 2\": \"Flying\", \"Total\": 265, \"HP\": 40, \"Attack\": 20, \"Defense\": 30, \"SpecialA\": 40, \"SpecialD\": 80, \"Speed\": 55, \"Generation\": 2, \"cluster\": 4}, {\"#\": 166, \"Name\": \"Ledian\", \"Type 1\": \"Bug\", \"Type 2\": \"Flying\", \"Total\": 390, \"HP\": 55, \"Attack\": 35, \"Defense\": 50, \"SpecialA\": 55, \"SpecialD\": 110, \"Speed\": 85, \"Generation\": 2, \"cluster\": 3}, {\"#\": 167, \"Name\": \"Spinarak\", \"Type 1\": \"Bug\", \"Type 2\": \"Poison\", \"Total\": 250, \"HP\": 40, \"Attack\": 60, \"Defense\": 40, \"SpecialA\": 40, \"SpecialD\": 40, \"Speed\": 30, \"Generation\": 2, \"cluster\": 4}, {\"#\": 168, \"Name\": \"Ariados\", \"Type 1\": \"Bug\", \"Type 2\": \"Poison\", \"Total\": 390, \"HP\": 70, \"Attack\": 90, \"Defense\": 70, \"SpecialA\": 60, \"SpecialD\": 60, \"Speed\": 40, \"Generation\": 2, \"cluster\": 3}, {\"#\": 169, \"Name\": \"Crobat\", \"Type 1\": \"Poison\", \"Type 2\": \"Flying\", \"Total\": 535, \"HP\": 85, \"Attack\": 90, \"Defense\": 80, \"SpecialA\": 70, \"SpecialD\": 80, \"Speed\": 130, \"Generation\": 2, \"cluster\": 0}, {\"#\": 170, \"Name\": \"Chinchou\", \"Type 1\": \"Water\", \"Type 2\": \"Electric\", \"Total\": 330, \"HP\": 75, \"Attack\": 38, \"Defense\": 38, \"SpecialA\": 56, \"SpecialD\": 56, \"Speed\": 67, \"Generation\": 2, \"cluster\": 1}, {\"#\": 171, \"Name\": \"Lanturn\", \"Type 1\": \"Water\", \"Type 2\": \"Electric\", \"Total\": 460, \"HP\": 125, \"Attack\": 58, \"Defense\": 58, \"SpecialA\": 76, \"SpecialD\": 76, \"Speed\": 67, \"Generation\": 2, \"cluster\": 5}, {\"#\": 174, \"Name\": \"Igglybuff\", \"Type 1\": \"Normal\", \"Type 2\": \"Fairy\", \"Total\": 210, \"HP\": 90, \"Attack\": 30, \"Defense\": 15, \"SpecialA\": 40, \"SpecialD\": 20, \"Speed\": 15, \"Generation\": 2, \"cluster\": 4}, {\"#\": 176, \"Name\": \"Togetic\", \"Type 1\": \"Fairy\", \"Type 2\": \"Flying\", \"Total\": 405, \"HP\": 55, \"Attack\": 40, \"Defense\": 85, \"SpecialA\": 80, \"SpecialD\": 105, \"Speed\": 40, \"Generation\": 2, \"cluster\": 3}, {\"#\": 177, \"Name\": \"Natu\", \"Type 1\": \"Psychic\", \"Type 2\": \"Flying\", \"Total\": 320, \"HP\": 40, \"Attack\": 50, \"Defense\": 45, \"SpecialA\": 70, \"SpecialD\": 45, \"Speed\": 70, \"Generation\": 2, \"cluster\": 1}, {\"#\": 178, \"Name\": \"Xatu\", \"Type 1\": \"Psychic\", \"Type 2\": \"Flying\", \"Total\": 470, \"HP\": 65, \"Attack\": 75, \"Defense\": 70, \"SpecialA\": 95, \"SpecialD\": 70, \"Speed\": 95, \"Generation\": 2, \"cluster\": 5}, {\"#\": 181, \"Name\": \"AmpharosMega Ampharos\", \"Type 1\": \"Electric\", \"Type 2\": \"Dragon\", \"Total\": 610, \"HP\": 90, \"Attack\": 95, \"Defense\": 105, \"SpecialA\": 165, \"SpecialD\": 110, \"Speed\": 45, \"Generation\": 2, \"cluster\": 2}, {\"#\": 183, \"Name\": \"Marill\", \"Type 1\": \"Water\", \"Type 2\": \"Fairy\", \"Total\": 250, \"HP\": 70, \"Attack\": 20, \"Defense\": 50, \"SpecialA\": 20, \"SpecialD\": 50, \"Speed\": 40, \"Generation\": 2, \"cluster\": 4}, {\"#\": 184, \"Name\": \"Azumarill\", \"Type 1\": \"Water\", \"Type 2\": \"Fairy\", \"Total\": 420, \"HP\": 100, \"Attack\": 50, \"Defense\": 80, \"SpecialA\": 60, \"SpecialD\": 80, \"Speed\": 50, \"Generation\": 2, \"cluster\": 3}, {\"#\": 187, \"Name\": \"Hoppip\", \"Type 1\": \"Grass\", \"Type 2\": \"Flying\", \"Total\": 250, \"HP\": 35, \"Attack\": 35, \"Defense\": 40, \"SpecialA\": 35, \"SpecialD\": 55, \"Speed\": 50, \"Generation\": 2, \"cluster\": 4}, {\"#\": 188, \"Name\": \"Skiploom\", \"Type 1\": \"Grass\", \"Type 2\": \"Flying\", \"Total\": 340, \"HP\": 55, \"Attack\": 45, \"Defense\": 50, \"SpecialA\": 45, \"SpecialD\": 65, \"Speed\": 80, \"Generation\": 2, \"cluster\": 1}, {\"#\": 189, \"Name\": \"Jumpluff\", \"Type 1\": \"Grass\", \"Type 2\": \"Flying\", \"Total\": 460, \"HP\": 75, \"Attack\": 55, \"Defense\": 70, \"SpecialA\": 55, \"SpecialD\": 95, \"Speed\": 110, \"Generation\": 2, \"cluster\": 5}, {\"#\": 193, \"Name\": \"Yanma\", \"Type 1\": \"Bug\", \"Type 2\": \"Flying\", \"Total\": 390, \"HP\": 65, \"Attack\": 65, \"Defense\": 45, \"SpecialA\": 75, \"SpecialD\": 45, \"Speed\": 95, \"Generation\": 2, \"cluster\": 3}, {\"#\": 194, \"Name\": \"Wooper\", \"Type 1\": \"Water\", \"Type 2\": \"Ground\", \"Total\": 210, \"HP\": 55, \"Attack\": 45, \"Defense\": 45, \"SpecialA\": 25, \"SpecialD\": 25, \"Speed\": 15, \"Generation\": 2, \"cluster\": 4}, {\"#\": 195, \"Name\": \"Quagsire\", \"Type 1\": \"Water\", \"Type 2\": \"Ground\", \"Total\": 430, \"HP\": 95, \"Attack\": 85, \"Defense\": 85, \"SpecialA\": 65, \"SpecialD\": 65, \"Speed\": 35, \"Generation\": 2, \"cluster\": 3}, {\"#\": 198, \"Name\": \"Murkrow\", \"Type 1\": \"Dark\", \"Type 2\": \"Flying\", \"Total\": 405, \"HP\": 60, \"Attack\": 85, \"Defense\": 42, \"SpecialA\": 85, \"SpecialD\": 42, \"Speed\": 91, \"Generation\": 2, \"cluster\": 3}, {\"#\": 199, \"Name\": \"Slowking\", \"Type 1\": \"Water\", \"Type 2\": \"Psychic\", \"Total\": 490, \"HP\": 95, \"Attack\": 75, \"Defense\": 80, \"SpecialA\": 100, \"SpecialD\": 110, \"Speed\": 30, \"Generation\": 2, \"cluster\": 5}, {\"#\": 203, \"Name\": \"Girafarig\", \"Type 1\": \"Normal\", \"Type 2\": \"Psychic\", \"Total\": 455, \"HP\": 70, \"Attack\": 80, \"Defense\": 65, \"SpecialA\": 90, \"SpecialD\": 65, \"Speed\": 85, \"Generation\": 2, \"cluster\": 5}, {\"#\": 205, \"Name\": \"Forretress\", \"Type 1\": \"Bug\", \"Type 2\": \"Steel\", \"Total\": 465, \"HP\": 75, \"Attack\": 90, \"Defense\": 140, \"SpecialA\": 60, \"SpecialD\": 60, \"Speed\": 40, \"Generation\": 2, \"cluster\": 5}, {\"#\": 207, \"Name\": \"Gligar\", \"Type 1\": \"Ground\", \"Type 2\": \"Flying\", \"Total\": 430, \"HP\": 65, \"Attack\": 75, \"Defense\": 105, \"SpecialA\": 35, \"SpecialD\": 65, \"Speed\": 85, \"Generation\": 2, \"cluster\": 3}, {\"#\": 208, \"Name\": \"Steelix\", \"Type 1\": \"Steel\", \"Type 2\": \"Ground\", \"Total\": 510, \"HP\": 75, \"Attack\": 85, \"Defense\": 200, \"SpecialA\": 55, \"SpecialD\": 65, \"Speed\": 30, \"Generation\": 2, \"cluster\": 5}, {\"#\": 208, \"Name\": \"SteelixMega Steelix\", \"Type 1\": \"Steel\", \"Type 2\": \"Ground\", \"Total\": 610, \"HP\": 75, \"Attack\": 125, \"Defense\": 230, \"SpecialA\": 55, \"SpecialD\": 95, \"Speed\": 30, \"Generation\": 2, \"cluster\": 2}, {\"#\": 211, \"Name\": \"Qwilfish\", \"Type 1\": \"Water\", \"Type 2\": \"Poison\", \"Total\": 430, \"HP\": 65, \"Attack\": 95, \"Defense\": 75, \"SpecialA\": 55, \"SpecialD\": 55, \"Speed\": 85, \"Generation\": 2, \"cluster\": 3}, {\"#\": 212, \"Name\": \"Scizor\", \"Type 1\": \"Bug\", \"Type 2\": \"Steel\", \"Total\": 500, \"HP\": 70, \"Attack\": 130, \"Defense\": 100, \"SpecialA\": 55, \"SpecialD\": 80, \"Speed\": 65, \"Generation\": 2, \"cluster\": 5}, {\"#\": 212, \"Name\": \"ScizorMega Scizor\", \"Type 1\": \"Bug\", \"Type 2\": \"Steel\", \"Total\": 600, \"HP\": 70, \"Attack\": 150, \"Defense\": 140, \"SpecialA\": 65, \"SpecialD\": 100, \"Speed\": 75, \"Generation\": 2, \"cluster\": 2}, {\"#\": 213, \"Name\": \"Shuckle\", \"Type 1\": \"Bug\", \"Type 2\": \"Rock\", \"Total\": 505, \"HP\": 20, \"Attack\": 10, \"Defense\": 230, \"SpecialA\": 10, \"SpecialD\": 230, \"Speed\": 5, \"Generation\": 2, \"cluster\": 5}, {\"#\": 214, \"Name\": \"Heracross\", \"Type 1\": \"Bug\", \"Type 2\": \"Fighting\", \"Total\": 500, \"HP\": 80, \"Attack\": 125, \"Defense\": 75, \"SpecialA\": 40, \"SpecialD\": 95, \"Speed\": 85, \"Generation\": 2, \"cluster\": 0}, {\"#\": 214, \"Name\": \"HeracrossMega Heracross\", \"Type 1\": \"Bug\", \"Type 2\": \"Fighting\", \"Total\": 600, \"HP\": 80, \"Attack\": 185, \"Defense\": 115, \"SpecialA\": 40, \"SpecialD\": 105, \"Speed\": 75, \"Generation\": 2, \"cluster\": 2}, {\"#\": 215, \"Name\": \"Sneasel\", \"Type 1\": \"Dark\", \"Type 2\": \"Ice\", \"Total\": 430, \"HP\": 55, \"Attack\": 95, \"Defense\": 55, \"SpecialA\": 35, \"SpecialD\": 75, \"Speed\": 115, \"Generation\": 2, \"cluster\": 3}, {\"#\": 219, \"Name\": \"Magcargo\", \"Type 1\": \"Fire\", \"Type 2\": \"Rock\", \"Total\": 410, \"HP\": 50, \"Attack\": 50, \"Defense\": 120, \"SpecialA\": 80, \"SpecialD\": 80, \"Speed\": 30, \"Generation\": 2, \"cluster\": 3}, {\"#\": 220, \"Name\": \"Swinub\", \"Type 1\": \"Ice\", \"Type 2\": \"Ground\", \"Total\": 250, \"HP\": 50, \"Attack\": 50, \"Defense\": 40, \"SpecialA\": 30, \"SpecialD\": 30, \"Speed\": 50, \"Generation\": 2, \"cluster\": 4}, {\"#\": 221, \"Name\": \"Piloswine\", \"Type 1\": \"Ice\", \"Type 2\": \"Ground\", \"Total\": 450, \"HP\": 100, \"Attack\": 100, \"Defense\": 80, \"SpecialA\": 60, \"SpecialD\": 60, \"Speed\": 50, \"Generation\": 2, \"cluster\": 5}, {\"#\": 222, \"Name\": \"Corsola\", \"Type 1\": \"Water\", \"Type 2\": \"Rock\", \"Total\": 380, \"HP\": 55, \"Attack\": 55, \"Defense\": 85, \"SpecialA\": 65, \"SpecialD\": 85, \"Speed\": 35, \"Generation\": 2, \"cluster\": 3}, {\"#\": 225, \"Name\": \"Delibird\", \"Type 1\": \"Ice\", \"Type 2\": \"Flying\", \"Total\": 330, \"HP\": 45, \"Attack\": 55, \"Defense\": 45, \"SpecialA\": 65, \"SpecialD\": 45, \"Speed\": 75, \"Generation\": 2, \"cluster\": 1}, {\"#\": 226, \"Name\": \"Mantine\", \"Type 1\": \"Water\", \"Type 2\": \"Flying\", \"Total\": 465, \"HP\": 65, \"Attack\": 40, \"Defense\": 70, \"SpecialA\": 80, \"SpecialD\": 140, \"Speed\": 70, \"Generation\": 2, \"cluster\": 5}, {\"#\": 227, \"Name\": \"Skarmory\", \"Type 1\": \"Steel\", \"Type 2\": \"Flying\", \"Total\": 465, \"HP\": 65, \"Attack\": 80, \"Defense\": 140, \"SpecialA\": 40, \"SpecialD\": 70, \"Speed\": 70, \"Generation\": 2, \"cluster\": 5}, {\"#\": 228, \"Name\": \"Houndour\", \"Type 1\": \"Dark\", \"Type 2\": \"Fire\", \"Total\": 330, \"HP\": 45, \"Attack\": 60, \"Defense\": 30, \"SpecialA\": 80, \"SpecialD\": 50, \"Speed\": 65, \"Generation\": 2, \"cluster\": 1}, {\"#\": 229, \"Name\": \"Houndoom\", \"Type 1\": \"Dark\", \"Type 2\": \"Fire\", \"Total\": 500, \"HP\": 75, \"Attack\": 90, \"Defense\": 50, \"SpecialA\": 110, \"SpecialD\": 80, \"Speed\": 95, \"Generation\": 2, \"cluster\": 0}, {\"#\": 229, \"Name\": \"HoundoomMega Houndoom\", \"Type 1\": \"Dark\", \"Type 2\": \"Fire\", \"Total\": 600, \"HP\": 75, \"Attack\": 90, \"Defense\": 90, \"SpecialA\": 140, \"SpecialD\": 90, \"Speed\": 115, \"Generation\": 2, \"cluster\": 2}, {\"#\": 230, \"Name\": \"Kingdra\", \"Type 1\": \"Water\", \"Type 2\": \"Dragon\", \"Total\": 540, \"HP\": 75, \"Attack\": 95, \"Defense\": 95, \"SpecialA\": 95, \"SpecialD\": 95, \"Speed\": 85, \"Generation\": 2, \"cluster\": 0}, {\"#\": 238, \"Name\": \"Smoochum\", \"Type 1\": \"Ice\", \"Type 2\": \"Psychic\", \"Total\": 305, \"HP\": 45, \"Attack\": 30, \"Defense\": 15, \"SpecialA\": 85, \"SpecialD\": 65, \"Speed\": 65, \"Generation\": 2, \"cluster\": 1}, {\"#\": 246, \"Name\": \"Larvitar\", \"Type 1\": \"Rock\", \"Type 2\": \"Ground\", \"Total\": 300, \"HP\": 50, \"Attack\": 64, \"Defense\": 50, \"SpecialA\": 45, \"SpecialD\": 50, \"Speed\": 41, \"Generation\": 2, \"cluster\": 1}, {\"#\": 247, \"Name\": \"Pupitar\", \"Type 1\": \"Rock\", \"Type 2\": \"Ground\", \"Total\": 410, \"HP\": 70, \"Attack\": 84, \"Defense\": 70, \"SpecialA\": 65, \"SpecialD\": 70, \"Speed\": 51, \"Generation\": 2, \"cluster\": 3}, {\"#\": 248, \"Name\": \"Tyranitar\", \"Type 1\": \"Rock\", \"Type 2\": \"Dark\", \"Total\": 600, \"HP\": 100, \"Attack\": 134, \"Defense\": 110, \"SpecialA\": 95, \"SpecialD\": 100, \"Speed\": 61, \"Generation\": 2, \"cluster\": 2}, {\"#\": 248, \"Name\": \"TyranitarMega Tyranitar\", \"Type 1\": \"Rock\", \"Type 2\": \"Dark\", \"Total\": 700, \"HP\": 100, \"Attack\": 164, \"Defense\": 150, \"SpecialA\": 95, \"SpecialD\": 120, \"Speed\": 71, \"Generation\": 2, \"cluster\": 2}, {\"#\": 251, \"Name\": \"Celebi\", \"Type 1\": \"Psychic\", \"Type 2\": \"Grass\", \"Total\": 600, \"HP\": 100, \"Attack\": 100, \"Defense\": 100, \"SpecialA\": 100, \"SpecialD\": 100, \"Speed\": 100, \"Generation\": 2, \"cluster\": 2}, {\"#\": 254, \"Name\": \"SceptileMega Sceptile\", \"Type 1\": \"Grass\", \"Type 2\": \"Dragon\", \"Total\": 630, \"HP\": 70, \"Attack\": 110, \"Defense\": 75, \"SpecialA\": 145, \"SpecialD\": 85, \"Speed\": 145, \"Generation\": 3, \"cluster\": 2}, {\"#\": 256, \"Name\": \"Combusken\", \"Type 1\": \"Fire\", \"Type 2\": \"Fighting\", \"Total\": 405, \"HP\": 60, \"Attack\": 85, \"Defense\": 60, \"SpecialA\": 85, \"SpecialD\": 60, \"Speed\": 55, \"Generation\": 3, \"cluster\": 3}, {\"#\": 257, \"Name\": \"Blaziken\", \"Type 1\": \"Fire\", \"Type 2\": \"Fighting\", \"Total\": 530, \"HP\": 80, \"Attack\": 120, \"Defense\": 70, \"SpecialA\": 110, \"SpecialD\": 70, \"Speed\": 80, \"Generation\": 3, \"cluster\": 0}, {\"#\": 257, \"Name\": \"BlazikenMega Blaziken\", \"Type 1\": \"Fire\", \"Type 2\": \"Fighting\", \"Total\": 630, \"HP\": 80, \"Attack\": 160, \"Defense\": 80, \"SpecialA\": 130, \"SpecialD\": 80, \"Speed\": 100, \"Generation\": 3, \"cluster\": 2}, {\"#\": 259, \"Name\": \"Marshtomp\", \"Type 1\": \"Water\", \"Type 2\": \"Ground\", \"Total\": 405, \"HP\": 70, \"Attack\": 85, \"Defense\": 70, \"SpecialA\": 60, \"SpecialD\": 70, \"Speed\": 50, \"Generation\": 3, \"cluster\": 3}, {\"#\": 260, \"Name\": \"Swampert\", \"Type 1\": \"Water\", \"Type 2\": \"Ground\", \"Total\": 535, \"HP\": 100, \"Attack\": 110, \"Defense\": 90, \"SpecialA\": 85, \"SpecialD\": 90, \"Speed\": 60, \"Generation\": 3, \"cluster\": 0}, {\"#\": 260, \"Name\": \"SwampertMega Swampert\", \"Type 1\": \"Water\", \"Type 2\": \"Ground\", \"Total\": 635, \"HP\": 100, \"Attack\": 150, \"Defense\": 110, \"SpecialA\": 95, \"SpecialD\": 110, \"Speed\": 70, \"Generation\": 3, \"cluster\": 2}, {\"#\": 267, \"Name\": \"Beautifly\", \"Type 1\": \"Bug\", \"Type 2\": \"Flying\", \"Total\": 395, \"HP\": 60, \"Attack\": 70, \"Defense\": 50, \"SpecialA\": 100, \"SpecialD\": 50, \"Speed\": 65, \"Generation\": 3, \"cluster\": 3}, {\"#\": 269, \"Name\": \"Dustox\", \"Type 1\": \"Bug\", \"Type 2\": \"Poison\", \"Total\": 385, \"HP\": 60, \"Attack\": 50, \"Defense\": 70, \"SpecialA\": 50, \"SpecialD\": 90, \"Speed\": 65, \"Generation\": 3, \"cluster\": 3}, {\"#\": 270, \"Name\": \"Lotad\", \"Type 1\": \"Water\", \"Type 2\": \"Grass\", \"Total\": 220, \"HP\": 40, \"Attack\": 30, \"Defense\": 30, \"SpecialA\": 40, \"SpecialD\": 50, \"Speed\": 30, \"Generation\": 3, \"cluster\": 4}, {\"#\": 271, \"Name\": \"Lombre\", \"Type 1\": \"Water\", \"Type 2\": \"Grass\", \"Total\": 340, \"HP\": 60, \"Attack\": 50, \"Defense\": 50, \"SpecialA\": 60, \"SpecialD\": 70, \"Speed\": 50, \"Generation\": 3, \"cluster\": 1}, {\"#\": 272, \"Name\": \"Ludicolo\", \"Type 1\": \"Water\", \"Type 2\": \"Grass\", \"Total\": 480, \"HP\": 80, \"Attack\": 70, \"Defense\": 70, \"SpecialA\": 90, \"SpecialD\": 100, \"Speed\": 70, \"Generation\": 3, \"cluster\": 5}, {\"#\": 274, \"Name\": \"Nuzleaf\", \"Type 1\": \"Grass\", \"Type 2\": \"Dark\", \"Total\": 340, \"HP\": 70, \"Attack\": 70, \"Defense\": 40, \"SpecialA\": 60, \"SpecialD\": 40, \"Speed\": 60, \"Generation\": 3, \"cluster\": 1}, {\"#\": 275, \"Name\": \"Shiftry\", \"Type 1\": \"Grass\", \"Type 2\": \"Dark\", \"Total\": 480, \"HP\": 90, \"Attack\": 100, \"Defense\": 60, \"SpecialA\": 90, \"SpecialD\": 60, \"Speed\": 80, \"Generation\": 3, \"cluster\": 5}, {\"#\": 276, \"Name\": \"Taillow\", \"Type 1\": \"Normal\", \"Type 2\": \"Flying\", \"Total\": 270, \"HP\": 40, \"Attack\": 55, \"Defense\": 30, \"SpecialA\": 30, \"SpecialD\": 30, \"Speed\": 85, \"Generation\": 3, \"cluster\": 4}, {\"#\": 277, \"Name\": \"Swellow\", \"Type 1\": \"Normal\", \"Type 2\": \"Flying\", \"Total\": 430, \"HP\": 60, \"Attack\": 85, \"Defense\": 60, \"SpecialA\": 50, \"SpecialD\": 50, \"Speed\": 125, \"Generation\": 3, \"cluster\": 3}, {\"#\": 278, \"Name\": \"Wingull\", \"Type 1\": \"Water\", \"Type 2\": \"Flying\", \"Total\": 270, \"HP\": 40, \"Attack\": 30, \"Defense\": 30, \"SpecialA\": 55, \"SpecialD\": 30, \"Speed\": 85, \"Generation\": 3, \"cluster\": 4}, {\"#\": 279, \"Name\": \"Pelipper\", \"Type 1\": \"Water\", \"Type 2\": \"Flying\", \"Total\": 430, \"HP\": 60, \"Attack\": 50, \"Defense\": 100, \"SpecialA\": 85, \"SpecialD\": 70, \"Speed\": 65, \"Generation\": 3, \"cluster\": 3}, {\"#\": 280, \"Name\": \"Ralts\", \"Type 1\": \"Psychic\", \"Type 2\": \"Fairy\", \"Total\": 198, \"HP\": 28, \"Attack\": 25, \"Defense\": 25, \"SpecialA\": 45, \"SpecialD\": 35, \"Speed\": 40, \"Generation\": 3, \"cluster\": 4}, {\"#\": 281, \"Name\": \"Kirlia\", \"Type 1\": \"Psychic\", \"Type 2\": \"Fairy\", \"Total\": 278, \"HP\": 38, \"Attack\": 35, \"Defense\": 35, \"SpecialA\": 65, \"SpecialD\": 55, \"Speed\": 50, \"Generation\": 3, \"cluster\": 4}, {\"#\": 282, \"Name\": \"Gardevoir\", \"Type 1\": \"Psychic\", \"Type 2\": \"Fairy\", \"Total\": 518, \"HP\": 68, \"Attack\": 65, \"Defense\": 65, \"SpecialA\": 125, \"SpecialD\": 115, \"Speed\": 80, \"Generation\": 3, \"cluster\": 0}, {\"#\": 282, \"Name\": \"GardevoirMega Gardevoir\", \"Type 1\": \"Psychic\", \"Type 2\": \"Fairy\", \"Total\": 618, \"HP\": 68, \"Attack\": 85, \"Defense\": 65, \"SpecialA\": 165, \"SpecialD\": 135, \"Speed\": 100, \"Generation\": 3, \"cluster\": 2}, {\"#\": 283, \"Name\": \"Surskit\", \"Type 1\": \"Bug\", \"Type 2\": \"Water\", \"Total\": 269, \"HP\": 40, \"Attack\": 30, \"Defense\": 32, \"SpecialA\": 50, \"SpecialD\": 52, \"Speed\": 65, \"Generation\": 3, \"cluster\": 4}, {\"#\": 284, \"Name\": \"Masquerain\", \"Type 1\": \"Bug\", \"Type 2\": \"Flying\", \"Total\": 414, \"HP\": 70, \"Attack\": 60, \"Defense\": 62, \"SpecialA\": 80, \"SpecialD\": 82, \"Speed\": 60, \"Generation\": 3, \"cluster\": 3}, {\"#\": 286, \"Name\": \"Breloom\", \"Type 1\": \"Grass\", \"Type 2\": \"Fighting\", \"Total\": 460, \"HP\": 60, \"Attack\": 130, \"Defense\": 80, \"SpecialA\": 60, \"SpecialD\": 60, \"Speed\": 70, \"Generation\": 3, \"cluster\": 5}, {\"#\": 290, \"Name\": \"Nincada\", \"Type 1\": \"Bug\", \"Type 2\": \"Ground\", \"Total\": 266, \"HP\": 31, \"Attack\": 45, \"Defense\": 90, \"SpecialA\": 30, \"SpecialD\": 30, \"Speed\": 40, \"Generation\": 3, \"cluster\": 4}, {\"#\": 291, \"Name\": \"Ninjask\", \"Type 1\": \"Bug\", \"Type 2\": \"Flying\", \"Total\": 456, \"HP\": 61, \"Attack\": 90, \"Defense\": 45, \"SpecialA\": 50, \"SpecialD\": 50, \"Speed\": 160, \"Generation\": 3, \"cluster\": 0}, {\"#\": 292, \"Name\": \"Shedinja\", \"Type 1\": \"Bug\", \"Type 2\": \"Ghost\", \"Total\": 236, \"HP\": 1, \"Attack\": 90, \"Defense\": 45, \"SpecialA\": 30, \"SpecialD\": 30, \"Speed\": 40, \"Generation\": 3, \"cluster\": 4}, {\"#\": 298, \"Name\": \"Azurill\", \"Type 1\": \"Normal\", \"Type 2\": \"Fairy\", \"Total\": 190, \"HP\": 50, \"Attack\": 20, \"Defense\": 40, \"SpecialA\": 20, \"SpecialD\": 40, \"Speed\": 20, \"Generation\": 3, \"cluster\": 4}, {\"#\": 302, \"Name\": \"Sableye\", \"Type 1\": \"Dark\", \"Type 2\": \"Ghost\", \"Total\": 380, \"HP\": 50, \"Attack\": 75, \"Defense\": 75, \"SpecialA\": 65, \"SpecialD\": 65, \"Speed\": 50, \"Generation\": 3, \"cluster\": 3}, {\"#\": 302, \"Name\": \"SableyeMega Sableye\", \"Type 1\": \"Dark\", \"Type 2\": \"Ghost\", \"Total\": 480, \"HP\": 50, \"Attack\": 85, \"Defense\": 125, \"SpecialA\": 85, \"SpecialD\": 115, \"Speed\": 20, \"Generation\": 3, \"cluster\": 5}, {\"#\": 303, \"Name\": \"Mawile\", \"Type 1\": \"Steel\", \"Type 2\": \"Fairy\", \"Total\": 380, \"HP\": 50, \"Attack\": 85, \"Defense\": 85, \"SpecialA\": 55, \"SpecialD\": 55, \"Speed\": 50, \"Generation\": 3, \"cluster\": 3}, {\"#\": 303, \"Name\": \"MawileMega Mawile\", \"Type 1\": \"Steel\", \"Type 2\": \"Fairy\", \"Total\": 480, \"HP\": 50, \"Attack\": 105, \"Defense\": 125, \"SpecialA\": 55, \"SpecialD\": 95, \"Speed\": 50, \"Generation\": 3, \"cluster\": 5}, {\"#\": 304, \"Name\": \"Aron\", \"Type 1\": \"Steel\", \"Type 2\": \"Rock\", \"Total\": 330, \"HP\": 50, \"Attack\": 70, \"Defense\": 100, \"SpecialA\": 40, \"SpecialD\": 40, \"Speed\": 30, \"Generation\": 3, \"cluster\": 1}, {\"#\": 305, \"Name\": \"Lairon\", \"Type 1\": \"Steel\", \"Type 2\": \"Rock\", \"Total\": 430, \"HP\": 60, \"Attack\": 90, \"Defense\": 140, \"SpecialA\": 50, \"SpecialD\": 50, \"Speed\": 40, \"Generation\": 3, \"cluster\": 3}, {\"#\": 306, \"Name\": \"Aggron\", \"Type 1\": \"Steel\", \"Type 2\": \"Rock\", \"Total\": 530, \"HP\": 70, \"Attack\": 110, \"Defense\": 180, \"SpecialA\": 60, \"SpecialD\": 60, \"Speed\": 50, \"Generation\": 3, \"cluster\": 0}, {\"#\": 307, \"Name\": \"Meditite\", \"Type 1\": \"Fighting\", \"Type 2\": \"Psychic\", \"Total\": 280, \"HP\": 30, \"Attack\": 40, \"Defense\": 55, \"SpecialA\": 40, \"SpecialD\": 55, \"Speed\": 60, \"Generation\": 3, \"cluster\": 4}, {\"#\": 308, \"Name\": \"Medicham\", \"Type 1\": \"Fighting\", \"Type 2\": \"Psychic\", \"Total\": 410, \"HP\": 60, \"Attack\": 60, \"Defense\": 75, \"SpecialA\": 60, \"SpecialD\": 75, \"Speed\": 80, \"Generation\": 3, \"cluster\": 3}, {\"#\": 308, \"Name\": \"MedichamMega Medicham\", \"Type 1\": \"Fighting\", \"Type 2\": \"Psychic\", \"Total\": 510, \"HP\": 60, \"Attack\": 100, \"Defense\": 85, \"SpecialA\": 80, \"SpecialD\": 85, \"Speed\": 100, \"Generation\": 3, \"cluster\": 0}, {\"#\": 315, \"Name\": \"Roselia\", \"Type 1\": \"Grass\", \"Type 2\": \"Poison\", \"Total\": 400, \"HP\": 50, \"Attack\": 60, \"Defense\": 45, \"SpecialA\": 100, \"SpecialD\": 80, \"Speed\": 65, \"Generation\": 3, \"cluster\": 3}, {\"#\": 318, \"Name\": \"Carvanha\", \"Type 1\": \"Water\", \"Type 2\": \"Dark\", \"Total\": 305, \"HP\": 45, \"Attack\": 90, \"Defense\": 20, \"SpecialA\": 65, \"SpecialD\": 20, \"Speed\": 65, \"Generation\": 3, \"cluster\": 1}, {\"#\": 319, \"Name\": \"Sharpedo\", \"Type 1\": \"Water\", \"Type 2\": \"Dark\", \"Total\": 460, \"HP\": 70, \"Attack\": 120, \"Defense\": 40, \"SpecialA\": 95, \"SpecialD\": 40, \"Speed\": 95, \"Generation\": 3, \"cluster\": 5}, {\"#\": 319, \"Name\": \"SharpedoMega Sharpedo\", \"Type 1\": \"Water\", \"Type 2\": \"Dark\", \"Total\": 560, \"HP\": 70, \"Attack\": 140, \"Defense\": 70, \"SpecialA\": 110, \"SpecialD\": 65, \"Speed\": 105, \"Generation\": 3, \"cluster\": 0}, {\"#\": 322, \"Name\": \"Numel\", \"Type 1\": \"Fire\", \"Type 2\": \"Ground\", \"Total\": 305, \"HP\": 60, \"Attack\": 60, \"Defense\": 40, \"SpecialA\": 65, \"SpecialD\": 45, \"Speed\": 35, \"Generation\": 3, \"cluster\": 1}, {\"#\": 323, \"Name\": \"Camerupt\", \"Type 1\": \"Fire\", \"Type 2\": \"Ground\", \"Total\": 460, \"HP\": 70, \"Attack\": 100, \"Defense\": 70, \"SpecialA\": 105, \"SpecialD\": 75, \"Speed\": 40, \"Generation\": 3, \"cluster\": 5}, {\"#\": 323, \"Name\": \"CameruptMega Camerupt\", \"Type 1\": \"Fire\", \"Type 2\": \"Ground\", \"Total\": 560, \"HP\": 70, \"Attack\": 120, \"Defense\": 100, \"SpecialA\": 145, \"SpecialD\": 105, \"Speed\": 20, \"Generation\": 3, \"cluster\": 0}, {\"#\": 329, \"Name\": \"Vibrava\", \"Type 1\": \"Ground\", \"Type 2\": \"Dragon\", \"Total\": 340, \"HP\": 50, \"Attack\": 70, \"Defense\": 50, \"SpecialA\": 50, \"SpecialD\": 50, \"Speed\": 70, \"Generation\": 3, \"cluster\": 1}, {\"#\": 330, \"Name\": \"Flygon\", \"Type 1\": \"Ground\", \"Type 2\": \"Dragon\", \"Total\": 520, \"HP\": 80, \"Attack\": 100, \"Defense\": 80, \"SpecialA\": 80, \"SpecialD\": 80, \"Speed\": 100, \"Generation\": 3, \"cluster\": 0}, {\"#\": 332, \"Name\": \"Cacturne\", \"Type 1\": \"Grass\", \"Type 2\": \"Dark\", \"Total\": 475, \"HP\": 70, \"Attack\": 115, \"Defense\": 60, \"SpecialA\": 115, \"SpecialD\": 60, \"Speed\": 55, \"Generation\": 3, \"cluster\": 5}, {\"#\": 333, \"Name\": \"Swablu\", \"Type 1\": \"Normal\", \"Type 2\": \"Flying\", \"Total\": 310, \"HP\": 45, \"Attack\": 40, \"Defense\": 60, \"SpecialA\": 40, \"SpecialD\": 75, \"Speed\": 50, \"Generation\": 3, \"cluster\": 1}, {\"#\": 334, \"Name\": \"Altaria\", \"Type 1\": \"Dragon\", \"Type 2\": \"Flying\", \"Total\": 490, \"HP\": 75, \"Attack\": 70, \"Defense\": 90, \"SpecialA\": 70, \"SpecialD\": 105, \"Speed\": 80, \"Generation\": 3, \"cluster\": 0}, {\"#\": 334, \"Name\": \"AltariaMega Altaria\", \"Type 1\": \"Dragon\", \"Type 2\": \"Fairy\", \"Total\": 590, \"HP\": 75, \"Attack\": 110, \"Defense\": 110, \"SpecialA\": 110, \"SpecialD\": 105, \"Speed\": 80, \"Generation\": 3, \"cluster\": 2}, {\"#\": 337, \"Name\": \"Lunatone\", \"Type 1\": \"Rock\", \"Type 2\": \"Psychic\", \"Total\": 440, \"HP\": 70, \"Attack\": 55, \"Defense\": 65, \"SpecialA\": 95, \"SpecialD\": 85, \"Speed\": 70, \"Generation\": 3, \"cluster\": 3}, {\"#\": 338, \"Name\": \"Solrock\", \"Type 1\": \"Rock\", \"Type 2\": \"Psychic\", \"Total\": 440, \"HP\": 70, \"Attack\": 95, \"Defense\": 85, \"SpecialA\": 55, \"SpecialD\": 65, \"Speed\": 70, \"Generation\": 3, \"cluster\": 3}, {\"#\": 339, \"Name\": \"Barboach\", \"Type 1\": \"Water\", \"Type 2\": \"Ground\", \"Total\": 288, \"HP\": 50, \"Attack\": 48, \"Defense\": 43, \"SpecialA\": 46, \"SpecialD\": 41, \"Speed\": 60, \"Generation\": 3, \"cluster\": 1}, {\"#\": 340, \"Name\": \"Whiscash\", \"Type 1\": \"Water\", \"Type 2\": \"Ground\", \"Total\": 468, \"HP\": 110, \"Attack\": 78, \"Defense\": 73, \"SpecialA\": 76, \"SpecialD\": 71, \"Speed\": 60, \"Generation\": 3, \"cluster\": 5}, {\"#\": 342, \"Name\": \"Crawdaunt\", \"Type 1\": \"Water\", \"Type 2\": \"Dark\", \"Total\": 468, \"HP\": 63, \"Attack\": 120, \"Defense\": 85, \"SpecialA\": 90, \"SpecialD\": 55, \"Speed\": 55, \"Generation\": 3, \"cluster\": 5}, {\"#\": 343, \"Name\": \"Baltoy\", \"Type 1\": \"Ground\", \"Type 2\": \"Psychic\", \"Total\": 300, \"HP\": 40, \"Attack\": 40, \"Defense\": 55, \"SpecialA\": 40, \"SpecialD\": 70, \"Speed\": 55, \"Generation\": 3, \"cluster\": 1}, {\"#\": 344, \"Name\": \"Claydol\", \"Type 1\": \"Ground\", \"Type 2\": \"Psychic\", \"Total\": 500, \"HP\": 60, \"Attack\": 70, \"Defense\": 105, \"SpecialA\": 70, \"SpecialD\": 120, \"Speed\": 75, \"Generation\": 3, \"cluster\": 0}, {\"#\": 345, \"Name\": \"Lileep\", \"Type 1\": \"Rock\", \"Type 2\": \"Grass\", \"Total\": 355, \"HP\": 66, \"Attack\": 41, \"Defense\": 77, \"SpecialA\": 61, \"SpecialD\": 87, \"Speed\": 23, \"Generation\": 3, \"cluster\": 1}, {\"#\": 346, \"Name\": \"Cradily\", \"Type 1\": \"Rock\", \"Type 2\": \"Grass\", \"Total\": 495, \"HP\": 86, \"Attack\": 81, \"Defense\": 97, \"SpecialA\": 81, \"SpecialD\": 107, \"Speed\": 43, \"Generation\": 3, \"cluster\": 5}, {\"#\": 347, \"Name\": \"Anorith\", \"Type 1\": \"Rock\", \"Type 2\": \"Bug\", \"Total\": 355, \"HP\": 45, \"Attack\": 95, \"Defense\": 50, \"SpecialA\": 40, \"SpecialD\": 50, \"Speed\": 75, \"Generation\": 3, \"cluster\": 1}, {\"#\": 348, \"Name\": \"Armaldo\", \"Type 1\": \"Rock\", \"Type 2\": \"Bug\", \"Total\": 495, \"HP\": 75, \"Attack\": 125, \"Defense\": 100, \"SpecialA\": 70, \"SpecialD\": 80, \"Speed\": 45, \"Generation\": 3, \"cluster\": 5}, {\"#\": 357, \"Name\": \"Tropius\", \"Type 1\": \"Grass\", \"Type 2\": \"Flying\", \"Total\": 460, \"HP\": 99, \"Attack\": 68, \"Defense\": 83, \"SpecialA\": 72, \"SpecialD\": 87, \"Speed\": 51, \"Generation\": 3, \"cluster\": 5}, {\"#\": 363, \"Name\": \"Spheal\", \"Type 1\": \"Ice\", \"Type 2\": \"Water\", \"Total\": 290, \"HP\": 70, \"Attack\": 40, \"Defense\": 50, \"SpecialA\": 55, \"SpecialD\": 50, \"Speed\": 25, \"Generation\": 3, \"cluster\": 1}, {\"#\": 364, \"Name\": \"Sealeo\", \"Type 1\": \"Ice\", \"Type 2\": \"Water\", \"Total\": 410, \"HP\": 90, \"Attack\": 60, \"Defense\": 70, \"SpecialA\": 75, \"SpecialD\": 70, \"Speed\": 45, \"Generation\": 3, \"cluster\": 3}, {\"#\": 365, \"Name\": \"Walrein\", \"Type 1\": \"Ice\", \"Type 2\": \"Water\", \"Total\": 530, \"HP\": 110, \"Attack\": 80, \"Defense\": 90, \"SpecialA\": 95, \"SpecialD\": 90, \"Speed\": 65, \"Generation\": 3, \"cluster\": 0}, {\"#\": 369, \"Name\": \"Relicanth\", \"Type 1\": \"Water\", \"Type 2\": \"Rock\", \"Total\": 485, \"HP\": 100, \"Attack\": 90, \"Defense\": 130, \"SpecialA\": 45, \"SpecialD\": 65, \"Speed\": 55, \"Generation\": 3, \"cluster\": 5}, {\"#\": 373, \"Name\": \"Salamence\", \"Type 1\": \"Dragon\", \"Type 2\": \"Flying\", \"Total\": 600, \"HP\": 95, \"Attack\": 135, \"Defense\": 80, \"SpecialA\": 110, \"SpecialD\": 80, \"Speed\": 100, \"Generation\": 3, \"cluster\": 2}, {\"#\": 373, \"Name\": \"SalamenceMega Salamence\", \"Type 1\": \"Dragon\", \"Type 2\": \"Flying\", \"Total\": 700, \"HP\": 95, \"Attack\": 145, \"Defense\": 130, \"SpecialA\": 120, \"SpecialD\": 90, \"Speed\": 120, \"Generation\": 3, \"cluster\": 2}, {\"#\": 374, \"Name\": \"Beldum\", \"Type 1\": \"Steel\", \"Type 2\": \"Psychic\", \"Total\": 300, \"HP\": 40, \"Attack\": 55, \"Defense\": 80, \"SpecialA\": 35, \"SpecialD\": 60, \"Speed\": 30, \"Generation\": 3, \"cluster\": 1}, {\"#\": 375, \"Name\": \"Metang\", \"Type 1\": \"Steel\", \"Type 2\": \"Psychic\", \"Total\": 420, \"HP\": 60, \"Attack\": 75, \"Defense\": 100, \"SpecialA\": 55, \"SpecialD\": 80, \"Speed\": 50, \"Generation\": 3, \"cluster\": 3}, {\"#\": 376, \"Name\": \"Metagross\", \"Type 1\": \"Steel\", \"Type 2\": \"Psychic\", \"Total\": 600, \"HP\": 80, \"Attack\": 135, \"Defense\": 130, \"SpecialA\": 95, \"SpecialD\": 90, \"Speed\": 70, \"Generation\": 3, \"cluster\": 2}, {\"#\": 376, \"Name\": \"MetagrossMega Metagross\", \"Type 1\": \"Steel\", \"Type 2\": \"Psychic\", \"Total\": 700, \"HP\": 80, \"Attack\": 145, \"Defense\": 150, \"SpecialA\": 105, \"SpecialD\": 110, \"Speed\": 110, \"Generation\": 3, \"cluster\": 2}, {\"#\": 389, \"Name\": \"Torterra\", \"Type 1\": \"Grass\", \"Type 2\": \"Ground\", \"Total\": 525, \"HP\": 95, \"Attack\": 109, \"Defense\": 105, \"SpecialA\": 75, \"SpecialD\": 85, \"Speed\": 56, \"Generation\": 4, \"cluster\": 0}, {\"#\": 391, \"Name\": \"Monferno\", \"Type 1\": \"Fire\", \"Type 2\": \"Fighting\", \"Total\": 405, \"HP\": 64, \"Attack\": 78, \"Defense\": 52, \"SpecialA\": 78, \"SpecialD\": 52, \"Speed\": 81, \"Generation\": 4, \"cluster\": 3}, {\"#\": 392, \"Name\": \"Infernape\", \"Type 1\": \"Fire\", \"Type 2\": \"Fighting\", \"Total\": 534, \"HP\": 76, \"Attack\": 104, \"Defense\": 71, \"SpecialA\": 104, \"SpecialD\": 71, \"Speed\": 108, \"Generation\": 4, \"cluster\": 0}, {\"#\": 395, \"Name\": \"Empoleon\", \"Type 1\": \"Water\", \"Type 2\": \"Steel\", \"Total\": 530, \"HP\": 84, \"Attack\": 86, \"Defense\": 88, \"SpecialA\": 111, \"SpecialD\": 101, \"Speed\": 60, \"Generation\": 4, \"cluster\": 0}, {\"#\": 396, \"Name\": \"Starly\", \"Type 1\": \"Normal\", \"Type 2\": \"Flying\", \"Total\": 245, \"HP\": 40, \"Attack\": 55, \"Defense\": 30, \"SpecialA\": 30, \"SpecialD\": 30, \"Speed\": 60, \"Generation\": 4, \"cluster\": 4}, {\"#\": 397, \"Name\": \"Staravia\", \"Type 1\": \"Normal\", \"Type 2\": \"Flying\", \"Total\": 340, \"HP\": 55, \"Attack\": 75, \"Defense\": 50, \"SpecialA\": 40, \"SpecialD\": 40, \"Speed\": 80, \"Generation\": 4, \"cluster\": 1}, {\"#\": 398, \"Name\": \"Staraptor\", \"Type 1\": \"Normal\", \"Type 2\": \"Flying\", \"Total\": 485, \"HP\": 85, \"Attack\": 120, \"Defense\": 70, \"SpecialA\": 50, \"SpecialD\": 60, \"Speed\": 100, \"Generation\": 4, \"cluster\": 0}, {\"#\": 400, \"Name\": \"Bibarel\", \"Type 1\": \"Normal\", \"Type 2\": \"Water\", \"Total\": 410, \"HP\": 79, \"Attack\": 85, \"Defense\": 60, \"SpecialA\": 55, \"SpecialD\": 60, \"Speed\": 71, \"Generation\": 4, \"cluster\": 3}, {\"#\": 406, \"Name\": \"Budew\", \"Type 1\": \"Grass\", \"Type 2\": \"Poison\", \"Total\": 280, \"HP\": 40, \"Attack\": 30, \"Defense\": 35, \"SpecialA\": 50, \"SpecialD\": 70, \"Speed\": 55, \"Generation\": 4, \"cluster\": 4}, {\"#\": 407, \"Name\": \"Roserade\", \"Type 1\": \"Grass\", \"Type 2\": \"Poison\", \"Total\": 515, \"HP\": 60, \"Attack\": 70, \"Defense\": 65, \"SpecialA\": 125, \"SpecialD\": 105, \"Speed\": 90, \"Generation\": 4, \"cluster\": 0}, {\"#\": 410, \"Name\": \"Shieldon\", \"Type 1\": \"Rock\", \"Type 2\": \"Steel\", \"Total\": 350, \"HP\": 30, \"Attack\": 42, \"Defense\": 118, \"SpecialA\": 42, \"SpecialD\": 88, \"Speed\": 30, \"Generation\": 4, \"cluster\": 1}, {\"#\": 411, \"Name\": \"Bastiodon\", \"Type 1\": \"Rock\", \"Type 2\": \"Steel\", \"Total\": 495, \"HP\": 60, \"Attack\": 52, \"Defense\": 168, \"SpecialA\": 47, \"SpecialD\": 138, \"Speed\": 30, \"Generation\": 4, \"cluster\": 5}, {\"#\": 413, \"Name\": \"WormadamPlant Cloak\", \"Type 1\": \"Bug\", \"Type 2\": \"Grass\", \"Total\": 424, \"HP\": 60, \"Attack\": 59, \"Defense\": 85, \"SpecialA\": 79, \"SpecialD\": 105, \"Speed\": 36, \"Generation\": 4, \"cluster\": 3}, {\"#\": 413, \"Name\": \"WormadamSandy Cloak\", \"Type 1\": \"Bug\", \"Type 2\": \"Ground\", \"Total\": 424, \"HP\": 60, \"Attack\": 79, \"Defense\": 105, \"SpecialA\": 59, \"SpecialD\": 85, \"Speed\": 36, \"Generation\": 4, \"cluster\": 3}, {\"#\": 413, \"Name\": \"WormadamTrash Cloak\", \"Type 1\": \"Bug\", \"Type 2\": \"Steel\", \"Total\": 424, \"HP\": 60, \"Attack\": 69, \"Defense\": 95, \"SpecialA\": 69, \"SpecialD\": 95, \"Speed\": 36, \"Generation\": 4, \"cluster\": 3}, {\"#\": 414, \"Name\": \"Mothim\", \"Type 1\": \"Bug\", \"Type 2\": \"Flying\", \"Total\": 424, \"HP\": 70, \"Attack\": 94, \"Defense\": 50, \"SpecialA\": 94, \"SpecialD\": 50, \"Speed\": 66, \"Generation\": 4, \"cluster\": 3}, {\"#\": 415, \"Name\": \"Combee\", \"Type 1\": \"Bug\", \"Type 2\": \"Flying\", \"Total\": 244, \"HP\": 30, \"Attack\": 30, \"Defense\": 42, \"SpecialA\": 30, \"SpecialD\": 42, \"Speed\": 70, \"Generation\": 4, \"cluster\": 4}, {\"#\": 416, \"Name\": \"Vespiquen\", \"Type 1\": \"Bug\", \"Type 2\": \"Flying\", \"Total\": 474, \"HP\": 70, \"Attack\": 80, \"Defense\": 102, \"SpecialA\": 80, \"SpecialD\": 102, \"Speed\": 40, \"Generation\": 4, \"cluster\": 5}, {\"#\": 423, \"Name\": \"Gastrodon\", \"Type 1\": \"Water\", \"Type 2\": \"Ground\", \"Total\": 475, \"HP\": 111, \"Attack\": 83, \"Defense\": 68, \"SpecialA\": 92, \"SpecialD\": 82, \"Speed\": 39, \"Generation\": 4, \"cluster\": 5}, {\"#\": 425, \"Name\": \"Drifloon\", \"Type 1\": \"Ghost\", \"Type 2\": \"Flying\", \"Total\": 348, \"HP\": 90, \"Attack\": 50, \"Defense\": 34, \"SpecialA\": 60, \"SpecialD\": 44, \"Speed\": 70, \"Generation\": 4, \"cluster\": 1}, {\"#\": 426, \"Name\": \"Drifblim\", \"Type 1\": \"Ghost\", \"Type 2\": \"Flying\", \"Total\": 498, \"HP\": 150, \"Attack\": 80, \"Defense\": 44, \"SpecialA\": 90, \"SpecialD\": 54, \"Speed\": 80, \"Generation\": 4, \"cluster\": 0}, {\"#\": 428, \"Name\": \"LopunnyMega Lopunny\", \"Type 1\": \"Normal\", \"Type 2\": \"Fighting\", \"Total\": 580, \"HP\": 65, \"Attack\": 136, \"Defense\": 94, \"SpecialA\": 54, \"SpecialD\": 96, \"Speed\": 135, \"Generation\": 4, \"cluster\": 2}, {\"#\": 430, \"Name\": \"Honchkrow\", \"Type 1\": \"Dark\", \"Type 2\": \"Flying\", \"Total\": 505, \"HP\": 100, \"Attack\": 125, \"Defense\": 52, \"SpecialA\": 105, \"SpecialD\": 52, \"Speed\": 71, \"Generation\": 4, \"cluster\": 0}, {\"#\": 434, \"Name\": \"Stunky\", \"Type 1\": \"Poison\", \"Type 2\": \"Dark\", \"Total\": 329, \"HP\": 63, \"Attack\": 63, \"Defense\": 47, \"SpecialA\": 41, \"SpecialD\": 41, \"Speed\": 74, \"Generation\": 4, \"cluster\": 1}, {\"#\": 435, \"Name\": \"Skuntank\", \"Type 1\": \"Poison\", \"Type 2\": \"Dark\", \"Total\": 479, \"HP\": 103, \"Attack\": 93, \"Defense\": 67, \"SpecialA\": 71, \"SpecialD\": 61, \"Speed\": 84, \"Generation\": 4, \"cluster\": 5}, {\"#\": 436, \"Name\": \"Bronzor\", \"Type 1\": \"Steel\", \"Type 2\": \"Psychic\", \"Total\": 300, \"HP\": 57, \"Attack\": 24, \"Defense\": 86, \"SpecialA\": 24, \"SpecialD\": 86, \"Speed\": 23, \"Generation\": 4, \"cluster\": 1}, {\"#\": 437, \"Name\": \"Bronzong\", \"Type 1\": \"Steel\", \"Type 2\": \"Psychic\", \"Total\": 500, \"HP\": 67, \"Attack\": 89, \"Defense\": 116, \"SpecialA\": 79, \"SpecialD\": 116, \"Speed\": 33, \"Generation\": 4, \"cluster\": 5}, {\"#\": 439, \"Name\": \"Mime Jr.\", \"Type 1\": \"Psychic\", \"Type 2\": \"Fairy\", \"Total\": 310, \"HP\": 20, \"Attack\": 25, \"Defense\": 45, \"SpecialA\": 70, \"SpecialD\": 90, \"Speed\": 60, \"Generation\": 4, \"cluster\": 1}, {\"#\": 441, \"Name\": \"Chatot\", \"Type 1\": \"Normal\", \"Type 2\": \"Flying\", \"Total\": 411, \"HP\": 76, \"Attack\": 65, \"Defense\": 45, \"SpecialA\": 92, \"SpecialD\": 42, \"Speed\": 91, \"Generation\": 4, \"cluster\": 3}, {\"#\": 442, \"Name\": \"Spiritomb\", \"Type 1\": \"Ghost\", \"Type 2\": \"Dark\", \"Total\": 485, \"HP\": 50, \"Attack\": 92, \"Defense\": 108, \"SpecialA\": 92, \"SpecialD\": 108, \"Speed\": 35, \"Generation\": 4, \"cluster\": 5}, {\"#\": 443, \"Name\": \"Gible\", \"Type 1\": \"Dragon\", \"Type 2\": \"Ground\", \"Total\": 300, \"HP\": 58, \"Attack\": 70, \"Defense\": 45, \"SpecialA\": 40, \"SpecialD\": 45, \"Speed\": 42, \"Generation\": 4, \"cluster\": 1}, {\"#\": 444, \"Name\": \"Gabite\", \"Type 1\": \"Dragon\", \"Type 2\": \"Ground\", \"Total\": 410, \"HP\": 68, \"Attack\": 90, \"Defense\": 65, \"SpecialA\": 50, \"SpecialD\": 55, \"Speed\": 82, \"Generation\": 4, \"cluster\": 3}, {\"#\": 445, \"Name\": \"Garchomp\", \"Type 1\": \"Dragon\", \"Type 2\": \"Ground\", \"Total\": 600, \"HP\": 108, \"Attack\": 130, \"Defense\": 95, \"SpecialA\": 80, \"SpecialD\": 85, \"Speed\": 102, \"Generation\": 4, \"cluster\": 2}, {\"#\": 445, \"Name\": \"GarchompMega Garchomp\", \"Type 1\": \"Dragon\", \"Type 2\": \"Ground\", \"Total\": 700, \"HP\": 108, \"Attack\": 170, \"Defense\": 115, \"SpecialA\": 120, \"SpecialD\": 95, \"Speed\": 92, \"Generation\": 4, \"cluster\": 2}, {\"#\": 448, \"Name\": \"Lucario\", \"Type 1\": \"Fighting\", \"Type 2\": \"Steel\", \"Total\": 525, \"HP\": 70, \"Attack\": 110, \"Defense\": 70, \"SpecialA\": 115, \"SpecialD\": 70, \"Speed\": 90, \"Generation\": 4, \"cluster\": 0}, {\"#\": 448, \"Name\": \"LucarioMega Lucario\", \"Type 1\": \"Fighting\", \"Type 2\": \"Steel\", \"Total\": 625, \"HP\": 70, \"Attack\": 145, \"Defense\": 88, \"SpecialA\": 140, \"SpecialD\": 70, \"Speed\": 112, \"Generation\": 4, \"cluster\": 2}, {\"#\": 451, \"Name\": \"Skorupi\", \"Type 1\": \"Poison\", \"Type 2\": \"Bug\", \"Total\": 330, \"HP\": 40, \"Attack\": 50, \"Defense\": 90, \"SpecialA\": 30, \"SpecialD\": 55, \"Speed\": 65, \"Generation\": 4, \"cluster\": 1}, {\"#\": 452, \"Name\": \"Drapion\", \"Type 1\": \"Poison\", \"Type 2\": \"Dark\", \"Total\": 500, \"HP\": 70, \"Attack\": 90, \"Defense\": 110, \"SpecialA\": 60, \"SpecialD\": 75, \"Speed\": 95, \"Generation\": 4, \"cluster\": 0}, {\"#\": 453, \"Name\": \"Croagunk\", \"Type 1\": \"Poison\", \"Type 2\": \"Fighting\", \"Total\": 300, \"HP\": 48, \"Attack\": 61, \"Defense\": 40, \"SpecialA\": 61, \"SpecialD\": 40, \"Speed\": 50, \"Generation\": 4, \"cluster\": 1}, {\"#\": 454, \"Name\": \"Toxicroak\", \"Type 1\": \"Poison\", \"Type 2\": \"Fighting\", \"Total\": 490, \"HP\": 83, \"Attack\": 106, \"Defense\": 65, \"SpecialA\": 86, \"SpecialD\": 65, \"Speed\": 85, \"Generation\": 4, \"cluster\": 0}, {\"#\": 458, \"Name\": \"Mantyke\", \"Type 1\": \"Water\", \"Type 2\": \"Flying\", \"Total\": 345, \"HP\": 45, \"Attack\": 20, \"Defense\": 50, \"SpecialA\": 60, \"SpecialD\": 120, \"Speed\": 50, \"Generation\": 4, \"cluster\": 1}, {\"#\": 459, \"Name\": \"Snover\", \"Type 1\": \"Grass\", \"Type 2\": \"Ice\", \"Total\": 334, \"HP\": 60, \"Attack\": 62, \"Defense\": 50, \"SpecialA\": 62, \"SpecialD\": 60, \"Speed\": 40, \"Generation\": 4, \"cluster\": 1}, {\"#\": 460, \"Name\": \"Abomasnow\", \"Type 1\": \"Grass\", \"Type 2\": \"Ice\", \"Total\": 494, \"HP\": 90, \"Attack\": 92, \"Defense\": 75, \"SpecialA\": 92, \"SpecialD\": 85, \"Speed\": 60, \"Generation\": 4, \"cluster\": 5}, {\"#\": 460, \"Name\": \"AbomasnowMega Abomasnow\", \"Type 1\": \"Grass\", \"Type 2\": \"Ice\", \"Total\": 594, \"HP\": 90, \"Attack\": 132, \"Defense\": 105, \"SpecialA\": 132, \"SpecialD\": 105, \"Speed\": 30, \"Generation\": 4, \"cluster\": 2}, {\"#\": 461, \"Name\": \"Weavile\", \"Type 1\": \"Dark\", \"Type 2\": \"Ice\", \"Total\": 510, \"HP\": 70, \"Attack\": 120, \"Defense\": 65, \"SpecialA\": 45, \"SpecialD\": 85, \"Speed\": 125, \"Generation\": 4, \"cluster\": 0}, {\"#\": 462, \"Name\": \"Magnezone\", \"Type 1\": \"Electric\", \"Type 2\": \"Steel\", \"Total\": 535, \"HP\": 70, \"Attack\": 70, \"Defense\": 115, \"SpecialA\": 130, \"SpecialD\": 90, \"Speed\": 60, \"Generation\": 4, \"cluster\": 0}, {\"#\": 464, \"Name\": \"Rhyperior\", \"Type 1\": \"Ground\", \"Type 2\": \"Rock\", \"Total\": 535, \"HP\": 115, \"Attack\": 140, \"Defense\": 130, \"SpecialA\": 55, \"SpecialD\": 55, \"Speed\": 40, \"Generation\": 4, \"cluster\": 0}, {\"#\": 468, \"Name\": \"Togekiss\", \"Type 1\": \"Fairy\", \"Type 2\": \"Flying\", \"Total\": 545, \"HP\": 85, \"Attack\": 50, \"Defense\": 95, \"SpecialA\": 120, \"SpecialD\": 115, \"Speed\": 80, \"Generation\": 4, \"cluster\": 0}, {\"#\": 469, \"Name\": \"Yanmega\", \"Type 1\": \"Bug\", \"Type 2\": \"Flying\", \"Total\": 515, \"HP\": 86, \"Attack\": 76, \"Defense\": 86, \"SpecialA\": 116, \"SpecialD\": 56, \"Speed\": 95, \"Generation\": 4, \"cluster\": 0}, {\"#\": 472, \"Name\": \"Gliscor\", \"Type 1\": \"Ground\", \"Type 2\": \"Flying\", \"Total\": 510, \"HP\": 75, \"Attack\": 95, \"Defense\": 125, \"SpecialA\": 45, \"SpecialD\": 75, \"Speed\": 95, \"Generation\": 4, \"cluster\": 0}, {\"#\": 473, \"Name\": \"Mamoswine\", \"Type 1\": \"Ice\", \"Type 2\": \"Ground\", \"Total\": 530, \"HP\": 110, \"Attack\": 130, \"Defense\": 80, \"SpecialA\": 70, \"SpecialD\": 60, \"Speed\": 80, \"Generation\": 4, \"cluster\": 0}, {\"#\": 475, \"Name\": \"Gallade\", \"Type 1\": \"Psychic\", \"Type 2\": \"Fighting\", \"Total\": 518, \"HP\": 68, \"Attack\": 125, \"Defense\": 65, \"SpecialA\": 65, \"SpecialD\": 115, \"Speed\": 80, \"Generation\": 4, \"cluster\": 0}, {\"#\": 475, \"Name\": \"GalladeMega Gallade\", \"Type 1\": \"Psychic\", \"Type 2\": \"Fighting\", \"Total\": 618, \"HP\": 68, \"Attack\": 165, \"Defense\": 95, \"SpecialA\": 65, \"SpecialD\": 115, \"Speed\": 110, \"Generation\": 4, \"cluster\": 2}, {\"#\": 476, \"Name\": \"Probopass\", \"Type 1\": \"Rock\", \"Type 2\": \"Steel\", \"Total\": 525, \"HP\": 60, \"Attack\": 55, \"Defense\": 145, \"SpecialA\": 75, \"SpecialD\": 150, \"Speed\": 40, \"Generation\": 4, \"cluster\": 0}, {\"#\": 478, \"Name\": \"Froslass\", \"Type 1\": \"Ice\", \"Type 2\": \"Ghost\", \"Total\": 480, \"HP\": 70, \"Attack\": 80, \"Defense\": 70, \"SpecialA\": 80, \"SpecialD\": 70, \"Speed\": 110, \"Generation\": 4, \"cluster\": 0}, {\"#\": 479, \"Name\": \"Rotom\", \"Type 1\": \"Electric\", \"Type 2\": \"Ghost\", \"Total\": 440, \"HP\": 50, \"Attack\": 50, \"Defense\": 77, \"SpecialA\": 95, \"SpecialD\": 77, \"Speed\": 91, \"Generation\": 4, \"cluster\": 3}, {\"#\": 479, \"Name\": \"RotomHeat Rotom\", \"Type 1\": \"Electric\", \"Type 2\": \"Fire\", \"Total\": 520, \"HP\": 50, \"Attack\": 65, \"Defense\": 107, \"SpecialA\": 105, \"SpecialD\": 107, \"Speed\": 86, \"Generation\": 4, \"cluster\": 0}, {\"#\": 479, \"Name\": \"RotomWash Rotom\", \"Type 1\": \"Electric\", \"Type 2\": \"Water\", \"Total\": 520, \"HP\": 50, \"Attack\": 65, \"Defense\": 107, \"SpecialA\": 105, \"SpecialD\": 107, \"Speed\": 86, \"Generation\": 4, \"cluster\": 0}, {\"#\": 479, \"Name\": \"RotomFrost Rotom\", \"Type 1\": \"Electric\", \"Type 2\": \"Ice\", \"Total\": 520, \"HP\": 50, \"Attack\": 65, \"Defense\": 107, \"SpecialA\": 105, \"SpecialD\": 107, \"Speed\": 86, \"Generation\": 4, \"cluster\": 0}, {\"#\": 479, \"Name\": \"RotomFan Rotom\", \"Type 1\": \"Electric\", \"Type 2\": \"Flying\", \"Total\": 520, \"HP\": 50, \"Attack\": 65, \"Defense\": 107, \"SpecialA\": 105, \"SpecialD\": 107, \"Speed\": 86, \"Generation\": 4, \"cluster\": 0}, {\"#\": 479, \"Name\": \"RotomMow Rotom\", \"Type 1\": \"Electric\", \"Type 2\": \"Grass\", \"Total\": 520, \"HP\": 50, \"Attack\": 65, \"Defense\": 107, \"SpecialA\": 105, \"SpecialD\": 107, \"Speed\": 86, \"Generation\": 4, \"cluster\": 0}, {\"#\": 499, \"Name\": \"Pignite\", \"Type 1\": \"Fire\", \"Type 2\": \"Fighting\", \"Total\": 418, \"HP\": 90, \"Attack\": 93, \"Defense\": 55, \"SpecialA\": 70, \"SpecialD\": 55, \"Speed\": 55, \"Generation\": 5, \"cluster\": 3}, {\"#\": 500, \"Name\": \"Emboar\", \"Type 1\": \"Fire\", \"Type 2\": \"Fighting\", \"Total\": 528, \"HP\": 110, \"Attack\": 123, \"Defense\": 65, \"SpecialA\": 100, \"SpecialD\": 65, \"Speed\": 65, \"Generation\": 5, \"cluster\": 0}, {\"#\": 519, \"Name\": \"Pidove\", \"Type 1\": \"Normal\", \"Type 2\": \"Flying\", \"Total\": 264, \"HP\": 50, \"Attack\": 55, \"Defense\": 50, \"SpecialA\": 36, \"SpecialD\": 30, \"Speed\": 43, \"Generation\": 5, \"cluster\": 4}, {\"#\": 520, \"Name\": \"Tranquill\", \"Type 1\": \"Normal\", \"Type 2\": \"Flying\", \"Total\": 358, \"HP\": 62, \"Attack\": 77, \"Defense\": 62, \"SpecialA\": 50, \"SpecialD\": 42, \"Speed\": 65, \"Generation\": 5, \"cluster\": 1}, {\"#\": 521, \"Name\": \"Unfezant\", \"Type 1\": \"Normal\", \"Type 2\": \"Flying\", \"Total\": 488, \"HP\": 80, \"Attack\": 115, \"Defense\": 80, \"SpecialA\": 65, \"SpecialD\": 55, \"Speed\": 93, \"Generation\": 5, \"cluster\": 0}, {\"#\": 527, \"Name\": \"Woobat\", \"Type 1\": \"Psychic\", \"Type 2\": \"Flying\", \"Total\": 313, \"HP\": 55, \"Attack\": 45, \"Defense\": 43, \"SpecialA\": 55, \"SpecialD\": 43, \"Speed\": 72, \"Generation\": 5, \"cluster\": 1}, {\"#\": 528, \"Name\": \"Swoobat\", \"Type 1\": \"Psychic\", \"Type 2\": \"Flying\", \"Total\": 425, \"HP\": 67, \"Attack\": 57, \"Defense\": 55, \"SpecialA\": 77, \"SpecialD\": 55, \"Speed\": 114, \"Generation\": 5, \"cluster\": 3}, {\"#\": 530, \"Name\": \"Excadrill\", \"Type 1\": \"Ground\", \"Type 2\": \"Steel\", \"Total\": 508, \"HP\": 110, \"Attack\": 135, \"Defense\": 60, \"SpecialA\": 50, \"SpecialD\": 65, \"Speed\": 88, \"Generation\": 5, \"cluster\": 0}, {\"#\": 531, \"Name\": \"AudinoMega Audino\", \"Type 1\": \"Normal\", \"Type 2\": \"Fairy\", \"Total\": 545, \"HP\": 103, \"Attack\": 60, \"Defense\": 126, \"SpecialA\": 80, \"SpecialD\": 126, \"Speed\": 50, \"Generation\": 5, \"cluster\": 0}, {\"#\": 536, \"Name\": \"Palpitoad\", \"Type 1\": \"Water\", \"Type 2\": \"Ground\", \"Total\": 384, \"HP\": 75, \"Attack\": 65, \"Defense\": 55, \"SpecialA\": 65, \"SpecialD\": 55, \"Speed\": 69, \"Generation\": 5, \"cluster\": 3}, {\"#\": 537, \"Name\": \"Seismitoad\", \"Type 1\": \"Water\", \"Type 2\": \"Ground\", \"Total\": 509, \"HP\": 105, \"Attack\": 95, \"Defense\": 75, \"SpecialA\": 85, \"SpecialD\": 75, \"Speed\": 74, \"Generation\": 5, \"cluster\": 0}, {\"#\": 540, \"Name\": \"Sewaddle\", \"Type 1\": \"Bug\", \"Type 2\": \"Grass\", \"Total\": 310, \"HP\": 45, \"Attack\": 53, \"Defense\": 70, \"SpecialA\": 40, \"SpecialD\": 60, \"Speed\": 42, \"Generation\": 5, \"cluster\": 1}, {\"#\": 541, \"Name\": \"Swadloon\", \"Type 1\": \"Bug\", \"Type 2\": \"Grass\", \"Total\": 380, \"HP\": 55, \"Attack\": 63, \"Defense\": 90, \"SpecialA\": 50, \"SpecialD\": 80, \"Speed\": 42, \"Generation\": 5, \"cluster\": 3}, {\"#\": 542, \"Name\": \"Leavanny\", \"Type 1\": \"Bug\", \"Type 2\": \"Grass\", \"Total\": 500, \"HP\": 75, \"Attack\": 103, \"Defense\": 80, \"SpecialA\": 70, \"SpecialD\": 80, \"Speed\": 92, \"Generation\": 5, \"cluster\": 0}, {\"#\": 543, \"Name\": \"Venipede\", \"Type 1\": \"Bug\", \"Type 2\": \"Poison\", \"Total\": 260, \"HP\": 30, \"Attack\": 45, \"Defense\": 59, \"SpecialA\": 30, \"SpecialD\": 39, \"Speed\": 57, \"Generation\": 5, \"cluster\": 4}, {\"#\": 544, \"Name\": \"Whirlipede\", \"Type 1\": \"Bug\", \"Type 2\": \"Poison\", \"Total\": 360, \"HP\": 40, \"Attack\": 55, \"Defense\": 99, \"SpecialA\": 40, \"SpecialD\": 79, \"Speed\": 47, \"Generation\": 5, \"cluster\": 1}, {\"#\": 545, \"Name\": \"Scolipede\", \"Type 1\": \"Bug\", \"Type 2\": \"Poison\", \"Total\": 485, \"HP\": 60, \"Attack\": 100, \"Defense\": 89, \"SpecialA\": 55, \"SpecialD\": 69, \"Speed\": 112, \"Generation\": 5, \"cluster\": 0}, {\"#\": 546, \"Name\": \"Cottonee\", \"Type 1\": \"Grass\", \"Type 2\": \"Fairy\", \"Total\": 280, \"HP\": 40, \"Attack\": 27, \"Defense\": 60, \"SpecialA\": 37, \"SpecialD\": 50, \"Speed\": 66, \"Generation\": 5, \"cluster\": 4}, {\"#\": 547, \"Name\": \"Whimsicott\", \"Type 1\": \"Grass\", \"Type 2\": \"Fairy\", \"Total\": 480, \"HP\": 60, \"Attack\": 67, \"Defense\": 85, \"SpecialA\": 77, \"SpecialD\": 75, \"Speed\": 116, \"Generation\": 5, \"cluster\": 0}, {\"#\": 551, \"Name\": \"Sandile\", \"Type 1\": \"Ground\", \"Type 2\": \"Dark\", \"Total\": 292, \"HP\": 50, \"Attack\": 72, \"Defense\": 35, \"SpecialA\": 35, \"SpecialD\": 35, \"Speed\": 65, \"Generation\": 5, \"cluster\": 1}, {\"#\": 552, \"Name\": \"Krokorok\", \"Type 1\": \"Ground\", \"Type 2\": \"Dark\", \"Total\": 351, \"HP\": 60, \"Attack\": 82, \"Defense\": 45, \"SpecialA\": 45, \"SpecialD\": 45, \"Speed\": 74, \"Generation\": 5, \"cluster\": 1}, {\"#\": 553, \"Name\": \"Krookodile\", \"Type 1\": \"Ground\", \"Type 2\": \"Dark\", \"Total\": 519, \"HP\": 95, \"Attack\": 117, \"Defense\": 80, \"SpecialA\": 65, \"SpecialD\": 70, \"Speed\": 92, \"Generation\": 5, \"cluster\": 0}, {\"#\": 555, \"Name\": \"DarmanitanZen Mode\", \"Type 1\": \"Fire\", \"Type 2\": \"Psychic\", \"Total\": 540, \"HP\": 105, \"Attack\": 30, \"Defense\": 105, \"SpecialA\": 140, \"SpecialD\": 105, \"Speed\": 55, \"Generation\": 5, \"cluster\": 0}, {\"#\": 557, \"Name\": \"Dwebble\", \"Type 1\": \"Bug\", \"Type 2\": \"Rock\", \"Total\": 325, \"HP\": 50, \"Attack\": 65, \"Defense\": 85, \"SpecialA\": 35, \"SpecialD\": 35, \"Speed\": 55, \"Generation\": 5, \"cluster\": 1}, {\"#\": 558, \"Name\": \"Crustle\", \"Type 1\": \"Bug\", \"Type 2\": \"Rock\", \"Total\": 475, \"HP\": 70, \"Attack\": 95, \"Defense\": 125, \"SpecialA\": 65, \"SpecialD\": 75, \"Speed\": 45, \"Generation\": 5, \"cluster\": 5}, {\"#\": 559, \"Name\": \"Scraggy\", \"Type 1\": \"Dark\", \"Type 2\": \"Fighting\", \"Total\": 348, \"HP\": 50, \"Attack\": 75, \"Defense\": 70, \"SpecialA\": 35, \"SpecialD\": 70, \"Speed\": 48, \"Generation\": 5, \"cluster\": 1}, {\"#\": 560, \"Name\": \"Scrafty\", \"Type 1\": \"Dark\", \"Type 2\": \"Fighting\", \"Total\": 488, \"HP\": 65, \"Attack\": 90, \"Defense\": 115, \"SpecialA\": 45, \"SpecialD\": 115, \"Speed\": 58, \"Generation\": 5, \"cluster\": 5}, {\"#\": 561, \"Name\": \"Sigilyph\", \"Type 1\": \"Psychic\", \"Type 2\": \"Flying\", \"Total\": 490, \"HP\": 72, \"Attack\": 58, \"Defense\": 80, \"SpecialA\": 103, \"SpecialD\": 80, \"Speed\": 97, \"Generation\": 5, \"cluster\": 0}, {\"#\": 564, \"Name\": \"Tirtouga\", \"Type 1\": \"Water\", \"Type 2\": \"Rock\", \"Total\": 355, \"HP\": 54, \"Attack\": 78, \"Defense\": 103, \"SpecialA\": 53, \"SpecialD\": 45, \"Speed\": 22, \"Generation\": 5, \"cluster\": 1}, {\"#\": 565, \"Name\": \"Carracosta\", \"Type 1\": \"Water\", \"Type 2\": \"Rock\", \"Total\": 495, \"HP\": 74, \"Attack\": 108, \"Defense\": 133, \"SpecialA\": 83, \"SpecialD\": 65, \"Speed\": 32, \"Generation\": 5, \"cluster\": 5}, {\"#\": 566, \"Name\": \"Archen\", \"Type 1\": \"Rock\", \"Type 2\": \"Flying\", \"Total\": 401, \"HP\": 55, \"Attack\": 112, \"Defense\": 45, \"SpecialA\": 74, \"SpecialD\": 45, \"Speed\": 70, \"Generation\": 5, \"cluster\": 3}, {\"#\": 567, \"Name\": \"Archeops\", \"Type 1\": \"Rock\", \"Type 2\": \"Flying\", \"Total\": 567, \"HP\": 75, \"Attack\": 140, \"Defense\": 65, \"SpecialA\": 112, \"SpecialD\": 65, \"Speed\": 110, \"Generation\": 5, \"cluster\": 2}, {\"#\": 580, \"Name\": \"Ducklett\", \"Type 1\": \"Water\", \"Type 2\": \"Flying\", \"Total\": 305, \"HP\": 62, \"Attack\": 44, \"Defense\": 50, \"SpecialA\": 44, \"SpecialD\": 50, \"Speed\": 55, \"Generation\": 5, \"cluster\": 1}, {\"#\": 581, \"Name\": \"Swanna\", \"Type 1\": \"Water\", \"Type 2\": \"Flying\", \"Total\": 473, \"HP\": 75, \"Attack\": 87, \"Defense\": 63, \"SpecialA\": 87, \"SpecialD\": 63, \"Speed\": 98, \"Generation\": 5, \"cluster\": 5}, {\"#\": 585, \"Name\": \"Deerling\", \"Type 1\": \"Normal\", \"Type 2\": \"Grass\", \"Total\": 335, \"HP\": 60, \"Attack\": 60, \"Defense\": 50, \"SpecialA\": 40, \"SpecialD\": 50, \"Speed\": 75, \"Generation\": 5, \"cluster\": 1}, {\"#\": 586, \"Name\": \"Sawsbuck\", \"Type 1\": \"Normal\", \"Type 2\": \"Grass\", \"Total\": 475, \"HP\": 80, \"Attack\": 100, \"Defense\": 70, \"SpecialA\": 60, \"SpecialD\": 70, \"Speed\": 95, \"Generation\": 5, \"cluster\": 5}, {\"#\": 587, \"Name\": \"Emolga\", \"Type 1\": \"Electric\", \"Type 2\": \"Flying\", \"Total\": 428, \"HP\": 55, \"Attack\": 75, \"Defense\": 60, \"SpecialA\": 75, \"SpecialD\": 60, \"Speed\": 103, \"Generation\": 5, \"cluster\": 3}, {\"#\": 589, \"Name\": \"Escavalier\", \"Type 1\": \"Bug\", \"Type 2\": \"Steel\", \"Total\": 495, \"HP\": 70, \"Attack\": 135, \"Defense\": 105, \"SpecialA\": 60, \"SpecialD\": 105, \"Speed\": 20, \"Generation\": 5, \"cluster\": 5}, {\"#\": 590, \"Name\": \"Foongus\", \"Type 1\": \"Grass\", \"Type 2\": \"Poison\", \"Total\": 294, \"HP\": 69, \"Attack\": 55, \"Defense\": 45, \"SpecialA\": 55, \"SpecialD\": 55, \"Speed\": 15, \"Generation\": 5, \"cluster\": 1}, {\"#\": 591, \"Name\": \"Amoonguss\", \"Type 1\": \"Grass\", \"Type 2\": \"Poison\", \"Total\": 464, \"HP\": 114, \"Attack\": 85, \"Defense\": 70, \"SpecialA\": 85, \"SpecialD\": 80, \"Speed\": 30, \"Generation\": 5, \"cluster\": 5}, {\"#\": 592, \"Name\": \"Frillish\", \"Type 1\": \"Water\", \"Type 2\": \"Ghost\", \"Total\": 335, \"HP\": 55, \"Attack\": 40, \"Defense\": 50, \"SpecialA\": 65, \"SpecialD\": 85, \"Speed\": 40, \"Generation\": 5, \"cluster\": 1}, {\"#\": 593, \"Name\": \"Jellicent\", \"Type 1\": \"Water\", \"Type 2\": \"Ghost\", \"Total\": 480, \"HP\": 100, \"Attack\": 60, \"Defense\": 70, \"SpecialA\": 85, \"SpecialD\": 105, \"Speed\": 60, \"Generation\": 5, \"cluster\": 5}, {\"#\": 595, \"Name\": \"Joltik\", \"Type 1\": \"Bug\", \"Type 2\": \"Electric\", \"Total\": 319, \"HP\": 50, \"Attack\": 47, \"Defense\": 50, \"SpecialA\": 57, \"SpecialD\": 50, \"Speed\": 65, \"Generation\": 5, \"cluster\": 1}, {\"#\": 596, \"Name\": \"Galvantula\", \"Type 1\": \"Bug\", \"Type 2\": \"Electric\", \"Total\": 472, \"HP\": 70, \"Attack\": 77, \"Defense\": 60, \"SpecialA\": 97, \"SpecialD\": 60, \"Speed\": 108, \"Generation\": 5, \"cluster\": 0}, {\"#\": 597, \"Name\": \"Ferroseed\", \"Type 1\": \"Grass\", \"Type 2\": \"Steel\", \"Total\": 305, \"HP\": 44, \"Attack\": 50, \"Defense\": 91, \"SpecialA\": 24, \"SpecialD\": 86, \"Speed\": 10, \"Generation\": 5, \"cluster\": 1}, {\"#\": 598, \"Name\": \"Ferrothorn\", \"Type 1\": \"Grass\", \"Type 2\": \"Steel\", \"Total\": 489, \"HP\": 74, \"Attack\": 94, \"Defense\": 131, \"SpecialA\": 54, \"SpecialD\": 116, \"Speed\": 20, \"Generation\": 5, \"cluster\": 5}, {\"#\": 607, \"Name\": \"Litwick\", \"Type 1\": \"Ghost\", \"Type 2\": \"Fire\", \"Total\": 275, \"HP\": 50, \"Attack\": 30, \"Defense\": 55, \"SpecialA\": 65, \"SpecialD\": 55, \"Speed\": 20, \"Generation\": 5, \"cluster\": 4}, {\"#\": 608, \"Name\": \"Lampent\", \"Type 1\": \"Ghost\", \"Type 2\": \"Fire\", \"Total\": 370, \"HP\": 60, \"Attack\": 40, \"Defense\": 60, \"SpecialA\": 95, \"SpecialD\": 60, \"Speed\": 55, \"Generation\": 5, \"cluster\": 3}, {\"#\": 609, \"Name\": \"Chandelure\", \"Type 1\": \"Ghost\", \"Type 2\": \"Fire\", \"Total\": 520, \"HP\": 60, \"Attack\": 55, \"Defense\": 90, \"SpecialA\": 145, \"SpecialD\": 90, \"Speed\": 80, \"Generation\": 5, \"cluster\": 0}, {\"#\": 618, \"Name\": \"Stunfisk\", \"Type 1\": \"Ground\", \"Type 2\": \"Electric\", \"Total\": 471, \"HP\": 109, \"Attack\": 66, \"Defense\": 84, \"SpecialA\": 81, \"SpecialD\": 99, \"Speed\": 32, \"Generation\": 5, \"cluster\": 5}, {\"#\": 622, \"Name\": \"Golett\", \"Type 1\": \"Ground\", \"Type 2\": \"Ghost\", \"Total\": 303, \"HP\": 59, \"Attack\": 74, \"Defense\": 50, \"SpecialA\": 35, \"SpecialD\": 50, \"Speed\": 35, \"Generation\": 5, \"cluster\": 1}, {\"#\": 623, \"Name\": \"Golurk\", \"Type 1\": \"Ground\", \"Type 2\": \"Ghost\", \"Total\": 483, \"HP\": 89, \"Attack\": 124, \"Defense\": 80, \"SpecialA\": 55, \"SpecialD\": 80, \"Speed\": 55, \"Generation\": 5, \"cluster\": 5}, {\"#\": 624, \"Name\": \"Pawniard\", \"Type 1\": \"Dark\", \"Type 2\": \"Steel\", \"Total\": 340, \"HP\": 45, \"Attack\": 85, \"Defense\": 70, \"SpecialA\": 40, \"SpecialD\": 40, \"Speed\": 60, \"Generation\": 5, \"cluster\": 1}, {\"#\": 625, \"Name\": \"Bisharp\", \"Type 1\": \"Dark\", \"Type 2\": \"Steel\", \"Total\": 490, \"HP\": 65, \"Attack\": 125, \"Defense\": 100, \"SpecialA\": 60, \"SpecialD\": 70, \"Speed\": 70, \"Generation\": 5, \"cluster\": 5}, {\"#\": 627, \"Name\": \"Rufflet\", \"Type 1\": \"Normal\", \"Type 2\": \"Flying\", \"Total\": 350, \"HP\": 70, \"Attack\": 83, \"Defense\": 50, \"SpecialA\": 37, \"SpecialD\": 50, \"Speed\": 60, \"Generation\": 5, \"cluster\": 1}, {\"#\": 628, \"Name\": \"Braviary\", \"Type 1\": \"Normal\", \"Type 2\": \"Flying\", \"Total\": 510, \"HP\": 100, \"Attack\": 123, \"Defense\": 75, \"SpecialA\": 57, \"SpecialD\": 75, \"Speed\": 80, \"Generation\": 5, \"cluster\": 0}, {\"#\": 629, \"Name\": \"Vullaby\", \"Type 1\": \"Dark\", \"Type 2\": \"Flying\", \"Total\": 370, \"HP\": 70, \"Attack\": 55, \"Defense\": 75, \"SpecialA\": 45, \"SpecialD\": 65, \"Speed\": 60, \"Generation\": 5, \"cluster\": 3}, {\"#\": 630, \"Name\": \"Mandibuzz\", \"Type 1\": \"Dark\", \"Type 2\": \"Flying\", \"Total\": 510, \"HP\": 110, \"Attack\": 65, \"Defense\": 105, \"SpecialA\": 55, \"SpecialD\": 95, \"Speed\": 80, \"Generation\": 5, \"cluster\": 0}, {\"#\": 632, \"Name\": \"Durant\", \"Type 1\": \"Bug\", \"Type 2\": \"Steel\", \"Total\": 484, \"HP\": 58, \"Attack\": 109, \"Defense\": 112, \"SpecialA\": 48, \"SpecialD\": 48, \"Speed\": 109, \"Generation\": 5, \"cluster\": 0}, {\"#\": 633, \"Name\": \"Deino\", \"Type 1\": \"Dark\", \"Type 2\": \"Dragon\", \"Total\": 300, \"HP\": 52, \"Attack\": 65, \"Defense\": 50, \"SpecialA\": 45, \"SpecialD\": 50, \"Speed\": 38, \"Generation\": 5, \"cluster\": 1}, {\"#\": 634, \"Name\": \"Zweilous\", \"Type 1\": \"Dark\", \"Type 2\": \"Dragon\", \"Total\": 420, \"HP\": 72, \"Attack\": 85, \"Defense\": 70, \"SpecialA\": 65, \"SpecialD\": 70, \"Speed\": 58, \"Generation\": 5, \"cluster\": 3}, {\"#\": 635, \"Name\": \"Hydreigon\", \"Type 1\": \"Dark\", \"Type 2\": \"Dragon\", \"Total\": 600, \"HP\": 92, \"Attack\": 105, \"Defense\": 90, \"SpecialA\": 125, \"SpecialD\": 90, \"Speed\": 98, \"Generation\": 5, \"cluster\": 2}, {\"#\": 636, \"Name\": \"Larvesta\", \"Type 1\": \"Bug\", \"Type 2\": \"Fire\", \"Total\": 360, \"HP\": 55, \"Attack\": 85, \"Defense\": 55, \"SpecialA\": 50, \"SpecialD\": 55, \"Speed\": 60, \"Generation\": 5, \"cluster\": 1}, {\"#\": 637, \"Name\": \"Volcarona\", \"Type 1\": \"Bug\", \"Type 2\": \"Fire\", \"Total\": 550, \"HP\": 85, \"Attack\": 60, \"Defense\": 65, \"SpecialA\": 135, \"SpecialD\": 105, \"Speed\": 100, \"Generation\": 5, \"cluster\": 0}, {\"#\": 647, \"Name\": \"KeldeoOrdinary Forme\", \"Type 1\": \"Water\", \"Type 2\": \"Fighting\", \"Total\": 580, \"HP\": 91, \"Attack\": 72, \"Defense\": 90, \"SpecialA\": 129, \"SpecialD\": 90, \"Speed\": 108, \"Generation\": 5, \"cluster\": 2}, {\"#\": 647, \"Name\": \"KeldeoResolute Forme\", \"Type 1\": \"Water\", \"Type 2\": \"Fighting\", \"Total\": 580, \"HP\": 91, \"Attack\": 72, \"Defense\": 90, \"SpecialA\": 129, \"SpecialD\": 90, \"Speed\": 108, \"Generation\": 5, \"cluster\": 2}, {\"#\": 648, \"Name\": \"MeloettaAria Forme\", \"Type 1\": \"Normal\", \"Type 2\": \"Psychic\", \"Total\": 600, \"HP\": 100, \"Attack\": 77, \"Defense\": 77, \"SpecialA\": 128, \"SpecialD\": 128, \"Speed\": 90, \"Generation\": 5, \"cluster\": 2}, {\"#\": 648, \"Name\": \"MeloettaPirouette Forme\", \"Type 1\": \"Normal\", \"Type 2\": \"Fighting\", \"Total\": 600, \"HP\": 100, \"Attack\": 128, \"Defense\": 90, \"SpecialA\": 77, \"SpecialD\": 77, \"Speed\": 128, \"Generation\": 5, \"cluster\": 2}, {\"#\": 649, \"Name\": \"Genesect\", \"Type 1\": \"Bug\", \"Type 2\": \"Steel\", \"Total\": 600, \"HP\": 71, \"Attack\": 120, \"Defense\": 95, \"SpecialA\": 120, \"SpecialD\": 95, \"Speed\": 99, \"Generation\": 5, \"cluster\": 2}, {\"#\": 652, \"Name\": \"Chesnaught\", \"Type 1\": \"Grass\", \"Type 2\": \"Fighting\", \"Total\": 530, \"HP\": 88, \"Attack\": 107, \"Defense\": 122, \"SpecialA\": 74, \"SpecialD\": 75, \"Speed\": 64, \"Generation\": 6, \"cluster\": 0}, {\"#\": 655, \"Name\": \"Delphox\", \"Type 1\": \"Fire\", \"Type 2\": \"Psychic\", \"Total\": 534, \"HP\": 75, \"Attack\": 69, \"Defense\": 72, \"SpecialA\": 114, \"SpecialD\": 100, \"Speed\": 104, \"Generation\": 6, \"cluster\": 0}, {\"#\": 658, \"Name\": \"Greninja\", \"Type 1\": \"Water\", \"Type 2\": \"Dark\", \"Total\": 530, \"HP\": 72, \"Attack\": 95, \"Defense\": 67, \"SpecialA\": 103, \"SpecialD\": 71, \"Speed\": 122, \"Generation\": 6, \"cluster\": 0}, {\"#\": 660, \"Name\": \"Diggersby\", \"Type 1\": \"Normal\", \"Type 2\": \"Ground\", \"Total\": 423, \"HP\": 85, \"Attack\": 56, \"Defense\": 77, \"SpecialA\": 50, \"SpecialD\": 77, \"Speed\": 78, \"Generation\": 6, \"cluster\": 3}, {\"#\": 661, \"Name\": \"Fletchling\", \"Type 1\": \"Normal\", \"Type 2\": \"Flying\", \"Total\": 278, \"HP\": 45, \"Attack\": 50, \"Defense\": 43, \"SpecialA\": 40, \"SpecialD\": 38, \"Speed\": 62, \"Generation\": 6, \"cluster\": 4}, {\"#\": 662, \"Name\": \"Fletchinder\", \"Type 1\": \"Fire\", \"Type 2\": \"Flying\", \"Total\": 382, \"HP\": 62, \"Attack\": 73, \"Defense\": 55, \"SpecialA\": 56, \"SpecialD\": 52, \"Speed\": 84, \"Generation\": 6, \"cluster\": 3}, {\"#\": 663, \"Name\": \"Talonflame\", \"Type 1\": \"Fire\", \"Type 2\": \"Flying\", \"Total\": 499, \"HP\": 78, \"Attack\": 81, \"Defense\": 71, \"SpecialA\": 74, \"SpecialD\": 69, \"Speed\": 126, \"Generation\": 6, \"cluster\": 0}, {\"#\": 666, \"Name\": \"Vivillon\", \"Type 1\": \"Bug\", \"Type 2\": \"Flying\", \"Total\": 411, \"HP\": 80, \"Attack\": 52, \"Defense\": 50, \"SpecialA\": 90, \"SpecialD\": 50, \"Speed\": 89, \"Generation\": 6, \"cluster\": 3}, {\"#\": 667, \"Name\": \"Litleo\", \"Type 1\": \"Fire\", \"Type 2\": \"Normal\", \"Total\": 369, \"HP\": 62, \"Attack\": 50, \"Defense\": 58, \"SpecialA\": 73, \"SpecialD\": 54, \"Speed\": 72, \"Generation\": 6, \"cluster\": 3}, {\"#\": 668, \"Name\": \"Pyroar\", \"Type 1\": \"Fire\", \"Type 2\": \"Normal\", \"Total\": 507, \"HP\": 86, \"Attack\": 68, \"Defense\": 72, \"SpecialA\": 109, \"SpecialD\": 66, \"Speed\": 106, \"Generation\": 6, \"cluster\": 0}, {\"#\": 675, \"Name\": \"Pangoro\", \"Type 1\": \"Fighting\", \"Type 2\": \"Dark\", \"Total\": 495, \"HP\": 95, \"Attack\": 124, \"Defense\": 78, \"SpecialA\": 69, \"SpecialD\": 71, \"Speed\": 58, \"Generation\": 6, \"cluster\": 5}, {\"#\": 679, \"Name\": \"Honedge\", \"Type 1\": \"Steel\", \"Type 2\": \"Ghost\", \"Total\": 325, \"HP\": 45, \"Attack\": 80, \"Defense\": 100, \"SpecialA\": 35, \"SpecialD\": 37, \"Speed\": 28, \"Generation\": 6, \"cluster\": 1}, {\"#\": 680, \"Name\": \"Doublade\", \"Type 1\": \"Steel\", \"Type 2\": \"Ghost\", \"Total\": 448, \"HP\": 59, \"Attack\": 110, \"Defense\": 150, \"SpecialA\": 45, \"SpecialD\": 49, \"Speed\": 35, \"Generation\": 6, \"cluster\": 5}, {\"#\": 681, \"Name\": \"AegislashBlade Forme\", \"Type 1\": \"Steel\", \"Type 2\": \"Ghost\", \"Total\": 520, \"HP\": 60, \"Attack\": 150, \"Defense\": 50, \"SpecialA\": 150, \"SpecialD\": 50, \"Speed\": 60, \"Generation\": 6, \"cluster\": 0}, {\"#\": 681, \"Name\": \"AegislashShield Forme\", \"Type 1\": \"Steel\", \"Type 2\": \"Ghost\", \"Total\": 520, \"HP\": 60, \"Attack\": 50, \"Defense\": 150, \"SpecialA\": 50, \"SpecialD\": 150, \"Speed\": 60, \"Generation\": 6, \"cluster\": 0}, {\"#\": 686, \"Name\": \"Inkay\", \"Type 1\": \"Dark\", \"Type 2\": \"Psychic\", \"Total\": 288, \"HP\": 53, \"Attack\": 54, \"Defense\": 53, \"SpecialA\": 37, \"SpecialD\": 46, \"Speed\": 45, \"Generation\": 6, \"cluster\": 1}, {\"#\": 687, \"Name\": \"Malamar\", \"Type 1\": \"Dark\", \"Type 2\": \"Psychic\", \"Total\": 482, \"HP\": 86, \"Attack\": 92, \"Defense\": 88, \"SpecialA\": 68, \"SpecialD\": 75, \"Speed\": 73, \"Generation\": 6, \"cluster\": 5}, {\"#\": 688, \"Name\": \"Binacle\", \"Type 1\": \"Rock\", \"Type 2\": \"Water\", \"Total\": 306, \"HP\": 42, \"Attack\": 52, \"Defense\": 67, \"SpecialA\": 39, \"SpecialD\": 56, \"Speed\": 50, \"Generation\": 6, \"cluster\": 1}, {\"#\": 689, \"Name\": \"Barbaracle\", \"Type 1\": \"Rock\", \"Type 2\": \"Water\", \"Total\": 500, \"HP\": 72, \"Attack\": 105, \"Defense\": 115, \"SpecialA\": 54, \"SpecialD\": 86, \"Speed\": 68, \"Generation\": 6, \"cluster\": 0}, {\"#\": 690, \"Name\": \"Skrelp\", \"Type 1\": \"Poison\", \"Type 2\": \"Water\", \"Total\": 320, \"HP\": 50, \"Attack\": 60, \"Defense\": 60, \"SpecialA\": 60, \"SpecialD\": 60, \"Speed\": 30, \"Generation\": 6, \"cluster\": 1}, {\"#\": 691, \"Name\": \"Dragalge\", \"Type 1\": \"Poison\", \"Type 2\": \"Dragon\", \"Total\": 494, \"HP\": 65, \"Attack\": 75, \"Defense\": 90, \"SpecialA\": 97, \"SpecialD\": 123, \"Speed\": 44, \"Generation\": 6, \"cluster\": 5}, {\"#\": 694, \"Name\": \"Helioptile\", \"Type 1\": \"Electric\", \"Type 2\": \"Normal\", \"Total\": 289, \"HP\": 44, \"Attack\": 38, \"Defense\": 33, \"SpecialA\": 61, \"SpecialD\": 43, \"Speed\": 70, \"Generation\": 6, \"cluster\": 1}, {\"#\": 695, \"Name\": \"Heliolisk\", \"Type 1\": \"Electric\", \"Type 2\": \"Normal\", \"Total\": 481, \"HP\": 62, \"Attack\": 55, \"Defense\": 52, \"SpecialA\": 109, \"SpecialD\": 94, \"Speed\": 109, \"Generation\": 6, \"cluster\": 0}, {\"#\": 696, \"Name\": \"Tyrunt\", \"Type 1\": \"Rock\", \"Type 2\": \"Dragon\", \"Total\": 362, \"HP\": 58, \"Attack\": 89, \"Defense\": 77, \"SpecialA\": 45, \"SpecialD\": 45, \"Speed\": 48, \"Generation\": 6, \"cluster\": 1}, {\"#\": 697, \"Name\": \"Tyrantrum\", \"Type 1\": \"Rock\", \"Type 2\": \"Dragon\", \"Total\": 521, \"HP\": 82, \"Attack\": 121, \"Defense\": 119, \"SpecialA\": 69, \"SpecialD\": 59, \"Speed\": 71, \"Generation\": 6, \"cluster\": 0}, {\"#\": 698, \"Name\": \"Amaura\", \"Type 1\": \"Rock\", \"Type 2\": \"Ice\", \"Total\": 362, \"HP\": 77, \"Attack\": 59, \"Defense\": 50, \"SpecialA\": 67, \"SpecialD\": 63, \"Speed\": 46, \"Generation\": 6, \"cluster\": 1}, {\"#\": 699, \"Name\": \"Aurorus\", \"Type 1\": \"Rock\", \"Type 2\": \"Ice\", \"Total\": 521, \"HP\": 123, \"Attack\": 77, \"Defense\": 72, \"SpecialA\": 99, \"SpecialD\": 92, \"Speed\": 58, \"Generation\": 6, \"cluster\": 0}, {\"#\": 701, \"Name\": \"Hawlucha\", \"Type 1\": \"Fighting\", \"Type 2\": \"Flying\", \"Total\": 500, \"HP\": 78, \"Attack\": 92, \"Defense\": 75, \"SpecialA\": 74, \"SpecialD\": 63, \"Speed\": 118, \"Generation\": 6, \"cluster\": 0}, {\"#\": 702, \"Name\": \"Dedenne\", \"Type 1\": \"Electric\", \"Type 2\": \"Fairy\", \"Total\": 431, \"HP\": 67, \"Attack\": 58, \"Defense\": 57, \"SpecialA\": 81, \"SpecialD\": 67, \"Speed\": 101, \"Generation\": 6, \"cluster\": 3}, {\"#\": 703, \"Name\": \"Carbink\", \"Type 1\": \"Rock\", \"Type 2\": \"Fairy\", \"Total\": 500, \"HP\": 50, \"Attack\": 50, \"Defense\": 150, \"SpecialA\": 50, \"SpecialD\": 150, \"Speed\": 50, \"Generation\": 6, \"cluster\": 5}, {\"#\": 707, \"Name\": \"Klefki\", \"Type 1\": \"Steel\", \"Type 2\": \"Fairy\", \"Total\": 470, \"HP\": 57, \"Attack\": 80, \"Defense\": 91, \"SpecialA\": 80, \"SpecialD\": 87, \"Speed\": 75, \"Generation\": 6, \"cluster\": 5}, {\"#\": 708, \"Name\": \"Phantump\", \"Type 1\": \"Ghost\", \"Type 2\": \"Grass\", \"Total\": 309, \"HP\": 43, \"Attack\": 70, \"Defense\": 48, \"SpecialA\": 50, \"SpecialD\": 60, \"Speed\": 38, \"Generation\": 6, \"cluster\": 1}, {\"#\": 709, \"Name\": \"Trevenant\", \"Type 1\": \"Ghost\", \"Type 2\": \"Grass\", \"Total\": 474, \"HP\": 85, \"Attack\": 110, \"Defense\": 76, \"SpecialA\": 65, \"SpecialD\": 82, \"Speed\": 56, \"Generation\": 6, \"cluster\": 5}, {\"#\": 710, \"Name\": \"PumpkabooAverage Size\", \"Type 1\": \"Ghost\", \"Type 2\": \"Grass\", \"Total\": 335, \"HP\": 49, \"Attack\": 66, \"Defense\": 70, \"SpecialA\": 44, \"SpecialD\": 55, \"Speed\": 51, \"Generation\": 6, \"cluster\": 1}, {\"#\": 710, \"Name\": \"PumpkabooSmall Size\", \"Type 1\": \"Ghost\", \"Type 2\": \"Grass\", \"Total\": 335, \"HP\": 44, \"Attack\": 66, \"Defense\": 70, \"SpecialA\": 44, \"SpecialD\": 55, \"Speed\": 56, \"Generation\": 6, \"cluster\": 1}, {\"#\": 710, \"Name\": \"PumpkabooLarge Size\", \"Type 1\": \"Ghost\", \"Type 2\": \"Grass\", \"Total\": 335, \"HP\": 54, \"Attack\": 66, \"Defense\": 70, \"SpecialA\": 44, \"SpecialD\": 55, \"Speed\": 46, \"Generation\": 6, \"cluster\": 1}, {\"#\": 710, \"Name\": \"PumpkabooSuper Size\", \"Type 1\": \"Ghost\", \"Type 2\": \"Grass\", \"Total\": 335, \"HP\": 59, \"Attack\": 66, \"Defense\": 70, \"SpecialA\": 44, \"SpecialD\": 55, \"Speed\": 41, \"Generation\": 6, \"cluster\": 1}, {\"#\": 711, \"Name\": \"GourgeistAverage Size\", \"Type 1\": \"Ghost\", \"Type 2\": \"Grass\", \"Total\": 494, \"HP\": 65, \"Attack\": 90, \"Defense\": 122, \"SpecialA\": 58, \"SpecialD\": 75, \"Speed\": 84, \"Generation\": 6, \"cluster\": 0}, {\"#\": 711, \"Name\": \"GourgeistSmall Size\", \"Type 1\": \"Ghost\", \"Type 2\": \"Grass\", \"Total\": 494, \"HP\": 55, \"Attack\": 85, \"Defense\": 122, \"SpecialA\": 58, \"SpecialD\": 75, \"Speed\": 99, \"Generation\": 6, \"cluster\": 0}, {\"#\": 711, \"Name\": \"GourgeistLarge Size\", \"Type 1\": \"Ghost\", \"Type 2\": \"Grass\", \"Total\": 494, \"HP\": 75, \"Attack\": 95, \"Defense\": 122, \"SpecialA\": 58, \"SpecialD\": 75, \"Speed\": 69, \"Generation\": 6, \"cluster\": 5}, {\"#\": 711, \"Name\": \"GourgeistSuper Size\", \"Type 1\": \"Ghost\", \"Type 2\": \"Grass\", \"Total\": 494, \"HP\": 85, \"Attack\": 100, \"Defense\": 122, \"SpecialA\": 58, \"SpecialD\": 75, \"Speed\": 54, \"Generation\": 6, \"cluster\": 5}, {\"#\": 714, \"Name\": \"Noibat\", \"Type 1\": \"Flying\", \"Type 2\": \"Dragon\", \"Total\": 245, \"HP\": 40, \"Attack\": 30, \"Defense\": 35, \"SpecialA\": 45, \"SpecialD\": 40, \"Speed\": 55, \"Generation\": 6, \"cluster\": 4}, {\"#\": 715, \"Name\": \"Noivern\", \"Type 1\": \"Flying\", \"Type 2\": \"Dragon\", \"Total\": 535, \"HP\": 85, \"Attack\": 70, \"Defense\": 80, \"SpecialA\": 97, \"SpecialD\": 80, \"Speed\": 123, \"Generation\": 6, \"cluster\": 0}]}}, {\"mode\": \"vega-lite\"});\n",
       "</script>"
      ],
      "text/plain": [
       "alt.Chart(...)"
      ]
     },
     "execution_count": 34,
     "metadata": {},
     "output_type": "execute_result"
    }
   ],
   "source": [
    "alt.Chart(df).mark_line().encode(\n",
    "    x=\"Attack\",\n",
    "    y=\"SpecialA\"\n",
    ")"
   ]
  },
  {
   "cell_type": "markdown",
   "metadata": {
    "cell_id": "b51cd7ef0228477aa3572b91fb1609e9",
    "deepnote_cell_type": "markdown",
    "tags": []
   },
   "source": [
    "There are too many peak in the dataset, maybe it's hard to predict.\n",
    "I choose the generation 2, which consists of the most pokemons, and try to predict the stat of speical attacks."
   ]
  },
  {
   "cell_type": "code",
   "execution_count": 35,
   "metadata": {
    "cell_id": "60a78d25af5b41b4bd04066beca61e49",
    "deepnote_cell_type": "code",
    "deepnote_to_be_reexecuted": false,
    "execution_millis": 1,
    "execution_start": 1670317137232,
    "source_hash": "d74f863e",
    "tags": []
   },
   "outputs": [],
   "source": [
    "df1 = list[1]"
   ]
  },
  {
   "cell_type": "code",
   "execution_count": 36,
   "metadata": {
    "cell_id": "60adee8676c4467fae2ccd9bc089f935",
    "deepnote_cell_type": "code",
    "deepnote_to_be_reexecuted": false,
    "execution_millis": 0,
    "execution_start": 1670317137253,
    "source_hash": "c89f9eee",
    "tags": []
   },
   "outputs": [],
   "source": [
    "reg = DecisionTreeRegressor(max_leaf_nodes=10,max_depth=10)"
   ]
  },
  {
   "cell_type": "code",
   "execution_count": 37,
   "metadata": {
    "cell_id": "5cb7173a4295452f9a756e59686e6775",
    "deepnote_cell_type": "code",
    "deepnote_to_be_reexecuted": false,
    "execution_millis": 2,
    "execution_start": 1670317137254,
    "source_hash": "7ef53ed6",
    "tags": []
   },
   "outputs": [
    {
     "data": {
      "text/plain": [
       "DecisionTreeRegressor(max_depth=10, max_leaf_nodes=10)"
      ]
     },
     "execution_count": 37,
     "metadata": {},
     "output_type": "execute_result"
    }
   ],
   "source": [
    "reg.fit(df1[[\"Attack\"]],df1[\"SpecialA\"])"
   ]
  },
  {
   "cell_type": "code",
   "execution_count": 38,
   "metadata": {
    "cell_id": "5acbb14c294c46fc83810c26baa844db",
    "deepnote_cell_type": "code",
    "deepnote_to_be_reexecuted": false,
    "execution_millis": 1,
    "execution_start": 1670317137254,
    "source_hash": "a2d35023",
    "tags": []
   },
   "outputs": [],
   "source": [
    "df1[\"PredictA\"] = reg.predict(df1[[\"Attack\"]])"
   ]
  },
  {
   "cell_type": "code",
   "execution_count": 39,
   "metadata": {
    "cell_id": "a0ad1539b7bf48979b17bcec5c3802f2",
    "deepnote_cell_type": "code",
    "deepnote_to_be_reexecuted": false,
    "execution_millis": 84,
    "execution_start": 1670317137255,
    "source_hash": "7fbed112",
    "tags": []
   },
   "outputs": [
    {
     "data": {
      "text/html": [
       "\n",
       "<div id=\"altair-viz-c7c005fecd36422bbfc57c0642953087\"></div>\n",
       "<script type=\"text/javascript\">\n",
       "  var VEGA_DEBUG = (typeof VEGA_DEBUG == \"undefined\") ? {} : VEGA_DEBUG;\n",
       "  (function(spec, embedOpt){\n",
       "    let outputDiv = document.currentScript.previousElementSibling;\n",
       "    if (outputDiv.id !== \"altair-viz-c7c005fecd36422bbfc57c0642953087\") {\n",
       "      outputDiv = document.getElementById(\"altair-viz-c7c005fecd36422bbfc57c0642953087\");\n",
       "    }\n",
       "    const paths = {\n",
       "      \"vega\": \"https://cdn.jsdelivr.net/npm//vega@5?noext\",\n",
       "      \"vega-lib\": \"https://cdn.jsdelivr.net/npm//vega-lib?noext\",\n",
       "      \"vega-lite\": \"https://cdn.jsdelivr.net/npm//vega-lite@4.17.0?noext\",\n",
       "      \"vega-embed\": \"https://cdn.jsdelivr.net/npm//vega-embed@6?noext\",\n",
       "    };\n",
       "\n",
       "    function maybeLoadScript(lib, version) {\n",
       "      var key = `${lib.replace(\"-\", \"\")}_version`;\n",
       "      return (VEGA_DEBUG[key] == version) ?\n",
       "        Promise.resolve(paths[lib]) :\n",
       "        new Promise(function(resolve, reject) {\n",
       "          var s = document.createElement('script');\n",
       "          document.getElementsByTagName(\"head\")[0].appendChild(s);\n",
       "          s.async = true;\n",
       "          s.onload = () => {\n",
       "            VEGA_DEBUG[key] = version;\n",
       "            return resolve(paths[lib]);\n",
       "          };\n",
       "          s.onerror = () => reject(`Error loading script: ${paths[lib]}`);\n",
       "          s.src = paths[lib];\n",
       "        });\n",
       "    }\n",
       "\n",
       "    function showError(err) {\n",
       "      outputDiv.innerHTML = `<div class=\"error\" style=\"color:red;\">${err}</div>`;\n",
       "      throw err;\n",
       "    }\n",
       "\n",
       "    function displayChart(vegaEmbed) {\n",
       "      vegaEmbed(outputDiv, spec, embedOpt)\n",
       "        .catch(err => showError(`Javascript Error: ${err.message}<br>This usually means there's a typo in your chart specification. See the javascript console for the full traceback.`));\n",
       "    }\n",
       "\n",
       "    if(typeof define === \"function\" && define.amd) {\n",
       "      requirejs.config({paths});\n",
       "      require([\"vega-embed\"], displayChart, err => showError(`Error loading script: ${err.message}`));\n",
       "    } else {\n",
       "      maybeLoadScript(\"vega\", \"5\")\n",
       "        .then(() => maybeLoadScript(\"vega-lite\", \"4.17.0\"))\n",
       "        .then(() => maybeLoadScript(\"vega-embed\", \"6\"))\n",
       "        .catch(showError)\n",
       "        .then(() => displayChart(vegaEmbed));\n",
       "    }\n",
       "  })({\"config\": {\"view\": {\"continuousWidth\": 400, \"continuousHeight\": 300}}, \"layer\": [{\"mark\": \"line\", \"encoding\": {\"x\": {\"field\": \"Attack\", \"type\": \"quantitative\"}, \"y\": {\"field\": \"SpecialA\", \"type\": \"quantitative\"}}}, {\"mark\": {\"type\": \"line\", \"color\": \"red\"}, \"encoding\": {\"x\": {\"field\": \"Attack\", \"type\": \"quantitative\"}, \"y\": {\"field\": \"PredictA\", \"type\": \"quantitative\"}}}], \"data\": {\"name\": \"data-9746fea78941d47f658d29aff6e15419\"}, \"$schema\": \"https://vega.github.io/schema/vega-lite/v4.17.0.json\", \"datasets\": {\"data-9746fea78941d47f658d29aff6e15419\": [{\"#\": 163, \"Name\": \"Hoothoot\", \"Type 1\": \"Normal\", \"Type 2\": \"Flying\", \"Total\": 262, \"HP\": 60, \"Attack\": 30, \"Defense\": 30, \"SpecialA\": 36, \"SpecialD\": 56, \"Speed\": 50, \"Generation\": 2, \"PredictA\": 50.2}, {\"#\": 164, \"Name\": \"Noctowl\", \"Type 1\": \"Normal\", \"Type 2\": \"Flying\", \"Total\": 442, \"HP\": 100, \"Attack\": 50, \"Defense\": 50, \"SpecialA\": 76, \"SpecialD\": 96, \"Speed\": 70, \"Generation\": 2, \"PredictA\": 61.833333333333336}, {\"#\": 165, \"Name\": \"Ledyba\", \"Type 1\": \"Bug\", \"Type 2\": \"Flying\", \"Total\": 265, \"HP\": 40, \"Attack\": 20, \"Defense\": 30, \"SpecialA\": 40, \"SpecialD\": 80, \"Speed\": 55, \"Generation\": 2, \"PredictA\": 23.333333333333332}, {\"#\": 166, \"Name\": \"Ledian\", \"Type 1\": \"Bug\", \"Type 2\": \"Flying\", \"Total\": 390, \"HP\": 55, \"Attack\": 35, \"Defense\": 50, \"SpecialA\": 55, \"SpecialD\": 110, \"Speed\": 85, \"Generation\": 2, \"PredictA\": 50.2}, {\"#\": 167, \"Name\": \"Spinarak\", \"Type 1\": \"Bug\", \"Type 2\": \"Poison\", \"Total\": 250, \"HP\": 40, \"Attack\": 60, \"Defense\": 40, \"SpecialA\": 40, \"SpecialD\": 40, \"Speed\": 30, \"Generation\": 2, \"PredictA\": 61.833333333333336}, {\"#\": 168, \"Name\": \"Ariados\", \"Type 1\": \"Bug\", \"Type 2\": \"Poison\", \"Total\": 390, \"HP\": 70, \"Attack\": 90, \"Defense\": 70, \"SpecialA\": 60, \"SpecialD\": 60, \"Speed\": 40, \"Generation\": 2, \"PredictA\": 86.36363636363636}, {\"#\": 169, \"Name\": \"Crobat\", \"Type 1\": \"Poison\", \"Type 2\": \"Flying\", \"Total\": 535, \"HP\": 85, \"Attack\": 90, \"Defense\": 80, \"SpecialA\": 70, \"SpecialD\": 80, \"Speed\": 130, \"Generation\": 2, \"PredictA\": 86.36363636363636}, {\"#\": 170, \"Name\": \"Chinchou\", \"Type 1\": \"Water\", \"Type 2\": \"Electric\", \"Total\": 330, \"HP\": 75, \"Attack\": 38, \"Defense\": 38, \"SpecialA\": 56, \"SpecialD\": 56, \"Speed\": 67, \"Generation\": 2, \"PredictA\": 72.0}, {\"#\": 171, \"Name\": \"Lanturn\", \"Type 1\": \"Water\", \"Type 2\": \"Electric\", \"Total\": 460, \"HP\": 125, \"Attack\": 58, \"Defense\": 58, \"SpecialA\": 76, \"SpecialD\": 76, \"Speed\": 67, \"Generation\": 2, \"PredictA\": 61.833333333333336}, {\"#\": 174, \"Name\": \"Igglybuff\", \"Type 1\": \"Normal\", \"Type 2\": \"Fairy\", \"Total\": 210, \"HP\": 90, \"Attack\": 30, \"Defense\": 15, \"SpecialA\": 40, \"SpecialD\": 20, \"Speed\": 15, \"Generation\": 2, \"PredictA\": 50.2}, {\"#\": 176, \"Name\": \"Togetic\", \"Type 1\": \"Fairy\", \"Type 2\": \"Flying\", \"Total\": 405, \"HP\": 55, \"Attack\": 40, \"Defense\": 85, \"SpecialA\": 80, \"SpecialD\": 105, \"Speed\": 40, \"Generation\": 2, \"PredictA\": 72.0}, {\"#\": 177, \"Name\": \"Natu\", \"Type 1\": \"Psychic\", \"Type 2\": \"Flying\", \"Total\": 320, \"HP\": 40, \"Attack\": 50, \"Defense\": 45, \"SpecialA\": 70, \"SpecialD\": 45, \"Speed\": 70, \"Generation\": 2, \"PredictA\": 61.833333333333336}, {\"#\": 178, \"Name\": \"Xatu\", \"Type 1\": \"Psychic\", \"Type 2\": \"Flying\", \"Total\": 470, \"HP\": 65, \"Attack\": 75, \"Defense\": 70, \"SpecialA\": 95, \"SpecialD\": 70, \"Speed\": 95, \"Generation\": 2, \"PredictA\": 70.5}, {\"#\": 181, \"Name\": \"AmpharosMega Ampharos\", \"Type 1\": \"Electric\", \"Type 2\": \"Dragon\", \"Total\": 610, \"HP\": 90, \"Attack\": 95, \"Defense\": 105, \"SpecialA\": 165, \"SpecialD\": 110, \"Speed\": 45, \"Generation\": 2, \"PredictA\": 86.36363636363636}, {\"#\": 183, \"Name\": \"Marill\", \"Type 1\": \"Water\", \"Type 2\": \"Fairy\", \"Total\": 250, \"HP\": 70, \"Attack\": 20, \"Defense\": 50, \"SpecialA\": 20, \"SpecialD\": 50, \"Speed\": 40, \"Generation\": 2, \"PredictA\": 23.333333333333332}, {\"#\": 184, \"Name\": \"Azumarill\", \"Type 1\": \"Water\", \"Type 2\": \"Fairy\", \"Total\": 420, \"HP\": 100, \"Attack\": 50, \"Defense\": 80, \"SpecialA\": 60, \"SpecialD\": 80, \"Speed\": 50, \"Generation\": 2, \"PredictA\": 61.833333333333336}, {\"#\": 187, \"Name\": \"Hoppip\", \"Type 1\": \"Grass\", \"Type 2\": \"Flying\", \"Total\": 250, \"HP\": 35, \"Attack\": 35, \"Defense\": 40, \"SpecialA\": 35, \"SpecialD\": 55, \"Speed\": 50, \"Generation\": 2, \"PredictA\": 50.2}, {\"#\": 188, \"Name\": \"Skiploom\", \"Type 1\": \"Grass\", \"Type 2\": \"Flying\", \"Total\": 340, \"HP\": 55, \"Attack\": 45, \"Defense\": 50, \"SpecialA\": 45, \"SpecialD\": 65, \"Speed\": 80, \"Generation\": 2, \"PredictA\": 35.0}, {\"#\": 189, \"Name\": \"Jumpluff\", \"Type 1\": \"Grass\", \"Type 2\": \"Flying\", \"Total\": 460, \"HP\": 75, \"Attack\": 55, \"Defense\": 70, \"SpecialA\": 55, \"SpecialD\": 95, \"Speed\": 110, \"Generation\": 2, \"PredictA\": 61.833333333333336}, {\"#\": 193, \"Name\": \"Yanma\", \"Type 1\": \"Bug\", \"Type 2\": \"Flying\", \"Total\": 390, \"HP\": 65, \"Attack\": 65, \"Defense\": 45, \"SpecialA\": 75, \"SpecialD\": 45, \"Speed\": 95, \"Generation\": 2, \"PredictA\": 70.5}, {\"#\": 194, \"Name\": \"Wooper\", \"Type 1\": \"Water\", \"Type 2\": \"Ground\", \"Total\": 210, \"HP\": 55, \"Attack\": 45, \"Defense\": 45, \"SpecialA\": 25, \"SpecialD\": 25, \"Speed\": 15, \"Generation\": 2, \"PredictA\": 35.0}, {\"#\": 195, \"Name\": \"Quagsire\", \"Type 1\": \"Water\", \"Type 2\": \"Ground\", \"Total\": 430, \"HP\": 95, \"Attack\": 85, \"Defense\": 85, \"SpecialA\": 65, \"SpecialD\": 65, \"Speed\": 35, \"Generation\": 2, \"PredictA\": 70.5}, {\"#\": 198, \"Name\": \"Murkrow\", \"Type 1\": \"Dark\", \"Type 2\": \"Flying\", \"Total\": 405, \"HP\": 60, \"Attack\": 85, \"Defense\": 42, \"SpecialA\": 85, \"SpecialD\": 42, \"Speed\": 91, \"Generation\": 2, \"PredictA\": 70.5}, {\"#\": 199, \"Name\": \"Slowking\", \"Type 1\": \"Water\", \"Type 2\": \"Psychic\", \"Total\": 490, \"HP\": 95, \"Attack\": 75, \"Defense\": 80, \"SpecialA\": 100, \"SpecialD\": 110, \"Speed\": 30, \"Generation\": 2, \"PredictA\": 70.5}, {\"#\": 203, \"Name\": \"Girafarig\", \"Type 1\": \"Normal\", \"Type 2\": \"Psychic\", \"Total\": 455, \"HP\": 70, \"Attack\": 80, \"Defense\": 65, \"SpecialA\": 90, \"SpecialD\": 65, \"Speed\": 85, \"Generation\": 2, \"PredictA\": 70.5}, {\"#\": 205, \"Name\": \"Forretress\", \"Type 1\": \"Bug\", \"Type 2\": \"Steel\", \"Total\": 465, \"HP\": 75, \"Attack\": 90, \"Defense\": 140, \"SpecialA\": 60, \"SpecialD\": 60, \"Speed\": 40, \"Generation\": 2, \"PredictA\": 86.36363636363636}, {\"#\": 207, \"Name\": \"Gligar\", \"Type 1\": \"Ground\", \"Type 2\": \"Flying\", \"Total\": 430, \"HP\": 65, \"Attack\": 75, \"Defense\": 105, \"SpecialA\": 35, \"SpecialD\": 65, \"Speed\": 85, \"Generation\": 2, \"PredictA\": 70.5}, {\"#\": 208, \"Name\": \"Steelix\", \"Type 1\": \"Steel\", \"Type 2\": \"Ground\", \"Total\": 510, \"HP\": 75, \"Attack\": 85, \"Defense\": 200, \"SpecialA\": 55, \"SpecialD\": 65, \"Speed\": 30, \"Generation\": 2, \"PredictA\": 70.5}, {\"#\": 208, \"Name\": \"SteelixMega Steelix\", \"Type 1\": \"Steel\", \"Type 2\": \"Ground\", \"Total\": 610, \"HP\": 75, \"Attack\": 125, \"Defense\": 230, \"SpecialA\": 55, \"SpecialD\": 95, \"Speed\": 30, \"Generation\": 2, \"PredictA\": 50.0}, {\"#\": 211, \"Name\": \"Qwilfish\", \"Type 1\": \"Water\", \"Type 2\": \"Poison\", \"Total\": 430, \"HP\": 65, \"Attack\": 95, \"Defense\": 75, \"SpecialA\": 55, \"SpecialD\": 55, \"Speed\": 85, \"Generation\": 2, \"PredictA\": 86.36363636363636}, {\"#\": 212, \"Name\": \"Scizor\", \"Type 1\": \"Bug\", \"Type 2\": \"Steel\", \"Total\": 500, \"HP\": 70, \"Attack\": 130, \"Defense\": 100, \"SpecialA\": 55, \"SpecialD\": 80, \"Speed\": 65, \"Generation\": 2, \"PredictA\": 50.0}, {\"#\": 212, \"Name\": \"ScizorMega Scizor\", \"Type 1\": \"Bug\", \"Type 2\": \"Steel\", \"Total\": 600, \"HP\": 70, \"Attack\": 150, \"Defense\": 140, \"SpecialA\": 65, \"SpecialD\": 100, \"Speed\": 75, \"Generation\": 2, \"PredictA\": 85.0}, {\"#\": 213, \"Name\": \"Shuckle\", \"Type 1\": \"Bug\", \"Type 2\": \"Rock\", \"Total\": 505, \"HP\": 20, \"Attack\": 10, \"Defense\": 230, \"SpecialA\": 10, \"SpecialD\": 230, \"Speed\": 5, \"Generation\": 2, \"PredictA\": 23.333333333333332}, {\"#\": 214, \"Name\": \"Heracross\", \"Type 1\": \"Bug\", \"Type 2\": \"Fighting\", \"Total\": 500, \"HP\": 80, \"Attack\": 125, \"Defense\": 75, \"SpecialA\": 40, \"SpecialD\": 95, \"Speed\": 85, \"Generation\": 2, \"PredictA\": 50.0}, {\"#\": 214, \"Name\": \"HeracrossMega Heracross\", \"Type 1\": \"Bug\", \"Type 2\": \"Fighting\", \"Total\": 600, \"HP\": 80, \"Attack\": 185, \"Defense\": 115, \"SpecialA\": 40, \"SpecialD\": 105, \"Speed\": 75, \"Generation\": 2, \"PredictA\": 40.0}, {\"#\": 215, \"Name\": \"Sneasel\", \"Type 1\": \"Dark\", \"Type 2\": \"Ice\", \"Total\": 430, \"HP\": 55, \"Attack\": 95, \"Defense\": 55, \"SpecialA\": 35, \"SpecialD\": 75, \"Speed\": 115, \"Generation\": 2, \"PredictA\": 86.36363636363636}, {\"#\": 219, \"Name\": \"Magcargo\", \"Type 1\": \"Fire\", \"Type 2\": \"Rock\", \"Total\": 410, \"HP\": 50, \"Attack\": 50, \"Defense\": 120, \"SpecialA\": 80, \"SpecialD\": 80, \"Speed\": 30, \"Generation\": 2, \"PredictA\": 61.833333333333336}, {\"#\": 220, \"Name\": \"Swinub\", \"Type 1\": \"Ice\", \"Type 2\": \"Ground\", \"Total\": 250, \"HP\": 50, \"Attack\": 50, \"Defense\": 40, \"SpecialA\": 30, \"SpecialD\": 30, \"Speed\": 50, \"Generation\": 2, \"PredictA\": 61.833333333333336}, {\"#\": 221, \"Name\": \"Piloswine\", \"Type 1\": \"Ice\", \"Type 2\": \"Ground\", \"Total\": 450, \"HP\": 100, \"Attack\": 100, \"Defense\": 80, \"SpecialA\": 60, \"SpecialD\": 60, \"Speed\": 50, \"Generation\": 2, \"PredictA\": 86.36363636363636}, {\"#\": 222, \"Name\": \"Corsola\", \"Type 1\": \"Water\", \"Type 2\": \"Rock\", \"Total\": 380, \"HP\": 55, \"Attack\": 55, \"Defense\": 85, \"SpecialA\": 65, \"SpecialD\": 85, \"Speed\": 35, \"Generation\": 2, \"PredictA\": 61.833333333333336}, {\"#\": 225, \"Name\": \"Delibird\", \"Type 1\": \"Ice\", \"Type 2\": \"Flying\", \"Total\": 330, \"HP\": 45, \"Attack\": 55, \"Defense\": 45, \"SpecialA\": 65, \"SpecialD\": 45, \"Speed\": 75, \"Generation\": 2, \"PredictA\": 61.833333333333336}, {\"#\": 226, \"Name\": \"Mantine\", \"Type 1\": \"Water\", \"Type 2\": \"Flying\", \"Total\": 465, \"HP\": 65, \"Attack\": 40, \"Defense\": 70, \"SpecialA\": 80, \"SpecialD\": 140, \"Speed\": 70, \"Generation\": 2, \"PredictA\": 72.0}, {\"#\": 227, \"Name\": \"Skarmory\", \"Type 1\": \"Steel\", \"Type 2\": \"Flying\", \"Total\": 465, \"HP\": 65, \"Attack\": 80, \"Defense\": 140, \"SpecialA\": 40, \"SpecialD\": 70, \"Speed\": 70, \"Generation\": 2, \"PredictA\": 70.5}, {\"#\": 228, \"Name\": \"Houndour\", \"Type 1\": \"Dark\", \"Type 2\": \"Fire\", \"Total\": 330, \"HP\": 45, \"Attack\": 60, \"Defense\": 30, \"SpecialA\": 80, \"SpecialD\": 50, \"Speed\": 65, \"Generation\": 2, \"PredictA\": 61.833333333333336}, {\"#\": 229, \"Name\": \"Houndoom\", \"Type 1\": \"Dark\", \"Type 2\": \"Fire\", \"Total\": 500, \"HP\": 75, \"Attack\": 90, \"Defense\": 50, \"SpecialA\": 110, \"SpecialD\": 80, \"Speed\": 95, \"Generation\": 2, \"PredictA\": 86.36363636363636}, {\"#\": 229, \"Name\": \"HoundoomMega Houndoom\", \"Type 1\": \"Dark\", \"Type 2\": \"Fire\", \"Total\": 600, \"HP\": 75, \"Attack\": 90, \"Defense\": 90, \"SpecialA\": 140, \"SpecialD\": 90, \"Speed\": 115, \"Generation\": 2, \"PredictA\": 86.36363636363636}, {\"#\": 230, \"Name\": \"Kingdra\", \"Type 1\": \"Water\", \"Type 2\": \"Dragon\", \"Total\": 540, \"HP\": 75, \"Attack\": 95, \"Defense\": 95, \"SpecialA\": 95, \"SpecialD\": 95, \"Speed\": 85, \"Generation\": 2, \"PredictA\": 86.36363636363636}, {\"#\": 238, \"Name\": \"Smoochum\", \"Type 1\": \"Ice\", \"Type 2\": \"Psychic\", \"Total\": 305, \"HP\": 45, \"Attack\": 30, \"Defense\": 15, \"SpecialA\": 85, \"SpecialD\": 65, \"Speed\": 65, \"Generation\": 2, \"PredictA\": 50.2}, {\"#\": 246, \"Name\": \"Larvitar\", \"Type 1\": \"Rock\", \"Type 2\": \"Ground\", \"Total\": 300, \"HP\": 50, \"Attack\": 64, \"Defense\": 50, \"SpecialA\": 45, \"SpecialD\": 50, \"Speed\": 41, \"Generation\": 2, \"PredictA\": 61.833333333333336}, {\"#\": 247, \"Name\": \"Pupitar\", \"Type 1\": \"Rock\", \"Type 2\": \"Ground\", \"Total\": 410, \"HP\": 70, \"Attack\": 84, \"Defense\": 70, \"SpecialA\": 65, \"SpecialD\": 70, \"Speed\": 51, \"Generation\": 2, \"PredictA\": 70.5}, {\"#\": 248, \"Name\": \"Tyranitar\", \"Type 1\": \"Rock\", \"Type 2\": \"Dark\", \"Total\": 600, \"HP\": 100, \"Attack\": 134, \"Defense\": 110, \"SpecialA\": 95, \"SpecialD\": 100, \"Speed\": 61, \"Generation\": 2, \"PredictA\": 85.0}, {\"#\": 248, \"Name\": \"TyranitarMega Tyranitar\", \"Type 1\": \"Rock\", \"Type 2\": \"Dark\", \"Total\": 700, \"HP\": 100, \"Attack\": 164, \"Defense\": 150, \"SpecialA\": 95, \"SpecialD\": 120, \"Speed\": 71, \"Generation\": 2, \"PredictA\": 85.0}, {\"#\": 251, \"Name\": \"Celebi\", \"Type 1\": \"Psychic\", \"Type 2\": \"Grass\", \"Total\": 600, \"HP\": 100, \"Attack\": 100, \"Defense\": 100, \"SpecialA\": 100, \"SpecialD\": 100, \"Speed\": 100, \"Generation\": 2, \"PredictA\": 86.36363636363636}]}}, {\"mode\": \"vega-lite\"});\n",
       "</script>"
      ],
      "text/plain": [
       "alt.LayerChart(...)"
      ]
     },
     "execution_count": 39,
     "metadata": {},
     "output_type": "execute_result"
    }
   ],
   "source": [
    "d1 = alt.Chart(df1).mark_line().encode(\n",
    "    x=\"Attack\",\n",
    "    y=\"SpecialA\"\n",
    ")\n",
    "\n",
    "d2 = alt.Chart(df1).mark_line(color=\"red\").encode(\n",
    "    x=\"Attack\",\n",
    "    y=\"PredictA\"\n",
    ")\n",
    "d1+d2"
   ]
  },
  {
   "cell_type": "markdown",
   "metadata": {
    "cell_id": "82773f2dbdd44d599d0edc4408ae3050",
    "deepnote_cell_type": "markdown",
    "tags": []
   },
   "source": [
    "The graph shows that the prection is kind of accurate, but there is a big peak in the middle of the data which is hard to predect."
   ]
  },
  {
   "cell_type": "markdown",
   "metadata": {
    "cell_id": "e5cf19b76650495f9a60483e30d8d316",
    "deepnote_cell_type": "markdown",
    "tags": []
   },
   "source": [
    "## Machine Learning - Random Forest Regressor\n",
    "\n",
    "Finally, try to use random forest regressor to predict pokemons in generation 6, which has the least pokemons."
   ]
  },
  {
   "cell_type": "code",
   "execution_count": 40,
   "metadata": {
    "cell_id": "f01083146a3343c6a2c88bc01ec91f7c",
    "deepnote_cell_type": "code",
    "deepnote_to_be_reexecuted": false,
    "execution_millis": 1,
    "execution_start": 1670317137340,
    "source_hash": "7d28efdc",
    "tags": []
   },
   "outputs": [],
   "source": [
    "df2 = list[5]"
   ]
  },
  {
   "cell_type": "code",
   "execution_count": 41,
   "metadata": {
    "cell_id": "73dc96d71ce449818e7ceecb7af559c3",
    "deepnote_cell_type": "code",
    "deepnote_to_be_reexecuted": false,
    "execution_millis": 1,
    "execution_start": 1670317137361,
    "source_hash": "6f64f38c",
    "tags": []
   },
   "outputs": [],
   "source": [
    "features2 = [\"Total\",\"HP\",\"Attack\",\"Defense\",\"SpecialD\",\"Speed\"]"
   ]
  },
  {
   "cell_type": "code",
   "execution_count": 42,
   "metadata": {
    "cell_id": "f5d79aa9de0540c2b5e91f947d52d51e",
    "deepnote_cell_type": "code",
    "deepnote_to_be_reexecuted": false,
    "execution_millis": 0,
    "execution_start": 1670317137362,
    "source_hash": "383c9467",
    "tags": []
   },
   "outputs": [],
   "source": [
    "X_train1, X_test1, y_train1, y_test1 = train_test_split(df2[features2],df2[\"SpecialA\"],train_size=0.6,random_state=32203564)"
   ]
  },
  {
   "cell_type": "code",
   "execution_count": 43,
   "metadata": {
    "cell_id": "4f34294ee058427a8bc80027b783b103",
    "deepnote_cell_type": "code",
    "deepnote_to_be_reexecuted": false,
    "execution_millis": 1,
    "execution_start": 1670317137362,
    "source_hash": "dcaf7849",
    "tags": []
   },
   "outputs": [],
   "source": [
    "rfe = RandomForestRegressor(n_estimators=100, max_leaf_nodes=15)"
   ]
  },
  {
   "cell_type": "code",
   "execution_count": 44,
   "metadata": {
    "cell_id": "9373445538b44aae92d92e2bd70d4f9a",
    "deepnote_cell_type": "code",
    "deepnote_to_be_reexecuted": false,
    "execution_millis": 179,
    "execution_start": 1670317137363,
    "source_hash": "640e769e",
    "tags": []
   },
   "outputs": [
    {
     "data": {
      "text/plain": [
       "RandomForestRegressor(max_leaf_nodes=15)"
      ]
     },
     "execution_count": 44,
     "metadata": {},
     "output_type": "execute_result"
    }
   ],
   "source": [
    "rfe.fit(X_train1,y_train1)"
   ]
  },
  {
   "cell_type": "code",
   "execution_count": 45,
   "metadata": {
    "cell_id": "b1164d40c12d40719f16b7abab5c1bc7",
    "deepnote_cell_type": "code",
    "deepnote_to_be_reexecuted": false,
    "execution_millis": 10,
    "execution_start": 1670317137544,
    "source_hash": "a229a422",
    "tags": []
   },
   "outputs": [
    {
     "data": {
      "text/plain": [
       "0.8852875743696715"
      ]
     },
     "execution_count": 45,
     "metadata": {},
     "output_type": "execute_result"
    }
   ],
   "source": [
    "rfe.score(X_train1,y_train1)"
   ]
  },
  {
   "cell_type": "code",
   "execution_count": 46,
   "metadata": {
    "cell_id": "1031d59c48f54323b7a4c69c3cfbea42",
    "deepnote_cell_type": "code",
    "deepnote_to_be_reexecuted": false,
    "execution_millis": 4,
    "execution_start": 1670317137600,
    "source_hash": "e3046c2b",
    "tags": []
   },
   "outputs": [
    {
     "data": {
      "text/plain": [
       "0.4096405747744222"
      ]
     },
     "execution_count": 46,
     "metadata": {},
     "output_type": "execute_result"
    }
   ],
   "source": [
    "rfe.score(X_test1,y_test1)"
   ]
  },
  {
   "cell_type": "markdown",
   "metadata": {
    "cell_id": "e106fc080ef34b69b74339eb90c40947",
    "deepnote_cell_type": "markdown",
    "tags": []
   },
   "source": [
    "### Graphing for the Random Forest Regressor"
   ]
  },
  {
   "cell_type": "code",
   "execution_count": 47,
   "metadata": {
    "cell_id": "934e38c1641c48d38b34a33ec13c9ee3",
    "deepnote_cell_type": "code",
    "deepnote_to_be_reexecuted": false,
    "execution_millis": 107,
    "execution_start": 1670317137644,
    "source_hash": "aeb8a734",
    "tags": []
   },
   "outputs": [
    {
     "data": {
      "text/plain": [
       "RandomForestRegressor(max_leaf_nodes=15)"
      ]
     },
     "execution_count": 47,
     "metadata": {},
     "output_type": "execute_result"
    }
   ],
   "source": [
    "rfe.fit(df2[[\"Attack\"]],df2[\"SpecialA\"])"
   ]
  },
  {
   "cell_type": "code",
   "execution_count": 48,
   "metadata": {
    "cell_id": "f13b3287cf894411b8b98ba814366ad9",
    "deepnote_cell_type": "code",
    "deepnote_to_be_reexecuted": false,
    "execution_millis": 8,
    "execution_start": 1670317137756,
    "source_hash": "5527557b",
    "tags": []
   },
   "outputs": [],
   "source": [
    "df2[\"PredictA\"] = rfe.predict(df2[[\"Attack\"]])"
   ]
  },
  {
   "cell_type": "code",
   "execution_count": 49,
   "metadata": {
    "cell_id": "17b9f7129b514ca1b39053f1a9d35214",
    "deepnote_cell_type": "code",
    "deepnote_to_be_reexecuted": false,
    "execution_millis": 19,
    "execution_start": 1670317137830,
    "source_hash": "78d5b768",
    "tags": []
   },
   "outputs": [
    {
     "data": {
      "text/html": [
       "\n",
       "<div id=\"altair-viz-73e882389f79408cb3d1025e87060fc3\"></div>\n",
       "<script type=\"text/javascript\">\n",
       "  var VEGA_DEBUG = (typeof VEGA_DEBUG == \"undefined\") ? {} : VEGA_DEBUG;\n",
       "  (function(spec, embedOpt){\n",
       "    let outputDiv = document.currentScript.previousElementSibling;\n",
       "    if (outputDiv.id !== \"altair-viz-73e882389f79408cb3d1025e87060fc3\") {\n",
       "      outputDiv = document.getElementById(\"altair-viz-73e882389f79408cb3d1025e87060fc3\");\n",
       "    }\n",
       "    const paths = {\n",
       "      \"vega\": \"https://cdn.jsdelivr.net/npm//vega@5?noext\",\n",
       "      \"vega-lib\": \"https://cdn.jsdelivr.net/npm//vega-lib?noext\",\n",
       "      \"vega-lite\": \"https://cdn.jsdelivr.net/npm//vega-lite@4.17.0?noext\",\n",
       "      \"vega-embed\": \"https://cdn.jsdelivr.net/npm//vega-embed@6?noext\",\n",
       "    };\n",
       "\n",
       "    function maybeLoadScript(lib, version) {\n",
       "      var key = `${lib.replace(\"-\", \"\")}_version`;\n",
       "      return (VEGA_DEBUG[key] == version) ?\n",
       "        Promise.resolve(paths[lib]) :\n",
       "        new Promise(function(resolve, reject) {\n",
       "          var s = document.createElement('script');\n",
       "          document.getElementsByTagName(\"head\")[0].appendChild(s);\n",
       "          s.async = true;\n",
       "          s.onload = () => {\n",
       "            VEGA_DEBUG[key] = version;\n",
       "            return resolve(paths[lib]);\n",
       "          };\n",
       "          s.onerror = () => reject(`Error loading script: ${paths[lib]}`);\n",
       "          s.src = paths[lib];\n",
       "        });\n",
       "    }\n",
       "\n",
       "    function showError(err) {\n",
       "      outputDiv.innerHTML = `<div class=\"error\" style=\"color:red;\">${err}</div>`;\n",
       "      throw err;\n",
       "    }\n",
       "\n",
       "    function displayChart(vegaEmbed) {\n",
       "      vegaEmbed(outputDiv, spec, embedOpt)\n",
       "        .catch(err => showError(`Javascript Error: ${err.message}<br>This usually means there's a typo in your chart specification. See the javascript console for the full traceback.`));\n",
       "    }\n",
       "\n",
       "    if(typeof define === \"function\" && define.amd) {\n",
       "      requirejs.config({paths});\n",
       "      require([\"vega-embed\"], displayChart, err => showError(`Error loading script: ${err.message}`));\n",
       "    } else {\n",
       "      maybeLoadScript(\"vega\", \"5\")\n",
       "        .then(() => maybeLoadScript(\"vega-lite\", \"4.17.0\"))\n",
       "        .then(() => maybeLoadScript(\"vega-embed\", \"6\"))\n",
       "        .catch(showError)\n",
       "        .then(() => displayChart(vegaEmbed));\n",
       "    }\n",
       "  })({\"config\": {\"view\": {\"continuousWidth\": 400, \"continuousHeight\": 300}}, \"layer\": [{\"mark\": \"line\", \"encoding\": {\"x\": {\"field\": \"Attack\", \"type\": \"quantitative\"}, \"y\": {\"field\": \"SpecialA\", \"type\": \"quantitative\"}}}, {\"mark\": {\"type\": \"line\", \"color\": \"red\"}, \"encoding\": {\"x\": {\"field\": \"Attack\", \"type\": \"quantitative\"}, \"y\": {\"field\": \"PredictA\", \"type\": \"quantitative\"}}}], \"data\": {\"name\": \"data-326ec48eea293c5b738d51fc7cb94a2d\"}, \"$schema\": \"https://vega.github.io/schema/vega-lite/v4.17.0.json\", \"datasets\": {\"data-326ec48eea293c5b738d51fc7cb94a2d\": [{\"#\": 652, \"Name\": \"Chesnaught\", \"Type 1\": \"Grass\", \"Type 2\": \"Fighting\", \"Total\": 530, \"HP\": 88, \"Attack\": 107, \"Defense\": 122, \"SpecialA\": 74, \"SpecialD\": 75, \"Speed\": 64, \"Generation\": 6, \"PredictA\": 64.1853429038282}, {\"#\": 655, \"Name\": \"Delphox\", \"Type 1\": \"Fire\", \"Type 2\": \"Psychic\", \"Total\": 534, \"HP\": 75, \"Attack\": 69, \"Defense\": 72, \"SpecialA\": 114, \"SpecialD\": 100, \"Speed\": 104, \"Generation\": 6, \"PredictA\": 104.43533333333333}, {\"#\": 658, \"Name\": \"Greninja\", \"Type 1\": \"Water\", \"Type 2\": \"Dark\", \"Total\": 530, \"HP\": 72, \"Attack\": 95, \"Defense\": 67, \"SpecialA\": 103, \"SpecialD\": 71, \"Speed\": 122, \"Generation\": 6, \"PredictA\": 74.79623179271708}, {\"#\": 660, \"Name\": \"Diggersby\", \"Type 1\": \"Normal\", \"Type 2\": \"Ground\", \"Total\": 423, \"HP\": 85, \"Attack\": 56, \"Defense\": 77, \"SpecialA\": 50, \"SpecialD\": 77, \"Speed\": 78, \"Generation\": 6, \"PredictA\": 63.39311111111111}, {\"#\": 661, \"Name\": \"Fletchling\", \"Type 1\": \"Normal\", \"Type 2\": \"Flying\", \"Total\": 278, \"HP\": 45, \"Attack\": 50, \"Defense\": 43, \"SpecialA\": 40, \"SpecialD\": 38, \"Speed\": 62, \"Generation\": 6, \"PredictA\": 54.349335137085134}, {\"#\": 662, \"Name\": \"Fletchinder\", \"Type 1\": \"Fire\", \"Type 2\": \"Flying\", \"Total\": 382, \"HP\": 62, \"Attack\": 73, \"Defense\": 55, \"SpecialA\": 56, \"SpecialD\": 52, \"Speed\": 84, \"Generation\": 6, \"PredictA\": 69.94209523809522}, {\"#\": 663, \"Name\": \"Talonflame\", \"Type 1\": \"Fire\", \"Type 2\": \"Flying\", \"Total\": 499, \"HP\": 78, \"Attack\": 81, \"Defense\": 71, \"SpecialA\": 74, \"SpecialD\": 69, \"Speed\": 126, \"Generation\": 6, \"PredictA\": 68.76339621489622}, {\"#\": 666, \"Name\": \"Vivillon\", \"Type 1\": \"Bug\", \"Type 2\": \"Flying\", \"Total\": 411, \"HP\": 80, \"Attack\": 52, \"Defense\": 50, \"SpecialA\": 90, \"SpecialD\": 50, \"Speed\": 89, \"Generation\": 6, \"PredictA\": 65.16147222222224}, {\"#\": 667, \"Name\": \"Litleo\", \"Type 1\": \"Fire\", \"Type 2\": \"Normal\", \"Total\": 369, \"HP\": 62, \"Attack\": 50, \"Defense\": 58, \"SpecialA\": 73, \"SpecialD\": 54, \"Speed\": 72, \"Generation\": 6, \"PredictA\": 54.349335137085134}, {\"#\": 668, \"Name\": \"Pyroar\", \"Type 1\": \"Fire\", \"Type 2\": \"Normal\", \"Total\": 507, \"HP\": 86, \"Attack\": 68, \"Defense\": 72, \"SpecialA\": 109, \"SpecialD\": 66, \"Speed\": 106, \"Generation\": 6, \"PredictA\": 100.62999999999998}, {\"#\": 675, \"Name\": \"Pangoro\", \"Type 1\": \"Fighting\", \"Type 2\": \"Dark\", \"Total\": 495, \"HP\": 95, \"Attack\": 124, \"Defense\": 78, \"SpecialA\": 69, \"SpecialD\": 71, \"Speed\": 58, \"Generation\": 6, \"PredictA\": 66.99332306255836}, {\"#\": 679, \"Name\": \"Honedge\", \"Type 1\": \"Steel\", \"Type 2\": \"Ghost\", \"Total\": 325, \"HP\": 45, \"Attack\": 80, \"Defense\": 100, \"SpecialA\": 35, \"SpecialD\": 37, \"Speed\": 28, \"Generation\": 6, \"PredictA\": 60.90208669108669}, {\"#\": 680, \"Name\": \"Doublade\", \"Type 1\": \"Steel\", \"Type 2\": \"Ghost\", \"Total\": 448, \"HP\": 59, \"Attack\": 110, \"Defense\": 150, \"SpecialA\": 45, \"SpecialD\": 49, \"Speed\": 35, \"Generation\": 6, \"PredictA\": 58.349239729225026}, {\"#\": 681, \"Name\": \"AegislashBlade Forme\", \"Type 1\": \"Steel\", \"Type 2\": \"Ghost\", \"Total\": 520, \"HP\": 60, \"Attack\": 150, \"Defense\": 50, \"SpecialA\": 150, \"SpecialD\": 50, \"Speed\": 60, \"Generation\": 6, \"PredictA\": 121.21907142857143}, {\"#\": 681, \"Name\": \"AegislashShield Forme\", \"Type 1\": \"Steel\", \"Type 2\": \"Ghost\", \"Total\": 520, \"HP\": 60, \"Attack\": 50, \"Defense\": 150, \"SpecialA\": 50, \"SpecialD\": 150, \"Speed\": 60, \"Generation\": 6, \"PredictA\": 54.349335137085134}, {\"#\": 686, \"Name\": \"Inkay\", \"Type 1\": \"Dark\", \"Type 2\": \"Psychic\", \"Total\": 288, \"HP\": 53, \"Attack\": 54, \"Defense\": 53, \"SpecialA\": 37, \"SpecialD\": 46, \"Speed\": 45, \"Generation\": 6, \"PredictA\": 61.99366666666667}, {\"#\": 687, \"Name\": \"Malamar\", \"Type 1\": \"Dark\", \"Type 2\": \"Psychic\", \"Total\": 482, \"HP\": 86, \"Attack\": 92, \"Defense\": 88, \"SpecialA\": 68, \"SpecialD\": 75, \"Speed\": 73, \"Generation\": 6, \"PredictA\": 66.86433435681964}, {\"#\": 688, \"Name\": \"Binacle\", \"Type 1\": \"Rock\", \"Type 2\": \"Water\", \"Total\": 306, \"HP\": 42, \"Attack\": 52, \"Defense\": 67, \"SpecialA\": 39, \"SpecialD\": 56, \"Speed\": 50, \"Generation\": 6, \"PredictA\": 65.16147222222224}, {\"#\": 689, \"Name\": \"Barbaracle\", \"Type 1\": \"Rock\", \"Type 2\": \"Water\", \"Total\": 500, \"HP\": 72, \"Attack\": 105, \"Defense\": 115, \"SpecialA\": 54, \"SpecialD\": 86, \"Speed\": 68, \"Generation\": 6, \"PredictA\": 60.300382586367874}, {\"#\": 690, \"Name\": \"Skrelp\", \"Type 1\": \"Poison\", \"Type 2\": \"Water\", \"Total\": 320, \"HP\": 50, \"Attack\": 60, \"Defense\": 60, \"SpecialA\": 60, \"SpecialD\": 60, \"Speed\": 30, \"Generation\": 6, \"PredictA\": 65.13111111111111}, {\"#\": 691, \"Name\": \"Dragalge\", \"Type 1\": \"Poison\", \"Type 2\": \"Dragon\", \"Total\": 494, \"HP\": 65, \"Attack\": 75, \"Defense\": 90, \"SpecialA\": 97, \"SpecialD\": 123, \"Speed\": 44, \"Generation\": 6, \"PredictA\": 87.10626190476191}, {\"#\": 694, \"Name\": \"Helioptile\", \"Type 1\": \"Electric\", \"Type 2\": \"Normal\", \"Total\": 289, \"HP\": 44, \"Attack\": 38, \"Defense\": 33, \"SpecialA\": 61, \"SpecialD\": 43, \"Speed\": 70, \"Generation\": 6, \"PredictA\": 54.91691847041848}, {\"#\": 695, \"Name\": \"Heliolisk\", \"Type 1\": \"Electric\", \"Type 2\": \"Normal\", \"Total\": 481, \"HP\": 62, \"Attack\": 55, \"Defense\": 52, \"SpecialA\": 109, \"SpecialD\": 94, \"Speed\": 109, \"Generation\": 6, \"PredictA\": 91.9375}, {\"#\": 696, \"Name\": \"Tyrunt\", \"Type 1\": \"Rock\", \"Type 2\": \"Dragon\", \"Total\": 362, \"HP\": 58, \"Attack\": 89, \"Defense\": 77, \"SpecialA\": 45, \"SpecialD\": 45, \"Speed\": 48, \"Generation\": 6, \"PredictA\": 55.58882245205774}, {\"#\": 697, \"Name\": \"Tyrantrum\", \"Type 1\": \"Rock\", \"Type 2\": \"Dragon\", \"Total\": 521, \"HP\": 82, \"Attack\": 121, \"Defense\": 119, \"SpecialA\": 69, \"SpecialD\": 59, \"Speed\": 71, \"Generation\": 6, \"PredictA\": 66.99332306255836}, {\"#\": 698, \"Name\": \"Amaura\", \"Type 1\": \"Rock\", \"Type 2\": \"Ice\", \"Total\": 362, \"HP\": 77, \"Attack\": 59, \"Defense\": 50, \"SpecialA\": 67, \"SpecialD\": 63, \"Speed\": 46, \"Generation\": 6, \"PredictA\": 67.64844444444444}, {\"#\": 699, \"Name\": \"Aurorus\", \"Type 1\": \"Rock\", \"Type 2\": \"Ice\", \"Total\": 521, \"HP\": 123, \"Attack\": 77, \"Defense\": 72, \"SpecialA\": 99, \"SpecialD\": 92, \"Speed\": 58, \"Generation\": 6, \"PredictA\": 94.73003174603174}, {\"#\": 701, \"Name\": \"Hawlucha\", \"Type 1\": \"Fighting\", \"Type 2\": \"Flying\", \"Total\": 500, \"HP\": 78, \"Attack\": 92, \"Defense\": 75, \"SpecialA\": 74, \"SpecialD\": 63, \"Speed\": 118, \"Generation\": 6, \"PredictA\": 66.86433435681964}, {\"#\": 702, \"Name\": \"Dedenne\", \"Type 1\": \"Electric\", \"Type 2\": \"Fairy\", \"Total\": 431, \"HP\": 67, \"Attack\": 58, \"Defense\": 57, \"SpecialA\": 81, \"SpecialD\": 67, \"Speed\": 101, \"Generation\": 6, \"PredictA\": 71.93394444444444}, {\"#\": 703, \"Name\": \"Carbink\", \"Type 1\": \"Rock\", \"Type 2\": \"Fairy\", \"Total\": 500, \"HP\": 50, \"Attack\": 50, \"Defense\": 150, \"SpecialA\": 50, \"SpecialD\": 150, \"Speed\": 50, \"Generation\": 6, \"PredictA\": 54.349335137085134}, {\"#\": 707, \"Name\": \"Klefki\", \"Type 1\": \"Steel\", \"Type 2\": \"Fairy\", \"Total\": 470, \"HP\": 57, \"Attack\": 80, \"Defense\": 91, \"SpecialA\": 80, \"SpecialD\": 87, \"Speed\": 75, \"Generation\": 6, \"PredictA\": 60.90208669108669}, {\"#\": 708, \"Name\": \"Phantump\", \"Type 1\": \"Ghost\", \"Type 2\": \"Grass\", \"Total\": 309, \"HP\": 43, \"Attack\": 70, \"Defense\": 48, \"SpecialA\": 50, \"SpecialD\": 60, \"Speed\": 38, \"Generation\": 6, \"PredictA\": 78.8802619047619}, {\"#\": 709, \"Name\": \"Trevenant\", \"Type 1\": \"Ghost\", \"Type 2\": \"Grass\", \"Total\": 474, \"HP\": 85, \"Attack\": 110, \"Defense\": 76, \"SpecialA\": 65, \"SpecialD\": 82, \"Speed\": 56, \"Generation\": 6, \"PredictA\": 58.349239729225026}, {\"#\": 710, \"Name\": \"PumpkabooAverage Size\", \"Type 1\": \"Ghost\", \"Type 2\": \"Grass\", \"Total\": 335, \"HP\": 49, \"Attack\": 66, \"Defense\": 70, \"SpecialA\": 44, \"SpecialD\": 55, \"Speed\": 51, \"Generation\": 6, \"PredictA\": 44.820777777777785}, {\"#\": 710, \"Name\": \"PumpkabooSmall Size\", \"Type 1\": \"Ghost\", \"Type 2\": \"Grass\", \"Total\": 335, \"HP\": 44, \"Attack\": 66, \"Defense\": 70, \"SpecialA\": 44, \"SpecialD\": 55, \"Speed\": 56, \"Generation\": 6, \"PredictA\": 44.820777777777785}, {\"#\": 710, \"Name\": \"PumpkabooLarge Size\", \"Type 1\": \"Ghost\", \"Type 2\": \"Grass\", \"Total\": 335, \"HP\": 54, \"Attack\": 66, \"Defense\": 70, \"SpecialA\": 44, \"SpecialD\": 55, \"Speed\": 46, \"Generation\": 6, \"PredictA\": 44.820777777777785}, {\"#\": 710, \"Name\": \"PumpkabooSuper Size\", \"Type 1\": \"Ghost\", \"Type 2\": \"Grass\", \"Total\": 335, \"HP\": 59, \"Attack\": 66, \"Defense\": 70, \"SpecialA\": 44, \"SpecialD\": 55, \"Speed\": 41, \"Generation\": 6, \"PredictA\": 44.820777777777785}, {\"#\": 711, \"Name\": \"GourgeistAverage Size\", \"Type 1\": \"Ghost\", \"Type 2\": \"Grass\", \"Total\": 494, \"HP\": 65, \"Attack\": 90, \"Defense\": 122, \"SpecialA\": 58, \"SpecialD\": 75, \"Speed\": 84, \"Generation\": 6, \"PredictA\": 58.09832245205774}, {\"#\": 711, \"Name\": \"GourgeistSmall Size\", \"Type 1\": \"Ghost\", \"Type 2\": \"Grass\", \"Total\": 494, \"HP\": 55, \"Attack\": 85, \"Defense\": 122, \"SpecialA\": 58, \"SpecialD\": 75, \"Speed\": 99, \"Generation\": 6, \"PredictA\": 60.12421134094663}, {\"#\": 711, \"Name\": \"GourgeistLarge Size\", \"Type 1\": \"Ghost\", \"Type 2\": \"Grass\", \"Total\": 494, \"HP\": 75, \"Attack\": 95, \"Defense\": 122, \"SpecialA\": 58, \"SpecialD\": 75, \"Speed\": 69, \"Generation\": 6, \"PredictA\": 74.79623179271708}, {\"#\": 711, \"Name\": \"GourgeistSuper Size\", \"Type 1\": \"Ghost\", \"Type 2\": \"Grass\", \"Total\": 494, \"HP\": 85, \"Attack\": 100, \"Defense\": 122, \"SpecialA\": 58, \"SpecialD\": 75, \"Speed\": 54, \"Generation\": 6, \"PredictA\": 66.21908496732027}, {\"#\": 714, \"Name\": \"Noibat\", \"Type 1\": \"Flying\", \"Type 2\": \"Dragon\", \"Total\": 245, \"HP\": 40, \"Attack\": 30, \"Defense\": 35, \"SpecialA\": 45, \"SpecialD\": 40, \"Speed\": 55, \"Generation\": 6, \"PredictA\": 52.073862914862914}, {\"#\": 715, \"Name\": \"Noivern\", \"Type 1\": \"Flying\", \"Type 2\": \"Dragon\", \"Total\": 535, \"HP\": 85, \"Attack\": 70, \"Defense\": 80, \"SpecialA\": 97, \"SpecialD\": 80, \"Speed\": 123, \"Generation\": 6, \"PredictA\": 78.8802619047619}]}}, {\"mode\": \"vega-lite\"});\n",
       "</script>"
      ],
      "text/plain": [
       "alt.LayerChart(...)"
      ]
     },
     "execution_count": 49,
     "metadata": {},
     "output_type": "execute_result"
    }
   ],
   "source": [
    "d1 = alt.Chart(df2).mark_line().encode(\n",
    "    x=\"Attack\",\n",
    "    y=\"SpecialA\"\n",
    ")\n",
    "\n",
    "d2 = alt.Chart(df2).mark_line(color=\"red\").encode(\n",
    "    x=\"Attack\",\n",
    "    y=\"PredictA\"\n",
    ")\n",
    "d1+d2"
   ]
  },
  {
   "cell_type": "markdown",
   "metadata": {
    "cell_id": "afd6005fd16e4c8cbf9e9902dd5d685f",
    "deepnote_cell_type": "markdown",
    "tags": []
   },
   "source": [
    "## Summary\n",
    "\n",
    "Either summarize what you did, or summarize the results.  Maybe 3 sentences."
   ]
  },
  {
   "cell_type": "markdown",
   "metadata": {
    "cell_id": "ee75e705f4f64da3bd4acecbdeb5ad49",
    "deepnote_cell_type": "markdown",
    "tags": []
   },
   "source": [
    "I try to use different methods, including K-Mean clusters,logistics regression and linear regression, to analysis the relationship between generations and the stats of pokemons, but none of them performed very well to fit the data. Also, it is hard to do the prediction for future generation pokemons based on the stats becasue the relationship is not strong enough. \n",
    "After failing to predict the generation, I try to predict the special attack values based on attack values using dicision tree regressor and random forest regressor, and find that the special attack values can be predected by the attack values with small error and high accuracy."
   ]
  },
  {
   "cell_type": "markdown",
   "metadata": {
    "cell_id": "95e5823ca70e4e9eb4d896bbadaa666d",
    "deepnote_cell_type": "markdown",
    "tags": []
   },
   "source": [
    "## References\n",
    "\n",
    "Your code above should include references.  Here is some additional space for references."
   ]
  },
  {
   "cell_type": "markdown",
   "metadata": {
    "cell_id": "19ea4c1aef5843669429eee4dce5c44e",
    "deepnote_cell_type": "markdown",
    "tags": []
   },
   "source": [
    "* What is the source of your dataset(s)?\n",
    "My dataset is from Kaggle. [Pokemon](https://www.kaggle.com/datasets/abcsds/pokemon)"
   ]
  },
  {
   "cell_type": "markdown",
   "metadata": {
    "cell_id": "9c48e8ad6b9e47a7b66256fd9cdef42e",
    "deepnote_cell_type": "markdown",
    "deepnote_to_be_reexecuted": false,
    "execution_millis": 0,
    "execution_start": 1652916033453,
    "source_hash": "aa45eba7",
    "tags": []
   },
   "source": [
    "* List any other references that you found helpful.\n",
    "[Tutorial for Pokemon](https://www.kaggle.com/code/christinobarbosa/machinelearningmodel-pokemon/notebook)\n",
    "[Pinting and forming new dataframe based on a groupby object](https://stackoverflow.com/questions/22691010/how-to-print-a-groupby-object)\n",
    "[Difference between Dicision Tree Regressor and Classifier](https://becominghuman.ai/machine-learning-series-day-6-decision-tree-regressor-82a2e2f873a\n",
    ")"
   ]
  },
  {
   "cell_type": "markdown",
   "metadata": {
    "cell_id": "08e9c91509bf4604ad4e2dc78687abcf",
    "deepnote_cell_type": "markdown",
    "tags": []
   },
   "source": [
    "## Submission\n",
    "\n",
    "Using the Share button at the top right, **enable Comment privileges** for anyone with a link to the project. Then submit that link on Canvas."
   ]
  },
  {
   "cell_type": "markdown",
   "metadata": {
    "created_in_deepnote_cell": true,
    "deepnote_cell_type": "markdown",
    "tags": []
   },
   "source": [
    "<a style='text-decoration:none;line-height:16px;display:flex;color:#5B5B62;padding:10px;justify-content:end;' href='https://deepnote.com?utm_source=created-in-deepnote-cell&projectId=259c7c54-5532-4802-8a81-ac7f2e4dd773' target=\"_blank\">\n",
    "<img alt='Created in deepnote.com' style='display:inline;max-height:16px;margin:0px;margin-right:7.5px;' src='data:image/svg+xml;base64,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' > </img>\n",
    "Created in <span style='font-weight:600;margin-left:4px;'>Deepnote</span></a>"
   ]
  }
 ],
 "metadata": {
  "deepnote": {
   "is_reactive": false
  },
  "deepnote_execution_queue": [],
  "deepnote_notebook_id": "d05f197f051749eaaf2a035a092350b2",
  "kernelspec": {
   "display_name": "Python 3 (ipykernel)",
   "language": "python",
   "name": "python3"
  },
  "language_info": {
   "codemirror_mode": {
    "name": "ipython",
    "version": 3
   },
   "file_extension": ".py",
   "mimetype": "text/x-python",
   "name": "python",
   "nbconvert_exporter": "python",
   "pygments_lexer": "ipython3",
   "version": "3.9.13"
  }
 },
 "nbformat": 4,
 "nbformat_minor": 4
}
