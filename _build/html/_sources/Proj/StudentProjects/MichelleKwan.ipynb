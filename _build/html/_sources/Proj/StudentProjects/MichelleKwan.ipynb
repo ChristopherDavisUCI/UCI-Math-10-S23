{
 "cells": [
  {
   "cell_type": "markdown",
   "metadata": {
    "cell_id": "62091b548c214792b0e919158c2c8d08",
    "deepnote_cell_type": "markdown",
    "tags": []
   },
   "source": [
    "# Analysis on Starbucks & McDonald's Menu Items\n",
    "\n",
    "Author: Michelle Kwan\n",
    "\n",
    "Course Project, UC Irvine, Math 10, F22"
   ]
  },
  {
   "cell_type": "markdown",
   "metadata": {
    "cell_id": "7151b7998f4d4e40a6b8a74544251079",
    "deepnote_cell_type": "markdown",
    "tags": []
   },
   "source": [
    "## Introduction\n",
    "\n",
    "For my project, I will attempt to do a comparison between Starbucks and McDonald's menu items to determine which food items at each location are considered \"unhealthy\" in terms of calories, fat, and carbohydrates. For drinks, the \"unhealthiest\" would be predicting a correlation between nutrition factors, primarily sugars and calories. In the end, I will also explore a Decision Tree Classifier to see if it can predict which store a particular food item is from. "
   ]
  },
  {
   "cell_type": "markdown",
   "metadata": {
    "cell_id": "f2e3aa6286294ee9b707f576762a55f0",
    "deepnote_cell_type": "markdown",
    "tags": []
   },
   "source": [
    "## Cleaning Data\n",
    "\n",
    "In order to do a comparison between the menu items from Starbucks and McDonald's, I recognized that I would have to use the datasets that I imported from Kaggle, which are labeled as `df_mcd`,`df_sdrink`,and `dfsfood`, to create separate datasets that correspond with each location and type of menu item. I would then have to combine these new datasets to create 2 final datasets for me to work with: one for food items and one for drink items from both locations. \n"
   ]
  },
  {
   "cell_type": "code",
   "execution_count": 1,
   "metadata": {
    "cell_id": "a394843e9c8a43f88e11e57108d1bbfb",
    "deepnote_cell_type": "code",
    "deepnote_to_be_reexecuted": false,
    "execution_millis": 1,
    "execution_start": 1670474060373,
    "output_cleared": true,
    "source_hash": "83053ab2",
    "tags": []
   },
   "outputs": [],
   "source": [
    "import pandas as pd\n",
    "from pandas.api.types import is_numeric_dtype"
   ]
  },
  {
   "cell_type": "code",
   "execution_count": 2,
   "metadata": {
    "cell_id": "d45e0b95d5a54fd89a8748a137937306",
    "deepnote_cell_type": "code",
    "deepnote_table_loading": false,
    "deepnote_table_state": {
     "filters": [],
     "pageIndex": 0,
     "pageSize": 100,
     "sortBy": []
    },
    "deepnote_to_be_reexecuted": false,
    "execution_millis": 12,
    "execution_start": 1670474060374,
    "output_cleared": true,
    "source_hash": "727712c0",
    "tags": []
   },
   "outputs": [],
   "source": [
    "df_mcd = pd.read_csv(\"mcdonalds.csv\")\n",
    "df_sfood = pd.read_csv(\"starbucks_food.csv\")\n",
    "df_sdrink = pd.read_csv(\"starbucks_drink.csv\")"
   ]
  },
  {
   "cell_type": "code",
   "execution_count": 3,
   "metadata": {
    "cell_id": "317534f991e14cc4acdc5e2280e2e2db",
    "deepnote_cell_type": "code",
    "deepnote_to_be_reexecuted": false,
    "execution_millis": 0,
    "execution_start": 1670474060426,
    "output_cleared": true,
    "source_hash": "6c612a49",
    "tags": []
   },
   "outputs": [],
   "source": [
    "df_mcdfood = df_mcd[~df_mcd[\"Category\"].isin([\"Coffee & Tea\",\"Smoothies & Shakes\",\"Beverages\"])]"
   ]
  },
  {
   "cell_type": "code",
   "execution_count": 4,
   "metadata": {
    "cell_id": "2dcbee1506414924a61f1a5754186a60",
    "deepnote_cell_type": "code",
    "deepnote_to_be_reexecuted": false,
    "execution_millis": 1,
    "execution_start": 1670474060426,
    "output_cleared": true,
    "source_hash": "df8909e6",
    "tags": []
   },
   "outputs": [],
   "source": [
    "df_mcdfood = df_mcdfood[[\"Item\", \"Calories\", \"Total Fat\", \"Carbohydrates\", \"Dietary Fiber\", \"Protein\"]].copy()"
   ]
  },
  {
   "cell_type": "code",
   "execution_count": 5,
   "metadata": {
    "cell_id": "1a3fafdfd8c04107975d68490826b3fb",
    "deepnote_cell_type": "code",
    "deepnote_to_be_reexecuted": false,
    "execution_millis": 0,
    "execution_start": 1670474060427,
    "output_cleared": true,
    "source_hash": "df07745f",
    "tags": []
   },
   "outputs": [],
   "source": [
    "df_mcdfood.insert(0, \"Store\", \"McDonald's\")"
   ]
  },
  {
   "cell_type": "code",
   "execution_count": 6,
   "metadata": {
    "cell_id": "ac014f6b53c74fb7bfdd98a000d7e551",
    "deepnote_cell_type": "code",
    "deepnote_to_be_reexecuted": false,
    "execution_millis": 2,
    "execution_start": 1670474060428,
    "output_cleared": true,
    "source_hash": "1327ed73",
    "tags": []
   },
   "outputs": [],
   "source": [
    "df_mcddrink = df_mcd[df_mcd[\"Category\"].isin([\"Coffee & Tea\",\"Smoothies & Shakes\",\"Beverages\"])]"
   ]
  },
  {
   "cell_type": "code",
   "execution_count": 7,
   "metadata": {
    "cell_id": "f20dc80b31b54ae688d8b8676085cd9c",
    "deepnote_cell_type": "code",
    "deepnote_to_be_reexecuted": false,
    "execution_millis": 0,
    "execution_start": 1670474060449,
    "output_cleared": true,
    "source_hash": "7b7dd3c3",
    "tags": []
   },
   "outputs": [],
   "source": [
    "df_mcddrink = df_mcddrink[df_mcddrink[\"Serving Size\"].str.contains(\"12 fl oz cup|16 fl oz cup\")]"
   ]
  },
  {
   "cell_type": "code",
   "execution_count": 8,
   "metadata": {
    "cell_id": "570f374282ee4fa498545494a8779f91",
    "deepnote_cell_type": "code",
    "deepnote_to_be_reexecuted": false,
    "execution_millis": 0,
    "execution_start": 1670474060450,
    "output_cleared": true,
    "source_hash": "e1a2bb6f",
    "tags": []
   },
   "outputs": [],
   "source": [
    "df_mcddrink[\"Serving Size\"] = df_mcddrink[\"Serving Size\"].apply(lambda x: x.strip(\"fl oz cup\"))"
   ]
  },
  {
   "cell_type": "code",
   "execution_count": 9,
   "metadata": {
    "cell_id": "9c59700db3cd4a5d8b3bf63120cea981",
    "deepnote_cell_type": "code",
    "deepnote_to_be_reexecuted": false,
    "execution_millis": 0,
    "execution_start": 1670474060450,
    "output_cleared": true,
    "source_hash": "cc38e74b",
    "tags": []
   },
   "outputs": [],
   "source": [
    "df_mcddrink = df_mcddrink.iloc[:, [1,2,3,14,18,19,20,21,22,23]].copy()\n",
    "df_mcddrink.insert(0, \"Store\", \"McDonald's\")"
   ]
  },
  {
   "cell_type": "markdown",
   "metadata": {
    "cell_id": "307970ef5649497daa7a009206687ef9",
    "deepnote_cell_type": "markdown",
    "tags": []
   },
   "source": [
    "From the `df_mcd` dataset, I created 2 new datasets: `df_mcdfood` and `df_mcddrink`. From viewing the columns of `df_mcd`,`df_sdrink`,and `dfsfood`, I selected columns that appear in both the Starbucks and McDonald's datasets. I also noticed that the sizes of drinks offered at both locations are only 12 oz and 16 oz drinks, so I only selected the rows that contained these values. These 2 new datasets now serve as a template for the way I want the Starbucks datasets to look like. "
   ]
  },
  {
   "cell_type": "code",
   "execution_count": 10,
   "metadata": {
    "cell_id": "4b37986ef8b54cd883eac577cce7ddf2",
    "deepnote_cell_type": "code",
    "deepnote_to_be_reexecuted": false,
    "execution_millis": 2,
    "execution_start": 1670474060452,
    "output_cleared": true,
    "source_hash": "3878d7a5",
    "tags": []
   },
   "outputs": [],
   "source": [
    "df_sfood.insert(0,\"Store\", \"Starbucks\")"
   ]
  },
  {
   "cell_type": "code",
   "execution_count": 11,
   "metadata": {
    "cell_id": "7504ca67a86f467fafa66fc8c9d18463",
    "deepnote_cell_type": "code",
    "deepnote_to_be_reexecuted": false,
    "execution_millis": 0,
    "execution_start": 1670474060459,
    "output_cleared": false,
    "source_hash": "8a2661b2",
    "tags": []
   },
   "outputs": [],
   "source": [
    "df_sfood[\"Total Fat\"] = df_sfood[\"Total Fat\"].astype(int)"
   ]
  },
  {
   "cell_type": "code",
   "execution_count": 12,
   "metadata": {
    "cell_id": "e83a0d38eeb64332876f6fde304a2026",
    "deepnote_cell_type": "code",
    "deepnote_table_loading": false,
    "deepnote_table_state": {
     "filters": [],
     "pageIndex": 0,
     "pageSize": 10,
     "sortBy": []
    },
    "deepnote_to_be_reexecuted": false,
    "execution_millis": 1,
    "execution_start": 1670474060464,
    "output_cleared": true,
    "source_hash": "74dae1cb",
    "tags": []
   },
   "outputs": [],
   "source": [
    "df_sdrink = df_sdrink[df_sdrink[\"Beverage_prep\"].str.contains(\"Tall|Grande\")]"
   ]
  },
  {
   "cell_type": "code",
   "execution_count": 13,
   "metadata": {
    "cell_id": "7bc683e18b594d9c8ad0f73831c5b885",
    "deepnote_cell_type": "code",
    "deepnote_to_be_reexecuted": false,
    "execution_millis": 0,
    "execution_start": 1670474060467,
    "output_cleared": true,
    "source_hash": "3752eca6",
    "tags": []
   },
   "outputs": [],
   "source": [
    "df_sdrink[\"Beverage_prep\"] = df_sdrink[\"Beverage_prep\"].apply(lambda x: \"12\" if \"Tall\" in x else \"16\")"
   ]
  },
  {
   "cell_type": "code",
   "execution_count": 14,
   "metadata": {
    "cell_id": "eac959f740cd4e20a106a09b63cd3e0f",
    "deepnote_cell_type": "code",
    "deepnote_to_be_reexecuted": false,
    "execution_millis": 2,
    "execution_start": 1670474060472,
    "output_cleared": true,
    "source_hash": "8a9e1d2f",
    "tags": []
   },
   "outputs": [],
   "source": [
    "df_sdrink = df_sdrink.iloc[:, [1,2,3,8,11,12,13,14,15,16]].copy()"
   ]
  },
  {
   "cell_type": "code",
   "execution_count": 15,
   "metadata": {
    "cell_id": "62f810c085e94e8c844dc9fa969b3542",
    "deepnote_cell_type": "code",
    "deepnote_to_be_reexecuted": false,
    "execution_millis": 4,
    "execution_start": 1670474060476,
    "output_cleared": true,
    "source_hash": "9bab449c",
    "tags": []
   },
   "outputs": [],
   "source": [
    "df_sdrink.insert(0,\"Store\", \"Starbucks\")"
   ]
  },
  {
   "cell_type": "code",
   "execution_count": 16,
   "metadata": {
    "cell_id": "4a73cb3bd6724d0e986b90d87ca5057d",
    "deepnote_cell_type": "code",
    "deepnote_to_be_reexecuted": false,
    "execution_millis": 83,
    "execution_start": 1670474060480,
    "output_cleared": true,
    "source_hash": "e7385b16",
    "tags": []
   },
   "outputs": [],
   "source": [
    "df_sdrink.columns=df_mcddrink.columns.values"
   ]
  },
  {
   "cell_type": "code",
   "execution_count": 17,
   "metadata": {
    "cell_id": "3936315ede36417086450e814e18f96d",
    "deepnote_cell_type": "code",
    "deepnote_to_be_reexecuted": false,
    "execution_millis": 0,
    "execution_start": 1670474060563,
    "output_cleared": true,
    "source_hash": "115ada79",
    "tags": []
   },
   "outputs": [],
   "source": [
    "df_sdrink[\"Vitamin A (% Daily Value)\"] = df_sdrink[\"Vitamin A (% Daily Value)\"].str.strip(\"%\")\n",
    "df_sdrink[\"Vitamin C (% Daily Value)\"] = df_sdrink[\"Vitamin C (% Daily Value)\"].str.strip(\"%\")\n",
    "df_sdrink[\"Calcium (% Daily Value)\"] = df_sdrink[\"Calcium (% Daily Value)\"].str.strip(\"%\")\n",
    "df_sdrink[\"Iron (% Daily Value)\"] = df_sdrink[\"Iron (% Daily Value)\"].str.strip(\"%\")"
   ]
  },
  {
   "cell_type": "markdown",
   "metadata": {
    "cell_id": "08ffea09edd14f7b8f1cffb0f70c84cd",
    "deepnote_cell_type": "markdown",
    "tags": []
   },
   "source": [
    "When attempting to merge the individual datasets that I created to create the 2 final ones, I ran into a lot of errors, such as that I \"could not convert string to float.\" After examining each individual dataset, I realized that in `df_sdrink`, the values in the last 4 columns were objects while in `df_mcddrink`, the values were integers. It is inefficient to strip the percentage symbol (%) from each column individually, but after many attempts, I could still not figure out how to use list comprehension to do it efficiently. "
   ]
  },
  {
   "cell_type": "code",
   "execution_count": 18,
   "metadata": {
    "cell_id": "9d8c64c198444dce9d2fcabaa72f9dfb",
    "deepnote_cell_type": "code",
    "deepnote_to_be_reexecuted": false,
    "execution_millis": 1,
    "execution_start": 1670474060563,
    "output_cleared": true,
    "source_hash": "64be3446",
    "tags": []
   },
   "outputs": [],
   "source": [
    "df_food = pd.concat((df_mcdfood, df_sfood))"
   ]
  },
  {
   "cell_type": "code",
   "execution_count": 19,
   "metadata": {
    "cell_id": "56e0cbbc06f54487b6d29d7b2e67d327",
    "deepnote_cell_type": "code",
    "deepnote_to_be_reexecuted": false,
    "execution_millis": 23,
    "execution_start": 1670474060564,
    "source_hash": "6bc1feda",
    "tags": []
   },
   "outputs": [
    {
     "data": {
      "application/vnd.deepnote.dataframe.v3+json": {
       "column_count": 7,
       "columns": [
        {
         "dtype": "object",
         "name": "Store",
         "stats": {
          "categories": [
           {
            "count": 5,
            "name": "McDonald's"
           }
          ],
          "nan_count": 0,
          "unique_count": 1
         }
        },
        {
         "dtype": "object",
         "name": "Item",
         "stats": {
          "categories": [
           {
            "count": 1,
            "name": "Egg McMuffin"
           },
           {
            "count": 1,
            "name": "Egg White Delight"
           },
           {
            "count": 3,
            "name": "3 others"
           }
          ],
          "nan_count": 0,
          "unique_count": 5
         }
        },
        {
         "dtype": "int64",
         "name": "Calories",
         "stats": {
          "histogram": [
           {
            "bin_end": 270,
            "bin_start": 250,
            "count": 1
           },
           {
            "bin_end": 290,
            "bin_start": 270,
            "count": 0
           },
           {
            "bin_end": 310,
            "bin_start": 290,
            "count": 1
           },
           {
            "bin_end": 330,
            "bin_start": 310,
            "count": 0
           },
           {
            "bin_end": 350,
            "bin_start": 330,
            "count": 0
           },
           {
            "bin_end": 370,
            "bin_start": 350,
            "count": 0
           },
           {
            "bin_end": 390,
            "bin_start": 370,
            "count": 1
           },
           {
            "bin_end": 410,
            "bin_start": 390,
            "count": 1
           },
           {
            "bin_end": 430,
            "bin_start": 410,
            "count": 0
           },
           {
            "bin_end": 450,
            "bin_start": 430,
            "count": 1
           }
          ],
          "max": "450",
          "min": "250",
          "nan_count": 0,
          "unique_count": 5
         }
        },
        {
         "dtype": "float64",
         "name": "Total Fat",
         "stats": {
          "histogram": [
           {
            "bin_end": 10,
            "bin_start": 8,
            "count": 1
           },
           {
            "bin_end": 12,
            "bin_start": 10,
            "count": 0
           },
           {
            "bin_end": 14,
            "bin_start": 12,
            "count": 1
           },
           {
            "bin_end": 16,
            "bin_start": 14,
            "count": 0
           },
           {
            "bin_end": 18,
            "bin_start": 16,
            "count": 0
           },
           {
            "bin_end": 20,
            "bin_start": 18,
            "count": 0
           },
           {
            "bin_end": 22,
            "bin_start": 20,
            "count": 0
           },
           {
            "bin_end": 24,
            "bin_start": 22,
            "count": 2
           },
           {
            "bin_end": 26,
            "bin_start": 24,
            "count": 0
           },
           {
            "bin_end": 28,
            "bin_start": 26,
            "count": 1
           }
          ],
          "max": "28.0",
          "min": "8.0",
          "nan_count": 0,
          "unique_count": 4
         }
        },
        {
         "dtype": "int64",
         "name": "Carbohydrates",
         "stats": {
          "histogram": [
           {
            "bin_end": 29.2,
            "bin_start": 29,
            "count": 1
           },
           {
            "bin_end": 29.4,
            "bin_start": 29.2,
            "count": 0
           },
           {
            "bin_end": 29.6,
            "bin_start": 29.4,
            "count": 0
           },
           {
            "bin_end": 29.8,
            "bin_start": 29.6,
            "count": 0
           },
           {
            "bin_end": 30,
            "bin_start": 29.8,
            "count": 0
           },
           {
            "bin_end": 30.2,
            "bin_start": 30,
            "count": 3
           },
           {
            "bin_end": 30.4,
            "bin_start": 30.2,
            "count": 0
           },
           {
            "bin_end": 30.6,
            "bin_start": 30.4,
            "count": 0
           },
           {
            "bin_end": 30.8,
            "bin_start": 30.6,
            "count": 0
           },
           {
            "bin_end": 31,
            "bin_start": 30.8,
            "count": 1
           }
          ],
          "max": "31",
          "min": "29",
          "nan_count": 0,
          "unique_count": 3
         }
        },
        {
         "dtype": "int64",
         "name": "Dietary Fiber",
         "stats": {
          "histogram": [
           {
            "bin_end": 3.6,
            "bin_start": 3.5,
            "count": 0
           },
           {
            "bin_end": 3.7,
            "bin_start": 3.6,
            "count": 0
           },
           {
            "bin_end": 3.8,
            "bin_start": 3.7,
            "count": 0
           },
           {
            "bin_end": 3.9,
            "bin_start": 3.8,
            "count": 0
           },
           {
            "bin_end": 4,
            "bin_start": 3.9,
            "count": 0
           },
           {
            "bin_end": 4.1,
            "bin_start": 4,
            "count": 5
           },
           {
            "bin_end": 4.2,
            "bin_start": 4.1,
            "count": 0
           },
           {
            "bin_end": 4.3,
            "bin_start": 4.2,
            "count": 0
           },
           {
            "bin_end": 4.4,
            "bin_start": 4.3,
            "count": 0
           },
           {
            "bin_end": 4.5,
            "bin_start": 4.4,
            "count": 0
           }
          ],
          "max": "4",
          "min": "4",
          "nan_count": 0,
          "unique_count": 1
         }
        },
        {
         "dtype": "int64",
         "name": "Protein",
         "stats": {
          "histogram": [
           {
            "bin_end": 14.7,
            "bin_start": 14,
            "count": 1
           },
           {
            "bin_end": 15.4,
            "bin_start": 14.7,
            "count": 0
           },
           {
            "bin_end": 16.1,
            "bin_start": 15.4,
            "count": 0
           },
           {
            "bin_end": 16.8,
            "bin_start": 16.1,
            "count": 0
           },
           {
            "bin_end": 17.5,
            "bin_start": 16.8,
            "count": 1
           },
           {
            "bin_end": 18.2,
            "bin_start": 17.5,
            "count": 1
           },
           {
            "bin_end": 18.9,
            "bin_start": 18.2,
            "count": 0
           },
           {
            "bin_end": 19.6,
            "bin_start": 18.9,
            "count": 0
           },
           {
            "bin_end": 20.3,
            "bin_start": 19.6,
            "count": 0
           },
           {
            "bin_end": 21,
            "bin_start": 20.3,
            "count": 2
           }
          ],
          "max": "21",
          "min": "14",
          "nan_count": 0,
          "unique_count": 4
         }
        },
        {
         "dtype": "int64",
         "name": "_deepnote_index_column"
        }
       ],
       "row_count": 5,
       "rows": [
        {
         "Calories": "300",
         "Carbohydrates": "31",
         "Dietary Fiber": "4",
         "Item": "Egg McMuffin",
         "Protein": "17",
         "Store": "McDonald's",
         "Total Fat": "13.0",
         "_deepnote_index_column": "0"
        },
        {
         "Calories": "250",
         "Carbohydrates": "30",
         "Dietary Fiber": "4",
         "Item": "Egg White Delight",
         "Protein": "18",
         "Store": "McDonald's",
         "Total Fat": "8.0",
         "_deepnote_index_column": "1"
        },
        {
         "Calories": "370",
         "Carbohydrates": "29",
         "Dietary Fiber": "4",
         "Item": "Sausage McMuffin",
         "Protein": "14",
         "Store": "McDonald's",
         "Total Fat": "23.0",
         "_deepnote_index_column": "2"
        },
        {
         "Calories": "450",
         "Carbohydrates": "30",
         "Dietary Fiber": "4",
         "Item": "Sausage McMuffin with Egg",
         "Protein": "21",
         "Store": "McDonald's",
         "Total Fat": "28.0",
         "_deepnote_index_column": "3"
        },
        {
         "Calories": "400",
         "Carbohydrates": "30",
         "Dietary Fiber": "4",
         "Item": "Sausage McMuffin with Egg Whites",
         "Protein": "21",
         "Store": "McDonald's",
         "Total Fat": "23.0",
         "_deepnote_index_column": "4"
        }
       ]
      },
      "text/html": [
       "<div>\n",
       "<style scoped>\n",
       "    .dataframe tbody tr th:only-of-type {\n",
       "        vertical-align: middle;\n",
       "    }\n",
       "\n",
       "    .dataframe tbody tr th {\n",
       "        vertical-align: top;\n",
       "    }\n",
       "\n",
       "    .dataframe thead th {\n",
       "        text-align: right;\n",
       "    }\n",
       "</style>\n",
       "<table border=\"1\" class=\"dataframe\">\n",
       "  <thead>\n",
       "    <tr style=\"text-align: right;\">\n",
       "      <th></th>\n",
       "      <th>Store</th>\n",
       "      <th>Item</th>\n",
       "      <th>Calories</th>\n",
       "      <th>Total Fat</th>\n",
       "      <th>Carbohydrates</th>\n",
       "      <th>Dietary Fiber</th>\n",
       "      <th>Protein</th>\n",
       "    </tr>\n",
       "  </thead>\n",
       "  <tbody>\n",
       "    <tr>\n",
       "      <th>0</th>\n",
       "      <td>McDonald's</td>\n",
       "      <td>Egg McMuffin</td>\n",
       "      <td>300</td>\n",
       "      <td>13.0</td>\n",
       "      <td>31</td>\n",
       "      <td>4</td>\n",
       "      <td>17</td>\n",
       "    </tr>\n",
       "    <tr>\n",
       "      <th>1</th>\n",
       "      <td>McDonald's</td>\n",
       "      <td>Egg White Delight</td>\n",
       "      <td>250</td>\n",
       "      <td>8.0</td>\n",
       "      <td>30</td>\n",
       "      <td>4</td>\n",
       "      <td>18</td>\n",
       "    </tr>\n",
       "    <tr>\n",
       "      <th>2</th>\n",
       "      <td>McDonald's</td>\n",
       "      <td>Sausage McMuffin</td>\n",
       "      <td>370</td>\n",
       "      <td>23.0</td>\n",
       "      <td>29</td>\n",
       "      <td>4</td>\n",
       "      <td>14</td>\n",
       "    </tr>\n",
       "    <tr>\n",
       "      <th>3</th>\n",
       "      <td>McDonald's</td>\n",
       "      <td>Sausage McMuffin with Egg</td>\n",
       "      <td>450</td>\n",
       "      <td>28.0</td>\n",
       "      <td>30</td>\n",
       "      <td>4</td>\n",
       "      <td>21</td>\n",
       "    </tr>\n",
       "    <tr>\n",
       "      <th>4</th>\n",
       "      <td>McDonald's</td>\n",
       "      <td>Sausage McMuffin with Egg Whites</td>\n",
       "      <td>400</td>\n",
       "      <td>23.0</td>\n",
       "      <td>30</td>\n",
       "      <td>4</td>\n",
       "      <td>21</td>\n",
       "    </tr>\n",
       "  </tbody>\n",
       "</table>\n",
       "</div>"
      ],
      "text/plain": [
       "        Store                              Item  Calories  Total Fat  \\\n",
       "0  McDonald's                      Egg McMuffin       300       13.0   \n",
       "1  McDonald's                 Egg White Delight       250        8.0   \n",
       "2  McDonald's                  Sausage McMuffin       370       23.0   \n",
       "3  McDonald's         Sausage McMuffin with Egg       450       28.0   \n",
       "4  McDonald's  Sausage McMuffin with Egg Whites       400       23.0   \n",
       "\n",
       "   Carbohydrates  Dietary Fiber  Protein  \n",
       "0             31              4       17  \n",
       "1             30              4       18  \n",
       "2             29              4       14  \n",
       "3             30              4       21  \n",
       "4             30              4       21  "
      ]
     },
     "execution_count": 19,
     "metadata": {},
     "output_type": "execute_result"
    }
   ],
   "source": [
    "df_food.head()"
   ]
  },
  {
   "cell_type": "code",
   "execution_count": 20,
   "metadata": {
    "cell_id": "eb51cf274f794dfba8aad23fe6580148",
    "deepnote_cell_type": "code",
    "deepnote_to_be_reexecuted": false,
    "execution_millis": 1,
    "execution_start": 1670474060574,
    "output_cleared": true,
    "source_hash": "450c61f9",
    "tags": []
   },
   "outputs": [],
   "source": [
    "df_drink = pd.concat((df_mcddrink, df_sdrink))"
   ]
  },
  {
   "cell_type": "code",
   "execution_count": 21,
   "metadata": {
    "cell_id": "33fd64c14ca5459e8e1ebdda40208736",
    "deepnote_cell_type": "code",
    "deepnote_to_be_reexecuted": false,
    "execution_millis": 0,
    "execution_start": 1670474060575,
    "output_cleared": true,
    "source_hash": "e0f61868",
    "tags": []
   },
   "outputs": [],
   "source": [
    "cols = [\"Serving Size\", \"Vitamin A (% Daily Value)\",\"Vitamin C (% Daily Value)\",\"Calcium (% Daily Value)\",\"Iron (% Daily Value)\"]"
   ]
  },
  {
   "cell_type": "code",
   "execution_count": 22,
   "metadata": {
    "cell_id": "7e2956c920ed45ffb240b0ee3413a01c",
    "deepnote_cell_type": "code",
    "deepnote_to_be_reexecuted": false,
    "execution_millis": 0,
    "execution_start": 1670474060576,
    "output_cleared": true,
    "source_hash": "b66a40d7",
    "tags": []
   },
   "outputs": [],
   "source": [
    "df_drink[cols] = df_drink[cols].apply(pd.to_numeric)"
   ]
  },
  {
   "cell_type": "code",
   "execution_count": 23,
   "metadata": {
    "cell_id": "c6889e124d5e4b228902ef6831788075",
    "deepnote_cell_type": "code",
    "deepnote_to_be_reexecuted": false,
    "execution_millis": 13,
    "execution_start": 1670474060586,
    "source_hash": "478bbec",
    "tags": []
   },
   "outputs": [
    {
     "data": {
      "application/vnd.deepnote.dataframe.v3+json": {
       "column_count": 11,
       "columns": [
        {
         "dtype": "object",
         "name": "Store",
         "stats": {
          "categories": [
           {
            "count": 5,
            "name": "McDonald's"
           }
          ],
          "nan_count": 0,
          "unique_count": 1
         }
        },
        {
         "dtype": "object",
         "name": "Item",
         "stats": {
          "categories": [
           {
            "count": 1,
            "name": "Coca-Cola Classic (Small)"
           },
           {
            "count": 1,
            "name": "Coca-Cola Classic (Child)"
           },
           {
            "count": 3,
            "name": "3 others"
           }
          ],
          "nan_count": 0,
          "unique_count": 5
         }
        },
        {
         "dtype": "int64",
         "name": "Serving Size",
         "stats": {
          "histogram": [
           {
            "bin_end": 12.4,
            "bin_start": 12,
            "count": 2
           },
           {
            "bin_end": 12.8,
            "bin_start": 12.4,
            "count": 0
           },
           {
            "bin_end": 13.2,
            "bin_start": 12.8,
            "count": 0
           },
           {
            "bin_end": 13.6,
            "bin_start": 13.2,
            "count": 0
           },
           {
            "bin_end": 14,
            "bin_start": 13.6,
            "count": 0
           },
           {
            "bin_end": 14.4,
            "bin_start": 14,
            "count": 0
           },
           {
            "bin_end": 14.8,
            "bin_start": 14.4,
            "count": 0
           },
           {
            "bin_end": 15.2,
            "bin_start": 14.8,
            "count": 0
           },
           {
            "bin_end": 15.6,
            "bin_start": 15.2,
            "count": 0
           },
           {
            "bin_end": 16,
            "bin_start": 15.6,
            "count": 3
           }
          ],
          "max": "16",
          "min": "12",
          "nan_count": 0,
          "unique_count": 2
         }
        },
        {
         "dtype": "int64",
         "name": "Calories",
         "stats": {
          "histogram": [
           {
            "bin_end": 14,
            "bin_start": 0,
            "count": 2
           },
           {
            "bin_end": 28,
            "bin_start": 14,
            "count": 0
           },
           {
            "bin_end": 42,
            "bin_start": 28,
            "count": 0
           },
           {
            "bin_end": 56,
            "bin_start": 42,
            "count": 0
           },
           {
            "bin_end": 70,
            "bin_start": 56,
            "count": 0
           },
           {
            "bin_end": 84,
            "bin_start": 70,
            "count": 0
           },
           {
            "bin_end": 98,
            "bin_start": 84,
            "count": 0
           },
           {
            "bin_end": 112,
            "bin_start": 98,
            "count": 1
           },
           {
            "bin_end": 126,
            "bin_start": 112,
            "count": 0
           },
           {
            "bin_end": 140,
            "bin_start": 126,
            "count": 2
           }
          ],
          "max": "140",
          "min": "0",
          "nan_count": 0,
          "unique_count": 3
         }
        },
        {
         "dtype": "int64",
         "name": "Carbohydrates",
         "stats": {
          "histogram": [
           {
            "bin_end": 3.9,
            "bin_start": 0,
            "count": 2
           },
           {
            "bin_end": 7.8,
            "bin_start": 3.9,
            "count": 0
           },
           {
            "bin_end": 11.7,
            "bin_start": 7.8,
            "count": 0
           },
           {
            "bin_end": 15.6,
            "bin_start": 11.7,
            "count": 0
           },
           {
            "bin_end": 19.5,
            "bin_start": 15.6,
            "count": 0
           },
           {
            "bin_end": 23.4,
            "bin_start": 19.5,
            "count": 0
           },
           {
            "bin_end": 27.3,
            "bin_start": 23.4,
            "count": 0
           },
           {
            "bin_end": 31.2,
            "bin_start": 27.3,
            "count": 1
           },
           {
            "bin_end": 35.1,
            "bin_start": 31.2,
            "count": 0
           },
           {
            "bin_end": 39,
            "bin_start": 35.1,
            "count": 2
           }
          ],
          "max": "39",
          "min": "0",
          "nan_count": 0,
          "unique_count": 4
         }
        },
        {
         "dtype": "int64",
         "name": "Sugars",
         "stats": {
          "histogram": [
           {
            "bin_end": 3.9,
            "bin_start": 0,
            "count": 2
           },
           {
            "bin_end": 7.8,
            "bin_start": 3.9,
            "count": 0
           },
           {
            "bin_end": 11.7,
            "bin_start": 7.8,
            "count": 0
           },
           {
            "bin_end": 15.6,
            "bin_start": 11.7,
            "count": 0
           },
           {
            "bin_end": 19.5,
            "bin_start": 15.6,
            "count": 0
           },
           {
            "bin_end": 23.4,
            "bin_start": 19.5,
            "count": 0
           },
           {
            "bin_end": 27.3,
            "bin_start": 23.4,
            "count": 0
           },
           {
            "bin_end": 31.2,
            "bin_start": 27.3,
            "count": 1
           },
           {
            "bin_end": 35.1,
            "bin_start": 31.2,
            "count": 1
           },
           {
            "bin_end": 39,
            "bin_start": 35.1,
            "count": 1
           }
          ],
          "max": "39",
          "min": "0",
          "nan_count": 0,
          "unique_count": 4
         }
        },
        {
         "dtype": "float64",
         "name": "Protein",
         "stats": {
          "histogram": [
           {
            "bin_end": -0.4,
            "bin_start": -0.5,
            "count": 0
           },
           {
            "bin_end": -0.3,
            "bin_start": -0.4,
            "count": 0
           },
           {
            "bin_end": -0.19999999999999996,
            "bin_start": -0.3,
            "count": 0
           },
           {
            "bin_end": -0.09999999999999998,
            "bin_start": -0.19999999999999996,
            "count": 0
           },
           {
            "bin_end": 0,
            "bin_start": -0.09999999999999998,
            "count": 0
           },
           {
            "bin_end": 0.10000000000000009,
            "bin_start": 0,
            "count": 5
           },
           {
            "bin_end": 0.20000000000000007,
            "bin_start": 0.10000000000000009,
            "count": 0
           },
           {
            "bin_end": 0.30000000000000004,
            "bin_start": 0.20000000000000007,
            "count": 0
           },
           {
            "bin_end": 0.4,
            "bin_start": 0.30000000000000004,
            "count": 0
           },
           {
            "bin_end": 0.5,
            "bin_start": 0.4,
            "count": 0
           }
          ],
          "max": "0.0",
          "min": "0.0",
          "nan_count": 0,
          "unique_count": 1
         }
        },
        {
         "dtype": "int64",
         "name": "Vitamin A (% Daily Value)",
         "stats": {
          "histogram": [
           {
            "bin_end": -0.4,
            "bin_start": -0.5,
            "count": 0
           },
           {
            "bin_end": -0.3,
            "bin_start": -0.4,
            "count": 0
           },
           {
            "bin_end": -0.19999999999999996,
            "bin_start": -0.3,
            "count": 0
           },
           {
            "bin_end": -0.09999999999999998,
            "bin_start": -0.19999999999999996,
            "count": 0
           },
           {
            "bin_end": 0,
            "bin_start": -0.09999999999999998,
            "count": 0
           },
           {
            "bin_end": 0.10000000000000009,
            "bin_start": 0,
            "count": 5
           },
           {
            "bin_end": 0.20000000000000007,
            "bin_start": 0.10000000000000009,
            "count": 0
           },
           {
            "bin_end": 0.30000000000000004,
            "bin_start": 0.20000000000000007,
            "count": 0
           },
           {
            "bin_end": 0.4,
            "bin_start": 0.30000000000000004,
            "count": 0
           },
           {
            "bin_end": 0.5,
            "bin_start": 0.4,
            "count": 0
           }
          ],
          "max": "0",
          "min": "0",
          "nan_count": 0,
          "unique_count": 1
         }
        },
        {
         "dtype": "int64",
         "name": "Vitamin C (% Daily Value)",
         "stats": {
          "histogram": [
           {
            "bin_end": -0.4,
            "bin_start": -0.5,
            "count": 0
           },
           {
            "bin_end": -0.3,
            "bin_start": -0.4,
            "count": 0
           },
           {
            "bin_end": -0.19999999999999996,
            "bin_start": -0.3,
            "count": 0
           },
           {
            "bin_end": -0.09999999999999998,
            "bin_start": -0.19999999999999996,
            "count": 0
           },
           {
            "bin_end": 0,
            "bin_start": -0.09999999999999998,
            "count": 0
           },
           {
            "bin_end": 0.10000000000000009,
            "bin_start": 0,
            "count": 5
           },
           {
            "bin_end": 0.20000000000000007,
            "bin_start": 0.10000000000000009,
            "count": 0
           },
           {
            "bin_end": 0.30000000000000004,
            "bin_start": 0.20000000000000007,
            "count": 0
           },
           {
            "bin_end": 0.4,
            "bin_start": 0.30000000000000004,
            "count": 0
           },
           {
            "bin_end": 0.5,
            "bin_start": 0.4,
            "count": 0
           }
          ],
          "max": "0",
          "min": "0",
          "nan_count": 0,
          "unique_count": 1
         }
        },
        {
         "dtype": "int64",
         "name": "Calcium (% Daily Value)",
         "stats": {
          "histogram": [
           {
            "bin_end": -0.4,
            "bin_start": -0.5,
            "count": 0
           },
           {
            "bin_end": -0.3,
            "bin_start": -0.4,
            "count": 0
           },
           {
            "bin_end": -0.19999999999999996,
            "bin_start": -0.3,
            "count": 0
           },
           {
            "bin_end": -0.09999999999999998,
            "bin_start": -0.19999999999999996,
            "count": 0
           },
           {
            "bin_end": 0,
            "bin_start": -0.09999999999999998,
            "count": 0
           },
           {
            "bin_end": 0.10000000000000009,
            "bin_start": 0,
            "count": 5
           },
           {
            "bin_end": 0.20000000000000007,
            "bin_start": 0.10000000000000009,
            "count": 0
           },
           {
            "bin_end": 0.30000000000000004,
            "bin_start": 0.20000000000000007,
            "count": 0
           },
           {
            "bin_end": 0.4,
            "bin_start": 0.30000000000000004,
            "count": 0
           },
           {
            "bin_end": 0.5,
            "bin_start": 0.4,
            "count": 0
           }
          ],
          "max": "0",
          "min": "0",
          "nan_count": 0,
          "unique_count": 1
         }
        },
        {
         "dtype": "float64",
         "name": "Iron (% Daily Value)",
         "stats": {
          "histogram": [
           {
            "bin_end": -0.4,
            "bin_start": -0.5,
            "count": 0
           },
           {
            "bin_end": -0.3,
            "bin_start": -0.4,
            "count": 0
           },
           {
            "bin_end": -0.19999999999999996,
            "bin_start": -0.3,
            "count": 0
           },
           {
            "bin_end": -0.09999999999999998,
            "bin_start": -0.19999999999999996,
            "count": 0
           },
           {
            "bin_end": 0,
            "bin_start": -0.09999999999999998,
            "count": 0
           },
           {
            "bin_end": 0.10000000000000009,
            "bin_start": 0,
            "count": 5
           },
           {
            "bin_end": 0.20000000000000007,
            "bin_start": 0.10000000000000009,
            "count": 0
           },
           {
            "bin_end": 0.30000000000000004,
            "bin_start": 0.20000000000000007,
            "count": 0
           },
           {
            "bin_end": 0.4,
            "bin_start": 0.30000000000000004,
            "count": 0
           },
           {
            "bin_end": 0.5,
            "bin_start": 0.4,
            "count": 0
           }
          ],
          "max": "0.0",
          "min": "0.0",
          "nan_count": 0,
          "unique_count": 1
         }
        },
        {
         "dtype": "int64",
         "name": "_deepnote_index_column"
        }
       ],
       "row_count": 5,
       "rows": [
        {
         "Calcium (% Daily Value)": "0",
         "Calories": "140",
         "Carbohydrates": "39",
         "Iron (% Daily Value)": "0.0",
         "Item": "Coca-Cola Classic (Small)",
         "Protein": "0.0",
         "Serving Size": "16",
         "Store": "McDonald's",
         "Sugars": "39",
         "Vitamin A (% Daily Value)": "0",
         "Vitamin C (% Daily Value)": "0",
         "_deepnote_index_column": "110"
        },
        {
         "Calcium (% Daily Value)": "0",
         "Calories": "100",
         "Carbohydrates": "28",
         "Iron (% Daily Value)": "0.0",
         "Item": "Coca-Cola Classic (Child)",
         "Protein": "0.0",
         "Serving Size": "12",
         "Store": "McDonald's",
         "Sugars": "28",
         "Vitamin A (% Daily Value)": "0",
         "Vitamin C (% Daily Value)": "0",
         "_deepnote_index_column": "113"
        },
        {
         "Calcium (% Daily Value)": "0",
         "Calories": "0",
         "Carbohydrates": "0",
         "Iron (% Daily Value)": "0.0",
         "Item": "Diet Coke (Small)",
         "Protein": "0.0",
         "Serving Size": "16",
         "Store": "McDonald's",
         "Sugars": "0",
         "Vitamin A (% Daily Value)": "0",
         "Vitamin C (% Daily Value)": "0",
         "_deepnote_index_column": "114"
        },
        {
         "Calcium (% Daily Value)": "0",
         "Calories": "0",
         "Carbohydrates": "0",
         "Iron (% Daily Value)": "0.0",
         "Item": "Diet Coke (Child)",
         "Protein": "0.0",
         "Serving Size": "12",
         "Store": "McDonald's",
         "Sugars": "0",
         "Vitamin A (% Daily Value)": "0",
         "Vitamin C (% Daily Value)": "0",
         "_deepnote_index_column": "117"
        },
        {
         "Calcium (% Daily Value)": "0",
         "Calories": "140",
         "Carbohydrates": "37",
         "Iron (% Daily Value)": "0.0",
         "Item": "Dr Pepper (Small)",
         "Protein": "0.0",
         "Serving Size": "16",
         "Store": "McDonald's",
         "Sugars": "35",
         "Vitamin A (% Daily Value)": "0",
         "Vitamin C (% Daily Value)": "0",
         "_deepnote_index_column": "118"
        }
       ]
      },
      "text/html": [
       "<div>\n",
       "<style scoped>\n",
       "    .dataframe tbody tr th:only-of-type {\n",
       "        vertical-align: middle;\n",
       "    }\n",
       "\n",
       "    .dataframe tbody tr th {\n",
       "        vertical-align: top;\n",
       "    }\n",
       "\n",
       "    .dataframe thead th {\n",
       "        text-align: right;\n",
       "    }\n",
       "</style>\n",
       "<table border=\"1\" class=\"dataframe\">\n",
       "  <thead>\n",
       "    <tr style=\"text-align: right;\">\n",
       "      <th></th>\n",
       "      <th>Store</th>\n",
       "      <th>Item</th>\n",
       "      <th>Serving Size</th>\n",
       "      <th>Calories</th>\n",
       "      <th>Carbohydrates</th>\n",
       "      <th>Sugars</th>\n",
       "      <th>Protein</th>\n",
       "      <th>Vitamin A (% Daily Value)</th>\n",
       "      <th>Vitamin C (% Daily Value)</th>\n",
       "      <th>Calcium (% Daily Value)</th>\n",
       "      <th>Iron (% Daily Value)</th>\n",
       "    </tr>\n",
       "  </thead>\n",
       "  <tbody>\n",
       "    <tr>\n",
       "      <th>110</th>\n",
       "      <td>McDonald's</td>\n",
       "      <td>Coca-Cola Classic (Small)</td>\n",
       "      <td>16</td>\n",
       "      <td>140</td>\n",
       "      <td>39</td>\n",
       "      <td>39</td>\n",
       "      <td>0.0</td>\n",
       "      <td>0</td>\n",
       "      <td>0</td>\n",
       "      <td>0</td>\n",
       "      <td>0.0</td>\n",
       "    </tr>\n",
       "    <tr>\n",
       "      <th>113</th>\n",
       "      <td>McDonald's</td>\n",
       "      <td>Coca-Cola Classic (Child)</td>\n",
       "      <td>12</td>\n",
       "      <td>100</td>\n",
       "      <td>28</td>\n",
       "      <td>28</td>\n",
       "      <td>0.0</td>\n",
       "      <td>0</td>\n",
       "      <td>0</td>\n",
       "      <td>0</td>\n",
       "      <td>0.0</td>\n",
       "    </tr>\n",
       "    <tr>\n",
       "      <th>114</th>\n",
       "      <td>McDonald's</td>\n",
       "      <td>Diet Coke (Small)</td>\n",
       "      <td>16</td>\n",
       "      <td>0</td>\n",
       "      <td>0</td>\n",
       "      <td>0</td>\n",
       "      <td>0.0</td>\n",
       "      <td>0</td>\n",
       "      <td>0</td>\n",
       "      <td>0</td>\n",
       "      <td>0.0</td>\n",
       "    </tr>\n",
       "    <tr>\n",
       "      <th>117</th>\n",
       "      <td>McDonald's</td>\n",
       "      <td>Diet Coke (Child)</td>\n",
       "      <td>12</td>\n",
       "      <td>0</td>\n",
       "      <td>0</td>\n",
       "      <td>0</td>\n",
       "      <td>0.0</td>\n",
       "      <td>0</td>\n",
       "      <td>0</td>\n",
       "      <td>0</td>\n",
       "      <td>0.0</td>\n",
       "    </tr>\n",
       "    <tr>\n",
       "      <th>118</th>\n",
       "      <td>McDonald's</td>\n",
       "      <td>Dr Pepper (Small)</td>\n",
       "      <td>16</td>\n",
       "      <td>140</td>\n",
       "      <td>37</td>\n",
       "      <td>35</td>\n",
       "      <td>0.0</td>\n",
       "      <td>0</td>\n",
       "      <td>0</td>\n",
       "      <td>0</td>\n",
       "      <td>0.0</td>\n",
       "    </tr>\n",
       "  </tbody>\n",
       "</table>\n",
       "</div>"
      ],
      "text/plain": [
       "          Store                       Item  Serving Size  Calories  \\\n",
       "110  McDonald's  Coca-Cola Classic (Small)            16       140   \n",
       "113  McDonald's  Coca-Cola Classic (Child)            12       100   \n",
       "114  McDonald's          Diet Coke (Small)            16         0   \n",
       "117  McDonald's          Diet Coke (Child)            12         0   \n",
       "118  McDonald's          Dr Pepper (Small)            16       140   \n",
       "\n",
       "     Carbohydrates  Sugars  Protein  Vitamin A (% Daily Value)  \\\n",
       "110             39      39      0.0                          0   \n",
       "113             28      28      0.0                          0   \n",
       "114              0       0      0.0                          0   \n",
       "117              0       0      0.0                          0   \n",
       "118             37      35      0.0                          0   \n",
       "\n",
       "     Vitamin C (% Daily Value)  Calcium (% Daily Value)  Iron (% Daily Value)  \n",
       "110                          0                        0                   0.0  \n",
       "113                          0                        0                   0.0  \n",
       "114                          0                        0                   0.0  \n",
       "117                          0                        0                   0.0  \n",
       "118                          0                        0                   0.0  "
      ]
     },
     "execution_count": 23,
     "metadata": {},
     "output_type": "execute_result"
    }
   ],
   "source": [
    "df_drink.head()"
   ]
  },
  {
   "cell_type": "markdown",
   "metadata": {
    "cell_id": "ddf7111904524600aeabb2edc77b592b",
    "deepnote_cell_type": "markdown",
    "tags": []
   },
   "source": [
    "To create the final datasets for food and drinks, I used the `pd.concat` method because I ran into errors when trying to use `merge`. This suggests that I probably still have errors within the individual dataset, which will also affect the final dataset created.  "
   ]
  },
  {
   "cell_type": "markdown",
   "metadata": {
    "cell_id": "cf4975382c914a6b88c2b612ecd981ed",
    "deepnote_cell_type": "markdown",
    "tags": []
   },
   "source": [
    "## K-means Clustering on Food Items\n",
    "In this portion of my project, I performed K-means Clustering to group the food items by \"calories\" and examined the relationship between \"total fat\" and \"carbohydrates.\""
   ]
  },
  {
   "cell_type": "code",
   "execution_count": 24,
   "metadata": {
    "cell_id": "f3b315c54adc4d7e98673097eb57eac3",
    "deepnote_cell_type": "code",
    "deepnote_to_be_reexecuted": false,
    "execution_millis": 1214,
    "execution_start": 1670474060620,
    "output_cleared": false,
    "source_hash": "a5923bd8",
    "tags": []
   },
   "outputs": [],
   "source": [
    "import altair as alt\n",
    "import seaborn as sns\n",
    "from sklearn.cluster import KMeans\n",
    "from sklearn.preprocessing import StandardScaler"
   ]
  },
  {
   "cell_type": "markdown",
   "metadata": {
    "cell_id": "ce68617ca7364d44991be329338e7986",
    "deepnote_cell_type": "markdown",
    "tags": []
   },
   "source": [
    "Before I used the Elbow method to determine how many clusters I needed for K-means clustering, I played around with different numbers and made some observations. One of the observations that I made was that the 40 piece Chicken McNuggets was an outlier so it made the scaling of the graph weird. Therefore, I removed it from the dataset. "
   ]
  },
  {
   "cell_type": "code",
   "execution_count": 25,
   "metadata": {
    "cell_id": "4a12ad361fee471588e929b3c2aa6b58",
    "deepnote_cell_type": "code",
    "deepnote_table_loading": false,
    "deepnote_table_state": {
     "filters": [],
     "pageIndex": 8,
     "pageSize": 10,
     "sortBy": []
    },
    "deepnote_to_be_reexecuted": false,
    "execution_millis": 2,
    "execution_start": 1670474061836,
    "output_cleared": true,
    "source_hash": "786c2852",
    "tags": []
   },
   "outputs": [],
   "source": [
    "df_food.drop([82], inplace=True)"
   ]
  },
  {
   "cell_type": "markdown",
   "metadata": {
    "cell_id": "54da4f820bac404f87e2d78fe7891d12",
    "deepnote_cell_type": "markdown",
    "tags": []
   },
   "source": [
    "As all the columns need to be numeric in order to perform K-means clustering, I used a list comprehension to get all the numeric columns. "
   ]
  },
  {
   "cell_type": "code",
   "execution_count": 26,
   "metadata": {
    "cell_id": "62ec82cf3db4474a81b889124d4e9830",
    "deepnote_cell_type": "code",
    "deepnote_to_be_reexecuted": false,
    "execution_millis": 4,
    "execution_start": 1670474061840,
    "output_cleared": true,
    "source_hash": "ac288054",
    "tags": []
   },
   "outputs": [],
   "source": [
    "a = [x for x in df_food.columns if is_numeric_dtype(df_food[x])]"
   ]
  },
  {
   "cell_type": "markdown",
   "metadata": {
    "cell_id": "d0f608a6265948a485eb9657fff5654b",
    "deepnote_cell_type": "markdown",
    "tags": []
   },
   "source": [
    "I also recognized that because the units for the columns are different, such as how calories is measured in \"cal\" while total fat is measured in \"grams,\" I needed to use `StandardScaler` to rescale. \n",
    "\n",
    "The configuration of the following code and Seaborn plot was adapted from [Stack Abuse](https://stackabuse.com/k-means-clustering-with-the-elbow-method/). The Elbow method is used to determine the best amount of clusters needed for K-means clustering. This can be visually found in the plot by the lowest point on the line. \n",
    "\n",
    "For the plot below, it looks like the lowest point is when `x=6`, so I used 6 for `n_clusters` when running the K-means cluster algorithm. \n"
   ]
  },
  {
   "cell_type": "code",
   "execution_count": 27,
   "metadata": {
    "cell_id": "9877c953fa9c43c3ba963288162bb9ed",
    "deepnote_cell_type": "code",
    "deepnote_to_be_reexecuted": false,
    "execution_millis": 2605,
    "execution_start": 1670474061846,
    "output_cleared": false,
    "source_hash": "fb3d166d",
    "tags": []
   },
   "outputs": [
    {
     "data": {
      "image/png": "[encoded data removed]",
      "text/plain": [
       "<Figure size 640x480 with 1 Axes>"
      ]
     },
     "metadata": {
      "image/png": {
       "height": 413,
       "width": 560
      }
     },
     "output_type": "display_data"
    }
   ],
   "source": [
    "ss = StandardScaler()\n",
    "scaled_f = ss.fit_transform(df_food[a])\n",
    "food = []\n",
    "for i in range(1,11):\n",
    "    clustering1 = KMeans(n_clusters=i, init=\"k-means++\")\n",
    "    clustering1.fit(scaled_f)\n",
    "    food.append(clustering1.inertia_)\n",
    "\n",
    "ks = range(1,11)\n",
    "sns.lineplot(x = ks, y = food);"
   ]
  },
  {
   "cell_type": "code",
   "execution_count": 28,
   "metadata": {
    "cell_id": "b44e9d872e81419b8469efb967c9a367",
    "deepnote_cell_type": "code",
    "deepnote_to_be_reexecuted": false,
    "execution_millis": 1,
    "execution_start": 1670474064453,
    "output_cleared": true,
    "source_hash": "9f7dca87",
    "tags": []
   },
   "outputs": [],
   "source": [
    "kmeansf = KMeans(n_clusters=6)"
   ]
  },
  {
   "cell_type": "code",
   "execution_count": 29,
   "metadata": {
    "cell_id": "328300ff1450467bbb129e06500cb286",
    "deepnote_cell_type": "code",
    "deepnote_to_be_reexecuted": false,
    "execution_millis": 265,
    "execution_start": 1670474064456,
    "output_cleared": false,
    "source_hash": "1740e221",
    "tags": []
   },
   "outputs": [
    {
     "data": {
      "text/plain": [
       "KMeans(n_clusters=6)"
      ]
     },
     "execution_count": 29,
     "metadata": {},
     "output_type": "execute_result"
    }
   ],
   "source": [
    "kmeansf.fit(scaled_f)"
   ]
  },
  {
   "cell_type": "code",
   "execution_count": 30,
   "metadata": {
    "cell_id": "d4a83b072fe54cd3bc96b5d28c71a648",
    "deepnote_cell_type": "code",
    "deepnote_to_be_reexecuted": false,
    "execution_millis": 2,
    "execution_start": 1670474064722,
    "source_hash": "b3d02d01",
    "tags": []
   },
   "outputs": [],
   "source": [
    "df_food2=df_food.copy()"
   ]
  },
  {
   "cell_type": "code",
   "execution_count": 31,
   "metadata": {
    "cell_id": "716086e7f5f5465c8c0109dad6106475",
    "deepnote_cell_type": "code",
    "deepnote_to_be_reexecuted": false,
    "execution_millis": 3,
    "execution_start": 1670474064726,
    "output_cleared": true,
    "source_hash": "9e3039c9",
    "tags": []
   },
   "outputs": [],
   "source": [
    "df_food2[\"cluster\"] = kmeansf.predict(scaled_f)"
   ]
  },
  {
   "cell_type": "code",
   "execution_count": 32,
   "metadata": {
    "cell_id": "b2c70c6b35e34c088add6e91ffb8eac9",
    "deepnote_cell_type": "code",
    "deepnote_to_be_reexecuted": false,
    "execution_millis": 46,
    "execution_start": 1670474064741,
    "output_cleared": false,
    "source_hash": "ed69ec4c",
    "tags": []
   },
   "outputs": [
    {
     "data": {
      "text/html": [
       "\n",
       "<div id=\"altair-viz-35f2504dabfd493f86c95f375ac8b74e\"></div>\n",
       "<script type=\"text/javascript\">\n",
       "  var VEGA_DEBUG = (typeof VEGA_DEBUG == \"undefined\") ? {} : VEGA_DEBUG;\n",
       "  (function(spec, embedOpt){\n",
       "    let outputDiv = document.currentScript.previousElementSibling;\n",
       "    if (outputDiv.id !== \"altair-viz-35f2504dabfd493f86c95f375ac8b74e\") {\n",
       "      outputDiv = document.getElementById(\"altair-viz-35f2504dabfd493f86c95f375ac8b74e\");\n",
       "    }\n",
       "    const paths = {\n",
       "      \"vega\": \"https://cdn.jsdelivr.net/npm//vega@5?noext\",\n",
       "      \"vega-lib\": \"https://cdn.jsdelivr.net/npm//vega-lib?noext\",\n",
       "      \"vega-lite\": \"https://cdn.jsdelivr.net/npm//vega-lite@4.17.0?noext\",\n",
       "      \"vega-embed\": \"https://cdn.jsdelivr.net/npm//vega-embed@6?noext\",\n",
       "    };\n",
       "\n",
       "    function maybeLoadScript(lib, version) {\n",
       "      var key = `${lib.replace(\"-\", \"\")}_version`;\n",
       "      return (VEGA_DEBUG[key] == version) ?\n",
       "        Promise.resolve(paths[lib]) :\n",
       "        new Promise(function(resolve, reject) {\n",
       "          var s = document.createElement('script');\n",
       "          document.getElementsByTagName(\"head\")[0].appendChild(s);\n",
       "          s.async = true;\n",
       "          s.onload = () => {\n",
       "            VEGA_DEBUG[key] = version;\n",
       "            return resolve(paths[lib]);\n",
       "          };\n",
       "          s.onerror = () => reject(`Error loading script: ${paths[lib]}`);\n",
       "          s.src = paths[lib];\n",
       "        });\n",
       "    }\n",
       "\n",
       "    function showError(err) {\n",
       "      outputDiv.innerHTML = `<div class=\"error\" style=\"color:red;\">${err}</div>`;\n",
       "      throw err;\n",
       "    }\n",
       "\n",
       "    function displayChart(vegaEmbed) {\n",
       "      vegaEmbed(outputDiv, spec, embedOpt)\n",
       "        .catch(err => showError(`Javascript Error: ${err.message}<br>This usually means there's a typo in your chart specification. See the javascript console for the full traceback.`));\n",
       "    }\n",
       "\n",
       "    if(typeof define === \"function\" && define.amd) {\n",
       "      requirejs.config({paths});\n",
       "      require([\"vega-embed\"], displayChart, err => showError(`Error loading script: ${err.message}`));\n",
       "    } else {\n",
       "      maybeLoadScript(\"vega\", \"5\")\n",
       "        .then(() => maybeLoadScript(\"vega-lite\", \"4.17.0\"))\n",
       "        .then(() => maybeLoadScript(\"vega-embed\", \"6\"))\n",
       "        .catch(showError)\n",
       "        .then(() => displayChart(vegaEmbed));\n",
       "    }\n",
       "  })({\"config\": {\"view\": {\"continuousWidth\": 400, \"continuousHeight\": 300}}, \"data\": {\"name\": \"data-2220accd8d66606547f54cdcb23cd160\"}, \"mark\": \"circle\", \"encoding\": {\"color\": {\"field\": \"cluster\", \"type\": \"nominal\"}, \"opacity\": {\"condition\": {\"value\": 1, \"selection\": \"selector001\"}, \"value\": 0.4}, \"size\": {\"condition\": {\"value\": 80, \"selection\": \"selector001\"}, \"value\": 20}, \"tooltip\": [{\"field\": \"Store\", \"type\": \"nominal\"}, {\"field\": \"Item\", \"type\": \"nominal\"}, {\"field\": \"Calories\", \"type\": \"quantitative\"}], \"x\": {\"field\": \"Total Fat\", \"type\": \"quantitative\"}, \"y\": {\"field\": \"Carbohydrates\", \"type\": \"quantitative\"}}, \"selection\": {\"selector001\": {\"type\": \"single\", \"fields\": [\"cluster\"], \"empty\": \"none\"}}, \"title\": \"Clustering by Calories\", \"$schema\": \"https://vega.github.io/schema/vega-lite/v4.17.0.json\", \"datasets\": {\"data-2220accd8d66606547f54cdcb23cd160\": [{\"Store\": \"McDonald's\", \"Item\": \"Egg McMuffin\", \"Calories\": 300, \"Total Fat\": 13.0, \"Carbohydrates\": 31, \"Dietary Fiber\": 4, \"Protein\": 17, \"cluster\": 1}, {\"Store\": \"McDonald's\", \"Item\": \"Egg White Delight\", \"Calories\": 250, \"Total Fat\": 8.0, \"Carbohydrates\": 30, \"Dietary Fiber\": 4, \"Protein\": 18, \"cluster\": 3}, {\"Store\": \"McDonald's\", \"Item\": \"Sausage McMuffin\", \"Calories\": 370, \"Total Fat\": 23.0, \"Carbohydrates\": 29, \"Dietary Fiber\": 4, \"Protein\": 14, \"cluster\": 1}, {\"Store\": \"McDonald's\", \"Item\": \"Sausage McMuffin with Egg\", \"Calories\": 450, \"Total Fat\": 28.0, \"Carbohydrates\": 30, \"Dietary Fiber\": 4, \"Protein\": 21, \"cluster\": 1}, {\"Store\": \"McDonald's\", \"Item\": \"Sausage McMuffin with Egg Whites\", \"Calories\": 400, \"Total Fat\": 23.0, \"Carbohydrates\": 30, \"Dietary Fiber\": 4, \"Protein\": 21, \"cluster\": 1}, {\"Store\": \"McDonald's\", \"Item\": \"Steak & Egg McMuffin\", \"Calories\": 430, \"Total Fat\": 23.0, \"Carbohydrates\": 31, \"Dietary Fiber\": 4, \"Protein\": 26, \"cluster\": 1}, {\"Store\": \"McDonald's\", \"Item\": \"Bacon, Egg & Cheese Biscuit (Regular Biscuit)\", \"Calories\": 460, \"Total Fat\": 26.0, \"Carbohydrates\": 38, \"Dietary Fiber\": 2, \"Protein\": 19, \"cluster\": 1}, {\"Store\": \"McDonald's\", \"Item\": \"Bacon, Egg & Cheese Biscuit (Large Biscuit)\", \"Calories\": 520, \"Total Fat\": 30.0, \"Carbohydrates\": 43, \"Dietary Fiber\": 3, \"Protein\": 19, \"cluster\": 1}, {\"Store\": \"McDonald's\", \"Item\": \"Bacon, Egg & Cheese Biscuit with Egg Whites (Regular Biscuit)\", \"Calories\": 410, \"Total Fat\": 20.0, \"Carbohydrates\": 36, \"Dietary Fiber\": 2, \"Protein\": 20, \"cluster\": 1}, {\"Store\": \"McDonald's\", \"Item\": \"Bacon, Egg & Cheese Biscuit with Egg Whites (Large Biscuit)\", \"Calories\": 470, \"Total Fat\": 25.0, \"Carbohydrates\": 42, \"Dietary Fiber\": 3, \"Protein\": 20, \"cluster\": 1}, {\"Store\": \"McDonald's\", \"Item\": \"Sausage Biscuit (Regular Biscuit)\", \"Calories\": 430, \"Total Fat\": 27.0, \"Carbohydrates\": 34, \"Dietary Fiber\": 2, \"Protein\": 11, \"cluster\": 1}, {\"Store\": \"McDonald's\", \"Item\": \"Sausage Biscuit (Large Biscuit)\", \"Calories\": 480, \"Total Fat\": 31.0, \"Carbohydrates\": 39, \"Dietary Fiber\": 3, \"Protein\": 11, \"cluster\": 1}, {\"Store\": \"McDonald's\", \"Item\": \"Sausage Biscuit with Egg (Regular Biscuit)\", \"Calories\": 510, \"Total Fat\": 33.0, \"Carbohydrates\": 36, \"Dietary Fiber\": 2, \"Protein\": 18, \"cluster\": 1}, {\"Store\": \"McDonald's\", \"Item\": \"Sausage Biscuit with Egg (Large Biscuit)\", \"Calories\": 570, \"Total Fat\": 37.0, \"Carbohydrates\": 42, \"Dietary Fiber\": 3, \"Protein\": 18, \"cluster\": 1}, {\"Store\": \"McDonald's\", \"Item\": \"Sausage Biscuit with Egg Whites (Regular Biscuit)\", \"Calories\": 460, \"Total Fat\": 27.0, \"Carbohydrates\": 34, \"Dietary Fiber\": 2, \"Protein\": 18, \"cluster\": 1}, {\"Store\": \"McDonald's\", \"Item\": \"Sausage Biscuit with Egg Whites (Large Biscuit)\", \"Calories\": 520, \"Total Fat\": 32.0, \"Carbohydrates\": 40, \"Dietary Fiber\": 3, \"Protein\": 18, \"cluster\": 1}, {\"Store\": \"McDonald's\", \"Item\": \"Southern Style Chicken Biscuit (Regular Biscuit)\", \"Calories\": 410, \"Total Fat\": 20.0, \"Carbohydrates\": 41, \"Dietary Fiber\": 2, \"Protein\": 17, \"cluster\": 1}, {\"Store\": \"McDonald's\", \"Item\": \"Southern Style Chicken Biscuit (Large Biscuit)\", \"Calories\": 470, \"Total Fat\": 24.0, \"Carbohydrates\": 46, \"Dietary Fiber\": 3, \"Protein\": 17, \"cluster\": 1}, {\"Store\": \"McDonald's\", \"Item\": \"Steak & Egg Biscuit (Regular Biscuit)\", \"Calories\": 540, \"Total Fat\": 32.0, \"Carbohydrates\": 38, \"Dietary Fiber\": 2, \"Protein\": 25, \"cluster\": 1}, {\"Store\": \"McDonald's\", \"Item\": \"Bacon, Egg & Cheese McGriddles\", \"Calories\": 460, \"Total Fat\": 21.0, \"Carbohydrates\": 48, \"Dietary Fiber\": 2, \"Protein\": 19, \"cluster\": 1}, {\"Store\": \"McDonald's\", \"Item\": \"Bacon, Egg & Cheese McGriddles with Egg Whites\", \"Calories\": 400, \"Total Fat\": 15.0, \"Carbohydrates\": 47, \"Dietary Fiber\": 2, \"Protein\": 20, \"cluster\": 1}, {\"Store\": \"McDonald's\", \"Item\": \"Sausage McGriddles\", \"Calories\": 420, \"Total Fat\": 22.0, \"Carbohydrates\": 44, \"Dietary Fiber\": 2, \"Protein\": 11, \"cluster\": 0}, {\"Store\": \"McDonald's\", \"Item\": \"Sausage, Egg & Cheese McGriddles\", \"Calories\": 550, \"Total Fat\": 31.0, \"Carbohydrates\": 48, \"Dietary Fiber\": 2, \"Protein\": 20, \"cluster\": 1}, {\"Store\": \"McDonald's\", \"Item\": \"Sausage, Egg & Cheese McGriddles with Egg Whites\", \"Calories\": 500, \"Total Fat\": 26.0, \"Carbohydrates\": 46, \"Dietary Fiber\": 2, \"Protein\": 21, \"cluster\": 1}, {\"Store\": \"McDonald's\", \"Item\": \"Bacon, Egg & Cheese Bagel\", \"Calories\": 620, \"Total Fat\": 31.0, \"Carbohydrates\": 57, \"Dietary Fiber\": 3, \"Protein\": 30, \"cluster\": 5}, {\"Store\": \"McDonald's\", \"Item\": \"Bacon, Egg & Cheese Bagel with Egg Whites\", \"Calories\": 570, \"Total Fat\": 25.0, \"Carbohydrates\": 55, \"Dietary Fiber\": 3, \"Protein\": 30, \"cluster\": 5}, {\"Store\": \"McDonald's\", \"Item\": \"Steak, Egg & Cheese Bagel\", \"Calories\": 670, \"Total Fat\": 35.0, \"Carbohydrates\": 56, \"Dietary Fiber\": 3, \"Protein\": 33, \"cluster\": 5}, {\"Store\": \"McDonald's\", \"Item\": \"Big Breakfast (Regular Biscuit)\", \"Calories\": 740, \"Total Fat\": 48.0, \"Carbohydrates\": 51, \"Dietary Fiber\": 3, \"Protein\": 28, \"cluster\": 5}, {\"Store\": \"McDonald's\", \"Item\": \"Big Breakfast (Large Biscuit)\", \"Calories\": 800, \"Total Fat\": 52.0, \"Carbohydrates\": 56, \"Dietary Fiber\": 4, \"Protein\": 28, \"cluster\": 5}, {\"Store\": \"McDonald's\", \"Item\": \"Big Breakfast with Egg Whites (Regular Biscuit)\", \"Calories\": 640, \"Total Fat\": 37.0, \"Carbohydrates\": 50, \"Dietary Fiber\": 3, \"Protein\": 26, \"cluster\": 5}, {\"Store\": \"McDonald's\", \"Item\": \"Big Breakfast with Egg Whites (Large Biscuit)\", \"Calories\": 690, \"Total Fat\": 41.0, \"Carbohydrates\": 55, \"Dietary Fiber\": 4, \"Protein\": 26, \"cluster\": 5}, {\"Store\": \"McDonald's\", \"Item\": \"Big Breakfast with Hotcakes (Regular Biscuit)\", \"Calories\": 1090, \"Total Fat\": 56.0, \"Carbohydrates\": 111, \"Dietary Fiber\": 6, \"Protein\": 36, \"cluster\": 2}, {\"Store\": \"McDonald's\", \"Item\": \"Big Breakfast with Hotcakes (Large Biscuit)\", \"Calories\": 1150, \"Total Fat\": 60.0, \"Carbohydrates\": 116, \"Dietary Fiber\": 7, \"Protein\": 36, \"cluster\": 2}, {\"Store\": \"McDonald's\", \"Item\": \"Big Breakfast with Hotcakes and Egg Whites (Regular Biscuit)\", \"Calories\": 990, \"Total Fat\": 46.0, \"Carbohydrates\": 110, \"Dietary Fiber\": 6, \"Protein\": 35, \"cluster\": 2}, {\"Store\": \"McDonald's\", \"Item\": \"Big Breakfast with Hotcakes and Egg Whites (Large Biscuit)\", \"Calories\": 1050, \"Total Fat\": 50.0, \"Carbohydrates\": 115, \"Dietary Fiber\": 7, \"Protein\": 35, \"cluster\": 2}, {\"Store\": \"McDonald's\", \"Item\": \"Hotcakes\", \"Calories\": 350, \"Total Fat\": 9.0, \"Carbohydrates\": 60, \"Dietary Fiber\": 3, \"Protein\": 8, \"cluster\": 0}, {\"Store\": \"McDonald's\", \"Item\": \"Hotcakes and Sausage\", \"Calories\": 520, \"Total Fat\": 24.0, \"Carbohydrates\": 61, \"Dietary Fiber\": 3, \"Protein\": 15, \"cluster\": 1}, {\"Store\": \"McDonald's\", \"Item\": \"Sausage Burrito\", \"Calories\": 300, \"Total Fat\": 16.0, \"Carbohydrates\": 26, \"Dietary Fiber\": 1, \"Protein\": 12, \"cluster\": 3}, {\"Store\": \"McDonald's\", \"Item\": \"Hash Brown\", \"Calories\": 150, \"Total Fat\": 9.0, \"Carbohydrates\": 15, \"Dietary Fiber\": 2, \"Protein\": 1, \"cluster\": 3}, {\"Store\": \"McDonald's\", \"Item\": \"Cinnamon Melts\", \"Calories\": 460, \"Total Fat\": 19.0, \"Carbohydrates\": 66, \"Dietary Fiber\": 3, \"Protein\": 6, \"cluster\": 0}, {\"Store\": \"McDonald's\", \"Item\": \"Fruit & Maple Oatmeal\", \"Calories\": 290, \"Total Fat\": 4.0, \"Carbohydrates\": 58, \"Dietary Fiber\": 5, \"Protein\": 5, \"cluster\": 0}, {\"Store\": \"McDonald's\", \"Item\": \"Fruit & Maple Oatmeal without Brown Sugar\", \"Calories\": 260, \"Total Fat\": 4.0, \"Carbohydrates\": 49, \"Dietary Fiber\": 5, \"Protein\": 5, \"cluster\": 0}, {\"Store\": \"McDonald's\", \"Item\": \"Big Mac\", \"Calories\": 530, \"Total Fat\": 27.0, \"Carbohydrates\": 47, \"Dietary Fiber\": 3, \"Protein\": 24, \"cluster\": 1}, {\"Store\": \"McDonald's\", \"Item\": \"Quarter Pounder with Cheese\", \"Calories\": 520, \"Total Fat\": 26.0, \"Carbohydrates\": 41, \"Dietary Fiber\": 3, \"Protein\": 30, \"cluster\": 1}, {\"Store\": \"McDonald's\", \"Item\": \"Quarter Pounder with Bacon & Cheese\", \"Calories\": 600, \"Total Fat\": 29.0, \"Carbohydrates\": 48, \"Dietary Fiber\": 3, \"Protein\": 37, \"cluster\": 5}, {\"Store\": \"McDonald's\", \"Item\": \"Quarter Pounder with Bacon Habanero Ranch\", \"Calories\": 610, \"Total Fat\": 31.0, \"Carbohydrates\": 46, \"Dietary Fiber\": 3, \"Protein\": 37, \"cluster\": 5}, {\"Store\": \"McDonald's\", \"Item\": \"Quarter Pounder Deluxe\", \"Calories\": 540, \"Total Fat\": 27.0, \"Carbohydrates\": 45, \"Dietary Fiber\": 3, \"Protein\": 29, \"cluster\": 1}, {\"Store\": \"McDonald's\", \"Item\": \"Double Quarter Pounder with Cheese\", \"Calories\": 750, \"Total Fat\": 43.0, \"Carbohydrates\": 42, \"Dietary Fiber\": 3, \"Protein\": 48, \"cluster\": 5}, {\"Store\": \"McDonald's\", \"Item\": \"Hamburger\", \"Calories\": 240, \"Total Fat\": 8.0, \"Carbohydrates\": 32, \"Dietary Fiber\": 1, \"Protein\": 12, \"cluster\": 3}, {\"Store\": \"McDonald's\", \"Item\": \"Cheeseburger\", \"Calories\": 290, \"Total Fat\": 11.0, \"Carbohydrates\": 33, \"Dietary Fiber\": 2, \"Protein\": 15, \"cluster\": 3}, {\"Store\": \"McDonald's\", \"Item\": \"Double Cheeseburger\", \"Calories\": 430, \"Total Fat\": 21.0, \"Carbohydrates\": 35, \"Dietary Fiber\": 2, \"Protein\": 24, \"cluster\": 1}, {\"Store\": \"McDonald's\", \"Item\": \"Bacon Clubhouse Burger\", \"Calories\": 720, \"Total Fat\": 40.0, \"Carbohydrates\": 51, \"Dietary Fiber\": 4, \"Protein\": 39, \"cluster\": 5}, {\"Store\": \"McDonald's\", \"Item\": \"McDouble\", \"Calories\": 380, \"Total Fat\": 17.0, \"Carbohydrates\": 34, \"Dietary Fiber\": 2, \"Protein\": 22, \"cluster\": 1}, {\"Store\": \"McDonald's\", \"Item\": \"Bacon McDouble\", \"Calories\": 440, \"Total Fat\": 22.0, \"Carbohydrates\": 35, \"Dietary Fiber\": 2, \"Protein\": 27, \"cluster\": 1}, {\"Store\": \"McDonald's\", \"Item\": \"Daily Double\", \"Calories\": 430, \"Total Fat\": 22.0, \"Carbohydrates\": 34, \"Dietary Fiber\": 2, \"Protein\": 22, \"cluster\": 1}, {\"Store\": \"McDonald's\", \"Item\": \"Jalape\\u00f1o Double\", \"Calories\": 430, \"Total Fat\": 23.0, \"Carbohydrates\": 35, \"Dietary Fiber\": 2, \"Protein\": 22, \"cluster\": 1}, {\"Store\": \"McDonald's\", \"Item\": \"McRib\", \"Calories\": 500, \"Total Fat\": 26.0, \"Carbohydrates\": 44, \"Dietary Fiber\": 3, \"Protein\": 22, \"cluster\": 1}, {\"Store\": \"McDonald's\", \"Item\": \"Premium Crispy Chicken Classic Sandwich\", \"Calories\": 510, \"Total Fat\": 22.0, \"Carbohydrates\": 55, \"Dietary Fiber\": 3, \"Protein\": 24, \"cluster\": 1}, {\"Store\": \"McDonald's\", \"Item\": \"Premium Grilled Chicken Classic Sandwich\", \"Calories\": 350, \"Total Fat\": 9.0, \"Carbohydrates\": 42, \"Dietary Fiber\": 3, \"Protein\": 28, \"cluster\": 1}, {\"Store\": \"McDonald's\", \"Item\": \"Premium Crispy Chicken Club Sandwich\", \"Calories\": 670, \"Total Fat\": 33.0, \"Carbohydrates\": 58, \"Dietary Fiber\": 3, \"Protein\": 36, \"cluster\": 5}, {\"Store\": \"McDonald's\", \"Item\": \"Premium Grilled Chicken Club Sandwich\", \"Calories\": 510, \"Total Fat\": 20.0, \"Carbohydrates\": 44, \"Dietary Fiber\": 3, \"Protein\": 40, \"cluster\": 1}, {\"Store\": \"McDonald's\", \"Item\": \"Premium Crispy Chicken Ranch BLT Sandwich\", \"Calories\": 610, \"Total Fat\": 28.0, \"Carbohydrates\": 57, \"Dietary Fiber\": 3, \"Protein\": 32, \"cluster\": 5}, {\"Store\": \"McDonald's\", \"Item\": \"Premium Grilled Chicken Ranch BLT Sandwich\", \"Calories\": 450, \"Total Fat\": 15.0, \"Carbohydrates\": 43, \"Dietary Fiber\": 3, \"Protein\": 36, \"cluster\": 1}, {\"Store\": \"McDonald's\", \"Item\": \"Bacon Clubhouse Crispy Chicken Sandwich\", \"Calories\": 750, \"Total Fat\": 38.0, \"Carbohydrates\": 65, \"Dietary Fiber\": 4, \"Protein\": 36, \"cluster\": 5}, {\"Store\": \"McDonald's\", \"Item\": \"Bacon Clubhouse Grilled Chicken Sandwich\", \"Calories\": 590, \"Total Fat\": 25.0, \"Carbohydrates\": 51, \"Dietary Fiber\": 4, \"Protein\": 40, \"cluster\": 5}, {\"Store\": \"McDonald's\", \"Item\": \"Southern Style Crispy Chicken Sandwich\", \"Calories\": 430, \"Total Fat\": 19.0, \"Carbohydrates\": 43, \"Dietary Fiber\": 2, \"Protein\": 21, \"cluster\": 1}, {\"Store\": \"McDonald's\", \"Item\": \"McChicken\", \"Calories\": 360, \"Total Fat\": 16.0, \"Carbohydrates\": 40, \"Dietary Fiber\": 2, \"Protein\": 14, \"cluster\": 0}, {\"Store\": \"McDonald's\", \"Item\": \"Bacon Cheddar McChicken\", \"Calories\": 480, \"Total Fat\": 24.0, \"Carbohydrates\": 43, \"Dietary Fiber\": 2, \"Protein\": 22, \"cluster\": 1}, {\"Store\": \"McDonald's\", \"Item\": \"Bacon Buffalo Ranch McChicken\", \"Calories\": 430, \"Total Fat\": 21.0, \"Carbohydrates\": 41, \"Dietary Fiber\": 2, \"Protein\": 20, \"cluster\": 1}, {\"Store\": \"McDonald's\", \"Item\": \"Buffalo Ranch McChicken\", \"Calories\": 360, \"Total Fat\": 16.0, \"Carbohydrates\": 40, \"Dietary Fiber\": 2, \"Protein\": 14, \"cluster\": 0}, {\"Store\": \"McDonald's\", \"Item\": \"Premium McWrap Chicken & Bacon (Crispy Chicken)\", \"Calories\": 630, \"Total Fat\": 32.0, \"Carbohydrates\": 56, \"Dietary Fiber\": 3, \"Protein\": 32, \"cluster\": 5}, {\"Store\": \"McDonald's\", \"Item\": \"Premium McWrap Chicken & Bacon (Grilled Chicken)\", \"Calories\": 480, \"Total Fat\": 19.0, \"Carbohydrates\": 42, \"Dietary Fiber\": 3, \"Protein\": 36, \"cluster\": 1}, {\"Store\": \"McDonald's\", \"Item\": \"Premium McWrap Chicken & Ranch (Crispy Chicken)\", \"Calories\": 610, \"Total Fat\": 31.0, \"Carbohydrates\": 56, \"Dietary Fiber\": 3, \"Protein\": 27, \"cluster\": 5}, {\"Store\": \"McDonald's\", \"Item\": \"Premium McWrap Chicken & Ranch (Grilled Chicken)\", \"Calories\": 450, \"Total Fat\": 18.0, \"Carbohydrates\": 42, \"Dietary Fiber\": 3, \"Protein\": 30, \"cluster\": 1}, {\"Store\": \"McDonald's\", \"Item\": \"Premium McWrap Southwest Chicken (Crispy Chicken)\", \"Calories\": 670, \"Total Fat\": 33.0, \"Carbohydrates\": 68, \"Dietary Fiber\": 5, \"Protein\": 27, \"cluster\": 5}, {\"Store\": \"McDonald's\", \"Item\": \"Premium McWrap Southwest Chicken (Grilled Chicken)\", \"Calories\": 520, \"Total Fat\": 20.0, \"Carbohydrates\": 55, \"Dietary Fiber\": 5, \"Protein\": 31, \"cluster\": 1}, {\"Store\": \"McDonald's\", \"Item\": \"Premium McWrap Chicken Sweet Chili (Crispy Chicken)\", \"Calories\": 540, \"Total Fat\": 23.0, \"Carbohydrates\": 61, \"Dietary Fiber\": 3, \"Protein\": 23, \"cluster\": 1}, {\"Store\": \"McDonald's\", \"Item\": \"Premium McWrap Chicken Sweet Chili (Grilled Chicken)\", \"Calories\": 380, \"Total Fat\": 10.0, \"Carbohydrates\": 47, \"Dietary Fiber\": 3, \"Protein\": 27, \"cluster\": 1}, {\"Store\": \"McDonald's\", \"Item\": \"Chicken McNuggets (4 piece)\", \"Calories\": 190, \"Total Fat\": 12.0, \"Carbohydrates\": 12, \"Dietary Fiber\": 1, \"Protein\": 9, \"cluster\": 3}, {\"Store\": \"McDonald's\", \"Item\": \"Chicken McNuggets (6 piece)\", \"Calories\": 280, \"Total Fat\": 18.0, \"Carbohydrates\": 18, \"Dietary Fiber\": 1, \"Protein\": 13, \"cluster\": 3}, {\"Store\": \"McDonald's\", \"Item\": \"Chicken McNuggets (10 piece)\", \"Calories\": 470, \"Total Fat\": 30.0, \"Carbohydrates\": 30, \"Dietary Fiber\": 2, \"Protein\": 22, \"cluster\": 1}, {\"Store\": \"McDonald's\", \"Item\": \"Chicken McNuggets (20 piece)\", \"Calories\": 940, \"Total Fat\": 59.0, \"Carbohydrates\": 59, \"Dietary Fiber\": 3, \"Protein\": 44, \"cluster\": 5}, {\"Store\": \"McDonald's\", \"Item\": \"Filet-O-Fish\", \"Calories\": 390, \"Total Fat\": 19.0, \"Carbohydrates\": 39, \"Dietary Fiber\": 2, \"Protein\": 15, \"cluster\": 1}, {\"Store\": \"McDonald's\", \"Item\": \"Premium Bacon Ranch Salad (without Chicken)\", \"Calories\": 140, \"Total Fat\": 7.0, \"Carbohydrates\": 10, \"Dietary Fiber\": 3, \"Protein\": 9, \"cluster\": 3}, {\"Store\": \"McDonald's\", \"Item\": \"Premium Bacon Ranch Salad with Crispy Chicken\", \"Calories\": 380, \"Total Fat\": 21.0, \"Carbohydrates\": 22, \"Dietary Fiber\": 2, \"Protein\": 25, \"cluster\": 1}, {\"Store\": \"McDonald's\", \"Item\": \"Premium Bacon Ranch Salad with Grilled Chicken\", \"Calories\": 220, \"Total Fat\": 8.0, \"Carbohydrates\": 8, \"Dietary Fiber\": 2, \"Protein\": 29, \"cluster\": 3}, {\"Store\": \"McDonald's\", \"Item\": \"Premium Southwest Salad (without Chicken)\", \"Calories\": 140, \"Total Fat\": 4.5, \"Carbohydrates\": 20, \"Dietary Fiber\": 6, \"Protein\": 6, \"cluster\": 3}, {\"Store\": \"McDonald's\", \"Item\": \"Premium Southwest Salad with Crispy Chicken\", \"Calories\": 450, \"Total Fat\": 22.0, \"Carbohydrates\": 42, \"Dietary Fiber\": 7, \"Protein\": 23, \"cluster\": 4}, {\"Store\": \"McDonald's\", \"Item\": \"Premium Southwest Salad with Grilled Chicken\", \"Calories\": 290, \"Total Fat\": 8.0, \"Carbohydrates\": 28, \"Dietary Fiber\": 7, \"Protein\": 27, \"cluster\": 1}, {\"Store\": \"McDonald's\", \"Item\": \"Chipotle BBQ Snack Wrap (Crispy Chicken)\", \"Calories\": 340, \"Total Fat\": 15.0, \"Carbohydrates\": 37, \"Dietary Fiber\": 1, \"Protein\": 14, \"cluster\": 0}, {\"Store\": \"McDonald's\", \"Item\": \"Chipotle BBQ Snack Wrap (Grilled Chicken)\", \"Calories\": 260, \"Total Fat\": 8.0, \"Carbohydrates\": 30, \"Dietary Fiber\": 1, \"Protein\": 16, \"cluster\": 3}, {\"Store\": \"McDonald's\", \"Item\": \"Honey Mustard Snack Wrap (Crispy Chicken)\", \"Calories\": 330, \"Total Fat\": 15.0, \"Carbohydrates\": 34, \"Dietary Fiber\": 1, \"Protein\": 14, \"cluster\": 0}, {\"Store\": \"McDonald's\", \"Item\": \"Honey Mustard Snack Wrap (Grilled Chicken)\", \"Calories\": 250, \"Total Fat\": 8.0, \"Carbohydrates\": 27, \"Dietary Fiber\": 1, \"Protein\": 16, \"cluster\": 3}, {\"Store\": \"McDonald's\", \"Item\": \"Ranch Snack Wrap (Crispy Chicken)\", \"Calories\": 360, \"Total Fat\": 20.0, \"Carbohydrates\": 32, \"Dietary Fiber\": 1, \"Protein\": 15, \"cluster\": 1}, {\"Store\": \"McDonald's\", \"Item\": \"Ranch Snack Wrap (Grilled Chicken)\", \"Calories\": 280, \"Total Fat\": 13.0, \"Carbohydrates\": 25, \"Dietary Fiber\": 1, \"Protein\": 16, \"cluster\": 3}, {\"Store\": \"McDonald's\", \"Item\": \"Small French Fries\", \"Calories\": 230, \"Total Fat\": 11.0, \"Carbohydrates\": 30, \"Dietary Fiber\": 2, \"Protein\": 2, \"cluster\": 3}, {\"Store\": \"McDonald's\", \"Item\": \"Medium French Fries\", \"Calories\": 340, \"Total Fat\": 16.0, \"Carbohydrates\": 44, \"Dietary Fiber\": 4, \"Protein\": 4, \"cluster\": 0}, {\"Store\": \"McDonald's\", \"Item\": \"Large French Fries\", \"Calories\": 510, \"Total Fat\": 24.0, \"Carbohydrates\": 67, \"Dietary Fiber\": 5, \"Protein\": 6, \"cluster\": 0}, {\"Store\": \"McDonald's\", \"Item\": \"Kids French Fries\", \"Calories\": 110, \"Total Fat\": 5.0, \"Carbohydrates\": 15, \"Dietary Fiber\": 1, \"Protein\": 1, \"cluster\": 3}, {\"Store\": \"McDonald's\", \"Item\": \"Side Salad\", \"Calories\": 20, \"Total Fat\": 0.0, \"Carbohydrates\": 4, \"Dietary Fiber\": 1, \"Protein\": 1, \"cluster\": 3}, {\"Store\": \"McDonald's\", \"Item\": \"Apple Slices\", \"Calories\": 15, \"Total Fat\": 0.0, \"Carbohydrates\": 4, \"Dietary Fiber\": 0, \"Protein\": 0, \"cluster\": 3}, {\"Store\": \"McDonald's\", \"Item\": \"Fruit 'n Yogurt Parfait\", \"Calories\": 150, \"Total Fat\": 2.0, \"Carbohydrates\": 30, \"Dietary Fiber\": 1, \"Protein\": 4, \"cluster\": 3}, {\"Store\": \"McDonald's\", \"Item\": \"Baked Apple Pie\", \"Calories\": 250, \"Total Fat\": 13.0, \"Carbohydrates\": 32, \"Dietary Fiber\": 4, \"Protein\": 2, \"cluster\": 3}, {\"Store\": \"McDonald's\", \"Item\": \"Chocolate Chip Cookie\", \"Calories\": 160, \"Total Fat\": 8.0, \"Carbohydrates\": 21, \"Dietary Fiber\": 1, \"Protein\": 2, \"cluster\": 3}, {\"Store\": \"McDonald's\", \"Item\": \"Oatmeal Raisin Cookie\", \"Calories\": 150, \"Total Fat\": 6.0, \"Carbohydrates\": 22, \"Dietary Fiber\": 1, \"Protein\": 2, \"cluster\": 3}, {\"Store\": \"McDonald's\", \"Item\": \"Kids Ice Cream Cone\", \"Calories\": 45, \"Total Fat\": 1.5, \"Carbohydrates\": 7, \"Dietary Fiber\": 0, \"Protein\": 1, \"cluster\": 3}, {\"Store\": \"McDonald's\", \"Item\": \"Hot Fudge Sundae\", \"Calories\": 330, \"Total Fat\": 9.0, \"Carbohydrates\": 53, \"Dietary Fiber\": 1, \"Protein\": 8, \"cluster\": 0}, {\"Store\": \"McDonald's\", \"Item\": \"Hot Caramel Sundae\", \"Calories\": 340, \"Total Fat\": 8.0, \"Carbohydrates\": 60, \"Dietary Fiber\": 0, \"Protein\": 7, \"cluster\": 0}, {\"Store\": \"McDonald's\", \"Item\": \"Strawberry Sundae\", \"Calories\": 280, \"Total Fat\": 6.0, \"Carbohydrates\": 49, \"Dietary Fiber\": 0, \"Protein\": 6, \"cluster\": 0}, {\"Store\": \"Starbucks\", \"Item\": \"Chonga Bagel\", \"Calories\": 300, \"Total Fat\": 5.0, \"Carbohydrates\": 50, \"Dietary Fiber\": 3, \"Protein\": 12, \"cluster\": 0}, {\"Store\": \"Starbucks\", \"Item\": \"8-Grain Roll\", \"Calories\": 380, \"Total Fat\": 6.0, \"Carbohydrates\": 70, \"Dietary Fiber\": 7, \"Protein\": 10, \"cluster\": 4}, {\"Store\": \"Starbucks\", \"Item\": \"Almond Croissant\", \"Calories\": 410, \"Total Fat\": 22.0, \"Carbohydrates\": 45, \"Dietary Fiber\": 3, \"Protein\": 10, \"cluster\": 0}, {\"Store\": \"Starbucks\", \"Item\": \"Apple Fritter\", \"Calories\": 460, \"Total Fat\": 23.0, \"Carbohydrates\": 56, \"Dietary Fiber\": 2, \"Protein\": 7, \"cluster\": 0}, {\"Store\": \"Starbucks\", \"Item\": \"Banana Nut Bread\", \"Calories\": 420, \"Total Fat\": 22.0, \"Carbohydrates\": 52, \"Dietary Fiber\": 2, \"Protein\": 6, \"cluster\": 0}, {\"Store\": \"Starbucks\", \"Item\": \"Blueberry Muffin with Yogurt and Honey\", \"Calories\": 380, \"Total Fat\": 16.0, \"Carbohydrates\": 53, \"Dietary Fiber\": 1, \"Protein\": 6, \"cluster\": 0}, {\"Store\": \"Starbucks\", \"Item\": \"Blueberry Scone\", \"Calories\": 420, \"Total Fat\": 17.0, \"Carbohydrates\": 61, \"Dietary Fiber\": 2, \"Protein\": 5, \"cluster\": 0}, {\"Store\": \"Starbucks\", \"Item\": \"Butter Croissant\", \"Calories\": 240, \"Total Fat\": 12.0, \"Carbohydrates\": 28, \"Dietary Fiber\": 1, \"Protein\": 5, \"cluster\": 3}, {\"Store\": \"Starbucks\", \"Item\": \"Butterfly Cookie\", \"Calories\": 350, \"Total Fat\": 22.0, \"Carbohydrates\": 38, \"Dietary Fiber\": 0, \"Protein\": 2, \"cluster\": 0}, {\"Store\": \"Starbucks\", \"Item\": \"Cheese Danish\", \"Calories\": 320, \"Total Fat\": 16.0, \"Carbohydrates\": 36, \"Dietary Fiber\": 1, \"Protein\": 8, \"cluster\": 0}, {\"Store\": \"Starbucks\", \"Item\": \"Chewy Chocolate Cookie\", \"Calories\": 170, \"Total Fat\": 5.0, \"Carbohydrates\": 30, \"Dietary Fiber\": 2, \"Protein\": 2, \"cluster\": 3}, {\"Store\": \"Starbucks\", \"Item\": \"Chocolate Chip Cookie\", \"Calories\": 310, \"Total Fat\": 15.0, \"Carbohydrates\": 42, \"Dietary Fiber\": 2, \"Protein\": 4, \"cluster\": 0}, {\"Store\": \"Starbucks\", \"Item\": \"Chocolate Chunk Muffin\", \"Calories\": 440, \"Total Fat\": 21.0, \"Carbohydrates\": 60, \"Dietary Fiber\": 2, \"Protein\": 7, \"cluster\": 0}, {\"Store\": \"Starbucks\", \"Item\": \"Chocolate Croissant\", \"Calories\": 330, \"Total Fat\": 18.0, \"Carbohydrates\": 38, \"Dietary Fiber\": 1, \"Protein\": 6, \"cluster\": 0}, {\"Store\": \"Starbucks\", \"Item\": \"Chocolate Hazelnut Croissant\", \"Calories\": 390, \"Total Fat\": 22.0, \"Carbohydrates\": 43, \"Dietary Fiber\": 2, \"Protein\": 7, \"cluster\": 0}, {\"Store\": \"Starbucks\", \"Item\": \"Chocolate Marble Loaf Cake\", \"Calories\": 490, \"Total Fat\": 24.0, \"Carbohydrates\": 64, \"Dietary Fiber\": 2, \"Protein\": 6, \"cluster\": 0}, {\"Store\": \"Starbucks\", \"Item\": \"Cinnamon Morning Bun\", \"Calories\": 390, \"Total Fat\": 15.0, \"Carbohydrates\": 56, \"Dietary Fiber\": 2, \"Protein\": 8, \"cluster\": 0}, {\"Store\": \"Starbucks\", \"Item\": \"Cinnamon Raisin Bagel\", \"Calories\": 270, \"Total Fat\": 1.0, \"Carbohydrates\": 58, \"Dietary Fiber\": 3, \"Protein\": 9, \"cluster\": 0}, {\"Store\": \"Starbucks\", \"Item\": \"Classic Coffee Cake\", \"Calories\": 390, \"Total Fat\": 16.0, \"Carbohydrates\": 57, \"Dietary Fiber\": 1, \"Protein\": 5, \"cluster\": 0}, {\"Store\": \"Starbucks\", \"Item\": \"Cookie Butter Bar\", \"Calories\": 360, \"Total Fat\": 23.0, \"Carbohydrates\": 36, \"Dietary Fiber\": 0, \"Protein\": 2, \"cluster\": 0}, {\"Store\": \"Starbucks\", \"Item\": \"Cranberry Orange Scone\", \"Calories\": 420, \"Total Fat\": 15.0, \"Carbohydrates\": 64, \"Dietary Fiber\": 1, \"Protein\": 6, \"cluster\": 0}, {\"Store\": \"Starbucks\", \"Item\": \"Devil's Food Doughnut\", \"Calories\": 430, \"Total Fat\": 23.0, \"Carbohydrates\": 53, \"Dietary Fiber\": 2, \"Protein\": 5, \"cluster\": 0}, {\"Store\": \"Starbucks\", \"Item\": \"Double Chocolate Brownie\", \"Calories\": 410, \"Total Fat\": 24.0, \"Carbohydrates\": 46, \"Dietary Fiber\": 3, \"Protein\": 6, \"cluster\": 0}, {\"Store\": \"Starbucks\", \"Item\": \"Double Chocolate Chunk Brownie\", \"Calories\": 490, \"Total Fat\": 28.0, \"Carbohydrates\": 55, \"Dietary Fiber\": 3, \"Protein\": 7, \"cluster\": 0}, {\"Store\": \"Starbucks\", \"Item\": \"Double Chocolate Loaf Cake\", \"Calories\": 440, \"Total Fat\": 23.0, \"Carbohydrates\": 54, \"Dietary Fiber\": 3, \"Protein\": 5, \"cluster\": 0}, {\"Store\": \"Starbucks\", \"Item\": \"Everybody's Favorite - Bantam Bagel (2 Pack)\", \"Calories\": 100, \"Total Fat\": 3.0, \"Carbohydrates\": 14, \"Dietary Fiber\": 0, \"Protein\": 3, \"cluster\": 3}, {\"Store\": \"Starbucks\", \"Item\": \"Everything Bagel with Cheese\", \"Calories\": 290, \"Total Fat\": 3.0, \"Carbohydrates\": 53, \"Dietary Fiber\": 2, \"Protein\": 11, \"cluster\": 0}, {\"Store\": \"Starbucks\", \"Item\": \"Frappuccino\\u00ae Cookie Straw\", \"Calories\": 90, \"Total Fat\": 3.0, \"Carbohydrates\": 14, \"Dietary Fiber\": 0, \"Protein\": 1, \"cluster\": 3}, {\"Store\": \"Starbucks\", \"Item\": \"French Toast - Bantam Bagels (2 Pack)\", \"Calories\": 200, \"Total Fat\": 8.0, \"Carbohydrates\": 30, \"Dietary Fiber\": 0, \"Protein\": 6, \"cluster\": 3}, {\"Store\": \"Starbucks\", \"Item\": \"Gluten-Free Marshmallow Dream Bar\", \"Calories\": 240, \"Total Fat\": 5.0, \"Carbohydrates\": 45, \"Dietary Fiber\": 0, \"Protein\": 2, \"cluster\": 0}, {\"Store\": \"Starbucks\", \"Item\": \"Ice Cream Cone Sugar Cookie\", \"Calories\": 250, \"Total Fat\": 14.0, \"Carbohydrates\": 29, \"Dietary Fiber\": 1, \"Protein\": 3, \"cluster\": 3}, {\"Store\": \"Starbucks\", \"Item\": \"Iced Lemon Pound Cake\", \"Calories\": 470, \"Total Fat\": 20.0, \"Carbohydrates\": 68, \"Dietary Fiber\": 1, \"Protein\": 6, \"cluster\": 0}, {\"Store\": \"Starbucks\", \"Item\": \"Michigan Cherry Oat Bar\", \"Calories\": 310, \"Total Fat\": 10.0, \"Carbohydrates\": 47, \"Dietary Fiber\": 2, \"Protein\": 3, \"cluster\": 0}, {\"Store\": \"Starbucks\", \"Item\": \"Multigrain Bagel\", \"Calories\": 350, \"Total Fat\": 4.0, \"Carbohydrates\": 64, \"Dietary Fiber\": 8, \"Protein\": 17, \"cluster\": 4}, {\"Store\": \"Starbucks\", \"Item\": \"Oatmeal Cookie\", \"Calories\": 290, \"Total Fat\": 12.0, \"Carbohydrates\": 40, \"Dietary Fiber\": 3, \"Protein\": 5, \"cluster\": 0}, {\"Store\": \"Starbucks\", \"Item\": \"Octopus Cookie\", \"Calories\": 330, \"Total Fat\": 18.0, \"Carbohydrates\": 39, \"Dietary Fiber\": 1, \"Protein\": 3, \"cluster\": 0}, {\"Store\": \"Starbucks\", \"Item\": \"Old-Fashioned Glazed Doughnut\", \"Calories\": 480, \"Total Fat\": 27.0, \"Carbohydrates\": 56, \"Dietary Fiber\": 1, \"Protein\": 5, \"cluster\": 0}, {\"Store\": \"Starbucks\", \"Item\": \"Peanut butter cup cookie\", \"Calories\": 360, \"Total Fat\": 21.0, \"Carbohydrates\": 36, \"Dietary Fiber\": 3, \"Protein\": 8, \"cluster\": 0}, {\"Store\": \"Starbucks\", \"Item\": \"Pecan Tart\", \"Calories\": 330, \"Total Fat\": 18.0, \"Carbohydrates\": 39, \"Dietary Fiber\": 1, \"Protein\": 4, \"cluster\": 0}, {\"Store\": \"Starbucks\", \"Item\": \"Petite Vanilla Bean Scone\", \"Calories\": 120, \"Total Fat\": 4.0, \"Carbohydrates\": 18, \"Dietary Fiber\": 0, \"Protein\": 2, \"cluster\": 3}, {\"Store\": \"Starbucks\", \"Item\": \"Plain Bagel\", \"Calories\": 280, \"Total Fat\": 1.0, \"Carbohydrates\": 56, \"Dietary Fiber\": 2, \"Protein\": 9, \"cluster\": 0}, {\"Store\": \"Starbucks\", \"Item\": \"Pumpkin Bread\", \"Calories\": 410, \"Total Fat\": 15.0, \"Carbohydrates\": 63, \"Dietary Fiber\": 2, \"Protein\": 6, \"cluster\": 0}, {\"Store\": \"Starbucks\", \"Item\": \"Raspberry Swirl Loaf Cake\", \"Calories\": 420, \"Total Fat\": 17.0, \"Carbohydrates\": 61, \"Dietary Fiber\": 1, \"Protein\": 6, \"cluster\": 0}, {\"Store\": \"Starbucks\", \"Item\": \"Raspberry Whoopie Pie\", \"Calories\": 360, \"Total Fat\": 18.0, \"Carbohydrates\": 45, \"Dietary Fiber\": 1, \"Protein\": 3, \"cluster\": 0}, {\"Store\": \"Starbucks\", \"Item\": \"Reduced-Fat Cinnamon Swirl Coffee Cake\", \"Calories\": 370, \"Total Fat\": 9.0, \"Carbohydrates\": 67, \"Dietary Fiber\": 2, \"Protein\": 5, \"cluster\": 0}, {\"Store\": \"Starbucks\", \"Item\": \"S'mores Bar\", \"Calories\": 330, \"Total Fat\": 17.0, \"Carbohydrates\": 44, \"Dietary Fiber\": 1, \"Protein\": 2, \"cluster\": 0}, {\"Store\": \"Starbucks\", \"Item\": \"S'mores Bar Multipack\", \"Calories\": 330, \"Total Fat\": 17.0, \"Carbohydrates\": 44, \"Dietary Fiber\": 1, \"Protein\": 2, \"cluster\": 0}, {\"Store\": \"Starbucks\", \"Item\": \"Sprouted Grain Vegan Bagel\", \"Calories\": 330, \"Total Fat\": 6.0, \"Carbohydrates\": 57, \"Dietary Fiber\": 7, \"Protein\": 12, \"cluster\": 4}, {\"Store\": \"Starbucks\", \"Item\": \"Strawberry Cake Pop\", \"Calories\": 180, \"Total Fat\": 9.0, \"Carbohydrates\": 23, \"Dietary Fiber\": 0, \"Protein\": 2, \"cluster\": 3}, {\"Store\": \"Starbucks\", \"Item\": \"The Classic - Bantam Bagels (2 Pack)\", \"Calories\": 200, \"Total Fat\": 8.0, \"Carbohydrates\": 28, \"Dietary Fiber\": 0, \"Protein\": 6, \"cluster\": 3}, {\"Store\": \"Starbucks\", \"Item\": \"Toffeedoodle\", \"Calories\": 300, \"Total Fat\": 13.0, \"Carbohydrates\": 44, \"Dietary Fiber\": 1, \"Protein\": 3, \"cluster\": 0}, {\"Store\": \"Starbucks\", \"Item\": \"Vanilla Bean Whoopie Pie\", \"Calories\": 360, \"Total Fat\": 18.0, \"Carbohydrates\": 45, \"Dietary Fiber\": 1, \"Protein\": 3, \"cluster\": 0}, {\"Store\": \"Starbucks\", \"Item\": \"Vermont Maple Walnut Muffin\", \"Calories\": 390, \"Total Fat\": 21.0, \"Carbohydrates\": 45, \"Dietary Fiber\": 2, \"Protein\": 6, \"cluster\": 0}, {\"Store\": \"Starbucks\", \"Item\": \"Volpi\\u2122 Pepperoni & Tomato Savory Foldover\", \"Calories\": 270, \"Total Fat\": 14.0, \"Carbohydrates\": 27, \"Dietary Fiber\": 2, \"Protein\": 10, \"cluster\": 3}, {\"Store\": \"Starbucks\", \"Item\": \"Strawberries & Jam Sandwich\", \"Calories\": 600, \"Total Fat\": 25.0, \"Carbohydrates\": 80, \"Dietary Fiber\": 10, \"Protein\": 19, \"cluster\": 4}, {\"Store\": \"Starbucks\", \"Item\": \"Burrata & Basil Pesto Small Sandwich\", \"Calories\": 300, \"Total Fat\": 14.0, \"Carbohydrates\": 34, \"Dietary Fiber\": 2, \"Protein\": 11, \"cluster\": 0}, {\"Store\": \"Starbucks\", \"Item\": \"Cage-Free Eggs & Seasoned Grains Side Salad\", \"Calories\": 360, \"Total Fat\": 18.0, \"Carbohydrates\": 33, \"Dietary Fiber\": 3, \"Protein\": 17, \"cluster\": 1}, {\"Store\": \"Starbucks\", \"Item\": \"Cauliflower Tabbouleh Side Salad\", \"Calories\": 130, \"Total Fat\": 12.0, \"Carbohydrates\": 7, \"Dietary Fiber\": 3, \"Protein\": 2, \"cluster\": 3}, {\"Store\": \"Starbucks\", \"Item\": \"Cubano Sandwich\", \"Calories\": 430, \"Total Fat\": 23.0, \"Carbohydrates\": 34, \"Dietary Fiber\": 3, \"Protein\": 21, \"cluster\": 1}, {\"Store\": \"Starbucks\", \"Item\": \"Farmers' Market Protein Box\", \"Calories\": 470, \"Total Fat\": 29.0, \"Carbohydrates\": 29, \"Dietary Fiber\": 4, \"Protein\": 21, \"cluster\": 1}, {\"Store\": \"Starbucks\", \"Item\": \"Garden Greens & Shaved Parmesan Side Salad\", \"Calories\": 170, \"Total Fat\": 13.0, \"Carbohydrates\": 9, \"Dietary Fiber\": 2, \"Protein\": 7, \"cluster\": 3}, {\"Store\": \"Starbucks\", \"Item\": \"Green Goddess Avocado Salad\", \"Calories\": 620, \"Total Fat\": 37.0, \"Carbohydrates\": 62, \"Dietary Fiber\": 10, \"Protein\": 13, \"cluster\": 4}, {\"Store\": \"Starbucks\", \"Item\": \"Herbed Chicken & Fig Spread Small Sandwich\", \"Calories\": 300, \"Total Fat\": 8.0, \"Carbohydrates\": 43, \"Dietary Fiber\": 2, \"Protein\": 19, \"cluster\": 0}, {\"Store\": \"Starbucks\", \"Item\": \"Honey BBQ Sriracha Chicken Sandwich\", \"Calories\": 360, \"Total Fat\": 7.0, \"Carbohydrates\": 52, \"Dietary Fiber\": 3, \"Protein\": 22, \"cluster\": 1}, {\"Store\": \"Starbucks\", \"Item\": \"Roasted Carrot & Kale Side Salad\", \"Calories\": 440, \"Total Fat\": 26.0, \"Carbohydrates\": 44, \"Dietary Fiber\": 7, \"Protein\": 10, \"cluster\": 4}, {\"Store\": \"Starbucks\", \"Item\": \"Roasted Turkey & Dill Havarti Sandwich\", \"Calories\": 600, \"Total Fat\": 32.0, \"Carbohydrates\": 47, \"Dietary Fiber\": 6, \"Protein\": 32, \"cluster\": 5}, {\"Store\": \"Starbucks\", \"Item\": \"Seared Steak & Cheddar Sandwich\", \"Calories\": 530, \"Total Fat\": 29.0, \"Carbohydrates\": 44, \"Dietary Fiber\": 2, \"Protein\": 23, \"cluster\": 1}, {\"Store\": \"Starbucks\", \"Item\": \"Slow-Roasted Ham & Beecher's Flagship Cheese Small Sandwich\", \"Calories\": 350, \"Total Fat\": 18.0, \"Carbohydrates\": 31, \"Dietary Fiber\": 1, \"Protein\": 16, \"cluster\": 1}, {\"Store\": \"Starbucks\", \"Item\": \"Smoked Mozzarella & Roasted Pepper Sandwich\", \"Calories\": 500, \"Total Fat\": 28.0, \"Carbohydrates\": 46, \"Dietary Fiber\": 4, \"Protein\": 18, \"cluster\": 1}, {\"Store\": \"Starbucks\", \"Item\": \"Turkey & Fire-Roasted Corn Salad\", \"Calories\": 560, \"Total Fat\": 29.0, \"Carbohydrates\": 53, \"Dietary Fiber\": 7, \"Protein\": 24, \"cluster\": 4}, {\"Store\": \"Starbucks\", \"Item\": \"Za'atar Chicken & Lemon Tahini Salad\", \"Calories\": 570, \"Total Fat\": 23.0, \"Carbohydrates\": 67, \"Dietary Fiber\": 11, \"Protein\": 27, \"cluster\": 4}, {\"Store\": \"Starbucks\", \"Item\": \"BBQ Chicken Protein Box\", \"Calories\": 420, \"Total Fat\": 16.0, \"Carbohydrates\": 49, \"Dietary Fiber\": 5, \"Protein\": 22, \"cluster\": 1}, {\"Store\": \"Starbucks\", \"Item\": \"Cheese & Fruit Protein Box\", \"Calories\": 450, \"Total Fat\": 27.0, \"Carbohydrates\": 34, \"Dietary Fiber\": 4, \"Protein\": 20, \"cluster\": 1}, {\"Store\": \"Starbucks\", \"Item\": \"Chicken Wrap Protein Box\", \"Calories\": 460, \"Total Fat\": 22.0, \"Carbohydrates\": 45, \"Dietary Fiber\": 4, \"Protein\": 20, \"cluster\": 1}, {\"Store\": \"Starbucks\", \"Item\": \"Eggs & Cheese Protein Box\", \"Calories\": 460, \"Total Fat\": 24.0, \"Carbohydrates\": 40, \"Dietary Fiber\": 5, \"Protein\": 23, \"cluster\": 1}, {\"Store\": \"Starbucks\", \"Item\": \"PB&J Protein Box\", \"Calories\": 520, \"Total Fat\": 26.0, \"Carbohydrates\": 53, \"Dietary Fiber\": 5, \"Protein\": 20, \"cluster\": 1}, {\"Store\": \"Starbucks\", \"Item\": \"Smoked Turkey Protein Box\", \"Calories\": 360, \"Total Fat\": 12.0, \"Carbohydrates\": 42, \"Dietary Fiber\": 5, \"Protein\": 24, \"cluster\": 1}, {\"Store\": \"Starbucks\", \"Item\": \"Birthday Cake Pop\", \"Calories\": 170, \"Total Fat\": 9.0, \"Carbohydrates\": 23, \"Dietary Fiber\": 0, \"Protein\": 1, \"cluster\": 3}, {\"Store\": \"Starbucks\", \"Item\": \"Chocolate Cake Pop\", \"Calories\": 160, \"Total Fat\": 8.0, \"Carbohydrates\": 23, \"Dietary Fiber\": 1, \"Protein\": 2, \"cluster\": 3}, {\"Store\": \"Starbucks\", \"Item\": \"Chocolate Chip Cookie Dough Cake Pop\", \"Calories\": 180, \"Total Fat\": 9.0, \"Carbohydrates\": 23, \"Dietary Fiber\": 0, \"Protein\": 2, \"cluster\": 3}, {\"Store\": \"Starbucks\", \"Item\": \"Pirate Cake Pop\", \"Calories\": 180, \"Total Fat\": 9.0, \"Carbohydrates\": 24, \"Dietary Fiber\": 0, \"Protein\": 1, \"cluster\": 3}, {\"Store\": \"Starbucks\", \"Item\": \"Bacon Gouda & Egg Breakfast Sandwich\", \"Calories\": 370, \"Total Fat\": 19.0, \"Carbohydrates\": 32, \"Dietary Fiber\": 1, \"Protein\": 18, \"cluster\": 1}, {\"Store\": \"Starbucks\", \"Item\": \"Classic Whole-Grain Oatmeal\", \"Calories\": 160, \"Total Fat\": 2.0, \"Carbohydrates\": 28, \"Dietary Fiber\": 4, \"Protein\": 5, \"cluster\": 3}, {\"Store\": \"Starbucks\", \"Item\": \"Double-Smoked Bacon Cheddar & Egg Sandwich\", \"Calories\": 490, \"Total Fat\": 27.0, \"Carbohydrates\": 40, \"Dietary Fiber\": 1, \"Protein\": 21, \"cluster\": 1}, {\"Store\": \"Starbucks\", \"Item\": \"Ham & Cheese Croissant\", \"Calories\": 320, \"Total Fat\": 17.0, \"Carbohydrates\": 28, \"Dietary Fiber\": 1, \"Protein\": 14, \"cluster\": 3}, {\"Store\": \"Starbucks\", \"Item\": \"Hearty Blueberry Oatmeal\", \"Calories\": 220, \"Total Fat\": 2.0, \"Carbohydrates\": 43, \"Dietary Fiber\": 5, \"Protein\": 5, \"cluster\": 0}, {\"Store\": \"Starbucks\", \"Item\": \"Reduced-Fat Turkey Bacon & Cage Free Egg White Breakfast Sandwich\", \"Calories\": 230, \"Total Fat\": 6.0, \"Carbohydrates\": 28, \"Dietary Fiber\": 2, \"Protein\": 16, \"cluster\": 3}, {\"Store\": \"Starbucks\", \"Item\": \"Sausage Cheddar & Egg Breakfast Sandwich\", \"Calories\": 500, \"Total Fat\": 28.0, \"Carbohydrates\": 41, \"Dietary Fiber\": 1, \"Protein\": 15, \"cluster\": 1}, {\"Store\": \"Starbucks\", \"Item\": \"Seared Steak Egg & Tomatillo Wrap\", \"Calories\": 410, \"Total Fat\": 18.0, \"Carbohydrates\": 43, \"Dietary Fiber\": 2, \"Protein\": 21, \"cluster\": 1}, {\"Store\": \"Starbucks\", \"Item\": \"Slow-Roasted Ham Swiss & Egg Breakfast Sandwich\", \"Calories\": 450, \"Total Fat\": 23.0, \"Carbohydrates\": 42, \"Dietary Fiber\": 1, \"Protein\": 24, \"cluster\": 1}, {\"Store\": \"Starbucks\", \"Item\": \"Sous Vide Egg Bites: Bacon & Gruyere\", \"Calories\": 310, \"Total Fat\": 22.0, \"Carbohydrates\": 9, \"Dietary Fiber\": 0, \"Protein\": 19, \"cluster\": 3}, {\"Store\": \"Starbucks\", \"Item\": \"Sous Vide Egg Bites: Egg White & Red Pepper\", \"Calories\": 170, \"Total Fat\": 7.0, \"Carbohydrates\": 13, \"Dietary Fiber\": 1, \"Protein\": 13, \"cluster\": 3}, {\"Store\": \"Starbucks\", \"Item\": \"Spicy Chorizo Monterey Jack & Egg Breakfast Sandwich\", \"Calories\": 500, \"Total Fat\": 30.0, \"Carbohydrates\": 35, \"Dietary Fiber\": 3, \"Protein\": 26, \"cluster\": 1}, {\"Store\": \"Starbucks\", \"Item\": \"Spinach Feta & Cage Free Egg White Breakfast Wrap\", \"Calories\": 290, \"Total Fat\": 10.0, \"Carbohydrates\": 33, \"Dietary Fiber\": 6, \"Protein\": 19, \"cluster\": 1}, {\"Store\": \"Starbucks\", \"Item\": \"Ancho Chipotle Chicken Panini\", \"Calories\": 500, \"Total Fat\": 19.0, \"Carbohydrates\": 57, \"Dietary Fiber\": 4, \"Protein\": 26, \"cluster\": 1}, {\"Store\": \"Starbucks\", \"Item\": \"Chicken & Quinoa Protein Bowl with Black Beans and Greens\", \"Calories\": 420, \"Total Fat\": 17.0, \"Carbohydrates\": 42, \"Dietary Fiber\": 9, \"Protein\": 27, \"cluster\": 4}, {\"Store\": \"Starbucks\", \"Item\": \"Chicken Artichoke on Ancient Grain Flatbread\", \"Calories\": 510, \"Total Fat\": 27.0, \"Carbohydrates\": 37, \"Dietary Fiber\": 5, \"Protein\": 24, \"cluster\": 1}, {\"Store\": \"Starbucks\", \"Item\": \"Chicken BLT Salad Sandwich\", \"Calories\": 470, \"Total Fat\": 25.0, \"Carbohydrates\": 35, \"Dietary Fiber\": 3, \"Protein\": 21, \"cluster\": 1}, {\"Store\": \"Starbucks\", \"Item\": \"Egg Salad Sandwich\", \"Calories\": 480, \"Total Fat\": 27.0, \"Carbohydrates\": 42, \"Dietary Fiber\": 7, \"Protein\": 16, \"cluster\": 4}, {\"Store\": \"Starbucks\", \"Item\": \"Homestyle Chicken & Double-Smoked Bacon\", \"Calories\": 480, \"Total Fat\": 17.0, \"Carbohydrates\": 57, \"Dietary Fiber\": 3, \"Protein\": 23, \"cluster\": 1}, {\"Store\": \"Starbucks\", \"Item\": \"Italian-Style Ham & Spicy Salami\", \"Calories\": 480, \"Total Fat\": 20.0, \"Carbohydrates\": 49, \"Dietary Fiber\": 3, \"Protein\": 22, \"cluster\": 1}, {\"Store\": \"Starbucks\", \"Item\": \"Lentils & Vegetable Protein Bowl with Brown Rice\", \"Calories\": 650, \"Total Fat\": 29.0, \"Carbohydrates\": 80, \"Dietary Fiber\": 21, \"Protein\": 23, \"cluster\": 4}, {\"Store\": \"Starbucks\", \"Item\": \"Roasted Tomato & Mozzarella Panini\", \"Calories\": 420, \"Total Fat\": 18.0, \"Carbohydrates\": 47, \"Dietary Fiber\": 3, \"Protein\": 11, \"cluster\": 0}, {\"Store\": \"Starbucks\", \"Item\": \"Turkey & Havarti Sandwich\", \"Calories\": 460, \"Total Fat\": 21.0, \"Carbohydrates\": 31, \"Dietary Fiber\": 2, \"Protein\": 29, \"cluster\": 1}, {\"Store\": \"Starbucks\", \"Item\": \"Turkey Pesto Panini\", \"Calories\": 560, \"Total Fat\": 23.0, \"Carbohydrates\": 55, \"Dietary Fiber\": 3, \"Protein\": 34, \"cluster\": 5}, {\"Store\": \"Starbucks\", \"Item\": \"Berry Trio Yogurt\", \"Calories\": 240, \"Total Fat\": 2.0, \"Carbohydrates\": 39, \"Dietary Fiber\": 3, \"Protein\": 14, \"cluster\": 3}, {\"Store\": \"Starbucks\", \"Item\": \"Fresh Blueberries and Honey Greek Yogurt Parfait\", \"Calories\": 240, \"Total Fat\": 2.0, \"Carbohydrates\": 42, \"Dietary Fiber\": 2, \"Protein\": 14, \"cluster\": 3}, {\"Store\": \"Starbucks\", \"Item\": \"Justin's Chocolate Hazelnut Butter\", \"Calories\": 180, \"Total Fat\": 14.0, \"Carbohydrates\": 12, \"Dietary Fiber\": 3, \"Protein\": 4, \"cluster\": 3}, {\"Store\": \"Starbucks\", \"Item\": \"Justin's Classic Almond Butter\", \"Calories\": 190, \"Total Fat\": 18.0, \"Carbohydrates\": 6, \"Dietary Fiber\": 3, \"Protein\": 7, \"cluster\": 3}, {\"Store\": \"Starbucks\", \"Item\": \"Lemon Chiffon Yogurt\", \"Calories\": 340, \"Total Fat\": 13.0, \"Carbohydrates\": 38, \"Dietary Fiber\": 0, \"Protein\": 18, \"cluster\": 0}, {\"Store\": \"Starbucks\", \"Item\": \"Organic Avocado (Spread)\", \"Calories\": 90, \"Total Fat\": 8.0, \"Carbohydrates\": 5, \"Dietary Fiber\": 4, \"Protein\": 1, \"cluster\": 3}, {\"Store\": \"Starbucks\", \"Item\": \"Seasonal Fruit Blend\", \"Calories\": 90, \"Total Fat\": 0.0, \"Carbohydrates\": 24, \"Dietary Fiber\": 4, \"Protein\": 1, \"cluster\": 3}]}}, {\"mode\": \"vega-lite\"});\n",
       "</script>"
      ],
      "text/plain": [
       "alt.Chart(...)"
      ]
     },
     "execution_count": 32,
     "metadata": {},
     "output_type": "execute_result"
    }
   ],
   "source": [
    "sel = alt.selection_single(fields=[\"cluster\"], empty=\"none\")\n",
    "\n",
    "food = alt.Chart(df_food2).mark_circle().encode(\n",
    "    x = \"Total Fat\",\n",
    "    y = \"Carbohydrates\",\n",
    "    tooltip = [\"Store\", \"Item\", \"Calories\"],\n",
    "    size = alt.condition(sel, alt.value(80),alt.value(20)),\n",
    "    color = alt.Color(\"cluster:N\"),\n",
    "    opacity = alt.condition(sel, alt.value(1), alt.value(0.4))\n",
    "    \n",
    ").add_selection(\n",
    "    sel\n",
    ").properties(\n",
    "    title = \"Clustering by Calories\"\n",
    ")\n",
    "\n",
    "food"
   ]
  },
  {
   "cell_type": "code",
   "execution_count": 33,
   "metadata": {
    "cell_id": "dd438398a6b44987b48072892463aa11",
    "deepnote_cell_type": "code",
    "deepnote_to_be_reexecuted": false,
    "execution_millis": 24,
    "execution_start": 1670474064784,
    "source_hash": "2c1bc62e",
    "tags": []
   },
   "outputs": [
    {
     "data": {
      "text/plain": [
       "1    75\n",
       "0    60\n",
       "3    49\n",
       "5    21\n",
       "4    12\n",
       "2     4\n",
       "Name: cluster, dtype: int64"
      ]
     },
     "execution_count": 33,
     "metadata": {},
     "output_type": "execute_result"
    }
   ],
   "source": [
    "df_food2[\"cluster\"].value_counts()"
   ]
  },
  {
   "cell_type": "markdown",
   "metadata": {
    "cell_id": "70e4a784d9e948ba9cc66055c0eabe4a",
    "deepnote_cell_type": "markdown",
    "tags": []
   },
   "source": [
    "From observation, the data is clustered by food items that have similar \"Calories\" in terms of the positive relationship between \"Total Fat\" and \"Carbohydrates.\" \n",
    "\n",
    "In comparison to McDonald's and Starbucks food items, McDonald's has the most food items that generally have a high number of \"Calories,\" \"Total Fat,\" and \"Carbohydrates.\" However, this makes sense because McDonald's serves an assortment of food items while Starbucks mainly caters and provides drinks. "
   ]
  },
  {
   "cell_type": "markdown",
   "metadata": {
    "cell_id": "540b9b906dd1420d98fd6f1f9c9dcd76",
    "deepnote_cell_type": "markdown",
    "tags": []
   },
   "source": [
    "## Linear Regression on Drinks\n",
    "In this portion of my project, I performed Linear Regression with multiple input variables on the drinks dataset to see how strong the relationship is between certain independent variables and \"calories.\""
   ]
  },
  {
   "cell_type": "code",
   "execution_count": 34,
   "metadata": {
    "cell_id": "b0bcf92158ce4a83b2dfe58ab7779718",
    "deepnote_cell_type": "code",
    "deepnote_to_be_reexecuted": false,
    "execution_millis": 0,
    "execution_start": 1670474064793,
    "output_cleared": true,
    "source_hash": "9527aab5",
    "tags": []
   },
   "outputs": [],
   "source": [
    "from sklearn.linear_model import LinearRegression"
   ]
  },
  {
   "cell_type": "code",
   "execution_count": 35,
   "metadata": {
    "cell_id": "b0e8b1434e7c4868b8bc0fb1d372b0ed",
    "deepnote_cell_type": "code",
    "deepnote_to_be_reexecuted": false,
    "execution_millis": 14,
    "execution_start": 1670474064808,
    "output_cleared": true,
    "source_hash": "91527695",
    "tags": []
   },
   "outputs": [],
   "source": [
    "b = [x for x in df_drink.columns if is_numeric_dtype(df_drink[x])]"
   ]
  },
  {
   "cell_type": "code",
   "execution_count": 36,
   "metadata": {
    "cell_id": "27c50ac5a93a4f428be10ab2c731b51f",
    "deepnote_cell_type": "code",
    "deepnote_to_be_reexecuted": false,
    "execution_millis": 1,
    "execution_start": 1670474064823,
    "output_cleared": true,
    "source_hash": "a54aef17",
    "tags": []
   },
   "outputs": [],
   "source": [
    "b.remove(\"Serving Size\")"
   ]
  },
  {
   "cell_type": "code",
   "execution_count": 37,
   "metadata": {
    "cell_id": "74ff43bf5cb1419dbb94ecf531a921f3",
    "deepnote_cell_type": "code",
    "deepnote_to_be_reexecuted": false,
    "execution_millis": 3,
    "execution_start": 1670474064827,
    "output_cleared": true,
    "source_hash": "d74945dc",
    "tags": []
   },
   "outputs": [],
   "source": [
    "b.remove(\"Calories\")"
   ]
  },
  {
   "cell_type": "markdown",
   "metadata": {
    "cell_id": "b0ca62ff85a644caa68ff068481792d6",
    "deepnote_cell_type": "markdown",
    "tags": []
   },
   "source": [
    "Similar to the food dataset, the units in each column of the drink dataset are different. Therefore I have to use `StandardScaler` to rescale the input features before performing Linear Regression. "
   ]
  },
  {
   "cell_type": "code",
   "execution_count": 38,
   "metadata": {
    "cell_id": "d081d6fac08045188c2da0f03db161c5",
    "deepnote_cell_type": "code",
    "deepnote_to_be_reexecuted": false,
    "execution_millis": 4,
    "execution_start": 1670474064835,
    "output_cleared": true,
    "source_hash": "44ccc6e0",
    "tags": []
   },
   "outputs": [],
   "source": [
    "df_drink2 = df_drink.copy()"
   ]
  },
  {
   "cell_type": "code",
   "execution_count": 39,
   "metadata": {
    "cell_id": "f0b1929a214646618746e299b1e07171",
    "deepnote_cell_type": "code",
    "deepnote_to_be_reexecuted": false,
    "execution_millis": 0,
    "execution_start": 1670474064851,
    "output_cleared": true,
    "source_hash": "a2b610a6",
    "tags": []
   },
   "outputs": [],
   "source": [
    "scaler = StandardScaler()"
   ]
  },
  {
   "cell_type": "code",
   "execution_count": 40,
   "metadata": {
    "cell_id": "3056a73c754740d7bd60c7ce8f63a15c",
    "deepnote_cell_type": "code",
    "deepnote_to_be_reexecuted": false,
    "execution_millis": 5,
    "execution_start": 1670474064852,
    "output_cleared": false,
    "source_hash": "c8f14157",
    "tags": []
   },
   "outputs": [
    {
     "data": {
      "text/plain": [
       "StandardScaler()"
      ]
     },
     "execution_count": 40,
     "metadata": {},
     "output_type": "execute_result"
    }
   ],
   "source": [
    "scaler.fit(df_drink[b])"
   ]
  },
  {
   "cell_type": "code",
   "execution_count": 41,
   "metadata": {
    "cell_id": "4b12a27e9f9141969b72727fd55608a6",
    "deepnote_cell_type": "code",
    "deepnote_to_be_reexecuted": false,
    "execution_millis": 11,
    "execution_start": 1670474064853,
    "source_hash": "58c60a5f",
    "tags": []
   },
   "outputs": [],
   "source": [
    "df_drink2[b] = scaler.transform(df_drink[b])"
   ]
  },
  {
   "cell_type": "markdown",
   "metadata": {
    "cell_id": "84b473fc3de84259b0c3df2d0e23c951",
    "deepnote_cell_type": "markdown",
    "tags": []
   },
   "source": [
    "After scaling my data, I performed Linear Regression. "
   ]
  },
  {
   "cell_type": "code",
   "execution_count": 42,
   "metadata": {
    "cell_id": "8567c537f0c041c487865801b4f94745",
    "deepnote_cell_type": "code",
    "deepnote_to_be_reexecuted": false,
    "execution_millis": 0,
    "execution_start": 1670474064868,
    "output_cleared": true,
    "source_hash": "cd72858e",
    "tags": []
   },
   "outputs": [],
   "source": [
    "reg = LinearRegression()"
   ]
  },
  {
   "cell_type": "code",
   "execution_count": 43,
   "metadata": {
    "cell_id": "c0f93d5ecf6d4ecaae48fd94cd0e7571",
    "deepnote_cell_type": "code",
    "deepnote_to_be_reexecuted": false,
    "execution_millis": 17,
    "execution_start": 1670474064869,
    "output_cleared": false,
    "source_hash": "2f9656dd",
    "tags": []
   },
   "outputs": [
    {
     "data": {
      "text/plain": [
       "LinearRegression()"
      ]
     },
     "execution_count": 43,
     "metadata": {},
     "output_type": "execute_result"
    }
   ],
   "source": [
    "reg.fit(df_drink2[b],df_drink2[\"Calories\"])"
   ]
  },
  {
   "cell_type": "code",
   "execution_count": 44,
   "metadata": {
    "cell_id": "d7777ddfc59346e392e3c72497800ea0",
    "deepnote_cell_type": "code",
    "deepnote_to_be_reexecuted": false,
    "execution_millis": 4,
    "execution_start": 1670474064923,
    "output_cleared": false,
    "source_hash": "c0bd65f9",
    "tags": []
   },
   "outputs": [
    {
     "data": {
      "text/plain": [
       "array([-23.34527678, 127.04112742,  34.7671284 ,  -0.56018751,\n",
       "        -5.53703722,   8.16543777,   1.64037784])"
      ]
     },
     "execution_count": 44,
     "metadata": {},
     "output_type": "execute_result"
    }
   ],
   "source": [
    "reg.coef_"
   ]
  },
  {
   "cell_type": "code",
   "execution_count": 45,
   "metadata": {
    "cell_id": "c02908e858334a1ead734173155acd47",
    "deepnote_cell_type": "code",
    "deepnote_to_be_reexecuted": false,
    "execution_millis": 3,
    "execution_start": 1670474064924,
    "source_hash": "8b81e881",
    "tags": []
   },
   "outputs": [
    {
     "data": {
      "text/plain": [
       "array(['Carbohydrates', 'Sugars', 'Protein', 'Vitamin A (% Daily Value)',\n",
       "       'Vitamin C (% Daily Value)', 'Calcium (% Daily Value)',\n",
       "       'Iron (% Daily Value)'], dtype=object)"
      ]
     },
     "execution_count": 45,
     "metadata": {},
     "output_type": "execute_result"
    }
   ],
   "source": [
    "reg.feature_names_in_"
   ]
  },
  {
   "cell_type": "markdown",
   "metadata": {
    "cell_id": "5b253ce1d1f742ae8282d352bc72b45d",
    "deepnote_cell_type": "markdown",
    "tags": []
   },
   "source": [
    "The scaled \"Sugars\" coefficient has the largest value, which means that out of the 7 features, it is the most important with respect to \"Calories.\""
   ]
  },
  {
   "cell_type": "code",
   "execution_count": 46,
   "metadata": {
    "cell_id": "14c259abe2a944ee8b09894c3c27b124",
    "deepnote_cell_type": "code",
    "deepnote_to_be_reexecuted": false,
    "execution_millis": 0,
    "execution_start": 1670474064925,
    "is_code_hidden": false,
    "output_cleared": true,
    "source_hash": "70758733",
    "tags": []
   },
   "outputs": [],
   "source": [
    "df_drink2[\"pred\"] = reg.predict(df_drink2[b])"
   ]
  },
  {
   "cell_type": "code",
   "execution_count": 47,
   "metadata": {
    "cell_id": "a3d1243333a841739be8af5ea98dff39",
    "deepnote_cell_type": "code",
    "deepnote_to_be_reexecuted": false,
    "execution_millis": 30,
    "execution_start": 1670474064926,
    "output_cleared": false,
    "source_hash": "76bf5c06",
    "tags": []
   },
   "outputs": [
    {
     "data": {
      "text/html": [
       "\n",
       "<div id=\"altair-viz-bf02f55b12034cd09a1b0bf326117f3b\"></div>\n",
       "<script type=\"text/javascript\">\n",
       "  var VEGA_DEBUG = (typeof VEGA_DEBUG == \"undefined\") ? {} : VEGA_DEBUG;\n",
       "  (function(spec, embedOpt){\n",
       "    let outputDiv = document.currentScript.previousElementSibling;\n",
       "    if (outputDiv.id !== \"altair-viz-bf02f55b12034cd09a1b0bf326117f3b\") {\n",
       "      outputDiv = document.getElementById(\"altair-viz-bf02f55b12034cd09a1b0bf326117f3b\");\n",
       "    }\n",
       "    const paths = {\n",
       "      \"vega\": \"https://cdn.jsdelivr.net/npm//vega@5?noext\",\n",
       "      \"vega-lib\": \"https://cdn.jsdelivr.net/npm//vega-lib?noext\",\n",
       "      \"vega-lite\": \"https://cdn.jsdelivr.net/npm//vega-lite@4.17.0?noext\",\n",
       "      \"vega-embed\": \"https://cdn.jsdelivr.net/npm//vega-embed@6?noext\",\n",
       "    };\n",
       "\n",
       "    function maybeLoadScript(lib, version) {\n",
       "      var key = `${lib.replace(\"-\", \"\")}_version`;\n",
       "      return (VEGA_DEBUG[key] == version) ?\n",
       "        Promise.resolve(paths[lib]) :\n",
       "        new Promise(function(resolve, reject) {\n",
       "          var s = document.createElement('script');\n",
       "          document.getElementsByTagName(\"head\")[0].appendChild(s);\n",
       "          s.async = true;\n",
       "          s.onload = () => {\n",
       "            VEGA_DEBUG[key] = version;\n",
       "            return resolve(paths[lib]);\n",
       "          };\n",
       "          s.onerror = () => reject(`Error loading script: ${paths[lib]}`);\n",
       "          s.src = paths[lib];\n",
       "        });\n",
       "    }\n",
       "\n",
       "    function showError(err) {\n",
       "      outputDiv.innerHTML = `<div class=\"error\" style=\"color:red;\">${err}</div>`;\n",
       "      throw err;\n",
       "    }\n",
       "\n",
       "    function displayChart(vegaEmbed) {\n",
       "      vegaEmbed(outputDiv, spec, embedOpt)\n",
       "        .catch(err => showError(`Javascript Error: ${err.message}<br>This usually means there's a typo in your chart specification. See the javascript console for the full traceback.`));\n",
       "    }\n",
       "\n",
       "    if(typeof define === \"function\" && define.amd) {\n",
       "      requirejs.config({paths});\n",
       "      require([\"vega-embed\"], displayChart, err => showError(`Error loading script: ${err.message}`));\n",
       "    } else {\n",
       "      maybeLoadScript(\"vega\", \"5\")\n",
       "        .then(() => maybeLoadScript(\"vega-lite\", \"4.17.0\"))\n",
       "        .then(() => maybeLoadScript(\"vega-embed\", \"6\"))\n",
       "        .catch(showError)\n",
       "        .then(() => displayChart(vegaEmbed));\n",
       "    }\n",
       "  })({\"config\": {\"view\": {\"continuousWidth\": 400, \"continuousHeight\": 300}}, \"data\": {\"name\": \"data-873c489d129e7f5fefa7c83a4308f814\"}, \"mark\": \"circle\", \"encoding\": {\"x\": {\"field\": \"Sugars\", \"type\": \"quantitative\"}, \"y\": {\"field\": \"pred\", \"type\": \"quantitative\"}}, \"$schema\": \"https://vega.github.io/schema/vega-lite/v4.17.0.json\", \"datasets\": {\"data-873c489d129e7f5fefa7c83a4308f814\": [{\"Store\": \"McDonald's\", \"Item\": \"Coca-Cola Classic (Small)\", \"Serving Size\": 16, \"Calories\": 140, \"Carbohydrates\": -0.5516366417951181, \"Sugars\": 0.19180935805802798, \"Protein\": -1.3240192937791349, \"Vitamin A (% Daily Value)\": -1.1107625381908484, \"Vitamin C (% Daily Value)\": -0.2254000902618996, \"Calcium (% Daily Value)\": -1.2702466400334838, \"Iron (% Daily Value)\": -0.5058347472051334, \"pred\": 198.2106095056125}, {\"Store\": \"McDonald's\", \"Item\": \"Coca-Cola Classic (Child)\", \"Serving Size\": 12, \"Calories\": 100, \"Carbohydrates\": -0.7260320053232597, \"Sugars\": -0.3285383261331765, \"Protein\": -1.3240192937791349, \"Vitamin A (% Daily Value)\": -1.1107625381908484, \"Vitamin C (% Daily Value)\": -0.2254000902618996, \"Calcium (% Daily Value)\": -1.2702466400334838, \"Iron (% Daily Value)\": -0.5058347472051334, \"pred\": 136.1763610882407}, {\"Store\": \"McDonald's\", \"Item\": \"Diet Coke (Small)\", \"Serving Size\": 16, \"Calories\": 0, \"Carbohydrates\": -1.1699474761221655, \"Sugars\": -1.6530597040744244, \"Protein\": -1.3240192937791349, \"Vitamin A (% Daily Value)\": -1.1107625381908484, \"Vitamin C (% Daily Value)\": -0.2254000902618996, \"Calcium (% Daily Value)\": -1.2702466400334838, \"Iron (% Daily Value)\": -0.5058347472051334, \"pred\": -21.72899851961475}, {\"Store\": \"McDonald's\", \"Item\": \"Diet Coke (Child)\", \"Serving Size\": 12, \"Calories\": 0, \"Carbohydrates\": -1.1699474761221655, \"Sugars\": -1.6530597040744244, \"Protein\": -1.3240192937791349, \"Vitamin A (% Daily Value)\": -1.1107625381908484, \"Vitamin C (% Daily Value)\": -0.2254000902618996, \"Calcium (% Daily Value)\": -1.2702466400334838, \"Iron (% Daily Value)\": -0.5058347472051334, \"pred\": -21.72899851961475}, {\"Store\": \"McDonald's\", \"Item\": \"Dr Pepper (Small)\", \"Serving Size\": 16, \"Calories\": 140, \"Carbohydrates\": -0.5833448897093256, \"Sugars\": 0.002592018352135441, \"Protein\": -1.3240192937791349, \"Vitamin A (% Daily Value)\": -1.1107625381908484, \"Vitamin C (% Daily Value)\": -0.2254000902618996, \"Calcium (% Daily Value)\": -1.2702466400334838, \"Iron (% Daily Value)\": -0.5058347472051334, \"pred\": 174.91246316652192}, {\"Store\": \"McDonald's\", \"Item\": \"Dr Pepper (Child)\", \"Serving Size\": 12, \"Calories\": 100, \"Carbohydrates\": -0.7418861292803635, \"Sugars\": -0.4231469959861228, \"Protein\": -1.3240192937791349, \"Vitamin A (% Daily Value)\": -1.1107625381908484, \"Vitamin C (% Daily Value)\": -0.2254000902618996, \"Calcium (% Daily Value)\": -1.2702466400334838, \"Iron (% Daily Value)\": -0.5058347472051334, \"pred\": 124.52728791869541}, {\"Store\": \"McDonald's\", \"Item\": \"Diet Dr Pepper (Small)\", \"Serving Size\": 16, \"Calories\": 0, \"Carbohydrates\": -1.1699474761221655, \"Sugars\": -1.6530597040744244, \"Protein\": -0.9242946930931265, \"Vitamin A (% Daily Value)\": -1.1107625381908484, \"Vitamin C (% Daily Value)\": -0.2254000902618996, \"Calcium (% Daily Value)\": -1.2702466400334838, \"Iron (% Daily Value)\": -0.5058347472051334, \"pred\": -7.831722001994507}, {\"Store\": \"McDonald's\", \"Item\": \"Diet Dr Pepper (Child)\", \"Serving Size\": 12, \"Calories\": 0, \"Carbohydrates\": -1.1699474761221655, \"Sugars\": -1.6530597040744244, \"Protein\": -1.1241569934361306, \"Vitamin A (% Daily Value)\": -1.1107625381908484, \"Vitamin C (% Daily Value)\": -0.2254000902618996, \"Calcium (% Daily Value)\": -1.2702466400334838, \"Iron (% Daily Value)\": -0.5058347472051334, \"pred\": -14.780360260804628}, {\"Store\": \"McDonald's\", \"Item\": \"Sprite (Small)\", \"Serving Size\": 16, \"Calories\": 140, \"Carbohydrates\": -0.5833448897093256, \"Sugars\": 0.09720068820508171, \"Protein\": -1.3240192937791349, \"Vitamin A (% Daily Value)\": -1.1107625381908484, \"Vitamin C (% Daily Value)\": -0.2254000902618996, \"Calcium (% Daily Value)\": -1.2702466400334838, \"Iron (% Daily Value)\": -0.5058347472051334, \"pred\": 186.93165524790854}, {\"Store\": \"McDonald's\", \"Item\": \"Sprite (Child)\", \"Serving Size\": 12, \"Calories\": 100, \"Carbohydrates\": -0.7418861292803635, \"Sugars\": -0.37584266105964964, \"Protein\": -1.3240192937791349, \"Vitamin A (% Daily Value)\": -1.1107625381908484, \"Vitamin C (% Daily Value)\": -0.2254000902618996, \"Calcium (% Daily Value)\": -1.2702466400334838, \"Iron (% Daily Value)\": -0.5058347472051334, \"pred\": 130.53688395938872}, {\"Store\": \"McDonald's\", \"Item\": \"Minute Maid Orange Juice (Small)\", \"Serving Size\": 12, \"Calories\": 150, \"Carbohydrates\": -0.6309072615806369, \"Sugars\": -0.23392965628023024, \"Protein\": -0.9242946930931265, \"Vitamin A (% Daily Value)\": -1.1107625381908484, \"Vitamin C (% Daily Value)\": 6.188533512692905, \"Calcium (% Daily Value)\": -1.1423900323500031, \"Iron (% Daily Value)\": -0.5058347472051334, \"pred\": 125.40193228129782}, {\"Store\": \"McDonald's\", \"Item\": \"Minute Maid Orange Juice (Medium)\", \"Serving Size\": 16, \"Calories\": 190, \"Carbohydrates\": -0.47236602200959915, \"Sugars\": 0.19180935805802798, \"Protein\": -0.7244323927501223, \"Vitamin A (% Daily Value)\": -1.1107625381908484, \"Vitamin C (% Daily Value)\": 7.668672036451706, \"Calcium (% Daily Value)\": -1.0145334246665225, \"Iron (% Daily Value)\": -0.5058347472051334, \"pred\": 175.5841688594937}, {\"Store\": \"McDonald's\", \"Item\": \"Iced Tea (Small)\", \"Serving Size\": 16, \"Calories\": 0, \"Carbohydrates\": -1.1699474761221655, \"Sugars\": -1.6530597040744244, \"Protein\": -1.3240192937791349, \"Vitamin A (% Daily Value)\": -1.1107625381908484, \"Vitamin C (% Daily Value)\": -0.2254000902618996, \"Calcium (% Daily Value)\": -1.2702466400334838, \"Iron (% Daily Value)\": -0.5058347472051334, \"pred\": -21.72899851961475}, {\"Store\": \"McDonald's\", \"Item\": \"Iced Tea (Child)\", \"Serving Size\": 12, \"Calories\": 0, \"Carbohydrates\": -1.1699474761221655, \"Sugars\": -1.6530597040744244, \"Protein\": -1.3240192937791349, \"Vitamin A (% Daily Value)\": -1.1107625381908484, \"Vitamin C (% Daily Value)\": -0.2254000902618996, \"Calcium (% Daily Value)\": -1.2702466400334838, \"Iron (% Daily Value)\": -0.5058347472051334, \"pred\": -21.72899851961475}, {\"Store\": \"McDonald's\", \"Item\": \"Sweet Tea (Small)\", \"Serving Size\": 16, \"Calories\": 150, \"Carbohydrates\": -0.5991990136664294, \"Sugars\": 0.04989635327860858, \"Protein\": -1.1241569934361306, \"Vitamin A (% Daily Value)\": -1.1107625381908484, \"Vitamin C (% Daily Value)\": -0.2254000902618996, \"Calcium (% Daily Value)\": -1.2702466400334838, \"Iron (% Daily Value)\": -0.5058347472051334, \"pred\": 188.24081637786668}, {\"Store\": \"McDonald's\", \"Item\": \"Sweet Tea (Child)\", \"Serving Size\": 12, \"Calories\": 110, \"Carbohydrates\": -0.7418861292803635, \"Sugars\": -0.37584266105964964, \"Protein\": -1.3240192937791349, \"Vitamin A (% Daily Value)\": -1.1107625381908484, \"Vitamin C (% Daily Value)\": -0.2254000902618996, \"Calcium (% Daily Value)\": -1.2702466400334838, \"Iron (% Daily Value)\": -0.5058347472051334, \"pred\": 130.53688395938872}, {\"Store\": \"McDonald's\", \"Item\": \"Coffee (Small)\", \"Serving Size\": 12, \"Calories\": 0, \"Carbohydrates\": -1.1699474761221655, \"Sugars\": -1.6530597040744244, \"Protein\": -1.3240192937791349, \"Vitamin A (% Daily Value)\": -1.1107625381908484, \"Vitamin C (% Daily Value)\": -0.2254000902618996, \"Calcium (% Daily Value)\": -1.2702466400334838, \"Iron (% Daily Value)\": -0.5058347472051334, \"pred\": -21.72899851961475}, {\"Store\": \"McDonald's\", \"Item\": \"Coffee (Medium)\", \"Serving Size\": 16, \"Calories\": 0, \"Carbohydrates\": -1.1699474761221655, \"Sugars\": -1.6530597040744244, \"Protein\": -1.3240192937791349, \"Vitamin A (% Daily Value)\": -1.1107625381908484, \"Vitamin C (% Daily Value)\": -0.2254000902618996, \"Calcium (% Daily Value)\": -1.2702466400334838, \"Iron (% Daily Value)\": -0.5058347472051334, \"pred\": -21.72899851961475}, {\"Store\": \"McDonald's\", \"Item\": \"Coffee (Large)\", \"Serving Size\": 16, \"Calories\": 0, \"Carbohydrates\": -1.1699474761221655, \"Sugars\": -1.6530597040744244, \"Protein\": -1.3240192937791349, \"Vitamin A (% Daily Value)\": -1.1107625381908484, \"Vitamin C (% Daily Value)\": -0.2254000902618996, \"Calcium (% Daily Value)\": -1.2702466400334838, \"Iron (% Daily Value)\": -0.5058347472051334, \"pred\": -21.72899851961475}, {\"Store\": \"McDonald's\", \"Item\": \"Latte (Small)\", \"Serving Size\": 12, \"Calories\": 170, \"Carbohydrates\": -0.9321356167656089, \"Sugars\": -1.0854076849567467, \"Protein\": 0.47474140930790304, \"Vitamin A (% Daily Value)\": -0.16584582689666702, \"Vitamin C (% Daily Value)\": -0.2254000902618996, \"Calcium (% Daily Value)\": 0.6476024752187254, \"Iron (% Daily Value)\": -0.5058347472051334, \"pred\": 122.50286167851014}, {\"Store\": \"McDonald's\", \"Item\": \"Latte (Medium)\", \"Serving Size\": 16, \"Calories\": 210, \"Carbohydrates\": -0.8845732448942976, \"Sugars\": -0.9434946801773273, \"Protein\": 0.8744660099939116, \"Vitamin A (% Daily Value)\": 0.07038335092687834, \"Vitamin C (% Daily Value)\": -0.2254000902618996, \"Calcium (% Daily Value)\": 0.9672439944274269, \"Iron (% Daily Value)\": -0.5058347472051334, \"pred\": 155.79624988034791}, {\"Store\": \"McDonald's\", \"Item\": \"Caramel Latte (Small)\", \"Serving Size\": 12, \"Calories\": 270, \"Carbohydrates\": -0.5357825178380142, \"Sugars\": 0.14450502313155486, \"Protein\": 0.47474140930790304, \"Vitamin A (% Daily Value)\": -0.16584582689666702, \"Vitamin C (% Daily Value)\": -0.2254000902618996, \"Calcium (% Daily Value)\": 0.6476024752187254, \"Iron (% Daily Value)\": -0.5058347472051334, \"pred\": 269.499385940503}, {\"Store\": \"McDonald's\", \"Item\": \"Caramel Latte (Medium)\", \"Serving Size\": 16, \"Calories\": 340, \"Carbohydrates\": -0.37724127826697645, \"Sugars\": 0.6175483723962862, \"Protein\": 0.8744660099939116, \"Vitamin A (% Daily Value)\": 0.07038335092687834, \"Vitamin C (% Daily Value)\": -0.2254000902618996, \"Calcium (% Daily Value)\": 0.9672439944274269, \"Iron (% Daily Value)\": -0.5058347472051334, \"pred\": 342.2691140443047}, {\"Store\": \"McDonald's\", \"Item\": \"Hazelnut Latte (Small)\", \"Serving Size\": 12, \"Calories\": 270, \"Carbohydrates\": -0.5357825178380142, \"Sugars\": 0.14450502313155486, \"Protein\": 0.47474140930790304, \"Vitamin A (% Daily Value)\": -0.16584582689666702, \"Vitamin C (% Daily Value)\": -0.2254000902618996, \"Calcium (% Daily Value)\": 0.6476024752187254, \"Iron (% Daily Value)\": -0.5058347472051334, \"pred\": 269.499385940503}, {\"Store\": \"McDonald's\", \"Item\": \"Hazelnut Latte (Medium)\", \"Serving Size\": 16, \"Calories\": 330, \"Carbohydrates\": -0.37724127826697645, \"Sugars\": 0.5702440374698131, \"Protein\": 0.8744660099939116, \"Vitamin A (% Daily Value)\": 0.07038335092687834, \"Vitamin C (% Daily Value)\": -0.2254000902618996, \"Calcium (% Daily Value)\": 0.9672439944274269, \"Iron (% Daily Value)\": -0.5058347472051334, \"pred\": 336.25951800361133}, {\"Store\": \"McDonald's\", \"Item\": \"French Vanilla Latte (Small)\", \"Serving Size\": 12, \"Calories\": 260, \"Carbohydrates\": -0.5674907657522218, \"Sugars\": 0.04989635327860858, \"Protein\": 0.47474140930790304, \"Vitamin A (% Daily Value)\": -0.16584582689666702, \"Vitamin C (% Daily Value)\": -0.2254000902618996, \"Calcium (% Daily Value)\": 0.6476024752187254, \"Iron (% Daily Value)\": -0.5058347472051334, \"pred\": 258.220431682799}, {\"Store\": \"McDonald's\", \"Item\": \"French Vanilla Latte (Medium)\", \"Serving Size\": 16, \"Calories\": 330, \"Carbohydrates\": -0.408949526181184, \"Sugars\": 0.4756353676168668, \"Protein\": 0.8744660099939116, \"Vitamin A (% Daily Value)\": 0.07038335092687834, \"Vitamin C (% Daily Value)\": -0.2254000902618996, \"Calcium (% Daily Value)\": 0.9672439944274269, \"Iron (% Daily Value)\": -0.16233766305653116, \"pred\": 325.5440287493923}, {\"Store\": \"McDonald's\", \"Item\": \"Latte with Sugar Free French Vanilla Syrup (Small)\", \"Serving Size\": 12, \"Calories\": 210, \"Carbohydrates\": -0.7894485011516749, \"Sugars\": -1.0854076849567467, \"Protein\": 0.47474140930790304, \"Vitamin A (% Daily Value)\": -0.16584582689666702, \"Vitamin C (% Daily Value)\": -0.2254000902618996, \"Calcium (% Daily Value)\": 0.6476024752187254, \"Iron (% Daily Value)\": -0.5058347472051334, \"pred\": 119.17179147193812}, {\"Store\": \"McDonald's\", \"Item\": \"Latte with Sugar Free French Vanilla Syrup (Medium)\", \"Serving Size\": 16, \"Calories\": 260, \"Carbohydrates\": -0.7101778813661559, \"Sugars\": -0.9434946801773273, \"Protein\": 1.0743283103369157, \"Vitamin A (% Daily Value)\": 0.07038335092687834, \"Vitamin C (% Daily Value)\": -0.2254000902618996, \"Calcium (% Daily Value)\": 0.9672439944274269, \"Iron (% Daily Value)\": -0.5058347472051334, \"pred\": 158.67358010890334}, {\"Store\": \"McDonald's\", \"Item\": \"Nonfat Latte (Small)\", \"Serving Size\": 12, \"Calories\": 100, \"Carbohydrates\": -0.9321356167656089, \"Sugars\": -1.0381033500302737, \"Protein\": 0.6746037096509073, \"Vitamin A (% Daily Value)\": 0.07038335092687834, \"Vitamin C (% Daily Value)\": -0.2254000902618996, \"Calcium (% Daily Value)\": 0.6476024752187254, \"Iron (% Daily Value)\": -0.5058347472051334, \"pred\": 135.32876334193125}, {\"Store\": \"McDonald's\", \"Item\": \"Nonfat Latte (Medium)\", \"Serving Size\": 16, \"Calories\": 130, \"Carbohydrates\": -0.8687191209371937, \"Sugars\": -0.8961903452508542, \"Protein\": 1.0743283103369157, \"Vitamin A (% Daily Value)\": 0.6609562954857418, \"Vitamin C (% Daily Value)\": -0.2254000902618996, \"Calcium (% Daily Value)\": 1.2868855136361284, \"Iron (% Daily Value)\": -0.5058347472051334, \"pred\": 170.6635466115481}, {\"Store\": \"McDonald's\", \"Item\": \"Nonfat Caramel Latte (Small)\", \"Serving Size\": 12, \"Calories\": 200, \"Carbohydrates\": -0.5199283938809105, \"Sugars\": 0.19180935805802798, \"Protein\": 0.6746037096509073, \"Vitamin A (% Daily Value)\": 0.07038335092687834, \"Vitamin C (% Daily Value)\": -0.2254000902618996, \"Calcium (% Daily Value)\": 0.6476024752187254, \"Iron (% Daily Value)\": -0.5058347472051334, \"pred\": 281.9551686920828}, {\"Store\": \"McDonald's\", \"Item\": \"Nonfat Caramel Latte (Medium)\", \"Serving Size\": 16, \"Calories\": 250, \"Carbohydrates\": -0.36138715430987267, \"Sugars\": 0.6175483723962862, \"Protein\": 1.0743283103369157, \"Vitamin A (% Daily Value)\": 0.6609562954857418, \"Vitamin C (% Daily Value)\": -0.2254000902618996, \"Calcium (% Daily Value)\": 1.2868855136361284, \"Iron (% Daily Value)\": -0.5058347472051334, \"pred\": 351.12681473481155}, {\"Store\": \"McDonald's\", \"Item\": \"Nonfat Hazelnut Latte (Small)\", \"Serving Size\": 12, \"Calories\": 200, \"Carbohydrates\": -0.5357825178380142, \"Sugars\": 0.14450502313155486, \"Protein\": 0.6746037096509073, \"Vitamin A (% Daily Value)\": 0.07038335092687834, \"Vitamin C (% Daily Value)\": -0.2254000902618996, \"Calcium (% Daily Value)\": 0.6476024752187254, \"Iron (% Daily Value)\": -0.5058347472051334, \"pred\": 276.3156915632308}, {\"Store\": \"McDonald's\", \"Item\": \"Nonfat Hazelnut Latte (Medium)\", \"Serving Size\": 16, \"Calories\": 250, \"Carbohydrates\": -0.36138715430987267, \"Sugars\": 0.6175483723962862, \"Protein\": 1.0743283103369157, \"Vitamin A (% Daily Value)\": 0.6609562954857418, \"Vitamin C (% Daily Value)\": -0.2254000902618996, \"Calcium (% Daily Value)\": 1.2868855136361284, \"Iron (% Daily Value)\": -0.5058347472051334, \"pred\": 351.12681473481155}, {\"Store\": \"McDonald's\", \"Item\": \"Nonfat French Vanilla Latte (Small)\", \"Serving Size\": 12, \"Calories\": 190, \"Carbohydrates\": -0.5516366417951181, \"Sugars\": 0.09720068820508171, \"Protein\": 0.6746037096509073, \"Vitamin A (% Daily Value)\": 0.07038335092687834, \"Vitamin C (% Daily Value)\": -0.2254000902618996, \"Calcium (% Daily Value)\": 0.6476024752187254, \"Iron (% Daily Value)\": -0.5058347472051334, \"pred\": 270.67621443437883}, {\"Store\": \"McDonald's\", \"Item\": \"Nonfat French Vanilla Latte (Medium)\", \"Serving Size\": 16, \"Calories\": 240, \"Carbohydrates\": -0.39309540222408024, \"Sugars\": 0.52293970254334, \"Protein\": 1.0743283103369157, \"Vitamin A (% Daily Value)\": 0.6609562954857418, \"Vitamin C (% Daily Value)\": -0.2254000902618996, \"Calcium (% Daily Value)\": 1.2868855136361284, \"Iron (% Daily Value)\": -0.16233766305653116, \"pred\": 340.4113254805925}, {\"Store\": \"McDonald's\", \"Item\": \"Nonfat Latte with Sugar Free French Vanilla Syrup (Small)\", \"Serving Size\": 12, \"Calories\": 140, \"Carbohydrates\": -0.7894485011516749, \"Sugars\": -1.0381033500302737, \"Protein\": 0.6746037096509073, \"Vitamin A (% Daily Value)\": 0.07038335092687834, \"Vitamin C (% Daily Value)\": -0.2254000902618996, \"Calcium (% Daily Value)\": 0.6476024752187254, \"Iron (% Daily Value)\": -0.5058347472051334, \"pred\": 131.9976931353592}, {\"Store\": \"McDonald's\", \"Item\": \"Nonfat Latte with Sugar Free French Vanilla Syrup (Medium)\", \"Serving Size\": 16, \"Calories\": 170, \"Carbohydrates\": -0.6943237574090521, \"Sugars\": -0.8961903452508542, \"Protein\": 1.0743283103369157, \"Vitamin A (% Daily Value)\": 0.6609562954857418, \"Vitamin C (% Daily Value)\": -0.2254000902618996, \"Calcium (% Daily Value)\": 1.2868855136361284, \"Iron (% Daily Value)\": -0.5058347472051334, \"pred\": 166.59223858129343}, {\"Store\": \"McDonald's\", \"Item\": \"Mocha (Small)\", \"Serving Size\": 12, \"Calories\": 340, \"Carbohydrates\": -0.39309540222408024, \"Sugars\": 0.3337223628374474, \"Protein\": 0.6746037096509073, \"Vitamin A (% Daily Value)\": 0.07038335092687834, \"Vitamin C (% Daily Value)\": -0.2254000902618996, \"Calcium (% Daily Value)\": 0.6476024752187254, \"Iron (% Daily Value)\": 0.5246565052406733, \"pred\": 298.71340052988677}, {\"Store\": \"McDonald's\", \"Item\": \"Mocha (Medium)\", \"Serving Size\": 16, \"Calories\": 410, \"Carbohydrates\": -0.2187000386959386, \"Sugars\": 0.8540700470286519, \"Protein\": 1.27419061067992, \"Vitamin A (% Daily Value)\": 0.07038335092687834, \"Vitamin C (% Daily Value)\": -0.2254000902618996, \"Calcium (% Daily Value)\": 1.2868855136361284, \"Iron (% Daily Value)\": 0.5246565052406733, \"pred\": 386.81358959117665}, {\"Store\": \"McDonald's\", \"Item\": \"Mocha with Nonfat Milk (Small)\", \"Serving Size\": 12, \"Calories\": 270, \"Carbohydrates\": -0.39309540222408024, \"Sugars\": 0.38102669776392056, \"Protein\": 0.8744660099939116, \"Vitamin A (% Daily Value)\": 0.07038335092687834, \"Vitamin C (% Daily Value)\": -0.2254000902618996, \"Calcium (% Daily Value)\": 0.9672439944274269, \"Iron (% Daily Value)\": 0.5246565052406733, \"pred\": 314.28164776313406}, {\"Store\": \"McDonald's\", \"Item\": \"Mocha with Nonfat Milk (Medium)\", \"Serving Size\": 16, \"Calories\": 330, \"Carbohydrates\": -0.2187000386959386, \"Sugars\": 0.8540700470286519, \"Protein\": 1.27419061067992, \"Vitamin A (% Daily Value)\": 0.6609562954857418, \"Vitamin C (% Daily Value)\": -0.2254000902618996, \"Calcium (% Daily Value)\": 1.2868855136361284, \"Iron (% Daily Value)\": 0.5246565052406733, \"pred\": 386.4827580009709}, {\"Store\": \"McDonald's\", \"Item\": \"Caramel Mocha (Small)\", \"Serving Size\": 12, \"Calories\": 320, \"Carbohydrates\": -0.45651189805249537, \"Sugars\": 0.23911369298450114, \"Protein\": 0.6746037096509073, \"Vitamin A (% Daily Value)\": 0.07038335092687834, \"Vitamin C (% Daily Value)\": -0.2254000902618996, \"Calcium (% Daily Value)\": 0.6476024752187254, \"Iron (% Daily Value)\": -0.16233766305653116, \"pred\": 287.04775408889566}, {\"Store\": \"McDonald's\", \"Item\": \"Caramel Mocha (Medium)\", \"Serving Size\": 16, \"Calories\": 390, \"Carbohydrates\": -0.2979706584814575, \"Sugars\": 0.7121570422492325, \"Protein\": 1.0743283103369157, \"Vitamin A (% Daily Value)\": 0.6609562954857418, \"Vitamin C (% Daily Value)\": -0.2254000902618996, \"Calcium (% Daily Value)\": 1.2868855136361284, \"Iron (% Daily Value)\": -0.16233766305653116, \"pred\": 362.2289961723177}, {\"Store\": \"McDonald's\", \"Item\": \"Nonfat Caramel Mocha (Small)\", \"Serving Size\": 12, \"Calories\": 250, \"Carbohydrates\": -0.45651189805249537, \"Sugars\": 0.28641802791097426, \"Protein\": 0.6746037096509073, \"Vitamin A (% Daily Value)\": 0.07038335092687834, \"Vitamin C (% Daily Value)\": -0.2254000902618996, \"Calcium (% Daily Value)\": 0.9672439944274269, \"Iron (% Daily Value)\": -0.16233766305653116, \"pred\": 295.66736306333286}, {\"Store\": \"McDonald's\", \"Item\": \"Nonfat Caramel Mocha (Medium)\", \"Serving Size\": 16, \"Calories\": 310, \"Carbohydrates\": -0.2821165345243537, \"Sugars\": 0.7594613771757056, \"Protein\": 1.27419061067992, \"Vitamin A (% Daily Value)\": 0.6609562954857418, \"Vitamin C (% Daily Value)\": -0.2254000902618996, \"Calcium (% Daily Value)\": 1.2868855136361284, \"Iron (% Daily Value)\": -0.16233766305653116, \"pred\": 374.8171115599798}, {\"Store\": \"McDonald's\", \"Item\": \"Hot Chocolate (Small)\", \"Serving Size\": 12, \"Calories\": 360, \"Carbohydrates\": -0.37724127826697645, \"Sugars\": 0.4756353676168668, \"Protein\": 0.8744660099939116, \"Vitamin A (% Daily Value)\": 0.07038335092687834, \"Vitamin C (% Daily Value)\": -0.2254000902618996, \"Calcium (% Daily Value)\": 1.2868855136361284, \"Iron (% Daily Value)\": 0.5246565052406733, \"pred\": 328.54073386642324}, {\"Store\": \"McDonald's\", \"Item\": \"Hot Chocolate (Medium)\", \"Serving Size\": 16, \"Calories\": 440, \"Carbohydrates\": -0.20284591473883481, \"Sugars\": 0.9959830518080713, \"Protein\": 1.4740529110229241, \"Vitamin A (% Daily Value)\": 0.6609562954857418, \"Vitamin C (% Daily Value)\": -0.2254000902618996, \"Calcium (% Daily Value)\": 1.60652703284483, \"Iron (% Daily Value)\": 0.5246565052406733, \"pred\": 413.70007840376354}, {\"Store\": \"McDonald's\", \"Item\": \"Hot Chocolate with Nonfat Milk (Small)\", \"Serving Size\": 12, \"Calories\": 280, \"Carbohydrates\": -0.37724127826697645, \"Sugars\": 0.52293970254334, \"Protein\": 1.0743283103369157, \"Vitamin A (% Daily Value)\": 0.6609562954857418, \"Vitamin C (% Daily Value)\": -0.2254000902618996, \"Calcium (% Daily Value)\": 1.2868855136361284, \"Iron (% Daily Value)\": 0.5246565052406733, \"pred\": 341.16813657572095}, {\"Store\": \"McDonald's\", \"Item\": \"Hot Chocolate with Nonfat Milk (Medium)\", \"Serving Size\": 16, \"Calories\": 340, \"Carbohydrates\": -0.20284591473883481, \"Sugars\": 1.0432873867345445, \"Protein\": 1.4740529110229241, \"Vitamin A (% Daily Value)\": 1.2515292400446052, \"Vitamin C (% Daily Value)\": -0.2254000902618996, \"Calcium (% Daily Value)\": 1.9261685520535314, \"Iron (% Daily Value)\": 0.5246565052406733, \"pred\": 421.9888557879949}, {\"Store\": \"McDonald's\", \"Item\": \"Regular Iced Coffee (Small)\", \"Serving Size\": 16, \"Calories\": 140, \"Carbohydrates\": -0.8053026251087786, \"Sugars\": -0.6123643356920153, \"Protein\": -1.1241569934361306, \"Vitamin A (% Daily Value)\": -0.6383041825437578, \"Vitamin C (% Daily Value)\": -0.2254000902618996, \"Calcium (% Daily Value)\": -1.0145334246665225, \"Iron (% Daily Value)\": -0.5058347472051334, \"pred\": 110.7413627369281}, {\"Store\": \"McDonald's\", \"Item\": \"Caramel Iced Coffee (Small)\", \"Serving Size\": 16, \"Calories\": 130, \"Carbohydrates\": -0.8211567490658824, \"Sugars\": -0.6596686706184884, \"Protein\": -1.1241569934361306, \"Vitamin A (% Daily Value)\": -0.6383041825437578, \"Vitamin C (% Daily Value)\": -0.2254000902618996, \"Calcium (% Daily Value)\": -1.0145334246665225, \"Iron (% Daily Value)\": -0.5058347472051334, \"pred\": 105.10188560807612}, {\"Store\": \"McDonald's\", \"Item\": \"Hazelnut Iced Coffee (Small)\", \"Serving Size\": 16, \"Calories\": 130, \"Carbohydrates\": -0.8370108730229862, \"Sugars\": -0.7069730055449617, \"Protein\": -1.1241569934361306, \"Vitamin A (% Daily Value)\": -0.6383041825437578, \"Vitamin C (% Daily Value)\": -0.2254000902618996, \"Calcium (% Daily Value)\": -1.0145334246665225, \"Iron (% Daily Value)\": -0.5058347472051334, \"pred\": 99.46240847922412}, {\"Store\": \"McDonald's\", \"Item\": \"French Vanilla Iced Coffee (Small)\", \"Serving Size\": 16, \"Calories\": 120, \"Carbohydrates\": -0.85286499698009, \"Sugars\": -0.7542773404714348, \"Protein\": -1.1241569934361306, \"Vitamin A (% Daily Value)\": -0.6383041825437578, \"Vitamin C (% Daily Value)\": -0.2254000902618996, \"Calcium (% Daily Value)\": -1.0145334246665225, \"Iron (% Daily Value)\": -0.5058347472051334, \"pred\": 93.82293135037216}, {\"Store\": \"McDonald's\", \"Item\": \"Iced Coffee with Sugar Free French Vanilla Syrup (Small)\", \"Serving Size\": 16, \"Calories\": 80, \"Carbohydrates\": -1.0272603605082316, \"Sugars\": -1.6057553691479511, \"Protein\": -1.1241569934361306, \"Vitamin A (% Daily Value)\": -0.6383041825437578, \"Vitamin C (% Daily Value)\": -0.2254000902618996, \"Calcium (% Daily Value)\": -1.0145334246665225, \"Iron (% Daily Value)\": -0.5058347472051334, \"pred\": -10.27848935185284}, {\"Store\": \"McDonald's\", \"Item\": \"Iced Mocha (Small)\", \"Serving Size\": 12, \"Calories\": 290, \"Carbohydrates\": -0.5199283938809105, \"Sugars\": -0.0447123165743377, \"Protein\": 0.27487910896489887, \"Vitamin A (% Daily Value)\": 0.07038335092687834, \"Vitamin C (% Daily Value)\": -0.2254000902618996, \"Calcium (% Daily Value)\": 0.3279609560100239, \"Iron (% Daily Value)\": 0.1811594210920711, \"pred\": 236.52682904422187}, {\"Store\": \"McDonald's\", \"Item\": \"Iced Mocha (Medium)\", \"Serving Size\": 16, \"Calories\": 350, \"Carbohydrates\": -0.37724127826697645, \"Sugars\": 0.38102669776392056, \"Protein\": 0.47474140930790304, \"Vitamin A (% Daily Value)\": 0.07038335092687834, \"Vitamin C (% Daily Value)\": -0.2254000902618996, \"Calcium (% Daily Value)\": 0.6476024752187254, \"Iron (% Daily Value)\": 0.5246565052406733, \"pred\": 297.4042393999286}, {\"Store\": \"McDonald's\", \"Item\": \"Iced Mocha with Nonfat Milk (Small)\", \"Serving Size\": 12, \"Calories\": 240, \"Carbohydrates\": -0.5199283938809105, \"Sugars\": 0.002592018352135441, \"Protein\": 0.27487910896489887, \"Vitamin A (% Daily Value)\": 0.07038335092687834, \"Vitamin C (% Daily Value)\": -0.2254000902618996, \"Calcium (% Daily Value)\": 0.3279609560100239, \"Iron (% Daily Value)\": 0.1811594210920711, \"pred\": 242.5364250849152}, {\"Store\": \"McDonald's\", \"Item\": \"Iced Mocha with Nonfat Milk (Medium)\", \"Serving Size\": 16, \"Calories\": 290, \"Carbohydrates\": -0.37724127826697645, \"Sugars\": 0.38102669776392056, \"Protein\": 0.6746037096509073, \"Vitamin A (% Daily Value)\": 0.6609562954857418, \"Vitamin C (% Daily Value)\": -0.2254000902618996, \"Calcium (% Daily Value)\": 0.6476024752187254, \"Iron (% Daily Value)\": 0.5246565052406733, \"pred\": 304.022046068533}, {\"Store\": \"McDonald's\", \"Item\": \"Iced Caramel Mocha (Small)\", \"Serving Size\": 12, \"Calories\": 280, \"Carbohydrates\": -0.5674907657522218, \"Sugars\": -0.09201665150081083, \"Protein\": 0.27487910896489887, \"Vitamin A (% Daily Value)\": 0.07038335092687834, \"Vitamin C (% Daily Value)\": -0.2254000902618996, \"Calcium (% Daily Value)\": 0.3279609560100239, \"Iron (% Daily Value)\": -0.16233766305653116, \"pred\": 231.06412473556767}, {\"Store\": \"McDonald's\", \"Item\": \"Iced Caramel Mocha (Medium)\", \"Serving Size\": 16, \"Calories\": 340, \"Carbohydrates\": -0.4406577740953916, \"Sugars\": 0.28641802791097426, \"Protein\": 0.47474140930790304, \"Vitamin A (% Daily Value)\": 0.07038335092687834, \"Vitamin C (% Daily Value)\": -0.2254000902618996, \"Calcium (% Daily Value)\": 0.6476024752187254, \"Iron (% Daily Value)\": -0.16233766305653116, \"pred\": 285.73859295893755}, {\"Store\": \"McDonald's\", \"Item\": \"Iced Nonfat Caramel Mocha (Small)\", \"Serving Size\": 12, \"Calories\": 230, \"Carbohydrates\": -0.5674907657522218, \"Sugars\": -0.09201665150081083, \"Protein\": 0.27487910896489887, \"Vitamin A (% Daily Value)\": 0.07038335092687834, \"Vitamin C (% Daily Value)\": -0.2254000902618996, \"Calcium (% Daily Value)\": 0.3279609560100239, \"Iron (% Daily Value)\": -0.16233766305653116, \"pred\": 231.06412473556767}, {\"Store\": \"McDonald's\", \"Item\": \"Iced Nonfat Caramel Mocha (Medium)\", \"Serving Size\": 16, \"Calories\": 270, \"Carbohydrates\": -0.4248036501382878, \"Sugars\": 0.28641802791097426, \"Protein\": 0.6746037096509073, \"Vitamin A (% Daily Value)\": 0.6609562954857418, \"Vitamin C (% Daily Value)\": -0.2254000902618996, \"Calcium (% Daily Value)\": 0.6476024752187254, \"Iron (% Daily Value)\": -0.16233766305653116, \"pred\": 291.98628071570056}, {\"Store\": \"McDonald's\", \"Item\": \"Frapp\\u00e9 Mocha (Small)\", \"Serving Size\": 12, \"Calories\": 450, \"Carbohydrates\": -0.13942941891041968, \"Sugars\": 1.0432873867345445, \"Protein\": 0.07501680862189462, \"Vitamin A (% Daily Value)\": 0.6609562954857418, \"Vitamin C (% Daily Value)\": -0.2254000902618996, \"Calcium (% Daily Value)\": 0.008319436801322359, \"Iron (% Daily Value)\": 0.1811594210920711, \"pred\": 355.97520131321636}, {\"Store\": \"McDonald's\", \"Item\": \"Frapp\\u00e9 Mocha (Medium)\", \"Serving Size\": 16, \"Calories\": 550, \"Carbohydrates\": 0.09838244044613709, \"Sugars\": 1.7055480757051684, \"Protein\": 0.47474140930790304, \"Vitamin A (% Daily Value)\": 0.6609562954857418, \"Vitamin C (% Daily Value)\": -0.2254000902618996, \"Calcium (% Daily Value)\": 0.3279609560100239, \"Iron (% Daily Value)\": 0.1811594210920711, \"pred\": 451.0650516566669}, {\"Store\": \"McDonald's\", \"Item\": \"Frapp\\u00e9 Caramel (Small)\", \"Serving Size\": 12, \"Calories\": 450, \"Carbohydrates\": -0.15528354286752347, \"Sugars\": 1.0432873867345445, \"Protein\": 0.07501680862189462, \"Vitamin A (% Daily Value)\": 0.6609562954857418, \"Vitamin C (% Daily Value)\": -0.2254000902618996, \"Calcium (% Daily Value)\": 0.3279609560100239, \"Iron (% Daily Value)\": -0.16233766305653116, \"pred\": 358.3918681553167}, {\"Store\": \"McDonald's\", \"Item\": \"Frapp\\u00e9 Caramel (Medium)\", \"Serving Size\": 16, \"Calories\": 550, \"Carbohydrates\": 0.0825283164890333, \"Sugars\": 1.7055480757051684, \"Protein\": 0.47474140930790304, \"Vitamin A (% Daily Value)\": 1.2515292400446052, \"Vitamin C (% Daily Value)\": -0.2254000902618996, \"Calcium (% Daily Value)\": 0.6476024752187254, \"Iron (% Daily Value)\": -0.16233766305653116, \"pred\": 453.15088690856146}, {\"Store\": \"McDonald's\", \"Item\": \"Frapp\\u00e9 Chocolate Chip (Small)\", \"Serving Size\": 12, \"Calories\": 530, \"Carbohydrates\": 0.03496594461772195, \"Sugars\": 1.516330735999276, \"Protein\": 0.27487910896489887, \"Vitamin A (% Daily Value)\": 0.6609562954857418, \"Vitamin C (% Daily Value)\": -0.2254000902618996, \"Calcium (% Daily Value)\": 0.3279609560100239, \"Iron (% Daily Value)\": 0.1811594210920711, \"pred\": 421.5585048824489}, {\"Store\": \"McDonald's\", \"Item\": \"Frapp\\u00e9 Chocolate Chip (Medium)\", \"Serving Size\": 16, \"Calories\": 630, \"Carbohydrates\": 0.2727778039742787, \"Sugars\": 2.1785914249698997, \"Protein\": 0.47474140930790304, \"Vitamin A (% Daily Value)\": 0.6609562954857418, \"Vitamin C (% Daily Value)\": -0.2254000902618996, \"Calcium (% Daily Value)\": 0.6476024752187254, \"Iron (% Daily Value)\": 0.1811594210920711, \"pred\": 509.6997169670893}, {\"Store\": \"McDonald's\", \"Item\": \"Blueberry Pomegranate Smoothie (Small)\", \"Serving Size\": 12, \"Calories\": 220, \"Carbohydrates\": -0.37724127826697645, \"Sugars\": 0.4283310326903937, \"Protein\": -0.9242946930931265, \"Vitamin A (% Daily Value)\": -1.1107625381908484, \"Vitamin C (% Daily Value)\": -0.12672418867797952, \"Calcium (% Daily Value)\": -0.8866768169830419, \"Iron (% Daily Value)\": -0.16233766305653116, \"pred\": 241.23366658029298}, {\"Store\": \"McDonald's\", \"Item\": \"Blueberry Pomegranate Smoothie (Medium)\", \"Serving Size\": 16, \"Calories\": 260, \"Carbohydrates\": -0.18699179078173103, \"Sugars\": 0.9013743819551251, \"Protein\": -0.7244323927501223, \"Vitamin A (% Daily Value)\": -1.1107625381908484, \"Vitamin C (% Daily Value)\": -0.028048287094059463, \"Calcium (% Daily Value)\": -0.7588202092995613, \"Iron (% Daily Value)\": -0.16233766305653116, \"pred\": 304.33447133730857}, {\"Store\": \"McDonald's\", \"Item\": \"Strawberry Banana Smoothie (Small)\", \"Serving Size\": 12, \"Calories\": 210, \"Carbohydrates\": -0.4248036501382878, \"Sugars\": 0.4283310326903937, \"Protein\": -0.7244323927501223, \"Vitamin A (% Daily Value)\": -1.1107625381908484, \"Vitamin C (% Daily Value)\": 1.2547384334969016, \"Calcium (% Daily Value)\": -0.7588202092995613, \"Iron (% Daily Value)\": -0.16233766305653116, \"pred\": 242.68745678631558}, {\"Store\": \"McDonald's\", \"Item\": \"Strawberry Banana Smoothie (Medium)\", \"Serving Size\": 16, \"Calories\": 250, \"Carbohydrates\": -0.25040828661014614, \"Sugars\": 0.9013743819551251, \"Protein\": -0.524570092407118, \"Vitamin A (% Daily Value)\": -1.1107625381908484, \"Vitamin C (% Daily Value)\": 1.5014281874567017, \"Calcium (% Daily Value)\": -0.7588202092995613, \"Iron (% Daily Value)\": 0.1811594210920711, \"pred\": 304.85828207496604}, {\"Store\": \"McDonald's\", \"Item\": \"Mango Pineapple Smoothie (Small)\", \"Serving Size\": 12, \"Calories\": 210, \"Carbohydrates\": -0.37724127826697645, \"Sugars\": 0.52293970254334, \"Protein\": -0.9242946930931265, \"Vitamin A (% Daily Value)\": 2.432675129162332, \"Vitamin C (% Daily Value)\": 0.7613589255773011, \"Calcium (% Daily Value)\": -0.7588202092995613, \"Iron (% Daily Value)\": -0.16233766305653116, \"pred\": 247.39452503277965}, {\"Store\": \"McDonald's\", \"Item\": \"Mango Pineapple Smoothie (Medium)\", \"Serving Size\": 16, \"Calories\": 260, \"Carbohydrates\": -0.20284591473883481, \"Sugars\": 0.9959830518080713, \"Protein\": -0.7244323927501223, \"Vitamin A (% Daily Value)\": 3.6138210182800585, \"Vitamin C (% Daily Value)\": 1.0080486795371013, \"Calcium (% Daily Value)\": -0.7588202092995613, \"Iron (% Daily Value)\": -0.16233766305653116, \"pred\": 308.34022213753366}, {\"Store\": \"McDonald's\", \"Item\": \"Vanilla Shake (Small)\", \"Serving Size\": 12, \"Calories\": 530, \"Carbohydrates\": 0.19350718418875978, \"Sugars\": 1.3271133962933832, \"Protein\": 0.8744660099939116, \"Vitamin A (% Daily Value)\": 1.2515292400446052, \"Vitamin C (% Daily Value)\": -0.2254000902618996, \"Calcium (% Daily Value)\": 1.2868855136361284, \"Iron (% Daily Value)\": -0.5058347472051334, \"pred\": 421.0371235817487}, {\"Store\": \"McDonald's\", \"Item\": \"Vanilla Shake (Medium)\", \"Serving Size\": 16, \"Calories\": 660, \"Carbohydrates\": 0.5581520352021468, \"Sugars\": 2.1785914249698997, \"Protein\": 1.4740529110229241, \"Vitamin A (% Daily Value)\": 1.8421021846034684, \"Vitamin C (% Daily Value)\": -0.2254000902618996, \"Calcium (% Daily Value)\": 1.9261685520535314, \"Iron (% Daily Value)\": -0.5058347472051334, \"pred\": 546.43222639559}, {\"Store\": \"McDonald's\", \"Item\": \"Strawberry Shake (Small)\", \"Serving Size\": 12, \"Calories\": 550, \"Carbohydrates\": 0.2569236800171749, \"Sugars\": 2.0839827551169536, \"Protein\": 1.0743283103369157, \"Vitamin A (% Daily Value)\": 1.2515292400446052, \"Vitamin C (% Daily Value)\": -0.2254000902618996, \"Calcium (% Daily Value)\": 1.2868855136361284, \"Iron (% Daily Value)\": -0.5058347472051334, \"pred\": 522.6588228442865}, {\"Store\": \"McDonald's\", \"Item\": \"Strawberry Shake (Medium)\", \"Serving Size\": 16, \"Calories\": 690, \"Carbohydrates\": 0.6374226549876657, \"Sugars\": 3.0773737885728893, \"Protein\": 1.6739152113659281, \"Vitamin A (% Daily Value)\": 1.8421021846034684, \"Vitamin C (% Daily Value)\": -0.2254000902618996, \"Calcium (% Daily Value)\": 1.9261685520535314, \"Iron (% Daily Value)\": -0.5058347472051334, \"pred\": 665.7125948683665}, {\"Store\": \"McDonald's\", \"Item\": \"Chocolate Shake (Small)\", \"Serving Size\": 12, \"Calories\": 560, \"Carbohydrates\": 0.2727778039742787, \"Sugars\": 1.9893740852640072, \"Protein\": 1.0743283103369157, \"Vitamin A (% Daily Value)\": 1.2515292400446052, \"Vitamin C (% Daily Value)\": -0.2254000902618996, \"Calcium (% Daily Value)\": 1.2868855136361284, \"Iron (% Daily Value)\": 0.8681535893892756, \"pred\": 512.5233718649981}, {\"Store\": \"McDonald's\", \"Item\": \"Chocolate Shake (Medium)\", \"Serving Size\": 16, \"Calories\": 700, \"Carbohydrates\": 0.6374226549876657, \"Sugars\": 2.93546078379347, \"Protein\": 1.6739152113659281, \"Vitamin A (% Daily Value)\": 1.8421021846034684, \"Vitamin C (% Daily Value)\": -0.2254000902618996, \"Calcium (% Daily Value)\": 1.9261685520535314, \"Iron (% Daily Value)\": 1.2116506735378778, \"pred\": 650.5011317637111}, {\"Store\": \"McDonald's\", \"Item\": \"Shamrock Shake (Medium)\", \"Serving Size\": 16, \"Calories\": 660, \"Carbohydrates\": 0.5581520352021468, \"Sugars\": 2.7462434440875776, \"Protein\": 1.4740529110229241, \"Vitamin A (% Daily Value)\": 1.8421021846034684, \"Vitamin C (% Daily Value)\": -0.2254000902618996, \"Calcium (% Daily Value)\": 1.9261685520535314, \"Iron (% Daily Value)\": -0.5058347472051334, \"pred\": 618.5473788839099}, {\"Store\": \"Starbucks\", \"Item\": \"Brewed Coffee\", \"Serving Size\": 12, \"Calories\": 4, \"Carbohydrates\": -1.0114062365511278, \"Sugars\": -1.6530597040744244, \"Protein\": -1.2240881436076327, \"Vitamin A (% Daily Value)\": -1.1107625381908484, \"Vitamin C (% Daily Value)\": -0.2254000902618996, \"Calcium (% Daily Value)\": -1.2702466400334838, \"Iron (% Daily Value)\": -0.5058347472051334, \"pred\": -21.95586850862307}, {\"Store\": \"Starbucks\", \"Item\": \"Brewed Coffee\", \"Serving Size\": 16, \"Calories\": 5, \"Carbohydrates\": -1.0114062365511278, \"Sugars\": -1.6530597040744244, \"Protein\": -1.1241569934361306, \"Vitamin A (% Daily Value)\": -1.1107625381908484, \"Vitamin C (% Daily Value)\": -0.2254000902618996, \"Calcium (% Daily Value)\": -1.2702466400334838, \"Iron (% Daily Value)\": -0.5058347472051334, \"pred\": -18.481549379217995}, {\"Store\": \"Starbucks\", \"Item\": \"Caff\\u00e8 Latte\", \"Serving Size\": 12, \"Calories\": 100, \"Carbohydrates\": 0.7325473987302884, \"Sugars\": -0.9907990151038004, \"Protein\": 0.6746037096509073, \"Vitamin A (% Daily Value)\": 0.6609562954857418, \"Vitamin C (% Daily Value)\": -0.2254000902618996, \"Calcium (% Daily Value)\": 0.6476024752187254, \"Iron (% Daily Value)\": -0.5058347472051334, \"pred\": 102.14504204907851}, {\"Store\": \"Starbucks\", \"Item\": \"Caff\\u00e8 Latte\", \"Serving Size\": 16, \"Calories\": 130, \"Carbohydrates\": 1.208171117443402, \"Sugars\": -0.8015816753979079, \"Protein\": 1.27419061067992, \"Vitamin A (% Daily Value)\": 1.2515292400446052, \"Vitamin C (% Daily Value)\": -0.2254000902618996, \"Calcium (% Daily Value)\": 1.2868855136361284, \"Iron (% Daily Value)\": -0.5058347472051334, \"pred\": 140.81496791032404}, {\"Store\": \"Starbucks\", \"Item\": \"Caff\\u00e8 Mocha (Without Whipped Cream)\", \"Serving Size\": 12, \"Calories\": 170, \"Carbohydrates\": 0.41546491958821274, \"Sugars\": -0.37584266105964964, \"Protein\": 0.6746037096509073, \"Vitamin A (% Daily Value)\": 0.6609562954857418, \"Vitamin C (% Daily Value)\": -0.2254000902618996, \"Calcium (% Daily Value)\": 0.3279609560100239, \"Iron (% Daily Value)\": 2.9291360942808886, \"pred\": 190.69680591602346}, {\"Store\": \"Starbucks\", \"Item\": \"Caff\\u00e8 Mocha (Without Whipped Cream)\", \"Serving Size\": 16, \"Calories\": 220, \"Carbohydrates\": 0.8118180185158074, \"Sugars\": -0.0447123165743377, \"Protein\": 1.27419061067992, \"Vitamin A (% Daily Value)\": 1.2515292400446052, \"Vitamin C (% Daily Value)\": -0.2254000902618996, \"Calcium (% Daily Value)\": 0.9672439944274269, \"Iron (% Daily Value)\": 3.7878788046523946, \"pred\": 250.65477696726788}, {\"Store\": \"Starbucks\", \"Item\": \"Vanilla Latte (Or Other Flavoured Latte)\", \"Serving Size\": 12, \"Calories\": 150, \"Carbohydrates\": 0.5740061591592506, \"Sugars\": -0.37584266105964964, \"Protein\": 0.47474140930790304, \"Vitamin A (% Daily Value)\": 0.6609562954857418, \"Vitamin C (% Daily Value)\": -0.2254000902618996, \"Calcium (% Daily Value)\": 0.6476024752187254, \"Iron (% Daily Value)\": -0.5058347472051334, \"pred\": 177.02234143769488}, {\"Store\": \"Starbucks\", \"Item\": \"Vanilla Latte (Or Other Flavoured Latte)\", \"Serving Size\": 16, \"Calories\": 200, \"Carbohydrates\": 1.049629877872364, \"Sugars\": 0.002592018352135441, \"Protein\": 1.0743283103369157, \"Vitamin A (% Daily Value)\": 1.2515292400446052, \"Vitamin C (% Daily Value)\": -0.2254000902618996, \"Calcium (% Daily Value)\": 0.9672439944274269, \"Iron (% Daily Value)\": -0.5058347472051334, \"pred\": 237.12063852796985}, {\"Store\": \"Starbucks\", \"Item\": \"Caff\\u00e8 Americano\", \"Serving Size\": 12, \"Calories\": 10, \"Carbohydrates\": -1.0114062365511278, \"Sugars\": -1.6530597040744244, \"Protein\": -1.1241569934361306, \"Vitamin A (% Daily Value)\": -1.1107625381908484, \"Vitamin C (% Daily Value)\": -0.2254000902618996, \"Calcium (% Daily Value)\": -1.1423900323500031, \"Iron (% Daily Value)\": -0.5058347472051334, \"pred\": -17.437544205720457}, {\"Store\": \"Starbucks\", \"Item\": \"Caff\\u00e8 Americano\", \"Serving Size\": 16, \"Calories\": 15, \"Carbohydrates\": -0.9321356167656089, \"Sugars\": -1.6530597040744244, \"Protein\": -1.1241569934361306, \"Vitamin A (% Daily Value)\": -1.1107625381908484, \"Vitamin C (% Daily Value)\": -0.2254000902618996, \"Calcium (% Daily Value)\": -1.1423900323500031, \"Iron (% Daily Value)\": -0.5058347472051334, \"pred\": -19.28813876492714}, {\"Store\": \"Starbucks\", \"Item\": \"Cappuccino\", \"Serving Size\": 12, \"Calories\": 60, \"Carbohydrates\": -0.060158799124900755, \"Sugars\": -1.2746250246626392, \"Protein\": -0.12484549172110959, \"Vitamin A (% Daily Value)\": 0.07038335092687834, \"Vitamin C (% Daily Value)\": -0.2254000902618996, \"Calcium (% Daily Value)\": 0.008319436801322359, \"Iron (% Daily Value)\": -0.5058347472051334, \"pred\": 51.909664084462946}, {\"Store\": \"Starbucks\", \"Item\": \"Cappuccino\", \"Serving Size\": 16, \"Calories\": 80, \"Carbohydrates\": 0.2569236800171749, \"Sugars\": -1.180016354809693, \"Protein\": 0.27487910896489887, \"Vitamin A (% Daily Value)\": 0.6609562954857418, \"Vitamin C (% Daily Value)\": -0.2254000902618996, \"Calcium (% Daily Value)\": 0.3279609560100239, \"Iron (% Daily Value)\": -0.5058347472051334, \"pred\": 72.70293579018124}, {\"Store\": \"Starbucks\", \"Item\": \"Skinny Latte (Any Flavour)\", \"Serving Size\": 12, \"Calories\": 100, \"Carbohydrates\": 0.8118180185158074, \"Sugars\": -1.0381033500302737, \"Protein\": 0.47474140930790304, \"Vitamin A (% Daily Value)\": 0.6609562954857418, \"Vitamin C (% Daily Value)\": -0.2254000902618996, \"Calcium (% Daily Value)\": 0.6476024752187254, \"Iron (% Daily Value)\": -0.5058347472051334, \"pred\": 87.33621319036837}, {\"Store\": \"Starbucks\", \"Item\": \"Skinny Latte (Any Flavour)\", \"Serving Size\": 16, \"Calories\": 120, \"Carbohydrates\": 1.3667123570144397, \"Sugars\": -0.8961903452508542, \"Protein\": 1.0743283103369157, \"Vitamin A (% Daily Value)\": 1.2515292400446052, \"Vitamin C (% Daily Value)\": -0.2254000902618996, \"Calcium (% Daily Value)\": 0.9672439944274269, \"Iron (% Daily Value)\": -0.5058347472051334, \"pred\": 115.53593551797006}, {\"Store\": \"Starbucks\", \"Item\": \"Caramel Macchiato\", \"Serving Size\": 12, \"Calories\": 140, \"Carbohydrates\": 0.49473553937373166, \"Sugars\": -0.5177556658390691, \"Protein\": 0.27487910896489887, \"Vitamin A (% Daily Value)\": 0.6609562954857418, \"Vitamin C (% Daily Value)\": -0.2254000902618996, \"Calcium (% Daily Value)\": 0.3279609560100239, \"Iron (% Daily Value)\": -0.5058347472051334, \"pred\": 151.28549668226762}, {\"Store\": \"Starbucks\", \"Item\": \"Caramel Macchiato\", \"Serving Size\": 16, \"Calories\": 190, \"Carbohydrates\": 0.8910886383013262, \"Sugars\": -0.13932098642728397, \"Protein\": 0.8744660099939116, \"Vitamin A (% Daily Value)\": 1.2515292400446052, \"Vitamin C (% Daily Value)\": -0.2254000902618996, \"Calcium (% Daily Value)\": 0.9672439944274269, \"Iron (% Daily Value)\": -0.5058347472051334, \"pred\": 215.84440126549313}, {\"Store\": \"Starbucks\", \"Item\": \"White Chocolate Mocha (Without Whipped Cream)\", \"Serving Size\": 12, \"Calories\": 270, \"Carbohydrates\": 1.8423360757275533, \"Sugars\": 0.4756353676168668, \"Protein\": 1.0743283103369157, \"Vitamin A (% Daily Value)\": 0.6609562954857418, \"Vitamin C (% Daily Value)\": -0.12672418867797952, \"Calcium (% Daily Value)\": 0.9672439944274269, \"Iron (% Daily Value)\": -0.5058347472051334, \"pred\": 278.4951127929127}, {\"Store\": \"Starbucks\", \"Item\": \"White Chocolate Mocha (Without Whipped Cream)\", \"Serving Size\": 16, \"Calories\": 350, \"Carbohydrates\": 2.6350422735827426, \"Sugars\": 1.0905917216610177, \"Protein\": 1.6739152113659281, \"Vitamin A (% Daily Value)\": 1.2515292400446052, \"Vitamin C (% Daily Value)\": -0.12672418867797952, \"Calcium (% Daily Value)\": 1.60652703284483, \"Iron (% Daily Value)\": -0.16233766305653116, \"pred\": 364.4124897870563}, {\"Store\": \"Starbucks\", \"Item\": \"Hot Chocolate (Without Whipped Cream)\", \"Serving Size\": 12, \"Calories\": 190, \"Carbohydrates\": 0.5740061591592506, \"Sugars\": -0.13932098642728397, \"Protein\": 0.8744660099939116, \"Vitamin A (% Daily Value)\": 0.6609562954857418, \"Vitamin C (% Daily Value)\": -0.2254000902618996, \"Calcium (% Daily Value)\": 0.6476024752187254, \"Iron (% Daily Value)\": 2.9291360942808886, \"pred\": 226.6022481936307}, {\"Store\": \"Starbucks\", \"Item\": \"Hot Chocolate (Without Whipped Cream)\", \"Serving Size\": 16, \"Calories\": 240, \"Carbohydrates\": 1.049629877872364, \"Sugars\": 0.28641802791097426, \"Protein\": 1.4740529110229241, \"Vitamin A (% Daily Value)\": 1.2515292400446052, \"Vitamin C (% Daily Value)\": -0.2254000902618996, \"Calcium (% Daily Value)\": 1.2868855136361284, \"Iron (% Daily Value)\": 3.7878788046523946, \"pred\": 296.72881676705504}, {\"Store\": \"Starbucks\", \"Item\": \"Caramel Apple Spice (Without Whipped Cream)\", \"Serving Size\": 12, \"Calories\": 210, \"Carbohydrates\": -0.9321356167656089, \"Sugars\": 0.6648527073227594, \"Protein\": -1.3240192937791349, \"Vitamin A (% Daily Value)\": -1.1107625381908484, \"Vitamin C (% Daily Value)\": -0.2254000902618996, \"Calcium (% Daily Value)\": -1.2702466400334838, \"Iron (% Daily Value)\": -0.5058347472051334, \"pred\": 267.18942379673774}, {\"Store\": \"Starbucks\", \"Item\": \"Caramel Apple Spice (Without Whipped Cream)\", \"Serving Size\": 16, \"Calories\": 280, \"Carbohydrates\": -0.85286499698009, \"Sugars\": 1.4217220661463295, \"Protein\": -1.3240192937791349, \"Vitamin A (% Daily Value)\": -1.1107625381908484, \"Vitamin C (% Daily Value)\": -0.2254000902618996, \"Calcium (% Daily Value)\": -1.2702466400334838, \"Iron (% Daily Value)\": -0.5058347472051334, \"pred\": 361.4923658886242}, {\"Store\": \"Starbucks\", \"Item\": \"Tazo\\u00ae Tea\", \"Serving Size\": 12, \"Calories\": 0, \"Carbohydrates\": -1.1699474761221655, \"Sugars\": -1.6530597040744244, \"Protein\": -1.3240192937791349, \"Vitamin A (% Daily Value)\": -1.1107625381908484, \"Vitamin C (% Daily Value)\": -0.2254000902618996, \"Calcium (% Daily Value)\": -1.2702466400334838, \"Iron (% Daily Value)\": -0.5058347472051334, \"pred\": -21.72899851961475}, {\"Store\": \"Starbucks\", \"Item\": \"Tazo\\u00ae Tea\", \"Serving Size\": 16, \"Calories\": 0, \"Carbohydrates\": -1.1699474761221655, \"Sugars\": -1.6530597040744244, \"Protein\": -1.3240192937791349, \"Vitamin A (% Daily Value)\": -1.1107625381908484, \"Vitamin C (% Daily Value)\": -0.2254000902618996, \"Calcium (% Daily Value)\": -1.2702466400334838, \"Iron (% Daily Value)\": -0.5058347472051334, \"pred\": -21.72899851961475}, {\"Store\": \"Starbucks\", \"Item\": \"Tazo\\u00ae Chai Tea Latte\", \"Serving Size\": 12, \"Calories\": 160, \"Carbohydrates\": 0.09838244044613709, \"Sugars\": -0.13932098642728397, \"Protein\": -0.12484549172110959, \"Vitamin A (% Daily Value)\": 0.07038335092687834, \"Vitamin C (% Daily Value)\": -0.2254000902618996, \"Calcium (% Daily Value)\": 0.008319436801322359, \"Iron (% Daily Value)\": -0.16233766305653116, \"pred\": 193.0022449461741}, {\"Store\": \"Starbucks\", \"Item\": \"Tazo\\u00ae Chai Tea Latte\", \"Serving Size\": 16, \"Calories\": 210, \"Carbohydrates\": 0.49473553937373166, \"Sugars\": 0.38102669776392056, \"Protein\": 0.27487910896489887, \"Vitamin A (% Daily Value)\": 0.6609562954857418, \"Vitamin C (% Daily Value)\": -0.2254000902618996, \"Calcium (% Daily Value)\": 0.3279609560100239, \"Iron (% Daily Value)\": -0.16233766305653116, \"pred\": 266.0312864589256}, {\"Store\": \"Starbucks\", \"Item\": \"Tazo\\u00ae Green Tea Latte\", \"Serving Size\": 12, \"Calories\": 210, \"Carbohydrates\": 0.8118180185158074, \"Sugars\": 0.28641802791097426, \"Protein\": 0.8744660099939116, \"Vitamin A (% Daily Value)\": 1.2515292400446052, \"Vitamin C (% Daily Value)\": 0.2679794176577007, \"Calcium (% Daily Value)\": 0.9672439944274269, \"Iron (% Daily Value)\": 0.1811594210920711, \"pred\": 270.17642949726337}, {\"Store\": \"Starbucks\", \"Item\": \"Tazo\\u00ae Green Tea Latte\", \"Serving Size\": 16, \"Calories\": 290, \"Carbohydrates\": 1.3667123570144397, \"Sugars\": 0.9959830518080713, \"Protein\": 1.4740529110229241, \"Vitamin A (% Daily Value)\": 1.8421021846034684, \"Vitamin C (% Daily Value)\": 0.5146691716175009, \"Calcium (% Daily Value)\": 1.60652703284483, \"Iron (% Daily Value)\": 0.1811594210920711, \"pred\": 371.7353868966057}, {\"Store\": \"Starbucks\", \"Item\": \"Tazo\\u00ae Full-Leaf Tea Latte\", \"Serving Size\": 12, \"Calories\": 120, \"Carbohydrates\": -0.13942941891041968, \"Sugars\": -0.5650600007655422, \"Protein\": -0.3247077920641138, \"Vitamin A (% Daily Value)\": 0.07038335092687834, \"Vitamin C (% Daily Value)\": -0.2254000902618996, \"Calcium (% Daily Value)\": 0.008319436801322359, \"Iron (% Daily Value)\": -0.5058347472051334, \"pred\": 136.95556099525925}, {\"Store\": \"Starbucks\", \"Item\": \"Tazo\\u00ae Full-Leaf Tea Latte\", \"Serving Size\": 16, \"Calories\": 150, \"Carbohydrates\": 0.177653060231656, \"Sugars\": -0.18662532135375712, \"Protein\": 0.07501680862189462, \"Vitamin A (% Daily Value)\": 0.6609562954857418, \"Vitamin C (% Daily Value)\": -0.2254000902618996, \"Calcium (% Daily Value)\": 0.3279609560100239, \"Iron (% Daily Value)\": -0.5058347472051334, \"pred\": 193.80640894513746}, {\"Store\": \"Starbucks\", \"Item\": \"Tazo\\u00ae Full-Leaf Red Tea Latte (Vanilla Rooibos)\", \"Serving Size\": 12, \"Calories\": 120, \"Carbohydrates\": -0.13942941891041968, \"Sugars\": -0.5650600007655422, \"Protein\": -0.3247077920641138, \"Vitamin A (% Daily Value)\": 0.07038335092687834, \"Vitamin C (% Daily Value)\": -0.2254000902618996, \"Calcium (% Daily Value)\": 0.008319436801322359, \"Iron (% Daily Value)\": -0.5058347472051334, \"pred\": 136.95556099525925}, {\"Store\": \"Starbucks\", \"Item\": \"Tazo\\u00ae Full-Leaf Red Tea Latte (Vanilla Rooibos)\", \"Serving Size\": 16, \"Calories\": 150, \"Carbohydrates\": 0.177653060231656, \"Sugars\": -0.18662532135375712, \"Protein\": 0.07501680862189462, \"Vitamin A (% Daily Value)\": 0.6609562954857418, \"Vitamin C (% Daily Value)\": -0.2254000902618996, \"Calcium (% Daily Value)\": 0.3279609560100239, \"Iron (% Daily Value)\": -0.5058347472051334, \"pred\": 193.80640894513746}, {\"Store\": \"Starbucks\", \"Item\": \"Iced Brewed Coffee (With Classic Syrup)\", \"Serving Size\": 12, \"Calories\": 60, \"Carbohydrates\": -1.1065309802937504, \"Sugars\": -0.9434946801773273, \"Protein\": -1.284046833710534, \"Vitamin A (% Daily Value)\": -1.1107625381908484, \"Vitamin C (% Daily Value)\": -0.2254000902618996, \"Calcium (% Daily Value)\": -1.2702466400334838, \"Iron (% Daily Value)\": -0.5058347472051334, \"pred\": 68.3241940951817}, {\"Store\": \"Starbucks\", \"Item\": \"Iced Brewed Coffee (With Classic Syrup)\", \"Serving Size\": 16, \"Calories\": 90, \"Carbohydrates\": -1.0906768563366467, \"Sugars\": -0.6596686706184884, \"Protein\": -1.2640606036762336, \"Vitamin A (% Daily Value)\": -1.1107625381908484, \"Vitamin C (% Daily Value)\": -0.2254000902618996, \"Calcium (% Daily Value)\": -1.2702466400334838, \"Iron (% Daily Value)\": -0.5058347472051334, \"pred\": 104.70651525338126}, {\"Store\": \"Starbucks\", \"Item\": \"Iced Brewed Coffee (With Milk & Classic Syrup)\", \"Serving Size\": 12, \"Calories\": 80, \"Carbohydrates\": -0.773594377194571, \"Sugars\": -0.8015816753979079, \"Protein\": -0.9242946930931265, \"Vitamin A (% Daily Value)\": -0.8745333603673031, \"Vitamin C (% Daily Value)\": -0.2254000902618996, \"Calcium (% Daily Value)\": -0.8866768169830419, \"Iron (% Daily Value)\": -0.5058347472051334, \"pred\": 94.08771681886212}, {\"Store\": \"Starbucks\", \"Item\": \"Iced Brewed Coffee (With Milk & Classic Syrup)\", \"Serving Size\": 16, \"Calories\": 110, \"Carbohydrates\": -0.6943237574090521, \"Sugars\": -0.5177556658390691, \"Protein\": -0.9242946930931265, \"Vitamin A (% Daily Value)\": -0.6383041825437578, \"Vitamin C (% Daily Value)\": -0.2254000902618996, \"Calcium (% Daily Value)\": -0.7588202092995613, \"Iron (% Daily Value)\": -0.16233766305653116, \"pred\": 129.7698360447155}, {\"Store\": \"Starbucks\", \"Item\": \"Shaken Iced Tazo\\u00ae Tea (With Classic Syrup)\", \"Serving Size\": 12, \"Calories\": 60, \"Carbohydrates\": -1.1699474761221655, \"Sugars\": -0.9434946801773273, \"Protein\": -1.3240192937791349, \"Vitamin A (% Daily Value)\": -1.1107625381908484, \"Vitamin C (% Daily Value)\": -0.2254000902618996, \"Calcium (% Daily Value)\": -1.2702466400334838, \"Iron (% Daily Value)\": 0.5246565052406733, \"pred\": 70.10533710123968}, {\"Store\": \"Starbucks\", \"Item\": \"Shaken Iced Tazo\\u00ae Tea (With Classic Syrup)\", \"Serving Size\": 16, \"Calories\": 80, \"Carbohydrates\": -1.1699474761221655, \"Sugars\": -0.6596686706184884, \"Protein\": -1.3240192937791349, \"Vitamin A (% Daily Value)\": -1.1107625381908484, \"Vitamin C (% Daily Value)\": -0.2254000902618996, \"Calcium (% Daily Value)\": -1.2702466400334838, \"Iron (% Daily Value)\": -0.5058347472051334, \"pred\": 104.47251833494491}, {\"Store\": \"Starbucks\", \"Item\": \"Shaken Iced Tazo\\u00ae Tea Lemonade (With Classic Syrup)\", \"Serving Size\": 12, \"Calories\": 100, \"Carbohydrates\": -1.1699474761221655, \"Sugars\": -0.5177556658390691, \"Protein\": -1.3040330637448345, \"Vitamin A (% Daily Value)\": -1.1107625381908484, \"Vitamin C (% Daily Value)\": 0.2679794176577007, \"Calcium (% Daily Value)\": -1.2702466400334838, \"Iron (% Daily Value)\": -0.5058347472051334, \"pred\": 120.46430958225976}, {\"Store\": \"Starbucks\", \"Item\": \"Shaken Iced Tazo\\u00ae Tea Lemonade (With Classic Syrup)\", \"Serving Size\": 16, \"Calories\": 130, \"Carbohydrates\": -1.1699474761221655, \"Sugars\": -0.09201665150081083, \"Protein\": -1.3040330637448345, \"Vitamin A (% Daily Value)\": -1.1107625381908484, \"Vitamin C (% Daily Value)\": 0.5146691716175009, \"Calcium (% Daily Value)\": -1.2702466400334838, \"Iron (% Daily Value)\": -0.5058347472051334, \"pred\": 173.18474359817657}, {\"Store\": \"Starbucks\", \"Item\": \"Banana Chocolate Smoothie\", \"Serving Size\": 16, \"Calories\": 280, \"Carbohydrates\": 1.208171117443402, \"Sugars\": -0.0447123165743377, \"Protein\": 2.6732267130809495, \"Vitamin A (% Daily Value)\": 0.07038335092687834, \"Vitamin C (% Daily Value)\": 0.5146691716175009, \"Calcium (% Daily Value)\": 0.008319436801322359, \"Iron (% Daily Value)\": -0.5058347472051334, \"pred\": 271.7327927675549}, {\"Store\": \"Starbucks\", \"Item\": \"Orange Mango Banana Smoothie\", \"Serving Size\": 16, \"Calories\": 260, \"Carbohydrates\": 0.7325473987302884, \"Sugars\": 0.09720068820508171, \"Protein\": 1.8737775117089324, \"Vitamin A (% Daily Value)\": 4.794966907397785, \"Vitamin C (% Daily Value)\": 3.7216359730949033, \"Calcium (% Daily Value)\": -0.6309636016160807, \"Iron (% Daily Value)\": 4.6466215150239, \"pred\": 255.89879711857446}, {\"Store\": \"Starbucks\", \"Item\": \"Strawberry Banana Smoothie\", \"Serving Size\": 16, \"Calories\": 290, \"Carbohydrates\": 0.8118180185158074, \"Sugars\": 0.28641802791097426, \"Protein\": 1.8737775117089324, \"Vitamin A (% Daily Value)\": -0.6383041825437578, \"Vitamin C (% Daily Value)\": 4.708394988934104, \"Calcium (% Daily Value)\": -0.6309636016160807, \"Iron (% Daily Value)\": 0.8681535893892756, \"pred\": 269.46840091240796}, {\"Store\": \"Starbucks\", \"Item\": \"Coffee\", \"Serving Size\": 12, \"Calories\": 160, \"Carbohydrates\": 1.3667123570144397, \"Sugars\": 0.04989635327860858, \"Protein\": -0.7244323927501223, \"Vitamin A (% Daily Value)\": -0.6383041825437578, \"Vitamin C (% Daily Value)\": -0.2254000902618996, \"Calcium (% Daily Value)\": -0.6309636016160807, \"Iron (% Daily Value)\": 1.2116506735378778, \"pred\": 164.01603343990882}, {\"Store\": \"Starbucks\", \"Item\": \"Coffee\", \"Serving Size\": 16, \"Calories\": 220, \"Carbohydrates\": 2.159418554869629, \"Sugars\": 0.7121570422492325, \"Protein\": -0.524570092407118, \"Vitamin A (% Daily Value)\": -0.40207500472021235, \"Vitamin C (% Daily Value)\": -0.2254000902618996, \"Calcium (% Daily Value)\": -0.6309636016160807, \"Iron (% Daily Value)\": 0.1811594210920711, \"pred\": 234.7703430298216}, {\"Store\": \"Starbucks\", \"Item\": \"Mocha (Without Whipped Cream)\", \"Serving Size\": 12, \"Calories\": 180, \"Carbohydrates\": 1.208171117443402, \"Sugars\": 0.23911369298450114, \"Protein\": -0.7244323927501223, \"Vitamin A (% Daily Value)\": -0.6383041825437578, \"Vitamin C (% Daily Value)\": -0.2254000902618996, \"Calcium (% Daily Value)\": -0.6309636016160807, \"Iron (% Daily Value)\": 0.8681535893892756, \"pred\": 191.19214171761058}, {\"Store\": \"Starbucks\", \"Item\": \"Mocha (Without Whipped Cream)\", \"Serving Size\": 16, \"Calories\": 260, \"Carbohydrates\": 2.3179597944406667, \"Sugars\": 1.0905917216610177, \"Protein\": -0.524570092407118, \"Vitamin A (% Daily Value)\": -0.40207500472021235, \"Vitamin C (% Daily Value)\": -0.2254000902618996, \"Calcium (% Daily Value)\": -0.6309636016160807, \"Iron (% Daily Value)\": 0.8681535893892756, \"pred\": 280.2728522439246}, {\"Store\": \"Starbucks\", \"Item\": \"Caramel (Without Whipped Cream)\", \"Serving Size\": 12, \"Calories\": 180, \"Carbohydrates\": 1.3667123570144397, \"Sugars\": 0.28641802791097426, \"Protein\": -0.7244323927501223, \"Vitamin A (% Daily Value)\": -0.6383041825437578, \"Vitamin C (% Daily Value)\": -0.2254000902618996, \"Calcium (% Daily Value)\": -0.6309636016160807, \"Iron (% Daily Value)\": -0.5058347472051334, \"pred\": 191.24668862595095}, {\"Store\": \"Starbucks\", \"Item\": \"Caramel (Without Whipped Cream)\", \"Serving Size\": 16, \"Calories\": 280, \"Carbohydrates\": 2.3179597944406667, \"Sugars\": 1.1378960565874907, \"Protein\": -0.524570092407118, \"Vitamin A (% Daily Value)\": -0.40207500472021235, \"Vitamin C (% Daily Value)\": -0.2254000902618996, \"Calcium (% Daily Value)\": -0.6309636016160807, \"Iron (% Daily Value)\": -0.5058347472051334, \"pred\": 284.0285882706783}, {\"Store\": \"Starbucks\", \"Item\": \"Java Chip (Without Whipped Cream)\", \"Serving Size\": 12, \"Calories\": 220, \"Carbohydrates\": 1.5252535965854777, \"Sugars\": 0.4283310326903937, \"Protein\": -0.524570092407118, \"Vitamin A (% Daily Value)\": -0.6383041825437578, \"Vitamin C (% Daily Value)\": -0.2254000902618996, \"Calcium (% Daily Value)\": -0.6309636016160807, \"Iron (% Daily Value)\": 2.9291360942808886, \"pred\": 218.15757592327662}, {\"Store\": \"Starbucks\", \"Item\": \"Java Chip (Without Whipped Cream)\", \"Serving Size\": 16, \"Calories\": 310, \"Carbohydrates\": 2.7935835131537803, \"Sugars\": 1.2798090613669102, \"Protein\": -0.3247077920641138, \"Vitamin A (% Daily Value)\": -0.40207500472021235, \"Vitamin C (% Daily Value)\": -0.2254000902618996, \"Calcium (% Daily Value)\": -0.6309636016160807, \"Iron (% Daily Value)\": 3.7878788046523946, \"pred\": 304.9457598398895}, {\"Store\": \"Starbucks\", \"Item\": \"Coffee\", \"Serving Size\": 12, \"Calories\": 90, \"Carbohydrates\": 1.3667123570144397, \"Sugars\": -0.7542773404714348, \"Protein\": -0.7244323927501223, \"Vitamin A (% Daily Value)\": -0.6383041825437578, \"Vitamin C (% Daily Value)\": -0.2254000902618996, \"Calcium (% Daily Value)\": -0.6309636016160807, \"Iron (% Daily Value)\": -0.5058347472051334, \"pred\": 59.03557573069796}, {\"Store\": \"Starbucks\", \"Item\": \"Coffee\", \"Serving Size\": 16, \"Calories\": 120, \"Carbohydrates\": 2.159418554869629, \"Sugars\": -0.4231469959861228, \"Protein\": -0.7244323927501223, \"Vitamin A (% Daily Value)\": -0.40207500472021235, \"Vitamin C (% Daily Value)\": -0.2254000902618996, \"Calcium (% Daily Value)\": -0.6309636016160807, \"Iron (% Daily Value)\": -0.5058347472051334, \"pred\": 82.46446978740207}, {\"Store\": \"Starbucks\", \"Item\": \"Mocha\", \"Serving Size\": 12, \"Calories\": 110, \"Carbohydrates\": 1.208171117443402, \"Sugars\": -0.5650600007655422, \"Protein\": -0.7244323927501223, \"Vitamin A (% Daily Value)\": -0.6383041825437578, \"Vitamin C (% Daily Value)\": -0.2254000902618996, \"Calcium (% Daily Value)\": -0.7588202092995613, \"Iron (% Daily Value)\": 0.5246565052406733, \"pred\": 87.42153884884169}, {\"Store\": \"Starbucks\", \"Item\": \"Mocha\", \"Serving Size\": 16, \"Calories\": 150, \"Carbohydrates\": 2.0008773152985913, \"Sugars\": -0.23392965628023024, \"Protein\": -0.524570092407118, \"Vitamin A (% Daily Value)\": -0.40207500472021235, \"Vitamin C (% Daily Value)\": -0.2254000902618996, \"Calcium (% Daily Value)\": -0.6309636016160807, \"Iron (% Daily Value)\": 0.8681535893892756, \"pred\": 119.4065413413384}, {\"Store\": \"Starbucks\", \"Item\": \"Caramel\", \"Serving Size\": 12, \"Calories\": 100, \"Carbohydrates\": 1.049629877872364, \"Sugars\": -0.5650600007655422, \"Protein\": -0.7244323927501223, \"Vitamin A (% Daily Value)\": -0.6383041825437578, \"Vitamin C (% Daily Value)\": -0.2254000902618996, \"Calcium (% Daily Value)\": -0.7588202092995613, \"Iron (% Daily Value)\": -0.5058347472051334, \"pred\": 89.43233295680038}, {\"Store\": \"Starbucks\", \"Item\": \"Caramel\", \"Serving Size\": 16, \"Calories\": 150, \"Carbohydrates\": 2.0008773152985913, \"Sugars\": -0.13932098642728397, \"Protein\": -0.7244323927501223, \"Vitamin A (% Daily Value)\": -0.40207500472021235, \"Vitamin C (% Daily Value)\": -0.2254000902618996, \"Calcium (% Daily Value)\": -0.6309636016160807, \"Iron (% Daily Value)\": -0.5058347472051334, \"pred\": 122.22323514997531}, {\"Store\": \"Starbucks\", \"Item\": \"Java Chip\", \"Serving Size\": 12, \"Calories\": 150, \"Carbohydrates\": 1.5252535965854777, \"Sugars\": -0.37584266105964964, \"Protein\": -0.524570092407118, \"Vitamin A (% Daily Value)\": -0.6383041825437578, \"Vitamin C (% Daily Value)\": -0.2254000902618996, \"Calcium (% Daily Value)\": -0.6309636016160807, \"Iron (% Daily Value)\": 2.9291360942808886, \"pred\": 115.9944432314902}, {\"Store\": \"Starbucks\", \"Item\": \"Java Chip\", \"Serving Size\": 16, \"Calories\": 220, \"Carbohydrates\": 2.6350422735827426, \"Sugars\": 0.19180935805802798, \"Protein\": -0.3247077920641138, \"Vitamin A (% Daily Value)\": -0.40207500472021235, \"Vitamin C (% Daily Value)\": -0.2254000902618996, \"Calcium (% Daily Value)\": -0.6309636016160807, \"Iron (% Daily Value)\": 3.7878788046523946, \"pred\": 170.42624002235652}, {\"Store\": \"Starbucks\", \"Item\": \"Strawberries & Cr\\u00e8me (Without Whipped Cream)\", \"Serving Size\": 12, \"Calories\": 170, \"Carbohydrates\": 1.049629877872364, \"Sugars\": 0.14450502313155486, \"Protein\": -0.7244323927501223, \"Vitamin A (% Daily Value)\": -0.40207500472021235, \"Vitamin C (% Daily Value)\": 0.0706276144898606, \"Calcium (% Daily Value)\": -0.6309636016160807, \"Iron (% Daily Value)\": -0.16233766305653116, \"pred\": 179.41229468771266}, {\"Store\": \"Starbucks\", \"Item\": \"Strawberries & Cr\\u00e8me (Without Whipped Cream)\", \"Serving Size\": 16, \"Calories\": 230, \"Carbohydrates\": 1.8423360757275533, \"Sugars\": 0.8067657121021787, \"Protein\": -0.524570092407118, \"Vitamin A (% Daily Value)\": -0.16584582689666702, \"Vitamin C (% Daily Value)\": 0.0706276144898606, \"Calcium (% Daily Value)\": -0.3113220824073792, \"Iron (% Daily Value)\": 0.1811594210920711, \"pred\": 255.03047722530886}, {\"Store\": \"Starbucks\", \"Item\": \"Vanilla Bean (Without Whipped Cream)\", \"Serving Size\": 12, \"Calories\": 170, \"Carbohydrates\": 1.3667123570144397, \"Sugars\": 0.14450502313155486, \"Protein\": -0.524570092407118, \"Vitamin A (% Daily Value)\": -0.40207500472021235, \"Vitamin C (% Daily Value)\": -0.2254000902618996, \"Calcium (% Daily Value)\": -0.6309636016160807, \"Iron (% Daily Value)\": -0.5058347472051334, \"pred\": 180.0342061265988}, {\"Store\": \"Starbucks\", \"Item\": \"Vanilla Bean (Without Whipped Cream)\", \"Serving Size\": 16, \"Calories\": 240, \"Carbohydrates\": 2.476501034011705, \"Sugars\": 0.9486787168815982, \"Protein\": -0.3247077920641138, \"Vitamin A (% Daily Value)\": -0.16584582689666702, \"Vitamin C (% Daily Value)\": -0.2254000902618996, \"Calcium (% Daily Value)\": -0.3113220824073792, \"Iron (% Daily Value)\": -0.5058347472051334, \"pred\": 265.71533354596335}]}}, {\"mode\": \"vega-lite\"});\n",
       "</script>"
      ],
      "text/plain": [
       "alt.Chart(...)"
      ]
     },
     "execution_count": 47,
     "metadata": {},
     "output_type": "execute_result"
    }
   ],
   "source": [
    "c1 = alt.Chart(df_drink2).mark_circle().encode(\n",
    "    x = \"Sugars\",\n",
    "    y = \"pred\"\n",
    ")\n",
    "c1"
   ]
  },
  {
   "cell_type": "code",
   "execution_count": 48,
   "metadata": {
    "cell_id": "21fe9be6313341cda10ad9cd348ff888",
    "deepnote_cell_type": "code",
    "deepnote_to_be_reexecuted": false,
    "execution_millis": 32,
    "execution_start": 1670474064966,
    "output_cleared": false,
    "source_hash": "4d1fb287",
    "tags": []
   },
   "outputs": [
    {
     "data": {
      "text/html": [
       "\n",
       "<div id=\"altair-viz-b73bb48f51024e779942f81cec8aed16\"></div>\n",
       "<script type=\"text/javascript\">\n",
       "  var VEGA_DEBUG = (typeof VEGA_DEBUG == \"undefined\") ? {} : VEGA_DEBUG;\n",
       "  (function(spec, embedOpt){\n",
       "    let outputDiv = document.currentScript.previousElementSibling;\n",
       "    if (outputDiv.id !== \"altair-viz-b73bb48f51024e779942f81cec8aed16\") {\n",
       "      outputDiv = document.getElementById(\"altair-viz-b73bb48f51024e779942f81cec8aed16\");\n",
       "    }\n",
       "    const paths = {\n",
       "      \"vega\": \"https://cdn.jsdelivr.net/npm//vega@5?noext\",\n",
       "      \"vega-lib\": \"https://cdn.jsdelivr.net/npm//vega-lib?noext\",\n",
       "      \"vega-lite\": \"https://cdn.jsdelivr.net/npm//vega-lite@4.17.0?noext\",\n",
       "      \"vega-embed\": \"https://cdn.jsdelivr.net/npm//vega-embed@6?noext\",\n",
       "    };\n",
       "\n",
       "    function maybeLoadScript(lib, version) {\n",
       "      var key = `${lib.replace(\"-\", \"\")}_version`;\n",
       "      return (VEGA_DEBUG[key] == version) ?\n",
       "        Promise.resolve(paths[lib]) :\n",
       "        new Promise(function(resolve, reject) {\n",
       "          var s = document.createElement('script');\n",
       "          document.getElementsByTagName(\"head\")[0].appendChild(s);\n",
       "          s.async = true;\n",
       "          s.onload = () => {\n",
       "            VEGA_DEBUG[key] = version;\n",
       "            return resolve(paths[lib]);\n",
       "          };\n",
       "          s.onerror = () => reject(`Error loading script: ${paths[lib]}`);\n",
       "          s.src = paths[lib];\n",
       "        });\n",
       "    }\n",
       "\n",
       "    function showError(err) {\n",
       "      outputDiv.innerHTML = `<div class=\"error\" style=\"color:red;\">${err}</div>`;\n",
       "      throw err;\n",
       "    }\n",
       "\n",
       "    function displayChart(vegaEmbed) {\n",
       "      vegaEmbed(outputDiv, spec, embedOpt)\n",
       "        .catch(err => showError(`Javascript Error: ${err.message}<br>This usually means there's a typo in your chart specification. See the javascript console for the full traceback.`));\n",
       "    }\n",
       "\n",
       "    if(typeof define === \"function\" && define.amd) {\n",
       "      requirejs.config({paths});\n",
       "      require([\"vega-embed\"], displayChart, err => showError(`Error loading script: ${err.message}`));\n",
       "    } else {\n",
       "      maybeLoadScript(\"vega\", \"5\")\n",
       "        .then(() => maybeLoadScript(\"vega-lite\", \"4.17.0\"))\n",
       "        .then(() => maybeLoadScript(\"vega-embed\", \"6\"))\n",
       "        .catch(showError)\n",
       "        .then(() => displayChart(vegaEmbed));\n",
       "    }\n",
       "  })({\"config\": {\"view\": {\"continuousWidth\": 400, \"continuousHeight\": 300}}, \"layer\": [{\"mark\": \"circle\", \"encoding\": {\"x\": {\"field\": \"Sugars\", \"type\": \"quantitative\"}, \"y\": {\"field\": \"pred\", \"type\": \"quantitative\"}}}, {\"mark\": \"line\", \"encoding\": {\"tooltip\": [{\"field\": \"Carbohydrates\", \"type\": \"quantitative\"}, {\"field\": \"Sugars\", \"type\": \"quantitative\"}, {\"field\": \"Protein\", \"type\": \"quantitative\"}, {\"field\": \"Vitamin A (% Daily Value)\", \"type\": \"quantitative\"}, {\"field\": \"Vitamin C (% Daily Value)\", \"type\": \"quantitative\"}, {\"field\": \"Calcium (% Daily Value)\", \"type\": \"quantitative\"}, {\"field\": \"Iron (% Daily Value)\", \"type\": \"quantitative\"}], \"x\": {\"field\": \"Sugars\", \"type\": \"quantitative\"}, \"y\": {\"field\": \"Calories\", \"type\": \"quantitative\"}}, \"title\": \"Relationship between Sugars and Calories\"}], \"data\": {\"name\": \"data-873c489d129e7f5fefa7c83a4308f814\"}, \"$schema\": \"https://vega.github.io/schema/vega-lite/v4.17.0.json\", \"datasets\": {\"data-873c489d129e7f5fefa7c83a4308f814\": [{\"Store\": \"McDonald's\", \"Item\": \"Coca-Cola Classic (Small)\", \"Serving Size\": 16, \"Calories\": 140, \"Carbohydrates\": -0.5516366417951181, \"Sugars\": 0.19180935805802798, \"Protein\": -1.3240192937791349, \"Vitamin A (% Daily Value)\": -1.1107625381908484, \"Vitamin C (% Daily Value)\": -0.2254000902618996, \"Calcium (% Daily Value)\": -1.2702466400334838, \"Iron (% Daily Value)\": -0.5058347472051334, \"pred\": 198.2106095056125}, {\"Store\": \"McDonald's\", \"Item\": \"Coca-Cola Classic (Child)\", \"Serving Size\": 12, \"Calories\": 100, \"Carbohydrates\": -0.7260320053232597, \"Sugars\": -0.3285383261331765, \"Protein\": -1.3240192937791349, \"Vitamin A (% Daily Value)\": -1.1107625381908484, \"Vitamin C (% Daily Value)\": -0.2254000902618996, \"Calcium (% Daily Value)\": -1.2702466400334838, \"Iron (% Daily Value)\": -0.5058347472051334, \"pred\": 136.1763610882407}, {\"Store\": \"McDonald's\", \"Item\": \"Diet Coke (Small)\", \"Serving Size\": 16, \"Calories\": 0, \"Carbohydrates\": -1.1699474761221655, \"Sugars\": -1.6530597040744244, \"Protein\": -1.3240192937791349, \"Vitamin A (% Daily Value)\": -1.1107625381908484, \"Vitamin C (% Daily Value)\": -0.2254000902618996, \"Calcium (% Daily Value)\": -1.2702466400334838, \"Iron (% Daily Value)\": -0.5058347472051334, \"pred\": -21.72899851961475}, {\"Store\": \"McDonald's\", \"Item\": \"Diet Coke (Child)\", \"Serving Size\": 12, \"Calories\": 0, \"Carbohydrates\": -1.1699474761221655, \"Sugars\": -1.6530597040744244, \"Protein\": -1.3240192937791349, \"Vitamin A (% Daily Value)\": -1.1107625381908484, \"Vitamin C (% Daily Value)\": -0.2254000902618996, \"Calcium (% Daily Value)\": -1.2702466400334838, \"Iron (% Daily Value)\": -0.5058347472051334, \"pred\": -21.72899851961475}, {\"Store\": \"McDonald's\", \"Item\": \"Dr Pepper (Small)\", \"Serving Size\": 16, \"Calories\": 140, \"Carbohydrates\": -0.5833448897093256, \"Sugars\": 0.002592018352135441, \"Protein\": -1.3240192937791349, \"Vitamin A (% Daily Value)\": -1.1107625381908484, \"Vitamin C (% Daily Value)\": -0.2254000902618996, \"Calcium (% Daily Value)\": -1.2702466400334838, \"Iron (% Daily Value)\": -0.5058347472051334, \"pred\": 174.91246316652192}, {\"Store\": \"McDonald's\", \"Item\": \"Dr Pepper (Child)\", \"Serving Size\": 12, \"Calories\": 100, \"Carbohydrates\": -0.7418861292803635, \"Sugars\": -0.4231469959861228, \"Protein\": -1.3240192937791349, \"Vitamin A (% Daily Value)\": -1.1107625381908484, \"Vitamin C (% Daily Value)\": -0.2254000902618996, \"Calcium (% Daily Value)\": -1.2702466400334838, \"Iron (% Daily Value)\": -0.5058347472051334, \"pred\": 124.52728791869541}, {\"Store\": \"McDonald's\", \"Item\": \"Diet Dr Pepper (Small)\", \"Serving Size\": 16, \"Calories\": 0, \"Carbohydrates\": -1.1699474761221655, \"Sugars\": -1.6530597040744244, \"Protein\": -0.9242946930931265, \"Vitamin A (% Daily Value)\": -1.1107625381908484, \"Vitamin C (% Daily Value)\": -0.2254000902618996, \"Calcium (% Daily Value)\": -1.2702466400334838, \"Iron (% Daily Value)\": -0.5058347472051334, \"pred\": -7.831722001994507}, {\"Store\": \"McDonald's\", \"Item\": \"Diet Dr Pepper (Child)\", \"Serving Size\": 12, \"Calories\": 0, \"Carbohydrates\": -1.1699474761221655, \"Sugars\": -1.6530597040744244, \"Protein\": -1.1241569934361306, \"Vitamin A (% Daily Value)\": -1.1107625381908484, \"Vitamin C (% Daily Value)\": -0.2254000902618996, \"Calcium (% Daily Value)\": -1.2702466400334838, \"Iron (% Daily Value)\": -0.5058347472051334, \"pred\": -14.780360260804628}, {\"Store\": \"McDonald's\", \"Item\": \"Sprite (Small)\", \"Serving Size\": 16, \"Calories\": 140, \"Carbohydrates\": -0.5833448897093256, \"Sugars\": 0.09720068820508171, \"Protein\": -1.3240192937791349, \"Vitamin A (% Daily Value)\": -1.1107625381908484, \"Vitamin C (% Daily Value)\": -0.2254000902618996, \"Calcium (% Daily Value)\": -1.2702466400334838, \"Iron (% Daily Value)\": -0.5058347472051334, \"pred\": 186.93165524790854}, {\"Store\": \"McDonald's\", \"Item\": \"Sprite (Child)\", \"Serving Size\": 12, \"Calories\": 100, \"Carbohydrates\": -0.7418861292803635, \"Sugars\": -0.37584266105964964, \"Protein\": -1.3240192937791349, \"Vitamin A (% Daily Value)\": -1.1107625381908484, \"Vitamin C (% Daily Value)\": -0.2254000902618996, \"Calcium (% Daily Value)\": -1.2702466400334838, \"Iron (% Daily Value)\": -0.5058347472051334, \"pred\": 130.53688395938872}, {\"Store\": \"McDonald's\", \"Item\": \"Minute Maid Orange Juice (Small)\", \"Serving Size\": 12, \"Calories\": 150, \"Carbohydrates\": -0.6309072615806369, \"Sugars\": -0.23392965628023024, \"Protein\": -0.9242946930931265, \"Vitamin A (% Daily Value)\": -1.1107625381908484, \"Vitamin C (% Daily Value)\": 6.188533512692905, \"Calcium (% Daily Value)\": -1.1423900323500031, \"Iron (% Daily Value)\": -0.5058347472051334, \"pred\": 125.40193228129782}, {\"Store\": \"McDonald's\", \"Item\": \"Minute Maid Orange Juice (Medium)\", \"Serving Size\": 16, \"Calories\": 190, \"Carbohydrates\": -0.47236602200959915, \"Sugars\": 0.19180935805802798, \"Protein\": -0.7244323927501223, \"Vitamin A (% Daily Value)\": -1.1107625381908484, \"Vitamin C (% Daily Value)\": 7.668672036451706, \"Calcium (% Daily Value)\": -1.0145334246665225, \"Iron (% Daily Value)\": -0.5058347472051334, \"pred\": 175.5841688594937}, {\"Store\": \"McDonald's\", \"Item\": \"Iced Tea (Small)\", \"Serving Size\": 16, \"Calories\": 0, \"Carbohydrates\": -1.1699474761221655, \"Sugars\": -1.6530597040744244, \"Protein\": -1.3240192937791349, \"Vitamin A (% Daily Value)\": -1.1107625381908484, \"Vitamin C (% Daily Value)\": -0.2254000902618996, \"Calcium (% Daily Value)\": -1.2702466400334838, \"Iron (% Daily Value)\": -0.5058347472051334, \"pred\": -21.72899851961475}, {\"Store\": \"McDonald's\", \"Item\": \"Iced Tea (Child)\", \"Serving Size\": 12, \"Calories\": 0, \"Carbohydrates\": -1.1699474761221655, \"Sugars\": -1.6530597040744244, \"Protein\": -1.3240192937791349, \"Vitamin A (% Daily Value)\": -1.1107625381908484, \"Vitamin C (% Daily Value)\": -0.2254000902618996, \"Calcium (% Daily Value)\": -1.2702466400334838, \"Iron (% Daily Value)\": -0.5058347472051334, \"pred\": -21.72899851961475}, {\"Store\": \"McDonald's\", \"Item\": \"Sweet Tea (Small)\", \"Serving Size\": 16, \"Calories\": 150, \"Carbohydrates\": -0.5991990136664294, \"Sugars\": 0.04989635327860858, \"Protein\": -1.1241569934361306, \"Vitamin A (% Daily Value)\": -1.1107625381908484, \"Vitamin C (% Daily Value)\": -0.2254000902618996, \"Calcium (% Daily Value)\": -1.2702466400334838, \"Iron (% Daily Value)\": -0.5058347472051334, \"pred\": 188.24081637786668}, {\"Store\": \"McDonald's\", \"Item\": \"Sweet Tea (Child)\", \"Serving Size\": 12, \"Calories\": 110, \"Carbohydrates\": -0.7418861292803635, \"Sugars\": -0.37584266105964964, \"Protein\": -1.3240192937791349, \"Vitamin A (% Daily Value)\": -1.1107625381908484, \"Vitamin C (% Daily Value)\": -0.2254000902618996, \"Calcium (% Daily Value)\": -1.2702466400334838, \"Iron (% Daily Value)\": -0.5058347472051334, \"pred\": 130.53688395938872}, {\"Store\": \"McDonald's\", \"Item\": \"Coffee (Small)\", \"Serving Size\": 12, \"Calories\": 0, \"Carbohydrates\": -1.1699474761221655, \"Sugars\": -1.6530597040744244, \"Protein\": -1.3240192937791349, \"Vitamin A (% Daily Value)\": -1.1107625381908484, \"Vitamin C (% Daily Value)\": -0.2254000902618996, \"Calcium (% Daily Value)\": -1.2702466400334838, \"Iron (% Daily Value)\": -0.5058347472051334, \"pred\": -21.72899851961475}, {\"Store\": \"McDonald's\", \"Item\": \"Coffee (Medium)\", \"Serving Size\": 16, \"Calories\": 0, \"Carbohydrates\": -1.1699474761221655, \"Sugars\": -1.6530597040744244, \"Protein\": -1.3240192937791349, \"Vitamin A (% Daily Value)\": -1.1107625381908484, \"Vitamin C (% Daily Value)\": -0.2254000902618996, \"Calcium (% Daily Value)\": -1.2702466400334838, \"Iron (% Daily Value)\": -0.5058347472051334, \"pred\": -21.72899851961475}, {\"Store\": \"McDonald's\", \"Item\": \"Coffee (Large)\", \"Serving Size\": 16, \"Calories\": 0, \"Carbohydrates\": -1.1699474761221655, \"Sugars\": -1.6530597040744244, \"Protein\": -1.3240192937791349, \"Vitamin A (% Daily Value)\": -1.1107625381908484, \"Vitamin C (% Daily Value)\": -0.2254000902618996, \"Calcium (% Daily Value)\": -1.2702466400334838, \"Iron (% Daily Value)\": -0.5058347472051334, \"pred\": -21.72899851961475}, {\"Store\": \"McDonald's\", \"Item\": \"Latte (Small)\", \"Serving Size\": 12, \"Calories\": 170, \"Carbohydrates\": -0.9321356167656089, \"Sugars\": -1.0854076849567467, \"Protein\": 0.47474140930790304, \"Vitamin A (% Daily Value)\": -0.16584582689666702, \"Vitamin C (% Daily Value)\": -0.2254000902618996, \"Calcium (% Daily Value)\": 0.6476024752187254, \"Iron (% Daily Value)\": -0.5058347472051334, \"pred\": 122.50286167851014}, {\"Store\": \"McDonald's\", \"Item\": \"Latte (Medium)\", \"Serving Size\": 16, \"Calories\": 210, \"Carbohydrates\": -0.8845732448942976, \"Sugars\": -0.9434946801773273, \"Protein\": 0.8744660099939116, \"Vitamin A (% Daily Value)\": 0.07038335092687834, \"Vitamin C (% Daily Value)\": -0.2254000902618996, \"Calcium (% Daily Value)\": 0.9672439944274269, \"Iron (% Daily Value)\": -0.5058347472051334, \"pred\": 155.79624988034791}, {\"Store\": \"McDonald's\", \"Item\": \"Caramel Latte (Small)\", \"Serving Size\": 12, \"Calories\": 270, \"Carbohydrates\": -0.5357825178380142, \"Sugars\": 0.14450502313155486, \"Protein\": 0.47474140930790304, \"Vitamin A (% Daily Value)\": -0.16584582689666702, \"Vitamin C (% Daily Value)\": -0.2254000902618996, \"Calcium (% Daily Value)\": 0.6476024752187254, \"Iron (% Daily Value)\": -0.5058347472051334, \"pred\": 269.499385940503}, {\"Store\": \"McDonald's\", \"Item\": \"Caramel Latte (Medium)\", \"Serving Size\": 16, \"Calories\": 340, \"Carbohydrates\": -0.37724127826697645, \"Sugars\": 0.6175483723962862, \"Protein\": 0.8744660099939116, \"Vitamin A (% Daily Value)\": 0.07038335092687834, \"Vitamin C (% Daily Value)\": -0.2254000902618996, \"Calcium (% Daily Value)\": 0.9672439944274269, \"Iron (% Daily Value)\": -0.5058347472051334, \"pred\": 342.2691140443047}, {\"Store\": \"McDonald's\", \"Item\": \"Hazelnut Latte (Small)\", \"Serving Size\": 12, \"Calories\": 270, \"Carbohydrates\": -0.5357825178380142, \"Sugars\": 0.14450502313155486, \"Protein\": 0.47474140930790304, \"Vitamin A (% Daily Value)\": -0.16584582689666702, \"Vitamin C (% Daily Value)\": -0.2254000902618996, \"Calcium (% Daily Value)\": 0.6476024752187254, \"Iron (% Daily Value)\": -0.5058347472051334, \"pred\": 269.499385940503}, {\"Store\": \"McDonald's\", \"Item\": \"Hazelnut Latte (Medium)\", \"Serving Size\": 16, \"Calories\": 330, \"Carbohydrates\": -0.37724127826697645, \"Sugars\": 0.5702440374698131, \"Protein\": 0.8744660099939116, \"Vitamin A (% Daily Value)\": 0.07038335092687834, \"Vitamin C (% Daily Value)\": -0.2254000902618996, \"Calcium (% Daily Value)\": 0.9672439944274269, \"Iron (% Daily Value)\": -0.5058347472051334, \"pred\": 336.25951800361133}, {\"Store\": \"McDonald's\", \"Item\": \"French Vanilla Latte (Small)\", \"Serving Size\": 12, \"Calories\": 260, \"Carbohydrates\": -0.5674907657522218, \"Sugars\": 0.04989635327860858, \"Protein\": 0.47474140930790304, \"Vitamin A (% Daily Value)\": -0.16584582689666702, \"Vitamin C (% Daily Value)\": -0.2254000902618996, \"Calcium (% Daily Value)\": 0.6476024752187254, \"Iron (% Daily Value)\": -0.5058347472051334, \"pred\": 258.220431682799}, {\"Store\": \"McDonald's\", \"Item\": \"French Vanilla Latte (Medium)\", \"Serving Size\": 16, \"Calories\": 330, \"Carbohydrates\": -0.408949526181184, \"Sugars\": 0.4756353676168668, \"Protein\": 0.8744660099939116, \"Vitamin A (% Daily Value)\": 0.07038335092687834, \"Vitamin C (% Daily Value)\": -0.2254000902618996, \"Calcium (% Daily Value)\": 0.9672439944274269, \"Iron (% Daily Value)\": -0.16233766305653116, \"pred\": 325.5440287493923}, {\"Store\": \"McDonald's\", \"Item\": \"Latte with Sugar Free French Vanilla Syrup (Small)\", \"Serving Size\": 12, \"Calories\": 210, \"Carbohydrates\": -0.7894485011516749, \"Sugars\": -1.0854076849567467, \"Protein\": 0.47474140930790304, \"Vitamin A (% Daily Value)\": -0.16584582689666702, \"Vitamin C (% Daily Value)\": -0.2254000902618996, \"Calcium (% Daily Value)\": 0.6476024752187254, \"Iron (% Daily Value)\": -0.5058347472051334, \"pred\": 119.17179147193812}, {\"Store\": \"McDonald's\", \"Item\": \"Latte with Sugar Free French Vanilla Syrup (Medium)\", \"Serving Size\": 16, \"Calories\": 260, \"Carbohydrates\": -0.7101778813661559, \"Sugars\": -0.9434946801773273, \"Protein\": 1.0743283103369157, \"Vitamin A (% Daily Value)\": 0.07038335092687834, \"Vitamin C (% Daily Value)\": -0.2254000902618996, \"Calcium (% Daily Value)\": 0.9672439944274269, \"Iron (% Daily Value)\": -0.5058347472051334, \"pred\": 158.67358010890334}, {\"Store\": \"McDonald's\", \"Item\": \"Nonfat Latte (Small)\", \"Serving Size\": 12, \"Calories\": 100, \"Carbohydrates\": -0.9321356167656089, \"Sugars\": -1.0381033500302737, \"Protein\": 0.6746037096509073, \"Vitamin A (% Daily Value)\": 0.07038335092687834, \"Vitamin C (% Daily Value)\": -0.2254000902618996, \"Calcium (% Daily Value)\": 0.6476024752187254, \"Iron (% Daily Value)\": -0.5058347472051334, \"pred\": 135.32876334193125}, {\"Store\": \"McDonald's\", \"Item\": \"Nonfat Latte (Medium)\", \"Serving Size\": 16, \"Calories\": 130, \"Carbohydrates\": -0.8687191209371937, \"Sugars\": -0.8961903452508542, \"Protein\": 1.0743283103369157, \"Vitamin A (% Daily Value)\": 0.6609562954857418, \"Vitamin C (% Daily Value)\": -0.2254000902618996, \"Calcium (% Daily Value)\": 1.2868855136361284, \"Iron (% Daily Value)\": -0.5058347472051334, \"pred\": 170.6635466115481}, {\"Store\": \"McDonald's\", \"Item\": \"Nonfat Caramel Latte (Small)\", \"Serving Size\": 12, \"Calories\": 200, \"Carbohydrates\": -0.5199283938809105, \"Sugars\": 0.19180935805802798, \"Protein\": 0.6746037096509073, \"Vitamin A (% Daily Value)\": 0.07038335092687834, \"Vitamin C (% Daily Value)\": -0.2254000902618996, \"Calcium (% Daily Value)\": 0.6476024752187254, \"Iron (% Daily Value)\": -0.5058347472051334, \"pred\": 281.9551686920828}, {\"Store\": \"McDonald's\", \"Item\": \"Nonfat Caramel Latte (Medium)\", \"Serving Size\": 16, \"Calories\": 250, \"Carbohydrates\": -0.36138715430987267, \"Sugars\": 0.6175483723962862, \"Protein\": 1.0743283103369157, \"Vitamin A (% Daily Value)\": 0.6609562954857418, \"Vitamin C (% Daily Value)\": -0.2254000902618996, \"Calcium (% Daily Value)\": 1.2868855136361284, \"Iron (% Daily Value)\": -0.5058347472051334, \"pred\": 351.12681473481155}, {\"Store\": \"McDonald's\", \"Item\": \"Nonfat Hazelnut Latte (Small)\", \"Serving Size\": 12, \"Calories\": 200, \"Carbohydrates\": -0.5357825178380142, \"Sugars\": 0.14450502313155486, \"Protein\": 0.6746037096509073, \"Vitamin A (% Daily Value)\": 0.07038335092687834, \"Vitamin C (% Daily Value)\": -0.2254000902618996, \"Calcium (% Daily Value)\": 0.6476024752187254, \"Iron (% Daily Value)\": -0.5058347472051334, \"pred\": 276.3156915632308}, {\"Store\": \"McDonald's\", \"Item\": \"Nonfat Hazelnut Latte (Medium)\", \"Serving Size\": 16, \"Calories\": 250, \"Carbohydrates\": -0.36138715430987267, \"Sugars\": 0.6175483723962862, \"Protein\": 1.0743283103369157, \"Vitamin A (% Daily Value)\": 0.6609562954857418, \"Vitamin C (% Daily Value)\": -0.2254000902618996, \"Calcium (% Daily Value)\": 1.2868855136361284, \"Iron (% Daily Value)\": -0.5058347472051334, \"pred\": 351.12681473481155}, {\"Store\": \"McDonald's\", \"Item\": \"Nonfat French Vanilla Latte (Small)\", \"Serving Size\": 12, \"Calories\": 190, \"Carbohydrates\": -0.5516366417951181, \"Sugars\": 0.09720068820508171, \"Protein\": 0.6746037096509073, \"Vitamin A (% Daily Value)\": 0.07038335092687834, \"Vitamin C (% Daily Value)\": -0.2254000902618996, \"Calcium (% Daily Value)\": 0.6476024752187254, \"Iron (% Daily Value)\": -0.5058347472051334, \"pred\": 270.67621443437883}, {\"Store\": \"McDonald's\", \"Item\": \"Nonfat French Vanilla Latte (Medium)\", \"Serving Size\": 16, \"Calories\": 240, \"Carbohydrates\": -0.39309540222408024, \"Sugars\": 0.52293970254334, \"Protein\": 1.0743283103369157, \"Vitamin A (% Daily Value)\": 0.6609562954857418, \"Vitamin C (% Daily Value)\": -0.2254000902618996, \"Calcium (% Daily Value)\": 1.2868855136361284, \"Iron (% Daily Value)\": -0.16233766305653116, \"pred\": 340.4113254805925}, {\"Store\": \"McDonald's\", \"Item\": \"Nonfat Latte with Sugar Free French Vanilla Syrup (Small)\", \"Serving Size\": 12, \"Calories\": 140, \"Carbohydrates\": -0.7894485011516749, \"Sugars\": -1.0381033500302737, \"Protein\": 0.6746037096509073, \"Vitamin A (% Daily Value)\": 0.07038335092687834, \"Vitamin C (% Daily Value)\": -0.2254000902618996, \"Calcium (% Daily Value)\": 0.6476024752187254, \"Iron (% Daily Value)\": -0.5058347472051334, \"pred\": 131.9976931353592}, {\"Store\": \"McDonald's\", \"Item\": \"Nonfat Latte with Sugar Free French Vanilla Syrup (Medium)\", \"Serving Size\": 16, \"Calories\": 170, \"Carbohydrates\": -0.6943237574090521, \"Sugars\": -0.8961903452508542, \"Protein\": 1.0743283103369157, \"Vitamin A (% Daily Value)\": 0.6609562954857418, \"Vitamin C (% Daily Value)\": -0.2254000902618996, \"Calcium (% Daily Value)\": 1.2868855136361284, \"Iron (% Daily Value)\": -0.5058347472051334, \"pred\": 166.59223858129343}, {\"Store\": \"McDonald's\", \"Item\": \"Mocha (Small)\", \"Serving Size\": 12, \"Calories\": 340, \"Carbohydrates\": -0.39309540222408024, \"Sugars\": 0.3337223628374474, \"Protein\": 0.6746037096509073, \"Vitamin A (% Daily Value)\": 0.07038335092687834, \"Vitamin C (% Daily Value)\": -0.2254000902618996, \"Calcium (% Daily Value)\": 0.6476024752187254, \"Iron (% Daily Value)\": 0.5246565052406733, \"pred\": 298.71340052988677}, {\"Store\": \"McDonald's\", \"Item\": \"Mocha (Medium)\", \"Serving Size\": 16, \"Calories\": 410, \"Carbohydrates\": -0.2187000386959386, \"Sugars\": 0.8540700470286519, \"Protein\": 1.27419061067992, \"Vitamin A (% Daily Value)\": 0.07038335092687834, \"Vitamin C (% Daily Value)\": -0.2254000902618996, \"Calcium (% Daily Value)\": 1.2868855136361284, \"Iron (% Daily Value)\": 0.5246565052406733, \"pred\": 386.81358959117665}, {\"Store\": \"McDonald's\", \"Item\": \"Mocha with Nonfat Milk (Small)\", \"Serving Size\": 12, \"Calories\": 270, \"Carbohydrates\": -0.39309540222408024, \"Sugars\": 0.38102669776392056, \"Protein\": 0.8744660099939116, \"Vitamin A (% Daily Value)\": 0.07038335092687834, \"Vitamin C (% Daily Value)\": -0.2254000902618996, \"Calcium (% Daily Value)\": 0.9672439944274269, \"Iron (% Daily Value)\": 0.5246565052406733, \"pred\": 314.28164776313406}, {\"Store\": \"McDonald's\", \"Item\": \"Mocha with Nonfat Milk (Medium)\", \"Serving Size\": 16, \"Calories\": 330, \"Carbohydrates\": -0.2187000386959386, \"Sugars\": 0.8540700470286519, \"Protein\": 1.27419061067992, \"Vitamin A (% Daily Value)\": 0.6609562954857418, \"Vitamin C (% Daily Value)\": -0.2254000902618996, \"Calcium (% Daily Value)\": 1.2868855136361284, \"Iron (% Daily Value)\": 0.5246565052406733, \"pred\": 386.4827580009709}, {\"Store\": \"McDonald's\", \"Item\": \"Caramel Mocha (Small)\", \"Serving Size\": 12, \"Calories\": 320, \"Carbohydrates\": -0.45651189805249537, \"Sugars\": 0.23911369298450114, \"Protein\": 0.6746037096509073, \"Vitamin A (% Daily Value)\": 0.07038335092687834, \"Vitamin C (% Daily Value)\": -0.2254000902618996, \"Calcium (% Daily Value)\": 0.6476024752187254, \"Iron (% Daily Value)\": -0.16233766305653116, \"pred\": 287.04775408889566}, {\"Store\": \"McDonald's\", \"Item\": \"Caramel Mocha (Medium)\", \"Serving Size\": 16, \"Calories\": 390, \"Carbohydrates\": -0.2979706584814575, \"Sugars\": 0.7121570422492325, \"Protein\": 1.0743283103369157, \"Vitamin A (% Daily Value)\": 0.6609562954857418, \"Vitamin C (% Daily Value)\": -0.2254000902618996, \"Calcium (% Daily Value)\": 1.2868855136361284, \"Iron (% Daily Value)\": -0.16233766305653116, \"pred\": 362.2289961723177}, {\"Store\": \"McDonald's\", \"Item\": \"Nonfat Caramel Mocha (Small)\", \"Serving Size\": 12, \"Calories\": 250, \"Carbohydrates\": -0.45651189805249537, \"Sugars\": 0.28641802791097426, \"Protein\": 0.6746037096509073, \"Vitamin A (% Daily Value)\": 0.07038335092687834, \"Vitamin C (% Daily Value)\": -0.2254000902618996, \"Calcium (% Daily Value)\": 0.9672439944274269, \"Iron (% Daily Value)\": -0.16233766305653116, \"pred\": 295.66736306333286}, {\"Store\": \"McDonald's\", \"Item\": \"Nonfat Caramel Mocha (Medium)\", \"Serving Size\": 16, \"Calories\": 310, \"Carbohydrates\": -0.2821165345243537, \"Sugars\": 0.7594613771757056, \"Protein\": 1.27419061067992, \"Vitamin A (% Daily Value)\": 0.6609562954857418, \"Vitamin C (% Daily Value)\": -0.2254000902618996, \"Calcium (% Daily Value)\": 1.2868855136361284, \"Iron (% Daily Value)\": -0.16233766305653116, \"pred\": 374.8171115599798}, {\"Store\": \"McDonald's\", \"Item\": \"Hot Chocolate (Small)\", \"Serving Size\": 12, \"Calories\": 360, \"Carbohydrates\": -0.37724127826697645, \"Sugars\": 0.4756353676168668, \"Protein\": 0.8744660099939116, \"Vitamin A (% Daily Value)\": 0.07038335092687834, \"Vitamin C (% Daily Value)\": -0.2254000902618996, \"Calcium (% Daily Value)\": 1.2868855136361284, \"Iron (% Daily Value)\": 0.5246565052406733, \"pred\": 328.54073386642324}, {\"Store\": \"McDonald's\", \"Item\": \"Hot Chocolate (Medium)\", \"Serving Size\": 16, \"Calories\": 440, \"Carbohydrates\": -0.20284591473883481, \"Sugars\": 0.9959830518080713, \"Protein\": 1.4740529110229241, \"Vitamin A (% Daily Value)\": 0.6609562954857418, \"Vitamin C (% Daily Value)\": -0.2254000902618996, \"Calcium (% Daily Value)\": 1.60652703284483, \"Iron (% Daily Value)\": 0.5246565052406733, \"pred\": 413.70007840376354}, {\"Store\": \"McDonald's\", \"Item\": \"Hot Chocolate with Nonfat Milk (Small)\", \"Serving Size\": 12, \"Calories\": 280, \"Carbohydrates\": -0.37724127826697645, \"Sugars\": 0.52293970254334, \"Protein\": 1.0743283103369157, \"Vitamin A (% Daily Value)\": 0.6609562954857418, \"Vitamin C (% Daily Value)\": -0.2254000902618996, \"Calcium (% Daily Value)\": 1.2868855136361284, \"Iron (% Daily Value)\": 0.5246565052406733, \"pred\": 341.16813657572095}, {\"Store\": \"McDonald's\", \"Item\": \"Hot Chocolate with Nonfat Milk (Medium)\", \"Serving Size\": 16, \"Calories\": 340, \"Carbohydrates\": -0.20284591473883481, \"Sugars\": 1.0432873867345445, \"Protein\": 1.4740529110229241, \"Vitamin A (% Daily Value)\": 1.2515292400446052, \"Vitamin C (% Daily Value)\": -0.2254000902618996, \"Calcium (% Daily Value)\": 1.9261685520535314, \"Iron (% Daily Value)\": 0.5246565052406733, \"pred\": 421.9888557879949}, {\"Store\": \"McDonald's\", \"Item\": \"Regular Iced Coffee (Small)\", \"Serving Size\": 16, \"Calories\": 140, \"Carbohydrates\": -0.8053026251087786, \"Sugars\": -0.6123643356920153, \"Protein\": -1.1241569934361306, \"Vitamin A (% Daily Value)\": -0.6383041825437578, \"Vitamin C (% Daily Value)\": -0.2254000902618996, \"Calcium (% Daily Value)\": -1.0145334246665225, \"Iron (% Daily Value)\": -0.5058347472051334, \"pred\": 110.7413627369281}, {\"Store\": \"McDonald's\", \"Item\": \"Caramel Iced Coffee (Small)\", \"Serving Size\": 16, \"Calories\": 130, \"Carbohydrates\": -0.8211567490658824, \"Sugars\": -0.6596686706184884, \"Protein\": -1.1241569934361306, \"Vitamin A (% Daily Value)\": -0.6383041825437578, \"Vitamin C (% Daily Value)\": -0.2254000902618996, \"Calcium (% Daily Value)\": -1.0145334246665225, \"Iron (% Daily Value)\": -0.5058347472051334, \"pred\": 105.10188560807612}, {\"Store\": \"McDonald's\", \"Item\": \"Hazelnut Iced Coffee (Small)\", \"Serving Size\": 16, \"Calories\": 130, \"Carbohydrates\": -0.8370108730229862, \"Sugars\": -0.7069730055449617, \"Protein\": -1.1241569934361306, \"Vitamin A (% Daily Value)\": -0.6383041825437578, \"Vitamin C (% Daily Value)\": -0.2254000902618996, \"Calcium (% Daily Value)\": -1.0145334246665225, \"Iron (% Daily Value)\": -0.5058347472051334, \"pred\": 99.46240847922412}, {\"Store\": \"McDonald's\", \"Item\": \"French Vanilla Iced Coffee (Small)\", \"Serving Size\": 16, \"Calories\": 120, \"Carbohydrates\": -0.85286499698009, \"Sugars\": -0.7542773404714348, \"Protein\": -1.1241569934361306, \"Vitamin A (% Daily Value)\": -0.6383041825437578, \"Vitamin C (% Daily Value)\": -0.2254000902618996, \"Calcium (% Daily Value)\": -1.0145334246665225, \"Iron (% Daily Value)\": -0.5058347472051334, \"pred\": 93.82293135037216}, {\"Store\": \"McDonald's\", \"Item\": \"Iced Coffee with Sugar Free French Vanilla Syrup (Small)\", \"Serving Size\": 16, \"Calories\": 80, \"Carbohydrates\": -1.0272603605082316, \"Sugars\": -1.6057553691479511, \"Protein\": -1.1241569934361306, \"Vitamin A (% Daily Value)\": -0.6383041825437578, \"Vitamin C (% Daily Value)\": -0.2254000902618996, \"Calcium (% Daily Value)\": -1.0145334246665225, \"Iron (% Daily Value)\": -0.5058347472051334, \"pred\": -10.27848935185284}, {\"Store\": \"McDonald's\", \"Item\": \"Iced Mocha (Small)\", \"Serving Size\": 12, \"Calories\": 290, \"Carbohydrates\": -0.5199283938809105, \"Sugars\": -0.0447123165743377, \"Protein\": 0.27487910896489887, \"Vitamin A (% Daily Value)\": 0.07038335092687834, \"Vitamin C (% Daily Value)\": -0.2254000902618996, \"Calcium (% Daily Value)\": 0.3279609560100239, \"Iron (% Daily Value)\": 0.1811594210920711, \"pred\": 236.52682904422187}, {\"Store\": \"McDonald's\", \"Item\": \"Iced Mocha (Medium)\", \"Serving Size\": 16, \"Calories\": 350, \"Carbohydrates\": -0.37724127826697645, \"Sugars\": 0.38102669776392056, \"Protein\": 0.47474140930790304, \"Vitamin A (% Daily Value)\": 0.07038335092687834, \"Vitamin C (% Daily Value)\": -0.2254000902618996, \"Calcium (% Daily Value)\": 0.6476024752187254, \"Iron (% Daily Value)\": 0.5246565052406733, \"pred\": 297.4042393999286}, {\"Store\": \"McDonald's\", \"Item\": \"Iced Mocha with Nonfat Milk (Small)\", \"Serving Size\": 12, \"Calories\": 240, \"Carbohydrates\": -0.5199283938809105, \"Sugars\": 0.002592018352135441, \"Protein\": 0.27487910896489887, \"Vitamin A (% Daily Value)\": 0.07038335092687834, \"Vitamin C (% Daily Value)\": -0.2254000902618996, \"Calcium (% Daily Value)\": 0.3279609560100239, \"Iron (% Daily Value)\": 0.1811594210920711, \"pred\": 242.5364250849152}, {\"Store\": \"McDonald's\", \"Item\": \"Iced Mocha with Nonfat Milk (Medium)\", \"Serving Size\": 16, \"Calories\": 290, \"Carbohydrates\": -0.37724127826697645, \"Sugars\": 0.38102669776392056, \"Protein\": 0.6746037096509073, \"Vitamin A (% Daily Value)\": 0.6609562954857418, \"Vitamin C (% Daily Value)\": -0.2254000902618996, \"Calcium (% Daily Value)\": 0.6476024752187254, \"Iron (% Daily Value)\": 0.5246565052406733, \"pred\": 304.022046068533}, {\"Store\": \"McDonald's\", \"Item\": \"Iced Caramel Mocha (Small)\", \"Serving Size\": 12, \"Calories\": 280, \"Carbohydrates\": -0.5674907657522218, \"Sugars\": -0.09201665150081083, \"Protein\": 0.27487910896489887, \"Vitamin A (% Daily Value)\": 0.07038335092687834, \"Vitamin C (% Daily Value)\": -0.2254000902618996, \"Calcium (% Daily Value)\": 0.3279609560100239, \"Iron (% Daily Value)\": -0.16233766305653116, \"pred\": 231.06412473556767}, {\"Store\": \"McDonald's\", \"Item\": \"Iced Caramel Mocha (Medium)\", \"Serving Size\": 16, \"Calories\": 340, \"Carbohydrates\": -0.4406577740953916, \"Sugars\": 0.28641802791097426, \"Protein\": 0.47474140930790304, \"Vitamin A (% Daily Value)\": 0.07038335092687834, \"Vitamin C (% Daily Value)\": -0.2254000902618996, \"Calcium (% Daily Value)\": 0.6476024752187254, \"Iron (% Daily Value)\": -0.16233766305653116, \"pred\": 285.73859295893755}, {\"Store\": \"McDonald's\", \"Item\": \"Iced Nonfat Caramel Mocha (Small)\", \"Serving Size\": 12, \"Calories\": 230, \"Carbohydrates\": -0.5674907657522218, \"Sugars\": -0.09201665150081083, \"Protein\": 0.27487910896489887, \"Vitamin A (% Daily Value)\": 0.07038335092687834, \"Vitamin C (% Daily Value)\": -0.2254000902618996, \"Calcium (% Daily Value)\": 0.3279609560100239, \"Iron (% Daily Value)\": -0.16233766305653116, \"pred\": 231.06412473556767}, {\"Store\": \"McDonald's\", \"Item\": \"Iced Nonfat Caramel Mocha (Medium)\", \"Serving Size\": 16, \"Calories\": 270, \"Carbohydrates\": -0.4248036501382878, \"Sugars\": 0.28641802791097426, \"Protein\": 0.6746037096509073, \"Vitamin A (% Daily Value)\": 0.6609562954857418, \"Vitamin C (% Daily Value)\": -0.2254000902618996, \"Calcium (% Daily Value)\": 0.6476024752187254, \"Iron (% Daily Value)\": -0.16233766305653116, \"pred\": 291.98628071570056}, {\"Store\": \"McDonald's\", \"Item\": \"Frapp\\u00e9 Mocha (Small)\", \"Serving Size\": 12, \"Calories\": 450, \"Carbohydrates\": -0.13942941891041968, \"Sugars\": 1.0432873867345445, \"Protein\": 0.07501680862189462, \"Vitamin A (% Daily Value)\": 0.6609562954857418, \"Vitamin C (% Daily Value)\": -0.2254000902618996, \"Calcium (% Daily Value)\": 0.008319436801322359, \"Iron (% Daily Value)\": 0.1811594210920711, \"pred\": 355.97520131321636}, {\"Store\": \"McDonald's\", \"Item\": \"Frapp\\u00e9 Mocha (Medium)\", \"Serving Size\": 16, \"Calories\": 550, \"Carbohydrates\": 0.09838244044613709, \"Sugars\": 1.7055480757051684, \"Protein\": 0.47474140930790304, \"Vitamin A (% Daily Value)\": 0.6609562954857418, \"Vitamin C (% Daily Value)\": -0.2254000902618996, \"Calcium (% Daily Value)\": 0.3279609560100239, \"Iron (% Daily Value)\": 0.1811594210920711, \"pred\": 451.0650516566669}, {\"Store\": \"McDonald's\", \"Item\": \"Frapp\\u00e9 Caramel (Small)\", \"Serving Size\": 12, \"Calories\": 450, \"Carbohydrates\": -0.15528354286752347, \"Sugars\": 1.0432873867345445, \"Protein\": 0.07501680862189462, \"Vitamin A (% Daily Value)\": 0.6609562954857418, \"Vitamin C (% Daily Value)\": -0.2254000902618996, \"Calcium (% Daily Value)\": 0.3279609560100239, \"Iron (% Daily Value)\": -0.16233766305653116, \"pred\": 358.3918681553167}, {\"Store\": \"McDonald's\", \"Item\": \"Frapp\\u00e9 Caramel (Medium)\", \"Serving Size\": 16, \"Calories\": 550, \"Carbohydrates\": 0.0825283164890333, \"Sugars\": 1.7055480757051684, \"Protein\": 0.47474140930790304, \"Vitamin A (% Daily Value)\": 1.2515292400446052, \"Vitamin C (% Daily Value)\": -0.2254000902618996, \"Calcium (% Daily Value)\": 0.6476024752187254, \"Iron (% Daily Value)\": -0.16233766305653116, \"pred\": 453.15088690856146}, {\"Store\": \"McDonald's\", \"Item\": \"Frapp\\u00e9 Chocolate Chip (Small)\", \"Serving Size\": 12, \"Calories\": 530, \"Carbohydrates\": 0.03496594461772195, \"Sugars\": 1.516330735999276, \"Protein\": 0.27487910896489887, \"Vitamin A (% Daily Value)\": 0.6609562954857418, \"Vitamin C (% Daily Value)\": -0.2254000902618996, \"Calcium (% Daily Value)\": 0.3279609560100239, \"Iron (% Daily Value)\": 0.1811594210920711, \"pred\": 421.5585048824489}, {\"Store\": \"McDonald's\", \"Item\": \"Frapp\\u00e9 Chocolate Chip (Medium)\", \"Serving Size\": 16, \"Calories\": 630, \"Carbohydrates\": 0.2727778039742787, \"Sugars\": 2.1785914249698997, \"Protein\": 0.47474140930790304, \"Vitamin A (% Daily Value)\": 0.6609562954857418, \"Vitamin C (% Daily Value)\": -0.2254000902618996, \"Calcium (% Daily Value)\": 0.6476024752187254, \"Iron (% Daily Value)\": 0.1811594210920711, \"pred\": 509.6997169670893}, {\"Store\": \"McDonald's\", \"Item\": \"Blueberry Pomegranate Smoothie (Small)\", \"Serving Size\": 12, \"Calories\": 220, \"Carbohydrates\": -0.37724127826697645, \"Sugars\": 0.4283310326903937, \"Protein\": -0.9242946930931265, \"Vitamin A (% Daily Value)\": -1.1107625381908484, \"Vitamin C (% Daily Value)\": -0.12672418867797952, \"Calcium (% Daily Value)\": -0.8866768169830419, \"Iron (% Daily Value)\": -0.16233766305653116, \"pred\": 241.23366658029298}, {\"Store\": \"McDonald's\", \"Item\": \"Blueberry Pomegranate Smoothie (Medium)\", \"Serving Size\": 16, \"Calories\": 260, \"Carbohydrates\": -0.18699179078173103, \"Sugars\": 0.9013743819551251, \"Protein\": -0.7244323927501223, \"Vitamin A (% Daily Value)\": -1.1107625381908484, \"Vitamin C (% Daily Value)\": -0.028048287094059463, \"Calcium (% Daily Value)\": -0.7588202092995613, \"Iron (% Daily Value)\": -0.16233766305653116, \"pred\": 304.33447133730857}, {\"Store\": \"McDonald's\", \"Item\": \"Strawberry Banana Smoothie (Small)\", \"Serving Size\": 12, \"Calories\": 210, \"Carbohydrates\": -0.4248036501382878, \"Sugars\": 0.4283310326903937, \"Protein\": -0.7244323927501223, \"Vitamin A (% Daily Value)\": -1.1107625381908484, \"Vitamin C (% Daily Value)\": 1.2547384334969016, \"Calcium (% Daily Value)\": -0.7588202092995613, \"Iron (% Daily Value)\": -0.16233766305653116, \"pred\": 242.68745678631558}, {\"Store\": \"McDonald's\", \"Item\": \"Strawberry Banana Smoothie (Medium)\", \"Serving Size\": 16, \"Calories\": 250, \"Carbohydrates\": -0.25040828661014614, \"Sugars\": 0.9013743819551251, \"Protein\": -0.524570092407118, \"Vitamin A (% Daily Value)\": -1.1107625381908484, \"Vitamin C (% Daily Value)\": 1.5014281874567017, \"Calcium (% Daily Value)\": -0.7588202092995613, \"Iron (% Daily Value)\": 0.1811594210920711, \"pred\": 304.85828207496604}, {\"Store\": \"McDonald's\", \"Item\": \"Mango Pineapple Smoothie (Small)\", \"Serving Size\": 12, \"Calories\": 210, \"Carbohydrates\": -0.37724127826697645, \"Sugars\": 0.52293970254334, \"Protein\": -0.9242946930931265, \"Vitamin A (% Daily Value)\": 2.432675129162332, \"Vitamin C (% Daily Value)\": 0.7613589255773011, \"Calcium (% Daily Value)\": -0.7588202092995613, \"Iron (% Daily Value)\": -0.16233766305653116, \"pred\": 247.39452503277965}, {\"Store\": \"McDonald's\", \"Item\": \"Mango Pineapple Smoothie (Medium)\", \"Serving Size\": 16, \"Calories\": 260, \"Carbohydrates\": -0.20284591473883481, \"Sugars\": 0.9959830518080713, \"Protein\": -0.7244323927501223, \"Vitamin A (% Daily Value)\": 3.6138210182800585, \"Vitamin C (% Daily Value)\": 1.0080486795371013, \"Calcium (% Daily Value)\": -0.7588202092995613, \"Iron (% Daily Value)\": -0.16233766305653116, \"pred\": 308.34022213753366}, {\"Store\": \"McDonald's\", \"Item\": \"Vanilla Shake (Small)\", \"Serving Size\": 12, \"Calories\": 530, \"Carbohydrates\": 0.19350718418875978, \"Sugars\": 1.3271133962933832, \"Protein\": 0.8744660099939116, \"Vitamin A (% Daily Value)\": 1.2515292400446052, \"Vitamin C (% Daily Value)\": -0.2254000902618996, \"Calcium (% Daily Value)\": 1.2868855136361284, \"Iron (% Daily Value)\": -0.5058347472051334, \"pred\": 421.0371235817487}, {\"Store\": \"McDonald's\", \"Item\": \"Vanilla Shake (Medium)\", \"Serving Size\": 16, \"Calories\": 660, \"Carbohydrates\": 0.5581520352021468, \"Sugars\": 2.1785914249698997, \"Protein\": 1.4740529110229241, \"Vitamin A (% Daily Value)\": 1.8421021846034684, \"Vitamin C (% Daily Value)\": -0.2254000902618996, \"Calcium (% Daily Value)\": 1.9261685520535314, \"Iron (% Daily Value)\": -0.5058347472051334, \"pred\": 546.43222639559}, {\"Store\": \"McDonald's\", \"Item\": \"Strawberry Shake (Small)\", \"Serving Size\": 12, \"Calories\": 550, \"Carbohydrates\": 0.2569236800171749, \"Sugars\": 2.0839827551169536, \"Protein\": 1.0743283103369157, \"Vitamin A (% Daily Value)\": 1.2515292400446052, \"Vitamin C (% Daily Value)\": -0.2254000902618996, \"Calcium (% Daily Value)\": 1.2868855136361284, \"Iron (% Daily Value)\": -0.5058347472051334, \"pred\": 522.6588228442865}, {\"Store\": \"McDonald's\", \"Item\": \"Strawberry Shake (Medium)\", \"Serving Size\": 16, \"Calories\": 690, \"Carbohydrates\": 0.6374226549876657, \"Sugars\": 3.0773737885728893, \"Protein\": 1.6739152113659281, \"Vitamin A (% Daily Value)\": 1.8421021846034684, \"Vitamin C (% Daily Value)\": -0.2254000902618996, \"Calcium (% Daily Value)\": 1.9261685520535314, \"Iron (% Daily Value)\": -0.5058347472051334, \"pred\": 665.7125948683665}, {\"Store\": \"McDonald's\", \"Item\": \"Chocolate Shake (Small)\", \"Serving Size\": 12, \"Calories\": 560, \"Carbohydrates\": 0.2727778039742787, \"Sugars\": 1.9893740852640072, \"Protein\": 1.0743283103369157, \"Vitamin A (% Daily Value)\": 1.2515292400446052, \"Vitamin C (% Daily Value)\": -0.2254000902618996, \"Calcium (% Daily Value)\": 1.2868855136361284, \"Iron (% Daily Value)\": 0.8681535893892756, \"pred\": 512.5233718649981}, {\"Store\": \"McDonald's\", \"Item\": \"Chocolate Shake (Medium)\", \"Serving Size\": 16, \"Calories\": 700, \"Carbohydrates\": 0.6374226549876657, \"Sugars\": 2.93546078379347, \"Protein\": 1.6739152113659281, \"Vitamin A (% Daily Value)\": 1.8421021846034684, \"Vitamin C (% Daily Value)\": -0.2254000902618996, \"Calcium (% Daily Value)\": 1.9261685520535314, \"Iron (% Daily Value)\": 1.2116506735378778, \"pred\": 650.5011317637111}, {\"Store\": \"McDonald's\", \"Item\": \"Shamrock Shake (Medium)\", \"Serving Size\": 16, \"Calories\": 660, \"Carbohydrates\": 0.5581520352021468, \"Sugars\": 2.7462434440875776, \"Protein\": 1.4740529110229241, \"Vitamin A (% Daily Value)\": 1.8421021846034684, \"Vitamin C (% Daily Value)\": -0.2254000902618996, \"Calcium (% Daily Value)\": 1.9261685520535314, \"Iron (% Daily Value)\": -0.5058347472051334, \"pred\": 618.5473788839099}, {\"Store\": \"Starbucks\", \"Item\": \"Brewed Coffee\", \"Serving Size\": 12, \"Calories\": 4, \"Carbohydrates\": -1.0114062365511278, \"Sugars\": -1.6530597040744244, \"Protein\": -1.2240881436076327, \"Vitamin A (% Daily Value)\": -1.1107625381908484, \"Vitamin C (% Daily Value)\": -0.2254000902618996, \"Calcium (% Daily Value)\": -1.2702466400334838, \"Iron (% Daily Value)\": -0.5058347472051334, \"pred\": -21.95586850862307}, {\"Store\": \"Starbucks\", \"Item\": \"Brewed Coffee\", \"Serving Size\": 16, \"Calories\": 5, \"Carbohydrates\": -1.0114062365511278, \"Sugars\": -1.6530597040744244, \"Protein\": -1.1241569934361306, \"Vitamin A (% Daily Value)\": -1.1107625381908484, \"Vitamin C (% Daily Value)\": -0.2254000902618996, \"Calcium (% Daily Value)\": -1.2702466400334838, \"Iron (% Daily Value)\": -0.5058347472051334, \"pred\": -18.481549379217995}, {\"Store\": \"Starbucks\", \"Item\": \"Caff\\u00e8 Latte\", \"Serving Size\": 12, \"Calories\": 100, \"Carbohydrates\": 0.7325473987302884, \"Sugars\": -0.9907990151038004, \"Protein\": 0.6746037096509073, \"Vitamin A (% Daily Value)\": 0.6609562954857418, \"Vitamin C (% Daily Value)\": -0.2254000902618996, \"Calcium (% Daily Value)\": 0.6476024752187254, \"Iron (% Daily Value)\": -0.5058347472051334, \"pred\": 102.14504204907851}, {\"Store\": \"Starbucks\", \"Item\": \"Caff\\u00e8 Latte\", \"Serving Size\": 16, \"Calories\": 130, \"Carbohydrates\": 1.208171117443402, \"Sugars\": -0.8015816753979079, \"Protein\": 1.27419061067992, \"Vitamin A (% Daily Value)\": 1.2515292400446052, \"Vitamin C (% Daily Value)\": -0.2254000902618996, \"Calcium (% Daily Value)\": 1.2868855136361284, \"Iron (% Daily Value)\": -0.5058347472051334, \"pred\": 140.81496791032404}, {\"Store\": \"Starbucks\", \"Item\": \"Caff\\u00e8 Mocha (Without Whipped Cream)\", \"Serving Size\": 12, \"Calories\": 170, \"Carbohydrates\": 0.41546491958821274, \"Sugars\": -0.37584266105964964, \"Protein\": 0.6746037096509073, \"Vitamin A (% Daily Value)\": 0.6609562954857418, \"Vitamin C (% Daily Value)\": -0.2254000902618996, \"Calcium (% Daily Value)\": 0.3279609560100239, \"Iron (% Daily Value)\": 2.9291360942808886, \"pred\": 190.69680591602346}, {\"Store\": \"Starbucks\", \"Item\": \"Caff\\u00e8 Mocha (Without Whipped Cream)\", \"Serving Size\": 16, \"Calories\": 220, \"Carbohydrates\": 0.8118180185158074, \"Sugars\": -0.0447123165743377, \"Protein\": 1.27419061067992, \"Vitamin A (% Daily Value)\": 1.2515292400446052, \"Vitamin C (% Daily Value)\": -0.2254000902618996, \"Calcium (% Daily Value)\": 0.9672439944274269, \"Iron (% Daily Value)\": 3.7878788046523946, \"pred\": 250.65477696726788}, {\"Store\": \"Starbucks\", \"Item\": \"Vanilla Latte (Or Other Flavoured Latte)\", \"Serving Size\": 12, \"Calories\": 150, \"Carbohydrates\": 0.5740061591592506, \"Sugars\": -0.37584266105964964, \"Protein\": 0.47474140930790304, \"Vitamin A (% Daily Value)\": 0.6609562954857418, \"Vitamin C (% Daily Value)\": -0.2254000902618996, \"Calcium (% Daily Value)\": 0.6476024752187254, \"Iron (% Daily Value)\": -0.5058347472051334, \"pred\": 177.02234143769488}, {\"Store\": \"Starbucks\", \"Item\": \"Vanilla Latte (Or Other Flavoured Latte)\", \"Serving Size\": 16, \"Calories\": 200, \"Carbohydrates\": 1.049629877872364, \"Sugars\": 0.002592018352135441, \"Protein\": 1.0743283103369157, \"Vitamin A (% Daily Value)\": 1.2515292400446052, \"Vitamin C (% Daily Value)\": -0.2254000902618996, \"Calcium (% Daily Value)\": 0.9672439944274269, \"Iron (% Daily Value)\": -0.5058347472051334, \"pred\": 237.12063852796985}, {\"Store\": \"Starbucks\", \"Item\": \"Caff\\u00e8 Americano\", \"Serving Size\": 12, \"Calories\": 10, \"Carbohydrates\": -1.0114062365511278, \"Sugars\": -1.6530597040744244, \"Protein\": -1.1241569934361306, \"Vitamin A (% Daily Value)\": -1.1107625381908484, \"Vitamin C (% Daily Value)\": -0.2254000902618996, \"Calcium (% Daily Value)\": -1.1423900323500031, \"Iron (% Daily Value)\": -0.5058347472051334, \"pred\": -17.437544205720457}, {\"Store\": \"Starbucks\", \"Item\": \"Caff\\u00e8 Americano\", \"Serving Size\": 16, \"Calories\": 15, \"Carbohydrates\": -0.9321356167656089, \"Sugars\": -1.6530597040744244, \"Protein\": -1.1241569934361306, \"Vitamin A (% Daily Value)\": -1.1107625381908484, \"Vitamin C (% Daily Value)\": -0.2254000902618996, \"Calcium (% Daily Value)\": -1.1423900323500031, \"Iron (% Daily Value)\": -0.5058347472051334, \"pred\": -19.28813876492714}, {\"Store\": \"Starbucks\", \"Item\": \"Cappuccino\", \"Serving Size\": 12, \"Calories\": 60, \"Carbohydrates\": -0.060158799124900755, \"Sugars\": -1.2746250246626392, \"Protein\": -0.12484549172110959, \"Vitamin A (% Daily Value)\": 0.07038335092687834, \"Vitamin C (% Daily Value)\": -0.2254000902618996, \"Calcium (% Daily Value)\": 0.008319436801322359, \"Iron (% Daily Value)\": -0.5058347472051334, \"pred\": 51.909664084462946}, {\"Store\": \"Starbucks\", \"Item\": \"Cappuccino\", \"Serving Size\": 16, \"Calories\": 80, \"Carbohydrates\": 0.2569236800171749, \"Sugars\": -1.180016354809693, \"Protein\": 0.27487910896489887, \"Vitamin A (% Daily Value)\": 0.6609562954857418, \"Vitamin C (% Daily Value)\": -0.2254000902618996, \"Calcium (% Daily Value)\": 0.3279609560100239, \"Iron (% Daily Value)\": -0.5058347472051334, \"pred\": 72.70293579018124}, {\"Store\": \"Starbucks\", \"Item\": \"Skinny Latte (Any Flavour)\", \"Serving Size\": 12, \"Calories\": 100, \"Carbohydrates\": 0.8118180185158074, \"Sugars\": -1.0381033500302737, \"Protein\": 0.47474140930790304, \"Vitamin A (% Daily Value)\": 0.6609562954857418, \"Vitamin C (% Daily Value)\": -0.2254000902618996, \"Calcium (% Daily Value)\": 0.6476024752187254, \"Iron (% Daily Value)\": -0.5058347472051334, \"pred\": 87.33621319036837}, {\"Store\": \"Starbucks\", \"Item\": \"Skinny Latte (Any Flavour)\", \"Serving Size\": 16, \"Calories\": 120, \"Carbohydrates\": 1.3667123570144397, \"Sugars\": -0.8961903452508542, \"Protein\": 1.0743283103369157, \"Vitamin A (% Daily Value)\": 1.2515292400446052, \"Vitamin C (% Daily Value)\": -0.2254000902618996, \"Calcium (% Daily Value)\": 0.9672439944274269, \"Iron (% Daily Value)\": -0.5058347472051334, \"pred\": 115.53593551797006}, {\"Store\": \"Starbucks\", \"Item\": \"Caramel Macchiato\", \"Serving Size\": 12, \"Calories\": 140, \"Carbohydrates\": 0.49473553937373166, \"Sugars\": -0.5177556658390691, \"Protein\": 0.27487910896489887, \"Vitamin A (% Daily Value)\": 0.6609562954857418, \"Vitamin C (% Daily Value)\": -0.2254000902618996, \"Calcium (% Daily Value)\": 0.3279609560100239, \"Iron (% Daily Value)\": -0.5058347472051334, \"pred\": 151.28549668226762}, {\"Store\": \"Starbucks\", \"Item\": \"Caramel Macchiato\", \"Serving Size\": 16, \"Calories\": 190, \"Carbohydrates\": 0.8910886383013262, \"Sugars\": -0.13932098642728397, \"Protein\": 0.8744660099939116, \"Vitamin A (% Daily Value)\": 1.2515292400446052, \"Vitamin C (% Daily Value)\": -0.2254000902618996, \"Calcium (% Daily Value)\": 0.9672439944274269, \"Iron (% Daily Value)\": -0.5058347472051334, \"pred\": 215.84440126549313}, {\"Store\": \"Starbucks\", \"Item\": \"White Chocolate Mocha (Without Whipped Cream)\", \"Serving Size\": 12, \"Calories\": 270, \"Carbohydrates\": 1.8423360757275533, \"Sugars\": 0.4756353676168668, \"Protein\": 1.0743283103369157, \"Vitamin A (% Daily Value)\": 0.6609562954857418, \"Vitamin C (% Daily Value)\": -0.12672418867797952, \"Calcium (% Daily Value)\": 0.9672439944274269, \"Iron (% Daily Value)\": -0.5058347472051334, \"pred\": 278.4951127929127}, {\"Store\": \"Starbucks\", \"Item\": \"White Chocolate Mocha (Without Whipped Cream)\", \"Serving Size\": 16, \"Calories\": 350, \"Carbohydrates\": 2.6350422735827426, \"Sugars\": 1.0905917216610177, \"Protein\": 1.6739152113659281, \"Vitamin A (% Daily Value)\": 1.2515292400446052, \"Vitamin C (% Daily Value)\": -0.12672418867797952, \"Calcium (% Daily Value)\": 1.60652703284483, \"Iron (% Daily Value)\": -0.16233766305653116, \"pred\": 364.4124897870563}, {\"Store\": \"Starbucks\", \"Item\": \"Hot Chocolate (Without Whipped Cream)\", \"Serving Size\": 12, \"Calories\": 190, \"Carbohydrates\": 0.5740061591592506, \"Sugars\": -0.13932098642728397, \"Protein\": 0.8744660099939116, \"Vitamin A (% Daily Value)\": 0.6609562954857418, \"Vitamin C (% Daily Value)\": -0.2254000902618996, \"Calcium (% Daily Value)\": 0.6476024752187254, \"Iron (% Daily Value)\": 2.9291360942808886, \"pred\": 226.6022481936307}, {\"Store\": \"Starbucks\", \"Item\": \"Hot Chocolate (Without Whipped Cream)\", \"Serving Size\": 16, \"Calories\": 240, \"Carbohydrates\": 1.049629877872364, \"Sugars\": 0.28641802791097426, \"Protein\": 1.4740529110229241, \"Vitamin A (% Daily Value)\": 1.2515292400446052, \"Vitamin C (% Daily Value)\": -0.2254000902618996, \"Calcium (% Daily Value)\": 1.2868855136361284, \"Iron (% Daily Value)\": 3.7878788046523946, \"pred\": 296.72881676705504}, {\"Store\": \"Starbucks\", \"Item\": \"Caramel Apple Spice (Without Whipped Cream)\", \"Serving Size\": 12, \"Calories\": 210, \"Carbohydrates\": -0.9321356167656089, \"Sugars\": 0.6648527073227594, \"Protein\": -1.3240192937791349, \"Vitamin A (% Daily Value)\": -1.1107625381908484, \"Vitamin C (% Daily Value)\": -0.2254000902618996, \"Calcium (% Daily Value)\": -1.2702466400334838, \"Iron (% Daily Value)\": -0.5058347472051334, \"pred\": 267.18942379673774}, {\"Store\": \"Starbucks\", \"Item\": \"Caramel Apple Spice (Without Whipped Cream)\", \"Serving Size\": 16, \"Calories\": 280, \"Carbohydrates\": -0.85286499698009, \"Sugars\": 1.4217220661463295, \"Protein\": -1.3240192937791349, \"Vitamin A (% Daily Value)\": -1.1107625381908484, \"Vitamin C (% Daily Value)\": -0.2254000902618996, \"Calcium (% Daily Value)\": -1.2702466400334838, \"Iron (% Daily Value)\": -0.5058347472051334, \"pred\": 361.4923658886242}, {\"Store\": \"Starbucks\", \"Item\": \"Tazo\\u00ae Tea\", \"Serving Size\": 12, \"Calories\": 0, \"Carbohydrates\": -1.1699474761221655, \"Sugars\": -1.6530597040744244, \"Protein\": -1.3240192937791349, \"Vitamin A (% Daily Value)\": -1.1107625381908484, \"Vitamin C (% Daily Value)\": -0.2254000902618996, \"Calcium (% Daily Value)\": -1.2702466400334838, \"Iron (% Daily Value)\": -0.5058347472051334, \"pred\": -21.72899851961475}, {\"Store\": \"Starbucks\", \"Item\": \"Tazo\\u00ae Tea\", \"Serving Size\": 16, \"Calories\": 0, \"Carbohydrates\": -1.1699474761221655, \"Sugars\": -1.6530597040744244, \"Protein\": -1.3240192937791349, \"Vitamin A (% Daily Value)\": -1.1107625381908484, \"Vitamin C (% Daily Value)\": -0.2254000902618996, \"Calcium (% Daily Value)\": -1.2702466400334838, \"Iron (% Daily Value)\": -0.5058347472051334, \"pred\": -21.72899851961475}, {\"Store\": \"Starbucks\", \"Item\": \"Tazo\\u00ae Chai Tea Latte\", \"Serving Size\": 12, \"Calories\": 160, \"Carbohydrates\": 0.09838244044613709, \"Sugars\": -0.13932098642728397, \"Protein\": -0.12484549172110959, \"Vitamin A (% Daily Value)\": 0.07038335092687834, \"Vitamin C (% Daily Value)\": -0.2254000902618996, \"Calcium (% Daily Value)\": 0.008319436801322359, \"Iron (% Daily Value)\": -0.16233766305653116, \"pred\": 193.0022449461741}, {\"Store\": \"Starbucks\", \"Item\": \"Tazo\\u00ae Chai Tea Latte\", \"Serving Size\": 16, \"Calories\": 210, \"Carbohydrates\": 0.49473553937373166, \"Sugars\": 0.38102669776392056, \"Protein\": 0.27487910896489887, \"Vitamin A (% Daily Value)\": 0.6609562954857418, \"Vitamin C (% Daily Value)\": -0.2254000902618996, \"Calcium (% Daily Value)\": 0.3279609560100239, \"Iron (% Daily Value)\": -0.16233766305653116, \"pred\": 266.0312864589256}, {\"Store\": \"Starbucks\", \"Item\": \"Tazo\\u00ae Green Tea Latte\", \"Serving Size\": 12, \"Calories\": 210, \"Carbohydrates\": 0.8118180185158074, \"Sugars\": 0.28641802791097426, \"Protein\": 0.8744660099939116, \"Vitamin A (% Daily Value)\": 1.2515292400446052, \"Vitamin C (% Daily Value)\": 0.2679794176577007, \"Calcium (% Daily Value)\": 0.9672439944274269, \"Iron (% Daily Value)\": 0.1811594210920711, \"pred\": 270.17642949726337}, {\"Store\": \"Starbucks\", \"Item\": \"Tazo\\u00ae Green Tea Latte\", \"Serving Size\": 16, \"Calories\": 290, \"Carbohydrates\": 1.3667123570144397, \"Sugars\": 0.9959830518080713, \"Protein\": 1.4740529110229241, \"Vitamin A (% Daily Value)\": 1.8421021846034684, \"Vitamin C (% Daily Value)\": 0.5146691716175009, \"Calcium (% Daily Value)\": 1.60652703284483, \"Iron (% Daily Value)\": 0.1811594210920711, \"pred\": 371.7353868966057}, {\"Store\": \"Starbucks\", \"Item\": \"Tazo\\u00ae Full-Leaf Tea Latte\", \"Serving Size\": 12, \"Calories\": 120, \"Carbohydrates\": -0.13942941891041968, \"Sugars\": -0.5650600007655422, \"Protein\": -0.3247077920641138, \"Vitamin A (% Daily Value)\": 0.07038335092687834, \"Vitamin C (% Daily Value)\": -0.2254000902618996, \"Calcium (% Daily Value)\": 0.008319436801322359, \"Iron (% Daily Value)\": -0.5058347472051334, \"pred\": 136.95556099525925}, {\"Store\": \"Starbucks\", \"Item\": \"Tazo\\u00ae Full-Leaf Tea Latte\", \"Serving Size\": 16, \"Calories\": 150, \"Carbohydrates\": 0.177653060231656, \"Sugars\": -0.18662532135375712, \"Protein\": 0.07501680862189462, \"Vitamin A (% Daily Value)\": 0.6609562954857418, \"Vitamin C (% Daily Value)\": -0.2254000902618996, \"Calcium (% Daily Value)\": 0.3279609560100239, \"Iron (% Daily Value)\": -0.5058347472051334, \"pred\": 193.80640894513746}, {\"Store\": \"Starbucks\", \"Item\": \"Tazo\\u00ae Full-Leaf Red Tea Latte (Vanilla Rooibos)\", \"Serving Size\": 12, \"Calories\": 120, \"Carbohydrates\": -0.13942941891041968, \"Sugars\": -0.5650600007655422, \"Protein\": -0.3247077920641138, \"Vitamin A (% Daily Value)\": 0.07038335092687834, \"Vitamin C (% Daily Value)\": -0.2254000902618996, \"Calcium (% Daily Value)\": 0.008319436801322359, \"Iron (% Daily Value)\": -0.5058347472051334, \"pred\": 136.95556099525925}, {\"Store\": \"Starbucks\", \"Item\": \"Tazo\\u00ae Full-Leaf Red Tea Latte (Vanilla Rooibos)\", \"Serving Size\": 16, \"Calories\": 150, \"Carbohydrates\": 0.177653060231656, \"Sugars\": -0.18662532135375712, \"Protein\": 0.07501680862189462, \"Vitamin A (% Daily Value)\": 0.6609562954857418, \"Vitamin C (% Daily Value)\": -0.2254000902618996, \"Calcium (% Daily Value)\": 0.3279609560100239, \"Iron (% Daily Value)\": -0.5058347472051334, \"pred\": 193.80640894513746}, {\"Store\": \"Starbucks\", \"Item\": \"Iced Brewed Coffee (With Classic Syrup)\", \"Serving Size\": 12, \"Calories\": 60, \"Carbohydrates\": -1.1065309802937504, \"Sugars\": -0.9434946801773273, \"Protein\": -1.284046833710534, \"Vitamin A (% Daily Value)\": -1.1107625381908484, \"Vitamin C (% Daily Value)\": -0.2254000902618996, \"Calcium (% Daily Value)\": -1.2702466400334838, \"Iron (% Daily Value)\": -0.5058347472051334, \"pred\": 68.3241940951817}, {\"Store\": \"Starbucks\", \"Item\": \"Iced Brewed Coffee (With Classic Syrup)\", \"Serving Size\": 16, \"Calories\": 90, \"Carbohydrates\": -1.0906768563366467, \"Sugars\": -0.6596686706184884, \"Protein\": -1.2640606036762336, \"Vitamin A (% Daily Value)\": -1.1107625381908484, \"Vitamin C (% Daily Value)\": -0.2254000902618996, \"Calcium (% Daily Value)\": -1.2702466400334838, \"Iron (% Daily Value)\": -0.5058347472051334, \"pred\": 104.70651525338126}, {\"Store\": \"Starbucks\", \"Item\": \"Iced Brewed Coffee (With Milk & Classic Syrup)\", \"Serving Size\": 12, \"Calories\": 80, \"Carbohydrates\": -0.773594377194571, \"Sugars\": -0.8015816753979079, \"Protein\": -0.9242946930931265, \"Vitamin A (% Daily Value)\": -0.8745333603673031, \"Vitamin C (% Daily Value)\": -0.2254000902618996, \"Calcium (% Daily Value)\": -0.8866768169830419, \"Iron (% Daily Value)\": -0.5058347472051334, \"pred\": 94.08771681886212}, {\"Store\": \"Starbucks\", \"Item\": \"Iced Brewed Coffee (With Milk & Classic Syrup)\", \"Serving Size\": 16, \"Calories\": 110, \"Carbohydrates\": -0.6943237574090521, \"Sugars\": -0.5177556658390691, \"Protein\": -0.9242946930931265, \"Vitamin A (% Daily Value)\": -0.6383041825437578, \"Vitamin C (% Daily Value)\": -0.2254000902618996, \"Calcium (% Daily Value)\": -0.7588202092995613, \"Iron (% Daily Value)\": -0.16233766305653116, \"pred\": 129.7698360447155}, {\"Store\": \"Starbucks\", \"Item\": \"Shaken Iced Tazo\\u00ae Tea (With Classic Syrup)\", \"Serving Size\": 12, \"Calories\": 60, \"Carbohydrates\": -1.1699474761221655, \"Sugars\": -0.9434946801773273, \"Protein\": -1.3240192937791349, \"Vitamin A (% Daily Value)\": -1.1107625381908484, \"Vitamin C (% Daily Value)\": -0.2254000902618996, \"Calcium (% Daily Value)\": -1.2702466400334838, \"Iron (% Daily Value)\": 0.5246565052406733, \"pred\": 70.10533710123968}, {\"Store\": \"Starbucks\", \"Item\": \"Shaken Iced Tazo\\u00ae Tea (With Classic Syrup)\", \"Serving Size\": 16, \"Calories\": 80, \"Carbohydrates\": -1.1699474761221655, \"Sugars\": -0.6596686706184884, \"Protein\": -1.3240192937791349, \"Vitamin A (% Daily Value)\": -1.1107625381908484, \"Vitamin C (% Daily Value)\": -0.2254000902618996, \"Calcium (% Daily Value)\": -1.2702466400334838, \"Iron (% Daily Value)\": -0.5058347472051334, \"pred\": 104.47251833494491}, {\"Store\": \"Starbucks\", \"Item\": \"Shaken Iced Tazo\\u00ae Tea Lemonade (With Classic Syrup)\", \"Serving Size\": 12, \"Calories\": 100, \"Carbohydrates\": -1.1699474761221655, \"Sugars\": -0.5177556658390691, \"Protein\": -1.3040330637448345, \"Vitamin A (% Daily Value)\": -1.1107625381908484, \"Vitamin C (% Daily Value)\": 0.2679794176577007, \"Calcium (% Daily Value)\": -1.2702466400334838, \"Iron (% Daily Value)\": -0.5058347472051334, \"pred\": 120.46430958225976}, {\"Store\": \"Starbucks\", \"Item\": \"Shaken Iced Tazo\\u00ae Tea Lemonade (With Classic Syrup)\", \"Serving Size\": 16, \"Calories\": 130, \"Carbohydrates\": -1.1699474761221655, \"Sugars\": -0.09201665150081083, \"Protein\": -1.3040330637448345, \"Vitamin A (% Daily Value)\": -1.1107625381908484, \"Vitamin C (% Daily Value)\": 0.5146691716175009, \"Calcium (% Daily Value)\": -1.2702466400334838, \"Iron (% Daily Value)\": -0.5058347472051334, \"pred\": 173.18474359817657}, {\"Store\": \"Starbucks\", \"Item\": \"Banana Chocolate Smoothie\", \"Serving Size\": 16, \"Calories\": 280, \"Carbohydrates\": 1.208171117443402, \"Sugars\": -0.0447123165743377, \"Protein\": 2.6732267130809495, \"Vitamin A (% Daily Value)\": 0.07038335092687834, \"Vitamin C (% Daily Value)\": 0.5146691716175009, \"Calcium (% Daily Value)\": 0.008319436801322359, \"Iron (% Daily Value)\": -0.5058347472051334, \"pred\": 271.7327927675549}, {\"Store\": \"Starbucks\", \"Item\": \"Orange Mango Banana Smoothie\", \"Serving Size\": 16, \"Calories\": 260, \"Carbohydrates\": 0.7325473987302884, \"Sugars\": 0.09720068820508171, \"Protein\": 1.8737775117089324, \"Vitamin A (% Daily Value)\": 4.794966907397785, \"Vitamin C (% Daily Value)\": 3.7216359730949033, \"Calcium (% Daily Value)\": -0.6309636016160807, \"Iron (% Daily Value)\": 4.6466215150239, \"pred\": 255.89879711857446}, {\"Store\": \"Starbucks\", \"Item\": \"Strawberry Banana Smoothie\", \"Serving Size\": 16, \"Calories\": 290, \"Carbohydrates\": 0.8118180185158074, \"Sugars\": 0.28641802791097426, \"Protein\": 1.8737775117089324, \"Vitamin A (% Daily Value)\": -0.6383041825437578, \"Vitamin C (% Daily Value)\": 4.708394988934104, \"Calcium (% Daily Value)\": -0.6309636016160807, \"Iron (% Daily Value)\": 0.8681535893892756, \"pred\": 269.46840091240796}, {\"Store\": \"Starbucks\", \"Item\": \"Coffee\", \"Serving Size\": 12, \"Calories\": 160, \"Carbohydrates\": 1.3667123570144397, \"Sugars\": 0.04989635327860858, \"Protein\": -0.7244323927501223, \"Vitamin A (% Daily Value)\": -0.6383041825437578, \"Vitamin C (% Daily Value)\": -0.2254000902618996, \"Calcium (% Daily Value)\": -0.6309636016160807, \"Iron (% Daily Value)\": 1.2116506735378778, \"pred\": 164.01603343990882}, {\"Store\": \"Starbucks\", \"Item\": \"Coffee\", \"Serving Size\": 16, \"Calories\": 220, \"Carbohydrates\": 2.159418554869629, \"Sugars\": 0.7121570422492325, \"Protein\": -0.524570092407118, \"Vitamin A (% Daily Value)\": -0.40207500472021235, \"Vitamin C (% Daily Value)\": -0.2254000902618996, \"Calcium (% Daily Value)\": -0.6309636016160807, \"Iron (% Daily Value)\": 0.1811594210920711, \"pred\": 234.7703430298216}, {\"Store\": \"Starbucks\", \"Item\": \"Mocha (Without Whipped Cream)\", \"Serving Size\": 12, \"Calories\": 180, \"Carbohydrates\": 1.208171117443402, \"Sugars\": 0.23911369298450114, \"Protein\": -0.7244323927501223, \"Vitamin A (% Daily Value)\": -0.6383041825437578, \"Vitamin C (% Daily Value)\": -0.2254000902618996, \"Calcium (% Daily Value)\": -0.6309636016160807, \"Iron (% Daily Value)\": 0.8681535893892756, \"pred\": 191.19214171761058}, {\"Store\": \"Starbucks\", \"Item\": \"Mocha (Without Whipped Cream)\", \"Serving Size\": 16, \"Calories\": 260, \"Carbohydrates\": 2.3179597944406667, \"Sugars\": 1.0905917216610177, \"Protein\": -0.524570092407118, \"Vitamin A (% Daily Value)\": -0.40207500472021235, \"Vitamin C (% Daily Value)\": -0.2254000902618996, \"Calcium (% Daily Value)\": -0.6309636016160807, \"Iron (% Daily Value)\": 0.8681535893892756, \"pred\": 280.2728522439246}, {\"Store\": \"Starbucks\", \"Item\": \"Caramel (Without Whipped Cream)\", \"Serving Size\": 12, \"Calories\": 180, \"Carbohydrates\": 1.3667123570144397, \"Sugars\": 0.28641802791097426, \"Protein\": -0.7244323927501223, \"Vitamin A (% Daily Value)\": -0.6383041825437578, \"Vitamin C (% Daily Value)\": -0.2254000902618996, \"Calcium (% Daily Value)\": -0.6309636016160807, \"Iron (% Daily Value)\": -0.5058347472051334, \"pred\": 191.24668862595095}, {\"Store\": \"Starbucks\", \"Item\": \"Caramel (Without Whipped Cream)\", \"Serving Size\": 16, \"Calories\": 280, \"Carbohydrates\": 2.3179597944406667, \"Sugars\": 1.1378960565874907, \"Protein\": -0.524570092407118, \"Vitamin A (% Daily Value)\": -0.40207500472021235, \"Vitamin C (% Daily Value)\": -0.2254000902618996, \"Calcium (% Daily Value)\": -0.6309636016160807, \"Iron (% Daily Value)\": -0.5058347472051334, \"pred\": 284.0285882706783}, {\"Store\": \"Starbucks\", \"Item\": \"Java Chip (Without Whipped Cream)\", \"Serving Size\": 12, \"Calories\": 220, \"Carbohydrates\": 1.5252535965854777, \"Sugars\": 0.4283310326903937, \"Protein\": -0.524570092407118, \"Vitamin A (% Daily Value)\": -0.6383041825437578, \"Vitamin C (% Daily Value)\": -0.2254000902618996, \"Calcium (% Daily Value)\": -0.6309636016160807, \"Iron (% Daily Value)\": 2.9291360942808886, \"pred\": 218.15757592327662}, {\"Store\": \"Starbucks\", \"Item\": \"Java Chip (Without Whipped Cream)\", \"Serving Size\": 16, \"Calories\": 310, \"Carbohydrates\": 2.7935835131537803, \"Sugars\": 1.2798090613669102, \"Protein\": -0.3247077920641138, \"Vitamin A (% Daily Value)\": -0.40207500472021235, \"Vitamin C (% Daily Value)\": -0.2254000902618996, \"Calcium (% Daily Value)\": -0.6309636016160807, \"Iron (% Daily Value)\": 3.7878788046523946, \"pred\": 304.9457598398895}, {\"Store\": \"Starbucks\", \"Item\": \"Coffee\", \"Serving Size\": 12, \"Calories\": 90, \"Carbohydrates\": 1.3667123570144397, \"Sugars\": -0.7542773404714348, \"Protein\": -0.7244323927501223, \"Vitamin A (% Daily Value)\": -0.6383041825437578, \"Vitamin C (% Daily Value)\": -0.2254000902618996, \"Calcium (% Daily Value)\": -0.6309636016160807, \"Iron (% Daily Value)\": -0.5058347472051334, \"pred\": 59.03557573069796}, {\"Store\": \"Starbucks\", \"Item\": \"Coffee\", \"Serving Size\": 16, \"Calories\": 120, \"Carbohydrates\": 2.159418554869629, \"Sugars\": -0.4231469959861228, \"Protein\": -0.7244323927501223, \"Vitamin A (% Daily Value)\": -0.40207500472021235, \"Vitamin C (% Daily Value)\": -0.2254000902618996, \"Calcium (% Daily Value)\": -0.6309636016160807, \"Iron (% Daily Value)\": -0.5058347472051334, \"pred\": 82.46446978740207}, {\"Store\": \"Starbucks\", \"Item\": \"Mocha\", \"Serving Size\": 12, \"Calories\": 110, \"Carbohydrates\": 1.208171117443402, \"Sugars\": -0.5650600007655422, \"Protein\": -0.7244323927501223, \"Vitamin A (% Daily Value)\": -0.6383041825437578, \"Vitamin C (% Daily Value)\": -0.2254000902618996, \"Calcium (% Daily Value)\": -0.7588202092995613, \"Iron (% Daily Value)\": 0.5246565052406733, \"pred\": 87.42153884884169}, {\"Store\": \"Starbucks\", \"Item\": \"Mocha\", \"Serving Size\": 16, \"Calories\": 150, \"Carbohydrates\": 2.0008773152985913, \"Sugars\": -0.23392965628023024, \"Protein\": -0.524570092407118, \"Vitamin A (% Daily Value)\": -0.40207500472021235, \"Vitamin C (% Daily Value)\": -0.2254000902618996, \"Calcium (% Daily Value)\": -0.6309636016160807, \"Iron (% Daily Value)\": 0.8681535893892756, \"pred\": 119.4065413413384}, {\"Store\": \"Starbucks\", \"Item\": \"Caramel\", \"Serving Size\": 12, \"Calories\": 100, \"Carbohydrates\": 1.049629877872364, \"Sugars\": -0.5650600007655422, \"Protein\": -0.7244323927501223, \"Vitamin A (% Daily Value)\": -0.6383041825437578, \"Vitamin C (% Daily Value)\": -0.2254000902618996, \"Calcium (% Daily Value)\": -0.7588202092995613, \"Iron (% Daily Value)\": -0.5058347472051334, \"pred\": 89.43233295680038}, {\"Store\": \"Starbucks\", \"Item\": \"Caramel\", \"Serving Size\": 16, \"Calories\": 150, \"Carbohydrates\": 2.0008773152985913, \"Sugars\": -0.13932098642728397, \"Protein\": -0.7244323927501223, \"Vitamin A (% Daily Value)\": -0.40207500472021235, \"Vitamin C (% Daily Value)\": -0.2254000902618996, \"Calcium (% Daily Value)\": -0.6309636016160807, \"Iron (% Daily Value)\": -0.5058347472051334, \"pred\": 122.22323514997531}, {\"Store\": \"Starbucks\", \"Item\": \"Java Chip\", \"Serving Size\": 12, \"Calories\": 150, \"Carbohydrates\": 1.5252535965854777, \"Sugars\": -0.37584266105964964, \"Protein\": -0.524570092407118, \"Vitamin A (% Daily Value)\": -0.6383041825437578, \"Vitamin C (% Daily Value)\": -0.2254000902618996, \"Calcium (% Daily Value)\": -0.6309636016160807, \"Iron (% Daily Value)\": 2.9291360942808886, \"pred\": 115.9944432314902}, {\"Store\": \"Starbucks\", \"Item\": \"Java Chip\", \"Serving Size\": 16, \"Calories\": 220, \"Carbohydrates\": 2.6350422735827426, \"Sugars\": 0.19180935805802798, \"Protein\": -0.3247077920641138, \"Vitamin A (% Daily Value)\": -0.40207500472021235, \"Vitamin C (% Daily Value)\": -0.2254000902618996, \"Calcium (% Daily Value)\": -0.6309636016160807, \"Iron (% Daily Value)\": 3.7878788046523946, \"pred\": 170.42624002235652}, {\"Store\": \"Starbucks\", \"Item\": \"Strawberries & Cr\\u00e8me (Without Whipped Cream)\", \"Serving Size\": 12, \"Calories\": 170, \"Carbohydrates\": 1.049629877872364, \"Sugars\": 0.14450502313155486, \"Protein\": -0.7244323927501223, \"Vitamin A (% Daily Value)\": -0.40207500472021235, \"Vitamin C (% Daily Value)\": 0.0706276144898606, \"Calcium (% Daily Value)\": -0.6309636016160807, \"Iron (% Daily Value)\": -0.16233766305653116, \"pred\": 179.41229468771266}, {\"Store\": \"Starbucks\", \"Item\": \"Strawberries & Cr\\u00e8me (Without Whipped Cream)\", \"Serving Size\": 16, \"Calories\": 230, \"Carbohydrates\": 1.8423360757275533, \"Sugars\": 0.8067657121021787, \"Protein\": -0.524570092407118, \"Vitamin A (% Daily Value)\": -0.16584582689666702, \"Vitamin C (% Daily Value)\": 0.0706276144898606, \"Calcium (% Daily Value)\": -0.3113220824073792, \"Iron (% Daily Value)\": 0.1811594210920711, \"pred\": 255.03047722530886}, {\"Store\": \"Starbucks\", \"Item\": \"Vanilla Bean (Without Whipped Cream)\", \"Serving Size\": 12, \"Calories\": 170, \"Carbohydrates\": 1.3667123570144397, \"Sugars\": 0.14450502313155486, \"Protein\": -0.524570092407118, \"Vitamin A (% Daily Value)\": -0.40207500472021235, \"Vitamin C (% Daily Value)\": -0.2254000902618996, \"Calcium (% Daily Value)\": -0.6309636016160807, \"Iron (% Daily Value)\": -0.5058347472051334, \"pred\": 180.0342061265988}, {\"Store\": \"Starbucks\", \"Item\": \"Vanilla Bean (Without Whipped Cream)\", \"Serving Size\": 16, \"Calories\": 240, \"Carbohydrates\": 2.476501034011705, \"Sugars\": 0.9486787168815982, \"Protein\": -0.3247077920641138, \"Vitamin A (% Daily Value)\": -0.16584582689666702, \"Vitamin C (% Daily Value)\": -0.2254000902618996, \"Calcium (% Daily Value)\": -0.3113220824073792, \"Iron (% Daily Value)\": -0.5058347472051334, \"pred\": 265.71533354596335}]}}, {\"mode\": \"vega-lite\"});\n",
       "</script>"
      ],
      "text/plain": [
       "alt.LayerChart(...)"
      ]
     },
     "execution_count": 48,
     "metadata": {},
     "output_type": "execute_result"
    }
   ],
   "source": [
    "c2 = alt.Chart(df_drink2).mark_line().encode(\n",
    "    x = \"Sugars\",\n",
    "    y = \"Calories\", \n",
    "    tooltip = b\n",
    ").properties(\n",
    "    title = \"Relationship between Sugars and Calories\"\n",
    ")\n",
    "c1+c2"
   ]
  },
  {
   "cell_type": "markdown",
   "metadata": {
    "cell_id": "aeaebd1a1fcc40719c69048dcdd4f985",
    "deepnote_cell_type": "markdown",
    "tags": []
   },
   "source": [
    "The predicted values do not necessarily look linear due to the fact that the points rely on 7 values. I'm not exactly sure why but in my graph, there are negative values plotted for \"Sugars\" and the predicted \"Calories.\" This can be because I rescaled my data when I might have not needed to. \n",
    "\n",
    "Looking at the chart and noticing a positive slope, we are able to conclude that the more \"sugars\" there are in a drink, it leads to more \"calories.\" I believe that this conclusion makes sense because in both locations, there are drink options that have whipped cream, syrups, or extra added ingredients that increase the sugar count. "
   ]
  },
  {
   "cell_type": "markdown",
   "metadata": {
    "cell_id": "fb89a7f6e64947798440441956d7cebf",
    "deepnote_cell_type": "markdown",
    "tags": []
   },
   "source": [
    "## Classification on Food Items based on Stores\n",
    "In this portion of my project, I used a Decision Tree Classifier to see if it could predict the store for a food item with its contents of \"calories,\" \"total fat,\" \"carbohydrates,\" \"dietary fiber,\" and \"protein.\"\n",
    "\n"
   ]
  },
  {
   "cell_type": "code",
   "execution_count": 49,
   "metadata": {
    "cell_id": "2c58fad60c7a42d7969c5d08c8916333",
    "deepnote_cell_type": "code",
    "deepnote_to_be_reexecuted": false,
    "execution_millis": 0,
    "execution_start": 1670474065037,
    "source_hash": "cd840e21",
    "tags": []
   },
   "outputs": [],
   "source": [
    "from sklearn.model_selection import train_test_split\n",
    "from sklearn.tree import DecisionTreeClassifier\n",
    "import matplotlib.pyplot as plt\n",
    "from sklearn.tree import plot_tree"
   ]
  },
  {
   "cell_type": "code",
   "execution_count": 50,
   "metadata": {
    "cell_id": "72222196d822450fab2947b690c28f46",
    "deepnote_cell_type": "code",
    "deepnote_to_be_reexecuted": false,
    "execution_millis": 0,
    "execution_start": 1670474065038,
    "source_hash": "75c30aee",
    "tags": []
   },
   "outputs": [],
   "source": [
    "df_food3 = df_food.copy()"
   ]
  },
  {
   "cell_type": "code",
   "execution_count": 51,
   "metadata": {
    "cell_id": "e1a9e531d884484896f7653332fee700",
    "deepnote_cell_type": "code",
    "deepnote_to_be_reexecuted": false,
    "execution_millis": 0,
    "execution_start": 1670474065038,
    "source_hash": "13aefe7b",
    "tags": []
   },
   "outputs": [],
   "source": [
    "df_food3 = df_food.drop([\"Item\"], axis=1)"
   ]
  },
  {
   "cell_type": "markdown",
   "metadata": {
    "cell_id": "008a351e90364765a01ce06a89a14346",
    "deepnote_cell_type": "markdown",
    "tags": []
   },
   "source": [
    "I dropped the \"items\" column from the food dataset because we don't need categorical variables. I used the `a` that was defined earlier when K-means clustering was performed on the food items since it only contains numeric values. "
   ]
  },
  {
   "cell_type": "code",
   "execution_count": 52,
   "metadata": {
    "cell_id": "bb228cfc57524fc7a6ffbd65671db530",
    "deepnote_cell_type": "code",
    "deepnote_to_be_reexecuted": false,
    "execution_millis": 0,
    "execution_start": 1670474065039,
    "source_hash": "ffa8a853",
    "tags": []
   },
   "outputs": [],
   "source": [
    "X = df_food3[a]\n",
    "y = df_food3[\"Store\"]"
   ]
  },
  {
   "cell_type": "code",
   "execution_count": 53,
   "metadata": {
    "cell_id": "594ca4d3487e4f27a746159610a3ee53",
    "deepnote_cell_type": "code",
    "deepnote_to_be_reexecuted": false,
    "execution_millis": 0,
    "execution_start": 1670474065047,
    "source_hash": "adf7df1f",
    "tags": []
   },
   "outputs": [],
   "source": [
    "X_train, X_test, y_train, y_test = train_test_split(X, y, random_state=0)"
   ]
  },
  {
   "cell_type": "markdown",
   "metadata": {
    "cell_id": "e45b466fb5e247cbab55e8d9b005d8af",
    "deepnote_cell_type": "markdown",
    "tags": []
   },
   "source": [
    "While any values can be chosen for `max_leaf_nodes` and `max_depth`, I chose these values because they provided me with one of the highest scores on the test set.  "
   ]
  },
  {
   "cell_type": "code",
   "execution_count": 54,
   "metadata": {
    "cell_id": "db27eb10b24744928e7bd2bd94da091b",
    "deepnote_cell_type": "code",
    "deepnote_to_be_reexecuted": false,
    "execution_millis": 2,
    "execution_start": 1670474065047,
    "source_hash": "e3fae6ed",
    "tags": []
   },
   "outputs": [],
   "source": [
    "clf = DecisionTreeClassifier(max_leaf_nodes=10, max_depth=6)"
   ]
  },
  {
   "cell_type": "code",
   "execution_count": 55,
   "metadata": {
    "cell_id": "64de324a57314b2d961e866c27f80d95",
    "deepnote_cell_type": "code",
    "deepnote_to_be_reexecuted": false,
    "execution_millis": 7,
    "execution_start": 1670474065049,
    "source_hash": "e7844c31",
    "tags": []
   },
   "outputs": [
    {
     "data": {
      "text/plain": [
       "DecisionTreeClassifier(max_depth=6, max_leaf_nodes=10)"
      ]
     },
     "execution_count": 55,
     "metadata": {},
     "output_type": "execute_result"
    }
   ],
   "source": [
    "clf.fit(X_train, y_train)"
   ]
  },
  {
   "cell_type": "code",
   "execution_count": 56,
   "metadata": {
    "cell_id": "23c1dbee35c94b05ad2abfa7ab6a1d44",
    "deepnote_cell_type": "code",
    "deepnote_to_be_reexecuted": false,
    "execution_millis": 17,
    "execution_start": 1670474065057,
    "source_hash": "1342fbfc",
    "tags": []
   },
   "outputs": [
    {
     "data": {
      "text/plain": [
       "0.8121212121212121"
      ]
     },
     "execution_count": 56,
     "metadata": {},
     "output_type": "execute_result"
    }
   ],
   "source": [
    "clf.score(X_train,y_train)"
   ]
  },
  {
   "cell_type": "markdown",
   "metadata": {
    "cell_id": "a028f04a5c204ca2b29308671474e804",
    "deepnote_cell_type": "markdown",
    "tags": []
   },
   "source": [
    "This score on the training set means there is an accuracy of 81.21% on predicting whether a food item is from Starbucks or McDonald's. "
   ]
  },
  {
   "cell_type": "code",
   "execution_count": 57,
   "metadata": {
    "cell_id": "0ea3dd7c9bbd44c88230821da690cea4",
    "deepnote_cell_type": "code",
    "deepnote_to_be_reexecuted": false,
    "execution_millis": 29,
    "execution_start": 1670474065062,
    "source_hash": "a356aeea",
    "tags": []
   },
   "outputs": [
    {
     "data": {
      "text/plain": [
       "0.7142857142857143"
      ]
     },
     "execution_count": 57,
     "metadata": {},
     "output_type": "execute_result"
    }
   ],
   "source": [
    "clf.score(X_test, y_test)"
   ]
  },
  {
   "cell_type": "markdown",
   "metadata": {
    "cell_id": "0fcedabb5dae4a368494f1800fd632a6",
    "deepnote_cell_type": "markdown",
    "tags": []
   },
   "source": [
    "As the accuracy of the training set is not within 5% of the accuracy on the test set, this means that the tree is drastically overfitting the data. However, even after playing around with adding values for `train_size`, and adjusting the `max_depth` and `max_leaf_nodes` values, I was unable to consistently get a higher accuracy score for the training set or the test set. "
   ]
  },
  {
   "cell_type": "code",
   "execution_count": 58,
   "metadata": {
    "cell_id": "9a82e434a871448aa05e929edc7dbed4",
    "deepnote_cell_type": "code",
    "deepnote_to_be_reexecuted": false,
    "execution_millis": 939,
    "execution_start": 1670474065083,
    "source_hash": "252f7848",
    "tags": []
   },
   "outputs": [
    {
     "data": {
      "image/png": "[encoded data removed]",
      "text/plain": [
       "<Figure size 640x480 with 1 Axes>"
      ]
     },
     "metadata": {
      "image/png": {
       "height": 389,
       "width": 515
      }
     },
     "output_type": "display_data"
    }
   ],
   "source": [
    "fig = plt.figure()\n",
    "tree = plot_tree(clf, \n",
    "                   feature_names=clf.feature_names_in_,\n",
    "                   class_names=clf.classes_,\n",
    "                   filled=True)"
   ]
  },
  {
   "cell_type": "markdown",
   "metadata": {
    "cell_id": "0d34d136ab614a91948c0db434d32bee",
    "deepnote_cell_type": "markdown",
    "tags": []
   },
   "source": [
    "## Summary \n",
    "\n",
    "From the datasets that I downloaded from Kaggle, I created 2 datasets that combined Starbucks and McDonald's food and drink items respectively. For the food dataset, I used K-means clustering to group the items by calories. With the clustering, I found a positive relationship between total fat and carbohydrates. Additionally, I used the food dataset and a DecisionTreeClassifier to see if it could predict whether a certain item is from Starbucks or McDonald's. The accuracy of my classifier is only 81%, but shows that I am most likely overfitting my data. For the drink dataset, I performed Linear Regression with multiple input variables and rescaled features. From this, I learned that sugars is the most important of out of the 7 features with respect to calories, so there is a positive relationship between the two. "
   ]
  },
  {
   "cell_type": "markdown",
   "metadata": {
    "cell_id": "5c93f2fe351a4e6fa36a564846468e17",
    "deepnote_cell_type": "markdown",
    "tags": []
   },
   "source": [
    "## References\n",
    "\n",
    "Your code above should include references.  Here is some additional space for references."
   ]
  },
  {
   "cell_type": "markdown",
   "metadata": {
    "cell_id": "a2c5f00571b24ec9a9a46166c2d1bf66",
    "deepnote_cell_type": "markdown",
    "tags": []
   },
   "source": [
    "* What is the source of your dataset(s)?\n",
    "https://www.kaggle.com/datasets/starbucks/starbucks-menu?select=starbucks_drinkMenu_expanded.csv\n",
    "\n",
    "https://www.kaggle.com/datasets/mcdonalds/nutrition-facts"
   ]
  },
  {
   "cell_type": "markdown",
   "metadata": {
    "cell_id": "c40965d7b2244f5c8c6c12360a736aa5",
    "deepnote_cell_type": "markdown",
    "deepnote_to_be_reexecuted": false,
    "execution_millis": 0,
    "execution_start": 1652916033453,
    "source_hash": "aa45eba7",
    "tags": []
   },
   "source": [
    "* List any other references that you found helpful.\n",
    "https://stackabuse.com/k-means-clustering-with-the-elbow-method/\n",
    "https://stackabuse.com/k-means-clustering-with-scikit-learn/\n"
   ]
  },
  {
   "cell_type": "markdown",
   "metadata": {
    "cell_id": "bcd711f5656045dc93253fa231b75b1d",
    "deepnote_cell_type": "markdown",
    "tags": []
   },
   "source": [
    "## Submission\n",
    "\n",
    "Using the Share button at the top right, **enable Comment privileges** for anyone with a link to the project. Then submit that link on Canvas."
   ]
  },
  {
   "cell_type": "markdown",
   "metadata": {
    "created_in_deepnote_cell": true,
    "deepnote_cell_type": "markdown",
    "tags": []
   },
   "source": [
    "<a style='text-decoration:none;line-height:16px;display:flex;color:#5B5B62;padding:10px;justify-content:end;' href='https://deepnote.com?utm_source=created-in-deepnote-cell&projectId=ebce4e71-9da1-44e6-b6a8-cc6651c9d3d3' target=\"_blank\">\n",
    "<img alt='Created in deepnote.com' style='display:inline;max-height:16px;margin:0px;margin-right:7.5px;' src='data:image/svg+xml;base64,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' > </img>\n",
    "Created in <span style='font-weight:600;margin-left:4px;'>Deepnote</span></a>"
   ]
  }
 ],
 "metadata": {
  "deepnote": {
   "is_reactive": false
  },
  "deepnote_execution_queue": [],
  "deepnote_notebook_id": "53fa4de853f54d4b94d78433c735f178",
  "kernelspec": {
   "display_name": "Python 3 (ipykernel)",
   "language": "python",
   "name": "python3"
  },
  "language_info": {
   "codemirror_mode": {
    "name": "ipython",
    "version": 3
   },
   "file_extension": ".py",
   "mimetype": "text/x-python",
   "name": "python",
   "nbconvert_exporter": "python",
   "pygments_lexer": "ipython3",
   "version": "3.9.13"
  }
 },
 "nbformat": 4,
 "nbformat_minor": 4
}
