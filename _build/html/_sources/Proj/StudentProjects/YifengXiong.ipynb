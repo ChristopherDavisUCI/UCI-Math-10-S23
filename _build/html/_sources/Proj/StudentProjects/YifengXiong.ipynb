{
 "cells": [
  {
   "cell_type": "markdown",
   "metadata": {
    "cell_id": "663fd34c3edd4b7397037ea29a1f8fa7",
    "deepnote_cell_type": "markdown",
    "tags": []
   },
   "source": [
    "# Predict Diabetes\n",
    "\n",
    "Author: Yifeng Xiong\n",
    "\n",
    "Course Project, UC Irvine, Math 10, F22"
   ]
  },
  {
   "cell_type": "markdown",
   "metadata": {
    "cell_id": "df9feb3aec8844c483b39fe5d244562c",
    "deepnote_cell_type": "markdown",
    "tags": []
   },
   "source": [
    "## Introduction\n"
   ]
  },
  {
   "cell_type": "markdown",
   "metadata": {
    "cell_id": "fee1de3d40554721a90579568f8c33f0",
    "deepnote_cell_type": "markdown",
    "tags": []
   },
   "source": [
    "Diabetes is one of the more common diseases nowadays. We hope to use machine learning to build some efficient and accurate models to assist doctors in diagnosing the disease. In this dataset, all patients here are females at least 21 years old of Pima Indian heritage. There are 8 features: \n",
    "* Pregnancies\n",
    "* Glucose\n",
    "* BloodPressure\n",
    "* SkinThickness\n",
    "* Insulin\n",
    "* BMI\n",
    "* DiabetesPedigreeFunction\n",
    "* Age"
   ]
  },
  {
   "cell_type": "markdown",
   "metadata": {
    "cell_id": "f3f1ad6c942a4ade94fecd8c78c19634",
    "deepnote_cell_type": "markdown",
    "tags": []
   },
   "source": [
    "## Random state selection"
   ]
  },
  {
   "cell_type": "markdown",
   "metadata": {
    "cell_id": "27a9add2320242cbaee17d3eff5ba354",
    "deepnote_cell_type": "markdown",
    "tags": []
   },
   "source": [
    "Random state in this notebook is set to 42. Because 42 is the answer to the Ultimate Question of Life, the Universe, and Everything. (The Hitchhiker's Guide to the Galaxy by Douglas Adams)"
   ]
  },
  {
   "cell_type": "markdown",
   "metadata": {
    "cell_id": "6500ef97b1034a2e9ff7a0d70eb7fba9",
    "deepnote_cell_type": "markdown",
    "tags": []
   },
   "source": [
    "## Part 0: Import Libraries"
   ]
  },
  {
   "cell_type": "markdown",
   "metadata": {
    "cell_id": "dcaf5deb566c466e9e37d05fc4e729e0",
    "deepnote_cell_type": "markdown",
    "tags": []
   },
   "source": [
    "Libraries and functions that covered in Math 10:"
   ]
  },
  {
   "cell_type": "code",
   "execution_count": 1,
   "metadata": {
    "cell_id": "3178e7b5ee814dbeab073957235059fe",
    "deepnote_cell_type": "code",
    "deepnote_to_be_reexecuted": false,
    "execution_millis": 2878,
    "execution_start": 1670028411269,
    "source_hash": "90b54e35",
    "tags": []
   },
   "outputs": [],
   "source": [
    "import pandas as pd\n",
    "import altair as alt\n",
    "import matplotlib.pyplot as plt\n",
    "from sklearn.model_selection import train_test_split\n",
    "from sklearn.preprocessing import StandardScaler\n",
    "from sklearn.cluster import KMeans\n",
    "from sklearn.tree import DecisionTreeClassifier\n",
    "from sklearn.tree import plot_tree\n",
    "from sklearn.metrics import log_loss\n",
    "from sklearn.ensemble import RandomForestClassifier\n",
    "from sklearn.linear_model import LogisticRegression\n",
    "from sklearn.preprocessing import OneHotEncoder\n",
    "import numpy as np"
   ]
  },
  {
   "cell_type": "markdown",
   "metadata": {
    "cell_id": "f5808925d4f44a2cb769f667e248860d",
    "deepnote_cell_type": "markdown",
    "tags": []
   },
   "source": [
    "Libraries and functions for extra topics:"
   ]
  },
  {
   "cell_type": "code",
   "execution_count": 2,
   "metadata": {
    "cell_id": "123636e39eaf4081b552f188c09934d5",
    "deepnote_cell_type": "code",
    "deepnote_to_be_reexecuted": false,
    "execution_millis": 2805,
    "execution_start": 1670028414149,
    "source_hash": "2436fe84",
    "tags": []
   },
   "outputs": [
    {
     "name": "stderr",
     "output_type": "stream",
     "text": [
      "/shared-libs/python3.10/py/lib/python3.10/site-packages/tqdm/auto.py:22: TqdmWarning: IProgress not found. Please update jupyter and ipywidgets. See https://ipywidgets.readthedocs.io/en/stable/user_install.html\n",
      "  from .autonotebook import tqdm as notebook_tqdm\n"
     ]
    }
   ],
   "source": [
    "from sklearn.decomposition import PCA\n",
    "import torch\n",
    "import torch.nn as nn\n",
    "from torch.utils.data import Dataset\n",
    "from torch.utils.data import DataLoader"
   ]
  },
  {
   "cell_type": "markdown",
   "metadata": {
    "cell_id": "9a7dc63a4ef847d5b50ccb4d82cd3298",
    "deepnote_cell_type": "markdown",
    "tags": []
   },
   "source": [
    "## Part 1: Load and Preprocess Data\n",
    "\n",
    "In this section, I will load the data using pandas, take a brief view of the data, and create train and test dataset."
   ]
  },
  {
   "cell_type": "markdown",
   "metadata": {
    "cell_id": "abdaa41505b14c669a52989ef36d0a87",
    "deepnote_cell_type": "markdown",
    "tags": []
   },
   "source": [
    "Firstly, let's load the dataset and take a look at the first five rows."
   ]
  },
  {
   "cell_type": "code",
   "execution_count": 3,
   "metadata": {
    "cell_id": "6b9eb2ec9fc4415e954eb017a075533f",
    "deepnote_cell_type": "code",
    "deepnote_to_be_reexecuted": false,
    "execution_millis": 39,
    "execution_start": 1670028416959,
    "source_hash": "d8d9eaaa",
    "tags": []
   },
   "outputs": [
    {
     "data": {
      "application/vnd.deepnote.dataframe.v3+json": {
       "column_count": 9,
       "columns": [
        {
         "dtype": "int64",
         "name": "Pregnancies",
         "stats": {
          "histogram": [
           {
            "bin_end": 0.8,
            "bin_start": 0,
            "count": 1
           },
           {
            "bin_end": 1.6,
            "bin_start": 0.8,
            "count": 2
           },
           {
            "bin_end": 2.4000000000000004,
            "bin_start": 1.6,
            "count": 0
           },
           {
            "bin_end": 3.2,
            "bin_start": 2.4000000000000004,
            "count": 0
           },
           {
            "bin_end": 4,
            "bin_start": 3.2,
            "count": 0
           },
           {
            "bin_end": 4.800000000000001,
            "bin_start": 4,
            "count": 0
           },
           {
            "bin_end": 5.6000000000000005,
            "bin_start": 4.800000000000001,
            "count": 0
           },
           {
            "bin_end": 6.4,
            "bin_start": 5.6000000000000005,
            "count": 1
           },
           {
            "bin_end": 7.2,
            "bin_start": 6.4,
            "count": 0
           },
           {
            "bin_end": 8,
            "bin_start": 7.2,
            "count": 1
           }
          ],
          "max": "8",
          "min": "0",
          "nan_count": 0,
          "unique_count": 4
         }
        },
        {
         "dtype": "int64",
         "name": "Glucose",
         "stats": {
          "histogram": [
           {
            "bin_end": 94.8,
            "bin_start": 85,
            "count": 2
           },
           {
            "bin_end": 104.6,
            "bin_start": 94.8,
            "count": 0
           },
           {
            "bin_end": 114.4,
            "bin_start": 104.6,
            "count": 0
           },
           {
            "bin_end": 124.2,
            "bin_start": 114.4,
            "count": 0
           },
           {
            "bin_end": 134,
            "bin_start": 124.2,
            "count": 0
           },
           {
            "bin_end": 143.8,
            "bin_start": 134,
            "count": 1
           },
           {
            "bin_end": 153.60000000000002,
            "bin_start": 143.8,
            "count": 1
           },
           {
            "bin_end": 163.4,
            "bin_start": 153.60000000000002,
            "count": 0
           },
           {
            "bin_end": 173.2,
            "bin_start": 163.4,
            "count": 0
           },
           {
            "bin_end": 183,
            "bin_start": 173.2,
            "count": 1
           }
          ],
          "max": "183",
          "min": "85",
          "nan_count": 0,
          "unique_count": 5
         }
        },
        {
         "dtype": "int64",
         "name": "BloodPressure",
         "stats": {
          "histogram": [
           {
            "bin_end": 43.2,
            "bin_start": 40,
            "count": 1
           },
           {
            "bin_end": 46.4,
            "bin_start": 43.2,
            "count": 0
           },
           {
            "bin_end": 49.6,
            "bin_start": 46.4,
            "count": 0
           },
           {
            "bin_end": 52.8,
            "bin_start": 49.6,
            "count": 0
           },
           {
            "bin_end": 56,
            "bin_start": 52.8,
            "count": 0
           },
           {
            "bin_end": 59.2,
            "bin_start": 56,
            "count": 0
           },
           {
            "bin_end": 62.400000000000006,
            "bin_start": 59.2,
            "count": 0
           },
           {
            "bin_end": 65.6,
            "bin_start": 62.400000000000006,
            "count": 1
           },
           {
            "bin_end": 68.8,
            "bin_start": 65.6,
            "count": 2
           },
           {
            "bin_end": 72,
            "bin_start": 68.8,
            "count": 1
           }
          ],
          "max": "72",
          "min": "40",
          "nan_count": 0,
          "unique_count": 4
         }
        },
        {
         "dtype": "int64",
         "name": "SkinThickness",
         "stats": {
          "histogram": [
           {
            "bin_end": 3.5,
            "bin_start": 0,
            "count": 1
           },
           {
            "bin_end": 7,
            "bin_start": 3.5,
            "count": 0
           },
           {
            "bin_end": 10.5,
            "bin_start": 7,
            "count": 0
           },
           {
            "bin_end": 14,
            "bin_start": 10.5,
            "count": 0
           },
           {
            "bin_end": 17.5,
            "bin_start": 14,
            "count": 0
           },
           {
            "bin_end": 21,
            "bin_start": 17.5,
            "count": 0
           },
           {
            "bin_end": 24.5,
            "bin_start": 21,
            "count": 1
           },
           {
            "bin_end": 28,
            "bin_start": 24.5,
            "count": 0
           },
           {
            "bin_end": 31.5,
            "bin_start": 28,
            "count": 1
           },
           {
            "bin_end": 35,
            "bin_start": 31.5,
            "count": 2
           }
          ],
          "max": "35",
          "min": "0",
          "nan_count": 0,
          "unique_count": 4
         }
        },
        {
         "dtype": "int64",
         "name": "Insulin",
         "stats": {
          "histogram": [
           {
            "bin_end": 16.8,
            "bin_start": 0,
            "count": 3
           },
           {
            "bin_end": 33.6,
            "bin_start": 16.8,
            "count": 0
           },
           {
            "bin_end": 50.400000000000006,
            "bin_start": 33.6,
            "count": 0
           },
           {
            "bin_end": 67.2,
            "bin_start": 50.400000000000006,
            "count": 0
           },
           {
            "bin_end": 84,
            "bin_start": 67.2,
            "count": 0
           },
           {
            "bin_end": 100.80000000000001,
            "bin_start": 84,
            "count": 1
           },
           {
            "bin_end": 117.60000000000001,
            "bin_start": 100.80000000000001,
            "count": 0
           },
           {
            "bin_end": 134.4,
            "bin_start": 117.60000000000001,
            "count": 0
           },
           {
            "bin_end": 151.20000000000002,
            "bin_start": 134.4,
            "count": 0
           },
           {
            "bin_end": 168,
            "bin_start": 151.20000000000002,
            "count": 1
           }
          ],
          "max": "168",
          "min": "0",
          "nan_count": 0,
          "unique_count": 3
         }
        },
        {
         "dtype": "float64",
         "name": "BMI",
         "stats": {
          "histogram": [
           {
            "bin_end": 25.28,
            "bin_start": 23.3,
            "count": 1
           },
           {
            "bin_end": 27.26,
            "bin_start": 25.28,
            "count": 1
           },
           {
            "bin_end": 29.240000000000002,
            "bin_start": 27.26,
            "count": 1
           },
           {
            "bin_end": 31.22,
            "bin_start": 29.240000000000002,
            "count": 0
           },
           {
            "bin_end": 33.2,
            "bin_start": 31.22,
            "count": 0
           },
           {
            "bin_end": 35.18,
            "bin_start": 33.2,
            "count": 1
           },
           {
            "bin_end": 37.16,
            "bin_start": 35.18,
            "count": 0
           },
           {
            "bin_end": 39.14,
            "bin_start": 37.16,
            "count": 0
           },
           {
            "bin_end": 41.120000000000005,
            "bin_start": 39.14,
            "count": 0
           },
           {
            "bin_end": 43.1,
            "bin_start": 41.120000000000005,
            "count": 1
           }
          ],
          "max": "43.1",
          "min": "23.3",
          "nan_count": 0,
          "unique_count": 5
         }
        },
        {
         "dtype": "float64",
         "name": "DiabetesPedigreeFunction",
         "stats": {
          "histogram": [
           {
            "bin_end": 0.3791,
            "bin_start": 0.167,
            "count": 2
           },
           {
            "bin_end": 0.5912000000000001,
            "bin_start": 0.3791,
            "count": 0
           },
           {
            "bin_end": 0.8033000000000001,
            "bin_start": 0.5912000000000001,
            "count": 2
           },
           {
            "bin_end": 1.0154,
            "bin_start": 0.8033000000000001,
            "count": 0
           },
           {
            "bin_end": 1.2275,
            "bin_start": 1.0154,
            "count": 0
           },
           {
            "bin_end": 1.4396000000000002,
            "bin_start": 1.2275,
            "count": 0
           },
           {
            "bin_end": 1.6517000000000002,
            "bin_start": 1.4396000000000002,
            "count": 0
           },
           {
            "bin_end": 1.8638000000000001,
            "bin_start": 1.6517000000000002,
            "count": 0
           },
           {
            "bin_end": 2.0759,
            "bin_start": 1.8638000000000001,
            "count": 0
           },
           {
            "bin_end": 2.288,
            "bin_start": 2.0759,
            "count": 1
           }
          ],
          "max": "2.288",
          "min": "0.167",
          "nan_count": 0,
          "unique_count": 5
         }
        },
        {
         "dtype": "int64",
         "name": "Age",
         "stats": {
          "histogram": [
           {
            "bin_end": 23.9,
            "bin_start": 21,
            "count": 1
           },
           {
            "bin_end": 26.8,
            "bin_start": 23.9,
            "count": 0
           },
           {
            "bin_end": 29.7,
            "bin_start": 26.8,
            "count": 0
           },
           {
            "bin_end": 32.6,
            "bin_start": 29.7,
            "count": 2
           },
           {
            "bin_end": 35.5,
            "bin_start": 32.6,
            "count": 1
           },
           {
            "bin_end": 38.4,
            "bin_start": 35.5,
            "count": 0
           },
           {
            "bin_end": 41.3,
            "bin_start": 38.4,
            "count": 0
           },
           {
            "bin_end": 44.2,
            "bin_start": 41.3,
            "count": 0
           },
           {
            "bin_end": 47.099999999999994,
            "bin_start": 44.2,
            "count": 0
           },
           {
            "bin_end": 50,
            "bin_start": 47.099999999999994,
            "count": 1
           }
          ],
          "max": "50",
          "min": "21",
          "nan_count": 0,
          "unique_count": 5
         }
        },
        {
         "dtype": "int64",
         "name": "Outcome",
         "stats": {
          "histogram": [
           {
            "bin_end": 0.1,
            "bin_start": 0,
            "count": 2
           },
           {
            "bin_end": 0.2,
            "bin_start": 0.1,
            "count": 0
           },
           {
            "bin_end": 0.30000000000000004,
            "bin_start": 0.2,
            "count": 0
           },
           {
            "bin_end": 0.4,
            "bin_start": 0.30000000000000004,
            "count": 0
           },
           {
            "bin_end": 0.5,
            "bin_start": 0.4,
            "count": 0
           },
           {
            "bin_end": 0.6000000000000001,
            "bin_start": 0.5,
            "count": 0
           },
           {
            "bin_end": 0.7000000000000001,
            "bin_start": 0.6000000000000001,
            "count": 0
           },
           {
            "bin_end": 0.8,
            "bin_start": 0.7000000000000001,
            "count": 0
           },
           {
            "bin_end": 0.9,
            "bin_start": 0.8,
            "count": 0
           },
           {
            "bin_end": 1,
            "bin_start": 0.9,
            "count": 3
           }
          ],
          "max": "1",
          "min": "0",
          "nan_count": 0,
          "unique_count": 2
         }
        },
        {
         "dtype": "int64",
         "name": "_deepnote_index_column"
        }
       ],
       "row_count": 5,
       "rows": [
        {
         "Age": "50",
         "BMI": "33.6",
         "BloodPressure": "72",
         "DiabetesPedigreeFunction": "0.627",
         "Glucose": "148",
         "Insulin": "0",
         "Outcome": "1",
         "Pregnancies": "6",
         "SkinThickness": "35",
         "_deepnote_index_column": "0"
        },
        {
         "Age": "31",
         "BMI": "26.6",
         "BloodPressure": "66",
         "DiabetesPedigreeFunction": "0.351",
         "Glucose": "85",
         "Insulin": "0",
         "Outcome": "0",
         "Pregnancies": "1",
         "SkinThickness": "29",
         "_deepnote_index_column": "1"
        },
        {
         "Age": "32",
         "BMI": "23.3",
         "BloodPressure": "64",
         "DiabetesPedigreeFunction": "0.672",
         "Glucose": "183",
         "Insulin": "0",
         "Outcome": "1",
         "Pregnancies": "8",
         "SkinThickness": "0",
         "_deepnote_index_column": "2"
        },
        {
         "Age": "21",
         "BMI": "28.1",
         "BloodPressure": "66",
         "DiabetesPedigreeFunction": "0.167",
         "Glucose": "89",
         "Insulin": "94",
         "Outcome": "0",
         "Pregnancies": "1",
         "SkinThickness": "23",
         "_deepnote_index_column": "3"
        },
        {
         "Age": "33",
         "BMI": "43.1",
         "BloodPressure": "40",
         "DiabetesPedigreeFunction": "2.288",
         "Glucose": "137",
         "Insulin": "168",
         "Outcome": "1",
         "Pregnancies": "0",
         "SkinThickness": "35",
         "_deepnote_index_column": "4"
        }
       ]
      },
      "text/html": [
       "<div>\n",
       "<style scoped>\n",
       "    .dataframe tbody tr th:only-of-type {\n",
       "        vertical-align: middle;\n",
       "    }\n",
       "\n",
       "    .dataframe tbody tr th {\n",
       "        vertical-align: top;\n",
       "    }\n",
       "\n",
       "    .dataframe thead th {\n",
       "        text-align: right;\n",
       "    }\n",
       "</style>\n",
       "<table border=\"1\" class=\"dataframe\">\n",
       "  <thead>\n",
       "    <tr style=\"text-align: right;\">\n",
       "      <th></th>\n",
       "      <th>Pregnancies</th>\n",
       "      <th>Glucose</th>\n",
       "      <th>BloodPressure</th>\n",
       "      <th>SkinThickness</th>\n",
       "      <th>Insulin</th>\n",
       "      <th>BMI</th>\n",
       "      <th>DiabetesPedigreeFunction</th>\n",
       "      <th>Age</th>\n",
       "      <th>Outcome</th>\n",
       "    </tr>\n",
       "  </thead>\n",
       "  <tbody>\n",
       "    <tr>\n",
       "      <th>0</th>\n",
       "      <td>6</td>\n",
       "      <td>148</td>\n",
       "      <td>72</td>\n",
       "      <td>35</td>\n",
       "      <td>0</td>\n",
       "      <td>33.6</td>\n",
       "      <td>0.627</td>\n",
       "      <td>50</td>\n",
       "      <td>1</td>\n",
       "    </tr>\n",
       "    <tr>\n",
       "      <th>1</th>\n",
       "      <td>1</td>\n",
       "      <td>85</td>\n",
       "      <td>66</td>\n",
       "      <td>29</td>\n",
       "      <td>0</td>\n",
       "      <td>26.6</td>\n",
       "      <td>0.351</td>\n",
       "      <td>31</td>\n",
       "      <td>0</td>\n",
       "    </tr>\n",
       "    <tr>\n",
       "      <th>2</th>\n",
       "      <td>8</td>\n",
       "      <td>183</td>\n",
       "      <td>64</td>\n",
       "      <td>0</td>\n",
       "      <td>0</td>\n",
       "      <td>23.3</td>\n",
       "      <td>0.672</td>\n",
       "      <td>32</td>\n",
       "      <td>1</td>\n",
       "    </tr>\n",
       "    <tr>\n",
       "      <th>3</th>\n",
       "      <td>1</td>\n",
       "      <td>89</td>\n",
       "      <td>66</td>\n",
       "      <td>23</td>\n",
       "      <td>94</td>\n",
       "      <td>28.1</td>\n",
       "      <td>0.167</td>\n",
       "      <td>21</td>\n",
       "      <td>0</td>\n",
       "    </tr>\n",
       "    <tr>\n",
       "      <th>4</th>\n",
       "      <td>0</td>\n",
       "      <td>137</td>\n",
       "      <td>40</td>\n",
       "      <td>35</td>\n",
       "      <td>168</td>\n",
       "      <td>43.1</td>\n",
       "      <td>2.288</td>\n",
       "      <td>33</td>\n",
       "      <td>1</td>\n",
       "    </tr>\n",
       "  </tbody>\n",
       "</table>\n",
       "</div>"
      ],
      "text/plain": [
       "   Pregnancies  Glucose  BloodPressure  SkinThickness  Insulin   BMI  \\\n",
       "0            6      148             72             35        0  33.6   \n",
       "1            1       85             66             29        0  26.6   \n",
       "2            8      183             64              0        0  23.3   \n",
       "3            1       89             66             23       94  28.1   \n",
       "4            0      137             40             35      168  43.1   \n",
       "\n",
       "   DiabetesPedigreeFunction  Age  Outcome  \n",
       "0                     0.627   50        1  \n",
       "1                     0.351   31        0  \n",
       "2                     0.672   32        1  \n",
       "3                     0.167   21        0  \n",
       "4                     2.288   33        1  "
      ]
     },
     "execution_count": 3,
     "metadata": {},
     "output_type": "execute_result"
    }
   ],
   "source": [
    "df = pd.read_csv(\"diabetes.csv\")\n",
    "df.head()"
   ]
  },
  {
   "cell_type": "markdown",
   "metadata": {
    "cell_id": "a678e5bfddd24e039e5bcad5d6cd00e7",
    "deepnote_cell_type": "markdown",
    "tags": []
   },
   "source": [
    "The dataset has 9 features in total, and the last feature is the one we want to predict. Class 1 means \"tested positive for diabetes.\""
   ]
  },
  {
   "cell_type": "markdown",
   "metadata": {
    "cell_id": "ad89a7bc2c014906a5abe3b79ed2dc6b",
    "deepnote_cell_type": "markdown",
    "tags": []
   },
   "source": [
    "Let's take a look at the shape of the dataframe."
   ]
  },
  {
   "cell_type": "code",
   "execution_count": 4,
   "metadata": {
    "cell_id": "4258c2bc227045fdb35361f8f82731fe",
    "deepnote_cell_type": "code",
    "deepnote_to_be_reexecuted": false,
    "execution_millis": 6,
    "execution_start": 1670028416999,
    "source_hash": "14f60b8f",
    "tags": []
   },
   "outputs": [
    {
     "data": {
      "text/plain": [
       "(768, 9)"
      ]
     },
     "execution_count": 4,
     "metadata": {},
     "output_type": "execute_result"
    }
   ],
   "source": [
    "df.shape"
   ]
  },
  {
   "cell_type": "markdown",
   "metadata": {
    "cell_id": "00b0012da44a49558b7b8470016956db",
    "deepnote_cell_type": "markdown",
    "tags": []
   },
   "source": [
    "It's also important to check whether there is nan in each column. And based on the result below, we do not need to drop any rows."
   ]
  },
  {
   "cell_type": "code",
   "execution_count": 5,
   "metadata": {
    "cell_id": "d68661d1328349509957c1c810b6882a",
    "deepnote_cell_type": "code",
    "deepnote_to_be_reexecuted": false,
    "execution_millis": 4,
    "execution_start": 1670028417007,
    "source_hash": "db139358",
    "tags": []
   },
   "outputs": [
    {
     "data": {
      "text/plain": [
       "Pregnancies                 False\n",
       "Glucose                     False\n",
       "BloodPressure               False\n",
       "SkinThickness               False\n",
       "Insulin                     False\n",
       "BMI                         False\n",
       "DiabetesPedigreeFunction    False\n",
       "Age                         False\n",
       "Outcome                     False\n",
       "dtype: bool"
      ]
     },
     "execution_count": 5,
     "metadata": {},
     "output_type": "execute_result"
    }
   ],
   "source": [
    "df.isna().any(axis=0)"
   ]
  },
  {
   "cell_type": "markdown",
   "metadata": {
    "cell_id": "4634bf98f8a84fd5bc9359fe6826fab7",
    "deepnote_cell_type": "markdown",
    "tags": []
   },
   "source": [
    "**Extra 1** (code from Hands-on Machine Learning with Scikit-Learn, Keras & TensorFlow page 49)"
   ]
  },
  {
   "cell_type": "code",
   "execution_count": 6,
   "metadata": {
    "cell_id": "56e0e617210e461586cfa40651fec8a9",
    "deepnote_cell_type": "code",
    "deepnote_to_be_reexecuted": false,
    "execution_millis": 1905,
    "execution_start": 1670028417013,
    "source_hash": "e454ab53",
    "tags": []
   },
   "outputs": [
    {
     "data": {
      "image/png": "[encoded data removed]",
      "text/plain": [
       "<Figure size 1500x1000 with 9 Axes>"
      ]
     },
     "metadata": {
      "image/png": {
       "height": 836,
       "width": 1218
      }
     },
     "output_type": "display_data"
    }
   ],
   "source": [
    "df.hist(bins=50,figsize=(15,10))\n",
    "plt.show()"
   ]
  },
  {
   "cell_type": "markdown",
   "metadata": {
    "cell_id": "913df40f2c9f45148cf158c434ac0c74",
    "deepnote_cell_type": "markdown",
    "tags": []
   },
   "source": [
    "Based on the figure, we can see each feature has different range. I will use StandardScaler if needed."
   ]
  },
  {
   "cell_type": "markdown",
   "metadata": {
    "cell_id": "0bec10eb46f7425fa9ff38a31f9e5a8d",
    "deepnote_cell_type": "markdown",
    "tags": []
   },
   "source": [
    "It is important to split the training data and test data early. So that we will use no information from test data."
   ]
  },
  {
   "cell_type": "code",
   "execution_count": 7,
   "metadata": {
    "cell_id": "bd325b81debb4c96bf6e2910e9ee4f93",
    "deepnote_cell_type": "code",
    "deepnote_to_be_reexecuted": false,
    "execution_millis": 3,
    "execution_start": 1670028418915,
    "source_hash": "5934577f",
    "tags": []
   },
   "outputs": [],
   "source": [
    "input_cols = [c for c in df.columns if c != \"Outcome\"]\n",
    "X = df[input_cols]\n",
    "y = df[\"Outcome\"]\n",
    "X_train, X_test, y_train, y_test = train_test_split(X, y, train_size=0.8, random_state=42)"
   ]
  },
  {
   "cell_type": "markdown",
   "metadata": {
    "cell_id": "04811ed5640947acb759056ec5adc87f",
    "deepnote_cell_type": "markdown",
    "tags": []
   },
   "source": [
    "Some models may need scaled data, so let's do it now."
   ]
  },
  {
   "cell_type": "code",
   "execution_count": 8,
   "metadata": {
    "cell_id": "82649a674e5d4c38b0c8ffc3b5541b1b",
    "deepnote_cell_type": "code",
    "deepnote_to_be_reexecuted": false,
    "execution_millis": 8,
    "execution_start": 1670028418921,
    "source_hash": "2f799e7b",
    "tags": []
   },
   "outputs": [],
   "source": [
    "scaler = StandardScaler()\n",
    "scaler.fit(X_train)\n",
    "X_train_scaled = X_train.copy()\n",
    "X_train_scaled[X_train.columns] = scaler.transform(X_train)"
   ]
  },
  {
   "cell_type": "markdown",
   "metadata": {
    "cell_id": "7809b140f8eb479b95c6ca41d7d20751",
    "deepnote_cell_type": "markdown",
    "tags": []
   },
   "source": [
    "We also need to scale the test data.\n",
    "However, we should **not** create a new StandardScaler but just use the one from training data."
   ]
  },
  {
   "cell_type": "code",
   "execution_count": 9,
   "metadata": {
    "cell_id": "c5bab916262141dea8195480b7d9537c",
    "deepnote_cell_type": "code",
    "deepnote_to_be_reexecuted": false,
    "execution_millis": 2,
    "execution_start": 1670028418934,
    "source_hash": "6a7f8d24",
    "tags": []
   },
   "outputs": [],
   "source": [
    "X_test_scaled = X_test.copy()\n",
    "X_test_scaled[X_test.columns] = scaler.transform(X_test)"
   ]
  },
  {
   "cell_type": "markdown",
   "metadata": {
    "cell_id": "bfd66e76b7e3455499f192f14a913fc8",
    "deepnote_cell_type": "markdown",
    "tags": []
   },
   "source": [
    "**Extra 2**\n",
    "Another way to take a brief look of the dataset. Based on the result, we can say now all features in X_train_scaled are much closer."
   ]
  },
  {
   "cell_type": "code",
   "execution_count": 10,
   "metadata": {
    "cell_id": "e1d31b4dd62840de894067f57888279f",
    "deepnote_cell_type": "code",
    "deepnote_to_be_reexecuted": false,
    "execution_millis": 54,
    "execution_start": 1670028418941,
    "source_hash": "87ee9eb",
    "tags": []
   },
   "outputs": [
    {
     "data": {
      "application/vnd.deepnote.dataframe.v3+json": {
       "column_count": 8,
       "columns": [
        {
         "dtype": "float64",
         "name": "Pregnancies",
         "stats": {
          "histogram": [
           {
            "bin_end": 60.382528982517094,
            "bin_start": -1.130523352758785,
            "count": 7
           },
           {
            "bin_end": 121.89558131779297,
            "bin_start": 60.382528982517094,
            "count": 0
           },
           {
            "bin_end": 183.40863365306885,
            "bin_start": 121.89558131779297,
            "count": 0
           },
           {
            "bin_end": 244.92168598834473,
            "bin_start": 183.40863365306885,
            "count": 0
           },
           {
            "bin_end": 306.43473832362065,
            "bin_start": 244.92168598834473,
            "count": 0
           },
           {
            "bin_end": 367.9477906588965,
            "bin_start": 306.43473832362065,
            "count": 0
           },
           {
            "bin_end": 429.4608429941724,
            "bin_start": 367.9477906588965,
            "count": 0
           },
           {
            "bin_end": 490.9738953294483,
            "bin_start": 429.4608429941724,
            "count": 0
           },
           {
            "bin_end": 552.4869476647241,
            "bin_start": 490.9738953294483,
            "count": 0
           },
           {
            "bin_end": 614,
            "bin_start": 552.4869476647241,
            "count": 1
           }
          ],
          "max": "614.0",
          "min": "-1.130523352758785",
          "nan_count": 0,
          "unique_count": 8
         }
        },
        {
         "dtype": "float64",
         "name": "Glucose",
         "stats": {
          "histogram": [
           {
            "bin_end": 58.00190310419736,
            "bin_start": -3.775663217558494,
            "count": 7
           },
           {
            "bin_end": 119.77946942595322,
            "bin_start": 58.00190310419736,
            "count": 0
           },
           {
            "bin_end": 181.55703574770908,
            "bin_start": 119.77946942595322,
            "count": 0
           },
           {
            "bin_end": 243.33460206946492,
            "bin_start": 181.55703574770908,
            "count": 0
           },
           {
            "bin_end": 305.1121683912208,
            "bin_start": 243.33460206946492,
            "count": 0
           },
           {
            "bin_end": 366.8897347129767,
            "bin_start": 305.1121683912208,
            "count": 0
           },
           {
            "bin_end": 428.66730103473253,
            "bin_start": 366.8897347129767,
            "count": 0
           },
           {
            "bin_end": 490.4448673564884,
            "bin_start": 428.66730103473253,
            "count": 0
           },
           {
            "bin_end": 552.2224336782442,
            "bin_start": 490.4448673564884,
            "count": 0
           },
           {
            "bin_end": 614,
            "bin_start": 552.2224336782442,
            "count": 1
           }
          ],
          "max": "614.0",
          "min": "-3.775663217558494",
          "nan_count": 0,
          "unique_count": 8
         }
        },
        {
         "dtype": "float64",
         "name": "BloodPressure",
         "stats": {
          "histogram": [
           {
            "bin_end": 58.02258570498326,
            "bin_start": -3.7526825500185965,
            "count": 7
           },
           {
            "bin_end": 119.79785395998512,
            "bin_start": 58.02258570498326,
            "count": 0
           },
           {
            "bin_end": 181.57312221498697,
            "bin_start": 119.79785395998512,
            "count": 0
           },
           {
            "bin_end": 243.34839046998883,
            "bin_start": 181.57312221498697,
            "count": 0
           },
           {
            "bin_end": 305.12365872499066,
            "bin_start": 243.34839046998883,
            "count": 0
           },
           {
            "bin_end": 366.8989269799925,
            "bin_start": 305.12365872499066,
            "count": 0
           },
           {
            "bin_end": 428.6741952349944,
            "bin_start": 366.8989269799925,
            "count": 0
           },
           {
            "bin_end": 490.4494634899962,
            "bin_start": 428.6741952349944,
            "count": 0
           },
           {
            "bin_end": 552.2247317449982,
            "bin_start": 490.4494634899962,
            "count": 0
           },
           {
            "bin_end": 614,
            "bin_start": 552.2247317449982,
            "count": 1
           }
          ],
          "max": "614.0",
          "min": "-3.7526825500185965",
          "nan_count": 0,
          "unique_count": 8
         }
        },
        {
         "dtype": "float64",
         "name": "SkinThickness",
         "stats": {
          "histogram": [
           {
            "bin_end": 60.20950371851638,
            "bin_start": -1.3227736460929056,
            "count": 7
           },
           {
            "bin_end": 121.74178108312566,
            "bin_start": 60.20950371851638,
            "count": 0
           },
           {
            "bin_end": 183.27405844773494,
            "bin_start": 121.74178108312566,
            "count": 0
           },
           {
            "bin_end": 244.80633581234423,
            "bin_start": 183.27405844773494,
            "count": 0
           },
           {
            "bin_end": 306.3386131769535,
            "bin_start": 244.80633581234423,
            "count": 0
           },
           {
            "bin_end": 367.8708905415628,
            "bin_start": 306.3386131769535,
            "count": 0
           },
           {
            "bin_end": 429.4031679061721,
            "bin_start": 367.8708905415628,
            "count": 0
           },
           {
            "bin_end": 490.9354452707814,
            "bin_start": 429.4031679061721,
            "count": 0
           },
           {
            "bin_end": 552.4677226353907,
            "bin_start": 490.9354452707814,
            "count": 0
           },
           {
            "bin_end": 614,
            "bin_start": 552.4677226353907,
            "count": 1
           }
          ],
          "max": "614.0",
          "min": "-1.3227736460929056",
          "nan_count": 0,
          "unique_count": 7
         }
        },
        {
         "dtype": "float64",
         "name": "Insulin",
         "stats": {
          "histogram": [
           {
            "bin_end": 60.76891502124257,
            "bin_start": -0.7012055319527012,
            "count": 7
           },
           {
            "bin_end": 122.23903557443785,
            "bin_start": 60.76891502124257,
            "count": 0
           },
           {
            "bin_end": 183.70915612763312,
            "bin_start": 122.23903557443785,
            "count": 0
           },
           {
            "bin_end": 245.1792766808284,
            "bin_start": 183.70915612763312,
            "count": 0
           },
           {
            "bin_end": 306.64939723402364,
            "bin_start": 245.1792766808284,
            "count": 0
           },
           {
            "bin_end": 368.1195177872189,
            "bin_start": 306.64939723402364,
            "count": 0
           },
           {
            "bin_end": 429.5896383404142,
            "bin_start": 368.1195177872189,
            "count": 0
           },
           {
            "bin_end": 491.05975889360946,
            "bin_start": 429.5896383404142,
            "count": 0
           },
           {
            "bin_end": 552.5298794468048,
            "bin_start": 491.05975889360946,
            "count": 0
           },
           {
            "bin_end": 614,
            "bin_start": 552.5298794468048,
            "count": 1
           }
          ],
          "max": "614.0",
          "min": "-0.7012055319527012",
          "nan_count": 0,
          "unique_count": 7
         }
        },
        {
         "dtype": "float64",
         "name": "BMI",
         "stats": {
          "histogram": [
           {
            "bin_end": 57.67826979926027,
            "bin_start": -4.135255778599698,
            "count": 7
           },
           {
            "bin_end": 119.49179537712024,
            "bin_start": 57.67826979926027,
            "count": 0
           },
           {
            "bin_end": 181.30532095498023,
            "bin_start": 119.49179537712024,
            "count": 0
           },
           {
            "bin_end": 243.1188465328402,
            "bin_start": 181.30532095498023,
            "count": 0
           },
           {
            "bin_end": 304.93237211070016,
            "bin_start": 243.1188465328402,
            "count": 0
           },
           {
            "bin_end": 366.74589768856015,
            "bin_start": 304.93237211070016,
            "count": 0
           },
           {
            "bin_end": 428.5594232664201,
            "bin_start": 366.74589768856015,
            "count": 0
           },
           {
            "bin_end": 490.3729488442801,
            "bin_start": 428.5594232664201,
            "count": 0
           },
           {
            "bin_end": 552.18647442214,
            "bin_start": 490.3729488442801,
            "count": 0
           },
           {
            "bin_end": 614,
            "bin_start": 552.18647442214,
            "count": 1
           }
          ],
          "max": "614.0",
          "min": "-4.135255778599698",
          "nan_count": 0,
          "unique_count": 8
         }
        },
        {
         "dtype": "float64",
         "name": "DiabetesPedigreeFunction",
         "stats": {
          "histogram": [
           {
            "bin_end": 60.35401093867909,
            "bin_start": -1.1622100681343395,
            "count": 7
           },
           {
            "bin_end": 121.87023194549252,
            "bin_start": 60.35401093867909,
            "count": 0
           },
           {
            "bin_end": 183.38645295230597,
            "bin_start": 121.87023194549252,
            "count": 0
           },
           {
            "bin_end": 244.9026739591194,
            "bin_start": 183.38645295230597,
            "count": 0
           },
           {
            "bin_end": 306.4188949659328,
            "bin_start": 244.9026739591194,
            "count": 0
           },
           {
            "bin_end": 367.93511597274625,
            "bin_start": 306.4188949659328,
            "count": 0
           },
           {
            "bin_end": 429.45133697955964,
            "bin_start": 367.93511597274625,
            "count": 0
           },
           {
            "bin_end": 490.9675579863731,
            "bin_start": 429.45133697955964,
            "count": 0
           },
           {
            "bin_end": 552.4837789931865,
            "bin_start": 490.9675579863731,
            "count": 0
           },
           {
            "bin_end": 614,
            "bin_start": 552.4837789931865,
            "count": 1
           }
          ],
          "max": "614.0",
          "min": "-1.1622100681343395",
          "nan_count": 0,
          "unique_count": 8
         }
        },
        {
         "dtype": "float64",
         "name": "Age",
         "stats": {
          "histogram": [
           {
            "bin_end": 60.4676536585447,
            "bin_start": -1.035940379394779,
            "count": 7
           },
           {
            "bin_end": 121.97124769648418,
            "bin_start": 60.4676536585447,
            "count": 0
           },
           {
            "bin_end": 183.47484173442365,
            "bin_start": 121.97124769648418,
            "count": 0
           },
           {
            "bin_end": 244.97843577236313,
            "bin_start": 183.47484173442365,
            "count": 0
           },
           {
            "bin_end": 306.4820298103026,
            "bin_start": 244.97843577236313,
            "count": 0
           },
           {
            "bin_end": 367.9856238482421,
            "bin_start": 306.4820298103026,
            "count": 0
           },
           {
            "bin_end": 429.48921788618156,
            "bin_start": 367.9856238482421,
            "count": 0
           },
           {
            "bin_end": 490.99281192412104,
            "bin_start": 429.48921788618156,
            "count": 0
           },
           {
            "bin_end": 552.4964059620605,
            "bin_start": 490.99281192412104,
            "count": 0
           },
           {
            "bin_end": 614,
            "bin_start": 552.4964059620605,
            "count": 1
           }
          ],
          "max": "614.0",
          "min": "-1.035940379394779",
          "nan_count": 0,
          "unique_count": 8
         }
        },
        {
         "dtype": "object",
         "name": "_deepnote_index_column"
        }
       ],
       "row_count": 8,
       "rows": [
        {
         "Age": "614.0",
         "BMI": "614.0",
         "BloodPressure": "614.0",
         "DiabetesPedigreeFunction": "614.0",
         "Glucose": "614.0",
         "Insulin": "614.0",
         "Pregnancies": "614.0",
         "SkinThickness": "614.0",
         "_deepnote_index_column": "count"
        },
        {
         "Age": "-3.7610161094793575e-17",
         "BMI": "-5.699385950518718e-16",
         "BloodPressure": "6.94341435596189e-17",
         "DiabetesPedigreeFunction": "1.5622682300914254e-16",
         "Glucose": "-2.169816986238091e-17",
         "Insulin": "-2.603780383485709e-17",
         "Pregnancies": "1.7358535889904726e-17",
         "SkinThickness": "1.0415121533942836e-16",
         "_deepnote_index_column": "mean"
        },
        {
         "Age": "1.0008153283050325",
         "BMI": "1.0008153283050325",
         "BloodPressure": "1.0008153283050325",
         "DiabetesPedigreeFunction": "1.0008153283050325",
         "Glucose": "1.0008153283050325",
         "Insulin": "1.0008153283050325",
         "Pregnancies": "1.0008153283050325",
         "SkinThickness": "1.0008153283050325",
         "_deepnote_index_column": "std"
        },
        {
         "Age": "-1.035940379394779",
         "BMI": "-4.135255778599698",
         "BloodPressure": "-3.7526825500185965",
         "DiabetesPedigreeFunction": "-1.1622100681343395",
         "Glucose": "-3.775663217558494",
         "Insulin": "-0.7012055319527012",
         "Pregnancies": "-1.130523352758785",
         "SkinThickness": "-1.3227736460929056",
         "_deepnote_index_column": "min"
        },
        {
         "Age": "-0.7749361147462792",
         "BMI": "-0.631392056470345",
         "BloodPressure": "-0.29275872172900286",
         "DiabetesPedigreeFunction": "-0.6764303867745997",
         "Glucose": "-0.6515378680794626",
         "Insulin": "-0.7012055319527012",
         "Pregnancies": "-0.8284601070695361",
         "SkinThickness": "-1.3227736460929056",
         "_deepnote_index_column": "25%"
        },
        {
         "Age": "-0.33992900699877926",
         "BMI": "0.0021478785272131297",
         "BloodPressure": "0.13973175680719632",
         "DiabetesPedigreeFunction": "-0.2872124157768877",
         "Glucose": "-0.12043655866802719",
         "Insulin": "-0.33526832105924004",
         "Pregnancies": "-0.22433361569103824",
         "SkinThickness": "0.16866024054374223",
         "_deepnote_index_column": "50%"
        },
        {
         "Age": "0.6170866300457205",
         "BMI": "0.5678085347750328",
         "BloodPressure": "0.5722222353433956",
         "DiabetesPedigreeFunction": "0.42957258806431853",
         "Glucose": "0.5668710182173597",
         "Insulin": "0.41597924718674784",
         "Pregnancies": "0.6818561213767085",
         "SkinThickness": "0.7522648048798218",
         "_deepnote_index_column": "75%"
        },
        {
         "Age": "4.18414491357522",
         "BMI": "4.540362514938294",
         "BloodPressure": "2.8427972476584413",
         "DiabetesPedigreeFunction": "5.796175337030863",
         "Glucose": "2.441346227904779",
         "Insulin": "6.583097536655961",
         "Pregnancies": "4.0045518239584466",
         "SkinThickness": "2.7624583042596513",
         "_deepnote_index_column": "max"
        }
       ]
      },
      "text/html": [
       "<div>\n",
       "<style scoped>\n",
       "    .dataframe tbody tr th:only-of-type {\n",
       "        vertical-align: middle;\n",
       "    }\n",
       "\n",
       "    .dataframe tbody tr th {\n",
       "        vertical-align: top;\n",
       "    }\n",
       "\n",
       "    .dataframe thead th {\n",
       "        text-align: right;\n",
       "    }\n",
       "</style>\n",
       "<table border=\"1\" class=\"dataframe\">\n",
       "  <thead>\n",
       "    <tr style=\"text-align: right;\">\n",
       "      <th></th>\n",
       "      <th>Pregnancies</th>\n",
       "      <th>Glucose</th>\n",
       "      <th>BloodPressure</th>\n",
       "      <th>SkinThickness</th>\n",
       "      <th>Insulin</th>\n",
       "      <th>BMI</th>\n",
       "      <th>DiabetesPedigreeFunction</th>\n",
       "      <th>Age</th>\n",
       "    </tr>\n",
       "  </thead>\n",
       "  <tbody>\n",
       "    <tr>\n",
       "      <th>count</th>\n",
       "      <td>6.140000e+02</td>\n",
       "      <td>6.140000e+02</td>\n",
       "      <td>6.140000e+02</td>\n",
       "      <td>6.140000e+02</td>\n",
       "      <td>6.140000e+02</td>\n",
       "      <td>6.140000e+02</td>\n",
       "      <td>6.140000e+02</td>\n",
       "      <td>6.140000e+02</td>\n",
       "    </tr>\n",
       "    <tr>\n",
       "      <th>mean</th>\n",
       "      <td>1.735854e-17</td>\n",
       "      <td>-2.169817e-17</td>\n",
       "      <td>6.943414e-17</td>\n",
       "      <td>1.041512e-16</td>\n",
       "      <td>-2.603780e-17</td>\n",
       "      <td>-5.699386e-16</td>\n",
       "      <td>1.562268e-16</td>\n",
       "      <td>-3.761016e-17</td>\n",
       "    </tr>\n",
       "    <tr>\n",
       "      <th>std</th>\n",
       "      <td>1.000815e+00</td>\n",
       "      <td>1.000815e+00</td>\n",
       "      <td>1.000815e+00</td>\n",
       "      <td>1.000815e+00</td>\n",
       "      <td>1.000815e+00</td>\n",
       "      <td>1.000815e+00</td>\n",
       "      <td>1.000815e+00</td>\n",
       "      <td>1.000815e+00</td>\n",
       "    </tr>\n",
       "    <tr>\n",
       "      <th>min</th>\n",
       "      <td>-1.130523e+00</td>\n",
       "      <td>-3.775663e+00</td>\n",
       "      <td>-3.752683e+00</td>\n",
       "      <td>-1.322774e+00</td>\n",
       "      <td>-7.012055e-01</td>\n",
       "      <td>-4.135256e+00</td>\n",
       "      <td>-1.162210e+00</td>\n",
       "      <td>-1.035940e+00</td>\n",
       "    </tr>\n",
       "    <tr>\n",
       "      <th>25%</th>\n",
       "      <td>-8.284601e-01</td>\n",
       "      <td>-6.515379e-01</td>\n",
       "      <td>-2.927587e-01</td>\n",
       "      <td>-1.322774e+00</td>\n",
       "      <td>-7.012055e-01</td>\n",
       "      <td>-6.313921e-01</td>\n",
       "      <td>-6.764304e-01</td>\n",
       "      <td>-7.749361e-01</td>\n",
       "    </tr>\n",
       "    <tr>\n",
       "      <th>50%</th>\n",
       "      <td>-2.243336e-01</td>\n",
       "      <td>-1.204366e-01</td>\n",
       "      <td>1.397318e-01</td>\n",
       "      <td>1.686602e-01</td>\n",
       "      <td>-3.352683e-01</td>\n",
       "      <td>2.147879e-03</td>\n",
       "      <td>-2.872124e-01</td>\n",
       "      <td>-3.399290e-01</td>\n",
       "    </tr>\n",
       "    <tr>\n",
       "      <th>75%</th>\n",
       "      <td>6.818561e-01</td>\n",
       "      <td>5.668710e-01</td>\n",
       "      <td>5.722222e-01</td>\n",
       "      <td>7.522648e-01</td>\n",
       "      <td>4.159792e-01</td>\n",
       "      <td>5.678085e-01</td>\n",
       "      <td>4.295726e-01</td>\n",
       "      <td>6.170866e-01</td>\n",
       "    </tr>\n",
       "    <tr>\n",
       "      <th>max</th>\n",
       "      <td>4.004552e+00</td>\n",
       "      <td>2.441346e+00</td>\n",
       "      <td>2.842797e+00</td>\n",
       "      <td>2.762458e+00</td>\n",
       "      <td>6.583098e+00</td>\n",
       "      <td>4.540363e+00</td>\n",
       "      <td>5.796175e+00</td>\n",
       "      <td>4.184145e+00</td>\n",
       "    </tr>\n",
       "  </tbody>\n",
       "</table>\n",
       "</div>"
      ],
      "text/plain": [
       "        Pregnancies       Glucose  BloodPressure  SkinThickness       Insulin  \\\n",
       "count  6.140000e+02  6.140000e+02   6.140000e+02   6.140000e+02  6.140000e+02   \n",
       "mean   1.735854e-17 -2.169817e-17   6.943414e-17   1.041512e-16 -2.603780e-17   \n",
       "std    1.000815e+00  1.000815e+00   1.000815e+00   1.000815e+00  1.000815e+00   \n",
       "min   -1.130523e+00 -3.775663e+00  -3.752683e+00  -1.322774e+00 -7.012055e-01   \n",
       "25%   -8.284601e-01 -6.515379e-01  -2.927587e-01  -1.322774e+00 -7.012055e-01   \n",
       "50%   -2.243336e-01 -1.204366e-01   1.397318e-01   1.686602e-01 -3.352683e-01   \n",
       "75%    6.818561e-01  5.668710e-01   5.722222e-01   7.522648e-01  4.159792e-01   \n",
       "max    4.004552e+00  2.441346e+00   2.842797e+00   2.762458e+00  6.583098e+00   \n",
       "\n",
       "                BMI  DiabetesPedigreeFunction           Age  \n",
       "count  6.140000e+02              6.140000e+02  6.140000e+02  \n",
       "mean  -5.699386e-16              1.562268e-16 -3.761016e-17  \n",
       "std    1.000815e+00              1.000815e+00  1.000815e+00  \n",
       "min   -4.135256e+00             -1.162210e+00 -1.035940e+00  \n",
       "25%   -6.313921e-01             -6.764304e-01 -7.749361e-01  \n",
       "50%    2.147879e-03             -2.872124e-01 -3.399290e-01  \n",
       "75%    5.678085e-01              4.295726e-01  6.170866e-01  \n",
       "max    4.540363e+00              5.796175e+00  4.184145e+00  "
      ]
     },
     "execution_count": 10,
     "metadata": {},
     "output_type": "execute_result"
    }
   ],
   "source": [
    "X_train_scaled.describe()"
   ]
  },
  {
   "cell_type": "markdown",
   "metadata": {
    "cell_id": "a12a738a26ca463eb34bdd0337b25f1d",
    "deepnote_cell_type": "markdown",
    "tags": []
   },
   "source": [
    "## Part 2: Decision Tree\n",
    "\n",
    "The reason I use Decision Tree at first is that I want to find several important features in the dataset."
   ]
  },
  {
   "cell_type": "markdown",
   "metadata": {
    "cell_id": "50d0fdda4ba846928de7e7382d0ec214",
    "deepnote_cell_type": "markdown",
    "tags": []
   },
   "source": [
    "Firstly, let's initiate a Deicison Tree with no limit, no limit means the Decision Tree can go as deep as it want."
   ]
  },
  {
   "cell_type": "code",
   "execution_count": 11,
   "metadata": {
    "cell_id": "9fc7720701c84cdbb4a72fb00211d04a",
    "deepnote_cell_type": "code",
    "deepnote_to_be_reexecuted": false,
    "execution_millis": 8,
    "execution_start": 1670028418999,
    "source_hash": "330f7242",
    "tags": []
   },
   "outputs": [
    {
     "data": {
      "text/plain": [
       "1.0"
      ]
     },
     "execution_count": 11,
     "metadata": {},
     "output_type": "execute_result"
    }
   ],
   "source": [
    "clf_DT_no_limit = DecisionTreeClassifier(random_state=42)\n",
    "clf_DT_no_limit.fit(X_train, y_train.astype(\"str\"))\n",
    "clf_DT_no_limit.score(X_train, y_train.astype(\"str\"))"
   ]
  },
  {
   "cell_type": "markdown",
   "metadata": {
    "cell_id": "f22831e822404038b05cb463f9a9a1a2",
    "deepnote_cell_type": "markdown",
    "tags": []
   },
   "source": [
    "Based on the [explanation](https://scikit-learn.org/stable/modules/generated/sklearn.tree.DecisionTreeClassifier.html#sklearn.tree.DecisionTreeClassifier.score) of function score, we can say the Decision Tree above get 100% accuracy on training data. It is not surprised since there is no limit on this model, so it can have very large depth and number of leaves. Let's test it on the test dataset."
   ]
  },
  {
   "cell_type": "code",
   "execution_count": 12,
   "metadata": {
    "cell_id": "6c82d4d714a6460f85ec5672de2ac15e",
    "deepnote_cell_type": "code",
    "deepnote_to_be_reexecuted": false,
    "execution_millis": 3,
    "execution_start": 1670028419057,
    "source_hash": "7adf0f35",
    "tags": []
   },
   "outputs": [
    {
     "data": {
      "text/plain": [
       "0.7467532467532467"
      ]
     },
     "execution_count": 12,
     "metadata": {},
     "output_type": "execute_result"
    }
   ],
   "source": [
    "clf_DT_no_limit.score(X_test, y_test.astype(\"str\"))"
   ]
  },
  {
   "cell_type": "markdown",
   "metadata": {
    "cell_id": "7c6ade4fbe634f2eb16b7d22cb11ffcc",
    "deepnote_cell_type": "markdown",
    "tags": []
   },
   "source": [
    "Obviously, this Decision Tree overfits the training data."
   ]
  },
  {
   "cell_type": "markdown",
   "metadata": {
    "cell_id": "77e75e4a20644ab899775f50c38bec81",
    "deepnote_cell_type": "markdown",
    "tags": []
   },
   "source": [
    "Then let's add some limit on the Decision Tree. We test max_leaf_nodes from 2 to 40 and draw the training and testing loss curve together."
   ]
  },
  {
   "cell_type": "code",
   "execution_count": 13,
   "metadata": {
    "cell_id": "47d2d82c9869428aa41ceaadb4f044f8",
    "deepnote_cell_type": "code",
    "deepnote_to_be_reexecuted": false,
    "execution_millis": 425,
    "execution_start": 1670028419058,
    "source_hash": "9717c8f5",
    "tags": []
   },
   "outputs": [
    {
     "data": {
      "text/html": [
       "\n",
       "<div id=\"altair-viz-b313c2f24e2b459a857d6cd930051b06\"></div>\n",
       "<script type=\"text/javascript\">\n",
       "  var VEGA_DEBUG = (typeof VEGA_DEBUG == \"undefined\") ? {} : VEGA_DEBUG;\n",
       "  (function(spec, embedOpt){\n",
       "    let outputDiv = document.currentScript.previousElementSibling;\n",
       "    if (outputDiv.id !== \"altair-viz-b313c2f24e2b459a857d6cd930051b06\") {\n",
       "      outputDiv = document.getElementById(\"altair-viz-b313c2f24e2b459a857d6cd930051b06\");\n",
       "    }\n",
       "    const paths = {\n",
       "      \"vega\": \"https://cdn.jsdelivr.net/npm//vega@5?noext\",\n",
       "      \"vega-lib\": \"https://cdn.jsdelivr.net/npm//vega-lib?noext\",\n",
       "      \"vega-lite\": \"https://cdn.jsdelivr.net/npm//vega-lite@4.17.0?noext\",\n",
       "      \"vega-embed\": \"https://cdn.jsdelivr.net/npm//vega-embed@6?noext\",\n",
       "    };\n",
       "\n",
       "    function maybeLoadScript(lib, version) {\n",
       "      var key = `${lib.replace(\"-\", \"\")}_version`;\n",
       "      return (VEGA_DEBUG[key] == version) ?\n",
       "        Promise.resolve(paths[lib]) :\n",
       "        new Promise(function(resolve, reject) {\n",
       "          var s = document.createElement('script');\n",
       "          document.getElementsByTagName(\"head\")[0].appendChild(s);\n",
       "          s.async = true;\n",
       "          s.onload = () => {\n",
       "            VEGA_DEBUG[key] = version;\n",
       "            return resolve(paths[lib]);\n",
       "          };\n",
       "          s.onerror = () => reject(`Error loading script: ${paths[lib]}`);\n",
       "          s.src = paths[lib];\n",
       "        });\n",
       "    }\n",
       "\n",
       "    function showError(err) {\n",
       "      outputDiv.innerHTML = `<div class=\"error\" style=\"color:red;\">${err}</div>`;\n",
       "      throw err;\n",
       "    }\n",
       "\n",
       "    function displayChart(vegaEmbed) {\n",
       "      vegaEmbed(outputDiv, spec, embedOpt)\n",
       "        .catch(err => showError(`Javascript Error: ${err.message}<br>This usually means there's a typo in your chart specification. See the javascript console for the full traceback.`));\n",
       "    }\n",
       "\n",
       "    if(typeof define === \"function\" && define.amd) {\n",
       "      requirejs.config({paths});\n",
       "      require([\"vega-embed\"], displayChart, err => showError(`Error loading script: ${err.message}`));\n",
       "    } else {\n",
       "      maybeLoadScript(\"vega\", \"5\")\n",
       "        .then(() => maybeLoadScript(\"vega-lite\", \"4.17.0\"))\n",
       "        .then(() => maybeLoadScript(\"vega-embed\", \"6\"))\n",
       "        .catch(showError)\n",
       "        .then(() => displayChart(vegaEmbed));\n",
       "    }\n",
       "  })({\"config\": {\"view\": {\"continuousWidth\": 400, \"continuousHeight\": 300}}, \"data\": {\"name\": \"data-0d9265e724fb75935957eca9c04e8d3f\"}, \"mark\": \"line\", \"encoding\": {\"color\": {\"field\": \"Type\", \"type\": \"nominal\"}, \"x\": {\"field\": \"max_leaf_nodes\", \"type\": \"quantitative\"}, \"y\": {\"field\": \"Loss\", \"type\": \"quantitative\"}}, \"$schema\": \"https://vega.github.io/schema/vega-lite/v4.17.0.json\", \"datasets\": {\"data-0d9265e724fb75935957eca9c04e8d3f\": [{\"max_leaf_nodes\": 2, \"Type\": \"train\", \"Loss\": 0.5569860248785248}, {\"max_leaf_nodes\": 3, \"Type\": \"train\", \"Loss\": 0.5313186041835257}, {\"max_leaf_nodes\": 4, \"Type\": \"train\", \"Loss\": 0.49370636968084897}, {\"max_leaf_nodes\": 5, \"Type\": \"train\", \"Loss\": 0.47321705031427164}, {\"max_leaf_nodes\": 6, \"Type\": \"train\", \"Loss\": 0.45969557188187055}, {\"max_leaf_nodes\": 7, \"Type\": \"train\", \"Loss\": 0.44650790211346936}, {\"max_leaf_nodes\": 8, \"Type\": \"train\", \"Loss\": 0.43643834632684236}, {\"max_leaf_nodes\": 9, \"Type\": \"train\", \"Loss\": 0.4290428271270009}, {\"max_leaf_nodes\": 10, \"Type\": \"train\", \"Loss\": 0.42202930032837294}, {\"max_leaf_nodes\": 11, \"Type\": \"train\", \"Loss\": 0.41068539332938336}, {\"max_leaf_nodes\": 12, \"Type\": \"train\", \"Loss\": 0.403814097237769}, {\"max_leaf_nodes\": 13, \"Type\": \"train\", \"Loss\": 0.39279315846059637}, {\"max_leaf_nodes\": 14, \"Type\": \"train\", \"Loss\": 0.382404712063433}, {\"max_leaf_nodes\": 15, \"Type\": \"train\", \"Loss\": 0.37484259286787586}, {\"max_leaf_nodes\": 16, \"Type\": \"train\", \"Loss\": 0.3574460958198201}, {\"max_leaf_nodes\": 17, \"Type\": \"train\", \"Loss\": 0.3513971654101233}, {\"max_leaf_nodes\": 18, \"Type\": \"train\", \"Loss\": 0.34588277302338316}, {\"max_leaf_nodes\": 19, \"Type\": \"train\", \"Loss\": 0.3381144606955513}, {\"max_leaf_nodes\": 20, \"Type\": \"train\", \"Loss\": 0.3333330625975844}, {\"max_leaf_nodes\": 21, \"Type\": \"train\", \"Loss\": 0.32889064243393834}, {\"max_leaf_nodes\": 22, \"Type\": \"train\", \"Loss\": 0.32397297126127084}, {\"max_leaf_nodes\": 23, \"Type\": \"train\", \"Loss\": 0.3194493672772505}, {\"max_leaf_nodes\": 24, \"Type\": \"train\", \"Loss\": 0.31500694711360444}, {\"max_leaf_nodes\": 25, \"Type\": \"train\", \"Loss\": 0.31137536002364513}, {\"max_leaf_nodes\": 26, \"Type\": \"train\", \"Loss\": 0.30481647346956964}, {\"max_leaf_nodes\": 27, \"Type\": \"train\", \"Loss\": 0.298596465310337}, {\"max_leaf_nodes\": 28, \"Type\": \"train\", \"Loss\": 0.29483637349437786}, {\"max_leaf_nodes\": 29, \"Type\": \"train\", \"Loss\": 0.2874886400928215}, {\"max_leaf_nodes\": 30, \"Type\": \"train\", \"Loss\": 0.28254855764995684}, {\"max_leaf_nodes\": 31, \"Type\": \"train\", \"Loss\": 0.2793372864551636}, {\"max_leaf_nodes\": 32, \"Type\": \"train\", \"Loss\": 0.27201044418}, {\"max_leaf_nodes\": 33, \"Type\": \"train\", \"Loss\": 0.2678681719229957}, {\"max_leaf_nodes\": 34, \"Type\": \"train\", \"Loss\": 0.2624105219704849}, {\"max_leaf_nodes\": 35, \"Type\": \"train\", \"Loss\": 0.25804298382623225}, {\"max_leaf_nodes\": 36, \"Type\": \"train\", \"Loss\": 0.25149522206546343}, {\"max_leaf_nodes\": 37, \"Type\": \"train\", \"Loss\": 0.24742028376303515}, {\"max_leaf_nodes\": 38, \"Type\": \"train\", \"Loss\": 0.24334534546060696}, {\"max_leaf_nodes\": 39, \"Type\": \"train\", \"Loss\": 0.24023534138099062}, {\"max_leaf_nodes\": 2, \"Type\": \"test\", \"Loss\": 0.5527618465588776}, {\"max_leaf_nodes\": 3, \"Type\": \"test\", \"Loss\": 0.5290574547788799}, {\"max_leaf_nodes\": 4, \"Type\": \"test\", \"Loss\": 0.5263511942546167}, {\"max_leaf_nodes\": 5, \"Type\": \"test\", \"Loss\": 0.535176905972763}, {\"max_leaf_nodes\": 6, \"Type\": \"test\", \"Loss\": 0.5388224772306982}, {\"max_leaf_nodes\": 7, \"Type\": \"test\", \"Loss\": 0.5369306800820299}, {\"max_leaf_nodes\": 8, \"Type\": \"test\", \"Loss\": 0.5479616917491938}, {\"max_leaf_nodes\": 9, \"Type\": \"test\", \"Loss\": 0.540265147787404}, {\"max_leaf_nodes\": 10, \"Type\": \"test\", \"Loss\": 0.5424171804684005}, {\"max_leaf_nodes\": 11, \"Type\": \"test\", \"Loss\": 0.5545516075783523}, {\"max_leaf_nodes\": 12, \"Type\": \"test\", \"Loss\": 0.5498435420032475}, {\"max_leaf_nodes\": 13, \"Type\": \"test\", \"Loss\": 0.5343671732057992}, {\"max_leaf_nodes\": 14, \"Type\": \"test\", \"Loss\": 0.5317579847829019}, {\"max_leaf_nodes\": 15, \"Type\": \"test\", \"Loss\": 0.5364292874850652}, {\"max_leaf_nodes\": 16, \"Type\": \"test\", \"Loss\": 0.5258744683910608}, {\"max_leaf_nodes\": 17, \"Type\": \"test\", \"Loss\": 0.527098318808965}, {\"max_leaf_nodes\": 18, \"Type\": \"test\", \"Loss\": 0.7495556669471444}, {\"max_leaf_nodes\": 19, \"Type\": \"test\", \"Loss\": 0.7377957531487638}, {\"max_leaf_nodes\": 20, \"Type\": \"test\", \"Loss\": 0.9576040820366947}, {\"max_leaf_nodes\": 21, \"Type\": \"test\", \"Loss\": 0.954326249463554}, {\"max_leaf_nodes\": 22, \"Type\": \"test\", \"Loss\": 0.9506194572192963}, {\"max_leaf_nodes\": 23, \"Type\": \"test\", \"Loss\": 0.9535505392349978}, {\"max_leaf_nodes\": 24, \"Type\": \"test\", \"Loss\": 0.9416359882021362}, {\"max_leaf_nodes\": 25, \"Type\": \"test\", \"Loss\": 0.9468269838412242}, {\"max_leaf_nodes\": 26, \"Type\": \"test\", \"Loss\": 0.9525562783914784}, {\"max_leaf_nodes\": 27, \"Type\": \"test\", \"Loss\": 1.164434420534506}, {\"max_leaf_nodes\": 28, \"Type\": \"test\", \"Loss\": 1.155374888277803}, {\"max_leaf_nodes\": 29, \"Type\": \"test\", \"Loss\": 1.1313133408523859}, {\"max_leaf_nodes\": 30, \"Type\": \"test\", \"Loss\": 1.1390210033942476}, {\"max_leaf_nodes\": 31, \"Type\": \"test\", \"Loss\": 1.1368693336802578}, {\"max_leaf_nodes\": 32, \"Type\": \"test\", \"Loss\": 1.359279037072848}, {\"max_leaf_nodes\": 33, \"Type\": \"test\", \"Loss\": 1.3719375794377378}, {\"max_leaf_nodes\": 34, \"Type\": \"test\", \"Loss\": 1.3713186821662813}, {\"max_leaf_nodes\": 35, \"Type\": \"test\", \"Loss\": 1.3839153152492367}, {\"max_leaf_nodes\": 36, \"Type\": \"test\", \"Loss\": 1.997439742986651}, {\"max_leaf_nodes\": 37, \"Type\": \"test\", \"Loss\": 1.997439742986651}, {\"max_leaf_nodes\": 38, \"Type\": \"test\", \"Loss\": 2.1979177525153135}, {\"max_leaf_nodes\": 39, \"Type\": \"test\", \"Loss\": 2.2024187082332354}]}}, {\"mode\": \"vega-lite\"});\n",
       "</script>"
      ],
      "text/plain": [
       "alt.Chart(...)"
      ]
     },
     "execution_count": 13,
     "metadata": {},
     "output_type": "execute_result"
    }
   ],
   "source": [
    "DT_train_dict = {}\n",
    "DT_test_dict = {}\n",
    "\n",
    "for n in range(2,40):\n",
    "    _clf = DecisionTreeClassifier(max_leaf_nodes=n, random_state=42)\n",
    "    _clf.fit(X_train, y_train.astype(\"str\"))\n",
    "    train_error = log_loss(y_train.astype(\"str\"), _clf.predict_proba(X_train))\n",
    "    DT_train_dict[n] = train_error\n",
    "    test_error = log_loss(y_test.astype(\"str\"), _clf.predict_proba(X_test))\n",
    "    DT_test_dict[n] = test_error\n",
    "train_ser = pd.Series(DT_train_dict)\n",
    "test_ser = pd.Series(DT_test_dict)\n",
    "train_ser.name = \"train\"\n",
    "test_ser.name = \"test\"\n",
    "df_loss = pd.concat((train_ser, test_ser), axis=1)\n",
    "df_loss.reset_index(inplace=True)\n",
    "df_loss.rename({\"index\": \"max_leaf_nodes\"}, axis=1, inplace=True)\n",
    "df_melted = df_loss.melt(id_vars=\"max_leaf_nodes\", var_name=\"Type\", value_name=\"Loss\")\n",
    "c_DT = alt.Chart(df_melted).mark_line().encode(\n",
    "    x=\"max_leaf_nodes\",\n",
    "    y=\"Loss\",\n",
    "    color=\"Type\"\n",
    ")\n",
    "c_DT"
   ]
  },
  {
   "cell_type": "markdown",
   "metadata": {
    "cell_id": "f8b7048bbf2f4439981cfbbf2f272bbf",
    "deepnote_cell_type": "markdown",
    "tags": []
   },
   "source": [
    "Max_leaf_nodes = 5 is enough for the Decision Tree. After that, the difference between train and test curve is too large, which means overfitting the training data."
   ]
  },
  {
   "cell_type": "code",
   "execution_count": 14,
   "metadata": {
    "cell_id": "127642a55d8847f9a2c190d48e9f4d0b",
    "deepnote_cell_type": "code",
    "deepnote_to_be_reexecuted": false,
    "execution_millis": 13,
    "execution_start": 1670028419487,
    "source_hash": "2de16ddc",
    "tags": []
   },
   "outputs": [
    {
     "name": "stdout",
     "output_type": "stream",
     "text": [
      "Training Score:  0.7719869706840391\n",
      "Test Score:  0.7727272727272727\n"
     ]
    }
   ],
   "source": [
    "clf_DT = DecisionTreeClassifier(max_leaf_nodes=5, random_state=42)\n",
    "clf_DT.fit(X_train, y_train.astype(\"str\"))\n",
    "print(\"Training Score: \", clf_DT.score(X_train, y_train.astype(\"str\")))\n",
    "print(\"Test Score: \", clf_DT.score(X_test, y_test.astype(\"str\")))"
   ]
  },
  {
   "cell_type": "markdown",
   "metadata": {
    "cell_id": "5f594f0a1f6f48bfa874b1bf2ff31f1b",
    "deepnote_cell_type": "markdown",
    "tags": []
   },
   "source": [
    "Decision Tree gets 77.27% accuracy on test data. We store the predict result and accuracy for future use."
   ]
  },
  {
   "cell_type": "code",
   "execution_count": 15,
   "metadata": {
    "cell_id": "b0e2d45a683144fda5686c2b73a637e3",
    "deepnote_cell_type": "code",
    "deepnote_to_be_reexecuted": false,
    "execution_millis": 3,
    "execution_start": 1670028419505,
    "source_hash": "9bd27866",
    "tags": []
   },
   "outputs": [],
   "source": [
    "DT_acc = clf_DT.score(X_test, y_test.astype(\"str\"))\n",
    "DT_result = clf_DT.predict(X_test)"
   ]
  },
  {
   "cell_type": "markdown",
   "metadata": {
    "cell_id": "1d626181deb34ec896d1af9cd4ae184f",
    "deepnote_cell_type": "markdown",
    "tags": []
   },
   "source": [
    "Let's take a look at the Decison Tree by plot_tree."
   ]
  },
  {
   "cell_type": "code",
   "execution_count": 16,
   "metadata": {
    "cell_id": "d3d080c1a03c4ea6a4748b079daa59cf",
    "deepnote_cell_type": "code",
    "deepnote_to_be_reexecuted": false,
    "execution_millis": 710,
    "execution_start": 1670028419513,
    "source_hash": "27c14433",
    "tags": []
   },
   "outputs": [
    {
     "data": {
      "image/png": "[encoded data removed]",
      "text/plain": [
       "<Figure size 640x480 with 1 Axes>"
      ]
     },
     "metadata": {
      "image/png": {
       "height": 389,
       "width": 515
      }
     },
     "output_type": "display_data"
    }
   ],
   "source": [
    "fig = plt.figure()\n",
    "_ = plot_tree(clf_DT, \n",
    "                   feature_names=clf_DT.feature_names_in_,\n",
    "                   class_names=clf_DT.classes_,\n",
    "                   filled=True)"
   ]
  },
  {
   "cell_type": "markdown",
   "metadata": {
    "cell_id": "18c066e7e390496f89781c898428ab0d",
    "deepnote_cell_type": "markdown",
    "tags": []
   },
   "source": [
    "Based on the graph, Glucose, Age and BMI are the features that been used in the Decision Tree. It seems these three features are the most important in the dataset. We also want numerical data to support the conclusion."
   ]
  },
  {
   "cell_type": "code",
   "execution_count": 17,
   "metadata": {
    "cell_id": "2dbddd46dcc549d3b160be8aa4fdd5cb",
    "deepnote_cell_type": "code",
    "deepnote_to_be_reexecuted": false,
    "execution_millis": 4,
    "execution_start": 1670028420225,
    "source_hash": "4b2aa5ac",
    "tags": []
   },
   "outputs": [
    {
     "data": {
      "text/plain": [
       "Pregnancies                 0.000000\n",
       "Glucose                     0.565357\n",
       "BloodPressure               0.000000\n",
       "SkinThickness               0.000000\n",
       "Insulin                     0.000000\n",
       "BMI                         0.272307\n",
       "DiabetesPedigreeFunction    0.000000\n",
       "Age                         0.162336\n",
       "dtype: float64"
      ]
     },
     "execution_count": 17,
     "metadata": {},
     "output_type": "execute_result"
    }
   ],
   "source": [
    "pd.Series(clf_DT.feature_importances_, index=clf_DT.feature_names_in_)"
   ]
  },
  {
   "cell_type": "markdown",
   "metadata": {
    "cell_id": "a3703385cee2447a8ba8dcc41d80bdb7",
    "deepnote_cell_type": "markdown",
    "tags": []
   },
   "source": [
    "Thus, we can say the importance is: Glucose > BMI > Age."
   ]
  },
  {
   "cell_type": "markdown",
   "metadata": {
    "cell_id": "f964eca1f00d482c91aa324422d2f841",
    "deepnote_cell_type": "markdown",
    "tags": []
   },
   "source": [
    "## Part 2: Random Forest\n",
    "\n",
    "The next model we will try is random forest. Decision Tree gives a good result, and I expect Random Forest will do better."
   ]
  },
  {
   "cell_type": "code",
   "execution_count": 18,
   "metadata": {
    "cell_id": "780303cb8eef4b3380511c5df1d33d5c",
    "deepnote_cell_type": "code",
    "deepnote_to_be_reexecuted": false,
    "execution_millis": 13233,
    "execution_start": 1670028420232,
    "source_hash": "3695bdd3",
    "tags": []
   },
   "outputs": [
    {
     "data": {
      "text/html": [
       "\n",
       "<div id=\"altair-viz-7325c7e845114ee4b0a60e3927d4f8d5\"></div>\n",
       "<script type=\"text/javascript\">\n",
       "  var VEGA_DEBUG = (typeof VEGA_DEBUG == \"undefined\") ? {} : VEGA_DEBUG;\n",
       "  (function(spec, embedOpt){\n",
       "    let outputDiv = document.currentScript.previousElementSibling;\n",
       "    if (outputDiv.id !== \"altair-viz-7325c7e845114ee4b0a60e3927d4f8d5\") {\n",
       "      outputDiv = document.getElementById(\"altair-viz-7325c7e845114ee4b0a60e3927d4f8d5\");\n",
       "    }\n",
       "    const paths = {\n",
       "      \"vega\": \"https://cdn.jsdelivr.net/npm//vega@5?noext\",\n",
       "      \"vega-lib\": \"https://cdn.jsdelivr.net/npm//vega-lib?noext\",\n",
       "      \"vega-lite\": \"https://cdn.jsdelivr.net/npm//vega-lite@4.17.0?noext\",\n",
       "      \"vega-embed\": \"https://cdn.jsdelivr.net/npm//vega-embed@6?noext\",\n",
       "    };\n",
       "\n",
       "    function maybeLoadScript(lib, version) {\n",
       "      var key = `${lib.replace(\"-\", \"\")}_version`;\n",
       "      return (VEGA_DEBUG[key] == version) ?\n",
       "        Promise.resolve(paths[lib]) :\n",
       "        new Promise(function(resolve, reject) {\n",
       "          var s = document.createElement('script');\n",
       "          document.getElementsByTagName(\"head\")[0].appendChild(s);\n",
       "          s.async = true;\n",
       "          s.onload = () => {\n",
       "            VEGA_DEBUG[key] = version;\n",
       "            return resolve(paths[lib]);\n",
       "          };\n",
       "          s.onerror = () => reject(`Error loading script: ${paths[lib]}`);\n",
       "          s.src = paths[lib];\n",
       "        });\n",
       "    }\n",
       "\n",
       "    function showError(err) {\n",
       "      outputDiv.innerHTML = `<div class=\"error\" style=\"color:red;\">${err}</div>`;\n",
       "      throw err;\n",
       "    }\n",
       "\n",
       "    function displayChart(vegaEmbed) {\n",
       "      vegaEmbed(outputDiv, spec, embedOpt)\n",
       "        .catch(err => showError(`Javascript Error: ${err.message}<br>This usually means there's a typo in your chart specification. See the javascript console for the full traceback.`));\n",
       "    }\n",
       "\n",
       "    if(typeof define === \"function\" && define.amd) {\n",
       "      requirejs.config({paths});\n",
       "      require([\"vega-embed\"], displayChart, err => showError(`Error loading script: ${err.message}`));\n",
       "    } else {\n",
       "      maybeLoadScript(\"vega\", \"5\")\n",
       "        .then(() => maybeLoadScript(\"vega-lite\", \"4.17.0\"))\n",
       "        .then(() => maybeLoadScript(\"vega-embed\", \"6\"))\n",
       "        .catch(showError)\n",
       "        .then(() => displayChart(vegaEmbed));\n",
       "    }\n",
       "  })({\"config\": {\"view\": {\"continuousWidth\": 400, \"continuousHeight\": 300}}, \"hconcat\": [{\"data\": {\"name\": \"data-132c7ad29272ed6b1439efb8245982ef\"}, \"mark\": \"line\", \"encoding\": {\"color\": {\"field\": \"Type\", \"type\": \"nominal\"}, \"x\": {\"field\": \"max_leaf_nodes\", \"type\": \"quantitative\"}, \"y\": {\"field\": \"Loss\", \"scale\": {\"domain\": [0.0, 2.4]}, \"type\": \"quantitative\"}}}, {\"data\": {\"name\": \"data-0d9265e724fb75935957eca9c04e8d3f\"}, \"mark\": \"line\", \"encoding\": {\"color\": {\"field\": \"Type\", \"type\": \"nominal\"}, \"x\": {\"field\": \"max_leaf_nodes\", \"type\": \"quantitative\"}, \"y\": {\"field\": \"Loss\", \"type\": \"quantitative\"}}}], \"$schema\": \"https://vega.github.io/schema/vega-lite/v4.17.0.json\", \"datasets\": {\"data-132c7ad29272ed6b1439efb8245982ef\": [{\"max_leaf_nodes\": 2, \"Type\": \"train\", \"Loss\": 0.5567545050420522}, {\"max_leaf_nodes\": 3, \"Type\": \"train\", \"Loss\": 0.5146977487301743}, {\"max_leaf_nodes\": 4, \"Type\": \"train\", \"Loss\": 0.4909921184000671}, {\"max_leaf_nodes\": 5, \"Type\": \"train\", \"Loss\": 0.47429173542887043}, {\"max_leaf_nodes\": 6, \"Type\": \"train\", \"Loss\": 0.4608932188198996}, {\"max_leaf_nodes\": 7, \"Type\": \"train\", \"Loss\": 0.44885210620452587}, {\"max_leaf_nodes\": 8, \"Type\": \"train\", \"Loss\": 0.43855210431953817}, {\"max_leaf_nodes\": 9, \"Type\": \"train\", \"Loss\": 0.4302906414047506}, {\"max_leaf_nodes\": 10, \"Type\": \"train\", \"Loss\": 0.4220229876303107}, {\"max_leaf_nodes\": 11, \"Type\": \"train\", \"Loss\": 0.41445886086585637}, {\"max_leaf_nodes\": 12, \"Type\": \"train\", \"Loss\": 0.40771853932970586}, {\"max_leaf_nodes\": 13, \"Type\": \"train\", \"Loss\": 0.40133779750780096}, {\"max_leaf_nodes\": 14, \"Type\": \"train\", \"Loss\": 0.39439956591158143}, {\"max_leaf_nodes\": 15, \"Type\": \"train\", \"Loss\": 0.387481036575551}, {\"max_leaf_nodes\": 16, \"Type\": \"train\", \"Loss\": 0.38149475954306444}, {\"max_leaf_nodes\": 17, \"Type\": \"train\", \"Loss\": 0.3757443781270455}, {\"max_leaf_nodes\": 18, \"Type\": \"train\", \"Loss\": 0.37005898960095635}, {\"max_leaf_nodes\": 19, \"Type\": \"train\", \"Loss\": 0.36360729038617645}, {\"max_leaf_nodes\": 20, \"Type\": \"train\", \"Loss\": 0.3580143302180627}, {\"max_leaf_nodes\": 21, \"Type\": \"train\", \"Loss\": 0.352228290709283}, {\"max_leaf_nodes\": 22, \"Type\": \"train\", \"Loss\": 0.3470092452306022}, {\"max_leaf_nodes\": 23, \"Type\": \"train\", \"Loss\": 0.3419006535240192}, {\"max_leaf_nodes\": 24, \"Type\": \"train\", \"Loss\": 0.33706968399455167}, {\"max_leaf_nodes\": 25, \"Type\": \"train\", \"Loss\": 0.33247395860641926}, {\"max_leaf_nodes\": 26, \"Type\": \"train\", \"Loss\": 0.3281275607683737}, {\"max_leaf_nodes\": 27, \"Type\": \"train\", \"Loss\": 0.32351521660189886}, {\"max_leaf_nodes\": 28, \"Type\": \"train\", \"Loss\": 0.31940764186226894}, {\"max_leaf_nodes\": 29, \"Type\": \"train\", \"Loss\": 0.3149655975774648}, {\"max_leaf_nodes\": 30, \"Type\": \"train\", \"Loss\": 0.3109019410502975}, {\"max_leaf_nodes\": 31, \"Type\": \"train\", \"Loss\": 0.30671465720673435}, {\"max_leaf_nodes\": 32, \"Type\": \"train\", \"Loss\": 0.302409097826539}, {\"max_leaf_nodes\": 33, \"Type\": \"train\", \"Loss\": 0.29817644026443213}, {\"max_leaf_nodes\": 34, \"Type\": \"train\", \"Loss\": 0.2938868665276672}, {\"max_leaf_nodes\": 35, \"Type\": \"train\", \"Loss\": 0.2900448999634135}, {\"max_leaf_nodes\": 36, \"Type\": \"train\", \"Loss\": 0.2862438228142853}, {\"max_leaf_nodes\": 37, \"Type\": \"train\", \"Loss\": 0.28249657107801746}, {\"max_leaf_nodes\": 38, \"Type\": \"train\", \"Loss\": 0.2787619212573032}, {\"max_leaf_nodes\": 39, \"Type\": \"train\", \"Loss\": 0.27517570894790466}, {\"max_leaf_nodes\": 2, \"Type\": \"test\", \"Loss\": 0.5702685126021366}, {\"max_leaf_nodes\": 3, \"Type\": \"test\", \"Loss\": 0.5369191523999353}, {\"max_leaf_nodes\": 4, \"Type\": \"test\", \"Loss\": 0.5193486670793478}, {\"max_leaf_nodes\": 5, \"Type\": \"test\", \"Loss\": 0.50972839747424}, {\"max_leaf_nodes\": 6, \"Type\": \"test\", \"Loss\": 0.5026129329787079}, {\"max_leaf_nodes\": 7, \"Type\": \"test\", \"Loss\": 0.4976270251088882}, {\"max_leaf_nodes\": 8, \"Type\": \"test\", \"Loss\": 0.49391826843252706}, {\"max_leaf_nodes\": 9, \"Type\": \"test\", \"Loss\": 0.4908336563673505}, {\"max_leaf_nodes\": 10, \"Type\": \"test\", \"Loss\": 0.4881636745681454}, {\"max_leaf_nodes\": 11, \"Type\": \"test\", \"Loss\": 0.4869364774537983}, {\"max_leaf_nodes\": 12, \"Type\": \"test\", \"Loss\": 0.4852924607016528}, {\"max_leaf_nodes\": 13, \"Type\": \"test\", \"Loss\": 0.48396797767037913}, {\"max_leaf_nodes\": 14, \"Type\": \"test\", \"Loss\": 0.4835239102619686}, {\"max_leaf_nodes\": 15, \"Type\": \"test\", \"Loss\": 0.48373375108482775}, {\"max_leaf_nodes\": 16, \"Type\": \"test\", \"Loss\": 0.48445403254925307}, {\"max_leaf_nodes\": 17, \"Type\": \"test\", \"Loss\": 0.48429360211782685}, {\"max_leaf_nodes\": 18, \"Type\": \"test\", \"Loss\": 0.4847638639557556}, {\"max_leaf_nodes\": 19, \"Type\": \"test\", \"Loss\": 0.4832196470856721}, {\"max_leaf_nodes\": 20, \"Type\": \"test\", \"Loss\": 0.4828468947368033}, {\"max_leaf_nodes\": 21, \"Type\": \"test\", \"Loss\": 0.48277377172014135}, {\"max_leaf_nodes\": 22, \"Type\": \"test\", \"Loss\": 0.48181441329097263}, {\"max_leaf_nodes\": 23, \"Type\": \"test\", \"Loss\": 0.48161056795724216}, {\"max_leaf_nodes\": 24, \"Type\": \"test\", \"Loss\": 0.4821306686629966}, {\"max_leaf_nodes\": 25, \"Type\": \"test\", \"Loss\": 0.4825513405830303}, {\"max_leaf_nodes\": 26, \"Type\": \"test\", \"Loss\": 0.48319997271607207}, {\"max_leaf_nodes\": 27, \"Type\": \"test\", \"Loss\": 0.4836792422167815}, {\"max_leaf_nodes\": 28, \"Type\": \"test\", \"Loss\": 0.4832540794683222}, {\"max_leaf_nodes\": 29, \"Type\": \"test\", \"Loss\": 0.4834073780974185}, {\"max_leaf_nodes\": 30, \"Type\": \"test\", \"Loss\": 0.48378533266592233}, {\"max_leaf_nodes\": 31, \"Type\": \"test\", \"Loss\": 0.48495306372401537}, {\"max_leaf_nodes\": 32, \"Type\": \"test\", \"Loss\": 0.48541613996520955}, {\"max_leaf_nodes\": 33, \"Type\": \"test\", \"Loss\": 0.4856325148957707}, {\"max_leaf_nodes\": 34, \"Type\": \"test\", \"Loss\": 0.48536695976747174}, {\"max_leaf_nodes\": 35, \"Type\": \"test\", \"Loss\": 0.4852824674164774}, {\"max_leaf_nodes\": 36, \"Type\": \"test\", \"Loss\": 0.4844440077488722}, {\"max_leaf_nodes\": 37, \"Type\": \"test\", \"Loss\": 0.48437120893864744}, {\"max_leaf_nodes\": 38, \"Type\": \"test\", \"Loss\": 0.48440570564801355}, {\"max_leaf_nodes\": 39, \"Type\": \"test\", \"Loss\": 0.48310222696565425}], \"data-0d9265e724fb75935957eca9c04e8d3f\": [{\"max_leaf_nodes\": 2, \"Type\": \"train\", \"Loss\": 0.5569860248785248}, {\"max_leaf_nodes\": 3, \"Type\": \"train\", \"Loss\": 0.5313186041835257}, {\"max_leaf_nodes\": 4, \"Type\": \"train\", \"Loss\": 0.49370636968084897}, {\"max_leaf_nodes\": 5, \"Type\": \"train\", \"Loss\": 0.47321705031427164}, {\"max_leaf_nodes\": 6, \"Type\": \"train\", \"Loss\": 0.45969557188187055}, {\"max_leaf_nodes\": 7, \"Type\": \"train\", \"Loss\": 0.44650790211346936}, {\"max_leaf_nodes\": 8, \"Type\": \"train\", \"Loss\": 0.43643834632684236}, {\"max_leaf_nodes\": 9, \"Type\": \"train\", \"Loss\": 0.4290428271270009}, {\"max_leaf_nodes\": 10, \"Type\": \"train\", \"Loss\": 0.42202930032837294}, {\"max_leaf_nodes\": 11, \"Type\": \"train\", \"Loss\": 0.41068539332938336}, {\"max_leaf_nodes\": 12, \"Type\": \"train\", \"Loss\": 0.403814097237769}, {\"max_leaf_nodes\": 13, \"Type\": \"train\", \"Loss\": 0.39279315846059637}, {\"max_leaf_nodes\": 14, \"Type\": \"train\", \"Loss\": 0.382404712063433}, {\"max_leaf_nodes\": 15, \"Type\": \"train\", \"Loss\": 0.37484259286787586}, {\"max_leaf_nodes\": 16, \"Type\": \"train\", \"Loss\": 0.3574460958198201}, {\"max_leaf_nodes\": 17, \"Type\": \"train\", \"Loss\": 0.3513971654101233}, {\"max_leaf_nodes\": 18, \"Type\": \"train\", \"Loss\": 0.34588277302338316}, {\"max_leaf_nodes\": 19, \"Type\": \"train\", \"Loss\": 0.3381144606955513}, {\"max_leaf_nodes\": 20, \"Type\": \"train\", \"Loss\": 0.3333330625975844}, {\"max_leaf_nodes\": 21, \"Type\": \"train\", \"Loss\": 0.32889064243393834}, {\"max_leaf_nodes\": 22, \"Type\": \"train\", \"Loss\": 0.32397297126127084}, {\"max_leaf_nodes\": 23, \"Type\": \"train\", \"Loss\": 0.3194493672772505}, {\"max_leaf_nodes\": 24, \"Type\": \"train\", \"Loss\": 0.31500694711360444}, {\"max_leaf_nodes\": 25, \"Type\": \"train\", \"Loss\": 0.31137536002364513}, {\"max_leaf_nodes\": 26, \"Type\": \"train\", \"Loss\": 0.30481647346956964}, {\"max_leaf_nodes\": 27, \"Type\": \"train\", \"Loss\": 0.298596465310337}, {\"max_leaf_nodes\": 28, \"Type\": \"train\", \"Loss\": 0.29483637349437786}, {\"max_leaf_nodes\": 29, \"Type\": \"train\", \"Loss\": 0.2874886400928215}, {\"max_leaf_nodes\": 30, \"Type\": \"train\", \"Loss\": 0.28254855764995684}, {\"max_leaf_nodes\": 31, \"Type\": \"train\", \"Loss\": 0.2793372864551636}, {\"max_leaf_nodes\": 32, \"Type\": \"train\", \"Loss\": 0.27201044418}, {\"max_leaf_nodes\": 33, \"Type\": \"train\", \"Loss\": 0.2678681719229957}, {\"max_leaf_nodes\": 34, \"Type\": \"train\", \"Loss\": 0.2624105219704849}, {\"max_leaf_nodes\": 35, \"Type\": \"train\", \"Loss\": 0.25804298382623225}, {\"max_leaf_nodes\": 36, \"Type\": \"train\", \"Loss\": 0.25149522206546343}, {\"max_leaf_nodes\": 37, \"Type\": \"train\", \"Loss\": 0.24742028376303515}, {\"max_leaf_nodes\": 38, \"Type\": \"train\", \"Loss\": 0.24334534546060696}, {\"max_leaf_nodes\": 39, \"Type\": \"train\", \"Loss\": 0.24023534138099062}, {\"max_leaf_nodes\": 2, \"Type\": \"test\", \"Loss\": 0.5527618465588776}, {\"max_leaf_nodes\": 3, \"Type\": \"test\", \"Loss\": 0.5290574547788799}, {\"max_leaf_nodes\": 4, \"Type\": \"test\", \"Loss\": 0.5263511942546167}, {\"max_leaf_nodes\": 5, \"Type\": \"test\", \"Loss\": 0.535176905972763}, {\"max_leaf_nodes\": 6, \"Type\": \"test\", \"Loss\": 0.5388224772306982}, {\"max_leaf_nodes\": 7, \"Type\": \"test\", \"Loss\": 0.5369306800820299}, {\"max_leaf_nodes\": 8, \"Type\": \"test\", \"Loss\": 0.5479616917491938}, {\"max_leaf_nodes\": 9, \"Type\": \"test\", \"Loss\": 0.540265147787404}, {\"max_leaf_nodes\": 10, \"Type\": \"test\", \"Loss\": 0.5424171804684005}, {\"max_leaf_nodes\": 11, \"Type\": \"test\", \"Loss\": 0.5545516075783523}, {\"max_leaf_nodes\": 12, \"Type\": \"test\", \"Loss\": 0.5498435420032475}, {\"max_leaf_nodes\": 13, \"Type\": \"test\", \"Loss\": 0.5343671732057992}, {\"max_leaf_nodes\": 14, \"Type\": \"test\", \"Loss\": 0.5317579847829019}, {\"max_leaf_nodes\": 15, \"Type\": \"test\", \"Loss\": 0.5364292874850652}, {\"max_leaf_nodes\": 16, \"Type\": \"test\", \"Loss\": 0.5258744683910608}, {\"max_leaf_nodes\": 17, \"Type\": \"test\", \"Loss\": 0.527098318808965}, {\"max_leaf_nodes\": 18, \"Type\": \"test\", \"Loss\": 0.7495556669471444}, {\"max_leaf_nodes\": 19, \"Type\": \"test\", \"Loss\": 0.7377957531487638}, {\"max_leaf_nodes\": 20, \"Type\": \"test\", \"Loss\": 0.9576040820366947}, {\"max_leaf_nodes\": 21, \"Type\": \"test\", \"Loss\": 0.954326249463554}, {\"max_leaf_nodes\": 22, \"Type\": \"test\", \"Loss\": 0.9506194572192963}, {\"max_leaf_nodes\": 23, \"Type\": \"test\", \"Loss\": 0.9535505392349978}, {\"max_leaf_nodes\": 24, \"Type\": \"test\", \"Loss\": 0.9416359882021362}, {\"max_leaf_nodes\": 25, \"Type\": \"test\", \"Loss\": 0.9468269838412242}, {\"max_leaf_nodes\": 26, \"Type\": \"test\", \"Loss\": 0.9525562783914784}, {\"max_leaf_nodes\": 27, \"Type\": \"test\", \"Loss\": 1.164434420534506}, {\"max_leaf_nodes\": 28, \"Type\": \"test\", \"Loss\": 1.155374888277803}, {\"max_leaf_nodes\": 29, \"Type\": \"test\", \"Loss\": 1.1313133408523859}, {\"max_leaf_nodes\": 30, \"Type\": \"test\", \"Loss\": 1.1390210033942476}, {\"max_leaf_nodes\": 31, \"Type\": \"test\", \"Loss\": 1.1368693336802578}, {\"max_leaf_nodes\": 32, \"Type\": \"test\", \"Loss\": 1.359279037072848}, {\"max_leaf_nodes\": 33, \"Type\": \"test\", \"Loss\": 1.3719375794377378}, {\"max_leaf_nodes\": 34, \"Type\": \"test\", \"Loss\": 1.3713186821662813}, {\"max_leaf_nodes\": 35, \"Type\": \"test\", \"Loss\": 1.3839153152492367}, {\"max_leaf_nodes\": 36, \"Type\": \"test\", \"Loss\": 1.997439742986651}, {\"max_leaf_nodes\": 37, \"Type\": \"test\", \"Loss\": 1.997439742986651}, {\"max_leaf_nodes\": 38, \"Type\": \"test\", \"Loss\": 2.1979177525153135}, {\"max_leaf_nodes\": 39, \"Type\": \"test\", \"Loss\": 2.2024187082332354}]}}, {\"mode\": \"vega-lite\"});\n",
       "</script>"
      ],
      "text/plain": [
       "alt.HConcatChart(...)"
      ]
     },
     "execution_count": 18,
     "metadata": {},
     "output_type": "execute_result"
    }
   ],
   "source": [
    "RF_train_dict = {}\n",
    "RF_test_dict = {}\n",
    "\n",
    "for n in range(2,40):\n",
    "    _clf = RandomForestClassifier(n_estimators=200, max_leaf_nodes=n, random_state=42)\n",
    "    _clf.fit(X_train, y_train.astype(\"str\"))\n",
    "    train_error = log_loss(y_train.astype(\"str\"), _clf.predict_proba(X_train))\n",
    "    RF_train_dict[n] = train_error\n",
    "    test_error = log_loss(y_test.astype(\"str\"), _clf.predict_proba(X_test))\n",
    "    RF_test_dict[n] = test_error\n",
    "train_ser = pd.Series(RF_train_dict)\n",
    "test_ser = pd.Series(RF_test_dict)\n",
    "train_ser.name = \"train\"\n",
    "test_ser.name = \"test\"\n",
    "df_loss = pd.concat((train_ser, test_ser), axis=1)\n",
    "df_loss.reset_index(inplace=True)\n",
    "df_loss.rename({\"index\": \"max_leaf_nodes\"}, axis=1, inplace=True)\n",
    "df_melted = df_loss.melt(id_vars=\"max_leaf_nodes\", var_name=\"Type\", value_name=\"Loss\")\n",
    "c_RF = alt.Chart(df_melted).mark_line().encode(\n",
    "    x=\"max_leaf_nodes\",\n",
    "    y=alt.Y(\"Loss\",scale=alt.Scale(domain=[0.0, 2.4])), \n",
    "    color=\"Type\"\n",
    ")\n",
    "alt.hconcat(c_RF, c_DT)"
   ]
  },
  {
   "cell_type": "markdown",
   "metadata": {
    "cell_id": "69bd5734ceac4f288197f502ad1fb900",
    "deepnote_cell_type": "markdown",
    "tags": []
   },
   "source": [
    "The left figure above is the training and test loss for Random Forest, while the right figure is the loss for Decision Tree. We can see the training loss are decreasing similarly, but the test loss is significantly different. These figures shows how Random Forest prevent models from overfitting."
   ]
  },
  {
   "cell_type": "markdown",
   "metadata": {
    "cell_id": "08f8019fa55740a7986b32ef5e27a2c5",
    "deepnote_cell_type": "markdown",
    "tags": []
   },
   "source": [
    "I test nodes from 3 to 10, 7 gives the best result."
   ]
  },
  {
   "cell_type": "code",
   "execution_count": 19,
   "metadata": {
    "cell_id": "6f2c3138d959426ab14f839c70bde515",
    "deepnote_cell_type": "code",
    "deepnote_to_be_reexecuted": false,
    "execution_millis": 342,
    "execution_start": 1670028433473,
    "source_hash": "1823a5e5",
    "tags": []
   },
   "outputs": [
    {
     "name": "stdout",
     "output_type": "stream",
     "text": [
      "Training Score:  0.8029315960912052\n",
      "Test Score:  0.7857142857142857\n"
     ]
    }
   ],
   "source": [
    "clf_RF = RandomForestClassifier(n_estimators=200, max_leaf_nodes=7, random_state=42)\n",
    "clf_RF.fit(X_train, y_train.astype(\"str\"))\n",
    "print(\"Training Score: \", clf_RF.score(X_train, y_train.astype(\"str\")))\n",
    "print(\"Test Score: \", clf_RF.score(X_test, y_test.astype(\"str\")))"
   ]
  },
  {
   "cell_type": "markdown",
   "metadata": {
    "cell_id": "5a1d3ddaf8c84358b7579fbca1bfba6a",
    "deepnote_cell_type": "markdown",
    "tags": []
   },
   "source": [
    "Random Forest doesn't get much improve in this task. It gets 78.57% accuracy on the test dataset. But it shows how good it is for prevent overfitting. We store the result for future use."
   ]
  },
  {
   "cell_type": "code",
   "execution_count": 20,
   "metadata": {
    "cell_id": "bd11a259283b4d14a314b09d8ee77f0e",
    "deepnote_cell_type": "code",
    "deepnote_to_be_reexecuted": false,
    "execution_millis": 54,
    "execution_start": 1670028433818,
    "source_hash": "32826f57",
    "tags": []
   },
   "outputs": [],
   "source": [
    "RF_acc = clf_RF.score(X_test, y_test.astype(\"str\"))\n",
    "RF_result = clf_RF.predict(X_test)"
   ]
  },
  {
   "cell_type": "markdown",
   "metadata": {
    "cell_id": "b5fcefb8019c4cb1addc5ee1daf1e19e",
    "deepnote_cell_type": "markdown",
    "tags": []
   },
   "source": [
    "Similar to Random Forest, let's take a look at the feature importance."
   ]
  },
  {
   "cell_type": "code",
   "execution_count": 21,
   "metadata": {
    "cell_id": "169b3bdad2c8433ca8001ea6a584c574",
    "deepnote_cell_type": "code",
    "deepnote_to_be_reexecuted": false,
    "execution_millis": 15,
    "execution_start": 1670028433908,
    "source_hash": "c5707164",
    "tags": []
   },
   "outputs": [
    {
     "data": {
      "text/plain": [
       "Pregnancies                 0.052909\n",
       "Glucose                     0.401967\n",
       "BloodPressure               0.031670\n",
       "SkinThickness               0.022298\n",
       "Insulin                     0.054308\n",
       "BMI                         0.186646\n",
       "DiabetesPedigreeFunction    0.050335\n",
       "Age                         0.199866\n",
       "dtype: float64"
      ]
     },
     "execution_count": 21,
     "metadata": {},
     "output_type": "execute_result"
    }
   ],
   "source": [
    "pd.Series(clf_RF.feature_importances_, index=clf_RF.feature_names_in_)"
   ]
  },
  {
   "cell_type": "markdown",
   "metadata": {
    "cell_id": "a7d278026bc94e8f9ad052ba03173b2f",
    "deepnote_cell_type": "markdown",
    "tags": []
   },
   "source": [
    "We get very similar conclusion to Random Forest. But in Random Forest, Age seems to be a little much important than BMI."
   ]
  },
  {
   "cell_type": "markdown",
   "metadata": {
    "cell_id": "7c65fa04c9cf4db28ae249331ac58997",
    "deepnote_cell_type": "markdown",
    "tags": []
   },
   "source": [
    "## Part 3: Kmeans\n",
    "\n",
    "In this part, we use Kmeans to do clustering on the dataset. We will use the top 3 important features for kmeans training."
   ]
  },
  {
   "cell_type": "markdown",
   "metadata": {
    "cell_id": "a73506d0f8c34151b3592b9ce6e805e1",
    "deepnote_cell_type": "markdown",
    "tags": []
   },
   "source": [
    "Firstly, we will create a dataframe with the columns we want. Note that range affects the performance of Kmeans, so we will use the scaled data."
   ]
  },
  {
   "cell_type": "code",
   "execution_count": 22,
   "metadata": {
    "cell_id": "c40fe12dfeef4a939682ad1eff109cf6",
    "deepnote_cell_type": "code",
    "deepnote_to_be_reexecuted": false,
    "execution_millis": 0,
    "execution_start": 1670028433922,
    "source_hash": "74792f9c",
    "tags": []
   },
   "outputs": [],
   "source": [
    "kmeans_cols = [\"Glucose\", \"BMI\", \"Age\"]\n",
    "X_train_scaled_kmeans = X_train_scaled[kmeans_cols].copy()"
   ]
  },
  {
   "cell_type": "markdown",
   "metadata": {
    "cell_id": "e0c9949561404d7383f7d1d1938ded16",
    "deepnote_cell_type": "markdown",
    "tags": []
   },
   "source": [
    "Then we will initiate a kmeans class with n_clusters = 2. The reason that we set it to 2 is because we know there will be two classes: positive for diabetes or not."
   ]
  },
  {
   "cell_type": "code",
   "execution_count": 23,
   "metadata": {
    "cell_id": "3ea3fe822fb64035a48d23358ce32c29",
    "deepnote_cell_type": "code",
    "deepnote_to_be_reexecuted": false,
    "execution_millis": 24,
    "execution_start": 1670028433977,
    "source_hash": "84ad876a",
    "tags": []
   },
   "outputs": [],
   "source": [
    "kmeans = KMeans(n_clusters=2,random_state=42)\n",
    "kmeans.fit(X_train_scaled_kmeans)\n",
    "X_train_scaled_kmeans[\"y_predict\"] = kmeans.predict(X_train_scaled_kmeans)\n",
    "X_train_scaled_kmeans[\"y\"] = list(y_train)"
   ]
  },
  {
   "cell_type": "markdown",
   "metadata": {
    "cell_id": "ce696447e7ac408fbb797cb3bdfaeafc",
    "deepnote_cell_type": "markdown",
    "tags": []
   },
   "source": [
    "Before calculating the accuracy of the kmeans method, there is one more thing we need to do. Since Kmeans is an unsupervised method, it will divide the data into two clusters, but which one is class 1 has no difference. So we will plot the prediction and see which class it predict is more likely to be \"positive\" in the training data."
   ]
  },
  {
   "cell_type": "markdown",
   "metadata": {
    "cell_id": "69a7dd98b58d44338c9113dd5cebd99e",
    "deepnote_cell_type": "markdown",
    "tags": []
   },
   "source": [
    "We choose Glucose and BMI for x and y axis."
   ]
  },
  {
   "cell_type": "code",
   "execution_count": 24,
   "metadata": {
    "cell_id": "10b397ab77474c3395d0f63d3104b26d",
    "deepnote_cell_type": "code",
    "deepnote_to_be_reexecuted": false,
    "execution_millis": 26,
    "execution_start": 1670028434028,
    "source_hash": "ece731ce",
    "tags": []
   },
   "outputs": [
    {
     "data": {
      "text/html": [
       "\n",
       "<div id=\"altair-viz-bf15082e2d39443cad7839bd34be7063\"></div>\n",
       "<script type=\"text/javascript\">\n",
       "  var VEGA_DEBUG = (typeof VEGA_DEBUG == \"undefined\") ? {} : VEGA_DEBUG;\n",
       "  (function(spec, embedOpt){\n",
       "    let outputDiv = document.currentScript.previousElementSibling;\n",
       "    if (outputDiv.id !== \"altair-viz-bf15082e2d39443cad7839bd34be7063\") {\n",
       "      outputDiv = document.getElementById(\"altair-viz-bf15082e2d39443cad7839bd34be7063\");\n",
       "    }\n",
       "    const paths = {\n",
       "      \"vega\": \"https://cdn.jsdelivr.net/npm//vega@5?noext\",\n",
       "      \"vega-lib\": \"https://cdn.jsdelivr.net/npm//vega-lib?noext\",\n",
       "      \"vega-lite\": \"https://cdn.jsdelivr.net/npm//vega-lite@4.17.0?noext\",\n",
       "      \"vega-embed\": \"https://cdn.jsdelivr.net/npm//vega-embed@6?noext\",\n",
       "    };\n",
       "\n",
       "    function maybeLoadScript(lib, version) {\n",
       "      var key = `${lib.replace(\"-\", \"\")}_version`;\n",
       "      return (VEGA_DEBUG[key] == version) ?\n",
       "        Promise.resolve(paths[lib]) :\n",
       "        new Promise(function(resolve, reject) {\n",
       "          var s = document.createElement('script');\n",
       "          document.getElementsByTagName(\"head\")[0].appendChild(s);\n",
       "          s.async = true;\n",
       "          s.onload = () => {\n",
       "            VEGA_DEBUG[key] = version;\n",
       "            return resolve(paths[lib]);\n",
       "          };\n",
       "          s.onerror = () => reject(`Error loading script: ${paths[lib]}`);\n",
       "          s.src = paths[lib];\n",
       "        });\n",
       "    }\n",
       "\n",
       "    function showError(err) {\n",
       "      outputDiv.innerHTML = `<div class=\"error\" style=\"color:red;\">${err}</div>`;\n",
       "      throw err;\n",
       "    }\n",
       "\n",
       "    function displayChart(vegaEmbed) {\n",
       "      vegaEmbed(outputDiv, spec, embedOpt)\n",
       "        .catch(err => showError(`Javascript Error: ${err.message}<br>This usually means there's a typo in your chart specification. See the javascript console for the full traceback.`));\n",
       "    }\n",
       "\n",
       "    if(typeof define === \"function\" && define.amd) {\n",
       "      requirejs.config({paths});\n",
       "      require([\"vega-embed\"], displayChart, err => showError(`Error loading script: ${err.message}`));\n",
       "    } else {\n",
       "      maybeLoadScript(\"vega\", \"5\")\n",
       "        .then(() => maybeLoadScript(\"vega-lite\", \"4.17.0\"))\n",
       "        .then(() => maybeLoadScript(\"vega-embed\", \"6\"))\n",
       "        .catch(showError)\n",
       "        .then(() => displayChart(vegaEmbed));\n",
       "    }\n",
       "  })({\"config\": {\"view\": {\"continuousWidth\": 400, \"continuousHeight\": 300}}, \"hconcat\": [{\"mark\": \"circle\", \"encoding\": {\"color\": {\"field\": \"y\", \"type\": \"nominal\"}, \"tooltip\": [{\"field\": \"y\", \"type\": \"quantitative\"}, {\"field\": \"Glucose\", \"type\": \"quantitative\"}, {\"field\": \"BMI\", \"type\": \"quantitative\"}, {\"field\": \"Age\", \"type\": \"quantitative\"}], \"x\": {\"field\": \"Glucose\", \"type\": \"quantitative\"}, \"y\": {\"field\": \"BMI\", \"type\": \"quantitative\"}}}, {\"mark\": \"circle\", \"encoding\": {\"color\": {\"field\": \"y_predict\", \"type\": \"nominal\"}, \"tooltip\": [{\"field\": \"y_predict\", \"type\": \"quantitative\"}, {\"field\": \"Glucose\", \"type\": \"quantitative\"}, {\"field\": \"BMI\", \"type\": \"quantitative\"}, {\"field\": \"Age\", \"type\": \"quantitative\"}], \"x\": {\"field\": \"Glucose\", \"type\": \"quantitative\"}, \"y\": {\"field\": \"BMI\", \"type\": \"quantitative\"}}}], \"data\": {\"name\": \"data-984f7fc72970506c2243c173a17a8b2c\"}, \"$schema\": \"https://vega.github.io/schema/vega-lite/v4.17.0.json\", \"datasets\": {\"data-984f7fc72970506c2243c173a17a8b2c\": [{\"Glucose\": -1.1513979239961076, \"BMI\": -4.135255778599698, \"Age\": -1.035940379394779, \"y_predict\": 1, \"y\": 0}, {\"Glucose\": -0.27664282614197877, \"BMI\": -0.4891688057566077, \"Age\": 1.4871008455407202, \"y_predict\": 0, \"y\": 1}, {\"Glucose\": 0.5668710182173597, \"BMI\": -0.42452187361399973, \"Age\": -0.9489389578452792, \"y_predict\": 1, \"y\": 0}, {\"Glucose\": 1.2541785951027467, \"BMI\": -1.3037201507534686, \"Age\": 2.79212216878322, \"y_predict\": 0, \"y\": 0}, {\"Glucose\": 0.4106647507434082, \"BMI\": 1.8381207513772806, \"Age\": 1.1390951593427203, \"y_predict\": 0, \"y\": 1}, {\"Glucose\": 0.2856997367642469, \"BMI\": -0.7865446936126046, \"Age\": -0.9489389578452792, \"y_predict\": 1, \"y\": 0}, {\"Glucose\": 0.34818224375382756, \"BMI\": 0.11851235638390734, \"Age\": -0.8619375362957792, \"y_predict\": 1, \"y\": 1}, {\"Glucose\": 1.2541785951027467, \"BMI\": -0.8382622393266908, \"Age\": 1.2260965808922204, \"y_predict\": 0, \"y\": 1}, {\"Glucose\": -0.40160784012114004, \"BMI\": 0.45467640352546906, \"Age\": -0.7749361147462792, \"y_predict\": 1, \"y\": 0}, {\"Glucose\": -1.276362937975269, \"BMI\": -1.665742970752073, \"Age\": -1.035940379394779, \"y_predict\": 1, \"y\": 0}, {\"Glucose\": -1.0576741635117366, \"BMI\": 0.6744759728103367, \"Age\": -0.9489389578452792, \"y_predict\": 1, \"y\": 0}, {\"Glucose\": 1.5665911300506499, \"BMI\": 1.5019567042357187, \"Age\": -0.6009332716472792, \"y_predict\": 0, \"y\": 1}, {\"Glucose\": -1.0264329100169465, \"BMI\": -0.38573371432843484, \"Age\": -0.9489389578452792, \"y_predict\": 1, \"y\": 0}, {\"Glucose\": 0.785559792680892, \"BMI\": -0.3986631007569566, \"Age\": -0.5139318500977792, \"y_predict\": 1, \"y\": 0}, {\"Glucose\": 2.191416199946456, \"BMI\": -0.14007537218652463, \"Age\": 0.0950781007487206, \"y_predict\": 0, \"y\": 0}, {\"Glucose\": 0.0357697088059244, \"BMI\": 0.17022990209799355, \"Age\": 0.008076679199220628, \"y_predict\": 1, \"y\": 1}, {\"Glucose\": 1.1916960881131662, \"BMI\": -0.5926038971847806, \"Age\": 0.6170866300457205, \"y_predict\": 0, \"y\": 0}, {\"Glucose\": -0.6515378680794626, \"BMI\": 0.11851235638390734, \"Age\": -0.42693042854827923, \"y_predict\": 1, \"y\": 1}, {\"Glucose\": 0.06701096230071471, \"BMI\": 0.0021478785272131297, \"Age\": 0.18207952229822058, \"y_predict\": 1, \"y\": 1}, {\"Glucose\": 0.06701096230071471, \"BMI\": 3.273282644943177, \"Age\": -0.9489389578452792, \"y_predict\": 0, \"y\": 0}, {\"Glucose\": 1.0667310741340048, \"BMI\": 0.8684167692381606, \"Age\": 0.0950781007487206, \"y_predict\": 0, \"y\": 0}, {\"Glucose\": -0.589055361089882, \"BMI\": -0.34694555504286995, \"Age\": -0.5139318500977792, \"y_predict\": 1, \"y\": 0}, {\"Glucose\": 0.12949346929029534, \"BMI\": 0.23487683424060155, \"Age\": -0.16592616389977932, \"y_predict\": 1, \"y\": 0}, {\"Glucose\": -0.6515378680794626, \"BMI\": -0.25643985004321884, \"Age\": 1.1390951593427203, \"y_predict\": 0, \"y\": 0}, {\"Glucose\": -0.5265728541003013, \"BMI\": -0.2693692364717406, \"Age\": 0.7040880515952205, \"y_predict\": 1, \"y\": 1}, {\"Glucose\": 0.31694099025903727, \"BMI\": -0.049569667186873084, \"Age\": -0.07892474235027935, \"y_predict\": 1, \"y\": 1}, {\"Glucose\": 0.7543185391861017, \"BMI\": -1.2649319914679036, \"Age\": 2.09611079638722, \"y_predict\": 0, \"y\": 0}, {\"Glucose\": 0.9730073136496339, \"BMI\": 1.230439589236765, \"Age\": -0.5139318500977792, \"y_predict\": 0, \"y\": 0}, {\"Glucose\": -0.6515378680794626, \"BMI\": 0.8684167692381606, \"Age\": 0.7910894731447204, \"y_predict\": 0, \"y\": 0}, {\"Glucose\": 0.8168010461756823, \"BMI\": 2.2389317306614496, \"Age\": -0.5139318500977792, \"y_predict\": 0, \"y\": 1}, {\"Glucose\": 0.2232172297746663, \"BMI\": 1.4631685449501535, \"Age\": -0.16592616389977932, \"y_predict\": 0, \"y\": 1}, {\"Glucose\": -0.6515378680794626, \"BMI\": -0.15300475861504598, \"Age\": -1.035940379394779, \"y_predict\": 1, \"y\": 0}, {\"Glucose\": -1.276362937975269, \"BMI\": -0.25643985004321884, \"Age\": -0.9489389578452792, \"y_predict\": 1, \"y\": 0}, {\"Glucose\": -1.1513979239961076, \"BMI\": 0.6356878135247713, \"Age\": -0.42693042854827923, \"y_predict\": 1, \"y\": 0}, {\"Glucose\": 2.2851399604308273, \"BMI\": -1.0968499678971229, \"Age\": 2.27011363948622, \"y_predict\": 0, \"y\": 1}, {\"Glucose\": 0.06701096230071471, \"BMI\": 0.20901806138355888, \"Age\": 0.0950781007487206, \"y_predict\": 1, \"y\": 0}, {\"Glucose\": -1.3388454449648495, \"BMI\": -0.12714598575800287, \"Age\": -0.6009332716472792, \"y_predict\": 1, \"y\": 1}, {\"Glucose\": -0.46409034711072067, \"BMI\": -0.7994740800411259, \"Age\": -0.5139318500977792, \"y_predict\": 1, \"y\": 0}, {\"Glucose\": 0.25445848326945664, \"BMI\": 1.0235694063804193, \"Age\": 0.9650923162437204, \"y_predict\": 0, \"y\": 1}, {\"Glucose\": 0.25445848326945664, \"BMI\": 0.40295885781138285, \"Age\": -0.8619375362957792, \"y_predict\": 1, \"y\": 0}, {\"Glucose\": -1.8699467543762849, \"BMI\": 0.3124531528117313, \"Age\": 1.1390951593427203, \"y_predict\": 1, \"y\": 0}, {\"Glucose\": -1.2451216844804787, \"BMI\": -0.24351046361469705, \"Age\": -0.6879346931967791, \"y_predict\": 1, \"y\": 0}, {\"Glucose\": -0.589055361089882, \"BMI\": -4.135255778599698, \"Age\": -1.035940379394779, \"y_predict\": 1, \"y\": 0}, {\"Glucose\": -0.6827791215742529, \"BMI\": -0.825332852898169, \"Age\": -0.7749361147462792, \"y_predict\": 1, \"y\": 0}, {\"Glucose\": -0.4328490936159303, \"BMI\": 0.5968996542392069, \"Age\": -0.6879346931967791, \"y_predict\": 1, \"y\": 1}, {\"Glucose\": 1.5353498765558595, \"BMI\": 0.3253825392402531, \"Age\": -0.2529275854492793, \"y_predict\": 0, \"y\": 1}, {\"Glucose\": -1.1201566705013173, \"BMI\": -0.24351046361469705, \"Age\": 0.18207952229822058, \"y_predict\": 1, \"y\": 0}, {\"Glucose\": -0.589055361089882, \"BMI\": 0.3253825392402531, \"Age\": -0.7749361147462792, \"y_predict\": 1, \"y\": 0}, {\"Glucose\": -0.7452616285638335, \"BMI\": 0.4676057899539909, \"Age\": 1.6611036886397201, \"y_predict\": 0, \"y\": 1}, {\"Glucose\": 0.19197597627987598, \"BMI\": -0.5538157378992157, \"Age\": -0.6879346931967791, \"y_predict\": 1, \"y\": 0}, {\"Glucose\": 0.3794234972486179, \"BMI\": 1.0623575656659847, \"Age\": 0.35608236539722055, \"y_predict\": 0, \"y\": 0}, {\"Glucose\": -0.8389853890482045, \"BMI\": -0.049569667186873084, \"Age\": -0.8619375362957792, \"y_predict\": 1, \"y\": 0}, {\"Glucose\": -1.182639177490898, \"BMI\": 0.29952376638320954, \"Age\": -0.6879346931967791, \"y_predict\": 1, \"y\": 0}, {\"Glucose\": 0.06701096230071471, \"BMI\": 0.41588824423990467, \"Age\": -0.33992900699877926, \"y_predict\": 1, \"y\": 0}, {\"Glucose\": 2.066451185967295, \"BMI\": 0.7391229049529446, \"Age\": 0.7040880515952205, \"y_predict\": 0, \"y\": 1}, {\"Glucose\": 0.9730073136496339, \"BMI\": -0.6701802157559099, \"Age\": 0.8780908946942204, \"y_predict\": 0, \"y\": 1}, {\"Glucose\": 0.25445848326945664, \"BMI\": 0.15730051566947267, \"Age\": -0.6879346931967791, \"y_predict\": 1, \"y\": 0}, {\"Glucose\": -0.46409034711072067, \"BMI\": 0.7132641320959011, \"Age\": -0.6009332716472792, \"y_predict\": 1, \"y\": 0}, {\"Glucose\": -0.30788407963676906, \"BMI\": -0.32108678218582687, \"Age\": -0.9489389578452792, \"y_predict\": 1, \"y\": 0}, {\"Glucose\": -0.30788407963676906, \"BMI\": -0.954626717183385, \"Age\": -0.16592616389977932, \"y_predict\": 1, \"y\": 0}, {\"Glucose\": 0.691836032196521, \"BMI\": 0.5968996542392069, \"Age\": 1.5741022670902203, \"y_predict\": 0, \"y\": 1}, {\"Glucose\": 0.09825221579550503, \"BMI\": -1.31664953718199, \"Age\": -1.035940379394779, \"y_predict\": 1, \"y\": 0}, {\"Glucose\": 1.379143609081908, \"BMI\": 2.6268133235170974, \"Age\": -0.8619375362957792, \"y_predict\": 0, \"y\": 0}, {\"Glucose\": -0.40160784012114004, \"BMI\": -0.19179291790061084, \"Age\": 0.008076679199220628, \"y_predict\": 1, \"y\": 1}, {\"Glucose\": 0.5043885112277792, \"BMI\": -0.10128721290095975, \"Age\": -0.2529275854492793, \"y_predict\": 1, \"y\": 0}, {\"Glucose\": 1.8165211580089724, \"BMI\": 0.40295885781138285, \"Age\": 0.35608236539722055, \"y_predict\": 0, \"y\": 0}, {\"Glucose\": 1.5665911300506499, \"BMI\": 0.17022990209799355, \"Age\": -0.7749361147462792, \"y_predict\": 0, \"y\": 1}, {\"Glucose\": -1.182639177490898, \"BMI\": -0.34694555504286995, \"Age\": 0.2690809438477206, \"y_predict\": 1, \"y\": 0}, {\"Glucose\": -0.6202966145846722, \"BMI\": -1.0063442628974717, \"Age\": -0.6009332716472792, \"y_predict\": 1, \"y\": 0}, {\"Glucose\": -0.026712798183656235, \"BMI\": -0.19179291790061084, \"Age\": -0.6009332716472792, \"y_predict\": 1, \"y\": 0}, {\"Glucose\": -0.995191656522156, \"BMI\": -1.2261438321823388, \"Age\": 0.008076679199220628, \"y_predict\": 1, \"y\": 0}, {\"Glucose\": 0.25445848326945664, \"BMI\": 0.8425579963811171, \"Age\": 0.7040880515952205, \"y_predict\": 0, \"y\": 0}, {\"Glucose\": -0.05795405167844655, \"BMI\": 0.053865424241299344, \"Age\": -0.7749361147462792, \"y_predict\": 1, \"y\": 1}, {\"Glucose\": -0.3703665866263497, \"BMI\": 0.3641706985258175, \"Age\": -0.6009332716472792, \"y_predict\": 1, \"y\": 1}, {\"Glucose\": 0.19197597627987598, \"BMI\": 0.5581114949536415, \"Age\": -0.8619375362957792, \"y_predict\": 1, \"y\": 0}, {\"Glucose\": -0.49533160060551096, \"BMI\": -0.15300475861504598, \"Age\": 0.35608236539722055, \"y_predict\": 1, \"y\": 0}, {\"Glucose\": -1.3700866984596398, \"BMI\": 0.4934645628110335, \"Age\": 0.18207952229822058, \"y_predict\": 1, \"y\": 0}, {\"Glucose\": -0.8077441355534142, \"BMI\": -1.0451324221830365, \"Age\": -0.9489389578452792, \"y_predict\": 1, \"y\": 0}, {\"Glucose\": -0.49533160060551096, \"BMI\": 0.6356878135247713, \"Age\": -0.42693042854827923, \"y_predict\": 1, \"y\": 0}, {\"Glucose\": 0.44190600423819854, \"BMI\": 1.3338746806649375, \"Age\": -0.7749361147462792, \"y_predict\": 1, \"y\": 1}, {\"Glucose\": 0.31694099025903727, \"BMI\": 0.1443711292409509, \"Age\": -0.42693042854827923, \"y_predict\": 1, \"y\": 0}, {\"Glucose\": -0.5578141075950916, \"BMI\": 1.4631685449501535, \"Age\": 0.008076679199220628, \"y_predict\": 1, \"y\": 0}, {\"Glucose\": -1.2138804309856883, \"BMI\": -0.4503806464710428, \"Age\": -0.6879346931967791, \"y_predict\": 1, \"y\": 0}, {\"Glucose\": 0.2232172297746663, \"BMI\": -1.407155242181641, \"Age\": 1.9221079532882202, \"y_predict\": 0, \"y\": 0}, {\"Glucose\": 0.0357697088059244, \"BMI\": 0.40295885781138285, \"Age\": -0.2529275854492793, \"y_predict\": 1, \"y\": 1}, {\"Glucose\": 0.5356297647225695, \"BMI\": 0.5581114949536415, \"Age\": -0.6879346931967791, \"y_predict\": 1, \"y\": 1}, {\"Glucose\": 0.12949346929029534, \"BMI\": -0.9416973307548637, \"Age\": -1.035940379394779, \"y_predict\": 1, \"y\": 0}, {\"Glucose\": -0.6202966145846722, \"BMI\": -0.954626717183385, \"Age\": -0.9489389578452792, \"y_predict\": 1, \"y\": 0}, {\"Glucose\": 0.3794234972486179, \"BMI\": 0.11851235638390734, \"Age\": 0.5300852084962205, \"y_predict\": 0, \"y\": 1}, {\"Glucose\": -0.30788407963676906, \"BMI\": -0.7477565343270397, \"Age\": -0.8619375362957792, \"y_predict\": 1, \"y\": 0}, {\"Glucose\": -0.8077441355534142, \"BMI\": 0.4417470170969473, \"Age\": -0.42693042854827923, \"y_predict\": 1, \"y\": 0}, {\"Glucose\": -0.12043655866802719, \"BMI\": 0.2736649935261669, \"Age\": 0.4430837869467205, \"y_predict\": 0, \"y\": 0}, {\"Glucose\": 1.379143609081908, \"BMI\": 2.0579203206621473, \"Age\": -0.6009332716472792, \"y_predict\": 0, \"y\": 0}, {\"Glucose\": -0.3703665866263497, \"BMI\": -1.148567513611209, \"Age\": -0.6009332716472792, \"y_predict\": 1, \"y\": 0}, {\"Glucose\": -0.3391253331315594, \"BMI\": -0.540886351470694, \"Age\": 2.18311221793672, \"y_predict\": 0, \"y\": 0}, {\"Glucose\": -0.46409034711072067, \"BMI\": 0.9589224742378113, \"Age\": -0.9489389578452792, \"y_predict\": 1, \"y\": 0}, {\"Glucose\": -0.8077441355534142, \"BMI\": 0.3900294713828611, \"Age\": 0.8780908946942204, \"y_predict\": 1, \"y\": 1}, {\"Glucose\": -3.775663217558494, \"BMI\": -0.5538157378992157, \"Age\": -1.035940379394779, \"y_predict\": 1, \"y\": 0}, {\"Glucose\": 0.691836032196521, \"BMI\": 0.37710008495433933, \"Age\": 0.7040880515952205, \"y_predict\": 0, \"y\": 1}, {\"Glucose\": -0.6202966145846722, \"BMI\": -1.0063442628974717, \"Age\": -0.8619375362957792, \"y_predict\": 1, \"y\": 0}, {\"Glucose\": -0.18291906565760782, \"BMI\": -1.0322030357545149, \"Age\": 0.0950781007487206, \"y_predict\": 1, \"y\": 0}, {\"Glucose\": 0.6605947787017308, \"BMI\": -0.4115924871854779, \"Age\": 2.44411648258522, \"y_predict\": 0, \"y\": 0}, {\"Glucose\": -0.1516778121628175, \"BMI\": -1.277861377896425, \"Age\": 0.35608236539722055, \"y_predict\": 1, \"y\": 0}, {\"Glucose\": 0.16073472278508566, \"BMI\": -0.24351046361469705, \"Age\": 1.2260965808922204, \"y_predict\": 0, \"y\": 1}, {\"Glucose\": -1.3388454449648495, \"BMI\": 0.06679481066982113, \"Age\": 0.5300852084962205, \"y_predict\": 1, \"y\": 0}, {\"Glucose\": -0.6827791215742529, \"BMI\": -0.8511916257552126, \"Age\": -1.035940379394779, \"y_predict\": 1, \"y\": 0}, {\"Glucose\": 0.691836032196521, \"BMI\": 1.3468040670934591, \"Age\": -0.9489389578452792, \"y_predict\": 0, \"y\": 0}, {\"Glucose\": 0.2232172297746663, \"BMI\": 0.5839702678106851, \"Age\": 0.35608236539722055, \"y_predict\": 0, \"y\": 1}, {\"Glucose\": -1.1201566705013173, \"BMI\": -0.10128721290095975, \"Age\": 0.7910894731447204, \"y_predict\": 1, \"y\": 0}, {\"Glucose\": -1.0576741635117366, \"BMI\": -1.31664953718199, \"Age\": -1.035940379394779, \"y_predict\": 1, \"y\": 0}, {\"Glucose\": -0.46409034711072067, \"BMI\": -1.083920581468601, \"Age\": 0.9650923162437204, \"y_predict\": 1, \"y\": 0}, {\"Glucose\": -0.6515378680794626, \"BMI\": -0.29522800932878374, \"Age\": -1.035940379394779, \"y_predict\": 1, \"y\": 0}, {\"Glucose\": 0.09825221579550503, \"BMI\": 0.4417470170969473, \"Age\": 0.0950781007487206, \"y_predict\": 0, \"y\": 0}, {\"Glucose\": -0.8077441355534142, \"BMI\": 1.6312505685209349, \"Age\": -0.9489389578452792, \"y_predict\": 1, \"y\": 0}, {\"Glucose\": -1.3076041914700591, \"BMI\": 0.0021478785272131297, \"Age\": -0.9489389578452792, \"y_predict\": 1, \"y\": 0}, {\"Glucose\": -0.4328490936159303, \"BMI\": 0.6227584270962495, \"Age\": -0.16592616389977932, \"y_predict\": 1, \"y\": 0}, {\"Glucose\": -0.9639504030273658, \"BMI\": -0.5150275786136508, \"Age\": -0.16592616389977932, \"y_predict\": 1, \"y\": 0}, {\"Glucose\": -1.1201566705013173, \"BMI\": 0.9847812470948548, \"Age\": -0.5139318500977792, \"y_predict\": 1, \"y\": 0}, {\"Glucose\": 1.2229373416079565, \"BMI\": -0.19179291790061084, \"Age\": 0.5300852084962205, \"y_predict\": 0, \"y\": 1}, {\"Glucose\": 1.285419848597537, \"BMI\": -0.9934148764689499, \"Age\": 1.4871008455407202, \"y_predict\": 0, \"y\": 1}, {\"Glucose\": -1.2451216844804787, \"BMI\": 1.9027676835198886, \"Age\": 0.7910894731447204, \"y_predict\": 0, \"y\": 0}, {\"Glucose\": -0.4328490936159303, \"BMI\": -0.15300475861504598, \"Age\": -0.7749361147462792, \"y_predict\": 1, \"y\": 0}, {\"Glucose\": -0.4328490936159303, \"BMI\": -0.7089683750414748, \"Age\": -0.7749361147462792, \"y_predict\": 1, \"y\": 0}, {\"Glucose\": 0.7230772856913114, \"BMI\": 0.8425579963811171, \"Age\": 0.35608236539722055, \"y_predict\": 0, \"y\": 1}, {\"Glucose\": -0.21416031915239814, \"BMI\": -1.0580618086115579, \"Age\": -0.16592616389977932, \"y_predict\": 1, \"y\": 0}, {\"Glucose\": 0.4106647507434082, \"BMI\": -0.7218977614699966, \"Age\": -1.035940379394779, \"y_predict\": 1, \"y\": 0}, {\"Glucose\": 0.19197597627987598, \"BMI\": 0.3124531528117313, \"Age\": -0.9489389578452792, \"y_predict\": 1, \"y\": 0}, {\"Glucose\": 1.8477624115037627, \"BMI\": 0.5839702678106851, \"Age\": 0.18207952229822058, \"y_predict\": 0, \"y\": 1}, {\"Glucose\": 1.472867369566279, \"BMI\": 0.7779110642385091, \"Age\": 0.0950781007487206, \"y_predict\": 0, \"y\": 1}, {\"Glucose\": 1.5665911300506499, \"BMI\": 1.7346856599491072, \"Age\": 1.83510653173872, \"y_predict\": 0, \"y\": 1}, {\"Glucose\": -0.46409034711072067, \"BMI\": -1.2002850593252956, \"Age\": 1.3130980024417203, \"y_predict\": 1, \"y\": 0}, {\"Glucose\": -0.026712798183656235, \"BMI\": -0.30815739575730505, \"Age\": 0.0950781007487206, \"y_predict\": 1, \"y\": 0}, {\"Glucose\": 2.3163812139256175, \"BMI\": -0.14007537218652463, \"Age\": -0.16592616389977932, \"y_predict\": 0, \"y\": 1}, {\"Glucose\": 0.7543185391861017, \"BMI\": 0.06679481066982113, \"Age\": 3.22712927653072, \"y_predict\": 0, \"y\": 1}, {\"Glucose\": -0.49533160060551096, \"BMI\": -1.5493784928953787, \"Age\": -0.9489389578452792, \"y_predict\": 1, \"y\": 0}, {\"Glucose\": 0.691836032196521, \"BMI\": 1.682968114235021, \"Age\": 1.2260965808922204, \"y_predict\": 0, \"y\": 0}, {\"Glucose\": -1.276362937975269, \"BMI\": 1.0106400199518975, \"Age\": -0.42693042854827923, \"y_predict\": 1, \"y\": 0}, {\"Glucose\": -1.4013279519544302, \"BMI\": 0.10558296995538555, \"Age\": 0.7040880515952205, \"y_predict\": 1, \"y\": 0}, {\"Glucose\": 0.25445848326945664, \"BMI\": 4.540362514938294, \"Age\": -0.6009332716472792, \"y_predict\": 0, \"y\": 1}, {\"Glucose\": -1.088915417006527, \"BMI\": 1.2045808163797214, \"Age\": -0.33992900699877926, \"y_predict\": 1, \"y\": 0}, {\"Glucose\": 0.25445848326945664, \"BMI\": 0.5710408813821632, \"Age\": -0.07892474235027935, \"y_predict\": 0, \"y\": 1}, {\"Glucose\": -0.21416031915239814, \"BMI\": -0.42452187361399973, \"Age\": -0.6879346931967791, \"y_predict\": 1, \"y\": 0}, {\"Glucose\": -0.12043655866802719, \"BMI\": -0.42452187361399973, \"Age\": -0.2529275854492793, \"y_predict\": 1, \"y\": 0}, {\"Glucose\": 2.1289336929568754, \"BMI\": 0.29952376638320954, \"Age\": 0.7040880515952205, \"y_predict\": 0, \"y\": 1}, {\"Glucose\": -0.6515378680794626, \"BMI\": -0.25643985004321884, \"Age\": -0.07892474235027935, \"y_predict\": 1, \"y\": 1}, {\"Glucose\": 0.16073472278508566, \"BMI\": -0.7865446936126046, \"Age\": 0.5300852084962205, \"y_predict\": 1, \"y\": 0}, {\"Glucose\": -0.30788407963676906, \"BMI\": -0.24351046361469705, \"Age\": -0.2529275854492793, \"y_predict\": 1, \"y\": 0}, {\"Glucose\": 0.7230772856913114, \"BMI\": 0.0021478785272131297, \"Age\": 2.18311221793672, \"y_predict\": 0, \"y\": 1}, {\"Glucose\": 2.1289336929568754, \"BMI\": -0.10128721290095975, \"Age\": -0.33992900699877926, \"y_predict\": 0, \"y\": 1}, {\"Glucose\": -0.6202966145846722, \"BMI\": -1.4200846286101627, \"Age\": -1.035940379394779, \"y_predict\": 1, \"y\": 0}, {\"Glucose\": -0.6515378680794626, \"BMI\": -0.8641210121837339, \"Age\": -0.42693042854827923, \"y_predict\": 1, \"y\": 0}, {\"Glucose\": -1.4950517124388012, \"BMI\": -1.407155242181641, \"Age\": -0.6879346931967791, \"y_predict\": 1, \"y\": 0}, {\"Glucose\": -3.775663217558494, \"BMI\": 0.0021478785272131297, \"Age\": -0.9489389578452792, \"y_predict\": 1, \"y\": 0}, {\"Glucose\": -0.05795405167844655, \"BMI\": -1.601096038609465, \"Age\": 3.4011321196297195, \"y_predict\": 0, \"y\": 0}, {\"Glucose\": -0.8389853890482045, \"BMI\": -4.135255778599698, \"Age\": -0.6879346931967791, \"y_predict\": 1, \"y\": 0}, {\"Glucose\": 0.12949346929029534, \"BMI\": -4.135255778599698, \"Age\": 1.83510653173872, \"y_predict\": 1, \"y\": 1}, {\"Glucose\": -0.30788407963676906, \"BMI\": -0.24351046361469705, \"Age\": -0.8619375362957792, \"y_predict\": 1, \"y\": 0}, {\"Glucose\": 2.347622467420408, \"BMI\": 1.0106400199518975, \"Age\": 0.7040880515952205, \"y_predict\": 0, \"y\": 1}, {\"Glucose\": 1.1604548346183758, \"BMI\": -0.049569667186873084, \"Age\": 2.87912359033272, \"y_predict\": 0, \"y\": 1}, {\"Glucose\": -0.7452616285638335, \"BMI\": -1.7821074486087676, \"Age\": -1.035940379394779, \"y_predict\": 1, \"y\": 0}, {\"Glucose\": 0.004528455311134083, \"BMI\": 0.907204928523725, \"Age\": -0.42693042854827923, \"y_predict\": 1, \"y\": 0}, {\"Glucose\": -0.40160784012114004, \"BMI\": -0.7736153071840828, \"Age\": -0.6879346931967791, \"y_predict\": 1, \"y\": 0}, {\"Glucose\": 0.9417660601548435, \"BMI\": 1.4114509992360673, \"Age\": 0.2690809438477206, \"y_predict\": 0, \"y\": 1}, {\"Glucose\": -0.5578141075950916, \"BMI\": -0.566745124327737, \"Age\": -0.5139318500977792, \"y_predict\": 1, \"y\": 0}, {\"Glucose\": -0.6827791215742529, \"BMI\": -1.4976609471812925, \"Age\": -0.5139318500977792, \"y_predict\": 1, \"y\": 0}, {\"Glucose\": -0.12043655866802719, \"BMI\": -0.8770503986122556, \"Age\": -1.035940379394779, \"y_predict\": 1, \"y\": 0}, {\"Glucose\": 0.4106647507434082, \"BMI\": -1.0580618086115579, \"Age\": 2.35711506103572, \"y_predict\": 0, \"y\": 1}, {\"Glucose\": 0.3794234972486179, \"BMI\": 0.10558296995538555, \"Age\": 1.0520937377932202, \"y_predict\": 0, \"y\": 1}, {\"Glucose\": 1.8477624115037627, \"BMI\": 1.4631685449501535, \"Age\": 0.7040880515952205, \"y_predict\": 0, \"y\": 1}, {\"Glucose\": -0.21416031915239814, \"BMI\": -4.135255778599698, \"Age\": -0.6009332716472792, \"y_predict\": 1, \"y\": 0}, {\"Glucose\": -0.40160784012114004, \"BMI\": -0.6443214428988668, \"Age\": 1.6611036886397201, \"y_predict\": 0, \"y\": 1}, {\"Glucose\": 0.6293535252069404, \"BMI\": -0.566745124327737, \"Age\": 0.6170866300457205, \"y_predict\": 0, \"y\": 0}, {\"Glucose\": -0.8389853890482045, \"BMI\": 1.489027317807197, \"Age\": -1.035940379394779, \"y_predict\": 1, \"y\": 0}, {\"Glucose\": -0.6827791215742529, \"BMI\": 0.2607356070976451, \"Age\": -0.2529275854492793, \"y_predict\": 1, \"y\": 0}, {\"Glucose\": 1.0042485671444241, \"BMI\": 1.1140751113800709, \"Age\": -0.8619375362957792, \"y_predict\": 0, \"y\": 0}, {\"Glucose\": -3.775663217558494, \"BMI\": -0.9416973307548637, \"Age\": -0.9489389578452792, \"y_predict\": 1, \"y\": 0}, {\"Glucose\": -0.589055361089882, \"BMI\": 1.1140751113800709, \"Age\": -1.035940379394779, \"y_predict\": 1, \"y\": 0}, {\"Glucose\": -0.5265728541003013, \"BMI\": -0.540886351470694, \"Age\": -0.8619375362957792, \"y_predict\": 1, \"y\": 0}, {\"Glucose\": -0.8077441355534142, \"BMI\": -1.601096038609465, \"Age\": -0.6879346931967791, \"y_predict\": 1, \"y\": 0}, {\"Glucose\": 0.6605947787017308, \"BMI\": -0.20472230432913263, \"Age\": 0.8780908946942204, \"y_predict\": 0, \"y\": 1}, {\"Glucose\": -0.3703665866263497, \"BMI\": -0.5279569650421726, \"Age\": -0.16592616389977932, \"y_predict\": 1, \"y\": 1}, {\"Glucose\": -0.40160784012114004, \"BMI\": -0.8770503986122556, \"Age\": -1.035940379394779, \"y_predict\": 1, \"y\": 0}, {\"Glucose\": 1.879003664998553, \"BMI\": 0.5063939492395553, \"Age\": 1.5741022670902203, \"y_predict\": 0, \"y\": 1}, {\"Glucose\": 0.4731472577329888, \"BMI\": 0.6615465863818148, \"Age\": 0.8780908946942204, \"y_predict\": 0, \"y\": 1}, {\"Glucose\": -0.46409034711072067, \"BMI\": 0.28659437995468867, \"Age\": -0.9489389578452792, \"y_predict\": 1, \"y\": 0}, {\"Glucose\": -1.3388454449648495, \"BMI\": 0.22194744781208067, \"Age\": -0.6879346931967791, \"y_predict\": 1, \"y\": 0}, {\"Glucose\": -1.0264329100169465, \"BMI\": 2.9759067570871807, \"Age\": -0.6009332716472792, \"y_predict\": 1, \"y\": 1}, {\"Glucose\": 0.2232172297746663, \"BMI\": -0.5796745107562589, \"Age\": -0.9489389578452792, \"y_predict\": 1, \"y\": 0}, {\"Glucose\": -0.40160784012114004, \"BMI\": 0.5322527220965989, \"Age\": 0.008076679199220628, \"y_predict\": 1, \"y\": 0}, {\"Glucose\": 1.3479023555871177, \"BMI\": -0.15300475861504598, \"Age\": -0.07892474235027935, \"y_predict\": 0, \"y\": 1}, {\"Glucose\": 0.8480422996704726, \"BMI\": 0.20901806138355888, \"Age\": 1.4871008455407202, \"y_predict\": 0, \"y\": 1}, {\"Glucose\": 2.160174946451666, \"BMI\": 0.45467640352546906, \"Age\": 2.87912359033272, \"y_predict\": 0, \"y\": 1}, {\"Glucose\": -1.2451216844804787, \"BMI\": -0.5796745107562589, \"Age\": -0.9489389578452792, \"y_predict\": 1, \"y\": 0}, {\"Glucose\": -1.6512579799127527, \"BMI\": 0.45467640352546906, \"Age\": 1.2260965808922204, \"y_predict\": 1, \"y\": 0}, {\"Glucose\": -0.9639504030273658, \"BMI\": -0.9675561036119068, \"Age\": 0.2690809438477206, \"y_predict\": 1, \"y\": 0}, {\"Glucose\": -0.21416031915239814, \"BMI\": -0.9158385578978205, \"Age\": 2.09611079638722, \"y_predict\": 0, \"y\": 0}, {\"Glucose\": 0.09825221579550503, \"BMI\": -0.540886351470694, \"Age\": -0.2529275854492793, \"y_predict\": 1, \"y\": 0}, {\"Glucose\": 0.09825221579550503, \"BMI\": 0.2607356070976451, \"Age\": 0.4430837869467205, \"y_predict\": 0, \"y\": 1}, {\"Glucose\": 2.378863720915198, \"BMI\": 0.6098290406677287, \"Age\": -0.16592616389977932, \"y_predict\": 0, \"y\": 0}, {\"Glucose\": 2.0352099324725046, \"BMI\": 0.3253825392402531, \"Age\": 0.35608236539722055, \"y_predict\": 0, \"y\": 1}, {\"Glucose\": 0.19197597627987598, \"BMI\": 0.3253825392402531, \"Age\": -0.42693042854827923, \"y_predict\": 1, \"y\": 0}, {\"Glucose\": -0.9327091495325754, \"BMI\": -0.282298622900262, \"Age\": -0.16592616389977932, \"y_predict\": 1, \"y\": 0}, {\"Glucose\": -0.46409034711072067, \"BMI\": 0.28659437995468867, \"Age\": 1.6611036886397201, \"y_predict\": 0, \"y\": 0}, {\"Glucose\": -0.18291906565760782, \"BMI\": 0.7908404506670308, \"Age\": -0.42693042854827923, \"y_predict\": 1, \"y\": 0}, {\"Glucose\": 0.0357697088059244, \"BMI\": -0.282298622900262, \"Age\": -0.9489389578452792, \"y_predict\": 1, \"y\": 0}, {\"Glucose\": 1.0354898206392145, \"BMI\": 0.10558296995538555, \"Age\": -0.8619375362957792, \"y_predict\": 1, \"y\": 0}, {\"Glucose\": 0.34818224375382756, \"BMI\": -0.5150275786136508, \"Age\": 2.61811932568422, \"y_predict\": 0, \"y\": 0}, {\"Glucose\": 1.6290736370402306, \"BMI\": 0.6227584270962495, \"Age\": 0.4430837869467205, \"y_predict\": 0, \"y\": 1}, {\"Glucose\": 1.5041086230610692, \"BMI\": -0.2693692364717406, \"Age\": -0.16592616389977932, \"y_predict\": 0, \"y\": 1}, {\"Glucose\": 0.16073472278508566, \"BMI\": -0.30815739575730505, \"Age\": 0.6170866300457205, \"y_predict\": 0, \"y\": 0}, {\"Glucose\": -0.589055361089882, \"BMI\": -0.889979785040777, \"Age\": -1.035940379394779, \"y_predict\": 1, \"y\": 0}, {\"Glucose\": -0.4328490936159303, \"BMI\": -0.7218977614699966, \"Age\": -0.8619375362957792, \"y_predict\": 1, \"y\": 0}, {\"Glucose\": 0.5043885112277792, \"BMI\": -0.9287679443263419, \"Age\": -1.035940379394779, \"y_predict\": 1, \"y\": 0}, {\"Glucose\": -1.276362937975269, \"BMI\": -0.7477565343270397, \"Age\": 0.7040880515952205, \"y_predict\": 1, \"y\": 0}, {\"Glucose\": -0.05795405167844655, \"BMI\": 1.7217562735205854, \"Age\": -0.6009332716472792, \"y_predict\": 1, \"y\": 0}, {\"Glucose\": 0.785559792680892, \"BMI\": -0.29522800932878374, \"Age\": -0.33992900699877926, \"y_predict\": 1, \"y\": 0}, {\"Glucose\": -3.775663217558494, \"BMI\": 1.165792657094157, \"Age\": 0.35608236539722055, \"y_predict\": 1, \"y\": 1}, {\"Glucose\": -0.08919530517323687, \"BMI\": -4.135255778599698, \"Age\": -1.035940379394779, \"y_predict\": 1, \"y\": 0}, {\"Glucose\": 2.0976924394620853, \"BMI\": 0.0021478785272131297, \"Age\": -0.9489389578452792, \"y_predict\": 0, \"y\": 1}, {\"Glucose\": 0.6293535252069404, \"BMI\": -0.25643985004321884, \"Age\": -0.5139318500977792, \"y_predict\": 1, \"y\": 1}, {\"Glucose\": 1.1604548346183758, \"BMI\": 0.9589224742378113, \"Age\": -0.33992900699877926, \"y_predict\": 0, \"y\": 1}, {\"Glucose\": -0.8702266425429948, \"BMI\": -0.20472230432913263, \"Age\": -0.8619375362957792, \"y_predict\": 1, \"y\": 0}, {\"Glucose\": 1.1292135811235855, \"BMI\": 0.9589224742378113, \"Age\": -0.2529275854492793, \"y_predict\": 0, \"y\": 0}, {\"Glucose\": 0.7230772856913114, \"BMI\": -0.32108678218582687, \"Age\": 0.35608236539722055, \"y_predict\": 0, \"y\": 0}, {\"Glucose\": -0.49533160060551096, \"BMI\": 1.230439589236765, \"Age\": -0.9489389578452792, \"y_predict\": 1, \"y\": 0}, {\"Glucose\": 0.3794234972486179, \"BMI\": -0.6443214428988668, \"Age\": 0.2690809438477206, \"y_predict\": 1, \"y\": 0}, {\"Glucose\": -0.18291906565760782, \"BMI\": 0.22194744781208067, \"Age\": 0.6170866300457205, \"y_predict\": 0, \"y\": 1}, {\"Glucose\": 1.3166611020923273, \"BMI\": 0.907204928523725, \"Age\": 0.008076679199220628, \"y_predict\": 0, \"y\": 1}, {\"Glucose\": 1.8477624115037627, \"BMI\": 3.5447997599421313, \"Age\": -0.6879346931967791, \"y_predict\": 0, \"y\": 1}, {\"Glucose\": 0.7230772856913114, \"BMI\": 1.8251913649487588, \"Age\": 1.1390951593427203, \"y_predict\": 0, \"y\": 1}, {\"Glucose\": 0.6293535252069404, \"BMI\": 0.053865424241299344, \"Age\": -0.9489389578452792, \"y_predict\": 1, \"y\": 0}, {\"Glucose\": -0.18291906565760782, \"BMI\": -0.15300475861504598, \"Age\": -1.035940379394779, \"y_predict\": 1, \"y\": 0}, {\"Glucose\": 0.2856997367642469, \"BMI\": 0.9201343149522468, \"Age\": 0.35608236539722055, \"y_predict\": 0, \"y\": 1}, {\"Glucose\": 0.9105248066600533, \"BMI\": -1.4200846286101627, \"Age\": 0.35608236539722055, \"y_predict\": 0, \"y\": 0}, {\"Glucose\": -1.2138804309856883, \"BMI\": -1.407155242181641, \"Age\": -0.6879346931967791, \"y_predict\": 1, \"y\": 0}, {\"Glucose\": -0.12043655866802719, \"BMI\": -0.29522800932878374, \"Age\": -0.2529275854492793, \"y_predict\": 1, \"y\": 1}, {\"Glucose\": -0.589055361089882, \"BMI\": 0.971851860666333, \"Age\": 0.7910894731447204, \"y_predict\": 0, \"y\": 1}, {\"Glucose\": -0.9639504030273658, \"BMI\": -0.6055332836133019, \"Age\": -0.9489389578452792, \"y_predict\": 1, \"y\": 0}, {\"Glucose\": -0.24540157264718845, \"BMI\": 0.17022990209799355, \"Age\": -0.8619375362957792, \"y_predict\": 1, \"y\": 1}, {\"Glucose\": 1.660314890535021, \"BMI\": 0.11851235638390734, \"Age\": 0.2690809438477206, \"y_predict\": 0, \"y\": 1}, {\"Glucose\": 1.0354898206392145, \"BMI\": -0.14007537218652463, \"Age\": 1.0520937377932202, \"y_predict\": 0, \"y\": 0}, {\"Glucose\": 2.2851399604308273, \"BMI\": 0.5063939492395553, \"Age\": 0.7040880515952205, \"y_predict\": 0, \"y\": 1}, {\"Glucose\": -0.9327091495325754, \"BMI\": 0.4676057899539909, \"Age\": 3.0531264334317196, \"y_predict\": 0, \"y\": 0}, {\"Glucose\": 1.4103848625766984, \"BMI\": -0.696038988612953, \"Age\": 2.87912359033272, \"y_predict\": 0, \"y\": 0}, {\"Glucose\": 0.5981122717121501, \"BMI\": 0.7003347456673793, \"Age\": 0.7040880515952205, \"y_predict\": 0, \"y\": 0}, {\"Glucose\": 0.06701096230071471, \"BMI\": 0.5581114949536415, \"Age\": 1.6611036886397201, \"y_predict\": 0, \"y\": 1}, {\"Glucose\": -0.05795405167844655, \"BMI\": 0.45467640352546906, \"Age\": -0.6879346931967791, \"y_predict\": 1, \"y\": 0}, {\"Glucose\": -0.27664282614197877, \"BMI\": -0.049569667186873084, \"Age\": -0.6879346931967791, \"y_predict\": 1, \"y\": 1}, {\"Glucose\": -0.9639504030273658, \"BMI\": -0.6184626700418238, \"Age\": -0.7749361147462792, \"y_predict\": 1, \"y\": 0}, {\"Glucose\": -0.8702266425429948, \"BMI\": 0.7779110642385091, \"Age\": -0.8619375362957792, \"y_predict\": 1, \"y\": 1}, {\"Glucose\": -0.40160784012114004, \"BMI\": 0.06679481066982113, \"Age\": -0.9489389578452792, \"y_predict\": 1, \"y\": 0}, {\"Glucose\": -0.30788407963676906, \"BMI\": 0.10558296995538555, \"Age\": 1.0520937377932202, \"y_predict\": 0, \"y\": 0}, {\"Glucose\": -0.46409034711072067, \"BMI\": 0.971851860666333, \"Age\": 0.4430837869467205, \"y_predict\": 0, \"y\": 0}, {\"Glucose\": 2.2538987069360368, \"BMI\": 0.37710008495433933, \"Age\": -0.6879346931967791, \"y_predict\": 0, \"y\": 1}, {\"Glucose\": 0.12949346929029534, \"BMI\": -0.3986631007569566, \"Age\": 1.0520937377932202, \"y_predict\": 0, \"y\": 1}, {\"Glucose\": 0.25445848326945664, \"BMI\": -0.5796745107562589, \"Age\": -0.16592616389977932, \"y_predict\": 1, \"y\": 0}, {\"Glucose\": -0.18291906565760782, \"BMI\": 0.3383119256687749, \"Age\": -0.07892474235027935, \"y_predict\": 1, \"y\": 1}, {\"Glucose\": -1.0576741635117366, \"BMI\": -0.3986631007569566, \"Age\": -0.6879346931967791, \"y_predict\": 1, \"y\": 0}, {\"Glucose\": 0.34818224375382756, \"BMI\": 0.053865424241299344, \"Age\": -1.035940379394779, \"y_predict\": 1, \"y\": 0}, {\"Glucose\": 1.0667310741340048, \"BMI\": -0.696038988612953, \"Age\": -0.5139318500977792, \"y_predict\": 1, \"y\": 1}, {\"Glucose\": -0.6515378680794626, \"BMI\": 0.0021478785272131297, \"Age\": 0.7910894731447204, \"y_predict\": 1, \"y\": 0}, {\"Glucose\": 2.066451185967295, \"BMI\": 0.24780622066912333, \"Age\": 0.0950781007487206, \"y_predict\": 0, \"y\": 1}, {\"Glucose\": 0.5668710182173597, \"BMI\": -0.631392056470345, \"Age\": 2.09611079638722, \"y_predict\": 0, \"y\": 0}, {\"Glucose\": -0.6202966145846722, \"BMI\": -1.3037201507534686, \"Age\": -0.6879346931967791, \"y_predict\": 1, \"y\": 0}, {\"Glucose\": 2.378863720915198, \"BMI\": -0.7865446936126046, \"Age\": 0.5300852084962205, \"y_predict\": 0, \"y\": 1}, {\"Glucose\": -0.026712798183656235, \"BMI\": 0.9977106335233766, \"Age\": -0.33992900699877926, \"y_predict\": 1, \"y\": 0}, {\"Glucose\": -0.9639504030273658, \"BMI\": 1.3855922263790246, \"Age\": -1.035940379394779, \"y_predict\": 1, \"y\": 0}, {\"Glucose\": 0.12949346929029534, \"BMI\": -0.11421659932948107, \"Age\": 0.7040880515952205, \"y_predict\": 0, \"y\": 1}, {\"Glucose\": -0.40160784012114004, \"BMI\": -1.0322030357545149, \"Age\": 0.18207952229822058, \"y_predict\": 1, \"y\": 0}, {\"Glucose\": -0.30788407963676906, \"BMI\": -0.46331003289956463, \"Age\": -0.33992900699877926, \"y_predict\": 1, \"y\": 0}, {\"Glucose\": -0.9639504030273658, \"BMI\": 0.8037698370955526, \"Age\": -0.5139318500977792, \"y_predict\": 1, \"y\": 1}, {\"Glucose\": 0.2856997367642469, \"BMI\": -0.43745126004252105, \"Age\": -1.035940379394779, \"y_predict\": 1, \"y\": 0}, {\"Glucose\": 1.9727274254829241, \"BMI\": -0.25643985004321884, \"Age\": 1.4000994239912203, \"y_predict\": 0, \"y\": 1}, {\"Glucose\": -0.6515378680794626, \"BMI\": 0.5968996542392069, \"Age\": 1.1390951593427203, \"y_predict\": 0, \"y\": 1}, {\"Glucose\": 0.2232172297746663, \"BMI\": 0.29952376638320954, \"Age\": -0.7749361147462792, \"y_predict\": 1, \"y\": 0}, {\"Glucose\": -0.7452616285638335, \"BMI\": -0.6184626700418238, \"Age\": -0.9489389578452792, \"y_predict\": 1, \"y\": 0}, {\"Glucose\": -0.1516778121628175, \"BMI\": -0.7348271478985179, \"Age\": -0.7749361147462792, \"y_predict\": 1, \"y\": 0}, {\"Glucose\": 0.0357697088059244, \"BMI\": -1.1614969000397308, \"Age\": 0.6170866300457205, \"y_predict\": 1, \"y\": 0}, {\"Glucose\": -0.30788407963676906, \"BMI\": 1.9156970699484095, \"Age\": 1.0520937377932202, \"y_predict\": 0, \"y\": 1}, {\"Glucose\": 2.0976924394620853, \"BMI\": 2.0579203206621473, \"Age\": 0.8780908946942204, \"y_predict\": 0, \"y\": 1}, {\"Glucose\": -0.026712798183656235, \"BMI\": 1.4114509992360673, \"Age\": -0.2529275854492793, \"y_predict\": 0, \"y\": 0}, {\"Glucose\": -0.7452616285638335, \"BMI\": 1.1528632706656352, \"Age\": -0.07892474235027935, \"y_predict\": 1, \"y\": 1}, {\"Glucose\": -0.8077441355534142, \"BMI\": -0.7865446936126046, \"Age\": 0.2690809438477206, \"y_predict\": 1, \"y\": 0}, {\"Glucose\": -0.6827791215742529, \"BMI\": -1.2649319914679036, \"Age\": -0.8619375362957792, \"y_predict\": 1, \"y\": 0}, {\"Glucose\": -0.05795405167844655, \"BMI\": 1.7605444328061508, \"Age\": -0.33992900699877926, \"y_predict\": 0, \"y\": 1}, {\"Glucose\": -1.4013279519544302, \"BMI\": 0.2607356070976451, \"Age\": -0.6879346931967791, \"y_predict\": 1, \"y\": 0}, {\"Glucose\": 0.12949346929029534, \"BMI\": -0.566745124327737, \"Age\": 1.4000994239912203, \"y_predict\": 0, \"y\": 1}, {\"Glucose\": -1.3076041914700591, \"BMI\": 1.489027317807197, \"Age\": -0.8619375362957792, \"y_predict\": 1, \"y\": 0}, {\"Glucose\": 2.347622467420408, \"BMI\": 0.5839702678106851, \"Age\": -0.33992900699877926, \"y_predict\": 0, \"y\": 1}, {\"Glucose\": -1.2138804309856883, \"BMI\": -1.3942258557531197, \"Age\": -0.8619375362957792, \"y_predict\": 1, \"y\": 0}, {\"Glucose\": -0.6515378680794626, \"BMI\": 1.9156970699484095, \"Age\": -0.16592616389977932, \"y_predict\": 1, \"y\": 0}, {\"Glucose\": -0.4328490936159303, \"BMI\": 1.7217562735205854, \"Age\": -0.7749361147462792, \"y_predict\": 1, \"y\": 0}, {\"Glucose\": -0.05795405167844655, \"BMI\": -0.8770503986122556, \"Age\": 0.35608236539722055, \"y_predict\": 1, \"y\": 0}, {\"Glucose\": 0.785559792680892, \"BMI\": 0.7649816778099873, \"Age\": -0.42693042854827923, \"y_predict\": 0, \"y\": 1}, {\"Glucose\": -0.4328490936159303, \"BMI\": -0.30815739575730505, \"Age\": -0.16592616389977932, \"y_predict\": 1, \"y\": 1}, {\"Glucose\": 0.2856997367642469, \"BMI\": 0.28659437995468867, \"Age\": 1.0520937377932202, \"y_predict\": 0, \"y\": 1}, {\"Glucose\": 0.09825221579550503, \"BMI\": -0.5926038971847806, \"Age\": 0.2690809438477206, \"y_predict\": 1, \"y\": 1}, {\"Glucose\": -0.24540157264718845, \"BMI\": 0.20901806138355888, \"Age\": -1.035940379394779, \"y_predict\": 1, \"y\": 1}, {\"Glucose\": 0.12949346929029534, \"BMI\": 0.7261935185244228, \"Age\": 1.5741022670902203, \"y_predict\": 0, \"y\": 0}, {\"Glucose\": 1.9414861719881338, \"BMI\": 1.1399338842371134, \"Age\": 1.0520937377932202, \"y_predict\": 0, \"y\": 0}, {\"Glucose\": -1.7449817403971237, \"BMI\": 0.0021478785272131297, \"Age\": 0.7910894731447204, \"y_predict\": 1, \"y\": 0}, {\"Glucose\": -0.30788407963676906, \"BMI\": -1.213214445753817, \"Age\": -1.035940379394779, \"y_predict\": 1, \"y\": 0}, {\"Glucose\": 0.785559792680892, \"BMI\": -0.10128721290095975, \"Age\": 2.44411648258522, \"y_predict\": 0, \"y\": 1}, {\"Glucose\": 1.660314890535021, \"BMI\": 1.618321182092413, \"Age\": -0.7749361147462792, \"y_predict\": 0, \"y\": 1}, {\"Glucose\": -0.7452616285638335, \"BMI\": 0.6227584270962495, \"Age\": -0.6879346931967791, \"y_predict\": 1, \"y\": 0}, {\"Glucose\": 0.6605947787017308, \"BMI\": -0.9416973307548637, \"Age\": -1.035940379394779, \"y_predict\": 1, \"y\": 0}, {\"Glucose\": -1.0576741635117366, \"BMI\": -1.1356381271826876, \"Age\": -0.07892474235027935, \"y_predict\": 1, \"y\": 0}, {\"Glucose\": 0.7230772856913114, \"BMI\": -0.049569667186873084, \"Age\": -0.6879346931967791, \"y_predict\": 1, \"y\": 1}, {\"Glucose\": 0.16073472278508566, \"BMI\": -0.5926038971847806, \"Age\": -1.035940379394779, \"y_predict\": 1, \"y\": 0}, {\"Glucose\": 0.004528455311134083, \"BMI\": 0.29952376638320954, \"Age\": 0.008076679199220628, \"y_predict\": 1, \"y\": 1}, {\"Glucose\": 0.2232172297746663, \"BMI\": 0.3383119256687749, \"Age\": 1.0520937377932202, \"y_predict\": 0, \"y\": 0}, {\"Glucose\": -1.9949117683554463, \"BMI\": -1.3295789236105116, \"Age\": 2.96612501188222, \"y_predict\": 0, \"y\": 0}, {\"Glucose\": -2.0261530218502366, \"BMI\": -1.0063442628974717, \"Age\": -0.9489389578452792, \"y_predict\": 1, \"y\": 0}, {\"Glucose\": 0.09825221579550503, \"BMI\": 0.15730051566947267, \"Age\": -0.6009332716472792, \"y_predict\": 1, \"y\": 0}, {\"Glucose\": -0.1516778121628175, \"BMI\": -0.825332852898169, \"Age\": -0.2529275854492793, \"y_predict\": 1, \"y\": 0}, {\"Glucose\": 1.879003664998553, \"BMI\": 1.4631685449501535, \"Age\": -0.6009332716472792, \"y_predict\": 0, \"y\": 1}, {\"Glucose\": 1.8477624115037627, \"BMI\": 1.295086521379373, \"Age\": -0.6879346931967791, \"y_predict\": 0, \"y\": 1}, {\"Glucose\": 1.0354898206392145, \"BMI\": -0.34694555504286995, \"Age\": 0.5300852084962205, \"y_predict\": 0, \"y\": 0}, {\"Glucose\": 0.09825221579550503, \"BMI\": -0.42452187361399973, \"Age\": 1.6611036886397201, \"y_predict\": 0, \"y\": 1}, {\"Glucose\": 0.4106647507434082, \"BMI\": 0.4417470170969473, \"Age\": -0.33992900699877926, \"y_predict\": 1, \"y\": 1}, {\"Glucose\": -0.08919530517323687, \"BMI\": 1.7864032056631933, \"Age\": -0.16592616389977932, \"y_predict\": 0, \"y\": 1}, {\"Glucose\": -0.5578141075950916, \"BMI\": 0.9201343149522468, \"Age\": -0.16592616389977932, \"y_predict\": 1, \"y\": 1}, {\"Glucose\": 0.5981122717121501, \"BMI\": 0.09265358352686469, \"Age\": 1.0520937377932202, \"y_predict\": 0, \"y\": 1}, {\"Glucose\": -0.3391253331315594, \"BMI\": -0.46331003289956463, \"Age\": -0.5139318500977792, \"y_predict\": 1, \"y\": 0}, {\"Glucose\": -0.995191656522156, \"BMI\": -0.5020981921851291, \"Age\": -1.035940379394779, \"y_predict\": 1, \"y\": 0}, {\"Glucose\": -0.9014678960377851, \"BMI\": -1.0063442628974717, \"Age\": -0.42693042854827923, \"y_predict\": 1, \"y\": 0}, {\"Glucose\": -1.1513979239961076, \"BMI\": 0.971851860666333, \"Age\": -0.6879346931967791, \"y_predict\": 1, \"y\": 0}, {\"Glucose\": -0.6827791215742529, \"BMI\": -1.6398841978950298, \"Age\": -0.2529275854492793, \"y_predict\": 1, \"y\": 0}, {\"Glucose\": 0.2232172297746663, \"BMI\": 0.053865424241299344, \"Age\": -0.5139318500977792, \"y_predict\": 1, \"y\": 1}, {\"Glucose\": 1.1604548346183758, \"BMI\": 0.45467640352546906, \"Age\": 0.18207952229822058, \"y_predict\": 0, \"y\": 1}, {\"Glucose\": -0.8077441355534142, \"BMI\": 0.5839702678106851, \"Age\": -0.6009332716472792, \"y_predict\": 1, \"y\": 0}, {\"Glucose\": 1.3479023555871177, \"BMI\": 0.10558296995538555, \"Age\": 1.0520937377932202, \"y_predict\": 0, \"y\": 1}, {\"Glucose\": 1.2541785951027467, \"BMI\": -0.20472230432913263, \"Age\": 1.2260965808922204, \"y_predict\": 0, \"y\": 1}, {\"Glucose\": -0.9014678960377851, \"BMI\": -0.049569667186873084, \"Age\": -0.7749361147462792, \"y_predict\": 1, \"y\": 0}, {\"Glucose\": 0.4731472577329888, \"BMI\": -0.7736153071840828, \"Age\": 1.5741022670902203, \"y_predict\": 0, \"y\": 0}, {\"Glucose\": 1.3166611020923273, \"BMI\": -0.049569667186873084, \"Age\": -0.42693042854827923, \"y_predict\": 0, \"y\": 1}, {\"Glucose\": -1.0576741635117366, \"BMI\": 0.3383119256687749, \"Age\": -0.9489389578452792, \"y_predict\": 1, \"y\": 0}, {\"Glucose\": 0.8168010461756823, \"BMI\": 0.9589224742378113, \"Age\": 0.8780908946942204, \"y_predict\": 0, \"y\": 1}, {\"Glucose\": -0.9014678960377851, \"BMI\": -1.6140254250379866, \"Age\": -0.6879346931967791, \"y_predict\": 1, \"y\": 0}, {\"Glucose\": 0.6605947787017308, \"BMI\": 0.053865424241299344, \"Age\": 2.61811932568422, \"y_predict\": 0, \"y\": 0}, {\"Glucose\": 0.8168010461756823, \"BMI\": -0.2693692364717406, \"Age\": -0.42693042854827923, \"y_predict\": 1, \"y\": 0}, {\"Glucose\": -0.5578141075950916, \"BMI\": -1.6269548114665084, \"Age\": -0.9489389578452792, \"y_predict\": 1, \"y\": 0}, {\"Glucose\": 0.8168010461756823, \"BMI\": 0.37710008495433933, \"Age\": -0.2529275854492793, \"y_predict\": 0, \"y\": 0}, {\"Glucose\": -0.12043655866802719, \"BMI\": 1.7088268870920647, \"Age\": -0.7749361147462792, \"y_predict\": 1, \"y\": 0}, {\"Glucose\": -0.589055361089882, \"BMI\": 0.11851235638390734, \"Age\": 1.1390951593427203, \"y_predict\": 0, \"y\": 1}, {\"Glucose\": -0.3703665866263497, \"BMI\": -0.8770503986122556, \"Age\": -0.8619375362957792, \"y_predict\": 1, \"y\": 0}, {\"Glucose\": 1.8165211580089724, \"BMI\": 1.5666036363783267, \"Age\": -0.8619375362957792, \"y_predict\": 0, \"y\": 1}, {\"Glucose\": -0.6827791215742529, \"BMI\": 0.5968996542392069, \"Age\": -1.035940379394779, \"y_predict\": 1, \"y\": 0}, {\"Glucose\": 0.0357697088059244, \"BMI\": 0.5451821085251206, \"Age\": -0.42693042854827923, \"y_predict\": 1, \"y\": 0}, {\"Glucose\": 1.0354898206392145, \"BMI\": 1.8251913649487588, \"Age\": -0.5139318500977792, \"y_predict\": 0, \"y\": 0}, {\"Glucose\": 1.6290736370402306, \"BMI\": 0.8296286099525952, \"Age\": -0.6879346931967791, \"y_predict\": 0, \"y\": 1}, {\"Glucose\": -0.12043655866802719, \"BMI\": 0.15730051566947267, \"Age\": -0.7749361147462792, \"y_predict\": 1, \"y\": 0}, {\"Glucose\": -0.026712798183656235, \"BMI\": 1.3338746806649375, \"Age\": 1.3130980024417203, \"y_predict\": 0, \"y\": 1}, {\"Glucose\": 1.8165211580089724, \"BMI\": 0.09265358352686469, \"Age\": 0.2690809438477206, \"y_predict\": 0, \"y\": 1}, {\"Glucose\": 1.0667310741340048, \"BMI\": 0.8684167692381606, \"Age\": -0.6879346931967791, \"y_predict\": 0, \"y\": 1}, {\"Glucose\": -0.08919530517323687, \"BMI\": 0.17022990209799355, \"Age\": -0.8619375362957792, \"y_predict\": 1, \"y\": 0}, {\"Glucose\": 0.2856997367642469, \"BMI\": -1.213214445753817, \"Age\": -1.035940379394779, \"y_predict\": 1, \"y\": 0}, {\"Glucose\": -1.1201566705013173, \"BMI\": -0.9804854900404286, \"Age\": 0.7910894731447204, \"y_predict\": 1, \"y\": 0}, {\"Glucose\": -0.026712798183656235, \"BMI\": 0.8942755420952032, \"Age\": 0.7040880515952205, \"y_predict\": 0, \"y\": 0}, {\"Glucose\": -0.27664282614197877, \"BMI\": 0.3641706985258175, \"Age\": -0.7749361147462792, \"y_predict\": 1, \"y\": 0}, {\"Glucose\": -0.8389853890482045, \"BMI\": 0.17022990209799355, \"Age\": 0.7040880515952205, \"y_predict\": 1, \"y\": 0}, {\"Glucose\": -0.3703665866263497, \"BMI\": -0.4503806464710428, \"Age\": -0.9489389578452792, \"y_predict\": 1, \"y\": 0}, {\"Glucose\": -0.21416031915239814, \"BMI\": 0.7908404506670308, \"Age\": -1.035940379394779, \"y_predict\": 1, \"y\": 0}, {\"Glucose\": -0.589055361089882, \"BMI\": -0.15300475861504598, \"Age\": -0.6009332716472792, \"y_predict\": 1, \"y\": 0}, {\"Glucose\": -0.21416031915239814, \"BMI\": 1.5795330228068485, \"Age\": -0.5139318500977792, \"y_predict\": 1, \"y\": 0}, {\"Glucose\": -0.21416031915239814, \"BMI\": -0.540886351470694, \"Age\": 2.87912359033272, \"y_predict\": 0, \"y\": 0}, {\"Glucose\": 1.0979723276287952, \"BMI\": 0.29952376638320954, \"Age\": 0.7910894731447204, \"y_predict\": 0, \"y\": 1}, {\"Glucose\": -0.49533160060551096, \"BMI\": -0.30815739575730505, \"Age\": 1.1390951593427203, \"y_predict\": 0, \"y\": 0}, {\"Glucose\": -1.1513979239961076, \"BMI\": -0.010781507901308654, \"Age\": -0.6879346931967791, \"y_predict\": 1, \"y\": 0}, {\"Glucose\": -0.27664282614197877, \"BMI\": 0.9589224742378113, \"Age\": -0.7749361147462792, \"y_predict\": 1, \"y\": 0}, {\"Glucose\": 1.0667310741340048, \"BMI\": 0.2607356070976451, \"Age\": 1.1390951593427203, \"y_predict\": 0, \"y\": 1}, {\"Glucose\": -0.6202966145846722, \"BMI\": 0.48053517638251264, \"Age\": -0.6009332716472792, \"y_predict\": 1, \"y\": 0}, {\"Glucose\": -0.9639504030273658, \"BMI\": 0.37710008495433933, \"Age\": 2.00910937483772, \"y_predict\": 0, \"y\": 1}, {\"Glucose\": -1.2451216844804787, \"BMI\": -0.696038988612953, \"Age\": -0.7749361147462792, \"y_predict\": 1, \"y\": 0}, {\"Glucose\": -0.8389853890482045, \"BMI\": -0.7736153071840828, \"Age\": -1.035940379394779, \"y_predict\": 1, \"y\": 0}, {\"Glucose\": 0.25445848326945664, \"BMI\": -0.7218977614699966, \"Age\": -0.42693042854827923, \"y_predict\": 1, \"y\": 1}, {\"Glucose\": -0.6827791215742529, \"BMI\": -1.1356381271826876, \"Age\": -1.035940379394779, \"y_predict\": 1, \"y\": 0}, {\"Glucose\": 1.7227973975246016, \"BMI\": 0.22194744781208067, \"Age\": 2.18311221793672, \"y_predict\": 0, \"y\": 1}, {\"Glucose\": -0.21416031915239814, \"BMI\": -1.3037201507534686, \"Age\": 0.35608236539722055, \"y_predict\": 1, \"y\": 0}, {\"Glucose\": -1.5262929659335915, \"BMI\": -0.049569667186873084, \"Age\": 0.4430837869467205, \"y_predict\": 1, \"y\": 0}, {\"Glucose\": -0.12043655866802719, \"BMI\": 0.9201343149522468, \"Age\": 0.7910894731447204, \"y_predict\": 0, \"y\": 0}, {\"Glucose\": 1.285419848597537, \"BMI\": 0.7391229049529446, \"Age\": 1.6611036886397201, \"y_predict\": 0, \"y\": 1}, {\"Glucose\": -0.9327091495325754, \"BMI\": -0.8770503986122556, \"Age\": -0.8619375362957792, \"y_predict\": 1, \"y\": 0}, {\"Glucose\": -0.995191656522156, \"BMI\": -0.540886351470694, \"Age\": -1.035940379394779, \"y_predict\": 1, \"y\": 0}, {\"Glucose\": 2.378863720915198, \"BMI\": -0.19179291790061084, \"Age\": 1.7481051101892202, \"y_predict\": 0, \"y\": 1}, {\"Glucose\": -0.9639504030273658, \"BMI\": 0.7391229049529446, \"Age\": -0.33992900699877926, \"y_predict\": 1, \"y\": 0}, {\"Glucose\": 0.5356297647225695, \"BMI\": 0.15730051566947267, \"Age\": 0.18207952229822058, \"y_predict\": 0, \"y\": 0}, {\"Glucose\": -0.9327091495325754, \"BMI\": 1.0235694063804193, \"Age\": -0.6879346931967791, \"y_predict\": 1, \"y\": 0}, {\"Glucose\": -1.088915417006527, \"BMI\": 0.4934645628110335, \"Age\": -0.6879346931967791, \"y_predict\": 1, \"y\": 0}, {\"Glucose\": -0.18291906565760782, \"BMI\": 2.704389642088227, \"Age\": -0.42693042854827923, \"y_predict\": 0, \"y\": 1}, {\"Glucose\": -0.8702266425429948, \"BMI\": -1.2261438321823388, \"Age\": -0.9489389578452792, \"y_predict\": 1, \"y\": 0}, {\"Glucose\": -0.5578141075950916, \"BMI\": 1.8381207513772806, \"Age\": 0.7910894731447204, \"y_predict\": 0, \"y\": 0}, {\"Glucose\": -0.1516778121628175, \"BMI\": 0.5322527220965989, \"Age\": -0.6879346931967791, \"y_predict\": 1, \"y\": 0}, {\"Glucose\": -0.8077441355534142, \"BMI\": 0.015077264955734913, \"Age\": -0.7749361147462792, \"y_predict\": 1, \"y\": 0}, {\"Glucose\": 0.16073472278508566, \"BMI\": -0.16593414504356774, \"Age\": -0.7749361147462792, \"y_predict\": 1, \"y\": 0}, {\"Glucose\": 0.5356297647225695, \"BMI\": 0.3383119256687749, \"Age\": -1.035940379394779, \"y_predict\": 1, \"y\": 1}, {\"Glucose\": 0.4731472577329888, \"BMI\": 0.7003347456673793, \"Age\": -0.7749361147462792, \"y_predict\": 1, \"y\": 0}, {\"Glucose\": -0.49533160060551096, \"BMI\": 0.06679481066982113, \"Age\": -0.6009332716472792, \"y_predict\": 1, \"y\": 0}, {\"Glucose\": 0.4731472577329888, \"BMI\": -4.135255778599698, \"Age\": 3.1401278549812197, \"y_predict\": 0, \"y\": 0}, {\"Glucose\": -0.1516778121628175, \"BMI\": -0.5926038971847806, \"Age\": -1.035940379394779, \"y_predict\": 1, \"y\": 0}, {\"Glucose\": -0.6827791215742529, \"BMI\": -0.825332852898169, \"Age\": -0.42693042854827923, \"y_predict\": 1, \"y\": 0}, {\"Glucose\": -0.46409034711072067, \"BMI\": -0.19179291790061084, \"Age\": 0.0950781007487206, \"y_predict\": 1, \"y\": 0}, {\"Glucose\": -1.9949117683554463, \"BMI\": 0.10558296995538555, \"Age\": 0.7040880515952205, \"y_predict\": 1, \"y\": 0}, {\"Glucose\": -0.9014678960377851, \"BMI\": 0.0021478785272131297, \"Age\": 1.1390951593427203, \"y_predict\": 1, \"y\": 0}, {\"Glucose\": 0.25445848326945664, \"BMI\": 1.1916514299512007, \"Age\": 0.4430837869467205, \"y_predict\": 0, \"y\": 1}, {\"Glucose\": 0.9417660601548435, \"BMI\": 1.3080159078078948, \"Age\": -1.035940379394779, \"y_predict\": 0, \"y\": 1}, {\"Glucose\": -0.6827791215742529, \"BMI\": -1.31664953718199, \"Age\": -0.6009332716472792, \"y_predict\": 1, \"y\": 0}, {\"Glucose\": -1.0264329100169465, \"BMI\": -0.566745124327737, \"Age\": 0.35608236539722055, \"y_predict\": 1, \"y\": 0}, {\"Glucose\": 1.1292135811235855, \"BMI\": -0.825332852898169, \"Age\": -0.7749361147462792, \"y_predict\": 1, \"y\": 0}, {\"Glucose\": 1.879003664998553, \"BMI\": -0.24351046361469705, \"Age\": 2.35711506103572, \"y_predict\": 0, \"y\": 1}, {\"Glucose\": 0.34818224375382756, \"BMI\": -0.6701802157559099, \"Age\": 3.1401278549812197, \"y_predict\": 0, \"y\": 0}, {\"Glucose\": -0.6202966145846722, \"BMI\": -1.31664953718199, \"Age\": -0.9489389578452792, \"y_predict\": 1, \"y\": 0}, {\"Glucose\": -0.40160784012114004, \"BMI\": 0.053865424241299344, \"Age\": 0.7910894731447204, \"y_predict\": 0, \"y\": 1}, {\"Glucose\": -0.46409034711072067, \"BMI\": -0.38573371432843484, \"Age\": -0.9489389578452792, \"y_predict\": 1, \"y\": 0}, {\"Glucose\": -0.4328490936159303, \"BMI\": -1.1744262864682526, \"Age\": -0.8619375362957792, \"y_predict\": 1, \"y\": 1}, {\"Glucose\": -0.40160784012114004, \"BMI\": -0.8641210121837339, \"Age\": -0.9489389578452792, \"y_predict\": 1, \"y\": 0}, {\"Glucose\": 0.2232172297746663, \"BMI\": 1.101145724951549, \"Age\": -0.7749361147462792, \"y_predict\": 1, \"y\": 1}, {\"Glucose\": -0.8077441355534142, \"BMI\": 0.0021478785272131297, \"Age\": -0.16592616389977932, \"y_predict\": 1, \"y\": 1}, {\"Glucose\": -0.4328490936159303, \"BMI\": 0.20901806138355888, \"Age\": -0.8619375362957792, \"y_predict\": 1, \"y\": 0}, {\"Glucose\": -1.4950517124388012, \"BMI\": -0.6701802157559099, \"Age\": -0.5139318500977792, \"y_predict\": 1, \"y\": 0}, {\"Glucose\": -0.40160784012114004, \"BMI\": -0.6055332836133019, \"Age\": -0.07892474235027935, \"y_predict\": 1, \"y\": 0}, {\"Glucose\": -0.7452616285638335, \"BMI\": -1.7821074486087676, \"Age\": -1.035940379394779, \"y_predict\": 1, \"y\": 0}, {\"Glucose\": 0.0357697088059244, \"BMI\": -0.10128721290095975, \"Age\": 0.7040880515952205, \"y_predict\": 0, \"y\": 0}, {\"Glucose\": 1.6290736370402306, \"BMI\": 0.48053517638251264, \"Age\": -0.9489389578452792, \"y_predict\": 0, \"y\": 1}, {\"Glucose\": 0.12949346929029534, \"BMI\": 0.04093603781277756, \"Age\": -0.5139318500977792, \"y_predict\": 1, \"y\": 1}, {\"Glucose\": -0.49533160060551096, \"BMI\": -0.5279569650421726, \"Age\": 2.53111790413472, \"y_predict\": 0, \"y\": 1}, {\"Glucose\": 0.4731472577329888, \"BMI\": 0.3900294713828611, \"Age\": 0.18207952229822058, \"y_predict\": 0, \"y\": 1}, {\"Glucose\": -0.30788407963676906, \"BMI\": -1.0322030357545149, \"Age\": -0.8619375362957792, \"y_predict\": 1, \"y\": 0}, {\"Glucose\": -0.7765028820586238, \"BMI\": -1.0709911950400797, \"Age\": -0.42693042854827923, \"y_predict\": 1, \"y\": 0}, {\"Glucose\": -0.6827791215742529, \"BMI\": -0.9029091714692988, \"Age\": -0.9489389578452792, \"y_predict\": 1, \"y\": 0}, {\"Glucose\": -0.27664282614197877, \"BMI\": 0.7520522913814655, \"Age\": 0.7040880515952205, \"y_predict\": 0, \"y\": 1}, {\"Glucose\": 0.2856997367642469, \"BMI\": -0.46331003289956463, \"Age\": 0.0950781007487206, \"y_predict\": 1, \"y\": 1}, {\"Glucose\": 1.7227973975246016, \"BMI\": 0.17022990209799355, \"Age\": 1.6611036886397201, \"y_predict\": 0, \"y\": 1}, {\"Glucose\": 1.472867369566279, \"BMI\": 0.3900294713828611, \"Age\": 1.6611036886397201, \"y_predict\": 0, \"y\": 1}, {\"Glucose\": -1.682499233407543, \"BMI\": 1.7217562735205854, \"Age\": 1.1390951593427203, \"y_predict\": 0, \"y\": 0}, {\"Glucose\": -0.1516778121628175, \"BMI\": 0.04093603781277756, \"Age\": 0.18207952229822058, \"y_predict\": 1, \"y\": 1}, {\"Glucose\": 1.0042485671444241, \"BMI\": 1.1140751113800709, \"Age\": 0.5300852084962205, \"y_predict\": 0, \"y\": 0}, {\"Glucose\": -0.026712798183656235, \"BMI\": -0.9029091714692988, \"Age\": 2.7051207472337198, \"y_predict\": 0, \"y\": 0}, {\"Glucose\": 0.2232172297746663, \"BMI\": 1.036498792808941, \"Age\": -0.7749361147462792, \"y_predict\": 1, \"y\": 0}, {\"Glucose\": -0.9014678960377851, \"BMI\": -0.7865446936126046, \"Age\": -0.16592616389977932, \"y_predict\": 1, \"y\": 0}, {\"Glucose\": -1.182639177490898, \"BMI\": 0.028006651384256696, \"Age\": -0.9489389578452792, \"y_predict\": 1, \"y\": 0}, {\"Glucose\": -0.3391253331315594, \"BMI\": -0.7736153071840828, \"Age\": -0.2529275854492793, \"y_predict\": 1, \"y\": 0}, {\"Glucose\": -0.995191656522156, \"BMI\": -0.10128721290095975, \"Age\": -0.8619375362957792, \"y_predict\": 1, \"y\": 0}, {\"Glucose\": -1.3076041914700591, \"BMI\": -0.8511916257552126, \"Age\": -0.9489389578452792, \"y_predict\": 1, \"y\": 0}, {\"Glucose\": 1.379143609081908, \"BMI\": 0.20901806138355888, \"Age\": 1.4000994239912203, \"y_predict\": 0, \"y\": 0}, {\"Glucose\": -0.49533160060551096, \"BMI\": 0.37710008495433933, \"Age\": -0.6879346931967791, \"y_predict\": 1, \"y\": 0}, {\"Glucose\": 0.0357697088059244, \"BMI\": 0.3900294713828611, \"Age\": -0.33992900699877926, \"y_predict\": 1, \"y\": 0}, {\"Glucose\": -0.46409034711072067, \"BMI\": -0.14007537218652463, \"Age\": -0.7749361147462792, \"y_predict\": 1, \"y\": 0}, {\"Glucose\": 1.9102449184933434, \"BMI\": -0.19179291790061084, \"Age\": -0.33992900699877926, \"y_predict\": 0, \"y\": 1}, {\"Glucose\": -0.589055361089882, \"BMI\": 0.48053517638251264, \"Age\": -0.42693042854827923, \"y_predict\": 1, \"y\": 0}, {\"Glucose\": 0.5981122717121501, \"BMI\": -1.019273649325993, \"Age\": -0.8619375362957792, \"y_predict\": 1, \"y\": 0}, {\"Glucose\": -1.0264329100169465, \"BMI\": 0.42881763066842554, \"Age\": 1.3130980024417203, \"y_predict\": 0, \"y\": 0}, {\"Glucose\": 2.2538987069360368, \"BMI\": -0.7865446936126046, \"Age\": -0.7749361147462792, \"y_predict\": 0, \"y\": 0}, {\"Glucose\": 0.3794234972486179, \"BMI\": 0.053865424241299344, \"Age\": 0.35608236539722055, \"y_predict\": 0, \"y\": 0}, {\"Glucose\": -0.7140203750690433, \"BMI\": -0.8770503986122556, \"Age\": -0.9489389578452792, \"y_predict\": 1, \"y\": 0}, {\"Glucose\": 0.12949346929029534, \"BMI\": -0.9934148764689499, \"Age\": -0.6879346931967791, \"y_predict\": 1, \"y\": 0}, {\"Glucose\": -0.6515378680794626, \"BMI\": -1.083920581468601, \"Age\": -0.6009332716472792, \"y_predict\": 1, \"y\": 0}, {\"Glucose\": -0.9014678960377851, \"BMI\": -0.24351046361469705, \"Age\": -0.9489389578452792, \"y_predict\": 1, \"y\": 0}, {\"Glucose\": -0.21416031915239814, \"BMI\": -0.5926038971847806, \"Age\": 0.0950781007487206, \"y_predict\": 1, \"y\": 1}, {\"Glucose\": -0.05795405167844655, \"BMI\": 0.8813461556666815, \"Age\": -0.9489389578452792, \"y_predict\": 1, \"y\": 0}, {\"Glucose\": -0.1516778121628175, \"BMI\": -1.0968499678971229, \"Age\": -0.8619375362957792, \"y_predict\": 1, \"y\": 0}, {\"Glucose\": -1.4325692054492205, \"BMI\": 0.17022990209799355, \"Age\": 0.4430837869467205, \"y_predict\": 1, \"y\": 0}, {\"Glucose\": 0.5043885112277792, \"BMI\": 0.0021478785272131297, \"Age\": 0.5300852084962205, \"y_predict\": 0, \"y\": 0}, {\"Glucose\": 1.1604548346183758, \"BMI\": -0.10128721290095975, \"Age\": -0.7749361147462792, \"y_predict\": 1, \"y\": 0}, {\"Glucose\": 0.25445848326945664, \"BMI\": 0.8425579963811171, \"Age\": 0.8780908946942204, \"y_predict\": 0, \"y\": 1}, {\"Glucose\": 0.19197597627987598, \"BMI\": 0.907204928523725, \"Age\": 1.5741022670902203, \"y_predict\": 0, \"y\": 0}, {\"Glucose\": -0.12043655866802719, \"BMI\": 0.23487683424060155, \"Age\": -0.5139318500977792, \"y_predict\": 1, \"y\": 0}, {\"Glucose\": -0.7452616285638335, \"BMI\": 0.7908404506670308, \"Age\": -0.2529275854492793, \"y_predict\": 1, \"y\": 0}, {\"Glucose\": -0.08919530517323687, \"BMI\": 1.4114509992360673, \"Age\": -1.035940379394779, \"y_predict\": 1, \"y\": 1}, {\"Glucose\": -0.3391253331315594, \"BMI\": 0.053865424241299344, \"Age\": -0.5139318500977792, \"y_predict\": 1, \"y\": 0}, {\"Glucose\": 0.5668710182173597, \"BMI\": -0.825332852898169, \"Age\": -0.9489389578452792, \"y_predict\": 1, \"y\": 1}, {\"Glucose\": 1.3166611020923273, \"BMI\": 1.1528632706656352, \"Age\": 1.2260965808922204, \"y_predict\": 0, \"y\": 1}, {\"Glucose\": 0.12949346929029534, \"BMI\": -0.049569667186873084, \"Age\": -0.7749361147462792, \"y_predict\": 1, \"y\": 0}, {\"Glucose\": -0.5578141075950916, \"BMI\": -1.0322030357545149, \"Age\": 0.008076679199220628, \"y_predict\": 1, \"y\": 0}, {\"Glucose\": -0.6515378680794626, \"BMI\": 0.9589224742378113, \"Age\": 0.8780908946942204, \"y_predict\": 0, \"y\": 1}, {\"Glucose\": -0.589055361089882, \"BMI\": -0.15300475861504598, \"Age\": 0.2690809438477206, \"y_predict\": 1, \"y\": 1}, {\"Glucose\": 1.285419848597537, \"BMI\": -0.5538157378992157, \"Age\": 1.83510653173872, \"y_predict\": 0, \"y\": 0}, {\"Glucose\": 0.06701096230071471, \"BMI\": 0.2736649935261669, \"Age\": -0.42693042854827923, \"y_predict\": 1, \"y\": 0}, {\"Glucose\": 0.879283553165263, \"BMI\": -0.34694555504286995, \"Age\": 0.7910894731447204, \"y_predict\": 0, \"y\": 1}, {\"Glucose\": 0.7230772856913114, \"BMI\": 0.24780622066912333, \"Age\": 0.6170866300457205, \"y_predict\": 0, \"y\": 0}, {\"Glucose\": -0.6827791215742529, \"BMI\": -0.6572508293273885, \"Age\": -0.07892474235027935, \"y_predict\": 1, \"y\": 0}, {\"Glucose\": -0.9327091495325754, \"BMI\": -0.3598749414713917, \"Age\": -1.035940379394779, \"y_predict\": 1, \"y\": 0}, {\"Glucose\": 0.691836032196521, \"BMI\": -0.24351046361469705, \"Age\": -0.8619375362957792, \"y_predict\": 1, \"y\": 0}, {\"Glucose\": -0.026712798183656235, \"BMI\": -1.445943401467206, \"Age\": 1.3130980024417203, \"y_predict\": 0, \"y\": 0}, {\"Glucose\": -1.0264329100169465, \"BMI\": -0.2693692364717406, \"Age\": -0.8619375362957792, \"y_predict\": 1, \"y\": 0}, {\"Glucose\": 1.0979723276287952, \"BMI\": -0.9287679443263419, \"Age\": 1.7481051101892202, \"y_predict\": 0, \"y\": 1}, {\"Glucose\": 2.347622467420408, \"BMI\": 0.7132641320959011, \"Age\": 2.09611079638722, \"y_predict\": 0, \"y\": 1}, {\"Glucose\": 0.31694099025903727, \"BMI\": -1.0709911950400797, \"Age\": -1.035940379394779, \"y_predict\": 1, \"y\": 0}, {\"Glucose\": 0.31694099025903727, \"BMI\": 0.29952376638320954, \"Age\": -0.9489389578452792, \"y_predict\": 1, \"y\": 1}, {\"Glucose\": -0.026712798183656235, \"BMI\": -0.6701802157559099, \"Age\": -0.5139318500977792, \"y_predict\": 1, \"y\": 0}, {\"Glucose\": 0.12949346929029534, \"BMI\": -0.25643985004321884, \"Age\": -0.07892474235027935, \"y_predict\": 1, \"y\": 0}, {\"Glucose\": 0.5043885112277792, \"BMI\": 1.4373097720931107, \"Age\": 0.008076679199220628, \"y_predict\": 0, \"y\": 1}, {\"Glucose\": 0.8168010461756823, \"BMI\": -0.32108678218582687, \"Age\": 1.4871008455407202, \"y_predict\": 0, \"y\": 1}, {\"Glucose\": -0.4328490936159303, \"BMI\": -0.47623941932808594, \"Age\": -0.33992900699877926, \"y_predict\": 1, \"y\": 0}, {\"Glucose\": 1.472867369566279, \"BMI\": 0.8037698370955526, \"Age\": 0.6170866300457205, \"y_predict\": 0, \"y\": 1}, {\"Glucose\": 2.066451185967295, \"BMI\": 1.5019567042357187, \"Age\": 1.7481051101892202, \"y_predict\": 0, \"y\": 1}, {\"Glucose\": -0.8702266425429948, \"BMI\": -0.42452187361399973, \"Age\": -0.8619375362957792, \"y_predict\": 1, \"y\": 0}, {\"Glucose\": -0.7140203750690433, \"BMI\": 0.35124131209729664, \"Age\": -0.9489389578452792, \"y_predict\": 1, \"y\": 0}, {\"Glucose\": -0.18291906565760782, \"BMI\": -0.3986631007569566, \"Age\": 1.1390951593427203, \"y_predict\": 0, \"y\": 1}, {\"Glucose\": -3.775663217558494, \"BMI\": 0.907204928523725, \"Age\": 0.7040880515952205, \"y_predict\": 1, \"y\": 1}, {\"Glucose\": -1.5575342194283817, \"BMI\": -0.5150275786136508, \"Age\": -0.9489389578452792, \"y_predict\": 1, \"y\": 0}, {\"Glucose\": -1.0264329100169465, \"BMI\": -0.9287679443263419, \"Age\": -0.9489389578452792, \"y_predict\": 1, \"y\": 0}, {\"Glucose\": -0.24540157264718845, \"BMI\": -0.12714598575800287, \"Age\": -1.035940379394779, \"y_predict\": 1, \"y\": 0}, {\"Glucose\": -0.7765028820586238, \"BMI\": -1.407155242181641, \"Age\": -0.6009332716472792, \"y_predict\": 1, \"y\": 0}, {\"Glucose\": -0.7452616285638335, \"BMI\": -1.1356381271826876, \"Age\": -0.9489389578452792, \"y_predict\": 1, \"y\": 0}, {\"Glucose\": 0.004528455311134083, \"BMI\": 0.5193233356680771, \"Age\": -0.6879346931967791, \"y_predict\": 1, \"y\": 1}, {\"Glucose\": 0.6605947787017308, \"BMI\": 1.553674249949805, \"Age\": -0.9489389578452792, \"y_predict\": 0, \"y\": 1}, {\"Glucose\": 2.2851399604308273, \"BMI\": -0.7606859207555611, \"Age\": 2.96612501188222, \"y_predict\": 0, \"y\": 0}, {\"Glucose\": 1.0979723276287952, \"BMI\": 2.109637866376233, \"Age\": -0.07892474235027935, \"y_predict\": 0, \"y\": 1}, {\"Glucose\": -0.7765028820586238, \"BMI\": -1.445943401467206, \"Age\": -0.6009332716472792, \"y_predict\": 1, \"y\": 0}, {\"Glucose\": -1.182639177490898, \"BMI\": -1.7821074486087676, \"Age\": -0.5139318500977792, \"y_predict\": 1, \"y\": 0}, {\"Glucose\": 1.4103848625766984, \"BMI\": 1.7734738192346726, \"Age\": -0.5139318500977792, \"y_predict\": 0, \"y\": 1}, {\"Glucose\": 0.34818224375382756, \"BMI\": 0.3124531528117313, \"Age\": 0.9650923162437204, \"y_predict\": 0, \"y\": 1}, {\"Glucose\": 2.3163812139256175, \"BMI\": -0.889979785040777, \"Age\": 1.9221079532882202, \"y_predict\": 0, \"y\": 1}, {\"Glucose\": 0.25445848326945664, \"BMI\": -0.10128721290095975, \"Age\": -0.33992900699877926, \"y_predict\": 1, \"y\": 0}, {\"Glucose\": -2.4010480637877203, \"BMI\": -0.9029091714692988, \"Age\": 0.2690809438477206, \"y_predict\": 1, \"y\": 0}, {\"Glucose\": 0.5043885112277792, \"BMI\": 0.15730051566947267, \"Age\": -0.9489389578452792, \"y_predict\": 1, \"y\": 0}, {\"Glucose\": 1.8165211580089724, \"BMI\": 0.7520522913814655, \"Age\": -0.9489389578452792, \"y_predict\": 0, \"y\": 1}, {\"Glucose\": -0.12043655866802719, \"BMI\": 0.3253825392402531, \"Age\": 0.6170866300457205, \"y_predict\": 0, \"y\": 1}, {\"Glucose\": -1.2451216844804787, \"BMI\": 1.8510501378058013, \"Age\": -0.07892474235027935, \"y_predict\": 1, \"y\": 0}, {\"Glucose\": -1.6512579799127527, \"BMI\": -0.9029091714692988, \"Age\": -0.6879346931967791, \"y_predict\": 1, \"y\": 0}, {\"Glucose\": -0.21416031915239814, \"BMI\": 0.10558296995538555, \"Age\": 0.7910894731447204, \"y_predict\": 0, \"y\": 1}, {\"Glucose\": 1.4103848625766984, \"BMI\": -0.7994740800411259, \"Age\": 1.5741022670902203, \"y_predict\": 0, \"y\": 1}, {\"Glucose\": -0.6827791215742529, \"BMI\": -0.954626717183385, \"Age\": -1.035940379394779, \"y_predict\": 1, \"y\": 0}, {\"Glucose\": 1.8477624115037627, \"BMI\": 0.2607356070976451, \"Age\": -0.6009332716472792, \"y_predict\": 0, \"y\": 0}, {\"Glucose\": -0.6827791215742529, \"BMI\": 0.10558296995538555, \"Age\": 0.008076679199220628, \"y_predict\": 1, \"y\": 0}, {\"Glucose\": -0.8702266425429948, \"BMI\": 1.4760979313786753, \"Age\": 0.18207952229822058, \"y_predict\": 1, \"y\": 0}, {\"Glucose\": 0.2232172297746663, \"BMI\": 0.0021478785272131297, \"Age\": 0.008076679199220628, \"y_predict\": 1, \"y\": 1}, {\"Glucose\": -0.3703665866263497, \"BMI\": 0.4934645628110335, \"Age\": -0.6879346931967791, \"y_predict\": 1, \"y\": 1}, {\"Glucose\": -1.0264329100169465, \"BMI\": -0.9804854900404286, \"Age\": -0.2529275854492793, \"y_predict\": 1, \"y\": 0}, {\"Glucose\": -0.18291906565760782, \"BMI\": -0.10128721290095975, \"Age\": 0.9650923162437204, \"y_predict\": 0, \"y\": 1}, {\"Glucose\": 0.9417660601548435, \"BMI\": 0.45467640352546906, \"Age\": -0.42693042854827923, \"y_predict\": 0, \"y\": 0}, {\"Glucose\": 0.25445848326945664, \"BMI\": -0.5150275786136508, \"Age\": -0.5139318500977792, \"y_predict\": 1, \"y\": 0}, {\"Glucose\": -1.5575342194283817, \"BMI\": -1.31664953718199, \"Age\": -0.6009332716472792, \"y_predict\": 1, \"y\": 0}, {\"Glucose\": 1.6915561440298112, \"BMI\": 0.20901806138355888, \"Age\": 0.4430837869467205, \"y_predict\": 0, \"y\": 1}, {\"Glucose\": 0.004528455311134083, \"BMI\": -0.7477565343270397, \"Age\": -0.2529275854492793, \"y_predict\": 1, \"y\": 0}, {\"Glucose\": 0.785559792680892, \"BMI\": -0.5796745107562589, \"Age\": -0.42693042854827923, \"y_predict\": 1, \"y\": 1}, {\"Glucose\": 0.5356297647225695, \"BMI\": 1.049428179237463, \"Age\": -0.42693042854827923, \"y_predict\": 0, \"y\": 0}, {\"Glucose\": -0.589055361089882, \"BMI\": 0.6744759728103367, \"Age\": 1.0520937377932202, \"y_predict\": 0, \"y\": 0}, {\"Glucose\": 0.09825221579550503, \"BMI\": -0.8382622393266908, \"Age\": 0.35608236539722055, \"y_predict\": 1, \"y\": 0}, {\"Glucose\": 0.5043885112277792, \"BMI\": -1.0063442628974717, \"Age\": 1.9221079532882202, \"y_predict\": 0, \"y\": 0}, {\"Glucose\": -0.49533160060551096, \"BMI\": 0.22194744781208067, \"Age\": -0.33992900699877926, \"y_predict\": 1, \"y\": 1}, {\"Glucose\": 0.16073472278508566, \"BMI\": -0.42452187361399973, \"Age\": -1.035940379394779, \"y_predict\": 1, \"y\": 0}, {\"Glucose\": -0.8077441355534142, \"BMI\": -0.7606859207555611, \"Age\": -0.9489389578452792, \"y_predict\": 1, \"y\": 0}, {\"Glucose\": -0.6515378680794626, \"BMI\": -0.049569667186873084, \"Age\": -0.42693042854827923, \"y_predict\": 1, \"y\": 0}, {\"Glucose\": -1.1201566705013173, \"BMI\": -0.696038988612953, \"Age\": -0.16592616389977932, \"y_predict\": 1, \"y\": 0}, {\"Glucose\": -0.8389853890482045, \"BMI\": -1.148567513611209, \"Age\": 2.00910937483772, \"y_predict\": 0, \"y\": 0}, {\"Glucose\": 2.4101049744099883, \"BMI\": 1.2045808163797214, \"Age\": -0.42693042854827923, \"y_predict\": 0, \"y\": 1}, {\"Glucose\": -0.24540157264718845, \"BMI\": -1.2390732186108606, \"Age\": -0.9489389578452792, \"y_predict\": 1, \"y\": 0}, {\"Glucose\": -0.30788407963676906, \"BMI\": -1.0451324221830365, \"Age\": -0.5139318500977792, \"y_predict\": 1, \"y\": 0}, {\"Glucose\": 0.0357697088059244, \"BMI\": -0.566745124327737, \"Age\": 1.0520937377932202, \"y_predict\": 0, \"y\": 0}, {\"Glucose\": -1.1513979239961076, \"BMI\": -0.20472230432913263, \"Age\": -1.035940379394779, \"y_predict\": 1, \"y\": 0}, {\"Glucose\": 1.879003664998553, \"BMI\": 0.2736649935261669, \"Age\": 0.4430837869467205, \"y_predict\": 0, \"y\": 1}, {\"Glucose\": -0.6515378680794626, \"BMI\": 0.7520522913814655, \"Age\": -0.7749361147462792, \"y_predict\": 1, \"y\": 0}, {\"Glucose\": 0.09825221579550503, \"BMI\": -0.566745124327737, \"Age\": -0.33992900699877926, \"y_predict\": 1, \"y\": 1}, {\"Glucose\": 0.06701096230071471, \"BMI\": 0.0021478785272131297, \"Age\": 0.0950781007487206, \"y_predict\": 1, \"y\": 0}, {\"Glucose\": 1.785279904514182, \"BMI\": 1.0235694063804193, \"Age\": 0.7040880515952205, \"y_predict\": 0, \"y\": 1}, {\"Glucose\": -0.9327091495325754, \"BMI\": 0.053865424241299344, \"Age\": -0.5139318500977792, \"y_predict\": 1, \"y\": 0}, {\"Glucose\": 0.16073472278508566, \"BMI\": 0.8425579963811171, \"Age\": 1.4000994239912203, \"y_predict\": 0, \"y\": 0}, {\"Glucose\": -0.9327091495325754, \"BMI\": 0.1443711292409509, \"Age\": -0.9489389578452792, \"y_predict\": 1, \"y\": 0}, {\"Glucose\": 2.1289336929568754, \"BMI\": -0.24351046361469705, \"Age\": 2.27011363948622, \"y_predict\": 0, \"y\": 1}, {\"Glucose\": -0.27664282614197877, \"BMI\": 0.2736649935261669, \"Age\": -0.6009332716472792, \"y_predict\": 1, \"y\": 0}, {\"Glucose\": -0.40160784012114004, \"BMI\": -0.631392056470345, \"Age\": -0.7749361147462792, \"y_predict\": 1, \"y\": 0}, {\"Glucose\": -0.49533160060551096, \"BMI\": 1.4631685449501535, \"Age\": 1.0520937377932202, \"y_predict\": 0, \"y\": 1}, {\"Glucose\": -1.5575342194283817, \"BMI\": 0.15730051566947267, \"Age\": -1.035940379394779, \"y_predict\": 1, \"y\": 0}, {\"Glucose\": 0.8480422996704726, \"BMI\": 0.06679481066982113, \"Age\": -0.9489389578452792, \"y_predict\": 1, \"y\": 0}, {\"Glucose\": 1.5353498765558595, \"BMI\": 1.553674249949805, \"Age\": 0.8780908946942204, \"y_predict\": 0, \"y\": 1}, {\"Glucose\": 1.4416261160714887, \"BMI\": -1.1097793543256445, \"Age\": 0.008076679199220628, \"y_predict\": 0, \"y\": 1}, {\"Glucose\": 0.7543185391861017, \"BMI\": 1.5795330228068485, \"Age\": -0.16592616389977932, \"y_predict\": 0, \"y\": 1}, {\"Glucose\": 0.4731472577329888, \"BMI\": -0.10128721290095975, \"Age\": -0.9489389578452792, \"y_predict\": 1, \"y\": 1}, {\"Glucose\": -0.7765028820586238, \"BMI\": 0.6874053592388575, \"Age\": 0.6170866300457205, \"y_predict\": 1, \"y\": 0}, {\"Glucose\": -0.05795405167844655, \"BMI\": -0.631392056470345, \"Age\": 0.008076679199220628, \"y_predict\": 1, \"y\": 1}, {\"Glucose\": -0.6827791215742529, \"BMI\": 0.8554873828096389, \"Age\": -1.035940379394779, \"y_predict\": 1, \"y\": 0}, {\"Glucose\": -1.0576741635117366, \"BMI\": 0.7261935185244228, \"Age\": -0.7749361147462792, \"y_predict\": 1, \"y\": 0}, {\"Glucose\": 0.2856997367642469, \"BMI\": -1.148567513611209, \"Age\": -0.9489389578452792, \"y_predict\": 1, \"y\": 0}, {\"Glucose\": 0.5668710182173597, \"BMI\": -0.049569667186873084, \"Age\": -0.6879346931967791, \"y_predict\": 1, \"y\": 1}, {\"Glucose\": -0.08919530517323687, \"BMI\": 1.618321182092413, \"Age\": -0.6009332716472792, \"y_predict\": 1, \"y\": 0}, {\"Glucose\": 0.5043885112277792, \"BMI\": -0.6055332836133019, \"Age\": 2.27011363948622, \"y_predict\": 0, \"y\": 0}, {\"Glucose\": 1.285419848597537, \"BMI\": 2.2777198899470146, \"Age\": -0.6009332716472792, \"y_predict\": 0, \"y\": 1}, {\"Glucose\": -1.1513979239961076, \"BMI\": -0.29522800932878374, \"Age\": 1.1390951593427203, \"y_predict\": 1, \"y\": 1}, {\"Glucose\": 0.785559792680892, \"BMI\": 1.101145724951549, \"Age\": 0.9650923162437204, \"y_predict\": 0, \"y\": 0}, {\"Glucose\": -0.21416031915239814, \"BMI\": -0.3986631007569566, \"Age\": -0.7749361147462792, \"y_predict\": 1, \"y\": 0}, {\"Glucose\": 0.12949346929029534, \"BMI\": 0.23487683424060155, \"Age\": 1.83510653173872, \"y_predict\": 0, \"y\": 1}, {\"Glucose\": -0.9639504030273658, \"BMI\": -0.9804854900404286, \"Age\": -0.7749361147462792, \"y_predict\": 1, \"y\": 0}, {\"Glucose\": -0.6827791215742529, \"BMI\": 0.4417470170969473, \"Age\": 1.4871008455407202, \"y_predict\": 0, \"y\": 0}, {\"Glucose\": -0.24540157264718845, \"BMI\": -0.32108678218582687, \"Age\": -0.6879346931967791, \"y_predict\": 1, \"y\": 0}, {\"Glucose\": 0.4106647507434082, \"BMI\": -0.7865446936126046, \"Age\": 4.18414491357522, \"y_predict\": 0, \"y\": 0}, {\"Glucose\": 0.9417660601548435, \"BMI\": -0.29522800932878374, \"Age\": 0.2690809438477206, \"y_predict\": 0, \"y\": 0}, {\"Glucose\": -0.46409034711072067, \"BMI\": -0.7089683750414748, \"Age\": -0.33992900699877926, \"y_predict\": 1, \"y\": 1}, {\"Glucose\": 0.06701096230071471, \"BMI\": 0.1443711292409509, \"Age\": 0.6170866300457205, \"y_predict\": 0, \"y\": 0}, {\"Glucose\": -0.05795405167844655, \"BMI\": -1.2520026050393818, \"Age\": -0.7749361147462792, \"y_predict\": 1, \"y\": 0}, {\"Glucose\": 0.691836032196521, \"BMI\": -0.7477565343270397, \"Age\": -1.035940379394779, \"y_predict\": 1, \"y\": 0}, {\"Glucose\": -0.995191656522156, \"BMI\": 0.19608867495503712, \"Age\": 0.7910894731447204, \"y_predict\": 1, \"y\": 0}, {\"Glucose\": 0.0357697088059244, \"BMI\": 0.35124131209729664, \"Age\": 0.008076679199220628, \"y_predict\": 1, \"y\": 0}, {\"Glucose\": 0.2232172297746663, \"BMI\": -0.19179291790061084, \"Age\": -0.6879346931967791, \"y_predict\": 1, \"y\": 1}, {\"Glucose\": 2.441346227904779, \"BMI\": 1.4114509992360673, \"Age\": -0.9489389578452792, \"y_predict\": 0, \"y\": 1}, {\"Glucose\": 1.6290736370402306, \"BMI\": -0.29522800932878374, \"Age\": 0.008076679199220628, \"y_predict\": 0, \"y\": 1}, {\"Glucose\": 0.7543185391861017, \"BMI\": 0.7649816778099873, \"Age\": 0.6170866300457205, \"y_predict\": 0, \"y\": 1}, {\"Glucose\": 0.0357697088059244, \"BMI\": 2.2906492763755364, \"Age\": -0.16592616389977932, \"y_predict\": 0, \"y\": 1}, {\"Glucose\": -1.1513979239961076, \"BMI\": 0.4934645628110335, \"Age\": -1.035940379394779, \"y_predict\": 1, \"y\": 0}, {\"Glucose\": -0.6515378680794626, \"BMI\": 0.8425579963811171, \"Age\": -0.6009332716472792, \"y_predict\": 1, \"y\": 0}, {\"Glucose\": 0.8480422996704726, \"BMI\": 0.7261935185244228, \"Age\": 1.5741022670902203, \"y_predict\": 0, \"y\": 1}, {\"Glucose\": -0.08919530517323687, \"BMI\": -1.148567513611209, \"Age\": 1.1390951593427203, \"y_predict\": 0, \"y\": 0}, {\"Glucose\": -0.27664282614197877, \"BMI\": 0.28659437995468867, \"Age\": 0.2690809438477206, \"y_predict\": 1, \"y\": 1}, {\"Glucose\": -1.4638104589440109, \"BMI\": -0.540886351470694, \"Age\": -0.9489389578452792, \"y_predict\": 1, \"y\": 0}, {\"Glucose\": -0.30788407963676906, \"BMI\": 0.28659437995468867, \"Age\": -0.7749361147462792, \"y_predict\": 1, \"y\": 0}, {\"Glucose\": 0.5356297647225695, \"BMI\": 0.5322527220965989, \"Age\": 1.4871008455407202, \"y_predict\": 0, \"y\": 1}, {\"Glucose\": 0.16073472278508566, \"BMI\": 0.9459930878092895, \"Age\": -0.5139318500977792, \"y_predict\": 1, \"y\": 0}, {\"Glucose\": 0.0357697088059244, \"BMI\": 0.5063939492395553, \"Age\": -0.6009332716472792, \"y_predict\": 1, \"y\": 0}, {\"Glucose\": 0.5668710182173597, \"BMI\": -0.43745126004252105, \"Age\": -0.6009332716472792, \"y_predict\": 1, \"y\": 0}, {\"Glucose\": -0.7765028820586238, \"BMI\": -1.2390732186108606, \"Age\": -0.5139318500977792, \"y_predict\": 1, \"y\": 0}, {\"Glucose\": -0.6202966145846722, \"BMI\": 1.7605444328061508, \"Age\": 0.4430837869467205, \"y_predict\": 0, \"y\": 1}, {\"Glucose\": 0.6293535252069404, \"BMI\": 1.3468040670934591, \"Age\": -0.33992900699877926, \"y_predict\": 0, \"y\": 1}, {\"Glucose\": 0.12949346929029534, \"BMI\": -1.2261438321823388, \"Age\": -1.035940379394779, \"y_predict\": 1, \"y\": 0}]}}, {\"mode\": \"vega-lite\"});\n",
       "</script>"
      ],
      "text/plain": [
       "alt.HConcatChart(...)"
      ]
     },
     "execution_count": 24,
     "metadata": {},
     "output_type": "execute_result"
    }
   ],
   "source": [
    "c1 = alt.Chart(X_train_scaled_kmeans).mark_circle().encode(\n",
    "    x=\"Glucose\",\n",
    "    y=\"BMI\",\n",
    "    color=\"y:N\",\n",
    "    tooltip=[\"y\",\"Glucose\",\"BMI\",\"Age\"]\n",
    ")\n",
    "\n",
    "c2 = alt.Chart(X_train_scaled_kmeans).mark_circle().encode(\n",
    "    x=\"Glucose\",\n",
    "    y=\"BMI\",\n",
    "    color=\"y_predict:N\",\n",
    "    tooltip=[\"y_predict\",\"Glucose\",\"BMI\",\"Age\"]\n",
    ")\n",
    "\n",
    "alt.hconcat(c1,c2)"
   ]
  },
  {
   "cell_type": "markdown",
   "metadata": {
    "cell_id": "1828a2016b9e4d109266bdbb1133287b",
    "deepnote_cell_type": "markdown",
    "tags": []
   },
   "source": [
    "Based on the plot, we can say the class 1 in **y_predict** is more likely to be the class 0 in **y**."
   ]
  },
  {
   "cell_type": "markdown",
   "metadata": {
    "cell_id": "f56d5e45d8954e798908ce46add84da6",
    "deepnote_cell_type": "markdown",
    "tags": []
   },
   "source": [
    "Then we can calculate the training accuracy."
   ]
  },
  {
   "cell_type": "code",
   "execution_count": 25,
   "metadata": {
    "cell_id": "d4d773abf4044203a6b525b2a97b5453",
    "deepnote_cell_type": "code",
    "deepnote_to_be_reexecuted": false,
    "execution_millis": 4,
    "execution_start": 1670028434051,
    "source_hash": "e35a4fd7",
    "tags": []
   },
   "outputs": [
    {
     "name": "stdout",
     "output_type": "stream",
     "text": [
      "Training accuracy 0.754071661237785\n"
     ]
    }
   ],
   "source": [
    "print(\"Training accuracy\",\n",
    "(X_train_scaled_kmeans[\"y\"] != X_train_scaled_kmeans[\"y_predict\"]).sum() / X_train_scaled_kmeans.shape[0])"
   ]
  },
  {
   "cell_type": "markdown",
   "metadata": {
    "cell_id": "66b9d200e57b45748417aff460c0bdce",
    "deepnote_cell_type": "markdown",
    "tags": []
   },
   "source": [
    "We need to test the model to check whether it overfit."
   ]
  },
  {
   "cell_type": "code",
   "execution_count": 26,
   "metadata": {
    "cell_id": "6bab6c8c92684befb7ac066924d58c0c",
    "deepnote_cell_type": "code",
    "deepnote_to_be_reexecuted": false,
    "execution_millis": 6,
    "execution_start": 1670028434061,
    "source_hash": "aea76a87",
    "tags": []
   },
   "outputs": [],
   "source": [
    "X_test_scaled_kmeans = X_test_scaled[kmeans_cols].copy()\n",
    "kmeans_result = kmeans.predict(X_test_scaled_kmeans)\n",
    "X_test_scaled_kmeans[\"y_predict\"] = kmeans_result\n",
    "X_test_scaled_kmeans[\"y\"] = list(y_test)"
   ]
  },
  {
   "cell_type": "code",
   "execution_count": 27,
   "metadata": {
    "cell_id": "d81e5ba7cbef4be39ea5d66c8886994f",
    "deepnote_cell_type": "code",
    "deepnote_to_be_reexecuted": false,
    "execution_millis": 28,
    "execution_start": 1670028434067,
    "source_hash": "613d2ce0",
    "tags": []
   },
   "outputs": [
    {
     "name": "stdout",
     "output_type": "stream",
     "text": [
      "Test accuracy 0.6948051948051948\n"
     ]
    }
   ],
   "source": [
    "print(\"Test accuracy\",\n",
    "(X_test_scaled_kmeans[\"y\"] != X_test_scaled_kmeans[\"y_predict\"]).sum() / X_test_scaled_kmeans.shape[0])"
   ]
  },
  {
   "cell_type": "markdown",
   "metadata": {
    "cell_id": "deb0f39503db4729a0fe9eb456b96ade",
    "deepnote_cell_type": "markdown",
    "tags": []
   },
   "source": [
    "It seems the model is overfitting a bit. I think one possible reason is that there are much more \"negative\" than \"positive\" in the training data."
   ]
  },
  {
   "cell_type": "code",
   "execution_count": 28,
   "metadata": {
    "cell_id": "b81f5a6981ff4d1e8c18833978d58243",
    "deepnote_cell_type": "code",
    "deepnote_to_be_reexecuted": false,
    "execution_millis": 4,
    "execution_start": 1670028434096,
    "source_hash": "a1a258da",
    "tags": []
   },
   "outputs": [
    {
     "data": {
      "text/plain": [
       "0    401\n",
       "1    213\n",
       "Name: Outcome, dtype: int64"
      ]
     },
     "execution_count": 28,
     "metadata": {},
     "output_type": "execute_result"
    }
   ],
   "source": [
    "y_train.value_counts()"
   ]
  },
  {
   "cell_type": "markdown",
   "metadata": {
    "cell_id": "882e270ba0434eeebd27797a23a5b935",
    "deepnote_cell_type": "markdown",
    "tags": []
   },
   "source": [
    "Note that there are 65% class 0 in the training data, much more than 50%. The idea comes to my mind is to sample 213 rows of class 0."
   ]
  },
  {
   "cell_type": "code",
   "execution_count": 29,
   "metadata": {
    "cell_id": "157498e6eeb94fdfb7a7d06e52c3577f",
    "deepnote_cell_type": "code",
    "deepnote_to_be_reexecuted": false,
    "execution_millis": 1,
    "execution_start": 1670028434104,
    "source_hash": "6ddb3978",
    "tags": []
   },
   "outputs": [],
   "source": [
    "training_data = X_train_scaled.copy()\n",
    "training_data[\"y\"] = y_train\n",
    "training_data_class0 = training_data[training_data[\"y\"]==0]\n",
    "training_data_class1 = training_data[training_data[\"y\"]==1]\n",
    "training_data_class0_sample = training_data_class0.sample(n=213,random_state=42)"
   ]
  },
  {
   "cell_type": "markdown",
   "metadata": {
    "cell_id": "c58328bcabe14888904c5e99941e46af",
    "deepnote_cell_type": "markdown",
    "tags": []
   },
   "source": [
    "Now we have 213 class 0 and 213 class 1, we will concatnate them together to create the new training data."
   ]
  },
  {
   "cell_type": "code",
   "execution_count": 30,
   "metadata": {
    "cell_id": "524b929bcc6a4373a222a7e42c2cdcce",
    "deepnote_cell_type": "code",
    "deepnote_to_be_reexecuted": false,
    "execution_millis": 1,
    "execution_start": 1670028434108,
    "source_hash": "8de8b603",
    "tags": []
   },
   "outputs": [],
   "source": [
    "X_train_scaled_balanced = pd.concat([training_data_class0_sample, training_data_class1])\n",
    "y_train_balanced = X_train_scaled_balanced[\"y\"]\n",
    "X_train_scaled_balanced.drop(columns=[\"y\"],inplace=True)"
   ]
  },
  {
   "cell_type": "markdown",
   "metadata": {
    "cell_id": "7881f64862434893950c9b09e42b2a10",
    "deepnote_cell_type": "markdown",
    "tags": []
   },
   "source": [
    "Now let's fit a kmeans model on the balanced data."
   ]
  },
  {
   "cell_type": "code",
   "execution_count": 31,
   "metadata": {
    "cell_id": "042c8235db12483f86442bf47c43e848",
    "deepnote_cell_type": "code",
    "deepnote_to_be_reexecuted": false,
    "execution_millis": 0,
    "execution_start": 1670028434154,
    "source_hash": "7a37bb6a",
    "tags": []
   },
   "outputs": [],
   "source": [
    "X_train_scaled_kmeans_balanced = X_train_scaled_balanced[kmeans_cols].copy()\n",
    "kmeans_balanced = KMeans(n_clusters=2,random_state=42)\n",
    "kmeans_balanced.fit(X_train_scaled_kmeans_balanced)\n",
    "X_train_scaled_kmeans_balanced[\"y_predict\"] = kmeans_balanced.predict(X_train_scaled_kmeans_balanced)\n",
    "X_train_scaled_kmeans_balanced[\"y\"] = list(y_train_balanced)"
   ]
  },
  {
   "cell_type": "markdown",
   "metadata": {
    "cell_id": "5f9d2681e62146cb85067e15212cc88c",
    "deepnote_cell_type": "markdown",
    "tags": []
   },
   "source": [
    "Similar to before, we will plot the prediction."
   ]
  },
  {
   "cell_type": "code",
   "execution_count": 32,
   "metadata": {
    "cell_id": "53f16fe0ae90495ca5d57afc61461e1e",
    "deepnote_cell_type": "code",
    "deepnote_to_be_reexecuted": false,
    "execution_millis": 37,
    "execution_start": 1670028434196,
    "source_hash": "6232ae9a",
    "tags": []
   },
   "outputs": [
    {
     "data": {
      "text/html": [
       "\n",
       "<div id=\"altair-viz-9fcbf028223e461f9b282d54e4d1e0ba\"></div>\n",
       "<script type=\"text/javascript\">\n",
       "  var VEGA_DEBUG = (typeof VEGA_DEBUG == \"undefined\") ? {} : VEGA_DEBUG;\n",
       "  (function(spec, embedOpt){\n",
       "    let outputDiv = document.currentScript.previousElementSibling;\n",
       "    if (outputDiv.id !== \"altair-viz-9fcbf028223e461f9b282d54e4d1e0ba\") {\n",
       "      outputDiv = document.getElementById(\"altair-viz-9fcbf028223e461f9b282d54e4d1e0ba\");\n",
       "    }\n",
       "    const paths = {\n",
       "      \"vega\": \"https://cdn.jsdelivr.net/npm//vega@5?noext\",\n",
       "      \"vega-lib\": \"https://cdn.jsdelivr.net/npm//vega-lib?noext\",\n",
       "      \"vega-lite\": \"https://cdn.jsdelivr.net/npm//vega-lite@4.17.0?noext\",\n",
       "      \"vega-embed\": \"https://cdn.jsdelivr.net/npm//vega-embed@6?noext\",\n",
       "    };\n",
       "\n",
       "    function maybeLoadScript(lib, version) {\n",
       "      var key = `${lib.replace(\"-\", \"\")}_version`;\n",
       "      return (VEGA_DEBUG[key] == version) ?\n",
       "        Promise.resolve(paths[lib]) :\n",
       "        new Promise(function(resolve, reject) {\n",
       "          var s = document.createElement('script');\n",
       "          document.getElementsByTagName(\"head\")[0].appendChild(s);\n",
       "          s.async = true;\n",
       "          s.onload = () => {\n",
       "            VEGA_DEBUG[key] = version;\n",
       "            return resolve(paths[lib]);\n",
       "          };\n",
       "          s.onerror = () => reject(`Error loading script: ${paths[lib]}`);\n",
       "          s.src = paths[lib];\n",
       "        });\n",
       "    }\n",
       "\n",
       "    function showError(err) {\n",
       "      outputDiv.innerHTML = `<div class=\"error\" style=\"color:red;\">${err}</div>`;\n",
       "      throw err;\n",
       "    }\n",
       "\n",
       "    function displayChart(vegaEmbed) {\n",
       "      vegaEmbed(outputDiv, spec, embedOpt)\n",
       "        .catch(err => showError(`Javascript Error: ${err.message}<br>This usually means there's a typo in your chart specification. See the javascript console for the full traceback.`));\n",
       "    }\n",
       "\n",
       "    if(typeof define === \"function\" && define.amd) {\n",
       "      requirejs.config({paths});\n",
       "      require([\"vega-embed\"], displayChart, err => showError(`Error loading script: ${err.message}`));\n",
       "    } else {\n",
       "      maybeLoadScript(\"vega\", \"5\")\n",
       "        .then(() => maybeLoadScript(\"vega-lite\", \"4.17.0\"))\n",
       "        .then(() => maybeLoadScript(\"vega-embed\", \"6\"))\n",
       "        .catch(showError)\n",
       "        .then(() => displayChart(vegaEmbed));\n",
       "    }\n",
       "  })({\"config\": {\"view\": {\"continuousWidth\": 400, \"continuousHeight\": 300}}, \"hconcat\": [{\"mark\": \"circle\", \"encoding\": {\"color\": {\"field\": \"y\", \"type\": \"nominal\"}, \"tooltip\": [{\"field\": \"y\", \"type\": \"quantitative\"}, {\"field\": \"Glucose\", \"type\": \"quantitative\"}, {\"field\": \"BMI\", \"type\": \"quantitative\"}, {\"field\": \"Age\", \"type\": \"quantitative\"}], \"x\": {\"field\": \"Glucose\", \"type\": \"quantitative\"}, \"y\": {\"field\": \"BMI\", \"type\": \"quantitative\"}}}, {\"mark\": \"circle\", \"encoding\": {\"color\": {\"field\": \"y_predict\", \"type\": \"nominal\"}, \"tooltip\": [{\"field\": \"y_predict\", \"type\": \"quantitative\"}, {\"field\": \"Glucose\", \"type\": \"quantitative\"}, {\"field\": \"BMI\", \"type\": \"quantitative\"}, {\"field\": \"Age\", \"type\": \"quantitative\"}], \"x\": {\"field\": \"Glucose\", \"type\": \"quantitative\"}, \"y\": {\"field\": \"BMI\", \"type\": \"quantitative\"}}}], \"data\": {\"name\": \"data-9f6357b828dc28a83a89d261e3f43a4b\"}, \"$schema\": \"https://vega.github.io/schema/vega-lite/v4.17.0.json\", \"datasets\": {\"data-9f6357b828dc28a83a89d261e3f43a4b\": [{\"Glucose\": 0.2232172297746663, \"BMI\": 1.036498792808941, \"Age\": -0.7749361147462792, \"y_predict\": 0, \"y\": 0}, {\"Glucose\": -0.6827791215742529, \"BMI\": -0.9029091714692988, \"Age\": -0.9489389578452792, \"y_predict\": 0, \"y\": 0}, {\"Glucose\": -0.8389853890482045, \"BMI\": -0.049569667186873084, \"Age\": -0.8619375362957792, \"y_predict\": 0, \"y\": 0}, {\"Glucose\": -0.6827791215742529, \"BMI\": -1.6398841978950298, \"Age\": -0.2529275854492793, \"y_predict\": 0, \"y\": 0}, {\"Glucose\": -0.49533160060551096, \"BMI\": -1.5493784928953787, \"Age\": -0.9489389578452792, \"y_predict\": 0, \"y\": 0}, {\"Glucose\": -1.1201566705013173, \"BMI\": 0.9847812470948548, \"Age\": -0.5139318500977792, \"y_predict\": 0, \"y\": 0}, {\"Glucose\": 0.0357697088059244, \"BMI\": 0.35124131209729664, \"Age\": 0.008076679199220628, \"y_predict\": 0, \"y\": 0}, {\"Glucose\": 0.691836032196521, \"BMI\": 1.682968114235021, \"Age\": 1.2260965808922204, \"y_predict\": 1, \"y\": 0}, {\"Glucose\": 1.0354898206392145, \"BMI\": 1.8251913649487588, \"Age\": -0.5139318500977792, \"y_predict\": 1, \"y\": 0}, {\"Glucose\": -1.3388454449648495, \"BMI\": 0.22194744781208067, \"Age\": -0.6879346931967791, \"y_predict\": 0, \"y\": 0}, {\"Glucose\": 2.191416199946456, \"BMI\": -0.14007537218652463, \"Age\": 0.0950781007487206, \"y_predict\": 1, \"y\": 0}, {\"Glucose\": 0.0357697088059244, \"BMI\": -0.566745124327737, \"Age\": 1.0520937377932202, \"y_predict\": 1, \"y\": 0}, {\"Glucose\": -1.2138804309856883, \"BMI\": -0.4503806464710428, \"Age\": -0.6879346931967791, \"y_predict\": 0, \"y\": 0}, {\"Glucose\": -1.3388454449648495, \"BMI\": 0.06679481066982113, \"Age\": 0.5300852084962205, \"y_predict\": 0, \"y\": 0}, {\"Glucose\": -0.21416031915239814, \"BMI\": -0.9158385578978205, \"Age\": 2.09611079638722, \"y_predict\": 1, \"y\": 0}, {\"Glucose\": 0.5043885112277792, \"BMI\": -0.10128721290095975, \"Age\": -0.2529275854492793, \"y_predict\": 0, \"y\": 0}, {\"Glucose\": -0.5578141075950916, \"BMI\": 1.8381207513772806, \"Age\": 0.7910894731447204, \"y_predict\": 1, \"y\": 0}, {\"Glucose\": -0.7452616285638335, \"BMI\": -1.7821074486087676, \"Age\": -1.035940379394779, \"y_predict\": 0, \"y\": 0}, {\"Glucose\": -0.8389853890482045, \"BMI\": 0.17022990209799355, \"Age\": 0.7040880515952205, \"y_predict\": 0, \"y\": 0}, {\"Glucose\": -0.995191656522156, \"BMI\": -0.5020981921851291, \"Age\": -1.035940379394779, \"y_predict\": 0, \"y\": 0}, {\"Glucose\": -0.46409034711072067, \"BMI\": -1.083920581468601, \"Age\": 0.9650923162437204, \"y_predict\": 0, \"y\": 0}, {\"Glucose\": -0.6515378680794626, \"BMI\": -0.25643985004321884, \"Age\": 1.1390951593427203, \"y_predict\": 0, \"y\": 0}, {\"Glucose\": -0.6515378680794626, \"BMI\": 0.8425579963811171, \"Age\": -0.6009332716472792, \"y_predict\": 0, \"y\": 0}, {\"Glucose\": -1.5575342194283817, \"BMI\": -1.31664953718199, \"Age\": -0.6009332716472792, \"y_predict\": 0, \"y\": 0}, {\"Glucose\": -1.1513979239961076, \"BMI\": -4.135255778599698, \"Age\": -1.035940379394779, \"y_predict\": 0, \"y\": 0}, {\"Glucose\": 0.0357697088059244, \"BMI\": 0.5063939492395553, \"Age\": -0.6009332716472792, \"y_predict\": 0, \"y\": 0}, {\"Glucose\": -0.12043655866802719, \"BMI\": -0.8770503986122556, \"Age\": -1.035940379394779, \"y_predict\": 0, \"y\": 0}, {\"Glucose\": -1.0264329100169465, \"BMI\": -0.2693692364717406, \"Age\": -0.8619375362957792, \"y_predict\": 0, \"y\": 0}, {\"Glucose\": -0.21416031915239814, \"BMI\": -0.3986631007569566, \"Age\": -0.7749361147462792, \"y_predict\": 0, \"y\": 0}, {\"Glucose\": -1.4950517124388012, \"BMI\": -1.407155242181641, \"Age\": -0.6879346931967791, \"y_predict\": 0, \"y\": 0}, {\"Glucose\": 0.16073472278508566, \"BMI\": 0.9459930878092895, \"Age\": -0.5139318500977792, \"y_predict\": 0, \"y\": 0}, {\"Glucose\": 1.9414861719881338, \"BMI\": 1.1399338842371134, \"Age\": 1.0520937377932202, \"y_predict\": 1, \"y\": 0}, {\"Glucose\": -0.1516778121628175, \"BMI\": -0.5926038971847806, \"Age\": -1.035940379394779, \"y_predict\": 0, \"y\": 0}, {\"Glucose\": 0.2232172297746663, \"BMI\": -1.407155242181641, \"Age\": 1.9221079532882202, \"y_predict\": 1, \"y\": 0}, {\"Glucose\": -0.7452616285638335, \"BMI\": -1.1356381271826876, \"Age\": -0.9489389578452792, \"y_predict\": 0, \"y\": 0}, {\"Glucose\": 0.6293535252069404, \"BMI\": -0.566745124327737, \"Age\": 0.6170866300457205, \"y_predict\": 1, \"y\": 0}, {\"Glucose\": -0.6827791215742529, \"BMI\": -1.4976609471812925, \"Age\": -0.5139318500977792, \"y_predict\": 0, \"y\": 0}, {\"Glucose\": -0.7765028820586238, \"BMI\": -1.2390732186108606, \"Age\": -0.5139318500977792, \"y_predict\": 0, \"y\": 0}, {\"Glucose\": -1.2138804309856883, \"BMI\": -1.407155242181641, \"Age\": -0.6879346931967791, \"y_predict\": 0, \"y\": 0}, {\"Glucose\": 0.34818224375382756, \"BMI\": -0.5150275786136508, \"Age\": 2.61811932568422, \"y_predict\": 1, \"y\": 0}, {\"Glucose\": 2.2851399604308273, \"BMI\": -0.7606859207555611, \"Age\": 2.96612501188222, \"y_predict\": 1, \"y\": 0}, {\"Glucose\": -0.5578141075950916, \"BMI\": 1.4631685449501535, \"Age\": 0.008076679199220628, \"y_predict\": 0, \"y\": 0}, {\"Glucose\": -1.0576741635117366, \"BMI\": -1.31664953718199, \"Age\": -1.035940379394779, \"y_predict\": 0, \"y\": 0}, {\"Glucose\": -1.8699467543762849, \"BMI\": 0.3124531528117313, \"Age\": 1.1390951593427203, \"y_predict\": 0, \"y\": 0}, {\"Glucose\": -0.4328490936159303, \"BMI\": 0.6227584270962495, \"Age\": -0.16592616389977932, \"y_predict\": 0, \"y\": 0}, {\"Glucose\": -0.24540157264718845, \"BMI\": -0.32108678218582687, \"Age\": -0.6879346931967791, \"y_predict\": 0, \"y\": 0}, {\"Glucose\": 0.785559792680892, \"BMI\": -0.29522800932878374, \"Age\": -0.33992900699877926, \"y_predict\": 0, \"y\": 0}, {\"Glucose\": -0.7452616285638335, \"BMI\": -0.6184626700418238, \"Age\": -0.9489389578452792, \"y_predict\": 0, \"y\": 0}, {\"Glucose\": 0.06701096230071471, \"BMI\": 0.20901806138355888, \"Age\": 0.0950781007487206, \"y_predict\": 0, \"y\": 0}, {\"Glucose\": 0.5668710182173597, \"BMI\": -0.631392056470345, \"Age\": 2.09611079638722, \"y_predict\": 1, \"y\": 0}, {\"Glucose\": -0.026712798183656235, \"BMI\": -0.19179291790061084, \"Age\": -0.6009332716472792, \"y_predict\": 0, \"y\": 0}, {\"Glucose\": 0.5981122717121501, \"BMI\": -1.019273649325993, \"Age\": -0.8619375362957792, \"y_predict\": 0, \"y\": 0}, {\"Glucose\": 0.9417660601548435, \"BMI\": 0.45467640352546906, \"Age\": -0.42693042854827923, \"y_predict\": 1, \"y\": 0}, {\"Glucose\": 0.6605947787017308, \"BMI\": -0.4115924871854779, \"Age\": 2.44411648258522, \"y_predict\": 1, \"y\": 0}, {\"Glucose\": -0.30788407963676906, \"BMI\": 0.28659437995468867, \"Age\": -0.7749361147462792, \"y_predict\": 0, \"y\": 0}, {\"Glucose\": -0.30788407963676906, \"BMI\": -0.954626717183385, \"Age\": -0.16592616389977932, \"y_predict\": 0, \"y\": 0}, {\"Glucose\": -0.21416031915239814, \"BMI\": -0.540886351470694, \"Age\": 2.87912359033272, \"y_predict\": 1, \"y\": 0}, {\"Glucose\": -0.6515378680794626, \"BMI\": 0.0021478785272131297, \"Age\": 0.7910894731447204, \"y_predict\": 0, \"y\": 0}, {\"Glucose\": -0.589055361089882, \"BMI\": 0.3253825392402531, \"Age\": -0.7749361147462792, \"y_predict\": 0, \"y\": 0}, {\"Glucose\": 0.7230772856913114, \"BMI\": -0.32108678218582687, \"Age\": 0.35608236539722055, \"y_predict\": 1, \"y\": 0}, {\"Glucose\": -0.40160784012114004, \"BMI\": -0.8770503986122556, \"Age\": -1.035940379394779, \"y_predict\": 0, \"y\": 0}, {\"Glucose\": -1.088915417006527, \"BMI\": 0.4934645628110335, \"Age\": -0.6879346931967791, \"y_predict\": 0, \"y\": 0}, {\"Glucose\": -1.682499233407543, \"BMI\": 1.7217562735205854, \"Age\": 1.1390951593427203, \"y_predict\": 0, \"y\": 0}, {\"Glucose\": -0.6515378680794626, \"BMI\": -0.29522800932878374, \"Age\": -1.035940379394779, \"y_predict\": 0, \"y\": 0}, {\"Glucose\": -0.30788407963676906, \"BMI\": -0.24351046361469705, \"Age\": -0.2529275854492793, \"y_predict\": 0, \"y\": 0}, {\"Glucose\": 0.19197597627987598, \"BMI\": -0.5538157378992157, \"Age\": -0.6879346931967791, \"y_predict\": 0, \"y\": 0}, {\"Glucose\": -0.4328490936159303, \"BMI\": 0.20901806138355888, \"Age\": -0.8619375362957792, \"y_predict\": 0, \"y\": 0}, {\"Glucose\": -0.3703665866263497, \"BMI\": -0.8770503986122556, \"Age\": -0.8619375362957792, \"y_predict\": 0, \"y\": 0}, {\"Glucose\": -0.3703665866263497, \"BMI\": -0.4503806464710428, \"Age\": -0.9489389578452792, \"y_predict\": 0, \"y\": 0}, {\"Glucose\": -0.6827791215742529, \"BMI\": -0.8511916257552126, \"Age\": -1.035940379394779, \"y_predict\": 0, \"y\": 0}, {\"Glucose\": -1.182639177490898, \"BMI\": 0.028006651384256696, \"Age\": -0.9489389578452792, \"y_predict\": 0, \"y\": 0}, {\"Glucose\": 1.0354898206392145, \"BMI\": 0.10558296995538555, \"Age\": -0.8619375362957792, \"y_predict\": 0, \"y\": 0}, {\"Glucose\": -1.276362937975269, \"BMI\": -1.665742970752073, \"Age\": -1.035940379394779, \"y_predict\": 0, \"y\": 0}, {\"Glucose\": -0.6202966145846722, \"BMI\": -1.0063442628974717, \"Age\": -0.6009332716472792, \"y_predict\": 0, \"y\": 0}, {\"Glucose\": -0.995191656522156, \"BMI\": 0.19608867495503712, \"Age\": 0.7910894731447204, \"y_predict\": 0, \"y\": 0}, {\"Glucose\": -0.12043655866802719, \"BMI\": 0.9201343149522468, \"Age\": 0.7910894731447204, \"y_predict\": 1, \"y\": 0}, {\"Glucose\": 0.2856997367642469, \"BMI\": -1.213214445753817, \"Age\": -1.035940379394779, \"y_predict\": 0, \"y\": 0}, {\"Glucose\": -0.40160784012114004, \"BMI\": -0.631392056470345, \"Age\": -0.7749361147462792, \"y_predict\": 0, \"y\": 0}, {\"Glucose\": -0.9639504030273658, \"BMI\": 1.3855922263790246, \"Age\": -1.035940379394779, \"y_predict\": 0, \"y\": 0}, {\"Glucose\": -0.46409034711072067, \"BMI\": -0.38573371432843484, \"Age\": -0.9489389578452792, \"y_predict\": 0, \"y\": 0}, {\"Glucose\": 0.2856997367642469, \"BMI\": -0.7865446936126046, \"Age\": -0.9489389578452792, \"y_predict\": 0, \"y\": 0}, {\"Glucose\": -0.6515378680794626, \"BMI\": 0.8684167692381606, \"Age\": 0.7910894731447204, \"y_predict\": 1, \"y\": 0}, {\"Glucose\": -2.0261530218502366, \"BMI\": -1.0063442628974717, \"Age\": -0.9489389578452792, \"y_predict\": 0, \"y\": 0}, {\"Glucose\": 0.5356297647225695, \"BMI\": 1.049428179237463, \"Age\": -0.42693042854827923, \"y_predict\": 1, \"y\": 0}, {\"Glucose\": -1.4950517124388012, \"BMI\": -0.6701802157559099, \"Age\": -0.5139318500977792, \"y_predict\": 0, \"y\": 0}, {\"Glucose\": 1.379143609081908, \"BMI\": 2.0579203206621473, \"Age\": -0.6009332716472792, \"y_predict\": 1, \"y\": 0}, {\"Glucose\": -0.995191656522156, \"BMI\": -0.540886351470694, \"Age\": -1.035940379394779, \"y_predict\": 0, \"y\": 0}, {\"Glucose\": -0.6515378680794626, \"BMI\": -1.083920581468601, \"Age\": -0.6009332716472792, \"y_predict\": 0, \"y\": 0}, {\"Glucose\": -0.30788407963676906, \"BMI\": -0.24351046361469705, \"Age\": -0.8619375362957792, \"y_predict\": 0, \"y\": 0}, {\"Glucose\": 0.19197597627987598, \"BMI\": 0.3124531528117313, \"Age\": -0.9489389578452792, \"y_predict\": 0, \"y\": 0}, {\"Glucose\": -0.21416031915239814, \"BMI\": 0.7908404506670308, \"Age\": -1.035940379394779, \"y_predict\": 0, \"y\": 0}, {\"Glucose\": -1.182639177490898, \"BMI\": -1.7821074486087676, \"Age\": -0.5139318500977792, \"y_predict\": 0, \"y\": 0}, {\"Glucose\": -0.6827791215742529, \"BMI\": 0.2607356070976451, \"Age\": -0.2529275854492793, \"y_predict\": 0, \"y\": 0}, {\"Glucose\": 0.16073472278508566, \"BMI\": -0.42452187361399973, \"Age\": -1.035940379394779, \"y_predict\": 0, \"y\": 0}, {\"Glucose\": 0.2232172297746663, \"BMI\": 0.29952376638320954, \"Age\": -0.7749361147462792, \"y_predict\": 0, \"y\": 0}, {\"Glucose\": -0.21416031915239814, \"BMI\": -1.3037201507534686, \"Age\": 0.35608236539722055, \"y_predict\": 0, \"y\": 0}, {\"Glucose\": -0.6827791215742529, \"BMI\": 0.8554873828096389, \"Age\": -1.035940379394779, \"y_predict\": 0, \"y\": 0}, {\"Glucose\": 0.16073472278508566, \"BMI\": -0.16593414504356774, \"Age\": -0.7749361147462792, \"y_predict\": 0, \"y\": 0}, {\"Glucose\": -0.7765028820586238, \"BMI\": -1.0709911950400797, \"Age\": -0.42693042854827923, \"y_predict\": 0, \"y\": 0}, {\"Glucose\": -1.1201566705013173, \"BMI\": -0.10128721290095975, \"Age\": 0.7910894731447204, \"y_predict\": 0, \"y\": 0}, {\"Glucose\": -0.9327091495325754, \"BMI\": -0.8770503986122556, \"Age\": -0.8619375362957792, \"y_predict\": 0, \"y\": 0}, {\"Glucose\": 0.004528455311134083, \"BMI\": 0.907204928523725, \"Age\": -0.42693042854827923, \"y_predict\": 0, \"y\": 0}, {\"Glucose\": 0.7543185391861017, \"BMI\": -1.2649319914679036, \"Age\": 2.09611079638722, \"y_predict\": 1, \"y\": 0}, {\"Glucose\": -0.46409034711072067, \"BMI\": 0.9589224742378113, \"Age\": -0.9489389578452792, \"y_predict\": 0, \"y\": 0}, {\"Glucose\": -0.49533160060551096, \"BMI\": 1.230439589236765, \"Age\": -0.9489389578452792, \"y_predict\": 0, \"y\": 0}, {\"Glucose\": -1.0264329100169465, \"BMI\": -0.38573371432843484, \"Age\": -0.9489389578452792, \"y_predict\": 0, \"y\": 0}, {\"Glucose\": -0.6515378680794626, \"BMI\": -0.15300475861504598, \"Age\": -1.035940379394779, \"y_predict\": 0, \"y\": 0}, {\"Glucose\": -0.46409034711072067, \"BMI\": 0.28659437995468867, \"Age\": 1.6611036886397201, \"y_predict\": 1, \"y\": 0}, {\"Glucose\": -0.8077441355534142, \"BMI\": -0.7606859207555611, \"Age\": -0.9489389578452792, \"y_predict\": 0, \"y\": 0}, {\"Glucose\": 0.004528455311134083, \"BMI\": -0.7477565343270397, \"Age\": -0.2529275854492793, \"y_predict\": 0, \"y\": 0}, {\"Glucose\": -0.9639504030273658, \"BMI\": -0.9675561036119068, \"Age\": 0.2690809438477206, \"y_predict\": 0, \"y\": 0}, {\"Glucose\": -1.1513979239961076, \"BMI\": 0.971851860666333, \"Age\": -0.6879346931967791, \"y_predict\": 0, \"y\": 0}, {\"Glucose\": 0.785559792680892, \"BMI\": 1.101145724951549, \"Age\": 0.9650923162437204, \"y_predict\": 1, \"y\": 0}, {\"Glucose\": -0.05795405167844655, \"BMI\": -1.2520026050393818, \"Age\": -0.7749361147462792, \"y_predict\": 0, \"y\": 0}, {\"Glucose\": 2.2538987069360368, \"BMI\": -0.7865446936126046, \"Age\": -0.7749361147462792, \"y_predict\": 1, \"y\": 0}, {\"Glucose\": -0.30788407963676906, \"BMI\": -0.7477565343270397, \"Age\": -0.8619375362957792, \"y_predict\": 0, \"y\": 0}, {\"Glucose\": 0.09825221579550503, \"BMI\": 0.4417470170969473, \"Age\": 0.0950781007487206, \"y_predict\": 1, \"y\": 0}, {\"Glucose\": -0.9014678960377851, \"BMI\": -0.7865446936126046, \"Age\": -0.16592616389977932, \"y_predict\": 0, \"y\": 0}, {\"Glucose\": -1.1201566705013173, \"BMI\": -0.696038988612953, \"Age\": -0.16592616389977932, \"y_predict\": 0, \"y\": 0}, {\"Glucose\": -0.9639504030273658, \"BMI\": -0.9804854900404286, \"Age\": -0.7749361147462792, \"y_predict\": 0, \"y\": 0}, {\"Glucose\": 0.9105248066600533, \"BMI\": -1.4200846286101627, \"Age\": 0.35608236539722055, \"y_predict\": 0, \"y\": 0}, {\"Glucose\": -0.7452616285638335, \"BMI\": -1.7821074486087676, \"Age\": -1.035940379394779, \"y_predict\": 0, \"y\": 0}, {\"Glucose\": 0.9730073136496339, \"BMI\": 1.230439589236765, \"Age\": -0.5139318500977792, \"y_predict\": 1, \"y\": 0}, {\"Glucose\": -1.9949117683554463, \"BMI\": 0.10558296995538555, \"Age\": 0.7040880515952205, \"y_predict\": 0, \"y\": 0}, {\"Glucose\": 0.25445848326945664, \"BMI\": 0.40295885781138285, \"Age\": -0.8619375362957792, \"y_predict\": 0, \"y\": 0}, {\"Glucose\": -0.026712798183656235, \"BMI\": 0.9977106335233766, \"Age\": -0.33992900699877926, \"y_predict\": 0, \"y\": 0}, {\"Glucose\": -0.589055361089882, \"BMI\": 0.6744759728103367, \"Age\": 1.0520937377932202, \"y_predict\": 1, \"y\": 0}, {\"Glucose\": 0.5043885112277792, \"BMI\": -0.6055332836133019, \"Age\": 2.27011363948622, \"y_predict\": 1, \"y\": 0}, {\"Glucose\": -0.30788407963676906, \"BMI\": 0.10558296995538555, \"Age\": 1.0520937377932202, \"y_predict\": 1, \"y\": 0}, {\"Glucose\": -1.5262929659335915, \"BMI\": -0.049569667186873084, \"Age\": 0.4430837869467205, \"y_predict\": 0, \"y\": 0}, {\"Glucose\": -0.3391253331315594, \"BMI\": 0.053865424241299344, \"Age\": -0.5139318500977792, \"y_predict\": 0, \"y\": 0}, {\"Glucose\": 0.5043885112277792, \"BMI\": -0.9287679443263419, \"Age\": -1.035940379394779, \"y_predict\": 0, \"y\": 0}, {\"Glucose\": -0.30788407963676906, \"BMI\": -1.0451324221830365, \"Age\": -0.5139318500977792, \"y_predict\": 0, \"y\": 0}, {\"Glucose\": -0.40160784012114004, \"BMI\": -1.0322030357545149, \"Age\": 0.18207952229822058, \"y_predict\": 0, \"y\": 0}, {\"Glucose\": 1.0042485671444241, \"BMI\": 1.1140751113800709, \"Age\": -0.8619375362957792, \"y_predict\": 1, \"y\": 0}, {\"Glucose\": -1.7449817403971237, \"BMI\": 0.0021478785272131297, \"Age\": 0.7910894731447204, \"y_predict\": 0, \"y\": 0}, {\"Glucose\": -1.6512579799127527, \"BMI\": -0.9029091714692988, \"Age\": -0.6879346931967791, \"y_predict\": 0, \"y\": 0}, {\"Glucose\": -0.9014678960377851, \"BMI\": 0.0021478785272131297, \"Age\": 1.1390951593427203, \"y_predict\": 0, \"y\": 0}, {\"Glucose\": -0.5578141075950916, \"BMI\": -1.6269548114665084, \"Age\": -0.9489389578452792, \"y_predict\": 0, \"y\": 0}, {\"Glucose\": -0.6827791215742529, \"BMI\": 0.4417470170969473, \"Age\": 1.4871008455407202, \"y_predict\": 1, \"y\": 0}, {\"Glucose\": 0.25445848326945664, \"BMI\": 0.15730051566947267, \"Age\": -0.6879346931967791, \"y_predict\": 0, \"y\": 0}, {\"Glucose\": 0.0357697088059244, \"BMI\": -0.282298622900262, \"Age\": -0.9489389578452792, \"y_predict\": 0, \"y\": 0}, {\"Glucose\": -0.49533160060551096, \"BMI\": 0.37710008495433933, \"Age\": -0.6879346931967791, \"y_predict\": 0, \"y\": 0}, {\"Glucose\": 0.6293535252069404, \"BMI\": 0.053865424241299344, \"Age\": -0.9489389578452792, \"y_predict\": 0, \"y\": 0}, {\"Glucose\": -0.08919530517323687, \"BMI\": 0.17022990209799355, \"Age\": -0.8619375362957792, \"y_predict\": 0, \"y\": 0}, {\"Glucose\": 0.6605947787017308, \"BMI\": -0.9416973307548637, \"Age\": -1.035940379394779, \"y_predict\": 0, \"y\": 0}, {\"Glucose\": -0.6202966145846722, \"BMI\": -0.954626717183385, \"Age\": -0.9489389578452792, \"y_predict\": 0, \"y\": 0}, {\"Glucose\": -0.40160784012114004, \"BMI\": -0.7736153071840828, \"Age\": -0.6879346931967791, \"y_predict\": 0, \"y\": 0}, {\"Glucose\": -0.9639504030273658, \"BMI\": -0.6184626700418238, \"Age\": -0.7749361147462792, \"y_predict\": 0, \"y\": 0}, {\"Glucose\": -0.6515378680794626, \"BMI\": 0.7520522913814655, \"Age\": -0.7749361147462792, \"y_predict\": 0, \"y\": 0}, {\"Glucose\": -1.0576741635117366, \"BMI\": 0.6744759728103367, \"Age\": -0.9489389578452792, \"y_predict\": 0, \"y\": 0}, {\"Glucose\": -0.995191656522156, \"BMI\": -0.10128721290095975, \"Age\": -0.8619375362957792, \"y_predict\": 0, \"y\": 0}, {\"Glucose\": -0.08919530517323687, \"BMI\": 1.618321182092413, \"Age\": -0.6009332716472792, \"y_predict\": 0, \"y\": 0}, {\"Glucose\": -0.8702266425429948, \"BMI\": -0.20472230432913263, \"Age\": -0.8619375362957792, \"y_predict\": 0, \"y\": 0}, {\"Glucose\": 1.1916960881131662, \"BMI\": -0.5926038971847806, \"Age\": 0.6170866300457205, \"y_predict\": 1, \"y\": 0}, {\"Glucose\": 0.12949346929029534, \"BMI\": 0.7261935185244228, \"Age\": 1.5741022670902203, \"y_predict\": 1, \"y\": 0}, {\"Glucose\": -0.6515378680794626, \"BMI\": -0.8641210121837339, \"Age\": -0.42693042854827923, \"y_predict\": 0, \"y\": 0}, {\"Glucose\": -1.3076041914700591, \"BMI\": 0.0021478785272131297, \"Age\": -0.9489389578452792, \"y_predict\": 0, \"y\": 0}, {\"Glucose\": 0.691836032196521, \"BMI\": -0.24351046361469705, \"Age\": -0.8619375362957792, \"y_predict\": 0, \"y\": 0}, {\"Glucose\": -0.7765028820586238, \"BMI\": -1.445943401467206, \"Age\": -0.6009332716472792, \"y_predict\": 0, \"y\": 0}, {\"Glucose\": 0.2856997367642469, \"BMI\": -1.148567513611209, \"Age\": -0.9489389578452792, \"y_predict\": 0, \"y\": 0}, {\"Glucose\": -0.9014678960377851, \"BMI\": -1.0063442628974717, \"Age\": -0.42693042854827923, \"y_predict\": 0, \"y\": 0}, {\"Glucose\": 0.12949346929029534, \"BMI\": -0.25643985004321884, \"Age\": -0.07892474235027935, \"y_predict\": 0, \"y\": 0}, {\"Glucose\": -0.46409034711072067, \"BMI\": 0.971851860666333, \"Age\": 0.4430837869467205, \"y_predict\": 1, \"y\": 0}, {\"Glucose\": 0.5043885112277792, \"BMI\": -1.0063442628974717, \"Age\": 1.9221079532882202, \"y_predict\": 1, \"y\": 0}, {\"Glucose\": 0.4106647507434082, \"BMI\": -0.7218977614699966, \"Age\": -1.035940379394779, \"y_predict\": 0, \"y\": 0}, {\"Glucose\": -0.05795405167844655, \"BMI\": -0.8770503986122556, \"Age\": 0.35608236539722055, \"y_predict\": 0, \"y\": 0}, {\"Glucose\": 0.5981122717121501, \"BMI\": 0.7003347456673793, \"Age\": 0.7040880515952205, \"y_predict\": 1, \"y\": 0}, {\"Glucose\": -0.05795405167844655, \"BMI\": 1.7217562735205854, \"Age\": -0.6009332716472792, \"y_predict\": 1, \"y\": 0}, {\"Glucose\": -1.1201566705013173, \"BMI\": -0.9804854900404286, \"Age\": 0.7910894731447204, \"y_predict\": 0, \"y\": 0}, {\"Glucose\": -0.026712798183656235, \"BMI\": -0.30815739575730505, \"Age\": 0.0950781007487206, \"y_predict\": 0, \"y\": 0}, {\"Glucose\": -0.18291906565760782, \"BMI\": -1.0322030357545149, \"Age\": 0.0950781007487206, \"y_predict\": 0, \"y\": 0}, {\"Glucose\": -0.8077441355534142, \"BMI\": -1.601096038609465, \"Age\": -0.6879346931967791, \"y_predict\": 0, \"y\": 0}, {\"Glucose\": -1.4013279519544302, \"BMI\": 0.10558296995538555, \"Age\": 0.7040880515952205, \"y_predict\": 0, \"y\": 0}, {\"Glucose\": -0.589055361089882, \"BMI\": -0.889979785040777, \"Age\": -1.035940379394779, \"y_predict\": 0, \"y\": 0}, {\"Glucose\": -0.05795405167844655, \"BMI\": 0.8813461556666815, \"Age\": -0.9489389578452792, \"y_predict\": 0, \"y\": 0}, {\"Glucose\": -1.088915417006527, \"BMI\": 1.2045808163797214, \"Age\": -0.33992900699877926, \"y_predict\": 0, \"y\": 0}, {\"Glucose\": -0.27664282614197877, \"BMI\": 0.3641706985258175, \"Age\": -0.7749361147462792, \"y_predict\": 0, \"y\": 0}, {\"Glucose\": -0.6202966145846722, \"BMI\": -1.0063442628974717, \"Age\": -0.8619375362957792, \"y_predict\": 0, \"y\": 0}, {\"Glucose\": -0.46409034711072067, \"BMI\": -0.7994740800411259, \"Age\": -0.5139318500977792, \"y_predict\": 0, \"y\": 0}, {\"Glucose\": -0.46409034711072067, \"BMI\": 0.7132641320959011, \"Age\": -0.6009332716472792, \"y_predict\": 0, \"y\": 0}, {\"Glucose\": -0.4328490936159303, \"BMI\": -0.7218977614699966, \"Age\": -0.8619375362957792, \"y_predict\": 0, \"y\": 0}, {\"Glucose\": -0.5265728541003013, \"BMI\": -0.540886351470694, \"Age\": -0.8619375362957792, \"y_predict\": 0, \"y\": 0}, {\"Glucose\": -1.5575342194283817, \"BMI\": -0.5150275786136508, \"Age\": -0.9489389578452792, \"y_predict\": 0, \"y\": 0}, {\"Glucose\": -0.1516778121628175, \"BMI\": -0.7348271478985179, \"Age\": -0.7749361147462792, \"y_predict\": 0, \"y\": 0}, {\"Glucose\": -3.775663217558494, \"BMI\": -0.5538157378992157, \"Age\": -1.035940379394779, \"y_predict\": 0, \"y\": 0}, {\"Glucose\": -0.5578141075950916, \"BMI\": -1.0322030357545149, \"Age\": 0.008076679199220628, \"y_predict\": 0, \"y\": 0}, {\"Glucose\": -1.3076041914700591, \"BMI\": -0.8511916257552126, \"Age\": -0.9489389578452792, \"y_predict\": 0, \"y\": 0}, {\"Glucose\": 0.8168010461756823, \"BMI\": 0.37710008495433933, \"Age\": -0.2529275854492793, \"y_predict\": 1, \"y\": 0}, {\"Glucose\": -0.6827791215742529, \"BMI\": -0.6572508293273885, \"Age\": -0.07892474235027935, \"y_predict\": 0, \"y\": 0}, {\"Glucose\": -0.30788407963676906, \"BMI\": -1.213214445753817, \"Age\": -1.035940379394779, \"y_predict\": 0, \"y\": 0}, {\"Glucose\": -0.46409034711072067, \"BMI\": 0.28659437995468867, \"Age\": -0.9489389578452792, \"y_predict\": 0, \"y\": 0}, {\"Glucose\": -1.276362937975269, \"BMI\": -0.7477565343270397, \"Age\": 0.7040880515952205, \"y_predict\": 0, \"y\": 0}, {\"Glucose\": -0.46409034711072067, \"BMI\": -0.14007537218652463, \"Age\": -0.7749361147462792, \"y_predict\": 0, \"y\": 0}, {\"Glucose\": -0.4328490936159303, \"BMI\": -0.15300475861504598, \"Age\": -0.7749361147462792, \"y_predict\": 0, \"y\": 0}, {\"Glucose\": 0.25445848326945664, \"BMI\": -0.10128721290095975, \"Age\": -0.33992900699877926, \"y_predict\": 0, \"y\": 0}, {\"Glucose\": 0.8168010461756823, \"BMI\": -0.2693692364717406, \"Age\": -0.42693042854827923, \"y_predict\": 0, \"y\": 0}, {\"Glucose\": -2.4010480637877203, \"BMI\": -0.9029091714692988, \"Age\": 0.2690809438477206, \"y_predict\": 0, \"y\": 0}, {\"Glucose\": -1.9949117683554463, \"BMI\": -1.3295789236105116, \"Age\": 2.96612501188222, \"y_predict\": 0, \"y\": 0}, {\"Glucose\": -0.12043655866802719, \"BMI\": 0.23487683424060155, \"Age\": -0.5139318500977792, \"y_predict\": 0, \"y\": 0}, {\"Glucose\": -0.8702266425429948, \"BMI\": -0.42452187361399973, \"Age\": -0.8619375362957792, \"y_predict\": 0, \"y\": 0}, {\"Glucose\": 0.0357697088059244, \"BMI\": -1.1614969000397308, \"Age\": 0.6170866300457205, \"y_predict\": 0, \"y\": 0}, {\"Glucose\": -1.1513979239961076, \"BMI\": -0.010781507901308654, \"Age\": -0.6879346931967791, \"y_predict\": 0, \"y\": 0}, {\"Glucose\": -0.026712798183656235, \"BMI\": -0.9029091714692988, \"Age\": 2.7051207472337198, \"y_predict\": 1, \"y\": 0}, {\"Glucose\": -0.026712798183656235, \"BMI\": -1.445943401467206, \"Age\": 1.3130980024417203, \"y_predict\": 0, \"y\": 0}, {\"Glucose\": 1.0042485671444241, \"BMI\": 1.1140751113800709, \"Age\": 0.5300852084962205, \"y_predict\": 1, \"y\": 0}, {\"Glucose\": -1.2451216844804787, \"BMI\": -0.5796745107562589, \"Age\": -0.9489389578452792, \"y_predict\": 0, \"y\": 0}, {\"Glucose\": -0.30788407963676906, \"BMI\": -0.32108678218582687, \"Age\": -0.9489389578452792, \"y_predict\": 0, \"y\": 0}, {\"Glucose\": 0.06701096230071471, \"BMI\": 3.273282644943177, \"Age\": -0.9489389578452792, \"y_predict\": 1, \"y\": 0}, {\"Glucose\": -0.6202966145846722, \"BMI\": -1.31664953718199, \"Age\": -0.9489389578452792, \"y_predict\": 0, \"y\": 0}, {\"Glucose\": -0.8077441355534142, \"BMI\": -0.7865446936126046, \"Age\": 0.2690809438477206, \"y_predict\": 0, \"y\": 0}, {\"Glucose\": -0.6827791215742529, \"BMI\": 0.5968996542392069, \"Age\": -1.035940379394779, \"y_predict\": 0, \"y\": 0}, {\"Glucose\": -0.5578141075950916, \"BMI\": -0.566745124327737, \"Age\": -0.5139318500977792, \"y_predict\": 0, \"y\": 0}, {\"Glucose\": -0.27664282614197877, \"BMI\": -0.4891688057566077, \"Age\": 1.4871008455407202, \"y_predict\": 1, \"y\": 1}, {\"Glucose\": 0.4106647507434082, \"BMI\": 1.8381207513772806, \"Age\": 1.1390951593427203, \"y_predict\": 1, \"y\": 1}, {\"Glucose\": 0.34818224375382756, \"BMI\": 0.11851235638390734, \"Age\": -0.8619375362957792, \"y_predict\": 0, \"y\": 1}, {\"Glucose\": 1.2541785951027467, \"BMI\": -0.8382622393266908, \"Age\": 1.2260965808922204, \"y_predict\": 1, \"y\": 1}, {\"Glucose\": 1.5665911300506499, \"BMI\": 1.5019567042357187, \"Age\": -0.6009332716472792, \"y_predict\": 1, \"y\": 1}, {\"Glucose\": 0.0357697088059244, \"BMI\": 0.17022990209799355, \"Age\": 0.008076679199220628, \"y_predict\": 0, \"y\": 1}, {\"Glucose\": -0.6515378680794626, \"BMI\": 0.11851235638390734, \"Age\": -0.42693042854827923, \"y_predict\": 0, \"y\": 1}, {\"Glucose\": 0.06701096230071471, \"BMI\": 0.0021478785272131297, \"Age\": 0.18207952229822058, \"y_predict\": 0, \"y\": 1}, {\"Glucose\": -0.5265728541003013, \"BMI\": -0.2693692364717406, \"Age\": 0.7040880515952205, \"y_predict\": 0, \"y\": 1}, {\"Glucose\": 0.31694099025903727, \"BMI\": -0.049569667186873084, \"Age\": -0.07892474235027935, \"y_predict\": 0, \"y\": 1}, {\"Glucose\": 0.8168010461756823, \"BMI\": 2.2389317306614496, \"Age\": -0.5139318500977792, \"y_predict\": 1, \"y\": 1}, {\"Glucose\": 0.2232172297746663, \"BMI\": 1.4631685449501535, \"Age\": -0.16592616389977932, \"y_predict\": 1, \"y\": 1}, {\"Glucose\": 2.2851399604308273, \"BMI\": -1.0968499678971229, \"Age\": 2.27011363948622, \"y_predict\": 1, \"y\": 1}, {\"Glucose\": -1.3388454449648495, \"BMI\": -0.12714598575800287, \"Age\": -0.6009332716472792, \"y_predict\": 0, \"y\": 1}, {\"Glucose\": 0.25445848326945664, \"BMI\": 1.0235694063804193, \"Age\": 0.9650923162437204, \"y_predict\": 1, \"y\": 1}, {\"Glucose\": -0.4328490936159303, \"BMI\": 0.5968996542392069, \"Age\": -0.6879346931967791, \"y_predict\": 0, \"y\": 1}, {\"Glucose\": 1.5353498765558595, \"BMI\": 0.3253825392402531, \"Age\": -0.2529275854492793, \"y_predict\": 1, \"y\": 1}, {\"Glucose\": -0.7452616285638335, \"BMI\": 0.4676057899539909, \"Age\": 1.6611036886397201, \"y_predict\": 1, \"y\": 1}, {\"Glucose\": 2.066451185967295, \"BMI\": 0.7391229049529446, \"Age\": 0.7040880515952205, \"y_predict\": 1, \"y\": 1}, {\"Glucose\": 0.9730073136496339, \"BMI\": -0.6701802157559099, \"Age\": 0.8780908946942204, \"y_predict\": 1, \"y\": 1}, {\"Glucose\": 0.691836032196521, \"BMI\": 0.5968996542392069, \"Age\": 1.5741022670902203, \"y_predict\": 1, \"y\": 1}, {\"Glucose\": -0.40160784012114004, \"BMI\": -0.19179291790061084, \"Age\": 0.008076679199220628, \"y_predict\": 0, \"y\": 1}, {\"Glucose\": 1.5665911300506499, \"BMI\": 0.17022990209799355, \"Age\": -0.7749361147462792, \"y_predict\": 1, \"y\": 1}, {\"Glucose\": -0.05795405167844655, \"BMI\": 0.053865424241299344, \"Age\": -0.7749361147462792, \"y_predict\": 0, \"y\": 1}, {\"Glucose\": -0.3703665866263497, \"BMI\": 0.3641706985258175, \"Age\": -0.6009332716472792, \"y_predict\": 0, \"y\": 1}, {\"Glucose\": 0.44190600423819854, \"BMI\": 1.3338746806649375, \"Age\": -0.7749361147462792, \"y_predict\": 1, \"y\": 1}, {\"Glucose\": 0.0357697088059244, \"BMI\": 0.40295885781138285, \"Age\": -0.2529275854492793, \"y_predict\": 0, \"y\": 1}, {\"Glucose\": 0.5356297647225695, \"BMI\": 0.5581114949536415, \"Age\": -0.6879346931967791, \"y_predict\": 0, \"y\": 1}, {\"Glucose\": 0.3794234972486179, \"BMI\": 0.11851235638390734, \"Age\": 0.5300852084962205, \"y_predict\": 1, \"y\": 1}, {\"Glucose\": -0.8077441355534142, \"BMI\": 0.3900294713828611, \"Age\": 0.8780908946942204, \"y_predict\": 0, \"y\": 1}, {\"Glucose\": 0.691836032196521, \"BMI\": 0.37710008495433933, \"Age\": 0.7040880515952205, \"y_predict\": 1, \"y\": 1}, {\"Glucose\": 0.16073472278508566, \"BMI\": -0.24351046361469705, \"Age\": 1.2260965808922204, \"y_predict\": 1, \"y\": 1}, {\"Glucose\": 0.2232172297746663, \"BMI\": 0.5839702678106851, \"Age\": 0.35608236539722055, \"y_predict\": 1, \"y\": 1}, {\"Glucose\": 1.2229373416079565, \"BMI\": -0.19179291790061084, \"Age\": 0.5300852084962205, \"y_predict\": 1, \"y\": 1}, {\"Glucose\": 1.285419848597537, \"BMI\": -0.9934148764689499, \"Age\": 1.4871008455407202, \"y_predict\": 1, \"y\": 1}, {\"Glucose\": 0.7230772856913114, \"BMI\": 0.8425579963811171, \"Age\": 0.35608236539722055, \"y_predict\": 1, \"y\": 1}, {\"Glucose\": 1.8477624115037627, \"BMI\": 0.5839702678106851, \"Age\": 0.18207952229822058, \"y_predict\": 1, \"y\": 1}, {\"Glucose\": 1.472867369566279, \"BMI\": 0.7779110642385091, \"Age\": 0.0950781007487206, \"y_predict\": 1, \"y\": 1}, {\"Glucose\": 1.5665911300506499, \"BMI\": 1.7346856599491072, \"Age\": 1.83510653173872, \"y_predict\": 1, \"y\": 1}, {\"Glucose\": 2.3163812139256175, \"BMI\": -0.14007537218652463, \"Age\": -0.16592616389977932, \"y_predict\": 1, \"y\": 1}, {\"Glucose\": 0.7543185391861017, \"BMI\": 0.06679481066982113, \"Age\": 3.22712927653072, \"y_predict\": 1, \"y\": 1}, {\"Glucose\": 0.25445848326945664, \"BMI\": 4.540362514938294, \"Age\": -0.6009332716472792, \"y_predict\": 1, \"y\": 1}, {\"Glucose\": 0.25445848326945664, \"BMI\": 0.5710408813821632, \"Age\": -0.07892474235027935, \"y_predict\": 1, \"y\": 1}, {\"Glucose\": 2.1289336929568754, \"BMI\": 0.29952376638320954, \"Age\": 0.7040880515952205, \"y_predict\": 1, \"y\": 1}, {\"Glucose\": -0.6515378680794626, \"BMI\": -0.25643985004321884, \"Age\": -0.07892474235027935, \"y_predict\": 0, \"y\": 1}, {\"Glucose\": 0.7230772856913114, \"BMI\": 0.0021478785272131297, \"Age\": 2.18311221793672, \"y_predict\": 1, \"y\": 1}, {\"Glucose\": 2.1289336929568754, \"BMI\": -0.10128721290095975, \"Age\": -0.33992900699877926, \"y_predict\": 1, \"y\": 1}, {\"Glucose\": 0.12949346929029534, \"BMI\": -4.135255778599698, \"Age\": 1.83510653173872, \"y_predict\": 0, \"y\": 1}, {\"Glucose\": 2.347622467420408, \"BMI\": 1.0106400199518975, \"Age\": 0.7040880515952205, \"y_predict\": 1, \"y\": 1}, {\"Glucose\": 1.1604548346183758, \"BMI\": -0.049569667186873084, \"Age\": 2.87912359033272, \"y_predict\": 1, \"y\": 1}, {\"Glucose\": 0.9417660601548435, \"BMI\": 1.4114509992360673, \"Age\": 0.2690809438477206, \"y_predict\": 1, \"y\": 1}, {\"Glucose\": 0.4106647507434082, \"BMI\": -1.0580618086115579, \"Age\": 2.35711506103572, \"y_predict\": 1, \"y\": 1}, {\"Glucose\": 0.3794234972486179, \"BMI\": 0.10558296995538555, \"Age\": 1.0520937377932202, \"y_predict\": 1, \"y\": 1}, {\"Glucose\": 1.8477624115037627, \"BMI\": 1.4631685449501535, \"Age\": 0.7040880515952205, \"y_predict\": 1, \"y\": 1}, {\"Glucose\": -0.40160784012114004, \"BMI\": -0.6443214428988668, \"Age\": 1.6611036886397201, \"y_predict\": 1, \"y\": 1}, {\"Glucose\": 0.6605947787017308, \"BMI\": -0.20472230432913263, \"Age\": 0.8780908946942204, \"y_predict\": 1, \"y\": 1}, {\"Glucose\": -0.3703665866263497, \"BMI\": -0.5279569650421726, \"Age\": -0.16592616389977932, \"y_predict\": 0, \"y\": 1}, {\"Glucose\": 1.879003664998553, \"BMI\": 0.5063939492395553, \"Age\": 1.5741022670902203, \"y_predict\": 1, \"y\": 1}, {\"Glucose\": 0.4731472577329888, \"BMI\": 0.6615465863818148, \"Age\": 0.8780908946942204, \"y_predict\": 1, \"y\": 1}, {\"Glucose\": -1.0264329100169465, \"BMI\": 2.9759067570871807, \"Age\": -0.6009332716472792, \"y_predict\": 0, \"y\": 1}, {\"Glucose\": 1.3479023555871177, \"BMI\": -0.15300475861504598, \"Age\": -0.07892474235027935, \"y_predict\": 1, \"y\": 1}, {\"Glucose\": 0.8480422996704726, \"BMI\": 0.20901806138355888, \"Age\": 1.4871008455407202, \"y_predict\": 1, \"y\": 1}, {\"Glucose\": 2.160174946451666, \"BMI\": 0.45467640352546906, \"Age\": 2.87912359033272, \"y_predict\": 1, \"y\": 1}, {\"Glucose\": 0.09825221579550503, \"BMI\": 0.2607356070976451, \"Age\": 0.4430837869467205, \"y_predict\": 1, \"y\": 1}, {\"Glucose\": 2.0352099324725046, \"BMI\": 0.3253825392402531, \"Age\": 0.35608236539722055, \"y_predict\": 1, \"y\": 1}, {\"Glucose\": 1.6290736370402306, \"BMI\": 0.6227584270962495, \"Age\": 0.4430837869467205, \"y_predict\": 1, \"y\": 1}, {\"Glucose\": 1.5041086230610692, \"BMI\": -0.2693692364717406, \"Age\": -0.16592616389977932, \"y_predict\": 1, \"y\": 1}, {\"Glucose\": -3.775663217558494, \"BMI\": 1.165792657094157, \"Age\": 0.35608236539722055, \"y_predict\": 0, \"y\": 1}, {\"Glucose\": 2.0976924394620853, \"BMI\": 0.0021478785272131297, \"Age\": -0.9489389578452792, \"y_predict\": 1, \"y\": 1}, {\"Glucose\": 0.6293535252069404, \"BMI\": -0.25643985004321884, \"Age\": -0.5139318500977792, \"y_predict\": 0, \"y\": 1}, {\"Glucose\": 1.1604548346183758, \"BMI\": 0.9589224742378113, \"Age\": -0.33992900699877926, \"y_predict\": 1, \"y\": 1}, {\"Glucose\": -0.18291906565760782, \"BMI\": 0.22194744781208067, \"Age\": 0.6170866300457205, \"y_predict\": 1, \"y\": 1}, {\"Glucose\": 1.3166611020923273, \"BMI\": 0.907204928523725, \"Age\": 0.008076679199220628, \"y_predict\": 1, \"y\": 1}, {\"Glucose\": 1.8477624115037627, \"BMI\": 3.5447997599421313, \"Age\": -0.6879346931967791, \"y_predict\": 1, \"y\": 1}, {\"Glucose\": 0.7230772856913114, \"BMI\": 1.8251913649487588, \"Age\": 1.1390951593427203, \"y_predict\": 1, \"y\": 1}, {\"Glucose\": 0.2856997367642469, \"BMI\": 0.9201343149522468, \"Age\": 0.35608236539722055, \"y_predict\": 1, \"y\": 1}, {\"Glucose\": -0.12043655866802719, \"BMI\": -0.29522800932878374, \"Age\": -0.2529275854492793, \"y_predict\": 0, \"y\": 1}, {\"Glucose\": -0.589055361089882, \"BMI\": 0.971851860666333, \"Age\": 0.7910894731447204, \"y_predict\": 1, \"y\": 1}, {\"Glucose\": -0.24540157264718845, \"BMI\": 0.17022990209799355, \"Age\": -0.8619375362957792, \"y_predict\": 0, \"y\": 1}, {\"Glucose\": 1.660314890535021, \"BMI\": 0.11851235638390734, \"Age\": 0.2690809438477206, \"y_predict\": 1, \"y\": 1}, {\"Glucose\": 2.2851399604308273, \"BMI\": 0.5063939492395553, \"Age\": 0.7040880515952205, \"y_predict\": 1, \"y\": 1}, {\"Glucose\": 0.06701096230071471, \"BMI\": 0.5581114949536415, \"Age\": 1.6611036886397201, \"y_predict\": 1, \"y\": 1}, {\"Glucose\": -0.27664282614197877, \"BMI\": -0.049569667186873084, \"Age\": -0.6879346931967791, \"y_predict\": 0, \"y\": 1}, {\"Glucose\": -0.8702266425429948, \"BMI\": 0.7779110642385091, \"Age\": -0.8619375362957792, \"y_predict\": 0, \"y\": 1}, {\"Glucose\": 2.2538987069360368, \"BMI\": 0.37710008495433933, \"Age\": -0.6879346931967791, \"y_predict\": 1, \"y\": 1}, {\"Glucose\": 0.12949346929029534, \"BMI\": -0.3986631007569566, \"Age\": 1.0520937377932202, \"y_predict\": 1, \"y\": 1}, {\"Glucose\": -0.18291906565760782, \"BMI\": 0.3383119256687749, \"Age\": -0.07892474235027935, \"y_predict\": 0, \"y\": 1}, {\"Glucose\": 1.0667310741340048, \"BMI\": -0.696038988612953, \"Age\": -0.5139318500977792, \"y_predict\": 0, \"y\": 1}, {\"Glucose\": 2.066451185967295, \"BMI\": 0.24780622066912333, \"Age\": 0.0950781007487206, \"y_predict\": 1, \"y\": 1}, {\"Glucose\": 2.378863720915198, \"BMI\": -0.7865446936126046, \"Age\": 0.5300852084962205, \"y_predict\": 1, \"y\": 1}, {\"Glucose\": 0.12949346929029534, \"BMI\": -0.11421659932948107, \"Age\": 0.7040880515952205, \"y_predict\": 1, \"y\": 1}, {\"Glucose\": -0.9639504030273658, \"BMI\": 0.8037698370955526, \"Age\": -0.5139318500977792, \"y_predict\": 0, \"y\": 1}, {\"Glucose\": 1.9727274254829241, \"BMI\": -0.25643985004321884, \"Age\": 1.4000994239912203, \"y_predict\": 1, \"y\": 1}, {\"Glucose\": -0.6515378680794626, \"BMI\": 0.5968996542392069, \"Age\": 1.1390951593427203, \"y_predict\": 1, \"y\": 1}, {\"Glucose\": -0.30788407963676906, \"BMI\": 1.9156970699484095, \"Age\": 1.0520937377932202, \"y_predict\": 1, \"y\": 1}, {\"Glucose\": 2.0976924394620853, \"BMI\": 2.0579203206621473, \"Age\": 0.8780908946942204, \"y_predict\": 1, \"y\": 1}, {\"Glucose\": -0.7452616285638335, \"BMI\": 1.1528632706656352, \"Age\": -0.07892474235027935, \"y_predict\": 0, \"y\": 1}, {\"Glucose\": -0.05795405167844655, \"BMI\": 1.7605444328061508, \"Age\": -0.33992900699877926, \"y_predict\": 1, \"y\": 1}, {\"Glucose\": 0.12949346929029534, \"BMI\": -0.566745124327737, \"Age\": 1.4000994239912203, \"y_predict\": 1, \"y\": 1}, {\"Glucose\": 2.347622467420408, \"BMI\": 0.5839702678106851, \"Age\": -0.33992900699877926, \"y_predict\": 1, \"y\": 1}, {\"Glucose\": 0.785559792680892, \"BMI\": 0.7649816778099873, \"Age\": -0.42693042854827923, \"y_predict\": 1, \"y\": 1}, {\"Glucose\": -0.4328490936159303, \"BMI\": -0.30815739575730505, \"Age\": -0.16592616389977932, \"y_predict\": 0, \"y\": 1}, {\"Glucose\": 0.2856997367642469, \"BMI\": 0.28659437995468867, \"Age\": 1.0520937377932202, \"y_predict\": 1, \"y\": 1}, {\"Glucose\": 0.09825221579550503, \"BMI\": -0.5926038971847806, \"Age\": 0.2690809438477206, \"y_predict\": 0, \"y\": 1}, {\"Glucose\": -0.24540157264718845, \"BMI\": 0.20901806138355888, \"Age\": -1.035940379394779, \"y_predict\": 0, \"y\": 1}, {\"Glucose\": 0.785559792680892, \"BMI\": -0.10128721290095975, \"Age\": 2.44411648258522, \"y_predict\": 1, \"y\": 1}, {\"Glucose\": 1.660314890535021, \"BMI\": 1.618321182092413, \"Age\": -0.7749361147462792, \"y_predict\": 1, \"y\": 1}, {\"Glucose\": 0.7230772856913114, \"BMI\": -0.049569667186873084, \"Age\": -0.6879346931967791, \"y_predict\": 0, \"y\": 1}, {\"Glucose\": 0.004528455311134083, \"BMI\": 0.29952376638320954, \"Age\": 0.008076679199220628, \"y_predict\": 0, \"y\": 1}, {\"Glucose\": 1.879003664998553, \"BMI\": 1.4631685449501535, \"Age\": -0.6009332716472792, \"y_predict\": 1, \"y\": 1}, {\"Glucose\": 1.8477624115037627, \"BMI\": 1.295086521379373, \"Age\": -0.6879346931967791, \"y_predict\": 1, \"y\": 1}, {\"Glucose\": 0.09825221579550503, \"BMI\": -0.42452187361399973, \"Age\": 1.6611036886397201, \"y_predict\": 1, \"y\": 1}, {\"Glucose\": 0.4106647507434082, \"BMI\": 0.4417470170969473, \"Age\": -0.33992900699877926, \"y_predict\": 0, \"y\": 1}, {\"Glucose\": -0.08919530517323687, \"BMI\": 1.7864032056631933, \"Age\": -0.16592616389977932, \"y_predict\": 1, \"y\": 1}, {\"Glucose\": -0.5578141075950916, \"BMI\": 0.9201343149522468, \"Age\": -0.16592616389977932, \"y_predict\": 0, \"y\": 1}, {\"Glucose\": 0.5981122717121501, \"BMI\": 0.09265358352686469, \"Age\": 1.0520937377932202, \"y_predict\": 1, \"y\": 1}, {\"Glucose\": 0.2232172297746663, \"BMI\": 0.053865424241299344, \"Age\": -0.5139318500977792, \"y_predict\": 0, \"y\": 1}, {\"Glucose\": 1.1604548346183758, \"BMI\": 0.45467640352546906, \"Age\": 0.18207952229822058, \"y_predict\": 1, \"y\": 1}, {\"Glucose\": 1.3479023555871177, \"BMI\": 0.10558296995538555, \"Age\": 1.0520937377932202, \"y_predict\": 1, \"y\": 1}, {\"Glucose\": 1.2541785951027467, \"BMI\": -0.20472230432913263, \"Age\": 1.2260965808922204, \"y_predict\": 1, \"y\": 1}, {\"Glucose\": 1.3166611020923273, \"BMI\": -0.049569667186873084, \"Age\": -0.42693042854827923, \"y_predict\": 1, \"y\": 1}, {\"Glucose\": 0.8168010461756823, \"BMI\": 0.9589224742378113, \"Age\": 0.8780908946942204, \"y_predict\": 1, \"y\": 1}, {\"Glucose\": -0.589055361089882, \"BMI\": 0.11851235638390734, \"Age\": 1.1390951593427203, \"y_predict\": 1, \"y\": 1}, {\"Glucose\": 1.8165211580089724, \"BMI\": 1.5666036363783267, \"Age\": -0.8619375362957792, \"y_predict\": 1, \"y\": 1}, {\"Glucose\": 1.6290736370402306, \"BMI\": 0.8296286099525952, \"Age\": -0.6879346931967791, \"y_predict\": 1, \"y\": 1}, {\"Glucose\": -0.026712798183656235, \"BMI\": 1.3338746806649375, \"Age\": 1.3130980024417203, \"y_predict\": 1, \"y\": 1}, {\"Glucose\": 1.8165211580089724, \"BMI\": 0.09265358352686469, \"Age\": 0.2690809438477206, \"y_predict\": 1, \"y\": 1}, {\"Glucose\": 1.0667310741340048, \"BMI\": 0.8684167692381606, \"Age\": -0.6879346931967791, \"y_predict\": 1, \"y\": 1}, {\"Glucose\": 1.0979723276287952, \"BMI\": 0.29952376638320954, \"Age\": 0.7910894731447204, \"y_predict\": 1, \"y\": 1}, {\"Glucose\": 1.0667310741340048, \"BMI\": 0.2607356070976451, \"Age\": 1.1390951593427203, \"y_predict\": 1, \"y\": 1}, {\"Glucose\": -0.9639504030273658, \"BMI\": 0.37710008495433933, \"Age\": 2.00910937483772, \"y_predict\": 1, \"y\": 1}, {\"Glucose\": 0.25445848326945664, \"BMI\": -0.7218977614699966, \"Age\": -0.42693042854827923, \"y_predict\": 0, \"y\": 1}, {\"Glucose\": 1.7227973975246016, \"BMI\": 0.22194744781208067, \"Age\": 2.18311221793672, \"y_predict\": 1, \"y\": 1}, {\"Glucose\": 1.285419848597537, \"BMI\": 0.7391229049529446, \"Age\": 1.6611036886397201, \"y_predict\": 1, \"y\": 1}, {\"Glucose\": 2.378863720915198, \"BMI\": -0.19179291790061084, \"Age\": 1.7481051101892202, \"y_predict\": 1, \"y\": 1}, {\"Glucose\": -0.18291906565760782, \"BMI\": 2.704389642088227, \"Age\": -0.42693042854827923, \"y_predict\": 1, \"y\": 1}, {\"Glucose\": 0.5356297647225695, \"BMI\": 0.3383119256687749, \"Age\": -1.035940379394779, \"y_predict\": 0, \"y\": 1}, {\"Glucose\": 0.25445848326945664, \"BMI\": 1.1916514299512007, \"Age\": 0.4430837869467205, \"y_predict\": 1, \"y\": 1}, {\"Glucose\": 0.9417660601548435, \"BMI\": 1.3080159078078948, \"Age\": -1.035940379394779, \"y_predict\": 1, \"y\": 1}, {\"Glucose\": 1.879003664998553, \"BMI\": -0.24351046361469705, \"Age\": 2.35711506103572, \"y_predict\": 1, \"y\": 1}, {\"Glucose\": -0.40160784012114004, \"BMI\": 0.053865424241299344, \"Age\": 0.7910894731447204, \"y_predict\": 0, \"y\": 1}, {\"Glucose\": -0.4328490936159303, \"BMI\": -1.1744262864682526, \"Age\": -0.8619375362957792, \"y_predict\": 0, \"y\": 1}, {\"Glucose\": 0.2232172297746663, \"BMI\": 1.101145724951549, \"Age\": -0.7749361147462792, \"y_predict\": 0, \"y\": 1}, {\"Glucose\": -0.8077441355534142, \"BMI\": 0.0021478785272131297, \"Age\": -0.16592616389977932, \"y_predict\": 0, \"y\": 1}, {\"Glucose\": 1.6290736370402306, \"BMI\": 0.48053517638251264, \"Age\": -0.9489389578452792, \"y_predict\": 1, \"y\": 1}, {\"Glucose\": 0.12949346929029534, \"BMI\": 0.04093603781277756, \"Age\": -0.5139318500977792, \"y_predict\": 0, \"y\": 1}, {\"Glucose\": -0.49533160060551096, \"BMI\": -0.5279569650421726, \"Age\": 2.53111790413472, \"y_predict\": 1, \"y\": 1}, {\"Glucose\": 0.4731472577329888, \"BMI\": 0.3900294713828611, \"Age\": 0.18207952229822058, \"y_predict\": 1, \"y\": 1}, {\"Glucose\": -0.27664282614197877, \"BMI\": 0.7520522913814655, \"Age\": 0.7040880515952205, \"y_predict\": 1, \"y\": 1}, {\"Glucose\": 0.2856997367642469, \"BMI\": -0.46331003289956463, \"Age\": 0.0950781007487206, \"y_predict\": 0, \"y\": 1}, {\"Glucose\": 1.7227973975246016, \"BMI\": 0.17022990209799355, \"Age\": 1.6611036886397201, \"y_predict\": 1, \"y\": 1}, {\"Glucose\": 1.472867369566279, \"BMI\": 0.3900294713828611, \"Age\": 1.6611036886397201, \"y_predict\": 1, \"y\": 1}, {\"Glucose\": -0.1516778121628175, \"BMI\": 0.04093603781277756, \"Age\": 0.18207952229822058, \"y_predict\": 0, \"y\": 1}, {\"Glucose\": 1.9102449184933434, \"BMI\": -0.19179291790061084, \"Age\": -0.33992900699877926, \"y_predict\": 1, \"y\": 1}, {\"Glucose\": -0.21416031915239814, \"BMI\": -0.5926038971847806, \"Age\": 0.0950781007487206, \"y_predict\": 0, \"y\": 1}, {\"Glucose\": 0.25445848326945664, \"BMI\": 0.8425579963811171, \"Age\": 0.8780908946942204, \"y_predict\": 1, \"y\": 1}, {\"Glucose\": -0.08919530517323687, \"BMI\": 1.4114509992360673, \"Age\": -1.035940379394779, \"y_predict\": 0, \"y\": 1}, {\"Glucose\": 0.5668710182173597, \"BMI\": -0.825332852898169, \"Age\": -0.9489389578452792, \"y_predict\": 0, \"y\": 1}, {\"Glucose\": 1.3166611020923273, \"BMI\": 1.1528632706656352, \"Age\": 1.2260965808922204, \"y_predict\": 1, \"y\": 1}, {\"Glucose\": -0.6515378680794626, \"BMI\": 0.9589224742378113, \"Age\": 0.8780908946942204, \"y_predict\": 1, \"y\": 1}, {\"Glucose\": -0.589055361089882, \"BMI\": -0.15300475861504598, \"Age\": 0.2690809438477206, \"y_predict\": 0, \"y\": 1}, {\"Glucose\": 0.879283553165263, \"BMI\": -0.34694555504286995, \"Age\": 0.7910894731447204, \"y_predict\": 1, \"y\": 1}, {\"Glucose\": 1.0979723276287952, \"BMI\": -0.9287679443263419, \"Age\": 1.7481051101892202, \"y_predict\": 1, \"y\": 1}, {\"Glucose\": 2.347622467420408, \"BMI\": 0.7132641320959011, \"Age\": 2.09611079638722, \"y_predict\": 1, \"y\": 1}, {\"Glucose\": 0.31694099025903727, \"BMI\": 0.29952376638320954, \"Age\": -0.9489389578452792, \"y_predict\": 0, \"y\": 1}, {\"Glucose\": 0.5043885112277792, \"BMI\": 1.4373097720931107, \"Age\": 0.008076679199220628, \"y_predict\": 1, \"y\": 1}, {\"Glucose\": 0.8168010461756823, \"BMI\": -0.32108678218582687, \"Age\": 1.4871008455407202, \"y_predict\": 1, \"y\": 1}, {\"Glucose\": 1.472867369566279, \"BMI\": 0.8037698370955526, \"Age\": 0.6170866300457205, \"y_predict\": 1, \"y\": 1}, {\"Glucose\": 2.066451185967295, \"BMI\": 1.5019567042357187, \"Age\": 1.7481051101892202, \"y_predict\": 1, \"y\": 1}, {\"Glucose\": -0.18291906565760782, \"BMI\": -0.3986631007569566, \"Age\": 1.1390951593427203, \"y_predict\": 1, \"y\": 1}, {\"Glucose\": -3.775663217558494, \"BMI\": 0.907204928523725, \"Age\": 0.7040880515952205, \"y_predict\": 0, \"y\": 1}, {\"Glucose\": 0.004528455311134083, \"BMI\": 0.5193233356680771, \"Age\": -0.6879346931967791, \"y_predict\": 0, \"y\": 1}, {\"Glucose\": 0.6605947787017308, \"BMI\": 1.553674249949805, \"Age\": -0.9489389578452792, \"y_predict\": 1, \"y\": 1}, {\"Glucose\": 1.0979723276287952, \"BMI\": 2.109637866376233, \"Age\": -0.07892474235027935, \"y_predict\": 1, \"y\": 1}, {\"Glucose\": 1.4103848625766984, \"BMI\": 1.7734738192346726, \"Age\": -0.5139318500977792, \"y_predict\": 1, \"y\": 1}, {\"Glucose\": 0.34818224375382756, \"BMI\": 0.3124531528117313, \"Age\": 0.9650923162437204, \"y_predict\": 1, \"y\": 1}, {\"Glucose\": 2.3163812139256175, \"BMI\": -0.889979785040777, \"Age\": 1.9221079532882202, \"y_predict\": 1, \"y\": 1}, {\"Glucose\": 1.8165211580089724, \"BMI\": 0.7520522913814655, \"Age\": -0.9489389578452792, \"y_predict\": 1, \"y\": 1}, {\"Glucose\": -0.12043655866802719, \"BMI\": 0.3253825392402531, \"Age\": 0.6170866300457205, \"y_predict\": 1, \"y\": 1}, {\"Glucose\": -0.21416031915239814, \"BMI\": 0.10558296995538555, \"Age\": 0.7910894731447204, \"y_predict\": 1, \"y\": 1}, {\"Glucose\": 1.4103848625766984, \"BMI\": -0.7994740800411259, \"Age\": 1.5741022670902203, \"y_predict\": 1, \"y\": 1}, {\"Glucose\": 0.2232172297746663, \"BMI\": 0.0021478785272131297, \"Age\": 0.008076679199220628, \"y_predict\": 0, \"y\": 1}, {\"Glucose\": -0.3703665866263497, \"BMI\": 0.4934645628110335, \"Age\": -0.6879346931967791, \"y_predict\": 0, \"y\": 1}, {\"Glucose\": -0.18291906565760782, \"BMI\": -0.10128721290095975, \"Age\": 0.9650923162437204, \"y_predict\": 1, \"y\": 1}, {\"Glucose\": 1.6915561440298112, \"BMI\": 0.20901806138355888, \"Age\": 0.4430837869467205, \"y_predict\": 1, \"y\": 1}, {\"Glucose\": 0.785559792680892, \"BMI\": -0.5796745107562589, \"Age\": -0.42693042854827923, \"y_predict\": 0, \"y\": 1}, {\"Glucose\": -0.49533160060551096, \"BMI\": 0.22194744781208067, \"Age\": -0.33992900699877926, \"y_predict\": 0, \"y\": 1}, {\"Glucose\": 2.4101049744099883, \"BMI\": 1.2045808163797214, \"Age\": -0.42693042854827923, \"y_predict\": 1, \"y\": 1}, {\"Glucose\": 1.879003664998553, \"BMI\": 0.2736649935261669, \"Age\": 0.4430837869467205, \"y_predict\": 1, \"y\": 1}, {\"Glucose\": 0.09825221579550503, \"BMI\": -0.566745124327737, \"Age\": -0.33992900699877926, \"y_predict\": 0, \"y\": 1}, {\"Glucose\": 1.785279904514182, \"BMI\": 1.0235694063804193, \"Age\": 0.7040880515952205, \"y_predict\": 1, \"y\": 1}, {\"Glucose\": 2.1289336929568754, \"BMI\": -0.24351046361469705, \"Age\": 2.27011363948622, \"y_predict\": 1, \"y\": 1}, {\"Glucose\": -0.49533160060551096, \"BMI\": 1.4631685449501535, \"Age\": 1.0520937377932202, \"y_predict\": 1, \"y\": 1}, {\"Glucose\": 1.5353498765558595, \"BMI\": 1.553674249949805, \"Age\": 0.8780908946942204, \"y_predict\": 1, \"y\": 1}, {\"Glucose\": 1.4416261160714887, \"BMI\": -1.1097793543256445, \"Age\": 0.008076679199220628, \"y_predict\": 1, \"y\": 1}, {\"Glucose\": 0.7543185391861017, \"BMI\": 1.5795330228068485, \"Age\": -0.16592616389977932, \"y_predict\": 1, \"y\": 1}, {\"Glucose\": 0.4731472577329888, \"BMI\": -0.10128721290095975, \"Age\": -0.9489389578452792, \"y_predict\": 0, \"y\": 1}, {\"Glucose\": -0.05795405167844655, \"BMI\": -0.631392056470345, \"Age\": 0.008076679199220628, \"y_predict\": 0, \"y\": 1}, {\"Glucose\": 0.5668710182173597, \"BMI\": -0.049569667186873084, \"Age\": -0.6879346931967791, \"y_predict\": 0, \"y\": 1}, {\"Glucose\": 1.285419848597537, \"BMI\": 2.2777198899470146, \"Age\": -0.6009332716472792, \"y_predict\": 1, \"y\": 1}, {\"Glucose\": -1.1513979239961076, \"BMI\": -0.29522800932878374, \"Age\": 1.1390951593427203, \"y_predict\": 0, \"y\": 1}, {\"Glucose\": 0.12949346929029534, \"BMI\": 0.23487683424060155, \"Age\": 1.83510653173872, \"y_predict\": 1, \"y\": 1}, {\"Glucose\": -0.46409034711072067, \"BMI\": -0.7089683750414748, \"Age\": -0.33992900699877926, \"y_predict\": 0, \"y\": 1}, {\"Glucose\": 0.2232172297746663, \"BMI\": -0.19179291790061084, \"Age\": -0.6879346931967791, \"y_predict\": 0, \"y\": 1}, {\"Glucose\": 2.441346227904779, \"BMI\": 1.4114509992360673, \"Age\": -0.9489389578452792, \"y_predict\": 1, \"y\": 1}, {\"Glucose\": 1.6290736370402306, \"BMI\": -0.29522800932878374, \"Age\": 0.008076679199220628, \"y_predict\": 1, \"y\": 1}, {\"Glucose\": 0.7543185391861017, \"BMI\": 0.7649816778099873, \"Age\": 0.6170866300457205, \"y_predict\": 1, \"y\": 1}, {\"Glucose\": 0.0357697088059244, \"BMI\": 2.2906492763755364, \"Age\": -0.16592616389977932, \"y_predict\": 1, \"y\": 1}, {\"Glucose\": 0.8480422996704726, \"BMI\": 0.7261935185244228, \"Age\": 1.5741022670902203, \"y_predict\": 1, \"y\": 1}, {\"Glucose\": -0.27664282614197877, \"BMI\": 0.28659437995468867, \"Age\": 0.2690809438477206, \"y_predict\": 0, \"y\": 1}, {\"Glucose\": 0.5356297647225695, \"BMI\": 0.5322527220965989, \"Age\": 1.4871008455407202, \"y_predict\": 1, \"y\": 1}, {\"Glucose\": -0.6202966145846722, \"BMI\": 1.7605444328061508, \"Age\": 0.4430837869467205, \"y_predict\": 1, \"y\": 1}, {\"Glucose\": 0.6293535252069404, \"BMI\": 1.3468040670934591, \"Age\": -0.33992900699877926, \"y_predict\": 1, \"y\": 1}]}}, {\"mode\": \"vega-lite\"});\n",
       "</script>"
      ],
      "text/plain": [
       "alt.HConcatChart(...)"
      ]
     },
     "execution_count": 32,
     "metadata": {},
     "output_type": "execute_result"
    }
   ],
   "source": [
    "c1 = alt.Chart(X_train_scaled_kmeans_balanced).mark_circle().encode(\n",
    "    x=\"Glucose\",\n",
    "    y=\"BMI\",\n",
    "    color=\"y:N\",\n",
    "    tooltip=[\"y\",\"Glucose\",\"BMI\",\"Age\"]\n",
    ")\n",
    "\n",
    "c2 = alt.Chart(X_train_scaled_kmeans_balanced).mark_circle().encode(\n",
    "    x=\"Glucose\",\n",
    "    y=\"BMI\",\n",
    "    color=\"y_predict:N\",\n",
    "    tooltip=[\"y_predict\",\"Glucose\",\"BMI\",\"Age\"]\n",
    ")\n",
    "\n",
    "alt.hconcat(c1,c2)"
   ]
  },
  {
   "cell_type": "markdown",
   "metadata": {
    "cell_id": "ead54c577a8b46e7a252bd7367027601",
    "deepnote_cell_type": "markdown",
    "tags": []
   },
   "source": [
    "Based on the plot, we can say the class 1 in **y_predict** is more likely to be the class 1 in **y**."
   ]
  },
  {
   "cell_type": "code",
   "execution_count": 33,
   "metadata": {
    "cell_id": "bb6b462518f843d19180d4838a4a437c",
    "deepnote_cell_type": "code",
    "deepnote_to_be_reexecuted": false,
    "execution_millis": 4,
    "execution_start": 1670028434233,
    "source_hash": "4aca7651",
    "tags": []
   },
   "outputs": [
    {
     "name": "stdout",
     "output_type": "stream",
     "text": [
      "Training accuracy 0.7535211267605634\n"
     ]
    }
   ],
   "source": [
    "print(\"Training accuracy\",\n",
    "(X_train_scaled_kmeans_balanced[\"y\"] == X_train_scaled_kmeans_balanced[\"y_predict\"]).sum() / X_train_scaled_kmeans_balanced.shape[0])"
   ]
  },
  {
   "cell_type": "code",
   "execution_count": 34,
   "metadata": {
    "cell_id": "54c4f0c4308948b2bd1e481ecaeeea16",
    "deepnote_cell_type": "code",
    "deepnote_to_be_reexecuted": false,
    "execution_millis": 0,
    "execution_start": 1670028434281,
    "source_hash": "ac66d034",
    "tags": []
   },
   "outputs": [],
   "source": [
    "X_test_scaled_kmeans_balanced = X_test_scaled[kmeans_cols].copy()\n",
    "X_test_scaled_kmeans_balanced[\"y_predict\"] = kmeans_balanced.predict(X_test_scaled_kmeans_balanced)\n",
    "X_test_scaled_kmeans_balanced[\"y\"] = list(y_test)"
   ]
  },
  {
   "cell_type": "code",
   "execution_count": 35,
   "metadata": {
    "cell_id": "5b7c32d5aaf0490a9598b95c96ed594c",
    "deepnote_cell_type": "code",
    "deepnote_to_be_reexecuted": false,
    "execution_millis": 2,
    "execution_start": 1670028434282,
    "source_hash": "cf1fef27",
    "tags": []
   },
   "outputs": [
    {
     "name": "stdout",
     "output_type": "stream",
     "text": [
      "Test accuracy 0.7142857142857143\n"
     ]
    }
   ],
   "source": [
    "print(\"Test accuracy\",\n",
    "(X_test_scaled_kmeans_balanced[\"y\"] == X_test_scaled_kmeans_balanced[\"y_predict\"]).sum() / X_test_scaled_kmeans_balanced.shape[0])"
   ]
  },
  {
   "cell_type": "markdown",
   "metadata": {
    "cell_id": "f23bb78c3a4d41afba41f5462703293a",
    "deepnote_cell_type": "markdown",
    "tags": []
   },
   "source": [
    "The new kmeans model looks a little better. We will store the result for future use."
   ]
  },
  {
   "cell_type": "code",
   "execution_count": 36,
   "metadata": {
    "cell_id": "0d9d5636cb924bedafafc5e230192909",
    "deepnote_cell_type": "code",
    "deepnote_to_be_reexecuted": false,
    "execution_millis": 41,
    "execution_start": 1670028434283,
    "source_hash": "c940ab0b",
    "tags": []
   },
   "outputs": [],
   "source": [
    "kmeans_balanced_result = kmeans_balanced.predict(X_test_scaled_kmeans_balanced[kmeans_cols])\n",
    "kmeans_balanced_acc = (X_test_scaled_kmeans_balanced[\"y\"] == X_test_scaled_kmeans_balanced[\"y_predict\"]).sum() / X_test_scaled_kmeans_balanced.shape[0]"
   ]
  },
  {
   "cell_type": "markdown",
   "metadata": {
    "cell_id": "8a99061ae01c4c8c9ed787236eb52de8",
    "deepnote_cell_type": "markdown",
    "tags": []
   },
   "source": [
    "## Part 4: Kmeans with PCA\n",
    "\n",
    "**Extra3**\n",
    "In this part, I will use PCA to decrease the dimension into 2 and then use kmeans to do clustering. And I will also use the balanced dataset."
   ]
  },
  {
   "cell_type": "code",
   "execution_count": 37,
   "metadata": {
    "cell_id": "94c60853e40a42759cdae9ea14c055cd",
    "deepnote_cell_type": "code",
    "deepnote_to_be_reexecuted": false,
    "execution_millis": 13,
    "execution_start": 1670028434324,
    "source_hash": "dbbc3916",
    "tags": []
   },
   "outputs": [
    {
     "data": {
      "text/html": [
       "\n",
       "<div id=\"altair-viz-8522204b0d6544889efdea8dd829c6e4\"></div>\n",
       "<script type=\"text/javascript\">\n",
       "  var VEGA_DEBUG = (typeof VEGA_DEBUG == \"undefined\") ? {} : VEGA_DEBUG;\n",
       "  (function(spec, embedOpt){\n",
       "    let outputDiv = document.currentScript.previousElementSibling;\n",
       "    if (outputDiv.id !== \"altair-viz-8522204b0d6544889efdea8dd829c6e4\") {\n",
       "      outputDiv = document.getElementById(\"altair-viz-8522204b0d6544889efdea8dd829c6e4\");\n",
       "    }\n",
       "    const paths = {\n",
       "      \"vega\": \"https://cdn.jsdelivr.net/npm//vega@5?noext\",\n",
       "      \"vega-lib\": \"https://cdn.jsdelivr.net/npm//vega-lib?noext\",\n",
       "      \"vega-lite\": \"https://cdn.jsdelivr.net/npm//vega-lite@4.17.0?noext\",\n",
       "      \"vega-embed\": \"https://cdn.jsdelivr.net/npm//vega-embed@6?noext\",\n",
       "    };\n",
       "\n",
       "    function maybeLoadScript(lib, version) {\n",
       "      var key = `${lib.replace(\"-\", \"\")}_version`;\n",
       "      return (VEGA_DEBUG[key] == version) ?\n",
       "        Promise.resolve(paths[lib]) :\n",
       "        new Promise(function(resolve, reject) {\n",
       "          var s = document.createElement('script');\n",
       "          document.getElementsByTagName(\"head\")[0].appendChild(s);\n",
       "          s.async = true;\n",
       "          s.onload = () => {\n",
       "            VEGA_DEBUG[key] = version;\n",
       "            return resolve(paths[lib]);\n",
       "          };\n",
       "          s.onerror = () => reject(`Error loading script: ${paths[lib]}`);\n",
       "          s.src = paths[lib];\n",
       "        });\n",
       "    }\n",
       "\n",
       "    function showError(err) {\n",
       "      outputDiv.innerHTML = `<div class=\"error\" style=\"color:red;\">${err}</div>`;\n",
       "      throw err;\n",
       "    }\n",
       "\n",
       "    function displayChart(vegaEmbed) {\n",
       "      vegaEmbed(outputDiv, spec, embedOpt)\n",
       "        .catch(err => showError(`Javascript Error: ${err.message}<br>This usually means there's a typo in your chart specification. See the javascript console for the full traceback.`));\n",
       "    }\n",
       "\n",
       "    if(typeof define === \"function\" && define.amd) {\n",
       "      requirejs.config({paths});\n",
       "      require([\"vega-embed\"], displayChart, err => showError(`Error loading script: ${err.message}`));\n",
       "    } else {\n",
       "      maybeLoadScript(\"vega\", \"5\")\n",
       "        .then(() => maybeLoadScript(\"vega-lite\", \"4.17.0\"))\n",
       "        .then(() => maybeLoadScript(\"vega-embed\", \"6\"))\n",
       "        .catch(showError)\n",
       "        .then(() => displayChart(vegaEmbed));\n",
       "    }\n",
       "  })({\"config\": {\"view\": {\"continuousWidth\": 400, \"continuousHeight\": 300}}, \"hconcat\": [{\"mark\": \"circle\", \"encoding\": {\"color\": {\"field\": \"y\", \"type\": \"nominal\"}, \"x\": {\"field\": \"PCA0\", \"type\": \"quantitative\"}, \"y\": {\"field\": \"PCA1\", \"type\": \"quantitative\"}}}, {\"mark\": \"circle\", \"encoding\": {\"color\": {\"field\": \"y_predict\", \"type\": \"nominal\"}, \"x\": {\"field\": \"PCA0\", \"type\": \"quantitative\"}, \"y\": {\"field\": \"PCA1\", \"type\": \"quantitative\"}}}], \"data\": {\"name\": \"data-b8a3c6250afb9aea34f17d67d7e55eb5\"}, \"$schema\": \"https://vega.github.io/schema/vega-lite/v4.17.0.json\", \"datasets\": {\"data-b8a3c6250afb9aea34f17d67d7e55eb5\": [{\"PCA0\": -0.7340119884275443, \"PCA1\": -1.639543885909855, \"y_predict\": 0, \"y\": 0}, {\"PCA0\": 3.502327728247382, \"PCA1\": -1.1255485788268877, \"y_predict\": 1, \"y\": 0}, {\"PCA0\": 0.7460643518735536, \"PCA1\": -0.9032780542520616, \"y_predict\": 1, \"y\": 0}, {\"PCA0\": 1.5019493262443608, \"PCA1\": 0.2587139177765904, \"y_predict\": 1, \"y\": 0}, {\"PCA0\": 1.9291345348104048, \"PCA1\": -0.8826690383483473, \"y_predict\": 1, \"y\": 0}, {\"PCA0\": 1.0817993448243322, \"PCA1\": -0.49636293947916466, \"y_predict\": 1, \"y\": 0}, {\"PCA0\": 0.6247426755131553, \"PCA1\": 1.05435404531213, \"y_predict\": 1, \"y\": 0}, {\"PCA0\": -0.27873576281225554, \"PCA1\": 1.6262838450380728, \"y_predict\": 0, \"y\": 0}, {\"PCA0\": -2.058708645734619, \"PCA1\": -0.7506521705825716, \"y_predict\": 0, \"y\": 0}, {\"PCA0\": 1.8413344997591259, \"PCA1\": -0.04859729961568323, \"y_predict\": 1, \"y\": 0}, {\"PCA0\": -0.6546427393647688, \"PCA1\": 0.22554145926073121, \"y_predict\": 0, \"y\": 0}, {\"PCA0\": -0.45146958553583577, \"PCA1\": 1.7007519438864558, \"y_predict\": 0, \"y\": 0}, {\"PCA0\": 0.3296477539769407, \"PCA1\": -1.7040690192156958, \"y_predict\": 1, \"y\": 0}, {\"PCA0\": 1.6607032665767194, \"PCA1\": 0.7309772268243311, \"y_predict\": 1, \"y\": 0}, {\"PCA0\": 0.5835150728135425, \"PCA1\": 2.119855347936508, \"y_predict\": 1, \"y\": 0}, {\"PCA0\": 0.7781133872638742, \"PCA1\": 0.849554223194804, \"y_predict\": 1, \"y\": 0}, {\"PCA0\": -0.8910642309291438, \"PCA1\": 1.133908929894437, \"y_predict\": 0, \"y\": 0}, {\"PCA0\": 2.315638806331542, \"PCA1\": -0.522742265648634, \"y_predict\": 1, \"y\": 0}, {\"PCA0\": -0.13733828487624564, \"PCA1\": 0.48325224882653683, \"y_predict\": 0, \"y\": 0}, {\"PCA0\": 1.4130294485399195, \"PCA1\": -1.2199586571775765, \"y_predict\": 1, \"y\": 0}, {\"PCA0\": 0.9646826672959719, \"PCA1\": 2.977364201203581, \"y_predict\": 1, \"y\": 0}, {\"PCA0\": -0.9379123258327898, \"PCA1\": 1.7296199139364983, \"y_predict\": 0, \"y\": 0}, {\"PCA0\": 0.43261497496610024, \"PCA1\": -0.9845449513780377, \"y_predict\": 1, \"y\": 0}, {\"PCA0\": 2.728263989920904, \"PCA1\": -0.25142844717302715, \"y_predict\": 1, \"y\": 0}, {\"PCA0\": 4.842404773402508, \"PCA1\": -0.4456416896890997, \"y_predict\": 1, \"y\": 0}, {\"PCA0\": -0.551421713888601, \"PCA1\": -1.200766722130308, \"y_predict\": 0, \"y\": 0}, {\"PCA0\": 0.7613992871396995, \"PCA1\": -0.5472642866806768, \"y_predict\": 1, \"y\": 0}, {\"PCA0\": 1.3231683947466295, \"PCA1\": -1.2093262314919109, \"y_predict\": 1, \"y\": 0}, {\"PCA0\": 1.7934498761002107, \"PCA1\": 0.3482398646805242, \"y_predict\": 1, \"y\": 0}, {\"PCA0\": 3.94135510331233, \"PCA1\": -1.0409873225370094, \"y_predict\": 1, \"y\": 0}, {\"PCA0\": -1.751949380642993, \"PCA1\": -1.4414692199720351, \"y_predict\": 0, \"y\": 0}, {\"PCA0\": -1.9349182517858932, \"PCA1\": 1.545546456942384, \"y_predict\": 0, \"y\": 0}, {\"PCA0\": 1.1823116808649055, \"PCA1\": -0.9746817002883454, \"y_predict\": 1, \"y\": 0}, {\"PCA0\": 1.05062974406304, \"PCA1\": 2.044089966530149, \"y_predict\": 1, \"y\": 0}, {\"PCA0\": 1.3160110883930554, \"PCA1\": -1.091136952086749, \"y_predict\": 1, \"y\": 0}, {\"PCA0\": 0.8716680291633573, \"PCA1\": 1.3489475909273758, \"y_predict\": 1, \"y\": 0}, {\"PCA0\": 1.7241655997488137, \"PCA1\": -0.24581196813904657, \"y_predict\": 1, \"y\": 0}, {\"PCA0\": 1.4527997559732195, \"PCA1\": 0.5771043025609751, \"y_predict\": 1, \"y\": 0}, {\"PCA0\": 2.383164647401077, \"PCA1\": 0.1912850870853847, \"y_predict\": 1, \"y\": 0}, {\"PCA0\": -0.6743726728131374, \"PCA1\": 1.7388905460664845, \"y_predict\": 0, \"y\": 0}, {\"PCA0\": -0.9795270512213516, \"PCA1\": 3.590341707060625, \"y_predict\": 0, \"y\": 0}, {\"PCA0\": 0.4320888102062167, \"PCA1\": -1.5548085452448068, \"y_predict\": 1, \"y\": 0}, {\"PCA0\": 2.00650099775032, \"PCA1\": -0.5887674798473739, \"y_predict\": 1, \"y\": 0}, {\"PCA0\": 0.7280145526761509, \"PCA1\": 0.4046643247162333, \"y_predict\": 1, \"y\": 0}, {\"PCA0\": 0.3339378655886908, \"PCA1\": 0.8568655759373217, \"y_predict\": 1, \"y\": 0}, {\"PCA0\": 1.0806347171167148, \"PCA1\": -0.6047891608656957, \"y_predict\": 1, \"y\": 0}, {\"PCA0\": 1.1725325413979608, \"PCA1\": -0.07009817370342192, \"y_predict\": 1, \"y\": 0}, {\"PCA0\": 0.9658815273444649, \"PCA1\": -1.2217708227032762, \"y_predict\": 1, \"y\": 0}, {\"PCA0\": -1.5939194753809272, \"PCA1\": -0.7317254155066027, \"y_predict\": 0, \"y\": 0}, {\"PCA0\": -0.8572757600963481, \"PCA1\": 2.801230594215463, \"y_predict\": 0, \"y\": 0}, {\"PCA0\": 0.8247025039894986, \"PCA1\": -0.8263892585870458, \"y_predict\": 1, \"y\": 0}, {\"PCA0\": -0.218192272693737, \"PCA1\": -1.32978620206514, \"y_predict\": 1, \"y\": 0}, {\"PCA0\": -0.9756714253952695, \"PCA1\": -0.4218654582783872, \"y_predict\": 0, \"y\": 0}, {\"PCA0\": -1.5400391541838416, \"PCA1\": 1.2928954482453021, \"y_predict\": 0, \"y\": 0}, {\"PCA0\": 0.2910137719364008, \"PCA1\": -0.4683561960900026, \"y_predict\": 1, \"y\": 0}, {\"PCA0\": 1.7268536393213207, \"PCA1\": -0.13623282606248815, \"y_predict\": 1, \"y\": 0}, {\"PCA0\": 0.33383859077862127, \"PCA1\": 3.053823408094078, \"y_predict\": 0, \"y\": 0}, {\"PCA0\": -0.14520230225066738, \"PCA1\": -0.6925929672720982, \"y_predict\": 1, \"y\": 0}, {\"PCA0\": 0.20041363322518796, \"PCA1\": -1.6409998532882955, \"y_predict\": 1, \"y\": 0}, {\"PCA0\": -0.23921084729886366, \"PCA1\": -0.059098522673831276, \"y_predict\": 0, \"y\": 0}, {\"PCA0\": 1.2249229692061834, \"PCA1\": -1.0773404776358992, \"y_predict\": 1, \"y\": 0}, {\"PCA0\": 1.0667177982731146, \"PCA1\": -1.355655846809491, \"y_predict\": 1, \"y\": 0}, {\"PCA0\": 1.1692745404182292, \"PCA1\": 0.3808572990601296, \"y_predict\": 1, \"y\": 0}, {\"PCA0\": 1.3391935472998686, \"PCA1\": -0.9120341033014273, \"y_predict\": 1, \"y\": 0}, {\"PCA0\": 0.4688855225267329, \"PCA1\": -0.8105615779028013, \"y_predict\": 1, \"y\": 0}, {\"PCA0\": -0.9557990319700439, \"PCA1\": -1.8459831852726536, \"y_predict\": 0, \"y\": 0}, {\"PCA0\": 0.23573681831402016, \"PCA1\": -1.1910798326116556, \"y_predict\": 1, \"y\": 0}, {\"PCA0\": 0.7788142857965121, \"PCA1\": -1.419248540293775, \"y_predict\": 1, \"y\": 0}, {\"PCA0\": 1.2317685892792907, \"PCA1\": -1.1247138819611566, \"y_predict\": 1, \"y\": 0}, {\"PCA0\": 1.9428368400168847, \"PCA1\": -0.8161730949741937, \"y_predict\": 1, \"y\": 0}, {\"PCA0\": 1.1118946491409467, \"PCA1\": -1.1322936727748447, \"y_predict\": 1, \"y\": 0}, {\"PCA0\": -0.9073507901410723, \"PCA1\": -1.1624326515179686, \"y_predict\": 0, \"y\": 0}, {\"PCA0\": 3.085355741705078, \"PCA1\": -0.4229113396914791, \"y_predict\": 1, \"y\": 0}, {\"PCA0\": 1.7581140746225274, \"PCA1\": -0.8131895633363698, \"y_predict\": 1, \"y\": 0}, {\"PCA0\": 0.2900054034472838, \"PCA1\": 0.1631178298510652, \"y_predict\": 1, \"y\": 0}, {\"PCA0\": -0.8820920305902177, \"PCA1\": 0.4115568708845318, \"y_predict\": 0, \"y\": 0}, {\"PCA0\": 1.4141194321572892, \"PCA1\": 0.2885138742699157, \"y_predict\": 1, \"y\": 0}, {\"PCA0\": 1.0275749789156061, \"PCA1\": -0.5230616046566126, \"y_predict\": 1, \"y\": 0}, {\"PCA0\": 0.9829736824740403, \"PCA1\": -0.37923439704044437, \"y_predict\": 1, \"y\": 0}, {\"PCA0\": 0.6325185084775045, \"PCA1\": -1.430589444263957, \"y_predict\": 1, \"y\": 0}, {\"PCA0\": 0.8326762113537302, \"PCA1\": -0.8278506868751707, \"y_predict\": 1, \"y\": 0}, {\"PCA0\": 0.6072363067691435, \"PCA1\": 1.8147525008439946, \"y_predict\": 1, \"y\": 0}, {\"PCA0\": 2.0928650516661573, \"PCA1\": -1.2341253009841167, \"y_predict\": 1, \"y\": 0}, {\"PCA0\": 0.5914634556529509, \"PCA1\": 0.05328867142349988, \"y_predict\": 1, \"y\": 0}, {\"PCA0\": 2.3196099784970072, \"PCA1\": 0.4493179911341453, \"y_predict\": 1, \"y\": 0}, {\"PCA0\": -2.1103446064545035, \"PCA1\": -2.0433636288627266, \"y_predict\": 0, \"y\": 0}, {\"PCA0\": 2.2066762919900773, \"PCA1\": -1.5334081355068623, \"y_predict\": 1, \"y\": 0}, {\"PCA0\": 1.3434691895639597, \"PCA1\": -0.7552638604389861, \"y_predict\": 1, \"y\": 0}, {\"PCA0\": 1.08914714995107, \"PCA1\": -0.5274469561699514, \"y_predict\": 1, \"y\": 0}, {\"PCA0\": -0.05389155896214903, \"PCA1\": -1.6990771667397149, \"y_predict\": 1, \"y\": 0}, {\"PCA0\": -0.2963873475323926, \"PCA1\": -1.9480199238362956, \"y_predict\": 1, \"y\": 0}, {\"PCA0\": 2.4515753169419616, \"PCA1\": -0.11495406820237317, \"y_predict\": 1, \"y\": 0}, {\"PCA0\": 0.37770167771046037, \"PCA1\": -0.5018238307536943, \"y_predict\": 1, \"y\": 0}, {\"PCA0\": 0.1458567997398385, \"PCA1\": -1.7505402100452865, \"y_predict\": 1, \"y\": 0}, {\"PCA0\": 1.075705331202512, \"PCA1\": 0.28654863580113593, \"y_predict\": 1, \"y\": 0}, {\"PCA0\": 1.6190399766032146, \"PCA1\": 1.023183127646148, \"y_predict\": 1, \"y\": 0}, {\"PCA0\": 0.5382065417636197, \"PCA1\": -1.4162990448547041, \"y_predict\": 1, \"y\": 0}, {\"PCA0\": -0.45097140550748094, \"PCA1\": -1.5590842121219273, \"y_predict\": 1, \"y\": 0}, {\"PCA0\": 3.152239920479413, \"PCA1\": 0.2580777247732923, \"y_predict\": 1, \"y\": 0}, {\"PCA0\": 1.1466173438694658, \"PCA1\": 1.4867033623614556, \"y_predict\": 1, \"y\": 0}, {\"PCA0\": 1.5669173210884184, \"PCA1\": -1.2693981481882288, \"y_predict\": 1, \"y\": 0}, {\"PCA0\": -0.3804043305287126, \"PCA1\": -1.217294486581582, \"y_predict\": 1, \"y\": 0}, {\"PCA0\": -0.9015754001127111, \"PCA1\": 3.220720984352959, \"y_predict\": 0, \"y\": 0}, {\"PCA0\": -0.35305993464927354, \"PCA1\": -2.121634881134236, \"y_predict\": 1, \"y\": 0}, {\"PCA0\": -0.0875634201821463, \"PCA1\": -2.1255803460789666, \"y_predict\": 1, \"y\": 0}, {\"PCA0\": 1.37188741812529, \"PCA1\": -0.7624242697160447, \"y_predict\": 1, \"y\": 0}, {\"PCA0\": 0.8600192132683327, \"PCA1\": -1.5147790733281803, \"y_predict\": 1, \"y\": 0}, {\"PCA0\": 0.27590379467868487, \"PCA1\": 3.21291749440595, \"y_predict\": 0, \"y\": 0}, {\"PCA0\": 1.3562136671347012, \"PCA1\": -1.061397480134707, \"y_predict\": 1, \"y\": 0}, {\"PCA0\": 0.3739351402220086, \"PCA1\": 0.07798614740802921, \"y_predict\": 1, \"y\": 0}, {\"PCA0\": 1.2239259623730032, \"PCA1\": -0.16926132819155748, \"y_predict\": 1, \"y\": 0}, {\"PCA0\": 0.3672012985945236, \"PCA1\": -0.3947251926849716, \"y_predict\": 1, \"y\": 0}, {\"PCA0\": -1.0297782435458729, \"PCA1\": 0.057899347943765195, \"y_predict\": 0, \"y\": 0}, {\"PCA0\": 1.8226091152672512, \"PCA1\": -0.612914621946408, \"y_predict\": 1, \"y\": 0}, {\"PCA0\": -1.0096450922356588, \"PCA1\": -1.4837836755134075, \"y_predict\": 0, \"y\": 0}, {\"PCA0\": 2.0205547803739448, \"PCA1\": -0.14360511495325629, \"y_predict\": 1, \"y\": 0}, {\"PCA0\": -1.8276340192371618, \"PCA1\": -0.1798042797151312, \"y_predict\": 0, \"y\": 0}, {\"PCA0\": 1.7344111726062856, \"PCA1\": 1.6742870601046667, \"y_predict\": 1, \"y\": 0}, {\"PCA0\": 1.3849489648462736, \"PCA1\": -0.6997199524439967, \"y_predict\": 1, \"y\": 0}, {\"PCA0\": 1.5427054833637952, \"PCA1\": -0.39223766395834697, \"y_predict\": 1, \"y\": 0}, {\"PCA0\": 1.1995054172719992, \"PCA1\": 1.2176606245038324, \"y_predict\": 1, \"y\": 0}, {\"PCA0\": 1.8841325792037293, \"PCA1\": -0.9489216259090614, \"y_predict\": 1, \"y\": 0}, {\"PCA0\": -1.6874917485501673, \"PCA1\": -1.8085315631820016, \"y_predict\": 0, \"y\": 0}, {\"PCA0\": 0.4979424361189189, \"PCA1\": 1.0133236534275492, \"y_predict\": 1, \"y\": 0}, {\"PCA0\": -0.7251776930485153, \"PCA1\": -0.7490037632331703, \"y_predict\": 0, \"y\": 0}, {\"PCA0\": -0.47892487372151404, \"PCA1\": -1.0346856650118919, \"y_predict\": 0, \"y\": 0}, {\"PCA0\": -0.7852575183981206, \"PCA1\": 0.5324388991335602, \"y_predict\": 0, \"y\": 0}, {\"PCA0\": -0.08240282892885449, \"PCA1\": 1.038932072506581, \"y_predict\": 0, \"y\": 0}, {\"PCA0\": 0.7653601392407412, \"PCA1\": 1.0604787970268046, \"y_predict\": 1, \"y\": 0}, {\"PCA0\": 0.6170412964511053, \"PCA1\": 1.1480645068061024, \"y_predict\": 1, \"y\": 0}, {\"PCA0\": -0.12845063246190966, \"PCA1\": -1.1137701233858337, \"y_predict\": 1, \"y\": 0}, {\"PCA0\": 0.977412347094067, \"PCA1\": -1.0110485920720262, \"y_predict\": 1, \"y\": 0}, {\"PCA0\": 0.8571500895046547, \"PCA1\": 0.0016901734623468482, \"y_predict\": 1, \"y\": 0}, {\"PCA0\": 0.5503649167108928, \"PCA1\": 0.00448959909602778, \"y_predict\": 1, \"y\": 0}, {\"PCA0\": -2.843897196106629, \"PCA1\": -2.5928220314349626, \"y_predict\": 0, \"y\": 0}, {\"PCA0\": 0.5821092108817438, \"PCA1\": 0.9978179003021989, \"y_predict\": 1, \"y\": 0}, {\"PCA0\": 1.5048010916409302, \"PCA1\": -0.9980238419934016, \"y_predict\": 1, \"y\": 0}, {\"PCA0\": 0.10009672455821116, \"PCA1\": 0.552736275073593, \"y_predict\": 1, \"y\": 0}, {\"PCA0\": 1.5046156951438152, \"PCA1\": -0.6157070787023433, \"y_predict\": 1, \"y\": 0}, {\"PCA0\": 0.3287734016686486, \"PCA1\": 2.2767630981949005, \"y_predict\": 0, \"y\": 0}, {\"PCA0\": -0.5363239988287745, \"PCA1\": -1.2268476703719653, \"y_predict\": 0, \"y\": 0}, {\"PCA0\": 0.5269783642336002, \"PCA1\": -1.0951921394944335, \"y_predict\": 1, \"y\": 0}, {\"PCA0\": 0.32653290074312497, \"PCA1\": -1.4433529650369534, \"y_predict\": 1, \"y\": 0}, {\"PCA0\": 0.24512062686058708, \"PCA1\": -0.9982569232995182, \"y_predict\": 1, \"y\": 0}, {\"PCA0\": 0.40557798589740185, \"PCA1\": -1.5505300415128376, \"y_predict\": 1, \"y\": 0}, {\"PCA0\": 0.26580007754604323, \"PCA1\": -0.6689968148391869, \"y_predict\": 1, \"y\": 0}, {\"PCA0\": 1.6428819193902926, \"PCA1\": -1.167793861608242, \"y_predict\": 1, \"y\": 0}, {\"PCA0\": 1.3861400761364433, \"PCA1\": -0.41603229266235664, \"y_predict\": 1, \"y\": 0}, {\"PCA0\": 1.6112988924346414, \"PCA1\": -0.8597954212105241, \"y_predict\": 1, \"y\": 0}, {\"PCA0\": 0.4056044357649067, \"PCA1\": -1.4475775318940567, \"y_predict\": 1, \"y\": 0}, {\"PCA0\": 0.48911121108950245, \"PCA1\": -1.8648059192043842, \"y_predict\": 1, \"y\": 0}, {\"PCA0\": 0.9421614980015824, \"PCA1\": -1.2283859222203548, \"y_predict\": 1, \"y\": 0}, {\"PCA0\": 0.1864829633464066, \"PCA1\": -0.10099414745755449, \"y_predict\": 1, \"y\": 0}, {\"PCA0\": 1.1508160494375617, \"PCA1\": -1.1443153535827528, \"y_predict\": 1, \"y\": 0}, {\"PCA0\": 0.5639486445642854, \"PCA1\": 1.8214191157362873, \"y_predict\": 1, \"y\": 0}, {\"PCA0\": -0.08214332829956635, \"PCA1\": 2.273991059035853, \"y_predict\": 0, \"y\": 0}, {\"PCA0\": 1.1461033352893222, \"PCA1\": -0.5787921122253982, \"y_predict\": 1, \"y\": 0}, {\"PCA0\": 1.1689473277056512, \"PCA1\": -1.2409156707744196, \"y_predict\": 1, \"y\": 0}, {\"PCA0\": -1.4928530148503147, \"PCA1\": -1.8035071438683727, \"y_predict\": 0, \"y\": 0}, {\"PCA0\": 1.7523366957378737, \"PCA1\": -0.19354982431731838, \"y_predict\": 1, \"y\": 0}, {\"PCA0\": 1.8165371409253253, \"PCA1\": 0.16406900659462106, \"y_predict\": 1, \"y\": 0}, {\"PCA0\": 0.4162797200482478, \"PCA1\": -0.8604033758100156, \"y_predict\": 1, \"y\": 0}, {\"PCA0\": -0.30331758832793476, \"PCA1\": -0.03397216942913195, \"y_predict\": 0, \"y\": 0}, {\"PCA0\": -0.22498947568503436, \"PCA1\": 0.35482645339037705, \"y_predict\": 0, \"y\": 0}, {\"PCA0\": 0.9556980054301256, \"PCA1\": 2.421227476486205, \"y_predict\": 1, \"y\": 0}, {\"PCA0\": 0.24886094809537715, \"PCA1\": -1.7424666571363538, \"y_predict\": 1, \"y\": 0}, {\"PCA0\": 2.477894854680815, \"PCA1\": 0.9475107153463213, \"y_predict\": 1, \"y\": 0}, {\"PCA0\": -1.2151063585706399, \"PCA1\": 1.8644437554647657, \"y_predict\": 0, \"y\": 0}, {\"PCA0\": -1.4089216418288077, \"PCA1\": -1.7356967080720072, \"y_predict\": 0, \"y\": 0}, {\"PCA0\": 1.4175956746089151, \"PCA1\": 1.3267687840656126, \"y_predict\": 1, \"y\": 0}, {\"PCA0\": 0.9351029785528834, \"PCA1\": 0.6597560547185056, \"y_predict\": 1, \"y\": 0}, {\"PCA0\": 0.14835040016160322, \"PCA1\": 1.945325927888242, \"y_predict\": 0, \"y\": 0}, {\"PCA0\": 2.0216824005629355, \"PCA1\": -0.5137546597905339, \"y_predict\": 1, \"y\": 0}, {\"PCA0\": 1.2362486690772545, \"PCA1\": 2.486664498345998, \"y_predict\": 1, \"y\": 0}, {\"PCA0\": 2.720847427669043, \"PCA1\": -0.5723699173181535, \"y_predict\": 1, \"y\": 0}, {\"PCA0\": 0.6544662220629557, \"PCA1\": -1.335578716378202, \"y_predict\": 1, \"y\": 0}, {\"PCA0\": -0.6390190486647536, \"PCA1\": -2.060772636983016, \"y_predict\": 1, \"y\": 0}, {\"PCA0\": -0.3316223575164349, \"PCA1\": -1.6341253343670599, \"y_predict\": 1, \"y\": 0}, {\"PCA0\": 0.6373129682776614, \"PCA1\": -1.3585426284434137, \"y_predict\": 1, \"y\": 0}, {\"PCA0\": 1.8660652908345956, \"PCA1\": 0.40011363635483344, \"y_predict\": 1, \"y\": 0}, {\"PCA0\": 1.3589869906280014, \"PCA1\": -0.17120846305155799, \"y_predict\": 1, \"y\": 0}, {\"PCA0\": 1.6918652296320857, \"PCA1\": -1.0548661311611118, \"y_predict\": 1, \"y\": 0}, {\"PCA0\": 0.9607543157676229, \"PCA1\": -1.4220110645635227, \"y_predict\": 1, \"y\": 0}, {\"PCA0\": 1.4401677375583046, \"PCA1\": -1.0807560455418042, \"y_predict\": 1, \"y\": 0}, {\"PCA0\": 1.008623575654418, \"PCA1\": -0.2965884979863942, \"y_predict\": 1, \"y\": 0}, {\"PCA0\": 2.8181751721466064, \"PCA1\": -1.2959662140317976, \"y_predict\": 1, \"y\": 0}, {\"PCA0\": -0.18337249966475216, \"PCA1\": -0.8513117584917548, \"y_predict\": 1, \"y\": 0}, {\"PCA0\": 1.266635470100979, \"PCA1\": -1.1107338468789865, \"y_predict\": 1, \"y\": 0}, {\"PCA0\": -1.2558498956657789, \"PCA1\": -0.6840857012861884, \"y_predict\": 0, \"y\": 0}, {\"PCA0\": 0.8812686376378321, \"PCA1\": 0.26643722131718306, \"y_predict\": 1, \"y\": 0}, {\"PCA0\": 2.305409391915245, \"PCA1\": 0.10070866994769422, \"y_predict\": 1, \"y\": 0}, {\"PCA0\": 0.5009124357458986, \"PCA1\": -1.3910384181831352, \"y_predict\": 1, \"y\": 0}, {\"PCA0\": 0.951334024278396, \"PCA1\": 0.6550526013258161, \"y_predict\": 1, \"y\": 0}, {\"PCA0\": 0.7564825500386472, \"PCA1\": -0.9831853065578474, \"y_predict\": 1, \"y\": 0}, {\"PCA0\": 0.19518308263149023, \"PCA1\": -1.4165711893095145, \"y_predict\": 1, \"y\": 0}, {\"PCA0\": 0.8835257422512749, \"PCA1\": -0.1592649412320602, \"y_predict\": 1, \"y\": 0}, {\"PCA0\": 0.6900075215375538, \"PCA1\": 0.8156594487046551, \"y_predict\": 1, \"y\": 0}, {\"PCA0\": 2.3540324745080006, \"PCA1\": 0.7107852118205813, \"y_predict\": 1, \"y\": 0}, {\"PCA0\": 1.9217091085757128, \"PCA1\": 1.4652134120457563, \"y_predict\": 1, \"y\": 0}, {\"PCA0\": 0.41783433453000063, \"PCA1\": -1.125450908567968, \"y_predict\": 1, \"y\": 0}, {\"PCA0\": 1.015315622866045, \"PCA1\": -0.5956327518334477, \"y_predict\": 1, \"y\": 0}, {\"PCA0\": 1.3659532249678936, \"PCA1\": 1.222015431508986, \"y_predict\": 1, \"y\": 0}, {\"PCA0\": 0.48030264957610536, \"PCA1\": -1.1308795924384138, \"y_predict\": 1, \"y\": 0}, {\"PCA0\": 0.3485311486655739, \"PCA1\": 3.203452059320804, \"y_predict\": 0, \"y\": 0}, {\"PCA0\": -0.11644653920637585, \"PCA1\": 1.739040492514468, \"y_predict\": 0, \"y\": 0}, {\"PCA0\": -3.001525504549394, \"PCA1\": 1.1138501297450103, \"y_predict\": 0, \"y\": 0}, {\"PCA0\": 1.2500355766197169, \"PCA1\": -0.45816010763666126, \"y_predict\": 1, \"y\": 0}, {\"PCA0\": 0.7814590125571238, \"PCA1\": -1.0374738034524882, \"y_predict\": 1, \"y\": 0}, {\"PCA0\": -2.7216540823957476, \"PCA1\": -1.8617864714385821, \"y_predict\": 0, \"y\": 0}, {\"PCA0\": 1.3168623790058749, \"PCA1\": -1.2008437804715892, \"y_predict\": 1, \"y\": 0}, {\"PCA0\": 0.7215143637649648, \"PCA1\": -0.42299476573340944, \"y_predict\": 1, \"y\": 0}, {\"PCA0\": 0.5640380458415281, \"PCA1\": -1.356797897395939, \"y_predict\": 1, \"y\": 0}, {\"PCA0\": 0.03339730630188322, \"PCA1\": -1.0038682832336836, \"y_predict\": 1, \"y\": 0}, {\"PCA0\": -0.8658243290171125, \"PCA1\": 1.6188937806158685, \"y_predict\": 0, \"y\": 1}, {\"PCA0\": -2.704556753711298, \"PCA1\": -0.15075394617703386, \"y_predict\": 0, \"y\": 1}, {\"PCA0\": 2.3116696092522884, \"PCA1\": -0.4205035667266533, \"y_predict\": 1, \"y\": 1}, {\"PCA0\": -0.9111763091665093, \"PCA1\": 1.8622081688045287, \"y_predict\": 0, \"y\": 1}, {\"PCA0\": -0.22963342410713836, \"PCA1\": 0.33058629991281524, \"y_predict\": 0, \"y\": 1}, {\"PCA0\": 0.30764916471658127, \"PCA1\": 1.1166018588113464, \"y_predict\": 1, \"y\": 1}, {\"PCA0\": 0.34539666808594083, \"PCA1\": -0.9504414812182939, \"y_predict\": 1, \"y\": 1}, {\"PCA0\": 1.2314120899038348, \"PCA1\": 0.8267324508006284, \"y_predict\": 1, \"y\": 1}, {\"PCA0\": -0.30521517973153345, \"PCA1\": 0.5121644714145165, \"y_predict\": 0, \"y\": 1}, {\"PCA0\": 0.6028725788208865, \"PCA1\": 0.05751034655070857, \"y_predict\": 1, \"y\": 1}, {\"PCA0\": -1.3829567456139658, \"PCA1\": -1.1111976856294632, \"y_predict\": 0, \"y\": 1}, {\"PCA0\": -1.93527459378075, \"PCA1\": -1.569934508208423, \"y_predict\": 0, \"y\": 1}, {\"PCA0\": -0.1859143846514554, \"PCA1\": 3.045677170483493, \"y_predict\": 0, \"y\": 1}, {\"PCA0\": 1.1836374031475083, \"PCA1\": -1.1255321707839243, \"y_predict\": 1, \"y\": 1}, {\"PCA0\": -0.02836209845706658, \"PCA1\": 1.1884309857932658, \"y_predict\": 0, \"y\": 1}, {\"PCA0\": 0.19491944453668708, \"PCA1\": -1.6992825698013962, \"y_predict\": 1, \"y\": 1}, {\"PCA0\": -1.3734435906374216, \"PCA1\": -0.9856362874096416, \"y_predict\": 0, \"y\": 1}, {\"PCA0\": -0.08025248763995743, \"PCA1\": 1.0861112752209976, \"y_predict\": 0, \"y\": 1}, {\"PCA0\": -2.605164118045946, \"PCA1\": 0.11853089892567421, \"y_predict\": 0, \"y\": 1}, {\"PCA0\": -1.5316463560051967, \"PCA1\": 2.1550795318780733, \"y_predict\": 0, \"y\": 1}, {\"PCA0\": -2.074088053435985, \"PCA1\": 1.9624920330077564, \"y_predict\": 0, \"y\": 1}, {\"PCA0\": 0.5998613071605166, \"PCA1\": 1.1486724000048394, \"y_predict\": 1, \"y\": 1}, {\"PCA0\": -0.7697180971882049, \"PCA1\": -0.7989895752675592, \"y_predict\": 0, \"y\": 1}, {\"PCA0\": 2.8846991778349986, \"PCA1\": -1.033324382222306, \"y_predict\": 1, \"y\": 1}, {\"PCA0\": -0.6374836836876349, \"PCA1\": -1.3764289315212523, \"y_predict\": 0, \"y\": 1}, {\"PCA0\": -1.2531218667465853, \"PCA1\": -2.248749333892001, \"y_predict\": 0, \"y\": 1}, {\"PCA0\": -0.45775765497706344, \"PCA1\": -1.3841881246652477, \"y_predict\": 1, \"y\": 1}, {\"PCA0\": 1.7700363661413985, \"PCA1\": -1.3211335371926256, \"y_predict\": 1, \"y\": 1}, {\"PCA0\": 0.49668124414197634, \"PCA1\": 1.8266083223920113, \"y_predict\": 1, \"y\": 1}, {\"PCA0\": -0.1884071896767979, \"PCA1\": -0.3259997776034938, \"y_predict\": 1, \"y\": 1}, {\"PCA0\": 0.4230234336133403, \"PCA1\": 1.932584116177872, \"y_predict\": 1, \"y\": 1}, {\"PCA0\": 1.1622453712755683, \"PCA1\": 0.8977949944838706, \"y_predict\": 1, \"y\": 1}, {\"PCA0\": -1.4748988151047462, \"PCA1\": -1.0125849101085913, \"y_predict\": 0, \"y\": 1}, {\"PCA0\": -1.159750160243751, \"PCA1\": 0.25021945875765533, \"y_predict\": 0, \"y\": 1}, {\"PCA0\": 0.6579345239013852, \"PCA1\": 2.26114170772125, \"y_predict\": 1, \"y\": 1}, {\"PCA0\": -0.8994396465419697, \"PCA1\": 0.13440543680616351, \"y_predict\": 0, \"y\": 1}, {\"PCA0\": -1.1439295779902983, \"PCA1\": -0.36023001452937586, \"y_predict\": 0, \"y\": 1}, {\"PCA0\": -0.5324063766988302, \"PCA1\": 1.8648207145755176, \"y_predict\": 0, \"y\": 1}, {\"PCA0\": -3.612910297273611, \"PCA1\": 1.677100964585112, \"y_predict\": 0, \"y\": 1}, {\"PCA0\": -0.008268610418821458, \"PCA1\": 1.3107368135082746, \"y_predict\": 0, \"y\": 1}, {\"PCA0\": -0.675984820718718, \"PCA1\": 2.4358999505010646, \"y_predict\": 0, \"y\": 1}, {\"PCA0\": -2.810404534462081, \"PCA1\": -2.0059014063303433, \"y_predict\": 0, \"y\": 1}, {\"PCA0\": -1.9420481485758063, \"PCA1\": -1.2028749498452294, \"y_predict\": 0, \"y\": 1}, {\"PCA0\": -1.2576737606741712, \"PCA1\": 0.35539746375370135, \"y_predict\": 0, \"y\": 1}, {\"PCA0\": 2.3956311043206933, \"PCA1\": 0.40706535960012546, \"y_predict\": 1, \"y\": 1}, {\"PCA0\": -1.9031294480579133, \"PCA1\": 1.010613319200215, \"y_predict\": 0, \"y\": 1}, {\"PCA0\": -2.032275860884931, \"PCA1\": -0.7924810241452405, \"y_predict\": 0, \"y\": 1}, {\"PCA0\": 1.5881734025830205, \"PCA1\": 3.4343708518324494, \"y_predict\": 1, \"y\": 1}, {\"PCA0\": -1.1884968417956987, \"PCA1\": 1.979966884250311, \"y_predict\": 0, \"y\": 1}, {\"PCA0\": -0.7091232253655496, \"PCA1\": 2.2462136389188525, \"y_predict\": 0, \"y\": 1}, {\"PCA0\": -2.1483281389412863, \"PCA1\": 0.187171803858875, \"y_predict\": 0, \"y\": 1}, {\"PCA0\": 0.7542168915647244, \"PCA1\": 2.3827784434131427, \"y_predict\": 1, \"y\": 1}, {\"PCA0\": -0.9382988510181297, \"PCA1\": 0.1888370322682815, \"y_predict\": 0, \"y\": 1}, {\"PCA0\": 0.9226165457656584, \"PCA1\": -0.010835649409583495, \"y_predict\": 1, \"y\": 1}, {\"PCA0\": 1.1375222864176664, \"PCA1\": 1.5513609653903762, \"y_predict\": 1, \"y\": 1}, {\"PCA0\": -2.1674368563247515, \"PCA1\": 0.40720371826325696, \"y_predict\": 0, \"y\": 1}, {\"PCA0\": -0.5669638736733659, \"PCA1\": 0.02496737995264531, \"y_predict\": 0, \"y\": 1}, {\"PCA0\": -2.2704353049545416, \"PCA1\": 1.3870062344085952, \"y_predict\": 0, \"y\": 1}, {\"PCA0\": -1.4334394170175317, \"PCA1\": 2.123274546493947, \"y_predict\": 0, \"y\": 1}, {\"PCA0\": -0.21349728318017472, \"PCA1\": -2.467877136024378, \"y_predict\": 1, \"y\": 1}, {\"PCA0\": -0.9672101062746271, \"PCA1\": 1.1462696035593147, \"y_predict\": 0, \"y\": 1}, {\"PCA0\": -1.0742503957637652, \"PCA1\": 1.0460099362303288, \"y_predict\": 0, \"y\": 1}, {\"PCA0\": -1.2427047649727856, \"PCA1\": 3.239420593069708, \"y_predict\": 0, \"y\": 1}, {\"PCA0\": 0.7874946875409383, \"PCA1\": 1.2421380232377461, \"y_predict\": 1, \"y\": 1}, {\"PCA0\": -2.514362849100433, \"PCA1\": 0.5821278650184266, \"y_predict\": 0, \"y\": 1}, {\"PCA0\": 0.30004158354203136, \"PCA1\": 0.7510720038841084, \"y_predict\": 1, \"y\": 1}, {\"PCA0\": -0.391475602122426, \"PCA1\": -0.013721548608482983, \"y_predict\": 0, \"y\": 1}, {\"PCA0\": 1.1764712285869932, \"PCA1\": -0.24392047240987108, \"y_predict\": 1, \"y\": 1}, {\"PCA0\": -0.9451162632638167, \"PCA1\": -1.0737904917901724, \"y_predict\": 0, \"y\": 1}, {\"PCA0\": 1.9490280799701736, \"PCA1\": -0.4963285771829084, \"y_predict\": 1, \"y\": 1}, {\"PCA0\": -1.9811320072373502, \"PCA1\": -0.7136089971076314, \"y_predict\": 0, \"y\": 1}, {\"PCA0\": 0.0036417813422246516, \"PCA1\": 0.3434236898637622, \"y_predict\": 1, \"y\": 1}, {\"PCA0\": -0.4200320229823886, \"PCA1\": -0.09564324399018624, \"y_predict\": 0, \"y\": 1}, {\"PCA0\": -4.2518613753082715, \"PCA1\": -3.0877080954576863, \"y_predict\": 0, \"y\": 1}, {\"PCA0\": -2.1616910703388323, \"PCA1\": -0.7632736595421736, \"y_predict\": 0, \"y\": 1}, {\"PCA0\": -0.2526240372093137, \"PCA1\": 0.881553754058651, \"y_predict\": 0, \"y\": 1}, {\"PCA0\": 1.0975254611094625, \"PCA1\": 0.21750081840685404, \"y_predict\": 1, \"y\": 1}, {\"PCA0\": 0.937914646339432, \"PCA1\": 0.5339644340961902, \"y_predict\": 1, \"y\": 1}, {\"PCA0\": 1.5350944213419477, \"PCA1\": -0.4262365275099383, \"y_predict\": 1, \"y\": 1}, {\"PCA0\": -1.0411623612446468, \"PCA1\": -0.3372918792951348, \"y_predict\": 0, \"y\": 1}, {\"PCA0\": -1.5640608692415126, \"PCA1\": 0.9854224739618803, \"y_predict\": 0, \"y\": 1}, {\"PCA0\": 0.7146968047303603, \"PCA1\": 1.0123639302788905, \"y_predict\": 1, \"y\": 1}, {\"PCA0\": 0.6980564978590528, \"PCA1\": -0.5266500467610635, \"y_predict\": 1, \"y\": 1}, {\"PCA0\": -0.10635557361899753, \"PCA1\": -1.7419173071443814, \"y_predict\": 1, \"y\": 1}, {\"PCA0\": -0.6263499248939439, \"PCA1\": -0.34973900363769755, \"y_predict\": 0, \"y\": 1}, {\"PCA0\": -0.6477085168638484, \"PCA1\": 0.33440235138777874, \"y_predict\": 0, \"y\": 1}, {\"PCA0\": -0.06968429135757032, \"PCA1\": -0.9736148039084883, \"y_predict\": 1, \"y\": 1}, {\"PCA0\": 0.15799724343838237, \"PCA1\": -0.33556525122169933, \"y_predict\": 1, \"y\": 1}, {\"PCA0\": -2.575877973585993, \"PCA1\": -0.6562112222553481, \"y_predict\": 0, \"y\": 1}, {\"PCA0\": -0.8249881499648537, \"PCA1\": 1.8350581205872987, \"y_predict\": 0, \"y\": 1}, {\"PCA0\": -0.5083803814620967, \"PCA1\": 1.3434937022725615, \"y_predict\": 0, \"y\": 1}, {\"PCA0\": 0.24190015431222978, \"PCA1\": -1.3056226664652815, \"y_predict\": 1, \"y\": 1}, {\"PCA0\": -1.727444945093137, \"PCA1\": 2.11001120972582, \"y_predict\": 0, \"y\": 1}, {\"PCA0\": -1.321291607213133, \"PCA1\": 1.9368838683362164, \"y_predict\": 0, \"y\": 1}, {\"PCA0\": -2.001720963107829, \"PCA1\": 1.1230338415013743, \"y_predict\": 0, \"y\": 1}, {\"PCA0\": -1.1386847416558799, \"PCA1\": 2.0877051471384225, \"y_predict\": 0, \"y\": 1}, {\"PCA0\": -0.9206777798919723, \"PCA1\": -0.2531518870460672, \"y_predict\": 0, \"y\": 1}, {\"PCA0\": -1.8236485123849375, \"PCA1\": -1.8077678197258191, \"y_predict\": 0, \"y\": 1}, {\"PCA0\": -0.3648734592975687, \"PCA1\": 1.2037342355044391, \"y_predict\": 0, \"y\": 1}, {\"PCA0\": -2.3771362901067508, \"PCA1\": -1.4531946774972495, \"y_predict\": 0, \"y\": 1}, {\"PCA0\": 0.7809926663558125, \"PCA1\": -0.20847192952613655, \"y_predict\": 1, \"y\": 1}, {\"PCA0\": 1.2480261623605278, \"PCA1\": 1.2287714875199853, \"y_predict\": 1, \"y\": 1}, {\"PCA0\": 0.018095176774131173, \"PCA1\": 2.085719396188025, \"y_predict\": 0, \"y\": 1}, {\"PCA0\": 0.9911323393883179, \"PCA1\": -0.16472850401427014, \"y_predict\": 1, \"y\": 1}, {\"PCA0\": 0.559431038454054, \"PCA1\": -1.4870420081251996, \"y_predict\": 1, \"y\": 1}, {\"PCA0\": -0.3643630657467676, \"PCA1\": 2.4299417120096822, \"y_predict\": 0, \"y\": 1}, {\"PCA0\": -1.9948325156958922, \"PCA1\": -1.2680441769692727, \"y_predict\": 0, \"y\": 1}, {\"PCA0\": -0.18761265935542962, \"PCA1\": -1.2323280696930157, \"y_predict\": 1, \"y\": 1}, {\"PCA0\": -0.03218738416233029, \"PCA1\": -1.1320948077257607, \"y_predict\": 1, \"y\": 1}, {\"PCA0\": -3.2675375851885833, \"PCA1\": -2.4016553718090767, \"y_predict\": 0, \"y\": 1}, {\"PCA0\": -2.0526519648983714, \"PCA1\": -2.009426524704285, \"y_predict\": 0, \"y\": 1}, {\"PCA0\": -2.7248729651864245, \"PCA1\": 0.32922580150141273, \"y_predict\": 0, \"y\": 1}, {\"PCA0\": -0.5902155729046368, \"PCA1\": -0.11247986399901849, \"y_predict\": 0, \"y\": 1}, {\"PCA0\": -1.8128707609612913, \"PCA1\": -2.0227733093758973, \"y_predict\": 0, \"y\": 1}, {\"PCA0\": 0.03301822858191607, \"PCA1\": 0.10157179898072338, \"y_predict\": 1, \"y\": 1}, {\"PCA0\": -0.5253454868535984, \"PCA1\": 2.357681479272283, \"y_predict\": 0, \"y\": 1}, {\"PCA0\": -0.4366703988145453, \"PCA1\": -0.8806013266410434, \"y_predict\": 0, \"y\": 1}, {\"PCA0\": -1.6498750843497505, \"PCA1\": -0.8024023542174314, \"y_predict\": 0, \"y\": 1}, {\"PCA0\": -0.14040793738936783, \"PCA1\": 2.544850600680589, \"y_predict\": 0, \"y\": 1}, {\"PCA0\": -0.04014018976150666, \"PCA1\": 2.4071867321726654, \"y_predict\": 0, \"y\": 1}, {\"PCA0\": -0.15830249506588637, \"PCA1\": -0.1891087508207391, \"y_predict\": 1, \"y\": 1}, {\"PCA0\": -0.11350571258126761, \"PCA1\": 1.8386250046809036, \"y_predict\": 0, \"y\": 1}, {\"PCA0\": -0.6371705231566832, \"PCA1\": 1.1615754866157546, \"y_predict\": 0, \"y\": 1}, {\"PCA0\": -1.2452863945603152, \"PCA1\": -1.089075636943325, \"y_predict\": 0, \"y\": 1}, {\"PCA0\": -4.4137738007019385, \"PCA1\": -2.7541617392869338, \"y_predict\": 0, \"y\": 1}, {\"PCA0\": -2.269682343970106, \"PCA1\": 1.130004904301967, \"y_predict\": 0, \"y\": 1}, {\"PCA0\": -2.0555870684949977, \"PCA1\": 0.28135250503781695, \"y_predict\": 0, \"y\": 1}, {\"PCA0\": -1.821436375149884, \"PCA1\": -2.1317518516316114, \"y_predict\": 0, \"y\": 1}, {\"PCA0\": -2.325049006274621, \"PCA1\": 0.8726682838346054, \"y_predict\": 0, \"y\": 1}, {\"PCA0\": -2.619804792256038, \"PCA1\": 0.17243006467546895, \"y_predict\": 0, \"y\": 1}, {\"PCA0\": -0.9864288490216605, \"PCA1\": 1.9096040279684, \"y_predict\": 0, \"y\": 1}, {\"PCA0\": 0.4043010729605074, \"PCA1\": -0.5705510109223135, \"y_predict\": 1, \"y\": 1}, {\"PCA0\": -3.0601275117553643, \"PCA1\": 1.4579604996617455, \"y_predict\": 0, \"y\": 1}, {\"PCA0\": -0.7006859832601369, \"PCA1\": 2.370988507118068, \"y_predict\": 0, \"y\": 1}, {\"PCA0\": -3.332393418322905, \"PCA1\": -0.6268232847520104, \"y_predict\": 0, \"y\": 1}, {\"PCA0\": -0.2374033102811329, \"PCA1\": 0.584609859780045, \"y_predict\": 0, \"y\": 1}, {\"PCA0\": -0.33837536386006395, \"PCA1\": -2.0197868050196037, \"y_predict\": 1, \"y\": 1}, {\"PCA0\": -0.9002967734565731, \"PCA1\": 0.8593510717333785, \"y_predict\": 0, \"y\": 1}, {\"PCA0\": -0.9599412288822584, \"PCA1\": -1.613718230611974, \"y_predict\": 0, \"y\": 1}, {\"PCA0\": -3.5157562817912305, \"PCA1\": 0.8405513847360113, \"y_predict\": 0, \"y\": 1}, {\"PCA0\": 0.7920705296316376, \"PCA1\": 2.174821352317094, \"y_predict\": 1, \"y\": 1}, {\"PCA0\": 1.3564979375491524, \"PCA1\": -0.4972113378932892, \"y_predict\": 1, \"y\": 1}, {\"PCA0\": -0.846622695771872, \"PCA1\": -2.3174402916985106, \"y_predict\": 0, \"y\": 1}, {\"PCA0\": 1.7344440194545399, \"PCA1\": 0.5581192439636822, \"y_predict\": 1, \"y\": 1}, {\"PCA0\": -2.4039226545928245, \"PCA1\": -1.6661347954317052, \"y_predict\": 0, \"y\": 1}, {\"PCA0\": 0.8029799984824504, \"PCA1\": 0.46489915619858413, \"y_predict\": 1, \"y\": 1}, {\"PCA0\": 0.6053290543922667, \"PCA1\": 1.5213115465834335, \"y_predict\": 1, \"y\": 1}, {\"PCA0\": -1.0232990168686809, \"PCA1\": -0.06871646383477621, \"y_predict\": 0, \"y\": 1}, {\"PCA0\": 0.8087212377933721, \"PCA1\": 1.1794595494095492, \"y_predict\": 1, \"y\": 1}, {\"PCA0\": 0.13620663515560064, \"PCA1\": 0.03838395742158802, \"y_predict\": 1, \"y\": 1}, {\"PCA0\": -2.3379832900080246, \"PCA1\": 0.48509305477403386, \"y_predict\": 0, \"y\": 1}, {\"PCA0\": -1.4880575147193813, \"PCA1\": 0.5306450619840568, \"y_predict\": 0, \"y\": 1}, {\"PCA0\": -0.06955027207190573, \"PCA1\": 0.15979372844269885, \"y_predict\": 1, \"y\": 1}, {\"PCA0\": 0.35033047237778353, \"PCA1\": 0.6781490688304816, \"y_predict\": 1, \"y\": 1}, {\"PCA0\": 0.992256034506817, \"PCA1\": 1.1454399811811664, \"y_predict\": 1, \"y\": 1}, {\"PCA0\": -1.5949549086673342, \"PCA1\": 0.07429456047872458, \"y_predict\": 0, \"y\": 1}, {\"PCA0\": 0.49469870691935974, \"PCA1\": -0.4819882415456033, \"y_predict\": 1, \"y\": 1}, {\"PCA0\": 1.6624367049518918, \"PCA1\": 0.015457119283429936, \"y_predict\": 1, \"y\": 1}, {\"PCA0\": -3.038006388097058, \"PCA1\": 2.2048103278440294, \"y_predict\": 0, \"y\": 1}, {\"PCA0\": -1.6625009510941784, \"PCA1\": 0.08960215489446634, \"y_predict\": 0, \"y\": 1}, {\"PCA0\": 1.1387109725384674, \"PCA1\": 1.3816081823279642, \"y_predict\": 1, \"y\": 1}, {\"PCA0\": -0.412472782549462, \"PCA1\": -0.21845129362630655, \"y_predict\": 0, \"y\": 1}, {\"PCA0\": 0.011863951019790934, \"PCA1\": 3.1169032338787668, \"y_predict\": 0, \"y\": 1}, {\"PCA0\": -3.1792538905179883, \"PCA1\": 1.3920012617486388, \"y_predict\": 0, \"y\": 1}, {\"PCA0\": 0.4126768702268616, \"PCA1\": -1.5074712488894553, \"y_predict\": 1, \"y\": 1}, {\"PCA0\": -2.047077317861259, \"PCA1\": -2.5269016286253327, \"y_predict\": 0, \"y\": 1}, {\"PCA0\": 0.3003463714196913, \"PCA1\": 2.2836827444688192, \"y_predict\": 0, \"y\": 1}, {\"PCA0\": -3.2425135818152593, \"PCA1\": -0.16600224773582475, \"y_predict\": 0, \"y\": 1}, {\"PCA0\": -3.0941813667891216, \"PCA1\": 0.5615245453886268, \"y_predict\": 0, \"y\": 1}, {\"PCA0\": 0.9838345085013828, \"PCA1\": 1.4514993838241288, \"y_predict\": 1, \"y\": 1}, {\"PCA0\": 0.7961193092520773, \"PCA1\": -0.3421760893402835, \"y_predict\": 1, \"y\": 1}, {\"PCA0\": 1.5796737079285528, \"PCA1\": 0.0017223956280635645, \"y_predict\": 1, \"y\": 1}, {\"PCA0\": -0.1198896746071299, \"PCA1\": 0.07050732253588507, \"y_predict\": 1, \"y\": 1}, {\"PCA0\": -0.24106282126251155, \"PCA1\": 0.6243296139711193, \"y_predict\": 0, \"y\": 1}, {\"PCA0\": -0.3087501849200987, \"PCA1\": 0.5953093253973718, \"y_predict\": 0, \"y\": 1}, {\"PCA0\": 0.40803756975957434, \"PCA1\": 1.2097795289577677, \"y_predict\": 1, \"y\": 1}, {\"PCA0\": -1.5782728017942194, \"PCA1\": 1.7010278036800996, \"y_predict\": 0, \"y\": 1}, {\"PCA0\": -0.8743266324739413, \"PCA1\": -1.9366226506563011, \"y_predict\": 0, \"y\": 1}, {\"PCA0\": -0.4944347504162937, \"PCA1\": -0.2858523667080993, \"y_predict\": 0, \"y\": 1}, {\"PCA0\": 0.8879761122958171, \"PCA1\": 1.6790012828095102, \"y_predict\": 1, \"y\": 1}, {\"PCA0\": -1.0913160994696307, \"PCA1\": 1.14250590306229, \"y_predict\": 0, \"y\": 1}, {\"PCA0\": -1.3992790083103857, \"PCA1\": -1.0724675355698272, \"y_predict\": 0, \"y\": 1}, {\"PCA0\": -0.42206181075480426, \"PCA1\": -1.121107620481842, \"y_predict\": 1, \"y\": 1}, {\"PCA0\": 0.8023537820571915, \"PCA1\": 1.5329277982557004, \"y_predict\": 1, \"y\": 1}, {\"PCA0\": -1.0896472686872702, \"PCA1\": 2.127613348692094, \"y_predict\": 0, \"y\": 1}, {\"PCA0\": 2.456551206152791, \"PCA1\": -0.32626503898841497, \"y_predict\": 1, \"y\": 1}, {\"PCA0\": -0.9536122413446836, \"PCA1\": -1.5687929060927346, \"y_predict\": 0, \"y\": 1}, {\"PCA0\": -2.0874690677784518, \"PCA1\": -1.6564808177878931, \"y_predict\": 0, \"y\": 1}, {\"PCA0\": -1.1731383607618222, \"PCA1\": -0.5704033871596258, \"y_predict\": 0, \"y\": 1}, {\"PCA0\": 1.1559591467338368, \"PCA1\": 0.9895286431649771, \"y_predict\": 1, \"y\": 1}, {\"PCA0\": -0.7377485700654032, \"PCA1\": 1.8982657685164326, \"y_predict\": 0, \"y\": 1}, {\"PCA0\": -3.8258740963753888, \"PCA1\": -0.8943475217413482, \"y_predict\": 0, \"y\": 1}, {\"PCA0\": -1.1744235548839745, \"PCA1\": 1.2038734888219245, \"y_predict\": 0, \"y\": 1}, {\"PCA0\": -1.7150974509853907, \"PCA1\": 1.317396265903439, \"y_predict\": 0, \"y\": 1}, {\"PCA0\": -0.10505794635052261, \"PCA1\": -0.21562038896634425, \"y_predict\": 1, \"y\": 1}, {\"PCA0\": 1.3799379690766789, \"PCA1\": -1.0026646682565468, \"y_predict\": 1, \"y\": 1}, {\"PCA0\": 0.469637909466422, \"PCA1\": -0.10552937580457636, \"y_predict\": 1, \"y\": 1}, {\"PCA0\": -0.449355311697948, \"PCA1\": -0.43271682365722736, \"y_predict\": 0, \"y\": 1}, {\"PCA0\": -0.7839743945256354, \"PCA1\": -0.5996918148674156, \"y_predict\": 0, \"y\": 1}, {\"PCA0\": -1.0912330852260959, \"PCA1\": -1.3358425024012468, \"y_predict\": 0, \"y\": 1}, {\"PCA0\": 0.11098392148987872, \"PCA1\": 1.9397012677377161, \"y_predict\": 0, \"y\": 1}, {\"PCA0\": 0.42726351113611705, \"PCA1\": 2.305237508480082, \"y_predict\": 1, \"y\": 1}, {\"PCA0\": 1.0271841056242046, \"PCA1\": 0.4112348653284626, \"y_predict\": 1, \"y\": 1}, {\"PCA0\": -0.5016424613959152, \"PCA1\": -1.6922065614090016, \"y_predict\": 1, \"y\": 1}, {\"PCA0\": -2.2586667429660325, \"PCA1\": -1.7181498864183657, \"y_predict\": 0, \"y\": 1}, {\"PCA0\": -0.5768148059584672, \"PCA1\": 0.22424401647924572, \"y_predict\": 0, \"y\": 1}, {\"PCA0\": -2.1589650419078645, \"PCA1\": 0.4396422638905551, \"y_predict\": 0, \"y\": 1}, {\"PCA0\": -2.127217850359532, \"PCA1\": -1.8271755742295075, \"y_predict\": 0, \"y\": 1}, {\"PCA0\": -3.2914317847316243, \"PCA1\": 0.7660584488779655, \"y_predict\": 0, \"y\": 1}, {\"PCA0\": -0.9453381270020371, \"PCA1\": 0.6023867824393719, \"y_predict\": 0, \"y\": 1}, {\"PCA0\": -1.6562056637231648, \"PCA1\": 1.7534474098312682, \"y_predict\": 0, \"y\": 1}, {\"PCA0\": -1.7061849629655061, \"PCA1\": 0.5793853452760177, \"y_predict\": 0, \"y\": 1}, {\"PCA0\": 1.9048739806798667, \"PCA1\": -0.9039818711349495, \"y_predict\": 1, \"y\": 1}]}}, {\"mode\": \"vega-lite\"});\n",
       "</script>"
      ],
      "text/plain": [
       "alt.HConcatChart(...)"
      ]
     },
     "execution_count": 37,
     "metadata": {},
     "output_type": "execute_result"
    }
   ],
   "source": [
    "pca = PCA(n_components=2)\n",
    "pca.fit(X_train_scaled_balanced)\n",
    "X_train_scaled_PCA = pd.DataFrame(pca.transform(X_train_scaled_balanced),columns=[\"PCA0\",\"PCA1\"])\n",
    "kmeans_PCA = KMeans(n_clusters=2,random_state=42)\n",
    "kmeans_PCA.fit(X_train_scaled_PCA)\n",
    "X_train_scaled_PCA[\"y_predict\"] = kmeans_PCA.predict(X_train_scaled_PCA)\n",
    "X_train_scaled_PCA[\"y\"] = list(y_train_balanced)\n",
    "c1 = alt.Chart(X_train_scaled_PCA).mark_circle().encode(\n",
    "    x=\"PCA0\",\n",
    "    y=\"PCA1\",\n",
    "    color=\"y:N\"\n",
    ")\n",
    "\n",
    "c2 = alt.Chart(X_train_scaled_PCA).mark_circle().encode(\n",
    "    x=\"PCA0\",\n",
    "    y=\"PCA1\",\n",
    "    color=\"y_predict:N\"\n",
    ")\n",
    "\n",
    "alt.hconcat(c1,c2)"
   ]
  },
  {
   "cell_type": "markdown",
   "metadata": {
    "cell_id": "0866942c666b453fa9d9fe4302252e5d",
    "deepnote_cell_type": "markdown",
    "tags": []
   },
   "source": [
    "Based on the plot, we can say the class 1 in **y_predict** is more likely to be the class 0 in **y**."
   ]
  },
  {
   "cell_type": "code",
   "execution_count": 38,
   "metadata": {
    "cell_id": "92eb2f902b8942f8acbf5001fd6cd8e9",
    "deepnote_cell_type": "code",
    "deepnote_to_be_reexecuted": false,
    "execution_millis": 4,
    "execution_start": 1670028434339,
    "source_hash": "39f8b1b1",
    "tags": []
   },
   "outputs": [
    {
     "name": "stdout",
     "output_type": "stream",
     "text": [
      "Training accuracy 0.7065727699530516\n"
     ]
    }
   ],
   "source": [
    "print(\"Training accuracy\",\n",
    "(X_train_scaled_PCA[\"y\"] != X_train_scaled_PCA[\"y_predict\"]).sum() / X_train_scaled_PCA.shape[0])"
   ]
  },
  {
   "cell_type": "code",
   "execution_count": 39,
   "metadata": {
    "cell_id": "ec5356914d764a30824385f749e68913",
    "deepnote_cell_type": "code",
    "deepnote_to_be_reexecuted": false,
    "execution_millis": 4,
    "execution_start": 1670028434350,
    "source_hash": "4da48516",
    "tags": []
   },
   "outputs": [
    {
     "name": "stdout",
     "output_type": "stream",
     "text": [
      "Test accuracy 0.6493506493506493\n"
     ]
    }
   ],
   "source": [
    "X_test_scaled_PCA = pd.DataFrame(pca.transform(X_test_scaled),columns=[\"PCA0\",\"PCA1\"])\n",
    "\n",
    "X_test_scaled_PCA[\"y_predict\"] = kmeans_PCA.predict(X_test_scaled_PCA)\n",
    "X_test_scaled_PCA[\"y\"] = list(y_test)\n",
    "print(\"Test accuracy\",\n",
    "(X_test_scaled_PCA[\"y\"] != X_test_scaled_PCA[\"y_predict\"]).sum() / X_test_scaled_PCA.shape[0])"
   ]
  },
  {
   "cell_type": "markdown",
   "metadata": {
    "cell_id": "c8c3f08a4d274a7eb62a54bfb048469c",
    "deepnote_cell_type": "markdown",
    "tags": []
   },
   "source": [
    "PCA is not a good strategy in this task. However, we will still store the result for future use."
   ]
  },
  {
   "cell_type": "code",
   "execution_count": 40,
   "metadata": {
    "cell_id": "fbf4739224424990aec23be1cd389595",
    "deepnote_cell_type": "code",
    "deepnote_to_be_reexecuted": false,
    "execution_millis": 27,
    "execution_start": 1670028434360,
    "source_hash": "2f1637e9",
    "tags": []
   },
   "outputs": [],
   "source": [
    "PCA_result = kmeans_PCA.predict(X_test_scaled_PCA[[\"PCA0\",\"PCA1\"]])\n",
    "PCA_acc = (X_test_scaled_PCA[\"y\"] != X_test_scaled_PCA[\"y_predict\"]).sum() / X_test_scaled_PCA.shape[0]"
   ]
  },
  {
   "cell_type": "markdown",
   "metadata": {
    "cell_id": "2d13d4e9d9ea4775a0e66e354ec854cd",
    "deepnote_cell_type": "markdown",
    "tags": []
   },
   "source": [
    "## Part 5: Logistic Regression\n",
    "\n",
    "**Extra 4**\n",
    "In this part, we will use logistic regression to predict."
   ]
  },
  {
   "cell_type": "code",
   "execution_count": 41,
   "metadata": {
    "cell_id": "79c0e055c59d497096cc2853d1effcc8",
    "deepnote_cell_type": "code",
    "deepnote_to_be_reexecuted": false,
    "execution_millis": 28,
    "execution_start": 1670028434392,
    "source_hash": "b95edfa6",
    "tags": []
   },
   "outputs": [
    {
     "name": "stderr",
     "output_type": "stream",
     "text": [
      "/shared-libs/python3.10/py/lib/python3.10/site-packages/sklearn/linear_model/_logistic.py:444: ConvergenceWarning: lbfgs failed to converge (status=1):\n",
      "STOP: TOTAL NO. of ITERATIONS REACHED LIMIT.\n",
      "\n",
      "Increase the number of iterations (max_iter) or scale the data as shown in:\n",
      "    https://scikit-learn.org/stable/modules/preprocessing.html\n",
      "Please also refer to the documentation for alternative solver options:\n",
      "    https://scikit-learn.org/stable/modules/linear_model.html#logistic-regression\n",
      "  n_iter_i = _check_optimize_result(\n"
     ]
    },
    {
     "data": {
      "text/html": [
       "<style>#sk-container-id-1 {color: black;background-color: white;}#sk-container-id-1 pre{padding: 0;}#sk-container-id-1 div.sk-toggleable {background-color: white;}#sk-container-id-1 label.sk-toggleable__label {cursor: pointer;display: block;width: 100%;margin-bottom: 0;padding: 0.3em;box-sizing: border-box;text-align: center;}#sk-container-id-1 label.sk-toggleable__label-arrow:before {content: \"▸\";float: left;margin-right: 0.25em;color: #696969;}#sk-container-id-1 label.sk-toggleable__label-arrow:hover:before {color: black;}#sk-container-id-1 div.sk-estimator:hover label.sk-toggleable__label-arrow:before {color: black;}#sk-container-id-1 div.sk-toggleable__content {max-height: 0;max-width: 0;overflow: hidden;text-align: left;background-color: #f0f8ff;}#sk-container-id-1 div.sk-toggleable__content pre {margin: 0.2em;color: black;border-radius: 0.25em;background-color: #f0f8ff;}#sk-container-id-1 input.sk-toggleable__control:checked~div.sk-toggleable__content {max-height: 200px;max-width: 100%;overflow: auto;}#sk-container-id-1 input.sk-toggleable__control:checked~label.sk-toggleable__label-arrow:before {content: \"▾\";}#sk-container-id-1 div.sk-estimator input.sk-toggleable__control:checked~label.sk-toggleable__label {background-color: #d4ebff;}#sk-container-id-1 div.sk-label input.sk-toggleable__control:checked~label.sk-toggleable__label {background-color: #d4ebff;}#sk-container-id-1 input.sk-hidden--visually {border: 0;clip: rect(1px 1px 1px 1px);clip: rect(1px, 1px, 1px, 1px);height: 1px;margin: -1px;overflow: hidden;padding: 0;position: absolute;width: 1px;}#sk-container-id-1 div.sk-estimator {font-family: monospace;background-color: #f0f8ff;border: 1px dotted black;border-radius: 0.25em;box-sizing: border-box;margin-bottom: 0.5em;}#sk-container-id-1 div.sk-estimator:hover {background-color: #d4ebff;}#sk-container-id-1 div.sk-parallel-item::after {content: \"\";width: 100%;border-bottom: 1px solid gray;flex-grow: 1;}#sk-container-id-1 div.sk-label:hover label.sk-toggleable__label {background-color: #d4ebff;}#sk-container-id-1 div.sk-serial::before {content: \"\";position: absolute;border-left: 1px solid gray;box-sizing: border-box;top: 0;bottom: 0;left: 50%;z-index: 0;}#sk-container-id-1 div.sk-serial {display: flex;flex-direction: column;align-items: center;background-color: white;padding-right: 0.2em;padding-left: 0.2em;position: relative;}#sk-container-id-1 div.sk-item {position: relative;z-index: 1;}#sk-container-id-1 div.sk-parallel {display: flex;align-items: stretch;justify-content: center;background-color: white;position: relative;}#sk-container-id-1 div.sk-item::before, #sk-container-id-1 div.sk-parallel-item::before {content: \"\";position: absolute;border-left: 1px solid gray;box-sizing: border-box;top: 0;bottom: 0;left: 50%;z-index: -1;}#sk-container-id-1 div.sk-parallel-item {display: flex;flex-direction: column;z-index: 1;position: relative;background-color: white;}#sk-container-id-1 div.sk-parallel-item:first-child::after {align-self: flex-end;width: 50%;}#sk-container-id-1 div.sk-parallel-item:last-child::after {align-self: flex-start;width: 50%;}#sk-container-id-1 div.sk-parallel-item:only-child::after {width: 0;}#sk-container-id-1 div.sk-dashed-wrapped {border: 1px dashed gray;margin: 0 0.4em 0.5em 0.4em;box-sizing: border-box;padding-bottom: 0.4em;background-color: white;}#sk-container-id-1 div.sk-label label {font-family: monospace;font-weight: bold;display: inline-block;line-height: 1.2em;}#sk-container-id-1 div.sk-label-container {text-align: center;}#sk-container-id-1 div.sk-container {/* jupyter's `normalize.less` sets `[hidden] { display: none; }` but bootstrap.min.css set `[hidden] { display: none !important; }` so we also need the `!important` here to be able to override the default hidden behavior on the sphinx rendered scikit-learn.org. See: https://github.com/scikit-learn/scikit-learn/issues/21755 */display: inline-block !important;position: relative;}#sk-container-id-1 div.sk-text-repr-fallback {display: none;}</style><div id=\"sk-container-id-1\" class=\"sk-top-container\"><div class=\"sk-text-repr-fallback\"><pre>LogisticRegression(random_state=42)</pre><b>In a Jupyter environment, please rerun this cell to show the HTML representation or trust the notebook. <br />On GitHub, the HTML representation is unable to render, please try loading this page with nbviewer.org.</b></div><div class=\"sk-container\" hidden><div class=\"sk-item\"><div class=\"sk-estimator sk-toggleable\"><input class=\"sk-toggleable__control sk-hidden--visually\" id=\"sk-estimator-id-1\" type=\"checkbox\" checked><label for=\"sk-estimator-id-1\" class=\"sk-toggleable__label sk-toggleable__label-arrow\">LogisticRegression</label><div class=\"sk-toggleable__content\"><pre>LogisticRegression(random_state=42)</pre></div></div></div></div></div>"
      ],
      "text/plain": [
       "LogisticRegression(random_state=42)"
      ]
     },
     "execution_count": 41,
     "metadata": {},
     "output_type": "execute_result"
    }
   ],
   "source": [
    "clf_LR = LogisticRegression(random_state=42)\n",
    "clf_LR.fit(X_train, y_train)"
   ]
  },
  {
   "cell_type": "markdown",
   "metadata": {
    "cell_id": "602c31980c4643f3b4766181ed094553",
    "deepnote_cell_type": "markdown",
    "tags": []
   },
   "source": [
    "Based on the error message, we need to increase the max_iter."
   ]
  },
  {
   "cell_type": "code",
   "execution_count": 42,
   "metadata": {
    "cell_id": "9e02f581d625403fb6bcfe29f58e12dd",
    "deepnote_cell_type": "code",
    "deepnote_to_be_reexecuted": false,
    "execution_millis": 29,
    "execution_start": 1670028434422,
    "source_hash": "59115f5",
    "tags": []
   },
   "outputs": [
    {
     "data": {
      "text/html": [
       "<style>#sk-container-id-2 {color: black;background-color: white;}#sk-container-id-2 pre{padding: 0;}#sk-container-id-2 div.sk-toggleable {background-color: white;}#sk-container-id-2 label.sk-toggleable__label {cursor: pointer;display: block;width: 100%;margin-bottom: 0;padding: 0.3em;box-sizing: border-box;text-align: center;}#sk-container-id-2 label.sk-toggleable__label-arrow:before {content: \"▸\";float: left;margin-right: 0.25em;color: #696969;}#sk-container-id-2 label.sk-toggleable__label-arrow:hover:before {color: black;}#sk-container-id-2 div.sk-estimator:hover label.sk-toggleable__label-arrow:before {color: black;}#sk-container-id-2 div.sk-toggleable__content {max-height: 0;max-width: 0;overflow: hidden;text-align: left;background-color: #f0f8ff;}#sk-container-id-2 div.sk-toggleable__content pre {margin: 0.2em;color: black;border-radius: 0.25em;background-color: #f0f8ff;}#sk-container-id-2 input.sk-toggleable__control:checked~div.sk-toggleable__content {max-height: 200px;max-width: 100%;overflow: auto;}#sk-container-id-2 input.sk-toggleable__control:checked~label.sk-toggleable__label-arrow:before {content: \"▾\";}#sk-container-id-2 div.sk-estimator input.sk-toggleable__control:checked~label.sk-toggleable__label {background-color: #d4ebff;}#sk-container-id-2 div.sk-label input.sk-toggleable__control:checked~label.sk-toggleable__label {background-color: #d4ebff;}#sk-container-id-2 input.sk-hidden--visually {border: 0;clip: rect(1px 1px 1px 1px);clip: rect(1px, 1px, 1px, 1px);height: 1px;margin: -1px;overflow: hidden;padding: 0;position: absolute;width: 1px;}#sk-container-id-2 div.sk-estimator {font-family: monospace;background-color: #f0f8ff;border: 1px dotted black;border-radius: 0.25em;box-sizing: border-box;margin-bottom: 0.5em;}#sk-container-id-2 div.sk-estimator:hover {background-color: #d4ebff;}#sk-container-id-2 div.sk-parallel-item::after {content: \"\";width: 100%;border-bottom: 1px solid gray;flex-grow: 1;}#sk-container-id-2 div.sk-label:hover label.sk-toggleable__label {background-color: #d4ebff;}#sk-container-id-2 div.sk-serial::before {content: \"\";position: absolute;border-left: 1px solid gray;box-sizing: border-box;top: 0;bottom: 0;left: 50%;z-index: 0;}#sk-container-id-2 div.sk-serial {display: flex;flex-direction: column;align-items: center;background-color: white;padding-right: 0.2em;padding-left: 0.2em;position: relative;}#sk-container-id-2 div.sk-item {position: relative;z-index: 1;}#sk-container-id-2 div.sk-parallel {display: flex;align-items: stretch;justify-content: center;background-color: white;position: relative;}#sk-container-id-2 div.sk-item::before, #sk-container-id-2 div.sk-parallel-item::before {content: \"\";position: absolute;border-left: 1px solid gray;box-sizing: border-box;top: 0;bottom: 0;left: 50%;z-index: -1;}#sk-container-id-2 div.sk-parallel-item {display: flex;flex-direction: column;z-index: 1;position: relative;background-color: white;}#sk-container-id-2 div.sk-parallel-item:first-child::after {align-self: flex-end;width: 50%;}#sk-container-id-2 div.sk-parallel-item:last-child::after {align-self: flex-start;width: 50%;}#sk-container-id-2 div.sk-parallel-item:only-child::after {width: 0;}#sk-container-id-2 div.sk-dashed-wrapped {border: 1px dashed gray;margin: 0 0.4em 0.5em 0.4em;box-sizing: border-box;padding-bottom: 0.4em;background-color: white;}#sk-container-id-2 div.sk-label label {font-family: monospace;font-weight: bold;display: inline-block;line-height: 1.2em;}#sk-container-id-2 div.sk-label-container {text-align: center;}#sk-container-id-2 div.sk-container {/* jupyter's `normalize.less` sets `[hidden] { display: none; }` but bootstrap.min.css set `[hidden] { display: none !important; }` so we also need the `!important` here to be able to override the default hidden behavior on the sphinx rendered scikit-learn.org. See: https://github.com/scikit-learn/scikit-learn/issues/21755 */display: inline-block !important;position: relative;}#sk-container-id-2 div.sk-text-repr-fallback {display: none;}</style><div id=\"sk-container-id-2\" class=\"sk-top-container\"><div class=\"sk-text-repr-fallback\"><pre>LogisticRegression(max_iter=500, random_state=42)</pre><b>In a Jupyter environment, please rerun this cell to show the HTML representation or trust the notebook. <br />On GitHub, the HTML representation is unable to render, please try loading this page with nbviewer.org.</b></div><div class=\"sk-container\" hidden><div class=\"sk-item\"><div class=\"sk-estimator sk-toggleable\"><input class=\"sk-toggleable__control sk-hidden--visually\" id=\"sk-estimator-id-2\" type=\"checkbox\" checked><label for=\"sk-estimator-id-2\" class=\"sk-toggleable__label sk-toggleable__label-arrow\">LogisticRegression</label><div class=\"sk-toggleable__content\"><pre>LogisticRegression(max_iter=500, random_state=42)</pre></div></div></div></div></div>"
      ],
      "text/plain": [
       "LogisticRegression(max_iter=500, random_state=42)"
      ]
     },
     "execution_count": 42,
     "metadata": {},
     "output_type": "execute_result"
    }
   ],
   "source": [
    "clf_LR = LogisticRegression(max_iter=500,random_state=42)\n",
    "clf_LR.fit(X_train, y_train)"
   ]
  },
  {
   "cell_type": "code",
   "execution_count": 43,
   "metadata": {
    "cell_id": "1a8077a4875c44629a42ed2ac287cb77",
    "deepnote_cell_type": "code",
    "deepnote_to_be_reexecuted": false,
    "execution_millis": 6,
    "execution_start": 1670028434453,
    "source_hash": "f1efa50d",
    "tags": []
   },
   "outputs": [
    {
     "name": "stdout",
     "output_type": "stream",
     "text": [
      "Training Score:  0.7703583061889251\n",
      "Test Score:  0.7467532467532467\n"
     ]
    }
   ],
   "source": [
    "print(\"Training Score: \", clf_LR.score(X_train, y_train))\n",
    "print(\"Test Score: \", clf_LR.score(X_test, y_test))"
   ]
  },
  {
   "cell_type": "markdown",
   "metadata": {
    "cell_id": "853d3d6547eb4f5ab43ebd0bbaa6c809",
    "deepnote_cell_type": "markdown",
    "tags": []
   },
   "source": [
    "Logistic regression is not overfitting the data. So we will store the result for future use."
   ]
  },
  {
   "cell_type": "code",
   "execution_count": 44,
   "metadata": {
    "cell_id": "aea1a9ffa2754b96a8dfb69a317d0a4e",
    "deepnote_cell_type": "code",
    "deepnote_to_be_reexecuted": false,
    "execution_millis": 26,
    "execution_start": 1670028434463,
    "source_hash": "216800f8",
    "tags": []
   },
   "outputs": [],
   "source": [
    "LR_result = clf_LR.predict(X_test)\n",
    "LR_acc = clf_LR.score(X_test, y_test)"
   ]
  },
  {
   "cell_type": "markdown",
   "metadata": {
    "cell_id": "ae75b27213bf4458b73f0357e3861718",
    "deepnote_cell_type": "markdown",
    "tags": []
   },
   "source": [
    "What's more, we can plot the coefficient for each feature."
   ]
  },
  {
   "cell_type": "code",
   "execution_count": 45,
   "metadata": {
    "cell_id": "090c2a610c174a2cb8e3c3fdf4216fa8",
    "deepnote_cell_type": "code",
    "deepnote_to_be_reexecuted": false,
    "execution_millis": 15,
    "execution_start": 1670028434502,
    "source_hash": "fdcee8d1",
    "tags": []
   },
   "outputs": [
    {
     "data": {
      "text/html": [
       "\n",
       "<div id=\"altair-viz-54e30552c11e4e4d9d741559b6b3d38e\"></div>\n",
       "<script type=\"text/javascript\">\n",
       "  var VEGA_DEBUG = (typeof VEGA_DEBUG == \"undefined\") ? {} : VEGA_DEBUG;\n",
       "  (function(spec, embedOpt){\n",
       "    let outputDiv = document.currentScript.previousElementSibling;\n",
       "    if (outputDiv.id !== \"altair-viz-54e30552c11e4e4d9d741559b6b3d38e\") {\n",
       "      outputDiv = document.getElementById(\"altair-viz-54e30552c11e4e4d9d741559b6b3d38e\");\n",
       "    }\n",
       "    const paths = {\n",
       "      \"vega\": \"https://cdn.jsdelivr.net/npm//vega@5?noext\",\n",
       "      \"vega-lib\": \"https://cdn.jsdelivr.net/npm//vega-lib?noext\",\n",
       "      \"vega-lite\": \"https://cdn.jsdelivr.net/npm//vega-lite@4.17.0?noext\",\n",
       "      \"vega-embed\": \"https://cdn.jsdelivr.net/npm//vega-embed@6?noext\",\n",
       "    };\n",
       "\n",
       "    function maybeLoadScript(lib, version) {\n",
       "      var key = `${lib.replace(\"-\", \"\")}_version`;\n",
       "      return (VEGA_DEBUG[key] == version) ?\n",
       "        Promise.resolve(paths[lib]) :\n",
       "        new Promise(function(resolve, reject) {\n",
       "          var s = document.createElement('script');\n",
       "          document.getElementsByTagName(\"head\")[0].appendChild(s);\n",
       "          s.async = true;\n",
       "          s.onload = () => {\n",
       "            VEGA_DEBUG[key] = version;\n",
       "            return resolve(paths[lib]);\n",
       "          };\n",
       "          s.onerror = () => reject(`Error loading script: ${paths[lib]}`);\n",
       "          s.src = paths[lib];\n",
       "        });\n",
       "    }\n",
       "\n",
       "    function showError(err) {\n",
       "      outputDiv.innerHTML = `<div class=\"error\" style=\"color:red;\">${err}</div>`;\n",
       "      throw err;\n",
       "    }\n",
       "\n",
       "    function displayChart(vegaEmbed) {\n",
       "      vegaEmbed(outputDiv, spec, embedOpt)\n",
       "        .catch(err => showError(`Javascript Error: ${err.message}<br>This usually means there's a typo in your chart specification. See the javascript console for the full traceback.`));\n",
       "    }\n",
       "\n",
       "    if(typeof define === \"function\" && define.amd) {\n",
       "      requirejs.config({paths});\n",
       "      require([\"vega-embed\"], displayChart, err => showError(`Error loading script: ${err.message}`));\n",
       "    } else {\n",
       "      maybeLoadScript(\"vega\", \"5\")\n",
       "        .then(() => maybeLoadScript(\"vega-lite\", \"4.17.0\"))\n",
       "        .then(() => maybeLoadScript(\"vega-embed\", \"6\"))\n",
       "        .catch(showError)\n",
       "        .then(() => displayChart(vegaEmbed));\n",
       "    }\n",
       "  })({\"config\": {\"view\": {\"continuousWidth\": 400, \"continuousHeight\": 300}}, \"data\": {\"name\": \"data-ec2a0949927148cb43e5c2e604c15084\"}, \"mark\": \"bar\", \"encoding\": {\"tooltip\": [{\"field\": \"feature\", \"type\": \"nominal\"}, {\"field\": \"coef\", \"type\": \"quantitative\"}], \"x\": {\"field\": \"coef\", \"type\": \"quantitative\"}, \"y\": {\"field\": \"feature\", \"type\": \"nominal\"}}, \"$schema\": \"https://vega.github.io/schema/vega-lite/v4.17.0.json\", \"datasets\": {\"data-ec2a0949927148cb43e5c2e604c15084\": [{\"feature\": \"Pregnancies\", \"coef\": 0.06434540897882662}, {\"feature\": \"Glucose\", \"coef\": 0.034098233524401195}, {\"feature\": \"BloodPressure\", \"coef\": -0.013879696036828674}, {\"feature\": \"SkinThickness\", \"coef\": 0.003289663738166474}, {\"feature\": \"Insulin\", \"coef\": -0.001804109906606706}, {\"feature\": \"BMI\", \"coef\": 0.10262337075562843}, {\"feature\": \"DiabetesPedigreeFunction\", \"coef\": 0.6269993701729308}, {\"feature\": \"Age\", \"coef\": 0.037089972881679284}]}}, {\"mode\": \"vega-lite\"});\n",
       "</script>"
      ],
      "text/plain": [
       "alt.Chart(...)"
      ]
     },
     "execution_count": 45,
     "metadata": {},
     "output_type": "execute_result"
    }
   ],
   "source": [
    "_df = pd.DataFrame({\"feature\": list(X_train.columns), \"coef\": clf_LR.coef_[0]})\n",
    "alt.Chart(_df).mark_bar().encode(\n",
    "    y=\"feature\",\n",
    "    x=\"coef\",\n",
    "    tooltip=[\"feature\",\"coef\"]\n",
    ")"
   ]
  },
  {
   "cell_type": "markdown",
   "metadata": {
    "cell_id": "3f0187c544224ef7a23c55ab7431688e",
    "deepnote_cell_type": "markdown",
    "tags": []
   },
   "source": [
    "Based on the figure, it seems DiabetesPedigreeFunction is the most important feature, which doesn't match the conclusion from Random Forest and Decision Tree. The reason is that the dataset we use to train Logistic Regression is unscaled data. The range will effect the coefficient. To view the importance of each feature, we should use scaled data."
   ]
  },
  {
   "cell_type": "code",
   "execution_count": 46,
   "metadata": {
    "cell_id": "970ecd3076ec490aaa72e056d34405d4",
    "deepnote_cell_type": "code",
    "deepnote_to_be_reexecuted": false,
    "execution_millis": 30,
    "execution_start": 1670028434520,
    "source_hash": "f35c046e",
    "tags": []
   },
   "outputs": [
    {
     "name": "stdout",
     "output_type": "stream",
     "text": [
      "Training Score:  0.7703583061889251\n",
      "Test Score:  0.7532467532467533\n"
     ]
    },
    {
     "data": {
      "text/html": [
       "\n",
       "<div id=\"altair-viz-2890fb760084485e8a1dae2b4d8e3b08\"></div>\n",
       "<script type=\"text/javascript\">\n",
       "  var VEGA_DEBUG = (typeof VEGA_DEBUG == \"undefined\") ? {} : VEGA_DEBUG;\n",
       "  (function(spec, embedOpt){\n",
       "    let outputDiv = document.currentScript.previousElementSibling;\n",
       "    if (outputDiv.id !== \"altair-viz-2890fb760084485e8a1dae2b4d8e3b08\") {\n",
       "      outputDiv = document.getElementById(\"altair-viz-2890fb760084485e8a1dae2b4d8e3b08\");\n",
       "    }\n",
       "    const paths = {\n",
       "      \"vega\": \"https://cdn.jsdelivr.net/npm//vega@5?noext\",\n",
       "      \"vega-lib\": \"https://cdn.jsdelivr.net/npm//vega-lib?noext\",\n",
       "      \"vega-lite\": \"https://cdn.jsdelivr.net/npm//vega-lite@4.17.0?noext\",\n",
       "      \"vega-embed\": \"https://cdn.jsdelivr.net/npm//vega-embed@6?noext\",\n",
       "    };\n",
       "\n",
       "    function maybeLoadScript(lib, version) {\n",
       "      var key = `${lib.replace(\"-\", \"\")}_version`;\n",
       "      return (VEGA_DEBUG[key] == version) ?\n",
       "        Promise.resolve(paths[lib]) :\n",
       "        new Promise(function(resolve, reject) {\n",
       "          var s = document.createElement('script');\n",
       "          document.getElementsByTagName(\"head\")[0].appendChild(s);\n",
       "          s.async = true;\n",
       "          s.onload = () => {\n",
       "            VEGA_DEBUG[key] = version;\n",
       "            return resolve(paths[lib]);\n",
       "          };\n",
       "          s.onerror = () => reject(`Error loading script: ${paths[lib]}`);\n",
       "          s.src = paths[lib];\n",
       "        });\n",
       "    }\n",
       "\n",
       "    function showError(err) {\n",
       "      outputDiv.innerHTML = `<div class=\"error\" style=\"color:red;\">${err}</div>`;\n",
       "      throw err;\n",
       "    }\n",
       "\n",
       "    function displayChart(vegaEmbed) {\n",
       "      vegaEmbed(outputDiv, spec, embedOpt)\n",
       "        .catch(err => showError(`Javascript Error: ${err.message}<br>This usually means there's a typo in your chart specification. See the javascript console for the full traceback.`));\n",
       "    }\n",
       "\n",
       "    if(typeof define === \"function\" && define.amd) {\n",
       "      requirejs.config({paths});\n",
       "      require([\"vega-embed\"], displayChart, err => showError(`Error loading script: ${err.message}`));\n",
       "    } else {\n",
       "      maybeLoadScript(\"vega\", \"5\")\n",
       "        .then(() => maybeLoadScript(\"vega-lite\", \"4.17.0\"))\n",
       "        .then(() => maybeLoadScript(\"vega-embed\", \"6\"))\n",
       "        .catch(showError)\n",
       "        .then(() => displayChart(vegaEmbed));\n",
       "    }\n",
       "  })({\"config\": {\"view\": {\"continuousWidth\": 400, \"continuousHeight\": 300}}, \"data\": {\"name\": \"data-7a4fef014aaff73d0972164fad5c515b\"}, \"mark\": \"bar\", \"encoding\": {\"tooltip\": [{\"field\": \"feature\", \"type\": \"nominal\"}, {\"field\": \"coef\", \"type\": \"quantitative\"}], \"x\": {\"field\": \"coef\", \"type\": \"quantitative\"}, \"y\": {\"field\": \"feature\", \"type\": \"nominal\"}}, \"$schema\": \"https://vega.github.io/schema/vega-lite/v4.17.0.json\", \"datasets\": {\"data-7a4fef014aaff73d0972164fad5c515b\": [{\"feature\": \"Pregnancies\", \"coef\": 0.21255832656458146}, {\"feature\": \"Glucose\", \"coef\": 1.0711323063584446}, {\"feature\": \"BloodPressure\", \"coef\": -0.2478415409014392}, {\"feature\": \"SkinThickness\", \"coef\": 0.04569683324571525}, {\"feature\": \"Insulin\", \"coef\": -0.20082660350303605}, {\"feature\": \"BMI\", \"coef\": 0.7781515135997503}, {\"feature\": \"DiabetesPedigreeFunction\", \"coef\": 0.23060672851451663}, {\"feature\": \"Age\", \"coef\": 0.4210017519121533}]}}, {\"mode\": \"vega-lite\"});\n",
       "</script>"
      ],
      "text/plain": [
       "alt.Chart(...)"
      ]
     },
     "execution_count": 46,
     "metadata": {},
     "output_type": "execute_result"
    }
   ],
   "source": [
    "clf_LR_scaled = LogisticRegression(max_iter=500,random_state=42)\n",
    "clf_LR_scaled.fit(X_train_scaled, y_train)\n",
    "print(\"Training Score: \", clf_LR_scaled.score(X_train_scaled, y_train))\n",
    "print(\"Test Score: \", clf_LR_scaled.score(X_test_scaled, y_test))\n",
    "_df = pd.DataFrame({\"feature\": list(X_train_scaled.columns), \"coef\": clf_LR_scaled.coef_[0]})\n",
    "alt.Chart(_df).mark_bar().encode(\n",
    "    y=\"feature\",\n",
    "    x=\"coef\",\n",
    "    tooltip=[\"feature\",\"coef\"]\n",
    ")"
   ]
  },
  {
   "cell_type": "markdown",
   "metadata": {
    "cell_id": "34114fa5e01841bbb7cc6757a236d494",
    "deepnote_cell_type": "markdown",
    "tags": []
   },
   "source": [
    "Now it's clear that Glucose, BMI, and Age are the top 3 important features."
   ]
  },
  {
   "cell_type": "markdown",
   "metadata": {
    "cell_id": "1befb387f49146e183b90c2a13a9f126",
    "deepnote_cell_type": "markdown",
    "tags": []
   },
   "source": [
    "## Part 6: Neural Network\n",
    "\n",
    "**Extra 5**\n",
    "Nowadays, neural network, or deep learning, is a common strategy to do prediction. In this part, I will use pytorch to build a very simple fully connected neural network to predict."
   ]
  },
  {
   "cell_type": "markdown",
   "metadata": {
    "cell_id": "da126cfffb7445c6bd764bc241fbce26",
    "deepnote_cell_type": "markdown",
    "tags": []
   },
   "source": [
    "The following code has no reference since I'm very familiar with Pytorch.\n",
    "This neural network contains 5 linear layers, the first four activation function is ReLU, and the last one is sigmoid. I would like to use the output of the network, a length 2 tensor, to represent the probability that the input is belong to each class."
   ]
  },
  {
   "cell_type": "code",
   "execution_count": 47,
   "metadata": {
    "cell_id": "51a751e739854022b0f88fb91e6be2cb",
    "deepnote_cell_type": "code",
    "deepnote_to_be_reexecuted": false,
    "execution_millis": 1,
    "execution_start": 1670028434555,
    "source_hash": "197e548",
    "tags": []
   },
   "outputs": [],
   "source": [
    "class simple_net(nn.Module):\n",
    "    def __init__(self):\n",
    "        super(simple_net, self).__init__()\n",
    "\n",
    "        self.linear1 = nn.Linear(8,32)\n",
    "        self.linear2 = nn.Linear(32,32)\n",
    "        self.linear3 = nn.Linear(32,16)\n",
    "        self.linear4 = nn.Linear(16,4)\n",
    "        self.linear5 = nn.Linear(4,2)\n",
    "\n",
    "        self.relu = nn.ReLU()\n",
    "        self.last = nn.Sigmoid()\n",
    "\n",
    "    def forward(self, x):\n",
    "        out = self.relu(self.linear1(x))\n",
    "        out = self.relu(self.linear2(out))\n",
    "        out = self.relu(self.linear3(out))\n",
    "        out = self.relu(self.linear4(out))\n",
    "        out = self.last(self.linear5(out))\n",
    "\n",
    "        return out"
   ]
  },
  {
   "cell_type": "markdown",
   "metadata": {
    "cell_id": "a9f8a178c7b34d9b944cb4553ab065ec",
    "deepnote_cell_type": "markdown",
    "tags": []
   },
   "source": [
    "Since our data is stored as a dataframe, we need to write our own dataset class. The code is copied from https://androidkt.com/load-pandas-dataframe-using-dataset-and-dataloader-in-pytorch/"
   ]
  },
  {
   "cell_type": "code",
   "execution_count": 48,
   "metadata": {
    "cell_id": "44842823c5334d8eba9bcd29fc8ab88e",
    "deepnote_cell_type": "code",
    "deepnote_to_be_reexecuted": false,
    "execution_millis": 0,
    "execution_start": 1670028434563,
    "source_hash": "80e4de58",
    "tags": []
   },
   "outputs": [],
   "source": [
    "class MyDataset(Dataset):\n",
    " \n",
    "  def __init__(self, dfX, y):\n",
    " \n",
    "    x=dfX.values\n",
    " \n",
    "    self.x_train=torch.tensor(x).float()\n",
    "    self.y_train=torch.tensor(y).float()\n",
    " \n",
    "  def __len__(self):\n",
    "    return len(self.y_train)\n",
    "   \n",
    "  def __getitem__(self,idx):\n",
    "    return self.x_train[idx],self.y_train[idx]"
   ]
  },
  {
   "cell_type": "markdown",
   "metadata": {
    "cell_id": "a67fc1b432ae4d7a956886be3d5aca16",
    "deepnote_cell_type": "markdown",
    "tags": []
   },
   "source": [
    "Note that the output of the neural network is a length 2 tensor, so we will use OneHotEncoder to encode each class into a length 2 array."
   ]
  },
  {
   "cell_type": "code",
   "execution_count": 49,
   "metadata": {
    "cell_id": "f4fec1dab99e49de9644e90ae46eefe8",
    "deepnote_cell_type": "code",
    "deepnote_to_be_reexecuted": false,
    "execution_millis": 3,
    "execution_start": 1670028434589,
    "source_hash": "c65f776d",
    "tags": []
   },
   "outputs": [],
   "source": [
    "encoder = OneHotEncoder()\n",
    "encoder.fit(pd.DataFrame(y_train))\n",
    "y_train_onehot = encoder.transform(pd.DataFrame(y_train)).toarray()\n",
    "y_test_onehot = encoder.transform(pd.DataFrame(y_test)).toarray()"
   ]
  },
  {
   "cell_type": "markdown",
   "metadata": {
    "cell_id": "4a7db7df5a08401f9e5dc12164a40743",
    "deepnote_cell_type": "markdown",
    "tags": []
   },
   "source": [
    "Now it's time to train the neural network. Note that Deepnote has no GPU available for Education plan, so I use cpu to train the network. The loss I use is BCELoss (Binary Cross Entropy between the target and the input probabilities.)"
   ]
  },
  {
   "cell_type": "code",
   "execution_count": 50,
   "metadata": {
    "cell_id": "2ef130b242224a31aac08e82b3717fde",
    "deepnote_cell_type": "code",
    "deepnote_to_be_reexecuted": false,
    "execution_millis": 9297,
    "execution_start": 1670028434597,
    "source_hash": "b74f02c1",
    "tags": []
   },
   "outputs": [
    {
     "data": {
      "image/png": "[encoded data removed]",
      "text/plain": [
       "<Figure size 640x480 with 1 Axes>"
      ]
     },
     "metadata": {
      "image/png": {
       "height": 413,
       "width": 565
      }
     },
     "output_type": "display_data"
    }
   ],
   "source": [
    "device = 'cpu'\n",
    "batch_size = 32\n",
    "epoch = 300\n",
    "dataset = MyDataset(X_train_scaled, y_train_onehot)\n",
    "train_dataset = DataLoader(dataset, batch_size=batch_size, shuffle=True, drop_last=True)\n",
    "net = simple_net().to(device)\n",
    "criterion = nn.BCELoss()\n",
    "train_loss_list = []\n",
    "test_loss_list = []\n",
    "optimizer = torch.optim.Adam(net.parameters())\n",
    "for i in range(epoch):\n",
    "    total_loss = 0\n",
    "    net.train()\n",
    "    for j, (_x, _y) in enumerate(train_dataset):\n",
    "        _y_predicted = net(_x)\n",
    "        loss = criterion(_y_predicted, _y)\n",
    "        loss /= batch_size\n",
    "        optimizer.zero_grad()\n",
    "        loss.backward()\n",
    "        optimizer.step()\n",
    "        total_loss += loss.item()\n",
    "\n",
    "    net.eval()\n",
    "    test_predicted = net(torch.tensor(X_test_scaled.values).float())\n",
    "    test_loss = criterion(test_predicted, torch.tensor(y_test_onehot).float())\n",
    "\n",
    "    train_loss_list.append(total_loss / (j+1))\n",
    "    test_loss_list.append(test_loss.item() / len(y_test_onehot))\n",
    "\n",
    "plt.plot(train_loss_list)\n",
    "plt.plot(test_loss_list)\n",
    "plt.legend(['Train','Test'])\n",
    "plt.show()"
   ]
  },
  {
   "cell_type": "markdown",
   "metadata": {
    "cell_id": "d85b364fa14441daa4862a7977a52909",
    "deepnote_cell_type": "markdown",
    "tags": []
   },
   "source": [
    "Based on the figure, epoch 130 is a good stop point."
   ]
  },
  {
   "cell_type": "code",
   "execution_count": 57,
   "metadata": {
    "cell_id": "58242a03a83146a8bf7921091f6145ec",
    "deepnote_cell_type": "code",
    "deepnote_to_be_reexecuted": false,
    "execution_millis": 6960,
    "execution_start": 1670028550428,
    "source_hash": "bda8e04e",
    "tags": []
   },
   "outputs": [
    {
     "data": {
      "image/png": "[encoded data removed]",
      "text/plain": [
       "<Figure size 640x480 with 1 Axes>"
      ]
     },
     "metadata": {
      "image/png": {
       "height": 413,
       "width": 573
      }
     },
     "output_type": "display_data"
    },
    {
     "name": "stdout",
     "output_type": "stream",
     "text": [
      "Test accuracy:  0.7402597402597403\n"
     ]
    }
   ],
   "source": [
    "dataset = MyDataset(X_train_scaled, y_train_onehot)\n",
    "train_dataset = DataLoader(dataset, batch_size=batch_size, shuffle=True, drop_last=True)\n",
    "net = simple_net().to(device)\n",
    "criterion = nn.BCELoss()\n",
    "train_loss_list = []\n",
    "test_loss_list = []\n",
    "optimizer = torch.optim.Adam(net.parameters())\n",
    "for i in range(130):\n",
    "    total_loss = 0\n",
    "    net.train()\n",
    "    for j, (_x, _y) in enumerate(train_dataset):\n",
    "        _y_predicted = net(_x)\n",
    "        loss = criterion(_y_predicted, _y)\n",
    "        loss /= batch_size\n",
    "        optimizer.zero_grad()\n",
    "        loss.backward()\n",
    "        optimizer.step()\n",
    "        total_loss += loss.item()\n",
    "\n",
    "    net.eval()\n",
    "    test_predicted = net(torch.tensor(X_test_scaled.values).float())\n",
    "    test_loss = criterion(test_predicted, torch.tensor(y_test_onehot).float())\n",
    "\n",
    "    train_loss_list.append(total_loss / (j+1))\n",
    "    test_loss_list.append(test_loss.item() / len(y_test_onehot))\n",
    "plt.plot(train_loss_list)\n",
    "plt.plot(test_loss_list)\n",
    "plt.legend(['Train','Test'])\n",
    "plt.show()\n",
    "\n",
    "NN_result = net(torch.tensor(X_test_scaled.values).float())\n",
    "\n",
    "NN_result = encoder.inverse_transform([[1,0] if i[0] > i[1] else [0,1] for i in NN_result]).flatten()\n",
    "NN_acc = (NN_result == y_test).sum() / len(NN_result)\n",
    "print(\"Test accuracy: \", NN_acc)"
   ]
  },
  {
   "cell_type": "markdown",
   "metadata": {
    "cell_id": "38dce99665184691b0359f17a1e9b136",
    "deepnote_cell_type": "markdown",
    "tags": []
   },
   "source": [
    "## Part 7: Ensemble Model\n",
    "\n",
    "**Extra 6**\n",
    "In this part, I will ensemble all models I create before, give them weights based on the accuracy. Then I will calculate the result by multiply the weights to their prediction. If the final score is greater than 0.5, then we believe the prediction is 1. This idea comes from CS 178."
   ]
  },
  {
   "cell_type": "markdown",
   "metadata": {
    "cell_id": "882b79b3dc4c4899b39ac74be34ea59c",
    "deepnote_cell_type": "markdown",
    "tags": []
   },
   "source": [
    "The following is the accuracy for each model. We normalize the array to get the weight for each model."
   ]
  },
  {
   "cell_type": "code",
   "execution_count": 58,
   "metadata": {
    "cell_id": "cf09cfa35aaa4023b9a7b82c7d627e2e",
    "deepnote_cell_type": "code",
    "deepnote_to_be_reexecuted": false,
    "execution_millis": 1,
    "execution_start": 1670028562432,
    "source_hash": "a629817f",
    "tags": []
   },
   "outputs": [],
   "source": [
    "acc_array = np.array([DT_acc, LR_acc, RF_acc, kmeans_balanced_acc, PCA_acc, NN_acc])\n",
    "acc_array = acc_array / sum(acc_array)"
   ]
  },
  {
   "cell_type": "markdown",
   "metadata": {
    "cell_id": "6c3173813bdb4821a56beda7faa8e2f2",
    "deepnote_cell_type": "markdown",
    "tags": []
   },
   "source": [
    "The following is the predict result for each model."
   ]
  },
  {
   "cell_type": "code",
   "execution_count": 59,
   "metadata": {
    "cell_id": "b5aba1c193114fa884abf138946222d1",
    "deepnote_cell_type": "code",
    "deepnote_to_be_reexecuted": false,
    "execution_millis": 5,
    "execution_start": 1670028563704,
    "source_hash": "a3e27f39",
    "tags": []
   },
   "outputs": [],
   "source": [
    "result_array = np.array([DT_result.astype(int), LR_result, RF_result.astype(int), kmeans_balanced_result, PCA_result, NN_result])"
   ]
  },
  {
   "cell_type": "markdown",
   "metadata": {
    "cell_id": "f5e5ab75618149a499797c05639f69b6",
    "deepnote_cell_type": "markdown",
    "tags": []
   },
   "source": [
    "The ensemble result is using each model's weight times the result and then sum up."
   ]
  },
  {
   "cell_type": "code",
   "execution_count": 60,
   "metadata": {
    "cell_id": "497d3ba2503a481ea9fb2e269cf45632",
    "deepnote_cell_type": "code",
    "deepnote_to_be_reexecuted": false,
    "execution_millis": 0,
    "execution_start": 1670028565477,
    "source_hash": "fb5f845e",
    "tags": []
   },
   "outputs": [],
   "source": [
    "ensemble_result = np.multiply(acc_array.reshape(-1,1), result_array)"
   ]
  },
  {
   "cell_type": "markdown",
   "metadata": {
    "cell_id": "2dd8800b80f54cf3b7a8f7476007f8f6",
    "deepnote_cell_type": "markdown",
    "tags": []
   },
   "source": [
    "The last thing we should do is compare the result with a threshold we set: 0.5. If score is larger than 0.5, then we believe it's class 1, otherwise, it's class 0."
   ]
  },
  {
   "cell_type": "code",
   "execution_count": 61,
   "metadata": {
    "cell_id": "7d54c9f5d2c541b5a50db0a1be5ea9e7",
    "deepnote_cell_type": "code",
    "deepnote_to_be_reexecuted": false,
    "execution_millis": 1,
    "execution_start": 1670028566810,
    "source_hash": "51c51d8b",
    "tags": []
   },
   "outputs": [],
   "source": [
    "ensemble_result = (ensemble_result.sum(axis=0) >= 0.5).astype(int)"
   ]
  },
  {
   "cell_type": "markdown",
   "metadata": {
    "cell_id": "2e717c3c9fa24b7f882afa3abd1313da",
    "deepnote_cell_type": "markdown",
    "tags": []
   },
   "source": [
    "Here is the final accuracy."
   ]
  },
  {
   "cell_type": "code",
   "execution_count": 62,
   "metadata": {
    "cell_id": "c8d5dd0af7134d74a2b19303035dce5a",
    "deepnote_cell_type": "code",
    "deepnote_to_be_reexecuted": false,
    "execution_millis": 6,
    "execution_start": 1670028568507,
    "source_hash": "a4c89fde",
    "tags": []
   },
   "outputs": [
    {
     "data": {
      "text/plain": [
       "0.7987012987012987"
      ]
     },
     "execution_count": 62,
     "metadata": {},
     "output_type": "execute_result"
    }
   ],
   "source": [
    "ensemble_acc = (ensemble_result == y_test).sum() / len(y_test)\n",
    "ensemble_acc"
   ]
  },
  {
   "cell_type": "markdown",
   "metadata": {
    "cell_id": "4f2474c6141f494e85724648b03c5182",
    "deepnote_cell_type": "markdown",
    "tags": []
   },
   "source": [
    "We put all model's accuracy together and make a barchart to have a clear view of the performance of each model."
   ]
  },
  {
   "cell_type": "code",
   "execution_count": 82,
   "metadata": {
    "cell_id": "ec34c9e0382b494f87d6829de24af85f",
    "deepnote_cell_type": "code",
    "deepnote_to_be_reexecuted": false,
    "execution_millis": 97,
    "execution_start": 1670029597429,
    "source_hash": "3e71b0e",
    "tags": []
   },
   "outputs": [
    {
     "data": {
      "text/html": [
       "\n",
       "<div id=\"altair-viz-708b5f2ad72f4b799bffb0b20f9c8bb3\"></div>\n",
       "<script type=\"text/javascript\">\n",
       "  var VEGA_DEBUG = (typeof VEGA_DEBUG == \"undefined\") ? {} : VEGA_DEBUG;\n",
       "  (function(spec, embedOpt){\n",
       "    let outputDiv = document.currentScript.previousElementSibling;\n",
       "    if (outputDiv.id !== \"altair-viz-708b5f2ad72f4b799bffb0b20f9c8bb3\") {\n",
       "      outputDiv = document.getElementById(\"altair-viz-708b5f2ad72f4b799bffb0b20f9c8bb3\");\n",
       "    }\n",
       "    const paths = {\n",
       "      \"vega\": \"https://cdn.jsdelivr.net/npm//vega@5?noext\",\n",
       "      \"vega-lib\": \"https://cdn.jsdelivr.net/npm//vega-lib?noext\",\n",
       "      \"vega-lite\": \"https://cdn.jsdelivr.net/npm//vega-lite@4.17.0?noext\",\n",
       "      \"vega-embed\": \"https://cdn.jsdelivr.net/npm//vega-embed@6?noext\",\n",
       "    };\n",
       "\n",
       "    function maybeLoadScript(lib, version) {\n",
       "      var key = `${lib.replace(\"-\", \"\")}_version`;\n",
       "      return (VEGA_DEBUG[key] == version) ?\n",
       "        Promise.resolve(paths[lib]) :\n",
       "        new Promise(function(resolve, reject) {\n",
       "          var s = document.createElement('script');\n",
       "          document.getElementsByTagName(\"head\")[0].appendChild(s);\n",
       "          s.async = true;\n",
       "          s.onload = () => {\n",
       "            VEGA_DEBUG[key] = version;\n",
       "            return resolve(paths[lib]);\n",
       "          };\n",
       "          s.onerror = () => reject(`Error loading script: ${paths[lib]}`);\n",
       "          s.src = paths[lib];\n",
       "        });\n",
       "    }\n",
       "\n",
       "    function showError(err) {\n",
       "      outputDiv.innerHTML = `<div class=\"error\" style=\"color:red;\">${err}</div>`;\n",
       "      throw err;\n",
       "    }\n",
       "\n",
       "    function displayChart(vegaEmbed) {\n",
       "      vegaEmbed(outputDiv, spec, embedOpt)\n",
       "        .catch(err => showError(`Javascript Error: ${err.message}<br>This usually means there's a typo in your chart specification. See the javascript console for the full traceback.`));\n",
       "    }\n",
       "\n",
       "    if(typeof define === \"function\" && define.amd) {\n",
       "      requirejs.config({paths});\n",
       "      require([\"vega-embed\"], displayChart, err => showError(`Error loading script: ${err.message}`));\n",
       "    } else {\n",
       "      maybeLoadScript(\"vega\", \"5\")\n",
       "        .then(() => maybeLoadScript(\"vega-lite\", \"4.17.0\"))\n",
       "        .then(() => maybeLoadScript(\"vega-embed\", \"6\"))\n",
       "        .catch(showError)\n",
       "        .then(() => displayChart(vegaEmbed));\n",
       "    }\n",
       "  })({\"config\": {\"view\": {\"continuousWidth\": 400, \"continuousHeight\": 300}}, \"data\": {\"name\": \"data-f0d0829f5ad3f597f8e53f7567a5d3b7\"}, \"mark\": \"bar\", \"encoding\": {\"color\": {\"condition\": {\"field\": \"Model\", \"type\": \"nominal\", \"selection\": \"selector003\"}, \"value\": \"lightgrey\"}, \"opacity\": {\"condition\": {\"value\": 1, \"selection\": \"selector003\"}, \"value\": 0.2}, \"tooltip\": [{\"field\": \"Model\", \"type\": \"nominal\"}, {\"field\": \"Accuracy\", \"type\": \"quantitative\"}], \"x\": {\"field\": \"Model\", \"sort\": \"y\", \"type\": \"nominal\"}, \"y\": {\"field\": \"Accuracy\", \"scale\": {\"domain\": [0.5, 0.8]}, \"type\": \"quantitative\"}}, \"selection\": {\"selector003\": {\"type\": \"single\", \"fields\": [\"Model\"], \"bind\": \"legend\"}}, \"$schema\": \"https://vega.github.io/schema/vega-lite/v4.17.0.json\", \"datasets\": {\"data-f0d0829f5ad3f597f8e53f7567a5d3b7\": [{\"Model\": \"Decision Tree\", \"Accuracy\": 0.7727272727272727}, {\"Model\": \"Random Forest\", \"Accuracy\": 0.7857142857142857}, {\"Model\": \"Kmeans\", \"Accuracy\": 0.7142857142857143}, {\"Model\": \"Kmeans with PCA\", \"Accuracy\": 0.6493506493506493}, {\"Model\": \"Logistic Regression\", \"Accuracy\": 0.7467532467532467}, {\"Model\": \"Neural Network\", \"Accuracy\": 0.7402597402597403}, {\"Model\": \"Ensemble\", \"Accuracy\": 0.7987012987012987}]}}, {\"mode\": \"vega-lite\"});\n",
       "</script>"
      ],
      "text/plain": [
       "alt.Chart(...)"
      ]
     },
     "execution_count": 82,
     "metadata": {},
     "output_type": "execute_result"
    }
   ],
   "source": [
    "df_acc = pd.DataFrame({\"Model\":[\"Decision Tree\",\"Random Forest\",\"Kmeans\",\n",
    "                                \"Kmeans with PCA\",\"Logistic Regression\",\n",
    "                                \"Neural Network\",\"Ensemble\"],\n",
    "                        \"Accuracy\":[DT_acc, RF_acc,kmeans_balanced_acc,PCA_acc,LR_acc,NN_acc,ensemble_acc]})\n",
    "\n",
    "sel = alt.selection_single(fields=[\"Model\"], bind=\"legend\")\n",
    "alt.Chart(df_acc).mark_bar().encode(\n",
    "    x=alt.X(\"Model\",sort=\"y\"),\n",
    "    y=alt.Y(\"Accuracy\",scale=alt.Scale(domain=[0.5, 0.8])),\n",
    "    color=alt.condition(sel,\"Model\", alt.value(\"lightgrey\")),\n",
    "    opacity=alt.condition(sel, alt.value(1), alt.value(0.2)),\n",
    "    tooltip=[\"Model\",\"Accuracy\"]\n",
    ").add_selection(sel)"
   ]
  },
  {
   "cell_type": "markdown",
   "metadata": {
    "cell_id": "e19fafe07ea5479b905abba8d185861d",
    "deepnote_cell_type": "markdown",
    "tags": []
   },
   "source": [
    "## Summary\n",
    "\n",
    "In this project, we build six models to predict positive of diabetes or not. The top 3 important feature to do prediction is Glucose, BMI, and Age. Five models get accuracy over 70%, and Decision Tree and Random Forest get over 75%. We also ensemble these models and get 79.87% accuracy, which is better than any single model."
   ]
  },
  {
   "cell_type": "markdown",
   "metadata": {
    "cell_id": "9e955bfcf0f64e319eb88643d4b58a66",
    "deepnote_cell_type": "markdown",
    "tags": []
   },
   "source": [
    "## References\n",
    "\n",
    "Your code above should include references.  Here is some additional space for references."
   ]
  },
  {
   "cell_type": "markdown",
   "metadata": {
    "cell_id": "563838391ebe4f23961f542d3c18c61a",
    "deepnote_cell_type": "markdown",
    "tags": []
   },
   "source": [
    "* What is the source of your dataset(s)?\n",
    "\n",
    "The dataset is from Kaggle: https://www.kaggle.com/datasets/mathchi/diabetes-data-set"
   ]
  },
  {
   "cell_type": "markdown",
   "metadata": {
    "cell_id": "6bec15c1407240d59bb83295776377d5",
    "deepnote_cell_type": "markdown",
    "deepnote_to_be_reexecuted": false,
    "execution_millis": 0,
    "execution_start": 1652916033453,
    "source_hash": "aa45eba7",
    "tags": []
   },
   "source": [
    "* List any other references that you found helpful.\n",
    "\n",
    "[Math 10 Notes](https://christopherdavisuci.github.io/UCI-Math-10-F22/intro.html)\n",
    "Hands-on Machine Learning with Scikit-Learn, Keras & TensorFlow, by Aurelien Geron\n",
    "[Load Pandas Dataframe using Dataset and DataLoader in PyTorch](https://androidkt.com/load-pandas-dataframe-using-dataset-and-dataloader-in-pytorch/)"
   ]
  },
  {
   "cell_type": "markdown",
   "metadata": {
    "cell_id": "b47faa1872414a1db743f780da215ebc",
    "deepnote_cell_type": "markdown",
    "tags": []
   },
   "source": [
    "## Submission\n",
    "\n",
    "Using the Share button at the top right, **enable Comment privileges** for anyone with a link to the project. Then submit that link on Canvas."
   ]
  },
  {
   "cell_type": "markdown",
   "metadata": {
    "created_in_deepnote_cell": true,
    "deepnote_cell_type": "markdown",
    "tags": []
   },
   "source": [
    "<a style='text-decoration:none;line-height:16px;display:flex;color:#5B5B62;padding:10px;justify-content:end;' href='https://deepnote.com?utm_source=created-in-deepnote-cell&projectId=e4ec2d9b-0a4f-47c6-a480-b7b5a104e368' target=\"_blank\">\n",
    "<img alt='Created in deepnote.com' style='display:inline;max-height:16px;margin:0px;margin-right:7.5px;' src='data:image/svg+xml;base64,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' > </img>\n",
    "Created in <span style='font-weight:600;margin-left:4px;'>Deepnote</span></a>"
   ]
  }
 ],
 "metadata": {
  "deepnote": {
   "is_reactive": false
  },
  "deepnote_execution_queue": [],
  "deepnote_notebook_id": "6a19e687aade4754875607d84ca71552",
  "deepnote_persisted_session": {
   "createdAt": "2022-12-03T01:45:20.805Z"
  },
  "kernelspec": {
   "display_name": "Python 3 (ipykernel)",
   "language": "python",
   "name": "python3"
  },
  "language_info": {
   "codemirror_mode": {
    "name": "ipython",
    "version": 3
   },
   "file_extension": ".py",
   "mimetype": "text/x-python",
   "name": "python",
   "nbconvert_exporter": "python",
   "pygments_lexer": "ipython3",
   "version": "3.9.13"
  }
 },
 "nbformat": 4,
 "nbformat_minor": 4
}
