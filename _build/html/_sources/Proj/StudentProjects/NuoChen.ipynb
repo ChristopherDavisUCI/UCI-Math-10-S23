{
 "cells": [
  {
   "cell_type": "markdown",
   "metadata": {
    "cell_id": "a08c25ea666c4be7900ba17acf1c2189",
    "deepnote_cell_type": "markdown",
    "tags": []
   },
   "source": [
    "# Predict the Chance of admission to Graduate School\n",
    "\n",
    "Author: Nuo Chen\n",
    "\n",
    "Course Project, UC Irvine, Math 10, F22"
   ]
  },
  {
   "cell_type": "markdown",
   "metadata": {
    "cell_id": "739aa60e83a343ba9a544ced4143bbcc",
    "deepnote_cell_type": "markdown",
    "tags": []
   },
   "source": [
    "## Introduction\n",
    "\n",
    "Now is the application season for the graduate school, and students are always worried about if they can be admitted to the graduate school. I want to find out a model to predict the chance of admission by analyzing the admission data set."
   ]
  },
  {
   "cell_type": "markdown",
   "metadata": {
    "cell_id": "ee018d8d427741619a79e387efdf4281",
    "deepnote_cell_type": "markdown",
    "tags": []
   },
   "source": [
    "## Preparing the Data"
   ]
  },
  {
   "cell_type": "code",
   "execution_count": 1,
   "metadata": {
    "cell_id": "1fd8d695f2224e01b1bd96808346754f",
    "deepnote_cell_type": "code",
    "deepnote_to_be_reexecuted": false,
    "execution_millis": 143,
    "execution_start": 1670287804944,
    "source_hash": "46e6bd77",
    "tags": []
   },
   "outputs": [],
   "source": [
    "import pandas as pd\n",
    "import altair as alt"
   ]
  },
  {
   "cell_type": "code",
   "execution_count": 2,
   "metadata": {
    "cell_id": "2301f5705fc949d0b9f35eb4b24881b3",
    "deepnote_cell_type": "code",
    "deepnote_to_be_reexecuted": false,
    "execution_millis": 5,
    "execution_start": 1670287805121,
    "source_hash": "3fc82e19",
    "tags": []
   },
   "outputs": [
    {
     "data": {
      "application/vnd.deepnote.dataframe.v3+json": {
       "column_count": 9,
       "columns": [
        {
         "dtype": "int64",
         "name": "Serial No.",
         "stats": {
          "histogram": [
           {
            "bin_end": 1.4,
            "bin_start": 1,
            "count": 1
           },
           {
            "bin_end": 1.8,
            "bin_start": 1.4,
            "count": 0
           },
           {
            "bin_end": 2.2,
            "bin_start": 1.8,
            "count": 1
           },
           {
            "bin_end": 2.6,
            "bin_start": 2.2,
            "count": 0
           },
           {
            "bin_end": 3,
            "bin_start": 2.6,
            "count": 0
           },
           {
            "bin_end": 3.4000000000000004,
            "bin_start": 3,
            "count": 1
           },
           {
            "bin_end": 3.8000000000000003,
            "bin_start": 3.4000000000000004,
            "count": 0
           },
           {
            "bin_end": 4.2,
            "bin_start": 3.8000000000000003,
            "count": 1
           },
           {
            "bin_end": 4.6,
            "bin_start": 4.2,
            "count": 0
           },
           {
            "bin_end": 5,
            "bin_start": 4.6,
            "count": 1
           }
          ],
          "max": "5",
          "min": "1",
          "nan_count": 0,
          "unique_count": 5
         }
        },
        {
         "dtype": "int64",
         "name": "GRE Score",
         "stats": {
          "histogram": [
           {
            "bin_end": 316.3,
            "bin_start": 314,
            "count": 2
           },
           {
            "bin_end": 318.6,
            "bin_start": 316.3,
            "count": 0
           },
           {
            "bin_end": 320.9,
            "bin_start": 318.6,
            "count": 0
           },
           {
            "bin_end": 323.2,
            "bin_start": 320.9,
            "count": 1
           },
           {
            "bin_end": 325.5,
            "bin_start": 323.2,
            "count": 1
           },
           {
            "bin_end": 327.8,
            "bin_start": 325.5,
            "count": 0
           },
           {
            "bin_end": 330.1,
            "bin_start": 327.8,
            "count": 0
           },
           {
            "bin_end": 332.4,
            "bin_start": 330.1,
            "count": 0
           },
           {
            "bin_end": 334.7,
            "bin_start": 332.4,
            "count": 0
           },
           {
            "bin_end": 337,
            "bin_start": 334.7,
            "count": 1
           }
          ],
          "max": "337",
          "min": "314",
          "nan_count": 0,
          "unique_count": 5
         }
        },
        {
         "dtype": "int64",
         "name": "TOEFL Score",
         "stats": {
          "histogram": [
           {
            "bin_end": 104.5,
            "bin_start": 103,
            "count": 2
           },
           {
            "bin_end": 106,
            "bin_start": 104.5,
            "count": 0
           },
           {
            "bin_end": 107.5,
            "bin_start": 106,
            "count": 1
           },
           {
            "bin_end": 109,
            "bin_start": 107.5,
            "count": 0
           },
           {
            "bin_end": 110.5,
            "bin_start": 109,
            "count": 1
           },
           {
            "bin_end": 112,
            "bin_start": 110.5,
            "count": 0
           },
           {
            "bin_end": 113.5,
            "bin_start": 112,
            "count": 0
           },
           {
            "bin_end": 115,
            "bin_start": 113.5,
            "count": 0
           },
           {
            "bin_end": 116.5,
            "bin_start": 115,
            "count": 0
           },
           {
            "bin_end": 118,
            "bin_start": 116.5,
            "count": 1
           }
          ],
          "max": "118",
          "min": "103",
          "nan_count": 0,
          "unique_count": 5
         }
        },
        {
         "dtype": "int64",
         "name": "University Rating",
         "stats": {
          "histogram": [
           {
            "bin_end": 2.2,
            "bin_start": 2,
            "count": 1
           },
           {
            "bin_end": 2.4,
            "bin_start": 2.2,
            "count": 0
           },
           {
            "bin_end": 2.6,
            "bin_start": 2.4,
            "count": 0
           },
           {
            "bin_end": 2.8,
            "bin_start": 2.6,
            "count": 0
           },
           {
            "bin_end": 3,
            "bin_start": 2.8,
            "count": 0
           },
           {
            "bin_end": 3.2,
            "bin_start": 3,
            "count": 2
           },
           {
            "bin_end": 3.4000000000000004,
            "bin_start": 3.2,
            "count": 0
           },
           {
            "bin_end": 3.6,
            "bin_start": 3.4000000000000004,
            "count": 0
           },
           {
            "bin_end": 3.8,
            "bin_start": 3.6,
            "count": 0
           },
           {
            "bin_end": 4,
            "bin_start": 3.8,
            "count": 2
           }
          ],
          "max": "4",
          "min": "2",
          "nan_count": 0,
          "unique_count": 3
         }
        },
        {
         "dtype": "float64",
         "name": "SOP",
         "stats": {
          "histogram": [
           {
            "bin_end": 2.25,
            "bin_start": 2,
            "count": 1
           },
           {
            "bin_end": 2.5,
            "bin_start": 2.25,
            "count": 0
           },
           {
            "bin_end": 2.75,
            "bin_start": 2.5,
            "count": 0
           },
           {
            "bin_end": 3,
            "bin_start": 2.75,
            "count": 0
           },
           {
            "bin_end": 3.25,
            "bin_start": 3,
            "count": 1
           },
           {
            "bin_end": 3.5,
            "bin_start": 3.25,
            "count": 0
           },
           {
            "bin_end": 3.75,
            "bin_start": 3.5,
            "count": 1
           },
           {
            "bin_end": 4,
            "bin_start": 3.75,
            "count": 0
           },
           {
            "bin_end": 4.25,
            "bin_start": 4,
            "count": 1
           },
           {
            "bin_end": 4.5,
            "bin_start": 4.25,
            "count": 1
           }
          ],
          "max": "4.5",
          "min": "2.0",
          "nan_count": 0,
          "unique_count": 5
         }
        },
        {
         "dtype": "float64",
         "name": "LOR ",
         "stats": {
          "histogram": [
           {
            "bin_end": 2.7,
            "bin_start": 2.5,
            "count": 1
           },
           {
            "bin_end": 2.9,
            "bin_start": 2.7,
            "count": 0
           },
           {
            "bin_end": 3.1,
            "bin_start": 2.9,
            "count": 1
           },
           {
            "bin_end": 3.3,
            "bin_start": 3.1,
            "count": 0
           },
           {
            "bin_end": 3.5,
            "bin_start": 3.3,
            "count": 0
           },
           {
            "bin_end": 3.7,
            "bin_start": 3.5,
            "count": 1
           },
           {
            "bin_end": 3.9000000000000004,
            "bin_start": 3.7,
            "count": 0
           },
           {
            "bin_end": 4.1,
            "bin_start": 3.9000000000000004,
            "count": 0
           },
           {
            "bin_end": 4.3,
            "bin_start": 4.1,
            "count": 0
           },
           {
            "bin_end": 4.5,
            "bin_start": 4.3,
            "count": 2
           }
          ],
          "max": "4.5",
          "min": "2.5",
          "nan_count": 0,
          "unique_count": 4
         }
        },
        {
         "dtype": "float64",
         "name": "CGPA",
         "stats": {
          "histogram": [
           {
            "bin_end": 8.165,
            "bin_start": 8,
            "count": 1
           },
           {
            "bin_end": 8.33,
            "bin_start": 8.165,
            "count": 1
           },
           {
            "bin_end": 8.495000000000001,
            "bin_start": 8.33,
            "count": 0
           },
           {
            "bin_end": 8.66,
            "bin_start": 8.495000000000001,
            "count": 0
           },
           {
            "bin_end": 8.825,
            "bin_start": 8.66,
            "count": 1
           },
           {
            "bin_end": 8.99,
            "bin_start": 8.825,
            "count": 1
           },
           {
            "bin_end": 9.155000000000001,
            "bin_start": 8.99,
            "count": 0
           },
           {
            "bin_end": 9.32,
            "bin_start": 9.155000000000001,
            "count": 0
           },
           {
            "bin_end": 9.485,
            "bin_start": 9.32,
            "count": 0
           },
           {
            "bin_end": 9.65,
            "bin_start": 9.485,
            "count": 1
           }
          ],
          "max": "9.65",
          "min": "8.0",
          "nan_count": 0,
          "unique_count": 5
         }
        },
        {
         "dtype": "int64",
         "name": "Research",
         "stats": {
          "histogram": [
           {
            "bin_end": 0.1,
            "bin_start": 0,
            "count": 1
           },
           {
            "bin_end": 0.2,
            "bin_start": 0.1,
            "count": 0
           },
           {
            "bin_end": 0.30000000000000004,
            "bin_start": 0.2,
            "count": 0
           },
           {
            "bin_end": 0.4,
            "bin_start": 0.30000000000000004,
            "count": 0
           },
           {
            "bin_end": 0.5,
            "bin_start": 0.4,
            "count": 0
           },
           {
            "bin_end": 0.6000000000000001,
            "bin_start": 0.5,
            "count": 0
           },
           {
            "bin_end": 0.7000000000000001,
            "bin_start": 0.6000000000000001,
            "count": 0
           },
           {
            "bin_end": 0.8,
            "bin_start": 0.7000000000000001,
            "count": 0
           },
           {
            "bin_end": 0.9,
            "bin_start": 0.8,
            "count": 0
           },
           {
            "bin_end": 1,
            "bin_start": 0.9,
            "count": 4
           }
          ],
          "max": "1",
          "min": "0",
          "nan_count": 0,
          "unique_count": 2
         }
        },
        {
         "dtype": "float64",
         "name": "Chance of Admit ",
         "stats": {
          "histogram": [
           {
            "bin_end": 0.677,
            "bin_start": 0.65,
            "count": 1
           },
           {
            "bin_end": 0.7040000000000001,
            "bin_start": 0.677,
            "count": 0
           },
           {
            "bin_end": 0.7310000000000001,
            "bin_start": 0.7040000000000001,
            "count": 1
           },
           {
            "bin_end": 0.758,
            "bin_start": 0.7310000000000001,
            "count": 0
           },
           {
            "bin_end": 0.785,
            "bin_start": 0.758,
            "count": 1
           },
           {
            "bin_end": 0.812,
            "bin_start": 0.785,
            "count": 1
           },
           {
            "bin_end": 0.8390000000000001,
            "bin_start": 0.812,
            "count": 0
           },
           {
            "bin_end": 0.8660000000000001,
            "bin_start": 0.8390000000000001,
            "count": 0
           },
           {
            "bin_end": 0.893,
            "bin_start": 0.8660000000000001,
            "count": 0
           },
           {
            "bin_end": 0.92,
            "bin_start": 0.893,
            "count": 1
           }
          ],
          "max": "0.92",
          "min": "0.65",
          "nan_count": 0,
          "unique_count": 5
         }
        },
        {
         "dtype": "int64",
         "name": "_deepnote_index_column"
        }
       ],
       "row_count": 5,
       "rows": [
        {
         "CGPA": "9.65",
         "Chance of Admit ": "0.92",
         "GRE Score": "337",
         "LOR ": "4.5",
         "Research": "1",
         "SOP": "4.5",
         "Serial No.": "1",
         "TOEFL Score": "118",
         "University Rating": "4",
         "_deepnote_index_column": "0"
        },
        {
         "CGPA": "8.87",
         "Chance of Admit ": "0.76",
         "GRE Score": "324",
         "LOR ": "4.5",
         "Research": "1",
         "SOP": "4.0",
         "Serial No.": "2",
         "TOEFL Score": "107",
         "University Rating": "4",
         "_deepnote_index_column": "1"
        },
        {
         "CGPA": "8.0",
         "Chance of Admit ": "0.72",
         "GRE Score": "316",
         "LOR ": "3.5",
         "Research": "1",
         "SOP": "3.0",
         "Serial No.": "3",
         "TOEFL Score": "104",
         "University Rating": "3",
         "_deepnote_index_column": "2"
        },
        {
         "CGPA": "8.67",
         "Chance of Admit ": "0.8",
         "GRE Score": "322",
         "LOR ": "2.5",
         "Research": "1",
         "SOP": "3.5",
         "Serial No.": "4",
         "TOEFL Score": "110",
         "University Rating": "3",
         "_deepnote_index_column": "3"
        },
        {
         "CGPA": "8.21",
         "Chance of Admit ": "0.65",
         "GRE Score": "314",
         "LOR ": "3.0",
         "Research": "0",
         "SOP": "2.0",
         "Serial No.": "5",
         "TOEFL Score": "103",
         "University Rating": "2",
         "_deepnote_index_column": "4"
        }
       ]
      },
      "text/html": [
       "<div>\n",
       "<style scoped>\n",
       "    .dataframe tbody tr th:only-of-type {\n",
       "        vertical-align: middle;\n",
       "    }\n",
       "\n",
       "    .dataframe tbody tr th {\n",
       "        vertical-align: top;\n",
       "    }\n",
       "\n",
       "    .dataframe thead th {\n",
       "        text-align: right;\n",
       "    }\n",
       "</style>\n",
       "<table border=\"1\" class=\"dataframe\">\n",
       "  <thead>\n",
       "    <tr style=\"text-align: right;\">\n",
       "      <th></th>\n",
       "      <th>Serial No.</th>\n",
       "      <th>GRE Score</th>\n",
       "      <th>TOEFL Score</th>\n",
       "      <th>University Rating</th>\n",
       "      <th>SOP</th>\n",
       "      <th>LOR</th>\n",
       "      <th>CGPA</th>\n",
       "      <th>Research</th>\n",
       "      <th>Chance of Admit</th>\n",
       "    </tr>\n",
       "  </thead>\n",
       "  <tbody>\n",
       "    <tr>\n",
       "      <th>0</th>\n",
       "      <td>1</td>\n",
       "      <td>337</td>\n",
       "      <td>118</td>\n",
       "      <td>4</td>\n",
       "      <td>4.5</td>\n",
       "      <td>4.5</td>\n",
       "      <td>9.65</td>\n",
       "      <td>1</td>\n",
       "      <td>0.92</td>\n",
       "    </tr>\n",
       "    <tr>\n",
       "      <th>1</th>\n",
       "      <td>2</td>\n",
       "      <td>324</td>\n",
       "      <td>107</td>\n",
       "      <td>4</td>\n",
       "      <td>4.0</td>\n",
       "      <td>4.5</td>\n",
       "      <td>8.87</td>\n",
       "      <td>1</td>\n",
       "      <td>0.76</td>\n",
       "    </tr>\n",
       "    <tr>\n",
       "      <th>2</th>\n",
       "      <td>3</td>\n",
       "      <td>316</td>\n",
       "      <td>104</td>\n",
       "      <td>3</td>\n",
       "      <td>3.0</td>\n",
       "      <td>3.5</td>\n",
       "      <td>8.00</td>\n",
       "      <td>1</td>\n",
       "      <td>0.72</td>\n",
       "    </tr>\n",
       "    <tr>\n",
       "      <th>3</th>\n",
       "      <td>4</td>\n",
       "      <td>322</td>\n",
       "      <td>110</td>\n",
       "      <td>3</td>\n",
       "      <td>3.5</td>\n",
       "      <td>2.5</td>\n",
       "      <td>8.67</td>\n",
       "      <td>1</td>\n",
       "      <td>0.80</td>\n",
       "    </tr>\n",
       "    <tr>\n",
       "      <th>4</th>\n",
       "      <td>5</td>\n",
       "      <td>314</td>\n",
       "      <td>103</td>\n",
       "      <td>2</td>\n",
       "      <td>2.0</td>\n",
       "      <td>3.0</td>\n",
       "      <td>8.21</td>\n",
       "      <td>0</td>\n",
       "      <td>0.65</td>\n",
       "    </tr>\n",
       "  </tbody>\n",
       "</table>\n",
       "</div>"
      ],
      "text/plain": [
       "   Serial No.  GRE Score  TOEFL Score  University Rating  SOP  LOR   CGPA  \\\n",
       "0           1        337          118                  4  4.5   4.5  9.65   \n",
       "1           2        324          107                  4  4.0   4.5  8.87   \n",
       "2           3        316          104                  3  3.0   3.5  8.00   \n",
       "3           4        322          110                  3  3.5   2.5  8.67   \n",
       "4           5        314          103                  2  2.0   3.0  8.21   \n",
       "\n",
       "   Research  Chance of Admit   \n",
       "0         1              0.92  \n",
       "1         1              0.76  \n",
       "2         1              0.72  \n",
       "3         1              0.80  \n",
       "4         0              0.65  "
      ]
     },
     "execution_count": 2,
     "metadata": {},
     "output_type": "execute_result"
    }
   ],
   "source": [
    "#import the dataset and have a brief view about the first 5 rows\n",
    "df = pd.read_csv(\"adm_data.csv\")\n",
    "df.head()"
   ]
  },
  {
   "cell_type": "markdown",
   "metadata": {
    "cell_id": "ab36f8badf644a82bc5e2748a2566164",
    "deepnote_cell_type": "markdown",
    "tags": []
   },
   "source": [
    "There are total 9 columns of this dataset, here is the description of these columns:\n",
    "\n",
    "Serial No.: This is the serial number of each student, it represents different students.\n",
    "GRE Score: The score of Graduate Record Examination, out of 340.\n",
    "TOFEL Score: The score of Test of English as a Foreign Language, out of 120.\n",
    "University Rating: Rating of the undergraduate university, out of 5.\n",
    "SOP: Statement of Purpose, out of 5.\n",
    "LOP: Letter of Recommendation, out of 5.\n",
    "CGPA: Undergradute GPA, out of 10.\n",
    "Research: Research experience, 0 or 1 (0 represents no experience while 1 represents student has experience).\n",
    "Chance of Admit: The probability to be admitted to graduate school."
   ]
  },
  {
   "cell_type": "code",
   "execution_count": 3,
   "metadata": {
    "cell_id": "92a9a9408585404ebc0b9c59f0ec8d2a",
    "deepnote_cell_type": "code",
    "deepnote_to_be_reexecuted": false,
    "execution_millis": 5,
    "execution_start": 1670287805160,
    "source_hash": "25d43fa0",
    "tags": []
   },
   "outputs": [
    {
     "data": {
      "text/plain": [
       "Index(['Serial No.', 'GRE Score', 'TOEFL Score', 'University Rating', 'SOP',\n",
       "       'LOR ', 'CGPA', 'Research', 'Chance of Admit '],\n",
       "      dtype='object')"
      ]
     },
     "execution_count": 3,
     "metadata": {},
     "output_type": "execute_result"
    }
   ],
   "source": [
    "df.columns"
   ]
  },
  {
   "cell_type": "markdown",
   "metadata": {
    "cell_id": "8ffdf50b3a7041b3aa08e4ab838d8533",
    "deepnote_cell_type": "markdown",
    "tags": []
   },
   "source": [
    "We will not use 'Serial No.' column to analyze the data, so we will delete this column, and also drop any missing data in the data set."
   ]
  },
  {
   "cell_type": "code",
   "execution_count": 4,
   "metadata": {
    "cell_id": "54b02bed359d4ae78d364e8dac280c0a",
    "deepnote_cell_type": "code",
    "deepnote_to_be_reexecuted": false,
    "execution_millis": 0,
    "execution_start": 1670287805161,
    "source_hash": "4314666a",
    "tags": []
   },
   "outputs": [],
   "source": [
    "df = df.dropna()"
   ]
  },
  {
   "cell_type": "code",
   "execution_count": 5,
   "metadata": {
    "cell_id": "82ca2d5881804081965b41d5a021e39f",
    "deepnote_cell_type": "code",
    "deepnote_to_be_reexecuted": false,
    "execution_millis": 5,
    "execution_start": 1670287805161,
    "source_hash": "d8934fa3",
    "tags": []
   },
   "outputs": [
    {
     "data": {
      "application/vnd.deepnote.dataframe.v3+json": {
       "column_count": 8,
       "columns": [
        {
         "dtype": "int64",
         "name": "GRE Score",
         "stats": {
          "histogram": [
           {
            "bin_end": 316.3,
            "bin_start": 314,
            "count": 2
           },
           {
            "bin_end": 318.6,
            "bin_start": 316.3,
            "count": 0
           },
           {
            "bin_end": 320.9,
            "bin_start": 318.6,
            "count": 0
           },
           {
            "bin_end": 323.2,
            "bin_start": 320.9,
            "count": 1
           },
           {
            "bin_end": 325.5,
            "bin_start": 323.2,
            "count": 1
           },
           {
            "bin_end": 327.8,
            "bin_start": 325.5,
            "count": 0
           },
           {
            "bin_end": 330.1,
            "bin_start": 327.8,
            "count": 0
           },
           {
            "bin_end": 332.4,
            "bin_start": 330.1,
            "count": 0
           },
           {
            "bin_end": 334.7,
            "bin_start": 332.4,
            "count": 0
           },
           {
            "bin_end": 337,
            "bin_start": 334.7,
            "count": 1
           }
          ],
          "max": "337",
          "min": "314",
          "nan_count": 0,
          "unique_count": 5
         }
        },
        {
         "dtype": "int64",
         "name": "TOEFL Score",
         "stats": {
          "histogram": [
           {
            "bin_end": 104.5,
            "bin_start": 103,
            "count": 2
           },
           {
            "bin_end": 106,
            "bin_start": 104.5,
            "count": 0
           },
           {
            "bin_end": 107.5,
            "bin_start": 106,
            "count": 1
           },
           {
            "bin_end": 109,
            "bin_start": 107.5,
            "count": 0
           },
           {
            "bin_end": 110.5,
            "bin_start": 109,
            "count": 1
           },
           {
            "bin_end": 112,
            "bin_start": 110.5,
            "count": 0
           },
           {
            "bin_end": 113.5,
            "bin_start": 112,
            "count": 0
           },
           {
            "bin_end": 115,
            "bin_start": 113.5,
            "count": 0
           },
           {
            "bin_end": 116.5,
            "bin_start": 115,
            "count": 0
           },
           {
            "bin_end": 118,
            "bin_start": 116.5,
            "count": 1
           }
          ],
          "max": "118",
          "min": "103",
          "nan_count": 0,
          "unique_count": 5
         }
        },
        {
         "dtype": "int64",
         "name": "University Rating",
         "stats": {
          "histogram": [
           {
            "bin_end": 2.2,
            "bin_start": 2,
            "count": 1
           },
           {
            "bin_end": 2.4,
            "bin_start": 2.2,
            "count": 0
           },
           {
            "bin_end": 2.6,
            "bin_start": 2.4,
            "count": 0
           },
           {
            "bin_end": 2.8,
            "bin_start": 2.6,
            "count": 0
           },
           {
            "bin_end": 3,
            "bin_start": 2.8,
            "count": 0
           },
           {
            "bin_end": 3.2,
            "bin_start": 3,
            "count": 2
           },
           {
            "bin_end": 3.4000000000000004,
            "bin_start": 3.2,
            "count": 0
           },
           {
            "bin_end": 3.6,
            "bin_start": 3.4000000000000004,
            "count": 0
           },
           {
            "bin_end": 3.8,
            "bin_start": 3.6,
            "count": 0
           },
           {
            "bin_end": 4,
            "bin_start": 3.8,
            "count": 2
           }
          ],
          "max": "4",
          "min": "2",
          "nan_count": 0,
          "unique_count": 3
         }
        },
        {
         "dtype": "float64",
         "name": "SOP",
         "stats": {
          "histogram": [
           {
            "bin_end": 2.25,
            "bin_start": 2,
            "count": 1
           },
           {
            "bin_end": 2.5,
            "bin_start": 2.25,
            "count": 0
           },
           {
            "bin_end": 2.75,
            "bin_start": 2.5,
            "count": 0
           },
           {
            "bin_end": 3,
            "bin_start": 2.75,
            "count": 0
           },
           {
            "bin_end": 3.25,
            "bin_start": 3,
            "count": 1
           },
           {
            "bin_end": 3.5,
            "bin_start": 3.25,
            "count": 0
           },
           {
            "bin_end": 3.75,
            "bin_start": 3.5,
            "count": 1
           },
           {
            "bin_end": 4,
            "bin_start": 3.75,
            "count": 0
           },
           {
            "bin_end": 4.25,
            "bin_start": 4,
            "count": 1
           },
           {
            "bin_end": 4.5,
            "bin_start": 4.25,
            "count": 1
           }
          ],
          "max": "4.5",
          "min": "2.0",
          "nan_count": 0,
          "unique_count": 5
         }
        },
        {
         "dtype": "float64",
         "name": "LOR ",
         "stats": {
          "histogram": [
           {
            "bin_end": 2.7,
            "bin_start": 2.5,
            "count": 1
           },
           {
            "bin_end": 2.9,
            "bin_start": 2.7,
            "count": 0
           },
           {
            "bin_end": 3.1,
            "bin_start": 2.9,
            "count": 1
           },
           {
            "bin_end": 3.3,
            "bin_start": 3.1,
            "count": 0
           },
           {
            "bin_end": 3.5,
            "bin_start": 3.3,
            "count": 0
           },
           {
            "bin_end": 3.7,
            "bin_start": 3.5,
            "count": 1
           },
           {
            "bin_end": 3.9000000000000004,
            "bin_start": 3.7,
            "count": 0
           },
           {
            "bin_end": 4.1,
            "bin_start": 3.9000000000000004,
            "count": 0
           },
           {
            "bin_end": 4.3,
            "bin_start": 4.1,
            "count": 0
           },
           {
            "bin_end": 4.5,
            "bin_start": 4.3,
            "count": 2
           }
          ],
          "max": "4.5",
          "min": "2.5",
          "nan_count": 0,
          "unique_count": 4
         }
        },
        {
         "dtype": "float64",
         "name": "CGPA",
         "stats": {
          "histogram": [
           {
            "bin_end": 8.165,
            "bin_start": 8,
            "count": 1
           },
           {
            "bin_end": 8.33,
            "bin_start": 8.165,
            "count": 1
           },
           {
            "bin_end": 8.495000000000001,
            "bin_start": 8.33,
            "count": 0
           },
           {
            "bin_end": 8.66,
            "bin_start": 8.495000000000001,
            "count": 0
           },
           {
            "bin_end": 8.825,
            "bin_start": 8.66,
            "count": 1
           },
           {
            "bin_end": 8.99,
            "bin_start": 8.825,
            "count": 1
           },
           {
            "bin_end": 9.155000000000001,
            "bin_start": 8.99,
            "count": 0
           },
           {
            "bin_end": 9.32,
            "bin_start": 9.155000000000001,
            "count": 0
           },
           {
            "bin_end": 9.485,
            "bin_start": 9.32,
            "count": 0
           },
           {
            "bin_end": 9.65,
            "bin_start": 9.485,
            "count": 1
           }
          ],
          "max": "9.65",
          "min": "8.0",
          "nan_count": 0,
          "unique_count": 5
         }
        },
        {
         "dtype": "int64",
         "name": "Research",
         "stats": {
          "histogram": [
           {
            "bin_end": 0.1,
            "bin_start": 0,
            "count": 1
           },
           {
            "bin_end": 0.2,
            "bin_start": 0.1,
            "count": 0
           },
           {
            "bin_end": 0.30000000000000004,
            "bin_start": 0.2,
            "count": 0
           },
           {
            "bin_end": 0.4,
            "bin_start": 0.30000000000000004,
            "count": 0
           },
           {
            "bin_end": 0.5,
            "bin_start": 0.4,
            "count": 0
           },
           {
            "bin_end": 0.6000000000000001,
            "bin_start": 0.5,
            "count": 0
           },
           {
            "bin_end": 0.7000000000000001,
            "bin_start": 0.6000000000000001,
            "count": 0
           },
           {
            "bin_end": 0.8,
            "bin_start": 0.7000000000000001,
            "count": 0
           },
           {
            "bin_end": 0.9,
            "bin_start": 0.8,
            "count": 0
           },
           {
            "bin_end": 1,
            "bin_start": 0.9,
            "count": 4
           }
          ],
          "max": "1",
          "min": "0",
          "nan_count": 0,
          "unique_count": 2
         }
        },
        {
         "dtype": "float64",
         "name": "Chance of Admit ",
         "stats": {
          "histogram": [
           {
            "bin_end": 0.677,
            "bin_start": 0.65,
            "count": 1
           },
           {
            "bin_end": 0.7040000000000001,
            "bin_start": 0.677,
            "count": 0
           },
           {
            "bin_end": 0.7310000000000001,
            "bin_start": 0.7040000000000001,
            "count": 1
           },
           {
            "bin_end": 0.758,
            "bin_start": 0.7310000000000001,
            "count": 0
           },
           {
            "bin_end": 0.785,
            "bin_start": 0.758,
            "count": 1
           },
           {
            "bin_end": 0.812,
            "bin_start": 0.785,
            "count": 1
           },
           {
            "bin_end": 0.8390000000000001,
            "bin_start": 0.812,
            "count": 0
           },
           {
            "bin_end": 0.8660000000000001,
            "bin_start": 0.8390000000000001,
            "count": 0
           },
           {
            "bin_end": 0.893,
            "bin_start": 0.8660000000000001,
            "count": 0
           },
           {
            "bin_end": 0.92,
            "bin_start": 0.893,
            "count": 1
           }
          ],
          "max": "0.92",
          "min": "0.65",
          "nan_count": 0,
          "unique_count": 5
         }
        },
        {
         "dtype": "int64",
         "name": "_deepnote_index_column"
        }
       ],
       "row_count": 5,
       "rows": [
        {
         "CGPA": "9.65",
         "Chance of Admit ": "0.92",
         "GRE Score": "337",
         "LOR ": "4.5",
         "Research": "1",
         "SOP": "4.5",
         "TOEFL Score": "118",
         "University Rating": "4",
         "_deepnote_index_column": "0"
        },
        {
         "CGPA": "8.87",
         "Chance of Admit ": "0.76",
         "GRE Score": "324",
         "LOR ": "4.5",
         "Research": "1",
         "SOP": "4.0",
         "TOEFL Score": "107",
         "University Rating": "4",
         "_deepnote_index_column": "1"
        },
        {
         "CGPA": "8.0",
         "Chance of Admit ": "0.72",
         "GRE Score": "316",
         "LOR ": "3.5",
         "Research": "1",
         "SOP": "3.0",
         "TOEFL Score": "104",
         "University Rating": "3",
         "_deepnote_index_column": "2"
        },
        {
         "CGPA": "8.67",
         "Chance of Admit ": "0.8",
         "GRE Score": "322",
         "LOR ": "2.5",
         "Research": "1",
         "SOP": "3.5",
         "TOEFL Score": "110",
         "University Rating": "3",
         "_deepnote_index_column": "3"
        },
        {
         "CGPA": "8.21",
         "Chance of Admit ": "0.65",
         "GRE Score": "314",
         "LOR ": "3.0",
         "Research": "0",
         "SOP": "2.0",
         "TOEFL Score": "103",
         "University Rating": "2",
         "_deepnote_index_column": "4"
        }
       ]
      },
      "text/html": [
       "<div>\n",
       "<style scoped>\n",
       "    .dataframe tbody tr th:only-of-type {\n",
       "        vertical-align: middle;\n",
       "    }\n",
       "\n",
       "    .dataframe tbody tr th {\n",
       "        vertical-align: top;\n",
       "    }\n",
       "\n",
       "    .dataframe thead th {\n",
       "        text-align: right;\n",
       "    }\n",
       "</style>\n",
       "<table border=\"1\" class=\"dataframe\">\n",
       "  <thead>\n",
       "    <tr style=\"text-align: right;\">\n",
       "      <th></th>\n",
       "      <th>GRE Score</th>\n",
       "      <th>TOEFL Score</th>\n",
       "      <th>University Rating</th>\n",
       "      <th>SOP</th>\n",
       "      <th>LOR</th>\n",
       "      <th>CGPA</th>\n",
       "      <th>Research</th>\n",
       "      <th>Chance of Admit</th>\n",
       "    </tr>\n",
       "  </thead>\n",
       "  <tbody>\n",
       "    <tr>\n",
       "      <th>0</th>\n",
       "      <td>337</td>\n",
       "      <td>118</td>\n",
       "      <td>4</td>\n",
       "      <td>4.5</td>\n",
       "      <td>4.5</td>\n",
       "      <td>9.65</td>\n",
       "      <td>1</td>\n",
       "      <td>0.92</td>\n",
       "    </tr>\n",
       "    <tr>\n",
       "      <th>1</th>\n",
       "      <td>324</td>\n",
       "      <td>107</td>\n",
       "      <td>4</td>\n",
       "      <td>4.0</td>\n",
       "      <td>4.5</td>\n",
       "      <td>8.87</td>\n",
       "      <td>1</td>\n",
       "      <td>0.76</td>\n",
       "    </tr>\n",
       "    <tr>\n",
       "      <th>2</th>\n",
       "      <td>316</td>\n",
       "      <td>104</td>\n",
       "      <td>3</td>\n",
       "      <td>3.0</td>\n",
       "      <td>3.5</td>\n",
       "      <td>8.00</td>\n",
       "      <td>1</td>\n",
       "      <td>0.72</td>\n",
       "    </tr>\n",
       "    <tr>\n",
       "      <th>3</th>\n",
       "      <td>322</td>\n",
       "      <td>110</td>\n",
       "      <td>3</td>\n",
       "      <td>3.5</td>\n",
       "      <td>2.5</td>\n",
       "      <td>8.67</td>\n",
       "      <td>1</td>\n",
       "      <td>0.80</td>\n",
       "    </tr>\n",
       "    <tr>\n",
       "      <th>4</th>\n",
       "      <td>314</td>\n",
       "      <td>103</td>\n",
       "      <td>2</td>\n",
       "      <td>2.0</td>\n",
       "      <td>3.0</td>\n",
       "      <td>8.21</td>\n",
       "      <td>0</td>\n",
       "      <td>0.65</td>\n",
       "    </tr>\n",
       "  </tbody>\n",
       "</table>\n",
       "</div>"
      ],
      "text/plain": [
       "   GRE Score  TOEFL Score  University Rating  SOP  LOR   CGPA  Research  \\\n",
       "0        337          118                  4  4.5   4.5  9.65         1   \n",
       "1        324          107                  4  4.0   4.5  8.87         1   \n",
       "2        316          104                  3  3.0   3.5  8.00         1   \n",
       "3        322          110                  3  3.5   2.5  8.67         1   \n",
       "4        314          103                  2  2.0   3.0  8.21         0   \n",
       "\n",
       "   Chance of Admit   \n",
       "0              0.92  \n",
       "1              0.76  \n",
       "2              0.72  \n",
       "3              0.80  \n",
       "4              0.65  "
      ]
     },
     "execution_count": 5,
     "metadata": {},
     "output_type": "execute_result"
    }
   ],
   "source": [
    "df.drop(\"Serial No.\", inplace=True, axis=1)\n",
    "df.head()"
   ]
  },
  {
   "cell_type": "markdown",
   "metadata": {
    "cell_id": "87d68f0f68514d07a2b1965b222787ea",
    "deepnote_cell_type": "markdown",
    "tags": []
   },
   "source": [
    "The columns' names are too long, so I change some columns' names to make it easy to analyze."
   ]
  },
  {
   "cell_type": "code",
   "execution_count": 6,
   "metadata": {
    "cell_id": "ac6e9edcd1d646be8c052b2687b25234",
    "deepnote_cell_type": "code",
    "deepnote_to_be_reexecuted": false,
    "execution_millis": 1,
    "execution_start": 1670287805168,
    "source_hash": "2e8deaac",
    "tags": []
   },
   "outputs": [],
   "source": [
    "df.rename(columns = {'GRE Score':'GRE', 'TOEFL Score':'TOEFL', 'University Rating':'Rate', 'Chance of Admit ':'Chance'}, inplace = True)"
   ]
  },
  {
   "cell_type": "code",
   "execution_count": 7,
   "metadata": {
    "cell_id": "1e3b1e9568474d5788645fec23a1e008",
    "deepnote_cell_type": "code",
    "deepnote_to_be_reexecuted": false,
    "execution_millis": 3,
    "execution_start": 1670287805169,
    "source_hash": "25d43fa0",
    "tags": []
   },
   "outputs": [
    {
     "data": {
      "text/plain": [
       "Index(['GRE', 'TOEFL', 'Rate', 'SOP', 'LOR ', 'CGPA', 'Research', 'Chance'], dtype='object')"
      ]
     },
     "execution_count": 7,
     "metadata": {},
     "output_type": "execute_result"
    }
   ],
   "source": [
    "df.columns"
   ]
  },
  {
   "cell_type": "code",
   "execution_count": 8,
   "metadata": {
    "cell_id": "4c68810c89a44c27ba49f8beb26269ca",
    "deepnote_cell_type": "code",
    "deepnote_to_be_reexecuted": false,
    "execution_millis": 3,
    "execution_start": 1670287805176,
    "source_hash": "14f60b8f",
    "tags": []
   },
   "outputs": [
    {
     "data": {
      "text/plain": [
       "(400, 8)"
      ]
     },
     "execution_count": 8,
     "metadata": {},
     "output_type": "execute_result"
    }
   ],
   "source": [
    "df.shape"
   ]
  },
  {
   "cell_type": "markdown",
   "metadata": {
    "cell_id": "a64e59693ae14872b1be617ccdc964f0",
    "deepnote_cell_type": "markdown",
    "tags": []
   },
   "source": [
    "Now, there are total 400 student samples and 8 columns in this dataset."
   ]
  },
  {
   "cell_type": "markdown",
   "metadata": {
    "cell_id": "6fd078762c664906a0a2384c77eab9d0",
    "deepnote_cell_type": "markdown",
    "tags": []
   },
   "source": [
    "## Comprehend Data with Chart"
   ]
  },
  {
   "cell_type": "markdown",
   "metadata": {
    "cell_id": "5fab00d5a147478a898e31d5472b79c0",
    "deepnote_cell_type": "markdown",
    "tags": []
   },
   "source": [
    "First, I want to find out the relationship of each factor with chance"
   ]
  },
  {
   "cell_type": "code",
   "execution_count": 61,
   "metadata": {
    "cell_id": "ace42d578a9444aa92bf99155c0e1c1e",
    "deepnote_cell_type": "code",
    "deepnote_to_be_reexecuted": false,
    "execution_millis": 1,
    "execution_start": 1670294344709,
    "source_hash": "aec71c75",
    "tags": []
   },
   "outputs": [],
   "source": [
    "data = [\"GRE\", \"TOEFL\", \"Rate\", \"SOP\", \"LOR\", \"Research\"]"
   ]
  },
  {
   "cell_type": "code",
   "execution_count": 56,
   "metadata": {
    "cell_id": "cb4a843c63aa4be895a25eaf2248af9c",
    "deepnote_cell_type": "code",
    "deepnote_to_be_reexecuted": false,
    "execution_millis": 3,
    "execution_start": 1670293536000,
    "source_hash": "5cdb2c75",
    "tags": []
   },
   "outputs": [
    {
     "data": {
      "text/html": [
       "\n",
       "<div id=\"altair-viz-18a1fe65ba354c9ab28c8e5deb16ed23\"></div>\n",
       "<script type=\"text/javascript\">\n",
       "  var VEGA_DEBUG = (typeof VEGA_DEBUG == \"undefined\") ? {} : VEGA_DEBUG;\n",
       "  (function(spec, embedOpt){\n",
       "    let outputDiv = document.currentScript.previousElementSibling;\n",
       "    if (outputDiv.id !== \"altair-viz-18a1fe65ba354c9ab28c8e5deb16ed23\") {\n",
       "      outputDiv = document.getElementById(\"altair-viz-18a1fe65ba354c9ab28c8e5deb16ed23\");\n",
       "    }\n",
       "    const paths = {\n",
       "      \"vega\": \"https://cdn.jsdelivr.net/npm//vega@5?noext\",\n",
       "      \"vega-lib\": \"https://cdn.jsdelivr.net/npm//vega-lib?noext\",\n",
       "      \"vega-lite\": \"https://cdn.jsdelivr.net/npm//vega-lite@4.17.0?noext\",\n",
       "      \"vega-embed\": \"https://cdn.jsdelivr.net/npm//vega-embed@6?noext\",\n",
       "    };\n",
       "\n",
       "    function maybeLoadScript(lib, version) {\n",
       "      var key = `${lib.replace(\"-\", \"\")}_version`;\n",
       "      return (VEGA_DEBUG[key] == version) ?\n",
       "        Promise.resolve(paths[lib]) :\n",
       "        new Promise(function(resolve, reject) {\n",
       "          var s = document.createElement('script');\n",
       "          document.getElementsByTagName(\"head\")[0].appendChild(s);\n",
       "          s.async = true;\n",
       "          s.onload = () => {\n",
       "            VEGA_DEBUG[key] = version;\n",
       "            return resolve(paths[lib]);\n",
       "          };\n",
       "          s.onerror = () => reject(`Error loading script: ${paths[lib]}`);\n",
       "          s.src = paths[lib];\n",
       "        });\n",
       "    }\n",
       "\n",
       "    function showError(err) {\n",
       "      outputDiv.innerHTML = `<div class=\"error\" style=\"color:red;\">${err}</div>`;\n",
       "      throw err;\n",
       "    }\n",
       "\n",
       "    function displayChart(vegaEmbed) {\n",
       "      vegaEmbed(outputDiv, spec, embedOpt)\n",
       "        .catch(err => showError(`Javascript Error: ${err.message}<br>This usually means there's a typo in your chart specification. See the javascript console for the full traceback.`));\n",
       "    }\n",
       "\n",
       "    if(typeof define === \"function\" && define.amd) {\n",
       "      requirejs.config({paths});\n",
       "      require([\"vega-embed\"], displayChart, err => showError(`Error loading script: ${err.message}`));\n",
       "    } else {\n",
       "      maybeLoadScript(\"vega\", \"5\")\n",
       "        .then(() => maybeLoadScript(\"vega-lite\", \"4.17.0\"))\n",
       "        .then(() => maybeLoadScript(\"vega-embed\", \"6\"))\n",
       "        .catch(showError)\n",
       "        .then(() => displayChart(vegaEmbed));\n",
       "    }\n",
       "  })({\"config\": {\"view\": {\"continuousWidth\": 400, \"continuousHeight\": 300}}, \"data\": {\"name\": \"data-0440f94df845976d912bc1088d6f3c5b\"}, \"mark\": \"circle\", \"encoding\": {\"color\": {\"field\": \"Research\", \"type\": \"nominal\"}, \"x\": {\"field\": \"GRE\", \"scale\": {\"zero\": false}, \"type\": \"quantitative\"}, \"y\": {\"field\": \"Chance\", \"scale\": {\"zero\": false}, \"type\": \"quantitative\"}}, \"$schema\": \"https://vega.github.io/schema/vega-lite/v4.17.0.json\", \"datasets\": {\"data-0440f94df845976d912bc1088d6f3c5b\": [{\"GRE\": 337, \"TOEFL\": 118, \"Rate\": 4, \"SOP\": 4.5, \"LOR \": 4.5, \"CGPA\": 9.65, \"Research\": 1, \"Chance\": 0.92, \"Pred\": 0.9514585639020716}, {\"GRE\": 324, \"TOEFL\": 107, \"Rate\": 4, \"SOP\": 4.0, \"LOR \": 4.5, \"CGPA\": 8.87, \"Research\": 1, \"Chance\": 0.76, \"Pred\": 0.8056366792095606}, {\"GRE\": 316, \"TOEFL\": 104, \"Rate\": 3, \"SOP\": 3.0, \"LOR \": 3.5, \"CGPA\": 8.0, \"Research\": 1, \"Chance\": 0.72, \"Pred\": 0.6547367151430412}, {\"GRE\": 322, \"TOEFL\": 110, \"Rate\": 3, \"SOP\": 3.5, \"LOR \": 2.5, \"CGPA\": 8.67, \"Research\": 1, \"Chance\": 0.8, \"Pred\": 0.7383623675297954}, {\"GRE\": 314, \"TOEFL\": 103, \"Rate\": 2, \"SOP\": 2.0, \"LOR \": 3.0, \"CGPA\": 8.21, \"Research\": 0, \"Chance\": 0.65, \"Pred\": 0.6352064413901071}, {\"GRE\": 330, \"TOEFL\": 115, \"Rate\": 5, \"SOP\": 4.5, \"LOR \": 3.0, \"CGPA\": 9.34, \"Research\": 1, \"Chance\": 0.9, \"Pred\": 0.8658536889815001}, {\"GRE\": 321, \"TOEFL\": 109, \"Rate\": 3, \"SOP\": 3.0, \"LOR \": 4.0, \"CGPA\": 8.2, \"Research\": 1, \"Chance\": 0.75, \"Pred\": 0.7129861114663232}, {\"GRE\": 308, \"TOEFL\": 101, \"Rate\": 2, \"SOP\": 3.0, \"LOR \": 4.0, \"CGPA\": 7.9, \"Research\": 0, \"Chance\": 0.68, \"Pred\": 0.6011195459983856}, {\"GRE\": 302, \"TOEFL\": 102, \"Rate\": 1, \"SOP\": 2.0, \"LOR \": 1.5, \"CGPA\": 8.0, \"Research\": 0, \"Chance\": 0.5, \"Pred\": 0.5472142913381763}, {\"GRE\": 323, \"TOEFL\": 108, \"Rate\": 3, \"SOP\": 3.5, \"LOR \": 3.0, \"CGPA\": 8.6, \"Research\": 0, \"Chance\": 0.45, \"Pred\": 0.7125863210840231}, {\"GRE\": 325, \"TOEFL\": 106, \"Rate\": 3, \"SOP\": 3.5, \"LOR \": 4.0, \"CGPA\": 8.4, \"Research\": 1, \"Chance\": 0.52, \"Pred\": 0.7333123334964773}, {\"GRE\": 327, \"TOEFL\": 111, \"Rate\": 4, \"SOP\": 4.0, \"LOR \": 4.5, \"CGPA\": 9.0, \"Research\": 1, \"Chance\": 0.84, \"Pred\": 0.8379893501579174}, {\"GRE\": 328, \"TOEFL\": 112, \"Rate\": 4, \"SOP\": 4.0, \"LOR \": 4.5, \"CGPA\": 9.1, \"Research\": 1, \"Chance\": 0.78, \"Pred\": 0.8545402839055598}, {\"GRE\": 307, \"TOEFL\": 109, \"Rate\": 3, \"SOP\": 4.0, \"LOR \": 3.0, \"CGPA\": 8.0, \"Research\": 1, \"Chance\": 0.62, \"Pred\": 0.6392161623792942}, {\"GRE\": 311, \"TOEFL\": 104, \"Rate\": 3, \"SOP\": 3.5, \"LOR \": 2.0, \"CGPA\": 8.2, \"Research\": 1, \"Chance\": 0.61, \"Pred\": 0.6346552724923049}, {\"GRE\": 314, \"TOEFL\": 105, \"Rate\": 3, \"SOP\": 3.5, \"LOR \": 2.5, \"CGPA\": 8.3, \"Research\": 0, \"Chance\": 0.54, \"Pred\": 0.6413324867508319}, {\"GRE\": 317, \"TOEFL\": 107, \"Rate\": 3, \"SOP\": 4.0, \"LOR \": 3.0, \"CGPA\": 8.7, \"Research\": 0, \"Chance\": 0.66, \"Pred\": 0.7094836356781833}, {\"GRE\": 319, \"TOEFL\": 106, \"Rate\": 3, \"SOP\": 4.0, \"LOR \": 3.0, \"CGPA\": 8.0, \"Research\": 1, \"Chance\": 0.65, \"Pred\": 0.6513063707806876}, {\"GRE\": 318, \"TOEFL\": 110, \"Rate\": 3, \"SOP\": 4.0, \"LOR \": 3.0, \"CGPA\": 8.8, \"Research\": 0, \"Chance\": 0.63, \"Pred\": 0.7318737230596761}, {\"GRE\": 303, \"TOEFL\": 102, \"Rate\": 3, \"SOP\": 3.5, \"LOR \": 3.0, \"CGPA\": 8.5, \"Research\": 0, \"Chance\": 0.62, \"Pred\": 0.6484266834024879}, {\"GRE\": 312, \"TOEFL\": 107, \"Rate\": 3, \"SOP\": 3.0, \"LOR \": 2.0, \"CGPA\": 7.9, \"Research\": 1, \"Chance\": 0.64, \"Pred\": 0.6111221629575181}, {\"GRE\": 325, \"TOEFL\": 114, \"Rate\": 4, \"SOP\": 3.0, \"LOR \": 2.0, \"CGPA\": 8.4, \"Research\": 0, \"Chance\": 0.7, \"Pred\": 0.6948068297372902}, {\"GRE\": 328, \"TOEFL\": 116, \"Rate\": 5, \"SOP\": 5.0, \"LOR \": 5.0, \"CGPA\": 9.5, \"Research\": 1, \"Chance\": 0.94, \"Pred\": 0.9273824253661076}, {\"GRE\": 334, \"TOEFL\": 119, \"Rate\": 5, \"SOP\": 5.0, \"LOR \": 4.5, \"CGPA\": 9.7, \"Research\": 1, \"Chance\": 0.95, \"Pred\": 0.9591769522981941}, {\"GRE\": 336, \"TOEFL\": 119, \"Rate\": 5, \"SOP\": 4.0, \"LOR \": 3.5, \"CGPA\": 9.8, \"Research\": 1, \"Chance\": 0.97, \"Pred\": 0.9554977625166321}, {\"GRE\": 340, \"TOEFL\": 120, \"Rate\": 5, \"SOP\": 4.5, \"LOR \": 4.5, \"CGPA\": 9.6, \"Research\": 1, \"Chance\": 0.94, \"Pred\": 0.9622796377040335}, {\"GRE\": 322, \"TOEFL\": 109, \"Rate\": 5, \"SOP\": 4.5, \"LOR \": 3.5, \"CGPA\": 8.8, \"Research\": 0, \"Chance\": 0.76, \"Pred\": 0.7568610879382958}, {\"GRE\": 298, \"TOEFL\": 98, \"Rate\": 2, \"SOP\": 1.5, \"LOR \": 2.5, \"CGPA\": 7.5, \"Research\": 1, \"Chance\": 0.44, \"Pred\": 0.5233640872690408}, {\"GRE\": 295, \"TOEFL\": 93, \"Rate\": 1, \"SOP\": 2.0, \"LOR \": 2.0, \"CGPA\": 7.2, \"Research\": 0, \"Chance\": 0.46, \"Pred\": 0.42480121977530594}, {\"GRE\": 310, \"TOEFL\": 99, \"Rate\": 2, \"SOP\": 1.5, \"LOR \": 2.0, \"CGPA\": 7.3, \"Research\": 0, \"Chance\": 0.54, \"Pred\": 0.48764304225922483}, {\"GRE\": 300, \"TOEFL\": 97, \"Rate\": 2, \"SOP\": 3.0, \"LOR \": 3.0, \"CGPA\": 8.1, \"Research\": 1, \"Chance\": 0.65, \"Pred\": 0.6015018158489429}, {\"GRE\": 327, \"TOEFL\": 103, \"Rate\": 3, \"SOP\": 4.0, \"LOR \": 4.0, \"CGPA\": 8.3, \"Research\": 1, \"Chance\": 0.74, \"Pred\": 0.7144818963054937}, {\"GRE\": 338, \"TOEFL\": 118, \"Rate\": 4, \"SOP\": 3.0, \"LOR \": 4.5, \"CGPA\": 9.4, \"Research\": 1, \"Chance\": 0.91, \"Pred\": 0.9284188656414274}, {\"GRE\": 340, \"TOEFL\": 114, \"Rate\": 5, \"SOP\": 4.0, \"LOR \": 4.0, \"CGPA\": 9.6, \"Research\": 1, \"Chance\": 0.9, \"Pred\": 0.9352381976608359}, {\"GRE\": 331, \"TOEFL\": 112, \"Rate\": 5, \"SOP\": 4.0, \"LOR \": 5.0, \"CGPA\": 9.8, \"Research\": 1, \"Chance\": 0.94, \"Pred\": 0.9599033579356251}, {\"GRE\": 320, \"TOEFL\": 110, \"Rate\": 5, \"SOP\": 5.0, \"LOR \": 5.0, \"CGPA\": 9.2, \"Research\": 1, \"Chance\": 0.88, \"Pred\": 0.8602838358173346}, {\"GRE\": 299, \"TOEFL\": 106, \"Rate\": 2, \"SOP\": 4.0, \"LOR \": 4.0, \"CGPA\": 8.4, \"Research\": 0, \"Chance\": 0.64, \"Pred\": 0.656245283697334}, {\"GRE\": 300, \"TOEFL\": 105, \"Rate\": 1, \"SOP\": 1.0, \"LOR \": 2.0, \"CGPA\": 7.8, \"Research\": 0, \"Chance\": 0.58, \"Pred\": 0.5431920406367632}, {\"GRE\": 304, \"TOEFL\": 105, \"Rate\": 1, \"SOP\": 3.0, \"LOR \": 1.5, \"CGPA\": 7.5, \"Research\": 0, \"Chance\": 0.52, \"Pred\": 0.49667294908739734}, {\"GRE\": 307, \"TOEFL\": 108, \"Rate\": 2, \"SOP\": 4.0, \"LOR \": 3.5, \"CGPA\": 7.7, \"Research\": 0, \"Chance\": 0.48, \"Pred\": 0.5815495487171949}, {\"GRE\": 308, \"TOEFL\": 110, \"Rate\": 3, \"SOP\": 3.5, \"LOR \": 3.0, \"CGPA\": 8.0, \"Research\": 1, \"Chance\": 0.46, \"Pred\": 0.6455257352897668}, {\"GRE\": 316, \"TOEFL\": 105, \"Rate\": 2, \"SOP\": 2.5, \"LOR \": 2.5, \"CGPA\": 8.2, \"Research\": 1, \"Chance\": 0.49, \"Pred\": 0.6550269817386254}, {\"GRE\": 313, \"TOEFL\": 107, \"Rate\": 2, \"SOP\": 2.5, \"LOR \": 2.0, \"CGPA\": 8.5, \"Research\": 1, \"Chance\": 0.53, \"Pred\": 0.6801591730743635}, {\"GRE\": 332, \"TOEFL\": 117, \"Rate\": 4, \"SOP\": 4.5, \"LOR \": 4.0, \"CGPA\": 9.1, \"Research\": 0, \"Chance\": 0.87, \"Pred\": 0.8387335597922052}, {\"GRE\": 326, \"TOEFL\": 113, \"Rate\": 5, \"SOP\": 4.5, \"LOR \": 4.0, \"CGPA\": 9.4, \"Research\": 1, \"Chance\": 0.91, \"Pred\": 0.8825543836077745}, {\"GRE\": 322, \"TOEFL\": 110, \"Rate\": 5, \"SOP\": 5.0, \"LOR \": 4.0, \"CGPA\": 9.1, \"Research\": 1, \"Chance\": 0.88, \"Pred\": 0.8295115862713003}, {\"GRE\": 329, \"TOEFL\": 114, \"Rate\": 5, \"SOP\": 4.0, \"LOR \": 5.0, \"CGPA\": 9.3, \"Research\": 1, \"Chance\": 0.86, \"Pred\": 0.9027979616289314}, {\"GRE\": 339, \"TOEFL\": 119, \"Rate\": 5, \"SOP\": 4.5, \"LOR \": 4.0, \"CGPA\": 9.7, \"Research\": 0, \"Chance\": 0.89, \"Pred\": 0.9338149247162943}, {\"GRE\": 321, \"TOEFL\": 110, \"Rate\": 3, \"SOP\": 3.5, \"LOR \": 5.0, \"CGPA\": 8.85, \"Research\": 1, \"Chance\": 0.82, \"Pred\": 0.8139168759271451}, {\"GRE\": 327, \"TOEFL\": 111, \"Rate\": 4, \"SOP\": 3.0, \"LOR \": 4.0, \"CGPA\": 8.4, \"Research\": 1, \"Chance\": 0.78, \"Pred\": 0.7587542833805851}, {\"GRE\": 313, \"TOEFL\": 98, \"Rate\": 3, \"SOP\": 2.5, \"LOR \": 4.5, \"CGPA\": 8.3, \"Research\": 1, \"Chance\": 0.76, \"Pred\": 0.6916945674584505}, {\"GRE\": 312, \"TOEFL\": 100, \"Rate\": 2, \"SOP\": 1.5, \"LOR \": 3.5, \"CGPA\": 7.9, \"Research\": 1, \"Chance\": 0.56, \"Pred\": 0.62345591166426}, {\"GRE\": 334, \"TOEFL\": 116, \"Rate\": 4, \"SOP\": 4.0, \"LOR \": 3.0, \"CGPA\": 8.0, \"Research\": 1, \"Chance\": 0.78, \"Pred\": 0.7122799706500706}, {\"GRE\": 324, \"TOEFL\": 112, \"Rate\": 4, \"SOP\": 4.0, \"LOR \": 2.5, \"CGPA\": 8.1, \"Research\": 1, \"Chance\": 0.72, \"Pred\": 0.6839449293677533}, {\"GRE\": 322, \"TOEFL\": 110, \"Rate\": 3, \"SOP\": 3.0, \"LOR \": 3.5, \"CGPA\": 8.0, \"Research\": 0, \"Chance\": 0.7, \"Pred\": 0.6581535391753528}, {\"GRE\": 320, \"TOEFL\": 103, \"Rate\": 3, \"SOP\": 3.0, \"LOR \": 3.0, \"CGPA\": 7.7, \"Research\": 0, \"Chance\": 0.64, \"Pred\": 0.5873832785715596}, {\"GRE\": 316, \"TOEFL\": 102, \"Rate\": 3, \"SOP\": 2.0, \"LOR \": 3.0, \"CGPA\": 7.4, \"Research\": 0, \"Chance\": 0.64, \"Pred\": 0.5451373884365351}, {\"GRE\": 298, \"TOEFL\": 99, \"Rate\": 2, \"SOP\": 4.0, \"LOR \": 2.0, \"CGPA\": 7.6, \"Research\": 0, \"Chance\": 0.46, \"Pred\": 0.49421301687349994}, {\"GRE\": 300, \"TOEFL\": 99, \"Rate\": 1, \"SOP\": 3.0, \"LOR \": 2.0, \"CGPA\": 6.8, \"Research\": 1, \"Chance\": 0.36, \"Pred\": 0.4246498943433712}, {\"GRE\": 311, \"TOEFL\": 104, \"Rate\": 2, \"SOP\": 2.0, \"LOR \": 2.0, \"CGPA\": 8.3, \"Research\": 0, \"Chance\": 0.42, \"Pred\": 0.6212652069893634}, {\"GRE\": 309, \"TOEFL\": 100, \"Rate\": 2, \"SOP\": 3.0, \"LOR \": 3.0, \"CGPA\": 8.1, \"Research\": 0, \"Chance\": 0.48, \"Pred\": 0.6013721441435214}, {\"GRE\": 307, \"TOEFL\": 101, \"Rate\": 3, \"SOP\": 4.0, \"LOR \": 3.0, \"CGPA\": 8.2, \"Research\": 0, \"Chance\": 0.47, \"Pred\": 0.615122332267976}, {\"GRE\": 304, \"TOEFL\": 105, \"Rate\": 2, \"SOP\": 3.0, \"LOR \": 3.0, \"CGPA\": 8.2, \"Research\": 1, \"Chance\": 0.54, \"Pred\": 0.6437020220281031}, {\"GRE\": 315, \"TOEFL\": 107, \"Rate\": 2, \"SOP\": 4.0, \"LOR \": 3.0, \"CGPA\": 8.5, \"Research\": 1, \"Chance\": 0.56, \"Pred\": 0.7010293699771517}, {\"GRE\": 325, \"TOEFL\": 111, \"Rate\": 3, \"SOP\": 3.0, \"LOR \": 3.5, \"CGPA\": 8.7, \"Research\": 0, \"Chance\": 0.52, \"Pred\": 0.7495429682232422}, {\"GRE\": 325, \"TOEFL\": 112, \"Rate\": 4, \"SOP\": 3.5, \"LOR \": 3.5, \"CGPA\": 8.92, \"Research\": 0, \"Chance\": 0.55, \"Pred\": 0.7826932984439023}, {\"GRE\": 327, \"TOEFL\": 114, \"Rate\": 3, \"SOP\": 3.0, \"LOR \": 3.0, \"CGPA\": 9.02, \"Research\": 0, \"Chance\": 0.61, \"Pred\": 0.7886605833029166}, {\"GRE\": 316, \"TOEFL\": 107, \"Rate\": 2, \"SOP\": 3.5, \"LOR \": 3.5, \"CGPA\": 8.64, \"Research\": 1, \"Chance\": 0.57, \"Pred\": 0.7322474532384629}, {\"GRE\": 318, \"TOEFL\": 109, \"Rate\": 3, \"SOP\": 3.5, \"LOR \": 4.0, \"CGPA\": 9.22, \"Research\": 1, \"Chance\": 0.68, \"Pred\": 0.8274395348997203}, {\"GRE\": 328, \"TOEFL\": 115, \"Rate\": 4, \"SOP\": 4.5, \"LOR \": 4.0, \"CGPA\": 9.16, \"Research\": 1, \"Chance\": 0.78, \"Pred\": 0.8576062333854446}, {\"GRE\": 332, \"TOEFL\": 118, \"Rate\": 5, \"SOP\": 5.0, \"LOR \": 5.0, \"CGPA\": 9.64, \"Research\": 1, \"Chance\": 0.94, \"Pred\": 0.9568227487875987}, {\"GRE\": 336, \"TOEFL\": 112, \"Rate\": 5, \"SOP\": 5.0, \"LOR \": 5.0, \"CGPA\": 9.76, \"Research\": 1, \"Chance\": 0.96, \"Pred\": 0.9605276686017479}, {\"GRE\": 321, \"TOEFL\": 111, \"Rate\": 5, \"SOP\": 5.0, \"LOR \": 5.0, \"CGPA\": 9.45, \"Research\": 1, \"Chance\": 0.93, \"Pred\": 0.8946756876045316}, {\"GRE\": 314, \"TOEFL\": 108, \"Rate\": 4, \"SOP\": 4.5, \"LOR \": 4.0, \"CGPA\": 9.04, \"Research\": 1, \"Chance\": 0.84, \"Pred\": 0.798572699241128}, {\"GRE\": 314, \"TOEFL\": 106, \"Rate\": 3, \"SOP\": 3.0, \"LOR \": 5.0, \"CGPA\": 8.9, \"Research\": 0, \"Chance\": 0.74, \"Pred\": 0.7731511385694076}, {\"GRE\": 329, \"TOEFL\": 114, \"Rate\": 2, \"SOP\": 2.0, \"LOR \": 4.0, \"CGPA\": 8.56, \"Research\": 1, \"Chance\": 0.72, \"Pred\": 0.7818900023241382}, {\"GRE\": 327, \"TOEFL\": 112, \"Rate\": 3, \"SOP\": 3.0, \"LOR \": 3.0, \"CGPA\": 8.72, \"Research\": 1, \"Chance\": 0.74, \"Pred\": 0.7716646998852801}, {\"GRE\": 301, \"TOEFL\": 99, \"Rate\": 2, \"SOP\": 3.0, \"LOR \": 2.0, \"CGPA\": 8.22, \"Research\": 0, \"Chance\": 0.64, \"Pred\": 0.5764728818617681}, {\"GRE\": 296, \"TOEFL\": 95, \"Rate\": 2, \"SOP\": 3.0, \"LOR \": 2.0, \"CGPA\": 7.54, \"Research\": 1, \"Chance\": 0.44, \"Pred\": 0.49975379458833924}, {\"GRE\": 294, \"TOEFL\": 93, \"Rate\": 1, \"SOP\": 1.5, \"LOR \": 2.0, \"CGPA\": 7.36, \"Research\": 0, \"Chance\": 0.46, \"Pred\": 0.44374670530235005}, {\"GRE\": 312, \"TOEFL\": 105, \"Rate\": 3, \"SOP\": 2.0, \"LOR \": 3.0, \"CGPA\": 8.02, \"Research\": 1, \"Chance\": 0.5, \"Pred\": 0.6452140401287374}, {\"GRE\": 340, \"TOEFL\": 120, \"Rate\": 4, \"SOP\": 5.0, \"LOR \": 5.0, \"CGPA\": 9.5, \"Research\": 1, \"Chance\": 0.96, \"Pred\": 0.9541930133510557}, {\"GRE\": 320, \"TOEFL\": 110, \"Rate\": 5, \"SOP\": 5.0, \"LOR \": 4.5, \"CGPA\": 9.22, \"Research\": 1, \"Chance\": 0.92, \"Pred\": 0.8514860612250958}, {\"GRE\": 322, \"TOEFL\": 115, \"Rate\": 5, \"SOP\": 4.0, \"LOR \": 4.5, \"CGPA\": 9.36, \"Research\": 1, \"Chance\": 0.92, \"Pred\": 0.8895154610004001}, {\"GRE\": 340, \"TOEFL\": 115, \"Rate\": 5, \"SOP\": 4.5, \"LOR \": 4.5, \"CGPA\": 9.45, \"Research\": 1, \"Chance\": 0.94, \"Pred\": 0.9298408355798531}, {\"GRE\": 319, \"TOEFL\": 103, \"Rate\": 4, \"SOP\": 4.5, \"LOR \": 3.5, \"CGPA\": 8.66, \"Research\": 0, \"Chance\": 0.76, \"Pred\": 0.7117632106851974}, {\"GRE\": 315, \"TOEFL\": 106, \"Rate\": 3, \"SOP\": 4.5, \"LOR \": 3.5, \"CGPA\": 8.42, \"Research\": 0, \"Chance\": 0.72, \"Pred\": 0.6793101678537077}, {\"GRE\": 317, \"TOEFL\": 107, \"Rate\": 2, \"SOP\": 3.5, \"LOR \": 3.0, \"CGPA\": 8.28, \"Research\": 0, \"Chance\": 0.66, \"Pred\": 0.6554649915550421}, {\"GRE\": 314, \"TOEFL\": 108, \"Rate\": 3, \"SOP\": 4.5, \"LOR \": 3.5, \"CGPA\": 8.14, \"Research\": 0, \"Chance\": 0.64, \"Pred\": 0.6501088629093752}, {\"GRE\": 316, \"TOEFL\": 109, \"Rate\": 4, \"SOP\": 4.5, \"LOR \": 3.5, \"CGPA\": 8.76, \"Research\": 1, \"Chance\": 0.74, \"Pred\": 0.7604874885287327}, {\"GRE\": 318, \"TOEFL\": 106, \"Rate\": 2, \"SOP\": 4.0, \"LOR \": 4.0, \"CGPA\": 7.92, \"Research\": 1, \"Chance\": 0.64, \"Pred\": 0.6566902721153494}, {\"GRE\": 299, \"TOEFL\": 97, \"Rate\": 3, \"SOP\": 5.0, \"LOR \": 3.5, \"CGPA\": 7.66, \"Research\": 0, \"Chance\": 0.38, \"Pred\": 0.5331888221088794}, {\"GRE\": 298, \"TOEFL\": 98, \"Rate\": 2, \"SOP\": 4.0, \"LOR \": 3.0, \"CGPA\": 8.03, \"Research\": 0, \"Chance\": 0.34, \"Pred\": 0.5647905324316578}, {\"GRE\": 301, \"TOEFL\": 97, \"Rate\": 2, \"SOP\": 3.0, \"LOR \": 3.0, \"CGPA\": 7.88, \"Research\": 1, \"Chance\": 0.44, \"Pred\": 0.57707254762861}, {\"GRE\": 303, \"TOEFL\": 99, \"Rate\": 3, \"SOP\": 2.0, \"LOR \": 2.5, \"CGPA\": 7.66, \"Research\": 0, \"Chance\": 0.36, \"Pred\": 0.5335400018336254}, {\"GRE\": 304, \"TOEFL\": 100, \"Rate\": 4, \"SOP\": 1.5, \"LOR \": 2.5, \"CGPA\": 7.84, \"Research\": 0, \"Chance\": 0.42, \"Pred\": 0.5669753345264845}, {\"GRE\": 306, \"TOEFL\": 100, \"Rate\": 2, \"SOP\": 3.0, \"LOR \": 3.0, \"CGPA\": 8.0, \"Research\": 0, \"Chance\": 0.48, \"Pred\": 0.5842659640707759}, {\"GRE\": 331, \"TOEFL\": 120, \"Rate\": 3, \"SOP\": 4.0, \"LOR \": 4.0, \"CGPA\": 8.96, \"Research\": 1, \"Chance\": 0.86, \"Pred\": 0.8495643878513179}, {\"GRE\": 332, \"TOEFL\": 119, \"Rate\": 4, \"SOP\": 5.0, \"LOR \": 4.5, \"CGPA\": 9.24, \"Research\": 1, \"Chance\": 0.9, \"Pred\": 0.8952733223666101}, {\"GRE\": 323, \"TOEFL\": 113, \"Rate\": 3, \"SOP\": 4.0, \"LOR \": 4.0, \"CGPA\": 8.88, \"Research\": 1, \"Chance\": 0.79, \"Pred\": 0.8057129012769673}, {\"GRE\": 322, \"TOEFL\": 107, \"Rate\": 3, \"SOP\": 3.5, \"LOR \": 3.5, \"CGPA\": 8.46, \"Research\": 1, \"Chance\": 0.71, \"Pred\": 0.7269794791520026}, {\"GRE\": 312, \"TOEFL\": 105, \"Rate\": 2, \"SOP\": 2.5, \"LOR \": 3.0, \"CGPA\": 8.12, \"Research\": 0, \"Chance\": 0.64, \"Pred\": 0.6252136365356629}, {\"GRE\": 314, \"TOEFL\": 106, \"Rate\": 2, \"SOP\": 4.0, \"LOR \": 3.5, \"CGPA\": 8.25, \"Research\": 0, \"Chance\": 0.62, \"Pred\": 0.6532889755588105}, {\"GRE\": 317, \"TOEFL\": 104, \"Rate\": 2, \"SOP\": 4.5, \"LOR \": 4.0, \"CGPA\": 8.47, \"Research\": 0, \"Chance\": 0.57, \"Pred\": 0.6883527155709961}, {\"GRE\": 326, \"TOEFL\": 112, \"Rate\": 3, \"SOP\": 3.5, \"LOR \": 3.0, \"CGPA\": 9.05, \"Research\": 1, \"Chance\": 0.74, \"Pred\": 0.8075247234787535}, {\"GRE\": 316, \"TOEFL\": 110, \"Rate\": 3, \"SOP\": 4.0, \"LOR \": 4.5, \"CGPA\": 8.78, \"Research\": 1, \"Chance\": 0.69, \"Pred\": 0.7840749081335694}, {\"GRE\": 329, \"TOEFL\": 111, \"Rate\": 4, \"SOP\": 4.5, \"LOR \": 4.5, \"CGPA\": 9.18, \"Research\": 1, \"Chance\": 0.87, \"Pred\": 0.8612206904248783}, {\"GRE\": 338, \"TOEFL\": 117, \"Rate\": 4, \"SOP\": 3.5, \"LOR \": 4.5, \"CGPA\": 9.46, \"Research\": 1, \"Chance\": 0.91, \"Pred\": 0.9309830715177909}, {\"GRE\": 331, \"TOEFL\": 116, \"Rate\": 5, \"SOP\": 5.0, \"LOR \": 5.0, \"CGPA\": 9.38, \"Research\": 1, \"Chance\": 0.93, \"Pred\": 0.9183219256475061}, {\"GRE\": 304, \"TOEFL\": 103, \"Rate\": 5, \"SOP\": 5.0, \"LOR \": 4.0, \"CGPA\": 8.64, \"Research\": 0, \"Chance\": 0.68, \"Pred\": 0.6985638853246134}, {\"GRE\": 305, \"TOEFL\": 108, \"Rate\": 5, \"SOP\": 3.0, \"LOR \": 3.0, \"CGPA\": 8.48, \"Research\": 0, \"Chance\": 0.61, \"Pred\": 0.6801260791665014}, {\"GRE\": 321, \"TOEFL\": 109, \"Rate\": 4, \"SOP\": 4.0, \"LOR \": 4.0, \"CGPA\": 8.68, \"Research\": 1, \"Chance\": 0.69, \"Pred\": 0.7724885382827529}, {\"GRE\": 301, \"TOEFL\": 107, \"Rate\": 3, \"SOP\": 3.5, \"LOR \": 3.5, \"CGPA\": 8.34, \"Research\": 1, \"Chance\": 0.62, \"Pred\": 0.6762211017290634}, {\"GRE\": 320, \"TOEFL\": 110, \"Rate\": 2, \"SOP\": 4.0, \"LOR \": 3.5, \"CGPA\": 8.56, \"Research\": 0, \"Chance\": 0.72, \"Pred\": 0.712262982867675}, {\"GRE\": 311, \"TOEFL\": 105, \"Rate\": 3, \"SOP\": 3.5, \"LOR \": 3.0, \"CGPA\": 8.45, \"Research\": 1, \"Chance\": 0.59, \"Pred\": 0.6896628400368474}, {\"GRE\": 310, \"TOEFL\": 106, \"Rate\": 4, \"SOP\": 4.5, \"LOR \": 4.5, \"CGPA\": 9.04, \"Research\": 1, \"Chance\": 0.66, \"Pred\": 0.796960462987401}, {\"GRE\": 299, \"TOEFL\": 102, \"Rate\": 3, \"SOP\": 4.0, \"LOR \": 3.5, \"CGPA\": 8.62, \"Research\": 0, \"Chance\": 0.56, \"Pred\": 0.6652737506917215}, {\"GRE\": 290, \"TOEFL\": 104, \"Rate\": 4, \"SOP\": 2.0, \"LOR \": 2.5, \"CGPA\": 7.46, \"Research\": 0, \"Chance\": 0.45, \"Pred\": 0.5074803029105828}, {\"GRE\": 296, \"TOEFL\": 99, \"Rate\": 2, \"SOP\": 3.0, \"LOR \": 3.5, \"CGPA\": 7.28, \"Research\": 0, \"Chance\": 0.47, \"Pred\": 0.489512428618027}, {\"GRE\": 327, \"TOEFL\": 104, \"Rate\": 5, \"SOP\": 3.0, \"LOR \": 3.5, \"CGPA\": 8.84, \"Research\": 1, \"Chance\": 0.71, \"Pred\": 0.7851906997155444}, {\"GRE\": 335, \"TOEFL\": 117, \"Rate\": 5, \"SOP\": 5.0, \"LOR \": 5.0, \"CGPA\": 9.56, \"Research\": 1, \"Chance\": 0.94, \"Pred\": 0.9496002503959533}, {\"GRE\": 334, \"TOEFL\": 119, \"Rate\": 5, \"SOP\": 4.5, \"LOR \": 4.5, \"CGPA\": 9.48, \"Research\": 1, \"Chance\": 0.94, \"Pred\": 0.93466285702938}, {\"GRE\": 310, \"TOEFL\": 106, \"Rate\": 4, \"SOP\": 1.5, \"LOR \": 2.5, \"CGPA\": 8.36, \"Research\": 0, \"Chance\": 0.57, \"Pred\": 0.6567657807245764}, {\"GRE\": 308, \"TOEFL\": 108, \"Rate\": 3, \"SOP\": 3.5, \"LOR \": 3.5, \"CGPA\": 8.22, \"Research\": 0, \"Chance\": 0.61, \"Pred\": 0.6525047188161197}, {\"GRE\": 301, \"TOEFL\": 106, \"Rate\": 4, \"SOP\": 2.5, \"LOR \": 3.0, \"CGPA\": 8.47, \"Research\": 0, \"Chance\": 0.57, \"Pred\": 0.6620838111002367}, {\"GRE\": 300, \"TOEFL\": 100, \"Rate\": 3, \"SOP\": 2.0, \"LOR \": 3.0, \"CGPA\": 8.66, \"Research\": 1, \"Chance\": 0.64, \"Pred\": 0.6858884674940438}, {\"GRE\": 323, \"TOEFL\": 113, \"Rate\": 3, \"SOP\": 4.0, \"LOR \": 3.0, \"CGPA\": 9.32, \"Research\": 1, \"Chance\": 0.85, \"Pred\": 0.8356931335313014}, {\"GRE\": 319, \"TOEFL\": 112, \"Rate\": 3, \"SOP\": 2.5, \"LOR \": 2.0, \"CGPA\": 8.71, \"Research\": 1, \"Chance\": 0.78, \"Pred\": 0.7358754699753711}, {\"GRE\": 326, \"TOEFL\": 112, \"Rate\": 3, \"SOP\": 3.5, \"LOR \": 3.0, \"CGPA\": 9.1, \"Research\": 1, \"Chance\": 0.84, \"Pred\": 0.813471696158605}, {\"GRE\": 333, \"TOEFL\": 118, \"Rate\": 5, \"SOP\": 5.0, \"LOR \": 5.0, \"CGPA\": 9.35, \"Research\": 1, \"Chance\": 0.92, \"Pred\": 0.9240677188154736}, {\"GRE\": 339, \"TOEFL\": 114, \"Rate\": 5, \"SOP\": 4.0, \"LOR \": 4.5, \"CGPA\": 9.76, \"Research\": 1, \"Chance\": 0.96, \"Pred\": 0.9637076623295269}, {\"GRE\": 303, \"TOEFL\": 105, \"Rate\": 5, \"SOP\": 5.0, \"LOR \": 4.5, \"CGPA\": 8.65, \"Research\": 0, \"Chance\": 0.77, \"Pred\": 0.7150315855875997}, {\"GRE\": 309, \"TOEFL\": 105, \"Rate\": 5, \"SOP\": 3.5, \"LOR \": 3.5, \"CGPA\": 8.56, \"Research\": 0, \"Chance\": 0.71, \"Pred\": 0.6973561304291911}, {\"GRE\": 323, \"TOEFL\": 112, \"Rate\": 5, \"SOP\": 4.0, \"LOR \": 4.5, \"CGPA\": 8.78, \"Research\": 0, \"Chance\": 0.79, \"Pred\": 0.7889841527390369}, {\"GRE\": 333, \"TOEFL\": 113, \"Rate\": 5, \"SOP\": 4.0, \"LOR \": 4.0, \"CGPA\": 9.28, \"Research\": 1, \"Chance\": 0.89, \"Pred\": 0.8820961146957622}, {\"GRE\": 314, \"TOEFL\": 109, \"Rate\": 4, \"SOP\": 3.5, \"LOR \": 4.0, \"CGPA\": 8.77, \"Research\": 1, \"Chance\": 0.82, \"Pred\": 0.7726837926319206}, {\"GRE\": 312, \"TOEFL\": 103, \"Rate\": 3, \"SOP\": 5.0, \"LOR \": 4.0, \"CGPA\": 8.45, \"Research\": 0, \"Chance\": 0.76, \"Pred\": 0.6784313654394476}, {\"GRE\": 316, \"TOEFL\": 100, \"Rate\": 2, \"SOP\": 1.5, \"LOR \": 3.0, \"CGPA\": 8.16, \"Research\": 1, \"Chance\": 0.71, \"Pred\": 0.6501532522193649}, {\"GRE\": 326, \"TOEFL\": 116, \"Rate\": 2, \"SOP\": 4.5, \"LOR \": 3.0, \"CGPA\": 9.08, \"Research\": 1, \"Chance\": 0.8, \"Pred\": 0.8137493871743773}, {\"GRE\": 318, \"TOEFL\": 109, \"Rate\": 1, \"SOP\": 3.5, \"LOR \": 3.5, \"CGPA\": 9.12, \"Research\": 0, \"Chance\": 0.78, \"Pred\": 0.7684106033106717}, {\"GRE\": 329, \"TOEFL\": 110, \"Rate\": 2, \"SOP\": 4.0, \"LOR \": 3.0, \"CGPA\": 9.15, \"Research\": 1, \"Chance\": 0.84, \"Pred\": 0.8114225072601944}, {\"GRE\": 332, \"TOEFL\": 118, \"Rate\": 2, \"SOP\": 4.5, \"LOR \": 3.5, \"CGPA\": 9.36, \"Research\": 1, \"Chance\": 0.9, \"Pred\": 0.8744926209056605}, {\"GRE\": 331, \"TOEFL\": 115, \"Rate\": 5, \"SOP\": 4.0, \"LOR \": 3.5, \"CGPA\": 9.44, \"Research\": 1, \"Chance\": 0.92, \"Pred\": 0.8923141940989299}, {\"GRE\": 340, \"TOEFL\": 120, \"Rate\": 4, \"SOP\": 4.5, \"LOR \": 4.0, \"CGPA\": 9.92, \"Research\": 1, \"Chance\": 0.97, \"Pred\": 0.9834470410559828}, {\"GRE\": 325, \"TOEFL\": 112, \"Rate\": 2, \"SOP\": 3.0, \"LOR \": 3.5, \"CGPA\": 8.96, \"Research\": 1, \"Chance\": 0.8, \"Pred\": 0.8021952511357984}, {\"GRE\": 320, \"TOEFL\": 113, \"Rate\": 2, \"SOP\": 2.0, \"LOR \": 2.5, \"CGPA\": 8.64, \"Research\": 1, \"Chance\": 0.81, \"Pred\": 0.7393191866633102}, {\"GRE\": 315, \"TOEFL\": 105, \"Rate\": 3, \"SOP\": 2.0, \"LOR \": 2.5, \"CGPA\": 8.48, \"Research\": 0, \"Chance\": 0.75, \"Pred\": 0.6694367535369112}, {\"GRE\": 326, \"TOEFL\": 114, \"Rate\": 3, \"SOP\": 3.0, \"LOR \": 3.0, \"CGPA\": 9.11, \"Research\": 1, \"Chance\": 0.83, \"Pred\": 0.8221528288509588}, {\"GRE\": 339, \"TOEFL\": 116, \"Rate\": 4, \"SOP\": 4.0, \"LOR \": 3.5, \"CGPA\": 9.8, \"Research\": 1, \"Chance\": 0.96, \"Pred\": 0.9462346086439781}, {\"GRE\": 311, \"TOEFL\": 106, \"Rate\": 2, \"SOP\": 3.5, \"LOR \": 3.0, \"CGPA\": 8.26, \"Research\": 1, \"Chance\": 0.79, \"Pred\": 0.6642672625354158}, {\"GRE\": 334, \"TOEFL\": 114, \"Rate\": 4, \"SOP\": 4.0, \"LOR \": 4.0, \"CGPA\": 9.43, \"Research\": 1, \"Chance\": 0.93, \"Pred\": 0.8988773629883353}, {\"GRE\": 332, \"TOEFL\": 116, \"Rate\": 5, \"SOP\": 5.0, \"LOR \": 5.0, \"CGPA\": 9.28, \"Research\": 1, \"Chance\": 0.94, \"Pred\": 0.9081653918588166}, {\"GRE\": 321, \"TOEFL\": 112, \"Rate\": 5, \"SOP\": 5.0, \"LOR \": 5.0, \"CGPA\": 9.06, \"Research\": 1, \"Chance\": 0.86, \"Pred\": 0.8512088775186146}, {\"GRE\": 324, \"TOEFL\": 105, \"Rate\": 3, \"SOP\": 3.0, \"LOR \": 4.0, \"CGPA\": 8.75, \"Research\": 0, \"Chance\": 0.79, \"Pred\": 0.7474116320947088}, {\"GRE\": 326, \"TOEFL\": 108, \"Rate\": 3, \"SOP\": 3.0, \"LOR \": 3.5, \"CGPA\": 8.89, \"Research\": 0, \"Chance\": 0.8, \"Pred\": 0.7651201455269174}, {\"GRE\": 312, \"TOEFL\": 109, \"Rate\": 3, \"SOP\": 3.0, \"LOR \": 3.0, \"CGPA\": 8.69, \"Research\": 0, \"Chance\": 0.77, \"Pred\": 0.7087515059660594}, {\"GRE\": 315, \"TOEFL\": 105, \"Rate\": 3, \"SOP\": 2.0, \"LOR \": 2.5, \"CGPA\": 8.34, \"Research\": 0, \"Chance\": 0.7, \"Pred\": 0.6527852300333266}, {\"GRE\": 309, \"TOEFL\": 104, \"Rate\": 2, \"SOP\": 2.0, \"LOR \": 2.5, \"CGPA\": 8.26, \"Research\": 0, \"Chance\": 0.65, \"Pred\": 0.6242093693676336}, {\"GRE\": 306, \"TOEFL\": 106, \"Rate\": 2, \"SOP\": 2.0, \"LOR \": 2.5, \"CGPA\": 8.14, \"Research\": 0, \"Chance\": 0.61, \"Pred\": 0.610563553856798}, {\"GRE\": 297, \"TOEFL\": 100, \"Rate\": 1, \"SOP\": 1.5, \"LOR \": 2.0, \"CGPA\": 7.9, \"Research\": 0, \"Chance\": 0.52, \"Pred\": 0.5336232826762652}, {\"GRE\": 315, \"TOEFL\": 103, \"Rate\": 1, \"SOP\": 1.5, \"LOR \": 2.0, \"CGPA\": 7.86, \"Research\": 0, \"Chance\": 0.57, \"Pred\": 0.5688978432614125}, {\"GRE\": 298, \"TOEFL\": 99, \"Rate\": 1, \"SOP\": 1.5, \"LOR \": 3.0, \"CGPA\": 7.46, \"Research\": 0, \"Chance\": 0.53, \"Pred\": 0.5024608851760195}, {\"GRE\": 318, \"TOEFL\": 109, \"Rate\": 3, \"SOP\": 3.0, \"LOR \": 3.0, \"CGPA\": 8.5, \"Research\": 0, \"Chance\": 0.67, \"Pred\": 0.6965774792087078}, {\"GRE\": 317, \"TOEFL\": 105, \"Rate\": 3, \"SOP\": 3.5, \"LOR \": 3.0, \"CGPA\": 8.56, \"Research\": 0, \"Chance\": 0.68, \"Pred\": 0.6886455430632819}, {\"GRE\": 329, \"TOEFL\": 111, \"Rate\": 4, \"SOP\": 4.5, \"LOR \": 4.0, \"CGPA\": 9.01, \"Research\": 1, \"Chance\": 0.81, \"Pred\": 0.8298244196492026}, {\"GRE\": 322, \"TOEFL\": 110, \"Rate\": 5, \"SOP\": 4.5, \"LOR \": 4.0, \"CGPA\": 8.97, \"Research\": 0, \"Chance\": 0.78, \"Pred\": 0.7911769355308962}, {\"GRE\": 302, \"TOEFL\": 102, \"Rate\": 3, \"SOP\": 3.5, \"LOR \": 5.0, \"CGPA\": 8.33, \"Research\": 0, \"Chance\": 0.65, \"Pred\": 0.6711758193766972}, {\"GRE\": 313, \"TOEFL\": 102, \"Rate\": 3, \"SOP\": 2.0, \"LOR \": 3.0, \"CGPA\": 8.27, \"Research\": 0, \"Chance\": 0.64, \"Pred\": 0.6434024783529104}, {\"GRE\": 293, \"TOEFL\": 97, \"Rate\": 2, \"SOP\": 2.0, \"LOR \": 4.0, \"CGPA\": 7.8, \"Research\": 1, \"Chance\": 0.64, \"Pred\": 0.5793163951461608}, {\"GRE\": 311, \"TOEFL\": 99, \"Rate\": 2, \"SOP\": 2.5, \"LOR \": 3.0, \"CGPA\": 7.98, \"Research\": 0, \"Chance\": 0.65, \"Pred\": 0.5893072405595137}, {\"GRE\": 312, \"TOEFL\": 101, \"Rate\": 2, \"SOP\": 2.5, \"LOR \": 3.5, \"CGPA\": 8.04, \"Research\": 1, \"Chance\": 0.68, \"Pred\": 0.6397218429397031}, {\"GRE\": 334, \"TOEFL\": 117, \"Rate\": 5, \"SOP\": 4.0, \"LOR \": 4.5, \"CGPA\": 9.07, \"Research\": 1, \"Chance\": 0.89, \"Pred\": 0.8817111119432799}, {\"GRE\": 322, \"TOEFL\": 110, \"Rate\": 4, \"SOP\": 4.0, \"LOR \": 5.0, \"CGPA\": 9.13, \"Research\": 1, \"Chance\": 0.86, \"Pred\": 0.8530214081177159}, {\"GRE\": 323, \"TOEFL\": 113, \"Rate\": 4, \"SOP\": 4.0, \"LOR \": 4.5, \"CGPA\": 9.23, \"Research\": 1, \"Chance\": 0.89, \"Pred\": 0.8642349318350291}, {\"GRE\": 321, \"TOEFL\": 111, \"Rate\": 4, \"SOP\": 4.0, \"LOR \": 4.0, \"CGPA\": 8.97, \"Research\": 1, \"Chance\": 0.87, \"Pred\": 0.8128201334597429}, {\"GRE\": 320, \"TOEFL\": 111, \"Rate\": 4, \"SOP\": 4.5, \"LOR \": 3.5, \"CGPA\": 8.87, \"Research\": 1, \"Chance\": 0.85, \"Pred\": 0.7863596283423122}, {\"GRE\": 329, \"TOEFL\": 119, \"Rate\": 4, \"SOP\": 4.5, \"LOR \": 4.5, \"CGPA\": 9.16, \"Research\": 1, \"Chance\": 0.9, \"Pred\": 0.8821985158883388}, {\"GRE\": 319, \"TOEFL\": 110, \"Rate\": 3, \"SOP\": 3.5, \"LOR \": 3.5, \"CGPA\": 9.04, \"Research\": 0, \"Chance\": 0.82, \"Pred\": 0.7749857516806904}, {\"GRE\": 309, \"TOEFL\": 108, \"Rate\": 3, \"SOP\": 2.5, \"LOR \": 3.0, \"CGPA\": 8.12, \"Research\": 0, \"Chance\": 0.72, \"Pred\": 0.6344767904083171}, {\"GRE\": 307, \"TOEFL\": 102, \"Rate\": 3, \"SOP\": 3.0, \"LOR \": 3.0, \"CGPA\": 8.27, \"Research\": 0, \"Chance\": 0.73, \"Pred\": 0.6296728398817597}, {\"GRE\": 300, \"TOEFL\": 104, \"Rate\": 3, \"SOP\": 3.5, \"LOR \": 3.0, \"CGPA\": 8.16, \"Research\": 0, \"Chance\": 0.71, \"Pred\": 0.6086141881003051}, {\"GRE\": 305, \"TOEFL\": 107, \"Rate\": 2, \"SOP\": 2.5, \"LOR \": 2.5, \"CGPA\": 8.42, \"Research\": 0, \"Chance\": 0.71, \"Pred\": 0.6433961815873446}, {\"GRE\": 299, \"TOEFL\": 100, \"Rate\": 2, \"SOP\": 3.0, \"LOR \": 3.5, \"CGPA\": 7.88, \"Research\": 0, \"Chance\": 0.68, \"Pred\": 0.5690079123062135}, {\"GRE\": 314, \"TOEFL\": 110, \"Rate\": 3, \"SOP\": 4.0, \"LOR \": 4.0, \"CGPA\": 8.8, \"Research\": 0, \"Chance\": 0.75, \"Pred\": 0.7472772041039792}, {\"GRE\": 316, \"TOEFL\": 106, \"Rate\": 2, \"SOP\": 2.5, \"LOR \": 4.0, \"CGPA\": 8.32, \"Research\": 0, \"Chance\": 0.72, \"Pred\": 0.6812238776844102}, {\"GRE\": 327, \"TOEFL\": 113, \"Rate\": 4, \"SOP\": 4.5, \"LOR \": 4.5, \"CGPA\": 9.11, \"Research\": 1, \"Chance\": 0.89, \"Pred\": 0.8552592591649082}, {\"GRE\": 317, \"TOEFL\": 107, \"Rate\": 3, \"SOP\": 3.5, \"LOR \": 3.0, \"CGPA\": 8.68, \"Research\": 1, \"Chance\": 0.84, \"Pred\": 0.7332825374240994}, {\"GRE\": 335, \"TOEFL\": 118, \"Rate\": 5, \"SOP\": 4.5, \"LOR \": 3.5, \"CGPA\": 9.44, \"Research\": 1, \"Chance\": 0.93, \"Pred\": 0.9063699863112282}, {\"GRE\": 331, \"TOEFL\": 115, \"Rate\": 5, \"SOP\": 4.5, \"LOR \": 3.5, \"CGPA\": 9.36, \"Research\": 1, \"Chance\": 0.93, \"Pred\": 0.8811464532886342}, {\"GRE\": 324, \"TOEFL\": 112, \"Rate\": 5, \"SOP\": 5.0, \"LOR \": 5.0, \"CGPA\": 9.08, \"Research\": 1, \"Chance\": 0.88, \"Pred\": 0.8587999013035976}, {\"GRE\": 324, \"TOEFL\": 111, \"Rate\": 5, \"SOP\": 4.5, \"LOR \": 4.0, \"CGPA\": 9.16, \"Research\": 1, \"Chance\": 0.9, \"Pred\": 0.8446949379686088}, {\"GRE\": 323, \"TOEFL\": 110, \"Rate\": 5, \"SOP\": 4.0, \"LOR \": 5.0, \"CGPA\": 8.98, \"Research\": 1, \"Chance\": 0.87, \"Pred\": 0.8426345597840961}, {\"GRE\": 322, \"TOEFL\": 114, \"Rate\": 5, \"SOP\": 4.5, \"LOR \": 4.0, \"CGPA\": 8.94, \"Research\": 1, \"Chance\": 0.86, \"Pred\": 0.8238121654860089}, {\"GRE\": 336, \"TOEFL\": 118, \"Rate\": 5, \"SOP\": 4.5, \"LOR \": 5.0, \"CGPA\": 9.53, \"Research\": 1, \"Chance\": 0.94, \"Pred\": 0.9523416396985145}, {\"GRE\": 316, \"TOEFL\": 109, \"Rate\": 3, \"SOP\": 3.5, \"LOR \": 3.0, \"CGPA\": 8.76, \"Research\": 0, \"Chance\": 0.77, \"Pred\": 0.722374329479375}, {\"GRE\": 307, \"TOEFL\": 107, \"Rate\": 2, \"SOP\": 3.0, \"LOR \": 3.5, \"CGPA\": 8.52, \"Research\": 1, \"Chance\": 0.78, \"Pred\": 0.7039905991902256}, {\"GRE\": 306, \"TOEFL\": 105, \"Rate\": 2, \"SOP\": 3.0, \"LOR \": 2.5, \"CGPA\": 8.26, \"Research\": 0, \"Chance\": 0.73, \"Pred\": 0.6186115424264502}, {\"GRE\": 310, \"TOEFL\": 106, \"Rate\": 2, \"SOP\": 3.5, \"LOR \": 2.5, \"CGPA\": 8.33, \"Research\": 0, \"Chance\": 0.73, \"Pred\": 0.6351539427566906}, {\"GRE\": 311, \"TOEFL\": 104, \"Rate\": 3, \"SOP\": 4.5, \"LOR \": 4.5, \"CGPA\": 8.43, \"Research\": 0, \"Chance\": 0.7, \"Pred\": 0.690063889800131}, {\"GRE\": 313, \"TOEFL\": 107, \"Rate\": 3, \"SOP\": 4.0, \"LOR \": 4.5, \"CGPA\": 8.69, \"Research\": 0, \"Chance\": 0.72, \"Pred\": 0.7348742858506958}, {\"GRE\": 317, \"TOEFL\": 103, \"Rate\": 3, \"SOP\": 2.5, \"LOR \": 3.0, \"CGPA\": 8.54, \"Research\": 1, \"Chance\": 0.73, \"Pred\": 0.7082578756978808}, {\"GRE\": 315, \"TOEFL\": 110, \"Rate\": 2, \"SOP\": 3.5, \"LOR \": 3.0, \"CGPA\": 8.46, \"Research\": 1, \"Chance\": 0.72, \"Pred\": 0.7066831068065789}, {\"GRE\": 340, \"TOEFL\": 120, \"Rate\": 5, \"SOP\": 4.5, \"LOR \": 4.5, \"CGPA\": 9.91, \"Research\": 1, \"Chance\": 0.97, \"Pred\": 0.9991508683191135}, {\"GRE\": 334, \"TOEFL\": 120, \"Rate\": 5, \"SOP\": 4.0, \"LOR \": 5.0, \"CGPA\": 9.87, \"Research\": 1, \"Chance\": 0.97, \"Pred\": 0.9967979689358601}, {\"GRE\": 298, \"TOEFL\": 105, \"Rate\": 3, \"SOP\": 3.5, \"LOR \": 4.0, \"CGPA\": 8.54, \"Research\": 0, \"Chance\": 0.69, \"Pred\": 0.6756090614704333}, {\"GRE\": 295, \"TOEFL\": 99, \"Rate\": 2, \"SOP\": 2.5, \"LOR \": 3.0, \"CGPA\": 7.65, \"Research\": 0, \"Chance\": 0.57, \"Pred\": 0.5222586357362682}, {\"GRE\": 315, \"TOEFL\": 99, \"Rate\": 2, \"SOP\": 3.5, \"LOR \": 3.0, \"CGPA\": 7.89, \"Research\": 0, \"Chance\": 0.63, \"Pred\": 0.5822471669747706}, {\"GRE\": 310, \"TOEFL\": 102, \"Rate\": 3, \"SOP\": 3.5, \"LOR \": 4.0, \"CGPA\": 8.02, \"Research\": 1, \"Chance\": 0.66, \"Pred\": 0.6503758602966938}, {\"GRE\": 305, \"TOEFL\": 106, \"Rate\": 2, \"SOP\": 3.0, \"LOR \": 3.0, \"CGPA\": 8.16, \"Research\": 0, \"Chance\": 0.64, \"Pred\": 0.6190763259768379}, {\"GRE\": 301, \"TOEFL\": 104, \"Rate\": 3, \"SOP\": 3.5, \"LOR \": 4.0, \"CGPA\": 8.12, \"Research\": 1, \"Chance\": 0.68, \"Pred\": 0.6524722551511206}, {\"GRE\": 325, \"TOEFL\": 108, \"Rate\": 4, \"SOP\": 4.5, \"LOR \": 4.0, \"CGPA\": 9.06, \"Research\": 1, \"Chance\": 0.79, \"Pred\": 0.8200630155942232}, {\"GRE\": 328, \"TOEFL\": 110, \"Rate\": 4, \"SOP\": 5.0, \"LOR \": 4.0, \"CGPA\": 9.14, \"Research\": 1, \"Chance\": 0.82, \"Pred\": 0.8389769757063446}, {\"GRE\": 338, \"TOEFL\": 120, \"Rate\": 4, \"SOP\": 5.0, \"LOR \": 5.0, \"CGPA\": 9.66, \"Research\": 1, \"Chance\": 0.95, \"Pred\": 0.9697485027845529}, {\"GRE\": 333, \"TOEFL\": 119, \"Rate\": 5, \"SOP\": 5.0, \"LOR \": 4.5, \"CGPA\": 9.78, \"Research\": 1, \"Chance\": 0.96, \"Pred\": 0.9669546970149423}, {\"GRE\": 331, \"TOEFL\": 117, \"Rate\": 4, \"SOP\": 4.5, \"LOR \": 5.0, \"CGPA\": 9.42, \"Research\": 1, \"Chance\": 0.94, \"Pred\": 0.9219350069959245}, {\"GRE\": 330, \"TOEFL\": 116, \"Rate\": 5, \"SOP\": 5.0, \"LOR \": 4.5, \"CGPA\": 9.36, \"Research\": 1, \"Chance\": 0.93, \"Pred\": 0.9030291613403716}, {\"GRE\": 322, \"TOEFL\": 112, \"Rate\": 4, \"SOP\": 4.5, \"LOR \": 4.5, \"CGPA\": 9.26, \"Research\": 1, \"Chance\": 0.91, \"Pred\": 0.8614935425324675}, {\"GRE\": 321, \"TOEFL\": 109, \"Rate\": 4, \"SOP\": 4.0, \"LOR \": 4.0, \"CGPA\": 9.13, \"Research\": 1, \"Chance\": 0.85, \"Pred\": 0.8260112924014174}, {\"GRE\": 324, \"TOEFL\": 110, \"Rate\": 4, \"SOP\": 3.0, \"LOR \": 3.5, \"CGPA\": 8.97, \"Research\": 1, \"Chance\": 0.84, \"Pred\": 0.8072413967367462}, {\"GRE\": 312, \"TOEFL\": 104, \"Rate\": 3, \"SOP\": 3.5, \"LOR \": 3.5, \"CGPA\": 8.42, \"Research\": 0, \"Chance\": 0.74, \"Pred\": 0.6715639485518816}, {\"GRE\": 313, \"TOEFL\": 103, \"Rate\": 3, \"SOP\": 4.0, \"LOR \": 4.0, \"CGPA\": 8.75, \"Research\": 0, \"Chance\": 0.76, \"Pred\": 0.7191557821346375}, {\"GRE\": 316, \"TOEFL\": 110, \"Rate\": 3, \"SOP\": 3.5, \"LOR \": 4.0, \"CGPA\": 8.56, \"Research\": 0, \"Chance\": 0.75, \"Pred\": 0.723859142905253}, {\"GRE\": 324, \"TOEFL\": 113, \"Rate\": 4, \"SOP\": 4.5, \"LOR \": 4.0, \"CGPA\": 8.79, \"Research\": 0, \"Chance\": 0.76, \"Pred\": 0.7762847293413129}, {\"GRE\": 308, \"TOEFL\": 109, \"Rate\": 2, \"SOP\": 3.0, \"LOR \": 4.0, \"CGPA\": 8.45, \"Research\": 0, \"Chance\": 0.71, \"Pred\": 0.6898928600121537}, {\"GRE\": 305, \"TOEFL\": 105, \"Rate\": 2, \"SOP\": 3.0, \"LOR \": 2.0, \"CGPA\": 8.23, \"Research\": 0, \"Chance\": 0.67, \"Pred\": 0.6021293835833454}, {\"GRE\": 296, \"TOEFL\": 99, \"Rate\": 2, \"SOP\": 2.5, \"LOR \": 2.5, \"CGPA\": 8.03, \"Research\": 0, \"Chance\": 0.61, \"Pred\": 0.5580164760099746}, {\"GRE\": 306, \"TOEFL\": 110, \"Rate\": 2, \"SOP\": 3.5, \"LOR \": 4.0, \"CGPA\": 8.45, \"Research\": 0, \"Chance\": 0.63, \"Pred\": 0.6876850291645176}, {\"GRE\": 312, \"TOEFL\": 110, \"Rate\": 2, \"SOP\": 3.5, \"LOR \": 3.0, \"CGPA\": 8.53, \"Research\": 0, \"Chance\": 0.64, \"Pred\": 0.6852715275500054}, {\"GRE\": 318, \"TOEFL\": 112, \"Rate\": 3, \"SOP\": 4.0, \"LOR \": 3.5, \"CGPA\": 8.67, \"Research\": 0, \"Chance\": 0.71, \"Pred\": 0.7334273113900918}, {\"GRE\": 324, \"TOEFL\": 111, \"Rate\": 4, \"SOP\": 3.0, \"LOR \": 3.0, \"CGPA\": 9.01, \"Research\": 1, \"Chance\": 0.82, \"Pred\": 0.8037419880333727}, {\"GRE\": 313, \"TOEFL\": 104, \"Rate\": 3, \"SOP\": 4.0, \"LOR \": 4.5, \"CGPA\": 8.65, \"Research\": 0, \"Chance\": 0.73, \"Pred\": 0.7213579772560392}, {\"GRE\": 319, \"TOEFL\": 106, \"Rate\": 3, \"SOP\": 3.5, \"LOR \": 2.5, \"CGPA\": 8.33, \"Research\": 1, \"Chance\": 0.74, \"Pred\": 0.6810324113260617}, {\"GRE\": 312, \"TOEFL\": 107, \"Rate\": 2, \"SOP\": 2.5, \"LOR \": 3.5, \"CGPA\": 8.27, \"Research\": 0, \"Chance\": 0.69, \"Pred\": 0.6600702718732476}, {\"GRE\": 304, \"TOEFL\": 100, \"Rate\": 2, \"SOP\": 2.5, \"LOR \": 3.5, \"CGPA\": 8.07, \"Research\": 0, \"Chance\": 0.64, \"Pred\": 0.6019460508672527}, {\"GRE\": 330, \"TOEFL\": 113, \"Rate\": 5, \"SOP\": 5.0, \"LOR \": 4.0, \"CGPA\": 9.31, \"Research\": 1, \"Chance\": 0.91, \"Pred\": 0.8771468945455652}, {\"GRE\": 326, \"TOEFL\": 111, \"Rate\": 5, \"SOP\": 4.5, \"LOR \": 4.0, \"CGPA\": 9.23, \"Research\": 1, \"Chance\": 0.88, \"Pred\": 0.8564955228624289}, {\"GRE\": 325, \"TOEFL\": 112, \"Rate\": 4, \"SOP\": 4.0, \"LOR \": 4.5, \"CGPA\": 9.17, \"Research\": 1, \"Chance\": 0.85, \"Pred\": 0.8576538109443097}, {\"GRE\": 329, \"TOEFL\": 114, \"Rate\": 5, \"SOP\": 4.5, \"LOR \": 5.0, \"CGPA\": 9.19, \"Research\": 1, \"Chance\": 0.86, \"Pred\": 0.8880620372107246}, {\"GRE\": 310, \"TOEFL\": 104, \"Rate\": 3, \"SOP\": 2.0, \"LOR \": 3.5, \"CGPA\": 8.37, \"Research\": 0, \"Chance\": 0.7, \"Pred\": 0.6670999062976015}, {\"GRE\": 299, \"TOEFL\": 100, \"Rate\": 1, \"SOP\": 1.5, \"LOR \": 2.0, \"CGPA\": 7.89, \"Research\": 0, \"Chance\": 0.59, \"Pred\": 0.5359087112823231}, {\"GRE\": 296, \"TOEFL\": 101, \"Rate\": 1, \"SOP\": 2.5, \"LOR \": 3.0, \"CGPA\": 7.68, \"Research\": 0, \"Chance\": 0.6, \"Pred\": 0.5276867264141225}, {\"GRE\": 317, \"TOEFL\": 103, \"Rate\": 2, \"SOP\": 2.5, \"LOR \": 2.0, \"CGPA\": 8.15, \"Research\": 0, \"Chance\": 0.65, \"Pred\": 0.6092765970364347}, {\"GRE\": 324, \"TOEFL\": 115, \"Rate\": 3, \"SOP\": 3.5, \"LOR \": 3.0, \"CGPA\": 8.76, \"Research\": 1, \"Chance\": 0.7, \"Pred\": 0.7783161892443615}, {\"GRE\": 325, \"TOEFL\": 114, \"Rate\": 3, \"SOP\": 3.5, \"LOR \": 3.0, \"CGPA\": 9.04, \"Research\": 1, \"Chance\": 0.76, \"Pred\": 0.8104370710056188}, {\"GRE\": 314, \"TOEFL\": 107, \"Rate\": 2, \"SOP\": 2.5, \"LOR \": 4.0, \"CGPA\": 8.56, \"Research\": 0, \"Chance\": 0.63, \"Pred\": 0.7092141002225947}, {\"GRE\": 328, \"TOEFL\": 110, \"Rate\": 4, \"SOP\": 4.0, \"LOR \": 2.5, \"CGPA\": 9.02, \"Research\": 1, \"Chance\": 0.81, \"Pred\": 0.7944797193272286}, {\"GRE\": 316, \"TOEFL\": 105, \"Rate\": 3, \"SOP\": 3.0, \"LOR \": 3.5, \"CGPA\": 8.73, \"Research\": 0, \"Chance\": 0.72, \"Pred\": 0.719956986790476}, {\"GRE\": 311, \"TOEFL\": 104, \"Rate\": 2, \"SOP\": 2.5, \"LOR \": 3.5, \"CGPA\": 8.48, \"Research\": 0, \"Chance\": 0.71, \"Pred\": 0.674551415106835}, {\"GRE\": 324, \"TOEFL\": 110, \"Rate\": 3, \"SOP\": 3.5, \"LOR \": 4.0, \"CGPA\": 8.87, \"Research\": 1, \"Chance\": 0.8, \"Pred\": 0.7991547723837684}, {\"GRE\": 321, \"TOEFL\": 111, \"Rate\": 3, \"SOP\": 3.5, \"LOR \": 4.0, \"CGPA\": 8.83, \"Research\": 1, \"Chance\": 0.77, \"Pred\": 0.7921045363437702}, {\"GRE\": 320, \"TOEFL\": 104, \"Rate\": 3, \"SOP\": 3.0, \"LOR \": 2.5, \"CGPA\": 8.57, \"Research\": 1, \"Chance\": 0.74, \"Pred\": 0.7071287226490464}, {\"GRE\": 316, \"TOEFL\": 99, \"Rate\": 2, \"SOP\": 2.5, \"LOR \": 3.0, \"CGPA\": 9.0, \"Research\": 0, \"Chance\": 0.7, \"Pred\": 0.7193125410835564}, {\"GRE\": 318, \"TOEFL\": 100, \"Rate\": 2, \"SOP\": 2.5, \"LOR \": 3.5, \"CGPA\": 8.54, \"Research\": 1, \"Chance\": 0.71, \"Pred\": 0.7066964623473782}, {\"GRE\": 335, \"TOEFL\": 115, \"Rate\": 4, \"SOP\": 4.5, \"LOR \": 4.5, \"CGPA\": 9.68, \"Research\": 1, \"Chance\": 0.93, \"Pred\": 0.942793193917179}, {\"GRE\": 321, \"TOEFL\": 114, \"Rate\": 4, \"SOP\": 4.0, \"LOR \": 5.0, \"CGPA\": 9.12, \"Research\": 0, \"Chance\": 0.85, \"Pred\": 0.8372478029831087}, {\"GRE\": 307, \"TOEFL\": 110, \"Rate\": 4, \"SOP\": 4.0, \"LOR \": 4.5, \"CGPA\": 8.37, \"Research\": 0, \"Chance\": 0.79, \"Pred\": 0.7008645798592577}, {\"GRE\": 309, \"TOEFL\": 99, \"Rate\": 3, \"SOP\": 4.0, \"LOR \": 4.0, \"CGPA\": 8.56, \"Research\": 0, \"Chance\": 0.76, \"Pred\": 0.6779293323994449}, {\"GRE\": 324, \"TOEFL\": 100, \"Rate\": 3, \"SOP\": 4.0, \"LOR \": 5.0, \"CGPA\": 8.64, \"Research\": 1, \"Chance\": 0.78, \"Pred\": 0.7633034726930263}, {\"GRE\": 326, \"TOEFL\": 102, \"Rate\": 4, \"SOP\": 5.0, \"LOR \": 5.0, \"CGPA\": 8.76, \"Research\": 1, \"Chance\": 0.77, \"Pred\": 0.7893016729904032}, {\"GRE\": 331, \"TOEFL\": 119, \"Rate\": 4, \"SOP\": 5.0, \"LOR \": 4.5, \"CGPA\": 9.34, \"Research\": 1, \"Chance\": 0.9, \"Pred\": 0.9054298561552991}, {\"GRE\": 327, \"TOEFL\": 108, \"Rate\": 5, \"SOP\": 5.0, \"LOR \": 3.5, \"CGPA\": 9.13, \"Research\": 1, \"Chance\": 0.87, \"Pred\": 0.8247511104362519}, {\"GRE\": 312, \"TOEFL\": 104, \"Rate\": 3, \"SOP\": 3.5, \"LOR \": 4.0, \"CGPA\": 8.09, \"Research\": 0, \"Chance\": 0.71, \"Pred\": 0.643490492529041}, {\"GRE\": 308, \"TOEFL\": 103, \"Rate\": 2, \"SOP\": 2.5, \"LOR \": 4.0, \"CGPA\": 8.36, \"Research\": 1, \"Chance\": 0.7, \"Pred\": 0.6878485391047269}, {\"GRE\": 324, \"TOEFL\": 111, \"Rate\": 3, \"SOP\": 2.5, \"LOR \": 1.5, \"CGPA\": 8.79, \"Research\": 1, \"Chance\": 0.7, \"Pred\": 0.7399815436370991}, {\"GRE\": 325, \"TOEFL\": 110, \"Rate\": 2, \"SOP\": 3.0, \"LOR \": 2.5, \"CGPA\": 8.76, \"Research\": 1, \"Chance\": 0.75, \"Pred\": 0.7502150794541824}, {\"GRE\": 313, \"TOEFL\": 102, \"Rate\": 3, \"SOP\": 2.5, \"LOR \": 2.5, \"CGPA\": 8.68, \"Research\": 0, \"Chance\": 0.71, \"Pred\": 0.6793385061409807}, {\"GRE\": 312, \"TOEFL\": 105, \"Rate\": 2, \"SOP\": 2.0, \"LOR \": 2.5, \"CGPA\": 8.45, \"Research\": 0, \"Chance\": 0.72, \"Pred\": 0.654939677081037}, {\"GRE\": 314, \"TOEFL\": 107, \"Rate\": 3, \"SOP\": 3.0, \"LOR \": 3.5, \"CGPA\": 8.17, \"Research\": 1, \"Chance\": 0.73, \"Pred\": 0.6802403295632842}, {\"GRE\": 327, \"TOEFL\": 113, \"Rate\": 4, \"SOP\": 4.5, \"LOR \": 5.0, \"CGPA\": 9.14, \"Research\": 0, \"Chance\": 0.83, \"Pred\": 0.8454789001416756}, {\"GRE\": 308, \"TOEFL\": 108, \"Rate\": 4, \"SOP\": 4.5, \"LOR \": 5.0, \"CGPA\": 8.34, \"Research\": 0, \"Chance\": 0.77, \"Pred\": 0.7027186333301574}, {\"GRE\": 306, \"TOEFL\": 105, \"Rate\": 2, \"SOP\": 2.5, \"LOR \": 3.0, \"CGPA\": 8.22, \"Research\": 1, \"Chance\": 0.72, \"Pred\": 0.6512082187646056}, {\"GRE\": 299, \"TOEFL\": 96, \"Rate\": 2, \"SOP\": 1.5, \"LOR \": 2.0, \"CGPA\": 7.86, \"Research\": 0, \"Chance\": 0.54, \"Pred\": 0.5263788785416328}, {\"GRE\": 294, \"TOEFL\": 95, \"Rate\": 1, \"SOP\": 1.5, \"LOR \": 1.5, \"CGPA\": 7.64, \"Research\": 0, \"Chance\": 0.49, \"Pred\": 0.47171234227918957}, {\"GRE\": 312, \"TOEFL\": 99, \"Rate\": 1, \"SOP\": 1.0, \"LOR \": 1.5, \"CGPA\": 8.01, \"Research\": 1, \"Chance\": 0.52, \"Pred\": 0.5848493464739017}, {\"GRE\": 315, \"TOEFL\": 100, \"Rate\": 1, \"SOP\": 2.0, \"LOR \": 2.5, \"CGPA\": 7.95, \"Research\": 0, \"Chance\": 0.58, \"Pred\": 0.5803676427760165}, {\"GRE\": 322, \"TOEFL\": 110, \"Rate\": 3, \"SOP\": 3.5, \"LOR \": 3.0, \"CGPA\": 8.96, \"Research\": 1, \"Chance\": 0.78, \"Pred\": 0.784031372737114}, {\"GRE\": 329, \"TOEFL\": 113, \"Rate\": 5, \"SOP\": 5.0, \"LOR \": 4.5, \"CGPA\": 9.45, \"Research\": 1, \"Chance\": 0.89, \"Pred\": 0.9032375701423148}, {\"GRE\": 320, \"TOEFL\": 101, \"Rate\": 2, \"SOP\": 2.5, \"LOR \": 3.0, \"CGPA\": 8.62, \"Research\": 0, \"Chance\": 0.7, \"Pred\": 0.6869043486345907}, {\"GRE\": 308, \"TOEFL\": 103, \"Rate\": 2, \"SOP\": 3.0, \"LOR \": 3.5, \"CGPA\": 8.49, \"Research\": 0, \"Chance\": 0.66, \"Pred\": 0.6659564135903047}, {\"GRE\": 304, \"TOEFL\": 102, \"Rate\": 2, \"SOP\": 3.0, \"LOR \": 4.0, \"CGPA\": 8.73, \"Research\": 0, \"Chance\": 0.67, \"Pred\": 0.6958092230167909}, {\"GRE\": 311, \"TOEFL\": 102, \"Rate\": 3, \"SOP\": 4.5, \"LOR \": 4.0, \"CGPA\": 8.64, \"Research\": 1, \"Chance\": 0.68, \"Pred\": 0.7225505640528014}, {\"GRE\": 317, \"TOEFL\": 110, \"Rate\": 3, \"SOP\": 4.0, \"LOR \": 4.5, \"CGPA\": 9.11, \"Research\": 1, \"Chance\": 0.8, \"Pred\": 0.8250623393916043}, {\"GRE\": 312, \"TOEFL\": 106, \"Rate\": 3, \"SOP\": 4.0, \"LOR \": 3.5, \"CGPA\": 8.79, \"Research\": 1, \"Chance\": 0.81, \"Pred\": 0.7442832217894237}, {\"GRE\": 321, \"TOEFL\": 111, \"Rate\": 3, \"SOP\": 2.5, \"LOR \": 3.0, \"CGPA\": 8.9, \"Research\": 1, \"Chance\": 0.8, \"Pred\": 0.7813823398122695}, {\"GRE\": 340, \"TOEFL\": 112, \"Rate\": 4, \"SOP\": 5.0, \"LOR \": 4.5, \"CGPA\": 9.66, \"Research\": 1, \"Chance\": 0.94, \"Pred\": 0.9386901477270004}, {\"GRE\": 331, \"TOEFL\": 116, \"Rate\": 5, \"SOP\": 4.0, \"LOR \": 4.0, \"CGPA\": 9.26, \"Research\": 1, \"Chance\": 0.93, \"Pred\": 0.8850012329325689}, {\"GRE\": 336, \"TOEFL\": 118, \"Rate\": 5, \"SOP\": 4.5, \"LOR \": 4.0, \"CGPA\": 9.19, \"Research\": 1, \"Chance\": 0.92, \"Pred\": 0.8895490981471641}, {\"GRE\": 324, \"TOEFL\": 114, \"Rate\": 5, \"SOP\": 5.0, \"LOR \": 4.5, \"CGPA\": 9.08, \"Research\": 1, \"Chance\": 0.89, \"Pred\": 0.853462491273268}, {\"GRE\": 314, \"TOEFL\": 104, \"Rate\": 4, \"SOP\": 5.0, \"LOR \": 5.0, \"CGPA\": 9.02, \"Research\": 0, \"Chance\": 0.82, \"Pred\": 0.7806910394119895}, {\"GRE\": 313, \"TOEFL\": 109, \"Rate\": 3, \"SOP\": 4.0, \"LOR \": 3.5, \"CGPA\": 9.0, \"Research\": 0, \"Chance\": 0.79, \"Pred\": 0.7552315427712666}, {\"GRE\": 307, \"TOEFL\": 105, \"Rate\": 2, \"SOP\": 2.5, \"LOR \": 3.0, \"CGPA\": 7.65, \"Research\": 0, \"Chance\": 0.58, \"Pred\": 0.5606250354899875}, {\"GRE\": 300, \"TOEFL\": 102, \"Rate\": 2, \"SOP\": 1.5, \"LOR \": 2.0, \"CGPA\": 7.87, \"Research\": 0, \"Chance\": 0.56, \"Pred\": 0.546823145550168}, {\"GRE\": 302, \"TOEFL\": 99, \"Rate\": 2, \"SOP\": 1.0, \"LOR \": 2.0, \"CGPA\": 7.97, \"Research\": 0, \"Chance\": 0.56, \"Pred\": 0.555085768123657}, {\"GRE\": 312, \"TOEFL\": 98, \"Rate\": 1, \"SOP\": 3.5, \"LOR \": 3.0, \"CGPA\": 8.18, \"Research\": 1, \"Chance\": 0.64, \"Pred\": 0.6274162451483449}, {\"GRE\": 316, \"TOEFL\": 101, \"Rate\": 2, \"SOP\": 2.5, \"LOR \": 2.0, \"CGPA\": 8.32, \"Research\": 1, \"Chance\": 0.61, \"Pred\": 0.6464448452383893}, {\"GRE\": 317, \"TOEFL\": 100, \"Rate\": 2, \"SOP\": 3.0, \"LOR \": 2.5, \"CGPA\": 8.57, \"Research\": 0, \"Chance\": 0.68, \"Pred\": 0.6599964162380594}, {\"GRE\": 310, \"TOEFL\": 107, \"Rate\": 3, \"SOP\": 3.5, \"LOR \": 3.5, \"CGPA\": 8.67, \"Research\": 0, \"Chance\": 0.76, \"Pred\": 0.706582719259887}, {\"GRE\": 320, \"TOEFL\": 120, \"Rate\": 3, \"SOP\": 4.0, \"LOR \": 4.5, \"CGPA\": 9.11, \"Research\": 0, \"Chance\": 0.86, \"Pred\": 0.8349452359785745}, {\"GRE\": 330, \"TOEFL\": 114, \"Rate\": 3, \"SOP\": 4.5, \"LOR \": 4.5, \"CGPA\": 9.24, \"Research\": 1, \"Chance\": 0.9, \"Pred\": 0.8731365415275689}, {\"GRE\": 305, \"TOEFL\": 112, \"Rate\": 3, \"SOP\": 3.0, \"LOR \": 3.5, \"CGPA\": 8.65, \"Research\": 0, \"Chance\": 0.71, \"Pred\": 0.7117673409400347}, {\"GRE\": 309, \"TOEFL\": 106, \"Rate\": 2, \"SOP\": 2.5, \"LOR \": 2.5, \"CGPA\": 8.0, \"Research\": 0, \"Chance\": 0.62, \"Pred\": 0.5974716805437223}, {\"GRE\": 319, \"TOEFL\": 108, \"Rate\": 2, \"SOP\": 2.5, \"LOR \": 3.0, \"CGPA\": 8.76, \"Research\": 0, \"Chance\": 0.66, \"Pred\": 0.7222554982856371}, {\"GRE\": 322, \"TOEFL\": 105, \"Rate\": 2, \"SOP\": 3.0, \"LOR \": 3.0, \"CGPA\": 8.45, \"Research\": 1, \"Chance\": 0.65, \"Pred\": 0.7047102937056144}, {\"GRE\": 323, \"TOEFL\": 107, \"Rate\": 3, \"SOP\": 3.5, \"LOR \": 3.5, \"CGPA\": 8.55, \"Research\": 1, \"Chance\": 0.73, \"Pred\": 0.7394214415467495}, {\"GRE\": 313, \"TOEFL\": 106, \"Rate\": 2, \"SOP\": 2.5, \"LOR \": 2.0, \"CGPA\": 8.43, \"Research\": 0, \"Chance\": 0.62, \"Pred\": 0.6443887282103222}, {\"GRE\": 321, \"TOEFL\": 109, \"Rate\": 3, \"SOP\": 3.5, \"LOR \": 3.5, \"CGPA\": 8.8, \"Research\": 1, \"Chance\": 0.74, \"Pred\": 0.7715206354378294}, {\"GRE\": 323, \"TOEFL\": 110, \"Rate\": 3, \"SOP\": 4.0, \"LOR \": 3.5, \"CGPA\": 9.1, \"Research\": 1, \"Chance\": 0.79, \"Pred\": 0.8119442869533586}, {\"GRE\": 325, \"TOEFL\": 112, \"Rate\": 4, \"SOP\": 4.0, \"LOR \": 4.0, \"CGPA\": 9.0, \"Research\": 1, \"Chance\": 0.8, \"Pred\": 0.8262575401686345}, {\"GRE\": 312, \"TOEFL\": 108, \"Rate\": 3, \"SOP\": 3.5, \"LOR \": 3.0, \"CGPA\": 8.53, \"Research\": 0, \"Chance\": 0.69, \"Pred\": 0.6851490320510762}, {\"GRE\": 308, \"TOEFL\": 110, \"Rate\": 4, \"SOP\": 3.5, \"LOR \": 3.0, \"CGPA\": 8.6, \"Research\": 0, \"Chance\": 0.7, \"Pred\": 0.6980809592875834}, {\"GRE\": 320, \"TOEFL\": 104, \"Rate\": 3, \"SOP\": 3.0, \"LOR \": 3.5, \"CGPA\": 8.74, \"Research\": 1, \"Chance\": 0.76, \"Pred\": 0.749701557088901}, {\"GRE\": 328, \"TOEFL\": 108, \"Rate\": 4, \"SOP\": 4.5, \"LOR \": 4.0, \"CGPA\": 9.18, \"Research\": 1, \"Chance\": 0.84, \"Pred\": 0.8395479847389089}, {\"GRE\": 311, \"TOEFL\": 107, \"Rate\": 4, \"SOP\": 4.5, \"LOR \": 4.5, \"CGPA\": 9.0, \"Research\": 1, \"Chance\": 0.78, \"Pred\": 0.7968598732314589}, {\"GRE\": 301, \"TOEFL\": 100, \"Rate\": 3, \"SOP\": 3.5, \"LOR \": 3.0, \"CGPA\": 8.04, \"Research\": 0, \"Chance\": 0.67, \"Pred\": 0.5844005579719747}, {\"GRE\": 305, \"TOEFL\": 105, \"Rate\": 2, \"SOP\": 3.0, \"LOR \": 4.0, \"CGPA\": 8.13, \"Research\": 0, \"Chance\": 0.66, \"Pred\": 0.6349416928803613}, {\"GRE\": 308, \"TOEFL\": 104, \"Rate\": 2, \"SOP\": 2.5, \"LOR \": 3.0, \"CGPA\": 8.07, \"Research\": 0, \"Chance\": 0.65, \"Pred\": 0.6093974407548299}, {\"GRE\": 298, \"TOEFL\": 101, \"Rate\": 2, \"SOP\": 1.5, \"LOR \": 2.0, \"CGPA\": 7.86, \"Research\": 0, \"Chance\": 0.54, \"Pred\": 0.5392393510552442}, {\"GRE\": 300, \"TOEFL\": 99, \"Rate\": 1, \"SOP\": 1.0, \"LOR \": 2.5, \"CGPA\": 8.01, \"Research\": 0, \"Chance\": 0.58, \"Pred\": 0.5618284286547686}, {\"GRE\": 324, \"TOEFL\": 111, \"Rate\": 3, \"SOP\": 2.5, \"LOR \": 2.0, \"CGPA\": 8.8, \"Research\": 1, \"Chance\": 0.79, \"Pred\": 0.7523475018372492}, {\"GRE\": 327, \"TOEFL\": 113, \"Rate\": 4, \"SOP\": 3.5, \"LOR \": 3.0, \"CGPA\": 8.69, \"Research\": 1, \"Chance\": 0.8, \"Pred\": 0.775080166706682}, {\"GRE\": 317, \"TOEFL\": 106, \"Rate\": 3, \"SOP\": 4.0, \"LOR \": 3.5, \"CGPA\": 8.5, \"Research\": 1, \"Chance\": 0.75, \"Pred\": 0.718477838101355}, {\"GRE\": 323, \"TOEFL\": 104, \"Rate\": 3, \"SOP\": 4.0, \"LOR \": 4.0, \"CGPA\": 8.44, \"Research\": 1, \"Chance\": 0.73, \"Pred\": 0.7271033503419471}, {\"GRE\": 314, \"TOEFL\": 107, \"Rate\": 2, \"SOP\": 2.5, \"LOR \": 4.0, \"CGPA\": 8.27, \"Research\": 0, \"Chance\": 0.72, \"Pred\": 0.6747216586794555}, {\"GRE\": 305, \"TOEFL\": 102, \"Rate\": 2, \"SOP\": 2.0, \"LOR \": 2.5, \"CGPA\": 8.18, \"Research\": 0, \"Chance\": 0.62, \"Pred\": 0.6019054131619646}, {\"GRE\": 315, \"TOEFL\": 104, \"Rate\": 3, \"SOP\": 3.0, \"LOR \": 2.5, \"CGPA\": 8.33, \"Research\": 0, \"Chance\": 0.67, \"Pred\": 0.6453710896353648}, {\"GRE\": 326, \"TOEFL\": 116, \"Rate\": 3, \"SOP\": 3.5, \"LOR \": 4.0, \"CGPA\": 9.14, \"Research\": 1, \"Chance\": 0.81, \"Pred\": 0.8522607088985461}, {\"GRE\": 299, \"TOEFL\": 100, \"Rate\": 3, \"SOP\": 2.0, \"LOR \": 2.0, \"CGPA\": 8.02, \"Research\": 0, \"Chance\": 0.63, \"Pred\": 0.561151571997246}, {\"GRE\": 295, \"TOEFL\": 101, \"Rate\": 2, \"SOP\": 2.5, \"LOR \": 2.0, \"CGPA\": 7.86, \"Research\": 0, \"Chance\": 0.69, \"Pred\": 0.5307219472971356}, {\"GRE\": 324, \"TOEFL\": 112, \"Rate\": 4, \"SOP\": 4.0, \"LOR \": 3.5, \"CGPA\": 8.77, \"Research\": 1, \"Chance\": 0.8, \"Pred\": 0.7859874906061235}, {\"GRE\": 297, \"TOEFL\": 96, \"Rate\": 2, \"SOP\": 2.5, \"LOR \": 1.5, \"CGPA\": 7.89, \"Research\": 0, \"Chance\": 0.43, \"Pred\": 0.5119905062982693}, {\"GRE\": 327, \"TOEFL\": 113, \"Rate\": 3, \"SOP\": 3.5, \"LOR \": 3.0, \"CGPA\": 8.66, \"Research\": 1, \"Chance\": 0.8, \"Pred\": 0.76579532496385}, {\"GRE\": 311, \"TOEFL\": 105, \"Rate\": 2, \"SOP\": 3.0, \"LOR \": 2.0, \"CGPA\": 8.12, \"Research\": 1, \"Chance\": 0.73, \"Pred\": 0.6239956194090799}, {\"GRE\": 308, \"TOEFL\": 106, \"Rate\": 3, \"SOP\": 3.5, \"LOR \": 2.5, \"CGPA\": 8.21, \"Research\": 1, \"Chance\": 0.75, \"Pred\": 0.6476481496132633}, {\"GRE\": 319, \"TOEFL\": 108, \"Rate\": 3, \"SOP\": 3.0, \"LOR \": 3.5, \"CGPA\": 8.54, \"Research\": 1, \"Chance\": 0.71, \"Pred\": 0.7358545620661809}, {\"GRE\": 312, \"TOEFL\": 107, \"Rate\": 4, \"SOP\": 4.5, \"LOR \": 4.0, \"CGPA\": 8.65, \"Research\": 1, \"Chance\": 0.73, \"Pred\": 0.7457919123793324}, {\"GRE\": 325, \"TOEFL\": 111, \"Rate\": 4, \"SOP\": 4.0, \"LOR \": 4.5, \"CGPA\": 9.11, \"Research\": 1, \"Chance\": 0.83, \"Pred\": 0.8475978669115631}, {\"GRE\": 319, \"TOEFL\": 110, \"Rate\": 3, \"SOP\": 3.0, \"LOR \": 2.5, \"CGPA\": 8.79, \"Research\": 0, \"Chance\": 0.72, \"Pred\": 0.7245503454756064}, {\"GRE\": 332, \"TOEFL\": 118, \"Rate\": 5, \"SOP\": 5.0, \"LOR \": 5.0, \"CGPA\": 9.47, \"Research\": 1, \"Chance\": 0.94, \"Pred\": 0.9366030416761031}, {\"GRE\": 323, \"TOEFL\": 108, \"Rate\": 5, \"SOP\": 4.0, \"LOR \": 4.0, \"CGPA\": 8.74, \"Research\": 1, \"Chance\": 0.81, \"Pred\": 0.7858968099585992}, {\"GRE\": 324, \"TOEFL\": 107, \"Rate\": 5, \"SOP\": 3.5, \"LOR \": 4.0, \"CGPA\": 8.66, \"Research\": 1, \"Chance\": 0.81, \"Pred\": 0.7768520729474584}, {\"GRE\": 312, \"TOEFL\": 107, \"Rate\": 3, \"SOP\": 3.0, \"LOR \": 3.0, \"CGPA\": 8.46, \"Research\": 1, \"Chance\": 0.75, \"Pred\": 0.7000813843002154}, {\"GRE\": 326, \"TOEFL\": 110, \"Rate\": 3, \"SOP\": 3.5, \"LOR \": 3.5, \"CGPA\": 8.76, \"Research\": 1, \"Chance\": 0.79, \"Pred\": 0.7783696919659435}, {\"GRE\": 308, \"TOEFL\": 106, \"Rate\": 3, \"SOP\": 3.0, \"LOR \": 3.0, \"CGPA\": 8.24, \"Research\": 0, \"Chance\": 0.58, \"Pred\": 0.6395203751125633}, {\"GRE\": 305, \"TOEFL\": 103, \"Rate\": 2, \"SOP\": 2.5, \"LOR \": 3.5, \"CGPA\": 8.13, \"Research\": 0, \"Chance\": 0.59, \"Pred\": 0.6195785601048642}, {\"GRE\": 295, \"TOEFL\": 96, \"Rate\": 2, \"SOP\": 1.5, \"LOR \": 2.0, \"CGPA\": 7.34, \"Research\": 0, \"Chance\": 0.47, \"Pred\": 0.45758071638711995}, {\"GRE\": 316, \"TOEFL\": 98, \"Rate\": 1, \"SOP\": 1.5, \"LOR \": 2.0, \"CGPA\": 7.43, \"Research\": 0, \"Chance\": 0.49, \"Pred\": 0.5048934057010774}, {\"GRE\": 304, \"TOEFL\": 97, \"Rate\": 2, \"SOP\": 1.5, \"LOR \": 2.0, \"CGPA\": 7.64, \"Research\": 0, \"Chance\": 0.47, \"Pred\": 0.5118188334222811}, {\"GRE\": 299, \"TOEFL\": 94, \"Rate\": 1, \"SOP\": 1.0, \"LOR \": 1.0, \"CGPA\": 7.34, \"Research\": 0, \"Chance\": 0.42, \"Pred\": 0.43227400809657857}, {\"GRE\": 302, \"TOEFL\": 99, \"Rate\": 1, \"SOP\": 2.0, \"LOR \": 2.0, \"CGPA\": 7.25, \"Research\": 0, \"Chance\": 0.57, \"Pred\": 0.46042753435380646}, {\"GRE\": 313, \"TOEFL\": 101, \"Rate\": 3, \"SOP\": 2.5, \"LOR \": 3.0, \"CGPA\": 8.04, \"Research\": 0, \"Chance\": 0.62, \"Pred\": 0.6114742426861348}, {\"GRE\": 318, \"TOEFL\": 107, \"Rate\": 3, \"SOP\": 3.0, \"LOR \": 3.5, \"CGPA\": 8.27, \"Research\": 1, \"Chance\": 0.74, \"Pred\": 0.6990839212070434}, {\"GRE\": 325, \"TOEFL\": 110, \"Rate\": 4, \"SOP\": 3.5, \"LOR \": 4.0, \"CGPA\": 8.67, \"Research\": 1, \"Chance\": 0.73, \"Pred\": 0.7828209513702971}, {\"GRE\": 303, \"TOEFL\": 100, \"Rate\": 2, \"SOP\": 3.0, \"LOR \": 3.5, \"CGPA\": 8.06, \"Research\": 1, \"Chance\": 0.64, \"Pred\": 0.621891766533059}, {\"GRE\": 300, \"TOEFL\": 102, \"Rate\": 3, \"SOP\": 3.5, \"LOR \": 2.5, \"CGPA\": 8.17, \"Research\": 0, \"Chance\": 0.63, \"Pred\": 0.5927878653382455}, {\"GRE\": 297, \"TOEFL\": 98, \"Rate\": 2, \"SOP\": 2.5, \"LOR \": 3.0, \"CGPA\": 7.67, \"Research\": 0, \"Chance\": 0.59, \"Pred\": 0.5251926711333117}, {\"GRE\": 317, \"TOEFL\": 106, \"Rate\": 2, \"SOP\": 2.0, \"LOR \": 3.5, \"CGPA\": 8.12, \"Research\": 0, \"Chance\": 0.73, \"Pred\": 0.6496494193943712}, {\"GRE\": 327, \"TOEFL\": 109, \"Rate\": 3, \"SOP\": 3.5, \"LOR \": 4.0, \"CGPA\": 8.77, \"Research\": 1, \"Chance\": 0.79, \"Pred\": 0.7895534849201822}, {\"GRE\": 301, \"TOEFL\": 104, \"Rate\": 2, \"SOP\": 3.5, \"LOR \": 3.5, \"CGPA\": 7.89, \"Research\": 1, \"Chance\": 0.68, \"Pred\": 0.6082229590247028}, {\"GRE\": 314, \"TOEFL\": 105, \"Rate\": 2, \"SOP\": 2.5, \"LOR \": 2.0, \"CGPA\": 7.64, \"Research\": 0, \"Chance\": 0.7, \"Pred\": 0.5492443946227563}, {\"GRE\": 321, \"TOEFL\": 107, \"Rate\": 2, \"SOP\": 2.0, \"LOR \": 1.5, \"CGPA\": 8.44, \"Research\": 0, \"Chance\": 0.81, \"Pred\": 0.652873012989684}, {\"GRE\": 322, \"TOEFL\": 110, \"Rate\": 3, \"SOP\": 4.0, \"LOR \": 5.0, \"CGPA\": 8.64, \"Research\": 1, \"Chance\": 0.85, \"Pred\": 0.7890244177202492}, {\"GRE\": 334, \"TOEFL\": 116, \"Rate\": 4, \"SOP\": 4.0, \"LOR \": 3.5, \"CGPA\": 9.54, \"Research\": 1, \"Chance\": 0.93, \"Pred\": 0.906623292853679}, {\"GRE\": 338, \"TOEFL\": 115, \"Rate\": 5, \"SOP\": 4.5, \"LOR \": 5.0, \"CGPA\": 9.23, \"Research\": 1, \"Chance\": 0.91, \"Pred\": 0.9113758963106575}, {\"GRE\": 306, \"TOEFL\": 103, \"Rate\": 2, \"SOP\": 2.5, \"LOR \": 3.0, \"CGPA\": 8.36, \"Research\": 0, \"Chance\": 0.69, \"Pred\": 0.637495482339016}, {\"GRE\": 313, \"TOEFL\": 102, \"Rate\": 3, \"SOP\": 3.5, \"LOR \": 4.0, \"CGPA\": 8.9, \"Research\": 1, \"Chance\": 0.77, \"Pred\": 0.7602548141751237}, {\"GRE\": 330, \"TOEFL\": 114, \"Rate\": 4, \"SOP\": 4.5, \"LOR \": 3.0, \"CGPA\": 9.17, \"Research\": 1, \"Chance\": 0.86, \"Pred\": 0.8369977469181584}, {\"GRE\": 320, \"TOEFL\": 104, \"Rate\": 3, \"SOP\": 3.5, \"LOR \": 4.5, \"CGPA\": 8.34, \"Research\": 1, \"Chance\": 0.74, \"Pred\": 0.7228263184559145}, {\"GRE\": 311, \"TOEFL\": 98, \"Rate\": 1, \"SOP\": 1.0, \"LOR \": 2.5, \"CGPA\": 7.46, \"Research\": 0, \"Chance\": 0.57, \"Pred\": 0.5126036796406306}, {\"GRE\": 298, \"TOEFL\": 92, \"Rate\": 1, \"SOP\": 2.0, \"LOR \": 2.0, \"CGPA\": 7.88, \"Research\": 0, \"Chance\": 0.51, \"Pred\": 0.5079727061174046}, {\"GRE\": 301, \"TOEFL\": 98, \"Rate\": 1, \"SOP\": 2.0, \"LOR \": 3.0, \"CGPA\": 8.03, \"Research\": 1, \"Chance\": 0.67, \"Pred\": 0.5954215533952352}, {\"GRE\": 310, \"TOEFL\": 103, \"Rate\": 2, \"SOP\": 2.5, \"LOR \": 2.5, \"CGPA\": 8.24, \"Research\": 0, \"Chance\": 0.72, \"Pred\": 0.6189958305272487}, {\"GRE\": 324, \"TOEFL\": 110, \"Rate\": 3, \"SOP\": 3.5, \"LOR \": 3.0, \"CGPA\": 9.22, \"Research\": 1, \"Chance\": 0.89, \"Pred\": 0.8184304538143705}, {\"GRE\": 336, \"TOEFL\": 119, \"Rate\": 4, \"SOP\": 4.5, \"LOR \": 4.0, \"CGPA\": 9.62, \"Research\": 1, \"Chance\": 0.95, \"Pred\": 0.9378959818758916}, {\"GRE\": 321, \"TOEFL\": 109, \"Rate\": 3, \"SOP\": 3.0, \"LOR \": 3.0, \"CGPA\": 8.54, \"Research\": 1, \"Chance\": 0.79, \"Pred\": 0.7310723983609546}, {\"GRE\": 315, \"TOEFL\": 105, \"Rate\": 2, \"SOP\": 2.0, \"LOR \": 2.5, \"CGPA\": 7.65, \"Research\": 0, \"Chance\": 0.39, \"Pred\": 0.5650003489164537}, {\"GRE\": 304, \"TOEFL\": 101, \"Rate\": 2, \"SOP\": 2.0, \"LOR \": 2.5, \"CGPA\": 7.66, \"Research\": 0, \"Chance\": 0.38, \"Pred\": 0.5353999089035688}, {\"GRE\": 297, \"TOEFL\": 96, \"Rate\": 2, \"SOP\": 2.5, \"LOR \": 2.0, \"CGPA\": 7.43, \"Research\": 0, \"Chance\": 0.34, \"Pred\": 0.46845492130781463}, {\"GRE\": 290, \"TOEFL\": 100, \"Rate\": 1, \"SOP\": 1.5, \"LOR \": 2.0, \"CGPA\": 7.56, \"Research\": 0, \"Chance\": 0.47, \"Pred\": 0.48102198745617586}, {\"GRE\": 303, \"TOEFL\": 98, \"Rate\": 1, \"SOP\": 2.0, \"LOR \": 2.5, \"CGPA\": 7.65, \"Research\": 0, \"Chance\": 0.56, \"Pred\": 0.517997714210888}, {\"GRE\": 311, \"TOEFL\": 99, \"Rate\": 1, \"SOP\": 2.5, \"LOR \": 3.0, \"CGPA\": 8.43, \"Research\": 1, \"Chance\": 0.71, \"Pred\": 0.6616384428385804}, {\"GRE\": 322, \"TOEFL\": 104, \"Rate\": 3, \"SOP\": 3.5, \"LOR \": 4.0, \"CGPA\": 8.84, \"Research\": 1, \"Chance\": 0.78, \"Pred\": 0.7745943047322787}, {\"GRE\": 319, \"TOEFL\": 105, \"Rate\": 3, \"SOP\": 3.0, \"LOR \": 3.5, \"CGPA\": 8.67, \"Research\": 1, \"Chance\": 0.73, \"Pred\": 0.7425579605830197}, {\"GRE\": 324, \"TOEFL\": 110, \"Rate\": 4, \"SOP\": 4.5, \"LOR \": 4.0, \"CGPA\": 9.15, \"Research\": 1, \"Chance\": 0.82, \"Pred\": 0.8348693084807921}, {\"GRE\": 300, \"TOEFL\": 100, \"Rate\": 3, \"SOP\": 3.0, \"LOR \": 3.5, \"CGPA\": 8.26, \"Research\": 0, \"Chance\": 0.62, \"Pred\": 0.6216589743790204}, {\"GRE\": 340, \"TOEFL\": 113, \"Rate\": 4, \"SOP\": 5.0, \"LOR \": 5.0, \"CGPA\": 9.74, \"Research\": 1, \"Chance\": 0.96, \"Pred\": 0.9623014444958675}, {\"GRE\": 335, \"TOEFL\": 117, \"Rate\": 5, \"SOP\": 5.0, \"LOR \": 5.0, \"CGPA\": 9.82, \"Research\": 1, \"Chance\": 0.96, \"Pred\": 0.9805245083311813}, {\"GRE\": 302, \"TOEFL\": 101, \"Rate\": 2, \"SOP\": 2.5, \"LOR \": 3.5, \"CGPA\": 7.96, \"Research\": 0, \"Chance\": 0.46, \"Pred\": 0.5883074646464765}, {\"GRE\": 307, \"TOEFL\": 105, \"Rate\": 2, \"SOP\": 2.0, \"LOR \": 3.5, \"CGPA\": 8.1, \"Research\": 0, \"Chance\": 0.53, \"Pred\": 0.6269769377953647}, {\"GRE\": 296, \"TOEFL\": 97, \"Rate\": 2, \"SOP\": 1.5, \"LOR \": 2.0, \"CGPA\": 7.8, \"Research\": 0, \"Chance\": 0.49, \"Pred\": 0.5169498534296937}, {\"GRE\": 320, \"TOEFL\": 108, \"Rate\": 3, \"SOP\": 3.5, \"LOR \": 4.0, \"CGPA\": 8.44, \"Research\": 1, \"Chance\": 0.76, \"Pred\": 0.7352220074191385}, {\"GRE\": 314, \"TOEFL\": 102, \"Rate\": 2, \"SOP\": 2.0, \"LOR \": 2.5, \"CGPA\": 8.24, \"Research\": 0, \"Chance\": 0.64, \"Pred\": 0.6246784845169131}, {\"GRE\": 318, \"TOEFL\": 106, \"Rate\": 3, \"SOP\": 2.0, \"LOR \": 3.0, \"CGPA\": 8.65, \"Research\": 0, \"Chance\": 0.71, \"Pred\": 0.7089648358425535}, {\"GRE\": 326, \"TOEFL\": 112, \"Rate\": 4, \"SOP\": 4.0, \"LOR \": 3.5, \"CGPA\": 9.12, \"Research\": 1, \"Chance\": 0.84, \"Pred\": 0.8310911225071129}, {\"GRE\": 317, \"TOEFL\": 104, \"Rate\": 2, \"SOP\": 3.0, \"LOR \": 3.0, \"CGPA\": 8.76, \"Research\": 0, \"Chance\": 0.77, \"Pred\": 0.7054497833533755}, {\"GRE\": 329, \"TOEFL\": 111, \"Rate\": 4, \"SOP\": 4.5, \"LOR \": 4.0, \"CGPA\": 9.23, \"Research\": 1, \"Chance\": 0.89, \"Pred\": 0.8559910994405502}, {\"GRE\": 324, \"TOEFL\": 110, \"Rate\": 3, \"SOP\": 3.5, \"LOR \": 3.5, \"CGPA\": 9.04, \"Research\": 1, \"Chance\": 0.82, \"Pred\": 0.8081979158310839}, {\"GRE\": 325, \"TOEFL\": 107, \"Rate\": 3, \"SOP\": 3.0, \"LOR \": 3.5, \"CGPA\": 9.11, \"Research\": 1, \"Chance\": 0.84, \"Pred\": 0.8111549432256482}, {\"GRE\": 330, \"TOEFL\": 116, \"Rate\": 4, \"SOP\": 5.0, \"LOR \": 4.5, \"CGPA\": 9.45, \"Research\": 1, \"Chance\": 0.91, \"Pred\": 0.9080170540291832}, {\"GRE\": 312, \"TOEFL\": 103, \"Rate\": 3, \"SOP\": 3.5, \"LOR \": 4.0, \"CGPA\": 8.78, \"Research\": 0, \"Chance\": 0.67, \"Pred\": 0.7226391386940676}, {\"GRE\": 333, \"TOEFL\": 117, \"Rate\": 4, \"SOP\": 5.0, \"LOR \": 4.0, \"CGPA\": 9.66, \"Research\": 1, \"Chance\": 0.95, \"Pred\": 0.9299495871503478}]}}, {\"mode\": \"vega-lite\"});\n",
       "</script>"
      ],
      "text/plain": [
       "alt.Chart(...)"
      ]
     },
     "execution_count": 56,
     "metadata": {},
     "output_type": "execute_result"
    }
   ],
   "source": [
    "alt.Chart(df).mark_circle().encode(\n",
    "    x=alt.X('GRE', scale=alt.Scale(zero=False)),\n",
    "    y=alt.Y('Chance',scale=alt.Scale(zero=False)),\n",
    "    color=\"Research:N\"\n",
    ")"
   ]
  },
  {
   "cell_type": "markdown",
   "metadata": {
    "cell_id": "0aac90c3e88345dc8943c8eb6ae99519",
    "deepnote_cell_type": "markdown",
    "tags": []
   },
   "source": [
    "From above chart, we can briefly conclude that student with higher GRE score will have greater chance to be admitted, and students who have higher GRE score also have more research experience."
   ]
  },
  {
   "cell_type": "code",
   "execution_count": 53,
   "metadata": {
    "cell_id": "c1036b3a5da44a95b6e994fac9adf4d1",
    "deepnote_cell_type": "code",
    "deepnote_to_be_reexecuted": false,
    "execution_millis": 12,
    "execution_start": 1670293112870,
    "source_hash": "dcd4265b",
    "tags": []
   },
   "outputs": [
    {
     "data": {
      "text/html": [
       "\n",
       "<div id=\"altair-viz-f06bcd40c7794c62a7e80abe45c83942\"></div>\n",
       "<script type=\"text/javascript\">\n",
       "  var VEGA_DEBUG = (typeof VEGA_DEBUG == \"undefined\") ? {} : VEGA_DEBUG;\n",
       "  (function(spec, embedOpt){\n",
       "    let outputDiv = document.currentScript.previousElementSibling;\n",
       "    if (outputDiv.id !== \"altair-viz-f06bcd40c7794c62a7e80abe45c83942\") {\n",
       "      outputDiv = document.getElementById(\"altair-viz-f06bcd40c7794c62a7e80abe45c83942\");\n",
       "    }\n",
       "    const paths = {\n",
       "      \"vega\": \"https://cdn.jsdelivr.net/npm//vega@5?noext\",\n",
       "      \"vega-lib\": \"https://cdn.jsdelivr.net/npm//vega-lib?noext\",\n",
       "      \"vega-lite\": \"https://cdn.jsdelivr.net/npm//vega-lite@4.17.0?noext\",\n",
       "      \"vega-embed\": \"https://cdn.jsdelivr.net/npm//vega-embed@6?noext\",\n",
       "    };\n",
       "\n",
       "    function maybeLoadScript(lib, version) {\n",
       "      var key = `${lib.replace(\"-\", \"\")}_version`;\n",
       "      return (VEGA_DEBUG[key] == version) ?\n",
       "        Promise.resolve(paths[lib]) :\n",
       "        new Promise(function(resolve, reject) {\n",
       "          var s = document.createElement('script');\n",
       "          document.getElementsByTagName(\"head\")[0].appendChild(s);\n",
       "          s.async = true;\n",
       "          s.onload = () => {\n",
       "            VEGA_DEBUG[key] = version;\n",
       "            return resolve(paths[lib]);\n",
       "          };\n",
       "          s.onerror = () => reject(`Error loading script: ${paths[lib]}`);\n",
       "          s.src = paths[lib];\n",
       "        });\n",
       "    }\n",
       "\n",
       "    function showError(err) {\n",
       "      outputDiv.innerHTML = `<div class=\"error\" style=\"color:red;\">${err}</div>`;\n",
       "      throw err;\n",
       "    }\n",
       "\n",
       "    function displayChart(vegaEmbed) {\n",
       "      vegaEmbed(outputDiv, spec, embedOpt)\n",
       "        .catch(err => showError(`Javascript Error: ${err.message}<br>This usually means there's a typo in your chart specification. See the javascript console for the full traceback.`));\n",
       "    }\n",
       "\n",
       "    if(typeof define === \"function\" && define.amd) {\n",
       "      requirejs.config({paths});\n",
       "      require([\"vega-embed\"], displayChart, err => showError(`Error loading script: ${err.message}`));\n",
       "    } else {\n",
       "      maybeLoadScript(\"vega\", \"5\")\n",
       "        .then(() => maybeLoadScript(\"vega-lite\", \"4.17.0\"))\n",
       "        .then(() => maybeLoadScript(\"vega-embed\", \"6\"))\n",
       "        .catch(showError)\n",
       "        .then(() => displayChart(vegaEmbed));\n",
       "    }\n",
       "  })({\"config\": {\"view\": {\"continuousWidth\": 400, \"continuousHeight\": 300}}, \"data\": {\"name\": \"data-0440f94df845976d912bc1088d6f3c5b\"}, \"mark\": \"circle\", \"encoding\": {\"color\": {\"field\": \"TOEFL\", \"type\": \"quantitative\"}, \"x\": {\"field\": \"GRE\", \"scale\": {\"zero\": false}, \"type\": \"quantitative\"}, \"y\": {\"field\": \"Chance\", \"scale\": {\"zero\": false}, \"type\": \"quantitative\"}}, \"$schema\": \"https://vega.github.io/schema/vega-lite/v4.17.0.json\", \"datasets\": {\"data-0440f94df845976d912bc1088d6f3c5b\": [{\"GRE\": 337, \"TOEFL\": 118, \"Rate\": 4, \"SOP\": 4.5, \"LOR \": 4.5, \"CGPA\": 9.65, \"Research\": 1, \"Chance\": 0.92, \"Pred\": 0.9514585639020716}, {\"GRE\": 324, \"TOEFL\": 107, \"Rate\": 4, \"SOP\": 4.0, \"LOR \": 4.5, \"CGPA\": 8.87, \"Research\": 1, \"Chance\": 0.76, \"Pred\": 0.8056366792095606}, {\"GRE\": 316, \"TOEFL\": 104, \"Rate\": 3, \"SOP\": 3.0, \"LOR \": 3.5, \"CGPA\": 8.0, \"Research\": 1, \"Chance\": 0.72, \"Pred\": 0.6547367151430412}, {\"GRE\": 322, \"TOEFL\": 110, \"Rate\": 3, \"SOP\": 3.5, \"LOR \": 2.5, \"CGPA\": 8.67, \"Research\": 1, \"Chance\": 0.8, \"Pred\": 0.7383623675297954}, {\"GRE\": 314, \"TOEFL\": 103, \"Rate\": 2, \"SOP\": 2.0, \"LOR \": 3.0, \"CGPA\": 8.21, \"Research\": 0, \"Chance\": 0.65, \"Pred\": 0.6352064413901071}, {\"GRE\": 330, \"TOEFL\": 115, \"Rate\": 5, \"SOP\": 4.5, \"LOR \": 3.0, \"CGPA\": 9.34, \"Research\": 1, \"Chance\": 0.9, \"Pred\": 0.8658536889815001}, {\"GRE\": 321, \"TOEFL\": 109, \"Rate\": 3, \"SOP\": 3.0, \"LOR \": 4.0, \"CGPA\": 8.2, \"Research\": 1, \"Chance\": 0.75, \"Pred\": 0.7129861114663232}, {\"GRE\": 308, \"TOEFL\": 101, \"Rate\": 2, \"SOP\": 3.0, \"LOR \": 4.0, \"CGPA\": 7.9, \"Research\": 0, \"Chance\": 0.68, \"Pred\": 0.6011195459983856}, {\"GRE\": 302, \"TOEFL\": 102, \"Rate\": 1, \"SOP\": 2.0, \"LOR \": 1.5, \"CGPA\": 8.0, \"Research\": 0, \"Chance\": 0.5, \"Pred\": 0.5472142913381763}, {\"GRE\": 323, \"TOEFL\": 108, \"Rate\": 3, \"SOP\": 3.5, \"LOR \": 3.0, \"CGPA\": 8.6, \"Research\": 0, \"Chance\": 0.45, \"Pred\": 0.7125863210840231}, {\"GRE\": 325, \"TOEFL\": 106, \"Rate\": 3, \"SOP\": 3.5, \"LOR \": 4.0, \"CGPA\": 8.4, \"Research\": 1, \"Chance\": 0.52, \"Pred\": 0.7333123334964773}, {\"GRE\": 327, \"TOEFL\": 111, \"Rate\": 4, \"SOP\": 4.0, \"LOR \": 4.5, \"CGPA\": 9.0, \"Research\": 1, \"Chance\": 0.84, \"Pred\": 0.8379893501579174}, {\"GRE\": 328, \"TOEFL\": 112, \"Rate\": 4, \"SOP\": 4.0, \"LOR \": 4.5, \"CGPA\": 9.1, \"Research\": 1, \"Chance\": 0.78, \"Pred\": 0.8545402839055598}, {\"GRE\": 307, \"TOEFL\": 109, \"Rate\": 3, \"SOP\": 4.0, \"LOR \": 3.0, \"CGPA\": 8.0, \"Research\": 1, \"Chance\": 0.62, \"Pred\": 0.6392161623792942}, {\"GRE\": 311, \"TOEFL\": 104, \"Rate\": 3, \"SOP\": 3.5, \"LOR \": 2.0, \"CGPA\": 8.2, \"Research\": 1, \"Chance\": 0.61, \"Pred\": 0.6346552724923049}, {\"GRE\": 314, \"TOEFL\": 105, \"Rate\": 3, \"SOP\": 3.5, \"LOR \": 2.5, \"CGPA\": 8.3, \"Research\": 0, \"Chance\": 0.54, \"Pred\": 0.6413324867508319}, {\"GRE\": 317, \"TOEFL\": 107, \"Rate\": 3, \"SOP\": 4.0, \"LOR \": 3.0, \"CGPA\": 8.7, \"Research\": 0, \"Chance\": 0.66, \"Pred\": 0.7094836356781833}, {\"GRE\": 319, \"TOEFL\": 106, \"Rate\": 3, \"SOP\": 4.0, \"LOR \": 3.0, \"CGPA\": 8.0, \"Research\": 1, \"Chance\": 0.65, \"Pred\": 0.6513063707806876}, {\"GRE\": 318, \"TOEFL\": 110, \"Rate\": 3, \"SOP\": 4.0, \"LOR \": 3.0, \"CGPA\": 8.8, \"Research\": 0, \"Chance\": 0.63, \"Pred\": 0.7318737230596761}, {\"GRE\": 303, \"TOEFL\": 102, \"Rate\": 3, \"SOP\": 3.5, \"LOR \": 3.0, \"CGPA\": 8.5, \"Research\": 0, \"Chance\": 0.62, \"Pred\": 0.6484266834024879}, {\"GRE\": 312, \"TOEFL\": 107, \"Rate\": 3, \"SOP\": 3.0, \"LOR \": 2.0, \"CGPA\": 7.9, \"Research\": 1, \"Chance\": 0.64, \"Pred\": 0.6111221629575181}, {\"GRE\": 325, \"TOEFL\": 114, \"Rate\": 4, \"SOP\": 3.0, \"LOR \": 2.0, \"CGPA\": 8.4, \"Research\": 0, \"Chance\": 0.7, \"Pred\": 0.6948068297372902}, {\"GRE\": 328, \"TOEFL\": 116, \"Rate\": 5, \"SOP\": 5.0, \"LOR \": 5.0, \"CGPA\": 9.5, \"Research\": 1, \"Chance\": 0.94, \"Pred\": 0.9273824253661076}, {\"GRE\": 334, \"TOEFL\": 119, \"Rate\": 5, \"SOP\": 5.0, \"LOR \": 4.5, \"CGPA\": 9.7, \"Research\": 1, \"Chance\": 0.95, \"Pred\": 0.9591769522981941}, {\"GRE\": 336, \"TOEFL\": 119, \"Rate\": 5, \"SOP\": 4.0, \"LOR \": 3.5, \"CGPA\": 9.8, \"Research\": 1, \"Chance\": 0.97, \"Pred\": 0.9554977625166321}, {\"GRE\": 340, \"TOEFL\": 120, \"Rate\": 5, \"SOP\": 4.5, \"LOR \": 4.5, \"CGPA\": 9.6, \"Research\": 1, \"Chance\": 0.94, \"Pred\": 0.9622796377040335}, {\"GRE\": 322, \"TOEFL\": 109, \"Rate\": 5, \"SOP\": 4.5, \"LOR \": 3.5, \"CGPA\": 8.8, \"Research\": 0, \"Chance\": 0.76, \"Pred\": 0.7568610879382958}, {\"GRE\": 298, \"TOEFL\": 98, \"Rate\": 2, \"SOP\": 1.5, \"LOR \": 2.5, \"CGPA\": 7.5, \"Research\": 1, \"Chance\": 0.44, \"Pred\": 0.5233640872690408}, {\"GRE\": 295, \"TOEFL\": 93, \"Rate\": 1, \"SOP\": 2.0, \"LOR \": 2.0, \"CGPA\": 7.2, \"Research\": 0, \"Chance\": 0.46, \"Pred\": 0.42480121977530594}, {\"GRE\": 310, \"TOEFL\": 99, \"Rate\": 2, \"SOP\": 1.5, \"LOR \": 2.0, \"CGPA\": 7.3, \"Research\": 0, \"Chance\": 0.54, \"Pred\": 0.48764304225922483}, {\"GRE\": 300, \"TOEFL\": 97, \"Rate\": 2, \"SOP\": 3.0, \"LOR \": 3.0, \"CGPA\": 8.1, \"Research\": 1, \"Chance\": 0.65, \"Pred\": 0.6015018158489429}, {\"GRE\": 327, \"TOEFL\": 103, \"Rate\": 3, \"SOP\": 4.0, \"LOR \": 4.0, \"CGPA\": 8.3, \"Research\": 1, \"Chance\": 0.74, \"Pred\": 0.7144818963054937}, {\"GRE\": 338, \"TOEFL\": 118, \"Rate\": 4, \"SOP\": 3.0, \"LOR \": 4.5, \"CGPA\": 9.4, \"Research\": 1, \"Chance\": 0.91, \"Pred\": 0.9284188656414274}, {\"GRE\": 340, \"TOEFL\": 114, \"Rate\": 5, \"SOP\": 4.0, \"LOR \": 4.0, \"CGPA\": 9.6, \"Research\": 1, \"Chance\": 0.9, \"Pred\": 0.9352381976608359}, {\"GRE\": 331, \"TOEFL\": 112, \"Rate\": 5, \"SOP\": 4.0, \"LOR \": 5.0, \"CGPA\": 9.8, \"Research\": 1, \"Chance\": 0.94, \"Pred\": 0.9599033579356251}, {\"GRE\": 320, \"TOEFL\": 110, \"Rate\": 5, \"SOP\": 5.0, \"LOR \": 5.0, \"CGPA\": 9.2, \"Research\": 1, \"Chance\": 0.88, \"Pred\": 0.8602838358173346}, {\"GRE\": 299, \"TOEFL\": 106, \"Rate\": 2, \"SOP\": 4.0, \"LOR \": 4.0, \"CGPA\": 8.4, \"Research\": 0, \"Chance\": 0.64, \"Pred\": 0.656245283697334}, {\"GRE\": 300, \"TOEFL\": 105, \"Rate\": 1, \"SOP\": 1.0, \"LOR \": 2.0, \"CGPA\": 7.8, \"Research\": 0, \"Chance\": 0.58, \"Pred\": 0.5431920406367632}, {\"GRE\": 304, \"TOEFL\": 105, \"Rate\": 1, \"SOP\": 3.0, \"LOR \": 1.5, \"CGPA\": 7.5, \"Research\": 0, \"Chance\": 0.52, \"Pred\": 0.49667294908739734}, {\"GRE\": 307, \"TOEFL\": 108, \"Rate\": 2, \"SOP\": 4.0, \"LOR \": 3.5, \"CGPA\": 7.7, \"Research\": 0, \"Chance\": 0.48, \"Pred\": 0.5815495487171949}, {\"GRE\": 308, \"TOEFL\": 110, \"Rate\": 3, \"SOP\": 3.5, \"LOR \": 3.0, \"CGPA\": 8.0, \"Research\": 1, \"Chance\": 0.46, \"Pred\": 0.6455257352897668}, {\"GRE\": 316, \"TOEFL\": 105, \"Rate\": 2, \"SOP\": 2.5, \"LOR \": 2.5, \"CGPA\": 8.2, \"Research\": 1, \"Chance\": 0.49, \"Pred\": 0.6550269817386254}, {\"GRE\": 313, \"TOEFL\": 107, \"Rate\": 2, \"SOP\": 2.5, \"LOR \": 2.0, \"CGPA\": 8.5, \"Research\": 1, \"Chance\": 0.53, \"Pred\": 0.6801591730743635}, {\"GRE\": 332, \"TOEFL\": 117, \"Rate\": 4, \"SOP\": 4.5, \"LOR \": 4.0, \"CGPA\": 9.1, \"Research\": 0, \"Chance\": 0.87, \"Pred\": 0.8387335597922052}, {\"GRE\": 326, \"TOEFL\": 113, \"Rate\": 5, \"SOP\": 4.5, \"LOR \": 4.0, \"CGPA\": 9.4, \"Research\": 1, \"Chance\": 0.91, \"Pred\": 0.8825543836077745}, {\"GRE\": 322, \"TOEFL\": 110, \"Rate\": 5, \"SOP\": 5.0, \"LOR \": 4.0, \"CGPA\": 9.1, \"Research\": 1, \"Chance\": 0.88, \"Pred\": 0.8295115862713003}, {\"GRE\": 329, \"TOEFL\": 114, \"Rate\": 5, \"SOP\": 4.0, \"LOR \": 5.0, \"CGPA\": 9.3, \"Research\": 1, \"Chance\": 0.86, \"Pred\": 0.9027979616289314}, {\"GRE\": 339, \"TOEFL\": 119, \"Rate\": 5, \"SOP\": 4.5, \"LOR \": 4.0, \"CGPA\": 9.7, \"Research\": 0, \"Chance\": 0.89, \"Pred\": 0.9338149247162943}, {\"GRE\": 321, \"TOEFL\": 110, \"Rate\": 3, \"SOP\": 3.5, \"LOR \": 5.0, \"CGPA\": 8.85, \"Research\": 1, \"Chance\": 0.82, \"Pred\": 0.8139168759271451}, {\"GRE\": 327, \"TOEFL\": 111, \"Rate\": 4, \"SOP\": 3.0, \"LOR \": 4.0, \"CGPA\": 8.4, \"Research\": 1, \"Chance\": 0.78, \"Pred\": 0.7587542833805851}, {\"GRE\": 313, \"TOEFL\": 98, \"Rate\": 3, \"SOP\": 2.5, \"LOR \": 4.5, \"CGPA\": 8.3, \"Research\": 1, \"Chance\": 0.76, \"Pred\": 0.6916945674584505}, {\"GRE\": 312, \"TOEFL\": 100, \"Rate\": 2, \"SOP\": 1.5, \"LOR \": 3.5, \"CGPA\": 7.9, \"Research\": 1, \"Chance\": 0.56, \"Pred\": 0.62345591166426}, {\"GRE\": 334, \"TOEFL\": 116, \"Rate\": 4, \"SOP\": 4.0, \"LOR \": 3.0, \"CGPA\": 8.0, \"Research\": 1, \"Chance\": 0.78, \"Pred\": 0.7122799706500706}, {\"GRE\": 324, \"TOEFL\": 112, \"Rate\": 4, \"SOP\": 4.0, \"LOR \": 2.5, \"CGPA\": 8.1, \"Research\": 1, \"Chance\": 0.72, \"Pred\": 0.6839449293677533}, {\"GRE\": 322, \"TOEFL\": 110, \"Rate\": 3, \"SOP\": 3.0, \"LOR \": 3.5, \"CGPA\": 8.0, \"Research\": 0, \"Chance\": 0.7, \"Pred\": 0.6581535391753528}, {\"GRE\": 320, \"TOEFL\": 103, \"Rate\": 3, \"SOP\": 3.0, \"LOR \": 3.0, \"CGPA\": 7.7, \"Research\": 0, \"Chance\": 0.64, \"Pred\": 0.5873832785715596}, {\"GRE\": 316, \"TOEFL\": 102, \"Rate\": 3, \"SOP\": 2.0, \"LOR \": 3.0, \"CGPA\": 7.4, \"Research\": 0, \"Chance\": 0.64, \"Pred\": 0.5451373884365351}, {\"GRE\": 298, \"TOEFL\": 99, \"Rate\": 2, \"SOP\": 4.0, \"LOR \": 2.0, \"CGPA\": 7.6, \"Research\": 0, \"Chance\": 0.46, \"Pred\": 0.49421301687349994}, {\"GRE\": 300, \"TOEFL\": 99, \"Rate\": 1, \"SOP\": 3.0, \"LOR \": 2.0, \"CGPA\": 6.8, \"Research\": 1, \"Chance\": 0.36, \"Pred\": 0.4246498943433712}, {\"GRE\": 311, \"TOEFL\": 104, \"Rate\": 2, \"SOP\": 2.0, \"LOR \": 2.0, \"CGPA\": 8.3, \"Research\": 0, \"Chance\": 0.42, \"Pred\": 0.6212652069893634}, {\"GRE\": 309, \"TOEFL\": 100, \"Rate\": 2, \"SOP\": 3.0, \"LOR \": 3.0, \"CGPA\": 8.1, \"Research\": 0, \"Chance\": 0.48, \"Pred\": 0.6013721441435214}, {\"GRE\": 307, \"TOEFL\": 101, \"Rate\": 3, \"SOP\": 4.0, \"LOR \": 3.0, \"CGPA\": 8.2, \"Research\": 0, \"Chance\": 0.47, \"Pred\": 0.615122332267976}, {\"GRE\": 304, \"TOEFL\": 105, \"Rate\": 2, \"SOP\": 3.0, \"LOR \": 3.0, \"CGPA\": 8.2, \"Research\": 1, \"Chance\": 0.54, \"Pred\": 0.6437020220281031}, {\"GRE\": 315, \"TOEFL\": 107, \"Rate\": 2, \"SOP\": 4.0, \"LOR \": 3.0, \"CGPA\": 8.5, \"Research\": 1, \"Chance\": 0.56, \"Pred\": 0.7010293699771517}, {\"GRE\": 325, \"TOEFL\": 111, \"Rate\": 3, \"SOP\": 3.0, \"LOR \": 3.5, \"CGPA\": 8.7, \"Research\": 0, \"Chance\": 0.52, \"Pred\": 0.7495429682232422}, {\"GRE\": 325, \"TOEFL\": 112, \"Rate\": 4, \"SOP\": 3.5, \"LOR \": 3.5, \"CGPA\": 8.92, \"Research\": 0, \"Chance\": 0.55, \"Pred\": 0.7826932984439023}, {\"GRE\": 327, \"TOEFL\": 114, \"Rate\": 3, \"SOP\": 3.0, \"LOR \": 3.0, \"CGPA\": 9.02, \"Research\": 0, \"Chance\": 0.61, \"Pred\": 0.7886605833029166}, {\"GRE\": 316, \"TOEFL\": 107, \"Rate\": 2, \"SOP\": 3.5, \"LOR \": 3.5, \"CGPA\": 8.64, \"Research\": 1, \"Chance\": 0.57, \"Pred\": 0.7322474532384629}, {\"GRE\": 318, \"TOEFL\": 109, \"Rate\": 3, \"SOP\": 3.5, \"LOR \": 4.0, \"CGPA\": 9.22, \"Research\": 1, \"Chance\": 0.68, \"Pred\": 0.8274395348997203}, {\"GRE\": 328, \"TOEFL\": 115, \"Rate\": 4, \"SOP\": 4.5, \"LOR \": 4.0, \"CGPA\": 9.16, \"Research\": 1, \"Chance\": 0.78, \"Pred\": 0.8576062333854446}, {\"GRE\": 332, \"TOEFL\": 118, \"Rate\": 5, \"SOP\": 5.0, \"LOR \": 5.0, \"CGPA\": 9.64, \"Research\": 1, \"Chance\": 0.94, \"Pred\": 0.9568227487875987}, {\"GRE\": 336, \"TOEFL\": 112, \"Rate\": 5, \"SOP\": 5.0, \"LOR \": 5.0, \"CGPA\": 9.76, \"Research\": 1, \"Chance\": 0.96, \"Pred\": 0.9605276686017479}, {\"GRE\": 321, \"TOEFL\": 111, \"Rate\": 5, \"SOP\": 5.0, \"LOR \": 5.0, \"CGPA\": 9.45, \"Research\": 1, \"Chance\": 0.93, \"Pred\": 0.8946756876045316}, {\"GRE\": 314, \"TOEFL\": 108, \"Rate\": 4, \"SOP\": 4.5, \"LOR \": 4.0, \"CGPA\": 9.04, \"Research\": 1, \"Chance\": 0.84, \"Pred\": 0.798572699241128}, {\"GRE\": 314, \"TOEFL\": 106, \"Rate\": 3, \"SOP\": 3.0, \"LOR \": 5.0, \"CGPA\": 8.9, \"Research\": 0, \"Chance\": 0.74, \"Pred\": 0.7731511385694076}, {\"GRE\": 329, \"TOEFL\": 114, \"Rate\": 2, \"SOP\": 2.0, \"LOR \": 4.0, \"CGPA\": 8.56, \"Research\": 1, \"Chance\": 0.72, \"Pred\": 0.7818900023241382}, {\"GRE\": 327, \"TOEFL\": 112, \"Rate\": 3, \"SOP\": 3.0, \"LOR \": 3.0, \"CGPA\": 8.72, \"Research\": 1, \"Chance\": 0.74, \"Pred\": 0.7716646998852801}, {\"GRE\": 301, \"TOEFL\": 99, \"Rate\": 2, \"SOP\": 3.0, \"LOR \": 2.0, \"CGPA\": 8.22, \"Research\": 0, \"Chance\": 0.64, \"Pred\": 0.5764728818617681}, {\"GRE\": 296, \"TOEFL\": 95, \"Rate\": 2, \"SOP\": 3.0, \"LOR \": 2.0, \"CGPA\": 7.54, \"Research\": 1, \"Chance\": 0.44, \"Pred\": 0.49975379458833924}, {\"GRE\": 294, \"TOEFL\": 93, \"Rate\": 1, \"SOP\": 1.5, \"LOR \": 2.0, \"CGPA\": 7.36, \"Research\": 0, \"Chance\": 0.46, \"Pred\": 0.44374670530235005}, {\"GRE\": 312, \"TOEFL\": 105, \"Rate\": 3, \"SOP\": 2.0, \"LOR \": 3.0, \"CGPA\": 8.02, \"Research\": 1, \"Chance\": 0.5, \"Pred\": 0.6452140401287374}, {\"GRE\": 340, \"TOEFL\": 120, \"Rate\": 4, \"SOP\": 5.0, \"LOR \": 5.0, \"CGPA\": 9.5, \"Research\": 1, \"Chance\": 0.96, \"Pred\": 0.9541930133510557}, {\"GRE\": 320, \"TOEFL\": 110, \"Rate\": 5, \"SOP\": 5.0, \"LOR \": 4.5, \"CGPA\": 9.22, \"Research\": 1, \"Chance\": 0.92, \"Pred\": 0.8514860612250958}, {\"GRE\": 322, \"TOEFL\": 115, \"Rate\": 5, \"SOP\": 4.0, \"LOR \": 4.5, \"CGPA\": 9.36, \"Research\": 1, \"Chance\": 0.92, \"Pred\": 0.8895154610004001}, {\"GRE\": 340, \"TOEFL\": 115, \"Rate\": 5, \"SOP\": 4.5, \"LOR \": 4.5, \"CGPA\": 9.45, \"Research\": 1, \"Chance\": 0.94, \"Pred\": 0.9298408355798531}, {\"GRE\": 319, \"TOEFL\": 103, \"Rate\": 4, \"SOP\": 4.5, \"LOR \": 3.5, \"CGPA\": 8.66, \"Research\": 0, \"Chance\": 0.76, \"Pred\": 0.7117632106851974}, {\"GRE\": 315, \"TOEFL\": 106, \"Rate\": 3, \"SOP\": 4.5, \"LOR \": 3.5, \"CGPA\": 8.42, \"Research\": 0, \"Chance\": 0.72, \"Pred\": 0.6793101678537077}, {\"GRE\": 317, \"TOEFL\": 107, \"Rate\": 2, \"SOP\": 3.5, \"LOR \": 3.0, \"CGPA\": 8.28, \"Research\": 0, \"Chance\": 0.66, \"Pred\": 0.6554649915550421}, {\"GRE\": 314, \"TOEFL\": 108, \"Rate\": 3, \"SOP\": 4.5, \"LOR \": 3.5, \"CGPA\": 8.14, \"Research\": 0, \"Chance\": 0.64, \"Pred\": 0.6501088629093752}, {\"GRE\": 316, \"TOEFL\": 109, \"Rate\": 4, \"SOP\": 4.5, \"LOR \": 3.5, \"CGPA\": 8.76, \"Research\": 1, \"Chance\": 0.74, \"Pred\": 0.7604874885287327}, {\"GRE\": 318, \"TOEFL\": 106, \"Rate\": 2, \"SOP\": 4.0, \"LOR \": 4.0, \"CGPA\": 7.92, \"Research\": 1, \"Chance\": 0.64, \"Pred\": 0.6566902721153494}, {\"GRE\": 299, \"TOEFL\": 97, \"Rate\": 3, \"SOP\": 5.0, \"LOR \": 3.5, \"CGPA\": 7.66, \"Research\": 0, \"Chance\": 0.38, \"Pred\": 0.5331888221088794}, {\"GRE\": 298, \"TOEFL\": 98, \"Rate\": 2, \"SOP\": 4.0, \"LOR \": 3.0, \"CGPA\": 8.03, \"Research\": 0, \"Chance\": 0.34, \"Pred\": 0.5647905324316578}, {\"GRE\": 301, \"TOEFL\": 97, \"Rate\": 2, \"SOP\": 3.0, \"LOR \": 3.0, \"CGPA\": 7.88, \"Research\": 1, \"Chance\": 0.44, \"Pred\": 0.57707254762861}, {\"GRE\": 303, \"TOEFL\": 99, \"Rate\": 3, \"SOP\": 2.0, \"LOR \": 2.5, \"CGPA\": 7.66, \"Research\": 0, \"Chance\": 0.36, \"Pred\": 0.5335400018336254}, {\"GRE\": 304, \"TOEFL\": 100, \"Rate\": 4, \"SOP\": 1.5, \"LOR \": 2.5, \"CGPA\": 7.84, \"Research\": 0, \"Chance\": 0.42, \"Pred\": 0.5669753345264845}, {\"GRE\": 306, \"TOEFL\": 100, \"Rate\": 2, \"SOP\": 3.0, \"LOR \": 3.0, \"CGPA\": 8.0, \"Research\": 0, \"Chance\": 0.48, \"Pred\": 0.5842659640707759}, {\"GRE\": 331, \"TOEFL\": 120, \"Rate\": 3, \"SOP\": 4.0, \"LOR \": 4.0, \"CGPA\": 8.96, \"Research\": 1, \"Chance\": 0.86, \"Pred\": 0.8495643878513179}, {\"GRE\": 332, \"TOEFL\": 119, \"Rate\": 4, \"SOP\": 5.0, \"LOR \": 4.5, \"CGPA\": 9.24, \"Research\": 1, \"Chance\": 0.9, \"Pred\": 0.8952733223666101}, {\"GRE\": 323, \"TOEFL\": 113, \"Rate\": 3, \"SOP\": 4.0, \"LOR \": 4.0, \"CGPA\": 8.88, \"Research\": 1, \"Chance\": 0.79, \"Pred\": 0.8057129012769673}, {\"GRE\": 322, \"TOEFL\": 107, \"Rate\": 3, \"SOP\": 3.5, \"LOR \": 3.5, \"CGPA\": 8.46, \"Research\": 1, \"Chance\": 0.71, \"Pred\": 0.7269794791520026}, {\"GRE\": 312, \"TOEFL\": 105, \"Rate\": 2, \"SOP\": 2.5, \"LOR \": 3.0, \"CGPA\": 8.12, \"Research\": 0, \"Chance\": 0.64, \"Pred\": 0.6252136365356629}, {\"GRE\": 314, \"TOEFL\": 106, \"Rate\": 2, \"SOP\": 4.0, \"LOR \": 3.5, \"CGPA\": 8.25, \"Research\": 0, \"Chance\": 0.62, \"Pred\": 0.6532889755588105}, {\"GRE\": 317, \"TOEFL\": 104, \"Rate\": 2, \"SOP\": 4.5, \"LOR \": 4.0, \"CGPA\": 8.47, \"Research\": 0, \"Chance\": 0.57, \"Pred\": 0.6883527155709961}, {\"GRE\": 326, \"TOEFL\": 112, \"Rate\": 3, \"SOP\": 3.5, \"LOR \": 3.0, \"CGPA\": 9.05, \"Research\": 1, \"Chance\": 0.74, \"Pred\": 0.8075247234787535}, {\"GRE\": 316, \"TOEFL\": 110, \"Rate\": 3, \"SOP\": 4.0, \"LOR \": 4.5, \"CGPA\": 8.78, \"Research\": 1, \"Chance\": 0.69, \"Pred\": 0.7840749081335694}, {\"GRE\": 329, \"TOEFL\": 111, \"Rate\": 4, \"SOP\": 4.5, \"LOR \": 4.5, \"CGPA\": 9.18, \"Research\": 1, \"Chance\": 0.87, \"Pred\": 0.8612206904248783}, {\"GRE\": 338, \"TOEFL\": 117, \"Rate\": 4, \"SOP\": 3.5, \"LOR \": 4.5, \"CGPA\": 9.46, \"Research\": 1, \"Chance\": 0.91, \"Pred\": 0.9309830715177909}, {\"GRE\": 331, \"TOEFL\": 116, \"Rate\": 5, \"SOP\": 5.0, \"LOR \": 5.0, \"CGPA\": 9.38, \"Research\": 1, \"Chance\": 0.93, \"Pred\": 0.9183219256475061}, {\"GRE\": 304, \"TOEFL\": 103, \"Rate\": 5, \"SOP\": 5.0, \"LOR \": 4.0, \"CGPA\": 8.64, \"Research\": 0, \"Chance\": 0.68, \"Pred\": 0.6985638853246134}, {\"GRE\": 305, \"TOEFL\": 108, \"Rate\": 5, \"SOP\": 3.0, \"LOR \": 3.0, \"CGPA\": 8.48, \"Research\": 0, \"Chance\": 0.61, \"Pred\": 0.6801260791665014}, {\"GRE\": 321, \"TOEFL\": 109, \"Rate\": 4, \"SOP\": 4.0, \"LOR \": 4.0, \"CGPA\": 8.68, \"Research\": 1, \"Chance\": 0.69, \"Pred\": 0.7724885382827529}, {\"GRE\": 301, \"TOEFL\": 107, \"Rate\": 3, \"SOP\": 3.5, \"LOR \": 3.5, \"CGPA\": 8.34, \"Research\": 1, \"Chance\": 0.62, \"Pred\": 0.6762211017290634}, {\"GRE\": 320, \"TOEFL\": 110, \"Rate\": 2, \"SOP\": 4.0, \"LOR \": 3.5, \"CGPA\": 8.56, \"Research\": 0, \"Chance\": 0.72, \"Pred\": 0.712262982867675}, {\"GRE\": 311, \"TOEFL\": 105, \"Rate\": 3, \"SOP\": 3.5, \"LOR \": 3.0, \"CGPA\": 8.45, \"Research\": 1, \"Chance\": 0.59, \"Pred\": 0.6896628400368474}, {\"GRE\": 310, \"TOEFL\": 106, \"Rate\": 4, \"SOP\": 4.5, \"LOR \": 4.5, \"CGPA\": 9.04, \"Research\": 1, \"Chance\": 0.66, \"Pred\": 0.796960462987401}, {\"GRE\": 299, \"TOEFL\": 102, \"Rate\": 3, \"SOP\": 4.0, \"LOR \": 3.5, \"CGPA\": 8.62, \"Research\": 0, \"Chance\": 0.56, \"Pred\": 0.6652737506917215}, {\"GRE\": 290, \"TOEFL\": 104, \"Rate\": 4, \"SOP\": 2.0, \"LOR \": 2.5, \"CGPA\": 7.46, \"Research\": 0, \"Chance\": 0.45, \"Pred\": 0.5074803029105828}, {\"GRE\": 296, \"TOEFL\": 99, \"Rate\": 2, \"SOP\": 3.0, \"LOR \": 3.5, \"CGPA\": 7.28, \"Research\": 0, \"Chance\": 0.47, \"Pred\": 0.489512428618027}, {\"GRE\": 327, \"TOEFL\": 104, \"Rate\": 5, \"SOP\": 3.0, \"LOR \": 3.5, \"CGPA\": 8.84, \"Research\": 1, \"Chance\": 0.71, \"Pred\": 0.7851906997155444}, {\"GRE\": 335, \"TOEFL\": 117, \"Rate\": 5, \"SOP\": 5.0, \"LOR \": 5.0, \"CGPA\": 9.56, \"Research\": 1, \"Chance\": 0.94, \"Pred\": 0.9496002503959533}, {\"GRE\": 334, \"TOEFL\": 119, \"Rate\": 5, \"SOP\": 4.5, \"LOR \": 4.5, \"CGPA\": 9.48, \"Research\": 1, \"Chance\": 0.94, \"Pred\": 0.93466285702938}, {\"GRE\": 310, \"TOEFL\": 106, \"Rate\": 4, \"SOP\": 1.5, \"LOR \": 2.5, \"CGPA\": 8.36, \"Research\": 0, \"Chance\": 0.57, \"Pred\": 0.6567657807245764}, {\"GRE\": 308, \"TOEFL\": 108, \"Rate\": 3, \"SOP\": 3.5, \"LOR \": 3.5, \"CGPA\": 8.22, \"Research\": 0, \"Chance\": 0.61, \"Pred\": 0.6525047188161197}, {\"GRE\": 301, \"TOEFL\": 106, \"Rate\": 4, \"SOP\": 2.5, \"LOR \": 3.0, \"CGPA\": 8.47, \"Research\": 0, \"Chance\": 0.57, \"Pred\": 0.6620838111002367}, {\"GRE\": 300, \"TOEFL\": 100, \"Rate\": 3, \"SOP\": 2.0, \"LOR \": 3.0, \"CGPA\": 8.66, \"Research\": 1, \"Chance\": 0.64, \"Pred\": 0.6858884674940438}, {\"GRE\": 323, \"TOEFL\": 113, \"Rate\": 3, \"SOP\": 4.0, \"LOR \": 3.0, \"CGPA\": 9.32, \"Research\": 1, \"Chance\": 0.85, \"Pred\": 0.8356931335313014}, {\"GRE\": 319, \"TOEFL\": 112, \"Rate\": 3, \"SOP\": 2.5, \"LOR \": 2.0, \"CGPA\": 8.71, \"Research\": 1, \"Chance\": 0.78, \"Pred\": 0.7358754699753711}, {\"GRE\": 326, \"TOEFL\": 112, \"Rate\": 3, \"SOP\": 3.5, \"LOR \": 3.0, \"CGPA\": 9.1, \"Research\": 1, \"Chance\": 0.84, \"Pred\": 0.813471696158605}, {\"GRE\": 333, \"TOEFL\": 118, \"Rate\": 5, \"SOP\": 5.0, \"LOR \": 5.0, \"CGPA\": 9.35, \"Research\": 1, \"Chance\": 0.92, \"Pred\": 0.9240677188154736}, {\"GRE\": 339, \"TOEFL\": 114, \"Rate\": 5, \"SOP\": 4.0, \"LOR \": 4.5, \"CGPA\": 9.76, \"Research\": 1, \"Chance\": 0.96, \"Pred\": 0.9637076623295269}, {\"GRE\": 303, \"TOEFL\": 105, \"Rate\": 5, \"SOP\": 5.0, \"LOR \": 4.5, \"CGPA\": 8.65, \"Research\": 0, \"Chance\": 0.77, \"Pred\": 0.7150315855875997}, {\"GRE\": 309, \"TOEFL\": 105, \"Rate\": 5, \"SOP\": 3.5, \"LOR \": 3.5, \"CGPA\": 8.56, \"Research\": 0, \"Chance\": 0.71, \"Pred\": 0.6973561304291911}, {\"GRE\": 323, \"TOEFL\": 112, \"Rate\": 5, \"SOP\": 4.0, \"LOR \": 4.5, \"CGPA\": 8.78, \"Research\": 0, \"Chance\": 0.79, \"Pred\": 0.7889841527390369}, {\"GRE\": 333, \"TOEFL\": 113, \"Rate\": 5, \"SOP\": 4.0, \"LOR \": 4.0, \"CGPA\": 9.28, \"Research\": 1, \"Chance\": 0.89, \"Pred\": 0.8820961146957622}, {\"GRE\": 314, \"TOEFL\": 109, \"Rate\": 4, \"SOP\": 3.5, \"LOR \": 4.0, \"CGPA\": 8.77, \"Research\": 1, \"Chance\": 0.82, \"Pred\": 0.7726837926319206}, {\"GRE\": 312, \"TOEFL\": 103, \"Rate\": 3, \"SOP\": 5.0, \"LOR \": 4.0, \"CGPA\": 8.45, \"Research\": 0, \"Chance\": 0.76, \"Pred\": 0.6784313654394476}, {\"GRE\": 316, \"TOEFL\": 100, \"Rate\": 2, \"SOP\": 1.5, \"LOR \": 3.0, \"CGPA\": 8.16, \"Research\": 1, \"Chance\": 0.71, \"Pred\": 0.6501532522193649}, {\"GRE\": 326, \"TOEFL\": 116, \"Rate\": 2, \"SOP\": 4.5, \"LOR \": 3.0, \"CGPA\": 9.08, \"Research\": 1, \"Chance\": 0.8, \"Pred\": 0.8137493871743773}, {\"GRE\": 318, \"TOEFL\": 109, \"Rate\": 1, \"SOP\": 3.5, \"LOR \": 3.5, \"CGPA\": 9.12, \"Research\": 0, \"Chance\": 0.78, \"Pred\": 0.7684106033106717}, {\"GRE\": 329, \"TOEFL\": 110, \"Rate\": 2, \"SOP\": 4.0, \"LOR \": 3.0, \"CGPA\": 9.15, \"Research\": 1, \"Chance\": 0.84, \"Pred\": 0.8114225072601944}, {\"GRE\": 332, \"TOEFL\": 118, \"Rate\": 2, \"SOP\": 4.5, \"LOR \": 3.5, \"CGPA\": 9.36, \"Research\": 1, \"Chance\": 0.9, \"Pred\": 0.8744926209056605}, {\"GRE\": 331, \"TOEFL\": 115, \"Rate\": 5, \"SOP\": 4.0, \"LOR \": 3.5, \"CGPA\": 9.44, \"Research\": 1, \"Chance\": 0.92, \"Pred\": 0.8923141940989299}, {\"GRE\": 340, \"TOEFL\": 120, \"Rate\": 4, \"SOP\": 4.5, \"LOR \": 4.0, \"CGPA\": 9.92, \"Research\": 1, \"Chance\": 0.97, \"Pred\": 0.9834470410559828}, {\"GRE\": 325, \"TOEFL\": 112, \"Rate\": 2, \"SOP\": 3.0, \"LOR \": 3.5, \"CGPA\": 8.96, \"Research\": 1, \"Chance\": 0.8, \"Pred\": 0.8021952511357984}, {\"GRE\": 320, \"TOEFL\": 113, \"Rate\": 2, \"SOP\": 2.0, \"LOR \": 2.5, \"CGPA\": 8.64, \"Research\": 1, \"Chance\": 0.81, \"Pred\": 0.7393191866633102}, {\"GRE\": 315, \"TOEFL\": 105, \"Rate\": 3, \"SOP\": 2.0, \"LOR \": 2.5, \"CGPA\": 8.48, \"Research\": 0, \"Chance\": 0.75, \"Pred\": 0.6694367535369112}, {\"GRE\": 326, \"TOEFL\": 114, \"Rate\": 3, \"SOP\": 3.0, \"LOR \": 3.0, \"CGPA\": 9.11, \"Research\": 1, \"Chance\": 0.83, \"Pred\": 0.8221528288509588}, {\"GRE\": 339, \"TOEFL\": 116, \"Rate\": 4, \"SOP\": 4.0, \"LOR \": 3.5, \"CGPA\": 9.8, \"Research\": 1, \"Chance\": 0.96, \"Pred\": 0.9462346086439781}, {\"GRE\": 311, \"TOEFL\": 106, \"Rate\": 2, \"SOP\": 3.5, \"LOR \": 3.0, \"CGPA\": 8.26, \"Research\": 1, \"Chance\": 0.79, \"Pred\": 0.6642672625354158}, {\"GRE\": 334, \"TOEFL\": 114, \"Rate\": 4, \"SOP\": 4.0, \"LOR \": 4.0, \"CGPA\": 9.43, \"Research\": 1, \"Chance\": 0.93, \"Pred\": 0.8988773629883353}, {\"GRE\": 332, \"TOEFL\": 116, \"Rate\": 5, \"SOP\": 5.0, \"LOR \": 5.0, \"CGPA\": 9.28, \"Research\": 1, \"Chance\": 0.94, \"Pred\": 0.9081653918588166}, {\"GRE\": 321, \"TOEFL\": 112, \"Rate\": 5, \"SOP\": 5.0, \"LOR \": 5.0, \"CGPA\": 9.06, \"Research\": 1, \"Chance\": 0.86, \"Pred\": 0.8512088775186146}, {\"GRE\": 324, \"TOEFL\": 105, \"Rate\": 3, \"SOP\": 3.0, \"LOR \": 4.0, \"CGPA\": 8.75, \"Research\": 0, \"Chance\": 0.79, \"Pred\": 0.7474116320947088}, {\"GRE\": 326, \"TOEFL\": 108, \"Rate\": 3, \"SOP\": 3.0, \"LOR \": 3.5, \"CGPA\": 8.89, \"Research\": 0, \"Chance\": 0.8, \"Pred\": 0.7651201455269174}, {\"GRE\": 312, \"TOEFL\": 109, \"Rate\": 3, \"SOP\": 3.0, \"LOR \": 3.0, \"CGPA\": 8.69, \"Research\": 0, \"Chance\": 0.77, \"Pred\": 0.7087515059660594}, {\"GRE\": 315, \"TOEFL\": 105, \"Rate\": 3, \"SOP\": 2.0, \"LOR \": 2.5, \"CGPA\": 8.34, \"Research\": 0, \"Chance\": 0.7, \"Pred\": 0.6527852300333266}, {\"GRE\": 309, \"TOEFL\": 104, \"Rate\": 2, \"SOP\": 2.0, \"LOR \": 2.5, \"CGPA\": 8.26, \"Research\": 0, \"Chance\": 0.65, \"Pred\": 0.6242093693676336}, {\"GRE\": 306, \"TOEFL\": 106, \"Rate\": 2, \"SOP\": 2.0, \"LOR \": 2.5, \"CGPA\": 8.14, \"Research\": 0, \"Chance\": 0.61, \"Pred\": 0.610563553856798}, {\"GRE\": 297, \"TOEFL\": 100, \"Rate\": 1, \"SOP\": 1.5, \"LOR \": 2.0, \"CGPA\": 7.9, \"Research\": 0, \"Chance\": 0.52, \"Pred\": 0.5336232826762652}, {\"GRE\": 315, \"TOEFL\": 103, \"Rate\": 1, \"SOP\": 1.5, \"LOR \": 2.0, \"CGPA\": 7.86, \"Research\": 0, \"Chance\": 0.57, \"Pred\": 0.5688978432614125}, {\"GRE\": 298, \"TOEFL\": 99, \"Rate\": 1, \"SOP\": 1.5, \"LOR \": 3.0, \"CGPA\": 7.46, \"Research\": 0, \"Chance\": 0.53, \"Pred\": 0.5024608851760195}, {\"GRE\": 318, \"TOEFL\": 109, \"Rate\": 3, \"SOP\": 3.0, \"LOR \": 3.0, \"CGPA\": 8.5, \"Research\": 0, \"Chance\": 0.67, \"Pred\": 0.6965774792087078}, {\"GRE\": 317, \"TOEFL\": 105, \"Rate\": 3, \"SOP\": 3.5, \"LOR \": 3.0, \"CGPA\": 8.56, \"Research\": 0, \"Chance\": 0.68, \"Pred\": 0.6886455430632819}, {\"GRE\": 329, \"TOEFL\": 111, \"Rate\": 4, \"SOP\": 4.5, \"LOR \": 4.0, \"CGPA\": 9.01, \"Research\": 1, \"Chance\": 0.81, \"Pred\": 0.8298244196492026}, {\"GRE\": 322, \"TOEFL\": 110, \"Rate\": 5, \"SOP\": 4.5, \"LOR \": 4.0, \"CGPA\": 8.97, \"Research\": 0, \"Chance\": 0.78, \"Pred\": 0.7911769355308962}, {\"GRE\": 302, \"TOEFL\": 102, \"Rate\": 3, \"SOP\": 3.5, \"LOR \": 5.0, \"CGPA\": 8.33, \"Research\": 0, \"Chance\": 0.65, \"Pred\": 0.6711758193766972}, {\"GRE\": 313, \"TOEFL\": 102, \"Rate\": 3, \"SOP\": 2.0, \"LOR \": 3.0, \"CGPA\": 8.27, \"Research\": 0, \"Chance\": 0.64, \"Pred\": 0.6434024783529104}, {\"GRE\": 293, \"TOEFL\": 97, \"Rate\": 2, \"SOP\": 2.0, \"LOR \": 4.0, \"CGPA\": 7.8, \"Research\": 1, \"Chance\": 0.64, \"Pred\": 0.5793163951461608}, {\"GRE\": 311, \"TOEFL\": 99, \"Rate\": 2, \"SOP\": 2.5, \"LOR \": 3.0, \"CGPA\": 7.98, \"Research\": 0, \"Chance\": 0.65, \"Pred\": 0.5893072405595137}, {\"GRE\": 312, \"TOEFL\": 101, \"Rate\": 2, \"SOP\": 2.5, \"LOR \": 3.5, \"CGPA\": 8.04, \"Research\": 1, \"Chance\": 0.68, \"Pred\": 0.6397218429397031}, {\"GRE\": 334, \"TOEFL\": 117, \"Rate\": 5, \"SOP\": 4.0, \"LOR \": 4.5, \"CGPA\": 9.07, \"Research\": 1, \"Chance\": 0.89, \"Pred\": 0.8817111119432799}, {\"GRE\": 322, \"TOEFL\": 110, \"Rate\": 4, \"SOP\": 4.0, \"LOR \": 5.0, \"CGPA\": 9.13, \"Research\": 1, \"Chance\": 0.86, \"Pred\": 0.8530214081177159}, {\"GRE\": 323, \"TOEFL\": 113, \"Rate\": 4, \"SOP\": 4.0, \"LOR \": 4.5, \"CGPA\": 9.23, \"Research\": 1, \"Chance\": 0.89, \"Pred\": 0.8642349318350291}, {\"GRE\": 321, \"TOEFL\": 111, \"Rate\": 4, \"SOP\": 4.0, \"LOR \": 4.0, \"CGPA\": 8.97, \"Research\": 1, \"Chance\": 0.87, \"Pred\": 0.8128201334597429}, {\"GRE\": 320, \"TOEFL\": 111, \"Rate\": 4, \"SOP\": 4.5, \"LOR \": 3.5, \"CGPA\": 8.87, \"Research\": 1, \"Chance\": 0.85, \"Pred\": 0.7863596283423122}, {\"GRE\": 329, \"TOEFL\": 119, \"Rate\": 4, \"SOP\": 4.5, \"LOR \": 4.5, \"CGPA\": 9.16, \"Research\": 1, \"Chance\": 0.9, \"Pred\": 0.8821985158883388}, {\"GRE\": 319, \"TOEFL\": 110, \"Rate\": 3, \"SOP\": 3.5, \"LOR \": 3.5, \"CGPA\": 9.04, \"Research\": 0, \"Chance\": 0.82, \"Pred\": 0.7749857516806904}, {\"GRE\": 309, \"TOEFL\": 108, \"Rate\": 3, \"SOP\": 2.5, \"LOR \": 3.0, \"CGPA\": 8.12, \"Research\": 0, \"Chance\": 0.72, \"Pred\": 0.6344767904083171}, {\"GRE\": 307, \"TOEFL\": 102, \"Rate\": 3, \"SOP\": 3.0, \"LOR \": 3.0, \"CGPA\": 8.27, \"Research\": 0, \"Chance\": 0.73, \"Pred\": 0.6296728398817597}, {\"GRE\": 300, \"TOEFL\": 104, \"Rate\": 3, \"SOP\": 3.5, \"LOR \": 3.0, \"CGPA\": 8.16, \"Research\": 0, \"Chance\": 0.71, \"Pred\": 0.6086141881003051}, {\"GRE\": 305, \"TOEFL\": 107, \"Rate\": 2, \"SOP\": 2.5, \"LOR \": 2.5, \"CGPA\": 8.42, \"Research\": 0, \"Chance\": 0.71, \"Pred\": 0.6433961815873446}, {\"GRE\": 299, \"TOEFL\": 100, \"Rate\": 2, \"SOP\": 3.0, \"LOR \": 3.5, \"CGPA\": 7.88, \"Research\": 0, \"Chance\": 0.68, \"Pred\": 0.5690079123062135}, {\"GRE\": 314, \"TOEFL\": 110, \"Rate\": 3, \"SOP\": 4.0, \"LOR \": 4.0, \"CGPA\": 8.8, \"Research\": 0, \"Chance\": 0.75, \"Pred\": 0.7472772041039792}, {\"GRE\": 316, \"TOEFL\": 106, \"Rate\": 2, \"SOP\": 2.5, \"LOR \": 4.0, \"CGPA\": 8.32, \"Research\": 0, \"Chance\": 0.72, \"Pred\": 0.6812238776844102}, {\"GRE\": 327, \"TOEFL\": 113, \"Rate\": 4, \"SOP\": 4.5, \"LOR \": 4.5, \"CGPA\": 9.11, \"Research\": 1, \"Chance\": 0.89, \"Pred\": 0.8552592591649082}, {\"GRE\": 317, \"TOEFL\": 107, \"Rate\": 3, \"SOP\": 3.5, \"LOR \": 3.0, \"CGPA\": 8.68, \"Research\": 1, \"Chance\": 0.84, \"Pred\": 0.7332825374240994}, {\"GRE\": 335, \"TOEFL\": 118, \"Rate\": 5, \"SOP\": 4.5, \"LOR \": 3.5, \"CGPA\": 9.44, \"Research\": 1, \"Chance\": 0.93, \"Pred\": 0.9063699863112282}, {\"GRE\": 331, \"TOEFL\": 115, \"Rate\": 5, \"SOP\": 4.5, \"LOR \": 3.5, \"CGPA\": 9.36, \"Research\": 1, \"Chance\": 0.93, \"Pred\": 0.8811464532886342}, {\"GRE\": 324, \"TOEFL\": 112, \"Rate\": 5, \"SOP\": 5.0, \"LOR \": 5.0, \"CGPA\": 9.08, \"Research\": 1, \"Chance\": 0.88, \"Pred\": 0.8587999013035976}, {\"GRE\": 324, \"TOEFL\": 111, \"Rate\": 5, \"SOP\": 4.5, \"LOR \": 4.0, \"CGPA\": 9.16, \"Research\": 1, \"Chance\": 0.9, \"Pred\": 0.8446949379686088}, {\"GRE\": 323, \"TOEFL\": 110, \"Rate\": 5, \"SOP\": 4.0, \"LOR \": 5.0, \"CGPA\": 8.98, \"Research\": 1, \"Chance\": 0.87, \"Pred\": 0.8426345597840961}, {\"GRE\": 322, \"TOEFL\": 114, \"Rate\": 5, \"SOP\": 4.5, \"LOR \": 4.0, \"CGPA\": 8.94, \"Research\": 1, \"Chance\": 0.86, \"Pred\": 0.8238121654860089}, {\"GRE\": 336, \"TOEFL\": 118, \"Rate\": 5, \"SOP\": 4.5, \"LOR \": 5.0, \"CGPA\": 9.53, \"Research\": 1, \"Chance\": 0.94, \"Pred\": 0.9523416396985145}, {\"GRE\": 316, \"TOEFL\": 109, \"Rate\": 3, \"SOP\": 3.5, \"LOR \": 3.0, \"CGPA\": 8.76, \"Research\": 0, \"Chance\": 0.77, \"Pred\": 0.722374329479375}, {\"GRE\": 307, \"TOEFL\": 107, \"Rate\": 2, \"SOP\": 3.0, \"LOR \": 3.5, \"CGPA\": 8.52, \"Research\": 1, \"Chance\": 0.78, \"Pred\": 0.7039905991902256}, {\"GRE\": 306, \"TOEFL\": 105, \"Rate\": 2, \"SOP\": 3.0, \"LOR \": 2.5, \"CGPA\": 8.26, \"Research\": 0, \"Chance\": 0.73, \"Pred\": 0.6186115424264502}, {\"GRE\": 310, \"TOEFL\": 106, \"Rate\": 2, \"SOP\": 3.5, \"LOR \": 2.5, \"CGPA\": 8.33, \"Research\": 0, \"Chance\": 0.73, \"Pred\": 0.6351539427566906}, {\"GRE\": 311, \"TOEFL\": 104, \"Rate\": 3, \"SOP\": 4.5, \"LOR \": 4.5, \"CGPA\": 8.43, \"Research\": 0, \"Chance\": 0.7, \"Pred\": 0.690063889800131}, {\"GRE\": 313, \"TOEFL\": 107, \"Rate\": 3, \"SOP\": 4.0, \"LOR \": 4.5, \"CGPA\": 8.69, \"Research\": 0, \"Chance\": 0.72, \"Pred\": 0.7348742858506958}, {\"GRE\": 317, \"TOEFL\": 103, \"Rate\": 3, \"SOP\": 2.5, \"LOR \": 3.0, \"CGPA\": 8.54, \"Research\": 1, \"Chance\": 0.73, \"Pred\": 0.7082578756978808}, {\"GRE\": 315, \"TOEFL\": 110, \"Rate\": 2, \"SOP\": 3.5, \"LOR \": 3.0, \"CGPA\": 8.46, \"Research\": 1, \"Chance\": 0.72, \"Pred\": 0.7066831068065789}, {\"GRE\": 340, \"TOEFL\": 120, \"Rate\": 5, \"SOP\": 4.5, \"LOR \": 4.5, \"CGPA\": 9.91, \"Research\": 1, \"Chance\": 0.97, \"Pred\": 0.9991508683191135}, {\"GRE\": 334, \"TOEFL\": 120, \"Rate\": 5, \"SOP\": 4.0, \"LOR \": 5.0, \"CGPA\": 9.87, \"Research\": 1, \"Chance\": 0.97, \"Pred\": 0.9967979689358601}, {\"GRE\": 298, \"TOEFL\": 105, \"Rate\": 3, \"SOP\": 3.5, \"LOR \": 4.0, \"CGPA\": 8.54, \"Research\": 0, \"Chance\": 0.69, \"Pred\": 0.6756090614704333}, {\"GRE\": 295, \"TOEFL\": 99, \"Rate\": 2, \"SOP\": 2.5, \"LOR \": 3.0, \"CGPA\": 7.65, \"Research\": 0, \"Chance\": 0.57, \"Pred\": 0.5222586357362682}, {\"GRE\": 315, \"TOEFL\": 99, \"Rate\": 2, \"SOP\": 3.5, \"LOR \": 3.0, \"CGPA\": 7.89, \"Research\": 0, \"Chance\": 0.63, \"Pred\": 0.5822471669747706}, {\"GRE\": 310, \"TOEFL\": 102, \"Rate\": 3, \"SOP\": 3.5, \"LOR \": 4.0, \"CGPA\": 8.02, \"Research\": 1, \"Chance\": 0.66, \"Pred\": 0.6503758602966938}, {\"GRE\": 305, \"TOEFL\": 106, \"Rate\": 2, \"SOP\": 3.0, \"LOR \": 3.0, \"CGPA\": 8.16, \"Research\": 0, \"Chance\": 0.64, \"Pred\": 0.6190763259768379}, {\"GRE\": 301, \"TOEFL\": 104, \"Rate\": 3, \"SOP\": 3.5, \"LOR \": 4.0, \"CGPA\": 8.12, \"Research\": 1, \"Chance\": 0.68, \"Pred\": 0.6524722551511206}, {\"GRE\": 325, \"TOEFL\": 108, \"Rate\": 4, \"SOP\": 4.5, \"LOR \": 4.0, \"CGPA\": 9.06, \"Research\": 1, \"Chance\": 0.79, \"Pred\": 0.8200630155942232}, {\"GRE\": 328, \"TOEFL\": 110, \"Rate\": 4, \"SOP\": 5.0, \"LOR \": 4.0, \"CGPA\": 9.14, \"Research\": 1, \"Chance\": 0.82, \"Pred\": 0.8389769757063446}, {\"GRE\": 338, \"TOEFL\": 120, \"Rate\": 4, \"SOP\": 5.0, \"LOR \": 5.0, \"CGPA\": 9.66, \"Research\": 1, \"Chance\": 0.95, \"Pred\": 0.9697485027845529}, {\"GRE\": 333, \"TOEFL\": 119, \"Rate\": 5, \"SOP\": 5.0, \"LOR \": 4.5, \"CGPA\": 9.78, \"Research\": 1, \"Chance\": 0.96, \"Pred\": 0.9669546970149423}, {\"GRE\": 331, \"TOEFL\": 117, \"Rate\": 4, \"SOP\": 4.5, \"LOR \": 5.0, \"CGPA\": 9.42, \"Research\": 1, \"Chance\": 0.94, \"Pred\": 0.9219350069959245}, {\"GRE\": 330, \"TOEFL\": 116, \"Rate\": 5, \"SOP\": 5.0, \"LOR \": 4.5, \"CGPA\": 9.36, \"Research\": 1, \"Chance\": 0.93, \"Pred\": 0.9030291613403716}, {\"GRE\": 322, \"TOEFL\": 112, \"Rate\": 4, \"SOP\": 4.5, \"LOR \": 4.5, \"CGPA\": 9.26, \"Research\": 1, \"Chance\": 0.91, \"Pred\": 0.8614935425324675}, {\"GRE\": 321, \"TOEFL\": 109, \"Rate\": 4, \"SOP\": 4.0, \"LOR \": 4.0, \"CGPA\": 9.13, \"Research\": 1, \"Chance\": 0.85, \"Pred\": 0.8260112924014174}, {\"GRE\": 324, \"TOEFL\": 110, \"Rate\": 4, \"SOP\": 3.0, \"LOR \": 3.5, \"CGPA\": 8.97, \"Research\": 1, \"Chance\": 0.84, \"Pred\": 0.8072413967367462}, {\"GRE\": 312, \"TOEFL\": 104, \"Rate\": 3, \"SOP\": 3.5, \"LOR \": 3.5, \"CGPA\": 8.42, \"Research\": 0, \"Chance\": 0.74, \"Pred\": 0.6715639485518816}, {\"GRE\": 313, \"TOEFL\": 103, \"Rate\": 3, \"SOP\": 4.0, \"LOR \": 4.0, \"CGPA\": 8.75, \"Research\": 0, \"Chance\": 0.76, \"Pred\": 0.7191557821346375}, {\"GRE\": 316, \"TOEFL\": 110, \"Rate\": 3, \"SOP\": 3.5, \"LOR \": 4.0, \"CGPA\": 8.56, \"Research\": 0, \"Chance\": 0.75, \"Pred\": 0.723859142905253}, {\"GRE\": 324, \"TOEFL\": 113, \"Rate\": 4, \"SOP\": 4.5, \"LOR \": 4.0, \"CGPA\": 8.79, \"Research\": 0, \"Chance\": 0.76, \"Pred\": 0.7762847293413129}, {\"GRE\": 308, \"TOEFL\": 109, \"Rate\": 2, \"SOP\": 3.0, \"LOR \": 4.0, \"CGPA\": 8.45, \"Research\": 0, \"Chance\": 0.71, \"Pred\": 0.6898928600121537}, {\"GRE\": 305, \"TOEFL\": 105, \"Rate\": 2, \"SOP\": 3.0, \"LOR \": 2.0, \"CGPA\": 8.23, \"Research\": 0, \"Chance\": 0.67, \"Pred\": 0.6021293835833454}, {\"GRE\": 296, \"TOEFL\": 99, \"Rate\": 2, \"SOP\": 2.5, \"LOR \": 2.5, \"CGPA\": 8.03, \"Research\": 0, \"Chance\": 0.61, \"Pred\": 0.5580164760099746}, {\"GRE\": 306, \"TOEFL\": 110, \"Rate\": 2, \"SOP\": 3.5, \"LOR \": 4.0, \"CGPA\": 8.45, \"Research\": 0, \"Chance\": 0.63, \"Pred\": 0.6876850291645176}, {\"GRE\": 312, \"TOEFL\": 110, \"Rate\": 2, \"SOP\": 3.5, \"LOR \": 3.0, \"CGPA\": 8.53, \"Research\": 0, \"Chance\": 0.64, \"Pred\": 0.6852715275500054}, {\"GRE\": 318, \"TOEFL\": 112, \"Rate\": 3, \"SOP\": 4.0, \"LOR \": 3.5, \"CGPA\": 8.67, \"Research\": 0, \"Chance\": 0.71, \"Pred\": 0.7334273113900918}, {\"GRE\": 324, \"TOEFL\": 111, \"Rate\": 4, \"SOP\": 3.0, \"LOR \": 3.0, \"CGPA\": 9.01, \"Research\": 1, \"Chance\": 0.82, \"Pred\": 0.8037419880333727}, {\"GRE\": 313, \"TOEFL\": 104, \"Rate\": 3, \"SOP\": 4.0, \"LOR \": 4.5, \"CGPA\": 8.65, \"Research\": 0, \"Chance\": 0.73, \"Pred\": 0.7213579772560392}, {\"GRE\": 319, \"TOEFL\": 106, \"Rate\": 3, \"SOP\": 3.5, \"LOR \": 2.5, \"CGPA\": 8.33, \"Research\": 1, \"Chance\": 0.74, \"Pred\": 0.6810324113260617}, {\"GRE\": 312, \"TOEFL\": 107, \"Rate\": 2, \"SOP\": 2.5, \"LOR \": 3.5, \"CGPA\": 8.27, \"Research\": 0, \"Chance\": 0.69, \"Pred\": 0.6600702718732476}, {\"GRE\": 304, \"TOEFL\": 100, \"Rate\": 2, \"SOP\": 2.5, \"LOR \": 3.5, \"CGPA\": 8.07, \"Research\": 0, \"Chance\": 0.64, \"Pred\": 0.6019460508672527}, {\"GRE\": 330, \"TOEFL\": 113, \"Rate\": 5, \"SOP\": 5.0, \"LOR \": 4.0, \"CGPA\": 9.31, \"Research\": 1, \"Chance\": 0.91, \"Pred\": 0.8771468945455652}, {\"GRE\": 326, \"TOEFL\": 111, \"Rate\": 5, \"SOP\": 4.5, \"LOR \": 4.0, \"CGPA\": 9.23, \"Research\": 1, \"Chance\": 0.88, \"Pred\": 0.8564955228624289}, {\"GRE\": 325, \"TOEFL\": 112, \"Rate\": 4, \"SOP\": 4.0, \"LOR \": 4.5, \"CGPA\": 9.17, \"Research\": 1, \"Chance\": 0.85, \"Pred\": 0.8576538109443097}, {\"GRE\": 329, \"TOEFL\": 114, \"Rate\": 5, \"SOP\": 4.5, \"LOR \": 5.0, \"CGPA\": 9.19, \"Research\": 1, \"Chance\": 0.86, \"Pred\": 0.8880620372107246}, {\"GRE\": 310, \"TOEFL\": 104, \"Rate\": 3, \"SOP\": 2.0, \"LOR \": 3.5, \"CGPA\": 8.37, \"Research\": 0, \"Chance\": 0.7, \"Pred\": 0.6670999062976015}, {\"GRE\": 299, \"TOEFL\": 100, \"Rate\": 1, \"SOP\": 1.5, \"LOR \": 2.0, \"CGPA\": 7.89, \"Research\": 0, \"Chance\": 0.59, \"Pred\": 0.5359087112823231}, {\"GRE\": 296, \"TOEFL\": 101, \"Rate\": 1, \"SOP\": 2.5, \"LOR \": 3.0, \"CGPA\": 7.68, \"Research\": 0, \"Chance\": 0.6, \"Pred\": 0.5276867264141225}, {\"GRE\": 317, \"TOEFL\": 103, \"Rate\": 2, \"SOP\": 2.5, \"LOR \": 2.0, \"CGPA\": 8.15, \"Research\": 0, \"Chance\": 0.65, \"Pred\": 0.6092765970364347}, {\"GRE\": 324, \"TOEFL\": 115, \"Rate\": 3, \"SOP\": 3.5, \"LOR \": 3.0, \"CGPA\": 8.76, \"Research\": 1, \"Chance\": 0.7, \"Pred\": 0.7783161892443615}, {\"GRE\": 325, \"TOEFL\": 114, \"Rate\": 3, \"SOP\": 3.5, \"LOR \": 3.0, \"CGPA\": 9.04, \"Research\": 1, \"Chance\": 0.76, \"Pred\": 0.8104370710056188}, {\"GRE\": 314, \"TOEFL\": 107, \"Rate\": 2, \"SOP\": 2.5, \"LOR \": 4.0, \"CGPA\": 8.56, \"Research\": 0, \"Chance\": 0.63, \"Pred\": 0.7092141002225947}, {\"GRE\": 328, \"TOEFL\": 110, \"Rate\": 4, \"SOP\": 4.0, \"LOR \": 2.5, \"CGPA\": 9.02, \"Research\": 1, \"Chance\": 0.81, \"Pred\": 0.7944797193272286}, {\"GRE\": 316, \"TOEFL\": 105, \"Rate\": 3, \"SOP\": 3.0, \"LOR \": 3.5, \"CGPA\": 8.73, \"Research\": 0, \"Chance\": 0.72, \"Pred\": 0.719956986790476}, {\"GRE\": 311, \"TOEFL\": 104, \"Rate\": 2, \"SOP\": 2.5, \"LOR \": 3.5, \"CGPA\": 8.48, \"Research\": 0, \"Chance\": 0.71, \"Pred\": 0.674551415106835}, {\"GRE\": 324, \"TOEFL\": 110, \"Rate\": 3, \"SOP\": 3.5, \"LOR \": 4.0, \"CGPA\": 8.87, \"Research\": 1, \"Chance\": 0.8, \"Pred\": 0.7991547723837684}, {\"GRE\": 321, \"TOEFL\": 111, \"Rate\": 3, \"SOP\": 3.5, \"LOR \": 4.0, \"CGPA\": 8.83, \"Research\": 1, \"Chance\": 0.77, \"Pred\": 0.7921045363437702}, {\"GRE\": 320, \"TOEFL\": 104, \"Rate\": 3, \"SOP\": 3.0, \"LOR \": 2.5, \"CGPA\": 8.57, \"Research\": 1, \"Chance\": 0.74, \"Pred\": 0.7071287226490464}, {\"GRE\": 316, \"TOEFL\": 99, \"Rate\": 2, \"SOP\": 2.5, \"LOR \": 3.0, \"CGPA\": 9.0, \"Research\": 0, \"Chance\": 0.7, \"Pred\": 0.7193125410835564}, {\"GRE\": 318, \"TOEFL\": 100, \"Rate\": 2, \"SOP\": 2.5, \"LOR \": 3.5, \"CGPA\": 8.54, \"Research\": 1, \"Chance\": 0.71, \"Pred\": 0.7066964623473782}, {\"GRE\": 335, \"TOEFL\": 115, \"Rate\": 4, \"SOP\": 4.5, \"LOR \": 4.5, \"CGPA\": 9.68, \"Research\": 1, \"Chance\": 0.93, \"Pred\": 0.942793193917179}, {\"GRE\": 321, \"TOEFL\": 114, \"Rate\": 4, \"SOP\": 4.0, \"LOR \": 5.0, \"CGPA\": 9.12, \"Research\": 0, \"Chance\": 0.85, \"Pred\": 0.8372478029831087}, {\"GRE\": 307, \"TOEFL\": 110, \"Rate\": 4, \"SOP\": 4.0, \"LOR \": 4.5, \"CGPA\": 8.37, \"Research\": 0, \"Chance\": 0.79, \"Pred\": 0.7008645798592577}, {\"GRE\": 309, \"TOEFL\": 99, \"Rate\": 3, \"SOP\": 4.0, \"LOR \": 4.0, \"CGPA\": 8.56, \"Research\": 0, \"Chance\": 0.76, \"Pred\": 0.6779293323994449}, {\"GRE\": 324, \"TOEFL\": 100, \"Rate\": 3, \"SOP\": 4.0, \"LOR \": 5.0, \"CGPA\": 8.64, \"Research\": 1, \"Chance\": 0.78, \"Pred\": 0.7633034726930263}, {\"GRE\": 326, \"TOEFL\": 102, \"Rate\": 4, \"SOP\": 5.0, \"LOR \": 5.0, \"CGPA\": 8.76, \"Research\": 1, \"Chance\": 0.77, \"Pred\": 0.7893016729904032}, {\"GRE\": 331, \"TOEFL\": 119, \"Rate\": 4, \"SOP\": 5.0, \"LOR \": 4.5, \"CGPA\": 9.34, \"Research\": 1, \"Chance\": 0.9, \"Pred\": 0.9054298561552991}, {\"GRE\": 327, \"TOEFL\": 108, \"Rate\": 5, \"SOP\": 5.0, \"LOR \": 3.5, \"CGPA\": 9.13, \"Research\": 1, \"Chance\": 0.87, \"Pred\": 0.8247511104362519}, {\"GRE\": 312, \"TOEFL\": 104, \"Rate\": 3, \"SOP\": 3.5, \"LOR \": 4.0, \"CGPA\": 8.09, \"Research\": 0, \"Chance\": 0.71, \"Pred\": 0.643490492529041}, {\"GRE\": 308, \"TOEFL\": 103, \"Rate\": 2, \"SOP\": 2.5, \"LOR \": 4.0, \"CGPA\": 8.36, \"Research\": 1, \"Chance\": 0.7, \"Pred\": 0.6878485391047269}, {\"GRE\": 324, \"TOEFL\": 111, \"Rate\": 3, \"SOP\": 2.5, \"LOR \": 1.5, \"CGPA\": 8.79, \"Research\": 1, \"Chance\": 0.7, \"Pred\": 0.7399815436370991}, {\"GRE\": 325, \"TOEFL\": 110, \"Rate\": 2, \"SOP\": 3.0, \"LOR \": 2.5, \"CGPA\": 8.76, \"Research\": 1, \"Chance\": 0.75, \"Pred\": 0.7502150794541824}, {\"GRE\": 313, \"TOEFL\": 102, \"Rate\": 3, \"SOP\": 2.5, \"LOR \": 2.5, \"CGPA\": 8.68, \"Research\": 0, \"Chance\": 0.71, \"Pred\": 0.6793385061409807}, {\"GRE\": 312, \"TOEFL\": 105, \"Rate\": 2, \"SOP\": 2.0, \"LOR \": 2.5, \"CGPA\": 8.45, \"Research\": 0, \"Chance\": 0.72, \"Pred\": 0.654939677081037}, {\"GRE\": 314, \"TOEFL\": 107, \"Rate\": 3, \"SOP\": 3.0, \"LOR \": 3.5, \"CGPA\": 8.17, \"Research\": 1, \"Chance\": 0.73, \"Pred\": 0.6802403295632842}, {\"GRE\": 327, \"TOEFL\": 113, \"Rate\": 4, \"SOP\": 4.5, \"LOR \": 5.0, \"CGPA\": 9.14, \"Research\": 0, \"Chance\": 0.83, \"Pred\": 0.8454789001416756}, {\"GRE\": 308, \"TOEFL\": 108, \"Rate\": 4, \"SOP\": 4.5, \"LOR \": 5.0, \"CGPA\": 8.34, \"Research\": 0, \"Chance\": 0.77, \"Pred\": 0.7027186333301574}, {\"GRE\": 306, \"TOEFL\": 105, \"Rate\": 2, \"SOP\": 2.5, \"LOR \": 3.0, \"CGPA\": 8.22, \"Research\": 1, \"Chance\": 0.72, \"Pred\": 0.6512082187646056}, {\"GRE\": 299, \"TOEFL\": 96, \"Rate\": 2, \"SOP\": 1.5, \"LOR \": 2.0, \"CGPA\": 7.86, \"Research\": 0, \"Chance\": 0.54, \"Pred\": 0.5263788785416328}, {\"GRE\": 294, \"TOEFL\": 95, \"Rate\": 1, \"SOP\": 1.5, \"LOR \": 1.5, \"CGPA\": 7.64, \"Research\": 0, \"Chance\": 0.49, \"Pred\": 0.47171234227918957}, {\"GRE\": 312, \"TOEFL\": 99, \"Rate\": 1, \"SOP\": 1.0, \"LOR \": 1.5, \"CGPA\": 8.01, \"Research\": 1, \"Chance\": 0.52, \"Pred\": 0.5848493464739017}, {\"GRE\": 315, \"TOEFL\": 100, \"Rate\": 1, \"SOP\": 2.0, \"LOR \": 2.5, \"CGPA\": 7.95, \"Research\": 0, \"Chance\": 0.58, \"Pred\": 0.5803676427760165}, {\"GRE\": 322, \"TOEFL\": 110, \"Rate\": 3, \"SOP\": 3.5, \"LOR \": 3.0, \"CGPA\": 8.96, \"Research\": 1, \"Chance\": 0.78, \"Pred\": 0.784031372737114}, {\"GRE\": 329, \"TOEFL\": 113, \"Rate\": 5, \"SOP\": 5.0, \"LOR \": 4.5, \"CGPA\": 9.45, \"Research\": 1, \"Chance\": 0.89, \"Pred\": 0.9032375701423148}, {\"GRE\": 320, \"TOEFL\": 101, \"Rate\": 2, \"SOP\": 2.5, \"LOR \": 3.0, \"CGPA\": 8.62, \"Research\": 0, \"Chance\": 0.7, \"Pred\": 0.6869043486345907}, {\"GRE\": 308, \"TOEFL\": 103, \"Rate\": 2, \"SOP\": 3.0, \"LOR \": 3.5, \"CGPA\": 8.49, \"Research\": 0, \"Chance\": 0.66, \"Pred\": 0.6659564135903047}, {\"GRE\": 304, \"TOEFL\": 102, \"Rate\": 2, \"SOP\": 3.0, \"LOR \": 4.0, \"CGPA\": 8.73, \"Research\": 0, \"Chance\": 0.67, \"Pred\": 0.6958092230167909}, {\"GRE\": 311, \"TOEFL\": 102, \"Rate\": 3, \"SOP\": 4.5, \"LOR \": 4.0, \"CGPA\": 8.64, \"Research\": 1, \"Chance\": 0.68, \"Pred\": 0.7225505640528014}, {\"GRE\": 317, \"TOEFL\": 110, \"Rate\": 3, \"SOP\": 4.0, \"LOR \": 4.5, \"CGPA\": 9.11, \"Research\": 1, \"Chance\": 0.8, \"Pred\": 0.8250623393916043}, {\"GRE\": 312, \"TOEFL\": 106, \"Rate\": 3, \"SOP\": 4.0, \"LOR \": 3.5, \"CGPA\": 8.79, \"Research\": 1, \"Chance\": 0.81, \"Pred\": 0.7442832217894237}, {\"GRE\": 321, \"TOEFL\": 111, \"Rate\": 3, \"SOP\": 2.5, \"LOR \": 3.0, \"CGPA\": 8.9, \"Research\": 1, \"Chance\": 0.8, \"Pred\": 0.7813823398122695}, {\"GRE\": 340, \"TOEFL\": 112, \"Rate\": 4, \"SOP\": 5.0, \"LOR \": 4.5, \"CGPA\": 9.66, \"Research\": 1, \"Chance\": 0.94, \"Pred\": 0.9386901477270004}, {\"GRE\": 331, \"TOEFL\": 116, \"Rate\": 5, \"SOP\": 4.0, \"LOR \": 4.0, \"CGPA\": 9.26, \"Research\": 1, \"Chance\": 0.93, \"Pred\": 0.8850012329325689}, {\"GRE\": 336, \"TOEFL\": 118, \"Rate\": 5, \"SOP\": 4.5, \"LOR \": 4.0, \"CGPA\": 9.19, \"Research\": 1, \"Chance\": 0.92, \"Pred\": 0.8895490981471641}, {\"GRE\": 324, \"TOEFL\": 114, \"Rate\": 5, \"SOP\": 5.0, \"LOR \": 4.5, \"CGPA\": 9.08, \"Research\": 1, \"Chance\": 0.89, \"Pred\": 0.853462491273268}, {\"GRE\": 314, \"TOEFL\": 104, \"Rate\": 4, \"SOP\": 5.0, \"LOR \": 5.0, \"CGPA\": 9.02, \"Research\": 0, \"Chance\": 0.82, \"Pred\": 0.7806910394119895}, {\"GRE\": 313, \"TOEFL\": 109, \"Rate\": 3, \"SOP\": 4.0, \"LOR \": 3.5, \"CGPA\": 9.0, \"Research\": 0, \"Chance\": 0.79, \"Pred\": 0.7552315427712666}, {\"GRE\": 307, \"TOEFL\": 105, \"Rate\": 2, \"SOP\": 2.5, \"LOR \": 3.0, \"CGPA\": 7.65, \"Research\": 0, \"Chance\": 0.58, \"Pred\": 0.5606250354899875}, {\"GRE\": 300, \"TOEFL\": 102, \"Rate\": 2, \"SOP\": 1.5, \"LOR \": 2.0, \"CGPA\": 7.87, \"Research\": 0, \"Chance\": 0.56, \"Pred\": 0.546823145550168}, {\"GRE\": 302, \"TOEFL\": 99, \"Rate\": 2, \"SOP\": 1.0, \"LOR \": 2.0, \"CGPA\": 7.97, \"Research\": 0, \"Chance\": 0.56, \"Pred\": 0.555085768123657}, {\"GRE\": 312, \"TOEFL\": 98, \"Rate\": 1, \"SOP\": 3.5, \"LOR \": 3.0, \"CGPA\": 8.18, \"Research\": 1, \"Chance\": 0.64, \"Pred\": 0.6274162451483449}, {\"GRE\": 316, \"TOEFL\": 101, \"Rate\": 2, \"SOP\": 2.5, \"LOR \": 2.0, \"CGPA\": 8.32, \"Research\": 1, \"Chance\": 0.61, \"Pred\": 0.6464448452383893}, {\"GRE\": 317, \"TOEFL\": 100, \"Rate\": 2, \"SOP\": 3.0, \"LOR \": 2.5, \"CGPA\": 8.57, \"Research\": 0, \"Chance\": 0.68, \"Pred\": 0.6599964162380594}, {\"GRE\": 310, \"TOEFL\": 107, \"Rate\": 3, \"SOP\": 3.5, \"LOR \": 3.5, \"CGPA\": 8.67, \"Research\": 0, \"Chance\": 0.76, \"Pred\": 0.706582719259887}, {\"GRE\": 320, \"TOEFL\": 120, \"Rate\": 3, \"SOP\": 4.0, \"LOR \": 4.5, \"CGPA\": 9.11, \"Research\": 0, \"Chance\": 0.86, \"Pred\": 0.8349452359785745}, {\"GRE\": 330, \"TOEFL\": 114, \"Rate\": 3, \"SOP\": 4.5, \"LOR \": 4.5, \"CGPA\": 9.24, \"Research\": 1, \"Chance\": 0.9, \"Pred\": 0.8731365415275689}, {\"GRE\": 305, \"TOEFL\": 112, \"Rate\": 3, \"SOP\": 3.0, \"LOR \": 3.5, \"CGPA\": 8.65, \"Research\": 0, \"Chance\": 0.71, \"Pred\": 0.7117673409400347}, {\"GRE\": 309, \"TOEFL\": 106, \"Rate\": 2, \"SOP\": 2.5, \"LOR \": 2.5, \"CGPA\": 8.0, \"Research\": 0, \"Chance\": 0.62, \"Pred\": 0.5974716805437223}, {\"GRE\": 319, \"TOEFL\": 108, \"Rate\": 2, \"SOP\": 2.5, \"LOR \": 3.0, \"CGPA\": 8.76, \"Research\": 0, \"Chance\": 0.66, \"Pred\": 0.7222554982856371}, {\"GRE\": 322, \"TOEFL\": 105, \"Rate\": 2, \"SOP\": 3.0, \"LOR \": 3.0, \"CGPA\": 8.45, \"Research\": 1, \"Chance\": 0.65, \"Pred\": 0.7047102937056144}, {\"GRE\": 323, \"TOEFL\": 107, \"Rate\": 3, \"SOP\": 3.5, \"LOR \": 3.5, \"CGPA\": 8.55, \"Research\": 1, \"Chance\": 0.73, \"Pred\": 0.7394214415467495}, {\"GRE\": 313, \"TOEFL\": 106, \"Rate\": 2, \"SOP\": 2.5, \"LOR \": 2.0, \"CGPA\": 8.43, \"Research\": 0, \"Chance\": 0.62, \"Pred\": 0.6443887282103222}, {\"GRE\": 321, \"TOEFL\": 109, \"Rate\": 3, \"SOP\": 3.5, \"LOR \": 3.5, \"CGPA\": 8.8, \"Research\": 1, \"Chance\": 0.74, \"Pred\": 0.7715206354378294}, {\"GRE\": 323, \"TOEFL\": 110, \"Rate\": 3, \"SOP\": 4.0, \"LOR \": 3.5, \"CGPA\": 9.1, \"Research\": 1, \"Chance\": 0.79, \"Pred\": 0.8119442869533586}, {\"GRE\": 325, \"TOEFL\": 112, \"Rate\": 4, \"SOP\": 4.0, \"LOR \": 4.0, \"CGPA\": 9.0, \"Research\": 1, \"Chance\": 0.8, \"Pred\": 0.8262575401686345}, {\"GRE\": 312, \"TOEFL\": 108, \"Rate\": 3, \"SOP\": 3.5, \"LOR \": 3.0, \"CGPA\": 8.53, \"Research\": 0, \"Chance\": 0.69, \"Pred\": 0.6851490320510762}, {\"GRE\": 308, \"TOEFL\": 110, \"Rate\": 4, \"SOP\": 3.5, \"LOR \": 3.0, \"CGPA\": 8.6, \"Research\": 0, \"Chance\": 0.7, \"Pred\": 0.6980809592875834}, {\"GRE\": 320, \"TOEFL\": 104, \"Rate\": 3, \"SOP\": 3.0, \"LOR \": 3.5, \"CGPA\": 8.74, \"Research\": 1, \"Chance\": 0.76, \"Pred\": 0.749701557088901}, {\"GRE\": 328, \"TOEFL\": 108, \"Rate\": 4, \"SOP\": 4.5, \"LOR \": 4.0, \"CGPA\": 9.18, \"Research\": 1, \"Chance\": 0.84, \"Pred\": 0.8395479847389089}, {\"GRE\": 311, \"TOEFL\": 107, \"Rate\": 4, \"SOP\": 4.5, \"LOR \": 4.5, \"CGPA\": 9.0, \"Research\": 1, \"Chance\": 0.78, \"Pred\": 0.7968598732314589}, {\"GRE\": 301, \"TOEFL\": 100, \"Rate\": 3, \"SOP\": 3.5, \"LOR \": 3.0, \"CGPA\": 8.04, \"Research\": 0, \"Chance\": 0.67, \"Pred\": 0.5844005579719747}, {\"GRE\": 305, \"TOEFL\": 105, \"Rate\": 2, \"SOP\": 3.0, \"LOR \": 4.0, \"CGPA\": 8.13, \"Research\": 0, \"Chance\": 0.66, \"Pred\": 0.6349416928803613}, {\"GRE\": 308, \"TOEFL\": 104, \"Rate\": 2, \"SOP\": 2.5, \"LOR \": 3.0, \"CGPA\": 8.07, \"Research\": 0, \"Chance\": 0.65, \"Pred\": 0.6093974407548299}, {\"GRE\": 298, \"TOEFL\": 101, \"Rate\": 2, \"SOP\": 1.5, \"LOR \": 2.0, \"CGPA\": 7.86, \"Research\": 0, \"Chance\": 0.54, \"Pred\": 0.5392393510552442}, {\"GRE\": 300, \"TOEFL\": 99, \"Rate\": 1, \"SOP\": 1.0, \"LOR \": 2.5, \"CGPA\": 8.01, \"Research\": 0, \"Chance\": 0.58, \"Pred\": 0.5618284286547686}, {\"GRE\": 324, \"TOEFL\": 111, \"Rate\": 3, \"SOP\": 2.5, \"LOR \": 2.0, \"CGPA\": 8.8, \"Research\": 1, \"Chance\": 0.79, \"Pred\": 0.7523475018372492}, {\"GRE\": 327, \"TOEFL\": 113, \"Rate\": 4, \"SOP\": 3.5, \"LOR \": 3.0, \"CGPA\": 8.69, \"Research\": 1, \"Chance\": 0.8, \"Pred\": 0.775080166706682}, {\"GRE\": 317, \"TOEFL\": 106, \"Rate\": 3, \"SOP\": 4.0, \"LOR \": 3.5, \"CGPA\": 8.5, \"Research\": 1, \"Chance\": 0.75, \"Pred\": 0.718477838101355}, {\"GRE\": 323, \"TOEFL\": 104, \"Rate\": 3, \"SOP\": 4.0, \"LOR \": 4.0, \"CGPA\": 8.44, \"Research\": 1, \"Chance\": 0.73, \"Pred\": 0.7271033503419471}, {\"GRE\": 314, \"TOEFL\": 107, \"Rate\": 2, \"SOP\": 2.5, \"LOR \": 4.0, \"CGPA\": 8.27, \"Research\": 0, \"Chance\": 0.72, \"Pred\": 0.6747216586794555}, {\"GRE\": 305, \"TOEFL\": 102, \"Rate\": 2, \"SOP\": 2.0, \"LOR \": 2.5, \"CGPA\": 8.18, \"Research\": 0, \"Chance\": 0.62, \"Pred\": 0.6019054131619646}, {\"GRE\": 315, \"TOEFL\": 104, \"Rate\": 3, \"SOP\": 3.0, \"LOR \": 2.5, \"CGPA\": 8.33, \"Research\": 0, \"Chance\": 0.67, \"Pred\": 0.6453710896353648}, {\"GRE\": 326, \"TOEFL\": 116, \"Rate\": 3, \"SOP\": 3.5, \"LOR \": 4.0, \"CGPA\": 9.14, \"Research\": 1, \"Chance\": 0.81, \"Pred\": 0.8522607088985461}, {\"GRE\": 299, \"TOEFL\": 100, \"Rate\": 3, \"SOP\": 2.0, \"LOR \": 2.0, \"CGPA\": 8.02, \"Research\": 0, \"Chance\": 0.63, \"Pred\": 0.561151571997246}, {\"GRE\": 295, \"TOEFL\": 101, \"Rate\": 2, \"SOP\": 2.5, \"LOR \": 2.0, \"CGPA\": 7.86, \"Research\": 0, \"Chance\": 0.69, \"Pred\": 0.5307219472971356}, {\"GRE\": 324, \"TOEFL\": 112, \"Rate\": 4, \"SOP\": 4.0, \"LOR \": 3.5, \"CGPA\": 8.77, \"Research\": 1, \"Chance\": 0.8, \"Pred\": 0.7859874906061235}, {\"GRE\": 297, \"TOEFL\": 96, \"Rate\": 2, \"SOP\": 2.5, \"LOR \": 1.5, \"CGPA\": 7.89, \"Research\": 0, \"Chance\": 0.43, \"Pred\": 0.5119905062982693}, {\"GRE\": 327, \"TOEFL\": 113, \"Rate\": 3, \"SOP\": 3.5, \"LOR \": 3.0, \"CGPA\": 8.66, \"Research\": 1, \"Chance\": 0.8, \"Pred\": 0.76579532496385}, {\"GRE\": 311, \"TOEFL\": 105, \"Rate\": 2, \"SOP\": 3.0, \"LOR \": 2.0, \"CGPA\": 8.12, \"Research\": 1, \"Chance\": 0.73, \"Pred\": 0.6239956194090799}, {\"GRE\": 308, \"TOEFL\": 106, \"Rate\": 3, \"SOP\": 3.5, \"LOR \": 2.5, \"CGPA\": 8.21, \"Research\": 1, \"Chance\": 0.75, \"Pred\": 0.6476481496132633}, {\"GRE\": 319, \"TOEFL\": 108, \"Rate\": 3, \"SOP\": 3.0, \"LOR \": 3.5, \"CGPA\": 8.54, \"Research\": 1, \"Chance\": 0.71, \"Pred\": 0.7358545620661809}, {\"GRE\": 312, \"TOEFL\": 107, \"Rate\": 4, \"SOP\": 4.5, \"LOR \": 4.0, \"CGPA\": 8.65, \"Research\": 1, \"Chance\": 0.73, \"Pred\": 0.7457919123793324}, {\"GRE\": 325, \"TOEFL\": 111, \"Rate\": 4, \"SOP\": 4.0, \"LOR \": 4.5, \"CGPA\": 9.11, \"Research\": 1, \"Chance\": 0.83, \"Pred\": 0.8475978669115631}, {\"GRE\": 319, \"TOEFL\": 110, \"Rate\": 3, \"SOP\": 3.0, \"LOR \": 2.5, \"CGPA\": 8.79, \"Research\": 0, \"Chance\": 0.72, \"Pred\": 0.7245503454756064}, {\"GRE\": 332, \"TOEFL\": 118, \"Rate\": 5, \"SOP\": 5.0, \"LOR \": 5.0, \"CGPA\": 9.47, \"Research\": 1, \"Chance\": 0.94, \"Pred\": 0.9366030416761031}, {\"GRE\": 323, \"TOEFL\": 108, \"Rate\": 5, \"SOP\": 4.0, \"LOR \": 4.0, \"CGPA\": 8.74, \"Research\": 1, \"Chance\": 0.81, \"Pred\": 0.7858968099585992}, {\"GRE\": 324, \"TOEFL\": 107, \"Rate\": 5, \"SOP\": 3.5, \"LOR \": 4.0, \"CGPA\": 8.66, \"Research\": 1, \"Chance\": 0.81, \"Pred\": 0.7768520729474584}, {\"GRE\": 312, \"TOEFL\": 107, \"Rate\": 3, \"SOP\": 3.0, \"LOR \": 3.0, \"CGPA\": 8.46, \"Research\": 1, \"Chance\": 0.75, \"Pred\": 0.7000813843002154}, {\"GRE\": 326, \"TOEFL\": 110, \"Rate\": 3, \"SOP\": 3.5, \"LOR \": 3.5, \"CGPA\": 8.76, \"Research\": 1, \"Chance\": 0.79, \"Pred\": 0.7783696919659435}, {\"GRE\": 308, \"TOEFL\": 106, \"Rate\": 3, \"SOP\": 3.0, \"LOR \": 3.0, \"CGPA\": 8.24, \"Research\": 0, \"Chance\": 0.58, \"Pred\": 0.6395203751125633}, {\"GRE\": 305, \"TOEFL\": 103, \"Rate\": 2, \"SOP\": 2.5, \"LOR \": 3.5, \"CGPA\": 8.13, \"Research\": 0, \"Chance\": 0.59, \"Pred\": 0.6195785601048642}, {\"GRE\": 295, \"TOEFL\": 96, \"Rate\": 2, \"SOP\": 1.5, \"LOR \": 2.0, \"CGPA\": 7.34, \"Research\": 0, \"Chance\": 0.47, \"Pred\": 0.45758071638711995}, {\"GRE\": 316, \"TOEFL\": 98, \"Rate\": 1, \"SOP\": 1.5, \"LOR \": 2.0, \"CGPA\": 7.43, \"Research\": 0, \"Chance\": 0.49, \"Pred\": 0.5048934057010774}, {\"GRE\": 304, \"TOEFL\": 97, \"Rate\": 2, \"SOP\": 1.5, \"LOR \": 2.0, \"CGPA\": 7.64, \"Research\": 0, \"Chance\": 0.47, \"Pred\": 0.5118188334222811}, {\"GRE\": 299, \"TOEFL\": 94, \"Rate\": 1, \"SOP\": 1.0, \"LOR \": 1.0, \"CGPA\": 7.34, \"Research\": 0, \"Chance\": 0.42, \"Pred\": 0.43227400809657857}, {\"GRE\": 302, \"TOEFL\": 99, \"Rate\": 1, \"SOP\": 2.0, \"LOR \": 2.0, \"CGPA\": 7.25, \"Research\": 0, \"Chance\": 0.57, \"Pred\": 0.46042753435380646}, {\"GRE\": 313, \"TOEFL\": 101, \"Rate\": 3, \"SOP\": 2.5, \"LOR \": 3.0, \"CGPA\": 8.04, \"Research\": 0, \"Chance\": 0.62, \"Pred\": 0.6114742426861348}, {\"GRE\": 318, \"TOEFL\": 107, \"Rate\": 3, \"SOP\": 3.0, \"LOR \": 3.5, \"CGPA\": 8.27, \"Research\": 1, \"Chance\": 0.74, \"Pred\": 0.6990839212070434}, {\"GRE\": 325, \"TOEFL\": 110, \"Rate\": 4, \"SOP\": 3.5, \"LOR \": 4.0, \"CGPA\": 8.67, \"Research\": 1, \"Chance\": 0.73, \"Pred\": 0.7828209513702971}, {\"GRE\": 303, \"TOEFL\": 100, \"Rate\": 2, \"SOP\": 3.0, \"LOR \": 3.5, \"CGPA\": 8.06, \"Research\": 1, \"Chance\": 0.64, \"Pred\": 0.621891766533059}, {\"GRE\": 300, \"TOEFL\": 102, \"Rate\": 3, \"SOP\": 3.5, \"LOR \": 2.5, \"CGPA\": 8.17, \"Research\": 0, \"Chance\": 0.63, \"Pred\": 0.5927878653382455}, {\"GRE\": 297, \"TOEFL\": 98, \"Rate\": 2, \"SOP\": 2.5, \"LOR \": 3.0, \"CGPA\": 7.67, \"Research\": 0, \"Chance\": 0.59, \"Pred\": 0.5251926711333117}, {\"GRE\": 317, \"TOEFL\": 106, \"Rate\": 2, \"SOP\": 2.0, \"LOR \": 3.5, \"CGPA\": 8.12, \"Research\": 0, \"Chance\": 0.73, \"Pred\": 0.6496494193943712}, {\"GRE\": 327, \"TOEFL\": 109, \"Rate\": 3, \"SOP\": 3.5, \"LOR \": 4.0, \"CGPA\": 8.77, \"Research\": 1, \"Chance\": 0.79, \"Pred\": 0.7895534849201822}, {\"GRE\": 301, \"TOEFL\": 104, \"Rate\": 2, \"SOP\": 3.5, \"LOR \": 3.5, \"CGPA\": 7.89, \"Research\": 1, \"Chance\": 0.68, \"Pred\": 0.6082229590247028}, {\"GRE\": 314, \"TOEFL\": 105, \"Rate\": 2, \"SOP\": 2.5, \"LOR \": 2.0, \"CGPA\": 7.64, \"Research\": 0, \"Chance\": 0.7, \"Pred\": 0.5492443946227563}, {\"GRE\": 321, \"TOEFL\": 107, \"Rate\": 2, \"SOP\": 2.0, \"LOR \": 1.5, \"CGPA\": 8.44, \"Research\": 0, \"Chance\": 0.81, \"Pred\": 0.652873012989684}, {\"GRE\": 322, \"TOEFL\": 110, \"Rate\": 3, \"SOP\": 4.0, \"LOR \": 5.0, \"CGPA\": 8.64, \"Research\": 1, \"Chance\": 0.85, \"Pred\": 0.7890244177202492}, {\"GRE\": 334, \"TOEFL\": 116, \"Rate\": 4, \"SOP\": 4.0, \"LOR \": 3.5, \"CGPA\": 9.54, \"Research\": 1, \"Chance\": 0.93, \"Pred\": 0.906623292853679}, {\"GRE\": 338, \"TOEFL\": 115, \"Rate\": 5, \"SOP\": 4.5, \"LOR \": 5.0, \"CGPA\": 9.23, \"Research\": 1, \"Chance\": 0.91, \"Pred\": 0.9113758963106575}, {\"GRE\": 306, \"TOEFL\": 103, \"Rate\": 2, \"SOP\": 2.5, \"LOR \": 3.0, \"CGPA\": 8.36, \"Research\": 0, \"Chance\": 0.69, \"Pred\": 0.637495482339016}, {\"GRE\": 313, \"TOEFL\": 102, \"Rate\": 3, \"SOP\": 3.5, \"LOR \": 4.0, \"CGPA\": 8.9, \"Research\": 1, \"Chance\": 0.77, \"Pred\": 0.7602548141751237}, {\"GRE\": 330, \"TOEFL\": 114, \"Rate\": 4, \"SOP\": 4.5, \"LOR \": 3.0, \"CGPA\": 9.17, \"Research\": 1, \"Chance\": 0.86, \"Pred\": 0.8369977469181584}, {\"GRE\": 320, \"TOEFL\": 104, \"Rate\": 3, \"SOP\": 3.5, \"LOR \": 4.5, \"CGPA\": 8.34, \"Research\": 1, \"Chance\": 0.74, \"Pred\": 0.7228263184559145}, {\"GRE\": 311, \"TOEFL\": 98, \"Rate\": 1, \"SOP\": 1.0, \"LOR \": 2.5, \"CGPA\": 7.46, \"Research\": 0, \"Chance\": 0.57, \"Pred\": 0.5126036796406306}, {\"GRE\": 298, \"TOEFL\": 92, \"Rate\": 1, \"SOP\": 2.0, \"LOR \": 2.0, \"CGPA\": 7.88, \"Research\": 0, \"Chance\": 0.51, \"Pred\": 0.5079727061174046}, {\"GRE\": 301, \"TOEFL\": 98, \"Rate\": 1, \"SOP\": 2.0, \"LOR \": 3.0, \"CGPA\": 8.03, \"Research\": 1, \"Chance\": 0.67, \"Pred\": 0.5954215533952352}, {\"GRE\": 310, \"TOEFL\": 103, \"Rate\": 2, \"SOP\": 2.5, \"LOR \": 2.5, \"CGPA\": 8.24, \"Research\": 0, \"Chance\": 0.72, \"Pred\": 0.6189958305272487}, {\"GRE\": 324, \"TOEFL\": 110, \"Rate\": 3, \"SOP\": 3.5, \"LOR \": 3.0, \"CGPA\": 9.22, \"Research\": 1, \"Chance\": 0.89, \"Pred\": 0.8184304538143705}, {\"GRE\": 336, \"TOEFL\": 119, \"Rate\": 4, \"SOP\": 4.5, \"LOR \": 4.0, \"CGPA\": 9.62, \"Research\": 1, \"Chance\": 0.95, \"Pred\": 0.9378959818758916}, {\"GRE\": 321, \"TOEFL\": 109, \"Rate\": 3, \"SOP\": 3.0, \"LOR \": 3.0, \"CGPA\": 8.54, \"Research\": 1, \"Chance\": 0.79, \"Pred\": 0.7310723983609546}, {\"GRE\": 315, \"TOEFL\": 105, \"Rate\": 2, \"SOP\": 2.0, \"LOR \": 2.5, \"CGPA\": 7.65, \"Research\": 0, \"Chance\": 0.39, \"Pred\": 0.5650003489164537}, {\"GRE\": 304, \"TOEFL\": 101, \"Rate\": 2, \"SOP\": 2.0, \"LOR \": 2.5, \"CGPA\": 7.66, \"Research\": 0, \"Chance\": 0.38, \"Pred\": 0.5353999089035688}, {\"GRE\": 297, \"TOEFL\": 96, \"Rate\": 2, \"SOP\": 2.5, \"LOR \": 2.0, \"CGPA\": 7.43, \"Research\": 0, \"Chance\": 0.34, \"Pred\": 0.46845492130781463}, {\"GRE\": 290, \"TOEFL\": 100, \"Rate\": 1, \"SOP\": 1.5, \"LOR \": 2.0, \"CGPA\": 7.56, \"Research\": 0, \"Chance\": 0.47, \"Pred\": 0.48102198745617586}, {\"GRE\": 303, \"TOEFL\": 98, \"Rate\": 1, \"SOP\": 2.0, \"LOR \": 2.5, \"CGPA\": 7.65, \"Research\": 0, \"Chance\": 0.56, \"Pred\": 0.517997714210888}, {\"GRE\": 311, \"TOEFL\": 99, \"Rate\": 1, \"SOP\": 2.5, \"LOR \": 3.0, \"CGPA\": 8.43, \"Research\": 1, \"Chance\": 0.71, \"Pred\": 0.6616384428385804}, {\"GRE\": 322, \"TOEFL\": 104, \"Rate\": 3, \"SOP\": 3.5, \"LOR \": 4.0, \"CGPA\": 8.84, \"Research\": 1, \"Chance\": 0.78, \"Pred\": 0.7745943047322787}, {\"GRE\": 319, \"TOEFL\": 105, \"Rate\": 3, \"SOP\": 3.0, \"LOR \": 3.5, \"CGPA\": 8.67, \"Research\": 1, \"Chance\": 0.73, \"Pred\": 0.7425579605830197}, {\"GRE\": 324, \"TOEFL\": 110, \"Rate\": 4, \"SOP\": 4.5, \"LOR \": 4.0, \"CGPA\": 9.15, \"Research\": 1, \"Chance\": 0.82, \"Pred\": 0.8348693084807921}, {\"GRE\": 300, \"TOEFL\": 100, \"Rate\": 3, \"SOP\": 3.0, \"LOR \": 3.5, \"CGPA\": 8.26, \"Research\": 0, \"Chance\": 0.62, \"Pred\": 0.6216589743790204}, {\"GRE\": 340, \"TOEFL\": 113, \"Rate\": 4, \"SOP\": 5.0, \"LOR \": 5.0, \"CGPA\": 9.74, \"Research\": 1, \"Chance\": 0.96, \"Pred\": 0.9623014444958675}, {\"GRE\": 335, \"TOEFL\": 117, \"Rate\": 5, \"SOP\": 5.0, \"LOR \": 5.0, \"CGPA\": 9.82, \"Research\": 1, \"Chance\": 0.96, \"Pred\": 0.9805245083311813}, {\"GRE\": 302, \"TOEFL\": 101, \"Rate\": 2, \"SOP\": 2.5, \"LOR \": 3.5, \"CGPA\": 7.96, \"Research\": 0, \"Chance\": 0.46, \"Pred\": 0.5883074646464765}, {\"GRE\": 307, \"TOEFL\": 105, \"Rate\": 2, \"SOP\": 2.0, \"LOR \": 3.5, \"CGPA\": 8.1, \"Research\": 0, \"Chance\": 0.53, \"Pred\": 0.6269769377953647}, {\"GRE\": 296, \"TOEFL\": 97, \"Rate\": 2, \"SOP\": 1.5, \"LOR \": 2.0, \"CGPA\": 7.8, \"Research\": 0, \"Chance\": 0.49, \"Pred\": 0.5169498534296937}, {\"GRE\": 320, \"TOEFL\": 108, \"Rate\": 3, \"SOP\": 3.5, \"LOR \": 4.0, \"CGPA\": 8.44, \"Research\": 1, \"Chance\": 0.76, \"Pred\": 0.7352220074191385}, {\"GRE\": 314, \"TOEFL\": 102, \"Rate\": 2, \"SOP\": 2.0, \"LOR \": 2.5, \"CGPA\": 8.24, \"Research\": 0, \"Chance\": 0.64, \"Pred\": 0.6246784845169131}, {\"GRE\": 318, \"TOEFL\": 106, \"Rate\": 3, \"SOP\": 2.0, \"LOR \": 3.0, \"CGPA\": 8.65, \"Research\": 0, \"Chance\": 0.71, \"Pred\": 0.7089648358425535}, {\"GRE\": 326, \"TOEFL\": 112, \"Rate\": 4, \"SOP\": 4.0, \"LOR \": 3.5, \"CGPA\": 9.12, \"Research\": 1, \"Chance\": 0.84, \"Pred\": 0.8310911225071129}, {\"GRE\": 317, \"TOEFL\": 104, \"Rate\": 2, \"SOP\": 3.0, \"LOR \": 3.0, \"CGPA\": 8.76, \"Research\": 0, \"Chance\": 0.77, \"Pred\": 0.7054497833533755}, {\"GRE\": 329, \"TOEFL\": 111, \"Rate\": 4, \"SOP\": 4.5, \"LOR \": 4.0, \"CGPA\": 9.23, \"Research\": 1, \"Chance\": 0.89, \"Pred\": 0.8559910994405502}, {\"GRE\": 324, \"TOEFL\": 110, \"Rate\": 3, \"SOP\": 3.5, \"LOR \": 3.5, \"CGPA\": 9.04, \"Research\": 1, \"Chance\": 0.82, \"Pred\": 0.8081979158310839}, {\"GRE\": 325, \"TOEFL\": 107, \"Rate\": 3, \"SOP\": 3.0, \"LOR \": 3.5, \"CGPA\": 9.11, \"Research\": 1, \"Chance\": 0.84, \"Pred\": 0.8111549432256482}, {\"GRE\": 330, \"TOEFL\": 116, \"Rate\": 4, \"SOP\": 5.0, \"LOR \": 4.5, \"CGPA\": 9.45, \"Research\": 1, \"Chance\": 0.91, \"Pred\": 0.9080170540291832}, {\"GRE\": 312, \"TOEFL\": 103, \"Rate\": 3, \"SOP\": 3.5, \"LOR \": 4.0, \"CGPA\": 8.78, \"Research\": 0, \"Chance\": 0.67, \"Pred\": 0.7226391386940676}, {\"GRE\": 333, \"TOEFL\": 117, \"Rate\": 4, \"SOP\": 5.0, \"LOR \": 4.0, \"CGPA\": 9.66, \"Research\": 1, \"Chance\": 0.95, \"Pred\": 0.9299495871503478}]}}, {\"mode\": \"vega-lite\"});\n",
       "</script>"
      ],
      "text/plain": [
       "alt.Chart(...)"
      ]
     },
     "execution_count": 53,
     "metadata": {},
     "output_type": "execute_result"
    }
   ],
   "source": [
    "alt.Chart(df).mark_circle().encode(\n",
    "    x=alt.X('GRE', scale=alt.Scale(zero=False)),\n",
    "    y=alt.Y('Chance',scale=alt.Scale(zero=False)),\n",
    "    color=\"TOEFL\"\n",
    ")"
   ]
  },
  {
   "cell_type": "markdown",
   "metadata": {
    "cell_id": "a1121cbdf0524f838697228157c4484b",
    "deepnote_cell_type": "markdown",
    "tags": []
   },
   "source": [
    "This chart is similar to the previous one. Student who have higher GRE also have higher TOEFL score and chance to be admitted."
   ]
  },
  {
   "cell_type": "code",
   "execution_count": 57,
   "metadata": {
    "cell_id": "0965255d99ec440383e7265cf8ea5ab8",
    "deepnote_cell_type": "code",
    "deepnote_to_be_reexecuted": false,
    "execution_millis": 6,
    "execution_start": 1670293605077,
    "source_hash": "f66a2f89",
    "tags": []
   },
   "outputs": [
    {
     "data": {
      "text/html": [
       "\n",
       "<div id=\"altair-viz-5b8c1aacae8f4335976dc07468e378d7\"></div>\n",
       "<script type=\"text/javascript\">\n",
       "  var VEGA_DEBUG = (typeof VEGA_DEBUG == \"undefined\") ? {} : VEGA_DEBUG;\n",
       "  (function(spec, embedOpt){\n",
       "    let outputDiv = document.currentScript.previousElementSibling;\n",
       "    if (outputDiv.id !== \"altair-viz-5b8c1aacae8f4335976dc07468e378d7\") {\n",
       "      outputDiv = document.getElementById(\"altair-viz-5b8c1aacae8f4335976dc07468e378d7\");\n",
       "    }\n",
       "    const paths = {\n",
       "      \"vega\": \"https://cdn.jsdelivr.net/npm//vega@5?noext\",\n",
       "      \"vega-lib\": \"https://cdn.jsdelivr.net/npm//vega-lib?noext\",\n",
       "      \"vega-lite\": \"https://cdn.jsdelivr.net/npm//vega-lite@4.17.0?noext\",\n",
       "      \"vega-embed\": \"https://cdn.jsdelivr.net/npm//vega-embed@6?noext\",\n",
       "    };\n",
       "\n",
       "    function maybeLoadScript(lib, version) {\n",
       "      var key = `${lib.replace(\"-\", \"\")}_version`;\n",
       "      return (VEGA_DEBUG[key] == version) ?\n",
       "        Promise.resolve(paths[lib]) :\n",
       "        new Promise(function(resolve, reject) {\n",
       "          var s = document.createElement('script');\n",
       "          document.getElementsByTagName(\"head\")[0].appendChild(s);\n",
       "          s.async = true;\n",
       "          s.onload = () => {\n",
       "            VEGA_DEBUG[key] = version;\n",
       "            return resolve(paths[lib]);\n",
       "          };\n",
       "          s.onerror = () => reject(`Error loading script: ${paths[lib]}`);\n",
       "          s.src = paths[lib];\n",
       "        });\n",
       "    }\n",
       "\n",
       "    function showError(err) {\n",
       "      outputDiv.innerHTML = `<div class=\"error\" style=\"color:red;\">${err}</div>`;\n",
       "      throw err;\n",
       "    }\n",
       "\n",
       "    function displayChart(vegaEmbed) {\n",
       "      vegaEmbed(outputDiv, spec, embedOpt)\n",
       "        .catch(err => showError(`Javascript Error: ${err.message}<br>This usually means there's a typo in your chart specification. See the javascript console for the full traceback.`));\n",
       "    }\n",
       "\n",
       "    if(typeof define === \"function\" && define.amd) {\n",
       "      requirejs.config({paths});\n",
       "      require([\"vega-embed\"], displayChart, err => showError(`Error loading script: ${err.message}`));\n",
       "    } else {\n",
       "      maybeLoadScript(\"vega\", \"5\")\n",
       "        .then(() => maybeLoadScript(\"vega-lite\", \"4.17.0\"))\n",
       "        .then(() => maybeLoadScript(\"vega-embed\", \"6\"))\n",
       "        .catch(showError)\n",
       "        .then(() => displayChart(vegaEmbed));\n",
       "    }\n",
       "  })({\"config\": {\"view\": {\"continuousWidth\": 400, \"continuousHeight\": 300}}, \"data\": {\"name\": \"data-0440f94df845976d912bc1088d6f3c5b\"}, \"mark\": \"circle\", \"encoding\": {\"color\": {\"field\": \"CGPA\", \"type\": \"quantitative\"}, \"x\": {\"field\": \"GRE\", \"scale\": {\"zero\": false}, \"type\": \"quantitative\"}, \"y\": {\"field\": \"Chance\", \"scale\": {\"zero\": false}, \"type\": \"quantitative\"}}, \"$schema\": \"https://vega.github.io/schema/vega-lite/v4.17.0.json\", \"datasets\": {\"data-0440f94df845976d912bc1088d6f3c5b\": [{\"GRE\": 337, \"TOEFL\": 118, \"Rate\": 4, \"SOP\": 4.5, \"LOR \": 4.5, \"CGPA\": 9.65, \"Research\": 1, \"Chance\": 0.92, \"Pred\": 0.9514585639020716}, {\"GRE\": 324, \"TOEFL\": 107, \"Rate\": 4, \"SOP\": 4.0, \"LOR \": 4.5, \"CGPA\": 8.87, \"Research\": 1, \"Chance\": 0.76, \"Pred\": 0.8056366792095606}, {\"GRE\": 316, \"TOEFL\": 104, \"Rate\": 3, \"SOP\": 3.0, \"LOR \": 3.5, \"CGPA\": 8.0, \"Research\": 1, \"Chance\": 0.72, \"Pred\": 0.6547367151430412}, {\"GRE\": 322, \"TOEFL\": 110, \"Rate\": 3, \"SOP\": 3.5, \"LOR \": 2.5, \"CGPA\": 8.67, \"Research\": 1, \"Chance\": 0.8, \"Pred\": 0.7383623675297954}, {\"GRE\": 314, \"TOEFL\": 103, \"Rate\": 2, \"SOP\": 2.0, \"LOR \": 3.0, \"CGPA\": 8.21, \"Research\": 0, \"Chance\": 0.65, \"Pred\": 0.6352064413901071}, {\"GRE\": 330, \"TOEFL\": 115, \"Rate\": 5, \"SOP\": 4.5, \"LOR \": 3.0, \"CGPA\": 9.34, \"Research\": 1, \"Chance\": 0.9, \"Pred\": 0.8658536889815001}, {\"GRE\": 321, \"TOEFL\": 109, \"Rate\": 3, \"SOP\": 3.0, \"LOR \": 4.0, \"CGPA\": 8.2, \"Research\": 1, \"Chance\": 0.75, \"Pred\": 0.7129861114663232}, {\"GRE\": 308, \"TOEFL\": 101, \"Rate\": 2, \"SOP\": 3.0, \"LOR \": 4.0, \"CGPA\": 7.9, \"Research\": 0, \"Chance\": 0.68, \"Pred\": 0.6011195459983856}, {\"GRE\": 302, \"TOEFL\": 102, \"Rate\": 1, \"SOP\": 2.0, \"LOR \": 1.5, \"CGPA\": 8.0, \"Research\": 0, \"Chance\": 0.5, \"Pred\": 0.5472142913381763}, {\"GRE\": 323, \"TOEFL\": 108, \"Rate\": 3, \"SOP\": 3.5, \"LOR \": 3.0, \"CGPA\": 8.6, \"Research\": 0, \"Chance\": 0.45, \"Pred\": 0.7125863210840231}, {\"GRE\": 325, \"TOEFL\": 106, \"Rate\": 3, \"SOP\": 3.5, \"LOR \": 4.0, \"CGPA\": 8.4, \"Research\": 1, \"Chance\": 0.52, \"Pred\": 0.7333123334964773}, {\"GRE\": 327, \"TOEFL\": 111, \"Rate\": 4, \"SOP\": 4.0, \"LOR \": 4.5, \"CGPA\": 9.0, \"Research\": 1, \"Chance\": 0.84, \"Pred\": 0.8379893501579174}, {\"GRE\": 328, \"TOEFL\": 112, \"Rate\": 4, \"SOP\": 4.0, \"LOR \": 4.5, \"CGPA\": 9.1, \"Research\": 1, \"Chance\": 0.78, \"Pred\": 0.8545402839055598}, {\"GRE\": 307, \"TOEFL\": 109, \"Rate\": 3, \"SOP\": 4.0, \"LOR \": 3.0, \"CGPA\": 8.0, \"Research\": 1, \"Chance\": 0.62, \"Pred\": 0.6392161623792942}, {\"GRE\": 311, \"TOEFL\": 104, \"Rate\": 3, \"SOP\": 3.5, \"LOR \": 2.0, \"CGPA\": 8.2, \"Research\": 1, \"Chance\": 0.61, \"Pred\": 0.6346552724923049}, {\"GRE\": 314, \"TOEFL\": 105, \"Rate\": 3, \"SOP\": 3.5, \"LOR \": 2.5, \"CGPA\": 8.3, \"Research\": 0, \"Chance\": 0.54, \"Pred\": 0.6413324867508319}, {\"GRE\": 317, \"TOEFL\": 107, \"Rate\": 3, \"SOP\": 4.0, \"LOR \": 3.0, \"CGPA\": 8.7, \"Research\": 0, \"Chance\": 0.66, \"Pred\": 0.7094836356781833}, {\"GRE\": 319, \"TOEFL\": 106, \"Rate\": 3, \"SOP\": 4.0, \"LOR \": 3.0, \"CGPA\": 8.0, \"Research\": 1, \"Chance\": 0.65, \"Pred\": 0.6513063707806876}, {\"GRE\": 318, \"TOEFL\": 110, \"Rate\": 3, \"SOP\": 4.0, \"LOR \": 3.0, \"CGPA\": 8.8, \"Research\": 0, \"Chance\": 0.63, \"Pred\": 0.7318737230596761}, {\"GRE\": 303, \"TOEFL\": 102, \"Rate\": 3, \"SOP\": 3.5, \"LOR \": 3.0, \"CGPA\": 8.5, \"Research\": 0, \"Chance\": 0.62, \"Pred\": 0.6484266834024879}, {\"GRE\": 312, \"TOEFL\": 107, \"Rate\": 3, \"SOP\": 3.0, \"LOR \": 2.0, \"CGPA\": 7.9, \"Research\": 1, \"Chance\": 0.64, \"Pred\": 0.6111221629575181}, {\"GRE\": 325, \"TOEFL\": 114, \"Rate\": 4, \"SOP\": 3.0, \"LOR \": 2.0, \"CGPA\": 8.4, \"Research\": 0, \"Chance\": 0.7, \"Pred\": 0.6948068297372902}, {\"GRE\": 328, \"TOEFL\": 116, \"Rate\": 5, \"SOP\": 5.0, \"LOR \": 5.0, \"CGPA\": 9.5, \"Research\": 1, \"Chance\": 0.94, \"Pred\": 0.9273824253661076}, {\"GRE\": 334, \"TOEFL\": 119, \"Rate\": 5, \"SOP\": 5.0, \"LOR \": 4.5, \"CGPA\": 9.7, \"Research\": 1, \"Chance\": 0.95, \"Pred\": 0.9591769522981941}, {\"GRE\": 336, \"TOEFL\": 119, \"Rate\": 5, \"SOP\": 4.0, \"LOR \": 3.5, \"CGPA\": 9.8, \"Research\": 1, \"Chance\": 0.97, \"Pred\": 0.9554977625166321}, {\"GRE\": 340, \"TOEFL\": 120, \"Rate\": 5, \"SOP\": 4.5, \"LOR \": 4.5, \"CGPA\": 9.6, \"Research\": 1, \"Chance\": 0.94, \"Pred\": 0.9622796377040335}, {\"GRE\": 322, \"TOEFL\": 109, \"Rate\": 5, \"SOP\": 4.5, \"LOR \": 3.5, \"CGPA\": 8.8, \"Research\": 0, \"Chance\": 0.76, \"Pred\": 0.7568610879382958}, {\"GRE\": 298, \"TOEFL\": 98, \"Rate\": 2, \"SOP\": 1.5, \"LOR \": 2.5, \"CGPA\": 7.5, \"Research\": 1, \"Chance\": 0.44, \"Pred\": 0.5233640872690408}, {\"GRE\": 295, \"TOEFL\": 93, \"Rate\": 1, \"SOP\": 2.0, \"LOR \": 2.0, \"CGPA\": 7.2, \"Research\": 0, \"Chance\": 0.46, \"Pred\": 0.42480121977530594}, {\"GRE\": 310, \"TOEFL\": 99, \"Rate\": 2, \"SOP\": 1.5, \"LOR \": 2.0, \"CGPA\": 7.3, \"Research\": 0, \"Chance\": 0.54, \"Pred\": 0.48764304225922483}, {\"GRE\": 300, \"TOEFL\": 97, \"Rate\": 2, \"SOP\": 3.0, \"LOR \": 3.0, \"CGPA\": 8.1, \"Research\": 1, \"Chance\": 0.65, \"Pred\": 0.6015018158489429}, {\"GRE\": 327, \"TOEFL\": 103, \"Rate\": 3, \"SOP\": 4.0, \"LOR \": 4.0, \"CGPA\": 8.3, \"Research\": 1, \"Chance\": 0.74, \"Pred\": 0.7144818963054937}, {\"GRE\": 338, \"TOEFL\": 118, \"Rate\": 4, \"SOP\": 3.0, \"LOR \": 4.5, \"CGPA\": 9.4, \"Research\": 1, \"Chance\": 0.91, \"Pred\": 0.9284188656414274}, {\"GRE\": 340, \"TOEFL\": 114, \"Rate\": 5, \"SOP\": 4.0, \"LOR \": 4.0, \"CGPA\": 9.6, \"Research\": 1, \"Chance\": 0.9, \"Pred\": 0.9352381976608359}, {\"GRE\": 331, \"TOEFL\": 112, \"Rate\": 5, \"SOP\": 4.0, \"LOR \": 5.0, \"CGPA\": 9.8, \"Research\": 1, \"Chance\": 0.94, \"Pred\": 0.9599033579356251}, {\"GRE\": 320, \"TOEFL\": 110, \"Rate\": 5, \"SOP\": 5.0, \"LOR \": 5.0, \"CGPA\": 9.2, \"Research\": 1, \"Chance\": 0.88, \"Pred\": 0.8602838358173346}, {\"GRE\": 299, \"TOEFL\": 106, \"Rate\": 2, \"SOP\": 4.0, \"LOR \": 4.0, \"CGPA\": 8.4, \"Research\": 0, \"Chance\": 0.64, \"Pred\": 0.656245283697334}, {\"GRE\": 300, \"TOEFL\": 105, \"Rate\": 1, \"SOP\": 1.0, \"LOR \": 2.0, \"CGPA\": 7.8, \"Research\": 0, \"Chance\": 0.58, \"Pred\": 0.5431920406367632}, {\"GRE\": 304, \"TOEFL\": 105, \"Rate\": 1, \"SOP\": 3.0, \"LOR \": 1.5, \"CGPA\": 7.5, \"Research\": 0, \"Chance\": 0.52, \"Pred\": 0.49667294908739734}, {\"GRE\": 307, \"TOEFL\": 108, \"Rate\": 2, \"SOP\": 4.0, \"LOR \": 3.5, \"CGPA\": 7.7, \"Research\": 0, \"Chance\": 0.48, \"Pred\": 0.5815495487171949}, {\"GRE\": 308, \"TOEFL\": 110, \"Rate\": 3, \"SOP\": 3.5, \"LOR \": 3.0, \"CGPA\": 8.0, \"Research\": 1, \"Chance\": 0.46, \"Pred\": 0.6455257352897668}, {\"GRE\": 316, \"TOEFL\": 105, \"Rate\": 2, \"SOP\": 2.5, \"LOR \": 2.5, \"CGPA\": 8.2, \"Research\": 1, \"Chance\": 0.49, \"Pred\": 0.6550269817386254}, {\"GRE\": 313, \"TOEFL\": 107, \"Rate\": 2, \"SOP\": 2.5, \"LOR \": 2.0, \"CGPA\": 8.5, \"Research\": 1, \"Chance\": 0.53, \"Pred\": 0.6801591730743635}, {\"GRE\": 332, \"TOEFL\": 117, \"Rate\": 4, \"SOP\": 4.5, \"LOR \": 4.0, \"CGPA\": 9.1, \"Research\": 0, \"Chance\": 0.87, \"Pred\": 0.8387335597922052}, {\"GRE\": 326, \"TOEFL\": 113, \"Rate\": 5, \"SOP\": 4.5, \"LOR \": 4.0, \"CGPA\": 9.4, \"Research\": 1, \"Chance\": 0.91, \"Pred\": 0.8825543836077745}, {\"GRE\": 322, \"TOEFL\": 110, \"Rate\": 5, \"SOP\": 5.0, \"LOR \": 4.0, \"CGPA\": 9.1, \"Research\": 1, \"Chance\": 0.88, \"Pred\": 0.8295115862713003}, {\"GRE\": 329, \"TOEFL\": 114, \"Rate\": 5, \"SOP\": 4.0, \"LOR \": 5.0, \"CGPA\": 9.3, \"Research\": 1, \"Chance\": 0.86, \"Pred\": 0.9027979616289314}, {\"GRE\": 339, \"TOEFL\": 119, \"Rate\": 5, \"SOP\": 4.5, \"LOR \": 4.0, \"CGPA\": 9.7, \"Research\": 0, \"Chance\": 0.89, \"Pred\": 0.9338149247162943}, {\"GRE\": 321, \"TOEFL\": 110, \"Rate\": 3, \"SOP\": 3.5, \"LOR \": 5.0, \"CGPA\": 8.85, \"Research\": 1, \"Chance\": 0.82, \"Pred\": 0.8139168759271451}, {\"GRE\": 327, \"TOEFL\": 111, \"Rate\": 4, \"SOP\": 3.0, \"LOR \": 4.0, \"CGPA\": 8.4, \"Research\": 1, \"Chance\": 0.78, \"Pred\": 0.7587542833805851}, {\"GRE\": 313, \"TOEFL\": 98, \"Rate\": 3, \"SOP\": 2.5, \"LOR \": 4.5, \"CGPA\": 8.3, \"Research\": 1, \"Chance\": 0.76, \"Pred\": 0.6916945674584505}, {\"GRE\": 312, \"TOEFL\": 100, \"Rate\": 2, \"SOP\": 1.5, \"LOR \": 3.5, \"CGPA\": 7.9, \"Research\": 1, \"Chance\": 0.56, \"Pred\": 0.62345591166426}, {\"GRE\": 334, \"TOEFL\": 116, \"Rate\": 4, \"SOP\": 4.0, \"LOR \": 3.0, \"CGPA\": 8.0, \"Research\": 1, \"Chance\": 0.78, \"Pred\": 0.7122799706500706}, {\"GRE\": 324, \"TOEFL\": 112, \"Rate\": 4, \"SOP\": 4.0, \"LOR \": 2.5, \"CGPA\": 8.1, \"Research\": 1, \"Chance\": 0.72, \"Pred\": 0.6839449293677533}, {\"GRE\": 322, \"TOEFL\": 110, \"Rate\": 3, \"SOP\": 3.0, \"LOR \": 3.5, \"CGPA\": 8.0, \"Research\": 0, \"Chance\": 0.7, \"Pred\": 0.6581535391753528}, {\"GRE\": 320, \"TOEFL\": 103, \"Rate\": 3, \"SOP\": 3.0, \"LOR \": 3.0, \"CGPA\": 7.7, \"Research\": 0, \"Chance\": 0.64, \"Pred\": 0.5873832785715596}, {\"GRE\": 316, \"TOEFL\": 102, \"Rate\": 3, \"SOP\": 2.0, \"LOR \": 3.0, \"CGPA\": 7.4, \"Research\": 0, \"Chance\": 0.64, \"Pred\": 0.5451373884365351}, {\"GRE\": 298, \"TOEFL\": 99, \"Rate\": 2, \"SOP\": 4.0, \"LOR \": 2.0, \"CGPA\": 7.6, \"Research\": 0, \"Chance\": 0.46, \"Pred\": 0.49421301687349994}, {\"GRE\": 300, \"TOEFL\": 99, \"Rate\": 1, \"SOP\": 3.0, \"LOR \": 2.0, \"CGPA\": 6.8, \"Research\": 1, \"Chance\": 0.36, \"Pred\": 0.4246498943433712}, {\"GRE\": 311, \"TOEFL\": 104, \"Rate\": 2, \"SOP\": 2.0, \"LOR \": 2.0, \"CGPA\": 8.3, \"Research\": 0, \"Chance\": 0.42, \"Pred\": 0.6212652069893634}, {\"GRE\": 309, \"TOEFL\": 100, \"Rate\": 2, \"SOP\": 3.0, \"LOR \": 3.0, \"CGPA\": 8.1, \"Research\": 0, \"Chance\": 0.48, \"Pred\": 0.6013721441435214}, {\"GRE\": 307, \"TOEFL\": 101, \"Rate\": 3, \"SOP\": 4.0, \"LOR \": 3.0, \"CGPA\": 8.2, \"Research\": 0, \"Chance\": 0.47, \"Pred\": 0.615122332267976}, {\"GRE\": 304, \"TOEFL\": 105, \"Rate\": 2, \"SOP\": 3.0, \"LOR \": 3.0, \"CGPA\": 8.2, \"Research\": 1, \"Chance\": 0.54, \"Pred\": 0.6437020220281031}, {\"GRE\": 315, \"TOEFL\": 107, \"Rate\": 2, \"SOP\": 4.0, \"LOR \": 3.0, \"CGPA\": 8.5, \"Research\": 1, \"Chance\": 0.56, \"Pred\": 0.7010293699771517}, {\"GRE\": 325, \"TOEFL\": 111, \"Rate\": 3, \"SOP\": 3.0, \"LOR \": 3.5, \"CGPA\": 8.7, \"Research\": 0, \"Chance\": 0.52, \"Pred\": 0.7495429682232422}, {\"GRE\": 325, \"TOEFL\": 112, \"Rate\": 4, \"SOP\": 3.5, \"LOR \": 3.5, \"CGPA\": 8.92, \"Research\": 0, \"Chance\": 0.55, \"Pred\": 0.7826932984439023}, {\"GRE\": 327, \"TOEFL\": 114, \"Rate\": 3, \"SOP\": 3.0, \"LOR \": 3.0, \"CGPA\": 9.02, \"Research\": 0, \"Chance\": 0.61, \"Pred\": 0.7886605833029166}, {\"GRE\": 316, \"TOEFL\": 107, \"Rate\": 2, \"SOP\": 3.5, \"LOR \": 3.5, \"CGPA\": 8.64, \"Research\": 1, \"Chance\": 0.57, \"Pred\": 0.7322474532384629}, {\"GRE\": 318, \"TOEFL\": 109, \"Rate\": 3, \"SOP\": 3.5, \"LOR \": 4.0, \"CGPA\": 9.22, \"Research\": 1, \"Chance\": 0.68, \"Pred\": 0.8274395348997203}, {\"GRE\": 328, \"TOEFL\": 115, \"Rate\": 4, \"SOP\": 4.5, \"LOR \": 4.0, \"CGPA\": 9.16, \"Research\": 1, \"Chance\": 0.78, \"Pred\": 0.8576062333854446}, {\"GRE\": 332, \"TOEFL\": 118, \"Rate\": 5, \"SOP\": 5.0, \"LOR \": 5.0, \"CGPA\": 9.64, \"Research\": 1, \"Chance\": 0.94, \"Pred\": 0.9568227487875987}, {\"GRE\": 336, \"TOEFL\": 112, \"Rate\": 5, \"SOP\": 5.0, \"LOR \": 5.0, \"CGPA\": 9.76, \"Research\": 1, \"Chance\": 0.96, \"Pred\": 0.9605276686017479}, {\"GRE\": 321, \"TOEFL\": 111, \"Rate\": 5, \"SOP\": 5.0, \"LOR \": 5.0, \"CGPA\": 9.45, \"Research\": 1, \"Chance\": 0.93, \"Pred\": 0.8946756876045316}, {\"GRE\": 314, \"TOEFL\": 108, \"Rate\": 4, \"SOP\": 4.5, \"LOR \": 4.0, \"CGPA\": 9.04, \"Research\": 1, \"Chance\": 0.84, \"Pred\": 0.798572699241128}, {\"GRE\": 314, \"TOEFL\": 106, \"Rate\": 3, \"SOP\": 3.0, \"LOR \": 5.0, \"CGPA\": 8.9, \"Research\": 0, \"Chance\": 0.74, \"Pred\": 0.7731511385694076}, {\"GRE\": 329, \"TOEFL\": 114, \"Rate\": 2, \"SOP\": 2.0, \"LOR \": 4.0, \"CGPA\": 8.56, \"Research\": 1, \"Chance\": 0.72, \"Pred\": 0.7818900023241382}, {\"GRE\": 327, \"TOEFL\": 112, \"Rate\": 3, \"SOP\": 3.0, \"LOR \": 3.0, \"CGPA\": 8.72, \"Research\": 1, \"Chance\": 0.74, \"Pred\": 0.7716646998852801}, {\"GRE\": 301, \"TOEFL\": 99, \"Rate\": 2, \"SOP\": 3.0, \"LOR \": 2.0, \"CGPA\": 8.22, \"Research\": 0, \"Chance\": 0.64, \"Pred\": 0.5764728818617681}, {\"GRE\": 296, \"TOEFL\": 95, \"Rate\": 2, \"SOP\": 3.0, \"LOR \": 2.0, \"CGPA\": 7.54, \"Research\": 1, \"Chance\": 0.44, \"Pred\": 0.49975379458833924}, {\"GRE\": 294, \"TOEFL\": 93, \"Rate\": 1, \"SOP\": 1.5, \"LOR \": 2.0, \"CGPA\": 7.36, \"Research\": 0, \"Chance\": 0.46, \"Pred\": 0.44374670530235005}, {\"GRE\": 312, \"TOEFL\": 105, \"Rate\": 3, \"SOP\": 2.0, \"LOR \": 3.0, \"CGPA\": 8.02, \"Research\": 1, \"Chance\": 0.5, \"Pred\": 0.6452140401287374}, {\"GRE\": 340, \"TOEFL\": 120, \"Rate\": 4, \"SOP\": 5.0, \"LOR \": 5.0, \"CGPA\": 9.5, \"Research\": 1, \"Chance\": 0.96, \"Pred\": 0.9541930133510557}, {\"GRE\": 320, \"TOEFL\": 110, \"Rate\": 5, \"SOP\": 5.0, \"LOR \": 4.5, \"CGPA\": 9.22, \"Research\": 1, \"Chance\": 0.92, \"Pred\": 0.8514860612250958}, {\"GRE\": 322, \"TOEFL\": 115, \"Rate\": 5, \"SOP\": 4.0, \"LOR \": 4.5, \"CGPA\": 9.36, \"Research\": 1, \"Chance\": 0.92, \"Pred\": 0.8895154610004001}, {\"GRE\": 340, \"TOEFL\": 115, \"Rate\": 5, \"SOP\": 4.5, \"LOR \": 4.5, \"CGPA\": 9.45, \"Research\": 1, \"Chance\": 0.94, \"Pred\": 0.9298408355798531}, {\"GRE\": 319, \"TOEFL\": 103, \"Rate\": 4, \"SOP\": 4.5, \"LOR \": 3.5, \"CGPA\": 8.66, \"Research\": 0, \"Chance\": 0.76, \"Pred\": 0.7117632106851974}, {\"GRE\": 315, \"TOEFL\": 106, \"Rate\": 3, \"SOP\": 4.5, \"LOR \": 3.5, \"CGPA\": 8.42, \"Research\": 0, \"Chance\": 0.72, \"Pred\": 0.6793101678537077}, {\"GRE\": 317, \"TOEFL\": 107, \"Rate\": 2, \"SOP\": 3.5, \"LOR \": 3.0, \"CGPA\": 8.28, \"Research\": 0, \"Chance\": 0.66, \"Pred\": 0.6554649915550421}, {\"GRE\": 314, \"TOEFL\": 108, \"Rate\": 3, \"SOP\": 4.5, \"LOR \": 3.5, \"CGPA\": 8.14, \"Research\": 0, \"Chance\": 0.64, \"Pred\": 0.6501088629093752}, {\"GRE\": 316, \"TOEFL\": 109, \"Rate\": 4, \"SOP\": 4.5, \"LOR \": 3.5, \"CGPA\": 8.76, \"Research\": 1, \"Chance\": 0.74, \"Pred\": 0.7604874885287327}, {\"GRE\": 318, \"TOEFL\": 106, \"Rate\": 2, \"SOP\": 4.0, \"LOR \": 4.0, \"CGPA\": 7.92, \"Research\": 1, \"Chance\": 0.64, \"Pred\": 0.6566902721153494}, {\"GRE\": 299, \"TOEFL\": 97, \"Rate\": 3, \"SOP\": 5.0, \"LOR \": 3.5, \"CGPA\": 7.66, \"Research\": 0, \"Chance\": 0.38, \"Pred\": 0.5331888221088794}, {\"GRE\": 298, \"TOEFL\": 98, \"Rate\": 2, \"SOP\": 4.0, \"LOR \": 3.0, \"CGPA\": 8.03, \"Research\": 0, \"Chance\": 0.34, \"Pred\": 0.5647905324316578}, {\"GRE\": 301, \"TOEFL\": 97, \"Rate\": 2, \"SOP\": 3.0, \"LOR \": 3.0, \"CGPA\": 7.88, \"Research\": 1, \"Chance\": 0.44, \"Pred\": 0.57707254762861}, {\"GRE\": 303, \"TOEFL\": 99, \"Rate\": 3, \"SOP\": 2.0, \"LOR \": 2.5, \"CGPA\": 7.66, \"Research\": 0, \"Chance\": 0.36, \"Pred\": 0.5335400018336254}, {\"GRE\": 304, \"TOEFL\": 100, \"Rate\": 4, \"SOP\": 1.5, \"LOR \": 2.5, \"CGPA\": 7.84, \"Research\": 0, \"Chance\": 0.42, \"Pred\": 0.5669753345264845}, {\"GRE\": 306, \"TOEFL\": 100, \"Rate\": 2, \"SOP\": 3.0, \"LOR \": 3.0, \"CGPA\": 8.0, \"Research\": 0, \"Chance\": 0.48, \"Pred\": 0.5842659640707759}, {\"GRE\": 331, \"TOEFL\": 120, \"Rate\": 3, \"SOP\": 4.0, \"LOR \": 4.0, \"CGPA\": 8.96, \"Research\": 1, \"Chance\": 0.86, \"Pred\": 0.8495643878513179}, {\"GRE\": 332, \"TOEFL\": 119, \"Rate\": 4, \"SOP\": 5.0, \"LOR \": 4.5, \"CGPA\": 9.24, \"Research\": 1, \"Chance\": 0.9, \"Pred\": 0.8952733223666101}, {\"GRE\": 323, \"TOEFL\": 113, \"Rate\": 3, \"SOP\": 4.0, \"LOR \": 4.0, \"CGPA\": 8.88, \"Research\": 1, \"Chance\": 0.79, \"Pred\": 0.8057129012769673}, {\"GRE\": 322, \"TOEFL\": 107, \"Rate\": 3, \"SOP\": 3.5, \"LOR \": 3.5, \"CGPA\": 8.46, \"Research\": 1, \"Chance\": 0.71, \"Pred\": 0.7269794791520026}, {\"GRE\": 312, \"TOEFL\": 105, \"Rate\": 2, \"SOP\": 2.5, \"LOR \": 3.0, \"CGPA\": 8.12, \"Research\": 0, \"Chance\": 0.64, \"Pred\": 0.6252136365356629}, {\"GRE\": 314, \"TOEFL\": 106, \"Rate\": 2, \"SOP\": 4.0, \"LOR \": 3.5, \"CGPA\": 8.25, \"Research\": 0, \"Chance\": 0.62, \"Pred\": 0.6532889755588105}, {\"GRE\": 317, \"TOEFL\": 104, \"Rate\": 2, \"SOP\": 4.5, \"LOR \": 4.0, \"CGPA\": 8.47, \"Research\": 0, \"Chance\": 0.57, \"Pred\": 0.6883527155709961}, {\"GRE\": 326, \"TOEFL\": 112, \"Rate\": 3, \"SOP\": 3.5, \"LOR \": 3.0, \"CGPA\": 9.05, \"Research\": 1, \"Chance\": 0.74, \"Pred\": 0.8075247234787535}, {\"GRE\": 316, \"TOEFL\": 110, \"Rate\": 3, \"SOP\": 4.0, \"LOR \": 4.5, \"CGPA\": 8.78, \"Research\": 1, \"Chance\": 0.69, \"Pred\": 0.7840749081335694}, {\"GRE\": 329, \"TOEFL\": 111, \"Rate\": 4, \"SOP\": 4.5, \"LOR \": 4.5, \"CGPA\": 9.18, \"Research\": 1, \"Chance\": 0.87, \"Pred\": 0.8612206904248783}, {\"GRE\": 338, \"TOEFL\": 117, \"Rate\": 4, \"SOP\": 3.5, \"LOR \": 4.5, \"CGPA\": 9.46, \"Research\": 1, \"Chance\": 0.91, \"Pred\": 0.9309830715177909}, {\"GRE\": 331, \"TOEFL\": 116, \"Rate\": 5, \"SOP\": 5.0, \"LOR \": 5.0, \"CGPA\": 9.38, \"Research\": 1, \"Chance\": 0.93, \"Pred\": 0.9183219256475061}, {\"GRE\": 304, \"TOEFL\": 103, \"Rate\": 5, \"SOP\": 5.0, \"LOR \": 4.0, \"CGPA\": 8.64, \"Research\": 0, \"Chance\": 0.68, \"Pred\": 0.6985638853246134}, {\"GRE\": 305, \"TOEFL\": 108, \"Rate\": 5, \"SOP\": 3.0, \"LOR \": 3.0, \"CGPA\": 8.48, \"Research\": 0, \"Chance\": 0.61, \"Pred\": 0.6801260791665014}, {\"GRE\": 321, \"TOEFL\": 109, \"Rate\": 4, \"SOP\": 4.0, \"LOR \": 4.0, \"CGPA\": 8.68, \"Research\": 1, \"Chance\": 0.69, \"Pred\": 0.7724885382827529}, {\"GRE\": 301, \"TOEFL\": 107, \"Rate\": 3, \"SOP\": 3.5, \"LOR \": 3.5, \"CGPA\": 8.34, \"Research\": 1, \"Chance\": 0.62, \"Pred\": 0.6762211017290634}, {\"GRE\": 320, \"TOEFL\": 110, \"Rate\": 2, \"SOP\": 4.0, \"LOR \": 3.5, \"CGPA\": 8.56, \"Research\": 0, \"Chance\": 0.72, \"Pred\": 0.712262982867675}, {\"GRE\": 311, \"TOEFL\": 105, \"Rate\": 3, \"SOP\": 3.5, \"LOR \": 3.0, \"CGPA\": 8.45, \"Research\": 1, \"Chance\": 0.59, \"Pred\": 0.6896628400368474}, {\"GRE\": 310, \"TOEFL\": 106, \"Rate\": 4, \"SOP\": 4.5, \"LOR \": 4.5, \"CGPA\": 9.04, \"Research\": 1, \"Chance\": 0.66, \"Pred\": 0.796960462987401}, {\"GRE\": 299, \"TOEFL\": 102, \"Rate\": 3, \"SOP\": 4.0, \"LOR \": 3.5, \"CGPA\": 8.62, \"Research\": 0, \"Chance\": 0.56, \"Pred\": 0.6652737506917215}, {\"GRE\": 290, \"TOEFL\": 104, \"Rate\": 4, \"SOP\": 2.0, \"LOR \": 2.5, \"CGPA\": 7.46, \"Research\": 0, \"Chance\": 0.45, \"Pred\": 0.5074803029105828}, {\"GRE\": 296, \"TOEFL\": 99, \"Rate\": 2, \"SOP\": 3.0, \"LOR \": 3.5, \"CGPA\": 7.28, \"Research\": 0, \"Chance\": 0.47, \"Pred\": 0.489512428618027}, {\"GRE\": 327, \"TOEFL\": 104, \"Rate\": 5, \"SOP\": 3.0, \"LOR \": 3.5, \"CGPA\": 8.84, \"Research\": 1, \"Chance\": 0.71, \"Pred\": 0.7851906997155444}, {\"GRE\": 335, \"TOEFL\": 117, \"Rate\": 5, \"SOP\": 5.0, \"LOR \": 5.0, \"CGPA\": 9.56, \"Research\": 1, \"Chance\": 0.94, \"Pred\": 0.9496002503959533}, {\"GRE\": 334, \"TOEFL\": 119, \"Rate\": 5, \"SOP\": 4.5, \"LOR \": 4.5, \"CGPA\": 9.48, \"Research\": 1, \"Chance\": 0.94, \"Pred\": 0.93466285702938}, {\"GRE\": 310, \"TOEFL\": 106, \"Rate\": 4, \"SOP\": 1.5, \"LOR \": 2.5, \"CGPA\": 8.36, \"Research\": 0, \"Chance\": 0.57, \"Pred\": 0.6567657807245764}, {\"GRE\": 308, \"TOEFL\": 108, \"Rate\": 3, \"SOP\": 3.5, \"LOR \": 3.5, \"CGPA\": 8.22, \"Research\": 0, \"Chance\": 0.61, \"Pred\": 0.6525047188161197}, {\"GRE\": 301, \"TOEFL\": 106, \"Rate\": 4, \"SOP\": 2.5, \"LOR \": 3.0, \"CGPA\": 8.47, \"Research\": 0, \"Chance\": 0.57, \"Pred\": 0.6620838111002367}, {\"GRE\": 300, \"TOEFL\": 100, \"Rate\": 3, \"SOP\": 2.0, \"LOR \": 3.0, \"CGPA\": 8.66, \"Research\": 1, \"Chance\": 0.64, \"Pred\": 0.6858884674940438}, {\"GRE\": 323, \"TOEFL\": 113, \"Rate\": 3, \"SOP\": 4.0, \"LOR \": 3.0, \"CGPA\": 9.32, \"Research\": 1, \"Chance\": 0.85, \"Pred\": 0.8356931335313014}, {\"GRE\": 319, \"TOEFL\": 112, \"Rate\": 3, \"SOP\": 2.5, \"LOR \": 2.0, \"CGPA\": 8.71, \"Research\": 1, \"Chance\": 0.78, \"Pred\": 0.7358754699753711}, {\"GRE\": 326, \"TOEFL\": 112, \"Rate\": 3, \"SOP\": 3.5, \"LOR \": 3.0, \"CGPA\": 9.1, \"Research\": 1, \"Chance\": 0.84, \"Pred\": 0.813471696158605}, {\"GRE\": 333, \"TOEFL\": 118, \"Rate\": 5, \"SOP\": 5.0, \"LOR \": 5.0, \"CGPA\": 9.35, \"Research\": 1, \"Chance\": 0.92, \"Pred\": 0.9240677188154736}, {\"GRE\": 339, \"TOEFL\": 114, \"Rate\": 5, \"SOP\": 4.0, \"LOR \": 4.5, \"CGPA\": 9.76, \"Research\": 1, \"Chance\": 0.96, \"Pred\": 0.9637076623295269}, {\"GRE\": 303, \"TOEFL\": 105, \"Rate\": 5, \"SOP\": 5.0, \"LOR \": 4.5, \"CGPA\": 8.65, \"Research\": 0, \"Chance\": 0.77, \"Pred\": 0.7150315855875997}, {\"GRE\": 309, \"TOEFL\": 105, \"Rate\": 5, \"SOP\": 3.5, \"LOR \": 3.5, \"CGPA\": 8.56, \"Research\": 0, \"Chance\": 0.71, \"Pred\": 0.6973561304291911}, {\"GRE\": 323, \"TOEFL\": 112, \"Rate\": 5, \"SOP\": 4.0, \"LOR \": 4.5, \"CGPA\": 8.78, \"Research\": 0, \"Chance\": 0.79, \"Pred\": 0.7889841527390369}, {\"GRE\": 333, \"TOEFL\": 113, \"Rate\": 5, \"SOP\": 4.0, \"LOR \": 4.0, \"CGPA\": 9.28, \"Research\": 1, \"Chance\": 0.89, \"Pred\": 0.8820961146957622}, {\"GRE\": 314, \"TOEFL\": 109, \"Rate\": 4, \"SOP\": 3.5, \"LOR \": 4.0, \"CGPA\": 8.77, \"Research\": 1, \"Chance\": 0.82, \"Pred\": 0.7726837926319206}, {\"GRE\": 312, \"TOEFL\": 103, \"Rate\": 3, \"SOP\": 5.0, \"LOR \": 4.0, \"CGPA\": 8.45, \"Research\": 0, \"Chance\": 0.76, \"Pred\": 0.6784313654394476}, {\"GRE\": 316, \"TOEFL\": 100, \"Rate\": 2, \"SOP\": 1.5, \"LOR \": 3.0, \"CGPA\": 8.16, \"Research\": 1, \"Chance\": 0.71, \"Pred\": 0.6501532522193649}, {\"GRE\": 326, \"TOEFL\": 116, \"Rate\": 2, \"SOP\": 4.5, \"LOR \": 3.0, \"CGPA\": 9.08, \"Research\": 1, \"Chance\": 0.8, \"Pred\": 0.8137493871743773}, {\"GRE\": 318, \"TOEFL\": 109, \"Rate\": 1, \"SOP\": 3.5, \"LOR \": 3.5, \"CGPA\": 9.12, \"Research\": 0, \"Chance\": 0.78, \"Pred\": 0.7684106033106717}, {\"GRE\": 329, \"TOEFL\": 110, \"Rate\": 2, \"SOP\": 4.0, \"LOR \": 3.0, \"CGPA\": 9.15, \"Research\": 1, \"Chance\": 0.84, \"Pred\": 0.8114225072601944}, {\"GRE\": 332, \"TOEFL\": 118, \"Rate\": 2, \"SOP\": 4.5, \"LOR \": 3.5, \"CGPA\": 9.36, \"Research\": 1, \"Chance\": 0.9, \"Pred\": 0.8744926209056605}, {\"GRE\": 331, \"TOEFL\": 115, \"Rate\": 5, \"SOP\": 4.0, \"LOR \": 3.5, \"CGPA\": 9.44, \"Research\": 1, \"Chance\": 0.92, \"Pred\": 0.8923141940989299}, {\"GRE\": 340, \"TOEFL\": 120, \"Rate\": 4, \"SOP\": 4.5, \"LOR \": 4.0, \"CGPA\": 9.92, \"Research\": 1, \"Chance\": 0.97, \"Pred\": 0.9834470410559828}, {\"GRE\": 325, \"TOEFL\": 112, \"Rate\": 2, \"SOP\": 3.0, \"LOR \": 3.5, \"CGPA\": 8.96, \"Research\": 1, \"Chance\": 0.8, \"Pred\": 0.8021952511357984}, {\"GRE\": 320, \"TOEFL\": 113, \"Rate\": 2, \"SOP\": 2.0, \"LOR \": 2.5, \"CGPA\": 8.64, \"Research\": 1, \"Chance\": 0.81, \"Pred\": 0.7393191866633102}, {\"GRE\": 315, \"TOEFL\": 105, \"Rate\": 3, \"SOP\": 2.0, \"LOR \": 2.5, \"CGPA\": 8.48, \"Research\": 0, \"Chance\": 0.75, \"Pred\": 0.6694367535369112}, {\"GRE\": 326, \"TOEFL\": 114, \"Rate\": 3, \"SOP\": 3.0, \"LOR \": 3.0, \"CGPA\": 9.11, \"Research\": 1, \"Chance\": 0.83, \"Pred\": 0.8221528288509588}, {\"GRE\": 339, \"TOEFL\": 116, \"Rate\": 4, \"SOP\": 4.0, \"LOR \": 3.5, \"CGPA\": 9.8, \"Research\": 1, \"Chance\": 0.96, \"Pred\": 0.9462346086439781}, {\"GRE\": 311, \"TOEFL\": 106, \"Rate\": 2, \"SOP\": 3.5, \"LOR \": 3.0, \"CGPA\": 8.26, \"Research\": 1, \"Chance\": 0.79, \"Pred\": 0.6642672625354158}, {\"GRE\": 334, \"TOEFL\": 114, \"Rate\": 4, \"SOP\": 4.0, \"LOR \": 4.0, \"CGPA\": 9.43, \"Research\": 1, \"Chance\": 0.93, \"Pred\": 0.8988773629883353}, {\"GRE\": 332, \"TOEFL\": 116, \"Rate\": 5, \"SOP\": 5.0, \"LOR \": 5.0, \"CGPA\": 9.28, \"Research\": 1, \"Chance\": 0.94, \"Pred\": 0.9081653918588166}, {\"GRE\": 321, \"TOEFL\": 112, \"Rate\": 5, \"SOP\": 5.0, \"LOR \": 5.0, \"CGPA\": 9.06, \"Research\": 1, \"Chance\": 0.86, \"Pred\": 0.8512088775186146}, {\"GRE\": 324, \"TOEFL\": 105, \"Rate\": 3, \"SOP\": 3.0, \"LOR \": 4.0, \"CGPA\": 8.75, \"Research\": 0, \"Chance\": 0.79, \"Pred\": 0.7474116320947088}, {\"GRE\": 326, \"TOEFL\": 108, \"Rate\": 3, \"SOP\": 3.0, \"LOR \": 3.5, \"CGPA\": 8.89, \"Research\": 0, \"Chance\": 0.8, \"Pred\": 0.7651201455269174}, {\"GRE\": 312, \"TOEFL\": 109, \"Rate\": 3, \"SOP\": 3.0, \"LOR \": 3.0, \"CGPA\": 8.69, \"Research\": 0, \"Chance\": 0.77, \"Pred\": 0.7087515059660594}, {\"GRE\": 315, \"TOEFL\": 105, \"Rate\": 3, \"SOP\": 2.0, \"LOR \": 2.5, \"CGPA\": 8.34, \"Research\": 0, \"Chance\": 0.7, \"Pred\": 0.6527852300333266}, {\"GRE\": 309, \"TOEFL\": 104, \"Rate\": 2, \"SOP\": 2.0, \"LOR \": 2.5, \"CGPA\": 8.26, \"Research\": 0, \"Chance\": 0.65, \"Pred\": 0.6242093693676336}, {\"GRE\": 306, \"TOEFL\": 106, \"Rate\": 2, \"SOP\": 2.0, \"LOR \": 2.5, \"CGPA\": 8.14, \"Research\": 0, \"Chance\": 0.61, \"Pred\": 0.610563553856798}, {\"GRE\": 297, \"TOEFL\": 100, \"Rate\": 1, \"SOP\": 1.5, \"LOR \": 2.0, \"CGPA\": 7.9, \"Research\": 0, \"Chance\": 0.52, \"Pred\": 0.5336232826762652}, {\"GRE\": 315, \"TOEFL\": 103, \"Rate\": 1, \"SOP\": 1.5, \"LOR \": 2.0, \"CGPA\": 7.86, \"Research\": 0, \"Chance\": 0.57, \"Pred\": 0.5688978432614125}, {\"GRE\": 298, \"TOEFL\": 99, \"Rate\": 1, \"SOP\": 1.5, \"LOR \": 3.0, \"CGPA\": 7.46, \"Research\": 0, \"Chance\": 0.53, \"Pred\": 0.5024608851760195}, {\"GRE\": 318, \"TOEFL\": 109, \"Rate\": 3, \"SOP\": 3.0, \"LOR \": 3.0, \"CGPA\": 8.5, \"Research\": 0, \"Chance\": 0.67, \"Pred\": 0.6965774792087078}, {\"GRE\": 317, \"TOEFL\": 105, \"Rate\": 3, \"SOP\": 3.5, \"LOR \": 3.0, \"CGPA\": 8.56, \"Research\": 0, \"Chance\": 0.68, \"Pred\": 0.6886455430632819}, {\"GRE\": 329, \"TOEFL\": 111, \"Rate\": 4, \"SOP\": 4.5, \"LOR \": 4.0, \"CGPA\": 9.01, \"Research\": 1, \"Chance\": 0.81, \"Pred\": 0.8298244196492026}, {\"GRE\": 322, \"TOEFL\": 110, \"Rate\": 5, \"SOP\": 4.5, \"LOR \": 4.0, \"CGPA\": 8.97, \"Research\": 0, \"Chance\": 0.78, \"Pred\": 0.7911769355308962}, {\"GRE\": 302, \"TOEFL\": 102, \"Rate\": 3, \"SOP\": 3.5, \"LOR \": 5.0, \"CGPA\": 8.33, \"Research\": 0, \"Chance\": 0.65, \"Pred\": 0.6711758193766972}, {\"GRE\": 313, \"TOEFL\": 102, \"Rate\": 3, \"SOP\": 2.0, \"LOR \": 3.0, \"CGPA\": 8.27, \"Research\": 0, \"Chance\": 0.64, \"Pred\": 0.6434024783529104}, {\"GRE\": 293, \"TOEFL\": 97, \"Rate\": 2, \"SOP\": 2.0, \"LOR \": 4.0, \"CGPA\": 7.8, \"Research\": 1, \"Chance\": 0.64, \"Pred\": 0.5793163951461608}, {\"GRE\": 311, \"TOEFL\": 99, \"Rate\": 2, \"SOP\": 2.5, \"LOR \": 3.0, \"CGPA\": 7.98, \"Research\": 0, \"Chance\": 0.65, \"Pred\": 0.5893072405595137}, {\"GRE\": 312, \"TOEFL\": 101, \"Rate\": 2, \"SOP\": 2.5, \"LOR \": 3.5, \"CGPA\": 8.04, \"Research\": 1, \"Chance\": 0.68, \"Pred\": 0.6397218429397031}, {\"GRE\": 334, \"TOEFL\": 117, \"Rate\": 5, \"SOP\": 4.0, \"LOR \": 4.5, \"CGPA\": 9.07, \"Research\": 1, \"Chance\": 0.89, \"Pred\": 0.8817111119432799}, {\"GRE\": 322, \"TOEFL\": 110, \"Rate\": 4, \"SOP\": 4.0, \"LOR \": 5.0, \"CGPA\": 9.13, \"Research\": 1, \"Chance\": 0.86, \"Pred\": 0.8530214081177159}, {\"GRE\": 323, \"TOEFL\": 113, \"Rate\": 4, \"SOP\": 4.0, \"LOR \": 4.5, \"CGPA\": 9.23, \"Research\": 1, \"Chance\": 0.89, \"Pred\": 0.8642349318350291}, {\"GRE\": 321, \"TOEFL\": 111, \"Rate\": 4, \"SOP\": 4.0, \"LOR \": 4.0, \"CGPA\": 8.97, \"Research\": 1, \"Chance\": 0.87, \"Pred\": 0.8128201334597429}, {\"GRE\": 320, \"TOEFL\": 111, \"Rate\": 4, \"SOP\": 4.5, \"LOR \": 3.5, \"CGPA\": 8.87, \"Research\": 1, \"Chance\": 0.85, \"Pred\": 0.7863596283423122}, {\"GRE\": 329, \"TOEFL\": 119, \"Rate\": 4, \"SOP\": 4.5, \"LOR \": 4.5, \"CGPA\": 9.16, \"Research\": 1, \"Chance\": 0.9, \"Pred\": 0.8821985158883388}, {\"GRE\": 319, \"TOEFL\": 110, \"Rate\": 3, \"SOP\": 3.5, \"LOR \": 3.5, \"CGPA\": 9.04, \"Research\": 0, \"Chance\": 0.82, \"Pred\": 0.7749857516806904}, {\"GRE\": 309, \"TOEFL\": 108, \"Rate\": 3, \"SOP\": 2.5, \"LOR \": 3.0, \"CGPA\": 8.12, \"Research\": 0, \"Chance\": 0.72, \"Pred\": 0.6344767904083171}, {\"GRE\": 307, \"TOEFL\": 102, \"Rate\": 3, \"SOP\": 3.0, \"LOR \": 3.0, \"CGPA\": 8.27, \"Research\": 0, \"Chance\": 0.73, \"Pred\": 0.6296728398817597}, {\"GRE\": 300, \"TOEFL\": 104, \"Rate\": 3, \"SOP\": 3.5, \"LOR \": 3.0, \"CGPA\": 8.16, \"Research\": 0, \"Chance\": 0.71, \"Pred\": 0.6086141881003051}, {\"GRE\": 305, \"TOEFL\": 107, \"Rate\": 2, \"SOP\": 2.5, \"LOR \": 2.5, \"CGPA\": 8.42, \"Research\": 0, \"Chance\": 0.71, \"Pred\": 0.6433961815873446}, {\"GRE\": 299, \"TOEFL\": 100, \"Rate\": 2, \"SOP\": 3.0, \"LOR \": 3.5, \"CGPA\": 7.88, \"Research\": 0, \"Chance\": 0.68, \"Pred\": 0.5690079123062135}, {\"GRE\": 314, \"TOEFL\": 110, \"Rate\": 3, \"SOP\": 4.0, \"LOR \": 4.0, \"CGPA\": 8.8, \"Research\": 0, \"Chance\": 0.75, \"Pred\": 0.7472772041039792}, {\"GRE\": 316, \"TOEFL\": 106, \"Rate\": 2, \"SOP\": 2.5, \"LOR \": 4.0, \"CGPA\": 8.32, \"Research\": 0, \"Chance\": 0.72, \"Pred\": 0.6812238776844102}, {\"GRE\": 327, \"TOEFL\": 113, \"Rate\": 4, \"SOP\": 4.5, \"LOR \": 4.5, \"CGPA\": 9.11, \"Research\": 1, \"Chance\": 0.89, \"Pred\": 0.8552592591649082}, {\"GRE\": 317, \"TOEFL\": 107, \"Rate\": 3, \"SOP\": 3.5, \"LOR \": 3.0, \"CGPA\": 8.68, \"Research\": 1, \"Chance\": 0.84, \"Pred\": 0.7332825374240994}, {\"GRE\": 335, \"TOEFL\": 118, \"Rate\": 5, \"SOP\": 4.5, \"LOR \": 3.5, \"CGPA\": 9.44, \"Research\": 1, \"Chance\": 0.93, \"Pred\": 0.9063699863112282}, {\"GRE\": 331, \"TOEFL\": 115, \"Rate\": 5, \"SOP\": 4.5, \"LOR \": 3.5, \"CGPA\": 9.36, \"Research\": 1, \"Chance\": 0.93, \"Pred\": 0.8811464532886342}, {\"GRE\": 324, \"TOEFL\": 112, \"Rate\": 5, \"SOP\": 5.0, \"LOR \": 5.0, \"CGPA\": 9.08, \"Research\": 1, \"Chance\": 0.88, \"Pred\": 0.8587999013035976}, {\"GRE\": 324, \"TOEFL\": 111, \"Rate\": 5, \"SOP\": 4.5, \"LOR \": 4.0, \"CGPA\": 9.16, \"Research\": 1, \"Chance\": 0.9, \"Pred\": 0.8446949379686088}, {\"GRE\": 323, \"TOEFL\": 110, \"Rate\": 5, \"SOP\": 4.0, \"LOR \": 5.0, \"CGPA\": 8.98, \"Research\": 1, \"Chance\": 0.87, \"Pred\": 0.8426345597840961}, {\"GRE\": 322, \"TOEFL\": 114, \"Rate\": 5, \"SOP\": 4.5, \"LOR \": 4.0, \"CGPA\": 8.94, \"Research\": 1, \"Chance\": 0.86, \"Pred\": 0.8238121654860089}, {\"GRE\": 336, \"TOEFL\": 118, \"Rate\": 5, \"SOP\": 4.5, \"LOR \": 5.0, \"CGPA\": 9.53, \"Research\": 1, \"Chance\": 0.94, \"Pred\": 0.9523416396985145}, {\"GRE\": 316, \"TOEFL\": 109, \"Rate\": 3, \"SOP\": 3.5, \"LOR \": 3.0, \"CGPA\": 8.76, \"Research\": 0, \"Chance\": 0.77, \"Pred\": 0.722374329479375}, {\"GRE\": 307, \"TOEFL\": 107, \"Rate\": 2, \"SOP\": 3.0, \"LOR \": 3.5, \"CGPA\": 8.52, \"Research\": 1, \"Chance\": 0.78, \"Pred\": 0.7039905991902256}, {\"GRE\": 306, \"TOEFL\": 105, \"Rate\": 2, \"SOP\": 3.0, \"LOR \": 2.5, \"CGPA\": 8.26, \"Research\": 0, \"Chance\": 0.73, \"Pred\": 0.6186115424264502}, {\"GRE\": 310, \"TOEFL\": 106, \"Rate\": 2, \"SOP\": 3.5, \"LOR \": 2.5, \"CGPA\": 8.33, \"Research\": 0, \"Chance\": 0.73, \"Pred\": 0.6351539427566906}, {\"GRE\": 311, \"TOEFL\": 104, \"Rate\": 3, \"SOP\": 4.5, \"LOR \": 4.5, \"CGPA\": 8.43, \"Research\": 0, \"Chance\": 0.7, \"Pred\": 0.690063889800131}, {\"GRE\": 313, \"TOEFL\": 107, \"Rate\": 3, \"SOP\": 4.0, \"LOR \": 4.5, \"CGPA\": 8.69, \"Research\": 0, \"Chance\": 0.72, \"Pred\": 0.7348742858506958}, {\"GRE\": 317, \"TOEFL\": 103, \"Rate\": 3, \"SOP\": 2.5, \"LOR \": 3.0, \"CGPA\": 8.54, \"Research\": 1, \"Chance\": 0.73, \"Pred\": 0.7082578756978808}, {\"GRE\": 315, \"TOEFL\": 110, \"Rate\": 2, \"SOP\": 3.5, \"LOR \": 3.0, \"CGPA\": 8.46, \"Research\": 1, \"Chance\": 0.72, \"Pred\": 0.7066831068065789}, {\"GRE\": 340, \"TOEFL\": 120, \"Rate\": 5, \"SOP\": 4.5, \"LOR \": 4.5, \"CGPA\": 9.91, \"Research\": 1, \"Chance\": 0.97, \"Pred\": 0.9991508683191135}, {\"GRE\": 334, \"TOEFL\": 120, \"Rate\": 5, \"SOP\": 4.0, \"LOR \": 5.0, \"CGPA\": 9.87, \"Research\": 1, \"Chance\": 0.97, \"Pred\": 0.9967979689358601}, {\"GRE\": 298, \"TOEFL\": 105, \"Rate\": 3, \"SOP\": 3.5, \"LOR \": 4.0, \"CGPA\": 8.54, \"Research\": 0, \"Chance\": 0.69, \"Pred\": 0.6756090614704333}, {\"GRE\": 295, \"TOEFL\": 99, \"Rate\": 2, \"SOP\": 2.5, \"LOR \": 3.0, \"CGPA\": 7.65, \"Research\": 0, \"Chance\": 0.57, \"Pred\": 0.5222586357362682}, {\"GRE\": 315, \"TOEFL\": 99, \"Rate\": 2, \"SOP\": 3.5, \"LOR \": 3.0, \"CGPA\": 7.89, \"Research\": 0, \"Chance\": 0.63, \"Pred\": 0.5822471669747706}, {\"GRE\": 310, \"TOEFL\": 102, \"Rate\": 3, \"SOP\": 3.5, \"LOR \": 4.0, \"CGPA\": 8.02, \"Research\": 1, \"Chance\": 0.66, \"Pred\": 0.6503758602966938}, {\"GRE\": 305, \"TOEFL\": 106, \"Rate\": 2, \"SOP\": 3.0, \"LOR \": 3.0, \"CGPA\": 8.16, \"Research\": 0, \"Chance\": 0.64, \"Pred\": 0.6190763259768379}, {\"GRE\": 301, \"TOEFL\": 104, \"Rate\": 3, \"SOP\": 3.5, \"LOR \": 4.0, \"CGPA\": 8.12, \"Research\": 1, \"Chance\": 0.68, \"Pred\": 0.6524722551511206}, {\"GRE\": 325, \"TOEFL\": 108, \"Rate\": 4, \"SOP\": 4.5, \"LOR \": 4.0, \"CGPA\": 9.06, \"Research\": 1, \"Chance\": 0.79, \"Pred\": 0.8200630155942232}, {\"GRE\": 328, \"TOEFL\": 110, \"Rate\": 4, \"SOP\": 5.0, \"LOR \": 4.0, \"CGPA\": 9.14, \"Research\": 1, \"Chance\": 0.82, \"Pred\": 0.8389769757063446}, {\"GRE\": 338, \"TOEFL\": 120, \"Rate\": 4, \"SOP\": 5.0, \"LOR \": 5.0, \"CGPA\": 9.66, \"Research\": 1, \"Chance\": 0.95, \"Pred\": 0.9697485027845529}, {\"GRE\": 333, \"TOEFL\": 119, \"Rate\": 5, \"SOP\": 5.0, \"LOR \": 4.5, \"CGPA\": 9.78, \"Research\": 1, \"Chance\": 0.96, \"Pred\": 0.9669546970149423}, {\"GRE\": 331, \"TOEFL\": 117, \"Rate\": 4, \"SOP\": 4.5, \"LOR \": 5.0, \"CGPA\": 9.42, \"Research\": 1, \"Chance\": 0.94, \"Pred\": 0.9219350069959245}, {\"GRE\": 330, \"TOEFL\": 116, \"Rate\": 5, \"SOP\": 5.0, \"LOR \": 4.5, \"CGPA\": 9.36, \"Research\": 1, \"Chance\": 0.93, \"Pred\": 0.9030291613403716}, {\"GRE\": 322, \"TOEFL\": 112, \"Rate\": 4, \"SOP\": 4.5, \"LOR \": 4.5, \"CGPA\": 9.26, \"Research\": 1, \"Chance\": 0.91, \"Pred\": 0.8614935425324675}, {\"GRE\": 321, \"TOEFL\": 109, \"Rate\": 4, \"SOP\": 4.0, \"LOR \": 4.0, \"CGPA\": 9.13, \"Research\": 1, \"Chance\": 0.85, \"Pred\": 0.8260112924014174}, {\"GRE\": 324, \"TOEFL\": 110, \"Rate\": 4, \"SOP\": 3.0, \"LOR \": 3.5, \"CGPA\": 8.97, \"Research\": 1, \"Chance\": 0.84, \"Pred\": 0.8072413967367462}, {\"GRE\": 312, \"TOEFL\": 104, \"Rate\": 3, \"SOP\": 3.5, \"LOR \": 3.5, \"CGPA\": 8.42, \"Research\": 0, \"Chance\": 0.74, \"Pred\": 0.6715639485518816}, {\"GRE\": 313, \"TOEFL\": 103, \"Rate\": 3, \"SOP\": 4.0, \"LOR \": 4.0, \"CGPA\": 8.75, \"Research\": 0, \"Chance\": 0.76, \"Pred\": 0.7191557821346375}, {\"GRE\": 316, \"TOEFL\": 110, \"Rate\": 3, \"SOP\": 3.5, \"LOR \": 4.0, \"CGPA\": 8.56, \"Research\": 0, \"Chance\": 0.75, \"Pred\": 0.723859142905253}, {\"GRE\": 324, \"TOEFL\": 113, \"Rate\": 4, \"SOP\": 4.5, \"LOR \": 4.0, \"CGPA\": 8.79, \"Research\": 0, \"Chance\": 0.76, \"Pred\": 0.7762847293413129}, {\"GRE\": 308, \"TOEFL\": 109, \"Rate\": 2, \"SOP\": 3.0, \"LOR \": 4.0, \"CGPA\": 8.45, \"Research\": 0, \"Chance\": 0.71, \"Pred\": 0.6898928600121537}, {\"GRE\": 305, \"TOEFL\": 105, \"Rate\": 2, \"SOP\": 3.0, \"LOR \": 2.0, \"CGPA\": 8.23, \"Research\": 0, \"Chance\": 0.67, \"Pred\": 0.6021293835833454}, {\"GRE\": 296, \"TOEFL\": 99, \"Rate\": 2, \"SOP\": 2.5, \"LOR \": 2.5, \"CGPA\": 8.03, \"Research\": 0, \"Chance\": 0.61, \"Pred\": 0.5580164760099746}, {\"GRE\": 306, \"TOEFL\": 110, \"Rate\": 2, \"SOP\": 3.5, \"LOR \": 4.0, \"CGPA\": 8.45, \"Research\": 0, \"Chance\": 0.63, \"Pred\": 0.6876850291645176}, {\"GRE\": 312, \"TOEFL\": 110, \"Rate\": 2, \"SOP\": 3.5, \"LOR \": 3.0, \"CGPA\": 8.53, \"Research\": 0, \"Chance\": 0.64, \"Pred\": 0.6852715275500054}, {\"GRE\": 318, \"TOEFL\": 112, \"Rate\": 3, \"SOP\": 4.0, \"LOR \": 3.5, \"CGPA\": 8.67, \"Research\": 0, \"Chance\": 0.71, \"Pred\": 0.7334273113900918}, {\"GRE\": 324, \"TOEFL\": 111, \"Rate\": 4, \"SOP\": 3.0, \"LOR \": 3.0, \"CGPA\": 9.01, \"Research\": 1, \"Chance\": 0.82, \"Pred\": 0.8037419880333727}, {\"GRE\": 313, \"TOEFL\": 104, \"Rate\": 3, \"SOP\": 4.0, \"LOR \": 4.5, \"CGPA\": 8.65, \"Research\": 0, \"Chance\": 0.73, \"Pred\": 0.7213579772560392}, {\"GRE\": 319, \"TOEFL\": 106, \"Rate\": 3, \"SOP\": 3.5, \"LOR \": 2.5, \"CGPA\": 8.33, \"Research\": 1, \"Chance\": 0.74, \"Pred\": 0.6810324113260617}, {\"GRE\": 312, \"TOEFL\": 107, \"Rate\": 2, \"SOP\": 2.5, \"LOR \": 3.5, \"CGPA\": 8.27, \"Research\": 0, \"Chance\": 0.69, \"Pred\": 0.6600702718732476}, {\"GRE\": 304, \"TOEFL\": 100, \"Rate\": 2, \"SOP\": 2.5, \"LOR \": 3.5, \"CGPA\": 8.07, \"Research\": 0, \"Chance\": 0.64, \"Pred\": 0.6019460508672527}, {\"GRE\": 330, \"TOEFL\": 113, \"Rate\": 5, \"SOP\": 5.0, \"LOR \": 4.0, \"CGPA\": 9.31, \"Research\": 1, \"Chance\": 0.91, \"Pred\": 0.8771468945455652}, {\"GRE\": 326, \"TOEFL\": 111, \"Rate\": 5, \"SOP\": 4.5, \"LOR \": 4.0, \"CGPA\": 9.23, \"Research\": 1, \"Chance\": 0.88, \"Pred\": 0.8564955228624289}, {\"GRE\": 325, \"TOEFL\": 112, \"Rate\": 4, \"SOP\": 4.0, \"LOR \": 4.5, \"CGPA\": 9.17, \"Research\": 1, \"Chance\": 0.85, \"Pred\": 0.8576538109443097}, {\"GRE\": 329, \"TOEFL\": 114, \"Rate\": 5, \"SOP\": 4.5, \"LOR \": 5.0, \"CGPA\": 9.19, \"Research\": 1, \"Chance\": 0.86, \"Pred\": 0.8880620372107246}, {\"GRE\": 310, \"TOEFL\": 104, \"Rate\": 3, \"SOP\": 2.0, \"LOR \": 3.5, \"CGPA\": 8.37, \"Research\": 0, \"Chance\": 0.7, \"Pred\": 0.6670999062976015}, {\"GRE\": 299, \"TOEFL\": 100, \"Rate\": 1, \"SOP\": 1.5, \"LOR \": 2.0, \"CGPA\": 7.89, \"Research\": 0, \"Chance\": 0.59, \"Pred\": 0.5359087112823231}, {\"GRE\": 296, \"TOEFL\": 101, \"Rate\": 1, \"SOP\": 2.5, \"LOR \": 3.0, \"CGPA\": 7.68, \"Research\": 0, \"Chance\": 0.6, \"Pred\": 0.5276867264141225}, {\"GRE\": 317, \"TOEFL\": 103, \"Rate\": 2, \"SOP\": 2.5, \"LOR \": 2.0, \"CGPA\": 8.15, \"Research\": 0, \"Chance\": 0.65, \"Pred\": 0.6092765970364347}, {\"GRE\": 324, \"TOEFL\": 115, \"Rate\": 3, \"SOP\": 3.5, \"LOR \": 3.0, \"CGPA\": 8.76, \"Research\": 1, \"Chance\": 0.7, \"Pred\": 0.7783161892443615}, {\"GRE\": 325, \"TOEFL\": 114, \"Rate\": 3, \"SOP\": 3.5, \"LOR \": 3.0, \"CGPA\": 9.04, \"Research\": 1, \"Chance\": 0.76, \"Pred\": 0.8104370710056188}, {\"GRE\": 314, \"TOEFL\": 107, \"Rate\": 2, \"SOP\": 2.5, \"LOR \": 4.0, \"CGPA\": 8.56, \"Research\": 0, \"Chance\": 0.63, \"Pred\": 0.7092141002225947}, {\"GRE\": 328, \"TOEFL\": 110, \"Rate\": 4, \"SOP\": 4.0, \"LOR \": 2.5, \"CGPA\": 9.02, \"Research\": 1, \"Chance\": 0.81, \"Pred\": 0.7944797193272286}, {\"GRE\": 316, \"TOEFL\": 105, \"Rate\": 3, \"SOP\": 3.0, \"LOR \": 3.5, \"CGPA\": 8.73, \"Research\": 0, \"Chance\": 0.72, \"Pred\": 0.719956986790476}, {\"GRE\": 311, \"TOEFL\": 104, \"Rate\": 2, \"SOP\": 2.5, \"LOR \": 3.5, \"CGPA\": 8.48, \"Research\": 0, \"Chance\": 0.71, \"Pred\": 0.674551415106835}, {\"GRE\": 324, \"TOEFL\": 110, \"Rate\": 3, \"SOP\": 3.5, \"LOR \": 4.0, \"CGPA\": 8.87, \"Research\": 1, \"Chance\": 0.8, \"Pred\": 0.7991547723837684}, {\"GRE\": 321, \"TOEFL\": 111, \"Rate\": 3, \"SOP\": 3.5, \"LOR \": 4.0, \"CGPA\": 8.83, \"Research\": 1, \"Chance\": 0.77, \"Pred\": 0.7921045363437702}, {\"GRE\": 320, \"TOEFL\": 104, \"Rate\": 3, \"SOP\": 3.0, \"LOR \": 2.5, \"CGPA\": 8.57, \"Research\": 1, \"Chance\": 0.74, \"Pred\": 0.7071287226490464}, {\"GRE\": 316, \"TOEFL\": 99, \"Rate\": 2, \"SOP\": 2.5, \"LOR \": 3.0, \"CGPA\": 9.0, \"Research\": 0, \"Chance\": 0.7, \"Pred\": 0.7193125410835564}, {\"GRE\": 318, \"TOEFL\": 100, \"Rate\": 2, \"SOP\": 2.5, \"LOR \": 3.5, \"CGPA\": 8.54, \"Research\": 1, \"Chance\": 0.71, \"Pred\": 0.7066964623473782}, {\"GRE\": 335, \"TOEFL\": 115, \"Rate\": 4, \"SOP\": 4.5, \"LOR \": 4.5, \"CGPA\": 9.68, \"Research\": 1, \"Chance\": 0.93, \"Pred\": 0.942793193917179}, {\"GRE\": 321, \"TOEFL\": 114, \"Rate\": 4, \"SOP\": 4.0, \"LOR \": 5.0, \"CGPA\": 9.12, \"Research\": 0, \"Chance\": 0.85, \"Pred\": 0.8372478029831087}, {\"GRE\": 307, \"TOEFL\": 110, \"Rate\": 4, \"SOP\": 4.0, \"LOR \": 4.5, \"CGPA\": 8.37, \"Research\": 0, \"Chance\": 0.79, \"Pred\": 0.7008645798592577}, {\"GRE\": 309, \"TOEFL\": 99, \"Rate\": 3, \"SOP\": 4.0, \"LOR \": 4.0, \"CGPA\": 8.56, \"Research\": 0, \"Chance\": 0.76, \"Pred\": 0.6779293323994449}, {\"GRE\": 324, \"TOEFL\": 100, \"Rate\": 3, \"SOP\": 4.0, \"LOR \": 5.0, \"CGPA\": 8.64, \"Research\": 1, \"Chance\": 0.78, \"Pred\": 0.7633034726930263}, {\"GRE\": 326, \"TOEFL\": 102, \"Rate\": 4, \"SOP\": 5.0, \"LOR \": 5.0, \"CGPA\": 8.76, \"Research\": 1, \"Chance\": 0.77, \"Pred\": 0.7893016729904032}, {\"GRE\": 331, \"TOEFL\": 119, \"Rate\": 4, \"SOP\": 5.0, \"LOR \": 4.5, \"CGPA\": 9.34, \"Research\": 1, \"Chance\": 0.9, \"Pred\": 0.9054298561552991}, {\"GRE\": 327, \"TOEFL\": 108, \"Rate\": 5, \"SOP\": 5.0, \"LOR \": 3.5, \"CGPA\": 9.13, \"Research\": 1, \"Chance\": 0.87, \"Pred\": 0.8247511104362519}, {\"GRE\": 312, \"TOEFL\": 104, \"Rate\": 3, \"SOP\": 3.5, \"LOR \": 4.0, \"CGPA\": 8.09, \"Research\": 0, \"Chance\": 0.71, \"Pred\": 0.643490492529041}, {\"GRE\": 308, \"TOEFL\": 103, \"Rate\": 2, \"SOP\": 2.5, \"LOR \": 4.0, \"CGPA\": 8.36, \"Research\": 1, \"Chance\": 0.7, \"Pred\": 0.6878485391047269}, {\"GRE\": 324, \"TOEFL\": 111, \"Rate\": 3, \"SOP\": 2.5, \"LOR \": 1.5, \"CGPA\": 8.79, \"Research\": 1, \"Chance\": 0.7, \"Pred\": 0.7399815436370991}, {\"GRE\": 325, \"TOEFL\": 110, \"Rate\": 2, \"SOP\": 3.0, \"LOR \": 2.5, \"CGPA\": 8.76, \"Research\": 1, \"Chance\": 0.75, \"Pred\": 0.7502150794541824}, {\"GRE\": 313, \"TOEFL\": 102, \"Rate\": 3, \"SOP\": 2.5, \"LOR \": 2.5, \"CGPA\": 8.68, \"Research\": 0, \"Chance\": 0.71, \"Pred\": 0.6793385061409807}, {\"GRE\": 312, \"TOEFL\": 105, \"Rate\": 2, \"SOP\": 2.0, \"LOR \": 2.5, \"CGPA\": 8.45, \"Research\": 0, \"Chance\": 0.72, \"Pred\": 0.654939677081037}, {\"GRE\": 314, \"TOEFL\": 107, \"Rate\": 3, \"SOP\": 3.0, \"LOR \": 3.5, \"CGPA\": 8.17, \"Research\": 1, \"Chance\": 0.73, \"Pred\": 0.6802403295632842}, {\"GRE\": 327, \"TOEFL\": 113, \"Rate\": 4, \"SOP\": 4.5, \"LOR \": 5.0, \"CGPA\": 9.14, \"Research\": 0, \"Chance\": 0.83, \"Pred\": 0.8454789001416756}, {\"GRE\": 308, \"TOEFL\": 108, \"Rate\": 4, \"SOP\": 4.5, \"LOR \": 5.0, \"CGPA\": 8.34, \"Research\": 0, \"Chance\": 0.77, \"Pred\": 0.7027186333301574}, {\"GRE\": 306, \"TOEFL\": 105, \"Rate\": 2, \"SOP\": 2.5, \"LOR \": 3.0, \"CGPA\": 8.22, \"Research\": 1, \"Chance\": 0.72, \"Pred\": 0.6512082187646056}, {\"GRE\": 299, \"TOEFL\": 96, \"Rate\": 2, \"SOP\": 1.5, \"LOR \": 2.0, \"CGPA\": 7.86, \"Research\": 0, \"Chance\": 0.54, \"Pred\": 0.5263788785416328}, {\"GRE\": 294, \"TOEFL\": 95, \"Rate\": 1, \"SOP\": 1.5, \"LOR \": 1.5, \"CGPA\": 7.64, \"Research\": 0, \"Chance\": 0.49, \"Pred\": 0.47171234227918957}, {\"GRE\": 312, \"TOEFL\": 99, \"Rate\": 1, \"SOP\": 1.0, \"LOR \": 1.5, \"CGPA\": 8.01, \"Research\": 1, \"Chance\": 0.52, \"Pred\": 0.5848493464739017}, {\"GRE\": 315, \"TOEFL\": 100, \"Rate\": 1, \"SOP\": 2.0, \"LOR \": 2.5, \"CGPA\": 7.95, \"Research\": 0, \"Chance\": 0.58, \"Pred\": 0.5803676427760165}, {\"GRE\": 322, \"TOEFL\": 110, \"Rate\": 3, \"SOP\": 3.5, \"LOR \": 3.0, \"CGPA\": 8.96, \"Research\": 1, \"Chance\": 0.78, \"Pred\": 0.784031372737114}, {\"GRE\": 329, \"TOEFL\": 113, \"Rate\": 5, \"SOP\": 5.0, \"LOR \": 4.5, \"CGPA\": 9.45, \"Research\": 1, \"Chance\": 0.89, \"Pred\": 0.9032375701423148}, {\"GRE\": 320, \"TOEFL\": 101, \"Rate\": 2, \"SOP\": 2.5, \"LOR \": 3.0, \"CGPA\": 8.62, \"Research\": 0, \"Chance\": 0.7, \"Pred\": 0.6869043486345907}, {\"GRE\": 308, \"TOEFL\": 103, \"Rate\": 2, \"SOP\": 3.0, \"LOR \": 3.5, \"CGPA\": 8.49, \"Research\": 0, \"Chance\": 0.66, \"Pred\": 0.6659564135903047}, {\"GRE\": 304, \"TOEFL\": 102, \"Rate\": 2, \"SOP\": 3.0, \"LOR \": 4.0, \"CGPA\": 8.73, \"Research\": 0, \"Chance\": 0.67, \"Pred\": 0.6958092230167909}, {\"GRE\": 311, \"TOEFL\": 102, \"Rate\": 3, \"SOP\": 4.5, \"LOR \": 4.0, \"CGPA\": 8.64, \"Research\": 1, \"Chance\": 0.68, \"Pred\": 0.7225505640528014}, {\"GRE\": 317, \"TOEFL\": 110, \"Rate\": 3, \"SOP\": 4.0, \"LOR \": 4.5, \"CGPA\": 9.11, \"Research\": 1, \"Chance\": 0.8, \"Pred\": 0.8250623393916043}, {\"GRE\": 312, \"TOEFL\": 106, \"Rate\": 3, \"SOP\": 4.0, \"LOR \": 3.5, \"CGPA\": 8.79, \"Research\": 1, \"Chance\": 0.81, \"Pred\": 0.7442832217894237}, {\"GRE\": 321, \"TOEFL\": 111, \"Rate\": 3, \"SOP\": 2.5, \"LOR \": 3.0, \"CGPA\": 8.9, \"Research\": 1, \"Chance\": 0.8, \"Pred\": 0.7813823398122695}, {\"GRE\": 340, \"TOEFL\": 112, \"Rate\": 4, \"SOP\": 5.0, \"LOR \": 4.5, \"CGPA\": 9.66, \"Research\": 1, \"Chance\": 0.94, \"Pred\": 0.9386901477270004}, {\"GRE\": 331, \"TOEFL\": 116, \"Rate\": 5, \"SOP\": 4.0, \"LOR \": 4.0, \"CGPA\": 9.26, \"Research\": 1, \"Chance\": 0.93, \"Pred\": 0.8850012329325689}, {\"GRE\": 336, \"TOEFL\": 118, \"Rate\": 5, \"SOP\": 4.5, \"LOR \": 4.0, \"CGPA\": 9.19, \"Research\": 1, \"Chance\": 0.92, \"Pred\": 0.8895490981471641}, {\"GRE\": 324, \"TOEFL\": 114, \"Rate\": 5, \"SOP\": 5.0, \"LOR \": 4.5, \"CGPA\": 9.08, \"Research\": 1, \"Chance\": 0.89, \"Pred\": 0.853462491273268}, {\"GRE\": 314, \"TOEFL\": 104, \"Rate\": 4, \"SOP\": 5.0, \"LOR \": 5.0, \"CGPA\": 9.02, \"Research\": 0, \"Chance\": 0.82, \"Pred\": 0.7806910394119895}, {\"GRE\": 313, \"TOEFL\": 109, \"Rate\": 3, \"SOP\": 4.0, \"LOR \": 3.5, \"CGPA\": 9.0, \"Research\": 0, \"Chance\": 0.79, \"Pred\": 0.7552315427712666}, {\"GRE\": 307, \"TOEFL\": 105, \"Rate\": 2, \"SOP\": 2.5, \"LOR \": 3.0, \"CGPA\": 7.65, \"Research\": 0, \"Chance\": 0.58, \"Pred\": 0.5606250354899875}, {\"GRE\": 300, \"TOEFL\": 102, \"Rate\": 2, \"SOP\": 1.5, \"LOR \": 2.0, \"CGPA\": 7.87, \"Research\": 0, \"Chance\": 0.56, \"Pred\": 0.546823145550168}, {\"GRE\": 302, \"TOEFL\": 99, \"Rate\": 2, \"SOP\": 1.0, \"LOR \": 2.0, \"CGPA\": 7.97, \"Research\": 0, \"Chance\": 0.56, \"Pred\": 0.555085768123657}, {\"GRE\": 312, \"TOEFL\": 98, \"Rate\": 1, \"SOP\": 3.5, \"LOR \": 3.0, \"CGPA\": 8.18, \"Research\": 1, \"Chance\": 0.64, \"Pred\": 0.6274162451483449}, {\"GRE\": 316, \"TOEFL\": 101, \"Rate\": 2, \"SOP\": 2.5, \"LOR \": 2.0, \"CGPA\": 8.32, \"Research\": 1, \"Chance\": 0.61, \"Pred\": 0.6464448452383893}, {\"GRE\": 317, \"TOEFL\": 100, \"Rate\": 2, \"SOP\": 3.0, \"LOR \": 2.5, \"CGPA\": 8.57, \"Research\": 0, \"Chance\": 0.68, \"Pred\": 0.6599964162380594}, {\"GRE\": 310, \"TOEFL\": 107, \"Rate\": 3, \"SOP\": 3.5, \"LOR \": 3.5, \"CGPA\": 8.67, \"Research\": 0, \"Chance\": 0.76, \"Pred\": 0.706582719259887}, {\"GRE\": 320, \"TOEFL\": 120, \"Rate\": 3, \"SOP\": 4.0, \"LOR \": 4.5, \"CGPA\": 9.11, \"Research\": 0, \"Chance\": 0.86, \"Pred\": 0.8349452359785745}, {\"GRE\": 330, \"TOEFL\": 114, \"Rate\": 3, \"SOP\": 4.5, \"LOR \": 4.5, \"CGPA\": 9.24, \"Research\": 1, \"Chance\": 0.9, \"Pred\": 0.8731365415275689}, {\"GRE\": 305, \"TOEFL\": 112, \"Rate\": 3, \"SOP\": 3.0, \"LOR \": 3.5, \"CGPA\": 8.65, \"Research\": 0, \"Chance\": 0.71, \"Pred\": 0.7117673409400347}, {\"GRE\": 309, \"TOEFL\": 106, \"Rate\": 2, \"SOP\": 2.5, \"LOR \": 2.5, \"CGPA\": 8.0, \"Research\": 0, \"Chance\": 0.62, \"Pred\": 0.5974716805437223}, {\"GRE\": 319, \"TOEFL\": 108, \"Rate\": 2, \"SOP\": 2.5, \"LOR \": 3.0, \"CGPA\": 8.76, \"Research\": 0, \"Chance\": 0.66, \"Pred\": 0.7222554982856371}, {\"GRE\": 322, \"TOEFL\": 105, \"Rate\": 2, \"SOP\": 3.0, \"LOR \": 3.0, \"CGPA\": 8.45, \"Research\": 1, \"Chance\": 0.65, \"Pred\": 0.7047102937056144}, {\"GRE\": 323, \"TOEFL\": 107, \"Rate\": 3, \"SOP\": 3.5, \"LOR \": 3.5, \"CGPA\": 8.55, \"Research\": 1, \"Chance\": 0.73, \"Pred\": 0.7394214415467495}, {\"GRE\": 313, \"TOEFL\": 106, \"Rate\": 2, \"SOP\": 2.5, \"LOR \": 2.0, \"CGPA\": 8.43, \"Research\": 0, \"Chance\": 0.62, \"Pred\": 0.6443887282103222}, {\"GRE\": 321, \"TOEFL\": 109, \"Rate\": 3, \"SOP\": 3.5, \"LOR \": 3.5, \"CGPA\": 8.8, \"Research\": 1, \"Chance\": 0.74, \"Pred\": 0.7715206354378294}, {\"GRE\": 323, \"TOEFL\": 110, \"Rate\": 3, \"SOP\": 4.0, \"LOR \": 3.5, \"CGPA\": 9.1, \"Research\": 1, \"Chance\": 0.79, \"Pred\": 0.8119442869533586}, {\"GRE\": 325, \"TOEFL\": 112, \"Rate\": 4, \"SOP\": 4.0, \"LOR \": 4.0, \"CGPA\": 9.0, \"Research\": 1, \"Chance\": 0.8, \"Pred\": 0.8262575401686345}, {\"GRE\": 312, \"TOEFL\": 108, \"Rate\": 3, \"SOP\": 3.5, \"LOR \": 3.0, \"CGPA\": 8.53, \"Research\": 0, \"Chance\": 0.69, \"Pred\": 0.6851490320510762}, {\"GRE\": 308, \"TOEFL\": 110, \"Rate\": 4, \"SOP\": 3.5, \"LOR \": 3.0, \"CGPA\": 8.6, \"Research\": 0, \"Chance\": 0.7, \"Pred\": 0.6980809592875834}, {\"GRE\": 320, \"TOEFL\": 104, \"Rate\": 3, \"SOP\": 3.0, \"LOR \": 3.5, \"CGPA\": 8.74, \"Research\": 1, \"Chance\": 0.76, \"Pred\": 0.749701557088901}, {\"GRE\": 328, \"TOEFL\": 108, \"Rate\": 4, \"SOP\": 4.5, \"LOR \": 4.0, \"CGPA\": 9.18, \"Research\": 1, \"Chance\": 0.84, \"Pred\": 0.8395479847389089}, {\"GRE\": 311, \"TOEFL\": 107, \"Rate\": 4, \"SOP\": 4.5, \"LOR \": 4.5, \"CGPA\": 9.0, \"Research\": 1, \"Chance\": 0.78, \"Pred\": 0.7968598732314589}, {\"GRE\": 301, \"TOEFL\": 100, \"Rate\": 3, \"SOP\": 3.5, \"LOR \": 3.0, \"CGPA\": 8.04, \"Research\": 0, \"Chance\": 0.67, \"Pred\": 0.5844005579719747}, {\"GRE\": 305, \"TOEFL\": 105, \"Rate\": 2, \"SOP\": 3.0, \"LOR \": 4.0, \"CGPA\": 8.13, \"Research\": 0, \"Chance\": 0.66, \"Pred\": 0.6349416928803613}, {\"GRE\": 308, \"TOEFL\": 104, \"Rate\": 2, \"SOP\": 2.5, \"LOR \": 3.0, \"CGPA\": 8.07, \"Research\": 0, \"Chance\": 0.65, \"Pred\": 0.6093974407548299}, {\"GRE\": 298, \"TOEFL\": 101, \"Rate\": 2, \"SOP\": 1.5, \"LOR \": 2.0, \"CGPA\": 7.86, \"Research\": 0, \"Chance\": 0.54, \"Pred\": 0.5392393510552442}, {\"GRE\": 300, \"TOEFL\": 99, \"Rate\": 1, \"SOP\": 1.0, \"LOR \": 2.5, \"CGPA\": 8.01, \"Research\": 0, \"Chance\": 0.58, \"Pred\": 0.5618284286547686}, {\"GRE\": 324, \"TOEFL\": 111, \"Rate\": 3, \"SOP\": 2.5, \"LOR \": 2.0, \"CGPA\": 8.8, \"Research\": 1, \"Chance\": 0.79, \"Pred\": 0.7523475018372492}, {\"GRE\": 327, \"TOEFL\": 113, \"Rate\": 4, \"SOP\": 3.5, \"LOR \": 3.0, \"CGPA\": 8.69, \"Research\": 1, \"Chance\": 0.8, \"Pred\": 0.775080166706682}, {\"GRE\": 317, \"TOEFL\": 106, \"Rate\": 3, \"SOP\": 4.0, \"LOR \": 3.5, \"CGPA\": 8.5, \"Research\": 1, \"Chance\": 0.75, \"Pred\": 0.718477838101355}, {\"GRE\": 323, \"TOEFL\": 104, \"Rate\": 3, \"SOP\": 4.0, \"LOR \": 4.0, \"CGPA\": 8.44, \"Research\": 1, \"Chance\": 0.73, \"Pred\": 0.7271033503419471}, {\"GRE\": 314, \"TOEFL\": 107, \"Rate\": 2, \"SOP\": 2.5, \"LOR \": 4.0, \"CGPA\": 8.27, \"Research\": 0, \"Chance\": 0.72, \"Pred\": 0.6747216586794555}, {\"GRE\": 305, \"TOEFL\": 102, \"Rate\": 2, \"SOP\": 2.0, \"LOR \": 2.5, \"CGPA\": 8.18, \"Research\": 0, \"Chance\": 0.62, \"Pred\": 0.6019054131619646}, {\"GRE\": 315, \"TOEFL\": 104, \"Rate\": 3, \"SOP\": 3.0, \"LOR \": 2.5, \"CGPA\": 8.33, \"Research\": 0, \"Chance\": 0.67, \"Pred\": 0.6453710896353648}, {\"GRE\": 326, \"TOEFL\": 116, \"Rate\": 3, \"SOP\": 3.5, \"LOR \": 4.0, \"CGPA\": 9.14, \"Research\": 1, \"Chance\": 0.81, \"Pred\": 0.8522607088985461}, {\"GRE\": 299, \"TOEFL\": 100, \"Rate\": 3, \"SOP\": 2.0, \"LOR \": 2.0, \"CGPA\": 8.02, \"Research\": 0, \"Chance\": 0.63, \"Pred\": 0.561151571997246}, {\"GRE\": 295, \"TOEFL\": 101, \"Rate\": 2, \"SOP\": 2.5, \"LOR \": 2.0, \"CGPA\": 7.86, \"Research\": 0, \"Chance\": 0.69, \"Pred\": 0.5307219472971356}, {\"GRE\": 324, \"TOEFL\": 112, \"Rate\": 4, \"SOP\": 4.0, \"LOR \": 3.5, \"CGPA\": 8.77, \"Research\": 1, \"Chance\": 0.8, \"Pred\": 0.7859874906061235}, {\"GRE\": 297, \"TOEFL\": 96, \"Rate\": 2, \"SOP\": 2.5, \"LOR \": 1.5, \"CGPA\": 7.89, \"Research\": 0, \"Chance\": 0.43, \"Pred\": 0.5119905062982693}, {\"GRE\": 327, \"TOEFL\": 113, \"Rate\": 3, \"SOP\": 3.5, \"LOR \": 3.0, \"CGPA\": 8.66, \"Research\": 1, \"Chance\": 0.8, \"Pred\": 0.76579532496385}, {\"GRE\": 311, \"TOEFL\": 105, \"Rate\": 2, \"SOP\": 3.0, \"LOR \": 2.0, \"CGPA\": 8.12, \"Research\": 1, \"Chance\": 0.73, \"Pred\": 0.6239956194090799}, {\"GRE\": 308, \"TOEFL\": 106, \"Rate\": 3, \"SOP\": 3.5, \"LOR \": 2.5, \"CGPA\": 8.21, \"Research\": 1, \"Chance\": 0.75, \"Pred\": 0.6476481496132633}, {\"GRE\": 319, \"TOEFL\": 108, \"Rate\": 3, \"SOP\": 3.0, \"LOR \": 3.5, \"CGPA\": 8.54, \"Research\": 1, \"Chance\": 0.71, \"Pred\": 0.7358545620661809}, {\"GRE\": 312, \"TOEFL\": 107, \"Rate\": 4, \"SOP\": 4.5, \"LOR \": 4.0, \"CGPA\": 8.65, \"Research\": 1, \"Chance\": 0.73, \"Pred\": 0.7457919123793324}, {\"GRE\": 325, \"TOEFL\": 111, \"Rate\": 4, \"SOP\": 4.0, \"LOR \": 4.5, \"CGPA\": 9.11, \"Research\": 1, \"Chance\": 0.83, \"Pred\": 0.8475978669115631}, {\"GRE\": 319, \"TOEFL\": 110, \"Rate\": 3, \"SOP\": 3.0, \"LOR \": 2.5, \"CGPA\": 8.79, \"Research\": 0, \"Chance\": 0.72, \"Pred\": 0.7245503454756064}, {\"GRE\": 332, \"TOEFL\": 118, \"Rate\": 5, \"SOP\": 5.0, \"LOR \": 5.0, \"CGPA\": 9.47, \"Research\": 1, \"Chance\": 0.94, \"Pred\": 0.9366030416761031}, {\"GRE\": 323, \"TOEFL\": 108, \"Rate\": 5, \"SOP\": 4.0, \"LOR \": 4.0, \"CGPA\": 8.74, \"Research\": 1, \"Chance\": 0.81, \"Pred\": 0.7858968099585992}, {\"GRE\": 324, \"TOEFL\": 107, \"Rate\": 5, \"SOP\": 3.5, \"LOR \": 4.0, \"CGPA\": 8.66, \"Research\": 1, \"Chance\": 0.81, \"Pred\": 0.7768520729474584}, {\"GRE\": 312, \"TOEFL\": 107, \"Rate\": 3, \"SOP\": 3.0, \"LOR \": 3.0, \"CGPA\": 8.46, \"Research\": 1, \"Chance\": 0.75, \"Pred\": 0.7000813843002154}, {\"GRE\": 326, \"TOEFL\": 110, \"Rate\": 3, \"SOP\": 3.5, \"LOR \": 3.5, \"CGPA\": 8.76, \"Research\": 1, \"Chance\": 0.79, \"Pred\": 0.7783696919659435}, {\"GRE\": 308, \"TOEFL\": 106, \"Rate\": 3, \"SOP\": 3.0, \"LOR \": 3.0, \"CGPA\": 8.24, \"Research\": 0, \"Chance\": 0.58, \"Pred\": 0.6395203751125633}, {\"GRE\": 305, \"TOEFL\": 103, \"Rate\": 2, \"SOP\": 2.5, \"LOR \": 3.5, \"CGPA\": 8.13, \"Research\": 0, \"Chance\": 0.59, \"Pred\": 0.6195785601048642}, {\"GRE\": 295, \"TOEFL\": 96, \"Rate\": 2, \"SOP\": 1.5, \"LOR \": 2.0, \"CGPA\": 7.34, \"Research\": 0, \"Chance\": 0.47, \"Pred\": 0.45758071638711995}, {\"GRE\": 316, \"TOEFL\": 98, \"Rate\": 1, \"SOP\": 1.5, \"LOR \": 2.0, \"CGPA\": 7.43, \"Research\": 0, \"Chance\": 0.49, \"Pred\": 0.5048934057010774}, {\"GRE\": 304, \"TOEFL\": 97, \"Rate\": 2, \"SOP\": 1.5, \"LOR \": 2.0, \"CGPA\": 7.64, \"Research\": 0, \"Chance\": 0.47, \"Pred\": 0.5118188334222811}, {\"GRE\": 299, \"TOEFL\": 94, \"Rate\": 1, \"SOP\": 1.0, \"LOR \": 1.0, \"CGPA\": 7.34, \"Research\": 0, \"Chance\": 0.42, \"Pred\": 0.43227400809657857}, {\"GRE\": 302, \"TOEFL\": 99, \"Rate\": 1, \"SOP\": 2.0, \"LOR \": 2.0, \"CGPA\": 7.25, \"Research\": 0, \"Chance\": 0.57, \"Pred\": 0.46042753435380646}, {\"GRE\": 313, \"TOEFL\": 101, \"Rate\": 3, \"SOP\": 2.5, \"LOR \": 3.0, \"CGPA\": 8.04, \"Research\": 0, \"Chance\": 0.62, \"Pred\": 0.6114742426861348}, {\"GRE\": 318, \"TOEFL\": 107, \"Rate\": 3, \"SOP\": 3.0, \"LOR \": 3.5, \"CGPA\": 8.27, \"Research\": 1, \"Chance\": 0.74, \"Pred\": 0.6990839212070434}, {\"GRE\": 325, \"TOEFL\": 110, \"Rate\": 4, \"SOP\": 3.5, \"LOR \": 4.0, \"CGPA\": 8.67, \"Research\": 1, \"Chance\": 0.73, \"Pred\": 0.7828209513702971}, {\"GRE\": 303, \"TOEFL\": 100, \"Rate\": 2, \"SOP\": 3.0, \"LOR \": 3.5, \"CGPA\": 8.06, \"Research\": 1, \"Chance\": 0.64, \"Pred\": 0.621891766533059}, {\"GRE\": 300, \"TOEFL\": 102, \"Rate\": 3, \"SOP\": 3.5, \"LOR \": 2.5, \"CGPA\": 8.17, \"Research\": 0, \"Chance\": 0.63, \"Pred\": 0.5927878653382455}, {\"GRE\": 297, \"TOEFL\": 98, \"Rate\": 2, \"SOP\": 2.5, \"LOR \": 3.0, \"CGPA\": 7.67, \"Research\": 0, \"Chance\": 0.59, \"Pred\": 0.5251926711333117}, {\"GRE\": 317, \"TOEFL\": 106, \"Rate\": 2, \"SOP\": 2.0, \"LOR \": 3.5, \"CGPA\": 8.12, \"Research\": 0, \"Chance\": 0.73, \"Pred\": 0.6496494193943712}, {\"GRE\": 327, \"TOEFL\": 109, \"Rate\": 3, \"SOP\": 3.5, \"LOR \": 4.0, \"CGPA\": 8.77, \"Research\": 1, \"Chance\": 0.79, \"Pred\": 0.7895534849201822}, {\"GRE\": 301, \"TOEFL\": 104, \"Rate\": 2, \"SOP\": 3.5, \"LOR \": 3.5, \"CGPA\": 7.89, \"Research\": 1, \"Chance\": 0.68, \"Pred\": 0.6082229590247028}, {\"GRE\": 314, \"TOEFL\": 105, \"Rate\": 2, \"SOP\": 2.5, \"LOR \": 2.0, \"CGPA\": 7.64, \"Research\": 0, \"Chance\": 0.7, \"Pred\": 0.5492443946227563}, {\"GRE\": 321, \"TOEFL\": 107, \"Rate\": 2, \"SOP\": 2.0, \"LOR \": 1.5, \"CGPA\": 8.44, \"Research\": 0, \"Chance\": 0.81, \"Pred\": 0.652873012989684}, {\"GRE\": 322, \"TOEFL\": 110, \"Rate\": 3, \"SOP\": 4.0, \"LOR \": 5.0, \"CGPA\": 8.64, \"Research\": 1, \"Chance\": 0.85, \"Pred\": 0.7890244177202492}, {\"GRE\": 334, \"TOEFL\": 116, \"Rate\": 4, \"SOP\": 4.0, \"LOR \": 3.5, \"CGPA\": 9.54, \"Research\": 1, \"Chance\": 0.93, \"Pred\": 0.906623292853679}, {\"GRE\": 338, \"TOEFL\": 115, \"Rate\": 5, \"SOP\": 4.5, \"LOR \": 5.0, \"CGPA\": 9.23, \"Research\": 1, \"Chance\": 0.91, \"Pred\": 0.9113758963106575}, {\"GRE\": 306, \"TOEFL\": 103, \"Rate\": 2, \"SOP\": 2.5, \"LOR \": 3.0, \"CGPA\": 8.36, \"Research\": 0, \"Chance\": 0.69, \"Pred\": 0.637495482339016}, {\"GRE\": 313, \"TOEFL\": 102, \"Rate\": 3, \"SOP\": 3.5, \"LOR \": 4.0, \"CGPA\": 8.9, \"Research\": 1, \"Chance\": 0.77, \"Pred\": 0.7602548141751237}, {\"GRE\": 330, \"TOEFL\": 114, \"Rate\": 4, \"SOP\": 4.5, \"LOR \": 3.0, \"CGPA\": 9.17, \"Research\": 1, \"Chance\": 0.86, \"Pred\": 0.8369977469181584}, {\"GRE\": 320, \"TOEFL\": 104, \"Rate\": 3, \"SOP\": 3.5, \"LOR \": 4.5, \"CGPA\": 8.34, \"Research\": 1, \"Chance\": 0.74, \"Pred\": 0.7228263184559145}, {\"GRE\": 311, \"TOEFL\": 98, \"Rate\": 1, \"SOP\": 1.0, \"LOR \": 2.5, \"CGPA\": 7.46, \"Research\": 0, \"Chance\": 0.57, \"Pred\": 0.5126036796406306}, {\"GRE\": 298, \"TOEFL\": 92, \"Rate\": 1, \"SOP\": 2.0, \"LOR \": 2.0, \"CGPA\": 7.88, \"Research\": 0, \"Chance\": 0.51, \"Pred\": 0.5079727061174046}, {\"GRE\": 301, \"TOEFL\": 98, \"Rate\": 1, \"SOP\": 2.0, \"LOR \": 3.0, \"CGPA\": 8.03, \"Research\": 1, \"Chance\": 0.67, \"Pred\": 0.5954215533952352}, {\"GRE\": 310, \"TOEFL\": 103, \"Rate\": 2, \"SOP\": 2.5, \"LOR \": 2.5, \"CGPA\": 8.24, \"Research\": 0, \"Chance\": 0.72, \"Pred\": 0.6189958305272487}, {\"GRE\": 324, \"TOEFL\": 110, \"Rate\": 3, \"SOP\": 3.5, \"LOR \": 3.0, \"CGPA\": 9.22, \"Research\": 1, \"Chance\": 0.89, \"Pred\": 0.8184304538143705}, {\"GRE\": 336, \"TOEFL\": 119, \"Rate\": 4, \"SOP\": 4.5, \"LOR \": 4.0, \"CGPA\": 9.62, \"Research\": 1, \"Chance\": 0.95, \"Pred\": 0.9378959818758916}, {\"GRE\": 321, \"TOEFL\": 109, \"Rate\": 3, \"SOP\": 3.0, \"LOR \": 3.0, \"CGPA\": 8.54, \"Research\": 1, \"Chance\": 0.79, \"Pred\": 0.7310723983609546}, {\"GRE\": 315, \"TOEFL\": 105, \"Rate\": 2, \"SOP\": 2.0, \"LOR \": 2.5, \"CGPA\": 7.65, \"Research\": 0, \"Chance\": 0.39, \"Pred\": 0.5650003489164537}, {\"GRE\": 304, \"TOEFL\": 101, \"Rate\": 2, \"SOP\": 2.0, \"LOR \": 2.5, \"CGPA\": 7.66, \"Research\": 0, \"Chance\": 0.38, \"Pred\": 0.5353999089035688}, {\"GRE\": 297, \"TOEFL\": 96, \"Rate\": 2, \"SOP\": 2.5, \"LOR \": 2.0, \"CGPA\": 7.43, \"Research\": 0, \"Chance\": 0.34, \"Pred\": 0.46845492130781463}, {\"GRE\": 290, \"TOEFL\": 100, \"Rate\": 1, \"SOP\": 1.5, \"LOR \": 2.0, \"CGPA\": 7.56, \"Research\": 0, \"Chance\": 0.47, \"Pred\": 0.48102198745617586}, {\"GRE\": 303, \"TOEFL\": 98, \"Rate\": 1, \"SOP\": 2.0, \"LOR \": 2.5, \"CGPA\": 7.65, \"Research\": 0, \"Chance\": 0.56, \"Pred\": 0.517997714210888}, {\"GRE\": 311, \"TOEFL\": 99, \"Rate\": 1, \"SOP\": 2.5, \"LOR \": 3.0, \"CGPA\": 8.43, \"Research\": 1, \"Chance\": 0.71, \"Pred\": 0.6616384428385804}, {\"GRE\": 322, \"TOEFL\": 104, \"Rate\": 3, \"SOP\": 3.5, \"LOR \": 4.0, \"CGPA\": 8.84, \"Research\": 1, \"Chance\": 0.78, \"Pred\": 0.7745943047322787}, {\"GRE\": 319, \"TOEFL\": 105, \"Rate\": 3, \"SOP\": 3.0, \"LOR \": 3.5, \"CGPA\": 8.67, \"Research\": 1, \"Chance\": 0.73, \"Pred\": 0.7425579605830197}, {\"GRE\": 324, \"TOEFL\": 110, \"Rate\": 4, \"SOP\": 4.5, \"LOR \": 4.0, \"CGPA\": 9.15, \"Research\": 1, \"Chance\": 0.82, \"Pred\": 0.8348693084807921}, {\"GRE\": 300, \"TOEFL\": 100, \"Rate\": 3, \"SOP\": 3.0, \"LOR \": 3.5, \"CGPA\": 8.26, \"Research\": 0, \"Chance\": 0.62, \"Pred\": 0.6216589743790204}, {\"GRE\": 340, \"TOEFL\": 113, \"Rate\": 4, \"SOP\": 5.0, \"LOR \": 5.0, \"CGPA\": 9.74, \"Research\": 1, \"Chance\": 0.96, \"Pred\": 0.9623014444958675}, {\"GRE\": 335, \"TOEFL\": 117, \"Rate\": 5, \"SOP\": 5.0, \"LOR \": 5.0, \"CGPA\": 9.82, \"Research\": 1, \"Chance\": 0.96, \"Pred\": 0.9805245083311813}, {\"GRE\": 302, \"TOEFL\": 101, \"Rate\": 2, \"SOP\": 2.5, \"LOR \": 3.5, \"CGPA\": 7.96, \"Research\": 0, \"Chance\": 0.46, \"Pred\": 0.5883074646464765}, {\"GRE\": 307, \"TOEFL\": 105, \"Rate\": 2, \"SOP\": 2.0, \"LOR \": 3.5, \"CGPA\": 8.1, \"Research\": 0, \"Chance\": 0.53, \"Pred\": 0.6269769377953647}, {\"GRE\": 296, \"TOEFL\": 97, \"Rate\": 2, \"SOP\": 1.5, \"LOR \": 2.0, \"CGPA\": 7.8, \"Research\": 0, \"Chance\": 0.49, \"Pred\": 0.5169498534296937}, {\"GRE\": 320, \"TOEFL\": 108, \"Rate\": 3, \"SOP\": 3.5, \"LOR \": 4.0, \"CGPA\": 8.44, \"Research\": 1, \"Chance\": 0.76, \"Pred\": 0.7352220074191385}, {\"GRE\": 314, \"TOEFL\": 102, \"Rate\": 2, \"SOP\": 2.0, \"LOR \": 2.5, \"CGPA\": 8.24, \"Research\": 0, \"Chance\": 0.64, \"Pred\": 0.6246784845169131}, {\"GRE\": 318, \"TOEFL\": 106, \"Rate\": 3, \"SOP\": 2.0, \"LOR \": 3.0, \"CGPA\": 8.65, \"Research\": 0, \"Chance\": 0.71, \"Pred\": 0.7089648358425535}, {\"GRE\": 326, \"TOEFL\": 112, \"Rate\": 4, \"SOP\": 4.0, \"LOR \": 3.5, \"CGPA\": 9.12, \"Research\": 1, \"Chance\": 0.84, \"Pred\": 0.8310911225071129}, {\"GRE\": 317, \"TOEFL\": 104, \"Rate\": 2, \"SOP\": 3.0, \"LOR \": 3.0, \"CGPA\": 8.76, \"Research\": 0, \"Chance\": 0.77, \"Pred\": 0.7054497833533755}, {\"GRE\": 329, \"TOEFL\": 111, \"Rate\": 4, \"SOP\": 4.5, \"LOR \": 4.0, \"CGPA\": 9.23, \"Research\": 1, \"Chance\": 0.89, \"Pred\": 0.8559910994405502}, {\"GRE\": 324, \"TOEFL\": 110, \"Rate\": 3, \"SOP\": 3.5, \"LOR \": 3.5, \"CGPA\": 9.04, \"Research\": 1, \"Chance\": 0.82, \"Pred\": 0.8081979158310839}, {\"GRE\": 325, \"TOEFL\": 107, \"Rate\": 3, \"SOP\": 3.0, \"LOR \": 3.5, \"CGPA\": 9.11, \"Research\": 1, \"Chance\": 0.84, \"Pred\": 0.8111549432256482}, {\"GRE\": 330, \"TOEFL\": 116, \"Rate\": 4, \"SOP\": 5.0, \"LOR \": 4.5, \"CGPA\": 9.45, \"Research\": 1, \"Chance\": 0.91, \"Pred\": 0.9080170540291832}, {\"GRE\": 312, \"TOEFL\": 103, \"Rate\": 3, \"SOP\": 3.5, \"LOR \": 4.0, \"CGPA\": 8.78, \"Research\": 0, \"Chance\": 0.67, \"Pred\": 0.7226391386940676}, {\"GRE\": 333, \"TOEFL\": 117, \"Rate\": 4, \"SOP\": 5.0, \"LOR \": 4.0, \"CGPA\": 9.66, \"Research\": 1, \"Chance\": 0.95, \"Pred\": 0.9299495871503478}]}}, {\"mode\": \"vega-lite\"});\n",
       "</script>"
      ],
      "text/plain": [
       "alt.Chart(...)"
      ]
     },
     "execution_count": 57,
     "metadata": {},
     "output_type": "execute_result"
    }
   ],
   "source": [
    "alt.Chart(df).mark_circle().encode(\n",
    "    x=alt.X('GRE', scale=alt.Scale(zero=False)),\n",
    "    y=alt.Y('Chance',scale=alt.Scale(zero=False)),\n",
    "    color=\"CGPA\"\n",
    ")"
   ]
  },
  {
   "cell_type": "markdown",
   "metadata": {
    "cell_id": "6560a34da5f94ead96cb8f37a840e4e3",
    "deepnote_cell_type": "markdown",
    "tags": []
   },
   "source": [
    "Both chart are similar that student who having a good score also did well in other aspects. Now I want to see how the university rating and GPA affect the chance."
   ]
  },
  {
   "cell_type": "code",
   "execution_count": 60,
   "metadata": {
    "cell_id": "35cc8b4b35a74409b6c79607f4d5fe61",
    "deepnote_cell_type": "code",
    "deepnote_to_be_reexecuted": false,
    "execution_millis": 7,
    "execution_start": 1670293823495,
    "source_hash": "ddc0c27d",
    "tags": []
   },
   "outputs": [
    {
     "data": {
      "text/html": [
       "\n",
       "<div id=\"altair-viz-226e0a9333d34e6683e1652dae62e981\"></div>\n",
       "<script type=\"text/javascript\">\n",
       "  var VEGA_DEBUG = (typeof VEGA_DEBUG == \"undefined\") ? {} : VEGA_DEBUG;\n",
       "  (function(spec, embedOpt){\n",
       "    let outputDiv = document.currentScript.previousElementSibling;\n",
       "    if (outputDiv.id !== \"altair-viz-226e0a9333d34e6683e1652dae62e981\") {\n",
       "      outputDiv = document.getElementById(\"altair-viz-226e0a9333d34e6683e1652dae62e981\");\n",
       "    }\n",
       "    const paths = {\n",
       "      \"vega\": \"https://cdn.jsdelivr.net/npm//vega@5?noext\",\n",
       "      \"vega-lib\": \"https://cdn.jsdelivr.net/npm//vega-lib?noext\",\n",
       "      \"vega-lite\": \"https://cdn.jsdelivr.net/npm//vega-lite@4.17.0?noext\",\n",
       "      \"vega-embed\": \"https://cdn.jsdelivr.net/npm//vega-embed@6?noext\",\n",
       "    };\n",
       "\n",
       "    function maybeLoadScript(lib, version) {\n",
       "      var key = `${lib.replace(\"-\", \"\")}_version`;\n",
       "      return (VEGA_DEBUG[key] == version) ?\n",
       "        Promise.resolve(paths[lib]) :\n",
       "        new Promise(function(resolve, reject) {\n",
       "          var s = document.createElement('script');\n",
       "          document.getElementsByTagName(\"head\")[0].appendChild(s);\n",
       "          s.async = true;\n",
       "          s.onload = () => {\n",
       "            VEGA_DEBUG[key] = version;\n",
       "            return resolve(paths[lib]);\n",
       "          };\n",
       "          s.onerror = () => reject(`Error loading script: ${paths[lib]}`);\n",
       "          s.src = paths[lib];\n",
       "        });\n",
       "    }\n",
       "\n",
       "    function showError(err) {\n",
       "      outputDiv.innerHTML = `<div class=\"error\" style=\"color:red;\">${err}</div>`;\n",
       "      throw err;\n",
       "    }\n",
       "\n",
       "    function displayChart(vegaEmbed) {\n",
       "      vegaEmbed(outputDiv, spec, embedOpt)\n",
       "        .catch(err => showError(`Javascript Error: ${err.message}<br>This usually means there's a typo in your chart specification. See the javascript console for the full traceback.`));\n",
       "    }\n",
       "\n",
       "    if(typeof define === \"function\" && define.amd) {\n",
       "      requirejs.config({paths});\n",
       "      require([\"vega-embed\"], displayChart, err => showError(`Error loading script: ${err.message}`));\n",
       "    } else {\n",
       "      maybeLoadScript(\"vega\", \"5\")\n",
       "        .then(() => maybeLoadScript(\"vega-lite\", \"4.17.0\"))\n",
       "        .then(() => maybeLoadScript(\"vega-embed\", \"6\"))\n",
       "        .catch(showError)\n",
       "        .then(() => displayChart(vegaEmbed));\n",
       "    }\n",
       "  })({\"config\": {\"view\": {\"continuousWidth\": 400, \"continuousHeight\": 300}}, \"data\": {\"name\": \"data-0440f94df845976d912bc1088d6f3c5b\"}, \"facet\": {\"column\": {\"field\": \"Rate\", \"type\": \"quantitative\"}}, \"spec\": {\"mark\": \"circle\", \"encoding\": {\"x\": {\"field\": \"CGPA\", \"scale\": {\"zero\": false}, \"type\": \"quantitative\"}, \"y\": {\"field\": \"Chance\", \"scale\": {\"zero\": false}, \"type\": \"quantitative\"}}}, \"$schema\": \"https://vega.github.io/schema/vega-lite/v4.17.0.json\", \"datasets\": {\"data-0440f94df845976d912bc1088d6f3c5b\": [{\"GRE\": 337, \"TOEFL\": 118, \"Rate\": 4, \"SOP\": 4.5, \"LOR \": 4.5, \"CGPA\": 9.65, \"Research\": 1, \"Chance\": 0.92, \"Pred\": 0.9514585639020716}, {\"GRE\": 324, \"TOEFL\": 107, \"Rate\": 4, \"SOP\": 4.0, \"LOR \": 4.5, \"CGPA\": 8.87, \"Research\": 1, \"Chance\": 0.76, \"Pred\": 0.8056366792095606}, {\"GRE\": 316, \"TOEFL\": 104, \"Rate\": 3, \"SOP\": 3.0, \"LOR \": 3.5, \"CGPA\": 8.0, \"Research\": 1, \"Chance\": 0.72, \"Pred\": 0.6547367151430412}, {\"GRE\": 322, \"TOEFL\": 110, \"Rate\": 3, \"SOP\": 3.5, \"LOR \": 2.5, \"CGPA\": 8.67, \"Research\": 1, \"Chance\": 0.8, \"Pred\": 0.7383623675297954}, {\"GRE\": 314, \"TOEFL\": 103, \"Rate\": 2, \"SOP\": 2.0, \"LOR \": 3.0, \"CGPA\": 8.21, \"Research\": 0, \"Chance\": 0.65, \"Pred\": 0.6352064413901071}, {\"GRE\": 330, \"TOEFL\": 115, \"Rate\": 5, \"SOP\": 4.5, \"LOR \": 3.0, \"CGPA\": 9.34, \"Research\": 1, \"Chance\": 0.9, \"Pred\": 0.8658536889815001}, {\"GRE\": 321, \"TOEFL\": 109, \"Rate\": 3, \"SOP\": 3.0, \"LOR \": 4.0, \"CGPA\": 8.2, \"Research\": 1, \"Chance\": 0.75, \"Pred\": 0.7129861114663232}, {\"GRE\": 308, \"TOEFL\": 101, \"Rate\": 2, \"SOP\": 3.0, \"LOR \": 4.0, \"CGPA\": 7.9, \"Research\": 0, \"Chance\": 0.68, \"Pred\": 0.6011195459983856}, {\"GRE\": 302, \"TOEFL\": 102, \"Rate\": 1, \"SOP\": 2.0, \"LOR \": 1.5, \"CGPA\": 8.0, \"Research\": 0, \"Chance\": 0.5, \"Pred\": 0.5472142913381763}, {\"GRE\": 323, \"TOEFL\": 108, \"Rate\": 3, \"SOP\": 3.5, \"LOR \": 3.0, \"CGPA\": 8.6, \"Research\": 0, \"Chance\": 0.45, \"Pred\": 0.7125863210840231}, {\"GRE\": 325, \"TOEFL\": 106, \"Rate\": 3, \"SOP\": 3.5, \"LOR \": 4.0, \"CGPA\": 8.4, \"Research\": 1, \"Chance\": 0.52, \"Pred\": 0.7333123334964773}, {\"GRE\": 327, \"TOEFL\": 111, \"Rate\": 4, \"SOP\": 4.0, \"LOR \": 4.5, \"CGPA\": 9.0, \"Research\": 1, \"Chance\": 0.84, \"Pred\": 0.8379893501579174}, {\"GRE\": 328, \"TOEFL\": 112, \"Rate\": 4, \"SOP\": 4.0, \"LOR \": 4.5, \"CGPA\": 9.1, \"Research\": 1, \"Chance\": 0.78, \"Pred\": 0.8545402839055598}, {\"GRE\": 307, \"TOEFL\": 109, \"Rate\": 3, \"SOP\": 4.0, \"LOR \": 3.0, \"CGPA\": 8.0, \"Research\": 1, \"Chance\": 0.62, \"Pred\": 0.6392161623792942}, {\"GRE\": 311, \"TOEFL\": 104, \"Rate\": 3, \"SOP\": 3.5, \"LOR \": 2.0, \"CGPA\": 8.2, \"Research\": 1, \"Chance\": 0.61, \"Pred\": 0.6346552724923049}, {\"GRE\": 314, \"TOEFL\": 105, \"Rate\": 3, \"SOP\": 3.5, \"LOR \": 2.5, \"CGPA\": 8.3, \"Research\": 0, \"Chance\": 0.54, \"Pred\": 0.6413324867508319}, {\"GRE\": 317, \"TOEFL\": 107, \"Rate\": 3, \"SOP\": 4.0, \"LOR \": 3.0, \"CGPA\": 8.7, \"Research\": 0, \"Chance\": 0.66, \"Pred\": 0.7094836356781833}, {\"GRE\": 319, \"TOEFL\": 106, \"Rate\": 3, \"SOP\": 4.0, \"LOR \": 3.0, \"CGPA\": 8.0, \"Research\": 1, \"Chance\": 0.65, \"Pred\": 0.6513063707806876}, {\"GRE\": 318, \"TOEFL\": 110, \"Rate\": 3, \"SOP\": 4.0, \"LOR \": 3.0, \"CGPA\": 8.8, \"Research\": 0, \"Chance\": 0.63, \"Pred\": 0.7318737230596761}, {\"GRE\": 303, \"TOEFL\": 102, \"Rate\": 3, \"SOP\": 3.5, \"LOR \": 3.0, \"CGPA\": 8.5, \"Research\": 0, \"Chance\": 0.62, \"Pred\": 0.6484266834024879}, {\"GRE\": 312, \"TOEFL\": 107, \"Rate\": 3, \"SOP\": 3.0, \"LOR \": 2.0, \"CGPA\": 7.9, \"Research\": 1, \"Chance\": 0.64, \"Pred\": 0.6111221629575181}, {\"GRE\": 325, \"TOEFL\": 114, \"Rate\": 4, \"SOP\": 3.0, \"LOR \": 2.0, \"CGPA\": 8.4, \"Research\": 0, \"Chance\": 0.7, \"Pred\": 0.6948068297372902}, {\"GRE\": 328, \"TOEFL\": 116, \"Rate\": 5, \"SOP\": 5.0, \"LOR \": 5.0, \"CGPA\": 9.5, \"Research\": 1, \"Chance\": 0.94, \"Pred\": 0.9273824253661076}, {\"GRE\": 334, \"TOEFL\": 119, \"Rate\": 5, \"SOP\": 5.0, \"LOR \": 4.5, \"CGPA\": 9.7, \"Research\": 1, \"Chance\": 0.95, \"Pred\": 0.9591769522981941}, {\"GRE\": 336, \"TOEFL\": 119, \"Rate\": 5, \"SOP\": 4.0, \"LOR \": 3.5, \"CGPA\": 9.8, \"Research\": 1, \"Chance\": 0.97, \"Pred\": 0.9554977625166321}, {\"GRE\": 340, \"TOEFL\": 120, \"Rate\": 5, \"SOP\": 4.5, \"LOR \": 4.5, \"CGPA\": 9.6, \"Research\": 1, \"Chance\": 0.94, \"Pred\": 0.9622796377040335}, {\"GRE\": 322, \"TOEFL\": 109, \"Rate\": 5, \"SOP\": 4.5, \"LOR \": 3.5, \"CGPA\": 8.8, \"Research\": 0, \"Chance\": 0.76, \"Pred\": 0.7568610879382958}, {\"GRE\": 298, \"TOEFL\": 98, \"Rate\": 2, \"SOP\": 1.5, \"LOR \": 2.5, \"CGPA\": 7.5, \"Research\": 1, \"Chance\": 0.44, \"Pred\": 0.5233640872690408}, {\"GRE\": 295, \"TOEFL\": 93, \"Rate\": 1, \"SOP\": 2.0, \"LOR \": 2.0, \"CGPA\": 7.2, \"Research\": 0, \"Chance\": 0.46, \"Pred\": 0.42480121977530594}, {\"GRE\": 310, \"TOEFL\": 99, \"Rate\": 2, \"SOP\": 1.5, \"LOR \": 2.0, \"CGPA\": 7.3, \"Research\": 0, \"Chance\": 0.54, \"Pred\": 0.48764304225922483}, {\"GRE\": 300, \"TOEFL\": 97, \"Rate\": 2, \"SOP\": 3.0, \"LOR \": 3.0, \"CGPA\": 8.1, \"Research\": 1, \"Chance\": 0.65, \"Pred\": 0.6015018158489429}, {\"GRE\": 327, \"TOEFL\": 103, \"Rate\": 3, \"SOP\": 4.0, \"LOR \": 4.0, \"CGPA\": 8.3, \"Research\": 1, \"Chance\": 0.74, \"Pred\": 0.7144818963054937}, {\"GRE\": 338, \"TOEFL\": 118, \"Rate\": 4, \"SOP\": 3.0, \"LOR \": 4.5, \"CGPA\": 9.4, \"Research\": 1, \"Chance\": 0.91, \"Pred\": 0.9284188656414274}, {\"GRE\": 340, \"TOEFL\": 114, \"Rate\": 5, \"SOP\": 4.0, \"LOR \": 4.0, \"CGPA\": 9.6, \"Research\": 1, \"Chance\": 0.9, \"Pred\": 0.9352381976608359}, {\"GRE\": 331, \"TOEFL\": 112, \"Rate\": 5, \"SOP\": 4.0, \"LOR \": 5.0, \"CGPA\": 9.8, \"Research\": 1, \"Chance\": 0.94, \"Pred\": 0.9599033579356251}, {\"GRE\": 320, \"TOEFL\": 110, \"Rate\": 5, \"SOP\": 5.0, \"LOR \": 5.0, \"CGPA\": 9.2, \"Research\": 1, \"Chance\": 0.88, \"Pred\": 0.8602838358173346}, {\"GRE\": 299, \"TOEFL\": 106, \"Rate\": 2, \"SOP\": 4.0, \"LOR \": 4.0, \"CGPA\": 8.4, \"Research\": 0, \"Chance\": 0.64, \"Pred\": 0.656245283697334}, {\"GRE\": 300, \"TOEFL\": 105, \"Rate\": 1, \"SOP\": 1.0, \"LOR \": 2.0, \"CGPA\": 7.8, \"Research\": 0, \"Chance\": 0.58, \"Pred\": 0.5431920406367632}, {\"GRE\": 304, \"TOEFL\": 105, \"Rate\": 1, \"SOP\": 3.0, \"LOR \": 1.5, \"CGPA\": 7.5, \"Research\": 0, \"Chance\": 0.52, \"Pred\": 0.49667294908739734}, {\"GRE\": 307, \"TOEFL\": 108, \"Rate\": 2, \"SOP\": 4.0, \"LOR \": 3.5, \"CGPA\": 7.7, \"Research\": 0, \"Chance\": 0.48, \"Pred\": 0.5815495487171949}, {\"GRE\": 308, \"TOEFL\": 110, \"Rate\": 3, \"SOP\": 3.5, \"LOR \": 3.0, \"CGPA\": 8.0, \"Research\": 1, \"Chance\": 0.46, \"Pred\": 0.6455257352897668}, {\"GRE\": 316, \"TOEFL\": 105, \"Rate\": 2, \"SOP\": 2.5, \"LOR \": 2.5, \"CGPA\": 8.2, \"Research\": 1, \"Chance\": 0.49, \"Pred\": 0.6550269817386254}, {\"GRE\": 313, \"TOEFL\": 107, \"Rate\": 2, \"SOP\": 2.5, \"LOR \": 2.0, \"CGPA\": 8.5, \"Research\": 1, \"Chance\": 0.53, \"Pred\": 0.6801591730743635}, {\"GRE\": 332, \"TOEFL\": 117, \"Rate\": 4, \"SOP\": 4.5, \"LOR \": 4.0, \"CGPA\": 9.1, \"Research\": 0, \"Chance\": 0.87, \"Pred\": 0.8387335597922052}, {\"GRE\": 326, \"TOEFL\": 113, \"Rate\": 5, \"SOP\": 4.5, \"LOR \": 4.0, \"CGPA\": 9.4, \"Research\": 1, \"Chance\": 0.91, \"Pred\": 0.8825543836077745}, {\"GRE\": 322, \"TOEFL\": 110, \"Rate\": 5, \"SOP\": 5.0, \"LOR \": 4.0, \"CGPA\": 9.1, \"Research\": 1, \"Chance\": 0.88, \"Pred\": 0.8295115862713003}, {\"GRE\": 329, \"TOEFL\": 114, \"Rate\": 5, \"SOP\": 4.0, \"LOR \": 5.0, \"CGPA\": 9.3, \"Research\": 1, \"Chance\": 0.86, \"Pred\": 0.9027979616289314}, {\"GRE\": 339, \"TOEFL\": 119, \"Rate\": 5, \"SOP\": 4.5, \"LOR \": 4.0, \"CGPA\": 9.7, \"Research\": 0, \"Chance\": 0.89, \"Pred\": 0.9338149247162943}, {\"GRE\": 321, \"TOEFL\": 110, \"Rate\": 3, \"SOP\": 3.5, \"LOR \": 5.0, \"CGPA\": 8.85, \"Research\": 1, \"Chance\": 0.82, \"Pred\": 0.8139168759271451}, {\"GRE\": 327, \"TOEFL\": 111, \"Rate\": 4, \"SOP\": 3.0, \"LOR \": 4.0, \"CGPA\": 8.4, \"Research\": 1, \"Chance\": 0.78, \"Pred\": 0.7587542833805851}, {\"GRE\": 313, \"TOEFL\": 98, \"Rate\": 3, \"SOP\": 2.5, \"LOR \": 4.5, \"CGPA\": 8.3, \"Research\": 1, \"Chance\": 0.76, \"Pred\": 0.6916945674584505}, {\"GRE\": 312, \"TOEFL\": 100, \"Rate\": 2, \"SOP\": 1.5, \"LOR \": 3.5, \"CGPA\": 7.9, \"Research\": 1, \"Chance\": 0.56, \"Pred\": 0.62345591166426}, {\"GRE\": 334, \"TOEFL\": 116, \"Rate\": 4, \"SOP\": 4.0, \"LOR \": 3.0, \"CGPA\": 8.0, \"Research\": 1, \"Chance\": 0.78, \"Pred\": 0.7122799706500706}, {\"GRE\": 324, \"TOEFL\": 112, \"Rate\": 4, \"SOP\": 4.0, \"LOR \": 2.5, \"CGPA\": 8.1, \"Research\": 1, \"Chance\": 0.72, \"Pred\": 0.6839449293677533}, {\"GRE\": 322, \"TOEFL\": 110, \"Rate\": 3, \"SOP\": 3.0, \"LOR \": 3.5, \"CGPA\": 8.0, \"Research\": 0, \"Chance\": 0.7, \"Pred\": 0.6581535391753528}, {\"GRE\": 320, \"TOEFL\": 103, \"Rate\": 3, \"SOP\": 3.0, \"LOR \": 3.0, \"CGPA\": 7.7, \"Research\": 0, \"Chance\": 0.64, \"Pred\": 0.5873832785715596}, {\"GRE\": 316, \"TOEFL\": 102, \"Rate\": 3, \"SOP\": 2.0, \"LOR \": 3.0, \"CGPA\": 7.4, \"Research\": 0, \"Chance\": 0.64, \"Pred\": 0.5451373884365351}, {\"GRE\": 298, \"TOEFL\": 99, \"Rate\": 2, \"SOP\": 4.0, \"LOR \": 2.0, \"CGPA\": 7.6, \"Research\": 0, \"Chance\": 0.46, \"Pred\": 0.49421301687349994}, {\"GRE\": 300, \"TOEFL\": 99, \"Rate\": 1, \"SOP\": 3.0, \"LOR \": 2.0, \"CGPA\": 6.8, \"Research\": 1, \"Chance\": 0.36, \"Pred\": 0.4246498943433712}, {\"GRE\": 311, \"TOEFL\": 104, \"Rate\": 2, \"SOP\": 2.0, \"LOR \": 2.0, \"CGPA\": 8.3, \"Research\": 0, \"Chance\": 0.42, \"Pred\": 0.6212652069893634}, {\"GRE\": 309, \"TOEFL\": 100, \"Rate\": 2, \"SOP\": 3.0, \"LOR \": 3.0, \"CGPA\": 8.1, \"Research\": 0, \"Chance\": 0.48, \"Pred\": 0.6013721441435214}, {\"GRE\": 307, \"TOEFL\": 101, \"Rate\": 3, \"SOP\": 4.0, \"LOR \": 3.0, \"CGPA\": 8.2, \"Research\": 0, \"Chance\": 0.47, \"Pred\": 0.615122332267976}, {\"GRE\": 304, \"TOEFL\": 105, \"Rate\": 2, \"SOP\": 3.0, \"LOR \": 3.0, \"CGPA\": 8.2, \"Research\": 1, \"Chance\": 0.54, \"Pred\": 0.6437020220281031}, {\"GRE\": 315, \"TOEFL\": 107, \"Rate\": 2, \"SOP\": 4.0, \"LOR \": 3.0, \"CGPA\": 8.5, \"Research\": 1, \"Chance\": 0.56, \"Pred\": 0.7010293699771517}, {\"GRE\": 325, \"TOEFL\": 111, \"Rate\": 3, \"SOP\": 3.0, \"LOR \": 3.5, \"CGPA\": 8.7, \"Research\": 0, \"Chance\": 0.52, \"Pred\": 0.7495429682232422}, {\"GRE\": 325, \"TOEFL\": 112, \"Rate\": 4, \"SOP\": 3.5, \"LOR \": 3.5, \"CGPA\": 8.92, \"Research\": 0, \"Chance\": 0.55, \"Pred\": 0.7826932984439023}, {\"GRE\": 327, \"TOEFL\": 114, \"Rate\": 3, \"SOP\": 3.0, \"LOR \": 3.0, \"CGPA\": 9.02, \"Research\": 0, \"Chance\": 0.61, \"Pred\": 0.7886605833029166}, {\"GRE\": 316, \"TOEFL\": 107, \"Rate\": 2, \"SOP\": 3.5, \"LOR \": 3.5, \"CGPA\": 8.64, \"Research\": 1, \"Chance\": 0.57, \"Pred\": 0.7322474532384629}, {\"GRE\": 318, \"TOEFL\": 109, \"Rate\": 3, \"SOP\": 3.5, \"LOR \": 4.0, \"CGPA\": 9.22, \"Research\": 1, \"Chance\": 0.68, \"Pred\": 0.8274395348997203}, {\"GRE\": 328, \"TOEFL\": 115, \"Rate\": 4, \"SOP\": 4.5, \"LOR \": 4.0, \"CGPA\": 9.16, \"Research\": 1, \"Chance\": 0.78, \"Pred\": 0.8576062333854446}, {\"GRE\": 332, \"TOEFL\": 118, \"Rate\": 5, \"SOP\": 5.0, \"LOR \": 5.0, \"CGPA\": 9.64, \"Research\": 1, \"Chance\": 0.94, \"Pred\": 0.9568227487875987}, {\"GRE\": 336, \"TOEFL\": 112, \"Rate\": 5, \"SOP\": 5.0, \"LOR \": 5.0, \"CGPA\": 9.76, \"Research\": 1, \"Chance\": 0.96, \"Pred\": 0.9605276686017479}, {\"GRE\": 321, \"TOEFL\": 111, \"Rate\": 5, \"SOP\": 5.0, \"LOR \": 5.0, \"CGPA\": 9.45, \"Research\": 1, \"Chance\": 0.93, \"Pred\": 0.8946756876045316}, {\"GRE\": 314, \"TOEFL\": 108, \"Rate\": 4, \"SOP\": 4.5, \"LOR \": 4.0, \"CGPA\": 9.04, \"Research\": 1, \"Chance\": 0.84, \"Pred\": 0.798572699241128}, {\"GRE\": 314, \"TOEFL\": 106, \"Rate\": 3, \"SOP\": 3.0, \"LOR \": 5.0, \"CGPA\": 8.9, \"Research\": 0, \"Chance\": 0.74, \"Pred\": 0.7731511385694076}, {\"GRE\": 329, \"TOEFL\": 114, \"Rate\": 2, \"SOP\": 2.0, \"LOR \": 4.0, \"CGPA\": 8.56, \"Research\": 1, \"Chance\": 0.72, \"Pred\": 0.7818900023241382}, {\"GRE\": 327, \"TOEFL\": 112, \"Rate\": 3, \"SOP\": 3.0, \"LOR \": 3.0, \"CGPA\": 8.72, \"Research\": 1, \"Chance\": 0.74, \"Pred\": 0.7716646998852801}, {\"GRE\": 301, \"TOEFL\": 99, \"Rate\": 2, \"SOP\": 3.0, \"LOR \": 2.0, \"CGPA\": 8.22, \"Research\": 0, \"Chance\": 0.64, \"Pred\": 0.5764728818617681}, {\"GRE\": 296, \"TOEFL\": 95, \"Rate\": 2, \"SOP\": 3.0, \"LOR \": 2.0, \"CGPA\": 7.54, \"Research\": 1, \"Chance\": 0.44, \"Pred\": 0.49975379458833924}, {\"GRE\": 294, \"TOEFL\": 93, \"Rate\": 1, \"SOP\": 1.5, \"LOR \": 2.0, \"CGPA\": 7.36, \"Research\": 0, \"Chance\": 0.46, \"Pred\": 0.44374670530235005}, {\"GRE\": 312, \"TOEFL\": 105, \"Rate\": 3, \"SOP\": 2.0, \"LOR \": 3.0, \"CGPA\": 8.02, \"Research\": 1, \"Chance\": 0.5, \"Pred\": 0.6452140401287374}, {\"GRE\": 340, \"TOEFL\": 120, \"Rate\": 4, \"SOP\": 5.0, \"LOR \": 5.0, \"CGPA\": 9.5, \"Research\": 1, \"Chance\": 0.96, \"Pred\": 0.9541930133510557}, {\"GRE\": 320, \"TOEFL\": 110, \"Rate\": 5, \"SOP\": 5.0, \"LOR \": 4.5, \"CGPA\": 9.22, \"Research\": 1, \"Chance\": 0.92, \"Pred\": 0.8514860612250958}, {\"GRE\": 322, \"TOEFL\": 115, \"Rate\": 5, \"SOP\": 4.0, \"LOR \": 4.5, \"CGPA\": 9.36, \"Research\": 1, \"Chance\": 0.92, \"Pred\": 0.8895154610004001}, {\"GRE\": 340, \"TOEFL\": 115, \"Rate\": 5, \"SOP\": 4.5, \"LOR \": 4.5, \"CGPA\": 9.45, \"Research\": 1, \"Chance\": 0.94, \"Pred\": 0.9298408355798531}, {\"GRE\": 319, \"TOEFL\": 103, \"Rate\": 4, \"SOP\": 4.5, \"LOR \": 3.5, \"CGPA\": 8.66, \"Research\": 0, \"Chance\": 0.76, \"Pred\": 0.7117632106851974}, {\"GRE\": 315, \"TOEFL\": 106, \"Rate\": 3, \"SOP\": 4.5, \"LOR \": 3.5, \"CGPA\": 8.42, \"Research\": 0, \"Chance\": 0.72, \"Pred\": 0.6793101678537077}, {\"GRE\": 317, \"TOEFL\": 107, \"Rate\": 2, \"SOP\": 3.5, \"LOR \": 3.0, \"CGPA\": 8.28, \"Research\": 0, \"Chance\": 0.66, \"Pred\": 0.6554649915550421}, {\"GRE\": 314, \"TOEFL\": 108, \"Rate\": 3, \"SOP\": 4.5, \"LOR \": 3.5, \"CGPA\": 8.14, \"Research\": 0, \"Chance\": 0.64, \"Pred\": 0.6501088629093752}, {\"GRE\": 316, \"TOEFL\": 109, \"Rate\": 4, \"SOP\": 4.5, \"LOR \": 3.5, \"CGPA\": 8.76, \"Research\": 1, \"Chance\": 0.74, \"Pred\": 0.7604874885287327}, {\"GRE\": 318, \"TOEFL\": 106, \"Rate\": 2, \"SOP\": 4.0, \"LOR \": 4.0, \"CGPA\": 7.92, \"Research\": 1, \"Chance\": 0.64, \"Pred\": 0.6566902721153494}, {\"GRE\": 299, \"TOEFL\": 97, \"Rate\": 3, \"SOP\": 5.0, \"LOR \": 3.5, \"CGPA\": 7.66, \"Research\": 0, \"Chance\": 0.38, \"Pred\": 0.5331888221088794}, {\"GRE\": 298, \"TOEFL\": 98, \"Rate\": 2, \"SOP\": 4.0, \"LOR \": 3.0, \"CGPA\": 8.03, \"Research\": 0, \"Chance\": 0.34, \"Pred\": 0.5647905324316578}, {\"GRE\": 301, \"TOEFL\": 97, \"Rate\": 2, \"SOP\": 3.0, \"LOR \": 3.0, \"CGPA\": 7.88, \"Research\": 1, \"Chance\": 0.44, \"Pred\": 0.57707254762861}, {\"GRE\": 303, \"TOEFL\": 99, \"Rate\": 3, \"SOP\": 2.0, \"LOR \": 2.5, \"CGPA\": 7.66, \"Research\": 0, \"Chance\": 0.36, \"Pred\": 0.5335400018336254}, {\"GRE\": 304, \"TOEFL\": 100, \"Rate\": 4, \"SOP\": 1.5, \"LOR \": 2.5, \"CGPA\": 7.84, \"Research\": 0, \"Chance\": 0.42, \"Pred\": 0.5669753345264845}, {\"GRE\": 306, \"TOEFL\": 100, \"Rate\": 2, \"SOP\": 3.0, \"LOR \": 3.0, \"CGPA\": 8.0, \"Research\": 0, \"Chance\": 0.48, \"Pred\": 0.5842659640707759}, {\"GRE\": 331, \"TOEFL\": 120, \"Rate\": 3, \"SOP\": 4.0, \"LOR \": 4.0, \"CGPA\": 8.96, \"Research\": 1, \"Chance\": 0.86, \"Pred\": 0.8495643878513179}, {\"GRE\": 332, \"TOEFL\": 119, \"Rate\": 4, \"SOP\": 5.0, \"LOR \": 4.5, \"CGPA\": 9.24, \"Research\": 1, \"Chance\": 0.9, \"Pred\": 0.8952733223666101}, {\"GRE\": 323, \"TOEFL\": 113, \"Rate\": 3, \"SOP\": 4.0, \"LOR \": 4.0, \"CGPA\": 8.88, \"Research\": 1, \"Chance\": 0.79, \"Pred\": 0.8057129012769673}, {\"GRE\": 322, \"TOEFL\": 107, \"Rate\": 3, \"SOP\": 3.5, \"LOR \": 3.5, \"CGPA\": 8.46, \"Research\": 1, \"Chance\": 0.71, \"Pred\": 0.7269794791520026}, {\"GRE\": 312, \"TOEFL\": 105, \"Rate\": 2, \"SOP\": 2.5, \"LOR \": 3.0, \"CGPA\": 8.12, \"Research\": 0, \"Chance\": 0.64, \"Pred\": 0.6252136365356629}, {\"GRE\": 314, \"TOEFL\": 106, \"Rate\": 2, \"SOP\": 4.0, \"LOR \": 3.5, \"CGPA\": 8.25, \"Research\": 0, \"Chance\": 0.62, \"Pred\": 0.6532889755588105}, {\"GRE\": 317, \"TOEFL\": 104, \"Rate\": 2, \"SOP\": 4.5, \"LOR \": 4.0, \"CGPA\": 8.47, \"Research\": 0, \"Chance\": 0.57, \"Pred\": 0.6883527155709961}, {\"GRE\": 326, \"TOEFL\": 112, \"Rate\": 3, \"SOP\": 3.5, \"LOR \": 3.0, \"CGPA\": 9.05, \"Research\": 1, \"Chance\": 0.74, \"Pred\": 0.8075247234787535}, {\"GRE\": 316, \"TOEFL\": 110, \"Rate\": 3, \"SOP\": 4.0, \"LOR \": 4.5, \"CGPA\": 8.78, \"Research\": 1, \"Chance\": 0.69, \"Pred\": 0.7840749081335694}, {\"GRE\": 329, \"TOEFL\": 111, \"Rate\": 4, \"SOP\": 4.5, \"LOR \": 4.5, \"CGPA\": 9.18, \"Research\": 1, \"Chance\": 0.87, \"Pred\": 0.8612206904248783}, {\"GRE\": 338, \"TOEFL\": 117, \"Rate\": 4, \"SOP\": 3.5, \"LOR \": 4.5, \"CGPA\": 9.46, \"Research\": 1, \"Chance\": 0.91, \"Pred\": 0.9309830715177909}, {\"GRE\": 331, \"TOEFL\": 116, \"Rate\": 5, \"SOP\": 5.0, \"LOR \": 5.0, \"CGPA\": 9.38, \"Research\": 1, \"Chance\": 0.93, \"Pred\": 0.9183219256475061}, {\"GRE\": 304, \"TOEFL\": 103, \"Rate\": 5, \"SOP\": 5.0, \"LOR \": 4.0, \"CGPA\": 8.64, \"Research\": 0, \"Chance\": 0.68, \"Pred\": 0.6985638853246134}, {\"GRE\": 305, \"TOEFL\": 108, \"Rate\": 5, \"SOP\": 3.0, \"LOR \": 3.0, \"CGPA\": 8.48, \"Research\": 0, \"Chance\": 0.61, \"Pred\": 0.6801260791665014}, {\"GRE\": 321, \"TOEFL\": 109, \"Rate\": 4, \"SOP\": 4.0, \"LOR \": 4.0, \"CGPA\": 8.68, \"Research\": 1, \"Chance\": 0.69, \"Pred\": 0.7724885382827529}, {\"GRE\": 301, \"TOEFL\": 107, \"Rate\": 3, \"SOP\": 3.5, \"LOR \": 3.5, \"CGPA\": 8.34, \"Research\": 1, \"Chance\": 0.62, \"Pred\": 0.6762211017290634}, {\"GRE\": 320, \"TOEFL\": 110, \"Rate\": 2, \"SOP\": 4.0, \"LOR \": 3.5, \"CGPA\": 8.56, \"Research\": 0, \"Chance\": 0.72, \"Pred\": 0.712262982867675}, {\"GRE\": 311, \"TOEFL\": 105, \"Rate\": 3, \"SOP\": 3.5, \"LOR \": 3.0, \"CGPA\": 8.45, \"Research\": 1, \"Chance\": 0.59, \"Pred\": 0.6896628400368474}, {\"GRE\": 310, \"TOEFL\": 106, \"Rate\": 4, \"SOP\": 4.5, \"LOR \": 4.5, \"CGPA\": 9.04, \"Research\": 1, \"Chance\": 0.66, \"Pred\": 0.796960462987401}, {\"GRE\": 299, \"TOEFL\": 102, \"Rate\": 3, \"SOP\": 4.0, \"LOR \": 3.5, \"CGPA\": 8.62, \"Research\": 0, \"Chance\": 0.56, \"Pred\": 0.6652737506917215}, {\"GRE\": 290, \"TOEFL\": 104, \"Rate\": 4, \"SOP\": 2.0, \"LOR \": 2.5, \"CGPA\": 7.46, \"Research\": 0, \"Chance\": 0.45, \"Pred\": 0.5074803029105828}, {\"GRE\": 296, \"TOEFL\": 99, \"Rate\": 2, \"SOP\": 3.0, \"LOR \": 3.5, \"CGPA\": 7.28, \"Research\": 0, \"Chance\": 0.47, \"Pred\": 0.489512428618027}, {\"GRE\": 327, \"TOEFL\": 104, \"Rate\": 5, \"SOP\": 3.0, \"LOR \": 3.5, \"CGPA\": 8.84, \"Research\": 1, \"Chance\": 0.71, \"Pred\": 0.7851906997155444}, {\"GRE\": 335, \"TOEFL\": 117, \"Rate\": 5, \"SOP\": 5.0, \"LOR \": 5.0, \"CGPA\": 9.56, \"Research\": 1, \"Chance\": 0.94, \"Pred\": 0.9496002503959533}, {\"GRE\": 334, \"TOEFL\": 119, \"Rate\": 5, \"SOP\": 4.5, \"LOR \": 4.5, \"CGPA\": 9.48, \"Research\": 1, \"Chance\": 0.94, \"Pred\": 0.93466285702938}, {\"GRE\": 310, \"TOEFL\": 106, \"Rate\": 4, \"SOP\": 1.5, \"LOR \": 2.5, \"CGPA\": 8.36, \"Research\": 0, \"Chance\": 0.57, \"Pred\": 0.6567657807245764}, {\"GRE\": 308, \"TOEFL\": 108, \"Rate\": 3, \"SOP\": 3.5, \"LOR \": 3.5, \"CGPA\": 8.22, \"Research\": 0, \"Chance\": 0.61, \"Pred\": 0.6525047188161197}, {\"GRE\": 301, \"TOEFL\": 106, \"Rate\": 4, \"SOP\": 2.5, \"LOR \": 3.0, \"CGPA\": 8.47, \"Research\": 0, \"Chance\": 0.57, \"Pred\": 0.6620838111002367}, {\"GRE\": 300, \"TOEFL\": 100, \"Rate\": 3, \"SOP\": 2.0, \"LOR \": 3.0, \"CGPA\": 8.66, \"Research\": 1, \"Chance\": 0.64, \"Pred\": 0.6858884674940438}, {\"GRE\": 323, \"TOEFL\": 113, \"Rate\": 3, \"SOP\": 4.0, \"LOR \": 3.0, \"CGPA\": 9.32, \"Research\": 1, \"Chance\": 0.85, \"Pred\": 0.8356931335313014}, {\"GRE\": 319, \"TOEFL\": 112, \"Rate\": 3, \"SOP\": 2.5, \"LOR \": 2.0, \"CGPA\": 8.71, \"Research\": 1, \"Chance\": 0.78, \"Pred\": 0.7358754699753711}, {\"GRE\": 326, \"TOEFL\": 112, \"Rate\": 3, \"SOP\": 3.5, \"LOR \": 3.0, \"CGPA\": 9.1, \"Research\": 1, \"Chance\": 0.84, \"Pred\": 0.813471696158605}, {\"GRE\": 333, \"TOEFL\": 118, \"Rate\": 5, \"SOP\": 5.0, \"LOR \": 5.0, \"CGPA\": 9.35, \"Research\": 1, \"Chance\": 0.92, \"Pred\": 0.9240677188154736}, {\"GRE\": 339, \"TOEFL\": 114, \"Rate\": 5, \"SOP\": 4.0, \"LOR \": 4.5, \"CGPA\": 9.76, \"Research\": 1, \"Chance\": 0.96, \"Pred\": 0.9637076623295269}, {\"GRE\": 303, \"TOEFL\": 105, \"Rate\": 5, \"SOP\": 5.0, \"LOR \": 4.5, \"CGPA\": 8.65, \"Research\": 0, \"Chance\": 0.77, \"Pred\": 0.7150315855875997}, {\"GRE\": 309, \"TOEFL\": 105, \"Rate\": 5, \"SOP\": 3.5, \"LOR \": 3.5, \"CGPA\": 8.56, \"Research\": 0, \"Chance\": 0.71, \"Pred\": 0.6973561304291911}, {\"GRE\": 323, \"TOEFL\": 112, \"Rate\": 5, \"SOP\": 4.0, \"LOR \": 4.5, \"CGPA\": 8.78, \"Research\": 0, \"Chance\": 0.79, \"Pred\": 0.7889841527390369}, {\"GRE\": 333, \"TOEFL\": 113, \"Rate\": 5, \"SOP\": 4.0, \"LOR \": 4.0, \"CGPA\": 9.28, \"Research\": 1, \"Chance\": 0.89, \"Pred\": 0.8820961146957622}, {\"GRE\": 314, \"TOEFL\": 109, \"Rate\": 4, \"SOP\": 3.5, \"LOR \": 4.0, \"CGPA\": 8.77, \"Research\": 1, \"Chance\": 0.82, \"Pred\": 0.7726837926319206}, {\"GRE\": 312, \"TOEFL\": 103, \"Rate\": 3, \"SOP\": 5.0, \"LOR \": 4.0, \"CGPA\": 8.45, \"Research\": 0, \"Chance\": 0.76, \"Pred\": 0.6784313654394476}, {\"GRE\": 316, \"TOEFL\": 100, \"Rate\": 2, \"SOP\": 1.5, \"LOR \": 3.0, \"CGPA\": 8.16, \"Research\": 1, \"Chance\": 0.71, \"Pred\": 0.6501532522193649}, {\"GRE\": 326, \"TOEFL\": 116, \"Rate\": 2, \"SOP\": 4.5, \"LOR \": 3.0, \"CGPA\": 9.08, \"Research\": 1, \"Chance\": 0.8, \"Pred\": 0.8137493871743773}, {\"GRE\": 318, \"TOEFL\": 109, \"Rate\": 1, \"SOP\": 3.5, \"LOR \": 3.5, \"CGPA\": 9.12, \"Research\": 0, \"Chance\": 0.78, \"Pred\": 0.7684106033106717}, {\"GRE\": 329, \"TOEFL\": 110, \"Rate\": 2, \"SOP\": 4.0, \"LOR \": 3.0, \"CGPA\": 9.15, \"Research\": 1, \"Chance\": 0.84, \"Pred\": 0.8114225072601944}, {\"GRE\": 332, \"TOEFL\": 118, \"Rate\": 2, \"SOP\": 4.5, \"LOR \": 3.5, \"CGPA\": 9.36, \"Research\": 1, \"Chance\": 0.9, \"Pred\": 0.8744926209056605}, {\"GRE\": 331, \"TOEFL\": 115, \"Rate\": 5, \"SOP\": 4.0, \"LOR \": 3.5, \"CGPA\": 9.44, \"Research\": 1, \"Chance\": 0.92, \"Pred\": 0.8923141940989299}, {\"GRE\": 340, \"TOEFL\": 120, \"Rate\": 4, \"SOP\": 4.5, \"LOR \": 4.0, \"CGPA\": 9.92, \"Research\": 1, \"Chance\": 0.97, \"Pred\": 0.9834470410559828}, {\"GRE\": 325, \"TOEFL\": 112, \"Rate\": 2, \"SOP\": 3.0, \"LOR \": 3.5, \"CGPA\": 8.96, \"Research\": 1, \"Chance\": 0.8, \"Pred\": 0.8021952511357984}, {\"GRE\": 320, \"TOEFL\": 113, \"Rate\": 2, \"SOP\": 2.0, \"LOR \": 2.5, \"CGPA\": 8.64, \"Research\": 1, \"Chance\": 0.81, \"Pred\": 0.7393191866633102}, {\"GRE\": 315, \"TOEFL\": 105, \"Rate\": 3, \"SOP\": 2.0, \"LOR \": 2.5, \"CGPA\": 8.48, \"Research\": 0, \"Chance\": 0.75, \"Pred\": 0.6694367535369112}, {\"GRE\": 326, \"TOEFL\": 114, \"Rate\": 3, \"SOP\": 3.0, \"LOR \": 3.0, \"CGPA\": 9.11, \"Research\": 1, \"Chance\": 0.83, \"Pred\": 0.8221528288509588}, {\"GRE\": 339, \"TOEFL\": 116, \"Rate\": 4, \"SOP\": 4.0, \"LOR \": 3.5, \"CGPA\": 9.8, \"Research\": 1, \"Chance\": 0.96, \"Pred\": 0.9462346086439781}, {\"GRE\": 311, \"TOEFL\": 106, \"Rate\": 2, \"SOP\": 3.5, \"LOR \": 3.0, \"CGPA\": 8.26, \"Research\": 1, \"Chance\": 0.79, \"Pred\": 0.6642672625354158}, {\"GRE\": 334, \"TOEFL\": 114, \"Rate\": 4, \"SOP\": 4.0, \"LOR \": 4.0, \"CGPA\": 9.43, \"Research\": 1, \"Chance\": 0.93, \"Pred\": 0.8988773629883353}, {\"GRE\": 332, \"TOEFL\": 116, \"Rate\": 5, \"SOP\": 5.0, \"LOR \": 5.0, \"CGPA\": 9.28, \"Research\": 1, \"Chance\": 0.94, \"Pred\": 0.9081653918588166}, {\"GRE\": 321, \"TOEFL\": 112, \"Rate\": 5, \"SOP\": 5.0, \"LOR \": 5.0, \"CGPA\": 9.06, \"Research\": 1, \"Chance\": 0.86, \"Pred\": 0.8512088775186146}, {\"GRE\": 324, \"TOEFL\": 105, \"Rate\": 3, \"SOP\": 3.0, \"LOR \": 4.0, \"CGPA\": 8.75, \"Research\": 0, \"Chance\": 0.79, \"Pred\": 0.7474116320947088}, {\"GRE\": 326, \"TOEFL\": 108, \"Rate\": 3, \"SOP\": 3.0, \"LOR \": 3.5, \"CGPA\": 8.89, \"Research\": 0, \"Chance\": 0.8, \"Pred\": 0.7651201455269174}, {\"GRE\": 312, \"TOEFL\": 109, \"Rate\": 3, \"SOP\": 3.0, \"LOR \": 3.0, \"CGPA\": 8.69, \"Research\": 0, \"Chance\": 0.77, \"Pred\": 0.7087515059660594}, {\"GRE\": 315, \"TOEFL\": 105, \"Rate\": 3, \"SOP\": 2.0, \"LOR \": 2.5, \"CGPA\": 8.34, \"Research\": 0, \"Chance\": 0.7, \"Pred\": 0.6527852300333266}, {\"GRE\": 309, \"TOEFL\": 104, \"Rate\": 2, \"SOP\": 2.0, \"LOR \": 2.5, \"CGPA\": 8.26, \"Research\": 0, \"Chance\": 0.65, \"Pred\": 0.6242093693676336}, {\"GRE\": 306, \"TOEFL\": 106, \"Rate\": 2, \"SOP\": 2.0, \"LOR \": 2.5, \"CGPA\": 8.14, \"Research\": 0, \"Chance\": 0.61, \"Pred\": 0.610563553856798}, {\"GRE\": 297, \"TOEFL\": 100, \"Rate\": 1, \"SOP\": 1.5, \"LOR \": 2.0, \"CGPA\": 7.9, \"Research\": 0, \"Chance\": 0.52, \"Pred\": 0.5336232826762652}, {\"GRE\": 315, \"TOEFL\": 103, \"Rate\": 1, \"SOP\": 1.5, \"LOR \": 2.0, \"CGPA\": 7.86, \"Research\": 0, \"Chance\": 0.57, \"Pred\": 0.5688978432614125}, {\"GRE\": 298, \"TOEFL\": 99, \"Rate\": 1, \"SOP\": 1.5, \"LOR \": 3.0, \"CGPA\": 7.46, \"Research\": 0, \"Chance\": 0.53, \"Pred\": 0.5024608851760195}, {\"GRE\": 318, \"TOEFL\": 109, \"Rate\": 3, \"SOP\": 3.0, \"LOR \": 3.0, \"CGPA\": 8.5, \"Research\": 0, \"Chance\": 0.67, \"Pred\": 0.6965774792087078}, {\"GRE\": 317, \"TOEFL\": 105, \"Rate\": 3, \"SOP\": 3.5, \"LOR \": 3.0, \"CGPA\": 8.56, \"Research\": 0, \"Chance\": 0.68, \"Pred\": 0.6886455430632819}, {\"GRE\": 329, \"TOEFL\": 111, \"Rate\": 4, \"SOP\": 4.5, \"LOR \": 4.0, \"CGPA\": 9.01, \"Research\": 1, \"Chance\": 0.81, \"Pred\": 0.8298244196492026}, {\"GRE\": 322, \"TOEFL\": 110, \"Rate\": 5, \"SOP\": 4.5, \"LOR \": 4.0, \"CGPA\": 8.97, \"Research\": 0, \"Chance\": 0.78, \"Pred\": 0.7911769355308962}, {\"GRE\": 302, \"TOEFL\": 102, \"Rate\": 3, \"SOP\": 3.5, \"LOR \": 5.0, \"CGPA\": 8.33, \"Research\": 0, \"Chance\": 0.65, \"Pred\": 0.6711758193766972}, {\"GRE\": 313, \"TOEFL\": 102, \"Rate\": 3, \"SOP\": 2.0, \"LOR \": 3.0, \"CGPA\": 8.27, \"Research\": 0, \"Chance\": 0.64, \"Pred\": 0.6434024783529104}, {\"GRE\": 293, \"TOEFL\": 97, \"Rate\": 2, \"SOP\": 2.0, \"LOR \": 4.0, \"CGPA\": 7.8, \"Research\": 1, \"Chance\": 0.64, \"Pred\": 0.5793163951461608}, {\"GRE\": 311, \"TOEFL\": 99, \"Rate\": 2, \"SOP\": 2.5, \"LOR \": 3.0, \"CGPA\": 7.98, \"Research\": 0, \"Chance\": 0.65, \"Pred\": 0.5893072405595137}, {\"GRE\": 312, \"TOEFL\": 101, \"Rate\": 2, \"SOP\": 2.5, \"LOR \": 3.5, \"CGPA\": 8.04, \"Research\": 1, \"Chance\": 0.68, \"Pred\": 0.6397218429397031}, {\"GRE\": 334, \"TOEFL\": 117, \"Rate\": 5, \"SOP\": 4.0, \"LOR \": 4.5, \"CGPA\": 9.07, \"Research\": 1, \"Chance\": 0.89, \"Pred\": 0.8817111119432799}, {\"GRE\": 322, \"TOEFL\": 110, \"Rate\": 4, \"SOP\": 4.0, \"LOR \": 5.0, \"CGPA\": 9.13, \"Research\": 1, \"Chance\": 0.86, \"Pred\": 0.8530214081177159}, {\"GRE\": 323, \"TOEFL\": 113, \"Rate\": 4, \"SOP\": 4.0, \"LOR \": 4.5, \"CGPA\": 9.23, \"Research\": 1, \"Chance\": 0.89, \"Pred\": 0.8642349318350291}, {\"GRE\": 321, \"TOEFL\": 111, \"Rate\": 4, \"SOP\": 4.0, \"LOR \": 4.0, \"CGPA\": 8.97, \"Research\": 1, \"Chance\": 0.87, \"Pred\": 0.8128201334597429}, {\"GRE\": 320, \"TOEFL\": 111, \"Rate\": 4, \"SOP\": 4.5, \"LOR \": 3.5, \"CGPA\": 8.87, \"Research\": 1, \"Chance\": 0.85, \"Pred\": 0.7863596283423122}, {\"GRE\": 329, \"TOEFL\": 119, \"Rate\": 4, \"SOP\": 4.5, \"LOR \": 4.5, \"CGPA\": 9.16, \"Research\": 1, \"Chance\": 0.9, \"Pred\": 0.8821985158883388}, {\"GRE\": 319, \"TOEFL\": 110, \"Rate\": 3, \"SOP\": 3.5, \"LOR \": 3.5, \"CGPA\": 9.04, \"Research\": 0, \"Chance\": 0.82, \"Pred\": 0.7749857516806904}, {\"GRE\": 309, \"TOEFL\": 108, \"Rate\": 3, \"SOP\": 2.5, \"LOR \": 3.0, \"CGPA\": 8.12, \"Research\": 0, \"Chance\": 0.72, \"Pred\": 0.6344767904083171}, {\"GRE\": 307, \"TOEFL\": 102, \"Rate\": 3, \"SOP\": 3.0, \"LOR \": 3.0, \"CGPA\": 8.27, \"Research\": 0, \"Chance\": 0.73, \"Pred\": 0.6296728398817597}, {\"GRE\": 300, \"TOEFL\": 104, \"Rate\": 3, \"SOP\": 3.5, \"LOR \": 3.0, \"CGPA\": 8.16, \"Research\": 0, \"Chance\": 0.71, \"Pred\": 0.6086141881003051}, {\"GRE\": 305, \"TOEFL\": 107, \"Rate\": 2, \"SOP\": 2.5, \"LOR \": 2.5, \"CGPA\": 8.42, \"Research\": 0, \"Chance\": 0.71, \"Pred\": 0.6433961815873446}, {\"GRE\": 299, \"TOEFL\": 100, \"Rate\": 2, \"SOP\": 3.0, \"LOR \": 3.5, \"CGPA\": 7.88, \"Research\": 0, \"Chance\": 0.68, \"Pred\": 0.5690079123062135}, {\"GRE\": 314, \"TOEFL\": 110, \"Rate\": 3, \"SOP\": 4.0, \"LOR \": 4.0, \"CGPA\": 8.8, \"Research\": 0, \"Chance\": 0.75, \"Pred\": 0.7472772041039792}, {\"GRE\": 316, \"TOEFL\": 106, \"Rate\": 2, \"SOP\": 2.5, \"LOR \": 4.0, \"CGPA\": 8.32, \"Research\": 0, \"Chance\": 0.72, \"Pred\": 0.6812238776844102}, {\"GRE\": 327, \"TOEFL\": 113, \"Rate\": 4, \"SOP\": 4.5, \"LOR \": 4.5, \"CGPA\": 9.11, \"Research\": 1, \"Chance\": 0.89, \"Pred\": 0.8552592591649082}, {\"GRE\": 317, \"TOEFL\": 107, \"Rate\": 3, \"SOP\": 3.5, \"LOR \": 3.0, \"CGPA\": 8.68, \"Research\": 1, \"Chance\": 0.84, \"Pred\": 0.7332825374240994}, {\"GRE\": 335, \"TOEFL\": 118, \"Rate\": 5, \"SOP\": 4.5, \"LOR \": 3.5, \"CGPA\": 9.44, \"Research\": 1, \"Chance\": 0.93, \"Pred\": 0.9063699863112282}, {\"GRE\": 331, \"TOEFL\": 115, \"Rate\": 5, \"SOP\": 4.5, \"LOR \": 3.5, \"CGPA\": 9.36, \"Research\": 1, \"Chance\": 0.93, \"Pred\": 0.8811464532886342}, {\"GRE\": 324, \"TOEFL\": 112, \"Rate\": 5, \"SOP\": 5.0, \"LOR \": 5.0, \"CGPA\": 9.08, \"Research\": 1, \"Chance\": 0.88, \"Pred\": 0.8587999013035976}, {\"GRE\": 324, \"TOEFL\": 111, \"Rate\": 5, \"SOP\": 4.5, \"LOR \": 4.0, \"CGPA\": 9.16, \"Research\": 1, \"Chance\": 0.9, \"Pred\": 0.8446949379686088}, {\"GRE\": 323, \"TOEFL\": 110, \"Rate\": 5, \"SOP\": 4.0, \"LOR \": 5.0, \"CGPA\": 8.98, \"Research\": 1, \"Chance\": 0.87, \"Pred\": 0.8426345597840961}, {\"GRE\": 322, \"TOEFL\": 114, \"Rate\": 5, \"SOP\": 4.5, \"LOR \": 4.0, \"CGPA\": 8.94, \"Research\": 1, \"Chance\": 0.86, \"Pred\": 0.8238121654860089}, {\"GRE\": 336, \"TOEFL\": 118, \"Rate\": 5, \"SOP\": 4.5, \"LOR \": 5.0, \"CGPA\": 9.53, \"Research\": 1, \"Chance\": 0.94, \"Pred\": 0.9523416396985145}, {\"GRE\": 316, \"TOEFL\": 109, \"Rate\": 3, \"SOP\": 3.5, \"LOR \": 3.0, \"CGPA\": 8.76, \"Research\": 0, \"Chance\": 0.77, \"Pred\": 0.722374329479375}, {\"GRE\": 307, \"TOEFL\": 107, \"Rate\": 2, \"SOP\": 3.0, \"LOR \": 3.5, \"CGPA\": 8.52, \"Research\": 1, \"Chance\": 0.78, \"Pred\": 0.7039905991902256}, {\"GRE\": 306, \"TOEFL\": 105, \"Rate\": 2, \"SOP\": 3.0, \"LOR \": 2.5, \"CGPA\": 8.26, \"Research\": 0, \"Chance\": 0.73, \"Pred\": 0.6186115424264502}, {\"GRE\": 310, \"TOEFL\": 106, \"Rate\": 2, \"SOP\": 3.5, \"LOR \": 2.5, \"CGPA\": 8.33, \"Research\": 0, \"Chance\": 0.73, \"Pred\": 0.6351539427566906}, {\"GRE\": 311, \"TOEFL\": 104, \"Rate\": 3, \"SOP\": 4.5, \"LOR \": 4.5, \"CGPA\": 8.43, \"Research\": 0, \"Chance\": 0.7, \"Pred\": 0.690063889800131}, {\"GRE\": 313, \"TOEFL\": 107, \"Rate\": 3, \"SOP\": 4.0, \"LOR \": 4.5, \"CGPA\": 8.69, \"Research\": 0, \"Chance\": 0.72, \"Pred\": 0.7348742858506958}, {\"GRE\": 317, \"TOEFL\": 103, \"Rate\": 3, \"SOP\": 2.5, \"LOR \": 3.0, \"CGPA\": 8.54, \"Research\": 1, \"Chance\": 0.73, \"Pred\": 0.7082578756978808}, {\"GRE\": 315, \"TOEFL\": 110, \"Rate\": 2, \"SOP\": 3.5, \"LOR \": 3.0, \"CGPA\": 8.46, \"Research\": 1, \"Chance\": 0.72, \"Pred\": 0.7066831068065789}, {\"GRE\": 340, \"TOEFL\": 120, \"Rate\": 5, \"SOP\": 4.5, \"LOR \": 4.5, \"CGPA\": 9.91, \"Research\": 1, \"Chance\": 0.97, \"Pred\": 0.9991508683191135}, {\"GRE\": 334, \"TOEFL\": 120, \"Rate\": 5, \"SOP\": 4.0, \"LOR \": 5.0, \"CGPA\": 9.87, \"Research\": 1, \"Chance\": 0.97, \"Pred\": 0.9967979689358601}, {\"GRE\": 298, \"TOEFL\": 105, \"Rate\": 3, \"SOP\": 3.5, \"LOR \": 4.0, \"CGPA\": 8.54, \"Research\": 0, \"Chance\": 0.69, \"Pred\": 0.6756090614704333}, {\"GRE\": 295, \"TOEFL\": 99, \"Rate\": 2, \"SOP\": 2.5, \"LOR \": 3.0, \"CGPA\": 7.65, \"Research\": 0, \"Chance\": 0.57, \"Pred\": 0.5222586357362682}, {\"GRE\": 315, \"TOEFL\": 99, \"Rate\": 2, \"SOP\": 3.5, \"LOR \": 3.0, \"CGPA\": 7.89, \"Research\": 0, \"Chance\": 0.63, \"Pred\": 0.5822471669747706}, {\"GRE\": 310, \"TOEFL\": 102, \"Rate\": 3, \"SOP\": 3.5, \"LOR \": 4.0, \"CGPA\": 8.02, \"Research\": 1, \"Chance\": 0.66, \"Pred\": 0.6503758602966938}, {\"GRE\": 305, \"TOEFL\": 106, \"Rate\": 2, \"SOP\": 3.0, \"LOR \": 3.0, \"CGPA\": 8.16, \"Research\": 0, \"Chance\": 0.64, \"Pred\": 0.6190763259768379}, {\"GRE\": 301, \"TOEFL\": 104, \"Rate\": 3, \"SOP\": 3.5, \"LOR \": 4.0, \"CGPA\": 8.12, \"Research\": 1, \"Chance\": 0.68, \"Pred\": 0.6524722551511206}, {\"GRE\": 325, \"TOEFL\": 108, \"Rate\": 4, \"SOP\": 4.5, \"LOR \": 4.0, \"CGPA\": 9.06, \"Research\": 1, \"Chance\": 0.79, \"Pred\": 0.8200630155942232}, {\"GRE\": 328, \"TOEFL\": 110, \"Rate\": 4, \"SOP\": 5.0, \"LOR \": 4.0, \"CGPA\": 9.14, \"Research\": 1, \"Chance\": 0.82, \"Pred\": 0.8389769757063446}, {\"GRE\": 338, \"TOEFL\": 120, \"Rate\": 4, \"SOP\": 5.0, \"LOR \": 5.0, \"CGPA\": 9.66, \"Research\": 1, \"Chance\": 0.95, \"Pred\": 0.9697485027845529}, {\"GRE\": 333, \"TOEFL\": 119, \"Rate\": 5, \"SOP\": 5.0, \"LOR \": 4.5, \"CGPA\": 9.78, \"Research\": 1, \"Chance\": 0.96, \"Pred\": 0.9669546970149423}, {\"GRE\": 331, \"TOEFL\": 117, \"Rate\": 4, \"SOP\": 4.5, \"LOR \": 5.0, \"CGPA\": 9.42, \"Research\": 1, \"Chance\": 0.94, \"Pred\": 0.9219350069959245}, {\"GRE\": 330, \"TOEFL\": 116, \"Rate\": 5, \"SOP\": 5.0, \"LOR \": 4.5, \"CGPA\": 9.36, \"Research\": 1, \"Chance\": 0.93, \"Pred\": 0.9030291613403716}, {\"GRE\": 322, \"TOEFL\": 112, \"Rate\": 4, \"SOP\": 4.5, \"LOR \": 4.5, \"CGPA\": 9.26, \"Research\": 1, \"Chance\": 0.91, \"Pred\": 0.8614935425324675}, {\"GRE\": 321, \"TOEFL\": 109, \"Rate\": 4, \"SOP\": 4.0, \"LOR \": 4.0, \"CGPA\": 9.13, \"Research\": 1, \"Chance\": 0.85, \"Pred\": 0.8260112924014174}, {\"GRE\": 324, \"TOEFL\": 110, \"Rate\": 4, \"SOP\": 3.0, \"LOR \": 3.5, \"CGPA\": 8.97, \"Research\": 1, \"Chance\": 0.84, \"Pred\": 0.8072413967367462}, {\"GRE\": 312, \"TOEFL\": 104, \"Rate\": 3, \"SOP\": 3.5, \"LOR \": 3.5, \"CGPA\": 8.42, \"Research\": 0, \"Chance\": 0.74, \"Pred\": 0.6715639485518816}, {\"GRE\": 313, \"TOEFL\": 103, \"Rate\": 3, \"SOP\": 4.0, \"LOR \": 4.0, \"CGPA\": 8.75, \"Research\": 0, \"Chance\": 0.76, \"Pred\": 0.7191557821346375}, {\"GRE\": 316, \"TOEFL\": 110, \"Rate\": 3, \"SOP\": 3.5, \"LOR \": 4.0, \"CGPA\": 8.56, \"Research\": 0, \"Chance\": 0.75, \"Pred\": 0.723859142905253}, {\"GRE\": 324, \"TOEFL\": 113, \"Rate\": 4, \"SOP\": 4.5, \"LOR \": 4.0, \"CGPA\": 8.79, \"Research\": 0, \"Chance\": 0.76, \"Pred\": 0.7762847293413129}, {\"GRE\": 308, \"TOEFL\": 109, \"Rate\": 2, \"SOP\": 3.0, \"LOR \": 4.0, \"CGPA\": 8.45, \"Research\": 0, \"Chance\": 0.71, \"Pred\": 0.6898928600121537}, {\"GRE\": 305, \"TOEFL\": 105, \"Rate\": 2, \"SOP\": 3.0, \"LOR \": 2.0, \"CGPA\": 8.23, \"Research\": 0, \"Chance\": 0.67, \"Pred\": 0.6021293835833454}, {\"GRE\": 296, \"TOEFL\": 99, \"Rate\": 2, \"SOP\": 2.5, \"LOR \": 2.5, \"CGPA\": 8.03, \"Research\": 0, \"Chance\": 0.61, \"Pred\": 0.5580164760099746}, {\"GRE\": 306, \"TOEFL\": 110, \"Rate\": 2, \"SOP\": 3.5, \"LOR \": 4.0, \"CGPA\": 8.45, \"Research\": 0, \"Chance\": 0.63, \"Pred\": 0.6876850291645176}, {\"GRE\": 312, \"TOEFL\": 110, \"Rate\": 2, \"SOP\": 3.5, \"LOR \": 3.0, \"CGPA\": 8.53, \"Research\": 0, \"Chance\": 0.64, \"Pred\": 0.6852715275500054}, {\"GRE\": 318, \"TOEFL\": 112, \"Rate\": 3, \"SOP\": 4.0, \"LOR \": 3.5, \"CGPA\": 8.67, \"Research\": 0, \"Chance\": 0.71, \"Pred\": 0.7334273113900918}, {\"GRE\": 324, \"TOEFL\": 111, \"Rate\": 4, \"SOP\": 3.0, \"LOR \": 3.0, \"CGPA\": 9.01, \"Research\": 1, \"Chance\": 0.82, \"Pred\": 0.8037419880333727}, {\"GRE\": 313, \"TOEFL\": 104, \"Rate\": 3, \"SOP\": 4.0, \"LOR \": 4.5, \"CGPA\": 8.65, \"Research\": 0, \"Chance\": 0.73, \"Pred\": 0.7213579772560392}, {\"GRE\": 319, \"TOEFL\": 106, \"Rate\": 3, \"SOP\": 3.5, \"LOR \": 2.5, \"CGPA\": 8.33, \"Research\": 1, \"Chance\": 0.74, \"Pred\": 0.6810324113260617}, {\"GRE\": 312, \"TOEFL\": 107, \"Rate\": 2, \"SOP\": 2.5, \"LOR \": 3.5, \"CGPA\": 8.27, \"Research\": 0, \"Chance\": 0.69, \"Pred\": 0.6600702718732476}, {\"GRE\": 304, \"TOEFL\": 100, \"Rate\": 2, \"SOP\": 2.5, \"LOR \": 3.5, \"CGPA\": 8.07, \"Research\": 0, \"Chance\": 0.64, \"Pred\": 0.6019460508672527}, {\"GRE\": 330, \"TOEFL\": 113, \"Rate\": 5, \"SOP\": 5.0, \"LOR \": 4.0, \"CGPA\": 9.31, \"Research\": 1, \"Chance\": 0.91, \"Pred\": 0.8771468945455652}, {\"GRE\": 326, \"TOEFL\": 111, \"Rate\": 5, \"SOP\": 4.5, \"LOR \": 4.0, \"CGPA\": 9.23, \"Research\": 1, \"Chance\": 0.88, \"Pred\": 0.8564955228624289}, {\"GRE\": 325, \"TOEFL\": 112, \"Rate\": 4, \"SOP\": 4.0, \"LOR \": 4.5, \"CGPA\": 9.17, \"Research\": 1, \"Chance\": 0.85, \"Pred\": 0.8576538109443097}, {\"GRE\": 329, \"TOEFL\": 114, \"Rate\": 5, \"SOP\": 4.5, \"LOR \": 5.0, \"CGPA\": 9.19, \"Research\": 1, \"Chance\": 0.86, \"Pred\": 0.8880620372107246}, {\"GRE\": 310, \"TOEFL\": 104, \"Rate\": 3, \"SOP\": 2.0, \"LOR \": 3.5, \"CGPA\": 8.37, \"Research\": 0, \"Chance\": 0.7, \"Pred\": 0.6670999062976015}, {\"GRE\": 299, \"TOEFL\": 100, \"Rate\": 1, \"SOP\": 1.5, \"LOR \": 2.0, \"CGPA\": 7.89, \"Research\": 0, \"Chance\": 0.59, \"Pred\": 0.5359087112823231}, {\"GRE\": 296, \"TOEFL\": 101, \"Rate\": 1, \"SOP\": 2.5, \"LOR \": 3.0, \"CGPA\": 7.68, \"Research\": 0, \"Chance\": 0.6, \"Pred\": 0.5276867264141225}, {\"GRE\": 317, \"TOEFL\": 103, \"Rate\": 2, \"SOP\": 2.5, \"LOR \": 2.0, \"CGPA\": 8.15, \"Research\": 0, \"Chance\": 0.65, \"Pred\": 0.6092765970364347}, {\"GRE\": 324, \"TOEFL\": 115, \"Rate\": 3, \"SOP\": 3.5, \"LOR \": 3.0, \"CGPA\": 8.76, \"Research\": 1, \"Chance\": 0.7, \"Pred\": 0.7783161892443615}, {\"GRE\": 325, \"TOEFL\": 114, \"Rate\": 3, \"SOP\": 3.5, \"LOR \": 3.0, \"CGPA\": 9.04, \"Research\": 1, \"Chance\": 0.76, \"Pred\": 0.8104370710056188}, {\"GRE\": 314, \"TOEFL\": 107, \"Rate\": 2, \"SOP\": 2.5, \"LOR \": 4.0, \"CGPA\": 8.56, \"Research\": 0, \"Chance\": 0.63, \"Pred\": 0.7092141002225947}, {\"GRE\": 328, \"TOEFL\": 110, \"Rate\": 4, \"SOP\": 4.0, \"LOR \": 2.5, \"CGPA\": 9.02, \"Research\": 1, \"Chance\": 0.81, \"Pred\": 0.7944797193272286}, {\"GRE\": 316, \"TOEFL\": 105, \"Rate\": 3, \"SOP\": 3.0, \"LOR \": 3.5, \"CGPA\": 8.73, \"Research\": 0, \"Chance\": 0.72, \"Pred\": 0.719956986790476}, {\"GRE\": 311, \"TOEFL\": 104, \"Rate\": 2, \"SOP\": 2.5, \"LOR \": 3.5, \"CGPA\": 8.48, \"Research\": 0, \"Chance\": 0.71, \"Pred\": 0.674551415106835}, {\"GRE\": 324, \"TOEFL\": 110, \"Rate\": 3, \"SOP\": 3.5, \"LOR \": 4.0, \"CGPA\": 8.87, \"Research\": 1, \"Chance\": 0.8, \"Pred\": 0.7991547723837684}, {\"GRE\": 321, \"TOEFL\": 111, \"Rate\": 3, \"SOP\": 3.5, \"LOR \": 4.0, \"CGPA\": 8.83, \"Research\": 1, \"Chance\": 0.77, \"Pred\": 0.7921045363437702}, {\"GRE\": 320, \"TOEFL\": 104, \"Rate\": 3, \"SOP\": 3.0, \"LOR \": 2.5, \"CGPA\": 8.57, \"Research\": 1, \"Chance\": 0.74, \"Pred\": 0.7071287226490464}, {\"GRE\": 316, \"TOEFL\": 99, \"Rate\": 2, \"SOP\": 2.5, \"LOR \": 3.0, \"CGPA\": 9.0, \"Research\": 0, \"Chance\": 0.7, \"Pred\": 0.7193125410835564}, {\"GRE\": 318, \"TOEFL\": 100, \"Rate\": 2, \"SOP\": 2.5, \"LOR \": 3.5, \"CGPA\": 8.54, \"Research\": 1, \"Chance\": 0.71, \"Pred\": 0.7066964623473782}, {\"GRE\": 335, \"TOEFL\": 115, \"Rate\": 4, \"SOP\": 4.5, \"LOR \": 4.5, \"CGPA\": 9.68, \"Research\": 1, \"Chance\": 0.93, \"Pred\": 0.942793193917179}, {\"GRE\": 321, \"TOEFL\": 114, \"Rate\": 4, \"SOP\": 4.0, \"LOR \": 5.0, \"CGPA\": 9.12, \"Research\": 0, \"Chance\": 0.85, \"Pred\": 0.8372478029831087}, {\"GRE\": 307, \"TOEFL\": 110, \"Rate\": 4, \"SOP\": 4.0, \"LOR \": 4.5, \"CGPA\": 8.37, \"Research\": 0, \"Chance\": 0.79, \"Pred\": 0.7008645798592577}, {\"GRE\": 309, \"TOEFL\": 99, \"Rate\": 3, \"SOP\": 4.0, \"LOR \": 4.0, \"CGPA\": 8.56, \"Research\": 0, \"Chance\": 0.76, \"Pred\": 0.6779293323994449}, {\"GRE\": 324, \"TOEFL\": 100, \"Rate\": 3, \"SOP\": 4.0, \"LOR \": 5.0, \"CGPA\": 8.64, \"Research\": 1, \"Chance\": 0.78, \"Pred\": 0.7633034726930263}, {\"GRE\": 326, \"TOEFL\": 102, \"Rate\": 4, \"SOP\": 5.0, \"LOR \": 5.0, \"CGPA\": 8.76, \"Research\": 1, \"Chance\": 0.77, \"Pred\": 0.7893016729904032}, {\"GRE\": 331, \"TOEFL\": 119, \"Rate\": 4, \"SOP\": 5.0, \"LOR \": 4.5, \"CGPA\": 9.34, \"Research\": 1, \"Chance\": 0.9, \"Pred\": 0.9054298561552991}, {\"GRE\": 327, \"TOEFL\": 108, \"Rate\": 5, \"SOP\": 5.0, \"LOR \": 3.5, \"CGPA\": 9.13, \"Research\": 1, \"Chance\": 0.87, \"Pred\": 0.8247511104362519}, {\"GRE\": 312, \"TOEFL\": 104, \"Rate\": 3, \"SOP\": 3.5, \"LOR \": 4.0, \"CGPA\": 8.09, \"Research\": 0, \"Chance\": 0.71, \"Pred\": 0.643490492529041}, {\"GRE\": 308, \"TOEFL\": 103, \"Rate\": 2, \"SOP\": 2.5, \"LOR \": 4.0, \"CGPA\": 8.36, \"Research\": 1, \"Chance\": 0.7, \"Pred\": 0.6878485391047269}, {\"GRE\": 324, \"TOEFL\": 111, \"Rate\": 3, \"SOP\": 2.5, \"LOR \": 1.5, \"CGPA\": 8.79, \"Research\": 1, \"Chance\": 0.7, \"Pred\": 0.7399815436370991}, {\"GRE\": 325, \"TOEFL\": 110, \"Rate\": 2, \"SOP\": 3.0, \"LOR \": 2.5, \"CGPA\": 8.76, \"Research\": 1, \"Chance\": 0.75, \"Pred\": 0.7502150794541824}, {\"GRE\": 313, \"TOEFL\": 102, \"Rate\": 3, \"SOP\": 2.5, \"LOR \": 2.5, \"CGPA\": 8.68, \"Research\": 0, \"Chance\": 0.71, \"Pred\": 0.6793385061409807}, {\"GRE\": 312, \"TOEFL\": 105, \"Rate\": 2, \"SOP\": 2.0, \"LOR \": 2.5, \"CGPA\": 8.45, \"Research\": 0, \"Chance\": 0.72, \"Pred\": 0.654939677081037}, {\"GRE\": 314, \"TOEFL\": 107, \"Rate\": 3, \"SOP\": 3.0, \"LOR \": 3.5, \"CGPA\": 8.17, \"Research\": 1, \"Chance\": 0.73, \"Pred\": 0.6802403295632842}, {\"GRE\": 327, \"TOEFL\": 113, \"Rate\": 4, \"SOP\": 4.5, \"LOR \": 5.0, \"CGPA\": 9.14, \"Research\": 0, \"Chance\": 0.83, \"Pred\": 0.8454789001416756}, {\"GRE\": 308, \"TOEFL\": 108, \"Rate\": 4, \"SOP\": 4.5, \"LOR \": 5.0, \"CGPA\": 8.34, \"Research\": 0, \"Chance\": 0.77, \"Pred\": 0.7027186333301574}, {\"GRE\": 306, \"TOEFL\": 105, \"Rate\": 2, \"SOP\": 2.5, \"LOR \": 3.0, \"CGPA\": 8.22, \"Research\": 1, \"Chance\": 0.72, \"Pred\": 0.6512082187646056}, {\"GRE\": 299, \"TOEFL\": 96, \"Rate\": 2, \"SOP\": 1.5, \"LOR \": 2.0, \"CGPA\": 7.86, \"Research\": 0, \"Chance\": 0.54, \"Pred\": 0.5263788785416328}, {\"GRE\": 294, \"TOEFL\": 95, \"Rate\": 1, \"SOP\": 1.5, \"LOR \": 1.5, \"CGPA\": 7.64, \"Research\": 0, \"Chance\": 0.49, \"Pred\": 0.47171234227918957}, {\"GRE\": 312, \"TOEFL\": 99, \"Rate\": 1, \"SOP\": 1.0, \"LOR \": 1.5, \"CGPA\": 8.01, \"Research\": 1, \"Chance\": 0.52, \"Pred\": 0.5848493464739017}, {\"GRE\": 315, \"TOEFL\": 100, \"Rate\": 1, \"SOP\": 2.0, \"LOR \": 2.5, \"CGPA\": 7.95, \"Research\": 0, \"Chance\": 0.58, \"Pred\": 0.5803676427760165}, {\"GRE\": 322, \"TOEFL\": 110, \"Rate\": 3, \"SOP\": 3.5, \"LOR \": 3.0, \"CGPA\": 8.96, \"Research\": 1, \"Chance\": 0.78, \"Pred\": 0.784031372737114}, {\"GRE\": 329, \"TOEFL\": 113, \"Rate\": 5, \"SOP\": 5.0, \"LOR \": 4.5, \"CGPA\": 9.45, \"Research\": 1, \"Chance\": 0.89, \"Pred\": 0.9032375701423148}, {\"GRE\": 320, \"TOEFL\": 101, \"Rate\": 2, \"SOP\": 2.5, \"LOR \": 3.0, \"CGPA\": 8.62, \"Research\": 0, \"Chance\": 0.7, \"Pred\": 0.6869043486345907}, {\"GRE\": 308, \"TOEFL\": 103, \"Rate\": 2, \"SOP\": 3.0, \"LOR \": 3.5, \"CGPA\": 8.49, \"Research\": 0, \"Chance\": 0.66, \"Pred\": 0.6659564135903047}, {\"GRE\": 304, \"TOEFL\": 102, \"Rate\": 2, \"SOP\": 3.0, \"LOR \": 4.0, \"CGPA\": 8.73, \"Research\": 0, \"Chance\": 0.67, \"Pred\": 0.6958092230167909}, {\"GRE\": 311, \"TOEFL\": 102, \"Rate\": 3, \"SOP\": 4.5, \"LOR \": 4.0, \"CGPA\": 8.64, \"Research\": 1, \"Chance\": 0.68, \"Pred\": 0.7225505640528014}, {\"GRE\": 317, \"TOEFL\": 110, \"Rate\": 3, \"SOP\": 4.0, \"LOR \": 4.5, \"CGPA\": 9.11, \"Research\": 1, \"Chance\": 0.8, \"Pred\": 0.8250623393916043}, {\"GRE\": 312, \"TOEFL\": 106, \"Rate\": 3, \"SOP\": 4.0, \"LOR \": 3.5, \"CGPA\": 8.79, \"Research\": 1, \"Chance\": 0.81, \"Pred\": 0.7442832217894237}, {\"GRE\": 321, \"TOEFL\": 111, \"Rate\": 3, \"SOP\": 2.5, \"LOR \": 3.0, \"CGPA\": 8.9, \"Research\": 1, \"Chance\": 0.8, \"Pred\": 0.7813823398122695}, {\"GRE\": 340, \"TOEFL\": 112, \"Rate\": 4, \"SOP\": 5.0, \"LOR \": 4.5, \"CGPA\": 9.66, \"Research\": 1, \"Chance\": 0.94, \"Pred\": 0.9386901477270004}, {\"GRE\": 331, \"TOEFL\": 116, \"Rate\": 5, \"SOP\": 4.0, \"LOR \": 4.0, \"CGPA\": 9.26, \"Research\": 1, \"Chance\": 0.93, \"Pred\": 0.8850012329325689}, {\"GRE\": 336, \"TOEFL\": 118, \"Rate\": 5, \"SOP\": 4.5, \"LOR \": 4.0, \"CGPA\": 9.19, \"Research\": 1, \"Chance\": 0.92, \"Pred\": 0.8895490981471641}, {\"GRE\": 324, \"TOEFL\": 114, \"Rate\": 5, \"SOP\": 5.0, \"LOR \": 4.5, \"CGPA\": 9.08, \"Research\": 1, \"Chance\": 0.89, \"Pred\": 0.853462491273268}, {\"GRE\": 314, \"TOEFL\": 104, \"Rate\": 4, \"SOP\": 5.0, \"LOR \": 5.0, \"CGPA\": 9.02, \"Research\": 0, \"Chance\": 0.82, \"Pred\": 0.7806910394119895}, {\"GRE\": 313, \"TOEFL\": 109, \"Rate\": 3, \"SOP\": 4.0, \"LOR \": 3.5, \"CGPA\": 9.0, \"Research\": 0, \"Chance\": 0.79, \"Pred\": 0.7552315427712666}, {\"GRE\": 307, \"TOEFL\": 105, \"Rate\": 2, \"SOP\": 2.5, \"LOR \": 3.0, \"CGPA\": 7.65, \"Research\": 0, \"Chance\": 0.58, \"Pred\": 0.5606250354899875}, {\"GRE\": 300, \"TOEFL\": 102, \"Rate\": 2, \"SOP\": 1.5, \"LOR \": 2.0, \"CGPA\": 7.87, \"Research\": 0, \"Chance\": 0.56, \"Pred\": 0.546823145550168}, {\"GRE\": 302, \"TOEFL\": 99, \"Rate\": 2, \"SOP\": 1.0, \"LOR \": 2.0, \"CGPA\": 7.97, \"Research\": 0, \"Chance\": 0.56, \"Pred\": 0.555085768123657}, {\"GRE\": 312, \"TOEFL\": 98, \"Rate\": 1, \"SOP\": 3.5, \"LOR \": 3.0, \"CGPA\": 8.18, \"Research\": 1, \"Chance\": 0.64, \"Pred\": 0.6274162451483449}, {\"GRE\": 316, \"TOEFL\": 101, \"Rate\": 2, \"SOP\": 2.5, \"LOR \": 2.0, \"CGPA\": 8.32, \"Research\": 1, \"Chance\": 0.61, \"Pred\": 0.6464448452383893}, {\"GRE\": 317, \"TOEFL\": 100, \"Rate\": 2, \"SOP\": 3.0, \"LOR \": 2.5, \"CGPA\": 8.57, \"Research\": 0, \"Chance\": 0.68, \"Pred\": 0.6599964162380594}, {\"GRE\": 310, \"TOEFL\": 107, \"Rate\": 3, \"SOP\": 3.5, \"LOR \": 3.5, \"CGPA\": 8.67, \"Research\": 0, \"Chance\": 0.76, \"Pred\": 0.706582719259887}, {\"GRE\": 320, \"TOEFL\": 120, \"Rate\": 3, \"SOP\": 4.0, \"LOR \": 4.5, \"CGPA\": 9.11, \"Research\": 0, \"Chance\": 0.86, \"Pred\": 0.8349452359785745}, {\"GRE\": 330, \"TOEFL\": 114, \"Rate\": 3, \"SOP\": 4.5, \"LOR \": 4.5, \"CGPA\": 9.24, \"Research\": 1, \"Chance\": 0.9, \"Pred\": 0.8731365415275689}, {\"GRE\": 305, \"TOEFL\": 112, \"Rate\": 3, \"SOP\": 3.0, \"LOR \": 3.5, \"CGPA\": 8.65, \"Research\": 0, \"Chance\": 0.71, \"Pred\": 0.7117673409400347}, {\"GRE\": 309, \"TOEFL\": 106, \"Rate\": 2, \"SOP\": 2.5, \"LOR \": 2.5, \"CGPA\": 8.0, \"Research\": 0, \"Chance\": 0.62, \"Pred\": 0.5974716805437223}, {\"GRE\": 319, \"TOEFL\": 108, \"Rate\": 2, \"SOP\": 2.5, \"LOR \": 3.0, \"CGPA\": 8.76, \"Research\": 0, \"Chance\": 0.66, \"Pred\": 0.7222554982856371}, {\"GRE\": 322, \"TOEFL\": 105, \"Rate\": 2, \"SOP\": 3.0, \"LOR \": 3.0, \"CGPA\": 8.45, \"Research\": 1, \"Chance\": 0.65, \"Pred\": 0.7047102937056144}, {\"GRE\": 323, \"TOEFL\": 107, \"Rate\": 3, \"SOP\": 3.5, \"LOR \": 3.5, \"CGPA\": 8.55, \"Research\": 1, \"Chance\": 0.73, \"Pred\": 0.7394214415467495}, {\"GRE\": 313, \"TOEFL\": 106, \"Rate\": 2, \"SOP\": 2.5, \"LOR \": 2.0, \"CGPA\": 8.43, \"Research\": 0, \"Chance\": 0.62, \"Pred\": 0.6443887282103222}, {\"GRE\": 321, \"TOEFL\": 109, \"Rate\": 3, \"SOP\": 3.5, \"LOR \": 3.5, \"CGPA\": 8.8, \"Research\": 1, \"Chance\": 0.74, \"Pred\": 0.7715206354378294}, {\"GRE\": 323, \"TOEFL\": 110, \"Rate\": 3, \"SOP\": 4.0, \"LOR \": 3.5, \"CGPA\": 9.1, \"Research\": 1, \"Chance\": 0.79, \"Pred\": 0.8119442869533586}, {\"GRE\": 325, \"TOEFL\": 112, \"Rate\": 4, \"SOP\": 4.0, \"LOR \": 4.0, \"CGPA\": 9.0, \"Research\": 1, \"Chance\": 0.8, \"Pred\": 0.8262575401686345}, {\"GRE\": 312, \"TOEFL\": 108, \"Rate\": 3, \"SOP\": 3.5, \"LOR \": 3.0, \"CGPA\": 8.53, \"Research\": 0, \"Chance\": 0.69, \"Pred\": 0.6851490320510762}, {\"GRE\": 308, \"TOEFL\": 110, \"Rate\": 4, \"SOP\": 3.5, \"LOR \": 3.0, \"CGPA\": 8.6, \"Research\": 0, \"Chance\": 0.7, \"Pred\": 0.6980809592875834}, {\"GRE\": 320, \"TOEFL\": 104, \"Rate\": 3, \"SOP\": 3.0, \"LOR \": 3.5, \"CGPA\": 8.74, \"Research\": 1, \"Chance\": 0.76, \"Pred\": 0.749701557088901}, {\"GRE\": 328, \"TOEFL\": 108, \"Rate\": 4, \"SOP\": 4.5, \"LOR \": 4.0, \"CGPA\": 9.18, \"Research\": 1, \"Chance\": 0.84, \"Pred\": 0.8395479847389089}, {\"GRE\": 311, \"TOEFL\": 107, \"Rate\": 4, \"SOP\": 4.5, \"LOR \": 4.5, \"CGPA\": 9.0, \"Research\": 1, \"Chance\": 0.78, \"Pred\": 0.7968598732314589}, {\"GRE\": 301, \"TOEFL\": 100, \"Rate\": 3, \"SOP\": 3.5, \"LOR \": 3.0, \"CGPA\": 8.04, \"Research\": 0, \"Chance\": 0.67, \"Pred\": 0.5844005579719747}, {\"GRE\": 305, \"TOEFL\": 105, \"Rate\": 2, \"SOP\": 3.0, \"LOR \": 4.0, \"CGPA\": 8.13, \"Research\": 0, \"Chance\": 0.66, \"Pred\": 0.6349416928803613}, {\"GRE\": 308, \"TOEFL\": 104, \"Rate\": 2, \"SOP\": 2.5, \"LOR \": 3.0, \"CGPA\": 8.07, \"Research\": 0, \"Chance\": 0.65, \"Pred\": 0.6093974407548299}, {\"GRE\": 298, \"TOEFL\": 101, \"Rate\": 2, \"SOP\": 1.5, \"LOR \": 2.0, \"CGPA\": 7.86, \"Research\": 0, \"Chance\": 0.54, \"Pred\": 0.5392393510552442}, {\"GRE\": 300, \"TOEFL\": 99, \"Rate\": 1, \"SOP\": 1.0, \"LOR \": 2.5, \"CGPA\": 8.01, \"Research\": 0, \"Chance\": 0.58, \"Pred\": 0.5618284286547686}, {\"GRE\": 324, \"TOEFL\": 111, \"Rate\": 3, \"SOP\": 2.5, \"LOR \": 2.0, \"CGPA\": 8.8, \"Research\": 1, \"Chance\": 0.79, \"Pred\": 0.7523475018372492}, {\"GRE\": 327, \"TOEFL\": 113, \"Rate\": 4, \"SOP\": 3.5, \"LOR \": 3.0, \"CGPA\": 8.69, \"Research\": 1, \"Chance\": 0.8, \"Pred\": 0.775080166706682}, {\"GRE\": 317, \"TOEFL\": 106, \"Rate\": 3, \"SOP\": 4.0, \"LOR \": 3.5, \"CGPA\": 8.5, \"Research\": 1, \"Chance\": 0.75, \"Pred\": 0.718477838101355}, {\"GRE\": 323, \"TOEFL\": 104, \"Rate\": 3, \"SOP\": 4.0, \"LOR \": 4.0, \"CGPA\": 8.44, \"Research\": 1, \"Chance\": 0.73, \"Pred\": 0.7271033503419471}, {\"GRE\": 314, \"TOEFL\": 107, \"Rate\": 2, \"SOP\": 2.5, \"LOR \": 4.0, \"CGPA\": 8.27, \"Research\": 0, \"Chance\": 0.72, \"Pred\": 0.6747216586794555}, {\"GRE\": 305, \"TOEFL\": 102, \"Rate\": 2, \"SOP\": 2.0, \"LOR \": 2.5, \"CGPA\": 8.18, \"Research\": 0, \"Chance\": 0.62, \"Pred\": 0.6019054131619646}, {\"GRE\": 315, \"TOEFL\": 104, \"Rate\": 3, \"SOP\": 3.0, \"LOR \": 2.5, \"CGPA\": 8.33, \"Research\": 0, \"Chance\": 0.67, \"Pred\": 0.6453710896353648}, {\"GRE\": 326, \"TOEFL\": 116, \"Rate\": 3, \"SOP\": 3.5, \"LOR \": 4.0, \"CGPA\": 9.14, \"Research\": 1, \"Chance\": 0.81, \"Pred\": 0.8522607088985461}, {\"GRE\": 299, \"TOEFL\": 100, \"Rate\": 3, \"SOP\": 2.0, \"LOR \": 2.0, \"CGPA\": 8.02, \"Research\": 0, \"Chance\": 0.63, \"Pred\": 0.561151571997246}, {\"GRE\": 295, \"TOEFL\": 101, \"Rate\": 2, \"SOP\": 2.5, \"LOR \": 2.0, \"CGPA\": 7.86, \"Research\": 0, \"Chance\": 0.69, \"Pred\": 0.5307219472971356}, {\"GRE\": 324, \"TOEFL\": 112, \"Rate\": 4, \"SOP\": 4.0, \"LOR \": 3.5, \"CGPA\": 8.77, \"Research\": 1, \"Chance\": 0.8, \"Pred\": 0.7859874906061235}, {\"GRE\": 297, \"TOEFL\": 96, \"Rate\": 2, \"SOP\": 2.5, \"LOR \": 1.5, \"CGPA\": 7.89, \"Research\": 0, \"Chance\": 0.43, \"Pred\": 0.5119905062982693}, {\"GRE\": 327, \"TOEFL\": 113, \"Rate\": 3, \"SOP\": 3.5, \"LOR \": 3.0, \"CGPA\": 8.66, \"Research\": 1, \"Chance\": 0.8, \"Pred\": 0.76579532496385}, {\"GRE\": 311, \"TOEFL\": 105, \"Rate\": 2, \"SOP\": 3.0, \"LOR \": 2.0, \"CGPA\": 8.12, \"Research\": 1, \"Chance\": 0.73, \"Pred\": 0.6239956194090799}, {\"GRE\": 308, \"TOEFL\": 106, \"Rate\": 3, \"SOP\": 3.5, \"LOR \": 2.5, \"CGPA\": 8.21, \"Research\": 1, \"Chance\": 0.75, \"Pred\": 0.6476481496132633}, {\"GRE\": 319, \"TOEFL\": 108, \"Rate\": 3, \"SOP\": 3.0, \"LOR \": 3.5, \"CGPA\": 8.54, \"Research\": 1, \"Chance\": 0.71, \"Pred\": 0.7358545620661809}, {\"GRE\": 312, \"TOEFL\": 107, \"Rate\": 4, \"SOP\": 4.5, \"LOR \": 4.0, \"CGPA\": 8.65, \"Research\": 1, \"Chance\": 0.73, \"Pred\": 0.7457919123793324}, {\"GRE\": 325, \"TOEFL\": 111, \"Rate\": 4, \"SOP\": 4.0, \"LOR \": 4.5, \"CGPA\": 9.11, \"Research\": 1, \"Chance\": 0.83, \"Pred\": 0.8475978669115631}, {\"GRE\": 319, \"TOEFL\": 110, \"Rate\": 3, \"SOP\": 3.0, \"LOR \": 2.5, \"CGPA\": 8.79, \"Research\": 0, \"Chance\": 0.72, \"Pred\": 0.7245503454756064}, {\"GRE\": 332, \"TOEFL\": 118, \"Rate\": 5, \"SOP\": 5.0, \"LOR \": 5.0, \"CGPA\": 9.47, \"Research\": 1, \"Chance\": 0.94, \"Pred\": 0.9366030416761031}, {\"GRE\": 323, \"TOEFL\": 108, \"Rate\": 5, \"SOP\": 4.0, \"LOR \": 4.0, \"CGPA\": 8.74, \"Research\": 1, \"Chance\": 0.81, \"Pred\": 0.7858968099585992}, {\"GRE\": 324, \"TOEFL\": 107, \"Rate\": 5, \"SOP\": 3.5, \"LOR \": 4.0, \"CGPA\": 8.66, \"Research\": 1, \"Chance\": 0.81, \"Pred\": 0.7768520729474584}, {\"GRE\": 312, \"TOEFL\": 107, \"Rate\": 3, \"SOP\": 3.0, \"LOR \": 3.0, \"CGPA\": 8.46, \"Research\": 1, \"Chance\": 0.75, \"Pred\": 0.7000813843002154}, {\"GRE\": 326, \"TOEFL\": 110, \"Rate\": 3, \"SOP\": 3.5, \"LOR \": 3.5, \"CGPA\": 8.76, \"Research\": 1, \"Chance\": 0.79, \"Pred\": 0.7783696919659435}, {\"GRE\": 308, \"TOEFL\": 106, \"Rate\": 3, \"SOP\": 3.0, \"LOR \": 3.0, \"CGPA\": 8.24, \"Research\": 0, \"Chance\": 0.58, \"Pred\": 0.6395203751125633}, {\"GRE\": 305, \"TOEFL\": 103, \"Rate\": 2, \"SOP\": 2.5, \"LOR \": 3.5, \"CGPA\": 8.13, \"Research\": 0, \"Chance\": 0.59, \"Pred\": 0.6195785601048642}, {\"GRE\": 295, \"TOEFL\": 96, \"Rate\": 2, \"SOP\": 1.5, \"LOR \": 2.0, \"CGPA\": 7.34, \"Research\": 0, \"Chance\": 0.47, \"Pred\": 0.45758071638711995}, {\"GRE\": 316, \"TOEFL\": 98, \"Rate\": 1, \"SOP\": 1.5, \"LOR \": 2.0, \"CGPA\": 7.43, \"Research\": 0, \"Chance\": 0.49, \"Pred\": 0.5048934057010774}, {\"GRE\": 304, \"TOEFL\": 97, \"Rate\": 2, \"SOP\": 1.5, \"LOR \": 2.0, \"CGPA\": 7.64, \"Research\": 0, \"Chance\": 0.47, \"Pred\": 0.5118188334222811}, {\"GRE\": 299, \"TOEFL\": 94, \"Rate\": 1, \"SOP\": 1.0, \"LOR \": 1.0, \"CGPA\": 7.34, \"Research\": 0, \"Chance\": 0.42, \"Pred\": 0.43227400809657857}, {\"GRE\": 302, \"TOEFL\": 99, \"Rate\": 1, \"SOP\": 2.0, \"LOR \": 2.0, \"CGPA\": 7.25, \"Research\": 0, \"Chance\": 0.57, \"Pred\": 0.46042753435380646}, {\"GRE\": 313, \"TOEFL\": 101, \"Rate\": 3, \"SOP\": 2.5, \"LOR \": 3.0, \"CGPA\": 8.04, \"Research\": 0, \"Chance\": 0.62, \"Pred\": 0.6114742426861348}, {\"GRE\": 318, \"TOEFL\": 107, \"Rate\": 3, \"SOP\": 3.0, \"LOR \": 3.5, \"CGPA\": 8.27, \"Research\": 1, \"Chance\": 0.74, \"Pred\": 0.6990839212070434}, {\"GRE\": 325, \"TOEFL\": 110, \"Rate\": 4, \"SOP\": 3.5, \"LOR \": 4.0, \"CGPA\": 8.67, \"Research\": 1, \"Chance\": 0.73, \"Pred\": 0.7828209513702971}, {\"GRE\": 303, \"TOEFL\": 100, \"Rate\": 2, \"SOP\": 3.0, \"LOR \": 3.5, \"CGPA\": 8.06, \"Research\": 1, \"Chance\": 0.64, \"Pred\": 0.621891766533059}, {\"GRE\": 300, \"TOEFL\": 102, \"Rate\": 3, \"SOP\": 3.5, \"LOR \": 2.5, \"CGPA\": 8.17, \"Research\": 0, \"Chance\": 0.63, \"Pred\": 0.5927878653382455}, {\"GRE\": 297, \"TOEFL\": 98, \"Rate\": 2, \"SOP\": 2.5, \"LOR \": 3.0, \"CGPA\": 7.67, \"Research\": 0, \"Chance\": 0.59, \"Pred\": 0.5251926711333117}, {\"GRE\": 317, \"TOEFL\": 106, \"Rate\": 2, \"SOP\": 2.0, \"LOR \": 3.5, \"CGPA\": 8.12, \"Research\": 0, \"Chance\": 0.73, \"Pred\": 0.6496494193943712}, {\"GRE\": 327, \"TOEFL\": 109, \"Rate\": 3, \"SOP\": 3.5, \"LOR \": 4.0, \"CGPA\": 8.77, \"Research\": 1, \"Chance\": 0.79, \"Pred\": 0.7895534849201822}, {\"GRE\": 301, \"TOEFL\": 104, \"Rate\": 2, \"SOP\": 3.5, \"LOR \": 3.5, \"CGPA\": 7.89, \"Research\": 1, \"Chance\": 0.68, \"Pred\": 0.6082229590247028}, {\"GRE\": 314, \"TOEFL\": 105, \"Rate\": 2, \"SOP\": 2.5, \"LOR \": 2.0, \"CGPA\": 7.64, \"Research\": 0, \"Chance\": 0.7, \"Pred\": 0.5492443946227563}, {\"GRE\": 321, \"TOEFL\": 107, \"Rate\": 2, \"SOP\": 2.0, \"LOR \": 1.5, \"CGPA\": 8.44, \"Research\": 0, \"Chance\": 0.81, \"Pred\": 0.652873012989684}, {\"GRE\": 322, \"TOEFL\": 110, \"Rate\": 3, \"SOP\": 4.0, \"LOR \": 5.0, \"CGPA\": 8.64, \"Research\": 1, \"Chance\": 0.85, \"Pred\": 0.7890244177202492}, {\"GRE\": 334, \"TOEFL\": 116, \"Rate\": 4, \"SOP\": 4.0, \"LOR \": 3.5, \"CGPA\": 9.54, \"Research\": 1, \"Chance\": 0.93, \"Pred\": 0.906623292853679}, {\"GRE\": 338, \"TOEFL\": 115, \"Rate\": 5, \"SOP\": 4.5, \"LOR \": 5.0, \"CGPA\": 9.23, \"Research\": 1, \"Chance\": 0.91, \"Pred\": 0.9113758963106575}, {\"GRE\": 306, \"TOEFL\": 103, \"Rate\": 2, \"SOP\": 2.5, \"LOR \": 3.0, \"CGPA\": 8.36, \"Research\": 0, \"Chance\": 0.69, \"Pred\": 0.637495482339016}, {\"GRE\": 313, \"TOEFL\": 102, \"Rate\": 3, \"SOP\": 3.5, \"LOR \": 4.0, \"CGPA\": 8.9, \"Research\": 1, \"Chance\": 0.77, \"Pred\": 0.7602548141751237}, {\"GRE\": 330, \"TOEFL\": 114, \"Rate\": 4, \"SOP\": 4.5, \"LOR \": 3.0, \"CGPA\": 9.17, \"Research\": 1, \"Chance\": 0.86, \"Pred\": 0.8369977469181584}, {\"GRE\": 320, \"TOEFL\": 104, \"Rate\": 3, \"SOP\": 3.5, \"LOR \": 4.5, \"CGPA\": 8.34, \"Research\": 1, \"Chance\": 0.74, \"Pred\": 0.7228263184559145}, {\"GRE\": 311, \"TOEFL\": 98, \"Rate\": 1, \"SOP\": 1.0, \"LOR \": 2.5, \"CGPA\": 7.46, \"Research\": 0, \"Chance\": 0.57, \"Pred\": 0.5126036796406306}, {\"GRE\": 298, \"TOEFL\": 92, \"Rate\": 1, \"SOP\": 2.0, \"LOR \": 2.0, \"CGPA\": 7.88, \"Research\": 0, \"Chance\": 0.51, \"Pred\": 0.5079727061174046}, {\"GRE\": 301, \"TOEFL\": 98, \"Rate\": 1, \"SOP\": 2.0, \"LOR \": 3.0, \"CGPA\": 8.03, \"Research\": 1, \"Chance\": 0.67, \"Pred\": 0.5954215533952352}, {\"GRE\": 310, \"TOEFL\": 103, \"Rate\": 2, \"SOP\": 2.5, \"LOR \": 2.5, \"CGPA\": 8.24, \"Research\": 0, \"Chance\": 0.72, \"Pred\": 0.6189958305272487}, {\"GRE\": 324, \"TOEFL\": 110, \"Rate\": 3, \"SOP\": 3.5, \"LOR \": 3.0, \"CGPA\": 9.22, \"Research\": 1, \"Chance\": 0.89, \"Pred\": 0.8184304538143705}, {\"GRE\": 336, \"TOEFL\": 119, \"Rate\": 4, \"SOP\": 4.5, \"LOR \": 4.0, \"CGPA\": 9.62, \"Research\": 1, \"Chance\": 0.95, \"Pred\": 0.9378959818758916}, {\"GRE\": 321, \"TOEFL\": 109, \"Rate\": 3, \"SOP\": 3.0, \"LOR \": 3.0, \"CGPA\": 8.54, \"Research\": 1, \"Chance\": 0.79, \"Pred\": 0.7310723983609546}, {\"GRE\": 315, \"TOEFL\": 105, \"Rate\": 2, \"SOP\": 2.0, \"LOR \": 2.5, \"CGPA\": 7.65, \"Research\": 0, \"Chance\": 0.39, \"Pred\": 0.5650003489164537}, {\"GRE\": 304, \"TOEFL\": 101, \"Rate\": 2, \"SOP\": 2.0, \"LOR \": 2.5, \"CGPA\": 7.66, \"Research\": 0, \"Chance\": 0.38, \"Pred\": 0.5353999089035688}, {\"GRE\": 297, \"TOEFL\": 96, \"Rate\": 2, \"SOP\": 2.5, \"LOR \": 2.0, \"CGPA\": 7.43, \"Research\": 0, \"Chance\": 0.34, \"Pred\": 0.46845492130781463}, {\"GRE\": 290, \"TOEFL\": 100, \"Rate\": 1, \"SOP\": 1.5, \"LOR \": 2.0, \"CGPA\": 7.56, \"Research\": 0, \"Chance\": 0.47, \"Pred\": 0.48102198745617586}, {\"GRE\": 303, \"TOEFL\": 98, \"Rate\": 1, \"SOP\": 2.0, \"LOR \": 2.5, \"CGPA\": 7.65, \"Research\": 0, \"Chance\": 0.56, \"Pred\": 0.517997714210888}, {\"GRE\": 311, \"TOEFL\": 99, \"Rate\": 1, \"SOP\": 2.5, \"LOR \": 3.0, \"CGPA\": 8.43, \"Research\": 1, \"Chance\": 0.71, \"Pred\": 0.6616384428385804}, {\"GRE\": 322, \"TOEFL\": 104, \"Rate\": 3, \"SOP\": 3.5, \"LOR \": 4.0, \"CGPA\": 8.84, \"Research\": 1, \"Chance\": 0.78, \"Pred\": 0.7745943047322787}, {\"GRE\": 319, \"TOEFL\": 105, \"Rate\": 3, \"SOP\": 3.0, \"LOR \": 3.5, \"CGPA\": 8.67, \"Research\": 1, \"Chance\": 0.73, \"Pred\": 0.7425579605830197}, {\"GRE\": 324, \"TOEFL\": 110, \"Rate\": 4, \"SOP\": 4.5, \"LOR \": 4.0, \"CGPA\": 9.15, \"Research\": 1, \"Chance\": 0.82, \"Pred\": 0.8348693084807921}, {\"GRE\": 300, \"TOEFL\": 100, \"Rate\": 3, \"SOP\": 3.0, \"LOR \": 3.5, \"CGPA\": 8.26, \"Research\": 0, \"Chance\": 0.62, \"Pred\": 0.6216589743790204}, {\"GRE\": 340, \"TOEFL\": 113, \"Rate\": 4, \"SOP\": 5.0, \"LOR \": 5.0, \"CGPA\": 9.74, \"Research\": 1, \"Chance\": 0.96, \"Pred\": 0.9623014444958675}, {\"GRE\": 335, \"TOEFL\": 117, \"Rate\": 5, \"SOP\": 5.0, \"LOR \": 5.0, \"CGPA\": 9.82, \"Research\": 1, \"Chance\": 0.96, \"Pred\": 0.9805245083311813}, {\"GRE\": 302, \"TOEFL\": 101, \"Rate\": 2, \"SOP\": 2.5, \"LOR \": 3.5, \"CGPA\": 7.96, \"Research\": 0, \"Chance\": 0.46, \"Pred\": 0.5883074646464765}, {\"GRE\": 307, \"TOEFL\": 105, \"Rate\": 2, \"SOP\": 2.0, \"LOR \": 3.5, \"CGPA\": 8.1, \"Research\": 0, \"Chance\": 0.53, \"Pred\": 0.6269769377953647}, {\"GRE\": 296, \"TOEFL\": 97, \"Rate\": 2, \"SOP\": 1.5, \"LOR \": 2.0, \"CGPA\": 7.8, \"Research\": 0, \"Chance\": 0.49, \"Pred\": 0.5169498534296937}, {\"GRE\": 320, \"TOEFL\": 108, \"Rate\": 3, \"SOP\": 3.5, \"LOR \": 4.0, \"CGPA\": 8.44, \"Research\": 1, \"Chance\": 0.76, \"Pred\": 0.7352220074191385}, {\"GRE\": 314, \"TOEFL\": 102, \"Rate\": 2, \"SOP\": 2.0, \"LOR \": 2.5, \"CGPA\": 8.24, \"Research\": 0, \"Chance\": 0.64, \"Pred\": 0.6246784845169131}, {\"GRE\": 318, \"TOEFL\": 106, \"Rate\": 3, \"SOP\": 2.0, \"LOR \": 3.0, \"CGPA\": 8.65, \"Research\": 0, \"Chance\": 0.71, \"Pred\": 0.7089648358425535}, {\"GRE\": 326, \"TOEFL\": 112, \"Rate\": 4, \"SOP\": 4.0, \"LOR \": 3.5, \"CGPA\": 9.12, \"Research\": 1, \"Chance\": 0.84, \"Pred\": 0.8310911225071129}, {\"GRE\": 317, \"TOEFL\": 104, \"Rate\": 2, \"SOP\": 3.0, \"LOR \": 3.0, \"CGPA\": 8.76, \"Research\": 0, \"Chance\": 0.77, \"Pred\": 0.7054497833533755}, {\"GRE\": 329, \"TOEFL\": 111, \"Rate\": 4, \"SOP\": 4.5, \"LOR \": 4.0, \"CGPA\": 9.23, \"Research\": 1, \"Chance\": 0.89, \"Pred\": 0.8559910994405502}, {\"GRE\": 324, \"TOEFL\": 110, \"Rate\": 3, \"SOP\": 3.5, \"LOR \": 3.5, \"CGPA\": 9.04, \"Research\": 1, \"Chance\": 0.82, \"Pred\": 0.8081979158310839}, {\"GRE\": 325, \"TOEFL\": 107, \"Rate\": 3, \"SOP\": 3.0, \"LOR \": 3.5, \"CGPA\": 9.11, \"Research\": 1, \"Chance\": 0.84, \"Pred\": 0.8111549432256482}, {\"GRE\": 330, \"TOEFL\": 116, \"Rate\": 4, \"SOP\": 5.0, \"LOR \": 4.5, \"CGPA\": 9.45, \"Research\": 1, \"Chance\": 0.91, \"Pred\": 0.9080170540291832}, {\"GRE\": 312, \"TOEFL\": 103, \"Rate\": 3, \"SOP\": 3.5, \"LOR \": 4.0, \"CGPA\": 8.78, \"Research\": 0, \"Chance\": 0.67, \"Pred\": 0.7226391386940676}, {\"GRE\": 333, \"TOEFL\": 117, \"Rate\": 4, \"SOP\": 5.0, \"LOR \": 4.0, \"CGPA\": 9.66, \"Research\": 1, \"Chance\": 0.95, \"Pred\": 0.9299495871503478}]}}, {\"mode\": \"vega-lite\"});\n",
       "</script>"
      ],
      "text/plain": [
       "alt.FacetChart(...)"
      ]
     },
     "execution_count": 60,
     "metadata": {},
     "output_type": "execute_result"
    }
   ],
   "source": [
    "alt.Chart(df).mark_circle().encode(\n",
    "    x=alt.X('CGPA', scale=alt.Scale(zero=False)),\n",
    "    y=alt.Y('Chance',scale=alt.Scale(zero=False))\n",
    ").facet(\n",
    "    column=\"Rate\"\n",
    ")"
   ]
  },
  {
   "cell_type": "markdown",
   "metadata": {
    "cell_id": "d8a9ea61bd6947ad8d4d000642b64a32",
    "deepnote_cell_type": "markdown",
    "tags": []
   },
   "source": [
    "From the chart, we can see most of the students in the lowest university rating has less chance and their GPA are also lower than other students. With the university rating become better, students' GPA are imporved, and the scatter is moving to the up-right corner, which means that the Chance imporved when the rating is better."
   ]
  },
  {
   "cell_type": "markdown",
   "metadata": {
    "cell_id": "917ab9934a4848d885ffd3e446ab99eb",
    "deepnote_cell_type": "markdown",
    "tags": []
   },
   "source": [
    "I did not analyze all the relation between all the data, because I think it would be too long and unnecessary. However, above chart could provide us a preview that students who have better condition on these factors are commonly have higher chance. In this case, I want to find out the relationship, and find a model to predict the chance."
   ]
  },
  {
   "cell_type": "markdown",
   "metadata": {
    "cell_id": "5974c23389384619b63bca4b66ceb50b",
    "deepnote_cell_type": "markdown",
    "tags": []
   },
   "source": [
    "## Linear Regression"
   ]
  },
  {
   "cell_type": "markdown",
   "metadata": {
    "cell_id": "b70f89f3885c4db881ec1b8d3ff828b3",
    "deepnote_cell_type": "markdown",
    "tags": []
   },
   "source": [
    "The first model came into my mind is the linear regression, since it looks like the relationship between the factors with chance is linear increasing. In this case, I first try to find out the linear equation."
   ]
  },
  {
   "cell_type": "code",
   "execution_count": 10,
   "metadata": {
    "cell_id": "a3df34dbbbf241a39e737df0b8cda661",
    "deepnote_cell_type": "code",
    "deepnote_to_be_reexecuted": false,
    "execution_millis": 462,
    "execution_start": 1670287805202,
    "source_hash": "9527aab5",
    "tags": []
   },
   "outputs": [],
   "source": [
    "from sklearn.linear_model import LinearRegression"
   ]
  },
  {
   "cell_type": "code",
   "execution_count": 11,
   "metadata": {
    "cell_id": "dc6425961ef04e44b7485ba78c210a7e",
    "deepnote_cell_type": "code",
    "deepnote_to_be_reexecuted": false,
    "execution_millis": 18,
    "execution_start": 1670287805669,
    "source_hash": "822d89ce",
    "tags": []
   },
   "outputs": [],
   "source": [
    "cols = ['GRE', 'TOEFL', 'Rate', 'SOP', 'LOR ', 'CGPA', 'Research']\n",
    "X = df[cols]\n",
    "y = df[\"Chance\"]"
   ]
  },
  {
   "cell_type": "code",
   "execution_count": 12,
   "metadata": {
    "cell_id": "4d3448ca9bc0408c8fb0df1cd310c7c5",
    "deepnote_cell_type": "code",
    "deepnote_to_be_reexecuted": false,
    "execution_millis": 4,
    "execution_start": 1670287805687,
    "source_hash": "a3468d76",
    "tags": []
   },
   "outputs": [
    {
     "data": {
      "text/plain": [
       "GRE         0.001737\n",
       "TOEFL       0.002920\n",
       "Rate        0.005717\n",
       "SOP        -0.003305\n",
       "LOR         0.022353\n",
       "CGPA        0.118939\n",
       "Research    0.024525\n",
       "dtype: float64"
      ]
     },
     "execution_count": 12,
     "metadata": {},
     "output_type": "execute_result"
    }
   ],
   "source": [
    "#fit the linear regression model\n",
    "reg = LinearRegression()\n",
    "reg.fit(X,y)\n",
    "df[\"Pred\"] = reg.predict(X)\n",
    "pd.Series(reg.coef_, index=cols)"
   ]
  },
  {
   "cell_type": "code",
   "execution_count": 13,
   "metadata": {
    "cell_id": "73805dab57f040919f6d7f9b37067f59",
    "deepnote_cell_type": "code",
    "deepnote_to_be_reexecuted": false,
    "execution_millis": 3,
    "execution_start": 1670287805688,
    "source_hash": "fd96b977",
    "tags": []
   },
   "outputs": [
    {
     "name": "stdout",
     "output_type": "stream",
     "text": [
      "The equation of the linear regression model is Chance = GRE x 0.00173741157101406 + TOEFL x 0.002919576816925125 + Rate x 0.005716658134921038 + SOP x -0.0033051690450663545 + LOR  x 0.022353127328359396 + CGPA x 0.11893945359703187 + Research x 0.024525106295323548\n"
     ]
    }
   ],
   "source": [
    "#Find the equation of the linear regression model\n",
    "print(f\"The equation of the linear regression model is Chance = {cols[0]} x {reg.coef_[0]} + {cols[1]} x {reg.coef_[1]} + {cols[2]} x {reg.coef_[2]} + {cols[3]} x {reg.coef_[3]} + {cols[4]} x {reg.coef_[4]} + {cols[5]} x {reg.coef_[5]} + {cols[6]} x {reg.coef_[6]}\")"
   ]
  },
  {
   "cell_type": "markdown",
   "metadata": {
    "cell_id": "d60174d4fce34b0fb537408a1c22cc53",
    "deepnote_cell_type": "markdown",
    "tags": []
   },
   "source": [
    "In this case, we found the linear equation of all factors related to the chance of admission. I found out that the coefficient are too small, and I think it is because the scale of the chance is from 0-1, while all other factors have bigger scale like 0-340 or 0-120. So, the coefficient must be small enough to attain the number less than 1."
   ]
  },
  {
   "cell_type": "markdown",
   "metadata": {
    "cell_id": "e3080ca2d5de4404b6e397198cc2bb50",
    "deepnote_cell_type": "markdown",
    "tags": []
   },
   "source": [
    "## Creating training and test set"
   ]
  },
  {
   "cell_type": "markdown",
   "metadata": {
    "cell_id": "fb82b83230ca467580583b784e6b66d7",
    "deepnote_cell_type": "markdown",
    "tags": []
   },
   "source": [
    "Here I start to train the linear regression model."
   ]
  },
  {
   "cell_type": "code",
   "execution_count": 14,
   "metadata": {
    "cell_id": "c7a9a4f5ae24459ea835ad9e03d2cca6",
    "deepnote_cell_type": "code",
    "deepnote_to_be_reexecuted": false,
    "execution_millis": 4,
    "execution_start": 1670287805690,
    "source_hash": "7b15da14",
    "tags": []
   },
   "outputs": [],
   "source": [
    "X = df[cols]\n",
    "y = df[\"Chance\"]"
   ]
  },
  {
   "cell_type": "code",
   "execution_count": null,
   "metadata": {
    "cell_id": "5b756c373ff34088a1a777232574f121",
    "deepnote_cell_type": "code",
    "deepnote_to_be_reexecuted": false,
    "execution_millis": 5,
    "execution_start": 1670287805695,
    "source_hash": "725704f1",
    "tags": []
   },
   "outputs": [
    {
     "data": {
      "text/plain": [
       "LinearRegression()"
      ]
     },
     "execution_count": 15,
     "metadata": {},
     "output_type": "execute_result"
    }
   ],
   "source": [
    "from sklearn.model_selection import train_test_split\n",
    "X_train, X_test, y_train, y_test = train_test_split(X,y,test_size=0.2,random_state=4)\n",
    "from sklearn.linear_model import LinearRegression\n",
    "reg1 = LinearRegression()\n",
    "reg1.fit(X_train,y_train)"
   ]
  },
  {
   "cell_type": "code",
   "execution_count": 16,
   "metadata": {
    "cell_id": "536176a1348b46a9b920b28a8e43661f",
    "deepnote_cell_type": "code",
    "deepnote_to_be_reexecuted": false,
    "execution_millis": 3,
    "execution_start": 1670287805705,
    "source_hash": "e61718ca",
    "tags": []
   },
   "outputs": [
    {
     "name": "stdout",
     "output_type": "stream",
     "text": [
      "The accuracy of the training set is 0.8029928607242408\n",
      "The accuracy of the test set is 0.8008217476704986\n"
     ]
    }
   ],
   "source": [
    "# Test the accuracy of this linear regression model\n",
    "print(f\"The accuracy of the training set is {reg1.score(X_train,y_train)}\")\n",
    "print(f\"The accuracy of the test set is {reg1.score(X_test,y_test)}\")"
   ]
  },
  {
   "cell_type": "markdown",
   "metadata": {
    "cell_id": "92ab75144996479e837ce2d723ba7817",
    "deepnote_cell_type": "markdown",
    "tags": []
   },
   "source": [
    "I think this linear regression model is kind of useful to predict the admission chance based on the accuracy, which is about 80%. I will also try other models to test it."
   ]
  },
  {
   "cell_type": "markdown",
   "metadata": {
    "cell_id": "b378f18c5141404cbbf7898326fbb794",
    "deepnote_cell_type": "markdown",
    "tags": []
   },
   "source": [
    "## Decision Tree Model"
   ]
  },
  {
   "cell_type": "markdown",
   "metadata": {
    "cell_id": "badbe8c7088641ef8bca4454ad279113",
    "deepnote_cell_type": "markdown",
    "tags": []
   },
   "source": [
    "There are a lot of factors would affect the chance of admission. I want to try the decision tree model and find out which factor is most important."
   ]
  },
  {
   "cell_type": "code",
   "execution_count": 17,
   "metadata": {
    "cell_id": "97cf51e03ccc45a0ba9480814cc4080a",
    "deepnote_cell_type": "code",
    "deepnote_to_be_reexecuted": false,
    "execution_millis": 45,
    "execution_start": 1670287805751,
    "source_hash": "6fe43d47",
    "tags": []
   },
   "outputs": [
    {
     "data": {
      "text/plain": [
       "DecisionTreeRegressor(max_depth=20, max_leaf_nodes=50)"
      ]
     },
     "execution_count": 17,
     "metadata": {},
     "output_type": "execute_result"
    }
   ],
   "source": [
    "from sklearn.model_selection import train_test_split\n",
    "X0_train, X0_test, y0_train, y0_test = train_test_split(X,y,test_size=0.2,random_state=9)\n",
    "from sklearn.tree import DecisionTreeRegressor\n",
    "reg2 = DecisionTreeRegressor(max_depth=20,max_leaf_nodes=50)\n",
    "reg2.fit(X0_train,y0_train)"
   ]
  },
  {
   "cell_type": "code",
   "execution_count": 18,
   "metadata": {
    "cell_id": "d3b85130d370495682ac3d2ecb62c74a",
    "deepnote_cell_type": "code",
    "deepnote_to_be_reexecuted": false,
    "execution_millis": 5990,
    "execution_start": 1670287805795,
    "source_hash": "253d5f4c",
    "tags": []
   },
   "outputs": [
    {
     "data": {
      "image/png": "[encoded data removed]",
      "text/plain": [
       "<Figure size 1000x1000 with 1 Axes>"
      ]
     },
     "metadata": {
      "image/png": {
       "height": 790,
       "width": 794
      }
     },
     "output_type": "display_data"
    }
   ],
   "source": [
    "import matplotlib.pyplot as plt\n",
    "from sklearn.tree import plot_tree\n",
    "\n",
    "fig = plt.figure(figsize=(10,10))\n",
    "_ = plot_tree(\n",
    "    reg2,\n",
    "    feature_names=reg2.feature_names_in_,\n",
    "    filled=True\n",
    ")"
   ]
  },
  {
   "cell_type": "code",
   "execution_count": 19,
   "metadata": {
    "cell_id": "e6bd2a24e37b49c6b4f4d0590d8f6872",
    "deepnote_cell_type": "code",
    "deepnote_to_be_reexecuted": false,
    "execution_millis": 3,
    "execution_start": 1670287811786,
    "source_hash": "ced8d0af",
    "tags": []
   },
   "outputs": [
    {
     "data": {
      "text/plain": [
       "0.933607333099658"
      ]
     },
     "execution_count": 19,
     "metadata": {},
     "output_type": "execute_result"
    }
   ],
   "source": [
    "reg2.score(X0_train,y0_train)"
   ]
  },
  {
   "cell_type": "code",
   "execution_count": 20,
   "metadata": {
    "cell_id": "33eb35193d8b4056a90d5876be61a439",
    "deepnote_cell_type": "code",
    "deepnote_to_be_reexecuted": false,
    "execution_millis": 2,
    "execution_start": 1670287811792,
    "source_hash": "65ef35c9",
    "tags": []
   },
   "outputs": [
    {
     "data": {
      "text/plain": [
       "0.7141191237370301"
      ]
     },
     "execution_count": 20,
     "metadata": {},
     "output_type": "execute_result"
    }
   ],
   "source": [
    "reg2.score(X0_test,y0_test)"
   ]
  },
  {
   "cell_type": "markdown",
   "metadata": {
    "cell_id": "8454839caefd4ff59adb230a0aa88ead",
    "deepnote_cell_type": "markdown",
    "tags": []
   },
   "source": [
    "I randomly choose some numbers of max_depth and max_leaf_nodes to find out the score of the training set and test set. The score seems not working well, so I will use the U-shape test error curve to find the max_depth and max_leaf_nodes of fitting model."
   ]
  },
  {
   "cell_type": "code",
   "execution_count": 21,
   "metadata": {
    "cell_id": "a1bce030bf43494b8cdb7fe73eca57aa",
    "deepnote_cell_type": "code",
    "deepnote_to_be_reexecuted": false,
    "execution_millis": 793,
    "execution_start": 1670287811796,
    "source_hash": "91ac87d1",
    "tags": []
   },
   "outputs": [],
   "source": [
    "from sklearn.metrics import mean_absolute_error, mean_squared_error\n",
    "train_dict={}\n",
    "test_dict={}\n",
    "for n in range(2,201):\n",
    "    reg = DecisionTreeRegressor(max_leaf_nodes=n, max_depth=50, criterion=\"squared_error\")\n",
    "    reg.fit(X0_train, y0_train)\n",
    "    train_error = mean_squared_error(y0_train, reg.predict(X0_train))\n",
    "    train_dict[n] = train_error\n",
    "    test_error = mean_squared_error(y0_test, reg.predict(X0_test))\n",
    "    test_dict[n] = test_error"
   ]
  },
  {
   "cell_type": "code",
   "execution_count": 22,
   "metadata": {
    "cell_id": "5f15b079b31443358ee8ad26afecda22",
    "deepnote_cell_type": "code",
    "deepnote_to_be_reexecuted": false,
    "execution_millis": 2,
    "execution_start": 1670287812595,
    "source_hash": "8dcdec9",
    "tags": []
   },
   "outputs": [],
   "source": [
    "train_ser = pd.Series(train_dict)\n",
    "test_ser = pd.Series(test_dict)\n",
    "train_ser.name = \"train\"\n",
    "test_ser.name = \"test\"\n",
    "df_loss = pd.concat((train_ser, test_ser), axis=1)\n",
    "df_loss.reset_index(inplace=True)\n",
    "df_loss.rename({\"index\": \"max_leaf_nodes\"}, axis=1, inplace=True)\n",
    "df_melted = df_loss.melt(id_vars=\"max_leaf_nodes\", var_name=\"Type\", value_name=\"Loss\")"
   ]
  },
  {
   "cell_type": "code",
   "execution_count": 23,
   "metadata": {
    "cell_id": "e733feeef27b4266a05c8d1758107a25",
    "deepnote_cell_type": "code",
    "deepnote_to_be_reexecuted": false,
    "execution_millis": 20,
    "execution_start": 1670287812599,
    "source_hash": "3d258c08",
    "tags": []
   },
   "outputs": [
    {
     "data": {
      "text/html": [
       "\n",
       "<div id=\"altair-viz-3bbe4aeff1b847a396af13e81d22aa6c\"></div>\n",
       "<script type=\"text/javascript\">\n",
       "  var VEGA_DEBUG = (typeof VEGA_DEBUG == \"undefined\") ? {} : VEGA_DEBUG;\n",
       "  (function(spec, embedOpt){\n",
       "    let outputDiv = document.currentScript.previousElementSibling;\n",
       "    if (outputDiv.id !== \"altair-viz-3bbe4aeff1b847a396af13e81d22aa6c\") {\n",
       "      outputDiv = document.getElementById(\"altair-viz-3bbe4aeff1b847a396af13e81d22aa6c\");\n",
       "    }\n",
       "    const paths = {\n",
       "      \"vega\": \"https://cdn.jsdelivr.net/npm//vega@5?noext\",\n",
       "      \"vega-lib\": \"https://cdn.jsdelivr.net/npm//vega-lib?noext\",\n",
       "      \"vega-lite\": \"https://cdn.jsdelivr.net/npm//vega-lite@4.17.0?noext\",\n",
       "      \"vega-embed\": \"https://cdn.jsdelivr.net/npm//vega-embed@6?noext\",\n",
       "    };\n",
       "\n",
       "    function maybeLoadScript(lib, version) {\n",
       "      var key = `${lib.replace(\"-\", \"\")}_version`;\n",
       "      return (VEGA_DEBUG[key] == version) ?\n",
       "        Promise.resolve(paths[lib]) :\n",
       "        new Promise(function(resolve, reject) {\n",
       "          var s = document.createElement('script');\n",
       "          document.getElementsByTagName(\"head\")[0].appendChild(s);\n",
       "          s.async = true;\n",
       "          s.onload = () => {\n",
       "            VEGA_DEBUG[key] = version;\n",
       "            return resolve(paths[lib]);\n",
       "          };\n",
       "          s.onerror = () => reject(`Error loading script: ${paths[lib]}`);\n",
       "          s.src = paths[lib];\n",
       "        });\n",
       "    }\n",
       "\n",
       "    function showError(err) {\n",
       "      outputDiv.innerHTML = `<div class=\"error\" style=\"color:red;\">${err}</div>`;\n",
       "      throw err;\n",
       "    }\n",
       "\n",
       "    function displayChart(vegaEmbed) {\n",
       "      vegaEmbed(outputDiv, spec, embedOpt)\n",
       "        .catch(err => showError(`Javascript Error: ${err.message}<br>This usually means there's a typo in your chart specification. See the javascript console for the full traceback.`));\n",
       "    }\n",
       "\n",
       "    if(typeof define === \"function\" && define.amd) {\n",
       "      requirejs.config({paths});\n",
       "      require([\"vega-embed\"], displayChart, err => showError(`Error loading script: ${err.message}`));\n",
       "    } else {\n",
       "      maybeLoadScript(\"vega\", \"5\")\n",
       "        .then(() => maybeLoadScript(\"vega-lite\", \"4.17.0\"))\n",
       "        .then(() => maybeLoadScript(\"vega-embed\", \"6\"))\n",
       "        .catch(showError)\n",
       "        .then(() => displayChart(vegaEmbed));\n",
       "    }\n",
       "  })({\"config\": {\"view\": {\"continuousWidth\": 400, \"continuousHeight\": 300}}, \"data\": {\"name\": \"data-4b5a41b387d076c2577710a76e4e0702\"}, \"mark\": \"line\", \"encoding\": {\"color\": {\"field\": \"Type\", \"scale\": {\"domain\": [\"train\", \"test\"]}, \"type\": \"nominal\"}, \"x\": {\"field\": \"max_leaf_nodes\", \"type\": \"quantitative\"}, \"y\": {\"field\": \"Loss\", \"type\": \"quantitative\"}}, \"$schema\": \"https://vega.github.io/schema/vega-lite/v4.17.0.json\", \"datasets\": {\"data-4b5a41b387d076c2577710a76e4e0702\": [{\"max_leaf_nodes\": 2, \"Type\": \"train\", \"Loss\": 0.00990476243479043}, {\"max_leaf_nodes\": 3, \"Type\": \"train\", \"Loss\": 0.006687612530825214}, {\"max_leaf_nodes\": 4, \"Type\": \"train\", \"Loss\": 0.005889817941835772}, {\"max_leaf_nodes\": 5, \"Type\": \"train\", \"Loss\": 0.005249722561924322}, {\"max_leaf_nodes\": 6, \"Type\": \"train\", \"Loss\": 0.0048903892285909875}, {\"max_leaf_nodes\": 7, \"Type\": \"train\", \"Loss\": 0.00462059474237545}, {\"max_leaf_nodes\": 8, \"Type\": \"train\", \"Loss\": 0.00446723462332783}, {\"max_leaf_nodes\": 9, \"Type\": \"train\", \"Loss\": 0.004325084260038208}, {\"max_leaf_nodes\": 10, \"Type\": \"train\", \"Loss\": 0.004190347330951669}, {\"max_leaf_nodes\": 11, \"Type\": \"train\", \"Loss\": 0.004069917952420596}, {\"max_leaf_nodes\": 12, \"Type\": \"train\", \"Loss\": 0.003956635901138544}, {\"max_leaf_nodes\": 13, \"Type\": \"train\", \"Loss\": 0.0038578473954369295}, {\"max_leaf_nodes\": 14, \"Type\": \"train\", \"Loss\": 0.003760347395436929}, {\"max_leaf_nodes\": 15, \"Type\": \"train\", \"Loss\": 0.003668156919246453}, {\"max_leaf_nodes\": 16, \"Type\": \"train\", \"Loss\": 0.003518102130285414}, {\"max_leaf_nodes\": 17, \"Type\": \"train\", \"Loss\": 0.003428277568881905}, {\"max_leaf_nodes\": 18, \"Type\": \"train\", \"Loss\": 0.0033407411105485715}, {\"max_leaf_nodes\": 19, \"Type\": \"train\", \"Loss\": 0.0032598877451639565}, {\"max_leaf_nodes\": 20, \"Type\": \"train\", \"Loss\": 0.0031796787607889566}, {\"max_leaf_nodes\": 21, \"Type\": \"train\", \"Loss\": 0.003111765460484078}, {\"max_leaf_nodes\": 22, \"Type\": \"train\", \"Loss\": 0.0030467550438174115}, {\"max_leaf_nodes\": 23, \"Type\": \"train\", \"Loss\": 0.00298470376176613}, {\"max_leaf_nodes\": 24, \"Type\": \"train\", \"Loss\": 0.0029190657409327962}, {\"max_leaf_nodes\": 25, \"Type\": \"train\", \"Loss\": 0.0028587098612073416}, {\"max_leaf_nodes\": 26, \"Type\": \"train\", \"Loss\": 0.00277134636532822}, {\"max_leaf_nodes\": 27, \"Type\": \"train\", \"Loss\": 0.0027138203236615538}, {\"max_leaf_nodes\": 28, \"Type\": \"train\", \"Loss\": 0.0026572818621230917}, {\"max_leaf_nodes\": 29, \"Type\": \"train\", \"Loss\": 0.0026019374076142352}, {\"max_leaf_nodes\": 30, \"Type\": \"train\", \"Loss\": 0.0025467101348869625}, {\"max_leaf_nodes\": 31, \"Type\": \"train\", \"Loss\": 0.002493182233101248}, {\"max_leaf_nodes\": 32, \"Type\": \"train\", \"Loss\": 0.0023580416081012486}, {\"max_leaf_nodes\": 33, \"Type\": \"train\", \"Loss\": 0.0023017143416177318}, {\"max_leaf_nodes\": 34, \"Type\": \"train\", \"Loss\": 0.002126902322386963}, {\"max_leaf_nodes\": 35, \"Type\": \"train\", \"Loss\": 0.0020579960723869626}, {\"max_leaf_nodes\": 36, \"Type\": \"train\", \"Loss\": 0.0020019627390536294}, {\"max_leaf_nodes\": 37, \"Type\": \"train\", \"Loss\": 0.0019524081530146683}, {\"max_leaf_nodes\": 38, \"Type\": \"train\", \"Loss\": 0.001908606069681335}, {\"max_leaf_nodes\": 39, \"Type\": \"train\", \"Loss\": 0.00186547786455313}, {\"max_leaf_nodes\": 40, \"Type\": \"train\", \"Loss\": 0.0018232903645531296}, {\"max_leaf_nodes\": 41, \"Type\": \"train\", \"Loss\": 0.0017856861978864634}, {\"max_leaf_nodes\": 42, \"Type\": \"train\", \"Loss\": 0.0017456861978864633}, {\"max_leaf_nodes\": 43, \"Type\": \"train\", \"Loss\": 0.0017082307853554459}, {\"max_leaf_nodes\": 44, \"Type\": \"train\", \"Loss\": 0.001632627638502299}, {\"max_leaf_nodes\": 45, \"Type\": \"train\", \"Loss\": 0.001519190138502299}, {\"max_leaf_nodes\": 46, \"Type\": \"train\", \"Loss\": 0.0014881728308099914}, {\"max_leaf_nodes\": 47, \"Type\": \"train\", \"Loss\": 0.0014576115849905932}, {\"max_leaf_nodes\": 48, \"Type\": \"train\", \"Loss\": 0.0014143243253752088}, {\"max_leaf_nodes\": 49, \"Type\": \"train\", \"Loss\": 0.0013766458421736276}, {\"max_leaf_nodes\": 50, \"Type\": \"train\", \"Loss\": 0.0013407353308099914}, {\"max_leaf_nodes\": 51, \"Type\": \"train\", \"Loss\": 0.0012351103308099911}, {\"max_leaf_nodes\": 52, \"Type\": \"train\", \"Loss\": 0.001207807450028492}, {\"max_leaf_nodes\": 53, \"Type\": \"train\", \"Loss\": 0.0011430459368705972}, {\"max_leaf_nodes\": 54, \"Type\": \"train\", \"Loss\": 0.001117365381315042}, {\"max_leaf_nodes\": 55, \"Type\": \"train\", \"Loss\": 0.0010923393396483753}, {\"max_leaf_nodes\": 56, \"Type\": \"train\", \"Loss\": 0.001067839339648375}, {\"max_leaf_nodes\": 57, \"Type\": \"train\", \"Loss\": 0.001017073714648375}, {\"max_leaf_nodes\": 58, \"Type\": \"train\", \"Loss\": 0.000982620589648375}, {\"max_leaf_nodes\": 59, \"Type\": \"train\", \"Loss\": 0.0009576101729817085}, {\"max_leaf_nodes\": 60, \"Type\": \"train\", \"Loss\": 0.0009345997563150419}, {\"max_leaf_nodes\": 61, \"Type\": \"train\", \"Loss\": 0.0009120997563150417}, {\"max_leaf_nodes\": 62, \"Type\": \"train\", \"Loss\": 0.0008913847941938297}, {\"max_leaf_nodes\": 63, \"Type\": \"train\", \"Loss\": 0.0008707580580827187}, {\"max_leaf_nodes\": 64, \"Type\": \"train\", \"Loss\": 0.0008505013616541473}, {\"max_leaf_nodes\": 65, \"Type\": \"train\", \"Loss\": 0.0008304611830827187}, {\"max_leaf_nodes\": 66, \"Type\": \"train\", \"Loss\": 0.0008106550488234592}, {\"max_leaf_nodes\": 67, \"Type\": \"train\", \"Loss\": 0.0007915144238234594}, {\"max_leaf_nodes\": 68, \"Type\": \"train\", \"Loss\": 0.0007723737988234593}, {\"max_leaf_nodes\": 69, \"Type\": \"train\", \"Loss\": 0.0007553581738234593}, {\"max_leaf_nodes\": 70, \"Type\": \"train\", \"Loss\": 0.0007384831738234594}, {\"max_leaf_nodes\": 71, \"Type\": \"train\", \"Loss\": 0.0007217539203512372}, {\"max_leaf_nodes\": 72, \"Type\": \"train\", \"Loss\": 0.0006896532259067928}, {\"max_leaf_nodes\": 73, \"Type\": \"train\", \"Loss\": 0.0006558094759067926}, {\"max_leaf_nodes\": 74, \"Type\": \"train\", \"Loss\": 0.0006399754661665328}, {\"max_leaf_nodes\": 75, \"Type\": \"train\", \"Loss\": 0.0006225580554522471}, {\"max_leaf_nodes\": 76, \"Type\": \"train\", \"Loss\": 0.0006041396526744693}, {\"max_leaf_nodes\": 77, \"Type\": \"train\", \"Loss\": 0.0005890875693411359}, {\"max_leaf_nodes\": 78, \"Type\": \"train\", \"Loss\": 0.0005750042360078027}, {\"max_leaf_nodes\": 79, \"Type\": \"train\", \"Loss\": 0.0005609405522956814}, {\"max_leaf_nodes\": 80, \"Type\": \"train\", \"Loss\": 0.000547607218962348}, {\"max_leaf_nodes\": 81, \"Type\": \"train\", \"Loss\": 0.000534950968962348}, {\"max_leaf_nodes\": 82, \"Type\": \"train\", \"Loss\": 0.0005222947189623481}, {\"max_leaf_nodes\": 83, \"Type\": \"train\", \"Loss\": 0.0005096384689623481}, {\"max_leaf_nodes\": 84, \"Type\": \"train\", \"Loss\": 0.000496982218962348}, {\"max_leaf_nodes\": 85, \"Type\": \"train\", \"Loss\": 0.0004843780522956814}, {\"max_leaf_nodes\": 86, \"Type\": \"train\", \"Loss\": 0.0004725787211920025}, {\"max_leaf_nodes\": 87, \"Type\": \"train\", \"Loss\": 0.00046127849797771676}, {\"max_leaf_nodes\": 88, \"Type\": \"train\", \"Loss\": 0.0004462115336920024}, {\"max_leaf_nodes\": 89, \"Type\": \"train\", \"Loss\": 0.00043621153369200247}, {\"max_leaf_nodes\": 90, \"Type\": \"train\", \"Loss\": 0.00042656867654914526}, {\"max_leaf_nodes\": 91, \"Type\": \"train\", \"Loss\": 0.00041636034321581195}, {\"max_leaf_nodes\": 92, \"Type\": \"train\", \"Loss\": 0.00040673013488247856}, {\"max_leaf_nodes\": 93, \"Type\": \"train\", \"Loss\": 0.0003957093015491453}, {\"max_leaf_nodes\": 94, \"Type\": \"train\", \"Loss\": 0.00038630825988247863}, {\"max_leaf_nodes\": 95, \"Type\": \"train\", \"Loss\": 0.0003778679697039072}, {\"max_leaf_nodes\": 96, \"Type\": \"train\", \"Loss\": 0.0003662965411324786}, {\"max_leaf_nodes\": 97, \"Type\": \"train\", \"Loss\": 0.0003561715411324786}, {\"max_leaf_nodes\": 98, \"Type\": \"train\", \"Loss\": 0.00034717154113247863}, {\"max_leaf_nodes\": 99, \"Type\": \"train\", \"Loss\": 0.0003395152911324786}, {\"max_leaf_nodes\": 100, \"Type\": \"train\", \"Loss\": 0.00033206136485042735}, {\"max_leaf_nodes\": 101, \"Type\": \"train\", \"Loss\": 0.0003285422676282051}, {\"max_leaf_nodes\": 102, \"Type\": \"train\", \"Loss\": 0.0003212462606837607}, {\"max_leaf_nodes\": 103, \"Type\": \"train\", \"Loss\": 0.000309556156517094}, {\"max_leaf_nodes\": 104, \"Type\": \"train\", \"Loss\": 0.0003026117120726496}, {\"max_leaf_nodes\": 105, \"Type\": \"train\", \"Loss\": 0.0002958894898504273}, {\"max_leaf_nodes\": 106, \"Type\": \"train\", \"Loss\": 0.0002876178552350427}, {\"max_leaf_nodes\": 107, \"Type\": \"train\", \"Loss\": 0.00028095118856837607}, {\"max_leaf_nodes\": 108, \"Type\": \"train\", \"Loss\": 0.0002761126469017094}, {\"max_leaf_nodes\": 109, \"Type\": \"train\", \"Loss\": 0.00026829493856837604}, {\"max_leaf_nodes\": 110, \"Type\": \"train\", \"Loss\": 0.0002621372681138306}, {\"max_leaf_nodes\": 111, \"Type\": \"train\", \"Loss\": 0.0002562778931138306}, {\"max_leaf_nodes\": 112, \"Type\": \"train\", \"Loss\": 0.00025063726811383057}, {\"max_leaf_nodes\": 113, \"Type\": \"train\", \"Loss\": 0.0002457987264471639}, {\"max_leaf_nodes\": 114, \"Type\": \"train\", \"Loss\": 0.00023868414311383054}, {\"max_leaf_nodes\": 115, \"Type\": \"train\", \"Loss\": 0.00023454872644716388}, {\"max_leaf_nodes\": 116, \"Type\": \"train\", \"Loss\": 0.00022901152406621148}, {\"max_leaf_nodes\": 117, \"Type\": \"train\", \"Loss\": 0.00022231360739954483}, {\"max_leaf_nodes\": 118, \"Type\": \"train\", \"Loss\": 0.00021859485739954485}, {\"max_leaf_nodes\": 119, \"Type\": \"train\", \"Loss\": 0.00021338652406621152}, {\"max_leaf_nodes\": 120, \"Type\": \"train\", \"Loss\": 0.0002082258097804972}, {\"max_leaf_nodes\": 121, \"Type\": \"train\", \"Loss\": 0.00020316330978049725}, {\"max_leaf_nodes\": 122, \"Type\": \"train\", \"Loss\": 0.00019782098023504269}, {\"max_leaf_nodes\": 123, \"Type\": \"train\", \"Loss\": 0.00019339590010683758}, {\"max_leaf_nodes\": 124, \"Type\": \"train\", \"Loss\": 0.00018915110844017088}, {\"max_leaf_nodes\": 125, \"Type\": \"train\", \"Loss\": 0.00018459381677350426}, {\"max_leaf_nodes\": 126, \"Type\": \"train\", \"Loss\": 0.0001803750667735043}, {\"max_leaf_nodes\": 127, \"Type\": \"train\", \"Loss\": 0.0001762084001068376}, {\"max_leaf_nodes\": 128, \"Type\": \"train\", \"Loss\": 0.00017196360844017093}, {\"max_leaf_nodes\": 129, \"Type\": \"train\", \"Loss\": 0.0001678567708333333}, {\"max_leaf_nodes\": 130, \"Type\": \"train\", \"Loss\": 0.00016303906250000002}, {\"max_leaf_nodes\": 131, \"Type\": \"train\", \"Loss\": 0.00015910549606643355}, {\"max_leaf_nodes\": 132, \"Type\": \"train\", \"Loss\": 0.0001548607043997669}, {\"max_leaf_nodes\": 133, \"Type\": \"train\", \"Loss\": 0.00015151435023310023}, {\"max_leaf_nodes\": 134, \"Type\": \"train\", \"Loss\": 0.00014726955856643353}, {\"max_leaf_nodes\": 135, \"Type\": \"train\", \"Loss\": 0.00013398830856643356}, {\"max_leaf_nodes\": 136, \"Type\": \"train\", \"Loss\": 0.00013023830856643358}, {\"max_leaf_nodes\": 137, \"Type\": \"train\", \"Loss\": 0.00012641018356643357}, {\"max_leaf_nodes\": 138, \"Type\": \"train\", \"Loss\": 0.00012307685023310022}, {\"max_leaf_nodes\": 139, \"Type\": \"train\", \"Loss\": 0.00012042060023310023}, {\"max_leaf_nodes\": 140, \"Type\": \"train\", \"Loss\": 0.0001160195585664336}, {\"max_leaf_nodes\": 141, \"Type\": \"train\", \"Loss\": 0.0001128685168997669}, {\"max_leaf_nodes\": 142, \"Type\": \"train\", \"Loss\": 0.00010974351689976691}, {\"max_leaf_nodes\": 143, \"Type\": \"train\", \"Loss\": 0.00010688233901515152}, {\"max_leaf_nodes\": 144, \"Type\": \"train\", \"Loss\": 0.00010378338068181819}, {\"max_leaf_nodes\": 145, \"Type\": \"train\", \"Loss\": 0.00010117921401515151}, {\"max_leaf_nodes\": 146, \"Type\": \"train\", \"Loss\": 9.857504734848484e-05}, {\"max_leaf_nodes\": 147, \"Type\": \"train\", \"Loss\": 9.651775568181818e-05}, {\"max_leaf_nodes\": 148, \"Type\": \"train\", \"Loss\": 9.396567234848484e-05}, {\"max_leaf_nodes\": 149, \"Type\": \"train\", \"Loss\": 9.091879734848484e-05}, {\"max_leaf_nodes\": 150, \"Type\": \"train\", \"Loss\": 8.886150568181818e-05}, {\"max_leaf_nodes\": 151, \"Type\": \"train\", \"Loss\": 8.630942234848483e-05}, {\"max_leaf_nodes\": 152, \"Type\": \"train\", \"Loss\": 8.380942234848482e-05}, {\"max_leaf_nodes\": 153, \"Type\": \"train\", \"Loss\": 8.130942234848483e-05}, {\"max_leaf_nodes\": 154, \"Type\": \"train\", \"Loss\": 7.880942234848485e-05}, {\"max_leaf_nodes\": 155, \"Type\": \"train\", \"Loss\": 7.634635416666666e-05}, {\"max_leaf_nodes\": 156, \"Type\": \"train\", \"Loss\": 7.400260416666666e-05}, {\"max_leaf_nodes\": 157, \"Type\": \"train\", \"Loss\": 7.181249999999998e-05}, {\"max_leaf_nodes\": 158, \"Type\": \"train\", \"Loss\": 6.920833333333331e-05}, {\"max_leaf_nodes\": 159, \"Type\": \"train\", \"Loss\": 6.766145833333331e-05}, {\"max_leaf_nodes\": 160, \"Type\": \"train\", \"Loss\": 6.57708333333333e-05}, {\"max_leaf_nodes\": 161, \"Type\": \"train\", \"Loss\": 6.388020833333332e-05}, {\"max_leaf_nodes\": 162, \"Type\": \"train\", \"Loss\": 6.192708333333332e-05}, {\"max_leaf_nodes\": 163, \"Type\": \"train\", \"Loss\": 6.0052083333333324e-05}, {\"max_leaf_nodes\": 164, \"Type\": \"train\", \"Loss\": 5.822916666666665e-05}, {\"max_leaf_nodes\": 165, \"Type\": \"train\", \"Loss\": 5.612580128205127e-05}, {\"max_leaf_nodes\": 166, \"Type\": \"train\", \"Loss\": 5.4365384615384604e-05}, {\"max_leaf_nodes\": 167, \"Type\": \"train\", \"Loss\": 5.268482905982905e-05}, {\"max_leaf_nodes\": 168, \"Type\": \"train\", \"Loss\": 5.05233707264957e-05}, {\"max_leaf_nodes\": 169, \"Type\": \"train\", \"Loss\": 4.8856704059829054e-05}, {\"max_leaf_nodes\": 170, \"Type\": \"train\", \"Loss\": 4.778899572649571e-05}, {\"max_leaf_nodes\": 171, \"Type\": \"train\", \"Loss\": 4.638274572649571e-05}, {\"max_leaf_nodes\": 172, \"Type\": \"train\", \"Loss\": 4.497649572649571e-05}, {\"max_leaf_nodes\": 173, \"Type\": \"train\", \"Loss\": 4.357024572649571e-05}, {\"max_leaf_nodes\": 174, \"Type\": \"train\", \"Loss\": 4.2163995726495705e-05}, {\"max_leaf_nodes\": 175, \"Type\": \"train\", \"Loss\": 4.03671207264957e-05}, {\"max_leaf_nodes\": 176, \"Type\": \"train\", \"Loss\": 3.906503739316237e-05}, {\"max_leaf_nodes\": 177, \"Type\": \"train\", \"Loss\": 3.82577457264957e-05}, {\"max_leaf_nodes\": 178, \"Type\": \"train\", \"Loss\": 3.695566239316236e-05}, {\"max_leaf_nodes\": 179, \"Type\": \"train\", \"Loss\": 3.518482905982903e-05}, {\"max_leaf_nodes\": 180, \"Type\": \"train\", \"Loss\": 3.4403579059829033e-05}, {\"max_leaf_nodes\": 181, \"Type\": \"train\", \"Loss\": 3.264837072649569e-05}, {\"max_leaf_nodes\": 182, \"Type\": \"train\", \"Loss\": 3.188274572649569e-05}, {\"max_leaf_nodes\": 183, \"Type\": \"train\", \"Loss\": 3.063274572649568e-05}, {\"max_leaf_nodes\": 184, \"Type\": \"train\", \"Loss\": 2.913795405982902e-05}, {\"max_leaf_nodes\": 185, \"Type\": \"train\", \"Loss\": 2.8663194444444405e-05}, {\"max_leaf_nodes\": 186, \"Type\": \"train\", \"Loss\": 2.7725694444444413e-05}, {\"max_leaf_nodes\": 187, \"Type\": \"train\", \"Loss\": 2.6857638888888863e-05}, {\"max_leaf_nodes\": 188, \"Type\": \"train\", \"Loss\": 2.601388888888886e-05}, {\"max_leaf_nodes\": 189, \"Type\": \"train\", \"Loss\": 2.468576388888886e-05}, {\"max_leaf_nodes\": 190, \"Type\": \"train\", \"Loss\": 2.4347222222222187e-05}, {\"max_leaf_nodes\": 191, \"Type\": \"train\", \"Loss\": 2.3513888888888856e-05}, {\"max_leaf_nodes\": 192, \"Type\": \"train\", \"Loss\": 2.2185763888888852e-05}, {\"max_leaf_nodes\": 193, \"Type\": \"train\", \"Loss\": 2.14707341269841e-05}, {\"max_leaf_nodes\": 194, \"Type\": \"train\", \"Loss\": 2.0626984126984107e-05}, {\"max_leaf_nodes\": 195, \"Type\": \"train\", \"Loss\": 1.9975942460317437e-05}, {\"max_leaf_nodes\": 196, \"Type\": \"train\", \"Loss\": 1.9975942460317437e-05}, {\"max_leaf_nodes\": 197, \"Type\": \"train\", \"Loss\": 1.9350942460317436e-05}, {\"max_leaf_nodes\": 198, \"Type\": \"train\", \"Loss\": 1.8725942460317437e-05}, {\"max_leaf_nodes\": 199, \"Type\": \"train\", \"Loss\": 1.8100942460317443e-05}, {\"max_leaf_nodes\": 200, \"Type\": \"train\", \"Loss\": 1.747594246031744e-05}, {\"max_leaf_nodes\": 2, \"Type\": \"test\", \"Loss\": 0.009613753807097229}, {\"max_leaf_nodes\": 3, \"Type\": \"test\", \"Loss\": 0.005798941643503327}, {\"max_leaf_nodes\": 4, \"Type\": \"test\", \"Loss\": 0.0050220887566698605}, {\"max_leaf_nodes\": 5, \"Type\": \"test\", \"Loss\": 0.0045007755702403136}, {\"max_leaf_nodes\": 6, \"Type\": \"test\", \"Loss\": 0.004183442236906978}, {\"max_leaf_nodes\": 7, \"Type\": \"test\", \"Loss\": 0.0039707217238448755}, {\"max_leaf_nodes\": 8, \"Type\": \"test\", \"Loss\": 0.004013412908652132}, {\"max_leaf_nodes\": 9, \"Type\": \"test\", \"Loss\": 0.004252781296023472}, {\"max_leaf_nodes\": 10, \"Type\": \"test\", \"Loss\": 0.00433871343619775}, {\"max_leaf_nodes\": 11, \"Type\": \"test\", \"Loss\": 0.004340841292177832}, {\"max_leaf_nodes\": 12, \"Type\": \"test\", \"Loss\": 0.004310657465747852}, {\"max_leaf_nodes\": 13, \"Type\": \"test\", \"Loss\": 0.004057252115344972}, {\"max_leaf_nodes\": 14, \"Type\": \"test\", \"Loss\": 0.004854752115344972}, {\"max_leaf_nodes\": 15, \"Type\": \"test\", \"Loss\": 0.005010548033712321}, {\"max_leaf_nodes\": 16, \"Type\": \"test\", \"Loss\": 0.004868673086419352}, {\"max_leaf_nodes\": 17, \"Type\": \"test\", \"Loss\": 0.004929614914674201}, {\"max_leaf_nodes\": 18, \"Type\": \"test\", \"Loss\": 0.004987053803563089}, {\"max_leaf_nodes\": 19, \"Type\": \"test\", \"Loss\": 0.004990894410071965}, {\"max_leaf_nodes\": 20, \"Type\": \"test\", \"Loss\": 0.004978845923743841}, {\"max_leaf_nodes\": 21, \"Type\": \"test\", \"Loss\": 0.0049580718397722445}, {\"max_leaf_nodes\": 22, \"Type\": \"test\", \"Loss\": 0.0049580718397722445}, {\"max_leaf_nodes\": 23, \"Type\": \"test\", \"Loss\": 0.005349544555091117}, {\"max_leaf_nodes\": 24, \"Type\": \"test\", \"Loss\": 0.006840610093285559}, {\"max_leaf_nodes\": 25, \"Type\": \"test\", \"Loss\": 0.006642494582302009}, {\"max_leaf_nodes\": 26, \"Type\": \"test\", \"Loss\": 0.006952617086000234}, {\"max_leaf_nodes\": 27, \"Type\": \"test\", \"Loss\": 0.007199040697111343}, {\"max_leaf_nodes\": 28, \"Type\": \"test\", \"Loss\": 0.005812452887385014}, {\"max_leaf_nodes\": 29, \"Type\": \"test\", \"Loss\": 0.007193067408020376}, {\"max_leaf_nodes\": 30, \"Type\": \"test\", \"Loss\": 0.005819478339063769}, {\"max_leaf_nodes\": 31, \"Type\": \"test\", \"Loss\": 0.0054440957019464215}, {\"max_leaf_nodes\": 32, \"Type\": \"test\", \"Loss\": 0.007218960545696422}, {\"max_leaf_nodes\": 33, \"Type\": \"test\", \"Loss\": 0.0055603477408759}, {\"max_leaf_nodes\": 34, \"Type\": \"test\", \"Loss\": 0.00703079108906377}, {\"max_leaf_nodes\": 35, \"Type\": \"test\", \"Loss\": 0.0056235449953137675}, {\"max_leaf_nodes\": 36, \"Type\": \"test\", \"Loss\": 0.007076091533508211}, {\"max_leaf_nodes\": 37, \"Type\": \"test\", \"Loss\": 0.005557936586030771}, {\"max_leaf_nodes\": 38, \"Type\": \"test\", \"Loss\": 0.005870045961030773}, {\"max_leaf_nodes\": 39, \"Type\": \"test\", \"Loss\": 0.005508928302007104}, {\"max_leaf_nodes\": 40, \"Type\": \"test\", \"Loss\": 0.005756350177007104}, {\"max_leaf_nodes\": 41, \"Type\": \"test\", \"Loss\": 0.005444240802007104}, {\"max_leaf_nodes\": 42, \"Type\": \"test\", \"Loss\": 0.005756350177007104}, {\"max_leaf_nodes\": 43, \"Type\": \"test\", \"Loss\": 0.005796392571902091}, {\"max_leaf_nodes\": 44, \"Type\": \"test\", \"Loss\": 0.005581164829255751}, {\"max_leaf_nodes\": 45, \"Type\": \"test\", \"Loss\": 0.00811520779800575}, {\"max_leaf_nodes\": 46, \"Type\": \"test\", \"Loss\": 0.005480217950557528}, {\"max_leaf_nodes\": 47, \"Type\": \"test\", \"Loss\": 0.00780771031881788}, {\"max_leaf_nodes\": 48, \"Type\": \"test\", \"Loss\": 0.0081117104112735}, {\"max_leaf_nodes\": 49, \"Type\": \"test\", \"Loss\": 0.006676497650970751}, {\"max_leaf_nodes\": 50, \"Type\": \"test\", \"Loss\": 0.00677668982555753}, {\"max_leaf_nodes\": 51, \"Type\": \"test\", \"Loss\": 0.007007549200557528}, {\"max_leaf_nodes\": 52, \"Type\": \"test\", \"Loss\": 0.005727709047301535}, {\"max_leaf_nodes\": 53, \"Type\": \"test\", \"Loss\": 0.008131138269514136}, {\"max_leaf_nodes\": 54, \"Type\": \"test\", \"Loss\": 0.0058510432945912995}, {\"max_leaf_nodes\": 55, \"Type\": \"test\", \"Loss\": 0.0081045393883413}, {\"max_leaf_nodes\": 56, \"Type\": \"test\", \"Loss\": 0.0056239394751468556}, {\"max_leaf_nodes\": 57, \"Type\": \"test\", \"Loss\": 0.007485676975146856}, {\"max_leaf_nodes\": 58, \"Type\": \"test\", \"Loss\": 0.0061975519751468556}, {\"max_leaf_nodes\": 59, \"Type\": \"test\", \"Loss\": 0.006125889475146853}, {\"max_leaf_nodes\": 60, \"Type\": \"test\", \"Loss\": 0.008195244943896854}, {\"max_leaf_nodes\": 61, \"Type\": \"test\", \"Loss\": 0.006580889475146856}, {\"max_leaf_nodes\": 62, \"Type\": \"test\", \"Loss\": 0.006506949148585789}, {\"max_leaf_nodes\": 63, \"Type\": \"test\", \"Loss\": 0.008972605697582703}, {\"max_leaf_nodes\": 64, \"Type\": \"test\", \"Loss\": 0.007747419154215356}, {\"max_leaf_nodes\": 65, \"Type\": \"test\", \"Loss\": 0.006421581478832703}, {\"max_leaf_nodes\": 66, \"Type\": \"test\", \"Loss\": 0.007151952679750056}, {\"max_leaf_nodes\": 67, \"Type\": \"test\", \"Loss\": 0.008085390179750051}, {\"max_leaf_nodes\": 68, \"Type\": \"test\", \"Loss\": 0.007773280804750056}, {\"max_leaf_nodes\": 69, \"Type\": \"test\", \"Loss\": 0.006618059711000057}, {\"max_leaf_nodes\": 70, \"Type\": \"test\", \"Loss\": 0.007788196429750055}, {\"max_leaf_nodes\": 71, \"Type\": \"test\", \"Loss\": 0.005750880854904376}, {\"max_leaf_nodes\": 72, \"Type\": \"test\", \"Loss\": 0.008074977836000054}, {\"max_leaf_nodes\": 73, \"Type\": \"test\", \"Loss\": 0.006482759867250056}, {\"max_leaf_nodes\": 74, \"Type\": \"test\", \"Loss\": 0.007352800557079706}, {\"max_leaf_nodes\": 75, \"Type\": \"test\", \"Loss\": 0.007656596411671541}, {\"max_leaf_nodes\": 76, \"Type\": \"test\", \"Loss\": 0.008793409982273395}, {\"max_leaf_nodes\": 77, \"Type\": \"test\", \"Loss\": 0.006718273263523393}, {\"max_leaf_nodes\": 78, \"Type\": \"test\", \"Loss\": 0.007788669357273395}, {\"max_leaf_nodes\": 79, \"Type\": \"test\", \"Loss\": 0.006649588850501126}, {\"max_leaf_nodes\": 80, \"Type\": \"test\", \"Loss\": 0.006797245100501126}, {\"max_leaf_nodes\": 81, \"Type\": \"test\", \"Loss\": 0.008935584944251127}, {\"max_leaf_nodes\": 82, \"Type\": \"test\", \"Loss\": 0.007939823225501127}, {\"max_leaf_nodes\": 83, \"Type\": \"test\", \"Loss\": 0.006662166975501124}, {\"max_leaf_nodes\": 84, \"Type\": \"test\", \"Loss\": 0.006064588850501125}, {\"max_leaf_nodes\": 85, \"Type\": \"test\", \"Loss\": 0.007351834944251125}, {\"max_leaf_nodes\": 86, \"Type\": \"test\", \"Loss\": 0.008693039070043904}, {\"max_leaf_nodes\": 87, \"Type\": \"test\", \"Loss\": 0.008495477287518394}, {\"max_leaf_nodes\": 88, \"Type\": \"test\", \"Loss\": 0.008493761726293902}, {\"max_leaf_nodes\": 89, \"Type\": \"test\", \"Loss\": 0.0064939179762939035}, {\"max_leaf_nodes\": 90, \"Type\": \"test\", \"Loss\": 0.008491593358946965}, {\"max_leaf_nodes\": 91, \"Type\": \"test\", \"Loss\": 0.008912140233946963}, {\"max_leaf_nodes\": 92, \"Type\": \"test\", \"Loss\": 0.007333023220058074}, {\"max_leaf_nodes\": 93, \"Type\": \"test\", \"Loss\": 0.007646654122835855}, {\"max_leaf_nodes\": 94, \"Type\": \"test\", \"Loss\": 0.006643746136724744}, {\"max_leaf_nodes\": 95, \"Type\": \"test\", \"Loss\": 0.006257121057005356}, {\"max_leaf_nodes\": 96, \"Type\": \"test\", \"Loss\": 0.006580892230474741}, {\"max_leaf_nodes\": 97, \"Type\": \"test\", \"Loss\": 0.006536789105474744}, {\"max_leaf_nodes\": 98, \"Type\": \"test\", \"Loss\": 0.007915192230474741}, {\"max_leaf_nodes\": 99, \"Type\": \"test\", \"Loss\": 0.007460192230474741}, {\"max_leaf_nodes\": 100, \"Type\": \"test\", \"Loss\": 0.007551429748965865}, {\"max_leaf_nodes\": 101, \"Type\": \"test\", \"Loss\": 0.00703563048199056}, {\"max_leaf_nodes\": 102, \"Type\": \"test\", \"Loss\": 0.008534411346188089}, {\"max_leaf_nodes\": 103, \"Type\": \"test\", \"Loss\": 0.006622458221188091}, {\"max_leaf_nodes\": 104, \"Type\": \"test\", \"Loss\": 0.006877578630138706}, {\"max_leaf_nodes\": 105, \"Type\": \"test\", \"Loss\": 0.008044753938780683}, {\"max_leaf_nodes\": 106, \"Type\": \"test\", \"Loss\": 0.006530986924891793}, {\"max_leaf_nodes\": 107, \"Type\": \"test\", \"Loss\": 0.006715292480447348}, {\"max_leaf_nodes\": 108, \"Type\": \"test\", \"Loss\": 0.006528896299891791}, {\"max_leaf_nodes\": 109, \"Type\": \"test\", \"Loss\": 0.00844302685544735}, {\"max_leaf_nodes\": 110, \"Type\": \"test\", \"Loss\": 0.006372716292430819}, {\"max_leaf_nodes\": 111, \"Type\": \"test\", \"Loss\": 0.0063874819174308175}, {\"max_leaf_nodes\": 112, \"Type\": \"test\", \"Loss\": 0.00964097879243082}, {\"max_leaf_nodes\": 113, \"Type\": \"test\", \"Loss\": 0.008186038861875264}, {\"max_leaf_nodes\": 114, \"Type\": \"test\", \"Loss\": 0.006874181917430817}, {\"max_leaf_nodes\": 115, \"Type\": \"test\", \"Loss\": 0.006930051361875263}, {\"max_leaf_nodes\": 116, \"Type\": \"test\", \"Loss\": 0.007381867334097484}, {\"max_leaf_nodes\": 117, \"Type\": \"test\", \"Loss\": 0.007397979139653041}, {\"max_leaf_nodes\": 118, \"Type\": \"test\", \"Loss\": 0.007873117334097485}, {\"max_leaf_nodes\": 119, \"Type\": \"test\", \"Loss\": 0.0070429610840974845}, {\"max_leaf_nodes\": 120, \"Type\": \"test\", \"Loss\": 0.009323067334097485}, {\"max_leaf_nodes\": 121, \"Type\": \"test\", \"Loss\": 0.008187229834097485}, {\"max_leaf_nodes\": 122, \"Type\": \"test\", \"Loss\": 0.008922420952669572}, {\"max_leaf_nodes\": 123, \"Type\": \"test\", \"Loss\": 0.0070515271122685175}, {\"max_leaf_nodes\": 124, \"Type\": \"test\", \"Loss\": 0.00681964343171296}, {\"max_leaf_nodes\": 125, \"Type\": \"test\", \"Loss\": 0.008300667737268518}, {\"max_leaf_nodes\": 126, \"Type\": \"test\", \"Loss\": 0.007066258015046295}, {\"max_leaf_nodes\": 127, \"Type\": \"test\", \"Loss\": 0.009058063570601852}, {\"max_leaf_nodes\": 128, \"Type\": \"test\", \"Loss\": 0.009455867390046297}, {\"max_leaf_nodes\": 129, \"Type\": \"test\", \"Loss\": 0.008773662086517916}, {\"max_leaf_nodes\": 130, \"Type\": \"test\", \"Loss\": 0.009960991600406805}, {\"max_leaf_nodes\": 131, \"Type\": \"test\", \"Loss\": 0.008829390885416668}, {\"max_leaf_nodes\": 132, \"Type\": \"test\", \"Loss\": 0.009329416927083334}, {\"max_leaf_nodes\": 133, \"Type\": \"test\", \"Loss\": 0.00822518298611111}, {\"max_leaf_nodes\": 134, \"Type\": \"test\", \"Loss\": 0.0062282993055555545}, {\"max_leaf_nodes\": 135, \"Type\": \"test\", \"Loss\": 0.009003785416666665}, {\"max_leaf_nodes\": 136, \"Type\": \"test\", \"Loss\": 0.009574722916666667}, {\"max_leaf_nodes\": 137, \"Type\": \"test\", \"Loss\": 0.006817457291666666}, {\"max_leaf_nodes\": 138, \"Type\": \"test\", \"Loss\": 0.008926485069444443}, {\"max_leaf_nodes\": 139, \"Type\": \"test\", \"Loss\": 0.008701563194444446}, {\"max_leaf_nodes\": 140, \"Type\": \"test\", \"Loss\": 0.006583924305555555}, {\"max_leaf_nodes\": 141, \"Type\": \"test\", \"Loss\": 0.0064205909722222215}, {\"max_leaf_nodes\": 142, \"Type\": \"test\", \"Loss\": 0.006310486805555555}, {\"max_leaf_nodes\": 143, \"Type\": \"test\", \"Loss\": 0.008007986805555553}, {\"max_leaf_nodes\": 144, \"Type\": \"test\", \"Loss\": 0.008871068402777777}, {\"max_leaf_nodes\": 145, \"Type\": \"test\", \"Loss\": 0.008765443402777776}, {\"max_leaf_nodes\": 146, \"Type\": \"test\", \"Loss\": 0.006509123958333332}, {\"max_leaf_nodes\": 147, \"Type\": \"test\", \"Loss\": 0.010378715972222221}, {\"max_leaf_nodes\": 148, \"Type\": \"test\", \"Loss\": 0.006195868749999999}, {\"max_leaf_nodes\": 149, \"Type\": \"test\", \"Loss\": 0.006818533680555554}, {\"max_leaf_nodes\": 150, \"Type\": \"test\", \"Loss\": 0.00742132013888889}, {\"max_leaf_nodes\": 151, \"Type\": \"test\", \"Loss\": 0.00783246597222222}, {\"max_leaf_nodes\": 152, \"Type\": \"test\", \"Loss\": 0.008515486805555555}, {\"max_leaf_nodes\": 153, \"Type\": \"test\", \"Loss\": 0.0067102784722222215}, {\"max_leaf_nodes\": 154, \"Type\": \"test\", \"Loss\": 0.007154861805555554}, {\"max_leaf_nodes\": 155, \"Type\": \"test\", \"Loss\": 0.006618715972222222}, {\"max_leaf_nodes\": 156, \"Type\": \"test\", \"Loss\": 0.006650903472222221}, {\"max_leaf_nodes\": 157, \"Type\": \"test\", \"Loss\": 0.007828924305555554}, {\"max_leaf_nodes\": 158, \"Type\": \"test\", \"Loss\": 0.006967926041666667}, {\"max_leaf_nodes\": 159, \"Type\": \"test\", \"Loss\": 0.010248247222222222}, {\"max_leaf_nodes\": 160, \"Type\": \"test\", \"Loss\": 0.009588872222222222}, {\"max_leaf_nodes\": 161, \"Type\": \"test\", \"Loss\": 0.00624891284722222}, {\"max_leaf_nodes\": 162, \"Type\": \"test\", \"Loss\": 0.007776959722222221}, {\"max_leaf_nodes\": 163, \"Type\": \"test\", \"Loss\": 0.006564355555555554}, {\"max_leaf_nodes\": 164, \"Type\": \"test\", \"Loss\": 0.0107697375}, {\"max_leaf_nodes\": 165, \"Type\": \"test\", \"Loss\": 0.006166060231755423}, {\"max_leaf_nodes\": 166, \"Type\": \"test\", \"Loss\": 0.007451640787310978}, {\"max_leaf_nodes\": 167, \"Type\": \"test\", \"Loss\": 0.007903778287310979}, {\"max_leaf_nodes\": 168, \"Type\": \"test\", \"Loss\": 0.009870266520335671}, {\"max_leaf_nodes\": 169, \"Type\": \"test\", \"Loss\": 0.00733321790922456}, {\"max_leaf_nodes\": 170, \"Type\": \"test\", \"Loss\": 0.006574025200891226}, {\"max_leaf_nodes\": 171, \"Type\": \"test\", \"Loss\": 0.0065471502008912245}, {\"max_leaf_nodes\": 172, \"Type\": \"test\", \"Loss\": 0.0070732921761998665}, {\"max_leaf_nodes\": 173, \"Type\": \"test\", \"Loss\": 0.008241069953977645}, {\"max_leaf_nodes\": 174, \"Type\": \"test\", \"Loss\": 0.009530275200891225}, {\"max_leaf_nodes\": 175, \"Type\": \"test\", \"Loss\": 0.006654467909224558}, {\"max_leaf_nodes\": 176, \"Type\": \"test\", \"Loss\": 0.0070193637425578935}, {\"max_leaf_nodes\": 177, \"Type\": \"test\", \"Loss\": 0.0069000630095332}, {\"max_leaf_nodes\": 178, \"Type\": \"test\", \"Loss\": 0.0073138863120023375}, {\"max_leaf_nodes\": 179, \"Type\": \"test\", \"Loss\": 0.009169915440088754}, {\"max_leaf_nodes\": 180, \"Type\": \"test\", \"Loss\": 0.006851836967866534}, {\"max_leaf_nodes\": 181, \"Type\": \"test\", \"Loss\": 0.0071077018984220895}, {\"max_leaf_nodes\": 182, \"Type\": \"test\", \"Loss\": 0.007185523078977646}, {\"max_leaf_nodes\": 183, \"Type\": \"test\", \"Loss\": 0.0070085439123109775}, {\"max_leaf_nodes\": 184, \"Type\": \"test\", \"Loss\": 0.007749224120644313}, {\"max_leaf_nodes\": 185, \"Type\": \"test\", \"Loss\": 0.006830662538580246}, {\"max_leaf_nodes\": 186, \"Type\": \"test\", \"Loss\": 0.009539100038580245}, {\"max_leaf_nodes\": 187, \"Type\": \"test\", \"Loss\": 0.007916140933641975}, {\"max_leaf_nodes\": 188, \"Type\": \"test\", \"Loss\": 0.0065721537422839486}, {\"max_leaf_nodes\": 189, \"Type\": \"test\", \"Loss\": 0.008815652006172838}, {\"max_leaf_nodes\": 190, \"Type\": \"test\", \"Loss\": 0.006718615933641972}, {\"max_leaf_nodes\": 191, \"Type\": \"test\", \"Loss\": 0.007709692322530862}, {\"max_leaf_nodes\": 192, \"Type\": \"test\", \"Loss\": 0.007099610339506171}, {\"max_leaf_nodes\": 193, \"Type\": \"test\", \"Loss\": 0.0077730268109095476}, {\"max_leaf_nodes\": 194, \"Type\": \"test\", \"Loss\": 0.0070246545886873245}, {\"max_leaf_nodes\": 195, \"Type\": \"test\", \"Loss\": 0.00887691153313177}, {\"max_leaf_nodes\": 196, \"Type\": \"test\", \"Loss\": 0.006598435452884856}, {\"max_leaf_nodes\": 197, \"Type\": \"test\", \"Loss\": 0.007433400730662634}, {\"max_leaf_nodes\": 198, \"Type\": \"test\", \"Loss\": 0.007380171563995968}, {\"max_leaf_nodes\": 199, \"Type\": \"test\", \"Loss\": 0.0072046198664651034}, {\"max_leaf_nodes\": 200, \"Type\": \"test\", \"Loss\": 0.009403543477576215}]}}, {\"mode\": \"vega-lite\"});\n",
       "</script>"
      ],
      "text/plain": [
       "alt.Chart(...)"
      ]
     },
     "execution_count": 23,
     "metadata": {},
     "output_type": "execute_result"
    }
   ],
   "source": [
    "import altair as alt\n",
    "alt.Chart(df_melted).mark_line().encode(\n",
    "    x=\"max_leaf_nodes\",\n",
    "    y=\"Loss\",\n",
    "    color=alt.Color(\"Type\", scale=alt.Scale(domain=[\"train\", \"test\"]))\n",
    ")"
   ]
  },
  {
   "cell_type": "markdown",
   "metadata": {
    "cell_id": "8cc03c9295f941bf936e2dcc96896ddf",
    "deepnote_cell_type": "markdown",
    "tags": []
   },
   "source": [
    "From the U-shape test error curve, we could find that when the max_leaf_nodes is between 0-10, the model will fit well. In this case, we will try this range of max_leaf_nodes to find out the best fit model."
   ]
  },
  {
   "cell_type": "code",
   "execution_count": null,
   "metadata": {
    "cell_id": "316e2e6194bc4f5da416a62ba8d69c5f",
    "deepnote_cell_type": "code",
    "deepnote_to_be_reexecuted": false,
    "execution_millis": 6,
    "execution_start": 1670287812619,
    "source_hash": "81262a8a",
    "tags": []
   },
   "outputs": [
    {
     "data": {
      "text/plain": [
       "DecisionTreeRegressor(max_leaf_nodes=8)"
      ]
     },
     "execution_count": 24,
     "metadata": {},
     "output_type": "execute_result"
    }
   ],
   "source": [
    "from sklearn.tree import DecisionTreeRegressor\n",
    "reg3 = DecisionTreeRegressor(max_leaf_nodes=8)\n",
    "reg3.fit(X0_train,y0_train)"
   ]
  },
  {
   "cell_type": "code",
   "execution_count": 25,
   "metadata": {
    "cell_id": "39199367f1a24fc8bb929c269a906368",
    "deepnote_cell_type": "code",
    "deepnote_to_be_reexecuted": false,
    "execution_millis": 21,
    "execution_start": 1670287812629,
    "source_hash": "5582b554",
    "tags": []
   },
   "outputs": [
    {
     "name": "stdout",
     "output_type": "stream",
     "text": [
      "The accuracy of the training set is 0.7787843629561872\n",
      "The accuracy of the test set is 0.8035914207373919\n"
     ]
    }
   ],
   "source": [
    "print(f\"The accuracy of the training set is {reg3.score(X0_train,y0_train)}\")\n",
    "print(f\"The accuracy of the test set is {reg3.score(X0_test,y0_test)}\")"
   ]
  },
  {
   "cell_type": "markdown",
   "metadata": {
    "cell_id": "83b5adca265048378248c804c244a8a2",
    "deepnote_cell_type": "markdown",
    "tags": []
   },
   "source": [
    "Now the score of the test set is over 80%, and the training set is within 5% of the accuracy, so we could use this model to predict now."
   ]
  },
  {
   "cell_type": "code",
   "execution_count": 26,
   "metadata": {
    "cell_id": "70ed747da46b43fa9f1c9260741565f8",
    "deepnote_cell_type": "code",
    "deepnote_to_be_reexecuted": false,
    "execution_millis": 4,
    "execution_start": 1670287812679,
    "source_hash": "4fde24a7",
    "tags": []
   },
   "outputs": [
    {
     "data": {
      "text/plain": [
       "GRE         0.022848\n",
       "TOEFL       0.000000\n",
       "Rate        0.000000\n",
       "SOP         0.009752\n",
       "LOR         0.000000\n",
       "CGPA        0.967400\n",
       "Research    0.000000\n",
       "dtype: float64"
      ]
     },
     "execution_count": 26,
     "metadata": {},
     "output_type": "execute_result"
    }
   ],
   "source": [
    "# Finding the features importances\n",
    "pd.Series(reg3.feature_importances_, index=cols)"
   ]
  },
  {
   "cell_type": "code",
   "execution_count": 27,
   "metadata": {
    "cell_id": "113514a27a4b4fe09eb2435a56488e9a",
    "deepnote_cell_type": "code",
    "deepnote_to_be_reexecuted": false,
    "execution_millis": 0,
    "execution_start": 1670287812680,
    "source_hash": "80614c8",
    "tags": []
   },
   "outputs": [],
   "source": [
    "df1 = pd.DataFrame({\"feature\": reg3.feature_names_in_, \"importance\": reg3.feature_importances_})"
   ]
  },
  {
   "cell_type": "code",
   "execution_count": 28,
   "metadata": {
    "cell_id": "5c81a36b11a54baf86245c5ef9be20a5",
    "deepnote_cell_type": "code",
    "deepnote_to_be_reexecuted": false,
    "execution_millis": 2,
    "execution_start": 1670287812681,
    "source_hash": "b3b51619",
    "tags": []
   },
   "outputs": [
    {
     "data": {
      "text/html": [
       "\n",
       "<div id=\"altair-viz-df353bff038148e5b28930534b3be6ca\"></div>\n",
       "<script type=\"text/javascript\">\n",
       "  var VEGA_DEBUG = (typeof VEGA_DEBUG == \"undefined\") ? {} : VEGA_DEBUG;\n",
       "  (function(spec, embedOpt){\n",
       "    let outputDiv = document.currentScript.previousElementSibling;\n",
       "    if (outputDiv.id !== \"altair-viz-df353bff038148e5b28930534b3be6ca\") {\n",
       "      outputDiv = document.getElementById(\"altair-viz-df353bff038148e5b28930534b3be6ca\");\n",
       "    }\n",
       "    const paths = {\n",
       "      \"vega\": \"https://cdn.jsdelivr.net/npm//vega@5?noext\",\n",
       "      \"vega-lib\": \"https://cdn.jsdelivr.net/npm//vega-lib?noext\",\n",
       "      \"vega-lite\": \"https://cdn.jsdelivr.net/npm//vega-lite@4.17.0?noext\",\n",
       "      \"vega-embed\": \"https://cdn.jsdelivr.net/npm//vega-embed@6?noext\",\n",
       "    };\n",
       "\n",
       "    function maybeLoadScript(lib, version) {\n",
       "      var key = `${lib.replace(\"-\", \"\")}_version`;\n",
       "      return (VEGA_DEBUG[key] == version) ?\n",
       "        Promise.resolve(paths[lib]) :\n",
       "        new Promise(function(resolve, reject) {\n",
       "          var s = document.createElement('script');\n",
       "          document.getElementsByTagName(\"head\")[0].appendChild(s);\n",
       "          s.async = true;\n",
       "          s.onload = () => {\n",
       "            VEGA_DEBUG[key] = version;\n",
       "            return resolve(paths[lib]);\n",
       "          };\n",
       "          s.onerror = () => reject(`Error loading script: ${paths[lib]}`);\n",
       "          s.src = paths[lib];\n",
       "        });\n",
       "    }\n",
       "\n",
       "    function showError(err) {\n",
       "      outputDiv.innerHTML = `<div class=\"error\" style=\"color:red;\">${err}</div>`;\n",
       "      throw err;\n",
       "    }\n",
       "\n",
       "    function displayChart(vegaEmbed) {\n",
       "      vegaEmbed(outputDiv, spec, embedOpt)\n",
       "        .catch(err => showError(`Javascript Error: ${err.message}<br>This usually means there's a typo in your chart specification. See the javascript console for the full traceback.`));\n",
       "    }\n",
       "\n",
       "    if(typeof define === \"function\" && define.amd) {\n",
       "      requirejs.config({paths});\n",
       "      require([\"vega-embed\"], displayChart, err => showError(`Error loading script: ${err.message}`));\n",
       "    } else {\n",
       "      maybeLoadScript(\"vega\", \"5\")\n",
       "        .then(() => maybeLoadScript(\"vega-lite\", \"4.17.0\"))\n",
       "        .then(() => maybeLoadScript(\"vega-embed\", \"6\"))\n",
       "        .catch(showError)\n",
       "        .then(() => displayChart(vegaEmbed));\n",
       "    }\n",
       "  })({\"config\": {\"view\": {\"continuousWidth\": 400, \"continuousHeight\": 300}}, \"data\": {\"name\": \"data-21bc7670ad673a70c3a09c671b4eda86\"}, \"mark\": \"bar\", \"encoding\": {\"x\": {\"field\": \"importance\", \"type\": \"quantitative\"}, \"y\": {\"field\": \"feature\", \"type\": \"nominal\"}}, \"$schema\": \"https://vega.github.io/schema/vega-lite/v4.17.0.json\", \"datasets\": {\"data-21bc7670ad673a70c3a09c671b4eda86\": [{\"feature\": \"GRE\", \"importance\": 0.022848481551276015}, {\"feature\": \"TOEFL\", \"importance\": 0.0}, {\"feature\": \"Rate\", \"importance\": 0.0}, {\"feature\": \"SOP\", \"importance\": 0.00975151906519732}, {\"feature\": \"LOR \", \"importance\": 0.0}, {\"feature\": \"CGPA\", \"importance\": 0.9673999993835267}, {\"feature\": \"Research\", \"importance\": 0.0}]}}, {\"mode\": \"vega-lite\"});\n",
       "</script>"
      ],
      "text/plain": [
       "alt.Chart(...)"
      ]
     },
     "execution_count": 28,
     "metadata": {},
     "output_type": "execute_result"
    }
   ],
   "source": [
    "alt.Chart(df1).mark_bar().encode(\n",
    "    x=\"importance\",\n",
    "    y=\"feature\"\n",
    ")"
   ]
  },
  {
   "cell_type": "markdown",
   "metadata": {
    "cell_id": "53da996341fe4ac88677267f3f069f26",
    "deepnote_cell_type": "markdown",
    "tags": []
   },
   "source": [
    "By using the DecisionTreeRegressor Model, we could find out that the features that is more important to the chance of admission is CGPA and GRE score."
   ]
  },
  {
   "cell_type": "markdown",
   "metadata": {
    "cell_id": "be0bd33e10a44abbbf27a54b82a113cd",
    "deepnote_cell_type": "markdown",
    "tags": []
   },
   "source": [
    "## KNeighborsRegressor"
   ]
  },
  {
   "cell_type": "markdown",
   "metadata": {
    "cell_id": "61a9950a320848f9a3c0225ea3b53bd4",
    "deepnote_cell_type": "markdown",
    "tags": []
   },
   "source": [
    "We now have finded out the two important features to determine the chance of admission. Let's using KNeighborsRegressor to predict the chance by using the CGPA andd GRE columns."
   ]
  },
  {
   "cell_type": "code",
   "execution_count": 29,
   "metadata": {
    "cell_id": "a6d59f0032dd44d28e16ac8e36f016be",
    "deepnote_cell_type": "code",
    "deepnote_to_be_reexecuted": false,
    "execution_millis": 5,
    "execution_start": 1670287812684,
    "source_hash": "8c1cfefd",
    "tags": []
   },
   "outputs": [],
   "source": [
    "X1 = df[[\"CGPA\",\"GRE\"]]\n",
    "y1 = df[\"Chance\"]\n",
    "X1_train, X1_test, y1_train, y1_test = train_test_split(X1,y1, test_size = 0.2, random_state=10)"
   ]
  },
  {
   "cell_type": "code",
   "execution_count": 30,
   "metadata": {
    "cell_id": "9d82e16c66a9466fa62756d3ead51ca1",
    "deepnote_cell_type": "code",
    "deepnote_to_be_reexecuted": false,
    "execution_millis": 1,
    "execution_start": 1670287812690,
    "source_hash": "c5f7a513",
    "tags": []
   },
   "outputs": [],
   "source": [
    "# Try to find the K value for the KNeighborsRegressor model\n",
    "from sklearn.metrics import mean_squared_error, mean_absolute_error\n",
    "from sklearn.neighbors import KNeighborsRegressor\n",
    "def get_scores(k):\n",
    "    neigh = KNeighborsRegressor(n_neighbors=k)\n",
    "    neigh.fit(X1_train, y1_train)\n",
    "    train_error = mean_absolute_error(neigh.predict(X1_train), y1_train)\n",
    "    test_error = mean_absolute_error(neigh.predict(X1_test), y1_test)\n",
    "    return (train_error, test_error)"
   ]
  },
  {
   "cell_type": "code",
   "execution_count": 31,
   "metadata": {
    "cell_id": "1130c7fb2c48495785871dd7b55011aa",
    "deepnote_cell_type": "code",
    "deepnote_to_be_reexecuted": false,
    "execution_millis": 1089,
    "execution_start": 1670287812735,
    "source_hash": "37e2207c",
    "tags": []
   },
   "outputs": [],
   "source": [
    "import numpy as np\n",
    "df_scores = pd.DataFrame({\"k\":range(1,150),\"train_error\":np.nan,\"test_error\":np.nan})\n",
    "for i in df_scores.index:\n",
    "    df_scores.loc[i,[\"train_error\",\"test_error\"]] = get_scores(df_scores.loc[i,\"k\"])"
   ]
  },
  {
   "cell_type": "code",
   "execution_count": 32,
   "metadata": {
    "cell_id": "9b671fb84edc4d54bde44f3ff1ef13b8",
    "deepnote_cell_type": "code",
    "deepnote_table_loading": false,
    "deepnote_table_state": {
     "filters": [],
     "pageIndex": 0,
     "pageSize": 10,
     "sortBy": []
    },
    "deepnote_to_be_reexecuted": false,
    "execution_millis": 11,
    "execution_start": 1670287813830,
    "source_hash": "7ddb3e1e",
    "tags": []
   },
   "outputs": [
    {
     "data": {
      "application/vnd.deepnote.dataframe.v3+json": {
       "column_count": 3,
       "columns": [
        {
         "dtype": "int64",
         "name": "k",
         "stats": {
          "histogram": [
           {
            "bin_end": 15.8,
            "bin_start": 1,
            "count": 15
           },
           {
            "bin_end": 30.6,
            "bin_start": 15.8,
            "count": 15
           },
           {
            "bin_end": 45.400000000000006,
            "bin_start": 30.6,
            "count": 15
           },
           {
            "bin_end": 60.2,
            "bin_start": 45.400000000000006,
            "count": 15
           },
           {
            "bin_end": 75,
            "bin_start": 60.2,
            "count": 14
           },
           {
            "bin_end": 89.80000000000001,
            "bin_start": 75,
            "count": 15
           },
           {
            "bin_end": 104.60000000000001,
            "bin_start": 89.80000000000001,
            "count": 15
           },
           {
            "bin_end": 119.4,
            "bin_start": 104.60000000000001,
            "count": 15
           },
           {
            "bin_end": 134.20000000000002,
            "bin_start": 119.4,
            "count": 15
           },
           {
            "bin_end": 149,
            "bin_start": 134.20000000000002,
            "count": 15
           }
          ],
          "max": "149",
          "min": "1",
          "nan_count": 0,
          "unique_count": 149
         }
        },
        {
         "dtype": "float64",
         "name": "train_error",
         "stats": {
          "histogram": [
           {
            "bin_end": 0.009386043074324325,
            "bin_start": 0.002,
            "count": 1
           },
           {
            "bin_end": 0.016772086148648647,
            "bin_start": 0.009386043074324325,
            "count": 0
           },
           {
            "bin_end": 0.024158129222972974,
            "bin_start": 0.016772086148648647,
            "count": 0
           },
           {
            "bin_end": 0.0315441722972973,
            "bin_start": 0.024158129222972974,
            "count": 0
           },
           {
            "bin_end": 0.038930215371621626,
            "bin_start": 0.0315441722972973,
            "count": 1
           },
           {
            "bin_end": 0.046316258445945946,
            "bin_start": 0.038930215371621626,
            "count": 2
           },
           {
            "bin_end": 0.05370230152027027,
            "bin_start": 0.046316258445945946,
            "count": 4
           },
           {
            "bin_end": 0.0610883445945946,
            "bin_start": 0.05370230152027027,
            "count": 27
           },
           {
            "bin_end": 0.06847438766891892,
            "bin_start": 0.0610883445945946,
            "count": 50
           },
           {
            "bin_end": 0.07586043074324325,
            "bin_start": 0.06847438766891892,
            "count": 64
           }
          ],
          "max": "0.07586043074324325",
          "min": "0.002",
          "nan_count": 0,
          "unique_count": 149
         }
        },
        {
         "dtype": "float64",
         "name": "test_error",
         "stats": {
          "histogram": [
           {
            "bin_end": 0.054416875,
            "bin_start": 0.05251875,
            "count": 12
           },
           {
            "bin_end": 0.056315000000000004,
            "bin_start": 0.054416875,
            "count": 34
           },
           {
            "bin_end": 0.058213125000000004,
            "bin_start": 0.056315000000000004,
            "count": 16
           },
           {
            "bin_end": 0.06011125,
            "bin_start": 0.058213125000000004,
            "count": 14
           },
           {
            "bin_end": 0.062009375,
            "bin_start": 0.06011125,
            "count": 7
           },
           {
            "bin_end": 0.0639075,
            "bin_start": 0.062009375,
            "count": 9
           },
           {
            "bin_end": 0.06580562499999999,
            "bin_start": 0.0639075,
            "count": 16
           },
           {
            "bin_end": 0.06770375,
            "bin_start": 0.06580562499999999,
            "count": 21
           },
           {
            "bin_end": 0.069601875,
            "bin_start": 0.06770375,
            "count": 15
           },
           {
            "bin_end": 0.0715,
            "bin_start": 0.069601875,
            "count": 5
           }
          ],
          "max": "0.0715",
          "min": "0.05251875",
          "nan_count": 0,
          "unique_count": 149
         }
        },
        {
         "dtype": "int64",
         "name": "_deepnote_index_column"
        }
       ],
       "row_count": 149,
       "rows": [
        {
         "_deepnote_index_column": "0",
         "k": "1",
         "test_error": "0.0715",
         "train_error": "0.002"
        },
        {
         "_deepnote_index_column": "1",
         "k": "2",
         "test_error": "0.058625",
         "train_error": "0.03496875"
        },
        {
         "_deepnote_index_column": "2",
         "k": "3",
         "test_error": "0.058583333333333334",
         "train_error": "0.042604166666666665"
        },
        {
         "_deepnote_index_column": "3",
         "k": "4",
         "test_error": "0.057124999999999995",
         "train_error": "0.04559375"
        },
        {
         "_deepnote_index_column": "4",
         "k": "5",
         "test_error": "0.057599999999999985",
         "train_error": "0.048181249999999995"
        },
        {
         "_deepnote_index_column": "5",
         "k": "6",
         "test_error": "0.05739583333333333",
         "train_error": "0.04927604166666666"
        },
        {
         "_deepnote_index_column": "6",
         "k": "7",
         "test_error": "0.05807142857142857",
         "train_error": "0.052000000000000005"
        },
        {
         "_deepnote_index_column": "7",
         "k": "8",
         "test_error": "0.057453124999999994",
         "train_error": "0.05332421875"
        },
        {
         "_deepnote_index_column": "8",
         "k": "9",
         "test_error": "0.056638888888888884",
         "train_error": "0.05396527777777778"
        },
        {
         "_deepnote_index_column": "9",
         "k": "10",
         "test_error": "0.05648749999999999",
         "train_error": "0.05375"
        }
       ]
      },
      "text/html": [
       "<div>\n",
       "<style scoped>\n",
       "    .dataframe tbody tr th:only-of-type {\n",
       "        vertical-align: middle;\n",
       "    }\n",
       "\n",
       "    .dataframe tbody tr th {\n",
       "        vertical-align: top;\n",
       "    }\n",
       "\n",
       "    .dataframe thead th {\n",
       "        text-align: right;\n",
       "    }\n",
       "</style>\n",
       "<table border=\"1\" class=\"dataframe\">\n",
       "  <thead>\n",
       "    <tr style=\"text-align: right;\">\n",
       "      <th></th>\n",
       "      <th>k</th>\n",
       "      <th>train_error</th>\n",
       "      <th>test_error</th>\n",
       "    </tr>\n",
       "  </thead>\n",
       "  <tbody>\n",
       "    <tr>\n",
       "      <th>0</th>\n",
       "      <td>1</td>\n",
       "      <td>0.002000</td>\n",
       "      <td>0.071500</td>\n",
       "    </tr>\n",
       "    <tr>\n",
       "      <th>1</th>\n",
       "      <td>2</td>\n",
       "      <td>0.034969</td>\n",
       "      <td>0.058625</td>\n",
       "    </tr>\n",
       "    <tr>\n",
       "      <th>2</th>\n",
       "      <td>3</td>\n",
       "      <td>0.042604</td>\n",
       "      <td>0.058583</td>\n",
       "    </tr>\n",
       "    <tr>\n",
       "      <th>3</th>\n",
       "      <td>4</td>\n",
       "      <td>0.045594</td>\n",
       "      <td>0.057125</td>\n",
       "    </tr>\n",
       "    <tr>\n",
       "      <th>4</th>\n",
       "      <td>5</td>\n",
       "      <td>0.048181</td>\n",
       "      <td>0.057600</td>\n",
       "    </tr>\n",
       "    <tr>\n",
       "      <th>...</th>\n",
       "      <td>...</td>\n",
       "      <td>...</td>\n",
       "      <td>...</td>\n",
       "    </tr>\n",
       "    <tr>\n",
       "      <th>144</th>\n",
       "      <td>145</td>\n",
       "      <td>0.075154</td>\n",
       "      <td>0.069567</td>\n",
       "    </tr>\n",
       "    <tr>\n",
       "      <th>145</th>\n",
       "      <td>146</td>\n",
       "      <td>0.075392</td>\n",
       "      <td>0.069720</td>\n",
       "    </tr>\n",
       "    <tr>\n",
       "      <th>146</th>\n",
       "      <td>147</td>\n",
       "      <td>0.075582</td>\n",
       "      <td>0.069930</td>\n",
       "    </tr>\n",
       "    <tr>\n",
       "      <th>147</th>\n",
       "      <td>148</td>\n",
       "      <td>0.075860</td>\n",
       "      <td>0.070373</td>\n",
       "    </tr>\n",
       "    <tr>\n",
       "      <th>148</th>\n",
       "      <td>149</td>\n",
       "      <td>0.075854</td>\n",
       "      <td>0.070461</td>\n",
       "    </tr>\n",
       "  </tbody>\n",
       "</table>\n",
       "<p>149 rows × 3 columns</p>\n",
       "</div>"
      ],
      "text/plain": [
       "       k  train_error  test_error\n",
       "0      1     0.002000    0.071500\n",
       "1      2     0.034969    0.058625\n",
       "2      3     0.042604    0.058583\n",
       "3      4     0.045594    0.057125\n",
       "4      5     0.048181    0.057600\n",
       "..   ...          ...         ...\n",
       "144  145     0.075154    0.069567\n",
       "145  146     0.075392    0.069720\n",
       "146  147     0.075582    0.069930\n",
       "147  148     0.075860    0.070373\n",
       "148  149     0.075854    0.070461\n",
       "\n",
       "[149 rows x 3 columns]"
      ]
     },
     "execution_count": 32,
     "metadata": {},
     "output_type": "execute_result"
    }
   ],
   "source": [
    "df_scores"
   ]
  },
  {
   "cell_type": "code",
   "execution_count": 33,
   "metadata": {
    "cell_id": "4d21e04e19b845c8b9e514fce713f295",
    "deepnote_cell_type": "code",
    "deepnote_to_be_reexecuted": false,
    "execution_millis": 4,
    "execution_start": 1670287813874,
    "source_hash": "28d21124",
    "tags": []
   },
   "outputs": [
    {
     "data": {
      "text/html": [
       "\n",
       "<div id=\"altair-viz-9cc77e10202e42bdb035398350d0a6ed\"></div>\n",
       "<script type=\"text/javascript\">\n",
       "  var VEGA_DEBUG = (typeof VEGA_DEBUG == \"undefined\") ? {} : VEGA_DEBUG;\n",
       "  (function(spec, embedOpt){\n",
       "    let outputDiv = document.currentScript.previousElementSibling;\n",
       "    if (outputDiv.id !== \"altair-viz-9cc77e10202e42bdb035398350d0a6ed\") {\n",
       "      outputDiv = document.getElementById(\"altair-viz-9cc77e10202e42bdb035398350d0a6ed\");\n",
       "    }\n",
       "    const paths = {\n",
       "      \"vega\": \"https://cdn.jsdelivr.net/npm//vega@5?noext\",\n",
       "      \"vega-lib\": \"https://cdn.jsdelivr.net/npm//vega-lib?noext\",\n",
       "      \"vega-lite\": \"https://cdn.jsdelivr.net/npm//vega-lite@4.17.0?noext\",\n",
       "      \"vega-embed\": \"https://cdn.jsdelivr.net/npm//vega-embed@6?noext\",\n",
       "    };\n",
       "\n",
       "    function maybeLoadScript(lib, version) {\n",
       "      var key = `${lib.replace(\"-\", \"\")}_version`;\n",
       "      return (VEGA_DEBUG[key] == version) ?\n",
       "        Promise.resolve(paths[lib]) :\n",
       "        new Promise(function(resolve, reject) {\n",
       "          var s = document.createElement('script');\n",
       "          document.getElementsByTagName(\"head\")[0].appendChild(s);\n",
       "          s.async = true;\n",
       "          s.onload = () => {\n",
       "            VEGA_DEBUG[key] = version;\n",
       "            return resolve(paths[lib]);\n",
       "          };\n",
       "          s.onerror = () => reject(`Error loading script: ${paths[lib]}`);\n",
       "          s.src = paths[lib];\n",
       "        });\n",
       "    }\n",
       "\n",
       "    function showError(err) {\n",
       "      outputDiv.innerHTML = `<div class=\"error\" style=\"color:red;\">${err}</div>`;\n",
       "      throw err;\n",
       "    }\n",
       "\n",
       "    function displayChart(vegaEmbed) {\n",
       "      vegaEmbed(outputDiv, spec, embedOpt)\n",
       "        .catch(err => showError(`Javascript Error: ${err.message}<br>This usually means there's a typo in your chart specification. See the javascript console for the full traceback.`));\n",
       "    }\n",
       "\n",
       "    if(typeof define === \"function\" && define.amd) {\n",
       "      requirejs.config({paths});\n",
       "      require([\"vega-embed\"], displayChart, err => showError(`Error loading script: ${err.message}`));\n",
       "    } else {\n",
       "      maybeLoadScript(\"vega\", \"5\")\n",
       "        .then(() => maybeLoadScript(\"vega-lite\", \"4.17.0\"))\n",
       "        .then(() => maybeLoadScript(\"vega-embed\", \"6\"))\n",
       "        .catch(showError)\n",
       "        .then(() => displayChart(vegaEmbed));\n",
       "    }\n",
       "  })({\"config\": {\"view\": {\"continuousWidth\": 400, \"continuousHeight\": 300}}, \"layer\": [{\"mark\": \"line\", \"encoding\": {\"tooltip\": [{\"field\": \"k\", \"type\": \"quantitative\"}], \"x\": {\"field\": \"k\", \"type\": \"quantitative\"}, \"y\": {\"field\": \"train_error\", \"type\": \"quantitative\"}}}, {\"mark\": {\"type\": \"line\", \"color\": \"orange\"}, \"encoding\": {\"tooltip\": [{\"field\": \"k\", \"type\": \"quantitative\"}], \"x\": {\"field\": \"k\", \"type\": \"quantitative\"}, \"y\": {\"field\": \"test_error\", \"type\": \"quantitative\"}}}], \"data\": {\"name\": \"data-7e74cc28552d9fcedb918208d741d255\"}, \"$schema\": \"https://vega.github.io/schema/vega-lite/v4.17.0.json\", \"datasets\": {\"data-7e74cc28552d9fcedb918208d741d255\": [{\"k\": 1, \"train_error\": 0.002, \"test_error\": 0.0715}, {\"k\": 2, \"train_error\": 0.03496875, \"test_error\": 0.058625}, {\"k\": 3, \"train_error\": 0.042604166666666665, \"test_error\": 0.058583333333333334}, {\"k\": 4, \"train_error\": 0.04559375, \"test_error\": 0.057124999999999995}, {\"k\": 5, \"train_error\": 0.048181249999999995, \"test_error\": 0.057599999999999985}, {\"k\": 6, \"train_error\": 0.04927604166666666, \"test_error\": 0.05739583333333333}, {\"k\": 7, \"train_error\": 0.052000000000000005, \"test_error\": 0.05807142857142857}, {\"k\": 8, \"train_error\": 0.05332421875, \"test_error\": 0.057453124999999994}, {\"k\": 9, \"train_error\": 0.05396527777777778, \"test_error\": 0.056638888888888884}, {\"k\": 10, \"train_error\": 0.05375, \"test_error\": 0.05648749999999999}, {\"k\": 11, \"train_error\": 0.054261363636363635, \"test_error\": 0.05668181818181818}, {\"k\": 12, \"train_error\": 0.05475520833333332, \"test_error\": 0.05540624999999999}, {\"k\": 13, \"train_error\": 0.05477403846153846, \"test_error\": 0.05524038461538461}, {\"k\": 14, \"train_error\": 0.054982142857142854, \"test_error\": 0.055053571428571424}, {\"k\": 15, \"train_error\": 0.05520625, \"test_error\": 0.05422499999999999}, {\"k\": 16, \"train_error\": 0.055326171874999996, \"test_error\": 0.053914062500000005}, {\"k\": 17, \"train_error\": 0.05574632352941176, \"test_error\": 0.05361029411764705}, {\"k\": 18, \"train_error\": 0.056701388888888885, \"test_error\": 0.05365277777777779}, {\"k\": 19, \"train_error\": 0.05647039473684209, \"test_error\": 0.05384210526315791}, {\"k\": 20, \"train_error\": 0.056690624999999994, \"test_error\": 0.05251875}, {\"k\": 21, \"train_error\": 0.056962797619047614, \"test_error\": 0.05310119047619048}, {\"k\": 22, \"train_error\": 0.057008522727272706, \"test_error\": 0.05330113636363637}, {\"k\": 23, \"train_error\": 0.057038043478260844, \"test_error\": 0.052554347826086964}, {\"k\": 24, \"train_error\": 0.05729296874999999, \"test_error\": 0.05290104166666667}, {\"k\": 25, \"train_error\": 0.05795624999999999, \"test_error\": 0.053790000000000004}, {\"k\": 26, \"train_error\": 0.05828725961538461, \"test_error\": 0.05395673076923076}, {\"k\": 27, \"train_error\": 0.05899074074074073, \"test_error\": 0.05501851851851851}, {\"k\": 28, \"train_error\": 0.05933816964285714, \"test_error\": 0.05557142857142857}, {\"k\": 29, \"train_error\": 0.05945258620689655, \"test_error\": 0.056211206896551714}, {\"k\": 30, \"train_error\": 0.059640625, \"test_error\": 0.056758333333333334}, {\"k\": 31, \"train_error\": 0.059961693548387096, \"test_error\": 0.056407258064516116}, {\"k\": 32, \"train_error\": 0.06024023437499999, \"test_error\": 0.055937499999999994}, {\"k\": 33, \"train_error\": 0.060538825757575764, \"test_error\": 0.05629166666666666}, {\"k\": 34, \"train_error\": 0.06074632352941176, \"test_error\": 0.05575735294117647}, {\"k\": 35, \"train_error\": 0.060964285714285714, \"test_error\": 0.05543928571428571}, {\"k\": 36, \"train_error\": 0.061372395833333336, \"test_error\": 0.055180555555555545}, {\"k\": 37, \"train_error\": 0.06173564189189189, \"test_error\": 0.05487837837837837}, {\"k\": 38, \"train_error\": 0.061700657894736846, \"test_error\": 0.05466118421052629}, {\"k\": 39, \"train_error\": 0.06173958333333335, \"test_error\": 0.0544903846153846}, {\"k\": 40, \"train_error\": 0.06180859374999999, \"test_error\": 0.054456250000000005}, {\"k\": 41, \"train_error\": 0.06214253048780487, \"test_error\": 0.05487499999999999}, {\"k\": 42, \"train_error\": 0.06250074404761904, \"test_error\": 0.05523511904761904}, {\"k\": 43, \"train_error\": 0.0624077034883721, \"test_error\": 0.055578488372093025}, {\"k\": 44, \"train_error\": 0.06265980113636363, \"test_error\": 0.05547727272727274}, {\"k\": 45, \"train_error\": 0.06288958333333333, \"test_error\": 0.05553055555555557}, {\"k\": 46, \"train_error\": 0.06293885869565216, \"test_error\": 0.055614130434782624}, {\"k\": 47, \"train_error\": 0.0630877659574468, \"test_error\": 0.055747340425531935}, {\"k\": 48, \"train_error\": 0.06307226562499998, \"test_error\": 0.05537760416666667}, {\"k\": 49, \"train_error\": 0.06298979591836734, \"test_error\": 0.055589285714285716}, {\"k\": 50, \"train_error\": 0.06336374999999998, \"test_error\": 0.0557825}, {\"k\": 51, \"train_error\": 0.06359742647058822, \"test_error\": 0.05584558823529412}, {\"k\": 52, \"train_error\": 0.06354326923076922, \"test_error\": 0.05615865384615385}, {\"k\": 53, \"train_error\": 0.06373231132075471, \"test_error\": 0.05628066037735848}, {\"k\": 54, \"train_error\": 0.06376909722222221, \"test_error\": 0.05621527777777776}, {\"k\": 55, \"train_error\": 0.06367556818181817, \"test_error\": 0.05623863636363635}, {\"k\": 56, \"train_error\": 0.06353180803571427, \"test_error\": 0.05604017857142855}, {\"k\": 57, \"train_error\": 0.0637280701754386, \"test_error\": 0.056114035087719304}, {\"k\": 58, \"train_error\": 0.06386368534482759, \"test_error\": 0.05621767241379309}, {\"k\": 59, \"train_error\": 0.06392161016949152, \"test_error\": 0.056237288135593214}, {\"k\": 60, \"train_error\": 0.064146875, \"test_error\": 0.056737499999999996}, {\"k\": 61, \"train_error\": 0.06440625000000001, \"test_error\": 0.057084016393442606}, {\"k\": 62, \"train_error\": 0.06459475806451612, \"test_error\": 0.05740120967741933}, {\"k\": 63, \"train_error\": 0.06465277777777778, \"test_error\": 0.05744444444444445}, {\"k\": 64, \"train_error\": 0.064796875, \"test_error\": 0.05748437499999999}, {\"k\": 65, \"train_error\": 0.0649841346153846, \"test_error\": 0.057873076923076916}, {\"k\": 66, \"train_error\": 0.06505918560606061, \"test_error\": 0.058231060606060606}, {\"k\": 67, \"train_error\": 0.06543236940298507, \"test_error\": 0.05823507462686567}, {\"k\": 68, \"train_error\": 0.06574678308823527, \"test_error\": 0.05836948529411763}, {\"k\": 69, \"train_error\": 0.06611322463768114, \"test_error\": 0.05849637681159418}, {\"k\": 70, \"train_error\": 0.06646071428571426, \"test_error\": 0.059024999999999994}, {\"k\": 71, \"train_error\": 0.0664863556338028, \"test_error\": 0.05910211267605632}, {\"k\": 72, \"train_error\": 0.06642187499999999, \"test_error\": 0.059026041666666675}, {\"k\": 73, \"train_error\": 0.06637628424657534, \"test_error\": 0.058871575342465766}, {\"k\": 74, \"train_error\": 0.06642229729729728, \"test_error\": 0.05904222972972972}, {\"k\": 75, \"train_error\": 0.06661458333333332, \"test_error\": 0.059345}, {\"k\": 76, \"train_error\": 0.06693996710526315, \"test_error\": 0.059521381578947374}, {\"k\": 77, \"train_error\": 0.0671140422077922, \"test_error\": 0.05992207792207793}, {\"k\": 78, \"train_error\": 0.06742508012820511, \"test_error\": 0.06035897435897438}, {\"k\": 79, \"train_error\": 0.06733702531645566, \"test_error\": 0.060568037974683554}, {\"k\": 80, \"train_error\": 0.06737421874999998, \"test_error\": 0.06075156249999999}, {\"k\": 81, \"train_error\": 0.06754513888888888, \"test_error\": 0.06114814814814815}, {\"k\": 82, \"train_error\": 0.06769778963414633, \"test_error\": 0.06153353658536587}, {\"k\": 83, \"train_error\": 0.06788328313253011, \"test_error\": 0.061778614457831324}, {\"k\": 84, \"train_error\": 0.06807440476190477, \"test_error\": 0.06189434523809525}, {\"k\": 85, \"train_error\": 0.06840551470588237, \"test_error\": 0.062036764705882375}, {\"k\": 86, \"train_error\": 0.06856504360465118, \"test_error\": 0.06225872093023258}, {\"k\": 87, \"train_error\": 0.06860775862068966, \"test_error\": 0.06252729885057473}, {\"k\": 88, \"train_error\": 0.06854012784090908, \"test_error\": 0.06281250000000001}, {\"k\": 89, \"train_error\": 0.06878651685393257, \"test_error\": 0.06302808988764044}, {\"k\": 90, \"train_error\": 0.06887083333333331, \"test_error\": 0.06319861111111111}, {\"k\": 91, \"train_error\": 0.06904876373626372, \"test_error\": 0.06360576923076923}, {\"k\": 92, \"train_error\": 0.0693040081521739, \"test_error\": 0.06384918478260868}, {\"k\": 93, \"train_error\": 0.0693293010752688, \"test_error\": 0.0638306451612903}, {\"k\": 94, \"train_error\": 0.06950365691489362, \"test_error\": 0.06427659574468084}, {\"k\": 95, \"train_error\": 0.06958355263157892, \"test_error\": 0.06446052631578944}, {\"k\": 96, \"train_error\": 0.06960026041666666, \"test_error\": 0.06443619791666667}, {\"k\": 97, \"train_error\": 0.06953028350515464, \"test_error\": 0.06465206185567013}, {\"k\": 98, \"train_error\": 0.06965561224489794, \"test_error\": 0.06480612244897961}, {\"k\": 99, \"train_error\": 0.07031881313131312, \"test_error\": 0.0653888888888889}, {\"k\": 100, \"train_error\": 0.07050718749999998, \"test_error\": 0.06544625}, {\"k\": 101, \"train_error\": 0.07069183168316831, \"test_error\": 0.06558292079207921}, {\"k\": 102, \"train_error\": 0.0706081495098039, \"test_error\": 0.06556617647058824}, {\"k\": 103, \"train_error\": 0.07070236650485436, \"test_error\": 0.06557766990291261}, {\"k\": 104, \"train_error\": 0.07061418269230768, \"test_error\": 0.06538341346153845}, {\"k\": 105, \"train_error\": 0.07076369047619048, \"test_error\": 0.06557857142857143}, {\"k\": 106, \"train_error\": 0.07087794811320755, \"test_error\": 0.06556603773584906}, {\"k\": 107, \"train_error\": 0.07094304906542057, \"test_error\": 0.06569976635514019}, {\"k\": 108, \"train_error\": 0.07103443287037038, \"test_error\": 0.06577199074074076}, {\"k\": 109, \"train_error\": 0.07104673165137616, \"test_error\": 0.06588302752293579}, {\"k\": 110, \"train_error\": 0.07105511363636366, \"test_error\": 0.06571250000000003}, {\"k\": 111, \"train_error\": 0.07117201576576579, \"test_error\": 0.06592680180180184}, {\"k\": 112, \"train_error\": 0.07143582589285714, \"test_error\": 0.06630245535714288}, {\"k\": 113, \"train_error\": 0.07169634955752213, \"test_error\": 0.06632853982300886}, {\"k\": 114, \"train_error\": 0.07171655701754384, \"test_error\": 0.06636293859649123}, {\"k\": 115, \"train_error\": 0.07171222826086956, \"test_error\": 0.0663054347826087}, {\"k\": 116, \"train_error\": 0.07182435344827584, \"test_error\": 0.0663200431034483}, {\"k\": 117, \"train_error\": 0.07190678418803419, \"test_error\": 0.06632478632478635}, {\"k\": 118, \"train_error\": 0.07204210805084746, \"test_error\": 0.06656673728813563}, {\"k\": 119, \"train_error\": 0.07210477941176471, \"test_error\": 0.06671848739495803}, {\"k\": 120, \"train_error\": 0.07225572916666664, \"test_error\": 0.06687187499999998}, {\"k\": 121, \"train_error\": 0.07249328512396695, \"test_error\": 0.0671611570247934}, {\"k\": 122, \"train_error\": 0.07254123975409836, \"test_error\": 0.06715266393442623}, {\"k\": 123, \"train_error\": 0.07250482723577235, \"test_error\": 0.06716463414634148}, {\"k\": 124, \"train_error\": 0.0725211693548387, \"test_error\": 0.06724697580645163}, {\"k\": 125, \"train_error\": 0.07252575000000001, \"test_error\": 0.06713200000000001}, {\"k\": 126, \"train_error\": 0.07260987103174606, \"test_error\": 0.067218253968254}, {\"k\": 127, \"train_error\": 0.0727623031496063, \"test_error\": 0.06729133858267719}, {\"k\": 128, \"train_error\": 0.072748291015625, \"test_error\": 0.06729980468749999}, {\"k\": 129, \"train_error\": 0.07288178294573641, \"test_error\": 0.0675077519379845}, {\"k\": 130, \"train_error\": 0.07298605769230769, \"test_error\": 0.06756826923076924}, {\"k\": 131, \"train_error\": 0.07305462786259542, \"test_error\": 0.06775286259541986}, {\"k\": 132, \"train_error\": 0.07330184659090908, \"test_error\": 0.06814109848484848}, {\"k\": 133, \"train_error\": 0.07338745300751878, \"test_error\": 0.06836278195488724}, {\"k\": 134, \"train_error\": 0.07358768656716416, \"test_error\": 0.06865578358208956}, {\"k\": 135, \"train_error\": 0.07382129629629629, \"test_error\": 0.0688314814814815}, {\"k\": 136, \"train_error\": 0.07387063419117647, \"test_error\": 0.06890165441176468}, {\"k\": 137, \"train_error\": 0.07399110401459855, \"test_error\": 0.06889963503649635}, {\"k\": 138, \"train_error\": 0.07401992753623189, \"test_error\": 0.0688786231884058}, {\"k\": 139, \"train_error\": 0.0742306654676259, \"test_error\": 0.0691681654676259}, {\"k\": 140, \"train_error\": 0.07443928571428572, \"test_error\": 0.0693044642857143}, {\"k\": 141, \"train_error\": 0.07467863475177305, \"test_error\": 0.06940425531914896}, {\"k\": 142, \"train_error\": 0.07478411091549296, \"test_error\": 0.06951672535211269}, {\"k\": 143, \"train_error\": 0.07487696678321679, \"test_error\": 0.06959965034965036}, {\"k\": 144, \"train_error\": 0.07495355902777778, \"test_error\": 0.06949131944444445}, {\"k\": 145, \"train_error\": 0.07515387931034481, \"test_error\": 0.06956724137931034}, {\"k\": 146, \"train_error\": 0.07539233732876713, \"test_error\": 0.06972003424657533}, {\"k\": 147, \"train_error\": 0.07558248299319728, \"test_error\": 0.06993027210884353}, {\"k\": 148, \"train_error\": 0.07586043074324325, \"test_error\": 0.0703733108108108}, {\"k\": 149, \"train_error\": 0.07585423657718121, \"test_error\": 0.07046140939597315}]}}, {\"mode\": \"vega-lite\"});\n",
       "</script>"
      ],
      "text/plain": [
       "alt.LayerChart(...)"
      ]
     },
     "execution_count": 33,
     "metadata": {},
     "output_type": "execute_result"
    }
   ],
   "source": [
    "ctrain = alt.Chart(df_scores).mark_line().encode(\n",
    "    x = \"k\",\n",
    "    y = \"train_error\",\n",
    "    tooltip=['k']\n",
    ")\n",
    "\n",
    "ctest = alt.Chart(df_scores).mark_line(color=\"orange\").encode(\n",
    "    x = \"k\",\n",
    "    y = \"test_error\",\n",
    "    tooltip=['k']\n",
    ")\n",
    "\n",
    "ctrain + ctest"
   ]
  },
  {
   "cell_type": "markdown",
   "metadata": {
    "cell_id": "9c5e44fa7875415d8a7f45d03a06a0d7",
    "deepnote_cell_type": "markdown",
    "tags": []
   },
   "source": [
    "By looking at the data frame, I can find out that the model is overfit when the k is too small, and the model is underfit when the k is big. I will choose k = 13 by using tooltip, since it is the point that is not underfit or overfit, and it works better on the traning set."
   ]
  },
  {
   "cell_type": "code",
   "execution_count": 38,
   "metadata": {
    "cell_id": "b6eddc848a594dc4bc4eb8958c574e9f",
    "deepnote_cell_type": "code",
    "deepnote_to_be_reexecuted": false,
    "execution_millis": 5,
    "execution_start": 1670287869432,
    "source_hash": "f579ce5b",
    "tags": []
   },
   "outputs": [
    {
     "data": {
      "text/plain": [
       "KNeighborsRegressor(n_neighbors=13)"
      ]
     },
     "execution_count": 38,
     "metadata": {},
     "output_type": "execute_result"
    }
   ],
   "source": [
    "from sklearn.neighbors import KNeighborsRegressor\n",
    "neigh = KNeighborsRegressor(n_neighbors=13)\n",
    "neigh.fit(X1_train,y1_train)"
   ]
  },
  {
   "cell_type": "code",
   "execution_count": 39,
   "metadata": {
    "cell_id": "7df5a9d5e73c41f29a83c3dee5b3e776",
    "deepnote_cell_type": "code",
    "deepnote_to_be_reexecuted": false,
    "execution_millis": 5,
    "execution_start": 1670287874562,
    "source_hash": "16a7980",
    "tags": []
   },
   "outputs": [
    {
     "name": "stdout",
     "output_type": "stream",
     "text": [
      "The accuracy of the training set is 0.7474518013464138\n",
      "The accuracy of the test set is 0.6350239496022807\n"
     ]
    }
   ],
   "source": [
    "print(f\"The accuracy of the training set is {neigh.score(X1_train,y1_train)}\")\n",
    "print(f\"The accuracy of the test set is {neigh.score(X1_test,y1_test)}\")"
   ]
  },
  {
   "cell_type": "markdown",
   "metadata": {
    "cell_id": "a41b5c0bf3cd46fe816c4f1842821070",
    "deepnote_cell_type": "markdown",
    "tags": []
   },
   "source": [
    "The score of the training set and test set are both under 80%. Under this condition, I do not think it is a good choice to use KNeighborRegressor to conclude the result."
   ]
  },
  {
   "cell_type": "markdown",
   "metadata": {
    "cell_id": "ab0ce264e50c4067a765a2e75bbfcecc",
    "deepnote_cell_type": "markdown",
    "tags": []
   },
   "source": [
    "## Prediction"
   ]
  },
  {
   "cell_type": "markdown",
   "metadata": {
    "cell_id": "07ca14fe7daf41a2ac25c9279c13e28b",
    "deepnote_cell_type": "markdown",
    "tags": []
   },
   "source": [
    "After trying several model, I think the linear regression is the best fit model above. When we have a model to predict, let's do some prediction.\n",
    "Suppose there is a student has GRE 325, TOEFL 100, Rate 4, SOP 3, LOR 3, CGPA 8.5, Research 1. What is the chance of this student to be admitter to graduate school?"
   ]
  },
  {
   "cell_type": "code",
   "execution_count": 64,
   "metadata": {
    "cell_id": "dcb9ae8f4a8240ee8b75ee99b7b071cb",
    "deepnote_cell_type": "code",
    "deepnote_to_be_reexecuted": false,
    "execution_millis": 0,
    "execution_start": 1670295493975,
    "source_hash": "26c50343",
    "tags": []
   },
   "outputs": [],
   "source": [
    "chance = np.array([325, 100, 4, 3, 3, 8.5, 1]).reshape(-1,7)"
   ]
  },
  {
   "cell_type": "code",
   "execution_count": 65,
   "metadata": {
    "cell_id": "ee22ebafc70743b39fa911c8e7d79f50",
    "deepnote_cell_type": "code",
    "deepnote_to_be_reexecuted": false,
    "execution_millis": 5,
    "execution_start": 1670295533770,
    "source_hash": "c7eec579",
    "tags": []
   },
   "outputs": [
    {
     "name": "stderr",
     "output_type": "stream",
     "text": [
      "/shared-libs/python3.7/py/lib/python3.7/site-packages/sklearn/base.py:451: UserWarning: X does not have valid feature names, but LinearRegression was fitted with feature names\n",
      "  \"X does not have valid feature names, but\"\n"
     ]
    },
    {
     "data": {
      "text/plain": [
       "array([0.70657928])"
      ]
     },
     "execution_count": 65,
     "metadata": {},
     "output_type": "execute_result"
    }
   ],
   "source": [
    "reg1.predict(chance)"
   ]
  },
  {
   "cell_type": "markdown",
   "metadata": {
    "cell_id": "cc70930821c54a119bcc8d13d40adf25",
    "deepnote_cell_type": "markdown",
    "tags": []
   },
   "source": [
    "In this case, the chance is about 70.66%"
   ]
  },
  {
   "cell_type": "markdown",
   "metadata": {
    "cell_id": "2146a4d823d247d8a425991c4aa00572",
    "deepnote_cell_type": "markdown",
    "tags": []
   },
   "source": [
    "## Summary\n",
    "\n",
    "I tried 3 different models to predict the chance of admission, and find out the linear regression model is working best, and the KNeighborRegression is not suitable in this case. I also used decision tree model to find out the most important 2 features that affect the chance, which are GRE score and CGPA. Finally, I predict a chance of a student to be admitted by using the linear regression model I trained."
   ]
  },
  {
   "cell_type": "markdown",
   "metadata": {
    "cell_id": "645263b22c6c4638af5a78692f44c971",
    "deepnote_cell_type": "markdown",
    "tags": []
   },
   "source": [
    "## References\n",
    "\n",
    "Your code above should include references.  Here is some additional space for references."
   ]
  },
  {
   "cell_type": "markdown",
   "metadata": {
    "cell_id": "e663fee130914323ae1aaf1addc0be35",
    "deepnote_cell_type": "markdown",
    "tags": []
   },
   "source": [
    "* What is the source of your dataset(s)?\n",
    "https://www.kaggle.com/datasets/akshaydattatraykhare/data-for-admission-in-the-university\n",
    "A source from Kaggle."
   ]
  },
  {
   "cell_type": "markdown",
   "metadata": {
    "cell_id": "c88cb1d5031d4466b76ed817af660858",
    "deepnote_cell_type": "markdown",
    "deepnote_to_be_reexecuted": false,
    "execution_millis": 0,
    "execution_start": 1652916033453,
    "source_hash": "aa45eba7",
    "tags": []
   },
   "source": [
    "* List any other references that you found helpful.\n",
    "https://scikit-learn.org/0.16/modules/generated/sklearn.neighbors.KNeighborsRegressor.html\n",
    "https://christopherdavisuci.github.io/UCI-Math-10-W22/Week6/Week6-Wednesday.html\n",
    "I learned KNeighborsRegressor here.\n",
    "https://altair-viz.github.io/gallery/index.html#interactive-charts\n",
    "I learned some altair chart here"
   ]
  },
  {
   "cell_type": "markdown",
   "metadata": {
    "cell_id": "addfc082511347f18dfe53cddc407f27",
    "deepnote_cell_type": "markdown",
    "tags": []
   },
   "source": [
    "## Submission\n",
    "\n",
    "Using the Share button at the top right, **enable Comment privileges** for anyone with a link to the project. Then submit that link on Canvas."
   ]
  },
  {
   "cell_type": "markdown",
   "metadata": {
    "created_in_deepnote_cell": true,
    "deepnote_cell_type": "markdown",
    "tags": []
   },
   "source": [
    "<a style='text-decoration:none;line-height:16px;display:flex;color:#5B5B62;padding:10px;justify-content:end;' href='https://deepnote.com?utm_source=created-in-deepnote-cell&projectId=abecaa38-30bf-49e1-82fe-dd4ef5924e1e' target=\"_blank\">\n",
    "<img alt='Created in deepnote.com' style='display:inline;max-height:16px;margin:0px;margin-right:7.5px;' src='data:image/svg+xml;base64,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' > </img>\n",
    "Created in <span style='font-weight:600;margin-left:4px;'>Deepnote</span></a>"
   ]
  }
 ],
 "metadata": {
  "deepnote": {
   "is_reactive": false
  },
  "deepnote_execution_queue": [],
  "deepnote_notebook_id": "bc88637de08444e9be3cf5cf1b72206e",
  "kernelspec": {
   "display_name": "Python 3 (ipykernel)",
   "language": "python",
   "name": "python3"
  },
  "language_info": {
   "codemirror_mode": {
    "name": "ipython",
    "version": 3
   },
   "file_extension": ".py",
   "mimetype": "text/x-python",
   "name": "python",
   "nbconvert_exporter": "python",
   "pygments_lexer": "ipython3",
   "version": "3.9.13"
  }
 },
 "nbformat": 4,
 "nbformat_minor": 4
}
