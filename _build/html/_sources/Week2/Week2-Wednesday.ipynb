{
 "cells": [
  {
   "cell_type": "markdown",
   "metadata": {
    "cell_id": "76ddae6aed9c4c00a4f7fded19915374",
    "deepnote_cell_type": "markdown",
    "tags": []
   },
   "source": [
    "# Week 2 Wednesday"
   ]
  },
  {
   "cell_type": "markdown",
   "metadata": {
    "cell_id": "67fc1069202442b7b6b101988fc3be2b",
    "deepnote_cell_type": "markdown",
    "tags": []
   },
   "source": [
    "## Announcements\n",
    "\n",
    "* Change to Wednesday Office Hours Location: Let's try ALP 2800 Wednesday (today) 1pm.\n",
    "* Worksheet 4 uses some material from Worksheet 3, so definitely start with Worksheet 3.\n",
    "* Reminder: Week 2 videos and video quizzes are due before lecture on Friday.\n",
    "* On Friday I hope to introduce plotting in Python, hopefully briefly introducing each of Matplotlib (similar to plotting in Matlab), Altair, Seaborn, and Plotly (Altair, Seaborn, and Plotly are similar to each other)."
   ]
  },
  {
   "cell_type": "code",
   "execution_count": 3,
   "metadata": {
    "cell_id": "987d87f966f94463b1ac5345a4d0377b",
    "deepnote_cell_type": "code",
    "deepnote_to_be_reexecuted": false,
    "execution_millis": 0,
    "execution_start": 1664989323963,
    "source_hash": "9b82ee11",
    "tags": []
   },
   "outputs": [],
   "source": [
    "import pandas as pd"
   ]
  },
  {
   "cell_type": "code",
   "execution_count": 4,
   "metadata": {
    "cell_id": "19673f6678054c288bef57cda0adee64",
    "deepnote_cell_type": "code",
    "deepnote_to_be_reexecuted": false,
    "execution_millis": 97,
    "execution_start": 1664989325469,
    "source_hash": "37bf2353",
    "tags": []
   },
   "outputs": [],
   "source": [
    "df = pd.read_csv(\"indexData.csv\")"
   ]
  },
  {
   "cell_type": "markdown",
   "metadata": {
    "cell_id": "2f15392073bd4046a860da0d2b1b4335",
    "deepnote_cell_type": "markdown",
    "tags": []
   },
   "source": [
    "## Review with Boolean indexing and `map`\n",
    "\n",
    "* Define `df_sub` to be the sub-DataFrame of `df` which corresponds to the Hong Kong stock exchange (abbrev: \"HSI\") in 2008 (last two characters in the \"Date\" column \"08\").\n",
    "\n",
    "**Comment**.  It would be more robust to convert the Date column to datetime type, like you need to do in Worksheet 3 and in Worksheet 4, but what we're doing here is easier. **Do not** use `pd.to_datetime(df[\"Date\"])` in this particular example, because all of the dates from before 2000 will be incorrect."
   ]
  },
  {
   "cell_type": "markdown",
   "metadata": {},
   "source": [
    "Let's remind ourselves which columns are in this dataset."
   ]
  },
  {
   "cell_type": "code",
   "execution_count": 5,
   "metadata": {
    "cell_id": "1370bda0133c4e898428a37c180230e6",
    "deepnote_cell_type": "code",
    "deepnote_to_be_reexecuted": false,
    "execution_millis": 112,
    "execution_start": 1664989423714,
    "source_hash": "25d43fa0",
    "tags": []
   },
   "outputs": [
    {
     "data": {
      "text/plain": [
       "Index(['Name', 'Date', 'Open', 'High', 'Low', 'Close', 'Adj Close', 'Volume'], dtype='object')"
      ]
     },
     "execution_count": 5,
     "metadata": {},
     "output_type": "execute_result"
    }
   ],
   "source": [
    "df.columns"
   ]
  },
  {
   "cell_type": "markdown",
   "metadata": {},
   "source": [
    "Don't try to solve a question like this one all at once.  Instead, break it into parts.  Here we make a first Boolean Series."
   ]
  },
  {
   "cell_type": "code",
   "execution_count": 11,
   "metadata": {
    "cell_id": "62efa4d8f4364496a783d1740f3ab1d9",
    "deepnote_cell_type": "code",
    "deepnote_to_be_reexecuted": false,
    "execution_millis": 4,
    "execution_start": 1664989724792,
    "source_hash": "81a29d38",
    "tags": []
   },
   "outputs": [
    {
     "data": {
      "text/plain": [
       "0         False\n",
       "1         False\n",
       "2         False\n",
       "3         False\n",
       "4         False\n",
       "          ...  \n",
       "112452    False\n",
       "112453    False\n",
       "112454    False\n",
       "112455    False\n",
       "112456    False\n",
       "Name: Name, Length: 112457, dtype: bool"
      ]
     },
     "execution_count": 11,
     "metadata": {},
     "output_type": "execute_result"
    }
   ],
   "source": [
    "# Boolean Series for Hong Kong stock exchange\n",
    "ser1 = (df[\"Name\"] == \"HSI\")\n",
    "ser1"
   ]
  },
  {
   "cell_type": "markdown",
   "metadata": {},
   "source": [
    "Here we get ready to make the second Boolean Series."
   ]
  },
  {
   "cell_type": "code",
   "execution_count": 8,
   "metadata": {
    "cell_id": "cfd1195a1c7d4984b250979c8b91b8bc",
    "deepnote_cell_type": "code",
    "deepnote_to_be_reexecuted": false,
    "execution_millis": 2,
    "execution_start": 1664989603792,
    "source_hash": "9fa0591d",
    "tags": []
   },
   "outputs": [
    {
     "data": {
      "text/plain": [
       "0         65\n",
       "1         66\n",
       "2         66\n",
       "3         66\n",
       "4         66\n",
       "          ..\n",
       "112452    21\n",
       "112453    21\n",
       "112454    21\n",
       "112455    21\n",
       "112456    21\n",
       "Name: Date, Length: 112457, dtype: object"
      ]
     },
     "execution_count": 8,
     "metadata": {},
     "output_type": "execute_result"
    }
   ],
   "source": [
    "df[\"Date\"].map(lambda s: s[-2:])"
   ]
  },
  {
   "cell_type": "markdown",
   "metadata": {},
   "source": [
    "Why do we get `False` at the top, since four of these rows are equal to 66?  The problem is that the Series contains strings, not integers.  (Notice how the `dtype` is reported as `object`, which in this case is a hint that the elements are strings.)"
   ]
  },
  {
   "cell_type": "code",
   "execution_count": 9,
   "metadata": {
    "cell_id": "8f42ef359c0d4220bfd27404a7b4ec83",
    "deepnote_cell_type": "code",
    "deepnote_to_be_reexecuted": false,
    "execution_millis": 2,
    "execution_start": 1664989640067,
    "source_hash": "b0359f7f",
    "tags": []
   },
   "outputs": [
    {
     "data": {
      "text/plain": [
       "0         False\n",
       "1         False\n",
       "2         False\n",
       "3         False\n",
       "4         False\n",
       "          ...  \n",
       "112452    False\n",
       "112453    False\n",
       "112454    False\n",
       "112455    False\n",
       "112456    False\n",
       "Name: Date, Length: 112457, dtype: bool"
      ]
     },
     "execution_count": 9,
     "metadata": {},
     "output_type": "execute_result"
    }
   ],
   "source": [
    "df[\"Date\"].map(lambda s: s[-2:]) == 66"
   ]
  },
  {
   "cell_type": "markdown",
   "metadata": {},
   "source": [
    "Here we are careful to use a string instead of an integer when we check for equality.  We also switch to `\"08\"`, since that is the year we were interested in."
   ]
  },
  {
   "cell_type": "code",
   "execution_count": 13,
   "metadata": {
    "cell_id": "c4b7826b2d024c1d879eadda95ee449c",
    "deepnote_cell_type": "code",
    "deepnote_to_be_reexecuted": false,
    "execution_millis": 28,
    "execution_start": 1664989776558,
    "source_hash": "85a6ff2f",
    "tags": []
   },
   "outputs": [
    {
     "data": {
      "text/plain": [
       "0         False\n",
       "1         False\n",
       "2         False\n",
       "3         False\n",
       "4         False\n",
       "          ...  \n",
       "112452    False\n",
       "112453    False\n",
       "112454    False\n",
       "112455    False\n",
       "112456    False\n",
       "Name: Date, Length: 112457, dtype: bool"
      ]
     },
     "execution_count": 13,
     "metadata": {},
     "output_type": "execute_result"
    }
   ],
   "source": [
    "ser2 = (df[\"Date\"].map(lambda s: s[-2:]) == \"08\")\n",
    "ser2"
   ]
  },
  {
   "cell_type": "markdown",
   "metadata": {},
   "source": [
    "Now we are finally ready to use Boolean indexing.  Remember that you can combine two Boolean Series elementwise using `&`."
   ]
  },
  {
   "cell_type": "code",
   "execution_count": 14,
   "metadata": {
    "cell_id": "d9d3469edcc04032a33763d0354256f0",
    "deepnote_cell_type": "code",
    "deepnote_to_be_reexecuted": false,
    "execution_millis": 35,
    "execution_start": 1664989845192,
    "source_hash": "a60ee605",
    "tags": [
     "output_scroll"
    ]
   },
   "outputs": [
    {
     "data": {
      "application/vnd.deepnote.dataframe.v3+json": {
       "column_count": 8,
       "columns": [
        {
         "dtype": "object",
         "name": "Name",
         "stats": {
          "categories": [
           {
            "count": 247,
            "name": "HSI"
           }
          ],
          "nan_count": 0,
          "unique_count": 1
         }
        },
        {
         "dtype": "object",
         "name": "Date",
         "stats": {
          "categories": [
           {
            "count": 1,
            "name": "1/2/08"
           },
           {
            "count": 1,
            "name": "1/3/08"
           },
           {
            "count": 245,
            "name": "245 others"
           }
          ],
          "nan_count": 0,
          "unique_count": 247
         }
        },
        {
         "dtype": "float64",
         "name": "Open",
         "stats": {
          "histogram": [
           {
            "bin_end": 12802.333201,
            "bin_start": 11154.57031,
            "count": 5
           },
           {
            "bin_end": 14450.096092,
            "bin_start": 12802.333201,
            "count": 29
           },
           {
            "bin_end": 16097.858982999998,
            "bin_start": 14450.096092,
            "count": 22
           },
           {
            "bin_end": 17745.621873999997,
            "bin_start": 16097.858982999998,
            "count": 6
           },
           {
            "bin_end": 19393.384765,
            "bin_start": 17745.621873999997,
            "count": 10
           },
           {
            "bin_end": 21041.147655999997,
            "bin_start": 19393.384765,
            "count": 17
           },
           {
            "bin_end": 22688.910547,
            "bin_start": 21041.147655999997,
            "count": 44
           },
           {
            "bin_end": 24336.673437999998,
            "bin_start": 22688.910547,
            "count": 58
           },
           {
            "bin_end": 25984.436328999996,
            "bin_start": 24336.673437999998,
            "count": 39
           },
           {
            "bin_end": 27632.19922,
            "bin_start": 25984.436328999996,
            "count": 15
           }
          ],
          "max": "27632.19922",
          "min": "11154.57031",
          "nan_count": 2,
          "unique_count": 245
         }
        },
        {
         "dtype": "float64",
         "name": "High",
         "stats": {
          "histogram": [
           {
            "bin_end": 13854.063574,
            "bin_start": 12298.55957,
            "count": 16
           },
           {
            "bin_end": 15409.567578,
            "bin_start": 13854.063574,
            "count": 31
           },
           {
            "bin_end": 16965.071582,
            "bin_start": 15409.567578,
            "count": 11
           },
           {
            "bin_end": 18520.575586,
            "bin_start": 16965.071582,
            "count": 6
           },
           {
            "bin_end": 20076.07959,
            "bin_start": 18520.575586,
            "count": 12
           },
           {
            "bin_end": 21631.583594,
            "bin_start": 20076.07959,
            "count": 23
           },
           {
            "bin_end": 23187.087598,
            "bin_start": 21631.583594,
            "count": 49
           },
           {
            "bin_end": 24742.591602,
            "bin_start": 23187.087598,
            "count": 55
           },
           {
            "bin_end": 26298.095606000003,
            "bin_start": 24742.591602,
            "count": 28
           },
           {
            "bin_end": 27853.59961,
            "bin_start": 26298.095606000003,
            "count": 14
           }
          ],
          "max": "27853.59961",
          "min": "12298.55957",
          "nan_count": 2,
          "unique_count": 245
         }
        },
        {
         "dtype": "float64",
         "name": "Low",
         "stats": {
          "histogram": [
           {
            "bin_end": 12338.605958,
            "bin_start": 10676.29004,
            "count": 6
           },
           {
            "bin_end": 14000.921876,
            "bin_start": 12338.605958,
            "count": 25
           },
           {
            "bin_end": 15663.237793999999,
            "bin_start": 14000.921876,
            "count": 26
           },
           {
            "bin_end": 17325.553712,
            "bin_start": 15663.237793999999,
            "count": 5
           },
           {
            "bin_end": 18987.86963,
            "bin_start": 17325.553712,
            "count": 10
           },
           {
            "bin_end": 20650.185547999998,
            "bin_start": 18987.86963,
            "count": 14
           },
           {
            "bin_end": 22312.501465999998,
            "bin_start": 20650.185547999998,
            "count": 42
           },
           {
            "bin_end": 23974.817383999998,
            "bin_start": 22312.501465999998,
            "count": 59
           },
           {
            "bin_end": 25637.133302,
            "bin_start": 23974.817383999998,
            "count": 44
           },
           {
            "bin_end": 27299.44922,
            "bin_start": 25637.133302,
            "count": 14
           }
          ],
          "max": "27299.44922",
          "min": "10676.29004",
          "nan_count": 2,
          "unique_count": 245
         }
        },
        {
         "dtype": "float64",
         "name": "Close",
         "stats": {
          "histogram": [
           {
            "bin_end": 12675.840817,
            "bin_start": 11015.83984,
            "count": 6
           },
           {
            "bin_end": 14335.841794,
            "bin_start": 12675.840817,
            "count": 27
           },
           {
            "bin_end": 15995.842771000001,
            "bin_start": 14335.841794,
            "count": 23
           },
           {
            "bin_end": 17655.843748,
            "bin_start": 15995.842771000001,
            "count": 6
           },
           {
            "bin_end": 19315.844725000003,
            "bin_start": 17655.843748,
            "count": 9
           },
           {
            "bin_end": 20975.845702000002,
            "bin_start": 19315.844725000003,
            "count": 16
           },
           {
            "bin_end": 22635.846679000002,
            "bin_start": 20975.845702000002,
            "count": 47
           },
           {
            "bin_end": 24295.847656,
            "bin_start": 22635.846679000002,
            "count": 61
           },
           {
            "bin_end": 25955.848633,
            "bin_start": 24295.847656,
            "count": 38
           },
           {
            "bin_end": 27615.84961,
            "bin_start": 25955.848633,
            "count": 12
           }
          ],
          "max": "27615.84961",
          "min": "11015.83984",
          "nan_count": 2,
          "unique_count": 245
         }
        },
        {
         "dtype": "float64",
         "name": "Adj Close",
         "stats": {
          "histogram": [
           {
            "bin_end": 12675.840817,
            "bin_start": 11015.83984,
            "count": 6
           },
           {
            "bin_end": 14335.841794,
            "bin_start": 12675.840817,
            "count": 27
           },
           {
            "bin_end": 15995.842771000001,
            "bin_start": 14335.841794,
            "count": 23
           },
           {
            "bin_end": 17655.843748,
            "bin_start": 15995.842771000001,
            "count": 6
           },
           {
            "bin_end": 19315.844725000003,
            "bin_start": 17655.843748,
            "count": 9
           },
           {
            "bin_end": 20975.845702000002,
            "bin_start": 19315.844725000003,
            "count": 16
           },
           {
            "bin_end": 22635.846679000002,
            "bin_start": 20975.845702000002,
            "count": 47
           },
           {
            "bin_end": 24295.847656,
            "bin_start": 22635.846679000002,
            "count": 61
           },
           {
            "bin_end": 25955.848633,
            "bin_start": 24295.847656,
            "count": 38
           },
           {
            "bin_end": 27615.84961,
            "bin_start": 25955.848633,
            "count": 12
           }
          ],
          "max": "27615.84961",
          "min": "11015.83984",
          "nan_count": 2,
          "unique_count": 245
         }
        },
        {
         "dtype": "float64",
         "name": "Volume",
         "stats": {
          "histogram": [
           {
            "bin_end": 1447973710,
            "bin_start": 865498700,
            "count": 17
           },
           {
            "bin_end": 2030448720,
            "bin_start": 1447973710,
            "count": 73
           },
           {
            "bin_end": 2612923730,
            "bin_start": 2030448720,
            "count": 81
           },
           {
            "bin_end": 3195398740,
            "bin_start": 2612923730,
            "count": 38
           },
           {
            "bin_end": 3777873750,
            "bin_start": 3195398740,
            "count": 16
           },
           {
            "bin_end": 4360348760,
            "bin_start": 3777873750,
            "count": 8
           },
           {
            "bin_end": 4942823770,
            "bin_start": 4360348760,
            "count": 5
           },
           {
            "bin_end": 5525298780,
            "bin_start": 4942823770,
            "count": 3
           },
           {
            "bin_end": 6107773790,
            "bin_start": 5525298780,
            "count": 2
           },
           {
            "bin_end": 6690248800,
            "bin_start": 6107773790,
            "count": 2
           }
          ],
          "max": "6690248800.0",
          "min": "865498700.0",
          "nan_count": 2,
          "unique_count": 245
         }
        },
        {
         "dtype": "int64",
         "name": "_deepnote_index_column"
        }
       ],
       "row_count": 247,
       "rows": [
        {
         "Adj Close": "27560.51953",
         "Close": "27560.51953",
         "Date": "1/2/08",
         "High": "27853.59961",
         "Low": "27299.44922",
         "Name": "HSI",
         "Open": "27632.19922",
         "Volume": "1232142900.0",
         "_deepnote_index_column": "32076"
        },
        {
         "Adj Close": "26887.2793",
         "Close": "26887.2793",
         "Date": "1/3/08",
         "High": "27223.71094",
         "Low": "26864.13086",
         "Name": "HSI",
         "Open": "27050.0293",
         "Volume": "2442743800.0",
         "_deepnote_index_column": "32077"
        },
        {
         "Adj Close": "27519.68945",
         "Close": "27519.68945",
         "Date": "1/4/08",
         "High": "27596.85938",
         "Low": "26994.84961",
         "Name": "HSI",
         "Open": "27004.33984",
         "Volume": "2375522200.0",
         "_deepnote_index_column": "32078"
        },
        {
         "Adj Close": "27179.49023",
         "Close": "27179.49023",
         "Date": "1/7/08",
         "High": "27186.07031",
         "Low": "26698.53906",
         "Name": "HSI",
         "Open": "26962.53906",
         "Volume": "2452932000.0",
         "_deepnote_index_column": "32079"
        },
        {
         "Adj Close": "27112.90039",
         "Close": "27112.90039",
         "Date": "1/8/08",
         "High": "27637.59961",
         "Low": "27088.69922",
         "Name": "HSI",
         "Open": "27466.96094",
         "Volume": "2492360800.0",
         "_deepnote_index_column": "32080"
        },
        {
         "Adj Close": "27615.84961",
         "Close": "27615.84961",
         "Date": "1/9/08",
         "High": "27625.83008",
         "Low": "26757.0293",
         "Name": "HSI",
         "Open": "26847.49023",
         "Volume": "2714685000.0",
         "_deepnote_index_column": "32081"
        },
        {
         "Adj Close": "27230.85938",
         "Close": "27230.85938",
         "Date": "1/10/08",
         "High": "27596.5",
         "Low": "27115.82031",
         "Name": "HSI",
         "Open": "27426.41992",
         "Volume": "2704613800.0",
         "_deepnote_index_column": "32082"
        },
        {
         "Adj Close": "26867.00977",
         "Close": "26867.00977",
         "Date": "1/11/08",
         "High": "27593.69922",
         "Low": "26725.94922",
         "Name": "HSI",
         "Open": "27435.50977",
         "Volume": "2950312400.0",
         "_deepnote_index_column": "32083"
        },
        {
         "Adj Close": "26468.13086",
         "Close": "26468.13086",
         "Date": "1/14/08",
         "High": "27142.88086",
         "Low": "26464.64063",
         "Name": "HSI",
         "Open": "27019.13086",
         "Volume": "2050190000.0",
         "_deepnote_index_column": "32084"
        },
        {
         "Adj Close": "25837.7793",
         "Close": "25837.7793",
         "Date": "1/15/08",
         "High": "26800.51953",
         "Low": "25823.5",
         "Name": "HSI",
         "Open": "26728.92969",
         "Volume": "2333391400.0",
         "_deepnote_index_column": "32085"
        }
       ]
      },
      "text/html": [
       "<div>\n",
       "<style scoped>\n",
       "    .dataframe tbody tr th:only-of-type {\n",
       "        vertical-align: middle;\n",
       "    }\n",
       "\n",
       "    .dataframe tbody tr th {\n",
       "        vertical-align: top;\n",
       "    }\n",
       "\n",
       "    .dataframe thead th {\n",
       "        text-align: right;\n",
       "    }\n",
       "</style>\n",
       "<table border=\"1\" class=\"dataframe\">\n",
       "  <thead>\n",
       "    <tr style=\"text-align: right;\">\n",
       "      <th></th>\n",
       "      <th>Name</th>\n",
       "      <th>Date</th>\n",
       "      <th>Open</th>\n",
       "      <th>High</th>\n",
       "      <th>Low</th>\n",
       "      <th>Close</th>\n",
       "      <th>Adj Close</th>\n",
       "      <th>Volume</th>\n",
       "    </tr>\n",
       "  </thead>\n",
       "  <tbody>\n",
       "    <tr>\n",
       "      <th>32076</th>\n",
       "      <td>HSI</td>\n",
       "      <td>1/2/08</td>\n",
       "      <td>27632.19922</td>\n",
       "      <td>27853.59961</td>\n",
       "      <td>27299.44922</td>\n",
       "      <td>27560.51953</td>\n",
       "      <td>27560.51953</td>\n",
       "      <td>1.232143e+09</td>\n",
       "    </tr>\n",
       "    <tr>\n",
       "      <th>32077</th>\n",
       "      <td>HSI</td>\n",
       "      <td>1/3/08</td>\n",
       "      <td>27050.02930</td>\n",
       "      <td>27223.71094</td>\n",
       "      <td>26864.13086</td>\n",
       "      <td>26887.27930</td>\n",
       "      <td>26887.27930</td>\n",
       "      <td>2.442744e+09</td>\n",
       "    </tr>\n",
       "    <tr>\n",
       "      <th>32078</th>\n",
       "      <td>HSI</td>\n",
       "      <td>1/4/08</td>\n",
       "      <td>27004.33984</td>\n",
       "      <td>27596.85938</td>\n",
       "      <td>26994.84961</td>\n",
       "      <td>27519.68945</td>\n",
       "      <td>27519.68945</td>\n",
       "      <td>2.375522e+09</td>\n",
       "    </tr>\n",
       "    <tr>\n",
       "      <th>32079</th>\n",
       "      <td>HSI</td>\n",
       "      <td>1/7/08</td>\n",
       "      <td>26962.53906</td>\n",
       "      <td>27186.07031</td>\n",
       "      <td>26698.53906</td>\n",
       "      <td>27179.49023</td>\n",
       "      <td>27179.49023</td>\n",
       "      <td>2.452932e+09</td>\n",
       "    </tr>\n",
       "    <tr>\n",
       "      <th>32080</th>\n",
       "      <td>HSI</td>\n",
       "      <td>1/8/08</td>\n",
       "      <td>27466.96094</td>\n",
       "      <td>27637.59961</td>\n",
       "      <td>27088.69922</td>\n",
       "      <td>27112.90039</td>\n",
       "      <td>27112.90039</td>\n",
       "      <td>2.492361e+09</td>\n",
       "    </tr>\n",
       "    <tr>\n",
       "      <th>...</th>\n",
       "      <td>...</td>\n",
       "      <td>...</td>\n",
       "      <td>...</td>\n",
       "      <td>...</td>\n",
       "      <td>...</td>\n",
       "      <td>...</td>\n",
       "      <td>...</td>\n",
       "      <td>...</td>\n",
       "    </tr>\n",
       "    <tr>\n",
       "      <th>32318</th>\n",
       "      <td>HSI</td>\n",
       "      <td>12/23/08</td>\n",
       "      <td>14472.03027</td>\n",
       "      <td>14491.75000</td>\n",
       "      <td>14084.86035</td>\n",
       "      <td>14220.79004</td>\n",
       "      <td>14220.79004</td>\n",
       "      <td>1.494155e+09</td>\n",
       "    </tr>\n",
       "    <tr>\n",
       "      <th>32319</th>\n",
       "      <td>HSI</td>\n",
       "      <td>12/24/08</td>\n",
       "      <td>13855.88965</td>\n",
       "      <td>14300.70020</td>\n",
       "      <td>13855.88965</td>\n",
       "      <td>14184.13965</td>\n",
       "      <td>14184.13965</td>\n",
       "      <td>8.654987e+08</td>\n",
       "    </tr>\n",
       "    <tr>\n",
       "      <th>32320</th>\n",
       "      <td>HSI</td>\n",
       "      <td>12/29/08</td>\n",
       "      <td>14080.86035</td>\n",
       "      <td>14332.01953</td>\n",
       "      <td>13924.32031</td>\n",
       "      <td>14328.48047</td>\n",
       "      <td>14328.48047</td>\n",
       "      <td>1.046622e+09</td>\n",
       "    </tr>\n",
       "    <tr>\n",
       "      <th>32321</th>\n",
       "      <td>HSI</td>\n",
       "      <td>12/30/08</td>\n",
       "      <td>14476.74023</td>\n",
       "      <td>14513.48047</td>\n",
       "      <td>14189.08008</td>\n",
       "      <td>14235.50000</td>\n",
       "      <td>14235.50000</td>\n",
       "      <td>1.441716e+09</td>\n",
       "    </tr>\n",
       "    <tr>\n",
       "      <th>32322</th>\n",
       "      <td>HSI</td>\n",
       "      <td>12/31/08</td>\n",
       "      <td>14377.50977</td>\n",
       "      <td>14527.09961</td>\n",
       "      <td>14302.15039</td>\n",
       "      <td>14387.48047</td>\n",
       "      <td>14387.48047</td>\n",
       "      <td>1.612196e+09</td>\n",
       "    </tr>\n",
       "  </tbody>\n",
       "</table>\n",
       "<p>247 rows × 8 columns</p>\n",
       "</div>"
      ],
      "text/plain": [
       "      Name      Date         Open         High          Low        Close  \\\n",
       "32076  HSI    1/2/08  27632.19922  27853.59961  27299.44922  27560.51953   \n",
       "32077  HSI    1/3/08  27050.02930  27223.71094  26864.13086  26887.27930   \n",
       "32078  HSI    1/4/08  27004.33984  27596.85938  26994.84961  27519.68945   \n",
       "32079  HSI    1/7/08  26962.53906  27186.07031  26698.53906  27179.49023   \n",
       "32080  HSI    1/8/08  27466.96094  27637.59961  27088.69922  27112.90039   \n",
       "...    ...       ...          ...          ...          ...          ...   \n",
       "32318  HSI  12/23/08  14472.03027  14491.75000  14084.86035  14220.79004   \n",
       "32319  HSI  12/24/08  13855.88965  14300.70020  13855.88965  14184.13965   \n",
       "32320  HSI  12/29/08  14080.86035  14332.01953  13924.32031  14328.48047   \n",
       "32321  HSI  12/30/08  14476.74023  14513.48047  14189.08008  14235.50000   \n",
       "32322  HSI  12/31/08  14377.50977  14527.09961  14302.15039  14387.48047   \n",
       "\n",
       "         Adj Close        Volume  \n",
       "32076  27560.51953  1.232143e+09  \n",
       "32077  26887.27930  2.442744e+09  \n",
       "32078  27519.68945  2.375522e+09  \n",
       "32079  27179.49023  2.452932e+09  \n",
       "32080  27112.90039  2.492361e+09  \n",
       "...            ...           ...  \n",
       "32318  14220.79004  1.494155e+09  \n",
       "32319  14184.13965  8.654987e+08  \n",
       "32320  14328.48047  1.046622e+09  \n",
       "32321  14235.50000  1.441716e+09  \n",
       "32322  14387.48047  1.612196e+09  \n",
       "\n",
       "[247 rows x 8 columns]"
      ]
     },
     "execution_count": 14,
     "metadata": {},
     "output_type": "execute_result"
    }
   ],
   "source": [
    "# Boolean indexing\n",
    "df_sub = df[ser1 & ser2]\n",
    "df_sub"
   ]
  },
  {
   "cell_type": "markdown",
   "metadata": {
    "cell_id": "428fb2952c054964b293e80600b64c34",
    "deepnote_cell_type": "markdown",
    "tags": []
   },
   "source": [
    "## Using `copy` to prevent a specific warning"
   ]
  },
  {
   "cell_type": "markdown",
   "metadata": {
    "cell_id": "80dfa400365d4f46a6975c667d8da9e6",
    "deepnote_cell_type": "markdown",
    "tags": []
   },
   "source": [
    "* Create a new column in `df_sub`, named \"Month\", corresponding to the month, as a string like \"July\".  What warning shows up?  How can we avoid this warning in the future?"
   ]
  },
  {
   "cell_type": "code",
   "execution_count": 16,
   "metadata": {
    "cell_id": "033acdea9db747d38c7e1d24b2354695",
    "deepnote_cell_type": "code",
    "deepnote_to_be_reexecuted": false,
    "execution_millis": 5,
    "execution_start": 1664990066927,
    "source_hash": "1099f522",
    "tags": []
   },
   "outputs": [
    {
     "name": "stderr",
     "output_type": "stream",
     "text": [
      "/tmp/ipykernel_88/2393649687.py:1: SettingWithCopyWarning: \n",
      "A value is trying to be set on a copy of a slice from a DataFrame.\n",
      "Try using .loc[row_indexer,col_indexer] = value instead\n",
      "\n",
      "See the caveats in the documentation: https://pandas.pydata.org/pandas-docs/stable/user_guide/indexing.html#returning-a-view-versus-a-copy\n",
      "  df_sub[\"Month\"] = pd.to_datetime(df_sub[\"Date\"]).dt.month_name()\n"
     ]
    }
   ],
   "source": [
    "df_sub[\"Month\"] = pd.to_datetime(df_sub[\"Date\"]).dt.month_name()"
   ]
  },
  {
   "cell_type": "markdown",
   "metadata": {},
   "source": [
    "Briefly, this warning is showing up because `df_sub` might not be its own DataFrame, but instead might be a \"view\" of a portion of the original `df` DataFrame.\n",
    "\n",
    "Don't worry about that.  Instead know that we can avoid this warning by returning to the line where we created `df_sub` and using the `copy` method."
   ]
  },
  {
   "cell_type": "code",
   "execution_count": 17,
   "metadata": {
    "cell_id": "9abfe4587eba4bb08f55f965cb9b8b98",
    "deepnote_cell_type": "code",
    "deepnote_to_be_reexecuted": false,
    "execution_millis": 1,
    "execution_start": 1664990169327,
    "source_hash": "67967ab3",
    "tags": []
   },
   "outputs": [],
   "source": [
    "df_sub = df[ser1 & ser2].copy()"
   ]
  },
  {
   "cell_type": "markdown",
   "metadata": {},
   "source": [
    "Now the exact same call as above works without raising a warning."
   ]
  },
  {
   "cell_type": "code",
   "execution_count": 18,
   "metadata": {
    "cell_id": "e0cd1d66448f4a9ab604b3ed50774670",
    "deepnote_cell_type": "code",
    "deepnote_to_be_reexecuted": false,
    "execution_millis": 0,
    "execution_start": 1664990211608,
    "source_hash": "1099f522",
    "tags": []
   },
   "outputs": [],
   "source": [
    "df_sub[\"Month\"] = pd.to_datetime(df_sub[\"Date\"]).dt.month_name()"
   ]
  },
  {
   "cell_type": "markdown",
   "metadata": {},
   "source": [
    "Let's check that we really do have a new \"Month\" column."
   ]
  },
  {
   "cell_type": "code",
   "execution_count": 19,
   "metadata": {
    "cell_id": "bc14923c6a1445188bab6bc0121fc0c5",
    "deepnote_cell_type": "code",
    "deepnote_to_be_reexecuted": false,
    "execution_millis": 48,
    "execution_start": 1664990219378,
    "source_hash": "c0f665ea",
    "tags": []
   },
   "outputs": [
    {
     "data": {
      "application/vnd.deepnote.dataframe.v3+json": {
       "column_count": 9,
       "columns": [
        {
         "dtype": "object",
         "name": "Name",
         "stats": {
          "categories": [
           {
            "count": 3,
            "name": "HSI"
           }
          ],
          "nan_count": 0,
          "unique_count": 1
         }
        },
        {
         "dtype": "object",
         "name": "Date",
         "stats": {
          "categories": [
           {
            "count": 1,
            "name": "1/2/08"
           },
           {
            "count": 1,
            "name": "1/3/08"
           },
           {
            "count": 1,
            "name": "1/4/08"
           }
          ],
          "nan_count": 0,
          "unique_count": 3
         }
        },
        {
         "dtype": "float64",
         "name": "Open",
         "stats": {
          "histogram": [
           {
            "bin_end": 27067.125778,
            "bin_start": 27004.33984,
            "count": 2
           },
           {
            "bin_end": 27129.911716,
            "bin_start": 27067.125778,
            "count": 0
           },
           {
            "bin_end": 27192.697654,
            "bin_start": 27129.911716,
            "count": 0
           },
           {
            "bin_end": 27255.483592,
            "bin_start": 27192.697654,
            "count": 0
           },
           {
            "bin_end": 27318.269529999998,
            "bin_start": 27255.483592,
            "count": 0
           },
           {
            "bin_end": 27381.055468,
            "bin_start": 27318.269529999998,
            "count": 0
           },
           {
            "bin_end": 27443.841406,
            "bin_start": 27381.055468,
            "count": 0
           },
           {
            "bin_end": 27506.627344,
            "bin_start": 27443.841406,
            "count": 0
           },
           {
            "bin_end": 27569.413281999998,
            "bin_start": 27506.627344,
            "count": 0
           },
           {
            "bin_end": 27632.19922,
            "bin_start": 27569.413281999998,
            "count": 1
           }
          ],
          "max": "27632.19922",
          "min": "27004.33984",
          "nan_count": 0,
          "unique_count": 3
         }
        },
        {
         "dtype": "float64",
         "name": "High",
         "stats": {
          "histogram": [
           {
            "bin_end": 27286.699807,
            "bin_start": 27223.71094,
            "count": 1
           },
           {
            "bin_end": 27349.688674,
            "bin_start": 27286.699807,
            "count": 0
           },
           {
            "bin_end": 27412.677541,
            "bin_start": 27349.688674,
            "count": 0
           },
           {
            "bin_end": 27475.666408,
            "bin_start": 27412.677541,
            "count": 0
           },
           {
            "bin_end": 27538.655275,
            "bin_start": 27475.666408,
            "count": 0
           },
           {
            "bin_end": 27601.644142,
            "bin_start": 27538.655275,
            "count": 1
           },
           {
            "bin_end": 27664.633009,
            "bin_start": 27601.644142,
            "count": 0
           },
           {
            "bin_end": 27727.621876,
            "bin_start": 27664.633009,
            "count": 0
           },
           {
            "bin_end": 27790.610743,
            "bin_start": 27727.621876,
            "count": 0
           },
           {
            "bin_end": 27853.59961,
            "bin_start": 27790.610743,
            "count": 1
           }
          ],
          "max": "27853.59961",
          "min": "27223.71094",
          "nan_count": 0,
          "unique_count": 3
         }
        },
        {
         "dtype": "float64",
         "name": "Low",
         "stats": {
          "histogram": [
           {
            "bin_end": 26907.662696,
            "bin_start": 26864.13086,
            "count": 1
           },
           {
            "bin_end": 26951.194532,
            "bin_start": 26907.662696,
            "count": 0
           },
           {
            "bin_end": 26994.726368,
            "bin_start": 26951.194532,
            "count": 0
           },
           {
            "bin_end": 27038.258204,
            "bin_start": 26994.726368,
            "count": 1
           },
           {
            "bin_end": 27081.79004,
            "bin_start": 27038.258204,
            "count": 0
           },
           {
            "bin_end": 27125.321875999998,
            "bin_start": 27081.79004,
            "count": 0
           },
           {
            "bin_end": 27168.853712,
            "bin_start": 27125.321875999998,
            "count": 0
           },
           {
            "bin_end": 27212.385548,
            "bin_start": 27168.853712,
            "count": 0
           },
           {
            "bin_end": 27255.917384,
            "bin_start": 27212.385548,
            "count": 0
           },
           {
            "bin_end": 27299.44922,
            "bin_start": 27255.917384,
            "count": 1
           }
          ],
          "max": "27299.44922",
          "min": "26864.13086",
          "nan_count": 0,
          "unique_count": 3
         }
        },
        {
         "dtype": "float64",
         "name": "Close",
         "stats": {
          "histogram": [
           {
            "bin_end": 26954.603323,
            "bin_start": 26887.2793,
            "count": 1
           },
           {
            "bin_end": 27021.927346,
            "bin_start": 26954.603323,
            "count": 0
           },
           {
            "bin_end": 27089.251368999998,
            "bin_start": 27021.927346,
            "count": 0
           },
           {
            "bin_end": 27156.575392,
            "bin_start": 27089.251368999998,
            "count": 0
           },
           {
            "bin_end": 27223.899415,
            "bin_start": 27156.575392,
            "count": 0
           },
           {
            "bin_end": 27291.223438,
            "bin_start": 27223.899415,
            "count": 0
           },
           {
            "bin_end": 27358.547461000002,
            "bin_start": 27291.223438,
            "count": 0
           },
           {
            "bin_end": 27425.871484,
            "bin_start": 27358.547461000002,
            "count": 0
           },
           {
            "bin_end": 27493.195507,
            "bin_start": 27425.871484,
            "count": 0
           },
           {
            "bin_end": 27560.51953,
            "bin_start": 27493.195507,
            "count": 2
           }
          ],
          "max": "27560.51953",
          "min": "26887.2793",
          "nan_count": 0,
          "unique_count": 3
         }
        },
        {
         "dtype": "float64",
         "name": "Adj Close",
         "stats": {
          "histogram": [
           {
            "bin_end": 26954.603323,
            "bin_start": 26887.2793,
            "count": 1
           },
           {
            "bin_end": 27021.927346,
            "bin_start": 26954.603323,
            "count": 0
           },
           {
            "bin_end": 27089.251368999998,
            "bin_start": 27021.927346,
            "count": 0
           },
           {
            "bin_end": 27156.575392,
            "bin_start": 27089.251368999998,
            "count": 0
           },
           {
            "bin_end": 27223.899415,
            "bin_start": 27156.575392,
            "count": 0
           },
           {
            "bin_end": 27291.223438,
            "bin_start": 27223.899415,
            "count": 0
           },
           {
            "bin_end": 27358.547461000002,
            "bin_start": 27291.223438,
            "count": 0
           },
           {
            "bin_end": 27425.871484,
            "bin_start": 27358.547461000002,
            "count": 0
           },
           {
            "bin_end": 27493.195507,
            "bin_start": 27425.871484,
            "count": 0
           },
           {
            "bin_end": 27560.51953,
            "bin_start": 27493.195507,
            "count": 2
           }
          ],
          "max": "27560.51953",
          "min": "26887.2793",
          "nan_count": 0,
          "unique_count": 3
         }
        },
        {
         "dtype": "float64",
         "name": "Volume",
         "stats": {
          "histogram": [
           {
            "bin_end": 1353202990,
            "bin_start": 1232142900,
            "count": 1
           },
           {
            "bin_end": 1474263080,
            "bin_start": 1353202990,
            "count": 0
           },
           {
            "bin_end": 1595323170,
            "bin_start": 1474263080,
            "count": 0
           },
           {
            "bin_end": 1716383260,
            "bin_start": 1595323170,
            "count": 0
           },
           {
            "bin_end": 1837443350,
            "bin_start": 1716383260,
            "count": 0
           },
           {
            "bin_end": 1958503440,
            "bin_start": 1837443350,
            "count": 0
           },
           {
            "bin_end": 2079563530,
            "bin_start": 1958503440,
            "count": 0
           },
           {
            "bin_end": 2200623620,
            "bin_start": 2079563530,
            "count": 0
           },
           {
            "bin_end": 2321683710,
            "bin_start": 2200623620,
            "count": 0
           },
           {
            "bin_end": 2442743800,
            "bin_start": 2321683710,
            "count": 2
           }
          ],
          "max": "2442743800.0",
          "min": "1232142900.0",
          "nan_count": 0,
          "unique_count": 3
         }
        },
        {
         "dtype": "object",
         "name": "Month",
         "stats": {
          "categories": [
           {
            "count": 3,
            "name": "January"
           }
          ],
          "nan_count": 0,
          "unique_count": 1
         }
        },
        {
         "dtype": "int64",
         "name": "_deepnote_index_column"
        }
       ],
       "row_count": 3,
       "rows": [
        {
         "Adj Close": "27560.51953",
         "Close": "27560.51953",
         "Date": "1/2/08",
         "High": "27853.59961",
         "Low": "27299.44922",
         "Month": "January",
         "Name": "HSI",
         "Open": "27632.19922",
         "Volume": "1232142900.0",
         "_deepnote_index_column": "32076"
        },
        {
         "Adj Close": "26887.2793",
         "Close": "26887.2793",
         "Date": "1/3/08",
         "High": "27223.71094",
         "Low": "26864.13086",
         "Month": "January",
         "Name": "HSI",
         "Open": "27050.0293",
         "Volume": "2442743800.0",
         "_deepnote_index_column": "32077"
        },
        {
         "Adj Close": "27519.68945",
         "Close": "27519.68945",
         "Date": "1/4/08",
         "High": "27596.85938",
         "Low": "26994.84961",
         "Month": "January",
         "Name": "HSI",
         "Open": "27004.33984",
         "Volume": "2375522200.0",
         "_deepnote_index_column": "32078"
        }
       ]
      },
      "text/html": [
       "<div>\n",
       "<style scoped>\n",
       "    .dataframe tbody tr th:only-of-type {\n",
       "        vertical-align: middle;\n",
       "    }\n",
       "\n",
       "    .dataframe tbody tr th {\n",
       "        vertical-align: top;\n",
       "    }\n",
       "\n",
       "    .dataframe thead th {\n",
       "        text-align: right;\n",
       "    }\n",
       "</style>\n",
       "<table border=\"1\" class=\"dataframe\">\n",
       "  <thead>\n",
       "    <tr style=\"text-align: right;\">\n",
       "      <th></th>\n",
       "      <th>Name</th>\n",
       "      <th>Date</th>\n",
       "      <th>Open</th>\n",
       "      <th>High</th>\n",
       "      <th>Low</th>\n",
       "      <th>Close</th>\n",
       "      <th>Adj Close</th>\n",
       "      <th>Volume</th>\n",
       "      <th>Month</th>\n",
       "    </tr>\n",
       "  </thead>\n",
       "  <tbody>\n",
       "    <tr>\n",
       "      <th>32076</th>\n",
       "      <td>HSI</td>\n",
       "      <td>1/2/08</td>\n",
       "      <td>27632.19922</td>\n",
       "      <td>27853.59961</td>\n",
       "      <td>27299.44922</td>\n",
       "      <td>27560.51953</td>\n",
       "      <td>27560.51953</td>\n",
       "      <td>1.232143e+09</td>\n",
       "      <td>January</td>\n",
       "    </tr>\n",
       "    <tr>\n",
       "      <th>32077</th>\n",
       "      <td>HSI</td>\n",
       "      <td>1/3/08</td>\n",
       "      <td>27050.02930</td>\n",
       "      <td>27223.71094</td>\n",
       "      <td>26864.13086</td>\n",
       "      <td>26887.27930</td>\n",
       "      <td>26887.27930</td>\n",
       "      <td>2.442744e+09</td>\n",
       "      <td>January</td>\n",
       "    </tr>\n",
       "    <tr>\n",
       "      <th>32078</th>\n",
       "      <td>HSI</td>\n",
       "      <td>1/4/08</td>\n",
       "      <td>27004.33984</td>\n",
       "      <td>27596.85938</td>\n",
       "      <td>26994.84961</td>\n",
       "      <td>27519.68945</td>\n",
       "      <td>27519.68945</td>\n",
       "      <td>2.375522e+09</td>\n",
       "      <td>January</td>\n",
       "    </tr>\n",
       "  </tbody>\n",
       "</table>\n",
       "</div>"
      ],
      "text/plain": [
       "      Name    Date         Open         High          Low        Close  \\\n",
       "32076  HSI  1/2/08  27632.19922  27853.59961  27299.44922  27560.51953   \n",
       "32077  HSI  1/3/08  27050.02930  27223.71094  26864.13086  26887.27930   \n",
       "32078  HSI  1/4/08  27004.33984  27596.85938  26994.84961  27519.68945   \n",
       "\n",
       "         Adj Close        Volume    Month  \n",
       "32076  27560.51953  1.232143e+09  January  \n",
       "32077  26887.27930  2.442744e+09  January  \n",
       "32078  27519.68945  2.375522e+09  January  "
      ]
     },
     "execution_count": 19,
     "metadata": {},
     "output_type": "execute_result"
    }
   ],
   "source": [
    "df_sub.head(3)"
   ]
  },
  {
   "cell_type": "markdown",
   "metadata": {
    "cell_id": "ef437b2f4221413a9f132d41b3a9eec2",
    "deepnote_cell_type": "markdown",
    "tags": []
   },
   "source": [
    "## Finding missing values with `isna`"
   ]
  },
  {
   "cell_type": "markdown",
   "metadata": {
    "cell_id": "df63ebce8b2342bf8fcbb61159f57371",
    "deepnote_cell_type": "markdown",
    "tags": []
   },
   "source": [
    "* Is there any missing data in this sub-DataFrame?  In how many rows?  In what rows?"
   ]
  },
  {
   "cell_type": "markdown",
   "metadata": {},
   "source": [
    "Missing values in pandas and in NumPy are denoted by some variant of `np.nan`, which stands for \"not a number\".  We can detect them by using the `isna` method."
   ]
  },
  {
   "cell_type": "code",
   "execution_count": 20,
   "metadata": {
    "cell_id": "e04fbed43311449bb782a9e9577c22a5",
    "deepnote_cell_type": "code",
    "deepnote_to_be_reexecuted": false,
    "execution_millis": 15,
    "execution_start": 1664990325758,
    "source_hash": "95b500a5",
    "tags": []
   },
   "outputs": [
    {
     "data": {
      "application/vnd.deepnote.dataframe.v3+json": {
       "column_count": 9,
       "columns": [
        {
         "dtype": "bool",
         "name": "Name",
         "stats": {
          "categories": [
           {
            "count": 247,
            "name": "False"
           }
          ],
          "nan_count": 0,
          "unique_count": 1
         }
        },
        {
         "dtype": "bool",
         "name": "Date",
         "stats": {
          "categories": [
           {
            "count": 247,
            "name": "False"
           }
          ],
          "nan_count": 0,
          "unique_count": 1
         }
        },
        {
         "dtype": "bool",
         "name": "Open",
         "stats": {
          "categories": [
           {
            "count": 245,
            "name": "False"
           },
           {
            "count": 2,
            "name": "True"
           }
          ],
          "nan_count": 0,
          "unique_count": 2
         }
        },
        {
         "dtype": "bool",
         "name": "High",
         "stats": {
          "categories": [
           {
            "count": 245,
            "name": "False"
           },
           {
            "count": 2,
            "name": "True"
           }
          ],
          "nan_count": 0,
          "unique_count": 2
         }
        },
        {
         "dtype": "bool",
         "name": "Low",
         "stats": {
          "categories": [
           {
            "count": 245,
            "name": "False"
           },
           {
            "count": 2,
            "name": "True"
           }
          ],
          "nan_count": 0,
          "unique_count": 2
         }
        },
        {
         "dtype": "bool",
         "name": "Close",
         "stats": {
          "categories": [
           {
            "count": 245,
            "name": "False"
           },
           {
            "count": 2,
            "name": "True"
           }
          ],
          "nan_count": 0,
          "unique_count": 2
         }
        },
        {
         "dtype": "bool",
         "name": "Adj Close",
         "stats": {
          "categories": [
           {
            "count": 245,
            "name": "False"
           },
           {
            "count": 2,
            "name": "True"
           }
          ],
          "nan_count": 0,
          "unique_count": 2
         }
        },
        {
         "dtype": "bool",
         "name": "Volume",
         "stats": {
          "categories": [
           {
            "count": 245,
            "name": "False"
           },
           {
            "count": 2,
            "name": "True"
           }
          ],
          "nan_count": 0,
          "unique_count": 2
         }
        },
        {
         "dtype": "bool",
         "name": "Month",
         "stats": {
          "categories": [
           {
            "count": 247,
            "name": "False"
           }
          ],
          "nan_count": 0,
          "unique_count": 1
         }
        },
        {
         "dtype": "int64",
         "name": "_deepnote_index_column"
        }
       ],
       "row_count": 247,
       "rows": [
        {
         "Adj Close": "False",
         "Close": "False",
         "Date": "False",
         "High": "False",
         "Low": "False",
         "Month": "False",
         "Name": "False",
         "Open": "False",
         "Volume": "False",
         "_deepnote_index_column": "32076"
        },
        {
         "Adj Close": "False",
         "Close": "False",
         "Date": "False",
         "High": "False",
         "Low": "False",
         "Month": "False",
         "Name": "False",
         "Open": "False",
         "Volume": "False",
         "_deepnote_index_column": "32077"
        },
        {
         "Adj Close": "False",
         "Close": "False",
         "Date": "False",
         "High": "False",
         "Low": "False",
         "Month": "False",
         "Name": "False",
         "Open": "False",
         "Volume": "False",
         "_deepnote_index_column": "32078"
        },
        {
         "Adj Close": "False",
         "Close": "False",
         "Date": "False",
         "High": "False",
         "Low": "False",
         "Month": "False",
         "Name": "False",
         "Open": "False",
         "Volume": "False",
         "_deepnote_index_column": "32079"
        },
        {
         "Adj Close": "False",
         "Close": "False",
         "Date": "False",
         "High": "False",
         "Low": "False",
         "Month": "False",
         "Name": "False",
         "Open": "False",
         "Volume": "False",
         "_deepnote_index_column": "32080"
        },
        {
         "Adj Close": "False",
         "Close": "False",
         "Date": "False",
         "High": "False",
         "Low": "False",
         "Month": "False",
         "Name": "False",
         "Open": "False",
         "Volume": "False",
         "_deepnote_index_column": "32081"
        },
        {
         "Adj Close": "False",
         "Close": "False",
         "Date": "False",
         "High": "False",
         "Low": "False",
         "Month": "False",
         "Name": "False",
         "Open": "False",
         "Volume": "False",
         "_deepnote_index_column": "32082"
        },
        {
         "Adj Close": "False",
         "Close": "False",
         "Date": "False",
         "High": "False",
         "Low": "False",
         "Month": "False",
         "Name": "False",
         "Open": "False",
         "Volume": "False",
         "_deepnote_index_column": "32083"
        },
        {
         "Adj Close": "False",
         "Close": "False",
         "Date": "False",
         "High": "False",
         "Low": "False",
         "Month": "False",
         "Name": "False",
         "Open": "False",
         "Volume": "False",
         "_deepnote_index_column": "32084"
        },
        {
         "Adj Close": "False",
         "Close": "False",
         "Date": "False",
         "High": "False",
         "Low": "False",
         "Month": "False",
         "Name": "False",
         "Open": "False",
         "Volume": "False",
         "_deepnote_index_column": "32085"
        }
       ]
      },
      "text/html": [
       "<div>\n",
       "<style scoped>\n",
       "    .dataframe tbody tr th:only-of-type {\n",
       "        vertical-align: middle;\n",
       "    }\n",
       "\n",
       "    .dataframe tbody tr th {\n",
       "        vertical-align: top;\n",
       "    }\n",
       "\n",
       "    .dataframe thead th {\n",
       "        text-align: right;\n",
       "    }\n",
       "</style>\n",
       "<table border=\"1\" class=\"dataframe\">\n",
       "  <thead>\n",
       "    <tr style=\"text-align: right;\">\n",
       "      <th></th>\n",
       "      <th>Name</th>\n",
       "      <th>Date</th>\n",
       "      <th>Open</th>\n",
       "      <th>High</th>\n",
       "      <th>Low</th>\n",
       "      <th>Close</th>\n",
       "      <th>Adj Close</th>\n",
       "      <th>Volume</th>\n",
       "      <th>Month</th>\n",
       "    </tr>\n",
       "  </thead>\n",
       "  <tbody>\n",
       "    <tr>\n",
       "      <th>32076</th>\n",
       "      <td>False</td>\n",
       "      <td>False</td>\n",
       "      <td>False</td>\n",
       "      <td>False</td>\n",
       "      <td>False</td>\n",
       "      <td>False</td>\n",
       "      <td>False</td>\n",
       "      <td>False</td>\n",
       "      <td>False</td>\n",
       "    </tr>\n",
       "    <tr>\n",
       "      <th>32077</th>\n",
       "      <td>False</td>\n",
       "      <td>False</td>\n",
       "      <td>False</td>\n",
       "      <td>False</td>\n",
       "      <td>False</td>\n",
       "      <td>False</td>\n",
       "      <td>False</td>\n",
       "      <td>False</td>\n",
       "      <td>False</td>\n",
       "    </tr>\n",
       "    <tr>\n",
       "      <th>32078</th>\n",
       "      <td>False</td>\n",
       "      <td>False</td>\n",
       "      <td>False</td>\n",
       "      <td>False</td>\n",
       "      <td>False</td>\n",
       "      <td>False</td>\n",
       "      <td>False</td>\n",
       "      <td>False</td>\n",
       "      <td>False</td>\n",
       "    </tr>\n",
       "    <tr>\n",
       "      <th>32079</th>\n",
       "      <td>False</td>\n",
       "      <td>False</td>\n",
       "      <td>False</td>\n",
       "      <td>False</td>\n",
       "      <td>False</td>\n",
       "      <td>False</td>\n",
       "      <td>False</td>\n",
       "      <td>False</td>\n",
       "      <td>False</td>\n",
       "    </tr>\n",
       "    <tr>\n",
       "      <th>32080</th>\n",
       "      <td>False</td>\n",
       "      <td>False</td>\n",
       "      <td>False</td>\n",
       "      <td>False</td>\n",
       "      <td>False</td>\n",
       "      <td>False</td>\n",
       "      <td>False</td>\n",
       "      <td>False</td>\n",
       "      <td>False</td>\n",
       "    </tr>\n",
       "    <tr>\n",
       "      <th>...</th>\n",
       "      <td>...</td>\n",
       "      <td>...</td>\n",
       "      <td>...</td>\n",
       "      <td>...</td>\n",
       "      <td>...</td>\n",
       "      <td>...</td>\n",
       "      <td>...</td>\n",
       "      <td>...</td>\n",
       "      <td>...</td>\n",
       "    </tr>\n",
       "    <tr>\n",
       "      <th>32318</th>\n",
       "      <td>False</td>\n",
       "      <td>False</td>\n",
       "      <td>False</td>\n",
       "      <td>False</td>\n",
       "      <td>False</td>\n",
       "      <td>False</td>\n",
       "      <td>False</td>\n",
       "      <td>False</td>\n",
       "      <td>False</td>\n",
       "    </tr>\n",
       "    <tr>\n",
       "      <th>32319</th>\n",
       "      <td>False</td>\n",
       "      <td>False</td>\n",
       "      <td>False</td>\n",
       "      <td>False</td>\n",
       "      <td>False</td>\n",
       "      <td>False</td>\n",
       "      <td>False</td>\n",
       "      <td>False</td>\n",
       "      <td>False</td>\n",
       "    </tr>\n",
       "    <tr>\n",
       "      <th>32320</th>\n",
       "      <td>False</td>\n",
       "      <td>False</td>\n",
       "      <td>False</td>\n",
       "      <td>False</td>\n",
       "      <td>False</td>\n",
       "      <td>False</td>\n",
       "      <td>False</td>\n",
       "      <td>False</td>\n",
       "      <td>False</td>\n",
       "    </tr>\n",
       "    <tr>\n",
       "      <th>32321</th>\n",
       "      <td>False</td>\n",
       "      <td>False</td>\n",
       "      <td>False</td>\n",
       "      <td>False</td>\n",
       "      <td>False</td>\n",
       "      <td>False</td>\n",
       "      <td>False</td>\n",
       "      <td>False</td>\n",
       "      <td>False</td>\n",
       "    </tr>\n",
       "    <tr>\n",
       "      <th>32322</th>\n",
       "      <td>False</td>\n",
       "      <td>False</td>\n",
       "      <td>False</td>\n",
       "      <td>False</td>\n",
       "      <td>False</td>\n",
       "      <td>False</td>\n",
       "      <td>False</td>\n",
       "      <td>False</td>\n",
       "      <td>False</td>\n",
       "    </tr>\n",
       "  </tbody>\n",
       "</table>\n",
       "<p>247 rows × 9 columns</p>\n",
       "</div>"
      ],
      "text/plain": [
       "        Name   Date   Open   High    Low  Close  Adj Close  Volume  Month\n",
       "32076  False  False  False  False  False  False      False   False  False\n",
       "32077  False  False  False  False  False  False      False   False  False\n",
       "32078  False  False  False  False  False  False      False   False  False\n",
       "32079  False  False  False  False  False  False      False   False  False\n",
       "32080  False  False  False  False  False  False      False   False  False\n",
       "...      ...    ...    ...    ...    ...    ...        ...     ...    ...\n",
       "32318  False  False  False  False  False  False      False   False  False\n",
       "32319  False  False  False  False  False  False      False   False  False\n",
       "32320  False  False  False  False  False  False      False   False  False\n",
       "32321  False  False  False  False  False  False      False   False  False\n",
       "32322  False  False  False  False  False  False      False   False  False\n",
       "\n",
       "[247 rows x 9 columns]"
      ]
     },
     "execution_count": 20,
     "metadata": {},
     "output_type": "execute_result"
    }
   ],
   "source": [
    "df_sub.isna()"
   ]
  },
  {
   "cell_type": "markdown",
   "metadata": {},
   "source": [
    "If all we care about is, are there *any* missing values in a row, we can use the `axis=1` keyword argument to the `any` method.  We may talk about `axis=1` more later, but for now, just know that it means we are plugging in one row at a time (as opposed to one column at a time)."
   ]
  },
  {
   "cell_type": "code",
   "execution_count": 21,
   "metadata": {
    "cell_id": "982c8ec6dd52443089285e158bc6f40c",
    "deepnote_cell_type": "code",
    "deepnote_to_be_reexecuted": false,
    "execution_millis": 766,
    "execution_start": 1664990424439,
    "source_hash": "8d969b66",
    "tags": []
   },
   "outputs": [
    {
     "data": {
      "text/plain": [
       "32076    False\n",
       "32077    False\n",
       "32078    False\n",
       "32079    False\n",
       "32080    False\n",
       "         ...  \n",
       "32318    False\n",
       "32319    False\n",
       "32320    False\n",
       "32321    False\n",
       "32322    False\n",
       "Length: 247, dtype: bool"
      ]
     },
     "execution_count": 21,
     "metadata": {},
     "output_type": "execute_result"
    }
   ],
   "source": [
    "# Which rows have missing data?\n",
    "df_sub.isna().any(axis=1)"
   ]
  },
  {
   "cell_type": "markdown",
   "metadata": {},
   "source": [
    "Here we count how many rows in `df_sub` have missing data."
   ]
  },
  {
   "cell_type": "code",
   "execution_count": 22,
   "metadata": {
    "cell_id": "f2e81ec5e6c04c2cad642cc9908e27e4",
    "deepnote_cell_type": "code",
    "deepnote_to_be_reexecuted": false,
    "execution_millis": 6,
    "execution_start": 1664990487839,
    "source_hash": "63f582df",
    "tags": []
   },
   "outputs": [
    {
     "data": {
      "text/plain": [
       "2"
      ]
     },
     "execution_count": 22,
     "metadata": {},
     "output_type": "execute_result"
    }
   ],
   "source": [
    "# How many rows have missing data?\n",
    "df_sub.isna().any(axis=1).sum()"
   ]
  },
  {
   "cell_type": "markdown",
   "metadata": {},
   "source": [
    "Here we use Boolean indexing to keep only those rows with missing data."
   ]
  },
  {
   "cell_type": "code",
   "execution_count": 23,
   "metadata": {
    "cell_id": "bcc9180eec2d4922a3717e89c8fff199",
    "deepnote_cell_type": "code",
    "deepnote_to_be_reexecuted": false,
    "execution_millis": 4,
    "execution_start": 1664990565140,
    "source_hash": "b1120889",
    "tags": []
   },
   "outputs": [
    {
     "data": {
      "application/vnd.deepnote.dataframe.v3+json": {
       "column_count": 9,
       "columns": [
        {
         "dtype": "object",
         "name": "Name",
         "stats": {
          "categories": [
           {
            "count": 2,
            "name": "HSI"
           }
          ],
          "nan_count": 0,
          "unique_count": 1
         }
        },
        {
         "dtype": "object",
         "name": "Date",
         "stats": {
          "categories": [
           {
            "count": 1,
            "name": "8/6/08"
           },
           {
            "count": 1,
            "name": "8/22/08"
           }
          ],
          "nan_count": 0,
          "unique_count": 2
         }
        },
        {
         "dtype": "float64",
         "name": "Open",
         "stats": {
          "histogram": [
           {
            "bin_end": 0.1,
            "bin_start": 0,
            "count": 0
           },
           {
            "bin_end": 0.2,
            "bin_start": 0.1,
            "count": 0
           },
           {
            "bin_end": 0.30000000000000004,
            "bin_start": 0.2,
            "count": 0
           },
           {
            "bin_end": 0.4,
            "bin_start": 0.30000000000000004,
            "count": 0
           },
           {
            "bin_end": 0.5,
            "bin_start": 0.4,
            "count": 0
           },
           {
            "bin_end": 0.6000000000000001,
            "bin_start": 0.5,
            "count": 0
           },
           {
            "bin_end": 0.7000000000000001,
            "bin_start": 0.6000000000000001,
            "count": 0
           },
           {
            "bin_end": 0.8,
            "bin_start": 0.7000000000000001,
            "count": 0
           },
           {
            "bin_end": 0.9,
            "bin_start": 0.8,
            "count": 0
           },
           {
            "bin_end": 1,
            "bin_start": 0.9,
            "count": 0
           }
          ],
          "max": null,
          "min": null,
          "nan_count": 2,
          "unique_count": 0
         }
        },
        {
         "dtype": "float64",
         "name": "High",
         "stats": {
          "histogram": [
           {
            "bin_end": 0.1,
            "bin_start": 0,
            "count": 0
           },
           {
            "bin_end": 0.2,
            "bin_start": 0.1,
            "count": 0
           },
           {
            "bin_end": 0.30000000000000004,
            "bin_start": 0.2,
            "count": 0
           },
           {
            "bin_end": 0.4,
            "bin_start": 0.30000000000000004,
            "count": 0
           },
           {
            "bin_end": 0.5,
            "bin_start": 0.4,
            "count": 0
           },
           {
            "bin_end": 0.6000000000000001,
            "bin_start": 0.5,
            "count": 0
           },
           {
            "bin_end": 0.7000000000000001,
            "bin_start": 0.6000000000000001,
            "count": 0
           },
           {
            "bin_end": 0.8,
            "bin_start": 0.7000000000000001,
            "count": 0
           },
           {
            "bin_end": 0.9,
            "bin_start": 0.8,
            "count": 0
           },
           {
            "bin_end": 1,
            "bin_start": 0.9,
            "count": 0
           }
          ],
          "max": null,
          "min": null,
          "nan_count": 2,
          "unique_count": 0
         }
        },
        {
         "dtype": "float64",
         "name": "Low",
         "stats": {
          "histogram": [
           {
            "bin_end": 0.1,
            "bin_start": 0,
            "count": 0
           },
           {
            "bin_end": 0.2,
            "bin_start": 0.1,
            "count": 0
           },
           {
            "bin_end": 0.30000000000000004,
            "bin_start": 0.2,
            "count": 0
           },
           {
            "bin_end": 0.4,
            "bin_start": 0.30000000000000004,
            "count": 0
           },
           {
            "bin_end": 0.5,
            "bin_start": 0.4,
            "count": 0
           },
           {
            "bin_end": 0.6000000000000001,
            "bin_start": 0.5,
            "count": 0
           },
           {
            "bin_end": 0.7000000000000001,
            "bin_start": 0.6000000000000001,
            "count": 0
           },
           {
            "bin_end": 0.8,
            "bin_start": 0.7000000000000001,
            "count": 0
           },
           {
            "bin_end": 0.9,
            "bin_start": 0.8,
            "count": 0
           },
           {
            "bin_end": 1,
            "bin_start": 0.9,
            "count": 0
           }
          ],
          "max": null,
          "min": null,
          "nan_count": 2,
          "unique_count": 0
         }
        },
        {
         "dtype": "float64",
         "name": "Close",
         "stats": {
          "histogram": [
           {
            "bin_end": 0.1,
            "bin_start": 0,
            "count": 0
           },
           {
            "bin_end": 0.2,
            "bin_start": 0.1,
            "count": 0
           },
           {
            "bin_end": 0.30000000000000004,
            "bin_start": 0.2,
            "count": 0
           },
           {
            "bin_end": 0.4,
            "bin_start": 0.30000000000000004,
            "count": 0
           },
           {
            "bin_end": 0.5,
            "bin_start": 0.4,
            "count": 0
           },
           {
            "bin_end": 0.6000000000000001,
            "bin_start": 0.5,
            "count": 0
           },
           {
            "bin_end": 0.7000000000000001,
            "bin_start": 0.6000000000000001,
            "count": 0
           },
           {
            "bin_end": 0.8,
            "bin_start": 0.7000000000000001,
            "count": 0
           },
           {
            "bin_end": 0.9,
            "bin_start": 0.8,
            "count": 0
           },
           {
            "bin_end": 1,
            "bin_start": 0.9,
            "count": 0
           }
          ],
          "max": null,
          "min": null,
          "nan_count": 2,
          "unique_count": 0
         }
        },
        {
         "dtype": "float64",
         "name": "Adj Close",
         "stats": {
          "histogram": [
           {
            "bin_end": 0.1,
            "bin_start": 0,
            "count": 0
           },
           {
            "bin_end": 0.2,
            "bin_start": 0.1,
            "count": 0
           },
           {
            "bin_end": 0.30000000000000004,
            "bin_start": 0.2,
            "count": 0
           },
           {
            "bin_end": 0.4,
            "bin_start": 0.30000000000000004,
            "count": 0
           },
           {
            "bin_end": 0.5,
            "bin_start": 0.4,
            "count": 0
           },
           {
            "bin_end": 0.6000000000000001,
            "bin_start": 0.5,
            "count": 0
           },
           {
            "bin_end": 0.7000000000000001,
            "bin_start": 0.6000000000000001,
            "count": 0
           },
           {
            "bin_end": 0.8,
            "bin_start": 0.7000000000000001,
            "count": 0
           },
           {
            "bin_end": 0.9,
            "bin_start": 0.8,
            "count": 0
           },
           {
            "bin_end": 1,
            "bin_start": 0.9,
            "count": 0
           }
          ],
          "max": null,
          "min": null,
          "nan_count": 2,
          "unique_count": 0
         }
        },
        {
         "dtype": "float64",
         "name": "Volume",
         "stats": {
          "histogram": [
           {
            "bin_end": 0.1,
            "bin_start": 0,
            "count": 0
           },
           {
            "bin_end": 0.2,
            "bin_start": 0.1,
            "count": 0
           },
           {
            "bin_end": 0.30000000000000004,
            "bin_start": 0.2,
            "count": 0
           },
           {
            "bin_end": 0.4,
            "bin_start": 0.30000000000000004,
            "count": 0
           },
           {
            "bin_end": 0.5,
            "bin_start": 0.4,
            "count": 0
           },
           {
            "bin_end": 0.6000000000000001,
            "bin_start": 0.5,
            "count": 0
           },
           {
            "bin_end": 0.7000000000000001,
            "bin_start": 0.6000000000000001,
            "count": 0
           },
           {
            "bin_end": 0.8,
            "bin_start": 0.7000000000000001,
            "count": 0
           },
           {
            "bin_end": 0.9,
            "bin_start": 0.8,
            "count": 0
           },
           {
            "bin_end": 1,
            "bin_start": 0.9,
            "count": 0
           }
          ],
          "max": null,
          "min": null,
          "nan_count": 2,
          "unique_count": 0
         }
        },
        {
         "dtype": "object",
         "name": "Month",
         "stats": {
          "categories": [
           {
            "count": 2,
            "name": "August"
           }
          ],
          "nan_count": 0,
          "unique_count": 1
         }
        },
        {
         "dtype": "int64",
         "name": "_deepnote_index_column"
        }
       ],
       "row_count": 2,
       "rows": [
        {
         "Adj Close": "nan",
         "Close": "nan",
         "Date": "8/6/08",
         "High": "nan",
         "Low": "nan",
         "Month": "August",
         "Name": "HSI",
         "Open": "nan",
         "Volume": "nan",
         "_deepnote_index_column": "32222"
        },
        {
         "Adj Close": "nan",
         "Close": "nan",
         "Date": "8/22/08",
         "High": "nan",
         "Low": "nan",
         "Month": "August",
         "Name": "HSI",
         "Open": "nan",
         "Volume": "nan",
         "_deepnote_index_column": "32234"
        }
       ]
      },
      "text/html": [
       "<div>\n",
       "<style scoped>\n",
       "    .dataframe tbody tr th:only-of-type {\n",
       "        vertical-align: middle;\n",
       "    }\n",
       "\n",
       "    .dataframe tbody tr th {\n",
       "        vertical-align: top;\n",
       "    }\n",
       "\n",
       "    .dataframe thead th {\n",
       "        text-align: right;\n",
       "    }\n",
       "</style>\n",
       "<table border=\"1\" class=\"dataframe\">\n",
       "  <thead>\n",
       "    <tr style=\"text-align: right;\">\n",
       "      <th></th>\n",
       "      <th>Name</th>\n",
       "      <th>Date</th>\n",
       "      <th>Open</th>\n",
       "      <th>High</th>\n",
       "      <th>Low</th>\n",
       "      <th>Close</th>\n",
       "      <th>Adj Close</th>\n",
       "      <th>Volume</th>\n",
       "      <th>Month</th>\n",
       "    </tr>\n",
       "  </thead>\n",
       "  <tbody>\n",
       "    <tr>\n",
       "      <th>32222</th>\n",
       "      <td>HSI</td>\n",
       "      <td>8/6/08</td>\n",
       "      <td>NaN</td>\n",
       "      <td>NaN</td>\n",
       "      <td>NaN</td>\n",
       "      <td>NaN</td>\n",
       "      <td>NaN</td>\n",
       "      <td>NaN</td>\n",
       "      <td>August</td>\n",
       "    </tr>\n",
       "    <tr>\n",
       "      <th>32234</th>\n",
       "      <td>HSI</td>\n",
       "      <td>8/22/08</td>\n",
       "      <td>NaN</td>\n",
       "      <td>NaN</td>\n",
       "      <td>NaN</td>\n",
       "      <td>NaN</td>\n",
       "      <td>NaN</td>\n",
       "      <td>NaN</td>\n",
       "      <td>August</td>\n",
       "    </tr>\n",
       "  </tbody>\n",
       "</table>\n",
       "</div>"
      ],
      "text/plain": [
       "      Name     Date  Open  High  Low  Close  Adj Close  Volume   Month\n",
       "32222  HSI   8/6/08   NaN   NaN  NaN    NaN        NaN     NaN  August\n",
       "32234  HSI  8/22/08   NaN   NaN  NaN    NaN        NaN     NaN  August"
      ]
     },
     "execution_count": 23,
     "metadata": {},
     "output_type": "execute_result"
    }
   ],
   "source": [
    "# Use Boolean indexing to keep the rows with missing data\n",
    "df_sub[df_sub.isna().any(axis=1)]"
   ]
  },
  {
   "cell_type": "markdown",
   "metadata": {},
   "source": [
    "Back to the `axis` keyword argument.  Here is what happens if we use `axis=0`, so we are plugging in one column at a time."
   ]
  },
  {
   "cell_type": "code",
   "execution_count": 24,
   "metadata": {
    "cell_id": "34834570eba543249ad6b0a518d7fb08",
    "deepnote_cell_type": "code",
    "deepnote_to_be_reexecuted": false,
    "execution_millis": 4,
    "execution_start": 1664990626905,
    "source_hash": "959ab4cd",
    "tags": []
   },
   "outputs": [
    {
     "data": {
      "text/plain": [
       "Name         False\n",
       "Date         False\n",
       "Open          True\n",
       "High          True\n",
       "Low           True\n",
       "Close         True\n",
       "Adj Close     True\n",
       "Volume        True\n",
       "Month        False\n",
       "dtype: bool"
      ]
     },
     "execution_count": 24,
     "metadata": {},
     "output_type": "execute_result"
    }
   ],
   "source": [
    "# axis=0 Which columns have missing data?\n",
    "df_sub.isna().any(axis=0)"
   ]
  },
  {
   "cell_type": "markdown",
   "metadata": {
    "cell_id": "741eb7b89db04a0ca00d7f0a6e759a8e",
    "deepnote_cell_type": "markdown",
    "tags": []
   },
   "source": [
    "* Aside: How can you take the element-wise negation of a Boolean Series?  For example, which columns *do not* have missing values?"
   ]
  },
  {
   "cell_type": "markdown",
   "metadata": {},
   "source": [
    "To take an elementwise negation in NumPy or pandas, use the tilde symbol, `~`."
   ]
  },
  {
   "cell_type": "code",
   "execution_count": 25,
   "metadata": {
    "cell_id": "829c2e83876d4b2d9aea289bcb40e857",
    "deepnote_cell_type": "code",
    "deepnote_to_be_reexecuted": false,
    "execution_millis": 4,
    "execution_start": 1664990796061,
    "source_hash": "fb46d18b",
    "tags": []
   },
   "outputs": [
    {
     "data": {
      "text/plain": [
       "Name          True\n",
       "Date          True\n",
       "Open         False\n",
       "High         False\n",
       "Low          False\n",
       "Close        False\n",
       "Adj Close    False\n",
       "Volume       False\n",
       "Month         True\n",
       "dtype: bool"
      ]
     },
     "execution_count": 25,
     "metadata": {},
     "output_type": "execute_result"
    }
   ],
   "source": [
    "~df_sub.isna().any(axis=0)"
   ]
  },
  {
   "cell_type": "markdown",
   "metadata": {
    "cell_id": "a0a1391ebf464f799205771fc59d118e",
    "deepnote_cell_type": "markdown",
    "tags": []
   },
   "source": [
    "## The DataFrame method `groupby`\n",
    "\n",
    "When I first learned the `groupby` method, I found it very confusing.  I wanted to know, is `df_sub.groupby(\"Month\")` a DataFrame?  A list of DataFrames?  But this isn't really the correct *object-oriented* perspective.  In fact, `df_sub.groupby(\"Month\")` is just its own special type of object, a pandas GroupBy object.\n",
    "\n",
    "There are two things I want you to know about GroupBy objects.\n",
    "\n",
    "1.  If you apply a method like `mean`, what is the result?\n",
    "2.  If you iterate over a GroupBy object, what values do you get?"
   ]
  },
  {
   "cell_type": "markdown",
   "metadata": {
    "cell_id": "c541688e58a943ecb02c644751c27a3f",
    "deepnote_cell_type": "markdown",
    "deepnote_to_be_reexecuted": false,
    "execution_millis": 5,
    "execution_start": 1664885992090,
    "source_hash": "6a6e0aa3",
    "tags": []
   },
   "source": [
    "* Call `df_sub.groupby(\"Month\").mean()`.  What information is this conveying?"
   ]
  },
  {
   "cell_type": "markdown",
   "metadata": {},
   "source": [
    "For example, in the following, the `24608` at the top left means that for the month of April, the average value in the \"Open\" column was approximately 24608."
   ]
  },
  {
   "cell_type": "code",
   "execution_count": 26,
   "metadata": {
    "cell_id": "55cb24a657fa4636aacaa52c63ac304b",
    "deepnote_cell_type": "code",
    "deepnote_to_be_reexecuted": false,
    "execution_millis": 47,
    "execution_start": 1664990885693,
    "source_hash": "d5b8e5ee",
    "tags": []
   },
   "outputs": [
    {
     "data": {
      "application/vnd.deepnote.dataframe.v3+json": {
       "column_count": 6,
       "columns": [
        {
         "dtype": "float64",
         "name": "Open",
         "stats": {
          "histogram": [
           {
            "bin_end": 14747.837268809091,
            "bin_start": 13544.692481000002,
            "count": 2
           },
           {
            "bin_end": 15950.98205661818,
            "bin_start": 14747.837268809091,
            "count": 1
           },
           {
            "bin_end": 17154.126844427272,
            "bin_start": 15950.98205661818,
            "count": 0
           },
           {
            "bin_end": 18357.271632236363,
            "bin_start": 17154.126844427272,
            "count": 0
           },
           {
            "bin_end": 19560.41642004545,
            "bin_start": 18357.271632236363,
            "count": 1
           },
           {
            "bin_end": 20763.561207854542,
            "bin_start": 19560.41642004545,
            "count": 0
           },
           {
            "bin_end": 21966.70599566363,
            "bin_start": 20763.561207854542,
            "count": 1
           },
           {
            "bin_end": 23169.85078347272,
            "bin_start": 21966.70599566363,
            "count": 2
           },
           {
            "bin_end": 24372.995571281812,
            "bin_start": 23169.85078347272,
            "count": 2
           },
           {
            "bin_end": 25576.1403590909,
            "bin_start": 24372.995571281812,
            "count": 3
           }
          ],
          "max": "25576.1403590909",
          "min": "13544.692481000002",
          "nan_count": 0,
          "unique_count": 12
         }
        },
        {
         "dtype": "float64",
         "name": "High",
         "stats": {
          "histogram": [
           {
            "bin_end": 15057.972991113636,
            "bin_start": 13854.3030275,
            "count": 2
           },
           {
            "bin_end": 16261.642954727273,
            "bin_start": 15057.972991113636,
            "count": 1
           },
           {
            "bin_end": 17465.312918340907,
            "bin_start": 16261.642954727273,
            "count": 0
           },
           {
            "bin_end": 18668.982881954544,
            "bin_start": 17465.312918340907,
            "count": 0
           },
           {
            "bin_end": 19872.65284556818,
            "bin_start": 18668.982881954544,
            "count": 1
           },
           {
            "bin_end": 21076.322809181816,
            "bin_start": 19872.65284556818,
            "count": 0
           },
           {
            "bin_end": 22279.992772795453,
            "bin_start": 21076.322809181816,
            "count": 2
           },
           {
            "bin_end": 23483.66273640909,
            "bin_start": 22279.992772795453,
            "count": 2
           },
           {
            "bin_end": 24687.332700022725,
            "bin_start": 23483.66273640909,
            "count": 1
           },
           {
            "bin_end": 25891.002663636362,
            "bin_start": 24687.332700022725,
            "count": 3
           }
          ],
          "max": "25891.002663636362",
          "min": "13854.3030275",
          "nan_count": 0,
          "unique_count": 12
         }
        },
        {
         "dtype": "float64",
         "name": "Low",
         "stats": {
          "histogram": [
           {
            "bin_end": 14457.604320699998,
            "bin_start": 13281.539012999998,
            "count": 2
           },
           {
            "bin_end": 15633.669628399999,
            "bin_start": 14457.604320699998,
            "count": 1
           },
           {
            "bin_end": 16809.734936099998,
            "bin_start": 15633.669628399999,
            "count": 0
           },
           {
            "bin_end": 17985.800243799997,
            "bin_start": 16809.734936099998,
            "count": 0
           },
           {
            "bin_end": 19161.8655515,
            "bin_start": 17985.800243799997,
            "count": 1
           },
           {
            "bin_end": 20337.930859199998,
            "bin_start": 19161.8655515,
            "count": 0
           },
           {
            "bin_end": 21513.996166899997,
            "bin_start": 20337.930859199998,
            "count": 1
           },
           {
            "bin_end": 22690.0614746,
            "bin_start": 21513.996166899997,
            "count": 2
           },
           {
            "bin_end": 23866.1267823,
            "bin_start": 22690.0614746,
            "count": 2
           },
           {
            "bin_end": 25042.19209,
            "bin_start": 23866.1267823,
            "count": 3
           }
          ],
          "max": "25042.19209",
          "min": "13281.539012999998",
          "nan_count": 0,
          "unique_count": 12
         }
        },
        {
         "dtype": "float64",
         "name": "Close",
         "stats": {
          "histogram": [
           {
            "bin_end": 14755.668702195455,
            "bin_start": 13572.8119635,
            "count": 2
           },
           {
            "bin_end": 15938.52544089091,
            "bin_start": 14755.668702195455,
            "count": 1
           },
           {
            "bin_end": 17121.382179586362,
            "bin_start": 15938.52544089091,
            "count": 0
           },
           {
            "bin_end": 18304.23891828182,
            "bin_start": 17121.382179586362,
            "count": 0
           },
           {
            "bin_end": 19487.095656977275,
            "bin_start": 18304.23891828182,
            "count": 1
           },
           {
            "bin_end": 20669.952395672728,
            "bin_start": 19487.095656977275,
            "count": 0
           },
           {
            "bin_end": 21852.80913436818,
            "bin_start": 20669.952395672728,
            "count": 1
           },
           {
            "bin_end": 23035.665873063637,
            "bin_start": 21852.80913436818,
            "count": 2
           },
           {
            "bin_end": 24218.522611759094,
            "bin_start": 23035.665873063637,
            "count": 2
           },
           {
            "bin_end": 25401.379350454547,
            "bin_start": 24218.522611759094,
            "count": 3
           }
          ],
          "max": "25401.379350454547",
          "min": "13572.8119635",
          "nan_count": 0,
          "unique_count": 12
         }
        },
        {
         "dtype": "float64",
         "name": "Adj Close",
         "stats": {
          "histogram": [
           {
            "bin_end": 14755.668702195455,
            "bin_start": 13572.8119635,
            "count": 2
           },
           {
            "bin_end": 15938.52544089091,
            "bin_start": 14755.668702195455,
            "count": 1
           },
           {
            "bin_end": 17121.382179586362,
            "bin_start": 15938.52544089091,
            "count": 0
           },
           {
            "bin_end": 18304.23891828182,
            "bin_start": 17121.382179586362,
            "count": 0
           },
           {
            "bin_end": 19487.095656977275,
            "bin_start": 18304.23891828182,
            "count": 1
           },
           {
            "bin_end": 20669.952395672728,
            "bin_start": 19487.095656977275,
            "count": 0
           },
           {
            "bin_end": 21852.80913436818,
            "bin_start": 20669.952395672728,
            "count": 1
           },
           {
            "bin_end": 23035.665873063637,
            "bin_start": 21852.80913436818,
            "count": 2
           },
           {
            "bin_end": 24218.522611759094,
            "bin_start": 23035.665873063637,
            "count": 2
           },
           {
            "bin_end": 25401.379350454547,
            "bin_start": 24218.522611759094,
            "count": 3
           }
          ],
          "max": "25401.379350454547",
          "min": "13572.8119635",
          "nan_count": 0,
          "unique_count": 12
         }
        },
        {
         "dtype": "float64",
         "name": "Volume",
         "stats": {
          "histogram": [
           {
            "bin_end": 2025475118.245614,
            "bin_start": 1836206968.4210527,
            "count": 4
           },
           {
            "bin_end": 2214743268.0701756,
            "bin_start": 2025475118.245614,
            "count": 1
           },
           {
            "bin_end": 2404011417.894737,
            "bin_start": 2214743268.0701756,
            "count": 2
           },
           {
            "bin_end": 2593279567.7192984,
            "bin_start": 2404011417.894737,
            "count": 1
           },
           {
            "bin_end": 2782547717.5438595,
            "bin_start": 2593279567.7192984,
            "count": 1
           },
           {
            "bin_end": 2971815867.368421,
            "bin_start": 2782547717.5438595,
            "count": 1
           },
           {
            "bin_end": 3161084017.1929827,
            "bin_start": 2971815867.368421,
            "count": 1
           },
           {
            "bin_end": 3350352167.017544,
            "bin_start": 3161084017.1929827,
            "count": 0
           },
           {
            "bin_end": 3539620316.842105,
            "bin_start": 3350352167.017544,
            "count": 0
           },
           {
            "bin_end": 3728888466.6666665,
            "bin_start": 3539620316.842105,
            "count": 1
           }
          ],
          "max": "3728888466.6666665",
          "min": "1836206968.4210527",
          "nan_count": 0,
          "unique_count": 12
         }
        },
        {
         "dtype": "object",
         "name": "_deepnote_index_column"
        }
       ],
       "row_count": 12,
       "rows": [
        {
         "Adj Close": "24596.926525714287",
         "Close": "24596.926525714287",
         "High": "24777.395182857144",
         "Low": "24403.66676",
         "Open": "24608.502325238092",
         "Volume": "2360510452.3809524",
         "_deepnote_index_column": "April"
        },
        {
         "Adj Close": "21434.85423578947",
         "Close": "21434.85423578947",
         "High": "21691.237459473687",
         "Low": "21236.333779473684",
         "Open": "21486.547287368423",
         "Volume": "1836206968.4210527",
         "_deepnote_index_column": "August"
        },
        {
         "Adj Close": "14592.81519761905",
         "Close": "14592.81519761905",
         "High": "14802.577614761904",
         "Low": "14370.430571428573",
         "Open": "14588.742839047618",
         "Volume": "1962145085.7142856",
         "_deepnote_index_column": "December"
        },
        {
         "Adj Close": "23847.546772631573",
         "Close": "23847.546772631573",
         "High": "24103.78906263158",
         "Low": "23586.759457894736",
         "Open": "23876.49527105263",
         "Volume": "2225152542.105263",
         "_deepnote_index_column": "February"
        },
        {
         "Adj Close": "25401.379350454547",
         "Close": "25401.379350454547",
         "High": "25891.002663636362",
         "Low": "25035.87793090909",
         "Open": "25576.1403590909",
         "Volume": "3070506495.4545455",
         "_deepnote_index_column": "January"
        },
        {
         "Adj Close": "22078.589755454545",
         "Close": "22078.589755454545",
         "High": "22258.997691818182",
         "Low": "21906.61301454545",
         "Open": "22088.403942272726",
         "Volume": "2053009263.6363637",
         "_deepnote_index_column": "July"
        },
        {
         "Adj Close": "23183.498828999996",
         "Close": "23183.498828999996",
         "High": "23401.861035",
         "Low": "23038.578906",
         "Open": "23206.8698245",
         "Volume": "1868362035.0",
         "_deepnote_index_column": "June"
        },
        {
         "Adj Close": "22560.54882894737",
         "Close": "22560.54882894737",
         "High": "22825.850535263155",
         "Low": "22261.735814736843",
         "Open": "22594.92526789473",
         "Volume": "2601644368.4210525",
         "_deepnote_index_column": "March"
        },
        {
         "Adj Close": "25236.711426",
         "Close": "25236.711426",
         "High": "25431.831249499995",
         "Low": "25042.19209",
         "Open": "25292.243262499993",
         "Volume": "1968865905.0",
         "_deepnote_index_column": "May"
        },
        {
         "Adj Close": "13572.8119635",
         "Close": "13572.8119635",
         "High": "13854.3030275",
         "Low": "13281.539012999998",
         "Open": "13544.692481000002",
         "Volume": "2527160360.0",
         "_deepnote_index_column": "November"
        }
       ]
      },
      "text/html": [
       "<div>\n",
       "<style scoped>\n",
       "    .dataframe tbody tr th:only-of-type {\n",
       "        vertical-align: middle;\n",
       "    }\n",
       "\n",
       "    .dataframe tbody tr th {\n",
       "        vertical-align: top;\n",
       "    }\n",
       "\n",
       "    .dataframe thead th {\n",
       "        text-align: right;\n",
       "    }\n",
       "</style>\n",
       "<table border=\"1\" class=\"dataframe\">\n",
       "  <thead>\n",
       "    <tr style=\"text-align: right;\">\n",
       "      <th></th>\n",
       "      <th>Open</th>\n",
       "      <th>High</th>\n",
       "      <th>Low</th>\n",
       "      <th>Close</th>\n",
       "      <th>Adj Close</th>\n",
       "      <th>Volume</th>\n",
       "    </tr>\n",
       "    <tr>\n",
       "      <th>Month</th>\n",
       "      <th></th>\n",
       "      <th></th>\n",
       "      <th></th>\n",
       "      <th></th>\n",
       "      <th></th>\n",
       "      <th></th>\n",
       "    </tr>\n",
       "  </thead>\n",
       "  <tbody>\n",
       "    <tr>\n",
       "      <th>April</th>\n",
       "      <td>24608.502325</td>\n",
       "      <td>24777.395183</td>\n",
       "      <td>24403.666760</td>\n",
       "      <td>24596.926526</td>\n",
       "      <td>24596.926526</td>\n",
       "      <td>2.360510e+09</td>\n",
       "    </tr>\n",
       "    <tr>\n",
       "      <th>August</th>\n",
       "      <td>21486.547287</td>\n",
       "      <td>21691.237459</td>\n",
       "      <td>21236.333779</td>\n",
       "      <td>21434.854236</td>\n",
       "      <td>21434.854236</td>\n",
       "      <td>1.836207e+09</td>\n",
       "    </tr>\n",
       "    <tr>\n",
       "      <th>December</th>\n",
       "      <td>14588.742839</td>\n",
       "      <td>14802.577615</td>\n",
       "      <td>14370.430571</td>\n",
       "      <td>14592.815198</td>\n",
       "      <td>14592.815198</td>\n",
       "      <td>1.962145e+09</td>\n",
       "    </tr>\n",
       "    <tr>\n",
       "      <th>February</th>\n",
       "      <td>23876.495271</td>\n",
       "      <td>24103.789063</td>\n",
       "      <td>23586.759458</td>\n",
       "      <td>23847.546773</td>\n",
       "      <td>23847.546773</td>\n",
       "      <td>2.225153e+09</td>\n",
       "    </tr>\n",
       "    <tr>\n",
       "      <th>January</th>\n",
       "      <td>25576.140359</td>\n",
       "      <td>25891.002664</td>\n",
       "      <td>25035.877931</td>\n",
       "      <td>25401.379350</td>\n",
       "      <td>25401.379350</td>\n",
       "      <td>3.070506e+09</td>\n",
       "    </tr>\n",
       "    <tr>\n",
       "      <th>July</th>\n",
       "      <td>22088.403942</td>\n",
       "      <td>22258.997692</td>\n",
       "      <td>21906.613015</td>\n",
       "      <td>22078.589755</td>\n",
       "      <td>22078.589755</td>\n",
       "      <td>2.053009e+09</td>\n",
       "    </tr>\n",
       "    <tr>\n",
       "      <th>June</th>\n",
       "      <td>23206.869825</td>\n",
       "      <td>23401.861035</td>\n",
       "      <td>23038.578906</td>\n",
       "      <td>23183.498829</td>\n",
       "      <td>23183.498829</td>\n",
       "      <td>1.868362e+09</td>\n",
       "    </tr>\n",
       "    <tr>\n",
       "      <th>March</th>\n",
       "      <td>22594.925268</td>\n",
       "      <td>22825.850535</td>\n",
       "      <td>22261.735815</td>\n",
       "      <td>22560.548829</td>\n",
       "      <td>22560.548829</td>\n",
       "      <td>2.601644e+09</td>\n",
       "    </tr>\n",
       "    <tr>\n",
       "      <th>May</th>\n",
       "      <td>25292.243262</td>\n",
       "      <td>25431.831249</td>\n",
       "      <td>25042.192090</td>\n",
       "      <td>25236.711426</td>\n",
       "      <td>25236.711426</td>\n",
       "      <td>1.968866e+09</td>\n",
       "    </tr>\n",
       "    <tr>\n",
       "      <th>November</th>\n",
       "      <td>13544.692481</td>\n",
       "      <td>13854.303028</td>\n",
       "      <td>13281.539013</td>\n",
       "      <td>13572.811964</td>\n",
       "      <td>13572.811964</td>\n",
       "      <td>2.527160e+09</td>\n",
       "    </tr>\n",
       "    <tr>\n",
       "      <th>October</th>\n",
       "      <td>14952.218191</td>\n",
       "      <td>15347.115188</td>\n",
       "      <td>14501.354307</td>\n",
       "      <td>14924.740467</td>\n",
       "      <td>14924.740467</td>\n",
       "      <td>3.728888e+09</td>\n",
       "    </tr>\n",
       "    <tr>\n",
       "      <th>September</th>\n",
       "      <td>19454.927733</td>\n",
       "      <td>19645.481491</td>\n",
       "      <td>19079.342216</td>\n",
       "      <td>19369.610027</td>\n",
       "      <td>19369.610027</td>\n",
       "      <td>2.950194e+09</td>\n",
       "    </tr>\n",
       "  </tbody>\n",
       "</table>\n",
       "</div>"
      ],
      "text/plain": [
       "                   Open          High           Low         Close  \\\n",
       "Month                                                               \n",
       "April      24608.502325  24777.395183  24403.666760  24596.926526   \n",
       "August     21486.547287  21691.237459  21236.333779  21434.854236   \n",
       "December   14588.742839  14802.577615  14370.430571  14592.815198   \n",
       "February   23876.495271  24103.789063  23586.759458  23847.546773   \n",
       "January    25576.140359  25891.002664  25035.877931  25401.379350   \n",
       "July       22088.403942  22258.997692  21906.613015  22078.589755   \n",
       "June       23206.869825  23401.861035  23038.578906  23183.498829   \n",
       "March      22594.925268  22825.850535  22261.735815  22560.548829   \n",
       "May        25292.243262  25431.831249  25042.192090  25236.711426   \n",
       "November   13544.692481  13854.303028  13281.539013  13572.811964   \n",
       "October    14952.218191  15347.115188  14501.354307  14924.740467   \n",
       "September  19454.927733  19645.481491  19079.342216  19369.610027   \n",
       "\n",
       "              Adj Close        Volume  \n",
       "Month                                  \n",
       "April      24596.926526  2.360510e+09  \n",
       "August     21434.854236  1.836207e+09  \n",
       "December   14592.815198  1.962145e+09  \n",
       "February   23847.546773  2.225153e+09  \n",
       "January    25401.379350  3.070506e+09  \n",
       "July       22078.589755  2.053009e+09  \n",
       "June       23183.498829  1.868362e+09  \n",
       "March      22560.548829  2.601644e+09  \n",
       "May        25236.711426  1.968866e+09  \n",
       "November   13572.811964  2.527160e+09  \n",
       "October    14924.740467  3.728888e+09  \n",
       "September  19369.610027  2.950194e+09  "
      ]
     },
     "execution_count": 26,
     "metadata": {},
     "output_type": "execute_result"
    }
   ],
   "source": [
    "df_sub.groupby(\"Month\").mean()"
   ]
  },
  {
   "cell_type": "markdown",
   "metadata": {
    "cell_id": "9c1447f74aaa4e5cb28ac5f04be3b6dc",
    "deepnote_cell_type": "markdown",
    "tags": []
   },
   "source": [
    "* What if you don't want the months sorted alphabetically?\n",
    "\n",
    "It's often helpful that the values get sorted, but in this case, we don't want them sorted alphabetically.  By using the `sort=False` keyword argument, we tell pandas to keep whatever the original DataFrame order was."
   ]
  },
  {
   "cell_type": "code",
   "execution_count": 27,
   "metadata": {
    "cell_id": "ea1cd7625c614647a472cdd35b5a96a5",
    "deepnote_cell_type": "code",
    "deepnote_to_be_reexecuted": false,
    "execution_millis": 911,
    "execution_start": 1664991005077,
    "source_hash": "c396d883",
    "tags": []
   },
   "outputs": [
    {
     "data": {
      "application/vnd.deepnote.dataframe.v3+json": {
       "column_count": 6,
       "columns": [
        {
         "dtype": "float64",
         "name": "Open",
         "stats": {
          "histogram": [
           {
            "bin_end": 14747.837268809091,
            "bin_start": 13544.692481000002,
            "count": 2
           },
           {
            "bin_end": 15950.98205661818,
            "bin_start": 14747.837268809091,
            "count": 1
           },
           {
            "bin_end": 17154.126844427272,
            "bin_start": 15950.98205661818,
            "count": 0
           },
           {
            "bin_end": 18357.271632236363,
            "bin_start": 17154.126844427272,
            "count": 0
           },
           {
            "bin_end": 19560.41642004545,
            "bin_start": 18357.271632236363,
            "count": 1
           },
           {
            "bin_end": 20763.561207854542,
            "bin_start": 19560.41642004545,
            "count": 0
           },
           {
            "bin_end": 21966.70599566363,
            "bin_start": 20763.561207854542,
            "count": 1
           },
           {
            "bin_end": 23169.85078347272,
            "bin_start": 21966.70599566363,
            "count": 2
           },
           {
            "bin_end": 24372.995571281812,
            "bin_start": 23169.85078347272,
            "count": 2
           },
           {
            "bin_end": 25576.1403590909,
            "bin_start": 24372.995571281812,
            "count": 3
           }
          ],
          "max": "25576.1403590909",
          "min": "13544.692481000002",
          "nan_count": 0,
          "unique_count": 12
         }
        },
        {
         "dtype": "float64",
         "name": "High",
         "stats": {
          "histogram": [
           {
            "bin_end": 15057.972991113636,
            "bin_start": 13854.3030275,
            "count": 2
           },
           {
            "bin_end": 16261.642954727273,
            "bin_start": 15057.972991113636,
            "count": 1
           },
           {
            "bin_end": 17465.312918340907,
            "bin_start": 16261.642954727273,
            "count": 0
           },
           {
            "bin_end": 18668.982881954544,
            "bin_start": 17465.312918340907,
            "count": 0
           },
           {
            "bin_end": 19872.65284556818,
            "bin_start": 18668.982881954544,
            "count": 1
           },
           {
            "bin_end": 21076.322809181816,
            "bin_start": 19872.65284556818,
            "count": 0
           },
           {
            "bin_end": 22279.992772795453,
            "bin_start": 21076.322809181816,
            "count": 2
           },
           {
            "bin_end": 23483.66273640909,
            "bin_start": 22279.992772795453,
            "count": 2
           },
           {
            "bin_end": 24687.332700022725,
            "bin_start": 23483.66273640909,
            "count": 1
           },
           {
            "bin_end": 25891.002663636362,
            "bin_start": 24687.332700022725,
            "count": 3
           }
          ],
          "max": "25891.002663636362",
          "min": "13854.3030275",
          "nan_count": 0,
          "unique_count": 12
         }
        },
        {
         "dtype": "float64",
         "name": "Low",
         "stats": {
          "histogram": [
           {
            "bin_end": 14457.604320699998,
            "bin_start": 13281.539012999998,
            "count": 2
           },
           {
            "bin_end": 15633.669628399999,
            "bin_start": 14457.604320699998,
            "count": 1
           },
           {
            "bin_end": 16809.734936099998,
            "bin_start": 15633.669628399999,
            "count": 0
           },
           {
            "bin_end": 17985.800243799997,
            "bin_start": 16809.734936099998,
            "count": 0
           },
           {
            "bin_end": 19161.8655515,
            "bin_start": 17985.800243799997,
            "count": 1
           },
           {
            "bin_end": 20337.930859199998,
            "bin_start": 19161.8655515,
            "count": 0
           },
           {
            "bin_end": 21513.996166899997,
            "bin_start": 20337.930859199998,
            "count": 1
           },
           {
            "bin_end": 22690.0614746,
            "bin_start": 21513.996166899997,
            "count": 2
           },
           {
            "bin_end": 23866.1267823,
            "bin_start": 22690.0614746,
            "count": 2
           },
           {
            "bin_end": 25042.19209,
            "bin_start": 23866.1267823,
            "count": 3
           }
          ],
          "max": "25042.19209",
          "min": "13281.539012999998",
          "nan_count": 0,
          "unique_count": 12
         }
        },
        {
         "dtype": "float64",
         "name": "Close",
         "stats": {
          "histogram": [
           {
            "bin_end": 14755.668702195455,
            "bin_start": 13572.8119635,
            "count": 2
           },
           {
            "bin_end": 15938.52544089091,
            "bin_start": 14755.668702195455,
            "count": 1
           },
           {
            "bin_end": 17121.382179586362,
            "bin_start": 15938.52544089091,
            "count": 0
           },
           {
            "bin_end": 18304.23891828182,
            "bin_start": 17121.382179586362,
            "count": 0
           },
           {
            "bin_end": 19487.095656977275,
            "bin_start": 18304.23891828182,
            "count": 1
           },
           {
            "bin_end": 20669.952395672728,
            "bin_start": 19487.095656977275,
            "count": 0
           },
           {
            "bin_end": 21852.80913436818,
            "bin_start": 20669.952395672728,
            "count": 1
           },
           {
            "bin_end": 23035.665873063637,
            "bin_start": 21852.80913436818,
            "count": 2
           },
           {
            "bin_end": 24218.522611759094,
            "bin_start": 23035.665873063637,
            "count": 2
           },
           {
            "bin_end": 25401.379350454547,
            "bin_start": 24218.522611759094,
            "count": 3
           }
          ],
          "max": "25401.379350454547",
          "min": "13572.8119635",
          "nan_count": 0,
          "unique_count": 12
         }
        },
        {
         "dtype": "float64",
         "name": "Adj Close",
         "stats": {
          "histogram": [
           {
            "bin_end": 14755.668702195455,
            "bin_start": 13572.8119635,
            "count": 2
           },
           {
            "bin_end": 15938.52544089091,
            "bin_start": 14755.668702195455,
            "count": 1
           },
           {
            "bin_end": 17121.382179586362,
            "bin_start": 15938.52544089091,
            "count": 0
           },
           {
            "bin_end": 18304.23891828182,
            "bin_start": 17121.382179586362,
            "count": 0
           },
           {
            "bin_end": 19487.095656977275,
            "bin_start": 18304.23891828182,
            "count": 1
           },
           {
            "bin_end": 20669.952395672728,
            "bin_start": 19487.095656977275,
            "count": 0
           },
           {
            "bin_end": 21852.80913436818,
            "bin_start": 20669.952395672728,
            "count": 1
           },
           {
            "bin_end": 23035.665873063637,
            "bin_start": 21852.80913436818,
            "count": 2
           },
           {
            "bin_end": 24218.522611759094,
            "bin_start": 23035.665873063637,
            "count": 2
           },
           {
            "bin_end": 25401.379350454547,
            "bin_start": 24218.522611759094,
            "count": 3
           }
          ],
          "max": "25401.379350454547",
          "min": "13572.8119635",
          "nan_count": 0,
          "unique_count": 12
         }
        },
        {
         "dtype": "float64",
         "name": "Volume",
         "stats": {
          "histogram": [
           {
            "bin_end": 2025475118.245614,
            "bin_start": 1836206968.4210527,
            "count": 4
           },
           {
            "bin_end": 2214743268.0701756,
            "bin_start": 2025475118.245614,
            "count": 1
           },
           {
            "bin_end": 2404011417.894737,
            "bin_start": 2214743268.0701756,
            "count": 2
           },
           {
            "bin_end": 2593279567.7192984,
            "bin_start": 2404011417.894737,
            "count": 1
           },
           {
            "bin_end": 2782547717.5438595,
            "bin_start": 2593279567.7192984,
            "count": 1
           },
           {
            "bin_end": 2971815867.368421,
            "bin_start": 2782547717.5438595,
            "count": 1
           },
           {
            "bin_end": 3161084017.1929827,
            "bin_start": 2971815867.368421,
            "count": 1
           },
           {
            "bin_end": 3350352167.017544,
            "bin_start": 3161084017.1929827,
            "count": 0
           },
           {
            "bin_end": 3539620316.842105,
            "bin_start": 3350352167.017544,
            "count": 0
           },
           {
            "bin_end": 3728888466.6666665,
            "bin_start": 3539620316.842105,
            "count": 1
           }
          ],
          "max": "3728888466.6666665",
          "min": "1836206968.4210527",
          "nan_count": 0,
          "unique_count": 12
         }
        },
        {
         "dtype": "object",
         "name": "_deepnote_index_column"
        }
       ],
       "row_count": 12,
       "rows": [
        {
         "Adj Close": "25401.379350454547",
         "Close": "25401.379350454547",
         "High": "25891.002663636362",
         "Low": "25035.87793090909",
         "Open": "25576.1403590909",
         "Volume": "3070506495.4545455",
         "_deepnote_index_column": "January"
        },
        {
         "Adj Close": "23847.546772631573",
         "Close": "23847.546772631573",
         "High": "24103.78906263158",
         "Low": "23586.759457894736",
         "Open": "23876.49527105263",
         "Volume": "2225152542.105263",
         "_deepnote_index_column": "February"
        },
        {
         "Adj Close": "22560.54882894737",
         "Close": "22560.54882894737",
         "High": "22825.850535263155",
         "Low": "22261.735814736843",
         "Open": "22594.92526789473",
         "Volume": "2601644368.4210525",
         "_deepnote_index_column": "March"
        },
        {
         "Adj Close": "24596.926525714287",
         "Close": "24596.926525714287",
         "High": "24777.395182857144",
         "Low": "24403.66676",
         "Open": "24608.502325238092",
         "Volume": "2360510452.3809524",
         "_deepnote_index_column": "April"
        },
        {
         "Adj Close": "25236.711426",
         "Close": "25236.711426",
         "High": "25431.831249499995",
         "Low": "25042.19209",
         "Open": "25292.243262499993",
         "Volume": "1968865905.0",
         "_deepnote_index_column": "May"
        },
        {
         "Adj Close": "23183.498828999996",
         "Close": "23183.498828999996",
         "High": "23401.861035",
         "Low": "23038.578906",
         "Open": "23206.8698245",
         "Volume": "1868362035.0",
         "_deepnote_index_column": "June"
        },
        {
         "Adj Close": "22078.589755454545",
         "Close": "22078.589755454545",
         "High": "22258.997691818182",
         "Low": "21906.61301454545",
         "Open": "22088.403942272726",
         "Volume": "2053009263.6363637",
         "_deepnote_index_column": "July"
        },
        {
         "Adj Close": "21434.85423578947",
         "Close": "21434.85423578947",
         "High": "21691.237459473687",
         "Low": "21236.333779473684",
         "Open": "21486.547287368423",
         "Volume": "1836206968.4210527",
         "_deepnote_index_column": "August"
        },
        {
         "Adj Close": "19369.610027142855",
         "Close": "19369.610027142855",
         "High": "19645.48149142857",
         "Low": "19079.34221619048",
         "Open": "19454.927733333334",
         "Volume": "2950194409.5238094",
         "_deepnote_index_column": "September"
        },
        {
         "Adj Close": "14924.740467142858",
         "Close": "14924.740467142858",
         "High": "15347.115188095237",
         "Low": "14501.354306666668",
         "Open": "14952.21819142857",
         "Volume": "3728888466.6666665",
         "_deepnote_index_column": "October"
        }
       ]
      },
      "text/html": [
       "<div>\n",
       "<style scoped>\n",
       "    .dataframe tbody tr th:only-of-type {\n",
       "        vertical-align: middle;\n",
       "    }\n",
       "\n",
       "    .dataframe tbody tr th {\n",
       "        vertical-align: top;\n",
       "    }\n",
       "\n",
       "    .dataframe thead th {\n",
       "        text-align: right;\n",
       "    }\n",
       "</style>\n",
       "<table border=\"1\" class=\"dataframe\">\n",
       "  <thead>\n",
       "    <tr style=\"text-align: right;\">\n",
       "      <th></th>\n",
       "      <th>Open</th>\n",
       "      <th>High</th>\n",
       "      <th>Low</th>\n",
       "      <th>Close</th>\n",
       "      <th>Adj Close</th>\n",
       "      <th>Volume</th>\n",
       "    </tr>\n",
       "    <tr>\n",
       "      <th>Month</th>\n",
       "      <th></th>\n",
       "      <th></th>\n",
       "      <th></th>\n",
       "      <th></th>\n",
       "      <th></th>\n",
       "      <th></th>\n",
       "    </tr>\n",
       "  </thead>\n",
       "  <tbody>\n",
       "    <tr>\n",
       "      <th>January</th>\n",
       "      <td>25576.140359</td>\n",
       "      <td>25891.002664</td>\n",
       "      <td>25035.877931</td>\n",
       "      <td>25401.379350</td>\n",
       "      <td>25401.379350</td>\n",
       "      <td>3.070506e+09</td>\n",
       "    </tr>\n",
       "    <tr>\n",
       "      <th>February</th>\n",
       "      <td>23876.495271</td>\n",
       "      <td>24103.789063</td>\n",
       "      <td>23586.759458</td>\n",
       "      <td>23847.546773</td>\n",
       "      <td>23847.546773</td>\n",
       "      <td>2.225153e+09</td>\n",
       "    </tr>\n",
       "    <tr>\n",
       "      <th>March</th>\n",
       "      <td>22594.925268</td>\n",
       "      <td>22825.850535</td>\n",
       "      <td>22261.735815</td>\n",
       "      <td>22560.548829</td>\n",
       "      <td>22560.548829</td>\n",
       "      <td>2.601644e+09</td>\n",
       "    </tr>\n",
       "    <tr>\n",
       "      <th>April</th>\n",
       "      <td>24608.502325</td>\n",
       "      <td>24777.395183</td>\n",
       "      <td>24403.666760</td>\n",
       "      <td>24596.926526</td>\n",
       "      <td>24596.926526</td>\n",
       "      <td>2.360510e+09</td>\n",
       "    </tr>\n",
       "    <tr>\n",
       "      <th>May</th>\n",
       "      <td>25292.243262</td>\n",
       "      <td>25431.831249</td>\n",
       "      <td>25042.192090</td>\n",
       "      <td>25236.711426</td>\n",
       "      <td>25236.711426</td>\n",
       "      <td>1.968866e+09</td>\n",
       "    </tr>\n",
       "    <tr>\n",
       "      <th>June</th>\n",
       "      <td>23206.869825</td>\n",
       "      <td>23401.861035</td>\n",
       "      <td>23038.578906</td>\n",
       "      <td>23183.498829</td>\n",
       "      <td>23183.498829</td>\n",
       "      <td>1.868362e+09</td>\n",
       "    </tr>\n",
       "    <tr>\n",
       "      <th>July</th>\n",
       "      <td>22088.403942</td>\n",
       "      <td>22258.997692</td>\n",
       "      <td>21906.613015</td>\n",
       "      <td>22078.589755</td>\n",
       "      <td>22078.589755</td>\n",
       "      <td>2.053009e+09</td>\n",
       "    </tr>\n",
       "    <tr>\n",
       "      <th>August</th>\n",
       "      <td>21486.547287</td>\n",
       "      <td>21691.237459</td>\n",
       "      <td>21236.333779</td>\n",
       "      <td>21434.854236</td>\n",
       "      <td>21434.854236</td>\n",
       "      <td>1.836207e+09</td>\n",
       "    </tr>\n",
       "    <tr>\n",
       "      <th>September</th>\n",
       "      <td>19454.927733</td>\n",
       "      <td>19645.481491</td>\n",
       "      <td>19079.342216</td>\n",
       "      <td>19369.610027</td>\n",
       "      <td>19369.610027</td>\n",
       "      <td>2.950194e+09</td>\n",
       "    </tr>\n",
       "    <tr>\n",
       "      <th>October</th>\n",
       "      <td>14952.218191</td>\n",
       "      <td>15347.115188</td>\n",
       "      <td>14501.354307</td>\n",
       "      <td>14924.740467</td>\n",
       "      <td>14924.740467</td>\n",
       "      <td>3.728888e+09</td>\n",
       "    </tr>\n",
       "    <tr>\n",
       "      <th>November</th>\n",
       "      <td>13544.692481</td>\n",
       "      <td>13854.303028</td>\n",
       "      <td>13281.539013</td>\n",
       "      <td>13572.811964</td>\n",
       "      <td>13572.811964</td>\n",
       "      <td>2.527160e+09</td>\n",
       "    </tr>\n",
       "    <tr>\n",
       "      <th>December</th>\n",
       "      <td>14588.742839</td>\n",
       "      <td>14802.577615</td>\n",
       "      <td>14370.430571</td>\n",
       "      <td>14592.815198</td>\n",
       "      <td>14592.815198</td>\n",
       "      <td>1.962145e+09</td>\n",
       "    </tr>\n",
       "  </tbody>\n",
       "</table>\n",
       "</div>"
      ],
      "text/plain": [
       "                   Open          High           Low         Close  \\\n",
       "Month                                                               \n",
       "January    25576.140359  25891.002664  25035.877931  25401.379350   \n",
       "February   23876.495271  24103.789063  23586.759458  23847.546773   \n",
       "March      22594.925268  22825.850535  22261.735815  22560.548829   \n",
       "April      24608.502325  24777.395183  24403.666760  24596.926526   \n",
       "May        25292.243262  25431.831249  25042.192090  25236.711426   \n",
       "June       23206.869825  23401.861035  23038.578906  23183.498829   \n",
       "July       22088.403942  22258.997692  21906.613015  22078.589755   \n",
       "August     21486.547287  21691.237459  21236.333779  21434.854236   \n",
       "September  19454.927733  19645.481491  19079.342216  19369.610027   \n",
       "October    14952.218191  15347.115188  14501.354307  14924.740467   \n",
       "November   13544.692481  13854.303028  13281.539013  13572.811964   \n",
       "December   14588.742839  14802.577615  14370.430571  14592.815198   \n",
       "\n",
       "              Adj Close        Volume  \n",
       "Month                                  \n",
       "January    25401.379350  3.070506e+09  \n",
       "February   23847.546773  2.225153e+09  \n",
       "March      22560.548829  2.601644e+09  \n",
       "April      24596.926526  2.360510e+09  \n",
       "May        25236.711426  1.968866e+09  \n",
       "June       23183.498829  1.868362e+09  \n",
       "July       22078.589755  2.053009e+09  \n",
       "August     21434.854236  1.836207e+09  \n",
       "September  19369.610027  2.950194e+09  \n",
       "October    14924.740467  3.728888e+09  \n",
       "November   13572.811964  2.527160e+09  \n",
       "December   14592.815198  1.962145e+09  "
      ]
     },
     "execution_count": 27,
     "metadata": {},
     "output_type": "execute_result"
    }
   ],
   "source": [
    "df_sub.groupby(\"Month\", sort=False).mean()"
   ]
  },
  {
   "cell_type": "markdown",
   "metadata": {
    "cell_id": "b560a187cd7a461093c4626f71880a5c",
    "deepnote_cell_type": "markdown",
    "tags": []
   },
   "source": [
    "* Call the following code, replacing `???` with appropriate values.  What information is this conveying?\n",
    "\n",
    "```\n",
    "for gp, df_mini in df_sub.groupby(\"Month\"):\n",
    "    print(???\"The month is {gp} and the number of rows is ???.\")\n",
    "```"
   ]
  },
  {
   "cell_type": "markdown",
   "metadata": {},
   "source": [
    "We just raced through this example, but I hope it gives a hint of what happens when you iterate over a pandas GroupBy object.  The value I call `df_mini` is the sub-DataFrame corresponding to a particular value (a particular value of \"Month\" in this case).  For example, because February is the shortest month, there are the fewest rows for the February mini DataFrame."
   ]
  },
  {
   "cell_type": "code",
   "execution_count": 28,
   "metadata": {
    "cell_id": "6b98552074254416b5cc100435d613ca",
    "deepnote_cell_type": "code",
    "deepnote_to_be_reexecuted": false,
    "execution_millis": 724,
    "execution_start": 1664991141360,
    "source_hash": "3e79fd9f",
    "tags": []
   },
   "outputs": [
    {
     "name": "stdout",
     "output_type": "stream",
     "text": [
      "The month is April and the number of rows is 21.\n",
      "The month is August and the number of rows is 21.\n",
      "The month is December and the number of rows is 21.\n",
      "The month is February and the number of rows is 19.\n",
      "The month is January and the number of rows is 22.\n",
      "The month is July and the number of rows is 22.\n",
      "The month is June and the number of rows is 20.\n",
      "The month is March and the number of rows is 19.\n",
      "The month is May and the number of rows is 20.\n",
      "The month is November and the number of rows is 20.\n",
      "The month is October and the number of rows is 21.\n",
      "The month is September and the number of rows is 21.\n"
     ]
    }
   ],
   "source": [
    "for gp, df_mini in df_sub.groupby(\"Month\"):\n",
    "    print(f\"The month is {gp} and the number of rows is {df_mini.shape[0]}.\")"
   ]
  }
 ],
 "metadata": {
  "deepnote": {},
  "deepnote_execution_queue": [],
  "deepnote_notebook_id": "4abb1abef0dd4a8ab818cd72ea4daa9b",
  "kernelspec": {
   "display_name": "Python 3 (ipykernel)",
   "language": "python",
   "name": "python3"
  },
  "language_info": {
   "codemirror_mode": {
    "name": "ipython",
    "version": 3
   },
   "file_extension": ".py",
   "mimetype": "text/x-python",
   "name": "python",
   "nbconvert_exporter": "python",
   "pygments_lexer": "ipython3",
   "version": "3.9.13"
  }
 },
 "nbformat": 4,
 "nbformat_minor": 4
}
