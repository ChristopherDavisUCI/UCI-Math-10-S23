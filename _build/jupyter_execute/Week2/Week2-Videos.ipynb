{
 "cells": [
  {
   "cell_type": "markdown",
   "metadata": {
    "cell_id": "319d81d7f4984635970b58cc12af2d9d",
    "deepnote_cell_type": "markdown",
    "tags": []
   },
   "source": [
    "# Week 2 Videos"
   ]
  },
  {
   "cell_type": "markdown",
   "metadata": {
    "cell_id": "ef1c1db7ff3946bda0bcc8c1a5c94c34",
    "deepnote_cell_type": "markdown",
    "tags": []
   },
   "source": [
    "## List comprehension, Part 1\n",
    "\n",
    "<iframe width=\"560\" height=\"315\" src=\"https://www.youtube.com/embed/AkONyYV3DHY\" title=\"YouTube video player\" frameborder=\"0\" allow=\"accelerometer; autoplay; clipboard-write; encrypted-media; gyroscope; picture-in-picture\" allowfullscreen></iframe>"
   ]
  },
  {
   "cell_type": "markdown",
   "metadata": {
    "cell_id": "f668cd378dc0427cb799716480e4f8e2",
    "deepnote_cell_type": "markdown",
    "tags": []
   },
   "source": [
    "* Make a length 8 list of all 6s using list comprehension."
   ]
  },
  {
   "cell_type": "code",
   "execution_count": null,
   "metadata": {
    "cell_id": "be32c38691ca4e83809d1e866d62a19f",
    "deepnote_cell_type": "code",
    "deepnote_to_be_reexecuted": false,
    "execution_millis": 3,
    "execution_start": 1664631274290,
    "source_hash": "e7d829c8",
    "tags": []
   },
   "outputs": [
    {
     "data": {
      "text/plain": [
       "[6, 6, 6, 6, 6, 6, 6, 6]"
      ]
     },
     "execution_count": 3,
     "metadata": {},
     "output_type": "execute_result"
    }
   ],
   "source": [
    "mylist = []\n",
    "\n",
    "for i in range(8):\n",
    "    mylist.append(6)\n",
    "\n",
    "mylist"
   ]
  },
  {
   "cell_type": "code",
   "execution_count": null,
   "metadata": {
    "cell_id": "d2e593abf0fd43cba142468504aef006",
    "deepnote_cell_type": "code",
    "deepnote_to_be_reexecuted": false,
    "execution_millis": 507,
    "execution_start": 1664631340424,
    "source_hash": "790c3a70",
    "tags": []
   },
   "outputs": [
    {
     "data": {
      "text/plain": [
       "[6, 6, 6, 6, 6, 6, 6, 6]"
      ]
     },
     "execution_count": 4,
     "metadata": {},
     "output_type": "execute_result"
    }
   ],
   "source": [
    "[6 for i in range(8)]"
   ]
  },
  {
   "cell_type": "markdown",
   "metadata": {
    "cell_id": "05aa0b09971440a483182547f3108a97",
    "deepnote_cell_type": "markdown",
    "tags": []
   },
   "source": [
    "* Let `mylist = [3,1,-2,10,-5,3,6,2,8]`. Square each element in `mylist`."
   ]
  },
  {
   "cell_type": "code",
   "execution_count": null,
   "metadata": {
    "cell_id": "bc073cc5aa5749fb8fd44147fecc1434",
    "deepnote_cell_type": "code",
    "deepnote_to_be_reexecuted": false,
    "execution_millis": 2,
    "execution_start": 1664631366421,
    "source_hash": "50c009c7",
    "tags": []
   },
   "outputs": [],
   "source": [
    "mylist = [3,1,-2,10,-5,3,6,2,8]"
   ]
  },
  {
   "cell_type": "code",
   "execution_count": null,
   "metadata": {
    "cell_id": "33a1ec512833421f88c5fef1f847bd0d",
    "deepnote_cell_type": "code",
    "deepnote_to_be_reexecuted": false,
    "execution_millis": 4,
    "execution_start": 1664631423455,
    "source_hash": "1429991b",
    "tags": []
   },
   "outputs": [
    {
     "data": {
      "text/plain": [
       "[9, 1, 4, 100, 25, 9, 36, 4, 64]"
      ]
     },
     "execution_count": 6,
     "metadata": {},
     "output_type": "execute_result"
    }
   ],
   "source": [
    "[x**2 for x in mylist]"
   ]
  },
  {
   "cell_type": "markdown",
   "metadata": {
    "cell_id": "3ddff1af95a84e4bb068c9d2d6b4f35c",
    "deepnote_cell_type": "markdown",
    "tags": []
   },
   "source": [
    "* Get the sublist of `mylist` containing only those numbers $x$ satisfying $-2 < x \\leq 3$."
   ]
  },
  {
   "cell_type": "code",
   "execution_count": null,
   "metadata": {
    "cell_id": "ccc566874dc34700901f285445ed02c6",
    "deepnote_cell_type": "code",
    "deepnote_to_be_reexecuted": false,
    "execution_millis": 416,
    "execution_start": 1664631538957,
    "source_hash": "49b59c0",
    "tags": []
   },
   "outputs": [
    {
     "data": {
      "text/plain": [
       "[3, 1, 3, 2]"
      ]
     },
     "execution_count": 8,
     "metadata": {},
     "output_type": "execute_result"
    }
   ],
   "source": [
    "[x for x in mylist if (x > -2) and (x <= 3)]"
   ]
  },
  {
   "cell_type": "markdown",
   "metadata": {
    "cell_id": "d6ad9a302d0949cc91bb12ad837aa8ca",
    "deepnote_cell_type": "markdown",
    "tags": []
   },
   "source": [
    "* Replace each negative number in `mylist` with 0."
   ]
  },
  {
   "cell_type": "code",
   "execution_count": null,
   "metadata": {
    "cell_id": "1ace9ccb3ebc49e7afcb1fe7b9657260",
    "deepnote_cell_type": "code",
    "deepnote_to_be_reexecuted": false,
    "execution_millis": 469,
    "execution_start": 1664631618782,
    "source_hash": "5a068ee9",
    "tags": []
   },
   "outputs": [
    {
     "data": {
      "text/plain": [
       "[3, 1, 0, 10, 0, 3, 6, 2, 8]"
      ]
     },
     "execution_count": 10,
     "metadata": {},
     "output_type": "execute_result"
    }
   ],
   "source": [
    "[0 if x < 0 else x for x in mylist]"
   ]
  },
  {
   "cell_type": "markdown",
   "metadata": {
    "cell_id": "9b7d1d5a587e486f9ebf352c47a0d651",
    "deepnote_cell_type": "markdown",
    "tags": []
   },
   "source": [
    "## List comprehension, Part 2\n",
    "\n",
    "<iframe width=\"560\" height=\"315\" src=\"https://www.youtube.com/embed/-Ip7YkfUFAI\" title=\"YouTube video player\" frameborder=\"0\" allow=\"accelerometer; autoplay; clipboard-write; encrypted-media; gyroscope; picture-in-picture\" allowfullscreen></iframe>"
   ]
  },
  {
   "cell_type": "markdown",
   "metadata": {
    "cell_id": "8f8d7da48a5e42fe9af87dc580843326",
    "deepnote_cell_type": "markdown",
    "tags": []
   },
   "source": [
    "* Make the length-8 list of lists `[[0,1,2], [0,1,2], ..., [0,1,2]]`, then convert it to a pandas DataFrame."
   ]
  },
  {
   "cell_type": "code",
   "execution_count": null,
   "metadata": {
    "cell_id": "145a469a39f04d0c959a4184d854b38b",
    "deepnote_cell_type": "code",
    "deepnote_to_be_reexecuted": false,
    "execution_millis": 7,
    "execution_start": 1664632310988,
    "source_hash": "492a3c28",
    "tags": []
   },
   "outputs": [
    {
     "data": {
      "text/plain": [
       "[[0, 1, 2],\n",
       " [0, 1, 2],\n",
       " [0, 1, 2],\n",
       " [0, 1, 2],\n",
       " [0, 1, 2],\n",
       " [0, 1, 2],\n",
       " [0, 1, 2],\n",
       " [0, 1, 2]]"
      ]
     },
     "execution_count": 18,
     "metadata": {},
     "output_type": "execute_result"
    }
   ],
   "source": [
    "mylist = [[0,1,2] for _ in range(8)]\n",
    "mylist"
   ]
  },
  {
   "cell_type": "code",
   "execution_count": null,
   "metadata": {
    "cell_id": "a0fa9473fce944b0bc6d368e0942ae05",
    "deepnote_cell_type": "code",
    "deepnote_to_be_reexecuted": false,
    "execution_millis": 4,
    "execution_start": 1664632340022,
    "source_hash": "9b82ee11",
    "tags": []
   },
   "outputs": [],
   "source": [
    "import pandas as pd"
   ]
  },
  {
   "cell_type": "code",
   "execution_count": null,
   "metadata": {
    "cell_id": "653c46f0734a420a928e44a8f19d8ce6",
    "deepnote_cell_type": "code",
    "deepnote_to_be_reexecuted": false,
    "execution_millis": 9,
    "execution_start": 1664632345810,
    "source_hash": "6a04a0c9",
    "tags": []
   },
   "outputs": [
    {
     "data": {
      "application/vnd.deepnote.dataframe.v3+json": {
       "column_count": 3,
       "columns": [
        {
         "dtype": "int64",
         "name": 0,
         "stats": {
          "histogram": [
           {
            "bin_end": -0.4,
            "bin_start": -0.5,
            "count": 0
           },
           {
            "bin_end": -0.3,
            "bin_start": -0.4,
            "count": 0
           },
           {
            "bin_end": -0.19999999999999996,
            "bin_start": -0.3,
            "count": 0
           },
           {
            "bin_end": -0.09999999999999998,
            "bin_start": -0.19999999999999996,
            "count": 0
           },
           {
            "bin_end": 0,
            "bin_start": -0.09999999999999998,
            "count": 0
           },
           {
            "bin_end": 0.10000000000000009,
            "bin_start": 0,
            "count": 8
           },
           {
            "bin_end": 0.20000000000000007,
            "bin_start": 0.10000000000000009,
            "count": 0
           },
           {
            "bin_end": 0.30000000000000004,
            "bin_start": 0.20000000000000007,
            "count": 0
           },
           {
            "bin_end": 0.4,
            "bin_start": 0.30000000000000004,
            "count": 0
           },
           {
            "bin_end": 0.5,
            "bin_start": 0.4,
            "count": 0
           }
          ],
          "max": "0",
          "min": "0",
          "nan_count": 0,
          "unique_count": 1
         }
        },
        {
         "dtype": "int64",
         "name": 1,
         "stats": {
          "histogram": [
           {
            "bin_end": 0.6,
            "bin_start": 0.5,
            "count": 0
           },
           {
            "bin_end": 0.7,
            "bin_start": 0.6,
            "count": 0
           },
           {
            "bin_end": 0.8,
            "bin_start": 0.7,
            "count": 0
           },
           {
            "bin_end": 0.9,
            "bin_start": 0.8,
            "count": 0
           },
           {
            "bin_end": 1,
            "bin_start": 0.9,
            "count": 0
           },
           {
            "bin_end": 1.1,
            "bin_start": 1,
            "count": 8
           },
           {
            "bin_end": 1.2000000000000002,
            "bin_start": 1.1,
            "count": 0
           },
           {
            "bin_end": 1.3,
            "bin_start": 1.2000000000000002,
            "count": 0
           },
           {
            "bin_end": 1.4,
            "bin_start": 1.3,
            "count": 0
           },
           {
            "bin_end": 1.5,
            "bin_start": 1.4,
            "count": 0
           }
          ],
          "max": "1",
          "min": "1",
          "nan_count": 0,
          "unique_count": 1
         }
        },
        {
         "dtype": "int64",
         "name": 2,
         "stats": {
          "histogram": [
           {
            "bin_end": 1.6,
            "bin_start": 1.5,
            "count": 0
           },
           {
            "bin_end": 1.7,
            "bin_start": 1.6,
            "count": 0
           },
           {
            "bin_end": 1.8,
            "bin_start": 1.7,
            "count": 0
           },
           {
            "bin_end": 1.9,
            "bin_start": 1.8,
            "count": 0
           },
           {
            "bin_end": 2,
            "bin_start": 1.9,
            "count": 0
           },
           {
            "bin_end": 2.1,
            "bin_start": 2,
            "count": 8
           },
           {
            "bin_end": 2.2,
            "bin_start": 2.1,
            "count": 0
           },
           {
            "bin_end": 2.3,
            "bin_start": 2.2,
            "count": 0
           },
           {
            "bin_end": 2.4,
            "bin_start": 2.3,
            "count": 0
           },
           {
            "bin_end": 2.5,
            "bin_start": 2.4,
            "count": 0
           }
          ],
          "max": "2",
          "min": "2",
          "nan_count": 0,
          "unique_count": 1
         }
        },
        {
         "dtype": "int64",
         "name": "_deepnote_index_column"
        }
       ],
       "row_count": 8,
       "rows": [
        {
         "0": "0",
         "1": "1",
         "2": "2",
         "_deepnote_index_column": "0"
        },
        {
         "0": "0",
         "1": "1",
         "2": "2",
         "_deepnote_index_column": "1"
        },
        {
         "0": "0",
         "1": "1",
         "2": "2",
         "_deepnote_index_column": "2"
        },
        {
         "0": "0",
         "1": "1",
         "2": "2",
         "_deepnote_index_column": "3"
        },
        {
         "0": "0",
         "1": "1",
         "2": "2",
         "_deepnote_index_column": "4"
        },
        {
         "0": "0",
         "1": "1",
         "2": "2",
         "_deepnote_index_column": "5"
        },
        {
         "0": "0",
         "1": "1",
         "2": "2",
         "_deepnote_index_column": "6"
        },
        {
         "0": "0",
         "1": "1",
         "2": "2",
         "_deepnote_index_column": "7"
        }
       ]
      },
      "text/html": [
       "<div>\n",
       "<style scoped>\n",
       "    .dataframe tbody tr th:only-of-type {\n",
       "        vertical-align: middle;\n",
       "    }\n",
       "\n",
       "    .dataframe tbody tr th {\n",
       "        vertical-align: top;\n",
       "    }\n",
       "\n",
       "    .dataframe thead th {\n",
       "        text-align: right;\n",
       "    }\n",
       "</style>\n",
       "<table border=\"1\" class=\"dataframe\">\n",
       "  <thead>\n",
       "    <tr style=\"text-align: right;\">\n",
       "      <th></th>\n",
       "      <th>0</th>\n",
       "      <th>1</th>\n",
       "      <th>2</th>\n",
       "    </tr>\n",
       "  </thead>\n",
       "  <tbody>\n",
       "    <tr>\n",
       "      <th>0</th>\n",
       "      <td>0</td>\n",
       "      <td>1</td>\n",
       "      <td>2</td>\n",
       "    </tr>\n",
       "    <tr>\n",
       "      <th>1</th>\n",
       "      <td>0</td>\n",
       "      <td>1</td>\n",
       "      <td>2</td>\n",
       "    </tr>\n",
       "    <tr>\n",
       "      <th>2</th>\n",
       "      <td>0</td>\n",
       "      <td>1</td>\n",
       "      <td>2</td>\n",
       "    </tr>\n",
       "    <tr>\n",
       "      <th>3</th>\n",
       "      <td>0</td>\n",
       "      <td>1</td>\n",
       "      <td>2</td>\n",
       "    </tr>\n",
       "    <tr>\n",
       "      <th>4</th>\n",
       "      <td>0</td>\n",
       "      <td>1</td>\n",
       "      <td>2</td>\n",
       "    </tr>\n",
       "    <tr>\n",
       "      <th>5</th>\n",
       "      <td>0</td>\n",
       "      <td>1</td>\n",
       "      <td>2</td>\n",
       "    </tr>\n",
       "    <tr>\n",
       "      <th>6</th>\n",
       "      <td>0</td>\n",
       "      <td>1</td>\n",
       "      <td>2</td>\n",
       "    </tr>\n",
       "    <tr>\n",
       "      <th>7</th>\n",
       "      <td>0</td>\n",
       "      <td>1</td>\n",
       "      <td>2</td>\n",
       "    </tr>\n",
       "  </tbody>\n",
       "</table>\n",
       "</div>"
      ],
      "text/plain": [
       "   0  1  2\n",
       "0  0  1  2\n",
       "1  0  1  2\n",
       "2  0  1  2\n",
       "3  0  1  2\n",
       "4  0  1  2\n",
       "5  0  1  2\n",
       "6  0  1  2\n",
       "7  0  1  2"
      ]
     },
     "execution_count": 20,
     "metadata": {},
     "output_type": "execute_result"
    }
   ],
   "source": [
    "pd.DataFrame(mylist)"
   ]
  },
  {
   "cell_type": "markdown",
   "metadata": {
    "cell_id": "4383fa4ca22e4862a0cb1660ec49c0cd",
    "deepnote_cell_type": "markdown",
    "tags": []
   },
   "source": [
    "* Make the length-24 list `[0,1,2,0,1,2,...,0,1,2]`."
   ]
  },
  {
   "cell_type": "code",
   "execution_count": null,
   "metadata": {
    "cell_id": "b40a6df546af4276addfd879b4a04358",
    "deepnote_cell_type": "code",
    "deepnote_to_be_reexecuted": false,
    "execution_millis": 5,
    "execution_start": 1664632439879,
    "source_hash": "588fc844",
    "tags": []
   },
   "outputs": [
    {
     "data": {
      "text/plain": [
       "[0, 1, 2, 0, 1, 2, 0, 1, 2, 0, 1, 2, 0, 1, 2, 0, 1, 2, 0, 1, 2, 0, 1, 2]"
      ]
     },
     "execution_count": 21,
     "metadata": {},
     "output_type": "execute_result"
    }
   ],
   "source": [
    "mylist = []\n",
    "\n",
    "for i in range(8):\n",
    "    for j in range(3):\n",
    "        mylist.append(j)\n",
    "\n",
    "mylist"
   ]
  },
  {
   "cell_type": "code",
   "execution_count": null,
   "metadata": {
    "cell_id": "45cbb2236d984c758c02561f5e7979c3",
    "deepnote_cell_type": "code",
    "deepnote_to_be_reexecuted": false,
    "execution_millis": 824,
    "execution_start": 1664632506302,
    "source_hash": "5ec1d6bb",
    "tags": []
   },
   "outputs": [
    {
     "data": {
      "text/plain": [
       "[0, 1, 2, 0, 1, 2, 0, 1, 2, 0, 1, 2, 0, 1, 2, 0, 1, 2, 0, 1, 2, 0, 1, 2]"
      ]
     },
     "execution_count": 22,
     "metadata": {},
     "output_type": "execute_result"
    }
   ],
   "source": [
    "[j for i in range(8) for j in range(3)]"
   ]
  },
  {
   "cell_type": "markdown",
   "metadata": {
    "cell_id": "7805742788c24d1b8ac21d77333044c9",
    "deepnote_cell_type": "markdown",
    "tags": []
   },
   "source": [
    "* Capitalize each word in the Math 10 course catalogue description:\n",
    "> Introduction to Python for data science. Selecting appropriate data types; functions and methods; plotting; the libraries NumPy, pandas, scikit-learn. Foundations of machine learning."
   ]
  },
  {
   "cell_type": "code",
   "execution_count": null,
   "metadata": {
    "cell_id": "9f85c59e73b74b0387ada4d79a11241e",
    "deepnote_cell_type": "code",
    "deepnote_to_be_reexecuted": false,
    "execution_millis": 5,
    "execution_start": 1664632557817,
    "source_hash": "18e870c4",
    "tags": []
   },
   "outputs": [
    {
     "ename": "SyntaxError",
     "evalue": "EOL while scanning string literal (727374726.py, line 1)",
     "output_type": "error",
     "traceback": [
      "\u001b[0;36m  Cell \u001b[0;32mIn [23], line 1\u001b[0;36m\u001b[0m\n\u001b[0;31m    desc = \"Introduction to Python for data science. Selecting appropriate data types; functions and methods; plotting;\u001b[0m\n\u001b[0m                                                                                                                       ^\u001b[0m\n\u001b[0;31mSyntaxError\u001b[0m\u001b[0;31m:\u001b[0m EOL while scanning string literal\n"
     ]
    }
   ],
   "source": [
    "desc = \"Introduction to Python for data science. Selecting appropriate data types; functions and methods; plotting;\n",
    "the libraries NumPy, pandas, scikit-learn. Foundations of machine learning.\""
   ]
  },
  {
   "cell_type": "code",
   "execution_count": null,
   "metadata": {
    "cell_id": "1f06f55c2d594c698a9b69304e6f0766",
    "deepnote_cell_type": "code",
    "deepnote_to_be_reexecuted": false,
    "execution_millis": 2,
    "execution_start": 1664632569644,
    "source_hash": "8a06c3b0",
    "tags": []
   },
   "outputs": [],
   "source": [
    "desc = '''Introduction to Python for data science. Selecting appropriate data types; functions and methods; plotting;\n",
    "the libraries NumPy, pandas, scikit-learn. Foundations of machine learning.'''"
   ]
  },
  {
   "cell_type": "code",
   "execution_count": null,
   "metadata": {
    "cell_id": "4602bb3b23724a269608b8aec36a2cfa",
    "deepnote_cell_type": "code",
    "deepnote_to_be_reexecuted": false,
    "execution_millis": 55,
    "execution_start": 1664632586636,
    "source_hash": "40b3e73e",
    "tags": []
   },
   "outputs": [
    {
     "data": {
      "text/plain": [
       "['I',\n",
       " 'n',\n",
       " 't',\n",
       " 'r',\n",
       " 'o',\n",
       " 'd',\n",
       " 'u',\n",
       " 'c',\n",
       " 't',\n",
       " 'i',\n",
       " 'o',\n",
       " 'n',\n",
       " ' ',\n",
       " 't',\n",
       " 'o',\n",
       " ' ',\n",
       " 'P',\n",
       " 'y',\n",
       " 't',\n",
       " 'h',\n",
       " 'o',\n",
       " 'n',\n",
       " ' ',\n",
       " 'f',\n",
       " 'o',\n",
       " 'r',\n",
       " ' ',\n",
       " 'd',\n",
       " 'a',\n",
       " 't',\n",
       " 'a',\n",
       " ' ',\n",
       " 's',\n",
       " 'c',\n",
       " 'i',\n",
       " 'e',\n",
       " 'n',\n",
       " 'c',\n",
       " 'e',\n",
       " '.',\n",
       " ' ',\n",
       " 'S',\n",
       " 'e',\n",
       " 'l',\n",
       " 'e',\n",
       " 'c',\n",
       " 't',\n",
       " 'i',\n",
       " 'n',\n",
       " 'g',\n",
       " ' ',\n",
       " 'a',\n",
       " 'p',\n",
       " 'p',\n",
       " 'r',\n",
       " 'o',\n",
       " 'p',\n",
       " 'r',\n",
       " 'i',\n",
       " 'a',\n",
       " 't',\n",
       " 'e',\n",
       " ' ',\n",
       " 'd',\n",
       " 'a',\n",
       " 't',\n",
       " 'a',\n",
       " ' ',\n",
       " 't',\n",
       " 'y',\n",
       " 'p',\n",
       " 'e',\n",
       " 's',\n",
       " ';',\n",
       " ' ',\n",
       " 'f',\n",
       " 'u',\n",
       " 'n',\n",
       " 'c',\n",
       " 't',\n",
       " 'i',\n",
       " 'o',\n",
       " 'n',\n",
       " 's',\n",
       " ' ',\n",
       " 'a',\n",
       " 'n',\n",
       " 'd',\n",
       " ' ',\n",
       " 'm',\n",
       " 'e',\n",
       " 't',\n",
       " 'h',\n",
       " 'o',\n",
       " 'd',\n",
       " 's',\n",
       " ';',\n",
       " ' ',\n",
       " 'p',\n",
       " 'l',\n",
       " 'o',\n",
       " 't',\n",
       " 't',\n",
       " 'i',\n",
       " 'n',\n",
       " 'g',\n",
       " ';',\n",
       " '\\n',\n",
       " 't',\n",
       " 'h',\n",
       " 'e',\n",
       " ' ',\n",
       " 'l',\n",
       " 'i',\n",
       " 'b',\n",
       " 'r',\n",
       " 'a',\n",
       " 'r',\n",
       " 'i',\n",
       " 'e',\n",
       " 's',\n",
       " ' ',\n",
       " 'N',\n",
       " 'u',\n",
       " 'm',\n",
       " 'P',\n",
       " 'y',\n",
       " ',',\n",
       " ' ',\n",
       " 'p',\n",
       " 'a',\n",
       " 'n',\n",
       " 'd',\n",
       " 'a',\n",
       " 's',\n",
       " ',',\n",
       " ' ',\n",
       " 's',\n",
       " 'c',\n",
       " 'i',\n",
       " 'k',\n",
       " 'i',\n",
       " 't',\n",
       " '-',\n",
       " 'l',\n",
       " 'e',\n",
       " 'a',\n",
       " 'r',\n",
       " 'n',\n",
       " '.',\n",
       " ' ',\n",
       " 'F',\n",
       " 'o',\n",
       " 'u',\n",
       " 'n',\n",
       " 'd',\n",
       " 'a',\n",
       " 't',\n",
       " 'i',\n",
       " 'o',\n",
       " 'n',\n",
       " 's',\n",
       " ' ',\n",
       " 'o',\n",
       " 'f',\n",
       " ' ',\n",
       " 'm',\n",
       " 'a',\n",
       " 'c',\n",
       " 'h',\n",
       " 'i',\n",
       " 'n',\n",
       " 'e',\n",
       " ' ',\n",
       " 'l',\n",
       " 'e',\n",
       " 'a',\n",
       " 'r',\n",
       " 'n',\n",
       " 'i',\n",
       " 'n',\n",
       " 'g',\n",
       " '.']"
      ]
     },
     "execution_count": 25,
     "metadata": {},
     "output_type": "execute_result"
    }
   ],
   "source": [
    "[c for c in desc]"
   ]
  },
  {
   "cell_type": "code",
   "execution_count": null,
   "metadata": {
    "cell_id": "db565f53e6674cdb8f65add46479301c",
    "deepnote_cell_type": "code",
    "deepnote_to_be_reexecuted": false,
    "execution_millis": 3,
    "execution_start": 1664632630145,
    "source_hash": "6739892f",
    "tags": []
   },
   "outputs": [
    {
     "data": {
      "text/plain": [
       "['Introduction',\n",
       " 'to',\n",
       " 'Python',\n",
       " 'for',\n",
       " 'data',\n",
       " 'science.',\n",
       " 'Selecting',\n",
       " 'appropriate',\n",
       " 'data',\n",
       " 'types;',\n",
       " 'functions',\n",
       " 'and',\n",
       " 'methods;',\n",
       " 'plotting;',\n",
       " 'the',\n",
       " 'libraries',\n",
       " 'NumPy,',\n",
       " 'pandas,',\n",
       " 'scikit-learn.',\n",
       " 'Foundations',\n",
       " 'of',\n",
       " 'machine',\n",
       " 'learning.']"
      ]
     },
     "execution_count": 26,
     "metadata": {},
     "output_type": "execute_result"
    }
   ],
   "source": [
    "desc.split()"
   ]
  },
  {
   "cell_type": "code",
   "execution_count": null,
   "metadata": {
    "cell_id": "58c5ecff67224029bb854845d7ab73d7",
    "deepnote_cell_type": "code",
    "deepnote_to_be_reexecuted": false,
    "execution_millis": 256,
    "execution_start": 1664632650585,
    "source_hash": "92d0b85a",
    "tags": []
   },
   "outputs": [
    {
     "data": {
      "text/plain": [
       "['Introduction',\n",
       " 'to',\n",
       " 'Python',\n",
       " 'for',\n",
       " 'data',\n",
       " 'science.',\n",
       " 'Selecting',\n",
       " 'appropriate',\n",
       " 'data',\n",
       " 'types;',\n",
       " 'functions',\n",
       " 'and',\n",
       " 'methods;',\n",
       " 'plotting;',\n",
       " 'the',\n",
       " 'libraries',\n",
       " 'NumPy,',\n",
       " 'pandas,',\n",
       " 'scikit-learn.',\n",
       " 'Foundations',\n",
       " 'of',\n",
       " 'machine',\n",
       " 'learning.']"
      ]
     },
     "execution_count": 27,
     "metadata": {},
     "output_type": "execute_result"
    }
   ],
   "source": [
    "[word for word in desc.split()]"
   ]
  },
  {
   "cell_type": "code",
   "execution_count": null,
   "metadata": {
    "cell_id": "071d1ccbee4e47999d7c8d3b19189dc9",
    "deepnote_cell_type": "code",
    "deepnote_to_be_reexecuted": false,
    "execution_millis": 4,
    "execution_start": 1664632663544,
    "source_hash": "fdff7d27",
    "tags": []
   },
   "outputs": [
    {
     "data": {
      "text/plain": [
       "['Introduction',\n",
       " 'To',\n",
       " 'Python',\n",
       " 'For',\n",
       " 'Data',\n",
       " 'Science.',\n",
       " 'Selecting',\n",
       " 'Appropriate',\n",
       " 'Data',\n",
       " 'Types;',\n",
       " 'Functions',\n",
       " 'And',\n",
       " 'Methods;',\n",
       " 'Plotting;',\n",
       " 'The',\n",
       " 'Libraries',\n",
       " 'Numpy,',\n",
       " 'Pandas,',\n",
       " 'Scikit-learn.',\n",
       " 'Foundations',\n",
       " 'Of',\n",
       " 'Machine',\n",
       " 'Learning.']"
      ]
     },
     "execution_count": 28,
     "metadata": {},
     "output_type": "execute_result"
    }
   ],
   "source": [
    "[word.capitalize() for word in desc.split()]"
   ]
  },
  {
   "cell_type": "code",
   "execution_count": null,
   "metadata": {
    "cell_id": "c23aa62d3cf64e2aa15d1e5eef9d2d01",
    "deepnote_cell_type": "code",
    "deepnote_to_be_reexecuted": false,
    "execution_millis": 196,
    "execution_start": 1664632696282,
    "source_hash": "678b24b3",
    "tags": []
   },
   "outputs": [
    {
     "data": {
      "text/plain": [
       "'IntroductionChristopherToChristopherPythonChristopherForChristopherDataChristopherScience.ChristopherSelectingChristopherAppropriateChristopherDataChristopherTypes;ChristopherFunctionsChristopherAndChristopherMethods;ChristopherPlotting;ChristopherTheChristopherLibrariesChristopherNumpy,ChristopherPandas,ChristopherScikit-learn.ChristopherFoundationsChristopherOfChristopherMachineChristopherLearning.'"
      ]
     },
     "execution_count": 29,
     "metadata": {},
     "output_type": "execute_result"
    }
   ],
   "source": [
    "'Christopher'.join([word.capitalize() for word in desc.split()])"
   ]
  },
  {
   "cell_type": "code",
   "execution_count": null,
   "metadata": {
    "cell_id": "578c899d412547eeabe9de8983ddfa91",
    "deepnote_cell_type": "code",
    "deepnote_to_be_reexecuted": false,
    "execution_millis": 8,
    "execution_start": 1664632722696,
    "source_hash": "1f917006",
    "tags": []
   },
   "outputs": [
    {
     "data": {
      "text/plain": [
       "'Introduction To Python For Data Science. Selecting Appropriate Data Types; Functions And Methods; Plotting; The Libraries Numpy, Pandas, Scikit-learn. Foundations Of Machine Learning.'"
      ]
     },
     "execution_count": 30,
     "metadata": {},
     "output_type": "execute_result"
    }
   ],
   "source": [
    "' '.join([word.capitalize() for word in desc.split()])"
   ]
  },
  {
   "cell_type": "markdown",
   "metadata": {
    "cell_id": "d3a16cc2ecd24c4f8af6de902c676396",
    "deepnote_cell_type": "markdown",
    "tags": []
   },
   "source": [
    "## List comprehension to get row labels\n",
    "\n",
    "<iframe width=\"560\" height=\"315\" src=\"https://www.youtube.com/embed/sYdRrbYYZy0\" title=\"YouTube video player\" frameborder=\"0\" allow=\"accelerometer; autoplay; clipboard-write; encrypted-media; gyroscope; picture-in-picture\" allowfullscreen></iframe>"
   ]
  },
  {
   "cell_type": "code",
   "execution_count": 1,
   "metadata": {
    "cell_id": "abf8e1fc55e946b188e53117ba03793a",
    "deepnote_cell_type": "code",
    "deepnote_to_be_reexecuted": false,
    "execution_millis": 1,
    "execution_start": 1664641519807,
    "source_hash": "430735d3",
    "tags": []
   },
   "outputs": [],
   "source": [
    "import pandas as pd\n",
    "df = pd.read_csv(\"spotify_dataset.csv\")"
   ]
  },
  {
   "cell_type": "code",
   "execution_count": 2,
   "metadata": {
    "cell_id": "3c8d1859665d44eb91c90fe4743c5500",
    "deepnote_cell_type": "code",
    "deepnote_to_be_reexecuted": false,
    "execution_millis": 69,
    "execution_start": 1664641564269,
    "source_hash": "c085b6ba",
    "tags": []
   },
   "outputs": [
    {
     "data": {
      "application/vnd.deepnote.dataframe.v3+json": {
       "column_count": 23,
       "columns": [
        {
         "dtype": "int64",
         "name": "Index",
         "stats": {
          "histogram": [
           {
            "bin_end": 1.4,
            "bin_start": 1,
            "count": 1
           },
           {
            "bin_end": 1.8,
            "bin_start": 1.4,
            "count": 0
           },
           {
            "bin_end": 2.2,
            "bin_start": 1.8,
            "count": 1
           },
           {
            "bin_end": 2.6,
            "bin_start": 2.2,
            "count": 0
           },
           {
            "bin_end": 3,
            "bin_start": 2.6,
            "count": 0
           },
           {
            "bin_end": 3.4000000000000004,
            "bin_start": 3,
            "count": 1
           },
           {
            "bin_end": 3.8000000000000003,
            "bin_start": 3.4000000000000004,
            "count": 0
           },
           {
            "bin_end": 4.2,
            "bin_start": 3.8000000000000003,
            "count": 1
           },
           {
            "bin_end": 4.6,
            "bin_start": 4.2,
            "count": 0
           },
           {
            "bin_end": 5,
            "bin_start": 4.6,
            "count": 1
           }
          ],
          "max": "5",
          "min": "1",
          "nan_count": 0,
          "unique_count": 5
         }
        },
        {
         "dtype": "int64",
         "name": "Highest Charting Position",
         "stats": {
          "histogram": [
           {
            "bin_end": 1.4,
            "bin_start": 1,
            "count": 2
           },
           {
            "bin_end": 1.8,
            "bin_start": 1.4,
            "count": 0
           },
           {
            "bin_end": 2.2,
            "bin_start": 1.8,
            "count": 1
           },
           {
            "bin_end": 2.6,
            "bin_start": 2.2,
            "count": 0
           },
           {
            "bin_end": 3,
            "bin_start": 2.6,
            "count": 0
           },
           {
            "bin_end": 3.4000000000000004,
            "bin_start": 3,
            "count": 1
           },
           {
            "bin_end": 3.8000000000000003,
            "bin_start": 3.4000000000000004,
            "count": 0
           },
           {
            "bin_end": 4.2,
            "bin_start": 3.8000000000000003,
            "count": 0
           },
           {
            "bin_end": 4.6,
            "bin_start": 4.2,
            "count": 0
           },
           {
            "bin_end": 5,
            "bin_start": 4.6,
            "count": 1
           }
          ],
          "max": "5",
          "min": "1",
          "nan_count": 0,
          "unique_count": 4
         }
        },
        {
         "dtype": "int64",
         "name": "Number of Times Charted",
         "stats": {
          "histogram": [
           {
            "bin_end": 2,
            "bin_start": 1,
            "count": 1
           },
           {
            "bin_end": 3,
            "bin_start": 2,
            "count": 0
           },
           {
            "bin_end": 4,
            "bin_start": 3,
            "count": 1
           },
           {
            "bin_end": 5,
            "bin_start": 4,
            "count": 0
           },
           {
            "bin_end": 6,
            "bin_start": 5,
            "count": 1
           },
           {
            "bin_end": 7,
            "bin_start": 6,
            "count": 0
           },
           {
            "bin_end": 8,
            "bin_start": 7,
            "count": 0
           },
           {
            "bin_end": 9,
            "bin_start": 8,
            "count": 1
           },
           {
            "bin_end": 10,
            "bin_start": 9,
            "count": 0
           },
           {
            "bin_end": 11,
            "bin_start": 10,
            "count": 1
           }
          ],
          "max": "11",
          "min": "1",
          "nan_count": 0,
          "unique_count": 5
         }
        },
        {
         "dtype": "object",
         "name": "Week of Highest Charting",
         "stats": {
          "categories": [
           {
            "count": 3,
            "name": "2021-07-23--2021-07-30"
           },
           {
            "count": 1,
            "name": "2021-06-25--2021-07-02"
           },
           {
            "count": 1,
            "name": "2021-07-02--2021-07-09"
           }
          ],
          "nan_count": 0,
          "unique_count": 3
         }
        },
        {
         "dtype": "object",
         "name": "Song Name",
         "stats": {
          "categories": [
           {
            "count": 1,
            "name": "Beggin'"
           },
           {
            "count": 1,
            "name": "STAY (with Justin Bieber)"
           },
           {
            "count": 3,
            "name": "3 others"
           }
          ],
          "nan_count": 0,
          "unique_count": 5
         }
        },
        {
         "dtype": "object",
         "name": "Streams",
         "stats": {
          "categories": [
           {
            "count": 1,
            "name": "48,633,449"
           },
           {
            "count": 1,
            "name": "47,248,719"
           },
           {
            "count": 3,
            "name": "3 others"
           }
          ],
          "nan_count": 0,
          "unique_count": 5
         }
        },
        {
         "dtype": "object",
         "name": "Artist",
         "stats": {
          "categories": [
           {
            "count": 1,
            "name": "Måneskin"
           },
           {
            "count": 1,
            "name": "The Kid LAROI"
           },
           {
            "count": 3,
            "name": "3 others"
           }
          ],
          "nan_count": 0,
          "unique_count": 5
         }
        },
        {
         "dtype": "object",
         "name": "Artist Followers",
         "stats": {
          "categories": [
           {
            "count": 1,
            "name": "3377762"
           },
           {
            "count": 1,
            "name": "2230022"
           },
           {
            "count": 3,
            "name": "3 others"
           }
          ],
          "nan_count": 0,
          "unique_count": 5
         }
        },
        {
         "dtype": "object",
         "name": "Song ID",
         "stats": {
          "categories": [
           {
            "count": 1,
            "name": "3Wrjm47oTz2sjIgck11l5e"
           },
           {
            "count": 1,
            "name": "5HCyWlXZPP0y6Gqq8TgA20"
           },
           {
            "count": 3,
            "name": "3 others"
           }
          ],
          "nan_count": 0,
          "unique_count": 5
         }
        },
        {
         "dtype": "object",
         "name": "Genre",
         "stats": {
          "categories": [
           {
            "count": 1,
            "name": "['indie rock italiano', 'italian pop']"
           },
           {
            "count": 1,
            "name": "['australian hip hop']"
           },
           {
            "count": 3,
            "name": "3 others"
           }
          ],
          "nan_count": 0,
          "unique_count": 5
         }
        },
        {
         "dtype": "object",
         "name": "Release Date",
         "stats": {
          "categories": [
           {
            "count": 1,
            "name": "2017-12-08"
           },
           {
            "count": 1,
            "name": "2021-07-09"
           },
           {
            "count": 3,
            "name": "3 others"
           }
          ],
          "nan_count": 0,
          "unique_count": 5
         }
        },
        {
         "dtype": "object",
         "name": "Weeks Charted",
         "stats": {
          "categories": [
           {
            "count": 1,
            "name": "2021-07-23--2021-07-30\n2021-07-16--2021-07-23\n2021-07-09--2021-07-16\n2021-07-02--2021-07-09\n2021-06-25--2021-07-02\n2021-06-18--2021-06-25\n2021-06-11--2021-06-18\n2021-06-04--2021-06-11"
           },
           {
            "count": 1,
            "name": "2021-07-23--2021-07-30\n2021-07-16--2021-07-23\n2021-07-09--2021-07-16"
           },
           {
            "count": 3,
            "name": "3 others"
           }
          ],
          "nan_count": 0,
          "unique_count": 5
         }
        },
        {
         "dtype": "object",
         "name": "Popularity",
         "stats": {
          "categories": [
           {
            "count": 2,
            "name": "99"
           },
           {
            "count": 1,
            "name": "100"
           },
           {
            "count": 2,
            "name": "2 others"
           }
          ],
          "nan_count": 0,
          "unique_count": 4
         }
        },
        {
         "dtype": "object",
         "name": "Danceability",
         "stats": {
          "categories": [
           {
            "count": 1,
            "name": "0.714"
           },
           {
            "count": 1,
            "name": "0.591"
           },
           {
            "count": 3,
            "name": "3 others"
           }
          ],
          "nan_count": 0,
          "unique_count": 5
         }
        },
        {
         "dtype": "object",
         "name": "Energy",
         "stats": {
          "categories": [
           {
            "count": 1,
            "name": "0.8"
           },
           {
            "count": 1,
            "name": "0.764"
           },
           {
            "count": 3,
            "name": "3 others"
           }
          ],
          "nan_count": 0,
          "unique_count": 5
         }
        },
        {
         "dtype": "object",
         "name": "Loudness",
         "stats": {
          "categories": [
           {
            "count": 1,
            "name": "-4.808"
           },
           {
            "count": 1,
            "name": "-5.484"
           },
           {
            "count": 3,
            "name": "3 others"
           }
          ],
          "nan_count": 0,
          "unique_count": 5
         }
        },
        {
         "dtype": "object",
         "name": "Speechiness",
         "stats": {
          "categories": [
           {
            "count": 1,
            "name": "0.0504"
           },
           {
            "count": 1,
            "name": "0.0483"
           },
           {
            "count": 3,
            "name": "3 others"
           }
          ],
          "nan_count": 0,
          "unique_count": 5
         }
        },
        {
         "dtype": "object",
         "name": "Acousticness",
         "stats": {
          "categories": [
           {
            "count": 1,
            "name": "0.127"
           },
           {
            "count": 1,
            "name": "0.0383"
           },
           {
            "count": 3,
            "name": "3 others"
           }
          ],
          "nan_count": 0,
          "unique_count": 5
         }
        },
        {
         "dtype": "object",
         "name": "Liveness",
         "stats": {
          "categories": [
           {
            "count": 1,
            "name": "0.359"
           },
           {
            "count": 1,
            "name": "0.103"
           },
           {
            "count": 3,
            "name": "3 others"
           }
          ],
          "nan_count": 0,
          "unique_count": 5
         }
        },
        {
         "dtype": "object",
         "name": "Tempo",
         "stats": {
          "categories": [
           {
            "count": 1,
            "name": "134.002"
           },
           {
            "count": 1,
            "name": "169.928"
           },
           {
            "count": 3,
            "name": "3 others"
           }
          ],
          "nan_count": 0,
          "unique_count": 5
         }
        },
        {
         "dtype": "object",
         "name": "Duration (ms)",
         "stats": {
          "categories": [
           {
            "count": 1,
            "name": "211560"
           },
           {
            "count": 1,
            "name": "141806"
           },
           {
            "count": 3,
            "name": "3 others"
           }
          ],
          "nan_count": 0,
          "unique_count": 5
         }
        },
        {
         "dtype": "object",
         "name": "Valence",
         "stats": {
          "categories": [
           {
            "count": 1,
            "name": "0.589"
           },
           {
            "count": 1,
            "name": "0.478"
           },
           {
            "count": 3,
            "name": "3 others"
           }
          ],
          "nan_count": 0,
          "unique_count": 5
         }
        },
        {
         "dtype": "object",
         "name": "Chord",
         "stats": {
          "categories": [
           {
            "count": 2,
            "name": "B"
           },
           {
            "count": 1,
            "name": "C#/Db"
           },
           {
            "count": 2,
            "name": "2 others"
           }
          ],
          "nan_count": 0,
          "unique_count": 4
         }
        },
        {
         "dtype": "int64",
         "name": "_deepnote_index_column"
        }
       ],
       "row_count": 5,
       "rows": [
        {
         "Acousticness": "0.127",
         "Artist": "Måneskin",
         "Artist Followers": "3377762",
         "Chord": "B",
         "Danceability": "0.714",
         "Duration (ms)": "211560",
         "Energy": "0.8",
         "Genre": "['indie rock italiano', 'italian pop']",
         "Highest Charting Position": "1",
         "Index": "1",
         "Liveness": "0.359",
         "Loudness": "-4.808",
         "Number of Times Charted": "8",
         "Popularity": "100",
         "Release Date": "2017-12-08",
         "Song ID": "3Wrjm47oTz2sjIgck11l5e",
         "Song Name": "Beggin'",
         "Speechiness": "0.0504",
         "Streams": "48,633,449",
         "Tempo": "134.002",
         "Valence": "0.589",
         "Week of Highest Charting": "2021-07-23--2021-07-30",
         "Weeks Charted": "2021-07-23--2021-07-30\n2021-07-16--2021-07-23\n2021-07-09--2021-07-16\n2021-07-02--2021-07-09\n2021-06-25--2021-07-02\n2021-06-18--2021-06-25\n2021-06-11--2021-06-18\n2021-06-04--2021-06-11",
         "_deepnote_index_column": "0"
        },
        {
         "Acousticness": "0.0383",
         "Artist": "The Kid LAROI",
         "Artist Followers": "2230022",
         "Chord": "C#/Db",
         "Danceability": "0.591",
         "Duration (ms)": "141806",
         "Energy": "0.764",
         "Genre": "['australian hip hop']",
         "Highest Charting Position": "2",
         "Index": "2",
         "Liveness": "0.103",
         "Loudness": "-5.484",
         "Number of Times Charted": "3",
         "Popularity": "99",
         "Release Date": "2021-07-09",
         "Song ID": "5HCyWlXZPP0y6Gqq8TgA20",
         "Song Name": "STAY (with Justin Bieber)",
         "Speechiness": "0.0483",
         "Streams": "47,248,719",
         "Tempo": "169.928",
         "Valence": "0.478",
         "Week of Highest Charting": "2021-07-23--2021-07-30",
         "Weeks Charted": "2021-07-23--2021-07-30\n2021-07-16--2021-07-23\n2021-07-09--2021-07-16",
         "_deepnote_index_column": "1"
        },
        {
         "Acousticness": "0.335",
         "Artist": "Olivia Rodrigo",
         "Artist Followers": "6266514",
         "Chord": "A",
         "Danceability": "0.563",
         "Duration (ms)": "178147",
         "Energy": "0.664",
         "Genre": "['pop']",
         "Highest Charting Position": "1",
         "Index": "3",
         "Liveness": "0.0849",
         "Loudness": "-5.044",
         "Number of Times Charted": "11",
         "Popularity": "99",
         "Release Date": "2021-05-21",
         "Song ID": "4ZtFanR9U6ndgddUvNcjcG",
         "Song Name": "good 4 u",
         "Speechiness": "0.154",
         "Streams": "40,162,559",
         "Tempo": "166.928",
         "Valence": "0.688",
         "Week of Highest Charting": "2021-06-25--2021-07-02",
         "Weeks Charted": "2021-07-23--2021-07-30\n2021-07-16--2021-07-23\n2021-07-09--2021-07-16\n2021-07-02--2021-07-09\n2021-06-25--2021-07-02\n2021-06-18--2021-06-25\n2021-06-11--2021-06-18\n2021-06-04--2021-06-11\n2021-05-28--2021-06-04\n2021-05-21--2021-05-28\n2021-05-14--2021-05-21",
         "_deepnote_index_column": "2"
        },
        {
         "Acousticness": "0.0469",
         "Artist": "Ed Sheeran",
         "Artist Followers": "83293380",
         "Chord": "B",
         "Danceability": "0.808",
         "Duration (ms)": "231041",
         "Energy": "0.897",
         "Genre": "['pop', 'uk pop']",
         "Highest Charting Position": "3",
         "Index": "4",
         "Liveness": "0.364",
         "Loudness": "-3.712",
         "Number of Times Charted": "5",
         "Popularity": "98",
         "Release Date": "2021-06-25",
         "Song ID": "6PQ88X9TkUIAUIZJHW2upE",
         "Song Name": "Bad Habits",
         "Speechiness": "0.0348",
         "Streams": "37,799,456",
         "Tempo": "126.026",
         "Valence": "0.591",
         "Week of Highest Charting": "2021-07-02--2021-07-09",
         "Weeks Charted": "2021-07-23--2021-07-30\n2021-07-16--2021-07-23\n2021-07-09--2021-07-16\n2021-07-02--2021-07-09\n2021-06-25--2021-07-02",
         "_deepnote_index_column": "3"
        },
        {
         "Acousticness": "0.0203",
         "Artist": "Lil Nas X",
         "Artist Followers": "5473565",
         "Chord": "D#/Eb",
         "Danceability": "0.736",
         "Duration (ms)": "212000",
         "Energy": "0.704",
         "Genre": "['lgbtq+ hip hop', 'pop rap']",
         "Highest Charting Position": "5",
         "Index": "5",
         "Liveness": "0.0501",
         "Loudness": "-7.409",
         "Number of Times Charted": "1",
         "Popularity": "96",
         "Release Date": "2021-07-23",
         "Song ID": "27NovPIUIRrOZoCHxABJwK",
         "Song Name": "INDUSTRY BABY (feat. Jack Harlow)",
         "Speechiness": "0.0615",
         "Streams": "33,948,454",
         "Tempo": "149.995",
         "Valence": "0.894",
         "Week of Highest Charting": "2021-07-23--2021-07-30",
         "Weeks Charted": "2021-07-23--2021-07-30",
         "_deepnote_index_column": "4"
        }
       ]
      },
      "text/html": [
       "<div>\n",
       "<style scoped>\n",
       "    .dataframe tbody tr th:only-of-type {\n",
       "        vertical-align: middle;\n",
       "    }\n",
       "\n",
       "    .dataframe tbody tr th {\n",
       "        vertical-align: top;\n",
       "    }\n",
       "\n",
       "    .dataframe thead th {\n",
       "        text-align: right;\n",
       "    }\n",
       "</style>\n",
       "<table border=\"1\" class=\"dataframe\">\n",
       "  <thead>\n",
       "    <tr style=\"text-align: right;\">\n",
       "      <th></th>\n",
       "      <th>Index</th>\n",
       "      <th>Highest Charting Position</th>\n",
       "      <th>Number of Times Charted</th>\n",
       "      <th>Week of Highest Charting</th>\n",
       "      <th>Song Name</th>\n",
       "      <th>Streams</th>\n",
       "      <th>Artist</th>\n",
       "      <th>Artist Followers</th>\n",
       "      <th>Song ID</th>\n",
       "      <th>Genre</th>\n",
       "      <th>...</th>\n",
       "      <th>Danceability</th>\n",
       "      <th>Energy</th>\n",
       "      <th>Loudness</th>\n",
       "      <th>Speechiness</th>\n",
       "      <th>Acousticness</th>\n",
       "      <th>Liveness</th>\n",
       "      <th>Tempo</th>\n",
       "      <th>Duration (ms)</th>\n",
       "      <th>Valence</th>\n",
       "      <th>Chord</th>\n",
       "    </tr>\n",
       "  </thead>\n",
       "  <tbody>\n",
       "    <tr>\n",
       "      <th>0</th>\n",
       "      <td>1</td>\n",
       "      <td>1</td>\n",
       "      <td>8</td>\n",
       "      <td>2021-07-23--2021-07-30</td>\n",
       "      <td>Beggin'</td>\n",
       "      <td>48,633,449</td>\n",
       "      <td>Måneskin</td>\n",
       "      <td>3377762</td>\n",
       "      <td>3Wrjm47oTz2sjIgck11l5e</td>\n",
       "      <td>['indie rock italiano', 'italian pop']</td>\n",
       "      <td>...</td>\n",
       "      <td>0.714</td>\n",
       "      <td>0.8</td>\n",
       "      <td>-4.808</td>\n",
       "      <td>0.0504</td>\n",
       "      <td>0.127</td>\n",
       "      <td>0.359</td>\n",
       "      <td>134.002</td>\n",
       "      <td>211560</td>\n",
       "      <td>0.589</td>\n",
       "      <td>B</td>\n",
       "    </tr>\n",
       "    <tr>\n",
       "      <th>1</th>\n",
       "      <td>2</td>\n",
       "      <td>2</td>\n",
       "      <td>3</td>\n",
       "      <td>2021-07-23--2021-07-30</td>\n",
       "      <td>STAY (with Justin Bieber)</td>\n",
       "      <td>47,248,719</td>\n",
       "      <td>The Kid LAROI</td>\n",
       "      <td>2230022</td>\n",
       "      <td>5HCyWlXZPP0y6Gqq8TgA20</td>\n",
       "      <td>['australian hip hop']</td>\n",
       "      <td>...</td>\n",
       "      <td>0.591</td>\n",
       "      <td>0.764</td>\n",
       "      <td>-5.484</td>\n",
       "      <td>0.0483</td>\n",
       "      <td>0.0383</td>\n",
       "      <td>0.103</td>\n",
       "      <td>169.928</td>\n",
       "      <td>141806</td>\n",
       "      <td>0.478</td>\n",
       "      <td>C#/Db</td>\n",
       "    </tr>\n",
       "    <tr>\n",
       "      <th>2</th>\n",
       "      <td>3</td>\n",
       "      <td>1</td>\n",
       "      <td>11</td>\n",
       "      <td>2021-06-25--2021-07-02</td>\n",
       "      <td>good 4 u</td>\n",
       "      <td>40,162,559</td>\n",
       "      <td>Olivia Rodrigo</td>\n",
       "      <td>6266514</td>\n",
       "      <td>4ZtFanR9U6ndgddUvNcjcG</td>\n",
       "      <td>['pop']</td>\n",
       "      <td>...</td>\n",
       "      <td>0.563</td>\n",
       "      <td>0.664</td>\n",
       "      <td>-5.044</td>\n",
       "      <td>0.154</td>\n",
       "      <td>0.335</td>\n",
       "      <td>0.0849</td>\n",
       "      <td>166.928</td>\n",
       "      <td>178147</td>\n",
       "      <td>0.688</td>\n",
       "      <td>A</td>\n",
       "    </tr>\n",
       "    <tr>\n",
       "      <th>3</th>\n",
       "      <td>4</td>\n",
       "      <td>3</td>\n",
       "      <td>5</td>\n",
       "      <td>2021-07-02--2021-07-09</td>\n",
       "      <td>Bad Habits</td>\n",
       "      <td>37,799,456</td>\n",
       "      <td>Ed Sheeran</td>\n",
       "      <td>83293380</td>\n",
       "      <td>6PQ88X9TkUIAUIZJHW2upE</td>\n",
       "      <td>['pop', 'uk pop']</td>\n",
       "      <td>...</td>\n",
       "      <td>0.808</td>\n",
       "      <td>0.897</td>\n",
       "      <td>-3.712</td>\n",
       "      <td>0.0348</td>\n",
       "      <td>0.0469</td>\n",
       "      <td>0.364</td>\n",
       "      <td>126.026</td>\n",
       "      <td>231041</td>\n",
       "      <td>0.591</td>\n",
       "      <td>B</td>\n",
       "    </tr>\n",
       "    <tr>\n",
       "      <th>4</th>\n",
       "      <td>5</td>\n",
       "      <td>5</td>\n",
       "      <td>1</td>\n",
       "      <td>2021-07-23--2021-07-30</td>\n",
       "      <td>INDUSTRY BABY (feat. Jack Harlow)</td>\n",
       "      <td>33,948,454</td>\n",
       "      <td>Lil Nas X</td>\n",
       "      <td>5473565</td>\n",
       "      <td>27NovPIUIRrOZoCHxABJwK</td>\n",
       "      <td>['lgbtq+ hip hop', 'pop rap']</td>\n",
       "      <td>...</td>\n",
       "      <td>0.736</td>\n",
       "      <td>0.704</td>\n",
       "      <td>-7.409</td>\n",
       "      <td>0.0615</td>\n",
       "      <td>0.0203</td>\n",
       "      <td>0.0501</td>\n",
       "      <td>149.995</td>\n",
       "      <td>212000</td>\n",
       "      <td>0.894</td>\n",
       "      <td>D#/Eb</td>\n",
       "    </tr>\n",
       "  </tbody>\n",
       "</table>\n",
       "<p>5 rows × 23 columns</p>\n",
       "</div>"
      ],
      "text/plain": [
       "   Index  Highest Charting Position  Number of Times Charted  \\\n",
       "0      1                          1                        8   \n",
       "1      2                          2                        3   \n",
       "2      3                          1                       11   \n",
       "3      4                          3                        5   \n",
       "4      5                          5                        1   \n",
       "\n",
       "  Week of Highest Charting                          Song Name     Streams  \\\n",
       "0   2021-07-23--2021-07-30                            Beggin'  48,633,449   \n",
       "1   2021-07-23--2021-07-30          STAY (with Justin Bieber)  47,248,719   \n",
       "2   2021-06-25--2021-07-02                           good 4 u  40,162,559   \n",
       "3   2021-07-02--2021-07-09                         Bad Habits  37,799,456   \n",
       "4   2021-07-23--2021-07-30  INDUSTRY BABY (feat. Jack Harlow)  33,948,454   \n",
       "\n",
       "           Artist Artist Followers                 Song ID  \\\n",
       "0        Måneskin          3377762  3Wrjm47oTz2sjIgck11l5e   \n",
       "1   The Kid LAROI          2230022  5HCyWlXZPP0y6Gqq8TgA20   \n",
       "2  Olivia Rodrigo          6266514  4ZtFanR9U6ndgddUvNcjcG   \n",
       "3      Ed Sheeran         83293380  6PQ88X9TkUIAUIZJHW2upE   \n",
       "4       Lil Nas X          5473565  27NovPIUIRrOZoCHxABJwK   \n",
       "\n",
       "                                    Genre  ... Danceability Energy Loudness  \\\n",
       "0  ['indie rock italiano', 'italian pop']  ...        0.714    0.8   -4.808   \n",
       "1                  ['australian hip hop']  ...        0.591  0.764   -5.484   \n",
       "2                                 ['pop']  ...        0.563  0.664   -5.044   \n",
       "3                       ['pop', 'uk pop']  ...        0.808  0.897   -3.712   \n",
       "4           ['lgbtq+ hip hop', 'pop rap']  ...        0.736  0.704   -7.409   \n",
       "\n",
       "  Speechiness Acousticness Liveness    Tempo Duration (ms) Valence  Chord  \n",
       "0      0.0504        0.127    0.359  134.002        211560   0.589      B  \n",
       "1      0.0483       0.0383    0.103  169.928        141806   0.478  C#/Db  \n",
       "2       0.154        0.335   0.0849  166.928        178147   0.688      A  \n",
       "3      0.0348       0.0469    0.364  126.026        231041   0.591      B  \n",
       "4      0.0615       0.0203   0.0501  149.995        212000   0.894  D#/Eb  \n",
       "\n",
       "[5 rows x 23 columns]"
      ]
     },
     "execution_count": 2,
     "metadata": {},
     "output_type": "execute_result"
    }
   ],
   "source": [
    "df.head()"
   ]
  },
  {
   "cell_type": "markdown",
   "metadata": {
    "cell_id": "ffc345f7cdbf4028bfce69d33da2c4f4",
    "deepnote_cell_type": "markdown",
    "tags": []
   },
   "source": [
    "* Get the names of the 10 most frequent artists in the attached Spotify dataset."
   ]
  },
  {
   "cell_type": "code",
   "execution_count": 3,
   "metadata": {
    "cell_id": "b4b41af016b1461cafca1fe786c5fe0c",
    "deepnote_cell_type": "code",
    "deepnote_to_be_reexecuted": false,
    "execution_millis": 7,
    "execution_start": 1664641600632,
    "source_hash": "4374355f",
    "tags": []
   },
   "outputs": [
    {
     "data": {
      "text/plain": [
       "Taylor Swift                             52\n",
       "Justin Bieber                            32\n",
       "Lil Uzi Vert                             32\n",
       "Juice WRLD                               30\n",
       "Pop Smoke                                29\n",
       "                                         ..\n",
       "Bing Crosby                               1\n",
       "Lele Pons                                 1\n",
       "Hippie Sabotage                           1\n",
       "Anne-Marie, KSI, Digital Farm Animals     1\n",
       "Damso                                     1\n",
       "Name: Artist, Length: 716, dtype: int64"
      ]
     },
     "execution_count": 3,
     "metadata": {},
     "output_type": "execute_result"
    }
   ],
   "source": [
    "df[\"Artist\"].value_counts()"
   ]
  },
  {
   "cell_type": "code",
   "execution_count": 4,
   "metadata": {
    "cell_id": "46f8a5be9211464ba4a313498bae4a8e",
    "deepnote_cell_type": "code",
    "deepnote_to_be_reexecuted": false,
    "execution_millis": 1,
    "execution_start": 1664641659404,
    "source_hash": "8079d563",
    "tags": []
   },
   "outputs": [],
   "source": [
    "top_artists = df[\"Artist\"].value_counts().index[:10]"
   ]
  },
  {
   "cell_type": "code",
   "execution_count": 5,
   "metadata": {
    "cell_id": "a20c7fd65c9348f29033be5aea21fd11",
    "deepnote_cell_type": "code",
    "deepnote_to_be_reexecuted": false,
    "execution_millis": 4,
    "execution_start": 1664641664123,
    "source_hash": "55cd7968",
    "tags": []
   },
   "outputs": [
    {
     "data": {
      "text/plain": [
       "pandas.core.indexes.base.Index"
      ]
     },
     "execution_count": 5,
     "metadata": {},
     "output_type": "execute_result"
    }
   ],
   "source": [
    "type(top_artists)"
   ]
  },
  {
   "cell_type": "markdown",
   "metadata": {
    "cell_id": "c29b40529fe74de683e6b82911022f5d",
    "deepnote_cell_type": "markdown",
    "tags": []
   },
   "source": [
    "* Using list comprehension, make a list of the row labels for those artists."
   ]
  },
  {
   "cell_type": "code",
   "execution_count": 8,
   "metadata": {
    "cell_id": "fd2ffdec5bf74824beb5d4b02b8f1ee8",
    "deepnote_cell_type": "code",
    "deepnote_to_be_reexecuted": false,
    "execution_millis": 1,
    "execution_start": 1664641827087,
    "source_hash": "787978db",
    "tags": []
   },
   "outputs": [],
   "source": [
    "row_labels = [i for i in df.index if df.loc[i, \"Artist\"] in top_artists]"
   ]
  },
  {
   "cell_type": "markdown",
   "metadata": {
    "cell_id": "8c69367dcdc64719a32a940d24c6aa20",
    "deepnote_cell_type": "markdown",
    "tags": []
   },
   "source": [
    "* Get the sub-DataFrame for those artists."
   ]
  },
  {
   "cell_type": "code",
   "execution_count": 9,
   "metadata": {
    "cell_id": "1bdb814f4ad34f018297ebadb02d209d",
    "deepnote_cell_type": "code",
    "deepnote_to_be_reexecuted": false,
    "execution_millis": 46,
    "execution_start": 1664641863589,
    "source_hash": "a10d6c79",
    "tags": []
   },
   "outputs": [
    {
     "data": {
      "application/vnd.deepnote.dataframe.v3+json": {
       "column_count": 23,
       "columns": [
        {
         "dtype": "int64",
         "name": "Index",
         "stats": {
          "histogram": [
           {
            "bin_end": 163.7,
            "bin_start": 9,
            "count": 12
           },
           {
            "bin_end": 318.4,
            "bin_start": 163.7,
            "count": 19
           },
           {
            "bin_end": 473.09999999999997,
            "bin_start": 318.4,
            "count": 39
           },
           {
            "bin_end": 627.8,
            "bin_start": 473.09999999999997,
            "count": 22
           },
           {
            "bin_end": 782.5,
            "bin_start": 627.8,
            "count": 36
           },
           {
            "bin_end": 937.1999999999999,
            "bin_start": 782.5,
            "count": 16
           },
           {
            "bin_end": 1091.8999999999999,
            "bin_start": 937.1999999999999,
            "count": 46
           },
           {
            "bin_end": 1246.6,
            "bin_start": 1091.8999999999999,
            "count": 12
           },
           {
            "bin_end": 1401.3,
            "bin_start": 1246.6,
            "count": 58
           },
           {
            "bin_end": 1556,
            "bin_start": 1401.3,
            "count": 35
           }
          ],
          "max": "1556",
          "min": "9",
          "nan_count": 0,
          "unique_count": 295
         }
        },
        {
         "dtype": "int64",
         "name": "Highest Charting Position",
         "stats": {
          "histogram": [
           {
            "bin_end": 20.8,
            "bin_start": 1,
            "count": 68
           },
           {
            "bin_end": 40.6,
            "bin_start": 20.8,
            "count": 51
           },
           {
            "bin_end": 60.400000000000006,
            "bin_start": 40.6,
            "count": 51
           },
           {
            "bin_end": 80.2,
            "bin_start": 60.400000000000006,
            "count": 43
           },
           {
            "bin_end": 100,
            "bin_start": 80.2,
            "count": 19
           },
           {
            "bin_end": 119.80000000000001,
            "bin_start": 100,
            "count": 19
           },
           {
            "bin_end": 139.6,
            "bin_start": 119.80000000000001,
            "count": 11
           },
           {
            "bin_end": 159.4,
            "bin_start": 139.6,
            "count": 14
           },
           {
            "bin_end": 179.20000000000002,
            "bin_start": 159.4,
            "count": 9
           },
           {
            "bin_end": 199,
            "bin_start": 179.20000000000002,
            "count": 10
           }
          ],
          "max": "199",
          "min": "1",
          "nan_count": 0,
          "unique_count": 135
         }
        },
        {
         "dtype": "int64",
         "name": "Number of Times Charted",
         "stats": {
          "histogram": [
           {
            "bin_end": 9.2,
            "bin_start": 1,
            "count": 240
           },
           {
            "bin_end": 17.4,
            "bin_start": 9.2,
            "count": 15
           },
           {
            "bin_end": 25.599999999999998,
            "bin_start": 17.4,
            "count": 11
           },
           {
            "bin_end": 33.8,
            "bin_start": 25.599999999999998,
            "count": 7
           },
           {
            "bin_end": 42,
            "bin_start": 33.8,
            "count": 7
           },
           {
            "bin_end": 50.199999999999996,
            "bin_start": 42,
            "count": 5
           },
           {
            "bin_end": 58.39999999999999,
            "bin_start": 50.199999999999996,
            "count": 4
           },
           {
            "bin_end": 66.6,
            "bin_start": 58.39999999999999,
            "count": 1
           },
           {
            "bin_end": 74.8,
            "bin_start": 66.6,
            "count": 2
           },
           {
            "bin_end": 83,
            "bin_start": 74.8,
            "count": 3
           }
          ],
          "max": "83",
          "min": "1",
          "nan_count": 0,
          "unique_count": 40
         }
        },
        {
         "dtype": "object",
         "name": "Week of Highest Charting",
         "stats": {
          "categories": [
           {
            "count": 21,
            "name": "2020-03-06--2020-03-13"
           },
           {
            "count": 19,
            "name": "2020-01-17--2020-01-24"
           },
           {
            "count": 255,
            "name": "49 others"
           }
          ],
          "nan_count": 0,
          "unique_count": 51
         }
        },
        {
         "dtype": "object",
         "name": "Song Name",
         "stats": {
          "categories": [
           {
            "count": 1,
            "name": "Yonaguni"
           },
           {
            "count": 1,
            "name": "Permission to Dance"
           },
           {
            "count": 293,
            "name": "293 others"
           }
          ],
          "nan_count": 0,
          "unique_count": 295
         }
        },
        {
         "dtype": "object",
         "name": "Streams",
         "stats": {
          "categories": [
           {
            "count": 1,
            "name": "25,030,128"
           },
           {
            "count": 1,
            "name": "22,062,812"
           },
           {
            "count": 293,
            "name": "293 others"
           }
          ],
          "nan_count": 0,
          "unique_count": 295
         }
        },
        {
         "dtype": "object",
         "name": "Artist",
         "stats": {
          "categories": [
           {
            "count": 52,
            "name": "Taylor Swift"
           },
           {
            "count": 32,
            "name": "Justin Bieber"
           },
           {
            "count": 211,
            "name": "8 others"
           }
          ],
          "nan_count": 0,
          "unique_count": 10
         }
        },
        {
         "dtype": "object",
         "name": "Artist Followers",
         "stats": {
          "categories": [
           {
            "count": 52,
            "name": "42227614"
           },
           {
            "count": 32,
            "name": "11821805"
           },
           {
            "count": 211,
            "name": "18 others"
           }
          ],
          "nan_count": 0,
          "unique_count": 20
         }
        },
        {
         "dtype": "object",
         "name": "Song ID",
         "stats": {
          "categories": [
           {
            "count": 2,
            "name": "37BZB0z9T8Xu7U3e65qxFy"
           },
           {
            "count": 2,
            "name": " "
           },
           {
            "count": 291,
            "name": "291 others"
           }
          ],
          "nan_count": 0,
          "unique_count": 293
         }
        },
        {
         "dtype": "object",
         "name": "Genre",
         "stats": {
          "categories": [
           {
            "count": 52,
            "name": "['pop', 'post-teen pop']"
           },
           {
            "count": 32,
            "name": "['melodic rap', 'philly rap', 'rap', 'trap']"
           },
           {
            "count": 211,
            "name": "10 others"
           }
          ],
          "nan_count": 0,
          "unique_count": 12
         }
        },
        {
         "dtype": "object",
         "name": "Release Date",
         "stats": {
          "categories": [
           {
            "count": 20,
            "name": "2020-07-10"
           },
           {
            "count": 18,
            "name": "2020-01-17"
           },
           {
            "count": 257,
            "name": "64 others"
           }
          ],
          "nan_count": 0,
          "unique_count": 66
         }
        },
        {
         "dtype": "object",
         "name": "Weeks Charted",
         "stats": {
          "categories": [
           {
            "count": 13,
            "name": "2021-04-09--2021-04-16"
           },
           {
            "count": 13,
            "name": "2020-02-14--2020-02-21"
           },
           {
            "count": 269,
            "name": "141 others"
           }
          ],
          "nan_count": 0,
          "unique_count": 143
         }
        },
        {
         "dtype": "object",
         "name": "Popularity",
         "stats": {
          "categories": [
           {
            "count": 22,
            "name": "67"
           },
           {
            "count": 20,
            "name": "66"
           },
           {
            "count": 253,
            "name": "40 others"
           }
          ],
          "nan_count": 0,
          "unique_count": 42
         }
        },
        {
         "dtype": "object",
         "name": "Danceability",
         "stats": {
          "categories": [
           {
            "count": 4,
            "name": "0.688"
           },
           {
            "count": 3,
            "name": "0.702"
           },
           {
            "count": 288,
            "name": "224 others"
           }
          ],
          "nan_count": 0,
          "unique_count": 226
         }
        },
        {
         "dtype": "object",
         "name": "Energy",
         "stats": {
          "categories": [
           {
            "count": 4,
            "name": "0.608"
           },
           {
            "count": 3,
            "name": "0.741"
           },
           {
            "count": 288,
            "name": "214 others"
           }
          ],
          "nan_count": 0,
          "unique_count": 216
         }
        },
        {
         "dtype": "object",
         "name": "Loudness",
         "stats": {
          "categories": [
           {
            "count": 2,
            "name": "-4.645"
           },
           {
            "count": 2,
            "name": " "
           },
           {
            "count": 291,
            "name": "282 others"
           }
          ],
          "nan_count": 0,
          "unique_count": 284
         }
        },
        {
         "dtype": "object",
         "name": "Speechiness",
         "stats": {
          "categories": [
           {
            "count": 3,
            "name": "0.0325"
           },
           {
            "count": 3,
            "name": "0.2"
           },
           {
            "count": 289,
            "name": "246 others"
           }
          ],
          "nan_count": 0,
          "unique_count": 248
         }
        },
        {
         "dtype": "object",
         "name": "Acousticness",
         "stats": {
          "categories": [
           {
            "count": 4,
            "name": "0.162"
           },
           {
            "count": 3,
            "name": "0.114"
           },
           {
            "count": 288,
            "name": "267 others"
           }
          ],
          "nan_count": 0,
          "unique_count": 269
         }
        },
        {
         "dtype": "object",
         "name": "Liveness",
         "stats": {
          "categories": [
           {
            "count": 5,
            "name": "0.113"
           },
           {
            "count": 5,
            "name": "0.112"
           },
           {
            "count": 285,
            "name": "197 others"
           }
          ],
          "nan_count": 0,
          "unique_count": 199
         }
        },
        {
         "dtype": "object",
         "name": "Tempo",
         "stats": {
          "categories": [
           {
            "count": 2,
            "name": "118.091"
           },
           {
            "count": 2,
            "name": "139.98"
           },
           {
            "count": 291,
            "name": "289 others"
           }
          ],
          "nan_count": 0,
          "unique_count": 291
         }
        },
        {
         "dtype": "object",
         "name": "Duration (ms)",
         "stats": {
          "categories": [
           {
            "count": 2,
            "name": "191014"
           },
           {
            "count": 2,
            "name": "160000"
           },
           {
            "count": 291,
            "name": "288 others"
           }
          ],
          "nan_count": 0,
          "unique_count": 290
         }
        },
        {
         "dtype": "object",
         "name": "Valence",
         "stats": {
          "categories": [
           {
            "count": 3,
            "name": "0.464"
           },
           {
            "count": 3,
            "name": "0.372"
           },
           {
            "count": 289,
            "name": "247 others"
           }
          ],
          "nan_count": 0,
          "unique_count": 249
         }
        },
        {
         "dtype": "object",
         "name": "Chord",
         "stats": {
          "categories": [
           {
            "count": 41,
            "name": "C"
           },
           {
            "count": 39,
            "name": "C#/Db"
           },
           {
            "count": 215,
            "name": "11 others"
           }
          ],
          "nan_count": 0,
          "unique_count": 13
         }
        },
        {
         "dtype": "int64",
         "name": "_deepnote_index_column"
        }
       ],
       "row_count": 295,
       "rows": [
        {
         "Acousticness": "0.276",
         "Artist": "Bad Bunny",
         "Artist Followers": "36142273",
         "Chord": "C#/Db",
         "Danceability": "0.644",
         "Duration (ms)": "206710",
         "Energy": "0.648",
         "Genre": "['latin', 'reggaeton', 'trap latino']",
         "Highest Charting Position": "3",
         "Index": "9",
         "Liveness": "0.135",
         "Loudness": "-4.601",
         "Number of Times Charted": "8",
         "Popularity": "96",
         "Release Date": "2021-06-04",
         "Song ID": "2JPLbjOn0wPCngEot2STUS",
         "Song Name": "Yonaguni",
         "Speechiness": "0.118",
         "Streams": "25,030,128",
         "Tempo": "179.951",
         "Valence": "0.44",
         "Week of Highest Charting": "2021-06-18--2021-06-25",
         "Weeks Charted": "2021-07-23--2021-07-30\n2021-07-16--2021-07-23\n2021-07-09--2021-07-16\n2021-07-02--2021-07-09\n2021-06-25--2021-07-02\n2021-06-18--2021-06-25\n2021-06-11--2021-06-18\n2021-06-04--2021-06-11",
         "_deepnote_index_column": "8"
        },
        {
         "Acousticness": "0.00544",
         "Artist": "BTS",
         "Artist Followers": "37106176",
         "Chord": "A",
         "Danceability": "0.702",
         "Duration (ms)": "187585",
         "Energy": "0.741",
         "Genre": "['k-pop', 'k-pop boy group']",
         "Highest Charting Position": "5",
         "Index": "13",
         "Liveness": "0.337",
         "Loudness": "-5.33",
         "Number of Times Charted": "3",
         "Popularity": "95",
         "Release Date": "2021-07-09",
         "Song ID": "0LThjFY2iTtNdd4wviwVV2",
         "Song Name": "Permission to Dance",
         "Speechiness": "0.0427",
         "Streams": "22,062,812",
         "Tempo": "124.925",
         "Valence": "0.646",
         "Week of Highest Charting": "2021-07-09--2021-07-16",
         "Weeks Charted": "2021-07-23--2021-07-30\n2021-07-16--2021-07-23\n2021-07-09--2021-07-16",
         "_deepnote_index_column": "12"
        },
        {
         "Acousticness": "0.321",
         "Artist": "Justin Bieber",
         "Artist Followers": "48504126",
         "Chord": "C",
         "Danceability": "0.677",
         "Duration (ms)": "198082",
         "Energy": "0.696",
         "Genre": "['canadian pop', 'pop', 'post-teen pop']",
         "Highest Charting Position": "1",
         "Index": "14",
         "Liveness": "0.42",
         "Loudness": "-6.181",
         "Number of Times Charted": "19",
         "Popularity": "94",
         "Release Date": "2021-03-19",
         "Song ID": "4iJyoBOLtHqaGxP12qzhQI",
         "Song Name": "Peaches (feat. Daniel Caesar & Giveon)",
         "Speechiness": "0.119",
         "Streams": "20,294,457",
         "Tempo": "90.03",
         "Valence": "0.464",
         "Week of Highest Charting": "2021-04-02--2021-04-09",
         "Weeks Charted": "2021-07-23--2021-07-30\n2021-07-16--2021-07-23\n2021-07-09--2021-07-16\n2021-07-02--2021-07-09\n2021-06-25--2021-07-02\n2021-06-18--2021-06-25\n2021-06-11--2021-06-18\n2021-06-04--2021-06-11\n2021-05-28--2021-06-04\n2021-05-21--2021-05-28\n2021-05-14--2021-05-21\n2021-05-07--2021-05-14\n2021-04-30--2021-05-07\n2021-04-23--2021-04-30\n2021-04-16--2021-04-23\n2021-04-09--2021-04-16\n2021-04-02--2021-04-09\n2021-03-26--2021-04-02\n2021-03-19--2021-03-26",
         "_deepnote_index_column": "13"
        },
        {
         "Acousticness": "0.00323",
         "Artist": "BTS",
         "Artist Followers": "37106176",
         "Chord": "G#/Ab",
         "Danceability": "0.759",
         "Duration (ms)": "164442",
         "Energy": "0.459",
         "Genre": "['k-pop', 'k-pop boy group']",
         "Highest Charting Position": "2",
         "Index": "15",
         "Liveness": "0.0906",
         "Loudness": "-5.187",
         "Number of Times Charted": "10",
         "Popularity": "95",
         "Release Date": "2021-06-04",
         "Song ID": "2bgTY4UwhfBYhGT4HUYStN",
         "Song Name": "Butter",
         "Speechiness": "0.0948",
         "Streams": "19,985,713",
         "Tempo": "109.997",
         "Valence": "0.695",
         "Week of Highest Charting": "2021-05-21--2021-05-28",
         "Weeks Charted": "2021-07-23--2021-07-30\n2021-07-16--2021-07-23\n2021-07-09--2021-07-16\n2021-07-02--2021-07-09\n2021-06-25--2021-07-02\n2021-06-18--2021-06-25\n2021-06-11--2021-06-18\n2021-06-04--2021-06-11\n2021-05-28--2021-06-04\n2021-05-21--2021-05-28",
         "_deepnote_index_column": "14"
        },
        {
         "Acousticness": "0.0215",
         "Artist": "The Weeknd",
         "Artist Followers": "35305637",
         "Chord": "C",
         "Danceability": "0.65",
         "Duration (ms)": "191014",
         "Energy": "0.825",
         "Genre": "['canadian contemporary r&b', 'canadian pop', 'pop']",
         "Highest Charting Position": "5",
         "Index": "18",
         "Liveness": "0.0936",
         "Loudness": "-4.645",
         "Number of Times Charted": "14",
         "Popularity": "94",
         "Release Date": "2021-04-23",
         "Song ID": "37BZB0z9T8Xu7U3e65qxFy",
         "Song Name": "Save Your Tears (with Ariana Grande) (Remix)",
         "Speechiness": "0.0325",
         "Streams": "18,053,141",
         "Tempo": "118.091",
         "Valence": "0.593",
         "Week of Highest Charting": "2021-04-23--2021-04-30",
         "Weeks Charted": "2021-07-23--2021-07-30\n2021-07-16--2021-07-23\n2021-07-09--2021-07-16\n2021-07-02--2021-07-09\n2021-06-25--2021-07-02\n2021-06-18--2021-06-25\n2021-06-11--2021-06-18\n2021-06-04--2021-06-11\n2021-05-28--2021-06-04\n2021-05-21--2021-05-28\n2021-05-14--2021-05-21\n2021-05-07--2021-05-14\n2021-04-30--2021-05-07\n2021-04-23--2021-04-30",
         "_deepnote_index_column": "17"
        },
        {
         "Acousticness": "0.00146",
         "Artist": "The Weeknd",
         "Artist Followers": "35305637",
         "Chord": "C#/Db",
         "Danceability": "0.514",
         "Duration (ms)": "200040",
         "Energy": "0.73",
         "Genre": "['canadian contemporary r&b', 'canadian pop', 'pop']",
         "Highest Charting Position": "1",
         "Index": "25",
         "Liveness": "0.0897",
         "Loudness": "-5.934",
         "Number of Times Charted": "83",
         "Popularity": "92",
         "Release Date": "2020-03-20",
         "Song ID": "0VjIjW4GlUZAMYd2vXMi3b",
         "Song Name": "Blinding Lights",
         "Speechiness": "0.0598",
         "Streams": "15,011,809",
         "Tempo": "171.005",
         "Valence": "0.334",
         "Week of Highest Charting": "2020-06-12--2020-06-19",
         "Weeks Charted": "2021-07-23--2021-07-30\n2021-07-16--2021-07-23\n2021-07-09--2021-07-16\n2021-07-02--2021-07-09\n2021-06-25--2021-07-02\n2021-06-18--2021-06-25\n2021-06-11--2021-06-18\n2021-06-04--2021-06-11\n2021-05-28--2021-06-04\n2021-05-21--2021-05-28\n2021-05-14--2021-05-21\n2021-05-07--2021-05-14\n2021-04-30--2021-05-07\n2021-04-23--2021-04-30\n2021-04-16--2021-04-23\n2021-04-09--2021-04-16\n2021-04-02--2021-04-09\n2021-03-26--2021-04-02\n2021-03-19--2021-03-26\n2021-03-12--2021-03-19\n2021-03-05--2021-03-12\n2021-02-26--2021-03-05\n2021-02-19--2021-02-26\n2021-02-12--2021-02-19\n2021-02-05--2021-02-12\n2021-01-29--2021-02-05\n2021-01-22--2021-01-29\n2021-01-15--2021-01-22\n2021-01-08--2021-01-15\n2021-01-01--2021-01-08\n2020-12-25--2021-01-01\n2020-12-18--2020-12-25\n2020-12-11--2020-12-18\n2020-12-04--2020-12-11\n2020-11-27--2020-12-04\n2020-11-20--2020-11-27\n2020-11-13--2020-11-20\n2020-11-06--2020-11-13\n2020-10-30--2020-11-06\n2020-10-23--2020-10-30\n2020-10-16--2020-10-23\n2020-10-09--2020-10-16\n2020-10-02--2020-10-09\n2020-09-25…",
         "_deepnote_index_column": "24"
        },
        {
         "Acousticness": "0.0112",
         "Artist": "BTS",
         "Artist Followers": "37106176",
         "Chord": "F#/Gb",
         "Danceability": "0.746",
         "Duration (ms)": "199054",
         "Energy": "0.765",
         "Genre": "['k-pop', 'k-pop boy group']",
         "Highest Charting Position": "2",
         "Index": "44",
         "Liveness": "0.0936",
         "Loudness": "-4.41",
         "Number of Times Charted": "49",
         "Popularity": "89",
         "Release Date": "2020-11-20",
         "Song ID": "4saklk6nie3yiGePpBwUoc",
         "Song Name": "Dynamite",
         "Speechiness": "0.0993",
         "Streams": "11,196,819",
         "Tempo": "114.044",
         "Valence": "0.737",
         "Week of Highest Charting": "2020-11-20--2020-11-27",
         "Weeks Charted": "2021-07-23--2021-07-30\n2021-07-16--2021-07-23\n2021-07-09--2021-07-16\n2021-07-02--2021-07-09\n2021-06-25--2021-07-02\n2021-06-18--2021-06-25\n2021-06-11--2021-06-18\n2021-06-04--2021-06-11\n2021-05-28--2021-06-04\n2021-05-21--2021-05-28\n2021-05-14--2021-05-21\n2021-05-07--2021-05-14\n2021-04-30--2021-05-07\n2021-04-23--2021-04-30\n2021-04-16--2021-04-23\n2021-04-09--2021-04-16\n2021-04-02--2021-04-09\n2021-03-26--2021-04-02\n2021-03-19--2021-03-26\n2021-03-12--2021-03-19\n2021-03-05--2021-03-12\n2021-02-26--2021-03-05\n2021-02-19--2021-02-26\n2021-02-12--2021-02-19\n2021-02-05--2021-02-12\n2021-01-29--2021-02-05\n2021-01-22--2021-01-29\n2021-01-15--2021-01-22\n2021-01-08--2021-01-15\n2021-01-01--2021-01-08\n2020-12-25--2021-01-01\n2020-12-18--2020-12-25\n2020-12-11--2020-12-18\n2020-12-04--2020-12-11\n2020-11-27--2020-12-04\n2020-11-20--2020-11-27\n2020-11-13--2020-11-20\n2020-11-06--2020-11-13\n2020-10-30--2020-11-06\n2020-10-23--2020-10-30\n2020-10-16--2020-10-23\n2020-10-09--2020-10-16\n2020-10-02--2020-10-09\n2020-09-25…",
         "_deepnote_index_column": "43"
        },
        {
         "Acousticness": "0.0215",
         "Artist": "The Weeknd",
         "Artist Followers": "35305637",
         "Chord": "C",
         "Danceability": "0.65",
         "Duration (ms)": "191014",
         "Energy": "0.825",
         "Genre": "['canadian contemporary r&b', 'canadian pop', 'pop']",
         "Highest Charting Position": "2",
         "Index": "64",
         "Liveness": "0.0936",
         "Loudness": "-4.645",
         "Number of Times Charted": "34",
         "Popularity": "94",
         "Release Date": "2021-04-23",
         "Song ID": "37BZB0z9T8Xu7U3e65qxFy",
         "Song Name": "Save Your Tears",
         "Speechiness": "0.0325",
         "Streams": "8,843,110",
         "Tempo": "118.091",
         "Valence": "0.593",
         "Week of Highest Charting": "2021-02-26--2021-03-05",
         "Weeks Charted": "2021-07-23--2021-07-30\n2021-07-16--2021-07-23\n2021-07-09--2021-07-16\n2021-07-02--2021-07-09\n2021-06-25--2021-07-02\n2021-06-18--2021-06-25\n2021-06-11--2021-06-18\n2021-06-04--2021-06-11\n2021-05-28--2021-06-04\n2021-05-21--2021-05-28\n2021-05-14--2021-05-21\n2021-05-07--2021-05-14\n2021-04-30--2021-05-07\n2021-04-23--2021-04-30\n2021-04-16--2021-04-23\n2021-04-09--2021-04-16\n2021-04-02--2021-04-09\n2021-03-26--2021-04-02\n2021-03-19--2021-03-26\n2021-03-12--2021-03-19\n2021-03-05--2021-03-12\n2021-02-26--2021-03-05\n2021-02-19--2021-02-26\n2021-02-12--2021-02-19\n2021-02-05--2021-02-12\n2021-01-29--2021-02-05\n2021-01-22--2021-01-29\n2021-01-15--2021-01-22\n2021-01-08--2021-01-15\n2020-04-17--2020-04-24\n2020-04-10--2020-04-17\n2020-04-03--2020-04-10\n2020-03-27--2020-04-03\n2020-03-20--2020-03-27",
         "_deepnote_index_column": "63"
        },
        {
         "Acousticness": "0.468",
         "Artist": "Ariana Grande",
         "Artist Followers": "67158068",
         "Chord": "C",
         "Danceability": "0.737",
         "Duration (ms)": "172325",
         "Energy": "0.802",
         "Genre": "['dance pop', 'pop', 'post-teen pop']",
         "Highest Charting Position": "1",
         "Index": "92",
         "Liveness": "0.0931",
         "Loudness": "-4.771",
         "Number of Times Charted": "40",
         "Popularity": "86",
         "Release Date": "2020-10-30",
         "Song ID": "35mvY5S1H3J2QZyna3TFe0",
         "Song Name": "positions",
         "Speechiness": "0.0878",
         "Streams": "7,244,853",
         "Tempo": "144.015",
         "Valence": "0.682",
         "Week of Highest Charting": "2020-10-30--2020-11-06",
         "Weeks Charted": "2021-07-23--2021-07-30\n2021-07-16--2021-07-23\n2021-07-09--2021-07-16\n2021-07-02--2021-07-09\n2021-06-25--2021-07-02\n2021-06-18--2021-06-25\n2021-06-11--2021-06-18\n2021-06-04--2021-06-11\n2021-05-28--2021-06-04\n2021-05-21--2021-05-28\n2021-05-14--2021-05-21\n2021-05-07--2021-05-14\n2021-04-30--2021-05-07\n2021-04-23--2021-04-30\n2021-04-16--2021-04-23\n2021-04-09--2021-04-16\n2021-04-02--2021-04-09\n2021-03-26--2021-04-02\n2021-03-19--2021-03-26\n2021-03-12--2021-03-19\n2021-03-05--2021-03-12\n2021-02-26--2021-03-05\n2021-02-19--2021-02-26\n2021-02-12--2021-02-19\n2021-02-05--2021-02-12\n2021-01-29--2021-02-05\n2021-01-22--2021-01-29\n2021-01-15--2021-01-22\n2021-01-08--2021-01-15\n2021-01-01--2021-01-08\n2020-12-25--2021-01-01\n2020-12-18--2020-12-25\n2020-12-11--2020-12-18\n2020-12-04--2020-12-11\n2020-11-27--2020-12-04\n2020-11-20--2020-11-27\n2020-11-13--2020-11-20\n2020-11-06--2020-11-13\n2020-10-30--2020-11-06\n2020-10-23--2020-10-30",
         "_deepnote_index_column": "91"
        },
        {
         "Acousticness": "0.0106",
         "Artist": "Justin Bieber",
         "Artist Followers": "1250353",
         "Chord": "C#/Db",
         "Danceability": "0.658",
         "Duration (ms)": "170813",
         "Energy": "0.634",
         "Genre": "[]",
         "Highest Charting Position": "5",
         "Index": "119",
         "Liveness": "0.132",
         "Loudness": "-5.797",
         "Number of Times Charted": "21",
         "Popularity": "0",
         "Release Date": "2021-08-13",
         "Song ID": "49xx65gvlD7xXjDTavFqaJ",
         "Song Name": "Hold On",
         "Speechiness": "0.0413",
         "Streams": "6,300,416",
         "Tempo": "139.98",
         "Valence": "0.29",
         "Week of Highest Charting": "2021-03-19--2021-03-26",
         "Weeks Charted": "2021-07-23--2021-07-30\n2021-07-16--2021-07-23\n2021-07-09--2021-07-16\n2021-07-02--2021-07-09\n2021-06-25--2021-07-02\n2021-06-18--2021-06-25\n2021-06-11--2021-06-18\n2021-06-04--2021-06-11\n2021-05-28--2021-06-04\n2021-05-21--2021-05-28\n2021-05-14--2021-05-21\n2021-05-07--2021-05-14\n2021-04-30--2021-05-07\n2021-04-23--2021-04-30\n2021-04-16--2021-04-23\n2021-04-09--2021-04-16\n2021-04-02--2021-04-09\n2021-03-26--2021-04-02\n2021-03-19--2021-03-26\n2021-03-12--2021-03-19\n2021-03-05--2021-03-12",
         "_deepnote_index_column": "118"
        }
       ]
      },
      "text/html": [
       "<div>\n",
       "<style scoped>\n",
       "    .dataframe tbody tr th:only-of-type {\n",
       "        vertical-align: middle;\n",
       "    }\n",
       "\n",
       "    .dataframe tbody tr th {\n",
       "        vertical-align: top;\n",
       "    }\n",
       "\n",
       "    .dataframe thead th {\n",
       "        text-align: right;\n",
       "    }\n",
       "</style>\n",
       "<table border=\"1\" class=\"dataframe\">\n",
       "  <thead>\n",
       "    <tr style=\"text-align: right;\">\n",
       "      <th></th>\n",
       "      <th>Index</th>\n",
       "      <th>Highest Charting Position</th>\n",
       "      <th>Number of Times Charted</th>\n",
       "      <th>Week of Highest Charting</th>\n",
       "      <th>Song Name</th>\n",
       "      <th>Streams</th>\n",
       "      <th>Artist</th>\n",
       "      <th>Artist Followers</th>\n",
       "      <th>Song ID</th>\n",
       "      <th>Genre</th>\n",
       "      <th>...</th>\n",
       "      <th>Danceability</th>\n",
       "      <th>Energy</th>\n",
       "      <th>Loudness</th>\n",
       "      <th>Speechiness</th>\n",
       "      <th>Acousticness</th>\n",
       "      <th>Liveness</th>\n",
       "      <th>Tempo</th>\n",
       "      <th>Duration (ms)</th>\n",
       "      <th>Valence</th>\n",
       "      <th>Chord</th>\n",
       "    </tr>\n",
       "  </thead>\n",
       "  <tbody>\n",
       "    <tr>\n",
       "      <th>8</th>\n",
       "      <td>9</td>\n",
       "      <td>3</td>\n",
       "      <td>8</td>\n",
       "      <td>2021-06-18--2021-06-25</td>\n",
       "      <td>Yonaguni</td>\n",
       "      <td>25,030,128</td>\n",
       "      <td>Bad Bunny</td>\n",
       "      <td>36142273</td>\n",
       "      <td>2JPLbjOn0wPCngEot2STUS</td>\n",
       "      <td>['latin', 'reggaeton', 'trap latino']</td>\n",
       "      <td>...</td>\n",
       "      <td>0.644</td>\n",
       "      <td>0.648</td>\n",
       "      <td>-4.601</td>\n",
       "      <td>0.118</td>\n",
       "      <td>0.276</td>\n",
       "      <td>0.135</td>\n",
       "      <td>179.951</td>\n",
       "      <td>206710</td>\n",
       "      <td>0.44</td>\n",
       "      <td>C#/Db</td>\n",
       "    </tr>\n",
       "    <tr>\n",
       "      <th>12</th>\n",
       "      <td>13</td>\n",
       "      <td>5</td>\n",
       "      <td>3</td>\n",
       "      <td>2021-07-09--2021-07-16</td>\n",
       "      <td>Permission to Dance</td>\n",
       "      <td>22,062,812</td>\n",
       "      <td>BTS</td>\n",
       "      <td>37106176</td>\n",
       "      <td>0LThjFY2iTtNdd4wviwVV2</td>\n",
       "      <td>['k-pop', 'k-pop boy group']</td>\n",
       "      <td>...</td>\n",
       "      <td>0.702</td>\n",
       "      <td>0.741</td>\n",
       "      <td>-5.33</td>\n",
       "      <td>0.0427</td>\n",
       "      <td>0.00544</td>\n",
       "      <td>0.337</td>\n",
       "      <td>124.925</td>\n",
       "      <td>187585</td>\n",
       "      <td>0.646</td>\n",
       "      <td>A</td>\n",
       "    </tr>\n",
       "    <tr>\n",
       "      <th>13</th>\n",
       "      <td>14</td>\n",
       "      <td>1</td>\n",
       "      <td>19</td>\n",
       "      <td>2021-04-02--2021-04-09</td>\n",
       "      <td>Peaches (feat. Daniel Caesar &amp; Giveon)</td>\n",
       "      <td>20,294,457</td>\n",
       "      <td>Justin Bieber</td>\n",
       "      <td>48504126</td>\n",
       "      <td>4iJyoBOLtHqaGxP12qzhQI</td>\n",
       "      <td>['canadian pop', 'pop', 'post-teen pop']</td>\n",
       "      <td>...</td>\n",
       "      <td>0.677</td>\n",
       "      <td>0.696</td>\n",
       "      <td>-6.181</td>\n",
       "      <td>0.119</td>\n",
       "      <td>0.321</td>\n",
       "      <td>0.42</td>\n",
       "      <td>90.03</td>\n",
       "      <td>198082</td>\n",
       "      <td>0.464</td>\n",
       "      <td>C</td>\n",
       "    </tr>\n",
       "    <tr>\n",
       "      <th>14</th>\n",
       "      <td>15</td>\n",
       "      <td>2</td>\n",
       "      <td>10</td>\n",
       "      <td>2021-05-21--2021-05-28</td>\n",
       "      <td>Butter</td>\n",
       "      <td>19,985,713</td>\n",
       "      <td>BTS</td>\n",
       "      <td>37106176</td>\n",
       "      <td>2bgTY4UwhfBYhGT4HUYStN</td>\n",
       "      <td>['k-pop', 'k-pop boy group']</td>\n",
       "      <td>...</td>\n",
       "      <td>0.759</td>\n",
       "      <td>0.459</td>\n",
       "      <td>-5.187</td>\n",
       "      <td>0.0948</td>\n",
       "      <td>0.00323</td>\n",
       "      <td>0.0906</td>\n",
       "      <td>109.997</td>\n",
       "      <td>164442</td>\n",
       "      <td>0.695</td>\n",
       "      <td>G#/Ab</td>\n",
       "    </tr>\n",
       "    <tr>\n",
       "      <th>17</th>\n",
       "      <td>18</td>\n",
       "      <td>5</td>\n",
       "      <td>14</td>\n",
       "      <td>2021-04-23--2021-04-30</td>\n",
       "      <td>Save Your Tears (with Ariana Grande) (Remix)</td>\n",
       "      <td>18,053,141</td>\n",
       "      <td>The Weeknd</td>\n",
       "      <td>35305637</td>\n",
       "      <td>37BZB0z9T8Xu7U3e65qxFy</td>\n",
       "      <td>['canadian contemporary r&amp;b', 'canadian pop', ...</td>\n",
       "      <td>...</td>\n",
       "      <td>0.65</td>\n",
       "      <td>0.825</td>\n",
       "      <td>-4.645</td>\n",
       "      <td>0.0325</td>\n",
       "      <td>0.0215</td>\n",
       "      <td>0.0936</td>\n",
       "      <td>118.091</td>\n",
       "      <td>191014</td>\n",
       "      <td>0.593</td>\n",
       "      <td>C</td>\n",
       "    </tr>\n",
       "    <tr>\n",
       "      <th>...</th>\n",
       "      <td>...</td>\n",
       "      <td>...</td>\n",
       "      <td>...</td>\n",
       "      <td>...</td>\n",
       "      <td>...</td>\n",
       "      <td>...</td>\n",
       "      <td>...</td>\n",
       "      <td>...</td>\n",
       "      <td>...</td>\n",
       "      <td>...</td>\n",
       "      <td>...</td>\n",
       "      <td>...</td>\n",
       "      <td>...</td>\n",
       "      <td>...</td>\n",
       "      <td>...</td>\n",
       "      <td>...</td>\n",
       "      <td>...</td>\n",
       "      <td>...</td>\n",
       "      <td>...</td>\n",
       "      <td>...</td>\n",
       "      <td>...</td>\n",
       "    </tr>\n",
       "    <tr>\n",
       "      <th>1499</th>\n",
       "      <td>1500</td>\n",
       "      <td>100</td>\n",
       "      <td>1</td>\n",
       "      <td>2020-01-17--2020-01-24</td>\n",
       "      <td>Alfred - Interlude</td>\n",
       "      <td>8,030,151</td>\n",
       "      <td>Eminem</td>\n",
       "      <td>46814751</td>\n",
       "      <td>4EmunTy7kNBYQivOa8F6b8</td>\n",
       "      <td>['detroit hip hop', 'hip hop', 'rap']</td>\n",
       "      <td>...</td>\n",
       "      <td>0.429</td>\n",
       "      <td>0.231</td>\n",
       "      <td>-20.43</td>\n",
       "      <td>0.402</td>\n",
       "      <td>0.878</td>\n",
       "      <td>0.279</td>\n",
       "      <td>74.545</td>\n",
       "      <td>30133</td>\n",
       "      <td>0.914</td>\n",
       "      <td>F</td>\n",
       "    </tr>\n",
       "    <tr>\n",
       "      <th>1500</th>\n",
       "      <td>1501</td>\n",
       "      <td>102</td>\n",
       "      <td>1</td>\n",
       "      <td>2020-01-17--2020-01-24</td>\n",
       "      <td>Little Engine</td>\n",
       "      <td>7,913,461</td>\n",
       "      <td>Eminem</td>\n",
       "      <td>46814751</td>\n",
       "      <td>4qNWEOMyexn7b8Icyk29t9</td>\n",
       "      <td>['detroit hip hop', 'hip hop', 'rap']</td>\n",
       "      <td>...</td>\n",
       "      <td>0.769</td>\n",
       "      <td>0.811</td>\n",
       "      <td>-4.162</td>\n",
       "      <td>0.228</td>\n",
       "      <td>0.0234</td>\n",
       "      <td>0.0451</td>\n",
       "      <td>155.081</td>\n",
       "      <td>177293</td>\n",
       "      <td>0.76</td>\n",
       "      <td>A#/Bb</td>\n",
       "    </tr>\n",
       "    <tr>\n",
       "      <th>1501</th>\n",
       "      <td>1502</td>\n",
       "      <td>113</td>\n",
       "      <td>1</td>\n",
       "      <td>2020-01-17--2020-01-24</td>\n",
       "      <td>I Will (feat. KXNG Crooked, Royce Da 5'9\" &amp; Jo...</td>\n",
       "      <td>7,115,414</td>\n",
       "      <td>Eminem</td>\n",
       "      <td>46814751</td>\n",
       "      <td>3CJbxqRQ0JNCqboWDNUUeX</td>\n",
       "      <td>['detroit hip hop', 'hip hop', 'rap']</td>\n",
       "      <td>...</td>\n",
       "      <td>0.635</td>\n",
       "      <td>0.543</td>\n",
       "      <td>-5.941</td>\n",
       "      <td>0.067</td>\n",
       "      <td>0.0454</td>\n",
       "      <td>0.272</td>\n",
       "      <td>98.743</td>\n",
       "      <td>303000</td>\n",
       "      <td>0.036</td>\n",
       "      <td>G#/Ab</td>\n",
       "    </tr>\n",
       "    <tr>\n",
       "      <th>1549</th>\n",
       "      <td>1550</td>\n",
       "      <td>187</td>\n",
       "      <td>1</td>\n",
       "      <td>2019-12-27--2020-01-03</td>\n",
       "      <td>Let Me Know (I Wonder Why Freestyle)</td>\n",
       "      <td>4,701,532</td>\n",
       "      <td>Juice WRLD</td>\n",
       "      <td>19102888</td>\n",
       "      <td>3wwo0bJvDSorOpNfzEkfXx</td>\n",
       "      <td>['chicago rap', 'melodic rap']</td>\n",
       "      <td>...</td>\n",
       "      <td>0.635</td>\n",
       "      <td>0.537</td>\n",
       "      <td>-7.895</td>\n",
       "      <td>0.0832</td>\n",
       "      <td>0.172</td>\n",
       "      <td>0.418</td>\n",
       "      <td>125.028</td>\n",
       "      <td>215381</td>\n",
       "      <td>0.383</td>\n",
       "      <td>G</td>\n",
       "    </tr>\n",
       "    <tr>\n",
       "      <th>1555</th>\n",
       "      <td>1556</td>\n",
       "      <td>199</td>\n",
       "      <td>1</td>\n",
       "      <td>2019-12-27--2020-01-03</td>\n",
       "      <td>Lover (Remix) [feat. Shawn Mendes]</td>\n",
       "      <td>4,595,450</td>\n",
       "      <td>Taylor Swift</td>\n",
       "      <td>42227614</td>\n",
       "      <td>3i9UVldZOE0aD0JnyfAZZ0</td>\n",
       "      <td>['pop', 'post-teen pop']</td>\n",
       "      <td>...</td>\n",
       "      <td>0.448</td>\n",
       "      <td>0.603</td>\n",
       "      <td>-7.176</td>\n",
       "      <td>0.064</td>\n",
       "      <td>0.433</td>\n",
       "      <td>0.0862</td>\n",
       "      <td>205.272</td>\n",
       "      <td>221307</td>\n",
       "      <td>0.422</td>\n",
       "      <td>G</td>\n",
       "    </tr>\n",
       "  </tbody>\n",
       "</table>\n",
       "<p>295 rows × 23 columns</p>\n",
       "</div>"
      ],
      "text/plain": [
       "      Index  Highest Charting Position  Number of Times Charted  \\\n",
       "8         9                          3                        8   \n",
       "12       13                          5                        3   \n",
       "13       14                          1                       19   \n",
       "14       15                          2                       10   \n",
       "17       18                          5                       14   \n",
       "...     ...                        ...                      ...   \n",
       "1499   1500                        100                        1   \n",
       "1500   1501                        102                        1   \n",
       "1501   1502                        113                        1   \n",
       "1549   1550                        187                        1   \n",
       "1555   1556                        199                        1   \n",
       "\n",
       "     Week of Highest Charting  \\\n",
       "8      2021-06-18--2021-06-25   \n",
       "12     2021-07-09--2021-07-16   \n",
       "13     2021-04-02--2021-04-09   \n",
       "14     2021-05-21--2021-05-28   \n",
       "17     2021-04-23--2021-04-30   \n",
       "...                       ...   \n",
       "1499   2020-01-17--2020-01-24   \n",
       "1500   2020-01-17--2020-01-24   \n",
       "1501   2020-01-17--2020-01-24   \n",
       "1549   2019-12-27--2020-01-03   \n",
       "1555   2019-12-27--2020-01-03   \n",
       "\n",
       "                                              Song Name     Streams  \\\n",
       "8                                              Yonaguni  25,030,128   \n",
       "12                                  Permission to Dance  22,062,812   \n",
       "13               Peaches (feat. Daniel Caesar & Giveon)  20,294,457   \n",
       "14                                               Butter  19,985,713   \n",
       "17         Save Your Tears (with Ariana Grande) (Remix)  18,053,141   \n",
       "...                                                 ...         ...   \n",
       "1499                                 Alfred - Interlude   8,030,151   \n",
       "1500                                      Little Engine   7,913,461   \n",
       "1501  I Will (feat. KXNG Crooked, Royce Da 5'9\" & Jo...   7,115,414   \n",
       "1549               Let Me Know (I Wonder Why Freestyle)   4,701,532   \n",
       "1555                 Lover (Remix) [feat. Shawn Mendes]   4,595,450   \n",
       "\n",
       "             Artist Artist Followers                 Song ID  \\\n",
       "8         Bad Bunny         36142273  2JPLbjOn0wPCngEot2STUS   \n",
       "12              BTS         37106176  0LThjFY2iTtNdd4wviwVV2   \n",
       "13    Justin Bieber         48504126  4iJyoBOLtHqaGxP12qzhQI   \n",
       "14              BTS         37106176  2bgTY4UwhfBYhGT4HUYStN   \n",
       "17       The Weeknd         35305637  37BZB0z9T8Xu7U3e65qxFy   \n",
       "...             ...              ...                     ...   \n",
       "1499         Eminem         46814751  4EmunTy7kNBYQivOa8F6b8   \n",
       "1500         Eminem         46814751  4qNWEOMyexn7b8Icyk29t9   \n",
       "1501         Eminem         46814751  3CJbxqRQ0JNCqboWDNUUeX   \n",
       "1549     Juice WRLD         19102888  3wwo0bJvDSorOpNfzEkfXx   \n",
       "1555   Taylor Swift         42227614  3i9UVldZOE0aD0JnyfAZZ0   \n",
       "\n",
       "                                                  Genre  ... Danceability  \\\n",
       "8                 ['latin', 'reggaeton', 'trap latino']  ...        0.644   \n",
       "12                         ['k-pop', 'k-pop boy group']  ...        0.702   \n",
       "13             ['canadian pop', 'pop', 'post-teen pop']  ...        0.677   \n",
       "14                         ['k-pop', 'k-pop boy group']  ...        0.759   \n",
       "17    ['canadian contemporary r&b', 'canadian pop', ...  ...         0.65   \n",
       "...                                                 ...  ...          ...   \n",
       "1499              ['detroit hip hop', 'hip hop', 'rap']  ...        0.429   \n",
       "1500              ['detroit hip hop', 'hip hop', 'rap']  ...        0.769   \n",
       "1501              ['detroit hip hop', 'hip hop', 'rap']  ...        0.635   \n",
       "1549                     ['chicago rap', 'melodic rap']  ...        0.635   \n",
       "1555                           ['pop', 'post-teen pop']  ...        0.448   \n",
       "\n",
       "     Energy Loudness Speechiness Acousticness Liveness    Tempo Duration (ms)  \\\n",
       "8     0.648   -4.601       0.118        0.276    0.135  179.951        206710   \n",
       "12    0.741    -5.33      0.0427      0.00544    0.337  124.925        187585   \n",
       "13    0.696   -6.181       0.119        0.321     0.42    90.03        198082   \n",
       "14    0.459   -5.187      0.0948      0.00323   0.0906  109.997        164442   \n",
       "17    0.825   -4.645      0.0325       0.0215   0.0936  118.091        191014   \n",
       "...     ...      ...         ...          ...      ...      ...           ...   \n",
       "1499  0.231   -20.43       0.402        0.878    0.279   74.545         30133   \n",
       "1500  0.811   -4.162       0.228       0.0234   0.0451  155.081        177293   \n",
       "1501  0.543   -5.941       0.067       0.0454    0.272   98.743        303000   \n",
       "1549  0.537   -7.895      0.0832        0.172    0.418  125.028        215381   \n",
       "1555  0.603   -7.176       0.064        0.433   0.0862  205.272        221307   \n",
       "\n",
       "     Valence  Chord  \n",
       "8       0.44  C#/Db  \n",
       "12     0.646      A  \n",
       "13     0.464      C  \n",
       "14     0.695  G#/Ab  \n",
       "17     0.593      C  \n",
       "...      ...    ...  \n",
       "1499   0.914      F  \n",
       "1500    0.76  A#/Bb  \n",
       "1501   0.036  G#/Ab  \n",
       "1549   0.383      G  \n",
       "1555   0.422      G  \n",
       "\n",
       "[295 rows x 23 columns]"
      ]
     },
     "execution_count": 9,
     "metadata": {},
     "output_type": "execute_result"
    }
   ],
   "source": [
    "df.loc[row_labels]"
   ]
  },
  {
   "cell_type": "markdown",
   "metadata": {
    "cell_id": "6bee0579e35f4fdd81d5dcd57014e775",
    "deepnote_cell_type": "markdown",
    "tags": []
   },
   "source": [
    "## The sub-DataFrame of top artists using `isin` and Boolean indexing\n",
    "\n",
    "<iframe width=\"560\" height=\"315\" src=\"https://www.youtube.com/embed/XEkrDCk_djY\" title=\"YouTube video player\" frameborder=\"0\" allow=\"accelerometer; autoplay; clipboard-write; encrypted-media; gyroscope; picture-in-picture\" allowfullscreen></iframe>"
   ]
  },
  {
   "cell_type": "code",
   "execution_count": 11,
   "metadata": {
    "cell_id": "fc6efb2be3a64c72bcdf8fe79aa5f08e",
    "deepnote_cell_type": "code",
    "deepnote_to_be_reexecuted": false,
    "execution_millis": 4,
    "execution_start": 1664642503696,
    "source_hash": "c617b8ef",
    "tags": []
   },
   "outputs": [
    {
     "data": {
      "text/plain": [
       "Index(['Taylor Swift', 'Justin Bieber', 'Lil Uzi Vert', 'Juice WRLD',\n",
       "       'Pop Smoke', 'BTS', 'Bad Bunny', 'Eminem', 'The Weeknd',\n",
       "       'Ariana Grande'],\n",
       "      dtype='object')"
      ]
     },
     "execution_count": 11,
     "metadata": {},
     "output_type": "execute_result"
    }
   ],
   "source": [
    "top_artists"
   ]
  },
  {
   "cell_type": "code",
   "execution_count": 12,
   "metadata": {
    "cell_id": "a5cfb24279ca47f8ba0a6ab0d0785fd8",
    "deepnote_cell_type": "code",
    "deepnote_to_be_reexecuted": false,
    "execution_millis": 2,
    "execution_start": 1664642533523,
    "source_hash": "d0dcd5c2",
    "tags": []
   },
   "outputs": [
    {
     "data": {
      "text/plain": [
       "0                            Måneskin\n",
       "1                       The Kid LAROI\n",
       "2                      Olivia Rodrigo\n",
       "3                          Ed Sheeran\n",
       "4                           Lil Nas X\n",
       "                    ...              \n",
       "1551                         Dua Lipa\n",
       "1552                   Jorge & Mateus\n",
       "1553                   Camila Cabello\n",
       "1554    Dadá Boladão, Tati Zaqui, OIK\n",
       "1555                     Taylor Swift\n",
       "Name: Artist, Length: 1556, dtype: object"
      ]
     },
     "execution_count": 12,
     "metadata": {},
     "output_type": "execute_result"
    }
   ],
   "source": [
    "df[\"Artist\"]"
   ]
  },
  {
   "cell_type": "code",
   "execution_count": 13,
   "metadata": {
    "cell_id": "cbf2db3b0f4b4bc4a3fcb4596cabf552",
    "deepnote_cell_type": "code",
    "deepnote_to_be_reexecuted": false,
    "execution_millis": 2,
    "execution_start": 1664642558435,
    "source_hash": "7e8f0ab9",
    "tags": []
   },
   "outputs": [
    {
     "data": {
      "text/plain": [
       "0       False\n",
       "1       False\n",
       "2       False\n",
       "3       False\n",
       "4       False\n",
       "        ...  \n",
       "1551    False\n",
       "1552    False\n",
       "1553    False\n",
       "1554    False\n",
       "1555     True\n",
       "Name: Artist, Length: 1556, dtype: bool"
      ]
     },
     "execution_count": 13,
     "metadata": {},
     "output_type": "execute_result"
    }
   ],
   "source": [
    "df[\"Artist\"].isin(top_artists)"
   ]
  },
  {
   "cell_type": "code",
   "execution_count": 14,
   "metadata": {
    "cell_id": "65cb70084d4e427391c025304d596aec",
    "deepnote_cell_type": "code",
    "deepnote_to_be_reexecuted": false,
    "execution_millis": 615,
    "execution_start": 1664642586682,
    "source_hash": "c7ca3555",
    "tags": []
   },
   "outputs": [
    {
     "data": {
      "application/vnd.deepnote.dataframe.v3+json": {
       "column_count": 23,
       "columns": [
        {
         "dtype": "int64",
         "name": "Index",
         "stats": {
          "histogram": [
           {
            "bin_end": 163.7,
            "bin_start": 9,
            "count": 12
           },
           {
            "bin_end": 318.4,
            "bin_start": 163.7,
            "count": 19
           },
           {
            "bin_end": 473.09999999999997,
            "bin_start": 318.4,
            "count": 39
           },
           {
            "bin_end": 627.8,
            "bin_start": 473.09999999999997,
            "count": 22
           },
           {
            "bin_end": 782.5,
            "bin_start": 627.8,
            "count": 36
           },
           {
            "bin_end": 937.1999999999999,
            "bin_start": 782.5,
            "count": 16
           },
           {
            "bin_end": 1091.8999999999999,
            "bin_start": 937.1999999999999,
            "count": 46
           },
           {
            "bin_end": 1246.6,
            "bin_start": 1091.8999999999999,
            "count": 12
           },
           {
            "bin_end": 1401.3,
            "bin_start": 1246.6,
            "count": 58
           },
           {
            "bin_end": 1556,
            "bin_start": 1401.3,
            "count": 35
           }
          ],
          "max": "1556",
          "min": "9",
          "nan_count": 0,
          "unique_count": 295
         }
        },
        {
         "dtype": "int64",
         "name": "Highest Charting Position",
         "stats": {
          "histogram": [
           {
            "bin_end": 20.8,
            "bin_start": 1,
            "count": 68
           },
           {
            "bin_end": 40.6,
            "bin_start": 20.8,
            "count": 51
           },
           {
            "bin_end": 60.400000000000006,
            "bin_start": 40.6,
            "count": 51
           },
           {
            "bin_end": 80.2,
            "bin_start": 60.400000000000006,
            "count": 43
           },
           {
            "bin_end": 100,
            "bin_start": 80.2,
            "count": 19
           },
           {
            "bin_end": 119.80000000000001,
            "bin_start": 100,
            "count": 19
           },
           {
            "bin_end": 139.6,
            "bin_start": 119.80000000000001,
            "count": 11
           },
           {
            "bin_end": 159.4,
            "bin_start": 139.6,
            "count": 14
           },
           {
            "bin_end": 179.20000000000002,
            "bin_start": 159.4,
            "count": 9
           },
           {
            "bin_end": 199,
            "bin_start": 179.20000000000002,
            "count": 10
           }
          ],
          "max": "199",
          "min": "1",
          "nan_count": 0,
          "unique_count": 135
         }
        },
        {
         "dtype": "int64",
         "name": "Number of Times Charted",
         "stats": {
          "histogram": [
           {
            "bin_end": 9.2,
            "bin_start": 1,
            "count": 240
           },
           {
            "bin_end": 17.4,
            "bin_start": 9.2,
            "count": 15
           },
           {
            "bin_end": 25.599999999999998,
            "bin_start": 17.4,
            "count": 11
           },
           {
            "bin_end": 33.8,
            "bin_start": 25.599999999999998,
            "count": 7
           },
           {
            "bin_end": 42,
            "bin_start": 33.8,
            "count": 7
           },
           {
            "bin_end": 50.199999999999996,
            "bin_start": 42,
            "count": 5
           },
           {
            "bin_end": 58.39999999999999,
            "bin_start": 50.199999999999996,
            "count": 4
           },
           {
            "bin_end": 66.6,
            "bin_start": 58.39999999999999,
            "count": 1
           },
           {
            "bin_end": 74.8,
            "bin_start": 66.6,
            "count": 2
           },
           {
            "bin_end": 83,
            "bin_start": 74.8,
            "count": 3
           }
          ],
          "max": "83",
          "min": "1",
          "nan_count": 0,
          "unique_count": 40
         }
        },
        {
         "dtype": "object",
         "name": "Week of Highest Charting",
         "stats": {
          "categories": [
           {
            "count": 21,
            "name": "2020-03-06--2020-03-13"
           },
           {
            "count": 19,
            "name": "2020-01-17--2020-01-24"
           },
           {
            "count": 255,
            "name": "49 others"
           }
          ],
          "nan_count": 0,
          "unique_count": 51
         }
        },
        {
         "dtype": "object",
         "name": "Song Name",
         "stats": {
          "categories": [
           {
            "count": 1,
            "name": "Yonaguni"
           },
           {
            "count": 1,
            "name": "Permission to Dance"
           },
           {
            "count": 293,
            "name": "293 others"
           }
          ],
          "nan_count": 0,
          "unique_count": 295
         }
        },
        {
         "dtype": "object",
         "name": "Streams",
         "stats": {
          "categories": [
           {
            "count": 1,
            "name": "25,030,128"
           },
           {
            "count": 1,
            "name": "22,062,812"
           },
           {
            "count": 293,
            "name": "293 others"
           }
          ],
          "nan_count": 0,
          "unique_count": 295
         }
        },
        {
         "dtype": "object",
         "name": "Artist",
         "stats": {
          "categories": [
           {
            "count": 52,
            "name": "Taylor Swift"
           },
           {
            "count": 32,
            "name": "Justin Bieber"
           },
           {
            "count": 211,
            "name": "8 others"
           }
          ],
          "nan_count": 0,
          "unique_count": 10
         }
        },
        {
         "dtype": "object",
         "name": "Artist Followers",
         "stats": {
          "categories": [
           {
            "count": 52,
            "name": "42227614"
           },
           {
            "count": 32,
            "name": "11821805"
           },
           {
            "count": 211,
            "name": "18 others"
           }
          ],
          "nan_count": 0,
          "unique_count": 20
         }
        },
        {
         "dtype": "object",
         "name": "Song ID",
         "stats": {
          "categories": [
           {
            "count": 2,
            "name": "37BZB0z9T8Xu7U3e65qxFy"
           },
           {
            "count": 2,
            "name": " "
           },
           {
            "count": 291,
            "name": "291 others"
           }
          ],
          "nan_count": 0,
          "unique_count": 293
         }
        },
        {
         "dtype": "object",
         "name": "Genre",
         "stats": {
          "categories": [
           {
            "count": 52,
            "name": "['pop', 'post-teen pop']"
           },
           {
            "count": 32,
            "name": "['melodic rap', 'philly rap', 'rap', 'trap']"
           },
           {
            "count": 211,
            "name": "10 others"
           }
          ],
          "nan_count": 0,
          "unique_count": 12
         }
        },
        {
         "dtype": "object",
         "name": "Release Date",
         "stats": {
          "categories": [
           {
            "count": 20,
            "name": "2020-07-10"
           },
           {
            "count": 18,
            "name": "2020-01-17"
           },
           {
            "count": 257,
            "name": "64 others"
           }
          ],
          "nan_count": 0,
          "unique_count": 66
         }
        },
        {
         "dtype": "object",
         "name": "Weeks Charted",
         "stats": {
          "categories": [
           {
            "count": 13,
            "name": "2021-04-09--2021-04-16"
           },
           {
            "count": 13,
            "name": "2020-02-14--2020-02-21"
           },
           {
            "count": 269,
            "name": "141 others"
           }
          ],
          "nan_count": 0,
          "unique_count": 143
         }
        },
        {
         "dtype": "object",
         "name": "Popularity",
         "stats": {
          "categories": [
           {
            "count": 22,
            "name": "67"
           },
           {
            "count": 20,
            "name": "66"
           },
           {
            "count": 253,
            "name": "40 others"
           }
          ],
          "nan_count": 0,
          "unique_count": 42
         }
        },
        {
         "dtype": "object",
         "name": "Danceability",
         "stats": {
          "categories": [
           {
            "count": 4,
            "name": "0.688"
           },
           {
            "count": 3,
            "name": "0.702"
           },
           {
            "count": 288,
            "name": "224 others"
           }
          ],
          "nan_count": 0,
          "unique_count": 226
         }
        },
        {
         "dtype": "object",
         "name": "Energy",
         "stats": {
          "categories": [
           {
            "count": 4,
            "name": "0.608"
           },
           {
            "count": 3,
            "name": "0.741"
           },
           {
            "count": 288,
            "name": "214 others"
           }
          ],
          "nan_count": 0,
          "unique_count": 216
         }
        },
        {
         "dtype": "object",
         "name": "Loudness",
         "stats": {
          "categories": [
           {
            "count": 2,
            "name": "-4.645"
           },
           {
            "count": 2,
            "name": " "
           },
           {
            "count": 291,
            "name": "282 others"
           }
          ],
          "nan_count": 0,
          "unique_count": 284
         }
        },
        {
         "dtype": "object",
         "name": "Speechiness",
         "stats": {
          "categories": [
           {
            "count": 3,
            "name": "0.0325"
           },
           {
            "count": 3,
            "name": "0.2"
           },
           {
            "count": 289,
            "name": "246 others"
           }
          ],
          "nan_count": 0,
          "unique_count": 248
         }
        },
        {
         "dtype": "object",
         "name": "Acousticness",
         "stats": {
          "categories": [
           {
            "count": 4,
            "name": "0.162"
           },
           {
            "count": 3,
            "name": "0.114"
           },
           {
            "count": 288,
            "name": "267 others"
           }
          ],
          "nan_count": 0,
          "unique_count": 269
         }
        },
        {
         "dtype": "object",
         "name": "Liveness",
         "stats": {
          "categories": [
           {
            "count": 5,
            "name": "0.113"
           },
           {
            "count": 5,
            "name": "0.112"
           },
           {
            "count": 285,
            "name": "197 others"
           }
          ],
          "nan_count": 0,
          "unique_count": 199
         }
        },
        {
         "dtype": "object",
         "name": "Tempo",
         "stats": {
          "categories": [
           {
            "count": 2,
            "name": "118.091"
           },
           {
            "count": 2,
            "name": "139.98"
           },
           {
            "count": 291,
            "name": "289 others"
           }
          ],
          "nan_count": 0,
          "unique_count": 291
         }
        },
        {
         "dtype": "object",
         "name": "Duration (ms)",
         "stats": {
          "categories": [
           {
            "count": 2,
            "name": "191014"
           },
           {
            "count": 2,
            "name": "160000"
           },
           {
            "count": 291,
            "name": "288 others"
           }
          ],
          "nan_count": 0,
          "unique_count": 290
         }
        },
        {
         "dtype": "object",
         "name": "Valence",
         "stats": {
          "categories": [
           {
            "count": 3,
            "name": "0.464"
           },
           {
            "count": 3,
            "name": "0.372"
           },
           {
            "count": 289,
            "name": "247 others"
           }
          ],
          "nan_count": 0,
          "unique_count": 249
         }
        },
        {
         "dtype": "object",
         "name": "Chord",
         "stats": {
          "categories": [
           {
            "count": 41,
            "name": "C"
           },
           {
            "count": 39,
            "name": "C#/Db"
           },
           {
            "count": 215,
            "name": "11 others"
           }
          ],
          "nan_count": 0,
          "unique_count": 13
         }
        },
        {
         "dtype": "int64",
         "name": "_deepnote_index_column"
        }
       ],
       "row_count": 295,
       "rows": [
        {
         "Acousticness": "0.276",
         "Artist": "Bad Bunny",
         "Artist Followers": "36142273",
         "Chord": "C#/Db",
         "Danceability": "0.644",
         "Duration (ms)": "206710",
         "Energy": "0.648",
         "Genre": "['latin', 'reggaeton', 'trap latino']",
         "Highest Charting Position": "3",
         "Index": "9",
         "Liveness": "0.135",
         "Loudness": "-4.601",
         "Number of Times Charted": "8",
         "Popularity": "96",
         "Release Date": "2021-06-04",
         "Song ID": "2JPLbjOn0wPCngEot2STUS",
         "Song Name": "Yonaguni",
         "Speechiness": "0.118",
         "Streams": "25,030,128",
         "Tempo": "179.951",
         "Valence": "0.44",
         "Week of Highest Charting": "2021-06-18--2021-06-25",
         "Weeks Charted": "2021-07-23--2021-07-30\n2021-07-16--2021-07-23\n2021-07-09--2021-07-16\n2021-07-02--2021-07-09\n2021-06-25--2021-07-02\n2021-06-18--2021-06-25\n2021-06-11--2021-06-18\n2021-06-04--2021-06-11",
         "_deepnote_index_column": "8"
        },
        {
         "Acousticness": "0.00544",
         "Artist": "BTS",
         "Artist Followers": "37106176",
         "Chord": "A",
         "Danceability": "0.702",
         "Duration (ms)": "187585",
         "Energy": "0.741",
         "Genre": "['k-pop', 'k-pop boy group']",
         "Highest Charting Position": "5",
         "Index": "13",
         "Liveness": "0.337",
         "Loudness": "-5.33",
         "Number of Times Charted": "3",
         "Popularity": "95",
         "Release Date": "2021-07-09",
         "Song ID": "0LThjFY2iTtNdd4wviwVV2",
         "Song Name": "Permission to Dance",
         "Speechiness": "0.0427",
         "Streams": "22,062,812",
         "Tempo": "124.925",
         "Valence": "0.646",
         "Week of Highest Charting": "2021-07-09--2021-07-16",
         "Weeks Charted": "2021-07-23--2021-07-30\n2021-07-16--2021-07-23\n2021-07-09--2021-07-16",
         "_deepnote_index_column": "12"
        },
        {
         "Acousticness": "0.321",
         "Artist": "Justin Bieber",
         "Artist Followers": "48504126",
         "Chord": "C",
         "Danceability": "0.677",
         "Duration (ms)": "198082",
         "Energy": "0.696",
         "Genre": "['canadian pop', 'pop', 'post-teen pop']",
         "Highest Charting Position": "1",
         "Index": "14",
         "Liveness": "0.42",
         "Loudness": "-6.181",
         "Number of Times Charted": "19",
         "Popularity": "94",
         "Release Date": "2021-03-19",
         "Song ID": "4iJyoBOLtHqaGxP12qzhQI",
         "Song Name": "Peaches (feat. Daniel Caesar & Giveon)",
         "Speechiness": "0.119",
         "Streams": "20,294,457",
         "Tempo": "90.03",
         "Valence": "0.464",
         "Week of Highest Charting": "2021-04-02--2021-04-09",
         "Weeks Charted": "2021-07-23--2021-07-30\n2021-07-16--2021-07-23\n2021-07-09--2021-07-16\n2021-07-02--2021-07-09\n2021-06-25--2021-07-02\n2021-06-18--2021-06-25\n2021-06-11--2021-06-18\n2021-06-04--2021-06-11\n2021-05-28--2021-06-04\n2021-05-21--2021-05-28\n2021-05-14--2021-05-21\n2021-05-07--2021-05-14\n2021-04-30--2021-05-07\n2021-04-23--2021-04-30\n2021-04-16--2021-04-23\n2021-04-09--2021-04-16\n2021-04-02--2021-04-09\n2021-03-26--2021-04-02\n2021-03-19--2021-03-26",
         "_deepnote_index_column": "13"
        },
        {
         "Acousticness": "0.00323",
         "Artist": "BTS",
         "Artist Followers": "37106176",
         "Chord": "G#/Ab",
         "Danceability": "0.759",
         "Duration (ms)": "164442",
         "Energy": "0.459",
         "Genre": "['k-pop', 'k-pop boy group']",
         "Highest Charting Position": "2",
         "Index": "15",
         "Liveness": "0.0906",
         "Loudness": "-5.187",
         "Number of Times Charted": "10",
         "Popularity": "95",
         "Release Date": "2021-06-04",
         "Song ID": "2bgTY4UwhfBYhGT4HUYStN",
         "Song Name": "Butter",
         "Speechiness": "0.0948",
         "Streams": "19,985,713",
         "Tempo": "109.997",
         "Valence": "0.695",
         "Week of Highest Charting": "2021-05-21--2021-05-28",
         "Weeks Charted": "2021-07-23--2021-07-30\n2021-07-16--2021-07-23\n2021-07-09--2021-07-16\n2021-07-02--2021-07-09\n2021-06-25--2021-07-02\n2021-06-18--2021-06-25\n2021-06-11--2021-06-18\n2021-06-04--2021-06-11\n2021-05-28--2021-06-04\n2021-05-21--2021-05-28",
         "_deepnote_index_column": "14"
        },
        {
         "Acousticness": "0.0215",
         "Artist": "The Weeknd",
         "Artist Followers": "35305637",
         "Chord": "C",
         "Danceability": "0.65",
         "Duration (ms)": "191014",
         "Energy": "0.825",
         "Genre": "['canadian contemporary r&b', 'canadian pop', 'pop']",
         "Highest Charting Position": "5",
         "Index": "18",
         "Liveness": "0.0936",
         "Loudness": "-4.645",
         "Number of Times Charted": "14",
         "Popularity": "94",
         "Release Date": "2021-04-23",
         "Song ID": "37BZB0z9T8Xu7U3e65qxFy",
         "Song Name": "Save Your Tears (with Ariana Grande) (Remix)",
         "Speechiness": "0.0325",
         "Streams": "18,053,141",
         "Tempo": "118.091",
         "Valence": "0.593",
         "Week of Highest Charting": "2021-04-23--2021-04-30",
         "Weeks Charted": "2021-07-23--2021-07-30\n2021-07-16--2021-07-23\n2021-07-09--2021-07-16\n2021-07-02--2021-07-09\n2021-06-25--2021-07-02\n2021-06-18--2021-06-25\n2021-06-11--2021-06-18\n2021-06-04--2021-06-11\n2021-05-28--2021-06-04\n2021-05-21--2021-05-28\n2021-05-14--2021-05-21\n2021-05-07--2021-05-14\n2021-04-30--2021-05-07\n2021-04-23--2021-04-30",
         "_deepnote_index_column": "17"
        },
        {
         "Acousticness": "0.00146",
         "Artist": "The Weeknd",
         "Artist Followers": "35305637",
         "Chord": "C#/Db",
         "Danceability": "0.514",
         "Duration (ms)": "200040",
         "Energy": "0.73",
         "Genre": "['canadian contemporary r&b', 'canadian pop', 'pop']",
         "Highest Charting Position": "1",
         "Index": "25",
         "Liveness": "0.0897",
         "Loudness": "-5.934",
         "Number of Times Charted": "83",
         "Popularity": "92",
         "Release Date": "2020-03-20",
         "Song ID": "0VjIjW4GlUZAMYd2vXMi3b",
         "Song Name": "Blinding Lights",
         "Speechiness": "0.0598",
         "Streams": "15,011,809",
         "Tempo": "171.005",
         "Valence": "0.334",
         "Week of Highest Charting": "2020-06-12--2020-06-19",
         "Weeks Charted": "2021-07-23--2021-07-30\n2021-07-16--2021-07-23\n2021-07-09--2021-07-16\n2021-07-02--2021-07-09\n2021-06-25--2021-07-02\n2021-06-18--2021-06-25\n2021-06-11--2021-06-18\n2021-06-04--2021-06-11\n2021-05-28--2021-06-04\n2021-05-21--2021-05-28\n2021-05-14--2021-05-21\n2021-05-07--2021-05-14\n2021-04-30--2021-05-07\n2021-04-23--2021-04-30\n2021-04-16--2021-04-23\n2021-04-09--2021-04-16\n2021-04-02--2021-04-09\n2021-03-26--2021-04-02\n2021-03-19--2021-03-26\n2021-03-12--2021-03-19\n2021-03-05--2021-03-12\n2021-02-26--2021-03-05\n2021-02-19--2021-02-26\n2021-02-12--2021-02-19\n2021-02-05--2021-02-12\n2021-01-29--2021-02-05\n2021-01-22--2021-01-29\n2021-01-15--2021-01-22\n2021-01-08--2021-01-15\n2021-01-01--2021-01-08\n2020-12-25--2021-01-01\n2020-12-18--2020-12-25\n2020-12-11--2020-12-18\n2020-12-04--2020-12-11\n2020-11-27--2020-12-04\n2020-11-20--2020-11-27\n2020-11-13--2020-11-20\n2020-11-06--2020-11-13\n2020-10-30--2020-11-06\n2020-10-23--2020-10-30\n2020-10-16--2020-10-23\n2020-10-09--2020-10-16\n2020-10-02--2020-10-09\n2020-09-25…",
         "_deepnote_index_column": "24"
        },
        {
         "Acousticness": "0.0112",
         "Artist": "BTS",
         "Artist Followers": "37106176",
         "Chord": "F#/Gb",
         "Danceability": "0.746",
         "Duration (ms)": "199054",
         "Energy": "0.765",
         "Genre": "['k-pop', 'k-pop boy group']",
         "Highest Charting Position": "2",
         "Index": "44",
         "Liveness": "0.0936",
         "Loudness": "-4.41",
         "Number of Times Charted": "49",
         "Popularity": "89",
         "Release Date": "2020-11-20",
         "Song ID": "4saklk6nie3yiGePpBwUoc",
         "Song Name": "Dynamite",
         "Speechiness": "0.0993",
         "Streams": "11,196,819",
         "Tempo": "114.044",
         "Valence": "0.737",
         "Week of Highest Charting": "2020-11-20--2020-11-27",
         "Weeks Charted": "2021-07-23--2021-07-30\n2021-07-16--2021-07-23\n2021-07-09--2021-07-16\n2021-07-02--2021-07-09\n2021-06-25--2021-07-02\n2021-06-18--2021-06-25\n2021-06-11--2021-06-18\n2021-06-04--2021-06-11\n2021-05-28--2021-06-04\n2021-05-21--2021-05-28\n2021-05-14--2021-05-21\n2021-05-07--2021-05-14\n2021-04-30--2021-05-07\n2021-04-23--2021-04-30\n2021-04-16--2021-04-23\n2021-04-09--2021-04-16\n2021-04-02--2021-04-09\n2021-03-26--2021-04-02\n2021-03-19--2021-03-26\n2021-03-12--2021-03-19\n2021-03-05--2021-03-12\n2021-02-26--2021-03-05\n2021-02-19--2021-02-26\n2021-02-12--2021-02-19\n2021-02-05--2021-02-12\n2021-01-29--2021-02-05\n2021-01-22--2021-01-29\n2021-01-15--2021-01-22\n2021-01-08--2021-01-15\n2021-01-01--2021-01-08\n2020-12-25--2021-01-01\n2020-12-18--2020-12-25\n2020-12-11--2020-12-18\n2020-12-04--2020-12-11\n2020-11-27--2020-12-04\n2020-11-20--2020-11-27\n2020-11-13--2020-11-20\n2020-11-06--2020-11-13\n2020-10-30--2020-11-06\n2020-10-23--2020-10-30\n2020-10-16--2020-10-23\n2020-10-09--2020-10-16\n2020-10-02--2020-10-09\n2020-09-25…",
         "_deepnote_index_column": "43"
        },
        {
         "Acousticness": "0.0215",
         "Artist": "The Weeknd",
         "Artist Followers": "35305637",
         "Chord": "C",
         "Danceability": "0.65",
         "Duration (ms)": "191014",
         "Energy": "0.825",
         "Genre": "['canadian contemporary r&b', 'canadian pop', 'pop']",
         "Highest Charting Position": "2",
         "Index": "64",
         "Liveness": "0.0936",
         "Loudness": "-4.645",
         "Number of Times Charted": "34",
         "Popularity": "94",
         "Release Date": "2021-04-23",
         "Song ID": "37BZB0z9T8Xu7U3e65qxFy",
         "Song Name": "Save Your Tears",
         "Speechiness": "0.0325",
         "Streams": "8,843,110",
         "Tempo": "118.091",
         "Valence": "0.593",
         "Week of Highest Charting": "2021-02-26--2021-03-05",
         "Weeks Charted": "2021-07-23--2021-07-30\n2021-07-16--2021-07-23\n2021-07-09--2021-07-16\n2021-07-02--2021-07-09\n2021-06-25--2021-07-02\n2021-06-18--2021-06-25\n2021-06-11--2021-06-18\n2021-06-04--2021-06-11\n2021-05-28--2021-06-04\n2021-05-21--2021-05-28\n2021-05-14--2021-05-21\n2021-05-07--2021-05-14\n2021-04-30--2021-05-07\n2021-04-23--2021-04-30\n2021-04-16--2021-04-23\n2021-04-09--2021-04-16\n2021-04-02--2021-04-09\n2021-03-26--2021-04-02\n2021-03-19--2021-03-26\n2021-03-12--2021-03-19\n2021-03-05--2021-03-12\n2021-02-26--2021-03-05\n2021-02-19--2021-02-26\n2021-02-12--2021-02-19\n2021-02-05--2021-02-12\n2021-01-29--2021-02-05\n2021-01-22--2021-01-29\n2021-01-15--2021-01-22\n2021-01-08--2021-01-15\n2020-04-17--2020-04-24\n2020-04-10--2020-04-17\n2020-04-03--2020-04-10\n2020-03-27--2020-04-03\n2020-03-20--2020-03-27",
         "_deepnote_index_column": "63"
        },
        {
         "Acousticness": "0.468",
         "Artist": "Ariana Grande",
         "Artist Followers": "67158068",
         "Chord": "C",
         "Danceability": "0.737",
         "Duration (ms)": "172325",
         "Energy": "0.802",
         "Genre": "['dance pop', 'pop', 'post-teen pop']",
         "Highest Charting Position": "1",
         "Index": "92",
         "Liveness": "0.0931",
         "Loudness": "-4.771",
         "Number of Times Charted": "40",
         "Popularity": "86",
         "Release Date": "2020-10-30",
         "Song ID": "35mvY5S1H3J2QZyna3TFe0",
         "Song Name": "positions",
         "Speechiness": "0.0878",
         "Streams": "7,244,853",
         "Tempo": "144.015",
         "Valence": "0.682",
         "Week of Highest Charting": "2020-10-30--2020-11-06",
         "Weeks Charted": "2021-07-23--2021-07-30\n2021-07-16--2021-07-23\n2021-07-09--2021-07-16\n2021-07-02--2021-07-09\n2021-06-25--2021-07-02\n2021-06-18--2021-06-25\n2021-06-11--2021-06-18\n2021-06-04--2021-06-11\n2021-05-28--2021-06-04\n2021-05-21--2021-05-28\n2021-05-14--2021-05-21\n2021-05-07--2021-05-14\n2021-04-30--2021-05-07\n2021-04-23--2021-04-30\n2021-04-16--2021-04-23\n2021-04-09--2021-04-16\n2021-04-02--2021-04-09\n2021-03-26--2021-04-02\n2021-03-19--2021-03-26\n2021-03-12--2021-03-19\n2021-03-05--2021-03-12\n2021-02-26--2021-03-05\n2021-02-19--2021-02-26\n2021-02-12--2021-02-19\n2021-02-05--2021-02-12\n2021-01-29--2021-02-05\n2021-01-22--2021-01-29\n2021-01-15--2021-01-22\n2021-01-08--2021-01-15\n2021-01-01--2021-01-08\n2020-12-25--2021-01-01\n2020-12-18--2020-12-25\n2020-12-11--2020-12-18\n2020-12-04--2020-12-11\n2020-11-27--2020-12-04\n2020-11-20--2020-11-27\n2020-11-13--2020-11-20\n2020-11-06--2020-11-13\n2020-10-30--2020-11-06\n2020-10-23--2020-10-30",
         "_deepnote_index_column": "91"
        },
        {
         "Acousticness": "0.0106",
         "Artist": "Justin Bieber",
         "Artist Followers": "1250353",
         "Chord": "C#/Db",
         "Danceability": "0.658",
         "Duration (ms)": "170813",
         "Energy": "0.634",
         "Genre": "[]",
         "Highest Charting Position": "5",
         "Index": "119",
         "Liveness": "0.132",
         "Loudness": "-5.797",
         "Number of Times Charted": "21",
         "Popularity": "0",
         "Release Date": "2021-08-13",
         "Song ID": "49xx65gvlD7xXjDTavFqaJ",
         "Song Name": "Hold On",
         "Speechiness": "0.0413",
         "Streams": "6,300,416",
         "Tempo": "139.98",
         "Valence": "0.29",
         "Week of Highest Charting": "2021-03-19--2021-03-26",
         "Weeks Charted": "2021-07-23--2021-07-30\n2021-07-16--2021-07-23\n2021-07-09--2021-07-16\n2021-07-02--2021-07-09\n2021-06-25--2021-07-02\n2021-06-18--2021-06-25\n2021-06-11--2021-06-18\n2021-06-04--2021-06-11\n2021-05-28--2021-06-04\n2021-05-21--2021-05-28\n2021-05-14--2021-05-21\n2021-05-07--2021-05-14\n2021-04-30--2021-05-07\n2021-04-23--2021-04-30\n2021-04-16--2021-04-23\n2021-04-09--2021-04-16\n2021-04-02--2021-04-09\n2021-03-26--2021-04-02\n2021-03-19--2021-03-26\n2021-03-12--2021-03-19\n2021-03-05--2021-03-12",
         "_deepnote_index_column": "118"
        }
       ]
      },
      "text/html": [
       "<div>\n",
       "<style scoped>\n",
       "    .dataframe tbody tr th:only-of-type {\n",
       "        vertical-align: middle;\n",
       "    }\n",
       "\n",
       "    .dataframe tbody tr th {\n",
       "        vertical-align: top;\n",
       "    }\n",
       "\n",
       "    .dataframe thead th {\n",
       "        text-align: right;\n",
       "    }\n",
       "</style>\n",
       "<table border=\"1\" class=\"dataframe\">\n",
       "  <thead>\n",
       "    <tr style=\"text-align: right;\">\n",
       "      <th></th>\n",
       "      <th>Index</th>\n",
       "      <th>Highest Charting Position</th>\n",
       "      <th>Number of Times Charted</th>\n",
       "      <th>Week of Highest Charting</th>\n",
       "      <th>Song Name</th>\n",
       "      <th>Streams</th>\n",
       "      <th>Artist</th>\n",
       "      <th>Artist Followers</th>\n",
       "      <th>Song ID</th>\n",
       "      <th>Genre</th>\n",
       "      <th>...</th>\n",
       "      <th>Danceability</th>\n",
       "      <th>Energy</th>\n",
       "      <th>Loudness</th>\n",
       "      <th>Speechiness</th>\n",
       "      <th>Acousticness</th>\n",
       "      <th>Liveness</th>\n",
       "      <th>Tempo</th>\n",
       "      <th>Duration (ms)</th>\n",
       "      <th>Valence</th>\n",
       "      <th>Chord</th>\n",
       "    </tr>\n",
       "  </thead>\n",
       "  <tbody>\n",
       "    <tr>\n",
       "      <th>8</th>\n",
       "      <td>9</td>\n",
       "      <td>3</td>\n",
       "      <td>8</td>\n",
       "      <td>2021-06-18--2021-06-25</td>\n",
       "      <td>Yonaguni</td>\n",
       "      <td>25,030,128</td>\n",
       "      <td>Bad Bunny</td>\n",
       "      <td>36142273</td>\n",
       "      <td>2JPLbjOn0wPCngEot2STUS</td>\n",
       "      <td>['latin', 'reggaeton', 'trap latino']</td>\n",
       "      <td>...</td>\n",
       "      <td>0.644</td>\n",
       "      <td>0.648</td>\n",
       "      <td>-4.601</td>\n",
       "      <td>0.118</td>\n",
       "      <td>0.276</td>\n",
       "      <td>0.135</td>\n",
       "      <td>179.951</td>\n",
       "      <td>206710</td>\n",
       "      <td>0.44</td>\n",
       "      <td>C#/Db</td>\n",
       "    </tr>\n",
       "    <tr>\n",
       "      <th>12</th>\n",
       "      <td>13</td>\n",
       "      <td>5</td>\n",
       "      <td>3</td>\n",
       "      <td>2021-07-09--2021-07-16</td>\n",
       "      <td>Permission to Dance</td>\n",
       "      <td>22,062,812</td>\n",
       "      <td>BTS</td>\n",
       "      <td>37106176</td>\n",
       "      <td>0LThjFY2iTtNdd4wviwVV2</td>\n",
       "      <td>['k-pop', 'k-pop boy group']</td>\n",
       "      <td>...</td>\n",
       "      <td>0.702</td>\n",
       "      <td>0.741</td>\n",
       "      <td>-5.33</td>\n",
       "      <td>0.0427</td>\n",
       "      <td>0.00544</td>\n",
       "      <td>0.337</td>\n",
       "      <td>124.925</td>\n",
       "      <td>187585</td>\n",
       "      <td>0.646</td>\n",
       "      <td>A</td>\n",
       "    </tr>\n",
       "    <tr>\n",
       "      <th>13</th>\n",
       "      <td>14</td>\n",
       "      <td>1</td>\n",
       "      <td>19</td>\n",
       "      <td>2021-04-02--2021-04-09</td>\n",
       "      <td>Peaches (feat. Daniel Caesar &amp; Giveon)</td>\n",
       "      <td>20,294,457</td>\n",
       "      <td>Justin Bieber</td>\n",
       "      <td>48504126</td>\n",
       "      <td>4iJyoBOLtHqaGxP12qzhQI</td>\n",
       "      <td>['canadian pop', 'pop', 'post-teen pop']</td>\n",
       "      <td>...</td>\n",
       "      <td>0.677</td>\n",
       "      <td>0.696</td>\n",
       "      <td>-6.181</td>\n",
       "      <td>0.119</td>\n",
       "      <td>0.321</td>\n",
       "      <td>0.42</td>\n",
       "      <td>90.03</td>\n",
       "      <td>198082</td>\n",
       "      <td>0.464</td>\n",
       "      <td>C</td>\n",
       "    </tr>\n",
       "    <tr>\n",
       "      <th>14</th>\n",
       "      <td>15</td>\n",
       "      <td>2</td>\n",
       "      <td>10</td>\n",
       "      <td>2021-05-21--2021-05-28</td>\n",
       "      <td>Butter</td>\n",
       "      <td>19,985,713</td>\n",
       "      <td>BTS</td>\n",
       "      <td>37106176</td>\n",
       "      <td>2bgTY4UwhfBYhGT4HUYStN</td>\n",
       "      <td>['k-pop', 'k-pop boy group']</td>\n",
       "      <td>...</td>\n",
       "      <td>0.759</td>\n",
       "      <td>0.459</td>\n",
       "      <td>-5.187</td>\n",
       "      <td>0.0948</td>\n",
       "      <td>0.00323</td>\n",
       "      <td>0.0906</td>\n",
       "      <td>109.997</td>\n",
       "      <td>164442</td>\n",
       "      <td>0.695</td>\n",
       "      <td>G#/Ab</td>\n",
       "    </tr>\n",
       "    <tr>\n",
       "      <th>17</th>\n",
       "      <td>18</td>\n",
       "      <td>5</td>\n",
       "      <td>14</td>\n",
       "      <td>2021-04-23--2021-04-30</td>\n",
       "      <td>Save Your Tears (with Ariana Grande) (Remix)</td>\n",
       "      <td>18,053,141</td>\n",
       "      <td>The Weeknd</td>\n",
       "      <td>35305637</td>\n",
       "      <td>37BZB0z9T8Xu7U3e65qxFy</td>\n",
       "      <td>['canadian contemporary r&amp;b', 'canadian pop', ...</td>\n",
       "      <td>...</td>\n",
       "      <td>0.65</td>\n",
       "      <td>0.825</td>\n",
       "      <td>-4.645</td>\n",
       "      <td>0.0325</td>\n",
       "      <td>0.0215</td>\n",
       "      <td>0.0936</td>\n",
       "      <td>118.091</td>\n",
       "      <td>191014</td>\n",
       "      <td>0.593</td>\n",
       "      <td>C</td>\n",
       "    </tr>\n",
       "    <tr>\n",
       "      <th>...</th>\n",
       "      <td>...</td>\n",
       "      <td>...</td>\n",
       "      <td>...</td>\n",
       "      <td>...</td>\n",
       "      <td>...</td>\n",
       "      <td>...</td>\n",
       "      <td>...</td>\n",
       "      <td>...</td>\n",
       "      <td>...</td>\n",
       "      <td>...</td>\n",
       "      <td>...</td>\n",
       "      <td>...</td>\n",
       "      <td>...</td>\n",
       "      <td>...</td>\n",
       "      <td>...</td>\n",
       "      <td>...</td>\n",
       "      <td>...</td>\n",
       "      <td>...</td>\n",
       "      <td>...</td>\n",
       "      <td>...</td>\n",
       "      <td>...</td>\n",
       "    </tr>\n",
       "    <tr>\n",
       "      <th>1499</th>\n",
       "      <td>1500</td>\n",
       "      <td>100</td>\n",
       "      <td>1</td>\n",
       "      <td>2020-01-17--2020-01-24</td>\n",
       "      <td>Alfred - Interlude</td>\n",
       "      <td>8,030,151</td>\n",
       "      <td>Eminem</td>\n",
       "      <td>46814751</td>\n",
       "      <td>4EmunTy7kNBYQivOa8F6b8</td>\n",
       "      <td>['detroit hip hop', 'hip hop', 'rap']</td>\n",
       "      <td>...</td>\n",
       "      <td>0.429</td>\n",
       "      <td>0.231</td>\n",
       "      <td>-20.43</td>\n",
       "      <td>0.402</td>\n",
       "      <td>0.878</td>\n",
       "      <td>0.279</td>\n",
       "      <td>74.545</td>\n",
       "      <td>30133</td>\n",
       "      <td>0.914</td>\n",
       "      <td>F</td>\n",
       "    </tr>\n",
       "    <tr>\n",
       "      <th>1500</th>\n",
       "      <td>1501</td>\n",
       "      <td>102</td>\n",
       "      <td>1</td>\n",
       "      <td>2020-01-17--2020-01-24</td>\n",
       "      <td>Little Engine</td>\n",
       "      <td>7,913,461</td>\n",
       "      <td>Eminem</td>\n",
       "      <td>46814751</td>\n",
       "      <td>4qNWEOMyexn7b8Icyk29t9</td>\n",
       "      <td>['detroit hip hop', 'hip hop', 'rap']</td>\n",
       "      <td>...</td>\n",
       "      <td>0.769</td>\n",
       "      <td>0.811</td>\n",
       "      <td>-4.162</td>\n",
       "      <td>0.228</td>\n",
       "      <td>0.0234</td>\n",
       "      <td>0.0451</td>\n",
       "      <td>155.081</td>\n",
       "      <td>177293</td>\n",
       "      <td>0.76</td>\n",
       "      <td>A#/Bb</td>\n",
       "    </tr>\n",
       "    <tr>\n",
       "      <th>1501</th>\n",
       "      <td>1502</td>\n",
       "      <td>113</td>\n",
       "      <td>1</td>\n",
       "      <td>2020-01-17--2020-01-24</td>\n",
       "      <td>I Will (feat. KXNG Crooked, Royce Da 5'9\" &amp; Jo...</td>\n",
       "      <td>7,115,414</td>\n",
       "      <td>Eminem</td>\n",
       "      <td>46814751</td>\n",
       "      <td>3CJbxqRQ0JNCqboWDNUUeX</td>\n",
       "      <td>['detroit hip hop', 'hip hop', 'rap']</td>\n",
       "      <td>...</td>\n",
       "      <td>0.635</td>\n",
       "      <td>0.543</td>\n",
       "      <td>-5.941</td>\n",
       "      <td>0.067</td>\n",
       "      <td>0.0454</td>\n",
       "      <td>0.272</td>\n",
       "      <td>98.743</td>\n",
       "      <td>303000</td>\n",
       "      <td>0.036</td>\n",
       "      <td>G#/Ab</td>\n",
       "    </tr>\n",
       "    <tr>\n",
       "      <th>1549</th>\n",
       "      <td>1550</td>\n",
       "      <td>187</td>\n",
       "      <td>1</td>\n",
       "      <td>2019-12-27--2020-01-03</td>\n",
       "      <td>Let Me Know (I Wonder Why Freestyle)</td>\n",
       "      <td>4,701,532</td>\n",
       "      <td>Juice WRLD</td>\n",
       "      <td>19102888</td>\n",
       "      <td>3wwo0bJvDSorOpNfzEkfXx</td>\n",
       "      <td>['chicago rap', 'melodic rap']</td>\n",
       "      <td>...</td>\n",
       "      <td>0.635</td>\n",
       "      <td>0.537</td>\n",
       "      <td>-7.895</td>\n",
       "      <td>0.0832</td>\n",
       "      <td>0.172</td>\n",
       "      <td>0.418</td>\n",
       "      <td>125.028</td>\n",
       "      <td>215381</td>\n",
       "      <td>0.383</td>\n",
       "      <td>G</td>\n",
       "    </tr>\n",
       "    <tr>\n",
       "      <th>1555</th>\n",
       "      <td>1556</td>\n",
       "      <td>199</td>\n",
       "      <td>1</td>\n",
       "      <td>2019-12-27--2020-01-03</td>\n",
       "      <td>Lover (Remix) [feat. Shawn Mendes]</td>\n",
       "      <td>4,595,450</td>\n",
       "      <td>Taylor Swift</td>\n",
       "      <td>42227614</td>\n",
       "      <td>3i9UVldZOE0aD0JnyfAZZ0</td>\n",
       "      <td>['pop', 'post-teen pop']</td>\n",
       "      <td>...</td>\n",
       "      <td>0.448</td>\n",
       "      <td>0.603</td>\n",
       "      <td>-7.176</td>\n",
       "      <td>0.064</td>\n",
       "      <td>0.433</td>\n",
       "      <td>0.0862</td>\n",
       "      <td>205.272</td>\n",
       "      <td>221307</td>\n",
       "      <td>0.422</td>\n",
       "      <td>G</td>\n",
       "    </tr>\n",
       "  </tbody>\n",
       "</table>\n",
       "<p>295 rows × 23 columns</p>\n",
       "</div>"
      ],
      "text/plain": [
       "      Index  Highest Charting Position  Number of Times Charted  \\\n",
       "8         9                          3                        8   \n",
       "12       13                          5                        3   \n",
       "13       14                          1                       19   \n",
       "14       15                          2                       10   \n",
       "17       18                          5                       14   \n",
       "...     ...                        ...                      ...   \n",
       "1499   1500                        100                        1   \n",
       "1500   1501                        102                        1   \n",
       "1501   1502                        113                        1   \n",
       "1549   1550                        187                        1   \n",
       "1555   1556                        199                        1   \n",
       "\n",
       "     Week of Highest Charting  \\\n",
       "8      2021-06-18--2021-06-25   \n",
       "12     2021-07-09--2021-07-16   \n",
       "13     2021-04-02--2021-04-09   \n",
       "14     2021-05-21--2021-05-28   \n",
       "17     2021-04-23--2021-04-30   \n",
       "...                       ...   \n",
       "1499   2020-01-17--2020-01-24   \n",
       "1500   2020-01-17--2020-01-24   \n",
       "1501   2020-01-17--2020-01-24   \n",
       "1549   2019-12-27--2020-01-03   \n",
       "1555   2019-12-27--2020-01-03   \n",
       "\n",
       "                                              Song Name     Streams  \\\n",
       "8                                              Yonaguni  25,030,128   \n",
       "12                                  Permission to Dance  22,062,812   \n",
       "13               Peaches (feat. Daniel Caesar & Giveon)  20,294,457   \n",
       "14                                               Butter  19,985,713   \n",
       "17         Save Your Tears (with Ariana Grande) (Remix)  18,053,141   \n",
       "...                                                 ...         ...   \n",
       "1499                                 Alfred - Interlude   8,030,151   \n",
       "1500                                      Little Engine   7,913,461   \n",
       "1501  I Will (feat. KXNG Crooked, Royce Da 5'9\" & Jo...   7,115,414   \n",
       "1549               Let Me Know (I Wonder Why Freestyle)   4,701,532   \n",
       "1555                 Lover (Remix) [feat. Shawn Mendes]   4,595,450   \n",
       "\n",
       "             Artist Artist Followers                 Song ID  \\\n",
       "8         Bad Bunny         36142273  2JPLbjOn0wPCngEot2STUS   \n",
       "12              BTS         37106176  0LThjFY2iTtNdd4wviwVV2   \n",
       "13    Justin Bieber         48504126  4iJyoBOLtHqaGxP12qzhQI   \n",
       "14              BTS         37106176  2bgTY4UwhfBYhGT4HUYStN   \n",
       "17       The Weeknd         35305637  37BZB0z9T8Xu7U3e65qxFy   \n",
       "...             ...              ...                     ...   \n",
       "1499         Eminem         46814751  4EmunTy7kNBYQivOa8F6b8   \n",
       "1500         Eminem         46814751  4qNWEOMyexn7b8Icyk29t9   \n",
       "1501         Eminem         46814751  3CJbxqRQ0JNCqboWDNUUeX   \n",
       "1549     Juice WRLD         19102888  3wwo0bJvDSorOpNfzEkfXx   \n",
       "1555   Taylor Swift         42227614  3i9UVldZOE0aD0JnyfAZZ0   \n",
       "\n",
       "                                                  Genre  ... Danceability  \\\n",
       "8                 ['latin', 'reggaeton', 'trap latino']  ...        0.644   \n",
       "12                         ['k-pop', 'k-pop boy group']  ...        0.702   \n",
       "13             ['canadian pop', 'pop', 'post-teen pop']  ...        0.677   \n",
       "14                         ['k-pop', 'k-pop boy group']  ...        0.759   \n",
       "17    ['canadian contemporary r&b', 'canadian pop', ...  ...         0.65   \n",
       "...                                                 ...  ...          ...   \n",
       "1499              ['detroit hip hop', 'hip hop', 'rap']  ...        0.429   \n",
       "1500              ['detroit hip hop', 'hip hop', 'rap']  ...        0.769   \n",
       "1501              ['detroit hip hop', 'hip hop', 'rap']  ...        0.635   \n",
       "1549                     ['chicago rap', 'melodic rap']  ...        0.635   \n",
       "1555                           ['pop', 'post-teen pop']  ...        0.448   \n",
       "\n",
       "     Energy Loudness Speechiness Acousticness Liveness    Tempo Duration (ms)  \\\n",
       "8     0.648   -4.601       0.118        0.276    0.135  179.951        206710   \n",
       "12    0.741    -5.33      0.0427      0.00544    0.337  124.925        187585   \n",
       "13    0.696   -6.181       0.119        0.321     0.42    90.03        198082   \n",
       "14    0.459   -5.187      0.0948      0.00323   0.0906  109.997        164442   \n",
       "17    0.825   -4.645      0.0325       0.0215   0.0936  118.091        191014   \n",
       "...     ...      ...         ...          ...      ...      ...           ...   \n",
       "1499  0.231   -20.43       0.402        0.878    0.279   74.545         30133   \n",
       "1500  0.811   -4.162       0.228       0.0234   0.0451  155.081        177293   \n",
       "1501  0.543   -5.941       0.067       0.0454    0.272   98.743        303000   \n",
       "1549  0.537   -7.895      0.0832        0.172    0.418  125.028        215381   \n",
       "1555  0.603   -7.176       0.064        0.433   0.0862  205.272        221307   \n",
       "\n",
       "     Valence  Chord  \n",
       "8       0.44  C#/Db  \n",
       "12     0.646      A  \n",
       "13     0.464      C  \n",
       "14     0.695  G#/Ab  \n",
       "17     0.593      C  \n",
       "...      ...    ...  \n",
       "1499   0.914      F  \n",
       "1500    0.76  A#/Bb  \n",
       "1501   0.036  G#/Ab  \n",
       "1549   0.383      G  \n",
       "1555   0.422      G  \n",
       "\n",
       "[295 rows x 23 columns]"
      ]
     },
     "execution_count": 14,
     "metadata": {},
     "output_type": "execute_result"
    }
   ],
   "source": [
    "df[df[\"Artist\"].isin(top_artists)]"
   ]
  },
  {
   "cell_type": "code",
   "execution_count": 15,
   "metadata": {
    "cell_id": "34dffa8a6eaf47d4a95bf2e10d3e1de6",
    "deepnote_cell_type": "code",
    "deepnote_to_be_reexecuted": false,
    "execution_millis": 1,
    "execution_start": 1664642618708,
    "source_hash": "6725513f",
    "tags": []
   },
   "outputs": [],
   "source": [
    "df1 = df.loc[row_labels]"
   ]
  },
  {
   "cell_type": "code",
   "execution_count": 16,
   "metadata": {
    "cell_id": "b6f0d14eef6744ad9fd00b94b1b83206",
    "deepnote_cell_type": "code",
    "deepnote_to_be_reexecuted": false,
    "execution_millis": 1,
    "execution_start": 1664642627354,
    "source_hash": "71df02b5",
    "tags": []
   },
   "outputs": [],
   "source": [
    "df2 = df[df[\"Artist\"].isin(top_artists)]"
   ]
  },
  {
   "cell_type": "code",
   "execution_count": 17,
   "metadata": {
    "cell_id": "0ab03a8dbf6c47dfb9922bb79f0e3fb8",
    "deepnote_cell_type": "code",
    "deepnote_to_be_reexecuted": false,
    "execution_millis": 9,
    "execution_start": 1664642649403,
    "source_hash": "f2a4d405",
    "tags": []
   },
   "outputs": [
    {
     "data": {
      "text/plain": [
       "array([ True,  True,  True,  True,  True,  True,  True,  True,  True,\n",
       "        True,  True,  True,  True,  True,  True,  True,  True,  True,\n",
       "        True,  True,  True,  True,  True,  True,  True,  True,  True,\n",
       "        True,  True,  True,  True,  True,  True,  True,  True,  True,\n",
       "        True,  True,  True,  True,  True,  True,  True,  True,  True,\n",
       "        True,  True,  True,  True,  True,  True,  True,  True,  True,\n",
       "        True,  True,  True,  True,  True,  True,  True,  True,  True,\n",
       "        True,  True,  True,  True,  True,  True,  True,  True,  True,\n",
       "        True,  True,  True,  True,  True,  True,  True,  True,  True,\n",
       "        True,  True,  True,  True,  True,  True,  True,  True,  True,\n",
       "        True,  True,  True,  True,  True,  True,  True,  True,  True,\n",
       "        True,  True,  True,  True,  True,  True,  True,  True,  True,\n",
       "        True,  True,  True,  True,  True,  True,  True,  True,  True,\n",
       "        True,  True,  True,  True,  True,  True,  True,  True,  True,\n",
       "        True,  True,  True,  True,  True,  True,  True,  True,  True,\n",
       "        True,  True,  True,  True,  True,  True,  True,  True,  True,\n",
       "        True,  True,  True,  True,  True,  True,  True,  True,  True,\n",
       "        True,  True,  True,  True,  True,  True,  True,  True,  True,\n",
       "        True,  True,  True,  True,  True,  True,  True,  True,  True,\n",
       "        True,  True,  True,  True,  True,  True,  True,  True,  True,\n",
       "        True,  True,  True,  True,  True,  True,  True,  True,  True,\n",
       "        True,  True,  True,  True,  True,  True,  True,  True,  True,\n",
       "        True,  True,  True,  True,  True,  True,  True,  True,  True,\n",
       "        True,  True,  True,  True,  True,  True,  True,  True,  True,\n",
       "        True,  True,  True,  True,  True,  True,  True,  True,  True,\n",
       "        True,  True,  True,  True,  True,  True,  True,  True,  True,\n",
       "        True,  True,  True,  True,  True,  True,  True,  True,  True,\n",
       "        True,  True,  True,  True,  True,  True,  True,  True,  True,\n",
       "        True,  True,  True,  True,  True,  True,  True,  True,  True,\n",
       "        True,  True,  True,  True,  True,  True,  True,  True,  True,\n",
       "        True,  True,  True,  True,  True,  True,  True,  True,  True,\n",
       "        True,  True,  True,  True,  True,  True,  True,  True,  True,\n",
       "        True,  True,  True,  True,  True,  True,  True])"
      ]
     },
     "execution_count": 17,
     "metadata": {},
     "output_type": "execute_result"
    }
   ],
   "source": [
    "df1.index == df2.index"
   ]
  },
  {
   "cell_type": "code",
   "execution_count": 18,
   "metadata": {
    "cell_id": "caa9934d54184ee4869deae7e0d6d65a",
    "deepnote_cell_type": "code",
    "deepnote_to_be_reexecuted": false,
    "execution_millis": 927,
    "execution_start": 1664642662105,
    "source_hash": "cc7912be",
    "tags": []
   },
   "outputs": [
    {
     "data": {
      "text/plain": [
       "True"
      ]
     },
     "execution_count": 18,
     "metadata": {},
     "output_type": "execute_result"
    }
   ],
   "source": [
    "(df1.index == df2.index).all()"
   ]
  },
  {
   "cell_type": "code",
   "execution_count": null,
   "metadata": {
    "cell_id": "40f1d2f6b7f5410181e1502516356ce7",
    "deepnote_cell_type": "code",
    "tags": []
   },
   "outputs": [],
   "source": []
  },
  {
   "cell_type": "markdown",
   "metadata": {
    "created_in_deepnote_cell": true,
    "deepnote_cell_type": "markdown",
    "tags": []
   },
   "source": [
    "<a style='text-decoration:none;line-height:16px;display:flex;color:#5B5B62;padding:10px;justify-content:end;' href='https://deepnote.com?utm_source=created-in-deepnote-cell&projectId=c4cb3e84-6f14-46c9-8374-3777a8d3c5d5' target=\"_blank\">\n",
    "<img alt='Created in deepnote.com' style='display:inline;max-height:16px;margin:0px;margin-right:7.5px;' src='data:image/svg+xml;base64,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' > </img>\n",
    "Created in <span style='font-weight:600;margin-left:4px;'>Deepnote</span></a>"
   ]
  }
 ],
 "metadata": {
  "deepnote": {},
  "deepnote_execution_queue": [],
  "deepnote_notebook_id": "93b460c68aa4469890303c53df873a9a",
  "deepnote_persisted_session": {
   "createdAt": "2022-10-01T15:01:34.788Z"
  }
 },
 "nbformat": 4,
 "nbformat_minor": 0
}