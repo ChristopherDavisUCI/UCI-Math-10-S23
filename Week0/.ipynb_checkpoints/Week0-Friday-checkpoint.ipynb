{
 "cells": [
  {
   "cell_type": "markdown",
   "metadata": {
    "cell_id": "f7d0322b89e740059d677ab37e9be2a4",
    "deepnote_cell_type": "markdown",
    "tags": []
   },
   "source": [
    "# Week 0 Friday\n",
    "\n",
    "Starting in Week 1, we will have more specific topics.  Today, we went through a variety of basic topics, especially related to the *type* of an object in Python."
   ]
  },
  {
   "cell_type": "markdown",
   "metadata": {
    "cell_id": "c616b759c543451f8dcd81be0d94ce70",
    "deepnote_cell_type": "markdown",
    "tags": []
   },
   "source": [
    "We start by importing pandas.  The pandas library is the most important library for Math 10.  (The second-most important library is probably scikit-learn, which we will use extensively in the Machine Learning portion of Math 10.)\n",
    "\n",
    "In theory, you could give pandas an abbreviation other than `pd`, or not use any abbreviation at all, but in practice, everyone uses `pd`, and we will also always use `pd`."
   ]
  },
  {
   "cell_type": "code",
   "execution_count": 3,
   "metadata": {
    "cell_id": "5ca7cb2d4add482196ace5ff6be3314b",
    "deepnote_cell_type": "code",
    "deepnote_to_be_reexecuted": false,
    "execution_millis": 6,
    "execution_start": 1663953901388,
    "source_hash": "9b82ee11",
    "tags": []
   },
   "outputs": [],
   "source": [
    "import pandas as pd"
   ]
  },
  {
   "cell_type": "markdown",
   "metadata": {
    "cell_id": "4fc4b09a80534a75892a0e700c7604b6",
    "deepnote_cell_type": "markdown",
    "tags": []
   },
   "source": [
    "Just to emphasize that `pd` is now defined but `pandas` is not, because of our import statement."
   ]
  },
  {
   "cell_type": "code",
   "execution_count": 4,
   "metadata": {
    "cell_id": "2b8f55e4cc8143fda0daeb9ec3a8e9a1",
    "deepnote_cell_type": "code",
    "deepnote_to_be_reexecuted": false,
    "execution_millis": 626,
    "execution_start": 1663953934425,
    "source_hash": "f5e9030a",
    "tags": []
   },
   "outputs": [
    {
     "ename": "NameError",
     "evalue": "name 'pandas' is not defined",
     "output_type": "error",
     "traceback": [
      "\u001b[0;31m---------------------------------------------------------------------------\u001b[0m",
      "\u001b[0;31mNameError\u001b[0m                                 Traceback (most recent call last)",
      "Cell \u001b[0;32mIn [4], line 1\u001b[0m\n\u001b[0;32m----> 1\u001b[0m \u001b[43mpandas\u001b[49m\n",
      "\u001b[0;31mNameError\u001b[0m: name 'pandas' is not defined"
     ]
    }
   ],
   "source": [
    "pandas"
   ]
  },
  {
   "cell_type": "markdown",
   "metadata": {
    "cell_id": "9269ec1bf3514d2292231f86915d4e13",
    "deepnote_cell_type": "markdown",
    "tags": []
   },
   "source": [
    "I use the terms \"module\" and \"library\" moreorless interchangeably.  I usually refer to pandas as a \"library\"; here Python is referring to it as a \"module\"."
   ]
  },
  {
   "cell_type": "code",
   "execution_count": 5,
   "metadata": {
    "cell_id": "1bedb8967f6a4537be0cda844808edf6",
    "deepnote_cell_type": "code",
    "deepnote_to_be_reexecuted": false,
    "execution_millis": 6,
    "execution_start": 1663953938840,
    "source_hash": "d18067c7",
    "tags": []
   },
   "outputs": [
    {
     "data": {
      "text/plain": [
       "<module 'pandas' from '/shared-libs/python3.9/py/lib/python3.9/site-packages/pandas/__init__.py'>"
      ]
     },
     "execution_count": 5,
     "metadata": {},
     "output_type": "execute_result"
    }
   ],
   "source": [
    "pd"
   ]
  },
  {
   "cell_type": "markdown",
   "metadata": {
    "cell_id": "7d6dad2904a1411faf0178c4eef0601b",
    "deepnote_cell_type": "markdown",
    "tags": []
   },
   "source": [
    "One of the most important concepts at the beginning of Math 10 is the concept of the `type` of an object in Python.  Different types of objects have different functionality associated with them.  To use the `read_csv` function defined by pandas, we need to use as an argument an element with the type of string.  Here we forget to use quotation marks (i.e., we forgot to turn vend.csv into a string), so that's why we get an error."
   ]
  },
  {
   "cell_type": "code",
   "execution_count": 6,
   "metadata": {
    "cell_id": "abd4555dc098450d93c1f237354754c5",
    "deepnote_cell_type": "code",
    "deepnote_to_be_reexecuted": false,
    "execution_millis": 5,
    "execution_start": 1663953991377,
    "source_hash": "1ff7ffd9",
    "tags": []
   },
   "outputs": [
    {
     "ename": "NameError",
     "evalue": "name 'vend' is not defined",
     "output_type": "error",
     "traceback": [
      "\u001b[0;31m---------------------------------------------------------------------------\u001b[0m",
      "\u001b[0;31mNameError\u001b[0m                                 Traceback (most recent call last)",
      "Cell \u001b[0;32mIn [6], line 1\u001b[0m\n\u001b[0;32m----> 1\u001b[0m pd\u001b[38;5;241m.\u001b[39mread_csv(\u001b[43mvend\u001b[49m\u001b[38;5;241m.\u001b[39mcsv)\n",
      "\u001b[0;31mNameError\u001b[0m: name 'vend' is not defined"
     ]
    }
   ],
   "source": [
    "pd.read_csv(vend.csv)"
   ]
  },
  {
   "cell_type": "markdown",
   "metadata": {
    "cell_id": "f23e879cb2c54a64a0ed7581f8209c1f",
    "deepnote_cell_type": "markdown",
    "tags": []
   },
   "source": [
    "Instead of using `vend.csv` as our argument, we use `\"vend.csv\"`.  This `\"vend.csv\"` is a string."
   ]
  },
  {
   "cell_type": "code",
   "execution_count": 7,
   "metadata": {
    "cell_id": "c30e5823f1fe455395d3fcc418cb9089",
    "deepnote_cell_type": "code",
    "deepnote_to_be_reexecuted": false,
    "execution_millis": 294,
    "execution_start": 1663954163523,
    "source_hash": "1adc377",
    "tags": [
     "output_scroll"
    ]
   },
   "outputs": [
    {
     "data": {
      "application/vnd.deepnote.dataframe.v3+json": {
       "column_count": 18,
       "columns": [
        {
         "dtype": "object",
         "name": "Status",
         "stats": {
          "categories": [
           {
            "count": 6444,
            "name": "Processed"
           },
           {
            "count": 1,
            "name": "Unlinked"
           }
          ],
          "nan_count": 0,
          "unique_count": 2
         }
        },
        {
         "dtype": "object",
         "name": "Device ID",
         "stats": {
          "categories": [
           {
            "count": 2568,
            "name": "VJ300320609"
           },
           {
            "count": 1922,
            "name": "VJ300320692"
           },
           {
            "count": 1955,
            "name": "3 others"
           }
          ],
          "nan_count": 0,
          "unique_count": 5
         }
        },
        {
         "dtype": "object",
         "name": "Location",
         "stats": {
          "categories": [
           {
            "count": 2568,
            "name": "GuttenPlans"
           },
           {
            "count": 1922,
            "name": "EB Public Library"
           },
           {
            "count": 1955,
            "name": "2 others"
           }
          ],
          "nan_count": 0,
          "unique_count": 4
         }
        },
        {
         "dtype": "object",
         "name": "Machine",
         "stats": {
          "categories": [
           {
            "count": 2568,
            "name": "GuttenPlans x1367"
           },
           {
            "count": 1922,
            "name": "EB Public Library x1380"
           },
           {
            "count": 1955,
            "name": "3 others"
           }
          ],
          "nan_count": 0,
          "unique_count": 5
         }
        },
        {
         "dtype": "object",
         "name": "Product",
         "stats": {
          "categories": [
           {
            "count": 517,
            "name": "Coca Cola - Zero Sugar"
           },
           {
            "count": 5924,
            "name": "169 others"
           },
           {
            "count": 4,
            "name": "Missing"
           }
          ],
          "nan_count": 4,
          "unique_count": 170
         }
        },
        {
         "dtype": "object",
         "name": "Category",
         "stats": {
          "categories": [
           {
            "count": 3428,
            "name": "Food"
           },
           {
            "count": 2832,
            "name": "3 others"
           },
           {
            "count": 185,
            "name": "Missing"
           }
          ],
          "nan_count": 185,
          "unique_count": 4
         }
        },
        {
         "dtype": "int64",
         "name": "Transaction",
         "stats": {
          "histogram": [
           {
            "bin_end": 14624593152.8,
            "bin_start": 14515778905,
            "count": 425
           },
           {
            "bin_end": 14733407400.6,
            "bin_start": 14624593152.8,
            "count": 455
           },
           {
            "bin_end": 14842221648.4,
            "bin_start": 14733407400.6,
            "count": 398
           },
           {
            "bin_end": 14951035896.2,
            "bin_start": 14842221648.4,
            "count": 582
           },
           {
            "bin_end": 15059850144,
            "bin_start": 14951035896.2,
            "count": 701
           },
           {
            "bin_end": 15168664391.8,
            "bin_start": 15059850144,
            "count": 672
           },
           {
            "bin_end": 15277478639.6,
            "bin_start": 15168664391.8,
            "count": 705
           },
           {
            "bin_end": 15386292887.4,
            "bin_start": 15277478639.6,
            "count": 917
           },
           {
            "bin_end": 15495107135.2,
            "bin_start": 15386292887.4,
            "count": 810
           },
           {
            "bin_end": 15603921383,
            "bin_start": 15495107135.2,
            "count": 780
           }
          ],
          "max": "15603921383",
          "min": "14515778905",
          "nan_count": 0,
          "unique_count": 6110
         }
        },
        {
         "dtype": "object",
         "name": "TransDate",
         "stats": {
          "categories": [
           {
            "count": 68,
            "name": "Thursday, July 14, 2022"
           },
           {
            "count": 65,
            "name": "Friday, July 1, 2022"
           },
           {
            "count": 6312,
            "name": "240 others"
           }
          ],
          "nan_count": 0,
          "unique_count": 242
         }
        },
        {
         "dtype": "object",
         "name": "Type",
         "stats": {
          "categories": [
           {
            "count": 4297,
            "name": "Cash"
           },
           {
            "count": 2148,
            "name": "Credit"
           }
          ],
          "nan_count": 0,
          "unique_count": 2
         }
        },
        {
         "dtype": "int64",
         "name": "RCoil",
         "stats": {
          "histogram": [
           {
            "bin_end": 115.5,
            "bin_start": 110,
            "count": 1092
           },
           {
            "bin_end": 121,
            "bin_start": 115.5,
            "count": 164
           },
           {
            "bin_end": 126.5,
            "bin_start": 121,
            "count": 1008
           },
           {
            "bin_end": 132,
            "bin_start": 126.5,
            "count": 176
           },
           {
            "bin_end": 137.5,
            "bin_start": 132,
            "count": 668
           },
           {
            "bin_end": 143,
            "bin_start": 137.5,
            "count": 1440
           },
           {
            "bin_end": 148.5,
            "bin_start": 143,
            "count": 1714
           },
           {
            "bin_end": 154,
            "bin_start": 148.5,
            "count": 58
           },
           {
            "bin_end": 159.5,
            "bin_start": 154,
            "count": 84
           },
           {
            "bin_end": 165,
            "bin_start": 159.5,
            "count": 41
           }
          ],
          "max": "165",
          "min": "110",
          "nan_count": 0,
          "unique_count": 45
         }
        },
        {
         "dtype": "float64",
         "name": "RPrice",
         "stats": {
          "histogram": [
           {
            "bin_end": 1.4,
            "bin_start": 1,
            "count": 595
           },
           {
            "bin_end": 1.8,
            "bin_start": 1.4,
            "count": 2985
           },
           {
            "bin_end": 2.2,
            "bin_start": 1.8,
            "count": 1174
           },
           {
            "bin_end": 2.6,
            "bin_start": 2.2,
            "count": 637
           },
           {
            "bin_end": 3,
            "bin_start": 2.6,
            "count": 194
           },
           {
            "bin_end": 3.4000000000000004,
            "bin_start": 3,
            "count": 544
           },
           {
            "bin_end": 3.8000000000000003,
            "bin_start": 3.4000000000000004,
            "count": 228
           },
           {
            "bin_end": 4.2,
            "bin_start": 3.8000000000000003,
            "count": 74
           },
           {
            "bin_end": 4.6,
            "bin_start": 4.2,
            "count": 4
           },
           {
            "bin_end": 5,
            "bin_start": 4.6,
            "count": 10
           }
          ],
          "max": "5.0",
          "min": "1.0",
          "nan_count": 0,
          "unique_count": 14
         }
        },
        {
         "dtype": "int64",
         "name": "RQty",
         "stats": {
          "histogram": [
           {
            "bin_end": 1.2,
            "bin_start": 1,
            "count": 6364
           },
           {
            "bin_end": 1.4,
            "bin_start": 1.2,
            "count": 0
           },
           {
            "bin_end": 1.6,
            "bin_start": 1.4,
            "count": 0
           },
           {
            "bin_end": 1.8,
            "bin_start": 1.6,
            "count": 0
           },
           {
            "bin_end": 2,
            "bin_start": 1.8,
            "count": 0
           },
           {
            "bin_end": 2.2,
            "bin_start": 2,
            "count": 76
           },
           {
            "bin_end": 2.4000000000000004,
            "bin_start": 2.2,
            "count": 0
           },
           {
            "bin_end": 2.6,
            "bin_start": 2.4000000000000004,
            "count": 0
           },
           {
            "bin_end": 2.8,
            "bin_start": 2.6,
            "count": 0
           },
           {
            "bin_end": 3,
            "bin_start": 2.8,
            "count": 5
           }
          ],
          "max": "3",
          "min": "1",
          "nan_count": 0,
          "unique_count": 3
         }
        },
        {
         "dtype": "int64",
         "name": "MCoil",
         "stats": {
          "histogram": [
           {
            "bin_end": 115.5,
            "bin_start": 110,
            "count": 1092
           },
           {
            "bin_end": 121,
            "bin_start": 115.5,
            "count": 164
           },
           {
            "bin_end": 126.5,
            "bin_start": 121,
            "count": 1008
           },
           {
            "bin_end": 132,
            "bin_start": 126.5,
            "count": 176
           },
           {
            "bin_end": 137.5,
            "bin_start": 132,
            "count": 668
           },
           {
            "bin_end": 143,
            "bin_start": 137.5,
            "count": 1440
           },
           {
            "bin_end": 148.5,
            "bin_start": 143,
            "count": 1714
           },
           {
            "bin_end": 154,
            "bin_start": 148.5,
            "count": 58
           },
           {
            "bin_end": 159.5,
            "bin_start": 154,
            "count": 84
           },
           {
            "bin_end": 165,
            "bin_start": 159.5,
            "count": 41
           }
          ],
          "max": "165",
          "min": "110",
          "nan_count": 0,
          "unique_count": 45
         }
        },
        {
         "dtype": "float64",
         "name": "MPrice",
         "stats": {
          "histogram": [
           {
            "bin_end": 1.4,
            "bin_start": 1,
            "count": 595
           },
           {
            "bin_end": 1.8,
            "bin_start": 1.4,
            "count": 2984
           },
           {
            "bin_end": 2.2,
            "bin_start": 1.8,
            "count": 1174
           },
           {
            "bin_end": 2.6,
            "bin_start": 2.2,
            "count": 637
           },
           {
            "bin_end": 3,
            "bin_start": 2.6,
            "count": 194
           },
           {
            "bin_end": 3.4000000000000004,
            "bin_start": 3,
            "count": 544
           },
           {
            "bin_end": 3.8000000000000003,
            "bin_start": 3.4000000000000004,
            "count": 228
           },
           {
            "bin_end": 4.2,
            "bin_start": 3.8000000000000003,
            "count": 74
           },
           {
            "bin_end": 4.6,
            "bin_start": 4.2,
            "count": 4
           },
           {
            "bin_end": 5,
            "bin_start": 4.6,
            "count": 10
           }
          ],
          "max": "5.0",
          "min": "1.0",
          "nan_count": 1,
          "unique_count": 14
         }
        },
        {
         "dtype": "int64",
         "name": "MQty",
         "stats": {
          "histogram": [
           {
            "bin_end": 1.2,
            "bin_start": 1,
            "count": 6364
           },
           {
            "bin_end": 1.4,
            "bin_start": 1.2,
            "count": 0
           },
           {
            "bin_end": 1.6,
            "bin_start": 1.4,
            "count": 0
           },
           {
            "bin_end": 1.8,
            "bin_start": 1.6,
            "count": 0
           },
           {
            "bin_end": 2,
            "bin_start": 1.8,
            "count": 0
           },
           {
            "bin_end": 2.2,
            "bin_start": 2,
            "count": 76
           },
           {
            "bin_end": 2.4000000000000004,
            "bin_start": 2.2,
            "count": 0
           },
           {
            "bin_end": 2.6,
            "bin_start": 2.4000000000000004,
            "count": 0
           },
           {
            "bin_end": 2.8,
            "bin_start": 2.6,
            "count": 0
           },
           {
            "bin_end": 3,
            "bin_start": 2.8,
            "count": 5
           }
          ],
          "max": "3",
          "min": "1",
          "nan_count": 0,
          "unique_count": 3
         }
        },
        {
         "dtype": "float64",
         "name": "LineTotal"
        },
        {
         "dtype": "float64",
         "name": "TransTotal"
        },
        {
         "dtype": "object",
         "name": "Prcd Date"
        },
        {
         "dtype": "int64",
         "name": "_deepnote_index_column"
        }
       ],
       "row_count": 6445,
       "rows": [
        {
         "Category": "Carbonated",
         "Device ID": "VJ300320611",
         "LineTotal": "3.5",
         "Location": "Brunswick Sq Mall",
         "MCoil": "148",
         "MPrice": "3.5",
         "MQty": "1",
         "Machine": "BSQ Mall x1366 - ATT",
         "Prcd Date": "1/1/2022",
         "Product": "Red Bull - Energy Drink - Sugar Free",
         "RCoil": "148",
         "RPrice": "3.5",
         "RQty": "1",
         "Status": "Processed",
         "TransDate": "Saturday, January 1, 2022",
         "TransTotal": "3.5",
         "Transaction": "14515778905",
         "Type": "Credit",
         "_deepnote_index_column": "0"
        },
        {
         "Category": "Carbonated",
         "Device ID": "VJ300320611",
         "LineTotal": "3.5",
         "Location": "Brunswick Sq Mall",
         "MCoil": "148",
         "MPrice": "3.5",
         "MQty": "1",
         "Machine": "BSQ Mall x1366 - ATT",
         "Prcd Date": "1/1/2022",
         "Product": "Red Bull - Energy Drink - Sugar Free",
         "RCoil": "148",
         "RPrice": "3.5",
         "RQty": "1",
         "Status": "Processed",
         "TransDate": "Saturday, January 1, 2022",
         "TransTotal": "5.0",
         "Transaction": "14516018629",
         "Type": "Credit",
         "_deepnote_index_column": "1"
        },
        {
         "Category": "Food",
         "Device ID": "VJ300320611",
         "LineTotal": "1.5",
         "Location": "Brunswick Sq Mall",
         "MCoil": "123",
         "MPrice": "1.5",
         "MQty": "1",
         "Machine": "BSQ Mall x1366 - ATT",
         "Prcd Date": "1/1/2022",
         "Product": "Takis - Hot Chilli Pepper & Lime",
         "RCoil": "123",
         "RPrice": "1.5",
         "RQty": "1",
         "Status": "Processed",
         "TransDate": "Saturday, January 1, 2022",
         "TransTotal": "5.0",
         "Transaction": "14516018629",
         "Type": "Credit",
         "_deepnote_index_column": "2"
        },
        {
         "Category": "Food",
         "Device ID": "VJ300320611",
         "LineTotal": "1.5",
         "Location": "Brunswick Sq Mall",
         "MCoil": "123",
         "MPrice": "1.5",
         "MQty": "1",
         "Machine": "BSQ Mall x1366 - ATT",
         "Prcd Date": "1/1/2022",
         "Product": "Takis - Hot Chilli Pepper & Lime",
         "RCoil": "123",
         "RPrice": "1.5",
         "RQty": "1",
         "Status": "Processed",
         "TransDate": "Saturday, January 1, 2022",
         "TransTotal": "1.5",
         "Transaction": "14516020373",
         "Type": "Credit",
         "_deepnote_index_column": "3"
        },
        {
         "Category": "Carbonated",
         "Device ID": "VJ300320611",
         "LineTotal": "3.5",
         "Location": "Brunswick Sq Mall",
         "MCoil": "148",
         "MPrice": "3.5",
         "MQty": "1",
         "Machine": "BSQ Mall x1366 - ATT",
         "Prcd Date": "1/1/2022",
         "Product": "Red Bull - Energy Drink - Sugar Free",
         "RCoil": "148",
         "RPrice": "3.5",
         "RQty": "1",
         "Status": "Processed",
         "TransDate": "Saturday, January 1, 2022",
         "TransTotal": "3.5",
         "Transaction": "14516021756",
         "Type": "Credit",
         "_deepnote_index_column": "4"
        },
        {
         "Category": "Non Carbonated",
         "Device ID": "VJ300205292",
         "LineTotal": "2.5",
         "Location": "Brunswick Sq Mall",
         "MCoil": "146",
         "MPrice": "2.5",
         "MQty": "1",
         "Machine": "BSQ Mall x1364 - Zales",
         "Prcd Date": "1/2/2022",
         "Product": "Bai Antioxidant - Brasilia BB",
         "RCoil": "146",
         "RPrice": "2.5",
         "RQty": "1",
         "Status": "Processed",
         "TransDate": "Sunday, January 2, 2022",
         "TransTotal": "2.5",
         "Transaction": "14517568743",
         "Type": "Cash",
         "_deepnote_index_column": "5"
        },
        {
         "Category": "Food",
         "Device ID": "VJ300205292",
         "LineTotal": "1.5",
         "Location": "Brunswick Sq Mall",
         "MCoil": "114",
         "MPrice": "1.5",
         "MQty": "1",
         "Machine": "BSQ Mall x1364 - Zales",
         "Prcd Date": "1/2/2022",
         "Product": "Miss Vickie's Potato Chip - Sea Salt & Vinega",
         "RCoil": "114",
         "RPrice": "1.5",
         "RQty": "1",
         "Status": "Processed",
         "TransDate": "Monday, January 3, 2022",
         "TransTotal": "1.5",
         "Transaction": "14518731524",
         "Type": "Cash",
         "_deepnote_index_column": "6"
        },
        {
         "Category": "Food",
         "Device ID": "VJ300320686",
         "LineTotal": "1.5",
         "Location": "Earle Asphalt",
         "MCoil": "110",
         "MPrice": "1.5",
         "MQty": "1",
         "Machine": "Earle Asphalt x1371",
         "Prcd Date": "1/3/2022",
         "Product": "Miss Vickie's Potato Chip - Lime & Cracked Pe",
         "RCoil": "110",
         "RPrice": "1.5",
         "RQty": "1",
         "Status": "Processed",
         "TransDate": "Monday, January 3, 2022",
         "TransTotal": "1.5",
         "Transaction": "14519162059",
         "Type": "Credit",
         "_deepnote_index_column": "7"
        },
        {
         "Category": "Carbonated",
         "Device ID": "VJ300320609",
         "LineTotal": "3.0",
         "Location": "GuttenPlans",
         "MCoil": "144",
         "MPrice": "3.0",
         "MQty": "1",
         "Machine": "GuttenPlans x1367",
         "Prcd Date": "1/3/2022",
         "Product": "Monster Energy Original",
         "RCoil": "144",
         "RPrice": "3.0",
         "RQty": "1",
         "Status": "Processed",
         "TransDate": "Monday, January 3, 2022",
         "TransTotal": "3.0",
         "Transaction": "14519670154",
         "Type": "Credit",
         "_deepnote_index_column": "8"
        },
        {
         "Category": "Food",
         "Device ID": "VJ300320686",
         "LineTotal": "2.5",
         "Location": "Earle Asphalt",
         "MCoil": "134",
         "MPrice": "2.5",
         "MQty": "1",
         "Machine": "Earle Asphalt x1371",
         "Prcd Date": "1/3/2022",
         "Product": "Seapoint Farms Dry Roasted Edamame - Wasabi",
         "RCoil": "134",
         "RPrice": "2.5",
         "RQty": "1",
         "Status": "Processed",
         "TransDate": "Monday, January 3, 2022",
         "TransTotal": "2.5",
         "Transaction": "14520315330",
         "Type": "Credit",
         "_deepnote_index_column": "9"
        }
       ]
      },
      "text/html": [
       "<div>\n",
       "<style scoped>\n",
       "    .dataframe tbody tr th:only-of-type {\n",
       "        vertical-align: middle;\n",
       "    }\n",
       "\n",
       "    .dataframe tbody tr th {\n",
       "        vertical-align: top;\n",
       "    }\n",
       "\n",
       "    .dataframe thead th {\n",
       "        text-align: right;\n",
       "    }\n",
       "</style>\n",
       "<table border=\"1\" class=\"dataframe\">\n",
       "  <thead>\n",
       "    <tr style=\"text-align: right;\">\n",
       "      <th></th>\n",
       "      <th>Status</th>\n",
       "      <th>Device ID</th>\n",
       "      <th>Location</th>\n",
       "      <th>Machine</th>\n",
       "      <th>Product</th>\n",
       "      <th>Category</th>\n",
       "      <th>Transaction</th>\n",
       "      <th>TransDate</th>\n",
       "      <th>Type</th>\n",
       "      <th>RCoil</th>\n",
       "      <th>RPrice</th>\n",
       "      <th>RQty</th>\n",
       "      <th>MCoil</th>\n",
       "      <th>MPrice</th>\n",
       "      <th>MQty</th>\n",
       "      <th>LineTotal</th>\n",
       "      <th>TransTotal</th>\n",
       "      <th>Prcd Date</th>\n",
       "    </tr>\n",
       "  </thead>\n",
       "  <tbody>\n",
       "    <tr>\n",
       "      <th>0</th>\n",
       "      <td>Processed</td>\n",
       "      <td>VJ300320611</td>\n",
       "      <td>Brunswick Sq Mall</td>\n",
       "      <td>BSQ Mall x1366 - ATT</td>\n",
       "      <td>Red Bull - Energy Drink - Sugar Free</td>\n",
       "      <td>Carbonated</td>\n",
       "      <td>14515778905</td>\n",
       "      <td>Saturday, January 1, 2022</td>\n",
       "      <td>Credit</td>\n",
       "      <td>148</td>\n",
       "      <td>3.5</td>\n",
       "      <td>1</td>\n",
       "      <td>148</td>\n",
       "      <td>3.5</td>\n",
       "      <td>1</td>\n",
       "      <td>3.5</td>\n",
       "      <td>3.5</td>\n",
       "      <td>1/1/2022</td>\n",
       "    </tr>\n",
       "    <tr>\n",
       "      <th>1</th>\n",
       "      <td>Processed</td>\n",
       "      <td>VJ300320611</td>\n",
       "      <td>Brunswick Sq Mall</td>\n",
       "      <td>BSQ Mall x1366 - ATT</td>\n",
       "      <td>Red Bull - Energy Drink - Sugar Free</td>\n",
       "      <td>Carbonated</td>\n",
       "      <td>14516018629</td>\n",
       "      <td>Saturday, January 1, 2022</td>\n",
       "      <td>Credit</td>\n",
       "      <td>148</td>\n",
       "      <td>3.5</td>\n",
       "      <td>1</td>\n",
       "      <td>148</td>\n",
       "      <td>3.5</td>\n",
       "      <td>1</td>\n",
       "      <td>3.5</td>\n",
       "      <td>5.0</td>\n",
       "      <td>1/1/2022</td>\n",
       "    </tr>\n",
       "    <tr>\n",
       "      <th>2</th>\n",
       "      <td>Processed</td>\n",
       "      <td>VJ300320611</td>\n",
       "      <td>Brunswick Sq Mall</td>\n",
       "      <td>BSQ Mall x1366 - ATT</td>\n",
       "      <td>Takis - Hot Chilli Pepper &amp; Lime</td>\n",
       "      <td>Food</td>\n",
       "      <td>14516018629</td>\n",
       "      <td>Saturday, January 1, 2022</td>\n",
       "      <td>Credit</td>\n",
       "      <td>123</td>\n",
       "      <td>1.5</td>\n",
       "      <td>1</td>\n",
       "      <td>123</td>\n",
       "      <td>1.5</td>\n",
       "      <td>1</td>\n",
       "      <td>1.5</td>\n",
       "      <td>5.0</td>\n",
       "      <td>1/1/2022</td>\n",
       "    </tr>\n",
       "    <tr>\n",
       "      <th>3</th>\n",
       "      <td>Processed</td>\n",
       "      <td>VJ300320611</td>\n",
       "      <td>Brunswick Sq Mall</td>\n",
       "      <td>BSQ Mall x1366 - ATT</td>\n",
       "      <td>Takis - Hot Chilli Pepper &amp; Lime</td>\n",
       "      <td>Food</td>\n",
       "      <td>14516020373</td>\n",
       "      <td>Saturday, January 1, 2022</td>\n",
       "      <td>Credit</td>\n",
       "      <td>123</td>\n",
       "      <td>1.5</td>\n",
       "      <td>1</td>\n",
       "      <td>123</td>\n",
       "      <td>1.5</td>\n",
       "      <td>1</td>\n",
       "      <td>1.5</td>\n",
       "      <td>1.5</td>\n",
       "      <td>1/1/2022</td>\n",
       "    </tr>\n",
       "    <tr>\n",
       "      <th>4</th>\n",
       "      <td>Processed</td>\n",
       "      <td>VJ300320611</td>\n",
       "      <td>Brunswick Sq Mall</td>\n",
       "      <td>BSQ Mall x1366 - ATT</td>\n",
       "      <td>Red Bull - Energy Drink - Sugar Free</td>\n",
       "      <td>Carbonated</td>\n",
       "      <td>14516021756</td>\n",
       "      <td>Saturday, January 1, 2022</td>\n",
       "      <td>Credit</td>\n",
       "      <td>148</td>\n",
       "      <td>3.5</td>\n",
       "      <td>1</td>\n",
       "      <td>148</td>\n",
       "      <td>3.5</td>\n",
       "      <td>1</td>\n",
       "      <td>3.5</td>\n",
       "      <td>3.5</td>\n",
       "      <td>1/1/2022</td>\n",
       "    </tr>\n",
       "    <tr>\n",
       "      <th>...</th>\n",
       "      <td>...</td>\n",
       "      <td>...</td>\n",
       "      <td>...</td>\n",
       "      <td>...</td>\n",
       "      <td>...</td>\n",
       "      <td>...</td>\n",
       "      <td>...</td>\n",
       "      <td>...</td>\n",
       "      <td>...</td>\n",
       "      <td>...</td>\n",
       "      <td>...</td>\n",
       "      <td>...</td>\n",
       "      <td>...</td>\n",
       "      <td>...</td>\n",
       "      <td>...</td>\n",
       "      <td>...</td>\n",
       "      <td>...</td>\n",
       "      <td>...</td>\n",
       "    </tr>\n",
       "    <tr>\n",
       "      <th>6440</th>\n",
       "      <td>Processed</td>\n",
       "      <td>VJ300320692</td>\n",
       "      <td>EB Public Library</td>\n",
       "      <td>EB Public Library x1380</td>\n",
       "      <td>Lindens - Chocolate Chippers</td>\n",
       "      <td>Food</td>\n",
       "      <td>15603201222</td>\n",
       "      <td>Wednesday, August 31, 2022</td>\n",
       "      <td>Credit</td>\n",
       "      <td>122</td>\n",
       "      <td>2.0</td>\n",
       "      <td>1</td>\n",
       "      <td>122</td>\n",
       "      <td>2.0</td>\n",
       "      <td>1</td>\n",
       "      <td>2.0</td>\n",
       "      <td>6.0</td>\n",
       "      <td>8/31/2022</td>\n",
       "    </tr>\n",
       "    <tr>\n",
       "      <th>6441</th>\n",
       "      <td>Processed</td>\n",
       "      <td>VJ300320692</td>\n",
       "      <td>EB Public Library</td>\n",
       "      <td>EB Public Library x1380</td>\n",
       "      <td>Wonderful Pistachios - Variety</td>\n",
       "      <td>Food</td>\n",
       "      <td>15603201222</td>\n",
       "      <td>Wednesday, August 31, 2022</td>\n",
       "      <td>Credit</td>\n",
       "      <td>131</td>\n",
       "      <td>2.0</td>\n",
       "      <td>1</td>\n",
       "      <td>131</td>\n",
       "      <td>2.0</td>\n",
       "      <td>1</td>\n",
       "      <td>2.0</td>\n",
       "      <td>6.0</td>\n",
       "      <td>8/31/2022</td>\n",
       "    </tr>\n",
       "    <tr>\n",
       "      <th>6442</th>\n",
       "      <td>Processed</td>\n",
       "      <td>VJ300320692</td>\n",
       "      <td>EB Public Library</td>\n",
       "      <td>EB Public Library x1380</td>\n",
       "      <td>Hungry Buddha - Chocolate Chip</td>\n",
       "      <td>Food</td>\n",
       "      <td>15603201222</td>\n",
       "      <td>Wednesday, August 31, 2022</td>\n",
       "      <td>Credit</td>\n",
       "      <td>137</td>\n",
       "      <td>2.0</td>\n",
       "      <td>1</td>\n",
       "      <td>137</td>\n",
       "      <td>2.0</td>\n",
       "      <td>1</td>\n",
       "      <td>2.0</td>\n",
       "      <td>6.0</td>\n",
       "      <td>8/31/2022</td>\n",
       "    </tr>\n",
       "    <tr>\n",
       "      <th>6443</th>\n",
       "      <td>Processed</td>\n",
       "      <td>VJ300320609</td>\n",
       "      <td>GuttenPlans</td>\n",
       "      <td>GuttenPlans x1367</td>\n",
       "      <td>Snapple Tea - Lemon</td>\n",
       "      <td>Non Carbonated</td>\n",
       "      <td>15603853105</td>\n",
       "      <td>Wednesday, August 31, 2022</td>\n",
       "      <td>Credit</td>\n",
       "      <td>145</td>\n",
       "      <td>2.5</td>\n",
       "      <td>1</td>\n",
       "      <td>145</td>\n",
       "      <td>2.5</td>\n",
       "      <td>1</td>\n",
       "      <td>2.5</td>\n",
       "      <td>2.5</td>\n",
       "      <td>8/31/2022</td>\n",
       "    </tr>\n",
       "    <tr>\n",
       "      <th>6444</th>\n",
       "      <td>Processed</td>\n",
       "      <td>VJ300320692</td>\n",
       "      <td>EB Public Library</td>\n",
       "      <td>EB Public Library x1380</td>\n",
       "      <td>Goldfish Baked - Cheddar</td>\n",
       "      <td>Food</td>\n",
       "      <td>15603921383</td>\n",
       "      <td>Wednesday, August 31, 2022</td>\n",
       "      <td>Cash</td>\n",
       "      <td>125</td>\n",
       "      <td>1.5</td>\n",
       "      <td>1</td>\n",
       "      <td>125</td>\n",
       "      <td>1.5</td>\n",
       "      <td>1</td>\n",
       "      <td>1.5</td>\n",
       "      <td>1.5</td>\n",
       "      <td>8/31/2022</td>\n",
       "    </tr>\n",
       "  </tbody>\n",
       "</table>\n",
       "<p>6445 rows × 18 columns</p>\n",
       "</div>"
      ],
      "text/plain": [
       "         Status    Device ID           Location                  Machine  \\\n",
       "0     Processed  VJ300320611  Brunswick Sq Mall     BSQ Mall x1366 - ATT   \n",
       "1     Processed  VJ300320611  Brunswick Sq Mall     BSQ Mall x1366 - ATT   \n",
       "2     Processed  VJ300320611  Brunswick Sq Mall     BSQ Mall x1366 - ATT   \n",
       "3     Processed  VJ300320611  Brunswick Sq Mall     BSQ Mall x1366 - ATT   \n",
       "4     Processed  VJ300320611  Brunswick Sq Mall     BSQ Mall x1366 - ATT   \n",
       "...         ...          ...                ...                      ...   \n",
       "6440  Processed  VJ300320692  EB Public Library  EB Public Library x1380   \n",
       "6441  Processed  VJ300320692  EB Public Library  EB Public Library x1380   \n",
       "6442  Processed  VJ300320692  EB Public Library  EB Public Library x1380   \n",
       "6443  Processed  VJ300320609        GuttenPlans        GuttenPlans x1367   \n",
       "6444  Processed  VJ300320692  EB Public Library  EB Public Library x1380   \n",
       "\n",
       "                                   Product        Category  Transaction  \\\n",
       "0     Red Bull - Energy Drink - Sugar Free      Carbonated  14515778905   \n",
       "1     Red Bull - Energy Drink - Sugar Free      Carbonated  14516018629   \n",
       "2         Takis - Hot Chilli Pepper & Lime            Food  14516018629   \n",
       "3         Takis - Hot Chilli Pepper & Lime            Food  14516020373   \n",
       "4     Red Bull - Energy Drink - Sugar Free      Carbonated  14516021756   \n",
       "...                                    ...             ...          ...   \n",
       "6440          Lindens - Chocolate Chippers            Food  15603201222   \n",
       "6441        Wonderful Pistachios - Variety            Food  15603201222   \n",
       "6442        Hungry Buddha - Chocolate Chip            Food  15603201222   \n",
       "6443                   Snapple Tea - Lemon  Non Carbonated  15603853105   \n",
       "6444              Goldfish Baked - Cheddar            Food  15603921383   \n",
       "\n",
       "                       TransDate    Type  RCoil  RPrice  RQty  MCoil  MPrice  \\\n",
       "0      Saturday, January 1, 2022  Credit    148     3.5     1    148     3.5   \n",
       "1      Saturday, January 1, 2022  Credit    148     3.5     1    148     3.5   \n",
       "2      Saturday, January 1, 2022  Credit    123     1.5     1    123     1.5   \n",
       "3      Saturday, January 1, 2022  Credit    123     1.5     1    123     1.5   \n",
       "4      Saturday, January 1, 2022  Credit    148     3.5     1    148     3.5   \n",
       "...                          ...     ...    ...     ...   ...    ...     ...   \n",
       "6440  Wednesday, August 31, 2022  Credit    122     2.0     1    122     2.0   \n",
       "6441  Wednesday, August 31, 2022  Credit    131     2.0     1    131     2.0   \n",
       "6442  Wednesday, August 31, 2022  Credit    137     2.0     1    137     2.0   \n",
       "6443  Wednesday, August 31, 2022  Credit    145     2.5     1    145     2.5   \n",
       "6444  Wednesday, August 31, 2022    Cash    125     1.5     1    125     1.5   \n",
       "\n",
       "      MQty  LineTotal  TransTotal  Prcd Date  \n",
       "0        1        3.5         3.5   1/1/2022  \n",
       "1        1        3.5         5.0   1/1/2022  \n",
       "2        1        1.5         5.0   1/1/2022  \n",
       "3        1        1.5         1.5   1/1/2022  \n",
       "4        1        3.5         3.5   1/1/2022  \n",
       "...    ...        ...         ...        ...  \n",
       "6440     1        2.0         6.0  8/31/2022  \n",
       "6441     1        2.0         6.0  8/31/2022  \n",
       "6442     1        2.0         6.0  8/31/2022  \n",
       "6443     1        2.5         2.5  8/31/2022  \n",
       "6444     1        1.5         1.5  8/31/2022  \n",
       "\n",
       "[6445 rows x 18 columns]"
      ]
     },
     "execution_count": 7,
     "metadata": {},
     "output_type": "execute_result"
    }
   ],
   "source": [
    "pd.read_csv(\"vend.csv\")"
   ]
  },
  {
   "cell_type": "markdown",
   "metadata": {
    "cell_id": "bc2a9ee7b64d408c94584e4d7098835d",
    "deepnote_cell_type": "markdown",
    "tags": []
   },
   "source": [
    "To later access the contents of this dataset, we should store it in some variable name.  A good default choice is `df`."
   ]
  },
  {
   "cell_type": "code",
   "execution_count": 8,
   "metadata": {
    "cell_id": "cb82106836b949798e7f579ca5f2cc29",
    "deepnote_cell_type": "code",
    "deepnote_to_be_reexecuted": false,
    "execution_millis": 22,
    "execution_start": 1663954188404,
    "source_hash": "ef6375d",
    "tags": []
   },
   "outputs": [],
   "source": [
    "df = pd.read_csv(\"vend.csv\")"
   ]
  },
  {
   "cell_type": "markdown",
   "metadata": {
    "cell_id": "9d688a04a47e4c70a7637276dfd67c31",
    "deepnote_cell_type": "markdown",
    "tags": []
   },
   "source": [
    "In the worksheet from yesterday, we only did a few things with this dataset.  One thing we did was to look at its first 10 rows using the `head` method."
   ]
  },
  {
   "cell_type": "code",
   "execution_count": 9,
   "metadata": {
    "cell_id": "9d6550913e984988a26b483b2b882ad2",
    "deepnote_cell_type": "code",
    "deepnote_to_be_reexecuted": false,
    "execution_millis": 50,
    "execution_start": 1663954234211,
    "source_hash": "f30f989a",
    "tags": [
     "output_scroll"
    ]
   },
   "outputs": [
    {
     "data": {
      "application/vnd.deepnote.dataframe.v3+json": {
       "column_count": 18,
       "columns": [
        {
         "dtype": "object",
         "name": "Status",
         "stats": {
          "categories": [
           {
            "count": 10,
            "name": "Processed"
           }
          ],
          "nan_count": 0,
          "unique_count": 1
         }
        },
        {
         "dtype": "object",
         "name": "Device ID",
         "stats": {
          "categories": [
           {
            "count": 5,
            "name": "VJ300320611"
           },
           {
            "count": 2,
            "name": "VJ300205292"
           },
           {
            "count": 3,
            "name": "2 others"
           }
          ],
          "nan_count": 0,
          "unique_count": 4
         }
        },
        {
         "dtype": "object",
         "name": "Location",
         "stats": {
          "categories": [
           {
            "count": 7,
            "name": "Brunswick Sq Mall"
           },
           {
            "count": 2,
            "name": "Earle Asphalt"
           },
           {
            "count": 1,
            "name": "GuttenPlans"
           }
          ],
          "nan_count": 0,
          "unique_count": 3
         }
        },
        {
         "dtype": "object",
         "name": "Machine",
         "stats": {
          "categories": [
           {
            "count": 5,
            "name": "BSQ Mall x1366 - ATT"
           },
           {
            "count": 2,
            "name": "BSQ Mall x1364 - Zales"
           },
           {
            "count": 3,
            "name": "2 others"
           }
          ],
          "nan_count": 0,
          "unique_count": 4
         }
        },
        {
         "dtype": "object",
         "name": "Product",
         "stats": {
          "categories": [
           {
            "count": 3,
            "name": "Red Bull - Energy Drink - Sugar Free"
           },
           {
            "count": 2,
            "name": "Takis - Hot Chilli Pepper & Lime"
           },
           {
            "count": 5,
            "name": "5 others"
           }
          ],
          "nan_count": 0,
          "unique_count": 7
         }
        },
        {
         "dtype": "object",
         "name": "Category",
         "stats": {
          "categories": [
           {
            "count": 5,
            "name": "Food"
           },
           {
            "count": 4,
            "name": "Carbonated"
           },
           {
            "count": 1,
            "name": "Non Carbonated"
           }
          ],
          "nan_count": 0,
          "unique_count": 3
         }
        },
        {
         "dtype": "int64",
         "name": "Transaction",
         "stats": {
          "histogram": [
           {
            "bin_end": 14516232547.5,
            "bin_start": 14515778905,
            "count": 5
           },
           {
            "bin_end": 14516686190,
            "bin_start": 14516232547.5,
            "count": 0
           },
           {
            "bin_end": 14517139832.5,
            "bin_start": 14516686190,
            "count": 0
           },
           {
            "bin_end": 14517593475,
            "bin_start": 14517139832.5,
            "count": 1
           },
           {
            "bin_end": 14518047117.5,
            "bin_start": 14517593475,
            "count": 0
           },
           {
            "bin_end": 14518500760,
            "bin_start": 14518047117.5,
            "count": 0
           },
           {
            "bin_end": 14518954402.5,
            "bin_start": 14518500760,
            "count": 1
           },
           {
            "bin_end": 14519408045,
            "bin_start": 14518954402.5,
            "count": 1
           },
           {
            "bin_end": 14519861687.5,
            "bin_start": 14519408045,
            "count": 1
           },
           {
            "bin_end": 14520315330,
            "bin_start": 14519861687.5,
            "count": 1
           }
          ],
          "max": "14520315330",
          "min": "14515778905",
          "nan_count": 0,
          "unique_count": 9
         }
        },
        {
         "dtype": "object",
         "name": "TransDate",
         "stats": {
          "categories": [
           {
            "count": 5,
            "name": "Saturday, January 1, 2022"
           },
           {
            "count": 4,
            "name": "Monday, January 3, 2022"
           },
           {
            "count": 1,
            "name": "Sunday, January 2, 2022"
           }
          ],
          "nan_count": 0,
          "unique_count": 3
         }
        },
        {
         "dtype": "object",
         "name": "Type",
         "stats": {
          "categories": [
           {
            "count": 8,
            "name": "Credit"
           },
           {
            "count": 2,
            "name": "Cash"
           }
          ],
          "nan_count": 0,
          "unique_count": 2
         }
        },
        {
         "dtype": "int64",
         "name": "RCoil",
         "stats": {
          "histogram": [
           {
            "bin_end": 113.8,
            "bin_start": 110,
            "count": 1
           },
           {
            "bin_end": 117.6,
            "bin_start": 113.8,
            "count": 1
           },
           {
            "bin_end": 121.4,
            "bin_start": 117.6,
            "count": 0
           },
           {
            "bin_end": 125.2,
            "bin_start": 121.4,
            "count": 2
           },
           {
            "bin_end": 129,
            "bin_start": 125.2,
            "count": 0
           },
           {
            "bin_end": 132.8,
            "bin_start": 129,
            "count": 0
           },
           {
            "bin_end": 136.6,
            "bin_start": 132.8,
            "count": 1
           },
           {
            "bin_end": 140.4,
            "bin_start": 136.6,
            "count": 0
           },
           {
            "bin_end": 144.2,
            "bin_start": 140.4,
            "count": 1
           },
           {
            "bin_end": 148,
            "bin_start": 144.2,
            "count": 4
           }
          ],
          "max": "148",
          "min": "110",
          "nan_count": 0,
          "unique_count": 7
         }
        },
        {
         "dtype": "float64",
         "name": "RPrice",
         "stats": {
          "histogram": [
           {
            "bin_end": 1.7,
            "bin_start": 1.5,
            "count": 4
           },
           {
            "bin_end": 1.9,
            "bin_start": 1.7,
            "count": 0
           },
           {
            "bin_end": 2.1,
            "bin_start": 1.9,
            "count": 0
           },
           {
            "bin_end": 2.3,
            "bin_start": 2.1,
            "count": 0
           },
           {
            "bin_end": 2.5,
            "bin_start": 2.3,
            "count": 0
           },
           {
            "bin_end": 2.7,
            "bin_start": 2.5,
            "count": 2
           },
           {
            "bin_end": 2.9000000000000004,
            "bin_start": 2.7,
            "count": 0
           },
           {
            "bin_end": 3.1,
            "bin_start": 2.9000000000000004,
            "count": 1
           },
           {
            "bin_end": 3.3,
            "bin_start": 3.1,
            "count": 0
           },
           {
            "bin_end": 3.5,
            "bin_start": 3.3,
            "count": 3
           }
          ],
          "max": "3.5",
          "min": "1.5",
          "nan_count": 0,
          "unique_count": 4
         }
        },
        {
         "dtype": "int64",
         "name": "RQty",
         "stats": {
          "histogram": [
           {
            "bin_end": 0.6,
            "bin_start": 0.5,
            "count": 0
           },
           {
            "bin_end": 0.7,
            "bin_start": 0.6,
            "count": 0
           },
           {
            "bin_end": 0.8,
            "bin_start": 0.7,
            "count": 0
           },
           {
            "bin_end": 0.9,
            "bin_start": 0.8,
            "count": 0
           },
           {
            "bin_end": 1,
            "bin_start": 0.9,
            "count": 0
           },
           {
            "bin_end": 1.1,
            "bin_start": 1,
            "count": 10
           },
           {
            "bin_end": 1.2000000000000002,
            "bin_start": 1.1,
            "count": 0
           },
           {
            "bin_end": 1.3,
            "bin_start": 1.2000000000000002,
            "count": 0
           },
           {
            "bin_end": 1.4,
            "bin_start": 1.3,
            "count": 0
           },
           {
            "bin_end": 1.5,
            "bin_start": 1.4,
            "count": 0
           }
          ],
          "max": "1",
          "min": "1",
          "nan_count": 0,
          "unique_count": 1
         }
        },
        {
         "dtype": "int64",
         "name": "MCoil",
         "stats": {
          "histogram": [
           {
            "bin_end": 113.8,
            "bin_start": 110,
            "count": 1
           },
           {
            "bin_end": 117.6,
            "bin_start": 113.8,
            "count": 1
           },
           {
            "bin_end": 121.4,
            "bin_start": 117.6,
            "count": 0
           },
           {
            "bin_end": 125.2,
            "bin_start": 121.4,
            "count": 2
           },
           {
            "bin_end": 129,
            "bin_start": 125.2,
            "count": 0
           },
           {
            "bin_end": 132.8,
            "bin_start": 129,
            "count": 0
           },
           {
            "bin_end": 136.6,
            "bin_start": 132.8,
            "count": 1
           },
           {
            "bin_end": 140.4,
            "bin_start": 136.6,
            "count": 0
           },
           {
            "bin_end": 144.2,
            "bin_start": 140.4,
            "count": 1
           },
           {
            "bin_end": 148,
            "bin_start": 144.2,
            "count": 4
           }
          ],
          "max": "148",
          "min": "110",
          "nan_count": 0,
          "unique_count": 7
         }
        },
        {
         "dtype": "float64",
         "name": "MPrice",
         "stats": {
          "histogram": [
           {
            "bin_end": 1.7,
            "bin_start": 1.5,
            "count": 4
           },
           {
            "bin_end": 1.9,
            "bin_start": 1.7,
            "count": 0
           },
           {
            "bin_end": 2.1,
            "bin_start": 1.9,
            "count": 0
           },
           {
            "bin_end": 2.3,
            "bin_start": 2.1,
            "count": 0
           },
           {
            "bin_end": 2.5,
            "bin_start": 2.3,
            "count": 0
           },
           {
            "bin_end": 2.7,
            "bin_start": 2.5,
            "count": 2
           },
           {
            "bin_end": 2.9000000000000004,
            "bin_start": 2.7,
            "count": 0
           },
           {
            "bin_end": 3.1,
            "bin_start": 2.9000000000000004,
            "count": 1
           },
           {
            "bin_end": 3.3,
            "bin_start": 3.1,
            "count": 0
           },
           {
            "bin_end": 3.5,
            "bin_start": 3.3,
            "count": 3
           }
          ],
          "max": "3.5",
          "min": "1.5",
          "nan_count": 0,
          "unique_count": 4
         }
        },
        {
         "dtype": "int64",
         "name": "MQty",
         "stats": {
          "histogram": [
           {
            "bin_end": 0.6,
            "bin_start": 0.5,
            "count": 0
           },
           {
            "bin_end": 0.7,
            "bin_start": 0.6,
            "count": 0
           },
           {
            "bin_end": 0.8,
            "bin_start": 0.7,
            "count": 0
           },
           {
            "bin_end": 0.9,
            "bin_start": 0.8,
            "count": 0
           },
           {
            "bin_end": 1,
            "bin_start": 0.9,
            "count": 0
           },
           {
            "bin_end": 1.1,
            "bin_start": 1,
            "count": 10
           },
           {
            "bin_end": 1.2000000000000002,
            "bin_start": 1.1,
            "count": 0
           },
           {
            "bin_end": 1.3,
            "bin_start": 1.2000000000000002,
            "count": 0
           },
           {
            "bin_end": 1.4,
            "bin_start": 1.3,
            "count": 0
           },
           {
            "bin_end": 1.5,
            "bin_start": 1.4,
            "count": 0
           }
          ],
          "max": "1",
          "min": "1",
          "nan_count": 0,
          "unique_count": 1
         }
        },
        {
         "dtype": "float64",
         "name": "LineTotal",
         "stats": {
          "histogram": [
           {
            "bin_end": 1.7,
            "bin_start": 1.5,
            "count": 4
           },
           {
            "bin_end": 1.9,
            "bin_start": 1.7,
            "count": 0
           },
           {
            "bin_end": 2.1,
            "bin_start": 1.9,
            "count": 0
           },
           {
            "bin_end": 2.3,
            "bin_start": 2.1,
            "count": 0
           },
           {
            "bin_end": 2.5,
            "bin_start": 2.3,
            "count": 0
           },
           {
            "bin_end": 2.7,
            "bin_start": 2.5,
            "count": 2
           },
           {
            "bin_end": 2.9000000000000004,
            "bin_start": 2.7,
            "count": 0
           },
           {
            "bin_end": 3.1,
            "bin_start": 2.9000000000000004,
            "count": 1
           },
           {
            "bin_end": 3.3,
            "bin_start": 3.1,
            "count": 0
           },
           {
            "bin_end": 3.5,
            "bin_start": 3.3,
            "count": 3
           }
          ],
          "max": "3.5",
          "min": "1.5",
          "nan_count": 0,
          "unique_count": 4
         }
        },
        {
         "dtype": "float64",
         "name": "TransTotal",
         "stats": {
          "histogram": [
           {
            "bin_end": 1.85,
            "bin_start": 1.5,
            "count": 3
           },
           {
            "bin_end": 2.2,
            "bin_start": 1.85,
            "count": 0
           },
           {
            "bin_end": 2.55,
            "bin_start": 2.2,
            "count": 2
           },
           {
            "bin_end": 2.9,
            "bin_start": 2.55,
            "count": 0
           },
           {
            "bin_end": 3.25,
            "bin_start": 2.9,
            "count": 1
           },
           {
            "bin_end": 3.5999999999999996,
            "bin_start": 3.25,
            "count": 2
           },
           {
            "bin_end": 3.9499999999999997,
            "bin_start": 3.5999999999999996,
            "count": 0
           },
           {
            "bin_end": 4.3,
            "bin_start": 3.9499999999999997,
            "count": 0
           },
           {
            "bin_end": 4.65,
            "bin_start": 4.3,
            "count": 0
           },
           {
            "bin_end": 5,
            "bin_start": 4.65,
            "count": 2
           }
          ],
          "max": "5.0",
          "min": "1.5",
          "nan_count": 0,
          "unique_count": 5
         }
        },
        {
         "dtype": "object",
         "name": "Prcd Date",
         "stats": {
          "categories": [
           {
            "count": 5,
            "name": "1/1/2022"
           },
           {
            "count": 3,
            "name": "1/3/2022"
           },
           {
            "count": 2,
            "name": "1/2/2022"
           }
          ],
          "nan_count": 0,
          "unique_count": 3
         }
        },
        {
         "dtype": "int64",
         "name": "_deepnote_index_column"
        }
       ],
       "row_count": 10,
       "rows": [
        {
         "Category": "Carbonated",
         "Device ID": "VJ300320611",
         "LineTotal": "3.5",
         "Location": "Brunswick Sq Mall",
         "MCoil": "148",
         "MPrice": "3.5",
         "MQty": "1",
         "Machine": "BSQ Mall x1366 - ATT",
         "Prcd Date": "1/1/2022",
         "Product": "Red Bull - Energy Drink - Sugar Free",
         "RCoil": "148",
         "RPrice": "3.5",
         "RQty": "1",
         "Status": "Processed",
         "TransDate": "Saturday, January 1, 2022",
         "TransTotal": "3.5",
         "Transaction": "14515778905",
         "Type": "Credit",
         "_deepnote_index_column": "0"
        },
        {
         "Category": "Carbonated",
         "Device ID": "VJ300320611",
         "LineTotal": "3.5",
         "Location": "Brunswick Sq Mall",
         "MCoil": "148",
         "MPrice": "3.5",
         "MQty": "1",
         "Machine": "BSQ Mall x1366 - ATT",
         "Prcd Date": "1/1/2022",
         "Product": "Red Bull - Energy Drink - Sugar Free",
         "RCoil": "148",
         "RPrice": "3.5",
         "RQty": "1",
         "Status": "Processed",
         "TransDate": "Saturday, January 1, 2022",
         "TransTotal": "5.0",
         "Transaction": "14516018629",
         "Type": "Credit",
         "_deepnote_index_column": "1"
        },
        {
         "Category": "Food",
         "Device ID": "VJ300320611",
         "LineTotal": "1.5",
         "Location": "Brunswick Sq Mall",
         "MCoil": "123",
         "MPrice": "1.5",
         "MQty": "1",
         "Machine": "BSQ Mall x1366 - ATT",
         "Prcd Date": "1/1/2022",
         "Product": "Takis - Hot Chilli Pepper & Lime",
         "RCoil": "123",
         "RPrice": "1.5",
         "RQty": "1",
         "Status": "Processed",
         "TransDate": "Saturday, January 1, 2022",
         "TransTotal": "5.0",
         "Transaction": "14516018629",
         "Type": "Credit",
         "_deepnote_index_column": "2"
        },
        {
         "Category": "Food",
         "Device ID": "VJ300320611",
         "LineTotal": "1.5",
         "Location": "Brunswick Sq Mall",
         "MCoil": "123",
         "MPrice": "1.5",
         "MQty": "1",
         "Machine": "BSQ Mall x1366 - ATT",
         "Prcd Date": "1/1/2022",
         "Product": "Takis - Hot Chilli Pepper & Lime",
         "RCoil": "123",
         "RPrice": "1.5",
         "RQty": "1",
         "Status": "Processed",
         "TransDate": "Saturday, January 1, 2022",
         "TransTotal": "1.5",
         "Transaction": "14516020373",
         "Type": "Credit",
         "_deepnote_index_column": "3"
        },
        {
         "Category": "Carbonated",
         "Device ID": "VJ300320611",
         "LineTotal": "3.5",
         "Location": "Brunswick Sq Mall",
         "MCoil": "148",
         "MPrice": "3.5",
         "MQty": "1",
         "Machine": "BSQ Mall x1366 - ATT",
         "Prcd Date": "1/1/2022",
         "Product": "Red Bull - Energy Drink - Sugar Free",
         "RCoil": "148",
         "RPrice": "3.5",
         "RQty": "1",
         "Status": "Processed",
         "TransDate": "Saturday, January 1, 2022",
         "TransTotal": "3.5",
         "Transaction": "14516021756",
         "Type": "Credit",
         "_deepnote_index_column": "4"
        },
        {
         "Category": "Non Carbonated",
         "Device ID": "VJ300205292",
         "LineTotal": "2.5",
         "Location": "Brunswick Sq Mall",
         "MCoil": "146",
         "MPrice": "2.5",
         "MQty": "1",
         "Machine": "BSQ Mall x1364 - Zales",
         "Prcd Date": "1/2/2022",
         "Product": "Bai Antioxidant - Brasilia BB",
         "RCoil": "146",
         "RPrice": "2.5",
         "RQty": "1",
         "Status": "Processed",
         "TransDate": "Sunday, January 2, 2022",
         "TransTotal": "2.5",
         "Transaction": "14517568743",
         "Type": "Cash",
         "_deepnote_index_column": "5"
        },
        {
         "Category": "Food",
         "Device ID": "VJ300205292",
         "LineTotal": "1.5",
         "Location": "Brunswick Sq Mall",
         "MCoil": "114",
         "MPrice": "1.5",
         "MQty": "1",
         "Machine": "BSQ Mall x1364 - Zales",
         "Prcd Date": "1/2/2022",
         "Product": "Miss Vickie's Potato Chip - Sea Salt & Vinega",
         "RCoil": "114",
         "RPrice": "1.5",
         "RQty": "1",
         "Status": "Processed",
         "TransDate": "Monday, January 3, 2022",
         "TransTotal": "1.5",
         "Transaction": "14518731524",
         "Type": "Cash",
         "_deepnote_index_column": "6"
        },
        {
         "Category": "Food",
         "Device ID": "VJ300320686",
         "LineTotal": "1.5",
         "Location": "Earle Asphalt",
         "MCoil": "110",
         "MPrice": "1.5",
         "MQty": "1",
         "Machine": "Earle Asphalt x1371",
         "Prcd Date": "1/3/2022",
         "Product": "Miss Vickie's Potato Chip - Lime & Cracked Pe",
         "RCoil": "110",
         "RPrice": "1.5",
         "RQty": "1",
         "Status": "Processed",
         "TransDate": "Monday, January 3, 2022",
         "TransTotal": "1.5",
         "Transaction": "14519162059",
         "Type": "Credit",
         "_deepnote_index_column": "7"
        },
        {
         "Category": "Carbonated",
         "Device ID": "VJ300320609",
         "LineTotal": "3.0",
         "Location": "GuttenPlans",
         "MCoil": "144",
         "MPrice": "3.0",
         "MQty": "1",
         "Machine": "GuttenPlans x1367",
         "Prcd Date": "1/3/2022",
         "Product": "Monster Energy Original",
         "RCoil": "144",
         "RPrice": "3.0",
         "RQty": "1",
         "Status": "Processed",
         "TransDate": "Monday, January 3, 2022",
         "TransTotal": "3.0",
         "Transaction": "14519670154",
         "Type": "Credit",
         "_deepnote_index_column": "8"
        },
        {
         "Category": "Food",
         "Device ID": "VJ300320686",
         "LineTotal": "2.5",
         "Location": "Earle Asphalt",
         "MCoil": "134",
         "MPrice": "2.5",
         "MQty": "1",
         "Machine": "Earle Asphalt x1371",
         "Prcd Date": "1/3/2022",
         "Product": "Seapoint Farms Dry Roasted Edamame - Wasabi",
         "RCoil": "134",
         "RPrice": "2.5",
         "RQty": "1",
         "Status": "Processed",
         "TransDate": "Monday, January 3, 2022",
         "TransTotal": "2.5",
         "Transaction": "14520315330",
         "Type": "Credit",
         "_deepnote_index_column": "9"
        }
       ]
      },
      "text/html": [
       "<div>\n",
       "<style scoped>\n",
       "    .dataframe tbody tr th:only-of-type {\n",
       "        vertical-align: middle;\n",
       "    }\n",
       "\n",
       "    .dataframe tbody tr th {\n",
       "        vertical-align: top;\n",
       "    }\n",
       "\n",
       "    .dataframe thead th {\n",
       "        text-align: right;\n",
       "    }\n",
       "</style>\n",
       "<table border=\"1\" class=\"dataframe\">\n",
       "  <thead>\n",
       "    <tr style=\"text-align: right;\">\n",
       "      <th></th>\n",
       "      <th>Status</th>\n",
       "      <th>Device ID</th>\n",
       "      <th>Location</th>\n",
       "      <th>Machine</th>\n",
       "      <th>Product</th>\n",
       "      <th>Category</th>\n",
       "      <th>Transaction</th>\n",
       "      <th>TransDate</th>\n",
       "      <th>Type</th>\n",
       "      <th>RCoil</th>\n",
       "      <th>RPrice</th>\n",
       "      <th>RQty</th>\n",
       "      <th>MCoil</th>\n",
       "      <th>MPrice</th>\n",
       "      <th>MQty</th>\n",
       "      <th>LineTotal</th>\n",
       "      <th>TransTotal</th>\n",
       "      <th>Prcd Date</th>\n",
       "    </tr>\n",
       "  </thead>\n",
       "  <tbody>\n",
       "    <tr>\n",
       "      <th>0</th>\n",
       "      <td>Processed</td>\n",
       "      <td>VJ300320611</td>\n",
       "      <td>Brunswick Sq Mall</td>\n",
       "      <td>BSQ Mall x1366 - ATT</td>\n",
       "      <td>Red Bull - Energy Drink - Sugar Free</td>\n",
       "      <td>Carbonated</td>\n",
       "      <td>14515778905</td>\n",
       "      <td>Saturday, January 1, 2022</td>\n",
       "      <td>Credit</td>\n",
       "      <td>148</td>\n",
       "      <td>3.5</td>\n",
       "      <td>1</td>\n",
       "      <td>148</td>\n",
       "      <td>3.5</td>\n",
       "      <td>1</td>\n",
       "      <td>3.5</td>\n",
       "      <td>3.5</td>\n",
       "      <td>1/1/2022</td>\n",
       "    </tr>\n",
       "    <tr>\n",
       "      <th>1</th>\n",
       "      <td>Processed</td>\n",
       "      <td>VJ300320611</td>\n",
       "      <td>Brunswick Sq Mall</td>\n",
       "      <td>BSQ Mall x1366 - ATT</td>\n",
       "      <td>Red Bull - Energy Drink - Sugar Free</td>\n",
       "      <td>Carbonated</td>\n",
       "      <td>14516018629</td>\n",
       "      <td>Saturday, January 1, 2022</td>\n",
       "      <td>Credit</td>\n",
       "      <td>148</td>\n",
       "      <td>3.5</td>\n",
       "      <td>1</td>\n",
       "      <td>148</td>\n",
       "      <td>3.5</td>\n",
       "      <td>1</td>\n",
       "      <td>3.5</td>\n",
       "      <td>5.0</td>\n",
       "      <td>1/1/2022</td>\n",
       "    </tr>\n",
       "    <tr>\n",
       "      <th>2</th>\n",
       "      <td>Processed</td>\n",
       "      <td>VJ300320611</td>\n",
       "      <td>Brunswick Sq Mall</td>\n",
       "      <td>BSQ Mall x1366 - ATT</td>\n",
       "      <td>Takis - Hot Chilli Pepper &amp; Lime</td>\n",
       "      <td>Food</td>\n",
       "      <td>14516018629</td>\n",
       "      <td>Saturday, January 1, 2022</td>\n",
       "      <td>Credit</td>\n",
       "      <td>123</td>\n",
       "      <td>1.5</td>\n",
       "      <td>1</td>\n",
       "      <td>123</td>\n",
       "      <td>1.5</td>\n",
       "      <td>1</td>\n",
       "      <td>1.5</td>\n",
       "      <td>5.0</td>\n",
       "      <td>1/1/2022</td>\n",
       "    </tr>\n",
       "    <tr>\n",
       "      <th>3</th>\n",
       "      <td>Processed</td>\n",
       "      <td>VJ300320611</td>\n",
       "      <td>Brunswick Sq Mall</td>\n",
       "      <td>BSQ Mall x1366 - ATT</td>\n",
       "      <td>Takis - Hot Chilli Pepper &amp; Lime</td>\n",
       "      <td>Food</td>\n",
       "      <td>14516020373</td>\n",
       "      <td>Saturday, January 1, 2022</td>\n",
       "      <td>Credit</td>\n",
       "      <td>123</td>\n",
       "      <td>1.5</td>\n",
       "      <td>1</td>\n",
       "      <td>123</td>\n",
       "      <td>1.5</td>\n",
       "      <td>1</td>\n",
       "      <td>1.5</td>\n",
       "      <td>1.5</td>\n",
       "      <td>1/1/2022</td>\n",
       "    </tr>\n",
       "    <tr>\n",
       "      <th>4</th>\n",
       "      <td>Processed</td>\n",
       "      <td>VJ300320611</td>\n",
       "      <td>Brunswick Sq Mall</td>\n",
       "      <td>BSQ Mall x1366 - ATT</td>\n",
       "      <td>Red Bull - Energy Drink - Sugar Free</td>\n",
       "      <td>Carbonated</td>\n",
       "      <td>14516021756</td>\n",
       "      <td>Saturday, January 1, 2022</td>\n",
       "      <td>Credit</td>\n",
       "      <td>148</td>\n",
       "      <td>3.5</td>\n",
       "      <td>1</td>\n",
       "      <td>148</td>\n",
       "      <td>3.5</td>\n",
       "      <td>1</td>\n",
       "      <td>3.5</td>\n",
       "      <td>3.5</td>\n",
       "      <td>1/1/2022</td>\n",
       "    </tr>\n",
       "    <tr>\n",
       "      <th>5</th>\n",
       "      <td>Processed</td>\n",
       "      <td>VJ300205292</td>\n",
       "      <td>Brunswick Sq Mall</td>\n",
       "      <td>BSQ Mall x1364 - Zales</td>\n",
       "      <td>Bai Antioxidant - Brasilia BB</td>\n",
       "      <td>Non Carbonated</td>\n",
       "      <td>14517568743</td>\n",
       "      <td>Sunday, January 2, 2022</td>\n",
       "      <td>Cash</td>\n",
       "      <td>146</td>\n",
       "      <td>2.5</td>\n",
       "      <td>1</td>\n",
       "      <td>146</td>\n",
       "      <td>2.5</td>\n",
       "      <td>1</td>\n",
       "      <td>2.5</td>\n",
       "      <td>2.5</td>\n",
       "      <td>1/2/2022</td>\n",
       "    </tr>\n",
       "    <tr>\n",
       "      <th>6</th>\n",
       "      <td>Processed</td>\n",
       "      <td>VJ300205292</td>\n",
       "      <td>Brunswick Sq Mall</td>\n",
       "      <td>BSQ Mall x1364 - Zales</td>\n",
       "      <td>Miss Vickie's Potato Chip - Sea Salt &amp; Vinega</td>\n",
       "      <td>Food</td>\n",
       "      <td>14518731524</td>\n",
       "      <td>Monday, January 3, 2022</td>\n",
       "      <td>Cash</td>\n",
       "      <td>114</td>\n",
       "      <td>1.5</td>\n",
       "      <td>1</td>\n",
       "      <td>114</td>\n",
       "      <td>1.5</td>\n",
       "      <td>1</td>\n",
       "      <td>1.5</td>\n",
       "      <td>1.5</td>\n",
       "      <td>1/2/2022</td>\n",
       "    </tr>\n",
       "    <tr>\n",
       "      <th>7</th>\n",
       "      <td>Processed</td>\n",
       "      <td>VJ300320686</td>\n",
       "      <td>Earle Asphalt</td>\n",
       "      <td>Earle Asphalt x1371</td>\n",
       "      <td>Miss Vickie's Potato Chip - Lime &amp; Cracked Pe</td>\n",
       "      <td>Food</td>\n",
       "      <td>14519162059</td>\n",
       "      <td>Monday, January 3, 2022</td>\n",
       "      <td>Credit</td>\n",
       "      <td>110</td>\n",
       "      <td>1.5</td>\n",
       "      <td>1</td>\n",
       "      <td>110</td>\n",
       "      <td>1.5</td>\n",
       "      <td>1</td>\n",
       "      <td>1.5</td>\n",
       "      <td>1.5</td>\n",
       "      <td>1/3/2022</td>\n",
       "    </tr>\n",
       "    <tr>\n",
       "      <th>8</th>\n",
       "      <td>Processed</td>\n",
       "      <td>VJ300320609</td>\n",
       "      <td>GuttenPlans</td>\n",
       "      <td>GuttenPlans x1367</td>\n",
       "      <td>Monster Energy Original</td>\n",
       "      <td>Carbonated</td>\n",
       "      <td>14519670154</td>\n",
       "      <td>Monday, January 3, 2022</td>\n",
       "      <td>Credit</td>\n",
       "      <td>144</td>\n",
       "      <td>3.0</td>\n",
       "      <td>1</td>\n",
       "      <td>144</td>\n",
       "      <td>3.0</td>\n",
       "      <td>1</td>\n",
       "      <td>3.0</td>\n",
       "      <td>3.0</td>\n",
       "      <td>1/3/2022</td>\n",
       "    </tr>\n",
       "    <tr>\n",
       "      <th>9</th>\n",
       "      <td>Processed</td>\n",
       "      <td>VJ300320686</td>\n",
       "      <td>Earle Asphalt</td>\n",
       "      <td>Earle Asphalt x1371</td>\n",
       "      <td>Seapoint Farms Dry Roasted Edamame - Wasabi</td>\n",
       "      <td>Food</td>\n",
       "      <td>14520315330</td>\n",
       "      <td>Monday, January 3, 2022</td>\n",
       "      <td>Credit</td>\n",
       "      <td>134</td>\n",
       "      <td>2.5</td>\n",
       "      <td>1</td>\n",
       "      <td>134</td>\n",
       "      <td>2.5</td>\n",
       "      <td>1</td>\n",
       "      <td>2.5</td>\n",
       "      <td>2.5</td>\n",
       "      <td>1/3/2022</td>\n",
       "    </tr>\n",
       "  </tbody>\n",
       "</table>\n",
       "</div>"
      ],
      "text/plain": [
       "      Status    Device ID           Location                 Machine  \\\n",
       "0  Processed  VJ300320611  Brunswick Sq Mall    BSQ Mall x1366 - ATT   \n",
       "1  Processed  VJ300320611  Brunswick Sq Mall    BSQ Mall x1366 - ATT   \n",
       "2  Processed  VJ300320611  Brunswick Sq Mall    BSQ Mall x1366 - ATT   \n",
       "3  Processed  VJ300320611  Brunswick Sq Mall    BSQ Mall x1366 - ATT   \n",
       "4  Processed  VJ300320611  Brunswick Sq Mall    BSQ Mall x1366 - ATT   \n",
       "5  Processed  VJ300205292  Brunswick Sq Mall  BSQ Mall x1364 - Zales   \n",
       "6  Processed  VJ300205292  Brunswick Sq Mall  BSQ Mall x1364 - Zales   \n",
       "7  Processed  VJ300320686      Earle Asphalt     Earle Asphalt x1371   \n",
       "8  Processed  VJ300320609        GuttenPlans       GuttenPlans x1367   \n",
       "9  Processed  VJ300320686      Earle Asphalt     Earle Asphalt x1371   \n",
       "\n",
       "                                         Product        Category  Transaction  \\\n",
       "0           Red Bull - Energy Drink - Sugar Free      Carbonated  14515778905   \n",
       "1           Red Bull - Energy Drink - Sugar Free      Carbonated  14516018629   \n",
       "2               Takis - Hot Chilli Pepper & Lime            Food  14516018629   \n",
       "3               Takis - Hot Chilli Pepper & Lime            Food  14516020373   \n",
       "4           Red Bull - Energy Drink - Sugar Free      Carbonated  14516021756   \n",
       "5                  Bai Antioxidant - Brasilia BB  Non Carbonated  14517568743   \n",
       "6  Miss Vickie's Potato Chip - Sea Salt & Vinega            Food  14518731524   \n",
       "7  Miss Vickie's Potato Chip - Lime & Cracked Pe            Food  14519162059   \n",
       "8                        Monster Energy Original      Carbonated  14519670154   \n",
       "9    Seapoint Farms Dry Roasted Edamame - Wasabi            Food  14520315330   \n",
       "\n",
       "                   TransDate    Type  RCoil  RPrice  RQty  MCoil  MPrice  \\\n",
       "0  Saturday, January 1, 2022  Credit    148     3.5     1    148     3.5   \n",
       "1  Saturday, January 1, 2022  Credit    148     3.5     1    148     3.5   \n",
       "2  Saturday, January 1, 2022  Credit    123     1.5     1    123     1.5   \n",
       "3  Saturday, January 1, 2022  Credit    123     1.5     1    123     1.5   \n",
       "4  Saturday, January 1, 2022  Credit    148     3.5     1    148     3.5   \n",
       "5    Sunday, January 2, 2022    Cash    146     2.5     1    146     2.5   \n",
       "6    Monday, January 3, 2022    Cash    114     1.5     1    114     1.5   \n",
       "7    Monday, January 3, 2022  Credit    110     1.5     1    110     1.5   \n",
       "8    Monday, January 3, 2022  Credit    144     3.0     1    144     3.0   \n",
       "9    Monday, January 3, 2022  Credit    134     2.5     1    134     2.5   \n",
       "\n",
       "   MQty  LineTotal  TransTotal Prcd Date  \n",
       "0     1        3.5         3.5  1/1/2022  \n",
       "1     1        3.5         5.0  1/1/2022  \n",
       "2     1        1.5         5.0  1/1/2022  \n",
       "3     1        1.5         1.5  1/1/2022  \n",
       "4     1        3.5         3.5  1/1/2022  \n",
       "5     1        2.5         2.5  1/2/2022  \n",
       "6     1        1.5         1.5  1/2/2022  \n",
       "7     1        1.5         1.5  1/3/2022  \n",
       "8     1        3.0         3.0  1/3/2022  \n",
       "9     1        2.5         2.5  1/3/2022  "
      ]
     },
     "execution_count": 9,
     "metadata": {},
     "output_type": "execute_result"
    }
   ],
   "source": [
    "df.head(10)"
   ]
  },
  {
   "cell_type": "markdown",
   "metadata": {
    "cell_id": "f2b52c5ce1f34b54acc8be34b1521b05",
    "deepnote_cell_type": "markdown",
    "tags": []
   },
   "source": [
    "Here is an example of how different data types have different functionality.  We can check an elements data type by using the built-in Python function `type`.  (Python has relatively few built-in functions, definitely many fewer than Mathematica, for example.  Often the functions we use in Math 10 will come from an external library.  For example, the `pd.read_csv` function is a function defined in the pandas library.)"
   ]
  },
  {
   "cell_type": "code",
   "execution_count": 10,
   "metadata": {
    "cell_id": "10a0bfefd7dd45e39d58b80c48406697",
    "deepnote_cell_type": "code",
    "deepnote_to_be_reexecuted": false,
    "execution_millis": 2,
    "execution_start": 1663954370586,
    "source_hash": "203c4434",
    "tags": []
   },
   "outputs": [],
   "source": [
    "name = \"Chris\""
   ]
  },
  {
   "cell_type": "code",
   "execution_count": 11,
   "metadata": {
    "cell_id": "c9d2ef04dda5404e9a0cfb47dd1c8f71",
    "deepnote_cell_type": "code",
    "deepnote_to_be_reexecuted": false,
    "execution_millis": 572,
    "execution_start": 1663954441155,
    "source_hash": "5eaf27ad",
    "tags": []
   },
   "outputs": [
    {
     "data": {
      "text/plain": [
       "str"
      ]
     },
     "execution_count": 11,
     "metadata": {},
     "output_type": "execute_result"
    }
   ],
   "source": [
    "type(name)"
   ]
  },
  {
   "cell_type": "markdown",
   "metadata": {
    "cell_id": "939d6f5417f842d98ff02f187e2bbff1",
    "deepnote_cell_type": "markdown",
    "tags": []
   },
   "source": [
    "The data type of `df` is a type defined in `pandas`.  The following says `pandas.core.frame.DataFrame`.  I usually ignore the middle terms and only focus on the first and last term.  The first term is telling us that this is defined in pandas, and the last term is telling us that the `type` of `df` is `DataFrame`."
   ]
  },
  {
   "cell_type": "code",
   "execution_count": 12,
   "metadata": {
    "cell_id": "8d511270984a4309afb9fb6479ad560b",
    "deepnote_cell_type": "code",
    "deepnote_to_be_reexecuted": false,
    "execution_millis": 4,
    "execution_start": 1663954454803,
    "source_hash": "61a12043",
    "tags": []
   },
   "outputs": [
    {
     "data": {
      "text/plain": [
       "pandas.core.frame.DataFrame"
      ]
     },
     "execution_count": 12,
     "metadata": {},
     "output_type": "execute_result"
    }
   ],
   "source": [
    "type(df)"
   ]
  },
  {
   "cell_type": "markdown",
   "metadata": {
    "cell_id": "b385a48514b24fb885e91096a90737d8",
    "deepnote_cell_type": "markdown",
    "tags": []
   },
   "source": [
    "As mentioned above, different types of objects have different functionality.  The following are examples of all the attributes and methods of strings.  (Technically methods are themselves a type of attribute.)  We'll see examples of how to use these attributes and methods soon.  I recommend mostly ignoring the ones that begin with two underscores, like `__add__`; those are mostly just used in the background by Python."
   ]
  },
  {
   "cell_type": "code",
   "execution_count": 13,
   "metadata": {
    "cell_id": "e470ac628e0a4cd895299c76c4572e2c",
    "deepnote_cell_type": "code",
    "deepnote_to_be_reexecuted": false,
    "execution_millis": 6,
    "execution_start": 1663954494385,
    "source_hash": "3c69d940",
    "tags": [
     "output_scroll"
    ]
   },
   "outputs": [
    {
     "data": {
      "text/plain": [
       "['__add__',\n",
       " '__class__',\n",
       " '__contains__',\n",
       " '__delattr__',\n",
       " '__dir__',\n",
       " '__doc__',\n",
       " '__eq__',\n",
       " '__format__',\n",
       " '__ge__',\n",
       " '__getattribute__',\n",
       " '__getitem__',\n",
       " '__getnewargs__',\n",
       " '__gt__',\n",
       " '__hash__',\n",
       " '__init__',\n",
       " '__init_subclass__',\n",
       " '__iter__',\n",
       " '__le__',\n",
       " '__len__',\n",
       " '__lt__',\n",
       " '__mod__',\n",
       " '__mul__',\n",
       " '__ne__',\n",
       " '__new__',\n",
       " '__reduce__',\n",
       " '__reduce_ex__',\n",
       " '__repr__',\n",
       " '__rmod__',\n",
       " '__rmul__',\n",
       " '__setattr__',\n",
       " '__sizeof__',\n",
       " '__str__',\n",
       " '__subclasshook__',\n",
       " 'capitalize',\n",
       " 'casefold',\n",
       " 'center',\n",
       " 'count',\n",
       " 'encode',\n",
       " 'endswith',\n",
       " 'expandtabs',\n",
       " 'find',\n",
       " 'format',\n",
       " 'format_map',\n",
       " 'index',\n",
       " 'isalnum',\n",
       " 'isalpha',\n",
       " 'isascii',\n",
       " 'isdecimal',\n",
       " 'isdigit',\n",
       " 'isidentifier',\n",
       " 'islower',\n",
       " 'isnumeric',\n",
       " 'isprintable',\n",
       " 'isspace',\n",
       " 'istitle',\n",
       " 'isupper',\n",
       " 'join',\n",
       " 'ljust',\n",
       " 'lower',\n",
       " 'lstrip',\n",
       " 'maketrans',\n",
       " 'partition',\n",
       " 'removeprefix',\n",
       " 'removesuffix',\n",
       " 'replace',\n",
       " 'rfind',\n",
       " 'rindex',\n",
       " 'rjust',\n",
       " 'rpartition',\n",
       " 'rsplit',\n",
       " 'rstrip',\n",
       " 'split',\n",
       " 'splitlines',\n",
       " 'startswith',\n",
       " 'strip',\n",
       " 'swapcase',\n",
       " 'title',\n",
       " 'translate',\n",
       " 'upper',\n",
       " 'zfill']"
      ]
     },
     "execution_count": 13,
     "metadata": {},
     "output_type": "execute_result"
    }
   ],
   "source": [
    "dir(name)"
   ]
  },
  {
   "cell_type": "markdown",
   "metadata": {
    "cell_id": "c1b71b76594e4f479da46ea98eeb26ee",
    "deepnote_cell_type": "markdown",
    "tags": []
   },
   "source": [
    "In retrospect, the following was a bad example, because `\"Chris\"` was already capitalized."
   ]
  },
  {
   "cell_type": "code",
   "execution_count": 14,
   "metadata": {
    "cell_id": "328db63d2336440582eb459829487627",
    "deepnote_cell_type": "code",
    "deepnote_to_be_reexecuted": false,
    "execution_millis": 897,
    "execution_start": 1663954592801,
    "source_hash": "24260306",
    "tags": []
   },
   "outputs": [
    {
     "data": {
      "text/plain": [
       "'Chris'"
      ]
     },
     "execution_count": 14,
     "metadata": {},
     "output_type": "execute_result"
    }
   ],
   "source": [
    "# using the capitalize method\n",
    "name.capitalize()"
   ]
  },
  {
   "cell_type": "code",
   "execution_count": 15,
   "metadata": {
    "cell_id": "8550cb69580c4c2ba4cddd7c0e948fd9",
    "deepnote_cell_type": "code",
    "deepnote_to_be_reexecuted": false,
    "execution_millis": 7,
    "execution_start": 1663954597007,
    "source_hash": "71c55cf0",
    "tags": []
   },
   "outputs": [
    {
     "data": {
      "text/plain": [
       "'Chris'"
      ]
     },
     "execution_count": 15,
     "metadata": {},
     "output_type": "execute_result"
    }
   ],
   "source": [
    "name"
   ]
  },
  {
   "cell_type": "markdown",
   "metadata": {
    "cell_id": "5efbe934986b46259b2efb1cb373b8a8",
    "deepnote_cell_type": "markdown",
    "tags": []
   },
   "source": [
    "Here is a better example.  We call the `upper` method of `name` to convert the string to all upper-case letters."
   ]
  },
  {
   "cell_type": "code",
   "execution_count": 16,
   "metadata": {
    "cell_id": "3b17319523ee4365b3d3854c216735a6",
    "deepnote_cell_type": "code",
    "deepnote_to_be_reexecuted": false,
    "execution_millis": 7,
    "execution_start": 1663954616177,
    "source_hash": "eae22681",
    "tags": []
   },
   "outputs": [
    {
     "data": {
      "text/plain": [
       "'CHRIS'"
      ]
     },
     "execution_count": 16,
     "metadata": {},
     "output_type": "execute_result"
    }
   ],
   "source": [
    "name.upper()"
   ]
  },
  {
   "cell_type": "markdown",
   "metadata": {
    "cell_id": "253e48de221b4649b35ad0ba9c87507e",
    "deepnote_cell_type": "markdown",
    "tags": []
   },
   "source": [
    "If we try to call the `upper` method on `df`, we get an error, because DataFrames do not have an `upper` method.  This is an example of how knowing the data type that you're working with is important, because once you know what the data type is, you also know the special functionality you can access."
   ]
  },
  {
   "cell_type": "code",
   "execution_count": 17,
   "metadata": {
    "cell_id": "88e59e20236d42509fb95f66db0f265f",
    "deepnote_cell_type": "code",
    "deepnote_to_be_reexecuted": false,
    "execution_millis": 1169,
    "execution_start": 1663954629457,
    "source_hash": "accdd518",
    "tags": []
   },
   "outputs": [
    {
     "ename": "AttributeError",
     "evalue": "'DataFrame' object has no attribute 'upper'",
     "output_type": "error",
     "traceback": [
      "\u001b[0;31m---------------------------------------------------------------------------\u001b[0m",
      "\u001b[0;31mAttributeError\u001b[0m                            Traceback (most recent call last)",
      "Cell \u001b[0;32mIn [17], line 1\u001b[0m\n\u001b[0;32m----> 1\u001b[0m \u001b[43mdf\u001b[49m\u001b[38;5;241;43m.\u001b[39;49m\u001b[43mupper\u001b[49m()\n",
      "File \u001b[0;32m/shared-libs/python3.9/py/lib/python3.9/site-packages/pandas/core/generic.py:5465\u001b[0m, in \u001b[0;36mNDFrame.__getattr__\u001b[0;34m(self, name)\u001b[0m\n\u001b[1;32m   5463\u001b[0m \u001b[38;5;28;01mif\u001b[39;00m \u001b[38;5;28mself\u001b[39m\u001b[38;5;241m.\u001b[39m_info_axis\u001b[38;5;241m.\u001b[39m_can_hold_identifiers_and_holds_name(name):\n\u001b[1;32m   5464\u001b[0m     \u001b[38;5;28;01mreturn\u001b[39;00m \u001b[38;5;28mself\u001b[39m[name]\n\u001b[0;32m-> 5465\u001b[0m \u001b[38;5;28;01mreturn\u001b[39;00m \u001b[38;5;28;43mobject\u001b[39;49m\u001b[38;5;241;43m.\u001b[39;49m\u001b[38;5;21;43m__getattribute__\u001b[39;49m\u001b[43m(\u001b[49m\u001b[38;5;28;43mself\u001b[39;49m\u001b[43m,\u001b[49m\u001b[43m \u001b[49m\u001b[43mname\u001b[49m\u001b[43m)\u001b[49m\n",
      "\u001b[0;31mAttributeError\u001b[0m: 'DataFrame' object has no attribute 'upper'"
     ]
    }
   ],
   "source": [
    "df.upper()"
   ]
  },
  {
   "cell_type": "markdown",
   "metadata": {
    "cell_id": "587aa3216a224f89afa195c203847c9c",
    "deepnote_cell_type": "markdown",
    "tags": []
   },
   "source": [
    "Here is an example of an *attribute*, as opposed to a method.  Methods are like functions, and attributes are like variables.  That's not a perfect description; you will get more familiar with attributes and methods, and get more intuition about whether something is a method or attribute, as you work more in Python.  This particular attribute records the number of rows and the number of columns of `df`."
   ]
  },
  {
   "cell_type": "code",
   "execution_count": 18,
   "metadata": {
    "cell_id": "7563f20db924413990895a42c6d6d67b",
    "deepnote_cell_type": "code",
    "deepnote_to_be_reexecuted": false,
    "execution_millis": 6,
    "execution_start": 1663954717768,
    "source_hash": "f78ab785",
    "tags": []
   },
   "outputs": [
    {
     "data": {
      "text/plain": [
       "(6445, 18)"
      ]
     },
     "execution_count": 18,
     "metadata": {},
     "output_type": "execute_result"
    }
   ],
   "source": [
    "# attribute, not a method\n",
    "df.shape"
   ]
  },
  {
   "cell_type": "markdown",
   "metadata": {
    "cell_id": "6e94510919d7434b812bce5efbc19f48",
    "deepnote_cell_type": "markdown",
    "tags": []
   },
   "source": [
    "The value corresponding to `df.shape` is what is called a *tuple*.  At first glance, tuples are very similar to lists (which showed up in Worksheet 0).  We will discuss some differences later."
   ]
  },
  {
   "cell_type": "code",
   "execution_count": 19,
   "metadata": {
    "cell_id": "91a7709db03747b8a7f22c6a35912c58",
    "deepnote_cell_type": "code",
    "deepnote_to_be_reexecuted": false,
    "execution_millis": 288,
    "execution_start": 1663954752762,
    "source_hash": "14f497ec",
    "tags": []
   },
   "outputs": [
    {
     "data": {
      "text/plain": [
       "tuple"
      ]
     },
     "execution_count": 19,
     "metadata": {},
     "output_type": "execute_result"
    }
   ],
   "source": [
    "type(df.shape)"
   ]
  },
  {
   "cell_type": "markdown",
   "metadata": {
    "cell_id": "b0d376c078a141f9bd2385f8766645f7",
    "deepnote_cell_type": "markdown",
    "tags": []
   },
   "source": [
    "Here is another very useful attribute of a DataFrame, the `columns` attribute.  This tells us all the different column names.  (I'm being careful to not say it's a list of the column names, because it is not a list, nor is it a tuple...)"
   ]
  },
  {
   "cell_type": "code",
   "execution_count": 20,
   "metadata": {
    "cell_id": "49003710ad7e44519f3f38eef58f0876",
    "deepnote_cell_type": "code",
    "deepnote_to_be_reexecuted": false,
    "execution_millis": 11,
    "execution_start": 1663954781010,
    "source_hash": "25d43fa0",
    "tags": []
   },
   "outputs": [
    {
     "data": {
      "text/plain": [
       "Index(['Status', 'Device ID', 'Location', 'Machine', 'Product', 'Category',\n",
       "       'Transaction', 'TransDate', 'Type', 'RCoil', 'RPrice', 'RQty', 'MCoil',\n",
       "       'MPrice', 'MQty', 'LineTotal', 'TransTotal', 'Prcd Date'],\n",
       "      dtype='object')"
      ]
     },
     "execution_count": 20,
     "metadata": {},
     "output_type": "execute_result"
    }
   ],
   "source": [
    "df.columns"
   ]
  },
  {
   "cell_type": "markdown",
   "metadata": {
    "cell_id": "f8eb5e5e3e0a49489b50158b64173c1f",
    "deepnote_cell_type": "markdown",
    "tags": []
   },
   "source": [
    "To access a specific column from a pandas DataFrame, we can use the following syntax."
   ]
  },
  {
   "cell_type": "code",
   "execution_count": 21,
   "metadata": {
    "cell_id": "8c3ca9f1605647b8aaadca837470c543",
    "deepnote_cell_type": "code",
    "deepnote_to_be_reexecuted": false,
    "execution_millis": 16,
    "execution_start": 1663954878738,
    "source_hash": "b2edacc5",
    "tags": []
   },
   "outputs": [
    {
     "data": {
      "text/plain": [
       "0       3.5\n",
       "1       3.5\n",
       "2       1.5\n",
       "3       1.5\n",
       "4       3.5\n",
       "       ... \n",
       "6440    2.0\n",
       "6441    2.0\n",
       "6442    2.0\n",
       "6443    2.5\n",
       "6444    1.5\n",
       "Name: RPrice, Length: 6445, dtype: float64"
      ]
     },
     "execution_count": 21,
     "metadata": {},
     "output_type": "execute_result"
    }
   ],
   "source": [
    "df[\"RPrice\"]"
   ]
  },
  {
   "cell_type": "markdown",
   "metadata": {
    "cell_id": "675ce14d962740b6b0555276e20b9900",
    "deepnote_cell_type": "markdown",
    "tags": []
   },
   "source": [
    "Columns in pandas DataFrames are represented by the type Series.  The two most important data types in pandas are DataFrames and Series."
   ]
  },
  {
   "cell_type": "code",
   "execution_count": 22,
   "metadata": {
    "cell_id": "80076e59e6184f62b6d9c10d98e8b220",
    "deepnote_cell_type": "code",
    "deepnote_to_be_reexecuted": false,
    "execution_millis": 3,
    "execution_start": 1663954956481,
    "source_hash": "68434099",
    "tags": []
   },
   "outputs": [
    {
     "data": {
      "text/plain": [
       "pandas.core.series.Series"
      ]
     },
     "execution_count": 22,
     "metadata": {},
     "output_type": "execute_result"
    }
   ],
   "source": [
    "type(df[\"RPrice\"])"
   ]
  },
  {
   "cell_type": "markdown",
   "metadata": {
    "cell_id": "1de4f73867fd4be6842a5bfa2b3a407e",
    "deepnote_cell_type": "markdown",
    "tags": []
   },
   "source": [
    "Indexing in Python starts at 0, so if we want to get the first element of something, like a pandas Series, I will usually call it the \"zeroth\" element instead of the \"first\" element.  This syntax looks a little strange at first, but to get the zeroth element in the pandas Series `df[\"RPrice\"]`, we use `.iloc[0]`."
   ]
  },
  {
   "cell_type": "code",
   "execution_count": 23,
   "metadata": {
    "cell_id": "58a58f73d06a489bbecacf196013c1d5",
    "deepnote_cell_type": "code",
    "deepnote_to_be_reexecuted": false,
    "execution_millis": 7,
    "execution_start": 1663955061541,
    "source_hash": "fb4e4a1b",
    "tags": []
   },
   "outputs": [
    {
     "data": {
      "text/plain": [
       "3.5"
      ]
     },
     "execution_count": 23,
     "metadata": {},
     "output_type": "execute_result"
    }
   ],
   "source": [
    "df[\"RPrice\"].iloc[0]"
   ]
  },
  {
   "cell_type": "markdown",
   "metadata": {
    "cell_id": "8d3f470ff9f34b4c9162c71fbd713dd6",
    "deepnote_cell_type": "markdown",
    "tags": []
   },
   "source": [
    "The type of this value is given as `numpy.float64`.  NumPy is another Python library (like pandas), and because NumPy is a dependency of pandas, any system where pandas works should also have NumPy installed.  This data type is defined in NumPy.  The \"float\" in `numpy.float64` is telling us that these are decimals (as opposed to integers).  The \"64\" is specifying how much space the numbers take up; the \"64\" won't be very important for us in Math 10.\n",
    "\n",
    "The following code is longer than what we were writing above.  If it doesn't make sense, try to break it up into separate pieces.  In this case, to understand the full code, you should first understand `df[\"RPrice\"]`, then you should understand `df[\"RPrice\"].iloc[0]`, and once you understand that, the full code should make sense, `type(df[\"RPrice\"].iloc[0])`."
   ]
  },
  {
   "cell_type": "code",
   "execution_count": 24,
   "metadata": {
    "cell_id": "8fc3e525887040048685a78c68718ecf",
    "deepnote_cell_type": "code",
    "deepnote_to_be_reexecuted": false,
    "execution_millis": 31,
    "execution_start": 1663955105402,
    "source_hash": "242e3ba2",
    "tags": []
   },
   "outputs": [
    {
     "data": {
      "text/plain": [
       "numpy.float64"
      ]
     },
     "execution_count": 24,
     "metadata": {},
     "output_type": "execute_result"
    }
   ],
   "source": [
    "type(df[\"RPrice\"].iloc[0])"
   ]
  },
  {
   "cell_type": "markdown",
   "metadata": {
    "cell_id": "6a5497a40e88471c9092ed2d61da2d7e",
    "deepnote_cell_type": "markdown",
    "tags": []
   },
   "source": [
    "The list of attributes and methods of a pandas Series is quite a bit longer than the list for strings that we saw above."
   ]
  },
  {
   "cell_type": "code",
   "execution_count": 25,
   "metadata": {
    "cell_id": "25ba987d71e244aa93389375e22b12c9",
    "deepnote_cell_type": "code",
    "deepnote_to_be_reexecuted": false,
    "execution_millis": 8,
    "execution_start": 1663955194894,
    "source_hash": "231946d9",
    "tags": [
     "output_scroll"
    ]
   },
   "outputs": [
    {
     "data": {
      "text/plain": [
       "['T',\n",
       " '_AXIS_LEN',\n",
       " '_AXIS_ORDERS',\n",
       " '_AXIS_REVERSED',\n",
       " '_AXIS_TO_AXIS_NUMBER',\n",
       " '_HANDLED_TYPES',\n",
       " '__abs__',\n",
       " '__add__',\n",
       " '__and__',\n",
       " '__annotations__',\n",
       " '__array__',\n",
       " '__array_priority__',\n",
       " '__array_ufunc__',\n",
       " '__array_wrap__',\n",
       " '__bool__',\n",
       " '__class__',\n",
       " '__contains__',\n",
       " '__copy__',\n",
       " '__deepcopy__',\n",
       " '__delattr__',\n",
       " '__delitem__',\n",
       " '__dict__',\n",
       " '__dir__',\n",
       " '__divmod__',\n",
       " '__doc__',\n",
       " '__eq__',\n",
       " '__finalize__',\n",
       " '__float__',\n",
       " '__floordiv__',\n",
       " '__format__',\n",
       " '__ge__',\n",
       " '__getattr__',\n",
       " '__getattribute__',\n",
       " '__getitem__',\n",
       " '__getstate__',\n",
       " '__gt__',\n",
       " '__hash__',\n",
       " '__iadd__',\n",
       " '__iand__',\n",
       " '__ifloordiv__',\n",
       " '__imod__',\n",
       " '__imul__',\n",
       " '__init__',\n",
       " '__init_subclass__',\n",
       " '__int__',\n",
       " '__invert__',\n",
       " '__ior__',\n",
       " '__ipow__',\n",
       " '__isub__',\n",
       " '__iter__',\n",
       " '__itruediv__',\n",
       " '__ixor__',\n",
       " '__le__',\n",
       " '__len__',\n",
       " '__long__',\n",
       " '__lt__',\n",
       " '__matmul__',\n",
       " '__mod__',\n",
       " '__module__',\n",
       " '__mul__',\n",
       " '__ne__',\n",
       " '__neg__',\n",
       " '__new__',\n",
       " '__nonzero__',\n",
       " '__or__',\n",
       " '__pos__',\n",
       " '__pow__',\n",
       " '__radd__',\n",
       " '__rand__',\n",
       " '__rdivmod__',\n",
       " '__reduce__',\n",
       " '__reduce_ex__',\n",
       " '__repr__',\n",
       " '__rfloordiv__',\n",
       " '__rmatmul__',\n",
       " '__rmod__',\n",
       " '__rmul__',\n",
       " '__ror__',\n",
       " '__round__',\n",
       " '__rpow__',\n",
       " '__rsub__',\n",
       " '__rtruediv__',\n",
       " '__rxor__',\n",
       " '__setattr__',\n",
       " '__setitem__',\n",
       " '__setstate__',\n",
       " '__sizeof__',\n",
       " '__str__',\n",
       " '__sub__',\n",
       " '__subclasshook__',\n",
       " '__truediv__',\n",
       " '__weakref__',\n",
       " '__xor__',\n",
       " '_accessors',\n",
       " '_accum_func',\n",
       " '_add_numeric_operations',\n",
       " '_agg_by_level',\n",
       " '_agg_examples_doc',\n",
       " '_agg_see_also_doc',\n",
       " '_align_frame',\n",
       " '_align_series',\n",
       " '_arith_method',\n",
       " '_attrs',\n",
       " '_binop',\n",
       " '_builtin_table',\n",
       " '_cacher',\n",
       " '_can_hold_na',\n",
       " '_check_inplace_and_allows_duplicate_labels',\n",
       " '_check_inplace_setting',\n",
       " '_check_is_chained_assignment_possible',\n",
       " '_check_label_or_level_ambiguity',\n",
       " '_check_setitem_copy',\n",
       " '_clear_item_cache',\n",
       " '_clip_with_one_bound',\n",
       " '_clip_with_scalar',\n",
       " '_cmp_method',\n",
       " '_consolidate',\n",
       " '_consolidate_inplace',\n",
       " '_construct_axes_dict',\n",
       " '_construct_axes_from_arguments',\n",
       " '_construct_result',\n",
       " '_constructor',\n",
       " '_constructor_expanddim',\n",
       " '_constructor_sliced',\n",
       " '_convert',\n",
       " '_convert_dtypes',\n",
       " '_cython_table',\n",
       " '_data',\n",
       " '_dir_additions',\n",
       " '_dir_deletions',\n",
       " '_drop_axis',\n",
       " '_drop_labels_or_levels',\n",
       " '_find_valid_index',\n",
       " '_flags',\n",
       " '_get_axis',\n",
       " '_get_axis_name',\n",
       " '_get_axis_number',\n",
       " '_get_axis_resolvers',\n",
       " '_get_block_manager_axis',\n",
       " '_get_bool_data',\n",
       " '_get_cacher',\n",
       " '_get_cleaned_column_resolvers',\n",
       " '_get_cython_func',\n",
       " '_get_index_resolvers',\n",
       " '_get_item_cache',\n",
       " '_get_label_or_level_values',\n",
       " '_get_numeric_data',\n",
       " '_get_value',\n",
       " '_get_values',\n",
       " '_get_values_tuple',\n",
       " '_get_with',\n",
       " '_gotitem',\n",
       " '_hidden_attrs',\n",
       " '_index',\n",
       " '_indexed_same',\n",
       " '_info_axis',\n",
       " '_info_axis_name',\n",
       " '_info_axis_number',\n",
       " '_init_dict',\n",
       " '_init_mgr',\n",
       " '_inplace_method',\n",
       " '_internal_names',\n",
       " '_internal_names_set',\n",
       " '_is_builtin_func',\n",
       " '_is_cached',\n",
       " '_is_copy',\n",
       " '_is_label_or_level_reference',\n",
       " '_is_label_reference',\n",
       " '_is_level_reference',\n",
       " '_is_mixed_type',\n",
       " '_is_view',\n",
       " '_iset_item',\n",
       " '_item_cache',\n",
       " '_ix',\n",
       " '_ixs',\n",
       " '_logical_func',\n",
       " '_logical_method',\n",
       " '_map_values',\n",
       " '_maybe_cache_changed',\n",
       " '_maybe_update_cacher',\n",
       " '_metadata',\n",
       " '_mgr',\n",
       " '_min_count_stat_function',\n",
       " '_name',\n",
       " '_needs_reindex_multi',\n",
       " '_obj_with_exclusions',\n",
       " '_protect_consolidate',\n",
       " '_reduce',\n",
       " '_reindex_axes',\n",
       " '_reindex_indexer',\n",
       " '_reindex_multi',\n",
       " '_reindex_with_indexers',\n",
       " '_replace_single',\n",
       " '_repr_data_resource_',\n",
       " '_repr_latex_',\n",
       " '_reset_cache',\n",
       " '_reset_cacher',\n",
       " '_selected_obj',\n",
       " '_selection',\n",
       " '_selection_list',\n",
       " '_selection_name',\n",
       " '_set_as_cached',\n",
       " '_set_axis',\n",
       " '_set_axis_name',\n",
       " '_set_axis_nocheck',\n",
       " '_set_is_copy',\n",
       " '_set_item',\n",
       " '_set_labels',\n",
       " '_set_name',\n",
       " '_set_value',\n",
       " '_set_values',\n",
       " '_set_with',\n",
       " '_set_with_engine',\n",
       " '_slice',\n",
       " '_stat_axis',\n",
       " '_stat_axis_name',\n",
       " '_stat_axis_number',\n",
       " '_stat_function',\n",
       " '_stat_function_ddof',\n",
       " '_take_with_is_copy',\n",
       " '_to_dict_of_blocks',\n",
       " '_try_aggregate_string_function',\n",
       " '_typ',\n",
       " '_update_inplace',\n",
       " '_validate_dtype',\n",
       " '_values',\n",
       " '_where',\n",
       " 'abs',\n",
       " 'add',\n",
       " 'add_prefix',\n",
       " 'add_suffix',\n",
       " 'agg',\n",
       " 'aggregate',\n",
       " 'align',\n",
       " 'all',\n",
       " 'any',\n",
       " 'append',\n",
       " 'apply',\n",
       " 'argmax',\n",
       " 'argmin',\n",
       " 'argsort',\n",
       " 'array',\n",
       " 'asfreq',\n",
       " 'asof',\n",
       " 'astype',\n",
       " 'at',\n",
       " 'at_time',\n",
       " 'attrs',\n",
       " 'autocorr',\n",
       " 'axes',\n",
       " 'backfill',\n",
       " 'between',\n",
       " 'between_time',\n",
       " 'bfill',\n",
       " 'bool',\n",
       " 'clip',\n",
       " 'combine',\n",
       " 'combine_first',\n",
       " 'compare',\n",
       " 'convert_dtypes',\n",
       " 'copy',\n",
       " 'corr',\n",
       " 'count',\n",
       " 'cov',\n",
       " 'cummax',\n",
       " 'cummin',\n",
       " 'cumprod',\n",
       " 'cumsum',\n",
       " 'describe',\n",
       " 'diff',\n",
       " 'div',\n",
       " 'divide',\n",
       " 'divmod',\n",
       " 'dot',\n",
       " 'drop',\n",
       " 'drop_duplicates',\n",
       " 'droplevel',\n",
       " 'dropna',\n",
       " 'dtype',\n",
       " 'dtypes',\n",
       " 'duplicated',\n",
       " 'empty',\n",
       " 'eq',\n",
       " 'equals',\n",
       " 'ewm',\n",
       " 'expanding',\n",
       " 'explode',\n",
       " 'factorize',\n",
       " 'ffill',\n",
       " 'fillna',\n",
       " 'filter',\n",
       " 'first',\n",
       " 'first_valid_index',\n",
       " 'flags',\n",
       " 'floordiv',\n",
       " 'ge',\n",
       " 'get',\n",
       " 'groupby',\n",
       " 'gt',\n",
       " 'hasnans',\n",
       " 'head',\n",
       " 'hist',\n",
       " 'iat',\n",
       " 'idxmax',\n",
       " 'idxmin',\n",
       " 'iloc',\n",
       " 'index',\n",
       " 'infer_objects',\n",
       " 'interpolate',\n",
       " 'is_monotonic',\n",
       " 'is_monotonic_decreasing',\n",
       " 'is_monotonic_increasing',\n",
       " 'is_unique',\n",
       " 'isin',\n",
       " 'isna',\n",
       " 'isnull',\n",
       " 'item',\n",
       " 'items',\n",
       " 'iteritems',\n",
       " 'keys',\n",
       " 'kurt',\n",
       " 'kurtosis',\n",
       " 'last',\n",
       " 'last_valid_index',\n",
       " 'le',\n",
       " 'loc',\n",
       " 'lt',\n",
       " 'mad',\n",
       " 'map',\n",
       " 'mask',\n",
       " 'max',\n",
       " 'mean',\n",
       " 'median',\n",
       " 'memory_usage',\n",
       " 'min',\n",
       " 'mod',\n",
       " 'mode',\n",
       " 'mul',\n",
       " 'multiply',\n",
       " 'name',\n",
       " 'nbytes',\n",
       " 'ndim',\n",
       " 'ne',\n",
       " 'nlargest',\n",
       " 'notna',\n",
       " 'notnull',\n",
       " 'nsmallest',\n",
       " 'nunique',\n",
       " 'pad',\n",
       " 'pct_change',\n",
       " 'pipe',\n",
       " 'plot',\n",
       " 'pop',\n",
       " 'pow',\n",
       " 'prod',\n",
       " 'product',\n",
       " 'quantile',\n",
       " 'radd',\n",
       " 'rank',\n",
       " 'ravel',\n",
       " 'rdiv',\n",
       " 'rdivmod',\n",
       " 'reindex',\n",
       " 'reindex_like',\n",
       " 'rename',\n",
       " 'rename_axis',\n",
       " 'reorder_levels',\n",
       " 'repeat',\n",
       " 'replace',\n",
       " 'resample',\n",
       " 'reset_index',\n",
       " 'rfloordiv',\n",
       " 'rmod',\n",
       " 'rmul',\n",
       " 'rolling',\n",
       " 'round',\n",
       " 'rpow',\n",
       " 'rsub',\n",
       " 'rtruediv',\n",
       " 'sample',\n",
       " 'searchsorted',\n",
       " 'sem',\n",
       " 'set_axis',\n",
       " 'set_flags',\n",
       " 'shape',\n",
       " 'shift',\n",
       " 'size',\n",
       " 'skew',\n",
       " 'slice_shift',\n",
       " 'sort_index',\n",
       " 'sort_values',\n",
       " 'squeeze',\n",
       " 'std',\n",
       " 'sub',\n",
       " 'subtract',\n",
       " 'sum',\n",
       " 'swapaxes',\n",
       " 'swaplevel',\n",
       " 'tail',\n",
       " 'take',\n",
       " 'to_clipboard',\n",
       " 'to_csv',\n",
       " 'to_dict',\n",
       " 'to_excel',\n",
       " 'to_frame',\n",
       " 'to_hdf',\n",
       " 'to_json',\n",
       " 'to_latex',\n",
       " 'to_list',\n",
       " 'to_markdown',\n",
       " 'to_numpy',\n",
       " 'to_period',\n",
       " 'to_pickle',\n",
       " 'to_sql',\n",
       " 'to_string',\n",
       " 'to_timestamp',\n",
       " 'to_xarray',\n",
       " 'transform',\n",
       " 'transpose',\n",
       " 'truediv',\n",
       " 'truncate',\n",
       " 'tz_convert',\n",
       " 'tz_localize',\n",
       " 'unique',\n",
       " 'unstack',\n",
       " 'update',\n",
       " 'value_counts',\n",
       " 'values',\n",
       " 'var',\n",
       " 'view',\n",
       " 'where',\n",
       " 'xs']"
      ]
     },
     "execution_count": 25,
     "metadata": {},
     "output_type": "execute_result"
    }
   ],
   "source": [
    "dir(df[\"RPrice\"])"
   ]
  },
  {
   "cell_type": "markdown",
   "metadata": {
    "cell_id": "0a2f8ced1a064b6292d6fb18ab4b46e8",
    "deepnote_cell_type": "markdown",
    "tags": []
   },
   "source": [
    "Notice that there is a `dtype` attribute.  That gives us easier access to the data type of the contents of the pandas Series."
   ]
  },
  {
   "cell_type": "code",
   "execution_count": 26,
   "metadata": {
    "cell_id": "5e05926aabef43d2a12cb65b89e91b49",
    "deepnote_cell_type": "code",
    "deepnote_to_be_reexecuted": false,
    "execution_millis": 7,
    "execution_start": 1663955219958,
    "source_hash": "6130677c",
    "tags": []
   },
   "outputs": [
    {
     "data": {
      "text/plain": [
       "dtype('float64')"
      ]
     },
     "execution_count": 26,
     "metadata": {},
     "output_type": "execute_result"
    }
   ],
   "source": [
    "df[\"RPrice\"].dtype"
   ]
  },
  {
   "cell_type": "markdown",
   "metadata": {
    "created_in_deepnote_cell": true,
    "deepnote_cell_type": "markdown",
    "tags": []
   },
   "source": [
    "<a style='text-decoration:none;line-height:16px;display:flex;color:#5B5B62;padding:10px;justify-content:end;' href='https://deepnote.com?utm_source=created-in-deepnote-cell&projectId=05525cbf-df08-4927-98e9-518b8fa61854' target=\"_blank\">\n",
    "<img alt='Created in deepnote.com' style='display:inline;max-height:16px;margin:0px;margin-right:7.5px;' src='data:image/svg+xml;base64,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' > </img>\n",
    "Created in <span style='font-weight:600;margin-left:4px;'>Deepnote</span></a>"
   ]
  }
 ],
 "metadata": {
  "deepnote": {},
  "deepnote_execution_queue": [],
  "deepnote_notebook_id": "f0a955420a54497e8961cc2273a1998e",
  "kernelspec": {
   "display_name": "Python 3 (ipykernel)",
   "language": "python",
   "name": "python3"
  },
  "language_info": {
   "codemirror_mode": {
    "name": "ipython",
    "version": 3
   },
   "file_extension": ".py",
   "mimetype": "text/x-python",
   "name": "python",
   "nbconvert_exporter": "python",
   "pygments_lexer": "ipython3",
   "version": "3.9.13"
  }
 },
 "nbformat": 4,
 "nbformat_minor": 4
}
