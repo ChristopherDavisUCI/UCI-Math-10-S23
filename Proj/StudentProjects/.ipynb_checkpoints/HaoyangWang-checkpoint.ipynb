{
 "cells": [
  {
   "cell_type": "markdown",
   "metadata": {
    "cell_id": "3f1e767a1b3f4f609d4c763340e92f21",
    "deepnote_cell_type": "markdown",
    "tags": []
   },
   "source": [
    "# The analysis of relations between the total covid-affected population and other datas\n",
    "\n",
    "Author: Haoyang Wang\n",
    "\n",
    "Course Project, UC Irvine, Math 10, F22"
   ]
  },
  {
   "cell_type": "markdown",
   "metadata": {
    "cell_id": "5cb3e0c050d24dc6a8f0f8c7e0928e8d",
    "deepnote_cell_type": "markdown",
    "tags": []
   },
   "source": [
    "## Introduction\n",
    "\n",
    "During the pandemic, millions of people get affected by covid-19. This project is for finding the relationship between how many people were affected in total (Total Cases) and other datas (Population, pcr-Test etc.). The project used pandas, altair, seaborn, and machine learning tools in finding the relation."
   ]
  },
  {
   "cell_type": "markdown",
   "metadata": {
    "cell_id": "09c334fc323d4cc8a2cbaedc45542b04",
    "deepnote_cell_type": "markdown",
    "tags": []
   },
   "source": [
    "## Explore the datas by using Pandas"
   ]
  },
  {
   "cell_type": "code",
   "execution_count": 1,
   "metadata": {
    "cell_id": "4540e2eaf696411cb4421dca84cfae18",
    "deepnote_cell_type": "code",
    "deepnote_to_be_reexecuted": false,
    "execution_millis": 1357,
    "execution_start": 1670263051155,
    "source_hash": "69897285",
    "tags": []
   },
   "outputs": [],
   "source": [
    "import pandas as pd\n",
    "import numpy as np\n",
    "import altair as alt\n",
    "import seaborn as sns"
   ]
  },
  {
   "cell_type": "markdown",
   "metadata": {
    "cell_id": "4038a54ac576404a98b9df574c98c31d",
    "deepnote_cell_type": "markdown",
    "tags": []
   },
   "source": [
    "First, let's see what the dataset generally looks like."
   ]
  },
  {
   "cell_type": "code",
   "execution_count": 2,
   "metadata": {
    "cell_id": "fef7ddf9c9614a539885516ceef11467",
    "deepnote_cell_type": "code",
    "deepnote_table_invalid": false,
    "deepnote_table_loading": false,
    "deepnote_table_state": {
     "filters": [],
     "pageIndex": 0,
     "pageSize": 10,
     "sortBy": []
    },
    "deepnote_to_be_reexecuted": false,
    "execution_millis": 39,
    "execution_start": 1670263052515,
    "source_hash": "f69c69bc",
    "tags": []
   },
   "outputs": [
    {
     "data": {
      "application/vnd.deepnote.dataframe.v3+json": {
       "column_count": 13,
       "columns": [
        {
         "dtype": "int64",
         "name": "#",
         "stats": {
          "histogram": [
           {
            "bin_end": 1.4,
            "bin_start": 1,
            "count": 1
           },
           {
            "bin_end": 1.8,
            "bin_start": 1.4,
            "count": 0
           },
           {
            "bin_end": 2.2,
            "bin_start": 1.8,
            "count": 1
           },
           {
            "bin_end": 2.6,
            "bin_start": 2.2,
            "count": 0
           },
           {
            "bin_end": 3,
            "bin_start": 2.6,
            "count": 0
           },
           {
            "bin_end": 3.4000000000000004,
            "bin_start": 3,
            "count": 1
           },
           {
            "bin_end": 3.8000000000000003,
            "bin_start": 3.4000000000000004,
            "count": 0
           },
           {
            "bin_end": 4.2,
            "bin_start": 3.8000000000000003,
            "count": 1
           },
           {
            "bin_end": 4.6,
            "bin_start": 4.2,
            "count": 0
           },
           {
            "bin_end": 5,
            "bin_start": 4.6,
            "count": 1
           }
          ],
          "max": "5",
          "min": "1",
          "nan_count": 0,
          "unique_count": 5
         }
        },
        {
         "dtype": "object",
         "name": "Country,\nOther",
         "stats": {
          "categories": [
           {
            "count": 1,
            "name": "USA"
           },
           {
            "count": 1,
            "name": "India"
           },
           {
            "count": 3,
            "name": "3 others"
           }
          ],
          "nan_count": 0,
          "unique_count": 5
         }
        },
        {
         "dtype": "object",
         "name": "Total\nCases",
         "stats": {
          "categories": [
           {
            "count": 1,
            "name": "98,166,904"
           },
           {
            "count": 1,
            "name": "44,587,307"
           },
           {
            "count": 3,
            "name": "3 others"
           }
          ],
          "nan_count": 0,
          "unique_count": 5
         }
        },
        {
         "dtype": "object",
         "name": "Total\nDeaths",
         "stats": {
          "categories": [
           {
            "count": 1,
            "name": "1,084,282"
           },
           {
            "count": 1,
            "name": "528,629"
           },
           {
            "count": 3,
            "name": "3 others"
           }
          ],
          "nan_count": 0,
          "unique_count": 5
         }
        },
        {
         "dtype": "float64",
         "name": "New\nDeaths",
         "stats": {
          "histogram": [
           {
            "bin_end": 0.1,
            "bin_start": 0,
            "count": 0
           },
           {
            "bin_end": 0.2,
            "bin_start": 0.1,
            "count": 0
           },
           {
            "bin_end": 0.30000000000000004,
            "bin_start": 0.2,
            "count": 0
           },
           {
            "bin_end": 0.4,
            "bin_start": 0.30000000000000004,
            "count": 0
           },
           {
            "bin_end": 0.5,
            "bin_start": 0.4,
            "count": 0
           },
           {
            "bin_end": 0.6000000000000001,
            "bin_start": 0.5,
            "count": 0
           },
           {
            "bin_end": 0.7000000000000001,
            "bin_start": 0.6000000000000001,
            "count": 0
           },
           {
            "bin_end": 0.8,
            "bin_start": 0.7000000000000001,
            "count": 0
           },
           {
            "bin_end": 0.9,
            "bin_start": 0.8,
            "count": 0
           },
           {
            "bin_end": 1,
            "bin_start": 0.9,
            "count": 0
           }
          ],
          "max": null,
          "min": null,
          "nan_count": 5,
          "unique_count": 0
         }
        },
        {
         "dtype": "object",
         "name": "Total\nRecovered",
         "stats": {
          "categories": [
           {
            "count": 1,
            "name": "94,962,112"
           },
           {
            "count": 1,
            "name": "44,019,095"
           },
           {
            "count": 3,
            "name": "3 others"
           }
          ],
          "nan_count": 0,
          "unique_count": 5
         }
        },
        {
         "dtype": "object",
         "name": "Active\nCases",
         "stats": {
          "categories": [
           {
            "count": 1,
            "name": "2,120,510"
           },
           {
            "count": 1,
            "name": "39,583"
           },
           {
            "count": 3,
            "name": "3 others"
           }
          ],
          "nan_count": 0,
          "unique_count": 5
         }
        },
        {
         "dtype": "object",
         "name": "Serious,\nCritical",
         "stats": {
          "categories": [
           {
            "count": 1,
            "name": "2,970"
           },
           {
            "count": 1,
            "name": "698"
           },
           {
            "count": 3,
            "name": "3 others"
           }
          ],
          "nan_count": 0,
          "unique_count": 5
         }
        },
        {
         "dtype": "object",
         "name": "Tot Cases/\n1M pop",
         "stats": {
          "categories": [
           {
            "count": 1,
            "name": "293,206"
           },
           {
            "count": 1,
            "name": "31,698"
           },
           {
            "count": 3,
            "name": "3 others"
           }
          ],
          "nan_count": 0,
          "unique_count": 5
         }
        },
        {
         "dtype": "object",
         "name": "Deaths/\n1M pop",
         "stats": {
          "categories": [
           {
            "count": 1,
            "name": "3,239"
           },
           {
            "count": 1,
            "name": "376"
           },
           {
            "count": 3,
            "name": "3 others"
           }
          ],
          "nan_count": 0,
          "unique_count": 5
         }
        },
        {
         "dtype": "object",
         "name": "Total\nTests",
         "stats": {
          "categories": [
           {
            "count": 1,
            "name": "1,118,158,870"
           },
           {
            "count": 1,
            "name": "894,416,853"
           },
           {
            "count": 3,
            "name": "3 others"
           }
          ],
          "nan_count": 0,
          "unique_count": 5
         }
        },
        {
         "dtype": "object",
         "name": "Tests/\n1M pop",
         "stats": {
          "categories": [
           {
            "count": 1,
            "name": "3,339,729"
           },
           {
            "count": 1,
            "name": "635,857"
           },
           {
            "count": 3,
            "name": "3 others"
           }
          ],
          "nan_count": 0,
          "unique_count": 5
         }
        },
        {
         "dtype": "object",
         "name": "Population",
         "stats": {
          "categories": [
           {
            "count": 1,
            "name": "334,805,269"
           },
           {
            "count": 1,
            "name": "1,406,631,776"
           },
           {
            "count": 3,
            "name": "3 others"
           }
          ],
          "nan_count": 0,
          "unique_count": 5
         }
        },
        {
         "dtype": "int64",
         "name": "_deepnote_index_column"
        }
       ],
       "row_count": 5,
       "rows": [
        {
         "#": "1",
         "Active\nCases": "2,120,510",
         "Country,\nOther": "USA",
         "Deaths/\n1M pop": "3,239",
         "New\nDeaths": "nan",
         "Population": "334,805,269",
         "Serious,\nCritical": "2,970",
         "Tests/\n1M pop": "3,339,729",
         "Tot Cases/\n1M pop": "293,206",
         "Total\nCases": "98,166,904",
         "Total\nDeaths": "1,084,282",
         "Total\nRecovered": "94,962,112",
         "Total\nTests": "1,118,158,870",
         "_deepnote_index_column": "0"
        },
        {
         "#": "2",
         "Active\nCases": "39,583",
         "Country,\nOther": "India",
         "Deaths/\n1M pop": "376",
         "New\nDeaths": "nan",
         "Population": "1,406,631,776",
         "Serious,\nCritical": "698",
         "Tests/\n1M pop": "635,857",
         "Tot Cases/\n1M pop": "31,698",
         "Total\nCases": "44,587,307",
         "Total\nDeaths": "528,629",
         "Total\nRecovered": "44,019,095",
         "Total\nTests": "894,416,853",
         "_deepnote_index_column": "1"
        },
        {
         "#": "3",
         "Active\nCases": "660,757",
         "Country,\nOther": "France",
         "Deaths/\n1M pop": "2,365",
         "New\nDeaths": "nan",
         "Population": "65,584,518",
         "Serious,\nCritical": "869",
         "Tests/\n1M pop": "4,139,547",
         "Tot Cases/\n1M pop": "538,892",
         "Total\nCases": "35,342,950",
         "Total\nDeaths": "155,078",
         "Total\nRecovered": "34,527,115",
         "Total\nTests": "271,490,188",
         "_deepnote_index_column": "2"
        },
        {
         "#": "4",
         "Active\nCases": "182,094",
         "Country,\nOther": "Brazil",
         "Deaths/\n1M pop": "3,186",
         "New\nDeaths": "nan",
         "Population": "215,353,593",
         "Serious,\nCritical": "8,318",
         "Tests/\n1M pop": "296,146",
         "Tot Cases/\n1M pop": "161,162",
         "Total\nCases": "34,706,757",
         "Total\nDeaths": "686,027",
         "Total\nRecovered": "33,838,636",
         "Total\nTests": "63,776,166",
         "_deepnote_index_column": "3"
        },
        {
         "#": "5",
         "Active\nCases": "847,225",
         "Country,\nOther": "Germany",
         "Deaths/\n1M pop": "1,788",
         "New\nDeaths": "nan",
         "Population": "83,883,596",
         "Serious,\nCritical": "1,406",
         "Tests/\n1M pop": "1,458,359",
         "Tot Cases/\n1M pop": "397,126",
         "Total\nCases": "33,312,373",
         "Total\nDeaths": "149,948",
         "Total\nRecovered": "32,315,200",
         "Total\nTests": "122,332,384",
         "_deepnote_index_column": "4"
        }
       ]
      },
      "text/html": [
       "<div>\n",
       "<style scoped>\n",
       "    .dataframe tbody tr th:only-of-type {\n",
       "        vertical-align: middle;\n",
       "    }\n",
       "\n",
       "    .dataframe tbody tr th {\n",
       "        vertical-align: top;\n",
       "    }\n",
       "\n",
       "    .dataframe thead th {\n",
       "        text-align: right;\n",
       "    }\n",
       "</style>\n",
       "<table border=\"1\" class=\"dataframe\">\n",
       "  <thead>\n",
       "    <tr style=\"text-align: right;\">\n",
       "      <th></th>\n",
       "      <th>#</th>\n",
       "      <th>Country,\\nOther</th>\n",
       "      <th>Total\\nCases</th>\n",
       "      <th>Total\\nDeaths</th>\n",
       "      <th>New\\nDeaths</th>\n",
       "      <th>Total\\nRecovered</th>\n",
       "      <th>Active\\nCases</th>\n",
       "      <th>Serious,\\nCritical</th>\n",
       "      <th>Tot Cases/\\n1M pop</th>\n",
       "      <th>Deaths/\\n1M pop</th>\n",
       "      <th>Total\\nTests</th>\n",
       "      <th>Tests/\\n1M pop</th>\n",
       "      <th>Population</th>\n",
       "    </tr>\n",
       "  </thead>\n",
       "  <tbody>\n",
       "    <tr>\n",
       "      <th>0</th>\n",
       "      <td>1</td>\n",
       "      <td>USA</td>\n",
       "      <td>98,166,904</td>\n",
       "      <td>1,084,282</td>\n",
       "      <td>NaN</td>\n",
       "      <td>94,962,112</td>\n",
       "      <td>2,120,510</td>\n",
       "      <td>2,970</td>\n",
       "      <td>293,206</td>\n",
       "      <td>3,239</td>\n",
       "      <td>1,118,158,870</td>\n",
       "      <td>3,339,729</td>\n",
       "      <td>334,805,269</td>\n",
       "    </tr>\n",
       "    <tr>\n",
       "      <th>1</th>\n",
       "      <td>2</td>\n",
       "      <td>India</td>\n",
       "      <td>44,587,307</td>\n",
       "      <td>528,629</td>\n",
       "      <td>NaN</td>\n",
       "      <td>44,019,095</td>\n",
       "      <td>39,583</td>\n",
       "      <td>698</td>\n",
       "      <td>31,698</td>\n",
       "      <td>376</td>\n",
       "      <td>894,416,853</td>\n",
       "      <td>635,857</td>\n",
       "      <td>1,406,631,776</td>\n",
       "    </tr>\n",
       "    <tr>\n",
       "      <th>2</th>\n",
       "      <td>3</td>\n",
       "      <td>France</td>\n",
       "      <td>35,342,950</td>\n",
       "      <td>155,078</td>\n",
       "      <td>NaN</td>\n",
       "      <td>34,527,115</td>\n",
       "      <td>660,757</td>\n",
       "      <td>869</td>\n",
       "      <td>538,892</td>\n",
       "      <td>2,365</td>\n",
       "      <td>271,490,188</td>\n",
       "      <td>4,139,547</td>\n",
       "      <td>65,584,518</td>\n",
       "    </tr>\n",
       "    <tr>\n",
       "      <th>3</th>\n",
       "      <td>4</td>\n",
       "      <td>Brazil</td>\n",
       "      <td>34,706,757</td>\n",
       "      <td>686,027</td>\n",
       "      <td>NaN</td>\n",
       "      <td>33,838,636</td>\n",
       "      <td>182,094</td>\n",
       "      <td>8,318</td>\n",
       "      <td>161,162</td>\n",
       "      <td>3,186</td>\n",
       "      <td>63,776,166</td>\n",
       "      <td>296,146</td>\n",
       "      <td>215,353,593</td>\n",
       "    </tr>\n",
       "    <tr>\n",
       "      <th>4</th>\n",
       "      <td>5</td>\n",
       "      <td>Germany</td>\n",
       "      <td>33,312,373</td>\n",
       "      <td>149,948</td>\n",
       "      <td>NaN</td>\n",
       "      <td>32,315,200</td>\n",
       "      <td>847,225</td>\n",
       "      <td>1,406</td>\n",
       "      <td>397,126</td>\n",
       "      <td>1,788</td>\n",
       "      <td>122,332,384</td>\n",
       "      <td>1,458,359</td>\n",
       "      <td>83,883,596</td>\n",
       "    </tr>\n",
       "  </tbody>\n",
       "</table>\n",
       "</div>"
      ],
      "text/plain": [
       "   # Country,\\nOther Total\\nCases Total\\nDeaths  New\\nDeaths Total\\nRecovered  \\\n",
       "0  1             USA   98,166,904     1,084,282          NaN       94,962,112   \n",
       "1  2           India   44,587,307       528,629          NaN       44,019,095   \n",
       "2  3          France   35,342,950       155,078          NaN       34,527,115   \n",
       "3  4          Brazil   34,706,757       686,027          NaN       33,838,636   \n",
       "4  5         Germany   33,312,373       149,948          NaN       32,315,200   \n",
       "\n",
       "  Active\\nCases Serious,\\nCritical Tot Cases/\\n1M pop Deaths/\\n1M pop  \\\n",
       "0     2,120,510              2,970            293,206           3,239   \n",
       "1        39,583                698             31,698             376   \n",
       "2       660,757                869            538,892           2,365   \n",
       "3       182,094              8,318            161,162           3,186   \n",
       "4       847,225              1,406            397,126           1,788   \n",
       "\n",
       "    Total\\nTests Tests/\\n1M pop     Population  \n",
       "0  1,118,158,870      3,339,729    334,805,269  \n",
       "1    894,416,853        635,857  1,406,631,776  \n",
       "2    271,490,188      4,139,547     65,584,518  \n",
       "3     63,776,166        296,146    215,353,593  \n",
       "4    122,332,384      1,458,359     83,883,596  "
      ]
     },
     "execution_count": 2,
     "metadata": {},
     "output_type": "execute_result"
    }
   ],
   "source": [
    "df = pd.read_csv(\"Covid Live.csv\")\n",
    "df.head()"
   ]
  },
  {
   "cell_type": "markdown",
   "metadata": {
    "cell_id": "a9b69b89366643cc8ca29754ac1bb0b2",
    "deepnote_cell_type": "markdown",
    "tags": []
   },
   "source": [
    "I noticed that there are something wrong with the columns‘ names for the dataframe. Therefore, for calling the columns easily, I rename the dataframe."
   ]
  },
  {
   "cell_type": "code",
   "execution_count": 3,
   "metadata": {
    "cell_id": "dde3d12c5148432f95af181bcd04550d",
    "deepnote_cell_type": "code",
    "deepnote_to_be_reexecuted": false,
    "execution_millis": 8,
    "execution_start": 1670263052555,
    "source_hash": "34dc5d75",
    "tags": []
   },
   "outputs": [
    {
     "data": {
      "text/plain": [
       "Index(['#', 'Country,\\nOther', 'Total\\nCases', 'Total\\nDeaths', 'New\\nDeaths',\n",
       "       'Total\\nRecovered', 'Active\\nCases', 'Serious,\\nCritical',\n",
       "       'Tot Cases/\\n1M pop', 'Deaths/\\n1M pop', 'Total\\nTests',\n",
       "       'Tests/\\n1M pop', 'Population'],\n",
       "      dtype='object')"
      ]
     },
     "execution_count": 3,
     "metadata": {},
     "output_type": "execute_result"
    }
   ],
   "source": [
    "# Call columns to make sure store their true name in the dictionary later\n",
    "df.columns"
   ]
  },
  {
   "cell_type": "code",
   "execution_count": 4,
   "metadata": {
    "cell_id": "8dd690538aef4d4ab1a095ee822c8a2d",
    "deepnote_cell_type": "code",
    "deepnote_to_be_reexecuted": false,
    "execution_millis": 1,
    "execution_start": 1670263052564,
    "source_hash": "da0e2287",
    "tags": []
   },
   "outputs": [],
   "source": [
    "# Use the dictionary help me with renaming\n",
    "col_name = {'Country,\\nOther':\"Country\", 'Total\\nCases':\"Total Cases\", 'Total\\nDeaths':\"Total Deaths\", 'New\\nDeaths':\"New Deaths\",\n",
    "       'Total\\nRecovered':\"Total Recovered\", 'Active\\nCases':\"Active Cases\", 'Serious,\\nCritical':\"Serious Criticals\",\n",
    "       'Tot Cases/\\n1M pop':\"Total Cases/m\", 'Deaths/\\n1M pop':\"Deaths/m\", 'Total\\nTests':\"Total Test\",\n",
    "       'Tests/\\n1M pop':\"Tests/m\"}"
   ]
  },
  {
   "cell_type": "code",
   "execution_count": 5,
   "metadata": {
    "cell_id": "53f512321baa49ac8ccbc8bf4a7c7cbb",
    "deepnote_cell_type": "code",
    "deepnote_to_be_reexecuted": false,
    "execution_millis": 31,
    "execution_start": 1670263052567,
    "source_hash": "4a5c97f0",
    "tags": []
   },
   "outputs": [
    {
     "data": {
      "application/vnd.deepnote.dataframe.v3+json": {
       "column_count": 13,
       "columns": [
        {
         "dtype": "int64",
         "name": "#",
         "stats": {
          "histogram": [
           {
            "bin_end": 1.4,
            "bin_start": 1,
            "count": 1
           },
           {
            "bin_end": 1.8,
            "bin_start": 1.4,
            "count": 0
           },
           {
            "bin_end": 2.2,
            "bin_start": 1.8,
            "count": 1
           },
           {
            "bin_end": 2.6,
            "bin_start": 2.2,
            "count": 0
           },
           {
            "bin_end": 3,
            "bin_start": 2.6,
            "count": 0
           },
           {
            "bin_end": 3.4000000000000004,
            "bin_start": 3,
            "count": 1
           },
           {
            "bin_end": 3.8000000000000003,
            "bin_start": 3.4000000000000004,
            "count": 0
           },
           {
            "bin_end": 4.2,
            "bin_start": 3.8000000000000003,
            "count": 1
           },
           {
            "bin_end": 4.6,
            "bin_start": 4.2,
            "count": 0
           },
           {
            "bin_end": 5,
            "bin_start": 4.6,
            "count": 1
           }
          ],
          "max": "5",
          "min": "1",
          "nan_count": 0,
          "unique_count": 5
         }
        },
        {
         "dtype": "object",
         "name": "Country",
         "stats": {
          "categories": [
           {
            "count": 1,
            "name": "USA"
           },
           {
            "count": 1,
            "name": "India"
           },
           {
            "count": 3,
            "name": "3 others"
           }
          ],
          "nan_count": 0,
          "unique_count": 5
         }
        },
        {
         "dtype": "object",
         "name": "Total Cases",
         "stats": {
          "categories": [
           {
            "count": 1,
            "name": "98,166,904"
           },
           {
            "count": 1,
            "name": "44,587,307"
           },
           {
            "count": 3,
            "name": "3 others"
           }
          ],
          "nan_count": 0,
          "unique_count": 5
         }
        },
        {
         "dtype": "object",
         "name": "Total Deaths",
         "stats": {
          "categories": [
           {
            "count": 1,
            "name": "1,084,282"
           },
           {
            "count": 1,
            "name": "528,629"
           },
           {
            "count": 3,
            "name": "3 others"
           }
          ],
          "nan_count": 0,
          "unique_count": 5
         }
        },
        {
         "dtype": "float64",
         "name": "New Deaths",
         "stats": {
          "histogram": [
           {
            "bin_end": 0.1,
            "bin_start": 0,
            "count": 0
           },
           {
            "bin_end": 0.2,
            "bin_start": 0.1,
            "count": 0
           },
           {
            "bin_end": 0.30000000000000004,
            "bin_start": 0.2,
            "count": 0
           },
           {
            "bin_end": 0.4,
            "bin_start": 0.30000000000000004,
            "count": 0
           },
           {
            "bin_end": 0.5,
            "bin_start": 0.4,
            "count": 0
           },
           {
            "bin_end": 0.6000000000000001,
            "bin_start": 0.5,
            "count": 0
           },
           {
            "bin_end": 0.7000000000000001,
            "bin_start": 0.6000000000000001,
            "count": 0
           },
           {
            "bin_end": 0.8,
            "bin_start": 0.7000000000000001,
            "count": 0
           },
           {
            "bin_end": 0.9,
            "bin_start": 0.8,
            "count": 0
           },
           {
            "bin_end": 1,
            "bin_start": 0.9,
            "count": 0
           }
          ],
          "max": null,
          "min": null,
          "nan_count": 5,
          "unique_count": 0
         }
        },
        {
         "dtype": "object",
         "name": "Total Recovered",
         "stats": {
          "categories": [
           {
            "count": 1,
            "name": "94,962,112"
           },
           {
            "count": 1,
            "name": "44,019,095"
           },
           {
            "count": 3,
            "name": "3 others"
           }
          ],
          "nan_count": 0,
          "unique_count": 5
         }
        },
        {
         "dtype": "object",
         "name": "Active Cases",
         "stats": {
          "categories": [
           {
            "count": 1,
            "name": "2,120,510"
           },
           {
            "count": 1,
            "name": "39,583"
           },
           {
            "count": 3,
            "name": "3 others"
           }
          ],
          "nan_count": 0,
          "unique_count": 5
         }
        },
        {
         "dtype": "object",
         "name": "Serious Criticals",
         "stats": {
          "categories": [
           {
            "count": 1,
            "name": "2,970"
           },
           {
            "count": 1,
            "name": "698"
           },
           {
            "count": 3,
            "name": "3 others"
           }
          ],
          "nan_count": 0,
          "unique_count": 5
         }
        },
        {
         "dtype": "object",
         "name": "Total Cases/m",
         "stats": {
          "categories": [
           {
            "count": 1,
            "name": "293,206"
           },
           {
            "count": 1,
            "name": "31,698"
           },
           {
            "count": 3,
            "name": "3 others"
           }
          ],
          "nan_count": 0,
          "unique_count": 5
         }
        },
        {
         "dtype": "object",
         "name": "Deaths/m",
         "stats": {
          "categories": [
           {
            "count": 1,
            "name": "3,239"
           },
           {
            "count": 1,
            "name": "376"
           },
           {
            "count": 3,
            "name": "3 others"
           }
          ],
          "nan_count": 0,
          "unique_count": 5
         }
        },
        {
         "dtype": "object",
         "name": "Total Test",
         "stats": {
          "categories": [
           {
            "count": 1,
            "name": "1,118,158,870"
           },
           {
            "count": 1,
            "name": "894,416,853"
           },
           {
            "count": 3,
            "name": "3 others"
           }
          ],
          "nan_count": 0,
          "unique_count": 5
         }
        },
        {
         "dtype": "object",
         "name": "Tests/m",
         "stats": {
          "categories": [
           {
            "count": 1,
            "name": "3,339,729"
           },
           {
            "count": 1,
            "name": "635,857"
           },
           {
            "count": 3,
            "name": "3 others"
           }
          ],
          "nan_count": 0,
          "unique_count": 5
         }
        },
        {
         "dtype": "object",
         "name": "Population",
         "stats": {
          "categories": [
           {
            "count": 1,
            "name": "334,805,269"
           },
           {
            "count": 1,
            "name": "1,406,631,776"
           },
           {
            "count": 3,
            "name": "3 others"
           }
          ],
          "nan_count": 0,
          "unique_count": 5
         }
        },
        {
         "dtype": "int64",
         "name": "_deepnote_index_column"
        }
       ],
       "row_count": 5,
       "rows": [
        {
         "#": "1",
         "Active Cases": "2,120,510",
         "Country": "USA",
         "Deaths/m": "3,239",
         "New Deaths": "nan",
         "Population": "334,805,269",
         "Serious Criticals": "2,970",
         "Tests/m": "3,339,729",
         "Total Cases": "98,166,904",
         "Total Cases/m": "293,206",
         "Total Deaths": "1,084,282",
         "Total Recovered": "94,962,112",
         "Total Test": "1,118,158,870",
         "_deepnote_index_column": "0"
        },
        {
         "#": "2",
         "Active Cases": "39,583",
         "Country": "India",
         "Deaths/m": "376",
         "New Deaths": "nan",
         "Population": "1,406,631,776",
         "Serious Criticals": "698",
         "Tests/m": "635,857",
         "Total Cases": "44,587,307",
         "Total Cases/m": "31,698",
         "Total Deaths": "528,629",
         "Total Recovered": "44,019,095",
         "Total Test": "894,416,853",
         "_deepnote_index_column": "1"
        },
        {
         "#": "3",
         "Active Cases": "660,757",
         "Country": "France",
         "Deaths/m": "2,365",
         "New Deaths": "nan",
         "Population": "65,584,518",
         "Serious Criticals": "869",
         "Tests/m": "4,139,547",
         "Total Cases": "35,342,950",
         "Total Cases/m": "538,892",
         "Total Deaths": "155,078",
         "Total Recovered": "34,527,115",
         "Total Test": "271,490,188",
         "_deepnote_index_column": "2"
        },
        {
         "#": "4",
         "Active Cases": "182,094",
         "Country": "Brazil",
         "Deaths/m": "3,186",
         "New Deaths": "nan",
         "Population": "215,353,593",
         "Serious Criticals": "8,318",
         "Tests/m": "296,146",
         "Total Cases": "34,706,757",
         "Total Cases/m": "161,162",
         "Total Deaths": "686,027",
         "Total Recovered": "33,838,636",
         "Total Test": "63,776,166",
         "_deepnote_index_column": "3"
        },
        {
         "#": "5",
         "Active Cases": "847,225",
         "Country": "Germany",
         "Deaths/m": "1,788",
         "New Deaths": "nan",
         "Population": "83,883,596",
         "Serious Criticals": "1,406",
         "Tests/m": "1,458,359",
         "Total Cases": "33,312,373",
         "Total Cases/m": "397,126",
         "Total Deaths": "149,948",
         "Total Recovered": "32,315,200",
         "Total Test": "122,332,384",
         "_deepnote_index_column": "4"
        }
       ]
      },
      "text/html": [
       "<div>\n",
       "<style scoped>\n",
       "    .dataframe tbody tr th:only-of-type {\n",
       "        vertical-align: middle;\n",
       "    }\n",
       "\n",
       "    .dataframe tbody tr th {\n",
       "        vertical-align: top;\n",
       "    }\n",
       "\n",
       "    .dataframe thead th {\n",
       "        text-align: right;\n",
       "    }\n",
       "</style>\n",
       "<table border=\"1\" class=\"dataframe\">\n",
       "  <thead>\n",
       "    <tr style=\"text-align: right;\">\n",
       "      <th></th>\n",
       "      <th>#</th>\n",
       "      <th>Country</th>\n",
       "      <th>Total Cases</th>\n",
       "      <th>Total Deaths</th>\n",
       "      <th>New Deaths</th>\n",
       "      <th>Total Recovered</th>\n",
       "      <th>Active Cases</th>\n",
       "      <th>Serious Criticals</th>\n",
       "      <th>Total Cases/m</th>\n",
       "      <th>Deaths/m</th>\n",
       "      <th>Total Test</th>\n",
       "      <th>Tests/m</th>\n",
       "      <th>Population</th>\n",
       "    </tr>\n",
       "  </thead>\n",
       "  <tbody>\n",
       "    <tr>\n",
       "      <th>0</th>\n",
       "      <td>1</td>\n",
       "      <td>USA</td>\n",
       "      <td>98,166,904</td>\n",
       "      <td>1,084,282</td>\n",
       "      <td>NaN</td>\n",
       "      <td>94,962,112</td>\n",
       "      <td>2,120,510</td>\n",
       "      <td>2,970</td>\n",
       "      <td>293,206</td>\n",
       "      <td>3,239</td>\n",
       "      <td>1,118,158,870</td>\n",
       "      <td>3,339,729</td>\n",
       "      <td>334,805,269</td>\n",
       "    </tr>\n",
       "    <tr>\n",
       "      <th>1</th>\n",
       "      <td>2</td>\n",
       "      <td>India</td>\n",
       "      <td>44,587,307</td>\n",
       "      <td>528,629</td>\n",
       "      <td>NaN</td>\n",
       "      <td>44,019,095</td>\n",
       "      <td>39,583</td>\n",
       "      <td>698</td>\n",
       "      <td>31,698</td>\n",
       "      <td>376</td>\n",
       "      <td>894,416,853</td>\n",
       "      <td>635,857</td>\n",
       "      <td>1,406,631,776</td>\n",
       "    </tr>\n",
       "    <tr>\n",
       "      <th>2</th>\n",
       "      <td>3</td>\n",
       "      <td>France</td>\n",
       "      <td>35,342,950</td>\n",
       "      <td>155,078</td>\n",
       "      <td>NaN</td>\n",
       "      <td>34,527,115</td>\n",
       "      <td>660,757</td>\n",
       "      <td>869</td>\n",
       "      <td>538,892</td>\n",
       "      <td>2,365</td>\n",
       "      <td>271,490,188</td>\n",
       "      <td>4,139,547</td>\n",
       "      <td>65,584,518</td>\n",
       "    </tr>\n",
       "    <tr>\n",
       "      <th>3</th>\n",
       "      <td>4</td>\n",
       "      <td>Brazil</td>\n",
       "      <td>34,706,757</td>\n",
       "      <td>686,027</td>\n",
       "      <td>NaN</td>\n",
       "      <td>33,838,636</td>\n",
       "      <td>182,094</td>\n",
       "      <td>8,318</td>\n",
       "      <td>161,162</td>\n",
       "      <td>3,186</td>\n",
       "      <td>63,776,166</td>\n",
       "      <td>296,146</td>\n",
       "      <td>215,353,593</td>\n",
       "    </tr>\n",
       "    <tr>\n",
       "      <th>4</th>\n",
       "      <td>5</td>\n",
       "      <td>Germany</td>\n",
       "      <td>33,312,373</td>\n",
       "      <td>149,948</td>\n",
       "      <td>NaN</td>\n",
       "      <td>32,315,200</td>\n",
       "      <td>847,225</td>\n",
       "      <td>1,406</td>\n",
       "      <td>397,126</td>\n",
       "      <td>1,788</td>\n",
       "      <td>122,332,384</td>\n",
       "      <td>1,458,359</td>\n",
       "      <td>83,883,596</td>\n",
       "    </tr>\n",
       "  </tbody>\n",
       "</table>\n",
       "</div>"
      ],
      "text/plain": [
       "   #  Country Total Cases Total Deaths  New Deaths Total Recovered  \\\n",
       "0  1      USA  98,166,904    1,084,282         NaN      94,962,112   \n",
       "1  2    India  44,587,307      528,629         NaN      44,019,095   \n",
       "2  3   France  35,342,950      155,078         NaN      34,527,115   \n",
       "3  4   Brazil  34,706,757      686,027         NaN      33,838,636   \n",
       "4  5  Germany  33,312,373      149,948         NaN      32,315,200   \n",
       "\n",
       "  Active Cases Serious Criticals Total Cases/m Deaths/m     Total Test  \\\n",
       "0    2,120,510             2,970       293,206    3,239  1,118,158,870   \n",
       "1       39,583               698        31,698      376    894,416,853   \n",
       "2      660,757               869       538,892    2,365    271,490,188   \n",
       "3      182,094             8,318       161,162    3,186     63,776,166   \n",
       "4      847,225             1,406       397,126    1,788    122,332,384   \n",
       "\n",
       "     Tests/m     Population  \n",
       "0  3,339,729    334,805,269  \n",
       "1    635,857  1,406,631,776  \n",
       "2  4,139,547     65,584,518  \n",
       "3    296,146    215,353,593  \n",
       "4  1,458,359     83,883,596  "
      ]
     },
     "execution_count": 5,
     "metadata": {},
     "output_type": "execute_result"
    }
   ],
   "source": [
    "df.rename(col_name, axis=1, inplace=True)\n",
    "df.head()"
   ]
  },
  {
   "cell_type": "markdown",
   "metadata": {
    "cell_id": "6247c106bdec4841b8f3d0b9dec5d34a",
    "deepnote_cell_type": "markdown",
    "tags": []
   },
   "source": [
    "Drop missing values and the whole \"New Deaths\" column because it almost have no data."
   ]
  },
  {
   "cell_type": "code",
   "execution_count": 6,
   "metadata": {
    "cell_id": "13eac57f04ba4ba1bc599ef7d8a055d9",
    "deepnote_cell_type": "code",
    "deepnote_table_loading": false,
    "deepnote_table_state": {
     "filters": [],
     "pageIndex": 0,
     "pageSize": 10,
     "sortBy": []
    },
    "deepnote_to_be_reexecuted": false,
    "execution_millis": 59,
    "execution_start": 1670263052598,
    "source_hash": "a756d3b",
    "tags": []
   },
   "outputs": [
    {
     "data": {
      "application/vnd.deepnote.dataframe.v3+json": {
       "column_count": 12,
       "columns": [
        {
         "dtype": "int64",
         "name": "#",
         "stats": {
          "histogram": [
           {
            "bin_end": 1.4,
            "bin_start": 1,
            "count": 1
           },
           {
            "bin_end": 1.8,
            "bin_start": 1.4,
            "count": 0
           },
           {
            "bin_end": 2.2,
            "bin_start": 1.8,
            "count": 1
           },
           {
            "bin_end": 2.6,
            "bin_start": 2.2,
            "count": 0
           },
           {
            "bin_end": 3,
            "bin_start": 2.6,
            "count": 0
           },
           {
            "bin_end": 3.4000000000000004,
            "bin_start": 3,
            "count": 1
           },
           {
            "bin_end": 3.8000000000000003,
            "bin_start": 3.4000000000000004,
            "count": 0
           },
           {
            "bin_end": 4.2,
            "bin_start": 3.8000000000000003,
            "count": 1
           },
           {
            "bin_end": 4.6,
            "bin_start": 4.2,
            "count": 0
           },
           {
            "bin_end": 5,
            "bin_start": 4.6,
            "count": 1
           }
          ],
          "max": "5",
          "min": "1",
          "nan_count": 0,
          "unique_count": 5
         }
        },
        {
         "dtype": "object",
         "name": "Country",
         "stats": {
          "categories": [
           {
            "count": 1,
            "name": "USA"
           },
           {
            "count": 1,
            "name": "India"
           },
           {
            "count": 3,
            "name": "3 others"
           }
          ],
          "nan_count": 0,
          "unique_count": 5
         }
        },
        {
         "dtype": "object",
         "name": "Total Cases",
         "stats": {
          "categories": [
           {
            "count": 1,
            "name": "98,166,904"
           },
           {
            "count": 1,
            "name": "44,587,307"
           },
           {
            "count": 3,
            "name": "3 others"
           }
          ],
          "nan_count": 0,
          "unique_count": 5
         }
        },
        {
         "dtype": "object",
         "name": "Total Deaths",
         "stats": {
          "categories": [
           {
            "count": 1,
            "name": "1,084,282"
           },
           {
            "count": 1,
            "name": "528,629"
           },
           {
            "count": 3,
            "name": "3 others"
           }
          ],
          "nan_count": 0,
          "unique_count": 5
         }
        },
        {
         "dtype": "object",
         "name": "Total Recovered",
         "stats": {
          "categories": [
           {
            "count": 1,
            "name": "94,962,112"
           },
           {
            "count": 1,
            "name": "44,019,095"
           },
           {
            "count": 3,
            "name": "3 others"
           }
          ],
          "nan_count": 0,
          "unique_count": 5
         }
        },
        {
         "dtype": "object",
         "name": "Active Cases",
         "stats": {
          "categories": [
           {
            "count": 1,
            "name": "2,120,510"
           },
           {
            "count": 1,
            "name": "39,583"
           },
           {
            "count": 3,
            "name": "3 others"
           }
          ],
          "nan_count": 0,
          "unique_count": 5
         }
        },
        {
         "dtype": "object",
         "name": "Serious Criticals",
         "stats": {
          "categories": [
           {
            "count": 1,
            "name": "2,970"
           },
           {
            "count": 1,
            "name": "698"
           },
           {
            "count": 3,
            "name": "3 others"
           }
          ],
          "nan_count": 0,
          "unique_count": 5
         }
        },
        {
         "dtype": "object",
         "name": "Total Cases/m",
         "stats": {
          "categories": [
           {
            "count": 1,
            "name": "293,206"
           },
           {
            "count": 1,
            "name": "31,698"
           },
           {
            "count": 3,
            "name": "3 others"
           }
          ],
          "nan_count": 0,
          "unique_count": 5
         }
        },
        {
         "dtype": "object",
         "name": "Deaths/m",
         "stats": {
          "categories": [
           {
            "count": 1,
            "name": "3,239"
           },
           {
            "count": 1,
            "name": "376"
           },
           {
            "count": 3,
            "name": "3 others"
           }
          ],
          "nan_count": 0,
          "unique_count": 5
         }
        },
        {
         "dtype": "object",
         "name": "Total Test",
         "stats": {
          "categories": [
           {
            "count": 1,
            "name": "1,118,158,870"
           },
           {
            "count": 1,
            "name": "894,416,853"
           },
           {
            "count": 3,
            "name": "3 others"
           }
          ],
          "nan_count": 0,
          "unique_count": 5
         }
        },
        {
         "dtype": "object",
         "name": "Tests/m",
         "stats": {
          "categories": [
           {
            "count": 1,
            "name": "3,339,729"
           },
           {
            "count": 1,
            "name": "635,857"
           },
           {
            "count": 3,
            "name": "3 others"
           }
          ],
          "nan_count": 0,
          "unique_count": 5
         }
        },
        {
         "dtype": "object",
         "name": "Population",
         "stats": {
          "categories": [
           {
            "count": 1,
            "name": "334,805,269"
           },
           {
            "count": 1,
            "name": "1,406,631,776"
           },
           {
            "count": 3,
            "name": "3 others"
           }
          ],
          "nan_count": 0,
          "unique_count": 5
         }
        },
        {
         "dtype": "int64",
         "name": "_deepnote_index_column"
        }
       ],
       "row_count": 5,
       "rows": [
        {
         "#": "1",
         "Active Cases": "2,120,510",
         "Country": "USA",
         "Deaths/m": "3,239",
         "Population": "334,805,269",
         "Serious Criticals": "2,970",
         "Tests/m": "3,339,729",
         "Total Cases": "98,166,904",
         "Total Cases/m": "293,206",
         "Total Deaths": "1,084,282",
         "Total Recovered": "94,962,112",
         "Total Test": "1,118,158,870",
         "_deepnote_index_column": "0"
        },
        {
         "#": "2",
         "Active Cases": "39,583",
         "Country": "India",
         "Deaths/m": "376",
         "Population": "1,406,631,776",
         "Serious Criticals": "698",
         "Tests/m": "635,857",
         "Total Cases": "44,587,307",
         "Total Cases/m": "31,698",
         "Total Deaths": "528,629",
         "Total Recovered": "44,019,095",
         "Total Test": "894,416,853",
         "_deepnote_index_column": "1"
        },
        {
         "#": "3",
         "Active Cases": "660,757",
         "Country": "France",
         "Deaths/m": "2,365",
         "Population": "65,584,518",
         "Serious Criticals": "869",
         "Tests/m": "4,139,547",
         "Total Cases": "35,342,950",
         "Total Cases/m": "538,892",
         "Total Deaths": "155,078",
         "Total Recovered": "34,527,115",
         "Total Test": "271,490,188",
         "_deepnote_index_column": "2"
        },
        {
         "#": "4",
         "Active Cases": "182,094",
         "Country": "Brazil",
         "Deaths/m": "3,186",
         "Population": "215,353,593",
         "Serious Criticals": "8,318",
         "Tests/m": "296,146",
         "Total Cases": "34,706,757",
         "Total Cases/m": "161,162",
         "Total Deaths": "686,027",
         "Total Recovered": "33,838,636",
         "Total Test": "63,776,166",
         "_deepnote_index_column": "3"
        },
        {
         "#": "5",
         "Active Cases": "847,225",
         "Country": "Germany",
         "Deaths/m": "1,788",
         "Population": "83,883,596",
         "Serious Criticals": "1,406",
         "Tests/m": "1,458,359",
         "Total Cases": "33,312,373",
         "Total Cases/m": "397,126",
         "Total Deaths": "149,948",
         "Total Recovered": "32,315,200",
         "Total Test": "122,332,384",
         "_deepnote_index_column": "4"
        }
       ]
      },
      "text/html": [
       "<div>\n",
       "<style scoped>\n",
       "    .dataframe tbody tr th:only-of-type {\n",
       "        vertical-align: middle;\n",
       "    }\n",
       "\n",
       "    .dataframe tbody tr th {\n",
       "        vertical-align: top;\n",
       "    }\n",
       "\n",
       "    .dataframe thead th {\n",
       "        text-align: right;\n",
       "    }\n",
       "</style>\n",
       "<table border=\"1\" class=\"dataframe\">\n",
       "  <thead>\n",
       "    <tr style=\"text-align: right;\">\n",
       "      <th></th>\n",
       "      <th>#</th>\n",
       "      <th>Country</th>\n",
       "      <th>Total Cases</th>\n",
       "      <th>Total Deaths</th>\n",
       "      <th>Total Recovered</th>\n",
       "      <th>Active Cases</th>\n",
       "      <th>Serious Criticals</th>\n",
       "      <th>Total Cases/m</th>\n",
       "      <th>Deaths/m</th>\n",
       "      <th>Total Test</th>\n",
       "      <th>Tests/m</th>\n",
       "      <th>Population</th>\n",
       "    </tr>\n",
       "  </thead>\n",
       "  <tbody>\n",
       "    <tr>\n",
       "      <th>0</th>\n",
       "      <td>1</td>\n",
       "      <td>USA</td>\n",
       "      <td>98,166,904</td>\n",
       "      <td>1,084,282</td>\n",
       "      <td>94,962,112</td>\n",
       "      <td>2,120,510</td>\n",
       "      <td>2,970</td>\n",
       "      <td>293,206</td>\n",
       "      <td>3,239</td>\n",
       "      <td>1,118,158,870</td>\n",
       "      <td>3,339,729</td>\n",
       "      <td>334,805,269</td>\n",
       "    </tr>\n",
       "    <tr>\n",
       "      <th>1</th>\n",
       "      <td>2</td>\n",
       "      <td>India</td>\n",
       "      <td>44,587,307</td>\n",
       "      <td>528,629</td>\n",
       "      <td>44,019,095</td>\n",
       "      <td>39,583</td>\n",
       "      <td>698</td>\n",
       "      <td>31,698</td>\n",
       "      <td>376</td>\n",
       "      <td>894,416,853</td>\n",
       "      <td>635,857</td>\n",
       "      <td>1,406,631,776</td>\n",
       "    </tr>\n",
       "    <tr>\n",
       "      <th>2</th>\n",
       "      <td>3</td>\n",
       "      <td>France</td>\n",
       "      <td>35,342,950</td>\n",
       "      <td>155,078</td>\n",
       "      <td>34,527,115</td>\n",
       "      <td>660,757</td>\n",
       "      <td>869</td>\n",
       "      <td>538,892</td>\n",
       "      <td>2,365</td>\n",
       "      <td>271,490,188</td>\n",
       "      <td>4,139,547</td>\n",
       "      <td>65,584,518</td>\n",
       "    </tr>\n",
       "    <tr>\n",
       "      <th>3</th>\n",
       "      <td>4</td>\n",
       "      <td>Brazil</td>\n",
       "      <td>34,706,757</td>\n",
       "      <td>686,027</td>\n",
       "      <td>33,838,636</td>\n",
       "      <td>182,094</td>\n",
       "      <td>8,318</td>\n",
       "      <td>161,162</td>\n",
       "      <td>3,186</td>\n",
       "      <td>63,776,166</td>\n",
       "      <td>296,146</td>\n",
       "      <td>215,353,593</td>\n",
       "    </tr>\n",
       "    <tr>\n",
       "      <th>4</th>\n",
       "      <td>5</td>\n",
       "      <td>Germany</td>\n",
       "      <td>33,312,373</td>\n",
       "      <td>149,948</td>\n",
       "      <td>32,315,200</td>\n",
       "      <td>847,225</td>\n",
       "      <td>1,406</td>\n",
       "      <td>397,126</td>\n",
       "      <td>1,788</td>\n",
       "      <td>122,332,384</td>\n",
       "      <td>1,458,359</td>\n",
       "      <td>83,883,596</td>\n",
       "    </tr>\n",
       "  </tbody>\n",
       "</table>\n",
       "</div>"
      ],
      "text/plain": [
       "   #  Country Total Cases Total Deaths Total Recovered Active Cases  \\\n",
       "0  1      USA  98,166,904    1,084,282      94,962,112    2,120,510   \n",
       "1  2    India  44,587,307      528,629      44,019,095       39,583   \n",
       "2  3   France  35,342,950      155,078      34,527,115      660,757   \n",
       "3  4   Brazil  34,706,757      686,027      33,838,636      182,094   \n",
       "4  5  Germany  33,312,373      149,948      32,315,200      847,225   \n",
       "\n",
       "  Serious Criticals Total Cases/m Deaths/m     Total Test    Tests/m  \\\n",
       "0             2,970       293,206    3,239  1,118,158,870  3,339,729   \n",
       "1               698        31,698      376    894,416,853    635,857   \n",
       "2               869       538,892    2,365    271,490,188  4,139,547   \n",
       "3             8,318       161,162    3,186     63,776,166    296,146   \n",
       "4             1,406       397,126    1,788    122,332,384  1,458,359   \n",
       "\n",
       "      Population  \n",
       "0    334,805,269  \n",
       "1  1,406,631,776  \n",
       "2     65,584,518  \n",
       "3    215,353,593  \n",
       "4     83,883,596  "
      ]
     },
     "execution_count": 6,
     "metadata": {},
     "output_type": "execute_result"
    }
   ],
   "source": [
    "del df[\"New Deaths\"] #\"del\" reference: https://www.educative.io/answers/how-to-delete-a-column-in-pandas\n",
    "df = df.dropna(axis=0).copy()\n",
    "df.head()"
   ]
  },
  {
   "cell_type": "markdown",
   "metadata": {
    "cell_id": "318eb4b2fcd0402eb52c5b8e755e9c37",
    "deepnote_cell_type": "markdown",
    "tags": []
   },
   "source": [
    "I noticed that the data in the columns are strings with comma. I need to convert them into numeric type for manipulating easier."
   ]
  },
  {
   "cell_type": "code",
   "execution_count": 7,
   "metadata": {
    "cell_id": "950940812c754dd8aecf6c30a17c220f",
    "deepnote_cell_type": "code",
    "deepnote_to_be_reexecuted": false,
    "execution_millis": 1,
    "execution_start": 1670263052686,
    "source_hash": "4be664ea",
    "tags": []
   },
   "outputs": [],
   "source": [
    "# first, find the columns who are string\n",
    "from pandas.api.types import is_string_dtype\n",
    "str_col = [i for i in df.columns if is_string_dtype(df[i])]\n",
    "\n",
    "# the first string column is \"Country\", drop it\n",
    "str_col = str_col[1:]"
   ]
  },
  {
   "cell_type": "code",
   "execution_count": 8,
   "metadata": {
    "cell_id": "a46eb65963af4e68a0d770061e87a110",
    "deepnote_cell_type": "code",
    "deepnote_to_be_reexecuted": false,
    "execution_millis": 0,
    "execution_start": 1670263052687,
    "source_hash": "c4135df9",
    "tags": []
   },
   "outputs": [],
   "source": [
    "# Delete the commas, then convert the string columns into numberic\n",
    "for i in str_col:\n",
    "    df[i] = df[i].str.replace(\",\",\"\")\n",
    "    df[i] = pd.to_numeric(df[i])"
   ]
  },
  {
   "cell_type": "markdown",
   "metadata": {
    "cell_id": "ed48d2c8e53f4beea5d6a5b295332097",
    "deepnote_cell_type": "markdown",
    "tags": []
   },
   "source": [
    "## Visualization by Altair and Seaborn"
   ]
  },
  {
   "cell_type": "markdown",
   "metadata": {
    "cell_id": "5fc95f24493343348d59b5b6e0eb3c2c",
    "deepnote_cell_type": "markdown",
    "tags": []
   },
   "source": [
    "First of all, I'd like to see whether the population and the density (total cases/million people) of affected patients have a strong relation. In other words, is the population affect the possibility of being affected."
   ]
  },
  {
   "cell_type": "code",
   "execution_count": 9,
   "metadata": {
    "cell_id": "1d7a8894ae9c4c768b84517d2939038a",
    "deepnote_cell_type": "code",
    "deepnote_to_be_reexecuted": false,
    "execution_millis": 9,
    "execution_start": 1670263052688,
    "source_hash": "9f3be418",
    "tags": []
   },
   "outputs": [
    {
     "data": {
      "text/html": [
       "\n",
       "<div id=\"altair-viz-7b637e0e277d4a739f0f703353022872\"></div>\n",
       "<script type=\"text/javascript\">\n",
       "  var VEGA_DEBUG = (typeof VEGA_DEBUG == \"undefined\") ? {} : VEGA_DEBUG;\n",
       "  (function(spec, embedOpt){\n",
       "    let outputDiv = document.currentScript.previousElementSibling;\n",
       "    if (outputDiv.id !== \"altair-viz-7b637e0e277d4a739f0f703353022872\") {\n",
       "      outputDiv = document.getElementById(\"altair-viz-7b637e0e277d4a739f0f703353022872\");\n",
       "    }\n",
       "    const paths = {\n",
       "      \"vega\": \"https://cdn.jsdelivr.net/npm//vega@5?noext\",\n",
       "      \"vega-lib\": \"https://cdn.jsdelivr.net/npm//vega-lib?noext\",\n",
       "      \"vega-lite\": \"https://cdn.jsdelivr.net/npm//vega-lite@4.17.0?noext\",\n",
       "      \"vega-embed\": \"https://cdn.jsdelivr.net/npm//vega-embed@6?noext\",\n",
       "    };\n",
       "\n",
       "    function maybeLoadScript(lib, version) {\n",
       "      var key = `${lib.replace(\"-\", \"\")}_version`;\n",
       "      return (VEGA_DEBUG[key] == version) ?\n",
       "        Promise.resolve(paths[lib]) :\n",
       "        new Promise(function(resolve, reject) {\n",
       "          var s = document.createElement('script');\n",
       "          document.getElementsByTagName(\"head\")[0].appendChild(s);\n",
       "          s.async = true;\n",
       "          s.onload = () => {\n",
       "            VEGA_DEBUG[key] = version;\n",
       "            return resolve(paths[lib]);\n",
       "          };\n",
       "          s.onerror = () => reject(`Error loading script: ${paths[lib]}`);\n",
       "          s.src = paths[lib];\n",
       "        });\n",
       "    }\n",
       "\n",
       "    function showError(err) {\n",
       "      outputDiv.innerHTML = `<div class=\"error\" style=\"color:red;\">${err}</div>`;\n",
       "      throw err;\n",
       "    }\n",
       "\n",
       "    function displayChart(vegaEmbed) {\n",
       "      vegaEmbed(outputDiv, spec, embedOpt)\n",
       "        .catch(err => showError(`Javascript Error: ${err.message}<br>This usually means there's a typo in your chart specification. See the javascript console for the full traceback.`));\n",
       "    }\n",
       "\n",
       "    if(typeof define === \"function\" && define.amd) {\n",
       "      requirejs.config({paths});\n",
       "      require([\"vega-embed\"], displayChart, err => showError(`Error loading script: ${err.message}`));\n",
       "    } else {\n",
       "      maybeLoadScript(\"vega\", \"5\")\n",
       "        .then(() => maybeLoadScript(\"vega-lite\", \"4.17.0\"))\n",
       "        .then(() => maybeLoadScript(\"vega-embed\", \"6\"))\n",
       "        .catch(showError)\n",
       "        .then(() => displayChart(vegaEmbed));\n",
       "    }\n",
       "  })({\"config\": {\"view\": {\"continuousWidth\": 400, \"continuousHeight\": 300}}, \"data\": {\"name\": \"data-0f60f6a3a16231733808cb4265150cc4\"}, \"mark\": \"circle\", \"encoding\": {\"tooltip\": [{\"field\": \"Country\", \"type\": \"nominal\"}, {\"field\": \"Total Cases\", \"type\": \"quantitative\"}], \"x\": {\"field\": \"Population\", \"sort\": \"ascending\", \"type\": \"quantitative\"}, \"y\": {\"field\": \"Total Cases/m\", \"sort\": \"ascending\", \"type\": \"quantitative\"}}, \"selection\": {\"selector001\": {\"type\": \"interval\", \"bind\": \"scales\", \"encodings\": [\"x\", \"y\"]}}, \"$schema\": \"https://vega.github.io/schema/vega-lite/v4.17.0.json\", \"datasets\": {\"data-0f60f6a3a16231733808cb4265150cc4\": [{\"#\": 1, \"Country\": \"USA\", \"Total Cases\": 98166904, \"Total Deaths\": 1084282, \"Total Recovered\": 94962112, \"Active Cases\": 2120510, \"Serious Criticals\": 2970, \"Total Cases/m\": 293206, \"Deaths/m\": 3239, \"Total Test\": 1118158870, \"Tests/m\": 3339729, \"Population\": 334805269}, {\"#\": 2, \"Country\": \"India\", \"Total Cases\": 44587307, \"Total Deaths\": 528629, \"Total Recovered\": 44019095, \"Active Cases\": 39583, \"Serious Criticals\": 698, \"Total Cases/m\": 31698, \"Deaths/m\": 376, \"Total Test\": 894416853, \"Tests/m\": 635857, \"Population\": 1406631776}, {\"#\": 3, \"Country\": \"France\", \"Total Cases\": 35342950, \"Total Deaths\": 155078, \"Total Recovered\": 34527115, \"Active Cases\": 660757, \"Serious Criticals\": 869, \"Total Cases/m\": 538892, \"Deaths/m\": 2365, \"Total Test\": 271490188, \"Tests/m\": 4139547, \"Population\": 65584518}, {\"#\": 4, \"Country\": \"Brazil\", \"Total Cases\": 34706757, \"Total Deaths\": 686027, \"Total Recovered\": 33838636, \"Active Cases\": 182094, \"Serious Criticals\": 8318, \"Total Cases/m\": 161162, \"Deaths/m\": 3186, \"Total Test\": 63776166, \"Tests/m\": 296146, \"Population\": 215353593}, {\"#\": 5, \"Country\": \"Germany\", \"Total Cases\": 33312373, \"Total Deaths\": 149948, \"Total Recovered\": 32315200, \"Active Cases\": 847225, \"Serious Criticals\": 1406, \"Total Cases/m\": 397126, \"Deaths/m\": 1788, \"Total Test\": 122332384, \"Tests/m\": 1458359, \"Population\": 83883596}, {\"#\": 6, \"Country\": \"S. Korea\", \"Total Cases\": 24769101, \"Total Deaths\": 28406, \"Total Recovered\": 24013461, \"Active Cases\": 727234, \"Serious Criticals\": 352, \"Total Cases/m\": 482547, \"Deaths/m\": 553, \"Total Test\": 15804065, \"Tests/m\": 307892, \"Population\": 51329899}, {\"#\": 7, \"Country\": \"UK\", \"Total Cases\": 23621952, \"Total Deaths\": 189919, \"Total Recovered\": 23347871, \"Active Cases\": 84162, \"Serious Criticals\": 146, \"Total Cases/m\": 344857, \"Deaths/m\": 2773, \"Total Test\": 522526476, \"Tests/m\": 7628357, \"Population\": 68497907}, {\"#\": 8, \"Country\": \"Italy\", \"Total Cases\": 22432803, \"Total Deaths\": 177054, \"Total Recovered\": 21779604, \"Active Cases\": 476145, \"Serious Criticals\": 141, \"Total Cases/m\": 372250, \"Deaths/m\": 2938, \"Total Test\": 246636495, \"Tests/m\": 4092684, \"Population\": 60262770}, {\"#\": 9, \"Country\": \"Japan\", \"Total Cases\": 21229216, \"Total Deaths\": 44678, \"Total Recovered\": 20380089, \"Active Cases\": 804449, \"Serious Criticals\": 204, \"Total Cases/m\": 169043, \"Deaths/m\": 356, \"Total Test\": 76201407, \"Tests/m\": 606772, \"Population\": 125584838}, {\"#\": 10, \"Country\": \"Russia\", \"Total Cases\": 20948470, \"Total Deaths\": 387163, \"Total Recovered\": 19979763, \"Active Cases\": 581544, \"Serious Criticals\": 2300, \"Total Cases/m\": 143674, \"Deaths/m\": 2655, \"Total Test\": 273400000, \"Tests/m\": 1875095, \"Population\": 145805947}, {\"#\": 11, \"Country\": \"Turkey\", \"Total Cases\": 16873793, \"Total Deaths\": 101139, \"Total Recovered\": 16754301, \"Active Cases\": 18353, \"Serious Criticals\": 975, \"Total Cases/m\": 197211, \"Deaths/m\": 1182, \"Total Test\": 162743369, \"Tests/m\": 1902052, \"Population\": 85561976}, {\"#\": 12, \"Country\": \"Spain\", \"Total Cases\": 13412263, \"Total Deaths\": 114084, \"Total Recovered\": 13218892, \"Active Cases\": 79287, \"Serious Criticals\": 339, \"Total Cases/m\": 287083, \"Deaths/m\": 2442, \"Total Test\": 471036328, \"Tests/m\": 10082298, \"Population\": 46719142}, {\"#\": 13, \"Country\": \"Vietnam\", \"Total Cases\": 11477886, \"Total Deaths\": 43148, \"Total Recovered\": 10590917, \"Active Cases\": 843821, \"Serious Criticals\": 106, \"Total Cases/m\": 115993, \"Deaths/m\": 436, \"Total Test\": 85826548, \"Tests/m\": 867342, \"Population\": 98953541}, {\"#\": 14, \"Country\": \"Australia\", \"Total Cases\": 10209239, \"Total Deaths\": 14984, \"Total Recovered\": 10133494, \"Active Cases\": 60761, \"Serious Criticals\": 49, \"Total Cases/m\": 391627, \"Deaths/m\": 575, \"Total Test\": 78835048, \"Tests/m\": 3024116, \"Population\": 26068792}, {\"#\": 15, \"Country\": \"Argentina\", \"Total Cases\": 9708420, \"Total Deaths\": 129897, \"Total Recovered\": 9563348, \"Active Cases\": 15175, \"Serious Criticals\": 294, \"Total Cases/m\": 211006, \"Deaths/m\": 2823, \"Total Test\": 35716069, \"Tests/m\": 776264, \"Population\": 46010234}, {\"#\": 16, \"Country\": \"Netherlands\", \"Total Cases\": 8422336, \"Total Deaths\": 22643, \"Total Recovered\": 8362464, \"Active Cases\": 37229, \"Serious Criticals\": 35, \"Total Cases/m\": 489345, \"Deaths/m\": 1316, \"Total Test\": 21107399, \"Tests/m\": 1226358, \"Population\": 17211447}, {\"#\": 17, \"Country\": \"Iran\", \"Total Cases\": 7548320, \"Total Deaths\": 144421, \"Total Recovered\": 7325370, \"Active Cases\": 78529, \"Serious Criticals\": 157, \"Total Cases/m\": 87748, \"Deaths/m\": 1679, \"Total Test\": 54095556, \"Tests/m\": 628851, \"Population\": 86022837}, {\"#\": 18, \"Country\": \"Mexico\", \"Total Cases\": 7084488, \"Total Deaths\": 330065, \"Total Recovered\": 6353953, \"Active Cases\": 400470, \"Serious Criticals\": 4798, \"Total Cases/m\": 53849, \"Deaths/m\": 2509, \"Total Test\": 18393211, \"Tests/m\": 139806, \"Population\": 131562772}, {\"#\": 19, \"Country\": \"Indonesia\", \"Total Cases\": 6429767, \"Total Deaths\": 158093, \"Total Recovered\": 6253317, \"Active Cases\": 18357, \"Serious Criticals\": 2771, \"Total Cases/m\": 23035, \"Deaths/m\": 566, \"Total Test\": 108656989, \"Tests/m\": 389264, \"Population\": 279134505}, {\"#\": 21, \"Country\": \"Colombia\", \"Total Cases\": 6307372, \"Total Deaths\": 141794, \"Total Recovered\": 6134690, \"Active Cases\": 30888, \"Serious Criticals\": 342, \"Total Cases/m\": 122443, \"Deaths/m\": 2753, \"Total Test\": 36572720, \"Tests/m\": 709974, \"Population\": 51512762}, {\"#\": 22, \"Country\": \"Poland\", \"Total Cases\": 6289672, \"Total Deaths\": 117539, \"Total Recovered\": 5335940, \"Active Cases\": 836193, \"Serious Criticals\": 3086, \"Total Cases/m\": 166659, \"Deaths/m\": 3114, \"Total Test\": 37335609, \"Tests/m\": 989290, \"Population\": 37739785}, {\"#\": 23, \"Country\": \"Portugal\", \"Total Cases\": 5490639, \"Total Deaths\": 25024, \"Total Recovered\": 5394788, \"Active Cases\": 70827, \"Serious Criticals\": 61, \"Total Cases/m\": 541453, \"Deaths/m\": 2468, \"Total Test\": 44988307, \"Tests/m\": 4436467, \"Population\": 10140570}, {\"#\": 24, \"Country\": \"Ukraine\", \"Total Cases\": 5177217, \"Total Deaths\": 109206, \"Total Recovered\": 4973554, \"Active Cases\": 94457, \"Serious Criticals\": 177, \"Total Cases/m\": 119865, \"Deaths/m\": 2528, \"Total Test\": 19521252, \"Tests/m\": 451963, \"Population\": 43192122}, {\"#\": 25, \"Country\": \"Austria\", \"Total Cases\": 5118512, \"Total Deaths\": 20738, \"Total Recovered\": 5006572, \"Active Cases\": 91202, \"Serious Criticals\": 47, \"Total Cases/m\": 564539, \"Deaths/m\": 2287, \"Total Test\": 197543761, \"Tests/m\": 21787811, \"Population\": 9066710}, {\"#\": 26, \"Country\": \"Greece\", \"Total Cases\": 4920192, \"Total Deaths\": 33111, \"Total Recovered\": 4836903, \"Active Cases\": 50178, \"Serious Criticals\": 115, \"Total Cases/m\": 476918, \"Deaths/m\": 3209, \"Total Test\": 94139966, \"Tests/m\": 9125063, \"Population\": 10316637}, {\"#\": 27, \"Country\": \"Malaysia\", \"Total Cases\": 4838872, \"Total Deaths\": 36369, \"Total Recovered\": 4777329, \"Active Cases\": 25174, \"Serious Criticals\": 43, \"Total Cases/m\": 145832, \"Deaths/m\": 1096, \"Total Test\": 64604259, \"Tests/m\": 1947021, \"Population\": 33181072}, {\"#\": 29, \"Country\": \"Thailand\", \"Total Cases\": 4681309, \"Total Deaths\": 32767, \"Total Recovered\": 4642083, \"Active Cases\": 6459, \"Serious Criticals\": 1496, \"Total Cases/m\": 66801, \"Deaths/m\": 468, \"Total Test\": 17270775, \"Tests/m\": 246450, \"Population\": 70078203}, {\"#\": 30, \"Country\": \"Israel\", \"Total Cases\": 4661096, \"Total Deaths\": 11698, \"Total Recovered\": 4641394, \"Active Cases\": 8004, \"Serious Criticals\": 101, \"Total Cases/m\": 499796, \"Deaths/m\": 1254, \"Total Test\": 41373364, \"Tests/m\": 4436346, \"Population\": 9326000}, {\"#\": 31, \"Country\": \"Chile\", \"Total Cases\": 4620377, \"Total Deaths\": 61141, \"Total Recovered\": 4540886, \"Active Cases\": 18350, \"Serious Criticals\": 124, \"Total Cases/m\": 240017, \"Deaths/m\": 3176, \"Total Test\": 45128974, \"Tests/m\": 2344339, \"Population\": 19250195}, {\"#\": 32, \"Country\": \"Belgium\", \"Total Cases\": 4533249, \"Total Deaths\": 32659, \"Total Recovered\": 4451569, \"Active Cases\": 49021, \"Serious Criticals\": 48, \"Total Cases/m\": 388511, \"Deaths/m\": 2799, \"Total Test\": 35555508, \"Tests/m\": 3047194, \"Population\": 11668278}, {\"#\": 33, \"Country\": \"Canada\", \"Total Cases\": 4233468, \"Total Deaths\": 44992, \"Total Recovered\": 4131367, \"Active Cases\": 57109, \"Serious Criticals\": 99, \"Total Cases/m\": 110280, \"Deaths/m\": 1172, \"Total Test\": 64928884, \"Tests/m\": 1691366, \"Population\": 38388419}, {\"#\": 34, \"Country\": \"Peru\", \"Total Cases\": 4143085, \"Total Deaths\": 216539, \"Total Recovered\": 3914598, \"Active Cases\": 11948, \"Serious Criticals\": 147, \"Total Cases/m\": 122998, \"Deaths/m\": 6429, \"Total Test\": 35126382, \"Tests/m\": 1042815, \"Population\": 33684208}, {\"#\": 35, \"Country\": \"Czechia\", \"Total Cases\": 4100480, \"Total Deaths\": 41059, \"Total Recovered\": 4035333, \"Active Cases\": 24088, \"Serious Criticals\": 39, \"Total Cases/m\": 381910, \"Deaths/m\": 3824, \"Total Test\": 56212735, \"Tests/m\": 5235528, \"Population\": 10736784}, {\"#\": 36, \"Country\": \"Switzerland\", \"Total Cases\": 4084307, \"Total Deaths\": 14183, \"Total Recovered\": 4012833, \"Active Cases\": 57291, \"Serious Criticals\": 54, \"Total Cases/m\": 465520, \"Deaths/m\": 1617, \"Total Test\": 22318542, \"Tests/m\": 2543819, \"Population\": 8773637}, {\"#\": 37, \"Country\": \"South Africa\", \"Total Cases\": 4018769, \"Total Deaths\": 102185, \"Total Recovered\": 3909265, \"Active Cases\": 7319, \"Serious Criticals\": 192, \"Total Cases/m\": 66146, \"Deaths/m\": 1682, \"Total Test\": 26174429, \"Tests/m\": 430811, \"Population\": 60756135}, {\"#\": 38, \"Country\": \"Philippines\", \"Total Cases\": 3945566, \"Total Deaths\": 62916, \"Total Recovered\": 3854478, \"Active Cases\": 28172, \"Serious Criticals\": 696, \"Total Cases/m\": 35069, \"Deaths/m\": 559, \"Total Test\": 32796350, \"Tests/m\": 291500, \"Population\": 112508994}, {\"#\": 39, \"Country\": \"Romania\", \"Total Cases\": 3267370, \"Total Deaths\": 67016, \"Total Recovered\": 3180124, \"Active Cases\": 20230, \"Serious Criticals\": 123, \"Total Cases/m\": 171684, \"Deaths/m\": 3521, \"Total Test\": 25094131, \"Tests/m\": 1318569, \"Population\": 19031335}, {\"#\": 41, \"Country\": \"Sweden\", \"Total Cases\": 2588441, \"Total Deaths\": 20194, \"Total Recovered\": 2548125, \"Active Cases\": 20122, \"Serious Criticals\": 13, \"Total Cases/m\": 253298, \"Deaths/m\": 1976, \"Total Test\": 18965590, \"Tests/m\": 1855920, \"Population\": 10218971}, {\"#\": 42, \"Country\": \"Iraq\", \"Total Cases\": 2459982, \"Total Deaths\": 25355, \"Total Recovered\": 2433704, \"Active Cases\": 923, \"Serious Criticals\": 21, \"Total Cases/m\": 58342, \"Deaths/m\": 601, \"Total Test\": 19239264, \"Tests/m\": 456286, \"Population\": 42164965}, {\"#\": 43, \"Country\": \"Serbia\", \"Total Cases\": 2359530, \"Total Deaths\": 17000, \"Total Recovered\": 2298536, \"Active Cases\": 43994, \"Serious Criticals\": 33, \"Total Cases/m\": 272683, \"Deaths/m\": 1965, \"Total Test\": 11030499, \"Tests/m\": 1274758, \"Population\": 8653016}, {\"#\": 44, \"Country\": \"Hungary\", \"Total Cases\": 2094142, \"Total Deaths\": 47503, \"Total Recovered\": 2014175, \"Active Cases\": 32464, \"Serious Criticals\": 18, \"Total Cases/m\": 217998, \"Deaths/m\": 4945, \"Total Test\": 11394556, \"Tests/m\": 1186160, \"Population\": 9606259}, {\"#\": 45, \"Country\": \"Bangladesh\", \"Total Cases\": 2024489, \"Total Deaths\": 29362, \"Total Recovered\": 1964501, \"Active Cases\": 30626, \"Serious Criticals\": 1331, \"Total Cases/m\": 12059, \"Deaths/m\": 175, \"Total Test\": 14872260, \"Tests/m\": 88586, \"Population\": 167885689}, {\"#\": 46, \"Country\": \"Singapore\", \"Total Cases\": 1904192, \"Total Deaths\": 1617, \"Total Recovered\": 1821160, \"Active Cases\": 81415, \"Serious Criticals\": 9, \"Total Cases/m\": 320380, \"Deaths/m\": 272, \"Total Test\": 24345019, \"Tests/m\": 4096043, \"Population\": 5943546}, {\"#\": 47, \"Country\": \"Slovakia\", \"Total Cases\": 1843220, \"Total Deaths\": 20455, \"Total Recovered\": 1817938, \"Active Cases\": 4827, \"Serious Criticals\": 22, \"Total Cases/m\": 337574, \"Deaths/m\": 3746, \"Total Test\": 7298163, \"Tests/m\": 1336613, \"Population\": 5460193}, {\"#\": 50, \"Country\": \"Hong Kong\", \"Total Cases\": 1761381, \"Total Deaths\": 10153, \"Total Recovered\": 1469240, \"Active Cases\": 281988, \"Serious Criticals\": 8, \"Total Cases/m\": 231630, \"Deaths/m\": 1335, \"Total Test\": 54352132, \"Tests/m\": 7147553, \"Population\": 7604299}, {\"#\": 51, \"Country\": \"Jordan\", \"Total Cases\": 1746997, \"Total Deaths\": 14122, \"Total Recovered\": 1731007, \"Active Cases\": 1868, \"Serious Criticals\": 59, \"Total Cases/m\": 169597, \"Deaths/m\": 1371, \"Total Test\": 17201885, \"Tests/m\": 1669945, \"Population\": 10300869}, {\"#\": 52, \"Country\": \"Ireland\", \"Total Cases\": 1663653, \"Total Deaths\": 7905, \"Total Recovered\": 1648405, \"Active Cases\": 7343, \"Serious Criticals\": 13, \"Total Cases/m\": 331392, \"Deaths/m\": 1575, \"Total Test\": 12708583, \"Tests/m\": 2531490, \"Population\": 5020199}, {\"#\": 53, \"Country\": \"Pakistan\", \"Total Cases\": 1572598, \"Total Deaths\": 30616, \"Total Recovered\": 1536924, \"Active Cases\": 5058, \"Serious Criticals\": 47, \"Total Cases/m\": 6853, \"Deaths/m\": 133, \"Total Test\": 30477451, \"Tests/m\": 132806, \"Population\": 229488994}, {\"#\": 54, \"Country\": \"Norway\", \"Total Cases\": 1462318, \"Total Deaths\": 4098, \"Total Recovered\": 1457108, \"Active Cases\": 1112, \"Serious Criticals\": 20, \"Total Cases/m\": 265327, \"Deaths/m\": 744, \"Total Test\": 11002430, \"Tests/m\": 1996315, \"Population\": 5511370}, {\"#\": 55, \"Country\": \"Kazakhstan\", \"Total Cases\": 1393468, \"Total Deaths\": 13690, \"Total Recovered\": 1378440, \"Active Cases\": 1338, \"Serious Criticals\": 24, \"Total Cases/m\": 72557, \"Deaths/m\": 713, \"Total Test\": 11575012, \"Tests/m\": 602707, \"Population\": 19205043}, {\"#\": 56, \"Country\": \"Finland\", \"Total Cases\": 1292940, \"Total Deaths\": 5981, \"Total Recovered\": 1263711, \"Active Cases\": 23248, \"Serious Criticals\": 21, \"Total Cases/m\": 232754, \"Deaths/m\": 1077, \"Total Test\": 11505032, \"Tests/m\": 2071128, \"Population\": 5554960}, {\"#\": 57, \"Country\": \"Morocco\", \"Total Cases\": 1264935, \"Total Deaths\": 16278, \"Total Recovered\": 1248543, \"Active Cases\": 114, \"Serious Criticals\": 293, \"Total Cases/m\": 33488, \"Deaths/m\": 431, \"Total Test\": 12577650, \"Tests/m\": 332982, \"Population\": 37772756}, {\"#\": 58, \"Country\": \"Bulgaria\", \"Total Cases\": 1258670, \"Total Deaths\": 37714, \"Total Recovered\": 1211397, \"Active Cases\": 9559, \"Serious Criticals\": 43, \"Total Cases/m\": 183892, \"Deaths/m\": 5510, \"Total Test\": 10559171, \"Tests/m\": 1542702, \"Population\": 6844597}, {\"#\": 59, \"Country\": \"Lithuania\", \"Total Cases\": 1249134, \"Total Deaths\": 9320, \"Total Recovered\": 1216151, \"Active Cases\": 23663, \"Serious Criticals\": 12, \"Total Cases/m\": 469298, \"Deaths/m\": 3502, \"Total Test\": 10174473, \"Tests/m\": 3822535, \"Population\": 2661708}, {\"#\": 60, \"Country\": \"Croatia\", \"Total Cases\": 1231575, \"Total Deaths\": 16902, \"Total Recovered\": 1209524, \"Active Cases\": 5149, \"Serious Criticals\": 10, \"Total Cases/m\": 303397, \"Deaths/m\": 4164, \"Total Test\": 5225875, \"Tests/m\": 1287388, \"Population\": 4059286}, {\"#\": 61, \"Country\": \"Lebanon\", \"Total Cases\": 1215511, \"Total Deaths\": 10674, \"Total Recovered\": 1087587, \"Active Cases\": 117250, \"Serious Criticals\": 74, \"Total Cases/m\": 181831, \"Deaths/m\": 1597, \"Total Test\": 4795578, \"Tests/m\": 717380, \"Population\": 6684849}, {\"#\": 62, \"Country\": \"Slovenia\", \"Total Cases\": 1181073, \"Total Deaths\": 6820, \"Total Recovered\": 1145051, \"Active Cases\": 29202, \"Serious Criticals\": 22, \"Total Cases/m\": 568361, \"Deaths/m\": 3282, \"Total Test\": 2743244, \"Tests/m\": 1320115, \"Population\": 2078034}, {\"#\": 64, \"Country\": \"Guatemala\", \"Total Cases\": 1123465, \"Total Deaths\": 19789, \"Total Recovered\": 1102988, \"Active Cases\": 688, \"Serious Criticals\": 5, \"Total Cases/m\": 60453, \"Deaths/m\": 1065, \"Total Test\": 5884813, \"Tests/m\": 316660, \"Population\": 18584039}, {\"#\": 65, \"Country\": \"Cuba\", \"Total Cases\": 1111179, \"Total Deaths\": 8530, \"Total Recovered\": 1102548, \"Active Cases\": 101, \"Serious Criticals\": 23, \"Total Cases/m\": 98285, \"Deaths/m\": 754, \"Total Test\": 14149157, \"Tests/m\": 1251512, \"Population\": 11305652}, {\"#\": 66, \"Country\": \"Bolivia\", \"Total Cases\": 1108195, \"Total Deaths\": 22234, \"Total Recovered\": 1051789, \"Active Cases\": 34172, \"Serious Criticals\": 220, \"Total Cases/m\": 92406, \"Deaths/m\": 1854, \"Total Test\": 2705422, \"Tests/m\": 225590, \"Population\": 11992656}, {\"#\": 67, \"Country\": \"Costa Rica\", \"Total Cases\": 1072807, \"Total Deaths\": 8913, \"Total Recovered\": 860711, \"Active Cases\": 203183, \"Serious Criticals\": 52, \"Total Cases/m\": 207012, \"Deaths/m\": 1720, \"Total Test\": 4659757, \"Tests/m\": 899158, \"Population\": 5182354}, {\"#\": 69, \"Country\": \"Ecuador\", \"Total Cases\": 1003778, \"Total Deaths\": 35894, \"Total Recovered\": 964320, \"Active Cases\": 3564, \"Serious Criticals\": 759, \"Total Cases/m\": 55416, \"Deaths/m\": 1982, \"Total Test\": 3082403, \"Tests/m\": 170173, \"Population\": 18113361}, {\"#\": 72, \"Country\": \"Panama\", \"Total Cases\": 986866, \"Total Deaths\": 8497, \"Total Recovered\": 976873, \"Active Cases\": 1496, \"Serious Criticals\": 16, \"Total Cases/m\": 221919, \"Deaths/m\": 1911, \"Total Test\": 7062027, \"Tests/m\": 1588056, \"Population\": 4446964}, {\"#\": 73, \"Country\": \"Uruguay\", \"Total Cases\": 985422, \"Total Deaths\": 7485, \"Total Recovered\": 976760, \"Active Cases\": 1177, \"Serious Criticals\": 18, \"Total Cases/m\": 281870, \"Deaths/m\": 2141, \"Total Test\": 6114822, \"Tests/m\": 1749083, \"Population\": 3496016}, {\"#\": 74, \"Country\": \"Mongolia\", \"Total Cases\": 982864, \"Total Deaths\": 2179, \"Total Recovered\": 979439, \"Active Cases\": 1246, \"Serious Criticals\": 192, \"Total Cases/m\": 290954, \"Deaths/m\": 645, \"Total Test\": 4030048, \"Tests/m\": 1193000, \"Population\": 3378078}, {\"#\": 75, \"Country\": \"Latvia\", \"Total Cases\": 929051, \"Total Deaths\": 5990, \"Total Recovered\": 891237, \"Active Cases\": 31824, \"Serious Criticals\": 5, \"Total Cases/m\": 502506, \"Deaths/m\": 3240, \"Total Test\": 7650009, \"Tests/m\": 4137741, \"Population\": 1848837}, {\"#\": 77, \"Country\": \"Saudi Arabia\", \"Total Cases\": 816389, \"Total Deaths\": 9351, \"Total Recovered\": 803546, \"Active Cases\": 3492, \"Serious Criticals\": 32, \"Total Cases/m\": 22776, \"Deaths/m\": 261, \"Total Test\": 44321147, \"Tests/m\": 1236470, \"Population\": 35844909}, {\"#\": 78, \"Country\": \"Paraguay\", \"Total Cases\": 716059, \"Total Deaths\": 19583, \"Total Recovered\": 696110, \"Active Cases\": 366, \"Serious Criticals\": 7, \"Total Cases/m\": 98012, \"Deaths/m\": 2680, \"Total Test\": 2657506, \"Tests/m\": 363751, \"Population\": 7305843}, {\"#\": 79, \"Country\": \"Bahrain\", \"Total Cases\": 680271, \"Total Deaths\": 1520, \"Total Recovered\": 675724, \"Active Cases\": 3027, \"Serious Criticals\": 2, \"Total Cases/m\": 381321, \"Deaths/m\": 852, \"Total Test\": 10376306, \"Tests/m\": 5816370, \"Population\": 1783983}, {\"#\": 81, \"Country\": \"Kuwait\", \"Total Cases\": 658520, \"Total Deaths\": 2563, \"Total Recovered\": 655316, \"Active Cases\": 641, \"Serious Criticals\": 3, \"Total Cases/m\": 150336, \"Deaths/m\": 585, \"Total Test\": 8365279, \"Tests/m\": 1909739, \"Population\": 4380326}, {\"#\": 82, \"Country\": \"Dominican Republic\", \"Total Cases\": 644016, \"Total Deaths\": 4384, \"Total Recovered\": 638911, \"Active Cases\": 721, \"Serious Criticals\": 4, \"Total Cases/m\": 58248, \"Deaths/m\": 397, \"Total Test\": 3657057, \"Tests/m\": 330765, \"Population\": 11056370}, {\"#\": 84, \"Country\": \"Palestine\", \"Total Cases\": 620548, \"Total Deaths\": 5403, \"Total Recovered\": 608749, \"Active Cases\": 6396, \"Serious Criticals\": 17, \"Total Cases/m\": 116087, \"Deaths/m\": 1011, \"Total Test\": 3078533, \"Tests/m\": 575907, \"Population\": 5345541}, {\"#\": 85, \"Country\": \"Estonia\", \"Total Cases\": 601869, \"Total Deaths\": 2681, \"Total Recovered\": 524990, \"Active Cases\": 74198, \"Serious Criticals\": 4, \"Total Cases/m\": 455303, \"Deaths/m\": 2028, \"Total Test\": 3536858, \"Tests/m\": 2675566, \"Population\": 1321910}, {\"#\": 86, \"Country\": \"Moldova\", \"Total Cases\": 589388, \"Total Deaths\": 11844, \"Total Recovered\": 504142, \"Active Cases\": 73402, \"Serious Criticals\": 49, \"Total Cases/m\": 146863, \"Deaths/m\": 2951, \"Total Test\": 3216305, \"Tests/m\": 801437, \"Population\": 4013171}, {\"#\": 87, \"Country\": \"Cyprus\", \"Total Cases\": 585313, \"Total Deaths\": 1180, \"Total Recovered\": 578452, \"Active Cases\": 5681, \"Serious Criticals\": 60, \"Total Cases/m\": 478437, \"Deaths/m\": 965, \"Total Test\": 9640118, \"Tests/m\": 7879860, \"Population\": 1223387}, {\"#\": 88, \"Country\": \"Venezuela\", \"Total Cases\": 544687, \"Total Deaths\": 5814, \"Total Recovered\": 538033, \"Active Cases\": 840, \"Serious Criticals\": 36, \"Total Cases/m\": 18611, \"Deaths/m\": 199, \"Total Test\": 3359014, \"Tests/m\": 114771, \"Population\": 29266991}, {\"#\": 89, \"Country\": \"Egypt\", \"Total Cases\": 515645, \"Total Deaths\": 24613, \"Total Recovered\": 442182, \"Active Cases\": 48850, \"Serious Criticals\": 122, \"Total Cases/m\": 4857, \"Deaths/m\": 232, \"Total Test\": 3693367, \"Tests/m\": 34792, \"Population\": 106156692}, {\"#\": 90, \"Country\": \"Libya\", \"Total Cases\": 506991, \"Total Deaths\": 6437, \"Total Recovered\": 500507, \"Active Cases\": 47, \"Serious Criticals\": 101, \"Total Cases/m\": 72008, \"Deaths/m\": 914, \"Total Test\": 2481983, \"Tests/m\": 352517, \"Population\": 7040745}, {\"#\": 91, \"Country\": \"Ethiopia\", \"Total Cases\": 493563, \"Total Deaths\": 7572, \"Total Recovered\": 471918, \"Active Cases\": 14073, \"Serious Criticals\": 1, \"Total Cases/m\": 4085, \"Deaths/m\": 63, \"Total Test\": 5258807, \"Tests/m\": 43529, \"Population\": 120812698}, {\"#\": 92, \"Country\": \"R\\u00e9union\", \"Total Cases\": 472336, \"Total Deaths\": 893, \"Total Recovered\": 418572, \"Active Cases\": 52871, \"Serious Criticals\": 10, \"Total Cases/m\": 520159, \"Deaths/m\": 983, \"Total Test\": 1603660, \"Tests/m\": 1766027, \"Population\": 908061}, {\"#\": 94, \"Country\": \"Qatar\", \"Total Cases\": 450448, \"Total Deaths\": 682, \"Total Recovered\": 443418, \"Active Cases\": 6348, \"Serious Criticals\": 4, \"Total Cases/m\": 151161, \"Deaths/m\": 229, \"Total Test\": 3951470, \"Tests/m\": 1326034, \"Population\": 2979915}, {\"#\": 97, \"Country\": \"Oman\", \"Total Cases\": 397993, \"Total Deaths\": 4260, \"Total Recovered\": 384669, \"Active Cases\": 9064, \"Serious Criticals\": 2, \"Total Cases/m\": 74755, \"Deaths/m\": 800, \"Total Test\": 25000000, \"Tests/m\": 4695724, \"Population\": 5323993}, {\"#\": 99, \"Country\": \"Kenya\", \"Total Cases\": 338420, \"Total Deaths\": 5678, \"Total Recovered\": 332663, \"Active Cases\": 79, \"Serious Criticals\": 1, \"Total Cases/m\": 6020, \"Deaths/m\": 101, \"Total Test\": 3881967, \"Tests/m\": 69055, \"Population\": 56215221}, {\"#\": 102, \"Country\": \"Botswana\", \"Total Cases\": 326308, \"Total Deaths\": 2789, \"Total Recovered\": 322955, \"Active Cases\": 564, \"Serious Criticals\": 1, \"Total Cases/m\": 133669, \"Deaths/m\": 1142, \"Total Test\": 2026898, \"Tests/m\": 830300, \"Population\": 2441162}, {\"#\": 104, \"Country\": \"Montenegro\", \"Total Cases\": 280002, \"Total Deaths\": 2781, \"Total Recovered\": 276154, \"Active Cases\": 1067, \"Serious Criticals\": 6, \"Total Cases/m\": 445899, \"Deaths/m\": 4429, \"Total Test\": 2624193, \"Tests/m\": 4178984, \"Population\": 627950}, {\"#\": 105, \"Country\": \"Algeria\", \"Total Cases\": 270668, \"Total Deaths\": 6879, \"Total Recovered\": 182306, \"Active Cases\": 81483, \"Serious Criticals\": 6, \"Total Cases/m\": 5968, \"Deaths/m\": 152, \"Total Test\": 230861, \"Tests/m\": 5091, \"Population\": 45350148}, {\"#\": 106, \"Country\": \"Nigeria\", \"Total Cases\": 265382, \"Total Deaths\": 3155, \"Total Recovered\": 258381, \"Active Cases\": 3846, \"Serious Criticals\": 11, \"Total Cases/m\": 1224, \"Deaths/m\": 15, \"Total Test\": 5441162, \"Tests/m\": 25104, \"Population\": 216746934}, {\"#\": 107, \"Country\": \"Zimbabwe\", \"Total Cases\": 257409, \"Total Deaths\": 5602, \"Total Recovered\": 251281, \"Active Cases\": 526, \"Serious Criticals\": 12, \"Total Cases/m\": 16790, \"Deaths/m\": 365, \"Total Test\": 2511501, \"Tests/m\": 163814, \"Population\": 15331428}, {\"#\": 108, \"Country\": \"China\", \"Total Cases\": 250449, \"Total Deaths\": 5226, \"Total Recovered\": 242254, \"Active Cases\": 2969, \"Serious Criticals\": 36, \"Total Cases/m\": 173, \"Deaths/m\": 4, \"Total Test\": 160000000, \"Tests/m\": 110461, \"Population\": 1448471400}, {\"#\": 109, \"Country\": \"Uzbekistan\", \"Total Cases\": 244199, \"Total Deaths\": 1637, \"Total Recovered\": 241486, \"Active Cases\": 1076, \"Serious Criticals\": 23, \"Total Cases/m\": 7103, \"Deaths/m\": 48, \"Total Test\": 1377915, \"Tests/m\": 40077, \"Population\": 34382084}, {\"#\": 110, \"Country\": \"Mozambique\", \"Total Cases\": 230219, \"Total Deaths\": 2221, \"Total Recovered\": 227882, \"Active Cases\": 116, \"Serious Criticals\": 11, \"Total Cases/m\": 6957, \"Deaths/m\": 67, \"Total Test\": 1371127, \"Tests/m\": 41437, \"Population\": 33089461}, {\"#\": 111, \"Country\": \"Brunei\", \"Total Cases\": 226237, \"Total Deaths\": 225, \"Total Recovered\": 222140, \"Active Cases\": 3872, \"Serious Criticals\": 3, \"Total Cases/m\": 507906, \"Deaths/m\": 505, \"Total Test\": 717784, \"Tests/m\": 1611437, \"Population\": 445431}, {\"#\": 114, \"Country\": \"Kyrgyzstan\", \"Total Cases\": 206083, \"Total Deaths\": 2991, \"Total Recovered\": 196406, \"Active Cases\": 6686, \"Serious Criticals\": 131, \"Total Cases/m\": 30629, \"Deaths/m\": 445, \"Total Test\": 1907195, \"Tests/m\": 283460, \"Population\": 6728271}, {\"#\": 116, \"Country\": \"El Salvador\", \"Total Cases\": 201785, \"Total Deaths\": 4229, \"Total Recovered\": 179410, \"Active Cases\": 18146, \"Serious Criticals\": 8, \"Total Cases/m\": 30805, \"Deaths/m\": 646, \"Total Test\": 2610114, \"Tests/m\": 398467, \"Population\": 6550389}, {\"#\": 117, \"Country\": \"Afghanistan\", \"Total Cases\": 199067, \"Total Deaths\": 7799, \"Total Recovered\": 177850, \"Active Cases\": 13418, \"Serious Criticals\": 1124, \"Total Cases/m\": 4885, \"Deaths/m\": 191, \"Total Test\": 1103716, \"Tests/m\": 27082, \"Population\": 40754388}, {\"#\": 119, \"Country\": \"Maldives\", \"Total Cases\": 185042, \"Total Deaths\": 308, \"Total Recovered\": 163687, \"Active Cases\": 21047, \"Serious Criticals\": 25, \"Total Cases/m\": 342046, \"Deaths/m\": 569, \"Total Test\": 2213831, \"Tests/m\": 4092223, \"Population\": 540985}, {\"#\": 120, \"Country\": \"Trinidad and Tobago\", \"Total Cases\": 182597, \"Total Deaths\": 4195, \"Total Recovered\": 174214, \"Active Cases\": 4188, \"Serious Criticals\": 18, \"Total Cases/m\": 129816, \"Deaths/m\": 2982, \"Total Test\": 834508, \"Tests/m\": 593287, \"Population\": 1406585}, {\"#\": 121, \"Country\": \"Uganda\", \"Total Cases\": 169396, \"Total Deaths\": 3628, \"Total Recovered\": 100431, \"Active Cases\": 65337, \"Serious Criticals\": 3, \"Total Cases/m\": 3498, \"Deaths/m\": 75, \"Total Test\": 3012408, \"Tests/m\": 62198, \"Population\": 48432863}, {\"#\": 123, \"Country\": \"Ghana\", \"Total Cases\": 169100, \"Total Deaths\": 1459, \"Total Recovered\": 167307, \"Active Cases\": 334, \"Serious Criticals\": 2, \"Total Cases/m\": 5220, \"Deaths/m\": 45, \"Total Test\": 2504017, \"Tests/m\": 77295, \"Population\": 32395450}, {\"#\": 127, \"Country\": \"Cameroon\", \"Total Cases\": 121652, \"Total Deaths\": 1935, \"Total Recovered\": 118616, \"Active Cases\": 1101, \"Serious Criticals\": 13, \"Total Cases/m\": 4358, \"Deaths/m\": 69, \"Total Test\": 1751774, \"Tests/m\": 62762, \"Population\": 27911548}, {\"#\": 128, \"Country\": \"Malta\", \"Total Cases\": 114652, \"Total Deaths\": 806, \"Total Recovered\": 113195, \"Active Cases\": 651, \"Serious Criticals\": 4, \"Total Cases/m\": 258206, \"Deaths/m\": 1815, \"Total Test\": 2060900, \"Tests/m\": 4641322, \"Population\": 444033}, {\"#\": 131, \"Country\": \"French Guiana\", \"Total Cases\": 93974, \"Total Deaths\": 410, \"Total Recovered\": 11254, \"Active Cases\": 82310, \"Serious Criticals\": 3, \"Total Cases/m\": 299119, \"Deaths/m\": 1305, \"Total Test\": 651257, \"Tests/m\": 2072951, \"Population\": 314169}, {\"#\": 135, \"Country\": \"Malawi\", \"Total Cases\": 88024, \"Total Deaths\": 2682, \"Total Recovered\": 84872, \"Active Cases\": 470, \"Serious Criticals\": 67, \"Total Cases/m\": 4362, \"Deaths/m\": 133, \"Total Test\": 616772, \"Tests/m\": 30562, \"Population\": 20180839}, {\"#\": 139, \"Country\": \"New Caledonia\", \"Total Cases\": 74152, \"Total Deaths\": 314, \"Total Recovered\": 73823, \"Active Cases\": 15, \"Serious Criticals\": 9, \"Total Cases/m\": 254892, \"Deaths/m\": 1079, \"Total Test\": 98964, \"Tests/m\": 340182, \"Population\": 290915}, {\"#\": 140, \"Country\": \"Eswatini\", \"Total Cases\": 73390, \"Total Deaths\": 1422, \"Total Recovered\": 71955, \"Active Cases\": 13, \"Serious Criticals\": 11, \"Total Cases/m\": 61942, \"Deaths/m\": 1200, \"Total Test\": 1045903, \"Tests/m\": 882755, \"Population\": 1184817}, {\"#\": 142, \"Country\": \"Belize\", \"Total Cases\": 68826, \"Total Deaths\": 683, \"Total Recovered\": 68079, \"Active Cases\": 64, \"Serious Criticals\": 6, \"Total Cases/m\": 166976, \"Deaths/m\": 1657, \"Total Test\": 576016, \"Tests/m\": 1397453, \"Population\": 412190}, {\"#\": 147, \"Country\": \"Cabo Verde\", \"Total Cases\": 62371, \"Total Deaths\": 410, \"Total Recovered\": 61890, \"Active Cases\": 71, \"Serious Criticals\": 23, \"Total Cases/m\": 109870, \"Deaths/m\": 722, \"Total Test\": 401622, \"Tests/m\": 707482, \"Population\": 567678}, {\"#\": 153, \"Country\": \"Andorra\", \"Total Cases\": 46227, \"Total Deaths\": 155, \"Total Recovered\": 46011, \"Active Cases\": 61, \"Serious Criticals\": 14, \"Total Cases/m\": 596762, \"Deaths/m\": 2001, \"Total Test\": 249838, \"Tests/m\": 3225256, \"Population\": 77463}, {\"#\": 154, \"Country\": \"Cura\\u00e7ao\", \"Total Cases\": 45127, \"Total Deaths\": 282, \"Total Recovered\": 44720, \"Active Cases\": 125, \"Serious Criticals\": 3, \"Total Cases/m\": 272623, \"Deaths/m\": 1704, \"Total Test\": 496693, \"Tests/m\": 3000640, \"Population\": 165529}, {\"#\": 155, \"Country\": \"Papua New Guinea\", \"Total Cases\": 44997, \"Total Deaths\": 668, \"Total Recovered\": 43982, \"Active Cases\": 347, \"Serious Criticals\": 7, \"Total Cases/m\": 4842, \"Deaths/m\": 72, \"Total Test\": 249149, \"Tests/m\": 26813, \"Population\": 9292169}, {\"#\": 156, \"Country\": \"Aruba\", \"Total Cases\": 42914, \"Total Deaths\": 227, \"Total Recovered\": 42438, \"Active Cases\": 249, \"Serious Criticals\": 2, \"Total Cases/m\": 398796, \"Deaths/m\": 2109, \"Total Test\": 177885, \"Tests/m\": 1653068, \"Population\": 107609}, {\"#\": 162, \"Country\": \"Guinea\", \"Total Cases\": 37652, \"Total Deaths\": 449, \"Total Recovered\": 36880, \"Active Cases\": 323, \"Serious Criticals\": 8, \"Total Cases/m\": 2715, \"Deaths/m\": 32, \"Total Test\": 660107, \"Tests/m\": 47607, \"Population\": 13865691}, {\"#\": 163, \"Country\": \"Bahamas\", \"Total Cases\": 37267, \"Total Deaths\": 833, \"Total Recovered\": 36070, \"Active Cases\": 364, \"Serious Criticals\": 2, \"Total Cases/m\": 93047, \"Deaths/m\": 2080, \"Total Test\": 248846, \"Tests/m\": 621314, \"Population\": 400516}, {\"#\": 168, \"Country\": \"Cayman Islands\", \"Total Cases\": 30661, \"Total Deaths\": 32, \"Total Recovered\": 8553, \"Active Cases\": 22076, \"Serious Criticals\": 1, \"Total Cases/m\": 455743, \"Deaths/m\": 476, \"Total Test\": 222773, \"Tests/m\": 3311280, \"Population\": 67277}, {\"#\": 170, \"Country\": \"Benin\", \"Total Cases\": 27638, \"Total Deaths\": 163, \"Total Recovered\": 27322, \"Active Cases\": 153, \"Serious Criticals\": 5, \"Total Cases/m\": 2162, \"Deaths/m\": 13, \"Total Test\": 604310, \"Tests/m\": 47268, \"Population\": 12784726}, {\"#\": 175, \"Country\": \"Solomon Islands\", \"Total Cases\": 21544, \"Total Deaths\": 153, \"Total Recovered\": 16357, \"Active Cases\": 5034, \"Serious Criticals\": 1, \"Total Cases/m\": 29874, \"Deaths/m\": 212, \"Total Test\": 5117, \"Tests/m\": 7096, \"Population\": 721159}, {\"#\": 176, \"Country\": \"San Marino\", \"Total Cases\": 20763, \"Total Deaths\": 118, \"Total Recovered\": 20524, \"Active Cases\": 121, \"Serious Criticals\": 4, \"Total Cases/m\": 609154, \"Deaths/m\": 3462, \"Total Test\": 157634, \"Tests/m\": 4624732, \"Population\": 34085}, {\"#\": 178, \"Country\": \"Liechtenstein\", \"Total Cases\": 19713, \"Total Deaths\": 86, \"Total Recovered\": 19403, \"Active Cases\": 224, \"Serious Criticals\": 2, \"Total Cases/m\": 513533, \"Deaths/m\": 2240, \"Total Test\": 102174, \"Tests/m\": 2661682, \"Population\": 38387}, {\"#\": 179, \"Country\": \"Grenada\", \"Total Cases\": 19536, \"Total Deaths\": 237, \"Total Recovered\": 19248, \"Active Cases\": 51, \"Serious Criticals\": 4, \"Total Cases/m\": 172161, \"Deaths/m\": 2089, \"Total Test\": 179808, \"Tests/m\": 1584560, \"Population\": 113475}, {\"#\": 182, \"Country\": \"South Sudan\", \"Total Cases\": 17823, \"Total Deaths\": 138, \"Total Recovered\": 17335, \"Active Cases\": 350, \"Serious Criticals\": 1, \"Total Cases/m\": 1534, \"Deaths/m\": 12, \"Total Test\": 410280, \"Tests/m\": 35313, \"Population\": 11618511}, {\"#\": 184, \"Country\": \"Equatorial Guinea\", \"Total Cases\": 17012, \"Total Deaths\": 183, \"Total Recovered\": 16690, \"Active Cases\": 139, \"Serious Criticals\": 5, \"Total Cases/m\": 11367, \"Deaths/m\": 122, \"Total Test\": 365697, \"Tests/m\": 244342, \"Population\": 1496662}, {\"#\": 186, \"Country\": \"Samoa\", \"Total Cases\": 15925, \"Total Deaths\": 29, \"Total Recovered\": 1605, \"Active Cases\": 14291, \"Serious Criticals\": 4, \"Total Cases/m\": 78743, \"Deaths/m\": 143, \"Total Test\": 187397, \"Tests/m\": 926612, \"Population\": 202239}, {\"#\": 190, \"Country\": \"CAR\", \"Total Cases\": 14913, \"Total Deaths\": 113, \"Total Recovered\": 14520, \"Active Cases\": 280, \"Serious Criticals\": 2, \"Total Cases/m\": 2973, \"Deaths/m\": 23, \"Total Test\": 81294, \"Tests/m\": 16205, \"Population\": 5016678}, {\"#\": 191, \"Country\": \"Monaco\", \"Total Cases\": 14608, \"Total Deaths\": 63, \"Total Recovered\": 14478, \"Active Cases\": 67, \"Serious Criticals\": 4, \"Total Cases/m\": 367192, \"Deaths/m\": 1584, \"Total Test\": 78646, \"Tests/m\": 1976875, \"Population\": 39783}, {\"#\": 193, \"Country\": \"Saint Martin\", \"Total Cases\": 11978, \"Total Deaths\": 63, \"Total Recovered\": 1399, \"Active Cases\": 10516, \"Serious Criticals\": 7, \"Total Cases/m\": 301485, \"Deaths/m\": 1586, \"Total Test\": 112382, \"Tests/m\": 2828643, \"Population\": 39730}, {\"#\": 194, \"Country\": \"Greenland\", \"Total Cases\": 11971, \"Total Deaths\": 21, \"Total Recovered\": 2761, \"Active Cases\": 9189, \"Serious Criticals\": 4, \"Total Cases/m\": 210117, \"Deaths/m\": 369, \"Total Test\": 164926, \"Tests/m\": 2894810, \"Population\": 56973}, {\"#\": 195, \"Country\": \"Yemen\", \"Total Cases\": 11935, \"Total Deaths\": 2157, \"Total Recovered\": 9124, \"Active Cases\": 654, \"Serious Criticals\": 23, \"Total Cases/m\": 383, \"Deaths/m\": 69, \"Total Test\": 329592, \"Tests/m\": 10579, \"Population\": 31154867}, {\"#\": 198, \"Country\": \"Sint Maarten\", \"Total Cases\": 10863, \"Total Deaths\": 87, \"Total Recovered\": 10773, \"Active Cases\": 3, \"Serious Criticals\": 10, \"Total Cases/m\": 247077, \"Deaths/m\": 1979, \"Total Test\": 62056, \"Tests/m\": 1411454, \"Population\": 43966}, {\"#\": 200, \"Country\": \"Niger\", \"Total Cases\": 9931, \"Total Deaths\": 312, \"Total Recovered\": 8890, \"Active Cases\": 729, \"Serious Criticals\": 1, \"Total Cases/m\": 381, \"Deaths/m\": 12, \"Total Test\": 254538, \"Tests/m\": 9759, \"Population\": 26083660}, {\"#\": 201, \"Country\": \"Micronesia\", \"Total Cases\": 9759, \"Total Deaths\": 29, \"Total Recovered\": 157, \"Active Cases\": 9573, \"Serious Criticals\": 1, \"Total Cases/m\": 83063, \"Deaths/m\": 247, \"Total Test\": 21923, \"Tests/m\": 186596, \"Population\": 117489}, {\"#\": 202, \"Country\": \"Antigua and Barbuda\", \"Total Cases\": 9098, \"Total Deaths\": 146, \"Total Recovered\": 8923, \"Active Cases\": 29, \"Serious Criticals\": 1, \"Total Cases/m\": 91429, \"Deaths/m\": 1467, \"Total Test\": 18901, \"Tests/m\": 189943, \"Population\": 99509}, {\"#\": 203, \"Country\": \"Guinea-Bissau\", \"Total Cases\": 8796, \"Total Deaths\": 175, \"Total Recovered\": 8301, \"Active Cases\": 320, \"Serious Criticals\": 6, \"Total Cases/m\": 4263, \"Deaths/m\": 85, \"Total Test\": 145231, \"Tests/m\": 70385, \"Population\": 2063367}, {\"#\": 205, \"Country\": \"Liberia\", \"Total Cases\": 7961, \"Total Deaths\": 294, \"Total Recovered\": 7636, \"Active Cases\": 31, \"Serious Criticals\": 2, \"Total Cases/m\": 1501, \"Deaths/m\": 55, \"Total Test\": 139824, \"Tests/m\": 26356, \"Population\": 5305117}, {\"#\": 212, \"Country\": \"Turks and Caicos\", \"Total Cases\": 6380, \"Total Deaths\": 36, \"Total Recovered\": 6321, \"Active Cases\": 23, \"Serious Criticals\": 4, \"Total Cases/m\": 160539, \"Deaths/m\": 906, \"Total Test\": 550093, \"Tests/m\": 13841952, \"Population\": 39741}, {\"#\": 214, \"Country\": \"Palau\", \"Total Cases\": 5460, \"Total Deaths\": 6, \"Total Recovered\": 5444, \"Active Cases\": 10, \"Serious Criticals\": 1, \"Total Cases/m\": 299457, \"Deaths/m\": 329, \"Total Test\": 64681, \"Tests/m\": 3547469, \"Population\": 18233}, {\"#\": 217, \"Country\": \"Anguilla\", \"Total Cases\": 3865, \"Total Deaths\": 12, \"Total Recovered\": 3848, \"Active Cases\": 5, \"Serious Criticals\": 4, \"Total Cases/m\": 253775, \"Deaths/m\": 788, \"Total Test\": 51382, \"Tests/m\": 3373736, \"Population\": 15230}, {\"#\": 219, \"Country\": \"Saint Pierre Miquelon\", \"Total Cases\": 3188, \"Total Deaths\": 1, \"Total Recovered\": 2449, \"Active Cases\": 738, \"Serious Criticals\": 1, \"Total Cases/m\": 553568, \"Deaths/m\": 174, \"Total Test\": 24902, \"Tests/m\": 4324015, \"Population\": 5759}]}}, {\"mode\": \"vega-lite\"});\n",
       "</script>"
      ],
      "text/plain": [
       "alt.Chart(...)"
      ]
     },
     "execution_count": 9,
     "metadata": {},
     "output_type": "execute_result"
    }
   ],
   "source": [
    "alt.Chart(df).mark_circle().encode(\n",
    "    x = alt.X(\"Population\",sort=\"ascending\"),\n",
    "    y = alt.Y(\"Total Cases/m\",sort=\"ascending\"),\n",
    "    tooltip = (\"Country\",\"Total Cases\")\n",
    ").interactive()"
   ]
  },
  {
   "cell_type": "markdown",
   "metadata": {
    "cell_id": "3a9ea95c84ac48089f52f5aac16c8db0",
    "deepnote_cell_type": "markdown",
    "tags": []
   },
   "source": [
    "I use selection for showing the details."
   ]
  },
  {
   "cell_type": "code",
   "execution_count": 10,
   "metadata": {
    "cell_id": "1211a94bee9d4794813ca8879db67a67",
    "deepnote_cell_type": "code",
    "deepnote_to_be_reexecuted": false,
    "execution_millis": 52,
    "execution_start": 1670263052714,
    "source_hash": "95a3204a",
    "tags": []
   },
   "outputs": [
    {
     "data": {
      "text/html": [
       "\n",
       "<div id=\"altair-viz-a6e3e0cc90314511ba392f76005e2be5\"></div>\n",
       "<script type=\"text/javascript\">\n",
       "  var VEGA_DEBUG = (typeof VEGA_DEBUG == \"undefined\") ? {} : VEGA_DEBUG;\n",
       "  (function(spec, embedOpt){\n",
       "    let outputDiv = document.currentScript.previousElementSibling;\n",
       "    if (outputDiv.id !== \"altair-viz-a6e3e0cc90314511ba392f76005e2be5\") {\n",
       "      outputDiv = document.getElementById(\"altair-viz-a6e3e0cc90314511ba392f76005e2be5\");\n",
       "    }\n",
       "    const paths = {\n",
       "      \"vega\": \"https://cdn.jsdelivr.net/npm//vega@5?noext\",\n",
       "      \"vega-lib\": \"https://cdn.jsdelivr.net/npm//vega-lib?noext\",\n",
       "      \"vega-lite\": \"https://cdn.jsdelivr.net/npm//vega-lite@4.17.0?noext\",\n",
       "      \"vega-embed\": \"https://cdn.jsdelivr.net/npm//vega-embed@6?noext\",\n",
       "    };\n",
       "\n",
       "    function maybeLoadScript(lib, version) {\n",
       "      var key = `${lib.replace(\"-\", \"\")}_version`;\n",
       "      return (VEGA_DEBUG[key] == version) ?\n",
       "        Promise.resolve(paths[lib]) :\n",
       "        new Promise(function(resolve, reject) {\n",
       "          var s = document.createElement('script');\n",
       "          document.getElementsByTagName(\"head\")[0].appendChild(s);\n",
       "          s.async = true;\n",
       "          s.onload = () => {\n",
       "            VEGA_DEBUG[key] = version;\n",
       "            return resolve(paths[lib]);\n",
       "          };\n",
       "          s.onerror = () => reject(`Error loading script: ${paths[lib]}`);\n",
       "          s.src = paths[lib];\n",
       "        });\n",
       "    }\n",
       "\n",
       "    function showError(err) {\n",
       "      outputDiv.innerHTML = `<div class=\"error\" style=\"color:red;\">${err}</div>`;\n",
       "      throw err;\n",
       "    }\n",
       "\n",
       "    function displayChart(vegaEmbed) {\n",
       "      vegaEmbed(outputDiv, spec, embedOpt)\n",
       "        .catch(err => showError(`Javascript Error: ${err.message}<br>This usually means there's a typo in your chart specification. See the javascript console for the full traceback.`));\n",
       "    }\n",
       "\n",
       "    if(typeof define === \"function\" && define.amd) {\n",
       "      requirejs.config({paths});\n",
       "      require([\"vega-embed\"], displayChart, err => showError(`Error loading script: ${err.message}`));\n",
       "    } else {\n",
       "      maybeLoadScript(\"vega\", \"5\")\n",
       "        .then(() => maybeLoadScript(\"vega-lite\", \"4.17.0\"))\n",
       "        .then(() => maybeLoadScript(\"vega-embed\", \"6\"))\n",
       "        .catch(showError)\n",
       "        .then(() => displayChart(vegaEmbed));\n",
       "    }\n",
       "  })({\"config\": {\"view\": {\"continuousWidth\": 400, \"continuousHeight\": 300}}, \"vconcat\": [{\"mark\": \"circle\", \"encoding\": {\"color\": {\"condition\": {\"value\": \"Black\", \"selection\": \"selector002\"}, \"field\": \"Population\", \"type\": \"quantitative\"}, \"tooltip\": [{\"field\": \"Country\", \"type\": \"nominal\"}, {\"field\": \"Total Cases\", \"type\": \"quantitative\"}], \"x\": {\"field\": \"Population\", \"scale\": {\"domain\": [0, 400000000]}, \"type\": \"quantitative\"}, \"y\": {\"field\": \"Total Cases/m\", \"type\": \"quantitative\"}}, \"selection\": {\"selector002\": {\"type\": \"interval\"}}}, {\"mark\": \"bar\", \"encoding\": {\"color\": {\"field\": \"Country\", \"type\": \"nominal\"}, \"x\": {\"field\": \"Country\", \"type\": \"nominal\"}, \"y\": {\"field\": \"Total Cases/m\", \"type\": \"quantitative\"}}, \"transform\": [{\"filter\": {\"selection\": \"selector002\"}}]}], \"data\": {\"name\": \"data-0f60f6a3a16231733808cb4265150cc4\"}, \"$schema\": \"https://vega.github.io/schema/vega-lite/v4.17.0.json\", \"datasets\": {\"data-0f60f6a3a16231733808cb4265150cc4\": [{\"#\": 1, \"Country\": \"USA\", \"Total Cases\": 98166904, \"Total Deaths\": 1084282, \"Total Recovered\": 94962112, \"Active Cases\": 2120510, \"Serious Criticals\": 2970, \"Total Cases/m\": 293206, \"Deaths/m\": 3239, \"Total Test\": 1118158870, \"Tests/m\": 3339729, \"Population\": 334805269}, {\"#\": 2, \"Country\": \"India\", \"Total Cases\": 44587307, \"Total Deaths\": 528629, \"Total Recovered\": 44019095, \"Active Cases\": 39583, \"Serious Criticals\": 698, \"Total Cases/m\": 31698, \"Deaths/m\": 376, \"Total Test\": 894416853, \"Tests/m\": 635857, \"Population\": 1406631776}, {\"#\": 3, \"Country\": \"France\", \"Total Cases\": 35342950, \"Total Deaths\": 155078, \"Total Recovered\": 34527115, \"Active Cases\": 660757, \"Serious Criticals\": 869, \"Total Cases/m\": 538892, \"Deaths/m\": 2365, \"Total Test\": 271490188, \"Tests/m\": 4139547, \"Population\": 65584518}, {\"#\": 4, \"Country\": \"Brazil\", \"Total Cases\": 34706757, \"Total Deaths\": 686027, \"Total Recovered\": 33838636, \"Active Cases\": 182094, \"Serious Criticals\": 8318, \"Total Cases/m\": 161162, \"Deaths/m\": 3186, \"Total Test\": 63776166, \"Tests/m\": 296146, \"Population\": 215353593}, {\"#\": 5, \"Country\": \"Germany\", \"Total Cases\": 33312373, \"Total Deaths\": 149948, \"Total Recovered\": 32315200, \"Active Cases\": 847225, \"Serious Criticals\": 1406, \"Total Cases/m\": 397126, \"Deaths/m\": 1788, \"Total Test\": 122332384, \"Tests/m\": 1458359, \"Population\": 83883596}, {\"#\": 6, \"Country\": \"S. Korea\", \"Total Cases\": 24769101, \"Total Deaths\": 28406, \"Total Recovered\": 24013461, \"Active Cases\": 727234, \"Serious Criticals\": 352, \"Total Cases/m\": 482547, \"Deaths/m\": 553, \"Total Test\": 15804065, \"Tests/m\": 307892, \"Population\": 51329899}, {\"#\": 7, \"Country\": \"UK\", \"Total Cases\": 23621952, \"Total Deaths\": 189919, \"Total Recovered\": 23347871, \"Active Cases\": 84162, \"Serious Criticals\": 146, \"Total Cases/m\": 344857, \"Deaths/m\": 2773, \"Total Test\": 522526476, \"Tests/m\": 7628357, \"Population\": 68497907}, {\"#\": 8, \"Country\": \"Italy\", \"Total Cases\": 22432803, \"Total Deaths\": 177054, \"Total Recovered\": 21779604, \"Active Cases\": 476145, \"Serious Criticals\": 141, \"Total Cases/m\": 372250, \"Deaths/m\": 2938, \"Total Test\": 246636495, \"Tests/m\": 4092684, \"Population\": 60262770}, {\"#\": 9, \"Country\": \"Japan\", \"Total Cases\": 21229216, \"Total Deaths\": 44678, \"Total Recovered\": 20380089, \"Active Cases\": 804449, \"Serious Criticals\": 204, \"Total Cases/m\": 169043, \"Deaths/m\": 356, \"Total Test\": 76201407, \"Tests/m\": 606772, \"Population\": 125584838}, {\"#\": 10, \"Country\": \"Russia\", \"Total Cases\": 20948470, \"Total Deaths\": 387163, \"Total Recovered\": 19979763, \"Active Cases\": 581544, \"Serious Criticals\": 2300, \"Total Cases/m\": 143674, \"Deaths/m\": 2655, \"Total Test\": 273400000, \"Tests/m\": 1875095, \"Population\": 145805947}, {\"#\": 11, \"Country\": \"Turkey\", \"Total Cases\": 16873793, \"Total Deaths\": 101139, \"Total Recovered\": 16754301, \"Active Cases\": 18353, \"Serious Criticals\": 975, \"Total Cases/m\": 197211, \"Deaths/m\": 1182, \"Total Test\": 162743369, \"Tests/m\": 1902052, \"Population\": 85561976}, {\"#\": 12, \"Country\": \"Spain\", \"Total Cases\": 13412263, \"Total Deaths\": 114084, \"Total Recovered\": 13218892, \"Active Cases\": 79287, \"Serious Criticals\": 339, \"Total Cases/m\": 287083, \"Deaths/m\": 2442, \"Total Test\": 471036328, \"Tests/m\": 10082298, \"Population\": 46719142}, {\"#\": 13, \"Country\": \"Vietnam\", \"Total Cases\": 11477886, \"Total Deaths\": 43148, \"Total Recovered\": 10590917, \"Active Cases\": 843821, \"Serious Criticals\": 106, \"Total Cases/m\": 115993, \"Deaths/m\": 436, \"Total Test\": 85826548, \"Tests/m\": 867342, \"Population\": 98953541}, {\"#\": 14, \"Country\": \"Australia\", \"Total Cases\": 10209239, \"Total Deaths\": 14984, \"Total Recovered\": 10133494, \"Active Cases\": 60761, \"Serious Criticals\": 49, \"Total Cases/m\": 391627, \"Deaths/m\": 575, \"Total Test\": 78835048, \"Tests/m\": 3024116, \"Population\": 26068792}, {\"#\": 15, \"Country\": \"Argentina\", \"Total Cases\": 9708420, \"Total Deaths\": 129897, \"Total Recovered\": 9563348, \"Active Cases\": 15175, \"Serious Criticals\": 294, \"Total Cases/m\": 211006, \"Deaths/m\": 2823, \"Total Test\": 35716069, \"Tests/m\": 776264, \"Population\": 46010234}, {\"#\": 16, \"Country\": \"Netherlands\", \"Total Cases\": 8422336, \"Total Deaths\": 22643, \"Total Recovered\": 8362464, \"Active Cases\": 37229, \"Serious Criticals\": 35, \"Total Cases/m\": 489345, \"Deaths/m\": 1316, \"Total Test\": 21107399, \"Tests/m\": 1226358, \"Population\": 17211447}, {\"#\": 17, \"Country\": \"Iran\", \"Total Cases\": 7548320, \"Total Deaths\": 144421, \"Total Recovered\": 7325370, \"Active Cases\": 78529, \"Serious Criticals\": 157, \"Total Cases/m\": 87748, \"Deaths/m\": 1679, \"Total Test\": 54095556, \"Tests/m\": 628851, \"Population\": 86022837}, {\"#\": 18, \"Country\": \"Mexico\", \"Total Cases\": 7084488, \"Total Deaths\": 330065, \"Total Recovered\": 6353953, \"Active Cases\": 400470, \"Serious Criticals\": 4798, \"Total Cases/m\": 53849, \"Deaths/m\": 2509, \"Total Test\": 18393211, \"Tests/m\": 139806, \"Population\": 131562772}, {\"#\": 19, \"Country\": \"Indonesia\", \"Total Cases\": 6429767, \"Total Deaths\": 158093, \"Total Recovered\": 6253317, \"Active Cases\": 18357, \"Serious Criticals\": 2771, \"Total Cases/m\": 23035, \"Deaths/m\": 566, \"Total Test\": 108656989, \"Tests/m\": 389264, \"Population\": 279134505}, {\"#\": 21, \"Country\": \"Colombia\", \"Total Cases\": 6307372, \"Total Deaths\": 141794, \"Total Recovered\": 6134690, \"Active Cases\": 30888, \"Serious Criticals\": 342, \"Total Cases/m\": 122443, \"Deaths/m\": 2753, \"Total Test\": 36572720, \"Tests/m\": 709974, \"Population\": 51512762}, {\"#\": 22, \"Country\": \"Poland\", \"Total Cases\": 6289672, \"Total Deaths\": 117539, \"Total Recovered\": 5335940, \"Active Cases\": 836193, \"Serious Criticals\": 3086, \"Total Cases/m\": 166659, \"Deaths/m\": 3114, \"Total Test\": 37335609, \"Tests/m\": 989290, \"Population\": 37739785}, {\"#\": 23, \"Country\": \"Portugal\", \"Total Cases\": 5490639, \"Total Deaths\": 25024, \"Total Recovered\": 5394788, \"Active Cases\": 70827, \"Serious Criticals\": 61, \"Total Cases/m\": 541453, \"Deaths/m\": 2468, \"Total Test\": 44988307, \"Tests/m\": 4436467, \"Population\": 10140570}, {\"#\": 24, \"Country\": \"Ukraine\", \"Total Cases\": 5177217, \"Total Deaths\": 109206, \"Total Recovered\": 4973554, \"Active Cases\": 94457, \"Serious Criticals\": 177, \"Total Cases/m\": 119865, \"Deaths/m\": 2528, \"Total Test\": 19521252, \"Tests/m\": 451963, \"Population\": 43192122}, {\"#\": 25, \"Country\": \"Austria\", \"Total Cases\": 5118512, \"Total Deaths\": 20738, \"Total Recovered\": 5006572, \"Active Cases\": 91202, \"Serious Criticals\": 47, \"Total Cases/m\": 564539, \"Deaths/m\": 2287, \"Total Test\": 197543761, \"Tests/m\": 21787811, \"Population\": 9066710}, {\"#\": 26, \"Country\": \"Greece\", \"Total Cases\": 4920192, \"Total Deaths\": 33111, \"Total Recovered\": 4836903, \"Active Cases\": 50178, \"Serious Criticals\": 115, \"Total Cases/m\": 476918, \"Deaths/m\": 3209, \"Total Test\": 94139966, \"Tests/m\": 9125063, \"Population\": 10316637}, {\"#\": 27, \"Country\": \"Malaysia\", \"Total Cases\": 4838872, \"Total Deaths\": 36369, \"Total Recovered\": 4777329, \"Active Cases\": 25174, \"Serious Criticals\": 43, \"Total Cases/m\": 145832, \"Deaths/m\": 1096, \"Total Test\": 64604259, \"Tests/m\": 1947021, \"Population\": 33181072}, {\"#\": 29, \"Country\": \"Thailand\", \"Total Cases\": 4681309, \"Total Deaths\": 32767, \"Total Recovered\": 4642083, \"Active Cases\": 6459, \"Serious Criticals\": 1496, \"Total Cases/m\": 66801, \"Deaths/m\": 468, \"Total Test\": 17270775, \"Tests/m\": 246450, \"Population\": 70078203}, {\"#\": 30, \"Country\": \"Israel\", \"Total Cases\": 4661096, \"Total Deaths\": 11698, \"Total Recovered\": 4641394, \"Active Cases\": 8004, \"Serious Criticals\": 101, \"Total Cases/m\": 499796, \"Deaths/m\": 1254, \"Total Test\": 41373364, \"Tests/m\": 4436346, \"Population\": 9326000}, {\"#\": 31, \"Country\": \"Chile\", \"Total Cases\": 4620377, \"Total Deaths\": 61141, \"Total Recovered\": 4540886, \"Active Cases\": 18350, \"Serious Criticals\": 124, \"Total Cases/m\": 240017, \"Deaths/m\": 3176, \"Total Test\": 45128974, \"Tests/m\": 2344339, \"Population\": 19250195}, {\"#\": 32, \"Country\": \"Belgium\", \"Total Cases\": 4533249, \"Total Deaths\": 32659, \"Total Recovered\": 4451569, \"Active Cases\": 49021, \"Serious Criticals\": 48, \"Total Cases/m\": 388511, \"Deaths/m\": 2799, \"Total Test\": 35555508, \"Tests/m\": 3047194, \"Population\": 11668278}, {\"#\": 33, \"Country\": \"Canada\", \"Total Cases\": 4233468, \"Total Deaths\": 44992, \"Total Recovered\": 4131367, \"Active Cases\": 57109, \"Serious Criticals\": 99, \"Total Cases/m\": 110280, \"Deaths/m\": 1172, \"Total Test\": 64928884, \"Tests/m\": 1691366, \"Population\": 38388419}, {\"#\": 34, \"Country\": \"Peru\", \"Total Cases\": 4143085, \"Total Deaths\": 216539, \"Total Recovered\": 3914598, \"Active Cases\": 11948, \"Serious Criticals\": 147, \"Total Cases/m\": 122998, \"Deaths/m\": 6429, \"Total Test\": 35126382, \"Tests/m\": 1042815, \"Population\": 33684208}, {\"#\": 35, \"Country\": \"Czechia\", \"Total Cases\": 4100480, \"Total Deaths\": 41059, \"Total Recovered\": 4035333, \"Active Cases\": 24088, \"Serious Criticals\": 39, \"Total Cases/m\": 381910, \"Deaths/m\": 3824, \"Total Test\": 56212735, \"Tests/m\": 5235528, \"Population\": 10736784}, {\"#\": 36, \"Country\": \"Switzerland\", \"Total Cases\": 4084307, \"Total Deaths\": 14183, \"Total Recovered\": 4012833, \"Active Cases\": 57291, \"Serious Criticals\": 54, \"Total Cases/m\": 465520, \"Deaths/m\": 1617, \"Total Test\": 22318542, \"Tests/m\": 2543819, \"Population\": 8773637}, {\"#\": 37, \"Country\": \"South Africa\", \"Total Cases\": 4018769, \"Total Deaths\": 102185, \"Total Recovered\": 3909265, \"Active Cases\": 7319, \"Serious Criticals\": 192, \"Total Cases/m\": 66146, \"Deaths/m\": 1682, \"Total Test\": 26174429, \"Tests/m\": 430811, \"Population\": 60756135}, {\"#\": 38, \"Country\": \"Philippines\", \"Total Cases\": 3945566, \"Total Deaths\": 62916, \"Total Recovered\": 3854478, \"Active Cases\": 28172, \"Serious Criticals\": 696, \"Total Cases/m\": 35069, \"Deaths/m\": 559, \"Total Test\": 32796350, \"Tests/m\": 291500, \"Population\": 112508994}, {\"#\": 39, \"Country\": \"Romania\", \"Total Cases\": 3267370, \"Total Deaths\": 67016, \"Total Recovered\": 3180124, \"Active Cases\": 20230, \"Serious Criticals\": 123, \"Total Cases/m\": 171684, \"Deaths/m\": 3521, \"Total Test\": 25094131, \"Tests/m\": 1318569, \"Population\": 19031335}, {\"#\": 41, \"Country\": \"Sweden\", \"Total Cases\": 2588441, \"Total Deaths\": 20194, \"Total Recovered\": 2548125, \"Active Cases\": 20122, \"Serious Criticals\": 13, \"Total Cases/m\": 253298, \"Deaths/m\": 1976, \"Total Test\": 18965590, \"Tests/m\": 1855920, \"Population\": 10218971}, {\"#\": 42, \"Country\": \"Iraq\", \"Total Cases\": 2459982, \"Total Deaths\": 25355, \"Total Recovered\": 2433704, \"Active Cases\": 923, \"Serious Criticals\": 21, \"Total Cases/m\": 58342, \"Deaths/m\": 601, \"Total Test\": 19239264, \"Tests/m\": 456286, \"Population\": 42164965}, {\"#\": 43, \"Country\": \"Serbia\", \"Total Cases\": 2359530, \"Total Deaths\": 17000, \"Total Recovered\": 2298536, \"Active Cases\": 43994, \"Serious Criticals\": 33, \"Total Cases/m\": 272683, \"Deaths/m\": 1965, \"Total Test\": 11030499, \"Tests/m\": 1274758, \"Population\": 8653016}, {\"#\": 44, \"Country\": \"Hungary\", \"Total Cases\": 2094142, \"Total Deaths\": 47503, \"Total Recovered\": 2014175, \"Active Cases\": 32464, \"Serious Criticals\": 18, \"Total Cases/m\": 217998, \"Deaths/m\": 4945, \"Total Test\": 11394556, \"Tests/m\": 1186160, \"Population\": 9606259}, {\"#\": 45, \"Country\": \"Bangladesh\", \"Total Cases\": 2024489, \"Total Deaths\": 29362, \"Total Recovered\": 1964501, \"Active Cases\": 30626, \"Serious Criticals\": 1331, \"Total Cases/m\": 12059, \"Deaths/m\": 175, \"Total Test\": 14872260, \"Tests/m\": 88586, \"Population\": 167885689}, {\"#\": 46, \"Country\": \"Singapore\", \"Total Cases\": 1904192, \"Total Deaths\": 1617, \"Total Recovered\": 1821160, \"Active Cases\": 81415, \"Serious Criticals\": 9, \"Total Cases/m\": 320380, \"Deaths/m\": 272, \"Total Test\": 24345019, \"Tests/m\": 4096043, \"Population\": 5943546}, {\"#\": 47, \"Country\": \"Slovakia\", \"Total Cases\": 1843220, \"Total Deaths\": 20455, \"Total Recovered\": 1817938, \"Active Cases\": 4827, \"Serious Criticals\": 22, \"Total Cases/m\": 337574, \"Deaths/m\": 3746, \"Total Test\": 7298163, \"Tests/m\": 1336613, \"Population\": 5460193}, {\"#\": 50, \"Country\": \"Hong Kong\", \"Total Cases\": 1761381, \"Total Deaths\": 10153, \"Total Recovered\": 1469240, \"Active Cases\": 281988, \"Serious Criticals\": 8, \"Total Cases/m\": 231630, \"Deaths/m\": 1335, \"Total Test\": 54352132, \"Tests/m\": 7147553, \"Population\": 7604299}, {\"#\": 51, \"Country\": \"Jordan\", \"Total Cases\": 1746997, \"Total Deaths\": 14122, \"Total Recovered\": 1731007, \"Active Cases\": 1868, \"Serious Criticals\": 59, \"Total Cases/m\": 169597, \"Deaths/m\": 1371, \"Total Test\": 17201885, \"Tests/m\": 1669945, \"Population\": 10300869}, {\"#\": 52, \"Country\": \"Ireland\", \"Total Cases\": 1663653, \"Total Deaths\": 7905, \"Total Recovered\": 1648405, \"Active Cases\": 7343, \"Serious Criticals\": 13, \"Total Cases/m\": 331392, \"Deaths/m\": 1575, \"Total Test\": 12708583, \"Tests/m\": 2531490, \"Population\": 5020199}, {\"#\": 53, \"Country\": \"Pakistan\", \"Total Cases\": 1572598, \"Total Deaths\": 30616, \"Total Recovered\": 1536924, \"Active Cases\": 5058, \"Serious Criticals\": 47, \"Total Cases/m\": 6853, \"Deaths/m\": 133, \"Total Test\": 30477451, \"Tests/m\": 132806, \"Population\": 229488994}, {\"#\": 54, \"Country\": \"Norway\", \"Total Cases\": 1462318, \"Total Deaths\": 4098, \"Total Recovered\": 1457108, \"Active Cases\": 1112, \"Serious Criticals\": 20, \"Total Cases/m\": 265327, \"Deaths/m\": 744, \"Total Test\": 11002430, \"Tests/m\": 1996315, \"Population\": 5511370}, {\"#\": 55, \"Country\": \"Kazakhstan\", \"Total Cases\": 1393468, \"Total Deaths\": 13690, \"Total Recovered\": 1378440, \"Active Cases\": 1338, \"Serious Criticals\": 24, \"Total Cases/m\": 72557, \"Deaths/m\": 713, \"Total Test\": 11575012, \"Tests/m\": 602707, \"Population\": 19205043}, {\"#\": 56, \"Country\": \"Finland\", \"Total Cases\": 1292940, \"Total Deaths\": 5981, \"Total Recovered\": 1263711, \"Active Cases\": 23248, \"Serious Criticals\": 21, \"Total Cases/m\": 232754, \"Deaths/m\": 1077, \"Total Test\": 11505032, \"Tests/m\": 2071128, \"Population\": 5554960}, {\"#\": 57, \"Country\": \"Morocco\", \"Total Cases\": 1264935, \"Total Deaths\": 16278, \"Total Recovered\": 1248543, \"Active Cases\": 114, \"Serious Criticals\": 293, \"Total Cases/m\": 33488, \"Deaths/m\": 431, \"Total Test\": 12577650, \"Tests/m\": 332982, \"Population\": 37772756}, {\"#\": 58, \"Country\": \"Bulgaria\", \"Total Cases\": 1258670, \"Total Deaths\": 37714, \"Total Recovered\": 1211397, \"Active Cases\": 9559, \"Serious Criticals\": 43, \"Total Cases/m\": 183892, \"Deaths/m\": 5510, \"Total Test\": 10559171, \"Tests/m\": 1542702, \"Population\": 6844597}, {\"#\": 59, \"Country\": \"Lithuania\", \"Total Cases\": 1249134, \"Total Deaths\": 9320, \"Total Recovered\": 1216151, \"Active Cases\": 23663, \"Serious Criticals\": 12, \"Total Cases/m\": 469298, \"Deaths/m\": 3502, \"Total Test\": 10174473, \"Tests/m\": 3822535, \"Population\": 2661708}, {\"#\": 60, \"Country\": \"Croatia\", \"Total Cases\": 1231575, \"Total Deaths\": 16902, \"Total Recovered\": 1209524, \"Active Cases\": 5149, \"Serious Criticals\": 10, \"Total Cases/m\": 303397, \"Deaths/m\": 4164, \"Total Test\": 5225875, \"Tests/m\": 1287388, \"Population\": 4059286}, {\"#\": 61, \"Country\": \"Lebanon\", \"Total Cases\": 1215511, \"Total Deaths\": 10674, \"Total Recovered\": 1087587, \"Active Cases\": 117250, \"Serious Criticals\": 74, \"Total Cases/m\": 181831, \"Deaths/m\": 1597, \"Total Test\": 4795578, \"Tests/m\": 717380, \"Population\": 6684849}, {\"#\": 62, \"Country\": \"Slovenia\", \"Total Cases\": 1181073, \"Total Deaths\": 6820, \"Total Recovered\": 1145051, \"Active Cases\": 29202, \"Serious Criticals\": 22, \"Total Cases/m\": 568361, \"Deaths/m\": 3282, \"Total Test\": 2743244, \"Tests/m\": 1320115, \"Population\": 2078034}, {\"#\": 64, \"Country\": \"Guatemala\", \"Total Cases\": 1123465, \"Total Deaths\": 19789, \"Total Recovered\": 1102988, \"Active Cases\": 688, \"Serious Criticals\": 5, \"Total Cases/m\": 60453, \"Deaths/m\": 1065, \"Total Test\": 5884813, \"Tests/m\": 316660, \"Population\": 18584039}, {\"#\": 65, \"Country\": \"Cuba\", \"Total Cases\": 1111179, \"Total Deaths\": 8530, \"Total Recovered\": 1102548, \"Active Cases\": 101, \"Serious Criticals\": 23, \"Total Cases/m\": 98285, \"Deaths/m\": 754, \"Total Test\": 14149157, \"Tests/m\": 1251512, \"Population\": 11305652}, {\"#\": 66, \"Country\": \"Bolivia\", \"Total Cases\": 1108195, \"Total Deaths\": 22234, \"Total Recovered\": 1051789, \"Active Cases\": 34172, \"Serious Criticals\": 220, \"Total Cases/m\": 92406, \"Deaths/m\": 1854, \"Total Test\": 2705422, \"Tests/m\": 225590, \"Population\": 11992656}, {\"#\": 67, \"Country\": \"Costa Rica\", \"Total Cases\": 1072807, \"Total Deaths\": 8913, \"Total Recovered\": 860711, \"Active Cases\": 203183, \"Serious Criticals\": 52, \"Total Cases/m\": 207012, \"Deaths/m\": 1720, \"Total Test\": 4659757, \"Tests/m\": 899158, \"Population\": 5182354}, {\"#\": 69, \"Country\": \"Ecuador\", \"Total Cases\": 1003778, \"Total Deaths\": 35894, \"Total Recovered\": 964320, \"Active Cases\": 3564, \"Serious Criticals\": 759, \"Total Cases/m\": 55416, \"Deaths/m\": 1982, \"Total Test\": 3082403, \"Tests/m\": 170173, \"Population\": 18113361}, {\"#\": 72, \"Country\": \"Panama\", \"Total Cases\": 986866, \"Total Deaths\": 8497, \"Total Recovered\": 976873, \"Active Cases\": 1496, \"Serious Criticals\": 16, \"Total Cases/m\": 221919, \"Deaths/m\": 1911, \"Total Test\": 7062027, \"Tests/m\": 1588056, \"Population\": 4446964}, {\"#\": 73, \"Country\": \"Uruguay\", \"Total Cases\": 985422, \"Total Deaths\": 7485, \"Total Recovered\": 976760, \"Active Cases\": 1177, \"Serious Criticals\": 18, \"Total Cases/m\": 281870, \"Deaths/m\": 2141, \"Total Test\": 6114822, \"Tests/m\": 1749083, \"Population\": 3496016}, {\"#\": 74, \"Country\": \"Mongolia\", \"Total Cases\": 982864, \"Total Deaths\": 2179, \"Total Recovered\": 979439, \"Active Cases\": 1246, \"Serious Criticals\": 192, \"Total Cases/m\": 290954, \"Deaths/m\": 645, \"Total Test\": 4030048, \"Tests/m\": 1193000, \"Population\": 3378078}, {\"#\": 75, \"Country\": \"Latvia\", \"Total Cases\": 929051, \"Total Deaths\": 5990, \"Total Recovered\": 891237, \"Active Cases\": 31824, \"Serious Criticals\": 5, \"Total Cases/m\": 502506, \"Deaths/m\": 3240, \"Total Test\": 7650009, \"Tests/m\": 4137741, \"Population\": 1848837}, {\"#\": 77, \"Country\": \"Saudi Arabia\", \"Total Cases\": 816389, \"Total Deaths\": 9351, \"Total Recovered\": 803546, \"Active Cases\": 3492, \"Serious Criticals\": 32, \"Total Cases/m\": 22776, \"Deaths/m\": 261, \"Total Test\": 44321147, \"Tests/m\": 1236470, \"Population\": 35844909}, {\"#\": 78, \"Country\": \"Paraguay\", \"Total Cases\": 716059, \"Total Deaths\": 19583, \"Total Recovered\": 696110, \"Active Cases\": 366, \"Serious Criticals\": 7, \"Total Cases/m\": 98012, \"Deaths/m\": 2680, \"Total Test\": 2657506, \"Tests/m\": 363751, \"Population\": 7305843}, {\"#\": 79, \"Country\": \"Bahrain\", \"Total Cases\": 680271, \"Total Deaths\": 1520, \"Total Recovered\": 675724, \"Active Cases\": 3027, \"Serious Criticals\": 2, \"Total Cases/m\": 381321, \"Deaths/m\": 852, \"Total Test\": 10376306, \"Tests/m\": 5816370, \"Population\": 1783983}, {\"#\": 81, \"Country\": \"Kuwait\", \"Total Cases\": 658520, \"Total Deaths\": 2563, \"Total Recovered\": 655316, \"Active Cases\": 641, \"Serious Criticals\": 3, \"Total Cases/m\": 150336, \"Deaths/m\": 585, \"Total Test\": 8365279, \"Tests/m\": 1909739, \"Population\": 4380326}, {\"#\": 82, \"Country\": \"Dominican Republic\", \"Total Cases\": 644016, \"Total Deaths\": 4384, \"Total Recovered\": 638911, \"Active Cases\": 721, \"Serious Criticals\": 4, \"Total Cases/m\": 58248, \"Deaths/m\": 397, \"Total Test\": 3657057, \"Tests/m\": 330765, \"Population\": 11056370}, {\"#\": 84, \"Country\": \"Palestine\", \"Total Cases\": 620548, \"Total Deaths\": 5403, \"Total Recovered\": 608749, \"Active Cases\": 6396, \"Serious Criticals\": 17, \"Total Cases/m\": 116087, \"Deaths/m\": 1011, \"Total Test\": 3078533, \"Tests/m\": 575907, \"Population\": 5345541}, {\"#\": 85, \"Country\": \"Estonia\", \"Total Cases\": 601869, \"Total Deaths\": 2681, \"Total Recovered\": 524990, \"Active Cases\": 74198, \"Serious Criticals\": 4, \"Total Cases/m\": 455303, \"Deaths/m\": 2028, \"Total Test\": 3536858, \"Tests/m\": 2675566, \"Population\": 1321910}, {\"#\": 86, \"Country\": \"Moldova\", \"Total Cases\": 589388, \"Total Deaths\": 11844, \"Total Recovered\": 504142, \"Active Cases\": 73402, \"Serious Criticals\": 49, \"Total Cases/m\": 146863, \"Deaths/m\": 2951, \"Total Test\": 3216305, \"Tests/m\": 801437, \"Population\": 4013171}, {\"#\": 87, \"Country\": \"Cyprus\", \"Total Cases\": 585313, \"Total Deaths\": 1180, \"Total Recovered\": 578452, \"Active Cases\": 5681, \"Serious Criticals\": 60, \"Total Cases/m\": 478437, \"Deaths/m\": 965, \"Total Test\": 9640118, \"Tests/m\": 7879860, \"Population\": 1223387}, {\"#\": 88, \"Country\": \"Venezuela\", \"Total Cases\": 544687, \"Total Deaths\": 5814, \"Total Recovered\": 538033, \"Active Cases\": 840, \"Serious Criticals\": 36, \"Total Cases/m\": 18611, \"Deaths/m\": 199, \"Total Test\": 3359014, \"Tests/m\": 114771, \"Population\": 29266991}, {\"#\": 89, \"Country\": \"Egypt\", \"Total Cases\": 515645, \"Total Deaths\": 24613, \"Total Recovered\": 442182, \"Active Cases\": 48850, \"Serious Criticals\": 122, \"Total Cases/m\": 4857, \"Deaths/m\": 232, \"Total Test\": 3693367, \"Tests/m\": 34792, \"Population\": 106156692}, {\"#\": 90, \"Country\": \"Libya\", \"Total Cases\": 506991, \"Total Deaths\": 6437, \"Total Recovered\": 500507, \"Active Cases\": 47, \"Serious Criticals\": 101, \"Total Cases/m\": 72008, \"Deaths/m\": 914, \"Total Test\": 2481983, \"Tests/m\": 352517, \"Population\": 7040745}, {\"#\": 91, \"Country\": \"Ethiopia\", \"Total Cases\": 493563, \"Total Deaths\": 7572, \"Total Recovered\": 471918, \"Active Cases\": 14073, \"Serious Criticals\": 1, \"Total Cases/m\": 4085, \"Deaths/m\": 63, \"Total Test\": 5258807, \"Tests/m\": 43529, \"Population\": 120812698}, {\"#\": 92, \"Country\": \"R\\u00e9union\", \"Total Cases\": 472336, \"Total Deaths\": 893, \"Total Recovered\": 418572, \"Active Cases\": 52871, \"Serious Criticals\": 10, \"Total Cases/m\": 520159, \"Deaths/m\": 983, \"Total Test\": 1603660, \"Tests/m\": 1766027, \"Population\": 908061}, {\"#\": 94, \"Country\": \"Qatar\", \"Total Cases\": 450448, \"Total Deaths\": 682, \"Total Recovered\": 443418, \"Active Cases\": 6348, \"Serious Criticals\": 4, \"Total Cases/m\": 151161, \"Deaths/m\": 229, \"Total Test\": 3951470, \"Tests/m\": 1326034, \"Population\": 2979915}, {\"#\": 97, \"Country\": \"Oman\", \"Total Cases\": 397993, \"Total Deaths\": 4260, \"Total Recovered\": 384669, \"Active Cases\": 9064, \"Serious Criticals\": 2, \"Total Cases/m\": 74755, \"Deaths/m\": 800, \"Total Test\": 25000000, \"Tests/m\": 4695724, \"Population\": 5323993}, {\"#\": 99, \"Country\": \"Kenya\", \"Total Cases\": 338420, \"Total Deaths\": 5678, \"Total Recovered\": 332663, \"Active Cases\": 79, \"Serious Criticals\": 1, \"Total Cases/m\": 6020, \"Deaths/m\": 101, \"Total Test\": 3881967, \"Tests/m\": 69055, \"Population\": 56215221}, {\"#\": 102, \"Country\": \"Botswana\", \"Total Cases\": 326308, \"Total Deaths\": 2789, \"Total Recovered\": 322955, \"Active Cases\": 564, \"Serious Criticals\": 1, \"Total Cases/m\": 133669, \"Deaths/m\": 1142, \"Total Test\": 2026898, \"Tests/m\": 830300, \"Population\": 2441162}, {\"#\": 104, \"Country\": \"Montenegro\", \"Total Cases\": 280002, \"Total Deaths\": 2781, \"Total Recovered\": 276154, \"Active Cases\": 1067, \"Serious Criticals\": 6, \"Total Cases/m\": 445899, \"Deaths/m\": 4429, \"Total Test\": 2624193, \"Tests/m\": 4178984, \"Population\": 627950}, {\"#\": 105, \"Country\": \"Algeria\", \"Total Cases\": 270668, \"Total Deaths\": 6879, \"Total Recovered\": 182306, \"Active Cases\": 81483, \"Serious Criticals\": 6, \"Total Cases/m\": 5968, \"Deaths/m\": 152, \"Total Test\": 230861, \"Tests/m\": 5091, \"Population\": 45350148}, {\"#\": 106, \"Country\": \"Nigeria\", \"Total Cases\": 265382, \"Total Deaths\": 3155, \"Total Recovered\": 258381, \"Active Cases\": 3846, \"Serious Criticals\": 11, \"Total Cases/m\": 1224, \"Deaths/m\": 15, \"Total Test\": 5441162, \"Tests/m\": 25104, \"Population\": 216746934}, {\"#\": 107, \"Country\": \"Zimbabwe\", \"Total Cases\": 257409, \"Total Deaths\": 5602, \"Total Recovered\": 251281, \"Active Cases\": 526, \"Serious Criticals\": 12, \"Total Cases/m\": 16790, \"Deaths/m\": 365, \"Total Test\": 2511501, \"Tests/m\": 163814, \"Population\": 15331428}, {\"#\": 108, \"Country\": \"China\", \"Total Cases\": 250449, \"Total Deaths\": 5226, \"Total Recovered\": 242254, \"Active Cases\": 2969, \"Serious Criticals\": 36, \"Total Cases/m\": 173, \"Deaths/m\": 4, \"Total Test\": 160000000, \"Tests/m\": 110461, \"Population\": 1448471400}, {\"#\": 109, \"Country\": \"Uzbekistan\", \"Total Cases\": 244199, \"Total Deaths\": 1637, \"Total Recovered\": 241486, \"Active Cases\": 1076, \"Serious Criticals\": 23, \"Total Cases/m\": 7103, \"Deaths/m\": 48, \"Total Test\": 1377915, \"Tests/m\": 40077, \"Population\": 34382084}, {\"#\": 110, \"Country\": \"Mozambique\", \"Total Cases\": 230219, \"Total Deaths\": 2221, \"Total Recovered\": 227882, \"Active Cases\": 116, \"Serious Criticals\": 11, \"Total Cases/m\": 6957, \"Deaths/m\": 67, \"Total Test\": 1371127, \"Tests/m\": 41437, \"Population\": 33089461}, {\"#\": 111, \"Country\": \"Brunei\", \"Total Cases\": 226237, \"Total Deaths\": 225, \"Total Recovered\": 222140, \"Active Cases\": 3872, \"Serious Criticals\": 3, \"Total Cases/m\": 507906, \"Deaths/m\": 505, \"Total Test\": 717784, \"Tests/m\": 1611437, \"Population\": 445431}, {\"#\": 114, \"Country\": \"Kyrgyzstan\", \"Total Cases\": 206083, \"Total Deaths\": 2991, \"Total Recovered\": 196406, \"Active Cases\": 6686, \"Serious Criticals\": 131, \"Total Cases/m\": 30629, \"Deaths/m\": 445, \"Total Test\": 1907195, \"Tests/m\": 283460, \"Population\": 6728271}, {\"#\": 116, \"Country\": \"El Salvador\", \"Total Cases\": 201785, \"Total Deaths\": 4229, \"Total Recovered\": 179410, \"Active Cases\": 18146, \"Serious Criticals\": 8, \"Total Cases/m\": 30805, \"Deaths/m\": 646, \"Total Test\": 2610114, \"Tests/m\": 398467, \"Population\": 6550389}, {\"#\": 117, \"Country\": \"Afghanistan\", \"Total Cases\": 199067, \"Total Deaths\": 7799, \"Total Recovered\": 177850, \"Active Cases\": 13418, \"Serious Criticals\": 1124, \"Total Cases/m\": 4885, \"Deaths/m\": 191, \"Total Test\": 1103716, \"Tests/m\": 27082, \"Population\": 40754388}, {\"#\": 119, \"Country\": \"Maldives\", \"Total Cases\": 185042, \"Total Deaths\": 308, \"Total Recovered\": 163687, \"Active Cases\": 21047, \"Serious Criticals\": 25, \"Total Cases/m\": 342046, \"Deaths/m\": 569, \"Total Test\": 2213831, \"Tests/m\": 4092223, \"Population\": 540985}, {\"#\": 120, \"Country\": \"Trinidad and Tobago\", \"Total Cases\": 182597, \"Total Deaths\": 4195, \"Total Recovered\": 174214, \"Active Cases\": 4188, \"Serious Criticals\": 18, \"Total Cases/m\": 129816, \"Deaths/m\": 2982, \"Total Test\": 834508, \"Tests/m\": 593287, \"Population\": 1406585}, {\"#\": 121, \"Country\": \"Uganda\", \"Total Cases\": 169396, \"Total Deaths\": 3628, \"Total Recovered\": 100431, \"Active Cases\": 65337, \"Serious Criticals\": 3, \"Total Cases/m\": 3498, \"Deaths/m\": 75, \"Total Test\": 3012408, \"Tests/m\": 62198, \"Population\": 48432863}, {\"#\": 123, \"Country\": \"Ghana\", \"Total Cases\": 169100, \"Total Deaths\": 1459, \"Total Recovered\": 167307, \"Active Cases\": 334, \"Serious Criticals\": 2, \"Total Cases/m\": 5220, \"Deaths/m\": 45, \"Total Test\": 2504017, \"Tests/m\": 77295, \"Population\": 32395450}, {\"#\": 127, \"Country\": \"Cameroon\", \"Total Cases\": 121652, \"Total Deaths\": 1935, \"Total Recovered\": 118616, \"Active Cases\": 1101, \"Serious Criticals\": 13, \"Total Cases/m\": 4358, \"Deaths/m\": 69, \"Total Test\": 1751774, \"Tests/m\": 62762, \"Population\": 27911548}, {\"#\": 128, \"Country\": \"Malta\", \"Total Cases\": 114652, \"Total Deaths\": 806, \"Total Recovered\": 113195, \"Active Cases\": 651, \"Serious Criticals\": 4, \"Total Cases/m\": 258206, \"Deaths/m\": 1815, \"Total Test\": 2060900, \"Tests/m\": 4641322, \"Population\": 444033}, {\"#\": 131, \"Country\": \"French Guiana\", \"Total Cases\": 93974, \"Total Deaths\": 410, \"Total Recovered\": 11254, \"Active Cases\": 82310, \"Serious Criticals\": 3, \"Total Cases/m\": 299119, \"Deaths/m\": 1305, \"Total Test\": 651257, \"Tests/m\": 2072951, \"Population\": 314169}, {\"#\": 135, \"Country\": \"Malawi\", \"Total Cases\": 88024, \"Total Deaths\": 2682, \"Total Recovered\": 84872, \"Active Cases\": 470, \"Serious Criticals\": 67, \"Total Cases/m\": 4362, \"Deaths/m\": 133, \"Total Test\": 616772, \"Tests/m\": 30562, \"Population\": 20180839}, {\"#\": 139, \"Country\": \"New Caledonia\", \"Total Cases\": 74152, \"Total Deaths\": 314, \"Total Recovered\": 73823, \"Active Cases\": 15, \"Serious Criticals\": 9, \"Total Cases/m\": 254892, \"Deaths/m\": 1079, \"Total Test\": 98964, \"Tests/m\": 340182, \"Population\": 290915}, {\"#\": 140, \"Country\": \"Eswatini\", \"Total Cases\": 73390, \"Total Deaths\": 1422, \"Total Recovered\": 71955, \"Active Cases\": 13, \"Serious Criticals\": 11, \"Total Cases/m\": 61942, \"Deaths/m\": 1200, \"Total Test\": 1045903, \"Tests/m\": 882755, \"Population\": 1184817}, {\"#\": 142, \"Country\": \"Belize\", \"Total Cases\": 68826, \"Total Deaths\": 683, \"Total Recovered\": 68079, \"Active Cases\": 64, \"Serious Criticals\": 6, \"Total Cases/m\": 166976, \"Deaths/m\": 1657, \"Total Test\": 576016, \"Tests/m\": 1397453, \"Population\": 412190}, {\"#\": 147, \"Country\": \"Cabo Verde\", \"Total Cases\": 62371, \"Total Deaths\": 410, \"Total Recovered\": 61890, \"Active Cases\": 71, \"Serious Criticals\": 23, \"Total Cases/m\": 109870, \"Deaths/m\": 722, \"Total Test\": 401622, \"Tests/m\": 707482, \"Population\": 567678}, {\"#\": 153, \"Country\": \"Andorra\", \"Total Cases\": 46227, \"Total Deaths\": 155, \"Total Recovered\": 46011, \"Active Cases\": 61, \"Serious Criticals\": 14, \"Total Cases/m\": 596762, \"Deaths/m\": 2001, \"Total Test\": 249838, \"Tests/m\": 3225256, \"Population\": 77463}, {\"#\": 154, \"Country\": \"Cura\\u00e7ao\", \"Total Cases\": 45127, \"Total Deaths\": 282, \"Total Recovered\": 44720, \"Active Cases\": 125, \"Serious Criticals\": 3, \"Total Cases/m\": 272623, \"Deaths/m\": 1704, \"Total Test\": 496693, \"Tests/m\": 3000640, \"Population\": 165529}, {\"#\": 155, \"Country\": \"Papua New Guinea\", \"Total Cases\": 44997, \"Total Deaths\": 668, \"Total Recovered\": 43982, \"Active Cases\": 347, \"Serious Criticals\": 7, \"Total Cases/m\": 4842, \"Deaths/m\": 72, \"Total Test\": 249149, \"Tests/m\": 26813, \"Population\": 9292169}, {\"#\": 156, \"Country\": \"Aruba\", \"Total Cases\": 42914, \"Total Deaths\": 227, \"Total Recovered\": 42438, \"Active Cases\": 249, \"Serious Criticals\": 2, \"Total Cases/m\": 398796, \"Deaths/m\": 2109, \"Total Test\": 177885, \"Tests/m\": 1653068, \"Population\": 107609}, {\"#\": 162, \"Country\": \"Guinea\", \"Total Cases\": 37652, \"Total Deaths\": 449, \"Total Recovered\": 36880, \"Active Cases\": 323, \"Serious Criticals\": 8, \"Total Cases/m\": 2715, \"Deaths/m\": 32, \"Total Test\": 660107, \"Tests/m\": 47607, \"Population\": 13865691}, {\"#\": 163, \"Country\": \"Bahamas\", \"Total Cases\": 37267, \"Total Deaths\": 833, \"Total Recovered\": 36070, \"Active Cases\": 364, \"Serious Criticals\": 2, \"Total Cases/m\": 93047, \"Deaths/m\": 2080, \"Total Test\": 248846, \"Tests/m\": 621314, \"Population\": 400516}, {\"#\": 168, \"Country\": \"Cayman Islands\", \"Total Cases\": 30661, \"Total Deaths\": 32, \"Total Recovered\": 8553, \"Active Cases\": 22076, \"Serious Criticals\": 1, \"Total Cases/m\": 455743, \"Deaths/m\": 476, \"Total Test\": 222773, \"Tests/m\": 3311280, \"Population\": 67277}, {\"#\": 170, \"Country\": \"Benin\", \"Total Cases\": 27638, \"Total Deaths\": 163, \"Total Recovered\": 27322, \"Active Cases\": 153, \"Serious Criticals\": 5, \"Total Cases/m\": 2162, \"Deaths/m\": 13, \"Total Test\": 604310, \"Tests/m\": 47268, \"Population\": 12784726}, {\"#\": 175, \"Country\": \"Solomon Islands\", \"Total Cases\": 21544, \"Total Deaths\": 153, \"Total Recovered\": 16357, \"Active Cases\": 5034, \"Serious Criticals\": 1, \"Total Cases/m\": 29874, \"Deaths/m\": 212, \"Total Test\": 5117, \"Tests/m\": 7096, \"Population\": 721159}, {\"#\": 176, \"Country\": \"San Marino\", \"Total Cases\": 20763, \"Total Deaths\": 118, \"Total Recovered\": 20524, \"Active Cases\": 121, \"Serious Criticals\": 4, \"Total Cases/m\": 609154, \"Deaths/m\": 3462, \"Total Test\": 157634, \"Tests/m\": 4624732, \"Population\": 34085}, {\"#\": 178, \"Country\": \"Liechtenstein\", \"Total Cases\": 19713, \"Total Deaths\": 86, \"Total Recovered\": 19403, \"Active Cases\": 224, \"Serious Criticals\": 2, \"Total Cases/m\": 513533, \"Deaths/m\": 2240, \"Total Test\": 102174, \"Tests/m\": 2661682, \"Population\": 38387}, {\"#\": 179, \"Country\": \"Grenada\", \"Total Cases\": 19536, \"Total Deaths\": 237, \"Total Recovered\": 19248, \"Active Cases\": 51, \"Serious Criticals\": 4, \"Total Cases/m\": 172161, \"Deaths/m\": 2089, \"Total Test\": 179808, \"Tests/m\": 1584560, \"Population\": 113475}, {\"#\": 182, \"Country\": \"South Sudan\", \"Total Cases\": 17823, \"Total Deaths\": 138, \"Total Recovered\": 17335, \"Active Cases\": 350, \"Serious Criticals\": 1, \"Total Cases/m\": 1534, \"Deaths/m\": 12, \"Total Test\": 410280, \"Tests/m\": 35313, \"Population\": 11618511}, {\"#\": 184, \"Country\": \"Equatorial Guinea\", \"Total Cases\": 17012, \"Total Deaths\": 183, \"Total Recovered\": 16690, \"Active Cases\": 139, \"Serious Criticals\": 5, \"Total Cases/m\": 11367, \"Deaths/m\": 122, \"Total Test\": 365697, \"Tests/m\": 244342, \"Population\": 1496662}, {\"#\": 186, \"Country\": \"Samoa\", \"Total Cases\": 15925, \"Total Deaths\": 29, \"Total Recovered\": 1605, \"Active Cases\": 14291, \"Serious Criticals\": 4, \"Total Cases/m\": 78743, \"Deaths/m\": 143, \"Total Test\": 187397, \"Tests/m\": 926612, \"Population\": 202239}, {\"#\": 190, \"Country\": \"CAR\", \"Total Cases\": 14913, \"Total Deaths\": 113, \"Total Recovered\": 14520, \"Active Cases\": 280, \"Serious Criticals\": 2, \"Total Cases/m\": 2973, \"Deaths/m\": 23, \"Total Test\": 81294, \"Tests/m\": 16205, \"Population\": 5016678}, {\"#\": 191, \"Country\": \"Monaco\", \"Total Cases\": 14608, \"Total Deaths\": 63, \"Total Recovered\": 14478, \"Active Cases\": 67, \"Serious Criticals\": 4, \"Total Cases/m\": 367192, \"Deaths/m\": 1584, \"Total Test\": 78646, \"Tests/m\": 1976875, \"Population\": 39783}, {\"#\": 193, \"Country\": \"Saint Martin\", \"Total Cases\": 11978, \"Total Deaths\": 63, \"Total Recovered\": 1399, \"Active Cases\": 10516, \"Serious Criticals\": 7, \"Total Cases/m\": 301485, \"Deaths/m\": 1586, \"Total Test\": 112382, \"Tests/m\": 2828643, \"Population\": 39730}, {\"#\": 194, \"Country\": \"Greenland\", \"Total Cases\": 11971, \"Total Deaths\": 21, \"Total Recovered\": 2761, \"Active Cases\": 9189, \"Serious Criticals\": 4, \"Total Cases/m\": 210117, \"Deaths/m\": 369, \"Total Test\": 164926, \"Tests/m\": 2894810, \"Population\": 56973}, {\"#\": 195, \"Country\": \"Yemen\", \"Total Cases\": 11935, \"Total Deaths\": 2157, \"Total Recovered\": 9124, \"Active Cases\": 654, \"Serious Criticals\": 23, \"Total Cases/m\": 383, \"Deaths/m\": 69, \"Total Test\": 329592, \"Tests/m\": 10579, \"Population\": 31154867}, {\"#\": 198, \"Country\": \"Sint Maarten\", \"Total Cases\": 10863, \"Total Deaths\": 87, \"Total Recovered\": 10773, \"Active Cases\": 3, \"Serious Criticals\": 10, \"Total Cases/m\": 247077, \"Deaths/m\": 1979, \"Total Test\": 62056, \"Tests/m\": 1411454, \"Population\": 43966}, {\"#\": 200, \"Country\": \"Niger\", \"Total Cases\": 9931, \"Total Deaths\": 312, \"Total Recovered\": 8890, \"Active Cases\": 729, \"Serious Criticals\": 1, \"Total Cases/m\": 381, \"Deaths/m\": 12, \"Total Test\": 254538, \"Tests/m\": 9759, \"Population\": 26083660}, {\"#\": 201, \"Country\": \"Micronesia\", \"Total Cases\": 9759, \"Total Deaths\": 29, \"Total Recovered\": 157, \"Active Cases\": 9573, \"Serious Criticals\": 1, \"Total Cases/m\": 83063, \"Deaths/m\": 247, \"Total Test\": 21923, \"Tests/m\": 186596, \"Population\": 117489}, {\"#\": 202, \"Country\": \"Antigua and Barbuda\", \"Total Cases\": 9098, \"Total Deaths\": 146, \"Total Recovered\": 8923, \"Active Cases\": 29, \"Serious Criticals\": 1, \"Total Cases/m\": 91429, \"Deaths/m\": 1467, \"Total Test\": 18901, \"Tests/m\": 189943, \"Population\": 99509}, {\"#\": 203, \"Country\": \"Guinea-Bissau\", \"Total Cases\": 8796, \"Total Deaths\": 175, \"Total Recovered\": 8301, \"Active Cases\": 320, \"Serious Criticals\": 6, \"Total Cases/m\": 4263, \"Deaths/m\": 85, \"Total Test\": 145231, \"Tests/m\": 70385, \"Population\": 2063367}, {\"#\": 205, \"Country\": \"Liberia\", \"Total Cases\": 7961, \"Total Deaths\": 294, \"Total Recovered\": 7636, \"Active Cases\": 31, \"Serious Criticals\": 2, \"Total Cases/m\": 1501, \"Deaths/m\": 55, \"Total Test\": 139824, \"Tests/m\": 26356, \"Population\": 5305117}, {\"#\": 212, \"Country\": \"Turks and Caicos\", \"Total Cases\": 6380, \"Total Deaths\": 36, \"Total Recovered\": 6321, \"Active Cases\": 23, \"Serious Criticals\": 4, \"Total Cases/m\": 160539, \"Deaths/m\": 906, \"Total Test\": 550093, \"Tests/m\": 13841952, \"Population\": 39741}, {\"#\": 214, \"Country\": \"Palau\", \"Total Cases\": 5460, \"Total Deaths\": 6, \"Total Recovered\": 5444, \"Active Cases\": 10, \"Serious Criticals\": 1, \"Total Cases/m\": 299457, \"Deaths/m\": 329, \"Total Test\": 64681, \"Tests/m\": 3547469, \"Population\": 18233}, {\"#\": 217, \"Country\": \"Anguilla\", \"Total Cases\": 3865, \"Total Deaths\": 12, \"Total Recovered\": 3848, \"Active Cases\": 5, \"Serious Criticals\": 4, \"Total Cases/m\": 253775, \"Deaths/m\": 788, \"Total Test\": 51382, \"Tests/m\": 3373736, \"Population\": 15230}, {\"#\": 219, \"Country\": \"Saint Pierre Miquelon\", \"Total Cases\": 3188, \"Total Deaths\": 1, \"Total Recovered\": 2449, \"Active Cases\": 738, \"Serious Criticals\": 1, \"Total Cases/m\": 553568, \"Deaths/m\": 174, \"Total Test\": 24902, \"Tests/m\": 4324015, \"Population\": 5759}]}}, {\"mode\": \"vega-lite\"});\n",
       "</script>"
      ],
      "text/plain": [
       "alt.VConcatChart(...)"
      ]
     },
     "execution_count": 10,
     "metadata": {},
     "output_type": "execute_result"
    }
   ],
   "source": [
    "sel = alt.selection_interval()\n",
    "\n",
    "c1 = alt.Chart(df).mark_circle().encode(\n",
    "    x =alt.X(\"Population\", scale=alt.Scale(domain=[0,400000000])),\n",
    "    y =\"Total Cases/m\",\n",
    "    tooltip = (\"Country\",\"Total Cases\"),\n",
    "    color = alt.condition(sel, alt.value(\"Black\"), \"Population\")\n",
    ").add_selection(sel)\n",
    "\n",
    "c2 = alt.Chart(df).mark_bar().encode(\n",
    "    x =\"Country\",\n",
    "    y =\"Total Cases/m\", \n",
    "    color =\"Country\"\n",
    ").transform_filter(sel)\n",
    "\n",
    "alt.vconcat(c1,c2) # Can choose a rectangle by mouse to see the datas specifically"
   ]
  },
  {
   "cell_type": "markdown",
   "metadata": {
    "cell_id": "6209380336df420aab3d2c2de5d250ee",
    "deepnote_cell_type": "markdown",
    "tags": []
   },
   "source": [
    "Without considering the outliars (China and India), we could say that it is hard to observe the strong relation between the density of affected patients and the population. Thus, I'd like check whether Test helps in preventing people from affected."
   ]
  },
  {
   "cell_type": "code",
   "execution_count": 11,
   "metadata": {
    "cell_id": "5808edf0d784400d9fe4e76e366a10de",
    "deepnote_cell_type": "code",
    "deepnote_to_be_reexecuted": false,
    "execution_millis": 265,
    "execution_start": 1670263052768,
    "source_hash": "255b2025",
    "tags": []
   },
   "outputs": [
    {
     "data": {
      "text/plain": [
       "<AxesSubplot:xlabel='Tests/m', ylabel='Total Cases/m'>"
      ]
     },
     "execution_count": 11,
     "metadata": {},
     "output_type": "execute_result"
    },
    {
     "data": {
      "image/png": "[encoded data removed]",
      "text/plain": [
       "<Figure size 640x480 with 1 Axes>"
      ]
     },
     "metadata": {
      "image/png": {
       "height": 432,
       "width": 597
      }
     },
     "output_type": "display_data"
    }
   ],
   "source": [
    "sns.scatterplot(\n",
    "    data = df,\n",
    "    x = \"Tests/m\",\n",
    "    y = \"Total Cases/m\"\n",
    ")"
   ]
  },
  {
   "cell_type": "markdown",
   "metadata": {
    "cell_id": "34db27a6ab07438484b4bd27c8770aee",
    "deepnote_cell_type": "markdown",
    "tags": []
   },
   "source": [
    "Surprisingly, a negative relation (which impies tests do prevent people from affected) is not observed here between Tests/m and Total Cases/m."
   ]
  },
  {
   "cell_type": "markdown",
   "metadata": {
    "cell_id": "2c6a7d0470484a828bd613bf988667cd",
    "deepnote_cell_type": "markdown",
    "tags": []
   },
   "source": [
    "## DecisionTreeRegressor"
   ]
  },
  {
   "cell_type": "markdown",
   "metadata": {
    "cell_id": "5d5261b281084a2197c41bbaa7329f10",
    "deepnote_cell_type": "markdown",
    "tags": []
   },
   "source": [
    "Though the relations between other datas and \"Total Tests\" are hard to be observed, I'm going to use machine learning to try to predict the \"Total Tests\" by using other datas as input."
   ]
  },
  {
   "cell_type": "markdown",
   "metadata": {
    "cell_id": "d887755e19fd40669b7e48d14cafc3b0",
    "deepnote_cell_type": "markdown",
    "tags": []
   },
   "source": [
    "For avoiding repeat affection on the prediction result, I will delete some of the inputs which are repeated, for example, \"Total Test\", and \"Tests/m\"."
   ]
  },
  {
   "cell_type": "code",
   "execution_count": 12,
   "metadata": {
    "cell_id": "7d90dcd4ffab428882ae882437419d8c",
    "deepnote_cell_type": "code",
    "deepnote_to_be_reexecuted": false,
    "execution_millis": 3,
    "execution_start": 1670263053035,
    "source_hash": "e49b345",
    "tags": []
   },
   "outputs": [],
   "source": [
    "cols = [i for i in str_col if i[-2:] != \"/m\"]\n",
    "cols = cols[1:] #the first one is \"Total Cases\" (predict result), drop it"
   ]
  },
  {
   "cell_type": "code",
   "execution_count": 13,
   "metadata": {
    "cell_id": "4aa563722c6e401db4d475d659d731fc",
    "deepnote_cell_type": "code",
    "deepnote_to_be_reexecuted": false,
    "execution_millis": 140,
    "execution_start": 1670263053044,
    "source_hash": "6fdc7e5b",
    "tags": []
   },
   "outputs": [],
   "source": [
    "from sklearn.model_selection import train_test_split\n",
    "X = df[cols]\n",
    "y = df[\"Total Cases/m\"]\n",
    "X_train, X_test, y_train, y_test = train_test_split(X, y,train_size=.8,random_state=59547172)"
   ]
  },
  {
   "cell_type": "code",
   "execution_count": 14,
   "metadata": {
    "cell_id": "d2ead8c3ae894f1b89ab4b154296577c",
    "deepnote_cell_type": "code",
    "deepnote_to_be_reexecuted": false,
    "execution_millis": 50,
    "execution_start": 1670263053226,
    "source_hash": "787e05cb",
    "tags": []
   },
   "outputs": [
    {
     "data": {
      "text/plain": [
       "DecisionTreeRegressor()"
      ]
     },
     "execution_count": 14,
     "metadata": {},
     "output_type": "execute_result"
    }
   ],
   "source": [
    "from sklearn.tree import DecisionTreeRegressor\n",
    "reg = DecisionTreeRegressor()\n",
    "reg.fit(X_train, y_train)"
   ]
  },
  {
   "cell_type": "code",
   "execution_count": 15,
   "metadata": {
    "cell_id": "4be9b7531bd34a4699f448c8fef36603",
    "deepnote_cell_type": "code",
    "deepnote_to_be_reexecuted": false,
    "execution_millis": 2,
    "execution_start": 1670263053275,
    "source_hash": "2b61575b",
    "tags": []
   },
   "outputs": [
    {
     "data": {
      "text/plain": [
       "0.33628386401402366"
      ]
     },
     "execution_count": 15,
     "metadata": {},
     "output_type": "execute_result"
    }
   ],
   "source": [
    "reg.score(X_test, y_test) #the predicted result not seems good, might be overfitting"
   ]
  },
  {
   "cell_type": "code",
   "execution_count": 16,
   "metadata": {
    "cell_id": "f5aacb92e01946418547ff8b95953af5",
    "deepnote_cell_type": "code",
    "deepnote_to_be_reexecuted": false,
    "execution_millis": 4,
    "execution_start": 1670263053294,
    "source_hash": "9fe5725c",
    "tags": []
   },
   "outputs": [
    {
     "data": {
      "text/plain": [
       "1.0"
      ]
     },
     "execution_count": 16,
     "metadata": {},
     "output_type": "execute_result"
    }
   ],
   "source": [
    "reg.score(X_train, y_train) # 1.0 implies there is overfitting"
   ]
  },
  {
   "cell_type": "markdown",
   "metadata": {
    "cell_id": "279adeeefe7043c69d2790b8beec1e56",
    "deepnote_cell_type": "markdown",
    "tags": []
   },
   "source": [
    "the feature importances seem not really make sense to me"
   ]
  },
  {
   "cell_type": "code",
   "execution_count": 17,
   "metadata": {
    "cell_id": "d87b69fbe03443448aeabe7b3f4d016f",
    "deepnote_cell_type": "code",
    "deepnote_to_be_reexecuted": false,
    "execution_millis": 3,
    "execution_start": 1670263053295,
    "source_hash": "ccefadd4",
    "tags": []
   },
   "outputs": [
    {
     "data": {
      "text/plain": [
       "Total Deaths         0.049213\n",
       "Total Recovered      0.343638\n",
       "Active Cases         0.035992\n",
       "Serious Criticals    0.011876\n",
       "Total Test           0.126348\n",
       "Population           0.432932\n",
       "dtype: float64"
      ]
     },
     "execution_count": 17,
     "metadata": {},
     "output_type": "execute_result"
    }
   ],
   "source": [
    "pd.Series(reg.feature_importances_, index=reg.feature_names_in_)"
   ]
  },
  {
   "cell_type": "markdown",
   "metadata": {
    "cell_id": "6cf980acfa074ca1b6c762c5b7ef4377",
    "deepnote_cell_type": "markdown",
    "tags": []
   },
   "source": [
    "To make sure I use a proper max_leaf_nodes number, I will make a U-shape test error curve first."
   ]
  },
  {
   "cell_type": "code",
   "execution_count": 18,
   "metadata": {
    "cell_id": "cace11b0bc044f98b7f4bd125aa9633d",
    "deepnote_cell_type": "code",
    "deepnote_to_be_reexecuted": false,
    "execution_millis": 0,
    "execution_start": 1670263053296,
    "source_hash": "27aadbd8",
    "tags": []
   },
   "outputs": [],
   "source": [
    "from sklearn.metrics import mean_absolute_error"
   ]
  },
  {
   "cell_type": "code",
   "execution_count": 19,
   "metadata": {
    "cell_id": "05b4da62955148daae73dc48a61c5819",
    "deepnote_cell_type": "code",
    "deepnote_to_be_reexecuted": false,
    "execution_millis": 511,
    "execution_start": 1670263053297,
    "source_hash": "c7d6ebef",
    "tags": []
   },
   "outputs": [],
   "source": [
    "train_dic = {}\n",
    "test_dic = {}\n",
    "\n",
    "for i in range(2,100):\n",
    "    reg = DecisionTreeRegressor(criterion = \"absolute_error\", \n",
    "    max_leaf_nodes = i)\n",
    "    reg.fit(X_train, y_train)\n",
    "    train_dic[i] = mean_absolute_error(y_train, reg.predict(X_train))\n",
    "    test_dic[i] = mean_absolute_error(y_test, reg.predict(X_test))"
   ]
  },
  {
   "cell_type": "code",
   "execution_count": 20,
   "metadata": {
    "cell_id": "6d625d57c65646b0aab091ee9761692f",
    "deepnote_cell_type": "code",
    "deepnote_to_be_reexecuted": false,
    "execution_millis": 4,
    "execution_start": 1670263053813,
    "source_hash": "5149b6fb",
    "tags": []
   },
   "outputs": [],
   "source": [
    "train_loss = pd.Series(train_dic)\n",
    "test_loss = pd.Series(test_dic)\n",
    "train_loss.name = \"train\"\n",
    "test_loss.name = \"test\"\n",
    "df_loss = pd.concat((train_loss, test_loss), axis=1)\n",
    "df_loss.reset_index(inplace=True)\n",
    "df_loss.rename({\"index\": \"max_leaf_nodes\"}, axis=1, inplace=True)\n",
    "df_melted = df_loss.melt(id_vars=\"max_leaf_nodes\", var_name=\"error_type\", value_name=\"loss\")"
   ]
  },
  {
   "cell_type": "markdown",
   "metadata": {
    "cell_id": "97f400cdc4584c3da524c99aa112b03f",
    "deepnote_cell_type": "markdown",
    "tags": []
   },
   "source": [
    "The curve is not typically U-shaped, and the best max_leaf_nodes here I can choose where is not overfitting is 17. (Actually, I also check 37, but the score of train data is .98 versus .70 test score, which implies overfitting, so I just discard 37.)"
   ]
  },
  {
   "cell_type": "code",
   "execution_count": 21,
   "metadata": {
    "cell_id": "20f35349c92a4b8ba16192a3b3eda75b",
    "deepnote_cell_type": "code",
    "deepnote_to_be_reexecuted": false,
    "execution_millis": 5,
    "execution_start": 1670263053862,
    "source_hash": "ac052203",
    "tags": []
   },
   "outputs": [
    {
     "data": {
      "text/html": [
       "\n",
       "<div id=\"altair-viz-bd5120b2694f4da7a902e74a57be243f\"></div>\n",
       "<script type=\"text/javascript\">\n",
       "  var VEGA_DEBUG = (typeof VEGA_DEBUG == \"undefined\") ? {} : VEGA_DEBUG;\n",
       "  (function(spec, embedOpt){\n",
       "    let outputDiv = document.currentScript.previousElementSibling;\n",
       "    if (outputDiv.id !== \"altair-viz-bd5120b2694f4da7a902e74a57be243f\") {\n",
       "      outputDiv = document.getElementById(\"altair-viz-bd5120b2694f4da7a902e74a57be243f\");\n",
       "    }\n",
       "    const paths = {\n",
       "      \"vega\": \"https://cdn.jsdelivr.net/npm//vega@5?noext\",\n",
       "      \"vega-lib\": \"https://cdn.jsdelivr.net/npm//vega-lib?noext\",\n",
       "      \"vega-lite\": \"https://cdn.jsdelivr.net/npm//vega-lite@4.17.0?noext\",\n",
       "      \"vega-embed\": \"https://cdn.jsdelivr.net/npm//vega-embed@6?noext\",\n",
       "    };\n",
       "\n",
       "    function maybeLoadScript(lib, version) {\n",
       "      var key = `${lib.replace(\"-\", \"\")}_version`;\n",
       "      return (VEGA_DEBUG[key] == version) ?\n",
       "        Promise.resolve(paths[lib]) :\n",
       "        new Promise(function(resolve, reject) {\n",
       "          var s = document.createElement('script');\n",
       "          document.getElementsByTagName(\"head\")[0].appendChild(s);\n",
       "          s.async = true;\n",
       "          s.onload = () => {\n",
       "            VEGA_DEBUG[key] = version;\n",
       "            return resolve(paths[lib]);\n",
       "          };\n",
       "          s.onerror = () => reject(`Error loading script: ${paths[lib]}`);\n",
       "          s.src = paths[lib];\n",
       "        });\n",
       "    }\n",
       "\n",
       "    function showError(err) {\n",
       "      outputDiv.innerHTML = `<div class=\"error\" style=\"color:red;\">${err}</div>`;\n",
       "      throw err;\n",
       "    }\n",
       "\n",
       "    function displayChart(vegaEmbed) {\n",
       "      vegaEmbed(outputDiv, spec, embedOpt)\n",
       "        .catch(err => showError(`Javascript Error: ${err.message}<br>This usually means there's a typo in your chart specification. See the javascript console for the full traceback.`));\n",
       "    }\n",
       "\n",
       "    if(typeof define === \"function\" && define.amd) {\n",
       "      requirejs.config({paths});\n",
       "      require([\"vega-embed\"], displayChart, err => showError(`Error loading script: ${err.message}`));\n",
       "    } else {\n",
       "      maybeLoadScript(\"vega\", \"5\")\n",
       "        .then(() => maybeLoadScript(\"vega-lite\", \"4.17.0\"))\n",
       "        .then(() => maybeLoadScript(\"vega-embed\", \"6\"))\n",
       "        .catch(showError)\n",
       "        .then(() => displayChart(vegaEmbed));\n",
       "    }\n",
       "  })({\"config\": {\"view\": {\"continuousWidth\": 400, \"continuousHeight\": 300}}, \"data\": {\"name\": \"data-3274ac83080fbaaee50b5923f8340960\"}, \"mark\": \"line\", \"encoding\": {\"color\": {\"field\": \"error_type\", \"type\": \"nominal\"}, \"tooltip\": {\"field\": \"max_leaf_nodes\", \"type\": \"quantitative\"}, \"x\": {\"field\": \"max_leaf_nodes\", \"type\": \"quantitative\"}, \"y\": {\"field\": \"loss\", \"type\": \"quantitative\"}}, \"$schema\": \"https://vega.github.io/schema/vega-lite/v4.17.0.json\", \"datasets\": {\"data-3274ac83080fbaaee50b5923f8340960\": [{\"max_leaf_nodes\": 2, \"error_type\": \"train\", \"loss\": 122475.87155963303}, {\"max_leaf_nodes\": 3, \"error_type\": \"train\", \"loss\": 106456.67889908257}, {\"max_leaf_nodes\": 4, \"error_type\": \"train\", \"loss\": 98497.57798165138}, {\"max_leaf_nodes\": 5, \"error_type\": \"train\", \"loss\": 91478.41284403669}, {\"max_leaf_nodes\": 6, \"error_type\": \"train\", \"loss\": 85884.37614678899}, {\"max_leaf_nodes\": 7, \"error_type\": \"train\", \"loss\": 81122.20183486238}, {\"max_leaf_nodes\": 8, \"error_type\": \"train\", \"loss\": 72630.25688073394}, {\"max_leaf_nodes\": 9, \"error_type\": \"train\", \"loss\": 67567.63302752294}, {\"max_leaf_nodes\": 10, \"error_type\": \"train\", \"loss\": 61278.449541284404}, {\"max_leaf_nodes\": 11, \"error_type\": \"train\", \"loss\": 56896.31192660551}, {\"max_leaf_nodes\": 12, \"error_type\": \"train\", \"loss\": 53332.37614678899}, {\"max_leaf_nodes\": 13, \"error_type\": \"train\", \"loss\": 49898.10091743119}, {\"max_leaf_nodes\": 14, \"error_type\": \"train\", \"loss\": 47397.119266055044}, {\"max_leaf_nodes\": 15, \"error_type\": \"train\", \"loss\": 45016.45871559633}, {\"max_leaf_nodes\": 16, \"error_type\": \"train\", \"loss\": 42653.33027522936}, {\"max_leaf_nodes\": 17, \"error_type\": \"train\", \"loss\": 40318.935779816515}, {\"max_leaf_nodes\": 18, \"error_type\": \"train\", \"loss\": 36682.0}, {\"max_leaf_nodes\": 19, \"error_type\": \"train\", \"loss\": 34729.91743119266}, {\"max_leaf_nodes\": 20, \"error_type\": \"train\", \"loss\": 32913.71559633027}, {\"max_leaf_nodes\": 21, \"error_type\": \"train\", \"loss\": 31338.770642201835}, {\"max_leaf_nodes\": 22, \"error_type\": \"train\", \"loss\": 29773.963302752294}, {\"max_leaf_nodes\": 23, \"error_type\": \"train\", \"loss\": 28245.1376146789}, {\"max_leaf_nodes\": 24, \"error_type\": \"train\", \"loss\": 26726.669724770643}, {\"max_leaf_nodes\": 25, \"error_type\": \"train\", \"loss\": 25311.45871559633}, {\"max_leaf_nodes\": 26, \"error_type\": \"train\", \"loss\": 23968.880733944956}, {\"max_leaf_nodes\": 27, \"error_type\": \"train\", \"loss\": 22803.24770642202}, {\"max_leaf_nodes\": 28, \"error_type\": \"train\", \"loss\": 21700.935779816515}, {\"max_leaf_nodes\": 29, \"error_type\": \"train\", \"loss\": 20703.633027522937}, {\"max_leaf_nodes\": 30, \"error_type\": \"train\", \"loss\": 19791.633027522937}, {\"max_leaf_nodes\": 31, \"error_type\": \"train\", \"loss\": 18569.064220183485}, {\"max_leaf_nodes\": 32, \"error_type\": \"train\", \"loss\": 17688.376146788993}, {\"max_leaf_nodes\": 33, \"error_type\": \"train\", \"loss\": 16820.770642201835}, {\"max_leaf_nodes\": 34, \"error_type\": \"train\", \"loss\": 15958.055045871559}, {\"max_leaf_nodes\": 35, \"error_type\": \"train\", \"loss\": 15108.137614678899}, {\"max_leaf_nodes\": 36, \"error_type\": \"train\", \"loss\": 14301.009174311926}, {\"max_leaf_nodes\": 37, \"error_type\": \"train\", \"loss\": 13497.146788990825}, {\"max_leaf_nodes\": 38, \"error_type\": \"train\", \"loss\": 12715.798165137614}, {\"max_leaf_nodes\": 39, \"error_type\": \"train\", \"loss\": 12081.761467889908}, {\"max_leaf_nodes\": 40, \"error_type\": \"train\", \"loss\": 11453.56880733945}, {\"max_leaf_nodes\": 41, \"error_type\": \"train\", \"loss\": 10867.642201834862}, {\"max_leaf_nodes\": 42, \"error_type\": \"train\", \"loss\": 10316.844036697248}, {\"max_leaf_nodes\": 43, \"error_type\": \"train\", \"loss\": 9792.935779816513}, {\"max_leaf_nodes\": 44, \"error_type\": \"train\", \"loss\": 9301.770642201835}, {\"max_leaf_nodes\": 45, \"error_type\": \"train\", \"loss\": 8892.91743119266}, {\"max_leaf_nodes\": 46, \"error_type\": \"train\", \"loss\": 8486.064220183487}, {\"max_leaf_nodes\": 47, \"error_type\": \"train\", \"loss\": 8080.412844036698}, {\"max_leaf_nodes\": 48, \"error_type\": \"train\", \"loss\": 7708.293577981652}, {\"max_leaf_nodes\": 49, \"error_type\": \"train\", \"loss\": 7341.844036697248}, {\"max_leaf_nodes\": 50, \"error_type\": \"train\", \"loss\": 6987.642201834862}, {\"max_leaf_nodes\": 51, \"error_type\": \"train\", \"loss\": 6647.0091743119265}, {\"max_leaf_nodes\": 52, \"error_type\": \"train\", \"loss\": 5822.018348623853}, {\"max_leaf_nodes\": 53, \"error_type\": \"train\", \"loss\": 5494.8899082568805}, {\"max_leaf_nodes\": 54, \"error_type\": \"train\", \"loss\": 5168.59633027523}, {\"max_leaf_nodes\": 55, \"error_type\": \"train\", \"loss\": 4856.082568807339}, {\"max_leaf_nodes\": 56, \"error_type\": \"train\", \"loss\": 4566.137614678899}, {\"max_leaf_nodes\": 57, \"error_type\": \"train\", \"loss\": 4283.788990825688}, {\"max_leaf_nodes\": 58, \"error_type\": \"train\", \"loss\": 4032.4770642201834}, {\"max_leaf_nodes\": 59, \"error_type\": \"train\", \"loss\": 3804.256880733945}, {\"max_leaf_nodes\": 60, \"error_type\": \"train\", \"loss\": 3576.238532110092}, {\"max_leaf_nodes\": 61, \"error_type\": \"train\", \"loss\": 3364.1284403669724}, {\"max_leaf_nodes\": 62, \"error_type\": \"train\", \"loss\": 3153.02752293578}, {\"max_leaf_nodes\": 63, \"error_type\": \"train\", \"loss\": 2943.137614678899}, {\"max_leaf_nodes\": 64, \"error_type\": \"train\", \"loss\": 2744.348623853211}, {\"max_leaf_nodes\": 65, \"error_type\": \"train\", \"loss\": 2566.5045871559632}, {\"max_leaf_nodes\": 66, \"error_type\": \"train\", \"loss\": 2410.697247706422}, {\"max_leaf_nodes\": 67, \"error_type\": \"train\", \"loss\": 2258.9266055045873}, {\"max_leaf_nodes\": 68, \"error_type\": \"train\", \"loss\": 2127.7798165137615}, {\"max_leaf_nodes\": 69, \"error_type\": \"train\", \"loss\": 2001.5963302752293}, {\"max_leaf_nodes\": 70, \"error_type\": \"train\", \"loss\": 1878.1376146788991}, {\"max_leaf_nodes\": 71, \"error_type\": \"train\", \"loss\": 1671.4220183486239}, {\"max_leaf_nodes\": 72, \"error_type\": \"train\", \"loss\": 1552.5963302752293}, {\"max_leaf_nodes\": 73, \"error_type\": \"train\", \"loss\": 1443.8073394495414}, {\"max_leaf_nodes\": 74, \"error_type\": \"train\", \"loss\": 1337.1834862385322}, {\"max_leaf_nodes\": 75, \"error_type\": \"train\", \"loss\": 1232.6146788990825}, {\"max_leaf_nodes\": 76, \"error_type\": \"train\", \"loss\": 1131.5871559633028}, {\"max_leaf_nodes\": 77, \"error_type\": \"train\", \"loss\": 1039.2385321100917}, {\"max_leaf_nodes\": 78, \"error_type\": \"train\", \"loss\": 952.9633027522935}, {\"max_leaf_nodes\": 79, \"error_type\": \"train\", \"loss\": 869.1192660550458}, {\"max_leaf_nodes\": 80, \"error_type\": \"train\", \"loss\": 797.5229357798165}, {\"max_leaf_nodes\": 81, \"error_type\": \"train\", \"loss\": 727.4770642201835}, {\"max_leaf_nodes\": 82, \"error_type\": \"train\", \"loss\": 618.256880733945}, {\"max_leaf_nodes\": 83, \"error_type\": \"train\", \"loss\": 551.0825688073395}, {\"max_leaf_nodes\": 84, \"error_type\": \"train\", \"loss\": 488.7155963302752}, {\"max_leaf_nodes\": 85, \"error_type\": \"train\", \"loss\": 436.302752293578}, {\"max_leaf_nodes\": 86, \"error_type\": \"train\", \"loss\": 385.8715596330275}, {\"max_leaf_nodes\": 87, \"error_type\": \"train\", \"loss\": 338.11009174311926}, {\"max_leaf_nodes\": 88, \"error_type\": \"train\", \"loss\": 292.5596330275229}, {\"max_leaf_nodes\": 89, \"error_type\": \"train\", \"loss\": 252.92660550458714}, {\"max_leaf_nodes\": 90, \"error_type\": \"train\", \"loss\": 224.1834862385321}, {\"max_leaf_nodes\": 91, \"error_type\": \"train\", \"loss\": 196.69724770642202}, {\"max_leaf_nodes\": 92, \"error_type\": \"train\", \"loss\": 169.85321100917432}, {\"max_leaf_nodes\": 93, \"error_type\": \"train\", \"loss\": 147.9816513761468}, {\"max_leaf_nodes\": 94, \"error_type\": \"train\", \"loss\": 126.27522935779817}, {\"max_leaf_nodes\": 95, \"error_type\": \"train\", \"loss\": 106.90825688073394}, {\"max_leaf_nodes\": 96, \"error_type\": \"train\", \"loss\": 89.71559633027523}, {\"max_leaf_nodes\": 97, \"error_type\": \"train\", \"loss\": 76.21100917431193}, {\"max_leaf_nodes\": 98, \"error_type\": \"train\", \"loss\": 64.37614678899082}, {\"max_leaf_nodes\": 99, \"error_type\": \"train\", \"loss\": 53.54128440366973}, {\"max_leaf_nodes\": 2, \"error_type\": \"test\", \"loss\": 133127.64285714287}, {\"max_leaf_nodes\": 3, \"error_type\": \"test\", \"loss\": 117477.42857142857}, {\"max_leaf_nodes\": 4, \"error_type\": \"test\", \"loss\": 108016.01785714286}, {\"max_leaf_nodes\": 5, \"error_type\": \"test\", \"loss\": 103271.16071428571}, {\"max_leaf_nodes\": 6, \"error_type\": \"test\", \"loss\": 105033.875}, {\"max_leaf_nodes\": 7, \"error_type\": \"test\", \"loss\": 107608.21428571429}, {\"max_leaf_nodes\": 8, \"error_type\": \"test\", \"loss\": 100698.14285714286}, {\"max_leaf_nodes\": 9, \"error_type\": \"test\", \"loss\": 95395.57142857143}, {\"max_leaf_nodes\": 10, \"error_type\": \"test\", \"loss\": 89317.75}, {\"max_leaf_nodes\": 11, \"error_type\": \"test\", \"loss\": 86088.46428571429}, {\"max_leaf_nodes\": 12, \"error_type\": \"test\", \"loss\": 88647.5}, {\"max_leaf_nodes\": 13, \"error_type\": \"test\", \"loss\": 81888.10714285714}, {\"max_leaf_nodes\": 14, \"error_type\": \"test\", \"loss\": 79093.42857142857}, {\"max_leaf_nodes\": 15, \"error_type\": \"test\", \"loss\": 78014.32142857143}, {\"max_leaf_nodes\": 16, \"error_type\": \"test\", \"loss\": 74280.57142857143}, {\"max_leaf_nodes\": 17, \"error_type\": \"test\", \"loss\": 72691.25}, {\"max_leaf_nodes\": 18, \"error_type\": \"test\", \"loss\": 81124.46428571429}, {\"max_leaf_nodes\": 19, \"error_type\": \"test\", \"loss\": 82404.76785714286}, {\"max_leaf_nodes\": 20, \"error_type\": \"test\", \"loss\": 82969.125}, {\"max_leaf_nodes\": 21, \"error_type\": \"test\", \"loss\": 83693.42857142857}, {\"max_leaf_nodes\": 22, \"error_type\": \"test\", \"loss\": 83693.42857142857}, {\"max_leaf_nodes\": 23, \"error_type\": \"test\", \"loss\": 81280.91071428571}, {\"max_leaf_nodes\": 24, \"error_type\": \"test\", \"loss\": 86488.10714285714}, {\"max_leaf_nodes\": 25, \"error_type\": \"test\", \"loss\": 76838.08928571429}, {\"max_leaf_nodes\": 26, \"error_type\": \"test\", \"loss\": 86610.91071428571}, {\"max_leaf_nodes\": 27, \"error_type\": \"test\", \"loss\": 81101.69642857143}, {\"max_leaf_nodes\": 28, \"error_type\": \"test\", \"loss\": 67976.91071428571}, {\"max_leaf_nodes\": 29, \"error_type\": \"test\", \"loss\": 68808.67857142857}, {\"max_leaf_nodes\": 30, \"error_type\": \"test\", \"loss\": 68798.76785714286}, {\"max_leaf_nodes\": 31, \"error_type\": \"test\", \"loss\": 79755.44642857143}, {\"max_leaf_nodes\": 32, \"error_type\": \"test\", \"loss\": 68115.19642857143}, {\"max_leaf_nodes\": 33, \"error_type\": \"test\", \"loss\": 79755.44642857143}, {\"max_leaf_nodes\": 34, \"error_type\": \"test\", \"loss\": 68236.58928571429}, {\"max_leaf_nodes\": 35, \"error_type\": \"test\", \"loss\": 69052.57142857143}, {\"max_leaf_nodes\": 36, \"error_type\": \"test\", \"loss\": 65553.01785714286}, {\"max_leaf_nodes\": 37, \"error_type\": \"test\", \"loss\": 63166.875}, {\"max_leaf_nodes\": 38, \"error_type\": \"test\", \"loss\": 62704.30357142857}, {\"max_leaf_nodes\": 39, \"error_type\": \"test\", \"loss\": 59909.625}, {\"max_leaf_nodes\": 40, \"error_type\": \"test\", \"loss\": 66117.16071428571}, {\"max_leaf_nodes\": 41, \"error_type\": \"test\", \"loss\": 67470.58928571429}, {\"max_leaf_nodes\": 42, \"error_type\": \"test\", \"loss\": 67021.92857142857}, {\"max_leaf_nodes\": 43, \"error_type\": \"test\", \"loss\": 76371.14285714286}, {\"max_leaf_nodes\": 44, \"error_type\": \"test\", \"loss\": 68714.0}, {\"max_leaf_nodes\": 45, \"error_type\": \"test\", \"loss\": 69877.51785714286}, {\"max_leaf_nodes\": 46, \"error_type\": \"test\", \"loss\": 83340.73214285714}, {\"max_leaf_nodes\": 47, \"error_type\": \"test\", \"loss\": 74825.08928571429}, {\"max_leaf_nodes\": 48, \"error_type\": \"test\", \"loss\": 74782.83928571429}, {\"max_leaf_nodes\": 49, \"error_type\": \"test\", \"loss\": 78857.33928571429}, {\"max_leaf_nodes\": 50, \"error_type\": \"test\", \"loss\": 79020.53571428571}, {\"max_leaf_nodes\": 51, \"error_type\": \"test\", \"loss\": 70960.92857142857}, {\"max_leaf_nodes\": 52, \"error_type\": \"test\", \"loss\": 72739.58928571429}, {\"max_leaf_nodes\": 53, \"error_type\": \"test\", \"loss\": 82626.64285714286}, {\"max_leaf_nodes\": 54, \"error_type\": \"test\", \"loss\": 76587.03571428571}, {\"max_leaf_nodes\": 55, \"error_type\": \"test\", \"loss\": 71703.83928571429}, {\"max_leaf_nodes\": 56, \"error_type\": \"test\", \"loss\": 74565.85714285714}, {\"max_leaf_nodes\": 57, \"error_type\": \"test\", \"loss\": 57137.96428571428}, {\"max_leaf_nodes\": 58, \"error_type\": \"test\", \"loss\": 77851.32142857143}, {\"max_leaf_nodes\": 59, \"error_type\": \"test\", \"loss\": 73710.42857142857}, {\"max_leaf_nodes\": 60, \"error_type\": \"test\", \"loss\": 77109.42857142857}, {\"max_leaf_nodes\": 61, \"error_type\": \"test\", \"loss\": 66115.94642857143}, {\"max_leaf_nodes\": 62, \"error_type\": \"test\", \"loss\": 70312.76785714286}, {\"max_leaf_nodes\": 63, \"error_type\": \"test\", \"loss\": 61095.71428571428}, {\"max_leaf_nodes\": 64, \"error_type\": \"test\", \"loss\": 74894.85714285714}, {\"max_leaf_nodes\": 65, \"error_type\": \"test\", \"loss\": 82620.96428571429}, {\"max_leaf_nodes\": 66, \"error_type\": \"test\", \"loss\": 77688.98214285714}, {\"max_leaf_nodes\": 67, \"error_type\": \"test\", \"loss\": 71558.28571428571}, {\"max_leaf_nodes\": 68, \"error_type\": \"test\", \"loss\": 74932.69642857143}, {\"max_leaf_nodes\": 69, \"error_type\": \"test\", \"loss\": 78737.96428571429}, {\"max_leaf_nodes\": 70, \"error_type\": \"test\", \"loss\": 81051.60714285714}, {\"max_leaf_nodes\": 71, \"error_type\": \"test\", \"loss\": 72778.30357142857}, {\"max_leaf_nodes\": 72, \"error_type\": \"test\", \"loss\": 77944.28571428571}, {\"max_leaf_nodes\": 73, \"error_type\": \"test\", \"loss\": 62315.17857142857}, {\"max_leaf_nodes\": 74, \"error_type\": \"test\", \"loss\": 82127.07142857143}, {\"max_leaf_nodes\": 75, \"error_type\": \"test\", \"loss\": 65268.142857142855}, {\"max_leaf_nodes\": 76, \"error_type\": \"test\", \"loss\": 64529.75}, {\"max_leaf_nodes\": 77, \"error_type\": \"test\", \"loss\": 77527.55357142857}, {\"max_leaf_nodes\": 78, \"error_type\": \"test\", \"loss\": 80653.03571428571}, {\"max_leaf_nodes\": 79, \"error_type\": \"test\", \"loss\": 74490.07142857143}, {\"max_leaf_nodes\": 80, \"error_type\": \"test\", \"loss\": 75494.35714285714}, {\"max_leaf_nodes\": 81, \"error_type\": \"test\", \"loss\": 61870.732142857145}, {\"max_leaf_nodes\": 82, \"error_type\": \"test\", \"loss\": 78979.83928571429}, {\"max_leaf_nodes\": 83, \"error_type\": \"test\", \"loss\": 66864.66071428571}, {\"max_leaf_nodes\": 84, \"error_type\": \"test\", \"loss\": 66885.42857142857}, {\"max_leaf_nodes\": 85, \"error_type\": \"test\", \"loss\": 75591.39285714286}, {\"max_leaf_nodes\": 86, \"error_type\": \"test\", \"loss\": 79407.08928571429}, {\"max_leaf_nodes\": 87, \"error_type\": \"test\", \"loss\": 79463.01785714286}, {\"max_leaf_nodes\": 88, \"error_type\": \"test\", \"loss\": 59529.53571428572}, {\"max_leaf_nodes\": 89, \"error_type\": \"test\", \"loss\": 61898.232142857145}, {\"max_leaf_nodes\": 90, \"error_type\": \"test\", \"loss\": 82071.125}, {\"max_leaf_nodes\": 91, \"error_type\": \"test\", \"loss\": 80016.21428571429}, {\"max_leaf_nodes\": 92, \"error_type\": \"test\", \"loss\": 61652.0}, {\"max_leaf_nodes\": 93, \"error_type\": \"test\", \"loss\": 61880.5}, {\"max_leaf_nodes\": 94, \"error_type\": \"test\", \"loss\": 84478.46428571429}, {\"max_leaf_nodes\": 95, \"error_type\": \"test\", \"loss\": 70379.94642857143}, {\"max_leaf_nodes\": 96, \"error_type\": \"test\", \"loss\": 60661.91071428572}, {\"max_leaf_nodes\": 97, \"error_type\": \"test\", \"loss\": 78158.08928571429}, {\"max_leaf_nodes\": 98, \"error_type\": \"test\", \"loss\": 74093.03571428571}, {\"max_leaf_nodes\": 99, \"error_type\": \"test\", \"loss\": 85015.33928571429}]}}, {\"mode\": \"vega-lite\"});\n",
       "</script>"
      ],
      "text/plain": [
       "alt.Chart(...)"
      ]
     },
     "execution_count": 21,
     "metadata": {},
     "output_type": "execute_result"
    }
   ],
   "source": [
    "alt.Chart(df_melted).mark_line().encode(\n",
    "    x = \"max_leaf_nodes\",\n",
    "    y = \"loss\",\n",
    "    color = \"error_type\",\n",
    "    tooltip = \"max_leaf_nodes\"\n",
    ")"
   ]
  },
  {
   "cell_type": "markdown",
   "metadata": {
    "cell_id": "1743fc3f9baf494d984094baf998fc69",
    "deepnote_cell_type": "markdown",
    "tags": []
   },
   "source": [
    "Do the DicisionTreeRegressor again."
   ]
  },
  {
   "cell_type": "code",
   "execution_count": 22,
   "metadata": {
    "cell_id": "12a08fe5947c4440b248a5d36d6c3242",
    "deepnote_cell_type": "code",
    "deepnote_to_be_reexecuted": false,
    "execution_millis": 2,
    "execution_start": 1670263053866,
    "source_hash": "4f6cc26d",
    "tags": []
   },
   "outputs": [],
   "source": [
    "reg2 = DecisionTreeRegressor(max_leaf_nodes=17)"
   ]
  },
  {
   "cell_type": "code",
   "execution_count": 23,
   "metadata": {
    "cell_id": "7c4226a9fb944e25abd517a2b786fa48",
    "deepnote_cell_type": "code",
    "deepnote_to_be_reexecuted": false,
    "execution_millis": 21,
    "execution_start": 1670263053871,
    "source_hash": "f3a8d85b",
    "tags": []
   },
   "outputs": [
    {
     "data": {
      "text/plain": [
       "DecisionTreeRegressor(max_leaf_nodes=17)"
      ]
     },
     "execution_count": 23,
     "metadata": {},
     "output_type": "execute_result"
    }
   ],
   "source": [
    "reg2.fit(X_train, y_train)"
   ]
  },
  {
   "cell_type": "code",
   "execution_count": null,
   "metadata": {
    "cell_id": "3ef24285411a4acc9a0677c2b7d8a9c2",
    "deepnote_cell_type": "code",
    "deepnote_to_be_reexecuted": false,
    "execution_millis": 14,
    "execution_start": 1670263053878,
    "source_hash": "5557135",
    "tags": []
   },
   "outputs": [
    {
     "data": {
      "text/plain": [
       "0.6106858707481919"
      ]
     },
     "execution_count": 24,
     "metadata": {},
     "output_type": "execute_result"
    }
   ],
   "source": [
    "reg2.score(X_test, y_test) # the score still not perform well"
   ]
  },
  {
   "cell_type": "markdown",
   "metadata": {
    "cell_id": "e56f24e9d6484f29aaa3887fac01b706",
    "deepnote_cell_type": "markdown",
    "tags": []
   },
   "source": [
    "## RandomForestRegressor"
   ]
  },
  {
   "cell_type": "markdown",
   "metadata": {
    "cell_id": "b84466b017814a5c8ff9f24c5452ae12",
    "deepnote_cell_type": "markdown",
    "tags": []
   },
   "source": [
    "I will use randomforest to make the predict more accurate."
   ]
  },
  {
   "cell_type": "code",
   "execution_count": 26,
   "metadata": {
    "cell_id": "78cb681c0ea54b98b2e7b8bc712ae91d",
    "deepnote_cell_type": "code",
    "deepnote_to_be_reexecuted": false,
    "execution_millis": 54,
    "execution_start": 1670263053890,
    "source_hash": "aea345bb",
    "tags": []
   },
   "outputs": [],
   "source": [
    "from sklearn.ensemble import RandomForestRegressor"
   ]
  },
  {
   "cell_type": "code",
   "execution_count": 27,
   "metadata": {
    "cell_id": "e68e610519444287acaa766a0d7dd7b3",
    "deepnote_cell_type": "code",
    "deepnote_to_be_reexecuted": false,
    "execution_millis": 0,
    "execution_start": 1670263053949,
    "source_hash": "fe46f2e9",
    "tags": []
   },
   "outputs": [],
   "source": [
    "forest_reg = RandomForestRegressor(n_estimators=100, max_leaf_nodes=17)"
   ]
  },
  {
   "cell_type": "code",
   "execution_count": 28,
   "metadata": {
    "cell_id": "6ec405fc28b44ea2a4bc1754c1eb0e11",
    "deepnote_cell_type": "code",
    "deepnote_to_be_reexecuted": false,
    "execution_millis": 46,
    "execution_start": 1670263054014,
    "source_hash": "c8481a7c",
    "tags": []
   },
   "outputs": [
    {
     "data": {
      "text/plain": [
       "RandomForestRegressor(max_leaf_nodes=17)"
      ]
     },
     "execution_count": 28,
     "metadata": {},
     "output_type": "execute_result"
    }
   ],
   "source": [
    "forest_reg.fit(X_train, y_train)"
   ]
  },
  {
   "cell_type": "code",
   "execution_count": 29,
   "metadata": {
    "cell_id": "47000370945c4c87b5a231303783770d",
    "deepnote_cell_type": "code",
    "deepnote_to_be_reexecuted": false,
    "execution_millis": 3,
    "execution_start": 1670263054102,
    "source_hash": "644c45e",
    "tags": []
   },
   "outputs": [
    {
     "data": {
      "text/plain": [
       "0.7140076019321402"
      ]
     },
     "execution_count": 29,
     "metadata": {},
     "output_type": "execute_result"
    }
   ],
   "source": [
    "forest_reg.score(X_test, y_test)"
   ]
  },
  {
   "cell_type": "code",
   "execution_count": 30,
   "metadata": {
    "cell_id": "adbbb02796624a44ad4b46628496809e",
    "deepnote_cell_type": "code",
    "deepnote_to_be_reexecuted": false,
    "execution_millis": 0,
    "execution_start": 1670263054103,
    "source_hash": "badface4",
    "tags": []
   },
   "outputs": [],
   "source": [
    "df[\"pred\"] = forest_reg.predict(df[cols])"
   ]
  },
  {
   "cell_type": "code",
   "execution_count": 31,
   "metadata": {
    "cell_id": "1d72626613bc4dbcbee871e867e88b54",
    "deepnote_cell_type": "code",
    "deepnote_to_be_reexecuted": false,
    "execution_millis": 8,
    "execution_start": 1670263054140,
    "source_hash": "f66e9a79",
    "tags": []
   },
   "outputs": [
    {
     "data": {
      "text/html": [
       "\n",
       "<div id=\"altair-viz-800513b137b7437aa72be69ee76c3fed\"></div>\n",
       "<script type=\"text/javascript\">\n",
       "  var VEGA_DEBUG = (typeof VEGA_DEBUG == \"undefined\") ? {} : VEGA_DEBUG;\n",
       "  (function(spec, embedOpt){\n",
       "    let outputDiv = document.currentScript.previousElementSibling;\n",
       "    if (outputDiv.id !== \"altair-viz-800513b137b7437aa72be69ee76c3fed\") {\n",
       "      outputDiv = document.getElementById(\"altair-viz-800513b137b7437aa72be69ee76c3fed\");\n",
       "    }\n",
       "    const paths = {\n",
       "      \"vega\": \"https://cdn.jsdelivr.net/npm//vega@5?noext\",\n",
       "      \"vega-lib\": \"https://cdn.jsdelivr.net/npm//vega-lib?noext\",\n",
       "      \"vega-lite\": \"https://cdn.jsdelivr.net/npm//vega-lite@4.17.0?noext\",\n",
       "      \"vega-embed\": \"https://cdn.jsdelivr.net/npm//vega-embed@6?noext\",\n",
       "    };\n",
       "\n",
       "    function maybeLoadScript(lib, version) {\n",
       "      var key = `${lib.replace(\"-\", \"\")}_version`;\n",
       "      return (VEGA_DEBUG[key] == version) ?\n",
       "        Promise.resolve(paths[lib]) :\n",
       "        new Promise(function(resolve, reject) {\n",
       "          var s = document.createElement('script');\n",
       "          document.getElementsByTagName(\"head\")[0].appendChild(s);\n",
       "          s.async = true;\n",
       "          s.onload = () => {\n",
       "            VEGA_DEBUG[key] = version;\n",
       "            return resolve(paths[lib]);\n",
       "          };\n",
       "          s.onerror = () => reject(`Error loading script: ${paths[lib]}`);\n",
       "          s.src = paths[lib];\n",
       "        });\n",
       "    }\n",
       "\n",
       "    function showError(err) {\n",
       "      outputDiv.innerHTML = `<div class=\"error\" style=\"color:red;\">${err}</div>`;\n",
       "      throw err;\n",
       "    }\n",
       "\n",
       "    function displayChart(vegaEmbed) {\n",
       "      vegaEmbed(outputDiv, spec, embedOpt)\n",
       "        .catch(err => showError(`Javascript Error: ${err.message}<br>This usually means there's a typo in your chart specification. See the javascript console for the full traceback.`));\n",
       "    }\n",
       "\n",
       "    if(typeof define === \"function\" && define.amd) {\n",
       "      requirejs.config({paths});\n",
       "      require([\"vega-embed\"], displayChart, err => showError(`Error loading script: ${err.message}`));\n",
       "    } else {\n",
       "      maybeLoadScript(\"vega\", \"5\")\n",
       "        .then(() => maybeLoadScript(\"vega-lite\", \"4.17.0\"))\n",
       "        .then(() => maybeLoadScript(\"vega-embed\", \"6\"))\n",
       "        .catch(showError)\n",
       "        .then(() => displayChart(vegaEmbed));\n",
       "    }\n",
       "  })({\"config\": {\"view\": {\"continuousWidth\": 400, \"continuousHeight\": 300}}, \"layer\": [{\"mark\": {\"type\": \"circle\", \"color\": \"black\"}, \"encoding\": {\"tooltip\": {\"field\": \"Country\", \"type\": \"nominal\"}, \"x\": {\"field\": \"Population\", \"scale\": {\"domain\": [0, 400000000]}, \"type\": \"quantitative\"}, \"y\": {\"field\": \"Total Cases\", \"type\": \"quantitative\"}}}, {\"mark\": {\"type\": \"circle\", \"color\": \"red\"}, \"encoding\": {\"x\": {\"field\": \"Population\", \"scale\": {\"domain\": [0, 400000000]}, \"type\": \"quantitative\"}, \"y\": {\"field\": \"pred\", \"type\": \"quantitative\"}}}], \"data\": {\"name\": \"data-32e5d84c19b11c235f573632a6fe3437\"}, \"$schema\": \"https://vega.github.io/schema/vega-lite/v4.17.0.json\", \"datasets\": {\"data-32e5d84c19b11c235f573632a6fe3437\": [{\"#\": 1, \"Country\": \"USA\", \"Total Cases\": 98166904, \"Total Deaths\": 1084282, \"Total Recovered\": 94962112, \"Active Cases\": 2120510, \"Serious Criticals\": 2970, \"Total Cases/m\": 293206, \"Deaths/m\": 3239, \"Total Test\": 1118158870, \"Tests/m\": 3339729, \"Population\": 334805269, \"pred\": 246906.51986817355}, {\"#\": 2, \"Country\": \"India\", \"Total Cases\": 44587307, \"Total Deaths\": 528629, \"Total Recovered\": 44019095, \"Active Cases\": 39583, \"Serious Criticals\": 698, \"Total Cases/m\": 31698, \"Deaths/m\": 376, \"Total Test\": 894416853, \"Tests/m\": 635857, \"Population\": 1406631776, \"pred\": 139244.25653060136}, {\"#\": 3, \"Country\": \"France\", \"Total Cases\": 35342950, \"Total Deaths\": 155078, \"Total Recovered\": 34527115, \"Active Cases\": 660757, \"Serious Criticals\": 869, \"Total Cases/m\": 538892, \"Deaths/m\": 2365, \"Total Test\": 271490188, \"Tests/m\": 4139547, \"Population\": 65584518, \"pred\": 433103.5861428573}, {\"#\": 4, \"Country\": \"Brazil\", \"Total Cases\": 34706757, \"Total Deaths\": 686027, \"Total Recovered\": 33838636, \"Active Cases\": 182094, \"Serious Criticals\": 8318, \"Total Cases/m\": 161162, \"Deaths/m\": 3186, \"Total Test\": 63776166, \"Tests/m\": 296146, \"Population\": 215353593, \"pred\": 179713.49116518203}, {\"#\": 5, \"Country\": \"Germany\", \"Total Cases\": 33312373, \"Total Deaths\": 149948, \"Total Recovered\": 32315200, \"Active Cases\": 847225, \"Serious Criticals\": 1406, \"Total Cases/m\": 397126, \"Deaths/m\": 1788, \"Total Test\": 122332384, \"Tests/m\": 1458359, \"Population\": 83883596, \"pred\": 310796.44157911534}, {\"#\": 6, \"Country\": \"S. Korea\", \"Total Cases\": 24769101, \"Total Deaths\": 28406, \"Total Recovered\": 24013461, \"Active Cases\": 727234, \"Serious Criticals\": 352, \"Total Cases/m\": 482547, \"Deaths/m\": 553, \"Total Test\": 15804065, \"Tests/m\": 307892, \"Population\": 51329899, \"pred\": 407653.61076208274}, {\"#\": 7, \"Country\": \"UK\", \"Total Cases\": 23621952, \"Total Deaths\": 189919, \"Total Recovered\": 23347871, \"Active Cases\": 84162, \"Serious Criticals\": 146, \"Total Cases/m\": 344857, \"Deaths/m\": 2773, \"Total Test\": 522526476, \"Tests/m\": 7628357, \"Population\": 68497907, \"pred\": 332588.66051948053}, {\"#\": 8, \"Country\": \"Italy\", \"Total Cases\": 22432803, \"Total Deaths\": 177054, \"Total Recovered\": 21779604, \"Active Cases\": 476145, \"Serious Criticals\": 141, \"Total Cases/m\": 372250, \"Deaths/m\": 2938, \"Total Test\": 246636495, \"Tests/m\": 4092684, \"Population\": 60262770, \"pred\": 363703.368015332}, {\"#\": 9, \"Country\": \"Japan\", \"Total Cases\": 21229216, \"Total Deaths\": 44678, \"Total Recovered\": 20380089, \"Active Cases\": 804449, \"Serious Criticals\": 204, \"Total Cases/m\": 169043, \"Deaths/m\": 356, \"Total Test\": 76201407, \"Tests/m\": 606772, \"Population\": 125584838, \"pred\": 158529.72486507377}, {\"#\": 10, \"Country\": \"Russia\", \"Total Cases\": 20948470, \"Total Deaths\": 387163, \"Total Recovered\": 19979763, \"Active Cases\": 581544, \"Serious Criticals\": 2300, \"Total Cases/m\": 143674, \"Deaths/m\": 2655, \"Total Test\": 273400000, \"Tests/m\": 1875095, \"Population\": 145805947, \"pred\": 180220.05609945056}, {\"#\": 11, \"Country\": \"Turkey\", \"Total Cases\": 16873793, \"Total Deaths\": 101139, \"Total Recovered\": 16754301, \"Active Cases\": 18353, \"Serious Criticals\": 975, \"Total Cases/m\": 197211, \"Deaths/m\": 1182, \"Total Test\": 162743369, \"Tests/m\": 1902052, \"Population\": 85561976, \"pred\": 159684.19768536327}, {\"#\": 12, \"Country\": \"Spain\", \"Total Cases\": 13412263, \"Total Deaths\": 114084, \"Total Recovered\": 13218892, \"Active Cases\": 79287, \"Serious Criticals\": 339, \"Total Cases/m\": 287083, \"Deaths/m\": 2442, \"Total Test\": 471036328, \"Tests/m\": 10082298, \"Population\": 46719142, \"pred\": 308143.9358891054}, {\"#\": 13, \"Country\": \"Vietnam\", \"Total Cases\": 11477886, \"Total Deaths\": 43148, \"Total Recovered\": 10590917, \"Active Cases\": 843821, \"Serious Criticals\": 106, \"Total Cases/m\": 115993, \"Deaths/m\": 436, \"Total Test\": 85826548, \"Tests/m\": 867342, \"Population\": 98953541, \"pred\": 147790.17713903592}, {\"#\": 14, \"Country\": \"Australia\", \"Total Cases\": 10209239, \"Total Deaths\": 14984, \"Total Recovered\": 10133494, \"Active Cases\": 60761, \"Serious Criticals\": 49, \"Total Cases/m\": 391627, \"Deaths/m\": 575, \"Total Test\": 78835048, \"Tests/m\": 3024116, \"Population\": 26068792, \"pred\": 332736.3226461952}, {\"#\": 15, \"Country\": \"Argentina\", \"Total Cases\": 9708420, \"Total Deaths\": 129897, \"Total Recovered\": 9563348, \"Active Cases\": 15175, \"Serious Criticals\": 294, \"Total Cases/m\": 211006, \"Deaths/m\": 2823, \"Total Test\": 35716069, \"Tests/m\": 776264, \"Population\": 46010234, \"pred\": 192156.23306373082}, {\"#\": 16, \"Country\": \"Netherlands\", \"Total Cases\": 8422336, \"Total Deaths\": 22643, \"Total Recovered\": 8362464, \"Active Cases\": 37229, \"Serious Criticals\": 35, \"Total Cases/m\": 489345, \"Deaths/m\": 1316, \"Total Test\": 21107399, \"Tests/m\": 1226358, \"Population\": 17211447, \"pred\": 364415.04397871584}, {\"#\": 17, \"Country\": \"Iran\", \"Total Cases\": 7548320, \"Total Deaths\": 144421, \"Total Recovered\": 7325370, \"Active Cases\": 78529, \"Serious Criticals\": 157, \"Total Cases/m\": 87748, \"Deaths/m\": 1679, \"Total Test\": 54095556, \"Tests/m\": 628851, \"Population\": 86022837, \"pred\": 106091.36834429885}, {\"#\": 18, \"Country\": \"Mexico\", \"Total Cases\": 7084488, \"Total Deaths\": 330065, \"Total Recovered\": 6353953, \"Active Cases\": 400470, \"Serious Criticals\": 4798, \"Total Cases/m\": 53849, \"Deaths/m\": 2509, \"Total Test\": 18393211, \"Tests/m\": 139806, \"Population\": 131562772, \"pred\": 104616.5350858049}, {\"#\": 19, \"Country\": \"Indonesia\", \"Total Cases\": 6429767, \"Total Deaths\": 158093, \"Total Recovered\": 6253317, \"Active Cases\": 18357, \"Serious Criticals\": 2771, \"Total Cases/m\": 23035, \"Deaths/m\": 566, \"Total Test\": 108656989, \"Tests/m\": 389264, \"Population\": 279134505, \"pred\": 78004.5273544518}, {\"#\": 21, \"Country\": \"Colombia\", \"Total Cases\": 6307372, \"Total Deaths\": 141794, \"Total Recovered\": 6134690, \"Active Cases\": 30888, \"Serious Criticals\": 342, \"Total Cases/m\": 122443, \"Deaths/m\": 2753, \"Total Test\": 36572720, \"Tests/m\": 709974, \"Population\": 51512762, \"pred\": 133362.81893955971}, {\"#\": 22, \"Country\": \"Poland\", \"Total Cases\": 6289672, \"Total Deaths\": 117539, \"Total Recovered\": 5335940, \"Active Cases\": 836193, \"Serious Criticals\": 3086, \"Total Cases/m\": 166659, \"Deaths/m\": 3114, \"Total Test\": 37335609, \"Tests/m\": 989290, \"Population\": 37739785, \"pred\": 156694.55539895254}, {\"#\": 23, \"Country\": \"Portugal\", \"Total Cases\": 5490639, \"Total Deaths\": 25024, \"Total Recovered\": 5394788, \"Active Cases\": 70827, \"Serious Criticals\": 61, \"Total Cases/m\": 541453, \"Deaths/m\": 2468, \"Total Test\": 44988307, \"Tests/m\": 4436467, \"Population\": 10140570, \"pred\": 436206.90938475414}, {\"#\": 24, \"Country\": \"Ukraine\", \"Total Cases\": 5177217, \"Total Deaths\": 109206, \"Total Recovered\": 4973554, \"Active Cases\": 94457, \"Serious Criticals\": 177, \"Total Cases/m\": 119865, \"Deaths/m\": 2528, \"Total Test\": 19521252, \"Tests/m\": 451963, \"Population\": 43192122, \"pred\": 144507.2148958282}, {\"#\": 25, \"Country\": \"Austria\", \"Total Cases\": 5118512, \"Total Deaths\": 20738, \"Total Recovered\": 5006572, \"Active Cases\": 91202, \"Serious Criticals\": 47, \"Total Cases/m\": 564539, \"Deaths/m\": 2287, \"Total Test\": 197543761, \"Tests/m\": 21787811, \"Population\": 9066710, \"pred\": 449797.067254884}, {\"#\": 26, \"Country\": \"Greece\", \"Total Cases\": 4920192, \"Total Deaths\": 33111, \"Total Recovered\": 4836903, \"Active Cases\": 50178, \"Serious Criticals\": 115, \"Total Cases/m\": 476918, \"Deaths/m\": 3209, \"Total Test\": 94139966, \"Tests/m\": 9125063, \"Population\": 10316637, \"pred\": 425284.31633026694}, {\"#\": 27, \"Country\": \"Malaysia\", \"Total Cases\": 4838872, \"Total Deaths\": 36369, \"Total Recovered\": 4777329, \"Active Cases\": 25174, \"Serious Criticals\": 43, \"Total Cases/m\": 145832, \"Deaths/m\": 1096, \"Total Test\": 64604259, \"Tests/m\": 1947021, \"Population\": 33181072, \"pred\": 185248.07761219263}, {\"#\": 29, \"Country\": \"Thailand\", \"Total Cases\": 4681309, \"Total Deaths\": 32767, \"Total Recovered\": 4642083, \"Active Cases\": 6459, \"Serious Criticals\": 1496, \"Total Cases/m\": 66801, \"Deaths/m\": 468, \"Total Test\": 17270775, \"Tests/m\": 246450, \"Population\": 70078203, \"pred\": 109299.6769536436}, {\"#\": 30, \"Country\": \"Israel\", \"Total Cases\": 4661096, \"Total Deaths\": 11698, \"Total Recovered\": 4641394, \"Active Cases\": 8004, \"Serious Criticals\": 101, \"Total Cases/m\": 499796, \"Deaths/m\": 1254, \"Total Test\": 41373364, \"Tests/m\": 4436346, \"Population\": 9326000, \"pred\": 449986.901520202}, {\"#\": 31, \"Country\": \"Chile\", \"Total Cases\": 4620377, \"Total Deaths\": 61141, \"Total Recovered\": 4540886, \"Active Cases\": 18350, \"Serious Criticals\": 124, \"Total Cases/m\": 240017, \"Deaths/m\": 3176, \"Total Test\": 45128974, \"Tests/m\": 2344339, \"Population\": 19250195, \"pred\": 181627.79496863767}, {\"#\": 32, \"Country\": \"Belgium\", \"Total Cases\": 4533249, \"Total Deaths\": 32659, \"Total Recovered\": 4451569, \"Active Cases\": 49021, \"Serious Criticals\": 48, \"Total Cases/m\": 388511, \"Deaths/m\": 2799, \"Total Test\": 35555508, \"Tests/m\": 3047194, \"Population\": 11668278, \"pred\": 336783.7588186357}, {\"#\": 33, \"Country\": \"Canada\", \"Total Cases\": 4233468, \"Total Deaths\": 44992, \"Total Recovered\": 4131367, \"Active Cases\": 57109, \"Serious Criticals\": 99, \"Total Cases/m\": 110280, \"Deaths/m\": 1172, \"Total Test\": 64928884, \"Tests/m\": 1691366, \"Population\": 38388419, \"pred\": 152339.66047317826}, {\"#\": 34, \"Country\": \"Peru\", \"Total Cases\": 4143085, \"Total Deaths\": 216539, \"Total Recovered\": 3914598, \"Active Cases\": 11948, \"Serious Criticals\": 147, \"Total Cases/m\": 122998, \"Deaths/m\": 6429, \"Total Test\": 35126382, \"Tests/m\": 1042815, \"Population\": 33684208, \"pred\": 95765.18162009613}, {\"#\": 35, \"Country\": \"Czechia\", \"Total Cases\": 4100480, \"Total Deaths\": 41059, \"Total Recovered\": 4035333, \"Active Cases\": 24088, \"Serious Criticals\": 39, \"Total Cases/m\": 381910, \"Deaths/m\": 3824, \"Total Test\": 56212735, \"Tests/m\": 5235528, \"Population\": 10736784, \"pred\": 271269.2517477956}, {\"#\": 36, \"Country\": \"Switzerland\", \"Total Cases\": 4084307, \"Total Deaths\": 14183, \"Total Recovered\": 4012833, \"Active Cases\": 57291, \"Serious Criticals\": 54, \"Total Cases/m\": 465520, \"Deaths/m\": 1617, \"Total Test\": 22318542, \"Tests/m\": 2543819, \"Population\": 8773637, \"pred\": 418934.25191938615}, {\"#\": 37, \"Country\": \"South Africa\", \"Total Cases\": 4018769, \"Total Deaths\": 102185, \"Total Recovered\": 3909265, \"Active Cases\": 7319, \"Serious Criticals\": 192, \"Total Cases/m\": 66146, \"Deaths/m\": 1682, \"Total Test\": 26174429, \"Tests/m\": 430811, \"Population\": 60756135, \"pred\": 73650.3639601323}, {\"#\": 38, \"Country\": \"Philippines\", \"Total Cases\": 3945566, \"Total Deaths\": 62916, \"Total Recovered\": 3854478, \"Active Cases\": 28172, \"Serious Criticals\": 696, \"Total Cases/m\": 35069, \"Deaths/m\": 559, \"Total Test\": 32796350, \"Tests/m\": 291500, \"Population\": 112508994, \"pred\": 50103.59530856832}, {\"#\": 39, \"Country\": \"Romania\", \"Total Cases\": 3267370, \"Total Deaths\": 67016, \"Total Recovered\": 3180124, \"Active Cases\": 20230, \"Serious Criticals\": 123, \"Total Cases/m\": 171684, \"Deaths/m\": 3521, \"Total Test\": 25094131, \"Tests/m\": 1318569, \"Population\": 19031335, \"pred\": 98815.73949089985}, {\"#\": 41, \"Country\": \"Sweden\", \"Total Cases\": 2588441, \"Total Deaths\": 20194, \"Total Recovered\": 2548125, \"Active Cases\": 20122, \"Serious Criticals\": 13, \"Total Cases/m\": 253298, \"Deaths/m\": 1976, \"Total Test\": 18965590, \"Tests/m\": 1855920, \"Population\": 10218971, \"pred\": 264527.52129414084}, {\"#\": 42, \"Country\": \"Iraq\", \"Total Cases\": 2459982, \"Total Deaths\": 25355, \"Total Recovered\": 2433704, \"Active Cases\": 923, \"Serious Criticals\": 21, \"Total Cases/m\": 58342, \"Deaths/m\": 601, \"Total Test\": 19239264, \"Tests/m\": 456286, \"Population\": 42164965, \"pred\": 64347.90493554613}, {\"#\": 43, \"Country\": \"Serbia\", \"Total Cases\": 2359530, \"Total Deaths\": 17000, \"Total Recovered\": 2298536, \"Active Cases\": 43994, \"Serious Criticals\": 33, \"Total Cases/m\": 272683, \"Deaths/m\": 1965, \"Total Test\": 11030499, \"Tests/m\": 1274758, \"Population\": 8653016, \"pred\": 292615.5958784663}, {\"#\": 44, \"Country\": \"Hungary\", \"Total Cases\": 2094142, \"Total Deaths\": 47503, \"Total Recovered\": 2014175, \"Active Cases\": 32464, \"Serious Criticals\": 18, \"Total Cases/m\": 217998, \"Deaths/m\": 4945, \"Total Test\": 11394556, \"Tests/m\": 1186160, \"Population\": 9606259, \"pred\": 302044.38249340694}, {\"#\": 45, \"Country\": \"Bangladesh\", \"Total Cases\": 2024489, \"Total Deaths\": 29362, \"Total Recovered\": 1964501, \"Active Cases\": 30626, \"Serious Criticals\": 1331, \"Total Cases/m\": 12059, \"Deaths/m\": 175, \"Total Test\": 14872260, \"Tests/m\": 88586, \"Population\": 167885689, \"pred\": 51398.0427218524}, {\"#\": 46, \"Country\": \"Singapore\", \"Total Cases\": 1904192, \"Total Deaths\": 1617, \"Total Recovered\": 1821160, \"Active Cases\": 81415, \"Serious Criticals\": 9, \"Total Cases/m\": 320380, \"Deaths/m\": 272, \"Total Test\": 24345019, \"Tests/m\": 4096043, \"Population\": 5943546, \"pred\": 293562.5153304865}, {\"#\": 47, \"Country\": \"Slovakia\", \"Total Cases\": 1843220, \"Total Deaths\": 20455, \"Total Recovered\": 1817938, \"Active Cases\": 4827, \"Serious Criticals\": 22, \"Total Cases/m\": 337574, \"Deaths/m\": 3746, \"Total Test\": 7298163, \"Tests/m\": 1336613, \"Population\": 5460193, \"pred\": 262519.4154742871}, {\"#\": 50, \"Country\": \"Hong Kong\", \"Total Cases\": 1761381, \"Total Deaths\": 10153, \"Total Recovered\": 1469240, \"Active Cases\": 281988, \"Serious Criticals\": 8, \"Total Cases/m\": 231630, \"Deaths/m\": 1335, \"Total Test\": 54352132, \"Tests/m\": 7147553, \"Population\": 7604299, \"pred\": 281549.64032038546}, {\"#\": 51, \"Country\": \"Jordan\", \"Total Cases\": 1746997, \"Total Deaths\": 14122, \"Total Recovered\": 1731007, \"Active Cases\": 1868, \"Serious Criticals\": 59, \"Total Cases/m\": 169597, \"Deaths/m\": 1371, \"Total Test\": 17201885, \"Tests/m\": 1669945, \"Population\": 10300869, \"pred\": 218504.37043750484}, {\"#\": 52, \"Country\": \"Ireland\", \"Total Cases\": 1663653, \"Total Deaths\": 7905, \"Total Recovered\": 1648405, \"Active Cases\": 7343, \"Serious Criticals\": 13, \"Total Cases/m\": 331392, \"Deaths/m\": 1575, \"Total Test\": 12708583, \"Tests/m\": 2531490, \"Population\": 5020199, \"pred\": 282424.08362370054}, {\"#\": 53, \"Country\": \"Pakistan\", \"Total Cases\": 1572598, \"Total Deaths\": 30616, \"Total Recovered\": 1536924, \"Active Cases\": 5058, \"Serious Criticals\": 47, \"Total Cases/m\": 6853, \"Deaths/m\": 133, \"Total Test\": 30477451, \"Tests/m\": 132806, \"Population\": 229488994, \"pred\": 49993.451576950494}, {\"#\": 54, \"Country\": \"Norway\", \"Total Cases\": 1462318, \"Total Deaths\": 4098, \"Total Recovered\": 1457108, \"Active Cases\": 1112, \"Serious Criticals\": 20, \"Total Cases/m\": 265327, \"Deaths/m\": 744, \"Total Test\": 11002430, \"Tests/m\": 1996315, \"Population\": 5511370, \"pred\": 262664.9888624063}, {\"#\": 55, \"Country\": \"Kazakhstan\", \"Total Cases\": 1393468, \"Total Deaths\": 13690, \"Total Recovered\": 1378440, \"Active Cases\": 1338, \"Serious Criticals\": 24, \"Total Cases/m\": 72557, \"Deaths/m\": 713, \"Total Test\": 11575012, \"Tests/m\": 602707, \"Population\": 19205043, \"pred\": 73757.02387101836}, {\"#\": 56, \"Country\": \"Finland\", \"Total Cases\": 1292940, \"Total Deaths\": 5981, \"Total Recovered\": 1263711, \"Active Cases\": 23248, \"Serious Criticals\": 21, \"Total Cases/m\": 232754, \"Deaths/m\": 1077, \"Total Test\": 11505032, \"Tests/m\": 2071128, \"Population\": 5554960, \"pred\": 296991.27626861143}, {\"#\": 57, \"Country\": \"Morocco\", \"Total Cases\": 1264935, \"Total Deaths\": 16278, \"Total Recovered\": 1248543, \"Active Cases\": 114, \"Serious Criticals\": 293, \"Total Cases/m\": 33488, \"Deaths/m\": 431, \"Total Test\": 12577650, \"Tests/m\": 332982, \"Population\": 37772756, \"pred\": 55022.47172110703}, {\"#\": 58, \"Country\": \"Bulgaria\", \"Total Cases\": 1258670, \"Total Deaths\": 37714, \"Total Recovered\": 1211397, \"Active Cases\": 9559, \"Serious Criticals\": 43, \"Total Cases/m\": 183892, \"Deaths/m\": 5510, \"Total Test\": 10559171, \"Tests/m\": 1542702, \"Population\": 6844597, \"pred\": 213867.98909325906}, {\"#\": 59, \"Country\": \"Lithuania\", \"Total Cases\": 1249134, \"Total Deaths\": 9320, \"Total Recovered\": 1216151, \"Active Cases\": 23663, \"Serious Criticals\": 12, \"Total Cases/m\": 469298, \"Deaths/m\": 3502, \"Total Test\": 10174473, \"Tests/m\": 3822535, \"Population\": 2661708, \"pred\": 419540.9020252526}, {\"#\": 60, \"Country\": \"Croatia\", \"Total Cases\": 1231575, \"Total Deaths\": 16902, \"Total Recovered\": 1209524, \"Active Cases\": 5149, \"Serious Criticals\": 10, \"Total Cases/m\": 303397, \"Deaths/m\": 4164, \"Total Test\": 5225875, \"Tests/m\": 1287388, \"Population\": 4059286, \"pred\": 260974.75622048805}, {\"#\": 61, \"Country\": \"Lebanon\", \"Total Cases\": 1215511, \"Total Deaths\": 10674, \"Total Recovered\": 1087587, \"Active Cases\": 117250, \"Serious Criticals\": 74, \"Total Cases/m\": 181831, \"Deaths/m\": 1597, \"Total Test\": 4795578, \"Tests/m\": 717380, \"Population\": 6684849, \"pred\": 227398.29923086357}, {\"#\": 62, \"Country\": \"Slovenia\", \"Total Cases\": 1181073, \"Total Deaths\": 6820, \"Total Recovered\": 1145051, \"Active Cases\": 29202, \"Serious Criticals\": 22, \"Total Cases/m\": 568361, \"Deaths/m\": 3282, \"Total Test\": 2743244, \"Tests/m\": 1320115, \"Population\": 2078034, \"pred\": 429229.48583080823}, {\"#\": 64, \"Country\": \"Guatemala\", \"Total Cases\": 1123465, \"Total Deaths\": 19789, \"Total Recovered\": 1102988, \"Active Cases\": 688, \"Serious Criticals\": 5, \"Total Cases/m\": 60453, \"Deaths/m\": 1065, \"Total Test\": 5884813, \"Tests/m\": 316660, \"Population\": 18584039, \"pred\": 53509.11487879535}, {\"#\": 65, \"Country\": \"Cuba\", \"Total Cases\": 1111179, \"Total Deaths\": 8530, \"Total Recovered\": 1102548, \"Active Cases\": 101, \"Serious Criticals\": 23, \"Total Cases/m\": 98285, \"Deaths/m\": 754, \"Total Test\": 14149157, \"Tests/m\": 1251512, \"Population\": 11305652, \"pred\": 69251.26847560471}, {\"#\": 66, \"Country\": \"Bolivia\", \"Total Cases\": 1108195, \"Total Deaths\": 22234, \"Total Recovered\": 1051789, \"Active Cases\": 34172, \"Serious Criticals\": 220, \"Total Cases/m\": 92406, \"Deaths/m\": 1854, \"Total Test\": 2705422, \"Tests/m\": 225590, \"Population\": 11992656, \"pred\": 96728.87210611206}, {\"#\": 67, \"Country\": \"Costa Rica\", \"Total Cases\": 1072807, \"Total Deaths\": 8913, \"Total Recovered\": 860711, \"Active Cases\": 203183, \"Serious Criticals\": 52, \"Total Cases/m\": 207012, \"Deaths/m\": 1720, \"Total Test\": 4659757, \"Tests/m\": 899158, \"Population\": 5182354, \"pred\": 219924.93137479422}, {\"#\": 69, \"Country\": \"Ecuador\", \"Total Cases\": 1003778, \"Total Deaths\": 35894, \"Total Recovered\": 964320, \"Active Cases\": 3564, \"Serious Criticals\": 759, \"Total Cases/m\": 55416, \"Deaths/m\": 1982, \"Total Test\": 3082403, \"Tests/m\": 170173, \"Population\": 18113361, \"pred\": 52055.37356634981}, {\"#\": 72, \"Country\": \"Panama\", \"Total Cases\": 986866, \"Total Deaths\": 8497, \"Total Recovered\": 976873, \"Active Cases\": 1496, \"Serious Criticals\": 16, \"Total Cases/m\": 221919, \"Deaths/m\": 1911, \"Total Test\": 7062027, \"Tests/m\": 1588056, \"Population\": 4446964, \"pred\": 249580.44319724993}, {\"#\": 73, \"Country\": \"Uruguay\", \"Total Cases\": 985422, \"Total Deaths\": 7485, \"Total Recovered\": 976760, \"Active Cases\": 1177, \"Serious Criticals\": 18, \"Total Cases/m\": 281870, \"Deaths/m\": 2141, \"Total Test\": 6114822, \"Tests/m\": 1749083, \"Population\": 3496016, \"pred\": 260868.8364148907}, {\"#\": 74, \"Country\": \"Mongolia\", \"Total Cases\": 982864, \"Total Deaths\": 2179, \"Total Recovered\": 979439, \"Active Cases\": 1246, \"Serious Criticals\": 192, \"Total Cases/m\": 290954, \"Deaths/m\": 645, \"Total Test\": 4030048, \"Tests/m\": 1193000, \"Population\": 3378078, \"pred\": 240438.77844077654}, {\"#\": 75, \"Country\": \"Latvia\", \"Total Cases\": 929051, \"Total Deaths\": 5990, \"Total Recovered\": 891237, \"Active Cases\": 31824, \"Serious Criticals\": 5, \"Total Cases/m\": 502506, \"Deaths/m\": 3240, \"Total Test\": 7650009, \"Tests/m\": 4137741, \"Population\": 1848837, \"pred\": 410459.9140425961}, {\"#\": 77, \"Country\": \"Saudi Arabia\", \"Total Cases\": 816389, \"Total Deaths\": 9351, \"Total Recovered\": 803546, \"Active Cases\": 3492, \"Serious Criticals\": 32, \"Total Cases/m\": 22776, \"Deaths/m\": 261, \"Total Test\": 44321147, \"Tests/m\": 1236470, \"Population\": 35844909, \"pred\": 47909.75962379785}, {\"#\": 78, \"Country\": \"Paraguay\", \"Total Cases\": 716059, \"Total Deaths\": 19583, \"Total Recovered\": 696110, \"Active Cases\": 366, \"Serious Criticals\": 7, \"Total Cases/m\": 98012, \"Deaths/m\": 2680, \"Total Test\": 2657506, \"Tests/m\": 363751, \"Population\": 7305843, \"pred\": 91717.09182615882}, {\"#\": 79, \"Country\": \"Bahrain\", \"Total Cases\": 680271, \"Total Deaths\": 1520, \"Total Recovered\": 675724, \"Active Cases\": 3027, \"Serious Criticals\": 2, \"Total Cases/m\": 381321, \"Deaths/m\": 852, \"Total Test\": 10376306, \"Tests/m\": 5816370, \"Population\": 1783983, \"pred\": 398958.13183588634}, {\"#\": 81, \"Country\": \"Kuwait\", \"Total Cases\": 658520, \"Total Deaths\": 2563, \"Total Recovered\": 655316, \"Active Cases\": 641, \"Serious Criticals\": 3, \"Total Cases/m\": 150336, \"Deaths/m\": 585, \"Total Test\": 8365279, \"Tests/m\": 1909739, \"Population\": 4380326, \"pred\": 199222.48282902752}, {\"#\": 82, \"Country\": \"Dominican Republic\", \"Total Cases\": 644016, \"Total Deaths\": 4384, \"Total Recovered\": 638911, \"Active Cases\": 721, \"Serious Criticals\": 4, \"Total Cases/m\": 58248, \"Deaths/m\": 397, \"Total Test\": 3657057, \"Tests/m\": 330765, \"Population\": 11056370, \"pred\": 46630.99657768886}, {\"#\": 84, \"Country\": \"Palestine\", \"Total Cases\": 620548, \"Total Deaths\": 5403, \"Total Recovered\": 608749, \"Active Cases\": 6396, \"Serious Criticals\": 17, \"Total Cases/m\": 116087, \"Deaths/m\": 1011, \"Total Test\": 3078533, \"Tests/m\": 575907, \"Population\": 5345541, \"pred\": 135392.08181769363}, {\"#\": 85, \"Country\": \"Estonia\", \"Total Cases\": 601869, \"Total Deaths\": 2681, \"Total Recovered\": 524990, \"Active Cases\": 74198, \"Serious Criticals\": 4, \"Total Cases/m\": 455303, \"Deaths/m\": 2028, \"Total Test\": 3536858, \"Tests/m\": 2675566, \"Population\": 1321910, \"pred\": 407695.0737684259}, {\"#\": 86, \"Country\": \"Moldova\", \"Total Cases\": 589388, \"Total Deaths\": 11844, \"Total Recovered\": 504142, \"Active Cases\": 73402, \"Serious Criticals\": 49, \"Total Cases/m\": 146863, \"Deaths/m\": 2951, \"Total Test\": 3216305, \"Tests/m\": 801437, \"Population\": 4013171, \"pred\": 208987.53769362342}, {\"#\": 87, \"Country\": \"Cyprus\", \"Total Cases\": 585313, \"Total Deaths\": 1180, \"Total Recovered\": 578452, \"Active Cases\": 5681, \"Serious Criticals\": 60, \"Total Cases/m\": 478437, \"Deaths/m\": 965, \"Total Test\": 9640118, \"Tests/m\": 7879860, \"Population\": 1223387, \"pred\": 420081.2014671995}, {\"#\": 88, \"Country\": \"Venezuela\", \"Total Cases\": 544687, \"Total Deaths\": 5814, \"Total Recovered\": 538033, \"Active Cases\": 840, \"Serious Criticals\": 36, \"Total Cases/m\": 18611, \"Deaths/m\": 199, \"Total Test\": 3359014, \"Tests/m\": 114771, \"Population\": 29266991, \"pred\": 31533.41072582519}, {\"#\": 89, \"Country\": \"Egypt\", \"Total Cases\": 515645, \"Total Deaths\": 24613, \"Total Recovered\": 442182, \"Active Cases\": 48850, \"Serious Criticals\": 122, \"Total Cases/m\": 4857, \"Deaths/m\": 232, \"Total Test\": 3693367, \"Tests/m\": 34792, \"Population\": 106156692, \"pred\": 39278.43375257188}, {\"#\": 90, \"Country\": \"Libya\", \"Total Cases\": 506991, \"Total Deaths\": 6437, \"Total Recovered\": 500507, \"Active Cases\": 47, \"Serious Criticals\": 101, \"Total Cases/m\": 72008, \"Deaths/m\": 914, \"Total Test\": 2481983, \"Tests/m\": 352517, \"Population\": 7040745, \"pred\": 72810.39779213732}, {\"#\": 91, \"Country\": \"Ethiopia\", \"Total Cases\": 493563, \"Total Deaths\": 7572, \"Total Recovered\": 471918, \"Active Cases\": 14073, \"Serious Criticals\": 1, \"Total Cases/m\": 4085, \"Deaths/m\": 63, \"Total Test\": 5258807, \"Tests/m\": 43529, \"Population\": 120812698, \"pred\": 22944.68745062621}, {\"#\": 92, \"Country\": \"R\\u00e9union\", \"Total Cases\": 472336, \"Total Deaths\": 893, \"Total Recovered\": 418572, \"Active Cases\": 52871, \"Serious Criticals\": 10, \"Total Cases/m\": 520159, \"Deaths/m\": 983, \"Total Test\": 1603660, \"Tests/m\": 1766027, \"Population\": 908061, \"pred\": 343975.65996056737}, {\"#\": 94, \"Country\": \"Qatar\", \"Total Cases\": 450448, \"Total Deaths\": 682, \"Total Recovered\": 443418, \"Active Cases\": 6348, \"Serious Criticals\": 4, \"Total Cases/m\": 151161, \"Deaths/m\": 229, \"Total Test\": 3951470, \"Tests/m\": 1326034, \"Population\": 2979915, \"pred\": 294968.65454556985}, {\"#\": 97, \"Country\": \"Oman\", \"Total Cases\": 397993, \"Total Deaths\": 4260, \"Total Recovered\": 384669, \"Active Cases\": 9064, \"Serious Criticals\": 2, \"Total Cases/m\": 74755, \"Deaths/m\": 800, \"Total Test\": 25000000, \"Tests/m\": 4695724, \"Population\": 5323993, \"pred\": 192543.54650131162}, {\"#\": 99, \"Country\": \"Kenya\", \"Total Cases\": 338420, \"Total Deaths\": 5678, \"Total Recovered\": 332663, \"Active Cases\": 79, \"Serious Criticals\": 1, \"Total Cases/m\": 6020, \"Deaths/m\": 101, \"Total Test\": 3881967, \"Tests/m\": 69055, \"Population\": 56215221, \"pred\": 21653.094795914687}, {\"#\": 102, \"Country\": \"Botswana\", \"Total Cases\": 326308, \"Total Deaths\": 2789, \"Total Recovered\": 322955, \"Active Cases\": 564, \"Serious Criticals\": 1, \"Total Cases/m\": 133669, \"Deaths/m\": 1142, \"Total Test\": 2026898, \"Tests/m\": 830300, \"Population\": 2441162, \"pred\": 160596.74279607768}, {\"#\": 104, \"Country\": \"Montenegro\", \"Total Cases\": 280002, \"Total Deaths\": 2781, \"Total Recovered\": 276154, \"Active Cases\": 1067, \"Serious Criticals\": 6, \"Total Cases/m\": 445899, \"Deaths/m\": 4429, \"Total Test\": 2624193, \"Tests/m\": 4178984, \"Population\": 627950, \"pred\": 390789.96538286685}, {\"#\": 105, \"Country\": \"Algeria\", \"Total Cases\": 270668, \"Total Deaths\": 6879, \"Total Recovered\": 182306, \"Active Cases\": 81483, \"Serious Criticals\": 6, \"Total Cases/m\": 5968, \"Deaths/m\": 152, \"Total Test\": 230861, \"Tests/m\": 5091, \"Population\": 45350148, \"pred\": 93137.19099921995}, {\"#\": 106, \"Country\": \"Nigeria\", \"Total Cases\": 265382, \"Total Deaths\": 3155, \"Total Recovered\": 258381, \"Active Cases\": 3846, \"Serious Criticals\": 11, \"Total Cases/m\": 1224, \"Deaths/m\": 15, \"Total Test\": 5441162, \"Tests/m\": 25104, \"Population\": 216746934, \"pred\": 20953.587379121687}, {\"#\": 107, \"Country\": \"Zimbabwe\", \"Total Cases\": 257409, \"Total Deaths\": 5602, \"Total Recovered\": 251281, \"Active Cases\": 526, \"Serious Criticals\": 12, \"Total Cases/m\": 16790, \"Deaths/m\": 365, \"Total Test\": 2511501, \"Tests/m\": 163814, \"Population\": 15331428, \"pred\": 22263.314711436666}, {\"#\": 108, \"Country\": \"China\", \"Total Cases\": 250449, \"Total Deaths\": 5226, \"Total Recovered\": 242254, \"Active Cases\": 2969, \"Serious Criticals\": 36, \"Total Cases/m\": 173, \"Deaths/m\": 4, \"Total Test\": 160000000, \"Tests/m\": 110461, \"Population\": 1448471400, \"pred\": 24367.8768793877}, {\"#\": 109, \"Country\": \"Uzbekistan\", \"Total Cases\": 244199, \"Total Deaths\": 1637, \"Total Recovered\": 241486, \"Active Cases\": 1076, \"Serious Criticals\": 23, \"Total Cases/m\": 7103, \"Deaths/m\": 48, \"Total Test\": 1377915, \"Tests/m\": 40077, \"Population\": 34382084, \"pred\": 25076.31721882511}, {\"#\": 110, \"Country\": \"Mozambique\", \"Total Cases\": 230219, \"Total Deaths\": 2221, \"Total Recovered\": 227882, \"Active Cases\": 116, \"Serious Criticals\": 11, \"Total Cases/m\": 6957, \"Deaths/m\": 67, \"Total Test\": 1371127, \"Tests/m\": 41437, \"Population\": 33089461, \"pred\": 21059.999850859745}, {\"#\": 111, \"Country\": \"Brunei\", \"Total Cases\": 226237, \"Total Deaths\": 225, \"Total Recovered\": 222140, \"Active Cases\": 3872, \"Serious Criticals\": 3, \"Total Cases/m\": 507906, \"Deaths/m\": 505, \"Total Test\": 717784, \"Tests/m\": 1611437, \"Population\": 445431, \"pred\": 418051.06289452047}, {\"#\": 114, \"Country\": \"Kyrgyzstan\", \"Total Cases\": 206083, \"Total Deaths\": 2991, \"Total Recovered\": 196406, \"Active Cases\": 6686, \"Serious Criticals\": 131, \"Total Cases/m\": 30629, \"Deaths/m\": 445, \"Total Test\": 1907195, \"Tests/m\": 283460, \"Population\": 6728271, \"pred\": 68925.79839102988}, {\"#\": 116, \"Country\": \"El Salvador\", \"Total Cases\": 201785, \"Total Deaths\": 4229, \"Total Recovered\": 179410, \"Active Cases\": 18146, \"Serious Criticals\": 8, \"Total Cases/m\": 30805, \"Deaths/m\": 646, \"Total Test\": 2610114, \"Tests/m\": 398467, \"Population\": 6550389, \"pred\": 87325.66635142326}, {\"#\": 117, \"Country\": \"Afghanistan\", \"Total Cases\": 199067, \"Total Deaths\": 7799, \"Total Recovered\": 177850, \"Active Cases\": 13418, \"Serious Criticals\": 1124, \"Total Cases/m\": 4885, \"Deaths/m\": 191, \"Total Test\": 1103716, \"Tests/m\": 27082, \"Population\": 40754388, \"pred\": 26349.735115919244}, {\"#\": 119, \"Country\": \"Maldives\", \"Total Cases\": 185042, \"Total Deaths\": 308, \"Total Recovered\": 163687, \"Active Cases\": 21047, \"Serious Criticals\": 25, \"Total Cases/m\": 342046, \"Deaths/m\": 569, \"Total Test\": 2213831, \"Tests/m\": 4092223, \"Population\": 540985, \"pred\": 332727.3616552045}, {\"#\": 120, \"Country\": \"Trinidad and Tobago\", \"Total Cases\": 182597, \"Total Deaths\": 4195, \"Total Recovered\": 174214, \"Active Cases\": 4188, \"Serious Criticals\": 18, \"Total Cases/m\": 129816, \"Deaths/m\": 2982, \"Total Test\": 834508, \"Tests/m\": 593287, \"Population\": 1406585, \"pred\": 194424.4993220899}, {\"#\": 121, \"Country\": \"Uganda\", \"Total Cases\": 169396, \"Total Deaths\": 3628, \"Total Recovered\": 100431, \"Active Cases\": 65337, \"Serious Criticals\": 3, \"Total Cases/m\": 3498, \"Deaths/m\": 75, \"Total Test\": 3012408, \"Tests/m\": 62198, \"Population\": 48432863, \"pred\": 94428.63776539823}, {\"#\": 123, \"Country\": \"Ghana\", \"Total Cases\": 169100, \"Total Deaths\": 1459, \"Total Recovered\": 167307, \"Active Cases\": 334, \"Serious Criticals\": 2, \"Total Cases/m\": 5220, \"Deaths/m\": 45, \"Total Test\": 2504017, \"Tests/m\": 77295, \"Population\": 32395450, \"pred\": 21059.999850859745}, {\"#\": 127, \"Country\": \"Cameroon\", \"Total Cases\": 121652, \"Total Deaths\": 1935, \"Total Recovered\": 118616, \"Active Cases\": 1101, \"Serious Criticals\": 13, \"Total Cases/m\": 4358, \"Deaths/m\": 69, \"Total Test\": 1751774, \"Tests/m\": 62762, \"Population\": 27911548, \"pred\": 25076.31721882511}, {\"#\": 128, \"Country\": \"Malta\", \"Total Cases\": 114652, \"Total Deaths\": 806, \"Total Recovered\": 113195, \"Active Cases\": 651, \"Serious Criticals\": 4, \"Total Cases/m\": 258206, \"Deaths/m\": 1815, \"Total Test\": 2060900, \"Tests/m\": 4641322, \"Population\": 444033, \"pred\": 222083.49444198713}, {\"#\": 131, \"Country\": \"French Guiana\", \"Total Cases\": 93974, \"Total Deaths\": 410, \"Total Recovered\": 11254, \"Active Cases\": 82310, \"Serious Criticals\": 3, \"Total Cases/m\": 299119, \"Deaths/m\": 1305, \"Total Test\": 651257, \"Tests/m\": 2072951, \"Population\": 314169, \"pred\": 317116.8437804958}, {\"#\": 135, \"Country\": \"Malawi\", \"Total Cases\": 88024, \"Total Deaths\": 2682, \"Total Recovered\": 84872, \"Active Cases\": 470, \"Serious Criticals\": 67, \"Total Cases/m\": 4362, \"Deaths/m\": 133, \"Total Test\": 616772, \"Tests/m\": 30562, \"Population\": 20180839, \"pred\": 21725.76418419308}, {\"#\": 139, \"Country\": \"New Caledonia\", \"Total Cases\": 74152, \"Total Deaths\": 314, \"Total Recovered\": 73823, \"Active Cases\": 15, \"Serious Criticals\": 9, \"Total Cases/m\": 254892, \"Deaths/m\": 1079, \"Total Test\": 98964, \"Tests/m\": 340182, \"Population\": 290915, \"pred\": 205621.2932961884}, {\"#\": 140, \"Country\": \"Eswatini\", \"Total Cases\": 73390, \"Total Deaths\": 1422, \"Total Recovered\": 71955, \"Active Cases\": 13, \"Serious Criticals\": 11, \"Total Cases/m\": 61942, \"Deaths/m\": 1200, \"Total Test\": 1045903, \"Tests/m\": 882755, \"Population\": 1184817, \"pred\": 119603.38533670024}, {\"#\": 142, \"Country\": \"Belize\", \"Total Cases\": 68826, \"Total Deaths\": 683, \"Total Recovered\": 68079, \"Active Cases\": 64, \"Serious Criticals\": 6, \"Total Cases/m\": 166976, \"Deaths/m\": 1657, \"Total Test\": 576016, \"Tests/m\": 1397453, \"Population\": 412190, \"pred\": 156614.04835790454}, {\"#\": 147, \"Country\": \"Cabo Verde\", \"Total Cases\": 62371, \"Total Deaths\": 410, \"Total Recovered\": 61890, \"Active Cases\": 71, \"Serious Criticals\": 23, \"Total Cases/m\": 109870, \"Deaths/m\": 722, \"Total Test\": 401622, \"Tests/m\": 707482, \"Population\": 567678, \"pred\": 162631.97310071727}, {\"#\": 153, \"Country\": \"Andorra\", \"Total Cases\": 46227, \"Total Deaths\": 155, \"Total Recovered\": 46011, \"Active Cases\": 61, \"Serious Criticals\": 14, \"Total Cases/m\": 596762, \"Deaths/m\": 2001, \"Total Test\": 249838, \"Tests/m\": 3225256, \"Population\": 77463, \"pred\": 433849.5593309469}, {\"#\": 154, \"Country\": \"Cura\\u00e7ao\", \"Total Cases\": 45127, \"Total Deaths\": 282, \"Total Recovered\": 44720, \"Active Cases\": 125, \"Serious Criticals\": 3, \"Total Cases/m\": 272623, \"Deaths/m\": 1704, \"Total Test\": 496693, \"Tests/m\": 3000640, \"Population\": 165529, \"pred\": 241819.0195443848}, {\"#\": 155, \"Country\": \"Papua New Guinea\", \"Total Cases\": 44997, \"Total Deaths\": 668, \"Total Recovered\": 43982, \"Active Cases\": 347, \"Serious Criticals\": 7, \"Total Cases/m\": 4842, \"Deaths/m\": 72, \"Total Test\": 249149, \"Tests/m\": 26813, \"Population\": 9292169, \"pred\": 53211.68839352885}, {\"#\": 156, \"Country\": \"Aruba\", \"Total Cases\": 42914, \"Total Deaths\": 227, \"Total Recovered\": 42438, \"Active Cases\": 249, \"Serious Criticals\": 2, \"Total Cases/m\": 398796, \"Deaths/m\": 2109, \"Total Test\": 177885, \"Tests/m\": 1653068, \"Population\": 107609, \"pred\": 334218.63845516834}, {\"#\": 162, \"Country\": \"Guinea\", \"Total Cases\": 37652, \"Total Deaths\": 449, \"Total Recovered\": 36880, \"Active Cases\": 323, \"Serious Criticals\": 8, \"Total Cases/m\": 2715, \"Deaths/m\": 32, \"Total Test\": 660107, \"Tests/m\": 47607, \"Population\": 13865691, \"pred\": 20910.438759055716}, {\"#\": 163, \"Country\": \"Bahamas\", \"Total Cases\": 37267, \"Total Deaths\": 833, \"Total Recovered\": 36070, \"Active Cases\": 364, \"Serious Criticals\": 2, \"Total Cases/m\": 93047, \"Deaths/m\": 2080, \"Total Test\": 248846, \"Tests/m\": 621314, \"Population\": 400516, \"pred\": 184069.61725131664}, {\"#\": 168, \"Country\": \"Cayman Islands\", \"Total Cases\": 30661, \"Total Deaths\": 32, \"Total Recovered\": 8553, \"Active Cases\": 22076, \"Serious Criticals\": 1, \"Total Cases/m\": 455743, \"Deaths/m\": 476, \"Total Test\": 222773, \"Tests/m\": 3311280, \"Population\": 67277, \"pred\": 391234.5783433235}, {\"#\": 170, \"Country\": \"Benin\", \"Total Cases\": 27638, \"Total Deaths\": 163, \"Total Recovered\": 27322, \"Active Cases\": 153, \"Serious Criticals\": 5, \"Total Cases/m\": 2162, \"Deaths/m\": 13, \"Total Test\": 604310, \"Tests/m\": 47268, \"Population\": 12784726, \"pred\": 21537.10412705799}, {\"#\": 175, \"Country\": \"Solomon Islands\", \"Total Cases\": 21544, \"Total Deaths\": 153, \"Total Recovered\": 16357, \"Active Cases\": 5034, \"Serious Criticals\": 1, \"Total Cases/m\": 29874, \"Deaths/m\": 212, \"Total Test\": 5117, \"Tests/m\": 7096, \"Population\": 721159, \"pred\": 254971.30847519}, {\"#\": 176, \"Country\": \"San Marino\", \"Total Cases\": 20763, \"Total Deaths\": 118, \"Total Recovered\": 20524, \"Active Cases\": 121, \"Serious Criticals\": 4, \"Total Cases/m\": 609154, \"Deaths/m\": 3462, \"Total Test\": 157634, \"Tests/m\": 4624732, \"Population\": 34085, \"pred\": 400951.0636096403}, {\"#\": 178, \"Country\": \"Liechtenstein\", \"Total Cases\": 19713, \"Total Deaths\": 86, \"Total Recovered\": 19403, \"Active Cases\": 224, \"Serious Criticals\": 2, \"Total Cases/m\": 513533, \"Deaths/m\": 2240, \"Total Test\": 102174, \"Tests/m\": 2661682, \"Population\": 38387, \"pred\": 442898.65689102554}, {\"#\": 179, \"Country\": \"Grenada\", \"Total Cases\": 19536, \"Total Deaths\": 237, \"Total Recovered\": 19248, \"Active Cases\": 51, \"Serious Criticals\": 4, \"Total Cases/m\": 172161, \"Deaths/m\": 2089, \"Total Test\": 179808, \"Tests/m\": 1584560, \"Population\": 113475, \"pred\": 199662.41642678}, {\"#\": 182, \"Country\": \"South Sudan\", \"Total Cases\": 17823, \"Total Deaths\": 138, \"Total Recovered\": 17335, \"Active Cases\": 350, \"Serious Criticals\": 1, \"Total Cases/m\": 1534, \"Deaths/m\": 12, \"Total Test\": 410280, \"Tests/m\": 35313, \"Population\": 11618511, \"pred\": 22083.321027820268}, {\"#\": 184, \"Country\": \"Equatorial Guinea\", \"Total Cases\": 17012, \"Total Deaths\": 183, \"Total Recovered\": 16690, \"Active Cases\": 139, \"Serious Criticals\": 5, \"Total Cases/m\": 11367, \"Deaths/m\": 122, \"Total Test\": 365697, \"Tests/m\": 244342, \"Population\": 1496662, \"pred\": 128758.82838221175}, {\"#\": 186, \"Country\": \"Samoa\", \"Total Cases\": 15925, \"Total Deaths\": 29, \"Total Recovered\": 1605, \"Active Cases\": 14291, \"Serious Criticals\": 4, \"Total Cases/m\": 78743, \"Deaths/m\": 143, \"Total Test\": 187397, \"Tests/m\": 926612, \"Population\": 202239, \"pred\": 145337.41111141493}, {\"#\": 190, \"Country\": \"CAR\", \"Total Cases\": 14913, \"Total Deaths\": 113, \"Total Recovered\": 14520, \"Active Cases\": 280, \"Serious Criticals\": 2, \"Total Cases/m\": 2973, \"Deaths/m\": 23, \"Total Test\": 81294, \"Tests/m\": 16205, \"Population\": 5016678, \"pred\": 66222.33293483475}, {\"#\": 191, \"Country\": \"Monaco\", \"Total Cases\": 14608, \"Total Deaths\": 63, \"Total Recovered\": 14478, \"Active Cases\": 67, \"Serious Criticals\": 4, \"Total Cases/m\": 367192, \"Deaths/m\": 1584, \"Total Test\": 78646, \"Tests/m\": 1976875, \"Population\": 39783, \"pred\": 342262.97173662455}, {\"#\": 193, \"Country\": \"Saint Martin\", \"Total Cases\": 11978, \"Total Deaths\": 63, \"Total Recovered\": 1399, \"Active Cases\": 10516, \"Serious Criticals\": 7, \"Total Cases/m\": 301485, \"Deaths/m\": 1586, \"Total Test\": 112382, \"Tests/m\": 2828643, \"Population\": 39730, \"pred\": 266204.40600352426}, {\"#\": 194, \"Country\": \"Greenland\", \"Total Cases\": 11971, \"Total Deaths\": 21, \"Total Recovered\": 2761, \"Active Cases\": 9189, \"Serious Criticals\": 4, \"Total Cases/m\": 210117, \"Deaths/m\": 369, \"Total Test\": 164926, \"Tests/m\": 2894810, \"Population\": 56973, \"pred\": 270251.70508349984}, {\"#\": 195, \"Country\": \"Yemen\", \"Total Cases\": 11935, \"Total Deaths\": 2157, \"Total Recovered\": 9124, \"Active Cases\": 654, \"Serious Criticals\": 23, \"Total Cases/m\": 383, \"Deaths/m\": 69, \"Total Test\": 329592, \"Tests/m\": 10579, \"Population\": 31154867, \"pred\": 20267.484073081967}, {\"#\": 198, \"Country\": \"Sint Maarten\", \"Total Cases\": 10863, \"Total Deaths\": 87, \"Total Recovered\": 10773, \"Active Cases\": 3, \"Serious Criticals\": 10, \"Total Cases/m\": 247077, \"Deaths/m\": 1979, \"Total Test\": 62056, \"Tests/m\": 1411454, \"Population\": 43966, \"pred\": 291610.08530805307}, {\"#\": 200, \"Country\": \"Niger\", \"Total Cases\": 9931, \"Total Deaths\": 312, \"Total Recovered\": 8890, \"Active Cases\": 729, \"Serious Criticals\": 1, \"Total Cases/m\": 381, \"Deaths/m\": 12, \"Total Test\": 254538, \"Tests/m\": 9759, \"Population\": 26083660, \"pred\": 19461.579787367682}, {\"#\": 201, \"Country\": \"Micronesia\", \"Total Cases\": 9759, \"Total Deaths\": 29, \"Total Recovered\": 157, \"Active Cases\": 9573, \"Serious Criticals\": 1, \"Total Cases/m\": 83063, \"Deaths/m\": 247, \"Total Test\": 21923, \"Tests/m\": 186596, \"Population\": 117489, \"pred\": 162676.9788412129}, {\"#\": 202, \"Country\": \"Antigua and Barbuda\", \"Total Cases\": 9098, \"Total Deaths\": 146, \"Total Recovered\": 8923, \"Active Cases\": 29, \"Serious Criticals\": 1, \"Total Cases/m\": 91429, \"Deaths/m\": 1467, \"Total Test\": 18901, \"Tests/m\": 189943, \"Population\": 99509, \"pred\": 189723.65698927306}, {\"#\": 203, \"Country\": \"Guinea-Bissau\", \"Total Cases\": 8796, \"Total Deaths\": 175, \"Total Recovered\": 8301, \"Active Cases\": 320, \"Serious Criticals\": 6, \"Total Cases/m\": 4263, \"Deaths/m\": 85, \"Total Test\": 145231, \"Tests/m\": 70385, \"Population\": 2063367, \"pred\": 92218.74823520331}, {\"#\": 205, \"Country\": \"Liberia\", \"Total Cases\": 7961, \"Total Deaths\": 294, \"Total Recovered\": 7636, \"Active Cases\": 31, \"Serious Criticals\": 2, \"Total Cases/m\": 1501, \"Deaths/m\": 55, \"Total Test\": 139824, \"Tests/m\": 26356, \"Population\": 5305117, \"pred\": 40883.99203602522}, {\"#\": 212, \"Country\": \"Turks and Caicos\", \"Total Cases\": 6380, \"Total Deaths\": 36, \"Total Recovered\": 6321, \"Active Cases\": 23, \"Serious Criticals\": 4, \"Total Cases/m\": 160539, \"Deaths/m\": 906, \"Total Test\": 550093, \"Tests/m\": 13841952, \"Population\": 39741, \"pred\": 242554.18862337657}, {\"#\": 214, \"Country\": \"Palau\", \"Total Cases\": 5460, \"Total Deaths\": 6, \"Total Recovered\": 5444, \"Active Cases\": 10, \"Serious Criticals\": 1, \"Total Cases/m\": 299457, \"Deaths/m\": 329, \"Total Test\": 64681, \"Tests/m\": 3547469, \"Population\": 18233, \"pred\": 289415.7726388889}, {\"#\": 217, \"Country\": \"Anguilla\", \"Total Cases\": 3865, \"Total Deaths\": 12, \"Total Recovered\": 3848, \"Active Cases\": 5, \"Serious Criticals\": 4, \"Total Cases/m\": 253775, \"Deaths/m\": 788, \"Total Test\": 51382, \"Tests/m\": 3373736, \"Population\": 15230, \"pred\": 276793.50523845595}, {\"#\": 219, \"Country\": \"Saint Pierre Miquelon\", \"Total Cases\": 3188, \"Total Deaths\": 1, \"Total Recovered\": 2449, \"Active Cases\": 738, \"Serious Criticals\": 1, \"Total Cases/m\": 553568, \"Deaths/m\": 174, \"Total Test\": 24902, \"Tests/m\": 4324015, \"Population\": 5759, \"pred\": 418321.7921594517}]}}, {\"mode\": \"vega-lite\"});\n",
       "</script>"
      ],
      "text/plain": [
       "alt.LayerChart(...)"
      ]
     },
     "execution_count": 31,
     "metadata": {},
     "output_type": "execute_result"
    }
   ],
   "source": [
    "c1 = alt.Chart(df).mark_circle(color=\"black\").encode(\n",
    "    x = alt.X(\"Population\", scale=alt.Scale(domain=[0,400000000])),\n",
    "    y = \"Total Cases\",\n",
    "    tooltip = \"Country\"\n",
    ")\n",
    "\n",
    "c2  = alt.Chart(df).mark_circle(color=\"red\").encode(\n",
    "    x = alt.X(\"Population\", scale=alt.Scale(domain=[0,400000000])),\n",
    "    y = \"pred\"\n",
    ")\n",
    "\n",
    "c1+c2"
   ]
  },
  {
   "cell_type": "markdown",
   "metadata": {
    "cell_id": "69d0749961804894a4ac91cc1fcd2878",
    "deepnote_cell_type": "markdown",
    "tags": []
   },
   "source": [
    "The chart is not performing good, I think the outliars make a lot effects on the predicted result."
   ]
  },
  {
   "cell_type": "markdown",
   "metadata": {
    "cell_id": "a5e8b64f6ed844cc8ce7be1cde9bbf26",
    "deepnote_cell_type": "markdown",
    "tags": []
   },
   "source": [
    "## KNeighborsRegressir"
   ]
  },
  {
   "cell_type": "markdown",
   "metadata": {
    "cell_id": "372e96ca8e994756a05bf4d2598971cb",
    "deepnote_cell_type": "markdown",
    "tags": []
   },
   "source": [
    "I will use KNeighborsRegressor to check the predict result again."
   ]
  },
  {
   "cell_type": "code",
   "execution_count": 32,
   "metadata": {
    "cell_id": "17fda86fd58a4bf0a1694512e7b1fb8c",
    "deepnote_cell_type": "code",
    "deepnote_to_be_reexecuted": false,
    "execution_millis": 0,
    "execution_start": 1670263054149,
    "source_hash": "314d23a4",
    "tags": []
   },
   "outputs": [],
   "source": [
    "from sklearn.neighbors import KNeighborsRegressor"
   ]
  },
  {
   "cell_type": "code",
   "execution_count": 33,
   "metadata": {
    "cell_id": "2ab94e95cba5482bbaf767d31ef1c936",
    "deepnote_cell_type": "code",
    "deepnote_to_be_reexecuted": false,
    "execution_millis": 3,
    "execution_start": 1670263054153,
    "source_hash": "e3414883",
    "tags": []
   },
   "outputs": [],
   "source": [
    "# Again, start with finding the best k\n",
    "def get_scores(k):\n",
    "    K_reg=KNeighborsRegressor(n_neighbors=k)\n",
    "    K_reg.fit(X_train, y_train)\n",
    "    train_error=mean_absolute_error(K_reg.predict(X_train), y_train)\n",
    "    test_error=mean_absolute_error(K_reg.predict(X_test), y_test)\n",
    "    return (train_error, test_error)"
   ]
  },
  {
   "cell_type": "code",
   "execution_count": 34,
   "metadata": {
    "cell_id": "826df159227f45fb8e3703450d385006",
    "deepnote_cell_type": "code",
    "deepnote_to_be_reexecuted": false,
    "execution_millis": 3,
    "execution_start": 1670263054157,
    "source_hash": "91b404",
    "tags": []
   },
   "outputs": [],
   "source": [
    "df_k = pd.DataFrame(columns=(\"train_error\", \"test_error\"))"
   ]
  },
  {
   "cell_type": "code",
   "execution_count": 35,
   "metadata": {
    "cell_id": "43efae1ba361420ab0a0834d5497e328",
    "deepnote_cell_type": "code",
    "deepnote_to_be_reexecuted": false,
    "execution_millis": 888,
    "execution_start": 1670263054206,
    "source_hash": "5d1d3f18",
    "tags": []
   },
   "outputs": [],
   "source": [
    "df_k[\"train_error\"] = [get_scores(k)[0] for k in range(1,100)]\n",
    "df_k[\"test_error\"] = [get_scores(k)[1] for k in range(1,100)]\n",
    "df_k[\"k\"] = df_k.index"
   ]
  },
  {
   "cell_type": "markdown",
   "metadata": {
    "cell_id": "9ec25181a79042db8a677bcbf45efa00",
    "deepnote_cell_type": "markdown",
    "tags": []
   },
   "source": [
    "By the chart, we know higher the k, bigger the error. The best K I can get from it is 5"
   ]
  },
  {
   "cell_type": "code",
   "execution_count": 36,
   "metadata": {
    "cell_id": "dad373dad1854572aefdab5385c45ddb",
    "deepnote_cell_type": "code",
    "deepnote_to_be_reexecuted": false,
    "execution_millis": 258,
    "execution_start": 1670263055095,
    "source_hash": "5fed14d0",
    "tags": []
   },
   "outputs": [
    {
     "data": {
      "text/plain": [
       "<AxesSubplot:>"
      ]
     },
     "execution_count": 36,
     "metadata": {},
     "output_type": "execute_result"
    },
    {
     "data": {
      "image/png": "[encoded data removed]",
      "text/plain": [
       "<Figure size 640x480 with 1 Axes>"
      ]
     },
     "metadata": {
      "image/png": {
       "height": 413,
       "width": 578
      }
     },
     "output_type": "display_data"
    }
   ],
   "source": [
    "sns.lineplot(data=df_k, markers=True)"
   ]
  },
  {
   "cell_type": "code",
   "execution_count": 37,
   "metadata": {
    "cell_id": "a3a163ff1aba49aeb930450344350372",
    "deepnote_cell_type": "code",
    "deepnote_to_be_reexecuted": false,
    "execution_millis": 5,
    "execution_start": 1670263055358,
    "source_hash": "2a751b84",
    "tags": []
   },
   "outputs": [],
   "source": [
    "K_reg = KNeighborsRegressor(n_neighbors=5)\n",
    "K_reg.fit(X_train, y_train)\n",
    "df[\"K_predict\"] = K_reg.predict(df[cols])"
   ]
  },
  {
   "cell_type": "markdown",
   "metadata": {
    "cell_id": "696aa7e9b1454530840d73ec5960d5b2",
    "deepnote_cell_type": "markdown",
    "tags": []
   },
   "source": [
    "Still, by using KNeighbors, the predict results do not vary from randomforest a lot. Therefore, I conclude that there is no much relations between the Total Cases and other datas."
   ]
  },
  {
   "cell_type": "code",
   "execution_count": 38,
   "metadata": {
    "cell_id": "09d3ead3dffe4b4db9ed4266cf7a54c2",
    "deepnote_cell_type": "code",
    "deepnote_to_be_reexecuted": false,
    "execution_millis": 95,
    "execution_start": 1670263055364,
    "source_hash": "fce64b52",
    "tags": []
   },
   "outputs": [
    {
     "data": {
      "text/html": [
       "\n",
       "<div id=\"altair-viz-392bfbf6fc424e969dd88e7152ee9d1c\"></div>\n",
       "<script type=\"text/javascript\">\n",
       "  var VEGA_DEBUG = (typeof VEGA_DEBUG == \"undefined\") ? {} : VEGA_DEBUG;\n",
       "  (function(spec, embedOpt){\n",
       "    let outputDiv = document.currentScript.previousElementSibling;\n",
       "    if (outputDiv.id !== \"altair-viz-392bfbf6fc424e969dd88e7152ee9d1c\") {\n",
       "      outputDiv = document.getElementById(\"altair-viz-392bfbf6fc424e969dd88e7152ee9d1c\");\n",
       "    }\n",
       "    const paths = {\n",
       "      \"vega\": \"https://cdn.jsdelivr.net/npm//vega@5?noext\",\n",
       "      \"vega-lib\": \"https://cdn.jsdelivr.net/npm//vega-lib?noext\",\n",
       "      \"vega-lite\": \"https://cdn.jsdelivr.net/npm//vega-lite@4.17.0?noext\",\n",
       "      \"vega-embed\": \"https://cdn.jsdelivr.net/npm//vega-embed@6?noext\",\n",
       "    };\n",
       "\n",
       "    function maybeLoadScript(lib, version) {\n",
       "      var key = `${lib.replace(\"-\", \"\")}_version`;\n",
       "      return (VEGA_DEBUG[key] == version) ?\n",
       "        Promise.resolve(paths[lib]) :\n",
       "        new Promise(function(resolve, reject) {\n",
       "          var s = document.createElement('script');\n",
       "          document.getElementsByTagName(\"head\")[0].appendChild(s);\n",
       "          s.async = true;\n",
       "          s.onload = () => {\n",
       "            VEGA_DEBUG[key] = version;\n",
       "            return resolve(paths[lib]);\n",
       "          };\n",
       "          s.onerror = () => reject(`Error loading script: ${paths[lib]}`);\n",
       "          s.src = paths[lib];\n",
       "        });\n",
       "    }\n",
       "\n",
       "    function showError(err) {\n",
       "      outputDiv.innerHTML = `<div class=\"error\" style=\"color:red;\">${err}</div>`;\n",
       "      throw err;\n",
       "    }\n",
       "\n",
       "    function displayChart(vegaEmbed) {\n",
       "      vegaEmbed(outputDiv, spec, embedOpt)\n",
       "        .catch(err => showError(`Javascript Error: ${err.message}<br>This usually means there's a typo in your chart specification. See the javascript console for the full traceback.`));\n",
       "    }\n",
       "\n",
       "    if(typeof define === \"function\" && define.amd) {\n",
       "      requirejs.config({paths});\n",
       "      require([\"vega-embed\"], displayChart, err => showError(`Error loading script: ${err.message}`));\n",
       "    } else {\n",
       "      maybeLoadScript(\"vega\", \"5\")\n",
       "        .then(() => maybeLoadScript(\"vega-lite\", \"4.17.0\"))\n",
       "        .then(() => maybeLoadScript(\"vega-embed\", \"6\"))\n",
       "        .catch(showError)\n",
       "        .then(() => displayChart(vegaEmbed));\n",
       "    }\n",
       "  })({\"config\": {\"view\": {\"continuousWidth\": 400, \"continuousHeight\": 300}}, \"layer\": [{\"mark\": {\"type\": \"circle\", \"color\": \"black\"}, \"encoding\": {\"tooltip\": {\"field\": \"Country\", \"type\": \"nominal\"}, \"x\": {\"field\": \"Population\", \"scale\": {\"domain\": [0, 400000000]}, \"type\": \"quantitative\"}, \"y\": {\"field\": \"Total Cases\", \"type\": \"quantitative\"}}}, {\"mark\": {\"type\": \"circle\", \"color\": \"red\"}, \"encoding\": {\"x\": {\"field\": \"Population\", \"scale\": {\"domain\": [0, 400000000]}, \"type\": \"quantitative\"}, \"y\": {\"field\": \"K_predict\", \"type\": \"quantitative\"}}}], \"data\": {\"name\": \"data-7292b6cf191cc85cfa70d8e4960cb16e\"}, \"$schema\": \"https://vega.github.io/schema/vega-lite/v4.17.0.json\", \"datasets\": {\"data-7292b6cf191cc85cfa70d8e4960cb16e\": [{\"#\": 1, \"Country\": \"USA\", \"Total Cases\": 98166904, \"Total Deaths\": 1084282, \"Total Recovered\": 94962112, \"Active Cases\": 2120510, \"Serious Criticals\": 2970, \"Total Cases/m\": 293206, \"Deaths/m\": 3239, \"Total Test\": 1118158870, \"Tests/m\": 3339729, \"Population\": 334805269, \"pred\": 246906.51986817355, \"K_predict\": 321542.4}, {\"#\": 2, \"Country\": \"India\", \"Total Cases\": 44587307, \"Total Deaths\": 528629, \"Total Recovered\": 44019095, \"Active Cases\": 39583, \"Serious Criticals\": 698, \"Total Cases/m\": 31698, \"Deaths/m\": 376, \"Total Test\": 894416853, \"Tests/m\": 635857, \"Population\": 1406631776, \"pred\": 139244.25653060136, \"K_predict\": 138593.8}, {\"#\": 3, \"Country\": \"France\", \"Total Cases\": 35342950, \"Total Deaths\": 155078, \"Total Recovered\": 34527115, \"Active Cases\": 660757, \"Serious Criticals\": 869, \"Total Cases/m\": 538892, \"Deaths/m\": 2365, \"Total Test\": 271490188, \"Tests/m\": 4139547, \"Population\": 65584518, \"pred\": 433103.5861428573, \"K_predict\": 363313.2}, {\"#\": 4, \"Country\": \"Brazil\", \"Total Cases\": 34706757, \"Total Deaths\": 686027, \"Total Recovered\": 33838636, \"Active Cases\": 182094, \"Serious Criticals\": 8318, \"Total Cases/m\": 161162, \"Deaths/m\": 3186, \"Total Test\": 63776166, \"Tests/m\": 296146, \"Population\": 215353593, \"pred\": 179713.49116518203, \"K_predict\": 40866.6}, {\"#\": 5, \"Country\": \"Germany\", \"Total Cases\": 33312373, \"Total Deaths\": 149948, \"Total Recovered\": 32315200, \"Active Cases\": 847225, \"Serious Criticals\": 1406, \"Total Cases/m\": 397126, \"Deaths/m\": 1788, \"Total Test\": 122332384, \"Tests/m\": 1458359, \"Population\": 83883596, \"pred\": 310796.44157911534, \"K_predict\": 193424.2}, {\"#\": 6, \"Country\": \"S. Korea\", \"Total Cases\": 24769101, \"Total Deaths\": 28406, \"Total Recovered\": 24013461, \"Active Cases\": 727234, \"Serious Criticals\": 352, \"Total Cases/m\": 482547, \"Deaths/m\": 553, \"Total Test\": 15804065, \"Tests/m\": 307892, \"Population\": 51329899, \"pred\": 407653.61076208274, \"K_predict\": 187581.2}, {\"#\": 7, \"Country\": \"UK\", \"Total Cases\": 23621952, \"Total Deaths\": 189919, \"Total Recovered\": 23347871, \"Active Cases\": 84162, \"Serious Criticals\": 146, \"Total Cases/m\": 344857, \"Deaths/m\": 2773, \"Total Test\": 522526476, \"Tests/m\": 7628357, \"Population\": 68497907, \"pred\": 332588.66051948053, \"K_predict\": 337351.2}, {\"#\": 8, \"Country\": \"Italy\", \"Total Cases\": 22432803, \"Total Deaths\": 177054, \"Total Recovered\": 21779604, \"Active Cases\": 476145, \"Serious Criticals\": 141, \"Total Cases/m\": 372250, \"Deaths/m\": 2938, \"Total Test\": 246636495, \"Tests/m\": 4092684, \"Population\": 60262770, \"pred\": 363703.368015332, \"K_predict\": 363313.2}, {\"#\": 9, \"Country\": \"Japan\", \"Total Cases\": 21229216, \"Total Deaths\": 44678, \"Total Recovered\": 20380089, \"Active Cases\": 804449, \"Serious Criticals\": 204, \"Total Cases/m\": 169043, \"Deaths/m\": 356, \"Total Test\": 76201407, \"Tests/m\": 606772, \"Population\": 125584838, \"pred\": 158529.72486507377, \"K_predict\": 92340.4}, {\"#\": 10, \"Country\": \"Russia\", \"Total Cases\": 20948470, \"Total Deaths\": 387163, \"Total Recovered\": 19979763, \"Active Cases\": 581544, \"Serious Criticals\": 2300, \"Total Cases/m\": 143674, \"Deaths/m\": 2655, \"Total Test\": 273400000, \"Tests/m\": 1875095, \"Population\": 145805947, \"pred\": 180220.05609945056, \"K_predict\": 363313.2}, {\"#\": 11, \"Country\": \"Turkey\", \"Total Cases\": 16873793, \"Total Deaths\": 101139, \"Total Recovered\": 16754301, \"Active Cases\": 18353, \"Serious Criticals\": 975, \"Total Cases/m\": 197211, \"Deaths/m\": 1182, \"Total Test\": 162743369, \"Tests/m\": 1902052, \"Population\": 85561976, \"pred\": 159684.19768536327, \"K_predict\": 329423.8}, {\"#\": 12, \"Country\": \"Spain\", \"Total Cases\": 13412263, \"Total Deaths\": 114084, \"Total Recovered\": 13218892, \"Active Cases\": 79287, \"Serious Criticals\": 339, \"Total Cases/m\": 287083, \"Deaths/m\": 2442, \"Total Test\": 471036328, \"Tests/m\": 10082298, \"Population\": 46719142, \"pred\": 308143.9358891054, \"K_predict\": 337351.2}, {\"#\": 13, \"Country\": \"Vietnam\", \"Total Cases\": 11477886, \"Total Deaths\": 43148, \"Total Recovered\": 10590917, \"Active Cases\": 843821, \"Serious Criticals\": 106, \"Total Cases/m\": 115993, \"Deaths/m\": 436, \"Total Test\": 85826548, \"Tests/m\": 867342, \"Population\": 98953541, \"pred\": 147790.17713903592, \"K_predict\": 160995.8}, {\"#\": 14, \"Country\": \"Australia\", \"Total Cases\": 10209239, \"Total Deaths\": 14984, \"Total Recovered\": 10133494, \"Active Cases\": 60761, \"Serious Criticals\": 49, \"Total Cases/m\": 391627, \"Deaths/m\": 575, \"Total Test\": 78835048, \"Tests/m\": 3024116, \"Population\": 26068792, \"pred\": 332736.3226461952, \"K_predict\": 216324.2}, {\"#\": 15, \"Country\": \"Argentina\", \"Total Cases\": 9708420, \"Total Deaths\": 129897, \"Total Recovered\": 9563348, \"Active Cases\": 15175, \"Serious Criticals\": 294, \"Total Cases/m\": 211006, \"Deaths/m\": 2823, \"Total Test\": 35716069, \"Tests/m\": 776264, \"Population\": 46010234, \"pred\": 192156.23306373082, \"K_predict\": 129176.4}, {\"#\": 16, \"Country\": \"Netherlands\", \"Total Cases\": 8422336, \"Total Deaths\": 22643, \"Total Recovered\": 8362464, \"Active Cases\": 37229, \"Serious Criticals\": 35, \"Total Cases/m\": 489345, \"Deaths/m\": 1316, \"Total Test\": 21107399, \"Tests/m\": 1226358, \"Population\": 17211447, \"pred\": 364415.04397871584, \"K_predict\": 295209.0}, {\"#\": 17, \"Country\": \"Iran\", \"Total Cases\": 7548320, \"Total Deaths\": 144421, \"Total Recovered\": 7325370, \"Active Cases\": 78529, \"Serious Criticals\": 157, \"Total Cases/m\": 87748, \"Deaths/m\": 1679, \"Total Test\": 54095556, \"Tests/m\": 628851, \"Population\": 86022837, \"pred\": 106091.36834429885, \"K_predict\": 85479.8}, {\"#\": 18, \"Country\": \"Mexico\", \"Total Cases\": 7084488, \"Total Deaths\": 330065, \"Total Recovered\": 6353953, \"Active Cases\": 400470, \"Serious Criticals\": 4798, \"Total Cases/m\": 53849, \"Deaths/m\": 2509, \"Total Test\": 18393211, \"Tests/m\": 139806, \"Population\": 131562772, \"pred\": 104616.5350858049, \"K_predict\": 21983.8}, {\"#\": 19, \"Country\": \"Indonesia\", \"Total Cases\": 6429767, \"Total Deaths\": 158093, \"Total Recovered\": 6253317, \"Active Cases\": 18357, \"Serious Criticals\": 2771, \"Total Cases/m\": 23035, \"Deaths/m\": 566, \"Total Test\": 108656989, \"Tests/m\": 389264, \"Population\": 279134505, \"pred\": 78004.5273544518, \"K_predict\": 40866.6}, {\"#\": 21, \"Country\": \"Colombia\", \"Total Cases\": 6307372, \"Total Deaths\": 141794, \"Total Recovered\": 6134690, \"Active Cases\": 30888, \"Serious Criticals\": 342, \"Total Cases/m\": 122443, \"Deaths/m\": 2753, \"Total Test\": 36572720, \"Tests/m\": 709974, \"Population\": 51512762, \"pred\": 133362.81893955971, \"K_predict\": 137850.4}, {\"#\": 22, \"Country\": \"Poland\", \"Total Cases\": 6289672, \"Total Deaths\": 117539, \"Total Recovered\": 5335940, \"Active Cases\": 836193, \"Serious Criticals\": 3086, \"Total Cases/m\": 166659, \"Deaths/m\": 3114, \"Total Test\": 37335609, \"Tests/m\": 989290, \"Population\": 37739785, \"pred\": 156694.55539895254, \"K_predict\": 129176.4}, {\"#\": 23, \"Country\": \"Portugal\", \"Total Cases\": 5490639, \"Total Deaths\": 25024, \"Total Recovered\": 5394788, \"Active Cases\": 70827, \"Serious Criticals\": 61, \"Total Cases/m\": 541453, \"Deaths/m\": 2468, \"Total Test\": 44988307, \"Tests/m\": 4436467, \"Population\": 10140570, \"pred\": 436206.90938475414, \"K_predict\": 336066.8}, {\"#\": 24, \"Country\": \"Ukraine\", \"Total Cases\": 5177217, \"Total Deaths\": 109206, \"Total Recovered\": 4973554, \"Active Cases\": 94457, \"Serious Criticals\": 177, \"Total Cases/m\": 119865, \"Deaths/m\": 2528, \"Total Test\": 19521252, \"Tests/m\": 451963, \"Population\": 43192122, \"pred\": 144507.2148958282, \"K_predict\": 109139.8}, {\"#\": 25, \"Country\": \"Austria\", \"Total Cases\": 5118512, \"Total Deaths\": 20738, \"Total Recovered\": 5006572, \"Active Cases\": 91202, \"Serious Criticals\": 47, \"Total Cases/m\": 564539, \"Deaths/m\": 2287, \"Total Test\": 197543761, \"Tests/m\": 21787811, \"Population\": 9066710, \"pred\": 449797.067254884, \"K_predict\": 429962.0}, {\"#\": 26, \"Country\": \"Greece\", \"Total Cases\": 4920192, \"Total Deaths\": 33111, \"Total Recovered\": 4836903, \"Active Cases\": 50178, \"Serious Criticals\": 115, \"Total Cases/m\": 476918, \"Deaths/m\": 3209, \"Total Test\": 94139966, \"Tests/m\": 9125063, \"Population\": 10316637, \"pred\": 425284.31633026694, \"K_predict\": 311728.2}, {\"#\": 27, \"Country\": \"Malaysia\", \"Total Cases\": 4838872, \"Total Deaths\": 36369, \"Total Recovered\": 4777329, \"Active Cases\": 25174, \"Serious Criticals\": 43, \"Total Cases/m\": 145832, \"Deaths/m\": 1096, \"Total Test\": 64604259, \"Tests/m\": 1947021, \"Population\": 33181072, \"pred\": 185248.07761219263, \"K_predict\": 154272.4}, {\"#\": 29, \"Country\": \"Thailand\", \"Total Cases\": 4681309, \"Total Deaths\": 32767, \"Total Recovered\": 4642083, \"Active Cases\": 6459, \"Serious Criticals\": 1496, \"Total Cases/m\": 66801, \"Deaths/m\": 468, \"Total Test\": 17270775, \"Tests/m\": 246450, \"Population\": 70078203, \"pred\": 109299.6769536436, \"K_predict\": 76255.0}, {\"#\": 30, \"Country\": \"Israel\", \"Total Cases\": 4661096, \"Total Deaths\": 11698, \"Total Recovered\": 4641394, \"Active Cases\": 8004, \"Serious Criticals\": 101, \"Total Cases/m\": 499796, \"Deaths/m\": 1254, \"Total Test\": 41373364, \"Tests/m\": 4436346, \"Population\": 9326000, \"pred\": 449986.901520202, \"K_predict\": 336066.8}, {\"#\": 31, \"Country\": \"Chile\", \"Total Cases\": 4620377, \"Total Deaths\": 61141, \"Total Recovered\": 4540886, \"Active Cases\": 18350, \"Serious Criticals\": 124, \"Total Cases/m\": 240017, \"Deaths/m\": 3176, \"Total Test\": 45128974, \"Tests/m\": 2344339, \"Population\": 19250195, \"pred\": 181627.79496863767, \"K_predict\": 276546.0}, {\"#\": 32, \"Country\": \"Belgium\", \"Total Cases\": 4533249, \"Total Deaths\": 32659, \"Total Recovered\": 4451569, \"Active Cases\": 49021, \"Serious Criticals\": 48, \"Total Cases/m\": 388511, \"Deaths/m\": 2799, \"Total Test\": 35555508, \"Tests/m\": 3047194, \"Population\": 11668278, \"pred\": 336783.7588186357, \"K_predict\": 382844.8}, {\"#\": 33, \"Country\": \"Canada\", \"Total Cases\": 4233468, \"Total Deaths\": 44992, \"Total Recovered\": 4131367, \"Active Cases\": 57109, \"Serious Criticals\": 99, \"Total Cases/m\": 110280, \"Deaths/m\": 1172, \"Total Test\": 64928884, \"Tests/m\": 1691366, \"Population\": 38388419, \"pred\": 152339.66047317826, \"K_predict\": 132546.0}, {\"#\": 34, \"Country\": \"Peru\", \"Total Cases\": 4143085, \"Total Deaths\": 216539, \"Total Recovered\": 3914598, \"Active Cases\": 11948, \"Serious Criticals\": 147, \"Total Cases/m\": 122998, \"Deaths/m\": 6429, \"Total Test\": 35126382, \"Tests/m\": 1042815, \"Population\": 33684208, \"pred\": 95765.18162009613, \"K_predict\": 152691.2}, {\"#\": 35, \"Country\": \"Czechia\", \"Total Cases\": 4100480, \"Total Deaths\": 41059, \"Total Recovered\": 4035333, \"Active Cases\": 24088, \"Serious Criticals\": 39, \"Total Cases/m\": 381910, \"Deaths/m\": 3824, \"Total Test\": 56212735, \"Tests/m\": 5235528, \"Population\": 10736784, \"pred\": 271269.2517477956, \"K_predict\": 276546.0}, {\"#\": 36, \"Country\": \"Switzerland\", \"Total Cases\": 4084307, \"Total Deaths\": 14183, \"Total Recovered\": 4012833, \"Active Cases\": 57291, \"Serious Criticals\": 54, \"Total Cases/m\": 465520, \"Deaths/m\": 1617, \"Total Test\": 22318542, \"Tests/m\": 2543819, \"Population\": 8773637, \"pred\": 418934.25191938615, \"K_predict\": 261416.0}, {\"#\": 37, \"Country\": \"South Africa\", \"Total Cases\": 4018769, \"Total Deaths\": 102185, \"Total Recovered\": 3909265, \"Active Cases\": 7319, \"Serious Criticals\": 192, \"Total Cases/m\": 66146, \"Deaths/m\": 1682, \"Total Test\": 26174429, \"Tests/m\": 430811, \"Population\": 60756135, \"pred\": 73650.3639601323, \"K_predict\": 117252.2}, {\"#\": 38, \"Country\": \"Philippines\", \"Total Cases\": 3945566, \"Total Deaths\": 62916, \"Total Recovered\": 3854478, \"Active Cases\": 28172, \"Serious Criticals\": 696, \"Total Cases/m\": 35069, \"Deaths/m\": 559, \"Total Test\": 32796350, \"Tests/m\": 291500, \"Population\": 112508994, \"pred\": 50103.59530856832, \"K_predict\": 37121.6}, {\"#\": 39, \"Country\": \"Romania\", \"Total Cases\": 3267370, \"Total Deaths\": 67016, \"Total Recovered\": 3180124, \"Active Cases\": 20230, \"Serious Criticals\": 123, \"Total Cases/m\": 171684, \"Deaths/m\": 3521, \"Total Test\": 25094131, \"Tests/m\": 1318569, \"Population\": 19031335, \"pred\": 98815.73949089985, \"K_predict\": 353254.2}, {\"#\": 41, \"Country\": \"Sweden\", \"Total Cases\": 2588441, \"Total Deaths\": 20194, \"Total Recovered\": 2548125, \"Active Cases\": 20122, \"Serious Criticals\": 13, \"Total Cases/m\": 253298, \"Deaths/m\": 1976, \"Total Test\": 18965590, \"Tests/m\": 1855920, \"Population\": 10218971, \"pred\": 264527.52129414084, \"K_predict\": 261416.0}, {\"#\": 42, \"Country\": \"Iraq\", \"Total Cases\": 2459982, \"Total Deaths\": 25355, \"Total Recovered\": 2433704, \"Active Cases\": 923, \"Serious Criticals\": 21, \"Total Cases/m\": 58342, \"Deaths/m\": 601, \"Total Test\": 19239264, \"Tests/m\": 456286, \"Population\": 42164965, \"pred\": 64347.90493554613, \"K_predict\": 67915.6}, {\"#\": 43, \"Country\": \"Serbia\", \"Total Cases\": 2359530, \"Total Deaths\": 17000, \"Total Recovered\": 2298536, \"Active Cases\": 43994, \"Serious Criticals\": 33, \"Total Cases/m\": 272683, \"Deaths/m\": 1965, \"Total Test\": 11030499, \"Tests/m\": 1274758, \"Population\": 8653016, \"pred\": 292615.5958784663, \"K_predict\": 230315.8}, {\"#\": 44, \"Country\": \"Hungary\", \"Total Cases\": 2094142, \"Total Deaths\": 47503, \"Total Recovered\": 2014175, \"Active Cases\": 32464, \"Serious Criticals\": 18, \"Total Cases/m\": 217998, \"Deaths/m\": 4945, \"Total Test\": 11394556, \"Tests/m\": 1186160, \"Population\": 9606259, \"pred\": 302044.38249340694, \"K_predict\": 230315.8}, {\"#\": 45, \"Country\": \"Bangladesh\", \"Total Cases\": 2024489, \"Total Deaths\": 29362, \"Total Recovered\": 1964501, \"Active Cases\": 30626, \"Serious Criticals\": 1331, \"Total Cases/m\": 12059, \"Deaths/m\": 175, \"Total Test\": 14872260, \"Tests/m\": 88586, \"Population\": 167885689, \"pred\": 51398.0427218524, \"K_predict\": 21257.2}, {\"#\": 46, \"Country\": \"Singapore\", \"Total Cases\": 1904192, \"Total Deaths\": 1617, \"Total Recovered\": 1821160, \"Active Cases\": 81415, \"Serious Criticals\": 9, \"Total Cases/m\": 320380, \"Deaths/m\": 272, \"Total Test\": 24345019, \"Tests/m\": 4096043, \"Population\": 5943546, \"pred\": 293562.5153304865, \"K_predict\": 261416.0}, {\"#\": 47, \"Country\": \"Slovakia\", \"Total Cases\": 1843220, \"Total Deaths\": 20455, \"Total Recovered\": 1817938, \"Active Cases\": 4827, \"Serious Criticals\": 22, \"Total Cases/m\": 337574, \"Deaths/m\": 3746, \"Total Test\": 7298163, \"Tests/m\": 1336613, \"Population\": 5460193, \"pred\": 262519.4154742871, \"K_predict\": 248299.6}, {\"#\": 50, \"Country\": \"Hong Kong\", \"Total Cases\": 1761381, \"Total Deaths\": 10153, \"Total Recovered\": 1469240, \"Active Cases\": 281988, \"Serious Criticals\": 8, \"Total Cases/m\": 231630, \"Deaths/m\": 1335, \"Total Test\": 54352132, \"Tests/m\": 7147553, \"Population\": 7604299, \"pred\": 281549.64032038546, \"K_predict\": 276546.0}, {\"#\": 51, \"Country\": \"Jordan\", \"Total Cases\": 1746997, \"Total Deaths\": 14122, \"Total Recovered\": 1731007, \"Active Cases\": 1868, \"Serious Criticals\": 59, \"Total Cases/m\": 169597, \"Deaths/m\": 1371, \"Total Test\": 17201885, \"Tests/m\": 1669945, \"Population\": 10300869, \"pred\": 218504.37043750484, \"K_predict\": 251876.6}, {\"#\": 52, \"Country\": \"Ireland\", \"Total Cases\": 1663653, \"Total Deaths\": 7905, \"Total Recovered\": 1648405, \"Active Cases\": 7343, \"Serious Criticals\": 13, \"Total Cases/m\": 331392, \"Deaths/m\": 1575, \"Total Test\": 12708583, \"Tests/m\": 2531490, \"Population\": 5020199, \"pred\": 282424.08362370054, \"K_predict\": 304518.4}, {\"#\": 53, \"Country\": \"Pakistan\", \"Total Cases\": 1572598, \"Total Deaths\": 30616, \"Total Recovered\": 1536924, \"Active Cases\": 5058, \"Serious Criticals\": 47, \"Total Cases/m\": 6853, \"Deaths/m\": 133, \"Total Test\": 30477451, \"Tests/m\": 132806, \"Population\": 229488994, \"pred\": 49993.451576950494, \"K_predict\": 40866.6}, {\"#\": 54, \"Country\": \"Norway\", \"Total Cases\": 1462318, \"Total Deaths\": 4098, \"Total Recovered\": 1457108, \"Active Cases\": 1112, \"Serious Criticals\": 20, \"Total Cases/m\": 265327, \"Deaths/m\": 744, \"Total Test\": 11002430, \"Tests/m\": 1996315, \"Population\": 5511370, \"pred\": 262664.9888624063, \"K_predict\": 304518.4}, {\"#\": 55, \"Country\": \"Kazakhstan\", \"Total Cases\": 1393468, \"Total Deaths\": 13690, \"Total Recovered\": 1378440, \"Active Cases\": 1338, \"Serious Criticals\": 24, \"Total Cases/m\": 72557, \"Deaths/m\": 713, \"Total Test\": 11575012, \"Tests/m\": 602707, \"Population\": 19205043, \"pred\": 73757.02387101836, \"K_predict\": 80108.2}, {\"#\": 56, \"Country\": \"Finland\", \"Total Cases\": 1292940, \"Total Deaths\": 5981, \"Total Recovered\": 1263711, \"Active Cases\": 23248, \"Serious Criticals\": 21, \"Total Cases/m\": 232754, \"Deaths/m\": 1077, \"Total Test\": 11505032, \"Tests/m\": 2071128, \"Population\": 5554960, \"pred\": 296991.27626861143, \"K_predict\": 304518.4}, {\"#\": 57, \"Country\": \"Morocco\", \"Total Cases\": 1264935, \"Total Deaths\": 16278, \"Total Recovered\": 1248543, \"Active Cases\": 114, \"Serious Criticals\": 293, \"Total Cases/m\": 33488, \"Deaths/m\": 431, \"Total Test\": 12577650, \"Tests/m\": 332982, \"Population\": 37772756, \"pred\": 55022.47172110703, \"K_predict\": 44803.6}, {\"#\": 58, \"Country\": \"Bulgaria\", \"Total Cases\": 1258670, \"Total Deaths\": 37714, \"Total Recovered\": 1211397, \"Active Cases\": 9559, \"Serious Criticals\": 43, \"Total Cases/m\": 183892, \"Deaths/m\": 5510, \"Total Test\": 10559171, \"Tests/m\": 1542702, \"Population\": 6844597, \"pred\": 213867.98909325906, \"K_predict\": 304518.4}, {\"#\": 59, \"Country\": \"Lithuania\", \"Total Cases\": 1249134, \"Total Deaths\": 9320, \"Total Recovered\": 1216151, \"Active Cases\": 23663, \"Serious Criticals\": 12, \"Total Cases/m\": 469298, \"Deaths/m\": 3502, \"Total Test\": 10174473, \"Tests/m\": 3822535, \"Population\": 2661708, \"pred\": 419540.9020252526, \"K_predict\": 385155.0}, {\"#\": 60, \"Country\": \"Croatia\", \"Total Cases\": 1231575, \"Total Deaths\": 16902, \"Total Recovered\": 1209524, \"Active Cases\": 5149, \"Serious Criticals\": 10, \"Total Cases/m\": 303397, \"Deaths/m\": 4164, \"Total Test\": 5225875, \"Tests/m\": 1287388, \"Population\": 4059286, \"pred\": 260974.75622048805, \"K_predict\": 211045.8}, {\"#\": 61, \"Country\": \"Lebanon\", \"Total Cases\": 1215511, \"Total Deaths\": 10674, \"Total Recovered\": 1087587, \"Active Cases\": 117250, \"Serious Criticals\": 74, \"Total Cases/m\": 181831, \"Deaths/m\": 1597, \"Total Test\": 4795578, \"Tests/m\": 717380, \"Population\": 6684849, \"pred\": 227398.29923086357, \"K_predict\": 104784.8}, {\"#\": 62, \"Country\": \"Slovenia\", \"Total Cases\": 1181073, \"Total Deaths\": 6820, \"Total Recovered\": 1145051, \"Active Cases\": 29202, \"Serious Criticals\": 22, \"Total Cases/m\": 568361, \"Deaths/m\": 3282, \"Total Test\": 2743244, \"Tests/m\": 1320115, \"Population\": 2078034, \"pred\": 429229.48583080823, \"K_predict\": 389055.6}, {\"#\": 64, \"Country\": \"Guatemala\", \"Total Cases\": 1123465, \"Total Deaths\": 19789, \"Total Recovered\": 1102988, \"Active Cases\": 688, \"Serious Criticals\": 5, \"Total Cases/m\": 60453, \"Deaths/m\": 1065, \"Total Test\": 5884813, \"Tests/m\": 316660, \"Population\": 18584039, \"pred\": 53509.11487879535, \"K_predict\": 45556.0}, {\"#\": 65, \"Country\": \"Cuba\", \"Total Cases\": 1111179, \"Total Deaths\": 8530, \"Total Recovered\": 1102548, \"Active Cases\": 101, \"Serious Criticals\": 23, \"Total Cases/m\": 98285, \"Deaths/m\": 754, \"Total Test\": 14149157, \"Tests/m\": 1251512, \"Population\": 11305652, \"pred\": 69251.26847560471, \"K_predict\": 195551.0}, {\"#\": 66, \"Country\": \"Bolivia\", \"Total Cases\": 1108195, \"Total Deaths\": 22234, \"Total Recovered\": 1051789, \"Active Cases\": 34172, \"Serious Criticals\": 220, \"Total Cases/m\": 92406, \"Deaths/m\": 1854, \"Total Test\": 2705422, \"Tests/m\": 225590, \"Population\": 11992656, \"pred\": 96728.87210611206, \"K_predict\": 34338.6}, {\"#\": 67, \"Country\": \"Costa Rica\", \"Total Cases\": 1072807, \"Total Deaths\": 8913, \"Total Recovered\": 860711, \"Active Cases\": 203183, \"Serious Criticals\": 52, \"Total Cases/m\": 207012, \"Deaths/m\": 1720, \"Total Test\": 4659757, \"Tests/m\": 899158, \"Population\": 5182354, \"pred\": 219924.93137479422, \"K_predict\": 211045.8}, {\"#\": 69, \"Country\": \"Ecuador\", \"Total Cases\": 1003778, \"Total Deaths\": 35894, \"Total Recovered\": 964320, \"Active Cases\": 3564, \"Serious Criticals\": 759, \"Total Cases/m\": 55416, \"Deaths/m\": 1982, \"Total Test\": 3082403, \"Tests/m\": 170173, \"Population\": 18113361, \"pred\": 52055.37356634981, \"K_predict\": 45556.0}, {\"#\": 72, \"Country\": \"Panama\", \"Total Cases\": 986866, \"Total Deaths\": 8497, \"Total Recovered\": 976873, \"Active Cases\": 1496, \"Serious Criticals\": 16, \"Total Cases/m\": 221919, \"Deaths/m\": 1911, \"Total Test\": 7062027, \"Tests/m\": 1588056, \"Population\": 4446964, \"pred\": 249580.44319724993, \"K_predict\": 281688.0}, {\"#\": 73, \"Country\": \"Uruguay\", \"Total Cases\": 985422, \"Total Deaths\": 7485, \"Total Recovered\": 976760, \"Active Cases\": 1177, \"Serious Criticals\": 18, \"Total Cases/m\": 281870, \"Deaths/m\": 2141, \"Total Test\": 6114822, \"Tests/m\": 1749083, \"Population\": 3496016, \"pred\": 260868.8364148907, \"K_predict\": 278889.0}, {\"#\": 74, \"Country\": \"Mongolia\", \"Total Cases\": 982864, \"Total Deaths\": 2179, \"Total Recovered\": 979439, \"Active Cases\": 1246, \"Serious Criticals\": 192, \"Total Cases/m\": 290954, \"Deaths/m\": 645, \"Total Test\": 4030048, \"Tests/m\": 1193000, \"Population\": 3378078, \"pred\": 240438.77844077654, \"K_predict\": 301500.6}, {\"#\": 75, \"Country\": \"Latvia\", \"Total Cases\": 929051, \"Total Deaths\": 5990, \"Total Recovered\": 891237, \"Active Cases\": 31824, \"Serious Criticals\": 5, \"Total Cases/m\": 502506, \"Deaths/m\": 3240, \"Total Test\": 7650009, \"Tests/m\": 4137741, \"Population\": 1848837, \"pred\": 410459.9140425961, \"K_predict\": 382864.6}, {\"#\": 77, \"Country\": \"Saudi Arabia\", \"Total Cases\": 816389, \"Total Deaths\": 9351, \"Total Recovered\": 803546, \"Active Cases\": 3492, \"Serious Criticals\": 32, \"Total Cases/m\": 22776, \"Deaths/m\": 261, \"Total Test\": 44321147, \"Tests/m\": 1236470, \"Population\": 35844909, \"pred\": 47909.75962379785, \"K_predict\": 152691.2}, {\"#\": 78, \"Country\": \"Paraguay\", \"Total Cases\": 716059, \"Total Deaths\": 19583, \"Total Recovered\": 696110, \"Active Cases\": 366, \"Serious Criticals\": 7, \"Total Cases/m\": 98012, \"Deaths/m\": 2680, \"Total Test\": 2657506, \"Tests/m\": 363751, \"Population\": 7305843, \"pred\": 91717.09182615882, \"K_predict\": 69508.2}, {\"#\": 79, \"Country\": \"Bahrain\", \"Total Cases\": 680271, \"Total Deaths\": 1520, \"Total Recovered\": 675724, \"Active Cases\": 3027, \"Serious Criticals\": 2, \"Total Cases/m\": 381321, \"Deaths/m\": 852, \"Total Test\": 10376306, \"Tests/m\": 5816370, \"Population\": 1783983, \"pred\": 398958.13183588634, \"K_predict\": 385155.0}, {\"#\": 81, \"Country\": \"Kuwait\", \"Total Cases\": 658520, \"Total Deaths\": 2563, \"Total Recovered\": 655316, \"Active Cases\": 641, \"Serious Criticals\": 3, \"Total Cases/m\": 150336, \"Deaths/m\": 585, \"Total Test\": 8365279, \"Tests/m\": 1909739, \"Population\": 4380326, \"pred\": 199222.48282902752, \"K_predict\": 340242.6}, {\"#\": 82, \"Country\": \"Dominican Republic\", \"Total Cases\": 644016, \"Total Deaths\": 4384, \"Total Recovered\": 638911, \"Active Cases\": 721, \"Serious Criticals\": 4, \"Total Cases/m\": 58248, \"Deaths/m\": 397, \"Total Test\": 3657057, \"Tests/m\": 330765, \"Population\": 11056370, \"pred\": 46630.99657768886, \"K_predict\": 50583.0}, {\"#\": 84, \"Country\": \"Palestine\", \"Total Cases\": 620548, \"Total Deaths\": 5403, \"Total Recovered\": 608749, \"Active Cases\": 6396, \"Serious Criticals\": 17, \"Total Cases/m\": 116087, \"Deaths/m\": 1011, \"Total Test\": 3078533, \"Tests/m\": 575907, \"Population\": 5345541, \"pred\": 135392.08181769363, \"K_predict\": 114555.0}, {\"#\": 85, \"Country\": \"Estonia\", \"Total Cases\": 601869, \"Total Deaths\": 2681, \"Total Recovered\": 524990, \"Active Cases\": 74198, \"Serious Criticals\": 4, \"Total Cases/m\": 455303, \"Deaths/m\": 2028, \"Total Test\": 3536858, \"Tests/m\": 2675566, \"Population\": 1321910, \"pred\": 407695.0737684259, \"K_predict\": 389055.6}, {\"#\": 86, \"Country\": \"Moldova\", \"Total Cases\": 589388, \"Total Deaths\": 11844, \"Total Recovered\": 504142, \"Active Cases\": 73402, \"Serious Criticals\": 49, \"Total Cases/m\": 146863, \"Deaths/m\": 2951, \"Total Test\": 3216305, \"Tests/m\": 801437, \"Population\": 4013171, \"pred\": 208987.53769362342, \"K_predict\": 234398.4}, {\"#\": 87, \"Country\": \"Cyprus\", \"Total Cases\": 585313, \"Total Deaths\": 1180, \"Total Recovered\": 578452, \"Active Cases\": 5681, \"Serious Criticals\": 60, \"Total Cases/m\": 478437, \"Deaths/m\": 965, \"Total Test\": 9640118, \"Tests/m\": 7879860, \"Population\": 1223387, \"pred\": 420081.2014671995, \"K_predict\": 375250.6}, {\"#\": 88, \"Country\": \"Venezuela\", \"Total Cases\": 544687, \"Total Deaths\": 5814, \"Total Recovered\": 538033, \"Active Cases\": 840, \"Serious Criticals\": 36, \"Total Cases/m\": 18611, \"Deaths/m\": 199, \"Total Test\": 3359014, \"Tests/m\": 114771, \"Population\": 29266991, \"pred\": 31533.41072582519, \"K_predict\": 7105.4}, {\"#\": 89, \"Country\": \"Egypt\", \"Total Cases\": 515645, \"Total Deaths\": 24613, \"Total Recovered\": 442182, \"Active Cases\": 48850, \"Serious Criticals\": 122, \"Total Cases/m\": 4857, \"Deaths/m\": 232, \"Total Test\": 3693367, \"Tests/m\": 34792, \"Population\": 106156692, \"pred\": 39278.43375257188, \"K_predict\": 32932.2}, {\"#\": 90, \"Country\": \"Libya\", \"Total Cases\": 506991, \"Total Deaths\": 6437, \"Total Recovered\": 500507, \"Active Cases\": 47, \"Serious Criticals\": 101, \"Total Cases/m\": 72008, \"Deaths/m\": 914, \"Total Test\": 2481983, \"Tests/m\": 352517, \"Population\": 7040745, \"pred\": 72810.39779213732, \"K_predict\": 69508.2}, {\"#\": 91, \"Country\": \"Ethiopia\", \"Total Cases\": 493563, \"Total Deaths\": 7572, \"Total Recovered\": 471918, \"Active Cases\": 14073, \"Serious Criticals\": 1, \"Total Cases/m\": 4085, \"Deaths/m\": 63, \"Total Test\": 5258807, \"Tests/m\": 43529, \"Population\": 120812698, \"pred\": 22944.68745062621, \"K_predict\": 21983.8}, {\"#\": 92, \"Country\": \"R\\u00e9union\", \"Total Cases\": 472336, \"Total Deaths\": 893, \"Total Recovered\": 418572, \"Active Cases\": 52871, \"Serious Criticals\": 10, \"Total Cases/m\": 520159, \"Deaths/m\": 983, \"Total Test\": 1603660, \"Tests/m\": 1766027, \"Population\": 908061, \"pred\": 343975.65996056737, \"K_predict\": 297521.8}, {\"#\": 94, \"Country\": \"Qatar\", \"Total Cases\": 450448, \"Total Deaths\": 682, \"Total Recovered\": 443418, \"Active Cases\": 6348, \"Serious Criticals\": 4, \"Total Cases/m\": 151161, \"Deaths/m\": 229, \"Total Test\": 3951470, \"Tests/m\": 1326034, \"Population\": 2979915, \"pred\": 294968.65454556985, \"K_predict\": 321518.6}, {\"#\": 97, \"Country\": \"Oman\", \"Total Cases\": 397993, \"Total Deaths\": 4260, \"Total Recovered\": 384669, \"Active Cases\": 9064, \"Serious Criticals\": 2, \"Total Cases/m\": 74755, \"Deaths/m\": 800, \"Total Test\": 25000000, \"Tests/m\": 4695724, \"Population\": 5323993, \"pred\": 192543.54650131162, \"K_predict\": 308037.4}, {\"#\": 99, \"Country\": \"Kenya\", \"Total Cases\": 338420, \"Total Deaths\": 5678, \"Total Recovered\": 332663, \"Active Cases\": 79, \"Serious Criticals\": 1, \"Total Cases/m\": 6020, \"Deaths/m\": 101, \"Total Test\": 3881967, \"Tests/m\": 69055, \"Population\": 56215221, \"pred\": 21653.094795914687, \"K_predict\": 46211.8}, {\"#\": 102, \"Country\": \"Botswana\", \"Total Cases\": 326308, \"Total Deaths\": 2789, \"Total Recovered\": 322955, \"Active Cases\": 564, \"Serious Criticals\": 1, \"Total Cases/m\": 133669, \"Deaths/m\": 1142, \"Total Test\": 2026898, \"Tests/m\": 830300, \"Population\": 2441162, \"pred\": 160596.74279607768, \"K_predict\": 269818.2}, {\"#\": 104, \"Country\": \"Montenegro\", \"Total Cases\": 280002, \"Total Deaths\": 2781, \"Total Recovered\": 276154, \"Active Cases\": 1067, \"Serious Criticals\": 6, \"Total Cases/m\": 445899, \"Deaths/m\": 4429, \"Total Test\": 2624193, \"Tests/m\": 4178984, \"Population\": 627950, \"pred\": 390789.96538286685, \"K_predict\": 374710.2}, {\"#\": 105, \"Country\": \"Algeria\", \"Total Cases\": 270668, \"Total Deaths\": 6879, \"Total Recovered\": 182306, \"Active Cases\": 81483, \"Serious Criticals\": 6, \"Total Cases/m\": 5968, \"Deaths/m\": 152, \"Total Test\": 230861, \"Tests/m\": 5091, \"Population\": 45350148, \"pred\": 93137.19099921995, \"K_predict\": 6037.0}, {\"#\": 106, \"Country\": \"Nigeria\", \"Total Cases\": 265382, \"Total Deaths\": 3155, \"Total Recovered\": 258381, \"Active Cases\": 3846, \"Serious Criticals\": 11, \"Total Cases/m\": 1224, \"Deaths/m\": 15, \"Total Test\": 5441162, \"Tests/m\": 25104, \"Population\": 216746934, \"pred\": 20953.587379121687, \"K_predict\": 47029.4}, {\"#\": 107, \"Country\": \"Zimbabwe\", \"Total Cases\": 257409, \"Total Deaths\": 5602, \"Total Recovered\": 251281, \"Active Cases\": 526, \"Serious Criticals\": 12, \"Total Cases/m\": 16790, \"Deaths/m\": 365, \"Total Test\": 2511501, \"Tests/m\": 163814, \"Population\": 15331428, \"pred\": 22263.314711436666, \"K_predict\": 33772.2}, {\"#\": 108, \"Country\": \"China\", \"Total Cases\": 250449, \"Total Deaths\": 5226, \"Total Recovered\": 242254, \"Active Cases\": 2969, \"Serious Criticals\": 36, \"Total Cases/m\": 173, \"Deaths/m\": 4, \"Total Test\": 160000000, \"Tests/m\": 110461, \"Population\": 1448471400, \"pred\": 24367.8768793877, \"K_predict\": 44584.2}, {\"#\": 109, \"Country\": \"Uzbekistan\", \"Total Cases\": 244199, \"Total Deaths\": 1637, \"Total Recovered\": 241486, \"Active Cases\": 1076, \"Serious Criticals\": 23, \"Total Cases/m\": 7103, \"Deaths/m\": 48, \"Total Test\": 1377915, \"Tests/m\": 40077, \"Population\": 34382084, \"pred\": 25076.31721882511, \"K_predict\": 8555.2}, {\"#\": 110, \"Country\": \"Mozambique\", \"Total Cases\": 230219, \"Total Deaths\": 2221, \"Total Recovered\": 227882, \"Active Cases\": 116, \"Serious Criticals\": 11, \"Total Cases/m\": 6957, \"Deaths/m\": 67, \"Total Test\": 1371127, \"Tests/m\": 41437, \"Population\": 33089461, \"pred\": 21059.999850859745, \"K_predict\": 8449.8}, {\"#\": 111, \"Country\": \"Brunei\", \"Total Cases\": 226237, \"Total Deaths\": 225, \"Total Recovered\": 222140, \"Active Cases\": 3872, \"Serious Criticals\": 3, \"Total Cases/m\": 507906, \"Deaths/m\": 505, \"Total Test\": 717784, \"Tests/m\": 1611437, \"Population\": 445431, \"pred\": 418051.06289452047, \"K_predict\": 271298.8}, {\"#\": 114, \"Country\": \"Kyrgyzstan\", \"Total Cases\": 206083, \"Total Deaths\": 2991, \"Total Recovered\": 196406, \"Active Cases\": 6686, \"Serious Criticals\": 131, \"Total Cases/m\": 30629, \"Deaths/m\": 445, \"Total Test\": 1907195, \"Tests/m\": 283460, \"Population\": 6728271, \"pred\": 68925.79839102988, \"K_predict\": 69508.2}, {\"#\": 116, \"Country\": \"El Salvador\", \"Total Cases\": 201785, \"Total Deaths\": 4229, \"Total Recovered\": 179410, \"Active Cases\": 18146, \"Serious Criticals\": 8, \"Total Cases/m\": 30805, \"Deaths/m\": 646, \"Total Test\": 2610114, \"Tests/m\": 398467, \"Population\": 6550389, \"pred\": 87325.66635142326, \"K_predict\": 69508.2}, {\"#\": 117, \"Country\": \"Afghanistan\", \"Total Cases\": 199067, \"Total Deaths\": 7799, \"Total Recovered\": 177850, \"Active Cases\": 13418, \"Serious Criticals\": 1124, \"Total Cases/m\": 4885, \"Deaths/m\": 191, \"Total Test\": 1103716, \"Tests/m\": 27082, \"Population\": 40754388, \"pred\": 26349.735115919244, \"K_predict\": 8555.2}, {\"#\": 119, \"Country\": \"Maldives\", \"Total Cases\": 185042, \"Total Deaths\": 308, \"Total Recovered\": 163687, \"Active Cases\": 21047, \"Serious Criticals\": 25, \"Total Cases/m\": 342046, \"Deaths/m\": 569, \"Total Test\": 2213831, \"Tests/m\": 4092223, \"Population\": 540985, \"pred\": 332727.3616552045, \"K_predict\": 362619.2}, {\"#\": 120, \"Country\": \"Trinidad and Tobago\", \"Total Cases\": 182597, \"Total Deaths\": 4195, \"Total Recovered\": 174214, \"Active Cases\": 4188, \"Serious Criticals\": 18, \"Total Cases/m\": 129816, \"Deaths/m\": 2982, \"Total Test\": 834508, \"Tests/m\": 593287, \"Population\": 1406585, \"pred\": 194424.4993220899, \"K_predict\": 162759.4}, {\"#\": 121, \"Country\": \"Uganda\", \"Total Cases\": 169396, \"Total Deaths\": 3628, \"Total Recovered\": 100431, \"Active Cases\": 65337, \"Serious Criticals\": 3, \"Total Cases/m\": 3498, \"Deaths/m\": 75, \"Total Test\": 3012408, \"Tests/m\": 62198, \"Population\": 48432863, \"pred\": 94428.63776539823, \"K_predict\": 11690.6}, {\"#\": 123, \"Country\": \"Ghana\", \"Total Cases\": 169100, \"Total Deaths\": 1459, \"Total Recovered\": 167307, \"Active Cases\": 334, \"Serious Criticals\": 2, \"Total Cases/m\": 5220, \"Deaths/m\": 45, \"Total Test\": 2504017, \"Tests/m\": 77295, \"Population\": 32395450, \"pred\": 21059.999850859745, \"K_predict\": 8449.8}, {\"#\": 127, \"Country\": \"Cameroon\", \"Total Cases\": 121652, \"Total Deaths\": 1935, \"Total Recovered\": 118616, \"Active Cases\": 1101, \"Serious Criticals\": 13, \"Total Cases/m\": 4358, \"Deaths/m\": 69, \"Total Test\": 1751774, \"Tests/m\": 62762, \"Population\": 27911548, \"pred\": 25076.31721882511, \"K_predict\": 7105.4}, {\"#\": 128, \"Country\": \"Malta\", \"Total Cases\": 114652, \"Total Deaths\": 806, \"Total Recovered\": 113195, \"Active Cases\": 651, \"Serious Criticals\": 4, \"Total Cases/m\": 258206, \"Deaths/m\": 1815, \"Total Test\": 2060900, \"Tests/m\": 4641322, \"Population\": 444033, \"pred\": 222083.49444198713, \"K_predict\": 331382.4}, {\"#\": 131, \"Country\": \"French Guiana\", \"Total Cases\": 93974, \"Total Deaths\": 410, \"Total Recovered\": 11254, \"Active Cases\": 82310, \"Serious Criticals\": 3, \"Total Cases/m\": 299119, \"Deaths/m\": 1305, \"Total Test\": 651257, \"Tests/m\": 2072951, \"Population\": 314169, \"pred\": 317116.8437804958, \"K_predict\": 281432.6}, {\"#\": 135, \"Country\": \"Malawi\", \"Total Cases\": 88024, \"Total Deaths\": 2682, \"Total Recovered\": 84872, \"Active Cases\": 470, \"Serious Criticals\": 67, \"Total Cases/m\": 4362, \"Deaths/m\": 133, \"Total Test\": 616772, \"Tests/m\": 30562, \"Population\": 20180839, \"pred\": 21725.76418419308, \"K_predict\": 27151.0}, {\"#\": 139, \"Country\": \"New Caledonia\", \"Total Cases\": 74152, \"Total Deaths\": 314, \"Total Recovered\": 73823, \"Active Cases\": 15, \"Serious Criticals\": 9, \"Total Cases/m\": 254892, \"Deaths/m\": 1079, \"Total Test\": 98964, \"Tests/m\": 340182, \"Population\": 290915, \"pred\": 205621.2932961884, \"K_predict\": 199527.8}, {\"#\": 140, \"Country\": \"Eswatini\", \"Total Cases\": 73390, \"Total Deaths\": 1422, \"Total Recovered\": 71955, \"Active Cases\": 13, \"Serious Criticals\": 11, \"Total Cases/m\": 61942, \"Deaths/m\": 1200, \"Total Test\": 1045903, \"Tests/m\": 882755, \"Population\": 1184817, \"pred\": 119603.38533670024, \"K_predict\": 195302.0}, {\"#\": 142, \"Country\": \"Belize\", \"Total Cases\": 68826, \"Total Deaths\": 683, \"Total Recovered\": 68079, \"Active Cases\": 64, \"Serious Criticals\": 6, \"Total Cases/m\": 166976, \"Deaths/m\": 1657, \"Total Test\": 576016, \"Tests/m\": 1397453, \"Population\": 412190, \"pred\": 156614.04835790454, \"K_predict\": 271298.8}, {\"#\": 147, \"Country\": \"Cabo Verde\", \"Total Cases\": 62371, \"Total Deaths\": 410, \"Total Recovered\": 61890, \"Active Cases\": 71, \"Serious Criticals\": 23, \"Total Cases/m\": 109870, \"Deaths/m\": 722, \"Total Test\": 401622, \"Tests/m\": 707482, \"Population\": 567678, \"pred\": 162631.97310071727, \"K_predict\": 235383.6}, {\"#\": 153, \"Country\": \"Andorra\", \"Total Cases\": 46227, \"Total Deaths\": 155, \"Total Recovered\": 46011, \"Active Cases\": 61, \"Serious Criticals\": 14, \"Total Cases/m\": 596762, \"Deaths/m\": 2001, \"Total Test\": 249838, \"Tests/m\": 3225256, \"Population\": 77463, \"pred\": 433849.5593309469, \"K_predict\": 366715.8}, {\"#\": 154, \"Country\": \"Cura\\u00e7ao\", \"Total Cases\": 45127, \"Total Deaths\": 282, \"Total Recovered\": 44720, \"Active Cases\": 125, \"Serious Criticals\": 3, \"Total Cases/m\": 272623, \"Deaths/m\": 1704, \"Total Test\": 496693, \"Tests/m\": 3000640, \"Population\": 165529, \"pred\": 241819.0195443848, \"K_predict\": 299203.8}, {\"#\": 155, \"Country\": \"Papua New Guinea\", \"Total Cases\": 44997, \"Total Deaths\": 668, \"Total Recovered\": 43982, \"Active Cases\": 347, \"Serious Criticals\": 7, \"Total Cases/m\": 4842, \"Deaths/m\": 72, \"Total Test\": 249149, \"Tests/m\": 26813, \"Population\": 9292169, \"pred\": 53211.68839352885, \"K_predict\": 46597.6}, {\"#\": 156, \"Country\": \"Aruba\", \"Total Cases\": 42914, \"Total Deaths\": 227, \"Total Recovered\": 42438, \"Active Cases\": 249, \"Serious Criticals\": 2, \"Total Cases/m\": 398796, \"Deaths/m\": 2109, \"Total Test\": 177885, \"Tests/m\": 1653068, \"Population\": 107609, \"pred\": 334218.63845516834, \"K_predict\": 366715.8}, {\"#\": 162, \"Country\": \"Guinea\", \"Total Cases\": 37652, \"Total Deaths\": 449, \"Total Recovered\": 36880, \"Active Cases\": 323, \"Serious Criticals\": 8, \"Total Cases/m\": 2715, \"Deaths/m\": 32, \"Total Test\": 660107, \"Tests/m\": 47607, \"Population\": 13865691, \"pred\": 20910.438759055716, \"K_predict\": 34338.6}, {\"#\": 163, \"Country\": \"Bahamas\", \"Total Cases\": 37267, \"Total Deaths\": 833, \"Total Recovered\": 36070, \"Active Cases\": 364, \"Serious Criticals\": 2, \"Total Cases/m\": 93047, \"Deaths/m\": 2080, \"Total Test\": 248846, \"Tests/m\": 621314, \"Population\": 400516, \"pred\": 184069.61725131664, \"K_predict\": 141742.6}, {\"#\": 168, \"Country\": \"Cayman Islands\", \"Total Cases\": 30661, \"Total Deaths\": 32, \"Total Recovered\": 8553, \"Active Cases\": 22076, \"Serious Criticals\": 1, \"Total Cases/m\": 455743, \"Deaths/m\": 476, \"Total Test\": 222773, \"Tests/m\": 3311280, \"Population\": 67277, \"pred\": 391234.5783433235, \"K_predict\": 366715.8}, {\"#\": 170, \"Country\": \"Benin\", \"Total Cases\": 27638, \"Total Deaths\": 163, \"Total Recovered\": 27322, \"Active Cases\": 153, \"Serious Criticals\": 5, \"Total Cases/m\": 2162, \"Deaths/m\": 13, \"Total Test\": 604310, \"Tests/m\": 47268, \"Population\": 12784726, \"pred\": 21537.10412705799, \"K_predict\": 34338.6}, {\"#\": 175, \"Country\": \"Solomon Islands\", \"Total Cases\": 21544, \"Total Deaths\": 153, \"Total Recovered\": 16357, \"Active Cases\": 5034, \"Serious Criticals\": 1, \"Total Cases/m\": 29874, \"Deaths/m\": 212, \"Total Test\": 5117, \"Tests/m\": 7096, \"Population\": 721159, \"pred\": 254971.30847519, \"K_predict\": 123923.0}, {\"#\": 176, \"Country\": \"San Marino\", \"Total Cases\": 20763, \"Total Deaths\": 118, \"Total Recovered\": 20524, \"Active Cases\": 121, \"Serious Criticals\": 4, \"Total Cases/m\": 609154, \"Deaths/m\": 3462, \"Total Test\": 157634, \"Tests/m\": 4624732, \"Population\": 34085, \"pred\": 400951.0636096403, \"K_predict\": 375934.8}, {\"#\": 178, \"Country\": \"Liechtenstein\", \"Total Cases\": 19713, \"Total Deaths\": 86, \"Total Recovered\": 19403, \"Active Cases\": 224, \"Serious Criticals\": 2, \"Total Cases/m\": 513533, \"Deaths/m\": 2240, \"Total Test\": 102174, \"Tests/m\": 2661682, \"Population\": 38387, \"pred\": 442898.65689102554, \"K_predict\": 347088.4}, {\"#\": 179, \"Country\": \"Grenada\", \"Total Cases\": 19536, \"Total Deaths\": 237, \"Total Recovered\": 19248, \"Active Cases\": 51, \"Serious Criticals\": 4, \"Total Cases/m\": 172161, \"Deaths/m\": 2089, \"Total Test\": 179808, \"Tests/m\": 1584560, \"Population\": 113475, \"pred\": 199662.41642678, \"K_predict\": 366715.8}, {\"#\": 182, \"Country\": \"South Sudan\", \"Total Cases\": 17823, \"Total Deaths\": 138, \"Total Recovered\": 17335, \"Active Cases\": 350, \"Serious Criticals\": 1, \"Total Cases/m\": 1534, \"Deaths/m\": 12, \"Total Test\": 410280, \"Tests/m\": 35313, \"Population\": 11618511, \"pred\": 22083.321027820268, \"K_predict\": 34338.6}, {\"#\": 184, \"Country\": \"Equatorial Guinea\", \"Total Cases\": 17012, \"Total Deaths\": 183, \"Total Recovered\": 16690, \"Active Cases\": 139, \"Serious Criticals\": 5, \"Total Cases/m\": 11367, \"Deaths/m\": 122, \"Total Test\": 365697, \"Tests/m\": 244342, \"Population\": 1496662, \"pred\": 128758.82838221175, \"K_predict\": 79787.6}, {\"#\": 186, \"Country\": \"Samoa\", \"Total Cases\": 15925, \"Total Deaths\": 29, \"Total Recovered\": 1605, \"Active Cases\": 14291, \"Serious Criticals\": 4, \"Total Cases/m\": 78743, \"Deaths/m\": 143, \"Total Test\": 187397, \"Tests/m\": 926612, \"Population\": 202239, \"pred\": 145337.41111141493, \"K_predict\": 272067.0}, {\"#\": 190, \"Country\": \"CAR\", \"Total Cases\": 14913, \"Total Deaths\": 113, \"Total Recovered\": 14520, \"Active Cases\": 280, \"Serious Criticals\": 2, \"Total Cases/m\": 2973, \"Deaths/m\": 23, \"Total Test\": 81294, \"Tests/m\": 16205, \"Population\": 5016678, \"pred\": 66222.33293483475, \"K_predict\": 14034.2}, {\"#\": 191, \"Country\": \"Monaco\", \"Total Cases\": 14608, \"Total Deaths\": 63, \"Total Recovered\": 14478, \"Active Cases\": 67, \"Serious Criticals\": 4, \"Total Cases/m\": 367192, \"Deaths/m\": 1584, \"Total Test\": 78646, \"Tests/m\": 1976875, \"Population\": 39783, \"pred\": 342262.97173662455, \"K_predict\": 347088.4}, {\"#\": 193, \"Country\": \"Saint Martin\", \"Total Cases\": 11978, \"Total Deaths\": 63, \"Total Recovered\": 1399, \"Active Cases\": 10516, \"Serious Criticals\": 7, \"Total Cases/m\": 301485, \"Deaths/m\": 1586, \"Total Test\": 112382, \"Tests/m\": 2828643, \"Population\": 39730, \"pred\": 266204.40600352426, \"K_predict\": 338356.8}, {\"#\": 194, \"Country\": \"Greenland\", \"Total Cases\": 11971, \"Total Deaths\": 21, \"Total Recovered\": 2761, \"Active Cases\": 9189, \"Serious Criticals\": 4, \"Total Cases/m\": 210117, \"Deaths/m\": 369, \"Total Test\": 164926, \"Tests/m\": 2894810, \"Population\": 56973, \"pred\": 270251.70508349984, \"K_predict\": 307660.4}, {\"#\": 195, \"Country\": \"Yemen\", \"Total Cases\": 11935, \"Total Deaths\": 2157, \"Total Recovered\": 9124, \"Active Cases\": 654, \"Serious Criticals\": 23, \"Total Cases/m\": 383, \"Deaths/m\": 69, \"Total Test\": 329592, \"Tests/m\": 10579, \"Population\": 31154867, \"pred\": 20267.484073081967, \"K_predict\": 8449.8}, {\"#\": 198, \"Country\": \"Sint Maarten\", \"Total Cases\": 10863, \"Total Deaths\": 87, \"Total Recovered\": 10773, \"Active Cases\": 3, \"Serious Criticals\": 10, \"Total Cases/m\": 247077, \"Deaths/m\": 1979, \"Total Test\": 62056, \"Tests/m\": 1411454, \"Population\": 43966, \"pred\": 291610.08530805307, \"K_predict\": 347088.4}, {\"#\": 200, \"Country\": \"Niger\", \"Total Cases\": 9931, \"Total Deaths\": 312, \"Total Recovered\": 8890, \"Active Cases\": 729, \"Serious Criticals\": 1, \"Total Cases/m\": 381, \"Deaths/m\": 12, \"Total Test\": 254538, \"Tests/m\": 9759, \"Population\": 26083660, \"pred\": 19461.579787367682, \"K_predict\": 7105.4}, {\"#\": 201, \"Country\": \"Micronesia\", \"Total Cases\": 9759, \"Total Deaths\": 29, \"Total Recovered\": 157, \"Active Cases\": 9573, \"Serious Criticals\": 1, \"Total Cases/m\": 83063, \"Deaths/m\": 247, \"Total Test\": 21923, \"Tests/m\": 186596, \"Population\": 117489, \"pred\": 162676.9788412129, \"K_predict\": 218983.2}, {\"#\": 202, \"Country\": \"Antigua and Barbuda\", \"Total Cases\": 9098, \"Total Deaths\": 146, \"Total Recovered\": 8923, \"Active Cases\": 29, \"Serious Criticals\": 1, \"Total Cases/m\": 91429, \"Deaths/m\": 1467, \"Total Test\": 18901, \"Tests/m\": 189943, \"Population\": 99509, \"pred\": 189723.65698927306, \"K_predict\": 218983.2}, {\"#\": 203, \"Country\": \"Guinea-Bissau\", \"Total Cases\": 8796, \"Total Deaths\": 175, \"Total Recovered\": 8301, \"Active Cases\": 320, \"Serious Criticals\": 6, \"Total Cases/m\": 4263, \"Deaths/m\": 85, \"Total Test\": 145231, \"Tests/m\": 70385, \"Population\": 2063367, \"pred\": 92218.74823520331, \"K_predict\": 79787.6}, {\"#\": 205, \"Country\": \"Liberia\", \"Total Cases\": 7961, \"Total Deaths\": 294, \"Total Recovered\": 7636, \"Active Cases\": 31, \"Serious Criticals\": 2, \"Total Cases/m\": 1501, \"Deaths/m\": 55, \"Total Test\": 139824, \"Tests/m\": 26356, \"Population\": 5305117, \"pred\": 40883.99203602522, \"K_predict\": 27583.2}, {\"#\": 212, \"Country\": \"Turks and Caicos\", \"Total Cases\": 6380, \"Total Deaths\": 36, \"Total Recovered\": 6321, \"Active Cases\": 23, \"Serious Criticals\": 4, \"Total Cases/m\": 160539, \"Deaths/m\": 906, \"Total Test\": 550093, \"Tests/m\": 13841952, \"Population\": 39741, \"pred\": 242554.18862337657, \"K_predict\": 356957.2}, {\"#\": 214, \"Country\": \"Palau\", \"Total Cases\": 5460, \"Total Deaths\": 6, \"Total Recovered\": 5444, \"Active Cases\": 10, \"Serious Criticals\": 1, \"Total Cases/m\": 299457, \"Deaths/m\": 329, \"Total Test\": 64681, \"Tests/m\": 3547469, \"Population\": 18233, \"pred\": 289415.7726388889, \"K_predict\": 397505.0}, {\"#\": 217, \"Country\": \"Anguilla\", \"Total Cases\": 3865, \"Total Deaths\": 12, \"Total Recovered\": 3848, \"Active Cases\": 5, \"Serious Criticals\": 4, \"Total Cases/m\": 253775, \"Deaths/m\": 788, \"Total Test\": 51382, \"Tests/m\": 3373736, \"Population\": 15230, \"pred\": 276793.50523845595, \"K_predict\": 397505.0}, {\"#\": 219, \"Country\": \"Saint Pierre Miquelon\", \"Total Cases\": 3188, \"Total Deaths\": 1, \"Total Recovered\": 2449, \"Active Cases\": 738, \"Serious Criticals\": 1, \"Total Cases/m\": 553568, \"Deaths/m\": 174, \"Total Test\": 24902, \"Tests/m\": 4324015, \"Population\": 5759, \"pred\": 418321.7921594517, \"K_predict\": 397505.0}]}}, {\"mode\": \"vega-lite\"});\n",
       "</script>"
      ],
      "text/plain": [
       "alt.LayerChart(...)"
      ]
     },
     "execution_count": 38,
     "metadata": {},
     "output_type": "execute_result"
    }
   ],
   "source": [
    "c3 = alt.Chart(df).mark_circle(color=\"black\").encode(\n",
    "    x = alt.X(\"Population\", scale=alt.Scale(domain=[0,400000000])),\n",
    "    y = \"Total Cases\",\n",
    "    tooltip = \"Country\"\n",
    ")\n",
    "\n",
    "c4  = alt.Chart(df).mark_circle(color=\"red\").encode(\n",
    "    x = alt.X(\"Population\", scale=alt.Scale(domain=[0,400000000])),\n",
    "    y = \"K_predict\"\n",
    ")\n",
    "\n",
    "c3+c4"
   ]
  },
  {
   "cell_type": "markdown",
   "metadata": {
    "cell_id": "90399115e34a403c933d42b14278a6a4",
    "deepnote_cell_type": "markdown",
    "tags": []
   },
   "source": [
    "## Summary\n",
    "\n",
    "I use pandas in cleaning and analyzing datas, altair/seaborn for visualization, and Decision Tree/Random Forest/KNeighbors in machine learning. Though I used different techniques, the predicted results do not perform well. Therefore, I would say it is hardly to oberserve a relationship between the Total Cases with other datas based on this dataframe."
   ]
  },
  {
   "cell_type": "markdown",
   "metadata": {
    "cell_id": "dbb5833d039d4cfb8a681394fa554d82",
    "deepnote_cell_type": "markdown",
    "tags": []
   },
   "source": [
    "## References\n",
    "\n",
    "del: \"How to delete a column in pandas\" by Neko Yan, https://www.educative.io/answers/how-to-delete-a-column-in-pandas\n",
    "\n",
    "Seaborn Visualization: Seaborn.pydata\n",
    "https://seaborn.pydata.org/generated/seaborn.scatterplot.html\n",
    "https://seaborn.pydata.org/generated/seaborn.lineplot.html"
   ]
  },
  {
   "cell_type": "markdown",
   "metadata": {
    "cell_id": "915b265ecb6e4c1d831d8fbd3d93a148",
    "deepnote_cell_type": "markdown",
    "tags": []
   },
   "source": [
    "* What is the source of your dataset(s)?\n",
    "Kaggle"
   ]
  },
  {
   "cell_type": "markdown",
   "metadata": {
    "cell_id": "481d21e30fef49148396796a57c1fa52",
    "deepnote_cell_type": "markdown",
    "deepnote_to_be_reexecuted": false,
    "execution_millis": 0,
    "execution_start": 1652916033453,
    "source_hash": "aa45eba7",
    "tags": []
   },
   "source": [
    "* List any other references that you found helpful.\n",
    "KNeighborsRegressor: Chris's previous lecture\n",
    "https://christopherdavisuci.github.io/UCI-Math-10-W22/Week6/Week6-Wednesday.html"
   ]
  },
  {
   "cell_type": "markdown",
   "metadata": {
    "cell_id": "cfd2b6931d324187a0c73bf22fc2e60c",
    "deepnote_cell_type": "markdown",
    "tags": []
   },
   "source": [
    "## Submission\n",
    "\n",
    "Using the Share button at the top right, **enable Comment privileges** for anyone with a link to the project. Then submit that link on Canvas."
   ]
  },
  {
   "cell_type": "markdown",
   "metadata": {
    "created_in_deepnote_cell": true,
    "deepnote_cell_type": "markdown",
    "tags": []
   },
   "source": [
    "<a style='text-decoration:none;line-height:16px;display:flex;color:#5B5B62;padding:10px;justify-content:end;' href='https://deepnote.com?utm_source=created-in-deepnote-cell&projectId=ed82ad73-cd7d-47c0-8299-ffa3259fcf6a' target=\"_blank\">\n",
    "<img alt='Created in deepnote.com' style='display:inline;max-height:16px;margin:0px;margin-right:7.5px;' src='data:image/svg+xml;base64,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' > </img>\n",
    "Created in <span style='font-weight:600;margin-left:4px;'>Deepnote</span></a>"
   ]
  }
 ],
 "metadata": {
  "deepnote": {
   "is_reactive": false
  },
  "deepnote_execution_queue": [],
  "deepnote_notebook_id": "b03abff2eb5f47dda734d6862c12789e",
  "deepnote_persisted_session": {
   "createdAt": "2022-12-05T03:30:32.371Z"
  },
  "kernelspec": {
   "display_name": "Python 3 (ipykernel)",
   "language": "python",
   "name": "python3"
  },
  "language_info": {
   "codemirror_mode": {
    "name": "ipython",
    "version": 3
   },
   "file_extension": ".py",
   "mimetype": "text/x-python",
   "name": "python",
   "nbconvert_exporter": "python",
   "pygments_lexer": "ipython3",
   "version": "3.9.13"
  }
 },
 "nbformat": 4,
 "nbformat_minor": 4
}
