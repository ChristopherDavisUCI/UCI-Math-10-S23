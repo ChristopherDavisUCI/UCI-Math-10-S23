{
 "cells": [
  {
   "cell_type": "markdown",
   "metadata": {
    "cell_id": "2f45ccdc45d14015bac936bb1538b3a5",
    "deepnote_cell_type": "markdown",
    "tags": []
   },
   "source": [
    "# Chip from Specs\n",
    "Author: **Eric Jones** \n",
    "Email: ericjones8612@gmail.com\n",
    "\n",
    "Course Project, UC Irvine, Math 10, F22"
   ]
  },
  {
   "cell_type": "markdown",
   "metadata": {
    "cell_id": "142282f2823a42adb6b25ac62b190706",
    "deepnote_cell_type": "markdown",
    "tags": []
   },
   "source": [
    "## Introduction\n",
    "In this notebook we will be taking a look at various memory chips of Graphics Processing Units, GPU's. In particular, we will be analyzing the specs of the memory along with the manufacturer and bus of the card in order to use machine learning to attempt to determine the type of memory."
   ]
  },
  {
   "cell_type": "markdown",
   "metadata": {
    "cell_id": "4cc2993f72df4399a651ec31a33f2569",
    "deepnote_cell_type": "markdown",
    "tags": []
   },
   "source": [
    "\n",
    "## Importing Libraries and Checking Out the Data"
   ]
  },
  {
   "cell_type": "code",
   "execution_count": 1,
   "metadata": {
    "cell_id": "64fa037cc0cb4043a705e6344a4ad9eb",
    "deepnote_cell_type": "code",
    "deepnote_to_be_reexecuted": false,
    "execution_millis": 1384,
    "execution_start": 1670280588134,
    "source_hash": "fe29846e",
    "tags": []
   },
   "outputs": [],
   "source": [
    "# Libaries\n",
    "import pandas as pd\n",
    "from pandas.api.types import is_numeric_dtype\n",
    "import altair as alt\n",
    "import numpy as np\n",
    "import random as rng\n",
    "import plotly.express as px\n",
    "# Machine Learning\n",
    "from sklearn.tree import DecisionTreeClassifier\n",
    "from sklearn.model_selection import train_test_split\n",
    "from sklearn.preprocessing import OneHotEncoder"
   ]
  },
  {
   "cell_type": "markdown",
   "metadata": {
    "cell_id": "88accdf714ef4003a252080d333cad44",
    "deepnote_cell_type": "markdown",
    "tags": []
   },
   "source": [
    "First lets import the data set using the pandas read function. Let's quickly glimpse at the columns and some random rows. Some things to note are the abundance of missing values, we won't immediately throw these rows out as some missing values are in columns we won't be needing.\n",
    "\n",
    "Let's focus on the bottom two rows we can currently see. If you scroll the Dataframe all the way over to the right you can see both cards share the same memory type (memType), that being DDR (DDR1). However, if we scroll back to the left we notice that despite having the same RAM type the memory is not clocked the same (memClock), and the one that is clocked faster has a significantly larger bus width (memBusWidth)"
   ]
  },
  {
   "cell_type": "code",
   "execution_count": 2,
   "metadata": {
    "cell_id": "ac9c647262f5481f9461e69f8dbb3d84",
    "deepnote_cell_type": "code",
    "deepnote_to_be_reexecuted": false,
    "execution_millis": 12,
    "execution_start": 1670280589564,
    "source_hash": "63c0f75",
    "tags": []
   },
   "outputs": [
    {
     "data": {
      "application/vnd.deepnote.dataframe.v3+json": {
       "column_count": 16,
       "columns": [
        {
         "dtype": "object",
         "name": "manufacturer",
         "stats": {
          "categories": [
           {
            "count": 2,
            "name": "ATI"
           },
           {
            "count": 1,
            "name": "Intel"
           },
           {
            "count": 2,
            "name": "2 others"
           }
          ],
          "nan_count": 0,
          "unique_count": 4
         }
        },
        {
         "dtype": "object",
         "name": "productName",
         "stats": {
          "categories": [
           {
            "count": 1,
            "name": "GMA 3000"
           },
           {
            "count": 1,
            "name": "Radeon R7 435 OEM"
           },
           {
            "count": 3,
            "name": "3 others"
           }
          ],
          "nan_count": 0,
          "unique_count": 5
         }
        },
        {
         "dtype": "float64",
         "name": "releaseYear",
         "stats": {
          "histogram": [
           {
            "bin_end": 2002.5,
            "bin_start": 2001,
            "count": 1
           },
           {
            "bin_end": 2004,
            "bin_start": 2002.5,
            "count": 0
           },
           {
            "bin_end": 2005.5,
            "bin_start": 2004,
            "count": 1
           },
           {
            "bin_end": 2007,
            "bin_start": 2005.5,
            "count": 1
           },
           {
            "bin_end": 2008.5,
            "bin_start": 2007,
            "count": 0
           },
           {
            "bin_end": 2010,
            "bin_start": 2008.5,
            "count": 0
           },
           {
            "bin_end": 2011.5,
            "bin_start": 2010,
            "count": 0
           },
           {
            "bin_end": 2013,
            "bin_start": 2011.5,
            "count": 0
           },
           {
            "bin_end": 2014.5,
            "bin_start": 2013,
            "count": 1
           },
           {
            "bin_end": 2016,
            "bin_start": 2014.5,
            "count": 1
           }
          ],
          "max": "2016.0",
          "min": "2001.0",
          "nan_count": 0,
          "unique_count": 5
         }
        },
        {
         "dtype": "float64",
         "name": "memSize",
         "stats": {
          "histogram": [
           {
            "bin_end": 0.6576,
            "bin_start": 0.064,
            "count": 2
           },
           {
            "bin_end": 1.2512,
            "bin_start": 0.6576,
            "count": 0
           },
           {
            "bin_end": 1.8448000000000002,
            "bin_start": 1.2512,
            "count": 0
           },
           {
            "bin_end": 2.4384,
            "bin_start": 1.8448000000000002,
            "count": 1
           },
           {
            "bin_end": 3.032,
            "bin_start": 2.4384,
            "count": 0
           },
           {
            "bin_end": 3.6256000000000004,
            "bin_start": 3.032,
            "count": 0
           },
           {
            "bin_end": 4.2192,
            "bin_start": 3.6256000000000004,
            "count": 0
           },
           {
            "bin_end": 4.8128,
            "bin_start": 4.2192,
            "count": 0
           },
           {
            "bin_end": 5.4064000000000005,
            "bin_start": 4.8128,
            "count": 0
           },
           {
            "bin_end": 6,
            "bin_start": 5.4064000000000005,
            "count": 1
           }
          ],
          "max": "6.0",
          "min": "0.064",
          "nan_count": 1,
          "unique_count": 4
         }
        },
        {
         "dtype": "float64",
         "name": "memBusWidth",
         "stats": {
          "histogram": [
           {
            "bin_end": 96,
            "bin_start": 64,
            "count": 2
           },
           {
            "bin_end": 128,
            "bin_start": 96,
            "count": 0
           },
           {
            "bin_end": 160,
            "bin_start": 128,
            "count": 1
           },
           {
            "bin_end": 192,
            "bin_start": 160,
            "count": 0
           },
           {
            "bin_end": 224,
            "bin_start": 192,
            "count": 0
           },
           {
            "bin_end": 256,
            "bin_start": 224,
            "count": 0
           },
           {
            "bin_end": 288,
            "bin_start": 256,
            "count": 0
           },
           {
            "bin_end": 320,
            "bin_start": 288,
            "count": 0
           },
           {
            "bin_end": 352,
            "bin_start": 320,
            "count": 0
           },
           {
            "bin_end": 384,
            "bin_start": 352,
            "count": 1
           }
          ],
          "max": "384.0",
          "min": "64.0",
          "nan_count": 1,
          "unique_count": 3
         }
        },
        {
         "dtype": "int64",
         "name": "gpuClock",
         "stats": {
          "histogram": [
           {
            "bin_end": 339.5,
            "bin_start": 275,
            "count": 1
           },
           {
            "bin_end": 404,
            "bin_start": 339.5,
            "count": 2
           },
           {
            "bin_end": 468.5,
            "bin_start": 404,
            "count": 0
           },
           {
            "bin_end": 533,
            "bin_start": 468.5,
            "count": 0
           },
           {
            "bin_end": 597.5,
            "bin_start": 533,
            "count": 0
           },
           {
            "bin_end": 662,
            "bin_start": 597.5,
            "count": 0
           },
           {
            "bin_end": 726.5,
            "bin_start": 662,
            "count": 1
           },
           {
            "bin_end": 791,
            "bin_start": 726.5,
            "count": 0
           },
           {
            "bin_end": 855.5,
            "bin_start": 791,
            "count": 0
           },
           {
            "bin_end": 920,
            "bin_start": 855.5,
            "count": 1
           }
          ],
          "max": "920",
          "min": "275",
          "nan_count": 0,
          "unique_count": 5
         }
        },
        {
         "dtype": "float64",
         "name": "memClock",
         "stats": {
          "histogram": [
           {
            "bin_end": 351.4,
            "bin_start": 196,
            "count": 2
           },
           {
            "bin_end": 506.8,
            "bin_start": 351.4,
            "count": 0
           },
           {
            "bin_end": 662.2,
            "bin_start": 506.8,
            "count": 0
           },
           {
            "bin_end": 817.6,
            "bin_start": 662.2,
            "count": 0
           },
           {
            "bin_end": 973,
            "bin_start": 817.6,
            "count": 0
           },
           {
            "bin_end": 1128.4,
            "bin_start": 973,
            "count": 1
           },
           {
            "bin_end": 1283.8,
            "bin_start": 1128.4,
            "count": 0
           },
           {
            "bin_end": 1439.2,
            "bin_start": 1283.8,
            "count": 0
           },
           {
            "bin_end": 1594.6000000000001,
            "bin_start": 1439.2,
            "count": 0
           },
           {
            "bin_end": 1750,
            "bin_start": 1594.6000000000001,
            "count": 1
           }
          ],
          "max": "1750.0",
          "min": "196.0",
          "nan_count": 1,
          "unique_count": 4
         }
        },
        {
         "dtype": "float64",
         "name": "unifiedShader",
         "stats": {
          "histogram": [
           {
            "bin_end": 576,
            "bin_start": 320,
            "count": 1
           },
           {
            "bin_end": 832,
            "bin_start": 576,
            "count": 0
           },
           {
            "bin_end": 1088,
            "bin_start": 832,
            "count": 0
           },
           {
            "bin_end": 1344,
            "bin_start": 1088,
            "count": 0
           },
           {
            "bin_end": 1600,
            "bin_start": 1344,
            "count": 0
           },
           {
            "bin_end": 1856,
            "bin_start": 1600,
            "count": 0
           },
           {
            "bin_end": 2112,
            "bin_start": 1856,
            "count": 0
           },
           {
            "bin_end": 2368,
            "bin_start": 2112,
            "count": 0
           },
           {
            "bin_end": 2624,
            "bin_start": 2368,
            "count": 0
           },
           {
            "bin_end": 2880,
            "bin_start": 2624,
            "count": 1
           }
          ],
          "max": "2880.0",
          "min": "320.0",
          "nan_count": 3,
          "unique_count": 2
         }
        },
        {
         "dtype": "int64",
         "name": "tmu",
         "stats": {
          "histogram": [
           {
            "bin_end": 27.6,
            "bin_start": 4,
            "count": 4
           },
           {
            "bin_end": 51.2,
            "bin_start": 27.6,
            "count": 0
           },
           {
            "bin_end": 74.80000000000001,
            "bin_start": 51.2,
            "count": 0
           },
           {
            "bin_end": 98.4,
            "bin_start": 74.80000000000001,
            "count": 0
           },
           {
            "bin_end": 122,
            "bin_start": 98.4,
            "count": 0
           },
           {
            "bin_end": 145.60000000000002,
            "bin_start": 122,
            "count": 0
           },
           {
            "bin_end": 169.20000000000002,
            "bin_start": 145.60000000000002,
            "count": 0
           },
           {
            "bin_end": 192.8,
            "bin_start": 169.20000000000002,
            "count": 0
           },
           {
            "bin_end": 216.4,
            "bin_start": 192.8,
            "count": 0
           },
           {
            "bin_end": 240,
            "bin_start": 216.4,
            "count": 1
           }
          ],
          "max": "240",
          "min": "4",
          "nan_count": 0,
          "unique_count": 4
         }
        },
        {
         "dtype": "int64",
         "name": "rop",
         "stats": {
          "histogram": [
           {
            "bin_end": 8.4,
            "bin_start": 4,
            "count": 4
           },
           {
            "bin_end": 12.8,
            "bin_start": 8.4,
            "count": 0
           },
           {
            "bin_end": 17.200000000000003,
            "bin_start": 12.8,
            "count": 0
           },
           {
            "bin_end": 21.6,
            "bin_start": 17.200000000000003,
            "count": 0
           },
           {
            "bin_end": 26,
            "bin_start": 21.6,
            "count": 0
           },
           {
            "bin_end": 30.400000000000002,
            "bin_start": 26,
            "count": 0
           },
           {
            "bin_end": 34.800000000000004,
            "bin_start": 30.400000000000002,
            "count": 0
           },
           {
            "bin_end": 39.2,
            "bin_start": 34.800000000000004,
            "count": 0
           },
           {
            "bin_end": 43.6,
            "bin_start": 39.2,
            "count": 0
           },
           {
            "bin_end": 48,
            "bin_start": 43.6,
            "count": 1
           }
          ],
          "max": "48",
          "min": "4",
          "nan_count": 0,
          "unique_count": 3
         }
        },
        {
         "dtype": "float64",
         "name": "pixelShader",
         "stats": {
          "histogram": [
           {
            "bin_end": 3.6,
            "bin_start": 3.5,
            "count": 0
           },
           {
            "bin_end": 3.7,
            "bin_start": 3.6,
            "count": 0
           },
           {
            "bin_end": 3.8,
            "bin_start": 3.7,
            "count": 0
           },
           {
            "bin_end": 3.9,
            "bin_start": 3.8,
            "count": 0
           },
           {
            "bin_end": 4,
            "bin_start": 3.9,
            "count": 0
           },
           {
            "bin_end": 4.1,
            "bin_start": 4,
            "count": 3
           },
           {
            "bin_end": 4.2,
            "bin_start": 4.1,
            "count": 0
           },
           {
            "bin_end": 4.3,
            "bin_start": 4.2,
            "count": 0
           },
           {
            "bin_end": 4.4,
            "bin_start": 4.3,
            "count": 0
           },
           {
            "bin_end": 4.5,
            "bin_start": 4.4,
            "count": 0
           }
          ],
          "max": "4.0",
          "min": "4.0",
          "nan_count": 2,
          "unique_count": 1
         }
        },
        {
         "dtype": "float64",
         "name": "vertexShader",
         "stats": {
          "histogram": [
           {
            "bin_end": 0.2,
            "bin_start": 0,
            "count": 1
           },
           {
            "bin_end": 0.4,
            "bin_start": 0.2,
            "count": 0
           },
           {
            "bin_end": 0.6000000000000001,
            "bin_start": 0.4,
            "count": 0
           },
           {
            "bin_end": 0.8,
            "bin_start": 0.6000000000000001,
            "count": 0
           },
           {
            "bin_end": 1,
            "bin_start": 0.8,
            "count": 0
           },
           {
            "bin_end": 1.2000000000000002,
            "bin_start": 1,
            "count": 0
           },
           {
            "bin_end": 1.4000000000000001,
            "bin_start": 1.2000000000000002,
            "count": 0
           },
           {
            "bin_end": 1.6,
            "bin_start": 1.4000000000000001,
            "count": 0
           },
           {
            "bin_end": 1.8,
            "bin_start": 1.6,
            "count": 0
           },
           {
            "bin_end": 2,
            "bin_start": 1.8,
            "count": 2
           }
          ],
          "max": "2.0",
          "min": "0.0",
          "nan_count": 2,
          "unique_count": 2
         }
        },
        {
         "dtype": "object",
         "name": "igp",
         "stats": {
          "categories": [
           {
            "count": 4,
            "name": "No"
           },
           {
            "count": 1,
            "name": "Yes"
           }
          ],
          "nan_count": 0,
          "unique_count": 2
         }
        },
        {
         "dtype": "object",
         "name": "bus",
         "stats": {
          "categories": [
           {
            "count": 1,
            "name": "FSB"
           },
           {
            "count": 1,
            "name": "PCIe 3.0 x8"
           },
           {
            "count": 3,
            "name": "3 others"
           }
          ],
          "nan_count": 0,
          "unique_count": 5
         }
        },
        {
         "dtype": "object",
         "name": "memType",
         "stats": {
          "categories": [
           {
            "count": 2,
            "name": "DDR"
           },
           {
            "count": 1,
            "name": "System Shared"
           },
           {
            "count": 2,
            "name": "2 others"
           }
          ],
          "nan_count": 0,
          "unique_count": 4
         }
        },
        {
         "dtype": "object",
         "name": "gpuChip",
         "stats": {
          "categories": [
           {
            "count": 1,
            "name": "Broadwater"
           },
           {
            "count": 1,
            "name": "Oland"
           },
           {
            "count": 3,
            "name": "3 others"
           }
          ],
          "nan_count": 0,
          "unique_count": 5
         }
        },
        {
         "dtype": "int64",
         "name": "_deepnote_index_column"
        }
       ],
       "row_count": 5,
       "rows": [
        {
         "_deepnote_index_column": "2181",
         "bus": "FSB",
         "gpuChip": "Broadwater",
         "gpuClock": "400",
         "igp": "Yes",
         "manufacturer": "Intel",
         "memBusWidth": "nan",
         "memClock": "nan",
         "memSize": "nan",
         "memType": "System Shared",
         "pixelShader": "4.0",
         "productName": "GMA 3000",
         "releaseYear": "2006.0",
         "rop": "4",
         "tmu": "4",
         "unifiedShader": "nan",
         "vertexShader": "0.0"
        },
        {
         "_deepnote_index_column": "617",
         "bus": "PCIe 3.0 x8",
         "gpuChip": "Oland",
         "gpuClock": "920",
         "igp": "No",
         "manufacturer": "AMD",
         "memBusWidth": "64.0",
         "memClock": "1000.0",
         "memSize": "2.0",
         "memType": "DDR3",
         "pixelShader": "nan",
         "productName": "Radeon R7 435 OEM",
         "releaseYear": "2016.0",
         "rop": "8",
         "tmu": "20",
         "unifiedShader": "320.0",
         "vertexShader": "nan"
        },
        {
         "_deepnote_index_column": "878",
         "bus": "PCIe 3.0 x16",
         "gpuChip": "GK110B",
         "gpuClock": "705",
         "igp": "No",
         "manufacturer": "NVIDIA",
         "memBusWidth": "384.0",
         "memClock": "1750.0",
         "memSize": "6.0",
         "memType": "GDDR5",
         "pixelShader": "nan",
         "productName": "GeForce GTX TITAN Z",
         "releaseYear": "2014.0",
         "rop": "48",
         "tmu": "240",
         "unifiedShader": "2880.0",
         "vertexShader": "nan"
        },
        {
         "_deepnote_index_column": "2346",
         "bus": "PCIe 1.0 x16",
         "gpuChip": "RV370",
         "gpuClock": "391",
         "igp": "No",
         "manufacturer": "ATI",
         "memBusWidth": "64.0",
         "memClock": "196.0",
         "memSize": "0.128",
         "memType": "DDR",
         "pixelShader": "4.0",
         "productName": "FireGL V3100",
         "releaseYear": "2004.0",
         "rop": "4",
         "tmu": "4",
         "unifiedShader": "nan",
         "vertexShader": "2.0"
        },
        {
         "_deepnote_index_column": "2696",
         "bus": "AGP 4x",
         "gpuChip": "R200",
         "gpuClock": "275",
         "igp": "No",
         "manufacturer": "ATI",
         "memBusWidth": "128.0",
         "memClock": "275.0",
         "memSize": "0.064",
         "memType": "DDR",
         "pixelShader": "4.0",
         "productName": "Radeon 8500",
         "releaseYear": "2001.0",
         "rop": "4",
         "tmu": "8",
         "unifiedShader": "nan",
         "vertexShader": "2.0"
        }
       ]
      },
      "text/html": [
       "<div>\n",
       "<style scoped>\n",
       "    .dataframe tbody tr th:only-of-type {\n",
       "        vertical-align: middle;\n",
       "    }\n",
       "\n",
       "    .dataframe tbody tr th {\n",
       "        vertical-align: top;\n",
       "    }\n",
       "\n",
       "    .dataframe thead th {\n",
       "        text-align: right;\n",
       "    }\n",
       "</style>\n",
       "<table border=\"1\" class=\"dataframe\">\n",
       "  <thead>\n",
       "    <tr style=\"text-align: right;\">\n",
       "      <th></th>\n",
       "      <th>manufacturer</th>\n",
       "      <th>productName</th>\n",
       "      <th>releaseYear</th>\n",
       "      <th>memSize</th>\n",
       "      <th>memBusWidth</th>\n",
       "      <th>gpuClock</th>\n",
       "      <th>memClock</th>\n",
       "      <th>unifiedShader</th>\n",
       "      <th>tmu</th>\n",
       "      <th>rop</th>\n",
       "      <th>pixelShader</th>\n",
       "      <th>vertexShader</th>\n",
       "      <th>igp</th>\n",
       "      <th>bus</th>\n",
       "      <th>memType</th>\n",
       "      <th>gpuChip</th>\n",
       "    </tr>\n",
       "  </thead>\n",
       "  <tbody>\n",
       "    <tr>\n",
       "      <th>2181</th>\n",
       "      <td>Intel</td>\n",
       "      <td>GMA 3000</td>\n",
       "      <td>2006.0</td>\n",
       "      <td>NaN</td>\n",
       "      <td>NaN</td>\n",
       "      <td>400</td>\n",
       "      <td>NaN</td>\n",
       "      <td>NaN</td>\n",
       "      <td>4</td>\n",
       "      <td>4</td>\n",
       "      <td>4.0</td>\n",
       "      <td>0.0</td>\n",
       "      <td>Yes</td>\n",
       "      <td>FSB</td>\n",
       "      <td>System Shared</td>\n",
       "      <td>Broadwater</td>\n",
       "    </tr>\n",
       "    <tr>\n",
       "      <th>617</th>\n",
       "      <td>AMD</td>\n",
       "      <td>Radeon R7 435 OEM</td>\n",
       "      <td>2016.0</td>\n",
       "      <td>2.000</td>\n",
       "      <td>64.0</td>\n",
       "      <td>920</td>\n",
       "      <td>1000.0</td>\n",
       "      <td>320.0</td>\n",
       "      <td>20</td>\n",
       "      <td>8</td>\n",
       "      <td>NaN</td>\n",
       "      <td>NaN</td>\n",
       "      <td>No</td>\n",
       "      <td>PCIe 3.0 x8</td>\n",
       "      <td>DDR3</td>\n",
       "      <td>Oland</td>\n",
       "    </tr>\n",
       "    <tr>\n",
       "      <th>878</th>\n",
       "      <td>NVIDIA</td>\n",
       "      <td>GeForce GTX TITAN Z</td>\n",
       "      <td>2014.0</td>\n",
       "      <td>6.000</td>\n",
       "      <td>384.0</td>\n",
       "      <td>705</td>\n",
       "      <td>1750.0</td>\n",
       "      <td>2880.0</td>\n",
       "      <td>240</td>\n",
       "      <td>48</td>\n",
       "      <td>NaN</td>\n",
       "      <td>NaN</td>\n",
       "      <td>No</td>\n",
       "      <td>PCIe 3.0 x16</td>\n",
       "      <td>GDDR5</td>\n",
       "      <td>GK110B</td>\n",
       "    </tr>\n",
       "    <tr>\n",
       "      <th>2346</th>\n",
       "      <td>ATI</td>\n",
       "      <td>FireGL V3100</td>\n",
       "      <td>2004.0</td>\n",
       "      <td>0.128</td>\n",
       "      <td>64.0</td>\n",
       "      <td>391</td>\n",
       "      <td>196.0</td>\n",
       "      <td>NaN</td>\n",
       "      <td>4</td>\n",
       "      <td>4</td>\n",
       "      <td>4.0</td>\n",
       "      <td>2.0</td>\n",
       "      <td>No</td>\n",
       "      <td>PCIe 1.0 x16</td>\n",
       "      <td>DDR</td>\n",
       "      <td>RV370</td>\n",
       "    </tr>\n",
       "    <tr>\n",
       "      <th>2696</th>\n",
       "      <td>ATI</td>\n",
       "      <td>Radeon 8500</td>\n",
       "      <td>2001.0</td>\n",
       "      <td>0.064</td>\n",
       "      <td>128.0</td>\n",
       "      <td>275</td>\n",
       "      <td>275.0</td>\n",
       "      <td>NaN</td>\n",
       "      <td>8</td>\n",
       "      <td>4</td>\n",
       "      <td>4.0</td>\n",
       "      <td>2.0</td>\n",
       "      <td>No</td>\n",
       "      <td>AGP 4x</td>\n",
       "      <td>DDR</td>\n",
       "      <td>R200</td>\n",
       "    </tr>\n",
       "  </tbody>\n",
       "</table>\n",
       "</div>"
      ],
      "text/plain": [
       "     manufacturer          productName  releaseYear  memSize  memBusWidth  \\\n",
       "2181        Intel             GMA 3000       2006.0      NaN          NaN   \n",
       "617           AMD    Radeon R7 435 OEM       2016.0    2.000         64.0   \n",
       "878        NVIDIA  GeForce GTX TITAN Z       2014.0    6.000        384.0   \n",
       "2346          ATI         FireGL V3100       2004.0    0.128         64.0   \n",
       "2696          ATI          Radeon 8500       2001.0    0.064        128.0   \n",
       "\n",
       "      gpuClock  memClock  unifiedShader  tmu  rop  pixelShader  vertexShader  \\\n",
       "2181       400       NaN            NaN    4    4          4.0           0.0   \n",
       "617        920    1000.0          320.0   20    8          NaN           NaN   \n",
       "878        705    1750.0         2880.0  240   48          NaN           NaN   \n",
       "2346       391     196.0            NaN    4    4          4.0           2.0   \n",
       "2696       275     275.0            NaN    8    4          4.0           2.0   \n",
       "\n",
       "      igp           bus        memType     gpuChip  \n",
       "2181  Yes           FSB  System Shared  Broadwater  \n",
       "617    No   PCIe 3.0 x8           DDR3       Oland  \n",
       "878    No  PCIe 3.0 x16          GDDR5      GK110B  \n",
       "2346   No  PCIe 1.0 x16            DDR       RV370  \n",
       "2696   No        AGP 4x            DDR        R200  "
      ]
     },
     "execution_count": 2,
     "metadata": {},
     "output_type": "execute_result"
    }
   ],
   "source": [
    "df_pre = pd.read_csv('gpu.csv')\n",
    "df_pre.sample(5, random_state=16788682)"
   ]
  },
  {
   "cell_type": "markdown",
   "metadata": {
    "cell_id": "7293a1c4784f4227931e1f99edc5f871",
    "deepnote_cell_type": "markdown",
    "tags": []
   },
   "source": [
    "This leads us to my question. **Can we accurately guess the type of memory a graphics card has based off the memory's attributes?** As we saw before, the same type of RAM can be clocked and built totally differently, but surely there must be some correlation."
   ]
  },
  {
   "cell_type": "markdown",
   "metadata": {
    "cell_id": "6970f3ff021341018134c74518f1478b",
    "deepnote_cell_type": "markdown",
    "tags": []
   },
   "source": [
    "## Preping the data"
   ]
  },
  {
   "cell_type": "markdown",
   "metadata": {
    "cell_id": "3c0feaf2bc73457a8f501498ec4cac06",
    "deepnote_cell_type": "markdown",
    "tags": []
   },
   "source": [
    "Earlier I mentioned that there were an abundance of missing values. These are hard to work with, so we will do our best to drop any row with missing values. Although as it turns out, we cannot just use a simple .dropna() method on the entire Dataframe as we would be left with a Dataframe with zero rows. So first we must 'trim the fat' so to speak, by making a new Dataframe with only the interesting columns.\n",
    "\n",
    "First we will make a list with every column with the string 'mem' in it, as these will be the most relevant."
   ]
  },
  {
   "cell_type": "code",
   "execution_count": 3,
   "metadata": {
    "cell_id": "debce9e8c30e444da682f44168533fa9",
    "deepnote_cell_type": "code",
    "deepnote_to_be_reexecuted": false,
    "execution_millis": 6,
    "execution_start": 1670280589575,
    "source_hash": "f65ef4fc",
    "tags": []
   },
   "outputs": [],
   "source": [
    "memcols = [x for x in df_pre.columns if 'mem' in x]"
   ]
  },
  {
   "cell_type": "markdown",
   "metadata": {
    "cell_id": "e3cb53fab75b46d2baeea86b6cf4c250",
    "deepnote_cell_type": "markdown",
    "tags": []
   },
   "source": [
    "Next we want to make a list with any other columns that might be useful. This will consist of the manufacturer and bus columns. We want the manufacturer column as sometimes companies come out with patented technologies. It is possible that one manufacturer has exclusive rights to a certain type of RAM. Notice how bus is different from memBusWidth, this is because the bus column corresponds to the actual connections from the card to the motherboard, rather than the RAM to the card. I suspect as the bus gets newer (i.e. PCIe 3 or 4) the RAM should also get newer."
   ]
  },
  {
   "cell_type": "code",
   "execution_count": 4,
   "metadata": {
    "cell_id": "7edf3b8bb26c40218d8d3f84da9df931",
    "deepnote_cell_type": "code",
    "deepnote_to_be_reexecuted": false,
    "execution_millis": 0,
    "execution_start": 1670280589582,
    "source_hash": "c0e19416",
    "tags": []
   },
   "outputs": [],
   "source": [
    "usefulcols = ['manufacturer', 'bus']"
   ]
  },
  {
   "cell_type": "code",
   "execution_count": 5,
   "metadata": {
    "cell_id": "3d024e2eabea48a098e5712964c0f016",
    "deepnote_cell_type": "code",
    "deepnote_to_be_reexecuted": false,
    "execution_millis": 0,
    "execution_start": 1670280589583,
    "source_hash": "bf1dafd1",
    "tags": []
   },
   "outputs": [],
   "source": [
    "goodcols = memcols + usefulcols"
   ]
  },
  {
   "cell_type": "code",
   "execution_count": 6,
   "metadata": {
    "cell_id": "1b52419cc8bc48beb9db41802f4973ee",
    "deepnote_cell_type": "code",
    "deepnote_to_be_reexecuted": false,
    "execution_millis": 34,
    "execution_start": 1670280589593,
    "source_hash": "5c6aa2dd",
    "tags": []
   },
   "outputs": [
    {
     "data": {
      "application/vnd.deepnote.dataframe.v3+json": {
       "column_count": 6,
       "columns": [
        {
         "dtype": "float64",
         "name": "memSize",
         "stats": {
          "histogram": [
           {
            "bin_end": 12.800028799999998,
            "bin_start": 3.2e-05,
            "count": 2357
           },
           {
            "bin_end": 25.6000256,
            "bin_start": 12.800028799999998,
            "count": 86
           },
           {
            "bin_end": 38.40002239999999,
            "bin_start": 25.6000256,
            "count": 19
           },
           {
            "bin_end": 51.20001919999999,
            "bin_start": 38.40002239999999,
            "count": 8
           },
           {
            "bin_end": 64.000016,
            "bin_start": 51.20001919999999,
            "count": 1
           },
           {
            "bin_end": 76.80001279999999,
            "bin_start": 64.000016,
            "count": 0
           },
           {
            "bin_end": 89.60000959999999,
            "bin_start": 76.80001279999999,
            "count": 4
           },
           {
            "bin_end": 102.4000064,
            "bin_start": 89.60000959999999,
            "count": 0
           },
           {
            "bin_end": 115.2000032,
            "bin_start": 102.4000064,
            "count": 0
           },
           {
            "bin_end": 128,
            "bin_start": 115.2000032,
            "count": 2
           }
          ],
          "max": "128.0",
          "min": "3.2e-05",
          "nan_count": 0,
          "unique_count": 44
         }
        },
        {
         "dtype": "float64",
         "name": "memBusWidth",
         "stats": {
          "histogram": [
           {
            "bin_end": 848,
            "bin_start": 32,
            "count": 2395
           },
           {
            "bin_end": 1664,
            "bin_start": 848,
            "count": 5
           },
           {
            "bin_end": 2480,
            "bin_start": 1664,
            "count": 21
           },
           {
            "bin_end": 3296,
            "bin_start": 2480,
            "count": 9
           },
           {
            "bin_end": 4112,
            "bin_start": 3296,
            "count": 37
           },
           {
            "bin_end": 4928,
            "bin_start": 4112,
            "count": 0
           },
           {
            "bin_end": 5744,
            "bin_start": 4928,
            "count": 6
           },
           {
            "bin_end": 6560,
            "bin_start": 5744,
            "count": 2
           },
           {
            "bin_end": 7376,
            "bin_start": 6560,
            "count": 0
           },
           {
            "bin_end": 8192,
            "bin_start": 7376,
            "count": 2
           }
          ],
          "max": "8192.0",
          "min": "32.0",
          "nan_count": 0,
          "unique_count": 20
         }
        },
        {
         "dtype": "float64",
         "name": "memClock",
         "stats": {
          "histogram": [
           {
            "bin_end": 230.2,
            "bin_start": 5,
            "count": 299
           },
           {
            "bin_end": 455.4,
            "bin_start": 230.2,
            "count": 350
           },
           {
            "bin_end": 680.5999999999999,
            "bin_start": 455.4,
            "count": 229
           },
           {
            "bin_end": 905.8,
            "bin_start": 680.5999999999999,
            "count": 630
           },
           {
            "bin_end": 1131,
            "bin_start": 905.8,
            "count": 259
           },
           {
            "bin_end": 1356.1999999999998,
            "bin_start": 1131,
            "count": 239
           },
           {
            "bin_end": 1581.3999999999999,
            "bin_start": 1356.1999999999998,
            "count": 224
           },
           {
            "bin_end": 1806.6,
            "bin_start": 1581.3999999999999,
            "count": 163
           },
           {
            "bin_end": 2031.8,
            "bin_start": 1806.6,
            "count": 64
           },
           {
            "bin_end": 2257,
            "bin_start": 2031.8,
            "count": 20
           }
          ],
          "max": "2257.0",
          "min": "5.0",
          "nan_count": 0,
          "unique_count": 257
         }
        },
        {
         "dtype": "object",
         "name": "memType",
         "stats": {
          "categories": [
           {
            "count": 724,
            "name": "GDDR5"
           },
           {
            "count": 471,
            "name": "GDDR3"
           },
           {
            "count": 1282,
            "name": "24 others"
           }
          ],
          "nan_count": 0,
          "unique_count": 26
         }
        },
        {
         "dtype": "object",
         "name": "manufacturer",
         "stats": {
          "categories": [
           {
            "count": 1204,
            "name": "NVIDIA"
           },
           {
            "count": 608,
            "name": "AMD"
           },
           {
            "count": 665,
            "name": "6 others"
           }
          ],
          "nan_count": 0,
          "unique_count": 8
         }
        },
        {
         "dtype": "object",
         "name": "bus",
         "stats": {
          "categories": [
           {
            "count": 549,
            "name": "PCIe 2.0 x16"
           },
           {
            "count": 498,
            "name": "PCIe 3.0 x16"
           },
           {
            "count": 1430,
            "name": "25 others"
           }
          ],
          "nan_count": 0,
          "unique_count": 27
         }
        },
        {
         "dtype": "int64",
         "name": "_deepnote_index_column"
        }
       ],
       "row_count": 2477,
       "rows": [
        {
         "_deepnote_index_column": "0",
         "bus": "PCIe 4.0 x16",
         "manufacturer": "NVIDIA",
         "memBusWidth": "128.0",
         "memClock": "2250.0",
         "memSize": "8.0",
         "memType": "GDDR6"
        },
        {
         "_deepnote_index_column": "1",
         "bus": "PCIe 4.0 x8",
         "manufacturer": "Intel",
         "memBusWidth": "64.0",
         "memClock": "1500.0",
         "memSize": "4.0",
         "memType": "GDDR6"
        },
        {
         "_deepnote_index_column": "2",
         "bus": "PCIe 4.0 x8",
         "manufacturer": "Intel",
         "memBusWidth": "64.0",
         "memClock": "1500.0",
         "memSize": "4.0",
         "memType": "GDDR6"
        },
        {
         "_deepnote_index_column": "3",
         "bus": "PCIe 4.0 x8",
         "manufacturer": "Intel",
         "memBusWidth": "64.0",
         "memClock": "1500.0",
         "memSize": "4.0",
         "memType": "GDDR6"
        },
        {
         "_deepnote_index_column": "4",
         "bus": "PCIe 4.0 x16",
         "manufacturer": "Intel",
         "memBusWidth": "128.0",
         "memClock": "1500.0",
         "memSize": "8.0",
         "memType": "GDDR6"
        },
        {
         "_deepnote_index_column": "5",
         "bus": "PCIe 4.0 x16",
         "manufacturer": "Intel",
         "memBusWidth": "192.0",
         "memClock": "1500.0",
         "memSize": "12.0",
         "memType": "GDDR6"
        },
        {
         "_deepnote_index_column": "6",
         "bus": "PCIe 4.0 x16",
         "manufacturer": "Intel",
         "memBusWidth": "256.0",
         "memClock": "1500.0",
         "memSize": "16.0",
         "memType": "GDDR6"
        },
        {
         "_deepnote_index_column": "7",
         "bus": "PCIe 4.0 x16",
         "manufacturer": "Intel",
         "memBusWidth": "256.0",
         "memClock": "1500.0",
         "memSize": "16.0",
         "memType": "GDDR6"
        },
        {
         "_deepnote_index_column": "8",
         "bus": "PCIe 4.0 x16",
         "manufacturer": "Intel",
         "memBusWidth": "256.0",
         "memClock": "1093.0",
         "memSize": "16.0",
         "memType": "GDDR6X"
        },
        {
         "_deepnote_index_column": "9",
         "bus": "PCIe 4.0 x16",
         "manufacturer": "Intel",
         "memBusWidth": "4096.0",
         "memClock": "1200.0",
         "memSize": "16.0",
         "memType": "HBM2e"
        }
       ]
      },
      "text/html": [
       "<div>\n",
       "<style scoped>\n",
       "    .dataframe tbody tr th:only-of-type {\n",
       "        vertical-align: middle;\n",
       "    }\n",
       "\n",
       "    .dataframe tbody tr th {\n",
       "        vertical-align: top;\n",
       "    }\n",
       "\n",
       "    .dataframe thead th {\n",
       "        text-align: right;\n",
       "    }\n",
       "</style>\n",
       "<table border=\"1\" class=\"dataframe\">\n",
       "  <thead>\n",
       "    <tr style=\"text-align: right;\">\n",
       "      <th></th>\n",
       "      <th>memSize</th>\n",
       "      <th>memBusWidth</th>\n",
       "      <th>memClock</th>\n",
       "      <th>memType</th>\n",
       "      <th>manufacturer</th>\n",
       "      <th>bus</th>\n",
       "    </tr>\n",
       "  </thead>\n",
       "  <tbody>\n",
       "    <tr>\n",
       "      <th>0</th>\n",
       "      <td>8.000</td>\n",
       "      <td>128.0</td>\n",
       "      <td>2250.0</td>\n",
       "      <td>GDDR6</td>\n",
       "      <td>NVIDIA</td>\n",
       "      <td>PCIe 4.0 x16</td>\n",
       "    </tr>\n",
       "    <tr>\n",
       "      <th>1</th>\n",
       "      <td>4.000</td>\n",
       "      <td>64.0</td>\n",
       "      <td>1500.0</td>\n",
       "      <td>GDDR6</td>\n",
       "      <td>Intel</td>\n",
       "      <td>PCIe 4.0 x8</td>\n",
       "    </tr>\n",
       "    <tr>\n",
       "      <th>2</th>\n",
       "      <td>4.000</td>\n",
       "      <td>64.0</td>\n",
       "      <td>1500.0</td>\n",
       "      <td>GDDR6</td>\n",
       "      <td>Intel</td>\n",
       "      <td>PCIe 4.0 x8</td>\n",
       "    </tr>\n",
       "    <tr>\n",
       "      <th>3</th>\n",
       "      <td>4.000</td>\n",
       "      <td>64.0</td>\n",
       "      <td>1500.0</td>\n",
       "      <td>GDDR6</td>\n",
       "      <td>Intel</td>\n",
       "      <td>PCIe 4.0 x8</td>\n",
       "    </tr>\n",
       "    <tr>\n",
       "      <th>4</th>\n",
       "      <td>8.000</td>\n",
       "      <td>128.0</td>\n",
       "      <td>1500.0</td>\n",
       "      <td>GDDR6</td>\n",
       "      <td>Intel</td>\n",
       "      <td>PCIe 4.0 x16</td>\n",
       "    </tr>\n",
       "    <tr>\n",
       "      <th>...</th>\n",
       "      <td>...</td>\n",
       "      <td>...</td>\n",
       "      <td>...</td>\n",
       "      <td>...</td>\n",
       "      <td>...</td>\n",
       "      <td>...</td>\n",
       "    </tr>\n",
       "    <tr>\n",
       "      <th>2884</th>\n",
       "      <td>0.016</td>\n",
       "      <td>128.0</td>\n",
       "      <td>166.0</td>\n",
       "      <td>SDR</td>\n",
       "      <td>3dfx</td>\n",
       "      <td>AGP 4x</td>\n",
       "    </tr>\n",
       "    <tr>\n",
       "      <th>2885</th>\n",
       "      <td>0.016</td>\n",
       "      <td>128.0</td>\n",
       "      <td>166.0</td>\n",
       "      <td>SDR</td>\n",
       "      <td>3dfx</td>\n",
       "      <td>PCI</td>\n",
       "    </tr>\n",
       "    <tr>\n",
       "      <th>2886</th>\n",
       "      <td>0.032</td>\n",
       "      <td>128.0</td>\n",
       "      <td>166.0</td>\n",
       "      <td>SDR</td>\n",
       "      <td>3dfx</td>\n",
       "      <td>AGP 4x</td>\n",
       "    </tr>\n",
       "    <tr>\n",
       "      <th>2887</th>\n",
       "      <td>4.000</td>\n",
       "      <td>128.0</td>\n",
       "      <td>2133.0</td>\n",
       "      <td>LPDDR4X</td>\n",
       "      <td>Intel</td>\n",
       "      <td>PCIe 4.0 x8</td>\n",
       "    </tr>\n",
       "    <tr>\n",
       "      <th>2888</th>\n",
       "      <td>8.000</td>\n",
       "      <td>128.0</td>\n",
       "      <td>2133.0</td>\n",
       "      <td>LPDDR4X</td>\n",
       "      <td>Intel</td>\n",
       "      <td>PCIe 4.0 x8</td>\n",
       "    </tr>\n",
       "  </tbody>\n",
       "</table>\n",
       "<p>2477 rows × 6 columns</p>\n",
       "</div>"
      ],
      "text/plain": [
       "      memSize  memBusWidth  memClock  memType manufacturer           bus\n",
       "0       8.000        128.0    2250.0    GDDR6       NVIDIA  PCIe 4.0 x16\n",
       "1       4.000         64.0    1500.0    GDDR6        Intel   PCIe 4.0 x8\n",
       "2       4.000         64.0    1500.0    GDDR6        Intel   PCIe 4.0 x8\n",
       "3       4.000         64.0    1500.0    GDDR6        Intel   PCIe 4.0 x8\n",
       "4       8.000        128.0    1500.0    GDDR6        Intel  PCIe 4.0 x16\n",
       "...       ...          ...       ...      ...          ...           ...\n",
       "2884    0.016        128.0     166.0      SDR         3dfx        AGP 4x\n",
       "2885    0.016        128.0     166.0      SDR         3dfx           PCI\n",
       "2886    0.032        128.0     166.0      SDR         3dfx        AGP 4x\n",
       "2887    4.000        128.0    2133.0  LPDDR4X        Intel   PCIe 4.0 x8\n",
       "2888    8.000        128.0    2133.0  LPDDR4X        Intel   PCIe 4.0 x8\n",
       "\n",
       "[2477 rows x 6 columns]"
      ]
     },
     "execution_count": 6,
     "metadata": {},
     "output_type": "execute_result"
    }
   ],
   "source": [
    "df = df_pre[goodcols].dropna()\n",
    "df"
   ]
  },
  {
   "cell_type": "markdown",
   "metadata": {
    "cell_id": "8c53366717d249fbbb069176f3e83c00",
    "deepnote_cell_type": "markdown",
    "tags": []
   },
   "source": [
    "Taking a quick look at the shape of the original Dataframe against the shape of our new Dataframe shows that we did not lose that many rows, so we still have ample data to work with."
   ]
  },
  {
   "cell_type": "code",
   "execution_count": 7,
   "metadata": {
    "cell_id": "c84980376a864902815d01ce5f54302a",
    "deepnote_cell_type": "code",
    "deepnote_to_be_reexecuted": false,
    "execution_millis": 24,
    "execution_start": 1670280589628,
    "source_hash": "d20f9daf",
    "tags": []
   },
   "outputs": [
    {
     "data": {
      "text/plain": [
       "((2889, 16), (2477, 6))"
      ]
     },
     "execution_count": 7,
     "metadata": {},
     "output_type": "execute_result"
    }
   ],
   "source": [
    "df_pre.shape , df.shape"
   ]
  },
  {
   "cell_type": "markdown",
   "metadata": {
    "cell_id": "e5f7f2f061fc45e5b4f0441436873d59",
    "deepnote_cell_type": "markdown",
    "tags": []
   },
   "source": [
    "## Encoding Non-Numeric Columns"
   ]
  },
  {
   "cell_type": "markdown",
   "metadata": {
    "cell_id": "3e3813fbc8ca4038945b643325910eb3",
    "deepnote_cell_type": "markdown",
    "tags": []
   },
   "source": [
    "The best way for us to predict the type of RAM is to use a decision tree, but before we can get to that we will need to do a little more preparation. Sikitlearn's decision tree algorithm requires numeric values as inputs and the bus and manufacturer columns are strings. Fortunately we can use Sikitlearn's OneHotEncoder to turn our bus and manufacturer columns into features that can be used in the decision tree."
   ]
  },
  {
   "cell_type": "code",
   "execution_count": 8,
   "metadata": {
    "cell_id": "ed062b024ff34487992c4d7708f35ce5",
    "deepnote_cell_type": "code",
    "deepnote_to_be_reexecuted": false,
    "execution_millis": 552016,
    "execution_start": 1670280589641,
    "source_hash": "93fdf3e0",
    "tags": []
   },
   "outputs": [],
   "source": [
    "encoder = OneHotEncoder()"
   ]
  },
  {
   "cell_type": "code",
   "execution_count": 9,
   "metadata": {
    "cell_id": "75a90f2cb6d54f81bb88a56f5c4e91af",
    "deepnote_cell_type": "code",
    "deepnote_to_be_reexecuted": false,
    "execution_millis": 12,
    "execution_start": 1670280589642,
    "source_hash": "9dae1822",
    "tags": []
   },
   "outputs": [
    {
     "data": {
      "text/html": [
       "<style>#sk-container-id-1 {color: black;background-color: white;}#sk-container-id-1 pre{padding: 0;}#sk-container-id-1 div.sk-toggleable {background-color: white;}#sk-container-id-1 label.sk-toggleable__label {cursor: pointer;display: block;width: 100%;margin-bottom: 0;padding: 0.3em;box-sizing: border-box;text-align: center;}#sk-container-id-1 label.sk-toggleable__label-arrow:before {content: \"▸\";float: left;margin-right: 0.25em;color: #696969;}#sk-container-id-1 label.sk-toggleable__label-arrow:hover:before {color: black;}#sk-container-id-1 div.sk-estimator:hover label.sk-toggleable__label-arrow:before {color: black;}#sk-container-id-1 div.sk-toggleable__content {max-height: 0;max-width: 0;overflow: hidden;text-align: left;background-color: #f0f8ff;}#sk-container-id-1 div.sk-toggleable__content pre {margin: 0.2em;color: black;border-radius: 0.25em;background-color: #f0f8ff;}#sk-container-id-1 input.sk-toggleable__control:checked~div.sk-toggleable__content {max-height: 200px;max-width: 100%;overflow: auto;}#sk-container-id-1 input.sk-toggleable__control:checked~label.sk-toggleable__label-arrow:before {content: \"▾\";}#sk-container-id-1 div.sk-estimator input.sk-toggleable__control:checked~label.sk-toggleable__label {background-color: #d4ebff;}#sk-container-id-1 div.sk-label input.sk-toggleable__control:checked~label.sk-toggleable__label {background-color: #d4ebff;}#sk-container-id-1 input.sk-hidden--visually {border: 0;clip: rect(1px 1px 1px 1px);clip: rect(1px, 1px, 1px, 1px);height: 1px;margin: -1px;overflow: hidden;padding: 0;position: absolute;width: 1px;}#sk-container-id-1 div.sk-estimator {font-family: monospace;background-color: #f0f8ff;border: 1px dotted black;border-radius: 0.25em;box-sizing: border-box;margin-bottom: 0.5em;}#sk-container-id-1 div.sk-estimator:hover {background-color: #d4ebff;}#sk-container-id-1 div.sk-parallel-item::after {content: \"\";width: 100%;border-bottom: 1px solid gray;flex-grow: 1;}#sk-container-id-1 div.sk-label:hover label.sk-toggleable__label {background-color: #d4ebff;}#sk-container-id-1 div.sk-serial::before {content: \"\";position: absolute;border-left: 1px solid gray;box-sizing: border-box;top: 0;bottom: 0;left: 50%;z-index: 0;}#sk-container-id-1 div.sk-serial {display: flex;flex-direction: column;align-items: center;background-color: white;padding-right: 0.2em;padding-left: 0.2em;position: relative;}#sk-container-id-1 div.sk-item {position: relative;z-index: 1;}#sk-container-id-1 div.sk-parallel {display: flex;align-items: stretch;justify-content: center;background-color: white;position: relative;}#sk-container-id-1 div.sk-item::before, #sk-container-id-1 div.sk-parallel-item::before {content: \"\";position: absolute;border-left: 1px solid gray;box-sizing: border-box;top: 0;bottom: 0;left: 50%;z-index: -1;}#sk-container-id-1 div.sk-parallel-item {display: flex;flex-direction: column;z-index: 1;position: relative;background-color: white;}#sk-container-id-1 div.sk-parallel-item:first-child::after {align-self: flex-end;width: 50%;}#sk-container-id-1 div.sk-parallel-item:last-child::after {align-self: flex-start;width: 50%;}#sk-container-id-1 div.sk-parallel-item:only-child::after {width: 0;}#sk-container-id-1 div.sk-dashed-wrapped {border: 1px dashed gray;margin: 0 0.4em 0.5em 0.4em;box-sizing: border-box;padding-bottom: 0.4em;background-color: white;}#sk-container-id-1 div.sk-label label {font-family: monospace;font-weight: bold;display: inline-block;line-height: 1.2em;}#sk-container-id-1 div.sk-label-container {text-align: center;}#sk-container-id-1 div.sk-container {/* jupyter's `normalize.less` sets `[hidden] { display: none; }` but bootstrap.min.css set `[hidden] { display: none !important; }` so we also need the `!important` here to be able to override the default hidden behavior on the sphinx rendered scikit-learn.org. See: https://github.com/scikit-learn/scikit-learn/issues/21755 */display: inline-block !important;position: relative;}#sk-container-id-1 div.sk-text-repr-fallback {display: none;}</style><div id=\"sk-container-id-1\" class=\"sk-top-container\"><div class=\"sk-text-repr-fallback\"><pre>OneHotEncoder()</pre><b>In a Jupyter environment, please rerun this cell to show the HTML representation or trust the notebook. <br />On GitHub, the HTML representation is unable to render, please try loading this page with nbviewer.org.</b></div><div class=\"sk-container\" hidden><div class=\"sk-item\"><div class=\"sk-estimator sk-toggleable\"><input class=\"sk-toggleable__control sk-hidden--visually\" id=\"sk-estimator-id-1\" type=\"checkbox\" checked><label for=\"sk-estimator-id-1\" class=\"sk-toggleable__label sk-toggleable__label-arrow\">OneHotEncoder</label><div class=\"sk-toggleable__content\"><pre>OneHotEncoder()</pre></div></div></div></div></div>"
      ],
      "text/plain": [
       "OneHotEncoder()"
      ]
     },
     "execution_count": 9,
     "metadata": {},
     "output_type": "execute_result"
    }
   ],
   "source": [
    "encoder.fit(df[['manufacturer', 'bus']])"
   ]
  },
  {
   "cell_type": "code",
   "execution_count": 10,
   "metadata": {
    "cell_id": "854b289e43fa426881d0dd1e26bc4e7d",
    "deepnote_cell_type": "code",
    "deepnote_to_be_reexecuted": false,
    "execution_millis": 3,
    "execution_start": 1670280589643,
    "source_hash": "c8ade2c9",
    "tags": []
   },
   "outputs": [],
   "source": [
    "arr = encoder.transform(df[['manufacturer', 'bus']]).toarray()"
   ]
  },
  {
   "cell_type": "code",
   "execution_count": 11,
   "metadata": {
    "cell_id": "ed21273676294ea0905037e1bad3c3fb",
    "deepnote_cell_type": "code",
    "deepnote_to_be_reexecuted": false,
    "execution_millis": 1,
    "execution_start": 1670280589648,
    "source_hash": "58eab03d",
    "tags": []
   },
   "outputs": [],
   "source": [
    "enccols= encoder.get_feature_names_out()"
   ]
  },
  {
   "cell_type": "code",
   "execution_count": 12,
   "metadata": {
    "cell_id": "21551d56fd9b463586644bddd4925acc",
    "deepnote_cell_type": "code",
    "deepnote_table_loading": false,
    "deepnote_table_state": {
     "filters": [],
     "pageIndex": 0,
     "pageSize": 10,
     "sortBy": []
    },
    "deepnote_to_be_reexecuted": false,
    "execution_millis": 139,
    "execution_start": 1670280589651,
    "source_hash": "1c02d6da",
    "tags": []
   },
   "outputs": [
    {
     "data": {
      "application/vnd.deepnote.dataframe.v3+json": {
       "column_count": 41,
       "columns": [
        {
         "dtype": "float64",
         "name": "memSize",
         "stats": {
          "histogram": [
           {
            "bin_end": 12.800028799999998,
            "bin_start": 3.2e-05,
            "count": 2357
           },
           {
            "bin_end": 25.6000256,
            "bin_start": 12.800028799999998,
            "count": 86
           },
           {
            "bin_end": 38.40002239999999,
            "bin_start": 25.6000256,
            "count": 19
           },
           {
            "bin_end": 51.20001919999999,
            "bin_start": 38.40002239999999,
            "count": 8
           },
           {
            "bin_end": 64.000016,
            "bin_start": 51.20001919999999,
            "count": 1
           },
           {
            "bin_end": 76.80001279999999,
            "bin_start": 64.000016,
            "count": 0
           },
           {
            "bin_end": 89.60000959999999,
            "bin_start": 76.80001279999999,
            "count": 4
           },
           {
            "bin_end": 102.4000064,
            "bin_start": 89.60000959999999,
            "count": 0
           },
           {
            "bin_end": 115.2000032,
            "bin_start": 102.4000064,
            "count": 0
           },
           {
            "bin_end": 128,
            "bin_start": 115.2000032,
            "count": 2
           }
          ],
          "max": "128.0",
          "min": "3.2e-05",
          "nan_count": 0,
          "unique_count": 44
         }
        },
        {
         "dtype": "float64",
         "name": "memBusWidth",
         "stats": {
          "histogram": [
           {
            "bin_end": 848,
            "bin_start": 32,
            "count": 2395
           },
           {
            "bin_end": 1664,
            "bin_start": 848,
            "count": 5
           },
           {
            "bin_end": 2480,
            "bin_start": 1664,
            "count": 21
           },
           {
            "bin_end": 3296,
            "bin_start": 2480,
            "count": 9
           },
           {
            "bin_end": 4112,
            "bin_start": 3296,
            "count": 37
           },
           {
            "bin_end": 4928,
            "bin_start": 4112,
            "count": 0
           },
           {
            "bin_end": 5744,
            "bin_start": 4928,
            "count": 6
           },
           {
            "bin_end": 6560,
            "bin_start": 5744,
            "count": 2
           },
           {
            "bin_end": 7376,
            "bin_start": 6560,
            "count": 0
           },
           {
            "bin_end": 8192,
            "bin_start": 7376,
            "count": 2
           }
          ],
          "max": "8192.0",
          "min": "32.0",
          "nan_count": 0,
          "unique_count": 20
         }
        },
        {
         "dtype": "float64",
         "name": "memClock",
         "stats": {
          "histogram": [
           {
            "bin_end": 230.2,
            "bin_start": 5,
            "count": 299
           },
           {
            "bin_end": 455.4,
            "bin_start": 230.2,
            "count": 350
           },
           {
            "bin_end": 680.5999999999999,
            "bin_start": 455.4,
            "count": 229
           },
           {
            "bin_end": 905.8,
            "bin_start": 680.5999999999999,
            "count": 630
           },
           {
            "bin_end": 1131,
            "bin_start": 905.8,
            "count": 259
           },
           {
            "bin_end": 1356.1999999999998,
            "bin_start": 1131,
            "count": 239
           },
           {
            "bin_end": 1581.3999999999999,
            "bin_start": 1356.1999999999998,
            "count": 224
           },
           {
            "bin_end": 1806.6,
            "bin_start": 1581.3999999999999,
            "count": 163
           },
           {
            "bin_end": 2031.8,
            "bin_start": 1806.6,
            "count": 64
           },
           {
            "bin_end": 2257,
            "bin_start": 2031.8,
            "count": 20
           }
          ],
          "max": "2257.0",
          "min": "5.0",
          "nan_count": 0,
          "unique_count": 257
         }
        },
        {
         "dtype": "object",
         "name": "memType",
         "stats": {
          "categories": [
           {
            "count": 724,
            "name": "GDDR5"
           },
           {
            "count": 471,
            "name": "GDDR3"
           },
           {
            "count": 1282,
            "name": "24 others"
           }
          ],
          "nan_count": 0,
          "unique_count": 26
         }
        },
        {
         "dtype": "object",
         "name": "manufacturer",
         "stats": {
          "categories": [
           {
            "count": 1204,
            "name": "NVIDIA"
           },
           {
            "count": 608,
            "name": "AMD"
           },
           {
            "count": 665,
            "name": "6 others"
           }
          ],
          "nan_count": 0,
          "unique_count": 8
         }
        },
        {
         "dtype": "object",
         "name": "bus",
         "stats": {
          "categories": [
           {
            "count": 549,
            "name": "PCIe 2.0 x16"
           },
           {
            "count": 498,
            "name": "PCIe 3.0 x16"
           },
           {
            "count": 1430,
            "name": "25 others"
           }
          ],
          "nan_count": 0,
          "unique_count": 27
         }
        },
        {
         "dtype": "float64",
         "name": "manufacturer_3dfx",
         "stats": {
          "histogram": [
           {
            "bin_end": 0.1,
            "bin_start": 0,
            "count": 2447
           },
           {
            "bin_end": 0.2,
            "bin_start": 0.1,
            "count": 0
           },
           {
            "bin_end": 0.30000000000000004,
            "bin_start": 0.2,
            "count": 0
           },
           {
            "bin_end": 0.4,
            "bin_start": 0.30000000000000004,
            "count": 0
           },
           {
            "bin_end": 0.5,
            "bin_start": 0.4,
            "count": 0
           },
           {
            "bin_end": 0.6000000000000001,
            "bin_start": 0.5,
            "count": 0
           },
           {
            "bin_end": 0.7000000000000001,
            "bin_start": 0.6000000000000001,
            "count": 0
           },
           {
            "bin_end": 0.8,
            "bin_start": 0.7000000000000001,
            "count": 0
           },
           {
            "bin_end": 0.9,
            "bin_start": 0.8,
            "count": 0
           },
           {
            "bin_end": 1,
            "bin_start": 0.9,
            "count": 30
           }
          ],
          "max": "1.0",
          "min": "0.0",
          "nan_count": 0,
          "unique_count": 2
         }
        },
        {
         "dtype": "float64",
         "name": "manufacturer_AMD",
         "stats": {
          "histogram": [
           {
            "bin_end": 0.1,
            "bin_start": 0,
            "count": 1869
           },
           {
            "bin_end": 0.2,
            "bin_start": 0.1,
            "count": 0
           },
           {
            "bin_end": 0.30000000000000004,
            "bin_start": 0.2,
            "count": 0
           },
           {
            "bin_end": 0.4,
            "bin_start": 0.30000000000000004,
            "count": 0
           },
           {
            "bin_end": 0.5,
            "bin_start": 0.4,
            "count": 0
           },
           {
            "bin_end": 0.6000000000000001,
            "bin_start": 0.5,
            "count": 0
           },
           {
            "bin_end": 0.7000000000000001,
            "bin_start": 0.6000000000000001,
            "count": 0
           },
           {
            "bin_end": 0.8,
            "bin_start": 0.7000000000000001,
            "count": 0
           },
           {
            "bin_end": 0.9,
            "bin_start": 0.8,
            "count": 0
           },
           {
            "bin_end": 1,
            "bin_start": 0.9,
            "count": 608
           }
          ],
          "max": "1.0",
          "min": "0.0",
          "nan_count": 0,
          "unique_count": 2
         }
        },
        {
         "dtype": "float64",
         "name": "manufacturer_ATI",
         "stats": {
          "histogram": [
           {
            "bin_end": 0.1,
            "bin_start": 0,
            "count": 1926
           },
           {
            "bin_end": 0.2,
            "bin_start": 0.1,
            "count": 0
           },
           {
            "bin_end": 0.30000000000000004,
            "bin_start": 0.2,
            "count": 0
           },
           {
            "bin_end": 0.4,
            "bin_start": 0.30000000000000004,
            "count": 0
           },
           {
            "bin_end": 0.5,
            "bin_start": 0.4,
            "count": 0
           },
           {
            "bin_end": 0.6000000000000001,
            "bin_start": 0.5,
            "count": 0
           },
           {
            "bin_end": 0.7000000000000001,
            "bin_start": 0.6000000000000001,
            "count": 0
           },
           {
            "bin_end": 0.8,
            "bin_start": 0.7000000000000001,
            "count": 0
           },
           {
            "bin_end": 0.9,
            "bin_start": 0.8,
            "count": 0
           },
           {
            "bin_end": 1,
            "bin_start": 0.9,
            "count": 551
           }
          ],
          "max": "1.0",
          "min": "0.0",
          "nan_count": 0,
          "unique_count": 2
         }
        },
        {
         "dtype": "float64",
         "name": "manufacturer_Intel",
         "stats": {
          "histogram": [
           {
            "bin_end": 0.1,
            "bin_start": 0,
            "count": 2452
           },
           {
            "bin_end": 0.2,
            "bin_start": 0.1,
            "count": 0
           },
           {
            "bin_end": 0.30000000000000004,
            "bin_start": 0.2,
            "count": 0
           },
           {
            "bin_end": 0.4,
            "bin_start": 0.30000000000000004,
            "count": 0
           },
           {
            "bin_end": 0.5,
            "bin_start": 0.4,
            "count": 0
           },
           {
            "bin_end": 0.6000000000000001,
            "bin_start": 0.5,
            "count": 0
           },
           {
            "bin_end": 0.7000000000000001,
            "bin_start": 0.6000000000000001,
            "count": 0
           },
           {
            "bin_end": 0.8,
            "bin_start": 0.7000000000000001,
            "count": 0
           },
           {
            "bin_end": 0.9,
            "bin_start": 0.8,
            "count": 0
           },
           {
            "bin_end": 1,
            "bin_start": 0.9,
            "count": 25
           }
          ],
          "max": "1.0",
          "min": "0.0",
          "nan_count": 0,
          "unique_count": 2
         }
        },
        {
         "dtype": "float64",
         "name": "manufacturer_Matrox",
         "stats": {
          "histogram": [
           {
            "bin_end": 0.1,
            "bin_start": 0,
            "count": 2443
           },
           {
            "bin_end": 0.2,
            "bin_start": 0.1,
            "count": 0
           },
           {
            "bin_end": 0.30000000000000004,
            "bin_start": 0.2,
            "count": 0
           },
           {
            "bin_end": 0.4,
            "bin_start": 0.30000000000000004,
            "count": 0
           },
           {
            "bin_end": 0.5,
            "bin_start": 0.4,
            "count": 0
           },
           {
            "bin_end": 0.6000000000000001,
            "bin_start": 0.5,
            "count": 0
           },
           {
            "bin_end": 0.7000000000000001,
            "bin_start": 0.6000000000000001,
            "count": 0
           },
           {
            "bin_end": 0.8,
            "bin_start": 0.7000000000000001,
            "count": 0
           },
           {
            "bin_end": 0.9,
            "bin_start": 0.8,
            "count": 0
           },
           {
            "bin_end": 1,
            "bin_start": 0.9,
            "count": 34
           }
          ],
          "max": "1.0",
          "min": "0.0",
          "nan_count": 0,
          "unique_count": 2
         }
        },
        {
         "dtype": "float64",
         "name": "manufacturer_NVIDIA",
         "stats": {
          "histogram": [
           {
            "bin_end": 0.1,
            "bin_start": 0,
            "count": 1273
           },
           {
            "bin_end": 0.2,
            "bin_start": 0.1,
            "count": 0
           },
           {
            "bin_end": 0.30000000000000004,
            "bin_start": 0.2,
            "count": 0
           },
           {
            "bin_end": 0.4,
            "bin_start": 0.30000000000000004,
            "count": 0
           },
           {
            "bin_end": 0.5,
            "bin_start": 0.4,
            "count": 0
           },
           {
            "bin_end": 0.6000000000000001,
            "bin_start": 0.5,
            "count": 0
           },
           {
            "bin_end": 0.7000000000000001,
            "bin_start": 0.6000000000000001,
            "count": 0
           },
           {
            "bin_end": 0.8,
            "bin_start": 0.7000000000000001,
            "count": 0
           },
           {
            "bin_end": 0.9,
            "bin_start": 0.8,
            "count": 0
           },
           {
            "bin_end": 1,
            "bin_start": 0.9,
            "count": 1204
           }
          ],
          "max": "1.0",
          "min": "0.0",
          "nan_count": 0,
          "unique_count": 2
         }
        },
        {
         "dtype": "float64",
         "name": "manufacturer_Sony",
         "stats": {
          "histogram": [
           {
            "bin_end": 0.1,
            "bin_start": 0,
            "count": 2468
           },
           {
            "bin_end": 0.2,
            "bin_start": 0.1,
            "count": 0
           },
           {
            "bin_end": 0.30000000000000004,
            "bin_start": 0.2,
            "count": 0
           },
           {
            "bin_end": 0.4,
            "bin_start": 0.30000000000000004,
            "count": 0
           },
           {
            "bin_end": 0.5,
            "bin_start": 0.4,
            "count": 0
           },
           {
            "bin_end": 0.6000000000000001,
            "bin_start": 0.5,
            "count": 0
           },
           {
            "bin_end": 0.7000000000000001,
            "bin_start": 0.6000000000000001,
            "count": 0
           },
           {
            "bin_end": 0.8,
            "bin_start": 0.7000000000000001,
            "count": 0
           },
           {
            "bin_end": 0.9,
            "bin_start": 0.8,
            "count": 0
           },
           {
            "bin_end": 1,
            "bin_start": 0.9,
            "count": 9
           }
          ],
          "max": "1.0",
          "min": "0.0",
          "nan_count": 0,
          "unique_count": 2
         }
        },
        {
         "dtype": "float64",
         "name": "manufacturer_XGI",
         "stats": {
          "histogram": [
           {
            "bin_end": 0.1,
            "bin_start": 0,
            "count": 2461
           },
           {
            "bin_end": 0.2,
            "bin_start": 0.1,
            "count": 0
           },
           {
            "bin_end": 0.30000000000000004,
            "bin_start": 0.2,
            "count": 0
           },
           {
            "bin_end": 0.4,
            "bin_start": 0.30000000000000004,
            "count": 0
           },
           {
            "bin_end": 0.5,
            "bin_start": 0.4,
            "count": 0
           },
           {
            "bin_end": 0.6000000000000001,
            "bin_start": 0.5,
            "count": 0
           },
           {
            "bin_end": 0.7000000000000001,
            "bin_start": 0.6000000000000001,
            "count": 0
           },
           {
            "bin_end": 0.8,
            "bin_start": 0.7000000000000001,
            "count": 0
           },
           {
            "bin_end": 0.9,
            "bin_start": 0.8,
            "count": 0
           },
           {
            "bin_end": 1,
            "bin_start": 0.9,
            "count": 16
           }
          ],
          "max": "1.0",
          "min": "0.0",
          "nan_count": 0,
          "unique_count": 2
         }
        },
        {
         "dtype": "float64",
         "name": "bus_AGP 2x",
         "stats": {
          "histogram": [
           {
            "bin_end": 0.1,
            "bin_start": 0,
            "count": 2443
           },
           {
            "bin_end": 0.2,
            "bin_start": 0.1,
            "count": 0
           },
           {
            "bin_end": 0.30000000000000004,
            "bin_start": 0.2,
            "count": 0
           },
           {
            "bin_end": 0.4,
            "bin_start": 0.30000000000000004,
            "count": 0
           },
           {
            "bin_end": 0.5,
            "bin_start": 0.4,
            "count": 0
           },
           {
            "bin_end": 0.6000000000000001,
            "bin_start": 0.5,
            "count": 0
           },
           {
            "bin_end": 0.7000000000000001,
            "bin_start": 0.6000000000000001,
            "count": 0
           },
           {
            "bin_end": 0.8,
            "bin_start": 0.7000000000000001,
            "count": 0
           },
           {
            "bin_end": 0.9,
            "bin_start": 0.8,
            "count": 0
           },
           {
            "bin_end": 1,
            "bin_start": 0.9,
            "count": 34
           }
          ],
          "max": "1.0",
          "min": "0.0",
          "nan_count": 0,
          "unique_count": 2
         }
        },
        {
         "dtype": "float64",
         "name": "bus_AGP 4x",
         "stats": {
          "histogram": [
           {
            "bin_end": 0.1,
            "bin_start": 0,
            "count": 2347
           },
           {
            "bin_end": 0.2,
            "bin_start": 0.1,
            "count": 0
           },
           {
            "bin_end": 0.30000000000000004,
            "bin_start": 0.2,
            "count": 0
           },
           {
            "bin_end": 0.4,
            "bin_start": 0.30000000000000004,
            "count": 0
           },
           {
            "bin_end": 0.5,
            "bin_start": 0.4,
            "count": 0
           },
           {
            "bin_end": 0.6000000000000001,
            "bin_start": 0.5,
            "count": 0
           },
           {
            "bin_end": 0.7000000000000001,
            "bin_start": 0.6000000000000001,
            "count": 0
           },
           {
            "bin_end": 0.8,
            "bin_start": 0.7000000000000001,
            "count": 0
           },
           {
            "bin_end": 0.9,
            "bin_start": 0.8,
            "count": 0
           },
           {
            "bin_end": 1,
            "bin_start": 0.9,
            "count": 130
           }
          ],
          "max": "1.0",
          "min": "0.0",
          "nan_count": 0,
          "unique_count": 2
         }
        },
        {
         "dtype": "float64",
         "name": "bus_AGP 8x",
         "stats": {
          "histogram": [
           {
            "bin_end": 0.1,
            "bin_start": 0,
            "count": 2271
           },
           {
            "bin_end": 0.2,
            "bin_start": 0.1,
            "count": 0
           },
           {
            "bin_end": 0.30000000000000004,
            "bin_start": 0.2,
            "count": 0
           },
           {
            "bin_end": 0.4,
            "bin_start": 0.30000000000000004,
            "count": 0
           },
           {
            "bin_end": 0.5,
            "bin_start": 0.4,
            "count": 0
           },
           {
            "bin_end": 0.6000000000000001,
            "bin_start": 0.5,
            "count": 0
           },
           {
            "bin_end": 0.7000000000000001,
            "bin_start": 0.6000000000000001,
            "count": 0
           },
           {
            "bin_end": 0.8,
            "bin_start": 0.7000000000000001,
            "count": 0
           },
           {
            "bin_end": 0.9,
            "bin_start": 0.8,
            "count": 0
           },
           {
            "bin_end": 1,
            "bin_start": 0.9,
            "count": 206
           }
          ],
          "max": "1.0",
          "min": "0.0",
          "nan_count": 0,
          "unique_count": 2
         }
        },
        {
         "dtype": "float64",
         "name": "bus_AGP Pro 8x",
         "stats": {
          "histogram": [
           {
            "bin_end": 0.1,
            "bin_start": 0,
            "count": 2469
           },
           {
            "bin_end": 0.2,
            "bin_start": 0.1,
            "count": 0
           },
           {
            "bin_end": 0.30000000000000004,
            "bin_start": 0.2,
            "count": 0
           },
           {
            "bin_end": 0.4,
            "bin_start": 0.30000000000000004,
            "count": 0
           },
           {
            "bin_end": 0.5,
            "bin_start": 0.4,
            "count": 0
           },
           {
            "bin_end": 0.6000000000000001,
            "bin_start": 0.5,
            "count": 0
           },
           {
            "bin_end": 0.7000000000000001,
            "bin_start": 0.6000000000000001,
            "count": 0
           },
           {
            "bin_end": 0.8,
            "bin_start": 0.7000000000000001,
            "count": 0
           },
           {
            "bin_end": 0.9,
            "bin_start": 0.8,
            "count": 0
           },
           {
            "bin_end": 1,
            "bin_start": 0.9,
            "count": 8
           }
          ],
          "max": "1.0",
          "min": "0.0",
          "nan_count": 0,
          "unique_count": 2
         }
        },
        {
         "dtype": "float64",
         "name": "bus_IGP",
         "stats": {
          "histogram": [
           {
            "bin_end": 0.1,
            "bin_start": 0,
            "count": 2437
           },
           {
            "bin_end": 0.2,
            "bin_start": 0.1,
            "count": 0
           },
           {
            "bin_end": 0.30000000000000004,
            "bin_start": 0.2,
            "count": 0
           },
           {
            "bin_end": 0.4,
            "bin_start": 0.30000000000000004,
            "count": 0
           },
           {
            "bin_end": 0.5,
            "bin_start": 0.4,
            "count": 0
           },
           {
            "bin_end": 0.6000000000000001,
            "bin_start": 0.5,
            "count": 0
           },
           {
            "bin_end": 0.7000000000000001,
            "bin_start": 0.6000000000000001,
            "count": 0
           },
           {
            "bin_end": 0.8,
            "bin_start": 0.7000000000000001,
            "count": 0
           },
           {
            "bin_end": 0.9,
            "bin_start": 0.8,
            "count": 0
           },
           {
            "bin_end": 1,
            "bin_start": 0.9,
            "count": 40
           }
          ],
          "max": "1.0",
          "min": "0.0",
          "nan_count": 0,
          "unique_count": 2
         }
        },
        {
         "dtype": "float64",
         "name": "bus_MXM",
         "stats": {
          "histogram": [
           {
            "bin_end": 0.1,
            "bin_start": 0,
            "count": 2473
           },
           {
            "bin_end": 0.2,
            "bin_start": 0.1,
            "count": 0
           },
           {
            "bin_end": 0.30000000000000004,
            "bin_start": 0.2,
            "count": 0
           },
           {
            "bin_end": 0.4,
            "bin_start": 0.30000000000000004,
            "count": 0
           },
           {
            "bin_end": 0.5,
            "bin_start": 0.4,
            "count": 0
           },
           {
            "bin_end": 0.6000000000000001,
            "bin_start": 0.5,
            "count": 0
           },
           {
            "bin_end": 0.7000000000000001,
            "bin_start": 0.6000000000000001,
            "count": 0
           },
           {
            "bin_end": 0.8,
            "bin_start": 0.7000000000000001,
            "count": 0
           },
           {
            "bin_end": 0.9,
            "bin_start": 0.8,
            "count": 0
           },
           {
            "bin_end": 1,
            "bin_start": 0.9,
            "count": 4
           }
          ],
          "max": "1.0",
          "min": "0.0",
          "nan_count": 0,
          "unique_count": 2
         }
        },
        {
         "dtype": "float64",
         "name": "bus_MXM-A (3.0)",
         "stats": {
          "histogram": [
           {
            "bin_end": 0.1,
            "bin_start": 0,
            "count": 2409
           },
           {
            "bin_end": 0.2,
            "bin_start": 0.1,
            "count": 0
           },
           {
            "bin_end": 0.30000000000000004,
            "bin_start": 0.2,
            "count": 0
           },
           {
            "bin_end": 0.4,
            "bin_start": 0.30000000000000004,
            "count": 0
           },
           {
            "bin_end": 0.5,
            "bin_start": 0.4,
            "count": 0
           },
           {
            "bin_end": 0.6000000000000001,
            "bin_start": 0.5,
            "count": 0
           },
           {
            "bin_end": 0.7000000000000001,
            "bin_start": 0.6000000000000001,
            "count": 0
           },
           {
            "bin_end": 0.8,
            "bin_start": 0.7000000000000001,
            "count": 0
           },
           {
            "bin_end": 0.9,
            "bin_start": 0.8,
            "count": 0
           },
           {
            "bin_end": 1,
            "bin_start": 0.9,
            "count": 68
           }
          ],
          "max": "1.0",
          "min": "0.0",
          "nan_count": 0,
          "unique_count": 2
         }
        },
        {
         "dtype": "float64",
         "name": "bus_MXM-B (3.0)",
         "stats": {
          "histogram": [
           {
            "bin_end": 0.1,
            "bin_start": 0,
            "count": 2380
           },
           {
            "bin_end": 0.2,
            "bin_start": 0.1,
            "count": 0
           },
           {
            "bin_end": 0.30000000000000004,
            "bin_start": 0.2,
            "count": 0
           },
           {
            "bin_end": 0.4,
            "bin_start": 0.30000000000000004,
            "count": 0
           },
           {
            "bin_end": 0.5,
            "bin_start": 0.4,
            "count": 0
           },
           {
            "bin_end": 0.6000000000000001,
            "bin_start": 0.5,
            "count": 0
           },
           {
            "bin_end": 0.7000000000000001,
            "bin_start": 0.6000000000000001,
            "count": 0
           },
           {
            "bin_end": 0.8,
            "bin_start": 0.7000000000000001,
            "count": 0
           },
           {
            "bin_end": 0.9,
            "bin_start": 0.8,
            "count": 0
           },
           {
            "bin_end": 1,
            "bin_start": 0.9,
            "count": 97
           }
          ],
          "max": "1.0",
          "min": "0.0",
          "nan_count": 0,
          "unique_count": 2
         }
        },
        {
         "dtype": "float64",
         "name": "bus_MXM-HE",
         "stats": {
          "histogram": [
           {
            "bin_end": 0.1,
            "bin_start": 0,
            "count": 2467
           },
           {
            "bin_end": 0.2,
            "bin_start": 0.1,
            "count": 0
           },
           {
            "bin_end": 0.30000000000000004,
            "bin_start": 0.2,
            "count": 0
           },
           {
            "bin_end": 0.4,
            "bin_start": 0.30000000000000004,
            "count": 0
           },
           {
            "bin_end": 0.5,
            "bin_start": 0.4,
            "count": 0
           },
           {
            "bin_end": 0.6000000000000001,
            "bin_start": 0.5,
            "count": 0
           },
           {
            "bin_end": 0.7000000000000001,
            "bin_start": 0.6000000000000001,
            "count": 0
           },
           {
            "bin_end": 0.8,
            "bin_start": 0.7000000000000001,
            "count": 0
           },
           {
            "bin_end": 0.9,
            "bin_start": 0.8,
            "count": 0
           },
           {
            "bin_end": 1,
            "bin_start": 0.9,
            "count": 10
           }
          ],
          "max": "1.0",
          "min": "0.0",
          "nan_count": 0,
          "unique_count": 2
         }
        },
        {
         "dtype": "float64",
         "name": "bus_MXM-I",
         "stats": {
          "histogram": [
           {
            "bin_end": 0.1,
            "bin_start": 0,
            "count": 2473
           },
           {
            "bin_end": 0.2,
            "bin_start": 0.1,
            "count": 0
           },
           {
            "bin_end": 0.30000000000000004,
            "bin_start": 0.2,
            "count": 0
           },
           {
            "bin_end": 0.4,
            "bin_start": 0.30000000000000004,
            "count": 0
           },
           {
            "bin_end": 0.5,
            "bin_start": 0.4,
            "count": 0
           },
           {
            "bin_end": 0.6000000000000001,
            "bin_start": 0.5,
            "count": 0
           },
           {
            "bin_end": 0.7000000000000001,
            "bin_start": 0.6000000000000001,
            "count": 0
           },
           {
            "bin_end": 0.8,
            "bin_start": 0.7000000000000001,
            "count": 0
           },
           {
            "bin_end": 0.9,
            "bin_start": 0.8,
            "count": 0
           },
           {
            "bin_end": 1,
            "bin_start": 0.9,
            "count": 4
           }
          ],
          "max": "1.0",
          "min": "0.0",
          "nan_count": 0,
          "unique_count": 2
         }
        },
        {
         "dtype": "float64",
         "name": "bus_MXM-II",
         "stats": {
          "histogram": [
           {
            "bin_end": 0.1,
            "bin_start": 0,
            "count": 2438
           },
           {
            "bin_end": 0.2,
            "bin_start": 0.1,
            "count": 0
           },
           {
            "bin_end": 0.30000000000000004,
            "bin_start": 0.2,
            "count": 0
           },
           {
            "bin_end": 0.4,
            "bin_start": 0.30000000000000004,
            "count": 0
           },
           {
            "bin_end": 0.5,
            "bin_start": 0.4,
            "count": 0
           },
           {
            "bin_end": 0.6000000000000001,
            "bin_start": 0.5,
            "count": 0
           },
           {
            "bin_end": 0.7000000000000001,
            "bin_start": 0.6000000000000001,
            "count": 0
           },
           {
            "bin_end": 0.8,
            "bin_start": 0.7000000000000001,
            "count": 0
           },
           {
            "bin_end": 0.9,
            "bin_start": 0.8,
            "count": 0
           },
           {
            "bin_end": 1,
            "bin_start": 0.9,
            "count": 39
           }
          ],
          "max": "1.0",
          "min": "0.0",
          "nan_count": 0,
          "unique_count": 2
         }
        },
        {
         "dtype": "float64",
         "name": "bus_MXM-III",
         "stats": {
          "histogram": [
           {
            "bin_end": 0.1,
            "bin_start": 0,
            "count": 2470
           },
           {
            "bin_end": 0.2,
            "bin_start": 0.1,
            "count": 0
           },
           {
            "bin_end": 0.30000000000000004,
            "bin_start": 0.2,
            "count": 0
           },
           {
            "bin_end": 0.4,
            "bin_start": 0.30000000000000004,
            "count": 0
           },
           {
            "bin_end": 0.5,
            "bin_start": 0.4,
            "count": 0
           },
           {
            "bin_end": 0.6000000000000001,
            "bin_start": 0.5,
            "count": 0
           },
           {
            "bin_end": 0.7000000000000001,
            "bin_start": 0.6000000000000001,
            "count": 0
           },
           {
            "bin_end": 0.8,
            "bin_start": 0.7000000000000001,
            "count": 0
           },
           {
            "bin_end": 0.9,
            "bin_start": 0.8,
            "count": 0
           },
           {
            "bin_end": 1,
            "bin_start": 0.9,
            "count": 7
           }
          ],
          "max": "1.0",
          "min": "0.0",
          "nan_count": 0,
          "unique_count": 2
         }
        },
        {
         "dtype": "float64",
         "name": "bus_MXM-IV",
         "stats": {
          "histogram": [
           {
            "bin_end": 0.1,
            "bin_start": 0,
            "count": 2476
           },
           {
            "bin_end": 0.2,
            "bin_start": 0.1,
            "count": 0
           },
           {
            "bin_end": 0.30000000000000004,
            "bin_start": 0.2,
            "count": 0
           },
           {
            "bin_end": 0.4,
            "bin_start": 0.30000000000000004,
            "count": 0
           },
           {
            "bin_end": 0.5,
            "bin_start": 0.4,
            "count": 0
           },
           {
            "bin_end": 0.6000000000000001,
            "bin_start": 0.5,
            "count": 0
           },
           {
            "bin_end": 0.7000000000000001,
            "bin_start": 0.6000000000000001,
            "count": 0
           },
           {
            "bin_end": 0.8,
            "bin_start": 0.7000000000000001,
            "count": 0
           },
           {
            "bin_end": 0.9,
            "bin_start": 0.8,
            "count": 0
           },
           {
            "bin_end": 1,
            "bin_start": 0.9,
            "count": 1
           }
          ],
          "max": "1.0",
          "min": "0.0",
          "nan_count": 0,
          "unique_count": 2
         }
        },
        {
         "dtype": "float64",
         "name": "bus_PCI",
         "stats": {
          "histogram": [
           {
            "bin_end": 0.1,
            "bin_start": 0,
            "count": 2370
           },
           {
            "bin_end": 0.2,
            "bin_start": 0.1,
            "count": 0
           },
           {
            "bin_end": 0.30000000000000004,
            "bin_start": 0.2,
            "count": 0
           },
           {
            "bin_end": 0.4,
            "bin_start": 0.30000000000000004,
            "count": 0
           },
           {
            "bin_end": 0.5,
            "bin_start": 0.4,
            "count": 0
           },
           {
            "bin_end": 0.6000000000000001,
            "bin_start": 0.5,
            "count": 0
           },
           {
            "bin_end": 0.7000000000000001,
            "bin_start": 0.6000000000000001,
            "count": 0
           },
           {
            "bin_end": 0.8,
            "bin_start": 0.7000000000000001,
            "count": 0
           },
           {
            "bin_end": 0.9,
            "bin_start": 0.8,
            "count": 0
           },
           {
            "bin_end": 1,
            "bin_start": 0.9,
            "count": 107
           }
          ],
          "max": "1.0",
          "min": "0.0",
          "nan_count": 0,
          "unique_count": 2
         }
        },
        {
         "dtype": "float64",
         "name": "bus_PCI-X",
         "stats": {
          "histogram": [
           {
            "bin_end": 0.1,
            "bin_start": 0,
            "count": 2469
           },
           {
            "bin_end": 0.2,
            "bin_start": 0.1,
            "count": 0
           },
           {
            "bin_end": 0.30000000000000004,
            "bin_start": 0.2,
            "count": 0
           },
           {
            "bin_end": 0.4,
            "bin_start": 0.30000000000000004,
            "count": 0
           },
           {
            "bin_end": 0.5,
            "bin_start": 0.4,
            "count": 0
           },
           {
            "bin_end": 0.6000000000000001,
            "bin_start": 0.5,
            "count": 0
           },
           {
            "bin_end": 0.7000000000000001,
            "bin_start": 0.6000000000000001,
            "count": 0
           },
           {
            "bin_end": 0.8,
            "bin_start": 0.7000000000000001,
            "count": 0
           },
           {
            "bin_end": 0.9,
            "bin_start": 0.8,
            "count": 0
           },
           {
            "bin_end": 1,
            "bin_start": 0.9,
            "count": 8
           }
          ],
          "max": "1.0",
          "min": "0.0",
          "nan_count": 0,
          "unique_count": 2
         }
        },
        {
         "dtype": "float64",
         "name": "bus_PCIe 1.0 x1",
         "stats": {
          "histogram": [
           {
            "bin_end": 0.1,
            "bin_start": 0,
            "count": 2475
           },
           {
            "bin_end": 0.2,
            "bin_start": 0.1,
            "count": 0
           },
           {
            "bin_end": 0.30000000000000004,
            "bin_start": 0.2,
            "count": 0
           },
           {
            "bin_end": 0.4,
            "bin_start": 0.30000000000000004,
            "count": 0
           },
           {
            "bin_end": 0.5,
            "bin_start": 0.4,
            "count": 0
           },
           {
            "bin_end": 0.6000000000000001,
            "bin_start": 0.5,
            "count": 0
           },
           {
            "bin_end": 0.7000000000000001,
            "bin_start": 0.6000000000000001,
            "count": 0
           },
           {
            "bin_end": 0.8,
            "bin_start": 0.7000000000000001,
            "count": 0
           },
           {
            "bin_end": 0.9,
            "bin_start": 0.8,
            "count": 0
           },
           {
            "bin_end": 1,
            "bin_start": 0.9,
            "count": 2
           }
          ],
          "max": "1.0",
          "min": "0.0",
          "nan_count": 0,
          "unique_count": 2
         }
        },
        {
         "dtype": "float64",
         "name": "bus_PCIe 1.0 x16",
         "stats": {
          "histogram": [
           {
            "bin_end": 0.1,
            "bin_start": 0,
            "count": 2183
           },
           {
            "bin_end": 0.2,
            "bin_start": 0.1,
            "count": 0
           },
           {
            "bin_end": 0.30000000000000004,
            "bin_start": 0.2,
            "count": 0
           },
           {
            "bin_end": 0.4,
            "bin_start": 0.30000000000000004,
            "count": 0
           },
           {
            "bin_end": 0.5,
            "bin_start": 0.4,
            "count": 0
           },
           {
            "bin_end": 0.6000000000000001,
            "bin_start": 0.5,
            "count": 0
           },
           {
            "bin_end": 0.7000000000000001,
            "bin_start": 0.6000000000000001,
            "count": 0
           },
           {
            "bin_end": 0.8,
            "bin_start": 0.7000000000000001,
            "count": 0
           },
           {
            "bin_end": 0.9,
            "bin_start": 0.8,
            "count": 0
           },
           {
            "bin_end": 1,
            "bin_start": 0.9,
            "count": 294
           }
          ],
          "max": "1.0",
          "min": "0.0",
          "nan_count": 0,
          "unique_count": 2
         }
        },
        {
         "dtype": "float64",
         "name": "bus_PCIe 2.0 x1",
         "stats": {
          "histogram": [
           {
            "bin_end": 0.1,
            "bin_start": 0,
            "count": 2468
           },
           {
            "bin_end": 0.2,
            "bin_start": 0.1,
            "count": 0
           },
           {
            "bin_end": 0.30000000000000004,
            "bin_start": 0.2,
            "count": 0
           },
           {
            "bin_end": 0.4,
            "bin_start": 0.30000000000000004,
            "count": 0
           },
           {
            "bin_end": 0.5,
            "bin_start": 0.4,
            "count": 0
           },
           {
            "bin_end": 0.6000000000000001,
            "bin_start": 0.5,
            "count": 0
           },
           {
            "bin_end": 0.7000000000000001,
            "bin_start": 0.6000000000000001,
            "count": 0
           },
           {
            "bin_end": 0.8,
            "bin_start": 0.7000000000000001,
            "count": 0
           },
           {
            "bin_end": 0.9,
            "bin_start": 0.8,
            "count": 0
           },
           {
            "bin_end": 1,
            "bin_start": 0.9,
            "count": 9
           }
          ],
          "max": "1.0",
          "min": "0.0",
          "nan_count": 0,
          "unique_count": 2
         }
        },
        {
         "dtype": "float64",
         "name": "bus_PCIe 2.0 x16",
         "stats": {
          "histogram": [
           {
            "bin_end": 0.1,
            "bin_start": 0,
            "count": 1928
           },
           {
            "bin_end": 0.2,
            "bin_start": 0.1,
            "count": 0
           },
           {
            "bin_end": 0.30000000000000004,
            "bin_start": 0.2,
            "count": 0
           },
           {
            "bin_end": 0.4,
            "bin_start": 0.30000000000000004,
            "count": 0
           },
           {
            "bin_end": 0.5,
            "bin_start": 0.4,
            "count": 0
           },
           {
            "bin_end": 0.6000000000000001,
            "bin_start": 0.5,
            "count": 0
           },
           {
            "bin_end": 0.7000000000000001,
            "bin_start": 0.6000000000000001,
            "count": 0
           },
           {
            "bin_end": 0.8,
            "bin_start": 0.7000000000000001,
            "count": 0
           },
           {
            "bin_end": 0.9,
            "bin_start": 0.8,
            "count": 0
           },
           {
            "bin_end": 1,
            "bin_start": 0.9,
            "count": 549
           }
          ],
          "max": "1.0",
          "min": "0.0",
          "nan_count": 0,
          "unique_count": 2
         }
        },
        {
         "dtype": "float64",
         "name": "bus_PCIe 2.0 x8",
         "stats": {
          "histogram": [
           {
            "bin_end": 0.1,
            "bin_start": 0,
            "count": 2466
           },
           {
            "bin_end": 0.2,
            "bin_start": 0.1,
            "count": 0
           },
           {
            "bin_end": 0.30000000000000004,
            "bin_start": 0.2,
            "count": 0
           },
           {
            "bin_end": 0.4,
            "bin_start": 0.30000000000000004,
            "count": 0
           },
           {
            "bin_end": 0.5,
            "bin_start": 0.4,
            "count": 0
           },
           {
            "bin_end": 0.6000000000000001,
            "bin_start": 0.5,
            "count": 0
           },
           {
            "bin_end": 0.7000000000000001,
            "bin_start": 0.6000000000000001,
            "count": 0
           },
           {
            "bin_end": 0.8,
            "bin_start": 0.7000000000000001,
            "count": 0
           },
           {
            "bin_end": 0.9,
            "bin_start": 0.8,
            "count": 0
           },
           {
            "bin_end": 1,
            "bin_start": 0.9,
            "count": 11
           }
          ],
          "max": "1.0",
          "min": "0.0",
          "nan_count": 0,
          "unique_count": 2
         }
        },
        {
         "dtype": "float64",
         "name": "bus_PCIe 3.0 x16",
         "stats": {
          "histogram": [
           {
            "bin_end": 0.1,
            "bin_start": 0,
            "count": 1979
           },
           {
            "bin_end": 0.2,
            "bin_start": 0.1,
            "count": 0
           },
           {
            "bin_end": 0.30000000000000004,
            "bin_start": 0.2,
            "count": 0
           },
           {
            "bin_end": 0.4,
            "bin_start": 0.30000000000000004,
            "count": 0
           },
           {
            "bin_end": 0.5,
            "bin_start": 0.4,
            "count": 0
           },
           {
            "bin_end": 0.6000000000000001,
            "bin_start": 0.5,
            "count": 0
           },
           {
            "bin_end": 0.7000000000000001,
            "bin_start": 0.6000000000000001,
            "count": 0
           },
           {
            "bin_end": 0.8,
            "bin_start": 0.7000000000000001,
            "count": 0
           },
           {
            "bin_end": 0.9,
            "bin_start": 0.8,
            "count": 0
           },
           {
            "bin_end": 1,
            "bin_start": 0.9,
            "count": 498
           }
          ],
          "max": "1.0",
          "min": "0.0",
          "nan_count": 0,
          "unique_count": 2
         }
        },
        {
         "dtype": "float64",
         "name": "bus_PCIe 3.0 x4",
         "stats": {
          "histogram": [
           {
            "bin_end": 0.1,
            "bin_start": 0,
            "count": 2459
           },
           {
            "bin_end": 0.2,
            "bin_start": 0.1,
            "count": 0
           },
           {
            "bin_end": 0.30000000000000004,
            "bin_start": 0.2,
            "count": 0
           },
           {
            "bin_end": 0.4,
            "bin_start": 0.30000000000000004,
            "count": 0
           },
           {
            "bin_end": 0.5,
            "bin_start": 0.4,
            "count": 0
           },
           {
            "bin_end": 0.6000000000000001,
            "bin_start": 0.5,
            "count": 0
           },
           {
            "bin_end": 0.7000000000000001,
            "bin_start": 0.6000000000000001,
            "count": 0
           },
           {
            "bin_end": 0.8,
            "bin_start": 0.7000000000000001,
            "count": 0
           },
           {
            "bin_end": 0.9,
            "bin_start": 0.8,
            "count": 0
           },
           {
            "bin_end": 1,
            "bin_start": 0.9,
            "count": 18
           }
          ],
          "max": "1.0",
          "min": "0.0",
          "nan_count": 0,
          "unique_count": 2
         }
        },
        {
         "dtype": "float64",
         "name": "bus_PCIe 3.0 x8",
         "stats": {
          "histogram": [
           {
            "bin_end": 0.1,
            "bin_start": 0,
            "count": 2305
           },
           {
            "bin_end": 0.2,
            "bin_start": 0.1,
            "count": 0
           },
           {
            "bin_end": 0.30000000000000004,
            "bin_start": 0.2,
            "count": 0
           },
           {
            "bin_end": 0.4,
            "bin_start": 0.30000000000000004,
            "count": 0
           },
           {
            "bin_end": 0.5,
            "bin_start": 0.4,
            "count": 0
           },
           {
            "bin_end": 0.6000000000000001,
            "bin_start": 0.5,
            "count": 0
           },
           {
            "bin_end": 0.7000000000000001,
            "bin_start": 0.6000000000000001,
            "count": 0
           },
           {
            "bin_end": 0.8,
            "bin_start": 0.7000000000000001,
            "count": 0
           },
           {
            "bin_end": 0.9,
            "bin_start": 0.8,
            "count": 0
           },
           {
            "bin_end": 1,
            "bin_start": 0.9,
            "count": 172
           }
          ],
          "max": "1.0",
          "min": "0.0",
          "nan_count": 0,
          "unique_count": 2
         }
        },
        {
         "dtype": "float64",
         "name": "bus_PCIe 4.0 x16",
         "stats": {
          "histogram": [
           {
            "bin_end": 0.1,
            "bin_start": 0,
            "count": 2369
           },
           {
            "bin_end": 0.2,
            "bin_start": 0.1,
            "count": 0
           },
           {
            "bin_end": 0.30000000000000004,
            "bin_start": 0.2,
            "count": 0
           },
           {
            "bin_end": 0.4,
            "bin_start": 0.30000000000000004,
            "count": 0
           },
           {
            "bin_end": 0.5,
            "bin_start": 0.4,
            "count": 0
           },
           {
            "bin_end": 0.6000000000000001,
            "bin_start": 0.5,
            "count": 0
           },
           {
            "bin_end": 0.7000000000000001,
            "bin_start": 0.6000000000000001,
            "count": 0
           },
           {
            "bin_end": 0.8,
            "bin_start": 0.7000000000000001,
            "count": 0
           },
           {
            "bin_end": 0.9,
            "bin_start": 0.8,
            "count": 0
           },
           {
            "bin_end": 1,
            "bin_start": 0.9,
            "count": 108
           }
          ],
          "max": "1.0",
          "min": "0.0",
          "nan_count": 0,
          "unique_count": 2
         }
        },
        {
         "dtype": "float64",
         "name": "bus_PCIe 4.0 x4",
         "stats": {
          "histogram": [
           {
            "bin_end": 0.1,
            "bin_start": 0,
            "count": 2468
           },
           {
            "bin_end": 0.2,
            "bin_start": 0.1,
            "count": 0
           },
           {
            "bin_end": 0.30000000000000004,
            "bin_start": 0.2,
            "count": 0
           },
           {
            "bin_end": 0.4,
            "bin_start": 0.30000000000000004,
            "count": 0
           },
           {
            "bin_end": 0.5,
            "bin_start": 0.4,
            "count": 0
           },
           {
            "bin_end": 0.6000000000000001,
            "bin_start": 0.5,
            "count": 0
           },
           {
            "bin_end": 0.7000000000000001,
            "bin_start": 0.6000000000000001,
            "count": 0
           },
           {
            "bin_end": 0.8,
            "bin_start": 0.7000000000000001,
            "count": 0
           },
           {
            "bin_end": 0.9,
            "bin_start": 0.8,
            "count": 0
           },
           {
            "bin_end": 1,
            "bin_start": 0.9,
            "count": 9
           }
          ],
          "max": "1.0",
          "min": "0.0",
          "nan_count": 0,
          "unique_count": 2
         }
        },
        {
         "dtype": "float64",
         "name": "bus_PCIe 4.0 x8",
         "stats": {
          "histogram": [
           {
            "bin_end": 0.1,
            "bin_start": 0,
            "count": 2438
           },
           {
            "bin_end": 0.2,
            "bin_start": 0.1,
            "count": 0
           },
           {
            "bin_end": 0.30000000000000004,
            "bin_start": 0.2,
            "count": 0
           },
           {
            "bin_end": 0.4,
            "bin_start": 0.30000000000000004,
            "count": 0
           },
           {
            "bin_end": 0.5,
            "bin_start": 0.4,
            "count": 0
           },
           {
            "bin_end": 0.6000000000000001,
            "bin_start": 0.5,
            "count": 0
           },
           {
            "bin_end": 0.7000000000000001,
            "bin_start": 0.6000000000000001,
            "count": 0
           },
           {
            "bin_end": 0.8,
            "bin_start": 0.7000000000000001,
            "count": 0
           },
           {
            "bin_end": 0.9,
            "bin_start": 0.8,
            "count": 0
           },
           {
            "bin_end": 1,
            "bin_start": 0.9,
            "count": 39
           }
          ],
          "max": "1.0",
          "min": "0.0",
          "nan_count": 0,
          "unique_count": 2
         }
        },
        {
         "dtype": "float64",
         "name": "bus_PCIe 5.0 x16"
        },
        {
         "dtype": "int64",
         "name": "_deepnote_index_column"
        }
       ],
       "row_count": 2477,
       "rows": [
        {
         "_deepnote_index_column": "0",
         "bus": "PCIe 4.0 x16",
         "bus_AGP 2x": "0.0",
         "bus_AGP 4x": "0.0",
         "bus_AGP 8x": "0.0",
         "bus_AGP Pro 8x": "0.0",
         "bus_IGP": "0.0",
         "bus_MXM": "0.0",
         "bus_MXM-A (3.0)": "0.0",
         "bus_MXM-B (3.0)": "0.0",
         "bus_MXM-HE": "0.0",
         "bus_MXM-I": "0.0",
         "bus_MXM-II": "0.0",
         "bus_MXM-III": "0.0",
         "bus_MXM-IV": "0.0",
         "bus_PCI": "0.0",
         "bus_PCI-X": "0.0",
         "bus_PCIe 1.0 x1": "0.0",
         "bus_PCIe 1.0 x16": "0.0",
         "bus_PCIe 2.0 x1": "0.0",
         "bus_PCIe 2.0 x16": "0.0",
         "bus_PCIe 2.0 x8": "0.0",
         "bus_PCIe 3.0 x16": "0.0",
         "bus_PCIe 3.0 x4": "0.0",
         "bus_PCIe 3.0 x8": "0.0",
         "bus_PCIe 4.0 x16": "1.0",
         "bus_PCIe 4.0 x4": "0.0",
         "bus_PCIe 4.0 x8": "0.0",
         "bus_PCIe 5.0 x16": "0.0",
         "manufacturer": "NVIDIA",
         "manufacturer_3dfx": "0.0",
         "manufacturer_AMD": "0.0",
         "manufacturer_ATI": "0.0",
         "manufacturer_Intel": "0.0",
         "manufacturer_Matrox": "0.0",
         "manufacturer_NVIDIA": "1.0",
         "manufacturer_Sony": "0.0",
         "manufacturer_XGI": "0.0",
         "memBusWidth": "128.0",
         "memClock": "2250.0",
         "memSize": "8.0",
         "memType": "GDDR6"
        },
        {
         "_deepnote_index_column": "1",
         "bus": "PCIe 4.0 x8",
         "bus_AGP 2x": "0.0",
         "bus_AGP 4x": "0.0",
         "bus_AGP 8x": "0.0",
         "bus_AGP Pro 8x": "0.0",
         "bus_IGP": "0.0",
         "bus_MXM": "0.0",
         "bus_MXM-A (3.0)": "0.0",
         "bus_MXM-B (3.0)": "0.0",
         "bus_MXM-HE": "0.0",
         "bus_MXM-I": "0.0",
         "bus_MXM-II": "0.0",
         "bus_MXM-III": "0.0",
         "bus_MXM-IV": "0.0",
         "bus_PCI": "0.0",
         "bus_PCI-X": "0.0",
         "bus_PCIe 1.0 x1": "0.0",
         "bus_PCIe 1.0 x16": "0.0",
         "bus_PCIe 2.0 x1": "0.0",
         "bus_PCIe 2.0 x16": "0.0",
         "bus_PCIe 2.0 x8": "0.0",
         "bus_PCIe 3.0 x16": "0.0",
         "bus_PCIe 3.0 x4": "0.0",
         "bus_PCIe 3.0 x8": "0.0",
         "bus_PCIe 4.0 x16": "0.0",
         "bus_PCIe 4.0 x4": "0.0",
         "bus_PCIe 4.0 x8": "1.0",
         "bus_PCIe 5.0 x16": "0.0",
         "manufacturer": "Intel",
         "manufacturer_3dfx": "0.0",
         "manufacturer_AMD": "0.0",
         "manufacturer_ATI": "0.0",
         "manufacturer_Intel": "1.0",
         "manufacturer_Matrox": "0.0",
         "manufacturer_NVIDIA": "0.0",
         "manufacturer_Sony": "0.0",
         "manufacturer_XGI": "0.0",
         "memBusWidth": "64.0",
         "memClock": "1500.0",
         "memSize": "4.0",
         "memType": "GDDR6"
        },
        {
         "_deepnote_index_column": "2",
         "bus": "PCIe 4.0 x8",
         "bus_AGP 2x": "0.0",
         "bus_AGP 4x": "0.0",
         "bus_AGP 8x": "0.0",
         "bus_AGP Pro 8x": "0.0",
         "bus_IGP": "0.0",
         "bus_MXM": "0.0",
         "bus_MXM-A (3.0)": "0.0",
         "bus_MXM-B (3.0)": "0.0",
         "bus_MXM-HE": "0.0",
         "bus_MXM-I": "0.0",
         "bus_MXM-II": "0.0",
         "bus_MXM-III": "0.0",
         "bus_MXM-IV": "0.0",
         "bus_PCI": "0.0",
         "bus_PCI-X": "0.0",
         "bus_PCIe 1.0 x1": "0.0",
         "bus_PCIe 1.0 x16": "0.0",
         "bus_PCIe 2.0 x1": "0.0",
         "bus_PCIe 2.0 x16": "0.0",
         "bus_PCIe 2.0 x8": "0.0",
         "bus_PCIe 3.0 x16": "0.0",
         "bus_PCIe 3.0 x4": "0.0",
         "bus_PCIe 3.0 x8": "0.0",
         "bus_PCIe 4.0 x16": "0.0",
         "bus_PCIe 4.0 x4": "0.0",
         "bus_PCIe 4.0 x8": "1.0",
         "bus_PCIe 5.0 x16": "0.0",
         "manufacturer": "Intel",
         "manufacturer_3dfx": "0.0",
         "manufacturer_AMD": "0.0",
         "manufacturer_ATI": "0.0",
         "manufacturer_Intel": "1.0",
         "manufacturer_Matrox": "0.0",
         "manufacturer_NVIDIA": "0.0",
         "manufacturer_Sony": "0.0",
         "manufacturer_XGI": "0.0",
         "memBusWidth": "64.0",
         "memClock": "1500.0",
         "memSize": "4.0",
         "memType": "GDDR6"
        },
        {
         "_deepnote_index_column": "3",
         "bus": "PCIe 4.0 x8",
         "bus_AGP 2x": "0.0",
         "bus_AGP 4x": "0.0",
         "bus_AGP 8x": "0.0",
         "bus_AGP Pro 8x": "0.0",
         "bus_IGP": "0.0",
         "bus_MXM": "0.0",
         "bus_MXM-A (3.0)": "0.0",
         "bus_MXM-B (3.0)": "0.0",
         "bus_MXM-HE": "0.0",
         "bus_MXM-I": "0.0",
         "bus_MXM-II": "0.0",
         "bus_MXM-III": "0.0",
         "bus_MXM-IV": "0.0",
         "bus_PCI": "0.0",
         "bus_PCI-X": "0.0",
         "bus_PCIe 1.0 x1": "0.0",
         "bus_PCIe 1.0 x16": "0.0",
         "bus_PCIe 2.0 x1": "0.0",
         "bus_PCIe 2.0 x16": "0.0",
         "bus_PCIe 2.0 x8": "0.0",
         "bus_PCIe 3.0 x16": "0.0",
         "bus_PCIe 3.0 x4": "0.0",
         "bus_PCIe 3.0 x8": "0.0",
         "bus_PCIe 4.0 x16": "0.0",
         "bus_PCIe 4.0 x4": "0.0",
         "bus_PCIe 4.0 x8": "1.0",
         "bus_PCIe 5.0 x16": "0.0",
         "manufacturer": "Intel",
         "manufacturer_3dfx": "0.0",
         "manufacturer_AMD": "0.0",
         "manufacturer_ATI": "0.0",
         "manufacturer_Intel": "1.0",
         "manufacturer_Matrox": "0.0",
         "manufacturer_NVIDIA": "0.0",
         "manufacturer_Sony": "0.0",
         "manufacturer_XGI": "0.0",
         "memBusWidth": "64.0",
         "memClock": "1500.0",
         "memSize": "4.0",
         "memType": "GDDR6"
        },
        {
         "_deepnote_index_column": "4",
         "bus": "PCIe 4.0 x16",
         "bus_AGP 2x": "0.0",
         "bus_AGP 4x": "0.0",
         "bus_AGP 8x": "0.0",
         "bus_AGP Pro 8x": "0.0",
         "bus_IGP": "0.0",
         "bus_MXM": "0.0",
         "bus_MXM-A (3.0)": "0.0",
         "bus_MXM-B (3.0)": "0.0",
         "bus_MXM-HE": "0.0",
         "bus_MXM-I": "0.0",
         "bus_MXM-II": "0.0",
         "bus_MXM-III": "0.0",
         "bus_MXM-IV": "0.0",
         "bus_PCI": "0.0",
         "bus_PCI-X": "0.0",
         "bus_PCIe 1.0 x1": "0.0",
         "bus_PCIe 1.0 x16": "0.0",
         "bus_PCIe 2.0 x1": "0.0",
         "bus_PCIe 2.0 x16": "0.0",
         "bus_PCIe 2.0 x8": "0.0",
         "bus_PCIe 3.0 x16": "0.0",
         "bus_PCIe 3.0 x4": "0.0",
         "bus_PCIe 3.0 x8": "0.0",
         "bus_PCIe 4.0 x16": "1.0",
         "bus_PCIe 4.0 x4": "0.0",
         "bus_PCIe 4.0 x8": "0.0",
         "bus_PCIe 5.0 x16": "0.0",
         "manufacturer": "Intel",
         "manufacturer_3dfx": "0.0",
         "manufacturer_AMD": "0.0",
         "manufacturer_ATI": "0.0",
         "manufacturer_Intel": "1.0",
         "manufacturer_Matrox": "0.0",
         "manufacturer_NVIDIA": "0.0",
         "manufacturer_Sony": "0.0",
         "manufacturer_XGI": "0.0",
         "memBusWidth": "128.0",
         "memClock": "1500.0",
         "memSize": "8.0",
         "memType": "GDDR6"
        },
        {
         "_deepnote_index_column": "5",
         "bus": "PCIe 4.0 x16",
         "bus_AGP 2x": "0.0",
         "bus_AGP 4x": "0.0",
         "bus_AGP 8x": "0.0",
         "bus_AGP Pro 8x": "0.0",
         "bus_IGP": "0.0",
         "bus_MXM": "0.0",
         "bus_MXM-A (3.0)": "0.0",
         "bus_MXM-B (3.0)": "0.0",
         "bus_MXM-HE": "0.0",
         "bus_MXM-I": "0.0",
         "bus_MXM-II": "0.0",
         "bus_MXM-III": "0.0",
         "bus_MXM-IV": "0.0",
         "bus_PCI": "0.0",
         "bus_PCI-X": "0.0",
         "bus_PCIe 1.0 x1": "0.0",
         "bus_PCIe 1.0 x16": "0.0",
         "bus_PCIe 2.0 x1": "0.0",
         "bus_PCIe 2.0 x16": "0.0",
         "bus_PCIe 2.0 x8": "0.0",
         "bus_PCIe 3.0 x16": "0.0",
         "bus_PCIe 3.0 x4": "0.0",
         "bus_PCIe 3.0 x8": "0.0",
         "bus_PCIe 4.0 x16": "1.0",
         "bus_PCIe 4.0 x4": "0.0",
         "bus_PCIe 4.0 x8": "0.0",
         "bus_PCIe 5.0 x16": "0.0",
         "manufacturer": "Intel",
         "manufacturer_3dfx": "0.0",
         "manufacturer_AMD": "0.0",
         "manufacturer_ATI": "0.0",
         "manufacturer_Intel": "1.0",
         "manufacturer_Matrox": "0.0",
         "manufacturer_NVIDIA": "0.0",
         "manufacturer_Sony": "0.0",
         "manufacturer_XGI": "0.0",
         "memBusWidth": "192.0",
         "memClock": "1500.0",
         "memSize": "12.0",
         "memType": "GDDR6"
        },
        {
         "_deepnote_index_column": "6",
         "bus": "PCIe 4.0 x16",
         "bus_AGP 2x": "0.0",
         "bus_AGP 4x": "0.0",
         "bus_AGP 8x": "0.0",
         "bus_AGP Pro 8x": "0.0",
         "bus_IGP": "0.0",
         "bus_MXM": "0.0",
         "bus_MXM-A (3.0)": "0.0",
         "bus_MXM-B (3.0)": "0.0",
         "bus_MXM-HE": "0.0",
         "bus_MXM-I": "0.0",
         "bus_MXM-II": "0.0",
         "bus_MXM-III": "0.0",
         "bus_MXM-IV": "0.0",
         "bus_PCI": "0.0",
         "bus_PCI-X": "0.0",
         "bus_PCIe 1.0 x1": "0.0",
         "bus_PCIe 1.0 x16": "0.0",
         "bus_PCIe 2.0 x1": "0.0",
         "bus_PCIe 2.0 x16": "0.0",
         "bus_PCIe 2.0 x8": "0.0",
         "bus_PCIe 3.0 x16": "0.0",
         "bus_PCIe 3.0 x4": "0.0",
         "bus_PCIe 3.0 x8": "0.0",
         "bus_PCIe 4.0 x16": "1.0",
         "bus_PCIe 4.0 x4": "0.0",
         "bus_PCIe 4.0 x8": "0.0",
         "bus_PCIe 5.0 x16": "0.0",
         "manufacturer": "Intel",
         "manufacturer_3dfx": "0.0",
         "manufacturer_AMD": "0.0",
         "manufacturer_ATI": "0.0",
         "manufacturer_Intel": "1.0",
         "manufacturer_Matrox": "0.0",
         "manufacturer_NVIDIA": "0.0",
         "manufacturer_Sony": "0.0",
         "manufacturer_XGI": "0.0",
         "memBusWidth": "256.0",
         "memClock": "1500.0",
         "memSize": "16.0",
         "memType": "GDDR6"
        },
        {
         "_deepnote_index_column": "7",
         "bus": "PCIe 4.0 x16",
         "bus_AGP 2x": "0.0",
         "bus_AGP 4x": "0.0",
         "bus_AGP 8x": "0.0",
         "bus_AGP Pro 8x": "0.0",
         "bus_IGP": "0.0",
         "bus_MXM": "0.0",
         "bus_MXM-A (3.0)": "0.0",
         "bus_MXM-B (3.0)": "0.0",
         "bus_MXM-HE": "0.0",
         "bus_MXM-I": "0.0",
         "bus_MXM-II": "0.0",
         "bus_MXM-III": "0.0",
         "bus_MXM-IV": "0.0",
         "bus_PCI": "0.0",
         "bus_PCI-X": "0.0",
         "bus_PCIe 1.0 x1": "0.0",
         "bus_PCIe 1.0 x16": "0.0",
         "bus_PCIe 2.0 x1": "0.0",
         "bus_PCIe 2.0 x16": "0.0",
         "bus_PCIe 2.0 x8": "0.0",
         "bus_PCIe 3.0 x16": "0.0",
         "bus_PCIe 3.0 x4": "0.0",
         "bus_PCIe 3.0 x8": "0.0",
         "bus_PCIe 4.0 x16": "1.0",
         "bus_PCIe 4.0 x4": "0.0",
         "bus_PCIe 4.0 x8": "0.0",
         "bus_PCIe 5.0 x16": "0.0",
         "manufacturer": "Intel",
         "manufacturer_3dfx": "0.0",
         "manufacturer_AMD": "0.0",
         "manufacturer_ATI": "0.0",
         "manufacturer_Intel": "1.0",
         "manufacturer_Matrox": "0.0",
         "manufacturer_NVIDIA": "0.0",
         "manufacturer_Sony": "0.0",
         "manufacturer_XGI": "0.0",
         "memBusWidth": "256.0",
         "memClock": "1500.0",
         "memSize": "16.0",
         "memType": "GDDR6"
        },
        {
         "_deepnote_index_column": "8",
         "bus": "PCIe 4.0 x16",
         "bus_AGP 2x": "0.0",
         "bus_AGP 4x": "0.0",
         "bus_AGP 8x": "0.0",
         "bus_AGP Pro 8x": "0.0",
         "bus_IGP": "0.0",
         "bus_MXM": "0.0",
         "bus_MXM-A (3.0)": "0.0",
         "bus_MXM-B (3.0)": "0.0",
         "bus_MXM-HE": "0.0",
         "bus_MXM-I": "0.0",
         "bus_MXM-II": "0.0",
         "bus_MXM-III": "0.0",
         "bus_MXM-IV": "0.0",
         "bus_PCI": "0.0",
         "bus_PCI-X": "0.0",
         "bus_PCIe 1.0 x1": "0.0",
         "bus_PCIe 1.0 x16": "0.0",
         "bus_PCIe 2.0 x1": "0.0",
         "bus_PCIe 2.0 x16": "0.0",
         "bus_PCIe 2.0 x8": "0.0",
         "bus_PCIe 3.0 x16": "0.0",
         "bus_PCIe 3.0 x4": "0.0",
         "bus_PCIe 3.0 x8": "0.0",
         "bus_PCIe 4.0 x16": "1.0",
         "bus_PCIe 4.0 x4": "0.0",
         "bus_PCIe 4.0 x8": "0.0",
         "bus_PCIe 5.0 x16": "0.0",
         "manufacturer": "Intel",
         "manufacturer_3dfx": "0.0",
         "manufacturer_AMD": "0.0",
         "manufacturer_ATI": "0.0",
         "manufacturer_Intel": "1.0",
         "manufacturer_Matrox": "0.0",
         "manufacturer_NVIDIA": "0.0",
         "manufacturer_Sony": "0.0",
         "manufacturer_XGI": "0.0",
         "memBusWidth": "256.0",
         "memClock": "1093.0",
         "memSize": "16.0",
         "memType": "GDDR6X"
        },
        {
         "_deepnote_index_column": "9",
         "bus": "PCIe 4.0 x16",
         "bus_AGP 2x": "0.0",
         "bus_AGP 4x": "0.0",
         "bus_AGP 8x": "0.0",
         "bus_AGP Pro 8x": "0.0",
         "bus_IGP": "0.0",
         "bus_MXM": "0.0",
         "bus_MXM-A (3.0)": "0.0",
         "bus_MXM-B (3.0)": "0.0",
         "bus_MXM-HE": "0.0",
         "bus_MXM-I": "0.0",
         "bus_MXM-II": "0.0",
         "bus_MXM-III": "0.0",
         "bus_MXM-IV": "0.0",
         "bus_PCI": "0.0",
         "bus_PCI-X": "0.0",
         "bus_PCIe 1.0 x1": "0.0",
         "bus_PCIe 1.0 x16": "0.0",
         "bus_PCIe 2.0 x1": "0.0",
         "bus_PCIe 2.0 x16": "0.0",
         "bus_PCIe 2.0 x8": "0.0",
         "bus_PCIe 3.0 x16": "0.0",
         "bus_PCIe 3.0 x4": "0.0",
         "bus_PCIe 3.0 x8": "0.0",
         "bus_PCIe 4.0 x16": "1.0",
         "bus_PCIe 4.0 x4": "0.0",
         "bus_PCIe 4.0 x8": "0.0",
         "bus_PCIe 5.0 x16": "0.0",
         "manufacturer": "Intel",
         "manufacturer_3dfx": "0.0",
         "manufacturer_AMD": "0.0",
         "manufacturer_ATI": "0.0",
         "manufacturer_Intel": "1.0",
         "manufacturer_Matrox": "0.0",
         "manufacturer_NVIDIA": "0.0",
         "manufacturer_Sony": "0.0",
         "manufacturer_XGI": "0.0",
         "memBusWidth": "4096.0",
         "memClock": "1200.0",
         "memSize": "16.0",
         "memType": "HBM2e"
        }
       ]
      },
      "text/html": [
       "<div>\n",
       "<style scoped>\n",
       "    .dataframe tbody tr th:only-of-type {\n",
       "        vertical-align: middle;\n",
       "    }\n",
       "\n",
       "    .dataframe tbody tr th {\n",
       "        vertical-align: top;\n",
       "    }\n",
       "\n",
       "    .dataframe thead th {\n",
       "        text-align: right;\n",
       "    }\n",
       "</style>\n",
       "<table border=\"1\" class=\"dataframe\">\n",
       "  <thead>\n",
       "    <tr style=\"text-align: right;\">\n",
       "      <th></th>\n",
       "      <th>memSize</th>\n",
       "      <th>memBusWidth</th>\n",
       "      <th>memClock</th>\n",
       "      <th>memType</th>\n",
       "      <th>manufacturer</th>\n",
       "      <th>bus</th>\n",
       "      <th>manufacturer_3dfx</th>\n",
       "      <th>manufacturer_AMD</th>\n",
       "      <th>manufacturer_ATI</th>\n",
       "      <th>manufacturer_Intel</th>\n",
       "      <th>...</th>\n",
       "      <th>bus_PCIe 2.0 x1</th>\n",
       "      <th>bus_PCIe 2.0 x16</th>\n",
       "      <th>bus_PCIe 2.0 x8</th>\n",
       "      <th>bus_PCIe 3.0 x16</th>\n",
       "      <th>bus_PCIe 3.0 x4</th>\n",
       "      <th>bus_PCIe 3.0 x8</th>\n",
       "      <th>bus_PCIe 4.0 x16</th>\n",
       "      <th>bus_PCIe 4.0 x4</th>\n",
       "      <th>bus_PCIe 4.0 x8</th>\n",
       "      <th>bus_PCIe 5.0 x16</th>\n",
       "    </tr>\n",
       "  </thead>\n",
       "  <tbody>\n",
       "    <tr>\n",
       "      <th>0</th>\n",
       "      <td>8.000</td>\n",
       "      <td>128.0</td>\n",
       "      <td>2250.0</td>\n",
       "      <td>GDDR6</td>\n",
       "      <td>NVIDIA</td>\n",
       "      <td>PCIe 4.0 x16</td>\n",
       "      <td>0.0</td>\n",
       "      <td>0.0</td>\n",
       "      <td>0.0</td>\n",
       "      <td>0.0</td>\n",
       "      <td>...</td>\n",
       "      <td>0.0</td>\n",
       "      <td>0.0</td>\n",
       "      <td>0.0</td>\n",
       "      <td>0.0</td>\n",
       "      <td>0.0</td>\n",
       "      <td>0.0</td>\n",
       "      <td>1.0</td>\n",
       "      <td>0.0</td>\n",
       "      <td>0.0</td>\n",
       "      <td>0.0</td>\n",
       "    </tr>\n",
       "    <tr>\n",
       "      <th>1</th>\n",
       "      <td>4.000</td>\n",
       "      <td>64.0</td>\n",
       "      <td>1500.0</td>\n",
       "      <td>GDDR6</td>\n",
       "      <td>Intel</td>\n",
       "      <td>PCIe 4.0 x8</td>\n",
       "      <td>0.0</td>\n",
       "      <td>0.0</td>\n",
       "      <td>0.0</td>\n",
       "      <td>1.0</td>\n",
       "      <td>...</td>\n",
       "      <td>0.0</td>\n",
       "      <td>0.0</td>\n",
       "      <td>0.0</td>\n",
       "      <td>0.0</td>\n",
       "      <td>0.0</td>\n",
       "      <td>0.0</td>\n",
       "      <td>0.0</td>\n",
       "      <td>0.0</td>\n",
       "      <td>1.0</td>\n",
       "      <td>0.0</td>\n",
       "    </tr>\n",
       "    <tr>\n",
       "      <th>2</th>\n",
       "      <td>4.000</td>\n",
       "      <td>64.0</td>\n",
       "      <td>1500.0</td>\n",
       "      <td>GDDR6</td>\n",
       "      <td>Intel</td>\n",
       "      <td>PCIe 4.0 x8</td>\n",
       "      <td>0.0</td>\n",
       "      <td>0.0</td>\n",
       "      <td>0.0</td>\n",
       "      <td>1.0</td>\n",
       "      <td>...</td>\n",
       "      <td>0.0</td>\n",
       "      <td>0.0</td>\n",
       "      <td>0.0</td>\n",
       "      <td>0.0</td>\n",
       "      <td>0.0</td>\n",
       "      <td>0.0</td>\n",
       "      <td>0.0</td>\n",
       "      <td>0.0</td>\n",
       "      <td>1.0</td>\n",
       "      <td>0.0</td>\n",
       "    </tr>\n",
       "    <tr>\n",
       "      <th>3</th>\n",
       "      <td>4.000</td>\n",
       "      <td>64.0</td>\n",
       "      <td>1500.0</td>\n",
       "      <td>GDDR6</td>\n",
       "      <td>Intel</td>\n",
       "      <td>PCIe 4.0 x8</td>\n",
       "      <td>0.0</td>\n",
       "      <td>0.0</td>\n",
       "      <td>0.0</td>\n",
       "      <td>1.0</td>\n",
       "      <td>...</td>\n",
       "      <td>0.0</td>\n",
       "      <td>0.0</td>\n",
       "      <td>0.0</td>\n",
       "      <td>0.0</td>\n",
       "      <td>0.0</td>\n",
       "      <td>0.0</td>\n",
       "      <td>0.0</td>\n",
       "      <td>0.0</td>\n",
       "      <td>1.0</td>\n",
       "      <td>0.0</td>\n",
       "    </tr>\n",
       "    <tr>\n",
       "      <th>4</th>\n",
       "      <td>8.000</td>\n",
       "      <td>128.0</td>\n",
       "      <td>1500.0</td>\n",
       "      <td>GDDR6</td>\n",
       "      <td>Intel</td>\n",
       "      <td>PCIe 4.0 x16</td>\n",
       "      <td>0.0</td>\n",
       "      <td>0.0</td>\n",
       "      <td>0.0</td>\n",
       "      <td>1.0</td>\n",
       "      <td>...</td>\n",
       "      <td>0.0</td>\n",
       "      <td>0.0</td>\n",
       "      <td>0.0</td>\n",
       "      <td>0.0</td>\n",
       "      <td>0.0</td>\n",
       "      <td>0.0</td>\n",
       "      <td>1.0</td>\n",
       "      <td>0.0</td>\n",
       "      <td>0.0</td>\n",
       "      <td>0.0</td>\n",
       "    </tr>\n",
       "    <tr>\n",
       "      <th>...</th>\n",
       "      <td>...</td>\n",
       "      <td>...</td>\n",
       "      <td>...</td>\n",
       "      <td>...</td>\n",
       "      <td>...</td>\n",
       "      <td>...</td>\n",
       "      <td>...</td>\n",
       "      <td>...</td>\n",
       "      <td>...</td>\n",
       "      <td>...</td>\n",
       "      <td>...</td>\n",
       "      <td>...</td>\n",
       "      <td>...</td>\n",
       "      <td>...</td>\n",
       "      <td>...</td>\n",
       "      <td>...</td>\n",
       "      <td>...</td>\n",
       "      <td>...</td>\n",
       "      <td>...</td>\n",
       "      <td>...</td>\n",
       "      <td>...</td>\n",
       "    </tr>\n",
       "    <tr>\n",
       "      <th>2884</th>\n",
       "      <td>0.016</td>\n",
       "      <td>128.0</td>\n",
       "      <td>166.0</td>\n",
       "      <td>SDR</td>\n",
       "      <td>3dfx</td>\n",
       "      <td>AGP 4x</td>\n",
       "      <td>1.0</td>\n",
       "      <td>0.0</td>\n",
       "      <td>0.0</td>\n",
       "      <td>0.0</td>\n",
       "      <td>...</td>\n",
       "      <td>0.0</td>\n",
       "      <td>0.0</td>\n",
       "      <td>0.0</td>\n",
       "      <td>0.0</td>\n",
       "      <td>0.0</td>\n",
       "      <td>0.0</td>\n",
       "      <td>0.0</td>\n",
       "      <td>0.0</td>\n",
       "      <td>0.0</td>\n",
       "      <td>0.0</td>\n",
       "    </tr>\n",
       "    <tr>\n",
       "      <th>2885</th>\n",
       "      <td>0.016</td>\n",
       "      <td>128.0</td>\n",
       "      <td>166.0</td>\n",
       "      <td>SDR</td>\n",
       "      <td>3dfx</td>\n",
       "      <td>PCI</td>\n",
       "      <td>1.0</td>\n",
       "      <td>0.0</td>\n",
       "      <td>0.0</td>\n",
       "      <td>0.0</td>\n",
       "      <td>...</td>\n",
       "      <td>0.0</td>\n",
       "      <td>0.0</td>\n",
       "      <td>0.0</td>\n",
       "      <td>0.0</td>\n",
       "      <td>0.0</td>\n",
       "      <td>0.0</td>\n",
       "      <td>0.0</td>\n",
       "      <td>0.0</td>\n",
       "      <td>0.0</td>\n",
       "      <td>0.0</td>\n",
       "    </tr>\n",
       "    <tr>\n",
       "      <th>2886</th>\n",
       "      <td>0.032</td>\n",
       "      <td>128.0</td>\n",
       "      <td>166.0</td>\n",
       "      <td>SDR</td>\n",
       "      <td>3dfx</td>\n",
       "      <td>AGP 4x</td>\n",
       "      <td>1.0</td>\n",
       "      <td>0.0</td>\n",
       "      <td>0.0</td>\n",
       "      <td>0.0</td>\n",
       "      <td>...</td>\n",
       "      <td>0.0</td>\n",
       "      <td>0.0</td>\n",
       "      <td>0.0</td>\n",
       "      <td>0.0</td>\n",
       "      <td>0.0</td>\n",
       "      <td>0.0</td>\n",
       "      <td>0.0</td>\n",
       "      <td>0.0</td>\n",
       "      <td>0.0</td>\n",
       "      <td>0.0</td>\n",
       "    </tr>\n",
       "    <tr>\n",
       "      <th>2887</th>\n",
       "      <td>4.000</td>\n",
       "      <td>128.0</td>\n",
       "      <td>2133.0</td>\n",
       "      <td>LPDDR4X</td>\n",
       "      <td>Intel</td>\n",
       "      <td>PCIe 4.0 x8</td>\n",
       "      <td>0.0</td>\n",
       "      <td>0.0</td>\n",
       "      <td>0.0</td>\n",
       "      <td>1.0</td>\n",
       "      <td>...</td>\n",
       "      <td>0.0</td>\n",
       "      <td>0.0</td>\n",
       "      <td>0.0</td>\n",
       "      <td>0.0</td>\n",
       "      <td>0.0</td>\n",
       "      <td>0.0</td>\n",
       "      <td>0.0</td>\n",
       "      <td>0.0</td>\n",
       "      <td>1.0</td>\n",
       "      <td>0.0</td>\n",
       "    </tr>\n",
       "    <tr>\n",
       "      <th>2888</th>\n",
       "      <td>8.000</td>\n",
       "      <td>128.0</td>\n",
       "      <td>2133.0</td>\n",
       "      <td>LPDDR4X</td>\n",
       "      <td>Intel</td>\n",
       "      <td>PCIe 4.0 x8</td>\n",
       "      <td>0.0</td>\n",
       "      <td>0.0</td>\n",
       "      <td>0.0</td>\n",
       "      <td>1.0</td>\n",
       "      <td>...</td>\n",
       "      <td>0.0</td>\n",
       "      <td>0.0</td>\n",
       "      <td>0.0</td>\n",
       "      <td>0.0</td>\n",
       "      <td>0.0</td>\n",
       "      <td>0.0</td>\n",
       "      <td>0.0</td>\n",
       "      <td>0.0</td>\n",
       "      <td>1.0</td>\n",
       "      <td>0.0</td>\n",
       "    </tr>\n",
       "  </tbody>\n",
       "</table>\n",
       "<p>2477 rows × 41 columns</p>\n",
       "</div>"
      ],
      "text/plain": [
       "      memSize  memBusWidth  memClock  memType manufacturer           bus  \\\n",
       "0       8.000        128.0    2250.0    GDDR6       NVIDIA  PCIe 4.0 x16   \n",
       "1       4.000         64.0    1500.0    GDDR6        Intel   PCIe 4.0 x8   \n",
       "2       4.000         64.0    1500.0    GDDR6        Intel   PCIe 4.0 x8   \n",
       "3       4.000         64.0    1500.0    GDDR6        Intel   PCIe 4.0 x8   \n",
       "4       8.000        128.0    1500.0    GDDR6        Intel  PCIe 4.0 x16   \n",
       "...       ...          ...       ...      ...          ...           ...   \n",
       "2884    0.016        128.0     166.0      SDR         3dfx        AGP 4x   \n",
       "2885    0.016        128.0     166.0      SDR         3dfx           PCI   \n",
       "2886    0.032        128.0     166.0      SDR         3dfx        AGP 4x   \n",
       "2887    4.000        128.0    2133.0  LPDDR4X        Intel   PCIe 4.0 x8   \n",
       "2888    8.000        128.0    2133.0  LPDDR4X        Intel   PCIe 4.0 x8   \n",
       "\n",
       "      manufacturer_3dfx  manufacturer_AMD  manufacturer_ATI  \\\n",
       "0                   0.0               0.0               0.0   \n",
       "1                   0.0               0.0               0.0   \n",
       "2                   0.0               0.0               0.0   \n",
       "3                   0.0               0.0               0.0   \n",
       "4                   0.0               0.0               0.0   \n",
       "...                 ...               ...               ...   \n",
       "2884                1.0               0.0               0.0   \n",
       "2885                1.0               0.0               0.0   \n",
       "2886                1.0               0.0               0.0   \n",
       "2887                0.0               0.0               0.0   \n",
       "2888                0.0               0.0               0.0   \n",
       "\n",
       "      manufacturer_Intel  ...  bus_PCIe 2.0 x1  bus_PCIe 2.0 x16  \\\n",
       "0                    0.0  ...              0.0               0.0   \n",
       "1                    1.0  ...              0.0               0.0   \n",
       "2                    1.0  ...              0.0               0.0   \n",
       "3                    1.0  ...              0.0               0.0   \n",
       "4                    1.0  ...              0.0               0.0   \n",
       "...                  ...  ...              ...               ...   \n",
       "2884                 0.0  ...              0.0               0.0   \n",
       "2885                 0.0  ...              0.0               0.0   \n",
       "2886                 0.0  ...              0.0               0.0   \n",
       "2887                 1.0  ...              0.0               0.0   \n",
       "2888                 1.0  ...              0.0               0.0   \n",
       "\n",
       "      bus_PCIe 2.0 x8  bus_PCIe 3.0 x16  bus_PCIe 3.0 x4  bus_PCIe 3.0 x8  \\\n",
       "0                 0.0               0.0              0.0              0.0   \n",
       "1                 0.0               0.0              0.0              0.0   \n",
       "2                 0.0               0.0              0.0              0.0   \n",
       "3                 0.0               0.0              0.0              0.0   \n",
       "4                 0.0               0.0              0.0              0.0   \n",
       "...               ...               ...              ...              ...   \n",
       "2884              0.0               0.0              0.0              0.0   \n",
       "2885              0.0               0.0              0.0              0.0   \n",
       "2886              0.0               0.0              0.0              0.0   \n",
       "2887              0.0               0.0              0.0              0.0   \n",
       "2888              0.0               0.0              0.0              0.0   \n",
       "\n",
       "      bus_PCIe 4.0 x16  bus_PCIe 4.0 x4  bus_PCIe 4.0 x8  bus_PCIe 5.0 x16  \n",
       "0                  1.0              0.0              0.0               0.0  \n",
       "1                  0.0              0.0              1.0               0.0  \n",
       "2                  0.0              0.0              1.0               0.0  \n",
       "3                  0.0              0.0              1.0               0.0  \n",
       "4                  1.0              0.0              0.0               0.0  \n",
       "...                ...              ...              ...               ...  \n",
       "2884               0.0              0.0              0.0               0.0  \n",
       "2885               0.0              0.0              0.0               0.0  \n",
       "2886               0.0              0.0              0.0               0.0  \n",
       "2887               0.0              0.0              1.0               0.0  \n",
       "2888               0.0              0.0              1.0               0.0  \n",
       "\n",
       "[2477 rows x 41 columns]"
      ]
     },
     "execution_count": 12,
     "metadata": {},
     "output_type": "execute_result"
    }
   ],
   "source": [
    "df[enccols] = arr\n",
    "df"
   ]
  },
  {
   "cell_type": "code",
   "execution_count": 13,
   "metadata": {
    "cell_id": "235a2d8f34fe4c188f37e7aee54956f7",
    "deepnote_cell_type": "code",
    "deepnote_to_be_reexecuted": false,
    "execution_millis": 551974,
    "execution_start": 1670280589791,
    "source_hash": "14f60b8f",
    "tags": []
   },
   "outputs": [
    {
     "data": {
      "text/plain": [
       "(2477, 41)"
      ]
     },
     "execution_count": 13,
     "metadata": {},
     "output_type": "execute_result"
    }
   ],
   "source": [
    "df.shape"
   ]
  },
  {
   "cell_type": "markdown",
   "metadata": {
    "cell_id": "cc942d860e5a4db39fa7d350d5ff3baa",
    "deepnote_cell_type": "markdown",
    "tags": []
   },
   "source": [
    "Notice how our Dataframe went from 6 all the way to 41 columns. Now we have plenty of features to use in a decision tree."
   ]
  },
  {
   "cell_type": "markdown",
   "metadata": {
    "cell_id": "31bfe3d41d294d12b337c0b6c5139500",
    "deepnote_cell_type": "markdown",
    "tags": []
   },
   "source": [
    "## Creating the Decision Tree"
   ]
  },
  {
   "cell_type": "markdown",
   "metadata": {
    "cell_id": "b04c4767c902488fad6928edbdf39676",
    "deepnote_cell_type": "markdown",
    "tags": []
   },
   "source": [
    "Decision Tree's are prone to overfitting, we want our predictions to be as accurate as possible so we will split our data into a traning and test set that contains 80% and 20% of the data respectivly. We can then use these to gauge accuracy."
   ]
  },
  {
   "cell_type": "code",
   "execution_count": 14,
   "metadata": {
    "cell_id": "70b2bb31cc0343f9b48cd53ad92ed3ce",
    "deepnote_cell_type": "code",
    "deepnote_to_be_reexecuted": false,
    "execution_millis": 3,
    "execution_start": 1670280589822,
    "source_hash": "13497a6a",
    "tags": []
   },
   "outputs": [],
   "source": [
    "features = df[[x for x in df.columns if is_numeric_dtype(df[x][0]) == True]]\n",
    "target = df['memType']"
   ]
  },
  {
   "cell_type": "code",
   "execution_count": 15,
   "metadata": {
    "cell_id": "ccfc8ede5a9b4baea4dc023e68b52730",
    "deepnote_cell_type": "code",
    "deepnote_to_be_reexecuted": false,
    "execution_millis": 552007,
    "execution_start": 1670280589823,
    "source_hash": "cd7cc4c7",
    "tags": []
   },
   "outputs": [],
   "source": [
    "X_train, X_test, y_train, y_test = train_test_split(features,target, train_size=0.8, random_state=0)"
   ]
  },
  {
   "cell_type": "markdown",
   "metadata": {
    "cell_id": "a6847d4f8cef4241ab417211121a0aad",
    "deepnote_cell_type": "markdown",
    "tags": []
   },
   "source": [
    "Notice here that I set the max leaf nodes to 300. This seems like a lot. However as you can see 100 leaf nodes the tree seems to be underfitting. While at 400 leaf nodes the tree begins to start overfitting. "
   ]
  },
  {
   "cell_type": "code",
   "execution_count": 16,
   "metadata": {
    "cell_id": "86d889185de14b1fbd36264c094427a1",
    "deepnote_cell_type": "code",
    "deepnote_to_be_reexecuted": false,
    "execution_millis": 552006,
    "execution_start": 1670280589823,
    "source_hash": "defe4d73",
    "tags": []
   },
   "outputs": [],
   "source": [
    "clf = DecisionTreeClassifier(max_leaf_nodes=300, random_state=0)\n",
    "clf_under = DecisionTreeClassifier(max_leaf_nodes=100, random_state=0)\n",
    "clf_over = DecisionTreeClassifier(max_leaf_nodes=400, random_state=0)"
   ]
  },
  {
   "cell_type": "code",
   "execution_count": 17,
   "metadata": {
    "cell_id": "95fed6181baa418cbdfda987b4df45cc",
    "deepnote_cell_type": "code",
    "deepnote_to_be_reexecuted": false,
    "execution_millis": 16,
    "execution_start": 1670280589824,
    "source_hash": "21ab15e1",
    "tags": []
   },
   "outputs": [
    {
     "data": {
      "text/html": [
       "<style>#sk-container-id-2 {color: black;background-color: white;}#sk-container-id-2 pre{padding: 0;}#sk-container-id-2 div.sk-toggleable {background-color: white;}#sk-container-id-2 label.sk-toggleable__label {cursor: pointer;display: block;width: 100%;margin-bottom: 0;padding: 0.3em;box-sizing: border-box;text-align: center;}#sk-container-id-2 label.sk-toggleable__label-arrow:before {content: \"▸\";float: left;margin-right: 0.25em;color: #696969;}#sk-container-id-2 label.sk-toggleable__label-arrow:hover:before {color: black;}#sk-container-id-2 div.sk-estimator:hover label.sk-toggleable__label-arrow:before {color: black;}#sk-container-id-2 div.sk-toggleable__content {max-height: 0;max-width: 0;overflow: hidden;text-align: left;background-color: #f0f8ff;}#sk-container-id-2 div.sk-toggleable__content pre {margin: 0.2em;color: black;border-radius: 0.25em;background-color: #f0f8ff;}#sk-container-id-2 input.sk-toggleable__control:checked~div.sk-toggleable__content {max-height: 200px;max-width: 100%;overflow: auto;}#sk-container-id-2 input.sk-toggleable__control:checked~label.sk-toggleable__label-arrow:before {content: \"▾\";}#sk-container-id-2 div.sk-estimator input.sk-toggleable__control:checked~label.sk-toggleable__label {background-color: #d4ebff;}#sk-container-id-2 div.sk-label input.sk-toggleable__control:checked~label.sk-toggleable__label {background-color: #d4ebff;}#sk-container-id-2 input.sk-hidden--visually {border: 0;clip: rect(1px 1px 1px 1px);clip: rect(1px, 1px, 1px, 1px);height: 1px;margin: -1px;overflow: hidden;padding: 0;position: absolute;width: 1px;}#sk-container-id-2 div.sk-estimator {font-family: monospace;background-color: #f0f8ff;border: 1px dotted black;border-radius: 0.25em;box-sizing: border-box;margin-bottom: 0.5em;}#sk-container-id-2 div.sk-estimator:hover {background-color: #d4ebff;}#sk-container-id-2 div.sk-parallel-item::after {content: \"\";width: 100%;border-bottom: 1px solid gray;flex-grow: 1;}#sk-container-id-2 div.sk-label:hover label.sk-toggleable__label {background-color: #d4ebff;}#sk-container-id-2 div.sk-serial::before {content: \"\";position: absolute;border-left: 1px solid gray;box-sizing: border-box;top: 0;bottom: 0;left: 50%;z-index: 0;}#sk-container-id-2 div.sk-serial {display: flex;flex-direction: column;align-items: center;background-color: white;padding-right: 0.2em;padding-left: 0.2em;position: relative;}#sk-container-id-2 div.sk-item {position: relative;z-index: 1;}#sk-container-id-2 div.sk-parallel {display: flex;align-items: stretch;justify-content: center;background-color: white;position: relative;}#sk-container-id-2 div.sk-item::before, #sk-container-id-2 div.sk-parallel-item::before {content: \"\";position: absolute;border-left: 1px solid gray;box-sizing: border-box;top: 0;bottom: 0;left: 50%;z-index: -1;}#sk-container-id-2 div.sk-parallel-item {display: flex;flex-direction: column;z-index: 1;position: relative;background-color: white;}#sk-container-id-2 div.sk-parallel-item:first-child::after {align-self: flex-end;width: 50%;}#sk-container-id-2 div.sk-parallel-item:last-child::after {align-self: flex-start;width: 50%;}#sk-container-id-2 div.sk-parallel-item:only-child::after {width: 0;}#sk-container-id-2 div.sk-dashed-wrapped {border: 1px dashed gray;margin: 0 0.4em 0.5em 0.4em;box-sizing: border-box;padding-bottom: 0.4em;background-color: white;}#sk-container-id-2 div.sk-label label {font-family: monospace;font-weight: bold;display: inline-block;line-height: 1.2em;}#sk-container-id-2 div.sk-label-container {text-align: center;}#sk-container-id-2 div.sk-container {/* jupyter's `normalize.less` sets `[hidden] { display: none; }` but bootstrap.min.css set `[hidden] { display: none !important; }` so we also need the `!important` here to be able to override the default hidden behavior on the sphinx rendered scikit-learn.org. See: https://github.com/scikit-learn/scikit-learn/issues/21755 */display: inline-block !important;position: relative;}#sk-container-id-2 div.sk-text-repr-fallback {display: none;}</style><div id=\"sk-container-id-2\" class=\"sk-top-container\"><div class=\"sk-text-repr-fallback\"><pre>DecisionTreeClassifier(max_leaf_nodes=400, random_state=0)</pre><b>In a Jupyter environment, please rerun this cell to show the HTML representation or trust the notebook. <br />On GitHub, the HTML representation is unable to render, please try loading this page with nbviewer.org.</b></div><div class=\"sk-container\" hidden><div class=\"sk-item\"><div class=\"sk-estimator sk-toggleable\"><input class=\"sk-toggleable__control sk-hidden--visually\" id=\"sk-estimator-id-2\" type=\"checkbox\" checked><label for=\"sk-estimator-id-2\" class=\"sk-toggleable__label sk-toggleable__label-arrow\">DecisionTreeClassifier</label><div class=\"sk-toggleable__content\"><pre>DecisionTreeClassifier(max_leaf_nodes=400, random_state=0)</pre></div></div></div></div></div>"
      ],
      "text/plain": [
       "DecisionTreeClassifier(max_leaf_nodes=400, random_state=0)"
      ]
     },
     "execution_count": 17,
     "metadata": {},
     "output_type": "execute_result"
    }
   ],
   "source": [
    "clf.fit(X_train, y_train)\n",
    "clf_under.fit(X_train, y_train)\n",
    "clf_over.fit(X_train,y_train)"
   ]
  },
  {
   "cell_type": "code",
   "execution_count": 18,
   "metadata": {
    "cell_id": "6b9e4ea42eac4184adc51a4e4a0ef8d8",
    "deepnote_cell_type": "code",
    "deepnote_to_be_reexecuted": false,
    "execution_millis": 5,
    "execution_start": 1670280589870,
    "source_hash": "9c5921f1",
    "tags": []
   },
   "outputs": [
    {
     "data": {
      "text/plain": [
       "(0.9409389197375063, 0.8763250883392226, 0.9459868753154972)"
      ]
     },
     "execution_count": 18,
     "metadata": {},
     "output_type": "execute_result"
    }
   ],
   "source": [
    "clf.score(X_train, y_train) , clf_under.score(X_train, y_train), clf_over.score(X_train, y_train)"
   ]
  },
  {
   "cell_type": "code",
   "execution_count": 19,
   "metadata": {
    "cell_id": "98593a57fe53498e81fc63d88dcbc1c6",
    "deepnote_cell_type": "code",
    "deepnote_to_be_reexecuted": false,
    "execution_millis": 4,
    "execution_start": 1670280589871,
    "source_hash": "cd55edfd",
    "tags": []
   },
   "outputs": [
    {
     "data": {
      "text/plain": [
       "(0.842741935483871, 0.8366935483870968, 0.8286290322580645)"
      ]
     },
     "execution_count": 19,
     "metadata": {},
     "output_type": "execute_result"
    }
   ],
   "source": [
    "clf.score(X_test,y_test) , clf_under.score(X_test,y_test), clf_over.score(X_test,y_test)"
   ]
  },
  {
   "cell_type": "markdown",
   "metadata": {
    "cell_id": "c1468db4411e4f6da85f2eecc05b32f9",
    "deepnote_cell_type": "markdown",
    "tags": []
   },
   "source": [
    "As you can see from the first item in each tuple, on the training set we are getting around 94% Accuracy. While on the test set we are sitting at about 84% accuracy."
   ]
  },
  {
   "cell_type": "markdown",
   "metadata": {
    "cell_id": "248743f253764cdab13f200e990821f3",
    "deepnote_cell_type": "markdown",
    "tags": []
   },
   "source": [
    "## Checking the Importances"
   ]
  },
  {
   "cell_type": "markdown",
   "metadata": {
    "cell_id": "bd2cda09d44a4b5eb21084fdadd530a5",
    "deepnote_cell_type": "markdown",
    "tags": []
   },
   "source": [
    "Now I am curious to see which features were the most important. I would assume that the features that have 'mem' in them are the most important. Although I hope the columns we encoded had a large impact."
   ]
  },
  {
   "cell_type": "code",
   "execution_count": 20,
   "metadata": {
    "cell_id": "1e842bb016a945bfacdc72c03d0c6ef4",
    "deepnote_cell_type": "code",
    "deepnote_to_be_reexecuted": false,
    "execution_millis": 0,
    "execution_start": 1670280589872,
    "source_hash": "991227e4",
    "tags": []
   },
   "outputs": [],
   "source": [
    "Importances = pd.Series(clf.feature_importances_, index=clf.feature_names_in_)"
   ]
  },
  {
   "cell_type": "code",
   "execution_count": 21,
   "metadata": {
    "cell_id": "00aa7d81916e4010944e6b126fb57c08",
    "deepnote_cell_type": "code",
    "deepnote_to_be_reexecuted": false,
    "execution_millis": 36,
    "execution_start": 1670280589874,
    "source_hash": "991f85d0",
    "tags": []
   },
   "outputs": [],
   "source": [
    "df_imp = pd.DataFrame()\n",
    "df_imp['Feature Name'] = clf.feature_names_in_\n",
    "df_imp['Importance (%)'] = (100 * clf.feature_importances_).round(2)"
   ]
  },
  {
   "cell_type": "code",
   "execution_count": 22,
   "metadata": {
    "cell_id": "6a49b8c17d68484ba5243bf877b63982",
    "deepnote_cell_type": "code",
    "deepnote_to_be_reexecuted": false,
    "execution_millis": 3,
    "execution_start": 1670280589924,
    "source_hash": "98647ecc",
    "tags": []
   },
   "outputs": [
    {
     "data": {
      "application/vnd.deepnote.dataframe.v3+json": {
       "column_count": 2,
       "columns": [
        {
         "dtype": "object",
         "name": "Feature Name",
         "stats": {
          "categories": [
           {
            "count": 1,
            "name": "memSize"
           },
           {
            "count": 1,
            "name": "memBusWidth"
           },
           {
            "count": 36,
            "name": "36 others"
           }
          ],
          "nan_count": 0,
          "unique_count": 38
         }
        },
        {
         "dtype": "float64",
         "name": "Importance (%)",
         "stats": {
          "histogram": [
           {
            "bin_end": 4.338,
            "bin_start": 0,
            "count": 35
           },
           {
            "bin_end": 8.676,
            "bin_start": 4.338,
            "count": 0
           },
           {
            "bin_end": 13.014,
            "bin_start": 8.676,
            "count": 0
           },
           {
            "bin_end": 17.352,
            "bin_start": 13.014,
            "count": 1
           },
           {
            "bin_end": 21.69,
            "bin_start": 17.352,
            "count": 0
           },
           {
            "bin_end": 26.028,
            "bin_start": 21.69,
            "count": 1
           },
           {
            "bin_end": 30.366,
            "bin_start": 26.028,
            "count": 0
           },
           {
            "bin_end": 34.704,
            "bin_start": 30.366,
            "count": 0
           },
           {
            "bin_end": 39.042,
            "bin_start": 34.704,
            "count": 0
           },
           {
            "bin_end": 43.38,
            "bin_start": 39.042,
            "count": 1
           }
          ],
          "max": "43.38",
          "min": "0.0",
          "nan_count": 0,
          "unique_count": 26
         }
        },
        {
         "dtype": "int64",
         "name": "_deepnote_index_column"
        }
       ],
       "row_count": 38,
       "rows": [
        {
         "Feature Name": "memSize",
         "Importance (%)": "21.87",
         "_deepnote_index_column": "0"
        },
        {
         "Feature Name": "memBusWidth",
         "Importance (%)": "15.04",
         "_deepnote_index_column": "1"
        },
        {
         "Feature Name": "memClock",
         "Importance (%)": "43.38",
         "_deepnote_index_column": "2"
        },
        {
         "Feature Name": "manufacturer_3dfx",
         "Importance (%)": "0.09",
         "_deepnote_index_column": "3"
        },
        {
         "Feature Name": "manufacturer_AMD",
         "Importance (%)": "1.2",
         "_deepnote_index_column": "4"
        },
        {
         "Feature Name": "manufacturer_ATI",
         "Importance (%)": "2.9",
         "_deepnote_index_column": "5"
        },
        {
         "Feature Name": "manufacturer_Intel",
         "Importance (%)": "0.0",
         "_deepnote_index_column": "6"
        },
        {
         "Feature Name": "manufacturer_Matrox",
         "Importance (%)": "0.22",
         "_deepnote_index_column": "7"
        },
        {
         "Feature Name": "manufacturer_NVIDIA",
         "Importance (%)": "1.95",
         "_deepnote_index_column": "8"
        },
        {
         "Feature Name": "manufacturer_Sony",
         "Importance (%)": "0.0",
         "_deepnote_index_column": "9"
        }
       ]
      },
      "text/html": [
       "<div>\n",
       "<style scoped>\n",
       "    .dataframe tbody tr th:only-of-type {\n",
       "        vertical-align: middle;\n",
       "    }\n",
       "\n",
       "    .dataframe tbody tr th {\n",
       "        vertical-align: top;\n",
       "    }\n",
       "\n",
       "    .dataframe thead th {\n",
       "        text-align: right;\n",
       "    }\n",
       "</style>\n",
       "<table border=\"1\" class=\"dataframe\">\n",
       "  <thead>\n",
       "    <tr style=\"text-align: right;\">\n",
       "      <th></th>\n",
       "      <th>Feature Name</th>\n",
       "      <th>Importance (%)</th>\n",
       "    </tr>\n",
       "  </thead>\n",
       "  <tbody>\n",
       "    <tr>\n",
       "      <th>0</th>\n",
       "      <td>memSize</td>\n",
       "      <td>21.87</td>\n",
       "    </tr>\n",
       "    <tr>\n",
       "      <th>1</th>\n",
       "      <td>memBusWidth</td>\n",
       "      <td>15.04</td>\n",
       "    </tr>\n",
       "    <tr>\n",
       "      <th>2</th>\n",
       "      <td>memClock</td>\n",
       "      <td>43.38</td>\n",
       "    </tr>\n",
       "    <tr>\n",
       "      <th>3</th>\n",
       "      <td>manufacturer_3dfx</td>\n",
       "      <td>0.09</td>\n",
       "    </tr>\n",
       "    <tr>\n",
       "      <th>4</th>\n",
       "      <td>manufacturer_AMD</td>\n",
       "      <td>1.20</td>\n",
       "    </tr>\n",
       "    <tr>\n",
       "      <th>5</th>\n",
       "      <td>manufacturer_ATI</td>\n",
       "      <td>2.90</td>\n",
       "    </tr>\n",
       "    <tr>\n",
       "      <th>6</th>\n",
       "      <td>manufacturer_Intel</td>\n",
       "      <td>0.00</td>\n",
       "    </tr>\n",
       "    <tr>\n",
       "      <th>7</th>\n",
       "      <td>manufacturer_Matrox</td>\n",
       "      <td>0.22</td>\n",
       "    </tr>\n",
       "    <tr>\n",
       "      <th>8</th>\n",
       "      <td>manufacturer_NVIDIA</td>\n",
       "      <td>1.95</td>\n",
       "    </tr>\n",
       "    <tr>\n",
       "      <th>9</th>\n",
       "      <td>manufacturer_Sony</td>\n",
       "      <td>0.00</td>\n",
       "    </tr>\n",
       "    <tr>\n",
       "      <th>10</th>\n",
       "      <td>manufacturer_XGI</td>\n",
       "      <td>0.58</td>\n",
       "    </tr>\n",
       "    <tr>\n",
       "      <th>11</th>\n",
       "      <td>bus_AGP 2x</td>\n",
       "      <td>0.18</td>\n",
       "    </tr>\n",
       "    <tr>\n",
       "      <th>12</th>\n",
       "      <td>bus_AGP 4x</td>\n",
       "      <td>0.16</td>\n",
       "    </tr>\n",
       "    <tr>\n",
       "      <th>13</th>\n",
       "      <td>bus_AGP 8x</td>\n",
       "      <td>0.39</td>\n",
       "    </tr>\n",
       "    <tr>\n",
       "      <th>14</th>\n",
       "      <td>bus_AGP Pro 8x</td>\n",
       "      <td>0.00</td>\n",
       "    </tr>\n",
       "    <tr>\n",
       "      <th>15</th>\n",
       "      <td>bus_IGP</td>\n",
       "      <td>0.43</td>\n",
       "    </tr>\n",
       "    <tr>\n",
       "      <th>16</th>\n",
       "      <td>bus_MXM</td>\n",
       "      <td>0.17</td>\n",
       "    </tr>\n",
       "    <tr>\n",
       "      <th>17</th>\n",
       "      <td>bus_MXM-A (3.0)</td>\n",
       "      <td>0.17</td>\n",
       "    </tr>\n",
       "    <tr>\n",
       "      <th>18</th>\n",
       "      <td>bus_MXM-B (3.0)</td>\n",
       "      <td>0.00</td>\n",
       "    </tr>\n",
       "    <tr>\n",
       "      <th>19</th>\n",
       "      <td>bus_MXM-HE</td>\n",
       "      <td>0.00</td>\n",
       "    </tr>\n",
       "    <tr>\n",
       "      <th>20</th>\n",
       "      <td>bus_MXM-I</td>\n",
       "      <td>0.00</td>\n",
       "    </tr>\n",
       "    <tr>\n",
       "      <th>21</th>\n",
       "      <td>bus_MXM-II</td>\n",
       "      <td>0.12</td>\n",
       "    </tr>\n",
       "    <tr>\n",
       "      <th>22</th>\n",
       "      <td>bus_MXM-III</td>\n",
       "      <td>0.07</td>\n",
       "    </tr>\n",
       "    <tr>\n",
       "      <th>23</th>\n",
       "      <td>bus_MXM-IV</td>\n",
       "      <td>0.00</td>\n",
       "    </tr>\n",
       "    <tr>\n",
       "      <th>24</th>\n",
       "      <td>bus_PCI</td>\n",
       "      <td>0.43</td>\n",
       "    </tr>\n",
       "    <tr>\n",
       "      <th>25</th>\n",
       "      <td>bus_PCI-X</td>\n",
       "      <td>0.00</td>\n",
       "    </tr>\n",
       "    <tr>\n",
       "      <th>26</th>\n",
       "      <td>bus_PCIe 1.0 x1</td>\n",
       "      <td>0.00</td>\n",
       "    </tr>\n",
       "    <tr>\n",
       "      <th>27</th>\n",
       "      <td>bus_PCIe 1.0 x16</td>\n",
       "      <td>0.92</td>\n",
       "    </tr>\n",
       "    <tr>\n",
       "      <th>28</th>\n",
       "      <td>bus_PCIe 2.0 x1</td>\n",
       "      <td>0.26</td>\n",
       "    </tr>\n",
       "    <tr>\n",
       "      <th>29</th>\n",
       "      <td>bus_PCIe 2.0 x16</td>\n",
       "      <td>1.04</td>\n",
       "    </tr>\n",
       "    <tr>\n",
       "      <th>30</th>\n",
       "      <td>bus_PCIe 2.0 x8</td>\n",
       "      <td>0.00</td>\n",
       "    </tr>\n",
       "    <tr>\n",
       "      <th>31</th>\n",
       "      <td>bus_PCIe 3.0 x16</td>\n",
       "      <td>1.29</td>\n",
       "    </tr>\n",
       "    <tr>\n",
       "      <th>32</th>\n",
       "      <td>bus_PCIe 3.0 x4</td>\n",
       "      <td>0.11</td>\n",
       "    </tr>\n",
       "    <tr>\n",
       "      <th>33</th>\n",
       "      <td>bus_PCIe 3.0 x8</td>\n",
       "      <td>0.15</td>\n",
       "    </tr>\n",
       "    <tr>\n",
       "      <th>34</th>\n",
       "      <td>bus_PCIe 4.0 x16</td>\n",
       "      <td>4.19</td>\n",
       "    </tr>\n",
       "    <tr>\n",
       "      <th>35</th>\n",
       "      <td>bus_PCIe 4.0 x4</td>\n",
       "      <td>0.57</td>\n",
       "    </tr>\n",
       "    <tr>\n",
       "      <th>36</th>\n",
       "      <td>bus_PCIe 4.0 x8</td>\n",
       "      <td>2.11</td>\n",
       "    </tr>\n",
       "    <tr>\n",
       "      <th>37</th>\n",
       "      <td>bus_PCIe 5.0 x16</td>\n",
       "      <td>0.00</td>\n",
       "    </tr>\n",
       "  </tbody>\n",
       "</table>\n",
       "</div>"
      ],
      "text/plain": [
       "           Feature Name  Importance (%)\n",
       "0               memSize           21.87\n",
       "1           memBusWidth           15.04\n",
       "2              memClock           43.38\n",
       "3     manufacturer_3dfx            0.09\n",
       "4      manufacturer_AMD            1.20\n",
       "5      manufacturer_ATI            2.90\n",
       "6    manufacturer_Intel            0.00\n",
       "7   manufacturer_Matrox            0.22\n",
       "8   manufacturer_NVIDIA            1.95\n",
       "9     manufacturer_Sony            0.00\n",
       "10     manufacturer_XGI            0.58\n",
       "11           bus_AGP 2x            0.18\n",
       "12           bus_AGP 4x            0.16\n",
       "13           bus_AGP 8x            0.39\n",
       "14       bus_AGP Pro 8x            0.00\n",
       "15              bus_IGP            0.43\n",
       "16              bus_MXM            0.17\n",
       "17      bus_MXM-A (3.0)            0.17\n",
       "18      bus_MXM-B (3.0)            0.00\n",
       "19           bus_MXM-HE            0.00\n",
       "20            bus_MXM-I            0.00\n",
       "21           bus_MXM-II            0.12\n",
       "22          bus_MXM-III            0.07\n",
       "23           bus_MXM-IV            0.00\n",
       "24              bus_PCI            0.43\n",
       "25            bus_PCI-X            0.00\n",
       "26      bus_PCIe 1.0 x1            0.00\n",
       "27     bus_PCIe 1.0 x16            0.92\n",
       "28      bus_PCIe 2.0 x1            0.26\n",
       "29     bus_PCIe 2.0 x16            1.04\n",
       "30      bus_PCIe 2.0 x8            0.00\n",
       "31     bus_PCIe 3.0 x16            1.29\n",
       "32      bus_PCIe 3.0 x4            0.11\n",
       "33      bus_PCIe 3.0 x8            0.15\n",
       "34     bus_PCIe 4.0 x16            4.19\n",
       "35      bus_PCIe 4.0 x4            0.57\n",
       "36      bus_PCIe 4.0 x8            2.11\n",
       "37     bus_PCIe 5.0 x16            0.00"
      ]
     },
     "execution_count": 22,
     "metadata": {},
     "output_type": "execute_result"
    }
   ],
   "source": [
    "df_imp"
   ]
  },
  {
   "cell_type": "markdown",
   "metadata": {
    "cell_id": "172d96531eda43fd8382cfc8590947af",
    "deepnote_cell_type": "markdown",
    "tags": []
   },
   "source": [
    "## Graphing the Importances\n",
    "\n",
    "Let's make a few charts to get a better look at the Importances. Out of curiosity I wanted to see how many times each item in the Bus and Manufacturer column appeared in the Dataframe. Let's find out if rarer features had more impact on the decision tree.\n",
    "\n",
    "First lets make a quick Pie chart as that will be the easiest to read, also our importances should add up to 100% making it the perfect fit."
   ]
  },
  {
   "cell_type": "code",
   "execution_count": 23,
   "metadata": {
    "cell_id": "1b02a8a857b94f029ef28c9854d11655",
    "deepnote_cell_type": "code",
    "deepnote_to_be_reexecuted": false,
    "execution_millis": 1,
    "execution_start": 1670280589928,
    "source_hash": "f6cdf3b5",
    "tags": []
   },
   "outputs": [],
   "source": [
    "select = alt.selection_single(fields=['Feature Name'] , bind='legend')"
   ]
  },
  {
   "cell_type": "code",
   "execution_count": 24,
   "metadata": {
    "cell_id": "c327947ccf654ede8d7b2a4cf7417c7f",
    "deepnote_cell_type": "code",
    "deepnote_to_be_reexecuted": false,
    "execution_millis": 0,
    "execution_start": 1670280589971,
    "source_hash": "58219848",
    "tags": []
   },
   "outputs": [],
   "source": [
    "c1 = alt.Chart(df_imp).mark_arc().encode(\n",
    "    theta=alt.Theta(field='Importance (%)', type='quantitative'),\n",
    "    color=alt.Color(field='Feature Name', scale=alt.Scale(scheme='category20')),\n",
    "    tooltip=['Feature Name','Importance (%)'],\n",
    "    opacity=alt.condition(select, alt.value(1), alt.value(0.2))\n",
    ").add_selection(\n",
    "    select\n",
    ")"
   ]
  },
  {
   "cell_type": "markdown",
   "metadata": {
    "cell_id": "dbdc7dacfaff4b1e824cec7d633389eb",
    "deepnote_cell_type": "markdown",
    "tags": []
   },
   "source": [
    "Now let's work on finding out how many times each feature from the encoded columns appears in the Dataframe.\n",
    "\n",
    "We can use some simple list comprehension to make a cool list of all the features from the encoded columns. Then some for loops to create two new lists, one of how many times each feature shows up in the Dataframe and the other to make our cool list look like the Feature Name colum of df_imp."
   ]
  },
  {
   "cell_type": "code",
   "execution_count": 25,
   "metadata": {
    "cell_id": "2979a1319d1d48518f68198f7ceae024",
    "deepnote_cell_type": "code",
    "deepnote_to_be_reexecuted": false,
    "execution_millis": 0,
    "execution_start": 1670280589972,
    "source_hash": "84b38d99",
    "tags": []
   },
   "outputs": [],
   "source": [
    "coollist = [x for x in df['manufacturer'].unique()] + [x for x in df['bus'].unique()]"
   ]
  },
  {
   "cell_type": "code",
   "execution_count": 26,
   "metadata": {
    "cell_id": "ff53e27f458e4ab5bf2e05dc144d6b7e",
    "deepnote_cell_type": "code",
    "deepnote_to_be_reexecuted": false,
    "execution_millis": 1,
    "execution_start": 1670280589972,
    "source_hash": "441da48b",
    "tags": []
   },
   "outputs": [],
   "source": [
    "howdy = []\n",
    "for x in coollist:\n",
    "    if x in [x for x in df['manufacturer'].unique()]:\n",
    "        y = (df['manufacturer'] == x).sum()\n",
    "    else:\n",
    "        y = (df['bus'] == x).sum()\n",
    "    howdy.append(y)"
   ]
  },
  {
   "cell_type": "code",
   "execution_count": 27,
   "metadata": {
    "cell_id": "871fe4dcc9a64eecbeecd1f86f678fb0",
    "deepnote_cell_type": "code",
    "deepnote_to_be_reexecuted": false,
    "execution_millis": 5,
    "execution_start": 1670280589973,
    "source_hash": "88de53be",
    "tags": []
   },
   "outputs": [],
   "source": [
    "coollist2=[]\n",
    "for x in coollist:\n",
    "    if x in [x for x in df['manufacturer'].unique()]:\n",
    "        y = 'manufacturer_' + x\n",
    "    else:\n",
    "        y = 'bus_' + x\n",
    "    coollist2.append(y)"
   ]
  },
  {
   "cell_type": "markdown",
   "metadata": {
    "cell_id": "bedaa90d0ccc4ea1ab0632625366c249",
    "deepnote_cell_type": "markdown",
    "tags": []
   },
   "source": [
    "Now we can make a new Dataframe so we can create a Bar chart that will sync up with the Pie chart."
   ]
  },
  {
   "cell_type": "code",
   "execution_count": 28,
   "metadata": {
    "cell_id": "9373cde660ce4d709d714b174d0a03ad",
    "deepnote_cell_type": "code",
    "deepnote_table_loading": false,
    "deepnote_table_state": {
     "filters": [],
     "pageIndex": 0,
     "pageSize": 10,
     "sortBy": []
    },
    "deepnote_to_be_reexecuted": false,
    "execution_millis": 0,
    "execution_start": 1670280589980,
    "source_hash": "ba9d21f3",
    "tags": []
   },
   "outputs": [],
   "source": [
    "df_bar = pd.DataFrame(list(zip(coollist2,howdy)), columns=['Feature Name','Occurance'])"
   ]
  },
  {
   "cell_type": "code",
   "execution_count": 29,
   "metadata": {
    "cell_id": "403a097d31df41b2a0b4a8271cac0168",
    "deepnote_cell_type": "code",
    "deepnote_to_be_reexecuted": false,
    "execution_millis": 43,
    "execution_start": 1670280589988,
    "source_hash": "779b8c10",
    "tags": []
   },
   "outputs": [],
   "source": [
    "c2 = alt.Chart(df_bar).mark_bar().encode(\n",
    "    x='Feature Name',\n",
    "    y='Occurance',\n",
    "    color='Feature Name',\n",
    "    tooltip=['Feature Name','Occurance'],\n",
    "    opacity=alt.condition(select, alt.value(1), alt.value(0.2))\n",
    ").add_selection(\n",
    "    select\n",
    ")"
   ]
  },
  {
   "cell_type": "markdown",
   "metadata": {
    "cell_id": "a1707c3bf49444d9a03460b3da1474db",
    "deepnote_cell_type": "markdown",
    "tags": []
   },
   "source": [
    "Looking at the Pie chart we can see that indeed the columns with 'mem' in them are the most important. It seems the columns we encoded were not all that important which is disappointing. It also seems my theory of how newer PCIe slots corresponding to newer RAM types was also wrong.\n",
    "Hovering over a slice or a bar with your mouse will show you the name of the slice or bar and importance/occurance. Clicking on a Feature Name in the legend will hilight it on both the Pie and Bar chart."
   ]
  },
  {
   "cell_type": "code",
   "execution_count": 30,
   "metadata": {
    "cell_id": "c8f9ac781b074f449b284682da8e1c07",
    "deepnote_cell_type": "code",
    "deepnote_to_be_reexecuted": false,
    "execution_millis": 2,
    "execution_start": 1670280590050,
    "source_hash": "8e552ca4",
    "tags": []
   },
   "outputs": [
    {
     "data": {
      "text/html": [
       "\n",
       "<div id=\"altair-viz-c31271c6b09f4566a1a36e09602d52f2\"></div>\n",
       "<script type=\"text/javascript\">\n",
       "  var VEGA_DEBUG = (typeof VEGA_DEBUG == \"undefined\") ? {} : VEGA_DEBUG;\n",
       "  (function(spec, embedOpt){\n",
       "    let outputDiv = document.currentScript.previousElementSibling;\n",
       "    if (outputDiv.id !== \"altair-viz-c31271c6b09f4566a1a36e09602d52f2\") {\n",
       "      outputDiv = document.getElementById(\"altair-viz-c31271c6b09f4566a1a36e09602d52f2\");\n",
       "    }\n",
       "    const paths = {\n",
       "      \"vega\": \"https://cdn.jsdelivr.net/npm//vega@5?noext\",\n",
       "      \"vega-lib\": \"https://cdn.jsdelivr.net/npm//vega-lib?noext\",\n",
       "      \"vega-lite\": \"https://cdn.jsdelivr.net/npm//vega-lite@4.17.0?noext\",\n",
       "      \"vega-embed\": \"https://cdn.jsdelivr.net/npm//vega-embed@6?noext\",\n",
       "    };\n",
       "\n",
       "    function maybeLoadScript(lib, version) {\n",
       "      var key = `${lib.replace(\"-\", \"\")}_version`;\n",
       "      return (VEGA_DEBUG[key] == version) ?\n",
       "        Promise.resolve(paths[lib]) :\n",
       "        new Promise(function(resolve, reject) {\n",
       "          var s = document.createElement('script');\n",
       "          document.getElementsByTagName(\"head\")[0].appendChild(s);\n",
       "          s.async = true;\n",
       "          s.onload = () => {\n",
       "            VEGA_DEBUG[key] = version;\n",
       "            return resolve(paths[lib]);\n",
       "          };\n",
       "          s.onerror = () => reject(`Error loading script: ${paths[lib]}`);\n",
       "          s.src = paths[lib];\n",
       "        });\n",
       "    }\n",
       "\n",
       "    function showError(err) {\n",
       "      outputDiv.innerHTML = `<div class=\"error\" style=\"color:red;\">${err}</div>`;\n",
       "      throw err;\n",
       "    }\n",
       "\n",
       "    function displayChart(vegaEmbed) {\n",
       "      vegaEmbed(outputDiv, spec, embedOpt)\n",
       "        .catch(err => showError(`Javascript Error: ${err.message}<br>This usually means there's a typo in your chart specification. See the javascript console for the full traceback.`));\n",
       "    }\n",
       "\n",
       "    if(typeof define === \"function\" && define.amd) {\n",
       "      requirejs.config({paths});\n",
       "      require([\"vega-embed\"], displayChart, err => showError(`Error loading script: ${err.message}`));\n",
       "    } else {\n",
       "      maybeLoadScript(\"vega\", \"5\")\n",
       "        .then(() => maybeLoadScript(\"vega-lite\", \"4.17.0\"))\n",
       "        .then(() => maybeLoadScript(\"vega-embed\", \"6\"))\n",
       "        .catch(showError)\n",
       "        .then(() => displayChart(vegaEmbed));\n",
       "    }\n",
       "  })({\"config\": {\"view\": {\"continuousWidth\": 400, \"continuousHeight\": 300}}, \"vconcat\": [{\"data\": {\"name\": \"data-f8bd92e309efd008d4f09c2075af85f2\"}, \"mark\": \"arc\", \"encoding\": {\"color\": {\"field\": \"Feature Name\", \"scale\": {\"scheme\": \"category20\"}}, \"opacity\": {\"condition\": {\"value\": 1, \"selection\": \"selector001\"}, \"value\": 0.2}, \"theta\": {\"field\": \"Importance (%)\", \"type\": \"quantitative\"}, \"tooltip\": [{\"field\": \"Feature Name\", \"type\": \"nominal\"}, {\"field\": \"Importance (%)\", \"type\": \"quantitative\"}]}, \"selection\": {\"selector001\": {\"type\": \"single\", \"fields\": [\"Feature Name\"], \"bind\": \"legend\"}}}, {\"data\": {\"name\": \"data-f900515ab42ff310be6edae3f9a1af57\"}, \"mark\": \"bar\", \"encoding\": {\"color\": {\"field\": \"Feature Name\", \"type\": \"nominal\"}, \"opacity\": {\"condition\": {\"value\": 1, \"selection\": \"selector001\"}, \"value\": 0.2}, \"tooltip\": [{\"field\": \"Feature Name\", \"type\": \"nominal\"}, {\"field\": \"Occurance\", \"type\": \"quantitative\"}], \"x\": {\"field\": \"Feature Name\", \"type\": \"nominal\"}, \"y\": {\"field\": \"Occurance\", \"type\": \"quantitative\"}}, \"selection\": {\"selector001\": {\"type\": \"single\", \"fields\": [\"Feature Name\"], \"bind\": \"legend\"}}}], \"$schema\": \"https://vega.github.io/schema/vega-lite/v4.17.0.json\", \"datasets\": {\"data-f8bd92e309efd008d4f09c2075af85f2\": [{\"Feature Name\": \"memSize\", \"Importance (%)\": 21.87}, {\"Feature Name\": \"memBusWidth\", \"Importance (%)\": 15.04}, {\"Feature Name\": \"memClock\", \"Importance (%)\": 43.38}, {\"Feature Name\": \"manufacturer_3dfx\", \"Importance (%)\": 0.09}, {\"Feature Name\": \"manufacturer_AMD\", \"Importance (%)\": 1.2}, {\"Feature Name\": \"manufacturer_ATI\", \"Importance (%)\": 2.9}, {\"Feature Name\": \"manufacturer_Intel\", \"Importance (%)\": 0.0}, {\"Feature Name\": \"manufacturer_Matrox\", \"Importance (%)\": 0.22}, {\"Feature Name\": \"manufacturer_NVIDIA\", \"Importance (%)\": 1.95}, {\"Feature Name\": \"manufacturer_Sony\", \"Importance (%)\": 0.0}, {\"Feature Name\": \"manufacturer_XGI\", \"Importance (%)\": 0.58}, {\"Feature Name\": \"bus_AGP 2x\", \"Importance (%)\": 0.18}, {\"Feature Name\": \"bus_AGP 4x\", \"Importance (%)\": 0.16}, {\"Feature Name\": \"bus_AGP 8x\", \"Importance (%)\": 0.39}, {\"Feature Name\": \"bus_AGP Pro 8x\", \"Importance (%)\": 0.0}, {\"Feature Name\": \"bus_IGP\", \"Importance (%)\": 0.43}, {\"Feature Name\": \"bus_MXM\", \"Importance (%)\": 0.17}, {\"Feature Name\": \"bus_MXM-A (3.0)\", \"Importance (%)\": 0.17}, {\"Feature Name\": \"bus_MXM-B (3.0)\", \"Importance (%)\": 0.0}, {\"Feature Name\": \"bus_MXM-HE\", \"Importance (%)\": 0.0}, {\"Feature Name\": \"bus_MXM-I\", \"Importance (%)\": 0.0}, {\"Feature Name\": \"bus_MXM-II\", \"Importance (%)\": 0.12}, {\"Feature Name\": \"bus_MXM-III\", \"Importance (%)\": 0.07}, {\"Feature Name\": \"bus_MXM-IV\", \"Importance (%)\": 0.0}, {\"Feature Name\": \"bus_PCI\", \"Importance (%)\": 0.43}, {\"Feature Name\": \"bus_PCI-X\", \"Importance (%)\": 0.0}, {\"Feature Name\": \"bus_PCIe 1.0 x1\", \"Importance (%)\": 0.0}, {\"Feature Name\": \"bus_PCIe 1.0 x16\", \"Importance (%)\": 0.92}, {\"Feature Name\": \"bus_PCIe 2.0 x1\", \"Importance (%)\": 0.26}, {\"Feature Name\": \"bus_PCIe 2.0 x16\", \"Importance (%)\": 1.04}, {\"Feature Name\": \"bus_PCIe 2.0 x8\", \"Importance (%)\": 0.0}, {\"Feature Name\": \"bus_PCIe 3.0 x16\", \"Importance (%)\": 1.29}, {\"Feature Name\": \"bus_PCIe 3.0 x4\", \"Importance (%)\": 0.11}, {\"Feature Name\": \"bus_PCIe 3.0 x8\", \"Importance (%)\": 0.15}, {\"Feature Name\": \"bus_PCIe 4.0 x16\", \"Importance (%)\": 4.19}, {\"Feature Name\": \"bus_PCIe 4.0 x4\", \"Importance (%)\": 0.57}, {\"Feature Name\": \"bus_PCIe 4.0 x8\", \"Importance (%)\": 2.11}, {\"Feature Name\": \"bus_PCIe 5.0 x16\", \"Importance (%)\": 0.0}], \"data-f900515ab42ff310be6edae3f9a1af57\": [{\"Feature Name\": \"manufacturer_NVIDIA\", \"Occurance\": 1204}, {\"Feature Name\": \"manufacturer_Intel\", \"Occurance\": 25}, {\"Feature Name\": \"manufacturer_AMD\", \"Occurance\": 608}, {\"Feature Name\": \"manufacturer_ATI\", \"Occurance\": 551}, {\"Feature Name\": \"manufacturer_Sony\", \"Occurance\": 9}, {\"Feature Name\": \"manufacturer_Matrox\", \"Occurance\": 34}, {\"Feature Name\": \"manufacturer_XGI\", \"Occurance\": 16}, {\"Feature Name\": \"manufacturer_3dfx\", \"Occurance\": 30}, {\"Feature Name\": \"bus_PCIe 4.0 x16\", \"Occurance\": 108}, {\"Feature Name\": \"bus_PCIe 4.0 x8\", \"Occurance\": 39}, {\"Feature Name\": \"bus_PCIe 5.0 x16\", \"Occurance\": 5}, {\"Feature Name\": \"bus_PCIe 4.0 x4\", \"Occurance\": 9}, {\"Feature Name\": \"bus_IGP\", \"Occurance\": 40}, {\"Feature Name\": \"bus_PCIe 3.0 x4\", \"Occurance\": 18}, {\"Feature Name\": \"bus_PCIe 3.0 x16\", \"Occurance\": 498}, {\"Feature Name\": \"bus_PCIe 3.0 x8\", \"Occurance\": 172}, {\"Feature Name\": \"bus_MXM-B (3.0)\", \"Occurance\": 97}, {\"Feature Name\": \"bus_MXM-A (3.0)\", \"Occurance\": 68}, {\"Feature Name\": \"bus_PCIe 2.0 x16\", \"Occurance\": 549}, {\"Feature Name\": \"bus_PCIe 2.0 x8\", \"Occurance\": 11}, {\"Feature Name\": \"bus_PCIe 2.0 x1\", \"Occurance\": 9}, {\"Feature Name\": \"bus_PCIe 1.0 x16\", \"Occurance\": 294}, {\"Feature Name\": \"bus_PCI\", \"Occurance\": 107}, {\"Feature Name\": \"bus_MXM\", \"Occurance\": 4}, {\"Feature Name\": \"bus_MXM-II\", \"Occurance\": 39}, {\"Feature Name\": \"bus_MXM-IV\", \"Occurance\": 1}, {\"Feature Name\": \"bus_AGP 8x\", \"Occurance\": 206}, {\"Feature Name\": \"bus_MXM-HE\", \"Occurance\": 10}, {\"Feature Name\": \"bus_MXM-I\", \"Occurance\": 4}, {\"Feature Name\": \"bus_PCIe 1.0 x1\", \"Occurance\": 2}, {\"Feature Name\": \"bus_MXM-III\", \"Occurance\": 7}, {\"Feature Name\": \"bus_AGP 4x\", \"Occurance\": 130}, {\"Feature Name\": \"bus_AGP Pro 8x\", \"Occurance\": 8}, {\"Feature Name\": \"bus_PCI-X\", \"Occurance\": 8}, {\"Feature Name\": \"bus_AGP 2x\", \"Occurance\": 34}]}}, {\"mode\": \"vega-lite\"});\n",
       "</script>"
      ],
      "text/plain": [
       "alt.VConcatChart(...)"
      ]
     },
     "execution_count": 30,
     "metadata": {},
     "output_type": "execute_result"
    }
   ],
   "source": [
    "alt.vconcat(c1,c2)"
   ]
  },
  {
   "cell_type": "markdown",
   "metadata": {
    "cell_id": "409ec3ef51aa40f08cc516cbf0cbb2be",
    "deepnote_cell_type": "markdown",
    "tags": []
   },
   "source": [
    "After looking through some feature names, it is obvious that how often a feature appears in df has no corilation to the importance in the pie chart. Two key examples are the manufacturer_NVIDIA and the bus_PCIe 4.0 x16 features. They both share about the same importance 2.48 and 3.95 respectivly, although bus_PCIe 4.0 x16 appears far less than manufacturer_NVIDIA."
   ]
  },
  {
   "cell_type": "markdown",
   "metadata": {
    "cell_id": "8b3ec00d621045e9a6b53b181bb62136",
    "deepnote_cell_type": "markdown",
    "tags": []
   },
   "source": [
    "## Attempting to Visualize the Decision Tree\n",
    "Let's make a quick graph with memSize as the x-axis, memBusWidth as the y-axis, and memClock as the z axis. We are then going to need to zoom in quite a bit, so we can better see some data, rather than one big clump. You can actually explore this chart by using scroll wheel to zoom, right click to pan, and left click to rotate.\n"
   ]
  },
  {
   "cell_type": "code",
   "execution_count": 31,
   "metadata": {
    "cell_id": "bbe100183f514bd09d6231fb18d4aed0",
    "deepnote_cell_type": "code",
    "deepnote_to_be_reexecuted": false,
    "execution_millis": 1378,
    "execution_start": 1670280590096,
    "source_hash": "ae5e5215",
    "tags": []
   },
   "outputs": [
    {
     "data": {
      "text/html": [
       "<html>\n",
       "<head><meta charset=\"utf-8\" /></head>\n",
       "<body>\n",
       "    <div>            <script src=\"https://cdnjs.cloudflare.com/ajax/libs/mathjax/2.7.5/MathJax.js?config=TeX-AMS-MML_SVG\"></script><script type=\"text/javascript\">if (window.MathJax && window.MathJax.Hub && window.MathJax.Hub.Config) {window.MathJax.Hub.Config({SVG: {font: \"STIX-Web\"}});}</script>                <script type=\"text/javascript\">window.PlotlyConfig = {MathJaxConfig: 'local'};</script>\n",
       "        <script src=\"https://cdn.plot.ly/plotly-2.14.0.min.js\"></script>                <div id=\"1fe619aa-661a-4642-aa23-1e3c4acfb8de\" class=\"plotly-graph-div\" style=\"height:525px; width:100%;\"></div>            <script type=\"text/javascript\">                                    window.PLOTLYENV=window.PLOTLYENV || {};                                    if (document.getElementById(\"1fe619aa-661a-4642-aa23-1e3c4acfb8de\")) {                    Plotly.newPlot(                        \"1fe619aa-661a-4642-aa23-1e3c4acfb8de\",                        [{\"hovertemplate\":\"memType=GDDR6<br>memSize=%{x}<br>memBusWidth=%{y}<br>memClock=%{z}<extra></extra>\",\"legendgroup\":\"GDDR6\",\"marker\":{\"color\":\"#636efa\",\"symbol\":\"circle\"},\"mode\":\"markers\",\"name\":\"GDDR6\",\"scene\":\"scene\",\"showlegend\":true,\"x\":[8.0,4.0,4.0,4.0,8.0,12.0,16.0,16.0,2.0,4.0,4.0,8.0,8.0,8.0,8.0,8.0,16.0,16.0,12.0,12.0,4.0,2.0,4.0,4.0,4.0,4.0,8.0,8.0,8.0,8.0,12.0,8.0,12.0,16.0,8.0,12.0,16.0,24.0,16.0,24.0,12.0,16.0,16.0,6.0,8.0,10.0,4.0,12.0,4.0,4.0,4.0,12.0,12.0,6.0,6.0,8.0,8.0,8.0,8.0,4.0,32.0,8.0,8.0,32.0,32.0,32.0,32.0,8.0,8.0,8.0,6.0,12.0,10.0,12.0,4.0,6.0,12.0,8.0,4.0,6.0,12.0,12.0,4.0,16.0,8.0,20.0,16.0,12.0,4.0,24.0,16.0,4.0,8.0,2.0,4.0,4.0,4.0,48.0,4.0,4.0,4.0,4.0,4.0,4.0,4.0,4.0,2.0,2.0,6.0,6.0,8.0,8.0,8.0,8.0,8.0,8.0,8.0,8.0,16.0,2.0,4.0,8.0,16.0,16.0,24.0,4.0,4.0,8.0,8.0,16.0,8.0,4.0,3.0,6.0,6.0,6.0,8.0,16.0,16.0,16.0,48.0,2.0,8.0,10.0,4.0,6.0,6.0,6.0,6.0,6.0,6.0,6.0,6.0,8.0,8.0,8.0,8.0,8.0,8.0,8.0,6.0,6.0,6.0,8.0,8.0,16.0,16.0,4.0,8.0,4.0,8.0,16.0,3.0,4.0,4.0,4.0,8.0,8.0,8.0,8.0,8.0,11.0,8.0,16.0,24.0,24.0,48.0,48.0,16.0,24.0,16.0],\"y\":[128.0,64.0,64.0,64.0,128.0,192.0,256.0,256.0,64.0,64.0,128.0,128.0,128.0,128.0,256.0,256.0,256.0,256.0,192.0,192.0,64.0,32.0,64.0,64.0,64.0,128.0,128.0,128.0,128.0,128.0,192.0,128.0,192.0,256.0,128.0,192.0,256.0,384.0,256.0,384.0,384.0,128.0,128.0,192.0,256.0,320.0,64.0,192.0,128.0,128.0,128.0,192.0,192.0,192.0,192.0,256.0,256.0,256.0,256.0,128.0,256.0,128.0,128.0,256.0,256.0,256.0,256.0,128.0,128.0,128.0,192.0,192.0,160.0,192.0,128.0,192.0,192.0,128.0,128.0,192.0,192.0,192.0,128.0,256.0,256.0,320.0,256.0,192.0,64.0,384.0,256.0,128.0,128.0,64.0,64.0,128.0,128.0,384.0,128.0,128.0,128.0,128.0,128.0,128.0,128.0,128.0,64.0,64.0,192.0,192.0,256.0,256.0,256.0,256.0,256.0,256.0,256.0,256.0,384.0,384.0,384.0,384.0,256.0,256.0,384.0,128.0,128.0,128.0,256.0,256.0,128.0,128.0,96.0,192.0,192.0,192.0,256.0,256.0,256.0,256.0,384.0,64.0,128.0,320.0,128.0,192.0,192.0,192.0,192.0,192.0,192.0,192.0,192.0,256.0,256.0,256.0,256.0,256.0,256.0,256.0,192.0,192.0,192.0,256.0,256.0,256.0,256.0,128.0,128.0,128.0,256.0,256.0,96.0,128.0,128.0,128.0,256.0,256.0,256.0,256.0,256.0,352.0,256.0,256.0,384.0,384.0,384.0,384.0,256.0,384.0,256.0],\"z\":[2250.0,1500.0,1500.0,1500.0,1500.0,1500.0,1500.0,1500.0,1500.0,1500.0,1750.0,1750.0,1750.0,1750.0,1750.0,1750.0,1500.0,2000.0,2250.0,2250.0,1750.0,2250.0,2000.0,2248.0,2250.0,1750.0,2190.0,2000.0,2000.0,1750.0,2250.0,2000.0,2000.0,2250.0,2250.0,2250.0,2250.0,2000.0,1750.0,1563.0,1563.0,1812.0,1563.0,1750.0,1750.0,1750.0,1750.0,1750.0,1500.0,1500.0,1500.0,1875.0,1875.0,1500.0,1750.0,1500.0,1750.0,1500.0,1750.0,1250.0,2000.0,1750.0,1750.0,2000.0,2000.0,2000.0,2000.0,1750.0,2000.0,1750.0,2000.0,2000.0,2000.0,2000.0,1500.0,1500.0,1500.0,1500.0,1375.0,1375.0,1375.0,1375.0,1750.0,1750.0,1500.0,2000.0,2000.0,1500.0,1750.0,2000.0,1750.0,1250.0,1250.0,1250.0,1250.0,1250.0,1250.0,1812.0,1500.0,1250.0,1500.0,1250.0,1500.0,1500.0,1500.0,1500.0,1250.0,1250.0,1375.0,1750.0,1375.0,1375.0,1375.0,1750.0,1375.0,1750.0,1750.0,1750.0,1575.0,1750.0,1750.0,1750.0,1750.0,1750.0,1750.0,1500.0,1750.0,1750.0,1500.0,1500.0,1750.0,1750.0,1750.0,1500.0,1500.0,1500.0,1500.0,2000.0,2000.0,2000.0,2000.0,1250.0,1750.0,1750.0,1500.0,1750.0,1500.0,1500.0,1500.0,1750.0,1353.0,1750.0,1375.0,1750.0,1500.0,1750.0,1750.0,1500.0,1750.0,1937.0,1500.0,1750.0,1750.0,1625.0,1750.0,1500.0,1750.0,1500.0,1500.0,1500.0,1750.0,1750.0,1750.0,1750.0,1750.0,1750.0,1750.0,1750.0,1750.0,1750.0,1750.0,1750.0,1625.0,1750.0,1750.0,1750.0,1750.0,1750.0,1250.0,1750.0,2250.0],\"type\":\"scatter3d\"},{\"hovertemplate\":\"memType=GDDR6X<br>memSize=%{x}<br>memBusWidth=%{y}<br>memClock=%{z}<extra></extra>\",\"legendgroup\":\"GDDR6X\",\"marker\":{\"color\":\"#EF553B\",\"symbol\":\"circle\"},\"mode\":\"markers\",\"name\":\"GDDR6X\",\"scene\":\"scene\",\"showlegend\":true,\"x\":[16.0,12.0,20.0,24.0,16.0,20.0,24.0,8.0,10.0,8.0,12.0,10.0,24.0,16.0],\"y\":[256.0,384.0,320.0,384.0,256.0,320.0,384.0,256.0,320.0,256.0,384.0,320.0,384.0,256.0],\"z\":[1093.0,1188.0,1188.0,1313.0,2250.0,1325.0,1325.0,1188.0,1188.0,1188.0,1188.0,1188.0,1219.0,1188.0],\"type\":\"scatter3d\"},{\"hovertemplate\":\"memType=HBM2e<br>memSize=%{x}<br>memBusWidth=%{y}<br>memClock=%{z}<extra></extra>\",\"legendgroup\":\"HBM2e\",\"marker\":{\"color\":\"#00cc96\",\"symbol\":\"circle\"},\"mode\":\"markers\",\"name\":\"HBM2e\",\"scene\":\"scene\",\"showlegend\":true,\"x\":[16.0,80.0,80.0,16.0,16.0,16.0,64.0,128.0,128.0,40.0,40.0,80.0,48.0,48.0],\"y\":[4096.0,5120.0,5120.0,4096.0,4096.0,4096.0,4096.0,8192.0,8192.0,5120.0,5120.0,5120.0,6144.0,6144.0],\"z\":[1200.0,1000.0,1593.0,1200.0,1200.0,1458.0,1600.0,1600.0,1600.0,1215.0,1215.0,1593.0,1215.0,1215.0],\"type\":\"scatter3d\"},{\"hovertemplate\":\"memType=HBM3<br>memSize=%{x}<br>memBusWidth=%{y}<br>memClock=%{z}<extra></extra>\",\"legendgroup\":\"HBM3\",\"marker\":{\"color\":\"#ab63fa\",\"symbol\":\"circle\"},\"mode\":\"markers\",\"name\":\"HBM3\",\"scene\":\"scene\",\"showlegend\":true,\"x\":[80.0],\"y\":[5120.0],\"z\":[1500.0],\"type\":\"scatter3d\"},{\"hovertemplate\":\"memType=LPDDR5<br>memSize=%{x}<br>memBusWidth=%{y}<br>memClock=%{z}<extra></extra>\",\"legendgroup\":\"LPDDR5\",\"marker\":{\"color\":\"#FFA15A\",\"symbol\":\"circle\"},\"mode\":\"markers\",\"name\":\"LPDDR5\",\"scene\":\"scene\",\"showlegend\":true,\"x\":[16.0],\"y\":[128.0],\"z\":[1375.0],\"type\":\"scatter3d\"},{\"hovertemplate\":\"memType=HBM2<br>memSize=%{x}<br>memBusWidth=%{y}<br>memClock=%{z}<extra></extra>\",\"legendgroup\":\"HBM2\",\"marker\":{\"color\":\"#19d3f3\",\"symbol\":\"circle\"},\"mode\":\"markers\",\"name\":\"HBM2\",\"scene\":\"scene\",\"showlegend\":true,\"x\":[24.0,24.0,24.0,32.0,8.0,8.0,16.0,8.0,16.0,32.0,32.0,16.0,32.0,32.0,16.0,32.0,32.0,16.0,32.0,16.0,4.0,4.0,8.0,4.0,8.0,4.0,4.0,16.0,32.0,16.0,32.0,32.0,32.0,32.0,16.0,16.0,16.0,8.0,16.0,8.0,16.0,8.0,8.0,8.0,8.0,16.0,16.0,16.0,16.0,12.0,16.0,16.0,12.0,16.0,16.0,8.0],\"y\":[3072.0,3072.0,3072.0,4096.0,2048.0,2048.0,4096.0,2048.0,2048.0,4096.0,4096.0,4096.0,4096.0,4096.0,4096.0,4096.0,4096.0,4096.0,4096.0,2048.0,1024.0,1024.0,2048.0,1024.0,2048.0,1024.0,1024.0,4096.0,4096.0,4096.0,4096.0,4096.0,4096.0,4096.0,2048.0,2048.0,2048.0,2048.0,2048.0,2048.0,2048.0,2048.0,2048.0,2048.0,2048.0,2048.0,2048.0,4096.0,4096.0,3072.0,4096.0,4096.0,3072.0,4096.0,4096.0,2048.0],\"z\":[1215.0,1215.0,1215.0,1200.0,770.0,1000.0,1000.0,786.0,1000.0,806.0,1000.0,1000.0,1106.0,1106.0,1106.0,1106.0,848.0,1000.0,1000.0,945.0,1200.0,740.0,1000.0,700.0,800.0,800.0,700.0,876.0,876.0,810.0,876.0,876.0,876.0,848.0,852.0,945.0,945.0,786.0,786.0,1000.0,945.0,800.0,945.0,945.0,945.0,945.0,945.0,876.0,876.0,848.0,715.0,715.0,715.0,715.0,715.0,800.0],\"type\":\"scatter3d\"},{\"hovertemplate\":\"memType=GDDR5<br>memSize=%{x}<br>memBusWidth=%{y}<br>memClock=%{z}<extra></extra>\",\"legendgroup\":\"GDDR5\",\"marker\":{\"color\":\"#FF6692\",\"symbol\":\"circle\"},\"mode\":\"markers\",\"name\":\"GDDR5\",\"scene\":\"scene\",\"showlegend\":true,\"x\":[2.0,2.0,2.0,2.0,2.0,8.0,3.0,4.0,4.0,4.0,6.0,2.0,2.0,2.0,2.0,4.0,3.75,2.0,4.0,4.0,4.0,4.0,2.0,2.0,2.0,2.0,2.0,8.0,8.0,4.0,4.0,8.0,4.0,4.0,2.0,4.0,4.0,4.0,2.0,2.0,3.0,4.0,4.0,6.0,6.0,10.0,4.0,6.0,6.0,8.0,2.0,16.0,16.0,2.0,4.0,2.0,4.0,4.0,4.0,4.0,2.0,4.0,2.0,2.0,4.0,4.0,4.0,4.0,2.0,8.0,4.0,8.0,8.0,8.0,8.0,8.0,2.0,2.0,2.0,4.0,2.0,5.0,6.0,6.0,8.0,8.0,2.0,2.0,2.0,2.0,3.0,6.0,4.0,4.0,2.0,2.0,4.0,4.0,4.0,5.0,4.0,6.0,2.0,8.0,8.0,8.0,16.0,2.0,4.0,2.0,2.0,2.0,2.0,4.0,2.0,2.0,4.0,4.0,2.0,4.0,4.0,4.0,8.0,16.0,2.0,4.0,4.0,4.0,4.0,8.0,8.0,2.0,2.0,2.0,2.0,2.0,2.0,4.0,4.0,4.0,4.0,4.0,4.0,4.0,8.0,8.0,8.0,8.0,16.0,12.0,8.0,8.0,8.0,2.0,1.024,2.0,4.0,3.0,3.0,6.0,6.0,8.0,8.0,2.0,2.0,4.0,2.0,8.0,8.0,4.0,8.0,8.0,8.0,4.0,4.0,8.0,24.0,4.0,4.0,8.0,8.0,2.0,2.0,4.0,4.0,8.0,8.0,2.0,2.0,4.0,2.0,2.0,4.0,2.0,2.0,4.0,4.0,8.0,2.0,2.0,4.0,4.0,8.0,4.0,8.0,8.0,8.0,8.0,8.0,32.0,1.024,1.024,2.0,2.0,4.0,2.0,4.0,4.0,2.0,1.024,1.024,1.024,1.024,2.0,2.0,2.0,2.0,4.0,3.0,2.0,4.0,4.0,2.0,2.0,8.0,6.0,12.0,1.024,2.0,4.0,8.0,8.0,4.0,2.0,4.0,4.0,8.0,4.0,8.0,8.0,12.0,2.0,2.0,4.0,8.0,1.024,2.0,2.0,2.0,2.0,2.0,2.0,1.024,1.024,1.024,4.0,2.0,2.0,2.0,2.0,2.0,2.0,4.0,4.0,8.0,8.0,8.0,2.0,2.0,4.0,2.0,4.0,4.0,2.0,2.0,4.0,2.0,4.0,4.0,2.0,4.0,2.0,8.0,4.0,4.0,12.0,24.0,8.0,8.0,2.0,3.0,6.0,6.0,2.0,12.0,12.0,16.0,2.0,2.0,4.0,2.0,2.0,8.0,8.0,16.0,1.024,1.024,2.0,1.024,2.0,2.0,2.0,4.0,2.0,3.0,8.0,4.0,6.0,3.0,4.0,8.0,8.0,6.0,6.0,0.512,4.0,4.0,4.0,4.0,4.0,2.0,4.0,8.0,2.0,1.024,1.024,1.024,1.024,2.0,2.0,1.024,3.0,2.0,4.0,4.0,2.0,2.0,2.0,2.0,4.0,2.0,4.0,4.0,8.0,12.0,2.0,1.024,2.0,2.0,2.0,2.0,1.024,0.512,2.0,2.0,2.0,2.0,1.024,1.024,1.024,2.0,2.0,0.512,1.024,2.0,2.0,1.536,3.0,2.0,2.0,2.0,2.0,2.0,2.0,3.0,2.0,3.0,6.0,3.0,3.0,4.0,4.0,6.0,4.0,0.256,1.024,2.0,4.0,1.024,4.0,8.0,2.0,2.0,2.0,2.0,4.0,3.0,4.0,4.0,8.0,1.024,12.0,12.0,1.024,1.024,2.0,1.024,1.024,1.024,3.0,3.0,1.024,1.024,2.0,1.024,1.024,1.024,1.024,2.0,1.024,2.0,2.0,2.0,2.0,2.0,3.0,2.0,3.0,4.0,3.0,2.0,1.024,1.024,2.0,2.0,2.0,1.024,2.0,2.0,3.0,3.0,4.0,4.0,4.0,6.0,3.0,5.0,5.0,12.0,12.0,12.0,12.0,12.0,12.0,8.0,16.0,16.0,1.024,1.024,2.0,3.0,3.0,4.0,6.0,3.0,2.0,2.0,2.0,4.0,4.0,6.0,2.0,2.0,1.024,0.512,1.024,1.024,1.024,2.0,2.0,1.536,2.0,1.024,2.0,1.536,3.0,2.0,2.0,2.0,4.0,2.0,2.0,1.024,6.0,2.0,4.0,4.0,4.0,4.0,1.024,1.024,1.024,1.024,1.024,0.512,1.024,1.024,1.024,2.0,1.024,1.024,2.0,2.0,2.0,2.0,2.0,3.0,3.0,3.0,3.0,2.0,3.0,3.0,2.0,4.0,5.0,6.0,6.0,6.0,8.0,8.0,1.024,2.0,1.024,2.0,2.0,2.0,2.0,1.024,1.024,1.024,1.024,1.28,1.024,2.0,1.024,1.024,1.024,1.28,1.024,1.28,1.28,1.024,1.024,1.536,1.536,1.536,2.0,1.536,1.024,2.0,1.792,2.0,2.5,2.5,4.0,6.0,6.0,0.512,1.024,1.024,1.024,0.512,0.512,0.256,2.0,0.256,1.024,1.024,1.024,0.512,1.024,1.024,0.512,1.024,2.0,1.024,1.024,1.024,1.024,1.024,2.0,1.024,2.0,2.0,1.024,3.0,3.0,6.0,6.0,6.0,3.0,6.0,6.0,6.0,6.0,3.0,6.0,6.0,2.0,1.024,1.024,1.024,1.024,1.024,2.0,2.0,4.0,4.0,2.0,4.0,1.024,1.024,1.024,1.024,1.536,0.512,1.024,0.768,1.024,1.024,0.768,1.536,1.024,1.28,1.536,1.536,2.0,1.28,1.28,1.536,0.512,1.024,1.024,1.024,1.024,1.024,1.024,2.0,1.792,6.0,0.512,0.512,1.024,1.024,0.512,1.024,1.024,1.024,2.0,1.024,1.024,1.024,1.024,2.0,2.0,1.024,1.024,1.024,1.024,1.024,1.024,1.024,1.024,1.024,0.512,0.512,0.512,0.512,0.512,0.512,1.024,1.024,1.024,1.024,1.024,1.024,1.024,2.0,2.0,0.512,1.024,1.024,1.28,1.024,1.536,1.536,6.0,1.024,2.0,4.0,8.0,16.0,3.0],\"y\":[64.0,64.0,64.0,64.0,64.0,256.0,96.0,128.0,128.0,128.0,192.0,64.0,64.0,64.0,64.0,128.0,128.0,64.0,128.0,128.0,128.0,128.0,64.0,64.0,128.0,64.0,128.0,256.0,256.0,256.0,256.0,256.0,128.0,128.0,128.0,128.0,256.0,128.0,64.0,128.0,96.0,128.0,128.0,192.0,192.0,320.0,256.0,192.0,192.0,256.0,64.0,256.0,256.0,128.0,128.0,64.0,64.0,64.0,128.0,128.0,128.0,128.0,128.0,64.0,128.0,128.0,128.0,128.0,128.0,256.0,256.0,256.0,256.0,256.0,256.0,256.0,64.0,128.0,128.0,128.0,128.0,160.0,192.0,192.0,256.0,256.0,64.0,64.0,64.0,64.0,192.0,192.0,128.0,128.0,64.0,128.0,128.0,128.0,128.0,160.0,128.0,192.0,64.0,256.0,256.0,256.0,256.0,128.0,128.0,64.0,64.0,64.0,64.0,128.0,64.0,64.0,128.0,128.0,128.0,128.0,256.0,256.0,256.0,256.0,64.0,128.0,128.0,128.0,128.0,256.0,256.0,128.0,128.0,128.0,128.0,128.0,128.0,128.0,128.0,128.0,128.0,128.0,128.0,256.0,256.0,256.0,256.0,256.0,256.0,384.0,256.0,256.0,256.0,64.0,64.0,128.0,128.0,192.0,192.0,192.0,192.0,256.0,256.0,256.0,128.0,128.0,128.0,256.0,128.0,128.0,128.0,256.0,256.0,128.0,256.0,256.0,384.0,128.0,128.0,256.0,256.0,128.0,128.0,128.0,128.0,256.0,256.0,64.0,64.0,64.0,128.0,128.0,64.0,128.0,128.0,128.0,128.0,256.0,128.0,128.0,128.0,256.0,256.0,256.0,256.0,256.0,256.0,128.0,256.0,512.0,128.0,128.0,128.0,128.0,128.0,128.0,128.0,256.0,64.0,64.0,64.0,128.0,128.0,128.0,128.0,128.0,128.0,128.0,192.0,128.0,128.0,128.0,128.0,128.0,256.0,384.0,384.0,256.0,256.0,256.0,256.0,256.0,128.0,128.0,128.0,256.0,256.0,256.0,256.0,256.0,384.0,128.0,64.0,128.0,256.0,64.0,128.0,128.0,128.0,128.0,128.0,256.0,128.0,128.0,128.0,128.0,256.0,128.0,256.0,256.0,256.0,256.0,256.0,256.0,512.0,512.0,512.0,128.0,128.0,128.0,128.0,128.0,128.0,128.0,128.0,128.0,128.0,128.0,128.0,256.0,256.0,256.0,256.0,256.0,128.0,384.0,384.0,256.0,256.0,256.0,384.0,384.0,384.0,128.0,384.0,512.0,512.0,128.0,128.0,128.0,128.0,128.0,256.0,512.0,512.0,64.0,128.0,192.0,128.0,128.0,256.0,128.0,128.0,128.0,192.0,256.0,256.0,192.0,192.0,256.0,256.0,256.0,384.0,384.0,256.0,256.0,256.0,256.0,256.0,128.0,128.0,256.0,256.0,128.0,128.0,128.0,128.0,128.0,256.0,256.0,128.0,384.0,256.0,512.0,512.0,128.0,128.0,128.0,128.0,256.0,256.0,256.0,256.0,256.0,384.0,128.0,128.0,128.0,128.0,256.0,256.0,64.0,64.0,128.0,128.0,128.0,128.0,128.0,128.0,128.0,192.0,128.0,128.0,256.0,256.0,256.0,192.0,256.0,256.0,256.0,256.0,128.0,128.0,256.0,192.0,256.0,384.0,384.0,384.0,384.0,256.0,256.0,384.0,256.0,256.0,256.0,256.0,256.0,128.0,256.0,256.0,128.0,128.0,128.0,128.0,256.0,192.0,256.0,256.0,256.0,64.0,384.0,384.0,64.0,256.0,128.0,256.0,128.0,128.0,384.0,384.0,64.0,64.0,128.0,64.0,128.0,128.0,128.0,128.0,128.0,128.0,128.0,256.0,256.0,128.0,384.0,128.0,384.0,256.0,384.0,128.0,128.0,128.0,128.0,128.0,128.0,128.0,256.0,256.0,384.0,384.0,512.0,512.0,256.0,384.0,384.0,320.0,320.0,384.0,384.0,384.0,384.0,384.0,384.0,512.0,512.0,512.0,64.0,128.0,128.0,384.0,384.0,256.0,384.0,384.0,256.0,256.0,128.0,256.0,256.0,384.0,128.0,128.0,192.0,128.0,192.0,128.0,128.0,192.0,256.0,192.0,192.0,128.0,256.0,192.0,192.0,256.0,256.0,256.0,256.0,256.0,256.0,64.0,384.0,256.0,256.0,256.0,256.0,256.0,256.0,64.0,64.0,64.0,64.0,128.0,128.0,128.0,128.0,128.0,128.0,128.0,256.0,128.0,256.0,256.0,128.0,384.0,384.0,384.0,384.0,256.0,384.0,384.0,256.0,256.0,320.0,384.0,384.0,384.0,512.0,512.0,128.0,256.0,128.0,256.0,256.0,256.0,256.0,128.0,128.0,128.0,192.0,256.0,256.0,256.0,192.0,192.0,256.0,320.0,256.0,320.0,256.0,256.0,256.0,192.0,192.0,384.0,256.0,384.0,128.0,256.0,256.0,256.0,320.0,320.0,256.0,384.0,384.0,64.0,128.0,128.0,128.0,64.0,64.0,64.0,128.0,64.0,128.0,128.0,128.0,128.0,128.0,128.0,128.0,256.0,256.0,256.0,128.0,256.0,256.0,256.0,256.0,128.0,256.0,256.0,128.0,384.0,384.0,384.0,384.0,384.0,384.0,384.0,384.0,384.0,384.0,384.0,384.0,384.0,256.0,128.0,128.0,128.0,128.0,128.0,256.0,256.0,256.0,256.0,256.0,256.0,128.0,128.0,128.0,128.0,192.0,128.0,256.0,192.0,256.0,256.0,192.0,192.0,256.0,320.0,192.0,384.0,256.0,320.0,320.0,384.0,64.0,128.0,128.0,128.0,128.0,128.0,128.0,256.0,256.0,384.0,256.0,128.0,128.0,128.0,128.0,128.0,128.0,256.0,256.0,256.0,128.0,256.0,256.0,256.0,256.0,128.0,128.0,128.0,128.0,128.0,256.0,128.0,256.0,128.0,128.0,128.0,128.0,128.0,256.0,256.0,256.0,128.0,128.0,256.0,256.0,256.0,256.0,256.0,256.0,256.0,256.0,256.0,320.0,256.0,384.0,384.0,384.0,256.0,256.0,128.0,256.0,256.0,384.0],\"z\":[1502.0,1752.0,1752.0,1752.0,2000.0,2000.0,1752.0,2001.0,1751.0,2001.0,2001.0,1502.0,1502.0,1502.0,1502.0,1502.0,1502.0,1502.0,1250.0,2001.0,1751.0,2001.0,1500.0,1000.0,1750.0,1000.0,1500.0,1250.0,1750.0,1700.0,1700.0,1710.0,1500.0,1000.0,1125.0,1750.0,1750.0,1750.0,1500.0,1250.0,1752.0,1752.0,1752.0,2002.0,2002.0,2002.0,2002.0,1753.0,1753.0,1502.0,1253.0,1804.0,1804.0,1252.0,1502.0,1500.0,1500.0,1500.0,1470.0,1470.0,1500.0,1500.0,1500.0,1500.0,1500.0,1750.0,1450.0,1750.0,1500.0,1750.0,1750.0,2000.0,2000.0,2000.0,2000.0,1200.0,1502.0,1752.0,1752.0,1752.0,1752.0,2002.0,2257.0,2002.0,2002.0,2002.0,1253.0,1253.0,1502.0,1253.0,2002.0,2002.0,1253.0,1377.0,1253.0,1253.0,1253.0,1502.0,1502.0,1752.0,1502.0,1753.0,1002.0,1901.0,1502.0,1502.0,1502.0,1002.0,1253.0,1125.0,1125.0,1125.0,1750.0,1500.0,1500.0,1500.0,1500.0,1500.0,1275.0,1270.0,1695.0,1695.0,1695.0,1750.0,1500.0,1500.0,1500.0,1500.0,1500.0,1250.0,1250.0,1750.0,1500.0,1750.0,1500.0,1500.0,1500.0,1750.0,1750.0,1500.0,1500.0,1710.0,1500.0,1750.0,1650.0,2100.0,2000.0,2000.0,1502.0,1700.0,1250.0,1250.0,1250.0,1253.0,1253.0,1752.0,1752.0,2002.0,2002.0,2002.0,2002.0,2002.0,2002.0,1650.0,1653.0,1253.0,1253.0,1500.0,1300.0,1300.0,1300.0,1700.0,1375.0,1653.0,1253.0,1753.0,1653.0,1750.0,1750.0,1250.0,1750.0,1270.0,1270.0,1270.0,1500.0,1250.0,1750.0,1150.0,1125.0,1000.0,1125.0,1125.0,1000.0,1000.0,1125.0,1500.0,1500.0,1250.0,1625.0,1750.0,1250.0,1650.0,1750.0,1650.0,2000.0,2000.0,2000.0,1300.0,1502.0,1250.0,1000.0,1000.0,1000.0,1000.0,1500.0,1000.0,1375.0,1250.0,1253.0,1253.0,1253.0,1253.0,1253.0,1253.0,1253.0,1653.0,1753.0,1753.0,1253.0,1253.0,1253.0,1253.0,1253.0,1253.0,1753.0,1753.0,1753.0,1253.0,1253.0,1253.0,1253.0,1253.0,1250.0,1253.0,1253.0,1253.0,1502.0,1253.0,1653.0,1253.0,1653.0,1253.0,800.0,1500.0,1500.0,1150.0,1000.0,1150.0,1500.0,1500.0,1500.0,1400.0,900.0,1000.0,1000.0,1150.0,1200.0,1625.0,1400.0,1400.0,1400.0,1375.0,1375.0,1425.0,1500.0,1350.0,1500.0,1125.0,1375.0,1375.0,1500.0,1125.0,1125.0,1125.0,1125.0,1500.0,1568.0,1200.0,1200.0,1365.0,1250.0,1365.0,1250.0,1365.0,1375.0,1502.0,1502.0,1253.0,1253.0,1270.0,1270.0,1370.0,1250.0,1125.0,1375.0,1250.0,1250.0,1000.0,1000.0,1500.0,1125.0,1375.0,1250.0,1250.0,1250.0,1253.0,1253.0,1502.0,1253.0,1350.0,1502.0,1002.0,1253.0,1250.0,1250.0,1250.0,1753.0,1253.0,1253.0,1753.0,1253.0,1253.0,1750.0,1750.0,1250.0,1250.0,1250.0,1250.0,1250.0,1253.0,1253.0,1350.0,1502.0,1125.0,1000.0,1000.0,1125.0,1125.0,1400.0,1400.0,900.0,1250.0,1375.0,1350.0,1250.0,1000.0,1000.0,1000.0,1125.0,1200.0,1365.0,1250.0,1362.0,1250.0,1253.0,1000.0,1000.0,1125.0,1375.0,800.0,800.0,1252.0,1250.0,1000.0,1003.0,1254.0,1350.0,1250.0,1000.0,1250.0,1502.0,1350.0,1250.0,1250.0,1502.0,1502.0,1400.0,1400.0,1502.0,1502.0,1502.0,1002.0,1002.0,1753.0,1002.0,1250.0,1502.0,1502.0,1502.0,1753.0,1250.0,1250.0,1502.0,1250.0,1250.0,1250.0,1250.0,1250.0,1250.0,1250.0,1375.0,700.0,1000.0,1000.0,752.0,800.0,1404.0,800.0,1350.0,900.0,600.0,1502.0,1502.0,650.0,1050.0,900.0,1050.0,1125.0,1500.0,1250.0,1500.0,800.0,1125.0,1150.0,1000.0,1125.0,1125.0,1000.0,1125.0,1500.0,1125.0,1000.0,1400.0,1200.0,1125.0,1250.0,1375.0,1375.0,1200.0,1500.0,1150.0,1150.0,1125.0,1500.0,1625.0,1150.0,1625.0,1400.0,1400.0,1500.0,1500.0,1250.0,1250.0,1200.0,1375.0,1250.0,1300.0,1300.0,1502.0,1502.0,1502.0,1502.0,1502.0,1502.0,1250.0,1375.0,1375.0,800.0,1000.0,1000.0,1250.0,1250.0,1200.0,1375.0,1250.0,800.0,800.0,1000.0,1200.0,1375.0,1375.0,900.0,785.0,957.0,1254.0,957.0,1250.0,1350.0,1502.0,1400.0,1400.0,1502.0,1000.0,1502.0,750.0,700.0,750.0,900.0,1502.0,900.0,1250.0,1502.0,785.0,851.0,700.0,700.0,1350.0,1350.0,750.0,1000.0,900.0,950.0,800.0,800.0,1000.0,1000.0,800.0,1125.0,1000.0,1125.0,1000.0,1200.0,1000.0,1200.0,1500.0,1000.0,1250.0,1250.0,1250.0,1250.0,1000.0,1500.0,1375.0,1200.0,1250.0,1300.0,1300.0,1300.0,1250.0,1250.0,1375.0,900.0,900.0,1000.0,500.0,1000.0,1250.0,1250.0,1000.0,784.0,902.0,1002.0,1002.0,900.0,750.0,1026.0,957.0,1000.0,802.0,1002.0,950.0,950.0,1002.0,1002.0,625.0,750.0,1002.0,750.0,854.0,650.0,625.0,702.0,625.0,750.0,750.0,650.0,747.0,750.0,800.0,800.0,800.0,1000.0,800.0,800.0,794.0,1000.0,600.0,1000.0,1000.0,1150.0,794.0,1200.0,900.0,900.0,1050.0,1050.0,1050.0,1000.0,1200.0,900.0,900.0,900.0,1000.0,1250.0,900.0,1100.0,1375.0,750.0,747.0,783.0,924.0,773.0,783.0,783.0,783.0,924.0,773.0,924.0,924.0,1200.0,800.0,1000.0,900.0,1000.0,1000.0,1000.0,1150.0,1150.0,1150.0,1000.0,1150.0,625.0,800.0,900.0,902.0,1000.0,902.0,900.0,900.0,850.0,850.0,850.0,625.0,802.0,837.0,750.0,924.0,600.0,950.0,950.0,1002.0,800.0,800.0,800.0,1000.0,1000.0,1000.0,650.0,702.0,600.0,747.0,900.0,800.0,800.0,1000.0,1000.0,1195.0,1200.0,1000.0,1200.0,1195.0,900.0,1000.0,1050.0,1250.0,1375.0,846.0,850.0,800.0,900.0,700.0,700.0,1000.0,700.0,550.0,900.0,800.0,800.0,900.0,750.0,850.0,975.0,1150.0,1200.0,1000.0,1200.0,1000.0,850.0,900.0,900.0,900.0,900.0,850.0,837.0,837.0,700.0,854.0,1753.0,1000.0,1375.0,1500.0,1750.0,1750.0,1375.0],\"type\":\"scatter3d\"},{\"hovertemplate\":\"memType=DDR4<br>memSize=%{x}<br>memBusWidth=%{y}<br>memClock=%{z}<extra></extra>\",\"legendgroup\":\"DDR4\",\"marker\":{\"color\":\"#B6E880\",\"symbol\":\"circle\"},\"mode\":\"markers\",\"name\":\"DDR4\",\"scene\":\"scene\",\"showlegend\":true,\"x\":[2.0,4.0,8.0,4.0,2.0,4.0],\"y\":[64.0,128.0,128.0,64.0,64.0,64.0],\"z\":[1050.0,1200.0,1200.0,1600.0,1050.0,1600.0],\"type\":\"scatter3d\"},{\"hovertemplate\":\"memType=DDR3<br>memSize=%{x}<br>memBusWidth=%{y}<br>memClock=%{z}<extra></extra>\",\"legendgroup\":\"DDR3\",\"marker\":{\"color\":\"#FF97FF\",\"symbol\":\"circle\"},\"mode\":\"markers\",\"name\":\"DDR3\",\"scene\":\"scene\",\"showlegend\":true,\"x\":[8.0,2.0,2.0,1.024,2.0,2.0,2.0,2.0,2.0,1.024,2.0,1.024,2.0,2.0,4.0,4.0,4.0,2.0,4.0,2.0,2.0,4.0,2.0,2.0,8.0,2.0,2.0,2.0,2.0,2.0,2.0,2.0,2.0,2.0,2.0,1.024,2.0,2.0,2.0,1.024,2.0,4.0,2.0,2.0,2.0,2.0,1.024,2.0,2.0,1.024,2.0,2.0,2.0,4.0,2.0,2.0,2.0,4.0,2.0,2.0,2.0,1.024,4.0,2.0,2.0,4.0,2.0,2.0,1.024,1.024,1.024,1.024,1.024,1.024,1.024,2.0,1.024,1.024,1.024,2.0,2.0,2.0,2.0,1.024,2.0,2.0,1.024,2.0,1.024,1.024,2.0,1.024,2.0,2.0,4.0,2.0,2.0,0.512,1.024,1.024,1.024,2.0,1.024,1.024,1.024,1.024,4.0,2.0,1.024,4.0,4.0,2.0,1.024,1.024,1.024,2.0,2.0,2.0,2.0,2.0,1.024,1.024,0.512,1.024,1.024,1.024,2.0,1.024,1.024,2.0,1.024,1.024,2.0,2.0,1.024,1.024,2.0,2.0,2.0,2.0,2.0,2.0,2.0,2.0,2.0,1.024,4.0,0.256,1.024,1.024,1.024,1.024,2.0,1.024,1.024,1.024,1.024,1.024,1.024,1.024,1.024,1.024,1.024,1.024,2.0,1.024,2.0,2.0,1.024,1.024,1.024,1.024,2.0,2.0,2.0,2.0,1.024,1.024,2.0,8.0,0.512,1.024,1.024,1.024,1.024,2.0,1.024,1.024,0.512,0.512,1.024,0.512,1.024,1.024,2.0,1.024,1.024,1.024,1.024,2.0,2.0,1.024,1.024,2.0,2.0,1.536,2.0,1.024,2.0,1.024,1.024,0.512,2.0,1.024,0.512,2.0,2.0,1.024,1.024,1.024,1.024,1.024,1.024,1.024,1.024,1.024,1.024,1.024,1.024,1.024,1.024,1.024,1.024,1.024,2.0,2.0,1.024,0.512,1.024,1.024,1.024,1.024,1.024,1.024,1.024,1.024,1.024,1.024,1.024,1.024,1.024,1.024,1.024,1.024,1.024,1.536,1.024,1.536,1.024,1.024,0.512,1.024,2.0,2.0,0.512,1.024,0.512,1.024,0.512,1.024,0.512,1.024,1.024,1.024,1.024,1.024,1.024,1.024,0.512,0.512,1.024,0.512,0.512,0.512,0.512,1.024,1.024,0.512,0.512,1.024,0.512,1.024,0.512,2.0,0.512,2.0,1.536,3.0,1.024,0.512,1.024,1.024,1.024,0.256,0.256,0.512,1.024,0.512,0.064,0.512,0.512,0.512,2.0],\"y\":[256.0,64.0,64.0,128.0,64.0,64.0,64.0,64.0,64.0,64.0,64.0,64.0,64.0,64.0,64.0,64.0,64.0,64.0,64.0,128.0,64.0,64.0,64.0,64.0,256.0,128.0,64.0,128.0,64.0,64.0,64.0,64.0,64.0,64.0,64.0,64.0,64.0,64.0,128.0,64.0,128.0,128.0,128.0,64.0,64.0,64.0,64.0,64.0,64.0,64.0,64.0,64.0,64.0,64.0,64.0,64.0,128.0,128.0,64.0,128.0,64.0,64.0,64.0,64.0,64.0,128.0,128.0,128.0,64.0,64.0,64.0,64.0,64.0,64.0,64.0,64.0,64.0,64.0,64.0,64.0,64.0,64.0,64.0,64.0,64.0,64.0,64.0,64.0,64.0,64.0,128.0,128.0,64.0,64.0,128.0,128.0,128.0,128.0,64.0,64.0,128.0,128.0,64.0,64.0,64.0,64.0,64.0,128.0,64.0,64.0,64.0,64.0,64.0,64.0,64.0,128.0,64.0,64.0,128.0,128.0,128.0,128.0,64.0,64.0,64.0,64.0,64.0,64.0,64.0,64.0,64.0,64.0,64.0,64.0,64.0,64.0,64.0,64.0,128.0,64.0,64.0,64.0,128.0,128.0,128.0,64.0,128.0,128.0,128.0,128.0,128.0,64.0,256.0,128.0,64.0,64.0,64.0,64.0,64.0,64.0,64.0,64.0,64.0,128.0,128.0,64.0,128.0,128.0,64.0,64.0,64.0,64.0,64.0,64.0,128.0,128.0,128.0,128.0,128.0,256.0,64.0,128.0,64.0,64.0,64.0,128.0,64.0,64.0,64.0,64.0,64.0,64.0,64.0,128.0,64.0,128.0,128.0,64.0,64.0,128.0,128.0,64.0,128.0,128.0,128.0,192.0,128.0,128.0,128.0,128.0,128.0,64.0,128.0,64.0,64.0,128.0,128.0,64.0,64.0,64.0,64.0,64.0,64.0,64.0,64.0,64.0,64.0,128.0,64.0,128.0,128.0,128.0,128.0,128.0,128.0,64.0,64.0,64.0,64.0,64.0,64.0,64.0,64.0,128.0,128.0,128.0,64.0,64.0,64.0,64.0,64.0,64.0,128.0,128.0,128.0,192.0,128.0,192.0,128.0,128.0,64.0,64.0,128.0,128.0,64.0,128.0,64.0,64.0,64.0,64.0,64.0,128.0,128.0,128.0,128.0,128.0,128.0,128.0,256.0,64.0,64.0,64.0,64.0,64.0,64.0,128.0,128.0,128.0,128.0,128.0,128.0,128.0,64.0,128.0,64.0,128.0,192.0,192.0,128.0,64.0,128.0,128.0,128.0,64.0,64.0,64.0,64.0,64.0,128.0,64.0,64.0,64.0,128.0],\"z\":[1066.0,900.0,900.0,891.0,1000.0,900.0,900.0,900.0,1001.0,1001.0,500.0,898.0,900.0,1000.0,1000.0,900.0,1000.0,1125.0,1000.0,900.0,1000.0,900.0,900.0,900.0,1066.0,901.0,900.0,901.0,1001.0,1001.0,1001.0,900.0,1001.0,900.0,1001.0,1001.0,900.0,900.0,900.0,900.0,1001.0,900.0,900.0,900.0,900.0,805.0,900.0,900.0,1000.0,1000.0,900.0,900.0,900.0,1000.0,900.0,900.0,900.0,1000.0,900.0,900.0,1000.0,1000.0,1000.0,900.0,900.0,1000.0,900.0,900.0,900.0,900.0,1000.0,900.0,900.0,900.0,1001.0,900.0,900.0,900.0,900.0,900.0,900.0,1001.0,1001.0,825.0,900.0,900.0,800.0,900.0,800.0,1001.0,800.0,900.0,1001.0,900.0,900.0,900.0,1001.0,891.0,800.0,800.0,891.0,900.0,900.0,900.0,667.0,900.0,1000.0,900.0,900.0,1000.0,1000.0,900.0,900.0,900.0,900.0,900.0,900.0,900.0,900.0,900.0,1000.0,700.0,600.0,900.0,900.0,900.0,900.0,900.0,900.0,800.0,900.0,825.0,900.0,900.0,900.0,900.0,800.0,800.0,900.0,900.0,900.0,900.0,901.0,900.0,900.0,900.0,891.0,891.0,891.0,891.0,891.0,875.0,891.0,891.0,667.0,667.0,900.0,1000.0,1000.0,1000.0,1000.0,900.0,1000.0,1000.0,900.0,1000.0,1000.0,1000.0,533.0,667.0,900.0,900.0,900.0,900.0,900.0,900.0,900.0,900.0,1000.0,1066.0,897.0,900.0,900.0,667.0,500.0,900.0,898.0,500.0,667.0,500.0,900.0,898.0,900.0,900.0,900.0,900.0,891.0,900.0,900.0,900.0,900.0,900.0,900.0,891.0,891.0,800.0,900.0,900.0,900.0,900.0,700.0,875.0,891.0,900.0,891.0,900.0,900.0,800.0,800.0,900.0,800.0,800.0,900.0,800.0,900.0,800.0,900.0,900.0,900.0,800.0,900.0,800.0,800.0,900.0,900.0,800.0,600.0,800.0,898.0,900.0,900.0,800.0,900.0,800.0,900.0,667.0,900.0,900.0,900.0,800.0,800.0,900.0,900.0,900.0,900.0,800.0,900.0,900.0,900.0,900.0,790.0,800.0,900.0,900.0,770.0,900.0,800.0,800.0,533.0,800.0,800.0,800.0,800.0,800.0,900.0,800.0,800.0,900.0,500.0,900.0,667.0,790.0,790.0,800.0,790.0,790.0,700.0,333.0,800.0,900.0,800.0,800.0,800.0,800.0,600.0,800.0,900.0,800.0,800.0,500.0,900.0,900.0,900.0,400.0,400.0,400.0,400.0,790.0,203.0,400.0,650.0,500.0,891.0],\"type\":\"scatter3d\"},{\"hovertemplate\":\"memType=LPDDR4X<br>memSize=%{x}<br>memBusWidth=%{y}<br>memClock=%{z}<extra></extra>\",\"legendgroup\":\"LPDDR4X\",\"marker\":{\"color\":\"#FECB52\",\"symbol\":\"circle\"},\"mode\":\"markers\",\"name\":\"LPDDR4X\",\"scene\":\"scene\",\"showlegend\":true,\"x\":[8.0,4.0,4.0,8.0],\"y\":[128.0,128.0,128.0,128.0],\"z\":[2133.0,2133.0,2133.0,2133.0],\"type\":\"scatter3d\"},{\"hovertemplate\":\"memType=GDDR5X<br>memSize=%{x}<br>memBusWidth=%{y}<br>memClock=%{z}<extra></extra>\",\"legendgroup\":\"GDDR5X\",\"marker\":{\"color\":\"#636efa\",\"symbol\":\"circle\"},\"mode\":\"markers\",\"name\":\"GDDR5X\",\"scene\":\"scene\",\"showlegend\":true,\"x\":[5.0,6.0,8.0,5.0,8.0,8.0,11.0,4.0,12.0,8.0,8.0,16.0,24.0,24.0,24.0,12.0,8.0,10.0],\"y\":[160.0,192.0,256.0,320.0,256.0,256.0,352.0,256.0,384.0,256.0,256.0,256.0,384.0,384.0,384.0,384.0,256.0,320.0],\"z\":[1251.0,1001.0,1001.0,1376.0,1376.0,1251.0,1376.0,1251.0,1426.0,1251.0,1251.0,1127.0,1127.0,1808.0,1808.0,1251.0,1001.0,1376.0],\"type\":\"scatter3d\"},{\"hovertemplate\":\"memType=HBM<br>memSize=%{x}<br>memBusWidth=%{y}<br>memClock=%{z}<extra></extra>\",\"legendgroup\":\"HBM\",\"marker\":{\"color\":\"#EF553B\",\"symbol\":\"circle\"},\"mode\":\"markers\",\"name\":\"HBM\",\"scene\":\"scene\",\"showlegend\":true,\"x\":[4.0,4.0,4.0,4.0,4.0,4.0,4.0],\"y\":[4096.0,4096.0,4096.0,4096.0,4096.0,4096.0,4096.0],\"z\":[500.0,500.0,500.0,500.0,500.0,500.0,500.0],\"type\":\"scatter3d\"},{\"hovertemplate\":\"memType=GDDR3<br>memSize=%{x}<br>memBusWidth=%{y}<br>memClock=%{z}<extra></extra>\",\"legendgroup\":\"GDDR3\",\"marker\":{\"color\":\"#00cc96\",\"symbol\":\"circle\"},\"mode\":\"markers\",\"name\":\"GDDR3\",\"scene\":\"scene\",\"showlegend\":true,\"x\":[0.256,1.024,2.0,1.024,1.024,1.024,1.024,1.024,2.0,1.024,0.512,1.024,1.024,1.024,2.0,0.256,0.512,1.024,0.512,0.512,0.512,0.512,0.512,1.024,1.024,1.024,1.024,0.512,0.512,0.512,0.512,0.512,1.024,1.024,1.024,1.024,1.024,0.512,1.024,0.512,0.512,1.024,1.024,1.024,2.0,1.024,1.024,1.024,1.024,1.024,1.024,1.024,0.512,0.512,0.512,0.512,0.512,1.024,1.024,1.024,0.512,1.024,0.512,1.024,1.024,0.896,1.024,0.512,1.024,1.024,0.512,0.512,1.024,1.024,1.024,0.512,1.024,1.024,1.024,1.024,0.512,1.024,1.024,0.512,0.512,1.024,0.512,1.024,1.024,1.024,1.024,1.024,1.024,0.512,0.512,1.024,0.512,0.512,0.512,0.256,1.024,0.512,0.512,1.024,1.024,0.512,0.512,0.512,1.024,1.024,0.512,1.024,1.024,1.024,1.024,1.024,1.024,1.792,1.024,0.896,1.024,1.024,0.896,0.256,0.512,0.512,0.512,0.512,0.512,0.256,1.024,0.512,0.512,0.768,1.024,0.256,0.512,1.024,0.512,0.256,0.256,0.512,0.512,0.512,1.024,1.024,4.0,4.0,0.256,0.256,0.512,1.024,0.384,0.512,0.512,0.256,0.256,0.256,0.512,0.512,0.512,0.512,0.512,0.512,0.384,0.512,0.512,0.512,1.024,0.512,0.512,0.512,1.024,0.512,0.512,0.512,0.512,0.512,0.512,0.512,0.512,0.512,1.024,0.512,1.024,0.512,0.256,0.512,0.896,0.896,0.896,0.896,1.024,1.024,0.512,0.512,0.256,0.512,0.512,0.512,0.512,0.256,1.536,0.512,0.512,0.512,0.512,0.512,0.512,1.024,0.256,1.024,1.024,1.536,1.536,4.0,0.512,0.256,0.256,0.256,0.512,1.536,1.024,1.536,4.0,4.0,0.512,0.256,0.256,0.256,0.256,0.512,0.256,0.512,0.512,0.512,0.256,0.512,0.512,1.024,0.512,0.512,0.512,2.0,4.0,4.0,0.512,0.512,2.0,0.256,0.512,0.256,0.512,0.256,0.512,0.128,0.256,0.512,0.512,0.512,0.512,0.512,0.32,0.512,0.64,0.768,0.512,0.512,0.256,0.256,0.128,0.256,0.256,0.256,0.128,0.256,0.128,0.512,0.512,0.768,0.768,1.536,1.536,0.512,0.256,0.512,0.512,0.128,0.256,0.256,0.256,0.512,0.256,0.512,0.512,0.512,0.256,0.128,0.256,0.256,0.256,0.512,0.128,0.256,0.256,1.536,1.536,1.536,0.512,0.256,0.128,0.256,0.256,0.256,0.512,0.512,0.256,0.512,0.512,0.256,0.256,0.256,0.256,0.512,0.512,0.512,0.512,0.512,0.64,0.768,0.064,0.064,0.064,0.128,0.128,0.128,0.256,0.256,0.512,0.256,0.512,0.512,0.256,0.512,0.256,0.256,0.256,0.256,0.256,0.256,0.256,0.512,0.256,0.256,0.512,0.512,0.128,1.024,0.512,0.128,0.256,0.128,0.256,0.256,0.256,0.256,0.256,0.512,0.256,0.256,0.256,0.512,0.256,0.256,0.256,0.512,0.256,0.512,0.256,0.256,0.256,1.024,0.064,0.256,0.256,0.256,0.256,0.128,0.128,0.256,0.512,1.024,0.128,0.256,0.256,0.256,0.256,0.256,0.256,0.256,0.512,0.256,0.512,0.128,0.256,0.512,0.256,0.512,0.512,0.512,0.256,0.256,0.512,0.256,0.512,0.128,0.256,0.256,0.256,0.256,0.256,0.256,0.256,0.256,0.256,0.512,0.128,0.256,0.128,0.256,0.256,0.128,0.128,0.128,0.128,0.128,0.256,0.256,0.256,0.256,0.256,0.256,0.256,0.256,0.256,0.256,0.256,0.256,0.256,0.256,0.128,0.128,0.128,0.256,0.256,0.256,0.256,0.256,0.256,0.256,0.256,0.256,0.256,0.256,0.256,0.256,0.512,0.256,0.512,0.256,0.256],\"y\":[128.0,128.0,128.0,128.0,128.0,128.0,128.0,128.0,128.0,128.0,128.0,128.0,128.0,128.0,128.0,128.0,64.0,64.0,64.0,64.0,64.0,64.0,64.0,128.0,128.0,128.0,128.0,64.0,64.0,64.0,64.0,128.0,128.0,64.0,128.0,128.0,128.0,64.0,64.0,64.0,64.0,128.0,128.0,128.0,128.0,128.0,128.0,128.0,128.0,128.0,128.0,64.0,256.0,256.0,64.0,64.0,128.0,128.0,128.0,256.0,128.0,128.0,128.0,128.0,128.0,448.0,256.0,64.0,64.0,128.0,64.0,64.0,64.0,64.0,64.0,64.0,128.0,128.0,128.0,128.0,128.0,128.0,128.0,64.0,64.0,128.0,64.0,128.0,128.0,128.0,64.0,64.0,64.0,128.0,128.0,128.0,256.0,256.0,64.0,64.0,64.0,64.0,128.0,128.0,256.0,128.0,128.0,256.0,128.0,128.0,128.0,256.0,256.0,256.0,256.0,256.0,256.0,448.0,256.0,448.0,256.0,512.0,448.0,128.0,64.0,64.0,64.0,64.0,128.0,128.0,256.0,256.0,256.0,192.0,256.0,128.0,64.0,256.0,128.0,64.0,64.0,128.0,128.0,128.0,128.0,128.0,512.0,512.0,64.0,128.0,128.0,256.0,192.0,256.0,256.0,64.0,64.0,64.0,128.0,128.0,128.0,128.0,128.0,128.0,192.0,256.0,256.0,256.0,128.0,128.0,128.0,128.0,128.0,128.0,256.0,256.0,256.0,256.0,256.0,256.0,256.0,256.0,256.0,256.0,256.0,256.0,128.0,192.0,448.0,448.0,448.0,448.0,512.0,512.0,128.0,128.0,128.0,256.0,256.0,256.0,256.0,128.0,384.0,128.0,128.0,256.0,256.0,256.0,256.0,256.0,64.0,256.0,256.0,384.0,384.0,512.0,128.0,64.0,64.0,64.0,256.0,384.0,256.0,384.0,512.0,512.0,256.0,128.0,64.0,128.0,128.0,128.0,128.0,256.0,256.0,256.0,128.0,128.0,128.0,128.0,256.0,256.0,256.0,512.0,512.0,512.0,128.0,256.0,256.0,128.0,256.0,64.0,128.0,128.0,128.0,128.0,128.0,128.0,128.0,128.0,128.0,256.0,320.0,256.0,320.0,384.0,256.0,256.0,128.0,128.0,64.0,128.0,128.0,128.0,128.0,256.0,64.0,128.0,256.0,384.0,384.0,384.0,384.0,128.0,64.0,64.0,128.0,64.0,64.0,128.0,128.0,128.0,256.0,256.0,512.0,256.0,128.0,128.0,128.0,256.0,256.0,256.0,128.0,256.0,256.0,384.0,384.0,384.0,128.0,256.0,128.0,128.0,128.0,128.0,256.0,256.0,256.0,256.0,256.0,256.0,256.0,256.0,256.0,256.0,256.0,256.0,256.0,256.0,320.0,384.0,32.0,64.0,64.0,32.0,64.0,64.0,128.0,128.0,128.0,256.0,256.0,256.0,256.0,256.0,128.0,128.0,128.0,256.0,256.0,128.0,256.0,256.0,256.0,128.0,256.0,256.0,128.0,256.0,128.0,128.0,128.0,128.0,128.0,128.0,128.0,128.0,128.0,128.0,128.0,256.0,256.0,256.0,256.0,256.0,256.0,256.0,256.0,256.0,256.0,256.0,256.0,256.0,64.0,256.0,256.0,256.0,256.0,128.0,128.0,256.0,256.0,256.0,128.0,256.0,256.0,256.0,256.0,256.0,256.0,256.0,256.0,256.0,256.0,128.0,256.0,256.0,256.0,256.0,256.0,256.0,128.0,128.0,256.0,256.0,256.0,128.0,256.0,256.0,256.0,256.0,256.0,256.0,256.0,256.0,256.0,128.0,128.0,256.0,128.0,256.0,256.0,128.0,128.0,128.0,128.0,128.0,256.0,256.0,256.0,256.0,256.0,256.0,256.0,256.0,256.0,256.0,256.0,256.0,256.0,256.0,128.0,128.0,128.0,256.0,256.0,256.0,256.0,256.0,256.0,256.0,256.0,256.0,256.0,256.0,256.0,256.0,512.0,256.0,256.0,128.0,128.0],\"z\":[650.0,800.0,667.0,667.0,800.0,800.0,500.0,800.0,900.0,800.0,700.0,900.0,850.0,800.0,900.0,650.0,400.0,500.0,800.0,500.0,533.0,800.0,800.0,800.0,800.0,900.0,800.0,600.0,600.0,800.0,800.0,693.0,667.0,600.0,500.0,390.0,1000.0,500.0,800.0,400.0,533.0,500.0,667.0,600.0,800.0,500.0,900.0,800.0,800.0,800.0,800.0,900.0,800.0,800.0,700.0,800.0,800.0,700.0,790.0,800.0,1000.0,800.0,790.0,800.0,850.0,1134.0,1000.0,700.0,900.0,900.0,600.0,800.0,800.0,800.0,667.0,800.0,600.0,800.0,800.0,800.0,795.0,800.0,800.0,790.0,790.0,800.0,790.0,790.0,800.0,667.0,800.0,800.0,800.0,700.0,800.0,900.0,700.0,1100.0,700.0,700.0,700.0,800.0,800.0,800.0,900.0,700.0,800.0,900.0,800.0,800.0,800.0,1000.0,800.0,800.0,1100.0,1000.0,1008.0,1008.0,950.0,1134.0,950.0,1242.0,999.0,800.0,600.0,600.0,700.0,800.0,800.0,790.0,850.0,850.0,888.0,800.0,1000.0,700.0,800.0,800.0,800.0,695.0,700.0,700.0,700.0,700.0,800.0,800.0,800.0,800.0,950.0,700.0,900.0,993.0,800.0,799.0,900.0,700.0,600.0,700.0,400.0,1000.0,900.0,800.0,800.0,700.0,800.0,900.0,900.0,700.0,800.0,800.0,792.0,800.0,800.0,800.0,800.0,900.0,900.0,1000.0,1100.0,1000.0,800.0,800.0,800.0,800.0,800.0,799.0,792.0,792.0,999.0,999.0,999.0,999.0,1107.0,1242.0,700.0,700.0,800.0,750.0,750.0,850.0,850.0,650.0,800.0,650.0,800.0,799.0,800.0,799.0,800.0,800.0,600.0,1000.0,800.0,800.0,800.0,800.0,800.0,700.0,700.0,700.0,525.0,800.0,800.0,800.0,800.0,800.0,800.0,800.0,950.0,800.0,830.0,693.0,828.0,828.0,828.0,901.0,700.0,1000.0,700.0,800.0,900.0,993.0,995.0,800.0,800.0,800.0,700.0,800.0,800.0,700.0,600.0,400.0,600.0,400.0,700.0,750.0,1000.0,1008.0,700.0,635.0,800.0,900.0,792.0,820.0,800.0,1080.0,800.0,800.0,350.0,400.0,800.0,750.0,685.0,700.0,396.0,480.0,446.0,800.0,600.0,700.0,700.0,800.0,800.0,700.0,594.0,600.0,700.0,700.0,500.0,700.0,800.0,800.0,800.0,800.0,828.0,830.0,390.0,400.0,695.0,600.0,600.0,690.0,300.0,493.0,490.0,800.0,800.0,800.0,700.0,477.0,500.0,725.0,700.0,700.0,625.0,625.0,600.0,625.0,625.0,600.0,660.0,660.0,660.0,660.0,800.0,600.0,700.0,600.0,792.0,900.0,350.0,350.0,350.0,450.0,450.0,450.0,350.0,600.0,500.0,550.0,500.0,600.0,333.0,700.0,475.0,470.0,400.0,500.0,650.0,650.0,625.0,500.0,660.0,450.0,525.0,605.0,400.0,505.0,500.0,600.0,700.0,250.0,600.0,400.0,700.0,700.0,700.0,680.0,700.0,495.0,500.0,725.0,600.0,600.0,725.0,775.0,690.0,690.0,900.0,703.0,540.0,648.0,243.0,500.0,400.0,400.0,490.0,500.0,700.0,650.0,648.0,650.0,200.0,500.0,500.0,600.0,500.0,500.0,500.0,600.0,800.0,600.0,550.0,425.0,550.0,600.0,500.0,525.0,525.0,525.0,390.0,690.0,700.0,500.0,700.0,450.0,500.0,493.0,400.0,490.0,490.0,490.0,500.0,540.0,590.0,700.0,492.0,500.0,430.0,475.0,454.0,500.0,475.0,560.0,400.0,550.0,500.0,500.0,500.0,500.0,500.0,550.0,550.0,550.0,550.0,425.0,400.0,450.0,500.0,500.0,250.0,430.0,525.0,450.0,450.0,398.0,490.0,500.0,500.0,500.0,500.0,560.0,560.0,520.0,540.0,590.0,828.0,600.0,850.0,690.0,450.0],\"type\":\"scatter3d\"},{\"hovertemplate\":\"memType=GDDR4<br>memSize=%{x}<br>memBusWidth=%{y}<br>memClock=%{z}<extra></extra>\",\"legendgroup\":\"GDDR4\",\"marker\":{\"color\":\"#ab63fa\",\"symbol\":\"circle\"},\"mode\":\"markers\",\"name\":\"GDDR4\",\"scene\":\"scene\",\"showlegend\":true,\"x\":[1.024,0.512,0.512,0.512,1.024,2.0,0.256,0.512,0.512,0.512,0.512,0.512,0.512],\"y\":[128.0,256.0,128.0,256.0,512.0,512.0,128.0,256.0,256.0,256.0,256.0,256.0,256.0],\"z\":[1050.0,1126.0,1100.0,1126.0,868.0,868.0,1100.0,1126.0,1050.0,1000.0,1000.0,1126.0,1126.0],\"type\":\"scatter3d\"},{\"hovertemplate\":\"memType=DDR2<br>memSize=%{x}<br>memBusWidth=%{y}<br>memClock=%{z}<extra></extra>\",\"legendgroup\":\"DDR2\",\"marker\":{\"color\":\"#FFA15A\",\"symbol\":\"circle\"},\"mode\":\"markers\",\"name\":\"DDR2\",\"scene\":\"scene\",\"showlegend\":true,\"x\":[0.128,0.256,0.256,0.512,0.512,1.024,1.024,1.024,0.512,0.512,0.256,0.512,0.512,0.512,0.512,0.512,1.024,0.512,0.512,0.256,0.512,0.512,0.128,0.512,1.024,0.512,0.512,1.536,0.512,0.256,0.512,0.512,0.512,1.024,0.512,0.256,0.256,0.256,0.256,0.256,0.128,0.256,0.512,0.256,0.512,0.128,0.256,0.512,0.512,0.768,1.024,0.256,0.256,0.256,0.256,0.256,0.256,0.512,0.512,0.512,0.512,0.512,0.512,0.512,0.256,1.024,0.512,1.024,0.256,0.256,0.256,0.128,0.256,0.256,0.512,0.512,0.256,0.512,0.512,0.512,0.128,0.256,0.256,0.256,0.064,0.256,0.256,0.512,0.256,0.256,0.256,0.256,0.256,0.256,0.256,0.256,0.512,0.256,0.512,0.256,0.256,0.512,0.256,0.256,0.128,0.256,0.256,0.512,0.256,0.256,0.256,0.256,0.512,0.128,0.128,0.256,0.256,0.128,0.128,0.128,0.256,0.128,0.064,0.256,0.256,0.256,0.256,0.064,0.128,0.128,0.128,0.128,0.128,0.128,1.024,0.512,0.128,0.128,0.256,0.256,0.128,0.256,0.256,0.064,0.128,0.256,0.128,0.256,0.512,0.512,0.128,0.128,0.064,0.256,0.256,0.128,0.128,0.256,0.128,0.256,0.256,0.256,0.256],\"y\":[64.0,64.0,64.0,64.0,64.0,128.0,128.0,128.0,64.0,128.0,128.0,64.0,128.0,64.0,64.0,64.0,64.0,64.0,64.0,64.0,64.0,64.0,64.0,128.0,128.0,192.0,128.0,192.0,128.0,64.0,128.0,64.0,64.0,128.0,128.0,64.0,64.0,64.0,64.0,64.0,64.0,64.0,64.0,64.0,128.0,64.0,128.0,128.0,128.0,192.0,256.0,64.0,64.0,64.0,64.0,64.0,64.0,64.0,64.0,64.0,128.0,128.0,64.0,64.0,64.0,64.0,128.0,256.0,128.0,128.0,128.0,64.0,64.0,64.0,64.0,64.0,64.0,128.0,128.0,128.0,128.0,64.0,64.0,128.0,64.0,32.0,128.0,256.0,64.0,64.0,128.0,64.0,64.0,64.0,64.0,64.0,64.0,128.0,128.0,128.0,64.0,64.0,128.0,128.0,64.0,64.0,64.0,128.0,64.0,128.0,128.0,128.0,128.0,64.0,64.0,64.0,64.0,128.0,128.0,64.0,64.0,64.0,64.0,128.0,128.0,128.0,128.0,256.0,128.0,64.0,64.0,128.0,128.0,64.0,256.0,64.0,64.0,64.0,128.0,128.0,64.0,64.0,64.0,32.0,128.0,128.0,64.0,128.0,128.0,64.0,128.0,128.0,64.0,256.0,256.0,128.0,128.0,256.0,128.0,128.0,128.0,128.0,128.0],\"z\":[600.0,350.0,333.0,400.0,667.0,500.0,500.0,400.0,400.0,400.0,510.0,495.0,400.0,400.0,333.0,400.0,400.0,400.0,333.0,400.0,500.0,504.0,400.0,504.0,500.0,500.0,1000.0,500.0,600.0,396.0,396.0,396.0,400.0,396.0,594.0,500.0,500.0,500.0,200.0,200.0,400.0,400.0,333.0,400.0,400.0,600.0,400.0,504.0,500.0,1000.0,266.0,400.0,400.0,400.0,400.0,500.0,495.0,500.0,400.0,396.0,500.0,396.0,400.0,400.0,655.0,500.0,400.0,396.0,500.0,400.0,400.0,400.0,500.0,400.0,333.0,400.0,400.0,400.0,400.0,400.0,400.0,400.0,400.0,400.0,392.0,378.0,400.0,400.0,600.0,500.0,400.0,700.0,400.0,400.0,400.0,400.0,400.0,500.0,396.0,405.0,500.0,500.0,400.0,400.0,333.0,330.0,266.0,400.0,392.0,400.0,400.0,392.0,500.0,266.0,334.0,266.0,266.0,325.0,325.0,324.0,266.0,400.0,405.0,400.0,400.0,400.0,400.0,200.0,250.0,392.0,324.0,250.0,450.0,405.0,505.0,700.0,300.0,333.0,400.0,400.0,400.0,400.0,266.0,266.0,266.0,266.0,250.0,250.0,275.0,300.0,250.0,325.0,200.0,350.0,344.0,300.0,400.0,500.0,500.0,450.0,500.0,450.0,500.0],\"type\":\"scatter3d\"},{\"hovertemplate\":\"memType=CDRAM<br>memSize=%{x}<br>memBusWidth=%{y}<br>memClock=%{z}<extra></extra>\",\"legendgroup\":\"CDRAM\",\"marker\":{\"color\":\"#19d3f3\",\"symbol\":\"circle\"},\"mode\":\"markers\",\"name\":\"CDRAM\",\"scene\":\"scene\",\"showlegend\":true,\"x\":[0.128],\"y\":[64.0],\"z\":[400.0],\"type\":\"scatter3d\"},{\"hovertemplate\":\"memType=DDR<br>memSize=%{x}<br>memBusWidth=%{y}<br>memClock=%{z}<extra></extra>\",\"legendgroup\":\"DDR\",\"marker\":{\"color\":\"#FF6692\",\"symbol\":\"circle\"},\"mode\":\"markers\",\"name\":\"DDR\",\"scene\":\"scene\",\"showlegend\":true,\"x\":[0.128,0.128,0.128,0.128,0.128,0.128,0.064,0.032,0.032,0.032,0.128,0.512,0.128,0.256,0.128,0.256,0.256,0.128,0.128,0.128,0.128,0.128,0.256,0.256,0.256,0.128,0.064,0.256,0.128,0.128,0.128,0.128,0.128,0.256,0.064,0.064,0.064,0.128,0.256,0.128,0.256,0.064,0.128,0.128,0.256,0.128,0.128,0.128,0.128,0.128,0.128,0.128,0.128,0.128,0.128,0.128,0.128,0.256,0.064,0.064,0.256,0.128,0.256,0.256,0.128,0.128,0.128,0.064,0.256,0.128,0.128,0.128,0.064,0.128,0.128,0.128,0.128,0.016,0.128,0.064,0.128,0.128,0.128,0.064,0.128,0.256,0.128,0.064,0.128,0.256,0.256,0.128,0.128,0.256,0.128,0.128,0.128,0.128,0.128,0.128,0.064,0.064,0.064,0.032,0.032,0.064,0.064,0.128,0.128,0.256,0.064,0.064,0.064,0.256,0.128,0.128,0.128,0.128,0.128,0.128,0.128,0.128,0.256,0.128,0.256,0.064,0.128,0.128,0.128,0.128,0.128,0.128,0.064,0.128,0.064,0.128,0.128,0.128,0.256,0.128,0.128,0.128,0.128,0.128,0.128,0.064,0.128,0.128,0.256,0.128,0.128,0.256,0.032,0.032,0.032,0.032,0.064,0.032,0.064,0.064,0.064,0.064,0.128,0.128,0.128,0.128,0.128,0.128,0.128,0.128,0.128,0.016,0.016,0.032,0.032,0.256,0.256,0.256,0.256,0.256,0.256,0.256,0.128,0.128,0.064,0.064,0.064,0.064,0.064,0.064,0.064,0.128,0.064,0.128,0.128,0.064,0.064,0.064,0.064,0.064,0.064,0.128,0.064,0.128,0.128,0.128,0.256,0.128,0.128,0.128,0.128,0.256,0.128,0.256,0.256,0.128,0.128,0.256,0.256,0.256,0.256,0.128,0.064,0.064,0.128,0.128,0.256,0.256,0.016,0.032,0.064,0.064,0.064,0.064,0.064,0.064,0.064,0.064,0.032,0.064,0.064,0.064,0.064,0.064,0.064,0.128,0.128,0.128,0.128,0.032,0.032,0.064,0.064,0.064,0.032,0.032,0.128,0.128,0.256,0.128,0.064,0.064,0.064,0.128,0.128,0.128,0.032,0.064,0.064,0.064,0.128,0.128,0.128,0.128,0.128,0.128,0.064,0.128,0.064,0.128,0.016,0.032,0.032,0.064,0.064,0.064,0.064,0.032,0.032,0.064,0.032,0.032,0.016,0.032,0.064,0.032,0.032,0.064,0.064,0.064,0.064,0.064,0.064,0.032,0.032,0.032,0.064,0.032,0.064,0.128,0.064,0.064,0.032,0.032,0.064,0.064,0.032,0.032,0.032,0.064,0.032,0.032,0.032,0.016,0.016,0.016,0.032,0.032,0.064,0.128,0.064,0.064,0.064,0.016,0.016,0.032],\"y\":[128.0,64.0,128.0,64.0,256.0,64.0,64.0,64.0,64.0,64.0,128.0,64.0,128.0,128.0,64.0,128.0,128.0,64.0,64.0,64.0,128.0,128.0,256.0,128.0,256.0,128.0,64.0,128.0,128.0,128.0,64.0,128.0,128.0,256.0,64.0,64.0,64.0,128.0,128.0,128.0,128.0,64.0,128.0,128.0,128.0,128.0,64.0,256.0,256.0,64.0,128.0,64.0,128.0,64.0,128.0,256.0,128.0,64.0,32.0,64.0,128.0,128.0,256.0,256.0,256.0,256.0,256.0,128.0,128.0,64.0,64.0,128.0,64.0,128.0,128.0,128.0,128.0,32.0,64.0,64.0,64.0,128.0,128.0,128.0,64.0,256.0,128.0,128.0,256.0,256.0,128.0,64.0,128.0,64.0,256.0,256.0,128.0,128.0,128.0,128.0,128.0,128.0,128.0,64.0,64.0,128.0,64.0,64.0,256.0,256.0,128.0,128.0,64.0,128.0,128.0,128.0,64.0,128.0,128.0,128.0,128.0,128.0,256.0,256.0,256.0,128.0,128.0,128.0,256.0,256.0,128.0,128.0,128.0,64.0,64.0,128.0,128.0,64.0,128.0,64.0,128.0,128.0,128.0,128.0,128.0,128.0,256.0,256.0,256.0,256.0,256.0,256.0,64.0,128.0,128.0,64.0,128.0,64.0,128.0,128.0,128.0,128.0,128.0,128.0,256.0,64.0,64.0,64.0,128.0,128.0,128.0,64.0,64.0,64.0,256.0,64.0,64.0,64.0,64.0,64.0,256.0,256.0,128.0,128.0,64.0,128.0,128.0,128.0,128.0,128.0,128.0,128.0,128.0,128.0,128.0,64.0,64.0,256.0,128.0,64.0,128.0,128.0,64.0,128.0,128.0,256.0,256.0,256.0,256.0,128.0,256.0,256.0,256.0,256.0,256.0,128.0,128.0,128.0,128.0,128.0,128.0,128.0,128.0,128.0,256.0,256.0,256.0,256.0,64.0,64.0,128.0,128.0,128.0,128.0,64.0,128.0,128.0,128.0,32.0,64.0,128.0,128.0,128.0,64.0,128.0,128.0,128.0,128.0,128.0,64.0,64.0,128.0,64.0,64.0,64.0,64.0,256.0,256.0,256.0,128.0,128.0,128.0,128.0,128.0,128.0,128.0,128.0,128.0,128.0,128.0,128.0,128.0,256.0,256.0,256.0,128.0,128.0,256.0,128.0,128.0,32.0,64.0,64.0,128.0,128.0,128.0,128.0,64.0,64.0,128.0,64.0,64.0,64.0,64.0,128.0,64.0,64.0,128.0,128.0,128.0,128.0,128.0,128.0,128.0,64.0,64.0,128.0,128.0,256.0,256.0,64.0,128.0,128.0,128.0,128.0,128.0,64.0,64.0,128.0,128.0,128.0,128.0,128.0,64.0,64.0,64.0,64.0,64.0,64.0,128.0,128.0,128.0,128.0,128.0,128.0,128.0],\"z\":[500.0,200.0,203.0,300.0,350.0,196.0,200.0,300.0,350.0,350.0,250.0,300.0,200.0,400.0,300.0,196.0,300.0,250.0,266.0,266.0,250.0,200.0,300.0,266.0,350.0,275.0,300.0,350.0,300.0,200.0,250.0,300.0,330.0,295.0,200.0,200.0,200.0,325.0,250.0,250.0,250.0,250.0,250.0,400.0,400.0,250.0,250.0,350.0,493.0,300.0,200.0,164.0,324.0,196.0,350.0,350.0,275.0,266.0,250.0,250.0,250.0,250.0,300.0,350.0,350.0,250.0,350.0,166.0,200.0,200.0,200.0,200.0,166.0,200.0,275.0,225.0,200.0,139.0,190.0,243.0,200.0,200.0,243.0,275.0,200.0,300.0,250.0,250.0,300.0,325.0,300.0,300.0,300.0,300.0,275.0,300.0,240.0,275.0,285.0,225.0,250.0,250.0,166.0,183.0,183.0,275.0,200.0,200.0,338.0,365.0,200.0,200.0,200.0,250.0,300.0,300.0,250.0,370.0,250.0,250.0,350.0,472.0,350.0,350.0,400.0,270.0,196.0,324.0,310.0,338.0,297.0,297.0,203.0,66.0,166.0,200.0,200.0,166.0,200.0,200.0,325.0,325.0,250.0,400.0,200.0,200.0,250.0,425.0,425.0,350.0,350.0,475.0,200.0,200.0,200.0,200.0,250.0,200.0,250.0,250.0,250.0,275.0,250.0,295.0,275.0,166.0,166.0,166.0,325.0,325.0,200.0,144.0,144.0,200.0,230.0,250.0,250.0,250.0,250.0,250.0,425.0,425.0,240.0,295.0,250.0,166.0,166.0,250.0,223.0,250.0,250.0,200.0,200.0,200.0,166.0,166.0,166.0,270.0,200.0,200.0,189.0,300.0,200.0,270.0,300.0,290.0,340.0,340.0,340.0,290.0,297.0,365.0,338.0,375.0,375.0,200.0,207.0,325.0,375.0,325.0,375.0,270.0,180.0,250.0,310.0,310.0,310.0,276.0,200.0,200.0,220.0,200.0,250.0,275.0,200.0,200.0,200.0,250.0,250.0,200.0,166.0,166.0,225.0,250.0,250.0,275.0,324.0,276.0,250.0,166.0,166.0,200.0,200.0,200.0,200.0,166.0,275.0,250.0,250.0,256.0,200.0,200.0,225.0,225.0,325.0,325.0,180.0,250.0,200.0,200.0,275.0,270.0,270.0,310.0,310.0,275.0,190.0,150.0,270.0,290.0,166.0,166.0,166.0,200.0,230.0,200.0,250.0,166.0,166.0,200.0,200.0,183.0,183.0,181.0,250.0,183.0,133.0,230.0,175.0,275.0,183.0,166.0,180.0,148.0,183.0,183.0,200.0,166.0,120.0,125.0,166.0,166.0,166.0,200.0,200.0,230.0,166.0,166.0,166.0,166.0,166.0,148.0,150.0,130.0,105.0,130.0,125.0,125.0,250.0,300.0,200.0,200.0,200.0,143.0,166.0,166.0],\"type\":\"scatter3d\"},{\"hovertemplate\":\"memType=eDRAM<br>memSize=%{x}<br>memBusWidth=%{y}<br>memClock=%{z}<extra></extra>\",\"legendgroup\":\"eDRAM\",\"marker\":{\"color\":\"#B6E880\",\"symbol\":\"circle\"},\"mode\":\"markers\",\"name\":\"eDRAM\",\"scene\":\"scene\",\"showlegend\":true,\"x\":[0.004,0.002,0.004,0.002,0.004,0.004],\"y\":[2560.0,512.0,2560.0,512.0,2560.0,2560.0],\"z\":[150.0,83.0,150.0,83.0,150.0,150.0],\"type\":\"scatter3d\"},{\"hovertemplate\":\"memType=GDDR2<br>memSize=%{x}<br>memBusWidth=%{y}<br>memClock=%{z}<extra></extra>\",\"legendgroup\":\"GDDR2\",\"marker\":{\"color\":\"#FF97FF\",\"symbol\":\"circle\"},\"mode\":\"markers\",\"name\":\"GDDR2\",\"scene\":\"scene\",\"showlegend\":true,\"x\":[0.128,0.128,0.128],\"y\":[128.0,128.0,128.0],\"z\":[453.0,400.0,500.0],\"type\":\"scatter3d\"},{\"hovertemplate\":\"memType=SDR<br>memSize=%{x}<br>memBusWidth=%{y}<br>memClock=%{z}<extra></extra>\",\"legendgroup\":\"SDR\",\"marker\":{\"color\":\"#FECB52\",\"symbol\":\"circle\"},\"mode\":\"markers\",\"name\":\"SDR\",\"scene\":\"scene\",\"showlegend\":true,\"x\":[0.128,0.064,0.064,0.064,0.064,0.064,0.128,0.032,0.032,0.064,0.032,0.064,0.016,0.032,0.032,0.032,0.032,0.032,0.032,0.032,0.032,0.032,0.008,0.032,0.032,0.032,0.032,0.032,0.016,0.032,0.032,0.032,0.032,0.016,0.016,0.008,0.008,0.032,0.032,0.032,0.032,0.032,0.032,0.032,0.016,0.008,0.004,0.008,0.008,0.016,0.008,0.008,0.016,0.016,0.016,0.032,0.032,0.008,0.016,0.016,0.016,0.016,0.016,0.016,0.004,0.008,0.008,0.008,0.008,0.032,0.032,0.008,0.008,0.016,0.016,0.016,0.002,0.008,0.008,0.008,0.004,0.008,0.004,0.004,0.004,0.004,0.004,0.002,0.012,0.016,0.064,0.016,0.032,0.016,0.016,0.032],\"y\":[128.0,128.0,64.0,128.0,128.0,128.0,128.0,64.0,64.0,64.0,128.0,128.0,64.0,128.0,128.0,128.0,64.0,128.0,128.0,128.0,128.0,128.0,64.0,128.0,128.0,128.0,128.0,128.0,128.0,128.0,128.0,256.0,128.0,64.0,128.0,64.0,64.0,128.0,128.0,128.0,128.0,64.0,128.0,128.0,64.0,64.0,64.0,64.0,64.0,64.0,64.0,32.0,64.0,64.0,64.0,128.0,128.0,128.0,128.0,128.0,128.0,128.0,128.0,128.0,64.0,64.0,64.0,64.0,64.0,128.0,128.0,64.0,128.0,128.0,128.0,128.0,64.0,64.0,64.0,64.0,64.0,64.0,128.0,128.0,64.0,64.0,64.0,64.0,128.0,128.0,128.0,128.0,128.0,128.0,128.0,128.0],\"z\":[275.0,166.0,166.0,250.0,250.0,220.0,166.0,166.0,166.0,166.0,166.0,230.0,162.0,166.0,166.0,166.0,166.0,183.0,183.0,143.0,166.0,166.0,100.0,166.0,166.0,166.0,166.0,90.0,90.0,120.0,134.0,100.0,143.0,133.0,166.0,112.0,128.0,166.0,200.0,166.0,143.0,130.0,120.0,143.0,105.0,70.0,70.0,125.0,105.0,105.0,70.0,83.0,143.0,133.0,133.0,167.0,183.0,143.0,143.0,143.0,143.0,166.0,166.0,183.0,100.0,100.0,112.0,112.0,112.0,60.0,103.0,83.0,100.0,110.0,100.0,100.0,75.0,75.0,100.0,100.0,75.0,75.0,100.0,100.0,83.0,83.0,83.0,83.0,143.0,166.0,166.0,166.0,166.0,166.0,166.0,166.0],\"type\":\"scatter3d\"},{\"hovertemplate\":\"memType=SGR<br>memSize=%{x}<br>memBusWidth=%{y}<br>memClock=%{z}<extra></extra>\",\"legendgroup\":\"SGR\",\"marker\":{\"color\":\"#636efa\",\"symbol\":\"circle\"},\"mode\":\"markers\",\"name\":\"SGR\",\"scene\":\"scene\",\"showlegend\":true,\"x\":[0.008,0.002],\"y\":[64.0,64.0],\"z\":[143.0,62.0],\"type\":\"scatter3d\"},{\"hovertemplate\":\"memType=EDO<br>memSize=%{x}<br>memBusWidth=%{y}<br>memClock=%{z}<extra></extra>\",\"legendgroup\":\"EDO\",\"marker\":{\"color\":\"#EF553B\",\"symbol\":\"circle\"},\"mode\":\"markers\",\"name\":\"EDO\",\"scene\":\"scene\",\"showlegend\":true,\"x\":[0.012,0.008,0.002,0.001,0.002,0.004,0.002,0.002,0.001,0.002,0.002],\"y\":[192.0,192.0,64.0,64.0,64.0,128.0,64.0,64.0,64.0,64.0,64.0],\"z\":[90.0,90.0,66.0,62.0,62.0,50.0,40.0,60.0,66.0,40.0,40.0],\"type\":\"scatter3d\"},{\"hovertemplate\":\"memType=SGRAM<br>memSize=%{x}<br>memBusWidth=%{y}<br>memClock=%{z}<extra></extra>\",\"legendgroup\":\"SGRAM\",\"marker\":{\"color\":\"#00cc96\",\"symbol\":\"circle\"},\"mode\":\"markers\",\"name\":\"SGRAM\",\"scene\":\"scene\",\"showlegend\":true,\"x\":[0.001],\"y\":[32.0],\"z\":[33.0],\"type\":\"scatter3d\"},{\"hovertemplate\":\"memType=VRAM<br>memSize=%{x}<br>memBusWidth=%{y}<br>memClock=%{z}<extra></extra>\",\"legendgroup\":\"VRAM\",\"marker\":{\"color\":\"#ab63fa\",\"symbol\":\"circle\"},\"mode\":\"markers\",\"name\":\"VRAM\",\"scene\":\"scene\",\"showlegend\":true,\"x\":[0.002,0.002,0.001,0.001,0.001,0.001,0.001],\"y\":[64.0,64.0,32.0,64.0,64.0,32.0,32.0],\"z\":[40.0,40.0,33.0,10.0,10.0,10.0,10.0],\"type\":\"scatter3d\"},{\"hovertemplate\":\"memType=DRAM<br>memSize=%{x}<br>memBusWidth=%{y}<br>memClock=%{z}<extra></extra>\",\"legendgroup\":\"DRAM\",\"marker\":{\"color\":\"#FFA15A\",\"symbol\":\"circle\"},\"mode\":\"markers\",\"name\":\"DRAM\",\"scene\":\"scene\",\"showlegend\":true,\"x\":[0.002,0.001,0.002,0.002,0.001,0.001,0.001,0.001,0.000256,0.000512,0.000256,0.000256,0.000256,6.4e-05,0.000256,3.2e-05,6.4e-05],\"y\":[64.0,64.0,64.0,64.0,32.0,64.0,64.0,32.0,32.0,32.0,32.0,32.0,32.0,32.0,32.0,32.0,32.0],\"z\":[40.0,83.0,10.0,10.0,10.0,10.0,10.0,10.0,10.0,10.0,8.0,8.0,8.0,5.0,10.0,5.0,5.0],\"type\":\"scatter3d\"},{\"hovertemplate\":\"memType=FPM<br>memSize=%{x}<br>memBusWidth=%{y}<br>memClock=%{z}<extra></extra>\",\"legendgroup\":\"FPM\",\"marker\":{\"color\":\"#19d3f3\",\"symbol\":\"circle\"},\"mode\":\"markers\",\"name\":\"FPM\",\"scene\":\"scene\",\"showlegend\":true,\"x\":[0.001],\"y\":[64.0],\"z\":[50.0],\"type\":\"scatter3d\"}],                        {\"template\":{\"data\":{\"histogram2dcontour\":[{\"type\":\"histogram2dcontour\",\"colorbar\":{\"outlinewidth\":0,\"ticks\":\"\"},\"colorscale\":[[0.0,\"#0d0887\"],[0.1111111111111111,\"#46039f\"],[0.2222222222222222,\"#7201a8\"],[0.3333333333333333,\"#9c179e\"],[0.4444444444444444,\"#bd3786\"],[0.5555555555555556,\"#d8576b\"],[0.6666666666666666,\"#ed7953\"],[0.7777777777777778,\"#fb9f3a\"],[0.8888888888888888,\"#fdca26\"],[1.0,\"#f0f921\"]]}],\"choropleth\":[{\"type\":\"choropleth\",\"colorbar\":{\"outlinewidth\":0,\"ticks\":\"\"}}],\"histogram2d\":[{\"type\":\"histogram2d\",\"colorbar\":{\"outlinewidth\":0,\"ticks\":\"\"},\"colorscale\":[[0.0,\"#0d0887\"],[0.1111111111111111,\"#46039f\"],[0.2222222222222222,\"#7201a8\"],[0.3333333333333333,\"#9c179e\"],[0.4444444444444444,\"#bd3786\"],[0.5555555555555556,\"#d8576b\"],[0.6666666666666666,\"#ed7953\"],[0.7777777777777778,\"#fb9f3a\"],[0.8888888888888888,\"#fdca26\"],[1.0,\"#f0f921\"]]}],\"heatmap\":[{\"type\":\"heatmap\",\"colorbar\":{\"outlinewidth\":0,\"ticks\":\"\"},\"colorscale\":[[0.0,\"#0d0887\"],[0.1111111111111111,\"#46039f\"],[0.2222222222222222,\"#7201a8\"],[0.3333333333333333,\"#9c179e\"],[0.4444444444444444,\"#bd3786\"],[0.5555555555555556,\"#d8576b\"],[0.6666666666666666,\"#ed7953\"],[0.7777777777777778,\"#fb9f3a\"],[0.8888888888888888,\"#fdca26\"],[1.0,\"#f0f921\"]]}],\"heatmapgl\":[{\"type\":\"heatmapgl\",\"colorbar\":{\"outlinewidth\":0,\"ticks\":\"\"},\"colorscale\":[[0.0,\"#0d0887\"],[0.1111111111111111,\"#46039f\"],[0.2222222222222222,\"#7201a8\"],[0.3333333333333333,\"#9c179e\"],[0.4444444444444444,\"#bd3786\"],[0.5555555555555556,\"#d8576b\"],[0.6666666666666666,\"#ed7953\"],[0.7777777777777778,\"#fb9f3a\"],[0.8888888888888888,\"#fdca26\"],[1.0,\"#f0f921\"]]}],\"contourcarpet\":[{\"type\":\"contourcarpet\",\"colorbar\":{\"outlinewidth\":0,\"ticks\":\"\"}}],\"contour\":[{\"type\":\"contour\",\"colorbar\":{\"outlinewidth\":0,\"ticks\":\"\"},\"colorscale\":[[0.0,\"#0d0887\"],[0.1111111111111111,\"#46039f\"],[0.2222222222222222,\"#7201a8\"],[0.3333333333333333,\"#9c179e\"],[0.4444444444444444,\"#bd3786\"],[0.5555555555555556,\"#d8576b\"],[0.6666666666666666,\"#ed7953\"],[0.7777777777777778,\"#fb9f3a\"],[0.8888888888888888,\"#fdca26\"],[1.0,\"#f0f921\"]]}],\"surface\":[{\"type\":\"surface\",\"colorbar\":{\"outlinewidth\":0,\"ticks\":\"\"},\"colorscale\":[[0.0,\"#0d0887\"],[0.1111111111111111,\"#46039f\"],[0.2222222222222222,\"#7201a8\"],[0.3333333333333333,\"#9c179e\"],[0.4444444444444444,\"#bd3786\"],[0.5555555555555556,\"#d8576b\"],[0.6666666666666666,\"#ed7953\"],[0.7777777777777778,\"#fb9f3a\"],[0.8888888888888888,\"#fdca26\"],[1.0,\"#f0f921\"]]}],\"mesh3d\":[{\"type\":\"mesh3d\",\"colorbar\":{\"outlinewidth\":0,\"ticks\":\"\"}}],\"scatter\":[{\"fillpattern\":{\"fillmode\":\"overlay\",\"size\":10,\"solidity\":0.2},\"type\":\"scatter\"}],\"parcoords\":[{\"type\":\"parcoords\",\"line\":{\"colorbar\":{\"outlinewidth\":0,\"ticks\":\"\"}}}],\"scatterpolargl\":[{\"type\":\"scatterpolargl\",\"marker\":{\"colorbar\":{\"outlinewidth\":0,\"ticks\":\"\"}}}],\"bar\":[{\"error_x\":{\"color\":\"#2a3f5f\"},\"error_y\":{\"color\":\"#2a3f5f\"},\"marker\":{\"line\":{\"color\":\"#E5ECF6\",\"width\":0.5},\"pattern\":{\"fillmode\":\"overlay\",\"size\":10,\"solidity\":0.2}},\"type\":\"bar\"}],\"scattergeo\":[{\"type\":\"scattergeo\",\"marker\":{\"colorbar\":{\"outlinewidth\":0,\"ticks\":\"\"}}}],\"scatterpolar\":[{\"type\":\"scatterpolar\",\"marker\":{\"colorbar\":{\"outlinewidth\":0,\"ticks\":\"\"}}}],\"histogram\":[{\"marker\":{\"pattern\":{\"fillmode\":\"overlay\",\"size\":10,\"solidity\":0.2}},\"type\":\"histogram\"}],\"scattergl\":[{\"type\":\"scattergl\",\"marker\":{\"colorbar\":{\"outlinewidth\":0,\"ticks\":\"\"}}}],\"scatter3d\":[{\"type\":\"scatter3d\",\"line\":{\"colorbar\":{\"outlinewidth\":0,\"ticks\":\"\"}},\"marker\":{\"colorbar\":{\"outlinewidth\":0,\"ticks\":\"\"}}}],\"scattermapbox\":[{\"type\":\"scattermapbox\",\"marker\":{\"colorbar\":{\"outlinewidth\":0,\"ticks\":\"\"}}}],\"scatterternary\":[{\"type\":\"scatterternary\",\"marker\":{\"colorbar\":{\"outlinewidth\":0,\"ticks\":\"\"}}}],\"scattercarpet\":[{\"type\":\"scattercarpet\",\"marker\":{\"colorbar\":{\"outlinewidth\":0,\"ticks\":\"\"}}}],\"carpet\":[{\"aaxis\":{\"endlinecolor\":\"#2a3f5f\",\"gridcolor\":\"white\",\"linecolor\":\"white\",\"minorgridcolor\":\"white\",\"startlinecolor\":\"#2a3f5f\"},\"baxis\":{\"endlinecolor\":\"#2a3f5f\",\"gridcolor\":\"white\",\"linecolor\":\"white\",\"minorgridcolor\":\"white\",\"startlinecolor\":\"#2a3f5f\"},\"type\":\"carpet\"}],\"table\":[{\"cells\":{\"fill\":{\"color\":\"#EBF0F8\"},\"line\":{\"color\":\"white\"}},\"header\":{\"fill\":{\"color\":\"#C8D4E3\"},\"line\":{\"color\":\"white\"}},\"type\":\"table\"}],\"barpolar\":[{\"marker\":{\"line\":{\"color\":\"#E5ECF6\",\"width\":0.5},\"pattern\":{\"fillmode\":\"overlay\",\"size\":10,\"solidity\":0.2}},\"type\":\"barpolar\"}],\"pie\":[{\"automargin\":true,\"type\":\"pie\"}]},\"layout\":{\"autotypenumbers\":\"strict\",\"colorway\":[\"#636efa\",\"#EF553B\",\"#00cc96\",\"#ab63fa\",\"#FFA15A\",\"#19d3f3\",\"#FF6692\",\"#B6E880\",\"#FF97FF\",\"#FECB52\"],\"font\":{\"color\":\"#2a3f5f\"},\"hovermode\":\"closest\",\"hoverlabel\":{\"align\":\"left\"},\"paper_bgcolor\":\"white\",\"plot_bgcolor\":\"#E5ECF6\",\"polar\":{\"bgcolor\":\"#E5ECF6\",\"angularaxis\":{\"gridcolor\":\"white\",\"linecolor\":\"white\",\"ticks\":\"\"},\"radialaxis\":{\"gridcolor\":\"white\",\"linecolor\":\"white\",\"ticks\":\"\"}},\"ternary\":{\"bgcolor\":\"#E5ECF6\",\"aaxis\":{\"gridcolor\":\"white\",\"linecolor\":\"white\",\"ticks\":\"\"},\"baxis\":{\"gridcolor\":\"white\",\"linecolor\":\"white\",\"ticks\":\"\"},\"caxis\":{\"gridcolor\":\"white\",\"linecolor\":\"white\",\"ticks\":\"\"}},\"coloraxis\":{\"colorbar\":{\"outlinewidth\":0,\"ticks\":\"\"}},\"colorscale\":{\"sequential\":[[0.0,\"#0d0887\"],[0.1111111111111111,\"#46039f\"],[0.2222222222222222,\"#7201a8\"],[0.3333333333333333,\"#9c179e\"],[0.4444444444444444,\"#bd3786\"],[0.5555555555555556,\"#d8576b\"],[0.6666666666666666,\"#ed7953\"],[0.7777777777777778,\"#fb9f3a\"],[0.8888888888888888,\"#fdca26\"],[1.0,\"#f0f921\"]],\"sequentialminus\":[[0.0,\"#0d0887\"],[0.1111111111111111,\"#46039f\"],[0.2222222222222222,\"#7201a8\"],[0.3333333333333333,\"#9c179e\"],[0.4444444444444444,\"#bd3786\"],[0.5555555555555556,\"#d8576b\"],[0.6666666666666666,\"#ed7953\"],[0.7777777777777778,\"#fb9f3a\"],[0.8888888888888888,\"#fdca26\"],[1.0,\"#f0f921\"]],\"diverging\":[[0,\"#8e0152\"],[0.1,\"#c51b7d\"],[0.2,\"#de77ae\"],[0.3,\"#f1b6da\"],[0.4,\"#fde0ef\"],[0.5,\"#f7f7f7\"],[0.6,\"#e6f5d0\"],[0.7,\"#b8e186\"],[0.8,\"#7fbc41\"],[0.9,\"#4d9221\"],[1,\"#276419\"]]},\"xaxis\":{\"gridcolor\":\"white\",\"linecolor\":\"white\",\"ticks\":\"\",\"title\":{\"standoff\":15},\"zerolinecolor\":\"white\",\"automargin\":true,\"zerolinewidth\":2},\"yaxis\":{\"gridcolor\":\"white\",\"linecolor\":\"white\",\"ticks\":\"\",\"title\":{\"standoff\":15},\"zerolinecolor\":\"white\",\"automargin\":true,\"zerolinewidth\":2},\"scene\":{\"xaxis\":{\"backgroundcolor\":\"#E5ECF6\",\"gridcolor\":\"white\",\"linecolor\":\"white\",\"showbackground\":true,\"ticks\":\"\",\"zerolinecolor\":\"white\",\"gridwidth\":2},\"yaxis\":{\"backgroundcolor\":\"#E5ECF6\",\"gridcolor\":\"white\",\"linecolor\":\"white\",\"showbackground\":true,\"ticks\":\"\",\"zerolinecolor\":\"white\",\"gridwidth\":2},\"zaxis\":{\"backgroundcolor\":\"#E5ECF6\",\"gridcolor\":\"white\",\"linecolor\":\"white\",\"showbackground\":true,\"ticks\":\"\",\"zerolinecolor\":\"white\",\"gridwidth\":2}},\"shapedefaults\":{\"line\":{\"color\":\"#2a3f5f\"}},\"annotationdefaults\":{\"arrowcolor\":\"#2a3f5f\",\"arrowhead\":0,\"arrowwidth\":1},\"geo\":{\"bgcolor\":\"white\",\"landcolor\":\"#E5ECF6\",\"subunitcolor\":\"white\",\"showland\":true,\"showlakes\":true,\"lakecolor\":\"white\"},\"title\":{\"x\":0.05},\"mapbox\":{\"style\":\"light\"}}},\"scene\":{\"domain\":{\"x\":[0.0,1.0],\"y\":[0.0,1.0]},\"xaxis\":{\"title\":{\"text\":\"memSize\"}},\"yaxis\":{\"title\":{\"text\":\"memBusWidth\"}},\"zaxis\":{\"title\":{\"text\":\"memClock\"}},\"camera\":{\"eye\":{\"x\":2,\"y\":1,\"z\":0.5}}},\"legend\":{\"title\":{\"text\":\"memType\"},\"tracegroupgap\":0},\"margin\":{\"t\":60},\"title\":{\"text\":\"Full View\"}},                        {\"responsive\": true}                    ).then(function(){\n",
       "                            \n",
       "var gd = document.getElementById('1fe619aa-661a-4642-aa23-1e3c4acfb8de');\n",
       "var x = new MutationObserver(function (mutations, observer) {{\n",
       "        var display = window.getComputedStyle(gd).display;\n",
       "        if (!display || display === 'none') {{\n",
       "            console.log([gd, 'removed!']);\n",
       "            Plotly.purge(gd);\n",
       "            observer.disconnect();\n",
       "        }}\n",
       "}});\n",
       "\n",
       "// Listen for the removal of the full notebook cells\n",
       "var notebookContainer = gd.closest('#notebook-container');\n",
       "if (notebookContainer) {{\n",
       "    x.observe(notebookContainer, {childList: true});\n",
       "}}\n",
       "\n",
       "// Listen for the clearing of the current output cell\n",
       "var outputEl = gd.closest('.output');\n",
       "if (outputEl) {{\n",
       "    x.observe(outputEl, {childList: true});\n",
       "}}\n",
       "\n",
       "                        })                };                            </script>        </div>\n",
       "</body>\n",
       "</html>"
      ]
     },
     "metadata": {},
     "output_type": "display_data"
    }
   ],
   "source": [
    "fig = px.scatter_3d(df, \n",
    "                    x = 'memSize', \n",
    "                    y = 'memBusWidth', \n",
    "                    z = 'memClock',\n",
    "                    color = 'memType')\n",
    "\n",
    "\n",
    "fig.update_layout(title='Full View')\n",
    "\n",
    "camera = dict(eye=dict(x=2, y=1, z=0.5))\n",
    "\n",
    "\n",
    "fig.update_layout(scene_camera=camera)\n",
    "fig.show()"
   ]
  },
  {
   "cell_type": "markdown",
   "metadata": {
    "cell_id": "6eb3f8ce9db4412ea73a7c01401e02fb",
    "deepnote_cell_type": "markdown",
    "tags": []
   },
   "source": [
    "Exploring the chart will show that colors seem to be clumped into rectangles. What a decision tree would attempt to do is draw planes in such a way that it isolates each of these colors. Note that our decision tree is a bit different as it has more than three features, However a three-dimensional chart is a lot easier to read than a 41 dimensional chart.\n",
    "\n",
    "You can easily spot an isolated rectangle by rotating around the points in light blue. Let's restrict the size of the chart, so we can get a better look."
   ]
  },
  {
   "cell_type": "code",
   "execution_count": 32,
   "metadata": {
    "cell_id": "ae59608986274938ac0123d706241276",
    "deepnote_cell_type": "code",
    "deepnote_to_be_reexecuted": false,
    "execution_millis": 105,
    "execution_start": 1670280591461,
    "source_hash": "bf0a1cca",
    "tags": []
   },
   "outputs": [
    {
     "data": {
      "text/html": [
       "<html>\n",
       "<head><meta charset=\"utf-8\" /></head>\n",
       "<body>\n",
       "    <div>            <script src=\"https://cdnjs.cloudflare.com/ajax/libs/mathjax/2.7.5/MathJax.js?config=TeX-AMS-MML_SVG\"></script><script type=\"text/javascript\">if (window.MathJax && window.MathJax.Hub && window.MathJax.Hub.Config) {window.MathJax.Hub.Config({SVG: {font: \"STIX-Web\"}});}</script>                <script type=\"text/javascript\">window.PlotlyConfig = {MathJaxConfig: 'local'};</script>\n",
       "        <script src=\"https://cdn.plot.ly/plotly-2.14.0.min.js\"></script>                <div id=\"59441e59-982f-422a-b293-ef8b4f7280d9\" class=\"plotly-graph-div\" style=\"height:525px; width:100%;\"></div>            <script type=\"text/javascript\">                                    window.PLOTLYENV=window.PLOTLYENV || {};                                    if (document.getElementById(\"59441e59-982f-422a-b293-ef8b4f7280d9\")) {                    Plotly.newPlot(                        \"59441e59-982f-422a-b293-ef8b4f7280d9\",                        [{\"hovertemplate\":\"memType=GDDR6<br>memSize=%{x}<br>memBusWidth=%{y}<br>memClock=%{z}<extra></extra>\",\"legendgroup\":\"GDDR6\",\"marker\":{\"color\":\"#636efa\",\"symbol\":\"circle\"},\"mode\":\"markers\",\"name\":\"GDDR6\",\"scene\":\"scene\",\"showlegend\":true,\"x\":[8.0,4.0,4.0,4.0,8.0,12.0,16.0,16.0,2.0,4.0,4.0,8.0,8.0,8.0,8.0,8.0,16.0,16.0,12.0,12.0,4.0,2.0,4.0,4.0,4.0,4.0,8.0,8.0,8.0,8.0,12.0,8.0,12.0,16.0,8.0,12.0,16.0,24.0,16.0,24.0,12.0,16.0,16.0,6.0,8.0,10.0,4.0,12.0,4.0,4.0,4.0,12.0,12.0,6.0,6.0,8.0,8.0,8.0,8.0,4.0,32.0,8.0,8.0,32.0,32.0,32.0,32.0,8.0,8.0,8.0,6.0,12.0,10.0,12.0,4.0,6.0,12.0,8.0,4.0,6.0,12.0,12.0,4.0,16.0,8.0,20.0,16.0,12.0,4.0,24.0,16.0,4.0,8.0,2.0,4.0,4.0,4.0,48.0,4.0,4.0,4.0,4.0,4.0,4.0,4.0,4.0,2.0,2.0,6.0,6.0,8.0,8.0,8.0,8.0,8.0,8.0,8.0,8.0,16.0,2.0,4.0,8.0,16.0,16.0,24.0,4.0,4.0,8.0,8.0,16.0,8.0,4.0,3.0,6.0,6.0,6.0,8.0,16.0,16.0,16.0,48.0,2.0,8.0,10.0,4.0,6.0,6.0,6.0,6.0,6.0,6.0,6.0,6.0,8.0,8.0,8.0,8.0,8.0,8.0,8.0,6.0,6.0,6.0,8.0,8.0,16.0,16.0,4.0,8.0,4.0,8.0,16.0,3.0,4.0,4.0,4.0,8.0,8.0,8.0,8.0,8.0,11.0,8.0,16.0,24.0,24.0,48.0,48.0,16.0,24.0,16.0],\"y\":[128.0,64.0,64.0,64.0,128.0,192.0,256.0,256.0,64.0,64.0,128.0,128.0,128.0,128.0,256.0,256.0,256.0,256.0,192.0,192.0,64.0,32.0,64.0,64.0,64.0,128.0,128.0,128.0,128.0,128.0,192.0,128.0,192.0,256.0,128.0,192.0,256.0,384.0,256.0,384.0,384.0,128.0,128.0,192.0,256.0,320.0,64.0,192.0,128.0,128.0,128.0,192.0,192.0,192.0,192.0,256.0,256.0,256.0,256.0,128.0,256.0,128.0,128.0,256.0,256.0,256.0,256.0,128.0,128.0,128.0,192.0,192.0,160.0,192.0,128.0,192.0,192.0,128.0,128.0,192.0,192.0,192.0,128.0,256.0,256.0,320.0,256.0,192.0,64.0,384.0,256.0,128.0,128.0,64.0,64.0,128.0,128.0,384.0,128.0,128.0,128.0,128.0,128.0,128.0,128.0,128.0,64.0,64.0,192.0,192.0,256.0,256.0,256.0,256.0,256.0,256.0,256.0,256.0,384.0,384.0,384.0,384.0,256.0,256.0,384.0,128.0,128.0,128.0,256.0,256.0,128.0,128.0,96.0,192.0,192.0,192.0,256.0,256.0,256.0,256.0,384.0,64.0,128.0,320.0,128.0,192.0,192.0,192.0,192.0,192.0,192.0,192.0,192.0,256.0,256.0,256.0,256.0,256.0,256.0,256.0,192.0,192.0,192.0,256.0,256.0,256.0,256.0,128.0,128.0,128.0,256.0,256.0,96.0,128.0,128.0,128.0,256.0,256.0,256.0,256.0,256.0,352.0,256.0,256.0,384.0,384.0,384.0,384.0,256.0,384.0,256.0],\"z\":[2250.0,1500.0,1500.0,1500.0,1500.0,1500.0,1500.0,1500.0,1500.0,1500.0,1750.0,1750.0,1750.0,1750.0,1750.0,1750.0,1500.0,2000.0,2250.0,2250.0,1750.0,2250.0,2000.0,2248.0,2250.0,1750.0,2190.0,2000.0,2000.0,1750.0,2250.0,2000.0,2000.0,2250.0,2250.0,2250.0,2250.0,2000.0,1750.0,1563.0,1563.0,1812.0,1563.0,1750.0,1750.0,1750.0,1750.0,1750.0,1500.0,1500.0,1500.0,1875.0,1875.0,1500.0,1750.0,1500.0,1750.0,1500.0,1750.0,1250.0,2000.0,1750.0,1750.0,2000.0,2000.0,2000.0,2000.0,1750.0,2000.0,1750.0,2000.0,2000.0,2000.0,2000.0,1500.0,1500.0,1500.0,1500.0,1375.0,1375.0,1375.0,1375.0,1750.0,1750.0,1500.0,2000.0,2000.0,1500.0,1750.0,2000.0,1750.0,1250.0,1250.0,1250.0,1250.0,1250.0,1250.0,1812.0,1500.0,1250.0,1500.0,1250.0,1500.0,1500.0,1500.0,1500.0,1250.0,1250.0,1375.0,1750.0,1375.0,1375.0,1375.0,1750.0,1375.0,1750.0,1750.0,1750.0,1575.0,1750.0,1750.0,1750.0,1750.0,1750.0,1750.0,1500.0,1750.0,1750.0,1500.0,1500.0,1750.0,1750.0,1750.0,1500.0,1500.0,1500.0,1500.0,2000.0,2000.0,2000.0,2000.0,1250.0,1750.0,1750.0,1500.0,1750.0,1500.0,1500.0,1500.0,1750.0,1353.0,1750.0,1375.0,1750.0,1500.0,1750.0,1750.0,1500.0,1750.0,1937.0,1500.0,1750.0,1750.0,1625.0,1750.0,1500.0,1750.0,1500.0,1500.0,1500.0,1750.0,1750.0,1750.0,1750.0,1750.0,1750.0,1750.0,1750.0,1750.0,1750.0,1750.0,1750.0,1625.0,1750.0,1750.0,1750.0,1750.0,1750.0,1250.0,1750.0,2250.0],\"type\":\"scatter3d\"},{\"hovertemplate\":\"memType=GDDR6X<br>memSize=%{x}<br>memBusWidth=%{y}<br>memClock=%{z}<extra></extra>\",\"legendgroup\":\"GDDR6X\",\"marker\":{\"color\":\"#EF553B\",\"symbol\":\"circle\"},\"mode\":\"markers\",\"name\":\"GDDR6X\",\"scene\":\"scene\",\"showlegend\":true,\"x\":[16.0,12.0,20.0,24.0,16.0,20.0,24.0,8.0,10.0,8.0,12.0,10.0,24.0,16.0],\"y\":[256.0,384.0,320.0,384.0,256.0,320.0,384.0,256.0,320.0,256.0,384.0,320.0,384.0,256.0],\"z\":[1093.0,1188.0,1188.0,1313.0,2250.0,1325.0,1325.0,1188.0,1188.0,1188.0,1188.0,1188.0,1219.0,1188.0],\"type\":\"scatter3d\"},{\"hovertemplate\":\"memType=HBM2e<br>memSize=%{x}<br>memBusWidth=%{y}<br>memClock=%{z}<extra></extra>\",\"legendgroup\":\"HBM2e\",\"marker\":{\"color\":\"#00cc96\",\"symbol\":\"circle\"},\"mode\":\"markers\",\"name\":\"HBM2e\",\"scene\":\"scene\",\"showlegend\":true,\"x\":[16.0,80.0,80.0,16.0,16.0,16.0,64.0,128.0,128.0,40.0,40.0,80.0,48.0,48.0],\"y\":[4096.0,5120.0,5120.0,4096.0,4096.0,4096.0,4096.0,8192.0,8192.0,5120.0,5120.0,5120.0,6144.0,6144.0],\"z\":[1200.0,1000.0,1593.0,1200.0,1200.0,1458.0,1600.0,1600.0,1600.0,1215.0,1215.0,1593.0,1215.0,1215.0],\"type\":\"scatter3d\"},{\"hovertemplate\":\"memType=HBM3<br>memSize=%{x}<br>memBusWidth=%{y}<br>memClock=%{z}<extra></extra>\",\"legendgroup\":\"HBM3\",\"marker\":{\"color\":\"#ab63fa\",\"symbol\":\"circle\"},\"mode\":\"markers\",\"name\":\"HBM3\",\"scene\":\"scene\",\"showlegend\":true,\"x\":[80.0],\"y\":[5120.0],\"z\":[1500.0],\"type\":\"scatter3d\"},{\"hovertemplate\":\"memType=LPDDR5<br>memSize=%{x}<br>memBusWidth=%{y}<br>memClock=%{z}<extra></extra>\",\"legendgroup\":\"LPDDR5\",\"marker\":{\"color\":\"#FFA15A\",\"symbol\":\"circle\"},\"mode\":\"markers\",\"name\":\"LPDDR5\",\"scene\":\"scene\",\"showlegend\":true,\"x\":[16.0],\"y\":[128.0],\"z\":[1375.0],\"type\":\"scatter3d\"},{\"hovertemplate\":\"memType=HBM2<br>memSize=%{x}<br>memBusWidth=%{y}<br>memClock=%{z}<extra></extra>\",\"legendgroup\":\"HBM2\",\"marker\":{\"color\":\"#19d3f3\",\"symbol\":\"circle\"},\"mode\":\"markers\",\"name\":\"HBM2\",\"scene\":\"scene\",\"showlegend\":true,\"x\":[24.0,24.0,24.0,32.0,8.0,8.0,16.0,8.0,16.0,32.0,32.0,16.0,32.0,32.0,16.0,32.0,32.0,16.0,32.0,16.0,4.0,4.0,8.0,4.0,8.0,4.0,4.0,16.0,32.0,16.0,32.0,32.0,32.0,32.0,16.0,16.0,16.0,8.0,16.0,8.0,16.0,8.0,8.0,8.0,8.0,16.0,16.0,16.0,16.0,12.0,16.0,16.0,12.0,16.0,16.0,8.0],\"y\":[3072.0,3072.0,3072.0,4096.0,2048.0,2048.0,4096.0,2048.0,2048.0,4096.0,4096.0,4096.0,4096.0,4096.0,4096.0,4096.0,4096.0,4096.0,4096.0,2048.0,1024.0,1024.0,2048.0,1024.0,2048.0,1024.0,1024.0,4096.0,4096.0,4096.0,4096.0,4096.0,4096.0,4096.0,2048.0,2048.0,2048.0,2048.0,2048.0,2048.0,2048.0,2048.0,2048.0,2048.0,2048.0,2048.0,2048.0,4096.0,4096.0,3072.0,4096.0,4096.0,3072.0,4096.0,4096.0,2048.0],\"z\":[1215.0,1215.0,1215.0,1200.0,770.0,1000.0,1000.0,786.0,1000.0,806.0,1000.0,1000.0,1106.0,1106.0,1106.0,1106.0,848.0,1000.0,1000.0,945.0,1200.0,740.0,1000.0,700.0,800.0,800.0,700.0,876.0,876.0,810.0,876.0,876.0,876.0,848.0,852.0,945.0,945.0,786.0,786.0,1000.0,945.0,800.0,945.0,945.0,945.0,945.0,945.0,876.0,876.0,848.0,715.0,715.0,715.0,715.0,715.0,800.0],\"type\":\"scatter3d\"},{\"hovertemplate\":\"memType=GDDR5<br>memSize=%{x}<br>memBusWidth=%{y}<br>memClock=%{z}<extra></extra>\",\"legendgroup\":\"GDDR5\",\"marker\":{\"color\":\"#FF6692\",\"symbol\":\"circle\"},\"mode\":\"markers\",\"name\":\"GDDR5\",\"scene\":\"scene\",\"showlegend\":true,\"x\":[2.0,2.0,2.0,2.0,2.0,8.0,3.0,4.0,4.0,4.0,6.0,2.0,2.0,2.0,2.0,4.0,3.75,2.0,4.0,4.0,4.0,4.0,2.0,2.0,2.0,2.0,2.0,8.0,8.0,4.0,4.0,8.0,4.0,4.0,2.0,4.0,4.0,4.0,2.0,2.0,3.0,4.0,4.0,6.0,6.0,10.0,4.0,6.0,6.0,8.0,2.0,16.0,16.0,2.0,4.0,2.0,4.0,4.0,4.0,4.0,2.0,4.0,2.0,2.0,4.0,4.0,4.0,4.0,2.0,8.0,4.0,8.0,8.0,8.0,8.0,8.0,2.0,2.0,2.0,4.0,2.0,5.0,6.0,6.0,8.0,8.0,2.0,2.0,2.0,2.0,3.0,6.0,4.0,4.0,2.0,2.0,4.0,4.0,4.0,5.0,4.0,6.0,2.0,8.0,8.0,8.0,16.0,2.0,4.0,2.0,2.0,2.0,2.0,4.0,2.0,2.0,4.0,4.0,2.0,4.0,4.0,4.0,8.0,16.0,2.0,4.0,4.0,4.0,4.0,8.0,8.0,2.0,2.0,2.0,2.0,2.0,2.0,4.0,4.0,4.0,4.0,4.0,4.0,4.0,8.0,8.0,8.0,8.0,16.0,12.0,8.0,8.0,8.0,2.0,1.024,2.0,4.0,3.0,3.0,6.0,6.0,8.0,8.0,2.0,2.0,4.0,2.0,8.0,8.0,4.0,8.0,8.0,8.0,4.0,4.0,8.0,24.0,4.0,4.0,8.0,8.0,2.0,2.0,4.0,4.0,8.0,8.0,2.0,2.0,4.0,2.0,2.0,4.0,2.0,2.0,4.0,4.0,8.0,2.0,2.0,4.0,4.0,8.0,4.0,8.0,8.0,8.0,8.0,8.0,32.0,1.024,1.024,2.0,2.0,4.0,2.0,4.0,4.0,2.0,1.024,1.024,1.024,1.024,2.0,2.0,2.0,2.0,4.0,3.0,2.0,4.0,4.0,2.0,2.0,8.0,6.0,12.0,1.024,2.0,4.0,8.0,8.0,4.0,2.0,4.0,4.0,8.0,4.0,8.0,8.0,12.0,2.0,2.0,4.0,8.0,1.024,2.0,2.0,2.0,2.0,2.0,2.0,1.024,1.024,1.024,4.0,2.0,2.0,2.0,2.0,2.0,2.0,4.0,4.0,8.0,8.0,8.0,2.0,2.0,4.0,2.0,4.0,4.0,2.0,2.0,4.0,2.0,4.0,4.0,2.0,4.0,2.0,8.0,4.0,4.0,12.0,24.0,8.0,8.0,2.0,3.0,6.0,6.0,2.0,12.0,12.0,16.0,2.0,2.0,4.0,2.0,2.0,8.0,8.0,16.0,1.024,1.024,2.0,1.024,2.0,2.0,2.0,4.0,2.0,3.0,8.0,4.0,6.0,3.0,4.0,8.0,8.0,6.0,6.0,0.512,4.0,4.0,4.0,4.0,4.0,2.0,4.0,8.0,2.0,1.024,1.024,1.024,1.024,2.0,2.0,1.024,3.0,2.0,4.0,4.0,2.0,2.0,2.0,2.0,4.0,2.0,4.0,4.0,8.0,12.0,2.0,1.024,2.0,2.0,2.0,2.0,1.024,0.512,2.0,2.0,2.0,2.0,1.024,1.024,1.024,2.0,2.0,0.512,1.024,2.0,2.0,1.536,3.0,2.0,2.0,2.0,2.0,2.0,2.0,3.0,2.0,3.0,6.0,3.0,3.0,4.0,4.0,6.0,4.0,0.256,1.024,2.0,4.0,1.024,4.0,8.0,2.0,2.0,2.0,2.0,4.0,3.0,4.0,4.0,8.0,1.024,12.0,12.0,1.024,1.024,2.0,1.024,1.024,1.024,3.0,3.0,1.024,1.024,2.0,1.024,1.024,1.024,1.024,2.0,1.024,2.0,2.0,2.0,2.0,2.0,3.0,2.0,3.0,4.0,3.0,2.0,1.024,1.024,2.0,2.0,2.0,1.024,2.0,2.0,3.0,3.0,4.0,4.0,4.0,6.0,3.0,5.0,5.0,12.0,12.0,12.0,12.0,12.0,12.0,8.0,16.0,16.0,1.024,1.024,2.0,3.0,3.0,4.0,6.0,3.0,2.0,2.0,2.0,4.0,4.0,6.0,2.0,2.0,1.024,0.512,1.024,1.024,1.024,2.0,2.0,1.536,2.0,1.024,2.0,1.536,3.0,2.0,2.0,2.0,4.0,2.0,2.0,1.024,6.0,2.0,4.0,4.0,4.0,4.0,1.024,1.024,1.024,1.024,1.024,0.512,1.024,1.024,1.024,2.0,1.024,1.024,2.0,2.0,2.0,2.0,2.0,3.0,3.0,3.0,3.0,2.0,3.0,3.0,2.0,4.0,5.0,6.0,6.0,6.0,8.0,8.0,1.024,2.0,1.024,2.0,2.0,2.0,2.0,1.024,1.024,1.024,1.024,1.28,1.024,2.0,1.024,1.024,1.024,1.28,1.024,1.28,1.28,1.024,1.024,1.536,1.536,1.536,2.0,1.536,1.024,2.0,1.792,2.0,2.5,2.5,4.0,6.0,6.0,0.512,1.024,1.024,1.024,0.512,0.512,0.256,2.0,0.256,1.024,1.024,1.024,0.512,1.024,1.024,0.512,1.024,2.0,1.024,1.024,1.024,1.024,1.024,2.0,1.024,2.0,2.0,1.024,3.0,3.0,6.0,6.0,6.0,3.0,6.0,6.0,6.0,6.0,3.0,6.0,6.0,2.0,1.024,1.024,1.024,1.024,1.024,2.0,2.0,4.0,4.0,2.0,4.0,1.024,1.024,1.024,1.024,1.536,0.512,1.024,0.768,1.024,1.024,0.768,1.536,1.024,1.28,1.536,1.536,2.0,1.28,1.28,1.536,0.512,1.024,1.024,1.024,1.024,1.024,1.024,2.0,1.792,6.0,0.512,0.512,1.024,1.024,0.512,1.024,1.024,1.024,2.0,1.024,1.024,1.024,1.024,2.0,2.0,1.024,1.024,1.024,1.024,1.024,1.024,1.024,1.024,1.024,0.512,0.512,0.512,0.512,0.512,0.512,1.024,1.024,1.024,1.024,1.024,1.024,1.024,2.0,2.0,0.512,1.024,1.024,1.28,1.024,1.536,1.536,6.0,1.024,2.0,4.0,8.0,16.0,3.0],\"y\":[64.0,64.0,64.0,64.0,64.0,256.0,96.0,128.0,128.0,128.0,192.0,64.0,64.0,64.0,64.0,128.0,128.0,64.0,128.0,128.0,128.0,128.0,64.0,64.0,128.0,64.0,128.0,256.0,256.0,256.0,256.0,256.0,128.0,128.0,128.0,128.0,256.0,128.0,64.0,128.0,96.0,128.0,128.0,192.0,192.0,320.0,256.0,192.0,192.0,256.0,64.0,256.0,256.0,128.0,128.0,64.0,64.0,64.0,128.0,128.0,128.0,128.0,128.0,64.0,128.0,128.0,128.0,128.0,128.0,256.0,256.0,256.0,256.0,256.0,256.0,256.0,64.0,128.0,128.0,128.0,128.0,160.0,192.0,192.0,256.0,256.0,64.0,64.0,64.0,64.0,192.0,192.0,128.0,128.0,64.0,128.0,128.0,128.0,128.0,160.0,128.0,192.0,64.0,256.0,256.0,256.0,256.0,128.0,128.0,64.0,64.0,64.0,64.0,128.0,64.0,64.0,128.0,128.0,128.0,128.0,256.0,256.0,256.0,256.0,64.0,128.0,128.0,128.0,128.0,256.0,256.0,128.0,128.0,128.0,128.0,128.0,128.0,128.0,128.0,128.0,128.0,128.0,128.0,256.0,256.0,256.0,256.0,256.0,256.0,384.0,256.0,256.0,256.0,64.0,64.0,128.0,128.0,192.0,192.0,192.0,192.0,256.0,256.0,256.0,128.0,128.0,128.0,256.0,128.0,128.0,128.0,256.0,256.0,128.0,256.0,256.0,384.0,128.0,128.0,256.0,256.0,128.0,128.0,128.0,128.0,256.0,256.0,64.0,64.0,64.0,128.0,128.0,64.0,128.0,128.0,128.0,128.0,256.0,128.0,128.0,128.0,256.0,256.0,256.0,256.0,256.0,256.0,128.0,256.0,512.0,128.0,128.0,128.0,128.0,128.0,128.0,128.0,256.0,64.0,64.0,64.0,128.0,128.0,128.0,128.0,128.0,128.0,128.0,192.0,128.0,128.0,128.0,128.0,128.0,256.0,384.0,384.0,256.0,256.0,256.0,256.0,256.0,128.0,128.0,128.0,256.0,256.0,256.0,256.0,256.0,384.0,128.0,64.0,128.0,256.0,64.0,128.0,128.0,128.0,128.0,128.0,256.0,128.0,128.0,128.0,128.0,256.0,128.0,256.0,256.0,256.0,256.0,256.0,256.0,512.0,512.0,512.0,128.0,128.0,128.0,128.0,128.0,128.0,128.0,128.0,128.0,128.0,128.0,128.0,256.0,256.0,256.0,256.0,256.0,128.0,384.0,384.0,256.0,256.0,256.0,384.0,384.0,384.0,128.0,384.0,512.0,512.0,128.0,128.0,128.0,128.0,128.0,256.0,512.0,512.0,64.0,128.0,192.0,128.0,128.0,256.0,128.0,128.0,128.0,192.0,256.0,256.0,192.0,192.0,256.0,256.0,256.0,384.0,384.0,256.0,256.0,256.0,256.0,256.0,128.0,128.0,256.0,256.0,128.0,128.0,128.0,128.0,128.0,256.0,256.0,128.0,384.0,256.0,512.0,512.0,128.0,128.0,128.0,128.0,256.0,256.0,256.0,256.0,256.0,384.0,128.0,128.0,128.0,128.0,256.0,256.0,64.0,64.0,128.0,128.0,128.0,128.0,128.0,128.0,128.0,192.0,128.0,128.0,256.0,256.0,256.0,192.0,256.0,256.0,256.0,256.0,128.0,128.0,256.0,192.0,256.0,384.0,384.0,384.0,384.0,256.0,256.0,384.0,256.0,256.0,256.0,256.0,256.0,128.0,256.0,256.0,128.0,128.0,128.0,128.0,256.0,192.0,256.0,256.0,256.0,64.0,384.0,384.0,64.0,256.0,128.0,256.0,128.0,128.0,384.0,384.0,64.0,64.0,128.0,64.0,128.0,128.0,128.0,128.0,128.0,128.0,128.0,256.0,256.0,128.0,384.0,128.0,384.0,256.0,384.0,128.0,128.0,128.0,128.0,128.0,128.0,128.0,256.0,256.0,384.0,384.0,512.0,512.0,256.0,384.0,384.0,320.0,320.0,384.0,384.0,384.0,384.0,384.0,384.0,512.0,512.0,512.0,64.0,128.0,128.0,384.0,384.0,256.0,384.0,384.0,256.0,256.0,128.0,256.0,256.0,384.0,128.0,128.0,192.0,128.0,192.0,128.0,128.0,192.0,256.0,192.0,192.0,128.0,256.0,192.0,192.0,256.0,256.0,256.0,256.0,256.0,256.0,64.0,384.0,256.0,256.0,256.0,256.0,256.0,256.0,64.0,64.0,64.0,64.0,128.0,128.0,128.0,128.0,128.0,128.0,128.0,256.0,128.0,256.0,256.0,128.0,384.0,384.0,384.0,384.0,256.0,384.0,384.0,256.0,256.0,320.0,384.0,384.0,384.0,512.0,512.0,128.0,256.0,128.0,256.0,256.0,256.0,256.0,128.0,128.0,128.0,192.0,256.0,256.0,256.0,192.0,192.0,256.0,320.0,256.0,320.0,256.0,256.0,256.0,192.0,192.0,384.0,256.0,384.0,128.0,256.0,256.0,256.0,320.0,320.0,256.0,384.0,384.0,64.0,128.0,128.0,128.0,64.0,64.0,64.0,128.0,64.0,128.0,128.0,128.0,128.0,128.0,128.0,128.0,256.0,256.0,256.0,128.0,256.0,256.0,256.0,256.0,128.0,256.0,256.0,128.0,384.0,384.0,384.0,384.0,384.0,384.0,384.0,384.0,384.0,384.0,384.0,384.0,384.0,256.0,128.0,128.0,128.0,128.0,128.0,256.0,256.0,256.0,256.0,256.0,256.0,128.0,128.0,128.0,128.0,192.0,128.0,256.0,192.0,256.0,256.0,192.0,192.0,256.0,320.0,192.0,384.0,256.0,320.0,320.0,384.0,64.0,128.0,128.0,128.0,128.0,128.0,128.0,256.0,256.0,384.0,256.0,128.0,128.0,128.0,128.0,128.0,128.0,256.0,256.0,256.0,128.0,256.0,256.0,256.0,256.0,128.0,128.0,128.0,128.0,128.0,256.0,128.0,256.0,128.0,128.0,128.0,128.0,128.0,256.0,256.0,256.0,128.0,128.0,256.0,256.0,256.0,256.0,256.0,256.0,256.0,256.0,256.0,320.0,256.0,384.0,384.0,384.0,256.0,256.0,128.0,256.0,256.0,384.0],\"z\":[1502.0,1752.0,1752.0,1752.0,2000.0,2000.0,1752.0,2001.0,1751.0,2001.0,2001.0,1502.0,1502.0,1502.0,1502.0,1502.0,1502.0,1502.0,1250.0,2001.0,1751.0,2001.0,1500.0,1000.0,1750.0,1000.0,1500.0,1250.0,1750.0,1700.0,1700.0,1710.0,1500.0,1000.0,1125.0,1750.0,1750.0,1750.0,1500.0,1250.0,1752.0,1752.0,1752.0,2002.0,2002.0,2002.0,2002.0,1753.0,1753.0,1502.0,1253.0,1804.0,1804.0,1252.0,1502.0,1500.0,1500.0,1500.0,1470.0,1470.0,1500.0,1500.0,1500.0,1500.0,1500.0,1750.0,1450.0,1750.0,1500.0,1750.0,1750.0,2000.0,2000.0,2000.0,2000.0,1200.0,1502.0,1752.0,1752.0,1752.0,1752.0,2002.0,2257.0,2002.0,2002.0,2002.0,1253.0,1253.0,1502.0,1253.0,2002.0,2002.0,1253.0,1377.0,1253.0,1253.0,1253.0,1502.0,1502.0,1752.0,1502.0,1753.0,1002.0,1901.0,1502.0,1502.0,1502.0,1002.0,1253.0,1125.0,1125.0,1125.0,1750.0,1500.0,1500.0,1500.0,1500.0,1500.0,1275.0,1270.0,1695.0,1695.0,1695.0,1750.0,1500.0,1500.0,1500.0,1500.0,1500.0,1250.0,1250.0,1750.0,1500.0,1750.0,1500.0,1500.0,1500.0,1750.0,1750.0,1500.0,1500.0,1710.0,1500.0,1750.0,1650.0,2100.0,2000.0,2000.0,1502.0,1700.0,1250.0,1250.0,1250.0,1253.0,1253.0,1752.0,1752.0,2002.0,2002.0,2002.0,2002.0,2002.0,2002.0,1650.0,1653.0,1253.0,1253.0,1500.0,1300.0,1300.0,1300.0,1700.0,1375.0,1653.0,1253.0,1753.0,1653.0,1750.0,1750.0,1250.0,1750.0,1270.0,1270.0,1270.0,1500.0,1250.0,1750.0,1150.0,1125.0,1000.0,1125.0,1125.0,1000.0,1000.0,1125.0,1500.0,1500.0,1250.0,1625.0,1750.0,1250.0,1650.0,1750.0,1650.0,2000.0,2000.0,2000.0,1300.0,1502.0,1250.0,1000.0,1000.0,1000.0,1000.0,1500.0,1000.0,1375.0,1250.0,1253.0,1253.0,1253.0,1253.0,1253.0,1253.0,1253.0,1653.0,1753.0,1753.0,1253.0,1253.0,1253.0,1253.0,1253.0,1253.0,1753.0,1753.0,1753.0,1253.0,1253.0,1253.0,1253.0,1253.0,1250.0,1253.0,1253.0,1253.0,1502.0,1253.0,1653.0,1253.0,1653.0,1253.0,800.0,1500.0,1500.0,1150.0,1000.0,1150.0,1500.0,1500.0,1500.0,1400.0,900.0,1000.0,1000.0,1150.0,1200.0,1625.0,1400.0,1400.0,1400.0,1375.0,1375.0,1425.0,1500.0,1350.0,1500.0,1125.0,1375.0,1375.0,1500.0,1125.0,1125.0,1125.0,1125.0,1500.0,1568.0,1200.0,1200.0,1365.0,1250.0,1365.0,1250.0,1365.0,1375.0,1502.0,1502.0,1253.0,1253.0,1270.0,1270.0,1370.0,1250.0,1125.0,1375.0,1250.0,1250.0,1000.0,1000.0,1500.0,1125.0,1375.0,1250.0,1250.0,1250.0,1253.0,1253.0,1502.0,1253.0,1350.0,1502.0,1002.0,1253.0,1250.0,1250.0,1250.0,1753.0,1253.0,1253.0,1753.0,1253.0,1253.0,1750.0,1750.0,1250.0,1250.0,1250.0,1250.0,1250.0,1253.0,1253.0,1350.0,1502.0,1125.0,1000.0,1000.0,1125.0,1125.0,1400.0,1400.0,900.0,1250.0,1375.0,1350.0,1250.0,1000.0,1000.0,1000.0,1125.0,1200.0,1365.0,1250.0,1362.0,1250.0,1253.0,1000.0,1000.0,1125.0,1375.0,800.0,800.0,1252.0,1250.0,1000.0,1003.0,1254.0,1350.0,1250.0,1000.0,1250.0,1502.0,1350.0,1250.0,1250.0,1502.0,1502.0,1400.0,1400.0,1502.0,1502.0,1502.0,1002.0,1002.0,1753.0,1002.0,1250.0,1502.0,1502.0,1502.0,1753.0,1250.0,1250.0,1502.0,1250.0,1250.0,1250.0,1250.0,1250.0,1250.0,1250.0,1375.0,700.0,1000.0,1000.0,752.0,800.0,1404.0,800.0,1350.0,900.0,600.0,1502.0,1502.0,650.0,1050.0,900.0,1050.0,1125.0,1500.0,1250.0,1500.0,800.0,1125.0,1150.0,1000.0,1125.0,1125.0,1000.0,1125.0,1500.0,1125.0,1000.0,1400.0,1200.0,1125.0,1250.0,1375.0,1375.0,1200.0,1500.0,1150.0,1150.0,1125.0,1500.0,1625.0,1150.0,1625.0,1400.0,1400.0,1500.0,1500.0,1250.0,1250.0,1200.0,1375.0,1250.0,1300.0,1300.0,1502.0,1502.0,1502.0,1502.0,1502.0,1502.0,1250.0,1375.0,1375.0,800.0,1000.0,1000.0,1250.0,1250.0,1200.0,1375.0,1250.0,800.0,800.0,1000.0,1200.0,1375.0,1375.0,900.0,785.0,957.0,1254.0,957.0,1250.0,1350.0,1502.0,1400.0,1400.0,1502.0,1000.0,1502.0,750.0,700.0,750.0,900.0,1502.0,900.0,1250.0,1502.0,785.0,851.0,700.0,700.0,1350.0,1350.0,750.0,1000.0,900.0,950.0,800.0,800.0,1000.0,1000.0,800.0,1125.0,1000.0,1125.0,1000.0,1200.0,1000.0,1200.0,1500.0,1000.0,1250.0,1250.0,1250.0,1250.0,1000.0,1500.0,1375.0,1200.0,1250.0,1300.0,1300.0,1300.0,1250.0,1250.0,1375.0,900.0,900.0,1000.0,500.0,1000.0,1250.0,1250.0,1000.0,784.0,902.0,1002.0,1002.0,900.0,750.0,1026.0,957.0,1000.0,802.0,1002.0,950.0,950.0,1002.0,1002.0,625.0,750.0,1002.0,750.0,854.0,650.0,625.0,702.0,625.0,750.0,750.0,650.0,747.0,750.0,800.0,800.0,800.0,1000.0,800.0,800.0,794.0,1000.0,600.0,1000.0,1000.0,1150.0,794.0,1200.0,900.0,900.0,1050.0,1050.0,1050.0,1000.0,1200.0,900.0,900.0,900.0,1000.0,1250.0,900.0,1100.0,1375.0,750.0,747.0,783.0,924.0,773.0,783.0,783.0,783.0,924.0,773.0,924.0,924.0,1200.0,800.0,1000.0,900.0,1000.0,1000.0,1000.0,1150.0,1150.0,1150.0,1000.0,1150.0,625.0,800.0,900.0,902.0,1000.0,902.0,900.0,900.0,850.0,850.0,850.0,625.0,802.0,837.0,750.0,924.0,600.0,950.0,950.0,1002.0,800.0,800.0,800.0,1000.0,1000.0,1000.0,650.0,702.0,600.0,747.0,900.0,800.0,800.0,1000.0,1000.0,1195.0,1200.0,1000.0,1200.0,1195.0,900.0,1000.0,1050.0,1250.0,1375.0,846.0,850.0,800.0,900.0,700.0,700.0,1000.0,700.0,550.0,900.0,800.0,800.0,900.0,750.0,850.0,975.0,1150.0,1200.0,1000.0,1200.0,1000.0,850.0,900.0,900.0,900.0,900.0,850.0,837.0,837.0,700.0,854.0,1753.0,1000.0,1375.0,1500.0,1750.0,1750.0,1375.0],\"type\":\"scatter3d\"},{\"hovertemplate\":\"memType=DDR4<br>memSize=%{x}<br>memBusWidth=%{y}<br>memClock=%{z}<extra></extra>\",\"legendgroup\":\"DDR4\",\"marker\":{\"color\":\"#B6E880\",\"symbol\":\"circle\"},\"mode\":\"markers\",\"name\":\"DDR4\",\"scene\":\"scene\",\"showlegend\":true,\"x\":[2.0,4.0,8.0,4.0,2.0,4.0],\"y\":[64.0,128.0,128.0,64.0,64.0,64.0],\"z\":[1050.0,1200.0,1200.0,1600.0,1050.0,1600.0],\"type\":\"scatter3d\"},{\"hovertemplate\":\"memType=DDR3<br>memSize=%{x}<br>memBusWidth=%{y}<br>memClock=%{z}<extra></extra>\",\"legendgroup\":\"DDR3\",\"marker\":{\"color\":\"#FF97FF\",\"symbol\":\"circle\"},\"mode\":\"markers\",\"name\":\"DDR3\",\"scene\":\"scene\",\"showlegend\":true,\"x\":[8.0,2.0,2.0,1.024,2.0,2.0,2.0,2.0,2.0,1.024,2.0,1.024,2.0,2.0,4.0,4.0,4.0,2.0,4.0,2.0,2.0,4.0,2.0,2.0,8.0,2.0,2.0,2.0,2.0,2.0,2.0,2.0,2.0,2.0,2.0,1.024,2.0,2.0,2.0,1.024,2.0,4.0,2.0,2.0,2.0,2.0,1.024,2.0,2.0,1.024,2.0,2.0,2.0,4.0,2.0,2.0,2.0,4.0,2.0,2.0,2.0,1.024,4.0,2.0,2.0,4.0,2.0,2.0,1.024,1.024,1.024,1.024,1.024,1.024,1.024,2.0,1.024,1.024,1.024,2.0,2.0,2.0,2.0,1.024,2.0,2.0,1.024,2.0,1.024,1.024,2.0,1.024,2.0,2.0,4.0,2.0,2.0,0.512,1.024,1.024,1.024,2.0,1.024,1.024,1.024,1.024,4.0,2.0,1.024,4.0,4.0,2.0,1.024,1.024,1.024,2.0,2.0,2.0,2.0,2.0,1.024,1.024,0.512,1.024,1.024,1.024,2.0,1.024,1.024,2.0,1.024,1.024,2.0,2.0,1.024,1.024,2.0,2.0,2.0,2.0,2.0,2.0,2.0,2.0,2.0,1.024,4.0,0.256,1.024,1.024,1.024,1.024,2.0,1.024,1.024,1.024,1.024,1.024,1.024,1.024,1.024,1.024,1.024,1.024,2.0,1.024,2.0,2.0,1.024,1.024,1.024,1.024,2.0,2.0,2.0,2.0,1.024,1.024,2.0,8.0,0.512,1.024,1.024,1.024,1.024,2.0,1.024,1.024,0.512,0.512,1.024,0.512,1.024,1.024,2.0,1.024,1.024,1.024,1.024,2.0,2.0,1.024,1.024,2.0,2.0,1.536,2.0,1.024,2.0,1.024,1.024,0.512,2.0,1.024,0.512,2.0,2.0,1.024,1.024,1.024,1.024,1.024,1.024,1.024,1.024,1.024,1.024,1.024,1.024,1.024,1.024,1.024,1.024,1.024,2.0,2.0,1.024,0.512,1.024,1.024,1.024,1.024,1.024,1.024,1.024,1.024,1.024,1.024,1.024,1.024,1.024,1.024,1.024,1.024,1.024,1.536,1.024,1.536,1.024,1.024,0.512,1.024,2.0,2.0,0.512,1.024,0.512,1.024,0.512,1.024,0.512,1.024,1.024,1.024,1.024,1.024,1.024,1.024,0.512,0.512,1.024,0.512,0.512,0.512,0.512,1.024,1.024,0.512,0.512,1.024,0.512,1.024,0.512,2.0,0.512,2.0,1.536,3.0,1.024,0.512,1.024,1.024,1.024,0.256,0.256,0.512,1.024,0.512,0.064,0.512,0.512,0.512,2.0],\"y\":[256.0,64.0,64.0,128.0,64.0,64.0,64.0,64.0,64.0,64.0,64.0,64.0,64.0,64.0,64.0,64.0,64.0,64.0,64.0,128.0,64.0,64.0,64.0,64.0,256.0,128.0,64.0,128.0,64.0,64.0,64.0,64.0,64.0,64.0,64.0,64.0,64.0,64.0,128.0,64.0,128.0,128.0,128.0,64.0,64.0,64.0,64.0,64.0,64.0,64.0,64.0,64.0,64.0,64.0,64.0,64.0,128.0,128.0,64.0,128.0,64.0,64.0,64.0,64.0,64.0,128.0,128.0,128.0,64.0,64.0,64.0,64.0,64.0,64.0,64.0,64.0,64.0,64.0,64.0,64.0,64.0,64.0,64.0,64.0,64.0,64.0,64.0,64.0,64.0,64.0,128.0,128.0,64.0,64.0,128.0,128.0,128.0,128.0,64.0,64.0,128.0,128.0,64.0,64.0,64.0,64.0,64.0,128.0,64.0,64.0,64.0,64.0,64.0,64.0,64.0,128.0,64.0,64.0,128.0,128.0,128.0,128.0,64.0,64.0,64.0,64.0,64.0,64.0,64.0,64.0,64.0,64.0,64.0,64.0,64.0,64.0,64.0,64.0,128.0,64.0,64.0,64.0,128.0,128.0,128.0,64.0,128.0,128.0,128.0,128.0,128.0,64.0,256.0,128.0,64.0,64.0,64.0,64.0,64.0,64.0,64.0,64.0,64.0,128.0,128.0,64.0,128.0,128.0,64.0,64.0,64.0,64.0,64.0,64.0,128.0,128.0,128.0,128.0,128.0,256.0,64.0,128.0,64.0,64.0,64.0,128.0,64.0,64.0,64.0,64.0,64.0,64.0,64.0,128.0,64.0,128.0,128.0,64.0,64.0,128.0,128.0,64.0,128.0,128.0,128.0,192.0,128.0,128.0,128.0,128.0,128.0,64.0,128.0,64.0,64.0,128.0,128.0,64.0,64.0,64.0,64.0,64.0,64.0,64.0,64.0,64.0,64.0,128.0,64.0,128.0,128.0,128.0,128.0,128.0,128.0,64.0,64.0,64.0,64.0,64.0,64.0,64.0,64.0,128.0,128.0,128.0,64.0,64.0,64.0,64.0,64.0,64.0,128.0,128.0,128.0,192.0,128.0,192.0,128.0,128.0,64.0,64.0,128.0,128.0,64.0,128.0,64.0,64.0,64.0,64.0,64.0,128.0,128.0,128.0,128.0,128.0,128.0,128.0,256.0,64.0,64.0,64.0,64.0,64.0,64.0,128.0,128.0,128.0,128.0,128.0,128.0,128.0,64.0,128.0,64.0,128.0,192.0,192.0,128.0,64.0,128.0,128.0,128.0,64.0,64.0,64.0,64.0,64.0,128.0,64.0,64.0,64.0,128.0],\"z\":[1066.0,900.0,900.0,891.0,1000.0,900.0,900.0,900.0,1001.0,1001.0,500.0,898.0,900.0,1000.0,1000.0,900.0,1000.0,1125.0,1000.0,900.0,1000.0,900.0,900.0,900.0,1066.0,901.0,900.0,901.0,1001.0,1001.0,1001.0,900.0,1001.0,900.0,1001.0,1001.0,900.0,900.0,900.0,900.0,1001.0,900.0,900.0,900.0,900.0,805.0,900.0,900.0,1000.0,1000.0,900.0,900.0,900.0,1000.0,900.0,900.0,900.0,1000.0,900.0,900.0,1000.0,1000.0,1000.0,900.0,900.0,1000.0,900.0,900.0,900.0,900.0,1000.0,900.0,900.0,900.0,1001.0,900.0,900.0,900.0,900.0,900.0,900.0,1001.0,1001.0,825.0,900.0,900.0,800.0,900.0,800.0,1001.0,800.0,900.0,1001.0,900.0,900.0,900.0,1001.0,891.0,800.0,800.0,891.0,900.0,900.0,900.0,667.0,900.0,1000.0,900.0,900.0,1000.0,1000.0,900.0,900.0,900.0,900.0,900.0,900.0,900.0,900.0,900.0,1000.0,700.0,600.0,900.0,900.0,900.0,900.0,900.0,900.0,800.0,900.0,825.0,900.0,900.0,900.0,900.0,800.0,800.0,900.0,900.0,900.0,900.0,901.0,900.0,900.0,900.0,891.0,891.0,891.0,891.0,891.0,875.0,891.0,891.0,667.0,667.0,900.0,1000.0,1000.0,1000.0,1000.0,900.0,1000.0,1000.0,900.0,1000.0,1000.0,1000.0,533.0,667.0,900.0,900.0,900.0,900.0,900.0,900.0,900.0,900.0,1000.0,1066.0,897.0,900.0,900.0,667.0,500.0,900.0,898.0,500.0,667.0,500.0,900.0,898.0,900.0,900.0,900.0,900.0,891.0,900.0,900.0,900.0,900.0,900.0,900.0,891.0,891.0,800.0,900.0,900.0,900.0,900.0,700.0,875.0,891.0,900.0,891.0,900.0,900.0,800.0,800.0,900.0,800.0,800.0,900.0,800.0,900.0,800.0,900.0,900.0,900.0,800.0,900.0,800.0,800.0,900.0,900.0,800.0,600.0,800.0,898.0,900.0,900.0,800.0,900.0,800.0,900.0,667.0,900.0,900.0,900.0,800.0,800.0,900.0,900.0,900.0,900.0,800.0,900.0,900.0,900.0,900.0,790.0,800.0,900.0,900.0,770.0,900.0,800.0,800.0,533.0,800.0,800.0,800.0,800.0,800.0,900.0,800.0,800.0,900.0,500.0,900.0,667.0,790.0,790.0,800.0,790.0,790.0,700.0,333.0,800.0,900.0,800.0,800.0,800.0,800.0,600.0,800.0,900.0,800.0,800.0,500.0,900.0,900.0,900.0,400.0,400.0,400.0,400.0,790.0,203.0,400.0,650.0,500.0,891.0],\"type\":\"scatter3d\"},{\"hovertemplate\":\"memType=LPDDR4X<br>memSize=%{x}<br>memBusWidth=%{y}<br>memClock=%{z}<extra></extra>\",\"legendgroup\":\"LPDDR4X\",\"marker\":{\"color\":\"#FECB52\",\"symbol\":\"circle\"},\"mode\":\"markers\",\"name\":\"LPDDR4X\",\"scene\":\"scene\",\"showlegend\":true,\"x\":[8.0,4.0,4.0,8.0],\"y\":[128.0,128.0,128.0,128.0],\"z\":[2133.0,2133.0,2133.0,2133.0],\"type\":\"scatter3d\"},{\"hovertemplate\":\"memType=GDDR5X<br>memSize=%{x}<br>memBusWidth=%{y}<br>memClock=%{z}<extra></extra>\",\"legendgroup\":\"GDDR5X\",\"marker\":{\"color\":\"#636efa\",\"symbol\":\"circle\"},\"mode\":\"markers\",\"name\":\"GDDR5X\",\"scene\":\"scene\",\"showlegend\":true,\"x\":[5.0,6.0,8.0,5.0,8.0,8.0,11.0,4.0,12.0,8.0,8.0,16.0,24.0,24.0,24.0,12.0,8.0,10.0],\"y\":[160.0,192.0,256.0,320.0,256.0,256.0,352.0,256.0,384.0,256.0,256.0,256.0,384.0,384.0,384.0,384.0,256.0,320.0],\"z\":[1251.0,1001.0,1001.0,1376.0,1376.0,1251.0,1376.0,1251.0,1426.0,1251.0,1251.0,1127.0,1127.0,1808.0,1808.0,1251.0,1001.0,1376.0],\"type\":\"scatter3d\"},{\"hovertemplate\":\"memType=HBM<br>memSize=%{x}<br>memBusWidth=%{y}<br>memClock=%{z}<extra></extra>\",\"legendgroup\":\"HBM\",\"marker\":{\"color\":\"#EF553B\",\"symbol\":\"circle\"},\"mode\":\"markers\",\"name\":\"HBM\",\"scene\":\"scene\",\"showlegend\":true,\"x\":[4.0,4.0,4.0,4.0,4.0,4.0,4.0],\"y\":[4096.0,4096.0,4096.0,4096.0,4096.0,4096.0,4096.0],\"z\":[500.0,500.0,500.0,500.0,500.0,500.0,500.0],\"type\":\"scatter3d\"},{\"hovertemplate\":\"memType=GDDR3<br>memSize=%{x}<br>memBusWidth=%{y}<br>memClock=%{z}<extra></extra>\",\"legendgroup\":\"GDDR3\",\"marker\":{\"color\":\"#00cc96\",\"symbol\":\"circle\"},\"mode\":\"markers\",\"name\":\"GDDR3\",\"scene\":\"scene\",\"showlegend\":true,\"x\":[0.256,1.024,2.0,1.024,1.024,1.024,1.024,1.024,2.0,1.024,0.512,1.024,1.024,1.024,2.0,0.256,0.512,1.024,0.512,0.512,0.512,0.512,0.512,1.024,1.024,1.024,1.024,0.512,0.512,0.512,0.512,0.512,1.024,1.024,1.024,1.024,1.024,0.512,1.024,0.512,0.512,1.024,1.024,1.024,2.0,1.024,1.024,1.024,1.024,1.024,1.024,1.024,0.512,0.512,0.512,0.512,0.512,1.024,1.024,1.024,0.512,1.024,0.512,1.024,1.024,0.896,1.024,0.512,1.024,1.024,0.512,0.512,1.024,1.024,1.024,0.512,1.024,1.024,1.024,1.024,0.512,1.024,1.024,0.512,0.512,1.024,0.512,1.024,1.024,1.024,1.024,1.024,1.024,0.512,0.512,1.024,0.512,0.512,0.512,0.256,1.024,0.512,0.512,1.024,1.024,0.512,0.512,0.512,1.024,1.024,0.512,1.024,1.024,1.024,1.024,1.024,1.024,1.792,1.024,0.896,1.024,1.024,0.896,0.256,0.512,0.512,0.512,0.512,0.512,0.256,1.024,0.512,0.512,0.768,1.024,0.256,0.512,1.024,0.512,0.256,0.256,0.512,0.512,0.512,1.024,1.024,4.0,4.0,0.256,0.256,0.512,1.024,0.384,0.512,0.512,0.256,0.256,0.256,0.512,0.512,0.512,0.512,0.512,0.512,0.384,0.512,0.512,0.512,1.024,0.512,0.512,0.512,1.024,0.512,0.512,0.512,0.512,0.512,0.512,0.512,0.512,0.512,1.024,0.512,1.024,0.512,0.256,0.512,0.896,0.896,0.896,0.896,1.024,1.024,0.512,0.512,0.256,0.512,0.512,0.512,0.512,0.256,1.536,0.512,0.512,0.512,0.512,0.512,0.512,1.024,0.256,1.024,1.024,1.536,1.536,4.0,0.512,0.256,0.256,0.256,0.512,1.536,1.024,1.536,4.0,4.0,0.512,0.256,0.256,0.256,0.256,0.512,0.256,0.512,0.512,0.512,0.256,0.512,0.512,1.024,0.512,0.512,0.512,2.0,4.0,4.0,0.512,0.512,2.0,0.256,0.512,0.256,0.512,0.256,0.512,0.128,0.256,0.512,0.512,0.512,0.512,0.512,0.32,0.512,0.64,0.768,0.512,0.512,0.256,0.256,0.128,0.256,0.256,0.256,0.128,0.256,0.128,0.512,0.512,0.768,0.768,1.536,1.536,0.512,0.256,0.512,0.512,0.128,0.256,0.256,0.256,0.512,0.256,0.512,0.512,0.512,0.256,0.128,0.256,0.256,0.256,0.512,0.128,0.256,0.256,1.536,1.536,1.536,0.512,0.256,0.128,0.256,0.256,0.256,0.512,0.512,0.256,0.512,0.512,0.256,0.256,0.256,0.256,0.512,0.512,0.512,0.512,0.512,0.64,0.768,0.064,0.064,0.064,0.128,0.128,0.128,0.256,0.256,0.512,0.256,0.512,0.512,0.256,0.512,0.256,0.256,0.256,0.256,0.256,0.256,0.256,0.512,0.256,0.256,0.512,0.512,0.128,1.024,0.512,0.128,0.256,0.128,0.256,0.256,0.256,0.256,0.256,0.512,0.256,0.256,0.256,0.512,0.256,0.256,0.256,0.512,0.256,0.512,0.256,0.256,0.256,1.024,0.064,0.256,0.256,0.256,0.256,0.128,0.128,0.256,0.512,1.024,0.128,0.256,0.256,0.256,0.256,0.256,0.256,0.256,0.512,0.256,0.512,0.128,0.256,0.512,0.256,0.512,0.512,0.512,0.256,0.256,0.512,0.256,0.512,0.128,0.256,0.256,0.256,0.256,0.256,0.256,0.256,0.256,0.256,0.512,0.128,0.256,0.128,0.256,0.256,0.128,0.128,0.128,0.128,0.128,0.256,0.256,0.256,0.256,0.256,0.256,0.256,0.256,0.256,0.256,0.256,0.256,0.256,0.256,0.128,0.128,0.128,0.256,0.256,0.256,0.256,0.256,0.256,0.256,0.256,0.256,0.256,0.256,0.256,0.256,0.512,0.256,0.512,0.256,0.256],\"y\":[128.0,128.0,128.0,128.0,128.0,128.0,128.0,128.0,128.0,128.0,128.0,128.0,128.0,128.0,128.0,128.0,64.0,64.0,64.0,64.0,64.0,64.0,64.0,128.0,128.0,128.0,128.0,64.0,64.0,64.0,64.0,128.0,128.0,64.0,128.0,128.0,128.0,64.0,64.0,64.0,64.0,128.0,128.0,128.0,128.0,128.0,128.0,128.0,128.0,128.0,128.0,64.0,256.0,256.0,64.0,64.0,128.0,128.0,128.0,256.0,128.0,128.0,128.0,128.0,128.0,448.0,256.0,64.0,64.0,128.0,64.0,64.0,64.0,64.0,64.0,64.0,128.0,128.0,128.0,128.0,128.0,128.0,128.0,64.0,64.0,128.0,64.0,128.0,128.0,128.0,64.0,64.0,64.0,128.0,128.0,128.0,256.0,256.0,64.0,64.0,64.0,64.0,128.0,128.0,256.0,128.0,128.0,256.0,128.0,128.0,128.0,256.0,256.0,256.0,256.0,256.0,256.0,448.0,256.0,448.0,256.0,512.0,448.0,128.0,64.0,64.0,64.0,64.0,128.0,128.0,256.0,256.0,256.0,192.0,256.0,128.0,64.0,256.0,128.0,64.0,64.0,128.0,128.0,128.0,128.0,128.0,512.0,512.0,64.0,128.0,128.0,256.0,192.0,256.0,256.0,64.0,64.0,64.0,128.0,128.0,128.0,128.0,128.0,128.0,192.0,256.0,256.0,256.0,128.0,128.0,128.0,128.0,128.0,128.0,256.0,256.0,256.0,256.0,256.0,256.0,256.0,256.0,256.0,256.0,256.0,256.0,128.0,192.0,448.0,448.0,448.0,448.0,512.0,512.0,128.0,128.0,128.0,256.0,256.0,256.0,256.0,128.0,384.0,128.0,128.0,256.0,256.0,256.0,256.0,256.0,64.0,256.0,256.0,384.0,384.0,512.0,128.0,64.0,64.0,64.0,256.0,384.0,256.0,384.0,512.0,512.0,256.0,128.0,64.0,128.0,128.0,128.0,128.0,256.0,256.0,256.0,128.0,128.0,128.0,128.0,256.0,256.0,256.0,512.0,512.0,512.0,128.0,256.0,256.0,128.0,256.0,64.0,128.0,128.0,128.0,128.0,128.0,128.0,128.0,128.0,128.0,256.0,320.0,256.0,320.0,384.0,256.0,256.0,128.0,128.0,64.0,128.0,128.0,128.0,128.0,256.0,64.0,128.0,256.0,384.0,384.0,384.0,384.0,128.0,64.0,64.0,128.0,64.0,64.0,128.0,128.0,128.0,256.0,256.0,512.0,256.0,128.0,128.0,128.0,256.0,256.0,256.0,128.0,256.0,256.0,384.0,384.0,384.0,128.0,256.0,128.0,128.0,128.0,128.0,256.0,256.0,256.0,256.0,256.0,256.0,256.0,256.0,256.0,256.0,256.0,256.0,256.0,256.0,320.0,384.0,32.0,64.0,64.0,32.0,64.0,64.0,128.0,128.0,128.0,256.0,256.0,256.0,256.0,256.0,128.0,128.0,128.0,256.0,256.0,128.0,256.0,256.0,256.0,128.0,256.0,256.0,128.0,256.0,128.0,128.0,128.0,128.0,128.0,128.0,128.0,128.0,128.0,128.0,128.0,256.0,256.0,256.0,256.0,256.0,256.0,256.0,256.0,256.0,256.0,256.0,256.0,256.0,64.0,256.0,256.0,256.0,256.0,128.0,128.0,256.0,256.0,256.0,128.0,256.0,256.0,256.0,256.0,256.0,256.0,256.0,256.0,256.0,256.0,128.0,256.0,256.0,256.0,256.0,256.0,256.0,128.0,128.0,256.0,256.0,256.0,128.0,256.0,256.0,256.0,256.0,256.0,256.0,256.0,256.0,256.0,128.0,128.0,256.0,128.0,256.0,256.0,128.0,128.0,128.0,128.0,128.0,256.0,256.0,256.0,256.0,256.0,256.0,256.0,256.0,256.0,256.0,256.0,256.0,256.0,256.0,128.0,128.0,128.0,256.0,256.0,256.0,256.0,256.0,256.0,256.0,256.0,256.0,256.0,256.0,256.0,256.0,512.0,256.0,256.0,128.0,128.0],\"z\":[650.0,800.0,667.0,667.0,800.0,800.0,500.0,800.0,900.0,800.0,700.0,900.0,850.0,800.0,900.0,650.0,400.0,500.0,800.0,500.0,533.0,800.0,800.0,800.0,800.0,900.0,800.0,600.0,600.0,800.0,800.0,693.0,667.0,600.0,500.0,390.0,1000.0,500.0,800.0,400.0,533.0,500.0,667.0,600.0,800.0,500.0,900.0,800.0,800.0,800.0,800.0,900.0,800.0,800.0,700.0,800.0,800.0,700.0,790.0,800.0,1000.0,800.0,790.0,800.0,850.0,1134.0,1000.0,700.0,900.0,900.0,600.0,800.0,800.0,800.0,667.0,800.0,600.0,800.0,800.0,800.0,795.0,800.0,800.0,790.0,790.0,800.0,790.0,790.0,800.0,667.0,800.0,800.0,800.0,700.0,800.0,900.0,700.0,1100.0,700.0,700.0,700.0,800.0,800.0,800.0,900.0,700.0,800.0,900.0,800.0,800.0,800.0,1000.0,800.0,800.0,1100.0,1000.0,1008.0,1008.0,950.0,1134.0,950.0,1242.0,999.0,800.0,600.0,600.0,700.0,800.0,800.0,790.0,850.0,850.0,888.0,800.0,1000.0,700.0,800.0,800.0,800.0,695.0,700.0,700.0,700.0,700.0,800.0,800.0,800.0,800.0,950.0,700.0,900.0,993.0,800.0,799.0,900.0,700.0,600.0,700.0,400.0,1000.0,900.0,800.0,800.0,700.0,800.0,900.0,900.0,700.0,800.0,800.0,792.0,800.0,800.0,800.0,800.0,900.0,900.0,1000.0,1100.0,1000.0,800.0,800.0,800.0,800.0,800.0,799.0,792.0,792.0,999.0,999.0,999.0,999.0,1107.0,1242.0,700.0,700.0,800.0,750.0,750.0,850.0,850.0,650.0,800.0,650.0,800.0,799.0,800.0,799.0,800.0,800.0,600.0,1000.0,800.0,800.0,800.0,800.0,800.0,700.0,700.0,700.0,525.0,800.0,800.0,800.0,800.0,800.0,800.0,800.0,950.0,800.0,830.0,693.0,828.0,828.0,828.0,901.0,700.0,1000.0,700.0,800.0,900.0,993.0,995.0,800.0,800.0,800.0,700.0,800.0,800.0,700.0,600.0,400.0,600.0,400.0,700.0,750.0,1000.0,1008.0,700.0,635.0,800.0,900.0,792.0,820.0,800.0,1080.0,800.0,800.0,350.0,400.0,800.0,750.0,685.0,700.0,396.0,480.0,446.0,800.0,600.0,700.0,700.0,800.0,800.0,700.0,594.0,600.0,700.0,700.0,500.0,700.0,800.0,800.0,800.0,800.0,828.0,830.0,390.0,400.0,695.0,600.0,600.0,690.0,300.0,493.0,490.0,800.0,800.0,800.0,700.0,477.0,500.0,725.0,700.0,700.0,625.0,625.0,600.0,625.0,625.0,600.0,660.0,660.0,660.0,660.0,800.0,600.0,700.0,600.0,792.0,900.0,350.0,350.0,350.0,450.0,450.0,450.0,350.0,600.0,500.0,550.0,500.0,600.0,333.0,700.0,475.0,470.0,400.0,500.0,650.0,650.0,625.0,500.0,660.0,450.0,525.0,605.0,400.0,505.0,500.0,600.0,700.0,250.0,600.0,400.0,700.0,700.0,700.0,680.0,700.0,495.0,500.0,725.0,600.0,600.0,725.0,775.0,690.0,690.0,900.0,703.0,540.0,648.0,243.0,500.0,400.0,400.0,490.0,500.0,700.0,650.0,648.0,650.0,200.0,500.0,500.0,600.0,500.0,500.0,500.0,600.0,800.0,600.0,550.0,425.0,550.0,600.0,500.0,525.0,525.0,525.0,390.0,690.0,700.0,500.0,700.0,450.0,500.0,493.0,400.0,490.0,490.0,490.0,500.0,540.0,590.0,700.0,492.0,500.0,430.0,475.0,454.0,500.0,475.0,560.0,400.0,550.0,500.0,500.0,500.0,500.0,500.0,550.0,550.0,550.0,550.0,425.0,400.0,450.0,500.0,500.0,250.0,430.0,525.0,450.0,450.0,398.0,490.0,500.0,500.0,500.0,500.0,560.0,560.0,520.0,540.0,590.0,828.0,600.0,850.0,690.0,450.0],\"type\":\"scatter3d\"},{\"hovertemplate\":\"memType=GDDR4<br>memSize=%{x}<br>memBusWidth=%{y}<br>memClock=%{z}<extra></extra>\",\"legendgroup\":\"GDDR4\",\"marker\":{\"color\":\"#ab63fa\",\"symbol\":\"circle\"},\"mode\":\"markers\",\"name\":\"GDDR4\",\"scene\":\"scene\",\"showlegend\":true,\"x\":[1.024,0.512,0.512,0.512,1.024,2.0,0.256,0.512,0.512,0.512,0.512,0.512,0.512],\"y\":[128.0,256.0,128.0,256.0,512.0,512.0,128.0,256.0,256.0,256.0,256.0,256.0,256.0],\"z\":[1050.0,1126.0,1100.0,1126.0,868.0,868.0,1100.0,1126.0,1050.0,1000.0,1000.0,1126.0,1126.0],\"type\":\"scatter3d\"},{\"hovertemplate\":\"memType=DDR2<br>memSize=%{x}<br>memBusWidth=%{y}<br>memClock=%{z}<extra></extra>\",\"legendgroup\":\"DDR2\",\"marker\":{\"color\":\"#FFA15A\",\"symbol\":\"circle\"},\"mode\":\"markers\",\"name\":\"DDR2\",\"scene\":\"scene\",\"showlegend\":true,\"x\":[0.128,0.256,0.256,0.512,0.512,1.024,1.024,1.024,0.512,0.512,0.256,0.512,0.512,0.512,0.512,0.512,1.024,0.512,0.512,0.256,0.512,0.512,0.128,0.512,1.024,0.512,0.512,1.536,0.512,0.256,0.512,0.512,0.512,1.024,0.512,0.256,0.256,0.256,0.256,0.256,0.128,0.256,0.512,0.256,0.512,0.128,0.256,0.512,0.512,0.768,1.024,0.256,0.256,0.256,0.256,0.256,0.256,0.512,0.512,0.512,0.512,0.512,0.512,0.512,0.256,1.024,0.512,1.024,0.256,0.256,0.256,0.128,0.256,0.256,0.512,0.512,0.256,0.512,0.512,0.512,0.128,0.256,0.256,0.256,0.064,0.256,0.256,0.512,0.256,0.256,0.256,0.256,0.256,0.256,0.256,0.256,0.512,0.256,0.512,0.256,0.256,0.512,0.256,0.256,0.128,0.256,0.256,0.512,0.256,0.256,0.256,0.256,0.512,0.128,0.128,0.256,0.256,0.128,0.128,0.128,0.256,0.128,0.064,0.256,0.256,0.256,0.256,0.064,0.128,0.128,0.128,0.128,0.128,0.128,1.024,0.512,0.128,0.128,0.256,0.256,0.128,0.256,0.256,0.064,0.128,0.256,0.128,0.256,0.512,0.512,0.128,0.128,0.064,0.256,0.256,0.128,0.128,0.256,0.128,0.256,0.256,0.256,0.256],\"y\":[64.0,64.0,64.0,64.0,64.0,128.0,128.0,128.0,64.0,128.0,128.0,64.0,128.0,64.0,64.0,64.0,64.0,64.0,64.0,64.0,64.0,64.0,64.0,128.0,128.0,192.0,128.0,192.0,128.0,64.0,128.0,64.0,64.0,128.0,128.0,64.0,64.0,64.0,64.0,64.0,64.0,64.0,64.0,64.0,128.0,64.0,128.0,128.0,128.0,192.0,256.0,64.0,64.0,64.0,64.0,64.0,64.0,64.0,64.0,64.0,128.0,128.0,64.0,64.0,64.0,64.0,128.0,256.0,128.0,128.0,128.0,64.0,64.0,64.0,64.0,64.0,64.0,128.0,128.0,128.0,128.0,64.0,64.0,128.0,64.0,32.0,128.0,256.0,64.0,64.0,128.0,64.0,64.0,64.0,64.0,64.0,64.0,128.0,128.0,128.0,64.0,64.0,128.0,128.0,64.0,64.0,64.0,128.0,64.0,128.0,128.0,128.0,128.0,64.0,64.0,64.0,64.0,128.0,128.0,64.0,64.0,64.0,64.0,128.0,128.0,128.0,128.0,256.0,128.0,64.0,64.0,128.0,128.0,64.0,256.0,64.0,64.0,64.0,128.0,128.0,64.0,64.0,64.0,32.0,128.0,128.0,64.0,128.0,128.0,64.0,128.0,128.0,64.0,256.0,256.0,128.0,128.0,256.0,128.0,128.0,128.0,128.0,128.0],\"z\":[600.0,350.0,333.0,400.0,667.0,500.0,500.0,400.0,400.0,400.0,510.0,495.0,400.0,400.0,333.0,400.0,400.0,400.0,333.0,400.0,500.0,504.0,400.0,504.0,500.0,500.0,1000.0,500.0,600.0,396.0,396.0,396.0,400.0,396.0,594.0,500.0,500.0,500.0,200.0,200.0,400.0,400.0,333.0,400.0,400.0,600.0,400.0,504.0,500.0,1000.0,266.0,400.0,400.0,400.0,400.0,500.0,495.0,500.0,400.0,396.0,500.0,396.0,400.0,400.0,655.0,500.0,400.0,396.0,500.0,400.0,400.0,400.0,500.0,400.0,333.0,400.0,400.0,400.0,400.0,400.0,400.0,400.0,400.0,400.0,392.0,378.0,400.0,400.0,600.0,500.0,400.0,700.0,400.0,400.0,400.0,400.0,400.0,500.0,396.0,405.0,500.0,500.0,400.0,400.0,333.0,330.0,266.0,400.0,392.0,400.0,400.0,392.0,500.0,266.0,334.0,266.0,266.0,325.0,325.0,324.0,266.0,400.0,405.0,400.0,400.0,400.0,400.0,200.0,250.0,392.0,324.0,250.0,450.0,405.0,505.0,700.0,300.0,333.0,400.0,400.0,400.0,400.0,266.0,266.0,266.0,266.0,250.0,250.0,275.0,300.0,250.0,325.0,200.0,350.0,344.0,300.0,400.0,500.0,500.0,450.0,500.0,450.0,500.0],\"type\":\"scatter3d\"},{\"hovertemplate\":\"memType=CDRAM<br>memSize=%{x}<br>memBusWidth=%{y}<br>memClock=%{z}<extra></extra>\",\"legendgroup\":\"CDRAM\",\"marker\":{\"color\":\"#19d3f3\",\"symbol\":\"circle\"},\"mode\":\"markers\",\"name\":\"CDRAM\",\"scene\":\"scene\",\"showlegend\":true,\"x\":[0.128],\"y\":[64.0],\"z\":[400.0],\"type\":\"scatter3d\"},{\"hovertemplate\":\"memType=DDR<br>memSize=%{x}<br>memBusWidth=%{y}<br>memClock=%{z}<extra></extra>\",\"legendgroup\":\"DDR\",\"marker\":{\"color\":\"#FF6692\",\"symbol\":\"circle\"},\"mode\":\"markers\",\"name\":\"DDR\",\"scene\":\"scene\",\"showlegend\":true,\"x\":[0.128,0.128,0.128,0.128,0.128,0.128,0.064,0.032,0.032,0.032,0.128,0.512,0.128,0.256,0.128,0.256,0.256,0.128,0.128,0.128,0.128,0.128,0.256,0.256,0.256,0.128,0.064,0.256,0.128,0.128,0.128,0.128,0.128,0.256,0.064,0.064,0.064,0.128,0.256,0.128,0.256,0.064,0.128,0.128,0.256,0.128,0.128,0.128,0.128,0.128,0.128,0.128,0.128,0.128,0.128,0.128,0.128,0.256,0.064,0.064,0.256,0.128,0.256,0.256,0.128,0.128,0.128,0.064,0.256,0.128,0.128,0.128,0.064,0.128,0.128,0.128,0.128,0.016,0.128,0.064,0.128,0.128,0.128,0.064,0.128,0.256,0.128,0.064,0.128,0.256,0.256,0.128,0.128,0.256,0.128,0.128,0.128,0.128,0.128,0.128,0.064,0.064,0.064,0.032,0.032,0.064,0.064,0.128,0.128,0.256,0.064,0.064,0.064,0.256,0.128,0.128,0.128,0.128,0.128,0.128,0.128,0.128,0.256,0.128,0.256,0.064,0.128,0.128,0.128,0.128,0.128,0.128,0.064,0.128,0.064,0.128,0.128,0.128,0.256,0.128,0.128,0.128,0.128,0.128,0.128,0.064,0.128,0.128,0.256,0.128,0.128,0.256,0.032,0.032,0.032,0.032,0.064,0.032,0.064,0.064,0.064,0.064,0.128,0.128,0.128,0.128,0.128,0.128,0.128,0.128,0.128,0.016,0.016,0.032,0.032,0.256,0.256,0.256,0.256,0.256,0.256,0.256,0.128,0.128,0.064,0.064,0.064,0.064,0.064,0.064,0.064,0.128,0.064,0.128,0.128,0.064,0.064,0.064,0.064,0.064,0.064,0.128,0.064,0.128,0.128,0.128,0.256,0.128,0.128,0.128,0.128,0.256,0.128,0.256,0.256,0.128,0.128,0.256,0.256,0.256,0.256,0.128,0.064,0.064,0.128,0.128,0.256,0.256,0.016,0.032,0.064,0.064,0.064,0.064,0.064,0.064,0.064,0.064,0.032,0.064,0.064,0.064,0.064,0.064,0.064,0.128,0.128,0.128,0.128,0.032,0.032,0.064,0.064,0.064,0.032,0.032,0.128,0.128,0.256,0.128,0.064,0.064,0.064,0.128,0.128,0.128,0.032,0.064,0.064,0.064,0.128,0.128,0.128,0.128,0.128,0.128,0.064,0.128,0.064,0.128,0.016,0.032,0.032,0.064,0.064,0.064,0.064,0.032,0.032,0.064,0.032,0.032,0.016,0.032,0.064,0.032,0.032,0.064,0.064,0.064,0.064,0.064,0.064,0.032,0.032,0.032,0.064,0.032,0.064,0.128,0.064,0.064,0.032,0.032,0.064,0.064,0.032,0.032,0.032,0.064,0.032,0.032,0.032,0.016,0.016,0.016,0.032,0.032,0.064,0.128,0.064,0.064,0.064,0.016,0.016,0.032],\"y\":[128.0,64.0,128.0,64.0,256.0,64.0,64.0,64.0,64.0,64.0,128.0,64.0,128.0,128.0,64.0,128.0,128.0,64.0,64.0,64.0,128.0,128.0,256.0,128.0,256.0,128.0,64.0,128.0,128.0,128.0,64.0,128.0,128.0,256.0,64.0,64.0,64.0,128.0,128.0,128.0,128.0,64.0,128.0,128.0,128.0,128.0,64.0,256.0,256.0,64.0,128.0,64.0,128.0,64.0,128.0,256.0,128.0,64.0,32.0,64.0,128.0,128.0,256.0,256.0,256.0,256.0,256.0,128.0,128.0,64.0,64.0,128.0,64.0,128.0,128.0,128.0,128.0,32.0,64.0,64.0,64.0,128.0,128.0,128.0,64.0,256.0,128.0,128.0,256.0,256.0,128.0,64.0,128.0,64.0,256.0,256.0,128.0,128.0,128.0,128.0,128.0,128.0,128.0,64.0,64.0,128.0,64.0,64.0,256.0,256.0,128.0,128.0,64.0,128.0,128.0,128.0,64.0,128.0,128.0,128.0,128.0,128.0,256.0,256.0,256.0,128.0,128.0,128.0,256.0,256.0,128.0,128.0,128.0,64.0,64.0,128.0,128.0,64.0,128.0,64.0,128.0,128.0,128.0,128.0,128.0,128.0,256.0,256.0,256.0,256.0,256.0,256.0,64.0,128.0,128.0,64.0,128.0,64.0,128.0,128.0,128.0,128.0,128.0,128.0,256.0,64.0,64.0,64.0,128.0,128.0,128.0,64.0,64.0,64.0,256.0,64.0,64.0,64.0,64.0,64.0,256.0,256.0,128.0,128.0,64.0,128.0,128.0,128.0,128.0,128.0,128.0,128.0,128.0,128.0,128.0,64.0,64.0,256.0,128.0,64.0,128.0,128.0,64.0,128.0,128.0,256.0,256.0,256.0,256.0,128.0,256.0,256.0,256.0,256.0,256.0,128.0,128.0,128.0,128.0,128.0,128.0,128.0,128.0,128.0,256.0,256.0,256.0,256.0,64.0,64.0,128.0,128.0,128.0,128.0,64.0,128.0,128.0,128.0,32.0,64.0,128.0,128.0,128.0,64.0,128.0,128.0,128.0,128.0,128.0,64.0,64.0,128.0,64.0,64.0,64.0,64.0,256.0,256.0,256.0,128.0,128.0,128.0,128.0,128.0,128.0,128.0,128.0,128.0,128.0,128.0,128.0,128.0,256.0,256.0,256.0,128.0,128.0,256.0,128.0,128.0,32.0,64.0,64.0,128.0,128.0,128.0,128.0,64.0,64.0,128.0,64.0,64.0,64.0,64.0,128.0,64.0,64.0,128.0,128.0,128.0,128.0,128.0,128.0,128.0,64.0,64.0,128.0,128.0,256.0,256.0,64.0,128.0,128.0,128.0,128.0,128.0,64.0,64.0,128.0,128.0,128.0,128.0,128.0,64.0,64.0,64.0,64.0,64.0,64.0,128.0,128.0,128.0,128.0,128.0,128.0,128.0],\"z\":[500.0,200.0,203.0,300.0,350.0,196.0,200.0,300.0,350.0,350.0,250.0,300.0,200.0,400.0,300.0,196.0,300.0,250.0,266.0,266.0,250.0,200.0,300.0,266.0,350.0,275.0,300.0,350.0,300.0,200.0,250.0,300.0,330.0,295.0,200.0,200.0,200.0,325.0,250.0,250.0,250.0,250.0,250.0,400.0,400.0,250.0,250.0,350.0,493.0,300.0,200.0,164.0,324.0,196.0,350.0,350.0,275.0,266.0,250.0,250.0,250.0,250.0,300.0,350.0,350.0,250.0,350.0,166.0,200.0,200.0,200.0,200.0,166.0,200.0,275.0,225.0,200.0,139.0,190.0,243.0,200.0,200.0,243.0,275.0,200.0,300.0,250.0,250.0,300.0,325.0,300.0,300.0,300.0,300.0,275.0,300.0,240.0,275.0,285.0,225.0,250.0,250.0,166.0,183.0,183.0,275.0,200.0,200.0,338.0,365.0,200.0,200.0,200.0,250.0,300.0,300.0,250.0,370.0,250.0,250.0,350.0,472.0,350.0,350.0,400.0,270.0,196.0,324.0,310.0,338.0,297.0,297.0,203.0,66.0,166.0,200.0,200.0,166.0,200.0,200.0,325.0,325.0,250.0,400.0,200.0,200.0,250.0,425.0,425.0,350.0,350.0,475.0,200.0,200.0,200.0,200.0,250.0,200.0,250.0,250.0,250.0,275.0,250.0,295.0,275.0,166.0,166.0,166.0,325.0,325.0,200.0,144.0,144.0,200.0,230.0,250.0,250.0,250.0,250.0,250.0,425.0,425.0,240.0,295.0,250.0,166.0,166.0,250.0,223.0,250.0,250.0,200.0,200.0,200.0,166.0,166.0,166.0,270.0,200.0,200.0,189.0,300.0,200.0,270.0,300.0,290.0,340.0,340.0,340.0,290.0,297.0,365.0,338.0,375.0,375.0,200.0,207.0,325.0,375.0,325.0,375.0,270.0,180.0,250.0,310.0,310.0,310.0,276.0,200.0,200.0,220.0,200.0,250.0,275.0,200.0,200.0,200.0,250.0,250.0,200.0,166.0,166.0,225.0,250.0,250.0,275.0,324.0,276.0,250.0,166.0,166.0,200.0,200.0,200.0,200.0,166.0,275.0,250.0,250.0,256.0,200.0,200.0,225.0,225.0,325.0,325.0,180.0,250.0,200.0,200.0,275.0,270.0,270.0,310.0,310.0,275.0,190.0,150.0,270.0,290.0,166.0,166.0,166.0,200.0,230.0,200.0,250.0,166.0,166.0,200.0,200.0,183.0,183.0,181.0,250.0,183.0,133.0,230.0,175.0,275.0,183.0,166.0,180.0,148.0,183.0,183.0,200.0,166.0,120.0,125.0,166.0,166.0,166.0,200.0,200.0,230.0,166.0,166.0,166.0,166.0,166.0,148.0,150.0,130.0,105.0,130.0,125.0,125.0,250.0,300.0,200.0,200.0,200.0,143.0,166.0,166.0],\"type\":\"scatter3d\"},{\"hovertemplate\":\"memType=eDRAM<br>memSize=%{x}<br>memBusWidth=%{y}<br>memClock=%{z}<extra></extra>\",\"legendgroup\":\"eDRAM\",\"marker\":{\"color\":\"#B6E880\",\"symbol\":\"circle\"},\"mode\":\"markers\",\"name\":\"eDRAM\",\"scene\":\"scene\",\"showlegend\":true,\"x\":[0.004,0.002,0.004,0.002,0.004,0.004],\"y\":[2560.0,512.0,2560.0,512.0,2560.0,2560.0],\"z\":[150.0,83.0,150.0,83.0,150.0,150.0],\"type\":\"scatter3d\"},{\"hovertemplate\":\"memType=GDDR2<br>memSize=%{x}<br>memBusWidth=%{y}<br>memClock=%{z}<extra></extra>\",\"legendgroup\":\"GDDR2\",\"marker\":{\"color\":\"#FF97FF\",\"symbol\":\"circle\"},\"mode\":\"markers\",\"name\":\"GDDR2\",\"scene\":\"scene\",\"showlegend\":true,\"x\":[0.128,0.128,0.128],\"y\":[128.0,128.0,128.0],\"z\":[453.0,400.0,500.0],\"type\":\"scatter3d\"},{\"hovertemplate\":\"memType=SDR<br>memSize=%{x}<br>memBusWidth=%{y}<br>memClock=%{z}<extra></extra>\",\"legendgroup\":\"SDR\",\"marker\":{\"color\":\"#FECB52\",\"symbol\":\"circle\"},\"mode\":\"markers\",\"name\":\"SDR\",\"scene\":\"scene\",\"showlegend\":true,\"x\":[0.128,0.064,0.064,0.064,0.064,0.064,0.128,0.032,0.032,0.064,0.032,0.064,0.016,0.032,0.032,0.032,0.032,0.032,0.032,0.032,0.032,0.032,0.008,0.032,0.032,0.032,0.032,0.032,0.016,0.032,0.032,0.032,0.032,0.016,0.016,0.008,0.008,0.032,0.032,0.032,0.032,0.032,0.032,0.032,0.016,0.008,0.004,0.008,0.008,0.016,0.008,0.008,0.016,0.016,0.016,0.032,0.032,0.008,0.016,0.016,0.016,0.016,0.016,0.016,0.004,0.008,0.008,0.008,0.008,0.032,0.032,0.008,0.008,0.016,0.016,0.016,0.002,0.008,0.008,0.008,0.004,0.008,0.004,0.004,0.004,0.004,0.004,0.002,0.012,0.016,0.064,0.016,0.032,0.016,0.016,0.032],\"y\":[128.0,128.0,64.0,128.0,128.0,128.0,128.0,64.0,64.0,64.0,128.0,128.0,64.0,128.0,128.0,128.0,64.0,128.0,128.0,128.0,128.0,128.0,64.0,128.0,128.0,128.0,128.0,128.0,128.0,128.0,128.0,256.0,128.0,64.0,128.0,64.0,64.0,128.0,128.0,128.0,128.0,64.0,128.0,128.0,64.0,64.0,64.0,64.0,64.0,64.0,64.0,32.0,64.0,64.0,64.0,128.0,128.0,128.0,128.0,128.0,128.0,128.0,128.0,128.0,64.0,64.0,64.0,64.0,64.0,128.0,128.0,64.0,128.0,128.0,128.0,128.0,64.0,64.0,64.0,64.0,64.0,64.0,128.0,128.0,64.0,64.0,64.0,64.0,128.0,128.0,128.0,128.0,128.0,128.0,128.0,128.0],\"z\":[275.0,166.0,166.0,250.0,250.0,220.0,166.0,166.0,166.0,166.0,166.0,230.0,162.0,166.0,166.0,166.0,166.0,183.0,183.0,143.0,166.0,166.0,100.0,166.0,166.0,166.0,166.0,90.0,90.0,120.0,134.0,100.0,143.0,133.0,166.0,112.0,128.0,166.0,200.0,166.0,143.0,130.0,120.0,143.0,105.0,70.0,70.0,125.0,105.0,105.0,70.0,83.0,143.0,133.0,133.0,167.0,183.0,143.0,143.0,143.0,143.0,166.0,166.0,183.0,100.0,100.0,112.0,112.0,112.0,60.0,103.0,83.0,100.0,110.0,100.0,100.0,75.0,75.0,100.0,100.0,75.0,75.0,100.0,100.0,83.0,83.0,83.0,83.0,143.0,166.0,166.0,166.0,166.0,166.0,166.0,166.0],\"type\":\"scatter3d\"},{\"hovertemplate\":\"memType=SGR<br>memSize=%{x}<br>memBusWidth=%{y}<br>memClock=%{z}<extra></extra>\",\"legendgroup\":\"SGR\",\"marker\":{\"color\":\"#636efa\",\"symbol\":\"circle\"},\"mode\":\"markers\",\"name\":\"SGR\",\"scene\":\"scene\",\"showlegend\":true,\"x\":[0.008,0.002],\"y\":[64.0,64.0],\"z\":[143.0,62.0],\"type\":\"scatter3d\"},{\"hovertemplate\":\"memType=EDO<br>memSize=%{x}<br>memBusWidth=%{y}<br>memClock=%{z}<extra></extra>\",\"legendgroup\":\"EDO\",\"marker\":{\"color\":\"#EF553B\",\"symbol\":\"circle\"},\"mode\":\"markers\",\"name\":\"EDO\",\"scene\":\"scene\",\"showlegend\":true,\"x\":[0.012,0.008,0.002,0.001,0.002,0.004,0.002,0.002,0.001,0.002,0.002],\"y\":[192.0,192.0,64.0,64.0,64.0,128.0,64.0,64.0,64.0,64.0,64.0],\"z\":[90.0,90.0,66.0,62.0,62.0,50.0,40.0,60.0,66.0,40.0,40.0],\"type\":\"scatter3d\"},{\"hovertemplate\":\"memType=SGRAM<br>memSize=%{x}<br>memBusWidth=%{y}<br>memClock=%{z}<extra></extra>\",\"legendgroup\":\"SGRAM\",\"marker\":{\"color\":\"#00cc96\",\"symbol\":\"circle\"},\"mode\":\"markers\",\"name\":\"SGRAM\",\"scene\":\"scene\",\"showlegend\":true,\"x\":[0.001],\"y\":[32.0],\"z\":[33.0],\"type\":\"scatter3d\"},{\"hovertemplate\":\"memType=VRAM<br>memSize=%{x}<br>memBusWidth=%{y}<br>memClock=%{z}<extra></extra>\",\"legendgroup\":\"VRAM\",\"marker\":{\"color\":\"#ab63fa\",\"symbol\":\"circle\"},\"mode\":\"markers\",\"name\":\"VRAM\",\"scene\":\"scene\",\"showlegend\":true,\"x\":[0.002,0.002,0.001,0.001,0.001,0.001,0.001],\"y\":[64.0,64.0,32.0,64.0,64.0,32.0,32.0],\"z\":[40.0,40.0,33.0,10.0,10.0,10.0,10.0],\"type\":\"scatter3d\"},{\"hovertemplate\":\"memType=DRAM<br>memSize=%{x}<br>memBusWidth=%{y}<br>memClock=%{z}<extra></extra>\",\"legendgroup\":\"DRAM\",\"marker\":{\"color\":\"#FFA15A\",\"symbol\":\"circle\"},\"mode\":\"markers\",\"name\":\"DRAM\",\"scene\":\"scene\",\"showlegend\":true,\"x\":[0.002,0.001,0.002,0.002,0.001,0.001,0.001,0.001,0.000256,0.000512,0.000256,0.000256,0.000256,6.4e-05,0.000256,3.2e-05,6.4e-05],\"y\":[64.0,64.0,64.0,64.0,32.0,64.0,64.0,32.0,32.0,32.0,32.0,32.0,32.0,32.0,32.0,32.0,32.0],\"z\":[40.0,83.0,10.0,10.0,10.0,10.0,10.0,10.0,10.0,10.0,8.0,8.0,8.0,5.0,10.0,5.0,5.0],\"type\":\"scatter3d\"},{\"hovertemplate\":\"memType=FPM<br>memSize=%{x}<br>memBusWidth=%{y}<br>memClock=%{z}<extra></extra>\",\"legendgroup\":\"FPM\",\"marker\":{\"color\":\"#19d3f3\",\"symbol\":\"circle\"},\"mode\":\"markers\",\"name\":\"FPM\",\"scene\":\"scene\",\"showlegend\":true,\"x\":[0.001],\"y\":[64.0],\"z\":[50.0],\"type\":\"scatter3d\"}],                        {\"template\":{\"data\":{\"histogram2dcontour\":[{\"type\":\"histogram2dcontour\",\"colorbar\":{\"outlinewidth\":0,\"ticks\":\"\"},\"colorscale\":[[0.0,\"#0d0887\"],[0.1111111111111111,\"#46039f\"],[0.2222222222222222,\"#7201a8\"],[0.3333333333333333,\"#9c179e\"],[0.4444444444444444,\"#bd3786\"],[0.5555555555555556,\"#d8576b\"],[0.6666666666666666,\"#ed7953\"],[0.7777777777777778,\"#fb9f3a\"],[0.8888888888888888,\"#fdca26\"],[1.0,\"#f0f921\"]]}],\"choropleth\":[{\"type\":\"choropleth\",\"colorbar\":{\"outlinewidth\":0,\"ticks\":\"\"}}],\"histogram2d\":[{\"type\":\"histogram2d\",\"colorbar\":{\"outlinewidth\":0,\"ticks\":\"\"},\"colorscale\":[[0.0,\"#0d0887\"],[0.1111111111111111,\"#46039f\"],[0.2222222222222222,\"#7201a8\"],[0.3333333333333333,\"#9c179e\"],[0.4444444444444444,\"#bd3786\"],[0.5555555555555556,\"#d8576b\"],[0.6666666666666666,\"#ed7953\"],[0.7777777777777778,\"#fb9f3a\"],[0.8888888888888888,\"#fdca26\"],[1.0,\"#f0f921\"]]}],\"heatmap\":[{\"type\":\"heatmap\",\"colorbar\":{\"outlinewidth\":0,\"ticks\":\"\"},\"colorscale\":[[0.0,\"#0d0887\"],[0.1111111111111111,\"#46039f\"],[0.2222222222222222,\"#7201a8\"],[0.3333333333333333,\"#9c179e\"],[0.4444444444444444,\"#bd3786\"],[0.5555555555555556,\"#d8576b\"],[0.6666666666666666,\"#ed7953\"],[0.7777777777777778,\"#fb9f3a\"],[0.8888888888888888,\"#fdca26\"],[1.0,\"#f0f921\"]]}],\"heatmapgl\":[{\"type\":\"heatmapgl\",\"colorbar\":{\"outlinewidth\":0,\"ticks\":\"\"},\"colorscale\":[[0.0,\"#0d0887\"],[0.1111111111111111,\"#46039f\"],[0.2222222222222222,\"#7201a8\"],[0.3333333333333333,\"#9c179e\"],[0.4444444444444444,\"#bd3786\"],[0.5555555555555556,\"#d8576b\"],[0.6666666666666666,\"#ed7953\"],[0.7777777777777778,\"#fb9f3a\"],[0.8888888888888888,\"#fdca26\"],[1.0,\"#f0f921\"]]}],\"contourcarpet\":[{\"type\":\"contourcarpet\",\"colorbar\":{\"outlinewidth\":0,\"ticks\":\"\"}}],\"contour\":[{\"type\":\"contour\",\"colorbar\":{\"outlinewidth\":0,\"ticks\":\"\"},\"colorscale\":[[0.0,\"#0d0887\"],[0.1111111111111111,\"#46039f\"],[0.2222222222222222,\"#7201a8\"],[0.3333333333333333,\"#9c179e\"],[0.4444444444444444,\"#bd3786\"],[0.5555555555555556,\"#d8576b\"],[0.6666666666666666,\"#ed7953\"],[0.7777777777777778,\"#fb9f3a\"],[0.8888888888888888,\"#fdca26\"],[1.0,\"#f0f921\"]]}],\"surface\":[{\"type\":\"surface\",\"colorbar\":{\"outlinewidth\":0,\"ticks\":\"\"},\"colorscale\":[[0.0,\"#0d0887\"],[0.1111111111111111,\"#46039f\"],[0.2222222222222222,\"#7201a8\"],[0.3333333333333333,\"#9c179e\"],[0.4444444444444444,\"#bd3786\"],[0.5555555555555556,\"#d8576b\"],[0.6666666666666666,\"#ed7953\"],[0.7777777777777778,\"#fb9f3a\"],[0.8888888888888888,\"#fdca26\"],[1.0,\"#f0f921\"]]}],\"mesh3d\":[{\"type\":\"mesh3d\",\"colorbar\":{\"outlinewidth\":0,\"ticks\":\"\"}}],\"scatter\":[{\"fillpattern\":{\"fillmode\":\"overlay\",\"size\":10,\"solidity\":0.2},\"type\":\"scatter\"}],\"parcoords\":[{\"type\":\"parcoords\",\"line\":{\"colorbar\":{\"outlinewidth\":0,\"ticks\":\"\"}}}],\"scatterpolargl\":[{\"type\":\"scatterpolargl\",\"marker\":{\"colorbar\":{\"outlinewidth\":0,\"ticks\":\"\"}}}],\"bar\":[{\"error_x\":{\"color\":\"#2a3f5f\"},\"error_y\":{\"color\":\"#2a3f5f\"},\"marker\":{\"line\":{\"color\":\"#E5ECF6\",\"width\":0.5},\"pattern\":{\"fillmode\":\"overlay\",\"size\":10,\"solidity\":0.2}},\"type\":\"bar\"}],\"scattergeo\":[{\"type\":\"scattergeo\",\"marker\":{\"colorbar\":{\"outlinewidth\":0,\"ticks\":\"\"}}}],\"scatterpolar\":[{\"type\":\"scatterpolar\",\"marker\":{\"colorbar\":{\"outlinewidth\":0,\"ticks\":\"\"}}}],\"histogram\":[{\"marker\":{\"pattern\":{\"fillmode\":\"overlay\",\"size\":10,\"solidity\":0.2}},\"type\":\"histogram\"}],\"scattergl\":[{\"type\":\"scattergl\",\"marker\":{\"colorbar\":{\"outlinewidth\":0,\"ticks\":\"\"}}}],\"scatter3d\":[{\"type\":\"scatter3d\",\"line\":{\"colorbar\":{\"outlinewidth\":0,\"ticks\":\"\"}},\"marker\":{\"colorbar\":{\"outlinewidth\":0,\"ticks\":\"\"}}}],\"scattermapbox\":[{\"type\":\"scattermapbox\",\"marker\":{\"colorbar\":{\"outlinewidth\":0,\"ticks\":\"\"}}}],\"scatterternary\":[{\"type\":\"scatterternary\",\"marker\":{\"colorbar\":{\"outlinewidth\":0,\"ticks\":\"\"}}}],\"scattercarpet\":[{\"type\":\"scattercarpet\",\"marker\":{\"colorbar\":{\"outlinewidth\":0,\"ticks\":\"\"}}}],\"carpet\":[{\"aaxis\":{\"endlinecolor\":\"#2a3f5f\",\"gridcolor\":\"white\",\"linecolor\":\"white\",\"minorgridcolor\":\"white\",\"startlinecolor\":\"#2a3f5f\"},\"baxis\":{\"endlinecolor\":\"#2a3f5f\",\"gridcolor\":\"white\",\"linecolor\":\"white\",\"minorgridcolor\":\"white\",\"startlinecolor\":\"#2a3f5f\"},\"type\":\"carpet\"}],\"table\":[{\"cells\":{\"fill\":{\"color\":\"#EBF0F8\"},\"line\":{\"color\":\"white\"}},\"header\":{\"fill\":{\"color\":\"#C8D4E3\"},\"line\":{\"color\":\"white\"}},\"type\":\"table\"}],\"barpolar\":[{\"marker\":{\"line\":{\"color\":\"#E5ECF6\",\"width\":0.5},\"pattern\":{\"fillmode\":\"overlay\",\"size\":10,\"solidity\":0.2}},\"type\":\"barpolar\"}],\"pie\":[{\"automargin\":true,\"type\":\"pie\"}]},\"layout\":{\"autotypenumbers\":\"strict\",\"colorway\":[\"#636efa\",\"#EF553B\",\"#00cc96\",\"#ab63fa\",\"#FFA15A\",\"#19d3f3\",\"#FF6692\",\"#B6E880\",\"#FF97FF\",\"#FECB52\"],\"font\":{\"color\":\"#2a3f5f\"},\"hovermode\":\"closest\",\"hoverlabel\":{\"align\":\"left\"},\"paper_bgcolor\":\"white\",\"plot_bgcolor\":\"#E5ECF6\",\"polar\":{\"bgcolor\":\"#E5ECF6\",\"angularaxis\":{\"gridcolor\":\"white\",\"linecolor\":\"white\",\"ticks\":\"\"},\"radialaxis\":{\"gridcolor\":\"white\",\"linecolor\":\"white\",\"ticks\":\"\"}},\"ternary\":{\"bgcolor\":\"#E5ECF6\",\"aaxis\":{\"gridcolor\":\"white\",\"linecolor\":\"white\",\"ticks\":\"\"},\"baxis\":{\"gridcolor\":\"white\",\"linecolor\":\"white\",\"ticks\":\"\"},\"caxis\":{\"gridcolor\":\"white\",\"linecolor\":\"white\",\"ticks\":\"\"}},\"coloraxis\":{\"colorbar\":{\"outlinewidth\":0,\"ticks\":\"\"}},\"colorscale\":{\"sequential\":[[0.0,\"#0d0887\"],[0.1111111111111111,\"#46039f\"],[0.2222222222222222,\"#7201a8\"],[0.3333333333333333,\"#9c179e\"],[0.4444444444444444,\"#bd3786\"],[0.5555555555555556,\"#d8576b\"],[0.6666666666666666,\"#ed7953\"],[0.7777777777777778,\"#fb9f3a\"],[0.8888888888888888,\"#fdca26\"],[1.0,\"#f0f921\"]],\"sequentialminus\":[[0.0,\"#0d0887\"],[0.1111111111111111,\"#46039f\"],[0.2222222222222222,\"#7201a8\"],[0.3333333333333333,\"#9c179e\"],[0.4444444444444444,\"#bd3786\"],[0.5555555555555556,\"#d8576b\"],[0.6666666666666666,\"#ed7953\"],[0.7777777777777778,\"#fb9f3a\"],[0.8888888888888888,\"#fdca26\"],[1.0,\"#f0f921\"]],\"diverging\":[[0,\"#8e0152\"],[0.1,\"#c51b7d\"],[0.2,\"#de77ae\"],[0.3,\"#f1b6da\"],[0.4,\"#fde0ef\"],[0.5,\"#f7f7f7\"],[0.6,\"#e6f5d0\"],[0.7,\"#b8e186\"],[0.8,\"#7fbc41\"],[0.9,\"#4d9221\"],[1,\"#276419\"]]},\"xaxis\":{\"gridcolor\":\"white\",\"linecolor\":\"white\",\"ticks\":\"\",\"title\":{\"standoff\":15},\"zerolinecolor\":\"white\",\"automargin\":true,\"zerolinewidth\":2},\"yaxis\":{\"gridcolor\":\"white\",\"linecolor\":\"white\",\"ticks\":\"\",\"title\":{\"standoff\":15},\"zerolinecolor\":\"white\",\"automargin\":true,\"zerolinewidth\":2},\"scene\":{\"xaxis\":{\"backgroundcolor\":\"#E5ECF6\",\"gridcolor\":\"white\",\"linecolor\":\"white\",\"showbackground\":true,\"ticks\":\"\",\"zerolinecolor\":\"white\",\"gridwidth\":2},\"yaxis\":{\"backgroundcolor\":\"#E5ECF6\",\"gridcolor\":\"white\",\"linecolor\":\"white\",\"showbackground\":true,\"ticks\":\"\",\"zerolinecolor\":\"white\",\"gridwidth\":2},\"zaxis\":{\"backgroundcolor\":\"#E5ECF6\",\"gridcolor\":\"white\",\"linecolor\":\"white\",\"showbackground\":true,\"ticks\":\"\",\"zerolinecolor\":\"white\",\"gridwidth\":2}},\"shapedefaults\":{\"line\":{\"color\":\"#2a3f5f\"}},\"annotationdefaults\":{\"arrowcolor\":\"#2a3f5f\",\"arrowhead\":0,\"arrowwidth\":1},\"geo\":{\"bgcolor\":\"white\",\"landcolor\":\"#E5ECF6\",\"subunitcolor\":\"white\",\"showland\":true,\"showlakes\":true,\"lakecolor\":\"white\"},\"title\":{\"x\":0.05},\"mapbox\":{\"style\":\"light\"}}},\"scene\":{\"domain\":{\"x\":[0.0,1.0],\"y\":[0.0,1.0]},\"xaxis\":{\"title\":{\"text\":\"memSize\"},\"range\":[3,17]},\"yaxis\":{\"title\":{\"text\":\"memBusWidth\"},\"range\":[1000,4100]},\"zaxis\":{\"title\":{\"text\":\"memClock\"},\"range\":[675,1230]},\"camera\":{\"eye\":{\"x\":0.5,\"y\":2,\"z\":0.1}}},\"legend\":{\"title\":{\"text\":\"memType\"},\"tracegroupgap\":0},\"margin\":{\"t\":60},\"title\":{\"text\":\"Zoomed View\"}},                        {\"responsive\": true}                    ).then(function(){\n",
       "                            \n",
       "var gd = document.getElementById('59441e59-982f-422a-b293-ef8b4f7280d9');\n",
       "var x = new MutationObserver(function (mutations, observer) {{\n",
       "        var display = window.getComputedStyle(gd).display;\n",
       "        if (!display || display === 'none') {{\n",
       "            console.log([gd, 'removed!']);\n",
       "            Plotly.purge(gd);\n",
       "            observer.disconnect();\n",
       "        }}\n",
       "}});\n",
       "\n",
       "// Listen for the removal of the full notebook cells\n",
       "var notebookContainer = gd.closest('#notebook-container');\n",
       "if (notebookContainer) {{\n",
       "    x.observe(notebookContainer, {childList: true});\n",
       "}}\n",
       "\n",
       "// Listen for the clearing of the current output cell\n",
       "var outputEl = gd.closest('.output');\n",
       "if (outputEl) {{\n",
       "    x.observe(outputEl, {childList: true});\n",
       "}}\n",
       "\n",
       "                        })                };                            </script>        </div>\n",
       "</body>\n",
       "</html>"
      ]
     },
     "metadata": {},
     "output_type": "display_data"
    }
   ],
   "source": [
    "fig = px.scatter_3d(df, \n",
    "                    x = 'memSize', \n",
    "                    y = 'memBusWidth', \n",
    "                    z = 'memClock',\n",
    "                    color = 'memType')\n",
    "\n",
    "\n",
    "fig.update_layout(\n",
    "    title='Zoomed View',\n",
    "    scene = dict(\n",
    "        xaxis = dict(range=[3,17],),\n",
    "        yaxis = dict(range=[1000,4100],),\n",
    "        zaxis = dict(range=[675,1230],),),\n",
    "    )\n",
    "\n",
    "\n",
    "camera = dict(eye=dict(x=0.5, y=2, z=0.1))\n",
    "\n",
    "\n",
    "fig.update_layout(scene_camera=camera)\n",
    "fig.show()"
   ]
  },
  {
   "cell_type": "markdown",
   "metadata": {
    "cell_id": "2d2d0d6250cf407281c240152317e6bf",
    "deepnote_cell_type": "markdown",
    "tags": []
   },
   "source": [
    "In this new chart all the points except for one correspond to the memType HBM2. So our decision tree should predict HBM2 if we give it features within the range of the chart. Let's quickly make up some features and see if it will guess correctly."
   ]
  },
  {
   "cell_type": "code",
   "execution_count": 33,
   "metadata": {
    "cell_id": "e4e161ada4364981a60ad053a443337b",
    "deepnote_cell_type": "code",
    "deepnote_to_be_reexecuted": false,
    "execution_millis": 1,
    "execution_start": 1670280591572,
    "source_hash": "bc410b08",
    "tags": []
   },
   "outputs": [],
   "source": [
    "data = np.zeros((100,len(clf.feature_names_in_)))\n",
    "df_guess = pd.DataFrame(data , columns=clf.feature_names_in_)"
   ]
  },
  {
   "cell_type": "code",
   "execution_count": 34,
   "metadata": {
    "cell_id": "0ab19697b41d46838b48f8fea53a0e6a",
    "deepnote_cell_type": "code",
    "deepnote_to_be_reexecuted": false,
    "execution_millis": 27,
    "execution_start": 1670280591592,
    "source_hash": "178a3bf7",
    "tags": []
   },
   "outputs": [],
   "source": [
    "for i in range(0,100):\n",
    "    df_guess.iloc[i,0] = rng.randint(3,7)\n",
    "    df_guess.iloc[i,1] = rng.randint(100,4100)\n",
    "    df_guess.iloc[i,2] = rng.randint(675,1230)\n",
    "    x = rng.randint(3,10)\n",
    "    y = rng.randint(11,37)\n",
    "    df_guess.iloc[i,x] = 1\n",
    "    df_guess.iloc[i,y] = 1"
   ]
  },
  {
   "cell_type": "code",
   "execution_count": 35,
   "metadata": {
    "cell_id": "3593ce691bd8480db4c770c8328b8e87",
    "deepnote_cell_type": "code",
    "deepnote_to_be_reexecuted": false,
    "execution_millis": 61,
    "execution_start": 1670280591636,
    "source_hash": "849fcc67",
    "tags": []
   },
   "outputs": [
    {
     "data": {
      "application/vnd.deepnote.dataframe.v3+json": {
       "column_count": 38,
       "columns": [
        {
         "dtype": "float64",
         "name": "memSize",
         "stats": {
          "histogram": [
           {
            "bin_end": 3.4,
            "bin_start": 3,
            "count": 24
           },
           {
            "bin_end": 3.8,
            "bin_start": 3.4,
            "count": 0
           },
           {
            "bin_end": 4.2,
            "bin_start": 3.8,
            "count": 20
           },
           {
            "bin_end": 4.6,
            "bin_start": 4.2,
            "count": 0
           },
           {
            "bin_end": 5,
            "bin_start": 4.6,
            "count": 0
           },
           {
            "bin_end": 5.4,
            "bin_start": 5,
            "count": 17
           },
           {
            "bin_end": 5.800000000000001,
            "bin_start": 5.4,
            "count": 0
           },
           {
            "bin_end": 6.2,
            "bin_start": 5.800000000000001,
            "count": 17
           },
           {
            "bin_end": 6.6,
            "bin_start": 6.2,
            "count": 0
           },
           {
            "bin_end": 7,
            "bin_start": 6.6,
            "count": 22
           }
          ],
          "max": "7.0",
          "min": "3.0",
          "nan_count": 0,
          "unique_count": 5
         }
        },
        {
         "dtype": "float64",
         "name": "memBusWidth",
         "stats": {
          "histogram": [
           {
            "bin_end": 492.5,
            "bin_start": 109,
            "count": 9
           },
           {
            "bin_end": 876,
            "bin_start": 492.5,
            "count": 6
           },
           {
            "bin_end": 1259.5,
            "bin_start": 876,
            "count": 13
           },
           {
            "bin_end": 1643,
            "bin_start": 1259.5,
            "count": 14
           },
           {
            "bin_end": 2026.5,
            "bin_start": 1643,
            "count": 8
           },
           {
            "bin_end": 2410,
            "bin_start": 2026.5,
            "count": 9
           },
           {
            "bin_end": 2793.5,
            "bin_start": 2410,
            "count": 5
           },
           {
            "bin_end": 3177,
            "bin_start": 2793.5,
            "count": 10
           },
           {
            "bin_end": 3560.5,
            "bin_start": 3177,
            "count": 9
           },
           {
            "bin_end": 3944,
            "bin_start": 3560.5,
            "count": 17
           }
          ],
          "max": "3944.0",
          "min": "109.0",
          "nan_count": 0,
          "unique_count": 99
         }
        },
        {
         "dtype": "float64",
         "name": "memClock",
         "stats": {
          "histogram": [
           {
            "bin_end": 731.2,
            "bin_start": 676,
            "count": 10
           },
           {
            "bin_end": 786.4,
            "bin_start": 731.2,
            "count": 10
           },
           {
            "bin_end": 841.6,
            "bin_start": 786.4,
            "count": 8
           },
           {
            "bin_end": 896.8,
            "bin_start": 841.6,
            "count": 4
           },
           {
            "bin_end": 952,
            "bin_start": 896.8,
            "count": 10
           },
           {
            "bin_end": 1007.2,
            "bin_start": 952,
            "count": 15
           },
           {
            "bin_end": 1062.4,
            "bin_start": 1007.2,
            "count": 11
           },
           {
            "bin_end": 1117.6,
            "bin_start": 1062.4,
            "count": 10
           },
           {
            "bin_end": 1172.8,
            "bin_start": 1117.6,
            "count": 9
           },
           {
            "bin_end": 1228,
            "bin_start": 1172.8,
            "count": 13
           }
          ],
          "max": "1228.0",
          "min": "676.0",
          "nan_count": 0,
          "unique_count": 97
         }
        },
        {
         "dtype": "float64",
         "name": "manufacturer_3dfx",
         "stats": {
          "histogram": [
           {
            "bin_end": 0.1,
            "bin_start": 0,
            "count": 91
           },
           {
            "bin_end": 0.2,
            "bin_start": 0.1,
            "count": 0
           },
           {
            "bin_end": 0.30000000000000004,
            "bin_start": 0.2,
            "count": 0
           },
           {
            "bin_end": 0.4,
            "bin_start": 0.30000000000000004,
            "count": 0
           },
           {
            "bin_end": 0.5,
            "bin_start": 0.4,
            "count": 0
           },
           {
            "bin_end": 0.6000000000000001,
            "bin_start": 0.5,
            "count": 0
           },
           {
            "bin_end": 0.7000000000000001,
            "bin_start": 0.6000000000000001,
            "count": 0
           },
           {
            "bin_end": 0.8,
            "bin_start": 0.7000000000000001,
            "count": 0
           },
           {
            "bin_end": 0.9,
            "bin_start": 0.8,
            "count": 0
           },
           {
            "bin_end": 1,
            "bin_start": 0.9,
            "count": 9
           }
          ],
          "max": "1.0",
          "min": "0.0",
          "nan_count": 0,
          "unique_count": 2
         }
        },
        {
         "dtype": "float64",
         "name": "manufacturer_AMD",
         "stats": {
          "histogram": [
           {
            "bin_end": 0.1,
            "bin_start": 0,
            "count": 84
           },
           {
            "bin_end": 0.2,
            "bin_start": 0.1,
            "count": 0
           },
           {
            "bin_end": 0.30000000000000004,
            "bin_start": 0.2,
            "count": 0
           },
           {
            "bin_end": 0.4,
            "bin_start": 0.30000000000000004,
            "count": 0
           },
           {
            "bin_end": 0.5,
            "bin_start": 0.4,
            "count": 0
           },
           {
            "bin_end": 0.6000000000000001,
            "bin_start": 0.5,
            "count": 0
           },
           {
            "bin_end": 0.7000000000000001,
            "bin_start": 0.6000000000000001,
            "count": 0
           },
           {
            "bin_end": 0.8,
            "bin_start": 0.7000000000000001,
            "count": 0
           },
           {
            "bin_end": 0.9,
            "bin_start": 0.8,
            "count": 0
           },
           {
            "bin_end": 1,
            "bin_start": 0.9,
            "count": 16
           }
          ],
          "max": "1.0",
          "min": "0.0",
          "nan_count": 0,
          "unique_count": 2
         }
        },
        {
         "dtype": "float64",
         "name": "manufacturer_ATI",
         "stats": {
          "histogram": [
           {
            "bin_end": 0.1,
            "bin_start": 0,
            "count": 88
           },
           {
            "bin_end": 0.2,
            "bin_start": 0.1,
            "count": 0
           },
           {
            "bin_end": 0.30000000000000004,
            "bin_start": 0.2,
            "count": 0
           },
           {
            "bin_end": 0.4,
            "bin_start": 0.30000000000000004,
            "count": 0
           },
           {
            "bin_end": 0.5,
            "bin_start": 0.4,
            "count": 0
           },
           {
            "bin_end": 0.6000000000000001,
            "bin_start": 0.5,
            "count": 0
           },
           {
            "bin_end": 0.7000000000000001,
            "bin_start": 0.6000000000000001,
            "count": 0
           },
           {
            "bin_end": 0.8,
            "bin_start": 0.7000000000000001,
            "count": 0
           },
           {
            "bin_end": 0.9,
            "bin_start": 0.8,
            "count": 0
           },
           {
            "bin_end": 1,
            "bin_start": 0.9,
            "count": 12
           }
          ],
          "max": "1.0",
          "min": "0.0",
          "nan_count": 0,
          "unique_count": 2
         }
        },
        {
         "dtype": "float64",
         "name": "manufacturer_Intel",
         "stats": {
          "histogram": [
           {
            "bin_end": 0.1,
            "bin_start": 0,
            "count": 84
           },
           {
            "bin_end": 0.2,
            "bin_start": 0.1,
            "count": 0
           },
           {
            "bin_end": 0.30000000000000004,
            "bin_start": 0.2,
            "count": 0
           },
           {
            "bin_end": 0.4,
            "bin_start": 0.30000000000000004,
            "count": 0
           },
           {
            "bin_end": 0.5,
            "bin_start": 0.4,
            "count": 0
           },
           {
            "bin_end": 0.6000000000000001,
            "bin_start": 0.5,
            "count": 0
           },
           {
            "bin_end": 0.7000000000000001,
            "bin_start": 0.6000000000000001,
            "count": 0
           },
           {
            "bin_end": 0.8,
            "bin_start": 0.7000000000000001,
            "count": 0
           },
           {
            "bin_end": 0.9,
            "bin_start": 0.8,
            "count": 0
           },
           {
            "bin_end": 1,
            "bin_start": 0.9,
            "count": 16
           }
          ],
          "max": "1.0",
          "min": "0.0",
          "nan_count": 0,
          "unique_count": 2
         }
        },
        {
         "dtype": "float64",
         "name": "manufacturer_Matrox",
         "stats": {
          "histogram": [
           {
            "bin_end": 0.1,
            "bin_start": 0,
            "count": 89
           },
           {
            "bin_end": 0.2,
            "bin_start": 0.1,
            "count": 0
           },
           {
            "bin_end": 0.30000000000000004,
            "bin_start": 0.2,
            "count": 0
           },
           {
            "bin_end": 0.4,
            "bin_start": 0.30000000000000004,
            "count": 0
           },
           {
            "bin_end": 0.5,
            "bin_start": 0.4,
            "count": 0
           },
           {
            "bin_end": 0.6000000000000001,
            "bin_start": 0.5,
            "count": 0
           },
           {
            "bin_end": 0.7000000000000001,
            "bin_start": 0.6000000000000001,
            "count": 0
           },
           {
            "bin_end": 0.8,
            "bin_start": 0.7000000000000001,
            "count": 0
           },
           {
            "bin_end": 0.9,
            "bin_start": 0.8,
            "count": 0
           },
           {
            "bin_end": 1,
            "bin_start": 0.9,
            "count": 11
           }
          ],
          "max": "1.0",
          "min": "0.0",
          "nan_count": 0,
          "unique_count": 2
         }
        },
        {
         "dtype": "float64",
         "name": "manufacturer_NVIDIA",
         "stats": {
          "histogram": [
           {
            "bin_end": 0.1,
            "bin_start": 0,
            "count": 86
           },
           {
            "bin_end": 0.2,
            "bin_start": 0.1,
            "count": 0
           },
           {
            "bin_end": 0.30000000000000004,
            "bin_start": 0.2,
            "count": 0
           },
           {
            "bin_end": 0.4,
            "bin_start": 0.30000000000000004,
            "count": 0
           },
           {
            "bin_end": 0.5,
            "bin_start": 0.4,
            "count": 0
           },
           {
            "bin_end": 0.6000000000000001,
            "bin_start": 0.5,
            "count": 0
           },
           {
            "bin_end": 0.7000000000000001,
            "bin_start": 0.6000000000000001,
            "count": 0
           },
           {
            "bin_end": 0.8,
            "bin_start": 0.7000000000000001,
            "count": 0
           },
           {
            "bin_end": 0.9,
            "bin_start": 0.8,
            "count": 0
           },
           {
            "bin_end": 1,
            "bin_start": 0.9,
            "count": 14
           }
          ],
          "max": "1.0",
          "min": "0.0",
          "nan_count": 0,
          "unique_count": 2
         }
        },
        {
         "dtype": "float64",
         "name": "manufacturer_Sony",
         "stats": {
          "histogram": [
           {
            "bin_end": 0.1,
            "bin_start": 0,
            "count": 89
           },
           {
            "bin_end": 0.2,
            "bin_start": 0.1,
            "count": 0
           },
           {
            "bin_end": 0.30000000000000004,
            "bin_start": 0.2,
            "count": 0
           },
           {
            "bin_end": 0.4,
            "bin_start": 0.30000000000000004,
            "count": 0
           },
           {
            "bin_end": 0.5,
            "bin_start": 0.4,
            "count": 0
           },
           {
            "bin_end": 0.6000000000000001,
            "bin_start": 0.5,
            "count": 0
           },
           {
            "bin_end": 0.7000000000000001,
            "bin_start": 0.6000000000000001,
            "count": 0
           },
           {
            "bin_end": 0.8,
            "bin_start": 0.7000000000000001,
            "count": 0
           },
           {
            "bin_end": 0.9,
            "bin_start": 0.8,
            "count": 0
           },
           {
            "bin_end": 1,
            "bin_start": 0.9,
            "count": 11
           }
          ],
          "max": "1.0",
          "min": "0.0",
          "nan_count": 0,
          "unique_count": 2
         }
        },
        {
         "dtype": "float64",
         "name": "manufacturer_XGI",
         "stats": {
          "histogram": [
           {
            "bin_end": 0.1,
            "bin_start": 0,
            "count": 89
           },
           {
            "bin_end": 0.2,
            "bin_start": 0.1,
            "count": 0
           },
           {
            "bin_end": 0.30000000000000004,
            "bin_start": 0.2,
            "count": 0
           },
           {
            "bin_end": 0.4,
            "bin_start": 0.30000000000000004,
            "count": 0
           },
           {
            "bin_end": 0.5,
            "bin_start": 0.4,
            "count": 0
           },
           {
            "bin_end": 0.6000000000000001,
            "bin_start": 0.5,
            "count": 0
           },
           {
            "bin_end": 0.7000000000000001,
            "bin_start": 0.6000000000000001,
            "count": 0
           },
           {
            "bin_end": 0.8,
            "bin_start": 0.7000000000000001,
            "count": 0
           },
           {
            "bin_end": 0.9,
            "bin_start": 0.8,
            "count": 0
           },
           {
            "bin_end": 1,
            "bin_start": 0.9,
            "count": 11
           }
          ],
          "max": "1.0",
          "min": "0.0",
          "nan_count": 0,
          "unique_count": 2
         }
        },
        {
         "dtype": "float64",
         "name": "bus_AGP 2x",
         "stats": {
          "histogram": [
           {
            "bin_end": 0.1,
            "bin_start": 0,
            "count": 97
           },
           {
            "bin_end": 0.2,
            "bin_start": 0.1,
            "count": 0
           },
           {
            "bin_end": 0.30000000000000004,
            "bin_start": 0.2,
            "count": 0
           },
           {
            "bin_end": 0.4,
            "bin_start": 0.30000000000000004,
            "count": 0
           },
           {
            "bin_end": 0.5,
            "bin_start": 0.4,
            "count": 0
           },
           {
            "bin_end": 0.6000000000000001,
            "bin_start": 0.5,
            "count": 0
           },
           {
            "bin_end": 0.7000000000000001,
            "bin_start": 0.6000000000000001,
            "count": 0
           },
           {
            "bin_end": 0.8,
            "bin_start": 0.7000000000000001,
            "count": 0
           },
           {
            "bin_end": 0.9,
            "bin_start": 0.8,
            "count": 0
           },
           {
            "bin_end": 1,
            "bin_start": 0.9,
            "count": 3
           }
          ],
          "max": "1.0",
          "min": "0.0",
          "nan_count": 0,
          "unique_count": 2
         }
        },
        {
         "dtype": "float64",
         "name": "bus_AGP 4x",
         "stats": {
          "histogram": [
           {
            "bin_end": 0.1,
            "bin_start": 0,
            "count": 97
           },
           {
            "bin_end": 0.2,
            "bin_start": 0.1,
            "count": 0
           },
           {
            "bin_end": 0.30000000000000004,
            "bin_start": 0.2,
            "count": 0
           },
           {
            "bin_end": 0.4,
            "bin_start": 0.30000000000000004,
            "count": 0
           },
           {
            "bin_end": 0.5,
            "bin_start": 0.4,
            "count": 0
           },
           {
            "bin_end": 0.6000000000000001,
            "bin_start": 0.5,
            "count": 0
           },
           {
            "bin_end": 0.7000000000000001,
            "bin_start": 0.6000000000000001,
            "count": 0
           },
           {
            "bin_end": 0.8,
            "bin_start": 0.7000000000000001,
            "count": 0
           },
           {
            "bin_end": 0.9,
            "bin_start": 0.8,
            "count": 0
           },
           {
            "bin_end": 1,
            "bin_start": 0.9,
            "count": 3
           }
          ],
          "max": "1.0",
          "min": "0.0",
          "nan_count": 0,
          "unique_count": 2
         }
        },
        {
         "dtype": "float64",
         "name": "bus_AGP 8x",
         "stats": {
          "histogram": [
           {
            "bin_end": 0.1,
            "bin_start": 0,
            "count": 95
           },
           {
            "bin_end": 0.2,
            "bin_start": 0.1,
            "count": 0
           },
           {
            "bin_end": 0.30000000000000004,
            "bin_start": 0.2,
            "count": 0
           },
           {
            "bin_end": 0.4,
            "bin_start": 0.30000000000000004,
            "count": 0
           },
           {
            "bin_end": 0.5,
            "bin_start": 0.4,
            "count": 0
           },
           {
            "bin_end": 0.6000000000000001,
            "bin_start": 0.5,
            "count": 0
           },
           {
            "bin_end": 0.7000000000000001,
            "bin_start": 0.6000000000000001,
            "count": 0
           },
           {
            "bin_end": 0.8,
            "bin_start": 0.7000000000000001,
            "count": 0
           },
           {
            "bin_end": 0.9,
            "bin_start": 0.8,
            "count": 0
           },
           {
            "bin_end": 1,
            "bin_start": 0.9,
            "count": 5
           }
          ],
          "max": "1.0",
          "min": "0.0",
          "nan_count": 0,
          "unique_count": 2
         }
        },
        {
         "dtype": "float64",
         "name": "bus_AGP Pro 8x",
         "stats": {
          "histogram": [
           {
            "bin_end": 0.1,
            "bin_start": 0,
            "count": 95
           },
           {
            "bin_end": 0.2,
            "bin_start": 0.1,
            "count": 0
           },
           {
            "bin_end": 0.30000000000000004,
            "bin_start": 0.2,
            "count": 0
           },
           {
            "bin_end": 0.4,
            "bin_start": 0.30000000000000004,
            "count": 0
           },
           {
            "bin_end": 0.5,
            "bin_start": 0.4,
            "count": 0
           },
           {
            "bin_end": 0.6000000000000001,
            "bin_start": 0.5,
            "count": 0
           },
           {
            "bin_end": 0.7000000000000001,
            "bin_start": 0.6000000000000001,
            "count": 0
           },
           {
            "bin_end": 0.8,
            "bin_start": 0.7000000000000001,
            "count": 0
           },
           {
            "bin_end": 0.9,
            "bin_start": 0.8,
            "count": 0
           },
           {
            "bin_end": 1,
            "bin_start": 0.9,
            "count": 5
           }
          ],
          "max": "1.0",
          "min": "0.0",
          "nan_count": 0,
          "unique_count": 2
         }
        },
        {
         "dtype": "float64",
         "name": "bus_IGP",
         "stats": {
          "histogram": [
           {
            "bin_end": 0.1,
            "bin_start": 0,
            "count": 96
           },
           {
            "bin_end": 0.2,
            "bin_start": 0.1,
            "count": 0
           },
           {
            "bin_end": 0.30000000000000004,
            "bin_start": 0.2,
            "count": 0
           },
           {
            "bin_end": 0.4,
            "bin_start": 0.30000000000000004,
            "count": 0
           },
           {
            "bin_end": 0.5,
            "bin_start": 0.4,
            "count": 0
           },
           {
            "bin_end": 0.6000000000000001,
            "bin_start": 0.5,
            "count": 0
           },
           {
            "bin_end": 0.7000000000000001,
            "bin_start": 0.6000000000000001,
            "count": 0
           },
           {
            "bin_end": 0.8,
            "bin_start": 0.7000000000000001,
            "count": 0
           },
           {
            "bin_end": 0.9,
            "bin_start": 0.8,
            "count": 0
           },
           {
            "bin_end": 1,
            "bin_start": 0.9,
            "count": 4
           }
          ],
          "max": "1.0",
          "min": "0.0",
          "nan_count": 0,
          "unique_count": 2
         }
        },
        {
         "dtype": "float64",
         "name": "bus_MXM",
         "stats": {
          "histogram": [
           {
            "bin_end": 0.1,
            "bin_start": 0,
            "count": 98
           },
           {
            "bin_end": 0.2,
            "bin_start": 0.1,
            "count": 0
           },
           {
            "bin_end": 0.30000000000000004,
            "bin_start": 0.2,
            "count": 0
           },
           {
            "bin_end": 0.4,
            "bin_start": 0.30000000000000004,
            "count": 0
           },
           {
            "bin_end": 0.5,
            "bin_start": 0.4,
            "count": 0
           },
           {
            "bin_end": 0.6000000000000001,
            "bin_start": 0.5,
            "count": 0
           },
           {
            "bin_end": 0.7000000000000001,
            "bin_start": 0.6000000000000001,
            "count": 0
           },
           {
            "bin_end": 0.8,
            "bin_start": 0.7000000000000001,
            "count": 0
           },
           {
            "bin_end": 0.9,
            "bin_start": 0.8,
            "count": 0
           },
           {
            "bin_end": 1,
            "bin_start": 0.9,
            "count": 2
           }
          ],
          "max": "1.0",
          "min": "0.0",
          "nan_count": 0,
          "unique_count": 2
         }
        },
        {
         "dtype": "float64",
         "name": "bus_MXM-A (3.0)",
         "stats": {
          "histogram": [
           {
            "bin_end": 0.1,
            "bin_start": 0,
            "count": 96
           },
           {
            "bin_end": 0.2,
            "bin_start": 0.1,
            "count": 0
           },
           {
            "bin_end": 0.30000000000000004,
            "bin_start": 0.2,
            "count": 0
           },
           {
            "bin_end": 0.4,
            "bin_start": 0.30000000000000004,
            "count": 0
           },
           {
            "bin_end": 0.5,
            "bin_start": 0.4,
            "count": 0
           },
           {
            "bin_end": 0.6000000000000001,
            "bin_start": 0.5,
            "count": 0
           },
           {
            "bin_end": 0.7000000000000001,
            "bin_start": 0.6000000000000001,
            "count": 0
           },
           {
            "bin_end": 0.8,
            "bin_start": 0.7000000000000001,
            "count": 0
           },
           {
            "bin_end": 0.9,
            "bin_start": 0.8,
            "count": 0
           },
           {
            "bin_end": 1,
            "bin_start": 0.9,
            "count": 4
           }
          ],
          "max": "1.0",
          "min": "0.0",
          "nan_count": 0,
          "unique_count": 2
         }
        },
        {
         "dtype": "float64",
         "name": "bus_MXM-B (3.0)",
         "stats": {
          "histogram": [
           {
            "bin_end": 0.1,
            "bin_start": 0,
            "count": 96
           },
           {
            "bin_end": 0.2,
            "bin_start": 0.1,
            "count": 0
           },
           {
            "bin_end": 0.30000000000000004,
            "bin_start": 0.2,
            "count": 0
           },
           {
            "bin_end": 0.4,
            "bin_start": 0.30000000000000004,
            "count": 0
           },
           {
            "bin_end": 0.5,
            "bin_start": 0.4,
            "count": 0
           },
           {
            "bin_end": 0.6000000000000001,
            "bin_start": 0.5,
            "count": 0
           },
           {
            "bin_end": 0.7000000000000001,
            "bin_start": 0.6000000000000001,
            "count": 0
           },
           {
            "bin_end": 0.8,
            "bin_start": 0.7000000000000001,
            "count": 0
           },
           {
            "bin_end": 0.9,
            "bin_start": 0.8,
            "count": 0
           },
           {
            "bin_end": 1,
            "bin_start": 0.9,
            "count": 4
           }
          ],
          "max": "1.0",
          "min": "0.0",
          "nan_count": 0,
          "unique_count": 2
         }
        },
        {
         "dtype": "float64",
         "name": "bus_MXM-HE",
         "stats": {
          "histogram": [
           {
            "bin_end": 0.1,
            "bin_start": 0,
            "count": 94
           },
           {
            "bin_end": 0.2,
            "bin_start": 0.1,
            "count": 0
           },
           {
            "bin_end": 0.30000000000000004,
            "bin_start": 0.2,
            "count": 0
           },
           {
            "bin_end": 0.4,
            "bin_start": 0.30000000000000004,
            "count": 0
           },
           {
            "bin_end": 0.5,
            "bin_start": 0.4,
            "count": 0
           },
           {
            "bin_end": 0.6000000000000001,
            "bin_start": 0.5,
            "count": 0
           },
           {
            "bin_end": 0.7000000000000001,
            "bin_start": 0.6000000000000001,
            "count": 0
           },
           {
            "bin_end": 0.8,
            "bin_start": 0.7000000000000001,
            "count": 0
           },
           {
            "bin_end": 0.9,
            "bin_start": 0.8,
            "count": 0
           },
           {
            "bin_end": 1,
            "bin_start": 0.9,
            "count": 6
           }
          ],
          "max": "1.0",
          "min": "0.0",
          "nan_count": 0,
          "unique_count": 2
         }
        },
        {
         "dtype": "float64",
         "name": "bus_MXM-I",
         "stats": {
          "histogram": [
           {
            "bin_end": 0.1,
            "bin_start": 0,
            "count": 96
           },
           {
            "bin_end": 0.2,
            "bin_start": 0.1,
            "count": 0
           },
           {
            "bin_end": 0.30000000000000004,
            "bin_start": 0.2,
            "count": 0
           },
           {
            "bin_end": 0.4,
            "bin_start": 0.30000000000000004,
            "count": 0
           },
           {
            "bin_end": 0.5,
            "bin_start": 0.4,
            "count": 0
           },
           {
            "bin_end": 0.6000000000000001,
            "bin_start": 0.5,
            "count": 0
           },
           {
            "bin_end": 0.7000000000000001,
            "bin_start": 0.6000000000000001,
            "count": 0
           },
           {
            "bin_end": 0.8,
            "bin_start": 0.7000000000000001,
            "count": 0
           },
           {
            "bin_end": 0.9,
            "bin_start": 0.8,
            "count": 0
           },
           {
            "bin_end": 1,
            "bin_start": 0.9,
            "count": 4
           }
          ],
          "max": "1.0",
          "min": "0.0",
          "nan_count": 0,
          "unique_count": 2
         }
        },
        {
         "dtype": "float64",
         "name": "bus_MXM-II",
         "stats": {
          "histogram": [
           {
            "bin_end": 0.1,
            "bin_start": 0,
            "count": 98
           },
           {
            "bin_end": 0.2,
            "bin_start": 0.1,
            "count": 0
           },
           {
            "bin_end": 0.30000000000000004,
            "bin_start": 0.2,
            "count": 0
           },
           {
            "bin_end": 0.4,
            "bin_start": 0.30000000000000004,
            "count": 0
           },
           {
            "bin_end": 0.5,
            "bin_start": 0.4,
            "count": 0
           },
           {
            "bin_end": 0.6000000000000001,
            "bin_start": 0.5,
            "count": 0
           },
           {
            "bin_end": 0.7000000000000001,
            "bin_start": 0.6000000000000001,
            "count": 0
           },
           {
            "bin_end": 0.8,
            "bin_start": 0.7000000000000001,
            "count": 0
           },
           {
            "bin_end": 0.9,
            "bin_start": 0.8,
            "count": 0
           },
           {
            "bin_end": 1,
            "bin_start": 0.9,
            "count": 2
           }
          ],
          "max": "1.0",
          "min": "0.0",
          "nan_count": 0,
          "unique_count": 2
         }
        },
        {
         "dtype": "float64",
         "name": "bus_MXM-III",
         "stats": {
          "histogram": [
           {
            "bin_end": 0.1,
            "bin_start": 0,
            "count": 97
           },
           {
            "bin_end": 0.2,
            "bin_start": 0.1,
            "count": 0
           },
           {
            "bin_end": 0.30000000000000004,
            "bin_start": 0.2,
            "count": 0
           },
           {
            "bin_end": 0.4,
            "bin_start": 0.30000000000000004,
            "count": 0
           },
           {
            "bin_end": 0.5,
            "bin_start": 0.4,
            "count": 0
           },
           {
            "bin_end": 0.6000000000000001,
            "bin_start": 0.5,
            "count": 0
           },
           {
            "bin_end": 0.7000000000000001,
            "bin_start": 0.6000000000000001,
            "count": 0
           },
           {
            "bin_end": 0.8,
            "bin_start": 0.7000000000000001,
            "count": 0
           },
           {
            "bin_end": 0.9,
            "bin_start": 0.8,
            "count": 0
           },
           {
            "bin_end": 1,
            "bin_start": 0.9,
            "count": 3
           }
          ],
          "max": "1.0",
          "min": "0.0",
          "nan_count": 0,
          "unique_count": 2
         }
        },
        {
         "dtype": "float64",
         "name": "bus_MXM-IV",
         "stats": {
          "histogram": [
           {
            "bin_end": -0.4,
            "bin_start": -0.5,
            "count": 0
           },
           {
            "bin_end": -0.3,
            "bin_start": -0.4,
            "count": 0
           },
           {
            "bin_end": -0.19999999999999996,
            "bin_start": -0.3,
            "count": 0
           },
           {
            "bin_end": -0.09999999999999998,
            "bin_start": -0.19999999999999996,
            "count": 0
           },
           {
            "bin_end": 0,
            "bin_start": -0.09999999999999998,
            "count": 0
           },
           {
            "bin_end": 0.10000000000000009,
            "bin_start": 0,
            "count": 100
           },
           {
            "bin_end": 0.20000000000000007,
            "bin_start": 0.10000000000000009,
            "count": 0
           },
           {
            "bin_end": 0.30000000000000004,
            "bin_start": 0.20000000000000007,
            "count": 0
           },
           {
            "bin_end": 0.4,
            "bin_start": 0.30000000000000004,
            "count": 0
           },
           {
            "bin_end": 0.5,
            "bin_start": 0.4,
            "count": 0
           }
          ],
          "max": "0.0",
          "min": "0.0",
          "nan_count": 0,
          "unique_count": 1
         }
        },
        {
         "dtype": "float64",
         "name": "bus_PCI",
         "stats": {
          "histogram": [
           {
            "bin_end": 0.1,
            "bin_start": 0,
            "count": 97
           },
           {
            "bin_end": 0.2,
            "bin_start": 0.1,
            "count": 0
           },
           {
            "bin_end": 0.30000000000000004,
            "bin_start": 0.2,
            "count": 0
           },
           {
            "bin_end": 0.4,
            "bin_start": 0.30000000000000004,
            "count": 0
           },
           {
            "bin_end": 0.5,
            "bin_start": 0.4,
            "count": 0
           },
           {
            "bin_end": 0.6000000000000001,
            "bin_start": 0.5,
            "count": 0
           },
           {
            "bin_end": 0.7000000000000001,
            "bin_start": 0.6000000000000001,
            "count": 0
           },
           {
            "bin_end": 0.8,
            "bin_start": 0.7000000000000001,
            "count": 0
           },
           {
            "bin_end": 0.9,
            "bin_start": 0.8,
            "count": 0
           },
           {
            "bin_end": 1,
            "bin_start": 0.9,
            "count": 3
           }
          ],
          "max": "1.0",
          "min": "0.0",
          "nan_count": 0,
          "unique_count": 2
         }
        },
        {
         "dtype": "float64",
         "name": "bus_PCI-X",
         "stats": {
          "histogram": [
           {
            "bin_end": 0.1,
            "bin_start": 0,
            "count": 95
           },
           {
            "bin_end": 0.2,
            "bin_start": 0.1,
            "count": 0
           },
           {
            "bin_end": 0.30000000000000004,
            "bin_start": 0.2,
            "count": 0
           },
           {
            "bin_end": 0.4,
            "bin_start": 0.30000000000000004,
            "count": 0
           },
           {
            "bin_end": 0.5,
            "bin_start": 0.4,
            "count": 0
           },
           {
            "bin_end": 0.6000000000000001,
            "bin_start": 0.5,
            "count": 0
           },
           {
            "bin_end": 0.7000000000000001,
            "bin_start": 0.6000000000000001,
            "count": 0
           },
           {
            "bin_end": 0.8,
            "bin_start": 0.7000000000000001,
            "count": 0
           },
           {
            "bin_end": 0.9,
            "bin_start": 0.8,
            "count": 0
           },
           {
            "bin_end": 1,
            "bin_start": 0.9,
            "count": 5
           }
          ],
          "max": "1.0",
          "min": "0.0",
          "nan_count": 0,
          "unique_count": 2
         }
        },
        {
         "dtype": "float64",
         "name": "bus_PCIe 1.0 x1",
         "stats": {
          "histogram": [
           {
            "bin_end": 0.1,
            "bin_start": 0,
            "count": 95
           },
           {
            "bin_end": 0.2,
            "bin_start": 0.1,
            "count": 0
           },
           {
            "bin_end": 0.30000000000000004,
            "bin_start": 0.2,
            "count": 0
           },
           {
            "bin_end": 0.4,
            "bin_start": 0.30000000000000004,
            "count": 0
           },
           {
            "bin_end": 0.5,
            "bin_start": 0.4,
            "count": 0
           },
           {
            "bin_end": 0.6000000000000001,
            "bin_start": 0.5,
            "count": 0
           },
           {
            "bin_end": 0.7000000000000001,
            "bin_start": 0.6000000000000001,
            "count": 0
           },
           {
            "bin_end": 0.8,
            "bin_start": 0.7000000000000001,
            "count": 0
           },
           {
            "bin_end": 0.9,
            "bin_start": 0.8,
            "count": 0
           },
           {
            "bin_end": 1,
            "bin_start": 0.9,
            "count": 5
           }
          ],
          "max": "1.0",
          "min": "0.0",
          "nan_count": 0,
          "unique_count": 2
         }
        },
        {
         "dtype": "float64",
         "name": "bus_PCIe 1.0 x16",
         "stats": {
          "histogram": [
           {
            "bin_end": 0.1,
            "bin_start": 0,
            "count": 93
           },
           {
            "bin_end": 0.2,
            "bin_start": 0.1,
            "count": 0
           },
           {
            "bin_end": 0.30000000000000004,
            "bin_start": 0.2,
            "count": 0
           },
           {
            "bin_end": 0.4,
            "bin_start": 0.30000000000000004,
            "count": 0
           },
           {
            "bin_end": 0.5,
            "bin_start": 0.4,
            "count": 0
           },
           {
            "bin_end": 0.6000000000000001,
            "bin_start": 0.5,
            "count": 0
           },
           {
            "bin_end": 0.7000000000000001,
            "bin_start": 0.6000000000000001,
            "count": 0
           },
           {
            "bin_end": 0.8,
            "bin_start": 0.7000000000000001,
            "count": 0
           },
           {
            "bin_end": 0.9,
            "bin_start": 0.8,
            "count": 0
           },
           {
            "bin_end": 1,
            "bin_start": 0.9,
            "count": 7
           }
          ],
          "max": "1.0",
          "min": "0.0",
          "nan_count": 0,
          "unique_count": 2
         }
        },
        {
         "dtype": "float64",
         "name": "bus_PCIe 2.0 x1",
         "stats": {
          "histogram": [
           {
            "bin_end": 0.1,
            "bin_start": 0,
            "count": 95
           },
           {
            "bin_end": 0.2,
            "bin_start": 0.1,
            "count": 0
           },
           {
            "bin_end": 0.30000000000000004,
            "bin_start": 0.2,
            "count": 0
           },
           {
            "bin_end": 0.4,
            "bin_start": 0.30000000000000004,
            "count": 0
           },
           {
            "bin_end": 0.5,
            "bin_start": 0.4,
            "count": 0
           },
           {
            "bin_end": 0.6000000000000001,
            "bin_start": 0.5,
            "count": 0
           },
           {
            "bin_end": 0.7000000000000001,
            "bin_start": 0.6000000000000001,
            "count": 0
           },
           {
            "bin_end": 0.8,
            "bin_start": 0.7000000000000001,
            "count": 0
           },
           {
            "bin_end": 0.9,
            "bin_start": 0.8,
            "count": 0
           },
           {
            "bin_end": 1,
            "bin_start": 0.9,
            "count": 5
           }
          ],
          "max": "1.0",
          "min": "0.0",
          "nan_count": 0,
          "unique_count": 2
         }
        },
        {
         "dtype": "float64",
         "name": "bus_PCIe 2.0 x16",
         "stats": {
          "histogram": [
           {
            "bin_end": 0.1,
            "bin_start": 0,
            "count": 96
           },
           {
            "bin_end": 0.2,
            "bin_start": 0.1,
            "count": 0
           },
           {
            "bin_end": 0.30000000000000004,
            "bin_start": 0.2,
            "count": 0
           },
           {
            "bin_end": 0.4,
            "bin_start": 0.30000000000000004,
            "count": 0
           },
           {
            "bin_end": 0.5,
            "bin_start": 0.4,
            "count": 0
           },
           {
            "bin_end": 0.6000000000000001,
            "bin_start": 0.5,
            "count": 0
           },
           {
            "bin_end": 0.7000000000000001,
            "bin_start": 0.6000000000000001,
            "count": 0
           },
           {
            "bin_end": 0.8,
            "bin_start": 0.7000000000000001,
            "count": 0
           },
           {
            "bin_end": 0.9,
            "bin_start": 0.8,
            "count": 0
           },
           {
            "bin_end": 1,
            "bin_start": 0.9,
            "count": 4
           }
          ],
          "max": "1.0",
          "min": "0.0",
          "nan_count": 0,
          "unique_count": 2
         }
        },
        {
         "dtype": "float64",
         "name": "bus_PCIe 2.0 x8",
         "stats": {
          "histogram": [
           {
            "bin_end": 0.1,
            "bin_start": 0,
            "count": 97
           },
           {
            "bin_end": 0.2,
            "bin_start": 0.1,
            "count": 0
           },
           {
            "bin_end": 0.30000000000000004,
            "bin_start": 0.2,
            "count": 0
           },
           {
            "bin_end": 0.4,
            "bin_start": 0.30000000000000004,
            "count": 0
           },
           {
            "bin_end": 0.5,
            "bin_start": 0.4,
            "count": 0
           },
           {
            "bin_end": 0.6000000000000001,
            "bin_start": 0.5,
            "count": 0
           },
           {
            "bin_end": 0.7000000000000001,
            "bin_start": 0.6000000000000001,
            "count": 0
           },
           {
            "bin_end": 0.8,
            "bin_start": 0.7000000000000001,
            "count": 0
           },
           {
            "bin_end": 0.9,
            "bin_start": 0.8,
            "count": 0
           },
           {
            "bin_end": 1,
            "bin_start": 0.9,
            "count": 3
           }
          ],
          "max": "1.0",
          "min": "0.0",
          "nan_count": 0,
          "unique_count": 2
         }
        },
        {
         "dtype": "float64",
         "name": "bus_PCIe 3.0 x16",
         "stats": {
          "histogram": [
           {
            "bin_end": 0.1,
            "bin_start": 0,
            "count": 96
           },
           {
            "bin_end": 0.2,
            "bin_start": 0.1,
            "count": 0
           },
           {
            "bin_end": 0.30000000000000004,
            "bin_start": 0.2,
            "count": 0
           },
           {
            "bin_end": 0.4,
            "bin_start": 0.30000000000000004,
            "count": 0
           },
           {
            "bin_end": 0.5,
            "bin_start": 0.4,
            "count": 0
           },
           {
            "bin_end": 0.6000000000000001,
            "bin_start": 0.5,
            "count": 0
           },
           {
            "bin_end": 0.7000000000000001,
            "bin_start": 0.6000000000000001,
            "count": 0
           },
           {
            "bin_end": 0.8,
            "bin_start": 0.7000000000000001,
            "count": 0
           },
           {
            "bin_end": 0.9,
            "bin_start": 0.8,
            "count": 0
           },
           {
            "bin_end": 1,
            "bin_start": 0.9,
            "count": 4
           }
          ],
          "max": "1.0",
          "min": "0.0",
          "nan_count": 0,
          "unique_count": 2
         }
        },
        {
         "dtype": "float64",
         "name": "bus_PCIe 3.0 x4",
         "stats": {
          "histogram": [
           {
            "bin_end": 0.1,
            "bin_start": 0,
            "count": 94
           },
           {
            "bin_end": 0.2,
            "bin_start": 0.1,
            "count": 0
           },
           {
            "bin_end": 0.30000000000000004,
            "bin_start": 0.2,
            "count": 0
           },
           {
            "bin_end": 0.4,
            "bin_start": 0.30000000000000004,
            "count": 0
           },
           {
            "bin_end": 0.5,
            "bin_start": 0.4,
            "count": 0
           },
           {
            "bin_end": 0.6000000000000001,
            "bin_start": 0.5,
            "count": 0
           },
           {
            "bin_end": 0.7000000000000001,
            "bin_start": 0.6000000000000001,
            "count": 0
           },
           {
            "bin_end": 0.8,
            "bin_start": 0.7000000000000001,
            "count": 0
           },
           {
            "bin_end": 0.9,
            "bin_start": 0.8,
            "count": 0
           },
           {
            "bin_end": 1,
            "bin_start": 0.9,
            "count": 6
           }
          ],
          "max": "1.0",
          "min": "0.0",
          "nan_count": 0,
          "unique_count": 2
         }
        },
        {
         "dtype": "float64",
         "name": "bus_PCIe 3.0 x8",
         "stats": {
          "histogram": [
           {
            "bin_end": 0.1,
            "bin_start": 0,
            "count": 97
           },
           {
            "bin_end": 0.2,
            "bin_start": 0.1,
            "count": 0
           },
           {
            "bin_end": 0.30000000000000004,
            "bin_start": 0.2,
            "count": 0
           },
           {
            "bin_end": 0.4,
            "bin_start": 0.30000000000000004,
            "count": 0
           },
           {
            "bin_end": 0.5,
            "bin_start": 0.4,
            "count": 0
           },
           {
            "bin_end": 0.6000000000000001,
            "bin_start": 0.5,
            "count": 0
           },
           {
            "bin_end": 0.7000000000000001,
            "bin_start": 0.6000000000000001,
            "count": 0
           },
           {
            "bin_end": 0.8,
            "bin_start": 0.7000000000000001,
            "count": 0
           },
           {
            "bin_end": 0.9,
            "bin_start": 0.8,
            "count": 0
           },
           {
            "bin_end": 1,
            "bin_start": 0.9,
            "count": 3
           }
          ],
          "max": "1.0",
          "min": "0.0",
          "nan_count": 0,
          "unique_count": 2
         }
        },
        {
         "dtype": "float64",
         "name": "bus_PCIe 4.0 x16",
         "stats": {
          "histogram": [
           {
            "bin_end": 0.1,
            "bin_start": 0,
            "count": 98
           },
           {
            "bin_end": 0.2,
            "bin_start": 0.1,
            "count": 0
           },
           {
            "bin_end": 0.30000000000000004,
            "bin_start": 0.2,
            "count": 0
           },
           {
            "bin_end": 0.4,
            "bin_start": 0.30000000000000004,
            "count": 0
           },
           {
            "bin_end": 0.5,
            "bin_start": 0.4,
            "count": 0
           },
           {
            "bin_end": 0.6000000000000001,
            "bin_start": 0.5,
            "count": 0
           },
           {
            "bin_end": 0.7000000000000001,
            "bin_start": 0.6000000000000001,
            "count": 0
           },
           {
            "bin_end": 0.8,
            "bin_start": 0.7000000000000001,
            "count": 0
           },
           {
            "bin_end": 0.9,
            "bin_start": 0.8,
            "count": 0
           },
           {
            "bin_end": 1,
            "bin_start": 0.9,
            "count": 2
           }
          ],
          "max": "1.0",
          "min": "0.0",
          "nan_count": 0,
          "unique_count": 2
         }
        },
        {
         "dtype": "float64",
         "name": "bus_PCIe 4.0 x4",
         "stats": {
          "histogram": [
           {
            "bin_end": 0.1,
            "bin_start": 0,
            "count": 98
           },
           {
            "bin_end": 0.2,
            "bin_start": 0.1,
            "count": 0
           },
           {
            "bin_end": 0.30000000000000004,
            "bin_start": 0.2,
            "count": 0
           },
           {
            "bin_end": 0.4,
            "bin_start": 0.30000000000000004,
            "count": 0
           },
           {
            "bin_end": 0.5,
            "bin_start": 0.4,
            "count": 0
           },
           {
            "bin_end": 0.6000000000000001,
            "bin_start": 0.5,
            "count": 0
           },
           {
            "bin_end": 0.7000000000000001,
            "bin_start": 0.6000000000000001,
            "count": 0
           },
           {
            "bin_end": 0.8,
            "bin_start": 0.7000000000000001,
            "count": 0
           },
           {
            "bin_end": 0.9,
            "bin_start": 0.8,
            "count": 0
           },
           {
            "bin_end": 1,
            "bin_start": 0.9,
            "count": 2
           }
          ],
          "max": "1.0",
          "min": "0.0",
          "nan_count": 0,
          "unique_count": 2
         }
        },
        {
         "dtype": "float64",
         "name": "bus_PCIe 4.0 x8",
         "stats": {
          "histogram": [
           {
            "bin_end": 0.1,
            "bin_start": 0,
            "count": 97
           },
           {
            "bin_end": 0.2,
            "bin_start": 0.1,
            "count": 0
           },
           {
            "bin_end": 0.30000000000000004,
            "bin_start": 0.2,
            "count": 0
           },
           {
            "bin_end": 0.4,
            "bin_start": 0.30000000000000004,
            "count": 0
           },
           {
            "bin_end": 0.5,
            "bin_start": 0.4,
            "count": 0
           },
           {
            "bin_end": 0.6000000000000001,
            "bin_start": 0.5,
            "count": 0
           },
           {
            "bin_end": 0.7000000000000001,
            "bin_start": 0.6000000000000001,
            "count": 0
           },
           {
            "bin_end": 0.8,
            "bin_start": 0.7000000000000001,
            "count": 0
           },
           {
            "bin_end": 0.9,
            "bin_start": 0.8,
            "count": 0
           },
           {
            "bin_end": 1,
            "bin_start": 0.9,
            "count": 3
           }
          ],
          "max": "1.0",
          "min": "0.0",
          "nan_count": 0,
          "unique_count": 2
         }
        },
        {
         "dtype": "float64",
         "name": "bus_PCIe 5.0 x16",
         "stats": {
          "histogram": [
           {
            "bin_end": 0.1,
            "bin_start": 0,
            "count": 97
           },
           {
            "bin_end": 0.2,
            "bin_start": 0.1,
            "count": 0
           },
           {
            "bin_end": 0.30000000000000004,
            "bin_start": 0.2,
            "count": 0
           },
           {
            "bin_end": 0.4,
            "bin_start": 0.30000000000000004,
            "count": 0
           },
           {
            "bin_end": 0.5,
            "bin_start": 0.4,
            "count": 0
           },
           {
            "bin_end": 0.6000000000000001,
            "bin_start": 0.5,
            "count": 0
           },
           {
            "bin_end": 0.7000000000000001,
            "bin_start": 0.6000000000000001,
            "count": 0
           },
           {
            "bin_end": 0.8,
            "bin_start": 0.7000000000000001,
            "count": 0
           },
           {
            "bin_end": 0.9,
            "bin_start": 0.8,
            "count": 0
           },
           {
            "bin_end": 1,
            "bin_start": 0.9,
            "count": 3
           }
          ],
          "max": "1.0",
          "min": "0.0",
          "nan_count": 0,
          "unique_count": 2
         }
        },
        {
         "dtype": "int64",
         "name": "_deepnote_index_column"
        }
       ],
       "row_count": 100,
       "rows": [
        {
         "_deepnote_index_column": "0",
         "bus_AGP 2x": "1.0",
         "bus_AGP 4x": "0.0",
         "bus_AGP 8x": "0.0",
         "bus_AGP Pro 8x": "0.0",
         "bus_IGP": "0.0",
         "bus_MXM": "0.0",
         "bus_MXM-A (3.0)": "0.0",
         "bus_MXM-B (3.0)": "0.0",
         "bus_MXM-HE": "0.0",
         "bus_MXM-I": "0.0",
         "bus_MXM-II": "0.0",
         "bus_MXM-III": "0.0",
         "bus_MXM-IV": "0.0",
         "bus_PCI": "0.0",
         "bus_PCI-X": "0.0",
         "bus_PCIe 1.0 x1": "0.0",
         "bus_PCIe 1.0 x16": "0.0",
         "bus_PCIe 2.0 x1": "0.0",
         "bus_PCIe 2.0 x16": "0.0",
         "bus_PCIe 2.0 x8": "0.0",
         "bus_PCIe 3.0 x16": "0.0",
         "bus_PCIe 3.0 x4": "0.0",
         "bus_PCIe 3.0 x8": "0.0",
         "bus_PCIe 4.0 x16": "0.0",
         "bus_PCIe 4.0 x4": "0.0",
         "bus_PCIe 4.0 x8": "0.0",
         "bus_PCIe 5.0 x16": "0.0",
         "manufacturer_3dfx": "0.0",
         "manufacturer_AMD": "0.0",
         "manufacturer_ATI": "0.0",
         "manufacturer_Intel": "0.0",
         "manufacturer_Matrox": "1.0",
         "manufacturer_NVIDIA": "0.0",
         "manufacturer_Sony": "0.0",
         "manufacturer_XGI": "0.0",
         "memBusWidth": "346.0",
         "memClock": "1183.0",
         "memSize": "3.0"
        },
        {
         "_deepnote_index_column": "1",
         "bus_AGP 2x": "0.0",
         "bus_AGP 4x": "0.0",
         "bus_AGP 8x": "0.0",
         "bus_AGP Pro 8x": "0.0",
         "bus_IGP": "0.0",
         "bus_MXM": "0.0",
         "bus_MXM-A (3.0)": "0.0",
         "bus_MXM-B (3.0)": "1.0",
         "bus_MXM-HE": "0.0",
         "bus_MXM-I": "0.0",
         "bus_MXM-II": "0.0",
         "bus_MXM-III": "0.0",
         "bus_MXM-IV": "0.0",
         "bus_PCI": "0.0",
         "bus_PCI-X": "0.0",
         "bus_PCIe 1.0 x1": "0.0",
         "bus_PCIe 1.0 x16": "0.0",
         "bus_PCIe 2.0 x1": "0.0",
         "bus_PCIe 2.0 x16": "0.0",
         "bus_PCIe 2.0 x8": "0.0",
         "bus_PCIe 3.0 x16": "0.0",
         "bus_PCIe 3.0 x4": "0.0",
         "bus_PCIe 3.0 x8": "0.0",
         "bus_PCIe 4.0 x16": "0.0",
         "bus_PCIe 4.0 x4": "0.0",
         "bus_PCIe 4.0 x8": "0.0",
         "bus_PCIe 5.0 x16": "0.0",
         "manufacturer_3dfx": "0.0",
         "manufacturer_AMD": "0.0",
         "manufacturer_ATI": "0.0",
         "manufacturer_Intel": "1.0",
         "manufacturer_Matrox": "0.0",
         "manufacturer_NVIDIA": "0.0",
         "manufacturer_Sony": "0.0",
         "manufacturer_XGI": "0.0",
         "memBusWidth": "3670.0",
         "memClock": "805.0",
         "memSize": "4.0"
        },
        {
         "_deepnote_index_column": "2",
         "bus_AGP 2x": "0.0",
         "bus_AGP 4x": "0.0",
         "bus_AGP 8x": "0.0",
         "bus_AGP Pro 8x": "0.0",
         "bus_IGP": "0.0",
         "bus_MXM": "0.0",
         "bus_MXM-A (3.0)": "0.0",
         "bus_MXM-B (3.0)": "0.0",
         "bus_MXM-HE": "0.0",
         "bus_MXM-I": "0.0",
         "bus_MXM-II": "0.0",
         "bus_MXM-III": "1.0",
         "bus_MXM-IV": "0.0",
         "bus_PCI": "0.0",
         "bus_PCI-X": "0.0",
         "bus_PCIe 1.0 x1": "0.0",
         "bus_PCIe 1.0 x16": "0.0",
         "bus_PCIe 2.0 x1": "0.0",
         "bus_PCIe 2.0 x16": "0.0",
         "bus_PCIe 2.0 x8": "0.0",
         "bus_PCIe 3.0 x16": "0.0",
         "bus_PCIe 3.0 x4": "0.0",
         "bus_PCIe 3.0 x8": "0.0",
         "bus_PCIe 4.0 x16": "0.0",
         "bus_PCIe 4.0 x4": "0.0",
         "bus_PCIe 4.0 x8": "0.0",
         "bus_PCIe 5.0 x16": "0.0",
         "manufacturer_3dfx": "1.0",
         "manufacturer_AMD": "0.0",
         "manufacturer_ATI": "0.0",
         "manufacturer_Intel": "0.0",
         "manufacturer_Matrox": "0.0",
         "manufacturer_NVIDIA": "0.0",
         "manufacturer_Sony": "0.0",
         "manufacturer_XGI": "0.0",
         "memBusWidth": "1017.0",
         "memClock": "681.0",
         "memSize": "4.0"
        },
        {
         "_deepnote_index_column": "3",
         "bus_AGP 2x": "0.0",
         "bus_AGP 4x": "0.0",
         "bus_AGP 8x": "0.0",
         "bus_AGP Pro 8x": "0.0",
         "bus_IGP": "0.0",
         "bus_MXM": "0.0",
         "bus_MXM-A (3.0)": "0.0",
         "bus_MXM-B (3.0)": "0.0",
         "bus_MXM-HE": "0.0",
         "bus_MXM-I": "0.0",
         "bus_MXM-II": "0.0",
         "bus_MXM-III": "0.0",
         "bus_MXM-IV": "0.0",
         "bus_PCI": "0.0",
         "bus_PCI-X": "1.0",
         "bus_PCIe 1.0 x1": "0.0",
         "bus_PCIe 1.0 x16": "0.0",
         "bus_PCIe 2.0 x1": "0.0",
         "bus_PCIe 2.0 x16": "0.0",
         "bus_PCIe 2.0 x8": "0.0",
         "bus_PCIe 3.0 x16": "0.0",
         "bus_PCIe 3.0 x4": "0.0",
         "bus_PCIe 3.0 x8": "0.0",
         "bus_PCIe 4.0 x16": "0.0",
         "bus_PCIe 4.0 x4": "0.0",
         "bus_PCIe 4.0 x8": "0.0",
         "bus_PCIe 5.0 x16": "0.0",
         "manufacturer_3dfx": "0.0",
         "manufacturer_AMD": "1.0",
         "manufacturer_ATI": "0.0",
         "manufacturer_Intel": "0.0",
         "manufacturer_Matrox": "0.0",
         "manufacturer_NVIDIA": "0.0",
         "manufacturer_Sony": "0.0",
         "manufacturer_XGI": "0.0",
         "memBusWidth": "3661.0",
         "memClock": "989.0",
         "memSize": "4.0"
        },
        {
         "_deepnote_index_column": "4",
         "bus_AGP 2x": "0.0",
         "bus_AGP 4x": "0.0",
         "bus_AGP 8x": "0.0",
         "bus_AGP Pro 8x": "1.0",
         "bus_IGP": "0.0",
         "bus_MXM": "0.0",
         "bus_MXM-A (3.0)": "0.0",
         "bus_MXM-B (3.0)": "0.0",
         "bus_MXM-HE": "0.0",
         "bus_MXM-I": "0.0",
         "bus_MXM-II": "0.0",
         "bus_MXM-III": "0.0",
         "bus_MXM-IV": "0.0",
         "bus_PCI": "0.0",
         "bus_PCI-X": "0.0",
         "bus_PCIe 1.0 x1": "0.0",
         "bus_PCIe 1.0 x16": "0.0",
         "bus_PCIe 2.0 x1": "0.0",
         "bus_PCIe 2.0 x16": "0.0",
         "bus_PCIe 2.0 x8": "0.0",
         "bus_PCIe 3.0 x16": "0.0",
         "bus_PCIe 3.0 x4": "0.0",
         "bus_PCIe 3.0 x8": "0.0",
         "bus_PCIe 4.0 x16": "0.0",
         "bus_PCIe 4.0 x4": "0.0",
         "bus_PCIe 4.0 x8": "0.0",
         "bus_PCIe 5.0 x16": "0.0",
         "manufacturer_3dfx": "0.0",
         "manufacturer_AMD": "0.0",
         "manufacturer_ATI": "0.0",
         "manufacturer_Intel": "0.0",
         "manufacturer_Matrox": "0.0",
         "manufacturer_NVIDIA": "1.0",
         "manufacturer_Sony": "0.0",
         "manufacturer_XGI": "0.0",
         "memBusWidth": "1000.0",
         "memClock": "744.0",
         "memSize": "7.0"
        },
        {
         "_deepnote_index_column": "5",
         "bus_AGP 2x": "0.0",
         "bus_AGP 4x": "0.0",
         "bus_AGP 8x": "0.0",
         "bus_AGP Pro 8x": "0.0",
         "bus_IGP": "0.0",
         "bus_MXM": "0.0",
         "bus_MXM-A (3.0)": "0.0",
         "bus_MXM-B (3.0)": "1.0",
         "bus_MXM-HE": "0.0",
         "bus_MXM-I": "0.0",
         "bus_MXM-II": "0.0",
         "bus_MXM-III": "0.0",
         "bus_MXM-IV": "0.0",
         "bus_PCI": "0.0",
         "bus_PCI-X": "0.0",
         "bus_PCIe 1.0 x1": "0.0",
         "bus_PCIe 1.0 x16": "0.0",
         "bus_PCIe 2.0 x1": "0.0",
         "bus_PCIe 2.0 x16": "0.0",
         "bus_PCIe 2.0 x8": "0.0",
         "bus_PCIe 3.0 x16": "0.0",
         "bus_PCIe 3.0 x4": "0.0",
         "bus_PCIe 3.0 x8": "0.0",
         "bus_PCIe 4.0 x16": "0.0",
         "bus_PCIe 4.0 x4": "0.0",
         "bus_PCIe 4.0 x8": "0.0",
         "bus_PCIe 5.0 x16": "0.0",
         "manufacturer_3dfx": "0.0",
         "manufacturer_AMD": "0.0",
         "manufacturer_ATI": "0.0",
         "manufacturer_Intel": "0.0",
         "manufacturer_Matrox": "0.0",
         "manufacturer_NVIDIA": "0.0",
         "manufacturer_Sony": "1.0",
         "manufacturer_XGI": "0.0",
         "memBusWidth": "2380.0",
         "memClock": "961.0",
         "memSize": "6.0"
        },
        {
         "_deepnote_index_column": "6",
         "bus_AGP 2x": "0.0",
         "bus_AGP 4x": "0.0",
         "bus_AGP 8x": "0.0",
         "bus_AGP Pro 8x": "0.0",
         "bus_IGP": "0.0",
         "bus_MXM": "0.0",
         "bus_MXM-A (3.0)": "1.0",
         "bus_MXM-B (3.0)": "0.0",
         "bus_MXM-HE": "0.0",
         "bus_MXM-I": "0.0",
         "bus_MXM-II": "0.0",
         "bus_MXM-III": "0.0",
         "bus_MXM-IV": "0.0",
         "bus_PCI": "0.0",
         "bus_PCI-X": "0.0",
         "bus_PCIe 1.0 x1": "0.0",
         "bus_PCIe 1.0 x16": "0.0",
         "bus_PCIe 2.0 x1": "0.0",
         "bus_PCIe 2.0 x16": "0.0",
         "bus_PCIe 2.0 x8": "0.0",
         "bus_PCIe 3.0 x16": "0.0",
         "bus_PCIe 3.0 x4": "0.0",
         "bus_PCIe 3.0 x8": "0.0",
         "bus_PCIe 4.0 x16": "0.0",
         "bus_PCIe 4.0 x4": "0.0",
         "bus_PCIe 4.0 x8": "0.0",
         "bus_PCIe 5.0 x16": "0.0",
         "manufacturer_3dfx": "0.0",
         "manufacturer_AMD": "1.0",
         "manufacturer_ATI": "0.0",
         "manufacturer_Intel": "0.0",
         "manufacturer_Matrox": "0.0",
         "manufacturer_NVIDIA": "0.0",
         "manufacturer_Sony": "0.0",
         "manufacturer_XGI": "0.0",
         "memBusWidth": "519.0",
         "memClock": "982.0",
         "memSize": "7.0"
        },
        {
         "_deepnote_index_column": "7",
         "bus_AGP 2x": "0.0",
         "bus_AGP 4x": "0.0",
         "bus_AGP 8x": "1.0",
         "bus_AGP Pro 8x": "0.0",
         "bus_IGP": "0.0",
         "bus_MXM": "0.0",
         "bus_MXM-A (3.0)": "0.0",
         "bus_MXM-B (3.0)": "0.0",
         "bus_MXM-HE": "0.0",
         "bus_MXM-I": "0.0",
         "bus_MXM-II": "0.0",
         "bus_MXM-III": "0.0",
         "bus_MXM-IV": "0.0",
         "bus_PCI": "0.0",
         "bus_PCI-X": "0.0",
         "bus_PCIe 1.0 x1": "0.0",
         "bus_PCIe 1.0 x16": "0.0",
         "bus_PCIe 2.0 x1": "0.0",
         "bus_PCIe 2.0 x16": "0.0",
         "bus_PCIe 2.0 x8": "0.0",
         "bus_PCIe 3.0 x16": "0.0",
         "bus_PCIe 3.0 x4": "0.0",
         "bus_PCIe 3.0 x8": "0.0",
         "bus_PCIe 4.0 x16": "0.0",
         "bus_PCIe 4.0 x4": "0.0",
         "bus_PCIe 4.0 x8": "0.0",
         "bus_PCIe 5.0 x16": "0.0",
         "manufacturer_3dfx": "0.0",
         "manufacturer_AMD": "0.0",
         "manufacturer_ATI": "0.0",
         "manufacturer_Intel": "0.0",
         "manufacturer_Matrox": "0.0",
         "manufacturer_NVIDIA": "0.0",
         "manufacturer_Sony": "1.0",
         "manufacturer_XGI": "0.0",
         "memBusWidth": "2450.0",
         "memClock": "1162.0",
         "memSize": "3.0"
        },
        {
         "_deepnote_index_column": "8",
         "bus_AGP 2x": "0.0",
         "bus_AGP 4x": "0.0",
         "bus_AGP 8x": "0.0",
         "bus_AGP Pro 8x": "0.0",
         "bus_IGP": "0.0",
         "bus_MXM": "0.0",
         "bus_MXM-A (3.0)": "0.0",
         "bus_MXM-B (3.0)": "0.0",
         "bus_MXM-HE": "0.0",
         "bus_MXM-I": "0.0",
         "bus_MXM-II": "0.0",
         "bus_MXM-III": "0.0",
         "bus_MXM-IV": "0.0",
         "bus_PCI": "0.0",
         "bus_PCI-X": "0.0",
         "bus_PCIe 1.0 x1": "0.0",
         "bus_PCIe 1.0 x16": "0.0",
         "bus_PCIe 2.0 x1": "0.0",
         "bus_PCIe 2.0 x16": "0.0",
         "bus_PCIe 2.0 x8": "0.0",
         "bus_PCIe 3.0 x16": "1.0",
         "bus_PCIe 3.0 x4": "0.0",
         "bus_PCIe 3.0 x8": "0.0",
         "bus_PCIe 4.0 x16": "0.0",
         "bus_PCIe 4.0 x4": "0.0",
         "bus_PCIe 4.0 x8": "0.0",
         "bus_PCIe 5.0 x16": "0.0",
         "manufacturer_3dfx": "0.0",
         "manufacturer_AMD": "0.0",
         "manufacturer_ATI": "1.0",
         "manufacturer_Intel": "0.0",
         "manufacturer_Matrox": "0.0",
         "manufacturer_NVIDIA": "0.0",
         "manufacturer_Sony": "0.0",
         "manufacturer_XGI": "0.0",
         "memBusWidth": "1061.0",
         "memClock": "1028.0",
         "memSize": "3.0"
        },
        {
         "_deepnote_index_column": "9",
         "bus_AGP 2x": "0.0",
         "bus_AGP 4x": "0.0",
         "bus_AGP 8x": "0.0",
         "bus_AGP Pro 8x": "0.0",
         "bus_IGP": "0.0",
         "bus_MXM": "0.0",
         "bus_MXM-A (3.0)": "0.0",
         "bus_MXM-B (3.0)": "0.0",
         "bus_MXM-HE": "0.0",
         "bus_MXM-I": "0.0",
         "bus_MXM-II": "0.0",
         "bus_MXM-III": "0.0",
         "bus_MXM-IV": "0.0",
         "bus_PCI": "0.0",
         "bus_PCI-X": "0.0",
         "bus_PCIe 1.0 x1": "0.0",
         "bus_PCIe 1.0 x16": "0.0",
         "bus_PCIe 2.0 x1": "0.0",
         "bus_PCIe 2.0 x16": "1.0",
         "bus_PCIe 2.0 x8": "0.0",
         "bus_PCIe 3.0 x16": "0.0",
         "bus_PCIe 3.0 x4": "0.0",
         "bus_PCIe 3.0 x8": "0.0",
         "bus_PCIe 4.0 x16": "0.0",
         "bus_PCIe 4.0 x4": "0.0",
         "bus_PCIe 4.0 x8": "0.0",
         "bus_PCIe 5.0 x16": "0.0",
         "manufacturer_3dfx": "1.0",
         "manufacturer_AMD": "0.0",
         "manufacturer_ATI": "0.0",
         "manufacturer_Intel": "0.0",
         "manufacturer_Matrox": "0.0",
         "manufacturer_NVIDIA": "0.0",
         "manufacturer_Sony": "0.0",
         "manufacturer_XGI": "0.0",
         "memBusWidth": "441.0",
         "memClock": "1003.0",
         "memSize": "7.0"
        }
       ]
      },
      "text/html": [
       "<div>\n",
       "<style scoped>\n",
       "    .dataframe tbody tr th:only-of-type {\n",
       "        vertical-align: middle;\n",
       "    }\n",
       "\n",
       "    .dataframe tbody tr th {\n",
       "        vertical-align: top;\n",
       "    }\n",
       "\n",
       "    .dataframe thead th {\n",
       "        text-align: right;\n",
       "    }\n",
       "</style>\n",
       "<table border=\"1\" class=\"dataframe\">\n",
       "  <thead>\n",
       "    <tr style=\"text-align: right;\">\n",
       "      <th></th>\n",
       "      <th>memSize</th>\n",
       "      <th>memBusWidth</th>\n",
       "      <th>memClock</th>\n",
       "      <th>manufacturer_3dfx</th>\n",
       "      <th>manufacturer_AMD</th>\n",
       "      <th>manufacturer_ATI</th>\n",
       "      <th>manufacturer_Intel</th>\n",
       "      <th>manufacturer_Matrox</th>\n",
       "      <th>manufacturer_NVIDIA</th>\n",
       "      <th>manufacturer_Sony</th>\n",
       "      <th>...</th>\n",
       "      <th>bus_PCIe 2.0 x1</th>\n",
       "      <th>bus_PCIe 2.0 x16</th>\n",
       "      <th>bus_PCIe 2.0 x8</th>\n",
       "      <th>bus_PCIe 3.0 x16</th>\n",
       "      <th>bus_PCIe 3.0 x4</th>\n",
       "      <th>bus_PCIe 3.0 x8</th>\n",
       "      <th>bus_PCIe 4.0 x16</th>\n",
       "      <th>bus_PCIe 4.0 x4</th>\n",
       "      <th>bus_PCIe 4.0 x8</th>\n",
       "      <th>bus_PCIe 5.0 x16</th>\n",
       "    </tr>\n",
       "  </thead>\n",
       "  <tbody>\n",
       "    <tr>\n",
       "      <th>0</th>\n",
       "      <td>3.0</td>\n",
       "      <td>346.0</td>\n",
       "      <td>1183.0</td>\n",
       "      <td>0.0</td>\n",
       "      <td>0.0</td>\n",
       "      <td>0.0</td>\n",
       "      <td>0.0</td>\n",
       "      <td>1.0</td>\n",
       "      <td>0.0</td>\n",
       "      <td>0.0</td>\n",
       "      <td>...</td>\n",
       "      <td>0.0</td>\n",
       "      <td>0.0</td>\n",
       "      <td>0.0</td>\n",
       "      <td>0.0</td>\n",
       "      <td>0.0</td>\n",
       "      <td>0.0</td>\n",
       "      <td>0.0</td>\n",
       "      <td>0.0</td>\n",
       "      <td>0.0</td>\n",
       "      <td>0.0</td>\n",
       "    </tr>\n",
       "    <tr>\n",
       "      <th>1</th>\n",
       "      <td>4.0</td>\n",
       "      <td>3670.0</td>\n",
       "      <td>805.0</td>\n",
       "      <td>0.0</td>\n",
       "      <td>0.0</td>\n",
       "      <td>0.0</td>\n",
       "      <td>1.0</td>\n",
       "      <td>0.0</td>\n",
       "      <td>0.0</td>\n",
       "      <td>0.0</td>\n",
       "      <td>...</td>\n",
       "      <td>0.0</td>\n",
       "      <td>0.0</td>\n",
       "      <td>0.0</td>\n",
       "      <td>0.0</td>\n",
       "      <td>0.0</td>\n",
       "      <td>0.0</td>\n",
       "      <td>0.0</td>\n",
       "      <td>0.0</td>\n",
       "      <td>0.0</td>\n",
       "      <td>0.0</td>\n",
       "    </tr>\n",
       "    <tr>\n",
       "      <th>2</th>\n",
       "      <td>4.0</td>\n",
       "      <td>1017.0</td>\n",
       "      <td>681.0</td>\n",
       "      <td>1.0</td>\n",
       "      <td>0.0</td>\n",
       "      <td>0.0</td>\n",
       "      <td>0.0</td>\n",
       "      <td>0.0</td>\n",
       "      <td>0.0</td>\n",
       "      <td>0.0</td>\n",
       "      <td>...</td>\n",
       "      <td>0.0</td>\n",
       "      <td>0.0</td>\n",
       "      <td>0.0</td>\n",
       "      <td>0.0</td>\n",
       "      <td>0.0</td>\n",
       "      <td>0.0</td>\n",
       "      <td>0.0</td>\n",
       "      <td>0.0</td>\n",
       "      <td>0.0</td>\n",
       "      <td>0.0</td>\n",
       "    </tr>\n",
       "    <tr>\n",
       "      <th>3</th>\n",
       "      <td>4.0</td>\n",
       "      <td>3661.0</td>\n",
       "      <td>989.0</td>\n",
       "      <td>0.0</td>\n",
       "      <td>1.0</td>\n",
       "      <td>0.0</td>\n",
       "      <td>0.0</td>\n",
       "      <td>0.0</td>\n",
       "      <td>0.0</td>\n",
       "      <td>0.0</td>\n",
       "      <td>...</td>\n",
       "      <td>0.0</td>\n",
       "      <td>0.0</td>\n",
       "      <td>0.0</td>\n",
       "      <td>0.0</td>\n",
       "      <td>0.0</td>\n",
       "      <td>0.0</td>\n",
       "      <td>0.0</td>\n",
       "      <td>0.0</td>\n",
       "      <td>0.0</td>\n",
       "      <td>0.0</td>\n",
       "    </tr>\n",
       "    <tr>\n",
       "      <th>4</th>\n",
       "      <td>7.0</td>\n",
       "      <td>1000.0</td>\n",
       "      <td>744.0</td>\n",
       "      <td>0.0</td>\n",
       "      <td>0.0</td>\n",
       "      <td>0.0</td>\n",
       "      <td>0.0</td>\n",
       "      <td>0.0</td>\n",
       "      <td>1.0</td>\n",
       "      <td>0.0</td>\n",
       "      <td>...</td>\n",
       "      <td>0.0</td>\n",
       "      <td>0.0</td>\n",
       "      <td>0.0</td>\n",
       "      <td>0.0</td>\n",
       "      <td>0.0</td>\n",
       "      <td>0.0</td>\n",
       "      <td>0.0</td>\n",
       "      <td>0.0</td>\n",
       "      <td>0.0</td>\n",
       "      <td>0.0</td>\n",
       "    </tr>\n",
       "    <tr>\n",
       "      <th>...</th>\n",
       "      <td>...</td>\n",
       "      <td>...</td>\n",
       "      <td>...</td>\n",
       "      <td>...</td>\n",
       "      <td>...</td>\n",
       "      <td>...</td>\n",
       "      <td>...</td>\n",
       "      <td>...</td>\n",
       "      <td>...</td>\n",
       "      <td>...</td>\n",
       "      <td>...</td>\n",
       "      <td>...</td>\n",
       "      <td>...</td>\n",
       "      <td>...</td>\n",
       "      <td>...</td>\n",
       "      <td>...</td>\n",
       "      <td>...</td>\n",
       "      <td>...</td>\n",
       "      <td>...</td>\n",
       "      <td>...</td>\n",
       "      <td>...</td>\n",
       "    </tr>\n",
       "    <tr>\n",
       "      <th>95</th>\n",
       "      <td>3.0</td>\n",
       "      <td>3846.0</td>\n",
       "      <td>1035.0</td>\n",
       "      <td>0.0</td>\n",
       "      <td>1.0</td>\n",
       "      <td>0.0</td>\n",
       "      <td>0.0</td>\n",
       "      <td>0.0</td>\n",
       "      <td>0.0</td>\n",
       "      <td>0.0</td>\n",
       "      <td>...</td>\n",
       "      <td>0.0</td>\n",
       "      <td>0.0</td>\n",
       "      <td>0.0</td>\n",
       "      <td>0.0</td>\n",
       "      <td>1.0</td>\n",
       "      <td>0.0</td>\n",
       "      <td>0.0</td>\n",
       "      <td>0.0</td>\n",
       "      <td>0.0</td>\n",
       "      <td>0.0</td>\n",
       "    </tr>\n",
       "    <tr>\n",
       "      <th>96</th>\n",
       "      <td>6.0</td>\n",
       "      <td>1166.0</td>\n",
       "      <td>978.0</td>\n",
       "      <td>0.0</td>\n",
       "      <td>0.0</td>\n",
       "      <td>0.0</td>\n",
       "      <td>0.0</td>\n",
       "      <td>1.0</td>\n",
       "      <td>0.0</td>\n",
       "      <td>0.0</td>\n",
       "      <td>...</td>\n",
       "      <td>0.0</td>\n",
       "      <td>0.0</td>\n",
       "      <td>0.0</td>\n",
       "      <td>0.0</td>\n",
       "      <td>0.0</td>\n",
       "      <td>0.0</td>\n",
       "      <td>0.0</td>\n",
       "      <td>0.0</td>\n",
       "      <td>0.0</td>\n",
       "      <td>0.0</td>\n",
       "    </tr>\n",
       "    <tr>\n",
       "      <th>97</th>\n",
       "      <td>7.0</td>\n",
       "      <td>3944.0</td>\n",
       "      <td>899.0</td>\n",
       "      <td>0.0</td>\n",
       "      <td>0.0</td>\n",
       "      <td>0.0</td>\n",
       "      <td>0.0</td>\n",
       "      <td>0.0</td>\n",
       "      <td>0.0</td>\n",
       "      <td>0.0</td>\n",
       "      <td>...</td>\n",
       "      <td>0.0</td>\n",
       "      <td>0.0</td>\n",
       "      <td>0.0</td>\n",
       "      <td>0.0</td>\n",
       "      <td>0.0</td>\n",
       "      <td>1.0</td>\n",
       "      <td>0.0</td>\n",
       "      <td>0.0</td>\n",
       "      <td>0.0</td>\n",
       "      <td>0.0</td>\n",
       "    </tr>\n",
       "    <tr>\n",
       "      <th>98</th>\n",
       "      <td>3.0</td>\n",
       "      <td>3332.0</td>\n",
       "      <td>728.0</td>\n",
       "      <td>0.0</td>\n",
       "      <td>0.0</td>\n",
       "      <td>0.0</td>\n",
       "      <td>0.0</td>\n",
       "      <td>0.0</td>\n",
       "      <td>1.0</td>\n",
       "      <td>0.0</td>\n",
       "      <td>...</td>\n",
       "      <td>1.0</td>\n",
       "      <td>0.0</td>\n",
       "      <td>0.0</td>\n",
       "      <td>0.0</td>\n",
       "      <td>0.0</td>\n",
       "      <td>0.0</td>\n",
       "      <td>0.0</td>\n",
       "      <td>0.0</td>\n",
       "      <td>0.0</td>\n",
       "      <td>0.0</td>\n",
       "    </tr>\n",
       "    <tr>\n",
       "      <th>99</th>\n",
       "      <td>4.0</td>\n",
       "      <td>1446.0</td>\n",
       "      <td>1208.0</td>\n",
       "      <td>0.0</td>\n",
       "      <td>0.0</td>\n",
       "      <td>0.0</td>\n",
       "      <td>0.0</td>\n",
       "      <td>0.0</td>\n",
       "      <td>1.0</td>\n",
       "      <td>0.0</td>\n",
       "      <td>...</td>\n",
       "      <td>0.0</td>\n",
       "      <td>0.0</td>\n",
       "      <td>0.0</td>\n",
       "      <td>0.0</td>\n",
       "      <td>0.0</td>\n",
       "      <td>0.0</td>\n",
       "      <td>0.0</td>\n",
       "      <td>0.0</td>\n",
       "      <td>0.0</td>\n",
       "      <td>0.0</td>\n",
       "    </tr>\n",
       "  </tbody>\n",
       "</table>\n",
       "<p>100 rows × 38 columns</p>\n",
       "</div>"
      ],
      "text/plain": [
       "    memSize  memBusWidth  memClock  manufacturer_3dfx  manufacturer_AMD  \\\n",
       "0       3.0        346.0    1183.0                0.0               0.0   \n",
       "1       4.0       3670.0     805.0                0.0               0.0   \n",
       "2       4.0       1017.0     681.0                1.0               0.0   \n",
       "3       4.0       3661.0     989.0                0.0               1.0   \n",
       "4       7.0       1000.0     744.0                0.0               0.0   \n",
       "..      ...          ...       ...                ...               ...   \n",
       "95      3.0       3846.0    1035.0                0.0               1.0   \n",
       "96      6.0       1166.0     978.0                0.0               0.0   \n",
       "97      7.0       3944.0     899.0                0.0               0.0   \n",
       "98      3.0       3332.0     728.0                0.0               0.0   \n",
       "99      4.0       1446.0    1208.0                0.0               0.0   \n",
       "\n",
       "    manufacturer_ATI  manufacturer_Intel  manufacturer_Matrox  \\\n",
       "0                0.0                 0.0                  1.0   \n",
       "1                0.0                 1.0                  0.0   \n",
       "2                0.0                 0.0                  0.0   \n",
       "3                0.0                 0.0                  0.0   \n",
       "4                0.0                 0.0                  0.0   \n",
       "..               ...                 ...                  ...   \n",
       "95               0.0                 0.0                  0.0   \n",
       "96               0.0                 0.0                  1.0   \n",
       "97               0.0                 0.0                  0.0   \n",
       "98               0.0                 0.0                  0.0   \n",
       "99               0.0                 0.0                  0.0   \n",
       "\n",
       "    manufacturer_NVIDIA  manufacturer_Sony  ...  bus_PCIe 2.0 x1  \\\n",
       "0                   0.0                0.0  ...              0.0   \n",
       "1                   0.0                0.0  ...              0.0   \n",
       "2                   0.0                0.0  ...              0.0   \n",
       "3                   0.0                0.0  ...              0.0   \n",
       "4                   1.0                0.0  ...              0.0   \n",
       "..                  ...                ...  ...              ...   \n",
       "95                  0.0                0.0  ...              0.0   \n",
       "96                  0.0                0.0  ...              0.0   \n",
       "97                  0.0                0.0  ...              0.0   \n",
       "98                  1.0                0.0  ...              1.0   \n",
       "99                  1.0                0.0  ...              0.0   \n",
       "\n",
       "    bus_PCIe 2.0 x16  bus_PCIe 2.0 x8  bus_PCIe 3.0 x16  bus_PCIe 3.0 x4  \\\n",
       "0                0.0              0.0               0.0              0.0   \n",
       "1                0.0              0.0               0.0              0.0   \n",
       "2                0.0              0.0               0.0              0.0   \n",
       "3                0.0              0.0               0.0              0.0   \n",
       "4                0.0              0.0               0.0              0.0   \n",
       "..               ...              ...               ...              ...   \n",
       "95               0.0              0.0               0.0              1.0   \n",
       "96               0.0              0.0               0.0              0.0   \n",
       "97               0.0              0.0               0.0              0.0   \n",
       "98               0.0              0.0               0.0              0.0   \n",
       "99               0.0              0.0               0.0              0.0   \n",
       "\n",
       "    bus_PCIe 3.0 x8  bus_PCIe 4.0 x16  bus_PCIe 4.0 x4  bus_PCIe 4.0 x8  \\\n",
       "0               0.0               0.0              0.0              0.0   \n",
       "1               0.0               0.0              0.0              0.0   \n",
       "2               0.0               0.0              0.0              0.0   \n",
       "3               0.0               0.0              0.0              0.0   \n",
       "4               0.0               0.0              0.0              0.0   \n",
       "..              ...               ...              ...              ...   \n",
       "95              0.0               0.0              0.0              0.0   \n",
       "96              0.0               0.0              0.0              0.0   \n",
       "97              1.0               0.0              0.0              0.0   \n",
       "98              0.0               0.0              0.0              0.0   \n",
       "99              0.0               0.0              0.0              0.0   \n",
       "\n",
       "    bus_PCIe 5.0 x16  \n",
       "0                0.0  \n",
       "1                0.0  \n",
       "2                0.0  \n",
       "3                0.0  \n",
       "4                0.0  \n",
       "..               ...  \n",
       "95               0.0  \n",
       "96               0.0  \n",
       "97               0.0  \n",
       "98               0.0  \n",
       "99               0.0  \n",
       "\n",
       "[100 rows x 38 columns]"
      ]
     },
     "execution_count": 35,
     "metadata": {},
     "output_type": "execute_result"
    }
   ],
   "source": [
    "df_guess"
   ]
  },
  {
   "cell_type": "markdown",
   "metadata": {
    "cell_id": "49a9096f01f74b19a726a6aeae7d0832",
    "deepnote_cell_type": "markdown",
    "tags": []
   },
   "source": [
    "Now we have 100 fake memory chips to work with, let's see how many turn out to have HBM2 as their memType."
   ]
  },
  {
   "cell_type": "code",
   "execution_count": 36,
   "metadata": {
    "cell_id": "fcb2cb5cae0f4ae2ba91823a9617a2c2",
    "deepnote_cell_type": "code",
    "deepnote_to_be_reexecuted": false,
    "execution_millis": 115,
    "execution_start": 1670280591709,
    "source_hash": "81d28011",
    "tags": []
   },
   "outputs": [
    {
     "name": "stdout",
     "output_type": "stream",
     "text": [
      "52% of the fake memory chips were of the type HBM2\n",
      "1% of the fake memory chips were of the tyoe HBM2e\n",
      "47% of the fake memory chips were neither HBM2 or HBM2e\n"
     ]
    }
   ],
   "source": [
    "HBM2=[]\n",
    "HBM2e=[]\n",
    "other=[]\n",
    "\n",
    "for i in range(0,100):\n",
    "    tmp = clf.predict(df_guess.iloc[[i]])\n",
    "    if tmp[0] == 'HBM2': \n",
    "        HBM2.append(1)\n",
    "    elif tmp[0] == 'HBM2e':\n",
    "        HBM2e.append(1)\n",
    "    else:\n",
    "        other.append(1)\n",
    "\n",
    "print(f'''{len(HBM2)}% of the fake memory chips were of the type HBM2\n",
    "{len(HBM2e)}% of the fake memory chips were of the tyoe HBM2e\n",
    "{len(other)}% of the fake memory chips were neither HBM2 or HBM2e''')"
   ]
  },
  {
   "cell_type": "markdown",
   "metadata": {
    "cell_id": "f02d22b7f6b746fea68b1e6dbd8a6677",
    "deepnote_cell_type": "markdown",
    "tags": []
   },
   "source": [
    "As you can see most of the fake chips did in fact be predicted to be HBM2. However, the ones that were not predicted as HBM2 were not likely to be predicted as HBM2e (the one green dot in the figure above).\n",
    "\n",
    "After re-executing the code a couple of times, I have noticed that the percentage of fake memory chips that were predicted to be HBM2 seems to vary from around 50-60%, the percentage of HBM2e seems to vary from 0-5% and the percentage of others seems to vary from 40-50%"
   ]
  },
  {
   "cell_type": "markdown",
   "metadata": {
    "cell_id": "c532a63e5b754a30a5b1166581952eff",
    "deepnote_cell_type": "markdown",
    "tags": []
   },
   "source": [
    "## Summary\n"
   ]
  },
  {
   "cell_type": "markdown",
   "metadata": {
    "cell_id": "37953d162fd544ca82d418eec2f9f501",
    "deepnote_cell_type": "markdown",
    "tags": []
   },
   "source": [
    "It seems we were in fact able to use machine learning to guess the type of memory in a GPU using its specifications and some extra details about the GPU. As it turns out the clock speed of the memory is the biggest factor, and the memories buswidth and size combined are just as important. We also found out that the manufacturer and the bus do have an impact on the type of memory albeit to a lesser extent than the specs of the memory."
   ]
  },
  {
   "cell_type": "markdown",
   "metadata": {
    "cell_id": "b2f15d2f24a34132945dcea2fca24800",
    "deepnote_cell_type": "markdown",
    "tags": []
   },
   "source": [
    "## Resources"
   ]
  },
  {
   "cell_type": "markdown",
   "metadata": {
    "cell_id": "1a3a123b41594cd7a8a657f33877d4fe",
    "deepnote_cell_type": "markdown",
    "tags": []
   },
   "source": [
    "**GPU Dataset:**\n",
    "https://www.kaggle.com/datasets/alanjo/graphics-card-full-specs\n",
    "\n",
    "**Plotly 3d Charts:**\n",
    "https://www.geeksforgeeks.org/3d-scatter-plot-using-plotly-in-python/?ref=rp\n",
    "https://plotly.com/python/3d-axes/\n",
    "https://plotly.com/python/3d-camera-controls/\n",
    "\n",
    "**Altair Built in Charts (with documentation):**\n",
    "https://altair-viz.github.io/gallery/index.html has both pie and interactive chart examples"
   ]
  },
  {
   "cell_type": "markdown",
   "metadata": {
    "created_in_deepnote_cell": true,
    "deepnote_cell_type": "markdown",
    "tags": []
   },
   "source": [
    "<a style='text-decoration:none;line-height:16px;display:flex;color:#5B5B62;padding:10px;justify-content:end;' href='https://deepnote.com?utm_source=created-in-deepnote-cell&projectId=eed43daa-d12b-427d-a659-e309fe058440' target=\"_blank\">\n",
    "<img alt='Created in deepnote.com' style='display:inline;max-height:16px;margin:0px;margin-right:7.5px;' src='data:image/svg+xml;base64,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' > </img>\n",
    "Created in <span style='font-weight:600;margin-left:4px;'>Deepnote</span></a>"
   ]
  }
 ],
 "metadata": {
  "deepnote": {},
  "deepnote_execution_queue": [],
  "deepnote_notebook_id": "77d7d6f009014bc990b9d104671311e6",
  "deepnote_persisted_session": {
   "createdAt": "2022-12-05T23:15:35.130Z"
  },
  "kernelspec": {
   "display_name": "Python 3 (ipykernel)",
   "language": "python",
   "name": "python3"
  },
  "language_info": {
   "codemirror_mode": {
    "name": "ipython",
    "version": 3
   },
   "file_extension": ".py",
   "mimetype": "text/x-python",
   "name": "python",
   "nbconvert_exporter": "python",
   "pygments_lexer": "ipython3",
   "version": "3.9.13"
  }
 },
 "nbformat": 4,
 "nbformat_minor": 4
}
