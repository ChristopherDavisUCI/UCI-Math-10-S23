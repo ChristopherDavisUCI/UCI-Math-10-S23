{
 "cells": [
  {
   "cell_type": "markdown",
   "metadata": {},
   "source": [
    "# Title"
   ]
  },
  {
   "cell_type": "markdown",
   "metadata": {
    "cell_id": "3dab3a99a72441878a4c5dd6137c0681",
    "deepnote_cell_type": "text-cell-p",
    "formattedRanges": [],
    "is_collapsed": false,
    "tags": []
   },
   "source": [
    "Name: Yihao Zhang"
   ]
  },
  {
   "cell_type": "markdown",
   "metadata": {
    "cell_id": "af2309a45ba046c6ba30d29af8c46550",
    "deepnote_cell_type": "text-cell-p",
    "formattedRanges": [],
    "is_collapsed": false,
    "tags": []
   },
   "source": [
    "ID: 67069281"
   ]
  },
  {
   "cell_type": "markdown",
   "metadata": {
    "cell_id": "b3050f38ab8946658fe67f68c5d21da5",
    "deepnote_cell_type": "text-cell-h2",
    "formattedRanges": [],
    "is_collapsed": false,
    "tags": []
   },
   "source": [
    "## Introduction"
   ]
  },
  {
   "cell_type": "markdown",
   "metadata": {
    "cell_id": "5ac43fe0871a4e8bbfef66cda3548f9d",
    "deepnote_cell_type": "markdown",
    "tags": []
   },
   "source": [
    "The World Happiness Report is a landmark survey of the state of global happiness . The report continues to gain global recognition as governments, organizations and civil society increasingly use happiness indicators to inform their policy-making decisions. Leading experts across fields – economics, psychology, survey analysis, national statistics, health, public policy and more – describe how measurements of well-being can be used effectively to assess the progress of nations. \n",
    "My project is to build a LinearRegression and predict Happiness score based on the variable of Economy, Familt, trust, health, and freedom,and find out which variabless might contribute the most to the model. At last I will try to use sklearn to determine whether a country's happiness is beyond expectation."
   ]
  },
  {
   "cell_type": "code",
   "execution_count": 1,
   "metadata": {
    "cell_id": "7edcf0e956ff418ead45eb89477efe43",
    "deepnote_cell_type": "code",
    "deepnote_to_be_reexecuted": false,
    "execution_millis": 3558,
    "execution_start": 1670290706078,
    "source_hash": "4fa4ba08",
    "tags": []
   },
   "outputs": [],
   "source": [
    "import altair as alt\n",
    "import pandas as pd\n",
    "from sklearn.pipeline import Pipeline\n",
    "from sklearn.preprocessing import StandardScaler\n",
    "from sklearn.cluster import KMeans\n",
    "import numpy as np\n",
    "from pandas.api.types import is_numeric_dtype\n",
    "from sklearn.linear_model import LinearRegression"
   ]
  },
  {
   "cell_type": "markdown",
   "metadata": {
    "cell_id": "dbc6ed886f9843dba2b0196043c75f0e",
    "deepnote_cell_type": "text-cell-h2",
    "formattedRanges": [],
    "is_collapsed": false,
    "tags": []
   },
   "source": [
    "## Dataframe Outlook"
   ]
  },
  {
   "cell_type": "markdown",
   "metadata": {
    "cell_id": "700d24b99283493190a07f52e3037615",
    "deepnote_cell_type": "text-cell-h3",
    "formattedRanges": [],
    "is_collapsed": false,
    "tags": []
   },
   "source": [
    "### Import data："
   ]
  },
  {
   "cell_type": "code",
   "execution_count": 2,
   "metadata": {
    "cell_id": "ec9fcda0fb4e46afb4ca383ba19af4b3",
    "deepnote_cell_type": "code",
    "deepnote_to_be_reexecuted": false,
    "execution_millis": 45,
    "execution_start": 1670290709647,
    "source_hash": "bf7e3dd6",
    "tags": []
   },
   "outputs": [],
   "source": [
    "df = pd.read_csv(\"data happiness.csv\", na_values=\" \").dropna(axis=0).copy()"
   ]
  },
  {
   "cell_type": "code",
   "execution_count": 3,
   "metadata": {
    "cell_id": "7dcd2297fc294d9889a5521a09d3074f",
    "deepnote_cell_type": "code",
    "deepnote_to_be_reexecuted": false,
    "execution_millis": 45,
    "execution_start": 1670290709692,
    "source_hash": "3997bab1",
    "tags": []
   },
   "outputs": [],
   "source": [
    "df=df.loc[:,[\"Country name\",\"Regional indicator\",\"Ladder score\",\"Logged GDP per capita\",\"Social support\",\"Healthy life expectancy\",\"Freedom to make life choices\",\"Generosity\",\"Perceptions of corruption\"]].copy()"
   ]
  },
  {
   "cell_type": "code",
   "execution_count": 4,
   "metadata": {
    "cell_id": "1f02cb14ca124d22936d7b6b09891565",
    "deepnote_cell_type": "code",
    "deepnote_to_be_reexecuted": false,
    "execution_millis": 139,
    "execution_start": 1670290709783,
    "source_hash": "f804c160",
    "tags": []
   },
   "outputs": [
    {
     "data": {
      "application/vnd.deepnote.dataframe.v3+json": {
       "column_count": 9,
       "columns": [
        {
         "dtype": "object",
         "name": "Country name",
         "stats": {
          "categories": [
           {
            "count": 1,
            "name": "Finland"
           },
           {
            "count": 1,
            "name": "Denmark"
           },
           {
            "count": 147,
            "name": "147 others"
           }
          ],
          "nan_count": 0,
          "unique_count": 149
         }
        },
        {
         "dtype": "object",
         "name": "Regional indicator",
         "stats": {
          "categories": [
           {
            "count": 36,
            "name": "Sub-Saharan Africa"
           },
           {
            "count": 21,
            "name": "Western Europe"
           },
           {
            "count": 92,
            "name": "8 others"
           }
          ],
          "nan_count": 0,
          "unique_count": 10
         }
        },
        {
         "dtype": "float64",
         "name": "Ladder score",
         "stats": {
          "histogram": [
           {
            "bin_end": 3.0549,
            "bin_start": 2.523,
            "count": 1
           },
           {
            "bin_end": 3.5868,
            "bin_start": 3.0549,
            "count": 4
           },
           {
            "bin_end": 4.1187000000000005,
            "bin_start": 3.5868,
            "count": 9
           },
           {
            "bin_end": 4.6506,
            "bin_start": 4.1187000000000005,
            "count": 17
           },
           {
            "bin_end": 5.182499999999999,
            "bin_start": 4.6506,
            "count": 29
           },
           {
            "bin_end": 5.7143999999999995,
            "bin_start": 5.182499999999999,
            "count": 20
           },
           {
            "bin_end": 6.2463,
            "bin_start": 5.7143999999999995,
            "count": 31
           },
           {
            "bin_end": 6.7782,
            "bin_start": 6.2463,
            "count": 18
           },
           {
            "bin_end": 7.3101,
            "bin_start": 6.7782,
            "count": 12
           },
           {
            "bin_end": 7.842,
            "bin_start": 7.3101,
            "count": 8
           }
          ],
          "max": "7.842",
          "min": "2.523",
          "nan_count": 0,
          "unique_count": 147
         }
        },
        {
         "dtype": "float64",
         "name": "Logged GDP per capita",
         "stats": {
          "histogram": [
           {
            "bin_end": 7.1362,
            "bin_start": 6.635,
            "count": 3
           },
           {
            "bin_end": 7.6373999999999995,
            "bin_start": 7.1362,
            "count": 8
           },
           {
            "bin_end": 8.1386,
            "bin_start": 7.6373999999999995,
            "count": 17
           },
           {
            "bin_end": 8.639800000000001,
            "bin_start": 8.1386,
            "count": 14
           },
           {
            "bin_end": 9.141,
            "bin_start": 8.639800000000001,
            "count": 12
           },
           {
            "bin_end": 9.6422,
            "bin_start": 9.141,
            "count": 29
           },
           {
            "bin_end": 10.1434,
            "bin_start": 9.6422,
            "count": 16
           },
           {
            "bin_end": 10.6446,
            "bin_start": 10.1434,
            "count": 24
           },
           {
            "bin_end": 11.145800000000001,
            "bin_start": 10.6446,
            "count": 23
           },
           {
            "bin_end": 11.647,
            "bin_start": 11.145800000000001,
            "count": 3
           }
          ],
          "max": "11.647",
          "min": "6.635",
          "nan_count": 0,
          "unique_count": 148
         }
        },
        {
         "dtype": "float64",
         "name": "Social support",
         "stats": {
          "histogram": [
           {
            "bin_end": 0.515,
            "bin_start": 0.463,
            "count": 3
           },
           {
            "bin_end": 0.5670000000000001,
            "bin_start": 0.515,
            "count": 4
           },
           {
            "bin_end": 0.619,
            "bin_start": 0.5670000000000001,
            "count": 2
           },
           {
            "bin_end": 0.671,
            "bin_start": 0.619,
            "count": 8
           },
           {
            "bin_end": 0.7230000000000001,
            "bin_start": 0.671,
            "count": 14
           },
           {
            "bin_end": 0.7750000000000001,
            "bin_start": 0.7230000000000001,
            "count": 14
           },
           {
            "bin_end": 0.8270000000000001,
            "bin_start": 0.7750000000000001,
            "count": 26
           },
           {
            "bin_end": 0.879,
            "bin_start": 0.8270000000000001,
            "count": 23
           },
           {
            "bin_end": 0.931,
            "bin_start": 0.879,
            "count": 29
           },
           {
            "bin_end": 0.983,
            "bin_start": 0.931,
            "count": 26
           }
          ],
          "max": "0.983",
          "min": "0.463",
          "nan_count": 0,
          "unique_count": 119
         }
        },
        {
         "dtype": "float64",
         "name": "Healthy life expectancy",
         "stats": {
          "histogram": [
           {
            "bin_end": 51.325500000000005,
            "bin_start": 48.478,
            "count": 5
           },
           {
            "bin_end": 54.173,
            "bin_start": 51.325500000000005,
            "count": 7
           },
           {
            "bin_end": 57.0205,
            "bin_start": 54.173,
            "count": 12
           },
           {
            "bin_end": 59.868,
            "bin_start": 57.0205,
            "count": 14
           },
           {
            "bin_end": 62.715500000000006,
            "bin_start": 59.868,
            "count": 13
           },
           {
            "bin_end": 65.563,
            "bin_start": 62.715500000000006,
            "count": 13
           },
           {
            "bin_end": 68.4105,
            "bin_start": 65.563,
            "count": 36
           },
           {
            "bin_end": 71.25800000000001,
            "bin_start": 68.4105,
            "count": 18
           },
           {
            "bin_end": 74.1055,
            "bin_start": 71.25800000000001,
            "count": 26
           },
           {
            "bin_end": 76.953,
            "bin_start": 74.1055,
            "count": 5
           }
          ],
          "max": "76.953",
          "min": "48.478",
          "nan_count": 0,
          "unique_count": 135
         }
        },
        {
         "dtype": "float64",
         "name": "Freedom to make life choices",
         "stats": {
          "histogram": [
           {
            "bin_end": 0.4408,
            "bin_start": 0.382,
            "count": 1
           },
           {
            "bin_end": 0.4996,
            "bin_start": 0.4408,
            "count": 1
           },
           {
            "bin_end": 0.5584,
            "bin_start": 0.4996,
            "count": 3
           },
           {
            "bin_end": 0.6172,
            "bin_start": 0.5584,
            "count": 8
           },
           {
            "bin_end": 0.6759999999999999,
            "bin_start": 0.6172,
            "count": 8
           },
           {
            "bin_end": 0.7348,
            "bin_start": 0.6759999999999999,
            "count": 22
           },
           {
            "bin_end": 0.7936,
            "bin_start": 0.7348,
            "count": 28
           },
           {
            "bin_end": 0.8524,
            "bin_start": 0.7936,
            "count": 22
           },
           {
            "bin_end": 0.9112,
            "bin_start": 0.8524,
            "count": 35
           },
           {
            "bin_end": 0.97,
            "bin_start": 0.9112,
            "count": 21
           }
          ],
          "max": "0.97",
          "min": "0.382",
          "nan_count": 0,
          "unique_count": 126
         }
        },
        {
         "dtype": "float64",
         "name": "Generosity",
         "stats": {
          "histogram": [
           {
            "bin_end": -0.20499999999999996,
            "bin_start": -0.288,
            "count": 9
           },
           {
            "bin_end": -0.12199999999999997,
            "bin_start": -0.20499999999999996,
            "count": 31
           },
           {
            "bin_end": -0.03899999999999998,
            "bin_start": -0.12199999999999997,
            "count": 33
           },
           {
            "bin_end": 0.04400000000000004,
            "bin_start": -0.03899999999999998,
            "count": 31
           },
           {
            "bin_end": 0.12700000000000006,
            "bin_start": 0.04400000000000004,
            "count": 27
           },
           {
            "bin_end": 0.21000000000000002,
            "bin_start": 0.12700000000000006,
            "count": 7
           },
           {
            "bin_end": 0.2930000000000001,
            "bin_start": 0.21000000000000002,
            "count": 6
           },
           {
            "bin_end": 0.37600000000000006,
            "bin_start": 0.2930000000000001,
            "count": 1
           },
           {
            "bin_end": 0.459,
            "bin_start": 0.37600000000000006,
            "count": 2
           },
           {
            "bin_end": 0.542,
            "bin_start": 0.459,
            "count": 2
           }
          ],
          "max": "0.542",
          "min": "-0.288",
          "nan_count": 0,
          "unique_count": 130
         }
        },
        {
         "dtype": "float64",
         "name": "Perceptions of corruption",
         "stats": {
          "histogram": [
           {
            "bin_end": 0.16770000000000002,
            "bin_start": 0.082,
            "count": 2
           },
           {
            "bin_end": 0.2534,
            "bin_start": 0.16770000000000002,
            "count": 4
           },
           {
            "bin_end": 0.3391,
            "bin_start": 0.2534,
            "count": 3
           },
           {
            "bin_end": 0.4248,
            "bin_start": 0.3391,
            "count": 4
           },
           {
            "bin_end": 0.5105,
            "bin_start": 0.4248,
            "count": 5
           },
           {
            "bin_end": 0.5962,
            "bin_start": 0.5105,
            "count": 7
           },
           {
            "bin_end": 0.6819,
            "bin_start": 0.5962,
            "count": 14
           },
           {
            "bin_end": 0.7676,
            "bin_start": 0.6819,
            "count": 31
           },
           {
            "bin_end": 0.8533,
            "bin_start": 0.7676,
            "count": 46
           },
           {
            "bin_end": 0.939,
            "bin_start": 0.8533,
            "count": 33
           }
          ],
          "max": "0.939",
          "min": "0.082",
          "nan_count": 0,
          "unique_count": 130
         }
        },
        {
         "dtype": "int64",
         "name": "_deepnote_index_column"
        }
       ],
       "row_count": 149,
       "rows": [
        {
         "Country name": "Finland",
         "Freedom to make life choices": "0.949",
         "Generosity": "-0.098",
         "Healthy life expectancy": "72.0",
         "Ladder score": "7.842",
         "Logged GDP per capita": "10.775",
         "Perceptions of corruption": "0.186",
         "Regional indicator": "Western Europe",
         "Social support": "0.954",
         "_deepnote_index_column": "0"
        },
        {
         "Country name": "Denmark",
         "Freedom to make life choices": "0.946",
         "Generosity": "0.03",
         "Healthy life expectancy": "72.7",
         "Ladder score": "7.62",
         "Logged GDP per capita": "10.933",
         "Perceptions of corruption": "0.179",
         "Regional indicator": "Western Europe",
         "Social support": "0.954",
         "_deepnote_index_column": "1"
        },
        {
         "Country name": "Switzerland",
         "Freedom to make life choices": "0.919",
         "Generosity": "0.025",
         "Healthy life expectancy": "74.4",
         "Ladder score": "7.571",
         "Logged GDP per capita": "11.117",
         "Perceptions of corruption": "0.292",
         "Regional indicator": "Western Europe",
         "Social support": "0.942",
         "_deepnote_index_column": "2"
        },
        {
         "Country name": "Iceland",
         "Freedom to make life choices": "0.955",
         "Generosity": "0.16",
         "Healthy life expectancy": "73.0",
         "Ladder score": "7.554",
         "Logged GDP per capita": "10.878",
         "Perceptions of corruption": "0.673",
         "Regional indicator": "Western Europe",
         "Social support": "0.983",
         "_deepnote_index_column": "3"
        },
        {
         "Country name": "Netherlands",
         "Freedom to make life choices": "0.913",
         "Generosity": "0.175",
         "Healthy life expectancy": "72.4",
         "Ladder score": "7.464",
         "Logged GDP per capita": "10.932",
         "Perceptions of corruption": "0.338",
         "Regional indicator": "Western Europe",
         "Social support": "0.942",
         "_deepnote_index_column": "4"
        },
        {
         "Country name": "Norway",
         "Freedom to make life choices": "0.96",
         "Generosity": "0.093",
         "Healthy life expectancy": "73.3",
         "Ladder score": "7.392",
         "Logged GDP per capita": "11.053",
         "Perceptions of corruption": "0.27",
         "Regional indicator": "Western Europe",
         "Social support": "0.954",
         "_deepnote_index_column": "5"
        },
        {
         "Country name": "Sweden",
         "Freedom to make life choices": "0.945",
         "Generosity": "0.086",
         "Healthy life expectancy": "72.7",
         "Ladder score": "7.363",
         "Logged GDP per capita": "10.867",
         "Perceptions of corruption": "0.237",
         "Regional indicator": "Western Europe",
         "Social support": "0.934",
         "_deepnote_index_column": "6"
        },
        {
         "Country name": "Luxembourg",
         "Freedom to make life choices": "0.907",
         "Generosity": "-0.034",
         "Healthy life expectancy": "72.6",
         "Ladder score": "7.324",
         "Logged GDP per capita": "11.647",
         "Perceptions of corruption": "0.386",
         "Regional indicator": "Western Europe",
         "Social support": "0.908",
         "_deepnote_index_column": "7"
        },
        {
         "Country name": "New Zealand",
         "Freedom to make life choices": "0.929",
         "Generosity": "0.134",
         "Healthy life expectancy": "73.4",
         "Ladder score": "7.277",
         "Logged GDP per capita": "10.643",
         "Perceptions of corruption": "0.242",
         "Regional indicator": "North America and ANZ",
         "Social support": "0.948",
         "_deepnote_index_column": "8"
        },
        {
         "Country name": "Austria",
         "Freedom to make life choices": "0.908",
         "Generosity": "0.042",
         "Healthy life expectancy": "73.3",
         "Ladder score": "7.268",
         "Logged GDP per capita": "10.906",
         "Perceptions of corruption": "0.481",
         "Regional indicator": "Western Europe",
         "Social support": "0.934",
         "_deepnote_index_column": "9"
        }
       ]
      },
      "text/html": [
       "<div>\n",
       "<style scoped>\n",
       "    .dataframe tbody tr th:only-of-type {\n",
       "        vertical-align: middle;\n",
       "    }\n",
       "\n",
       "    .dataframe tbody tr th {\n",
       "        vertical-align: top;\n",
       "    }\n",
       "\n",
       "    .dataframe thead th {\n",
       "        text-align: right;\n",
       "    }\n",
       "</style>\n",
       "<table border=\"1\" class=\"dataframe\">\n",
       "  <thead>\n",
       "    <tr style=\"text-align: right;\">\n",
       "      <th></th>\n",
       "      <th>Country name</th>\n",
       "      <th>Regional indicator</th>\n",
       "      <th>Ladder score</th>\n",
       "      <th>Logged GDP per capita</th>\n",
       "      <th>Social support</th>\n",
       "      <th>Healthy life expectancy</th>\n",
       "      <th>Freedom to make life choices</th>\n",
       "      <th>Generosity</th>\n",
       "      <th>Perceptions of corruption</th>\n",
       "    </tr>\n",
       "  </thead>\n",
       "  <tbody>\n",
       "    <tr>\n",
       "      <th>0</th>\n",
       "      <td>Finland</td>\n",
       "      <td>Western Europe</td>\n",
       "      <td>7.842</td>\n",
       "      <td>10.775</td>\n",
       "      <td>0.954</td>\n",
       "      <td>72.000</td>\n",
       "      <td>0.949</td>\n",
       "      <td>-0.098</td>\n",
       "      <td>0.186</td>\n",
       "    </tr>\n",
       "    <tr>\n",
       "      <th>1</th>\n",
       "      <td>Denmark</td>\n",
       "      <td>Western Europe</td>\n",
       "      <td>7.620</td>\n",
       "      <td>10.933</td>\n",
       "      <td>0.954</td>\n",
       "      <td>72.700</td>\n",
       "      <td>0.946</td>\n",
       "      <td>0.030</td>\n",
       "      <td>0.179</td>\n",
       "    </tr>\n",
       "    <tr>\n",
       "      <th>2</th>\n",
       "      <td>Switzerland</td>\n",
       "      <td>Western Europe</td>\n",
       "      <td>7.571</td>\n",
       "      <td>11.117</td>\n",
       "      <td>0.942</td>\n",
       "      <td>74.400</td>\n",
       "      <td>0.919</td>\n",
       "      <td>0.025</td>\n",
       "      <td>0.292</td>\n",
       "    </tr>\n",
       "    <tr>\n",
       "      <th>3</th>\n",
       "      <td>Iceland</td>\n",
       "      <td>Western Europe</td>\n",
       "      <td>7.554</td>\n",
       "      <td>10.878</td>\n",
       "      <td>0.983</td>\n",
       "      <td>73.000</td>\n",
       "      <td>0.955</td>\n",
       "      <td>0.160</td>\n",
       "      <td>0.673</td>\n",
       "    </tr>\n",
       "    <tr>\n",
       "      <th>4</th>\n",
       "      <td>Netherlands</td>\n",
       "      <td>Western Europe</td>\n",
       "      <td>7.464</td>\n",
       "      <td>10.932</td>\n",
       "      <td>0.942</td>\n",
       "      <td>72.400</td>\n",
       "      <td>0.913</td>\n",
       "      <td>0.175</td>\n",
       "      <td>0.338</td>\n",
       "    </tr>\n",
       "    <tr>\n",
       "      <th>...</th>\n",
       "      <td>...</td>\n",
       "      <td>...</td>\n",
       "      <td>...</td>\n",
       "      <td>...</td>\n",
       "      <td>...</td>\n",
       "      <td>...</td>\n",
       "      <td>...</td>\n",
       "      <td>...</td>\n",
       "      <td>...</td>\n",
       "    </tr>\n",
       "    <tr>\n",
       "      <th>144</th>\n",
       "      <td>Lesotho</td>\n",
       "      <td>Sub-Saharan Africa</td>\n",
       "      <td>3.512</td>\n",
       "      <td>7.926</td>\n",
       "      <td>0.787</td>\n",
       "      <td>48.700</td>\n",
       "      <td>0.715</td>\n",
       "      <td>-0.131</td>\n",
       "      <td>0.915</td>\n",
       "    </tr>\n",
       "    <tr>\n",
       "      <th>145</th>\n",
       "      <td>Botswana</td>\n",
       "      <td>Sub-Saharan Africa</td>\n",
       "      <td>3.467</td>\n",
       "      <td>9.782</td>\n",
       "      <td>0.784</td>\n",
       "      <td>59.269</td>\n",
       "      <td>0.824</td>\n",
       "      <td>-0.246</td>\n",
       "      <td>0.801</td>\n",
       "    </tr>\n",
       "    <tr>\n",
       "      <th>146</th>\n",
       "      <td>Rwanda</td>\n",
       "      <td>Sub-Saharan Africa</td>\n",
       "      <td>3.415</td>\n",
       "      <td>7.676</td>\n",
       "      <td>0.552</td>\n",
       "      <td>61.400</td>\n",
       "      <td>0.897</td>\n",
       "      <td>0.061</td>\n",
       "      <td>0.167</td>\n",
       "    </tr>\n",
       "    <tr>\n",
       "      <th>147</th>\n",
       "      <td>Zimbabwe</td>\n",
       "      <td>Sub-Saharan Africa</td>\n",
       "      <td>3.145</td>\n",
       "      <td>7.943</td>\n",
       "      <td>0.750</td>\n",
       "      <td>56.201</td>\n",
       "      <td>0.677</td>\n",
       "      <td>-0.047</td>\n",
       "      <td>0.821</td>\n",
       "    </tr>\n",
       "    <tr>\n",
       "      <th>148</th>\n",
       "      <td>Afghanistan</td>\n",
       "      <td>South Asia</td>\n",
       "      <td>2.523</td>\n",
       "      <td>7.695</td>\n",
       "      <td>0.463</td>\n",
       "      <td>52.493</td>\n",
       "      <td>0.382</td>\n",
       "      <td>-0.102</td>\n",
       "      <td>0.924</td>\n",
       "    </tr>\n",
       "  </tbody>\n",
       "</table>\n",
       "<p>149 rows × 9 columns</p>\n",
       "</div>"
      ],
      "text/plain": [
       "    Country name  Regional indicator  Ladder score  Logged GDP per capita  \\\n",
       "0        Finland      Western Europe         7.842                 10.775   \n",
       "1        Denmark      Western Europe         7.620                 10.933   \n",
       "2    Switzerland      Western Europe         7.571                 11.117   \n",
       "3        Iceland      Western Europe         7.554                 10.878   \n",
       "4    Netherlands      Western Europe         7.464                 10.932   \n",
       "..           ...                 ...           ...                    ...   \n",
       "144      Lesotho  Sub-Saharan Africa         3.512                  7.926   \n",
       "145     Botswana  Sub-Saharan Africa         3.467                  9.782   \n",
       "146       Rwanda  Sub-Saharan Africa         3.415                  7.676   \n",
       "147     Zimbabwe  Sub-Saharan Africa         3.145                  7.943   \n",
       "148  Afghanistan          South Asia         2.523                  7.695   \n",
       "\n",
       "     Social support  Healthy life expectancy  Freedom to make life choices  \\\n",
       "0             0.954                   72.000                         0.949   \n",
       "1             0.954                   72.700                         0.946   \n",
       "2             0.942                   74.400                         0.919   \n",
       "3             0.983                   73.000                         0.955   \n",
       "4             0.942                   72.400                         0.913   \n",
       "..              ...                      ...                           ...   \n",
       "144           0.787                   48.700                         0.715   \n",
       "145           0.784                   59.269                         0.824   \n",
       "146           0.552                   61.400                         0.897   \n",
       "147           0.750                   56.201                         0.677   \n",
       "148           0.463                   52.493                         0.382   \n",
       "\n",
       "     Generosity  Perceptions of corruption  \n",
       "0        -0.098                      0.186  \n",
       "1         0.030                      0.179  \n",
       "2         0.025                      0.292  \n",
       "3         0.160                      0.673  \n",
       "4         0.175                      0.338  \n",
       "..          ...                        ...  \n",
       "144      -0.131                      0.915  \n",
       "145      -0.246                      0.801  \n",
       "146       0.061                      0.167  \n",
       "147      -0.047                      0.821  \n",
       "148      -0.102                      0.924  \n",
       "\n",
       "[149 rows x 9 columns]"
      ]
     },
     "execution_count": 4,
     "metadata": {},
     "output_type": "execute_result"
    }
   ],
   "source": [
    "df"
   ]
  },
  {
   "cell_type": "code",
   "execution_count": 5,
   "metadata": {
    "cell_id": "fa18ed4f2c8c446287de6fd87a6d139a",
    "deepnote_cell_type": "code",
    "deepnote_to_be_reexecuted": false,
    "execution_millis": 4053422,
    "execution_start": 1670290709938,
    "source_hash": "14f60b8f",
    "tags": []
   },
   "outputs": [
    {
     "data": {
      "text/plain": [
       "(149, 9)"
      ]
     },
     "execution_count": 5,
     "metadata": {},
     "output_type": "execute_result"
    }
   ],
   "source": [
    "df.shape"
   ]
  },
  {
   "cell_type": "markdown",
   "metadata": {
    "cell_id": "fd7a268917e74989b32bdf880e5f4a61",
    "deepnote_cell_type": "text-cell-p",
    "formattedRanges": [],
    "is_collapsed": false,
    "tags": []
   },
   "source": [
    "Rank the Countries With Most Happiness Ladder Score"
   ]
  },
  {
   "cell_type": "code",
   "execution_count": 6,
   "metadata": {
    "cell_id": "e75a601895304e418f409cd70eb5f5d3",
    "deepnote_cell_type": "code",
    "deepnote_to_be_reexecuted": false,
    "execution_millis": 2,
    "execution_start": 1670290709996,
    "source_hash": "18138c9c",
    "tags": []
   },
   "outputs": [
    {
     "data": {
      "text/plain": [
       "0      7.842\n",
       "1      7.620\n",
       "2      7.571\n",
       "3      7.554\n",
       "4      7.464\n",
       "       ...  \n",
       "144    3.512\n",
       "145    3.467\n",
       "146    3.415\n",
       "147    3.145\n",
       "148    2.523\n",
       "Name: Ladder score, Length: 149, dtype: float64"
      ]
     },
     "execution_count": 6,
     "metadata": {},
     "output_type": "execute_result"
    }
   ],
   "source": [
    "df[\"Ladder score\"].sort_values(ascending= False)"
   ]
  },
  {
   "cell_type": "code",
   "execution_count": 7,
   "metadata": {
    "cell_id": "6d9210b8dfcd47559e336a00bc0c3c74",
    "deepnote_cell_type": "code",
    "deepnote_to_be_reexecuted": false,
    "execution_millis": 4053421,
    "execution_start": 1670290710040,
    "source_hash": "f6fc5cd9",
    "tags": []
   },
   "outputs": [],
   "source": [
    "df[\"Rank\"]=pd.Series(range(1,150))"
   ]
  },
  {
   "cell_type": "markdown",
   "metadata": {
    "cell_id": "4b0082e5fefe4b3999a6ad4c2d6e1a98",
    "deepnote_cell_type": "text-cell-p",
    "formattedRanges": [],
    "is_collapsed": false,
    "tags": []
   },
   "source": [
    "The Daraframe is already in descending sorting, therefore we can distribute ranks to the countries directly."
   ]
  },
  {
   "cell_type": "markdown",
   "metadata": {
    "cell_id": "8000212f009c49d99fc8b12ba86fcefd",
    "deepnote_cell_type": "text-cell-h3",
    "formattedRanges": [],
    "is_collapsed": false,
    "tags": []
   },
   "source": [
    "### 10 Countries With Most Happiness Ladder Score"
   ]
  },
  {
   "cell_type": "code",
   "execution_count": 8,
   "metadata": {
    "cell_id": "7f301f0a89ca4245b57a27b60277be0d",
    "deepnote_cell_type": "code",
    "deepnote_to_be_reexecuted": false,
    "execution_millis": 45,
    "execution_start": 1670290710042,
    "source_hash": "c5b1c8c6",
    "tags": []
   },
   "outputs": [
    {
     "data": {
      "application/vnd.deepnote.dataframe.v3+json": {
       "column_count": 2,
       "columns": [
        {
         "dtype": "object",
         "name": "Country name",
         "stats": {
          "categories": [
           {
            "count": 1,
            "name": "Finland"
           },
           {
            "count": 1,
            "name": "Denmark"
           },
           {
            "count": 8,
            "name": "8 others"
           }
          ],
          "nan_count": 0,
          "unique_count": 10
         }
        },
        {
         "dtype": "int64",
         "name": "Rank",
         "stats": {
          "histogram": [
           {
            "bin_end": 1.9,
            "bin_start": 1,
            "count": 1
           },
           {
            "bin_end": 2.8,
            "bin_start": 1.9,
            "count": 1
           },
           {
            "bin_end": 3.7,
            "bin_start": 2.8,
            "count": 1
           },
           {
            "bin_end": 4.6,
            "bin_start": 3.7,
            "count": 1
           },
           {
            "bin_end": 5.5,
            "bin_start": 4.6,
            "count": 1
           },
           {
            "bin_end": 6.4,
            "bin_start": 5.5,
            "count": 1
           },
           {
            "bin_end": 7.3,
            "bin_start": 6.4,
            "count": 1
           },
           {
            "bin_end": 8.2,
            "bin_start": 7.3,
            "count": 1
           },
           {
            "bin_end": 9.1,
            "bin_start": 8.2,
            "count": 1
           },
           {
            "bin_end": 10,
            "bin_start": 9.1,
            "count": 1
           }
          ],
          "max": "10",
          "min": "1",
          "nan_count": 0,
          "unique_count": 10
         }
        },
        {
         "dtype": "int64",
         "name": "_deepnote_index_column"
        }
       ],
       "row_count": 10,
       "rows": [
        {
         "Country name": "Finland",
         "Rank": "1",
         "_deepnote_index_column": "0"
        },
        {
         "Country name": "Denmark",
         "Rank": "2",
         "_deepnote_index_column": "1"
        },
        {
         "Country name": "Switzerland",
         "Rank": "3",
         "_deepnote_index_column": "2"
        },
        {
         "Country name": "Iceland",
         "Rank": "4",
         "_deepnote_index_column": "3"
        },
        {
         "Country name": "Netherlands",
         "Rank": "5",
         "_deepnote_index_column": "4"
        },
        {
         "Country name": "Norway",
         "Rank": "6",
         "_deepnote_index_column": "5"
        },
        {
         "Country name": "Sweden",
         "Rank": "7",
         "_deepnote_index_column": "6"
        },
        {
         "Country name": "Luxembourg",
         "Rank": "8",
         "_deepnote_index_column": "7"
        },
        {
         "Country name": "New Zealand",
         "Rank": "9",
         "_deepnote_index_column": "8"
        },
        {
         "Country name": "Austria",
         "Rank": "10",
         "_deepnote_index_column": "9"
        }
       ]
      },
      "text/html": [
       "<div>\n",
       "<style scoped>\n",
       "    .dataframe tbody tr th:only-of-type {\n",
       "        vertical-align: middle;\n",
       "    }\n",
       "\n",
       "    .dataframe tbody tr th {\n",
       "        vertical-align: top;\n",
       "    }\n",
       "\n",
       "    .dataframe thead th {\n",
       "        text-align: right;\n",
       "    }\n",
       "</style>\n",
       "<table border=\"1\" class=\"dataframe\">\n",
       "  <thead>\n",
       "    <tr style=\"text-align: right;\">\n",
       "      <th></th>\n",
       "      <th>Country name</th>\n",
       "      <th>Rank</th>\n",
       "    </tr>\n",
       "  </thead>\n",
       "  <tbody>\n",
       "    <tr>\n",
       "      <th>0</th>\n",
       "      <td>Finland</td>\n",
       "      <td>1</td>\n",
       "    </tr>\n",
       "    <tr>\n",
       "      <th>1</th>\n",
       "      <td>Denmark</td>\n",
       "      <td>2</td>\n",
       "    </tr>\n",
       "    <tr>\n",
       "      <th>2</th>\n",
       "      <td>Switzerland</td>\n",
       "      <td>3</td>\n",
       "    </tr>\n",
       "    <tr>\n",
       "      <th>3</th>\n",
       "      <td>Iceland</td>\n",
       "      <td>4</td>\n",
       "    </tr>\n",
       "    <tr>\n",
       "      <th>4</th>\n",
       "      <td>Netherlands</td>\n",
       "      <td>5</td>\n",
       "    </tr>\n",
       "    <tr>\n",
       "      <th>5</th>\n",
       "      <td>Norway</td>\n",
       "      <td>6</td>\n",
       "    </tr>\n",
       "    <tr>\n",
       "      <th>6</th>\n",
       "      <td>Sweden</td>\n",
       "      <td>7</td>\n",
       "    </tr>\n",
       "    <tr>\n",
       "      <th>7</th>\n",
       "      <td>Luxembourg</td>\n",
       "      <td>8</td>\n",
       "    </tr>\n",
       "    <tr>\n",
       "      <th>8</th>\n",
       "      <td>New Zealand</td>\n",
       "      <td>9</td>\n",
       "    </tr>\n",
       "    <tr>\n",
       "      <th>9</th>\n",
       "      <td>Austria</td>\n",
       "      <td>10</td>\n",
       "    </tr>\n",
       "  </tbody>\n",
       "</table>\n",
       "</div>"
      ],
      "text/plain": [
       "  Country name  Rank\n",
       "0      Finland     1\n",
       "1      Denmark     2\n",
       "2  Switzerland     3\n",
       "3      Iceland     4\n",
       "4  Netherlands     5\n",
       "5       Norway     6\n",
       "6       Sweden     7\n",
       "7   Luxembourg     8\n",
       "8  New Zealand     9\n",
       "9      Austria    10"
      ]
     },
     "execution_count": 8,
     "metadata": {},
     "output_type": "execute_result"
    }
   ],
   "source": [
    "df[[\"Country name\",\"Rank\"]].head(10)"
   ]
  },
  {
   "cell_type": "markdown",
   "metadata": {
    "cell_id": "1019fd42b494482eb425cf32593f76bf",
    "deepnote_cell_type": "text-cell-h3",
    "formattedRanges": [],
    "is_collapsed": false,
    "tags": []
   },
   "source": [
    "### 10 Countries With Least Happiness Ladder Score"
   ]
  },
  {
   "cell_type": "code",
   "execution_count": 9,
   "metadata": {
    "cell_id": "79f549a5c797472a9ddddca12cb26fb7",
    "deepnote_cell_type": "code",
    "deepnote_to_be_reexecuted": false,
    "execution_millis": 180,
    "execution_start": 1670290710228,
    "source_hash": "a040ad90",
    "tags": []
   },
   "outputs": [
    {
     "data": {
      "application/vnd.deepnote.dataframe.v3+json": {
       "column_count": 2,
       "columns": [
        {
         "dtype": "object",
         "name": "Country name",
         "stats": {
          "categories": [
           {
            "count": 1,
            "name": "Burundi"
           },
           {
            "count": 1,
            "name": "Yemen"
           },
           {
            "count": 8,
            "name": "8 others"
           }
          ],
          "nan_count": 0,
          "unique_count": 10
         }
        },
        {
         "dtype": "int64",
         "name": "Rank",
         "stats": {
          "histogram": [
           {
            "bin_end": 140.9,
            "bin_start": 140,
            "count": 1
           },
           {
            "bin_end": 141.8,
            "bin_start": 140.9,
            "count": 1
           },
           {
            "bin_end": 142.7,
            "bin_start": 141.8,
            "count": 1
           },
           {
            "bin_end": 143.6,
            "bin_start": 142.7,
            "count": 1
           },
           {
            "bin_end": 144.5,
            "bin_start": 143.6,
            "count": 1
           },
           {
            "bin_end": 145.4,
            "bin_start": 144.5,
            "count": 1
           },
           {
            "bin_end": 146.3,
            "bin_start": 145.4,
            "count": 1
           },
           {
            "bin_end": 147.2,
            "bin_start": 146.3,
            "count": 1
           },
           {
            "bin_end": 148.1,
            "bin_start": 147.2,
            "count": 1
           },
           {
            "bin_end": 149,
            "bin_start": 148.1,
            "count": 1
           }
          ],
          "max": "149",
          "min": "140",
          "nan_count": 0,
          "unique_count": 10
         }
        },
        {
         "dtype": "int64",
         "name": "_deepnote_index_column"
        }
       ],
       "row_count": 10,
       "rows": [
        {
         "Country name": "Burundi",
         "Rank": "140",
         "_deepnote_index_column": "139"
        },
        {
         "Country name": "Yemen",
         "Rank": "141",
         "_deepnote_index_column": "140"
        },
        {
         "Country name": "Tanzania",
         "Rank": "142",
         "_deepnote_index_column": "141"
        },
        {
         "Country name": "Haiti",
         "Rank": "143",
         "_deepnote_index_column": "142"
        },
        {
         "Country name": "Malawi",
         "Rank": "144",
         "_deepnote_index_column": "143"
        },
        {
         "Country name": "Lesotho",
         "Rank": "145",
         "_deepnote_index_column": "144"
        },
        {
         "Country name": "Botswana",
         "Rank": "146",
         "_deepnote_index_column": "145"
        },
        {
         "Country name": "Rwanda",
         "Rank": "147",
         "_deepnote_index_column": "146"
        },
        {
         "Country name": "Zimbabwe",
         "Rank": "148",
         "_deepnote_index_column": "147"
        },
        {
         "Country name": "Afghanistan",
         "Rank": "149",
         "_deepnote_index_column": "148"
        }
       ]
      },
      "text/html": [
       "<div>\n",
       "<style scoped>\n",
       "    .dataframe tbody tr th:only-of-type {\n",
       "        vertical-align: middle;\n",
       "    }\n",
       "\n",
       "    .dataframe tbody tr th {\n",
       "        vertical-align: top;\n",
       "    }\n",
       "\n",
       "    .dataframe thead th {\n",
       "        text-align: right;\n",
       "    }\n",
       "</style>\n",
       "<table border=\"1\" class=\"dataframe\">\n",
       "  <thead>\n",
       "    <tr style=\"text-align: right;\">\n",
       "      <th></th>\n",
       "      <th>Country name</th>\n",
       "      <th>Rank</th>\n",
       "    </tr>\n",
       "  </thead>\n",
       "  <tbody>\n",
       "    <tr>\n",
       "      <th>139</th>\n",
       "      <td>Burundi</td>\n",
       "      <td>140</td>\n",
       "    </tr>\n",
       "    <tr>\n",
       "      <th>140</th>\n",
       "      <td>Yemen</td>\n",
       "      <td>141</td>\n",
       "    </tr>\n",
       "    <tr>\n",
       "      <th>141</th>\n",
       "      <td>Tanzania</td>\n",
       "      <td>142</td>\n",
       "    </tr>\n",
       "    <tr>\n",
       "      <th>142</th>\n",
       "      <td>Haiti</td>\n",
       "      <td>143</td>\n",
       "    </tr>\n",
       "    <tr>\n",
       "      <th>143</th>\n",
       "      <td>Malawi</td>\n",
       "      <td>144</td>\n",
       "    </tr>\n",
       "    <tr>\n",
       "      <th>144</th>\n",
       "      <td>Lesotho</td>\n",
       "      <td>145</td>\n",
       "    </tr>\n",
       "    <tr>\n",
       "      <th>145</th>\n",
       "      <td>Botswana</td>\n",
       "      <td>146</td>\n",
       "    </tr>\n",
       "    <tr>\n",
       "      <th>146</th>\n",
       "      <td>Rwanda</td>\n",
       "      <td>147</td>\n",
       "    </tr>\n",
       "    <tr>\n",
       "      <th>147</th>\n",
       "      <td>Zimbabwe</td>\n",
       "      <td>148</td>\n",
       "    </tr>\n",
       "    <tr>\n",
       "      <th>148</th>\n",
       "      <td>Afghanistan</td>\n",
       "      <td>149</td>\n",
       "    </tr>\n",
       "  </tbody>\n",
       "</table>\n",
       "</div>"
      ],
      "text/plain": [
       "    Country name  Rank\n",
       "139      Burundi   140\n",
       "140        Yemen   141\n",
       "141     Tanzania   142\n",
       "142        Haiti   143\n",
       "143       Malawi   144\n",
       "144      Lesotho   145\n",
       "145     Botswana   146\n",
       "146       Rwanda   147\n",
       "147     Zimbabwe   148\n",
       "148  Afghanistan   149"
      ]
     },
     "execution_count": 9,
     "metadata": {},
     "output_type": "execute_result"
    }
   ],
   "source": [
    "df[[\"Country name\",\"Rank\"]].tail(10)"
   ]
  },
  {
   "cell_type": "markdown",
   "metadata": {
    "cell_id": "3cb3150e80514115ba0c8e388a8ad41c",
    "deepnote_cell_type": "text-cell-h2",
    "formattedRanges": [],
    "is_collapsed": false,
    "tags": []
   },
   "source": [
    "## Data visualization"
   ]
  },
  {
   "cell_type": "markdown",
   "metadata": {
    "cell_id": "a5d879ed0d974ad2af5396d9e19353f3",
    "deepnote_cell_type": "text-cell-h3",
    "formattedRanges": [],
    "is_collapsed": false,
    "tags": []
   },
   "source": [
    "### Distributing the Level of happiness regards to Quantiles of Ladder score"
   ]
  },
  {
   "cell_type": "code",
   "execution_count": 10,
   "metadata": {
    "cell_id": "f440d0742ffb47c2b09911a32016cd65",
    "deepnote_cell_type": "code",
    "deepnote_to_be_reexecuted": false,
    "execution_millis": 0,
    "execution_start": 1670290710290,
    "source_hash": "c4efa553",
    "tags": []
   },
   "outputs": [],
   "source": [
    "Medianhp=df[\"Ladder score\"].quantile(q=0.5)\n",
    "firstq=df[\"Ladder score\"].quantile(q=0.25)\n",
    "thirdq=df[\"Ladder score\"].quantile(q=0.75)"
   ]
  },
  {
   "cell_type": "code",
   "execution_count": 11,
   "metadata": {
    "cell_id": "cd97d08af1044f3bb963f2050b4f0ceb",
    "deepnote_cell_type": "code",
    "deepnote_to_be_reexecuted": false,
    "execution_millis": 23,
    "execution_start": 1670290710292,
    "source_hash": "e95670bb",
    "tags": []
   },
   "outputs": [],
   "source": [
    "def quartile(data):\n",
    "    if data >= thirdq:\n",
    "        return(\"Very Happy\")\n",
    "    if data <= firstq:\n",
    "        return(\"Not Happy\")\n",
    "    if Medianhp >= data >= firstq:\n",
    "        return(\"Less Happy\")\n",
    "    if thirdq >= data >= Medianhp:\n",
    "        return(\"Happy\")"
   ]
  },
  {
   "cell_type": "code",
   "execution_count": 12,
   "metadata": {
    "cell_id": "b4b6b46b4111405a81813955329ea226",
    "deepnote_cell_type": "code",
    "deepnote_to_be_reexecuted": false,
    "execution_millis": 4,
    "execution_start": 1670290710322,
    "source_hash": "615fd77b",
    "tags": []
   },
   "outputs": [],
   "source": [
    "df[\"Happiness\"]= df[\"Ladder score\"].map(quartile)"
   ]
  },
  {
   "cell_type": "code",
   "execution_count": 13,
   "metadata": {
    "cell_id": "25d92a19e33d4287af5b22dca71c930e",
    "deepnote_cell_type": "code",
    "deepnote_table_loading": false,
    "deepnote_table_state": {
     "filters": [],
     "pageIndex": 0,
     "pageSize": 10,
     "sortBy": []
    },
    "deepnote_to_be_reexecuted": false,
    "execution_millis": 56,
    "execution_start": 1670290710393,
    "source_hash": "a13d6ed",
    "tags": []
   },
   "outputs": [
    {
     "data": {
      "application/vnd.deepnote.dataframe.v3+json": {
       "column_count": 3,
       "columns": [
        {
         "dtype": "object",
         "name": "Country name",
         "stats": {
          "categories": [
           {
            "count": 1,
            "name": "Finland"
           },
           {
            "count": 1,
            "name": "Denmark"
           },
           {
            "count": 147,
            "name": "147 others"
           }
          ],
          "nan_count": 0,
          "unique_count": 149
         }
        },
        {
         "dtype": "object",
         "name": "Regional indicator",
         "stats": {
          "categories": [
           {
            "count": 36,
            "name": "Sub-Saharan Africa"
           },
           {
            "count": 21,
            "name": "Western Europe"
           },
           {
            "count": 92,
            "name": "8 others"
           }
          ],
          "nan_count": 0,
          "unique_count": 10
         }
        },
        {
         "dtype": "object",
         "name": "Happiness",
         "stats": {
          "categories": [
           {
            "count": 38,
            "name": "Very Happy"
           },
           {
            "count": 38,
            "name": "Not Happy"
           },
           {
            "count": 73,
            "name": "2 others"
           }
          ],
          "nan_count": 0,
          "unique_count": 4
         }
        },
        {
         "dtype": "int64",
         "name": "_deepnote_index_column"
        }
       ],
       "row_count": 149,
       "rows": [
        {
         "Country name": "Finland",
         "Happiness": "Very Happy",
         "Regional indicator": "Western Europe",
         "_deepnote_index_column": "0"
        },
        {
         "Country name": "Denmark",
         "Happiness": "Very Happy",
         "Regional indicator": "Western Europe",
         "_deepnote_index_column": "1"
        },
        {
         "Country name": "Switzerland",
         "Happiness": "Very Happy",
         "Regional indicator": "Western Europe",
         "_deepnote_index_column": "2"
        },
        {
         "Country name": "Iceland",
         "Happiness": "Very Happy",
         "Regional indicator": "Western Europe",
         "_deepnote_index_column": "3"
        },
        {
         "Country name": "Netherlands",
         "Happiness": "Very Happy",
         "Regional indicator": "Western Europe",
         "_deepnote_index_column": "4"
        },
        {
         "Country name": "Norway",
         "Happiness": "Very Happy",
         "Regional indicator": "Western Europe",
         "_deepnote_index_column": "5"
        },
        {
         "Country name": "Sweden",
         "Happiness": "Very Happy",
         "Regional indicator": "Western Europe",
         "_deepnote_index_column": "6"
        },
        {
         "Country name": "Luxembourg",
         "Happiness": "Very Happy",
         "Regional indicator": "Western Europe",
         "_deepnote_index_column": "7"
        },
        {
         "Country name": "New Zealand",
         "Happiness": "Very Happy",
         "Regional indicator": "North America and ANZ",
         "_deepnote_index_column": "8"
        },
        {
         "Country name": "Austria",
         "Happiness": "Very Happy",
         "Regional indicator": "Western Europe",
         "_deepnote_index_column": "9"
        }
       ]
      },
      "text/html": [
       "<div>\n",
       "<style scoped>\n",
       "    .dataframe tbody tr th:only-of-type {\n",
       "        vertical-align: middle;\n",
       "    }\n",
       "\n",
       "    .dataframe tbody tr th {\n",
       "        vertical-align: top;\n",
       "    }\n",
       "\n",
       "    .dataframe thead th {\n",
       "        text-align: right;\n",
       "    }\n",
       "</style>\n",
       "<table border=\"1\" class=\"dataframe\">\n",
       "  <thead>\n",
       "    <tr style=\"text-align: right;\">\n",
       "      <th></th>\n",
       "      <th>Country name</th>\n",
       "      <th>Regional indicator</th>\n",
       "      <th>Happiness</th>\n",
       "    </tr>\n",
       "  </thead>\n",
       "  <tbody>\n",
       "    <tr>\n",
       "      <th>0</th>\n",
       "      <td>Finland</td>\n",
       "      <td>Western Europe</td>\n",
       "      <td>Very Happy</td>\n",
       "    </tr>\n",
       "    <tr>\n",
       "      <th>1</th>\n",
       "      <td>Denmark</td>\n",
       "      <td>Western Europe</td>\n",
       "      <td>Very Happy</td>\n",
       "    </tr>\n",
       "    <tr>\n",
       "      <th>2</th>\n",
       "      <td>Switzerland</td>\n",
       "      <td>Western Europe</td>\n",
       "      <td>Very Happy</td>\n",
       "    </tr>\n",
       "    <tr>\n",
       "      <th>3</th>\n",
       "      <td>Iceland</td>\n",
       "      <td>Western Europe</td>\n",
       "      <td>Very Happy</td>\n",
       "    </tr>\n",
       "    <tr>\n",
       "      <th>4</th>\n",
       "      <td>Netherlands</td>\n",
       "      <td>Western Europe</td>\n",
       "      <td>Very Happy</td>\n",
       "    </tr>\n",
       "    <tr>\n",
       "      <th>...</th>\n",
       "      <td>...</td>\n",
       "      <td>...</td>\n",
       "      <td>...</td>\n",
       "    </tr>\n",
       "    <tr>\n",
       "      <th>144</th>\n",
       "      <td>Lesotho</td>\n",
       "      <td>Sub-Saharan Africa</td>\n",
       "      <td>Not Happy</td>\n",
       "    </tr>\n",
       "    <tr>\n",
       "      <th>145</th>\n",
       "      <td>Botswana</td>\n",
       "      <td>Sub-Saharan Africa</td>\n",
       "      <td>Not Happy</td>\n",
       "    </tr>\n",
       "    <tr>\n",
       "      <th>146</th>\n",
       "      <td>Rwanda</td>\n",
       "      <td>Sub-Saharan Africa</td>\n",
       "      <td>Not Happy</td>\n",
       "    </tr>\n",
       "    <tr>\n",
       "      <th>147</th>\n",
       "      <td>Zimbabwe</td>\n",
       "      <td>Sub-Saharan Africa</td>\n",
       "      <td>Not Happy</td>\n",
       "    </tr>\n",
       "    <tr>\n",
       "      <th>148</th>\n",
       "      <td>Afghanistan</td>\n",
       "      <td>South Asia</td>\n",
       "      <td>Not Happy</td>\n",
       "    </tr>\n",
       "  </tbody>\n",
       "</table>\n",
       "<p>149 rows × 3 columns</p>\n",
       "</div>"
      ],
      "text/plain": [
       "    Country name  Regional indicator   Happiness\n",
       "0        Finland      Western Europe  Very Happy\n",
       "1        Denmark      Western Europe  Very Happy\n",
       "2    Switzerland      Western Europe  Very Happy\n",
       "3        Iceland      Western Europe  Very Happy\n",
       "4    Netherlands      Western Europe  Very Happy\n",
       "..           ...                 ...         ...\n",
       "144      Lesotho  Sub-Saharan Africa   Not Happy\n",
       "145     Botswana  Sub-Saharan Africa   Not Happy\n",
       "146       Rwanda  Sub-Saharan Africa   Not Happy\n",
       "147     Zimbabwe  Sub-Saharan Africa   Not Happy\n",
       "148  Afghanistan          South Asia   Not Happy\n",
       "\n",
       "[149 rows x 3 columns]"
      ]
     },
     "execution_count": 13,
     "metadata": {},
     "output_type": "execute_result"
    }
   ],
   "source": [
    "df[[\"Country name\",\"Regional indicator\",\"Happiness\"]]"
   ]
  },
  {
   "cell_type": "markdown",
   "metadata": {
    "cell_id": "f87166e276ba498089944c612fecaf95",
    "deepnote_cell_type": "text-cell-p",
    "formattedRanges": [],
    "is_collapsed": false,
    "tags": []
   },
   "source": [
    "Distrubute countries to 4 happiness level by using the 1st and 3 rd quantiles, and the median of the ladder score."
   ]
  },
  {
   "cell_type": "markdown",
   "metadata": {
    "cell_id": "57d1a4518050413b83f57d154c769ce3",
    "deepnote_cell_type": "text-cell-h3",
    "formattedRanges": [],
    "is_collapsed": false,
    "tags": []
   },
   "source": [
    "### Graph Regards to Level of Happiness"
   ]
  },
  {
   "cell_type": "code",
   "execution_count": 14,
   "metadata": {
    "cell_id": "9a53e71b10de4560acb648d3dab9a334",
    "deepnote_cell_type": "code",
    "deepnote_to_be_reexecuted": false,
    "execution_millis": 81,
    "execution_start": 1670290710439,
    "source_hash": "ded441a8",
    "tags": []
   },
   "outputs": [
    {
     "data": {
      "text/html": [
       "\n",
       "<div id=\"altair-viz-bf352c7a5fba4ae694b47f0d26c7a3ea\"></div>\n",
       "<script type=\"text/javascript\">\n",
       "  var VEGA_DEBUG = (typeof VEGA_DEBUG == \"undefined\") ? {} : VEGA_DEBUG;\n",
       "  (function(spec, embedOpt){\n",
       "    let outputDiv = document.currentScript.previousElementSibling;\n",
       "    if (outputDiv.id !== \"altair-viz-bf352c7a5fba4ae694b47f0d26c7a3ea\") {\n",
       "      outputDiv = document.getElementById(\"altair-viz-bf352c7a5fba4ae694b47f0d26c7a3ea\");\n",
       "    }\n",
       "    const paths = {\n",
       "      \"vega\": \"https://cdn.jsdelivr.net/npm//vega@5?noext\",\n",
       "      \"vega-lib\": \"https://cdn.jsdelivr.net/npm//vega-lib?noext\",\n",
       "      \"vega-lite\": \"https://cdn.jsdelivr.net/npm//vega-lite@4.17.0?noext\",\n",
       "      \"vega-embed\": \"https://cdn.jsdelivr.net/npm//vega-embed@6?noext\",\n",
       "    };\n",
       "\n",
       "    function maybeLoadScript(lib, version) {\n",
       "      var key = `${lib.replace(\"-\", \"\")}_version`;\n",
       "      return (VEGA_DEBUG[key] == version) ?\n",
       "        Promise.resolve(paths[lib]) :\n",
       "        new Promise(function(resolve, reject) {\n",
       "          var s = document.createElement('script');\n",
       "          document.getElementsByTagName(\"head\")[0].appendChild(s);\n",
       "          s.async = true;\n",
       "          s.onload = () => {\n",
       "            VEGA_DEBUG[key] = version;\n",
       "            return resolve(paths[lib]);\n",
       "          };\n",
       "          s.onerror = () => reject(`Error loading script: ${paths[lib]}`);\n",
       "          s.src = paths[lib];\n",
       "        });\n",
       "    }\n",
       "\n",
       "    function showError(err) {\n",
       "      outputDiv.innerHTML = `<div class=\"error\" style=\"color:red;\">${err}</div>`;\n",
       "      throw err;\n",
       "    }\n",
       "\n",
       "    function displayChart(vegaEmbed) {\n",
       "      vegaEmbed(outputDiv, spec, embedOpt)\n",
       "        .catch(err => showError(`Javascript Error: ${err.message}<br>This usually means there's a typo in your chart specification. See the javascript console for the full traceback.`));\n",
       "    }\n",
       "\n",
       "    if(typeof define === \"function\" && define.amd) {\n",
       "      requirejs.config({paths});\n",
       "      require([\"vega-embed\"], displayChart, err => showError(`Error loading script: ${err.message}`));\n",
       "    } else {\n",
       "      maybeLoadScript(\"vega\", \"5\")\n",
       "        .then(() => maybeLoadScript(\"vega-lite\", \"4.17.0\"))\n",
       "        .then(() => maybeLoadScript(\"vega-embed\", \"6\"))\n",
       "        .catch(showError)\n",
       "        .then(() => displayChart(vegaEmbed));\n",
       "    }\n",
       "  })({\"config\": {\"view\": {\"continuousWidth\": 400, \"continuousHeight\": 300}}, \"data\": {\"name\": \"data-01c0c5989b41d83bd4a10f07c2f8f78e\"}, \"mark\": \"point\", \"encoding\": {\"color\": {\"field\": \"Happiness\", \"type\": \"nominal\"}, \"tooltip\": [{\"field\": \"Country name\", \"type\": \"nominal\"}, {\"field\": \"Logged GDP per capita\", \"type\": \"quantitative\"}, {\"field\": \"Social support\", \"type\": \"quantitative\"}, {\"field\": \"Healthy life expectancy\", \"type\": \"quantitative\"}, {\"field\": \"Freedom to make life choices\", \"type\": \"quantitative\"}, {\"field\": \"Generosity\", \"type\": \"quantitative\"}, {\"field\": \"Perceptions of corruption\", \"type\": \"quantitative\"}], \"x\": {\"field\": \"Regional indicator\", \"scale\": {\"zero\": false}, \"type\": \"nominal\"}, \"y\": {\"field\": \"Ladder score\", \"scale\": {\"zero\": false}, \"type\": \"quantitative\"}}, \"height\": 800, \"title\": \"Country Region VS Happiness Ladder Score\", \"width\": 300, \"$schema\": \"https://vega.github.io/schema/vega-lite/v4.17.0.json\", \"datasets\": {\"data-01c0c5989b41d83bd4a10f07c2f8f78e\": [{\"Country name\": \"Finland\", \"Regional indicator\": \"Western Europe\", \"Ladder score\": 7.842, \"Logged GDP per capita\": 10.775, \"Social support\": 0.954, \"Healthy life expectancy\": 72.0, \"Freedom to make life choices\": 0.949, \"Generosity\": -0.098, \"Perceptions of corruption\": 0.186, \"Rank\": 1, \"Happiness\": \"Very Happy\"}, {\"Country name\": \"Denmark\", \"Regional indicator\": \"Western Europe\", \"Ladder score\": 7.62, \"Logged GDP per capita\": 10.933, \"Social support\": 0.954, \"Healthy life expectancy\": 72.7, \"Freedom to make life choices\": 0.946, \"Generosity\": 0.03, \"Perceptions of corruption\": 0.179, \"Rank\": 2, \"Happiness\": \"Very Happy\"}, {\"Country name\": \"Switzerland\", \"Regional indicator\": \"Western Europe\", \"Ladder score\": 7.571, \"Logged GDP per capita\": 11.117, \"Social support\": 0.942, \"Healthy life expectancy\": 74.4, \"Freedom to make life choices\": 0.919, \"Generosity\": 0.025, \"Perceptions of corruption\": 0.292, \"Rank\": 3, \"Happiness\": \"Very Happy\"}, {\"Country name\": \"Iceland\", \"Regional indicator\": \"Western Europe\", \"Ladder score\": 7.554, \"Logged GDP per capita\": 10.878, \"Social support\": 0.983, \"Healthy life expectancy\": 73.0, \"Freedom to make life choices\": 0.955, \"Generosity\": 0.16, \"Perceptions of corruption\": 0.673, \"Rank\": 4, \"Happiness\": \"Very Happy\"}, {\"Country name\": \"Netherlands\", \"Regional indicator\": \"Western Europe\", \"Ladder score\": 7.464, \"Logged GDP per capita\": 10.932, \"Social support\": 0.942, \"Healthy life expectancy\": 72.4, \"Freedom to make life choices\": 0.913, \"Generosity\": 0.175, \"Perceptions of corruption\": 0.338, \"Rank\": 5, \"Happiness\": \"Very Happy\"}, {\"Country name\": \"Norway\", \"Regional indicator\": \"Western Europe\", \"Ladder score\": 7.392, \"Logged GDP per capita\": 11.053, \"Social support\": 0.954, \"Healthy life expectancy\": 73.3, \"Freedom to make life choices\": 0.96, \"Generosity\": 0.093, \"Perceptions of corruption\": 0.27, \"Rank\": 6, \"Happiness\": \"Very Happy\"}, {\"Country name\": \"Sweden\", \"Regional indicator\": \"Western Europe\", \"Ladder score\": 7.363, \"Logged GDP per capita\": 10.867, \"Social support\": 0.934, \"Healthy life expectancy\": 72.7, \"Freedom to make life choices\": 0.945, \"Generosity\": 0.086, \"Perceptions of corruption\": 0.237, \"Rank\": 7, \"Happiness\": \"Very Happy\"}, {\"Country name\": \"Luxembourg\", \"Regional indicator\": \"Western Europe\", \"Ladder score\": 7.324, \"Logged GDP per capita\": 11.647, \"Social support\": 0.908, \"Healthy life expectancy\": 72.6, \"Freedom to make life choices\": 0.907, \"Generosity\": -0.034, \"Perceptions of corruption\": 0.386, \"Rank\": 8, \"Happiness\": \"Very Happy\"}, {\"Country name\": \"New Zealand\", \"Regional indicator\": \"North America and ANZ\", \"Ladder score\": 7.277, \"Logged GDP per capita\": 10.643, \"Social support\": 0.948, \"Healthy life expectancy\": 73.4, \"Freedom to make life choices\": 0.929, \"Generosity\": 0.134, \"Perceptions of corruption\": 0.242, \"Rank\": 9, \"Happiness\": \"Very Happy\"}, {\"Country name\": \"Austria\", \"Regional indicator\": \"Western Europe\", \"Ladder score\": 7.268, \"Logged GDP per capita\": 10.906, \"Social support\": 0.934, \"Healthy life expectancy\": 73.3, \"Freedom to make life choices\": 0.908, \"Generosity\": 0.042, \"Perceptions of corruption\": 0.481, \"Rank\": 10, \"Happiness\": \"Very Happy\"}, {\"Country name\": \"Australia\", \"Regional indicator\": \"North America and ANZ\", \"Ladder score\": 7.183, \"Logged GDP per capita\": 10.796, \"Social support\": 0.94, \"Healthy life expectancy\": 73.9, \"Freedom to make life choices\": 0.914, \"Generosity\": 0.159, \"Perceptions of corruption\": 0.442, \"Rank\": 11, \"Happiness\": \"Very Happy\"}, {\"Country name\": \"Israel\", \"Regional indicator\": \"Middle East and North Africa\", \"Ladder score\": 7.157, \"Logged GDP per capita\": 10.575, \"Social support\": 0.939, \"Healthy life expectancy\": 73.503, \"Freedom to make life choices\": 0.8, \"Generosity\": 0.031, \"Perceptions of corruption\": 0.753, \"Rank\": 12, \"Happiness\": \"Very Happy\"}, {\"Country name\": \"Germany\", \"Regional indicator\": \"Western Europe\", \"Ladder score\": 7.155, \"Logged GDP per capita\": 10.873, \"Social support\": 0.903, \"Healthy life expectancy\": 72.5, \"Freedom to make life choices\": 0.875, \"Generosity\": 0.011, \"Perceptions of corruption\": 0.46, \"Rank\": 13, \"Happiness\": \"Very Happy\"}, {\"Country name\": \"Canada\", \"Regional indicator\": \"North America and ANZ\", \"Ladder score\": 7.103, \"Logged GDP per capita\": 10.776, \"Social support\": 0.926, \"Healthy life expectancy\": 73.8, \"Freedom to make life choices\": 0.915, \"Generosity\": 0.089, \"Perceptions of corruption\": 0.415, \"Rank\": 14, \"Happiness\": \"Very Happy\"}, {\"Country name\": \"Ireland\", \"Regional indicator\": \"Western Europe\", \"Ladder score\": 7.085, \"Logged GDP per capita\": 11.342, \"Social support\": 0.947, \"Healthy life expectancy\": 72.4, \"Freedom to make life choices\": 0.879, \"Generosity\": 0.077, \"Perceptions of corruption\": 0.363, \"Rank\": 15, \"Happiness\": \"Very Happy\"}, {\"Country name\": \"Costa Rica\", \"Regional indicator\": \"Latin America and Caribbean\", \"Ladder score\": 7.069, \"Logged GDP per capita\": 9.88, \"Social support\": 0.891, \"Healthy life expectancy\": 71.4, \"Freedom to make life choices\": 0.934, \"Generosity\": -0.126, \"Perceptions of corruption\": 0.809, \"Rank\": 16, \"Happiness\": \"Very Happy\"}, {\"Country name\": \"United Kingdom\", \"Regional indicator\": \"Western Europe\", \"Ladder score\": 7.064, \"Logged GDP per capita\": 10.707, \"Social support\": 0.934, \"Healthy life expectancy\": 72.5, \"Freedom to make life choices\": 0.859, \"Generosity\": 0.233, \"Perceptions of corruption\": 0.459, \"Rank\": 17, \"Happiness\": \"Very Happy\"}, {\"Country name\": \"Czech Republic\", \"Regional indicator\": \"Central and Eastern Europe\", \"Ladder score\": 6.965, \"Logged GDP per capita\": 10.556, \"Social support\": 0.947, \"Healthy life expectancy\": 70.807, \"Freedom to make life choices\": 0.858, \"Generosity\": -0.208, \"Perceptions of corruption\": 0.868, \"Rank\": 18, \"Happiness\": \"Very Happy\"}, {\"Country name\": \"United States\", \"Regional indicator\": \"North America and ANZ\", \"Ladder score\": 6.951, \"Logged GDP per capita\": 11.023, \"Social support\": 0.92, \"Healthy life expectancy\": 68.2, \"Freedom to make life choices\": 0.837, \"Generosity\": 0.098, \"Perceptions of corruption\": 0.698, \"Rank\": 19, \"Happiness\": \"Very Happy\"}, {\"Country name\": \"Belgium\", \"Regional indicator\": \"Western Europe\", \"Ladder score\": 6.834, \"Logged GDP per capita\": 10.823, \"Social support\": 0.906, \"Healthy life expectancy\": 72.199, \"Freedom to make life choices\": 0.783, \"Generosity\": -0.153, \"Perceptions of corruption\": 0.646, \"Rank\": 20, \"Happiness\": \"Very Happy\"}, {\"Country name\": \"France\", \"Regional indicator\": \"Western Europe\", \"Ladder score\": 6.69, \"Logged GDP per capita\": 10.704, \"Social support\": 0.942, \"Healthy life expectancy\": 74.0, \"Freedom to make life choices\": 0.822, \"Generosity\": -0.147, \"Perceptions of corruption\": 0.571, \"Rank\": 21, \"Happiness\": \"Very Happy\"}, {\"Country name\": \"Bahrain\", \"Regional indicator\": \"Middle East and North Africa\", \"Ladder score\": 6.647, \"Logged GDP per capita\": 10.669, \"Social support\": 0.862, \"Healthy life expectancy\": 69.495, \"Freedom to make life choices\": 0.925, \"Generosity\": 0.089, \"Perceptions of corruption\": 0.722, \"Rank\": 22, \"Happiness\": \"Very Happy\"}, {\"Country name\": \"Malta\", \"Regional indicator\": \"Western Europe\", \"Ladder score\": 6.602, \"Logged GDP per capita\": 10.674, \"Social support\": 0.931, \"Healthy life expectancy\": 72.2, \"Freedom to make life choices\": 0.927, \"Generosity\": 0.133, \"Perceptions of corruption\": 0.653, \"Rank\": 23, \"Happiness\": \"Very Happy\"}, {\"Country name\": \"Taiwan Province of China\", \"Regional indicator\": \"East Asia\", \"Ladder score\": 6.584, \"Logged GDP per capita\": 10.871, \"Social support\": 0.898, \"Healthy life expectancy\": 69.6, \"Freedom to make life choices\": 0.784, \"Generosity\": -0.07, \"Perceptions of corruption\": 0.721, \"Rank\": 24, \"Happiness\": \"Very Happy\"}, {\"Country name\": \"United Arab Emirates\", \"Regional indicator\": \"Middle East and North Africa\", \"Ladder score\": 6.561, \"Logged GDP per capita\": 11.085, \"Social support\": 0.844, \"Healthy life expectancy\": 67.333, \"Freedom to make life choices\": 0.932, \"Generosity\": 0.074, \"Perceptions of corruption\": 0.589, \"Rank\": 25, \"Happiness\": \"Very Happy\"}, {\"Country name\": \"Saudi Arabia\", \"Regional indicator\": \"Middle East and North Africa\", \"Ladder score\": 6.494, \"Logged GDP per capita\": 10.743, \"Social support\": 0.891, \"Healthy life expectancy\": 66.603, \"Freedom to make life choices\": 0.877, \"Generosity\": -0.149, \"Perceptions of corruption\": 0.684, \"Rank\": 26, \"Happiness\": \"Very Happy\"}, {\"Country name\": \"Spain\", \"Regional indicator\": \"Western Europe\", \"Ladder score\": 6.491, \"Logged GDP per capita\": 10.571, \"Social support\": 0.932, \"Healthy life expectancy\": 74.7, \"Freedom to make life choices\": 0.761, \"Generosity\": -0.081, \"Perceptions of corruption\": 0.745, \"Rank\": 27, \"Happiness\": \"Very Happy\"}, {\"Country name\": \"Italy\", \"Regional indicator\": \"Western Europe\", \"Ladder score\": 6.483, \"Logged GDP per capita\": 10.623, \"Social support\": 0.88, \"Healthy life expectancy\": 73.8, \"Freedom to make life choices\": 0.693, \"Generosity\": -0.084, \"Perceptions of corruption\": 0.866, \"Rank\": 28, \"Happiness\": \"Very Happy\"}, {\"Country name\": \"Slovenia\", \"Regional indicator\": \"Central and Eastern Europe\", \"Ladder score\": 6.461, \"Logged GDP per capita\": 10.529, \"Social support\": 0.948, \"Healthy life expectancy\": 71.4, \"Freedom to make life choices\": 0.949, \"Generosity\": -0.101, \"Perceptions of corruption\": 0.806, \"Rank\": 29, \"Happiness\": \"Very Happy\"}, {\"Country name\": \"Guatemala\", \"Regional indicator\": \"Latin America and Caribbean\", \"Ladder score\": 6.435, \"Logged GDP per capita\": 9.053, \"Social support\": 0.813, \"Healthy life expectancy\": 64.958, \"Freedom to make life choices\": 0.906, \"Generosity\": -0.038, \"Perceptions of corruption\": 0.775, \"Rank\": 30, \"Happiness\": \"Very Happy\"}, {\"Country name\": \"Uruguay\", \"Regional indicator\": \"Latin America and Caribbean\", \"Ladder score\": 6.431, \"Logged GDP per capita\": 9.966, \"Social support\": 0.925, \"Healthy life expectancy\": 69.1, \"Freedom to make life choices\": 0.896, \"Generosity\": -0.092, \"Perceptions of corruption\": 0.59, \"Rank\": 31, \"Happiness\": \"Very Happy\"}, {\"Country name\": \"Singapore\", \"Regional indicator\": \"Southeast Asia\", \"Ladder score\": 6.377, \"Logged GDP per capita\": 11.488, \"Social support\": 0.915, \"Healthy life expectancy\": 76.953, \"Freedom to make life choices\": 0.927, \"Generosity\": -0.018, \"Perceptions of corruption\": 0.082, \"Rank\": 32, \"Happiness\": \"Very Happy\"}, {\"Country name\": \"Kosovo\", \"Regional indicator\": \"Central and Eastern Europe\", \"Ladder score\": 6.372, \"Logged GDP per capita\": 9.318, \"Social support\": 0.821, \"Healthy life expectancy\": 63.813, \"Freedom to make life choices\": 0.869, \"Generosity\": 0.257, \"Perceptions of corruption\": 0.917, \"Rank\": 33, \"Happiness\": \"Very Happy\"}, {\"Country name\": \"Slovakia\", \"Regional indicator\": \"Central and Eastern Europe\", \"Ladder score\": 6.331, \"Logged GDP per capita\": 10.369, \"Social support\": 0.936, \"Healthy life expectancy\": 69.201, \"Freedom to make life choices\": 0.766, \"Generosity\": -0.124, \"Perceptions of corruption\": 0.911, \"Rank\": 34, \"Happiness\": \"Very Happy\"}, {\"Country name\": \"Brazil\", \"Regional indicator\": \"Latin America and Caribbean\", \"Ladder score\": 6.33, \"Logged GDP per capita\": 9.577, \"Social support\": 0.882, \"Healthy life expectancy\": 66.601, \"Freedom to make life choices\": 0.804, \"Generosity\": -0.071, \"Perceptions of corruption\": 0.756, \"Rank\": 35, \"Happiness\": \"Very Happy\"}, {\"Country name\": \"Mexico\", \"Regional indicator\": \"Latin America and Caribbean\", \"Ladder score\": 6.317, \"Logged GDP per capita\": 9.859, \"Social support\": 0.831, \"Healthy life expectancy\": 68.597, \"Freedom to make life choices\": 0.862, \"Generosity\": -0.147, \"Perceptions of corruption\": 0.799, \"Rank\": 36, \"Happiness\": \"Very Happy\"}, {\"Country name\": \"Jamaica\", \"Regional indicator\": \"Latin America and Caribbean\", \"Ladder score\": 6.309, \"Logged GDP per capita\": 9.186, \"Social support\": 0.877, \"Healthy life expectancy\": 67.5, \"Freedom to make life choices\": 0.89, \"Generosity\": -0.137, \"Perceptions of corruption\": 0.884, \"Rank\": 37, \"Happiness\": \"Very Happy\"}, {\"Country name\": \"Lithuania\", \"Regional indicator\": \"Central and Eastern Europe\", \"Ladder score\": 6.255, \"Logged GDP per capita\": 10.499, \"Social support\": 0.935, \"Healthy life expectancy\": 67.906, \"Freedom to make life choices\": 0.773, \"Generosity\": -0.203, \"Perceptions of corruption\": 0.826, \"Rank\": 38, \"Happiness\": \"Very Happy\"}, {\"Country name\": \"Cyprus\", \"Regional indicator\": \"Western Europe\", \"Ladder score\": 6.223, \"Logged GDP per capita\": 10.576, \"Social support\": 0.802, \"Healthy life expectancy\": 73.898, \"Freedom to make life choices\": 0.763, \"Generosity\": -0.015, \"Perceptions of corruption\": 0.844, \"Rank\": 39, \"Happiness\": \"Happy\"}, {\"Country name\": \"Estonia\", \"Regional indicator\": \"Central and Eastern Europe\", \"Ladder score\": 6.189, \"Logged GDP per capita\": 10.481, \"Social support\": 0.941, \"Healthy life expectancy\": 68.8, \"Freedom to make life choices\": 0.909, \"Generosity\": -0.106, \"Perceptions of corruption\": 0.527, \"Rank\": 40, \"Happiness\": \"Happy\"}, {\"Country name\": \"Panama\", \"Regional indicator\": \"Latin America and Caribbean\", \"Ladder score\": 6.18, \"Logged GDP per capita\": 10.35, \"Social support\": 0.896, \"Healthy life expectancy\": 69.652, \"Freedom to make life choices\": 0.872, \"Generosity\": -0.166, \"Perceptions of corruption\": 0.856, \"Rank\": 41, \"Happiness\": \"Happy\"}, {\"Country name\": \"Uzbekistan\", \"Regional indicator\": \"Commonwealth of Independent States\", \"Ladder score\": 6.179, \"Logged GDP per capita\": 8.836, \"Social support\": 0.918, \"Healthy life expectancy\": 65.255, \"Freedom to make life choices\": 0.97, \"Generosity\": 0.311, \"Perceptions of corruption\": 0.515, \"Rank\": 42, \"Happiness\": \"Happy\"}, {\"Country name\": \"Chile\", \"Regional indicator\": \"Latin America and Caribbean\", \"Ladder score\": 6.172, \"Logged GDP per capita\": 10.071, \"Social support\": 0.882, \"Healthy life expectancy\": 70.0, \"Freedom to make life choices\": 0.742, \"Generosity\": -0.044, \"Perceptions of corruption\": 0.83, \"Rank\": 43, \"Happiness\": \"Happy\"}, {\"Country name\": \"Poland\", \"Regional indicator\": \"Central and Eastern Europe\", \"Ladder score\": 6.166, \"Logged GDP per capita\": 10.382, \"Social support\": 0.898, \"Healthy life expectancy\": 69.702, \"Freedom to make life choices\": 0.841, \"Generosity\": -0.165, \"Perceptions of corruption\": 0.735, \"Rank\": 44, \"Happiness\": \"Happy\"}, {\"Country name\": \"Kazakhstan\", \"Regional indicator\": \"Commonwealth of Independent States\", \"Ladder score\": 6.152, \"Logged GDP per capita\": 10.155, \"Social support\": 0.952, \"Healthy life expectancy\": 65.2, \"Freedom to make life choices\": 0.853, \"Generosity\": -0.069, \"Perceptions of corruption\": 0.733, \"Rank\": 45, \"Happiness\": \"Happy\"}, {\"Country name\": \"Romania\", \"Regional indicator\": \"Central and Eastern Europe\", \"Ladder score\": 6.14, \"Logged GDP per capita\": 10.284, \"Social support\": 0.832, \"Healthy life expectancy\": 67.355, \"Freedom to make life choices\": 0.845, \"Generosity\": -0.219, \"Perceptions of corruption\": 0.938, \"Rank\": 46, \"Happiness\": \"Happy\"}, {\"Country name\": \"Kuwait\", \"Regional indicator\": \"Middle East and North Africa\", \"Ladder score\": 6.106, \"Logged GDP per capita\": 10.817, \"Social support\": 0.843, \"Healthy life expectancy\": 66.9, \"Freedom to make life choices\": 0.867, \"Generosity\": -0.104, \"Perceptions of corruption\": 0.736, \"Rank\": 47, \"Happiness\": \"Happy\"}, {\"Country name\": \"Serbia\", \"Regional indicator\": \"Central and Eastern Europe\", \"Ladder score\": 6.078, \"Logged GDP per capita\": 9.787, \"Social support\": 0.873, \"Healthy life expectancy\": 68.6, \"Freedom to make life choices\": 0.778, \"Generosity\": 0.002, \"Perceptions of corruption\": 0.835, \"Rank\": 48, \"Happiness\": \"Happy\"}, {\"Country name\": \"El Salvador\", \"Regional indicator\": \"Latin America and Caribbean\", \"Ladder score\": 6.061, \"Logged GDP per capita\": 9.054, \"Social support\": 0.762, \"Healthy life expectancy\": 66.402, \"Freedom to make life choices\": 0.888, \"Generosity\": -0.11, \"Perceptions of corruption\": 0.688, \"Rank\": 49, \"Happiness\": \"Happy\"}, {\"Country name\": \"Mauritius\", \"Regional indicator\": \"Sub-Saharan Africa\", \"Ladder score\": 6.049, \"Logged GDP per capita\": 10.008, \"Social support\": 0.905, \"Healthy life expectancy\": 66.701, \"Freedom to make life choices\": 0.867, \"Generosity\": -0.054, \"Perceptions of corruption\": 0.789, \"Rank\": 50, \"Happiness\": \"Happy\"}, {\"Country name\": \"Latvia\", \"Regional indicator\": \"Central and Eastern Europe\", \"Ladder score\": 6.032, \"Logged GDP per capita\": 10.315, \"Social support\": 0.927, \"Healthy life expectancy\": 67.1, \"Freedom to make life choices\": 0.715, \"Generosity\": -0.162, \"Perceptions of corruption\": 0.8, \"Rank\": 51, \"Happiness\": \"Happy\"}, {\"Country name\": \"Colombia\", \"Regional indicator\": \"Latin America and Caribbean\", \"Ladder score\": 6.012, \"Logged GDP per capita\": 9.557, \"Social support\": 0.847, \"Healthy life expectancy\": 68.001, \"Freedom to make life choices\": 0.837, \"Generosity\": -0.135, \"Perceptions of corruption\": 0.841, \"Rank\": 52, \"Happiness\": \"Happy\"}, {\"Country name\": \"Hungary\", \"Regional indicator\": \"Central and Eastern Europe\", \"Ladder score\": 5.992, \"Logged GDP per capita\": 10.358, \"Social support\": 0.943, \"Healthy life expectancy\": 68.0, \"Freedom to make life choices\": 0.755, \"Generosity\": -0.186, \"Perceptions of corruption\": 0.876, \"Rank\": 53, \"Happiness\": \"Happy\"}, {\"Country name\": \"Thailand\", \"Regional indicator\": \"Southeast Asia\", \"Ladder score\": 5.985, \"Logged GDP per capita\": 9.805, \"Social support\": 0.888, \"Healthy life expectancy\": 67.401, \"Freedom to make life choices\": 0.884, \"Generosity\": 0.287, \"Perceptions of corruption\": 0.895, \"Rank\": 54, \"Happiness\": \"Happy\"}, {\"Country name\": \"Nicaragua\", \"Regional indicator\": \"Latin America and Caribbean\", \"Ladder score\": 5.972, \"Logged GDP per capita\": 8.62, \"Social support\": 0.864, \"Healthy life expectancy\": 67.657, \"Freedom to make life choices\": 0.836, \"Generosity\": 0.02, \"Perceptions of corruption\": 0.664, \"Rank\": 55, \"Happiness\": \"Happy\"}, {\"Country name\": \"Japan\", \"Regional indicator\": \"East Asia\", \"Ladder score\": 5.94, \"Logged GDP per capita\": 10.611, \"Social support\": 0.884, \"Healthy life expectancy\": 75.1, \"Freedom to make life choices\": 0.796, \"Generosity\": -0.258, \"Perceptions of corruption\": 0.638, \"Rank\": 56, \"Happiness\": \"Happy\"}, {\"Country name\": \"Argentina\", \"Regional indicator\": \"Latin America and Caribbean\", \"Ladder score\": 5.929, \"Logged GDP per capita\": 9.962, \"Social support\": 0.898, \"Healthy life expectancy\": 69.0, \"Freedom to make life choices\": 0.828, \"Generosity\": -0.182, \"Perceptions of corruption\": 0.834, \"Rank\": 57, \"Happiness\": \"Happy\"}, {\"Country name\": \"Portugal\", \"Regional indicator\": \"Western Europe\", \"Ladder score\": 5.929, \"Logged GDP per capita\": 10.421, \"Social support\": 0.879, \"Healthy life expectancy\": 72.6, \"Freedom to make life choices\": 0.892, \"Generosity\": -0.244, \"Perceptions of corruption\": 0.887, \"Rank\": 58, \"Happiness\": \"Happy\"}, {\"Country name\": \"Honduras\", \"Regional indicator\": \"Latin America and Caribbean\", \"Ladder score\": 5.919, \"Logged GDP per capita\": 8.648, \"Social support\": 0.812, \"Healthy life expectancy\": 67.3, \"Freedom to make life choices\": 0.857, \"Generosity\": 0.081, \"Perceptions of corruption\": 0.809, \"Rank\": 59, \"Happiness\": \"Happy\"}, {\"Country name\": \"Croatia\", \"Regional indicator\": \"Central and Eastern Europe\", \"Ladder score\": 5.882, \"Logged GDP per capita\": 10.217, \"Social support\": 0.924, \"Healthy life expectancy\": 70.799, \"Freedom to make life choices\": 0.754, \"Generosity\": -0.118, \"Perceptions of corruption\": 0.939, \"Rank\": 60, \"Happiness\": \"Happy\"}, {\"Country name\": \"Philippines\", \"Regional indicator\": \"Southeast Asia\", \"Ladder score\": 5.88, \"Logged GDP per capita\": 9.076, \"Social support\": 0.83, \"Healthy life expectancy\": 62.0, \"Freedom to make life choices\": 0.917, \"Generosity\": -0.097, \"Perceptions of corruption\": 0.742, \"Rank\": 61, \"Happiness\": \"Happy\"}, {\"Country name\": \"South Korea\", \"Regional indicator\": \"East Asia\", \"Ladder score\": 5.845, \"Logged GDP per capita\": 10.651, \"Social support\": 0.799, \"Healthy life expectancy\": 73.9, \"Freedom to make life choices\": 0.672, \"Generosity\": -0.083, \"Perceptions of corruption\": 0.727, \"Rank\": 62, \"Happiness\": \"Happy\"}, {\"Country name\": \"Peru\", \"Regional indicator\": \"Latin America and Caribbean\", \"Ladder score\": 5.84, \"Logged GDP per capita\": 9.458, \"Social support\": 0.832, \"Healthy life expectancy\": 68.25, \"Freedom to make life choices\": 0.822, \"Generosity\": -0.154, \"Perceptions of corruption\": 0.891, \"Rank\": 63, \"Happiness\": \"Happy\"}, {\"Country name\": \"Bosnia and Herzegovina\", \"Regional indicator\": \"Central and Eastern Europe\", \"Ladder score\": 5.813, \"Logged GDP per capita\": 9.59, \"Social support\": 0.87, \"Healthy life expectancy\": 68.098, \"Freedom to make life choices\": 0.706, \"Generosity\": 0.113, \"Perceptions of corruption\": 0.931, \"Rank\": 64, \"Happiness\": \"Happy\"}, {\"Country name\": \"Moldova\", \"Regional indicator\": \"Commonwealth of Independent States\", \"Ladder score\": 5.766, \"Logged GDP per capita\": 9.454, \"Social support\": 0.857, \"Healthy life expectancy\": 65.699, \"Freedom to make life choices\": 0.822, \"Generosity\": -0.079, \"Perceptions of corruption\": 0.918, \"Rank\": 65, \"Happiness\": \"Happy\"}, {\"Country name\": \"Ecuador\", \"Regional indicator\": \"Latin America and Caribbean\", \"Ladder score\": 5.764, \"Logged GDP per capita\": 9.313, \"Social support\": 0.821, \"Healthy life expectancy\": 68.8, \"Freedom to make life choices\": 0.842, \"Generosity\": -0.124, \"Perceptions of corruption\": 0.843, \"Rank\": 66, \"Happiness\": \"Happy\"}, {\"Country name\": \"Kyrgyzstan\", \"Regional indicator\": \"Commonwealth of Independent States\", \"Ladder score\": 5.744, \"Logged GDP per capita\": 8.538, \"Social support\": 0.893, \"Healthy life expectancy\": 64.401, \"Freedom to make life choices\": 0.935, \"Generosity\": 0.119, \"Perceptions of corruption\": 0.908, \"Rank\": 67, \"Happiness\": \"Happy\"}, {\"Country name\": \"Greece\", \"Regional indicator\": \"Western Europe\", \"Ladder score\": 5.723, \"Logged GDP per capita\": 10.279, \"Social support\": 0.823, \"Healthy life expectancy\": 72.6, \"Freedom to make life choices\": 0.582, \"Generosity\": -0.288, \"Perceptions of corruption\": 0.823, \"Rank\": 68, \"Happiness\": \"Happy\"}, {\"Country name\": \"Bolivia\", \"Regional indicator\": \"Latin America and Caribbean\", \"Ladder score\": 5.716, \"Logged GDP per capita\": 9.046, \"Social support\": 0.81, \"Healthy life expectancy\": 63.901, \"Freedom to make life choices\": 0.875, \"Generosity\": -0.077, \"Perceptions of corruption\": 0.839, \"Rank\": 69, \"Happiness\": \"Happy\"}, {\"Country name\": \"Mongolia\", \"Regional indicator\": \"East Asia\", \"Ladder score\": 5.677, \"Logged GDP per capita\": 9.4, \"Social support\": 0.935, \"Healthy life expectancy\": 62.5, \"Freedom to make life choices\": 0.708, \"Generosity\": 0.116, \"Perceptions of corruption\": 0.856, \"Rank\": 70, \"Happiness\": \"Happy\"}, {\"Country name\": \"Paraguay\", \"Regional indicator\": \"Latin America and Caribbean\", \"Ladder score\": 5.653, \"Logged GDP per capita\": 9.448, \"Social support\": 0.893, \"Healthy life expectancy\": 65.9, \"Freedom to make life choices\": 0.876, \"Generosity\": 0.028, \"Perceptions of corruption\": 0.882, \"Rank\": 71, \"Happiness\": \"Happy\"}, {\"Country name\": \"Montenegro\", \"Regional indicator\": \"Central and Eastern Europe\", \"Ladder score\": 5.581, \"Logged GDP per capita\": 9.94, \"Social support\": 0.858, \"Healthy life expectancy\": 68.699, \"Freedom to make life choices\": 0.708, \"Generosity\": -0.034, \"Perceptions of corruption\": 0.812, \"Rank\": 72, \"Happiness\": \"Happy\"}, {\"Country name\": \"Dominican Republic\", \"Regional indicator\": \"Latin America and Caribbean\", \"Ladder score\": 5.545, \"Logged GDP per capita\": 9.802, \"Social support\": 0.853, \"Healthy life expectancy\": 66.102, \"Freedom to make life choices\": 0.86, \"Generosity\": -0.133, \"Perceptions of corruption\": 0.714, \"Rank\": 73, \"Happiness\": \"Happy\"}, {\"Country name\": \"North Cyprus\", \"Regional indicator\": \"Western Europe\", \"Ladder score\": 5.536, \"Logged GDP per capita\": 10.576, \"Social support\": 0.82, \"Healthy life expectancy\": 73.898, \"Freedom to make life choices\": 0.795, \"Generosity\": 0.012, \"Perceptions of corruption\": 0.626, \"Rank\": 74, \"Happiness\": \"Happy\"}, {\"Country name\": \"Belarus\", \"Regional indicator\": \"Commonwealth of Independent States\", \"Ladder score\": 5.534, \"Logged GDP per capita\": 9.853, \"Social support\": 0.91, \"Healthy life expectancy\": 66.253, \"Freedom to make life choices\": 0.65, \"Generosity\": -0.18, \"Perceptions of corruption\": 0.627, \"Rank\": 75, \"Happiness\": \"Less Happy\"}, {\"Country name\": \"Russia\", \"Regional indicator\": \"Commonwealth of Independent States\", \"Ladder score\": 5.477, \"Logged GDP per capita\": 10.189, \"Social support\": 0.903, \"Healthy life expectancy\": 64.703, \"Freedom to make life choices\": 0.718, \"Generosity\": -0.111, \"Perceptions of corruption\": 0.845, \"Rank\": 76, \"Happiness\": \"Less Happy\"}, {\"Country name\": \"Hong Kong S.A.R. of China\", \"Regional indicator\": \"East Asia\", \"Ladder score\": 5.477, \"Logged GDP per capita\": 11.0, \"Social support\": 0.836, \"Healthy life expectancy\": 76.82, \"Freedom to make life choices\": 0.717, \"Generosity\": 0.067, \"Perceptions of corruption\": 0.403, \"Rank\": 77, \"Happiness\": \"Less Happy\"}, {\"Country name\": \"Tajikistan\", \"Regional indicator\": \"Commonwealth of Independent States\", \"Ladder score\": 5.466, \"Logged GDP per capita\": 8.091, \"Social support\": 0.86, \"Healthy life expectancy\": 64.281, \"Freedom to make life choices\": 0.832, \"Generosity\": -0.056, \"Perceptions of corruption\": 0.553, \"Rank\": 78, \"Happiness\": \"Less Happy\"}, {\"Country name\": \"Vietnam\", \"Regional indicator\": \"Southeast Asia\", \"Ladder score\": 5.411, \"Logged GDP per capita\": 8.973, \"Social support\": 0.85, \"Healthy life expectancy\": 68.034, \"Freedom to make life choices\": 0.94, \"Generosity\": -0.098, \"Perceptions of corruption\": 0.796, \"Rank\": 79, \"Happiness\": \"Less Happy\"}, {\"Country name\": \"Libya\", \"Regional indicator\": \"Middle East and North Africa\", \"Ladder score\": 5.41, \"Logged GDP per capita\": 9.622, \"Social support\": 0.827, \"Healthy life expectancy\": 62.3, \"Freedom to make life choices\": 0.771, \"Generosity\": -0.087, \"Perceptions of corruption\": 0.667, \"Rank\": 80, \"Happiness\": \"Less Happy\"}, {\"Country name\": \"Malaysia\", \"Regional indicator\": \"Southeast Asia\", \"Ladder score\": 5.384, \"Logged GDP per capita\": 10.238, \"Social support\": 0.817, \"Healthy life expectancy\": 67.102, \"Freedom to make life choices\": 0.895, \"Generosity\": 0.125, \"Perceptions of corruption\": 0.839, \"Rank\": 81, \"Happiness\": \"Less Happy\"}, {\"Country name\": \"Indonesia\", \"Regional indicator\": \"Southeast Asia\", \"Ladder score\": 5.345, \"Logged GDP per capita\": 9.365, \"Social support\": 0.811, \"Healthy life expectancy\": 62.236, \"Freedom to make life choices\": 0.873, \"Generosity\": 0.542, \"Perceptions of corruption\": 0.867, \"Rank\": 82, \"Happiness\": \"Less Happy\"}, {\"Country name\": \"Congo (Brazzaville)\", \"Regional indicator\": \"Sub-Saharan Africa\", \"Ladder score\": 5.342, \"Logged GDP per capita\": 8.117, \"Social support\": 0.636, \"Healthy life expectancy\": 58.221, \"Freedom to make life choices\": 0.695, \"Generosity\": -0.068, \"Perceptions of corruption\": 0.745, \"Rank\": 83, \"Happiness\": \"Less Happy\"}, {\"Country name\": \"China\", \"Regional indicator\": \"East Asia\", \"Ladder score\": 5.339, \"Logged GDP per capita\": 9.673, \"Social support\": 0.811, \"Healthy life expectancy\": 69.593, \"Freedom to make life choices\": 0.904, \"Generosity\": -0.146, \"Perceptions of corruption\": 0.755, \"Rank\": 84, \"Happiness\": \"Less Happy\"}, {\"Country name\": \"Ivory Coast\", \"Regional indicator\": \"Sub-Saharan Africa\", \"Ladder score\": 5.306, \"Logged GDP per capita\": 8.551, \"Social support\": 0.644, \"Healthy life expectancy\": 50.114, \"Freedom to make life choices\": 0.741, \"Generosity\": -0.016, \"Perceptions of corruption\": 0.794, \"Rank\": 85, \"Happiness\": \"Less Happy\"}, {\"Country name\": \"Armenia\", \"Regional indicator\": \"Commonwealth of Independent States\", \"Ladder score\": 5.283, \"Logged GDP per capita\": 9.487, \"Social support\": 0.799, \"Healthy life expectancy\": 67.055, \"Freedom to make life choices\": 0.825, \"Generosity\": -0.168, \"Perceptions of corruption\": 0.629, \"Rank\": 86, \"Happiness\": \"Less Happy\"}, {\"Country name\": \"Nepal\", \"Regional indicator\": \"South Asia\", \"Ladder score\": 5.269, \"Logged GDP per capita\": 8.12, \"Social support\": 0.774, \"Healthy life expectancy\": 64.233, \"Freedom to make life choices\": 0.782, \"Generosity\": 0.152, \"Perceptions of corruption\": 0.727, \"Rank\": 87, \"Happiness\": \"Less Happy\"}, {\"Country name\": \"Bulgaria\", \"Regional indicator\": \"Central and Eastern Europe\", \"Ladder score\": 5.266, \"Logged GDP per capita\": 10.016, \"Social support\": 0.931, \"Healthy life expectancy\": 67.0, \"Freedom to make life choices\": 0.788, \"Generosity\": -0.096, \"Perceptions of corruption\": 0.932, \"Rank\": 88, \"Happiness\": \"Less Happy\"}, {\"Country name\": \"Maldives\", \"Regional indicator\": \"South Asia\", \"Ladder score\": 5.198, \"Logged GDP per capita\": 9.826, \"Social support\": 0.913, \"Healthy life expectancy\": 70.6, \"Freedom to make life choices\": 0.854, \"Generosity\": 0.024, \"Perceptions of corruption\": 0.825, \"Rank\": 89, \"Happiness\": \"Less Happy\"}, {\"Country name\": \"Azerbaijan\", \"Regional indicator\": \"Commonwealth of Independent States\", \"Ladder score\": 5.171, \"Logged GDP per capita\": 9.569, \"Social support\": 0.836, \"Healthy life expectancy\": 65.656, \"Freedom to make life choices\": 0.814, \"Generosity\": -0.223, \"Perceptions of corruption\": 0.506, \"Rank\": 90, \"Happiness\": \"Less Happy\"}, {\"Country name\": \"Cameroon\", \"Regional indicator\": \"Sub-Saharan Africa\", \"Ladder score\": 5.142, \"Logged GDP per capita\": 8.189, \"Social support\": 0.71, \"Healthy life expectancy\": 53.515, \"Freedom to make life choices\": 0.731, \"Generosity\": 0.026, \"Perceptions of corruption\": 0.848, \"Rank\": 91, \"Happiness\": \"Less Happy\"}, {\"Country name\": \"Senegal\", \"Regional indicator\": \"Sub-Saharan Africa\", \"Ladder score\": 5.132, \"Logged GDP per capita\": 8.118, \"Social support\": 0.71, \"Healthy life expectancy\": 59.802, \"Freedom to make life choices\": 0.695, \"Generosity\": -0.046, \"Perceptions of corruption\": 0.801, \"Rank\": 92, \"Happiness\": \"Less Happy\"}, {\"Country name\": \"Albania\", \"Regional indicator\": \"Central and Eastern Europe\", \"Ladder score\": 5.117, \"Logged GDP per capita\": 9.52, \"Social support\": 0.697, \"Healthy life expectancy\": 68.999, \"Freedom to make life choices\": 0.785, \"Generosity\": -0.03, \"Perceptions of corruption\": 0.901, \"Rank\": 93, \"Happiness\": \"Less Happy\"}, {\"Country name\": \"North Macedonia\", \"Regional indicator\": \"Central and Eastern Europe\", \"Ladder score\": 5.101, \"Logged GDP per capita\": 9.693, \"Social support\": 0.805, \"Healthy life expectancy\": 65.474, \"Freedom to make life choices\": 0.751, \"Generosity\": 0.038, \"Perceptions of corruption\": 0.905, \"Rank\": 94, \"Happiness\": \"Less Happy\"}, {\"Country name\": \"Ghana\", \"Regional indicator\": \"Sub-Saharan Africa\", \"Ladder score\": 5.088, \"Logged GDP per capita\": 8.58, \"Social support\": 0.727, \"Healthy life expectancy\": 57.586, \"Freedom to make life choices\": 0.807, \"Generosity\": 0.123, \"Perceptions of corruption\": 0.848, \"Rank\": 95, \"Happiness\": \"Less Happy\"}, {\"Country name\": \"Niger\", \"Regional indicator\": \"Sub-Saharan Africa\", \"Ladder score\": 5.074, \"Logged GDP per capita\": 7.098, \"Social support\": 0.641, \"Healthy life expectancy\": 53.78, \"Freedom to make life choices\": 0.806, \"Generosity\": 0.018, \"Perceptions of corruption\": 0.693, \"Rank\": 96, \"Happiness\": \"Less Happy\"}, {\"Country name\": \"Turkmenistan\", \"Regional indicator\": \"Commonwealth of Independent States\", \"Ladder score\": 5.066, \"Logged GDP per capita\": 9.629, \"Social support\": 0.983, \"Healthy life expectancy\": 62.409, \"Freedom to make life choices\": 0.877, \"Generosity\": 0.273, \"Perceptions of corruption\": 0.888, \"Rank\": 97, \"Happiness\": \"Less Happy\"}, {\"Country name\": \"Gambia\", \"Regional indicator\": \"Sub-Saharan Africa\", \"Ladder score\": 5.051, \"Logged GDP per capita\": 7.686, \"Social support\": 0.69, \"Healthy life expectancy\": 55.16, \"Freedom to make life choices\": 0.697, \"Generosity\": 0.424, \"Perceptions of corruption\": 0.746, \"Rank\": 98, \"Happiness\": \"Less Happy\"}, {\"Country name\": \"Benin\", \"Regional indicator\": \"Sub-Saharan Africa\", \"Ladder score\": 5.045, \"Logged GDP per capita\": 8.087, \"Social support\": 0.489, \"Healthy life expectancy\": 54.713, \"Freedom to make life choices\": 0.757, \"Generosity\": -0.034, \"Perceptions of corruption\": 0.661, \"Rank\": 99, \"Happiness\": \"Less Happy\"}, {\"Country name\": \"Laos\", \"Regional indicator\": \"Southeast Asia\", \"Ladder score\": 5.03, \"Logged GDP per capita\": 8.947, \"Social support\": 0.728, \"Healthy life expectancy\": 58.968, \"Freedom to make life choices\": 0.91, \"Generosity\": 0.123, \"Perceptions of corruption\": 0.658, \"Rank\": 100, \"Happiness\": \"Less Happy\"}, {\"Country name\": \"Bangladesh\", \"Regional indicator\": \"South Asia\", \"Ladder score\": 5.025, \"Logged GDP per capita\": 8.454, \"Social support\": 0.693, \"Healthy life expectancy\": 64.8, \"Freedom to make life choices\": 0.877, \"Generosity\": -0.041, \"Perceptions of corruption\": 0.682, \"Rank\": 101, \"Happiness\": \"Less Happy\"}, {\"Country name\": \"Guinea\", \"Regional indicator\": \"Sub-Saharan Africa\", \"Ladder score\": 4.984, \"Logged GDP per capita\": 7.838, \"Social support\": 0.639, \"Healthy life expectancy\": 55.008, \"Freedom to make life choices\": 0.697, \"Generosity\": 0.095, \"Perceptions of corruption\": 0.766, \"Rank\": 102, \"Happiness\": \"Less Happy\"}, {\"Country name\": \"South Africa\", \"Regional indicator\": \"Sub-Saharan Africa\", \"Ladder score\": 4.956, \"Logged GDP per capita\": 9.403, \"Social support\": 0.86, \"Healthy life expectancy\": 56.904, \"Freedom to make life choices\": 0.749, \"Generosity\": -0.067, \"Perceptions of corruption\": 0.86, \"Rank\": 103, \"Happiness\": \"Less Happy\"}, {\"Country name\": \"Turkey\", \"Regional indicator\": \"Middle East and North Africa\", \"Ladder score\": 4.948, \"Logged GDP per capita\": 10.24, \"Social support\": 0.822, \"Healthy life expectancy\": 67.199, \"Freedom to make life choices\": 0.576, \"Generosity\": -0.139, \"Perceptions of corruption\": 0.776, \"Rank\": 104, \"Happiness\": \"Less Happy\"}, {\"Country name\": \"Pakistan\", \"Regional indicator\": \"South Asia\", \"Ladder score\": 4.934, \"Logged GDP per capita\": 8.458, \"Social support\": 0.651, \"Healthy life expectancy\": 58.709, \"Freedom to make life choices\": 0.726, \"Generosity\": 0.098, \"Perceptions of corruption\": 0.787, \"Rank\": 105, \"Happiness\": \"Less Happy\"}, {\"Country name\": \"Morocco\", \"Regional indicator\": \"Middle East and North Africa\", \"Ladder score\": 4.918, \"Logged GDP per capita\": 8.903, \"Social support\": 0.56, \"Healthy life expectancy\": 66.208, \"Freedom to make life choices\": 0.774, \"Generosity\": -0.236, \"Perceptions of corruption\": 0.801, \"Rank\": 106, \"Happiness\": \"Less Happy\"}, {\"Country name\": \"Venezuela\", \"Regional indicator\": \"Latin America and Caribbean\", \"Ladder score\": 4.892, \"Logged GDP per capita\": 9.073, \"Social support\": 0.861, \"Healthy life expectancy\": 66.7, \"Freedom to make life choices\": 0.615, \"Generosity\": -0.169, \"Perceptions of corruption\": 0.827, \"Rank\": 107, \"Happiness\": \"Less Happy\"}, {\"Country name\": \"Georgia\", \"Regional indicator\": \"Commonwealth of Independent States\", \"Ladder score\": 4.891, \"Logged GDP per capita\": 9.585, \"Social support\": 0.671, \"Healthy life expectancy\": 64.3, \"Freedom to make life choices\": 0.783, \"Generosity\": -0.238, \"Perceptions of corruption\": 0.655, \"Rank\": 108, \"Happiness\": \"Less Happy\"}, {\"Country name\": \"Algeria\", \"Regional indicator\": \"Middle East and North Africa\", \"Ladder score\": 4.887, \"Logged GDP per capita\": 9.342, \"Social support\": 0.802, \"Healthy life expectancy\": 66.005, \"Freedom to make life choices\": 0.48, \"Generosity\": -0.067, \"Perceptions of corruption\": 0.752, \"Rank\": 109, \"Happiness\": \"Less Happy\"}, {\"Country name\": \"Ukraine\", \"Regional indicator\": \"Commonwealth of Independent States\", \"Ladder score\": 4.875, \"Logged GDP per capita\": 9.436, \"Social support\": 0.888, \"Healthy life expectancy\": 64.902, \"Freedom to make life choices\": 0.724, \"Generosity\": -0.011, \"Perceptions of corruption\": 0.924, \"Rank\": 110, \"Happiness\": \"Less Happy\"}, {\"Country name\": \"Iraq\", \"Regional indicator\": \"Middle East and North Africa\", \"Ladder score\": 4.854, \"Logged GDP per capita\": 9.24, \"Social support\": 0.746, \"Healthy life expectancy\": 60.583, \"Freedom to make life choices\": 0.63, \"Generosity\": -0.053, \"Perceptions of corruption\": 0.875, \"Rank\": 111, \"Happiness\": \"Less Happy\"}, {\"Country name\": \"Gabon\", \"Regional indicator\": \"Sub-Saharan Africa\", \"Ladder score\": 4.852, \"Logged GDP per capita\": 9.603, \"Social support\": 0.776, \"Healthy life expectancy\": 59.962, \"Freedom to make life choices\": 0.731, \"Generosity\": -0.2, \"Perceptions of corruption\": 0.84, \"Rank\": 112, \"Happiness\": \"Not Happy\"}, {\"Country name\": \"Burkina Faso\", \"Regional indicator\": \"Sub-Saharan Africa\", \"Ladder score\": 4.834, \"Logged GDP per capita\": 7.678, \"Social support\": 0.672, \"Healthy life expectancy\": 54.151, \"Freedom to make life choices\": 0.695, \"Generosity\": -0.009, \"Perceptions of corruption\": 0.748, \"Rank\": 113, \"Happiness\": \"Not Happy\"}, {\"Country name\": \"Cambodia\", \"Regional indicator\": \"Southeast Asia\", \"Ladder score\": 4.83, \"Logged GDP per capita\": 8.36, \"Social support\": 0.765, \"Healthy life expectancy\": 62.0, \"Freedom to make life choices\": 0.959, \"Generosity\": 0.034, \"Perceptions of corruption\": 0.843, \"Rank\": 114, \"Happiness\": \"Not Happy\"}, {\"Country name\": \"Mozambique\", \"Regional indicator\": \"Sub-Saharan Africa\", \"Ladder score\": 4.794, \"Logged GDP per capita\": 7.158, \"Social support\": 0.744, \"Healthy life expectancy\": 54.706, \"Freedom to make life choices\": 0.882, \"Generosity\": 0.061, \"Perceptions of corruption\": 0.684, \"Rank\": 115, \"Happiness\": \"Not Happy\"}, {\"Country name\": \"Nigeria\", \"Regional indicator\": \"Sub-Saharan Africa\", \"Ladder score\": 4.759, \"Logged GDP per capita\": 8.533, \"Social support\": 0.74, \"Healthy life expectancy\": 50.102, \"Freedom to make life choices\": 0.737, \"Generosity\": 0.037, \"Perceptions of corruption\": 0.878, \"Rank\": 116, \"Happiness\": \"Not Happy\"}, {\"Country name\": \"Mali\", \"Regional indicator\": \"Sub-Saharan Africa\", \"Ladder score\": 4.723, \"Logged GDP per capita\": 7.744, \"Social support\": 0.724, \"Healthy life expectancy\": 51.969, \"Freedom to make life choices\": 0.697, \"Generosity\": -0.036, \"Perceptions of corruption\": 0.827, \"Rank\": 117, \"Happiness\": \"Not Happy\"}, {\"Country name\": \"Iran\", \"Regional indicator\": \"Middle East and North Africa\", \"Ladder score\": 4.721, \"Logged GDP per capita\": 9.584, \"Social support\": 0.71, \"Healthy life expectancy\": 66.3, \"Freedom to make life choices\": 0.608, \"Generosity\": 0.218, \"Perceptions of corruption\": 0.714, \"Rank\": 118, \"Happiness\": \"Not Happy\"}, {\"Country name\": \"Uganda\", \"Regional indicator\": \"Sub-Saharan Africa\", \"Ladder score\": 4.636, \"Logged GDP per capita\": 7.677, \"Social support\": 0.781, \"Healthy life expectancy\": 56.101, \"Freedom to make life choices\": 0.709, \"Generosity\": 0.122, \"Perceptions of corruption\": 0.855, \"Rank\": 119, \"Happiness\": \"Not Happy\"}, {\"Country name\": \"Liberia\", \"Regional indicator\": \"Sub-Saharan Africa\", \"Ladder score\": 4.625, \"Logged GDP per capita\": 7.288, \"Social support\": 0.72, \"Healthy life expectancy\": 56.498, \"Freedom to make life choices\": 0.735, \"Generosity\": 0.05, \"Perceptions of corruption\": 0.85, \"Rank\": 120, \"Happiness\": \"Not Happy\"}, {\"Country name\": \"Kenya\", \"Regional indicator\": \"Sub-Saharan Africa\", \"Ladder score\": 4.607, \"Logged GDP per capita\": 8.361, \"Social support\": 0.688, \"Healthy life expectancy\": 60.704, \"Freedom to make life choices\": 0.779, \"Generosity\": 0.287, \"Perceptions of corruption\": 0.825, \"Rank\": 121, \"Happiness\": \"Not Happy\"}, {\"Country name\": \"Tunisia\", \"Regional indicator\": \"Middle East and North Africa\", \"Ladder score\": 4.596, \"Logged GDP per capita\": 9.266, \"Social support\": 0.691, \"Healthy life expectancy\": 67.201, \"Freedom to make life choices\": 0.656, \"Generosity\": -0.201, \"Perceptions of corruption\": 0.87, \"Rank\": 122, \"Happiness\": \"Not Happy\"}, {\"Country name\": \"Lebanon\", \"Regional indicator\": \"Middle East and North Africa\", \"Ladder score\": 4.584, \"Logged GDP per capita\": 9.626, \"Social support\": 0.848, \"Healthy life expectancy\": 67.355, \"Freedom to make life choices\": 0.525, \"Generosity\": -0.073, \"Perceptions of corruption\": 0.898, \"Rank\": 123, \"Happiness\": \"Not Happy\"}, {\"Country name\": \"Namibia\", \"Regional indicator\": \"Sub-Saharan Africa\", \"Ladder score\": 4.574, \"Logged GDP per capita\": 9.161, \"Social support\": 0.818, \"Healthy life expectancy\": 56.799, \"Freedom to make life choices\": 0.719, \"Generosity\": -0.149, \"Perceptions of corruption\": 0.847, \"Rank\": 124, \"Happiness\": \"Not Happy\"}, {\"Country name\": \"Palestinian Territories\", \"Regional indicator\": \"Middle East and North Africa\", \"Ladder score\": 4.517, \"Logged GDP per capita\": 8.485, \"Social support\": 0.826, \"Healthy life expectancy\": 62.25, \"Freedom to make life choices\": 0.653, \"Generosity\": -0.163, \"Perceptions of corruption\": 0.821, \"Rank\": 125, \"Happiness\": \"Not Happy\"}, {\"Country name\": \"Myanmar\", \"Regional indicator\": \"Southeast Asia\", \"Ladder score\": 4.426, \"Logged GDP per capita\": 8.541, \"Social support\": 0.779, \"Healthy life expectancy\": 59.302, \"Freedom to make life choices\": 0.876, \"Generosity\": 0.509, \"Perceptions of corruption\": 0.66, \"Rank\": 126, \"Happiness\": \"Not Happy\"}, {\"Country name\": \"Jordan\", \"Regional indicator\": \"Middle East and North Africa\", \"Ladder score\": 4.395, \"Logged GDP per capita\": 9.182, \"Social support\": 0.767, \"Healthy life expectancy\": 67.0, \"Freedom to make life choices\": 0.755, \"Generosity\": -0.167, \"Perceptions of corruption\": 0.705, \"Rank\": 127, \"Happiness\": \"Not Happy\"}, {\"Country name\": \"Chad\", \"Regional indicator\": \"Sub-Saharan Africa\", \"Ladder score\": 4.355, \"Logged GDP per capita\": 7.364, \"Social support\": 0.619, \"Healthy life expectancy\": 48.478, \"Freedom to make life choices\": 0.579, \"Generosity\": 0.041, \"Perceptions of corruption\": 0.807, \"Rank\": 128, \"Happiness\": \"Not Happy\"}, {\"Country name\": \"Sri Lanka\", \"Regional indicator\": \"South Asia\", \"Ladder score\": 4.325, \"Logged GDP per capita\": 9.47, \"Social support\": 0.827, \"Healthy life expectancy\": 67.299, \"Freedom to make life choices\": 0.841, \"Generosity\": 0.079, \"Perceptions of corruption\": 0.863, \"Rank\": 129, \"Happiness\": \"Not Happy\"}, {\"Country name\": \"Swaziland\", \"Regional indicator\": \"Sub-Saharan Africa\", \"Ladder score\": 4.308, \"Logged GDP per capita\": 9.065, \"Social support\": 0.77, \"Healthy life expectancy\": 50.833, \"Freedom to make life choices\": 0.647, \"Generosity\": -0.185, \"Perceptions of corruption\": 0.708, \"Rank\": 130, \"Happiness\": \"Not Happy\"}, {\"Country name\": \"Comoros\", \"Regional indicator\": \"Sub-Saharan Africa\", \"Ladder score\": 4.289, \"Logged GDP per capita\": 8.031, \"Social support\": 0.626, \"Healthy life expectancy\": 57.349, \"Freedom to make life choices\": 0.548, \"Generosity\": 0.082, \"Perceptions of corruption\": 0.781, \"Rank\": 131, \"Happiness\": \"Not Happy\"}, {\"Country name\": \"Egypt\", \"Regional indicator\": \"Middle East and North Africa\", \"Ladder score\": 4.283, \"Logged GDP per capita\": 9.367, \"Social support\": 0.75, \"Healthy life expectancy\": 61.998, \"Freedom to make life choices\": 0.749, \"Generosity\": -0.182, \"Perceptions of corruption\": 0.795, \"Rank\": 132, \"Happiness\": \"Not Happy\"}, {\"Country name\": \"Ethiopia\", \"Regional indicator\": \"Sub-Saharan Africa\", \"Ladder score\": 4.275, \"Logged GDP per capita\": 7.694, \"Social support\": 0.764, \"Healthy life expectancy\": 59.0, \"Freedom to make life choices\": 0.752, \"Generosity\": 0.082, \"Perceptions of corruption\": 0.761, \"Rank\": 133, \"Happiness\": \"Not Happy\"}, {\"Country name\": \"Mauritania\", \"Regional indicator\": \"Sub-Saharan Africa\", \"Ladder score\": 4.227, \"Logged GDP per capita\": 8.542, \"Social support\": 0.795, \"Healthy life expectancy\": 57.161, \"Freedom to make life choices\": 0.561, \"Generosity\": -0.106, \"Perceptions of corruption\": 0.731, \"Rank\": 134, \"Happiness\": \"Not Happy\"}, {\"Country name\": \"Madagascar\", \"Regional indicator\": \"Sub-Saharan Africa\", \"Ladder score\": 4.208, \"Logged GDP per capita\": 7.396, \"Social support\": 0.686, \"Healthy life expectancy\": 59.305, \"Freedom to make life choices\": 0.552, \"Generosity\": -0.005, \"Perceptions of corruption\": 0.803, \"Rank\": 135, \"Happiness\": \"Not Happy\"}, {\"Country name\": \"Togo\", \"Regional indicator\": \"Sub-Saharan Africa\", \"Ladder score\": 4.107, \"Logged GDP per capita\": 7.362, \"Social support\": 0.569, \"Healthy life expectancy\": 54.914, \"Freedom to make life choices\": 0.619, \"Generosity\": 0.032, \"Perceptions of corruption\": 0.772, \"Rank\": 136, \"Happiness\": \"Not Happy\"}, {\"Country name\": \"Zambia\", \"Regional indicator\": \"Sub-Saharan Africa\", \"Ladder score\": 4.073, \"Logged GDP per capita\": 8.145, \"Social support\": 0.708, \"Healthy life expectancy\": 55.809, \"Freedom to make life choices\": 0.782, \"Generosity\": 0.061, \"Perceptions of corruption\": 0.823, \"Rank\": 137, \"Happiness\": \"Not Happy\"}, {\"Country name\": \"Sierra Leone\", \"Regional indicator\": \"Sub-Saharan Africa\", \"Ladder score\": 3.849, \"Logged GDP per capita\": 7.434, \"Social support\": 0.63, \"Healthy life expectancy\": 51.651, \"Freedom to make life choices\": 0.717, \"Generosity\": 0.084, \"Perceptions of corruption\": 0.866, \"Rank\": 138, \"Happiness\": \"Not Happy\"}, {\"Country name\": \"India\", \"Regional indicator\": \"South Asia\", \"Ladder score\": 3.819, \"Logged GDP per capita\": 8.755, \"Social support\": 0.603, \"Healthy life expectancy\": 60.633, \"Freedom to make life choices\": 0.893, \"Generosity\": 0.089, \"Perceptions of corruption\": 0.774, \"Rank\": 139, \"Happiness\": \"Not Happy\"}, {\"Country name\": \"Burundi\", \"Regional indicator\": \"Sub-Saharan Africa\", \"Ladder score\": 3.775, \"Logged GDP per capita\": 6.635, \"Social support\": 0.49, \"Healthy life expectancy\": 53.4, \"Freedom to make life choices\": 0.626, \"Generosity\": -0.024, \"Perceptions of corruption\": 0.607, \"Rank\": 140, \"Happiness\": \"Not Happy\"}, {\"Country name\": \"Yemen\", \"Regional indicator\": \"Middle East and North Africa\", \"Ladder score\": 3.658, \"Logged GDP per capita\": 7.578, \"Social support\": 0.832, \"Healthy life expectancy\": 57.122, \"Freedom to make life choices\": 0.602, \"Generosity\": -0.147, \"Perceptions of corruption\": 0.8, \"Rank\": 141, \"Happiness\": \"Not Happy\"}, {\"Country name\": \"Tanzania\", \"Regional indicator\": \"Sub-Saharan Africa\", \"Ladder score\": 3.623, \"Logged GDP per capita\": 7.876, \"Social support\": 0.702, \"Healthy life expectancy\": 57.999, \"Freedom to make life choices\": 0.833, \"Generosity\": 0.183, \"Perceptions of corruption\": 0.577, \"Rank\": 142, \"Happiness\": \"Not Happy\"}, {\"Country name\": \"Haiti\", \"Regional indicator\": \"Latin America and Caribbean\", \"Ladder score\": 3.615, \"Logged GDP per capita\": 7.477, \"Social support\": 0.54, \"Healthy life expectancy\": 55.7, \"Freedom to make life choices\": 0.593, \"Generosity\": 0.422, \"Perceptions of corruption\": 0.721, \"Rank\": 143, \"Happiness\": \"Not Happy\"}, {\"Country name\": \"Malawi\", \"Regional indicator\": \"Sub-Saharan Africa\", \"Ladder score\": 3.6, \"Logged GDP per capita\": 6.958, \"Social support\": 0.537, \"Healthy life expectancy\": 57.948, \"Freedom to make life choices\": 0.78, \"Generosity\": 0.038, \"Perceptions of corruption\": 0.729, \"Rank\": 144, \"Happiness\": \"Not Happy\"}, {\"Country name\": \"Lesotho\", \"Regional indicator\": \"Sub-Saharan Africa\", \"Ladder score\": 3.512, \"Logged GDP per capita\": 7.926, \"Social support\": 0.787, \"Healthy life expectancy\": 48.7, \"Freedom to make life choices\": 0.715, \"Generosity\": -0.131, \"Perceptions of corruption\": 0.915, \"Rank\": 145, \"Happiness\": \"Not Happy\"}, {\"Country name\": \"Botswana\", \"Regional indicator\": \"Sub-Saharan Africa\", \"Ladder score\": 3.467, \"Logged GDP per capita\": 9.782, \"Social support\": 0.784, \"Healthy life expectancy\": 59.269, \"Freedom to make life choices\": 0.824, \"Generosity\": -0.246, \"Perceptions of corruption\": 0.801, \"Rank\": 146, \"Happiness\": \"Not Happy\"}, {\"Country name\": \"Rwanda\", \"Regional indicator\": \"Sub-Saharan Africa\", \"Ladder score\": 3.415, \"Logged GDP per capita\": 7.676, \"Social support\": 0.552, \"Healthy life expectancy\": 61.4, \"Freedom to make life choices\": 0.897, \"Generosity\": 0.061, \"Perceptions of corruption\": 0.167, \"Rank\": 147, \"Happiness\": \"Not Happy\"}, {\"Country name\": \"Zimbabwe\", \"Regional indicator\": \"Sub-Saharan Africa\", \"Ladder score\": 3.145, \"Logged GDP per capita\": 7.943, \"Social support\": 0.75, \"Healthy life expectancy\": 56.201, \"Freedom to make life choices\": 0.677, \"Generosity\": -0.047, \"Perceptions of corruption\": 0.821, \"Rank\": 148, \"Happiness\": \"Not Happy\"}, {\"Country name\": \"Afghanistan\", \"Regional indicator\": \"South Asia\", \"Ladder score\": 2.523, \"Logged GDP per capita\": 7.695, \"Social support\": 0.463, \"Healthy life expectancy\": 52.493, \"Freedom to make life choices\": 0.382, \"Generosity\": -0.102, \"Perceptions of corruption\": 0.924, \"Rank\": 149, \"Happiness\": \"Not Happy\"}]}}, {\"mode\": \"vega-lite\"});\n",
       "</script>"
      ],
      "text/plain": [
       "alt.Chart(...)"
      ]
     },
     "execution_count": 14,
     "metadata": {},
     "output_type": "execute_result"
    }
   ],
   "source": [
    "c1 = alt.Chart(df).mark_point().encode(\n",
    "    x=alt.X(\"Regional indicator\", scale=alt.Scale(zero=False)),\n",
    "    y=alt.Y(\"Ladder score\", scale=alt.Scale(zero=False)),\n",
    "    color=\"Happiness\",\n",
    "    tooltip=[\"Country name\",\"Logged GDP per capita\",\"Social support\",\"Healthy life expectancy\",\"Freedom to make life choices\",\"Generosity\",\"Perceptions of corruption\"]\n",
    ").properties(\n",
    "    height=800,\n",
    "    width=300,\n",
    "    title=\"Country Region VS Happiness Ladder Score\"\n",
    ")\n",
    "c1"
   ]
  },
  {
   "cell_type": "markdown",
   "metadata": {
    "cell_id": "ea5a1db95dad4a0a8d6a5a04094b1e7f",
    "deepnote_cell_type": "text-cell-h3",
    "formattedRanges": [],
    "is_collapsed": false,
    "tags": []
   },
   "source": [
    "### Ladder Score Global distrubution"
   ]
  },
  {
   "cell_type": "markdown",
   "metadata": {
    "cell_id": "b0523eec966044448da6310de1a3a8bc",
    "deepnote_cell_type": "text-cell-p",
    "formattedRanges": [],
    "is_collapsed": false,
    "tags": []
   },
   "source": [
    "Use plotly to draw graph with world map to see the rough ladder score distribution related to the country region"
   ]
  },
  {
   "cell_type": "code",
   "execution_count": 15,
   "metadata": {
    "cell_id": "a07fde40f8524924a6ac21752fbcdfa1",
    "deepnote_cell_type": "code",
    "deepnote_to_be_reexecuted": false,
    "execution_millis": 3550,
    "execution_start": 1670290710521,
    "source_hash": "bc2ffc21",
    "tags": []
   },
   "outputs": [
    {
     "data": {
      "text/html": [
       "<html>\n",
       "<head><meta charset=\"utf-8\" /></head>\n",
       "<body>\n",
       "    <div>            <script src=\"https://cdnjs.cloudflare.com/ajax/libs/mathjax/2.7.5/MathJax.js?config=TeX-AMS-MML_SVG\"></script><script type=\"text/javascript\">if (window.MathJax && window.MathJax.Hub && window.MathJax.Hub.Config) {window.MathJax.Hub.Config({SVG: {font: \"STIX-Web\"}});}</script>                <script type=\"text/javascript\">window.PlotlyConfig = {MathJaxConfig: 'local'};</script>\n",
       "        <script src=\"https://cdn.plot.ly/plotly-2.14.0.min.js\"></script>                <div id=\"a5516230-8cbd-4d63-a748-5b8f0450a2da\" class=\"plotly-graph-div\" style=\"height:525px; width:100%;\"></div>            <script type=\"text/javascript\">                                    window.PLOTLYENV=window.PLOTLYENV || {};                                    if (document.getElementById(\"a5516230-8cbd-4d63-a748-5b8f0450a2da\")) {                    Plotly.newPlot(                        \"a5516230-8cbd-4d63-a748-5b8f0450a2da\",                        [{\"coloraxis\":\"coloraxis\",\"geo\":\"geo\",\"hovertemplate\":\"Country name=%{location}<br>Ladder score=%{z}<extra></extra>\",\"locationmode\":\"country names\",\"locations\":[\"Finland\",\"Denmark\",\"Switzerland\",\"Iceland\",\"Netherlands\",\"Norway\",\"Sweden\",\"Luxembourg\",\"New Zealand\",\"Austria\",\"Australia\",\"Israel\",\"Germany\",\"Canada\",\"Ireland\",\"Costa Rica\",\"United Kingdom\",\"Czech Republic\",\"United States\",\"Belgium\",\"France\",\"Bahrain\",\"Malta\",\"Taiwan Province of China\",\"United Arab Emirates\",\"Saudi Arabia\",\"Spain\",\"Italy\",\"Slovenia\",\"Guatemala\",\"Uruguay\",\"Singapore\",\"Kosovo\",\"Slovakia\",\"Brazil\",\"Mexico\",\"Jamaica\",\"Lithuania\",\"Cyprus\",\"Estonia\",\"Panama\",\"Uzbekistan\",\"Chile\",\"Poland\",\"Kazakhstan\",\"Romania\",\"Kuwait\",\"Serbia\",\"El Salvador\",\"Mauritius\",\"Latvia\",\"Colombia\",\"Hungary\",\"Thailand\",\"Nicaragua\",\"Japan\",\"Argentina\",\"Portugal\",\"Honduras\",\"Croatia\",\"Philippines\",\"South Korea\",\"Peru\",\"Bosnia and Herzegovina\",\"Moldova\",\"Ecuador\",\"Kyrgyzstan\",\"Greece\",\"Bolivia\",\"Mongolia\",\"Paraguay\",\"Montenegro\",\"Dominican Republic\",\"North Cyprus\",\"Belarus\",\"Russia\",\"Hong Kong S.A.R. of China\",\"Tajikistan\",\"Vietnam\",\"Libya\",\"Malaysia\",\"Indonesia\",\"Congo (Brazzaville)\",\"China\",\"Ivory Coast\",\"Armenia\",\"Nepal\",\"Bulgaria\",\"Maldives\",\"Azerbaijan\",\"Cameroon\",\"Senegal\",\"Albania\",\"North Macedonia\",\"Ghana\",\"Niger\",\"Turkmenistan\",\"Gambia\",\"Benin\",\"Laos\",\"Bangladesh\",\"Guinea\",\"South Africa\",\"Turkey\",\"Pakistan\",\"Morocco\",\"Venezuela\",\"Georgia\",\"Algeria\",\"Ukraine\",\"Iraq\",\"Gabon\",\"Burkina Faso\",\"Cambodia\",\"Mozambique\",\"Nigeria\",\"Mali\",\"Iran\",\"Uganda\",\"Liberia\",\"Kenya\",\"Tunisia\",\"Lebanon\",\"Namibia\",\"Palestinian Territories\",\"Myanmar\",\"Jordan\",\"Chad\",\"Sri Lanka\",\"Swaziland\",\"Comoros\",\"Egypt\",\"Ethiopia\",\"Mauritania\",\"Madagascar\",\"Togo\",\"Zambia\",\"Sierra Leone\",\"India\",\"Burundi\",\"Yemen\",\"Tanzania\",\"Haiti\",\"Malawi\",\"Lesotho\",\"Botswana\",\"Rwanda\",\"Zimbabwe\",\"Afghanistan\"],\"name\":\"\",\"z\":[7.842,7.62,7.571,7.554,7.464,7.392,7.363,7.324,7.277,7.268,7.183,7.157,7.155,7.103,7.085,7.069,7.064,6.965,6.951,6.834,6.69,6.647,6.602,6.584,6.561,6.494,6.491,6.483,6.461,6.435,6.431,6.377,6.372,6.331,6.33,6.317,6.309,6.255,6.223,6.189,6.18,6.179,6.172,6.166,6.152,6.14,6.106,6.078,6.061,6.049,6.032,6.012,5.992,5.985,5.972,5.94,5.929,5.929,5.919,5.882,5.88,5.845,5.84,5.813,5.766,5.764,5.744,5.723,5.716,5.677,5.653,5.581,5.545,5.536,5.534,5.477,5.477,5.466,5.411,5.41,5.384,5.345,5.342,5.339,5.306,5.283,5.269,5.266,5.198,5.171,5.142,5.132,5.117,5.101,5.088,5.074,5.066,5.051,5.045,5.03,5.025,4.984,4.956,4.948,4.934,4.918,4.892,4.891,4.887,4.875,4.854,4.852,4.834,4.83,4.794,4.759,4.723,4.721,4.636,4.625,4.607,4.596,4.584,4.574,4.517,4.426,4.395,4.355,4.325,4.308,4.289,4.283,4.275,4.227,4.208,4.107,4.073,3.849,3.819,3.775,3.658,3.623,3.615,3.6,3.512,3.467,3.415,3.145,2.523],\"type\":\"choropleth\"}],                        {\"template\":{\"data\":{\"histogram2dcontour\":[{\"type\":\"histogram2dcontour\",\"colorbar\":{\"outlinewidth\":0,\"ticks\":\"\"},\"colorscale\":[[0.0,\"#0d0887\"],[0.1111111111111111,\"#46039f\"],[0.2222222222222222,\"#7201a8\"],[0.3333333333333333,\"#9c179e\"],[0.4444444444444444,\"#bd3786\"],[0.5555555555555556,\"#d8576b\"],[0.6666666666666666,\"#ed7953\"],[0.7777777777777778,\"#fb9f3a\"],[0.8888888888888888,\"#fdca26\"],[1.0,\"#f0f921\"]]}],\"choropleth\":[{\"type\":\"choropleth\",\"colorbar\":{\"outlinewidth\":0,\"ticks\":\"\"}}],\"histogram2d\":[{\"type\":\"histogram2d\",\"colorbar\":{\"outlinewidth\":0,\"ticks\":\"\"},\"colorscale\":[[0.0,\"#0d0887\"],[0.1111111111111111,\"#46039f\"],[0.2222222222222222,\"#7201a8\"],[0.3333333333333333,\"#9c179e\"],[0.4444444444444444,\"#bd3786\"],[0.5555555555555556,\"#d8576b\"],[0.6666666666666666,\"#ed7953\"],[0.7777777777777778,\"#fb9f3a\"],[0.8888888888888888,\"#fdca26\"],[1.0,\"#f0f921\"]]}],\"heatmap\":[{\"type\":\"heatmap\",\"colorbar\":{\"outlinewidth\":0,\"ticks\":\"\"},\"colorscale\":[[0.0,\"#0d0887\"],[0.1111111111111111,\"#46039f\"],[0.2222222222222222,\"#7201a8\"],[0.3333333333333333,\"#9c179e\"],[0.4444444444444444,\"#bd3786\"],[0.5555555555555556,\"#d8576b\"],[0.6666666666666666,\"#ed7953\"],[0.7777777777777778,\"#fb9f3a\"],[0.8888888888888888,\"#fdca26\"],[1.0,\"#f0f921\"]]}],\"heatmapgl\":[{\"type\":\"heatmapgl\",\"colorbar\":{\"outlinewidth\":0,\"ticks\":\"\"},\"colorscale\":[[0.0,\"#0d0887\"],[0.1111111111111111,\"#46039f\"],[0.2222222222222222,\"#7201a8\"],[0.3333333333333333,\"#9c179e\"],[0.4444444444444444,\"#bd3786\"],[0.5555555555555556,\"#d8576b\"],[0.6666666666666666,\"#ed7953\"],[0.7777777777777778,\"#fb9f3a\"],[0.8888888888888888,\"#fdca26\"],[1.0,\"#f0f921\"]]}],\"contourcarpet\":[{\"type\":\"contourcarpet\",\"colorbar\":{\"outlinewidth\":0,\"ticks\":\"\"}}],\"contour\":[{\"type\":\"contour\",\"colorbar\":{\"outlinewidth\":0,\"ticks\":\"\"},\"colorscale\":[[0.0,\"#0d0887\"],[0.1111111111111111,\"#46039f\"],[0.2222222222222222,\"#7201a8\"],[0.3333333333333333,\"#9c179e\"],[0.4444444444444444,\"#bd3786\"],[0.5555555555555556,\"#d8576b\"],[0.6666666666666666,\"#ed7953\"],[0.7777777777777778,\"#fb9f3a\"],[0.8888888888888888,\"#fdca26\"],[1.0,\"#f0f921\"]]}],\"surface\":[{\"type\":\"surface\",\"colorbar\":{\"outlinewidth\":0,\"ticks\":\"\"},\"colorscale\":[[0.0,\"#0d0887\"],[0.1111111111111111,\"#46039f\"],[0.2222222222222222,\"#7201a8\"],[0.3333333333333333,\"#9c179e\"],[0.4444444444444444,\"#bd3786\"],[0.5555555555555556,\"#d8576b\"],[0.6666666666666666,\"#ed7953\"],[0.7777777777777778,\"#fb9f3a\"],[0.8888888888888888,\"#fdca26\"],[1.0,\"#f0f921\"]]}],\"mesh3d\":[{\"type\":\"mesh3d\",\"colorbar\":{\"outlinewidth\":0,\"ticks\":\"\"}}],\"scatter\":[{\"fillpattern\":{\"fillmode\":\"overlay\",\"size\":10,\"solidity\":0.2},\"type\":\"scatter\"}],\"parcoords\":[{\"type\":\"parcoords\",\"line\":{\"colorbar\":{\"outlinewidth\":0,\"ticks\":\"\"}}}],\"scatterpolargl\":[{\"type\":\"scatterpolargl\",\"marker\":{\"colorbar\":{\"outlinewidth\":0,\"ticks\":\"\"}}}],\"bar\":[{\"error_x\":{\"color\":\"#2a3f5f\"},\"error_y\":{\"color\":\"#2a3f5f\"},\"marker\":{\"line\":{\"color\":\"#E5ECF6\",\"width\":0.5},\"pattern\":{\"fillmode\":\"overlay\",\"size\":10,\"solidity\":0.2}},\"type\":\"bar\"}],\"scattergeo\":[{\"type\":\"scattergeo\",\"marker\":{\"colorbar\":{\"outlinewidth\":0,\"ticks\":\"\"}}}],\"scatterpolar\":[{\"type\":\"scatterpolar\",\"marker\":{\"colorbar\":{\"outlinewidth\":0,\"ticks\":\"\"}}}],\"histogram\":[{\"marker\":{\"pattern\":{\"fillmode\":\"overlay\",\"size\":10,\"solidity\":0.2}},\"type\":\"histogram\"}],\"scattergl\":[{\"type\":\"scattergl\",\"marker\":{\"colorbar\":{\"outlinewidth\":0,\"ticks\":\"\"}}}],\"scatter3d\":[{\"type\":\"scatter3d\",\"line\":{\"colorbar\":{\"outlinewidth\":0,\"ticks\":\"\"}},\"marker\":{\"colorbar\":{\"outlinewidth\":0,\"ticks\":\"\"}}}],\"scattermapbox\":[{\"type\":\"scattermapbox\",\"marker\":{\"colorbar\":{\"outlinewidth\":0,\"ticks\":\"\"}}}],\"scatterternary\":[{\"type\":\"scatterternary\",\"marker\":{\"colorbar\":{\"outlinewidth\":0,\"ticks\":\"\"}}}],\"scattercarpet\":[{\"type\":\"scattercarpet\",\"marker\":{\"colorbar\":{\"outlinewidth\":0,\"ticks\":\"\"}}}],\"carpet\":[{\"aaxis\":{\"endlinecolor\":\"#2a3f5f\",\"gridcolor\":\"white\",\"linecolor\":\"white\",\"minorgridcolor\":\"white\",\"startlinecolor\":\"#2a3f5f\"},\"baxis\":{\"endlinecolor\":\"#2a3f5f\",\"gridcolor\":\"white\",\"linecolor\":\"white\",\"minorgridcolor\":\"white\",\"startlinecolor\":\"#2a3f5f\"},\"type\":\"carpet\"}],\"table\":[{\"cells\":{\"fill\":{\"color\":\"#EBF0F8\"},\"line\":{\"color\":\"white\"}},\"header\":{\"fill\":{\"color\":\"#C8D4E3\"},\"line\":{\"color\":\"white\"}},\"type\":\"table\"}],\"barpolar\":[{\"marker\":{\"line\":{\"color\":\"#E5ECF6\",\"width\":0.5},\"pattern\":{\"fillmode\":\"overlay\",\"size\":10,\"solidity\":0.2}},\"type\":\"barpolar\"}],\"pie\":[{\"automargin\":true,\"type\":\"pie\"}]},\"layout\":{\"autotypenumbers\":\"strict\",\"colorway\":[\"#636efa\",\"#EF553B\",\"#00cc96\",\"#ab63fa\",\"#FFA15A\",\"#19d3f3\",\"#FF6692\",\"#B6E880\",\"#FF97FF\",\"#FECB52\"],\"font\":{\"color\":\"#2a3f5f\"},\"hovermode\":\"closest\",\"hoverlabel\":{\"align\":\"left\"},\"paper_bgcolor\":\"white\",\"plot_bgcolor\":\"#E5ECF6\",\"polar\":{\"bgcolor\":\"#E5ECF6\",\"angularaxis\":{\"gridcolor\":\"white\",\"linecolor\":\"white\",\"ticks\":\"\"},\"radialaxis\":{\"gridcolor\":\"white\",\"linecolor\":\"white\",\"ticks\":\"\"}},\"ternary\":{\"bgcolor\":\"#E5ECF6\",\"aaxis\":{\"gridcolor\":\"white\",\"linecolor\":\"white\",\"ticks\":\"\"},\"baxis\":{\"gridcolor\":\"white\",\"linecolor\":\"white\",\"ticks\":\"\"},\"caxis\":{\"gridcolor\":\"white\",\"linecolor\":\"white\",\"ticks\":\"\"}},\"coloraxis\":{\"colorbar\":{\"outlinewidth\":0,\"ticks\":\"\"}},\"colorscale\":{\"sequential\":[[0.0,\"#0d0887\"],[0.1111111111111111,\"#46039f\"],[0.2222222222222222,\"#7201a8\"],[0.3333333333333333,\"#9c179e\"],[0.4444444444444444,\"#bd3786\"],[0.5555555555555556,\"#d8576b\"],[0.6666666666666666,\"#ed7953\"],[0.7777777777777778,\"#fb9f3a\"],[0.8888888888888888,\"#fdca26\"],[1.0,\"#f0f921\"]],\"sequentialminus\":[[0.0,\"#0d0887\"],[0.1111111111111111,\"#46039f\"],[0.2222222222222222,\"#7201a8\"],[0.3333333333333333,\"#9c179e\"],[0.4444444444444444,\"#bd3786\"],[0.5555555555555556,\"#d8576b\"],[0.6666666666666666,\"#ed7953\"],[0.7777777777777778,\"#fb9f3a\"],[0.8888888888888888,\"#fdca26\"],[1.0,\"#f0f921\"]],\"diverging\":[[0,\"#8e0152\"],[0.1,\"#c51b7d\"],[0.2,\"#de77ae\"],[0.3,\"#f1b6da\"],[0.4,\"#fde0ef\"],[0.5,\"#f7f7f7\"],[0.6,\"#e6f5d0\"],[0.7,\"#b8e186\"],[0.8,\"#7fbc41\"],[0.9,\"#4d9221\"],[1,\"#276419\"]]},\"xaxis\":{\"gridcolor\":\"white\",\"linecolor\":\"white\",\"ticks\":\"\",\"title\":{\"standoff\":15},\"zerolinecolor\":\"white\",\"automargin\":true,\"zerolinewidth\":2},\"yaxis\":{\"gridcolor\":\"white\",\"linecolor\":\"white\",\"ticks\":\"\",\"title\":{\"standoff\":15},\"zerolinecolor\":\"white\",\"automargin\":true,\"zerolinewidth\":2},\"scene\":{\"xaxis\":{\"backgroundcolor\":\"#E5ECF6\",\"gridcolor\":\"white\",\"linecolor\":\"white\",\"showbackground\":true,\"ticks\":\"\",\"zerolinecolor\":\"white\",\"gridwidth\":2},\"yaxis\":{\"backgroundcolor\":\"#E5ECF6\",\"gridcolor\":\"white\",\"linecolor\":\"white\",\"showbackground\":true,\"ticks\":\"\",\"zerolinecolor\":\"white\",\"gridwidth\":2},\"zaxis\":{\"backgroundcolor\":\"#E5ECF6\",\"gridcolor\":\"white\",\"linecolor\":\"white\",\"showbackground\":true,\"ticks\":\"\",\"zerolinecolor\":\"white\",\"gridwidth\":2}},\"shapedefaults\":{\"line\":{\"color\":\"#2a3f5f\"}},\"annotationdefaults\":{\"arrowcolor\":\"#2a3f5f\",\"arrowhead\":0,\"arrowwidth\":1},\"geo\":{\"bgcolor\":\"white\",\"landcolor\":\"#E5ECF6\",\"subunitcolor\":\"white\",\"showland\":true,\"showlakes\":true,\"lakecolor\":\"white\"},\"title\":{\"x\":0.05},\"mapbox\":{\"style\":\"light\"}}},\"geo\":{\"domain\":{\"x\":[0.0,1.0],\"y\":[0.0,1.0]},\"center\":{}},\"coloraxis\":{\"colorbar\":{\"title\":{\"text\":\"Ladder score\"}},\"colorscale\":[[0.0,\"#0d0887\"],[0.1111111111111111,\"#46039f\"],[0.2222222222222222,\"#7201a8\"],[0.3333333333333333,\"#9c179e\"],[0.4444444444444444,\"#bd3786\"],[0.5555555555555556,\"#d8576b\"],[0.6666666666666666,\"#ed7953\"],[0.7777777777777778,\"#fb9f3a\"],[0.8888888888888888,\"#fdca26\"],[1.0,\"#f0f921\"]]},\"legend\":{\"tracegroupgap\":0},\"margin\":{\"t\":60},\"title\":{\"text\":\"Ladder Score worldwide distribution\"}},                        {\"responsive\": true}                    ).then(function(){\n",
       "                            \n",
       "var gd = document.getElementById('a5516230-8cbd-4d63-a748-5b8f0450a2da');\n",
       "var x = new MutationObserver(function (mutations, observer) {{\n",
       "        var display = window.getComputedStyle(gd).display;\n",
       "        if (!display || display === 'none') {{\n",
       "            console.log([gd, 'removed!']);\n",
       "            Plotly.purge(gd);\n",
       "            observer.disconnect();\n",
       "        }}\n",
       "}});\n",
       "\n",
       "// Listen for the removal of the full notebook cells\n",
       "var notebookContainer = gd.closest('#notebook-container');\n",
       "if (notebookContainer) {{\n",
       "    x.observe(notebookContainer, {childList: true});\n",
       "}}\n",
       "\n",
       "// Listen for the clearing of the current output cell\n",
       "var outputEl = gd.closest('.output');\n",
       "if (outputEl) {{\n",
       "    x.observe(outputEl, {childList: true});\n",
       "}}\n",
       "\n",
       "                        })                };                            </script>        </div>\n",
       "</body>\n",
       "</html>"
      ]
     },
     "metadata": {},
     "output_type": "display_data"
    }
   ],
   "source": [
    "import plotly.express as px\n",
    "fig = px.choropleth(\n",
    "    df,\n",
    "    locations=\"Country name\",\n",
    "    color=\"Ladder score\",\n",
    "    locationmode=\"country names\",\n",
    "    color_continuous_scale=px.colors.sequential.Plasma\n",
    ")\n",
    "fig.update_layout(title=\"Ladder Score worldwide distribution\")\n",
    "fig.show()"
   ]
  },
  {
   "cell_type": "code",
   "execution_count": 16,
   "metadata": {
    "cell_id": "55b1c59f25c24ccf89ea96e4554287cb",
    "deepnote_cell_type": "code",
    "deepnote_to_be_reexecuted": false,
    "execution_millis": 3106,
    "execution_start": 1670290714119,
    "source_hash": "b0611641",
    "tags": []
   },
   "outputs": [
    {
     "data": {
      "image/png": "[encoded data removed]",
      "text/plain": [
       "<Figure size 1000x600 with 1 Axes>"
      ]
     },
     "metadata": {
      "image/png": {
       "height": 547,
       "width": 855
      }
     },
     "output_type": "display_data"
    }
   ],
   "source": [
    "import seaborn as sns\n",
    "import matplotlib.pyplot as plt\n",
    "plt.figure(figsize=(10, 6))\n",
    "sns.kdeplot(data=df, x=df[\"Ladder score\"], hue=df[\"Regional indicator\"],fill=False, linewidth=2)\n",
    "plt.axvline(df[\"Ladder score\"].mean(), c=\"black\")\n",
    "plt.title(\"Ladder Score Distribution by Region\")\n",
    "plt.show()"
   ]
  },
  {
   "cell_type": "markdown",
   "metadata": {
    "cell_id": "284592333ef7416cbd061b50a4ff28f9",
    "deepnote_cell_type": "text-cell-h3",
    "formattedRanges": [],
    "is_collapsed": false,
    "tags": []
   },
   "source": [
    "### Scatterplot with Numerical variable as x axis, Ladder score as y axis, with Color Indicating its Region"
   ]
  },
  {
   "cell_type": "code",
   "execution_count": 17,
   "metadata": {
    "cell_id": "53ad5195547748a68460abe3af7e7c86",
    "deepnote_cell_type": "code",
    "deepnote_to_be_reexecuted": false,
    "execution_millis": 709,
    "execution_start": 1670290717241,
    "source_hash": "6d84b1b2",
    "tags": []
   },
   "outputs": [],
   "source": [
    "chart_list = []\n",
    "for i in df.columns:\n",
    "    c = alt.Chart(df).mark_circle().encode(\n",
    "    x=alt.X(i, scale=alt.Scale(zero=False)),\n",
    "    y = \"Ladder score\",\n",
    "    color=alt.Color(\"Regional indicator\", scale=alt.Scale(scheme='dark2')),\n",
    "    tooltip=[\"Country name\",\"Logged GDP per capita\",\"Social support\",\"Healthy life expectancy\",\"Freedom to make life choices\",\"Generosity\",\"Perceptions of corruption\"]\n",
    ").properties(\n",
    "    title=f\"{i} VS Happiness Ladder Score\"\n",
    ")\n",
    "    chart_list.append(c)"
   ]
  },
  {
   "cell_type": "code",
   "execution_count": 18,
   "metadata": {
    "cell_id": "a3abe6e9a2bd418b8677919d22d461f0",
    "deepnote_cell_type": "code",
    "deepnote_to_be_reexecuted": false,
    "execution_millis": 109,
    "execution_start": 1670290717953,
    "source_hash": "f860d238",
    "tags": []
   },
   "outputs": [
    {
     "data": {
      "text/html": [
       "\n",
       "<div id=\"altair-viz-9559be1201404448b98a16f968b43d33\"></div>\n",
       "<script type=\"text/javascript\">\n",
       "  var VEGA_DEBUG = (typeof VEGA_DEBUG == \"undefined\") ? {} : VEGA_DEBUG;\n",
       "  (function(spec, embedOpt){\n",
       "    let outputDiv = document.currentScript.previousElementSibling;\n",
       "    if (outputDiv.id !== \"altair-viz-9559be1201404448b98a16f968b43d33\") {\n",
       "      outputDiv = document.getElementById(\"altair-viz-9559be1201404448b98a16f968b43d33\");\n",
       "    }\n",
       "    const paths = {\n",
       "      \"vega\": \"https://cdn.jsdelivr.net/npm//vega@5?noext\",\n",
       "      \"vega-lib\": \"https://cdn.jsdelivr.net/npm//vega-lib?noext\",\n",
       "      \"vega-lite\": \"https://cdn.jsdelivr.net/npm//vega-lite@4.17.0?noext\",\n",
       "      \"vega-embed\": \"https://cdn.jsdelivr.net/npm//vega-embed@6?noext\",\n",
       "    };\n",
       "\n",
       "    function maybeLoadScript(lib, version) {\n",
       "      var key = `${lib.replace(\"-\", \"\")}_version`;\n",
       "      return (VEGA_DEBUG[key] == version) ?\n",
       "        Promise.resolve(paths[lib]) :\n",
       "        new Promise(function(resolve, reject) {\n",
       "          var s = document.createElement('script');\n",
       "          document.getElementsByTagName(\"head\")[0].appendChild(s);\n",
       "          s.async = true;\n",
       "          s.onload = () => {\n",
       "            VEGA_DEBUG[key] = version;\n",
       "            return resolve(paths[lib]);\n",
       "          };\n",
       "          s.onerror = () => reject(`Error loading script: ${paths[lib]}`);\n",
       "          s.src = paths[lib];\n",
       "        });\n",
       "    }\n",
       "\n",
       "    function showError(err) {\n",
       "      outputDiv.innerHTML = `<div class=\"error\" style=\"color:red;\">${err}</div>`;\n",
       "      throw err;\n",
       "    }\n",
       "\n",
       "    function displayChart(vegaEmbed) {\n",
       "      vegaEmbed(outputDiv, spec, embedOpt)\n",
       "        .catch(err => showError(`Javascript Error: ${err.message}<br>This usually means there's a typo in your chart specification. See the javascript console for the full traceback.`));\n",
       "    }\n",
       "\n",
       "    if(typeof define === \"function\" && define.amd) {\n",
       "      requirejs.config({paths});\n",
       "      require([\"vega-embed\"], displayChart, err => showError(`Error loading script: ${err.message}`));\n",
       "    } else {\n",
       "      maybeLoadScript(\"vega\", \"5\")\n",
       "        .then(() => maybeLoadScript(\"vega-lite\", \"4.17.0\"))\n",
       "        .then(() => maybeLoadScript(\"vega-embed\", \"6\"))\n",
       "        .catch(showError)\n",
       "        .then(() => displayChart(vegaEmbed));\n",
       "    }\n",
       "  })({\"config\": {\"view\": {\"continuousWidth\": 400, \"continuousHeight\": 300}}, \"hconcat\": [{\"mark\": \"circle\", \"encoding\": {\"color\": {\"field\": \"Regional indicator\", \"scale\": {\"scheme\": \"dark2\"}, \"type\": \"nominal\"}, \"tooltip\": [{\"field\": \"Country name\", \"type\": \"nominal\"}, {\"field\": \"Logged GDP per capita\", \"type\": \"quantitative\"}, {\"field\": \"Social support\", \"type\": \"quantitative\"}, {\"field\": \"Healthy life expectancy\", \"type\": \"quantitative\"}, {\"field\": \"Freedom to make life choices\", \"type\": \"quantitative\"}, {\"field\": \"Generosity\", \"type\": \"quantitative\"}, {\"field\": \"Perceptions of corruption\", \"type\": \"quantitative\"}], \"x\": {\"field\": \"Logged GDP per capita\", \"scale\": {\"zero\": false}, \"type\": \"quantitative\"}, \"y\": {\"field\": \"Ladder score\", \"type\": \"quantitative\"}}, \"title\": \"Logged GDP per capita VS Happiness Ladder Score\"}, {\"mark\": \"circle\", \"encoding\": {\"color\": {\"field\": \"Regional indicator\", \"scale\": {\"scheme\": \"dark2\"}, \"type\": \"nominal\"}, \"tooltip\": [{\"field\": \"Country name\", \"type\": \"nominal\"}, {\"field\": \"Logged GDP per capita\", \"type\": \"quantitative\"}, {\"field\": \"Social support\", \"type\": \"quantitative\"}, {\"field\": \"Healthy life expectancy\", \"type\": \"quantitative\"}, {\"field\": \"Freedom to make life choices\", \"type\": \"quantitative\"}, {\"field\": \"Generosity\", \"type\": \"quantitative\"}, {\"field\": \"Perceptions of corruption\", \"type\": \"quantitative\"}], \"x\": {\"field\": \"Social support\", \"scale\": {\"zero\": false}, \"type\": \"quantitative\"}, \"y\": {\"field\": \"Ladder score\", \"type\": \"quantitative\"}}, \"title\": \"Social support VS Happiness Ladder Score\"}, {\"mark\": \"circle\", \"encoding\": {\"color\": {\"field\": \"Regional indicator\", \"scale\": {\"scheme\": \"dark2\"}, \"type\": \"nominal\"}, \"tooltip\": [{\"field\": \"Country name\", \"type\": \"nominal\"}, {\"field\": \"Logged GDP per capita\", \"type\": \"quantitative\"}, {\"field\": \"Social support\", \"type\": \"quantitative\"}, {\"field\": \"Healthy life expectancy\", \"type\": \"quantitative\"}, {\"field\": \"Freedom to make life choices\", \"type\": \"quantitative\"}, {\"field\": \"Generosity\", \"type\": \"quantitative\"}, {\"field\": \"Perceptions of corruption\", \"type\": \"quantitative\"}], \"x\": {\"field\": \"Healthy life expectancy\", \"scale\": {\"zero\": false}, \"type\": \"quantitative\"}, \"y\": {\"field\": \"Ladder score\", \"type\": \"quantitative\"}}, \"title\": \"Healthy life expectancy VS Happiness Ladder Score\"}, {\"mark\": \"circle\", \"encoding\": {\"color\": {\"field\": \"Regional indicator\", \"scale\": {\"scheme\": \"dark2\"}, \"type\": \"nominal\"}, \"tooltip\": [{\"field\": \"Country name\", \"type\": \"nominal\"}, {\"field\": \"Logged GDP per capita\", \"type\": \"quantitative\"}, {\"field\": \"Social support\", \"type\": \"quantitative\"}, {\"field\": \"Healthy life expectancy\", \"type\": \"quantitative\"}, {\"field\": \"Freedom to make life choices\", \"type\": \"quantitative\"}, {\"field\": \"Generosity\", \"type\": \"quantitative\"}, {\"field\": \"Perceptions of corruption\", \"type\": \"quantitative\"}], \"x\": {\"field\": \"Freedom to make life choices\", \"scale\": {\"zero\": false}, \"type\": \"quantitative\"}, \"y\": {\"field\": \"Ladder score\", \"type\": \"quantitative\"}}, \"title\": \"Freedom to make life choices VS Happiness Ladder Score\"}, {\"mark\": \"circle\", \"encoding\": {\"color\": {\"field\": \"Regional indicator\", \"scale\": {\"scheme\": \"dark2\"}, \"type\": \"nominal\"}, \"tooltip\": [{\"field\": \"Country name\", \"type\": \"nominal\"}, {\"field\": \"Logged GDP per capita\", \"type\": \"quantitative\"}, {\"field\": \"Social support\", \"type\": \"quantitative\"}, {\"field\": \"Healthy life expectancy\", \"type\": \"quantitative\"}, {\"field\": \"Freedom to make life choices\", \"type\": \"quantitative\"}, {\"field\": \"Generosity\", \"type\": \"quantitative\"}, {\"field\": \"Perceptions of corruption\", \"type\": \"quantitative\"}], \"x\": {\"field\": \"Generosity\", \"scale\": {\"zero\": false}, \"type\": \"quantitative\"}, \"y\": {\"field\": \"Ladder score\", \"type\": \"quantitative\"}}, \"title\": \"Generosity VS Happiness Ladder Score\"}, {\"mark\": \"circle\", \"encoding\": {\"color\": {\"field\": \"Regional indicator\", \"scale\": {\"scheme\": \"dark2\"}, \"type\": \"nominal\"}, \"tooltip\": [{\"field\": \"Country name\", \"type\": \"nominal\"}, {\"field\": \"Logged GDP per capita\", \"type\": \"quantitative\"}, {\"field\": \"Social support\", \"type\": \"quantitative\"}, {\"field\": \"Healthy life expectancy\", \"type\": \"quantitative\"}, {\"field\": \"Freedom to make life choices\", \"type\": \"quantitative\"}, {\"field\": \"Generosity\", \"type\": \"quantitative\"}, {\"field\": \"Perceptions of corruption\", \"type\": \"quantitative\"}], \"x\": {\"field\": \"Perceptions of corruption\", \"scale\": {\"zero\": false}, \"type\": \"quantitative\"}, \"y\": {\"field\": \"Ladder score\", \"type\": \"quantitative\"}}, \"title\": \"Perceptions of corruption VS Happiness Ladder Score\"}], \"data\": {\"name\": \"data-01c0c5989b41d83bd4a10f07c2f8f78e\"}, \"$schema\": \"https://vega.github.io/schema/vega-lite/v4.17.0.json\", \"datasets\": {\"data-01c0c5989b41d83bd4a10f07c2f8f78e\": [{\"Country name\": \"Finland\", \"Regional indicator\": \"Western Europe\", \"Ladder score\": 7.842, \"Logged GDP per capita\": 10.775, \"Social support\": 0.954, \"Healthy life expectancy\": 72.0, \"Freedom to make life choices\": 0.949, \"Generosity\": -0.098, \"Perceptions of corruption\": 0.186, \"Rank\": 1, \"Happiness\": \"Very Happy\"}, {\"Country name\": \"Denmark\", \"Regional indicator\": \"Western Europe\", \"Ladder score\": 7.62, \"Logged GDP per capita\": 10.933, \"Social support\": 0.954, \"Healthy life expectancy\": 72.7, \"Freedom to make life choices\": 0.946, \"Generosity\": 0.03, \"Perceptions of corruption\": 0.179, \"Rank\": 2, \"Happiness\": \"Very Happy\"}, {\"Country name\": \"Switzerland\", \"Regional indicator\": \"Western Europe\", \"Ladder score\": 7.571, \"Logged GDP per capita\": 11.117, \"Social support\": 0.942, \"Healthy life expectancy\": 74.4, \"Freedom to make life choices\": 0.919, \"Generosity\": 0.025, \"Perceptions of corruption\": 0.292, \"Rank\": 3, \"Happiness\": \"Very Happy\"}, {\"Country name\": \"Iceland\", \"Regional indicator\": \"Western Europe\", \"Ladder score\": 7.554, \"Logged GDP per capita\": 10.878, \"Social support\": 0.983, \"Healthy life expectancy\": 73.0, \"Freedom to make life choices\": 0.955, \"Generosity\": 0.16, \"Perceptions of corruption\": 0.673, \"Rank\": 4, \"Happiness\": \"Very Happy\"}, {\"Country name\": \"Netherlands\", \"Regional indicator\": \"Western Europe\", \"Ladder score\": 7.464, \"Logged GDP per capita\": 10.932, \"Social support\": 0.942, \"Healthy life expectancy\": 72.4, \"Freedom to make life choices\": 0.913, \"Generosity\": 0.175, \"Perceptions of corruption\": 0.338, \"Rank\": 5, \"Happiness\": \"Very Happy\"}, {\"Country name\": \"Norway\", \"Regional indicator\": \"Western Europe\", \"Ladder score\": 7.392, \"Logged GDP per capita\": 11.053, \"Social support\": 0.954, \"Healthy life expectancy\": 73.3, \"Freedom to make life choices\": 0.96, \"Generosity\": 0.093, \"Perceptions of corruption\": 0.27, \"Rank\": 6, \"Happiness\": \"Very Happy\"}, {\"Country name\": \"Sweden\", \"Regional indicator\": \"Western Europe\", \"Ladder score\": 7.363, \"Logged GDP per capita\": 10.867, \"Social support\": 0.934, \"Healthy life expectancy\": 72.7, \"Freedom to make life choices\": 0.945, \"Generosity\": 0.086, \"Perceptions of corruption\": 0.237, \"Rank\": 7, \"Happiness\": \"Very Happy\"}, {\"Country name\": \"Luxembourg\", \"Regional indicator\": \"Western Europe\", \"Ladder score\": 7.324, \"Logged GDP per capita\": 11.647, \"Social support\": 0.908, \"Healthy life expectancy\": 72.6, \"Freedom to make life choices\": 0.907, \"Generosity\": -0.034, \"Perceptions of corruption\": 0.386, \"Rank\": 8, \"Happiness\": \"Very Happy\"}, {\"Country name\": \"New Zealand\", \"Regional indicator\": \"North America and ANZ\", \"Ladder score\": 7.277, \"Logged GDP per capita\": 10.643, \"Social support\": 0.948, \"Healthy life expectancy\": 73.4, \"Freedom to make life choices\": 0.929, \"Generosity\": 0.134, \"Perceptions of corruption\": 0.242, \"Rank\": 9, \"Happiness\": \"Very Happy\"}, {\"Country name\": \"Austria\", \"Regional indicator\": \"Western Europe\", \"Ladder score\": 7.268, \"Logged GDP per capita\": 10.906, \"Social support\": 0.934, \"Healthy life expectancy\": 73.3, \"Freedom to make life choices\": 0.908, \"Generosity\": 0.042, \"Perceptions of corruption\": 0.481, \"Rank\": 10, \"Happiness\": \"Very Happy\"}, {\"Country name\": \"Australia\", \"Regional indicator\": \"North America and ANZ\", \"Ladder score\": 7.183, \"Logged GDP per capita\": 10.796, \"Social support\": 0.94, \"Healthy life expectancy\": 73.9, \"Freedom to make life choices\": 0.914, \"Generosity\": 0.159, \"Perceptions of corruption\": 0.442, \"Rank\": 11, \"Happiness\": \"Very Happy\"}, {\"Country name\": \"Israel\", \"Regional indicator\": \"Middle East and North Africa\", \"Ladder score\": 7.157, \"Logged GDP per capita\": 10.575, \"Social support\": 0.939, \"Healthy life expectancy\": 73.503, \"Freedom to make life choices\": 0.8, \"Generosity\": 0.031, \"Perceptions of corruption\": 0.753, \"Rank\": 12, \"Happiness\": \"Very Happy\"}, {\"Country name\": \"Germany\", \"Regional indicator\": \"Western Europe\", \"Ladder score\": 7.155, \"Logged GDP per capita\": 10.873, \"Social support\": 0.903, \"Healthy life expectancy\": 72.5, \"Freedom to make life choices\": 0.875, \"Generosity\": 0.011, \"Perceptions of corruption\": 0.46, \"Rank\": 13, \"Happiness\": \"Very Happy\"}, {\"Country name\": \"Canada\", \"Regional indicator\": \"North America and ANZ\", \"Ladder score\": 7.103, \"Logged GDP per capita\": 10.776, \"Social support\": 0.926, \"Healthy life expectancy\": 73.8, \"Freedom to make life choices\": 0.915, \"Generosity\": 0.089, \"Perceptions of corruption\": 0.415, \"Rank\": 14, \"Happiness\": \"Very Happy\"}, {\"Country name\": \"Ireland\", \"Regional indicator\": \"Western Europe\", \"Ladder score\": 7.085, \"Logged GDP per capita\": 11.342, \"Social support\": 0.947, \"Healthy life expectancy\": 72.4, \"Freedom to make life choices\": 0.879, \"Generosity\": 0.077, \"Perceptions of corruption\": 0.363, \"Rank\": 15, \"Happiness\": \"Very Happy\"}, {\"Country name\": \"Costa Rica\", \"Regional indicator\": \"Latin America and Caribbean\", \"Ladder score\": 7.069, \"Logged GDP per capita\": 9.88, \"Social support\": 0.891, \"Healthy life expectancy\": 71.4, \"Freedom to make life choices\": 0.934, \"Generosity\": -0.126, \"Perceptions of corruption\": 0.809, \"Rank\": 16, \"Happiness\": \"Very Happy\"}, {\"Country name\": \"United Kingdom\", \"Regional indicator\": \"Western Europe\", \"Ladder score\": 7.064, \"Logged GDP per capita\": 10.707, \"Social support\": 0.934, \"Healthy life expectancy\": 72.5, \"Freedom to make life choices\": 0.859, \"Generosity\": 0.233, \"Perceptions of corruption\": 0.459, \"Rank\": 17, \"Happiness\": \"Very Happy\"}, {\"Country name\": \"Czech Republic\", \"Regional indicator\": \"Central and Eastern Europe\", \"Ladder score\": 6.965, \"Logged GDP per capita\": 10.556, \"Social support\": 0.947, \"Healthy life expectancy\": 70.807, \"Freedom to make life choices\": 0.858, \"Generosity\": -0.208, \"Perceptions of corruption\": 0.868, \"Rank\": 18, \"Happiness\": \"Very Happy\"}, {\"Country name\": \"United States\", \"Regional indicator\": \"North America and ANZ\", \"Ladder score\": 6.951, \"Logged GDP per capita\": 11.023, \"Social support\": 0.92, \"Healthy life expectancy\": 68.2, \"Freedom to make life choices\": 0.837, \"Generosity\": 0.098, \"Perceptions of corruption\": 0.698, \"Rank\": 19, \"Happiness\": \"Very Happy\"}, {\"Country name\": \"Belgium\", \"Regional indicator\": \"Western Europe\", \"Ladder score\": 6.834, \"Logged GDP per capita\": 10.823, \"Social support\": 0.906, \"Healthy life expectancy\": 72.199, \"Freedom to make life choices\": 0.783, \"Generosity\": -0.153, \"Perceptions of corruption\": 0.646, \"Rank\": 20, \"Happiness\": \"Very Happy\"}, {\"Country name\": \"France\", \"Regional indicator\": \"Western Europe\", \"Ladder score\": 6.69, \"Logged GDP per capita\": 10.704, \"Social support\": 0.942, \"Healthy life expectancy\": 74.0, \"Freedom to make life choices\": 0.822, \"Generosity\": -0.147, \"Perceptions of corruption\": 0.571, \"Rank\": 21, \"Happiness\": \"Very Happy\"}, {\"Country name\": \"Bahrain\", \"Regional indicator\": \"Middle East and North Africa\", \"Ladder score\": 6.647, \"Logged GDP per capita\": 10.669, \"Social support\": 0.862, \"Healthy life expectancy\": 69.495, \"Freedom to make life choices\": 0.925, \"Generosity\": 0.089, \"Perceptions of corruption\": 0.722, \"Rank\": 22, \"Happiness\": \"Very Happy\"}, {\"Country name\": \"Malta\", \"Regional indicator\": \"Western Europe\", \"Ladder score\": 6.602, \"Logged GDP per capita\": 10.674, \"Social support\": 0.931, \"Healthy life expectancy\": 72.2, \"Freedom to make life choices\": 0.927, \"Generosity\": 0.133, \"Perceptions of corruption\": 0.653, \"Rank\": 23, \"Happiness\": \"Very Happy\"}, {\"Country name\": \"Taiwan Province of China\", \"Regional indicator\": \"East Asia\", \"Ladder score\": 6.584, \"Logged GDP per capita\": 10.871, \"Social support\": 0.898, \"Healthy life expectancy\": 69.6, \"Freedom to make life choices\": 0.784, \"Generosity\": -0.07, \"Perceptions of corruption\": 0.721, \"Rank\": 24, \"Happiness\": \"Very Happy\"}, {\"Country name\": \"United Arab Emirates\", \"Regional indicator\": \"Middle East and North Africa\", \"Ladder score\": 6.561, \"Logged GDP per capita\": 11.085, \"Social support\": 0.844, \"Healthy life expectancy\": 67.333, \"Freedom to make life choices\": 0.932, \"Generosity\": 0.074, \"Perceptions of corruption\": 0.589, \"Rank\": 25, \"Happiness\": \"Very Happy\"}, {\"Country name\": \"Saudi Arabia\", \"Regional indicator\": \"Middle East and North Africa\", \"Ladder score\": 6.494, \"Logged GDP per capita\": 10.743, \"Social support\": 0.891, \"Healthy life expectancy\": 66.603, \"Freedom to make life choices\": 0.877, \"Generosity\": -0.149, \"Perceptions of corruption\": 0.684, \"Rank\": 26, \"Happiness\": \"Very Happy\"}, {\"Country name\": \"Spain\", \"Regional indicator\": \"Western Europe\", \"Ladder score\": 6.491, \"Logged GDP per capita\": 10.571, \"Social support\": 0.932, \"Healthy life expectancy\": 74.7, \"Freedom to make life choices\": 0.761, \"Generosity\": -0.081, \"Perceptions of corruption\": 0.745, \"Rank\": 27, \"Happiness\": \"Very Happy\"}, {\"Country name\": \"Italy\", \"Regional indicator\": \"Western Europe\", \"Ladder score\": 6.483, \"Logged GDP per capita\": 10.623, \"Social support\": 0.88, \"Healthy life expectancy\": 73.8, \"Freedom to make life choices\": 0.693, \"Generosity\": -0.084, \"Perceptions of corruption\": 0.866, \"Rank\": 28, \"Happiness\": \"Very Happy\"}, {\"Country name\": \"Slovenia\", \"Regional indicator\": \"Central and Eastern Europe\", \"Ladder score\": 6.461, \"Logged GDP per capita\": 10.529, \"Social support\": 0.948, \"Healthy life expectancy\": 71.4, \"Freedom to make life choices\": 0.949, \"Generosity\": -0.101, \"Perceptions of corruption\": 0.806, \"Rank\": 29, \"Happiness\": \"Very Happy\"}, {\"Country name\": \"Guatemala\", \"Regional indicator\": \"Latin America and Caribbean\", \"Ladder score\": 6.435, \"Logged GDP per capita\": 9.053, \"Social support\": 0.813, \"Healthy life expectancy\": 64.958, \"Freedom to make life choices\": 0.906, \"Generosity\": -0.038, \"Perceptions of corruption\": 0.775, \"Rank\": 30, \"Happiness\": \"Very Happy\"}, {\"Country name\": \"Uruguay\", \"Regional indicator\": \"Latin America and Caribbean\", \"Ladder score\": 6.431, \"Logged GDP per capita\": 9.966, \"Social support\": 0.925, \"Healthy life expectancy\": 69.1, \"Freedom to make life choices\": 0.896, \"Generosity\": -0.092, \"Perceptions of corruption\": 0.59, \"Rank\": 31, \"Happiness\": \"Very Happy\"}, {\"Country name\": \"Singapore\", \"Regional indicator\": \"Southeast Asia\", \"Ladder score\": 6.377, \"Logged GDP per capita\": 11.488, \"Social support\": 0.915, \"Healthy life expectancy\": 76.953, \"Freedom to make life choices\": 0.927, \"Generosity\": -0.018, \"Perceptions of corruption\": 0.082, \"Rank\": 32, \"Happiness\": \"Very Happy\"}, {\"Country name\": \"Kosovo\", \"Regional indicator\": \"Central and Eastern Europe\", \"Ladder score\": 6.372, \"Logged GDP per capita\": 9.318, \"Social support\": 0.821, \"Healthy life expectancy\": 63.813, \"Freedom to make life choices\": 0.869, \"Generosity\": 0.257, \"Perceptions of corruption\": 0.917, \"Rank\": 33, \"Happiness\": \"Very Happy\"}, {\"Country name\": \"Slovakia\", \"Regional indicator\": \"Central and Eastern Europe\", \"Ladder score\": 6.331, \"Logged GDP per capita\": 10.369, \"Social support\": 0.936, \"Healthy life expectancy\": 69.201, \"Freedom to make life choices\": 0.766, \"Generosity\": -0.124, \"Perceptions of corruption\": 0.911, \"Rank\": 34, \"Happiness\": \"Very Happy\"}, {\"Country name\": \"Brazil\", \"Regional indicator\": \"Latin America and Caribbean\", \"Ladder score\": 6.33, \"Logged GDP per capita\": 9.577, \"Social support\": 0.882, \"Healthy life expectancy\": 66.601, \"Freedom to make life choices\": 0.804, \"Generosity\": -0.071, \"Perceptions of corruption\": 0.756, \"Rank\": 35, \"Happiness\": \"Very Happy\"}, {\"Country name\": \"Mexico\", \"Regional indicator\": \"Latin America and Caribbean\", \"Ladder score\": 6.317, \"Logged GDP per capita\": 9.859, \"Social support\": 0.831, \"Healthy life expectancy\": 68.597, \"Freedom to make life choices\": 0.862, \"Generosity\": -0.147, \"Perceptions of corruption\": 0.799, \"Rank\": 36, \"Happiness\": \"Very Happy\"}, {\"Country name\": \"Jamaica\", \"Regional indicator\": \"Latin America and Caribbean\", \"Ladder score\": 6.309, \"Logged GDP per capita\": 9.186, \"Social support\": 0.877, \"Healthy life expectancy\": 67.5, \"Freedom to make life choices\": 0.89, \"Generosity\": -0.137, \"Perceptions of corruption\": 0.884, \"Rank\": 37, \"Happiness\": \"Very Happy\"}, {\"Country name\": \"Lithuania\", \"Regional indicator\": \"Central and Eastern Europe\", \"Ladder score\": 6.255, \"Logged GDP per capita\": 10.499, \"Social support\": 0.935, \"Healthy life expectancy\": 67.906, \"Freedom to make life choices\": 0.773, \"Generosity\": -0.203, \"Perceptions of corruption\": 0.826, \"Rank\": 38, \"Happiness\": \"Very Happy\"}, {\"Country name\": \"Cyprus\", \"Regional indicator\": \"Western Europe\", \"Ladder score\": 6.223, \"Logged GDP per capita\": 10.576, \"Social support\": 0.802, \"Healthy life expectancy\": 73.898, \"Freedom to make life choices\": 0.763, \"Generosity\": -0.015, \"Perceptions of corruption\": 0.844, \"Rank\": 39, \"Happiness\": \"Happy\"}, {\"Country name\": \"Estonia\", \"Regional indicator\": \"Central and Eastern Europe\", \"Ladder score\": 6.189, \"Logged GDP per capita\": 10.481, \"Social support\": 0.941, \"Healthy life expectancy\": 68.8, \"Freedom to make life choices\": 0.909, \"Generosity\": -0.106, \"Perceptions of corruption\": 0.527, \"Rank\": 40, \"Happiness\": \"Happy\"}, {\"Country name\": \"Panama\", \"Regional indicator\": \"Latin America and Caribbean\", \"Ladder score\": 6.18, \"Logged GDP per capita\": 10.35, \"Social support\": 0.896, \"Healthy life expectancy\": 69.652, \"Freedom to make life choices\": 0.872, \"Generosity\": -0.166, \"Perceptions of corruption\": 0.856, \"Rank\": 41, \"Happiness\": \"Happy\"}, {\"Country name\": \"Uzbekistan\", \"Regional indicator\": \"Commonwealth of Independent States\", \"Ladder score\": 6.179, \"Logged GDP per capita\": 8.836, \"Social support\": 0.918, \"Healthy life expectancy\": 65.255, \"Freedom to make life choices\": 0.97, \"Generosity\": 0.311, \"Perceptions of corruption\": 0.515, \"Rank\": 42, \"Happiness\": \"Happy\"}, {\"Country name\": \"Chile\", \"Regional indicator\": \"Latin America and Caribbean\", \"Ladder score\": 6.172, \"Logged GDP per capita\": 10.071, \"Social support\": 0.882, \"Healthy life expectancy\": 70.0, \"Freedom to make life choices\": 0.742, \"Generosity\": -0.044, \"Perceptions of corruption\": 0.83, \"Rank\": 43, \"Happiness\": \"Happy\"}, {\"Country name\": \"Poland\", \"Regional indicator\": \"Central and Eastern Europe\", \"Ladder score\": 6.166, \"Logged GDP per capita\": 10.382, \"Social support\": 0.898, \"Healthy life expectancy\": 69.702, \"Freedom to make life choices\": 0.841, \"Generosity\": -0.165, \"Perceptions of corruption\": 0.735, \"Rank\": 44, \"Happiness\": \"Happy\"}, {\"Country name\": \"Kazakhstan\", \"Regional indicator\": \"Commonwealth of Independent States\", \"Ladder score\": 6.152, \"Logged GDP per capita\": 10.155, \"Social support\": 0.952, \"Healthy life expectancy\": 65.2, \"Freedom to make life choices\": 0.853, \"Generosity\": -0.069, \"Perceptions of corruption\": 0.733, \"Rank\": 45, \"Happiness\": \"Happy\"}, {\"Country name\": \"Romania\", \"Regional indicator\": \"Central and Eastern Europe\", \"Ladder score\": 6.14, \"Logged GDP per capita\": 10.284, \"Social support\": 0.832, \"Healthy life expectancy\": 67.355, \"Freedom to make life choices\": 0.845, \"Generosity\": -0.219, \"Perceptions of corruption\": 0.938, \"Rank\": 46, \"Happiness\": \"Happy\"}, {\"Country name\": \"Kuwait\", \"Regional indicator\": \"Middle East and North Africa\", \"Ladder score\": 6.106, \"Logged GDP per capita\": 10.817, \"Social support\": 0.843, \"Healthy life expectancy\": 66.9, \"Freedom to make life choices\": 0.867, \"Generosity\": -0.104, \"Perceptions of corruption\": 0.736, \"Rank\": 47, \"Happiness\": \"Happy\"}, {\"Country name\": \"Serbia\", \"Regional indicator\": \"Central and Eastern Europe\", \"Ladder score\": 6.078, \"Logged GDP per capita\": 9.787, \"Social support\": 0.873, \"Healthy life expectancy\": 68.6, \"Freedom to make life choices\": 0.778, \"Generosity\": 0.002, \"Perceptions of corruption\": 0.835, \"Rank\": 48, \"Happiness\": \"Happy\"}, {\"Country name\": \"El Salvador\", \"Regional indicator\": \"Latin America and Caribbean\", \"Ladder score\": 6.061, \"Logged GDP per capita\": 9.054, \"Social support\": 0.762, \"Healthy life expectancy\": 66.402, \"Freedom to make life choices\": 0.888, \"Generosity\": -0.11, \"Perceptions of corruption\": 0.688, \"Rank\": 49, \"Happiness\": \"Happy\"}, {\"Country name\": \"Mauritius\", \"Regional indicator\": \"Sub-Saharan Africa\", \"Ladder score\": 6.049, \"Logged GDP per capita\": 10.008, \"Social support\": 0.905, \"Healthy life expectancy\": 66.701, \"Freedom to make life choices\": 0.867, \"Generosity\": -0.054, \"Perceptions of corruption\": 0.789, \"Rank\": 50, \"Happiness\": \"Happy\"}, {\"Country name\": \"Latvia\", \"Regional indicator\": \"Central and Eastern Europe\", \"Ladder score\": 6.032, \"Logged GDP per capita\": 10.315, \"Social support\": 0.927, \"Healthy life expectancy\": 67.1, \"Freedom to make life choices\": 0.715, \"Generosity\": -0.162, \"Perceptions of corruption\": 0.8, \"Rank\": 51, \"Happiness\": \"Happy\"}, {\"Country name\": \"Colombia\", \"Regional indicator\": \"Latin America and Caribbean\", \"Ladder score\": 6.012, \"Logged GDP per capita\": 9.557, \"Social support\": 0.847, \"Healthy life expectancy\": 68.001, \"Freedom to make life choices\": 0.837, \"Generosity\": -0.135, \"Perceptions of corruption\": 0.841, \"Rank\": 52, \"Happiness\": \"Happy\"}, {\"Country name\": \"Hungary\", \"Regional indicator\": \"Central and Eastern Europe\", \"Ladder score\": 5.992, \"Logged GDP per capita\": 10.358, \"Social support\": 0.943, \"Healthy life expectancy\": 68.0, \"Freedom to make life choices\": 0.755, \"Generosity\": -0.186, \"Perceptions of corruption\": 0.876, \"Rank\": 53, \"Happiness\": \"Happy\"}, {\"Country name\": \"Thailand\", \"Regional indicator\": \"Southeast Asia\", \"Ladder score\": 5.985, \"Logged GDP per capita\": 9.805, \"Social support\": 0.888, \"Healthy life expectancy\": 67.401, \"Freedom to make life choices\": 0.884, \"Generosity\": 0.287, \"Perceptions of corruption\": 0.895, \"Rank\": 54, \"Happiness\": \"Happy\"}, {\"Country name\": \"Nicaragua\", \"Regional indicator\": \"Latin America and Caribbean\", \"Ladder score\": 5.972, \"Logged GDP per capita\": 8.62, \"Social support\": 0.864, \"Healthy life expectancy\": 67.657, \"Freedom to make life choices\": 0.836, \"Generosity\": 0.02, \"Perceptions of corruption\": 0.664, \"Rank\": 55, \"Happiness\": \"Happy\"}, {\"Country name\": \"Japan\", \"Regional indicator\": \"East Asia\", \"Ladder score\": 5.94, \"Logged GDP per capita\": 10.611, \"Social support\": 0.884, \"Healthy life expectancy\": 75.1, \"Freedom to make life choices\": 0.796, \"Generosity\": -0.258, \"Perceptions of corruption\": 0.638, \"Rank\": 56, \"Happiness\": \"Happy\"}, {\"Country name\": \"Argentina\", \"Regional indicator\": \"Latin America and Caribbean\", \"Ladder score\": 5.929, \"Logged GDP per capita\": 9.962, \"Social support\": 0.898, \"Healthy life expectancy\": 69.0, \"Freedom to make life choices\": 0.828, \"Generosity\": -0.182, \"Perceptions of corruption\": 0.834, \"Rank\": 57, \"Happiness\": \"Happy\"}, {\"Country name\": \"Portugal\", \"Regional indicator\": \"Western Europe\", \"Ladder score\": 5.929, \"Logged GDP per capita\": 10.421, \"Social support\": 0.879, \"Healthy life expectancy\": 72.6, \"Freedom to make life choices\": 0.892, \"Generosity\": -0.244, \"Perceptions of corruption\": 0.887, \"Rank\": 58, \"Happiness\": \"Happy\"}, {\"Country name\": \"Honduras\", \"Regional indicator\": \"Latin America and Caribbean\", \"Ladder score\": 5.919, \"Logged GDP per capita\": 8.648, \"Social support\": 0.812, \"Healthy life expectancy\": 67.3, \"Freedom to make life choices\": 0.857, \"Generosity\": 0.081, \"Perceptions of corruption\": 0.809, \"Rank\": 59, \"Happiness\": \"Happy\"}, {\"Country name\": \"Croatia\", \"Regional indicator\": \"Central and Eastern Europe\", \"Ladder score\": 5.882, \"Logged GDP per capita\": 10.217, \"Social support\": 0.924, \"Healthy life expectancy\": 70.799, \"Freedom to make life choices\": 0.754, \"Generosity\": -0.118, \"Perceptions of corruption\": 0.939, \"Rank\": 60, \"Happiness\": \"Happy\"}, {\"Country name\": \"Philippines\", \"Regional indicator\": \"Southeast Asia\", \"Ladder score\": 5.88, \"Logged GDP per capita\": 9.076, \"Social support\": 0.83, \"Healthy life expectancy\": 62.0, \"Freedom to make life choices\": 0.917, \"Generosity\": -0.097, \"Perceptions of corruption\": 0.742, \"Rank\": 61, \"Happiness\": \"Happy\"}, {\"Country name\": \"South Korea\", \"Regional indicator\": \"East Asia\", \"Ladder score\": 5.845, \"Logged GDP per capita\": 10.651, \"Social support\": 0.799, \"Healthy life expectancy\": 73.9, \"Freedom to make life choices\": 0.672, \"Generosity\": -0.083, \"Perceptions of corruption\": 0.727, \"Rank\": 62, \"Happiness\": \"Happy\"}, {\"Country name\": \"Peru\", \"Regional indicator\": \"Latin America and Caribbean\", \"Ladder score\": 5.84, \"Logged GDP per capita\": 9.458, \"Social support\": 0.832, \"Healthy life expectancy\": 68.25, \"Freedom to make life choices\": 0.822, \"Generosity\": -0.154, \"Perceptions of corruption\": 0.891, \"Rank\": 63, \"Happiness\": \"Happy\"}, {\"Country name\": \"Bosnia and Herzegovina\", \"Regional indicator\": \"Central and Eastern Europe\", \"Ladder score\": 5.813, \"Logged GDP per capita\": 9.59, \"Social support\": 0.87, \"Healthy life expectancy\": 68.098, \"Freedom to make life choices\": 0.706, \"Generosity\": 0.113, \"Perceptions of corruption\": 0.931, \"Rank\": 64, \"Happiness\": \"Happy\"}, {\"Country name\": \"Moldova\", \"Regional indicator\": \"Commonwealth of Independent States\", \"Ladder score\": 5.766, \"Logged GDP per capita\": 9.454, \"Social support\": 0.857, \"Healthy life expectancy\": 65.699, \"Freedom to make life choices\": 0.822, \"Generosity\": -0.079, \"Perceptions of corruption\": 0.918, \"Rank\": 65, \"Happiness\": \"Happy\"}, {\"Country name\": \"Ecuador\", \"Regional indicator\": \"Latin America and Caribbean\", \"Ladder score\": 5.764, \"Logged GDP per capita\": 9.313, \"Social support\": 0.821, \"Healthy life expectancy\": 68.8, \"Freedom to make life choices\": 0.842, \"Generosity\": -0.124, \"Perceptions of corruption\": 0.843, \"Rank\": 66, \"Happiness\": \"Happy\"}, {\"Country name\": \"Kyrgyzstan\", \"Regional indicator\": \"Commonwealth of Independent States\", \"Ladder score\": 5.744, \"Logged GDP per capita\": 8.538, \"Social support\": 0.893, \"Healthy life expectancy\": 64.401, \"Freedom to make life choices\": 0.935, \"Generosity\": 0.119, \"Perceptions of corruption\": 0.908, \"Rank\": 67, \"Happiness\": \"Happy\"}, {\"Country name\": \"Greece\", \"Regional indicator\": \"Western Europe\", \"Ladder score\": 5.723, \"Logged GDP per capita\": 10.279, \"Social support\": 0.823, \"Healthy life expectancy\": 72.6, \"Freedom to make life choices\": 0.582, \"Generosity\": -0.288, \"Perceptions of corruption\": 0.823, \"Rank\": 68, \"Happiness\": \"Happy\"}, {\"Country name\": \"Bolivia\", \"Regional indicator\": \"Latin America and Caribbean\", \"Ladder score\": 5.716, \"Logged GDP per capita\": 9.046, \"Social support\": 0.81, \"Healthy life expectancy\": 63.901, \"Freedom to make life choices\": 0.875, \"Generosity\": -0.077, \"Perceptions of corruption\": 0.839, \"Rank\": 69, \"Happiness\": \"Happy\"}, {\"Country name\": \"Mongolia\", \"Regional indicator\": \"East Asia\", \"Ladder score\": 5.677, \"Logged GDP per capita\": 9.4, \"Social support\": 0.935, \"Healthy life expectancy\": 62.5, \"Freedom to make life choices\": 0.708, \"Generosity\": 0.116, \"Perceptions of corruption\": 0.856, \"Rank\": 70, \"Happiness\": \"Happy\"}, {\"Country name\": \"Paraguay\", \"Regional indicator\": \"Latin America and Caribbean\", \"Ladder score\": 5.653, \"Logged GDP per capita\": 9.448, \"Social support\": 0.893, \"Healthy life expectancy\": 65.9, \"Freedom to make life choices\": 0.876, \"Generosity\": 0.028, \"Perceptions of corruption\": 0.882, \"Rank\": 71, \"Happiness\": \"Happy\"}, {\"Country name\": \"Montenegro\", \"Regional indicator\": \"Central and Eastern Europe\", \"Ladder score\": 5.581, \"Logged GDP per capita\": 9.94, \"Social support\": 0.858, \"Healthy life expectancy\": 68.699, \"Freedom to make life choices\": 0.708, \"Generosity\": -0.034, \"Perceptions of corruption\": 0.812, \"Rank\": 72, \"Happiness\": \"Happy\"}, {\"Country name\": \"Dominican Republic\", \"Regional indicator\": \"Latin America and Caribbean\", \"Ladder score\": 5.545, \"Logged GDP per capita\": 9.802, \"Social support\": 0.853, \"Healthy life expectancy\": 66.102, \"Freedom to make life choices\": 0.86, \"Generosity\": -0.133, \"Perceptions of corruption\": 0.714, \"Rank\": 73, \"Happiness\": \"Happy\"}, {\"Country name\": \"North Cyprus\", \"Regional indicator\": \"Western Europe\", \"Ladder score\": 5.536, \"Logged GDP per capita\": 10.576, \"Social support\": 0.82, \"Healthy life expectancy\": 73.898, \"Freedom to make life choices\": 0.795, \"Generosity\": 0.012, \"Perceptions of corruption\": 0.626, \"Rank\": 74, \"Happiness\": \"Happy\"}, {\"Country name\": \"Belarus\", \"Regional indicator\": \"Commonwealth of Independent States\", \"Ladder score\": 5.534, \"Logged GDP per capita\": 9.853, \"Social support\": 0.91, \"Healthy life expectancy\": 66.253, \"Freedom to make life choices\": 0.65, \"Generosity\": -0.18, \"Perceptions of corruption\": 0.627, \"Rank\": 75, \"Happiness\": \"Less Happy\"}, {\"Country name\": \"Russia\", \"Regional indicator\": \"Commonwealth of Independent States\", \"Ladder score\": 5.477, \"Logged GDP per capita\": 10.189, \"Social support\": 0.903, \"Healthy life expectancy\": 64.703, \"Freedom to make life choices\": 0.718, \"Generosity\": -0.111, \"Perceptions of corruption\": 0.845, \"Rank\": 76, \"Happiness\": \"Less Happy\"}, {\"Country name\": \"Hong Kong S.A.R. of China\", \"Regional indicator\": \"East Asia\", \"Ladder score\": 5.477, \"Logged GDP per capita\": 11.0, \"Social support\": 0.836, \"Healthy life expectancy\": 76.82, \"Freedom to make life choices\": 0.717, \"Generosity\": 0.067, \"Perceptions of corruption\": 0.403, \"Rank\": 77, \"Happiness\": \"Less Happy\"}, {\"Country name\": \"Tajikistan\", \"Regional indicator\": \"Commonwealth of Independent States\", \"Ladder score\": 5.466, \"Logged GDP per capita\": 8.091, \"Social support\": 0.86, \"Healthy life expectancy\": 64.281, \"Freedom to make life choices\": 0.832, \"Generosity\": -0.056, \"Perceptions of corruption\": 0.553, \"Rank\": 78, \"Happiness\": \"Less Happy\"}, {\"Country name\": \"Vietnam\", \"Regional indicator\": \"Southeast Asia\", \"Ladder score\": 5.411, \"Logged GDP per capita\": 8.973, \"Social support\": 0.85, \"Healthy life expectancy\": 68.034, \"Freedom to make life choices\": 0.94, \"Generosity\": -0.098, \"Perceptions of corruption\": 0.796, \"Rank\": 79, \"Happiness\": \"Less Happy\"}, {\"Country name\": \"Libya\", \"Regional indicator\": \"Middle East and North Africa\", \"Ladder score\": 5.41, \"Logged GDP per capita\": 9.622, \"Social support\": 0.827, \"Healthy life expectancy\": 62.3, \"Freedom to make life choices\": 0.771, \"Generosity\": -0.087, \"Perceptions of corruption\": 0.667, \"Rank\": 80, \"Happiness\": \"Less Happy\"}, {\"Country name\": \"Malaysia\", \"Regional indicator\": \"Southeast Asia\", \"Ladder score\": 5.384, \"Logged GDP per capita\": 10.238, \"Social support\": 0.817, \"Healthy life expectancy\": 67.102, \"Freedom to make life choices\": 0.895, \"Generosity\": 0.125, \"Perceptions of corruption\": 0.839, \"Rank\": 81, \"Happiness\": \"Less Happy\"}, {\"Country name\": \"Indonesia\", \"Regional indicator\": \"Southeast Asia\", \"Ladder score\": 5.345, \"Logged GDP per capita\": 9.365, \"Social support\": 0.811, \"Healthy life expectancy\": 62.236, \"Freedom to make life choices\": 0.873, \"Generosity\": 0.542, \"Perceptions of corruption\": 0.867, \"Rank\": 82, \"Happiness\": \"Less Happy\"}, {\"Country name\": \"Congo (Brazzaville)\", \"Regional indicator\": \"Sub-Saharan Africa\", \"Ladder score\": 5.342, \"Logged GDP per capita\": 8.117, \"Social support\": 0.636, \"Healthy life expectancy\": 58.221, \"Freedom to make life choices\": 0.695, \"Generosity\": -0.068, \"Perceptions of corruption\": 0.745, \"Rank\": 83, \"Happiness\": \"Less Happy\"}, {\"Country name\": \"China\", \"Regional indicator\": \"East Asia\", \"Ladder score\": 5.339, \"Logged GDP per capita\": 9.673, \"Social support\": 0.811, \"Healthy life expectancy\": 69.593, \"Freedom to make life choices\": 0.904, \"Generosity\": -0.146, \"Perceptions of corruption\": 0.755, \"Rank\": 84, \"Happiness\": \"Less Happy\"}, {\"Country name\": \"Ivory Coast\", \"Regional indicator\": \"Sub-Saharan Africa\", \"Ladder score\": 5.306, \"Logged GDP per capita\": 8.551, \"Social support\": 0.644, \"Healthy life expectancy\": 50.114, \"Freedom to make life choices\": 0.741, \"Generosity\": -0.016, \"Perceptions of corruption\": 0.794, \"Rank\": 85, \"Happiness\": \"Less Happy\"}, {\"Country name\": \"Armenia\", \"Regional indicator\": \"Commonwealth of Independent States\", \"Ladder score\": 5.283, \"Logged GDP per capita\": 9.487, \"Social support\": 0.799, \"Healthy life expectancy\": 67.055, \"Freedom to make life choices\": 0.825, \"Generosity\": -0.168, \"Perceptions of corruption\": 0.629, \"Rank\": 86, \"Happiness\": \"Less Happy\"}, {\"Country name\": \"Nepal\", \"Regional indicator\": \"South Asia\", \"Ladder score\": 5.269, \"Logged GDP per capita\": 8.12, \"Social support\": 0.774, \"Healthy life expectancy\": 64.233, \"Freedom to make life choices\": 0.782, \"Generosity\": 0.152, \"Perceptions of corruption\": 0.727, \"Rank\": 87, \"Happiness\": \"Less Happy\"}, {\"Country name\": \"Bulgaria\", \"Regional indicator\": \"Central and Eastern Europe\", \"Ladder score\": 5.266, \"Logged GDP per capita\": 10.016, \"Social support\": 0.931, \"Healthy life expectancy\": 67.0, \"Freedom to make life choices\": 0.788, \"Generosity\": -0.096, \"Perceptions of corruption\": 0.932, \"Rank\": 88, \"Happiness\": \"Less Happy\"}, {\"Country name\": \"Maldives\", \"Regional indicator\": \"South Asia\", \"Ladder score\": 5.198, \"Logged GDP per capita\": 9.826, \"Social support\": 0.913, \"Healthy life expectancy\": 70.6, \"Freedom to make life choices\": 0.854, \"Generosity\": 0.024, \"Perceptions of corruption\": 0.825, \"Rank\": 89, \"Happiness\": \"Less Happy\"}, {\"Country name\": \"Azerbaijan\", \"Regional indicator\": \"Commonwealth of Independent States\", \"Ladder score\": 5.171, \"Logged GDP per capita\": 9.569, \"Social support\": 0.836, \"Healthy life expectancy\": 65.656, \"Freedom to make life choices\": 0.814, \"Generosity\": -0.223, \"Perceptions of corruption\": 0.506, \"Rank\": 90, \"Happiness\": \"Less Happy\"}, {\"Country name\": \"Cameroon\", \"Regional indicator\": \"Sub-Saharan Africa\", \"Ladder score\": 5.142, \"Logged GDP per capita\": 8.189, \"Social support\": 0.71, \"Healthy life expectancy\": 53.515, \"Freedom to make life choices\": 0.731, \"Generosity\": 0.026, \"Perceptions of corruption\": 0.848, \"Rank\": 91, \"Happiness\": \"Less Happy\"}, {\"Country name\": \"Senegal\", \"Regional indicator\": \"Sub-Saharan Africa\", \"Ladder score\": 5.132, \"Logged GDP per capita\": 8.118, \"Social support\": 0.71, \"Healthy life expectancy\": 59.802, \"Freedom to make life choices\": 0.695, \"Generosity\": -0.046, \"Perceptions of corruption\": 0.801, \"Rank\": 92, \"Happiness\": \"Less Happy\"}, {\"Country name\": \"Albania\", \"Regional indicator\": \"Central and Eastern Europe\", \"Ladder score\": 5.117, \"Logged GDP per capita\": 9.52, \"Social support\": 0.697, \"Healthy life expectancy\": 68.999, \"Freedom to make life choices\": 0.785, \"Generosity\": -0.03, \"Perceptions of corruption\": 0.901, \"Rank\": 93, \"Happiness\": \"Less Happy\"}, {\"Country name\": \"North Macedonia\", \"Regional indicator\": \"Central and Eastern Europe\", \"Ladder score\": 5.101, \"Logged GDP per capita\": 9.693, \"Social support\": 0.805, \"Healthy life expectancy\": 65.474, \"Freedom to make life choices\": 0.751, \"Generosity\": 0.038, \"Perceptions of corruption\": 0.905, \"Rank\": 94, \"Happiness\": \"Less Happy\"}, {\"Country name\": \"Ghana\", \"Regional indicator\": \"Sub-Saharan Africa\", \"Ladder score\": 5.088, \"Logged GDP per capita\": 8.58, \"Social support\": 0.727, \"Healthy life expectancy\": 57.586, \"Freedom to make life choices\": 0.807, \"Generosity\": 0.123, \"Perceptions of corruption\": 0.848, \"Rank\": 95, \"Happiness\": \"Less Happy\"}, {\"Country name\": \"Niger\", \"Regional indicator\": \"Sub-Saharan Africa\", \"Ladder score\": 5.074, \"Logged GDP per capita\": 7.098, \"Social support\": 0.641, \"Healthy life expectancy\": 53.78, \"Freedom to make life choices\": 0.806, \"Generosity\": 0.018, \"Perceptions of corruption\": 0.693, \"Rank\": 96, \"Happiness\": \"Less Happy\"}, {\"Country name\": \"Turkmenistan\", \"Regional indicator\": \"Commonwealth of Independent States\", \"Ladder score\": 5.066, \"Logged GDP per capita\": 9.629, \"Social support\": 0.983, \"Healthy life expectancy\": 62.409, \"Freedom to make life choices\": 0.877, \"Generosity\": 0.273, \"Perceptions of corruption\": 0.888, \"Rank\": 97, \"Happiness\": \"Less Happy\"}, {\"Country name\": \"Gambia\", \"Regional indicator\": \"Sub-Saharan Africa\", \"Ladder score\": 5.051, \"Logged GDP per capita\": 7.686, \"Social support\": 0.69, \"Healthy life expectancy\": 55.16, \"Freedom to make life choices\": 0.697, \"Generosity\": 0.424, \"Perceptions of corruption\": 0.746, \"Rank\": 98, \"Happiness\": \"Less Happy\"}, {\"Country name\": \"Benin\", \"Regional indicator\": \"Sub-Saharan Africa\", \"Ladder score\": 5.045, \"Logged GDP per capita\": 8.087, \"Social support\": 0.489, \"Healthy life expectancy\": 54.713, \"Freedom to make life choices\": 0.757, \"Generosity\": -0.034, \"Perceptions of corruption\": 0.661, \"Rank\": 99, \"Happiness\": \"Less Happy\"}, {\"Country name\": \"Laos\", \"Regional indicator\": \"Southeast Asia\", \"Ladder score\": 5.03, \"Logged GDP per capita\": 8.947, \"Social support\": 0.728, \"Healthy life expectancy\": 58.968, \"Freedom to make life choices\": 0.91, \"Generosity\": 0.123, \"Perceptions of corruption\": 0.658, \"Rank\": 100, \"Happiness\": \"Less Happy\"}, {\"Country name\": \"Bangladesh\", \"Regional indicator\": \"South Asia\", \"Ladder score\": 5.025, \"Logged GDP per capita\": 8.454, \"Social support\": 0.693, \"Healthy life expectancy\": 64.8, \"Freedom to make life choices\": 0.877, \"Generosity\": -0.041, \"Perceptions of corruption\": 0.682, \"Rank\": 101, \"Happiness\": \"Less Happy\"}, {\"Country name\": \"Guinea\", \"Regional indicator\": \"Sub-Saharan Africa\", \"Ladder score\": 4.984, \"Logged GDP per capita\": 7.838, \"Social support\": 0.639, \"Healthy life expectancy\": 55.008, \"Freedom to make life choices\": 0.697, \"Generosity\": 0.095, \"Perceptions of corruption\": 0.766, \"Rank\": 102, \"Happiness\": \"Less Happy\"}, {\"Country name\": \"South Africa\", \"Regional indicator\": \"Sub-Saharan Africa\", \"Ladder score\": 4.956, \"Logged GDP per capita\": 9.403, \"Social support\": 0.86, \"Healthy life expectancy\": 56.904, \"Freedom to make life choices\": 0.749, \"Generosity\": -0.067, \"Perceptions of corruption\": 0.86, \"Rank\": 103, \"Happiness\": \"Less Happy\"}, {\"Country name\": \"Turkey\", \"Regional indicator\": \"Middle East and North Africa\", \"Ladder score\": 4.948, \"Logged GDP per capita\": 10.24, \"Social support\": 0.822, \"Healthy life expectancy\": 67.199, \"Freedom to make life choices\": 0.576, \"Generosity\": -0.139, \"Perceptions of corruption\": 0.776, \"Rank\": 104, \"Happiness\": \"Less Happy\"}, {\"Country name\": \"Pakistan\", \"Regional indicator\": \"South Asia\", \"Ladder score\": 4.934, \"Logged GDP per capita\": 8.458, \"Social support\": 0.651, \"Healthy life expectancy\": 58.709, \"Freedom to make life choices\": 0.726, \"Generosity\": 0.098, \"Perceptions of corruption\": 0.787, \"Rank\": 105, \"Happiness\": \"Less Happy\"}, {\"Country name\": \"Morocco\", \"Regional indicator\": \"Middle East and North Africa\", \"Ladder score\": 4.918, \"Logged GDP per capita\": 8.903, \"Social support\": 0.56, \"Healthy life expectancy\": 66.208, \"Freedom to make life choices\": 0.774, \"Generosity\": -0.236, \"Perceptions of corruption\": 0.801, \"Rank\": 106, \"Happiness\": \"Less Happy\"}, {\"Country name\": \"Venezuela\", \"Regional indicator\": \"Latin America and Caribbean\", \"Ladder score\": 4.892, \"Logged GDP per capita\": 9.073, \"Social support\": 0.861, \"Healthy life expectancy\": 66.7, \"Freedom to make life choices\": 0.615, \"Generosity\": -0.169, \"Perceptions of corruption\": 0.827, \"Rank\": 107, \"Happiness\": \"Less Happy\"}, {\"Country name\": \"Georgia\", \"Regional indicator\": \"Commonwealth of Independent States\", \"Ladder score\": 4.891, \"Logged GDP per capita\": 9.585, \"Social support\": 0.671, \"Healthy life expectancy\": 64.3, \"Freedom to make life choices\": 0.783, \"Generosity\": -0.238, \"Perceptions of corruption\": 0.655, \"Rank\": 108, \"Happiness\": \"Less Happy\"}, {\"Country name\": \"Algeria\", \"Regional indicator\": \"Middle East and North Africa\", \"Ladder score\": 4.887, \"Logged GDP per capita\": 9.342, \"Social support\": 0.802, \"Healthy life expectancy\": 66.005, \"Freedom to make life choices\": 0.48, \"Generosity\": -0.067, \"Perceptions of corruption\": 0.752, \"Rank\": 109, \"Happiness\": \"Less Happy\"}, {\"Country name\": \"Ukraine\", \"Regional indicator\": \"Commonwealth of Independent States\", \"Ladder score\": 4.875, \"Logged GDP per capita\": 9.436, \"Social support\": 0.888, \"Healthy life expectancy\": 64.902, \"Freedom to make life choices\": 0.724, \"Generosity\": -0.011, \"Perceptions of corruption\": 0.924, \"Rank\": 110, \"Happiness\": \"Less Happy\"}, {\"Country name\": \"Iraq\", \"Regional indicator\": \"Middle East and North Africa\", \"Ladder score\": 4.854, \"Logged GDP per capita\": 9.24, \"Social support\": 0.746, \"Healthy life expectancy\": 60.583, \"Freedom to make life choices\": 0.63, \"Generosity\": -0.053, \"Perceptions of corruption\": 0.875, \"Rank\": 111, \"Happiness\": \"Less Happy\"}, {\"Country name\": \"Gabon\", \"Regional indicator\": \"Sub-Saharan Africa\", \"Ladder score\": 4.852, \"Logged GDP per capita\": 9.603, \"Social support\": 0.776, \"Healthy life expectancy\": 59.962, \"Freedom to make life choices\": 0.731, \"Generosity\": -0.2, \"Perceptions of corruption\": 0.84, \"Rank\": 112, \"Happiness\": \"Not Happy\"}, {\"Country name\": \"Burkina Faso\", \"Regional indicator\": \"Sub-Saharan Africa\", \"Ladder score\": 4.834, \"Logged GDP per capita\": 7.678, \"Social support\": 0.672, \"Healthy life expectancy\": 54.151, \"Freedom to make life choices\": 0.695, \"Generosity\": -0.009, \"Perceptions of corruption\": 0.748, \"Rank\": 113, \"Happiness\": \"Not Happy\"}, {\"Country name\": \"Cambodia\", \"Regional indicator\": \"Southeast Asia\", \"Ladder score\": 4.83, \"Logged GDP per capita\": 8.36, \"Social support\": 0.765, \"Healthy life expectancy\": 62.0, \"Freedom to make life choices\": 0.959, \"Generosity\": 0.034, \"Perceptions of corruption\": 0.843, \"Rank\": 114, \"Happiness\": \"Not Happy\"}, {\"Country name\": \"Mozambique\", \"Regional indicator\": \"Sub-Saharan Africa\", \"Ladder score\": 4.794, \"Logged GDP per capita\": 7.158, \"Social support\": 0.744, \"Healthy life expectancy\": 54.706, \"Freedom to make life choices\": 0.882, \"Generosity\": 0.061, \"Perceptions of corruption\": 0.684, \"Rank\": 115, \"Happiness\": \"Not Happy\"}, {\"Country name\": \"Nigeria\", \"Regional indicator\": \"Sub-Saharan Africa\", \"Ladder score\": 4.759, \"Logged GDP per capita\": 8.533, \"Social support\": 0.74, \"Healthy life expectancy\": 50.102, \"Freedom to make life choices\": 0.737, \"Generosity\": 0.037, \"Perceptions of corruption\": 0.878, \"Rank\": 116, \"Happiness\": \"Not Happy\"}, {\"Country name\": \"Mali\", \"Regional indicator\": \"Sub-Saharan Africa\", \"Ladder score\": 4.723, \"Logged GDP per capita\": 7.744, \"Social support\": 0.724, \"Healthy life expectancy\": 51.969, \"Freedom to make life choices\": 0.697, \"Generosity\": -0.036, \"Perceptions of corruption\": 0.827, \"Rank\": 117, \"Happiness\": \"Not Happy\"}, {\"Country name\": \"Iran\", \"Regional indicator\": \"Middle East and North Africa\", \"Ladder score\": 4.721, \"Logged GDP per capita\": 9.584, \"Social support\": 0.71, \"Healthy life expectancy\": 66.3, \"Freedom to make life choices\": 0.608, \"Generosity\": 0.218, \"Perceptions of corruption\": 0.714, \"Rank\": 118, \"Happiness\": \"Not Happy\"}, {\"Country name\": \"Uganda\", \"Regional indicator\": \"Sub-Saharan Africa\", \"Ladder score\": 4.636, \"Logged GDP per capita\": 7.677, \"Social support\": 0.781, \"Healthy life expectancy\": 56.101, \"Freedom to make life choices\": 0.709, \"Generosity\": 0.122, \"Perceptions of corruption\": 0.855, \"Rank\": 119, \"Happiness\": \"Not Happy\"}, {\"Country name\": \"Liberia\", \"Regional indicator\": \"Sub-Saharan Africa\", \"Ladder score\": 4.625, \"Logged GDP per capita\": 7.288, \"Social support\": 0.72, \"Healthy life expectancy\": 56.498, \"Freedom to make life choices\": 0.735, \"Generosity\": 0.05, \"Perceptions of corruption\": 0.85, \"Rank\": 120, \"Happiness\": \"Not Happy\"}, {\"Country name\": \"Kenya\", \"Regional indicator\": \"Sub-Saharan Africa\", \"Ladder score\": 4.607, \"Logged GDP per capita\": 8.361, \"Social support\": 0.688, \"Healthy life expectancy\": 60.704, \"Freedom to make life choices\": 0.779, \"Generosity\": 0.287, \"Perceptions of corruption\": 0.825, \"Rank\": 121, \"Happiness\": \"Not Happy\"}, {\"Country name\": \"Tunisia\", \"Regional indicator\": \"Middle East and North Africa\", \"Ladder score\": 4.596, \"Logged GDP per capita\": 9.266, \"Social support\": 0.691, \"Healthy life expectancy\": 67.201, \"Freedom to make life choices\": 0.656, \"Generosity\": -0.201, \"Perceptions of corruption\": 0.87, \"Rank\": 122, \"Happiness\": \"Not Happy\"}, {\"Country name\": \"Lebanon\", \"Regional indicator\": \"Middle East and North Africa\", \"Ladder score\": 4.584, \"Logged GDP per capita\": 9.626, \"Social support\": 0.848, \"Healthy life expectancy\": 67.355, \"Freedom to make life choices\": 0.525, \"Generosity\": -0.073, \"Perceptions of corruption\": 0.898, \"Rank\": 123, \"Happiness\": \"Not Happy\"}, {\"Country name\": \"Namibia\", \"Regional indicator\": \"Sub-Saharan Africa\", \"Ladder score\": 4.574, \"Logged GDP per capita\": 9.161, \"Social support\": 0.818, \"Healthy life expectancy\": 56.799, \"Freedom to make life choices\": 0.719, \"Generosity\": -0.149, \"Perceptions of corruption\": 0.847, \"Rank\": 124, \"Happiness\": \"Not Happy\"}, {\"Country name\": \"Palestinian Territories\", \"Regional indicator\": \"Middle East and North Africa\", \"Ladder score\": 4.517, \"Logged GDP per capita\": 8.485, \"Social support\": 0.826, \"Healthy life expectancy\": 62.25, \"Freedom to make life choices\": 0.653, \"Generosity\": -0.163, \"Perceptions of corruption\": 0.821, \"Rank\": 125, \"Happiness\": \"Not Happy\"}, {\"Country name\": \"Myanmar\", \"Regional indicator\": \"Southeast Asia\", \"Ladder score\": 4.426, \"Logged GDP per capita\": 8.541, \"Social support\": 0.779, \"Healthy life expectancy\": 59.302, \"Freedom to make life choices\": 0.876, \"Generosity\": 0.509, \"Perceptions of corruption\": 0.66, \"Rank\": 126, \"Happiness\": \"Not Happy\"}, {\"Country name\": \"Jordan\", \"Regional indicator\": \"Middle East and North Africa\", \"Ladder score\": 4.395, \"Logged GDP per capita\": 9.182, \"Social support\": 0.767, \"Healthy life expectancy\": 67.0, \"Freedom to make life choices\": 0.755, \"Generosity\": -0.167, \"Perceptions of corruption\": 0.705, \"Rank\": 127, \"Happiness\": \"Not Happy\"}, {\"Country name\": \"Chad\", \"Regional indicator\": \"Sub-Saharan Africa\", \"Ladder score\": 4.355, \"Logged GDP per capita\": 7.364, \"Social support\": 0.619, \"Healthy life expectancy\": 48.478, \"Freedom to make life choices\": 0.579, \"Generosity\": 0.041, \"Perceptions of corruption\": 0.807, \"Rank\": 128, \"Happiness\": \"Not Happy\"}, {\"Country name\": \"Sri Lanka\", \"Regional indicator\": \"South Asia\", \"Ladder score\": 4.325, \"Logged GDP per capita\": 9.47, \"Social support\": 0.827, \"Healthy life expectancy\": 67.299, \"Freedom to make life choices\": 0.841, \"Generosity\": 0.079, \"Perceptions of corruption\": 0.863, \"Rank\": 129, \"Happiness\": \"Not Happy\"}, {\"Country name\": \"Swaziland\", \"Regional indicator\": \"Sub-Saharan Africa\", \"Ladder score\": 4.308, \"Logged GDP per capita\": 9.065, \"Social support\": 0.77, \"Healthy life expectancy\": 50.833, \"Freedom to make life choices\": 0.647, \"Generosity\": -0.185, \"Perceptions of corruption\": 0.708, \"Rank\": 130, \"Happiness\": \"Not Happy\"}, {\"Country name\": \"Comoros\", \"Regional indicator\": \"Sub-Saharan Africa\", \"Ladder score\": 4.289, \"Logged GDP per capita\": 8.031, \"Social support\": 0.626, \"Healthy life expectancy\": 57.349, \"Freedom to make life choices\": 0.548, \"Generosity\": 0.082, \"Perceptions of corruption\": 0.781, \"Rank\": 131, \"Happiness\": \"Not Happy\"}, {\"Country name\": \"Egypt\", \"Regional indicator\": \"Middle East and North Africa\", \"Ladder score\": 4.283, \"Logged GDP per capita\": 9.367, \"Social support\": 0.75, \"Healthy life expectancy\": 61.998, \"Freedom to make life choices\": 0.749, \"Generosity\": -0.182, \"Perceptions of corruption\": 0.795, \"Rank\": 132, \"Happiness\": \"Not Happy\"}, {\"Country name\": \"Ethiopia\", \"Regional indicator\": \"Sub-Saharan Africa\", \"Ladder score\": 4.275, \"Logged GDP per capita\": 7.694, \"Social support\": 0.764, \"Healthy life expectancy\": 59.0, \"Freedom to make life choices\": 0.752, \"Generosity\": 0.082, \"Perceptions of corruption\": 0.761, \"Rank\": 133, \"Happiness\": \"Not Happy\"}, {\"Country name\": \"Mauritania\", \"Regional indicator\": \"Sub-Saharan Africa\", \"Ladder score\": 4.227, \"Logged GDP per capita\": 8.542, \"Social support\": 0.795, \"Healthy life expectancy\": 57.161, \"Freedom to make life choices\": 0.561, \"Generosity\": -0.106, \"Perceptions of corruption\": 0.731, \"Rank\": 134, \"Happiness\": \"Not Happy\"}, {\"Country name\": \"Madagascar\", \"Regional indicator\": \"Sub-Saharan Africa\", \"Ladder score\": 4.208, \"Logged GDP per capita\": 7.396, \"Social support\": 0.686, \"Healthy life expectancy\": 59.305, \"Freedom to make life choices\": 0.552, \"Generosity\": -0.005, \"Perceptions of corruption\": 0.803, \"Rank\": 135, \"Happiness\": \"Not Happy\"}, {\"Country name\": \"Togo\", \"Regional indicator\": \"Sub-Saharan Africa\", \"Ladder score\": 4.107, \"Logged GDP per capita\": 7.362, \"Social support\": 0.569, \"Healthy life expectancy\": 54.914, \"Freedom to make life choices\": 0.619, \"Generosity\": 0.032, \"Perceptions of corruption\": 0.772, \"Rank\": 136, \"Happiness\": \"Not Happy\"}, {\"Country name\": \"Zambia\", \"Regional indicator\": \"Sub-Saharan Africa\", \"Ladder score\": 4.073, \"Logged GDP per capita\": 8.145, \"Social support\": 0.708, \"Healthy life expectancy\": 55.809, \"Freedom to make life choices\": 0.782, \"Generosity\": 0.061, \"Perceptions of corruption\": 0.823, \"Rank\": 137, \"Happiness\": \"Not Happy\"}, {\"Country name\": \"Sierra Leone\", \"Regional indicator\": \"Sub-Saharan Africa\", \"Ladder score\": 3.849, \"Logged GDP per capita\": 7.434, \"Social support\": 0.63, \"Healthy life expectancy\": 51.651, \"Freedom to make life choices\": 0.717, \"Generosity\": 0.084, \"Perceptions of corruption\": 0.866, \"Rank\": 138, \"Happiness\": \"Not Happy\"}, {\"Country name\": \"India\", \"Regional indicator\": \"South Asia\", \"Ladder score\": 3.819, \"Logged GDP per capita\": 8.755, \"Social support\": 0.603, \"Healthy life expectancy\": 60.633, \"Freedom to make life choices\": 0.893, \"Generosity\": 0.089, \"Perceptions of corruption\": 0.774, \"Rank\": 139, \"Happiness\": \"Not Happy\"}, {\"Country name\": \"Burundi\", \"Regional indicator\": \"Sub-Saharan Africa\", \"Ladder score\": 3.775, \"Logged GDP per capita\": 6.635, \"Social support\": 0.49, \"Healthy life expectancy\": 53.4, \"Freedom to make life choices\": 0.626, \"Generosity\": -0.024, \"Perceptions of corruption\": 0.607, \"Rank\": 140, \"Happiness\": \"Not Happy\"}, {\"Country name\": \"Yemen\", \"Regional indicator\": \"Middle East and North Africa\", \"Ladder score\": 3.658, \"Logged GDP per capita\": 7.578, \"Social support\": 0.832, \"Healthy life expectancy\": 57.122, \"Freedom to make life choices\": 0.602, \"Generosity\": -0.147, \"Perceptions of corruption\": 0.8, \"Rank\": 141, \"Happiness\": \"Not Happy\"}, {\"Country name\": \"Tanzania\", \"Regional indicator\": \"Sub-Saharan Africa\", \"Ladder score\": 3.623, \"Logged GDP per capita\": 7.876, \"Social support\": 0.702, \"Healthy life expectancy\": 57.999, \"Freedom to make life choices\": 0.833, \"Generosity\": 0.183, \"Perceptions of corruption\": 0.577, \"Rank\": 142, \"Happiness\": \"Not Happy\"}, {\"Country name\": \"Haiti\", \"Regional indicator\": \"Latin America and Caribbean\", \"Ladder score\": 3.615, \"Logged GDP per capita\": 7.477, \"Social support\": 0.54, \"Healthy life expectancy\": 55.7, \"Freedom to make life choices\": 0.593, \"Generosity\": 0.422, \"Perceptions of corruption\": 0.721, \"Rank\": 143, \"Happiness\": \"Not Happy\"}, {\"Country name\": \"Malawi\", \"Regional indicator\": \"Sub-Saharan Africa\", \"Ladder score\": 3.6, \"Logged GDP per capita\": 6.958, \"Social support\": 0.537, \"Healthy life expectancy\": 57.948, \"Freedom to make life choices\": 0.78, \"Generosity\": 0.038, \"Perceptions of corruption\": 0.729, \"Rank\": 144, \"Happiness\": \"Not Happy\"}, {\"Country name\": \"Lesotho\", \"Regional indicator\": \"Sub-Saharan Africa\", \"Ladder score\": 3.512, \"Logged GDP per capita\": 7.926, \"Social support\": 0.787, \"Healthy life expectancy\": 48.7, \"Freedom to make life choices\": 0.715, \"Generosity\": -0.131, \"Perceptions of corruption\": 0.915, \"Rank\": 145, \"Happiness\": \"Not Happy\"}, {\"Country name\": \"Botswana\", \"Regional indicator\": \"Sub-Saharan Africa\", \"Ladder score\": 3.467, \"Logged GDP per capita\": 9.782, \"Social support\": 0.784, \"Healthy life expectancy\": 59.269, \"Freedom to make life choices\": 0.824, \"Generosity\": -0.246, \"Perceptions of corruption\": 0.801, \"Rank\": 146, \"Happiness\": \"Not Happy\"}, {\"Country name\": \"Rwanda\", \"Regional indicator\": \"Sub-Saharan Africa\", \"Ladder score\": 3.415, \"Logged GDP per capita\": 7.676, \"Social support\": 0.552, \"Healthy life expectancy\": 61.4, \"Freedom to make life choices\": 0.897, \"Generosity\": 0.061, \"Perceptions of corruption\": 0.167, \"Rank\": 147, \"Happiness\": \"Not Happy\"}, {\"Country name\": \"Zimbabwe\", \"Regional indicator\": \"Sub-Saharan Africa\", \"Ladder score\": 3.145, \"Logged GDP per capita\": 7.943, \"Social support\": 0.75, \"Healthy life expectancy\": 56.201, \"Freedom to make life choices\": 0.677, \"Generosity\": -0.047, \"Perceptions of corruption\": 0.821, \"Rank\": 148, \"Happiness\": \"Not Happy\"}, {\"Country name\": \"Afghanistan\", \"Regional indicator\": \"South Asia\", \"Ladder score\": 2.523, \"Logged GDP per capita\": 7.695, \"Social support\": 0.463, \"Healthy life expectancy\": 52.493, \"Freedom to make life choices\": 0.382, \"Generosity\": -0.102, \"Perceptions of corruption\": 0.924, \"Rank\": 149, \"Happiness\": \"Not Happy\"}]}}, {\"mode\": \"vega-lite\"});\n",
       "</script>"
      ],
      "text/plain": [
       "alt.HConcatChart(...)"
      ]
     },
     "execution_count": 18,
     "metadata": {},
     "output_type": "execute_result"
    }
   ],
   "source": [
    "alt.hconcat(chart_list[3], chart_list[4], chart_list[5],chart_list[6],chart_list[7],chart_list[8])"
   ]
  },
  {
   "cell_type": "markdown",
   "metadata": {
    "cell_id": "1346d0e9b189454da79fb6e25be97736",
    "deepnote_cell_type": "text-cell-p",
    "formattedRanges": [],
    "is_collapsed": false,
    "tags": []
   },
   "source": [
    "Plotly Bar Chart with region as x axis and average ladder score as y axis"
   ]
  },
  {
   "cell_type": "code",
   "execution_count": 19,
   "metadata": {
    "cell_id": "3f4c94886d024c2f91e41a8aef840f3c",
    "deepnote_cell_type": "code",
    "deepnote_to_be_reexecuted": false,
    "execution_millis": 184,
    "execution_start": 1670290718106,
    "source_hash": "a805629f",
    "tags": []
   },
   "outputs": [
    {
     "data": {
      "text/html": [
       "<html>\n",
       "<head><meta charset=\"utf-8\" /></head>\n",
       "<body>\n",
       "    <div>            <script src=\"https://cdnjs.cloudflare.com/ajax/libs/mathjax/2.7.5/MathJax.js?config=TeX-AMS-MML_SVG\"></script><script type=\"text/javascript\">if (window.MathJax && window.MathJax.Hub && window.MathJax.Hub.Config) {window.MathJax.Hub.Config({SVG: {font: \"STIX-Web\"}});}</script>                <script type=\"text/javascript\">window.PlotlyConfig = {MathJaxConfig: 'local'};</script>\n",
       "        <script src=\"https://cdn.plot.ly/plotly-2.14.0.min.js\"></script>                <div id=\"7296bf27-a48f-4bf0-b7f7-2af93a055876\" class=\"plotly-graph-div\" style=\"height:525px; width:100%;\"></div>            <script type=\"text/javascript\">                                    window.PLOTLYENV=window.PLOTLYENV || {};                                    if (document.getElementById(\"7296bf27-a48f-4bf0-b7f7-2af93a055876\")) {                    Plotly.newPlot(                        \"7296bf27-a48f-4bf0-b7f7-2af93a055876\",                        [{\"alignmentgroup\":\"True\",\"hovertemplate\":\"x=%{x}<br>y=%{y}<extra></extra>\",\"legendgroup\":\"\",\"marker\":{\"color\":\"#636efa\",\"pattern\":{\"shape\":\"\"}},\"name\":\"\",\"offsetgroup\":\"\",\"orientation\":\"v\",\"showlegend\":false,\"textposition\":\"auto\",\"x\":[\"Central and Eastern Europe\",\"Commonwealth of Independent States\",\"East Asia\",\"Latin America and Caribbean\",\"Middle East and North Africa\",\"North America and ANZ\",\"South Asia\",\"Southeast Asia\",\"Sub-Saharan Africa\",\"Western Europe\"],\"xaxis\":\"x\",\"y\":[5.9847647058823545,5.467000000000001,5.810333333333333,5.908049999999999,5.219764705882353,7.128500000000001,4.441857142857143,5.407555555555556,4.494472222222223,6.914904761904763],\"yaxis\":\"y\",\"type\":\"bar\"}],                        {\"template\":{\"data\":{\"histogram2dcontour\":[{\"type\":\"histogram2dcontour\",\"colorbar\":{\"outlinewidth\":0,\"ticks\":\"\"},\"colorscale\":[[0.0,\"#0d0887\"],[0.1111111111111111,\"#46039f\"],[0.2222222222222222,\"#7201a8\"],[0.3333333333333333,\"#9c179e\"],[0.4444444444444444,\"#bd3786\"],[0.5555555555555556,\"#d8576b\"],[0.6666666666666666,\"#ed7953\"],[0.7777777777777778,\"#fb9f3a\"],[0.8888888888888888,\"#fdca26\"],[1.0,\"#f0f921\"]]}],\"choropleth\":[{\"type\":\"choropleth\",\"colorbar\":{\"outlinewidth\":0,\"ticks\":\"\"}}],\"histogram2d\":[{\"type\":\"histogram2d\",\"colorbar\":{\"outlinewidth\":0,\"ticks\":\"\"},\"colorscale\":[[0.0,\"#0d0887\"],[0.1111111111111111,\"#46039f\"],[0.2222222222222222,\"#7201a8\"],[0.3333333333333333,\"#9c179e\"],[0.4444444444444444,\"#bd3786\"],[0.5555555555555556,\"#d8576b\"],[0.6666666666666666,\"#ed7953\"],[0.7777777777777778,\"#fb9f3a\"],[0.8888888888888888,\"#fdca26\"],[1.0,\"#f0f921\"]]}],\"heatmap\":[{\"type\":\"heatmap\",\"colorbar\":{\"outlinewidth\":0,\"ticks\":\"\"},\"colorscale\":[[0.0,\"#0d0887\"],[0.1111111111111111,\"#46039f\"],[0.2222222222222222,\"#7201a8\"],[0.3333333333333333,\"#9c179e\"],[0.4444444444444444,\"#bd3786\"],[0.5555555555555556,\"#d8576b\"],[0.6666666666666666,\"#ed7953\"],[0.7777777777777778,\"#fb9f3a\"],[0.8888888888888888,\"#fdca26\"],[1.0,\"#f0f921\"]]}],\"heatmapgl\":[{\"type\":\"heatmapgl\",\"colorbar\":{\"outlinewidth\":0,\"ticks\":\"\"},\"colorscale\":[[0.0,\"#0d0887\"],[0.1111111111111111,\"#46039f\"],[0.2222222222222222,\"#7201a8\"],[0.3333333333333333,\"#9c179e\"],[0.4444444444444444,\"#bd3786\"],[0.5555555555555556,\"#d8576b\"],[0.6666666666666666,\"#ed7953\"],[0.7777777777777778,\"#fb9f3a\"],[0.8888888888888888,\"#fdca26\"],[1.0,\"#f0f921\"]]}],\"contourcarpet\":[{\"type\":\"contourcarpet\",\"colorbar\":{\"outlinewidth\":0,\"ticks\":\"\"}}],\"contour\":[{\"type\":\"contour\",\"colorbar\":{\"outlinewidth\":0,\"ticks\":\"\"},\"colorscale\":[[0.0,\"#0d0887\"],[0.1111111111111111,\"#46039f\"],[0.2222222222222222,\"#7201a8\"],[0.3333333333333333,\"#9c179e\"],[0.4444444444444444,\"#bd3786\"],[0.5555555555555556,\"#d8576b\"],[0.6666666666666666,\"#ed7953\"],[0.7777777777777778,\"#fb9f3a\"],[0.8888888888888888,\"#fdca26\"],[1.0,\"#f0f921\"]]}],\"surface\":[{\"type\":\"surface\",\"colorbar\":{\"outlinewidth\":0,\"ticks\":\"\"},\"colorscale\":[[0.0,\"#0d0887\"],[0.1111111111111111,\"#46039f\"],[0.2222222222222222,\"#7201a8\"],[0.3333333333333333,\"#9c179e\"],[0.4444444444444444,\"#bd3786\"],[0.5555555555555556,\"#d8576b\"],[0.6666666666666666,\"#ed7953\"],[0.7777777777777778,\"#fb9f3a\"],[0.8888888888888888,\"#fdca26\"],[1.0,\"#f0f921\"]]}],\"mesh3d\":[{\"type\":\"mesh3d\",\"colorbar\":{\"outlinewidth\":0,\"ticks\":\"\"}}],\"scatter\":[{\"fillpattern\":{\"fillmode\":\"overlay\",\"size\":10,\"solidity\":0.2},\"type\":\"scatter\"}],\"parcoords\":[{\"type\":\"parcoords\",\"line\":{\"colorbar\":{\"outlinewidth\":0,\"ticks\":\"\"}}}],\"scatterpolargl\":[{\"type\":\"scatterpolargl\",\"marker\":{\"colorbar\":{\"outlinewidth\":0,\"ticks\":\"\"}}}],\"bar\":[{\"error_x\":{\"color\":\"#2a3f5f\"},\"error_y\":{\"color\":\"#2a3f5f\"},\"marker\":{\"line\":{\"color\":\"#E5ECF6\",\"width\":0.5},\"pattern\":{\"fillmode\":\"overlay\",\"size\":10,\"solidity\":0.2}},\"type\":\"bar\"}],\"scattergeo\":[{\"type\":\"scattergeo\",\"marker\":{\"colorbar\":{\"outlinewidth\":0,\"ticks\":\"\"}}}],\"scatterpolar\":[{\"type\":\"scatterpolar\",\"marker\":{\"colorbar\":{\"outlinewidth\":0,\"ticks\":\"\"}}}],\"histogram\":[{\"marker\":{\"pattern\":{\"fillmode\":\"overlay\",\"size\":10,\"solidity\":0.2}},\"type\":\"histogram\"}],\"scattergl\":[{\"type\":\"scattergl\",\"marker\":{\"colorbar\":{\"outlinewidth\":0,\"ticks\":\"\"}}}],\"scatter3d\":[{\"type\":\"scatter3d\",\"line\":{\"colorbar\":{\"outlinewidth\":0,\"ticks\":\"\"}},\"marker\":{\"colorbar\":{\"outlinewidth\":0,\"ticks\":\"\"}}}],\"scattermapbox\":[{\"type\":\"scattermapbox\",\"marker\":{\"colorbar\":{\"outlinewidth\":0,\"ticks\":\"\"}}}],\"scatterternary\":[{\"type\":\"scatterternary\",\"marker\":{\"colorbar\":{\"outlinewidth\":0,\"ticks\":\"\"}}}],\"scattercarpet\":[{\"type\":\"scattercarpet\",\"marker\":{\"colorbar\":{\"outlinewidth\":0,\"ticks\":\"\"}}}],\"carpet\":[{\"aaxis\":{\"endlinecolor\":\"#2a3f5f\",\"gridcolor\":\"white\",\"linecolor\":\"white\",\"minorgridcolor\":\"white\",\"startlinecolor\":\"#2a3f5f\"},\"baxis\":{\"endlinecolor\":\"#2a3f5f\",\"gridcolor\":\"white\",\"linecolor\":\"white\",\"minorgridcolor\":\"white\",\"startlinecolor\":\"#2a3f5f\"},\"type\":\"carpet\"}],\"table\":[{\"cells\":{\"fill\":{\"color\":\"#EBF0F8\"},\"line\":{\"color\":\"white\"}},\"header\":{\"fill\":{\"color\":\"#C8D4E3\"},\"line\":{\"color\":\"white\"}},\"type\":\"table\"}],\"barpolar\":[{\"marker\":{\"line\":{\"color\":\"#E5ECF6\",\"width\":0.5},\"pattern\":{\"fillmode\":\"overlay\",\"size\":10,\"solidity\":0.2}},\"type\":\"barpolar\"}],\"pie\":[{\"automargin\":true,\"type\":\"pie\"}]},\"layout\":{\"autotypenumbers\":\"strict\",\"colorway\":[\"#636efa\",\"#EF553B\",\"#00cc96\",\"#ab63fa\",\"#FFA15A\",\"#19d3f3\",\"#FF6692\",\"#B6E880\",\"#FF97FF\",\"#FECB52\"],\"font\":{\"color\":\"#2a3f5f\"},\"hovermode\":\"closest\",\"hoverlabel\":{\"align\":\"left\"},\"paper_bgcolor\":\"white\",\"plot_bgcolor\":\"#E5ECF6\",\"polar\":{\"bgcolor\":\"#E5ECF6\",\"angularaxis\":{\"gridcolor\":\"white\",\"linecolor\":\"white\",\"ticks\":\"\"},\"radialaxis\":{\"gridcolor\":\"white\",\"linecolor\":\"white\",\"ticks\":\"\"}},\"ternary\":{\"bgcolor\":\"#E5ECF6\",\"aaxis\":{\"gridcolor\":\"white\",\"linecolor\":\"white\",\"ticks\":\"\"},\"baxis\":{\"gridcolor\":\"white\",\"linecolor\":\"white\",\"ticks\":\"\"},\"caxis\":{\"gridcolor\":\"white\",\"linecolor\":\"white\",\"ticks\":\"\"}},\"coloraxis\":{\"colorbar\":{\"outlinewidth\":0,\"ticks\":\"\"}},\"colorscale\":{\"sequential\":[[0.0,\"#0d0887\"],[0.1111111111111111,\"#46039f\"],[0.2222222222222222,\"#7201a8\"],[0.3333333333333333,\"#9c179e\"],[0.4444444444444444,\"#bd3786\"],[0.5555555555555556,\"#d8576b\"],[0.6666666666666666,\"#ed7953\"],[0.7777777777777778,\"#fb9f3a\"],[0.8888888888888888,\"#fdca26\"],[1.0,\"#f0f921\"]],\"sequentialminus\":[[0.0,\"#0d0887\"],[0.1111111111111111,\"#46039f\"],[0.2222222222222222,\"#7201a8\"],[0.3333333333333333,\"#9c179e\"],[0.4444444444444444,\"#bd3786\"],[0.5555555555555556,\"#d8576b\"],[0.6666666666666666,\"#ed7953\"],[0.7777777777777778,\"#fb9f3a\"],[0.8888888888888888,\"#fdca26\"],[1.0,\"#f0f921\"]],\"diverging\":[[0,\"#8e0152\"],[0.1,\"#c51b7d\"],[0.2,\"#de77ae\"],[0.3,\"#f1b6da\"],[0.4,\"#fde0ef\"],[0.5,\"#f7f7f7\"],[0.6,\"#e6f5d0\"],[0.7,\"#b8e186\"],[0.8,\"#7fbc41\"],[0.9,\"#4d9221\"],[1,\"#276419\"]]},\"xaxis\":{\"gridcolor\":\"white\",\"linecolor\":\"white\",\"ticks\":\"\",\"title\":{\"standoff\":15},\"zerolinecolor\":\"white\",\"automargin\":true,\"zerolinewidth\":2},\"yaxis\":{\"gridcolor\":\"white\",\"linecolor\":\"white\",\"ticks\":\"\",\"title\":{\"standoff\":15},\"zerolinecolor\":\"white\",\"automargin\":true,\"zerolinewidth\":2},\"scene\":{\"xaxis\":{\"backgroundcolor\":\"#E5ECF6\",\"gridcolor\":\"white\",\"linecolor\":\"white\",\"showbackground\":true,\"ticks\":\"\",\"zerolinecolor\":\"white\",\"gridwidth\":2},\"yaxis\":{\"backgroundcolor\":\"#E5ECF6\",\"gridcolor\":\"white\",\"linecolor\":\"white\",\"showbackground\":true,\"ticks\":\"\",\"zerolinecolor\":\"white\",\"gridwidth\":2},\"zaxis\":{\"backgroundcolor\":\"#E5ECF6\",\"gridcolor\":\"white\",\"linecolor\":\"white\",\"showbackground\":true,\"ticks\":\"\",\"zerolinecolor\":\"white\",\"gridwidth\":2}},\"shapedefaults\":{\"line\":{\"color\":\"#2a3f5f\"}},\"annotationdefaults\":{\"arrowcolor\":\"#2a3f5f\",\"arrowhead\":0,\"arrowwidth\":1},\"geo\":{\"bgcolor\":\"white\",\"landcolor\":\"#E5ECF6\",\"subunitcolor\":\"white\",\"showland\":true,\"showlakes\":true,\"lakecolor\":\"white\"},\"title\":{\"x\":0.05},\"mapbox\":{\"style\":\"light\"}}},\"xaxis\":{\"anchor\":\"y\",\"domain\":[0.0,1.0],\"title\":{\"text\":\"x\"}},\"yaxis\":{\"anchor\":\"x\",\"domain\":[0.0,1.0],\"title\":{\"text\":\"y\"}},\"legend\":{\"tracegroupgap\":0},\"margin\":{\"t\":60},\"barmode\":\"relative\"},                        {\"responsive\": true}                    ).then(function(){\n",
       "                            \n",
       "var gd = document.getElementById('7296bf27-a48f-4bf0-b7f7-2af93a055876');\n",
       "var x = new MutationObserver(function (mutations, observer) {{\n",
       "        var display = window.getComputedStyle(gd).display;\n",
       "        if (!display || display === 'none') {{\n",
       "            console.log([gd, 'removed!']);\n",
       "            Plotly.purge(gd);\n",
       "            observer.disconnect();\n",
       "        }}\n",
       "}});\n",
       "\n",
       "// Listen for the removal of the full notebook cells\n",
       "var notebookContainer = gd.closest('#notebook-container');\n",
       "if (notebookContainer) {{\n",
       "    x.observe(notebookContainer, {childList: true});\n",
       "}}\n",
       "\n",
       "// Listen for the clearing of the current output cell\n",
       "var outputEl = gd.closest('.output');\n",
       "if (outputEl) {{\n",
       "    x.observe(outputEl, {childList: true});\n",
       "}}\n",
       "\n",
       "                        })                };                            </script>        </div>\n",
       "</body>\n",
       "</html>"
      ]
     },
     "metadata": {},
     "output_type": "display_data"
    }
   ],
   "source": [
    "import plotly.express as px\n",
    "avg = pd.DataFrame(df.groupby('Regional indicator')['Ladder score'].mean())\n",
    "\n",
    "fig = px.bar(df, x=avg.index, y=avg[\"Ladder score\"])\n",
    "fig.show()"
   ]
  },
  {
   "cell_type": "markdown",
   "metadata": {
    "cell_id": "3d4e6757f37149e99dcd48d5e9f4344b",
    "deepnote_cell_type": "text-cell-p",
    "formattedRanges": [],
    "is_collapsed": false,
    "tags": []
   },
   "source": [
    "After drawing the diagram based on the Regional indicator, Happiness level and Ladder score. By looking at the chart above, we can say that Western Europe and Central and Eastern Europecountries tend to have happier perception of life, Sub-Saharan Africa and South Asia countries tend to have a less happier perception of current life. We can also see that economy, healthy life and social support form a clearer correlation with happiness ladder score compared to other variables.  We see a clearly positive correlation between GDP and Happiness, and between social support and Happiness"
   ]
  },
  {
   "cell_type": "markdown",
   "metadata": {
    "cell_id": "746679a78f074b748e6f72be6c31f771",
    "deepnote_cell_type": "text-cell-h3",
    "formattedRanges": [],
    "is_collapsed": false,
    "tags": []
   },
   "source": [
    "### Clustering the Countries use Standard Scaler and KMeans Clustering"
   ]
  },
  {
   "cell_type": "code",
   "execution_count": 20,
   "metadata": {
    "cell_id": "7168dadb11094992ae9d4e2f1e4ad784",
    "deepnote_cell_type": "code",
    "deepnote_to_be_reexecuted": false,
    "execution_millis": 4053151,
    "execution_start": 1670290718317,
    "source_hash": "a96fb20c",
    "tags": []
   },
   "outputs": [],
   "source": [
    "from sklearn.pipeline import Pipeline\n",
    "from sklearn.preprocessing import StandardScaler\n",
    "from sklearn.cluster import KMeans"
   ]
  },
  {
   "cell_type": "code",
   "execution_count": 21,
   "metadata": {
    "cell_id": "56b862da7f9f46148e4a9ee7d78b1d40",
    "deepnote_cell_type": "code",
    "deepnote_to_be_reexecuted": false,
    "execution_millis": 7,
    "execution_start": 1670290718320,
    "source_hash": "10d4862a",
    "tags": []
   },
   "outputs": [],
   "source": [
    "pipe = Pipeline(\n",
    "    [\n",
    "        (\"scaler\", StandardScaler()),\n",
    "        (\"kmeans\", KMeans(n_clusters=5))\n",
    "    ]\n",
    ")"
   ]
  },
  {
   "cell_type": "code",
   "execution_count": 22,
   "metadata": {
    "cell_id": "d954ab26aeeb4d7087a48145a46ac7b0",
    "deepnote_cell_type": "code",
    "deepnote_to_be_reexecuted": false,
    "execution_millis": 2,
    "execution_start": 1670290718334,
    "source_hash": "5c48f000",
    "tags": []
   },
   "outputs": [],
   "source": [
    "cols0=[\"Ladder score\",\"Logged GDP per capita\",\"Social support\",\"Healthy life expectancy\",\"Freedom to make life choices\",\"Generosity\",\"Perceptions of corruption\"]"
   ]
  },
  {
   "cell_type": "code",
   "execution_count": 23,
   "metadata": {
    "cell_id": "cb025035fb9d4cf5b7ca3fd09a503282",
    "deepnote_cell_type": "code",
    "deepnote_to_be_reexecuted": false,
    "execution_millis": 315,
    "execution_start": 1670290718340,
    "source_hash": "e00f95f6",
    "tags": []
   },
   "outputs": [
    {
     "data": {
      "text/html": [
       "<style>#sk-container-id-1 {color: black;background-color: white;}#sk-container-id-1 pre{padding: 0;}#sk-container-id-1 div.sk-toggleable {background-color: white;}#sk-container-id-1 label.sk-toggleable__label {cursor: pointer;display: block;width: 100%;margin-bottom: 0;padding: 0.3em;box-sizing: border-box;text-align: center;}#sk-container-id-1 label.sk-toggleable__label-arrow:before {content: \"▸\";float: left;margin-right: 0.25em;color: #696969;}#sk-container-id-1 label.sk-toggleable__label-arrow:hover:before {color: black;}#sk-container-id-1 div.sk-estimator:hover label.sk-toggleable__label-arrow:before {color: black;}#sk-container-id-1 div.sk-toggleable__content {max-height: 0;max-width: 0;overflow: hidden;text-align: left;background-color: #f0f8ff;}#sk-container-id-1 div.sk-toggleable__content pre {margin: 0.2em;color: black;border-radius: 0.25em;background-color: #f0f8ff;}#sk-container-id-1 input.sk-toggleable__control:checked~div.sk-toggleable__content {max-height: 200px;max-width: 100%;overflow: auto;}#sk-container-id-1 input.sk-toggleable__control:checked~label.sk-toggleable__label-arrow:before {content: \"▾\";}#sk-container-id-1 div.sk-estimator input.sk-toggleable__control:checked~label.sk-toggleable__label {background-color: #d4ebff;}#sk-container-id-1 div.sk-label input.sk-toggleable__control:checked~label.sk-toggleable__label {background-color: #d4ebff;}#sk-container-id-1 input.sk-hidden--visually {border: 0;clip: rect(1px 1px 1px 1px);clip: rect(1px, 1px, 1px, 1px);height: 1px;margin: -1px;overflow: hidden;padding: 0;position: absolute;width: 1px;}#sk-container-id-1 div.sk-estimator {font-family: monospace;background-color: #f0f8ff;border: 1px dotted black;border-radius: 0.25em;box-sizing: border-box;margin-bottom: 0.5em;}#sk-container-id-1 div.sk-estimator:hover {background-color: #d4ebff;}#sk-container-id-1 div.sk-parallel-item::after {content: \"\";width: 100%;border-bottom: 1px solid gray;flex-grow: 1;}#sk-container-id-1 div.sk-label:hover label.sk-toggleable__label {background-color: #d4ebff;}#sk-container-id-1 div.sk-serial::before {content: \"\";position: absolute;border-left: 1px solid gray;box-sizing: border-box;top: 0;bottom: 0;left: 50%;z-index: 0;}#sk-container-id-1 div.sk-serial {display: flex;flex-direction: column;align-items: center;background-color: white;padding-right: 0.2em;padding-left: 0.2em;position: relative;}#sk-container-id-1 div.sk-item {position: relative;z-index: 1;}#sk-container-id-1 div.sk-parallel {display: flex;align-items: stretch;justify-content: center;background-color: white;position: relative;}#sk-container-id-1 div.sk-item::before, #sk-container-id-1 div.sk-parallel-item::before {content: \"\";position: absolute;border-left: 1px solid gray;box-sizing: border-box;top: 0;bottom: 0;left: 50%;z-index: -1;}#sk-container-id-1 div.sk-parallel-item {display: flex;flex-direction: column;z-index: 1;position: relative;background-color: white;}#sk-container-id-1 div.sk-parallel-item:first-child::after {align-self: flex-end;width: 50%;}#sk-container-id-1 div.sk-parallel-item:last-child::after {align-self: flex-start;width: 50%;}#sk-container-id-1 div.sk-parallel-item:only-child::after {width: 0;}#sk-container-id-1 div.sk-dashed-wrapped {border: 1px dashed gray;margin: 0 0.4em 0.5em 0.4em;box-sizing: border-box;padding-bottom: 0.4em;background-color: white;}#sk-container-id-1 div.sk-label label {font-family: monospace;font-weight: bold;display: inline-block;line-height: 1.2em;}#sk-container-id-1 div.sk-label-container {text-align: center;}#sk-container-id-1 div.sk-container {/* jupyter's `normalize.less` sets `[hidden] { display: none; }` but bootstrap.min.css set `[hidden] { display: none !important; }` so we also need the `!important` here to be able to override the default hidden behavior on the sphinx rendered scikit-learn.org. See: https://github.com/scikit-learn/scikit-learn/issues/21755 */display: inline-block !important;position: relative;}#sk-container-id-1 div.sk-text-repr-fallback {display: none;}</style><div id=\"sk-container-id-1\" class=\"sk-top-container\"><div class=\"sk-text-repr-fallback\"><pre>Pipeline(steps=[(&#x27;scaler&#x27;, StandardScaler()), (&#x27;kmeans&#x27;, KMeans(n_clusters=5))])</pre><b>In a Jupyter environment, please rerun this cell to show the HTML representation or trust the notebook. <br />On GitHub, the HTML representation is unable to render, please try loading this page with nbviewer.org.</b></div><div class=\"sk-container\" hidden><div class=\"sk-item sk-dashed-wrapped\"><div class=\"sk-label-container\"><div class=\"sk-label sk-toggleable\"><input class=\"sk-toggleable__control sk-hidden--visually\" id=\"sk-estimator-id-1\" type=\"checkbox\" ><label for=\"sk-estimator-id-1\" class=\"sk-toggleable__label sk-toggleable__label-arrow\">Pipeline</label><div class=\"sk-toggleable__content\"><pre>Pipeline(steps=[(&#x27;scaler&#x27;, StandardScaler()), (&#x27;kmeans&#x27;, KMeans(n_clusters=5))])</pre></div></div></div><div class=\"sk-serial\"><div class=\"sk-item\"><div class=\"sk-estimator sk-toggleable\"><input class=\"sk-toggleable__control sk-hidden--visually\" id=\"sk-estimator-id-2\" type=\"checkbox\" ><label for=\"sk-estimator-id-2\" class=\"sk-toggleable__label sk-toggleable__label-arrow\">StandardScaler</label><div class=\"sk-toggleable__content\"><pre>StandardScaler()</pre></div></div></div><div class=\"sk-item\"><div class=\"sk-estimator sk-toggleable\"><input class=\"sk-toggleable__control sk-hidden--visually\" id=\"sk-estimator-id-3\" type=\"checkbox\" ><label for=\"sk-estimator-id-3\" class=\"sk-toggleable__label sk-toggleable__label-arrow\">KMeans</label><div class=\"sk-toggleable__content\"><pre>KMeans(n_clusters=5)</pre></div></div></div></div></div></div></div>"
      ],
      "text/plain": [
       "Pipeline(steps=[('scaler', StandardScaler()), ('kmeans', KMeans(n_clusters=5))])"
      ]
     },
     "execution_count": 23,
     "metadata": {},
     "output_type": "execute_result"
    }
   ],
   "source": [
    "pipe.fit(df[cols0])"
   ]
  },
  {
   "cell_type": "code",
   "execution_count": 24,
   "metadata": {
    "cell_id": "0df499c42c10477c8e36805b9496501c",
    "deepnote_cell_type": "code",
    "deepnote_to_be_reexecuted": false,
    "execution_millis": 3,
    "execution_start": 1670290718659,
    "source_hash": "bbc16e2c",
    "tags": []
   },
   "outputs": [],
   "source": [
    "arr=pipe.predict(df[cols0])"
   ]
  },
  {
   "cell_type": "code",
   "execution_count": 25,
   "metadata": {
    "cell_id": "757af15734a54c90954807e57a6e2885",
    "deepnote_cell_type": "code",
    "deepnote_to_be_reexecuted": false,
    "execution_millis": 47,
    "execution_start": 1670290718666,
    "source_hash": "212cbe23",
    "tags": []
   },
   "outputs": [],
   "source": [
    "df[\"cluster\"] = arr"
   ]
  },
  {
   "cell_type": "markdown",
   "metadata": {
    "cell_id": "94657509286742709cf29562fe6dc11b",
    "deepnote_cell_type": "text-cell-h3",
    "formattedRanges": [],
    "is_collapsed": false,
    "tags": []
   },
   "source": [
    "### Scatterplot with Numerical variable as x axis, Ladder score as y axis, with Color Indicating its Cluster"
   ]
  },
  {
   "cell_type": "code",
   "execution_count": 26,
   "metadata": {
    "cell_id": "921bf4e8006d43b4b876bfc10ff3c1d4",
    "deepnote_cell_type": "code",
    "deepnote_to_be_reexecuted": false,
    "execution_millis": 1034,
    "execution_start": 1670290718720,
    "source_hash": "9d65ab3c",
    "tags": []
   },
   "outputs": [],
   "source": [
    "chart_list0 = []\n",
    "for i in df.columns:\n",
    "    e = alt.Chart(df).mark_circle().encode(\n",
    "    x=alt.X(i, scale=alt.Scale(zero=False)),\n",
    "    y = \"Ladder score\",\n",
    "    color=alt.Color(\"cluster:N\", scale=alt.Scale(scheme='blues')),\n",
    "    tooltip=[\"Country name\",\"Logged GDP per capita\",\"Social support\",\"Healthy life expectancy\",\"Freedom to make life choices\",\"Generosity\",\"Perceptions of corruption\"]\n",
    ").properties(\n",
    "    title=f\"{i} VS Happiness Ladder Score with Cluster\"\n",
    ")\n",
    "    chart_list0.append(e)"
   ]
  },
  {
   "cell_type": "code",
   "execution_count": 27,
   "metadata": {
    "cell_id": "eb7e382f5dca4586be2e99d29739e495",
    "deepnote_cell_type": "code",
    "deepnote_to_be_reexecuted": false,
    "execution_millis": 91,
    "execution_start": 1670290719846,
    "source_hash": "5a60ca08",
    "tags": []
   },
   "outputs": [
    {
     "data": {
      "text/html": [
       "\n",
       "<div id=\"altair-viz-414ebbfc153540c6b7e9a3d8314d8d51\"></div>\n",
       "<script type=\"text/javascript\">\n",
       "  var VEGA_DEBUG = (typeof VEGA_DEBUG == \"undefined\") ? {} : VEGA_DEBUG;\n",
       "  (function(spec, embedOpt){\n",
       "    let outputDiv = document.currentScript.previousElementSibling;\n",
       "    if (outputDiv.id !== \"altair-viz-414ebbfc153540c6b7e9a3d8314d8d51\") {\n",
       "      outputDiv = document.getElementById(\"altair-viz-414ebbfc153540c6b7e9a3d8314d8d51\");\n",
       "    }\n",
       "    const paths = {\n",
       "      \"vega\": \"https://cdn.jsdelivr.net/npm//vega@5?noext\",\n",
       "      \"vega-lib\": \"https://cdn.jsdelivr.net/npm//vega-lib?noext\",\n",
       "      \"vega-lite\": \"https://cdn.jsdelivr.net/npm//vega-lite@4.17.0?noext\",\n",
       "      \"vega-embed\": \"https://cdn.jsdelivr.net/npm//vega-embed@6?noext\",\n",
       "    };\n",
       "\n",
       "    function maybeLoadScript(lib, version) {\n",
       "      var key = `${lib.replace(\"-\", \"\")}_version`;\n",
       "      return (VEGA_DEBUG[key] == version) ?\n",
       "        Promise.resolve(paths[lib]) :\n",
       "        new Promise(function(resolve, reject) {\n",
       "          var s = document.createElement('script');\n",
       "          document.getElementsByTagName(\"head\")[0].appendChild(s);\n",
       "          s.async = true;\n",
       "          s.onload = () => {\n",
       "            VEGA_DEBUG[key] = version;\n",
       "            return resolve(paths[lib]);\n",
       "          };\n",
       "          s.onerror = () => reject(`Error loading script: ${paths[lib]}`);\n",
       "          s.src = paths[lib];\n",
       "        });\n",
       "    }\n",
       "\n",
       "    function showError(err) {\n",
       "      outputDiv.innerHTML = `<div class=\"error\" style=\"color:red;\">${err}</div>`;\n",
       "      throw err;\n",
       "    }\n",
       "\n",
       "    function displayChart(vegaEmbed) {\n",
       "      vegaEmbed(outputDiv, spec, embedOpt)\n",
       "        .catch(err => showError(`Javascript Error: ${err.message}<br>This usually means there's a typo in your chart specification. See the javascript console for the full traceback.`));\n",
       "    }\n",
       "\n",
       "    if(typeof define === \"function\" && define.amd) {\n",
       "      requirejs.config({paths});\n",
       "      require([\"vega-embed\"], displayChart, err => showError(`Error loading script: ${err.message}`));\n",
       "    } else {\n",
       "      maybeLoadScript(\"vega\", \"5\")\n",
       "        .then(() => maybeLoadScript(\"vega-lite\", \"4.17.0\"))\n",
       "        .then(() => maybeLoadScript(\"vega-embed\", \"6\"))\n",
       "        .catch(showError)\n",
       "        .then(() => displayChart(vegaEmbed));\n",
       "    }\n",
       "  })({\"config\": {\"view\": {\"continuousWidth\": 400, \"continuousHeight\": 300}}, \"hconcat\": [{\"mark\": \"circle\", \"encoding\": {\"color\": {\"field\": \"cluster\", \"scale\": {\"scheme\": \"blues\"}, \"type\": \"nominal\"}, \"tooltip\": [{\"field\": \"Country name\", \"type\": \"nominal\"}, {\"field\": \"Logged GDP per capita\", \"type\": \"quantitative\"}, {\"field\": \"Social support\", \"type\": \"quantitative\"}, {\"field\": \"Healthy life expectancy\", \"type\": \"quantitative\"}, {\"field\": \"Freedom to make life choices\", \"type\": \"quantitative\"}, {\"field\": \"Generosity\", \"type\": \"quantitative\"}, {\"field\": \"Perceptions of corruption\", \"type\": \"quantitative\"}], \"x\": {\"field\": \"Logged GDP per capita\", \"scale\": {\"zero\": false}, \"type\": \"quantitative\"}, \"y\": {\"field\": \"Ladder score\", \"type\": \"quantitative\"}}, \"title\": \"Logged GDP per capita VS Happiness Ladder Score with Cluster\"}, {\"mark\": \"circle\", \"encoding\": {\"color\": {\"field\": \"cluster\", \"scale\": {\"scheme\": \"blues\"}, \"type\": \"nominal\"}, \"tooltip\": [{\"field\": \"Country name\", \"type\": \"nominal\"}, {\"field\": \"Logged GDP per capita\", \"type\": \"quantitative\"}, {\"field\": \"Social support\", \"type\": \"quantitative\"}, {\"field\": \"Healthy life expectancy\", \"type\": \"quantitative\"}, {\"field\": \"Freedom to make life choices\", \"type\": \"quantitative\"}, {\"field\": \"Generosity\", \"type\": \"quantitative\"}, {\"field\": \"Perceptions of corruption\", \"type\": \"quantitative\"}], \"x\": {\"field\": \"Social support\", \"scale\": {\"zero\": false}, \"type\": \"quantitative\"}, \"y\": {\"field\": \"Ladder score\", \"type\": \"quantitative\"}}, \"title\": \"Social support VS Happiness Ladder Score with Cluster\"}, {\"mark\": \"circle\", \"encoding\": {\"color\": {\"field\": \"cluster\", \"scale\": {\"scheme\": \"blues\"}, \"type\": \"nominal\"}, \"tooltip\": [{\"field\": \"Country name\", \"type\": \"nominal\"}, {\"field\": \"Logged GDP per capita\", \"type\": \"quantitative\"}, {\"field\": \"Social support\", \"type\": \"quantitative\"}, {\"field\": \"Healthy life expectancy\", \"type\": \"quantitative\"}, {\"field\": \"Freedom to make life choices\", \"type\": \"quantitative\"}, {\"field\": \"Generosity\", \"type\": \"quantitative\"}, {\"field\": \"Perceptions of corruption\", \"type\": \"quantitative\"}], \"x\": {\"field\": \"Healthy life expectancy\", \"scale\": {\"zero\": false}, \"type\": \"quantitative\"}, \"y\": {\"field\": \"Ladder score\", \"type\": \"quantitative\"}}, \"title\": \"Healthy life expectancy VS Happiness Ladder Score with Cluster\"}, {\"mark\": \"circle\", \"encoding\": {\"color\": {\"field\": \"cluster\", \"scale\": {\"scheme\": \"blues\"}, \"type\": \"nominal\"}, \"tooltip\": [{\"field\": \"Country name\", \"type\": \"nominal\"}, {\"field\": \"Logged GDP per capita\", \"type\": \"quantitative\"}, {\"field\": \"Social support\", \"type\": \"quantitative\"}, {\"field\": \"Healthy life expectancy\", \"type\": \"quantitative\"}, {\"field\": \"Freedom to make life choices\", \"type\": \"quantitative\"}, {\"field\": \"Generosity\", \"type\": \"quantitative\"}, {\"field\": \"Perceptions of corruption\", \"type\": \"quantitative\"}], \"x\": {\"field\": \"Freedom to make life choices\", \"scale\": {\"zero\": false}, \"type\": \"quantitative\"}, \"y\": {\"field\": \"Ladder score\", \"type\": \"quantitative\"}}, \"title\": \"Freedom to make life choices VS Happiness Ladder Score with Cluster\"}, {\"mark\": \"circle\", \"encoding\": {\"color\": {\"field\": \"cluster\", \"scale\": {\"scheme\": \"blues\"}, \"type\": \"nominal\"}, \"tooltip\": [{\"field\": \"Country name\", \"type\": \"nominal\"}, {\"field\": \"Logged GDP per capita\", \"type\": \"quantitative\"}, {\"field\": \"Social support\", \"type\": \"quantitative\"}, {\"field\": \"Healthy life expectancy\", \"type\": \"quantitative\"}, {\"field\": \"Freedom to make life choices\", \"type\": \"quantitative\"}, {\"field\": \"Generosity\", \"type\": \"quantitative\"}, {\"field\": \"Perceptions of corruption\", \"type\": \"quantitative\"}], \"x\": {\"field\": \"Generosity\", \"scale\": {\"zero\": false}, \"type\": \"quantitative\"}, \"y\": {\"field\": \"Ladder score\", \"type\": \"quantitative\"}}, \"title\": \"Generosity VS Happiness Ladder Score with Cluster\"}, {\"mark\": \"circle\", \"encoding\": {\"color\": {\"field\": \"cluster\", \"scale\": {\"scheme\": \"blues\"}, \"type\": \"nominal\"}, \"tooltip\": [{\"field\": \"Country name\", \"type\": \"nominal\"}, {\"field\": \"Logged GDP per capita\", \"type\": \"quantitative\"}, {\"field\": \"Social support\", \"type\": \"quantitative\"}, {\"field\": \"Healthy life expectancy\", \"type\": \"quantitative\"}, {\"field\": \"Freedom to make life choices\", \"type\": \"quantitative\"}, {\"field\": \"Generosity\", \"type\": \"quantitative\"}, {\"field\": \"Perceptions of corruption\", \"type\": \"quantitative\"}], \"x\": {\"field\": \"Perceptions of corruption\", \"scale\": {\"zero\": false}, \"type\": \"quantitative\"}, \"y\": {\"field\": \"Ladder score\", \"type\": \"quantitative\"}}, \"title\": \"Perceptions of corruption VS Happiness Ladder Score with Cluster\"}], \"data\": {\"name\": \"data-81db39ef52ff686f658349f19f279d73\"}, \"$schema\": \"https://vega.github.io/schema/vega-lite/v4.17.0.json\", \"datasets\": {\"data-81db39ef52ff686f658349f19f279d73\": [{\"Country name\": \"Finland\", \"Regional indicator\": \"Western Europe\", \"Ladder score\": 7.842, \"Logged GDP per capita\": 10.775, \"Social support\": 0.954, \"Healthy life expectancy\": 72.0, \"Freedom to make life choices\": 0.949, \"Generosity\": -0.098, \"Perceptions of corruption\": 0.186, \"Rank\": 1, \"Happiness\": \"Very Happy\", \"cluster\": 4}, {\"Country name\": \"Denmark\", \"Regional indicator\": \"Western Europe\", \"Ladder score\": 7.62, \"Logged GDP per capita\": 10.933, \"Social support\": 0.954, \"Healthy life expectancy\": 72.7, \"Freedom to make life choices\": 0.946, \"Generosity\": 0.03, \"Perceptions of corruption\": 0.179, \"Rank\": 2, \"Happiness\": \"Very Happy\", \"cluster\": 4}, {\"Country name\": \"Switzerland\", \"Regional indicator\": \"Western Europe\", \"Ladder score\": 7.571, \"Logged GDP per capita\": 11.117, \"Social support\": 0.942, \"Healthy life expectancy\": 74.4, \"Freedom to make life choices\": 0.919, \"Generosity\": 0.025, \"Perceptions of corruption\": 0.292, \"Rank\": 3, \"Happiness\": \"Very Happy\", \"cluster\": 4}, {\"Country name\": \"Iceland\", \"Regional indicator\": \"Western Europe\", \"Ladder score\": 7.554, \"Logged GDP per capita\": 10.878, \"Social support\": 0.983, \"Healthy life expectancy\": 73.0, \"Freedom to make life choices\": 0.955, \"Generosity\": 0.16, \"Perceptions of corruption\": 0.673, \"Rank\": 4, \"Happiness\": \"Very Happy\", \"cluster\": 4}, {\"Country name\": \"Netherlands\", \"Regional indicator\": \"Western Europe\", \"Ladder score\": 7.464, \"Logged GDP per capita\": 10.932, \"Social support\": 0.942, \"Healthy life expectancy\": 72.4, \"Freedom to make life choices\": 0.913, \"Generosity\": 0.175, \"Perceptions of corruption\": 0.338, \"Rank\": 5, \"Happiness\": \"Very Happy\", \"cluster\": 4}, {\"Country name\": \"Norway\", \"Regional indicator\": \"Western Europe\", \"Ladder score\": 7.392, \"Logged GDP per capita\": 11.053, \"Social support\": 0.954, \"Healthy life expectancy\": 73.3, \"Freedom to make life choices\": 0.96, \"Generosity\": 0.093, \"Perceptions of corruption\": 0.27, \"Rank\": 6, \"Happiness\": \"Very Happy\", \"cluster\": 4}, {\"Country name\": \"Sweden\", \"Regional indicator\": \"Western Europe\", \"Ladder score\": 7.363, \"Logged GDP per capita\": 10.867, \"Social support\": 0.934, \"Healthy life expectancy\": 72.7, \"Freedom to make life choices\": 0.945, \"Generosity\": 0.086, \"Perceptions of corruption\": 0.237, \"Rank\": 7, \"Happiness\": \"Very Happy\", \"cluster\": 4}, {\"Country name\": \"Luxembourg\", \"Regional indicator\": \"Western Europe\", \"Ladder score\": 7.324, \"Logged GDP per capita\": 11.647, \"Social support\": 0.908, \"Healthy life expectancy\": 72.6, \"Freedom to make life choices\": 0.907, \"Generosity\": -0.034, \"Perceptions of corruption\": 0.386, \"Rank\": 8, \"Happiness\": \"Very Happy\", \"cluster\": 4}, {\"Country name\": \"New Zealand\", \"Regional indicator\": \"North America and ANZ\", \"Ladder score\": 7.277, \"Logged GDP per capita\": 10.643, \"Social support\": 0.948, \"Healthy life expectancy\": 73.4, \"Freedom to make life choices\": 0.929, \"Generosity\": 0.134, \"Perceptions of corruption\": 0.242, \"Rank\": 9, \"Happiness\": \"Very Happy\", \"cluster\": 4}, {\"Country name\": \"Austria\", \"Regional indicator\": \"Western Europe\", \"Ladder score\": 7.268, \"Logged GDP per capita\": 10.906, \"Social support\": 0.934, \"Healthy life expectancy\": 73.3, \"Freedom to make life choices\": 0.908, \"Generosity\": 0.042, \"Perceptions of corruption\": 0.481, \"Rank\": 10, \"Happiness\": \"Very Happy\", \"cluster\": 4}, {\"Country name\": \"Australia\", \"Regional indicator\": \"North America and ANZ\", \"Ladder score\": 7.183, \"Logged GDP per capita\": 10.796, \"Social support\": 0.94, \"Healthy life expectancy\": 73.9, \"Freedom to make life choices\": 0.914, \"Generosity\": 0.159, \"Perceptions of corruption\": 0.442, \"Rank\": 11, \"Happiness\": \"Very Happy\", \"cluster\": 4}, {\"Country name\": \"Israel\", \"Regional indicator\": \"Middle East and North Africa\", \"Ladder score\": 7.157, \"Logged GDP per capita\": 10.575, \"Social support\": 0.939, \"Healthy life expectancy\": 73.503, \"Freedom to make life choices\": 0.8, \"Generosity\": 0.031, \"Perceptions of corruption\": 0.753, \"Rank\": 12, \"Happiness\": \"Very Happy\", \"cluster\": 0}, {\"Country name\": \"Germany\", \"Regional indicator\": \"Western Europe\", \"Ladder score\": 7.155, \"Logged GDP per capita\": 10.873, \"Social support\": 0.903, \"Healthy life expectancy\": 72.5, \"Freedom to make life choices\": 0.875, \"Generosity\": 0.011, \"Perceptions of corruption\": 0.46, \"Rank\": 13, \"Happiness\": \"Very Happy\", \"cluster\": 4}, {\"Country name\": \"Canada\", \"Regional indicator\": \"North America and ANZ\", \"Ladder score\": 7.103, \"Logged GDP per capita\": 10.776, \"Social support\": 0.926, \"Healthy life expectancy\": 73.8, \"Freedom to make life choices\": 0.915, \"Generosity\": 0.089, \"Perceptions of corruption\": 0.415, \"Rank\": 14, \"Happiness\": \"Very Happy\", \"cluster\": 4}, {\"Country name\": \"Ireland\", \"Regional indicator\": \"Western Europe\", \"Ladder score\": 7.085, \"Logged GDP per capita\": 11.342, \"Social support\": 0.947, \"Healthy life expectancy\": 72.4, \"Freedom to make life choices\": 0.879, \"Generosity\": 0.077, \"Perceptions of corruption\": 0.363, \"Rank\": 15, \"Happiness\": \"Very Happy\", \"cluster\": 4}, {\"Country name\": \"Costa Rica\", \"Regional indicator\": \"Latin America and Caribbean\", \"Ladder score\": 7.069, \"Logged GDP per capita\": 9.88, \"Social support\": 0.891, \"Healthy life expectancy\": 71.4, \"Freedom to make life choices\": 0.934, \"Generosity\": -0.126, \"Perceptions of corruption\": 0.809, \"Rank\": 16, \"Happiness\": \"Very Happy\", \"cluster\": 0}, {\"Country name\": \"United Kingdom\", \"Regional indicator\": \"Western Europe\", \"Ladder score\": 7.064, \"Logged GDP per capita\": 10.707, \"Social support\": 0.934, \"Healthy life expectancy\": 72.5, \"Freedom to make life choices\": 0.859, \"Generosity\": 0.233, \"Perceptions of corruption\": 0.459, \"Rank\": 17, \"Happiness\": \"Very Happy\", \"cluster\": 4}, {\"Country name\": \"Czech Republic\", \"Regional indicator\": \"Central and Eastern Europe\", \"Ladder score\": 6.965, \"Logged GDP per capita\": 10.556, \"Social support\": 0.947, \"Healthy life expectancy\": 70.807, \"Freedom to make life choices\": 0.858, \"Generosity\": -0.208, \"Perceptions of corruption\": 0.868, \"Rank\": 18, \"Happiness\": \"Very Happy\", \"cluster\": 0}, {\"Country name\": \"United States\", \"Regional indicator\": \"North America and ANZ\", \"Ladder score\": 6.951, \"Logged GDP per capita\": 11.023, \"Social support\": 0.92, \"Healthy life expectancy\": 68.2, \"Freedom to make life choices\": 0.837, \"Generosity\": 0.098, \"Perceptions of corruption\": 0.698, \"Rank\": 19, \"Happiness\": \"Very Happy\", \"cluster\": 0}, {\"Country name\": \"Belgium\", \"Regional indicator\": \"Western Europe\", \"Ladder score\": 6.834, \"Logged GDP per capita\": 10.823, \"Social support\": 0.906, \"Healthy life expectancy\": 72.199, \"Freedom to make life choices\": 0.783, \"Generosity\": -0.153, \"Perceptions of corruption\": 0.646, \"Rank\": 20, \"Happiness\": \"Very Happy\", \"cluster\": 0}, {\"Country name\": \"France\", \"Regional indicator\": \"Western Europe\", \"Ladder score\": 6.69, \"Logged GDP per capita\": 10.704, \"Social support\": 0.942, \"Healthy life expectancy\": 74.0, \"Freedom to make life choices\": 0.822, \"Generosity\": -0.147, \"Perceptions of corruption\": 0.571, \"Rank\": 21, \"Happiness\": \"Very Happy\", \"cluster\": 0}, {\"Country name\": \"Bahrain\", \"Regional indicator\": \"Middle East and North Africa\", \"Ladder score\": 6.647, \"Logged GDP per capita\": 10.669, \"Social support\": 0.862, \"Healthy life expectancy\": 69.495, \"Freedom to make life choices\": 0.925, \"Generosity\": 0.089, \"Perceptions of corruption\": 0.722, \"Rank\": 22, \"Happiness\": \"Very Happy\", \"cluster\": 0}, {\"Country name\": \"Malta\", \"Regional indicator\": \"Western Europe\", \"Ladder score\": 6.602, \"Logged GDP per capita\": 10.674, \"Social support\": 0.931, \"Healthy life expectancy\": 72.2, \"Freedom to make life choices\": 0.927, \"Generosity\": 0.133, \"Perceptions of corruption\": 0.653, \"Rank\": 23, \"Happiness\": \"Very Happy\", \"cluster\": 4}, {\"Country name\": \"Taiwan Province of China\", \"Regional indicator\": \"East Asia\", \"Ladder score\": 6.584, \"Logged GDP per capita\": 10.871, \"Social support\": 0.898, \"Healthy life expectancy\": 69.6, \"Freedom to make life choices\": 0.784, \"Generosity\": -0.07, \"Perceptions of corruption\": 0.721, \"Rank\": 24, \"Happiness\": \"Very Happy\", \"cluster\": 0}, {\"Country name\": \"United Arab Emirates\", \"Regional indicator\": \"Middle East and North Africa\", \"Ladder score\": 6.561, \"Logged GDP per capita\": 11.085, \"Social support\": 0.844, \"Healthy life expectancy\": 67.333, \"Freedom to make life choices\": 0.932, \"Generosity\": 0.074, \"Perceptions of corruption\": 0.589, \"Rank\": 25, \"Happiness\": \"Very Happy\", \"cluster\": 4}, {\"Country name\": \"Saudi Arabia\", \"Regional indicator\": \"Middle East and North Africa\", \"Ladder score\": 6.494, \"Logged GDP per capita\": 10.743, \"Social support\": 0.891, \"Healthy life expectancy\": 66.603, \"Freedom to make life choices\": 0.877, \"Generosity\": -0.149, \"Perceptions of corruption\": 0.684, \"Rank\": 26, \"Happiness\": \"Very Happy\", \"cluster\": 0}, {\"Country name\": \"Spain\", \"Regional indicator\": \"Western Europe\", \"Ladder score\": 6.491, \"Logged GDP per capita\": 10.571, \"Social support\": 0.932, \"Healthy life expectancy\": 74.7, \"Freedom to make life choices\": 0.761, \"Generosity\": -0.081, \"Perceptions of corruption\": 0.745, \"Rank\": 27, \"Happiness\": \"Very Happy\", \"cluster\": 0}, {\"Country name\": \"Italy\", \"Regional indicator\": \"Western Europe\", \"Ladder score\": 6.483, \"Logged GDP per capita\": 10.623, \"Social support\": 0.88, \"Healthy life expectancy\": 73.8, \"Freedom to make life choices\": 0.693, \"Generosity\": -0.084, \"Perceptions of corruption\": 0.866, \"Rank\": 28, \"Happiness\": \"Very Happy\", \"cluster\": 0}, {\"Country name\": \"Slovenia\", \"Regional indicator\": \"Central and Eastern Europe\", \"Ladder score\": 6.461, \"Logged GDP per capita\": 10.529, \"Social support\": 0.948, \"Healthy life expectancy\": 71.4, \"Freedom to make life choices\": 0.949, \"Generosity\": -0.101, \"Perceptions of corruption\": 0.806, \"Rank\": 29, \"Happiness\": \"Very Happy\", \"cluster\": 0}, {\"Country name\": \"Guatemala\", \"Regional indicator\": \"Latin America and Caribbean\", \"Ladder score\": 6.435, \"Logged GDP per capita\": 9.053, \"Social support\": 0.813, \"Healthy life expectancy\": 64.958, \"Freedom to make life choices\": 0.906, \"Generosity\": -0.038, \"Perceptions of corruption\": 0.775, \"Rank\": 30, \"Happiness\": \"Very Happy\", \"cluster\": 0}, {\"Country name\": \"Uruguay\", \"Regional indicator\": \"Latin America and Caribbean\", \"Ladder score\": 6.431, \"Logged GDP per capita\": 9.966, \"Social support\": 0.925, \"Healthy life expectancy\": 69.1, \"Freedom to make life choices\": 0.896, \"Generosity\": -0.092, \"Perceptions of corruption\": 0.59, \"Rank\": 31, \"Happiness\": \"Very Happy\", \"cluster\": 0}, {\"Country name\": \"Singapore\", \"Regional indicator\": \"Southeast Asia\", \"Ladder score\": 6.377, \"Logged GDP per capita\": 11.488, \"Social support\": 0.915, \"Healthy life expectancy\": 76.953, \"Freedom to make life choices\": 0.927, \"Generosity\": -0.018, \"Perceptions of corruption\": 0.082, \"Rank\": 32, \"Happiness\": \"Very Happy\", \"cluster\": 4}, {\"Country name\": \"Kosovo\", \"Regional indicator\": \"Central and Eastern Europe\", \"Ladder score\": 6.372, \"Logged GDP per capita\": 9.318, \"Social support\": 0.821, \"Healthy life expectancy\": 63.813, \"Freedom to make life choices\": 0.869, \"Generosity\": 0.257, \"Perceptions of corruption\": 0.917, \"Rank\": 33, \"Happiness\": \"Very Happy\", \"cluster\": 2}, {\"Country name\": \"Slovakia\", \"Regional indicator\": \"Central and Eastern Europe\", \"Ladder score\": 6.331, \"Logged GDP per capita\": 10.369, \"Social support\": 0.936, \"Healthy life expectancy\": 69.201, \"Freedom to make life choices\": 0.766, \"Generosity\": -0.124, \"Perceptions of corruption\": 0.911, \"Rank\": 34, \"Happiness\": \"Very Happy\", \"cluster\": 0}, {\"Country name\": \"Brazil\", \"Regional indicator\": \"Latin America and Caribbean\", \"Ladder score\": 6.33, \"Logged GDP per capita\": 9.577, \"Social support\": 0.882, \"Healthy life expectancy\": 66.601, \"Freedom to make life choices\": 0.804, \"Generosity\": -0.071, \"Perceptions of corruption\": 0.756, \"Rank\": 35, \"Happiness\": \"Very Happy\", \"cluster\": 0}, {\"Country name\": \"Mexico\", \"Regional indicator\": \"Latin America and Caribbean\", \"Ladder score\": 6.317, \"Logged GDP per capita\": 9.859, \"Social support\": 0.831, \"Healthy life expectancy\": 68.597, \"Freedom to make life choices\": 0.862, \"Generosity\": -0.147, \"Perceptions of corruption\": 0.799, \"Rank\": 36, \"Happiness\": \"Very Happy\", \"cluster\": 0}, {\"Country name\": \"Jamaica\", \"Regional indicator\": \"Latin America and Caribbean\", \"Ladder score\": 6.309, \"Logged GDP per capita\": 9.186, \"Social support\": 0.877, \"Healthy life expectancy\": 67.5, \"Freedom to make life choices\": 0.89, \"Generosity\": -0.137, \"Perceptions of corruption\": 0.884, \"Rank\": 37, \"Happiness\": \"Very Happy\", \"cluster\": 0}, {\"Country name\": \"Lithuania\", \"Regional indicator\": \"Central and Eastern Europe\", \"Ladder score\": 6.255, \"Logged GDP per capita\": 10.499, \"Social support\": 0.935, \"Healthy life expectancy\": 67.906, \"Freedom to make life choices\": 0.773, \"Generosity\": -0.203, \"Perceptions of corruption\": 0.826, \"Rank\": 38, \"Happiness\": \"Very Happy\", \"cluster\": 0}, {\"Country name\": \"Cyprus\", \"Regional indicator\": \"Western Europe\", \"Ladder score\": 6.223, \"Logged GDP per capita\": 10.576, \"Social support\": 0.802, \"Healthy life expectancy\": 73.898, \"Freedom to make life choices\": 0.763, \"Generosity\": -0.015, \"Perceptions of corruption\": 0.844, \"Rank\": 39, \"Happiness\": \"Happy\", \"cluster\": 0}, {\"Country name\": \"Estonia\", \"Regional indicator\": \"Central and Eastern Europe\", \"Ladder score\": 6.189, \"Logged GDP per capita\": 10.481, \"Social support\": 0.941, \"Healthy life expectancy\": 68.8, \"Freedom to make life choices\": 0.909, \"Generosity\": -0.106, \"Perceptions of corruption\": 0.527, \"Rank\": 40, \"Happiness\": \"Happy\", \"cluster\": 0}, {\"Country name\": \"Panama\", \"Regional indicator\": \"Latin America and Caribbean\", \"Ladder score\": 6.18, \"Logged GDP per capita\": 10.35, \"Social support\": 0.896, \"Healthy life expectancy\": 69.652, \"Freedom to make life choices\": 0.872, \"Generosity\": -0.166, \"Perceptions of corruption\": 0.856, \"Rank\": 41, \"Happiness\": \"Happy\", \"cluster\": 0}, {\"Country name\": \"Uzbekistan\", \"Regional indicator\": \"Commonwealth of Independent States\", \"Ladder score\": 6.179, \"Logged GDP per capita\": 8.836, \"Social support\": 0.918, \"Healthy life expectancy\": 65.255, \"Freedom to make life choices\": 0.97, \"Generosity\": 0.311, \"Perceptions of corruption\": 0.515, \"Rank\": 42, \"Happiness\": \"Happy\", \"cluster\": 2}, {\"Country name\": \"Chile\", \"Regional indicator\": \"Latin America and Caribbean\", \"Ladder score\": 6.172, \"Logged GDP per capita\": 10.071, \"Social support\": 0.882, \"Healthy life expectancy\": 70.0, \"Freedom to make life choices\": 0.742, \"Generosity\": -0.044, \"Perceptions of corruption\": 0.83, \"Rank\": 43, \"Happiness\": \"Happy\", \"cluster\": 0}, {\"Country name\": \"Poland\", \"Regional indicator\": \"Central and Eastern Europe\", \"Ladder score\": 6.166, \"Logged GDP per capita\": 10.382, \"Social support\": 0.898, \"Healthy life expectancy\": 69.702, \"Freedom to make life choices\": 0.841, \"Generosity\": -0.165, \"Perceptions of corruption\": 0.735, \"Rank\": 44, \"Happiness\": \"Happy\", \"cluster\": 0}, {\"Country name\": \"Kazakhstan\", \"Regional indicator\": \"Commonwealth of Independent States\", \"Ladder score\": 6.152, \"Logged GDP per capita\": 10.155, \"Social support\": 0.952, \"Healthy life expectancy\": 65.2, \"Freedom to make life choices\": 0.853, \"Generosity\": -0.069, \"Perceptions of corruption\": 0.733, \"Rank\": 45, \"Happiness\": \"Happy\", \"cluster\": 0}, {\"Country name\": \"Romania\", \"Regional indicator\": \"Central and Eastern Europe\", \"Ladder score\": 6.14, \"Logged GDP per capita\": 10.284, \"Social support\": 0.832, \"Healthy life expectancy\": 67.355, \"Freedom to make life choices\": 0.845, \"Generosity\": -0.219, \"Perceptions of corruption\": 0.938, \"Rank\": 46, \"Happiness\": \"Happy\", \"cluster\": 0}, {\"Country name\": \"Kuwait\", \"Regional indicator\": \"Middle East and North Africa\", \"Ladder score\": 6.106, \"Logged GDP per capita\": 10.817, \"Social support\": 0.843, \"Healthy life expectancy\": 66.9, \"Freedom to make life choices\": 0.867, \"Generosity\": -0.104, \"Perceptions of corruption\": 0.736, \"Rank\": 47, \"Happiness\": \"Happy\", \"cluster\": 0}, {\"Country name\": \"Serbia\", \"Regional indicator\": \"Central and Eastern Europe\", \"Ladder score\": 6.078, \"Logged GDP per capita\": 9.787, \"Social support\": 0.873, \"Healthy life expectancy\": 68.6, \"Freedom to make life choices\": 0.778, \"Generosity\": 0.002, \"Perceptions of corruption\": 0.835, \"Rank\": 48, \"Happiness\": \"Happy\", \"cluster\": 0}, {\"Country name\": \"El Salvador\", \"Regional indicator\": \"Latin America and Caribbean\", \"Ladder score\": 6.061, \"Logged GDP per capita\": 9.054, \"Social support\": 0.762, \"Healthy life expectancy\": 66.402, \"Freedom to make life choices\": 0.888, \"Generosity\": -0.11, \"Perceptions of corruption\": 0.688, \"Rank\": 49, \"Happiness\": \"Happy\", \"cluster\": 0}, {\"Country name\": \"Mauritius\", \"Regional indicator\": \"Sub-Saharan Africa\", \"Ladder score\": 6.049, \"Logged GDP per capita\": 10.008, \"Social support\": 0.905, \"Healthy life expectancy\": 66.701, \"Freedom to make life choices\": 0.867, \"Generosity\": -0.054, \"Perceptions of corruption\": 0.789, \"Rank\": 50, \"Happiness\": \"Happy\", \"cluster\": 0}, {\"Country name\": \"Latvia\", \"Regional indicator\": \"Central and Eastern Europe\", \"Ladder score\": 6.032, \"Logged GDP per capita\": 10.315, \"Social support\": 0.927, \"Healthy life expectancy\": 67.1, \"Freedom to make life choices\": 0.715, \"Generosity\": -0.162, \"Perceptions of corruption\": 0.8, \"Rank\": 51, \"Happiness\": \"Happy\", \"cluster\": 0}, {\"Country name\": \"Colombia\", \"Regional indicator\": \"Latin America and Caribbean\", \"Ladder score\": 6.012, \"Logged GDP per capita\": 9.557, \"Social support\": 0.847, \"Healthy life expectancy\": 68.001, \"Freedom to make life choices\": 0.837, \"Generosity\": -0.135, \"Perceptions of corruption\": 0.841, \"Rank\": 52, \"Happiness\": \"Happy\", \"cluster\": 0}, {\"Country name\": \"Hungary\", \"Regional indicator\": \"Central and Eastern Europe\", \"Ladder score\": 5.992, \"Logged GDP per capita\": 10.358, \"Social support\": 0.943, \"Healthy life expectancy\": 68.0, \"Freedom to make life choices\": 0.755, \"Generosity\": -0.186, \"Perceptions of corruption\": 0.876, \"Rank\": 53, \"Happiness\": \"Happy\", \"cluster\": 0}, {\"Country name\": \"Thailand\", \"Regional indicator\": \"Southeast Asia\", \"Ladder score\": 5.985, \"Logged GDP per capita\": 9.805, \"Social support\": 0.888, \"Healthy life expectancy\": 67.401, \"Freedom to make life choices\": 0.884, \"Generosity\": 0.287, \"Perceptions of corruption\": 0.895, \"Rank\": 54, \"Happiness\": \"Happy\", \"cluster\": 2}, {\"Country name\": \"Nicaragua\", \"Regional indicator\": \"Latin America and Caribbean\", \"Ladder score\": 5.972, \"Logged GDP per capita\": 8.62, \"Social support\": 0.864, \"Healthy life expectancy\": 67.657, \"Freedom to make life choices\": 0.836, \"Generosity\": 0.02, \"Perceptions of corruption\": 0.664, \"Rank\": 55, \"Happiness\": \"Happy\", \"cluster\": 2}, {\"Country name\": \"Japan\", \"Regional indicator\": \"East Asia\", \"Ladder score\": 5.94, \"Logged GDP per capita\": 10.611, \"Social support\": 0.884, \"Healthy life expectancy\": 75.1, \"Freedom to make life choices\": 0.796, \"Generosity\": -0.258, \"Perceptions of corruption\": 0.638, \"Rank\": 56, \"Happiness\": \"Happy\", \"cluster\": 0}, {\"Country name\": \"Argentina\", \"Regional indicator\": \"Latin America and Caribbean\", \"Ladder score\": 5.929, \"Logged GDP per capita\": 9.962, \"Social support\": 0.898, \"Healthy life expectancy\": 69.0, \"Freedom to make life choices\": 0.828, \"Generosity\": -0.182, \"Perceptions of corruption\": 0.834, \"Rank\": 57, \"Happiness\": \"Happy\", \"cluster\": 0}, {\"Country name\": \"Portugal\", \"Regional indicator\": \"Western Europe\", \"Ladder score\": 5.929, \"Logged GDP per capita\": 10.421, \"Social support\": 0.879, \"Healthy life expectancy\": 72.6, \"Freedom to make life choices\": 0.892, \"Generosity\": -0.244, \"Perceptions of corruption\": 0.887, \"Rank\": 58, \"Happiness\": \"Happy\", \"cluster\": 0}, {\"Country name\": \"Honduras\", \"Regional indicator\": \"Latin America and Caribbean\", \"Ladder score\": 5.919, \"Logged GDP per capita\": 8.648, \"Social support\": 0.812, \"Healthy life expectancy\": 67.3, \"Freedom to make life choices\": 0.857, \"Generosity\": 0.081, \"Perceptions of corruption\": 0.809, \"Rank\": 59, \"Happiness\": \"Happy\", \"cluster\": 2}, {\"Country name\": \"Croatia\", \"Regional indicator\": \"Central and Eastern Europe\", \"Ladder score\": 5.882, \"Logged GDP per capita\": 10.217, \"Social support\": 0.924, \"Healthy life expectancy\": 70.799, \"Freedom to make life choices\": 0.754, \"Generosity\": -0.118, \"Perceptions of corruption\": 0.939, \"Rank\": 60, \"Happiness\": \"Happy\", \"cluster\": 0}, {\"Country name\": \"Philippines\", \"Regional indicator\": \"Southeast Asia\", \"Ladder score\": 5.88, \"Logged GDP per capita\": 9.076, \"Social support\": 0.83, \"Healthy life expectancy\": 62.0, \"Freedom to make life choices\": 0.917, \"Generosity\": -0.097, \"Perceptions of corruption\": 0.742, \"Rank\": 61, \"Happiness\": \"Happy\", \"cluster\": 0}, {\"Country name\": \"South Korea\", \"Regional indicator\": \"East Asia\", \"Ladder score\": 5.845, \"Logged GDP per capita\": 10.651, \"Social support\": 0.799, \"Healthy life expectancy\": 73.9, \"Freedom to make life choices\": 0.672, \"Generosity\": -0.083, \"Perceptions of corruption\": 0.727, \"Rank\": 62, \"Happiness\": \"Happy\", \"cluster\": 0}, {\"Country name\": \"Peru\", \"Regional indicator\": \"Latin America and Caribbean\", \"Ladder score\": 5.84, \"Logged GDP per capita\": 9.458, \"Social support\": 0.832, \"Healthy life expectancy\": 68.25, \"Freedom to make life choices\": 0.822, \"Generosity\": -0.154, \"Perceptions of corruption\": 0.891, \"Rank\": 63, \"Happiness\": \"Happy\", \"cluster\": 0}, {\"Country name\": \"Bosnia and Herzegovina\", \"Regional indicator\": \"Central and Eastern Europe\", \"Ladder score\": 5.813, \"Logged GDP per capita\": 9.59, \"Social support\": 0.87, \"Healthy life expectancy\": 68.098, \"Freedom to make life choices\": 0.706, \"Generosity\": 0.113, \"Perceptions of corruption\": 0.931, \"Rank\": 64, \"Happiness\": \"Happy\", \"cluster\": 2}, {\"Country name\": \"Moldova\", \"Regional indicator\": \"Commonwealth of Independent States\", \"Ladder score\": 5.766, \"Logged GDP per capita\": 9.454, \"Social support\": 0.857, \"Healthy life expectancy\": 65.699, \"Freedom to make life choices\": 0.822, \"Generosity\": -0.079, \"Perceptions of corruption\": 0.918, \"Rank\": 65, \"Happiness\": \"Happy\", \"cluster\": 0}, {\"Country name\": \"Ecuador\", \"Regional indicator\": \"Latin America and Caribbean\", \"Ladder score\": 5.764, \"Logged GDP per capita\": 9.313, \"Social support\": 0.821, \"Healthy life expectancy\": 68.8, \"Freedom to make life choices\": 0.842, \"Generosity\": -0.124, \"Perceptions of corruption\": 0.843, \"Rank\": 66, \"Happiness\": \"Happy\", \"cluster\": 0}, {\"Country name\": \"Kyrgyzstan\", \"Regional indicator\": \"Commonwealth of Independent States\", \"Ladder score\": 5.744, \"Logged GDP per capita\": 8.538, \"Social support\": 0.893, \"Healthy life expectancy\": 64.401, \"Freedom to make life choices\": 0.935, \"Generosity\": 0.119, \"Perceptions of corruption\": 0.908, \"Rank\": 67, \"Happiness\": \"Happy\", \"cluster\": 2}, {\"Country name\": \"Greece\", \"Regional indicator\": \"Western Europe\", \"Ladder score\": 5.723, \"Logged GDP per capita\": 10.279, \"Social support\": 0.823, \"Healthy life expectancy\": 72.6, \"Freedom to make life choices\": 0.582, \"Generosity\": -0.288, \"Perceptions of corruption\": 0.823, \"Rank\": 68, \"Happiness\": \"Happy\", \"cluster\": 1}, {\"Country name\": \"Bolivia\", \"Regional indicator\": \"Latin America and Caribbean\", \"Ladder score\": 5.716, \"Logged GDP per capita\": 9.046, \"Social support\": 0.81, \"Healthy life expectancy\": 63.901, \"Freedom to make life choices\": 0.875, \"Generosity\": -0.077, \"Perceptions of corruption\": 0.839, \"Rank\": 69, \"Happiness\": \"Happy\", \"cluster\": 0}, {\"Country name\": \"Mongolia\", \"Regional indicator\": \"East Asia\", \"Ladder score\": 5.677, \"Logged GDP per capita\": 9.4, \"Social support\": 0.935, \"Healthy life expectancy\": 62.5, \"Freedom to make life choices\": 0.708, \"Generosity\": 0.116, \"Perceptions of corruption\": 0.856, \"Rank\": 70, \"Happiness\": \"Happy\", \"cluster\": 2}, {\"Country name\": \"Paraguay\", \"Regional indicator\": \"Latin America and Caribbean\", \"Ladder score\": 5.653, \"Logged GDP per capita\": 9.448, \"Social support\": 0.893, \"Healthy life expectancy\": 65.9, \"Freedom to make life choices\": 0.876, \"Generosity\": 0.028, \"Perceptions of corruption\": 0.882, \"Rank\": 71, \"Happiness\": \"Happy\", \"cluster\": 2}, {\"Country name\": \"Montenegro\", \"Regional indicator\": \"Central and Eastern Europe\", \"Ladder score\": 5.581, \"Logged GDP per capita\": 9.94, \"Social support\": 0.858, \"Healthy life expectancy\": 68.699, \"Freedom to make life choices\": 0.708, \"Generosity\": -0.034, \"Perceptions of corruption\": 0.812, \"Rank\": 72, \"Happiness\": \"Happy\", \"cluster\": 0}, {\"Country name\": \"Dominican Republic\", \"Regional indicator\": \"Latin America and Caribbean\", \"Ladder score\": 5.545, \"Logged GDP per capita\": 9.802, \"Social support\": 0.853, \"Healthy life expectancy\": 66.102, \"Freedom to make life choices\": 0.86, \"Generosity\": -0.133, \"Perceptions of corruption\": 0.714, \"Rank\": 73, \"Happiness\": \"Happy\", \"cluster\": 0}, {\"Country name\": \"North Cyprus\", \"Regional indicator\": \"Western Europe\", \"Ladder score\": 5.536, \"Logged GDP per capita\": 10.576, \"Social support\": 0.82, \"Healthy life expectancy\": 73.898, \"Freedom to make life choices\": 0.795, \"Generosity\": 0.012, \"Perceptions of corruption\": 0.626, \"Rank\": 74, \"Happiness\": \"Happy\", \"cluster\": 0}, {\"Country name\": \"Belarus\", \"Regional indicator\": \"Commonwealth of Independent States\", \"Ladder score\": 5.534, \"Logged GDP per capita\": 9.853, \"Social support\": 0.91, \"Healthy life expectancy\": 66.253, \"Freedom to make life choices\": 0.65, \"Generosity\": -0.18, \"Perceptions of corruption\": 0.627, \"Rank\": 75, \"Happiness\": \"Less Happy\", \"cluster\": 1}, {\"Country name\": \"Russia\", \"Regional indicator\": \"Commonwealth of Independent States\", \"Ladder score\": 5.477, \"Logged GDP per capita\": 10.189, \"Social support\": 0.903, \"Healthy life expectancy\": 64.703, \"Freedom to make life choices\": 0.718, \"Generosity\": -0.111, \"Perceptions of corruption\": 0.845, \"Rank\": 76, \"Happiness\": \"Less Happy\", \"cluster\": 0}, {\"Country name\": \"Hong Kong S.A.R. of China\", \"Regional indicator\": \"East Asia\", \"Ladder score\": 5.477, \"Logged GDP per capita\": 11.0, \"Social support\": 0.836, \"Healthy life expectancy\": 76.82, \"Freedom to make life choices\": 0.717, \"Generosity\": 0.067, \"Perceptions of corruption\": 0.403, \"Rank\": 77, \"Happiness\": \"Less Happy\", \"cluster\": 4}, {\"Country name\": \"Tajikistan\", \"Regional indicator\": \"Commonwealth of Independent States\", \"Ladder score\": 5.466, \"Logged GDP per capita\": 8.091, \"Social support\": 0.86, \"Healthy life expectancy\": 64.281, \"Freedom to make life choices\": 0.832, \"Generosity\": -0.056, \"Perceptions of corruption\": 0.553, \"Rank\": 78, \"Happiness\": \"Less Happy\", \"cluster\": 2}, {\"Country name\": \"Vietnam\", \"Regional indicator\": \"Southeast Asia\", \"Ladder score\": 5.411, \"Logged GDP per capita\": 8.973, \"Social support\": 0.85, \"Healthy life expectancy\": 68.034, \"Freedom to make life choices\": 0.94, \"Generosity\": -0.098, \"Perceptions of corruption\": 0.796, \"Rank\": 79, \"Happiness\": \"Less Happy\", \"cluster\": 0}, {\"Country name\": \"Libya\", \"Regional indicator\": \"Middle East and North Africa\", \"Ladder score\": 5.41, \"Logged GDP per capita\": 9.622, \"Social support\": 0.827, \"Healthy life expectancy\": 62.3, \"Freedom to make life choices\": 0.771, \"Generosity\": -0.087, \"Perceptions of corruption\": 0.667, \"Rank\": 80, \"Happiness\": \"Less Happy\", \"cluster\": 1}, {\"Country name\": \"Malaysia\", \"Regional indicator\": \"Southeast Asia\", \"Ladder score\": 5.384, \"Logged GDP per capita\": 10.238, \"Social support\": 0.817, \"Healthy life expectancy\": 67.102, \"Freedom to make life choices\": 0.895, \"Generosity\": 0.125, \"Perceptions of corruption\": 0.839, \"Rank\": 81, \"Happiness\": \"Less Happy\", \"cluster\": 2}, {\"Country name\": \"Indonesia\", \"Regional indicator\": \"Southeast Asia\", \"Ladder score\": 5.345, \"Logged GDP per capita\": 9.365, \"Social support\": 0.811, \"Healthy life expectancy\": 62.236, \"Freedom to make life choices\": 0.873, \"Generosity\": 0.542, \"Perceptions of corruption\": 0.867, \"Rank\": 82, \"Happiness\": \"Less Happy\", \"cluster\": 2}, {\"Country name\": \"Congo (Brazzaville)\", \"Regional indicator\": \"Sub-Saharan Africa\", \"Ladder score\": 5.342, \"Logged GDP per capita\": 8.117, \"Social support\": 0.636, \"Healthy life expectancy\": 58.221, \"Freedom to make life choices\": 0.695, \"Generosity\": -0.068, \"Perceptions of corruption\": 0.745, \"Rank\": 83, \"Happiness\": \"Less Happy\", \"cluster\": 3}, {\"Country name\": \"China\", \"Regional indicator\": \"East Asia\", \"Ladder score\": 5.339, \"Logged GDP per capita\": 9.673, \"Social support\": 0.811, \"Healthy life expectancy\": 69.593, \"Freedom to make life choices\": 0.904, \"Generosity\": -0.146, \"Perceptions of corruption\": 0.755, \"Rank\": 84, \"Happiness\": \"Less Happy\", \"cluster\": 0}, {\"Country name\": \"Ivory Coast\", \"Regional indicator\": \"Sub-Saharan Africa\", \"Ladder score\": 5.306, \"Logged GDP per capita\": 8.551, \"Social support\": 0.644, \"Healthy life expectancy\": 50.114, \"Freedom to make life choices\": 0.741, \"Generosity\": -0.016, \"Perceptions of corruption\": 0.794, \"Rank\": 85, \"Happiness\": \"Less Happy\", \"cluster\": 3}, {\"Country name\": \"Armenia\", \"Regional indicator\": \"Commonwealth of Independent States\", \"Ladder score\": 5.283, \"Logged GDP per capita\": 9.487, \"Social support\": 0.799, \"Healthy life expectancy\": 67.055, \"Freedom to make life choices\": 0.825, \"Generosity\": -0.168, \"Perceptions of corruption\": 0.629, \"Rank\": 86, \"Happiness\": \"Less Happy\", \"cluster\": 0}, {\"Country name\": \"Nepal\", \"Regional indicator\": \"South Asia\", \"Ladder score\": 5.269, \"Logged GDP per capita\": 8.12, \"Social support\": 0.774, \"Healthy life expectancy\": 64.233, \"Freedom to make life choices\": 0.782, \"Generosity\": 0.152, \"Perceptions of corruption\": 0.727, \"Rank\": 87, \"Happiness\": \"Less Happy\", \"cluster\": 2}, {\"Country name\": \"Bulgaria\", \"Regional indicator\": \"Central and Eastern Europe\", \"Ladder score\": 5.266, \"Logged GDP per capita\": 10.016, \"Social support\": 0.931, \"Healthy life expectancy\": 67.0, \"Freedom to make life choices\": 0.788, \"Generosity\": -0.096, \"Perceptions of corruption\": 0.932, \"Rank\": 88, \"Happiness\": \"Less Happy\", \"cluster\": 0}, {\"Country name\": \"Maldives\", \"Regional indicator\": \"South Asia\", \"Ladder score\": 5.198, \"Logged GDP per capita\": 9.826, \"Social support\": 0.913, \"Healthy life expectancy\": 70.6, \"Freedom to make life choices\": 0.854, \"Generosity\": 0.024, \"Perceptions of corruption\": 0.825, \"Rank\": 89, \"Happiness\": \"Less Happy\", \"cluster\": 0}, {\"Country name\": \"Azerbaijan\", \"Regional indicator\": \"Commonwealth of Independent States\", \"Ladder score\": 5.171, \"Logged GDP per capita\": 9.569, \"Social support\": 0.836, \"Healthy life expectancy\": 65.656, \"Freedom to make life choices\": 0.814, \"Generosity\": -0.223, \"Perceptions of corruption\": 0.506, \"Rank\": 90, \"Happiness\": \"Less Happy\", \"cluster\": 0}, {\"Country name\": \"Cameroon\", \"Regional indicator\": \"Sub-Saharan Africa\", \"Ladder score\": 5.142, \"Logged GDP per capita\": 8.189, \"Social support\": 0.71, \"Healthy life expectancy\": 53.515, \"Freedom to make life choices\": 0.731, \"Generosity\": 0.026, \"Perceptions of corruption\": 0.848, \"Rank\": 91, \"Happiness\": \"Less Happy\", \"cluster\": 3}, {\"Country name\": \"Senegal\", \"Regional indicator\": \"Sub-Saharan Africa\", \"Ladder score\": 5.132, \"Logged GDP per capita\": 8.118, \"Social support\": 0.71, \"Healthy life expectancy\": 59.802, \"Freedom to make life choices\": 0.695, \"Generosity\": -0.046, \"Perceptions of corruption\": 0.801, \"Rank\": 92, \"Happiness\": \"Less Happy\", \"cluster\": 3}, {\"Country name\": \"Albania\", \"Regional indicator\": \"Central and Eastern Europe\", \"Ladder score\": 5.117, \"Logged GDP per capita\": 9.52, \"Social support\": 0.697, \"Healthy life expectancy\": 68.999, \"Freedom to make life choices\": 0.785, \"Generosity\": -0.03, \"Perceptions of corruption\": 0.901, \"Rank\": 93, \"Happiness\": \"Less Happy\", \"cluster\": 1}, {\"Country name\": \"North Macedonia\", \"Regional indicator\": \"Central and Eastern Europe\", \"Ladder score\": 5.101, \"Logged GDP per capita\": 9.693, \"Social support\": 0.805, \"Healthy life expectancy\": 65.474, \"Freedom to make life choices\": 0.751, \"Generosity\": 0.038, \"Perceptions of corruption\": 0.905, \"Rank\": 94, \"Happiness\": \"Less Happy\", \"cluster\": 2}, {\"Country name\": \"Ghana\", \"Regional indicator\": \"Sub-Saharan Africa\", \"Ladder score\": 5.088, \"Logged GDP per capita\": 8.58, \"Social support\": 0.727, \"Healthy life expectancy\": 57.586, \"Freedom to make life choices\": 0.807, \"Generosity\": 0.123, \"Perceptions of corruption\": 0.848, \"Rank\": 95, \"Happiness\": \"Less Happy\", \"cluster\": 2}, {\"Country name\": \"Niger\", \"Regional indicator\": \"Sub-Saharan Africa\", \"Ladder score\": 5.074, \"Logged GDP per capita\": 7.098, \"Social support\": 0.641, \"Healthy life expectancy\": 53.78, \"Freedom to make life choices\": 0.806, \"Generosity\": 0.018, \"Perceptions of corruption\": 0.693, \"Rank\": 96, \"Happiness\": \"Less Happy\", \"cluster\": 3}, {\"Country name\": \"Turkmenistan\", \"Regional indicator\": \"Commonwealth of Independent States\", \"Ladder score\": 5.066, \"Logged GDP per capita\": 9.629, \"Social support\": 0.983, \"Healthy life expectancy\": 62.409, \"Freedom to make life choices\": 0.877, \"Generosity\": 0.273, \"Perceptions of corruption\": 0.888, \"Rank\": 97, \"Happiness\": \"Less Happy\", \"cluster\": 2}, {\"Country name\": \"Gambia\", \"Regional indicator\": \"Sub-Saharan Africa\", \"Ladder score\": 5.051, \"Logged GDP per capita\": 7.686, \"Social support\": 0.69, \"Healthy life expectancy\": 55.16, \"Freedom to make life choices\": 0.697, \"Generosity\": 0.424, \"Perceptions of corruption\": 0.746, \"Rank\": 98, \"Happiness\": \"Less Happy\", \"cluster\": 3}, {\"Country name\": \"Benin\", \"Regional indicator\": \"Sub-Saharan Africa\", \"Ladder score\": 5.045, \"Logged GDP per capita\": 8.087, \"Social support\": 0.489, \"Healthy life expectancy\": 54.713, \"Freedom to make life choices\": 0.757, \"Generosity\": -0.034, \"Perceptions of corruption\": 0.661, \"Rank\": 99, \"Happiness\": \"Less Happy\", \"cluster\": 3}, {\"Country name\": \"Laos\", \"Regional indicator\": \"Southeast Asia\", \"Ladder score\": 5.03, \"Logged GDP per capita\": 8.947, \"Social support\": 0.728, \"Healthy life expectancy\": 58.968, \"Freedom to make life choices\": 0.91, \"Generosity\": 0.123, \"Perceptions of corruption\": 0.658, \"Rank\": 100, \"Happiness\": \"Less Happy\", \"cluster\": 2}, {\"Country name\": \"Bangladesh\", \"Regional indicator\": \"South Asia\", \"Ladder score\": 5.025, \"Logged GDP per capita\": 8.454, \"Social support\": 0.693, \"Healthy life expectancy\": 64.8, \"Freedom to make life choices\": 0.877, \"Generosity\": -0.041, \"Perceptions of corruption\": 0.682, \"Rank\": 101, \"Happiness\": \"Less Happy\", \"cluster\": 2}, {\"Country name\": \"Guinea\", \"Regional indicator\": \"Sub-Saharan Africa\", \"Ladder score\": 4.984, \"Logged GDP per capita\": 7.838, \"Social support\": 0.639, \"Healthy life expectancy\": 55.008, \"Freedom to make life choices\": 0.697, \"Generosity\": 0.095, \"Perceptions of corruption\": 0.766, \"Rank\": 102, \"Happiness\": \"Less Happy\", \"cluster\": 3}, {\"Country name\": \"South Africa\", \"Regional indicator\": \"Sub-Saharan Africa\", \"Ladder score\": 4.956, \"Logged GDP per capita\": 9.403, \"Social support\": 0.86, \"Healthy life expectancy\": 56.904, \"Freedom to make life choices\": 0.749, \"Generosity\": -0.067, \"Perceptions of corruption\": 0.86, \"Rank\": 103, \"Happiness\": \"Less Happy\", \"cluster\": 1}, {\"Country name\": \"Turkey\", \"Regional indicator\": \"Middle East and North Africa\", \"Ladder score\": 4.948, \"Logged GDP per capita\": 10.24, \"Social support\": 0.822, \"Healthy life expectancy\": 67.199, \"Freedom to make life choices\": 0.576, \"Generosity\": -0.139, \"Perceptions of corruption\": 0.776, \"Rank\": 104, \"Happiness\": \"Less Happy\", \"cluster\": 1}, {\"Country name\": \"Pakistan\", \"Regional indicator\": \"South Asia\", \"Ladder score\": 4.934, \"Logged GDP per capita\": 8.458, \"Social support\": 0.651, \"Healthy life expectancy\": 58.709, \"Freedom to make life choices\": 0.726, \"Generosity\": 0.098, \"Perceptions of corruption\": 0.787, \"Rank\": 105, \"Happiness\": \"Less Happy\", \"cluster\": 3}, {\"Country name\": \"Morocco\", \"Regional indicator\": \"Middle East and North Africa\", \"Ladder score\": 4.918, \"Logged GDP per capita\": 8.903, \"Social support\": 0.56, \"Healthy life expectancy\": 66.208, \"Freedom to make life choices\": 0.774, \"Generosity\": -0.236, \"Perceptions of corruption\": 0.801, \"Rank\": 106, \"Happiness\": \"Less Happy\", \"cluster\": 1}, {\"Country name\": \"Venezuela\", \"Regional indicator\": \"Latin America and Caribbean\", \"Ladder score\": 4.892, \"Logged GDP per capita\": 9.073, \"Social support\": 0.861, \"Healthy life expectancy\": 66.7, \"Freedom to make life choices\": 0.615, \"Generosity\": -0.169, \"Perceptions of corruption\": 0.827, \"Rank\": 107, \"Happiness\": \"Less Happy\", \"cluster\": 1}, {\"Country name\": \"Georgia\", \"Regional indicator\": \"Commonwealth of Independent States\", \"Ladder score\": 4.891, \"Logged GDP per capita\": 9.585, \"Social support\": 0.671, \"Healthy life expectancy\": 64.3, \"Freedom to make life choices\": 0.783, \"Generosity\": -0.238, \"Perceptions of corruption\": 0.655, \"Rank\": 108, \"Happiness\": \"Less Happy\", \"cluster\": 1}, {\"Country name\": \"Algeria\", \"Regional indicator\": \"Middle East and North Africa\", \"Ladder score\": 4.887, \"Logged GDP per capita\": 9.342, \"Social support\": 0.802, \"Healthy life expectancy\": 66.005, \"Freedom to make life choices\": 0.48, \"Generosity\": -0.067, \"Perceptions of corruption\": 0.752, \"Rank\": 109, \"Happiness\": \"Less Happy\", \"cluster\": 1}, {\"Country name\": \"Ukraine\", \"Regional indicator\": \"Commonwealth of Independent States\", \"Ladder score\": 4.875, \"Logged GDP per capita\": 9.436, \"Social support\": 0.888, \"Healthy life expectancy\": 64.902, \"Freedom to make life choices\": 0.724, \"Generosity\": -0.011, \"Perceptions of corruption\": 0.924, \"Rank\": 110, \"Happiness\": \"Less Happy\", \"cluster\": 1}, {\"Country name\": \"Iraq\", \"Regional indicator\": \"Middle East and North Africa\", \"Ladder score\": 4.854, \"Logged GDP per capita\": 9.24, \"Social support\": 0.746, \"Healthy life expectancy\": 60.583, \"Freedom to make life choices\": 0.63, \"Generosity\": -0.053, \"Perceptions of corruption\": 0.875, \"Rank\": 111, \"Happiness\": \"Less Happy\", \"cluster\": 1}, {\"Country name\": \"Gabon\", \"Regional indicator\": \"Sub-Saharan Africa\", \"Ladder score\": 4.852, \"Logged GDP per capita\": 9.603, \"Social support\": 0.776, \"Healthy life expectancy\": 59.962, \"Freedom to make life choices\": 0.731, \"Generosity\": -0.2, \"Perceptions of corruption\": 0.84, \"Rank\": 112, \"Happiness\": \"Not Happy\", \"cluster\": 1}, {\"Country name\": \"Burkina Faso\", \"Regional indicator\": \"Sub-Saharan Africa\", \"Ladder score\": 4.834, \"Logged GDP per capita\": 7.678, \"Social support\": 0.672, \"Healthy life expectancy\": 54.151, \"Freedom to make life choices\": 0.695, \"Generosity\": -0.009, \"Perceptions of corruption\": 0.748, \"Rank\": 113, \"Happiness\": \"Not Happy\", \"cluster\": 3}, {\"Country name\": \"Cambodia\", \"Regional indicator\": \"Southeast Asia\", \"Ladder score\": 4.83, \"Logged GDP per capita\": 8.36, \"Social support\": 0.765, \"Healthy life expectancy\": 62.0, \"Freedom to make life choices\": 0.959, \"Generosity\": 0.034, \"Perceptions of corruption\": 0.843, \"Rank\": 114, \"Happiness\": \"Not Happy\", \"cluster\": 2}, {\"Country name\": \"Mozambique\", \"Regional indicator\": \"Sub-Saharan Africa\", \"Ladder score\": 4.794, \"Logged GDP per capita\": 7.158, \"Social support\": 0.744, \"Healthy life expectancy\": 54.706, \"Freedom to make life choices\": 0.882, \"Generosity\": 0.061, \"Perceptions of corruption\": 0.684, \"Rank\": 115, \"Happiness\": \"Not Happy\", \"cluster\": 3}, {\"Country name\": \"Nigeria\", \"Regional indicator\": \"Sub-Saharan Africa\", \"Ladder score\": 4.759, \"Logged GDP per capita\": 8.533, \"Social support\": 0.74, \"Healthy life expectancy\": 50.102, \"Freedom to make life choices\": 0.737, \"Generosity\": 0.037, \"Perceptions of corruption\": 0.878, \"Rank\": 116, \"Happiness\": \"Not Happy\", \"cluster\": 3}, {\"Country name\": \"Mali\", \"Regional indicator\": \"Sub-Saharan Africa\", \"Ladder score\": 4.723, \"Logged GDP per capita\": 7.744, \"Social support\": 0.724, \"Healthy life expectancy\": 51.969, \"Freedom to make life choices\": 0.697, \"Generosity\": -0.036, \"Perceptions of corruption\": 0.827, \"Rank\": 117, \"Happiness\": \"Not Happy\", \"cluster\": 3}, {\"Country name\": \"Iran\", \"Regional indicator\": \"Middle East and North Africa\", \"Ladder score\": 4.721, \"Logged GDP per capita\": 9.584, \"Social support\": 0.71, \"Healthy life expectancy\": 66.3, \"Freedom to make life choices\": 0.608, \"Generosity\": 0.218, \"Perceptions of corruption\": 0.714, \"Rank\": 118, \"Happiness\": \"Not Happy\", \"cluster\": 2}, {\"Country name\": \"Uganda\", \"Regional indicator\": \"Sub-Saharan Africa\", \"Ladder score\": 4.636, \"Logged GDP per capita\": 7.677, \"Social support\": 0.781, \"Healthy life expectancy\": 56.101, \"Freedom to make life choices\": 0.709, \"Generosity\": 0.122, \"Perceptions of corruption\": 0.855, \"Rank\": 119, \"Happiness\": \"Not Happy\", \"cluster\": 3}, {\"Country name\": \"Liberia\", \"Regional indicator\": \"Sub-Saharan Africa\", \"Ladder score\": 4.625, \"Logged GDP per capita\": 7.288, \"Social support\": 0.72, \"Healthy life expectancy\": 56.498, \"Freedom to make life choices\": 0.735, \"Generosity\": 0.05, \"Perceptions of corruption\": 0.85, \"Rank\": 120, \"Happiness\": \"Not Happy\", \"cluster\": 3}, {\"Country name\": \"Kenya\", \"Regional indicator\": \"Sub-Saharan Africa\", \"Ladder score\": 4.607, \"Logged GDP per capita\": 8.361, \"Social support\": 0.688, \"Healthy life expectancy\": 60.704, \"Freedom to make life choices\": 0.779, \"Generosity\": 0.287, \"Perceptions of corruption\": 0.825, \"Rank\": 121, \"Happiness\": \"Not Happy\", \"cluster\": 2}, {\"Country name\": \"Tunisia\", \"Regional indicator\": \"Middle East and North Africa\", \"Ladder score\": 4.596, \"Logged GDP per capita\": 9.266, \"Social support\": 0.691, \"Healthy life expectancy\": 67.201, \"Freedom to make life choices\": 0.656, \"Generosity\": -0.201, \"Perceptions of corruption\": 0.87, \"Rank\": 122, \"Happiness\": \"Not Happy\", \"cluster\": 1}, {\"Country name\": \"Lebanon\", \"Regional indicator\": \"Middle East and North Africa\", \"Ladder score\": 4.584, \"Logged GDP per capita\": 9.626, \"Social support\": 0.848, \"Healthy life expectancy\": 67.355, \"Freedom to make life choices\": 0.525, \"Generosity\": -0.073, \"Perceptions of corruption\": 0.898, \"Rank\": 123, \"Happiness\": \"Not Happy\", \"cluster\": 1}, {\"Country name\": \"Namibia\", \"Regional indicator\": \"Sub-Saharan Africa\", \"Ladder score\": 4.574, \"Logged GDP per capita\": 9.161, \"Social support\": 0.818, \"Healthy life expectancy\": 56.799, \"Freedom to make life choices\": 0.719, \"Generosity\": -0.149, \"Perceptions of corruption\": 0.847, \"Rank\": 124, \"Happiness\": \"Not Happy\", \"cluster\": 1}, {\"Country name\": \"Palestinian Territories\", \"Regional indicator\": \"Middle East and North Africa\", \"Ladder score\": 4.517, \"Logged GDP per capita\": 8.485, \"Social support\": 0.826, \"Healthy life expectancy\": 62.25, \"Freedom to make life choices\": 0.653, \"Generosity\": -0.163, \"Perceptions of corruption\": 0.821, \"Rank\": 125, \"Happiness\": \"Not Happy\", \"cluster\": 1}, {\"Country name\": \"Myanmar\", \"Regional indicator\": \"Southeast Asia\", \"Ladder score\": 4.426, \"Logged GDP per capita\": 8.541, \"Social support\": 0.779, \"Healthy life expectancy\": 59.302, \"Freedom to make life choices\": 0.876, \"Generosity\": 0.509, \"Perceptions of corruption\": 0.66, \"Rank\": 126, \"Happiness\": \"Not Happy\", \"cluster\": 2}, {\"Country name\": \"Jordan\", \"Regional indicator\": \"Middle East and North Africa\", \"Ladder score\": 4.395, \"Logged GDP per capita\": 9.182, \"Social support\": 0.767, \"Healthy life expectancy\": 67.0, \"Freedom to make life choices\": 0.755, \"Generosity\": -0.167, \"Perceptions of corruption\": 0.705, \"Rank\": 127, \"Happiness\": \"Not Happy\", \"cluster\": 1}, {\"Country name\": \"Chad\", \"Regional indicator\": \"Sub-Saharan Africa\", \"Ladder score\": 4.355, \"Logged GDP per capita\": 7.364, \"Social support\": 0.619, \"Healthy life expectancy\": 48.478, \"Freedom to make life choices\": 0.579, \"Generosity\": 0.041, \"Perceptions of corruption\": 0.807, \"Rank\": 128, \"Happiness\": \"Not Happy\", \"cluster\": 3}, {\"Country name\": \"Sri Lanka\", \"Regional indicator\": \"South Asia\", \"Ladder score\": 4.325, \"Logged GDP per capita\": 9.47, \"Social support\": 0.827, \"Healthy life expectancy\": 67.299, \"Freedom to make life choices\": 0.841, \"Generosity\": 0.079, \"Perceptions of corruption\": 0.863, \"Rank\": 129, \"Happiness\": \"Not Happy\", \"cluster\": 2}, {\"Country name\": \"Swaziland\", \"Regional indicator\": \"Sub-Saharan Africa\", \"Ladder score\": 4.308, \"Logged GDP per capita\": 9.065, \"Social support\": 0.77, \"Healthy life expectancy\": 50.833, \"Freedom to make life choices\": 0.647, \"Generosity\": -0.185, \"Perceptions of corruption\": 0.708, \"Rank\": 130, \"Happiness\": \"Not Happy\", \"cluster\": 1}, {\"Country name\": \"Comoros\", \"Regional indicator\": \"Sub-Saharan Africa\", \"Ladder score\": 4.289, \"Logged GDP per capita\": 8.031, \"Social support\": 0.626, \"Healthy life expectancy\": 57.349, \"Freedom to make life choices\": 0.548, \"Generosity\": 0.082, \"Perceptions of corruption\": 0.781, \"Rank\": 131, \"Happiness\": \"Not Happy\", \"cluster\": 3}, {\"Country name\": \"Egypt\", \"Regional indicator\": \"Middle East and North Africa\", \"Ladder score\": 4.283, \"Logged GDP per capita\": 9.367, \"Social support\": 0.75, \"Healthy life expectancy\": 61.998, \"Freedom to make life choices\": 0.749, \"Generosity\": -0.182, \"Perceptions of corruption\": 0.795, \"Rank\": 132, \"Happiness\": \"Not Happy\", \"cluster\": 1}, {\"Country name\": \"Ethiopia\", \"Regional indicator\": \"Sub-Saharan Africa\", \"Ladder score\": 4.275, \"Logged GDP per capita\": 7.694, \"Social support\": 0.764, \"Healthy life expectancy\": 59.0, \"Freedom to make life choices\": 0.752, \"Generosity\": 0.082, \"Perceptions of corruption\": 0.761, \"Rank\": 133, \"Happiness\": \"Not Happy\", \"cluster\": 3}, {\"Country name\": \"Mauritania\", \"Regional indicator\": \"Sub-Saharan Africa\", \"Ladder score\": 4.227, \"Logged GDP per capita\": 8.542, \"Social support\": 0.795, \"Healthy life expectancy\": 57.161, \"Freedom to make life choices\": 0.561, \"Generosity\": -0.106, \"Perceptions of corruption\": 0.731, \"Rank\": 134, \"Happiness\": \"Not Happy\", \"cluster\": 1}, {\"Country name\": \"Madagascar\", \"Regional indicator\": \"Sub-Saharan Africa\", \"Ladder score\": 4.208, \"Logged GDP per capita\": 7.396, \"Social support\": 0.686, \"Healthy life expectancy\": 59.305, \"Freedom to make life choices\": 0.552, \"Generosity\": -0.005, \"Perceptions of corruption\": 0.803, \"Rank\": 135, \"Happiness\": \"Not Happy\", \"cluster\": 3}, {\"Country name\": \"Togo\", \"Regional indicator\": \"Sub-Saharan Africa\", \"Ladder score\": 4.107, \"Logged GDP per capita\": 7.362, \"Social support\": 0.569, \"Healthy life expectancy\": 54.914, \"Freedom to make life choices\": 0.619, \"Generosity\": 0.032, \"Perceptions of corruption\": 0.772, \"Rank\": 136, \"Happiness\": \"Not Happy\", \"cluster\": 3}, {\"Country name\": \"Zambia\", \"Regional indicator\": \"Sub-Saharan Africa\", \"Ladder score\": 4.073, \"Logged GDP per capita\": 8.145, \"Social support\": 0.708, \"Healthy life expectancy\": 55.809, \"Freedom to make life choices\": 0.782, \"Generosity\": 0.061, \"Perceptions of corruption\": 0.823, \"Rank\": 137, \"Happiness\": \"Not Happy\", \"cluster\": 3}, {\"Country name\": \"Sierra Leone\", \"Regional indicator\": \"Sub-Saharan Africa\", \"Ladder score\": 3.849, \"Logged GDP per capita\": 7.434, \"Social support\": 0.63, \"Healthy life expectancy\": 51.651, \"Freedom to make life choices\": 0.717, \"Generosity\": 0.084, \"Perceptions of corruption\": 0.866, \"Rank\": 138, \"Happiness\": \"Not Happy\", \"cluster\": 3}, {\"Country name\": \"India\", \"Regional indicator\": \"South Asia\", \"Ladder score\": 3.819, \"Logged GDP per capita\": 8.755, \"Social support\": 0.603, \"Healthy life expectancy\": 60.633, \"Freedom to make life choices\": 0.893, \"Generosity\": 0.089, \"Perceptions of corruption\": 0.774, \"Rank\": 139, \"Happiness\": \"Not Happy\", \"cluster\": 3}, {\"Country name\": \"Burundi\", \"Regional indicator\": \"Sub-Saharan Africa\", \"Ladder score\": 3.775, \"Logged GDP per capita\": 6.635, \"Social support\": 0.49, \"Healthy life expectancy\": 53.4, \"Freedom to make life choices\": 0.626, \"Generosity\": -0.024, \"Perceptions of corruption\": 0.607, \"Rank\": 140, \"Happiness\": \"Not Happy\", \"cluster\": 3}, {\"Country name\": \"Yemen\", \"Regional indicator\": \"Middle East and North Africa\", \"Ladder score\": 3.658, \"Logged GDP per capita\": 7.578, \"Social support\": 0.832, \"Healthy life expectancy\": 57.122, \"Freedom to make life choices\": 0.602, \"Generosity\": -0.147, \"Perceptions of corruption\": 0.8, \"Rank\": 141, \"Happiness\": \"Not Happy\", \"cluster\": 1}, {\"Country name\": \"Tanzania\", \"Regional indicator\": \"Sub-Saharan Africa\", \"Ladder score\": 3.623, \"Logged GDP per capita\": 7.876, \"Social support\": 0.702, \"Healthy life expectancy\": 57.999, \"Freedom to make life choices\": 0.833, \"Generosity\": 0.183, \"Perceptions of corruption\": 0.577, \"Rank\": 142, \"Happiness\": \"Not Happy\", \"cluster\": 3}, {\"Country name\": \"Haiti\", \"Regional indicator\": \"Latin America and Caribbean\", \"Ladder score\": 3.615, \"Logged GDP per capita\": 7.477, \"Social support\": 0.54, \"Healthy life expectancy\": 55.7, \"Freedom to make life choices\": 0.593, \"Generosity\": 0.422, \"Perceptions of corruption\": 0.721, \"Rank\": 143, \"Happiness\": \"Not Happy\", \"cluster\": 3}, {\"Country name\": \"Malawi\", \"Regional indicator\": \"Sub-Saharan Africa\", \"Ladder score\": 3.6, \"Logged GDP per capita\": 6.958, \"Social support\": 0.537, \"Healthy life expectancy\": 57.948, \"Freedom to make life choices\": 0.78, \"Generosity\": 0.038, \"Perceptions of corruption\": 0.729, \"Rank\": 144, \"Happiness\": \"Not Happy\", \"cluster\": 3}, {\"Country name\": \"Lesotho\", \"Regional indicator\": \"Sub-Saharan Africa\", \"Ladder score\": 3.512, \"Logged GDP per capita\": 7.926, \"Social support\": 0.787, \"Healthy life expectancy\": 48.7, \"Freedom to make life choices\": 0.715, \"Generosity\": -0.131, \"Perceptions of corruption\": 0.915, \"Rank\": 145, \"Happiness\": \"Not Happy\", \"cluster\": 3}, {\"Country name\": \"Botswana\", \"Regional indicator\": \"Sub-Saharan Africa\", \"Ladder score\": 3.467, \"Logged GDP per capita\": 9.782, \"Social support\": 0.784, \"Healthy life expectancy\": 59.269, \"Freedom to make life choices\": 0.824, \"Generosity\": -0.246, \"Perceptions of corruption\": 0.801, \"Rank\": 146, \"Happiness\": \"Not Happy\", \"cluster\": 1}, {\"Country name\": \"Rwanda\", \"Regional indicator\": \"Sub-Saharan Africa\", \"Ladder score\": 3.415, \"Logged GDP per capita\": 7.676, \"Social support\": 0.552, \"Healthy life expectancy\": 61.4, \"Freedom to make life choices\": 0.897, \"Generosity\": 0.061, \"Perceptions of corruption\": 0.167, \"Rank\": 147, \"Happiness\": \"Not Happy\", \"cluster\": 3}, {\"Country name\": \"Zimbabwe\", \"Regional indicator\": \"Sub-Saharan Africa\", \"Ladder score\": 3.145, \"Logged GDP per capita\": 7.943, \"Social support\": 0.75, \"Healthy life expectancy\": 56.201, \"Freedom to make life choices\": 0.677, \"Generosity\": -0.047, \"Perceptions of corruption\": 0.821, \"Rank\": 148, \"Happiness\": \"Not Happy\", \"cluster\": 3}, {\"Country name\": \"Afghanistan\", \"Regional indicator\": \"South Asia\", \"Ladder score\": 2.523, \"Logged GDP per capita\": 7.695, \"Social support\": 0.463, \"Healthy life expectancy\": 52.493, \"Freedom to make life choices\": 0.382, \"Generosity\": -0.102, \"Perceptions of corruption\": 0.924, \"Rank\": 149, \"Happiness\": \"Not Happy\", \"cluster\": 3}]}}, {\"mode\": \"vega-lite\"});\n",
       "</script>"
      ],
      "text/plain": [
       "alt.HConcatChart(...)"
      ]
     },
     "execution_count": 27,
     "metadata": {},
     "output_type": "execute_result"
    }
   ],
   "source": [
    "alt.hconcat(chart_list0[3], chart_list0[4], chart_list0[5],chart_list0[6],chart_list0[7],chart_list0[8])"
   ]
  },
  {
   "cell_type": "markdown",
   "metadata": {
    "cell_id": "70abf4983f914476a8f2a41e2e5b966b",
    "deepnote_cell_type": "text-cell-h3",
    "formattedRanges": [],
    "is_collapsed": false,
    "tags": []
   },
   "source": [
    "### Correlations and Feature Selection"
   ]
  },
  {
   "cell_type": "code",
   "execution_count": 28,
   "metadata": {
    "cell_id": "79a4c3d55ba746e9a6a4d40247e6d13f",
    "deepnote_cell_type": "code",
    "deepnote_to_be_reexecuted": false,
    "execution_millis": 16,
    "execution_start": 1670290719938,
    "source_hash": "e991b4d0",
    "tags": []
   },
   "outputs": [],
   "source": [
    "cols=[\"Logged GDP per capita\",\"Social support\",\"Healthy life expectancy\",\"Freedom to make life choices\",\"Generosity\",\"Perceptions of corruption\"]"
   ]
  },
  {
   "cell_type": "code",
   "execution_count": 29,
   "metadata": {
    "cell_id": "f87870bec1434dbab2232f96592014b3",
    "deepnote_cell_type": "code",
    "deepnote_to_be_reexecuted": false,
    "execution_millis": 1380,
    "execution_start": 1670290719957,
    "source_hash": "4e29b47f",
    "tags": []
   },
   "outputs": [
    {
     "data": {
      "text/plain": [
       "<AxesSubplot: >"
      ]
     },
     "execution_count": 29,
     "metadata": {},
     "output_type": "execute_result"
    },
    {
     "data": {
      "image/png": "[encoded data removed]",
      "text/plain": [
       "<Figure size 400x300 with 2 Axes>"
      ]
     },
     "metadata": {
      "image/png": {
       "height": 469,
       "width": 551
      }
     },
     "output_type": "display_data"
    }
   ],
   "source": [
    "import matplotlib.pyplot  as plt\n",
    "import seaborn as sns\n",
    "plt.figure(figsize=(4,3))\n",
    "sns.heatmap(df[cols].corr(),annot=True,fmt=\".2f\",linewidth=0.7)"
   ]
  },
  {
   "cell_type": "code",
   "execution_count": 30,
   "metadata": {
    "cell_id": "aec41947fb6c4de294f08c8a5786d3bb",
    "deepnote_cell_type": "code",
    "deepnote_to_be_reexecuted": false,
    "execution_millis": 4,
    "execution_start": 1670290721360,
    "source_hash": "9b926f0c",
    "tags": []
   },
   "outputs": [
    {
     "name": "stdout",
     "output_type": "stream",
     "text": [
      "Ladder score                    1.000000\n",
      "Logged GDP per capita           0.789760\n",
      "Healthy life expectancy         0.768099\n",
      "Social support                  0.756888\n",
      "Freedom to make life choices    0.607753\n",
      "Generosity                     -0.017799\n",
      "cluster                        -0.075286\n",
      "Perceptions of corruption      -0.421140\n",
      "Rank                           -0.984265\n",
      "Name: Ladder score, dtype: float64\n"
     ]
    }
   ],
   "source": [
    "corr = df[df.columns].corr()\n",
    "corr.sort_values([\"Ladder score\"], ascending = False, inplace = True)\n",
    "print(corr[\"Ladder score\"])"
   ]
  },
  {
   "cell_type": "markdown",
   "metadata": {
    "cell_id": "d5666e7b7e654be2b3c9d87a76e02db1",
    "deepnote_cell_type": "text-cell-p",
    "formattedRanges": [],
    "is_collapsed": false,
    "tags": []
   },
   "source": [
    "We see the variable with most correlation with the ladder score is GDP, and the least correlated variable is Generosity."
   ]
  },
  {
   "cell_type": "markdown",
   "metadata": {
    "cell_id": "e32e6e525a274fd0b4a8df2b5807f72b",
    "deepnote_cell_type": "text-cell-h2",
    "formattedRanges": [],
    "is_collapsed": false,
    "tags": []
   },
   "source": [
    "## Linear Regression and Prediction"
   ]
  },
  {
   "cell_type": "markdown",
   "metadata": {
    "cell_id": "7c6ed605a499480c87a4ec7b92ef5300",
    "deepnote_cell_type": "text-cell-h3",
    "formattedRanges": [],
    "is_collapsed": false,
    "tags": []
   },
   "source": [
    "### Sklearn Linear Regression Based on Numerical Variables Only"
   ]
  },
  {
   "cell_type": "code",
   "execution_count": 31,
   "metadata": {
    "cell_id": "c15d232de12b45f1b2062030f5d050dd",
    "deepnote_cell_type": "code",
    "deepnote_to_be_reexecuted": false,
    "execution_millis": 85,
    "execution_start": 1670290721365,
    "source_hash": "e032cd45",
    "tags": []
   },
   "outputs": [
    {
     "data": {
      "text/plain": [
       "Logged GDP per capita           0.279533\n",
       "Social support                  2.476206\n",
       "Healthy life expectancy         0.030314\n",
       "Freedom to make life choices    2.010465\n",
       "Generosity                      0.364382\n",
       "Perceptions of corruption      -0.605092\n",
       "dtype: float64"
      ]
     },
     "execution_count": 31,
     "metadata": {},
     "output_type": "execute_result"
    }
   ],
   "source": [
    "from sklearn.linear_model import LinearRegression\n",
    "reg = LinearRegression()\n",
    "cols=[\"Logged GDP per capita\",\"Social support\",\"Healthy life expectancy\",\"Freedom to make life choices\",\"Generosity\",\"Perceptions of corruption\"]\n",
    "reg.fit(df[cols],df[\"Ladder score\"])\n",
    "pd.Series(reg.coef_,index=cols)"
   ]
  },
  {
   "cell_type": "code",
   "execution_count": 32,
   "metadata": {
    "cell_id": "78cf7d655ee44f7cbd570d46080d2532",
    "deepnote_cell_type": "code",
    "deepnote_to_be_reexecuted": false,
    "execution_millis": 61,
    "execution_start": 1670290721452,
    "source_hash": "c0bd65f9",
    "tags": []
   },
   "outputs": [
    {
     "data": {
      "text/plain": [
       "array([ 0.2795329 ,  2.47620585,  0.03031381,  2.0104647 ,  0.36438194,\n",
       "       -0.60509177])"
      ]
     },
     "execution_count": 32,
     "metadata": {},
     "output_type": "execute_result"
    }
   ],
   "source": [
    "reg.coef_"
   ]
  },
  {
   "cell_type": "code",
   "execution_count": 33,
   "metadata": {
    "cell_id": "17d180cfac7447e49f2509774cf53815",
    "deepnote_cell_type": "code",
    "deepnote_to_be_reexecuted": false,
    "execution_millis": 0,
    "execution_start": 1670290721509,
    "source_hash": "23b938d7",
    "tags": []
   },
   "outputs": [
    {
     "name": "stdout",
     "output_type": "stream",
     "text": [
      "The equation is: Pred Price = Logged GDP per capita x 0.2795328970903119 + Social support x 2.476205853915902+Healthy life expectancy x 0.030313812350904194+Freedom to make life choices x 2.01046470184026+Generosity x 0.3643819429244515+Perceptions of corruption x -0.6050917656434847 + -2.2372192944749907\n"
     ]
    }
   ],
   "source": [
    "print(f\"The equation is: Pred Price = {cols[0]} x {reg.coef_[0]} + {cols[1]} x {reg.coef_[1]}+{cols[2]} x {reg.coef_[2]}+{cols[3]} x {reg.coef_[3]}+{cols[4]} x {reg.coef_[4]}+{cols[5]} x {reg.coef_[5]} + {reg.intercept_}\") \n"
   ]
  },
  {
   "cell_type": "code",
   "execution_count": 34,
   "metadata": {
    "cell_id": "6f99aa66de744dcf8e7fd900fd79999e",
    "deepnote_cell_type": "code",
    "deepnote_to_be_reexecuted": false,
    "execution_millis": 6,
    "execution_start": 1670290721544,
    "source_hash": "d34567c8",
    "tags": []
   },
   "outputs": [],
   "source": [
    "df[\"Pred\"] = reg.predict(df[cols])"
   ]
  },
  {
   "cell_type": "markdown",
   "metadata": {
    "cell_id": "73d189c01e9a407097fd9051582f1ea4",
    "deepnote_cell_type": "text-cell-p",
    "formattedRanges": [],
    "is_collapsed": false,
    "tags": []
   },
   "source": [
    "Constructing graph to see the differences of true ladder score and predicted data."
   ]
  },
  {
   "cell_type": "code",
   "execution_count": 35,
   "metadata": {
    "cell_id": "7c512bd6826f4ded87432f4ee5a6a978",
    "deepnote_cell_type": "code",
    "deepnote_to_be_reexecuted": false,
    "execution_millis": 248,
    "execution_start": 1670290721574,
    "source_hash": "1bec4a39",
    "tags": []
   },
   "outputs": [
    {
     "data": {
      "text/html": [
       "\n",
       "<div id=\"altair-viz-67d3fd87d3864631a20c77ca1aff6cf7\"></div>\n",
       "<script type=\"text/javascript\">\n",
       "  var VEGA_DEBUG = (typeof VEGA_DEBUG == \"undefined\") ? {} : VEGA_DEBUG;\n",
       "  (function(spec, embedOpt){\n",
       "    let outputDiv = document.currentScript.previousElementSibling;\n",
       "    if (outputDiv.id !== \"altair-viz-67d3fd87d3864631a20c77ca1aff6cf7\") {\n",
       "      outputDiv = document.getElementById(\"altair-viz-67d3fd87d3864631a20c77ca1aff6cf7\");\n",
       "    }\n",
       "    const paths = {\n",
       "      \"vega\": \"https://cdn.jsdelivr.net/npm//vega@5?noext\",\n",
       "      \"vega-lib\": \"https://cdn.jsdelivr.net/npm//vega-lib?noext\",\n",
       "      \"vega-lite\": \"https://cdn.jsdelivr.net/npm//vega-lite@4.17.0?noext\",\n",
       "      \"vega-embed\": \"https://cdn.jsdelivr.net/npm//vega-embed@6?noext\",\n",
       "    };\n",
       "\n",
       "    function maybeLoadScript(lib, version) {\n",
       "      var key = `${lib.replace(\"-\", \"\")}_version`;\n",
       "      return (VEGA_DEBUG[key] == version) ?\n",
       "        Promise.resolve(paths[lib]) :\n",
       "        new Promise(function(resolve, reject) {\n",
       "          var s = document.createElement('script');\n",
       "          document.getElementsByTagName(\"head\")[0].appendChild(s);\n",
       "          s.async = true;\n",
       "          s.onload = () => {\n",
       "            VEGA_DEBUG[key] = version;\n",
       "            return resolve(paths[lib]);\n",
       "          };\n",
       "          s.onerror = () => reject(`Error loading script: ${paths[lib]}`);\n",
       "          s.src = paths[lib];\n",
       "        });\n",
       "    }\n",
       "\n",
       "    function showError(err) {\n",
       "      outputDiv.innerHTML = `<div class=\"error\" style=\"color:red;\">${err}</div>`;\n",
       "      throw err;\n",
       "    }\n",
       "\n",
       "    function displayChart(vegaEmbed) {\n",
       "      vegaEmbed(outputDiv, spec, embedOpt)\n",
       "        .catch(err => showError(`Javascript Error: ${err.message}<br>This usually means there's a typo in your chart specification. See the javascript console for the full traceback.`));\n",
       "    }\n",
       "\n",
       "    if(typeof define === \"function\" && define.amd) {\n",
       "      requirejs.config({paths});\n",
       "      require([\"vega-embed\"], displayChart, err => showError(`Error loading script: ${err.message}`));\n",
       "    } else {\n",
       "      maybeLoadScript(\"vega\", \"5\")\n",
       "        .then(() => maybeLoadScript(\"vega-lite\", \"4.17.0\"))\n",
       "        .then(() => maybeLoadScript(\"vega-embed\", \"6\"))\n",
       "        .catch(showError)\n",
       "        .then(() => displayChart(vegaEmbed));\n",
       "    }\n",
       "  })({\"config\": {\"view\": {\"continuousWidth\": 400, \"continuousHeight\": 300}}, \"hconcat\": [{\"layer\": [{\"mark\": \"circle\", \"encoding\": {\"color\": {\"field\": \"Regional indicator\", \"scale\": {\"scheme\": \"dark2\"}, \"type\": \"nominal\"}, \"x\": {\"field\": \"Logged GDP per capita\", \"scale\": {\"zero\": false}, \"type\": \"quantitative\"}, \"y\": {\"field\": \"Ladder score\", \"type\": \"quantitative\"}}}, {\"mark\": \"line\", \"encoding\": {\"x\": {\"field\": \"Logged GDP per capita\", \"scale\": {\"zero\": false}, \"type\": \"quantitative\"}, \"y\": {\"field\": \"Pred\", \"type\": \"quantitative\"}}}]}, {\"layer\": [{\"mark\": \"circle\", \"encoding\": {\"color\": {\"field\": \"Regional indicator\", \"scale\": {\"scheme\": \"dark2\"}, \"type\": \"nominal\"}, \"x\": {\"field\": \"Social support\", \"scale\": {\"zero\": false}, \"type\": \"quantitative\"}, \"y\": {\"field\": \"Ladder score\", \"type\": \"quantitative\"}}}, {\"mark\": \"line\", \"encoding\": {\"x\": {\"field\": \"Social support\", \"scale\": {\"zero\": false}, \"type\": \"quantitative\"}, \"y\": {\"field\": \"Pred\", \"type\": \"quantitative\"}}}]}, {\"layer\": [{\"mark\": \"circle\", \"encoding\": {\"color\": {\"field\": \"Regional indicator\", \"scale\": {\"scheme\": \"dark2\"}, \"type\": \"nominal\"}, \"x\": {\"field\": \"Healthy life expectancy\", \"scale\": {\"zero\": false}, \"type\": \"quantitative\"}, \"y\": {\"field\": \"Ladder score\", \"type\": \"quantitative\"}}}, {\"mark\": \"line\", \"encoding\": {\"x\": {\"field\": \"Healthy life expectancy\", \"scale\": {\"zero\": false}, \"type\": \"quantitative\"}, \"y\": {\"field\": \"Pred\", \"type\": \"quantitative\"}}}]}, {\"layer\": [{\"mark\": \"circle\", \"encoding\": {\"color\": {\"field\": \"Regional indicator\", \"scale\": {\"scheme\": \"dark2\"}, \"type\": \"nominal\"}, \"x\": {\"field\": \"Freedom to make life choices\", \"scale\": {\"zero\": false}, \"type\": \"quantitative\"}, \"y\": {\"field\": \"Ladder score\", \"type\": \"quantitative\"}}}, {\"mark\": \"line\", \"encoding\": {\"x\": {\"field\": \"Freedom to make life choices\", \"scale\": {\"zero\": false}, \"type\": \"quantitative\"}, \"y\": {\"field\": \"Pred\", \"type\": \"quantitative\"}}}]}, {\"layer\": [{\"mark\": \"circle\", \"encoding\": {\"color\": {\"field\": \"Regional indicator\", \"scale\": {\"scheme\": \"dark2\"}, \"type\": \"nominal\"}, \"x\": {\"field\": \"Generosity\", \"scale\": {\"zero\": false}, \"type\": \"quantitative\"}, \"y\": {\"field\": \"Ladder score\", \"type\": \"quantitative\"}}}, {\"mark\": \"line\", \"encoding\": {\"x\": {\"field\": \"Generosity\", \"scale\": {\"zero\": false}, \"type\": \"quantitative\"}, \"y\": {\"field\": \"Pred\", \"type\": \"quantitative\"}}}]}, {\"layer\": [{\"mark\": \"circle\", \"encoding\": {\"color\": {\"field\": \"Regional indicator\", \"scale\": {\"scheme\": \"dark2\"}, \"type\": \"nominal\"}, \"x\": {\"field\": \"Perceptions of corruption\", \"scale\": {\"zero\": false}, \"type\": \"quantitative\"}, \"y\": {\"field\": \"Ladder score\", \"type\": \"quantitative\"}}}, {\"mark\": \"line\", \"encoding\": {\"x\": {\"field\": \"Perceptions of corruption\", \"scale\": {\"zero\": false}, \"type\": \"quantitative\"}, \"y\": {\"field\": \"Pred\", \"type\": \"quantitative\"}}}]}], \"data\": {\"name\": \"data-8bb1a5e84714d69faccb250664fcf032\"}, \"$schema\": \"https://vega.github.io/schema/vega-lite/v4.17.0.json\", \"datasets\": {\"data-8bb1a5e84714d69faccb250664fcf032\": [{\"Country name\": \"Finland\", \"Regional indicator\": \"Western Europe\", \"Ladder score\": 7.842, \"Logged GDP per capita\": 10.775, \"Social support\": 0.954, \"Healthy life expectancy\": 72.0, \"Freedom to make life choices\": 0.949, \"Generosity\": -0.098, \"Perceptions of corruption\": 0.186, \"Rank\": 1, \"Happiness\": \"Very Happy\", \"cluster\": 4, \"Pred\": 7.079317048804115}, {\"Country name\": \"Denmark\", \"Regional indicator\": \"Western Europe\", \"Ladder score\": 7.62, \"Logged GDP per capita\": 10.933, \"Social support\": 0.954, \"Healthy life expectancy\": 72.7, \"Freedom to make life choices\": 0.946, \"Generosity\": 0.03, \"Perceptions of corruption\": 0.179, \"Rank\": 2, \"Happiness\": \"Very Happy\", \"cluster\": 4, \"Pred\": 7.18954805213833}, {\"Country name\": \"Switzerland\", \"Regional indicator\": \"Western Europe\", \"Ladder score\": 7.571, \"Logged GDP per capita\": 11.117, \"Social support\": 0.942, \"Healthy life expectancy\": 74.4, \"Freedom to make life choices\": 0.919, \"Generosity\": 0.025, \"Perceptions of corruption\": 0.292, \"Rank\": 3, \"Happiness\": \"Very Happy\", \"cluster\": 4, \"Pred\": 7.138321289770471}, {\"Country name\": \"Iceland\", \"Regional indicator\": \"Western Europe\", \"Ladder score\": 7.554, \"Logged GDP per capita\": 10.878, \"Social support\": 0.983, \"Healthy life expectancy\": 73.0, \"Freedom to make life choices\": 0.955, \"Generosity\": 0.16, \"Perceptions of corruption\": 0.673, \"Rank\": 4, \"Happiness\": \"Very Happy\", \"cluster\": 4, \"Pred\": 7.021626358936055}, {\"Country name\": \"Netherlands\", \"Regional indicator\": \"Western Europe\", \"Ladder score\": 7.464, \"Logged GDP per capita\": 10.932, \"Social support\": 0.942, \"Healthy life expectancy\": 72.4, \"Freedom to make life choices\": 0.913, \"Generosity\": 0.175, \"Perceptions of corruption\": 0.338, \"Rank\": 5, \"Happiness\": \"Very Happy\", \"cluster\": 4, \"Pred\": 7.040740361114982}, {\"Country name\": \"Norway\", \"Regional indicator\": \"Western Europe\", \"Ladder score\": 7.392, \"Logged GDP per capita\": 11.053, \"Social support\": 0.954, \"Healthy life expectancy\": 73.3, \"Freedom to make life choices\": 0.96, \"Generosity\": 0.093, \"Perceptions of corruption\": 0.27, \"Rank\": 6, \"Happiness\": \"Very Happy\", \"cluster\": 4, \"Pred\": 7.237319504756157}, {\"Country name\": \"Sweden\", \"Regional indicator\": \"Western Europe\", \"Ladder score\": 7.363, \"Logged GDP per capita\": 10.867, \"Social support\": 0.934, \"Healthy life expectancy\": 72.7, \"Freedom to make life choices\": 0.945, \"Generosity\": 0.086, \"Perceptions of corruption\": 0.237, \"Rank\": 7, \"Happiness\": \"Very Happy\", \"cluster\": 4, \"Pred\": 7.104874365546659}, {\"Country name\": \"Luxembourg\", \"Regional indicator\": \"Western Europe\", \"Ladder score\": 7.324, \"Logged GDP per capita\": 11.647, \"Social support\": 0.908, \"Healthy life expectancy\": 72.6, \"Freedom to make life choices\": 0.907, \"Generosity\": -0.034, \"Perceptions of corruption\": 0.386, \"Rank\": 8, \"Happiness\": \"Very Happy\", \"cluster\": 4, \"Pred\": 7.045215126938454}, {\"Country name\": \"New Zealand\", \"Regional indicator\": \"North America and ANZ\", \"Ladder score\": 7.277, \"Logged GDP per capita\": 10.643, \"Social support\": 0.948, \"Healthy life expectancy\": 73.4, \"Freedom to make life choices\": 0.929, \"Generosity\": 0.134, \"Perceptions of corruption\": 0.242, \"Rank\": 9, \"Happiness\": \"Very Happy\", \"cluster\": 4, \"Pred\": 7.080442986401597}, {\"Country name\": \"Austria\", \"Regional indicator\": \"Western Europe\", \"Ladder score\": 7.268, \"Logged GDP per capita\": 10.906, \"Social support\": 0.934, \"Healthy life expectancy\": 73.3, \"Freedom to make life choices\": 0.908, \"Generosity\": 0.042, \"Perceptions of corruption\": 0.481, \"Rank\": 10, \"Happiness\": \"Very Happy\", \"cluster\": 4, \"Pred\": 6.8959020456699465}, {\"Country name\": \"Australia\", \"Regional indicator\": \"North America and ANZ\", \"Ladder score\": 7.183, \"Logged GDP per capita\": 10.796, \"Social support\": 0.94, \"Healthy life expectancy\": 73.9, \"Freedom to make life choices\": 0.914, \"Generosity\": 0.159, \"Perceptions of corruption\": 0.442, \"Rank\": 11, \"Happiness\": \"Very Happy\", \"cluster\": 4, \"Pred\": 6.976493003917349}, {\"Country name\": \"Israel\", \"Regional indicator\": \"Middle East and North Africa\", \"Ladder score\": 7.157, \"Logged GDP per capita\": 10.575, \"Social support\": 0.939, \"Healthy life expectancy\": 73.503, \"Freedom to make life choices\": 0.8, \"Generosity\": 0.031, \"Perceptions of corruption\": 0.753, \"Rank\": 12, \"Happiness\": \"Very Happy\", \"cluster\": 0, \"Pred\": 6.4361880404839225}, {\"Country name\": \"Germany\", \"Regional indicator\": \"Western Europe\", \"Ladder score\": 7.155, \"Logged GDP per capita\": 10.873, \"Social support\": 0.903, \"Healthy life expectancy\": 72.5, \"Freedom to make life choices\": 0.875, \"Generosity\": 0.011, \"Perceptions of corruption\": 0.46, \"Rank\": 13, \"Happiness\": \"Very Happy\", \"cluster\": 4, \"Pred\": 6.720729780400979}, {\"Country name\": \"Canada\", \"Regional indicator\": \"North America and ANZ\", \"Ladder score\": 7.103, \"Logged GDP per capita\": 10.776, \"Social support\": 0.926, \"Healthy life expectancy\": 73.8, \"Freedom to make life choices\": 0.915, \"Generosity\": 0.089, \"Perceptions of corruption\": 0.415, \"Rank\": 14, \"Happiness\": \"Very Happy\", \"cluster\": 4, \"Pred\": 6.926045289155133}, {\"Country name\": \"Ireland\", \"Regional indicator\": \"Western Europe\", \"Ladder score\": 7.085, \"Logged GDP per capita\": 11.342, \"Social support\": 0.947, \"Healthy life expectancy\": 72.4, \"Freedom to make life choices\": 0.879, \"Generosity\": 0.077, \"Perceptions of corruption\": 0.363, \"Rank\": 15, \"Happiness\": \"Very Happy\", \"cluster\": 4, \"Pred\": 7.048537353781337}, {\"Country name\": \"Costa Rica\", \"Regional indicator\": \"Latin America and Caribbean\", \"Ladder score\": 7.069, \"Logged GDP per capita\": 9.88, \"Social support\": 0.891, \"Healthy life expectancy\": 71.4, \"Freedom to make life choices\": 0.934, \"Generosity\": -0.126, \"Perceptions of corruption\": 0.809, \"Rank\": 16, \"Happiness\": \"Very Happy\", \"cluster\": 0, \"Pred\": 6.237614014775661}, {\"Country name\": \"United Kingdom\", \"Regional indicator\": \"Western Europe\", \"Ladder score\": 7.064, \"Logged GDP per capita\": 10.707, \"Social support\": 0.934, \"Healthy life expectancy\": 72.5, \"Freedom to make life choices\": 0.859, \"Generosity\": 0.233, \"Perceptions of corruption\": 0.459, \"Rank\": 17, \"Happiness\": \"Very Happy\", \"cluster\": 4, \"Pred\": 6.800420148820808}, {\"Country name\": \"Czech Republic\", \"Regional indicator\": \"Central and Eastern Europe\", \"Ladder score\": 6.965, \"Logged GDP per capita\": 10.556, \"Social support\": 0.947, \"Healthy life expectancy\": 70.807, \"Freedom to make life choices\": 0.858, \"Generosity\": -0.208, \"Perceptions of corruption\": 0.868, \"Rank\": 18, \"Happiness\": \"Very Happy\", \"cluster\": 0, \"Pred\": 6.3288946394712875}, {\"Country name\": \"United States\", \"Regional indicator\": \"North America and ANZ\", \"Ladder score\": 6.951, \"Logged GDP per capita\": 11.023, \"Social support\": 0.92, \"Healthy life expectancy\": 68.2, \"Freedom to make life choices\": 0.837, \"Generosity\": 0.098, \"Perceptions of corruption\": 0.698, \"Rank\": 19, \"Happiness\": \"Very Happy\", \"cluster\": 0, \"Pred\": 6.485697551513556}, {\"Country name\": \"Belgium\", \"Regional indicator\": \"Western Europe\", \"Ladder score\": 6.834, \"Logged GDP per capita\": 10.823, \"Social support\": 0.906, \"Healthy life expectancy\": 72.199, \"Freedom to make life choices\": 0.783, \"Generosity\": -0.153, \"Perceptions of corruption\": 0.646, \"Rank\": 20, \"Happiness\": \"Very Happy\", \"cluster\": 0, \"Pred\": 6.347788835971985}, {\"Country name\": \"France\", \"Regional indicator\": \"Western Europe\", \"Ladder score\": 6.69, \"Logged GDP per capita\": 10.704, \"Social support\": 0.942, \"Healthy life expectancy\": 74.0, \"Freedom to make life choices\": 0.822, \"Generosity\": -0.147, \"Perceptions of corruption\": 0.571, \"Rank\": 21, \"Happiness\": \"Very Happy\", \"cluster\": 0, \"Pred\": 6.584239305455768}, {\"Country name\": \"Bahrain\", \"Regional indicator\": \"Middle East and North Africa\", \"Ladder score\": 6.647, \"Logged GDP per capita\": 10.669, \"Social support\": 0.862, \"Healthy life expectancy\": 69.495, \"Freedom to make life choices\": 0.925, \"Generosity\": 0.089, \"Perceptions of corruption\": 0.722, \"Rank\": 22, \"Happiness\": \"Very Happy\", \"cluster\": 0, \"Pred\": 6.441498607311062}, {\"Country name\": \"Malta\", \"Regional indicator\": \"Western Europe\", \"Ladder score\": 6.602, \"Logged GDP per capita\": 10.674, \"Social support\": 0.931, \"Healthy life expectancy\": 72.2, \"Freedom to make life choices\": 0.927, \"Generosity\": 0.133, \"Perceptions of corruption\": 0.653, \"Rank\": 23, \"Happiness\": \"Very Happy\", \"cluster\": 4, \"Pred\": 6.757558404847665}, {\"Country name\": \"Taiwan Province of China\", \"Regional indicator\": \"East Asia\", \"Ladder score\": 6.584, \"Logged GDP per capita\": 10.871, \"Social support\": 0.898, \"Healthy life expectancy\": 69.6, \"Freedom to make life choices\": 0.784, \"Generosity\": -0.07, \"Perceptions of corruption\": 0.721, \"Rank\": 24, \"Happiness\": \"Very Happy\", \"cluster\": 0, \"Pred\": 6.249483453442303}, {\"Country name\": \"United Arab Emirates\", \"Regional indicator\": \"Middle East and North Africa\", \"Ladder score\": 6.561, \"Logged GDP per capita\": 11.085, \"Social support\": 0.844, \"Healthy life expectancy\": 67.333, \"Freedom to make life choices\": 0.932, \"Generosity\": 0.074, \"Perceptions of corruption\": 0.589, \"Rank\": 25, \"Happiness\": \"Very Happy\", \"cluster\": 4, \"Pred\": 6.536758853427091}, {\"Country name\": \"Saudi Arabia\", \"Regional indicator\": \"Middle East and North Africa\", \"Ladder score\": 6.494, \"Logged GDP per capita\": 10.743, \"Social support\": 0.891, \"Healthy life expectancy\": 66.603, \"Freedom to make life choices\": 0.877, \"Generosity\": -0.149, \"Perceptions of corruption\": 0.684, \"Rank\": 26, \"Happiness\": \"Very Happy\", \"cluster\": 0, \"Pred\": 6.286094745130591}, {\"Country name\": \"Spain\", \"Regional indicator\": \"Western Europe\", \"Ladder score\": 6.491, \"Logged GDP per capita\": 10.571, \"Social support\": 0.932, \"Healthy life expectancy\": 74.7, \"Freedom to make life choices\": 0.761, \"Generosity\": -0.081, \"Perceptions of corruption\": 0.745, \"Rank\": 27, \"Happiness\": \"Very Happy\", \"cluster\": 0, \"Pred\": 6.339643934448023}, {\"Country name\": \"Italy\", \"Regional indicator\": \"Western Europe\", \"Ladder score\": 6.483, \"Logged GDP per capita\": 10.623, \"Social support\": 0.88, \"Healthy life expectancy\": 73.8, \"Freedom to make life choices\": 0.693, \"Generosity\": -0.084, \"Perceptions of corruption\": 0.866, \"Rank\": 28, \"Happiness\": \"Very Happy\", \"cluster\": 0, \"Pred\": 5.987113660380504}, {\"Country name\": \"Slovenia\", \"Regional indicator\": \"Central and Eastern Europe\", \"Ladder score\": 6.461, \"Logged GDP per capita\": 10.529, \"Social support\": 0.948, \"Healthy life expectancy\": 71.4, \"Freedom to make life choices\": 0.949, \"Generosity\": -0.101, \"Perceptions of corruption\": 0.806, \"Rank\": 29, \"Happiness\": \"Very Happy\", \"cluster\": 0, \"Pred\": 6.601256393058125}, {\"Country name\": \"Guatemala\", \"Regional indicator\": \"Latin America and Caribbean\", \"Ladder score\": 6.435, \"Logged GDP per capita\": 9.053, \"Social support\": 0.813, \"Healthy life expectancy\": 64.958, \"Freedom to make life choices\": 0.906, \"Generosity\": -0.038, \"Perceptions of corruption\": 0.775, \"Rank\": 30, \"Happiness\": \"Very Happy\", \"cluster\": 0, \"Pred\": 5.614360392469713}, {\"Country name\": \"Uruguay\", \"Regional indicator\": \"Latin America and Caribbean\", \"Ladder score\": 6.431, \"Logged GDP per capita\": 9.966, \"Social support\": 0.925, \"Healthy life expectancy\": 69.1, \"Freedom to make life choices\": 0.896, \"Generosity\": -0.092, \"Perceptions of corruption\": 0.59, \"Rank\": 31, \"Happiness\": \"Very Happy\", \"cluster\": 0, \"Pred\": 6.344629498616913}, {\"Country name\": \"Singapore\", \"Regional indicator\": \"Southeast Asia\", \"Ladder score\": 6.377, \"Logged GDP per capita\": 11.488, \"Social support\": 0.915, \"Healthy life expectancy\": 76.953, \"Freedom to make life choices\": 0.927, \"Generosity\": -0.018, \"Perceptions of corruption\": 0.082, \"Rank\": 32, \"Happiness\": \"Very Happy\", \"cluster\": 4, \"Pred\": 7.380046164321208}, {\"Country name\": \"Kosovo\", \"Regional indicator\": \"Central and Eastern Europe\", \"Ladder score\": 6.372, \"Logged GDP per capita\": 9.318, \"Social support\": 0.821, \"Healthy life expectancy\": 63.813, \"Freedom to make life choices\": 0.869, \"Generosity\": 0.257, \"Perceptions of corruption\": 0.917, \"Rank\": 33, \"Happiness\": \"Very Happy\", \"cluster\": 2, \"Pred\": 5.620719390361434}, {\"Country name\": \"Slovakia\", \"Regional indicator\": \"Central and Eastern Europe\", \"Ladder score\": 6.331, \"Logged GDP per capita\": 10.369, \"Social support\": 0.936, \"Healthy life expectancy\": 69.201, \"Freedom to make life choices\": 0.766, \"Generosity\": -0.124, \"Perceptions of corruption\": 0.911, \"Rank\": 34, \"Happiness\": \"Very Happy\", \"cluster\": 0, \"Pred\": 6.0203261254004525}, {\"Country name\": \"Brazil\", \"Regional indicator\": \"Latin America and Caribbean\", \"Ladder score\": 6.33, \"Logged GDP per capita\": 9.577, \"Social support\": 0.882, \"Healthy life expectancy\": 66.601, \"Freedom to make life choices\": 0.804, \"Generosity\": -0.071, \"Perceptions of corruption\": 0.756, \"Rank\": 35, \"Happiness\": \"Very Happy\", \"cluster\": 0, \"Pred\": 5.775904168000781}, {\"Country name\": \"Mexico\", \"Regional indicator\": \"Latin America and Caribbean\", \"Ladder score\": 6.317, \"Logged GDP per capita\": 9.859, \"Social support\": 0.831, \"Healthy life expectancy\": 68.597, \"Freedom to make life choices\": 0.862, \"Generosity\": -0.147, \"Perceptions of corruption\": 0.799, \"Rank\": 36, \"Happiness\": \"Very Happy\", \"cluster\": 0, \"Pred\": 5.85184729500475}, {\"Country name\": \"Jamaica\", \"Regional indicator\": \"Latin America and Caribbean\", \"Ladder score\": 6.309, \"Logged GDP per capita\": 9.186, \"Social support\": 0.877, \"Healthy life expectancy\": 67.5, \"Freedom to make life choices\": 0.89, \"Generosity\": -0.137, \"Perceptions of corruption\": 0.884, \"Rank\": 37, \"Happiness\": \"Very Happy\", \"cluster\": 0, \"Pred\": 5.752876903395236}, {\"Country name\": \"Lithuania\", \"Regional indicator\": \"Central and Eastern Europe\", \"Ladder score\": 6.255, \"Logged GDP per capita\": 10.499, \"Social support\": 0.935, \"Healthy life expectancy\": 67.906, \"Freedom to make life choices\": 0.773, \"Generosity\": -0.203, \"Perceptions of corruption\": 0.826, \"Rank\": 38, \"Happiness\": \"Very Happy\", \"cluster\": 0, \"Pred\": 6.0516526886754045}, {\"Country name\": \"Cyprus\", \"Regional indicator\": \"Western Europe\", \"Ladder score\": 6.223, \"Logged GDP per capita\": 10.576, \"Social support\": 0.802, \"Healthy life expectancy\": 73.898, \"Freedom to make life choices\": 0.763, \"Generosity\": -0.015, \"Perceptions of corruption\": 0.844, \"Rank\": 39, \"Happiness\": \"Happy\", \"cluster\": 0, \"Pred\": 5.962989213256971}, {\"Country name\": \"Estonia\", \"Regional indicator\": \"Central and Eastern Europe\", \"Ladder score\": 6.189, \"Logged GDP per capita\": 10.481, \"Social support\": 0.941, \"Healthy life expectancy\": 68.8, \"Freedom to make life choices\": 0.909, \"Generosity\": -0.106, \"Perceptions of corruption\": 0.527, \"Rank\": 40, \"Happiness\": \"Happy\", \"cluster\": 0, \"Pred\": 6.57826956573433}, {\"Country name\": \"Panama\", \"Regional indicator\": \"Latin America and Caribbean\", \"Ladder score\": 6.18, \"Logged GDP per capita\": 10.35, \"Social support\": 0.896, \"Healthy life expectancy\": 69.652, \"Freedom to make life choices\": 0.872, \"Generosity\": -0.166, \"Perceptions of corruption\": 0.856, \"Rank\": 41, \"Happiness\": \"Happy\", \"cluster\": 0, \"Pred\": 6.1607235594719905}, {\"Country name\": \"Uzbekistan\", \"Regional indicator\": \"Commonwealth of Independent States\", \"Ladder score\": 6.179, \"Logged GDP per capita\": 8.836, \"Social support\": 0.918, \"Healthy life expectancy\": 65.255, \"Freedom to make life choices\": 0.97, \"Generosity\": 0.311, \"Perceptions of corruption\": 0.515, \"Rank\": 42, \"Happiness\": \"Happy\", \"cluster\": 2, \"Pred\": 6.23586946879622}, {\"Country name\": \"Chile\", \"Regional indicator\": \"Latin America and Caribbean\", \"Ladder score\": 6.172, \"Logged GDP per capita\": 10.071, \"Social support\": 0.882, \"Healthy life expectancy\": 70.0, \"Freedom to make life choices\": 0.742, \"Generosity\": -0.044, \"Perceptions of corruption\": 0.83, \"Rank\": 43, \"Happiness\": \"Happy\", \"cluster\": 0, \"Pred\": 5.857442777631364}, {\"Country name\": \"Poland\", \"Regional indicator\": \"Central and Eastern Europe\", \"Ladder score\": 6.166, \"Logged GDP per capita\": 10.382, \"Social support\": 0.898, \"Healthy life expectancy\": 69.702, \"Freedom to make life choices\": 0.841, \"Generosity\": -0.165, \"Perceptions of corruption\": 0.735, \"Rank\": 44, \"Happiness\": \"Happy\", \"cluster\": 0, \"Pred\": 6.187392794332996}, {\"Country name\": \"Kazakhstan\", \"Regional indicator\": \"Commonwealth of Independent States\", \"Ladder score\": 6.152, \"Logged GDP per capita\": 10.155, \"Social support\": 0.952, \"Healthy life expectancy\": 65.2, \"Freedom to make life choices\": 0.853, \"Generosity\": -0.069, \"Perceptions of corruption\": 0.733, \"Rank\": 45, \"Happiness\": \"Happy\", \"cluster\": 0, \"Pred\": 6.1814975860753}, {\"Country name\": \"Romania\", \"Regional indicator\": \"Central and Eastern Europe\", \"Ladder score\": 6.14, \"Logged GDP per capita\": 10.284, \"Social support\": 0.832, \"Healthy life expectancy\": 67.355, \"Freedom to make life choices\": 0.845, \"Generosity\": -0.219, \"Perceptions of corruption\": 0.938, \"Rank\": 46, \"Happiness\": \"Happy\", \"cluster\": 0, \"Pred\": 5.7909540719359365}, {\"Country name\": \"Kuwait\", \"Regional indicator\": \"Middle East and North Africa\", \"Ladder score\": 6.106, \"Logged GDP per capita\": 10.817, \"Social support\": 0.843, \"Healthy life expectancy\": 66.9, \"Freedom to make life choices\": 0.867, \"Generosity\": -0.104, \"Perceptions of corruption\": 0.736, \"Rank\": 47, \"Happiness\": \"Happy\", \"cluster\": 0, \"Pred\": 6.161753269395267}, {\"Country name\": \"Serbia\", \"Regional indicator\": \"Central and Eastern Europe\", \"Ladder score\": 6.078, \"Logged GDP per capita\": 9.787, \"Social support\": 0.873, \"Healthy life expectancy\": 68.6, \"Freedom to make life choices\": 0.778, \"Generosity\": 0.002, \"Perceptions of corruption\": 0.835, \"Rank\": 48, \"Happiness\": \"Happy\", \"cluster\": 0, \"Pred\": 5.799443084693764}, {\"Country name\": \"El Salvador\", \"Regional indicator\": \"Latin America and Caribbean\", \"Ladder score\": 6.061, \"Logged GDP per capita\": 9.054, \"Social support\": 0.762, \"Healthy life expectancy\": 66.402, \"Freedom to make life choices\": 0.888, \"Generosity\": -0.11, \"Perceptions of corruption\": 0.688, \"Rank\": 49, \"Happiness\": \"Happy\", \"cluster\": 0, \"Pred\": 5.522345690939096}, {\"Country name\": \"Mauritius\", \"Regional indicator\": \"Sub-Saharan Africa\", \"Ladder score\": 6.049, \"Logged GDP per capita\": 10.008, \"Social support\": 0.905, \"Healthy life expectancy\": 66.701, \"Freedom to make life choices\": 0.867, \"Generosity\": -0.054, \"Perceptions of corruption\": 0.789, \"Rank\": 50, \"Happiness\": \"Happy\", \"cluster\": 0, \"Pred\": 6.06925270350128}, {\"Country name\": \"Latvia\", \"Regional indicator\": \"Central and Eastern Europe\", \"Ladder score\": 6.032, \"Logged GDP per capita\": 10.315, \"Social support\": 0.927, \"Healthy life expectancy\": 67.1, \"Freedom to make life choices\": 0.715, \"Generosity\": -0.162, \"Perceptions of corruption\": 0.8, \"Rank\": 51, \"Happiness\": \"Happy\", \"cluster\": 0, \"Pred\": 5.870041148884526}, {\"Country name\": \"Colombia\", \"Regional indicator\": \"Latin America and Caribbean\", \"Ladder score\": 6.012, \"Logged GDP per capita\": 9.557, \"Social support\": 0.847, \"Healthy life expectancy\": 68.001, \"Freedom to make life choices\": 0.837, \"Generosity\": -0.135, \"Perceptions of corruption\": 0.841, \"Rank\": 52, \"Happiness\": \"Happy\", \"cluster\": 0, \"Pred\": 5.717677733197052}, {\"Country name\": \"Hungary\", \"Regional indicator\": \"Central and Eastern Europe\", \"Ladder score\": 5.992, \"Logged GDP per capita\": 10.358, \"Social support\": 0.943, \"Healthy life expectancy\": 68.0, \"Freedom to make life choices\": 0.755, \"Generosity\": -0.186, \"Perceptions of corruption\": 0.876, \"Rank\": 53, \"Happiness\": \"Happy\", \"cluster\": 0, \"Pred\": 5.9746492354923975}, {\"Country name\": \"Thailand\", \"Regional indicator\": \"Southeast Asia\", \"Ladder score\": 5.985, \"Logged GDP per capita\": 9.805, \"Social support\": 0.888, \"Healthy life expectancy\": 67.401, \"Freedom to make life choices\": 0.884, \"Generosity\": 0.287, \"Perceptions of corruption\": 0.895, \"Rank\": 54, \"Happiness\": \"Happy\", \"cluster\": 2, \"Pred\": 6.08592410983132}, {\"Country name\": \"Nicaragua\", \"Regional indicator\": \"Latin America and Caribbean\", \"Ladder score\": 5.972, \"Logged GDP per capita\": 8.62, \"Social support\": 0.864, \"Healthy life expectancy\": 67.657, \"Freedom to make life choices\": 0.836, \"Generosity\": 0.02, \"Perceptions of corruption\": 0.664, \"Rank\": 55, \"Happiness\": \"Happy\", \"cluster\": 2, \"Pred\": 5.648992935661633}, {\"Country name\": \"Japan\", \"Regional indicator\": \"East Asia\", \"Ladder score\": 5.94, \"Logged GDP per capita\": 10.611, \"Social support\": 0.884, \"Healthy life expectancy\": 75.1, \"Freedom to make life choices\": 0.796, \"Generosity\": -0.258, \"Perceptions of corruption\": 0.638, \"Rank\": 56, \"Happiness\": \"Happy\", \"cluster\": 0, \"Pred\": 6.314708373874667}, {\"Country name\": \"Argentina\", \"Regional indicator\": \"Latin America and Caribbean\", \"Ladder score\": 5.929, \"Logged GDP per capita\": 9.962, \"Social support\": 0.898, \"Healthy life expectancy\": 69.0, \"Freedom to make life choices\": 0.828, \"Generosity\": -0.182, \"Perceptions of corruption\": 0.834, \"Rank\": 57, \"Happiness\": \"Happy\", \"cluster\": 0, \"Pred\": 5.9564740623323855}, {\"Country name\": \"Portugal\", \"Regional indicator\": \"Western Europe\", \"Ladder score\": 5.929, \"Logged GDP per capita\": 10.421, \"Social support\": 0.879, \"Healthy life expectancy\": 72.6, \"Freedom to make life choices\": 0.892, \"Generosity\": -0.244, \"Perceptions of corruption\": 0.887, \"Rank\": 58, \"Happiness\": \"Happy\", \"cluster\": 0, \"Pred\": 6.220869672213046}, {\"Country name\": \"Honduras\", \"Regional indicator\": \"Latin America and Caribbean\", \"Ladder score\": 5.919, \"Logged GDP per capita\": 8.648, \"Social support\": 0.812, \"Healthy life expectancy\": 67.3, \"Freedom to make life choices\": 0.857, \"Generosity\": 0.081, \"Perceptions of corruption\": 0.809, \"Rank\": 59, \"Happiness\": \"Happy\", \"cluster\": 2, \"Pred\": 5.493943872605995}, {\"Country name\": \"Croatia\", \"Regional indicator\": \"Central and Eastern Europe\", \"Ladder score\": 5.882, \"Logged GDP per capita\": 10.217, \"Social support\": 0.924, \"Healthy life expectancy\": 70.799, \"Freedom to make life choices\": 0.754, \"Generosity\": -0.118, \"Perceptions of corruption\": 0.939, \"Rank\": 60, \"Happiness\": \"Happy\", \"cluster\": 0, \"Pred\": 5.957682272729925}, {\"Country name\": \"Philippines\", \"Regional indicator\": \"Southeast Asia\", \"Ladder score\": 5.88, \"Logged GDP per capita\": 9.076, \"Social support\": 0.83, \"Healthy life expectancy\": 62.0, \"Freedom to make life choices\": 0.917, \"Generosity\": -0.097, \"Perceptions of corruption\": 0.742, \"Rank\": 61, \"Happiness\": \"Happy\", \"cluster\": 0, \"Pred\": 5.593801497039319}, {\"Country name\": \"South Korea\", \"Regional indicator\": \"East Asia\", \"Ladder score\": 5.845, \"Logged GDP per capita\": 10.651, \"Social support\": 0.799, \"Healthy life expectancy\": 73.9, \"Freedom to make life choices\": 0.672, \"Generosity\": -0.083, \"Perceptions of corruption\": 0.727, \"Rank\": 62, \"Happiness\": \"Happy\", \"cluster\": 0, \"Pred\": 5.8396516671956595}, {\"Country name\": \"Peru\", \"Regional indicator\": \"Latin America and Caribbean\", \"Ladder score\": 5.84, \"Logged GDP per capita\": 9.458, \"Social support\": 0.832, \"Healthy life expectancy\": 68.25, \"Freedom to make life choices\": 0.822, \"Generosity\": -0.154, \"Perceptions of corruption\": 0.891, \"Rank\": 63, \"Happiness\": \"Happy\", \"cluster\": 0, \"Pred\": 5.593074212126404}, {\"Country name\": \"Bosnia and Herzegovina\", \"Regional indicator\": \"Central and Eastern Europe\", \"Ladder score\": 5.813, \"Logged GDP per capita\": 9.59, \"Social support\": 0.87, \"Healthy life expectancy\": 68.098, \"Freedom to make life choices\": 0.706, \"Generosity\": 0.113, \"Perceptions of corruption\": 0.931, \"Rank\": 64, \"Happiness\": \"Happy\", \"cluster\": 2, \"Pred\": 5.559333080235411}, {\"Country name\": \"Moldova\", \"Regional indicator\": \"Commonwealth of Independent States\", \"Ladder score\": 5.766, \"Logged GDP per capita\": 9.454, \"Social support\": 0.857, \"Healthy life expectancy\": 65.699, \"Freedom to make life choices\": 0.822, \"Generosity\": -0.079, \"Perceptions of corruption\": 0.918, \"Rank\": 65, \"Happiness\": \"Happy\", \"cluster\": 0, \"Pred\": 5.587521859625745}, {\"Country name\": \"Ecuador\", \"Regional indicator\": \"Latin America and Caribbean\", \"Ladder score\": 5.764, \"Logged GDP per capita\": 9.313, \"Social support\": 0.821, \"Healthy life expectancy\": 68.8, \"Freedom to make life choices\": 0.842, \"Generosity\": -0.124, \"Perceptions of corruption\": 0.843, \"Rank\": 66, \"Happiness\": \"Happy\", \"cluster\": 0, \"Pred\": 5.622161431523657}, {\"Country name\": \"Kyrgyzstan\", \"Regional indicator\": \"Commonwealth of Independent States\", \"Ladder score\": 5.744, \"Logged GDP per capita\": 8.538, \"Social support\": 0.893, \"Healthy life expectancy\": 64.401, \"Freedom to make life choices\": 0.935, \"Generosity\": 0.119, \"Perceptions of corruption\": 0.908, \"Rank\": 67, \"Happiness\": \"Happy\", \"cluster\": 2, \"Pred\": 5.686646861863943}, {\"Country name\": \"Greece\", \"Regional indicator\": \"Western Europe\", \"Ladder score\": 5.723, \"Logged GDP per capita\": 10.279, \"Social support\": 0.823, \"Healthy life expectancy\": 72.6, \"Freedom to make life choices\": 0.582, \"Generosity\": -0.288, \"Perceptions of corruption\": 0.823, \"Rank\": 68, \"Happiness\": \"Happy\", \"cluster\": 1, \"Pred\": 5.4419574829489585}, {\"Country name\": \"Bolivia\", \"Regional indicator\": \"Latin America and Caribbean\", \"Ladder score\": 5.716, \"Logged GDP per capita\": 9.046, \"Social support\": 0.81, \"Healthy life expectancy\": 63.901, \"Freedom to make life choices\": 0.875, \"Generosity\": -0.077, \"Perceptions of corruption\": 0.839, \"Rank\": 69, \"Happiness\": \"Happy\", \"cluster\": 0, \"Pred\": 5.457672170441142}, {\"Country name\": \"Mongolia\", \"Regional indicator\": \"East Asia\", \"Ladder score\": 5.677, \"Logged GDP per capita\": 9.4, \"Social support\": 0.935, \"Healthy life expectancy\": 62.5, \"Freedom to make life choices\": 0.708, \"Generosity\": 0.116, \"Perceptions of corruption\": 0.856, \"Rank\": 70, \"Happiness\": \"Happy\", \"cluster\": 2, \"Pred\": 5.5479744464081415}, {\"Country name\": \"Paraguay\", \"Regional indicator\": \"Latin America and Caribbean\", \"Ladder score\": 5.653, \"Logged GDP per capita\": 9.448, \"Social support\": 0.893, \"Healthy life expectancy\": 65.9, \"Freedom to make life choices\": 0.876, \"Generosity\": 0.028, \"Perceptions of corruption\": 0.882, \"Rank\": 71, \"Happiness\": \"Happy\", \"cluster\": 2, \"Pred\": 5.850418414622163}, {\"Country name\": \"Montenegro\", \"Regional indicator\": \"Central and Eastern Europe\", \"Ladder score\": 5.581, \"Logged GDP per capita\": 9.94, \"Social support\": 0.858, \"Healthy life expectancy\": 68.699, \"Freedom to make life choices\": 0.708, \"Generosity\": -0.034, \"Perceptions of corruption\": 0.812, \"Rank\": 72, \"Happiness\": \"Happy\", \"cluster\": 0, \"Pred\": 5.668136429098284}, {\"Country name\": \"Dominican Republic\", \"Regional indicator\": \"Latin America and Caribbean\", \"Ladder score\": 5.545, \"Logged GDP per capita\": 9.802, \"Social support\": 0.853, \"Healthy life expectancy\": 66.102, \"Freedom to make life choices\": 0.86, \"Generosity\": -0.133, \"Perceptions of corruption\": 0.714, \"Rank\": 73, \"Happiness\": \"Happy\", \"cluster\": 0, \"Pred\": 5.867270704718204}, {\"Country name\": \"North Cyprus\", \"Regional indicator\": \"Western Europe\", \"Ladder score\": 5.536, \"Logged GDP per capita\": 10.576, \"Social support\": 0.82, \"Healthy life expectancy\": 73.898, \"Freedom to make life choices\": 0.795, \"Generosity\": 0.012, \"Perceptions of corruption\": 0.626, \"Rank\": 74, \"Happiness\": \"Happy\", \"cluster\": 0, \"Pred\": 6.213644106455585}, {\"Country name\": \"Belarus\", \"Regional indicator\": \"Commonwealth of Independent States\", \"Ladder score\": 5.534, \"Logged GDP per capita\": 9.853, \"Social support\": 0.91, \"Healthy life expectancy\": 66.253, \"Freedom to make life choices\": 0.65, \"Generosity\": -0.18, \"Perceptions of corruption\": 0.627, \"Rank\": 75, \"Happiness\": \"Less Happy\", \"cluster\": 1, \"Pred\": 5.640567446715083}, {\"Country name\": \"Russia\", \"Regional indicator\": \"Commonwealth of Independent States\", \"Ladder score\": 5.477, \"Logged GDP per capita\": 10.189, \"Social support\": 0.903, \"Healthy life expectancy\": 64.703, \"Freedom to make life choices\": 0.718, \"Generosity\": -0.111, \"Perceptions of corruption\": 0.845, \"Rank\": 76, \"Happiness\": \"Less Happy\", \"cluster\": 0, \"Pred\": 5.70011459889276}, {\"Country name\": \"Hong Kong S.A.R. of China\", \"Regional indicator\": \"East Asia\", \"Ladder score\": 5.477, \"Logged GDP per capita\": 11.0, \"Social support\": 0.836, \"Healthy life expectancy\": 76.82, \"Freedom to make life choices\": 0.717, \"Generosity\": 0.067, \"Perceptions of corruption\": 0.403, \"Rank\": 77, \"Happiness\": \"Less Happy\", \"cluster\": 4, \"Pred\": 6.458522532029675}, {\"Country name\": \"Tajikistan\", \"Regional indicator\": \"Commonwealth of Independent States\", \"Ladder score\": 5.466, \"Logged GDP per capita\": 8.091, \"Social support\": 0.86, \"Healthy life expectancy\": 64.281, \"Freedom to make life choices\": 0.832, \"Generosity\": -0.056, \"Perceptions of corruption\": 0.553, \"Rank\": 78, \"Happiness\": \"Less Happy\", \"cluster\": 2, \"Pred\": 5.420306078705351}, {\"Country name\": \"Vietnam\", \"Regional indicator\": \"Southeast Asia\", \"Ladder score\": 5.411, \"Logged GDP per capita\": 8.973, \"Social support\": 0.85, \"Healthy life expectancy\": 68.034, \"Freedom to make life choices\": 0.94, \"Generosity\": -0.098, \"Perceptions of corruption\": 0.796, \"Rank\": 79, \"Happiness\": \"Less Happy\", \"cluster\": 0, \"Pred\": 5.8106486202973455}, {\"Country name\": \"Libya\", \"Regional indicator\": \"Middle East and North Africa\", \"Ladder score\": 5.41, \"Logged GDP per capita\": 9.622, \"Social support\": 0.827, \"Healthy life expectancy\": 62.3, \"Freedom to make life choices\": 0.771, \"Generosity\": -0.087, \"Perceptions of corruption\": 0.667, \"Rank\": 80, \"Happiness\": \"Less Happy\", \"cluster\": 1, \"Pred\": 5.503589840377983}, {\"Country name\": \"Malaysia\", \"Regional indicator\": \"Southeast Asia\", \"Ladder score\": 5.384, \"Logged GDP per capita\": 10.238, \"Social support\": 0.817, \"Healthy life expectancy\": 67.102, \"Freedom to make life choices\": 0.895, \"Generosity\": 0.125, \"Perceptions of corruption\": 0.839, \"Rank\": 81, \"Happiness\": \"Less Happy\", \"cluster\": 2, \"Pred\": 6.0190577845929925}, {\"Country name\": \"Indonesia\", \"Regional indicator\": \"Southeast Asia\", \"Ladder score\": 5.345, \"Logged GDP per capita\": 9.365, \"Social support\": 0.811, \"Healthy life expectancy\": 62.236, \"Freedom to make life choices\": 0.873, \"Generosity\": 0.542, \"Perceptions of corruption\": 0.867, \"Rank\": 82, \"Happiness\": \"Less Happy\", \"cluster\": 2, \"Pred\": 5.703435796731148}, {\"Country name\": \"Congo (Brazzaville)\", \"Regional indicator\": \"Sub-Saharan Africa\", \"Ladder score\": 5.342, \"Logged GDP per capita\": 8.117, \"Social support\": 0.636, \"Healthy life expectancy\": 58.221, \"Freedom to make life choices\": 0.695, \"Generosity\": -0.068, \"Perceptions of corruption\": 0.745, \"Rank\": 83, \"Happiness\": \"Less Happy\", \"cluster\": 3, \"Pred\": 4.2932182534353}, {\"Country name\": \"China\", \"Regional indicator\": \"East Asia\", \"Ladder score\": 5.339, \"Logged GDP per capita\": 9.673, \"Social support\": 0.811, \"Healthy life expectancy\": 69.593, \"Freedom to make life choices\": 0.904, \"Generosity\": -0.146, \"Perceptions of corruption\": 0.755, \"Rank\": 84, \"Happiness\": \"Less Happy\", \"cluster\": 0, \"Pred\": 5.891950553277664}, {\"Country name\": \"Ivory Coast\", \"Regional indicator\": \"Sub-Saharan Africa\", \"Ladder score\": 5.306, \"Logged GDP per capita\": 8.551, \"Social support\": 0.644, \"Healthy life expectancy\": 50.114, \"Freedom to make life choices\": 0.741, \"Generosity\": -0.016, \"Perceptions of corruption\": 0.794, \"Rank\": 85, \"Happiness\": \"Less Happy\", \"cluster\": 3, \"Pred\": 4.270370841675234}, {\"Country name\": \"Armenia\", \"Regional indicator\": \"Commonwealth of Independent States\", \"Ladder score\": 5.283, \"Logged GDP per capita\": 9.487, \"Social support\": 0.799, \"Healthy life expectancy\": 67.055, \"Freedom to make life choices\": 0.825, \"Generosity\": -0.168, \"Perceptions of corruption\": 0.629, \"Rank\": 86, \"Happiness\": \"Less Happy\", \"cluster\": 0, \"Pred\": 5.642704956706641}, {\"Country name\": \"Nepal\", \"Regional indicator\": \"South Asia\", \"Ladder score\": 5.269, \"Logged GDP per capita\": 8.12, \"Social support\": 0.774, \"Healthy life expectancy\": 64.233, \"Freedom to make life choices\": 0.782, \"Generosity\": 0.152, \"Perceptions of corruption\": 0.727, \"Rank\": 87, \"Happiness\": \"Less Happy\", \"cluster\": 2, \"Pred\": 5.083986008105666}, {\"Country name\": \"Bulgaria\", \"Regional indicator\": \"Central and Eastern Europe\", \"Ladder score\": 5.266, \"Logged GDP per capita\": 10.016, \"Social support\": 0.931, \"Healthy life expectancy\": 67.0, \"Freedom to make life choices\": 0.788, \"Generosity\": -0.096, \"Perceptions of corruption\": 0.932, \"Rank\": 88, \"Happiness\": \"Less Happy\", \"cluster\": 0, \"Pred\": 5.8842752732375105}, {\"Country name\": \"Maldives\", \"Regional indicator\": \"South Asia\", \"Ladder score\": 5.198, \"Logged GDP per capita\": 9.826, \"Social support\": 0.913, \"Healthy life expectancy\": 70.6, \"Freedom to make life choices\": 0.854, \"Generosity\": 0.024, \"Perceptions of corruption\": 0.825, \"Rank\": 89, \"Happiness\": \"Less Happy\", \"cluster\": 0, \"Pred\": 6.136883364279364}, {\"Country name\": \"Azerbaijan\", \"Regional indicator\": \"Commonwealth of Independent States\", \"Ladder score\": 5.171, \"Logged GDP per capita\": 9.569, \"Social support\": 0.836, \"Healthy life expectancy\": 65.656, \"Freedom to make life choices\": 0.814, \"Generosity\": -0.223, \"Perceptions of corruption\": 0.506, \"Rank\": 90, \"Happiness\": \"Less Happy\", \"cluster\": 0, \"Pred\": 5.747107415977081}, {\"Country name\": \"Cameroon\", \"Regional indicator\": \"Sub-Saharan Africa\", \"Ladder score\": 5.142, \"Logged GDP per capita\": 8.189, \"Social support\": 0.71, \"Healthy life expectancy\": 53.515, \"Freedom to make life choices\": 0.731, \"Generosity\": 0.026, \"Perceptions of corruption\": 0.848, \"Rank\": 91, \"Happiness\": \"Less Happy\", \"cluster\": 3, \"Pred\": 4.398231234332092}, {\"Country name\": \"Senegal\", \"Regional indicator\": \"Sub-Saharan Africa\", \"Ladder score\": 5.132, \"Logged GDP per capita\": 8.118, \"Social support\": 0.71, \"Healthy life expectancy\": 59.802, \"Freedom to make life choices\": 0.695, \"Generosity\": -0.046, \"Perceptions of corruption\": 0.801, \"Rank\": 92, \"Happiness\": \"Less Happy\", \"cluster\": 3, \"Pred\": 4.498794420717249}, {\"Country name\": \"Albania\", \"Regional indicator\": \"Central and Eastern Europe\", \"Ladder score\": 5.117, \"Logged GDP per capita\": 9.52, \"Social support\": 0.697, \"Healthy life expectancy\": 68.999, \"Freedom to make life choices\": 0.785, \"Generosity\": -0.03, \"Perceptions of corruption\": 0.901, \"Rank\": 93, \"Happiness\": \"Less Happy\", \"cluster\": 1, \"Pred\": 5.2635677562162915}, {\"Country name\": \"North Macedonia\", \"Regional indicator\": \"Central and Eastern Europe\", \"Ladder score\": 5.101, \"Logged GDP per capita\": 9.693, \"Social support\": 0.805, \"Healthy life expectancy\": 65.474, \"Freedom to make life choices\": 0.751, \"Generosity\": 0.038, \"Perceptions of corruption\": 0.905, \"Rank\": 94, \"Happiness\": \"Less Happy\", \"cluster\": 2, \"Pred\": 5.426502796292617}, {\"Country name\": \"Ghana\", \"Regional indicator\": \"Sub-Saharan Africa\", \"Ladder score\": 5.088, \"Logged GDP per capita\": 8.58, \"Social support\": 0.727, \"Healthy life expectancy\": 57.586, \"Freedom to make life choices\": 0.807, \"Generosity\": 0.123, \"Perceptions of corruption\": 0.848, \"Rank\": 95, \"Happiness\": \"Less Happy\", \"cluster\": 2, \"Pred\": 4.861171992495037}, {\"Country name\": \"Niger\", \"Regional indicator\": \"Sub-Saharan Africa\", \"Ladder score\": 5.074, \"Logged GDP per capita\": 7.098, \"Social support\": 0.641, \"Healthy life expectancy\": 53.78, \"Freedom to make life choices\": 0.806, \"Generosity\": 0.018, \"Perceptions of corruption\": 0.693, \"Rank\": 96, \"Happiness\": \"Less Happy\", \"cluster\": 3, \"Pred\": 4.172094820728719}, {\"Country name\": \"Turkmenistan\", \"Regional indicator\": \"Commonwealth of Independent States\", \"Ladder score\": 5.066, \"Logged GDP per capita\": 9.629, \"Social support\": 0.983, \"Healthy life expectancy\": 62.409, \"Freedom to make life choices\": 0.877, \"Generosity\": 0.273, \"Perceptions of corruption\": 0.888, \"Rank\": 97, \"Happiness\": \"Less Happy\", \"cluster\": 2, \"Pred\": 6.105700367055403}, {\"Country name\": \"Gambia\", \"Regional indicator\": \"Sub-Saharan Africa\", \"Ladder score\": 5.051, \"Logged GDP per capita\": 7.686, \"Social support\": 0.69, \"Healthy life expectancy\": 55.16, \"Freedom to make life choices\": 0.697, \"Generosity\": 0.424, \"Perceptions of corruption\": 0.746, \"Rank\": 98, \"Happiness\": \"Less Happy\", \"cluster\": 3, \"Pred\": 4.396355864851583}, {\"Country name\": \"Benin\", \"Regional indicator\": \"Sub-Saharan Africa\", \"Ladder score\": 5.045, \"Logged GDP per capita\": 8.087, \"Social support\": 0.489, \"Healthy life expectancy\": 54.713, \"Freedom to make life choices\": 0.757, \"Generosity\": -0.034, \"Perceptions of corruption\": 0.661, \"Rank\": 99, \"Happiness\": \"Less Happy\", \"cluster\": 3, \"Pred\": 4.002354658157562}, {\"Country name\": \"Laos\", \"Regional indicator\": \"Southeast Asia\", \"Ladder score\": 5.03, \"Logged GDP per capita\": 8.947, \"Social support\": 0.728, \"Healthy life expectancy\": 58.968, \"Freedom to make life choices\": 0.91, \"Generosity\": 0.123, \"Perceptions of corruption\": 0.658, \"Rank\": 100, \"Happiness\": \"Less Happy\", \"cluster\": 2, \"Pred\": 5.330175760011857}, {\"Country name\": \"Bangladesh\", \"Regional indicator\": \"South Asia\", \"Ladder score\": 5.025, \"Logged GDP per capita\": 8.454, \"Social support\": 0.693, \"Healthy life expectancy\": 64.8, \"Freedom to make life choices\": 0.877, \"Generosity\": -0.041, \"Perceptions of corruption\": 0.682, \"Rank\": 101, \"Happiness\": \"Less Happy\", \"cluster\": 2, \"Pred\": 5.141862814313967}, {\"Country name\": \"Guinea\", \"Regional indicator\": \"Sub-Saharan Africa\", \"Ladder score\": 4.984, \"Logged GDP per capita\": 7.838, \"Social support\": 0.639, \"Healthy life expectancy\": 55.008, \"Freedom to make life choices\": 0.697, \"Generosity\": 0.095, \"Perceptions of corruption\": 0.766, \"Rank\": 102, \"Happiness\": \"Less Happy\", \"cluster\": 3, \"Pred\": 4.1759671726472485}, {\"Country name\": \"South Africa\", \"Regional indicator\": \"Sub-Saharan Africa\", \"Ladder score\": 4.956, \"Logged GDP per capita\": 9.403, \"Social support\": 0.86, \"Healthy life expectancy\": 56.904, \"Freedom to make life choices\": 0.749, \"Generosity\": -0.067, \"Perceptions of corruption\": 0.86, \"Rank\": 103, \"Happiness\": \"Less Happy\", \"cluster\": 1, \"Pred\": 5.206788302297761}, {\"Country name\": \"Turkey\", \"Regional indicator\": \"Middle East and North Africa\", \"Ladder score\": 4.948, \"Logged GDP per capita\": 10.24, \"Social support\": 0.822, \"Healthy life expectancy\": 67.199, \"Freedom to make life choices\": 0.576, \"Generosity\": -0.139, \"Perceptions of corruption\": 0.776, \"Rank\": 104, \"Happiness\": \"Less Happy\", \"cluster\": 1, \"Pred\": 5.335524027871233}, {\"Country name\": \"Pakistan\", \"Regional indicator\": \"South Asia\", \"Ladder score\": 4.934, \"Logged GDP per capita\": 8.458, \"Social support\": 0.651, \"Healthy life expectancy\": 58.709, \"Freedom to make life choices\": 0.726, \"Generosity\": 0.098, \"Perceptions of corruption\": 0.787, \"Rank\": 105, \"Happiness\": \"Less Happy\", \"cluster\": 3, \"Pred\": 4.537873153704556}, {\"Country name\": \"Morocco\", \"Regional indicator\": \"Middle East and North Africa\", \"Ladder score\": 4.918, \"Logged GDP per capita\": 8.903, \"Social support\": 0.56, \"Healthy life expectancy\": 66.208, \"Freedom to make life choices\": 0.774, \"Generosity\": -0.236, \"Perceptions of corruption\": 0.801, \"Rank\": 106, \"Happiness\": \"Less Happy\", \"cluster\": 1, \"Pred\": 4.630581291055385}, {\"Country name\": \"Venezuela\", \"Regional indicator\": \"Latin America and Caribbean\", \"Ladder score\": 4.892, \"Logged GDP per capita\": 9.073, \"Social support\": 0.861, \"Healthy life expectancy\": 66.7, \"Freedom to make life choices\": 0.615, \"Generosity\": -0.169, \"Perceptions of corruption\": 0.827, \"Rank\": 107, \"Happiness\": \"Less Happy\", \"cluster\": 1, \"Pred\": 5.127371557942676}, {\"Country name\": \"Georgia\", \"Regional indicator\": \"Commonwealth of Independent States\", \"Ladder score\": 4.891, \"Logged GDP per capita\": 9.585, \"Social support\": 0.671, \"Healthy life expectancy\": 64.3, \"Freedom to make life choices\": 0.783, \"Generosity\": -0.238, \"Perceptions of corruption\": 0.655, \"Rank\": 108, \"Happiness\": \"Less Happy\", \"cluster\": 1, \"Pred\": 5.14395163890478}, {\"Country name\": \"Algeria\", \"Regional indicator\": \"Middle East and North Africa\", \"Ladder score\": 4.887, \"Logged GDP per capita\": 9.342, \"Social support\": 0.802, \"Healthy life expectancy\": 66.005, \"Freedom to make life choices\": 0.48, \"Generosity\": -0.067, \"Perceptions of corruption\": 0.752, \"Rank\": 109, \"Happiness\": \"Less Happy\", \"cluster\": 1, \"Pred\": 4.846537768148175}, {\"Country name\": \"Ukraine\", \"Regional indicator\": \"Commonwealth of Independent States\", \"Ladder score\": 4.875, \"Logged GDP per capita\": 9.436, \"Social support\": 0.888, \"Healthy life expectancy\": 64.902, \"Freedom to make life choices\": 0.724, \"Generosity\": -0.011, \"Perceptions of corruption\": 0.924, \"Rank\": 110, \"Happiness\": \"Less Happy\", \"cluster\": 1, \"Pred\": 5.459214421250496}, {\"Country name\": \"Iraq\", \"Regional indicator\": \"Middle East and North Africa\", \"Ladder score\": 4.854, \"Logged GDP per capita\": 9.24, \"Social support\": 0.746, \"Healthy life expectancy\": 60.583, \"Freedom to make life choices\": 0.63, \"Generosity\": -0.053, \"Perceptions of corruption\": 0.875, \"Rank\": 111, \"Happiness\": \"Less Happy\", \"cluster\": 1, \"Pred\": 4.747241159561901}, {\"Country name\": \"Gabon\", \"Regional indicator\": \"Sub-Saharan Africa\", \"Ladder score\": 4.852, \"Logged GDP per capita\": 9.603, \"Social support\": 0.776, \"Healthy life expectancy\": 59.962, \"Freedom to make life choices\": 0.731, \"Generosity\": -0.2, \"Perceptions of corruption\": 0.84, \"Rank\": 112, \"Happiness\": \"Not Happy\", \"cluster\": 1, \"Pred\": 5.074843900426745}, {\"Country name\": \"Burkina Faso\", \"Regional indicator\": \"Sub-Saharan Africa\", \"Ladder score\": 4.834, \"Logged GDP per capita\": 7.678, \"Social support\": 0.672, \"Healthy life expectancy\": 54.151, \"Freedom to make life choices\": 0.695, \"Generosity\": -0.009, \"Perceptions of corruption\": 0.748, \"Rank\": 113, \"Happiness\": \"Not Happy\", \"cluster\": 3, \"Pred\": 4.155952765421058}, {\"Country name\": \"Cambodia\", \"Regional indicator\": \"Southeast Asia\", \"Ladder score\": 4.83, \"Logged GDP per capita\": 8.36, \"Social support\": 0.765, \"Healthy life expectancy\": 62.0, \"Freedom to make life choices\": 0.959, \"Generosity\": 0.034, \"Perceptions of corruption\": 0.843, \"Rank\": 114, \"Happiness\": \"Not Happy\", \"cluster\": 2, \"Pred\": 5.303761845888524}, {\"Country name\": \"Mozambique\", \"Regional indicator\": \"Sub-Saharan Africa\", \"Ladder score\": 4.794, \"Logged GDP per capita\": 7.158, \"Social support\": 0.744, \"Healthy life expectancy\": 54.706, \"Freedom to make life choices\": 0.882, \"Generosity\": 0.061, \"Perceptions of corruption\": 0.684, \"Rank\": 115, \"Happiness\": \"Not Happy\", \"cluster\": 3, \"Pred\": 4.645896154520815}, {\"Country name\": \"Nigeria\", \"Regional indicator\": \"Sub-Saharan Africa\", \"Ladder score\": 4.759, \"Logged GDP per capita\": 8.533, \"Social support\": 0.74, \"Healthy life expectancy\": 50.102, \"Freedom to make life choices\": 0.737, \"Generosity\": 0.037, \"Perceptions of corruption\": 0.878, \"Rank\": 116, \"Happiness\": \"Not Happy\", \"cluster\": 3, \"Pred\": 4.4631339216089065}, {\"Country name\": \"Mali\", \"Regional indicator\": \"Sub-Saharan Africa\", \"Ladder score\": 4.723, \"Logged GDP per capita\": 7.744, \"Social support\": 0.724, \"Healthy life expectancy\": 51.969, \"Freedom to make life choices\": 0.697, \"Generosity\": -0.036, \"Perceptions of corruption\": 0.827, \"Rank\": 117, \"Happiness\": \"Not Happy\", \"cluster\": 3, \"Pred\": 4.183400269941857}, {\"Country name\": \"Iran\", \"Regional indicator\": \"Middle East and North Africa\", \"Ladder score\": 4.721, \"Logged GDP per capita\": 9.584, \"Social support\": 0.71, \"Healthy life expectancy\": 66.3, \"Freedom to make life choices\": 0.608, \"Generosity\": 0.218, \"Perceptions of corruption\": 0.714, \"Rank\": 118, \"Happiness\": \"Not Happy\", \"cluster\": 2, \"Pred\": 5.079498187990757}, {\"Country name\": \"Uganda\", \"Regional indicator\": \"Sub-Saharan Africa\", \"Ladder score\": 4.636, \"Logged GDP per capita\": 7.677, \"Social support\": 0.781, \"Healthy life expectancy\": 56.101, \"Freedom to make life choices\": 0.709, \"Generosity\": 0.122, \"Perceptions of corruption\": 0.855, \"Rank\": 119, \"Happiness\": \"Not Happy\", \"cluster\": 3, \"Pred\": 4.495827326110078}, {\"Country name\": \"Liberia\", \"Regional indicator\": \"Sub-Saharan Africa\", \"Ladder score\": 4.625, \"Logged GDP per capita\": 7.288, \"Social support\": 0.72, \"Healthy life expectancy\": 56.498, \"Freedom to make life choices\": 0.735, \"Generosity\": 0.05, \"Perceptions of corruption\": 0.85, \"Rank\": 120, \"Happiness\": \"Not Happy\", \"cluster\": 3, \"Pred\": 4.277137096741888}, {\"Country name\": \"Kenya\", \"Regional indicator\": \"Sub-Saharan Africa\", \"Ladder score\": 4.607, \"Logged GDP per capita\": 8.361, \"Social support\": 0.688, \"Healthy life expectancy\": 60.704, \"Freedom to make life choices\": 0.779, \"Generosity\": 0.287, \"Perceptions of corruption\": 0.825, \"Rank\": 121, \"Happiness\": \"Not Happy\", \"cluster\": 2, \"Pred\": 4.815283464237542}, {\"Country name\": \"Tunisia\", \"Regional indicator\": \"Middle East and North Africa\", \"Ladder score\": 4.596, \"Logged GDP per capita\": 9.266, \"Social support\": 0.691, \"Healthy life expectancy\": 67.201, \"Freedom to make life choices\": 0.656, \"Generosity\": -0.201, \"Perceptions of corruption\": 0.87, \"Rank\": 122, \"Happiness\": \"Not Happy\", \"cluster\": 1, \"Pred\": 4.820303516582404}, {\"Country name\": \"Lebanon\", \"Regional indicator\": \"Middle East and North Africa\", \"Ladder score\": 4.584, \"Logged GDP per capita\": 9.626, \"Social support\": 0.848, \"Healthy life expectancy\": 67.355, \"Freedom to make life choices\": 0.525, \"Generosity\": -0.073, \"Perceptions of corruption\": 0.898, \"Rank\": 123, \"Happiness\": \"Not Happy\", \"cluster\": 1, \"Pred\": 5.080695449016992}, {\"Country name\": \"Namibia\", \"Regional indicator\": \"Sub-Saharan Africa\", \"Ladder score\": 4.574, \"Logged GDP per capita\": 9.161, \"Social support\": 0.818, \"Healthy life expectancy\": 56.799, \"Freedom to make life choices\": 0.719, \"Generosity\": -0.149, \"Perceptions of corruption\": 0.847, \"Rank\": 124, \"Happiness\": \"Not Happy\", \"cluster\": 1, \"Pred\": 4.949630677618944}, {\"Country name\": \"Palestinian Territories\", \"Regional indicator\": \"Middle East and North Africa\", \"Ladder score\": 4.517, \"Logged GDP per capita\": 8.485, \"Social support\": 0.826, \"Healthy life expectancy\": 62.25, \"Freedom to make life choices\": 0.653, \"Generosity\": -0.163, \"Perceptions of corruption\": 0.821, \"Rank\": 125, \"Happiness\": \"Not Happy\", \"cluster\": 1, \"Pred\": 4.82365704552633}, {\"Country name\": \"Myanmar\", \"Regional indicator\": \"Southeast Asia\", \"Ladder score\": 4.426, \"Logged GDP per capita\": 8.541, \"Social support\": 0.779, \"Healthy life expectancy\": 59.302, \"Freedom to make life choices\": 0.876, \"Generosity\": 0.509, \"Perceptions of corruption\": 0.66, \"Rank\": 126, \"Happiness\": \"Not Happy\", \"cluster\": 2, \"Pred\": 5.424182162243085}, {\"Country name\": \"Jordan\", \"Regional indicator\": \"Middle East and North Africa\", \"Ladder score\": 4.395, \"Logged GDP per capita\": 9.182, \"Social support\": 0.767, \"Healthy life expectancy\": 67.0, \"Freedom to make life choices\": 0.755, \"Generosity\": -0.167, \"Perceptions of corruption\": 0.705, \"Rank\": 127, \"Happiness\": \"Not Happy\", \"cluster\": 1, \"Pred\": 5.290186454714689}, {\"Country name\": \"Chad\", \"Regional indicator\": \"Sub-Saharan Africa\", \"Ladder score\": 4.355, \"Logged GDP per capita\": 7.364, \"Social support\": 0.619, \"Healthy life expectancy\": 48.478, \"Freedom to make life choices\": 0.579, \"Generosity\": 0.041, \"Perceptions of corruption\": 0.807, \"Rank\": 128, \"Happiness\": \"Not Happy\", \"cluster\": 3, \"Pred\": 3.5142750455702636}, {\"Country name\": \"Sri Lanka\", \"Regional indicator\": \"South Asia\", \"Ladder score\": 4.325, \"Logged GDP per capita\": 9.47, \"Social support\": 0.827, \"Healthy life expectancy\": 67.299, \"Freedom to make life choices\": 0.841, \"Generosity\": 0.079, \"Perceptions of corruption\": 0.863, \"Rank\": 129, \"Happiness\": \"Not Happy\", \"cluster\": 2, \"Pred\": 5.695261533550579}, {\"Country name\": \"Swaziland\", \"Regional indicator\": \"Sub-Saharan Africa\", \"Ladder score\": 4.308, \"Logged GDP per capita\": 9.065, \"Social support\": 0.77, \"Healthy life expectancy\": 50.833, \"Freedom to make life choices\": 0.647, \"Generosity\": -0.185, \"Perceptions of corruption\": 0.708, \"Rank\": 130, \"Happiness\": \"Not Happy\", \"cluster\": 1, \"Pred\": 4.549321980971482}, {\"Country name\": \"Comoros\", \"Regional indicator\": \"Sub-Saharan Africa\", \"Ladder score\": 4.289, \"Logged GDP per capita\": 8.031, \"Social support\": 0.626, \"Healthy life expectancy\": 57.349, \"Freedom to make life choices\": 0.548, \"Generosity\": 0.082, \"Perceptions of corruption\": 0.781, \"Rank\": 131, \"Happiness\": \"Not Happy\", \"cluster\": 3, \"Pred\": 3.9553183980813698}, {\"Country name\": \"Egypt\", \"Regional indicator\": \"Middle East and North Africa\", \"Ladder score\": 4.283, \"Logged GDP per capita\": 9.367, \"Social support\": 0.75, \"Healthy life expectancy\": 61.998, \"Freedom to make life choices\": 0.749, \"Generosity\": -0.182, \"Perceptions of corruption\": 0.795, \"Rank\": 132, \"Happiness\": \"Not Happy\", \"cluster\": 1, \"Pred\": 5.076188075517781}, {\"Country name\": \"Ethiopia\", \"Regional indicator\": \"Sub-Saharan Africa\", \"Ladder score\": 4.275, \"Logged GDP per capita\": 7.694, \"Social support\": 0.764, \"Healthy life expectancy\": 59.0, \"Freedom to make life choices\": 0.752, \"Generosity\": 0.082, \"Perceptions of corruption\": 0.761, \"Rank\": 133, \"Happiness\": \"Not Happy\", \"cluster\": 3, \"Pred\": 4.675116958281954}, {\"Country name\": \"Mauritania\", \"Regional indicator\": \"Sub-Saharan Africa\", \"Ladder score\": 4.227, \"Logged GDP per capita\": 8.542, \"Social support\": 0.795, \"Healthy life expectancy\": 57.161, \"Freedom to make life choices\": 0.561, \"Generosity\": -0.106, \"Perceptions of corruption\": 0.731, \"Rank\": 134, \"Happiness\": \"Not Happy\", \"cluster\": 1, \"Pred\": 4.498826325220638}, {\"Country name\": \"Madagascar\", \"Regional indicator\": \"Sub-Saharan Africa\", \"Ladder score\": 4.208, \"Logged GDP per capita\": 7.396, \"Social support\": 0.686, \"Healthy life expectancy\": 59.305, \"Freedom to make life choices\": 0.552, \"Generosity\": -0.005, \"Perceptions of corruption\": 0.803, \"Rank\": 135, \"Happiness\": \"Not Happy\", \"cluster\": 3, \"Pred\": 3.948709787551122}, {\"Country name\": \"Togo\", \"Regional indicator\": \"Sub-Saharan Africa\", \"Ladder score\": 4.107, \"Logged GDP per capita\": 7.362, \"Social support\": 0.569, \"Healthy life expectancy\": 54.914, \"Freedom to make life choices\": 0.619, \"Generosity\": 0.032, \"Perceptions of corruption\": 0.772, \"Rank\": 136, \"Happiness\": \"Not Happy\", \"cluster\": 3, \"Pred\": 3.683322745755521}, {\"Country name\": \"Zambia\", \"Regional indicator\": \"Sub-Saharan Africa\", \"Ladder score\": 4.073, \"Logged GDP per capita\": 8.145, \"Social support\": 0.708, \"Healthy life expectancy\": 55.809, \"Freedom to make life choices\": 0.782, \"Generosity\": 0.061, \"Perceptions of corruption\": 0.823, \"Rank\": 137, \"Happiness\": \"Not Happy\", \"cluster\": 3, \"Pred\": 4.580933622622557}, {\"Country name\": \"Sierra Leone\", \"Regional indicator\": \"Sub-Saharan Africa\", \"Ladder score\": 3.849, \"Logged GDP per capita\": 7.434, \"Social support\": 0.63, \"Healthy life expectancy\": 51.651, \"Freedom to make life choices\": 0.717, \"Generosity\": 0.084, \"Perceptions of corruption\": 0.866, \"Rank\": 138, \"Happiness\": \"Not Happy\", \"cluster\": 3, \"Pred\": 3.914678477575822}, {\"Country name\": \"India\", \"Regional indicator\": \"South Asia\", \"Ladder score\": 3.819, \"Logged GDP per capita\": 8.755, \"Social support\": 0.603, \"Healthy life expectancy\": 60.633, \"Freedom to make life choices\": 0.893, \"Generosity\": 0.089, \"Perceptions of corruption\": 0.774, \"Rank\": 139, \"Happiness\": \"Not Happy\", \"cluster\": 3, \"Pred\": 4.900694678789924}, {\"Country name\": \"Burundi\", \"Regional indicator\": \"Sub-Saharan Africa\", \"Ladder score\": 3.775, \"Logged GDP per capita\": 6.635, \"Social support\": 0.49, \"Healthy life expectancy\": 53.4, \"Freedom to make life choices\": 0.626, \"Generosity\": -0.024, \"Perceptions of corruption\": 0.607, \"Rank\": 140, \"Happiness\": \"Not Happy\", \"cluster\": 3, \"Pred\": 3.332094960652525}, {\"Country name\": \"Yemen\", \"Regional indicator\": \"Middle East and North Africa\", \"Ladder score\": 3.658, \"Logged GDP per capita\": 7.578, \"Social support\": 0.832, \"Healthy life expectancy\": 57.122, \"Freedom to make life choices\": 0.602, \"Generosity\": -0.147, \"Perceptions of corruption\": 0.8, \"Rank\": 141, \"Happiness\": \"Not Happy\", \"cluster\": 1, \"Pred\": 4.345532051624928}, {\"Country name\": \"Tanzania\", \"Regional indicator\": \"Sub-Saharan Africa\", \"Ladder score\": 3.623, \"Logged GDP per capita\": 7.876, \"Social support\": 0.702, \"Healthy life expectancy\": 57.999, \"Freedom to make life choices\": 0.833, \"Generosity\": 0.183, \"Perceptions of corruption\": 0.577, \"Rank\": 142, \"Happiness\": \"Not Happy\", \"cluster\": 3, \"Pred\": 4.853110158409183}, {\"Country name\": \"Haiti\", \"Regional indicator\": \"Latin America and Caribbean\", \"Ladder score\": 3.615, \"Logged GDP per capita\": 7.477, \"Social support\": 0.54, \"Healthy life expectancy\": 55.7, \"Freedom to make life choices\": 0.593, \"Generosity\": 0.422, \"Perceptions of corruption\": 0.721, \"Rank\": 143, \"Happiness\": \"Not Happy\", \"cluster\": 3, \"Pred\": 3.7881822712056623}, {\"Country name\": \"Malawi\", \"Regional indicator\": \"Sub-Saharan Africa\", \"Ladder score\": 3.6, \"Logged GDP per capita\": 6.958, \"Social support\": 0.537, \"Healthy life expectancy\": 57.948, \"Freedom to make life choices\": 0.78, \"Generosity\": 0.038, \"Perceptions of corruption\": 0.729, \"Rank\": 144, \"Happiness\": \"Not Happy\", \"cluster\": 3, \"Pred\": 3.935015029254867}, {\"Country name\": \"Lesotho\", \"Regional indicator\": \"Sub-Saharan Africa\", \"Ladder score\": 3.512, \"Logged GDP per capita\": 7.926, \"Social support\": 0.787, \"Healthy life expectancy\": 48.7, \"Freedom to make life choices\": 0.715, \"Generosity\": -0.131, \"Perceptions of corruption\": 0.915, \"Rank\": 145, \"Happiness\": \"Not Happy\", \"cluster\": 3, \"Pred\": 4.239504378112566}, {\"Country name\": \"Botswana\", \"Regional indicator\": \"Sub-Saharan Africa\", \"Ladder score\": 3.467, \"Logged GDP per capita\": 9.782, \"Social support\": 0.784, \"Healthy life expectancy\": 59.269, \"Freedom to make life choices\": 0.824, \"Generosity\": -0.246, \"Perceptions of corruption\": 0.801, \"Rank\": 146, \"Happiness\": \"Not Happy\", \"cluster\": 1, \"Pred\": 5.317492690634777}, {\"Country name\": \"Rwanda\", \"Regional indicator\": \"Sub-Saharan Africa\", \"Ladder score\": 3.415, \"Logged GDP per capita\": 7.676, \"Social support\": 0.552, \"Healthy life expectancy\": 61.4, \"Freedom to make life choices\": 0.897, \"Generosity\": 0.061, \"Perceptions of corruption\": 0.167, \"Rank\": 147, \"Happiness\": \"Not Happy\", \"cluster\": 3, \"Pred\": 4.861172744503981}, {\"Country name\": \"Zimbabwe\", \"Regional indicator\": \"Sub-Saharan Africa\", \"Ladder score\": 3.145, \"Logged GDP per capita\": 7.943, \"Social support\": 0.75, \"Healthy life expectancy\": 56.201, \"Freedom to make life choices\": 0.677, \"Generosity\": -0.047, \"Perceptions of corruption\": 0.821, \"Rank\": 148, \"Happiness\": \"Not Happy\", \"cluster\": 3, \"Pred\": 4.3911097777185555}, {\"Country name\": \"Afghanistan\", \"Regional indicator\": \"South Asia\", \"Ladder score\": 2.523, \"Logged GDP per capita\": 7.695, \"Social support\": 0.463, \"Healthy life expectancy\": 52.493, \"Freedom to make life choices\": 0.382, \"Generosity\": -0.102, \"Perceptions of corruption\": 0.924, \"Rank\": 149, \"Happiness\": \"Not Happy\", \"cluster\": 3, \"Pred\": 2.8232583772041417}]}}, {\"mode\": \"vega-lite\"});\n",
       "</script>"
      ],
      "text/plain": [
       "alt.HConcatChart(...)"
      ]
     },
     "execution_count": 35,
     "metadata": {},
     "output_type": "execute_result"
    }
   ],
   "source": [
    "import altair as alt\n",
    "chartlist2=[]\n",
    "for i in cols:\n",
    "    c=alt.Chart(df).mark_circle().encode(\n",
    "        x=alt.X(i, scale=alt.Scale(zero=False)),\n",
    "        y=\"Ladder score\",\n",
    "        color=alt.Color(\"Regional indicator\", scale=alt.Scale(scheme='dark2')),\n",
    "    )\n",
    "    c1=alt.Chart(df).mark_line().encode(\n",
    "        x=alt.X(i, scale=alt.Scale(zero=False)),\n",
    "        y=\"Pred\",\n",
    "    )\n",
    "    c3=c+c1\n",
    "    chartlist2.append(c3)\n",
    "alt.hconcat(*chartlist2)"
   ]
  },
  {
   "cell_type": "markdown",
   "metadata": {
    "cell_id": "cad0ff1f341147a6974760303f9ca5f6",
    "deepnote_cell_type": "text-cell-h3",
    "formattedRanges": [],
    "is_collapsed": false,
    "tags": []
   },
   "source": [
    "### Build training and test set："
   ]
  },
  {
   "cell_type": "code",
   "execution_count": 36,
   "metadata": {
    "cell_id": "5868322992be4d8cb78c6edfe733776c",
    "deepnote_cell_type": "code",
    "deepnote_to_be_reexecuted": false,
    "execution_millis": 44,
    "execution_start": 1670290721820,
    "source_hash": "a4285ea9",
    "tags": []
   },
   "outputs": [
    {
     "name": "stdout",
     "output_type": "stream",
     "text": [
      "Accuracy on Traing set:  0.7816778724066249\n",
      "Accuracy on Testing set:  0.6683353869020149\n"
     ]
    }
   ],
   "source": [
    "from sklearn.model_selection import train_test_split\n",
    "X_train,X_test,y_train,y_test = train_test_split(df[cols],df[\"Ladder score\"],test_size = 0.3, random_state=1)\n",
    "from sklearn.linear_model import LinearRegression\n",
    "model = LinearRegression()\n",
    "model.fit(X_train,y_train)\n",
    "predtrain= model.predict(X_train)\n",
    "\n",
    "predtest= model.predict(X_test)\n",
    "\n",
    "print(\"Accuracy on Traing set: \",model.score(X_train,y_train))\n",
    "print(\"Accuracy on Testing set: \",model.score(X_test,y_test))"
   ]
  },
  {
   "cell_type": "code",
   "execution_count": 37,
   "metadata": {
    "cell_id": "8dcd8c0ff2d846d99c18b33772a4a07f",
    "deepnote_cell_type": "code",
    "deepnote_to_be_reexecuted": false,
    "execution_millis": 18,
    "execution_start": 1670290721859,
    "source_hash": "491a1c5b",
    "tags": []
   },
   "outputs": [
    {
     "name": "stdout",
     "output_type": "stream",
     "text": [
      "Mean Squared Error:  0.3334530610483154\n",
      "R^2 Score:  0.6683353869020149\n"
     ]
    }
   ],
   "source": [
    "from sklearn.metrics import mean_squared_error\n",
    "from sklearn.metrics import r2_score\n",
    "print(\"Mean Squared Error: \",mean_squared_error(y_test, predtest))\n",
    "print(\"R^2 Score: \",r2_score(y_test,predtest))"
   ]
  },
  {
   "cell_type": "markdown",
   "metadata": {
    "cell_id": "94f861c40a884b039d65b0c5dfda7de0",
    "deepnote_cell_type": "text-cell-p",
    "formattedRanges": [],
    "is_collapsed": false,
    "tags": []
   },
   "source": [
    "Interpreting the R^2 score, The model is explaining almost 67% of variablity of the variance fo the training data, and we get a score of 0.78 on the accuracy of Training set, a score of 0.67 on the accuracy of Testing set, "
   ]
  },
  {
   "cell_type": "markdown",
   "metadata": {
    "cell_id": "3f4c8837b6ba489382880ee50ef7be53",
    "deepnote_cell_type": "text-cell-p",
    "formattedRanges": [],
    "is_collapsed": false,
    "tags": []
   },
   "source": [
    "As we can see the model does not have a really good model score and accuracy, to improve our model, we put variable of region indicator into consideration."
   ]
  },
  {
   "cell_type": "markdown",
   "metadata": {
    "cell_id": "3559d381204e48f685f2afb2ef37c9d5",
    "deepnote_cell_type": "text-cell-h2",
    "formattedRanges": [],
    "is_collapsed": false,
    "tags": []
   },
   "source": [
    "## Improvements of Prediction Model"
   ]
  },
  {
   "cell_type": "markdown",
   "metadata": {
    "cell_id": "69429911170c4a5a8cbdecc8f604fcf6",
    "deepnote_cell_type": "text-cell-h3",
    "formattedRanges": [],
    "is_collapsed": false,
    "tags": []
   },
   "source": [
    "### Create Binary Variables Column to improve Model accuracy, taking consideration of country geographic location"
   ]
  },
  {
   "cell_type": "code",
   "execution_count": 38,
   "metadata": {
    "cell_id": "4e60ae10ef1d4bf3af067fc848e44c4f",
    "deepnote_cell_type": "code",
    "deepnote_to_be_reexecuted": false,
    "execution_millis": 31,
    "execution_start": 1670290721915,
    "source_hash": "50b6f0f1",
    "tags": []
   },
   "outputs": [],
   "source": [
    "df2=pd.get_dummies(df[\"Regional indicator\"])"
   ]
  },
  {
   "cell_type": "code",
   "execution_count": 39,
   "metadata": {
    "cell_id": "0fcb7ef26bbd45f49e0cf2a49efd54f4",
    "deepnote_cell_type": "code",
    "deepnote_to_be_reexecuted": false,
    "execution_millis": 4053108,
    "execution_start": 1670290721958,
    "source_hash": "5bf90b11",
    "tags": []
   },
   "outputs": [],
   "source": [
    "df3=pd.concat([df, df2], axis=1).copy()"
   ]
  },
  {
   "cell_type": "code",
   "execution_count": 40,
   "metadata": {
    "cell_id": "9b86b358f1644ba1b67d0dbdecd28401",
    "deepnote_cell_type": "code",
    "deepnote_to_be_reexecuted": false,
    "execution_millis": 265,
    "execution_start": 1670290721959,
    "source_hash": "816a197e",
    "tags": []
   },
   "outputs": [
    {
     "data": {
      "application/vnd.deepnote.dataframe.v3+json": {
       "column_count": 23,
       "columns": [
        {
         "dtype": "object",
         "name": "Country name",
         "stats": {
          "categories": [
           {
            "count": 1,
            "name": "Finland"
           },
           {
            "count": 1,
            "name": "Denmark"
           },
           {
            "count": 147,
            "name": "147 others"
           }
          ],
          "nan_count": 0,
          "unique_count": 149
         }
        },
        {
         "dtype": "object",
         "name": "Regional indicator",
         "stats": {
          "categories": [
           {
            "count": 36,
            "name": "Sub-Saharan Africa"
           },
           {
            "count": 21,
            "name": "Western Europe"
           },
           {
            "count": 92,
            "name": "8 others"
           }
          ],
          "nan_count": 0,
          "unique_count": 10
         }
        },
        {
         "dtype": "float64",
         "name": "Ladder score",
         "stats": {
          "histogram": [
           {
            "bin_end": 3.0549,
            "bin_start": 2.523,
            "count": 1
           },
           {
            "bin_end": 3.5868,
            "bin_start": 3.0549,
            "count": 4
           },
           {
            "bin_end": 4.1187000000000005,
            "bin_start": 3.5868,
            "count": 9
           },
           {
            "bin_end": 4.6506,
            "bin_start": 4.1187000000000005,
            "count": 17
           },
           {
            "bin_end": 5.182499999999999,
            "bin_start": 4.6506,
            "count": 29
           },
           {
            "bin_end": 5.7143999999999995,
            "bin_start": 5.182499999999999,
            "count": 20
           },
           {
            "bin_end": 6.2463,
            "bin_start": 5.7143999999999995,
            "count": 31
           },
           {
            "bin_end": 6.7782,
            "bin_start": 6.2463,
            "count": 18
           },
           {
            "bin_end": 7.3101,
            "bin_start": 6.7782,
            "count": 12
           },
           {
            "bin_end": 7.842,
            "bin_start": 7.3101,
            "count": 8
           }
          ],
          "max": "7.842",
          "min": "2.523",
          "nan_count": 0,
          "unique_count": 147
         }
        },
        {
         "dtype": "float64",
         "name": "Logged GDP per capita",
         "stats": {
          "histogram": [
           {
            "bin_end": 7.1362,
            "bin_start": 6.635,
            "count": 3
           },
           {
            "bin_end": 7.6373999999999995,
            "bin_start": 7.1362,
            "count": 8
           },
           {
            "bin_end": 8.1386,
            "bin_start": 7.6373999999999995,
            "count": 17
           },
           {
            "bin_end": 8.639800000000001,
            "bin_start": 8.1386,
            "count": 14
           },
           {
            "bin_end": 9.141,
            "bin_start": 8.639800000000001,
            "count": 12
           },
           {
            "bin_end": 9.6422,
            "bin_start": 9.141,
            "count": 29
           },
           {
            "bin_end": 10.1434,
            "bin_start": 9.6422,
            "count": 16
           },
           {
            "bin_end": 10.6446,
            "bin_start": 10.1434,
            "count": 24
           },
           {
            "bin_end": 11.145800000000001,
            "bin_start": 10.6446,
            "count": 23
           },
           {
            "bin_end": 11.647,
            "bin_start": 11.145800000000001,
            "count": 3
           }
          ],
          "max": "11.647",
          "min": "6.635",
          "nan_count": 0,
          "unique_count": 148
         }
        },
        {
         "dtype": "float64",
         "name": "Social support",
         "stats": {
          "histogram": [
           {
            "bin_end": 0.515,
            "bin_start": 0.463,
            "count": 3
           },
           {
            "bin_end": 0.5670000000000001,
            "bin_start": 0.515,
            "count": 4
           },
           {
            "bin_end": 0.619,
            "bin_start": 0.5670000000000001,
            "count": 2
           },
           {
            "bin_end": 0.671,
            "bin_start": 0.619,
            "count": 8
           },
           {
            "bin_end": 0.7230000000000001,
            "bin_start": 0.671,
            "count": 14
           },
           {
            "bin_end": 0.7750000000000001,
            "bin_start": 0.7230000000000001,
            "count": 14
           },
           {
            "bin_end": 0.8270000000000001,
            "bin_start": 0.7750000000000001,
            "count": 26
           },
           {
            "bin_end": 0.879,
            "bin_start": 0.8270000000000001,
            "count": 23
           },
           {
            "bin_end": 0.931,
            "bin_start": 0.879,
            "count": 29
           },
           {
            "bin_end": 0.983,
            "bin_start": 0.931,
            "count": 26
           }
          ],
          "max": "0.983",
          "min": "0.463",
          "nan_count": 0,
          "unique_count": 119
         }
        },
        {
         "dtype": "float64",
         "name": "Healthy life expectancy",
         "stats": {
          "histogram": [
           {
            "bin_end": 51.325500000000005,
            "bin_start": 48.478,
            "count": 5
           },
           {
            "bin_end": 54.173,
            "bin_start": 51.325500000000005,
            "count": 7
           },
           {
            "bin_end": 57.0205,
            "bin_start": 54.173,
            "count": 12
           },
           {
            "bin_end": 59.868,
            "bin_start": 57.0205,
            "count": 14
           },
           {
            "bin_end": 62.715500000000006,
            "bin_start": 59.868,
            "count": 13
           },
           {
            "bin_end": 65.563,
            "bin_start": 62.715500000000006,
            "count": 13
           },
           {
            "bin_end": 68.4105,
            "bin_start": 65.563,
            "count": 36
           },
           {
            "bin_end": 71.25800000000001,
            "bin_start": 68.4105,
            "count": 18
           },
           {
            "bin_end": 74.1055,
            "bin_start": 71.25800000000001,
            "count": 26
           },
           {
            "bin_end": 76.953,
            "bin_start": 74.1055,
            "count": 5
           }
          ],
          "max": "76.953",
          "min": "48.478",
          "nan_count": 0,
          "unique_count": 135
         }
        },
        {
         "dtype": "float64",
         "name": "Freedom to make life choices",
         "stats": {
          "histogram": [
           {
            "bin_end": 0.4408,
            "bin_start": 0.382,
            "count": 1
           },
           {
            "bin_end": 0.4996,
            "bin_start": 0.4408,
            "count": 1
           },
           {
            "bin_end": 0.5584,
            "bin_start": 0.4996,
            "count": 3
           },
           {
            "bin_end": 0.6172,
            "bin_start": 0.5584,
            "count": 8
           },
           {
            "bin_end": 0.6759999999999999,
            "bin_start": 0.6172,
            "count": 8
           },
           {
            "bin_end": 0.7348,
            "bin_start": 0.6759999999999999,
            "count": 22
           },
           {
            "bin_end": 0.7936,
            "bin_start": 0.7348,
            "count": 28
           },
           {
            "bin_end": 0.8524,
            "bin_start": 0.7936,
            "count": 22
           },
           {
            "bin_end": 0.9112,
            "bin_start": 0.8524,
            "count": 35
           },
           {
            "bin_end": 0.97,
            "bin_start": 0.9112,
            "count": 21
           }
          ],
          "max": "0.97",
          "min": "0.382",
          "nan_count": 0,
          "unique_count": 126
         }
        },
        {
         "dtype": "float64",
         "name": "Generosity",
         "stats": {
          "histogram": [
           {
            "bin_end": -0.20499999999999996,
            "bin_start": -0.288,
            "count": 9
           },
           {
            "bin_end": -0.12199999999999997,
            "bin_start": -0.20499999999999996,
            "count": 31
           },
           {
            "bin_end": -0.03899999999999998,
            "bin_start": -0.12199999999999997,
            "count": 33
           },
           {
            "bin_end": 0.04400000000000004,
            "bin_start": -0.03899999999999998,
            "count": 31
           },
           {
            "bin_end": 0.12700000000000006,
            "bin_start": 0.04400000000000004,
            "count": 27
           },
           {
            "bin_end": 0.21000000000000002,
            "bin_start": 0.12700000000000006,
            "count": 7
           },
           {
            "bin_end": 0.2930000000000001,
            "bin_start": 0.21000000000000002,
            "count": 6
           },
           {
            "bin_end": 0.37600000000000006,
            "bin_start": 0.2930000000000001,
            "count": 1
           },
           {
            "bin_end": 0.459,
            "bin_start": 0.37600000000000006,
            "count": 2
           },
           {
            "bin_end": 0.542,
            "bin_start": 0.459,
            "count": 2
           }
          ],
          "max": "0.542",
          "min": "-0.288",
          "nan_count": 0,
          "unique_count": 130
         }
        },
        {
         "dtype": "float64",
         "name": "Perceptions of corruption",
         "stats": {
          "histogram": [
           {
            "bin_end": 0.16770000000000002,
            "bin_start": 0.082,
            "count": 2
           },
           {
            "bin_end": 0.2534,
            "bin_start": 0.16770000000000002,
            "count": 4
           },
           {
            "bin_end": 0.3391,
            "bin_start": 0.2534,
            "count": 3
           },
           {
            "bin_end": 0.4248,
            "bin_start": 0.3391,
            "count": 4
           },
           {
            "bin_end": 0.5105,
            "bin_start": 0.4248,
            "count": 5
           },
           {
            "bin_end": 0.5962,
            "bin_start": 0.5105,
            "count": 7
           },
           {
            "bin_end": 0.6819,
            "bin_start": 0.5962,
            "count": 14
           },
           {
            "bin_end": 0.7676,
            "bin_start": 0.6819,
            "count": 31
           },
           {
            "bin_end": 0.8533,
            "bin_start": 0.7676,
            "count": 46
           },
           {
            "bin_end": 0.939,
            "bin_start": 0.8533,
            "count": 33
           }
          ],
          "max": "0.939",
          "min": "0.082",
          "nan_count": 0,
          "unique_count": 130
         }
        },
        {
         "dtype": "int64",
         "name": "Rank",
         "stats": {
          "histogram": [
           {
            "bin_end": 15.8,
            "bin_start": 1,
            "count": 15
           },
           {
            "bin_end": 30.6,
            "bin_start": 15.8,
            "count": 15
           },
           {
            "bin_end": 45.400000000000006,
            "bin_start": 30.6,
            "count": 15
           },
           {
            "bin_end": 60.2,
            "bin_start": 45.400000000000006,
            "count": 15
           },
           {
            "bin_end": 75,
            "bin_start": 60.2,
            "count": 14
           },
           {
            "bin_end": 89.80000000000001,
            "bin_start": 75,
            "count": 15
           },
           {
            "bin_end": 104.60000000000001,
            "bin_start": 89.80000000000001,
            "count": 15
           },
           {
            "bin_end": 119.4,
            "bin_start": 104.60000000000001,
            "count": 15
           },
           {
            "bin_end": 134.20000000000002,
            "bin_start": 119.4,
            "count": 15
           },
           {
            "bin_end": 149,
            "bin_start": 134.20000000000002,
            "count": 15
           }
          ],
          "max": "149",
          "min": "1",
          "nan_count": 0,
          "unique_count": 149
         }
        },
        {
         "dtype": "object",
         "name": "Happiness",
         "stats": {
          "categories": [
           {
            "count": 38,
            "name": "Very Happy"
           },
           {
            "count": 38,
            "name": "Not Happy"
           },
           {
            "count": 73,
            "name": "2 others"
           }
          ],
          "nan_count": 0,
          "unique_count": 4
         }
        },
        {
         "dtype": "int32",
         "name": "cluster",
         "stats": {
          "histogram": [
           {
            "bin_end": 0.4,
            "bin_start": 0,
            "count": 53
           },
           {
            "bin_end": 0.8,
            "bin_start": 0.4,
            "count": 0
           },
           {
            "bin_end": 1.2000000000000002,
            "bin_start": 0.8,
            "count": 23
           },
           {
            "bin_end": 1.6,
            "bin_start": 1.2000000000000002,
            "count": 0
           },
           {
            "bin_end": 2,
            "bin_start": 1.6,
            "count": 0
           },
           {
            "bin_end": 2.4000000000000004,
            "bin_start": 2,
            "count": 23
           },
           {
            "bin_end": 2.8000000000000003,
            "bin_start": 2.4000000000000004,
            "count": 0
           },
           {
            "bin_end": 3.2,
            "bin_start": 2.8000000000000003,
            "count": 31
           },
           {
            "bin_end": 3.6,
            "bin_start": 3.2,
            "count": 0
           },
           {
            "bin_end": 4,
            "bin_start": 3.6,
            "count": 19
           }
          ],
          "max": "4",
          "min": "0",
          "nan_count": 0,
          "unique_count": 5
         }
        },
        {
         "dtype": "float64",
         "name": "Pred",
         "stats": {
          "histogram": [
           {
            "bin_end": 3.2789371559158482,
            "bin_start": 2.8232583772041417,
            "count": 1
           },
           {
            "bin_end": 3.734615934627555,
            "bin_start": 3.2789371559158482,
            "count": 3
           },
           {
            "bin_end": 4.190294713339261,
            "bin_start": 3.734615934627555,
            "count": 10
           },
           {
            "bin_end": 4.6459734920509685,
            "bin_start": 4.190294713339261,
            "count": 17
           },
           {
            "bin_end": 5.101652270762675,
            "bin_start": 4.6459734920509685,
            "count": 16
           },
           {
            "bin_end": 5.5573310494743815,
            "bin_start": 5.101652270762675,
            "count": 20
           },
           {
            "bin_end": 6.013009828186089,
            "bin_start": 5.5573310494743815,
            "count": 35
           },
           {
            "bin_end": 6.4686886068977945,
            "bin_start": 6.013009828186089,
            "count": 25
           },
           {
            "bin_end": 6.924367385609502,
            "bin_start": 6.4686886068977945,
            "count": 9
           },
           {
            "bin_end": 7.380046164321208,
            "bin_start": 6.924367385609502,
            "count": 13
           }
          ],
          "max": "7.380046164321208",
          "min": "2.8232583772041417",
          "nan_count": 0,
          "unique_count": 149
         }
        },
        {
         "dtype": "uint8",
         "name": "Central and Eastern Europe",
         "stats": {
          "histogram": [
           {
            "bin_end": 0.1,
            "bin_start": 0,
            "count": 132
           },
           {
            "bin_end": 0.2,
            "bin_start": 0.1,
            "count": 0
           },
           {
            "bin_end": 0.30000000000000004,
            "bin_start": 0.2,
            "count": 0
           },
           {
            "bin_end": 0.4,
            "bin_start": 0.30000000000000004,
            "count": 0
           },
           {
            "bin_end": 0.5,
            "bin_start": 0.4,
            "count": 0
           },
           {
            "bin_end": 0.6000000000000001,
            "bin_start": 0.5,
            "count": 0
           },
           {
            "bin_end": 0.7000000000000001,
            "bin_start": 0.6000000000000001,
            "count": 0
           },
           {
            "bin_end": 0.8,
            "bin_start": 0.7000000000000001,
            "count": 0
           },
           {
            "bin_end": 0.9,
            "bin_start": 0.8,
            "count": 0
           },
           {
            "bin_end": 1,
            "bin_start": 0.9,
            "count": 17
           }
          ],
          "max": "1",
          "min": "0",
          "nan_count": 0,
          "unique_count": 2
         }
        },
        {
         "dtype": "uint8",
         "name": "Commonwealth of Independent States",
         "stats": {
          "histogram": [
           {
            "bin_end": 0.1,
            "bin_start": 0,
            "count": 137
           },
           {
            "bin_end": 0.2,
            "bin_start": 0.1,
            "count": 0
           },
           {
            "bin_end": 0.30000000000000004,
            "bin_start": 0.2,
            "count": 0
           },
           {
            "bin_end": 0.4,
            "bin_start": 0.30000000000000004,
            "count": 0
           },
           {
            "bin_end": 0.5,
            "bin_start": 0.4,
            "count": 0
           },
           {
            "bin_end": 0.6000000000000001,
            "bin_start": 0.5,
            "count": 0
           },
           {
            "bin_end": 0.7000000000000001,
            "bin_start": 0.6000000000000001,
            "count": 0
           },
           {
            "bin_end": 0.8,
            "bin_start": 0.7000000000000001,
            "count": 0
           },
           {
            "bin_end": 0.9,
            "bin_start": 0.8,
            "count": 0
           },
           {
            "bin_end": 1,
            "bin_start": 0.9,
            "count": 12
           }
          ],
          "max": "1",
          "min": "0",
          "nan_count": 0,
          "unique_count": 2
         }
        },
        {
         "dtype": "uint8",
         "name": "East Asia",
         "stats": {
          "histogram": [
           {
            "bin_end": 0.1,
            "bin_start": 0,
            "count": 143
           },
           {
            "bin_end": 0.2,
            "bin_start": 0.1,
            "count": 0
           },
           {
            "bin_end": 0.30000000000000004,
            "bin_start": 0.2,
            "count": 0
           },
           {
            "bin_end": 0.4,
            "bin_start": 0.30000000000000004,
            "count": 0
           },
           {
            "bin_end": 0.5,
            "bin_start": 0.4,
            "count": 0
           },
           {
            "bin_end": 0.6000000000000001,
            "bin_start": 0.5,
            "count": 0
           },
           {
            "bin_end": 0.7000000000000001,
            "bin_start": 0.6000000000000001,
            "count": 0
           },
           {
            "bin_end": 0.8,
            "bin_start": 0.7000000000000001,
            "count": 0
           },
           {
            "bin_end": 0.9,
            "bin_start": 0.8,
            "count": 0
           },
           {
            "bin_end": 1,
            "bin_start": 0.9,
            "count": 6
           }
          ],
          "max": "1",
          "min": "0",
          "nan_count": 0,
          "unique_count": 2
         }
        },
        {
         "dtype": "uint8",
         "name": "Latin America and Caribbean",
         "stats": {
          "histogram": [
           {
            "bin_end": 0.1,
            "bin_start": 0,
            "count": 129
           },
           {
            "bin_end": 0.2,
            "bin_start": 0.1,
            "count": 0
           },
           {
            "bin_end": 0.30000000000000004,
            "bin_start": 0.2,
            "count": 0
           },
           {
            "bin_end": 0.4,
            "bin_start": 0.30000000000000004,
            "count": 0
           },
           {
            "bin_end": 0.5,
            "bin_start": 0.4,
            "count": 0
           },
           {
            "bin_end": 0.6000000000000001,
            "bin_start": 0.5,
            "count": 0
           },
           {
            "bin_end": 0.7000000000000001,
            "bin_start": 0.6000000000000001,
            "count": 0
           },
           {
            "bin_end": 0.8,
            "bin_start": 0.7000000000000001,
            "count": 0
           },
           {
            "bin_end": 0.9,
            "bin_start": 0.8,
            "count": 0
           },
           {
            "bin_end": 1,
            "bin_start": 0.9,
            "count": 20
           }
          ],
          "max": "1",
          "min": "0",
          "nan_count": 0,
          "unique_count": 2
         }
        },
        {
         "dtype": "uint8",
         "name": "Middle East and North Africa",
         "stats": {
          "histogram": [
           {
            "bin_end": 0.1,
            "bin_start": 0,
            "count": 132
           },
           {
            "bin_end": 0.2,
            "bin_start": 0.1,
            "count": 0
           },
           {
            "bin_end": 0.30000000000000004,
            "bin_start": 0.2,
            "count": 0
           },
           {
            "bin_end": 0.4,
            "bin_start": 0.30000000000000004,
            "count": 0
           },
           {
            "bin_end": 0.5,
            "bin_start": 0.4,
            "count": 0
           },
           {
            "bin_end": 0.6000000000000001,
            "bin_start": 0.5,
            "count": 0
           },
           {
            "bin_end": 0.7000000000000001,
            "bin_start": 0.6000000000000001,
            "count": 0
           },
           {
            "bin_end": 0.8,
            "bin_start": 0.7000000000000001,
            "count": 0
           },
           {
            "bin_end": 0.9,
            "bin_start": 0.8,
            "count": 0
           },
           {
            "bin_end": 1,
            "bin_start": 0.9,
            "count": 17
           }
          ],
          "max": "1",
          "min": "0",
          "nan_count": 0,
          "unique_count": 2
         }
        },
        {
         "dtype": "uint8",
         "name": "North America and ANZ",
         "stats": {
          "histogram": [
           {
            "bin_end": 0.1,
            "bin_start": 0,
            "count": 145
           },
           {
            "bin_end": 0.2,
            "bin_start": 0.1,
            "count": 0
           },
           {
            "bin_end": 0.30000000000000004,
            "bin_start": 0.2,
            "count": 0
           },
           {
            "bin_end": 0.4,
            "bin_start": 0.30000000000000004,
            "count": 0
           },
           {
            "bin_end": 0.5,
            "bin_start": 0.4,
            "count": 0
           },
           {
            "bin_end": 0.6000000000000001,
            "bin_start": 0.5,
            "count": 0
           },
           {
            "bin_end": 0.7000000000000001,
            "bin_start": 0.6000000000000001,
            "count": 0
           },
           {
            "bin_end": 0.8,
            "bin_start": 0.7000000000000001,
            "count": 0
           },
           {
            "bin_end": 0.9,
            "bin_start": 0.8,
            "count": 0
           },
           {
            "bin_end": 1,
            "bin_start": 0.9,
            "count": 4
           }
          ],
          "max": "1",
          "min": "0",
          "nan_count": 0,
          "unique_count": 2
         }
        },
        {
         "dtype": "uint8",
         "name": "South Asia",
         "stats": {
          "histogram": [
           {
            "bin_end": 0.1,
            "bin_start": 0,
            "count": 142
           },
           {
            "bin_end": 0.2,
            "bin_start": 0.1,
            "count": 0
           },
           {
            "bin_end": 0.30000000000000004,
            "bin_start": 0.2,
            "count": 0
           },
           {
            "bin_end": 0.4,
            "bin_start": 0.30000000000000004,
            "count": 0
           },
           {
            "bin_end": 0.5,
            "bin_start": 0.4,
            "count": 0
           },
           {
            "bin_end": 0.6000000000000001,
            "bin_start": 0.5,
            "count": 0
           },
           {
            "bin_end": 0.7000000000000001,
            "bin_start": 0.6000000000000001,
            "count": 0
           },
           {
            "bin_end": 0.8,
            "bin_start": 0.7000000000000001,
            "count": 0
           },
           {
            "bin_end": 0.9,
            "bin_start": 0.8,
            "count": 0
           },
           {
            "bin_end": 1,
            "bin_start": 0.9,
            "count": 7
           }
          ],
          "max": "1",
          "min": "0",
          "nan_count": 0,
          "unique_count": 2
         }
        },
        {
         "dtype": "uint8",
         "name": "Southeast Asia",
         "stats": {
          "histogram": [
           {
            "bin_end": 0.1,
            "bin_start": 0,
            "count": 140
           },
           {
            "bin_end": 0.2,
            "bin_start": 0.1,
            "count": 0
           },
           {
            "bin_end": 0.30000000000000004,
            "bin_start": 0.2,
            "count": 0
           },
           {
            "bin_end": 0.4,
            "bin_start": 0.30000000000000004,
            "count": 0
           },
           {
            "bin_end": 0.5,
            "bin_start": 0.4,
            "count": 0
           },
           {
            "bin_end": 0.6000000000000001,
            "bin_start": 0.5,
            "count": 0
           },
           {
            "bin_end": 0.7000000000000001,
            "bin_start": 0.6000000000000001,
            "count": 0
           },
           {
            "bin_end": 0.8,
            "bin_start": 0.7000000000000001,
            "count": 0
           },
           {
            "bin_end": 0.9,
            "bin_start": 0.8,
            "count": 0
           },
           {
            "bin_end": 1,
            "bin_start": 0.9,
            "count": 9
           }
          ],
          "max": "1",
          "min": "0",
          "nan_count": 0,
          "unique_count": 2
         }
        },
        {
         "dtype": "uint8",
         "name": "Sub-Saharan Africa",
         "stats": {
          "histogram": [
           {
            "bin_end": 0.1,
            "bin_start": 0,
            "count": 113
           },
           {
            "bin_end": 0.2,
            "bin_start": 0.1,
            "count": 0
           },
           {
            "bin_end": 0.30000000000000004,
            "bin_start": 0.2,
            "count": 0
           },
           {
            "bin_end": 0.4,
            "bin_start": 0.30000000000000004,
            "count": 0
           },
           {
            "bin_end": 0.5,
            "bin_start": 0.4,
            "count": 0
           },
           {
            "bin_end": 0.6000000000000001,
            "bin_start": 0.5,
            "count": 0
           },
           {
            "bin_end": 0.7000000000000001,
            "bin_start": 0.6000000000000001,
            "count": 0
           },
           {
            "bin_end": 0.8,
            "bin_start": 0.7000000000000001,
            "count": 0
           },
           {
            "bin_end": 0.9,
            "bin_start": 0.8,
            "count": 0
           },
           {
            "bin_end": 1,
            "bin_start": 0.9,
            "count": 36
           }
          ],
          "max": "1",
          "min": "0",
          "nan_count": 0,
          "unique_count": 2
         }
        },
        {
         "dtype": "uint8",
         "name": "Western Europe",
         "stats": {
          "histogram": [
           {
            "bin_end": 0.1,
            "bin_start": 0,
            "count": 128
           },
           {
            "bin_end": 0.2,
            "bin_start": 0.1,
            "count": 0
           },
           {
            "bin_end": 0.30000000000000004,
            "bin_start": 0.2,
            "count": 0
           },
           {
            "bin_end": 0.4,
            "bin_start": 0.30000000000000004,
            "count": 0
           },
           {
            "bin_end": 0.5,
            "bin_start": 0.4,
            "count": 0
           },
           {
            "bin_end": 0.6000000000000001,
            "bin_start": 0.5,
            "count": 0
           },
           {
            "bin_end": 0.7000000000000001,
            "bin_start": 0.6000000000000001,
            "count": 0
           },
           {
            "bin_end": 0.8,
            "bin_start": 0.7000000000000001,
            "count": 0
           },
           {
            "bin_end": 0.9,
            "bin_start": 0.8,
            "count": 0
           },
           {
            "bin_end": 1,
            "bin_start": 0.9,
            "count": 21
           }
          ],
          "max": "1",
          "min": "0",
          "nan_count": 0,
          "unique_count": 2
         }
        },
        {
         "dtype": "int64",
         "name": "_deepnote_index_column"
        }
       ],
       "row_count": 149,
       "rows": [
        {
         "Central and Eastern Europe": "0",
         "Commonwealth of Independent States": "0",
         "Country name": "Finland",
         "East Asia": "0",
         "Freedom to make life choices": "0.949",
         "Generosity": "-0.098",
         "Happiness": "Very Happy",
         "Healthy life expectancy": "72.0",
         "Ladder score": "7.842",
         "Latin America and Caribbean": "0",
         "Logged GDP per capita": "10.775",
         "Middle East and North Africa": "0",
         "North America and ANZ": "0",
         "Perceptions of corruption": "0.186",
         "Pred": "7.079317048804115",
         "Rank": "1",
         "Regional indicator": "Western Europe",
         "Social support": "0.954",
         "South Asia": "0",
         "Southeast Asia": "0",
         "Sub-Saharan Africa": "0",
         "Western Europe": "1",
         "_deepnote_index_column": "0",
         "cluster": "4"
        },
        {
         "Central and Eastern Europe": "0",
         "Commonwealth of Independent States": "0",
         "Country name": "Denmark",
         "East Asia": "0",
         "Freedom to make life choices": "0.946",
         "Generosity": "0.03",
         "Happiness": "Very Happy",
         "Healthy life expectancy": "72.7",
         "Ladder score": "7.62",
         "Latin America and Caribbean": "0",
         "Logged GDP per capita": "10.933",
         "Middle East and North Africa": "0",
         "North America and ANZ": "0",
         "Perceptions of corruption": "0.179",
         "Pred": "7.18954805213833",
         "Rank": "2",
         "Regional indicator": "Western Europe",
         "Social support": "0.954",
         "South Asia": "0",
         "Southeast Asia": "0",
         "Sub-Saharan Africa": "0",
         "Western Europe": "1",
         "_deepnote_index_column": "1",
         "cluster": "4"
        },
        {
         "Central and Eastern Europe": "0",
         "Commonwealth of Independent States": "0",
         "Country name": "Switzerland",
         "East Asia": "0",
         "Freedom to make life choices": "0.919",
         "Generosity": "0.025",
         "Happiness": "Very Happy",
         "Healthy life expectancy": "74.4",
         "Ladder score": "7.571",
         "Latin America and Caribbean": "0",
         "Logged GDP per capita": "11.117",
         "Middle East and North Africa": "0",
         "North America and ANZ": "0",
         "Perceptions of corruption": "0.292",
         "Pred": "7.138321289770471",
         "Rank": "3",
         "Regional indicator": "Western Europe",
         "Social support": "0.942",
         "South Asia": "0",
         "Southeast Asia": "0",
         "Sub-Saharan Africa": "0",
         "Western Europe": "1",
         "_deepnote_index_column": "2",
         "cluster": "4"
        },
        {
         "Central and Eastern Europe": "0",
         "Commonwealth of Independent States": "0",
         "Country name": "Iceland",
         "East Asia": "0",
         "Freedom to make life choices": "0.955",
         "Generosity": "0.16",
         "Happiness": "Very Happy",
         "Healthy life expectancy": "73.0",
         "Ladder score": "7.554",
         "Latin America and Caribbean": "0",
         "Logged GDP per capita": "10.878",
         "Middle East and North Africa": "0",
         "North America and ANZ": "0",
         "Perceptions of corruption": "0.673",
         "Pred": "7.021626358936055",
         "Rank": "4",
         "Regional indicator": "Western Europe",
         "Social support": "0.983",
         "South Asia": "0",
         "Southeast Asia": "0",
         "Sub-Saharan Africa": "0",
         "Western Europe": "1",
         "_deepnote_index_column": "3",
         "cluster": "4"
        },
        {
         "Central and Eastern Europe": "0",
         "Commonwealth of Independent States": "0",
         "Country name": "Netherlands",
         "East Asia": "0",
         "Freedom to make life choices": "0.913",
         "Generosity": "0.175",
         "Happiness": "Very Happy",
         "Healthy life expectancy": "72.4",
         "Ladder score": "7.464",
         "Latin America and Caribbean": "0",
         "Logged GDP per capita": "10.932",
         "Middle East and North Africa": "0",
         "North America and ANZ": "0",
         "Perceptions of corruption": "0.338",
         "Pred": "7.040740361114982",
         "Rank": "5",
         "Regional indicator": "Western Europe",
         "Social support": "0.942",
         "South Asia": "0",
         "Southeast Asia": "0",
         "Sub-Saharan Africa": "0",
         "Western Europe": "1",
         "_deepnote_index_column": "4",
         "cluster": "4"
        },
        {
         "Central and Eastern Europe": "0",
         "Commonwealth of Independent States": "0",
         "Country name": "Norway",
         "East Asia": "0",
         "Freedom to make life choices": "0.96",
         "Generosity": "0.093",
         "Happiness": "Very Happy",
         "Healthy life expectancy": "73.3",
         "Ladder score": "7.392",
         "Latin America and Caribbean": "0",
         "Logged GDP per capita": "11.053",
         "Middle East and North Africa": "0",
         "North America and ANZ": "0",
         "Perceptions of corruption": "0.27",
         "Pred": "7.237319504756157",
         "Rank": "6",
         "Regional indicator": "Western Europe",
         "Social support": "0.954",
         "South Asia": "0",
         "Southeast Asia": "0",
         "Sub-Saharan Africa": "0",
         "Western Europe": "1",
         "_deepnote_index_column": "5",
         "cluster": "4"
        },
        {
         "Central and Eastern Europe": "0",
         "Commonwealth of Independent States": "0",
         "Country name": "Sweden",
         "East Asia": "0",
         "Freedom to make life choices": "0.945",
         "Generosity": "0.086",
         "Happiness": "Very Happy",
         "Healthy life expectancy": "72.7",
         "Ladder score": "7.363",
         "Latin America and Caribbean": "0",
         "Logged GDP per capita": "10.867",
         "Middle East and North Africa": "0",
         "North America and ANZ": "0",
         "Perceptions of corruption": "0.237",
         "Pred": "7.104874365546659",
         "Rank": "7",
         "Regional indicator": "Western Europe",
         "Social support": "0.934",
         "South Asia": "0",
         "Southeast Asia": "0",
         "Sub-Saharan Africa": "0",
         "Western Europe": "1",
         "_deepnote_index_column": "6",
         "cluster": "4"
        },
        {
         "Central and Eastern Europe": "0",
         "Commonwealth of Independent States": "0",
         "Country name": "Luxembourg",
         "East Asia": "0",
         "Freedom to make life choices": "0.907",
         "Generosity": "-0.034",
         "Happiness": "Very Happy",
         "Healthy life expectancy": "72.6",
         "Ladder score": "7.324",
         "Latin America and Caribbean": "0",
         "Logged GDP per capita": "11.647",
         "Middle East and North Africa": "0",
         "North America and ANZ": "0",
         "Perceptions of corruption": "0.386",
         "Pred": "7.045215126938454",
         "Rank": "8",
         "Regional indicator": "Western Europe",
         "Social support": "0.908",
         "South Asia": "0",
         "Southeast Asia": "0",
         "Sub-Saharan Africa": "0",
         "Western Europe": "1",
         "_deepnote_index_column": "7",
         "cluster": "4"
        },
        {
         "Central and Eastern Europe": "0",
         "Commonwealth of Independent States": "0",
         "Country name": "New Zealand",
         "East Asia": "0",
         "Freedom to make life choices": "0.929",
         "Generosity": "0.134",
         "Happiness": "Very Happy",
         "Healthy life expectancy": "73.4",
         "Ladder score": "7.277",
         "Latin America and Caribbean": "0",
         "Logged GDP per capita": "10.643",
         "Middle East and North Africa": "0",
         "North America and ANZ": "1",
         "Perceptions of corruption": "0.242",
         "Pred": "7.080442986401597",
         "Rank": "9",
         "Regional indicator": "North America and ANZ",
         "Social support": "0.948",
         "South Asia": "0",
         "Southeast Asia": "0",
         "Sub-Saharan Africa": "0",
         "Western Europe": "0",
         "_deepnote_index_column": "8",
         "cluster": "4"
        },
        {
         "Central and Eastern Europe": "0",
         "Commonwealth of Independent States": "0",
         "Country name": "Austria",
         "East Asia": "0",
         "Freedom to make life choices": "0.908",
         "Generosity": "0.042",
         "Happiness": "Very Happy",
         "Healthy life expectancy": "73.3",
         "Ladder score": "7.268",
         "Latin America and Caribbean": "0",
         "Logged GDP per capita": "10.906",
         "Middle East and North Africa": "0",
         "North America and ANZ": "0",
         "Perceptions of corruption": "0.481",
         "Pred": "6.8959020456699465",
         "Rank": "10",
         "Regional indicator": "Western Europe",
         "Social support": "0.934",
         "South Asia": "0",
         "Southeast Asia": "0",
         "Sub-Saharan Africa": "0",
         "Western Europe": "1",
         "_deepnote_index_column": "9",
         "cluster": "4"
        }
       ]
      },
      "text/html": [
       "<div>\n",
       "<style scoped>\n",
       "    .dataframe tbody tr th:only-of-type {\n",
       "        vertical-align: middle;\n",
       "    }\n",
       "\n",
       "    .dataframe tbody tr th {\n",
       "        vertical-align: top;\n",
       "    }\n",
       "\n",
       "    .dataframe thead th {\n",
       "        text-align: right;\n",
       "    }\n",
       "</style>\n",
       "<table border=\"1\" class=\"dataframe\">\n",
       "  <thead>\n",
       "    <tr style=\"text-align: right;\">\n",
       "      <th></th>\n",
       "      <th>Country name</th>\n",
       "      <th>Regional indicator</th>\n",
       "      <th>Ladder score</th>\n",
       "      <th>Logged GDP per capita</th>\n",
       "      <th>Social support</th>\n",
       "      <th>Healthy life expectancy</th>\n",
       "      <th>Freedom to make life choices</th>\n",
       "      <th>Generosity</th>\n",
       "      <th>Perceptions of corruption</th>\n",
       "      <th>Rank</th>\n",
       "      <th>...</th>\n",
       "      <th>Central and Eastern Europe</th>\n",
       "      <th>Commonwealth of Independent States</th>\n",
       "      <th>East Asia</th>\n",
       "      <th>Latin America and Caribbean</th>\n",
       "      <th>Middle East and North Africa</th>\n",
       "      <th>North America and ANZ</th>\n",
       "      <th>South Asia</th>\n",
       "      <th>Southeast Asia</th>\n",
       "      <th>Sub-Saharan Africa</th>\n",
       "      <th>Western Europe</th>\n",
       "    </tr>\n",
       "  </thead>\n",
       "  <tbody>\n",
       "    <tr>\n",
       "      <th>0</th>\n",
       "      <td>Finland</td>\n",
       "      <td>Western Europe</td>\n",
       "      <td>7.842</td>\n",
       "      <td>10.775</td>\n",
       "      <td>0.954</td>\n",
       "      <td>72.000</td>\n",
       "      <td>0.949</td>\n",
       "      <td>-0.098</td>\n",
       "      <td>0.186</td>\n",
       "      <td>1</td>\n",
       "      <td>...</td>\n",
       "      <td>0</td>\n",
       "      <td>0</td>\n",
       "      <td>0</td>\n",
       "      <td>0</td>\n",
       "      <td>0</td>\n",
       "      <td>0</td>\n",
       "      <td>0</td>\n",
       "      <td>0</td>\n",
       "      <td>0</td>\n",
       "      <td>1</td>\n",
       "    </tr>\n",
       "    <tr>\n",
       "      <th>1</th>\n",
       "      <td>Denmark</td>\n",
       "      <td>Western Europe</td>\n",
       "      <td>7.620</td>\n",
       "      <td>10.933</td>\n",
       "      <td>0.954</td>\n",
       "      <td>72.700</td>\n",
       "      <td>0.946</td>\n",
       "      <td>0.030</td>\n",
       "      <td>0.179</td>\n",
       "      <td>2</td>\n",
       "      <td>...</td>\n",
       "      <td>0</td>\n",
       "      <td>0</td>\n",
       "      <td>0</td>\n",
       "      <td>0</td>\n",
       "      <td>0</td>\n",
       "      <td>0</td>\n",
       "      <td>0</td>\n",
       "      <td>0</td>\n",
       "      <td>0</td>\n",
       "      <td>1</td>\n",
       "    </tr>\n",
       "    <tr>\n",
       "      <th>2</th>\n",
       "      <td>Switzerland</td>\n",
       "      <td>Western Europe</td>\n",
       "      <td>7.571</td>\n",
       "      <td>11.117</td>\n",
       "      <td>0.942</td>\n",
       "      <td>74.400</td>\n",
       "      <td>0.919</td>\n",
       "      <td>0.025</td>\n",
       "      <td>0.292</td>\n",
       "      <td>3</td>\n",
       "      <td>...</td>\n",
       "      <td>0</td>\n",
       "      <td>0</td>\n",
       "      <td>0</td>\n",
       "      <td>0</td>\n",
       "      <td>0</td>\n",
       "      <td>0</td>\n",
       "      <td>0</td>\n",
       "      <td>0</td>\n",
       "      <td>0</td>\n",
       "      <td>1</td>\n",
       "    </tr>\n",
       "    <tr>\n",
       "      <th>3</th>\n",
       "      <td>Iceland</td>\n",
       "      <td>Western Europe</td>\n",
       "      <td>7.554</td>\n",
       "      <td>10.878</td>\n",
       "      <td>0.983</td>\n",
       "      <td>73.000</td>\n",
       "      <td>0.955</td>\n",
       "      <td>0.160</td>\n",
       "      <td>0.673</td>\n",
       "      <td>4</td>\n",
       "      <td>...</td>\n",
       "      <td>0</td>\n",
       "      <td>0</td>\n",
       "      <td>0</td>\n",
       "      <td>0</td>\n",
       "      <td>0</td>\n",
       "      <td>0</td>\n",
       "      <td>0</td>\n",
       "      <td>0</td>\n",
       "      <td>0</td>\n",
       "      <td>1</td>\n",
       "    </tr>\n",
       "    <tr>\n",
       "      <th>4</th>\n",
       "      <td>Netherlands</td>\n",
       "      <td>Western Europe</td>\n",
       "      <td>7.464</td>\n",
       "      <td>10.932</td>\n",
       "      <td>0.942</td>\n",
       "      <td>72.400</td>\n",
       "      <td>0.913</td>\n",
       "      <td>0.175</td>\n",
       "      <td>0.338</td>\n",
       "      <td>5</td>\n",
       "      <td>...</td>\n",
       "      <td>0</td>\n",
       "      <td>0</td>\n",
       "      <td>0</td>\n",
       "      <td>0</td>\n",
       "      <td>0</td>\n",
       "      <td>0</td>\n",
       "      <td>0</td>\n",
       "      <td>0</td>\n",
       "      <td>0</td>\n",
       "      <td>1</td>\n",
       "    </tr>\n",
       "    <tr>\n",
       "      <th>...</th>\n",
       "      <td>...</td>\n",
       "      <td>...</td>\n",
       "      <td>...</td>\n",
       "      <td>...</td>\n",
       "      <td>...</td>\n",
       "      <td>...</td>\n",
       "      <td>...</td>\n",
       "      <td>...</td>\n",
       "      <td>...</td>\n",
       "      <td>...</td>\n",
       "      <td>...</td>\n",
       "      <td>...</td>\n",
       "      <td>...</td>\n",
       "      <td>...</td>\n",
       "      <td>...</td>\n",
       "      <td>...</td>\n",
       "      <td>...</td>\n",
       "      <td>...</td>\n",
       "      <td>...</td>\n",
       "      <td>...</td>\n",
       "      <td>...</td>\n",
       "    </tr>\n",
       "    <tr>\n",
       "      <th>144</th>\n",
       "      <td>Lesotho</td>\n",
       "      <td>Sub-Saharan Africa</td>\n",
       "      <td>3.512</td>\n",
       "      <td>7.926</td>\n",
       "      <td>0.787</td>\n",
       "      <td>48.700</td>\n",
       "      <td>0.715</td>\n",
       "      <td>-0.131</td>\n",
       "      <td>0.915</td>\n",
       "      <td>145</td>\n",
       "      <td>...</td>\n",
       "      <td>0</td>\n",
       "      <td>0</td>\n",
       "      <td>0</td>\n",
       "      <td>0</td>\n",
       "      <td>0</td>\n",
       "      <td>0</td>\n",
       "      <td>0</td>\n",
       "      <td>0</td>\n",
       "      <td>1</td>\n",
       "      <td>0</td>\n",
       "    </tr>\n",
       "    <tr>\n",
       "      <th>145</th>\n",
       "      <td>Botswana</td>\n",
       "      <td>Sub-Saharan Africa</td>\n",
       "      <td>3.467</td>\n",
       "      <td>9.782</td>\n",
       "      <td>0.784</td>\n",
       "      <td>59.269</td>\n",
       "      <td>0.824</td>\n",
       "      <td>-0.246</td>\n",
       "      <td>0.801</td>\n",
       "      <td>146</td>\n",
       "      <td>...</td>\n",
       "      <td>0</td>\n",
       "      <td>0</td>\n",
       "      <td>0</td>\n",
       "      <td>0</td>\n",
       "      <td>0</td>\n",
       "      <td>0</td>\n",
       "      <td>0</td>\n",
       "      <td>0</td>\n",
       "      <td>1</td>\n",
       "      <td>0</td>\n",
       "    </tr>\n",
       "    <tr>\n",
       "      <th>146</th>\n",
       "      <td>Rwanda</td>\n",
       "      <td>Sub-Saharan Africa</td>\n",
       "      <td>3.415</td>\n",
       "      <td>7.676</td>\n",
       "      <td>0.552</td>\n",
       "      <td>61.400</td>\n",
       "      <td>0.897</td>\n",
       "      <td>0.061</td>\n",
       "      <td>0.167</td>\n",
       "      <td>147</td>\n",
       "      <td>...</td>\n",
       "      <td>0</td>\n",
       "      <td>0</td>\n",
       "      <td>0</td>\n",
       "      <td>0</td>\n",
       "      <td>0</td>\n",
       "      <td>0</td>\n",
       "      <td>0</td>\n",
       "      <td>0</td>\n",
       "      <td>1</td>\n",
       "      <td>0</td>\n",
       "    </tr>\n",
       "    <tr>\n",
       "      <th>147</th>\n",
       "      <td>Zimbabwe</td>\n",
       "      <td>Sub-Saharan Africa</td>\n",
       "      <td>3.145</td>\n",
       "      <td>7.943</td>\n",
       "      <td>0.750</td>\n",
       "      <td>56.201</td>\n",
       "      <td>0.677</td>\n",
       "      <td>-0.047</td>\n",
       "      <td>0.821</td>\n",
       "      <td>148</td>\n",
       "      <td>...</td>\n",
       "      <td>0</td>\n",
       "      <td>0</td>\n",
       "      <td>0</td>\n",
       "      <td>0</td>\n",
       "      <td>0</td>\n",
       "      <td>0</td>\n",
       "      <td>0</td>\n",
       "      <td>0</td>\n",
       "      <td>1</td>\n",
       "      <td>0</td>\n",
       "    </tr>\n",
       "    <tr>\n",
       "      <th>148</th>\n",
       "      <td>Afghanistan</td>\n",
       "      <td>South Asia</td>\n",
       "      <td>2.523</td>\n",
       "      <td>7.695</td>\n",
       "      <td>0.463</td>\n",
       "      <td>52.493</td>\n",
       "      <td>0.382</td>\n",
       "      <td>-0.102</td>\n",
       "      <td>0.924</td>\n",
       "      <td>149</td>\n",
       "      <td>...</td>\n",
       "      <td>0</td>\n",
       "      <td>0</td>\n",
       "      <td>0</td>\n",
       "      <td>0</td>\n",
       "      <td>0</td>\n",
       "      <td>0</td>\n",
       "      <td>1</td>\n",
       "      <td>0</td>\n",
       "      <td>0</td>\n",
       "      <td>0</td>\n",
       "    </tr>\n",
       "  </tbody>\n",
       "</table>\n",
       "<p>149 rows × 23 columns</p>\n",
       "</div>"
      ],
      "text/plain": [
       "    Country name  Regional indicator  Ladder score  Logged GDP per capita  \\\n",
       "0        Finland      Western Europe         7.842                 10.775   \n",
       "1        Denmark      Western Europe         7.620                 10.933   \n",
       "2    Switzerland      Western Europe         7.571                 11.117   \n",
       "3        Iceland      Western Europe         7.554                 10.878   \n",
       "4    Netherlands      Western Europe         7.464                 10.932   \n",
       "..           ...                 ...           ...                    ...   \n",
       "144      Lesotho  Sub-Saharan Africa         3.512                  7.926   \n",
       "145     Botswana  Sub-Saharan Africa         3.467                  9.782   \n",
       "146       Rwanda  Sub-Saharan Africa         3.415                  7.676   \n",
       "147     Zimbabwe  Sub-Saharan Africa         3.145                  7.943   \n",
       "148  Afghanistan          South Asia         2.523                  7.695   \n",
       "\n",
       "     Social support  Healthy life expectancy  Freedom to make life choices  \\\n",
       "0             0.954                   72.000                         0.949   \n",
       "1             0.954                   72.700                         0.946   \n",
       "2             0.942                   74.400                         0.919   \n",
       "3             0.983                   73.000                         0.955   \n",
       "4             0.942                   72.400                         0.913   \n",
       "..              ...                      ...                           ...   \n",
       "144           0.787                   48.700                         0.715   \n",
       "145           0.784                   59.269                         0.824   \n",
       "146           0.552                   61.400                         0.897   \n",
       "147           0.750                   56.201                         0.677   \n",
       "148           0.463                   52.493                         0.382   \n",
       "\n",
       "     Generosity  Perceptions of corruption  Rank  ...  \\\n",
       "0        -0.098                      0.186     1  ...   \n",
       "1         0.030                      0.179     2  ...   \n",
       "2         0.025                      0.292     3  ...   \n",
       "3         0.160                      0.673     4  ...   \n",
       "4         0.175                      0.338     5  ...   \n",
       "..          ...                        ...   ...  ...   \n",
       "144      -0.131                      0.915   145  ...   \n",
       "145      -0.246                      0.801   146  ...   \n",
       "146       0.061                      0.167   147  ...   \n",
       "147      -0.047                      0.821   148  ...   \n",
       "148      -0.102                      0.924   149  ...   \n",
       "\n",
       "    Central and Eastern Europe  Commonwealth of Independent States  East Asia  \\\n",
       "0                            0                                   0          0   \n",
       "1                            0                                   0          0   \n",
       "2                            0                                   0          0   \n",
       "3                            0                                   0          0   \n",
       "4                            0                                   0          0   \n",
       "..                         ...                                 ...        ...   \n",
       "144                          0                                   0          0   \n",
       "145                          0                                   0          0   \n",
       "146                          0                                   0          0   \n",
       "147                          0                                   0          0   \n",
       "148                          0                                   0          0   \n",
       "\n",
       "     Latin America and Caribbean  Middle East and North Africa  \\\n",
       "0                              0                             0   \n",
       "1                              0                             0   \n",
       "2                              0                             0   \n",
       "3                              0                             0   \n",
       "4                              0                             0   \n",
       "..                           ...                           ...   \n",
       "144                            0                             0   \n",
       "145                            0                             0   \n",
       "146                            0                             0   \n",
       "147                            0                             0   \n",
       "148                            0                             0   \n",
       "\n",
       "     North America and ANZ  South Asia  Southeast Asia  Sub-Saharan Africa  \\\n",
       "0                        0           0               0                   0   \n",
       "1                        0           0               0                   0   \n",
       "2                        0           0               0                   0   \n",
       "3                        0           0               0                   0   \n",
       "4                        0           0               0                   0   \n",
       "..                     ...         ...             ...                 ...   \n",
       "144                      0           0               0                   1   \n",
       "145                      0           0               0                   1   \n",
       "146                      0           0               0                   1   \n",
       "147                      0           0               0                   1   \n",
       "148                      0           1               0                   0   \n",
       "\n",
       "     Western Europe  \n",
       "0                 1  \n",
       "1                 1  \n",
       "2                 1  \n",
       "3                 1  \n",
       "4                 1  \n",
       "..              ...  \n",
       "144               0  \n",
       "145               0  \n",
       "146               0  \n",
       "147               0  \n",
       "148               0  \n",
       "\n",
       "[149 rows x 23 columns]"
      ]
     },
     "execution_count": 40,
     "metadata": {},
     "output_type": "execute_result"
    }
   ],
   "source": [
    "df3"
   ]
  },
  {
   "cell_type": "code",
   "execution_count": 41,
   "metadata": {
    "cell_id": "38b56380ae0641278ec9bd313f561a63",
    "deepnote_cell_type": "code",
    "deepnote_to_be_reexecuted": false,
    "execution_millis": 1,
    "execution_start": 1670290722215,
    "source_hash": "59953777",
    "tags": []
   },
   "outputs": [],
   "source": [
    "cols4=[ 'Logged GDP per capita', 'Social support', 'Healthy life expectancy',\n",
    "       'Freedom to make life choices', 'Generosity',\n",
    "       'Perceptions of corruption', \n",
    "       'Central and Eastern Europe', 'Commonwealth of Independent States',\n",
    "       'East Asia', 'Latin America and Caribbean',\n",
    "       'Middle East and North Africa', 'North America and ANZ', 'South Asia',\n",
    "       'Southeast Asia', 'Sub-Saharan Africa', 'Western Europe']"
   ]
  },
  {
   "cell_type": "markdown",
   "metadata": {
    "cell_id": "f6d75eb133ac4cee8b27e486a4dac9e1",
    "deepnote_cell_type": "text-cell-h3",
    "formattedRanges": [],
    "is_collapsed": false,
    "tags": []
   },
   "source": [
    "### Build Training and Testing set for the New Model"
   ]
  },
  {
   "cell_type": "code",
   "execution_count": 42,
   "metadata": {
    "cell_id": "a5ee306b975f4633b082e6f591d4bfc3",
    "deepnote_cell_type": "code",
    "deepnote_to_be_reexecuted": false,
    "execution_millis": 203,
    "execution_start": 1670290722227,
    "source_hash": "9b477f4e",
    "tags": []
   },
   "outputs": [
    {
     "name": "stdout",
     "output_type": "stream",
     "text": [
      "Accuracy on Traing set:  0.8272728525667357\n",
      "Accuracy on Testing set:  0.7353645962541258\n"
     ]
    }
   ],
   "source": [
    "from sklearn.model_selection import train_test_split\n",
    "X_train,X_test,y_train,y_test = train_test_split(df3[cols4],df3[\"Ladder score\"],test_size = 0.3, random_state=1)\n",
    "from sklearn.linear_model import LinearRegression\n",
    "model2 = LinearRegression()\n",
    "model2.fit(X_train,y_train)\n",
    "pred2= model2.predict(X_train)\n",
    "predtest2=model2.predict(X_test)\n",
    "print(\"Accuracy on Traing set: \",model2.score(X_train,y_train))\n",
    "print(\"Accuracy on Testing set: \",model2.score(X_test,y_test))"
   ]
  },
  {
   "cell_type": "code",
   "execution_count": 43,
   "metadata": {
    "cell_id": "f8ddd75b6fbe4652bf88ae619e41f847",
    "deepnote_cell_type": "code",
    "deepnote_to_be_reexecuted": false,
    "execution_millis": 6,
    "execution_start": 1670290722424,
    "source_hash": "67dc5454",
    "tags": []
   },
   "outputs": [
    {
     "name": "stdout",
     "output_type": "stream",
     "text": [
      "Mean Squared Error:  0.2660624074921989\n",
      "R^2 Score:  0.7353645962541258\n"
     ]
    }
   ],
   "source": [
    "from sklearn.metrics import mean_squared_error\n",
    "from sklearn.metrics import r2_score\n",
    "print(\"Mean Squared Error: \",mean_squared_error(y_test, predtest2))\n",
    "print(\"R^2 Score: \",r2_score(y_test,predtest2))"
   ]
  },
  {
   "cell_type": "markdown",
   "metadata": {
    "cell_id": "e8d9fbf632e54ccd934cf500615d5533",
    "deepnote_cell_type": "text-cell-p",
    "formattedRanges": [],
    "is_collapsed": false,
    "tags": []
   },
   "source": [
    "Interpreting the R^2 score, The new model is explaining almost 74% of variablity of the variance fo the training data, and we get higher model  accuracy score on both of the training set and testing set, and we also get less Mean Squared Error."
   ]
  },
  {
   "cell_type": "markdown",
   "metadata": {
    "cell_id": "2ea8146e1d964703a145fd09d080ba0f",
    "deepnote_cell_type": "text-cell-h3",
    "formattedRanges": [],
    "is_collapsed": false,
    "tags": []
   },
   "source": [
    "### sklearn Linear Regression of the New Model"
   ]
  },
  {
   "cell_type": "code",
   "execution_count": 44,
   "metadata": {
    "cell_id": "0eafa666991f40ff9a97a9e0772a9539",
    "deepnote_cell_type": "code",
    "deepnote_to_be_reexecuted": false,
    "execution_millis": 5,
    "execution_start": 1670290722425,
    "source_hash": "d86ee23",
    "tags": []
   },
   "outputs": [
    {
     "data": {
      "text/plain": [
       "Logged GDP per capita                 0.267515\n",
       "Social support                        1.949552\n",
       "Healthy life expectancy               0.014086\n",
       "Freedom to make life choices          2.266572\n",
       "Generosity                            0.497026\n",
       "Perceptions of corruption            -0.328476\n",
       "Central and Eastern Europe            0.170953\n",
       "Commonwealth of Independent States   -0.189213\n",
       "East Asia                            -0.048350\n",
       "Latin America and Caribbean           0.299890\n",
       "Middle East and North Africa         -0.108041\n",
       "North America and ANZ                 0.520121\n",
       "South Asia                           -0.557216\n",
       "Southeast Asia                       -0.460052\n",
       "Sub-Saharan Africa                   -0.134426\n",
       "Western Europe                        0.506334\n",
       "dtype: float64"
      ]
     },
     "execution_count": 44,
     "metadata": {},
     "output_type": "execute_result"
    }
   ],
   "source": [
    "from sklearn.linear_model import LinearRegression\n",
    "reg2 = LinearRegression()\n",
    "reg2.fit(df3[cols4],df3[\"Ladder score\"])\n",
    "pd.Series(reg2.coef_,index=cols4)"
   ]
  },
  {
   "cell_type": "code",
   "execution_count": 45,
   "metadata": {
    "cell_id": "aa017e88a05d4f099d435f9d3c8d9df8",
    "deepnote_cell_type": "code",
    "deepnote_to_be_reexecuted": false,
    "execution_millis": 39,
    "execution_start": 1670290722431,
    "source_hash": "59aadfbd",
    "tags": []
   },
   "outputs": [
    {
     "data": {
      "text/plain": [
       "array([ 0.26751474,  1.94955181,  0.01408642,  2.26657235,  0.49702641,\n",
       "       -0.32847612,  0.17095269, -0.18921326, -0.04834953,  0.29989009,\n",
       "       -0.10804123,  0.52012137, -0.55721574, -0.46005188, -0.13442618,\n",
       "        0.50633366])"
      ]
     },
     "execution_count": 45,
     "metadata": {},
     "output_type": "execute_result"
    }
   ],
   "source": [
    "reg2.coef_"
   ]
  },
  {
   "cell_type": "code",
   "execution_count": 46,
   "metadata": {
    "cell_id": "e7f46896e68546ca84ab36775567f5eb",
    "deepnote_cell_type": "code",
    "deepnote_to_be_reexecuted": false,
    "execution_millis": 9,
    "execution_start": 1670290722461,
    "source_hash": "21750450",
    "tags": []
   },
   "outputs": [
    {
     "name": "stdout",
     "output_type": "stream",
     "text": [
      "The equation is: Pred Price = Logged GDP per capita x 0.2675147422939184 + Social support x 1.9495518113713843+Healthy life expectancy x 0.014086415435709418+Freedom to make life choices x 2.2665723530069286+Generosity x 0.4970264092008061+Perceptions of corruption x -0.32847612358341893+Central and Eastern Europe x 0.17095269208625866+Commonwealth of Independent States x -0.1892132556381877+East Asia x -0.048349528121480884+Latin America and Caribbean x 0.29989008516075766+Middle East and North Africa x -0.10804122503952122+North America and ANZ x 0.5201213713676418+South Asia x -0.5572157356073879+Southeast Asia x -0.46005188026096594+Sub-Saharan Africa x -0.13442618032271927+Western Europe x 0.5063336563756091 + -1.0711857633458735\n"
     ]
    }
   ],
   "source": [
    "print(f\"The equation is: Pred Price = {cols4[0]} x {reg2.coef_[0]} + {cols4[1]} x {reg2.coef_[1]}+{cols4[2]} x {reg2.coef_[2]}+{cols4[3]} x {reg2.coef_[3]}+{cols4[4]} x {reg2.coef_[4]}+{cols4[5]} x {reg2.coef_[5]}+{cols4[6]} x {reg2.coef_[6]}+{cols4[7]} x {reg2.coef_[7]}+{cols4[8]} x {reg2.coef_[8]}+{cols4[9]} x {reg2.coef_[9]}+{cols4[10]} x {reg2.coef_[10]}+{cols4[11]} x {reg2.coef_[11]}+{cols4[12]} x {reg2.coef_[12]}+{cols4[13]} x {reg2.coef_[13]}+{cols4[14]} x {reg2.coef_[14]}+{cols4[15]} x {reg2.coef_[15]} + {reg2.intercept_}\") \n"
   ]
  },
  {
   "cell_type": "code",
   "execution_count": 47,
   "metadata": {
    "cell_id": "9d5dd3041a974c3287a164df7b9e9070",
    "deepnote_cell_type": "code",
    "deepnote_to_be_reexecuted": false,
    "execution_millis": 185,
    "execution_start": 1670290722467,
    "source_hash": "d1a8f927",
    "tags": []
   },
   "outputs": [
    {
     "data": {
      "application/vnd.deepnote.dataframe.v3+json": {
       "column_count": 23,
       "columns": [
        {
         "dtype": "object",
         "name": "Country name",
         "stats": {
          "categories": [
           {
            "count": 1,
            "name": "Finland"
           },
           {
            "count": 1,
            "name": "Denmark"
           },
           {
            "count": 147,
            "name": "147 others"
           }
          ],
          "nan_count": 0,
          "unique_count": 149
         }
        },
        {
         "dtype": "object",
         "name": "Regional indicator",
         "stats": {
          "categories": [
           {
            "count": 36,
            "name": "Sub-Saharan Africa"
           },
           {
            "count": 21,
            "name": "Western Europe"
           },
           {
            "count": 92,
            "name": "8 others"
           }
          ],
          "nan_count": 0,
          "unique_count": 10
         }
        },
        {
         "dtype": "float64",
         "name": "Ladder score",
         "stats": {
          "histogram": [
           {
            "bin_end": 3.0549,
            "bin_start": 2.523,
            "count": 1
           },
           {
            "bin_end": 3.5868,
            "bin_start": 3.0549,
            "count": 4
           },
           {
            "bin_end": 4.1187000000000005,
            "bin_start": 3.5868,
            "count": 9
           },
           {
            "bin_end": 4.6506,
            "bin_start": 4.1187000000000005,
            "count": 17
           },
           {
            "bin_end": 5.182499999999999,
            "bin_start": 4.6506,
            "count": 29
           },
           {
            "bin_end": 5.7143999999999995,
            "bin_start": 5.182499999999999,
            "count": 20
           },
           {
            "bin_end": 6.2463,
            "bin_start": 5.7143999999999995,
            "count": 31
           },
           {
            "bin_end": 6.7782,
            "bin_start": 6.2463,
            "count": 18
           },
           {
            "bin_end": 7.3101,
            "bin_start": 6.7782,
            "count": 12
           },
           {
            "bin_end": 7.842,
            "bin_start": 7.3101,
            "count": 8
           }
          ],
          "max": "7.842",
          "min": "2.523",
          "nan_count": 0,
          "unique_count": 147
         }
        },
        {
         "dtype": "float64",
         "name": "Logged GDP per capita",
         "stats": {
          "histogram": [
           {
            "bin_end": 7.1362,
            "bin_start": 6.635,
            "count": 3
           },
           {
            "bin_end": 7.6373999999999995,
            "bin_start": 7.1362,
            "count": 8
           },
           {
            "bin_end": 8.1386,
            "bin_start": 7.6373999999999995,
            "count": 17
           },
           {
            "bin_end": 8.639800000000001,
            "bin_start": 8.1386,
            "count": 14
           },
           {
            "bin_end": 9.141,
            "bin_start": 8.639800000000001,
            "count": 12
           },
           {
            "bin_end": 9.6422,
            "bin_start": 9.141,
            "count": 29
           },
           {
            "bin_end": 10.1434,
            "bin_start": 9.6422,
            "count": 16
           },
           {
            "bin_end": 10.6446,
            "bin_start": 10.1434,
            "count": 24
           },
           {
            "bin_end": 11.145800000000001,
            "bin_start": 10.6446,
            "count": 23
           },
           {
            "bin_end": 11.647,
            "bin_start": 11.145800000000001,
            "count": 3
           }
          ],
          "max": "11.647",
          "min": "6.635",
          "nan_count": 0,
          "unique_count": 148
         }
        },
        {
         "dtype": "float64",
         "name": "Social support",
         "stats": {
          "histogram": [
           {
            "bin_end": 0.515,
            "bin_start": 0.463,
            "count": 3
           },
           {
            "bin_end": 0.5670000000000001,
            "bin_start": 0.515,
            "count": 4
           },
           {
            "bin_end": 0.619,
            "bin_start": 0.5670000000000001,
            "count": 2
           },
           {
            "bin_end": 0.671,
            "bin_start": 0.619,
            "count": 8
           },
           {
            "bin_end": 0.7230000000000001,
            "bin_start": 0.671,
            "count": 14
           },
           {
            "bin_end": 0.7750000000000001,
            "bin_start": 0.7230000000000001,
            "count": 14
           },
           {
            "bin_end": 0.8270000000000001,
            "bin_start": 0.7750000000000001,
            "count": 26
           },
           {
            "bin_end": 0.879,
            "bin_start": 0.8270000000000001,
            "count": 23
           },
           {
            "bin_end": 0.931,
            "bin_start": 0.879,
            "count": 29
           },
           {
            "bin_end": 0.983,
            "bin_start": 0.931,
            "count": 26
           }
          ],
          "max": "0.983",
          "min": "0.463",
          "nan_count": 0,
          "unique_count": 119
         }
        },
        {
         "dtype": "float64",
         "name": "Healthy life expectancy",
         "stats": {
          "histogram": [
           {
            "bin_end": 51.325500000000005,
            "bin_start": 48.478,
            "count": 5
           },
           {
            "bin_end": 54.173,
            "bin_start": 51.325500000000005,
            "count": 7
           },
           {
            "bin_end": 57.0205,
            "bin_start": 54.173,
            "count": 12
           },
           {
            "bin_end": 59.868,
            "bin_start": 57.0205,
            "count": 14
           },
           {
            "bin_end": 62.715500000000006,
            "bin_start": 59.868,
            "count": 13
           },
           {
            "bin_end": 65.563,
            "bin_start": 62.715500000000006,
            "count": 13
           },
           {
            "bin_end": 68.4105,
            "bin_start": 65.563,
            "count": 36
           },
           {
            "bin_end": 71.25800000000001,
            "bin_start": 68.4105,
            "count": 18
           },
           {
            "bin_end": 74.1055,
            "bin_start": 71.25800000000001,
            "count": 26
           },
           {
            "bin_end": 76.953,
            "bin_start": 74.1055,
            "count": 5
           }
          ],
          "max": "76.953",
          "min": "48.478",
          "nan_count": 0,
          "unique_count": 135
         }
        },
        {
         "dtype": "float64",
         "name": "Freedom to make life choices",
         "stats": {
          "histogram": [
           {
            "bin_end": 0.4408,
            "bin_start": 0.382,
            "count": 1
           },
           {
            "bin_end": 0.4996,
            "bin_start": 0.4408,
            "count": 1
           },
           {
            "bin_end": 0.5584,
            "bin_start": 0.4996,
            "count": 3
           },
           {
            "bin_end": 0.6172,
            "bin_start": 0.5584,
            "count": 8
           },
           {
            "bin_end": 0.6759999999999999,
            "bin_start": 0.6172,
            "count": 8
           },
           {
            "bin_end": 0.7348,
            "bin_start": 0.6759999999999999,
            "count": 22
           },
           {
            "bin_end": 0.7936,
            "bin_start": 0.7348,
            "count": 28
           },
           {
            "bin_end": 0.8524,
            "bin_start": 0.7936,
            "count": 22
           },
           {
            "bin_end": 0.9112,
            "bin_start": 0.8524,
            "count": 35
           },
           {
            "bin_end": 0.97,
            "bin_start": 0.9112,
            "count": 21
           }
          ],
          "max": "0.97",
          "min": "0.382",
          "nan_count": 0,
          "unique_count": 126
         }
        },
        {
         "dtype": "float64",
         "name": "Generosity",
         "stats": {
          "histogram": [
           {
            "bin_end": -0.20499999999999996,
            "bin_start": -0.288,
            "count": 9
           },
           {
            "bin_end": -0.12199999999999997,
            "bin_start": -0.20499999999999996,
            "count": 31
           },
           {
            "bin_end": -0.03899999999999998,
            "bin_start": -0.12199999999999997,
            "count": 33
           },
           {
            "bin_end": 0.04400000000000004,
            "bin_start": -0.03899999999999998,
            "count": 31
           },
           {
            "bin_end": 0.12700000000000006,
            "bin_start": 0.04400000000000004,
            "count": 27
           },
           {
            "bin_end": 0.21000000000000002,
            "bin_start": 0.12700000000000006,
            "count": 7
           },
           {
            "bin_end": 0.2930000000000001,
            "bin_start": 0.21000000000000002,
            "count": 6
           },
           {
            "bin_end": 0.37600000000000006,
            "bin_start": 0.2930000000000001,
            "count": 1
           },
           {
            "bin_end": 0.459,
            "bin_start": 0.37600000000000006,
            "count": 2
           },
           {
            "bin_end": 0.542,
            "bin_start": 0.459,
            "count": 2
           }
          ],
          "max": "0.542",
          "min": "-0.288",
          "nan_count": 0,
          "unique_count": 130
         }
        },
        {
         "dtype": "float64",
         "name": "Perceptions of corruption",
         "stats": {
          "histogram": [
           {
            "bin_end": 0.16770000000000002,
            "bin_start": 0.082,
            "count": 2
           },
           {
            "bin_end": 0.2534,
            "bin_start": 0.16770000000000002,
            "count": 4
           },
           {
            "bin_end": 0.3391,
            "bin_start": 0.2534,
            "count": 3
           },
           {
            "bin_end": 0.4248,
            "bin_start": 0.3391,
            "count": 4
           },
           {
            "bin_end": 0.5105,
            "bin_start": 0.4248,
            "count": 5
           },
           {
            "bin_end": 0.5962,
            "bin_start": 0.5105,
            "count": 7
           },
           {
            "bin_end": 0.6819,
            "bin_start": 0.5962,
            "count": 14
           },
           {
            "bin_end": 0.7676,
            "bin_start": 0.6819,
            "count": 31
           },
           {
            "bin_end": 0.8533,
            "bin_start": 0.7676,
            "count": 46
           },
           {
            "bin_end": 0.939,
            "bin_start": 0.8533,
            "count": 33
           }
          ],
          "max": "0.939",
          "min": "0.082",
          "nan_count": 0,
          "unique_count": 130
         }
        },
        {
         "dtype": "int64",
         "name": "Rank",
         "stats": {
          "histogram": [
           {
            "bin_end": 15.8,
            "bin_start": 1,
            "count": 15
           },
           {
            "bin_end": 30.6,
            "bin_start": 15.8,
            "count": 15
           },
           {
            "bin_end": 45.400000000000006,
            "bin_start": 30.6,
            "count": 15
           },
           {
            "bin_end": 60.2,
            "bin_start": 45.400000000000006,
            "count": 15
           },
           {
            "bin_end": 75,
            "bin_start": 60.2,
            "count": 14
           },
           {
            "bin_end": 89.80000000000001,
            "bin_start": 75,
            "count": 15
           },
           {
            "bin_end": 104.60000000000001,
            "bin_start": 89.80000000000001,
            "count": 15
           },
           {
            "bin_end": 119.4,
            "bin_start": 104.60000000000001,
            "count": 15
           },
           {
            "bin_end": 134.20000000000002,
            "bin_start": 119.4,
            "count": 15
           },
           {
            "bin_end": 149,
            "bin_start": 134.20000000000002,
            "count": 15
           }
          ],
          "max": "149",
          "min": "1",
          "nan_count": 0,
          "unique_count": 149
         }
        },
        {
         "dtype": "object",
         "name": "Happiness",
         "stats": {
          "categories": [
           {
            "count": 38,
            "name": "Very Happy"
           },
           {
            "count": 38,
            "name": "Not Happy"
           },
           {
            "count": 73,
            "name": "2 others"
           }
          ],
          "nan_count": 0,
          "unique_count": 4
         }
        },
        {
         "dtype": "int32",
         "name": "cluster",
         "stats": {
          "histogram": [
           {
            "bin_end": 0.4,
            "bin_start": 0,
            "count": 53
           },
           {
            "bin_end": 0.8,
            "bin_start": 0.4,
            "count": 0
           },
           {
            "bin_end": 1.2000000000000002,
            "bin_start": 0.8,
            "count": 23
           },
           {
            "bin_end": 1.6,
            "bin_start": 1.2000000000000002,
            "count": 0
           },
           {
            "bin_end": 2,
            "bin_start": 1.6,
            "count": 0
           },
           {
            "bin_end": 2.4000000000000004,
            "bin_start": 2,
            "count": 23
           },
           {
            "bin_end": 2.8000000000000003,
            "bin_start": 2.4000000000000004,
            "count": 0
           },
           {
            "bin_end": 3.2,
            "bin_start": 2.8000000000000003,
            "count": 31
           },
           {
            "bin_end": 3.6,
            "bin_start": 3.2,
            "count": 0
           },
           {
            "bin_end": 4,
            "bin_start": 3.6,
            "count": 19
           }
          ],
          "max": "4",
          "min": "0",
          "nan_count": 0,
          "unique_count": 5
         }
        },
        {
         "dtype": "float64",
         "name": "Pred",
         "stats": {
          "histogram": [
           {
            "bin_end": 3.067228367710757,
            "bin_start": 2.583827144049172,
            "count": 1
           },
           {
            "bin_end": 3.5506295913723416,
            "bin_start": 3.067228367710757,
            "count": 1
           },
           {
            "bin_end": 4.034030815033926,
            "bin_start": 3.5506295913723416,
            "count": 4
           },
           {
            "bin_end": 4.517432038695511,
            "bin_start": 4.034030815033926,
            "count": 18
           },
           {
            "bin_end": 5.000833262357096,
            "bin_start": 4.517432038695511,
            "count": 24
           },
           {
            "bin_end": 5.484234486018681,
            "bin_start": 5.000833262357096,
            "count": 24
           },
           {
            "bin_end": 5.967635709680266,
            "bin_start": 5.484234486018681,
            "count": 25
           },
           {
            "bin_end": 6.45103693334185,
            "bin_start": 5.967635709680266,
            "count": 26
           },
           {
            "bin_end": 6.934438157003435,
            "bin_start": 6.45103693334185,
            "count": 10
           },
           {
            "bin_end": 7.41783938066502,
            "bin_start": 6.934438157003435,
            "count": 16
           }
          ],
          "max": "7.41783938066502",
          "min": "2.583827144049172",
          "nan_count": 0,
          "unique_count": 149
         }
        },
        {
         "dtype": "uint8",
         "name": "Central and Eastern Europe",
         "stats": {
          "histogram": [
           {
            "bin_end": 0.1,
            "bin_start": 0,
            "count": 132
           },
           {
            "bin_end": 0.2,
            "bin_start": 0.1,
            "count": 0
           },
           {
            "bin_end": 0.30000000000000004,
            "bin_start": 0.2,
            "count": 0
           },
           {
            "bin_end": 0.4,
            "bin_start": 0.30000000000000004,
            "count": 0
           },
           {
            "bin_end": 0.5,
            "bin_start": 0.4,
            "count": 0
           },
           {
            "bin_end": 0.6000000000000001,
            "bin_start": 0.5,
            "count": 0
           },
           {
            "bin_end": 0.7000000000000001,
            "bin_start": 0.6000000000000001,
            "count": 0
           },
           {
            "bin_end": 0.8,
            "bin_start": 0.7000000000000001,
            "count": 0
           },
           {
            "bin_end": 0.9,
            "bin_start": 0.8,
            "count": 0
           },
           {
            "bin_end": 1,
            "bin_start": 0.9,
            "count": 17
           }
          ],
          "max": "1",
          "min": "0",
          "nan_count": 0,
          "unique_count": 2
         }
        },
        {
         "dtype": "uint8",
         "name": "Commonwealth of Independent States",
         "stats": {
          "histogram": [
           {
            "bin_end": 0.1,
            "bin_start": 0,
            "count": 137
           },
           {
            "bin_end": 0.2,
            "bin_start": 0.1,
            "count": 0
           },
           {
            "bin_end": 0.30000000000000004,
            "bin_start": 0.2,
            "count": 0
           },
           {
            "bin_end": 0.4,
            "bin_start": 0.30000000000000004,
            "count": 0
           },
           {
            "bin_end": 0.5,
            "bin_start": 0.4,
            "count": 0
           },
           {
            "bin_end": 0.6000000000000001,
            "bin_start": 0.5,
            "count": 0
           },
           {
            "bin_end": 0.7000000000000001,
            "bin_start": 0.6000000000000001,
            "count": 0
           },
           {
            "bin_end": 0.8,
            "bin_start": 0.7000000000000001,
            "count": 0
           },
           {
            "bin_end": 0.9,
            "bin_start": 0.8,
            "count": 0
           },
           {
            "bin_end": 1,
            "bin_start": 0.9,
            "count": 12
           }
          ],
          "max": "1",
          "min": "0",
          "nan_count": 0,
          "unique_count": 2
         }
        },
        {
         "dtype": "uint8",
         "name": "East Asia",
         "stats": {
          "histogram": [
           {
            "bin_end": 0.1,
            "bin_start": 0,
            "count": 143
           },
           {
            "bin_end": 0.2,
            "bin_start": 0.1,
            "count": 0
           },
           {
            "bin_end": 0.30000000000000004,
            "bin_start": 0.2,
            "count": 0
           },
           {
            "bin_end": 0.4,
            "bin_start": 0.30000000000000004,
            "count": 0
           },
           {
            "bin_end": 0.5,
            "bin_start": 0.4,
            "count": 0
           },
           {
            "bin_end": 0.6000000000000001,
            "bin_start": 0.5,
            "count": 0
           },
           {
            "bin_end": 0.7000000000000001,
            "bin_start": 0.6000000000000001,
            "count": 0
           },
           {
            "bin_end": 0.8,
            "bin_start": 0.7000000000000001,
            "count": 0
           },
           {
            "bin_end": 0.9,
            "bin_start": 0.8,
            "count": 0
           },
           {
            "bin_end": 1,
            "bin_start": 0.9,
            "count": 6
           }
          ],
          "max": "1",
          "min": "0",
          "nan_count": 0,
          "unique_count": 2
         }
        },
        {
         "dtype": "uint8",
         "name": "Latin America and Caribbean",
         "stats": {
          "histogram": [
           {
            "bin_end": 0.1,
            "bin_start": 0,
            "count": 129
           },
           {
            "bin_end": 0.2,
            "bin_start": 0.1,
            "count": 0
           },
           {
            "bin_end": 0.30000000000000004,
            "bin_start": 0.2,
            "count": 0
           },
           {
            "bin_end": 0.4,
            "bin_start": 0.30000000000000004,
            "count": 0
           },
           {
            "bin_end": 0.5,
            "bin_start": 0.4,
            "count": 0
           },
           {
            "bin_end": 0.6000000000000001,
            "bin_start": 0.5,
            "count": 0
           },
           {
            "bin_end": 0.7000000000000001,
            "bin_start": 0.6000000000000001,
            "count": 0
           },
           {
            "bin_end": 0.8,
            "bin_start": 0.7000000000000001,
            "count": 0
           },
           {
            "bin_end": 0.9,
            "bin_start": 0.8,
            "count": 0
           },
           {
            "bin_end": 1,
            "bin_start": 0.9,
            "count": 20
           }
          ],
          "max": "1",
          "min": "0",
          "nan_count": 0,
          "unique_count": 2
         }
        },
        {
         "dtype": "uint8",
         "name": "Middle East and North Africa",
         "stats": {
          "histogram": [
           {
            "bin_end": 0.1,
            "bin_start": 0,
            "count": 132
           },
           {
            "bin_end": 0.2,
            "bin_start": 0.1,
            "count": 0
           },
           {
            "bin_end": 0.30000000000000004,
            "bin_start": 0.2,
            "count": 0
           },
           {
            "bin_end": 0.4,
            "bin_start": 0.30000000000000004,
            "count": 0
           },
           {
            "bin_end": 0.5,
            "bin_start": 0.4,
            "count": 0
           },
           {
            "bin_end": 0.6000000000000001,
            "bin_start": 0.5,
            "count": 0
           },
           {
            "bin_end": 0.7000000000000001,
            "bin_start": 0.6000000000000001,
            "count": 0
           },
           {
            "bin_end": 0.8,
            "bin_start": 0.7000000000000001,
            "count": 0
           },
           {
            "bin_end": 0.9,
            "bin_start": 0.8,
            "count": 0
           },
           {
            "bin_end": 1,
            "bin_start": 0.9,
            "count": 17
           }
          ],
          "max": "1",
          "min": "0",
          "nan_count": 0,
          "unique_count": 2
         }
        },
        {
         "dtype": "uint8",
         "name": "North America and ANZ",
         "stats": {
          "histogram": [
           {
            "bin_end": 0.1,
            "bin_start": 0,
            "count": 145
           },
           {
            "bin_end": 0.2,
            "bin_start": 0.1,
            "count": 0
           },
           {
            "bin_end": 0.30000000000000004,
            "bin_start": 0.2,
            "count": 0
           },
           {
            "bin_end": 0.4,
            "bin_start": 0.30000000000000004,
            "count": 0
           },
           {
            "bin_end": 0.5,
            "bin_start": 0.4,
            "count": 0
           },
           {
            "bin_end": 0.6000000000000001,
            "bin_start": 0.5,
            "count": 0
           },
           {
            "bin_end": 0.7000000000000001,
            "bin_start": 0.6000000000000001,
            "count": 0
           },
           {
            "bin_end": 0.8,
            "bin_start": 0.7000000000000001,
            "count": 0
           },
           {
            "bin_end": 0.9,
            "bin_start": 0.8,
            "count": 0
           },
           {
            "bin_end": 1,
            "bin_start": 0.9,
            "count": 4
           }
          ],
          "max": "1",
          "min": "0",
          "nan_count": 0,
          "unique_count": 2
         }
        },
        {
         "dtype": "uint8",
         "name": "South Asia",
         "stats": {
          "histogram": [
           {
            "bin_end": 0.1,
            "bin_start": 0,
            "count": 142
           },
           {
            "bin_end": 0.2,
            "bin_start": 0.1,
            "count": 0
           },
           {
            "bin_end": 0.30000000000000004,
            "bin_start": 0.2,
            "count": 0
           },
           {
            "bin_end": 0.4,
            "bin_start": 0.30000000000000004,
            "count": 0
           },
           {
            "bin_end": 0.5,
            "bin_start": 0.4,
            "count": 0
           },
           {
            "bin_end": 0.6000000000000001,
            "bin_start": 0.5,
            "count": 0
           },
           {
            "bin_end": 0.7000000000000001,
            "bin_start": 0.6000000000000001,
            "count": 0
           },
           {
            "bin_end": 0.8,
            "bin_start": 0.7000000000000001,
            "count": 0
           },
           {
            "bin_end": 0.9,
            "bin_start": 0.8,
            "count": 0
           },
           {
            "bin_end": 1,
            "bin_start": 0.9,
            "count": 7
           }
          ],
          "max": "1",
          "min": "0",
          "nan_count": 0,
          "unique_count": 2
         }
        },
        {
         "dtype": "uint8",
         "name": "Southeast Asia",
         "stats": {
          "histogram": [
           {
            "bin_end": 0.1,
            "bin_start": 0,
            "count": 140
           },
           {
            "bin_end": 0.2,
            "bin_start": 0.1,
            "count": 0
           },
           {
            "bin_end": 0.30000000000000004,
            "bin_start": 0.2,
            "count": 0
           },
           {
            "bin_end": 0.4,
            "bin_start": 0.30000000000000004,
            "count": 0
           },
           {
            "bin_end": 0.5,
            "bin_start": 0.4,
            "count": 0
           },
           {
            "bin_end": 0.6000000000000001,
            "bin_start": 0.5,
            "count": 0
           },
           {
            "bin_end": 0.7000000000000001,
            "bin_start": 0.6000000000000001,
            "count": 0
           },
           {
            "bin_end": 0.8,
            "bin_start": 0.7000000000000001,
            "count": 0
           },
           {
            "bin_end": 0.9,
            "bin_start": 0.8,
            "count": 0
           },
           {
            "bin_end": 1,
            "bin_start": 0.9,
            "count": 9
           }
          ],
          "max": "1",
          "min": "0",
          "nan_count": 0,
          "unique_count": 2
         }
        },
        {
         "dtype": "uint8",
         "name": "Sub-Saharan Africa",
         "stats": {
          "histogram": [
           {
            "bin_end": 0.1,
            "bin_start": 0,
            "count": 113
           },
           {
            "bin_end": 0.2,
            "bin_start": 0.1,
            "count": 0
           },
           {
            "bin_end": 0.30000000000000004,
            "bin_start": 0.2,
            "count": 0
           },
           {
            "bin_end": 0.4,
            "bin_start": 0.30000000000000004,
            "count": 0
           },
           {
            "bin_end": 0.5,
            "bin_start": 0.4,
            "count": 0
           },
           {
            "bin_end": 0.6000000000000001,
            "bin_start": 0.5,
            "count": 0
           },
           {
            "bin_end": 0.7000000000000001,
            "bin_start": 0.6000000000000001,
            "count": 0
           },
           {
            "bin_end": 0.8,
            "bin_start": 0.7000000000000001,
            "count": 0
           },
           {
            "bin_end": 0.9,
            "bin_start": 0.8,
            "count": 0
           },
           {
            "bin_end": 1,
            "bin_start": 0.9,
            "count": 36
           }
          ],
          "max": "1",
          "min": "0",
          "nan_count": 0,
          "unique_count": 2
         }
        },
        {
         "dtype": "uint8",
         "name": "Western Europe",
         "stats": {
          "histogram": [
           {
            "bin_end": 0.1,
            "bin_start": 0,
            "count": 128
           },
           {
            "bin_end": 0.2,
            "bin_start": 0.1,
            "count": 0
           },
           {
            "bin_end": 0.30000000000000004,
            "bin_start": 0.2,
            "count": 0
           },
           {
            "bin_end": 0.4,
            "bin_start": 0.30000000000000004,
            "count": 0
           },
           {
            "bin_end": 0.5,
            "bin_start": 0.4,
            "count": 0
           },
           {
            "bin_end": 0.6000000000000001,
            "bin_start": 0.5,
            "count": 0
           },
           {
            "bin_end": 0.7000000000000001,
            "bin_start": 0.6000000000000001,
            "count": 0
           },
           {
            "bin_end": 0.8,
            "bin_start": 0.7000000000000001,
            "count": 0
           },
           {
            "bin_end": 0.9,
            "bin_start": 0.8,
            "count": 0
           },
           {
            "bin_end": 1,
            "bin_start": 0.9,
            "count": 21
           }
          ],
          "max": "1",
          "min": "0",
          "nan_count": 0,
          "unique_count": 2
         }
        },
        {
         "dtype": "int64",
         "name": "_deepnote_index_column"
        }
       ],
       "row_count": 149,
       "rows": [
        {
         "Central and Eastern Europe": "0",
         "Commonwealth of Independent States": "0",
         "Country name": "Finland",
         "East Asia": "0",
         "Freedom to make life choices": "0.949",
         "Generosity": "-0.098",
         "Happiness": "Very Happy",
         "Healthy life expectancy": "72.0",
         "Ladder score": "7.842",
         "Latin America and Caribbean": "0",
         "Logged GDP per capita": "10.775",
         "Middle East and North Africa": "0",
         "North America and ANZ": "0",
         "Perceptions of corruption": "0.186",
         "Pred": "7.2328855965814665",
         "Rank": "1",
         "Regional indicator": "Western Europe",
         "Social support": "0.954",
         "South Asia": "0",
         "Southeast Asia": "0",
         "Sub-Saharan Africa": "0",
         "Western Europe": "1",
         "_deepnote_index_column": "0",
         "cluster": "4"
        },
        {
         "Central and Eastern Europe": "0",
         "Commonwealth of Independent States": "0",
         "Country name": "Denmark",
         "East Asia": "0",
         "Freedom to make life choices": "0.946",
         "Generosity": "0.03",
         "Happiness": "Very Happy",
         "Healthy life expectancy": "72.7",
         "Ladder score": "7.62",
         "Latin America and Caribbean": "0",
         "Logged GDP per capita": "10.933",
         "Middle East and North Africa": "0",
         "North America and ANZ": "0",
         "Perceptions of corruption": "0.179",
         "Pred": "7.344132412852668",
         "Rank": "2",
         "Regional indicator": "Western Europe",
         "Social support": "0.954",
         "South Asia": "0",
         "Southeast Asia": "0",
         "Sub-Saharan Africa": "0",
         "Western Europe": "1",
         "_deepnote_index_column": "1",
         "cluster": "4"
        },
        {
         "Central and Eastern Europe": "0",
         "Commonwealth of Independent States": "0",
         "Country name": "Switzerland",
         "East Asia": "0",
         "Freedom to make life choices": "0.919",
         "Generosity": "0.025",
         "Happiness": "Very Happy",
         "Healthy life expectancy": "74.4",
         "Ladder score": "7.571",
         "Latin America and Caribbean": "0",
         "Logged GDP per capita": "11.117",
         "Middle East and North Africa": "0",
         "North America and ANZ": "0",
         "Perceptions of corruption": "0.292",
         "Pred": "7.29310702239688",
         "Rank": "3",
         "Regional indicator": "Western Europe",
         "Social support": "0.942",
         "South Asia": "0",
         "Southeast Asia": "0",
         "Sub-Saharan Africa": "0",
         "Western Europe": "1",
         "_deepnote_index_column": "2",
         "cluster": "4"
        },
        {
         "Central and Eastern Europe": "0",
         "Commonwealth of Independent States": "0",
         "Country name": "Iceland",
         "East Asia": "0",
         "Freedom to make life choices": "0.955",
         "Generosity": "0.16",
         "Happiness": "Very Happy",
         "Healthy life expectancy": "73.0",
         "Ladder score": "7.554",
         "Latin America and Caribbean": "0",
         "Logged GDP per capita": "10.878",
         "Middle East and North Africa": "0",
         "North America and ANZ": "0",
         "Perceptions of corruption": "0.673",
         "Pred": "7.312927408509944",
         "Rank": "4",
         "Regional indicator": "Western Europe",
         "Social support": "0.983",
         "South Asia": "0",
         "Southeast Asia": "0",
         "Sub-Saharan Africa": "0",
         "Western Europe": "1",
         "_deepnote_index_column": "3",
         "cluster": "4"
        },
        {
         "Central and Eastern Europe": "0",
         "Commonwealth of Independent States": "0",
         "Country name": "Netherlands",
         "East Asia": "0",
         "Freedom to make life choices": "0.913",
         "Generosity": "0.175",
         "Happiness": "Very Happy",
         "Healthy life expectancy": "72.4",
         "Ladder score": "7.464",
         "Latin America and Caribbean": "0",
         "Logged GDP per capita": "10.932",
         "Middle East and North Africa": "0",
         "North America and ANZ": "0",
         "Perceptions of corruption": "0.338",
         "Pred": "7.26128858977833",
         "Rank": "5",
         "Regional indicator": "Western Europe",
         "Social support": "0.942",
         "South Asia": "0",
         "Southeast Asia": "0",
         "Sub-Saharan Africa": "0",
         "Western Europe": "1",
         "_deepnote_index_column": "4",
         "cluster": "4"
        },
        {
         "Central and Eastern Europe": "0",
         "Commonwealth of Independent States": "0",
         "Country name": "Norway",
         "East Asia": "0",
         "Freedom to make life choices": "0.96",
         "Generosity": "0.093",
         "Happiness": "Very Happy",
         "Healthy life expectancy": "73.3",
         "Ladder score": "7.392",
         "Latin America and Caribbean": "0",
         "Logged GDP per capita": "11.053",
         "Middle East and North Africa": "0",
         "North America and ANZ": "0",
         "Perceptions of corruption": "0.27",
         "Pred": "7.41783938066502",
         "Rank": "6",
         "Regional indicator": "Western Europe",
         "Social support": "0.954",
         "South Asia": "0",
         "Southeast Asia": "0",
         "Sub-Saharan Africa": "0",
         "Western Europe": "1",
         "_deepnote_index_column": "5",
         "cluster": "4"
        },
        {
         "Central and Eastern Europe": "0",
         "Commonwealth of Independent States": "0",
         "Country name": "Sweden",
         "East Asia": "0",
         "Freedom to make life choices": "0.945",
         "Generosity": "0.086",
         "Happiness": "Very Happy",
         "Healthy life expectancy": "72.7",
         "Ladder score": "7.363",
         "Latin America and Caribbean": "0",
         "Logged GDP per capita": "10.867",
         "Middle East and North Africa": "0",
         "North America and ANZ": "0",
         "Perceptions of corruption": "0.237",
         "Pred": "7.294000695028242",
         "Rank": "7",
         "Regional indicator": "Western Europe",
         "Social support": "0.934",
         "South Asia": "0",
         "Southeast Asia": "0",
         "Sub-Saharan Africa": "0",
         "Western Europe": "1",
         "_deepnote_index_column": "6",
         "cluster": "4"
        },
        {
         "Central and Eastern Europe": "0",
         "Commonwealth of Independent States": "0",
         "Country name": "Luxembourg",
         "East Asia": "0",
         "Freedom to make life choices": "0.907",
         "Generosity": "-0.034",
         "Happiness": "Very Happy",
         "Healthy life expectancy": "72.6",
         "Ladder score": "7.324",
         "Latin America and Caribbean": "0",
         "Logged GDP per capita": "11.647",
         "Middle East and North Africa": "0",
         "North America and ANZ": "0",
         "Perceptions of corruption": "0.386",
         "Pred": "7.255849344445981",
         "Rank": "8",
         "Regional indicator": "Western Europe",
         "Social support": "0.908",
         "South Asia": "0",
         "Southeast Asia": "0",
         "Sub-Saharan Africa": "0",
         "Western Europe": "1",
         "_deepnote_index_column": "7",
         "cluster": "4"
        },
        {
         "Central and Eastern Europe": "0",
         "Commonwealth of Independent States": "0",
         "Country name": "New Zealand",
         "East Asia": "0",
         "Freedom to make life choices": "0.929",
         "Generosity": "0.134",
         "Happiness": "Very Happy",
         "Healthy life expectancy": "73.4",
         "Ladder score": "7.277",
         "Latin America and Caribbean": "0",
         "Logged GDP per capita": "10.643",
         "Middle East and North Africa": "0",
         "North America and ANZ": "1",
         "Perceptions of corruption": "0.242",
         "Pred": "7.270969053286242",
         "Rank": "9",
         "Regional indicator": "North America and ANZ",
         "Social support": "0.948",
         "South Asia": "0",
         "Southeast Asia": "0",
         "Sub-Saharan Africa": "0",
         "Western Europe": "0",
         "_deepnote_index_column": "8",
         "cluster": "4"
        },
        {
         "Central and Eastern Europe": "0",
         "Commonwealth of Independent States": "0",
         "Country name": "Austria",
         "East Asia": "0",
         "Freedom to make life choices": "0.908",
         "Generosity": "0.042",
         "Happiness": "Very Happy",
         "Healthy life expectancy": "73.3",
         "Ladder score": "7.268",
         "Latin America and Caribbean": "0",
         "Logged GDP per capita": "10.906",
         "Middle East and North Africa": "0",
         "North America and ANZ": "0",
         "Perceptions of corruption": "0.481",
         "Pred": "7.127005106018684",
         "Rank": "10",
         "Regional indicator": "Western Europe",
         "Social support": "0.934",
         "South Asia": "0",
         "Southeast Asia": "0",
         "Sub-Saharan Africa": "0",
         "Western Europe": "1",
         "_deepnote_index_column": "9",
         "cluster": "4"
        }
       ]
      },
      "text/html": [
       "<div>\n",
       "<style scoped>\n",
       "    .dataframe tbody tr th:only-of-type {\n",
       "        vertical-align: middle;\n",
       "    }\n",
       "\n",
       "    .dataframe tbody tr th {\n",
       "        vertical-align: top;\n",
       "    }\n",
       "\n",
       "    .dataframe thead th {\n",
       "        text-align: right;\n",
       "    }\n",
       "</style>\n",
       "<table border=\"1\" class=\"dataframe\">\n",
       "  <thead>\n",
       "    <tr style=\"text-align: right;\">\n",
       "      <th></th>\n",
       "      <th>Country name</th>\n",
       "      <th>Regional indicator</th>\n",
       "      <th>Ladder score</th>\n",
       "      <th>Logged GDP per capita</th>\n",
       "      <th>Social support</th>\n",
       "      <th>Healthy life expectancy</th>\n",
       "      <th>Freedom to make life choices</th>\n",
       "      <th>Generosity</th>\n",
       "      <th>Perceptions of corruption</th>\n",
       "      <th>Rank</th>\n",
       "      <th>...</th>\n",
       "      <th>Central and Eastern Europe</th>\n",
       "      <th>Commonwealth of Independent States</th>\n",
       "      <th>East Asia</th>\n",
       "      <th>Latin America and Caribbean</th>\n",
       "      <th>Middle East and North Africa</th>\n",
       "      <th>North America and ANZ</th>\n",
       "      <th>South Asia</th>\n",
       "      <th>Southeast Asia</th>\n",
       "      <th>Sub-Saharan Africa</th>\n",
       "      <th>Western Europe</th>\n",
       "    </tr>\n",
       "  </thead>\n",
       "  <tbody>\n",
       "    <tr>\n",
       "      <th>0</th>\n",
       "      <td>Finland</td>\n",
       "      <td>Western Europe</td>\n",
       "      <td>7.842</td>\n",
       "      <td>10.775</td>\n",
       "      <td>0.954</td>\n",
       "      <td>72.000</td>\n",
       "      <td>0.949</td>\n",
       "      <td>-0.098</td>\n",
       "      <td>0.186</td>\n",
       "      <td>1</td>\n",
       "      <td>...</td>\n",
       "      <td>0</td>\n",
       "      <td>0</td>\n",
       "      <td>0</td>\n",
       "      <td>0</td>\n",
       "      <td>0</td>\n",
       "      <td>0</td>\n",
       "      <td>0</td>\n",
       "      <td>0</td>\n",
       "      <td>0</td>\n",
       "      <td>1</td>\n",
       "    </tr>\n",
       "    <tr>\n",
       "      <th>1</th>\n",
       "      <td>Denmark</td>\n",
       "      <td>Western Europe</td>\n",
       "      <td>7.620</td>\n",
       "      <td>10.933</td>\n",
       "      <td>0.954</td>\n",
       "      <td>72.700</td>\n",
       "      <td>0.946</td>\n",
       "      <td>0.030</td>\n",
       "      <td>0.179</td>\n",
       "      <td>2</td>\n",
       "      <td>...</td>\n",
       "      <td>0</td>\n",
       "      <td>0</td>\n",
       "      <td>0</td>\n",
       "      <td>0</td>\n",
       "      <td>0</td>\n",
       "      <td>0</td>\n",
       "      <td>0</td>\n",
       "      <td>0</td>\n",
       "      <td>0</td>\n",
       "      <td>1</td>\n",
       "    </tr>\n",
       "    <tr>\n",
       "      <th>2</th>\n",
       "      <td>Switzerland</td>\n",
       "      <td>Western Europe</td>\n",
       "      <td>7.571</td>\n",
       "      <td>11.117</td>\n",
       "      <td>0.942</td>\n",
       "      <td>74.400</td>\n",
       "      <td>0.919</td>\n",
       "      <td>0.025</td>\n",
       "      <td>0.292</td>\n",
       "      <td>3</td>\n",
       "      <td>...</td>\n",
       "      <td>0</td>\n",
       "      <td>0</td>\n",
       "      <td>0</td>\n",
       "      <td>0</td>\n",
       "      <td>0</td>\n",
       "      <td>0</td>\n",
       "      <td>0</td>\n",
       "      <td>0</td>\n",
       "      <td>0</td>\n",
       "      <td>1</td>\n",
       "    </tr>\n",
       "    <tr>\n",
       "      <th>3</th>\n",
       "      <td>Iceland</td>\n",
       "      <td>Western Europe</td>\n",
       "      <td>7.554</td>\n",
       "      <td>10.878</td>\n",
       "      <td>0.983</td>\n",
       "      <td>73.000</td>\n",
       "      <td>0.955</td>\n",
       "      <td>0.160</td>\n",
       "      <td>0.673</td>\n",
       "      <td>4</td>\n",
       "      <td>...</td>\n",
       "      <td>0</td>\n",
       "      <td>0</td>\n",
       "      <td>0</td>\n",
       "      <td>0</td>\n",
       "      <td>0</td>\n",
       "      <td>0</td>\n",
       "      <td>0</td>\n",
       "      <td>0</td>\n",
       "      <td>0</td>\n",
       "      <td>1</td>\n",
       "    </tr>\n",
       "    <tr>\n",
       "      <th>4</th>\n",
       "      <td>Netherlands</td>\n",
       "      <td>Western Europe</td>\n",
       "      <td>7.464</td>\n",
       "      <td>10.932</td>\n",
       "      <td>0.942</td>\n",
       "      <td>72.400</td>\n",
       "      <td>0.913</td>\n",
       "      <td>0.175</td>\n",
       "      <td>0.338</td>\n",
       "      <td>5</td>\n",
       "      <td>...</td>\n",
       "      <td>0</td>\n",
       "      <td>0</td>\n",
       "      <td>0</td>\n",
       "      <td>0</td>\n",
       "      <td>0</td>\n",
       "      <td>0</td>\n",
       "      <td>0</td>\n",
       "      <td>0</td>\n",
       "      <td>0</td>\n",
       "      <td>1</td>\n",
       "    </tr>\n",
       "    <tr>\n",
       "      <th>...</th>\n",
       "      <td>...</td>\n",
       "      <td>...</td>\n",
       "      <td>...</td>\n",
       "      <td>...</td>\n",
       "      <td>...</td>\n",
       "      <td>...</td>\n",
       "      <td>...</td>\n",
       "      <td>...</td>\n",
       "      <td>...</td>\n",
       "      <td>...</td>\n",
       "      <td>...</td>\n",
       "      <td>...</td>\n",
       "      <td>...</td>\n",
       "      <td>...</td>\n",
       "      <td>...</td>\n",
       "      <td>...</td>\n",
       "      <td>...</td>\n",
       "      <td>...</td>\n",
       "      <td>...</td>\n",
       "      <td>...</td>\n",
       "      <td>...</td>\n",
       "    </tr>\n",
       "    <tr>\n",
       "      <th>144</th>\n",
       "      <td>Lesotho</td>\n",
       "      <td>Sub-Saharan Africa</td>\n",
       "      <td>3.512</td>\n",
       "      <td>7.926</td>\n",
       "      <td>0.787</td>\n",
       "      <td>48.700</td>\n",
       "      <td>0.715</td>\n",
       "      <td>-0.131</td>\n",
       "      <td>0.915</td>\n",
       "      <td>145</td>\n",
       "      <td>...</td>\n",
       "      <td>0</td>\n",
       "      <td>0</td>\n",
       "      <td>0</td>\n",
       "      <td>0</td>\n",
       "      <td>0</td>\n",
       "      <td>0</td>\n",
       "      <td>0</td>\n",
       "      <td>0</td>\n",
       "      <td>1</td>\n",
       "      <td>0</td>\n",
       "    </tr>\n",
       "    <tr>\n",
       "      <th>145</th>\n",
       "      <td>Botswana</td>\n",
       "      <td>Sub-Saharan Africa</td>\n",
       "      <td>3.467</td>\n",
       "      <td>9.782</td>\n",
       "      <td>0.784</td>\n",
       "      <td>59.269</td>\n",
       "      <td>0.824</td>\n",
       "      <td>-0.246</td>\n",
       "      <td>0.801</td>\n",
       "      <td>146</td>\n",
       "      <td>...</td>\n",
       "      <td>0</td>\n",
       "      <td>0</td>\n",
       "      <td>0</td>\n",
       "      <td>0</td>\n",
       "      <td>0</td>\n",
       "      <td>0</td>\n",
       "      <td>0</td>\n",
       "      <td>0</td>\n",
       "      <td>1</td>\n",
       "      <td>0</td>\n",
       "    </tr>\n",
       "    <tr>\n",
       "      <th>146</th>\n",
       "      <td>Rwanda</td>\n",
       "      <td>Sub-Saharan Africa</td>\n",
       "      <td>3.415</td>\n",
       "      <td>7.676</td>\n",
       "      <td>0.552</td>\n",
       "      <td>61.400</td>\n",
       "      <td>0.897</td>\n",
       "      <td>0.061</td>\n",
       "      <td>0.167</td>\n",
       "      <td>147</td>\n",
       "      <td>...</td>\n",
       "      <td>0</td>\n",
       "      <td>0</td>\n",
       "      <td>0</td>\n",
       "      <td>0</td>\n",
       "      <td>0</td>\n",
       "      <td>0</td>\n",
       "      <td>0</td>\n",
       "      <td>0</td>\n",
       "      <td>1</td>\n",
       "      <td>0</td>\n",
       "    </tr>\n",
       "    <tr>\n",
       "      <th>147</th>\n",
       "      <td>Zimbabwe</td>\n",
       "      <td>Sub-Saharan Africa</td>\n",
       "      <td>3.145</td>\n",
       "      <td>7.943</td>\n",
       "      <td>0.750</td>\n",
       "      <td>56.201</td>\n",
       "      <td>0.677</td>\n",
       "      <td>-0.047</td>\n",
       "      <td>0.821</td>\n",
       "      <td>148</td>\n",
       "      <td>...</td>\n",
       "      <td>0</td>\n",
       "      <td>0</td>\n",
       "      <td>0</td>\n",
       "      <td>0</td>\n",
       "      <td>0</td>\n",
       "      <td>0</td>\n",
       "      <td>0</td>\n",
       "      <td>0</td>\n",
       "      <td>1</td>\n",
       "      <td>0</td>\n",
       "    </tr>\n",
       "    <tr>\n",
       "      <th>148</th>\n",
       "      <td>Afghanistan</td>\n",
       "      <td>South Asia</td>\n",
       "      <td>2.523</td>\n",
       "      <td>7.695</td>\n",
       "      <td>0.463</td>\n",
       "      <td>52.493</td>\n",
       "      <td>0.382</td>\n",
       "      <td>-0.102</td>\n",
       "      <td>0.924</td>\n",
       "      <td>149</td>\n",
       "      <td>...</td>\n",
       "      <td>0</td>\n",
       "      <td>0</td>\n",
       "      <td>0</td>\n",
       "      <td>0</td>\n",
       "      <td>0</td>\n",
       "      <td>0</td>\n",
       "      <td>1</td>\n",
       "      <td>0</td>\n",
       "      <td>0</td>\n",
       "      <td>0</td>\n",
       "    </tr>\n",
       "  </tbody>\n",
       "</table>\n",
       "<p>149 rows × 23 columns</p>\n",
       "</div>"
      ],
      "text/plain": [
       "    Country name  Regional indicator  Ladder score  Logged GDP per capita  \\\n",
       "0        Finland      Western Europe         7.842                 10.775   \n",
       "1        Denmark      Western Europe         7.620                 10.933   \n",
       "2    Switzerland      Western Europe         7.571                 11.117   \n",
       "3        Iceland      Western Europe         7.554                 10.878   \n",
       "4    Netherlands      Western Europe         7.464                 10.932   \n",
       "..           ...                 ...           ...                    ...   \n",
       "144      Lesotho  Sub-Saharan Africa         3.512                  7.926   \n",
       "145     Botswana  Sub-Saharan Africa         3.467                  9.782   \n",
       "146       Rwanda  Sub-Saharan Africa         3.415                  7.676   \n",
       "147     Zimbabwe  Sub-Saharan Africa         3.145                  7.943   \n",
       "148  Afghanistan          South Asia         2.523                  7.695   \n",
       "\n",
       "     Social support  Healthy life expectancy  Freedom to make life choices  \\\n",
       "0             0.954                   72.000                         0.949   \n",
       "1             0.954                   72.700                         0.946   \n",
       "2             0.942                   74.400                         0.919   \n",
       "3             0.983                   73.000                         0.955   \n",
       "4             0.942                   72.400                         0.913   \n",
       "..              ...                      ...                           ...   \n",
       "144           0.787                   48.700                         0.715   \n",
       "145           0.784                   59.269                         0.824   \n",
       "146           0.552                   61.400                         0.897   \n",
       "147           0.750                   56.201                         0.677   \n",
       "148           0.463                   52.493                         0.382   \n",
       "\n",
       "     Generosity  Perceptions of corruption  Rank  ...  \\\n",
       "0        -0.098                      0.186     1  ...   \n",
       "1         0.030                      0.179     2  ...   \n",
       "2         0.025                      0.292     3  ...   \n",
       "3         0.160                      0.673     4  ...   \n",
       "4         0.175                      0.338     5  ...   \n",
       "..          ...                        ...   ...  ...   \n",
       "144      -0.131                      0.915   145  ...   \n",
       "145      -0.246                      0.801   146  ...   \n",
       "146       0.061                      0.167   147  ...   \n",
       "147      -0.047                      0.821   148  ...   \n",
       "148      -0.102                      0.924   149  ...   \n",
       "\n",
       "    Central and Eastern Europe  Commonwealth of Independent States  East Asia  \\\n",
       "0                            0                                   0          0   \n",
       "1                            0                                   0          0   \n",
       "2                            0                                   0          0   \n",
       "3                            0                                   0          0   \n",
       "4                            0                                   0          0   \n",
       "..                         ...                                 ...        ...   \n",
       "144                          0                                   0          0   \n",
       "145                          0                                   0          0   \n",
       "146                          0                                   0          0   \n",
       "147                          0                                   0          0   \n",
       "148                          0                                   0          0   \n",
       "\n",
       "     Latin America and Caribbean  Middle East and North Africa  \\\n",
       "0                              0                             0   \n",
       "1                              0                             0   \n",
       "2                              0                             0   \n",
       "3                              0                             0   \n",
       "4                              0                             0   \n",
       "..                           ...                           ...   \n",
       "144                            0                             0   \n",
       "145                            0                             0   \n",
       "146                            0                             0   \n",
       "147                            0                             0   \n",
       "148                            0                             0   \n",
       "\n",
       "     North America and ANZ  South Asia  Southeast Asia  Sub-Saharan Africa  \\\n",
       "0                        0           0               0                   0   \n",
       "1                        0           0               0                   0   \n",
       "2                        0           0               0                   0   \n",
       "3                        0           0               0                   0   \n",
       "4                        0           0               0                   0   \n",
       "..                     ...         ...             ...                 ...   \n",
       "144                      0           0               0                   1   \n",
       "145                      0           0               0                   1   \n",
       "146                      0           0               0                   1   \n",
       "147                      0           0               0                   1   \n",
       "148                      0           1               0                   0   \n",
       "\n",
       "     Western Europe  \n",
       "0                 1  \n",
       "1                 1  \n",
       "2                 1  \n",
       "3                 1  \n",
       "4                 1  \n",
       "..              ...  \n",
       "144               0  \n",
       "145               0  \n",
       "146               0  \n",
       "147               0  \n",
       "148               0  \n",
       "\n",
       "[149 rows x 23 columns]"
      ]
     },
     "execution_count": 47,
     "metadata": {},
     "output_type": "execute_result"
    }
   ],
   "source": [
    "df3[\"Pred\"] = reg2.predict(df3[cols4])\n",
    "df3"
   ]
  },
  {
   "cell_type": "markdown",
   "metadata": {
    "cell_id": "ed2a65e197534031b5ab267789853b92",
    "deepnote_cell_type": "text-cell-h3",
    "formattedRanges": [],
    "is_collapsed": false,
    "tags": []
   },
   "source": [
    "### Ture Ladder Score VS. Predicted Ladder Score with New Model"
   ]
  },
  {
   "cell_type": "code",
   "execution_count": 48,
   "metadata": {
    "cell_id": "e96a4756cbc7460aa72d4dae497d46a4",
    "deepnote_cell_type": "code",
    "deepnote_to_be_reexecuted": false,
    "execution_millis": 374,
    "execution_start": 1670290722649,
    "source_hash": "966e06ef",
    "tags": []
   },
   "outputs": [
    {
     "data": {
      "text/html": [
       "\n",
       "<div id=\"altair-viz-3a3c20efbb4b46cd90b3e0c6bcb31f59\"></div>\n",
       "<script type=\"text/javascript\">\n",
       "  var VEGA_DEBUG = (typeof VEGA_DEBUG == \"undefined\") ? {} : VEGA_DEBUG;\n",
       "  (function(spec, embedOpt){\n",
       "    let outputDiv = document.currentScript.previousElementSibling;\n",
       "    if (outputDiv.id !== \"altair-viz-3a3c20efbb4b46cd90b3e0c6bcb31f59\") {\n",
       "      outputDiv = document.getElementById(\"altair-viz-3a3c20efbb4b46cd90b3e0c6bcb31f59\");\n",
       "    }\n",
       "    const paths = {\n",
       "      \"vega\": \"https://cdn.jsdelivr.net/npm//vega@5?noext\",\n",
       "      \"vega-lib\": \"https://cdn.jsdelivr.net/npm//vega-lib?noext\",\n",
       "      \"vega-lite\": \"https://cdn.jsdelivr.net/npm//vega-lite@4.17.0?noext\",\n",
       "      \"vega-embed\": \"https://cdn.jsdelivr.net/npm//vega-embed@6?noext\",\n",
       "    };\n",
       "\n",
       "    function maybeLoadScript(lib, version) {\n",
       "      var key = `${lib.replace(\"-\", \"\")}_version`;\n",
       "      return (VEGA_DEBUG[key] == version) ?\n",
       "        Promise.resolve(paths[lib]) :\n",
       "        new Promise(function(resolve, reject) {\n",
       "          var s = document.createElement('script');\n",
       "          document.getElementsByTagName(\"head\")[0].appendChild(s);\n",
       "          s.async = true;\n",
       "          s.onload = () => {\n",
       "            VEGA_DEBUG[key] = version;\n",
       "            return resolve(paths[lib]);\n",
       "          };\n",
       "          s.onerror = () => reject(`Error loading script: ${paths[lib]}`);\n",
       "          s.src = paths[lib];\n",
       "        });\n",
       "    }\n",
       "\n",
       "    function showError(err) {\n",
       "      outputDiv.innerHTML = `<div class=\"error\" style=\"color:red;\">${err}</div>`;\n",
       "      throw err;\n",
       "    }\n",
       "\n",
       "    function displayChart(vegaEmbed) {\n",
       "      vegaEmbed(outputDiv, spec, embedOpt)\n",
       "        .catch(err => showError(`Javascript Error: ${err.message}<br>This usually means there's a typo in your chart specification. See the javascript console for the full traceback.`));\n",
       "    }\n",
       "\n",
       "    if(typeof define === \"function\" && define.amd) {\n",
       "      requirejs.config({paths});\n",
       "      require([\"vega-embed\"], displayChart, err => showError(`Error loading script: ${err.message}`));\n",
       "    } else {\n",
       "      maybeLoadScript(\"vega\", \"5\")\n",
       "        .then(() => maybeLoadScript(\"vega-lite\", \"4.17.0\"))\n",
       "        .then(() => maybeLoadScript(\"vega-embed\", \"6\"))\n",
       "        .catch(showError)\n",
       "        .then(() => displayChart(vegaEmbed));\n",
       "    }\n",
       "  })({\"config\": {\"view\": {\"continuousWidth\": 400, \"continuousHeight\": 300}}, \"hconcat\": [{\"layer\": [{\"mark\": \"circle\", \"encoding\": {\"color\": {\"field\": \"Regional indicator\", \"scale\": {\"scheme\": \"dark2\"}, \"type\": \"nominal\"}, \"x\": {\"field\": \"Logged GDP per capita\", \"scale\": {\"zero\": false}, \"type\": \"quantitative\"}, \"y\": {\"field\": \"Ladder score\", \"type\": \"quantitative\"}}}, {\"mark\": \"line\", \"encoding\": {\"color\": {\"value\": \"#FFAA00\"}, \"x\": {\"field\": \"Logged GDP per capita\", \"scale\": {\"zero\": false}, \"type\": \"quantitative\"}, \"y\": {\"field\": \"Pred\", \"type\": \"quantitative\"}}}]}, {\"layer\": [{\"mark\": \"circle\", \"encoding\": {\"color\": {\"field\": \"Regional indicator\", \"scale\": {\"scheme\": \"dark2\"}, \"type\": \"nominal\"}, \"x\": {\"field\": \"Social support\", \"scale\": {\"zero\": false}, \"type\": \"quantitative\"}, \"y\": {\"field\": \"Ladder score\", \"type\": \"quantitative\"}}}, {\"mark\": \"line\", \"encoding\": {\"color\": {\"value\": \"#FFAA00\"}, \"x\": {\"field\": \"Social support\", \"scale\": {\"zero\": false}, \"type\": \"quantitative\"}, \"y\": {\"field\": \"Pred\", \"type\": \"quantitative\"}}}]}, {\"layer\": [{\"mark\": \"circle\", \"encoding\": {\"color\": {\"field\": \"Regional indicator\", \"scale\": {\"scheme\": \"dark2\"}, \"type\": \"nominal\"}, \"x\": {\"field\": \"Healthy life expectancy\", \"scale\": {\"zero\": false}, \"type\": \"quantitative\"}, \"y\": {\"field\": \"Ladder score\", \"type\": \"quantitative\"}}}, {\"mark\": \"line\", \"encoding\": {\"color\": {\"value\": \"#FFAA00\"}, \"x\": {\"field\": \"Healthy life expectancy\", \"scale\": {\"zero\": false}, \"type\": \"quantitative\"}, \"y\": {\"field\": \"Pred\", \"type\": \"quantitative\"}}}]}, {\"layer\": [{\"mark\": \"circle\", \"encoding\": {\"color\": {\"field\": \"Regional indicator\", \"scale\": {\"scheme\": \"dark2\"}, \"type\": \"nominal\"}, \"x\": {\"field\": \"Freedom to make life choices\", \"scale\": {\"zero\": false}, \"type\": \"quantitative\"}, \"y\": {\"field\": \"Ladder score\", \"type\": \"quantitative\"}}}, {\"mark\": \"line\", \"encoding\": {\"color\": {\"value\": \"#FFAA00\"}, \"x\": {\"field\": \"Freedom to make life choices\", \"scale\": {\"zero\": false}, \"type\": \"quantitative\"}, \"y\": {\"field\": \"Pred\", \"type\": \"quantitative\"}}}]}, {\"layer\": [{\"mark\": \"circle\", \"encoding\": {\"color\": {\"field\": \"Regional indicator\", \"scale\": {\"scheme\": \"dark2\"}, \"type\": \"nominal\"}, \"x\": {\"field\": \"Generosity\", \"scale\": {\"zero\": false}, \"type\": \"quantitative\"}, \"y\": {\"field\": \"Ladder score\", \"type\": \"quantitative\"}}}, {\"mark\": \"line\", \"encoding\": {\"color\": {\"value\": \"#FFAA00\"}, \"x\": {\"field\": \"Generosity\", \"scale\": {\"zero\": false}, \"type\": \"quantitative\"}, \"y\": {\"field\": \"Pred\", \"type\": \"quantitative\"}}}]}, {\"layer\": [{\"mark\": \"circle\", \"encoding\": {\"color\": {\"field\": \"Regional indicator\", \"scale\": {\"scheme\": \"dark2\"}, \"type\": \"nominal\"}, \"x\": {\"field\": \"Perceptions of corruption\", \"scale\": {\"zero\": false}, \"type\": \"quantitative\"}, \"y\": {\"field\": \"Ladder score\", \"type\": \"quantitative\"}}}, {\"mark\": \"line\", \"encoding\": {\"color\": {\"value\": \"#FFAA00\"}, \"x\": {\"field\": \"Perceptions of corruption\", \"scale\": {\"zero\": false}, \"type\": \"quantitative\"}, \"y\": {\"field\": \"Pred\", \"type\": \"quantitative\"}}}]}], \"data\": {\"name\": \"data-9c1185780b1db1cd0776b905968a8939\"}, \"$schema\": \"https://vega.github.io/schema/vega-lite/v4.17.0.json\", \"datasets\": {\"data-9c1185780b1db1cd0776b905968a8939\": [{\"Country name\": \"Finland\", \"Regional indicator\": \"Western Europe\", \"Ladder score\": 7.842, \"Logged GDP per capita\": 10.775, \"Social support\": 0.954, \"Healthy life expectancy\": 72.0, \"Freedom to make life choices\": 0.949, \"Generosity\": -0.098, \"Perceptions of corruption\": 0.186, \"Rank\": 1, \"Happiness\": \"Very Happy\", \"cluster\": 4, \"Pred\": 7.2328855965814665, \"Central and Eastern Europe\": 0, \"Commonwealth of Independent States\": 0, \"East Asia\": 0, \"Latin America and Caribbean\": 0, \"Middle East and North Africa\": 0, \"North America and ANZ\": 0, \"South Asia\": 0, \"Southeast Asia\": 0, \"Sub-Saharan Africa\": 0, \"Western Europe\": 1}, {\"Country name\": \"Denmark\", \"Regional indicator\": \"Western Europe\", \"Ladder score\": 7.62, \"Logged GDP per capita\": 10.933, \"Social support\": 0.954, \"Healthy life expectancy\": 72.7, \"Freedom to make life choices\": 0.946, \"Generosity\": 0.03, \"Perceptions of corruption\": 0.179, \"Rank\": 2, \"Happiness\": \"Very Happy\", \"cluster\": 4, \"Pred\": 7.344132412852668, \"Central and Eastern Europe\": 0, \"Commonwealth of Independent States\": 0, \"East Asia\": 0, \"Latin America and Caribbean\": 0, \"Middle East and North Africa\": 0, \"North America and ANZ\": 0, \"South Asia\": 0, \"Southeast Asia\": 0, \"Sub-Saharan Africa\": 0, \"Western Europe\": 1}, {\"Country name\": \"Switzerland\", \"Regional indicator\": \"Western Europe\", \"Ladder score\": 7.571, \"Logged GDP per capita\": 11.117, \"Social support\": 0.942, \"Healthy life expectancy\": 74.4, \"Freedom to make life choices\": 0.919, \"Generosity\": 0.025, \"Perceptions of corruption\": 0.292, \"Rank\": 3, \"Happiness\": \"Very Happy\", \"cluster\": 4, \"Pred\": 7.29310702239688, \"Central and Eastern Europe\": 0, \"Commonwealth of Independent States\": 0, \"East Asia\": 0, \"Latin America and Caribbean\": 0, \"Middle East and North Africa\": 0, \"North America and ANZ\": 0, \"South Asia\": 0, \"Southeast Asia\": 0, \"Sub-Saharan Africa\": 0, \"Western Europe\": 1}, {\"Country name\": \"Iceland\", \"Regional indicator\": \"Western Europe\", \"Ladder score\": 7.554, \"Logged GDP per capita\": 10.878, \"Social support\": 0.983, \"Healthy life expectancy\": 73.0, \"Freedom to make life choices\": 0.955, \"Generosity\": 0.16, \"Perceptions of corruption\": 0.673, \"Rank\": 4, \"Happiness\": \"Very Happy\", \"cluster\": 4, \"Pred\": 7.312927408509944, \"Central and Eastern Europe\": 0, \"Commonwealth of Independent States\": 0, \"East Asia\": 0, \"Latin America and Caribbean\": 0, \"Middle East and North Africa\": 0, \"North America and ANZ\": 0, \"South Asia\": 0, \"Southeast Asia\": 0, \"Sub-Saharan Africa\": 0, \"Western Europe\": 1}, {\"Country name\": \"Netherlands\", \"Regional indicator\": \"Western Europe\", \"Ladder score\": 7.464, \"Logged GDP per capita\": 10.932, \"Social support\": 0.942, \"Healthy life expectancy\": 72.4, \"Freedom to make life choices\": 0.913, \"Generosity\": 0.175, \"Perceptions of corruption\": 0.338, \"Rank\": 5, \"Happiness\": \"Very Happy\", \"cluster\": 4, \"Pred\": 7.26128858977833, \"Central and Eastern Europe\": 0, \"Commonwealth of Independent States\": 0, \"East Asia\": 0, \"Latin America and Caribbean\": 0, \"Middle East and North Africa\": 0, \"North America and ANZ\": 0, \"South Asia\": 0, \"Southeast Asia\": 0, \"Sub-Saharan Africa\": 0, \"Western Europe\": 1}, {\"Country name\": \"Norway\", \"Regional indicator\": \"Western Europe\", \"Ladder score\": 7.392, \"Logged GDP per capita\": 11.053, \"Social support\": 0.954, \"Healthy life expectancy\": 73.3, \"Freedom to make life choices\": 0.96, \"Generosity\": 0.093, \"Perceptions of corruption\": 0.27, \"Rank\": 6, \"Happiness\": \"Very Happy\", \"cluster\": 4, \"Pred\": 7.41783938066502, \"Central and Eastern Europe\": 0, \"Commonwealth of Independent States\": 0, \"East Asia\": 0, \"Latin America and Caribbean\": 0, \"Middle East and North Africa\": 0, \"North America and ANZ\": 0, \"South Asia\": 0, \"Southeast Asia\": 0, \"Sub-Saharan Africa\": 0, \"Western Europe\": 1}, {\"Country name\": \"Sweden\", \"Regional indicator\": \"Western Europe\", \"Ladder score\": 7.363, \"Logged GDP per capita\": 10.867, \"Social support\": 0.934, \"Healthy life expectancy\": 72.7, \"Freedom to make life choices\": 0.945, \"Generosity\": 0.086, \"Perceptions of corruption\": 0.237, \"Rank\": 7, \"Happiness\": \"Very Happy\", \"cluster\": 4, \"Pred\": 7.294000695028242, \"Central and Eastern Europe\": 0, \"Commonwealth of Independent States\": 0, \"East Asia\": 0, \"Latin America and Caribbean\": 0, \"Middle East and North Africa\": 0, \"North America and ANZ\": 0, \"South Asia\": 0, \"Southeast Asia\": 0, \"Sub-Saharan Africa\": 0, \"Western Europe\": 1}, {\"Country name\": \"Luxembourg\", \"Regional indicator\": \"Western Europe\", \"Ladder score\": 7.324, \"Logged GDP per capita\": 11.647, \"Social support\": 0.908, \"Healthy life expectancy\": 72.6, \"Freedom to make life choices\": 0.907, \"Generosity\": -0.034, \"Perceptions of corruption\": 0.386, \"Rank\": 8, \"Happiness\": \"Very Happy\", \"cluster\": 4, \"Pred\": 7.255849344445981, \"Central and Eastern Europe\": 0, \"Commonwealth of Independent States\": 0, \"East Asia\": 0, \"Latin America and Caribbean\": 0, \"Middle East and North Africa\": 0, \"North America and ANZ\": 0, \"South Asia\": 0, \"Southeast Asia\": 0, \"Sub-Saharan Africa\": 0, \"Western Europe\": 1}, {\"Country name\": \"New Zealand\", \"Regional indicator\": \"North America and ANZ\", \"Ladder score\": 7.277, \"Logged GDP per capita\": 10.643, \"Social support\": 0.948, \"Healthy life expectancy\": 73.4, \"Freedom to make life choices\": 0.929, \"Generosity\": 0.134, \"Perceptions of corruption\": 0.242, \"Rank\": 9, \"Happiness\": \"Very Happy\", \"cluster\": 4, \"Pred\": 7.270969053286242, \"Central and Eastern Europe\": 0, \"Commonwealth of Independent States\": 0, \"East Asia\": 0, \"Latin America and Caribbean\": 0, \"Middle East and North Africa\": 0, \"North America and ANZ\": 1, \"South Asia\": 0, \"Southeast Asia\": 0, \"Sub-Saharan Africa\": 0, \"Western Europe\": 0}, {\"Country name\": \"Austria\", \"Regional indicator\": \"Western Europe\", \"Ladder score\": 7.268, \"Logged GDP per capita\": 10.906, \"Social support\": 0.934, \"Healthy life expectancy\": 73.3, \"Freedom to make life choices\": 0.908, \"Generosity\": 0.042, \"Perceptions of corruption\": 0.481, \"Rank\": 10, \"Happiness\": \"Very Happy\", \"cluster\": 4, \"Pred\": 7.127005106018684, \"Central and Eastern Europe\": 0, \"Commonwealth of Independent States\": 0, \"East Asia\": 0, \"Latin America and Caribbean\": 0, \"Middle East and North Africa\": 0, \"North America and ANZ\": 0, \"South Asia\": 0, \"Southeast Asia\": 0, \"Sub-Saharan Africa\": 0, \"Western Europe\": 1}, {\"Country name\": \"Australia\", \"Regional indicator\": \"North America and ANZ\", \"Ladder score\": 7.183, \"Logged GDP per capita\": 10.796, \"Social support\": 0.94, \"Healthy life expectancy\": 73.9, \"Freedom to make life choices\": 0.914, \"Generosity\": 0.159, \"Perceptions of corruption\": 0.442, \"Rank\": 11, \"Happiness\": \"Very Happy\", \"cluster\": 4, \"Pred\": 7.216077452302327, \"Central and Eastern Europe\": 0, \"Commonwealth of Independent States\": 0, \"East Asia\": 0, \"Latin America and Caribbean\": 0, \"Middle East and North Africa\": 0, \"North America and ANZ\": 1, \"South Asia\": 0, \"Southeast Asia\": 0, \"Sub-Saharan Africa\": 0, \"Western Europe\": 0}, {\"Country name\": \"Israel\", \"Regional indicator\": \"Middle East and North Africa\", \"Ladder score\": 7.157, \"Logged GDP per capita\": 10.575, \"Social support\": 0.939, \"Healthy life expectancy\": 73.503, \"Freedom to make life choices\": 0.8, \"Generosity\": 0.031, \"Perceptions of corruption\": 0.753, \"Rank\": 12, \"Happiness\": \"Very Happy\", \"cluster\": 0, \"Pred\": 6.097087536053926, \"Central and Eastern Europe\": 0, \"Commonwealth of Independent States\": 0, \"East Asia\": 0, \"Latin America and Caribbean\": 0, \"Middle East and North Africa\": 1, \"North America and ANZ\": 0, \"South Asia\": 0, \"Southeast Asia\": 0, \"Sub-Saharan Africa\": 0, \"Western Europe\": 0}, {\"Country name\": \"Germany\", \"Regional indicator\": \"Western Europe\", \"Ladder score\": 7.155, \"Logged GDP per capita\": 10.873, \"Social support\": 0.903, \"Healthy life expectancy\": 72.5, \"Freedom to make life choices\": 0.875, \"Generosity\": 0.011, \"Perceptions of corruption\": 0.46, \"Rank\": 13, \"Happiness\": \"Very Happy\", \"cluster\": 4, \"Pred\": 6.963165173282702, \"Central and Eastern Europe\": 0, \"Commonwealth of Independent States\": 0, \"East Asia\": 0, \"Latin America and Caribbean\": 0, \"Middle East and North Africa\": 0, \"North America and ANZ\": 0, \"South Asia\": 0, \"Southeast Asia\": 0, \"Sub-Saharan Africa\": 0, \"Western Europe\": 1}, {\"Country name\": \"Canada\", \"Regional indicator\": \"North America and ANZ\", \"Ladder score\": 7.103, \"Logged GDP per capita\": 10.776, \"Social support\": 0.926, \"Healthy life expectancy\": 73.8, \"Freedom to make life choices\": 0.915, \"Generosity\": 0.089, \"Perceptions of corruption\": 0.415, \"Rank\": 14, \"Happiness\": \"Very Happy\", \"cluster\": 4, \"Pred\": 7.158368369599383, \"Central and Eastern Europe\": 0, \"Commonwealth of Independent States\": 0, \"East Asia\": 0, \"Latin America and Caribbean\": 0, \"Middle East and North Africa\": 0, \"North America and ANZ\": 1, \"South Asia\": 0, \"Southeast Asia\": 0, \"Sub-Saharan Africa\": 0, \"Western Europe\": 0}, {\"Country name\": \"Ireland\", \"Regional indicator\": \"Western Europe\", \"Ladder score\": 7.085, \"Logged GDP per capita\": 11.342, \"Social support\": 0.947, \"Healthy life expectancy\": 72.4, \"Freedom to make life choices\": 0.879, \"Generosity\": 0.077, \"Perceptions of corruption\": 0.363, \"Rank\": 15, \"Happiness\": \"Very Happy\", \"cluster\": 4, \"Pred\": 7.246733441982192, \"Central and Eastern Europe\": 0, \"Commonwealth of Independent States\": 0, \"East Asia\": 0, \"Latin America and Caribbean\": 0, \"Middle East and North Africa\": 0, \"North America and ANZ\": 0, \"South Asia\": 0, \"Southeast Asia\": 0, \"Sub-Saharan Africa\": 0, \"Western Europe\": 1}, {\"Country name\": \"Costa Rica\", \"Regional indicator\": \"Latin America and Caribbean\", \"Ladder score\": 7.069, \"Logged GDP per capita\": 9.88, \"Social support\": 0.891, \"Healthy life expectancy\": 71.4, \"Freedom to make life choices\": 0.934, \"Generosity\": -0.126, \"Perceptions of corruption\": 0.809, \"Rank\": 16, \"Happiness\": \"Very Happy\", \"cluster\": 0, \"Pred\": 6.4031867678905385, \"Central and Eastern Europe\": 0, \"Commonwealth of Independent States\": 0, \"East Asia\": 0, \"Latin America and Caribbean\": 1, \"Middle East and North Africa\": 0, \"North America and ANZ\": 0, \"South Asia\": 0, \"Southeast Asia\": 0, \"Sub-Saharan Africa\": 0, \"Western Europe\": 0}, {\"Country name\": \"United Kingdom\", \"Regional indicator\": \"Western Europe\", \"Ladder score\": 7.064, \"Logged GDP per capita\": 10.707, \"Social support\": 0.934, \"Healthy life expectancy\": 72.5, \"Freedom to make life choices\": 0.859, \"Generosity\": 0.233, \"Perceptions of corruption\": 0.459, \"Rank\": 17, \"Happiness\": \"Very Happy\", \"cluster\": 4, \"Pred\": 7.053597013532476, \"Central and Eastern Europe\": 0, \"Commonwealth of Independent States\": 0, \"East Asia\": 0, \"Latin America and Caribbean\": 0, \"Middle East and North Africa\": 0, \"North America and ANZ\": 0, \"South Asia\": 0, \"Southeast Asia\": 0, \"Sub-Saharan Africa\": 0, \"Western Europe\": 1}, {\"Country name\": \"Czech Republic\", \"Regional indicator\": \"Central and Eastern Europe\", \"Ladder score\": 6.965, \"Logged GDP per capita\": 10.556, \"Social support\": 0.947, \"Healthy life expectancy\": 70.807, \"Freedom to make life choices\": 0.858, \"Generosity\": -0.208, \"Perceptions of corruption\": 0.868, \"Rank\": 18, \"Happiness\": \"Very Happy\", \"cluster\": 0, \"Pred\": 6.323515242015735, \"Central and Eastern Europe\": 1, \"Commonwealth of Independent States\": 0, \"East Asia\": 0, \"Latin America and Caribbean\": 0, \"Middle East and North Africa\": 0, \"North America and ANZ\": 0, \"South Asia\": 0, \"Southeast Asia\": 0, \"Sub-Saharan Africa\": 0, \"Western Europe\": 0}, {\"Country name\": \"United States\", \"Regional indicator\": \"North America and ANZ\", \"Ladder score\": 6.951, \"Logged GDP per capita\": 11.023, \"Social support\": 0.92, \"Healthy life expectancy\": 68.2, \"Freedom to make life choices\": 0.837, \"Generosity\": 0.098, \"Perceptions of corruption\": 0.698, \"Rank\": 19, \"Happiness\": \"Very Happy\", \"cluster\": 0, \"Pred\": 6.868585124811938, \"Central and Eastern Europe\": 0, \"Commonwealth of Independent States\": 0, \"East Asia\": 0, \"Latin America and Caribbean\": 0, \"Middle East and North Africa\": 0, \"North America and ANZ\": 1, \"South Asia\": 0, \"Southeast Asia\": 0, \"Sub-Saharan Africa\": 0, \"Western Europe\": 0}, {\"Country name\": \"Belgium\", \"Regional indicator\": \"Western Europe\", \"Ladder score\": 6.834, \"Logged GDP per capita\": 10.823, \"Social support\": 0.906, \"Healthy life expectancy\": 72.199, \"Freedom to make life choices\": 0.783, \"Generosity\": -0.153, \"Perceptions of corruption\": 0.646, \"Rank\": 20, \"Happiness\": \"Very Happy\", \"cluster\": 0, \"Pred\": 6.6002645339838875, \"Central and Eastern Europe\": 0, \"Commonwealth of Independent States\": 0, \"East Asia\": 0, \"Latin America and Caribbean\": 0, \"Middle East and North Africa\": 0, \"North America and ANZ\": 0, \"South Asia\": 0, \"Southeast Asia\": 0, \"Sub-Saharan Africa\": 0, \"Western Europe\": 1}, {\"Country name\": \"France\", \"Regional indicator\": \"Western Europe\", \"Ladder score\": 6.69, \"Logged GDP per capita\": 10.704, \"Social support\": 0.942, \"Healthy life expectancy\": 74.0, \"Freedom to make life choices\": 0.822, \"Generosity\": -0.147, \"Perceptions of corruption\": 0.571, \"Rank\": 21, \"Happiness\": \"Very Happy\", \"cluster\": 0, \"Pred\": 6.779997968551225, \"Central and Eastern Europe\": 0, \"Commonwealth of Independent States\": 0, \"East Asia\": 0, \"Latin America and Caribbean\": 0, \"Middle East and North Africa\": 0, \"North America and ANZ\": 0, \"South Asia\": 0, \"Southeast Asia\": 0, \"Sub-Saharan Africa\": 0, \"Western Europe\": 1}, {\"Country name\": \"Bahrain\", \"Regional indicator\": \"Middle East and North Africa\", \"Ladder score\": 6.647, \"Logged GDP per capita\": 10.669, \"Social support\": 0.862, \"Healthy life expectancy\": 69.495, \"Freedom to make life choices\": 0.925, \"Generosity\": 0.089, \"Perceptions of corruption\": 0.722, \"Rank\": 22, \"Happiness\": \"Very Happy\", \"cluster\": 0, \"Pred\": 6.237991914978234, \"Central and Eastern Europe\": 0, \"Commonwealth of Independent States\": 0, \"East Asia\": 0, \"Latin America and Caribbean\": 0, \"Middle East and North Africa\": 1, \"North America and ANZ\": 0, \"South Asia\": 0, \"Southeast Asia\": 0, \"Sub-Saharan Africa\": 0, \"Western Europe\": 0}, {\"Country name\": \"Malta\", \"Regional indicator\": \"Western Europe\", \"Ladder score\": 6.602, \"Logged GDP per capita\": 10.674, \"Social support\": 0.931, \"Healthy life expectancy\": 72.2, \"Freedom to make life choices\": 0.927, \"Generosity\": 0.133, \"Perceptions of corruption\": 0.653, \"Rank\": 23, \"Happiness\": \"Very Happy\", \"cluster\": 4, \"Pred\": 7.075394358081157, \"Central and Eastern Europe\": 0, \"Commonwealth of Independent States\": 0, \"East Asia\": 0, \"Latin America and Caribbean\": 0, \"Middle East and North Africa\": 0, \"North America and ANZ\": 0, \"South Asia\": 0, \"Southeast Asia\": 0, \"Sub-Saharan Africa\": 0, \"Western Europe\": 1}, {\"Country name\": \"Taiwan Province of China\", \"Regional indicator\": \"East Asia\", \"Ladder score\": 6.584, \"Logged GDP per capita\": 10.871, \"Social support\": 0.898, \"Healthy life expectancy\": 69.6, \"Freedom to make life choices\": 0.784, \"Generosity\": -0.07, \"Perceptions of corruption\": 0.721, \"Rank\": 24, \"Happiness\": \"Very Happy\", \"cluster\": 0, \"Pred\": 6.025099103956442, \"Central and Eastern Europe\": 0, \"Commonwealth of Independent States\": 0, \"East Asia\": 1, \"Latin America and Caribbean\": 0, \"Middle East and North Africa\": 0, \"North America and ANZ\": 0, \"South Asia\": 0, \"Southeast Asia\": 0, \"Sub-Saharan Africa\": 0, \"Western Europe\": 0}, {\"Country name\": \"United Arab Emirates\", \"Regional indicator\": \"Middle East and North Africa\", \"Ladder score\": 6.561, \"Logged GDP per capita\": 11.085, \"Social support\": 0.844, \"Healthy life expectancy\": 67.333, \"Freedom to make life choices\": 0.932, \"Generosity\": 0.074, \"Perceptions of corruption\": 0.589, \"Rank\": 25, \"Happiness\": \"Very Happy\", \"cluster\": 4, \"Pred\": 6.335829219765445, \"Central and Eastern Europe\": 0, \"Commonwealth of Independent States\": 0, \"East Asia\": 0, \"Latin America and Caribbean\": 0, \"Middle East and North Africa\": 1, \"North America and ANZ\": 0, \"South Asia\": 0, \"Southeast Asia\": 0, \"Sub-Saharan Africa\": 0, \"Western Europe\": 0}, {\"Country name\": \"Saudi Arabia\", \"Regional indicator\": \"Middle East and North Africa\", \"Ladder score\": 6.494, \"Logged GDP per capita\": 10.743, \"Social support\": 0.891, \"Healthy life expectancy\": 66.603, \"Freedom to make life choices\": 0.877, \"Generosity\": -0.149, \"Perceptions of corruption\": 0.684, \"Rank\": 26, \"Happiness\": \"Very Happy\", \"cluster\": 0, \"Pred\": 6.058981429359727, \"Central and Eastern Europe\": 0, \"Commonwealth of Independent States\": 0, \"East Asia\": 0, \"Latin America and Caribbean\": 0, \"Middle East and North Africa\": 1, \"North America and ANZ\": 0, \"South Asia\": 0, \"Southeast Asia\": 0, \"Sub-Saharan Africa\": 0, \"Western Europe\": 0}, {\"Country name\": \"Spain\", \"Regional indicator\": \"Western Europe\", \"Ladder score\": 6.491, \"Logged GDP per capita\": 10.571, \"Social support\": 0.932, \"Healthy life expectancy\": 74.7, \"Freedom to make life choices\": 0.761, \"Generosity\": -0.081, \"Perceptions of corruption\": 0.745, \"Rank\": 27, \"Happiness\": \"Very Happy\", \"cluster\": 0, \"Pred\": 6.572171464487731, \"Central and Eastern Europe\": 0, \"Commonwealth of Independent States\": 0, \"East Asia\": 0, \"Latin America and Caribbean\": 0, \"Middle East and North Africa\": 0, \"North America and ANZ\": 0, \"South Asia\": 0, \"Southeast Asia\": 0, \"Sub-Saharan Africa\": 0, \"Western Europe\": 1}, {\"Country name\": \"Italy\", \"Regional indicator\": \"Western Europe\", \"Ladder score\": 6.483, \"Logged GDP per capita\": 10.623, \"Social support\": 0.88, \"Healthy life expectancy\": 73.8, \"Freedom to make life choices\": 0.693, \"Generosity\": -0.084, \"Perceptions of corruption\": 0.866, \"Rank\": 28, \"Happiness\": \"Very Happy\", \"cluster\": 0, \"Pred\": 6.2766641528178955, \"Central and Eastern Europe\": 0, \"Commonwealth of Independent States\": 0, \"East Asia\": 0, \"Latin America and Caribbean\": 0, \"Middle East and North Africa\": 0, \"North America and ANZ\": 0, \"South Asia\": 0, \"Southeast Asia\": 0, \"Sub-Saharan Africa\": 0, \"Western Europe\": 1}, {\"Country name\": \"Slovenia\", \"Regional indicator\": \"Central and Eastern Europe\", \"Ladder score\": 6.461, \"Logged GDP per capita\": 10.529, \"Social support\": 0.948, \"Healthy life expectancy\": 71.4, \"Freedom to make life choices\": 0.949, \"Generosity\": -0.101, \"Perceptions of corruption\": 0.806, \"Rank\": 29, \"Happiness\": \"Very Happy\", \"cluster\": 0, \"Pred\": 6.6064005697088355, \"Central and Eastern Europe\": 1, \"Commonwealth of Independent States\": 0, \"East Asia\": 0, \"Latin America and Caribbean\": 0, \"Middle East and North Africa\": 0, \"North America and ANZ\": 0, \"South Asia\": 0, \"Southeast Asia\": 0, \"Sub-Saharan Africa\": 0, \"Western Europe\": 0}, {\"Country name\": \"Guatemala\", \"Regional indicator\": \"Latin America and Caribbean\", \"Ladder score\": 6.435, \"Logged GDP per capita\": 9.053, \"Social support\": 0.813, \"Healthy life expectancy\": 64.958, \"Freedom to make life choices\": 0.906, \"Generosity\": -0.038, \"Perceptions of corruption\": 0.775, \"Rank\": 30, \"Happiness\": \"Very Happy\", \"cluster\": 0, \"Pred\": 5.930584832816973, \"Central and Eastern Europe\": 0, \"Commonwealth of Independent States\": 0, \"East Asia\": 0, \"Latin America and Caribbean\": 1, \"Middle East and North Africa\": 0, \"North America and ANZ\": 0, \"South Asia\": 0, \"Southeast Asia\": 0, \"Sub-Saharan Africa\": 0, \"Western Europe\": 0}, {\"Country name\": \"Uruguay\", \"Regional indicator\": \"Latin America and Caribbean\", \"Ladder score\": 6.431, \"Logged GDP per capita\": 9.966, \"Social support\": 0.925, \"Healthy life expectancy\": 69.1, \"Freedom to make life choices\": 0.896, \"Generosity\": -0.092, \"Perceptions of corruption\": 0.59, \"Rank\": 31, \"Happiness\": \"Very Happy\", \"cluster\": 0, \"Pred\": 6.4627844613756436, \"Central and Eastern Europe\": 0, \"Commonwealth of Independent States\": 0, \"East Asia\": 0, \"Latin America and Caribbean\": 1, \"Middle East and North Africa\": 0, \"North America and ANZ\": 0, \"South Asia\": 0, \"Southeast Asia\": 0, \"Sub-Saharan Africa\": 0, \"Western Europe\": 0}, {\"Country name\": \"Singapore\", \"Regional indicator\": \"Southeast Asia\", \"Ladder score\": 6.377, \"Logged GDP per capita\": 11.488, \"Social support\": 0.915, \"Healthy life expectancy\": 76.953, \"Freedom to make life choices\": 0.927, \"Generosity\": -0.018, \"Perceptions of corruption\": 0.082, \"Rank\": 32, \"Happiness\": \"Very Happy\", \"cluster\": 4, \"Pred\": 6.475034604032626, \"Central and Eastern Europe\": 0, \"Commonwealth of Independent States\": 0, \"East Asia\": 0, \"Latin America and Caribbean\": 0, \"Middle East and North Africa\": 0, \"North America and ANZ\": 0, \"South Asia\": 0, \"Southeast Asia\": 1, \"Sub-Saharan Africa\": 0, \"Western Europe\": 0}, {\"Country name\": \"Kosovo\", \"Regional indicator\": \"Central and Eastern Europe\", \"Ladder score\": 6.372, \"Logged GDP per capita\": 9.318, \"Social support\": 0.821, \"Healthy life expectancy\": 63.813, \"Freedom to make life choices\": 0.869, \"Generosity\": 0.257, \"Perceptions of corruption\": 0.917, \"Rank\": 33, \"Happiness\": \"Very Happy\", \"cluster\": 2, \"Pred\": 5.888122319371582, \"Central and Eastern Europe\": 1, \"Commonwealth of Independent States\": 0, \"East Asia\": 0, \"Latin America and Caribbean\": 0, \"Middle East and North Africa\": 0, \"North America and ANZ\": 0, \"South Asia\": 0, \"Southeast Asia\": 0, \"Sub-Saharan Africa\": 0, \"Western Europe\": 0}, {\"Country name\": \"Slovakia\", \"Regional indicator\": \"Central and Eastern Europe\", \"Ladder score\": 6.331, \"Logged GDP per capita\": 10.369, \"Social support\": 0.936, \"Healthy life expectancy\": 69.201, \"Freedom to make life choices\": 0.766, \"Generosity\": -0.124, \"Perceptions of corruption\": 0.911, \"Rank\": 34, \"Happiness\": \"Very Happy\", \"cluster\": 0, \"Pred\": 6.048523220674082, \"Central and Eastern Europe\": 1, \"Commonwealth of Independent States\": 0, \"East Asia\": 0, \"Latin America and Caribbean\": 0, \"Middle East and North Africa\": 0, \"North America and ANZ\": 0, \"South Asia\": 0, \"Southeast Asia\": 0, \"Sub-Saharan Africa\": 0, \"Western Europe\": 0}, {\"Country name\": \"Brazil\", \"Regional indicator\": \"Latin America and Caribbean\", \"Ladder score\": 6.33, \"Logged GDP per capita\": 9.577, \"Social support\": 0.882, \"Healthy life expectancy\": 66.601, \"Freedom to make life choices\": 0.804, \"Generosity\": -0.071, \"Perceptions of corruption\": 0.756, \"Rank\": 35, \"Happiness\": \"Very Happy\", \"cluster\": 0, \"Pred\": 5.987074408162234, \"Central and Eastern Europe\": 0, \"Commonwealth of Independent States\": 0, \"East Asia\": 0, \"Latin America and Caribbean\": 1, \"Middle East and North Africa\": 0, \"North America and ANZ\": 0, \"South Asia\": 0, \"Southeast Asia\": 0, \"Sub-Saharan Africa\": 0, \"Western Europe\": 0}, {\"Country name\": \"Mexico\", \"Regional indicator\": \"Latin America and Caribbean\", \"Ladder score\": 6.317, \"Logged GDP per capita\": 9.859, \"Social support\": 0.831, \"Healthy life expectancy\": 68.597, \"Freedom to make life choices\": 0.862, \"Generosity\": -0.147, \"Perceptions of corruption\": 0.799, \"Rank\": 36, \"Happiness\": \"Very Happy\", \"cluster\": 0, \"Pred\": 6.0707656243799075, \"Central and Eastern Europe\": 0, \"Commonwealth of Independent States\": 0, \"East Asia\": 0, \"Latin America and Caribbean\": 1, \"Middle East and North Africa\": 0, \"North America and ANZ\": 0, \"South Asia\": 0, \"Southeast Asia\": 0, \"Sub-Saharan Africa\": 0, \"Western Europe\": 0}, {\"Country name\": \"Jamaica\", \"Regional indicator\": \"Latin America and Caribbean\", \"Ladder score\": 6.309, \"Logged GDP per capita\": 9.186, \"Social support\": 0.877, \"Healthy life expectancy\": 67.5, \"Freedom to make life choices\": 0.89, \"Generosity\": -0.137, \"Perceptions of corruption\": 0.884, \"Rank\": 37, \"Happiness\": \"Very Happy\", \"cluster\": 0, \"Pred\": 6.005468607877823, \"Central and Eastern Europe\": 0, \"Commonwealth of Independent States\": 0, \"East Asia\": 0, \"Latin America and Caribbean\": 1, \"Middle East and North Africa\": 0, \"North America and ANZ\": 0, \"South Asia\": 0, \"Southeast Asia\": 0, \"Sub-Saharan Africa\": 0, \"Western Europe\": 0}, {\"Country name\": \"Lithuania\", \"Regional indicator\": \"Central and Eastern Europe\", \"Ladder score\": 6.255, \"Logged GDP per capita\": 10.499, \"Social support\": 0.935, \"Healthy life expectancy\": 67.906, \"Freedom to make life choices\": 0.773, \"Generosity\": -0.203, \"Perceptions of corruption\": 0.826, \"Rank\": 38, \"Happiness\": \"Very Happy\", \"cluster\": 0, \"Pred\": 6.067630068020452, \"Central and Eastern Europe\": 1, \"Commonwealth of Independent States\": 0, \"East Asia\": 0, \"Latin America and Caribbean\": 0, \"Middle East and North Africa\": 0, \"North America and ANZ\": 0, \"South Asia\": 0, \"Southeast Asia\": 0, \"Sub-Saharan Africa\": 0, \"Western Europe\": 0}, {\"Country name\": \"Cyprus\", \"Regional indicator\": \"Western Europe\", \"Ladder score\": 6.223, \"Logged GDP per capita\": 10.576, \"Social support\": 0.802, \"Healthy life expectancy\": 73.898, \"Freedom to make life choices\": 0.763, \"Generosity\": -0.015, \"Perceptions of corruption\": 0.844, \"Rank\": 39, \"Happiness\": \"Happy\", \"cluster\": 0, \"Pred\": 6.313587749019989, \"Central and Eastern Europe\": 0, \"Commonwealth of Independent States\": 0, \"East Asia\": 0, \"Latin America and Caribbean\": 0, \"Middle East and North Africa\": 0, \"North America and ANZ\": 0, \"South Asia\": 0, \"Southeast Asia\": 0, \"Sub-Saharan Africa\": 0, \"Western Europe\": 1}, {\"Country name\": \"Estonia\", \"Regional indicator\": \"Central and Eastern Europe\", \"Ladder score\": 6.189, \"Logged GDP per capita\": 10.481, \"Social support\": 0.941, \"Healthy life expectancy\": 68.8, \"Freedom to make life choices\": 0.909, \"Generosity\": -0.106, \"Perceptions of corruption\": 0.527, \"Rank\": 40, \"Happiness\": \"Happy\", \"cluster\": 0, \"Pred\": 6.541785131579775, \"Central and Eastern Europe\": 1, \"Commonwealth of Independent States\": 0, \"East Asia\": 0, \"Latin America and Caribbean\": 0, \"Middle East and North Africa\": 0, \"North America and ANZ\": 0, \"South Asia\": 0, \"Southeast Asia\": 0, \"Sub-Saharan Africa\": 0, \"Western Europe\": 0}, {\"Country name\": \"Panama\", \"Regional indicator\": \"Latin America and Caribbean\", \"Ladder score\": 6.18, \"Logged GDP per capita\": 10.35, \"Social support\": 0.896, \"Healthy life expectancy\": 69.652, \"Freedom to make life choices\": 0.872, \"Generosity\": -0.166, \"Perceptions of corruption\": 0.856, \"Rank\": 41, \"Happiness\": \"Happy\", \"cluster\": 0, \"Pred\": 6.3381964815810345, \"Central and Eastern Europe\": 0, \"Commonwealth of Independent States\": 0, \"East Asia\": 0, \"Latin America and Caribbean\": 1, \"Middle East and North Africa\": 0, \"North America and ANZ\": 0, \"South Asia\": 0, \"Southeast Asia\": 0, \"Sub-Saharan Africa\": 0, \"Western Europe\": 0}, {\"Country name\": \"Uzbekistan\", \"Regional indicator\": \"Commonwealth of Independent States\", \"Ladder score\": 6.179, \"Logged GDP per capita\": 8.836, \"Social support\": 0.918, \"Healthy life expectancy\": 65.255, \"Freedom to make life choices\": 0.97, \"Generosity\": 0.311, \"Perceptions of corruption\": 0.515, \"Rank\": 42, \"Happiness\": \"Happy\", \"cluster\": 2, \"Pred\": 5.996244038053862, \"Central and Eastern Europe\": 0, \"Commonwealth of Independent States\": 1, \"East Asia\": 0, \"Latin America and Caribbean\": 0, \"Middle East and North Africa\": 0, \"North America and ANZ\": 0, \"South Asia\": 0, \"Southeast Asia\": 0, \"Sub-Saharan Africa\": 0, \"Western Europe\": 0}, {\"Country name\": \"Chile\", \"Regional indicator\": \"Latin America and Caribbean\", \"Ladder score\": 6.172, \"Logged GDP per capita\": 10.071, \"Social support\": 0.882, \"Healthy life expectancy\": 70.0, \"Freedom to make life choices\": 0.742, \"Generosity\": -0.044, \"Perceptions of corruption\": 0.83, \"Rank\": 43, \"Happiness\": \"Happy\", \"cluster\": 0, \"Pred\": 6.015691410938224, \"Central and Eastern Europe\": 0, \"Commonwealth of Independent States\": 0, \"East Asia\": 0, \"Latin America and Caribbean\": 1, \"Middle East and North Africa\": 0, \"North America and ANZ\": 0, \"South Asia\": 0, \"Southeast Asia\": 0, \"Sub-Saharan Africa\": 0, \"Western Europe\": 0}, {\"Country name\": \"Poland\", \"Regional indicator\": \"Central and Eastern Europe\", \"Ladder score\": 6.166, \"Logged GDP per capita\": 10.382, \"Social support\": 0.898, \"Healthy life expectancy\": 69.702, \"Freedom to make life choices\": 0.841, \"Generosity\": -0.165, \"Perceptions of corruption\": 0.735, \"Rank\": 44, \"Happiness\": \"Happy\", \"cluster\": 0, \"Pred\": 6.1924018790740485, \"Central and Eastern Europe\": 1, \"Commonwealth of Independent States\": 0, \"East Asia\": 0, \"Latin America and Caribbean\": 0, \"Middle East and North Africa\": 0, \"North America and ANZ\": 0, \"South Asia\": 0, \"Southeast Asia\": 0, \"Sub-Saharan Africa\": 0, \"Western Europe\": 0}, {\"Country name\": \"Kazakhstan\", \"Regional indicator\": \"Commonwealth of Independent States\", \"Ladder score\": 6.152, \"Logged GDP per capita\": 10.155, \"Social support\": 0.952, \"Healthy life expectancy\": 65.2, \"Freedom to make life choices\": 0.853, \"Generosity\": -0.069, \"Perceptions of corruption\": 0.733, \"Rank\": 45, \"Happiness\": \"Happy\", \"cluster\": 0, \"Pred\": 5.888939196137899, \"Central and Eastern Europe\": 0, \"Commonwealth of Independent States\": 1, \"East Asia\": 0, \"Latin America and Caribbean\": 0, \"Middle East and North Africa\": 0, \"North America and ANZ\": 0, \"South Asia\": 0, \"Southeast Asia\": 0, \"Sub-Saharan Africa\": 0, \"Western Europe\": 0}, {\"Country name\": \"Romania\", \"Regional indicator\": \"Central and Eastern Europe\", \"Ladder score\": 6.14, \"Logged GDP per capita\": 10.284, \"Social support\": 0.832, \"Healthy life expectancy\": 67.355, \"Freedom to make life choices\": 0.845, \"Generosity\": -0.219, \"Perceptions of corruption\": 0.938, \"Rank\": 46, \"Happiness\": \"Happy\", \"cluster\": 0, \"Pred\": 5.920000407978873, \"Central and Eastern Europe\": 1, \"Commonwealth of Independent States\": 0, \"East Asia\": 0, \"Latin America and Caribbean\": 0, \"Middle East and North Africa\": 0, \"North America and ANZ\": 0, \"South Asia\": 0, \"Southeast Asia\": 0, \"Sub-Saharan Africa\": 0, \"Western Europe\": 0}, {\"Country name\": \"Kuwait\", \"Regional indicator\": \"Middle East and North Africa\", \"Ladder score\": 6.106, \"Logged GDP per capita\": 10.817, \"Social support\": 0.843, \"Healthy life expectancy\": 66.9, \"Freedom to make life choices\": 0.867, \"Generosity\": -0.104, \"Perceptions of corruption\": 0.736, \"Rank\": 47, \"Happiness\": \"Happy\", \"cluster\": 0, \"Pred\": 5.972002405185684, \"Central and Eastern Europe\": 0, \"Commonwealth of Independent States\": 0, \"East Asia\": 0, \"Latin America and Caribbean\": 0, \"Middle East and North Africa\": 1, \"North America and ANZ\": 0, \"South Asia\": 0, \"Southeast Asia\": 0, \"Sub-Saharan Africa\": 0, \"Western Europe\": 0}, {\"Country name\": \"Serbia\", \"Regional indicator\": \"Central and Eastern Europe\", \"Ladder score\": 6.078, \"Logged GDP per capita\": 9.787, \"Social support\": 0.873, \"Healthy life expectancy\": 68.6, \"Freedom to make life choices\": 0.778, \"Generosity\": 0.002, \"Perceptions of corruption\": 0.835, \"Rank\": 48, \"Happiness\": \"Happy\", \"cluster\": 0, \"Pred\": 5.876330322053486, \"Central and Eastern Europe\": 1, \"Commonwealth of Independent States\": 0, \"East Asia\": 0, \"Latin America and Caribbean\": 0, \"Middle East and North Africa\": 0, \"North America and ANZ\": 0, \"South Asia\": 0, \"Southeast Asia\": 0, \"Sub-Saharan Africa\": 0, \"Western Europe\": 0}, {\"Country name\": \"El Salvador\", \"Regional indicator\": \"Latin America and Caribbean\", \"Ladder score\": 6.061, \"Logged GDP per capita\": 9.054, \"Social support\": 0.762, \"Healthy life expectancy\": 66.402, \"Freedom to make life choices\": 0.888, \"Generosity\": -0.11, \"Perceptions of corruption\": 0.688, \"Rank\": 49, \"Happiness\": \"Happy\", \"cluster\": 0, \"Pred\": 5.803759208003665, \"Central and Eastern Europe\": 0, \"Commonwealth of Independent States\": 0, \"East Asia\": 0, \"Latin America and Caribbean\": 1, \"Middle East and North Africa\": 0, \"North America and ANZ\": 0, \"South Asia\": 0, \"Southeast Asia\": 0, \"Sub-Saharan Africa\": 0, \"Western Europe\": 0}, {\"Country name\": \"Mauritius\", \"Regional indicator\": \"Sub-Saharan Africa\", \"Ladder score\": 6.049, \"Logged GDP per capita\": 10.008, \"Social support\": 0.905, \"Healthy life expectancy\": 66.701, \"Freedom to make life choices\": 0.867, \"Generosity\": -0.054, \"Perceptions of corruption\": 0.789, \"Rank\": 50, \"Happiness\": \"Happy\", \"cluster\": 0, \"Pred\": 5.854709124930145, \"Central and Eastern Europe\": 0, \"Commonwealth of Independent States\": 0, \"East Asia\": 0, \"Latin America and Caribbean\": 0, \"Middle East and North Africa\": 0, \"North America and ANZ\": 0, \"South Asia\": 0, \"Southeast Asia\": 0, \"Sub-Saharan Africa\": 1, \"Western Europe\": 0}, {\"Country name\": \"Latvia\", \"Regional indicator\": \"Central and Eastern Europe\", \"Ladder score\": 6.032, \"Logged GDP per capita\": 10.315, \"Social support\": 0.927, \"Healthy life expectancy\": 67.1, \"Freedom to make life choices\": 0.715, \"Generosity\": -0.162, \"Perceptions of corruption\": 0.8, \"Rank\": 51, \"Happiness\": \"Happy\", \"cluster\": 0, \"Pred\": 5.888914555622216, \"Central and Eastern Europe\": 1, \"Commonwealth of Independent States\": 0, \"East Asia\": 0, \"Latin America and Caribbean\": 0, \"Middle East and North Africa\": 0, \"North America and ANZ\": 0, \"South Asia\": 0, \"Southeast Asia\": 0, \"Sub-Saharan Africa\": 0, \"Western Europe\": 0}, {\"Country name\": \"Colombia\", \"Regional indicator\": \"Latin America and Caribbean\", \"Ladder score\": 6.012, \"Logged GDP per capita\": 9.557, \"Social support\": 0.847, \"Healthy life expectancy\": 68.001, \"Freedom to make life choices\": 0.837, \"Generosity\": -0.135, \"Perceptions of corruption\": 0.841, \"Rank\": 52, \"Happiness\": \"Happy\", \"cluster\": 0, \"Pred\": 5.948277508484137, \"Central and Eastern Europe\": 0, \"Commonwealth of Independent States\": 0, \"East Asia\": 0, \"Latin America and Caribbean\": 1, \"Middle East and North Africa\": 0, \"North America and ANZ\": 0, \"South Asia\": 0, \"Southeast Asia\": 0, \"Sub-Saharan Africa\": 0, \"Western Europe\": 0}, {\"Country name\": \"Hungary\", \"Regional indicator\": \"Central and Eastern Europe\", \"Ladder score\": 5.992, \"Logged GDP per capita\": 10.358, \"Social support\": 0.943, \"Healthy life expectancy\": 68.0, \"Freedom to make life choices\": 0.755, \"Generosity\": -0.186, \"Perceptions of corruption\": 0.876, \"Rank\": 53, \"Happiness\": \"Happy\", \"cluster\": 0, \"Pred\": 5.998058367322055, \"Central and Eastern Europe\": 1, \"Commonwealth of Independent States\": 0, \"East Asia\": 0, \"Latin America and Caribbean\": 0, \"Middle East and North Africa\": 0, \"North America and ANZ\": 0, \"South Asia\": 0, \"Southeast Asia\": 0, \"Sub-Saharan Africa\": 0, \"Western Europe\": 0}, {\"Country name\": \"Thailand\", \"Regional indicator\": \"Southeast Asia\", \"Ladder score\": 5.985, \"Logged GDP per capita\": 9.805, \"Social support\": 0.888, \"Healthy life expectancy\": 67.401, \"Freedom to make life choices\": 0.884, \"Generosity\": 0.287, \"Perceptions of corruption\": 0.895, \"Rank\": 54, \"Happiness\": \"Happy\", \"cluster\": 2, \"Pred\": 5.6246953087566665, \"Central and Eastern Europe\": 0, \"Commonwealth of Independent States\": 0, \"East Asia\": 0, \"Latin America and Caribbean\": 0, \"Middle East and North Africa\": 0, \"North America and ANZ\": 0, \"South Asia\": 0, \"Southeast Asia\": 1, \"Sub-Saharan Africa\": 0, \"Western Europe\": 0}, {\"Country name\": \"Nicaragua\", \"Regional indicator\": \"Latin America and Caribbean\", \"Ladder score\": 5.972, \"Logged GDP per capita\": 8.62, \"Social support\": 0.864, \"Healthy life expectancy\": 67.657, \"Freedom to make life choices\": 0.836, \"Generosity\": 0.02, \"Perceptions of corruption\": 0.664, \"Rank\": 55, \"Happiness\": \"Happy\", \"cluster\": 2, \"Pred\": 5.858825643785547, \"Central and Eastern Europe\": 0, \"Commonwealth of Independent States\": 0, \"East Asia\": 0, \"Latin America and Caribbean\": 1, \"Middle East and North Africa\": 0, \"North America and ANZ\": 0, \"South Asia\": 0, \"Southeast Asia\": 0, \"Sub-Saharan Africa\": 0, \"Western Europe\": 0}, {\"Country name\": \"Japan\", \"Regional indicator\": \"East Asia\", \"Ladder score\": 5.94, \"Logged GDP per capita\": 10.611, \"Social support\": 0.884, \"Healthy life expectancy\": 75.1, \"Freedom to make life choices\": 0.796, \"Generosity\": -0.258, \"Perceptions of corruption\": 0.638, \"Rank\": 56, \"Happiness\": \"Happy\", \"cluster\": 0, \"Pred\": 5.966748252060981, \"Central and Eastern Europe\": 0, \"Commonwealth of Independent States\": 0, \"East Asia\": 1, \"Latin America and Caribbean\": 0, \"Middle East and North Africa\": 0, \"North America and ANZ\": 0, \"South Asia\": 0, \"Southeast Asia\": 0, \"Sub-Saharan Africa\": 0, \"Western Europe\": 0}, {\"Country name\": \"Argentina\", \"Regional indicator\": \"Latin America and Caribbean\", \"Ladder score\": 5.929, \"Logged GDP per capita\": 9.962, \"Social support\": 0.898, \"Healthy life expectancy\": 69.0, \"Freedom to make life choices\": 0.828, \"Generosity\": -0.182, \"Perceptions of corruption\": 0.834, \"Rank\": 57, \"Happiness\": \"Happy\", \"cluster\": 0, \"Pred\": 6.128660390968972, \"Central and Eastern Europe\": 0, \"Commonwealth of Independent States\": 0, \"East Asia\": 0, \"Latin America and Caribbean\": 1, \"Middle East and North Africa\": 0, \"North America and ANZ\": 0, \"South Asia\": 0, \"Southeast Asia\": 0, \"Sub-Saharan Africa\": 0, \"Western Europe\": 0}, {\"Country name\": \"Portugal\", \"Regional indicator\": \"Western Europe\", \"Ladder score\": 5.929, \"Logged GDP per capita\": 10.421, \"Social support\": 0.879, \"Healthy life expectancy\": 72.6, \"Freedom to make life choices\": 0.892, \"Generosity\": -0.244, \"Perceptions of corruption\": 0.887, \"Rank\": 58, \"Happiness\": \"Happy\", \"cluster\": 0, \"Pred\": 6.5683985987213, \"Central and Eastern Europe\": 0, \"Commonwealth of Independent States\": 0, \"East Asia\": 0, \"Latin America and Caribbean\": 0, \"Middle East and North Africa\": 0, \"North America and ANZ\": 0, \"South Asia\": 0, \"Southeast Asia\": 0, \"Sub-Saharan Africa\": 0, \"Western Europe\": 1}, {\"Country name\": \"Honduras\", \"Regional indicator\": \"Latin America and Caribbean\", \"Ladder score\": 5.919, \"Logged GDP per capita\": 8.648, \"Social support\": 0.812, \"Healthy life expectancy\": 67.3, \"Freedom to make life choices\": 0.857, \"Generosity\": 0.081, \"Perceptions of corruption\": 0.809, \"Rank\": 59, \"Happiness\": \"Happy\", \"cluster\": 2, \"Pred\": 5.790198104522717, \"Central and Eastern Europe\": 0, \"Commonwealth of Independent States\": 0, \"East Asia\": 0, \"Latin America and Caribbean\": 1, \"Middle East and North Africa\": 0, \"North America and ANZ\": 0, \"South Asia\": 0, \"Southeast Asia\": 0, \"Sub-Saharan Africa\": 0, \"Western Europe\": 0}, {\"Country name\": \"Croatia\", \"Regional indicator\": \"Central and Eastern Europe\", \"Ladder score\": 5.882, \"Logged GDP per capita\": 10.217, \"Social support\": 0.924, \"Healthy life expectancy\": 70.799, \"Freedom to make life choices\": 0.754, \"Generosity\": -0.118, \"Perceptions of corruption\": 0.939, \"Rank\": 60, \"Happiness\": \"Happy\", \"cluster\": 0, \"Pred\": 5.973562408733999, \"Central and Eastern Europe\": 1, \"Commonwealth of Independent States\": 0, \"East Asia\": 0, \"Latin America and Caribbean\": 0, \"Middle East and North Africa\": 0, \"North America and ANZ\": 0, \"South Asia\": 0, \"Southeast Asia\": 0, \"Sub-Saharan Africa\": 0, \"Western Europe\": 0}, {\"Country name\": \"Philippines\", \"Regional indicator\": \"Southeast Asia\", \"Ladder score\": 5.88, \"Logged GDP per capita\": 9.076, \"Social support\": 0.83, \"Healthy life expectancy\": 62.0, \"Freedom to make life choices\": 0.917, \"Generosity\": -0.097, \"Perceptions of corruption\": 0.742, \"Rank\": 61, \"Happiness\": \"Happy\", \"cluster\": 0, \"Pred\": 5.174717920220976, \"Central and Eastern Europe\": 0, \"Commonwealth of Independent States\": 0, \"East Asia\": 0, \"Latin America and Caribbean\": 0, \"Middle East and North Africa\": 0, \"North America and ANZ\": 0, \"South Asia\": 0, \"Southeast Asia\": 1, \"Sub-Saharan Africa\": 0, \"Western Europe\": 0}, {\"Country name\": \"South Korea\", \"Regional indicator\": \"East Asia\", \"Ladder score\": 5.845, \"Logged GDP per capita\": 10.651, \"Social support\": 0.799, \"Healthy life expectancy\": 73.9, \"Freedom to make life choices\": 0.672, \"Generosity\": -0.083, \"Perceptions of corruption\": 0.727, \"Rank\": 62, \"Happiness\": \"Happy\", \"cluster\": 0, \"Pred\": 5.571523514101677, \"Central and Eastern Europe\": 0, \"Commonwealth of Independent States\": 0, \"East Asia\": 1, \"Latin America and Caribbean\": 0, \"Middle East and North Africa\": 0, \"North America and ANZ\": 0, \"South Asia\": 0, \"Southeast Asia\": 0, \"Sub-Saharan Africa\": 0, \"Western Europe\": 0}, {\"Country name\": \"Peru\", \"Regional indicator\": \"Latin America and Caribbean\", \"Ladder score\": 5.84, \"Logged GDP per capita\": 9.458, \"Social support\": 0.832, \"Healthy life expectancy\": 68.25, \"Freedom to make life choices\": 0.822, \"Generosity\": -0.154, \"Perceptions of corruption\": 0.891, \"Rank\": 63, \"Happiness\": \"Happy\", \"cluster\": 0, \"Pred\": 5.836191896020869, \"Central and Eastern Europe\": 0, \"Commonwealth of Independent States\": 0, \"East Asia\": 0, \"Latin America and Caribbean\": 1, \"Middle East and North Africa\": 0, \"North America and ANZ\": 0, \"South Asia\": 0, \"Southeast Asia\": 0, \"Sub-Saharan Africa\": 0, \"Western Europe\": 0}, {\"Country name\": \"Bosnia and Herzegovina\", \"Regional indicator\": \"Central and Eastern Europe\", \"Ladder score\": 5.813, \"Logged GDP per capita\": 9.59, \"Social support\": 0.87, \"Healthy life expectancy\": 68.098, \"Freedom to make life choices\": 0.706, \"Generosity\": 0.113, \"Perceptions of corruption\": 0.931, \"Rank\": 64, \"Happiness\": \"Happy\", \"cluster\": 2, \"Pred\": 5.671152895979526, \"Central and Eastern Europe\": 1, \"Commonwealth of Independent States\": 0, \"East Asia\": 0, \"Latin America and Caribbean\": 0, \"Middle East and North Africa\": 0, \"North America and ANZ\": 0, \"South Asia\": 0, \"Southeast Asia\": 0, \"Sub-Saharan Africa\": 0, \"Western Europe\": 0}, {\"Country name\": \"Moldova\", \"Regional indicator\": \"Commonwealth of Independent States\", \"Ladder score\": 5.766, \"Logged GDP per capita\": 9.454, \"Social support\": 0.857, \"Healthy life expectancy\": 65.699, \"Freedom to make life choices\": 0.822, \"Generosity\": -0.079, \"Perceptions of corruption\": 0.918, \"Rank\": 65, \"Happiness\": \"Happy\", \"cluster\": 0, \"Pred\": 5.387230971113846, \"Central and Eastern Europe\": 0, \"Commonwealth of Independent States\": 1, \"East Asia\": 0, \"Latin America and Caribbean\": 0, \"Middle East and North Africa\": 0, \"North America and ANZ\": 0, \"South Asia\": 0, \"Southeast Asia\": 0, \"Sub-Saharan Africa\": 0, \"Western Europe\": 0}, {\"Country name\": \"Ecuador\", \"Regional indicator\": \"Latin America and Caribbean\", \"Ladder score\": 5.764, \"Logged GDP per capita\": 9.313, \"Social support\": 0.821, \"Healthy life expectancy\": 68.8, \"Freedom to make life choices\": 0.842, \"Generosity\": -0.124, \"Perceptions of corruption\": 0.843, \"Rank\": 66, \"Happiness\": \"Happy\", \"cluster\": 0, \"Pred\": 5.859713810220973, \"Central and Eastern Europe\": 0, \"Commonwealth of Independent States\": 0, \"East Asia\": 0, \"Latin America and Caribbean\": 1, \"Middle East and North Africa\": 0, \"North America and ANZ\": 0, \"South Asia\": 0, \"Southeast Asia\": 0, \"Sub-Saharan Africa\": 0, \"Western Europe\": 0}, {\"Country name\": \"Kyrgyzstan\", \"Regional indicator\": \"Commonwealth of Independent States\", \"Ladder score\": 5.744, \"Logged GDP per capita\": 8.538, \"Social support\": 0.893, \"Healthy life expectancy\": 64.401, \"Freedom to make life choices\": 0.935, \"Generosity\": 0.119, \"Perceptions of corruption\": 0.908, \"Rank\": 67, \"Happiness\": \"Happy\", \"cluster\": 2, \"Pred\": 5.551905831293812, \"Central and Eastern Europe\": 0, \"Commonwealth of Independent States\": 1, \"East Asia\": 0, \"Latin America and Caribbean\": 0, \"Middle East and North Africa\": 0, \"North America and ANZ\": 0, \"South Asia\": 0, \"Southeast Asia\": 0, \"Sub-Saharan Africa\": 0, \"Western Europe\": 0}, {\"Country name\": \"Greece\", \"Regional indicator\": \"Western Europe\", \"Ladder score\": 5.723, \"Logged GDP per capita\": 10.279, \"Social support\": 0.823, \"Healthy life expectancy\": 72.6, \"Freedom to make life choices\": 0.582, \"Generosity\": -0.288, \"Perceptions of corruption\": 0.823, \"Rank\": 68, \"Happiness\": \"Happy\", \"cluster\": 1, \"Pred\": 5.717752484351122, \"Central and Eastern Europe\": 0, \"Commonwealth of Independent States\": 0, \"East Asia\": 0, \"Latin America and Caribbean\": 0, \"Middle East and North Africa\": 0, \"North America and ANZ\": 0, \"South Asia\": 0, \"Southeast Asia\": 0, \"Sub-Saharan Africa\": 0, \"Western Europe\": 1}, {\"Country name\": \"Bolivia\", \"Regional indicator\": \"Latin America and Caribbean\", \"Ladder score\": 5.716, \"Logged GDP per capita\": 9.046, \"Social support\": 0.81, \"Healthy life expectancy\": 63.901, \"Freedom to make life choices\": 0.875, \"Generosity\": -0.077, \"Perceptions of corruption\": 0.839, \"Rank\": 69, \"Happiness\": \"Happy\", \"cluster\": 0, \"Pred\": 5.797303988259871, \"Central and Eastern Europe\": 0, \"Commonwealth of Independent States\": 0, \"East Asia\": 0, \"Latin America and Caribbean\": 1, \"Middle East and North Africa\": 0, \"North America and ANZ\": 0, \"South Asia\": 0, \"Southeast Asia\": 0, \"Sub-Saharan Africa\": 0, \"Western Europe\": 0}, {\"Country name\": \"Mongolia\", \"Regional indicator\": \"East Asia\", \"Ladder score\": 5.677, \"Logged GDP per capita\": 9.4, \"Social support\": 0.935, \"Healthy life expectancy\": 62.5, \"Freedom to make life choices\": 0.708, \"Generosity\": 0.116, \"Perceptions of corruption\": 0.856, \"Rank\": 70, \"Happiness\": \"Happy\", \"cluster\": 2, \"Pred\": 5.479547922068354, \"Central and Eastern Europe\": 0, \"Commonwealth of Independent States\": 0, \"East Asia\": 1, \"Latin America and Caribbean\": 0, \"Middle East and North Africa\": 0, \"North America and ANZ\": 0, \"South Asia\": 0, \"Southeast Asia\": 0, \"Sub-Saharan Africa\": 0, \"Western Europe\": 0}, {\"Country name\": \"Paraguay\", \"Regional indicator\": \"Latin America and Caribbean\", \"Ladder score\": 5.653, \"Logged GDP per capita\": 9.448, \"Social support\": 0.893, \"Healthy life expectancy\": 65.9, \"Freedom to make life choices\": 0.876, \"Generosity\": 0.028, \"Perceptions of corruption\": 0.882, \"Rank\": 71, \"Happiness\": \"Happy\", \"cluster\": 2, \"Pred\": 6.1351463314668395, \"Central and Eastern Europe\": 0, \"Commonwealth of Independent States\": 0, \"East Asia\": 0, \"Latin America and Caribbean\": 1, \"Middle East and North Africa\": 0, \"North America and ANZ\": 0, \"South Asia\": 0, \"Southeast Asia\": 0, \"Sub-Saharan Africa\": 0, \"Western Europe\": 0}, {\"Country name\": \"Montenegro\", \"Regional indicator\": \"Central and Eastern Europe\", \"Ladder score\": 5.581, \"Logged GDP per capita\": 9.94, \"Social support\": 0.858, \"Healthy life expectancy\": 68.699, \"Freedom to make life choices\": 0.708, \"Generosity\": -0.034, \"Perceptions of corruption\": 0.812, \"Rank\": 72, \"Happiness\": \"Happy\", \"cluster\": 0, \"Pred\": 5.720413290982725, \"Central and Eastern Europe\": 1, \"Commonwealth of Independent States\": 0, \"East Asia\": 0, \"Latin America and Caribbean\": 0, \"Middle East and North Africa\": 0, \"North America and ANZ\": 0, \"South Asia\": 0, \"Southeast Asia\": 0, \"Sub-Saharan Africa\": 0, \"Western Europe\": 0}, {\"Country name\": \"Dominican Republic\", \"Regional indicator\": \"Latin America and Caribbean\", \"Ladder score\": 5.545, \"Logged GDP per capita\": 9.802, \"Social support\": 0.853, \"Healthy life expectancy\": 66.102, \"Freedom to make life choices\": 0.86, \"Generosity\": -0.133, \"Perceptions of corruption\": 0.714, \"Rank\": 73, \"Happiness\": \"Happy\", \"cluster\": 0, \"Pred\": 6.093607512934617, \"Central and Eastern Europe\": 0, \"Commonwealth of Independent States\": 0, \"East Asia\": 0, \"Latin America and Caribbean\": 1, \"Middle East and North Africa\": 0, \"North America and ANZ\": 0, \"South Asia\": 0, \"Southeast Asia\": 0, \"Sub-Saharan Africa\": 0, \"Western Europe\": 0}, {\"Country name\": \"North Cyprus\", \"Regional indicator\": \"Western Europe\", \"Ladder score\": 5.536, \"Logged GDP per capita\": 10.576, \"Social support\": 0.82, \"Healthy life expectancy\": 73.898, \"Freedom to make life choices\": 0.795, \"Generosity\": 0.012, \"Perceptions of corruption\": 0.626, \"Rank\": 74, \"Happiness\": \"Happy\", \"cluster\": 0, \"Pred\": 6.506237504910505, \"Central and Eastern Europe\": 0, \"Commonwealth of Independent States\": 0, \"East Asia\": 0, \"Latin America and Caribbean\": 0, \"Middle East and North Africa\": 0, \"North America and ANZ\": 0, \"South Asia\": 0, \"Southeast Asia\": 0, \"Sub-Saharan Africa\": 0, \"Western Europe\": 1}, {\"Country name\": \"Belarus\", \"Regional indicator\": \"Commonwealth of Independent States\", \"Ladder score\": 5.534, \"Logged GDP per capita\": 9.853, \"Social support\": 0.91, \"Healthy life expectancy\": 66.253, \"Freedom to make life choices\": 0.65, \"Generosity\": -0.18, \"Perceptions of corruption\": 0.627, \"Rank\": 75, \"Happiness\": \"Less Happy\", \"cluster\": 1, \"Pred\": 5.260635913359487, \"Central and Eastern Europe\": 0, \"Commonwealth of Independent States\": 1, \"East Asia\": 0, \"Latin America and Caribbean\": 0, \"Middle East and North Africa\": 0, \"North America and ANZ\": 0, \"South Asia\": 0, \"Southeast Asia\": 0, \"Sub-Saharan Africa\": 0, \"Western Europe\": 0}, {\"Country name\": \"Russia\", \"Regional indicator\": \"Commonwealth of Independent States\", \"Ladder score\": 5.477, \"Logged GDP per capita\": 10.189, \"Social support\": 0.903, \"Healthy life expectancy\": 64.703, \"Freedom to make life choices\": 0.718, \"Generosity\": -0.111, \"Perceptions of corruption\": 0.845, \"Rank\": 76, \"Happiness\": \"Less Happy\", \"cluster\": 0, \"Pred\": 5.4318540074634365, \"Central and Eastern Europe\": 0, \"Commonwealth of Independent States\": 1, \"East Asia\": 0, \"Latin America and Caribbean\": 0, \"Middle East and North Africa\": 0, \"North America and ANZ\": 0, \"South Asia\": 0, \"Southeast Asia\": 0, \"Sub-Saharan Africa\": 0, \"Western Europe\": 0}, {\"Country name\": \"Hong Kong S.A.R. of China\", \"Regional indicator\": \"East Asia\", \"Ladder score\": 5.477, \"Logged GDP per capita\": 11.0, \"Social support\": 0.836, \"Healthy life expectancy\": 76.82, \"Freedom to make life choices\": 0.717, \"Generosity\": 0.067, \"Perceptions of corruption\": 0.403, \"Rank\": 77, \"Happiness\": \"Less Happy\", \"cluster\": 4, \"Pred\": 6.061127890561726, \"Central and Eastern Europe\": 0, \"Commonwealth of Independent States\": 0, \"East Asia\": 1, \"Latin America and Caribbean\": 0, \"Middle East and North Africa\": 0, \"North America and ANZ\": 0, \"South Asia\": 0, \"Southeast Asia\": 0, \"Sub-Saharan Africa\": 0, \"Western Europe\": 0}, {\"Country name\": \"Tajikistan\", \"Regional indicator\": \"Commonwealth of Independent States\", \"Ladder score\": 5.466, \"Logged GDP per capita\": 8.091, \"Social support\": 0.86, \"Healthy life expectancy\": 64.281, \"Freedom to make life choices\": 0.832, \"Generosity\": -0.056, \"Perceptions of corruption\": 0.553, \"Rank\": 78, \"Happiness\": \"Less Happy\", \"cluster\": 2, \"Pred\": 5.162473611763149, \"Central and Eastern Europe\": 0, \"Commonwealth of Independent States\": 1, \"East Asia\": 0, \"Latin America and Caribbean\": 0, \"Middle East and North Africa\": 0, \"North America and ANZ\": 0, \"South Asia\": 0, \"Southeast Asia\": 0, \"Sub-Saharan Africa\": 0, \"Western Europe\": 0}, {\"Country name\": \"Vietnam\", \"Regional indicator\": \"Southeast Asia\", \"Ladder score\": 5.411, \"Logged GDP per capita\": 8.973, \"Social support\": 0.85, \"Healthy life expectancy\": 68.034, \"Freedom to make life choices\": 0.94, \"Generosity\": -0.098, \"Perceptions of corruption\": 0.796, \"Rank\": 79, \"Happiness\": \"Less Happy\", \"cluster\": 0, \"Pred\": 5.305048795767655, \"Central and Eastern Europe\": 0, \"Commonwealth of Independent States\": 0, \"East Asia\": 0, \"Latin America and Caribbean\": 0, \"Middle East and North Africa\": 0, \"North America and ANZ\": 0, \"South Asia\": 0, \"Southeast Asia\": 1, \"Sub-Saharan Africa\": 0, \"Western Europe\": 0}, {\"Country name\": \"Libya\", \"Regional indicator\": \"Middle East and North Africa\", \"Ladder score\": 5.41, \"Logged GDP per capita\": 9.622, \"Social support\": 0.827, \"Healthy life expectancy\": 62.3, \"Freedom to make life choices\": 0.771, \"Generosity\": -0.087, \"Perceptions of corruption\": 0.667, \"Rank\": 80, \"Happiness\": \"Less Happy\", \"cluster\": 1, \"Pred\": 5.369855303753251, \"Central and Eastern Europe\": 0, \"Commonwealth of Independent States\": 0, \"East Asia\": 0, \"Latin America and Caribbean\": 0, \"Middle East and North Africa\": 1, \"North America and ANZ\": 0, \"South Asia\": 0, \"Southeast Asia\": 0, \"Sub-Saharan Africa\": 0, \"Western Europe\": 0}, {\"Country name\": \"Malaysia\", \"Regional indicator\": \"Southeast Asia\", \"Ladder score\": 5.384, \"Logged GDP per capita\": 10.238, \"Social support\": 0.817, \"Healthy life expectancy\": 67.102, \"Freedom to make life choices\": 0.895, \"Generosity\": 0.125, \"Perceptions of corruption\": 0.839, \"Rank\": 81, \"Happiness\": \"Less Happy\", \"cluster\": 2, \"Pred\": 5.560707855860505, \"Central and Eastern Europe\": 0, \"Commonwealth of Independent States\": 0, \"East Asia\": 0, \"Latin America and Caribbean\": 0, \"Middle East and North Africa\": 0, \"North America and ANZ\": 0, \"South Asia\": 0, \"Southeast Asia\": 1, \"Sub-Saharan Africa\": 0, \"Western Europe\": 0}, {\"Country name\": \"Indonesia\", \"Regional indicator\": \"Southeast Asia\", \"Ladder score\": 5.345, \"Logged GDP per capita\": 9.365, \"Social support\": 0.811, \"Healthy life expectancy\": 62.236, \"Freedom to make life choices\": 0.873, \"Generosity\": 0.542, \"Perceptions of corruption\": 0.867, \"Rank\": 82, \"Happiness\": \"Less Happy\", \"cluster\": 2, \"Pred\": 5.395123766869772, \"Central and Eastern Europe\": 0, \"Commonwealth of Independent States\": 0, \"East Asia\": 0, \"Latin America and Caribbean\": 0, \"Middle East and North Africa\": 0, \"North America and ANZ\": 0, \"South Asia\": 0, \"Southeast Asia\": 1, \"Sub-Saharan Africa\": 0, \"Western Europe\": 0}, {\"Country name\": \"Congo (Brazzaville)\", \"Regional indicator\": \"Sub-Saharan Africa\", \"Ladder score\": 5.342, \"Logged GDP per capita\": 8.117, \"Social support\": 0.636, \"Healthy life expectancy\": 58.221, \"Freedom to make life choices\": 0.695, \"Generosity\": -0.068, \"Perceptions of corruption\": 0.745, \"Rank\": 83, \"Happiness\": \"Less Happy\", \"cluster\": 3, \"Pred\": 4.322600642090295, \"Central and Eastern Europe\": 0, \"Commonwealth of Independent States\": 0, \"East Asia\": 0, \"Latin America and Caribbean\": 0, \"Middle East and North Africa\": 0, \"North America and ANZ\": 0, \"South Asia\": 0, \"Southeast Asia\": 0, \"Sub-Saharan Africa\": 1, \"Western Europe\": 0}, {\"Country name\": \"China\", \"Regional indicator\": \"East Asia\", \"Ladder score\": 5.339, \"Logged GDP per capita\": 9.673, \"Social support\": 0.811, \"Healthy life expectancy\": 69.593, \"Freedom to make life choices\": 0.904, \"Generosity\": -0.146, \"Perceptions of corruption\": 0.755, \"Rank\": 84, \"Happiness\": \"Less Happy\", \"cluster\": 0, \"Pred\": 5.757953317250702, \"Central and Eastern Europe\": 0, \"Commonwealth of Independent States\": 0, \"East Asia\": 1, \"Latin America and Caribbean\": 0, \"Middle East and North Africa\": 0, \"North America and ANZ\": 0, \"South Asia\": 0, \"Southeast Asia\": 0, \"Sub-Saharan Africa\": 0, \"Western Europe\": 0}, {\"Country name\": \"Ivory Coast\", \"Regional indicator\": \"Sub-Saharan Africa\", \"Ladder score\": 5.306, \"Logged GDP per capita\": 8.551, \"Social support\": 0.644, \"Healthy life expectancy\": 50.114, \"Freedom to make life choices\": 0.741, \"Generosity\": -0.016, \"Perceptions of corruption\": 0.794, \"Rank\": 85, \"Happiness\": \"Less Happy\", \"cluster\": 3, \"Pred\": 4.454112256260704, \"Central and Eastern Europe\": 0, \"Commonwealth of Independent States\": 0, \"East Asia\": 0, \"Latin America and Caribbean\": 0, \"Middle East and North Africa\": 0, \"North America and ANZ\": 0, \"South Asia\": 0, \"Southeast Asia\": 0, \"Sub-Saharan Africa\": 1, \"Western Europe\": 0}, {\"Country name\": \"Armenia\", \"Regional indicator\": \"Commonwealth of Independent States\", \"Ladder score\": 5.283, \"Logged GDP per capita\": 9.487, \"Social support\": 0.799, \"Healthy life expectancy\": 67.055, \"Freedom to make life choices\": 0.825, \"Generosity\": -0.168, \"Perceptions of corruption\": 0.629, \"Rank\": 86, \"Happiness\": \"Less Happy\", \"cluster\": 0, \"Pred\": 5.3595800982365835, \"Central and Eastern Europe\": 0, \"Commonwealth of Independent States\": 1, \"East Asia\": 0, \"Latin America and Caribbean\": 0, \"Middle East and North Africa\": 0, \"North America and ANZ\": 0, \"South Asia\": 0, \"Southeast Asia\": 0, \"Sub-Saharan Africa\": 0, \"Western Europe\": 0}, {\"Country name\": \"Nepal\", \"Regional indicator\": \"South Asia\", \"Ladder score\": 5.269, \"Logged GDP per capita\": 8.12, \"Social support\": 0.774, \"Healthy life expectancy\": 64.233, \"Freedom to make life choices\": 0.782, \"Generosity\": 0.152, \"Perceptions of corruption\": 0.727, \"Rank\": 87, \"Happiness\": \"Less Happy\", \"cluster\": 2, \"Pred\": 4.566789485561525, \"Central and Eastern Europe\": 0, \"Commonwealth of Independent States\": 0, \"East Asia\": 0, \"Latin America and Caribbean\": 0, \"Middle East and North Africa\": 0, \"North America and ANZ\": 0, \"South Asia\": 1, \"Southeast Asia\": 0, \"Sub-Saharan Africa\": 0, \"Western Europe\": 0}, {\"Country name\": \"Bulgaria\", \"Regional indicator\": \"Central and Eastern Europe\", \"Ladder score\": 5.266, \"Logged GDP per capita\": 10.016, \"Social support\": 0.931, \"Healthy life expectancy\": 67.0, \"Freedom to make life choices\": 0.788, \"Generosity\": -0.096, \"Perceptions of corruption\": 0.932, \"Rank\": 88, \"Happiness\": \"Less Happy\", \"cluster\": 0, \"Pred\": 5.970221889841998, \"Central and Eastern Europe\": 1, \"Commonwealth of Independent States\": 0, \"East Asia\": 0, \"Latin America and Caribbean\": 0, \"Middle East and North Africa\": 0, \"North America and ANZ\": 0, \"South Asia\": 0, \"Southeast Asia\": 0, \"Sub-Saharan Africa\": 0, \"Western Europe\": 0}, {\"Country name\": \"Maldives\", \"Regional indicator\": \"South Asia\", \"Ladder score\": 5.198, \"Logged GDP per capita\": 9.826, \"Social support\": 0.913, \"Healthy life expectancy\": 70.6, \"Freedom to make life choices\": 0.854, \"Generosity\": 0.024, \"Perceptions of corruption\": 0.825, \"Rank\": 89, \"Happiness\": \"Less Happy\", \"cluster\": 0, \"Pred\": 5.451228713702355, \"Central and Eastern Europe\": 0, \"Commonwealth of Independent States\": 0, \"East Asia\": 0, \"Latin America and Caribbean\": 0, \"Middle East and North Africa\": 0, \"North America and ANZ\": 0, \"South Asia\": 1, \"Southeast Asia\": 0, \"Sub-Saharan Africa\": 0, \"Western Europe\": 0}, {\"Country name\": \"Azerbaijan\", \"Regional indicator\": \"Commonwealth of Independent States\", \"Ladder score\": 5.171, \"Logged GDP per capita\": 9.569, \"Social support\": 0.836, \"Healthy life expectancy\": 65.656, \"Freedom to make life choices\": 0.814, \"Generosity\": -0.223, \"Perceptions of corruption\": 0.506, \"Rank\": 90, \"Happiness\": \"Less Happy\", \"cluster\": 0, \"Pred\": 5.422076643742509, \"Central and Eastern Europe\": 0, \"Commonwealth of Independent States\": 1, \"East Asia\": 0, \"Latin America and Caribbean\": 0, \"Middle East and North Africa\": 0, \"North America and ANZ\": 0, \"South Asia\": 0, \"Southeast Asia\": 0, \"Sub-Saharan Africa\": 0, \"Western Europe\": 0}, {\"Country name\": \"Cameroon\", \"Regional indicator\": \"Sub-Saharan Africa\", \"Ladder score\": 5.142, \"Logged GDP per capita\": 8.189, \"Social support\": 0.71, \"Healthy life expectancy\": 53.515, \"Freedom to make life choices\": 0.731, \"Generosity\": 0.026, \"Perceptions of corruption\": 0.848, \"Rank\": 91, \"Happiness\": \"Less Happy\", \"cluster\": 3, \"Pred\": 4.514321912980525, \"Central and Eastern Europe\": 0, \"Commonwealth of Independent States\": 0, \"East Asia\": 0, \"Latin America and Caribbean\": 0, \"Middle East and North Africa\": 0, \"North America and ANZ\": 0, \"South Asia\": 0, \"Southeast Asia\": 0, \"Sub-Saharan Africa\": 1, \"Western Europe\": 0}, {\"Country name\": \"Senegal\", \"Regional indicator\": \"Sub-Saharan Africa\", \"Ladder score\": 5.132, \"Logged GDP per capita\": 8.118, \"Social support\": 0.71, \"Healthy life expectancy\": 59.802, \"Freedom to make life choices\": 0.695, \"Generosity\": -0.046, \"Perceptions of corruption\": 0.801, \"Rank\": 92, \"Happiness\": \"Less Happy\", \"cluster\": 3, \"Pred\": 4.481945531759675, \"Central and Eastern Europe\": 0, \"Commonwealth of Independent States\": 0, \"East Asia\": 0, \"Latin America and Caribbean\": 0, \"Middle East and North Africa\": 0, \"North America and ANZ\": 0, \"South Asia\": 0, \"Southeast Asia\": 0, \"Sub-Saharan Africa\": 1, \"Western Europe\": 0}, {\"Country name\": \"Albania\", \"Regional indicator\": \"Central and Eastern Europe\", \"Ladder score\": 5.117, \"Logged GDP per capita\": 9.52, \"Social support\": 0.697, \"Healthy life expectancy\": 68.999, \"Freedom to make life choices\": 0.785, \"Generosity\": -0.03, \"Perceptions of corruption\": 0.901, \"Rank\": 93, \"Happiness\": \"Less Happy\", \"cluster\": 1, \"Pred\": 5.445684984038612, \"Central and Eastern Europe\": 1, \"Commonwealth of Independent States\": 0, \"East Asia\": 0, \"Latin America and Caribbean\": 0, \"Middle East and North Africa\": 0, \"North America and ANZ\": 0, \"South Asia\": 0, \"Southeast Asia\": 0, \"Sub-Saharan Africa\": 0, \"Western Europe\": 0}, {\"Country name\": \"North Macedonia\", \"Regional indicator\": \"Central and Eastern Europe\", \"Ladder score\": 5.101, \"Logged GDP per capita\": 9.693, \"Social support\": 0.805, \"Healthy life expectancy\": 65.474, \"Freedom to make life choices\": 0.751, \"Generosity\": 0.038, \"Perceptions of corruption\": 0.905, \"Rank\": 94, \"Happiness\": \"Less Happy\", \"cluster\": 2, \"Pred\": 5.60828244700178, \"Central and Eastern Europe\": 1, \"Commonwealth of Independent States\": 0, \"East Asia\": 0, \"Latin America and Caribbean\": 0, \"Middle East and North Africa\": 0, \"North America and ANZ\": 0, \"South Asia\": 0, \"Southeast Asia\": 0, \"Sub-Saharan Africa\": 0, \"Western Europe\": 0}, {\"Country name\": \"Ghana\", \"Regional indicator\": \"Sub-Saharan Africa\", \"Ladder score\": 5.088, \"Logged GDP per capita\": 8.58, \"Social support\": 0.727, \"Healthy life expectancy\": 57.586, \"Freedom to make life choices\": 0.807, \"Generosity\": 0.123, \"Perceptions of corruption\": 0.848, \"Rank\": 95, \"Happiness\": \"Less Happy\", \"cluster\": 2, \"Pred\": 4.929879415770539, \"Central and Eastern Europe\": 0, \"Commonwealth of Independent States\": 0, \"East Asia\": 0, \"Latin America and Caribbean\": 0, \"Middle East and North Africa\": 0, \"North America and ANZ\": 0, \"South Asia\": 0, \"Southeast Asia\": 0, \"Sub-Saharan Africa\": 1, \"Western Europe\": 0}, {\"Country name\": \"Niger\", \"Regional indicator\": \"Sub-Saharan Africa\", \"Ladder score\": 5.074, \"Logged GDP per capita\": 7.098, \"Social support\": 0.641, \"Healthy life expectancy\": 53.78, \"Freedom to make life choices\": 0.806, \"Generosity\": 0.018, \"Perceptions of corruption\": 0.693, \"Rank\": 96, \"Happiness\": \"Less Happy\", \"cluster\": 3, \"Pred\": 4.30860766860104, \"Central and Eastern Europe\": 0, \"Commonwealth of Independent States\": 0, \"East Asia\": 0, \"Latin America and Caribbean\": 0, \"Middle East and North Africa\": 0, \"North America and ANZ\": 0, \"South Asia\": 0, \"Southeast Asia\": 0, \"Sub-Saharan Africa\": 1, \"Western Europe\": 0}, {\"Country name\": \"Turkmenistan\", \"Regional indicator\": \"Commonwealth of Independent States\", \"Ladder score\": 5.066, \"Logged GDP per capita\": 9.629, \"Social support\": 0.983, \"Healthy life expectancy\": 62.409, \"Freedom to make life choices\": 0.877, \"Generosity\": 0.273, \"Perceptions of corruption\": 0.888, \"Rank\": 97, \"Happiness\": \"Less Happy\", \"cluster\": 2, \"Pred\": 5.94281433162616, \"Central and Eastern Europe\": 0, \"Commonwealth of Independent States\": 1, \"East Asia\": 0, \"Latin America and Caribbean\": 0, \"Middle East and North Africa\": 0, \"North America and ANZ\": 0, \"South Asia\": 0, \"Southeast Asia\": 0, \"Sub-Saharan Africa\": 0, \"Western Europe\": 0}, {\"Country name\": \"Gambia\", \"Regional indicator\": \"Sub-Saharan Africa\", \"Ladder score\": 5.051, \"Logged GDP per capita\": 7.686, \"Social support\": 0.69, \"Healthy life expectancy\": 55.16, \"Freedom to make life choices\": 0.697, \"Generosity\": 0.424, \"Perceptions of corruption\": 0.746, \"Rank\": 98, \"Happiness\": \"Less Happy\", \"cluster\": 3, \"Pred\": 4.518200730236192, \"Central and Eastern Europe\": 0, \"Commonwealth of Independent States\": 0, \"East Asia\": 0, \"Latin America and Caribbean\": 0, \"Middle East and North Africa\": 0, \"North America and ANZ\": 0, \"South Asia\": 0, \"Southeast Asia\": 0, \"Sub-Saharan Africa\": 1, \"Western Europe\": 0}, {\"Country name\": \"Benin\", \"Regional indicator\": \"Sub-Saharan Africa\", \"Ladder score\": 5.045, \"Logged GDP per capita\": 8.087, \"Social support\": 0.489, \"Healthy life expectancy\": 54.713, \"Freedom to make life choices\": 0.757, \"Generosity\": -0.034, \"Perceptions of corruption\": 0.661, \"Rank\": 99, \"Happiness\": \"Less Happy\", \"cluster\": 3, \"Pred\": 4.16359431638168, \"Central and Eastern Europe\": 0, \"Commonwealth of Independent States\": 0, \"East Asia\": 0, \"Latin America and Caribbean\": 0, \"Middle East and North Africa\": 0, \"North America and ANZ\": 0, \"South Asia\": 0, \"Southeast Asia\": 0, \"Sub-Saharan Africa\": 1, \"Western Europe\": 0}, {\"Country name\": \"Laos\", \"Regional indicator\": \"Southeast Asia\", \"Ladder score\": 5.03, \"Logged GDP per capita\": 8.947, \"Social support\": 0.728, \"Healthy life expectancy\": 58.968, \"Freedom to make life choices\": 0.91, \"Generosity\": 0.123, \"Perceptions of corruption\": 0.658, \"Rank\": 100, \"Happiness\": \"Less Happy\", \"cluster\": 2, \"Pred\": 5.019716020038244, \"Central and Eastern Europe\": 0, \"Commonwealth of Independent States\": 0, \"East Asia\": 0, \"Latin America and Caribbean\": 0, \"Middle East and North Africa\": 0, \"North America and ANZ\": 0, \"South Asia\": 0, \"Southeast Asia\": 1, \"Sub-Saharan Africa\": 0, \"Western Europe\": 0}, {\"Country name\": \"Bangladesh\", \"Regional indicator\": \"South Asia\", \"Ladder score\": 5.025, \"Logged GDP per capita\": 8.454, \"Social support\": 0.693, \"Healthy life expectancy\": 64.8, \"Freedom to make life choices\": 0.877, \"Generosity\": -0.041, \"Perceptions of corruption\": 0.682, \"Rank\": 101, \"Happiness\": \"Less Happy\", \"cluster\": 2, \"Pred\": 4.640392412439816, \"Central and Eastern Europe\": 0, \"Commonwealth of Independent States\": 0, \"East Asia\": 0, \"Latin America and Caribbean\": 0, \"Middle East and North Africa\": 0, \"North America and ANZ\": 0, \"South Asia\": 1, \"Southeast Asia\": 0, \"Sub-Saharan Africa\": 0, \"Western Europe\": 0}, {\"Country name\": \"Guinea\", \"Regional indicator\": \"Sub-Saharan Africa\", \"Ladder score\": 4.984, \"Logged GDP per capita\": 7.838, \"Social support\": 0.639, \"Healthy life expectancy\": 55.008, \"Freedom to make life choices\": 0.697, \"Generosity\": 0.095, \"Perceptions of corruption\": 0.766, \"Rank\": 102, \"Happiness\": \"Less Happy\", \"cluster\": 3, \"Pred\": 4.287203482439965, \"Central and Eastern Europe\": 0, \"Commonwealth of Independent States\": 0, \"East Asia\": 0, \"Latin America and Caribbean\": 0, \"Middle East and North Africa\": 0, \"North America and ANZ\": 0, \"South Asia\": 0, \"Southeast Asia\": 0, \"Sub-Saharan Africa\": 1, \"Western Europe\": 0}, {\"Country name\": \"South Africa\", \"Regional indicator\": \"Sub-Saharan Africa\", \"Ladder score\": 4.956, \"Logged GDP per capita\": 9.403, \"Social support\": 0.86, \"Healthy life expectancy\": 56.904, \"Freedom to make life choices\": 0.749, \"Generosity\": -0.067, \"Perceptions of corruption\": 0.86, \"Rank\": 103, \"Happiness\": \"Less Happy\", \"cluster\": 1, \"Pred\": 5.169889576558117, \"Central and Eastern Europe\": 0, \"Commonwealth of Independent States\": 0, \"East Asia\": 0, \"Latin America and Caribbean\": 0, \"Middle East and North Africa\": 0, \"North America and ANZ\": 0, \"South Asia\": 0, \"Southeast Asia\": 0, \"Sub-Saharan Africa\": 1, \"Western Europe\": 0}, {\"Country name\": \"Turkey\", \"Regional indicator\": \"Middle East and North Africa\", \"Ladder score\": 4.948, \"Logged GDP per capita\": 10.24, \"Social support\": 0.822, \"Healthy life expectancy\": 67.199, \"Freedom to make life choices\": 0.576, \"Generosity\": -0.139, \"Perceptions of corruption\": 0.776, \"Rank\": 104, \"Happiness\": \"Less Happy\", \"cluster\": 1, \"Pred\": 5.090810125068191, \"Central and Eastern Europe\": 0, \"Commonwealth of Independent States\": 0, \"East Asia\": 0, \"Latin America and Caribbean\": 0, \"Middle East and North Africa\": 1, \"North America and ANZ\": 0, \"South Asia\": 0, \"Southeast Asia\": 0, \"Sub-Saharan Africa\": 0, \"Western Europe\": 0}, {\"Country name\": \"Pakistan\", \"Regional indicator\": \"South Asia\", \"Ladder score\": 4.934, \"Logged GDP per capita\": 8.458, \"Social support\": 0.651, \"Healthy life expectancy\": 58.709, \"Freedom to make life choices\": 0.726, \"Generosity\": 0.098, \"Perceptions of corruption\": 0.787, \"Rank\": 105, \"Happiness\": \"Less Happy\", \"cluster\": 3, \"Pred\": 4.166125191511095, \"Central and Eastern Europe\": 0, \"Commonwealth of Independent States\": 0, \"East Asia\": 0, \"Latin America and Caribbean\": 0, \"Middle East and North Africa\": 0, \"North America and ANZ\": 0, \"South Asia\": 1, \"Southeast Asia\": 0, \"Sub-Saharan Africa\": 0, \"Western Europe\": 0}, {\"Country name\": \"Morocco\", \"Regional indicator\": \"Middle East and North Africa\", \"Ladder score\": 4.918, \"Logged GDP per capita\": 8.903, \"Social support\": 0.56, \"Healthy life expectancy\": 66.208, \"Freedom to make life choices\": 0.774, \"Generosity\": -0.236, \"Perceptions of corruption\": 0.801, \"Rank\": 106, \"Happiness\": \"Less Happy\", \"cluster\": 1, \"Pred\": 4.60075856345844, \"Central and Eastern Europe\": 0, \"Commonwealth of Independent States\": 0, \"East Asia\": 0, \"Latin America and Caribbean\": 0, \"Middle East and North Africa\": 1, \"North America and ANZ\": 0, \"South Asia\": 0, \"Southeast Asia\": 0, \"Sub-Saharan Africa\": 0, \"Western Europe\": 0}, {\"Country name\": \"Venezuela\", \"Regional indicator\": \"Latin America and Caribbean\", \"Ladder score\": 4.892, \"Logged GDP per capita\": 9.073, \"Social support\": 0.861, \"Healthy life expectancy\": 66.7, \"Freedom to make life choices\": 0.615, \"Generosity\": -0.169, \"Perceptions of corruption\": 0.827, \"Rank\": 107, \"Happiness\": \"Less Happy\", \"cluster\": 1, \"Pred\": 5.312288377541024, \"Central and Eastern Europe\": 0, \"Commonwealth of Independent States\": 0, \"East Asia\": 0, \"Latin America and Caribbean\": 1, \"Middle East and North Africa\": 0, \"North America and ANZ\": 0, \"South Asia\": 0, \"Southeast Asia\": 0, \"Sub-Saharan Africa\": 0, \"Western Europe\": 0}, {\"Country name\": \"Georgia\", \"Regional indicator\": \"Commonwealth of Independent States\", \"Ladder score\": 4.891, \"Logged GDP per capita\": 9.585, \"Social support\": 0.671, \"Healthy life expectancy\": 64.3, \"Freedom to make life choices\": 0.783, \"Generosity\": -0.238, \"Perceptions of corruption\": 0.655, \"Rank\": 108, \"Happiness\": \"Less Happy\", \"cluster\": 1, \"Pred\": 4.958917569916956, \"Central and Eastern Europe\": 0, \"Commonwealth of Independent States\": 1, \"East Asia\": 0, \"Latin America and Caribbean\": 0, \"Middle East and North Africa\": 0, \"North America and ANZ\": 0, \"South Asia\": 0, \"Southeast Asia\": 0, \"Sub-Saharan Africa\": 0, \"Western Europe\": 0}, {\"Country name\": \"Algeria\", \"Regional indicator\": \"Middle East and North Africa\", \"Ladder score\": 4.887, \"Logged GDP per capita\": 9.342, \"Social support\": 0.802, \"Healthy life expectancy\": 66.005, \"Freedom to make life choices\": 0.48, \"Generosity\": -0.067, \"Perceptions of corruption\": 0.752, \"Rank\": 109, \"Happiness\": \"Less Happy\", \"cluster\": 1, \"Pred\": 4.620850052770382, \"Central and Eastern Europe\": 0, \"Commonwealth of Independent States\": 0, \"East Asia\": 0, \"Latin America and Caribbean\": 0, \"Middle East and North Africa\": 1, \"North America and ANZ\": 0, \"South Asia\": 0, \"Southeast Asia\": 0, \"Sub-Saharan Africa\": 0, \"Western Europe\": 0}, {\"Country name\": \"Ukraine\", \"Regional indicator\": \"Commonwealth of Independent States\", \"Ladder score\": 4.875, \"Logged GDP per capita\": 9.436, \"Social support\": 0.888, \"Healthy life expectancy\": 64.902, \"Freedom to make life choices\": 0.724, \"Generosity\": -0.011, \"Perceptions of corruption\": 0.924, \"Rank\": 110, \"Happiness\": \"Less Happy\", \"cluster\": 1, \"Pred\": 5.241327787292283, \"Central and Eastern Europe\": 0, \"Commonwealth of Independent States\": 1, \"East Asia\": 0, \"Latin America and Caribbean\": 0, \"Middle East and North Africa\": 0, \"North America and ANZ\": 0, \"South Asia\": 0, \"Southeast Asia\": 0, \"Sub-Saharan Africa\": 0, \"Western Europe\": 0}, {\"Country name\": \"Iraq\", \"Regional indicator\": \"Middle East and North Africa\", \"Ladder score\": 4.854, \"Logged GDP per capita\": 9.24, \"Social support\": 0.746, \"Healthy life expectancy\": 60.583, \"Freedom to make life choices\": 0.63, \"Generosity\": -0.053, \"Perceptions of corruption\": 0.875, \"Rank\": 111, \"Happiness\": \"Less Happy\", \"cluster\": 1, \"Pred\": 4.714553762606279, \"Central and Eastern Europe\": 0, \"Commonwealth of Independent States\": 0, \"East Asia\": 0, \"Latin America and Caribbean\": 0, \"Middle East and North Africa\": 1, \"North America and ANZ\": 0, \"South Asia\": 0, \"Southeast Asia\": 0, \"Sub-Saharan Africa\": 0, \"Western Europe\": 0}, {\"Country name\": \"Gabon\", \"Regional indicator\": \"Sub-Saharan Africa\", \"Ladder score\": 4.852, \"Logged GDP per capita\": 9.603, \"Social support\": 0.776, \"Healthy life expectancy\": 59.962, \"Freedom to make life choices\": 0.731, \"Generosity\": -0.2, \"Perceptions of corruption\": 0.84, \"Rank\": 112, \"Happiness\": \"Not Happy\", \"cluster\": 1, \"Pred\": 5.00237313895794, \"Central and Eastern Europe\": 0, \"Commonwealth of Independent States\": 0, \"East Asia\": 0, \"Latin America and Caribbean\": 0, \"Middle East and North Africa\": 0, \"North America and ANZ\": 0, \"South Asia\": 0, \"Southeast Asia\": 0, \"Sub-Saharan Africa\": 1, \"Western Europe\": 0}, {\"Country name\": \"Burkina Faso\", \"Regional indicator\": \"Sub-Saharan Africa\", \"Ladder score\": 4.834, \"Logged GDP per capita\": 7.678, \"Social support\": 0.672, \"Healthy life expectancy\": 54.151, \"Freedom to make life choices\": 0.695, \"Generosity\": -0.009, \"Perceptions of corruption\": 0.748, \"Rank\": 113, \"Happiness\": \"Not Happy\", \"cluster\": 3, \"Pred\": 4.246352954381395, \"Central and Eastern Europe\": 0, \"Commonwealth of Independent States\": 0, \"East Asia\": 0, \"Latin America and Caribbean\": 0, \"Middle East and North Africa\": 0, \"North America and ANZ\": 0, \"South Asia\": 0, \"Southeast Asia\": 0, \"Sub-Saharan Africa\": 1, \"Western Europe\": 0}, {\"Country name\": \"Cambodia\", \"Regional indicator\": \"Southeast Asia\", \"Ladder score\": 4.83, \"Logged GDP per capita\": 8.36, \"Social support\": 0.765, \"Healthy life expectancy\": 62.0, \"Freedom to make life choices\": 0.959, \"Generosity\": 0.034, \"Perceptions of corruption\": 0.843, \"Rank\": 114, \"Happiness\": \"Not Happy\", \"cluster\": 2, \"Pred\": 4.9835869069490615, \"Central and Eastern Europe\": 0, \"Commonwealth of Independent States\": 0, \"East Asia\": 0, \"Latin America and Caribbean\": 0, \"Middle East and North Africa\": 0, \"North America and ANZ\": 0, \"South Asia\": 0, \"Southeast Asia\": 1, \"Sub-Saharan Africa\": 0, \"Western Europe\": 0}, {\"Country name\": \"Mozambique\", \"Regional indicator\": \"Sub-Saharan Africa\", \"Ladder score\": 4.794, \"Logged GDP per capita\": 7.158, \"Social support\": 0.744, \"Healthy life expectancy\": 54.706, \"Freedom to make life choices\": 0.882, \"Generosity\": 0.061, \"Perceptions of corruption\": 0.684, \"Rank\": 115, \"Happiness\": \"Not Happy\", \"cluster\": 3, \"Pred\": 4.735094329939806, \"Central and Eastern Europe\": 0, \"Commonwealth of Independent States\": 0, \"East Asia\": 0, \"Latin America and Caribbean\": 0, \"Middle East and North Africa\": 0, \"North America and ANZ\": 0, \"South Asia\": 0, \"Southeast Asia\": 0, \"Sub-Saharan Africa\": 1, \"Western Europe\": 0}, {\"Country name\": \"Nigeria\", \"Regional indicator\": \"Sub-Saharan Africa\", \"Ladder score\": 4.759, \"Logged GDP per capita\": 8.533, \"Social support\": 0.74, \"Healthy life expectancy\": 50.102, \"Freedom to make life choices\": 0.737, \"Generosity\": 0.037, \"Perceptions of corruption\": 0.878, \"Rank\": 116, \"Happiness\": \"Not Happy\", \"cluster\": 3, \"Pred\": 4.6259690437004455, \"Central and Eastern Europe\": 0, \"Commonwealth of Independent States\": 0, \"East Asia\": 0, \"Latin America and Caribbean\": 0, \"Middle East and North Africa\": 0, \"North America and ANZ\": 0, \"South Asia\": 0, \"Southeast Asia\": 0, \"Sub-Saharan Africa\": 1, \"Western Europe\": 0}, {\"Country name\": \"Mali\", \"Regional indicator\": \"Sub-Saharan Africa\", \"Ladder score\": 4.723, \"Logged GDP per capita\": 7.744, \"Social support\": 0.724, \"Healthy life expectancy\": 51.969, \"Freedom to make life choices\": 0.697, \"Generosity\": -0.036, \"Perceptions of corruption\": 0.827, \"Rank\": 117, \"Happiness\": \"Not Happy\", \"cluster\": 3, \"Pred\": 4.29981288097789, \"Central and Eastern Europe\": 0, \"Commonwealth of Independent States\": 0, \"East Asia\": 0, \"Latin America and Caribbean\": 0, \"Middle East and North Africa\": 0, \"North America and ANZ\": 0, \"South Asia\": 0, \"Southeast Asia\": 0, \"Sub-Saharan Africa\": 1, \"Western Europe\": 0}, {\"Country name\": \"Iran\", \"Regional indicator\": \"Middle East and North Africa\", \"Ladder score\": 4.721, \"Logged GDP per capita\": 9.584, \"Social support\": 0.71, \"Healthy life expectancy\": 66.3, \"Freedom to make life choices\": 0.608, \"Generosity\": 0.218, \"Perceptions of corruption\": 0.714, \"Rank\": 118, \"Happiness\": \"Not Happy\", \"cluster\": 2, \"Pred\": 4.954641226816164, \"Central and Eastern Europe\": 0, \"Commonwealth of Independent States\": 0, \"East Asia\": 0, \"Latin America and Caribbean\": 0, \"Middle East and North Africa\": 1, \"North America and ANZ\": 0, \"South Asia\": 0, \"Southeast Asia\": 0, \"Sub-Saharan Africa\": 0, \"Western Europe\": 0}, {\"Country name\": \"Uganda\", \"Regional indicator\": \"Sub-Saharan Africa\", \"Ladder score\": 4.636, \"Logged GDP per capita\": 7.677, \"Social support\": 0.781, \"Healthy life expectancy\": 56.101, \"Freedom to make life choices\": 0.709, \"Generosity\": 0.122, \"Perceptions of corruption\": 0.855, \"Rank\": 119, \"Happiness\": \"Not Happy\", \"cluster\": 3, \"Pred\": 4.547750624502192, \"Central and Eastern Europe\": 0, \"Commonwealth of Independent States\": 0, \"East Asia\": 0, \"Latin America and Caribbean\": 0, \"Middle East and North Africa\": 0, \"North America and ANZ\": 0, \"South Asia\": 0, \"Southeast Asia\": 0, \"Sub-Saharan Africa\": 1, \"Western Europe\": 0}, {\"Country name\": \"Liberia\", \"Regional indicator\": \"Sub-Saharan Africa\", \"Ladder score\": 4.625, \"Logged GDP per capita\": 7.288, \"Social support\": 0.72, \"Healthy life expectancy\": 56.498, \"Freedom to make life choices\": 0.735, \"Generosity\": 0.05, \"Perceptions of corruption\": 0.85, \"Rank\": 120, \"Happiness\": \"Not Happy\", \"cluster\": 3, \"Pred\": 4.355144396517819, \"Central and Eastern Europe\": 0, \"Commonwealth of Independent States\": 0, \"East Asia\": 0, \"Latin America and Caribbean\": 0, \"Middle East and North Africa\": 0, \"North America and ANZ\": 0, \"South Asia\": 0, \"Southeast Asia\": 0, \"Sub-Saharan Africa\": 1, \"Western Europe\": 0}, {\"Country name\": \"Kenya\", \"Regional indicator\": \"Sub-Saharan Africa\", \"Ladder score\": 4.607, \"Logged GDP per capita\": 8.361, \"Social support\": 0.688, \"Healthy life expectancy\": 60.704, \"Freedom to make life choices\": 0.779, \"Generosity\": 0.287, \"Perceptions of corruption\": 0.825, \"Rank\": 121, \"Happiness\": \"Not Happy\", \"cluster\": 2, \"Pred\": 4.8647858659603855, \"Central and Eastern Europe\": 0, \"Commonwealth of Independent States\": 0, \"East Asia\": 0, \"Latin America and Caribbean\": 0, \"Middle East and North Africa\": 0, \"North America and ANZ\": 0, \"South Asia\": 0, \"Southeast Asia\": 0, \"Sub-Saharan Africa\": 1, \"Western Europe\": 0}, {\"Country name\": \"Tunisia\", \"Regional indicator\": \"Middle East and North Africa\", \"Ladder score\": 4.596, \"Logged GDP per capita\": 9.266, \"Social support\": 0.691, \"Healthy life expectancy\": 67.201, \"Freedom to make life choices\": 0.656, \"Generosity\": -0.201, \"Perceptions of corruption\": 0.87, \"Rank\": 122, \"Happiness\": \"Not Happy\", \"cluster\": 1, \"Pred\": 4.694521046868397, \"Central and Eastern Europe\": 0, \"Commonwealth of Independent States\": 0, \"East Asia\": 0, \"Latin America and Caribbean\": 0, \"Middle East and North Africa\": 1, \"North America and ANZ\": 0, \"South Asia\": 0, \"Southeast Asia\": 0, \"Sub-Saharan Africa\": 0, \"Western Europe\": 0}, {\"Country name\": \"Lebanon\", \"Regional indicator\": \"Middle East and North Africa\", \"Ladder score\": 4.584, \"Logged GDP per capita\": 9.626, \"Social support\": 0.848, \"Healthy life expectancy\": 67.355, \"Freedom to make life choices\": 0.525, \"Generosity\": -0.073, \"Perceptions of corruption\": 0.898, \"Rank\": 123, \"Happiness\": \"Not Happy\", \"cluster\": 1, \"Pred\": 4.8565763671300735, \"Central and Eastern Europe\": 0, \"Commonwealth of Independent States\": 0, \"East Asia\": 0, \"Latin America and Caribbean\": 0, \"Middle East and North Africa\": 1, \"North America and ANZ\": 0, \"South Asia\": 0, \"Southeast Asia\": 0, \"Sub-Saharan Africa\": 0, \"Western Europe\": 0}, {\"Country name\": \"Namibia\", \"Regional indicator\": \"Sub-Saharan Africa\", \"Ladder score\": 4.574, \"Logged GDP per capita\": 9.161, \"Social support\": 0.818, \"Healthy life expectancy\": 56.799, \"Freedom to make life choices\": 0.719, \"Generosity\": -0.149, \"Perceptions of corruption\": 0.847, \"Rank\": 124, \"Happiness\": \"Not Happy\", \"cluster\": 1, \"Pred\": 4.917307612686551, \"Central and Eastern Europe\": 0, \"Commonwealth of Independent States\": 0, \"East Asia\": 0, \"Latin America and Caribbean\": 0, \"Middle East and North Africa\": 0, \"North America and ANZ\": 0, \"South Asia\": 0, \"Southeast Asia\": 0, \"Sub-Saharan Africa\": 1, \"Western Europe\": 0}, {\"Country name\": \"Palestinian Territories\", \"Regional indicator\": \"Middle East and North Africa\", \"Ladder score\": 4.517, \"Logged GDP per capita\": 8.485, \"Social support\": 0.826, \"Healthy life expectancy\": 62.25, \"Freedom to make life choices\": 0.653, \"Generosity\": -0.163, \"Perceptions of corruption\": 0.821, \"Rank\": 125, \"Happiness\": \"Not Happy\", \"cluster\": 1, \"Pred\": 4.7072223013959835, \"Central and Eastern Europe\": 0, \"Commonwealth of Independent States\": 0, \"East Asia\": 0, \"Latin America and Caribbean\": 0, \"Middle East and North Africa\": 1, \"North America and ANZ\": 0, \"South Asia\": 0, \"Southeast Asia\": 0, \"Sub-Saharan Africa\": 0, \"Western Europe\": 0}, {\"Country name\": \"Myanmar\", \"Regional indicator\": \"Southeast Asia\", \"Ladder score\": 4.426, \"Logged GDP per capita\": 8.541, \"Social support\": 0.779, \"Healthy life expectancy\": 59.302, \"Freedom to make life choices\": 0.876, \"Generosity\": 0.509, \"Perceptions of corruption\": 0.66, \"Rank\": 126, \"Happiness\": \"Not Happy\", \"cluster\": 2, \"Pred\": 5.12936882150449, \"Central and Eastern Europe\": 0, \"Commonwealth of Independent States\": 0, \"East Asia\": 0, \"Latin America and Caribbean\": 0, \"Middle East and North Africa\": 0, \"North America and ANZ\": 0, \"South Asia\": 0, \"Southeast Asia\": 1, \"Sub-Saharan Africa\": 0, \"Western Europe\": 0}, {\"Country name\": \"Jordan\", \"Regional indicator\": \"Middle East and North Africa\", \"Ladder score\": 4.395, \"Logged GDP per capita\": 9.182, \"Social support\": 0.767, \"Healthy life expectancy\": 67.0, \"Freedom to make life choices\": 0.755, \"Generosity\": -0.167, \"Perceptions of corruption\": 0.705, \"Rank\": 127, \"Happiness\": \"Not Happy\", \"cluster\": 1, \"Pred\": 5.112872497929133, \"Central and Eastern Europe\": 0, \"Commonwealth of Independent States\": 0, \"East Asia\": 0, \"Latin America and Caribbean\": 0, \"Middle East and North Africa\": 1, \"North America and ANZ\": 0, \"South Asia\": 0, \"Southeast Asia\": 0, \"Sub-Saharan Africa\": 0, \"Western Europe\": 0}, {\"Country name\": \"Chad\", \"Regional indicator\": \"Sub-Saharan Africa\", \"Ladder score\": 4.355, \"Logged GDP per capita\": 7.364, \"Social support\": 0.619, \"Healthy life expectancy\": 48.478, \"Freedom to make life choices\": 0.579, \"Generosity\": 0.041, \"Perceptions of corruption\": 0.807, \"Rank\": 128, \"Happiness\": \"Not Happy\", \"cluster\": 3, \"Pred\": 3.7216636807514565, \"Central and Eastern Europe\": 0, \"Commonwealth of Independent States\": 0, \"East Asia\": 0, \"Latin America and Caribbean\": 0, \"Middle East and North Africa\": 0, \"North America and ANZ\": 0, \"South Asia\": 0, \"Southeast Asia\": 0, \"Sub-Saharan Africa\": 1, \"Western Europe\": 0}, {\"Country name\": \"Sri Lanka\", \"Regional indicator\": \"South Asia\", \"Ladder score\": 4.325, \"Logged GDP per capita\": 9.47, \"Social support\": 0.827, \"Healthy life expectancy\": 67.299, \"Freedom to make life choices\": 0.841, \"Generosity\": 0.079, \"Perceptions of corruption\": 0.863, \"Rank\": 129, \"Happiness\": \"Not Happy\", \"cluster\": 2, \"Pred\": 5.12722167153529, \"Central and Eastern Europe\": 0, \"Commonwealth of Independent States\": 0, \"East Asia\": 0, \"Latin America and Caribbean\": 0, \"Middle East and North Africa\": 0, \"North America and ANZ\": 0, \"South Asia\": 1, \"Southeast Asia\": 0, \"Sub-Saharan Africa\": 0, \"Western Europe\": 0}, {\"Country name\": \"Swaziland\", \"Regional indicator\": \"Sub-Saharan Africa\", \"Ladder score\": 4.308, \"Logged GDP per capita\": 9.065, \"Social support\": 0.77, \"Healthy life expectancy\": 50.833, \"Freedom to make life choices\": 0.647, \"Generosity\": -0.185, \"Perceptions of corruption\": 0.708, \"Rank\": 130, \"Happiness\": \"Not Happy\", \"cluster\": 1, \"Pred\": 4.578580177021434, \"Central and Eastern Europe\": 0, \"Commonwealth of Independent States\": 0, \"East Asia\": 0, \"Latin America and Caribbean\": 0, \"Middle East and North Africa\": 0, \"North America and ANZ\": 0, \"South Asia\": 0, \"Southeast Asia\": 0, \"Sub-Saharan Africa\": 1, \"Western Europe\": 0}, {\"Country name\": \"Comoros\", \"Regional indicator\": \"Sub-Saharan Africa\", \"Ladder score\": 4.289, \"Logged GDP per capita\": 8.031, \"Social support\": 0.626, \"Healthy life expectancy\": 57.349, \"Freedom to make life choices\": 0.548, \"Generosity\": 0.082, \"Perceptions of corruption\": 0.781, \"Rank\": 131, \"Happiness\": \"Not Happy\", \"cluster\": 3, \"Pred\": 3.997358186918465, \"Central and Eastern Europe\": 0, \"Commonwealth of Independent States\": 0, \"East Asia\": 0, \"Latin America and Caribbean\": 0, \"Middle East and North Africa\": 0, \"North America and ANZ\": 0, \"South Asia\": 0, \"Southeast Asia\": 0, \"Sub-Saharan Africa\": 1, \"Western Europe\": 0}, {\"Country name\": \"Egypt\", \"Regional indicator\": \"Middle East and North Africa\", \"Ladder score\": 4.283, \"Logged GDP per capita\": 9.367, \"Social support\": 0.75, \"Healthy life expectancy\": 61.998, \"Freedom to make life choices\": 0.749, \"Generosity\": -0.182, \"Perceptions of corruption\": 0.795, \"Rank\": 132, \"Happiness\": \"Not Happy\", \"cluster\": 1, \"Pred\": 5.008142413072215, \"Central and Eastern Europe\": 0, \"Commonwealth of Independent States\": 0, \"East Asia\": 0, \"Latin America and Caribbean\": 0, \"Middle East and North Africa\": 1, \"North America and ANZ\": 0, \"South Asia\": 0, \"Southeast Asia\": 0, \"Sub-Saharan Africa\": 0, \"Western Europe\": 0}, {\"Country name\": \"Ethiopia\", \"Regional indicator\": \"Sub-Saharan Africa\", \"Ladder score\": 4.275, \"Logged GDP per capita\": 7.694, \"Social support\": 0.764, \"Healthy life expectancy\": 59.0, \"Freedom to make life choices\": 0.752, \"Generosity\": 0.082, \"Perceptions of corruption\": 0.761, \"Rank\": 133, \"Happiness\": \"Not Happy\", \"cluster\": 3, \"Pred\": 4.668450823104104, \"Central and Eastern Europe\": 0, \"Commonwealth of Independent States\": 0, \"East Asia\": 0, \"Latin America and Caribbean\": 0, \"Middle East and North Africa\": 0, \"North America and ANZ\": 0, \"South Asia\": 0, \"Southeast Asia\": 0, \"Sub-Saharan Africa\": 1, \"Western Europe\": 0}, {\"Country name\": \"Mauritania\", \"Regional indicator\": \"Sub-Saharan Africa\", \"Ladder score\": 4.227, \"Logged GDP per capita\": 8.542, \"Social support\": 0.795, \"Healthy life expectancy\": 57.161, \"Freedom to make life choices\": 0.561, \"Generosity\": -0.106, \"Perceptions of corruption\": 0.731, \"Rank\": 134, \"Happiness\": \"Not Happy\", \"cluster\": 1, \"Pred\": 4.413332512089018, \"Central and Eastern Europe\": 0, \"Commonwealth of Independent States\": 0, \"East Asia\": 0, \"Latin America and Caribbean\": 0, \"Middle East and North Africa\": 0, \"North America and ANZ\": 0, \"South Asia\": 0, \"Southeast Asia\": 0, \"Sub-Saharan Africa\": 1, \"Western Europe\": 0}, {\"Country name\": \"Madagascar\", \"Regional indicator\": \"Sub-Saharan Africa\", \"Ladder score\": 4.208, \"Logged GDP per capita\": 7.396, \"Social support\": 0.686, \"Healthy life expectancy\": 59.305, \"Freedom to make life choices\": 0.552, \"Generosity\": -0.005, \"Perceptions of corruption\": 0.803, \"Rank\": 135, \"Happiness\": \"Not Happy\", \"cluster\": 3, \"Pred\": 3.9306109799290807, \"Central and Eastern Europe\": 0, \"Commonwealth of Independent States\": 0, \"East Asia\": 0, \"Latin America and Caribbean\": 0, \"Middle East and North Africa\": 0, \"North America and ANZ\": 0, \"South Asia\": 0, \"Southeast Asia\": 0, \"Sub-Saharan Africa\": 1, \"Western Europe\": 0}, {\"Country name\": \"Togo\", \"Regional indicator\": \"Sub-Saharan Africa\", \"Ladder score\": 4.107, \"Logged GDP per capita\": 7.362, \"Social support\": 0.569, \"Healthy life expectancy\": 54.914, \"Freedom to make life choices\": 0.619, \"Generosity\": 0.032, \"Perceptions of corruption\": 0.772, \"Rank\": 136, \"Happiness\": \"Not Happy\", \"cluster\": 3, \"Pred\": 3.8119975512054145, \"Central and Eastern Europe\": 0, \"Commonwealth of Independent States\": 0, \"East Asia\": 0, \"Latin America and Caribbean\": 0, \"Middle East and North Africa\": 0, \"North America and ANZ\": 0, \"South Asia\": 0, \"Southeast Asia\": 0, \"Sub-Saharan Africa\": 1, \"Western Europe\": 0}, {\"Country name\": \"Zambia\", \"Regional indicator\": \"Sub-Saharan Africa\", \"Ladder score\": 4.073, \"Logged GDP per capita\": 8.145, \"Social support\": 0.708, \"Healthy life expectancy\": 55.809, \"Freedom to make life choices\": 0.782, \"Generosity\": 0.061, \"Perceptions of corruption\": 0.823, \"Rank\": 137, \"Happiness\": \"Not Happy\", \"cluster\": 3, \"Pred\": 4.672169415121333, \"Central and Eastern Europe\": 0, \"Commonwealth of Independent States\": 0, \"East Asia\": 0, \"Latin America and Caribbean\": 0, \"Middle East and North Africa\": 0, \"North America and ANZ\": 0, \"South Asia\": 0, \"Southeast Asia\": 0, \"Sub-Saharan Africa\": 1, \"Western Europe\": 0}, {\"Country name\": \"Sierra Leone\", \"Regional indicator\": \"Sub-Saharan Africa\", \"Ladder score\": 3.849, \"Logged GDP per capita\": 7.434, \"Social support\": 0.63, \"Healthy life expectancy\": 51.651, \"Freedom to make life choices\": 0.717, \"Generosity\": 0.084, \"Perceptions of corruption\": 0.866, \"Rank\": 138, \"Happiness\": \"Not Happy\", \"cluster\": 3, \"Pred\": 4.121310007833791, \"Central and Eastern Europe\": 0, \"Commonwealth of Independent States\": 0, \"East Asia\": 0, \"Latin America and Caribbean\": 0, \"Middle East and North Africa\": 0, \"North America and ANZ\": 0, \"South Asia\": 0, \"Southeast Asia\": 0, \"Sub-Saharan Africa\": 1, \"Western Europe\": 0}, {\"Country name\": \"India\", \"Regional indicator\": \"South Asia\", \"Ladder score\": 3.819, \"Logged GDP per capita\": 8.755, \"Social support\": 0.603, \"Healthy life expectancy\": 60.633, \"Freedom to make life choices\": 0.893, \"Generosity\": 0.089, \"Perceptions of corruption\": 0.774, \"Rank\": 139, \"Happiness\": \"Not Happy\", \"cluster\": 3, \"Pred\": 4.557415381200801, \"Central and Eastern Europe\": 0, \"Commonwealth of Independent States\": 0, \"East Asia\": 0, \"Latin America and Caribbean\": 0, \"Middle East and North Africa\": 0, \"North America and ANZ\": 0, \"South Asia\": 1, \"Southeast Asia\": 0, \"Sub-Saharan Africa\": 0, \"Western Europe\": 0}, {\"Country name\": \"Burundi\", \"Regional indicator\": \"Sub-Saharan Africa\", \"Ladder score\": 3.775, \"Logged GDP per capita\": 6.635, \"Social support\": 0.49, \"Healthy life expectancy\": 53.4, \"Freedom to make life choices\": 0.626, \"Generosity\": -0.024, \"Perceptions of corruption\": 0.607, \"Rank\": 140, \"Happiness\": \"Not Happy\", \"cluster\": 3, \"Pred\": 3.4844039954368, \"Central and Eastern Europe\": 0, \"Commonwealth of Independent States\": 0, \"East Asia\": 0, \"Latin America and Caribbean\": 0, \"Middle East and North Africa\": 0, \"North America and ANZ\": 0, \"South Asia\": 0, \"Southeast Asia\": 0, \"Sub-Saharan Africa\": 1, \"Western Europe\": 0}, {\"Country name\": \"Yemen\", \"Regional indicator\": \"Middle East and North Africa\", \"Ladder score\": 3.658, \"Logged GDP per capita\": 7.578, \"Social support\": 0.832, \"Healthy life expectancy\": 57.122, \"Freedom to make life choices\": 0.602, \"Generosity\": -0.147, \"Perceptions of corruption\": 0.8, \"Rank\": 141, \"Happiness\": \"Not Happy\", \"cluster\": 1, \"Pred\": 4.303303833788422, \"Central and Eastern Europe\": 0, \"Commonwealth of Independent States\": 0, \"East Asia\": 0, \"Latin America and Caribbean\": 0, \"Middle East and North Africa\": 1, \"North America and ANZ\": 0, \"South Asia\": 0, \"Southeast Asia\": 0, \"Sub-Saharan Africa\": 0, \"Western Europe\": 0}, {\"Country name\": \"Tanzania\", \"Regional indicator\": \"Sub-Saharan Africa\", \"Ladder score\": 3.623, \"Logged GDP per capita\": 7.876, \"Social support\": 0.702, \"Healthy life expectancy\": 57.999, \"Freedom to make life choices\": 0.833, \"Generosity\": 0.183, \"Perceptions of corruption\": 0.577, \"Rank\": 142, \"Happiness\": \"Not Happy\", \"cluster\": 3, \"Pred\": 4.8763974267076176, \"Central and Eastern Europe\": 0, \"Commonwealth of Independent States\": 0, \"East Asia\": 0, \"Latin America and Caribbean\": 0, \"Middle East and North Africa\": 0, \"North America and ANZ\": 0, \"South Asia\": 0, \"Southeast Asia\": 0, \"Sub-Saharan Africa\": 1, \"Western Europe\": 0}, {\"Country name\": \"Haiti\", \"Regional indicator\": \"Latin America and Caribbean\", \"Ladder score\": 3.615, \"Logged GDP per capita\": 7.477, \"Social support\": 0.54, \"Healthy life expectancy\": 55.7, \"Freedom to make life choices\": 0.593, \"Generosity\": 0.422, \"Perceptions of corruption\": 0.721, \"Rank\": 143, \"Happiness\": \"Not Happy\", \"cluster\": 3, \"Pred\": 4.383274632768279, \"Central and Eastern Europe\": 0, \"Commonwealth of Independent States\": 0, \"East Asia\": 0, \"Latin America and Caribbean\": 1, \"Middle East and North Africa\": 0, \"North America and ANZ\": 0, \"South Asia\": 0, \"Southeast Asia\": 0, \"Sub-Saharan Africa\": 0, \"Western Europe\": 0}, {\"Country name\": \"Malawi\", \"Regional indicator\": \"Sub-Saharan Africa\", \"Ladder score\": 3.6, \"Logged GDP per capita\": 6.958, \"Social support\": 0.537, \"Healthy life expectancy\": 57.948, \"Freedom to make life choices\": 0.78, \"Generosity\": 0.038, \"Perceptions of corruption\": 0.729, \"Rank\": 144, \"Happiness\": \"Not Happy\", \"cluster\": 3, \"Pred\": 4.0662989023901375, \"Central and Eastern Europe\": 0, \"Commonwealth of Independent States\": 0, \"East Asia\": 0, \"Latin America and Caribbean\": 0, \"Middle East and North Africa\": 0, \"North America and ANZ\": 0, \"South Asia\": 0, \"Southeast Asia\": 0, \"Sub-Saharan Africa\": 1, \"Western Europe\": 0}, {\"Country name\": \"Lesotho\", \"Regional indicator\": \"Sub-Saharan Africa\", \"Ladder score\": 3.512, \"Logged GDP per capita\": 7.926, \"Social support\": 0.787, \"Healthy life expectancy\": 48.7, \"Freedom to make life choices\": 0.715, \"Generosity\": -0.131, \"Perceptions of corruption\": 0.915, \"Rank\": 145, \"Happiness\": \"Not Happy\", \"cluster\": 3, \"Pred\": 4.389948730737153, \"Central and Eastern Europe\": 0, \"Commonwealth of Independent States\": 0, \"East Asia\": 0, \"Latin America and Caribbean\": 0, \"Middle East and North Africa\": 0, \"North America and ANZ\": 0, \"South Asia\": 0, \"Southeast Asia\": 0, \"Sub-Saharan Africa\": 1, \"Western Europe\": 0}, {\"Country name\": \"Botswana\", \"Regional indicator\": \"Sub-Saharan Africa\", \"Ladder score\": 3.467, \"Logged GDP per capita\": 9.782, \"Social support\": 0.784, \"Healthy life expectancy\": 59.269, \"Freedom to make life choices\": 0.824, \"Generosity\": -0.246, \"Perceptions of corruption\": 0.801, \"Rank\": 146, \"Happiness\": \"Not Happy\", \"cluster\": 1, \"Pred\": 5.256831389248737, \"Central and Eastern Europe\": 0, \"Commonwealth of Independent States\": 0, \"East Asia\": 0, \"Latin America and Caribbean\": 0, \"Middle East and North Africa\": 0, \"North America and ANZ\": 0, \"South Asia\": 0, \"Southeast Asia\": 0, \"Sub-Saharan Africa\": 1, \"Western Europe\": 0}, {\"Country name\": \"Rwanda\", \"Regional indicator\": \"Sub-Saharan Africa\", \"Ladder score\": 3.415, \"Logged GDP per capita\": 7.676, \"Social support\": 0.552, \"Healthy life expectancy\": 61.4, \"Freedom to make life choices\": 0.897, \"Generosity\": 0.061, \"Perceptions of corruption\": 0.167, \"Rank\": 147, \"Happiness\": \"Not Happy\", \"cluster\": 3, \"Pred\": 4.797468224779121, \"Central and Eastern Europe\": 0, \"Commonwealth of Independent States\": 0, \"East Asia\": 0, \"Latin America and Caribbean\": 0, \"Middle East and North Africa\": 0, \"North America and ANZ\": 0, \"South Asia\": 0, \"Southeast Asia\": 0, \"Sub-Saharan Africa\": 1, \"Western Europe\": 0}, {\"Country name\": \"Zimbabwe\", \"Regional indicator\": \"Sub-Saharan Africa\", \"Ladder score\": 3.145, \"Logged GDP per capita\": 7.943, \"Social support\": 0.75, \"Healthy life expectancy\": 56.201, \"Freedom to make life choices\": 0.677, \"Generosity\": -0.047, \"Perceptions of corruption\": 0.821, \"Rank\": 148, \"Happiness\": \"Not Happy\", \"cluster\": 3, \"Pred\": 4.414522491094111, \"Central and Eastern Europe\": 0, \"Commonwealth of Independent States\": 0, \"East Asia\": 0, \"Latin America and Caribbean\": 0, \"Middle East and North Africa\": 0, \"North America and ANZ\": 0, \"South Asia\": 0, \"Southeast Asia\": 0, \"Sub-Saharan Africa\": 1, \"Western Europe\": 0}, {\"Country name\": \"Afghanistan\", \"Regional indicator\": \"South Asia\", \"Ladder score\": 2.523, \"Logged GDP per capita\": 7.695, \"Social support\": 0.463, \"Healthy life expectancy\": 52.493, \"Freedom to make life choices\": 0.382, \"Generosity\": -0.102, \"Perceptions of corruption\": 0.924, \"Rank\": 149, \"Happiness\": \"Not Happy\", \"cluster\": 3, \"Pred\": 2.583827144049172, \"Central and Eastern Europe\": 0, \"Commonwealth of Independent States\": 0, \"East Asia\": 0, \"Latin America and Caribbean\": 0, \"Middle East and North Africa\": 0, \"North America and ANZ\": 0, \"South Asia\": 1, \"Southeast Asia\": 0, \"Sub-Saharan Africa\": 0, \"Western Europe\": 0}]}}, {\"mode\": \"vega-lite\"});\n",
       "</script>"
      ],
      "text/plain": [
       "alt.HConcatChart(...)"
      ]
     },
     "execution_count": 48,
     "metadata": {},
     "output_type": "execute_result"
    }
   ],
   "source": [
    "import altair as alt\n",
    "chartlist3=[]\n",
    "for i in cols:\n",
    "    d=alt.Chart(df3).mark_circle().encode(\n",
    "        x=alt.X(i, scale=alt.Scale(zero=False)),\n",
    "        y=\"Ladder score\",\n",
    "        color=alt.Color(\"Regional indicator\", scale=alt.Scale(scheme='dark2')),\n",
    "    )\n",
    "    d1=alt.Chart(df3).mark_line().encode(\n",
    "        x=alt.X(i, scale=alt.Scale(zero=False)),\n",
    "        y=\"Pred\",\n",
    "        color=alt.value(\"#FFAA00\")\n",
    "    )\n",
    "    d3=d+d1\n",
    "    chartlist3.append(d3)\n",
    "alt.hconcat(*chartlist3)"
   ]
  },
  {
   "cell_type": "markdown",
   "metadata": {
    "cell_id": "f388811a0c8c4bc381ee3260448362f2",
    "deepnote_cell_type": "text-cell-h2",
    "formattedRanges": [],
    "is_collapsed": false,
    "tags": []
   },
   "source": [
    "## Use Sklearn Gradient Boosting Classifier to determine if a country's people's happiness is beyond expectation cosidering various variables."
   ]
  },
  {
   "cell_type": "code",
   "execution_count": 49,
   "metadata": {
    "cell_id": "cafcd68e821945adac5ee778549fa2b5",
    "deepnote_cell_type": "code",
    "deepnote_to_be_reexecuted": false,
    "execution_millis": 41,
    "execution_start": 1670290723025,
    "source_hash": "350666cf",
    "tags": []
   },
   "outputs": [],
   "source": [
    "from sklearn.ensemble import GradientBoostingClassifier"
   ]
  },
  {
   "cell_type": "code",
   "execution_count": 50,
   "metadata": {
    "cell_id": "223e888113644d0e8e36eda321b98307",
    "deepnote_cell_type": "code",
    "deepnote_to_be_reexecuted": false,
    "execution_millis": 135,
    "execution_start": 1670290723117,
    "source_hash": "f3e0ae34",
    "tags": []
   },
   "outputs": [
    {
     "data": {
      "application/vnd.deepnote.dataframe.v3+json": {
       "column_count": 24,
       "columns": [
        {
         "dtype": "object",
         "name": "Country name",
         "stats": {
          "categories": [
           {
            "count": 1,
            "name": "Finland"
           },
           {
            "count": 1,
            "name": "Denmark"
           },
           {
            "count": 147,
            "name": "147 others"
           }
          ],
          "nan_count": 0,
          "unique_count": 149
         }
        },
        {
         "dtype": "object",
         "name": "Regional indicator",
         "stats": {
          "categories": [
           {
            "count": 36,
            "name": "Sub-Saharan Africa"
           },
           {
            "count": 21,
            "name": "Western Europe"
           },
           {
            "count": 92,
            "name": "8 others"
           }
          ],
          "nan_count": 0,
          "unique_count": 10
         }
        },
        {
         "dtype": "float64",
         "name": "Ladder score",
         "stats": {
          "histogram": [
           {
            "bin_end": 3.0549,
            "bin_start": 2.523,
            "count": 1
           },
           {
            "bin_end": 3.5868,
            "bin_start": 3.0549,
            "count": 4
           },
           {
            "bin_end": 4.1187000000000005,
            "bin_start": 3.5868,
            "count": 9
           },
           {
            "bin_end": 4.6506,
            "bin_start": 4.1187000000000005,
            "count": 17
           },
           {
            "bin_end": 5.182499999999999,
            "bin_start": 4.6506,
            "count": 29
           },
           {
            "bin_end": 5.7143999999999995,
            "bin_start": 5.182499999999999,
            "count": 20
           },
           {
            "bin_end": 6.2463,
            "bin_start": 5.7143999999999995,
            "count": 31
           },
           {
            "bin_end": 6.7782,
            "bin_start": 6.2463,
            "count": 18
           },
           {
            "bin_end": 7.3101,
            "bin_start": 6.7782,
            "count": 12
           },
           {
            "bin_end": 7.842,
            "bin_start": 7.3101,
            "count": 8
           }
          ],
          "max": "7.842",
          "min": "2.523",
          "nan_count": 0,
          "unique_count": 147
         }
        },
        {
         "dtype": "float64",
         "name": "Logged GDP per capita",
         "stats": {
          "histogram": [
           {
            "bin_end": 7.1362,
            "bin_start": 6.635,
            "count": 3
           },
           {
            "bin_end": 7.6373999999999995,
            "bin_start": 7.1362,
            "count": 8
           },
           {
            "bin_end": 8.1386,
            "bin_start": 7.6373999999999995,
            "count": 17
           },
           {
            "bin_end": 8.639800000000001,
            "bin_start": 8.1386,
            "count": 14
           },
           {
            "bin_end": 9.141,
            "bin_start": 8.639800000000001,
            "count": 12
           },
           {
            "bin_end": 9.6422,
            "bin_start": 9.141,
            "count": 29
           },
           {
            "bin_end": 10.1434,
            "bin_start": 9.6422,
            "count": 16
           },
           {
            "bin_end": 10.6446,
            "bin_start": 10.1434,
            "count": 24
           },
           {
            "bin_end": 11.145800000000001,
            "bin_start": 10.6446,
            "count": 23
           },
           {
            "bin_end": 11.647,
            "bin_start": 11.145800000000001,
            "count": 3
           }
          ],
          "max": "11.647",
          "min": "6.635",
          "nan_count": 0,
          "unique_count": 148
         }
        },
        {
         "dtype": "float64",
         "name": "Social support",
         "stats": {
          "histogram": [
           {
            "bin_end": 0.515,
            "bin_start": 0.463,
            "count": 3
           },
           {
            "bin_end": 0.5670000000000001,
            "bin_start": 0.515,
            "count": 4
           },
           {
            "bin_end": 0.619,
            "bin_start": 0.5670000000000001,
            "count": 2
           },
           {
            "bin_end": 0.671,
            "bin_start": 0.619,
            "count": 8
           },
           {
            "bin_end": 0.7230000000000001,
            "bin_start": 0.671,
            "count": 14
           },
           {
            "bin_end": 0.7750000000000001,
            "bin_start": 0.7230000000000001,
            "count": 14
           },
           {
            "bin_end": 0.8270000000000001,
            "bin_start": 0.7750000000000001,
            "count": 26
           },
           {
            "bin_end": 0.879,
            "bin_start": 0.8270000000000001,
            "count": 23
           },
           {
            "bin_end": 0.931,
            "bin_start": 0.879,
            "count": 29
           },
           {
            "bin_end": 0.983,
            "bin_start": 0.931,
            "count": 26
           }
          ],
          "max": "0.983",
          "min": "0.463",
          "nan_count": 0,
          "unique_count": 119
         }
        },
        {
         "dtype": "float64",
         "name": "Healthy life expectancy",
         "stats": {
          "histogram": [
           {
            "bin_end": 51.325500000000005,
            "bin_start": 48.478,
            "count": 5
           },
           {
            "bin_end": 54.173,
            "bin_start": 51.325500000000005,
            "count": 7
           },
           {
            "bin_end": 57.0205,
            "bin_start": 54.173,
            "count": 12
           },
           {
            "bin_end": 59.868,
            "bin_start": 57.0205,
            "count": 14
           },
           {
            "bin_end": 62.715500000000006,
            "bin_start": 59.868,
            "count": 13
           },
           {
            "bin_end": 65.563,
            "bin_start": 62.715500000000006,
            "count": 13
           },
           {
            "bin_end": 68.4105,
            "bin_start": 65.563,
            "count": 36
           },
           {
            "bin_end": 71.25800000000001,
            "bin_start": 68.4105,
            "count": 18
           },
           {
            "bin_end": 74.1055,
            "bin_start": 71.25800000000001,
            "count": 26
           },
           {
            "bin_end": 76.953,
            "bin_start": 74.1055,
            "count": 5
           }
          ],
          "max": "76.953",
          "min": "48.478",
          "nan_count": 0,
          "unique_count": 135
         }
        },
        {
         "dtype": "float64",
         "name": "Freedom to make life choices",
         "stats": {
          "histogram": [
           {
            "bin_end": 0.4408,
            "bin_start": 0.382,
            "count": 1
           },
           {
            "bin_end": 0.4996,
            "bin_start": 0.4408,
            "count": 1
           },
           {
            "bin_end": 0.5584,
            "bin_start": 0.4996,
            "count": 3
           },
           {
            "bin_end": 0.6172,
            "bin_start": 0.5584,
            "count": 8
           },
           {
            "bin_end": 0.6759999999999999,
            "bin_start": 0.6172,
            "count": 8
           },
           {
            "bin_end": 0.7348,
            "bin_start": 0.6759999999999999,
            "count": 22
           },
           {
            "bin_end": 0.7936,
            "bin_start": 0.7348,
            "count": 28
           },
           {
            "bin_end": 0.8524,
            "bin_start": 0.7936,
            "count": 22
           },
           {
            "bin_end": 0.9112,
            "bin_start": 0.8524,
            "count": 35
           },
           {
            "bin_end": 0.97,
            "bin_start": 0.9112,
            "count": 21
           }
          ],
          "max": "0.97",
          "min": "0.382",
          "nan_count": 0,
          "unique_count": 126
         }
        },
        {
         "dtype": "float64",
         "name": "Generosity",
         "stats": {
          "histogram": [
           {
            "bin_end": -0.20499999999999996,
            "bin_start": -0.288,
            "count": 9
           },
           {
            "bin_end": -0.12199999999999997,
            "bin_start": -0.20499999999999996,
            "count": 31
           },
           {
            "bin_end": -0.03899999999999998,
            "bin_start": -0.12199999999999997,
            "count": 33
           },
           {
            "bin_end": 0.04400000000000004,
            "bin_start": -0.03899999999999998,
            "count": 31
           },
           {
            "bin_end": 0.12700000000000006,
            "bin_start": 0.04400000000000004,
            "count": 27
           },
           {
            "bin_end": 0.21000000000000002,
            "bin_start": 0.12700000000000006,
            "count": 7
           },
           {
            "bin_end": 0.2930000000000001,
            "bin_start": 0.21000000000000002,
            "count": 6
           },
           {
            "bin_end": 0.37600000000000006,
            "bin_start": 0.2930000000000001,
            "count": 1
           },
           {
            "bin_end": 0.459,
            "bin_start": 0.37600000000000006,
            "count": 2
           },
           {
            "bin_end": 0.542,
            "bin_start": 0.459,
            "count": 2
           }
          ],
          "max": "0.542",
          "min": "-0.288",
          "nan_count": 0,
          "unique_count": 130
         }
        },
        {
         "dtype": "float64",
         "name": "Perceptions of corruption",
         "stats": {
          "histogram": [
           {
            "bin_end": 0.16770000000000002,
            "bin_start": 0.082,
            "count": 2
           },
           {
            "bin_end": 0.2534,
            "bin_start": 0.16770000000000002,
            "count": 4
           },
           {
            "bin_end": 0.3391,
            "bin_start": 0.2534,
            "count": 3
           },
           {
            "bin_end": 0.4248,
            "bin_start": 0.3391,
            "count": 4
           },
           {
            "bin_end": 0.5105,
            "bin_start": 0.4248,
            "count": 5
           },
           {
            "bin_end": 0.5962,
            "bin_start": 0.5105,
            "count": 7
           },
           {
            "bin_end": 0.6819,
            "bin_start": 0.5962,
            "count": 14
           },
           {
            "bin_end": 0.7676,
            "bin_start": 0.6819,
            "count": 31
           },
           {
            "bin_end": 0.8533,
            "bin_start": 0.7676,
            "count": 46
           },
           {
            "bin_end": 0.939,
            "bin_start": 0.8533,
            "count": 33
           }
          ],
          "max": "0.939",
          "min": "0.082",
          "nan_count": 0,
          "unique_count": 130
         }
        },
        {
         "dtype": "int64",
         "name": "Rank",
         "stats": {
          "histogram": [
           {
            "bin_end": 15.8,
            "bin_start": 1,
            "count": 15
           },
           {
            "bin_end": 30.6,
            "bin_start": 15.8,
            "count": 15
           },
           {
            "bin_end": 45.400000000000006,
            "bin_start": 30.6,
            "count": 15
           },
           {
            "bin_end": 60.2,
            "bin_start": 45.400000000000006,
            "count": 15
           },
           {
            "bin_end": 75,
            "bin_start": 60.2,
            "count": 14
           },
           {
            "bin_end": 89.80000000000001,
            "bin_start": 75,
            "count": 15
           },
           {
            "bin_end": 104.60000000000001,
            "bin_start": 89.80000000000001,
            "count": 15
           },
           {
            "bin_end": 119.4,
            "bin_start": 104.60000000000001,
            "count": 15
           },
           {
            "bin_end": 134.20000000000002,
            "bin_start": 119.4,
            "count": 15
           },
           {
            "bin_end": 149,
            "bin_start": 134.20000000000002,
            "count": 15
           }
          ],
          "max": "149",
          "min": "1",
          "nan_count": 0,
          "unique_count": 149
         }
        },
        {
         "dtype": "object",
         "name": "Happiness",
         "stats": {
          "categories": [
           {
            "count": 38,
            "name": "Very Happy"
           },
           {
            "count": 38,
            "name": "Not Happy"
           },
           {
            "count": 73,
            "name": "2 others"
           }
          ],
          "nan_count": 0,
          "unique_count": 4
         }
        },
        {
         "dtype": "int32",
         "name": "cluster",
         "stats": {
          "histogram": [
           {
            "bin_end": 0.4,
            "bin_start": 0,
            "count": 53
           },
           {
            "bin_end": 0.8,
            "bin_start": 0.4,
            "count": 0
           },
           {
            "bin_end": 1.2000000000000002,
            "bin_start": 0.8,
            "count": 23
           },
           {
            "bin_end": 1.6,
            "bin_start": 1.2000000000000002,
            "count": 0
           },
           {
            "bin_end": 2,
            "bin_start": 1.6,
            "count": 0
           },
           {
            "bin_end": 2.4000000000000004,
            "bin_start": 2,
            "count": 23
           },
           {
            "bin_end": 2.8000000000000003,
            "bin_start": 2.4000000000000004,
            "count": 0
           },
           {
            "bin_end": 3.2,
            "bin_start": 2.8000000000000003,
            "count": 31
           },
           {
            "bin_end": 3.6,
            "bin_start": 3.2,
            "count": 0
           },
           {
            "bin_end": 4,
            "bin_start": 3.6,
            "count": 19
           }
          ],
          "max": "4",
          "min": "0",
          "nan_count": 0,
          "unique_count": 5
         }
        },
        {
         "dtype": "float64",
         "name": "Pred",
         "stats": {
          "histogram": [
           {
            "bin_end": 3.067228367710757,
            "bin_start": 2.583827144049172,
            "count": 1
           },
           {
            "bin_end": 3.5506295913723416,
            "bin_start": 3.067228367710757,
            "count": 1
           },
           {
            "bin_end": 4.034030815033926,
            "bin_start": 3.5506295913723416,
            "count": 4
           },
           {
            "bin_end": 4.517432038695511,
            "bin_start": 4.034030815033926,
            "count": 18
           },
           {
            "bin_end": 5.000833262357096,
            "bin_start": 4.517432038695511,
            "count": 24
           },
           {
            "bin_end": 5.484234486018681,
            "bin_start": 5.000833262357096,
            "count": 24
           },
           {
            "bin_end": 5.967635709680266,
            "bin_start": 5.484234486018681,
            "count": 25
           },
           {
            "bin_end": 6.45103693334185,
            "bin_start": 5.967635709680266,
            "count": 26
           },
           {
            "bin_end": 6.934438157003435,
            "bin_start": 6.45103693334185,
            "count": 10
           },
           {
            "bin_end": 7.41783938066502,
            "bin_start": 6.934438157003435,
            "count": 16
           }
          ],
          "max": "7.41783938066502",
          "min": "2.583827144049172",
          "nan_count": 0,
          "unique_count": 149
         }
        },
        {
         "dtype": "uint8",
         "name": "Central and Eastern Europe",
         "stats": {
          "histogram": [
           {
            "bin_end": 0.1,
            "bin_start": 0,
            "count": 132
           },
           {
            "bin_end": 0.2,
            "bin_start": 0.1,
            "count": 0
           },
           {
            "bin_end": 0.30000000000000004,
            "bin_start": 0.2,
            "count": 0
           },
           {
            "bin_end": 0.4,
            "bin_start": 0.30000000000000004,
            "count": 0
           },
           {
            "bin_end": 0.5,
            "bin_start": 0.4,
            "count": 0
           },
           {
            "bin_end": 0.6000000000000001,
            "bin_start": 0.5,
            "count": 0
           },
           {
            "bin_end": 0.7000000000000001,
            "bin_start": 0.6000000000000001,
            "count": 0
           },
           {
            "bin_end": 0.8,
            "bin_start": 0.7000000000000001,
            "count": 0
           },
           {
            "bin_end": 0.9,
            "bin_start": 0.8,
            "count": 0
           },
           {
            "bin_end": 1,
            "bin_start": 0.9,
            "count": 17
           }
          ],
          "max": "1",
          "min": "0",
          "nan_count": 0,
          "unique_count": 2
         }
        },
        {
         "dtype": "uint8",
         "name": "Commonwealth of Independent States",
         "stats": {
          "histogram": [
           {
            "bin_end": 0.1,
            "bin_start": 0,
            "count": 137
           },
           {
            "bin_end": 0.2,
            "bin_start": 0.1,
            "count": 0
           },
           {
            "bin_end": 0.30000000000000004,
            "bin_start": 0.2,
            "count": 0
           },
           {
            "bin_end": 0.4,
            "bin_start": 0.30000000000000004,
            "count": 0
           },
           {
            "bin_end": 0.5,
            "bin_start": 0.4,
            "count": 0
           },
           {
            "bin_end": 0.6000000000000001,
            "bin_start": 0.5,
            "count": 0
           },
           {
            "bin_end": 0.7000000000000001,
            "bin_start": 0.6000000000000001,
            "count": 0
           },
           {
            "bin_end": 0.8,
            "bin_start": 0.7000000000000001,
            "count": 0
           },
           {
            "bin_end": 0.9,
            "bin_start": 0.8,
            "count": 0
           },
           {
            "bin_end": 1,
            "bin_start": 0.9,
            "count": 12
           }
          ],
          "max": "1",
          "min": "0",
          "nan_count": 0,
          "unique_count": 2
         }
        },
        {
         "dtype": "uint8",
         "name": "East Asia",
         "stats": {
          "histogram": [
           {
            "bin_end": 0.1,
            "bin_start": 0,
            "count": 143
           },
           {
            "bin_end": 0.2,
            "bin_start": 0.1,
            "count": 0
           },
           {
            "bin_end": 0.30000000000000004,
            "bin_start": 0.2,
            "count": 0
           },
           {
            "bin_end": 0.4,
            "bin_start": 0.30000000000000004,
            "count": 0
           },
           {
            "bin_end": 0.5,
            "bin_start": 0.4,
            "count": 0
           },
           {
            "bin_end": 0.6000000000000001,
            "bin_start": 0.5,
            "count": 0
           },
           {
            "bin_end": 0.7000000000000001,
            "bin_start": 0.6000000000000001,
            "count": 0
           },
           {
            "bin_end": 0.8,
            "bin_start": 0.7000000000000001,
            "count": 0
           },
           {
            "bin_end": 0.9,
            "bin_start": 0.8,
            "count": 0
           },
           {
            "bin_end": 1,
            "bin_start": 0.9,
            "count": 6
           }
          ],
          "max": "1",
          "min": "0",
          "nan_count": 0,
          "unique_count": 2
         }
        },
        {
         "dtype": "uint8",
         "name": "Latin America and Caribbean",
         "stats": {
          "histogram": [
           {
            "bin_end": 0.1,
            "bin_start": 0,
            "count": 129
           },
           {
            "bin_end": 0.2,
            "bin_start": 0.1,
            "count": 0
           },
           {
            "bin_end": 0.30000000000000004,
            "bin_start": 0.2,
            "count": 0
           },
           {
            "bin_end": 0.4,
            "bin_start": 0.30000000000000004,
            "count": 0
           },
           {
            "bin_end": 0.5,
            "bin_start": 0.4,
            "count": 0
           },
           {
            "bin_end": 0.6000000000000001,
            "bin_start": 0.5,
            "count": 0
           },
           {
            "bin_end": 0.7000000000000001,
            "bin_start": 0.6000000000000001,
            "count": 0
           },
           {
            "bin_end": 0.8,
            "bin_start": 0.7000000000000001,
            "count": 0
           },
           {
            "bin_end": 0.9,
            "bin_start": 0.8,
            "count": 0
           },
           {
            "bin_end": 1,
            "bin_start": 0.9,
            "count": 20
           }
          ],
          "max": "1",
          "min": "0",
          "nan_count": 0,
          "unique_count": 2
         }
        },
        {
         "dtype": "uint8",
         "name": "Middle East and North Africa",
         "stats": {
          "histogram": [
           {
            "bin_end": 0.1,
            "bin_start": 0,
            "count": 132
           },
           {
            "bin_end": 0.2,
            "bin_start": 0.1,
            "count": 0
           },
           {
            "bin_end": 0.30000000000000004,
            "bin_start": 0.2,
            "count": 0
           },
           {
            "bin_end": 0.4,
            "bin_start": 0.30000000000000004,
            "count": 0
           },
           {
            "bin_end": 0.5,
            "bin_start": 0.4,
            "count": 0
           },
           {
            "bin_end": 0.6000000000000001,
            "bin_start": 0.5,
            "count": 0
           },
           {
            "bin_end": 0.7000000000000001,
            "bin_start": 0.6000000000000001,
            "count": 0
           },
           {
            "bin_end": 0.8,
            "bin_start": 0.7000000000000001,
            "count": 0
           },
           {
            "bin_end": 0.9,
            "bin_start": 0.8,
            "count": 0
           },
           {
            "bin_end": 1,
            "bin_start": 0.9,
            "count": 17
           }
          ],
          "max": "1",
          "min": "0",
          "nan_count": 0,
          "unique_count": 2
         }
        },
        {
         "dtype": "uint8",
         "name": "North America and ANZ",
         "stats": {
          "histogram": [
           {
            "bin_end": 0.1,
            "bin_start": 0,
            "count": 145
           },
           {
            "bin_end": 0.2,
            "bin_start": 0.1,
            "count": 0
           },
           {
            "bin_end": 0.30000000000000004,
            "bin_start": 0.2,
            "count": 0
           },
           {
            "bin_end": 0.4,
            "bin_start": 0.30000000000000004,
            "count": 0
           },
           {
            "bin_end": 0.5,
            "bin_start": 0.4,
            "count": 0
           },
           {
            "bin_end": 0.6000000000000001,
            "bin_start": 0.5,
            "count": 0
           },
           {
            "bin_end": 0.7000000000000001,
            "bin_start": 0.6000000000000001,
            "count": 0
           },
           {
            "bin_end": 0.8,
            "bin_start": 0.7000000000000001,
            "count": 0
           },
           {
            "bin_end": 0.9,
            "bin_start": 0.8,
            "count": 0
           },
           {
            "bin_end": 1,
            "bin_start": 0.9,
            "count": 4
           }
          ],
          "max": "1",
          "min": "0",
          "nan_count": 0,
          "unique_count": 2
         }
        },
        {
         "dtype": "uint8",
         "name": "South Asia",
         "stats": {
          "histogram": [
           {
            "bin_end": 0.1,
            "bin_start": 0,
            "count": 142
           },
           {
            "bin_end": 0.2,
            "bin_start": 0.1,
            "count": 0
           },
           {
            "bin_end": 0.30000000000000004,
            "bin_start": 0.2,
            "count": 0
           },
           {
            "bin_end": 0.4,
            "bin_start": 0.30000000000000004,
            "count": 0
           },
           {
            "bin_end": 0.5,
            "bin_start": 0.4,
            "count": 0
           },
           {
            "bin_end": 0.6000000000000001,
            "bin_start": 0.5,
            "count": 0
           },
           {
            "bin_end": 0.7000000000000001,
            "bin_start": 0.6000000000000001,
            "count": 0
           },
           {
            "bin_end": 0.8,
            "bin_start": 0.7000000000000001,
            "count": 0
           },
           {
            "bin_end": 0.9,
            "bin_start": 0.8,
            "count": 0
           },
           {
            "bin_end": 1,
            "bin_start": 0.9,
            "count": 7
           }
          ],
          "max": "1",
          "min": "0",
          "nan_count": 0,
          "unique_count": 2
         }
        },
        {
         "dtype": "uint8",
         "name": "Southeast Asia",
         "stats": {
          "histogram": [
           {
            "bin_end": 0.1,
            "bin_start": 0,
            "count": 140
           },
           {
            "bin_end": 0.2,
            "bin_start": 0.1,
            "count": 0
           },
           {
            "bin_end": 0.30000000000000004,
            "bin_start": 0.2,
            "count": 0
           },
           {
            "bin_end": 0.4,
            "bin_start": 0.30000000000000004,
            "count": 0
           },
           {
            "bin_end": 0.5,
            "bin_start": 0.4,
            "count": 0
           },
           {
            "bin_end": 0.6000000000000001,
            "bin_start": 0.5,
            "count": 0
           },
           {
            "bin_end": 0.7000000000000001,
            "bin_start": 0.6000000000000001,
            "count": 0
           },
           {
            "bin_end": 0.8,
            "bin_start": 0.7000000000000001,
            "count": 0
           },
           {
            "bin_end": 0.9,
            "bin_start": 0.8,
            "count": 0
           },
           {
            "bin_end": 1,
            "bin_start": 0.9,
            "count": 9
           }
          ],
          "max": "1",
          "min": "0",
          "nan_count": 0,
          "unique_count": 2
         }
        },
        {
         "dtype": "uint8",
         "name": "Sub-Saharan Africa",
         "stats": {
          "histogram": [
           {
            "bin_end": 0.1,
            "bin_start": 0,
            "count": 113
           },
           {
            "bin_end": 0.2,
            "bin_start": 0.1,
            "count": 0
           },
           {
            "bin_end": 0.30000000000000004,
            "bin_start": 0.2,
            "count": 0
           },
           {
            "bin_end": 0.4,
            "bin_start": 0.30000000000000004,
            "count": 0
           },
           {
            "bin_end": 0.5,
            "bin_start": 0.4,
            "count": 0
           },
           {
            "bin_end": 0.6000000000000001,
            "bin_start": 0.5,
            "count": 0
           },
           {
            "bin_end": 0.7000000000000001,
            "bin_start": 0.6000000000000001,
            "count": 0
           },
           {
            "bin_end": 0.8,
            "bin_start": 0.7000000000000001,
            "count": 0
           },
           {
            "bin_end": 0.9,
            "bin_start": 0.8,
            "count": 0
           },
           {
            "bin_end": 1,
            "bin_start": 0.9,
            "count": 36
           }
          ],
          "max": "1",
          "min": "0",
          "nan_count": 0,
          "unique_count": 2
         }
        },
        {
         "dtype": "uint8",
         "name": "Western Europe",
         "stats": {
          "histogram": [
           {
            "bin_end": 0.1,
            "bin_start": 0,
            "count": 128
           },
           {
            "bin_end": 0.2,
            "bin_start": 0.1,
            "count": 0
           },
           {
            "bin_end": 0.30000000000000004,
            "bin_start": 0.2,
            "count": 0
           },
           {
            "bin_end": 0.4,
            "bin_start": 0.30000000000000004,
            "count": 0
           },
           {
            "bin_end": 0.5,
            "bin_start": 0.4,
            "count": 0
           },
           {
            "bin_end": 0.6000000000000001,
            "bin_start": 0.5,
            "count": 0
           },
           {
            "bin_end": 0.7000000000000001,
            "bin_start": 0.6000000000000001,
            "count": 0
           },
           {
            "bin_end": 0.8,
            "bin_start": 0.7000000000000001,
            "count": 0
           },
           {
            "bin_end": 0.9,
            "bin_start": 0.8,
            "count": 0
           },
           {
            "bin_end": 1,
            "bin_start": 0.9,
            "count": 21
           }
          ],
          "max": "1",
          "min": "0",
          "nan_count": 0,
          "unique_count": 2
         }
        },
        {
         "dtype": "object",
         "name": "Happiness Expectation",
         "stats": {
          "categories": [
           {
            "count": 81,
            "name": "Beyond Expectation"
           },
           {
            "count": 68,
            "name": "Under Expectation"
           }
          ],
          "nan_count": 0,
          "unique_count": 2
         }
        },
        {
         "dtype": "int64",
         "name": "_deepnote_index_column"
        }
       ],
       "row_count": 149,
       "rows": [
        {
         "Central and Eastern Europe": "0",
         "Commonwealth of Independent States": "0",
         "Country name": "Finland",
         "East Asia": "0",
         "Freedom to make life choices": "0.949",
         "Generosity": "-0.098",
         "Happiness": "Very Happy",
         "Happiness Expectation": "Beyond Expectation",
         "Healthy life expectancy": "72.0",
         "Ladder score": "7.842",
         "Latin America and Caribbean": "0",
         "Logged GDP per capita": "10.775",
         "Middle East and North Africa": "0",
         "North America and ANZ": "0",
         "Perceptions of corruption": "0.186",
         "Pred": "7.2328855965814665",
         "Rank": "1",
         "Regional indicator": "Western Europe",
         "Social support": "0.954",
         "South Asia": "0",
         "Southeast Asia": "0",
         "Sub-Saharan Africa": "0",
         "Western Europe": "1",
         "_deepnote_index_column": "0",
         "cluster": "4"
        },
        {
         "Central and Eastern Europe": "0",
         "Commonwealth of Independent States": "0",
         "Country name": "Denmark",
         "East Asia": "0",
         "Freedom to make life choices": "0.946",
         "Generosity": "0.03",
         "Happiness": "Very Happy",
         "Happiness Expectation": "Beyond Expectation",
         "Healthy life expectancy": "72.7",
         "Ladder score": "7.62",
         "Latin America and Caribbean": "0",
         "Logged GDP per capita": "10.933",
         "Middle East and North Africa": "0",
         "North America and ANZ": "0",
         "Perceptions of corruption": "0.179",
         "Pred": "7.344132412852668",
         "Rank": "2",
         "Regional indicator": "Western Europe",
         "Social support": "0.954",
         "South Asia": "0",
         "Southeast Asia": "0",
         "Sub-Saharan Africa": "0",
         "Western Europe": "1",
         "_deepnote_index_column": "1",
         "cluster": "4"
        },
        {
         "Central and Eastern Europe": "0",
         "Commonwealth of Independent States": "0",
         "Country name": "Switzerland",
         "East Asia": "0",
         "Freedom to make life choices": "0.919",
         "Generosity": "0.025",
         "Happiness": "Very Happy",
         "Happiness Expectation": "Beyond Expectation",
         "Healthy life expectancy": "74.4",
         "Ladder score": "7.571",
         "Latin America and Caribbean": "0",
         "Logged GDP per capita": "11.117",
         "Middle East and North Africa": "0",
         "North America and ANZ": "0",
         "Perceptions of corruption": "0.292",
         "Pred": "7.29310702239688",
         "Rank": "3",
         "Regional indicator": "Western Europe",
         "Social support": "0.942",
         "South Asia": "0",
         "Southeast Asia": "0",
         "Sub-Saharan Africa": "0",
         "Western Europe": "1",
         "_deepnote_index_column": "2",
         "cluster": "4"
        },
        {
         "Central and Eastern Europe": "0",
         "Commonwealth of Independent States": "0",
         "Country name": "Iceland",
         "East Asia": "0",
         "Freedom to make life choices": "0.955",
         "Generosity": "0.16",
         "Happiness": "Very Happy",
         "Happiness Expectation": "Beyond Expectation",
         "Healthy life expectancy": "73.0",
         "Ladder score": "7.554",
         "Latin America and Caribbean": "0",
         "Logged GDP per capita": "10.878",
         "Middle East and North Africa": "0",
         "North America and ANZ": "0",
         "Perceptions of corruption": "0.673",
         "Pred": "7.312927408509944",
         "Rank": "4",
         "Regional indicator": "Western Europe",
         "Social support": "0.983",
         "South Asia": "0",
         "Southeast Asia": "0",
         "Sub-Saharan Africa": "0",
         "Western Europe": "1",
         "_deepnote_index_column": "3",
         "cluster": "4"
        },
        {
         "Central and Eastern Europe": "0",
         "Commonwealth of Independent States": "0",
         "Country name": "Netherlands",
         "East Asia": "0",
         "Freedom to make life choices": "0.913",
         "Generosity": "0.175",
         "Happiness": "Very Happy",
         "Happiness Expectation": "Beyond Expectation",
         "Healthy life expectancy": "72.4",
         "Ladder score": "7.464",
         "Latin America and Caribbean": "0",
         "Logged GDP per capita": "10.932",
         "Middle East and North Africa": "0",
         "North America and ANZ": "0",
         "Perceptions of corruption": "0.338",
         "Pred": "7.26128858977833",
         "Rank": "5",
         "Regional indicator": "Western Europe",
         "Social support": "0.942",
         "South Asia": "0",
         "Southeast Asia": "0",
         "Sub-Saharan Africa": "0",
         "Western Europe": "1",
         "_deepnote_index_column": "4",
         "cluster": "4"
        },
        {
         "Central and Eastern Europe": "0",
         "Commonwealth of Independent States": "0",
         "Country name": "Norway",
         "East Asia": "0",
         "Freedom to make life choices": "0.96",
         "Generosity": "0.093",
         "Happiness": "Very Happy",
         "Happiness Expectation": "Under Expectation",
         "Healthy life expectancy": "73.3",
         "Ladder score": "7.392",
         "Latin America and Caribbean": "0",
         "Logged GDP per capita": "11.053",
         "Middle East and North Africa": "0",
         "North America and ANZ": "0",
         "Perceptions of corruption": "0.27",
         "Pred": "7.41783938066502",
         "Rank": "6",
         "Regional indicator": "Western Europe",
         "Social support": "0.954",
         "South Asia": "0",
         "Southeast Asia": "0",
         "Sub-Saharan Africa": "0",
         "Western Europe": "1",
         "_deepnote_index_column": "5",
         "cluster": "4"
        },
        {
         "Central and Eastern Europe": "0",
         "Commonwealth of Independent States": "0",
         "Country name": "Sweden",
         "East Asia": "0",
         "Freedom to make life choices": "0.945",
         "Generosity": "0.086",
         "Happiness": "Very Happy",
         "Happiness Expectation": "Beyond Expectation",
         "Healthy life expectancy": "72.7",
         "Ladder score": "7.363",
         "Latin America and Caribbean": "0",
         "Logged GDP per capita": "10.867",
         "Middle East and North Africa": "0",
         "North America and ANZ": "0",
         "Perceptions of corruption": "0.237",
         "Pred": "7.294000695028242",
         "Rank": "7",
         "Regional indicator": "Western Europe",
         "Social support": "0.934",
         "South Asia": "0",
         "Southeast Asia": "0",
         "Sub-Saharan Africa": "0",
         "Western Europe": "1",
         "_deepnote_index_column": "6",
         "cluster": "4"
        },
        {
         "Central and Eastern Europe": "0",
         "Commonwealth of Independent States": "0",
         "Country name": "Luxembourg",
         "East Asia": "0",
         "Freedom to make life choices": "0.907",
         "Generosity": "-0.034",
         "Happiness": "Very Happy",
         "Happiness Expectation": "Beyond Expectation",
         "Healthy life expectancy": "72.6",
         "Ladder score": "7.324",
         "Latin America and Caribbean": "0",
         "Logged GDP per capita": "11.647",
         "Middle East and North Africa": "0",
         "North America and ANZ": "0",
         "Perceptions of corruption": "0.386",
         "Pred": "7.255849344445981",
         "Rank": "8",
         "Regional indicator": "Western Europe",
         "Social support": "0.908",
         "South Asia": "0",
         "Southeast Asia": "0",
         "Sub-Saharan Africa": "0",
         "Western Europe": "1",
         "_deepnote_index_column": "7",
         "cluster": "4"
        },
        {
         "Central and Eastern Europe": "0",
         "Commonwealth of Independent States": "0",
         "Country name": "New Zealand",
         "East Asia": "0",
         "Freedom to make life choices": "0.929",
         "Generosity": "0.134",
         "Happiness": "Very Happy",
         "Happiness Expectation": "Beyond Expectation",
         "Healthy life expectancy": "73.4",
         "Ladder score": "7.277",
         "Latin America and Caribbean": "0",
         "Logged GDP per capita": "10.643",
         "Middle East and North Africa": "0",
         "North America and ANZ": "1",
         "Perceptions of corruption": "0.242",
         "Pred": "7.270969053286242",
         "Rank": "9",
         "Regional indicator": "North America and ANZ",
         "Social support": "0.948",
         "South Asia": "0",
         "Southeast Asia": "0",
         "Sub-Saharan Africa": "0",
         "Western Europe": "0",
         "_deepnote_index_column": "8",
         "cluster": "4"
        },
        {
         "Central and Eastern Europe": "0",
         "Commonwealth of Independent States": "0",
         "Country name": "Austria",
         "East Asia": "0",
         "Freedom to make life choices": "0.908",
         "Generosity": "0.042",
         "Happiness": "Very Happy",
         "Happiness Expectation": "Beyond Expectation",
         "Healthy life expectancy": "73.3",
         "Ladder score": "7.268",
         "Latin America and Caribbean": "0",
         "Logged GDP per capita": "10.906",
         "Middle East and North Africa": "0",
         "North America and ANZ": "0",
         "Perceptions of corruption": "0.481",
         "Pred": "7.127005106018684",
         "Rank": "10",
         "Regional indicator": "Western Europe",
         "Social support": "0.934",
         "South Asia": "0",
         "Southeast Asia": "0",
         "Sub-Saharan Africa": "0",
         "Western Europe": "1",
         "_deepnote_index_column": "9",
         "cluster": "4"
        }
       ]
      },
      "text/html": [
       "<div>\n",
       "<style scoped>\n",
       "    .dataframe tbody tr th:only-of-type {\n",
       "        vertical-align: middle;\n",
       "    }\n",
       "\n",
       "    .dataframe tbody tr th {\n",
       "        vertical-align: top;\n",
       "    }\n",
       "\n",
       "    .dataframe thead th {\n",
       "        text-align: right;\n",
       "    }\n",
       "</style>\n",
       "<table border=\"1\" class=\"dataframe\">\n",
       "  <thead>\n",
       "    <tr style=\"text-align: right;\">\n",
       "      <th></th>\n",
       "      <th>Country name</th>\n",
       "      <th>Regional indicator</th>\n",
       "      <th>Ladder score</th>\n",
       "      <th>Logged GDP per capita</th>\n",
       "      <th>Social support</th>\n",
       "      <th>Healthy life expectancy</th>\n",
       "      <th>Freedom to make life choices</th>\n",
       "      <th>Generosity</th>\n",
       "      <th>Perceptions of corruption</th>\n",
       "      <th>Rank</th>\n",
       "      <th>...</th>\n",
       "      <th>Commonwealth of Independent States</th>\n",
       "      <th>East Asia</th>\n",
       "      <th>Latin America and Caribbean</th>\n",
       "      <th>Middle East and North Africa</th>\n",
       "      <th>North America and ANZ</th>\n",
       "      <th>South Asia</th>\n",
       "      <th>Southeast Asia</th>\n",
       "      <th>Sub-Saharan Africa</th>\n",
       "      <th>Western Europe</th>\n",
       "      <th>Happiness Expectation</th>\n",
       "    </tr>\n",
       "  </thead>\n",
       "  <tbody>\n",
       "    <tr>\n",
       "      <th>0</th>\n",
       "      <td>Finland</td>\n",
       "      <td>Western Europe</td>\n",
       "      <td>7.842</td>\n",
       "      <td>10.775</td>\n",
       "      <td>0.954</td>\n",
       "      <td>72.000</td>\n",
       "      <td>0.949</td>\n",
       "      <td>-0.098</td>\n",
       "      <td>0.186</td>\n",
       "      <td>1</td>\n",
       "      <td>...</td>\n",
       "      <td>0</td>\n",
       "      <td>0</td>\n",
       "      <td>0</td>\n",
       "      <td>0</td>\n",
       "      <td>0</td>\n",
       "      <td>0</td>\n",
       "      <td>0</td>\n",
       "      <td>0</td>\n",
       "      <td>1</td>\n",
       "      <td>Beyond Expectation</td>\n",
       "    </tr>\n",
       "    <tr>\n",
       "      <th>1</th>\n",
       "      <td>Denmark</td>\n",
       "      <td>Western Europe</td>\n",
       "      <td>7.620</td>\n",
       "      <td>10.933</td>\n",
       "      <td>0.954</td>\n",
       "      <td>72.700</td>\n",
       "      <td>0.946</td>\n",
       "      <td>0.030</td>\n",
       "      <td>0.179</td>\n",
       "      <td>2</td>\n",
       "      <td>...</td>\n",
       "      <td>0</td>\n",
       "      <td>0</td>\n",
       "      <td>0</td>\n",
       "      <td>0</td>\n",
       "      <td>0</td>\n",
       "      <td>0</td>\n",
       "      <td>0</td>\n",
       "      <td>0</td>\n",
       "      <td>1</td>\n",
       "      <td>Beyond Expectation</td>\n",
       "    </tr>\n",
       "    <tr>\n",
       "      <th>2</th>\n",
       "      <td>Switzerland</td>\n",
       "      <td>Western Europe</td>\n",
       "      <td>7.571</td>\n",
       "      <td>11.117</td>\n",
       "      <td>0.942</td>\n",
       "      <td>74.400</td>\n",
       "      <td>0.919</td>\n",
       "      <td>0.025</td>\n",
       "      <td>0.292</td>\n",
       "      <td>3</td>\n",
       "      <td>...</td>\n",
       "      <td>0</td>\n",
       "      <td>0</td>\n",
       "      <td>0</td>\n",
       "      <td>0</td>\n",
       "      <td>0</td>\n",
       "      <td>0</td>\n",
       "      <td>0</td>\n",
       "      <td>0</td>\n",
       "      <td>1</td>\n",
       "      <td>Beyond Expectation</td>\n",
       "    </tr>\n",
       "    <tr>\n",
       "      <th>3</th>\n",
       "      <td>Iceland</td>\n",
       "      <td>Western Europe</td>\n",
       "      <td>7.554</td>\n",
       "      <td>10.878</td>\n",
       "      <td>0.983</td>\n",
       "      <td>73.000</td>\n",
       "      <td>0.955</td>\n",
       "      <td>0.160</td>\n",
       "      <td>0.673</td>\n",
       "      <td>4</td>\n",
       "      <td>...</td>\n",
       "      <td>0</td>\n",
       "      <td>0</td>\n",
       "      <td>0</td>\n",
       "      <td>0</td>\n",
       "      <td>0</td>\n",
       "      <td>0</td>\n",
       "      <td>0</td>\n",
       "      <td>0</td>\n",
       "      <td>1</td>\n",
       "      <td>Beyond Expectation</td>\n",
       "    </tr>\n",
       "    <tr>\n",
       "      <th>4</th>\n",
       "      <td>Netherlands</td>\n",
       "      <td>Western Europe</td>\n",
       "      <td>7.464</td>\n",
       "      <td>10.932</td>\n",
       "      <td>0.942</td>\n",
       "      <td>72.400</td>\n",
       "      <td>0.913</td>\n",
       "      <td>0.175</td>\n",
       "      <td>0.338</td>\n",
       "      <td>5</td>\n",
       "      <td>...</td>\n",
       "      <td>0</td>\n",
       "      <td>0</td>\n",
       "      <td>0</td>\n",
       "      <td>0</td>\n",
       "      <td>0</td>\n",
       "      <td>0</td>\n",
       "      <td>0</td>\n",
       "      <td>0</td>\n",
       "      <td>1</td>\n",
       "      <td>Beyond Expectation</td>\n",
       "    </tr>\n",
       "    <tr>\n",
       "      <th>...</th>\n",
       "      <td>...</td>\n",
       "      <td>...</td>\n",
       "      <td>...</td>\n",
       "      <td>...</td>\n",
       "      <td>...</td>\n",
       "      <td>...</td>\n",
       "      <td>...</td>\n",
       "      <td>...</td>\n",
       "      <td>...</td>\n",
       "      <td>...</td>\n",
       "      <td>...</td>\n",
       "      <td>...</td>\n",
       "      <td>...</td>\n",
       "      <td>...</td>\n",
       "      <td>...</td>\n",
       "      <td>...</td>\n",
       "      <td>...</td>\n",
       "      <td>...</td>\n",
       "      <td>...</td>\n",
       "      <td>...</td>\n",
       "      <td>...</td>\n",
       "    </tr>\n",
       "    <tr>\n",
       "      <th>144</th>\n",
       "      <td>Lesotho</td>\n",
       "      <td>Sub-Saharan Africa</td>\n",
       "      <td>3.512</td>\n",
       "      <td>7.926</td>\n",
       "      <td>0.787</td>\n",
       "      <td>48.700</td>\n",
       "      <td>0.715</td>\n",
       "      <td>-0.131</td>\n",
       "      <td>0.915</td>\n",
       "      <td>145</td>\n",
       "      <td>...</td>\n",
       "      <td>0</td>\n",
       "      <td>0</td>\n",
       "      <td>0</td>\n",
       "      <td>0</td>\n",
       "      <td>0</td>\n",
       "      <td>0</td>\n",
       "      <td>0</td>\n",
       "      <td>1</td>\n",
       "      <td>0</td>\n",
       "      <td>Under Expectation</td>\n",
       "    </tr>\n",
       "    <tr>\n",
       "      <th>145</th>\n",
       "      <td>Botswana</td>\n",
       "      <td>Sub-Saharan Africa</td>\n",
       "      <td>3.467</td>\n",
       "      <td>9.782</td>\n",
       "      <td>0.784</td>\n",
       "      <td>59.269</td>\n",
       "      <td>0.824</td>\n",
       "      <td>-0.246</td>\n",
       "      <td>0.801</td>\n",
       "      <td>146</td>\n",
       "      <td>...</td>\n",
       "      <td>0</td>\n",
       "      <td>0</td>\n",
       "      <td>0</td>\n",
       "      <td>0</td>\n",
       "      <td>0</td>\n",
       "      <td>0</td>\n",
       "      <td>0</td>\n",
       "      <td>1</td>\n",
       "      <td>0</td>\n",
       "      <td>Under Expectation</td>\n",
       "    </tr>\n",
       "    <tr>\n",
       "      <th>146</th>\n",
       "      <td>Rwanda</td>\n",
       "      <td>Sub-Saharan Africa</td>\n",
       "      <td>3.415</td>\n",
       "      <td>7.676</td>\n",
       "      <td>0.552</td>\n",
       "      <td>61.400</td>\n",
       "      <td>0.897</td>\n",
       "      <td>0.061</td>\n",
       "      <td>0.167</td>\n",
       "      <td>147</td>\n",
       "      <td>...</td>\n",
       "      <td>0</td>\n",
       "      <td>0</td>\n",
       "      <td>0</td>\n",
       "      <td>0</td>\n",
       "      <td>0</td>\n",
       "      <td>0</td>\n",
       "      <td>0</td>\n",
       "      <td>1</td>\n",
       "      <td>0</td>\n",
       "      <td>Under Expectation</td>\n",
       "    </tr>\n",
       "    <tr>\n",
       "      <th>147</th>\n",
       "      <td>Zimbabwe</td>\n",
       "      <td>Sub-Saharan Africa</td>\n",
       "      <td>3.145</td>\n",
       "      <td>7.943</td>\n",
       "      <td>0.750</td>\n",
       "      <td>56.201</td>\n",
       "      <td>0.677</td>\n",
       "      <td>-0.047</td>\n",
       "      <td>0.821</td>\n",
       "      <td>148</td>\n",
       "      <td>...</td>\n",
       "      <td>0</td>\n",
       "      <td>0</td>\n",
       "      <td>0</td>\n",
       "      <td>0</td>\n",
       "      <td>0</td>\n",
       "      <td>0</td>\n",
       "      <td>0</td>\n",
       "      <td>1</td>\n",
       "      <td>0</td>\n",
       "      <td>Under Expectation</td>\n",
       "    </tr>\n",
       "    <tr>\n",
       "      <th>148</th>\n",
       "      <td>Afghanistan</td>\n",
       "      <td>South Asia</td>\n",
       "      <td>2.523</td>\n",
       "      <td>7.695</td>\n",
       "      <td>0.463</td>\n",
       "      <td>52.493</td>\n",
       "      <td>0.382</td>\n",
       "      <td>-0.102</td>\n",
       "      <td>0.924</td>\n",
       "      <td>149</td>\n",
       "      <td>...</td>\n",
       "      <td>0</td>\n",
       "      <td>0</td>\n",
       "      <td>0</td>\n",
       "      <td>0</td>\n",
       "      <td>0</td>\n",
       "      <td>1</td>\n",
       "      <td>0</td>\n",
       "      <td>0</td>\n",
       "      <td>0</td>\n",
       "      <td>Under Expectation</td>\n",
       "    </tr>\n",
       "  </tbody>\n",
       "</table>\n",
       "<p>149 rows × 24 columns</p>\n",
       "</div>"
      ],
      "text/plain": [
       "    Country name  Regional indicator  Ladder score  Logged GDP per capita  \\\n",
       "0        Finland      Western Europe         7.842                 10.775   \n",
       "1        Denmark      Western Europe         7.620                 10.933   \n",
       "2    Switzerland      Western Europe         7.571                 11.117   \n",
       "3        Iceland      Western Europe         7.554                 10.878   \n",
       "4    Netherlands      Western Europe         7.464                 10.932   \n",
       "..           ...                 ...           ...                    ...   \n",
       "144      Lesotho  Sub-Saharan Africa         3.512                  7.926   \n",
       "145     Botswana  Sub-Saharan Africa         3.467                  9.782   \n",
       "146       Rwanda  Sub-Saharan Africa         3.415                  7.676   \n",
       "147     Zimbabwe  Sub-Saharan Africa         3.145                  7.943   \n",
       "148  Afghanistan          South Asia         2.523                  7.695   \n",
       "\n",
       "     Social support  Healthy life expectancy  Freedom to make life choices  \\\n",
       "0             0.954                   72.000                         0.949   \n",
       "1             0.954                   72.700                         0.946   \n",
       "2             0.942                   74.400                         0.919   \n",
       "3             0.983                   73.000                         0.955   \n",
       "4             0.942                   72.400                         0.913   \n",
       "..              ...                      ...                           ...   \n",
       "144           0.787                   48.700                         0.715   \n",
       "145           0.784                   59.269                         0.824   \n",
       "146           0.552                   61.400                         0.897   \n",
       "147           0.750                   56.201                         0.677   \n",
       "148           0.463                   52.493                         0.382   \n",
       "\n",
       "     Generosity  Perceptions of corruption  Rank  ...  \\\n",
       "0        -0.098                      0.186     1  ...   \n",
       "1         0.030                      0.179     2  ...   \n",
       "2         0.025                      0.292     3  ...   \n",
       "3         0.160                      0.673     4  ...   \n",
       "4         0.175                      0.338     5  ...   \n",
       "..          ...                        ...   ...  ...   \n",
       "144      -0.131                      0.915   145  ...   \n",
       "145      -0.246                      0.801   146  ...   \n",
       "146       0.061                      0.167   147  ...   \n",
       "147      -0.047                      0.821   148  ...   \n",
       "148      -0.102                      0.924   149  ...   \n",
       "\n",
       "    Commonwealth of Independent States  East Asia  \\\n",
       "0                                    0          0   \n",
       "1                                    0          0   \n",
       "2                                    0          0   \n",
       "3                                    0          0   \n",
       "4                                    0          0   \n",
       "..                                 ...        ...   \n",
       "144                                  0          0   \n",
       "145                                  0          0   \n",
       "146                                  0          0   \n",
       "147                                  0          0   \n",
       "148                                  0          0   \n",
       "\n",
       "     Latin America and Caribbean  Middle East and North Africa  \\\n",
       "0                              0                             0   \n",
       "1                              0                             0   \n",
       "2                              0                             0   \n",
       "3                              0                             0   \n",
       "4                              0                             0   \n",
       "..                           ...                           ...   \n",
       "144                            0                             0   \n",
       "145                            0                             0   \n",
       "146                            0                             0   \n",
       "147                            0                             0   \n",
       "148                            0                             0   \n",
       "\n",
       "     North America and ANZ  South Asia  Southeast Asia  Sub-Saharan Africa  \\\n",
       "0                        0           0               0                   0   \n",
       "1                        0           0               0                   0   \n",
       "2                        0           0               0                   0   \n",
       "3                        0           0               0                   0   \n",
       "4                        0           0               0                   0   \n",
       "..                     ...         ...             ...                 ...   \n",
       "144                      0           0               0                   1   \n",
       "145                      0           0               0                   1   \n",
       "146                      0           0               0                   1   \n",
       "147                      0           0               0                   1   \n",
       "148                      0           1               0                   0   \n",
       "\n",
       "     Western Europe  Happiness Expectation  \n",
       "0                 1     Beyond Expectation  \n",
       "1                 1     Beyond Expectation  \n",
       "2                 1     Beyond Expectation  \n",
       "3                 1     Beyond Expectation  \n",
       "4                 1     Beyond Expectation  \n",
       "..              ...                    ...  \n",
       "144               0      Under Expectation  \n",
       "145               0      Under Expectation  \n",
       "146               0      Under Expectation  \n",
       "147               0      Under Expectation  \n",
       "148               0      Under Expectation  \n",
       "\n",
       "[149 rows x 24 columns]"
      ]
     },
     "execution_count": 50,
     "metadata": {},
     "output_type": "execute_result"
    }
   ],
   "source": [
    "import numpy as np\n",
    "conditions = [df3['Pred'] > df['Ladder score'],df3['Pred'] < df['Ladder score']]\n",
    "choices = ['Under Expectation','Beyond Expectation']\n",
    "df3['Happiness Expectation'] = np.select(conditions, choices, default='Beyond Expectation')\n",
    "df3"
   ]
  },
  {
   "cell_type": "code",
   "execution_count": 51,
   "metadata": {
    "cell_id": "f92aaa4092db467e9def258702d316e0",
    "deepnote_cell_type": "code",
    "deepnote_to_be_reexecuted": false,
    "execution_millis": 1559712,
    "execution_start": 1670290723255,
    "source_hash": "23046188",
    "tags": []
   },
   "outputs": [],
   "source": [
    "X_train,X_test,y_train,y_test = train_test_split(df3[cols4],df3['Happiness Expectation'],test_size = 0.3, random_state=1)"
   ]
  },
  {
   "cell_type": "code",
   "execution_count": 52,
   "metadata": {
    "cell_id": "c0ee8b634c9c4ba195d01d65ca8ac58c",
    "deepnote_cell_type": "code",
    "deepnote_to_be_reexecuted": false,
    "execution_millis": 175,
    "execution_start": 1670290723347,
    "source_hash": "2aaedc66",
    "tags": []
   },
   "outputs": [],
   "source": [
    "clf = GradientBoostingClassifier(n_estimators=200, learning_rate=1.0,max_depth=1, random_state=0).fit(X_train, y_train)"
   ]
  },
  {
   "cell_type": "code",
   "execution_count": 53,
   "metadata": {
    "cell_id": "eb9e55467c454897a9e2996e78fa462f",
    "deepnote_cell_type": "code",
    "deepnote_to_be_reexecuted": false,
    "execution_millis": 3,
    "execution_start": 1670290723565,
    "source_hash": "a356aeea",
    "tags": []
   },
   "outputs": [
    {
     "data": {
      "text/plain": [
       "0.4666666666666667"
      ]
     },
     "execution_count": 53,
     "metadata": {},
     "output_type": "execute_result"
    }
   ],
   "source": [
    "clf.score(X_test, y_test)"
   ]
  },
  {
   "cell_type": "markdown",
   "metadata": {
    "cell_id": "e5e58675bf0b48ba8a37aae5ff486850",
    "deepnote_cell_type": "text-cell-p",
    "formattedRanges": [],
    "is_collapsed": false,
    "tags": []
   },
   "source": [
    "The model score are too low,  indicate that the model cannot be used to determine whether a happiness score of one country is beyond expectation."
   ]
  },
  {
   "cell_type": "markdown",
   "metadata": {
    "cell_id": "29ae5f745cf7436b90c3f8214ae439d0",
    "deepnote_cell_type": "text-cell-h1",
    "formattedRanges": [],
    "is_collapsed": false,
    "tags": []
   },
   "source": [
    "# Summary"
   ]
  },
  {
   "cell_type": "markdown",
   "metadata": {
    "cell_id": "3baf57e52fa54b32bd94bc91d7f7166d",
    "deepnote_cell_type": "text-cell-p",
    "formattedRanges": [],
    "is_collapsed": false,
    "tags": []
   },
   "source": [
    "I have completed a linear regression model to predict the happiness index of country residence. The results show that if all features are included in the dataset, the R squared of the model is about 73.5%. I compared the importance of each variable to the final output and found that GDP and Social support are the two most important factors. Generosity is the least important factor. The model based on the most dominant features has an accuracy of about 82.7% on the training dataset and about 73.5% on the test dataset. Building regional factors into my model improved the accuracy of my model. In addition, we performed machine learning to predict whether the happiness index will exceed expectations, but found that the data and models were insufficient for us to draw conclusions."
   ]
  },
  {
   "cell_type": "markdown",
   "metadata": {
    "cell_id": "d0c703421bc44822bb05b87652d28962",
    "deepnote_cell_type": "text-cell-h1",
    "formattedRanges": [],
    "is_collapsed": false,
    "tags": []
   },
   "source": [
    "# References"
   ]
  },
  {
   "cell_type": "markdown",
   "metadata": {
    "cell_id": "7f903df92c8e43eab3123b8d00a1bbd5",
    "deepnote_cell_type": "text-cell-p",
    "formattedRanges": [
     {
      "fromCodePoint": 26,
      "ranges": [],
      "toCodePoint": 105,
      "type": "link",
      "url": "https://www.kaggle.com/datasets/ajaypalsinghlo/world-happiness-report-2021/code"
     }
    ],
    "is_collapsed": false,
    "tags": []
   },
   "source": [
    "Dataframe reference link: https://www.kaggle.com/datasets/ajaypalsinghlo/world-happiness-report-2021/code"
   ]
  },
  {
   "cell_type": "markdown",
   "metadata": {
    "cell_id": "d15613aa97a6460db02abf548696e68b",
    "deepnote_cell_type": "text-cell-p",
    "formattedRanges": [
     {
      "fromCodePoint": 17,
      "ranges": [],
      "toCodePoint": 74,
      "type": "link",
      "url": "https://seaborn.pydata.org/generated/seaborn.kdeplot.html"
     }
    ],
    "is_collapsed": false,
    "tags": []
   },
   "source": [
    "seaborn.kdeplot: https://seaborn.pydata.org/generated/seaborn.kdeplot.html"
   ]
  },
  {
   "cell_type": "markdown",
   "metadata": {
    "cell_id": "3fb269724b484abaaa84f11dd7fc36fb",
    "deepnote_cell_type": "text-cell-p",
    "formattedRanges": [],
    "is_collapsed": false,
    "tags": []
   },
   "source": [
    "plotly: https://plotly.com/python/plotly-express/"
   ]
  },
  {
   "cell_type": "markdown",
   "metadata": {
    "cell_id": "a1a3354bea1249278faa062390d156ab",
    "deepnote_cell_type": "text-cell-p",
    "formattedRanges": [
     {
      "fromCodePoint": 27,
      "ranges": [],
      "toCodePoint": 69,
      "type": "link",
      "url": "https://plotly.com/python/choropleth-maps/"
     }
    ],
    "is_collapsed": false,
    "tags": []
   },
   "source": [
    "Choropleth Maps in Python: https://plotly.com/python/choropleth-maps/"
   ]
  },
  {
   "cell_type": "markdown",
   "metadata": {
    "cell_id": "da9e2ac6f4cb4620bd94de4c8ad0ccce",
    "deepnote_cell_type": "text-cell-p",
    "formattedRanges": [
     {
      "fromCodePoint": 17,
      "ranges": [],
      "toCodePoint": 115,
      "type": "link",
      "url": "https://machinelearningknowledge.ai/seaborn-heatmap-using-sns-heatmap-with-examples-for-beginners/"
     }
    ],
    "is_collapsed": false,
    "tags": []
   },
   "source": [
    "Seaborn Heatmap: https://machinelearningknowledge.ai/seaborn-heatmap-using-sns-heatmap-with-examples-for-beginners/"
   ]
  },
  {
   "cell_type": "markdown",
   "metadata": {
    "cell_id": "31a73adb6c1048a3b9c8e1c2f7102484",
    "deepnote_cell_type": "text-cell-p",
    "formattedRanges": [
     {
      "fromCodePoint": 45,
      "ranges": [],
      "toCodePoint": 143,
      "type": "link",
      "url": "https://scikit-learn.org/stable/modules/generated/sklearn.ensemble.GradientBoostingClassifier.html"
     }
    ],
    "is_collapsed": false,
    "tags": []
   },
   "source": [
    "sklearn.ensemble.GradientBoostingClassifier: https://scikit-learn.org/stable/modules/generated/sklearn.ensemble.GradientBoostingClassifier.html"
   ]
  },
  {
   "cell_type": "markdown",
   "metadata": {
    "cell_id": "e95c18cef549479f84a31f38a58e6971",
    "deepnote_cell_type": "text-cell-p",
    "formattedRanges": [],
    "is_collapsed": false,
    "tags": []
   },
   "source": []
  },
  {
   "cell_type": "markdown",
   "metadata": {
    "cell_id": "6c0e6d86cdf7459a943824bec8904eb8",
    "deepnote_cell_type": "text-cell-p",
    "formattedRanges": [],
    "is_collapsed": false,
    "tags": []
   },
   "source": []
  },
  {
   "cell_type": "markdown",
   "metadata": {
    "created_in_deepnote_cell": true,
    "deepnote_cell_type": "markdown",
    "tags": []
   },
   "source": [
    "<a style='text-decoration:none;line-height:16px;display:flex;color:#5B5B62;padding:10px;justify-content:end;' href='https://deepnote.com?utm_source=created-in-deepnote-cell&projectId=bf53c6e2-728a-4eab-a631-974d9b1a1438' target=\"_blank\">\n",
    "<img alt='Created in deepnote.com' style='display:inline;max-height:16px;margin:0px;margin-right:7.5px;' src='data:image/svg+xml;base64,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' > </img>\n",
    "Created in <span style='font-weight:600;margin-left:4px;'>Deepnote</span></a>"
   ]
  }
 ],
 "metadata": {
  "deepnote": {},
  "deepnote_execution_queue": [],
  "deepnote_notebook_id": "6b59d419c01145e581d8b977aa33b1ec",
  "deepnote_persisted_session": {
   "createdAt": "2022-12-06T02:01:54.490Z"
  },
  "kernelspec": {
   "display_name": "Python 3 (ipykernel)",
   "language": "python",
   "name": "python3"
  },
  "language_info": {
   "codemirror_mode": {
    "name": "ipython",
    "version": 3
   },
   "file_extension": ".py",
   "mimetype": "text/x-python",
   "name": "python",
   "nbconvert_exporter": "python",
   "pygments_lexer": "ipython3",
   "version": "3.9.13"
  }
 },
 "nbformat": 4,
 "nbformat_minor": 4
}
