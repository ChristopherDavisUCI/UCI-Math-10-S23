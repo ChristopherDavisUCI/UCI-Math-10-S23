{
 "cells": [
  {
   "cell_type": "markdown",
   "metadata": {
    "cell_id": "1b5acd7eebaa45628f7ba5dff28ee2aa",
    "deepnote_cell_type": "markdown",
    "tags": []
   },
   "source": [
    "# Worksheet 8\n",
    "\n",
    "This worksheet is due Tuesday of Week 5, before discussion section.  You are encouraged to work in groups of up to 3 total students, but each student should make their own submission on Canvas.  (It's fine for everyone in the group to have the same upload.)"
   ]
  },
  {
   "cell_type": "markdown",
   "metadata": {
    "cell_id": "0351c145e3b448b59585d0610372a5a3",
    "deepnote_cell_type": "markdown",
    "tags": []
   },
   "source": [
    "## Creating the DataFrame\n",
    "\n",
    "* Import the Math2B_grades_clean.csv file.\n",
    "* Choose 30 random rows using the pandas DataFrame `sample` method.  Use the keyword argument `random_state` with your student id number, so that the results are always the same.  (If you are in a group, use the student id number of any one of the group members.)  Name this 30-row DataFrame `df30`. "
   ]
  },
  {
   "cell_type": "markdown",
   "metadata": {
    "cell_id": "1bc80657737142c0a13b0d00105973f8",
    "deepnote_cell_type": "markdown",
    "tags": []
   },
   "source": [
    "* The following image shows the average score for each assignment.  Why would it be difficult to produce the following chart using Altair and `df30`?  (Hint.  What would you put for the x-axis encoding?)\n",
    "\n",
    "![assignment along x-axis](../images/mean_scores.png)"
   ]
  },
  {
   "cell_type": "markdown",
   "metadata": {
    "cell_id": "501b5dce532f4ce684ca386ba779cc74",
    "deepnote_cell_type": "markdown",
    "tags": []
   },
   "source": [
    "To fix that, we will create a new longer DataFrame that contains the same data.  \n",
    "\n",
    "* Use the pandas DataFrame method `melt` ([documentation](https://pandas.pydata.org/docs/reference/api/pandas.DataFrame.melt.html#pandas.DataFrame.melt)) to create a new *variable* column named \"Assignment\" containing the assignment names and a new *value* column named \"Score\" containing the scores.  (Do not put the student ids or the final course grades into these new columns.)  Name the resulting DataFrame `df`."
   ]
  },
  {
   "cell_type": "markdown",
   "metadata": {
    "cell_id": "01b39e065b514d3b9cf1b8c20dbb5e4d",
    "deepnote_cell_type": "markdown",
    "tags": []
   },
   "source": [
    "* Check your answer.  The new DataFrame `df` should have 270 rows and 4 columns.  The columns should be named \"Student_id\", \"Total\", \"Assignment\", \"Score\"."
   ]
  },
  {
   "cell_type": "markdown",
   "metadata": {
    "cell_id": "1fed9ad736fd4789ac3e3890775eca2e",
    "deepnote_cell_type": "markdown",
    "tags": []
   },
   "source": [
    "* Check your answer.  If you evaluate the following code, you should see something very similar to the above image (but the particular scores will be different because of the randomness).  (If you want to make the chart look even more similar, you can remove the axis titles by using the keyword argument `axis=alt.Axis(title=None)` for both the x-axis and y-axis specifications.)\n",
    "\n",
    "```\n",
    "alt.Chart(df).mark_bar().encode(\n",
    "    x=\"Assignment\",\n",
    "    y=\"mean(Score)\"\n",
    ")\n",
    "```"
   ]
  },
  {
   "cell_type": "markdown",
   "metadata": {
    "cell_id": "f52caa5eb02d456e9d7af07494f807e8",
    "deepnote_cell_type": "markdown",
    "tags": []
   },
   "source": [
    "## Creating the base chart"
   ]
  },
  {
   "cell_type": "markdown",
   "metadata": {
    "cell_id": "2245878e86d247eb8904349ea4c48859",
    "deepnote_cell_type": "markdown",
    "tags": []
   },
   "source": [
    "The Altair chart we make will be based on the following.  (Notice it doesn't have a `mark` defined yet, so it will raise an error if you try to plot it.)\n",
    "```\n",
    "base = alt.Chart(df).encode(\n",
    "    x=\"Assignment\",\n",
    "    y=\"Score\",\n",
    "    tooltip=[\"Student_id\", \"Assignment\", \"Score\"],\n",
    ")\n",
    "```"
   ]
  },
  {
   "cell_type": "markdown",
   "metadata": {
    "cell_id": "aec869b22cce4d138d5f072b24eeb788",
    "deepnote_cell_type": "markdown",
    "tags": []
   },
   "source": [
    "* Evaluate `base.mark_circle()` to get a sense for the contents."
   ]
  },
  {
   "cell_type": "markdown",
   "metadata": {
    "cell_id": "489041a095bf4015917d69b6f63d538a",
    "deepnote_cell_type": "markdown",
    "tags": []
   },
   "source": [
    "* It would be better if the assignments were in the chronological order, rather than alphabetical order.  The following dictionary says what date each assignment occurred on.\n",
    "\n",
    "```\n",
    "assignment_dates = {'Final exam': '6/4/22',\n",
    " 'Midterm 1': '4/20/22',\n",
    " 'Midterm 2': '5/13/22',\n",
    " 'Quiz 1': '4/7/22',\n",
    " 'Quiz 2': '4/14/22',\n",
    " 'Quiz 3': '4/28/22',\n",
    " 'Quiz 4': '5/5/22',\n",
    " 'Quiz 5': '5/26/22',\n",
    " 'Webwork': '4/8/22'}\n",
    " ```"
   ]
  },
  {
   "cell_type": "markdown",
   "metadata": {
    "cell_id": "0c5e63eb61564c80b79d0b57c2fa8a37",
    "deepnote_cell_type": "markdown",
    "tags": []
   },
   "source": [
    "* Using that dictionary, make a list `assignment_list = ['Quiz 1', 'Webwork', ...]` which lists these assignments in chronological order.  (Here is one approach: convert this dictionary to a pandas Series, then convert the dates using `pd.to_datetime`, then use `sort_values`.  In general in Math 10, it's never correct to just write out all the entries one at a time.)"
   ]
  },
  {
   "cell_type": "markdown",
   "metadata": {
    "cell_id": "ebf895bd807b44b49241d77b48cb5c1f",
    "deepnote_cell_type": "markdown",
    "tags": []
   },
   "source": [
    "* Update the x-channel in the `base` definition to specify `sort=assignment_list` (you will also need to add `alt.X` to input this keyword argument).  Be sure `assignment_list` is really a list, not something like a pandas Index.\n",
    "* If you evaluate `base.mark_circle()`, it should look similar to above, but with the x-axis in chronological order."
   ]
  },
  {
   "cell_type": "markdown",
   "metadata": {
    "cell_id": "8f432eacd7db4598bdd53267ca68ad14",
    "deepnote_cell_type": "markdown",
    "tags": []
   },
   "source": [
    "## Creating an interactive chart from the base chart"
   ]
  },
  {
   "cell_type": "markdown",
   "metadata": {
    "cell_id": "98385c78269848958a2f2e6142f24a32",
    "deepnote_cell_type": "markdown",
    "tags": []
   },
   "source": [
    "Fill in appropriate values to the following template.\n",
    "\n",
    "* `???id` should be Student id that you want to highlight.  (This occurs in two places.  Any of the 30 student ids is fine to choose, but choose one for which you think the scores are \"interesting\" in some way.)\n",
    "* `???param` should be the variable name for the selection object.  (This occurs in three places.)\n",
    "* `???size` should be the size you want for the highlighted student.\n",
    "* `???encode` should be the [encoding abbreviation](https://altair-viz.github.io/user_guide/encoding.html#encoding-data-types) that makes the most sense for student id numbers.\n",
    "* Replace `???facet` so that we see a different chart for each course grade.\n",
    "* `???description` should be a brief description of something you find interesting about the student you highlighted.\n",
    "* `???rs` should be the random state you used at the beginning (in `sample`).\n",
    "\n",
    "```\n",
    "highlight = alt.selection(type='single', on='mouseover',\n",
    "                          fields=['Student_id'], nearest=True,\n",
    "                          init={'Student_id': ???id})\n",
    "\n",
    "lines = base.mark_line().encode(\n",
    "    size=alt.condition(???param, alt.value(???size), alt.value(1)),\n",
    "    color=alt.condition(???param, \"Student_id:???encode\", alt.value(\"lightgray\"))\n",
    ")\n",
    "\n",
    "points = base.mark_circle(opacity=0).add_selection(\n",
    "    ???param\n",
    ")\n",
    "\n",
    "chart = alt.layer(lines, points).facet(\n",
    "    ???facet\n",
    ").resolve_scale(\n",
    "    color=\"independent\"\n",
    ").properties(\n",
    "    title={\n",
    "      \"text\": \"Student ???id ???description\", \n",
    "      \"subtitle\": \"The random_state we used was ???rs\"\n",
    "    }\n",
    ")\n",
    "\n",
    "chart\n",
    "```"
   ]
  },
  {
   "cell_type": "markdown",
   "metadata": {
    "cell_id": "a42644aead124e3fbad3c27a5223793b",
    "deepnote_cell_type": "markdown",
    "tags": []
   },
   "source": [
    "## Reminder\n",
    "\n",
    "Every group member needs to submit this on Canvas (even if you all submit the same file)."
   ]
  },
  {
   "cell_type": "markdown",
   "metadata": {
    "cell_id": "e8cbc46dc43a4891ad503c996a0fc6f0",
    "deepnote_cell_type": "markdown",
    "tags": []
   },
   "source": [
    "## Submission\n",
    "\n",
    "Save `chart` as a json file named \"wkst8.json\" using the following code, and upload that json file on Canvas.\n",
    "\n",
    "```\n",
    "with open(\"wkst8.json\", \"w\") as f:\n",
    "    f.write(chart.to_json())\n",
    "```"
   ]
  },
  {
   "cell_type": "markdown",
   "metadata": {
    "created_in_deepnote_cell": true,
    "deepnote_cell_type": "markdown",
    "tags": []
   },
   "source": [
    "<a style='text-decoration:none;line-height:16px;display:flex;color:#5B5B62;padding:10px;justify-content:end;' href='https://deepnote.com?utm_source=created-in-deepnote-cell&projectId=fd04a3a4-b4e8-492f-a69c-0f322c4090de' target=\"_blank\">\n",
    "<img alt='Created in deepnote.com' style='display:inline;max-height:16px;margin:0px;margin-right:7.5px;' src='data:image/svg+xml;base64,PD94bWwgdmVyc2lvbj0iMS4wIiBlbmNvZGluZz0iVVRGLTgiPz4KPHN2ZyB3aWR0aD0iODBweCIgaGVpZ2h0PSI4MHB4IiB2aWV3Qm94PSIwIDAgODAgODAiIHZlcnNpb249IjEuMSIgeG1sbnM9Imh0dHA6Ly93d3cudzMub3JnLzIwMDAvc3ZnIiB4bWxuczp4bGluaz0iaHR0cDovL3d3dy53My5vcmcvMTk5OS94bGluayI+CiAgICA8IS0tIEdlbmVyYXRvcjogU2tldGNoIDU0LjEgKDc2NDkwKSAtIGh0dHBzOi8vc2tldGNoYXBwLmNvbSAtLT4KICAgIDx0aXRsZT5Hcm91cCAzPC90aXRsZT4KICAgIDxkZXNjPkNyZWF0ZWQgd2l0aCBTa2V0Y2guPC9kZXNjPgogICAgPGcgaWQ9IkxhbmRpbmciIHN0cm9rZT0ibm9uZSIgc3Ryb2tlLXdpZHRoPSIxIiBmaWxsPSJub25lIiBmaWxsLXJ1bGU9ImV2ZW5vZGQiPgogICAgICAgIDxnIGlkPSJBcnRib2FyZCIgdHJhbnNmb3JtPSJ0cmFuc2xhdGUoLTEyMzUuMDAwMDAwLCAtNzkuMDAwMDAwKSI+CiAgICAgICAgICAgIDxnIGlkPSJHcm91cC0zIiB0cmFuc2Zvcm09InRyYW5zbGF0ZSgxMjM1LjAwMDAwMCwgNzkuMDAwMDAwKSI+CiAgICAgICAgICAgICAgICA8cG9seWdvbiBpZD0iUGF0aC0yMCIgZmlsbD0iIzAyNjVCNCIgcG9pbnRzPSIyLjM3NjIzNzYyIDgwIDM4LjA0NzY2NjcgODAgNTcuODIxNzgyMiA3My44MDU3NTkyIDU3LjgyMTc4MjIgMzIuNzU5MjczOSAzOS4xNDAyMjc4IDMxLjY4MzE2ODMiPjwvcG9seWdvbj4KICAgICAgICAgICAgICAgIDxwYXRoIGQ9Ik0zNS4wMDc3MTgsODAgQzQyLjkwNjIwMDcsNzYuNDU0OTM1OCA0Ny41NjQ5MTY3LDcxLjU0MjI2NzEgNDguOTgzODY2LDY1LjI2MTk5MzkgQzUxLjExMjI4OTksNTUuODQxNTg0MiA0MS42NzcxNzk1LDQ5LjIxMjIyODQgMjUuNjIzOTg0Niw0OS4yMTIyMjg0IEMyNS40ODQ5Mjg5LDQ5LjEyNjg0NDggMjkuODI2MTI5Niw0My4yODM4MjQ4IDM4LjY0NzU4NjksMzEuNjgzMTY4MyBMNzIuODcxMjg3MSwzMi41NTQ0MjUgTDY1LjI4MDk3Myw2Ny42NzYzNDIxIEw1MS4xMTIyODk5LDc3LjM3NjE0NCBMMzUuMDA3NzE4LDgwIFoiIGlkPSJQYXRoLTIyIiBmaWxsPSIjMDAyODY4Ij48L3BhdGg+CiAgICAgICAgICAgICAgICA8cGF0aCBkPSJNMCwzNy43MzA0NDA1IEwyNy4xMTQ1MzcsMC4yNTcxMTE0MzYgQzYyLjM3MTUxMjMsLTEuOTkwNzE3MDEgODAsMTAuNTAwMzkyNyA4MCwzNy43MzA0NDA1IEM4MCw2NC45NjA0ODgyIDY0Ljc3NjUwMzgsNzkuMDUwMzQxNCAzNC4zMjk1MTEzLDgwIEM0Ny4wNTUzNDg5LDc3LjU2NzA4MDggNTMuNDE4MjY3Nyw3MC4zMTM2MTAzIDUzLjQxODI2NzcsNTguMjM5NTg4NSBDNTMuNDE4MjY3Nyw0MC4xMjg1NTU3IDM2LjMwMzk1NDQsMzcuNzMwNDQwNSAyNS4yMjc0MTcsMzcuNzMwNDQwNSBDMTcuODQzMDU4NiwzNy43MzA0NDA1IDkuNDMzOTE5NjYsMzcuNzMwNDQwNSAwLDM3LjczMDQ0MDUgWiIgaWQ9IlBhdGgtMTkiIGZpbGw9IiMzNzkzRUYiPjwvcGF0aD4KICAgICAgICAgICAgPC9nPgogICAgICAgIDwvZz4KICAgIDwvZz4KPC9zdmc+' > </img>\n",
    "Created in <span style='font-weight:600;margin-left:4px;'>Deepnote</span></a>"
   ]
  }
 ],
 "metadata": {
  "deepnote": {},
  "deepnote_execution_queue": [],
  "deepnote_notebook_id": "fe858997b4d34920b4c77e5782e1a3ab",
  "deepnote_persisted_session": {
   "createdAt": "2022-10-08T17:15:34.393Z"
  },
  "kernelspec": {
   "display_name": "Python 3 (ipykernel)",
   "language": "python",
   "name": "python3"
  },
  "language_info": {
   "codemirror_mode": {
    "name": "ipython",
    "version": 3
   },
   "file_extension": ".py",
   "mimetype": "text/x-python",
   "name": "python",
   "nbconvert_exporter": "python",
   "pygments_lexer": "ipython3",
   "version": "3.9.13"
  }
 },
 "nbformat": 4,
 "nbformat_minor": 4
}
