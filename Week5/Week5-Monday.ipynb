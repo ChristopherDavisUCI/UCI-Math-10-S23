{
 "cells": [
  {
   "cell_type": "markdown",
   "metadata": {
    "cell_id": "f8ab1183096b49ef95708303a6550877",
    "deepnote_cell_type": "markdown",
    "tags": []
   },
   "source": [
    "# Week 5 Monday"
   ]
  },
  {
   "cell_type": "markdown",
   "metadata": {
    "cell_id": "00d4e2fd144e40a4a82254a31b92b4fd",
    "deepnote_cell_type": "markdown",
    "tags": []
   },
   "source": [
    "## Announcements\n",
    "\n",
    "* Video quizzes have been turned into \"Practice Quizzes\" (same links as before on Canvas).  Scores on these practice quizzes won't affect your grade, and you can take them as many times as you want.  (About half the quizzes have multiple versions.)\n",
    "* No videos or video quizzes this Friday.  After the midterm, we'll start the **Machine Learning** portion of Math 10.\n",
    "* Midterm Wednesday.  Covers material up to and including Week 4 Friday's lecture and videos.\n",
    "* Pick up a notecard if you haven't already.  Hand-written notes, written on both sides, can be used during the midterm.\n",
    "* Sample midterm posted on the \"Week 5\" page on Canvas.  I'll ask William to go over as much of the sample midterm as possible on Tuesday.  Solutions posted Tuesday afternoon at the latest.  (If you want a hint on a specific question before then, please ask on Ed Discussion or come to my office hours.)\n",
    "* I have office hours after class, 11am, next door in ALP 3610."
   ]
  },
  {
   "cell_type": "markdown",
   "metadata": {
    "cell_id": "d06b4c29d8cb4f4087a778948b069b50",
    "deepnote_cell_type": "markdown",
    "tags": []
   },
   "source": [
    "## `map` vs `applymap` vs `apply`\n",
    "\n",
    "Here are some important facts about these methods.\n",
    "\n",
    "* `map` is a Series method.  `applymap` and `apply` are DataFrame methods.  (Secretly `apply` can also be used on a Series, but we haven't covered that.)\n",
    "* All three take a function as an input.\n",
    "* `map` and `applymap` apply that function on every entry.  `apply` applies the function on an entire row (`axis=1`) or on an entire column (`axis=0`).\n",
    "* I think everyone would agree `apply` is the most difficult to understand of the three."
   ]
  },
  {
   "cell_type": "code",
   "execution_count": 2,
   "metadata": {
    "cell_id": "0c10461937e2423a8ee2ab27ac67bae9",
    "deepnote_cell_type": "code",
    "deepnote_to_be_reexecuted": false,
    "execution_millis": 0,
    "execution_start": 1666631458322,
    "source_hash": "97d50920",
    "tags": []
   },
   "outputs": [],
   "source": [
    "import pandas as pd\n",
    "import altair as alt\n",
    "import seaborn as sns"
   ]
  },
  {
   "cell_type": "code",
   "execution_count": 3,
   "metadata": {
    "cell_id": "5b7129a990044da2a44f4a9096d1c794",
    "deepnote_cell_type": "code",
    "deepnote_to_be_reexecuted": false,
    "execution_millis": 303,
    "execution_start": 1666631459250,
    "source_hash": "973313c9",
    "tags": []
   },
   "outputs": [],
   "source": [
    "df = sns.load_dataset(\"penguins\")"
   ]
  },
  {
   "cell_type": "markdown",
   "metadata": {},
   "source": [
    "The following wants to multiply every element in `df` by `2`.  It doesn't work because `2*x` is not a function in Python."
   ]
  },
  {
   "cell_type": "code",
   "execution_count": 5,
   "metadata": {
    "cell_id": "e4ae59b541d74c619fcba0a8fa56dd7b",
    "deepnote_cell_type": "code",
    "deepnote_to_be_reexecuted": false,
    "execution_millis": 488,
    "execution_start": 1666631504670,
    "source_hash": "b0c7753e",
    "tags": []
   },
   "outputs": [
    {
     "ename": "NameError",
     "evalue": "name 'x' is not defined",
     "output_type": "error",
     "traceback": [
      "\u001b[0;31m---------------------------------------------------------------------------\u001b[0m",
      "\u001b[0;31mNameError\u001b[0m                                 Traceback (most recent call last)",
      "Cell \u001b[0;32mIn [5], line 1\u001b[0m\n\u001b[0;32m----> 1\u001b[0m df\u001b[38;5;241m.\u001b[39mapplymap(\u001b[38;5;241m2\u001b[39m\u001b[38;5;241m*\u001b[39m\u001b[43mx\u001b[49m)\n",
      "\u001b[0;31mNameError\u001b[0m: name 'x' is not defined"
     ]
    }
   ],
   "source": [
    "df.applymap(2*x)"
   ]
  },
  {
   "cell_type": "markdown",
   "metadata": {},
   "source": [
    "Here we use a lambda function to define the function $x \\leadsto 2x$.  Notice how this works even for string values."
   ]
  },
  {
   "cell_type": "code",
   "execution_count": 6,
   "metadata": {
    "cell_id": "c3d63abc88ab4c20904c3910d22ad291",
    "deepnote_cell_type": "code",
    "deepnote_to_be_reexecuted": false,
    "execution_millis": 47,
    "execution_start": 1666631565647,
    "source_hash": "a3526bca",
    "tags": []
   },
   "outputs": [
    {
     "data": {
      "application/vnd.deepnote.dataframe.v3+json": {
       "column_count": 7,
       "columns": [
        {
         "dtype": "object",
         "name": "species",
         "stats": {
          "categories": [
           {
            "count": 152,
            "name": "AdelieAdelie"
           },
           {
            "count": 124,
            "name": "GentooGentoo"
           },
           {
            "count": 68,
            "name": "ChinstrapChinstrap"
           }
          ],
          "nan_count": 0,
          "unique_count": 3
         }
        },
        {
         "dtype": "object",
         "name": "island",
         "stats": {
          "categories": [
           {
            "count": 168,
            "name": "BiscoeBiscoe"
           },
           {
            "count": 124,
            "name": "DreamDream"
           },
           {
            "count": 52,
            "name": "TorgersenTorgersen"
           }
          ],
          "nan_count": 0,
          "unique_count": 3
         }
        },
        {
         "dtype": "float64",
         "name": "bill_length_mm",
         "stats": {
          "histogram": [
           {
            "bin_end": 69.7,
            "bin_start": 64.2,
            "count": 9
           },
           {
            "bin_end": 75.2,
            "bin_start": 69.7,
            "count": 40
           },
           {
            "bin_end": 80.7,
            "bin_start": 75.2,
            "count": 57
           },
           {
            "bin_end": 86.2,
            "bin_start": 80.7,
            "count": 48
           },
           {
            "bin_end": 91.7,
            "bin_start": 86.2,
            "count": 49
           },
           {
            "bin_end": 97.2,
            "bin_start": 91.7,
            "count": 55
           },
           {
            "bin_end": 102.7,
            "bin_start": 97.2,
            "count": 61
           },
           {
            "bin_end": 108.2,
            "bin_start": 102.7,
            "count": 16
           },
           {
            "bin_end": 113.7,
            "bin_start": 108.2,
            "count": 5
           },
           {
            "bin_end": 119.2,
            "bin_start": 113.7,
            "count": 2
           }
          ],
          "max": "119.2",
          "min": "64.2",
          "nan_count": 2,
          "unique_count": 164
         }
        },
        {
         "dtype": "float64",
         "name": "bill_depth_mm",
         "stats": {
          "histogram": [
           {
            "bin_end": 27.88,
            "bin_start": 26.2,
            "count": 21
           },
           {
            "bin_end": 29.56,
            "bin_start": 27.88,
            "count": 35
           },
           {
            "bin_end": 31.240000000000002,
            "bin_start": 29.56,
            "count": 32
           },
           {
            "bin_end": 32.92,
            "bin_start": 31.240000000000002,
            "count": 34
           },
           {
            "bin_end": 34.6,
            "bin_start": 32.92,
            "count": 44
           },
           {
            "bin_end": 36.28,
            "bin_start": 34.6,
            "count": 55
           },
           {
            "bin_end": 37.96,
            "bin_start": 36.28,
            "count": 56
           },
           {
            "bin_end": 39.64,
            "bin_start": 37.96,
            "count": 39
           },
           {
            "bin_end": 41.32,
            "bin_start": 39.64,
            "count": 16
           },
           {
            "bin_end": 43,
            "bin_start": 41.32,
            "count": 10
           }
          ],
          "max": "43.0",
          "min": "26.2",
          "nan_count": 2,
          "unique_count": 80
         }
        },
        {
         "dtype": "float64",
         "name": "flipper_length_mm",
         "stats": {
          "histogram": [
           {
            "bin_end": 355.8,
            "bin_start": 344,
            "count": 3
           },
           {
            "bin_end": 367.6,
            "bin_start": 355.8,
            "count": 22
           },
           {
            "bin_end": 379.4,
            "bin_start": 367.6,
            "count": 52
           },
           {
            "bin_end": 391.2,
            "bin_start": 379.4,
            "count": 79
           },
           {
            "bin_end": 403,
            "bin_start": 391.2,
            "count": 44
           },
           {
            "bin_end": 414.8,
            "bin_start": 403,
            "count": 15
           },
           {
            "bin_end": 426.6,
            "bin_start": 414.8,
            "count": 42
           },
           {
            "bin_end": 438.4,
            "bin_start": 426.6,
            "count": 42
           },
           {
            "bin_end": 450.2,
            "bin_start": 438.4,
            "count": 28
           },
           {
            "bin_end": 462,
            "bin_start": 450.2,
            "count": 15
           }
          ],
          "max": "462.0",
          "min": "344.0",
          "nan_count": 2,
          "unique_count": 55
         }
        },
        {
         "dtype": "float64",
         "name": "body_mass_g",
         "stats": {
          "histogram": [
           {
            "bin_end": 6120,
            "bin_start": 5400,
            "count": 15
           },
           {
            "bin_end": 6840,
            "bin_start": 6120,
            "count": 43
           },
           {
            "bin_end": 7560,
            "bin_start": 6840,
            "count": 71
           },
           {
            "bin_end": 8280,
            "bin_start": 7560,
            "count": 53
           },
           {
            "bin_end": 9000,
            "bin_start": 8280,
            "count": 42
           },
           {
            "bin_end": 9720,
            "bin_start": 9000,
            "count": 41
           },
           {
            "bin_end": 10440,
            "bin_start": 9720,
            "count": 28
           },
           {
            "bin_end": 11160,
            "bin_start": 10440,
            "count": 27
           },
           {
            "bin_end": 11880,
            "bin_start": 11160,
            "count": 16
           },
           {
            "bin_end": 12600,
            "bin_start": 11880,
            "count": 6
           }
          ],
          "max": "12600.0",
          "min": "5400.0",
          "nan_count": 2,
          "unique_count": 94
         }
        },
        {
         "dtype": "object",
         "name": "sex",
         "stats": {
          "categories": [
           {
            "count": 168,
            "name": "MaleMale"
           },
           {
            "count": 165,
            "name": "FemaleFemale"
           },
           {
            "count": 11,
            "name": "Missing"
           }
          ],
          "nan_count": 11,
          "unique_count": 2
         }
        },
        {
         "dtype": "int64",
         "name": "_deepnote_index_column"
        }
       ],
       "row_count": 344,
       "rows": [
        {
         "_deepnote_index_column": "0",
         "bill_depth_mm": "37.4",
         "bill_length_mm": "78.2",
         "body_mass_g": "7500.0",
         "flipper_length_mm": "362.0",
         "island": "TorgersenTorgersen",
         "sex": "MaleMale",
         "species": "AdelieAdelie"
        },
        {
         "_deepnote_index_column": "1",
         "bill_depth_mm": "34.8",
         "bill_length_mm": "79.0",
         "body_mass_g": "7600.0",
         "flipper_length_mm": "372.0",
         "island": "TorgersenTorgersen",
         "sex": "FemaleFemale",
         "species": "AdelieAdelie"
        },
        {
         "_deepnote_index_column": "2",
         "bill_depth_mm": "36.0",
         "bill_length_mm": "80.6",
         "body_mass_g": "6500.0",
         "flipper_length_mm": "390.0",
         "island": "TorgersenTorgersen",
         "sex": "FemaleFemale",
         "species": "AdelieAdelie"
        },
        {
         "_deepnote_index_column": "3",
         "bill_depth_mm": "nan",
         "bill_length_mm": "nan",
         "body_mass_g": "nan",
         "flipper_length_mm": "nan",
         "island": "TorgersenTorgersen",
         "sex": "nan",
         "species": "AdelieAdelie"
        },
        {
         "_deepnote_index_column": "4",
         "bill_depth_mm": "38.6",
         "bill_length_mm": "73.4",
         "body_mass_g": "6900.0",
         "flipper_length_mm": "386.0",
         "island": "TorgersenTorgersen",
         "sex": "FemaleFemale",
         "species": "AdelieAdelie"
        },
        {
         "_deepnote_index_column": "5",
         "bill_depth_mm": "41.2",
         "bill_length_mm": "78.6",
         "body_mass_g": "7300.0",
         "flipper_length_mm": "380.0",
         "island": "TorgersenTorgersen",
         "sex": "MaleMale",
         "species": "AdelieAdelie"
        },
        {
         "_deepnote_index_column": "6",
         "bill_depth_mm": "35.6",
         "bill_length_mm": "77.8",
         "body_mass_g": "7250.0",
         "flipper_length_mm": "362.0",
         "island": "TorgersenTorgersen",
         "sex": "FemaleFemale",
         "species": "AdelieAdelie"
        },
        {
         "_deepnote_index_column": "7",
         "bill_depth_mm": "39.2",
         "bill_length_mm": "78.4",
         "body_mass_g": "9350.0",
         "flipper_length_mm": "390.0",
         "island": "TorgersenTorgersen",
         "sex": "MaleMale",
         "species": "AdelieAdelie"
        },
        {
         "_deepnote_index_column": "8",
         "bill_depth_mm": "36.2",
         "bill_length_mm": "68.2",
         "body_mass_g": "6950.0",
         "flipper_length_mm": "386.0",
         "island": "TorgersenTorgersen",
         "sex": "nan",
         "species": "AdelieAdelie"
        },
        {
         "_deepnote_index_column": "9",
         "bill_depth_mm": "40.4",
         "bill_length_mm": "84.0",
         "body_mass_g": "8500.0",
         "flipper_length_mm": "380.0",
         "island": "TorgersenTorgersen",
         "sex": "nan",
         "species": "AdelieAdelie"
        }
       ]
      },
      "text/html": [
       "<div>\n",
       "<style scoped>\n",
       "    .dataframe tbody tr th:only-of-type {\n",
       "        vertical-align: middle;\n",
       "    }\n",
       "\n",
       "    .dataframe tbody tr th {\n",
       "        vertical-align: top;\n",
       "    }\n",
       "\n",
       "    .dataframe thead th {\n",
       "        text-align: right;\n",
       "    }\n",
       "</style>\n",
       "<table border=\"1\" class=\"dataframe\">\n",
       "  <thead>\n",
       "    <tr style=\"text-align: right;\">\n",
       "      <th></th>\n",
       "      <th>species</th>\n",
       "      <th>island</th>\n",
       "      <th>bill_length_mm</th>\n",
       "      <th>bill_depth_mm</th>\n",
       "      <th>flipper_length_mm</th>\n",
       "      <th>body_mass_g</th>\n",
       "      <th>sex</th>\n",
       "    </tr>\n",
       "  </thead>\n",
       "  <tbody>\n",
       "    <tr>\n",
       "      <th>0</th>\n",
       "      <td>AdelieAdelie</td>\n",
       "      <td>TorgersenTorgersen</td>\n",
       "      <td>78.2</td>\n",
       "      <td>37.4</td>\n",
       "      <td>362.0</td>\n",
       "      <td>7500.0</td>\n",
       "      <td>MaleMale</td>\n",
       "    </tr>\n",
       "    <tr>\n",
       "      <th>1</th>\n",
       "      <td>AdelieAdelie</td>\n",
       "      <td>TorgersenTorgersen</td>\n",
       "      <td>79.0</td>\n",
       "      <td>34.8</td>\n",
       "      <td>372.0</td>\n",
       "      <td>7600.0</td>\n",
       "      <td>FemaleFemale</td>\n",
       "    </tr>\n",
       "    <tr>\n",
       "      <th>2</th>\n",
       "      <td>AdelieAdelie</td>\n",
       "      <td>TorgersenTorgersen</td>\n",
       "      <td>80.6</td>\n",
       "      <td>36.0</td>\n",
       "      <td>390.0</td>\n",
       "      <td>6500.0</td>\n",
       "      <td>FemaleFemale</td>\n",
       "    </tr>\n",
       "    <tr>\n",
       "      <th>3</th>\n",
       "      <td>AdelieAdelie</td>\n",
       "      <td>TorgersenTorgersen</td>\n",
       "      <td>NaN</td>\n",
       "      <td>NaN</td>\n",
       "      <td>NaN</td>\n",
       "      <td>NaN</td>\n",
       "      <td>NaN</td>\n",
       "    </tr>\n",
       "    <tr>\n",
       "      <th>4</th>\n",
       "      <td>AdelieAdelie</td>\n",
       "      <td>TorgersenTorgersen</td>\n",
       "      <td>73.4</td>\n",
       "      <td>38.6</td>\n",
       "      <td>386.0</td>\n",
       "      <td>6900.0</td>\n",
       "      <td>FemaleFemale</td>\n",
       "    </tr>\n",
       "    <tr>\n",
       "      <th>...</th>\n",
       "      <td>...</td>\n",
       "      <td>...</td>\n",
       "      <td>...</td>\n",
       "      <td>...</td>\n",
       "      <td>...</td>\n",
       "      <td>...</td>\n",
       "      <td>...</td>\n",
       "    </tr>\n",
       "    <tr>\n",
       "      <th>339</th>\n",
       "      <td>GentooGentoo</td>\n",
       "      <td>BiscoeBiscoe</td>\n",
       "      <td>NaN</td>\n",
       "      <td>NaN</td>\n",
       "      <td>NaN</td>\n",
       "      <td>NaN</td>\n",
       "      <td>NaN</td>\n",
       "    </tr>\n",
       "    <tr>\n",
       "      <th>340</th>\n",
       "      <td>GentooGentoo</td>\n",
       "      <td>BiscoeBiscoe</td>\n",
       "      <td>93.6</td>\n",
       "      <td>28.6</td>\n",
       "      <td>430.0</td>\n",
       "      <td>9700.0</td>\n",
       "      <td>FemaleFemale</td>\n",
       "    </tr>\n",
       "    <tr>\n",
       "      <th>341</th>\n",
       "      <td>GentooGentoo</td>\n",
       "      <td>BiscoeBiscoe</td>\n",
       "      <td>100.8</td>\n",
       "      <td>31.4</td>\n",
       "      <td>444.0</td>\n",
       "      <td>11500.0</td>\n",
       "      <td>MaleMale</td>\n",
       "    </tr>\n",
       "    <tr>\n",
       "      <th>342</th>\n",
       "      <td>GentooGentoo</td>\n",
       "      <td>BiscoeBiscoe</td>\n",
       "      <td>90.4</td>\n",
       "      <td>29.6</td>\n",
       "      <td>424.0</td>\n",
       "      <td>10400.0</td>\n",
       "      <td>FemaleFemale</td>\n",
       "    </tr>\n",
       "    <tr>\n",
       "      <th>343</th>\n",
       "      <td>GentooGentoo</td>\n",
       "      <td>BiscoeBiscoe</td>\n",
       "      <td>99.8</td>\n",
       "      <td>32.2</td>\n",
       "      <td>426.0</td>\n",
       "      <td>10800.0</td>\n",
       "      <td>MaleMale</td>\n",
       "    </tr>\n",
       "  </tbody>\n",
       "</table>\n",
       "<p>344 rows × 7 columns</p>\n",
       "</div>"
      ],
      "text/plain": [
       "          species              island  bill_length_mm  bill_depth_mm  \\\n",
       "0    AdelieAdelie  TorgersenTorgersen            78.2           37.4   \n",
       "1    AdelieAdelie  TorgersenTorgersen            79.0           34.8   \n",
       "2    AdelieAdelie  TorgersenTorgersen            80.6           36.0   \n",
       "3    AdelieAdelie  TorgersenTorgersen             NaN            NaN   \n",
       "4    AdelieAdelie  TorgersenTorgersen            73.4           38.6   \n",
       "..            ...                 ...             ...            ...   \n",
       "339  GentooGentoo        BiscoeBiscoe             NaN            NaN   \n",
       "340  GentooGentoo        BiscoeBiscoe            93.6           28.6   \n",
       "341  GentooGentoo        BiscoeBiscoe           100.8           31.4   \n",
       "342  GentooGentoo        BiscoeBiscoe            90.4           29.6   \n",
       "343  GentooGentoo        BiscoeBiscoe            99.8           32.2   \n",
       "\n",
       "     flipper_length_mm  body_mass_g           sex  \n",
       "0                362.0       7500.0      MaleMale  \n",
       "1                372.0       7600.0  FemaleFemale  \n",
       "2                390.0       6500.0  FemaleFemale  \n",
       "3                  NaN          NaN           NaN  \n",
       "4                386.0       6900.0  FemaleFemale  \n",
       "..                 ...          ...           ...  \n",
       "339                NaN          NaN           NaN  \n",
       "340              430.0       9700.0  FemaleFemale  \n",
       "341              444.0      11500.0      MaleMale  \n",
       "342              424.0      10400.0  FemaleFemale  \n",
       "343              426.0      10800.0      MaleMale  \n",
       "\n",
       "[344 rows x 7 columns]"
      ]
     },
     "execution_count": 6,
     "metadata": {},
     "output_type": "execute_result"
    }
   ],
   "source": [
    "df.applymap(lambda x: 2*x)"
   ]
  },
  {
   "cell_type": "markdown",
   "metadata": {},
   "source": [
    "Here is an example of getting a sub-DataFrame using `iloc`.  Notice how the above values are not reflected.  That is because we did not save the values.  (A hint is that something got displayed to the screen.)"
   ]
  },
  {
   "cell_type": "code",
   "execution_count": 7,
   "metadata": {
    "cell_id": "00ae983ff24045fdb78a085e26f56753",
    "deepnote_cell_type": "code",
    "deepnote_to_be_reexecuted": false,
    "execution_millis": 665,
    "execution_start": 1666631644052,
    "source_hash": "f3b58920",
    "tags": []
   },
   "outputs": [
    {
     "data": {
      "application/vnd.deepnote.dataframe.v3+json": {
       "column_count": 3,
       "columns": [
        {
         "dtype": "object",
         "name": "island",
         "stats": {
          "categories": [
           {
            "count": 2,
            "name": "Torgersen"
           }
          ],
          "nan_count": 0,
          "unique_count": 1
         }
        },
        {
         "dtype": "float64",
         "name": "bill_length_mm",
         "stats": {
          "histogram": [
           {
            "bin_end": 39.14,
            "bin_start": 39.1,
            "count": 1
           },
           {
            "bin_end": 39.18,
            "bin_start": 39.14,
            "count": 0
           },
           {
            "bin_end": 39.22,
            "bin_start": 39.18,
            "count": 0
           },
           {
            "bin_end": 39.26,
            "bin_start": 39.22,
            "count": 0
           },
           {
            "bin_end": 39.3,
            "bin_start": 39.26,
            "count": 0
           },
           {
            "bin_end": 39.34,
            "bin_start": 39.3,
            "count": 0
           },
           {
            "bin_end": 39.38,
            "bin_start": 39.34,
            "count": 0
           },
           {
            "bin_end": 39.42,
            "bin_start": 39.38,
            "count": 0
           },
           {
            "bin_end": 39.46,
            "bin_start": 39.42,
            "count": 0
           },
           {
            "bin_end": 39.5,
            "bin_start": 39.46,
            "count": 1
           }
          ],
          "max": "39.5",
          "min": "39.1",
          "nan_count": 0,
          "unique_count": 2
         }
        },
        {
         "dtype": "float64",
         "name": "bill_depth_mm",
         "stats": {
          "histogram": [
           {
            "bin_end": 17.529999999999998,
            "bin_start": 17.4,
            "count": 1
           },
           {
            "bin_end": 17.66,
            "bin_start": 17.529999999999998,
            "count": 0
           },
           {
            "bin_end": 17.79,
            "bin_start": 17.66,
            "count": 0
           },
           {
            "bin_end": 17.919999999999998,
            "bin_start": 17.79,
            "count": 0
           },
           {
            "bin_end": 18.049999999999997,
            "bin_start": 17.919999999999998,
            "count": 0
           },
           {
            "bin_end": 18.18,
            "bin_start": 18.049999999999997,
            "count": 0
           },
           {
            "bin_end": 18.31,
            "bin_start": 18.18,
            "count": 0
           },
           {
            "bin_end": 18.439999999999998,
            "bin_start": 18.31,
            "count": 0
           },
           {
            "bin_end": 18.57,
            "bin_start": 18.439999999999998,
            "count": 0
           },
           {
            "bin_end": 18.7,
            "bin_start": 18.57,
            "count": 1
           }
          ],
          "max": "18.7",
          "min": "17.4",
          "nan_count": 0,
          "unique_count": 2
         }
        },
        {
         "dtype": "int64",
         "name": "_deepnote_index_column"
        }
       ],
       "row_count": 2,
       "rows": [
        {
         "_deepnote_index_column": "0",
         "bill_depth_mm": "18.7",
         "bill_length_mm": "39.1",
         "island": "Torgersen"
        },
        {
         "_deepnote_index_column": "1",
         "bill_depth_mm": "17.4",
         "bill_length_mm": "39.5",
         "island": "Torgersen"
        }
       ]
      },
      "text/html": [
       "<div>\n",
       "<style scoped>\n",
       "    .dataframe tbody tr th:only-of-type {\n",
       "        vertical-align: middle;\n",
       "    }\n",
       "\n",
       "    .dataframe tbody tr th {\n",
       "        vertical-align: top;\n",
       "    }\n",
       "\n",
       "    .dataframe thead th {\n",
       "        text-align: right;\n",
       "    }\n",
       "</style>\n",
       "<table border=\"1\" class=\"dataframe\">\n",
       "  <thead>\n",
       "    <tr style=\"text-align: right;\">\n",
       "      <th></th>\n",
       "      <th>island</th>\n",
       "      <th>bill_length_mm</th>\n",
       "      <th>bill_depth_mm</th>\n",
       "    </tr>\n",
       "  </thead>\n",
       "  <tbody>\n",
       "    <tr>\n",
       "      <th>0</th>\n",
       "      <td>Torgersen</td>\n",
       "      <td>39.1</td>\n",
       "      <td>18.7</td>\n",
       "    </tr>\n",
       "    <tr>\n",
       "      <th>1</th>\n",
       "      <td>Torgersen</td>\n",
       "      <td>39.5</td>\n",
       "      <td>17.4</td>\n",
       "    </tr>\n",
       "  </tbody>\n",
       "</table>\n",
       "</div>"
      ],
      "text/plain": [
       "      island  bill_length_mm  bill_depth_mm\n",
       "0  Torgersen            39.1           18.7\n",
       "1  Torgersen            39.5           17.4"
      ]
     },
     "execution_count": 7,
     "metadata": {},
     "output_type": "execute_result"
    }
   ],
   "source": [
    "df.iloc[:2, 1:4]"
   ]
  },
  {
   "cell_type": "markdown",
   "metadata": {},
   "source": [
    "Sometimes the `inplace` keyword argument can be used, but not for `applymap`."
   ]
  },
  {
   "cell_type": "code",
   "execution_count": 8,
   "metadata": {
    "cell_id": "a71b6f8a8e514856a55883ce320a0283",
    "deepnote_cell_type": "code",
    "deepnote_to_be_reexecuted": false,
    "execution_millis": 12,
    "execution_start": 1666631726032,
    "source_hash": "72b28374",
    "tags": []
   },
   "outputs": [
    {
     "ename": "TypeError",
     "evalue": "applymap() got an unexpected keyword argument 'inplace'",
     "output_type": "error",
     "traceback": [
      "\u001b[0;31m---------------------------------------------------------------------------\u001b[0m",
      "\u001b[0;31mTypeError\u001b[0m                                 Traceback (most recent call last)",
      "Cell \u001b[0;32mIn [8], line 1\u001b[0m\n\u001b[0;32m----> 1\u001b[0m \u001b[43mdf\u001b[49m\u001b[38;5;241;43m.\u001b[39;49m\u001b[43mapplymap\u001b[49m\u001b[43m(\u001b[49m\u001b[38;5;28;43;01mlambda\u001b[39;49;00m\u001b[43m \u001b[49m\u001b[43mx\u001b[49m\u001b[43m:\u001b[49m\u001b[43m \u001b[49m\u001b[38;5;241;43m2\u001b[39;49m\u001b[38;5;241;43m*\u001b[39;49m\u001b[43mx\u001b[49m\u001b[43m,\u001b[49m\u001b[43m \u001b[49m\u001b[43minplace\u001b[49m\u001b[38;5;241;43m=\u001b[39;49m\u001b[38;5;28;43;01mTrue\u001b[39;49;00m\u001b[43m)\u001b[49m\n",
      "\u001b[0;31mTypeError\u001b[0m: applymap() got an unexpected keyword argument 'inplace'"
     ]
    }
   ],
   "source": [
    "df.applymap(lambda x: 2*x, inplace=True)"
   ]
  },
  {
   "cell_type": "markdown",
   "metadata": {},
   "source": [
    "Here is a reminder of the `rename` method.  Notice how we are also specifying `axis=0`, which tells pandas that it is the row labels which should be changed."
   ]
  },
  {
   "cell_type": "code",
   "execution_count": 9,
   "metadata": {
    "cell_id": "1ac6d0f58b1741c2aa8286aa343c4621",
    "deepnote_cell_type": "code",
    "deepnote_to_be_reexecuted": false,
    "execution_millis": 26,
    "execution_start": 1666631858319,
    "source_hash": "8d8a7445",
    "tags": []
   },
   "outputs": [
    {
     "data": {
      "application/vnd.deepnote.dataframe.v3+json": {
       "column_count": 7,
       "columns": [
        {
         "dtype": "object",
         "name": "species",
         "stats": {
          "categories": [
           {
            "count": 152,
            "name": "Adelie"
           },
           {
            "count": 124,
            "name": "Gentoo"
           },
           {
            "count": 68,
            "name": "Chinstrap"
           }
          ],
          "nan_count": 0,
          "unique_count": 3
         }
        },
        {
         "dtype": "object",
         "name": "island",
         "stats": {
          "categories": [
           {
            "count": 168,
            "name": "Biscoe"
           },
           {
            "count": 124,
            "name": "Dream"
           },
           {
            "count": 52,
            "name": "Torgersen"
           }
          ],
          "nan_count": 0,
          "unique_count": 3
         }
        },
        {
         "dtype": "float64",
         "name": "bill_length_mm",
         "stats": {
          "histogram": [
           {
            "bin_end": 34.85,
            "bin_start": 32.1,
            "count": 9
           },
           {
            "bin_end": 37.6,
            "bin_start": 34.85,
            "count": 40
           },
           {
            "bin_end": 40.35,
            "bin_start": 37.6,
            "count": 57
           },
           {
            "bin_end": 43.1,
            "bin_start": 40.35,
            "count": 48
           },
           {
            "bin_end": 45.85,
            "bin_start": 43.1,
            "count": 49
           },
           {
            "bin_end": 48.6,
            "bin_start": 45.85,
            "count": 55
           },
           {
            "bin_end": 51.35,
            "bin_start": 48.6,
            "count": 61
           },
           {
            "bin_end": 54.1,
            "bin_start": 51.35,
            "count": 16
           },
           {
            "bin_end": 56.85,
            "bin_start": 54.1,
            "count": 5
           },
           {
            "bin_end": 59.6,
            "bin_start": 56.85,
            "count": 2
           }
          ],
          "max": "59.6",
          "min": "32.1",
          "nan_count": 2,
          "unique_count": 164
         }
        },
        {
         "dtype": "float64",
         "name": "bill_depth_mm",
         "stats": {
          "histogram": [
           {
            "bin_end": 13.94,
            "bin_start": 13.1,
            "count": 21
           },
           {
            "bin_end": 14.78,
            "bin_start": 13.94,
            "count": 35
           },
           {
            "bin_end": 15.620000000000001,
            "bin_start": 14.78,
            "count": 32
           },
           {
            "bin_end": 16.46,
            "bin_start": 15.620000000000001,
            "count": 34
           },
           {
            "bin_end": 17.3,
            "bin_start": 16.46,
            "count": 44
           },
           {
            "bin_end": 18.14,
            "bin_start": 17.3,
            "count": 55
           },
           {
            "bin_end": 18.98,
            "bin_start": 18.14,
            "count": 56
           },
           {
            "bin_end": 19.82,
            "bin_start": 18.98,
            "count": 39
           },
           {
            "bin_end": 20.66,
            "bin_start": 19.82,
            "count": 16
           },
           {
            "bin_end": 21.5,
            "bin_start": 20.66,
            "count": 10
           }
          ],
          "max": "21.5",
          "min": "13.1",
          "nan_count": 2,
          "unique_count": 80
         }
        },
        {
         "dtype": "float64",
         "name": "flipper_length_mm",
         "stats": {
          "histogram": [
           {
            "bin_end": 177.9,
            "bin_start": 172,
            "count": 3
           },
           {
            "bin_end": 183.8,
            "bin_start": 177.9,
            "count": 22
           },
           {
            "bin_end": 189.7,
            "bin_start": 183.8,
            "count": 52
           },
           {
            "bin_end": 195.6,
            "bin_start": 189.7,
            "count": 79
           },
           {
            "bin_end": 201.5,
            "bin_start": 195.6,
            "count": 44
           },
           {
            "bin_end": 207.4,
            "bin_start": 201.5,
            "count": 15
           },
           {
            "bin_end": 213.3,
            "bin_start": 207.4,
            "count": 42
           },
           {
            "bin_end": 219.2,
            "bin_start": 213.3,
            "count": 42
           },
           {
            "bin_end": 225.1,
            "bin_start": 219.2,
            "count": 28
           },
           {
            "bin_end": 231,
            "bin_start": 225.1,
            "count": 15
           }
          ],
          "max": "231.0",
          "min": "172.0",
          "nan_count": 2,
          "unique_count": 55
         }
        },
        {
         "dtype": "float64",
         "name": "body_mass_g",
         "stats": {
          "histogram": [
           {
            "bin_end": 3060,
            "bin_start": 2700,
            "count": 15
           },
           {
            "bin_end": 3420,
            "bin_start": 3060,
            "count": 43
           },
           {
            "bin_end": 3780,
            "bin_start": 3420,
            "count": 71
           },
           {
            "bin_end": 4140,
            "bin_start": 3780,
            "count": 53
           },
           {
            "bin_end": 4500,
            "bin_start": 4140,
            "count": 42
           },
           {
            "bin_end": 4860,
            "bin_start": 4500,
            "count": 41
           },
           {
            "bin_end": 5220,
            "bin_start": 4860,
            "count": 28
           },
           {
            "bin_end": 5580,
            "bin_start": 5220,
            "count": 27
           },
           {
            "bin_end": 5940,
            "bin_start": 5580,
            "count": 16
           },
           {
            "bin_end": 6300,
            "bin_start": 5940,
            "count": 6
           }
          ],
          "max": "6300.0",
          "min": "2700.0",
          "nan_count": 2,
          "unique_count": 94
         }
        },
        {
         "dtype": "object",
         "name": "sex",
         "stats": {
          "categories": [
           {
            "count": 168,
            "name": "Male"
           },
           {
            "count": 165,
            "name": "Female"
           },
           {
            "count": 11,
            "name": "Missing"
           }
          ],
          "nan_count": 11,
          "unique_count": 2
         }
        },
        {
         "dtype": "object",
         "name": "_deepnote_index_column"
        }
       ],
       "row_count": 344,
       "rows": [
        {
         "_deepnote_index_column": "0",
         "bill_depth_mm": "18.7",
         "bill_length_mm": "39.1",
         "body_mass_g": "3750.0",
         "flipper_length_mm": "181.0",
         "island": "Torgersen",
         "sex": "Male",
         "species": "Adelie"
        },
        {
         "_deepnote_index_column": "1",
         "bill_depth_mm": "17.4",
         "bill_length_mm": "39.5",
         "body_mass_g": "3800.0",
         "flipper_length_mm": "186.0",
         "island": "Torgersen",
         "sex": "Female",
         "species": "Adelie"
        },
        {
         "_deepnote_index_column": "New row name",
         "bill_depth_mm": "18.0",
         "bill_length_mm": "40.3",
         "body_mass_g": "3250.0",
         "flipper_length_mm": "195.0",
         "island": "Torgersen",
         "sex": "Female",
         "species": "Adelie"
        },
        {
         "_deepnote_index_column": "3",
         "bill_depth_mm": "nan",
         "bill_length_mm": "nan",
         "body_mass_g": "nan",
         "flipper_length_mm": "nan",
         "island": "Torgersen",
         "sex": "nan",
         "species": "Adelie"
        },
        {
         "_deepnote_index_column": "4",
         "bill_depth_mm": "19.3",
         "bill_length_mm": "36.7",
         "body_mass_g": "3450.0",
         "flipper_length_mm": "193.0",
         "island": "Torgersen",
         "sex": "Female",
         "species": "Adelie"
        },
        {
         "_deepnote_index_column": "5",
         "bill_depth_mm": "20.6",
         "bill_length_mm": "39.3",
         "body_mass_g": "3650.0",
         "flipper_length_mm": "190.0",
         "island": "Torgersen",
         "sex": "Male",
         "species": "Adelie"
        },
        {
         "_deepnote_index_column": "6",
         "bill_depth_mm": "17.8",
         "bill_length_mm": "38.9",
         "body_mass_g": "3625.0",
         "flipper_length_mm": "181.0",
         "island": "Torgersen",
         "sex": "Female",
         "species": "Adelie"
        },
        {
         "_deepnote_index_column": "7",
         "bill_depth_mm": "19.6",
         "bill_length_mm": "39.2",
         "body_mass_g": "4675.0",
         "flipper_length_mm": "195.0",
         "island": "Torgersen",
         "sex": "Male",
         "species": "Adelie"
        },
        {
         "_deepnote_index_column": "8",
         "bill_depth_mm": "18.1",
         "bill_length_mm": "34.1",
         "body_mass_g": "3475.0",
         "flipper_length_mm": "193.0",
         "island": "Torgersen",
         "sex": "nan",
         "species": "Adelie"
        },
        {
         "_deepnote_index_column": "9",
         "bill_depth_mm": "20.2",
         "bill_length_mm": "42.0",
         "body_mass_g": "4250.0",
         "flipper_length_mm": "190.0",
         "island": "Torgersen",
         "sex": "nan",
         "species": "Adelie"
        }
       ]
      },
      "text/html": [
       "<div>\n",
       "<style scoped>\n",
       "    .dataframe tbody tr th:only-of-type {\n",
       "        vertical-align: middle;\n",
       "    }\n",
       "\n",
       "    .dataframe tbody tr th {\n",
       "        vertical-align: top;\n",
       "    }\n",
       "\n",
       "    .dataframe thead th {\n",
       "        text-align: right;\n",
       "    }\n",
       "</style>\n",
       "<table border=\"1\" class=\"dataframe\">\n",
       "  <thead>\n",
       "    <tr style=\"text-align: right;\">\n",
       "      <th></th>\n",
       "      <th>species</th>\n",
       "      <th>island</th>\n",
       "      <th>bill_length_mm</th>\n",
       "      <th>bill_depth_mm</th>\n",
       "      <th>flipper_length_mm</th>\n",
       "      <th>body_mass_g</th>\n",
       "      <th>sex</th>\n",
       "    </tr>\n",
       "  </thead>\n",
       "  <tbody>\n",
       "    <tr>\n",
       "      <th>0</th>\n",
       "      <td>Adelie</td>\n",
       "      <td>Torgersen</td>\n",
       "      <td>39.1</td>\n",
       "      <td>18.7</td>\n",
       "      <td>181.0</td>\n",
       "      <td>3750.0</td>\n",
       "      <td>Male</td>\n",
       "    </tr>\n",
       "    <tr>\n",
       "      <th>1</th>\n",
       "      <td>Adelie</td>\n",
       "      <td>Torgersen</td>\n",
       "      <td>39.5</td>\n",
       "      <td>17.4</td>\n",
       "      <td>186.0</td>\n",
       "      <td>3800.0</td>\n",
       "      <td>Female</td>\n",
       "    </tr>\n",
       "    <tr>\n",
       "      <th>New row name</th>\n",
       "      <td>Adelie</td>\n",
       "      <td>Torgersen</td>\n",
       "      <td>40.3</td>\n",
       "      <td>18.0</td>\n",
       "      <td>195.0</td>\n",
       "      <td>3250.0</td>\n",
       "      <td>Female</td>\n",
       "    </tr>\n",
       "    <tr>\n",
       "      <th>3</th>\n",
       "      <td>Adelie</td>\n",
       "      <td>Torgersen</td>\n",
       "      <td>NaN</td>\n",
       "      <td>NaN</td>\n",
       "      <td>NaN</td>\n",
       "      <td>NaN</td>\n",
       "      <td>NaN</td>\n",
       "    </tr>\n",
       "    <tr>\n",
       "      <th>4</th>\n",
       "      <td>Adelie</td>\n",
       "      <td>Torgersen</td>\n",
       "      <td>36.7</td>\n",
       "      <td>19.3</td>\n",
       "      <td>193.0</td>\n",
       "      <td>3450.0</td>\n",
       "      <td>Female</td>\n",
       "    </tr>\n",
       "    <tr>\n",
       "      <th>...</th>\n",
       "      <td>...</td>\n",
       "      <td>...</td>\n",
       "      <td>...</td>\n",
       "      <td>...</td>\n",
       "      <td>...</td>\n",
       "      <td>...</td>\n",
       "      <td>...</td>\n",
       "    </tr>\n",
       "    <tr>\n",
       "      <th>339</th>\n",
       "      <td>Gentoo</td>\n",
       "      <td>Biscoe</td>\n",
       "      <td>NaN</td>\n",
       "      <td>NaN</td>\n",
       "      <td>NaN</td>\n",
       "      <td>NaN</td>\n",
       "      <td>NaN</td>\n",
       "    </tr>\n",
       "    <tr>\n",
       "      <th>340</th>\n",
       "      <td>Gentoo</td>\n",
       "      <td>Biscoe</td>\n",
       "      <td>46.8</td>\n",
       "      <td>14.3</td>\n",
       "      <td>215.0</td>\n",
       "      <td>4850.0</td>\n",
       "      <td>Female</td>\n",
       "    </tr>\n",
       "    <tr>\n",
       "      <th>341</th>\n",
       "      <td>Gentoo</td>\n",
       "      <td>Biscoe</td>\n",
       "      <td>50.4</td>\n",
       "      <td>15.7</td>\n",
       "      <td>222.0</td>\n",
       "      <td>5750.0</td>\n",
       "      <td>Male</td>\n",
       "    </tr>\n",
       "    <tr>\n",
       "      <th>342</th>\n",
       "      <td>Gentoo</td>\n",
       "      <td>Biscoe</td>\n",
       "      <td>45.2</td>\n",
       "      <td>14.8</td>\n",
       "      <td>212.0</td>\n",
       "      <td>5200.0</td>\n",
       "      <td>Female</td>\n",
       "    </tr>\n",
       "    <tr>\n",
       "      <th>343</th>\n",
       "      <td>Gentoo</td>\n",
       "      <td>Biscoe</td>\n",
       "      <td>49.9</td>\n",
       "      <td>16.1</td>\n",
       "      <td>213.0</td>\n",
       "      <td>5400.0</td>\n",
       "      <td>Male</td>\n",
       "    </tr>\n",
       "  </tbody>\n",
       "</table>\n",
       "<p>344 rows × 7 columns</p>\n",
       "</div>"
      ],
      "text/plain": [
       "             species     island  bill_length_mm  bill_depth_mm  \\\n",
       "0             Adelie  Torgersen            39.1           18.7   \n",
       "1             Adelie  Torgersen            39.5           17.4   \n",
       "New row name  Adelie  Torgersen            40.3           18.0   \n",
       "3             Adelie  Torgersen             NaN            NaN   \n",
       "4             Adelie  Torgersen            36.7           19.3   \n",
       "...              ...        ...             ...            ...   \n",
       "339           Gentoo     Biscoe             NaN            NaN   \n",
       "340           Gentoo     Biscoe            46.8           14.3   \n",
       "341           Gentoo     Biscoe            50.4           15.7   \n",
       "342           Gentoo     Biscoe            45.2           14.8   \n",
       "343           Gentoo     Biscoe            49.9           16.1   \n",
       "\n",
       "              flipper_length_mm  body_mass_g     sex  \n",
       "0                         181.0       3750.0    Male  \n",
       "1                         186.0       3800.0  Female  \n",
       "New row name              195.0       3250.0  Female  \n",
       "3                           NaN          NaN     NaN  \n",
       "4                         193.0       3450.0  Female  \n",
       "...                         ...          ...     ...  \n",
       "339                         NaN          NaN     NaN  \n",
       "340                       215.0       4850.0  Female  \n",
       "341                       222.0       5750.0    Male  \n",
       "342                       212.0       5200.0  Female  \n",
       "343                       213.0       5400.0    Male  \n",
       "\n",
       "[344 rows x 7 columns]"
      ]
     },
     "execution_count": 9,
     "metadata": {},
     "output_type": "execute_result"
    }
   ],
   "source": [
    "df.rename({2:\"New row name\"}, axis=0)"
   ]
  },
  {
   "cell_type": "markdown",
   "metadata": {},
   "source": [
    "Again, there was no change to `df` itself.  (The row `2` is still called `2`.)"
   ]
  },
  {
   "cell_type": "code",
   "execution_count": 10,
   "metadata": {
    "cell_id": "e7ad161470594c9994818140b7f8ee83",
    "deepnote_cell_type": "code",
    "deepnote_to_be_reexecuted": false,
    "execution_millis": 904,
    "execution_start": 1666631891664,
    "source_hash": "3bc8df68",
    "tags": []
   },
   "outputs": [
    {
     "data": {
      "application/vnd.deepnote.dataframe.v3+json": {
       "column_count": 7,
       "columns": [
        {
         "dtype": "object",
         "name": "species",
         "stats": {
          "categories": [
           {
            "count": 4,
            "name": "Adelie"
           }
          ],
          "nan_count": 0,
          "unique_count": 1
         }
        },
        {
         "dtype": "object",
         "name": "island",
         "stats": {
          "categories": [
           {
            "count": 4,
            "name": "Torgersen"
           }
          ],
          "nan_count": 0,
          "unique_count": 1
         }
        },
        {
         "dtype": "float64",
         "name": "bill_length_mm",
         "stats": {
          "histogram": [
           {
            "bin_end": 39.22,
            "bin_start": 39.1,
            "count": 1
           },
           {
            "bin_end": 39.34,
            "bin_start": 39.22,
            "count": 0
           },
           {
            "bin_end": 39.46,
            "bin_start": 39.34,
            "count": 0
           },
           {
            "bin_end": 39.58,
            "bin_start": 39.46,
            "count": 1
           },
           {
            "bin_end": 39.7,
            "bin_start": 39.58,
            "count": 0
           },
           {
            "bin_end": 39.82,
            "bin_start": 39.7,
            "count": 0
           },
           {
            "bin_end": 39.94,
            "bin_start": 39.82,
            "count": 0
           },
           {
            "bin_end": 40.059999999999995,
            "bin_start": 39.94,
            "count": 0
           },
           {
            "bin_end": 40.18,
            "bin_start": 40.059999999999995,
            "count": 0
           },
           {
            "bin_end": 40.3,
            "bin_start": 40.18,
            "count": 1
           }
          ],
          "max": "40.3",
          "min": "39.1",
          "nan_count": 1,
          "unique_count": 3
         }
        },
        {
         "dtype": "float64",
         "name": "bill_depth_mm",
         "stats": {
          "histogram": [
           {
            "bin_end": 17.529999999999998,
            "bin_start": 17.4,
            "count": 1
           },
           {
            "bin_end": 17.66,
            "bin_start": 17.529999999999998,
            "count": 0
           },
           {
            "bin_end": 17.79,
            "bin_start": 17.66,
            "count": 0
           },
           {
            "bin_end": 17.919999999999998,
            "bin_start": 17.79,
            "count": 0
           },
           {
            "bin_end": 18.049999999999997,
            "bin_start": 17.919999999999998,
            "count": 1
           },
           {
            "bin_end": 18.18,
            "bin_start": 18.049999999999997,
            "count": 0
           },
           {
            "bin_end": 18.31,
            "bin_start": 18.18,
            "count": 0
           },
           {
            "bin_end": 18.439999999999998,
            "bin_start": 18.31,
            "count": 0
           },
           {
            "bin_end": 18.57,
            "bin_start": 18.439999999999998,
            "count": 0
           },
           {
            "bin_end": 18.7,
            "bin_start": 18.57,
            "count": 1
           }
          ],
          "max": "18.7",
          "min": "17.4",
          "nan_count": 1,
          "unique_count": 3
         }
        },
        {
         "dtype": "float64",
         "name": "flipper_length_mm",
         "stats": {
          "histogram": [
           {
            "bin_end": 182.4,
            "bin_start": 181,
            "count": 1
           },
           {
            "bin_end": 183.8,
            "bin_start": 182.4,
            "count": 0
           },
           {
            "bin_end": 185.2,
            "bin_start": 183.8,
            "count": 0
           },
           {
            "bin_end": 186.6,
            "bin_start": 185.2,
            "count": 1
           },
           {
            "bin_end": 188,
            "bin_start": 186.6,
            "count": 0
           },
           {
            "bin_end": 189.4,
            "bin_start": 188,
            "count": 0
           },
           {
            "bin_end": 190.8,
            "bin_start": 189.4,
            "count": 0
           },
           {
            "bin_end": 192.2,
            "bin_start": 190.8,
            "count": 0
           },
           {
            "bin_end": 193.6,
            "bin_start": 192.2,
            "count": 0
           },
           {
            "bin_end": 195,
            "bin_start": 193.6,
            "count": 1
           }
          ],
          "max": "195.0",
          "min": "181.0",
          "nan_count": 1,
          "unique_count": 3
         }
        },
        {
         "dtype": "float64",
         "name": "body_mass_g",
         "stats": {
          "histogram": [
           {
            "bin_end": 3305,
            "bin_start": 3250,
            "count": 1
           },
           {
            "bin_end": 3360,
            "bin_start": 3305,
            "count": 0
           },
           {
            "bin_end": 3415,
            "bin_start": 3360,
            "count": 0
           },
           {
            "bin_end": 3470,
            "bin_start": 3415,
            "count": 0
           },
           {
            "bin_end": 3525,
            "bin_start": 3470,
            "count": 0
           },
           {
            "bin_end": 3580,
            "bin_start": 3525,
            "count": 0
           },
           {
            "bin_end": 3635,
            "bin_start": 3580,
            "count": 0
           },
           {
            "bin_end": 3690,
            "bin_start": 3635,
            "count": 0
           },
           {
            "bin_end": 3745,
            "bin_start": 3690,
            "count": 0
           },
           {
            "bin_end": 3800,
            "bin_start": 3745,
            "count": 2
           }
          ],
          "max": "3800.0",
          "min": "3250.0",
          "nan_count": 1,
          "unique_count": 3
         }
        },
        {
         "dtype": "object",
         "name": "sex",
         "stats": {
          "categories": [
           {
            "count": 2,
            "name": "Female"
           },
           {
            "count": 1,
            "name": "Male"
           },
           {
            "count": 1,
            "name": "Missing"
           }
          ],
          "nan_count": 1,
          "unique_count": 2
         }
        },
        {
         "dtype": "int64",
         "name": "_deepnote_index_column"
        }
       ],
       "row_count": 4,
       "rows": [
        {
         "_deepnote_index_column": "0",
         "bill_depth_mm": "18.7",
         "bill_length_mm": "39.1",
         "body_mass_g": "3750.0",
         "flipper_length_mm": "181.0",
         "island": "Torgersen",
         "sex": "Male",
         "species": "Adelie"
        },
        {
         "_deepnote_index_column": "1",
         "bill_depth_mm": "17.4",
         "bill_length_mm": "39.5",
         "body_mass_g": "3800.0",
         "flipper_length_mm": "186.0",
         "island": "Torgersen",
         "sex": "Female",
         "species": "Adelie"
        },
        {
         "_deepnote_index_column": "2",
         "bill_depth_mm": "18.0",
         "bill_length_mm": "40.3",
         "body_mass_g": "3250.0",
         "flipper_length_mm": "195.0",
         "island": "Torgersen",
         "sex": "Female",
         "species": "Adelie"
        },
        {
         "_deepnote_index_column": "3",
         "bill_depth_mm": "nan",
         "bill_length_mm": "nan",
         "body_mass_g": "nan",
         "flipper_length_mm": "nan",
         "island": "Torgersen",
         "sex": "nan",
         "species": "Adelie"
        }
       ]
      },
      "text/html": [
       "<div>\n",
       "<style scoped>\n",
       "    .dataframe tbody tr th:only-of-type {\n",
       "        vertical-align: middle;\n",
       "    }\n",
       "\n",
       "    .dataframe tbody tr th {\n",
       "        vertical-align: top;\n",
       "    }\n",
       "\n",
       "    .dataframe thead th {\n",
       "        text-align: right;\n",
       "    }\n",
       "</style>\n",
       "<table border=\"1\" class=\"dataframe\">\n",
       "  <thead>\n",
       "    <tr style=\"text-align: right;\">\n",
       "      <th></th>\n",
       "      <th>species</th>\n",
       "      <th>island</th>\n",
       "      <th>bill_length_mm</th>\n",
       "      <th>bill_depth_mm</th>\n",
       "      <th>flipper_length_mm</th>\n",
       "      <th>body_mass_g</th>\n",
       "      <th>sex</th>\n",
       "    </tr>\n",
       "  </thead>\n",
       "  <tbody>\n",
       "    <tr>\n",
       "      <th>0</th>\n",
       "      <td>Adelie</td>\n",
       "      <td>Torgersen</td>\n",
       "      <td>39.1</td>\n",
       "      <td>18.7</td>\n",
       "      <td>181.0</td>\n",
       "      <td>3750.0</td>\n",
       "      <td>Male</td>\n",
       "    </tr>\n",
       "    <tr>\n",
       "      <th>1</th>\n",
       "      <td>Adelie</td>\n",
       "      <td>Torgersen</td>\n",
       "      <td>39.5</td>\n",
       "      <td>17.4</td>\n",
       "      <td>186.0</td>\n",
       "      <td>3800.0</td>\n",
       "      <td>Female</td>\n",
       "    </tr>\n",
       "    <tr>\n",
       "      <th>2</th>\n",
       "      <td>Adelie</td>\n",
       "      <td>Torgersen</td>\n",
       "      <td>40.3</td>\n",
       "      <td>18.0</td>\n",
       "      <td>195.0</td>\n",
       "      <td>3250.0</td>\n",
       "      <td>Female</td>\n",
       "    </tr>\n",
       "    <tr>\n",
       "      <th>3</th>\n",
       "      <td>Adelie</td>\n",
       "      <td>Torgersen</td>\n",
       "      <td>NaN</td>\n",
       "      <td>NaN</td>\n",
       "      <td>NaN</td>\n",
       "      <td>NaN</td>\n",
       "      <td>NaN</td>\n",
       "    </tr>\n",
       "  </tbody>\n",
       "</table>\n",
       "</div>"
      ],
      "text/plain": [
       "  species     island  bill_length_mm  bill_depth_mm  flipper_length_mm  \\\n",
       "0  Adelie  Torgersen            39.1           18.7              181.0   \n",
       "1  Adelie  Torgersen            39.5           17.4              186.0   \n",
       "2  Adelie  Torgersen            40.3           18.0              195.0   \n",
       "3  Adelie  Torgersen             NaN            NaN                NaN   \n",
       "\n",
       "   body_mass_g     sex  \n",
       "0       3750.0    Male  \n",
       "1       3800.0  Female  \n",
       "2       3250.0  Female  \n",
       "3          NaN     NaN  "
      ]
     },
     "execution_count": 10,
     "metadata": {},
     "output_type": "execute_result"
    }
   ],
   "source": [
    "df[:4]"
   ]
  },
  {
   "cell_type": "markdown",
   "metadata": {},
   "source": [
    "Here we use the `inplace` keyword argument.  Notice how nothing gets displayed."
   ]
  },
  {
   "cell_type": "code",
   "execution_count": 11,
   "metadata": {
    "cell_id": "3f962b649bb84c6cad4766e0ad33402d",
    "deepnote_cell_type": "code",
    "deepnote_to_be_reexecuted": false,
    "execution_millis": 2,
    "execution_start": 1666631913473,
    "source_hash": "92a6fc46",
    "tags": []
   },
   "outputs": [],
   "source": [
    "# nothing got displayed; df changed\n",
    "df.rename({2:\"New row name\"}, axis=0, inplace=True)"
   ]
  },
  {
   "cell_type": "markdown",
   "metadata": {},
   "source": [
    "Now the row name did change."
   ]
  },
  {
   "cell_type": "code",
   "execution_count": 12,
   "metadata": {
    "cell_id": "3ad916d64c834acda51c5f9e42f59839",
    "deepnote_cell_type": "code",
    "deepnote_to_be_reexecuted": false,
    "execution_millis": 10,
    "execution_start": 1666631944448,
    "source_hash": "3bc8df68",
    "tags": []
   },
   "outputs": [
    {
     "data": {
      "application/vnd.deepnote.dataframe.v3+json": {
       "column_count": 7,
       "columns": [
        {
         "dtype": "object",
         "name": "species",
         "stats": {
          "categories": [
           {
            "count": 4,
            "name": "Adelie"
           }
          ],
          "nan_count": 0,
          "unique_count": 1
         }
        },
        {
         "dtype": "object",
         "name": "island",
         "stats": {
          "categories": [
           {
            "count": 4,
            "name": "Torgersen"
           }
          ],
          "nan_count": 0,
          "unique_count": 1
         }
        },
        {
         "dtype": "float64",
         "name": "bill_length_mm",
         "stats": {
          "histogram": [
           {
            "bin_end": 39.22,
            "bin_start": 39.1,
            "count": 1
           },
           {
            "bin_end": 39.34,
            "bin_start": 39.22,
            "count": 0
           },
           {
            "bin_end": 39.46,
            "bin_start": 39.34,
            "count": 0
           },
           {
            "bin_end": 39.58,
            "bin_start": 39.46,
            "count": 1
           },
           {
            "bin_end": 39.7,
            "bin_start": 39.58,
            "count": 0
           },
           {
            "bin_end": 39.82,
            "bin_start": 39.7,
            "count": 0
           },
           {
            "bin_end": 39.94,
            "bin_start": 39.82,
            "count": 0
           },
           {
            "bin_end": 40.059999999999995,
            "bin_start": 39.94,
            "count": 0
           },
           {
            "bin_end": 40.18,
            "bin_start": 40.059999999999995,
            "count": 0
           },
           {
            "bin_end": 40.3,
            "bin_start": 40.18,
            "count": 1
           }
          ],
          "max": "40.3",
          "min": "39.1",
          "nan_count": 1,
          "unique_count": 3
         }
        },
        {
         "dtype": "float64",
         "name": "bill_depth_mm",
         "stats": {
          "histogram": [
           {
            "bin_end": 17.529999999999998,
            "bin_start": 17.4,
            "count": 1
           },
           {
            "bin_end": 17.66,
            "bin_start": 17.529999999999998,
            "count": 0
           },
           {
            "bin_end": 17.79,
            "bin_start": 17.66,
            "count": 0
           },
           {
            "bin_end": 17.919999999999998,
            "bin_start": 17.79,
            "count": 0
           },
           {
            "bin_end": 18.049999999999997,
            "bin_start": 17.919999999999998,
            "count": 1
           },
           {
            "bin_end": 18.18,
            "bin_start": 18.049999999999997,
            "count": 0
           },
           {
            "bin_end": 18.31,
            "bin_start": 18.18,
            "count": 0
           },
           {
            "bin_end": 18.439999999999998,
            "bin_start": 18.31,
            "count": 0
           },
           {
            "bin_end": 18.57,
            "bin_start": 18.439999999999998,
            "count": 0
           },
           {
            "bin_end": 18.7,
            "bin_start": 18.57,
            "count": 1
           }
          ],
          "max": "18.7",
          "min": "17.4",
          "nan_count": 1,
          "unique_count": 3
         }
        },
        {
         "dtype": "float64",
         "name": "flipper_length_mm",
         "stats": {
          "histogram": [
           {
            "bin_end": 182.4,
            "bin_start": 181,
            "count": 1
           },
           {
            "bin_end": 183.8,
            "bin_start": 182.4,
            "count": 0
           },
           {
            "bin_end": 185.2,
            "bin_start": 183.8,
            "count": 0
           },
           {
            "bin_end": 186.6,
            "bin_start": 185.2,
            "count": 1
           },
           {
            "bin_end": 188,
            "bin_start": 186.6,
            "count": 0
           },
           {
            "bin_end": 189.4,
            "bin_start": 188,
            "count": 0
           },
           {
            "bin_end": 190.8,
            "bin_start": 189.4,
            "count": 0
           },
           {
            "bin_end": 192.2,
            "bin_start": 190.8,
            "count": 0
           },
           {
            "bin_end": 193.6,
            "bin_start": 192.2,
            "count": 0
           },
           {
            "bin_end": 195,
            "bin_start": 193.6,
            "count": 1
           }
          ],
          "max": "195.0",
          "min": "181.0",
          "nan_count": 1,
          "unique_count": 3
         }
        },
        {
         "dtype": "float64",
         "name": "body_mass_g",
         "stats": {
          "histogram": [
           {
            "bin_end": 3305,
            "bin_start": 3250,
            "count": 1
           },
           {
            "bin_end": 3360,
            "bin_start": 3305,
            "count": 0
           },
           {
            "bin_end": 3415,
            "bin_start": 3360,
            "count": 0
           },
           {
            "bin_end": 3470,
            "bin_start": 3415,
            "count": 0
           },
           {
            "bin_end": 3525,
            "bin_start": 3470,
            "count": 0
           },
           {
            "bin_end": 3580,
            "bin_start": 3525,
            "count": 0
           },
           {
            "bin_end": 3635,
            "bin_start": 3580,
            "count": 0
           },
           {
            "bin_end": 3690,
            "bin_start": 3635,
            "count": 0
           },
           {
            "bin_end": 3745,
            "bin_start": 3690,
            "count": 0
           },
           {
            "bin_end": 3800,
            "bin_start": 3745,
            "count": 2
           }
          ],
          "max": "3800.0",
          "min": "3250.0",
          "nan_count": 1,
          "unique_count": 3
         }
        },
        {
         "dtype": "object",
         "name": "sex",
         "stats": {
          "categories": [
           {
            "count": 2,
            "name": "Female"
           },
           {
            "count": 1,
            "name": "Male"
           },
           {
            "count": 1,
            "name": "Missing"
           }
          ],
          "nan_count": 1,
          "unique_count": 2
         }
        },
        {
         "dtype": "object",
         "name": "_deepnote_index_column"
        }
       ],
       "row_count": 4,
       "rows": [
        {
         "_deepnote_index_column": "0",
         "bill_depth_mm": "18.7",
         "bill_length_mm": "39.1",
         "body_mass_g": "3750.0",
         "flipper_length_mm": "181.0",
         "island": "Torgersen",
         "sex": "Male",
         "species": "Adelie"
        },
        {
         "_deepnote_index_column": "1",
         "bill_depth_mm": "17.4",
         "bill_length_mm": "39.5",
         "body_mass_g": "3800.0",
         "flipper_length_mm": "186.0",
         "island": "Torgersen",
         "sex": "Female",
         "species": "Adelie"
        },
        {
         "_deepnote_index_column": "New row name",
         "bill_depth_mm": "18.0",
         "bill_length_mm": "40.3",
         "body_mass_g": "3250.0",
         "flipper_length_mm": "195.0",
         "island": "Torgersen",
         "sex": "Female",
         "species": "Adelie"
        },
        {
         "_deepnote_index_column": "3",
         "bill_depth_mm": "nan",
         "bill_length_mm": "nan",
         "body_mass_g": "nan",
         "flipper_length_mm": "nan",
         "island": "Torgersen",
         "sex": "nan",
         "species": "Adelie"
        }
       ]
      },
      "text/html": [
       "<div>\n",
       "<style scoped>\n",
       "    .dataframe tbody tr th:only-of-type {\n",
       "        vertical-align: middle;\n",
       "    }\n",
       "\n",
       "    .dataframe tbody tr th {\n",
       "        vertical-align: top;\n",
       "    }\n",
       "\n",
       "    .dataframe thead th {\n",
       "        text-align: right;\n",
       "    }\n",
       "</style>\n",
       "<table border=\"1\" class=\"dataframe\">\n",
       "  <thead>\n",
       "    <tr style=\"text-align: right;\">\n",
       "      <th></th>\n",
       "      <th>species</th>\n",
       "      <th>island</th>\n",
       "      <th>bill_length_mm</th>\n",
       "      <th>bill_depth_mm</th>\n",
       "      <th>flipper_length_mm</th>\n",
       "      <th>body_mass_g</th>\n",
       "      <th>sex</th>\n",
       "    </tr>\n",
       "  </thead>\n",
       "  <tbody>\n",
       "    <tr>\n",
       "      <th>0</th>\n",
       "      <td>Adelie</td>\n",
       "      <td>Torgersen</td>\n",
       "      <td>39.1</td>\n",
       "      <td>18.7</td>\n",
       "      <td>181.0</td>\n",
       "      <td>3750.0</td>\n",
       "      <td>Male</td>\n",
       "    </tr>\n",
       "    <tr>\n",
       "      <th>1</th>\n",
       "      <td>Adelie</td>\n",
       "      <td>Torgersen</td>\n",
       "      <td>39.5</td>\n",
       "      <td>17.4</td>\n",
       "      <td>186.0</td>\n",
       "      <td>3800.0</td>\n",
       "      <td>Female</td>\n",
       "    </tr>\n",
       "    <tr>\n",
       "      <th>New row name</th>\n",
       "      <td>Adelie</td>\n",
       "      <td>Torgersen</td>\n",
       "      <td>40.3</td>\n",
       "      <td>18.0</td>\n",
       "      <td>195.0</td>\n",
       "      <td>3250.0</td>\n",
       "      <td>Female</td>\n",
       "    </tr>\n",
       "    <tr>\n",
       "      <th>3</th>\n",
       "      <td>Adelie</td>\n",
       "      <td>Torgersen</td>\n",
       "      <td>NaN</td>\n",
       "      <td>NaN</td>\n",
       "      <td>NaN</td>\n",
       "      <td>NaN</td>\n",
       "      <td>NaN</td>\n",
       "    </tr>\n",
       "  </tbody>\n",
       "</table>\n",
       "</div>"
      ],
      "text/plain": [
       "             species     island  bill_length_mm  bill_depth_mm  \\\n",
       "0             Adelie  Torgersen            39.1           18.7   \n",
       "1             Adelie  Torgersen            39.5           17.4   \n",
       "New row name  Adelie  Torgersen            40.3           18.0   \n",
       "3             Adelie  Torgersen             NaN            NaN   \n",
       "\n",
       "              flipper_length_mm  body_mass_g     sex  \n",
       "0                         181.0       3750.0    Male  \n",
       "1                         186.0       3800.0  Female  \n",
       "New row name              195.0       3250.0  Female  \n",
       "3                           NaN          NaN     NaN  "
      ]
     },
     "execution_count": 12,
     "metadata": {},
     "output_type": "execute_result"
    }
   ],
   "source": [
    "df[:4]"
   ]
  },
  {
   "cell_type": "markdown",
   "metadata": {},
   "source": [
    "Now we switch to talking about `apply`.  The use of the `axis` keyword argument is definitely confusing.  See the Week 4 videos for the most consistent description I know for when to use `axis=0` and when to use `axis=1`."
   ]
  },
  {
   "cell_type": "code",
   "execution_count": 13,
   "metadata": {
    "cell_id": "a7b869bd40e54e8a9babb20ff6c283bc",
    "deepnote_cell_type": "code",
    "deepnote_to_be_reexecuted": false,
    "execution_millis": 2,
    "execution_start": 1666632138102,
    "source_hash": "14f60b8f",
    "tags": []
   },
   "outputs": [
    {
     "data": {
      "text/plain": [
       "(344, 7)"
      ]
     },
     "execution_count": 13,
     "metadata": {},
     "output_type": "execute_result"
    }
   ],
   "source": [
    "df.shape"
   ]
  },
  {
   "cell_type": "markdown",
   "metadata": {},
   "source": [
    "Here we are keeping the column names the same.  The number `344` represents the length of each column."
   ]
  },
  {
   "cell_type": "code",
   "execution_count": 14,
   "metadata": {
    "cell_id": "b131515752aa44849f7176fb165aea63",
    "deepnote_cell_type": "code",
    "deepnote_to_be_reexecuted": false,
    "execution_millis": 5,
    "execution_start": 1666632179323,
    "source_hash": "5a05120e",
    "tags": []
   },
   "outputs": [
    {
     "data": {
      "text/plain": [
       "species              344\n",
       "island               344\n",
       "bill_length_mm       344\n",
       "bill_depth_mm        344\n",
       "flipper_length_mm    344\n",
       "body_mass_g          344\n",
       "sex                  344\n",
       "dtype: int64"
      ]
     },
     "execution_count": 14,
     "metadata": {},
     "output_type": "execute_result"
    }
   ],
   "source": [
    "df.apply(len, axis=0)"
   ]
  },
  {
   "cell_type": "markdown",
   "metadata": {},
   "source": [
    "The number `7` here represents the length of each row."
   ]
  },
  {
   "cell_type": "code",
   "execution_count": 15,
   "metadata": {
    "cell_id": "6eb9e66b54aa4141abf28dce8774f9f6",
    "deepnote_cell_type": "code",
    "deepnote_to_be_reexecuted": false,
    "execution_millis": 2,
    "execution_start": 1666632221974,
    "source_hash": "3326918",
    "tags": []
   },
   "outputs": [
    {
     "data": {
      "text/plain": [
       "0               7\n",
       "1               7\n",
       "New row name    7\n",
       "3               7\n",
       "4               7\n",
       "               ..\n",
       "339             7\n",
       "340             7\n",
       "341             7\n",
       "342             7\n",
       "343             7\n",
       "Length: 344, dtype: int64"
      ]
     },
     "execution_count": 15,
     "metadata": {},
     "output_type": "execute_result"
    }
   ],
   "source": [
    "df.apply(len, axis=1)"
   ]
  },
  {
   "cell_type": "markdown",
   "metadata": {},
   "source": [
    "Here I'll try to convince you that the row names did not change."
   ]
  },
  {
   "cell_type": "code",
   "execution_count": 16,
   "metadata": {
    "cell_id": "8643e7614ef6461887bb0bac8d4eeb42",
    "deepnote_cell_type": "code",
    "deepnote_to_be_reexecuted": false,
    "execution_millis": 2,
    "execution_start": 1666632294269,
    "source_hash": "e2d18b0",
    "tags": []
   },
   "outputs": [
    {
     "data": {
      "text/plain": [
       "Index([             0,              1, 'New row name',              3,\n",
       "                    4,              5,              6,              7,\n",
       "                    8,              9,\n",
       "       ...\n",
       "                  334,            335,            336,            337,\n",
       "                  338,            339,            340,            341,\n",
       "                  342,            343],\n",
       "      dtype='object', length=344)"
      ]
     },
     "execution_count": 16,
     "metadata": {},
     "output_type": "execute_result"
    }
   ],
   "source": [
    "df.apply(len, axis=1).index"
   ]
  },
  {
   "cell_type": "code",
   "execution_count": 17,
   "metadata": {
    "cell_id": "eb6e0269ff2d4b48af62727578ae879c",
    "deepnote_cell_type": "code",
    "deepnote_to_be_reexecuted": false,
    "execution_millis": 9,
    "execution_start": 1666632302091,
    "source_hash": "651ad380",
    "tags": []
   },
   "outputs": [
    {
     "data": {
      "text/plain": [
       "Index([             0,              1, 'New row name',              3,\n",
       "                    4,              5,              6,              7,\n",
       "                    8,              9,\n",
       "       ...\n",
       "                  334,            335,            336,            337,\n",
       "                  338,            339,            340,            341,\n",
       "                  342,            343],\n",
       "      dtype='object', length=344)"
      ]
     },
     "execution_count": 17,
     "metadata": {},
     "output_type": "execute_result"
    }
   ],
   "source": [
    "df.index"
   ]
  },
  {
   "cell_type": "markdown",
   "metadata": {
    "cell_id": "ff2d727831db44cfa2e5c123dd53de82",
    "deepnote_cell_type": "markdown",
    "tags": []
   },
   "source": [
    "### Example of `apply`\n",
    "\n",
    "* Using `apply`, subtract a suitable constant from all the numeric columns  in the Penguins DataFrame so each numeric column has mean 0.  (Use a different constant for each column.) Use `pandas.api.types.is_numeric_dtype` to determine if a column is numeric or not."
   ]
  },
  {
   "cell_type": "code",
   "execution_count": 18,
   "metadata": {
    "cell_id": "8f58853a65e54cca84270b460577661c",
    "deepnote_cell_type": "code",
    "deepnote_to_be_reexecuted": false,
    "execution_millis": 621,
    "execution_start": 1666632495764,
    "source_hash": "294c2bbb",
    "tags": []
   },
   "outputs": [
    {
     "data": {
      "text/plain": [
       "False"
      ]
     },
     "execution_count": 18,
     "metadata": {},
     "output_type": "execute_result"
    }
   ],
   "source": [
    "# step 1: find the numeric columns\n",
    "pd.api.types.is_numeric_dtype(df[\"species\"])"
   ]
  },
  {
   "cell_type": "code",
   "execution_count": 19,
   "metadata": {
    "cell_id": "427d68c6fea44f40bd7782d0c47079b7",
    "deepnote_cell_type": "code",
    "deepnote_to_be_reexecuted": false,
    "execution_millis": 5,
    "execution_start": 1666632515765,
    "source_hash": "120cac2a",
    "tags": []
   },
   "outputs": [
    {
     "data": {
      "text/plain": [
       "True"
      ]
     },
     "execution_count": 19,
     "metadata": {},
     "output_type": "execute_result"
    }
   ],
   "source": [
    "pd.api.types.is_numeric_dtype(df[\"bill_length_mm\"])"
   ]
  },
  {
   "cell_type": "markdown",
   "metadata": {},
   "source": [
    "It is cumbersome to have to write `pd.api.types.is_numeric_dtype` each time, so we can import it separately."
   ]
  },
  {
   "cell_type": "code",
   "execution_count": 20,
   "metadata": {
    "cell_id": "c75dbf943c944115ba0b09bb71f516cc",
    "deepnote_cell_type": "code",
    "deepnote_to_be_reexecuted": false,
    "execution_millis": 0,
    "execution_start": 1666632544503,
    "source_hash": "bd6a05ae",
    "tags": []
   },
   "outputs": [],
   "source": [
    "from pandas.api.types import is_numeric_dtype"
   ]
  },
  {
   "cell_type": "code",
   "execution_count": 21,
   "metadata": {
    "cell_id": "db9cb128e6394c5a8b3722bea3d31f02",
    "deepnote_cell_type": "code",
    "deepnote_to_be_reexecuted": false,
    "execution_millis": 11,
    "execution_start": 1666632553880,
    "source_hash": "82006239",
    "tags": []
   },
   "outputs": [
    {
     "data": {
      "text/plain": [
       "True"
      ]
     },
     "execution_count": 21,
     "metadata": {},
     "output_type": "execute_result"
    }
   ],
   "source": [
    "is_numeric_dtype(df[\"bill_length_mm\"])"
   ]
  },
  {
   "cell_type": "code",
   "execution_count": 22,
   "metadata": {
    "cell_id": "956b115f0c5e42778c1197aaec84abf5",
    "deepnote_cell_type": "code",
    "deepnote_to_be_reexecuted": false,
    "execution_millis": 2,
    "execution_start": 1666632574215,
    "source_hash": "972a2a17",
    "tags": []
   },
   "outputs": [
    {
     "data": {
      "text/plain": [
       "True"
      ]
     },
     "execution_count": 22,
     "metadata": {},
     "output_type": "execute_result"
    }
   ],
   "source": [
    "is_numeric_dtype(float)"
   ]
  },
  {
   "cell_type": "markdown",
   "metadata": {},
   "source": [
    "Here is a first step of list comprehension, where we just get the list version of `df.columns` (we are not removing anything)."
   ]
  },
  {
   "cell_type": "code",
   "execution_count": 24,
   "metadata": {
    "cell_id": "6bb613454f294da5b8c307ed2c6c96d3",
    "deepnote_cell_type": "code",
    "deepnote_to_be_reexecuted": false,
    "execution_millis": 4,
    "execution_start": 1666632689206,
    "source_hash": "ecf24c49",
    "tags": []
   },
   "outputs": [
    {
     "data": {
      "text/plain": [
       "['species',\n",
       " 'island',\n",
       " 'bill_length_mm',\n",
       " 'bill_depth_mm',\n",
       " 'flipper_length_mm',\n",
       " 'body_mass_g',\n",
       " 'sex']"
      ]
     },
     "execution_count": 24,
     "metadata": {},
     "output_type": "execute_result"
    }
   ],
   "source": [
    "# Using list comprehension, get a list of all the numeric columns in df\n",
    "[c for c in df.columns]"
   ]
  },
  {
   "cell_type": "markdown",
   "metadata": {},
   "source": [
    "Now we add an `if` condition to just keep the numeric columns.  Notice how above we typed `is_numeric_dtype(df[\"bill_length_mm\"])`, and `c` is some value like `\"bill_length_mm\"`, so we should use `df[c]`."
   ]
  },
  {
   "cell_type": "code",
   "execution_count": 25,
   "metadata": {
    "cell_id": "aa01493ee86446089673f1376467d52e",
    "deepnote_cell_type": "code",
    "deepnote_to_be_reexecuted": false,
    "execution_millis": 9,
    "execution_start": 1666632755045,
    "source_hash": "6755302a",
    "tags": []
   },
   "outputs": [
    {
     "data": {
      "text/plain": [
       "['bill_length_mm', 'bill_depth_mm', 'flipper_length_mm', 'body_mass_g']"
      ]
     },
     "execution_count": 25,
     "metadata": {},
     "output_type": "execute_result"
    }
   ],
   "source": [
    "# Using list comprehension, get a list of all the numeric columns in df\n",
    "[c for c in df.columns if is_numeric_dtype(df[c]) == True]"
   ]
  },
  {
   "cell_type": "markdown",
   "metadata": {},
   "source": [
    "The `== True` is not doing anything here, so we can remove it."
   ]
  },
  {
   "cell_type": "code",
   "execution_count": 27,
   "metadata": {
    "cell_id": "85ce67c38e0147e99651fd66f3da639d",
    "deepnote_cell_type": "code",
    "deepnote_to_be_reexecuted": false,
    "execution_millis": 5,
    "execution_start": 1666632808647,
    "source_hash": "c0817392",
    "tags": []
   },
   "outputs": [
    {
     "data": {
      "text/plain": [
       "['bill_length_mm', 'bill_depth_mm', 'flipper_length_mm', 'body_mass_g']"
      ]
     },
     "execution_count": 27,
     "metadata": {},
     "output_type": "execute_result"
    }
   ],
   "source": [
    "num_cols = [c for c in df.columns if is_numeric_dtype(df[c])]\n",
    "num_cols"
   ]
  },
  {
   "cell_type": "markdown",
   "metadata": {},
   "source": [
    "There was a question about whether `c` should be in quotation marks.  It is an important distinction.  If we put `c` in quotation marks, `\"c\"`, then we just get the letter \"c\", and the value of the variable `c` is irrelevant."
   ]
  },
  {
   "cell_type": "code",
   "execution_count": 28,
   "metadata": {
    "cell_id": "a82aeca3bd0c4680a1f8710283b31a60",
    "deepnote_cell_type": "code",
    "deepnote_to_be_reexecuted": false,
    "execution_millis": 6,
    "execution_start": 1666632863507,
    "source_hash": "df035a9c",
    "tags": []
   },
   "outputs": [
    {
     "name": "stdout",
     "output_type": "stream",
     "text": [
      "c\n",
      "c\n",
      "c\n",
      "c\n",
      "c\n",
      "c\n",
      "c\n"
     ]
    }
   ],
   "source": [
    "for c in df.columns:\n",
    "    print(\"c\")"
   ]
  },
  {
   "cell_type": "markdown",
   "metadata": {},
   "source": [
    "Here is the same code without quotation marks around `c`."
   ]
  },
  {
   "cell_type": "code",
   "execution_count": 29,
   "metadata": {
    "cell_id": "61ab0c89cc4d421592e130967c8ad841",
    "deepnote_cell_type": "code",
    "deepnote_to_be_reexecuted": false,
    "execution_millis": 5,
    "execution_start": 1666632876495,
    "source_hash": "a7cfff82",
    "tags": []
   },
   "outputs": [
    {
     "name": "stdout",
     "output_type": "stream",
     "text": [
      "species\n",
      "island\n",
      "bill_length_mm\n",
      "bill_depth_mm\n",
      "flipper_length_mm\n",
      "body_mass_g\n",
      "sex\n"
     ]
    }
   ],
   "source": [
    "for c in df.columns:\n",
    "    print(c)"
   ]
  },
  {
   "cell_type": "markdown",
   "metadata": {},
   "source": [
    "Here we get the sub-DataFrame consisting of the numeric columns, using `df.loc`."
   ]
  },
  {
   "cell_type": "code",
   "execution_count": 30,
   "metadata": {
    "cell_id": "f1026aa1c1704f61aefac27b71cb60c1",
    "deepnote_cell_type": "code",
    "deepnote_to_be_reexecuted": false,
    "execution_millis": 10,
    "execution_start": 1666632972226,
    "source_hash": "efbe2e3a",
    "tags": []
   },
   "outputs": [
    {
     "data": {
      "application/vnd.deepnote.dataframe.v3+json": {
       "column_count": 4,
       "columns": [
        {
         "dtype": "float64",
         "name": "bill_length_mm",
         "stats": {
          "histogram": [
           {
            "bin_end": 34.85,
            "bin_start": 32.1,
            "count": 9
           },
           {
            "bin_end": 37.6,
            "bin_start": 34.85,
            "count": 40
           },
           {
            "bin_end": 40.35,
            "bin_start": 37.6,
            "count": 57
           },
           {
            "bin_end": 43.1,
            "bin_start": 40.35,
            "count": 48
           },
           {
            "bin_end": 45.85,
            "bin_start": 43.1,
            "count": 49
           },
           {
            "bin_end": 48.6,
            "bin_start": 45.85,
            "count": 55
           },
           {
            "bin_end": 51.35,
            "bin_start": 48.6,
            "count": 61
           },
           {
            "bin_end": 54.1,
            "bin_start": 51.35,
            "count": 16
           },
           {
            "bin_end": 56.85,
            "bin_start": 54.1,
            "count": 5
           },
           {
            "bin_end": 59.6,
            "bin_start": 56.85,
            "count": 2
           }
          ],
          "max": "59.6",
          "min": "32.1",
          "nan_count": 2,
          "unique_count": 164
         }
        },
        {
         "dtype": "float64",
         "name": "bill_depth_mm",
         "stats": {
          "histogram": [
           {
            "bin_end": 13.94,
            "bin_start": 13.1,
            "count": 21
           },
           {
            "bin_end": 14.78,
            "bin_start": 13.94,
            "count": 35
           },
           {
            "bin_end": 15.620000000000001,
            "bin_start": 14.78,
            "count": 32
           },
           {
            "bin_end": 16.46,
            "bin_start": 15.620000000000001,
            "count": 34
           },
           {
            "bin_end": 17.3,
            "bin_start": 16.46,
            "count": 44
           },
           {
            "bin_end": 18.14,
            "bin_start": 17.3,
            "count": 55
           },
           {
            "bin_end": 18.98,
            "bin_start": 18.14,
            "count": 56
           },
           {
            "bin_end": 19.82,
            "bin_start": 18.98,
            "count": 39
           },
           {
            "bin_end": 20.66,
            "bin_start": 19.82,
            "count": 16
           },
           {
            "bin_end": 21.5,
            "bin_start": 20.66,
            "count": 10
           }
          ],
          "max": "21.5",
          "min": "13.1",
          "nan_count": 2,
          "unique_count": 80
         }
        },
        {
         "dtype": "float64",
         "name": "flipper_length_mm",
         "stats": {
          "histogram": [
           {
            "bin_end": 177.9,
            "bin_start": 172,
            "count": 3
           },
           {
            "bin_end": 183.8,
            "bin_start": 177.9,
            "count": 22
           },
           {
            "bin_end": 189.7,
            "bin_start": 183.8,
            "count": 52
           },
           {
            "bin_end": 195.6,
            "bin_start": 189.7,
            "count": 79
           },
           {
            "bin_end": 201.5,
            "bin_start": 195.6,
            "count": 44
           },
           {
            "bin_end": 207.4,
            "bin_start": 201.5,
            "count": 15
           },
           {
            "bin_end": 213.3,
            "bin_start": 207.4,
            "count": 42
           },
           {
            "bin_end": 219.2,
            "bin_start": 213.3,
            "count": 42
           },
           {
            "bin_end": 225.1,
            "bin_start": 219.2,
            "count": 28
           },
           {
            "bin_end": 231,
            "bin_start": 225.1,
            "count": 15
           }
          ],
          "max": "231.0",
          "min": "172.0",
          "nan_count": 2,
          "unique_count": 55
         }
        },
        {
         "dtype": "float64",
         "name": "body_mass_g",
         "stats": {
          "histogram": [
           {
            "bin_end": 3060,
            "bin_start": 2700,
            "count": 15
           },
           {
            "bin_end": 3420,
            "bin_start": 3060,
            "count": 43
           },
           {
            "bin_end": 3780,
            "bin_start": 3420,
            "count": 71
           },
           {
            "bin_end": 4140,
            "bin_start": 3780,
            "count": 53
           },
           {
            "bin_end": 4500,
            "bin_start": 4140,
            "count": 42
           },
           {
            "bin_end": 4860,
            "bin_start": 4500,
            "count": 41
           },
           {
            "bin_end": 5220,
            "bin_start": 4860,
            "count": 28
           },
           {
            "bin_end": 5580,
            "bin_start": 5220,
            "count": 27
           },
           {
            "bin_end": 5940,
            "bin_start": 5580,
            "count": 16
           },
           {
            "bin_end": 6300,
            "bin_start": 5940,
            "count": 6
           }
          ],
          "max": "6300.0",
          "min": "2700.0",
          "nan_count": 2,
          "unique_count": 94
         }
        },
        {
         "dtype": "object",
         "name": "_deepnote_index_column"
        }
       ],
       "row_count": 344,
       "rows": [
        {
         "_deepnote_index_column": "0",
         "bill_depth_mm": "18.7",
         "bill_length_mm": "39.1",
         "body_mass_g": "3750.0",
         "flipper_length_mm": "181.0"
        },
        {
         "_deepnote_index_column": "1",
         "bill_depth_mm": "17.4",
         "bill_length_mm": "39.5",
         "body_mass_g": "3800.0",
         "flipper_length_mm": "186.0"
        },
        {
         "_deepnote_index_column": "New row name",
         "bill_depth_mm": "18.0",
         "bill_length_mm": "40.3",
         "body_mass_g": "3250.0",
         "flipper_length_mm": "195.0"
        },
        {
         "_deepnote_index_column": "3",
         "bill_depth_mm": "nan",
         "bill_length_mm": "nan",
         "body_mass_g": "nan",
         "flipper_length_mm": "nan"
        },
        {
         "_deepnote_index_column": "4",
         "bill_depth_mm": "19.3",
         "bill_length_mm": "36.7",
         "body_mass_g": "3450.0",
         "flipper_length_mm": "193.0"
        },
        {
         "_deepnote_index_column": "5",
         "bill_depth_mm": "20.6",
         "bill_length_mm": "39.3",
         "body_mass_g": "3650.0",
         "flipper_length_mm": "190.0"
        },
        {
         "_deepnote_index_column": "6",
         "bill_depth_mm": "17.8",
         "bill_length_mm": "38.9",
         "body_mass_g": "3625.0",
         "flipper_length_mm": "181.0"
        },
        {
         "_deepnote_index_column": "7",
         "bill_depth_mm": "19.6",
         "bill_length_mm": "39.2",
         "body_mass_g": "4675.0",
         "flipper_length_mm": "195.0"
        },
        {
         "_deepnote_index_column": "8",
         "bill_depth_mm": "18.1",
         "bill_length_mm": "34.1",
         "body_mass_g": "3475.0",
         "flipper_length_mm": "193.0"
        },
        {
         "_deepnote_index_column": "9",
         "bill_depth_mm": "20.2",
         "bill_length_mm": "42.0",
         "body_mass_g": "4250.0",
         "flipper_length_mm": "190.0"
        }
       ]
      },
      "text/html": [
       "<div>\n",
       "<style scoped>\n",
       "    .dataframe tbody tr th:only-of-type {\n",
       "        vertical-align: middle;\n",
       "    }\n",
       "\n",
       "    .dataframe tbody tr th {\n",
       "        vertical-align: top;\n",
       "    }\n",
       "\n",
       "    .dataframe thead th {\n",
       "        text-align: right;\n",
       "    }\n",
       "</style>\n",
       "<table border=\"1\" class=\"dataframe\">\n",
       "  <thead>\n",
       "    <tr style=\"text-align: right;\">\n",
       "      <th></th>\n",
       "      <th>bill_length_mm</th>\n",
       "      <th>bill_depth_mm</th>\n",
       "      <th>flipper_length_mm</th>\n",
       "      <th>body_mass_g</th>\n",
       "    </tr>\n",
       "  </thead>\n",
       "  <tbody>\n",
       "    <tr>\n",
       "      <th>0</th>\n",
       "      <td>39.1</td>\n",
       "      <td>18.7</td>\n",
       "      <td>181.0</td>\n",
       "      <td>3750.0</td>\n",
       "    </tr>\n",
       "    <tr>\n",
       "      <th>1</th>\n",
       "      <td>39.5</td>\n",
       "      <td>17.4</td>\n",
       "      <td>186.0</td>\n",
       "      <td>3800.0</td>\n",
       "    </tr>\n",
       "    <tr>\n",
       "      <th>New row name</th>\n",
       "      <td>40.3</td>\n",
       "      <td>18.0</td>\n",
       "      <td>195.0</td>\n",
       "      <td>3250.0</td>\n",
       "    </tr>\n",
       "    <tr>\n",
       "      <th>3</th>\n",
       "      <td>NaN</td>\n",
       "      <td>NaN</td>\n",
       "      <td>NaN</td>\n",
       "      <td>NaN</td>\n",
       "    </tr>\n",
       "    <tr>\n",
       "      <th>4</th>\n",
       "      <td>36.7</td>\n",
       "      <td>19.3</td>\n",
       "      <td>193.0</td>\n",
       "      <td>3450.0</td>\n",
       "    </tr>\n",
       "    <tr>\n",
       "      <th>...</th>\n",
       "      <td>...</td>\n",
       "      <td>...</td>\n",
       "      <td>...</td>\n",
       "      <td>...</td>\n",
       "    </tr>\n",
       "    <tr>\n",
       "      <th>339</th>\n",
       "      <td>NaN</td>\n",
       "      <td>NaN</td>\n",
       "      <td>NaN</td>\n",
       "      <td>NaN</td>\n",
       "    </tr>\n",
       "    <tr>\n",
       "      <th>340</th>\n",
       "      <td>46.8</td>\n",
       "      <td>14.3</td>\n",
       "      <td>215.0</td>\n",
       "      <td>4850.0</td>\n",
       "    </tr>\n",
       "    <tr>\n",
       "      <th>341</th>\n",
       "      <td>50.4</td>\n",
       "      <td>15.7</td>\n",
       "      <td>222.0</td>\n",
       "      <td>5750.0</td>\n",
       "    </tr>\n",
       "    <tr>\n",
       "      <th>342</th>\n",
       "      <td>45.2</td>\n",
       "      <td>14.8</td>\n",
       "      <td>212.0</td>\n",
       "      <td>5200.0</td>\n",
       "    </tr>\n",
       "    <tr>\n",
       "      <th>343</th>\n",
       "      <td>49.9</td>\n",
       "      <td>16.1</td>\n",
       "      <td>213.0</td>\n",
       "      <td>5400.0</td>\n",
       "    </tr>\n",
       "  </tbody>\n",
       "</table>\n",
       "<p>344 rows × 4 columns</p>\n",
       "</div>"
      ],
      "text/plain": [
       "              bill_length_mm  bill_depth_mm  flipper_length_mm  body_mass_g\n",
       "0                       39.1           18.7              181.0       3750.0\n",
       "1                       39.5           17.4              186.0       3800.0\n",
       "New row name            40.3           18.0              195.0       3250.0\n",
       "3                        NaN            NaN                NaN          NaN\n",
       "4                       36.7           19.3              193.0       3450.0\n",
       "...                      ...            ...                ...          ...\n",
       "339                      NaN            NaN                NaN          NaN\n",
       "340                     46.8           14.3              215.0       4850.0\n",
       "341                     50.4           15.7              222.0       5750.0\n",
       "342                     45.2           14.8              212.0       5200.0\n",
       "343                     49.9           16.1              213.0       5400.0\n",
       "\n",
       "[344 rows x 4 columns]"
      ]
     },
     "execution_count": 30,
     "metadata": {},
     "output_type": "execute_result"
    }
   ],
   "source": [
    "df.loc[:, num_cols]"
   ]
  },
  {
   "cell_type": "markdown",
   "metadata": {},
   "source": [
    "The following is an abbreviation for the same thing."
   ]
  },
  {
   "cell_type": "code",
   "execution_count": 31,
   "metadata": {
    "cell_id": "0a7a2f4d72c14df6847c32053bf2356b",
    "deepnote_cell_type": "code",
    "deepnote_to_be_reexecuted": false,
    "execution_millis": 17,
    "execution_start": 1666633000068,
    "source_hash": "ca51db83",
    "tags": []
   },
   "outputs": [
    {
     "data": {
      "application/vnd.deepnote.dataframe.v3+json": {
       "column_count": 4,
       "columns": [
        {
         "dtype": "float64",
         "name": "bill_length_mm",
         "stats": {
          "histogram": [
           {
            "bin_end": 34.85,
            "bin_start": 32.1,
            "count": 9
           },
           {
            "bin_end": 37.6,
            "bin_start": 34.85,
            "count": 40
           },
           {
            "bin_end": 40.35,
            "bin_start": 37.6,
            "count": 57
           },
           {
            "bin_end": 43.1,
            "bin_start": 40.35,
            "count": 48
           },
           {
            "bin_end": 45.85,
            "bin_start": 43.1,
            "count": 49
           },
           {
            "bin_end": 48.6,
            "bin_start": 45.85,
            "count": 55
           },
           {
            "bin_end": 51.35,
            "bin_start": 48.6,
            "count": 61
           },
           {
            "bin_end": 54.1,
            "bin_start": 51.35,
            "count": 16
           },
           {
            "bin_end": 56.85,
            "bin_start": 54.1,
            "count": 5
           },
           {
            "bin_end": 59.6,
            "bin_start": 56.85,
            "count": 2
           }
          ],
          "max": "59.6",
          "min": "32.1",
          "nan_count": 2,
          "unique_count": 164
         }
        },
        {
         "dtype": "float64",
         "name": "bill_depth_mm",
         "stats": {
          "histogram": [
           {
            "bin_end": 13.94,
            "bin_start": 13.1,
            "count": 21
           },
           {
            "bin_end": 14.78,
            "bin_start": 13.94,
            "count": 35
           },
           {
            "bin_end": 15.620000000000001,
            "bin_start": 14.78,
            "count": 32
           },
           {
            "bin_end": 16.46,
            "bin_start": 15.620000000000001,
            "count": 34
           },
           {
            "bin_end": 17.3,
            "bin_start": 16.46,
            "count": 44
           },
           {
            "bin_end": 18.14,
            "bin_start": 17.3,
            "count": 55
           },
           {
            "bin_end": 18.98,
            "bin_start": 18.14,
            "count": 56
           },
           {
            "bin_end": 19.82,
            "bin_start": 18.98,
            "count": 39
           },
           {
            "bin_end": 20.66,
            "bin_start": 19.82,
            "count": 16
           },
           {
            "bin_end": 21.5,
            "bin_start": 20.66,
            "count": 10
           }
          ],
          "max": "21.5",
          "min": "13.1",
          "nan_count": 2,
          "unique_count": 80
         }
        },
        {
         "dtype": "float64",
         "name": "flipper_length_mm",
         "stats": {
          "histogram": [
           {
            "bin_end": 177.9,
            "bin_start": 172,
            "count": 3
           },
           {
            "bin_end": 183.8,
            "bin_start": 177.9,
            "count": 22
           },
           {
            "bin_end": 189.7,
            "bin_start": 183.8,
            "count": 52
           },
           {
            "bin_end": 195.6,
            "bin_start": 189.7,
            "count": 79
           },
           {
            "bin_end": 201.5,
            "bin_start": 195.6,
            "count": 44
           },
           {
            "bin_end": 207.4,
            "bin_start": 201.5,
            "count": 15
           },
           {
            "bin_end": 213.3,
            "bin_start": 207.4,
            "count": 42
           },
           {
            "bin_end": 219.2,
            "bin_start": 213.3,
            "count": 42
           },
           {
            "bin_end": 225.1,
            "bin_start": 219.2,
            "count": 28
           },
           {
            "bin_end": 231,
            "bin_start": 225.1,
            "count": 15
           }
          ],
          "max": "231.0",
          "min": "172.0",
          "nan_count": 2,
          "unique_count": 55
         }
        },
        {
         "dtype": "float64",
         "name": "body_mass_g",
         "stats": {
          "histogram": [
           {
            "bin_end": 3060,
            "bin_start": 2700,
            "count": 15
           },
           {
            "bin_end": 3420,
            "bin_start": 3060,
            "count": 43
           },
           {
            "bin_end": 3780,
            "bin_start": 3420,
            "count": 71
           },
           {
            "bin_end": 4140,
            "bin_start": 3780,
            "count": 53
           },
           {
            "bin_end": 4500,
            "bin_start": 4140,
            "count": 42
           },
           {
            "bin_end": 4860,
            "bin_start": 4500,
            "count": 41
           },
           {
            "bin_end": 5220,
            "bin_start": 4860,
            "count": 28
           },
           {
            "bin_end": 5580,
            "bin_start": 5220,
            "count": 27
           },
           {
            "bin_end": 5940,
            "bin_start": 5580,
            "count": 16
           },
           {
            "bin_end": 6300,
            "bin_start": 5940,
            "count": 6
           }
          ],
          "max": "6300.0",
          "min": "2700.0",
          "nan_count": 2,
          "unique_count": 94
         }
        },
        {
         "dtype": "object",
         "name": "_deepnote_index_column"
        }
       ],
       "row_count": 344,
       "rows": [
        {
         "_deepnote_index_column": "0",
         "bill_depth_mm": "18.7",
         "bill_length_mm": "39.1",
         "body_mass_g": "3750.0",
         "flipper_length_mm": "181.0"
        },
        {
         "_deepnote_index_column": "1",
         "bill_depth_mm": "17.4",
         "bill_length_mm": "39.5",
         "body_mass_g": "3800.0",
         "flipper_length_mm": "186.0"
        },
        {
         "_deepnote_index_column": "New row name",
         "bill_depth_mm": "18.0",
         "bill_length_mm": "40.3",
         "body_mass_g": "3250.0",
         "flipper_length_mm": "195.0"
        },
        {
         "_deepnote_index_column": "3",
         "bill_depth_mm": "nan",
         "bill_length_mm": "nan",
         "body_mass_g": "nan",
         "flipper_length_mm": "nan"
        },
        {
         "_deepnote_index_column": "4",
         "bill_depth_mm": "19.3",
         "bill_length_mm": "36.7",
         "body_mass_g": "3450.0",
         "flipper_length_mm": "193.0"
        },
        {
         "_deepnote_index_column": "5",
         "bill_depth_mm": "20.6",
         "bill_length_mm": "39.3",
         "body_mass_g": "3650.0",
         "flipper_length_mm": "190.0"
        },
        {
         "_deepnote_index_column": "6",
         "bill_depth_mm": "17.8",
         "bill_length_mm": "38.9",
         "body_mass_g": "3625.0",
         "flipper_length_mm": "181.0"
        },
        {
         "_deepnote_index_column": "7",
         "bill_depth_mm": "19.6",
         "bill_length_mm": "39.2",
         "body_mass_g": "4675.0",
         "flipper_length_mm": "195.0"
        },
        {
         "_deepnote_index_column": "8",
         "bill_depth_mm": "18.1",
         "bill_length_mm": "34.1",
         "body_mass_g": "3475.0",
         "flipper_length_mm": "193.0"
        },
        {
         "_deepnote_index_column": "9",
         "bill_depth_mm": "20.2",
         "bill_length_mm": "42.0",
         "body_mass_g": "4250.0",
         "flipper_length_mm": "190.0"
        }
       ]
      },
      "text/html": [
       "<div>\n",
       "<style scoped>\n",
       "    .dataframe tbody tr th:only-of-type {\n",
       "        vertical-align: middle;\n",
       "    }\n",
       "\n",
       "    .dataframe tbody tr th {\n",
       "        vertical-align: top;\n",
       "    }\n",
       "\n",
       "    .dataframe thead th {\n",
       "        text-align: right;\n",
       "    }\n",
       "</style>\n",
       "<table border=\"1\" class=\"dataframe\">\n",
       "  <thead>\n",
       "    <tr style=\"text-align: right;\">\n",
       "      <th></th>\n",
       "      <th>bill_length_mm</th>\n",
       "      <th>bill_depth_mm</th>\n",
       "      <th>flipper_length_mm</th>\n",
       "      <th>body_mass_g</th>\n",
       "    </tr>\n",
       "  </thead>\n",
       "  <tbody>\n",
       "    <tr>\n",
       "      <th>0</th>\n",
       "      <td>39.1</td>\n",
       "      <td>18.7</td>\n",
       "      <td>181.0</td>\n",
       "      <td>3750.0</td>\n",
       "    </tr>\n",
       "    <tr>\n",
       "      <th>1</th>\n",
       "      <td>39.5</td>\n",
       "      <td>17.4</td>\n",
       "      <td>186.0</td>\n",
       "      <td>3800.0</td>\n",
       "    </tr>\n",
       "    <tr>\n",
       "      <th>New row name</th>\n",
       "      <td>40.3</td>\n",
       "      <td>18.0</td>\n",
       "      <td>195.0</td>\n",
       "      <td>3250.0</td>\n",
       "    </tr>\n",
       "    <tr>\n",
       "      <th>3</th>\n",
       "      <td>NaN</td>\n",
       "      <td>NaN</td>\n",
       "      <td>NaN</td>\n",
       "      <td>NaN</td>\n",
       "    </tr>\n",
       "    <tr>\n",
       "      <th>4</th>\n",
       "      <td>36.7</td>\n",
       "      <td>19.3</td>\n",
       "      <td>193.0</td>\n",
       "      <td>3450.0</td>\n",
       "    </tr>\n",
       "    <tr>\n",
       "      <th>...</th>\n",
       "      <td>...</td>\n",
       "      <td>...</td>\n",
       "      <td>...</td>\n",
       "      <td>...</td>\n",
       "    </tr>\n",
       "    <tr>\n",
       "      <th>339</th>\n",
       "      <td>NaN</td>\n",
       "      <td>NaN</td>\n",
       "      <td>NaN</td>\n",
       "      <td>NaN</td>\n",
       "    </tr>\n",
       "    <tr>\n",
       "      <th>340</th>\n",
       "      <td>46.8</td>\n",
       "      <td>14.3</td>\n",
       "      <td>215.0</td>\n",
       "      <td>4850.0</td>\n",
       "    </tr>\n",
       "    <tr>\n",
       "      <th>341</th>\n",
       "      <td>50.4</td>\n",
       "      <td>15.7</td>\n",
       "      <td>222.0</td>\n",
       "      <td>5750.0</td>\n",
       "    </tr>\n",
       "    <tr>\n",
       "      <th>342</th>\n",
       "      <td>45.2</td>\n",
       "      <td>14.8</td>\n",
       "      <td>212.0</td>\n",
       "      <td>5200.0</td>\n",
       "    </tr>\n",
       "    <tr>\n",
       "      <th>343</th>\n",
       "      <td>49.9</td>\n",
       "      <td>16.1</td>\n",
       "      <td>213.0</td>\n",
       "      <td>5400.0</td>\n",
       "    </tr>\n",
       "  </tbody>\n",
       "</table>\n",
       "<p>344 rows × 4 columns</p>\n",
       "</div>"
      ],
      "text/plain": [
       "              bill_length_mm  bill_depth_mm  flipper_length_mm  body_mass_g\n",
       "0                       39.1           18.7              181.0       3750.0\n",
       "1                       39.5           17.4              186.0       3800.0\n",
       "New row name            40.3           18.0              195.0       3250.0\n",
       "3                        NaN            NaN                NaN          NaN\n",
       "4                       36.7           19.3              193.0       3450.0\n",
       "...                      ...            ...                ...          ...\n",
       "339                      NaN            NaN                NaN          NaN\n",
       "340                     46.8           14.3              215.0       4850.0\n",
       "341                     50.4           15.7              222.0       5750.0\n",
       "342                     45.2           14.8              212.0       5200.0\n",
       "343                     49.9           16.1              213.0       5400.0\n",
       "\n",
       "[344 rows x 4 columns]"
      ]
     },
     "execution_count": 31,
     "metadata": {},
     "output_type": "execute_result"
    }
   ],
   "source": [
    "df[num_cols]"
   ]
  },
  {
   "cell_type": "markdown",
   "metadata": {},
   "source": [
    "Let's save this sub-DataFrame."
   ]
  },
  {
   "cell_type": "code",
   "execution_count": 32,
   "metadata": {
    "cell_id": "5eb55db43e2c41f2a631e7f699ce95a6",
    "deepnote_cell_type": "code",
    "deepnote_to_be_reexecuted": false,
    "execution_millis": 1,
    "execution_start": 1666633043745,
    "source_hash": "e80e8e9d",
    "tags": []
   },
   "outputs": [],
   "source": [
    "df_sub = df[num_cols]"
   ]
  },
  {
   "cell_type": "code",
   "execution_count": 33,
   "metadata": {
    "cell_id": "64cd3c54c00f48a7a806dcbd5b2e2284",
    "deepnote_cell_type": "code",
    "deepnote_to_be_reexecuted": false,
    "execution_millis": 29,
    "execution_start": 1666633046893,
    "source_hash": "6a571ea1",
    "tags": []
   },
   "outputs": [
    {
     "data": {
      "application/vnd.deepnote.dataframe.v3+json": {
       "column_count": 4,
       "columns": [
        {
         "dtype": "float64",
         "name": "bill_length_mm",
         "stats": {
          "histogram": [
           {
            "bin_end": 34.85,
            "bin_start": 32.1,
            "count": 9
           },
           {
            "bin_end": 37.6,
            "bin_start": 34.85,
            "count": 40
           },
           {
            "bin_end": 40.35,
            "bin_start": 37.6,
            "count": 57
           },
           {
            "bin_end": 43.1,
            "bin_start": 40.35,
            "count": 48
           },
           {
            "bin_end": 45.85,
            "bin_start": 43.1,
            "count": 49
           },
           {
            "bin_end": 48.6,
            "bin_start": 45.85,
            "count": 55
           },
           {
            "bin_end": 51.35,
            "bin_start": 48.6,
            "count": 61
           },
           {
            "bin_end": 54.1,
            "bin_start": 51.35,
            "count": 16
           },
           {
            "bin_end": 56.85,
            "bin_start": 54.1,
            "count": 5
           },
           {
            "bin_end": 59.6,
            "bin_start": 56.85,
            "count": 2
           }
          ],
          "max": "59.6",
          "min": "32.1",
          "nan_count": 2,
          "unique_count": 164
         }
        },
        {
         "dtype": "float64",
         "name": "bill_depth_mm",
         "stats": {
          "histogram": [
           {
            "bin_end": 13.94,
            "bin_start": 13.1,
            "count": 21
           },
           {
            "bin_end": 14.78,
            "bin_start": 13.94,
            "count": 35
           },
           {
            "bin_end": 15.620000000000001,
            "bin_start": 14.78,
            "count": 32
           },
           {
            "bin_end": 16.46,
            "bin_start": 15.620000000000001,
            "count": 34
           },
           {
            "bin_end": 17.3,
            "bin_start": 16.46,
            "count": 44
           },
           {
            "bin_end": 18.14,
            "bin_start": 17.3,
            "count": 55
           },
           {
            "bin_end": 18.98,
            "bin_start": 18.14,
            "count": 56
           },
           {
            "bin_end": 19.82,
            "bin_start": 18.98,
            "count": 39
           },
           {
            "bin_end": 20.66,
            "bin_start": 19.82,
            "count": 16
           },
           {
            "bin_end": 21.5,
            "bin_start": 20.66,
            "count": 10
           }
          ],
          "max": "21.5",
          "min": "13.1",
          "nan_count": 2,
          "unique_count": 80
         }
        },
        {
         "dtype": "float64",
         "name": "flipper_length_mm",
         "stats": {
          "histogram": [
           {
            "bin_end": 177.9,
            "bin_start": 172,
            "count": 3
           },
           {
            "bin_end": 183.8,
            "bin_start": 177.9,
            "count": 22
           },
           {
            "bin_end": 189.7,
            "bin_start": 183.8,
            "count": 52
           },
           {
            "bin_end": 195.6,
            "bin_start": 189.7,
            "count": 79
           },
           {
            "bin_end": 201.5,
            "bin_start": 195.6,
            "count": 44
           },
           {
            "bin_end": 207.4,
            "bin_start": 201.5,
            "count": 15
           },
           {
            "bin_end": 213.3,
            "bin_start": 207.4,
            "count": 42
           },
           {
            "bin_end": 219.2,
            "bin_start": 213.3,
            "count": 42
           },
           {
            "bin_end": 225.1,
            "bin_start": 219.2,
            "count": 28
           },
           {
            "bin_end": 231,
            "bin_start": 225.1,
            "count": 15
           }
          ],
          "max": "231.0",
          "min": "172.0",
          "nan_count": 2,
          "unique_count": 55
         }
        },
        {
         "dtype": "float64",
         "name": "body_mass_g",
         "stats": {
          "histogram": [
           {
            "bin_end": 3060,
            "bin_start": 2700,
            "count": 15
           },
           {
            "bin_end": 3420,
            "bin_start": 3060,
            "count": 43
           },
           {
            "bin_end": 3780,
            "bin_start": 3420,
            "count": 71
           },
           {
            "bin_end": 4140,
            "bin_start": 3780,
            "count": 53
           },
           {
            "bin_end": 4500,
            "bin_start": 4140,
            "count": 42
           },
           {
            "bin_end": 4860,
            "bin_start": 4500,
            "count": 41
           },
           {
            "bin_end": 5220,
            "bin_start": 4860,
            "count": 28
           },
           {
            "bin_end": 5580,
            "bin_start": 5220,
            "count": 27
           },
           {
            "bin_end": 5940,
            "bin_start": 5580,
            "count": 16
           },
           {
            "bin_end": 6300,
            "bin_start": 5940,
            "count": 6
           }
          ],
          "max": "6300.0",
          "min": "2700.0",
          "nan_count": 2,
          "unique_count": 94
         }
        },
        {
         "dtype": "object",
         "name": "_deepnote_index_column"
        }
       ],
       "row_count": 344,
       "rows": [
        {
         "_deepnote_index_column": "0",
         "bill_depth_mm": "18.7",
         "bill_length_mm": "39.1",
         "body_mass_g": "3750.0",
         "flipper_length_mm": "181.0"
        },
        {
         "_deepnote_index_column": "1",
         "bill_depth_mm": "17.4",
         "bill_length_mm": "39.5",
         "body_mass_g": "3800.0",
         "flipper_length_mm": "186.0"
        },
        {
         "_deepnote_index_column": "New row name",
         "bill_depth_mm": "18.0",
         "bill_length_mm": "40.3",
         "body_mass_g": "3250.0",
         "flipper_length_mm": "195.0"
        },
        {
         "_deepnote_index_column": "3",
         "bill_depth_mm": "nan",
         "bill_length_mm": "nan",
         "body_mass_g": "nan",
         "flipper_length_mm": "nan"
        },
        {
         "_deepnote_index_column": "4",
         "bill_depth_mm": "19.3",
         "bill_length_mm": "36.7",
         "body_mass_g": "3450.0",
         "flipper_length_mm": "193.0"
        },
        {
         "_deepnote_index_column": "5",
         "bill_depth_mm": "20.6",
         "bill_length_mm": "39.3",
         "body_mass_g": "3650.0",
         "flipper_length_mm": "190.0"
        },
        {
         "_deepnote_index_column": "6",
         "bill_depth_mm": "17.8",
         "bill_length_mm": "38.9",
         "body_mass_g": "3625.0",
         "flipper_length_mm": "181.0"
        },
        {
         "_deepnote_index_column": "7",
         "bill_depth_mm": "19.6",
         "bill_length_mm": "39.2",
         "body_mass_g": "4675.0",
         "flipper_length_mm": "195.0"
        },
        {
         "_deepnote_index_column": "8",
         "bill_depth_mm": "18.1",
         "bill_length_mm": "34.1",
         "body_mass_g": "3475.0",
         "flipper_length_mm": "193.0"
        },
        {
         "_deepnote_index_column": "9",
         "bill_depth_mm": "20.2",
         "bill_length_mm": "42.0",
         "body_mass_g": "4250.0",
         "flipper_length_mm": "190.0"
        }
       ]
      },
      "text/html": [
       "<div>\n",
       "<style scoped>\n",
       "    .dataframe tbody tr th:only-of-type {\n",
       "        vertical-align: middle;\n",
       "    }\n",
       "\n",
       "    .dataframe tbody tr th {\n",
       "        vertical-align: top;\n",
       "    }\n",
       "\n",
       "    .dataframe thead th {\n",
       "        text-align: right;\n",
       "    }\n",
       "</style>\n",
       "<table border=\"1\" class=\"dataframe\">\n",
       "  <thead>\n",
       "    <tr style=\"text-align: right;\">\n",
       "      <th></th>\n",
       "      <th>bill_length_mm</th>\n",
       "      <th>bill_depth_mm</th>\n",
       "      <th>flipper_length_mm</th>\n",
       "      <th>body_mass_g</th>\n",
       "    </tr>\n",
       "  </thead>\n",
       "  <tbody>\n",
       "    <tr>\n",
       "      <th>0</th>\n",
       "      <td>39.1</td>\n",
       "      <td>18.7</td>\n",
       "      <td>181.0</td>\n",
       "      <td>3750.0</td>\n",
       "    </tr>\n",
       "    <tr>\n",
       "      <th>1</th>\n",
       "      <td>39.5</td>\n",
       "      <td>17.4</td>\n",
       "      <td>186.0</td>\n",
       "      <td>3800.0</td>\n",
       "    </tr>\n",
       "    <tr>\n",
       "      <th>New row name</th>\n",
       "      <td>40.3</td>\n",
       "      <td>18.0</td>\n",
       "      <td>195.0</td>\n",
       "      <td>3250.0</td>\n",
       "    </tr>\n",
       "    <tr>\n",
       "      <th>3</th>\n",
       "      <td>NaN</td>\n",
       "      <td>NaN</td>\n",
       "      <td>NaN</td>\n",
       "      <td>NaN</td>\n",
       "    </tr>\n",
       "    <tr>\n",
       "      <th>4</th>\n",
       "      <td>36.7</td>\n",
       "      <td>19.3</td>\n",
       "      <td>193.0</td>\n",
       "      <td>3450.0</td>\n",
       "    </tr>\n",
       "    <tr>\n",
       "      <th>...</th>\n",
       "      <td>...</td>\n",
       "      <td>...</td>\n",
       "      <td>...</td>\n",
       "      <td>...</td>\n",
       "    </tr>\n",
       "    <tr>\n",
       "      <th>339</th>\n",
       "      <td>NaN</td>\n",
       "      <td>NaN</td>\n",
       "      <td>NaN</td>\n",
       "      <td>NaN</td>\n",
       "    </tr>\n",
       "    <tr>\n",
       "      <th>340</th>\n",
       "      <td>46.8</td>\n",
       "      <td>14.3</td>\n",
       "      <td>215.0</td>\n",
       "      <td>4850.0</td>\n",
       "    </tr>\n",
       "    <tr>\n",
       "      <th>341</th>\n",
       "      <td>50.4</td>\n",
       "      <td>15.7</td>\n",
       "      <td>222.0</td>\n",
       "      <td>5750.0</td>\n",
       "    </tr>\n",
       "    <tr>\n",
       "      <th>342</th>\n",
       "      <td>45.2</td>\n",
       "      <td>14.8</td>\n",
       "      <td>212.0</td>\n",
       "      <td>5200.0</td>\n",
       "    </tr>\n",
       "    <tr>\n",
       "      <th>343</th>\n",
       "      <td>49.9</td>\n",
       "      <td>16.1</td>\n",
       "      <td>213.0</td>\n",
       "      <td>5400.0</td>\n",
       "    </tr>\n",
       "  </tbody>\n",
       "</table>\n",
       "<p>344 rows × 4 columns</p>\n",
       "</div>"
      ],
      "text/plain": [
       "              bill_length_mm  bill_depth_mm  flipper_length_mm  body_mass_g\n",
       "0                       39.1           18.7              181.0       3750.0\n",
       "1                       39.5           17.4              186.0       3800.0\n",
       "New row name            40.3           18.0              195.0       3250.0\n",
       "3                        NaN            NaN                NaN          NaN\n",
       "4                       36.7           19.3              193.0       3450.0\n",
       "...                      ...            ...                ...          ...\n",
       "339                      NaN            NaN                NaN          NaN\n",
       "340                     46.8           14.3              215.0       4850.0\n",
       "341                     50.4           15.7              222.0       5750.0\n",
       "342                     45.2           14.8              212.0       5200.0\n",
       "343                     49.9           16.1              213.0       5400.0\n",
       "\n",
       "[344 rows x 4 columns]"
      ]
     },
     "execution_count": 33,
     "metadata": {},
     "output_type": "execute_result"
    }
   ],
   "source": [
    "df_sub"
   ]
  },
  {
   "cell_type": "markdown",
   "metadata": {},
   "source": [
    "We want to use some code like the following.\n",
    "\n",
    "```\n",
    "# Subtract a constant from each column so the mean is 0\n",
    "df_sub.apply(???, axis=???)\n",
    "```"
   ]
  },
  {
   "cell_type": "markdown",
   "metadata": {},
   "source": [
    "Here is the correct formula."
   ]
  },
  {
   "cell_type": "code",
   "execution_count": 35,
   "metadata": {
    "cell_id": "949b5c134a744dfda43ba4ff96b02d84",
    "deepnote_cell_type": "code",
    "deepnote_to_be_reexecuted": false,
    "execution_millis": 6,
    "execution_start": 1666633387116,
    "source_hash": "404d2ee",
    "tags": []
   },
   "outputs": [],
   "source": [
    "# We're plugging in a column at a time, so use axis=0\n",
    "df2 = df_sub.apply(lambda x: x-x.mean(), axis=0)"
   ]
  },
  {
   "cell_type": "markdown",
   "metadata": {},
   "source": [
    "The code `x-x.mean()` can be confusing, because `x` represents a pandas Series and `x.mean()` represents a number.  Here is a specific example of computing pandas Series minus a number in Python."
   ]
  },
  {
   "cell_type": "code",
   "execution_count": 37,
   "metadata": {
    "cell_id": "5fd50864b03644dfbe9f52ac23a2a36a",
    "deepnote_cell_type": "code",
    "deepnote_to_be_reexecuted": false,
    "execution_millis": 3,
    "execution_start": 1666633550645,
    "source_hash": "af5526e",
    "tags": []
   },
   "outputs": [
    {
     "data": {
      "text/plain": [
       "0                9.1\n",
       "1                9.5\n",
       "New row name    10.3\n",
       "3                NaN\n",
       "4                6.7\n",
       "                ... \n",
       "339              NaN\n",
       "340             16.8\n",
       "341             20.4\n",
       "342             15.2\n",
       "343             19.9\n",
       "Name: bill_length_mm, Length: 344, dtype: float64"
      ]
     },
     "execution_count": 37,
     "metadata": {},
     "output_type": "execute_result"
    }
   ],
   "source": [
    "df[\"bill_length_mm\"] - 30"
   ]
  },
  {
   "cell_type": "markdown",
   "metadata": {},
   "source": [
    "We want the columns to have mean 0.  The following says that (up to numerical precision issues), these means are 0 (or at least very close to 0)."
   ]
  },
  {
   "cell_type": "code",
   "execution_count": 36,
   "metadata": {
    "cell_id": "a4073d94e8bb431cad2148623f929fe0",
    "deepnote_cell_type": "code",
    "deepnote_to_be_reexecuted": false,
    "execution_millis": 4,
    "execution_start": 1666633410300,
    "source_hash": "66030879",
    "tags": []
   },
   "outputs": [
    {
     "data": {
      "text/plain": [
       "bill_length_mm       6.648353e-16\n",
       "bill_depth_mm       -2.825550e-15\n",
       "flipper_length_mm   -1.130220e-14\n",
       "body_mass_g          8.509892e-14\n",
       "dtype: float64"
      ]
     },
     "execution_count": 36,
     "metadata": {},
     "output_type": "execute_result"
    }
   ],
   "source": [
    "df2.mean(axis=0)"
   ]
  },
  {
   "cell_type": "markdown",
   "metadata": {
    "cell_id": "13398af5932c4c4688b9a40f2e10fc86",
    "deepnote_cell_type": "markdown",
    "tags": []
   },
   "source": [
    "## More examples"
   ]
  },
  {
   "cell_type": "markdown",
   "metadata": {
    "cell_id": "baf1971ace2644d894bcf0feb31cd122",
    "deepnote_cell_type": "markdown",
    "tags": []
   },
   "source": [
    "This doesn't always work (for example, some websites block it), but sometimes pandas can read tables directly from websites.  The `pd.read_html` function returns a list of html tables (as DataFrames) that pandas can find on the website.\n",
    "\n",
    "Here are some websites for which `pd.read_html` does work.\n",
    "\n",
    "* [https://en.wikipedia.org/wiki/Irvine,_California](https://en.wikipedia.org/wiki/Irvine,_California)\n",
    "* [https://www.usclimatedata.com/climate/irvine/california/united-states/usca2494](https://www.usclimatedata.com/climate/irvine/california/united-states/usca2494)\n",
    "* [https://www.usclimatedata.com/climate/new-york/new-york/united-states/usny0996](https://www.usclimatedata.com/climate/irvine/california/united-states/usca2494)"
   ]
  },
  {
   "cell_type": "code",
   "execution_count": 38,
   "metadata": {
    "cell_id": "1a83dd84355146ccba74275881c1f664",
    "deepnote_cell_type": "code",
    "deepnote_to_be_reexecuted": false,
    "execution_millis": 0,
    "execution_start": 1666633605572,
    "source_hash": "48d570d1",
    "tags": []
   },
   "outputs": [],
   "source": [
    "link = \"https://www.usclimatedata.com/climate/irvine/california/united-states/usca2494\""
   ]
  },
  {
   "cell_type": "markdown",
   "metadata": {},
   "source": [
    "The function `pd.read_html` returns a list of DataFrames."
   ]
  },
  {
   "cell_type": "code",
   "execution_count": 39,
   "metadata": {
    "cell_id": "08aef2022b174f77bfb4c68b32efb505",
    "deepnote_cell_type": "code",
    "deepnote_to_be_reexecuted": false,
    "execution_millis": 581,
    "execution_start": 1666633637498,
    "source_hash": "a957ba01",
    "tags": []
   },
   "outputs": [],
   "source": [
    "df_list = pd.read_html(link)"
   ]
  },
  {
   "cell_type": "code",
   "execution_count": 40,
   "metadata": {
    "cell_id": "ff62b4762d6041179a05292524cfb867",
    "deepnote_cell_type": "code",
    "deepnote_to_be_reexecuted": false,
    "execution_millis": 17,
    "execution_start": 1666633640708,
    "source_hash": "edda23cb",
    "tags": []
   },
   "outputs": [
    {
     "data": {
      "application/vnd.deepnote.dataframe.v3+json": {
       "column_count": 7,
       "columns": [
        {
         "dtype": "object",
         "name": "Unnamed: 0",
         "stats": {
          "categories": [
           {
            "count": 1,
            "name": "Average high in ºF Av. high Hi"
           },
           {
            "count": 1,
            "name": "Average low in ºF Av. low Lo"
           },
           {
            "count": 1,
            "name": "Av. precipitation in inch Av. precip. Pre."
           }
          ],
          "nan_count": 0,
          "unique_count": 3
         }
        },
        {
         "dtype": "float64",
         "name": "JanJa",
         "stats": {
          "histogram": [
           {
            "bin_end": 8.957,
            "bin_start": 2.73,
            "count": 1
           },
           {
            "bin_end": 15.184000000000001,
            "bin_start": 8.957,
            "count": 0
           },
           {
            "bin_end": 21.411,
            "bin_start": 15.184000000000001,
            "count": 0
           },
           {
            "bin_end": 27.638,
            "bin_start": 21.411,
            "count": 0
           },
           {
            "bin_end": 33.865,
            "bin_start": 27.638,
            "count": 0
           },
           {
            "bin_end": 40.092,
            "bin_start": 33.865,
            "count": 0
           },
           {
            "bin_end": 46.318999999999996,
            "bin_start": 40.092,
            "count": 0
           },
           {
            "bin_end": 52.546,
            "bin_start": 46.318999999999996,
            "count": 1
           },
           {
            "bin_end": 58.773,
            "bin_start": 52.546,
            "count": 0
           },
           {
            "bin_end": 65,
            "bin_start": 58.773,
            "count": 1
           }
          ],
          "max": "65.0",
          "min": "2.73",
          "nan_count": 0,
          "unique_count": 3
         }
        },
        {
         "dtype": "float64",
         "name": "FebFe",
         "stats": {
          "histogram": [
           {
            "bin_end": 9.767,
            "bin_start": 3.63,
            "count": 1
           },
           {
            "bin_end": 15.904,
            "bin_start": 9.767,
            "count": 0
           },
           {
            "bin_end": 22.040999999999997,
            "bin_start": 15.904,
            "count": 0
           },
           {
            "bin_end": 28.177999999999997,
            "bin_start": 22.040999999999997,
            "count": 0
           },
           {
            "bin_end": 34.315,
            "bin_start": 28.177999999999997,
            "count": 0
           },
           {
            "bin_end": 40.452,
            "bin_start": 34.315,
            "count": 0
           },
           {
            "bin_end": 46.589,
            "bin_start": 40.452,
            "count": 0
           },
           {
            "bin_end": 52.726,
            "bin_start": 46.589,
            "count": 1
           },
           {
            "bin_end": 58.863,
            "bin_start": 52.726,
            "count": 0
           },
           {
            "bin_end": 65,
            "bin_start": 58.863,
            "count": 1
           }
          ],
          "max": "65.0",
          "min": "3.63",
          "nan_count": 0,
          "unique_count": 3
         }
        },
        {
         "dtype": "float64",
         "name": "MarMa",
         "stats": {
          "histogram": [
           {
            "bin_end": 8.896,
            "bin_start": 2.44,
            "count": 1
           },
           {
            "bin_end": 15.352,
            "bin_start": 8.896,
            "count": 0
           },
           {
            "bin_end": 21.808000000000003,
            "bin_start": 15.352,
            "count": 0
           },
           {
            "bin_end": 28.264000000000003,
            "bin_start": 21.808000000000003,
            "count": 0
           },
           {
            "bin_end": 34.72,
            "bin_start": 28.264000000000003,
            "count": 0
           },
           {
            "bin_end": 41.176,
            "bin_start": 34.72,
            "count": 0
           },
           {
            "bin_end": 47.632,
            "bin_start": 41.176,
            "count": 0
           },
           {
            "bin_end": 54.088,
            "bin_start": 47.632,
            "count": 1
           },
           {
            "bin_end": 60.544000000000004,
            "bin_start": 54.088,
            "count": 0
           },
           {
            "bin_end": 67,
            "bin_start": 60.544000000000004,
            "count": 1
           }
          ],
          "max": "67.0",
          "min": "2.44",
          "nan_count": 0,
          "unique_count": 3
         }
        },
        {
         "dtype": "float64",
         "name": "AprAp",
         "stats": {
          "histogram": [
           {
            "bin_end": 7.8740000000000006,
            "bin_start": 0.86,
            "count": 1
           },
           {
            "bin_end": 14.888,
            "bin_start": 7.8740000000000006,
            "count": 0
           },
           {
            "bin_end": 21.902,
            "bin_start": 14.888,
            "count": 0
           },
           {
            "bin_end": 28.916,
            "bin_start": 21.902,
            "count": 0
           },
           {
            "bin_end": 35.93,
            "bin_start": 28.916,
            "count": 0
           },
           {
            "bin_end": 42.944,
            "bin_start": 35.93,
            "count": 0
           },
           {
            "bin_end": 49.958,
            "bin_start": 42.944,
            "count": 0
           },
           {
            "bin_end": 56.972,
            "bin_start": 49.958,
            "count": 1
           },
           {
            "bin_end": 63.986000000000004,
            "bin_start": 56.972,
            "count": 0
           },
           {
            "bin_end": 71,
            "bin_start": 63.986000000000004,
            "count": 1
           }
          ],
          "max": "71.0",
          "min": "0.86",
          "nan_count": 0,
          "unique_count": 3
         }
        },
        {
         "dtype": "float64",
         "name": "MayMa",
         "stats": {
          "histogram": [
           {
            "bin_end": 7.507,
            "bin_start": 0.23,
            "count": 1
           },
           {
            "bin_end": 14.783999999999999,
            "bin_start": 7.507,
            "count": 0
           },
           {
            "bin_end": 22.060999999999996,
            "bin_start": 14.783999999999999,
            "count": 0
           },
           {
            "bin_end": 29.337999999999997,
            "bin_start": 22.060999999999996,
            "count": 0
           },
           {
            "bin_end": 36.614999999999995,
            "bin_start": 29.337999999999997,
            "count": 0
           },
           {
            "bin_end": 43.89199999999999,
            "bin_start": 36.614999999999995,
            "count": 0
           },
           {
            "bin_end": 51.16899999999999,
            "bin_start": 43.89199999999999,
            "count": 0
           },
           {
            "bin_end": 58.44599999999999,
            "bin_start": 51.16899999999999,
            "count": 1
           },
           {
            "bin_end": 65.723,
            "bin_start": 58.44599999999999,
            "count": 0
           },
           {
            "bin_end": 73,
            "bin_start": 65.723,
            "count": 1
           }
          ],
          "max": "73.0",
          "min": "0.23",
          "nan_count": 0,
          "unique_count": 3
         }
        },
        {
         "dtype": "float64",
         "name": "JunJu",
         "stats": {
          "histogram": [
           {
            "bin_end": 7.699000000000001,
            "bin_start": 0.11,
            "count": 1
           },
           {
            "bin_end": 15.288,
            "bin_start": 7.699000000000001,
            "count": 0
           },
           {
            "bin_end": 22.877000000000002,
            "bin_start": 15.288,
            "count": 0
           },
           {
            "bin_end": 30.466,
            "bin_start": 22.877000000000002,
            "count": 0
           },
           {
            "bin_end": 38.055,
            "bin_start": 30.466,
            "count": 0
           },
           {
            "bin_end": 45.644000000000005,
            "bin_start": 38.055,
            "count": 0
           },
           {
            "bin_end": 53.233000000000004,
            "bin_start": 45.644000000000005,
            "count": 0
           },
           {
            "bin_end": 60.822,
            "bin_start": 53.233000000000004,
            "count": 1
           },
           {
            "bin_end": 68.411,
            "bin_start": 60.822,
            "count": 0
           },
           {
            "bin_end": 76,
            "bin_start": 68.411,
            "count": 1
           }
          ],
          "max": "76.0",
          "min": "0.11",
          "nan_count": 0,
          "unique_count": 3
         }
        },
        {
         "dtype": "int64",
         "name": "_deepnote_index_column"
        }
       ],
       "row_count": 3,
       "rows": [
        {
         "AprAp": "71.0",
         "FebFe": "65.0",
         "JanJa": "65.0",
         "JunJu": "76.0",
         "MarMa": "67.0",
         "MayMa": "73.0",
         "Unnamed: 0": "Average high in ºF Av. high Hi",
         "_deepnote_index_column": "0"
        },
        {
         "AprAp": "51.0",
         "FebFe": "48.0",
         "JanJa": "47.0",
         "JunJu": "59.0",
         "MarMa": "49.0",
         "MayMa": "56.0",
         "Unnamed: 0": "Average low in ºF Av. low Lo",
         "_deepnote_index_column": "1"
        },
        {
         "AprAp": "0.86",
         "FebFe": "3.63",
         "JanJa": "2.73",
         "JunJu": "0.11",
         "MarMa": "2.44",
         "MayMa": "0.23",
         "Unnamed: 0": "Av. precipitation in inch Av. precip. Pre.",
         "_deepnote_index_column": "2"
        }
       ]
      },
      "text/html": [
       "<div>\n",
       "<style scoped>\n",
       "    .dataframe tbody tr th:only-of-type {\n",
       "        vertical-align: middle;\n",
       "    }\n",
       "\n",
       "    .dataframe tbody tr th {\n",
       "        vertical-align: top;\n",
       "    }\n",
       "\n",
       "    .dataframe thead th {\n",
       "        text-align: right;\n",
       "    }\n",
       "</style>\n",
       "<table border=\"1\" class=\"dataframe\">\n",
       "  <thead>\n",
       "    <tr style=\"text-align: right;\">\n",
       "      <th></th>\n",
       "      <th>Unnamed: 0</th>\n",
       "      <th>JanJa</th>\n",
       "      <th>FebFe</th>\n",
       "      <th>MarMa</th>\n",
       "      <th>AprAp</th>\n",
       "      <th>MayMa</th>\n",
       "      <th>JunJu</th>\n",
       "    </tr>\n",
       "  </thead>\n",
       "  <tbody>\n",
       "    <tr>\n",
       "      <th>0</th>\n",
       "      <td>Average high in ºF Av. high Hi</td>\n",
       "      <td>65.00</td>\n",
       "      <td>65.00</td>\n",
       "      <td>67.00</td>\n",
       "      <td>71.00</td>\n",
       "      <td>73.00</td>\n",
       "      <td>76.00</td>\n",
       "    </tr>\n",
       "    <tr>\n",
       "      <th>1</th>\n",
       "      <td>Average low in ºF Av. low Lo</td>\n",
       "      <td>47.00</td>\n",
       "      <td>48.00</td>\n",
       "      <td>49.00</td>\n",
       "      <td>51.00</td>\n",
       "      <td>56.00</td>\n",
       "      <td>59.00</td>\n",
       "    </tr>\n",
       "    <tr>\n",
       "      <th>2</th>\n",
       "      <td>Av. precipitation in inch Av. precip. Pre.</td>\n",
       "      <td>2.73</td>\n",
       "      <td>3.63</td>\n",
       "      <td>2.44</td>\n",
       "      <td>0.86</td>\n",
       "      <td>0.23</td>\n",
       "      <td>0.11</td>\n",
       "    </tr>\n",
       "  </tbody>\n",
       "</table>\n",
       "</div>"
      ],
      "text/plain": [
       "                                   Unnamed: 0  JanJa  FebFe  MarMa  AprAp  \\\n",
       "0              Average high in ºF Av. high Hi  65.00  65.00  67.00  71.00   \n",
       "1                Average low in ºF Av. low Lo  47.00  48.00  49.00  51.00   \n",
       "2  Av. precipitation in inch Av. precip. Pre.   2.73   3.63   2.44   0.86   \n",
       "\n",
       "   MayMa  JunJu  \n",
       "0  73.00  76.00  \n",
       "1  56.00  59.00  \n",
       "2   0.23   0.11  "
      ]
     },
     "execution_count": 40,
     "metadata": {},
     "output_type": "execute_result"
    }
   ],
   "source": [
    "df_list[0]"
   ]
  },
  {
   "cell_type": "code",
   "execution_count": 41,
   "metadata": {
    "cell_id": "458ecd6c6b2148f7bdc09afab85c6f61",
    "deepnote_cell_type": "code",
    "deepnote_to_be_reexecuted": false,
    "execution_millis": 7,
    "execution_start": 1666633670943,
    "source_hash": "8f995d84",
    "tags": []
   },
   "outputs": [
    {
     "data": {
      "application/vnd.deepnote.dataframe.v3+json": {
       "column_count": 7,
       "columns": [
        {
         "dtype": "object",
         "name": "Unnamed: 0",
         "stats": {
          "categories": [
           {
            "count": 1,
            "name": "Average high in ºF Av. high Hi"
           },
           {
            "count": 1,
            "name": "Average low in ºF Av. low Lo"
           },
           {
            "count": 1,
            "name": "Av. precipitation in inch Av. precip. Pre."
           }
          ],
          "nan_count": 0,
          "unique_count": 3
         }
        },
        {
         "dtype": "float64",
         "name": "JulJu",
         "stats": {
          "histogram": [
           {
            "bin_end": 8.226999999999999,
            "bin_start": 0.03,
            "count": 1
           },
           {
            "bin_end": 16.424,
            "bin_start": 8.226999999999999,
            "count": 0
           },
           {
            "bin_end": 24.621,
            "bin_start": 16.424,
            "count": 0
           },
           {
            "bin_end": 32.818,
            "bin_start": 24.621,
            "count": 0
           },
           {
            "bin_end": 41.015,
            "bin_start": 32.818,
            "count": 0
           },
           {
            "bin_end": 49.211999999999996,
            "bin_start": 41.015,
            "count": 0
           },
           {
            "bin_end": 57.40899999999999,
            "bin_start": 49.211999999999996,
            "count": 0
           },
           {
            "bin_end": 65.606,
            "bin_start": 57.40899999999999,
            "count": 1
           },
           {
            "bin_end": 73.803,
            "bin_start": 65.606,
            "count": 0
           },
           {
            "bin_end": 82,
            "bin_start": 73.803,
            "count": 1
           }
          ],
          "max": "82.0",
          "min": "0.03",
          "nan_count": 0,
          "unique_count": 3
         }
        },
        {
         "dtype": "float64",
         "name": "AugAu",
         "stats": {
          "histogram": [
           {
            "bin_end": 8.345,
            "bin_start": 0.05,
            "count": 1
           },
           {
            "bin_end": 16.64,
            "bin_start": 8.345,
            "count": 0
           },
           {
            "bin_end": 24.935,
            "bin_start": 16.64,
            "count": 0
           },
           {
            "bin_end": 33.23,
            "bin_start": 24.935,
            "count": 0
           },
           {
            "bin_end": 41.525,
            "bin_start": 33.23,
            "count": 0
           },
           {
            "bin_end": 49.81999999999999,
            "bin_start": 41.525,
            "count": 0
           },
           {
            "bin_end": 58.114999999999995,
            "bin_start": 49.81999999999999,
            "count": 0
           },
           {
            "bin_end": 66.41,
            "bin_start": 58.114999999999995,
            "count": 1
           },
           {
            "bin_end": 74.705,
            "bin_start": 66.41,
            "count": 0
           },
           {
            "bin_end": 83,
            "bin_start": 74.705,
            "count": 1
           }
          ],
          "max": "83.0",
          "min": "0.05",
          "nan_count": 0,
          "unique_count": 3
         }
        },
        {
         "dtype": "float64",
         "name": "SepSe",
         "stats": {
          "histogram": [
           {
            "bin_end": 8.325,
            "bin_start": 0.25,
            "count": 1
           },
           {
            "bin_end": 16.4,
            "bin_start": 8.325,
            "count": 0
           },
           {
            "bin_end": 24.474999999999998,
            "bin_start": 16.4,
            "count": 0
           },
           {
            "bin_end": 32.55,
            "bin_start": 24.474999999999998,
            "count": 0
           },
           {
            "bin_end": 40.625,
            "bin_start": 32.55,
            "count": 0
           },
           {
            "bin_end": 48.699999999999996,
            "bin_start": 40.625,
            "count": 0
           },
           {
            "bin_end": 56.77499999999999,
            "bin_start": 48.699999999999996,
            "count": 0
           },
           {
            "bin_end": 64.85,
            "bin_start": 56.77499999999999,
            "count": 1
           },
           {
            "bin_end": 72.925,
            "bin_start": 64.85,
            "count": 0
           },
           {
            "bin_end": 81,
            "bin_start": 72.925,
            "count": 1
           }
          ],
          "max": "81.0",
          "min": "0.25",
          "nan_count": 0,
          "unique_count": 3
         }
        },
        {
         "dtype": "float64",
         "name": "OctOc",
         "stats": {
          "histogram": [
           {
            "bin_end": 8.184999999999999,
            "bin_start": 0.65,
            "count": 1
           },
           {
            "bin_end": 15.719999999999999,
            "bin_start": 8.184999999999999,
            "count": 0
           },
           {
            "bin_end": 23.254999999999995,
            "bin_start": 15.719999999999999,
            "count": 0
           },
           {
            "bin_end": 30.789999999999996,
            "bin_start": 23.254999999999995,
            "count": 0
           },
           {
            "bin_end": 38.324999999999996,
            "bin_start": 30.789999999999996,
            "count": 0
           },
           {
            "bin_end": 45.85999999999999,
            "bin_start": 38.324999999999996,
            "count": 0
           },
           {
            "bin_end": 53.394999999999996,
            "bin_start": 45.85999999999999,
            "count": 0
           },
           {
            "bin_end": 60.92999999999999,
            "bin_start": 53.394999999999996,
            "count": 1
           },
           {
            "bin_end": 68.465,
            "bin_start": 60.92999999999999,
            "count": 0
           },
           {
            "bin_end": 76,
            "bin_start": 68.465,
            "count": 1
           }
          ],
          "max": "76.0",
          "min": "0.65",
          "nan_count": 0,
          "unique_count": 3
         }
        },
        {
         "dtype": "float64",
         "name": "NovNo",
         "stats": {
          "histogram": [
           {
            "bin_end": 7.917000000000001,
            "bin_start": 1.13,
            "count": 1
           },
           {
            "bin_end": 14.704,
            "bin_start": 7.917000000000001,
            "count": 0
           },
           {
            "bin_end": 21.491000000000003,
            "bin_start": 14.704,
            "count": 0
           },
           {
            "bin_end": 28.278000000000002,
            "bin_start": 21.491000000000003,
            "count": 0
           },
           {
            "bin_end": 35.065000000000005,
            "bin_start": 28.278000000000002,
            "count": 0
           },
           {
            "bin_end": 41.85200000000001,
            "bin_start": 35.065000000000005,
            "count": 0
           },
           {
            "bin_end": 48.63900000000001,
            "bin_start": 41.85200000000001,
            "count": 0
           },
           {
            "bin_end": 55.42600000000001,
            "bin_start": 48.63900000000001,
            "count": 1
           },
           {
            "bin_end": 62.21300000000001,
            "bin_start": 55.42600000000001,
            "count": 0
           },
           {
            "bin_end": 69,
            "bin_start": 62.21300000000001,
            "count": 1
           }
          ],
          "max": "69.0",
          "min": "1.13",
          "nan_count": 0,
          "unique_count": 3
         }
        },
        {
         "dtype": "float64",
         "name": "DecDe",
         "stats": {
          "histogram": [
           {
            "bin_end": 8.443,
            "bin_start": 2.27,
            "count": 1
           },
           {
            "bin_end": 14.616,
            "bin_start": 8.443,
            "count": 0
           },
           {
            "bin_end": 20.788999999999998,
            "bin_start": 14.616,
            "count": 0
           },
           {
            "bin_end": 26.962,
            "bin_start": 20.788999999999998,
            "count": 0
           },
           {
            "bin_end": 33.135000000000005,
            "bin_start": 26.962,
            "count": 0
           },
           {
            "bin_end": 39.308,
            "bin_start": 33.135000000000005,
            "count": 0
           },
           {
            "bin_end": 45.481,
            "bin_start": 39.308,
            "count": 0
           },
           {
            "bin_end": 51.654,
            "bin_start": 45.481,
            "count": 1
           },
           {
            "bin_end": 57.827000000000005,
            "bin_start": 51.654,
            "count": 0
           },
           {
            "bin_end": 64,
            "bin_start": 57.827000000000005,
            "count": 1
           }
          ],
          "max": "64.0",
          "min": "2.27",
          "nan_count": 0,
          "unique_count": 3
         }
        },
        {
         "dtype": "int64",
         "name": "_deepnote_index_column"
        }
       ],
       "row_count": 3,
       "rows": [
        {
         "AugAu": "83.0",
         "DecDe": "64.0",
         "JulJu": "82.0",
         "NovNo": "69.0",
         "OctOc": "76.0",
         "SepSe": "81.0",
         "Unnamed: 0": "Average high in ºF Av. high Hi",
         "_deepnote_index_column": "0"
        },
        {
         "AugAu": "63.0",
         "DecDe": "47.0",
         "JulJu": "62.0",
         "NovNo": "51.0",
         "OctOc": "57.0",
         "SepSe": "61.0",
         "Unnamed: 0": "Average low in ºF Av. low Lo",
         "_deepnote_index_column": "1"
        },
        {
         "AugAu": "0.05",
         "DecDe": "2.27",
         "JulJu": "0.03",
         "NovNo": "1.13",
         "OctOc": "0.65",
         "SepSe": "0.25",
         "Unnamed: 0": "Av. precipitation in inch Av. precip. Pre.",
         "_deepnote_index_column": "2"
        }
       ]
      },
      "text/html": [
       "<div>\n",
       "<style scoped>\n",
       "    .dataframe tbody tr th:only-of-type {\n",
       "        vertical-align: middle;\n",
       "    }\n",
       "\n",
       "    .dataframe tbody tr th {\n",
       "        vertical-align: top;\n",
       "    }\n",
       "\n",
       "    .dataframe thead th {\n",
       "        text-align: right;\n",
       "    }\n",
       "</style>\n",
       "<table border=\"1\" class=\"dataframe\">\n",
       "  <thead>\n",
       "    <tr style=\"text-align: right;\">\n",
       "      <th></th>\n",
       "      <th>Unnamed: 0</th>\n",
       "      <th>JulJu</th>\n",
       "      <th>AugAu</th>\n",
       "      <th>SepSe</th>\n",
       "      <th>OctOc</th>\n",
       "      <th>NovNo</th>\n",
       "      <th>DecDe</th>\n",
       "    </tr>\n",
       "  </thead>\n",
       "  <tbody>\n",
       "    <tr>\n",
       "      <th>0</th>\n",
       "      <td>Average high in ºF Av. high Hi</td>\n",
       "      <td>82.00</td>\n",
       "      <td>83.00</td>\n",
       "      <td>81.00</td>\n",
       "      <td>76.00</td>\n",
       "      <td>69.00</td>\n",
       "      <td>64.00</td>\n",
       "    </tr>\n",
       "    <tr>\n",
       "      <th>1</th>\n",
       "      <td>Average low in ºF Av. low Lo</td>\n",
       "      <td>62.00</td>\n",
       "      <td>63.00</td>\n",
       "      <td>61.00</td>\n",
       "      <td>57.00</td>\n",
       "      <td>51.00</td>\n",
       "      <td>47.00</td>\n",
       "    </tr>\n",
       "    <tr>\n",
       "      <th>2</th>\n",
       "      <td>Av. precipitation in inch Av. precip. Pre.</td>\n",
       "      <td>0.03</td>\n",
       "      <td>0.05</td>\n",
       "      <td>0.25</td>\n",
       "      <td>0.65</td>\n",
       "      <td>1.13</td>\n",
       "      <td>2.27</td>\n",
       "    </tr>\n",
       "  </tbody>\n",
       "</table>\n",
       "</div>"
      ],
      "text/plain": [
       "                                   Unnamed: 0  JulJu  AugAu  SepSe  OctOc  \\\n",
       "0              Average high in ºF Av. high Hi  82.00  83.00  81.00  76.00   \n",
       "1                Average low in ºF Av. low Lo  62.00  63.00  61.00  57.00   \n",
       "2  Av. precipitation in inch Av. precip. Pre.   0.03   0.05   0.25   0.65   \n",
       "\n",
       "   NovNo  DecDe  \n",
       "0  69.00  64.00  \n",
       "1  51.00  47.00  \n",
       "2   1.13   2.27  "
      ]
     },
     "execution_count": 41,
     "metadata": {},
     "output_type": "execute_result"
    }
   ],
   "source": [
    "df_list[1]"
   ]
  },
  {
   "cell_type": "markdown",
   "metadata": {},
   "source": [
    "For the above two DataFrames, would it make more sense to stack them side-by-side or on top of each other?  Definitely side-by-side, because we want the months to go from January to December.  So we are changing the columns axis (the number of columns is going from 7 to 14), so we specify `axis=1`."
   ]
  },
  {
   "cell_type": "code",
   "execution_count": 42,
   "metadata": {
    "cell_id": "5e459ceaa6de407ca3d4dd78c38da5c2",
    "deepnote_cell_type": "code",
    "deepnote_to_be_reexecuted": false,
    "execution_millis": 39,
    "execution_start": 1666633782833,
    "source_hash": "a529664d",
    "tags": [
     "output_scroll"
    ]
   },
   "outputs": [
    {
     "data": {
      "application/vnd.deepnote.dataframe.v3+json": {
       "column_count": 14,
       "columns": [
        {
         "dtype": "object",
         "name": "Unnamed: 0",
         "stats": {
          "categories": [
           {
            "count": 1,
            "name": "Average high in ºF Av. high Hi"
           },
           {
            "count": 1,
            "name": "Average low in ºF Av. low Lo"
           },
           {
            "count": 1,
            "name": "Av. precipitation in inch Av. precip. Pre."
           }
          ],
          "nan_count": 0,
          "unique_count": 3
         }
        },
        {
         "dtype": "float64",
         "name": "JanJa",
         "stats": {
          "histogram": [
           {
            "bin_end": 8.957,
            "bin_start": 2.73,
            "count": 1
           },
           {
            "bin_end": 15.184000000000001,
            "bin_start": 8.957,
            "count": 0
           },
           {
            "bin_end": 21.411,
            "bin_start": 15.184000000000001,
            "count": 0
           },
           {
            "bin_end": 27.638,
            "bin_start": 21.411,
            "count": 0
           },
           {
            "bin_end": 33.865,
            "bin_start": 27.638,
            "count": 0
           },
           {
            "bin_end": 40.092,
            "bin_start": 33.865,
            "count": 0
           },
           {
            "bin_end": 46.318999999999996,
            "bin_start": 40.092,
            "count": 0
           },
           {
            "bin_end": 52.546,
            "bin_start": 46.318999999999996,
            "count": 1
           },
           {
            "bin_end": 58.773,
            "bin_start": 52.546,
            "count": 0
           },
           {
            "bin_end": 65,
            "bin_start": 58.773,
            "count": 1
           }
          ],
          "max": "65.0",
          "min": "2.73",
          "nan_count": 0,
          "unique_count": 3
         }
        },
        {
         "dtype": "float64",
         "name": "FebFe",
         "stats": {
          "histogram": [
           {
            "bin_end": 9.767,
            "bin_start": 3.63,
            "count": 1
           },
           {
            "bin_end": 15.904,
            "bin_start": 9.767,
            "count": 0
           },
           {
            "bin_end": 22.040999999999997,
            "bin_start": 15.904,
            "count": 0
           },
           {
            "bin_end": 28.177999999999997,
            "bin_start": 22.040999999999997,
            "count": 0
           },
           {
            "bin_end": 34.315,
            "bin_start": 28.177999999999997,
            "count": 0
           },
           {
            "bin_end": 40.452,
            "bin_start": 34.315,
            "count": 0
           },
           {
            "bin_end": 46.589,
            "bin_start": 40.452,
            "count": 0
           },
           {
            "bin_end": 52.726,
            "bin_start": 46.589,
            "count": 1
           },
           {
            "bin_end": 58.863,
            "bin_start": 52.726,
            "count": 0
           },
           {
            "bin_end": 65,
            "bin_start": 58.863,
            "count": 1
           }
          ],
          "max": "65.0",
          "min": "3.63",
          "nan_count": 0,
          "unique_count": 3
         }
        },
        {
         "dtype": "float64",
         "name": "MarMa",
         "stats": {
          "histogram": [
           {
            "bin_end": 8.896,
            "bin_start": 2.44,
            "count": 1
           },
           {
            "bin_end": 15.352,
            "bin_start": 8.896,
            "count": 0
           },
           {
            "bin_end": 21.808000000000003,
            "bin_start": 15.352,
            "count": 0
           },
           {
            "bin_end": 28.264000000000003,
            "bin_start": 21.808000000000003,
            "count": 0
           },
           {
            "bin_end": 34.72,
            "bin_start": 28.264000000000003,
            "count": 0
           },
           {
            "bin_end": 41.176,
            "bin_start": 34.72,
            "count": 0
           },
           {
            "bin_end": 47.632,
            "bin_start": 41.176,
            "count": 0
           },
           {
            "bin_end": 54.088,
            "bin_start": 47.632,
            "count": 1
           },
           {
            "bin_end": 60.544000000000004,
            "bin_start": 54.088,
            "count": 0
           },
           {
            "bin_end": 67,
            "bin_start": 60.544000000000004,
            "count": 1
           }
          ],
          "max": "67.0",
          "min": "2.44",
          "nan_count": 0,
          "unique_count": 3
         }
        },
        {
         "dtype": "float64",
         "name": "AprAp",
         "stats": {
          "histogram": [
           {
            "bin_end": 7.8740000000000006,
            "bin_start": 0.86,
            "count": 1
           },
           {
            "bin_end": 14.888,
            "bin_start": 7.8740000000000006,
            "count": 0
           },
           {
            "bin_end": 21.902,
            "bin_start": 14.888,
            "count": 0
           },
           {
            "bin_end": 28.916,
            "bin_start": 21.902,
            "count": 0
           },
           {
            "bin_end": 35.93,
            "bin_start": 28.916,
            "count": 0
           },
           {
            "bin_end": 42.944,
            "bin_start": 35.93,
            "count": 0
           },
           {
            "bin_end": 49.958,
            "bin_start": 42.944,
            "count": 0
           },
           {
            "bin_end": 56.972,
            "bin_start": 49.958,
            "count": 1
           },
           {
            "bin_end": 63.986000000000004,
            "bin_start": 56.972,
            "count": 0
           },
           {
            "bin_end": 71,
            "bin_start": 63.986000000000004,
            "count": 1
           }
          ],
          "max": "71.0",
          "min": "0.86",
          "nan_count": 0,
          "unique_count": 3
         }
        },
        {
         "dtype": "float64",
         "name": "MayMa",
         "stats": {
          "histogram": [
           {
            "bin_end": 7.507,
            "bin_start": 0.23,
            "count": 1
           },
           {
            "bin_end": 14.783999999999999,
            "bin_start": 7.507,
            "count": 0
           },
           {
            "bin_end": 22.060999999999996,
            "bin_start": 14.783999999999999,
            "count": 0
           },
           {
            "bin_end": 29.337999999999997,
            "bin_start": 22.060999999999996,
            "count": 0
           },
           {
            "bin_end": 36.614999999999995,
            "bin_start": 29.337999999999997,
            "count": 0
           },
           {
            "bin_end": 43.89199999999999,
            "bin_start": 36.614999999999995,
            "count": 0
           },
           {
            "bin_end": 51.16899999999999,
            "bin_start": 43.89199999999999,
            "count": 0
           },
           {
            "bin_end": 58.44599999999999,
            "bin_start": 51.16899999999999,
            "count": 1
           },
           {
            "bin_end": 65.723,
            "bin_start": 58.44599999999999,
            "count": 0
           },
           {
            "bin_end": 73,
            "bin_start": 65.723,
            "count": 1
           }
          ],
          "max": "73.0",
          "min": "0.23",
          "nan_count": 0,
          "unique_count": 3
         }
        },
        {
         "dtype": "float64",
         "name": "JunJu",
         "stats": {
          "histogram": [
           {
            "bin_end": 7.699000000000001,
            "bin_start": 0.11,
            "count": 1
           },
           {
            "bin_end": 15.288,
            "bin_start": 7.699000000000001,
            "count": 0
           },
           {
            "bin_end": 22.877000000000002,
            "bin_start": 15.288,
            "count": 0
           },
           {
            "bin_end": 30.466,
            "bin_start": 22.877000000000002,
            "count": 0
           },
           {
            "bin_end": 38.055,
            "bin_start": 30.466,
            "count": 0
           },
           {
            "bin_end": 45.644000000000005,
            "bin_start": 38.055,
            "count": 0
           },
           {
            "bin_end": 53.233000000000004,
            "bin_start": 45.644000000000005,
            "count": 0
           },
           {
            "bin_end": 60.822,
            "bin_start": 53.233000000000004,
            "count": 1
           },
           {
            "bin_end": 68.411,
            "bin_start": 60.822,
            "count": 0
           },
           {
            "bin_end": 76,
            "bin_start": 68.411,
            "count": 1
           }
          ],
          "max": "76.0",
          "min": "0.11",
          "nan_count": 0,
          "unique_count": 3
         }
        },
        {
         "dtype": "object",
         "name": "Unnamed: 0.1",
         "stats": {
          "categories": [
           {
            "count": 1,
            "name": "Average high in ºF Av. high Hi"
           },
           {
            "count": 1,
            "name": "Average low in ºF Av. low Lo"
           },
           {
            "count": 1,
            "name": "Av. precipitation in inch Av. precip. Pre."
           }
          ],
          "nan_count": 0,
          "unique_count": 3
         }
        },
        {
         "dtype": "float64",
         "name": "JulJu",
         "stats": {
          "histogram": [
           {
            "bin_end": 8.226999999999999,
            "bin_start": 0.03,
            "count": 1
           },
           {
            "bin_end": 16.424,
            "bin_start": 8.226999999999999,
            "count": 0
           },
           {
            "bin_end": 24.621,
            "bin_start": 16.424,
            "count": 0
           },
           {
            "bin_end": 32.818,
            "bin_start": 24.621,
            "count": 0
           },
           {
            "bin_end": 41.015,
            "bin_start": 32.818,
            "count": 0
           },
           {
            "bin_end": 49.211999999999996,
            "bin_start": 41.015,
            "count": 0
           },
           {
            "bin_end": 57.40899999999999,
            "bin_start": 49.211999999999996,
            "count": 0
           },
           {
            "bin_end": 65.606,
            "bin_start": 57.40899999999999,
            "count": 1
           },
           {
            "bin_end": 73.803,
            "bin_start": 65.606,
            "count": 0
           },
           {
            "bin_end": 82,
            "bin_start": 73.803,
            "count": 1
           }
          ],
          "max": "82.0",
          "min": "0.03",
          "nan_count": 0,
          "unique_count": 3
         }
        },
        {
         "dtype": "float64",
         "name": "AugAu",
         "stats": {
          "histogram": [
           {
            "bin_end": 8.345,
            "bin_start": 0.05,
            "count": 1
           },
           {
            "bin_end": 16.64,
            "bin_start": 8.345,
            "count": 0
           },
           {
            "bin_end": 24.935,
            "bin_start": 16.64,
            "count": 0
           },
           {
            "bin_end": 33.23,
            "bin_start": 24.935,
            "count": 0
           },
           {
            "bin_end": 41.525,
            "bin_start": 33.23,
            "count": 0
           },
           {
            "bin_end": 49.81999999999999,
            "bin_start": 41.525,
            "count": 0
           },
           {
            "bin_end": 58.114999999999995,
            "bin_start": 49.81999999999999,
            "count": 0
           },
           {
            "bin_end": 66.41,
            "bin_start": 58.114999999999995,
            "count": 1
           },
           {
            "bin_end": 74.705,
            "bin_start": 66.41,
            "count": 0
           },
           {
            "bin_end": 83,
            "bin_start": 74.705,
            "count": 1
           }
          ],
          "max": "83.0",
          "min": "0.05",
          "nan_count": 0,
          "unique_count": 3
         }
        },
        {
         "dtype": "float64",
         "name": "SepSe",
         "stats": {
          "histogram": [
           {
            "bin_end": 8.325,
            "bin_start": 0.25,
            "count": 1
           },
           {
            "bin_end": 16.4,
            "bin_start": 8.325,
            "count": 0
           },
           {
            "bin_end": 24.474999999999998,
            "bin_start": 16.4,
            "count": 0
           },
           {
            "bin_end": 32.55,
            "bin_start": 24.474999999999998,
            "count": 0
           },
           {
            "bin_end": 40.625,
            "bin_start": 32.55,
            "count": 0
           },
           {
            "bin_end": 48.699999999999996,
            "bin_start": 40.625,
            "count": 0
           },
           {
            "bin_end": 56.77499999999999,
            "bin_start": 48.699999999999996,
            "count": 0
           },
           {
            "bin_end": 64.85,
            "bin_start": 56.77499999999999,
            "count": 1
           },
           {
            "bin_end": 72.925,
            "bin_start": 64.85,
            "count": 0
           },
           {
            "bin_end": 81,
            "bin_start": 72.925,
            "count": 1
           }
          ],
          "max": "81.0",
          "min": "0.25",
          "nan_count": 0,
          "unique_count": 3
         }
        },
        {
         "dtype": "float64",
         "name": "OctOc",
         "stats": {
          "histogram": [
           {
            "bin_end": 8.184999999999999,
            "bin_start": 0.65,
            "count": 1
           },
           {
            "bin_end": 15.719999999999999,
            "bin_start": 8.184999999999999,
            "count": 0
           },
           {
            "bin_end": 23.254999999999995,
            "bin_start": 15.719999999999999,
            "count": 0
           },
           {
            "bin_end": 30.789999999999996,
            "bin_start": 23.254999999999995,
            "count": 0
           },
           {
            "bin_end": 38.324999999999996,
            "bin_start": 30.789999999999996,
            "count": 0
           },
           {
            "bin_end": 45.85999999999999,
            "bin_start": 38.324999999999996,
            "count": 0
           },
           {
            "bin_end": 53.394999999999996,
            "bin_start": 45.85999999999999,
            "count": 0
           },
           {
            "bin_end": 60.92999999999999,
            "bin_start": 53.394999999999996,
            "count": 1
           },
           {
            "bin_end": 68.465,
            "bin_start": 60.92999999999999,
            "count": 0
           },
           {
            "bin_end": 76,
            "bin_start": 68.465,
            "count": 1
           }
          ],
          "max": "76.0",
          "min": "0.65",
          "nan_count": 0,
          "unique_count": 3
         }
        },
        {
         "dtype": "float64",
         "name": "NovNo",
         "stats": {
          "histogram": [
           {
            "bin_end": 7.917000000000001,
            "bin_start": 1.13,
            "count": 1
           },
           {
            "bin_end": 14.704,
            "bin_start": 7.917000000000001,
            "count": 0
           },
           {
            "bin_end": 21.491000000000003,
            "bin_start": 14.704,
            "count": 0
           },
           {
            "bin_end": 28.278000000000002,
            "bin_start": 21.491000000000003,
            "count": 0
           },
           {
            "bin_end": 35.065000000000005,
            "bin_start": 28.278000000000002,
            "count": 0
           },
           {
            "bin_end": 41.85200000000001,
            "bin_start": 35.065000000000005,
            "count": 0
           },
           {
            "bin_end": 48.63900000000001,
            "bin_start": 41.85200000000001,
            "count": 0
           },
           {
            "bin_end": 55.42600000000001,
            "bin_start": 48.63900000000001,
            "count": 1
           },
           {
            "bin_end": 62.21300000000001,
            "bin_start": 55.42600000000001,
            "count": 0
           },
           {
            "bin_end": 69,
            "bin_start": 62.21300000000001,
            "count": 1
           }
          ],
          "max": "69.0",
          "min": "1.13",
          "nan_count": 0,
          "unique_count": 3
         }
        },
        {
         "dtype": "float64",
         "name": "DecDe",
         "stats": {
          "histogram": [
           {
            "bin_end": 8.443,
            "bin_start": 2.27,
            "count": 1
           },
           {
            "bin_end": 14.616,
            "bin_start": 8.443,
            "count": 0
           },
           {
            "bin_end": 20.788999999999998,
            "bin_start": 14.616,
            "count": 0
           },
           {
            "bin_end": 26.962,
            "bin_start": 20.788999999999998,
            "count": 0
           },
           {
            "bin_end": 33.135000000000005,
            "bin_start": 26.962,
            "count": 0
           },
           {
            "bin_end": 39.308,
            "bin_start": 33.135000000000005,
            "count": 0
           },
           {
            "bin_end": 45.481,
            "bin_start": 39.308,
            "count": 0
           },
           {
            "bin_end": 51.654,
            "bin_start": 45.481,
            "count": 1
           },
           {
            "bin_end": 57.827000000000005,
            "bin_start": 51.654,
            "count": 0
           },
           {
            "bin_end": 64,
            "bin_start": 57.827000000000005,
            "count": 1
           }
          ],
          "max": "64.0",
          "min": "2.27",
          "nan_count": 0,
          "unique_count": 3
         }
        },
        {
         "dtype": "int64",
         "name": "_deepnote_index_column"
        }
       ],
       "row_count": 3,
       "rows": [
        {
         "AprAp": "71.0",
         "AugAu": "83.0",
         "DecDe": "64.0",
         "FebFe": "65.0",
         "JanJa": "65.0",
         "JulJu": "82.0",
         "JunJu": "76.0",
         "MarMa": "67.0",
         "MayMa": "73.0",
         "NovNo": "69.0",
         "OctOc": "76.0",
         "SepSe": "81.0",
         "Unnamed: 0": "Average high in ºF Av. high Hi",
         "Unnamed: 0.1": "Average high in ºF Av. high Hi",
         "_deepnote_index_column": "0"
        },
        {
         "AprAp": "51.0",
         "AugAu": "63.0",
         "DecDe": "47.0",
         "FebFe": "48.0",
         "JanJa": "47.0",
         "JulJu": "62.0",
         "JunJu": "59.0",
         "MarMa": "49.0",
         "MayMa": "56.0",
         "NovNo": "51.0",
         "OctOc": "57.0",
         "SepSe": "61.0",
         "Unnamed: 0": "Average low in ºF Av. low Lo",
         "Unnamed: 0.1": "Average low in ºF Av. low Lo",
         "_deepnote_index_column": "1"
        },
        {
         "AprAp": "0.86",
         "AugAu": "0.05",
         "DecDe": "2.27",
         "FebFe": "3.63",
         "JanJa": "2.73",
         "JulJu": "0.03",
         "JunJu": "0.11",
         "MarMa": "2.44",
         "MayMa": "0.23",
         "NovNo": "1.13",
         "OctOc": "0.65",
         "SepSe": "0.25",
         "Unnamed: 0": "Av. precipitation in inch Av. precip. Pre.",
         "Unnamed: 0.1": "Av. precipitation in inch Av. precip. Pre.",
         "_deepnote_index_column": "2"
        }
       ]
      },
      "text/html": [
       "<div>\n",
       "<style scoped>\n",
       "    .dataframe tbody tr th:only-of-type {\n",
       "        vertical-align: middle;\n",
       "    }\n",
       "\n",
       "    .dataframe tbody tr th {\n",
       "        vertical-align: top;\n",
       "    }\n",
       "\n",
       "    .dataframe thead th {\n",
       "        text-align: right;\n",
       "    }\n",
       "</style>\n",
       "<table border=\"1\" class=\"dataframe\">\n",
       "  <thead>\n",
       "    <tr style=\"text-align: right;\">\n",
       "      <th></th>\n",
       "      <th>Unnamed: 0</th>\n",
       "      <th>JanJa</th>\n",
       "      <th>FebFe</th>\n",
       "      <th>MarMa</th>\n",
       "      <th>AprAp</th>\n",
       "      <th>MayMa</th>\n",
       "      <th>JunJu</th>\n",
       "      <th>Unnamed: 0</th>\n",
       "      <th>JulJu</th>\n",
       "      <th>AugAu</th>\n",
       "      <th>SepSe</th>\n",
       "      <th>OctOc</th>\n",
       "      <th>NovNo</th>\n",
       "      <th>DecDe</th>\n",
       "    </tr>\n",
       "  </thead>\n",
       "  <tbody>\n",
       "    <tr>\n",
       "      <th>0</th>\n",
       "      <td>Average high in ºF Av. high Hi</td>\n",
       "      <td>65.00</td>\n",
       "      <td>65.00</td>\n",
       "      <td>67.00</td>\n",
       "      <td>71.00</td>\n",
       "      <td>73.00</td>\n",
       "      <td>76.00</td>\n",
       "      <td>Average high in ºF Av. high Hi</td>\n",
       "      <td>82.00</td>\n",
       "      <td>83.00</td>\n",
       "      <td>81.00</td>\n",
       "      <td>76.00</td>\n",
       "      <td>69.00</td>\n",
       "      <td>64.00</td>\n",
       "    </tr>\n",
       "    <tr>\n",
       "      <th>1</th>\n",
       "      <td>Average low in ºF Av. low Lo</td>\n",
       "      <td>47.00</td>\n",
       "      <td>48.00</td>\n",
       "      <td>49.00</td>\n",
       "      <td>51.00</td>\n",
       "      <td>56.00</td>\n",
       "      <td>59.00</td>\n",
       "      <td>Average low in ºF Av. low Lo</td>\n",
       "      <td>62.00</td>\n",
       "      <td>63.00</td>\n",
       "      <td>61.00</td>\n",
       "      <td>57.00</td>\n",
       "      <td>51.00</td>\n",
       "      <td>47.00</td>\n",
       "    </tr>\n",
       "    <tr>\n",
       "      <th>2</th>\n",
       "      <td>Av. precipitation in inch Av. precip. Pre.</td>\n",
       "      <td>2.73</td>\n",
       "      <td>3.63</td>\n",
       "      <td>2.44</td>\n",
       "      <td>0.86</td>\n",
       "      <td>0.23</td>\n",
       "      <td>0.11</td>\n",
       "      <td>Av. precipitation in inch Av. precip. Pre.</td>\n",
       "      <td>0.03</td>\n",
       "      <td>0.05</td>\n",
       "      <td>0.25</td>\n",
       "      <td>0.65</td>\n",
       "      <td>1.13</td>\n",
       "      <td>2.27</td>\n",
       "    </tr>\n",
       "  </tbody>\n",
       "</table>\n",
       "</div>"
      ],
      "text/plain": [
       "                                   Unnamed: 0  JanJa  FebFe  MarMa  AprAp  \\\n",
       "0              Average high in ºF Av. high Hi  65.00  65.00  67.00  71.00   \n",
       "1                Average low in ºF Av. low Lo  47.00  48.00  49.00  51.00   \n",
       "2  Av. precipitation in inch Av. precip. Pre.   2.73   3.63   2.44   0.86   \n",
       "\n",
       "   MayMa  JunJu                                  Unnamed: 0  JulJu  AugAu  \\\n",
       "0  73.00  76.00              Average high in ºF Av. high Hi  82.00  83.00   \n",
       "1  56.00  59.00                Average low in ºF Av. low Lo  62.00  63.00   \n",
       "2   0.23   0.11  Av. precipitation in inch Av. precip. Pre.   0.03   0.05   \n",
       "\n",
       "   SepSe  OctOc  NovNo  DecDe  \n",
       "0  81.00  76.00  69.00  64.00  \n",
       "1  61.00  57.00  51.00  47.00  \n",
       "2   0.25   0.65   1.13   2.27  "
      ]
     },
     "execution_count": 42,
     "metadata": {},
     "output_type": "execute_result"
    }
   ],
   "source": [
    "pd.concat((df_list[0], df_list[1]), axis=1)"
   ]
  }
 ],
 "metadata": {
  "deepnote": {},
  "deepnote_execution_queue": [],
  "deepnote_notebook_id": "699785c17491428f81f8fad8c19c8a87",
  "deepnote_persisted_session": {
   "createdAt": "2022-10-24T15:02:14.337Z"
  },
  "kernelspec": {
   "display_name": "Python 3 (ipykernel)",
   "language": "python",
   "name": "python3"
  },
  "language_info": {
   "codemirror_mode": {
    "name": "ipython",
    "version": 3
   },
   "file_extension": ".py",
   "mimetype": "text/x-python",
   "name": "python",
   "nbconvert_exporter": "python",
   "pygments_lexer": "ipython3",
   "version": "3.9.13"
  }
 },
 "nbformat": 4,
 "nbformat_minor": 4
}
