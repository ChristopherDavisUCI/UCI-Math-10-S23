{
 "cells": [
  {
   "cell_type": "markdown",
   "metadata": {
    "cell_id": "4f61fe037ac34563843900e166d191a3",
    "deepnote_cell_type": "markdown",
    "tags": []
   },
   "source": [
    "# Worksheet 11\n",
    "\n",
    "Authors (3 maximum; use your full names): **BLANK**\n",
    "\n",
    "This worksheet is due Tuesday of Week 8, before discussion section.  You are encouraged to work in groups of up to 3 total students, but each student should submit their own file.  (It's fine for everyone in the group to upload the same file.)\n",
    "\n",
    "**Recommendation**.  Follow the Worksheet 0 instructions to form a free Pro workspace for you and your groupmates, so you can all work on the same file.\n",
    "\n",
    "The main part of this week's homework is based on an example from Jake VanderPlas's book, [Python Data Science Handbook](https://jakevdp.github.io/PythonDataScienceHandbook/)."
   ]
  },
  {
   "cell_type": "markdown",
   "metadata": {
    "cell_id": "8ef2eeb68c9147baae030f3c36ad0ac6",
    "deepnote_cell_type": "markdown",
    "tags": []
   },
   "source": [
    "## Downloading the data\n",
    "\n",
    "Go to [https://data.seattle.gov/](https://data.seattle.gov/) and find the \"Fremont Bridge Bicycle Counter\" dataset (**not** the one called \"Timeline\", the plain one).  Download the csv file for that dataset (click the \"Export\" button at the top right), and upload that csv file to this Deepnote project.  Rename the csv file to \"Fremont.csv\".  (You can click the three dots to the right of the file name, to reach the option to rename it.  Or just rename it on your computer before you upload the file.)"
   ]
  },
  {
   "cell_type": "markdown",
   "metadata": {
    "cell_id": "143b53c43b9844dda9ca7d9eed94dfd3",
    "deepnote_cell_type": "markdown",
    "tags": []
   },
   "source": [
    "## Linear regression with Seattle bicycle data"
   ]
  },
  {
   "cell_type": "markdown",
   "metadata": {
    "cell_id": "1790df1298ed4573b34a3bfb7d4b9626",
    "deepnote_cell_type": "markdown",
    "tags": []
   },
   "source": [
    "### Question 1\n",
    "\n",
    "* Read in the Fremont.csv file from Part 0, drop the rows which contain missing values, keep only the first two columns, and name the resulting DataFrame `df_pre`.\n",
    "* Rename the \"Fremont Bridge Total\" column to \"Bikes\", using a command of the form \n",
    "```\n",
    "df_pre.rename({???: ???}, axis=???, inplace=???)\n",
    "```\n",
    "* Convert the \"Date\" column to a `datetime` data type by using `pd.to_datetime`.\n",
    "* Using the `dt` accessor and several Boolean Series, define a new pandas DataFrame `df_pre2` which contains only the rows in `df_pre` from the year 2022, from September or earlier, and from the hour 8:00am in the morning.  Use `.copy()` to ensure that `df_pre2` is a new DataFrame.\n",
    "* Round the \"Date\" column to the nearest date (i.e., lose the 8:00am part) by using `dt`, `round` ([documentation](https://pandas.pydata.org/docs/reference/api/pandas.Series.dt.round.html)), and the nearest calendar day [offset](https://pandas.pydata.org/docs/user_guide/timeseries.html#timeseries-offset-aliases).  (**Updated 11/14**: I had previously said you could use `dt.date` but that fails when we reach the Altair step.  Instead use `dt.round`.)"
   ]
  },
  {
   "cell_type": "markdown",
   "metadata": {
    "cell_id": "2d8c476454af4b9cb0721121060f8b39",
    "deepnote_cell_type": "markdown",
    "tags": []
   },
   "source": [
    "### Question 2\n",
    "\n",
    "The weather data in the attached SeattleWeather.csv file was downloaded a few days ago from [this website](https://www.ncdc.noaa.gov/cdo-web/search?datasetid=GHCND).  (You don't need to re-download it; just use the provided csv file in this Deepnote project.)  The \"PRCP\" column in this csv file indicates the amount of precipitation that fell on that day.\n",
    "\n",
    "* Read in the contents of the SeattleWeather.csv file, drop the rows with missing data, and name the result `df_weather`.\n",
    "* Rename the \"DATE\" column to \"Date\".\n",
    "* Convert the \"Date\" column to a `datetime` data type.\n",
    "* Keep only the \"Date\", \"PRCP\", and \"TMIN\" columns in `df_weather`, for example, by using `df_weather = df_weather[???].copy()`.  (The column \"PRCP\" stands for how much precipitation there was, presumably in inches, and \"TMIN\" stands for the minimum temperature for that day, in Fahrenheit.)\n",
    "* Check your answer: the resulting DataFrame should have 304 rows and 3 columns, and the `dtypes` should be one of `datetime64[ns]` and two of `float64`."
   ]
  },
  {
   "cell_type": "markdown",
   "metadata": {
    "cell_id": "0558c109b04544a784a4c125e51eacad",
    "deepnote_cell_type": "markdown",
    "tags": []
   },
   "source": [
    "### Question 3\n",
    "\n",
    "* Use the pandas DataFrame method `merge` ([documentation](https://pandas.pydata.org/docs/reference/api/pandas.DataFrame.merge.html)) with `how=\"inner\"` to merge together `df_pre2` and `df_weather` on their \"Date\" columns.  Name the resulting DataFrame `df`.\n",
    "* The resulting DataFrame `df` should have 273 rows and 4 columns.  (**Updated** 11/9: It used to say 5 columns.)"
   ]
  },
  {
   "cell_type": "markdown",
   "metadata": {
    "cell_id": "8ac872489a384c608a44de8f2e769bac",
    "deepnote_cell_type": "markdown",
    "tags": []
   },
   "source": [
    "### Question 4\n",
    "\n",
    "* Add a new column named \"DayName\" to `df` corresponding to the day of the week (like \"Monday\") and  a new column called \"Month\" to `df` that contains the numerical month number (like `11`).  Use the `dt` accessor again.\n",
    "* Apply scikit-learn's `OneHotEncoder` class to this \"DayName\" column.  Name the object `encoder`.\n",
    "* Convert the resulting object to a NumPy array using the `toarray` method.  Name the result `arr`.\n",
    "* The `encoder.get_feature_names_out()` array will contain strings like `'DayName_Friday'`, `'DayName_Monday'`.  Using list comprehension, make the corresponding list `'Friday'`, `'Monday'`, ...  Make sure your list appears in the same order as `encoder.get_feature_names_out()`.  (One possibility is to use the string method `strip`.  Another possibility is to first `split` the string at `\"_\"`...)  Call the resulting list `day_list`.\n",
    "* Add 7 columns to `df` with the names from `day_list` and put the contents of `arr` into those columns.  (This can be done in a short line of code: `df[???] = ???`.)\n",
    "* `df` should now have 13 columns.  (**Updated** 11/9: Used to say 10 columns incorrectly.)"
   ]
  },
  {
   "cell_type": "markdown",
   "metadata": {
    "cell_id": "4f69f63374da44c98d86407817f4fe5a",
    "deepnote_cell_type": "markdown",
    "tags": []
   },
   "source": [
    "### Question 5\n",
    "\n",
    "* Instantiate a scikit-learn `LinearRegression` object `reg`.  When you create `reg`, Use the keyword argument `fit_intercept` with an appropriate value to specify that we do not want to find an intercept in this case.  (For this particular data, allowing an intercept value gives no extra flexibility.)\n",
    "* Define a list `cols` containing all the numeric columns from `df` except the \"Bikes\" column.  Use `is_numeric_dtype` from `pandas.api.types` together with list comprehension and `df.columns`.  You can either make a list of all the numeric columns and then remove \"Bikes\" using the `remove` method, or you can already exclude \"Bikes\" inside the list comprehension (for example, by using a second condition in the `if` clause).\n",
    "* Fit `reg` using `cols` for the input variables, and using \"Bikes\" for the output variable.\n",
    "* Add a \"Pred\" column to `df` containing the `reg.predict` values."
   ]
  },
  {
   "cell_type": "markdown",
   "metadata": {
    "cell_id": "9f4d1cc5e1694533aefcc66bb04456e3",
    "deepnote_cell_type": "markdown",
    "tags": []
   },
   "source": [
    "### Question 6\n",
    "\n",
    "* Check the values of the fitted coefficients using `pd.Series(???, index=cols)`.\n",
    "\n",
    "Answer the following questions in a markdown cell.  (Not as a comment, but as a markdown cell.  You should not need to use the Python comment symbol `#`.  In the course project, you will need to make many of these explanatory markdown cells.)\n",
    "\n",
    "* Is the \"PRCP\" value positive or negative?  Does this make sense?\n",
    "* Is the \"TMIN\" value positive or negative?  Does this make sense?\n",
    "* Do the results suggest that people are biking more for exercise or more to get to work/school?  Briefly explain.\n",
    "* I expect that if we try the same thing later using also the October, November and December data, that the \"Month\" coefficient will decrease.  Why do I expect that?"
   ]
  },
  {
   "cell_type": "markdown",
   "metadata": {
    "cell_id": "1e110b3fc485424bab4be8c880614596",
    "deepnote_cell_type": "markdown",
    "tags": []
   },
   "source": [
    "### Question 7\n",
    "\n",
    "* Make a small pandas DataFrame with only one row, with columns equal to `cols`, and initially filled with all zeros.  Assign it to the variable name `df_test`.  (One approach is to `copy` a one-row sub-DataFrame from `df` with the appropriate columns and then set all values to `0`.  Be sure to use `copy` so that you don't change any values in `df`.  Another approach is to use `pd.DataFrame([???], columns=cols)`, where ??? is a list of zeros of the appropriate length.  Another approach is to use `pd.DataFrame([{???:??? for ??? in cols}])`, where the portion `{???:??? for ??? in cols}` is what's known as a dictionary comprehension; dictionary comprehensions are completely analogous to list comprehensions.)\n",
    "* Replace some of the zeros with sample values, making a data point for which our model predicts a negative number of bike riders on December 1st, 2022.  (Don't look up what day of the week that is; use pandas to determine it.)\n",
    "* Instead of making a one-row pandas DataFrame, why didn't we just use a pandas Series?  (Hint.  What does scikit-learn expect from the first input to `reg.fit` or from the input to `reg.predict`?)"
   ]
  },
  {
   "cell_type": "markdown",
   "metadata": {
    "cell_id": "05563160f5b44e6ab56a0b239291709b",
    "deepnote_cell_type": "markdown",
    "tags": []
   },
   "source": [
    "### Question 8\n",
    "\n",
    "* Replace the ??? terms so that the following produces the length-7 list `[\"Monday\", \"Tuesday\", ..., \"Sunday\"]`.\n",
    "```\n",
    "ordered_days = [pd.to_datetime(???\"11/???/2022\").day_name() for ??? in range(7,???)]\n",
    "```\n",
    "\n",
    "* To make an Altair chart `c` containing the actual data in the DataFrame, you can use the following code.\n",
    "\n",
    "```\n",
    "sel = alt.selection_single(fields=[\"DayName\"], empty=\"none\")\n",
    "\n",
    "base = alt.Chart(df).mark_circle().encode(\n",
    "    x=\"Date\",\n",
    "    y=\"Bikes\",\n",
    "    tooltip=[\"Bikes\", \"Date\", \"DayName\", \"PRCP\", \"TMIN\"],\n",
    "    size=alt.condition(sel, alt.value(60),alt.value(20)),\n",
    "    color=alt.Color(\"DayName\", sort=ordered_days)\n",
    ").add_selection(sel)\n",
    "\n",
    "text = alt.Chart(df).mark_text(y=20, size=20).encode(\n",
    "    text=\"DayName\",\n",
    "    opacity=alt.condition(sel, alt.value(1), alt.value(0))\n",
    ")\n",
    "\n",
    "c = base+text\n",
    "```\n",
    "\n",
    "* Define that chart `c` and then display it.\n",
    "* Try clicking on one of the points.  What change happens?  (Why are some points selected but not others?)\n",
    "* What line of this code guarantees that only the selected day name will be displayed (like \"Monday\")?\n",
    "* Change the base chart so that selected points have an opacity value of `1` and the unselected points have an opacity value of `0.5`."
   ]
  },
  {
   "cell_type": "markdown",
   "metadata": {
    "cell_id": "660204e5adae4b36b6947ec30430f002",
    "deepnote_cell_type": "markdown",
    "tags": []
   },
   "source": [
    "### Question 9\n",
    "\n",
    "* Define a second chart `c1` which is a line chart instead of a scatter plot; which uses `color=\"red\"` as a `mark_line()` keyword argument; which again uses \"Date\" for the x-axis; and which uses the predicted value instead of the actual value for the y-coordinate.\n",
    "* Add a `transform_filter` to `c1`, and filter using the selection object created for the `c` chart above.\n",
    "* Display a layered chart of `c` and `c1` using `c+c1`.  (If you try to just display `c1` by itself, it won't work, because the selection object was never added to `c1`.)\n",
    "* If you try clicking on a point in the chart, you should now see all the points from the same day of the week highlighted, and you should also see a red predicted curve (the \"line of best fit\") for that day of the week."
   ]
  },
  {
   "cell_type": "markdown",
   "metadata": {
    "cell_id": "201407d948dd4ff5b886baf228281605",
    "deepnote_cell_type": "markdown",
    "tags": []
   },
   "source": [
    "### Question 10\n",
    "\n",
    "* In the predicted curve for Monday, there is an extreme dip near the beginning of March.  What is the cause for this dip?  (Use the tooltip for the corresponding data point.)\n",
    "* In the actual data points for Monday, there are some very low values (especially towards the right side of the chart) that aren't matched in the predicted curve.  What do you think is the cause for these low values?  (Hint.  American students might have an unfair advantage on this question.)\n",
    "* The red curve represents a linear function, but it certainly doesn't look linear.  Why isn't that a contradiction?\n",
    "* Why do the bounds change for the y-axis if you click on a Sunday point?"
   ]
  },
  {
   "cell_type": "markdown",
   "metadata": {
    "cell_id": "c18cecd7b1bf448dbc33b820af47b781",
    "deepnote_cell_type": "markdown",
    "tags": []
   },
   "source": [
    "## Reminder\n",
    "\n",
    "Every group member needs to submit this on Canvas (even if you all submit the same link).\n",
    "\n",
    "Be sure you've included the (full) names of you and your group members at the top after \"Authors\".  You might consider restarting this notebook (the Deepnote refresh icon, not your browser refresh icon) and running it again to make sure it's working."
   ]
  },
  {
   "cell_type": "markdown",
   "metadata": {
    "cell_id": "3a31db6030564050a8a880c5399954d3",
    "deepnote_cell_type": "markdown",
    "owner_user_id": "02be19f8-8497-4212-b8d0-46ca9f1d48b9",
    "tags": []
   },
   "source": [
    "## Submission\n",
    "\n",
    "Using the Share button at the top right, **enable Comment access level** for anyone with the link. Then submit that link on Canvas."
   ]
  }
 ],
 "metadata": {
  "deepnote": {},
  "deepnote_execution_queue": [],
  "deepnote_notebook_id": "3c9de27720c44bf5a11d88516004eaf8",
  "deepnote_persisted_session": {
   "createdAt": "2022-11-05T15:00:24.609Z"
  },
  "kernelspec": {
   "display_name": "Python 3 (ipykernel)",
   "language": "python",
   "name": "python3"
  },
  "language_info": {
   "codemirror_mode": {
    "name": "ipython",
    "version": 3
   },
   "file_extension": ".py",
   "mimetype": "text/x-python",
   "name": "python",
   "nbconvert_exporter": "python",
   "pygments_lexer": "ipython3",
   "version": "3.9.13"
  }
 },
 "nbformat": 4,
 "nbformat_minor": 4
}
