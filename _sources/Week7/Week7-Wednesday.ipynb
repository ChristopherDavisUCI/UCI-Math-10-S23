{
 "cells": [
  {
   "cell_type": "markdown",
   "metadata": {
    "cell_id": "8b73c08835644ec7972f6e0fd729ccc4",
    "deepnote_cell_type": "markdown",
    "tags": []
   },
   "source": [
    "# Week 7 Wednesday"
   ]
  },
  {
   "cell_type": "markdown",
   "metadata": {
    "cell_id": "d3e9a55d47264509ae4756cfa2cc6b62",
    "deepnote_cell_type": "markdown",
    "tags": []
   },
   "source": [
    "## Announcements\n",
    "\n",
    "* I'm going to move my Wednesday office hours to my office RH 440J (same time: 1pm).\n",
    "* The next videos and video quizzes are posted.  Due Monday of Week 8 (because Friday is a holiday this week).\n",
    "* Big topics left in the class: overfitting and decision trees/random forests.\n",
    "* Midterm: Tuesday of Week 9.  On Wednesday of Week 9 (day before Thanksgiving) I'll introduce the Course Project.  (No Final Exam in Math 10.)"
   ]
  },
  {
   "cell_type": "markdown",
   "metadata": {
    "cell_id": "e60eb988148c47a2b3a1b0092b66304b",
    "deepnote_cell_type": "markdown",
    "tags": []
   },
   "source": [
    "## Including a categorical variable in our linear regression\n",
    "\n",
    "Here is some of the code from the last class.  We used one-hot encoding to convert the \"origin\" column (which contains strings) into three separate numerical columns (containing only 0s and 1s, like a Boolean Series).\n",
    "\n",
    "We haven't performed the linear regression yet using these new columns."
   ]
  },
  {
   "cell_type": "code",
   "execution_count": 2,
   "metadata": {
    "cell_id": "ecf073d8b24047e7a598945d916cd7e0",
    "deepnote_cell_type": "code",
    "deepnote_to_be_reexecuted": false,
    "execution_millis": 1,
    "execution_start": 1668016928212,
    "source_hash": "8ecb1ef2",
    "tags": []
   },
   "outputs": [],
   "source": [
    "import pandas as pd\n",
    "import numpy as np\n",
    "\n",
    "import altair as alt\n",
    "import seaborn as sns\n",
    "\n",
    "from sklearn.linear_model import LinearRegression\n",
    "from sklearn.preprocessing import OneHotEncoder"
   ]
  },
  {
   "cell_type": "code",
   "execution_count": 3,
   "metadata": {
    "cell_id": "f879a5b86e0b4a438f07590aaa56734e",
    "deepnote_cell_type": "code",
    "deepnote_to_be_reexecuted": false,
    "execution_millis": 356,
    "execution_start": 1668016953935,
    "source_hash": "edc73efe",
    "tags": []
   },
   "outputs": [],
   "source": [
    "df = sns.load_dataset(\"mpg\").dropna(axis=0)\n",
    "\n",
    "cols = [\"horsepower\", \"weight\", \"model_year\", \"cylinders\"]"
   ]
  },
  {
   "cell_type": "code",
   "execution_count": 4,
   "metadata": {
    "cell_id": "7d6327bcb3d14a7ea7a67a129ea9b87f",
    "deepnote_cell_type": "code",
    "deepnote_to_be_reexecuted": false,
    "execution_millis": 3,
    "execution_start": 1668016970218,
    "source_hash": "cd72858e",
    "tags": []
   },
   "outputs": [],
   "source": [
    "reg = LinearRegression()"
   ]
  },
  {
   "cell_type": "code",
   "execution_count": 5,
   "metadata": {
    "cell_id": "b5df299a9e4c46a99c38a19e215b6d80",
    "deepnote_cell_type": "code",
    "deepnote_to_be_reexecuted": false,
    "execution_millis": 9,
    "execution_start": 1668016976508,
    "source_hash": "bf85b034",
    "tags": []
   },
   "outputs": [
    {
     "data": {
      "text/html": [
       "<style>#sk-container-id-1 {color: black;background-color: white;}#sk-container-id-1 pre{padding: 0;}#sk-container-id-1 div.sk-toggleable {background-color: white;}#sk-container-id-1 label.sk-toggleable__label {cursor: pointer;display: block;width: 100%;margin-bottom: 0;padding: 0.3em;box-sizing: border-box;text-align: center;}#sk-container-id-1 label.sk-toggleable__label-arrow:before {content: \"▸\";float: left;margin-right: 0.25em;color: #696969;}#sk-container-id-1 label.sk-toggleable__label-arrow:hover:before {color: black;}#sk-container-id-1 div.sk-estimator:hover label.sk-toggleable__label-arrow:before {color: black;}#sk-container-id-1 div.sk-toggleable__content {max-height: 0;max-width: 0;overflow: hidden;text-align: left;background-color: #f0f8ff;}#sk-container-id-1 div.sk-toggleable__content pre {margin: 0.2em;color: black;border-radius: 0.25em;background-color: #f0f8ff;}#sk-container-id-1 input.sk-toggleable__control:checked~div.sk-toggleable__content {max-height: 200px;max-width: 100%;overflow: auto;}#sk-container-id-1 input.sk-toggleable__control:checked~label.sk-toggleable__label-arrow:before {content: \"▾\";}#sk-container-id-1 div.sk-estimator input.sk-toggleable__control:checked~label.sk-toggleable__label {background-color: #d4ebff;}#sk-container-id-1 div.sk-label input.sk-toggleable__control:checked~label.sk-toggleable__label {background-color: #d4ebff;}#sk-container-id-1 input.sk-hidden--visually {border: 0;clip: rect(1px 1px 1px 1px);clip: rect(1px, 1px, 1px, 1px);height: 1px;margin: -1px;overflow: hidden;padding: 0;position: absolute;width: 1px;}#sk-container-id-1 div.sk-estimator {font-family: monospace;background-color: #f0f8ff;border: 1px dotted black;border-radius: 0.25em;box-sizing: border-box;margin-bottom: 0.5em;}#sk-container-id-1 div.sk-estimator:hover {background-color: #d4ebff;}#sk-container-id-1 div.sk-parallel-item::after {content: \"\";width: 100%;border-bottom: 1px solid gray;flex-grow: 1;}#sk-container-id-1 div.sk-label:hover label.sk-toggleable__label {background-color: #d4ebff;}#sk-container-id-1 div.sk-serial::before {content: \"\";position: absolute;border-left: 1px solid gray;box-sizing: border-box;top: 0;bottom: 0;left: 50%;z-index: 0;}#sk-container-id-1 div.sk-serial {display: flex;flex-direction: column;align-items: center;background-color: white;padding-right: 0.2em;padding-left: 0.2em;position: relative;}#sk-container-id-1 div.sk-item {position: relative;z-index: 1;}#sk-container-id-1 div.sk-parallel {display: flex;align-items: stretch;justify-content: center;background-color: white;position: relative;}#sk-container-id-1 div.sk-item::before, #sk-container-id-1 div.sk-parallel-item::before {content: \"\";position: absolute;border-left: 1px solid gray;box-sizing: border-box;top: 0;bottom: 0;left: 50%;z-index: -1;}#sk-container-id-1 div.sk-parallel-item {display: flex;flex-direction: column;z-index: 1;position: relative;background-color: white;}#sk-container-id-1 div.sk-parallel-item:first-child::after {align-self: flex-end;width: 50%;}#sk-container-id-1 div.sk-parallel-item:last-child::after {align-self: flex-start;width: 50%;}#sk-container-id-1 div.sk-parallel-item:only-child::after {width: 0;}#sk-container-id-1 div.sk-dashed-wrapped {border: 1px dashed gray;margin: 0 0.4em 0.5em 0.4em;box-sizing: border-box;padding-bottom: 0.4em;background-color: white;}#sk-container-id-1 div.sk-label label {font-family: monospace;font-weight: bold;display: inline-block;line-height: 1.2em;}#sk-container-id-1 div.sk-label-container {text-align: center;}#sk-container-id-1 div.sk-container {/* jupyter's `normalize.less` sets `[hidden] { display: none; }` but bootstrap.min.css set `[hidden] { display: none !important; }` so we also need the `!important` here to be able to override the default hidden behavior on the sphinx rendered scikit-learn.org. See: https://github.com/scikit-learn/scikit-learn/issues/21755 */display: inline-block !important;position: relative;}#sk-container-id-1 div.sk-text-repr-fallback {display: none;}</style><div id=\"sk-container-id-1\" class=\"sk-top-container\"><div class=\"sk-text-repr-fallback\"><pre>LinearRegression()</pre><b>In a Jupyter environment, please rerun this cell to show the HTML representation or trust the notebook. <br />On GitHub, the HTML representation is unable to render, please try loading this page with nbviewer.org.</b></div><div class=\"sk-container\" hidden><div class=\"sk-item\"><div class=\"sk-estimator sk-toggleable\"><input class=\"sk-toggleable__control sk-hidden--visually\" id=\"sk-estimator-id-1\" type=\"checkbox\" checked><label for=\"sk-estimator-id-1\" class=\"sk-toggleable__label sk-toggleable__label-arrow\">LinearRegression</label><div class=\"sk-toggleable__content\"><pre>LinearRegression()</pre></div></div></div></div></div>"
      ],
      "text/plain": [
       "LinearRegression()"
      ]
     },
     "execution_count": 5,
     "metadata": {},
     "output_type": "execute_result"
    }
   ],
   "source": [
    "reg.fit(df[cols], df[\"mpg\"])"
   ]
  },
  {
   "cell_type": "code",
   "execution_count": 6,
   "metadata": {
    "cell_id": "60b6f66c5a694486a5a0099386819ab6",
    "deepnote_cell_type": "code",
    "deepnote_to_be_reexecuted": false,
    "execution_millis": 4,
    "execution_start": 1668016978604,
    "source_hash": "7f9518fb",
    "tags": []
   },
   "outputs": [
    {
     "data": {
      "text/plain": [
       "horsepower   -0.003615\n",
       "weight       -0.006275\n",
       "model_year    0.746632\n",
       "cylinders    -0.127687\n",
       "dtype: float64"
      ]
     },
     "execution_count": 6,
     "metadata": {},
     "output_type": "execute_result"
    }
   ],
   "source": [
    "pd.Series(reg.coef_, index=reg.feature_names_in_)"
   ]
  },
  {
   "cell_type": "code",
   "execution_count": 7,
   "metadata": {
    "cell_id": "88920404f7ef4521b09462f3ddd6f5fa",
    "deepnote_cell_type": "code",
    "deepnote_to_be_reexecuted": false,
    "execution_millis": 1,
    "execution_start": 1668017061103,
    "source_hash": "93fdf3e0",
    "tags": []
   },
   "outputs": [],
   "source": [
    "encoder = OneHotEncoder()"
   ]
  },
  {
   "cell_type": "code",
   "execution_count": 8,
   "metadata": {
    "cell_id": "10f4988b14264169aa2c614f23ff378d",
    "deepnote_cell_type": "code",
    "deepnote_to_be_reexecuted": false,
    "execution_millis": 5,
    "execution_start": 1668017082547,
    "source_hash": "c6d39e3d",
    "tags": []
   },
   "outputs": [
    {
     "data": {
      "text/html": [
       "<style>#sk-container-id-2 {color: black;background-color: white;}#sk-container-id-2 pre{padding: 0;}#sk-container-id-2 div.sk-toggleable {background-color: white;}#sk-container-id-2 label.sk-toggleable__label {cursor: pointer;display: block;width: 100%;margin-bottom: 0;padding: 0.3em;box-sizing: border-box;text-align: center;}#sk-container-id-2 label.sk-toggleable__label-arrow:before {content: \"▸\";float: left;margin-right: 0.25em;color: #696969;}#sk-container-id-2 label.sk-toggleable__label-arrow:hover:before {color: black;}#sk-container-id-2 div.sk-estimator:hover label.sk-toggleable__label-arrow:before {color: black;}#sk-container-id-2 div.sk-toggleable__content {max-height: 0;max-width: 0;overflow: hidden;text-align: left;background-color: #f0f8ff;}#sk-container-id-2 div.sk-toggleable__content pre {margin: 0.2em;color: black;border-radius: 0.25em;background-color: #f0f8ff;}#sk-container-id-2 input.sk-toggleable__control:checked~div.sk-toggleable__content {max-height: 200px;max-width: 100%;overflow: auto;}#sk-container-id-2 input.sk-toggleable__control:checked~label.sk-toggleable__label-arrow:before {content: \"▾\";}#sk-container-id-2 div.sk-estimator input.sk-toggleable__control:checked~label.sk-toggleable__label {background-color: #d4ebff;}#sk-container-id-2 div.sk-label input.sk-toggleable__control:checked~label.sk-toggleable__label {background-color: #d4ebff;}#sk-container-id-2 input.sk-hidden--visually {border: 0;clip: rect(1px 1px 1px 1px);clip: rect(1px, 1px, 1px, 1px);height: 1px;margin: -1px;overflow: hidden;padding: 0;position: absolute;width: 1px;}#sk-container-id-2 div.sk-estimator {font-family: monospace;background-color: #f0f8ff;border: 1px dotted black;border-radius: 0.25em;box-sizing: border-box;margin-bottom: 0.5em;}#sk-container-id-2 div.sk-estimator:hover {background-color: #d4ebff;}#sk-container-id-2 div.sk-parallel-item::after {content: \"\";width: 100%;border-bottom: 1px solid gray;flex-grow: 1;}#sk-container-id-2 div.sk-label:hover label.sk-toggleable__label {background-color: #d4ebff;}#sk-container-id-2 div.sk-serial::before {content: \"\";position: absolute;border-left: 1px solid gray;box-sizing: border-box;top: 0;bottom: 0;left: 50%;z-index: 0;}#sk-container-id-2 div.sk-serial {display: flex;flex-direction: column;align-items: center;background-color: white;padding-right: 0.2em;padding-left: 0.2em;position: relative;}#sk-container-id-2 div.sk-item {position: relative;z-index: 1;}#sk-container-id-2 div.sk-parallel {display: flex;align-items: stretch;justify-content: center;background-color: white;position: relative;}#sk-container-id-2 div.sk-item::before, #sk-container-id-2 div.sk-parallel-item::before {content: \"\";position: absolute;border-left: 1px solid gray;box-sizing: border-box;top: 0;bottom: 0;left: 50%;z-index: -1;}#sk-container-id-2 div.sk-parallel-item {display: flex;flex-direction: column;z-index: 1;position: relative;background-color: white;}#sk-container-id-2 div.sk-parallel-item:first-child::after {align-self: flex-end;width: 50%;}#sk-container-id-2 div.sk-parallel-item:last-child::after {align-self: flex-start;width: 50%;}#sk-container-id-2 div.sk-parallel-item:only-child::after {width: 0;}#sk-container-id-2 div.sk-dashed-wrapped {border: 1px dashed gray;margin: 0 0.4em 0.5em 0.4em;box-sizing: border-box;padding-bottom: 0.4em;background-color: white;}#sk-container-id-2 div.sk-label label {font-family: monospace;font-weight: bold;display: inline-block;line-height: 1.2em;}#sk-container-id-2 div.sk-label-container {text-align: center;}#sk-container-id-2 div.sk-container {/* jupyter's `normalize.less` sets `[hidden] { display: none; }` but bootstrap.min.css set `[hidden] { display: none !important; }` so we also need the `!important` here to be able to override the default hidden behavior on the sphinx rendered scikit-learn.org. See: https://github.com/scikit-learn/scikit-learn/issues/21755 */display: inline-block !important;position: relative;}#sk-container-id-2 div.sk-text-repr-fallback {display: none;}</style><div id=\"sk-container-id-2\" class=\"sk-top-container\"><div class=\"sk-text-repr-fallback\"><pre>OneHotEncoder()</pre><b>In a Jupyter environment, please rerun this cell to show the HTML representation or trust the notebook. <br />On GitHub, the HTML representation is unable to render, please try loading this page with nbviewer.org.</b></div><div class=\"sk-container\" hidden><div class=\"sk-item\"><div class=\"sk-estimator sk-toggleable\"><input class=\"sk-toggleable__control sk-hidden--visually\" id=\"sk-estimator-id-2\" type=\"checkbox\" checked><label for=\"sk-estimator-id-2\" class=\"sk-toggleable__label sk-toggleable__label-arrow\">OneHotEncoder</label><div class=\"sk-toggleable__content\"><pre>OneHotEncoder()</pre></div></div></div></div></div>"
      ],
      "text/plain": [
       "OneHotEncoder()"
      ]
     },
     "execution_count": 8,
     "metadata": {},
     "output_type": "execute_result"
    }
   ],
   "source": [
    "encoder.fit(df[[\"origin\"]])"
   ]
  },
  {
   "cell_type": "code",
   "execution_count": 9,
   "metadata": {
    "cell_id": "de5957fc1a5c49a1ac10e1e00539a8cd",
    "deepnote_cell_type": "code",
    "deepnote_to_be_reexecuted": false,
    "execution_millis": 6,
    "execution_start": 1668017084456,
    "source_hash": "fafa1b",
    "tags": []
   },
   "outputs": [
    {
     "data": {
      "text/plain": [
       "['origin_europe', 'origin_japan', 'origin_usa']"
      ]
     },
     "execution_count": 9,
     "metadata": {},
     "output_type": "execute_result"
    }
   ],
   "source": [
    "new_cols = list(encoder.get_feature_names_out())\n",
    "\n",
    "new_cols"
   ]
  },
  {
   "cell_type": "code",
   "execution_count": 10,
   "metadata": {
    "cell_id": "88b8d872614f472db43e29bd0454094a",
    "deepnote_cell_type": "code",
    "deepnote_to_be_reexecuted": false,
    "execution_millis": 1,
    "execution_start": 1668017104672,
    "source_hash": "f91a71af",
    "tags": []
   },
   "outputs": [],
   "source": [
    "df2 = df.copy()"
   ]
  },
  {
   "cell_type": "code",
   "execution_count": 11,
   "metadata": {
    "cell_id": "0ff4e0083ec14b6ab6c225e971029d6c",
    "deepnote_cell_type": "code",
    "deepnote_to_be_reexecuted": false,
    "execution_millis": 0,
    "execution_start": 1668017106810,
    "source_hash": "7cd00360",
    "tags": []
   },
   "outputs": [],
   "source": [
    "df2[new_cols] = encoder.transform(df[[\"origin\"]]).toarray()"
   ]
  },
  {
   "cell_type": "code",
   "execution_count": 12,
   "metadata": {
    "cell_id": "1dc952ffc460460d9e8a3904cb5428a0",
    "deepnote_cell_type": "code",
    "deepnote_to_be_reexecuted": false,
    "execution_millis": 44,
    "execution_start": 1668017112108,
    "source_hash": "9123f3f0",
    "tags": []
   },
   "outputs": [
    {
     "data": {
      "application/vnd.deepnote.dataframe.v3+json": {
       "column_count": 12,
       "columns": [
        {
         "dtype": "float64",
         "name": "mpg",
         "stats": {
          "histogram": [
           {
            "bin_end": 17.01,
            "bin_start": 15,
            "count": 1
           },
           {
            "bin_end": 19.02,
            "bin_start": 17.01,
            "count": 0
           },
           {
            "bin_end": 21.03,
            "bin_start": 19.02,
            "count": 0
           },
           {
            "bin_end": 23.04,
            "bin_start": 21.03,
            "count": 1
           },
           {
            "bin_end": 25.05,
            "bin_start": 23.04,
            "count": 0
           },
           {
            "bin_end": 27.060000000000002,
            "bin_start": 25.05,
            "count": 0
           },
           {
            "bin_end": 29.07,
            "bin_start": 27.060000000000002,
            "count": 1
           },
           {
            "bin_end": 31.080000000000002,
            "bin_start": 29.07,
            "count": 1
           },
           {
            "bin_end": 33.09,
            "bin_start": 31.080000000000002,
            "count": 0
           },
           {
            "bin_end": 35.1,
            "bin_start": 33.09,
            "count": 1
           }
          ],
          "max": "35.1",
          "min": "15.0",
          "nan_count": 0,
          "unique_count": 5
         }
        },
        {
         "dtype": "int64",
         "name": "cylinders",
         "stats": {
          "histogram": [
           {
            "bin_end": 4.4,
            "bin_start": 4,
            "count": 4
           },
           {
            "bin_end": 4.8,
            "bin_start": 4.4,
            "count": 0
           },
           {
            "bin_end": 5.2,
            "bin_start": 4.8,
            "count": 0
           },
           {
            "bin_end": 5.6,
            "bin_start": 5.2,
            "count": 0
           },
           {
            "bin_end": 6,
            "bin_start": 5.6,
            "count": 0
           },
           {
            "bin_end": 6.4,
            "bin_start": 6,
            "count": 0
           },
           {
            "bin_end": 6.800000000000001,
            "bin_start": 6.4,
            "count": 0
           },
           {
            "bin_end": 7.2,
            "bin_start": 6.800000000000001,
            "count": 0
           },
           {
            "bin_end": 7.6,
            "bin_start": 7.2,
            "count": 0
           },
           {
            "bin_end": 8,
            "bin_start": 7.6,
            "count": 1
           }
          ],
          "max": "8",
          "min": "4",
          "nan_count": 0,
          "unique_count": 2
         }
        },
        {
         "dtype": "float64",
         "name": "displacement",
         "stats": {
          "histogram": [
           {
            "bin_end": 107.9,
            "bin_start": 81,
            "count": 3
           },
           {
            "bin_end": 134.8,
            "bin_start": 107.9,
            "count": 1
           },
           {
            "bin_end": 161.7,
            "bin_start": 134.8,
            "count": 0
           },
           {
            "bin_end": 188.6,
            "bin_start": 161.7,
            "count": 0
           },
           {
            "bin_end": 215.5,
            "bin_start": 188.6,
            "count": 0
           },
           {
            "bin_end": 242.39999999999998,
            "bin_start": 215.5,
            "count": 0
           },
           {
            "bin_end": 269.29999999999995,
            "bin_start": 242.39999999999998,
            "count": 0
           },
           {
            "bin_end": 296.2,
            "bin_start": 269.29999999999995,
            "count": 0
           },
           {
            "bin_end": 323.1,
            "bin_start": 296.2,
            "count": 0
           },
           {
            "bin_end": 350,
            "bin_start": 323.1,
            "count": 1
           }
          ],
          "max": "350.0",
          "min": "81.0",
          "nan_count": 0,
          "unique_count": 5
         }
        },
        {
         "dtype": "float64",
         "name": "horsepower",
         "stats": {
          "histogram": [
           {
            "bin_end": 70.5,
            "bin_start": 60,
            "count": 1
           },
           {
            "bin_end": 81,
            "bin_start": 70.5,
            "count": 2
           },
           {
            "bin_end": 91.5,
            "bin_start": 81,
            "count": 0
           },
           {
            "bin_end": 102,
            "bin_start": 91.5,
            "count": 1
           },
           {
            "bin_end": 112.5,
            "bin_start": 102,
            "count": 0
           },
           {
            "bin_end": 123,
            "bin_start": 112.5,
            "count": 0
           },
           {
            "bin_end": 133.5,
            "bin_start": 123,
            "count": 0
           },
           {
            "bin_end": 144,
            "bin_start": 133.5,
            "count": 0
           },
           {
            "bin_end": 154.5,
            "bin_start": 144,
            "count": 0
           },
           {
            "bin_end": 165,
            "bin_start": 154.5,
            "count": 1
           }
          ],
          "max": "165.0",
          "min": "60.0",
          "nan_count": 0,
          "unique_count": 5
         }
        },
        {
         "dtype": "int64",
         "name": "weight",
         "stats": {
          "histogram": [
           {
            "bin_end": 1953.3,
            "bin_start": 1760,
            "count": 1
           },
           {
            "bin_end": 2146.6,
            "bin_start": 1953.3,
            "count": 1
           },
           {
            "bin_end": 2339.9,
            "bin_start": 2146.6,
            "count": 1
           },
           {
            "bin_end": 2533.2,
            "bin_start": 2339.9,
            "count": 1
           },
           {
            "bin_end": 2726.5,
            "bin_start": 2533.2,
            "count": 0
           },
           {
            "bin_end": 2919.8,
            "bin_start": 2726.5,
            "count": 0
           },
           {
            "bin_end": 3113.1000000000004,
            "bin_start": 2919.8,
            "count": 0
           },
           {
            "bin_end": 3306.4,
            "bin_start": 3113.1000000000004,
            "count": 0
           },
           {
            "bin_end": 3499.7,
            "bin_start": 3306.4,
            "count": 0
           },
           {
            "bin_end": 3693,
            "bin_start": 3499.7,
            "count": 1
           }
          ],
          "max": "3693",
          "min": "1760",
          "nan_count": 0,
          "unique_count": 5
         }
        },
        {
         "dtype": "float64",
         "name": "acceleration",
         "stats": {
          "histogram": [
           {
            "bin_end": 11.96,
            "bin_start": 11.5,
            "count": 1
           },
           {
            "bin_end": 12.42,
            "bin_start": 11.96,
            "count": 0
           },
           {
            "bin_end": 12.88,
            "bin_start": 12.42,
            "count": 0
           },
           {
            "bin_end": 13.34,
            "bin_start": 12.88,
            "count": 0
           },
           {
            "bin_end": 13.8,
            "bin_start": 13.34,
            "count": 0
           },
           {
            "bin_end": 14.260000000000002,
            "bin_start": 13.8,
            "count": 1
           },
           {
            "bin_end": 14.72,
            "bin_start": 14.260000000000002,
            "count": 2
           },
           {
            "bin_end": 15.180000000000001,
            "bin_start": 14.72,
            "count": 0
           },
           {
            "bin_end": 15.64,
            "bin_start": 15.180000000000001,
            "count": 0
           },
           {
            "bin_end": 16.1,
            "bin_start": 15.64,
            "count": 1
           }
          ],
          "max": "16.1",
          "min": "11.5",
          "nan_count": 0,
          "unique_count": 4
         }
        },
        {
         "dtype": "int64",
         "name": "model_year",
         "stats": {
          "histogram": [
           {
            "bin_end": 71.1,
            "bin_start": 70,
            "count": 1
           },
           {
            "bin_end": 72.2,
            "bin_start": 71.1,
            "count": 1
           },
           {
            "bin_end": 73.3,
            "bin_start": 72.2,
            "count": 0
           },
           {
            "bin_end": 74.4,
            "bin_start": 73.3,
            "count": 1
           },
           {
            "bin_end": 75.5,
            "bin_start": 74.4,
            "count": 0
           },
           {
            "bin_end": 76.6,
            "bin_start": 75.5,
            "count": 0
           },
           {
            "bin_end": 77.7,
            "bin_start": 76.6,
            "count": 1
           },
           {
            "bin_end": 78.8,
            "bin_start": 77.7,
            "count": 0
           },
           {
            "bin_end": 79.9,
            "bin_start": 78.8,
            "count": 0
           },
           {
            "bin_end": 81,
            "bin_start": 79.9,
            "count": 1
           }
          ],
          "max": "81",
          "min": "70",
          "nan_count": 0,
          "unique_count": 5
         }
        },
        {
         "dtype": "object",
         "name": "origin",
         "stats": {
          "categories": [
           {
            "count": 2,
            "name": "usa"
           },
           {
            "count": 2,
            "name": "japan"
           },
           {
            "count": 1,
            "name": "europe"
           }
          ],
          "nan_count": 0,
          "unique_count": 3
         }
        },
        {
         "dtype": "object",
         "name": "name",
         "stats": {
          "categories": [
           {
            "count": 1,
            "name": "dodge colt"
           },
           {
            "count": 1,
            "name": "volkswagen dasher"
           },
           {
            "count": 3,
            "name": "3 others"
           }
          ],
          "nan_count": 0,
          "unique_count": 5
         }
        },
        {
         "dtype": "float64",
         "name": "origin_europe",
         "stats": {
          "histogram": [
           {
            "bin_end": 0.1,
            "bin_start": 0,
            "count": 4
           },
           {
            "bin_end": 0.2,
            "bin_start": 0.1,
            "count": 0
           },
           {
            "bin_end": 0.30000000000000004,
            "bin_start": 0.2,
            "count": 0
           },
           {
            "bin_end": 0.4,
            "bin_start": 0.30000000000000004,
            "count": 0
           },
           {
            "bin_end": 0.5,
            "bin_start": 0.4,
            "count": 0
           },
           {
            "bin_end": 0.6000000000000001,
            "bin_start": 0.5,
            "count": 0
           },
           {
            "bin_end": 0.7000000000000001,
            "bin_start": 0.6000000000000001,
            "count": 0
           },
           {
            "bin_end": 0.8,
            "bin_start": 0.7000000000000001,
            "count": 0
           },
           {
            "bin_end": 0.9,
            "bin_start": 0.8,
            "count": 0
           },
           {
            "bin_end": 1,
            "bin_start": 0.9,
            "count": 1
           }
          ],
          "max": "1.0",
          "min": "0.0",
          "nan_count": 0,
          "unique_count": 2
         }
        },
        {
         "dtype": "float64",
         "name": "origin_japan",
         "stats": {
          "histogram": [
           {
            "bin_end": 0.1,
            "bin_start": 0,
            "count": 3
           },
           {
            "bin_end": 0.2,
            "bin_start": 0.1,
            "count": 0
           },
           {
            "bin_end": 0.30000000000000004,
            "bin_start": 0.2,
            "count": 0
           },
           {
            "bin_end": 0.4,
            "bin_start": 0.30000000000000004,
            "count": 0
           },
           {
            "bin_end": 0.5,
            "bin_start": 0.4,
            "count": 0
           },
           {
            "bin_end": 0.6000000000000001,
            "bin_start": 0.5,
            "count": 0
           },
           {
            "bin_end": 0.7000000000000001,
            "bin_start": 0.6000000000000001,
            "count": 0
           },
           {
            "bin_end": 0.8,
            "bin_start": 0.7000000000000001,
            "count": 0
           },
           {
            "bin_end": 0.9,
            "bin_start": 0.8,
            "count": 0
           },
           {
            "bin_end": 1,
            "bin_start": 0.9,
            "count": 2
           }
          ],
          "max": "1.0",
          "min": "0.0",
          "nan_count": 0,
          "unique_count": 2
         }
        },
        {
         "dtype": "float64",
         "name": "origin_usa",
         "stats": {
          "histogram": [
           {
            "bin_end": 0.1,
            "bin_start": 0,
            "count": 3
           },
           {
            "bin_end": 0.2,
            "bin_start": 0.1,
            "count": 0
           },
           {
            "bin_end": 0.30000000000000004,
            "bin_start": 0.2,
            "count": 0
           },
           {
            "bin_end": 0.4,
            "bin_start": 0.30000000000000004,
            "count": 0
           },
           {
            "bin_end": 0.5,
            "bin_start": 0.4,
            "count": 0
           },
           {
            "bin_end": 0.6000000000000001,
            "bin_start": 0.5,
            "count": 0
           },
           {
            "bin_end": 0.7000000000000001,
            "bin_start": 0.6000000000000001,
            "count": 0
           },
           {
            "bin_end": 0.8,
            "bin_start": 0.7000000000000001,
            "count": 0
           },
           {
            "bin_end": 0.9,
            "bin_start": 0.8,
            "count": 0
           },
           {
            "bin_end": 1,
            "bin_start": 0.9,
            "count": 2
           }
          ],
          "max": "1.0",
          "min": "0.0",
          "nan_count": 0,
          "unique_count": 2
         }
        },
        {
         "dtype": "int64",
         "name": "_deepnote_index_column"
        }
       ],
       "row_count": 5,
       "rows": [
        {
         "_deepnote_index_column": "146",
         "acceleration": "14.5",
         "cylinders": "4",
         "displacement": "90.0",
         "horsepower": "75.0",
         "model_year": "74",
         "mpg": "28.0",
         "name": "dodge colt",
         "origin": "usa",
         "origin_europe": "0.0",
         "origin_japan": "0.0",
         "origin_usa": "1.0",
         "weight": "2125"
        },
        {
         "_deepnote_index_column": "240",
         "acceleration": "14.1",
         "cylinders": "4",
         "displacement": "97.0",
         "horsepower": "78.0",
         "model_year": "77",
         "mpg": "30.5",
         "name": "volkswagen dasher",
         "origin": "europe",
         "origin_europe": "1.0",
         "origin_japan": "0.0",
         "origin_usa": "0.0",
         "weight": "2190"
        },
        {
         "_deepnote_index_column": "82",
         "acceleration": "14.5",
         "cylinders": "4",
         "displacement": "120.0",
         "horsepower": "97.0",
         "model_year": "72",
         "mpg": "23.0",
         "name": "toyouta corona mark ii (sw)",
         "origin": "japan",
         "origin_europe": "0.0",
         "origin_japan": "1.0",
         "origin_usa": "0.0",
         "weight": "2506"
        },
        {
         "_deepnote_index_column": "1",
         "acceleration": "11.5",
         "cylinders": "8",
         "displacement": "350.0",
         "horsepower": "165.0",
         "model_year": "70",
         "mpg": "15.0",
         "name": "buick skylark 320",
         "origin": "usa",
         "origin_europe": "0.0",
         "origin_japan": "0.0",
         "origin_usa": "1.0",
         "weight": "3693"
        },
        {
         "_deepnote_index_column": "345",
         "acceleration": "16.1",
         "cylinders": "4",
         "displacement": "81.0",
         "horsepower": "60.0",
         "model_year": "81",
         "mpg": "35.1",
         "name": "honda civic 1300",
         "origin": "japan",
         "origin_europe": "0.0",
         "origin_japan": "1.0",
         "origin_usa": "0.0",
         "weight": "1760"
        }
       ]
      },
      "text/html": [
       "<div>\n",
       "<style scoped>\n",
       "    .dataframe tbody tr th:only-of-type {\n",
       "        vertical-align: middle;\n",
       "    }\n",
       "\n",
       "    .dataframe tbody tr th {\n",
       "        vertical-align: top;\n",
       "    }\n",
       "\n",
       "    .dataframe thead th {\n",
       "        text-align: right;\n",
       "    }\n",
       "</style>\n",
       "<table border=\"1\" class=\"dataframe\">\n",
       "  <thead>\n",
       "    <tr style=\"text-align: right;\">\n",
       "      <th></th>\n",
       "      <th>mpg</th>\n",
       "      <th>cylinders</th>\n",
       "      <th>displacement</th>\n",
       "      <th>horsepower</th>\n",
       "      <th>weight</th>\n",
       "      <th>acceleration</th>\n",
       "      <th>model_year</th>\n",
       "      <th>origin</th>\n",
       "      <th>name</th>\n",
       "      <th>origin_europe</th>\n",
       "      <th>origin_japan</th>\n",
       "      <th>origin_usa</th>\n",
       "    </tr>\n",
       "  </thead>\n",
       "  <tbody>\n",
       "    <tr>\n",
       "      <th>146</th>\n",
       "      <td>28.0</td>\n",
       "      <td>4</td>\n",
       "      <td>90.0</td>\n",
       "      <td>75.0</td>\n",
       "      <td>2125</td>\n",
       "      <td>14.5</td>\n",
       "      <td>74</td>\n",
       "      <td>usa</td>\n",
       "      <td>dodge colt</td>\n",
       "      <td>0.0</td>\n",
       "      <td>0.0</td>\n",
       "      <td>1.0</td>\n",
       "    </tr>\n",
       "    <tr>\n",
       "      <th>240</th>\n",
       "      <td>30.5</td>\n",
       "      <td>4</td>\n",
       "      <td>97.0</td>\n",
       "      <td>78.0</td>\n",
       "      <td>2190</td>\n",
       "      <td>14.1</td>\n",
       "      <td>77</td>\n",
       "      <td>europe</td>\n",
       "      <td>volkswagen dasher</td>\n",
       "      <td>1.0</td>\n",
       "      <td>0.0</td>\n",
       "      <td>0.0</td>\n",
       "    </tr>\n",
       "    <tr>\n",
       "      <th>82</th>\n",
       "      <td>23.0</td>\n",
       "      <td>4</td>\n",
       "      <td>120.0</td>\n",
       "      <td>97.0</td>\n",
       "      <td>2506</td>\n",
       "      <td>14.5</td>\n",
       "      <td>72</td>\n",
       "      <td>japan</td>\n",
       "      <td>toyouta corona mark ii (sw)</td>\n",
       "      <td>0.0</td>\n",
       "      <td>1.0</td>\n",
       "      <td>0.0</td>\n",
       "    </tr>\n",
       "    <tr>\n",
       "      <th>1</th>\n",
       "      <td>15.0</td>\n",
       "      <td>8</td>\n",
       "      <td>350.0</td>\n",
       "      <td>165.0</td>\n",
       "      <td>3693</td>\n",
       "      <td>11.5</td>\n",
       "      <td>70</td>\n",
       "      <td>usa</td>\n",
       "      <td>buick skylark 320</td>\n",
       "      <td>0.0</td>\n",
       "      <td>0.0</td>\n",
       "      <td>1.0</td>\n",
       "    </tr>\n",
       "    <tr>\n",
       "      <th>345</th>\n",
       "      <td>35.1</td>\n",
       "      <td>4</td>\n",
       "      <td>81.0</td>\n",
       "      <td>60.0</td>\n",
       "      <td>1760</td>\n",
       "      <td>16.1</td>\n",
       "      <td>81</td>\n",
       "      <td>japan</td>\n",
       "      <td>honda civic 1300</td>\n",
       "      <td>0.0</td>\n",
       "      <td>1.0</td>\n",
       "      <td>0.0</td>\n",
       "    </tr>\n",
       "  </tbody>\n",
       "</table>\n",
       "</div>"
      ],
      "text/plain": [
       "      mpg  cylinders  displacement  horsepower  weight  acceleration  \\\n",
       "146  28.0          4          90.0        75.0    2125          14.5   \n",
       "240  30.5          4          97.0        78.0    2190          14.1   \n",
       "82   23.0          4         120.0        97.0    2506          14.5   \n",
       "1    15.0          8         350.0       165.0    3693          11.5   \n",
       "345  35.1          4          81.0        60.0    1760          16.1   \n",
       "\n",
       "     model_year  origin                         name  origin_europe  \\\n",
       "146          74     usa                   dodge colt            0.0   \n",
       "240          77  europe            volkswagen dasher            1.0   \n",
       "82           72   japan  toyouta corona mark ii (sw)            0.0   \n",
       "1            70     usa            buick skylark 320            0.0   \n",
       "345          81   japan             honda civic 1300            0.0   \n",
       "\n",
       "     origin_japan  origin_usa  \n",
       "146           0.0         1.0  \n",
       "240           0.0         0.0  \n",
       "82            1.0         0.0  \n",
       "1             0.0         1.0  \n",
       "345           1.0         0.0  "
      ]
     },
     "execution_count": 12,
     "metadata": {},
     "output_type": "execute_result"
    }
   ],
   "source": [
    "df2.sample(5, random_state=12)"
   ]
  },
  {
   "cell_type": "markdown",
   "metadata": {},
   "source": [
    "This is where the new (Wednesday) material begins.  Let's start with a reminder of what the one-hot encoding is doing.  There are three total values in the \"origin\" column.  We definitely can't use this column \"as is\" for linear regression, because it contains strings.  In theory we could replace the strings with numbers, like 0,1,2, but that would enforce an order on the categories, as well as the relative difference between the categories.  Instead, at the cost of taking up more space, we make three new columns."
   ]
  },
  {
   "cell_type": "code",
   "execution_count": 13,
   "metadata": {
    "cell_id": "b9381d54529a493eb7295f298dcd0a5f",
    "deepnote_cell_type": "code",
    "deepnote_to_be_reexecuted": false,
    "execution_millis": 10,
    "execution_start": 1668017165754,
    "source_hash": "b8f82ffd",
    "tags": []
   },
   "outputs": [
    {
     "data": {
      "text/plain": [
       "0         usa\n",
       "1         usa\n",
       "2         usa\n",
       "3         usa\n",
       "4         usa\n",
       "        ...  \n",
       "393       usa\n",
       "394    europe\n",
       "395       usa\n",
       "396       usa\n",
       "397       usa\n",
       "Name: origin, Length: 392, dtype: object"
      ]
     },
     "execution_count": 13,
     "metadata": {},
     "output_type": "execute_result"
    }
   ],
   "source": [
    "df[\"origin\"]"
   ]
  },
  {
   "cell_type": "markdown",
   "metadata": {},
   "source": [
    "This particular NumPy array would be two-thirds zeros (why?).  If there were more values, it would be even more dominated by zeros.  For this reason, to be more memory-efficient, by default, scikit-learn saves the result as a special \"sparse\" object."
   ]
  },
  {
   "cell_type": "code",
   "execution_count": 14,
   "metadata": {
    "cell_id": "4808ebc2a9d540b9bc916301a6d08f6b",
    "deepnote_cell_type": "code",
    "deepnote_to_be_reexecuted": false,
    "execution_millis": 954,
    "execution_start": 1668017237757,
    "source_hash": "8eca8651",
    "tags": []
   },
   "outputs": [
    {
     "data": {
      "text/plain": [
       "<392x3 sparse matrix of type '<class 'numpy.float64'>'\n",
       "\twith 392 stored elements in Compressed Sparse Row format>"
      ]
     },
     "execution_count": 14,
     "metadata": {},
     "output_type": "execute_result"
    }
   ],
   "source": [
    "encoder.fit_transform(df[[\"origin\"]])"
   ]
  },
  {
   "cell_type": "markdown",
   "metadata": {},
   "source": [
    "We can convert this to a normal NumPy array by using the `toarray` method."
   ]
  },
  {
   "cell_type": "code",
   "execution_count": 15,
   "metadata": {
    "cell_id": "10e3813fef8a4d3dbbbe4608f10d361b",
    "deepnote_cell_type": "code",
    "deepnote_to_be_reexecuted": false,
    "execution_millis": 9,
    "execution_start": 1668017287530,
    "source_hash": "1d2c4ead",
    "tags": []
   },
   "outputs": [
    {
     "data": {
      "text/plain": [
       "array([[0., 0., 1.],\n",
       "       [0., 0., 1.],\n",
       "       [0., 0., 1.],\n",
       "       ...,\n",
       "       [0., 0., 1.],\n",
       "       [0., 0., 1.],\n",
       "       [0., 0., 1.]])"
      ]
     },
     "execution_count": 15,
     "metadata": {},
     "output_type": "execute_result"
    }
   ],
   "source": [
    "encoder.fit_transform(df[[\"origin\"]]).toarray()"
   ]
  },
  {
   "cell_type": "markdown",
   "metadata": {},
   "source": [
    "Here is a reminder of the last five values in the \"origin\" column."
   ]
  },
  {
   "cell_type": "code",
   "execution_count": 17,
   "metadata": {
    "cell_id": "75cf2d7bc8324be0bd2509550c7827b2",
    "deepnote_cell_type": "code",
    "deepnote_to_be_reexecuted": false,
    "execution_millis": 185,
    "execution_start": 1668017384640,
    "source_hash": "5de4b0b6",
    "tags": []
   },
   "outputs": [
    {
     "data": {
      "text/plain": [
       "393       usa\n",
       "394    europe\n",
       "395       usa\n",
       "396       usa\n",
       "397       usa\n",
       "Name: origin, dtype: object"
      ]
     },
     "execution_count": 17,
     "metadata": {},
     "output_type": "execute_result"
    }
   ],
   "source": [
    "df[\"origin\"][-5:]"
   ]
  },
  {
   "cell_type": "markdown",
   "metadata": {},
   "source": [
    "Here are the corresponding rows of the encoding.  Notice how most of the 1 values correspond in the last column (corresponding to \"usa\"), and the other 1 value is in the first column (corresponding to \"europe\".  Be sure you understand how the 5 entries in the \"origin\" column correspond to this 5x3 NumPy array."
   ]
  },
  {
   "cell_type": "code",
   "execution_count": 16,
   "metadata": {
    "cell_id": "8cc5e0b6c2c049b38d42e9b97fd5ebb4",
    "deepnote_cell_type": "code",
    "deepnote_to_be_reexecuted": false,
    "execution_millis": 306,
    "execution_start": 1668017339357,
    "source_hash": "489b3b2",
    "tags": []
   },
   "outputs": [
    {
     "data": {
      "text/plain": [
       "array([[0., 0., 1.],\n",
       "       [1., 0., 0.],\n",
       "       [0., 0., 1.],\n",
       "       [0., 0., 1.],\n",
       "       [0., 0., 1.]])"
      ]
     },
     "execution_count": 16,
     "metadata": {},
     "output_type": "execute_result"
    }
   ],
   "source": [
    "encoder.fit_transform(df[[\"origin\"]]).toarray()[-5:]"
   ]
  },
  {
   "cell_type": "code",
   "execution_count": 18,
   "metadata": {
    "cell_id": "9f53e029efb4448189aa5ecff4d9c0e1",
    "deepnote_cell_type": "code",
    "deepnote_to_be_reexecuted": false,
    "execution_millis": 8,
    "execution_start": 1668017408838,
    "source_hash": "25d43fa0",
    "tags": []
   },
   "outputs": [
    {
     "data": {
      "text/plain": [
       "Index(['mpg', 'cylinders', 'displacement', 'horsepower', 'weight',\n",
       "       'acceleration', 'model_year', 'origin', 'name'],\n",
       "      dtype='object')"
      ]
     },
     "execution_count": 18,
     "metadata": {},
     "output_type": "execute_result"
    }
   ],
   "source": [
    "df.columns"
   ]
  },
  {
   "cell_type": "markdown",
   "metadata": {},
   "source": [
    "It wouldn't make sense to use  one-hot encoding on the \"name\" column, because almost every row has a unique name."
   ]
  },
  {
   "cell_type": "code",
   "execution_count": 19,
   "metadata": {
    "cell_id": "41e0efa081b941c38cd7028507e25b2a",
    "deepnote_cell_type": "code",
    "deepnote_to_be_reexecuted": false,
    "execution_millis": 267,
    "execution_start": 1668017416010,
    "source_hash": "f0a8ef91",
    "tags": []
   },
   "outputs": [
    {
     "data": {
      "text/plain": [
       "393    ford mustang gl\n",
       "394          vw pickup\n",
       "395      dodge rampage\n",
       "396        ford ranger\n",
       "397         chevy s-10\n",
       "Name: name, dtype: object"
      ]
     },
     "execution_count": 19,
     "metadata": {},
     "output_type": "execute_result"
    }
   ],
   "source": [
    "df.name[-5:]"
   ]
  },
  {
   "cell_type": "code",
   "execution_count": 20,
   "metadata": {
    "cell_id": "95a842a0a1d24d7eb92cd810c3e49393",
    "deepnote_cell_type": "code",
    "deepnote_to_be_reexecuted": false,
    "execution_millis": 10,
    "execution_start": 1668017456202,
    "source_hash": "ac6dd73d",
    "tags": []
   },
   "outputs": [
    {
     "data": {
      "text/plain": [
       "301"
      ]
     },
     "execution_count": 20,
     "metadata": {},
     "output_type": "execute_result"
    }
   ],
   "source": [
    "len(df[\"name\"].unique())"
   ]
  },
  {
   "cell_type": "markdown",
   "metadata": {},
   "source": [
    "Let's finally see how to perform linear regression using this newly encoded \"origin\" column.  We specify that this linear regression object should not learn the intercept.  (We'll say more about why a little later in this notebook.)"
   ]
  },
  {
   "cell_type": "code",
   "execution_count": 21,
   "metadata": {
    "cell_id": "67108e8910cc41ed953d6db8d9aa7dbf",
    "deepnote_cell_type": "code",
    "deepnote_to_be_reexecuted": false,
    "execution_millis": 2,
    "execution_start": 1668017599789,
    "source_hash": "fad9364d",
    "tags": []
   },
   "outputs": [],
   "source": [
    "reg2 = LinearRegression(fit_intercept=False)"
   ]
  },
  {
   "cell_type": "markdown",
   "metadata": {},
   "source": [
    "We now fit this object using the 4 old columns and the 3 new columns."
   ]
  },
  {
   "cell_type": "code",
   "execution_count": 23,
   "metadata": {
    "cell_id": "1a6947250f264a73bc4bd5e81bfae81f",
    "deepnote_cell_type": "code",
    "deepnote_to_be_reexecuted": false,
    "execution_millis": 332,
    "execution_start": 1668017691165,
    "source_hash": "990c27df",
    "tags": []
   },
   "outputs": [
    {
     "data": {
      "text/html": [
       "<style>#sk-container-id-3 {color: black;background-color: white;}#sk-container-id-3 pre{padding: 0;}#sk-container-id-3 div.sk-toggleable {background-color: white;}#sk-container-id-3 label.sk-toggleable__label {cursor: pointer;display: block;width: 100%;margin-bottom: 0;padding: 0.3em;box-sizing: border-box;text-align: center;}#sk-container-id-3 label.sk-toggleable__label-arrow:before {content: \"▸\";float: left;margin-right: 0.25em;color: #696969;}#sk-container-id-3 label.sk-toggleable__label-arrow:hover:before {color: black;}#sk-container-id-3 div.sk-estimator:hover label.sk-toggleable__label-arrow:before {color: black;}#sk-container-id-3 div.sk-toggleable__content {max-height: 0;max-width: 0;overflow: hidden;text-align: left;background-color: #f0f8ff;}#sk-container-id-3 div.sk-toggleable__content pre {margin: 0.2em;color: black;border-radius: 0.25em;background-color: #f0f8ff;}#sk-container-id-3 input.sk-toggleable__control:checked~div.sk-toggleable__content {max-height: 200px;max-width: 100%;overflow: auto;}#sk-container-id-3 input.sk-toggleable__control:checked~label.sk-toggleable__label-arrow:before {content: \"▾\";}#sk-container-id-3 div.sk-estimator input.sk-toggleable__control:checked~label.sk-toggleable__label {background-color: #d4ebff;}#sk-container-id-3 div.sk-label input.sk-toggleable__control:checked~label.sk-toggleable__label {background-color: #d4ebff;}#sk-container-id-3 input.sk-hidden--visually {border: 0;clip: rect(1px 1px 1px 1px);clip: rect(1px, 1px, 1px, 1px);height: 1px;margin: -1px;overflow: hidden;padding: 0;position: absolute;width: 1px;}#sk-container-id-3 div.sk-estimator {font-family: monospace;background-color: #f0f8ff;border: 1px dotted black;border-radius: 0.25em;box-sizing: border-box;margin-bottom: 0.5em;}#sk-container-id-3 div.sk-estimator:hover {background-color: #d4ebff;}#sk-container-id-3 div.sk-parallel-item::after {content: \"\";width: 100%;border-bottom: 1px solid gray;flex-grow: 1;}#sk-container-id-3 div.sk-label:hover label.sk-toggleable__label {background-color: #d4ebff;}#sk-container-id-3 div.sk-serial::before {content: \"\";position: absolute;border-left: 1px solid gray;box-sizing: border-box;top: 0;bottom: 0;left: 50%;z-index: 0;}#sk-container-id-3 div.sk-serial {display: flex;flex-direction: column;align-items: center;background-color: white;padding-right: 0.2em;padding-left: 0.2em;position: relative;}#sk-container-id-3 div.sk-item {position: relative;z-index: 1;}#sk-container-id-3 div.sk-parallel {display: flex;align-items: stretch;justify-content: center;background-color: white;position: relative;}#sk-container-id-3 div.sk-item::before, #sk-container-id-3 div.sk-parallel-item::before {content: \"\";position: absolute;border-left: 1px solid gray;box-sizing: border-box;top: 0;bottom: 0;left: 50%;z-index: -1;}#sk-container-id-3 div.sk-parallel-item {display: flex;flex-direction: column;z-index: 1;position: relative;background-color: white;}#sk-container-id-3 div.sk-parallel-item:first-child::after {align-self: flex-end;width: 50%;}#sk-container-id-3 div.sk-parallel-item:last-child::after {align-self: flex-start;width: 50%;}#sk-container-id-3 div.sk-parallel-item:only-child::after {width: 0;}#sk-container-id-3 div.sk-dashed-wrapped {border: 1px dashed gray;margin: 0 0.4em 0.5em 0.4em;box-sizing: border-box;padding-bottom: 0.4em;background-color: white;}#sk-container-id-3 div.sk-label label {font-family: monospace;font-weight: bold;display: inline-block;line-height: 1.2em;}#sk-container-id-3 div.sk-label-container {text-align: center;}#sk-container-id-3 div.sk-container {/* jupyter's `normalize.less` sets `[hidden] { display: none; }` but bootstrap.min.css set `[hidden] { display: none !important; }` so we also need the `!important` here to be able to override the default hidden behavior on the sphinx rendered scikit-learn.org. See: https://github.com/scikit-learn/scikit-learn/issues/21755 */display: inline-block !important;position: relative;}#sk-container-id-3 div.sk-text-repr-fallback {display: none;}</style><div id=\"sk-container-id-3\" class=\"sk-top-container\"><div class=\"sk-text-repr-fallback\"><pre>LinearRegression(fit_intercept=False)</pre><b>In a Jupyter environment, please rerun this cell to show the HTML representation or trust the notebook. <br />On GitHub, the HTML representation is unable to render, please try loading this page with nbviewer.org.</b></div><div class=\"sk-container\" hidden><div class=\"sk-item\"><div class=\"sk-estimator sk-toggleable\"><input class=\"sk-toggleable__control sk-hidden--visually\" id=\"sk-estimator-id-3\" type=\"checkbox\" checked><label for=\"sk-estimator-id-3\" class=\"sk-toggleable__label sk-toggleable__label-arrow\">LinearRegression</label><div class=\"sk-toggleable__content\"><pre>LinearRegression(fit_intercept=False)</pre></div></div></div></div></div>"
      ],
      "text/plain": [
       "LinearRegression(fit_intercept=False)"
      ]
     },
     "execution_count": 23,
     "metadata": {},
     "output_type": "execute_result"
    }
   ],
   "source": [
    "reg2.fit(df2[cols+new_cols], df2[\"mpg\"])"
   ]
  },
  {
   "cell_type": "markdown",
   "metadata": {},
   "source": [
    "Because we set `fit_intercept=False`, the `intercept_` value is `0`."
   ]
  },
  {
   "cell_type": "code",
   "execution_count": 24,
   "metadata": {
    "cell_id": "8bc4b0a0a5ea49f392373ec27ecada67",
    "deepnote_cell_type": "code",
    "deepnote_to_be_reexecuted": false,
    "execution_millis": 5,
    "execution_start": 1668017705309,
    "source_hash": "b6aa95b2",
    "tags": []
   },
   "outputs": [
    {
     "data": {
      "text/plain": [
       "0.0"
      ]
     },
     "execution_count": 24,
     "metadata": {},
     "output_type": "execute_result"
    }
   ],
   "source": [
    "reg2.intercept_"
   ]
  },
  {
   "cell_type": "markdown",
   "metadata": {},
   "source": [
    "More interesting are the seven coefficients."
   ]
  },
  {
   "cell_type": "code",
   "execution_count": 25,
   "metadata": {
    "cell_id": "fb91813d04a64472b8189354b5e6e09a",
    "deepnote_cell_type": "code",
    "deepnote_to_be_reexecuted": false,
    "execution_millis": 6,
    "execution_start": 1668017767667,
    "source_hash": "59aadfbd",
    "tags": []
   },
   "outputs": [
    {
     "data": {
      "text/plain": [
       "array([-1.00027917e-02, -5.73669613e-03,  7.57614205e-01,  1.42568914e-01,\n",
       "       -1.55580718e+01, -1.52649392e+01, -1.75931922e+01])"
      ]
     },
     "execution_count": 25,
     "metadata": {},
     "output_type": "execute_result"
    }
   ],
   "source": [
    "reg2.coef_"
   ]
  },
  {
   "cell_type": "markdown",
   "metadata": {},
   "source": [
    "Here they are, grouped with the corresponding column names.  Originally I was going to use `index=cols+new_cols`, but this approach, using `index=reg2.feature_names_in_`, is more robust."
   ]
  },
  {
   "cell_type": "code",
   "execution_count": 26,
   "metadata": {
    "cell_id": "829549b6831149f0a05811ea42fc08d9",
    "deepnote_cell_type": "code",
    "deepnote_to_be_reexecuted": false,
    "execution_millis": 5,
    "execution_start": 1668017814543,
    "source_hash": "a57d653b",
    "tags": []
   },
   "outputs": [
    {
     "data": {
      "text/plain": [
       "horsepower       -0.010003\n",
       "weight           -0.005737\n",
       "model_year        0.757614\n",
       "cylinders         0.142569\n",
       "origin_europe   -15.558072\n",
       "origin_japan    -15.264939\n",
       "origin_usa      -17.593192\n",
       "dtype: float64"
      ]
     },
     "execution_count": 26,
     "metadata": {},
     "output_type": "execute_result"
    }
   ],
   "source": [
    "pd.Series(reg2.coef_, index=reg2.feature_names_in_)"
   ]
  },
  {
   "cell_type": "markdown",
   "metadata": {},
   "source": [
    "Finding those coefficients is difficult, but once we have the coefficients, scikit-learn is not doing anything fancy when it makes its predictions.  Let's try to mimic the prediction for a single data point."
   ]
  },
  {
   "cell_type": "code",
   "execution_count": 27,
   "metadata": {
    "cell_id": "59b99d04c81d4ad8815c2d9adf8591eb",
    "deepnote_cell_type": "code",
    "deepnote_to_be_reexecuted": false,
    "execution_millis": 4,
    "execution_start": 1668017848897,
    "source_hash": "6048c052",
    "tags": []
   },
   "outputs": [
    {
     "data": {
      "text/plain": [
       "mpg                       18.0\n",
       "cylinders                    6\n",
       "displacement             250.0\n",
       "horsepower               105.0\n",
       "weight                    3459\n",
       "acceleration              16.0\n",
       "model_year                  75\n",
       "origin                     usa\n",
       "name            chevrolet nova\n",
       "Name: 153, dtype: object"
      ]
     },
     "execution_count": 27,
     "metadata": {},
     "output_type": "execute_result"
    }
   ],
   "source": [
    "df.loc[153]"
   ]
  },
  {
   "cell_type": "markdown",
   "metadata": {},
   "source": [
    "With some rounding, the following is the computation made by scikit-learn.  Look at these numbers and try to understand where they come from.  For example, `105` is the \"horsepower\" value, and `-0.01` is the corresponding coefficient found by `reg2`.\n",
    "\n",
    "Notice also the `-17.59` at the end.  This corresponds to the `origin_usa` value.  This ending will always be the same for every car with \"origin\" as \"usa\".  This `-17.59` is not being multiplied by anything (or, if you prefer, it is being multiplied by `1`), so it functions like an intercept, a custom intercept for the \"usa\" cars.  This is the reason why we set `fit_intercept=False` when we created `reg2`.  Another way to look at it, is if we wanted to add for example `13` as an intercept, we could just add `13` to the \"origin_europe\" value, to the \"origin_japan\" value, and to the \"origin_usa\" value; that would have the exact same effect."
   ]
  },
  {
   "cell_type": "code",
   "execution_count": 1,
   "metadata": {
    "cell_id": "22513862c3004ac3a416e8f3d08c49a0",
    "deepnote_cell_type": "code",
    "deepnote_to_be_reexecuted": false,
    "execution_millis": 3,
    "execution_start": 1668018179351,
    "source_hash": "4ba3be47",
    "tags": []
   },
   "outputs": [
    {
     "data": {
      "text/plain": [
       "19.270699999999994"
      ]
     },
     "execution_count": 1,
     "metadata": {},
     "output_type": "execute_result"
    }
   ],
   "source": [
    "105*-0.01+3459*-0.0057+0.757*75+0.142*6+-17.59"
   ]
  },
  {
   "cell_type": "markdown",
   "metadata": {},
   "source": [
    "Let's try to recover that number using `reg2.predict`.  We can't use the following because it is a pandas Series, and hence is one-dimensional."
   ]
  },
  {
   "cell_type": "code",
   "execution_count": 30,
   "metadata": {
    "cell_id": "aadfe800a03a41798483b9bf430f3d2e",
    "deepnote_cell_type": "code",
    "deepnote_to_be_reexecuted": false,
    "execution_millis": 6,
    "execution_start": 1668018262271,
    "source_hash": "53d0cbe0",
    "tags": []
   },
   "outputs": [
    {
     "data": {
      "text/plain": [
       "horsepower       105.0\n",
       "weight            3459\n",
       "model_year          75\n",
       "cylinders            6\n",
       "origin_europe      0.0\n",
       "origin_japan       0.0\n",
       "origin_usa         1.0\n",
       "Name: 153, dtype: object"
      ]
     },
     "execution_count": 30,
     "metadata": {},
     "output_type": "execute_result"
    }
   ],
   "source": [
    "df2.loc[153, cols+new_cols]"
   ]
  },
  {
   "cell_type": "markdown",
   "metadata": {},
   "source": [
    "By replacing the integer `153` with the list `[153]`, we get a pandas DataFrame with a single row."
   ]
  },
  {
   "cell_type": "code",
   "execution_count": 31,
   "metadata": {
    "cell_id": "e6c79294781d49939b18df88de8ca028",
    "deepnote_cell_type": "code",
    "deepnote_to_be_reexecuted": false,
    "execution_millis": 11,
    "execution_start": 1668018291126,
    "source_hash": "aa18f343",
    "tags": []
   },
   "outputs": [
    {
     "data": {
      "application/vnd.deepnote.dataframe.v3+json": {
       "column_count": 7,
       "columns": [
        {
         "dtype": "float64",
         "name": "horsepower",
         "stats": {
          "histogram": [
           {
            "bin_end": 104.6,
            "bin_start": 104.5,
            "count": 0
           },
           {
            "bin_end": 104.7,
            "bin_start": 104.6,
            "count": 0
           },
           {
            "bin_end": 104.8,
            "bin_start": 104.7,
            "count": 0
           },
           {
            "bin_end": 104.9,
            "bin_start": 104.8,
            "count": 0
           },
           {
            "bin_end": 105,
            "bin_start": 104.9,
            "count": 0
           },
           {
            "bin_end": 105.1,
            "bin_start": 105,
            "count": 1
           },
           {
            "bin_end": 105.2,
            "bin_start": 105.1,
            "count": 0
           },
           {
            "bin_end": 105.3,
            "bin_start": 105.2,
            "count": 0
           },
           {
            "bin_end": 105.4,
            "bin_start": 105.3,
            "count": 0
           },
           {
            "bin_end": 105.5,
            "bin_start": 105.4,
            "count": 0
           }
          ],
          "max": "105.0",
          "min": "105.0",
          "nan_count": 0,
          "unique_count": 1
         }
        },
        {
         "dtype": "int64",
         "name": "weight",
         "stats": {
          "histogram": [
           {
            "bin_end": 3458.6,
            "bin_start": 3458.5,
            "count": 0
           },
           {
            "bin_end": 3458.7,
            "bin_start": 3458.6,
            "count": 0
           },
           {
            "bin_end": 3458.8,
            "bin_start": 3458.7,
            "count": 0
           },
           {
            "bin_end": 3458.9,
            "bin_start": 3458.8,
            "count": 0
           },
           {
            "bin_end": 3459,
            "bin_start": 3458.9,
            "count": 0
           },
           {
            "bin_end": 3459.1,
            "bin_start": 3459,
            "count": 1
           },
           {
            "bin_end": 3459.2,
            "bin_start": 3459.1,
            "count": 0
           },
           {
            "bin_end": 3459.3,
            "bin_start": 3459.2,
            "count": 0
           },
           {
            "bin_end": 3459.4,
            "bin_start": 3459.3,
            "count": 0
           },
           {
            "bin_end": 3459.5,
            "bin_start": 3459.4,
            "count": 0
           }
          ],
          "max": "3459",
          "min": "3459",
          "nan_count": 0,
          "unique_count": 1
         }
        },
        {
         "dtype": "int64",
         "name": "model_year",
         "stats": {
          "histogram": [
           {
            "bin_end": 74.6,
            "bin_start": 74.5,
            "count": 0
           },
           {
            "bin_end": 74.7,
            "bin_start": 74.6,
            "count": 0
           },
           {
            "bin_end": 74.8,
            "bin_start": 74.7,
            "count": 0
           },
           {
            "bin_end": 74.9,
            "bin_start": 74.8,
            "count": 0
           },
           {
            "bin_end": 75,
            "bin_start": 74.9,
            "count": 0
           },
           {
            "bin_end": 75.1,
            "bin_start": 75,
            "count": 1
           },
           {
            "bin_end": 75.2,
            "bin_start": 75.1,
            "count": 0
           },
           {
            "bin_end": 75.3,
            "bin_start": 75.2,
            "count": 0
           },
           {
            "bin_end": 75.4,
            "bin_start": 75.3,
            "count": 0
           },
           {
            "bin_end": 75.5,
            "bin_start": 75.4,
            "count": 0
           }
          ],
          "max": "75",
          "min": "75",
          "nan_count": 0,
          "unique_count": 1
         }
        },
        {
         "dtype": "int64",
         "name": "cylinders",
         "stats": {
          "histogram": [
           {
            "bin_end": 5.6,
            "bin_start": 5.5,
            "count": 0
           },
           {
            "bin_end": 5.7,
            "bin_start": 5.6,
            "count": 0
           },
           {
            "bin_end": 5.8,
            "bin_start": 5.7,
            "count": 0
           },
           {
            "bin_end": 5.9,
            "bin_start": 5.8,
            "count": 0
           },
           {
            "bin_end": 6,
            "bin_start": 5.9,
            "count": 0
           },
           {
            "bin_end": 6.1,
            "bin_start": 6,
            "count": 1
           },
           {
            "bin_end": 6.2,
            "bin_start": 6.1,
            "count": 0
           },
           {
            "bin_end": 6.3,
            "bin_start": 6.2,
            "count": 0
           },
           {
            "bin_end": 6.4,
            "bin_start": 6.3,
            "count": 0
           },
           {
            "bin_end": 6.5,
            "bin_start": 6.4,
            "count": 0
           }
          ],
          "max": "6",
          "min": "6",
          "nan_count": 0,
          "unique_count": 1
         }
        },
        {
         "dtype": "float64",
         "name": "origin_europe",
         "stats": {
          "histogram": [
           {
            "bin_end": -0.4,
            "bin_start": -0.5,
            "count": 0
           },
           {
            "bin_end": -0.3,
            "bin_start": -0.4,
            "count": 0
           },
           {
            "bin_end": -0.19999999999999996,
            "bin_start": -0.3,
            "count": 0
           },
           {
            "bin_end": -0.09999999999999998,
            "bin_start": -0.19999999999999996,
            "count": 0
           },
           {
            "bin_end": 0,
            "bin_start": -0.09999999999999998,
            "count": 0
           },
           {
            "bin_end": 0.10000000000000009,
            "bin_start": 0,
            "count": 1
           },
           {
            "bin_end": 0.20000000000000007,
            "bin_start": 0.10000000000000009,
            "count": 0
           },
           {
            "bin_end": 0.30000000000000004,
            "bin_start": 0.20000000000000007,
            "count": 0
           },
           {
            "bin_end": 0.4,
            "bin_start": 0.30000000000000004,
            "count": 0
           },
           {
            "bin_end": 0.5,
            "bin_start": 0.4,
            "count": 0
           }
          ],
          "max": "0.0",
          "min": "0.0",
          "nan_count": 0,
          "unique_count": 1
         }
        },
        {
         "dtype": "float64",
         "name": "origin_japan",
         "stats": {
          "histogram": [
           {
            "bin_end": -0.4,
            "bin_start": -0.5,
            "count": 0
           },
           {
            "bin_end": -0.3,
            "bin_start": -0.4,
            "count": 0
           },
           {
            "bin_end": -0.19999999999999996,
            "bin_start": -0.3,
            "count": 0
           },
           {
            "bin_end": -0.09999999999999998,
            "bin_start": -0.19999999999999996,
            "count": 0
           },
           {
            "bin_end": 0,
            "bin_start": -0.09999999999999998,
            "count": 0
           },
           {
            "bin_end": 0.10000000000000009,
            "bin_start": 0,
            "count": 1
           },
           {
            "bin_end": 0.20000000000000007,
            "bin_start": 0.10000000000000009,
            "count": 0
           },
           {
            "bin_end": 0.30000000000000004,
            "bin_start": 0.20000000000000007,
            "count": 0
           },
           {
            "bin_end": 0.4,
            "bin_start": 0.30000000000000004,
            "count": 0
           },
           {
            "bin_end": 0.5,
            "bin_start": 0.4,
            "count": 0
           }
          ],
          "max": "0.0",
          "min": "0.0",
          "nan_count": 0,
          "unique_count": 1
         }
        },
        {
         "dtype": "float64",
         "name": "origin_usa",
         "stats": {
          "histogram": [
           {
            "bin_end": 0.6,
            "bin_start": 0.5,
            "count": 0
           },
           {
            "bin_end": 0.7,
            "bin_start": 0.6,
            "count": 0
           },
           {
            "bin_end": 0.8,
            "bin_start": 0.7,
            "count": 0
           },
           {
            "bin_end": 0.9,
            "bin_start": 0.8,
            "count": 0
           },
           {
            "bin_end": 1,
            "bin_start": 0.9,
            "count": 0
           },
           {
            "bin_end": 1.1,
            "bin_start": 1,
            "count": 1
           },
           {
            "bin_end": 1.2000000000000002,
            "bin_start": 1.1,
            "count": 0
           },
           {
            "bin_end": 1.3,
            "bin_start": 1.2000000000000002,
            "count": 0
           },
           {
            "bin_end": 1.4,
            "bin_start": 1.3,
            "count": 0
           },
           {
            "bin_end": 1.5,
            "bin_start": 1.4,
            "count": 0
           }
          ],
          "max": "1.0",
          "min": "1.0",
          "nan_count": 0,
          "unique_count": 1
         }
        },
        {
         "dtype": "int64",
         "name": "_deepnote_index_column"
        }
       ],
       "row_count": 1,
       "rows": [
        {
         "_deepnote_index_column": "153",
         "cylinders": "6",
         "horsepower": "105.0",
         "model_year": "75",
         "origin_europe": "0.0",
         "origin_japan": "0.0",
         "origin_usa": "1.0",
         "weight": "3459"
        }
       ]
      },
      "text/html": [
       "<div>\n",
       "<style scoped>\n",
       "    .dataframe tbody tr th:only-of-type {\n",
       "        vertical-align: middle;\n",
       "    }\n",
       "\n",
       "    .dataframe tbody tr th {\n",
       "        vertical-align: top;\n",
       "    }\n",
       "\n",
       "    .dataframe thead th {\n",
       "        text-align: right;\n",
       "    }\n",
       "</style>\n",
       "<table border=\"1\" class=\"dataframe\">\n",
       "  <thead>\n",
       "    <tr style=\"text-align: right;\">\n",
       "      <th></th>\n",
       "      <th>horsepower</th>\n",
       "      <th>weight</th>\n",
       "      <th>model_year</th>\n",
       "      <th>cylinders</th>\n",
       "      <th>origin_europe</th>\n",
       "      <th>origin_japan</th>\n",
       "      <th>origin_usa</th>\n",
       "    </tr>\n",
       "  </thead>\n",
       "  <tbody>\n",
       "    <tr>\n",
       "      <th>153</th>\n",
       "      <td>105.0</td>\n",
       "      <td>3459</td>\n",
       "      <td>75</td>\n",
       "      <td>6</td>\n",
       "      <td>0.0</td>\n",
       "      <td>0.0</td>\n",
       "      <td>1.0</td>\n",
       "    </tr>\n",
       "  </tbody>\n",
       "</table>\n",
       "</div>"
      ],
      "text/plain": [
       "     horsepower  weight  model_year  cylinders  origin_europe  origin_japan  \\\n",
       "153       105.0    3459          75          6            0.0           0.0   \n",
       "\n",
       "     origin_usa  \n",
       "153         1.0  "
      ]
     },
     "execution_count": 31,
     "metadata": {},
     "output_type": "execute_result"
    }
   ],
   "source": [
    "df2.loc[[153], cols+new_cols]"
   ]
  },
  {
   "cell_type": "markdown",
   "metadata": {},
   "source": [
    "Now we can use `reg2.predict`.  The resulting value isn't exactly the same as above (`19.19` instead of `19.27`), but I think this distinction is just due to the rounding I did when typing out the coefficients."
   ]
  },
  {
   "cell_type": "code",
   "execution_count": 32,
   "metadata": {
    "cell_id": "2551157f30034912a88a033afeb88ea4",
    "deepnote_cell_type": "code",
    "deepnote_to_be_reexecuted": false,
    "execution_millis": 0,
    "execution_start": 1668018318160,
    "source_hash": "d274ad1",
    "tags": []
   },
   "outputs": [
    {
     "data": {
      "text/plain": [
       "array([19.18976159])"
      ]
     },
     "execution_count": 32,
     "metadata": {},
     "output_type": "execute_result"
    }
   ],
   "source": [
    "reg2.predict(df2.loc[[153], cols+new_cols])"
   ]
  },
  {
   "cell_type": "markdown",
   "metadata": {
    "cell_id": "277beb319bdd4352a862c2c835a59a2b",
    "deepnote_cell_type": "markdown",
    "tags": []
   },
   "source": [
    "## Polynomial regression\n",
    "\n",
    "In linear regression, we find the linear function that best fits the data (\"best\" meaning it minimizes the Mean Squared Error, discussed more in this week's videos).\n",
    "\n",
    "In polynomial regression, we fix a degree `d`, and then find the polynomial function that best fits the data.  We use the same `LinearRegression` class from scikit-learn, and if we use `d=1`, we will get the same results as linear regression.\n",
    "\n",
    "* Using polynomial regression with degree `d=3`, model \"mpg\" as a degree 3 polynomial of \"horsepower\".  Plot the corresponding predicted values."
   ]
  },
  {
   "cell_type": "markdown",
   "metadata": {},
   "source": [
    "I had intended to use `PolynomialFeatures` from scikit-learn.preprocessing, but because we were low on time, I used a more basic approach."
   ]
  },
  {
   "cell_type": "code",
   "execution_count": 33,
   "metadata": {
    "cell_id": "f9f973f180d44f4a8640a81de815b9fe",
    "deepnote_cell_type": "code",
    "deepnote_to_be_reexecuted": false,
    "execution_millis": 92,
    "execution_start": 1668019402553,
    "source_hash": "6c23d5c5",
    "tags": []
   },
   "outputs": [
    {
     "data": {
      "application/vnd.deepnote.dataframe.v3+json": {
       "column_count": 9,
       "columns": [
        {
         "dtype": "float64",
         "name": "mpg",
         "stats": {
          "histogram": [
           {
            "bin_end": 15.3,
            "bin_start": 15,
            "count": 1
           },
           {
            "bin_end": 15.6,
            "bin_start": 15.3,
            "count": 0
           },
           {
            "bin_end": 15.9,
            "bin_start": 15.6,
            "count": 0
           },
           {
            "bin_end": 16.2,
            "bin_start": 15.9,
            "count": 0
           },
           {
            "bin_end": 16.5,
            "bin_start": 16.2,
            "count": 0
           },
           {
            "bin_end": 16.8,
            "bin_start": 16.5,
            "count": 0
           },
           {
            "bin_end": 17.1,
            "bin_start": 16.8,
            "count": 0
           },
           {
            "bin_end": 17.4,
            "bin_start": 17.1,
            "count": 0
           },
           {
            "bin_end": 17.7,
            "bin_start": 17.4,
            "count": 0
           },
           {
            "bin_end": 18,
            "bin_start": 17.7,
            "count": 2
           }
          ],
          "max": "18.0",
          "min": "15.0",
          "nan_count": 0,
          "unique_count": 2
         }
        },
        {
         "dtype": "int64",
         "name": "cylinders",
         "stats": {
          "histogram": [
           {
            "bin_end": 7.6,
            "bin_start": 7.5,
            "count": 0
           },
           {
            "bin_end": 7.7,
            "bin_start": 7.6,
            "count": 0
           },
           {
            "bin_end": 7.8,
            "bin_start": 7.7,
            "count": 0
           },
           {
            "bin_end": 7.9,
            "bin_start": 7.8,
            "count": 0
           },
           {
            "bin_end": 8,
            "bin_start": 7.9,
            "count": 0
           },
           {
            "bin_end": 8.1,
            "bin_start": 8,
            "count": 3
           },
           {
            "bin_end": 8.2,
            "bin_start": 8.1,
            "count": 0
           },
           {
            "bin_end": 8.3,
            "bin_start": 8.2,
            "count": 0
           },
           {
            "bin_end": 8.4,
            "bin_start": 8.3,
            "count": 0
           },
           {
            "bin_end": 8.5,
            "bin_start": 8.4,
            "count": 0
           }
          ],
          "max": "8",
          "min": "8",
          "nan_count": 0,
          "unique_count": 1
         }
        },
        {
         "dtype": "float64",
         "name": "displacement",
         "stats": {
          "histogram": [
           {
            "bin_end": 311.3,
            "bin_start": 307,
            "count": 1
           },
           {
            "bin_end": 315.6,
            "bin_start": 311.3,
            "count": 0
           },
           {
            "bin_end": 319.9,
            "bin_start": 315.6,
            "count": 1
           },
           {
            "bin_end": 324.2,
            "bin_start": 319.9,
            "count": 0
           },
           {
            "bin_end": 328.5,
            "bin_start": 324.2,
            "count": 0
           },
           {
            "bin_end": 332.8,
            "bin_start": 328.5,
            "count": 0
           },
           {
            "bin_end": 337.1,
            "bin_start": 332.8,
            "count": 0
           },
           {
            "bin_end": 341.4,
            "bin_start": 337.1,
            "count": 0
           },
           {
            "bin_end": 345.7,
            "bin_start": 341.4,
            "count": 0
           },
           {
            "bin_end": 350,
            "bin_start": 345.7,
            "count": 1
           }
          ],
          "max": "350.0",
          "min": "307.0",
          "nan_count": 0,
          "unique_count": 3
         }
        },
        {
         "dtype": "float64",
         "name": "horsepower",
         "stats": {
          "histogram": [
           {
            "bin_end": 133.5,
            "bin_start": 130,
            "count": 1
           },
           {
            "bin_end": 137,
            "bin_start": 133.5,
            "count": 0
           },
           {
            "bin_end": 140.5,
            "bin_start": 137,
            "count": 0
           },
           {
            "bin_end": 144,
            "bin_start": 140.5,
            "count": 0
           },
           {
            "bin_end": 147.5,
            "bin_start": 144,
            "count": 0
           },
           {
            "bin_end": 151,
            "bin_start": 147.5,
            "count": 1
           },
           {
            "bin_end": 154.5,
            "bin_start": 151,
            "count": 0
           },
           {
            "bin_end": 158,
            "bin_start": 154.5,
            "count": 0
           },
           {
            "bin_end": 161.5,
            "bin_start": 158,
            "count": 0
           },
           {
            "bin_end": 165,
            "bin_start": 161.5,
            "count": 1
           }
          ],
          "max": "165.0",
          "min": "130.0",
          "nan_count": 0,
          "unique_count": 3
         }
        },
        {
         "dtype": "int64",
         "name": "weight",
         "stats": {
          "histogram": [
           {
            "bin_end": 3461.7,
            "bin_start": 3436,
            "count": 1
           },
           {
            "bin_end": 3487.4,
            "bin_start": 3461.7,
            "count": 0
           },
           {
            "bin_end": 3513.1,
            "bin_start": 3487.4,
            "count": 1
           },
           {
            "bin_end": 3538.8,
            "bin_start": 3513.1,
            "count": 0
           },
           {
            "bin_end": 3564.5,
            "bin_start": 3538.8,
            "count": 0
           },
           {
            "bin_end": 3590.2,
            "bin_start": 3564.5,
            "count": 0
           },
           {
            "bin_end": 3615.9,
            "bin_start": 3590.2,
            "count": 0
           },
           {
            "bin_end": 3641.6,
            "bin_start": 3615.9,
            "count": 0
           },
           {
            "bin_end": 3667.3,
            "bin_start": 3641.6,
            "count": 0
           },
           {
            "bin_end": 3693,
            "bin_start": 3667.3,
            "count": 1
           }
          ],
          "max": "3693",
          "min": "3436",
          "nan_count": 0,
          "unique_count": 3
         }
        },
        {
         "dtype": "float64",
         "name": "acceleration",
         "stats": {
          "histogram": [
           {
            "bin_end": 11.1,
            "bin_start": 11,
            "count": 1
           },
           {
            "bin_end": 11.2,
            "bin_start": 11.1,
            "count": 0
           },
           {
            "bin_end": 11.3,
            "bin_start": 11.2,
            "count": 0
           },
           {
            "bin_end": 11.4,
            "bin_start": 11.3,
            "count": 0
           },
           {
            "bin_end": 11.5,
            "bin_start": 11.4,
            "count": 0
           },
           {
            "bin_end": 11.6,
            "bin_start": 11.5,
            "count": 1
           },
           {
            "bin_end": 11.7,
            "bin_start": 11.6,
            "count": 0
           },
           {
            "bin_end": 11.8,
            "bin_start": 11.7,
            "count": 0
           },
           {
            "bin_end": 11.9,
            "bin_start": 11.8,
            "count": 0
           },
           {
            "bin_end": 12,
            "bin_start": 11.9,
            "count": 1
           }
          ],
          "max": "12.0",
          "min": "11.0",
          "nan_count": 0,
          "unique_count": 3
         }
        },
        {
         "dtype": "int64",
         "name": "model_year",
         "stats": {
          "histogram": [
           {
            "bin_end": 69.6,
            "bin_start": 69.5,
            "count": 0
           },
           {
            "bin_end": 69.7,
            "bin_start": 69.6,
            "count": 0
           },
           {
            "bin_end": 69.8,
            "bin_start": 69.7,
            "count": 0
           },
           {
            "bin_end": 69.9,
            "bin_start": 69.8,
            "count": 0
           },
           {
            "bin_end": 70,
            "bin_start": 69.9,
            "count": 0
           },
           {
            "bin_end": 70.1,
            "bin_start": 70,
            "count": 3
           },
           {
            "bin_end": 70.2,
            "bin_start": 70.1,
            "count": 0
           },
           {
            "bin_end": 70.3,
            "bin_start": 70.2,
            "count": 0
           },
           {
            "bin_end": 70.4,
            "bin_start": 70.3,
            "count": 0
           },
           {
            "bin_end": 70.5,
            "bin_start": 70.4,
            "count": 0
           }
          ],
          "max": "70",
          "min": "70",
          "nan_count": 0,
          "unique_count": 1
         }
        },
        {
         "dtype": "object",
         "name": "origin",
         "stats": {
          "categories": [
           {
            "count": 3,
            "name": "usa"
           }
          ],
          "nan_count": 0,
          "unique_count": 1
         }
        },
        {
         "dtype": "object",
         "name": "name",
         "stats": {
          "categories": [
           {
            "count": 1,
            "name": "chevrolet chevelle malibu"
           },
           {
            "count": 1,
            "name": "buick skylark 320"
           },
           {
            "count": 1,
            "name": "plymouth satellite"
           }
          ],
          "nan_count": 0,
          "unique_count": 3
         }
        },
        {
         "dtype": "int64",
         "name": "_deepnote_index_column"
        }
       ],
       "row_count": 3,
       "rows": [
        {
         "_deepnote_index_column": "0",
         "acceleration": "12.0",
         "cylinders": "8",
         "displacement": "307.0",
         "horsepower": "130.0",
         "model_year": "70",
         "mpg": "18.0",
         "name": "chevrolet chevelle malibu",
         "origin": "usa",
         "weight": "3504"
        },
        {
         "_deepnote_index_column": "1",
         "acceleration": "11.5",
         "cylinders": "8",
         "displacement": "350.0",
         "horsepower": "165.0",
         "model_year": "70",
         "mpg": "15.0",
         "name": "buick skylark 320",
         "origin": "usa",
         "weight": "3693"
        },
        {
         "_deepnote_index_column": "2",
         "acceleration": "11.0",
         "cylinders": "8",
         "displacement": "318.0",
         "horsepower": "150.0",
         "model_year": "70",
         "mpg": "18.0",
         "name": "plymouth satellite",
         "origin": "usa",
         "weight": "3436"
        }
       ]
      },
      "text/html": [
       "<div>\n",
       "<style scoped>\n",
       "    .dataframe tbody tr th:only-of-type {\n",
       "        vertical-align: middle;\n",
       "    }\n",
       "\n",
       "    .dataframe tbody tr th {\n",
       "        vertical-align: top;\n",
       "    }\n",
       "\n",
       "    .dataframe thead th {\n",
       "        text-align: right;\n",
       "    }\n",
       "</style>\n",
       "<table border=\"1\" class=\"dataframe\">\n",
       "  <thead>\n",
       "    <tr style=\"text-align: right;\">\n",
       "      <th></th>\n",
       "      <th>mpg</th>\n",
       "      <th>cylinders</th>\n",
       "      <th>displacement</th>\n",
       "      <th>horsepower</th>\n",
       "      <th>weight</th>\n",
       "      <th>acceleration</th>\n",
       "      <th>model_year</th>\n",
       "      <th>origin</th>\n",
       "      <th>name</th>\n",
       "    </tr>\n",
       "  </thead>\n",
       "  <tbody>\n",
       "    <tr>\n",
       "      <th>0</th>\n",
       "      <td>18.0</td>\n",
       "      <td>8</td>\n",
       "      <td>307.0</td>\n",
       "      <td>130.0</td>\n",
       "      <td>3504</td>\n",
       "      <td>12.0</td>\n",
       "      <td>70</td>\n",
       "      <td>usa</td>\n",
       "      <td>chevrolet chevelle malibu</td>\n",
       "    </tr>\n",
       "    <tr>\n",
       "      <th>1</th>\n",
       "      <td>15.0</td>\n",
       "      <td>8</td>\n",
       "      <td>350.0</td>\n",
       "      <td>165.0</td>\n",
       "      <td>3693</td>\n",
       "      <td>11.5</td>\n",
       "      <td>70</td>\n",
       "      <td>usa</td>\n",
       "      <td>buick skylark 320</td>\n",
       "    </tr>\n",
       "    <tr>\n",
       "      <th>2</th>\n",
       "      <td>18.0</td>\n",
       "      <td>8</td>\n",
       "      <td>318.0</td>\n",
       "      <td>150.0</td>\n",
       "      <td>3436</td>\n",
       "      <td>11.0</td>\n",
       "      <td>70</td>\n",
       "      <td>usa</td>\n",
       "      <td>plymouth satellite</td>\n",
       "    </tr>\n",
       "  </tbody>\n",
       "</table>\n",
       "</div>"
      ],
      "text/plain": [
       "    mpg  cylinders  displacement  horsepower  weight  acceleration  \\\n",
       "0  18.0          8         307.0       130.0    3504          12.0   \n",
       "1  15.0          8         350.0       165.0    3693          11.5   \n",
       "2  18.0          8         318.0       150.0    3436          11.0   \n",
       "\n",
       "   model_year origin                       name  \n",
       "0          70    usa  chevrolet chevelle malibu  \n",
       "1          70    usa          buick skylark 320  \n",
       "2          70    usa         plymouth satellite  "
      ]
     },
     "execution_count": 33,
     "metadata": {},
     "output_type": "execute_result"
    }
   ],
   "source": [
    "# There is a fancier approach using PolynomialFeatures\n",
    "df.head(3)"
   ]
  },
  {
   "cell_type": "markdown",
   "metadata": {},
   "source": [
    "The main trick is to add columns to the DataFrame corresponding to powers of the \"horsepower\" column.  Then we can perform linear regression.  Phrased another way, if $x_2 = x^2$, then finding a coefficient of $x_2$ is the same as finding a coefficient of $x^2$.\n",
    "\n",
    "With a higher degree, you should use a for loop.  I just typed these out by hand to keep things moving faster."
   ]
  },
  {
   "cell_type": "code",
   "execution_count": 34,
   "metadata": {
    "cell_id": "886dfbdca2a741d8a39b28ea211f2f86",
    "deepnote_cell_type": "code",
    "deepnote_to_be_reexecuted": false,
    "execution_millis": 0,
    "execution_start": 1668019461037,
    "source_hash": "84c0adc0",
    "tags": []
   },
   "outputs": [],
   "source": [
    "df[\"h2\"] = df[\"horsepower\"]**2"
   ]
  },
  {
   "cell_type": "code",
   "execution_count": 35,
   "metadata": {
    "cell_id": "adf542ff439f41d1985ab783758d18c1",
    "deepnote_cell_type": "code",
    "deepnote_to_be_reexecuted": false,
    "execution_millis": 0,
    "execution_start": 1668019481445,
    "source_hash": "40d75bf8",
    "tags": []
   },
   "outputs": [],
   "source": [
    "df[\"h3\"] = df[\"horsepower\"]**3"
   ]
  },
  {
   "cell_type": "markdown",
   "metadata": {},
   "source": [
    "Notice how we have two new columns on the right.  For example, the \"h2\" value of `16900` in the top row corresponds to `130**2`."
   ]
  },
  {
   "cell_type": "code",
   "execution_count": 36,
   "metadata": {
    "cell_id": "3d9a7d56af2841a68fca916c9996dcda",
    "deepnote_cell_type": "code",
    "deepnote_to_be_reexecuted": false,
    "execution_millis": 37,
    "execution_start": 1668019484365,
    "source_hash": "3a1ea484",
    "tags": []
   },
   "outputs": [
    {
     "data": {
      "application/vnd.deepnote.dataframe.v3+json": {
       "column_count": 11,
       "columns": [
        {
         "dtype": "float64",
         "name": "mpg",
         "stats": {
          "histogram": [
           {
            "bin_end": 15.3,
            "bin_start": 15,
            "count": 1
           },
           {
            "bin_end": 15.6,
            "bin_start": 15.3,
            "count": 0
           },
           {
            "bin_end": 15.9,
            "bin_start": 15.6,
            "count": 0
           },
           {
            "bin_end": 16.2,
            "bin_start": 15.9,
            "count": 0
           },
           {
            "bin_end": 16.5,
            "bin_start": 16.2,
            "count": 0
           },
           {
            "bin_end": 16.8,
            "bin_start": 16.5,
            "count": 0
           },
           {
            "bin_end": 17.1,
            "bin_start": 16.8,
            "count": 0
           },
           {
            "bin_end": 17.4,
            "bin_start": 17.1,
            "count": 0
           },
           {
            "bin_end": 17.7,
            "bin_start": 17.4,
            "count": 0
           },
           {
            "bin_end": 18,
            "bin_start": 17.7,
            "count": 2
           }
          ],
          "max": "18.0",
          "min": "15.0",
          "nan_count": 0,
          "unique_count": 2
         }
        },
        {
         "dtype": "int64",
         "name": "cylinders",
         "stats": {
          "histogram": [
           {
            "bin_end": 7.6,
            "bin_start": 7.5,
            "count": 0
           },
           {
            "bin_end": 7.7,
            "bin_start": 7.6,
            "count": 0
           },
           {
            "bin_end": 7.8,
            "bin_start": 7.7,
            "count": 0
           },
           {
            "bin_end": 7.9,
            "bin_start": 7.8,
            "count": 0
           },
           {
            "bin_end": 8,
            "bin_start": 7.9,
            "count": 0
           },
           {
            "bin_end": 8.1,
            "bin_start": 8,
            "count": 3
           },
           {
            "bin_end": 8.2,
            "bin_start": 8.1,
            "count": 0
           },
           {
            "bin_end": 8.3,
            "bin_start": 8.2,
            "count": 0
           },
           {
            "bin_end": 8.4,
            "bin_start": 8.3,
            "count": 0
           },
           {
            "bin_end": 8.5,
            "bin_start": 8.4,
            "count": 0
           }
          ],
          "max": "8",
          "min": "8",
          "nan_count": 0,
          "unique_count": 1
         }
        },
        {
         "dtype": "float64",
         "name": "displacement",
         "stats": {
          "histogram": [
           {
            "bin_end": 311.3,
            "bin_start": 307,
            "count": 1
           },
           {
            "bin_end": 315.6,
            "bin_start": 311.3,
            "count": 0
           },
           {
            "bin_end": 319.9,
            "bin_start": 315.6,
            "count": 1
           },
           {
            "bin_end": 324.2,
            "bin_start": 319.9,
            "count": 0
           },
           {
            "bin_end": 328.5,
            "bin_start": 324.2,
            "count": 0
           },
           {
            "bin_end": 332.8,
            "bin_start": 328.5,
            "count": 0
           },
           {
            "bin_end": 337.1,
            "bin_start": 332.8,
            "count": 0
           },
           {
            "bin_end": 341.4,
            "bin_start": 337.1,
            "count": 0
           },
           {
            "bin_end": 345.7,
            "bin_start": 341.4,
            "count": 0
           },
           {
            "bin_end": 350,
            "bin_start": 345.7,
            "count": 1
           }
          ],
          "max": "350.0",
          "min": "307.0",
          "nan_count": 0,
          "unique_count": 3
         }
        },
        {
         "dtype": "float64",
         "name": "horsepower",
         "stats": {
          "histogram": [
           {
            "bin_end": 133.5,
            "bin_start": 130,
            "count": 1
           },
           {
            "bin_end": 137,
            "bin_start": 133.5,
            "count": 0
           },
           {
            "bin_end": 140.5,
            "bin_start": 137,
            "count": 0
           },
           {
            "bin_end": 144,
            "bin_start": 140.5,
            "count": 0
           },
           {
            "bin_end": 147.5,
            "bin_start": 144,
            "count": 0
           },
           {
            "bin_end": 151,
            "bin_start": 147.5,
            "count": 1
           },
           {
            "bin_end": 154.5,
            "bin_start": 151,
            "count": 0
           },
           {
            "bin_end": 158,
            "bin_start": 154.5,
            "count": 0
           },
           {
            "bin_end": 161.5,
            "bin_start": 158,
            "count": 0
           },
           {
            "bin_end": 165,
            "bin_start": 161.5,
            "count": 1
           }
          ],
          "max": "165.0",
          "min": "130.0",
          "nan_count": 0,
          "unique_count": 3
         }
        },
        {
         "dtype": "int64",
         "name": "weight",
         "stats": {
          "histogram": [
           {
            "bin_end": 3461.7,
            "bin_start": 3436,
            "count": 1
           },
           {
            "bin_end": 3487.4,
            "bin_start": 3461.7,
            "count": 0
           },
           {
            "bin_end": 3513.1,
            "bin_start": 3487.4,
            "count": 1
           },
           {
            "bin_end": 3538.8,
            "bin_start": 3513.1,
            "count": 0
           },
           {
            "bin_end": 3564.5,
            "bin_start": 3538.8,
            "count": 0
           },
           {
            "bin_end": 3590.2,
            "bin_start": 3564.5,
            "count": 0
           },
           {
            "bin_end": 3615.9,
            "bin_start": 3590.2,
            "count": 0
           },
           {
            "bin_end": 3641.6,
            "bin_start": 3615.9,
            "count": 0
           },
           {
            "bin_end": 3667.3,
            "bin_start": 3641.6,
            "count": 0
           },
           {
            "bin_end": 3693,
            "bin_start": 3667.3,
            "count": 1
           }
          ],
          "max": "3693",
          "min": "3436",
          "nan_count": 0,
          "unique_count": 3
         }
        },
        {
         "dtype": "float64",
         "name": "acceleration",
         "stats": {
          "histogram": [
           {
            "bin_end": 11.1,
            "bin_start": 11,
            "count": 1
           },
           {
            "bin_end": 11.2,
            "bin_start": 11.1,
            "count": 0
           },
           {
            "bin_end": 11.3,
            "bin_start": 11.2,
            "count": 0
           },
           {
            "bin_end": 11.4,
            "bin_start": 11.3,
            "count": 0
           },
           {
            "bin_end": 11.5,
            "bin_start": 11.4,
            "count": 0
           },
           {
            "bin_end": 11.6,
            "bin_start": 11.5,
            "count": 1
           },
           {
            "bin_end": 11.7,
            "bin_start": 11.6,
            "count": 0
           },
           {
            "bin_end": 11.8,
            "bin_start": 11.7,
            "count": 0
           },
           {
            "bin_end": 11.9,
            "bin_start": 11.8,
            "count": 0
           },
           {
            "bin_end": 12,
            "bin_start": 11.9,
            "count": 1
           }
          ],
          "max": "12.0",
          "min": "11.0",
          "nan_count": 0,
          "unique_count": 3
         }
        },
        {
         "dtype": "int64",
         "name": "model_year",
         "stats": {
          "histogram": [
           {
            "bin_end": 69.6,
            "bin_start": 69.5,
            "count": 0
           },
           {
            "bin_end": 69.7,
            "bin_start": 69.6,
            "count": 0
           },
           {
            "bin_end": 69.8,
            "bin_start": 69.7,
            "count": 0
           },
           {
            "bin_end": 69.9,
            "bin_start": 69.8,
            "count": 0
           },
           {
            "bin_end": 70,
            "bin_start": 69.9,
            "count": 0
           },
           {
            "bin_end": 70.1,
            "bin_start": 70,
            "count": 3
           },
           {
            "bin_end": 70.2,
            "bin_start": 70.1,
            "count": 0
           },
           {
            "bin_end": 70.3,
            "bin_start": 70.2,
            "count": 0
           },
           {
            "bin_end": 70.4,
            "bin_start": 70.3,
            "count": 0
           },
           {
            "bin_end": 70.5,
            "bin_start": 70.4,
            "count": 0
           }
          ],
          "max": "70",
          "min": "70",
          "nan_count": 0,
          "unique_count": 1
         }
        },
        {
         "dtype": "object",
         "name": "origin",
         "stats": {
          "categories": [
           {
            "count": 3,
            "name": "usa"
           }
          ],
          "nan_count": 0,
          "unique_count": 1
         }
        },
        {
         "dtype": "object",
         "name": "name",
         "stats": {
          "categories": [
           {
            "count": 1,
            "name": "chevrolet chevelle malibu"
           },
           {
            "count": 1,
            "name": "buick skylark 320"
           },
           {
            "count": 1,
            "name": "plymouth satellite"
           }
          ],
          "nan_count": 0,
          "unique_count": 3
         }
        },
        {
         "dtype": "float64",
         "name": "h2",
         "stats": {
          "histogram": [
           {
            "bin_end": 17932.5,
            "bin_start": 16900,
            "count": 1
           },
           {
            "bin_end": 18965,
            "bin_start": 17932.5,
            "count": 0
           },
           {
            "bin_end": 19997.5,
            "bin_start": 18965,
            "count": 0
           },
           {
            "bin_end": 21030,
            "bin_start": 19997.5,
            "count": 0
           },
           {
            "bin_end": 22062.5,
            "bin_start": 21030,
            "count": 0
           },
           {
            "bin_end": 23095,
            "bin_start": 22062.5,
            "count": 1
           },
           {
            "bin_end": 24127.5,
            "bin_start": 23095,
            "count": 0
           },
           {
            "bin_end": 25160,
            "bin_start": 24127.5,
            "count": 0
           },
           {
            "bin_end": 26192.5,
            "bin_start": 25160,
            "count": 0
           },
           {
            "bin_end": 27225,
            "bin_start": 26192.5,
            "count": 1
           }
          ],
          "max": "27225.0",
          "min": "16900.0",
          "nan_count": 0,
          "unique_count": 3
         }
        },
        {
         "dtype": "float64",
         "name": "h3",
         "stats": {
          "histogram": [
           {
            "bin_end": 2426512.5,
            "bin_start": 2197000,
            "count": 1
           },
           {
            "bin_end": 2656025,
            "bin_start": 2426512.5,
            "count": 0
           },
           {
            "bin_end": 2885537.5,
            "bin_start": 2656025,
            "count": 0
           },
           {
            "bin_end": 3115050,
            "bin_start": 2885537.5,
            "count": 0
           },
           {
            "bin_end": 3344562.5,
            "bin_start": 3115050,
            "count": 0
           },
           {
            "bin_end": 3574075,
            "bin_start": 3344562.5,
            "count": 1
           },
           {
            "bin_end": 3803587.5,
            "bin_start": 3574075,
            "count": 0
           },
           {
            "bin_end": 4033100,
            "bin_start": 3803587.5,
            "count": 0
           },
           {
            "bin_end": 4262612.5,
            "bin_start": 4033100,
            "count": 0
           },
           {
            "bin_end": 4492125,
            "bin_start": 4262612.5,
            "count": 1
           }
          ],
          "max": "4492125.0",
          "min": "2197000.0",
          "nan_count": 0,
          "unique_count": 3
         }
        },
        {
         "dtype": "int64",
         "name": "_deepnote_index_column"
        }
       ],
       "row_count": 3,
       "rows": [
        {
         "_deepnote_index_column": "0",
         "acceleration": "12.0",
         "cylinders": "8",
         "displacement": "307.0",
         "h2": "16900.0",
         "h3": "2197000.0",
         "horsepower": "130.0",
         "model_year": "70",
         "mpg": "18.0",
         "name": "chevrolet chevelle malibu",
         "origin": "usa",
         "weight": "3504"
        },
        {
         "_deepnote_index_column": "1",
         "acceleration": "11.5",
         "cylinders": "8",
         "displacement": "350.0",
         "h2": "27225.0",
         "h3": "4492125.0",
         "horsepower": "165.0",
         "model_year": "70",
         "mpg": "15.0",
         "name": "buick skylark 320",
         "origin": "usa",
         "weight": "3693"
        },
        {
         "_deepnote_index_column": "2",
         "acceleration": "11.0",
         "cylinders": "8",
         "displacement": "318.0",
         "h2": "22500.0",
         "h3": "3375000.0",
         "horsepower": "150.0",
         "model_year": "70",
         "mpg": "18.0",
         "name": "plymouth satellite",
         "origin": "usa",
         "weight": "3436"
        }
       ]
      },
      "text/html": [
       "<div>\n",
       "<style scoped>\n",
       "    .dataframe tbody tr th:only-of-type {\n",
       "        vertical-align: middle;\n",
       "    }\n",
       "\n",
       "    .dataframe tbody tr th {\n",
       "        vertical-align: top;\n",
       "    }\n",
       "\n",
       "    .dataframe thead th {\n",
       "        text-align: right;\n",
       "    }\n",
       "</style>\n",
       "<table border=\"1\" class=\"dataframe\">\n",
       "  <thead>\n",
       "    <tr style=\"text-align: right;\">\n",
       "      <th></th>\n",
       "      <th>mpg</th>\n",
       "      <th>cylinders</th>\n",
       "      <th>displacement</th>\n",
       "      <th>horsepower</th>\n",
       "      <th>weight</th>\n",
       "      <th>acceleration</th>\n",
       "      <th>model_year</th>\n",
       "      <th>origin</th>\n",
       "      <th>name</th>\n",
       "      <th>h2</th>\n",
       "      <th>h3</th>\n",
       "    </tr>\n",
       "  </thead>\n",
       "  <tbody>\n",
       "    <tr>\n",
       "      <th>0</th>\n",
       "      <td>18.0</td>\n",
       "      <td>8</td>\n",
       "      <td>307.0</td>\n",
       "      <td>130.0</td>\n",
       "      <td>3504</td>\n",
       "      <td>12.0</td>\n",
       "      <td>70</td>\n",
       "      <td>usa</td>\n",
       "      <td>chevrolet chevelle malibu</td>\n",
       "      <td>16900.0</td>\n",
       "      <td>2197000.0</td>\n",
       "    </tr>\n",
       "    <tr>\n",
       "      <th>1</th>\n",
       "      <td>15.0</td>\n",
       "      <td>8</td>\n",
       "      <td>350.0</td>\n",
       "      <td>165.0</td>\n",
       "      <td>3693</td>\n",
       "      <td>11.5</td>\n",
       "      <td>70</td>\n",
       "      <td>usa</td>\n",
       "      <td>buick skylark 320</td>\n",
       "      <td>27225.0</td>\n",
       "      <td>4492125.0</td>\n",
       "    </tr>\n",
       "    <tr>\n",
       "      <th>2</th>\n",
       "      <td>18.0</td>\n",
       "      <td>8</td>\n",
       "      <td>318.0</td>\n",
       "      <td>150.0</td>\n",
       "      <td>3436</td>\n",
       "      <td>11.0</td>\n",
       "      <td>70</td>\n",
       "      <td>usa</td>\n",
       "      <td>plymouth satellite</td>\n",
       "      <td>22500.0</td>\n",
       "      <td>3375000.0</td>\n",
       "    </tr>\n",
       "  </tbody>\n",
       "</table>\n",
       "</div>"
      ],
      "text/plain": [
       "    mpg  cylinders  displacement  horsepower  weight  acceleration  \\\n",
       "0  18.0          8         307.0       130.0    3504          12.0   \n",
       "1  15.0          8         350.0       165.0    3693          11.5   \n",
       "2  18.0          8         318.0       150.0    3436          11.0   \n",
       "\n",
       "   model_year origin                       name       h2         h3  \n",
       "0          70    usa  chevrolet chevelle malibu  16900.0  2197000.0  \n",
       "1          70    usa          buick skylark 320  27225.0  4492125.0  \n",
       "2          70    usa         plymouth satellite  22500.0  3375000.0  "
      ]
     },
     "execution_count": 36,
     "metadata": {},
     "output_type": "execute_result"
    }
   ],
   "source": [
    "df.head(3)"
   ]
  },
  {
   "cell_type": "markdown",
   "metadata": {},
   "source": [
    "Let's use Linear Regression with these columns (equivalently, we are using polynomial regression of degree 3 with the \"horsepower\" column).\n",
    "\n",
    "It would be more robust to call these instead `[\"h1\", \"h2\", \"h3\"]` and to make the list using list comprehension.  That is what you're asked to do on Worksheet 12."
   ]
  },
  {
   "cell_type": "code",
   "execution_count": 37,
   "metadata": {
    "cell_id": "95975a21c5434017a99132c7179e35c6",
    "deepnote_cell_type": "code",
    "deepnote_to_be_reexecuted": false,
    "execution_millis": 0,
    "execution_start": 1668019554259,
    "source_hash": "4f5df94f",
    "tags": []
   },
   "outputs": [],
   "source": [
    "poly_cols = [\"horsepower\", \"h2\", \"h3\"]"
   ]
  },
  {
   "cell_type": "code",
   "execution_count": 38,
   "metadata": {
    "cell_id": "b4bc59b5f81b4763bbedd7bd490ae6d7",
    "deepnote_cell_type": "code",
    "deepnote_to_be_reexecuted": false,
    "execution_millis": 2,
    "execution_start": 1668019567931,
    "source_hash": "dcd14da",
    "tags": []
   },
   "outputs": [],
   "source": [
    "reg3 = LinearRegression()"
   ]
  },
  {
   "cell_type": "code",
   "execution_count": 39,
   "metadata": {
    "cell_id": "3abfa9b7fa3041ee921ed4c30a55ce01",
    "deepnote_cell_type": "code",
    "deepnote_to_be_reexecuted": false,
    "execution_millis": 541,
    "execution_start": 1668019620340,
    "source_hash": "8d705eb1",
    "tags": []
   },
   "outputs": [
    {
     "data": {
      "text/html": [
       "<style>#sk-container-id-4 {color: black;background-color: white;}#sk-container-id-4 pre{padding: 0;}#sk-container-id-4 div.sk-toggleable {background-color: white;}#sk-container-id-4 label.sk-toggleable__label {cursor: pointer;display: block;width: 100%;margin-bottom: 0;padding: 0.3em;box-sizing: border-box;text-align: center;}#sk-container-id-4 label.sk-toggleable__label-arrow:before {content: \"▸\";float: left;margin-right: 0.25em;color: #696969;}#sk-container-id-4 label.sk-toggleable__label-arrow:hover:before {color: black;}#sk-container-id-4 div.sk-estimator:hover label.sk-toggleable__label-arrow:before {color: black;}#sk-container-id-4 div.sk-toggleable__content {max-height: 0;max-width: 0;overflow: hidden;text-align: left;background-color: #f0f8ff;}#sk-container-id-4 div.sk-toggleable__content pre {margin: 0.2em;color: black;border-radius: 0.25em;background-color: #f0f8ff;}#sk-container-id-4 input.sk-toggleable__control:checked~div.sk-toggleable__content {max-height: 200px;max-width: 100%;overflow: auto;}#sk-container-id-4 input.sk-toggleable__control:checked~label.sk-toggleable__label-arrow:before {content: \"▾\";}#sk-container-id-4 div.sk-estimator input.sk-toggleable__control:checked~label.sk-toggleable__label {background-color: #d4ebff;}#sk-container-id-4 div.sk-label input.sk-toggleable__control:checked~label.sk-toggleable__label {background-color: #d4ebff;}#sk-container-id-4 input.sk-hidden--visually {border: 0;clip: rect(1px 1px 1px 1px);clip: rect(1px, 1px, 1px, 1px);height: 1px;margin: -1px;overflow: hidden;padding: 0;position: absolute;width: 1px;}#sk-container-id-4 div.sk-estimator {font-family: monospace;background-color: #f0f8ff;border: 1px dotted black;border-radius: 0.25em;box-sizing: border-box;margin-bottom: 0.5em;}#sk-container-id-4 div.sk-estimator:hover {background-color: #d4ebff;}#sk-container-id-4 div.sk-parallel-item::after {content: \"\";width: 100%;border-bottom: 1px solid gray;flex-grow: 1;}#sk-container-id-4 div.sk-label:hover label.sk-toggleable__label {background-color: #d4ebff;}#sk-container-id-4 div.sk-serial::before {content: \"\";position: absolute;border-left: 1px solid gray;box-sizing: border-box;top: 0;bottom: 0;left: 50%;z-index: 0;}#sk-container-id-4 div.sk-serial {display: flex;flex-direction: column;align-items: center;background-color: white;padding-right: 0.2em;padding-left: 0.2em;position: relative;}#sk-container-id-4 div.sk-item {position: relative;z-index: 1;}#sk-container-id-4 div.sk-parallel {display: flex;align-items: stretch;justify-content: center;background-color: white;position: relative;}#sk-container-id-4 div.sk-item::before, #sk-container-id-4 div.sk-parallel-item::before {content: \"\";position: absolute;border-left: 1px solid gray;box-sizing: border-box;top: 0;bottom: 0;left: 50%;z-index: -1;}#sk-container-id-4 div.sk-parallel-item {display: flex;flex-direction: column;z-index: 1;position: relative;background-color: white;}#sk-container-id-4 div.sk-parallel-item:first-child::after {align-self: flex-end;width: 50%;}#sk-container-id-4 div.sk-parallel-item:last-child::after {align-self: flex-start;width: 50%;}#sk-container-id-4 div.sk-parallel-item:only-child::after {width: 0;}#sk-container-id-4 div.sk-dashed-wrapped {border: 1px dashed gray;margin: 0 0.4em 0.5em 0.4em;box-sizing: border-box;padding-bottom: 0.4em;background-color: white;}#sk-container-id-4 div.sk-label label {font-family: monospace;font-weight: bold;display: inline-block;line-height: 1.2em;}#sk-container-id-4 div.sk-label-container {text-align: center;}#sk-container-id-4 div.sk-container {/* jupyter's `normalize.less` sets `[hidden] { display: none; }` but bootstrap.min.css set `[hidden] { display: none !important; }` so we also need the `!important` here to be able to override the default hidden behavior on the sphinx rendered scikit-learn.org. See: https://github.com/scikit-learn/scikit-learn/issues/21755 */display: inline-block !important;position: relative;}#sk-container-id-4 div.sk-text-repr-fallback {display: none;}</style><div id=\"sk-container-id-4\" class=\"sk-top-container\"><div class=\"sk-text-repr-fallback\"><pre>LinearRegression()</pre><b>In a Jupyter environment, please rerun this cell to show the HTML representation or trust the notebook. <br />On GitHub, the HTML representation is unable to render, please try loading this page with nbviewer.org.</b></div><div class=\"sk-container\" hidden><div class=\"sk-item\"><div class=\"sk-estimator sk-toggleable\"><input class=\"sk-toggleable__control sk-hidden--visually\" id=\"sk-estimator-id-4\" type=\"checkbox\" checked><label for=\"sk-estimator-id-4\" class=\"sk-toggleable__label sk-toggleable__label-arrow\">LinearRegression</label><div class=\"sk-toggleable__content\"><pre>LinearRegression()</pre></div></div></div></div></div>"
      ],
      "text/plain": [
       "LinearRegression()"
      ]
     },
     "execution_count": 39,
     "metadata": {},
     "output_type": "execute_result"
    }
   ],
   "source": [
    "reg3.fit(df[poly_cols], df[\"mpg\"])"
   ]
  },
  {
   "cell_type": "markdown",
   "metadata": {},
   "source": [
    "We add the predicted value to the DataFrame."
   ]
  },
  {
   "cell_type": "code",
   "execution_count": 40,
   "metadata": {
    "cell_id": "0adeb43e9b0e47388c253930b87ba5fa",
    "deepnote_cell_type": "code",
    "deepnote_to_be_reexecuted": false,
    "execution_millis": 3,
    "execution_start": 1668019642626,
    "source_hash": "9e87d4c3",
    "tags": []
   },
   "outputs": [],
   "source": [
    "df[\"poly_pred\"] = reg3.predict(df[poly_cols])"
   ]
  },
  {
   "cell_type": "markdown",
   "metadata": {},
   "source": [
    "Here we plot the predicted values.  Take a moment to be impressed that linear regression is what produced this curve which is clearly not a straight line.  Something that will be emphasized in Worksheet 12, is that as you use higher degrees for polynomial regression, the curves will eventually start to \"overfit\" the data.  This notion of overfitting is arguably the most important topic in Machine Learning."
   ]
  },
  {
   "cell_type": "code",
   "execution_count": 41,
   "metadata": {
    "cell_id": "a84f891106284603ae286cf72b30bca7",
    "deepnote_cell_type": "code",
    "deepnote_to_be_reexecuted": false,
    "execution_millis": 733,
    "execution_start": 1668019696742,
    "source_hash": "1e2f898c",
    "tags": []
   },
   "outputs": [
    {
     "data": {
      "text/html": [
       "\n",
       "<div id=\"altair-viz-c0b371ed12a14c06b882dd04eb9071f9\"></div>\n",
       "<script type=\"text/javascript\">\n",
       "  var VEGA_DEBUG = (typeof VEGA_DEBUG == \"undefined\") ? {} : VEGA_DEBUG;\n",
       "  (function(spec, embedOpt){\n",
       "    let outputDiv = document.currentScript.previousElementSibling;\n",
       "    if (outputDiv.id !== \"altair-viz-c0b371ed12a14c06b882dd04eb9071f9\") {\n",
       "      outputDiv = document.getElementById(\"altair-viz-c0b371ed12a14c06b882dd04eb9071f9\");\n",
       "    }\n",
       "    const paths = {\n",
       "      \"vega\": \"https://cdn.jsdelivr.net/npm//vega@5?noext\",\n",
       "      \"vega-lib\": \"https://cdn.jsdelivr.net/npm//vega-lib?noext\",\n",
       "      \"vega-lite\": \"https://cdn.jsdelivr.net/npm//vega-lite@4.17.0?noext\",\n",
       "      \"vega-embed\": \"https://cdn.jsdelivr.net/npm//vega-embed@6?noext\",\n",
       "    };\n",
       "\n",
       "    function maybeLoadScript(lib, version) {\n",
       "      var key = `${lib.replace(\"-\", \"\")}_version`;\n",
       "      return (VEGA_DEBUG[key] == version) ?\n",
       "        Promise.resolve(paths[lib]) :\n",
       "        new Promise(function(resolve, reject) {\n",
       "          var s = document.createElement('script');\n",
       "          document.getElementsByTagName(\"head\")[0].appendChild(s);\n",
       "          s.async = true;\n",
       "          s.onload = () => {\n",
       "            VEGA_DEBUG[key] = version;\n",
       "            return resolve(paths[lib]);\n",
       "          };\n",
       "          s.onerror = () => reject(`Error loading script: ${paths[lib]}`);\n",
       "          s.src = paths[lib];\n",
       "        });\n",
       "    }\n",
       "\n",
       "    function showError(err) {\n",
       "      outputDiv.innerHTML = `<div class=\"error\" style=\"color:red;\">${err}</div>`;\n",
       "      throw err;\n",
       "    }\n",
       "\n",
       "    function displayChart(vegaEmbed) {\n",
       "      vegaEmbed(outputDiv, spec, embedOpt)\n",
       "        .catch(err => showError(`Javascript Error: ${err.message}<br>This usually means there's a typo in your chart specification. See the javascript console for the full traceback.`));\n",
       "    }\n",
       "\n",
       "    if(typeof define === \"function\" && define.amd) {\n",
       "      requirejs.config({paths});\n",
       "      require([\"vega-embed\"], displayChart, err => showError(`Error loading script: ${err.message}`));\n",
       "    } else {\n",
       "      maybeLoadScript(\"vega\", \"5\")\n",
       "        .then(() => maybeLoadScript(\"vega-lite\", \"4.17.0\"))\n",
       "        .then(() => maybeLoadScript(\"vega-embed\", \"6\"))\n",
       "        .catch(showError)\n",
       "        .then(() => displayChart(vegaEmbed));\n",
       "    }\n",
       "  })({\"config\": {\"view\": {\"continuousWidth\": 400, \"continuousHeight\": 300}}, \"layer\": [{\"mark\": \"circle\", \"encoding\": {\"color\": {\"field\": \"origin\", \"type\": \"nominal\"}, \"x\": {\"field\": \"horsepower\", \"type\": \"quantitative\"}, \"y\": {\"field\": \"mpg\", \"type\": \"quantitative\"}}}, {\"mark\": {\"type\": \"line\", \"color\": \"black\", \"size\": 3}, \"encoding\": {\"x\": {\"field\": \"horsepower\", \"type\": \"quantitative\"}, \"y\": {\"field\": \"poly_pred\", \"type\": \"quantitative\"}}}], \"data\": {\"name\": \"data-8faa4c619dd8a3a6dc2f00abb82b1387\"}, \"$schema\": \"https://vega.github.io/schema/vega-lite/v4.17.0.json\", \"datasets\": {\"data-8faa4c619dd8a3a6dc2f00abb82b1387\": [{\"mpg\": 18.0, \"cylinders\": 8, \"displacement\": 307.0, \"horsepower\": 130.0, \"weight\": 3504, \"acceleration\": 12.0, \"model_year\": 70, \"origin\": \"usa\", \"name\": \"chevrolet chevelle malibu\", \"h2\": 16900.0, \"h3\": 2197000.0, \"poly_pred\": 17.15342143823237}, {\"mpg\": 15.0, \"cylinders\": 8, \"displacement\": 350.0, \"horsepower\": 165.0, \"weight\": 3693, \"acceleration\": 11.5, \"model_year\": 70, \"origin\": \"usa\", \"name\": \"buick skylark 320\", \"h2\": 27225.0, \"h3\": 4492125.0, \"poly_pred\": 13.782683444506688}, {\"mpg\": 18.0, \"cylinders\": 8, \"displacement\": 318.0, \"horsepower\": 150.0, \"weight\": 3436, \"acceleration\": 11.0, \"model_year\": 70, \"origin\": \"usa\", \"name\": \"plymouth satellite\", \"h2\": 22500.0, \"h3\": 3375000.0, \"poly_pred\": 14.890156621920994}, {\"mpg\": 16.0, \"cylinders\": 8, \"displacement\": 304.0, \"horsepower\": 150.0, \"weight\": 3433, \"acceleration\": 12.0, \"model_year\": 70, \"origin\": \"usa\", \"name\": \"amc rebel sst\", \"h2\": 22500.0, \"h3\": 3375000.0, \"poly_pred\": 14.890156621920994}, {\"mpg\": 17.0, \"cylinders\": 8, \"displacement\": 302.0, \"horsepower\": 140.0, \"weight\": 3449, \"acceleration\": 10.5, \"model_year\": 70, \"origin\": \"usa\", \"name\": \"ford torino\", \"h2\": 19600.0, \"h3\": 2744000.0, \"poly_pred\": 15.90404619199991}, {\"mpg\": 15.0, \"cylinders\": 8, \"displacement\": 429.0, \"horsepower\": 198.0, \"weight\": 4341, \"acceleration\": 10.0, \"model_year\": 70, \"origin\": \"usa\", \"name\": \"ford galaxie 500\", \"h2\": 39204.0, \"h3\": 7762392.0, \"poly_pred\": 12.895065253108243}, {\"mpg\": 14.0, \"cylinders\": 8, \"displacement\": 454.0, \"horsepower\": 220.0, \"weight\": 4354, \"acceleration\": 9.0, \"model_year\": 70, \"origin\": \"usa\", \"name\": \"chevrolet impala\", \"h2\": 48400.0, \"h3\": 10648000.0, \"poly_pred\": 13.304629104449148}, {\"mpg\": 14.0, \"cylinders\": 8, \"displacement\": 440.0, \"horsepower\": 215.0, \"weight\": 4312, \"acceleration\": 8.5, \"model_year\": 70, \"origin\": \"usa\", \"name\": \"plymouth fury iii\", \"h2\": 46225.0, \"h3\": 9938375.0, \"poly_pred\": 13.150329660718661}, {\"mpg\": 14.0, \"cylinders\": 8, \"displacement\": 455.0, \"horsepower\": 225.0, \"weight\": 4425, \"acceleration\": 10.0, \"model_year\": 70, \"origin\": \"usa\", \"name\": \"pontiac catalina\", \"h2\": 50625.0, \"h3\": 11390625.0, \"poly_pred\": 13.49204045628425}, {\"mpg\": 15.0, \"cylinders\": 8, \"displacement\": 390.0, \"horsepower\": 190.0, \"weight\": 3850, \"acceleration\": 8.5, \"model_year\": 70, \"origin\": \"usa\", \"name\": \"amc ambassador dpl\", \"h2\": 36100.0, \"h3\": 6859000.0, \"poly_pred\": 12.931859993802988}, {\"mpg\": 15.0, \"cylinders\": 8, \"displacement\": 383.0, \"horsepower\": 170.0, \"weight\": 3563, \"acceleration\": 10.0, \"model_year\": 70, \"origin\": \"usa\", \"name\": \"dodge challenger se\", \"h2\": 28900.0, \"h3\": 4913000.0, \"poly_pred\": 13.517315488356232}, {\"mpg\": 14.0, \"cylinders\": 8, \"displacement\": 340.0, \"horsepower\": 160.0, \"weight\": 3609, \"acceleration\": 8.0, \"model_year\": 70, \"origin\": \"usa\", \"name\": \"plymouth 'cuda 340\", \"h2\": 25600.0, \"h3\": 4096000.0, \"poly_pred\": 14.098872972528724}, {\"mpg\": 15.0, \"cylinders\": 8, \"displacement\": 400.0, \"horsepower\": 150.0, \"weight\": 3761, \"acceleration\": 9.5, \"model_year\": 70, \"origin\": \"usa\", \"name\": \"chevrolet monte carlo\", \"h2\": 22500.0, \"h3\": 3375000.0, \"poly_pred\": 14.890156621920994}, {\"mpg\": 14.0, \"cylinders\": 8, \"displacement\": 455.0, \"horsepower\": 225.0, \"weight\": 3086, \"acceleration\": 10.0, \"model_year\": 70, \"origin\": \"usa\", \"name\": \"buick estate wagon (sw)\", \"h2\": 50625.0, \"h3\": 11390625.0, \"poly_pred\": 13.49204045628425}, {\"mpg\": 24.0, \"cylinders\": 4, \"displacement\": 113.0, \"horsepower\": 95.0, \"weight\": 2372, \"acceleration\": 15.0, \"model_year\": 70, \"origin\": \"japan\", \"name\": \"toyota corona mark ii\", \"h2\": 9025.0, \"h3\": 857375.0, \"poly_pred\": 23.56663596930835}, {\"mpg\": 22.0, \"cylinders\": 6, \"displacement\": 198.0, \"horsepower\": 95.0, \"weight\": 2833, \"acceleration\": 15.5, \"model_year\": 70, \"origin\": \"usa\", \"name\": \"plymouth duster\", \"h2\": 9025.0, \"h3\": 857375.0, \"poly_pred\": 23.56663596930835}, {\"mpg\": 18.0, \"cylinders\": 6, \"displacement\": 199.0, \"horsepower\": 97.0, \"weight\": 2774, \"acceleration\": 15.5, \"model_year\": 70, \"origin\": \"usa\", \"name\": \"amc hornet\", \"h2\": 9409.0, \"h3\": 912673.0, \"poly_pred\": 23.108571918008607}, {\"mpg\": 21.0, \"cylinders\": 6, \"displacement\": 200.0, \"horsepower\": 85.0, \"weight\": 2587, \"acceleration\": 16.0, \"model_year\": 70, \"origin\": \"usa\", \"name\": \"ford maverick\", \"h2\": 7225.0, \"h3\": 614125.0, \"poly_pred\": 26.03508373213451}, {\"mpg\": 27.0, \"cylinders\": 4, \"displacement\": 97.0, \"horsepower\": 88.0, \"weight\": 2130, \"acceleration\": 14.5, \"model_year\": 70, \"origin\": \"japan\", \"name\": \"datsun pl510\", \"h2\": 7744.0, \"h3\": 681472.0, \"poly_pred\": 25.26297137738215}, {\"mpg\": 26.0, \"cylinders\": 4, \"displacement\": 97.0, \"horsepower\": 46.0, \"weight\": 1835, \"acceleration\": 20.5, \"model_year\": 70, \"origin\": \"europe\", \"name\": \"volkswagen 1131 deluxe sedan\", \"h2\": 2116.0, \"h3\": 97336.0, \"poly_pred\": 38.70792285334719}, {\"mpg\": 25.0, \"cylinders\": 4, \"displacement\": 110.0, \"horsepower\": 87.0, \"weight\": 2672, \"acceleration\": 17.5, \"model_year\": 70, \"origin\": \"europe\", \"name\": \"peugeot 504\", \"h2\": 7569.0, \"h3\": 658503.0, \"poly_pred\": 25.5173003852465}, {\"mpg\": 24.0, \"cylinders\": 4, \"displacement\": 107.0, \"horsepower\": 90.0, \"weight\": 2430, \"acceleration\": 14.5, \"model_year\": 70, \"origin\": \"europe\", \"name\": \"audi 100 ls\", \"h2\": 8100.0, \"h3\": 729000.0, \"poly_pred\": 24.76337429403543}, {\"mpg\": 25.0, \"cylinders\": 4, \"displacement\": 104.0, \"horsepower\": 95.0, \"weight\": 2375, \"acceleration\": 17.5, \"model_year\": 70, \"origin\": \"europe\", \"name\": \"saab 99e\", \"h2\": 9025.0, \"h3\": 857375.0, \"poly_pred\": 23.56663596930835}, {\"mpg\": 26.0, \"cylinders\": 4, \"displacement\": 121.0, \"horsepower\": 113.0, \"weight\": 2234, \"acceleration\": 12.5, \"model_year\": 70, \"origin\": \"europe\", \"name\": \"bmw 2002\", \"h2\": 12769.0, \"h3\": 1442897.0, \"poly_pred\": 19.854255131448973}, {\"mpg\": 21.0, \"cylinders\": 6, \"displacement\": 199.0, \"horsepower\": 90.0, \"weight\": 2648, \"acceleration\": 15.0, \"model_year\": 70, \"origin\": \"usa\", \"name\": \"amc gremlin\", \"h2\": 8100.0, \"h3\": 729000.0, \"poly_pred\": 24.76337429403543}, {\"mpg\": 10.0, \"cylinders\": 8, \"displacement\": 360.0, \"horsepower\": 215.0, \"weight\": 4615, \"acceleration\": 14.0, \"model_year\": 70, \"origin\": \"usa\", \"name\": \"ford f250\", \"h2\": 46225.0, \"h3\": 9938375.0, \"poly_pred\": 13.150329660718661}, {\"mpg\": 10.0, \"cylinders\": 8, \"displacement\": 307.0, \"horsepower\": 200.0, \"weight\": 4376, \"acceleration\": 15.0, \"model_year\": 70, \"origin\": \"usa\", \"name\": \"chevy c20\", \"h2\": 40000.0, \"h3\": 8000000.0, \"poly_pred\": 12.902202472488455}, {\"mpg\": 11.0, \"cylinders\": 8, \"displacement\": 318.0, \"horsepower\": 210.0, \"weight\": 4382, \"acceleration\": 13.5, \"model_year\": 70, \"origin\": \"usa\", \"name\": \"dodge d200\", \"h2\": 44100.0, \"h3\": 9261000.0, \"poly_pred\": 13.030752094526136}, {\"mpg\": 9.0, \"cylinders\": 8, \"displacement\": 304.0, \"horsepower\": 193.0, \"weight\": 4732, \"acceleration\": 18.5, \"model_year\": 70, \"origin\": \"usa\", \"name\": \"hi 1200d\", \"h2\": 37249.0, \"h3\": 7189057.0, \"poly_pred\": 12.905584641906358}, {\"mpg\": 27.0, \"cylinders\": 4, \"displacement\": 97.0, \"horsepower\": 88.0, \"weight\": 2130, \"acceleration\": 14.5, \"model_year\": 71, \"origin\": \"japan\", \"name\": \"datsun pl510\", \"h2\": 7744.0, \"h3\": 681472.0, \"poly_pred\": 25.26297137738215}, {\"mpg\": 28.0, \"cylinders\": 4, \"displacement\": 140.0, \"horsepower\": 90.0, \"weight\": 2264, \"acceleration\": 15.5, \"model_year\": 71, \"origin\": \"usa\", \"name\": \"chevrolet vega 2300\", \"h2\": 8100.0, \"h3\": 729000.0, \"poly_pred\": 24.76337429403543}, {\"mpg\": 25.0, \"cylinders\": 4, \"displacement\": 113.0, \"horsepower\": 95.0, \"weight\": 2228, \"acceleration\": 14.0, \"model_year\": 71, \"origin\": \"japan\", \"name\": \"toyota corona\", \"h2\": 9025.0, \"h3\": 857375.0, \"poly_pred\": 23.56663596930835}, {\"mpg\": 19.0, \"cylinders\": 6, \"displacement\": 232.0, \"horsepower\": 100.0, \"weight\": 2634, \"acceleration\": 13.0, \"model_year\": 71, \"origin\": \"usa\", \"name\": \"amc gremlin\", \"h2\": 10000.0, \"h3\": 1000000.0, \"poly_pred\": 22.443258788519906}, {\"mpg\": 16.0, \"cylinders\": 6, \"displacement\": 225.0, \"horsepower\": 105.0, \"weight\": 3439, \"acceleration\": 15.5, \"model_year\": 71, \"origin\": \"usa\", \"name\": \"plymouth satellite custom\", \"h2\": 11025.0, \"h3\": 1157625.0, \"poly_pred\": 21.39163278223674}, {\"mpg\": 17.0, \"cylinders\": 6, \"displacement\": 250.0, \"horsepower\": 100.0, \"weight\": 3329, \"acceleration\": 15.5, \"model_year\": 71, \"origin\": \"usa\", \"name\": \"chevrolet chevelle malibu\", \"h2\": 10000.0, \"h3\": 1000000.0, \"poly_pred\": 22.443258788519906}, {\"mpg\": 19.0, \"cylinders\": 6, \"displacement\": 250.0, \"horsepower\": 88.0, \"weight\": 3302, \"acceleration\": 15.5, \"model_year\": 71, \"origin\": \"usa\", \"name\": \"ford torino 500\", \"h2\": 7744.0, \"h3\": 681472.0, \"poly_pred\": 25.26297137738215}, {\"mpg\": 18.0, \"cylinders\": 6, \"displacement\": 232.0, \"horsepower\": 100.0, \"weight\": 3288, \"acceleration\": 15.5, \"model_year\": 71, \"origin\": \"usa\", \"name\": \"amc matador\", \"h2\": 10000.0, \"h3\": 1000000.0, \"poly_pred\": 22.443258788519906}, {\"mpg\": 14.0, \"cylinders\": 8, \"displacement\": 350.0, \"horsepower\": 165.0, \"weight\": 4209, \"acceleration\": 12.0, \"model_year\": 71, \"origin\": \"usa\", \"name\": \"chevrolet impala\", \"h2\": 27225.0, \"h3\": 4492125.0, \"poly_pred\": 13.782683444506688}, {\"mpg\": 14.0, \"cylinders\": 8, \"displacement\": 400.0, \"horsepower\": 175.0, \"weight\": 4464, \"acceleration\": 11.5, \"model_year\": 71, \"origin\": \"usa\", \"name\": \"pontiac catalina brougham\", \"h2\": 30625.0, \"h3\": 5359375.0, \"poly_pred\": 13.301159134643996}, {\"mpg\": 14.0, \"cylinders\": 8, \"displacement\": 351.0, \"horsepower\": 153.0, \"weight\": 4154, \"acceleration\": 13.5, \"model_year\": 71, \"origin\": \"usa\", \"name\": \"ford galaxie 500\", \"h2\": 23409.0, \"h3\": 3581577.0, \"poly_pred\": 14.62998393430496}, {\"mpg\": 14.0, \"cylinders\": 8, \"displacement\": 318.0, \"horsepower\": 150.0, \"weight\": 4096, \"acceleration\": 13.0, \"model_year\": 71, \"origin\": \"usa\", \"name\": \"plymouth fury iii\", \"h2\": 22500.0, \"h3\": 3375000.0, \"poly_pred\": 14.890156621920994}, {\"mpg\": 12.0, \"cylinders\": 8, \"displacement\": 383.0, \"horsepower\": 180.0, \"weight\": 4955, \"acceleration\": 11.5, \"model_year\": 71, \"origin\": \"usa\", \"name\": \"dodge monaco (sw)\", \"h2\": 32400.0, \"h3\": 5832000.0, \"poly_pred\": 13.132604413936612}, {\"mpg\": 13.0, \"cylinders\": 8, \"displacement\": 400.0, \"horsepower\": 170.0, \"weight\": 4746, \"acceleration\": 12.0, \"model_year\": 71, \"origin\": \"usa\", \"name\": \"ford country squire (sw)\", \"h2\": 28900.0, \"h3\": 4913000.0, \"poly_pred\": 13.517315488356232}, {\"mpg\": 13.0, \"cylinders\": 8, \"displacement\": 400.0, \"horsepower\": 175.0, \"weight\": 5140, \"acceleration\": 12.0, \"model_year\": 71, \"origin\": \"usa\", \"name\": \"pontiac safari (sw)\", \"h2\": 30625.0, \"h3\": 5359375.0, \"poly_pred\": 13.301159134643996}, {\"mpg\": 18.0, \"cylinders\": 6, \"displacement\": 258.0, \"horsepower\": 110.0, \"weight\": 2962, \"acceleration\": 13.5, \"model_year\": 71, \"origin\": \"usa\", \"name\": \"amc hornet sportabout (sw)\", \"h2\": 12100.0, \"h3\": 1331000.0, \"poly_pred\": 20.41014798102548}, {\"mpg\": 22.0, \"cylinders\": 4, \"displacement\": 140.0, \"horsepower\": 72.0, \"weight\": 2408, \"acceleration\": 19.0, \"model_year\": 71, \"origin\": \"usa\", \"name\": \"chevrolet vega (sw)\", \"h2\": 5184.0, \"h3\": 373248.0, \"poly_pred\": 29.703946222426847}, {\"mpg\": 19.0, \"cylinders\": 6, \"displacement\": 250.0, \"horsepower\": 100.0, \"weight\": 3282, \"acceleration\": 15.0, \"model_year\": 71, \"origin\": \"usa\", \"name\": \"pontiac firebird\", \"h2\": 10000.0, \"h3\": 1000000.0, \"poly_pred\": 22.443258788519906}, {\"mpg\": 18.0, \"cylinders\": 6, \"displacement\": 250.0, \"horsepower\": 88.0, \"weight\": 3139, \"acceleration\": 14.5, \"model_year\": 71, \"origin\": \"usa\", \"name\": \"ford mustang\", \"h2\": 7744.0, \"h3\": 681472.0, \"poly_pred\": 25.26297137738215}, {\"mpg\": 23.0, \"cylinders\": 4, \"displacement\": 122.0, \"horsepower\": 86.0, \"weight\": 2220, \"acceleration\": 14.0, \"model_year\": 71, \"origin\": \"usa\", \"name\": \"mercury capri 2000\", \"h2\": 7396.0, \"h3\": 636056.0, \"poly_pred\": 25.77466687691213}, {\"mpg\": 28.0, \"cylinders\": 4, \"displacement\": 116.0, \"horsepower\": 90.0, \"weight\": 2123, \"acceleration\": 14.0, \"model_year\": 71, \"origin\": \"europe\", \"name\": \"opel 1900\", \"h2\": 8100.0, \"h3\": 729000.0, \"poly_pred\": 24.76337429403543}, {\"mpg\": 30.0, \"cylinders\": 4, \"displacement\": 79.0, \"horsepower\": 70.0, \"weight\": 2074, \"acceleration\": 19.5, \"model_year\": 71, \"origin\": \"europe\", \"name\": \"peugeot 304\", \"h2\": 4900.0, \"h3\": 343000.0, \"poly_pred\": 30.316138420997323}, {\"mpg\": 30.0, \"cylinders\": 4, \"displacement\": 88.0, \"horsepower\": 76.0, \"weight\": 2065, \"acceleration\": 14.5, \"model_year\": 71, \"origin\": \"europe\", \"name\": \"fiat 124b\", \"h2\": 5776.0, \"h3\": 438976.0, \"poly_pred\": 28.518226948841566}, {\"mpg\": 31.0, \"cylinders\": 4, \"displacement\": 71.0, \"horsepower\": 65.0, \"weight\": 1773, \"acceleration\": 19.0, \"model_year\": 71, \"origin\": \"japan\", \"name\": \"toyota corolla 1200\", \"h2\": 4225.0, \"h3\": 274625.0, \"poly_pred\": 31.903832006917995}, {\"mpg\": 35.0, \"cylinders\": 4, \"displacement\": 72.0, \"horsepower\": 69.0, \"weight\": 1613, \"acceleration\": 18.0, \"model_year\": 71, \"origin\": \"japan\", \"name\": \"datsun 1200\", \"h2\": 4761.0, \"h3\": 328509.0, \"poly_pred\": 30.627112739871155}, {\"mpg\": 27.0, \"cylinders\": 4, \"displacement\": 97.0, \"horsepower\": 60.0, \"weight\": 1834, \"acceleration\": 19.0, \"model_year\": 71, \"origin\": \"europe\", \"name\": \"volkswagen model 111\", \"h2\": 3600.0, \"h3\": 216000.0, \"poly_pred\": 33.57454655337747}, {\"mpg\": 26.0, \"cylinders\": 4, \"displacement\": 91.0, \"horsepower\": 70.0, \"weight\": 1955, \"acceleration\": 20.5, \"model_year\": 71, \"origin\": \"usa\", \"name\": \"plymouth cricket\", \"h2\": 4900.0, \"h3\": 343000.0, \"poly_pred\": 30.316138420997323}, {\"mpg\": 24.0, \"cylinders\": 4, \"displacement\": 113.0, \"horsepower\": 95.0, \"weight\": 2278, \"acceleration\": 15.5, \"model_year\": 72, \"origin\": \"japan\", \"name\": \"toyota corona hardtop\", \"h2\": 9025.0, \"h3\": 857375.0, \"poly_pred\": 23.56663596930835}, {\"mpg\": 25.0, \"cylinders\": 4, \"displacement\": 97.5, \"horsepower\": 80.0, \"weight\": 2126, \"acceleration\": 17.0, \"model_year\": 72, \"origin\": \"usa\", \"name\": \"dodge colt hardtop\", \"h2\": 6400.0, \"h3\": 512000.0, \"poly_pred\": 27.383374253038937}, {\"mpg\": 23.0, \"cylinders\": 4, \"displacement\": 97.0, \"horsepower\": 54.0, \"weight\": 2254, \"acceleration\": 23.5, \"model_year\": 72, \"origin\": \"europe\", \"name\": \"volkswagen type 3\", \"h2\": 2916.0, \"h3\": 157464.0, \"poly_pred\": 35.69125851400223}, {\"mpg\": 20.0, \"cylinders\": 4, \"displacement\": 140.0, \"horsepower\": 90.0, \"weight\": 2408, \"acceleration\": 19.5, \"model_year\": 72, \"origin\": \"usa\", \"name\": \"chevrolet vega\", \"h2\": 8100.0, \"h3\": 729000.0, \"poly_pred\": 24.76337429403543}, {\"mpg\": 21.0, \"cylinders\": 4, \"displacement\": 122.0, \"horsepower\": 86.0, \"weight\": 2226, \"acceleration\": 16.5, \"model_year\": 72, \"origin\": \"usa\", \"name\": \"ford pinto runabout\", \"h2\": 7396.0, \"h3\": 636056.0, \"poly_pred\": 25.77466687691213}, {\"mpg\": 13.0, \"cylinders\": 8, \"displacement\": 350.0, \"horsepower\": 165.0, \"weight\": 4274, \"acceleration\": 12.0, \"model_year\": 72, \"origin\": \"usa\", \"name\": \"chevrolet impala\", \"h2\": 27225.0, \"h3\": 4492125.0, \"poly_pred\": 13.782683444506688}, {\"mpg\": 14.0, \"cylinders\": 8, \"displacement\": 400.0, \"horsepower\": 175.0, \"weight\": 4385, \"acceleration\": 12.0, \"model_year\": 72, \"origin\": \"usa\", \"name\": \"pontiac catalina\", \"h2\": 30625.0, \"h3\": 5359375.0, \"poly_pred\": 13.301159134643996}, {\"mpg\": 15.0, \"cylinders\": 8, \"displacement\": 318.0, \"horsepower\": 150.0, \"weight\": 4135, \"acceleration\": 13.5, \"model_year\": 72, \"origin\": \"usa\", \"name\": \"plymouth fury iii\", \"h2\": 22500.0, \"h3\": 3375000.0, \"poly_pred\": 14.890156621920994}, {\"mpg\": 14.0, \"cylinders\": 8, \"displacement\": 351.0, \"horsepower\": 153.0, \"weight\": 4129, \"acceleration\": 13.0, \"model_year\": 72, \"origin\": \"usa\", \"name\": \"ford galaxie 500\", \"h2\": 23409.0, \"h3\": 3581577.0, \"poly_pred\": 14.62998393430496}, {\"mpg\": 17.0, \"cylinders\": 8, \"displacement\": 304.0, \"horsepower\": 150.0, \"weight\": 3672, \"acceleration\": 11.5, \"model_year\": 72, \"origin\": \"usa\", \"name\": \"amc ambassador sst\", \"h2\": 22500.0, \"h3\": 3375000.0, \"poly_pred\": 14.890156621920994}, {\"mpg\": 11.0, \"cylinders\": 8, \"displacement\": 429.0, \"horsepower\": 208.0, \"weight\": 4633, \"acceleration\": 11.0, \"model_year\": 72, \"origin\": \"usa\", \"name\": \"mercury marquis\", \"h2\": 43264.0, \"h3\": 8998912.0, \"poly_pred\": 12.993003826912833}, {\"mpg\": 13.0, \"cylinders\": 8, \"displacement\": 350.0, \"horsepower\": 155.0, \"weight\": 4502, \"acceleration\": 13.5, \"model_year\": 72, \"origin\": \"usa\", \"name\": \"buick lesabre custom\", \"h2\": 24025.0, \"h3\": 3723875.0, \"poly_pred\": 14.467494041855709}, {\"mpg\": 12.0, \"cylinders\": 8, \"displacement\": 350.0, \"horsepower\": 160.0, \"weight\": 4456, \"acceleration\": 13.5, \"model_year\": 72, \"origin\": \"usa\", \"name\": \"oldsmobile delta 88 royale\", \"h2\": 25600.0, \"h3\": 4096000.0, \"poly_pred\": 14.098872972528724}, {\"mpg\": 13.0, \"cylinders\": 8, \"displacement\": 400.0, \"horsepower\": 190.0, \"weight\": 4422, \"acceleration\": 12.5, \"model_year\": 72, \"origin\": \"usa\", \"name\": \"chrysler newport royal\", \"h2\": 36100.0, \"h3\": 6859000.0, \"poly_pred\": 12.931859993802988}, {\"mpg\": 19.0, \"cylinders\": 3, \"displacement\": 70.0, \"horsepower\": 97.0, \"weight\": 2330, \"acceleration\": 13.5, \"model_year\": 72, \"origin\": \"japan\", \"name\": \"mazda rx2 coupe\", \"h2\": 9409.0, \"h3\": 912673.0, \"poly_pred\": 23.108571918008607}, {\"mpg\": 15.0, \"cylinders\": 8, \"displacement\": 304.0, \"horsepower\": 150.0, \"weight\": 3892, \"acceleration\": 12.5, \"model_year\": 72, \"origin\": \"usa\", \"name\": \"amc matador (sw)\", \"h2\": 22500.0, \"h3\": 3375000.0, \"poly_pred\": 14.890156621920994}, {\"mpg\": 13.0, \"cylinders\": 8, \"displacement\": 307.0, \"horsepower\": 130.0, \"weight\": 4098, \"acceleration\": 14.0, \"model_year\": 72, \"origin\": \"usa\", \"name\": \"chevrolet chevelle concours (sw)\", \"h2\": 16900.0, \"h3\": 2197000.0, \"poly_pred\": 17.15342143823237}, {\"mpg\": 13.0, \"cylinders\": 8, \"displacement\": 302.0, \"horsepower\": 140.0, \"weight\": 4294, \"acceleration\": 16.0, \"model_year\": 72, \"origin\": \"usa\", \"name\": \"ford gran torino (sw)\", \"h2\": 19600.0, \"h3\": 2744000.0, \"poly_pred\": 15.90404619199991}, {\"mpg\": 14.0, \"cylinders\": 8, \"displacement\": 318.0, \"horsepower\": 150.0, \"weight\": 4077, \"acceleration\": 14.0, \"model_year\": 72, \"origin\": \"usa\", \"name\": \"plymouth satellite custom (sw)\", \"h2\": 22500.0, \"h3\": 3375000.0, \"poly_pred\": 14.890156621920994}, {\"mpg\": 18.0, \"cylinders\": 4, \"displacement\": 121.0, \"horsepower\": 112.0, \"weight\": 2933, \"acceleration\": 14.5, \"model_year\": 72, \"origin\": \"europe\", \"name\": \"volvo 145e (sw)\", \"h2\": 12544.0, \"h3\": 1404928.0, \"poly_pred\": 20.036832964808042}, {\"mpg\": 22.0, \"cylinders\": 4, \"displacement\": 121.0, \"horsepower\": 76.0, \"weight\": 2511, \"acceleration\": 18.0, \"model_year\": 72, \"origin\": \"europe\", \"name\": \"volkswagen 411 (sw)\", \"h2\": 5776.0, \"h3\": 438976.0, \"poly_pred\": 28.518226948841566}, {\"mpg\": 21.0, \"cylinders\": 4, \"displacement\": 120.0, \"horsepower\": 87.0, \"weight\": 2979, \"acceleration\": 19.5, \"model_year\": 72, \"origin\": \"europe\", \"name\": \"peugeot 504 (sw)\", \"h2\": 7569.0, \"h3\": 658503.0, \"poly_pred\": 25.5173003852465}, {\"mpg\": 26.0, \"cylinders\": 4, \"displacement\": 96.0, \"horsepower\": 69.0, \"weight\": 2189, \"acceleration\": 18.0, \"model_year\": 72, \"origin\": \"europe\", \"name\": \"renault 12 (sw)\", \"h2\": 4761.0, \"h3\": 328509.0, \"poly_pred\": 30.627112739871155}, {\"mpg\": 22.0, \"cylinders\": 4, \"displacement\": 122.0, \"horsepower\": 86.0, \"weight\": 2395, \"acceleration\": 16.0, \"model_year\": 72, \"origin\": \"usa\", \"name\": \"ford pinto (sw)\", \"h2\": 7396.0, \"h3\": 636056.0, \"poly_pred\": 25.77466687691213}, {\"mpg\": 28.0, \"cylinders\": 4, \"displacement\": 97.0, \"horsepower\": 92.0, \"weight\": 2288, \"acceleration\": 17.0, \"model_year\": 72, \"origin\": \"japan\", \"name\": \"datsun 510 (sw)\", \"h2\": 8464.0, \"h3\": 778688.0, \"poly_pred\": 24.275772588828225}, {\"mpg\": 23.0, \"cylinders\": 4, \"displacement\": 120.0, \"horsepower\": 97.0, \"weight\": 2506, \"acceleration\": 14.5, \"model_year\": 72, \"origin\": \"japan\", \"name\": \"toyouta corona mark ii (sw)\", \"h2\": 9409.0, \"h3\": 912673.0, \"poly_pred\": 23.108571918008607}, {\"mpg\": 28.0, \"cylinders\": 4, \"displacement\": 98.0, \"horsepower\": 80.0, \"weight\": 2164, \"acceleration\": 15.0, \"model_year\": 72, \"origin\": \"usa\", \"name\": \"dodge colt (sw)\", \"h2\": 6400.0, \"h3\": 512000.0, \"poly_pred\": 27.383374253038937}, {\"mpg\": 27.0, \"cylinders\": 4, \"displacement\": 97.0, \"horsepower\": 88.0, \"weight\": 2100, \"acceleration\": 16.5, \"model_year\": 72, \"origin\": \"japan\", \"name\": \"toyota corolla 1600 (sw)\", \"h2\": 7744.0, \"h3\": 681472.0, \"poly_pred\": 25.26297137738215}, {\"mpg\": 13.0, \"cylinders\": 8, \"displacement\": 350.0, \"horsepower\": 175.0, \"weight\": 4100, \"acceleration\": 13.0, \"model_year\": 73, \"origin\": \"usa\", \"name\": \"buick century 350\", \"h2\": 30625.0, \"h3\": 5359375.0, \"poly_pred\": 13.301159134643996}, {\"mpg\": 14.0, \"cylinders\": 8, \"displacement\": 304.0, \"horsepower\": 150.0, \"weight\": 3672, \"acceleration\": 11.5, \"model_year\": 73, \"origin\": \"usa\", \"name\": \"amc matador\", \"h2\": 22500.0, \"h3\": 3375000.0, \"poly_pred\": 14.890156621920994}, {\"mpg\": 13.0, \"cylinders\": 8, \"displacement\": 350.0, \"horsepower\": 145.0, \"weight\": 3988, \"acceleration\": 13.0, \"model_year\": 73, \"origin\": \"usa\", \"name\": \"chevrolet malibu\", \"h2\": 21025.0, \"h3\": 3048625.0, \"poly_pred\": 15.368470682157941}, {\"mpg\": 14.0, \"cylinders\": 8, \"displacement\": 302.0, \"horsepower\": 137.0, \"weight\": 4042, \"acceleration\": 14.5, \"model_year\": 73, \"origin\": \"usa\", \"name\": \"ford gran torino\", \"h2\": 18769.0, \"h3\": 2571353.0, \"poly_pred\": 16.253546740999788}, {\"mpg\": 15.0, \"cylinders\": 8, \"displacement\": 318.0, \"horsepower\": 150.0, \"weight\": 3777, \"acceleration\": 12.5, \"model_year\": 73, \"origin\": \"usa\", \"name\": \"dodge coronet custom\", \"h2\": 22500.0, \"h3\": 3375000.0, \"poly_pred\": 14.890156621920994}, {\"mpg\": 12.0, \"cylinders\": 8, \"displacement\": 429.0, \"horsepower\": 198.0, \"weight\": 4952, \"acceleration\": 11.5, \"model_year\": 73, \"origin\": \"usa\", \"name\": \"mercury marquis brougham\", \"h2\": 39204.0, \"h3\": 7762392.0, \"poly_pred\": 12.895065253108243}, {\"mpg\": 13.0, \"cylinders\": 8, \"displacement\": 400.0, \"horsepower\": 150.0, \"weight\": 4464, \"acceleration\": 12.0, \"model_year\": 73, \"origin\": \"usa\", \"name\": \"chevrolet caprice classic\", \"h2\": 22500.0, \"h3\": 3375000.0, \"poly_pred\": 14.890156621920994}, {\"mpg\": 13.0, \"cylinders\": 8, \"displacement\": 351.0, \"horsepower\": 158.0, \"weight\": 4363, \"acceleration\": 13.0, \"model_year\": 73, \"origin\": \"usa\", \"name\": \"ford ltd\", \"h2\": 24964.0, \"h3\": 3944312.0, \"poly_pred\": 14.239939457014664}, {\"mpg\": 14.0, \"cylinders\": 8, \"displacement\": 318.0, \"horsepower\": 150.0, \"weight\": 4237, \"acceleration\": 14.5, \"model_year\": 73, \"origin\": \"usa\", \"name\": \"plymouth fury gran sedan\", \"h2\": 22500.0, \"h3\": 3375000.0, \"poly_pred\": 14.890156621920994}, {\"mpg\": 13.0, \"cylinders\": 8, \"displacement\": 440.0, \"horsepower\": 215.0, \"weight\": 4735, \"acceleration\": 11.0, \"model_year\": 73, \"origin\": \"usa\", \"name\": \"chrysler new yorker brougham\", \"h2\": 46225.0, \"h3\": 9938375.0, \"poly_pred\": 13.150329660718661}, {\"mpg\": 12.0, \"cylinders\": 8, \"displacement\": 455.0, \"horsepower\": 225.0, \"weight\": 4951, \"acceleration\": 11.0, \"model_year\": 73, \"origin\": \"usa\", \"name\": \"buick electra 225 custom\", \"h2\": 50625.0, \"h3\": 11390625.0, \"poly_pred\": 13.49204045628425}, {\"mpg\": 13.0, \"cylinders\": 8, \"displacement\": 360.0, \"horsepower\": 175.0, \"weight\": 3821, \"acceleration\": 11.0, \"model_year\": 73, \"origin\": \"usa\", \"name\": \"amc ambassador brougham\", \"h2\": 30625.0, \"h3\": 5359375.0, \"poly_pred\": 13.301159134643996}, {\"mpg\": 18.0, \"cylinders\": 6, \"displacement\": 225.0, \"horsepower\": 105.0, \"weight\": 3121, \"acceleration\": 16.5, \"model_year\": 73, \"origin\": \"usa\", \"name\": \"plymouth valiant\", \"h2\": 11025.0, \"h3\": 1157625.0, \"poly_pred\": 21.39163278223674}, {\"mpg\": 16.0, \"cylinders\": 6, \"displacement\": 250.0, \"horsepower\": 100.0, \"weight\": 3278, \"acceleration\": 18.0, \"model_year\": 73, \"origin\": \"usa\", \"name\": \"chevrolet nova custom\", \"h2\": 10000.0, \"h3\": 1000000.0, \"poly_pred\": 22.443258788519906}, {\"mpg\": 18.0, \"cylinders\": 6, \"displacement\": 232.0, \"horsepower\": 100.0, \"weight\": 2945, \"acceleration\": 16.0, \"model_year\": 73, \"origin\": \"usa\", \"name\": \"amc hornet\", \"h2\": 10000.0, \"h3\": 1000000.0, \"poly_pred\": 22.443258788519906}, {\"mpg\": 18.0, \"cylinders\": 6, \"displacement\": 250.0, \"horsepower\": 88.0, \"weight\": 3021, \"acceleration\": 16.5, \"model_year\": 73, \"origin\": \"usa\", \"name\": \"ford maverick\", \"h2\": 7744.0, \"h3\": 681472.0, \"poly_pred\": 25.26297137738215}, {\"mpg\": 23.0, \"cylinders\": 6, \"displacement\": 198.0, \"horsepower\": 95.0, \"weight\": 2904, \"acceleration\": 16.0, \"model_year\": 73, \"origin\": \"usa\", \"name\": \"plymouth duster\", \"h2\": 9025.0, \"h3\": 857375.0, \"poly_pred\": 23.56663596930835}, {\"mpg\": 26.0, \"cylinders\": 4, \"displacement\": 97.0, \"horsepower\": 46.0, \"weight\": 1950, \"acceleration\": 21.0, \"model_year\": 73, \"origin\": \"europe\", \"name\": \"volkswagen super beetle\", \"h2\": 2116.0, \"h3\": 97336.0, \"poly_pred\": 38.70792285334719}, {\"mpg\": 11.0, \"cylinders\": 8, \"displacement\": 400.0, \"horsepower\": 150.0, \"weight\": 4997, \"acceleration\": 14.0, \"model_year\": 73, \"origin\": \"usa\", \"name\": \"chevrolet impala\", \"h2\": 22500.0, \"h3\": 3375000.0, \"poly_pred\": 14.890156621920994}, {\"mpg\": 12.0, \"cylinders\": 8, \"displacement\": 400.0, \"horsepower\": 167.0, \"weight\": 4906, \"acceleration\": 12.5, \"model_year\": 73, \"origin\": \"usa\", \"name\": \"ford country\", \"h2\": 27889.0, \"h3\": 4657463.0, \"poly_pred\": 13.670527831710181}, {\"mpg\": 13.0, \"cylinders\": 8, \"displacement\": 360.0, \"horsepower\": 170.0, \"weight\": 4654, \"acceleration\": 13.0, \"model_year\": 73, \"origin\": \"usa\", \"name\": \"plymouth custom suburb\", \"h2\": 28900.0, \"h3\": 4913000.0, \"poly_pred\": 13.517315488356232}, {\"mpg\": 12.0, \"cylinders\": 8, \"displacement\": 350.0, \"horsepower\": 180.0, \"weight\": 4499, \"acceleration\": 12.5, \"model_year\": 73, \"origin\": \"usa\", \"name\": \"oldsmobile vista cruiser\", \"h2\": 32400.0, \"h3\": 5832000.0, \"poly_pred\": 13.132604413936612}, {\"mpg\": 18.0, \"cylinders\": 6, \"displacement\": 232.0, \"horsepower\": 100.0, \"weight\": 2789, \"acceleration\": 15.0, \"model_year\": 73, \"origin\": \"usa\", \"name\": \"amc gremlin\", \"h2\": 10000.0, \"h3\": 1000000.0, \"poly_pred\": 22.443258788519906}, {\"mpg\": 20.0, \"cylinders\": 4, \"displacement\": 97.0, \"horsepower\": 88.0, \"weight\": 2279, \"acceleration\": 19.0, \"model_year\": 73, \"origin\": \"japan\", \"name\": \"toyota carina\", \"h2\": 7744.0, \"h3\": 681472.0, \"poly_pred\": 25.26297137738215}, {\"mpg\": 21.0, \"cylinders\": 4, \"displacement\": 140.0, \"horsepower\": 72.0, \"weight\": 2401, \"acceleration\": 19.5, \"model_year\": 73, \"origin\": \"usa\", \"name\": \"chevrolet vega\", \"h2\": 5184.0, \"h3\": 373248.0, \"poly_pred\": 29.703946222426847}, {\"mpg\": 22.0, \"cylinders\": 4, \"displacement\": 108.0, \"horsepower\": 94.0, \"weight\": 2379, \"acceleration\": 16.5, \"model_year\": 73, \"origin\": \"japan\", \"name\": \"datsun 610\", \"h2\": 8836.0, \"h3\": 830584.0, \"poly_pred\": 23.800063223716812}, {\"mpg\": 18.0, \"cylinders\": 3, \"displacement\": 70.0, \"horsepower\": 90.0, \"weight\": 2124, \"acceleration\": 13.5, \"model_year\": 73, \"origin\": \"japan\", \"name\": \"maxda rx3\", \"h2\": 8100.0, \"h3\": 729000.0, \"poly_pred\": 24.76337429403543}, {\"mpg\": 19.0, \"cylinders\": 4, \"displacement\": 122.0, \"horsepower\": 85.0, \"weight\": 2310, \"acceleration\": 18.5, \"model_year\": 73, \"origin\": \"usa\", \"name\": \"ford pinto\", \"h2\": 7225.0, \"h3\": 614125.0, \"poly_pred\": 26.03508373213451}, {\"mpg\": 21.0, \"cylinders\": 6, \"displacement\": 155.0, \"horsepower\": 107.0, \"weight\": 2472, \"acceleration\": 14.0, \"model_year\": 73, \"origin\": \"usa\", \"name\": \"mercury capri v6\", \"h2\": 11449.0, \"h3\": 1225043.0, \"poly_pred\": 20.990712075431873}, {\"mpg\": 26.0, \"cylinders\": 4, \"displacement\": 98.0, \"horsepower\": 90.0, \"weight\": 2265, \"acceleration\": 15.5, \"model_year\": 73, \"origin\": \"europe\", \"name\": \"fiat 124 sport coupe\", \"h2\": 8100.0, \"h3\": 729000.0, \"poly_pred\": 24.76337429403543}, {\"mpg\": 15.0, \"cylinders\": 8, \"displacement\": 350.0, \"horsepower\": 145.0, \"weight\": 4082, \"acceleration\": 13.0, \"model_year\": 73, \"origin\": \"usa\", \"name\": \"chevrolet monte carlo s\", \"h2\": 21025.0, \"h3\": 3048625.0, \"poly_pred\": 15.368470682157941}, {\"mpg\": 16.0, \"cylinders\": 8, \"displacement\": 400.0, \"horsepower\": 230.0, \"weight\": 4278, \"acceleration\": 9.5, \"model_year\": 73, \"origin\": \"usa\", \"name\": \"pontiac grand prix\", \"h2\": 52900.0, \"h3\": 12167000.0, \"poly_pred\": 13.710953746790594}, {\"mpg\": 29.0, \"cylinders\": 4, \"displacement\": 68.0, \"horsepower\": 49.0, \"weight\": 1867, \"acceleration\": 19.5, \"model_year\": 73, \"origin\": \"europe\", \"name\": \"fiat 128\", \"h2\": 2401.0, \"h3\": 117649.0, \"poly_pred\": 37.550286266052495}, {\"mpg\": 24.0, \"cylinders\": 4, \"displacement\": 116.0, \"horsepower\": 75.0, \"weight\": 2158, \"acceleration\": 15.5, \"model_year\": 73, \"origin\": \"europe\", \"name\": \"opel manta\", \"h2\": 5625.0, \"h3\": 421875.0, \"poly_pred\": 28.80985582618209}, {\"mpg\": 20.0, \"cylinders\": 4, \"displacement\": 114.0, \"horsepower\": 91.0, \"weight\": 2582, \"acceleration\": 14.0, \"model_year\": 73, \"origin\": \"europe\", \"name\": \"audi 100ls\", \"h2\": 8281.0, \"h3\": 753571.0, \"poly_pred\": 24.518080459042125}, {\"mpg\": 19.0, \"cylinders\": 4, \"displacement\": 121.0, \"horsepower\": 112.0, \"weight\": 2868, \"acceleration\": 15.5, \"model_year\": 73, \"origin\": \"europe\", \"name\": \"volvo 144ea\", \"h2\": 12544.0, \"h3\": 1404928.0, \"poly_pred\": 20.036832964808042}, {\"mpg\": 15.0, \"cylinders\": 8, \"displacement\": 318.0, \"horsepower\": 150.0, \"weight\": 3399, \"acceleration\": 11.0, \"model_year\": 73, \"origin\": \"usa\", \"name\": \"dodge dart custom\", \"h2\": 22500.0, \"h3\": 3375000.0, \"poly_pred\": 14.890156621920994}, {\"mpg\": 24.0, \"cylinders\": 4, \"displacement\": 121.0, \"horsepower\": 110.0, \"weight\": 2660, \"acceleration\": 14.0, \"model_year\": 73, \"origin\": \"europe\", \"name\": \"saab 99le\", \"h2\": 12100.0, \"h3\": 1331000.0, \"poly_pred\": 20.41014798102548}, {\"mpg\": 20.0, \"cylinders\": 6, \"displacement\": 156.0, \"horsepower\": 122.0, \"weight\": 2807, \"acceleration\": 13.5, \"model_year\": 73, \"origin\": \"japan\", \"name\": \"toyota mark ii\", \"h2\": 14884.0, \"h3\": 1815848.0, \"poly_pred\": 18.331126517722645}, {\"mpg\": 11.0, \"cylinders\": 8, \"displacement\": 350.0, \"horsepower\": 180.0, \"weight\": 3664, \"acceleration\": 11.0, \"model_year\": 73, \"origin\": \"usa\", \"name\": \"oldsmobile omega\", \"h2\": 32400.0, \"h3\": 5832000.0, \"poly_pred\": 13.132604413936612}, {\"mpg\": 20.0, \"cylinders\": 6, \"displacement\": 198.0, \"horsepower\": 95.0, \"weight\": 3102, \"acceleration\": 16.5, \"model_year\": 74, \"origin\": \"usa\", \"name\": \"plymouth duster\", \"h2\": 9025.0, \"h3\": 857375.0, \"poly_pred\": 23.56663596930835}, {\"mpg\": 19.0, \"cylinders\": 6, \"displacement\": 232.0, \"horsepower\": 100.0, \"weight\": 2901, \"acceleration\": 16.0, \"model_year\": 74, \"origin\": \"usa\", \"name\": \"amc hornet\", \"h2\": 10000.0, \"h3\": 1000000.0, \"poly_pred\": 22.443258788519906}, {\"mpg\": 15.0, \"cylinders\": 6, \"displacement\": 250.0, \"horsepower\": 100.0, \"weight\": 3336, \"acceleration\": 17.0, \"model_year\": 74, \"origin\": \"usa\", \"name\": \"chevrolet nova\", \"h2\": 10000.0, \"h3\": 1000000.0, \"poly_pred\": 22.443258788519906}, {\"mpg\": 31.0, \"cylinders\": 4, \"displacement\": 79.0, \"horsepower\": 67.0, \"weight\": 1950, \"acceleration\": 19.0, \"model_year\": 74, \"origin\": \"japan\", \"name\": \"datsun b210\", \"h2\": 4489.0, \"h3\": 300763.0, \"poly_pred\": 31.258882215573337}, {\"mpg\": 26.0, \"cylinders\": 4, \"displacement\": 122.0, \"horsepower\": 80.0, \"weight\": 2451, \"acceleration\": 16.5, \"model_year\": 74, \"origin\": \"usa\", \"name\": \"ford pinto\", \"h2\": 6400.0, \"h3\": 512000.0, \"poly_pred\": 27.383374253038937}, {\"mpg\": 32.0, \"cylinders\": 4, \"displacement\": 71.0, \"horsepower\": 65.0, \"weight\": 1836, \"acceleration\": 21.0, \"model_year\": 74, \"origin\": \"japan\", \"name\": \"toyota corolla 1200\", \"h2\": 4225.0, \"h3\": 274625.0, \"poly_pred\": 31.903832006917995}, {\"mpg\": 25.0, \"cylinders\": 4, \"displacement\": 140.0, \"horsepower\": 75.0, \"weight\": 2542, \"acceleration\": 17.0, \"model_year\": 74, \"origin\": \"usa\", \"name\": \"chevrolet vega\", \"h2\": 5625.0, \"h3\": 421875.0, \"poly_pred\": 28.80985582618209}, {\"mpg\": 16.0, \"cylinders\": 6, \"displacement\": 250.0, \"horsepower\": 100.0, \"weight\": 3781, \"acceleration\": 17.0, \"model_year\": 74, \"origin\": \"usa\", \"name\": \"chevrolet chevelle malibu classic\", \"h2\": 10000.0, \"h3\": 1000000.0, \"poly_pred\": 22.443258788519906}, {\"mpg\": 16.0, \"cylinders\": 6, \"displacement\": 258.0, \"horsepower\": 110.0, \"weight\": 3632, \"acceleration\": 18.0, \"model_year\": 74, \"origin\": \"usa\", \"name\": \"amc matador\", \"h2\": 12100.0, \"h3\": 1331000.0, \"poly_pred\": 20.41014798102548}, {\"mpg\": 18.0, \"cylinders\": 6, \"displacement\": 225.0, \"horsepower\": 105.0, \"weight\": 3613, \"acceleration\": 16.5, \"model_year\": 74, \"origin\": \"usa\", \"name\": \"plymouth satellite sebring\", \"h2\": 11025.0, \"h3\": 1157625.0, \"poly_pred\": 21.39163278223674}, {\"mpg\": 16.0, \"cylinders\": 8, \"displacement\": 302.0, \"horsepower\": 140.0, \"weight\": 4141, \"acceleration\": 14.0, \"model_year\": 74, \"origin\": \"usa\", \"name\": \"ford gran torino\", \"h2\": 19600.0, \"h3\": 2744000.0, \"poly_pred\": 15.90404619199991}, {\"mpg\": 13.0, \"cylinders\": 8, \"displacement\": 350.0, \"horsepower\": 150.0, \"weight\": 4699, \"acceleration\": 14.5, \"model_year\": 74, \"origin\": \"usa\", \"name\": \"buick century luxus (sw)\", \"h2\": 22500.0, \"h3\": 3375000.0, \"poly_pred\": 14.890156621920994}, {\"mpg\": 14.0, \"cylinders\": 8, \"displacement\": 318.0, \"horsepower\": 150.0, \"weight\": 4457, \"acceleration\": 13.5, \"model_year\": 74, \"origin\": \"usa\", \"name\": \"dodge coronet custom (sw)\", \"h2\": 22500.0, \"h3\": 3375000.0, \"poly_pred\": 14.890156621920994}, {\"mpg\": 14.0, \"cylinders\": 8, \"displacement\": 302.0, \"horsepower\": 140.0, \"weight\": 4638, \"acceleration\": 16.0, \"model_year\": 74, \"origin\": \"usa\", \"name\": \"ford gran torino (sw)\", \"h2\": 19600.0, \"h3\": 2744000.0, \"poly_pred\": 15.90404619199991}, {\"mpg\": 14.0, \"cylinders\": 8, \"displacement\": 304.0, \"horsepower\": 150.0, \"weight\": 4257, \"acceleration\": 15.5, \"model_year\": 74, \"origin\": \"usa\", \"name\": \"amc matador (sw)\", \"h2\": 22500.0, \"h3\": 3375000.0, \"poly_pred\": 14.890156621920994}, {\"mpg\": 29.0, \"cylinders\": 4, \"displacement\": 98.0, \"horsepower\": 83.0, \"weight\": 2219, \"acceleration\": 16.5, \"model_year\": 74, \"origin\": \"europe\", \"name\": \"audi fox\", \"h2\": 6889.0, \"h3\": 571787.0, \"poly_pred\": 26.565120052271368}, {\"mpg\": 26.0, \"cylinders\": 4, \"displacement\": 79.0, \"horsepower\": 67.0, \"weight\": 1963, \"acceleration\": 15.5, \"model_year\": 74, \"origin\": \"europe\", \"name\": \"volkswagen dasher\", \"h2\": 4489.0, \"h3\": 300763.0, \"poly_pred\": 31.258882215573337}, {\"mpg\": 26.0, \"cylinders\": 4, \"displacement\": 97.0, \"horsepower\": 78.0, \"weight\": 2300, \"acceleration\": 14.5, \"model_year\": 74, \"origin\": \"europe\", \"name\": \"opel manta\", \"h2\": 6084.0, \"h3\": 474552.0, \"poly_pred\": 27.944493797739284}, {\"mpg\": 31.0, \"cylinders\": 4, \"displacement\": 76.0, \"horsepower\": 52.0, \"weight\": 1649, \"acceleration\": 16.5, \"model_year\": 74, \"origin\": \"japan\", \"name\": \"toyota corona\", \"h2\": 2704.0, \"h3\": 140608.0, \"poly_pred\": 36.42439190933901}, {\"mpg\": 32.0, \"cylinders\": 4, \"displacement\": 83.0, \"horsepower\": 61.0, \"weight\": 2003, \"acceleration\": 19.0, \"model_year\": 74, \"origin\": \"japan\", \"name\": \"datsun 710\", \"h2\": 3721.0, \"h3\": 226981.0, \"poly_pred\": 33.23368468870967}, {\"mpg\": 28.0, \"cylinders\": 4, \"displacement\": 90.0, \"horsepower\": 75.0, \"weight\": 2125, \"acceleration\": 14.5, \"model_year\": 74, \"origin\": \"usa\", \"name\": \"dodge colt\", \"h2\": 5625.0, \"h3\": 421875.0, \"poly_pred\": 28.80985582618209}, {\"mpg\": 24.0, \"cylinders\": 4, \"displacement\": 90.0, \"horsepower\": 75.0, \"weight\": 2108, \"acceleration\": 15.5, \"model_year\": 74, \"origin\": \"europe\", \"name\": \"fiat 128\", \"h2\": 5625.0, \"h3\": 421875.0, \"poly_pred\": 28.80985582618209}, {\"mpg\": 26.0, \"cylinders\": 4, \"displacement\": 116.0, \"horsepower\": 75.0, \"weight\": 2246, \"acceleration\": 14.0, \"model_year\": 74, \"origin\": \"europe\", \"name\": \"fiat 124 tc\", \"h2\": 5625.0, \"h3\": 421875.0, \"poly_pred\": 28.80985582618209}, {\"mpg\": 24.0, \"cylinders\": 4, \"displacement\": 120.0, \"horsepower\": 97.0, \"weight\": 2489, \"acceleration\": 15.0, \"model_year\": 74, \"origin\": \"japan\", \"name\": \"honda civic\", \"h2\": 9409.0, \"h3\": 912673.0, \"poly_pred\": 23.108571918008607}, {\"mpg\": 26.0, \"cylinders\": 4, \"displacement\": 108.0, \"horsepower\": 93.0, \"weight\": 2391, \"acceleration\": 15.5, \"model_year\": 74, \"origin\": \"japan\", \"name\": \"subaru\", \"h2\": 8649.0, \"h3\": 804357.0, \"poly_pred\": 24.03643780363828}, {\"mpg\": 31.0, \"cylinders\": 4, \"displacement\": 79.0, \"horsepower\": 67.0, \"weight\": 2000, \"acceleration\": 16.0, \"model_year\": 74, \"origin\": \"europe\", \"name\": \"fiat x1.9\", \"h2\": 4489.0, \"h3\": 300763.0, \"poly_pred\": 31.258882215573337}, {\"mpg\": 19.0, \"cylinders\": 6, \"displacement\": 225.0, \"horsepower\": 95.0, \"weight\": 3264, \"acceleration\": 16.0, \"model_year\": 75, \"origin\": \"usa\", \"name\": \"plymouth valiant custom\", \"h2\": 9025.0, \"h3\": 857375.0, \"poly_pred\": 23.56663596930835}, {\"mpg\": 18.0, \"cylinders\": 6, \"displacement\": 250.0, \"horsepower\": 105.0, \"weight\": 3459, \"acceleration\": 16.0, \"model_year\": 75, \"origin\": \"usa\", \"name\": \"chevrolet nova\", \"h2\": 11025.0, \"h3\": 1157625.0, \"poly_pred\": 21.39163278223674}, {\"mpg\": 15.0, \"cylinders\": 6, \"displacement\": 250.0, \"horsepower\": 72.0, \"weight\": 3432, \"acceleration\": 21.0, \"model_year\": 75, \"origin\": \"usa\", \"name\": \"mercury monarch\", \"h2\": 5184.0, \"h3\": 373248.0, \"poly_pred\": 29.703946222426847}, {\"mpg\": 15.0, \"cylinders\": 6, \"displacement\": 250.0, \"horsepower\": 72.0, \"weight\": 3158, \"acceleration\": 19.5, \"model_year\": 75, \"origin\": \"usa\", \"name\": \"ford maverick\", \"h2\": 5184.0, \"h3\": 373248.0, \"poly_pred\": 29.703946222426847}, {\"mpg\": 16.0, \"cylinders\": 8, \"displacement\": 400.0, \"horsepower\": 170.0, \"weight\": 4668, \"acceleration\": 11.5, \"model_year\": 75, \"origin\": \"usa\", \"name\": \"pontiac catalina\", \"h2\": 28900.0, \"h3\": 4913000.0, \"poly_pred\": 13.517315488356232}, {\"mpg\": 15.0, \"cylinders\": 8, \"displacement\": 350.0, \"horsepower\": 145.0, \"weight\": 4440, \"acceleration\": 14.0, \"model_year\": 75, \"origin\": \"usa\", \"name\": \"chevrolet bel air\", \"h2\": 21025.0, \"h3\": 3048625.0, \"poly_pred\": 15.368470682157941}, {\"mpg\": 16.0, \"cylinders\": 8, \"displacement\": 318.0, \"horsepower\": 150.0, \"weight\": 4498, \"acceleration\": 14.5, \"model_year\": 75, \"origin\": \"usa\", \"name\": \"plymouth grand fury\", \"h2\": 22500.0, \"h3\": 3375000.0, \"poly_pred\": 14.890156621920994}, {\"mpg\": 14.0, \"cylinders\": 8, \"displacement\": 351.0, \"horsepower\": 148.0, \"weight\": 4657, \"acceleration\": 13.5, \"model_year\": 75, \"origin\": \"usa\", \"name\": \"ford ltd\", \"h2\": 21904.0, \"h3\": 3241792.0, \"poly_pred\": 15.074713910106901}, {\"mpg\": 17.0, \"cylinders\": 6, \"displacement\": 231.0, \"horsepower\": 110.0, \"weight\": 3907, \"acceleration\": 21.0, \"model_year\": 75, \"origin\": \"usa\", \"name\": \"buick century\", \"h2\": 12100.0, \"h3\": 1331000.0, \"poly_pred\": 20.41014798102548}, {\"mpg\": 16.0, \"cylinders\": 6, \"displacement\": 250.0, \"horsepower\": 105.0, \"weight\": 3897, \"acceleration\": 18.5, \"model_year\": 75, \"origin\": \"usa\", \"name\": \"chevroelt chevelle malibu\", \"h2\": 11025.0, \"h3\": 1157625.0, \"poly_pred\": 21.39163278223674}, {\"mpg\": 15.0, \"cylinders\": 6, \"displacement\": 258.0, \"horsepower\": 110.0, \"weight\": 3730, \"acceleration\": 19.0, \"model_year\": 75, \"origin\": \"usa\", \"name\": \"amc matador\", \"h2\": 12100.0, \"h3\": 1331000.0, \"poly_pred\": 20.41014798102548}, {\"mpg\": 18.0, \"cylinders\": 6, \"displacement\": 225.0, \"horsepower\": 95.0, \"weight\": 3785, \"acceleration\": 19.0, \"model_year\": 75, \"origin\": \"usa\", \"name\": \"plymouth fury\", \"h2\": 9025.0, \"h3\": 857375.0, \"poly_pred\": 23.56663596930835}, {\"mpg\": 21.0, \"cylinders\": 6, \"displacement\": 231.0, \"horsepower\": 110.0, \"weight\": 3039, \"acceleration\": 15.0, \"model_year\": 75, \"origin\": \"usa\", \"name\": \"buick skyhawk\", \"h2\": 12100.0, \"h3\": 1331000.0, \"poly_pred\": 20.41014798102548}, {\"mpg\": 20.0, \"cylinders\": 8, \"displacement\": 262.0, \"horsepower\": 110.0, \"weight\": 3221, \"acceleration\": 13.5, \"model_year\": 75, \"origin\": \"usa\", \"name\": \"chevrolet monza 2+2\", \"h2\": 12100.0, \"h3\": 1331000.0, \"poly_pred\": 20.41014798102548}, {\"mpg\": 13.0, \"cylinders\": 8, \"displacement\": 302.0, \"horsepower\": 129.0, \"weight\": 3169, \"acceleration\": 12.0, \"model_year\": 75, \"origin\": \"usa\", \"name\": \"ford mustang ii\", \"h2\": 16641.0, \"h3\": 2146689.0, \"poly_pred\": 17.29180654562954}, {\"mpg\": 29.0, \"cylinders\": 4, \"displacement\": 97.0, \"horsepower\": 75.0, \"weight\": 2171, \"acceleration\": 16.0, \"model_year\": 75, \"origin\": \"japan\", \"name\": \"toyota corolla\", \"h2\": 5625.0, \"h3\": 421875.0, \"poly_pred\": 28.80985582618209}, {\"mpg\": 23.0, \"cylinders\": 4, \"displacement\": 140.0, \"horsepower\": 83.0, \"weight\": 2639, \"acceleration\": 17.0, \"model_year\": 75, \"origin\": \"usa\", \"name\": \"ford pinto\", \"h2\": 6889.0, \"h3\": 571787.0, \"poly_pred\": 26.565120052271368}, {\"mpg\": 20.0, \"cylinders\": 6, \"displacement\": 232.0, \"horsepower\": 100.0, \"weight\": 2914, \"acceleration\": 16.0, \"model_year\": 75, \"origin\": \"usa\", \"name\": \"amc gremlin\", \"h2\": 10000.0, \"h3\": 1000000.0, \"poly_pred\": 22.443258788519906}, {\"mpg\": 23.0, \"cylinders\": 4, \"displacement\": 140.0, \"horsepower\": 78.0, \"weight\": 2592, \"acceleration\": 18.5, \"model_year\": 75, \"origin\": \"usa\", \"name\": \"pontiac astro\", \"h2\": 6084.0, \"h3\": 474552.0, \"poly_pred\": 27.944493797739284}, {\"mpg\": 24.0, \"cylinders\": 4, \"displacement\": 134.0, \"horsepower\": 96.0, \"weight\": 2702, \"acceleration\": 13.5, \"model_year\": 75, \"origin\": \"japan\", \"name\": \"toyota corona\", \"h2\": 9216.0, \"h3\": 884736.0, \"poly_pred\": 23.336143160657436}, {\"mpg\": 25.0, \"cylinders\": 4, \"displacement\": 90.0, \"horsepower\": 71.0, \"weight\": 2223, \"acceleration\": 16.5, \"model_year\": 75, \"origin\": \"europe\", \"name\": \"volkswagen dasher\", \"h2\": 5041.0, \"h3\": 357911.0, \"poly_pred\": 30.008420541767705}, {\"mpg\": 24.0, \"cylinders\": 4, \"displacement\": 119.0, \"horsepower\": 97.0, \"weight\": 2545, \"acceleration\": 17.0, \"model_year\": 75, \"origin\": \"japan\", \"name\": \"datsun 710\", \"h2\": 9409.0, \"h3\": 912673.0, \"poly_pred\": 23.108571918008607}, {\"mpg\": 18.0, \"cylinders\": 6, \"displacement\": 171.0, \"horsepower\": 97.0, \"weight\": 2984, \"acceleration\": 14.5, \"model_year\": 75, \"origin\": \"usa\", \"name\": \"ford pinto\", \"h2\": 9409.0, \"h3\": 912673.0, \"poly_pred\": 23.108571918008607}, {\"mpg\": 29.0, \"cylinders\": 4, \"displacement\": 90.0, \"horsepower\": 70.0, \"weight\": 1937, \"acceleration\": 14.0, \"model_year\": 75, \"origin\": \"europe\", \"name\": \"volkswagen rabbit\", \"h2\": 4900.0, \"h3\": 343000.0, \"poly_pred\": 30.316138420997323}, {\"mpg\": 19.0, \"cylinders\": 6, \"displacement\": 232.0, \"horsepower\": 90.0, \"weight\": 3211, \"acceleration\": 17.0, \"model_year\": 75, \"origin\": \"usa\", \"name\": \"amc pacer\", \"h2\": 8100.0, \"h3\": 729000.0, \"poly_pred\": 24.76337429403543}, {\"mpg\": 23.0, \"cylinders\": 4, \"displacement\": 115.0, \"horsepower\": 95.0, \"weight\": 2694, \"acceleration\": 15.0, \"model_year\": 75, \"origin\": \"europe\", \"name\": \"audi 100ls\", \"h2\": 9025.0, \"h3\": 857375.0, \"poly_pred\": 23.56663596930835}, {\"mpg\": 23.0, \"cylinders\": 4, \"displacement\": 120.0, \"horsepower\": 88.0, \"weight\": 2957, \"acceleration\": 17.0, \"model_year\": 75, \"origin\": \"europe\", \"name\": \"peugeot 504\", \"h2\": 7744.0, \"h3\": 681472.0, \"poly_pred\": 25.26297137738215}, {\"mpg\": 22.0, \"cylinders\": 4, \"displacement\": 121.0, \"horsepower\": 98.0, \"weight\": 2945, \"acceleration\": 14.5, \"model_year\": 75, \"origin\": \"europe\", \"name\": \"volvo 244dl\", \"h2\": 9604.0, \"h3\": 941192.0, \"poly_pred\": 22.883909361606385}, {\"mpg\": 25.0, \"cylinders\": 4, \"displacement\": 121.0, \"horsepower\": 115.0, \"weight\": 2671, \"acceleration\": 13.5, \"model_year\": 75, \"origin\": \"europe\", \"name\": \"saab 99le\", \"h2\": 13225.0, \"h3\": 1520875.0, \"poly_pred\": 19.497194415452782}, {\"mpg\": 33.0, \"cylinders\": 4, \"displacement\": 91.0, \"horsepower\": 53.0, \"weight\": 1795, \"acceleration\": 17.5, \"model_year\": 75, \"origin\": \"japan\", \"name\": \"honda civic cvcc\", \"h2\": 2809.0, \"h3\": 148877.0, \"poly_pred\": 36.05608751392704}, {\"mpg\": 28.0, \"cylinders\": 4, \"displacement\": 107.0, \"horsepower\": 86.0, \"weight\": 2464, \"acceleration\": 15.5, \"model_year\": 76, \"origin\": \"europe\", \"name\": \"fiat 131\", \"h2\": 7396.0, \"h3\": 636056.0, \"poly_pred\": 25.77466687691213}, {\"mpg\": 25.0, \"cylinders\": 4, \"displacement\": 116.0, \"horsepower\": 81.0, \"weight\": 2220, \"acceleration\": 16.9, \"model_year\": 76, \"origin\": \"europe\", \"name\": \"opel 1900\", \"h2\": 6561.0, \"h3\": 531441.0, \"poly_pred\": 27.107512383700822}, {\"mpg\": 25.0, \"cylinders\": 4, \"displacement\": 140.0, \"horsepower\": 92.0, \"weight\": 2572, \"acceleration\": 14.9, \"model_year\": 76, \"origin\": \"usa\", \"name\": \"capri ii\", \"h2\": 8464.0, \"h3\": 778688.0, \"poly_pred\": 24.275772588828225}, {\"mpg\": 26.0, \"cylinders\": 4, \"displacement\": 98.0, \"horsepower\": 79.0, \"weight\": 2255, \"acceleration\": 17.7, \"model_year\": 76, \"origin\": \"usa\", \"name\": \"dodge colt\", \"h2\": 6241.0, \"h3\": 493039.0, \"poly_pred\": 27.662363764466605}, {\"mpg\": 27.0, \"cylinders\": 4, \"displacement\": 101.0, \"horsepower\": 83.0, \"weight\": 2202, \"acceleration\": 15.3, \"model_year\": 76, \"origin\": \"europe\", \"name\": \"renault 12tl\", \"h2\": 6889.0, \"h3\": 571787.0, \"poly_pred\": 26.565120052271368}, {\"mpg\": 17.5, \"cylinders\": 8, \"displacement\": 305.0, \"horsepower\": 140.0, \"weight\": 4215, \"acceleration\": 13.0, \"model_year\": 76, \"origin\": \"usa\", \"name\": \"chevrolet chevelle malibu classic\", \"h2\": 19600.0, \"h3\": 2744000.0, \"poly_pred\": 15.90404619199991}, {\"mpg\": 16.0, \"cylinders\": 8, \"displacement\": 318.0, \"horsepower\": 150.0, \"weight\": 4190, \"acceleration\": 13.0, \"model_year\": 76, \"origin\": \"usa\", \"name\": \"dodge coronet brougham\", \"h2\": 22500.0, \"h3\": 3375000.0, \"poly_pred\": 14.890156621920994}, {\"mpg\": 15.5, \"cylinders\": 8, \"displacement\": 304.0, \"horsepower\": 120.0, \"weight\": 3962, \"acceleration\": 13.9, \"model_year\": 76, \"origin\": \"usa\", \"name\": \"amc matador\", \"h2\": 14400.0, \"h3\": 1728000.0, \"poly_pred\": 18.651162116085267}, {\"mpg\": 14.5, \"cylinders\": 8, \"displacement\": 351.0, \"horsepower\": 152.0, \"weight\": 4215, \"acceleration\": 12.8, \"model_year\": 76, \"origin\": \"usa\", \"name\": \"ford gran torino\", \"h2\": 23104.0, \"h3\": 3511808.0, \"poly_pred\": 14.714503570562549}, {\"mpg\": 22.0, \"cylinders\": 6, \"displacement\": 225.0, \"horsepower\": 100.0, \"weight\": 3233, \"acceleration\": 15.4, \"model_year\": 76, \"origin\": \"usa\", \"name\": \"plymouth valiant\", \"h2\": 10000.0, \"h3\": 1000000.0, \"poly_pred\": 22.443258788519906}, {\"mpg\": 22.0, \"cylinders\": 6, \"displacement\": 250.0, \"horsepower\": 105.0, \"weight\": 3353, \"acceleration\": 14.5, \"model_year\": 76, \"origin\": \"usa\", \"name\": \"chevrolet nova\", \"h2\": 11025.0, \"h3\": 1157625.0, \"poly_pred\": 21.39163278223674}, {\"mpg\": 24.0, \"cylinders\": 6, \"displacement\": 200.0, \"horsepower\": 81.0, \"weight\": 3012, \"acceleration\": 17.6, \"model_year\": 76, \"origin\": \"usa\", \"name\": \"ford maverick\", \"h2\": 6561.0, \"h3\": 531441.0, \"poly_pred\": 27.107512383700822}, {\"mpg\": 22.5, \"cylinders\": 6, \"displacement\": 232.0, \"horsepower\": 90.0, \"weight\": 3085, \"acceleration\": 17.6, \"model_year\": 76, \"origin\": \"usa\", \"name\": \"amc hornet\", \"h2\": 8100.0, \"h3\": 729000.0, \"poly_pred\": 24.76337429403543}, {\"mpg\": 29.0, \"cylinders\": 4, \"displacement\": 85.0, \"horsepower\": 52.0, \"weight\": 2035, \"acceleration\": 22.2, \"model_year\": 76, \"origin\": \"usa\", \"name\": \"chevrolet chevette\", \"h2\": 2704.0, \"h3\": 140608.0, \"poly_pred\": 36.42439190933901}, {\"mpg\": 24.5, \"cylinders\": 4, \"displacement\": 98.0, \"horsepower\": 60.0, \"weight\": 2164, \"acceleration\": 22.1, \"model_year\": 76, \"origin\": \"usa\", \"name\": \"chevrolet woody\", \"h2\": 3600.0, \"h3\": 216000.0, \"poly_pred\": 33.57454655337747}, {\"mpg\": 29.0, \"cylinders\": 4, \"displacement\": 90.0, \"horsepower\": 70.0, \"weight\": 1937, \"acceleration\": 14.2, \"model_year\": 76, \"origin\": \"europe\", \"name\": \"vw rabbit\", \"h2\": 4900.0, \"h3\": 343000.0, \"poly_pred\": 30.316138420997323}, {\"mpg\": 33.0, \"cylinders\": 4, \"displacement\": 91.0, \"horsepower\": 53.0, \"weight\": 1795, \"acceleration\": 17.4, \"model_year\": 76, \"origin\": \"japan\", \"name\": \"honda civic\", \"h2\": 2809.0, \"h3\": 148877.0, \"poly_pred\": 36.05608751392704}, {\"mpg\": 20.0, \"cylinders\": 6, \"displacement\": 225.0, \"horsepower\": 100.0, \"weight\": 3651, \"acceleration\": 17.7, \"model_year\": 76, \"origin\": \"usa\", \"name\": \"dodge aspen se\", \"h2\": 10000.0, \"h3\": 1000000.0, \"poly_pred\": 22.443258788519906}, {\"mpg\": 18.0, \"cylinders\": 6, \"displacement\": 250.0, \"horsepower\": 78.0, \"weight\": 3574, \"acceleration\": 21.0, \"model_year\": 76, \"origin\": \"usa\", \"name\": \"ford granada ghia\", \"h2\": 6084.0, \"h3\": 474552.0, \"poly_pred\": 27.944493797739284}, {\"mpg\": 18.5, \"cylinders\": 6, \"displacement\": 250.0, \"horsepower\": 110.0, \"weight\": 3645, \"acceleration\": 16.2, \"model_year\": 76, \"origin\": \"usa\", \"name\": \"pontiac ventura sj\", \"h2\": 12100.0, \"h3\": 1331000.0, \"poly_pred\": 20.41014798102548}, {\"mpg\": 17.5, \"cylinders\": 6, \"displacement\": 258.0, \"horsepower\": 95.0, \"weight\": 3193, \"acceleration\": 17.8, \"model_year\": 76, \"origin\": \"usa\", \"name\": \"amc pacer d/l\", \"h2\": 9025.0, \"h3\": 857375.0, \"poly_pred\": 23.56663596930835}, {\"mpg\": 29.5, \"cylinders\": 4, \"displacement\": 97.0, \"horsepower\": 71.0, \"weight\": 1825, \"acceleration\": 12.2, \"model_year\": 76, \"origin\": \"europe\", \"name\": \"volkswagen rabbit\", \"h2\": 5041.0, \"h3\": 357911.0, \"poly_pred\": 30.008420541767705}, {\"mpg\": 32.0, \"cylinders\": 4, \"displacement\": 85.0, \"horsepower\": 70.0, \"weight\": 1990, \"acceleration\": 17.0, \"model_year\": 76, \"origin\": \"japan\", \"name\": \"datsun b-210\", \"h2\": 4900.0, \"h3\": 343000.0, \"poly_pred\": 30.316138420997323}, {\"mpg\": 28.0, \"cylinders\": 4, \"displacement\": 97.0, \"horsepower\": 75.0, \"weight\": 2155, \"acceleration\": 16.4, \"model_year\": 76, \"origin\": \"japan\", \"name\": \"toyota corolla\", \"h2\": 5625.0, \"h3\": 421875.0, \"poly_pred\": 28.80985582618209}, {\"mpg\": 26.5, \"cylinders\": 4, \"displacement\": 140.0, \"horsepower\": 72.0, \"weight\": 2565, \"acceleration\": 13.6, \"model_year\": 76, \"origin\": \"usa\", \"name\": \"ford pinto\", \"h2\": 5184.0, \"h3\": 373248.0, \"poly_pred\": 29.703946222426847}, {\"mpg\": 20.0, \"cylinders\": 4, \"displacement\": 130.0, \"horsepower\": 102.0, \"weight\": 3150, \"acceleration\": 15.7, \"model_year\": 76, \"origin\": \"europe\", \"name\": \"volvo 245\", \"h2\": 10404.0, \"h3\": 1061208.0, \"poly_pred\": 22.014088403354272}, {\"mpg\": 13.0, \"cylinders\": 8, \"displacement\": 318.0, \"horsepower\": 150.0, \"weight\": 3940, \"acceleration\": 13.2, \"model_year\": 76, \"origin\": \"usa\", \"name\": \"plymouth volare premier v8\", \"h2\": 22500.0, \"h3\": 3375000.0, \"poly_pred\": 14.890156621920994}, {\"mpg\": 19.0, \"cylinders\": 4, \"displacement\": 120.0, \"horsepower\": 88.0, \"weight\": 3270, \"acceleration\": 21.9, \"model_year\": 76, \"origin\": \"europe\", \"name\": \"peugeot 504\", \"h2\": 7744.0, \"h3\": 681472.0, \"poly_pred\": 25.26297137738215}, {\"mpg\": 19.0, \"cylinders\": 6, \"displacement\": 156.0, \"horsepower\": 108.0, \"weight\": 2930, \"acceleration\": 15.5, \"model_year\": 76, \"origin\": \"japan\", \"name\": \"toyota mark ii\", \"h2\": 11664.0, \"h3\": 1259712.0, \"poly_pred\": 20.79442799494509}, {\"mpg\": 16.5, \"cylinders\": 6, \"displacement\": 168.0, \"horsepower\": 120.0, \"weight\": 3820, \"acceleration\": 16.7, \"model_year\": 76, \"origin\": \"europe\", \"name\": \"mercedes-benz 280s\", \"h2\": 14400.0, \"h3\": 1728000.0, \"poly_pred\": 18.651162116085267}, {\"mpg\": 16.5, \"cylinders\": 8, \"displacement\": 350.0, \"horsepower\": 180.0, \"weight\": 4380, \"acceleration\": 12.1, \"model_year\": 76, \"origin\": \"usa\", \"name\": \"cadillac seville\", \"h2\": 32400.0, \"h3\": 5832000.0, \"poly_pred\": 13.132604413936612}, {\"mpg\": 13.0, \"cylinders\": 8, \"displacement\": 350.0, \"horsepower\": 145.0, \"weight\": 4055, \"acceleration\": 12.0, \"model_year\": 76, \"origin\": \"usa\", \"name\": \"chevy c10\", \"h2\": 21025.0, \"h3\": 3048625.0, \"poly_pred\": 15.368470682157941}, {\"mpg\": 13.0, \"cylinders\": 8, \"displacement\": 302.0, \"horsepower\": 130.0, \"weight\": 3870, \"acceleration\": 15.0, \"model_year\": 76, \"origin\": \"usa\", \"name\": \"ford f108\", \"h2\": 16900.0, \"h3\": 2197000.0, \"poly_pred\": 17.15342143823237}, {\"mpg\": 13.0, \"cylinders\": 8, \"displacement\": 318.0, \"horsepower\": 150.0, \"weight\": 3755, \"acceleration\": 14.0, \"model_year\": 76, \"origin\": \"usa\", \"name\": \"dodge d100\", \"h2\": 22500.0, \"h3\": 3375000.0, \"poly_pred\": 14.890156621920994}, {\"mpg\": 31.5, \"cylinders\": 4, \"displacement\": 98.0, \"horsepower\": 68.0, \"weight\": 2045, \"acceleration\": 18.5, \"model_year\": 77, \"origin\": \"japan\", \"name\": \"honda accord cvcc\", \"h2\": 4624.0, \"h3\": 314432.0, \"poly_pred\": 30.941356378144672}, {\"mpg\": 30.0, \"cylinders\": 4, \"displacement\": 111.0, \"horsepower\": 80.0, \"weight\": 2155, \"acceleration\": 14.8, \"model_year\": 77, \"origin\": \"usa\", \"name\": \"buick opel isuzu deluxe\", \"h2\": 6400.0, \"h3\": 512000.0, \"poly_pred\": 27.383374253038937}, {\"mpg\": 36.0, \"cylinders\": 4, \"displacement\": 79.0, \"horsepower\": 58.0, \"weight\": 1825, \"acceleration\": 18.6, \"model_year\": 77, \"origin\": \"europe\", \"name\": \"renault 5 gtl\", \"h2\": 3364.0, \"h3\": 195112.0, \"poly_pred\": 34.2664388740652}, {\"mpg\": 25.5, \"cylinders\": 4, \"displacement\": 122.0, \"horsepower\": 96.0, \"weight\": 2300, \"acceleration\": 15.5, \"model_year\": 77, \"origin\": \"usa\", \"name\": \"plymouth arrow gs\", \"h2\": 9216.0, \"h3\": 884736.0, \"poly_pred\": 23.336143160657436}, {\"mpg\": 33.5, \"cylinders\": 4, \"displacement\": 85.0, \"horsepower\": 70.0, \"weight\": 1945, \"acceleration\": 16.8, \"model_year\": 77, \"origin\": \"japan\", \"name\": \"datsun f-10 hatchback\", \"h2\": 4900.0, \"h3\": 343000.0, \"poly_pred\": 30.316138420997323}, {\"mpg\": 17.5, \"cylinders\": 8, \"displacement\": 305.0, \"horsepower\": 145.0, \"weight\": 3880, \"acceleration\": 12.5, \"model_year\": 77, \"origin\": \"usa\", \"name\": \"chevrolet caprice classic\", \"h2\": 21025.0, \"h3\": 3048625.0, \"poly_pred\": 15.368470682157941}, {\"mpg\": 17.0, \"cylinders\": 8, \"displacement\": 260.0, \"horsepower\": 110.0, \"weight\": 4060, \"acceleration\": 19.0, \"model_year\": 77, \"origin\": \"usa\", \"name\": \"oldsmobile cutlass supreme\", \"h2\": 12100.0, \"h3\": 1331000.0, \"poly_pred\": 20.41014798102548}, {\"mpg\": 15.5, \"cylinders\": 8, \"displacement\": 318.0, \"horsepower\": 145.0, \"weight\": 4140, \"acceleration\": 13.7, \"model_year\": 77, \"origin\": \"usa\", \"name\": \"dodge monaco brougham\", \"h2\": 21025.0, \"h3\": 3048625.0, \"poly_pred\": 15.368470682157941}, {\"mpg\": 15.0, \"cylinders\": 8, \"displacement\": 302.0, \"horsepower\": 130.0, \"weight\": 4295, \"acceleration\": 14.9, \"model_year\": 77, \"origin\": \"usa\", \"name\": \"mercury cougar brougham\", \"h2\": 16900.0, \"h3\": 2197000.0, \"poly_pred\": 17.15342143823237}, {\"mpg\": 17.5, \"cylinders\": 6, \"displacement\": 250.0, \"horsepower\": 110.0, \"weight\": 3520, \"acceleration\": 16.4, \"model_year\": 77, \"origin\": \"usa\", \"name\": \"chevrolet concours\", \"h2\": 12100.0, \"h3\": 1331000.0, \"poly_pred\": 20.41014798102548}, {\"mpg\": 20.5, \"cylinders\": 6, \"displacement\": 231.0, \"horsepower\": 105.0, \"weight\": 3425, \"acceleration\": 16.9, \"model_year\": 77, \"origin\": \"usa\", \"name\": \"buick skylark\", \"h2\": 11025.0, \"h3\": 1157625.0, \"poly_pred\": 21.39163278223674}, {\"mpg\": 19.0, \"cylinders\": 6, \"displacement\": 225.0, \"horsepower\": 100.0, \"weight\": 3630, \"acceleration\": 17.7, \"model_year\": 77, \"origin\": \"usa\", \"name\": \"plymouth volare custom\", \"h2\": 10000.0, \"h3\": 1000000.0, \"poly_pred\": 22.443258788519906}, {\"mpg\": 18.5, \"cylinders\": 6, \"displacement\": 250.0, \"horsepower\": 98.0, \"weight\": 3525, \"acceleration\": 19.0, \"model_year\": 77, \"origin\": \"usa\", \"name\": \"ford granada\", \"h2\": 9604.0, \"h3\": 941192.0, \"poly_pred\": 22.883909361606385}, {\"mpg\": 16.0, \"cylinders\": 8, \"displacement\": 400.0, \"horsepower\": 180.0, \"weight\": 4220, \"acceleration\": 11.1, \"model_year\": 77, \"origin\": \"usa\", \"name\": \"pontiac grand prix lj\", \"h2\": 32400.0, \"h3\": 5832000.0, \"poly_pred\": 13.132604413936612}, {\"mpg\": 15.5, \"cylinders\": 8, \"displacement\": 350.0, \"horsepower\": 170.0, \"weight\": 4165, \"acceleration\": 11.4, \"model_year\": 77, \"origin\": \"usa\", \"name\": \"chevrolet monte carlo landau\", \"h2\": 28900.0, \"h3\": 4913000.0, \"poly_pred\": 13.517315488356232}, {\"mpg\": 15.5, \"cylinders\": 8, \"displacement\": 400.0, \"horsepower\": 190.0, \"weight\": 4325, \"acceleration\": 12.2, \"model_year\": 77, \"origin\": \"usa\", \"name\": \"chrysler cordoba\", \"h2\": 36100.0, \"h3\": 6859000.0, \"poly_pred\": 12.931859993802988}, {\"mpg\": 16.0, \"cylinders\": 8, \"displacement\": 351.0, \"horsepower\": 149.0, \"weight\": 4335, \"acceleration\": 14.5, \"model_year\": 77, \"origin\": \"usa\", \"name\": \"ford thunderbird\", \"h2\": 22201.0, \"h3\": 3307949.0, \"poly_pred\": 14.981315796532776}, {\"mpg\": 29.0, \"cylinders\": 4, \"displacement\": 97.0, \"horsepower\": 78.0, \"weight\": 1940, \"acceleration\": 14.5, \"model_year\": 77, \"origin\": \"europe\", \"name\": \"volkswagen rabbit custom\", \"h2\": 6084.0, \"h3\": 474552.0, \"poly_pred\": 27.944493797739284}, {\"mpg\": 24.5, \"cylinders\": 4, \"displacement\": 151.0, \"horsepower\": 88.0, \"weight\": 2740, \"acceleration\": 16.0, \"model_year\": 77, \"origin\": \"usa\", \"name\": \"pontiac sunbird coupe\", \"h2\": 7744.0, \"h3\": 681472.0, \"poly_pred\": 25.26297137738215}, {\"mpg\": 26.0, \"cylinders\": 4, \"displacement\": 97.0, \"horsepower\": 75.0, \"weight\": 2265, \"acceleration\": 18.2, \"model_year\": 77, \"origin\": \"japan\", \"name\": \"toyota corolla liftback\", \"h2\": 5625.0, \"h3\": 421875.0, \"poly_pred\": 28.80985582618209}, {\"mpg\": 25.5, \"cylinders\": 4, \"displacement\": 140.0, \"horsepower\": 89.0, \"weight\": 2755, \"acceleration\": 15.8, \"model_year\": 77, \"origin\": \"usa\", \"name\": \"ford mustang ii 2+2\", \"h2\": 7921.0, \"h3\": 704969.0, \"poly_pred\": 25.01166697356362}, {\"mpg\": 30.5, \"cylinders\": 4, \"displacement\": 98.0, \"horsepower\": 63.0, \"weight\": 2051, \"acceleration\": 17.0, \"model_year\": 77, \"origin\": \"usa\", \"name\": \"chevrolet chevette\", \"h2\": 3969.0, \"h3\": 250047.0, \"poly_pred\": 32.56206515194886}, {\"mpg\": 33.5, \"cylinders\": 4, \"displacement\": 98.0, \"horsepower\": 83.0, \"weight\": 2075, \"acceleration\": 15.9, \"model_year\": 77, \"origin\": \"usa\", \"name\": \"dodge colt m/m\", \"h2\": 6889.0, \"h3\": 571787.0, \"poly_pred\": 26.565120052271368}, {\"mpg\": 30.0, \"cylinders\": 4, \"displacement\": 97.0, \"horsepower\": 67.0, \"weight\": 1985, \"acceleration\": 16.4, \"model_year\": 77, \"origin\": \"japan\", \"name\": \"subaru dl\", \"h2\": 4489.0, \"h3\": 300763.0, \"poly_pred\": 31.258882215573337}, {\"mpg\": 30.5, \"cylinders\": 4, \"displacement\": 97.0, \"horsepower\": 78.0, \"weight\": 2190, \"acceleration\": 14.1, \"model_year\": 77, \"origin\": \"europe\", \"name\": \"volkswagen dasher\", \"h2\": 6084.0, \"h3\": 474552.0, \"poly_pred\": 27.944493797739284}, {\"mpg\": 22.0, \"cylinders\": 6, \"displacement\": 146.0, \"horsepower\": 97.0, \"weight\": 2815, \"acceleration\": 14.5, \"model_year\": 77, \"origin\": \"japan\", \"name\": \"datsun 810\", \"h2\": 9409.0, \"h3\": 912673.0, \"poly_pred\": 23.108571918008607}, {\"mpg\": 21.5, \"cylinders\": 4, \"displacement\": 121.0, \"horsepower\": 110.0, \"weight\": 2600, \"acceleration\": 12.8, \"model_year\": 77, \"origin\": \"europe\", \"name\": \"bmw 320i\", \"h2\": 12100.0, \"h3\": 1331000.0, \"poly_pred\": 20.41014798102548}, {\"mpg\": 21.5, \"cylinders\": 3, \"displacement\": 80.0, \"horsepower\": 110.0, \"weight\": 2720, \"acceleration\": 13.5, \"model_year\": 77, \"origin\": \"japan\", \"name\": \"mazda rx-4\", \"h2\": 12100.0, \"h3\": 1331000.0, \"poly_pred\": 20.41014798102548}, {\"mpg\": 43.1, \"cylinders\": 4, \"displacement\": 90.0, \"horsepower\": 48.0, \"weight\": 1985, \"acceleration\": 21.5, \"model_year\": 78, \"origin\": \"europe\", \"name\": \"volkswagen rabbit custom diesel\", \"h2\": 2304.0, \"h3\": 110592.0, \"poly_pred\": 37.93262104096775}, {\"mpg\": 36.1, \"cylinders\": 4, \"displacement\": 98.0, \"horsepower\": 66.0, \"weight\": 1800, \"acceleration\": 14.4, \"model_year\": 78, \"origin\": \"usa\", \"name\": \"ford fiesta\", \"h2\": 4356.0, \"h3\": 287496.0, \"poly_pred\": 31.579703131912623}, {\"mpg\": 32.8, \"cylinders\": 4, \"displacement\": 78.0, \"horsepower\": 52.0, \"weight\": 1985, \"acceleration\": 19.4, \"model_year\": 78, \"origin\": \"japan\", \"name\": \"mazda glc deluxe\", \"h2\": 2704.0, \"h3\": 140608.0, \"poly_pred\": 36.42439190933901}, {\"mpg\": 39.4, \"cylinders\": 4, \"displacement\": 85.0, \"horsepower\": 70.0, \"weight\": 2070, \"acceleration\": 18.6, \"model_year\": 78, \"origin\": \"japan\", \"name\": \"datsun b210 gx\", \"h2\": 4900.0, \"h3\": 343000.0, \"poly_pred\": 30.316138420997323}, {\"mpg\": 36.1, \"cylinders\": 4, \"displacement\": 91.0, \"horsepower\": 60.0, \"weight\": 1800, \"acceleration\": 16.4, \"model_year\": 78, \"origin\": \"japan\", \"name\": \"honda civic cvcc\", \"h2\": 3600.0, \"h3\": 216000.0, \"poly_pred\": 33.57454655337747}, {\"mpg\": 19.9, \"cylinders\": 8, \"displacement\": 260.0, \"horsepower\": 110.0, \"weight\": 3365, \"acceleration\": 15.5, \"model_year\": 78, \"origin\": \"usa\", \"name\": \"oldsmobile cutlass salon brougham\", \"h2\": 12100.0, \"h3\": 1331000.0, \"poly_pred\": 20.41014798102548}, {\"mpg\": 19.4, \"cylinders\": 8, \"displacement\": 318.0, \"horsepower\": 140.0, \"weight\": 3735, \"acceleration\": 13.2, \"model_year\": 78, \"origin\": \"usa\", \"name\": \"dodge diplomat\", \"h2\": 19600.0, \"h3\": 2744000.0, \"poly_pred\": 15.90404619199991}, {\"mpg\": 20.2, \"cylinders\": 8, \"displacement\": 302.0, \"horsepower\": 139.0, \"weight\": 3570, \"acceleration\": 12.8, \"model_year\": 78, \"origin\": \"usa\", \"name\": \"mercury monarch ghia\", \"h2\": 19321.0, \"h3\": 2685619.0, \"poly_pred\": 16.018174345231046}, {\"mpg\": 19.2, \"cylinders\": 6, \"displacement\": 231.0, \"horsepower\": 105.0, \"weight\": 3535, \"acceleration\": 19.2, \"model_year\": 78, \"origin\": \"usa\", \"name\": \"pontiac phoenix lj\", \"h2\": 11025.0, \"h3\": 1157625.0, \"poly_pred\": 21.39163278223674}, {\"mpg\": 20.5, \"cylinders\": 6, \"displacement\": 200.0, \"horsepower\": 95.0, \"weight\": 3155, \"acceleration\": 18.2, \"model_year\": 78, \"origin\": \"usa\", \"name\": \"chevrolet malibu\", \"h2\": 9025.0, \"h3\": 857375.0, \"poly_pred\": 23.56663596930835}, {\"mpg\": 20.2, \"cylinders\": 6, \"displacement\": 200.0, \"horsepower\": 85.0, \"weight\": 2965, \"acceleration\": 15.8, \"model_year\": 78, \"origin\": \"usa\", \"name\": \"ford fairmont (auto)\", \"h2\": 7225.0, \"h3\": 614125.0, \"poly_pred\": 26.03508373213451}, {\"mpg\": 25.1, \"cylinders\": 4, \"displacement\": 140.0, \"horsepower\": 88.0, \"weight\": 2720, \"acceleration\": 15.4, \"model_year\": 78, \"origin\": \"usa\", \"name\": \"ford fairmont (man)\", \"h2\": 7744.0, \"h3\": 681472.0, \"poly_pred\": 25.26297137738215}, {\"mpg\": 20.5, \"cylinders\": 6, \"displacement\": 225.0, \"horsepower\": 100.0, \"weight\": 3430, \"acceleration\": 17.2, \"model_year\": 78, \"origin\": \"usa\", \"name\": \"plymouth volare\", \"h2\": 10000.0, \"h3\": 1000000.0, \"poly_pred\": 22.443258788519906}, {\"mpg\": 19.4, \"cylinders\": 6, \"displacement\": 232.0, \"horsepower\": 90.0, \"weight\": 3210, \"acceleration\": 17.2, \"model_year\": 78, \"origin\": \"usa\", \"name\": \"amc concord\", \"h2\": 8100.0, \"h3\": 729000.0, \"poly_pred\": 24.76337429403543}, {\"mpg\": 20.6, \"cylinders\": 6, \"displacement\": 231.0, \"horsepower\": 105.0, \"weight\": 3380, \"acceleration\": 15.8, \"model_year\": 78, \"origin\": \"usa\", \"name\": \"buick century special\", \"h2\": 11025.0, \"h3\": 1157625.0, \"poly_pred\": 21.39163278223674}, {\"mpg\": 20.8, \"cylinders\": 6, \"displacement\": 200.0, \"horsepower\": 85.0, \"weight\": 3070, \"acceleration\": 16.7, \"model_year\": 78, \"origin\": \"usa\", \"name\": \"mercury zephyr\", \"h2\": 7225.0, \"h3\": 614125.0, \"poly_pred\": 26.03508373213451}, {\"mpg\": 18.6, \"cylinders\": 6, \"displacement\": 225.0, \"horsepower\": 110.0, \"weight\": 3620, \"acceleration\": 18.7, \"model_year\": 78, \"origin\": \"usa\", \"name\": \"dodge aspen\", \"h2\": 12100.0, \"h3\": 1331000.0, \"poly_pred\": 20.41014798102548}, {\"mpg\": 18.1, \"cylinders\": 6, \"displacement\": 258.0, \"horsepower\": 120.0, \"weight\": 3410, \"acceleration\": 15.1, \"model_year\": 78, \"origin\": \"usa\", \"name\": \"amc concord d/l\", \"h2\": 14400.0, \"h3\": 1728000.0, \"poly_pred\": 18.651162116085267}, {\"mpg\": 19.2, \"cylinders\": 8, \"displacement\": 305.0, \"horsepower\": 145.0, \"weight\": 3425, \"acceleration\": 13.2, \"model_year\": 78, \"origin\": \"usa\", \"name\": \"chevrolet monte carlo landau\", \"h2\": 21025.0, \"h3\": 3048625.0, \"poly_pred\": 15.368470682157941}, {\"mpg\": 17.7, \"cylinders\": 6, \"displacement\": 231.0, \"horsepower\": 165.0, \"weight\": 3445, \"acceleration\": 13.4, \"model_year\": 78, \"origin\": \"usa\", \"name\": \"buick regal sport coupe (turbo)\", \"h2\": 27225.0, \"h3\": 4492125.0, \"poly_pred\": 13.782683444506688}, {\"mpg\": 18.1, \"cylinders\": 8, \"displacement\": 302.0, \"horsepower\": 139.0, \"weight\": 3205, \"acceleration\": 11.2, \"model_year\": 78, \"origin\": \"usa\", \"name\": \"ford futura\", \"h2\": 19321.0, \"h3\": 2685619.0, \"poly_pred\": 16.018174345231046}, {\"mpg\": 17.5, \"cylinders\": 8, \"displacement\": 318.0, \"horsepower\": 140.0, \"weight\": 4080, \"acceleration\": 13.7, \"model_year\": 78, \"origin\": \"usa\", \"name\": \"dodge magnum xe\", \"h2\": 19600.0, \"h3\": 2744000.0, \"poly_pred\": 15.90404619199991}, {\"mpg\": 30.0, \"cylinders\": 4, \"displacement\": 98.0, \"horsepower\": 68.0, \"weight\": 2155, \"acceleration\": 16.5, \"model_year\": 78, \"origin\": \"usa\", \"name\": \"chevrolet chevette\", \"h2\": 4624.0, \"h3\": 314432.0, \"poly_pred\": 30.941356378144672}, {\"mpg\": 27.5, \"cylinders\": 4, \"displacement\": 134.0, \"horsepower\": 95.0, \"weight\": 2560, \"acceleration\": 14.2, \"model_year\": 78, \"origin\": \"japan\", \"name\": \"toyota corona\", \"h2\": 9025.0, \"h3\": 857375.0, \"poly_pred\": 23.56663596930835}, {\"mpg\": 27.2, \"cylinders\": 4, \"displacement\": 119.0, \"horsepower\": 97.0, \"weight\": 2300, \"acceleration\": 14.7, \"model_year\": 78, \"origin\": \"japan\", \"name\": \"datsun 510\", \"h2\": 9409.0, \"h3\": 912673.0, \"poly_pred\": 23.108571918008607}, {\"mpg\": 30.9, \"cylinders\": 4, \"displacement\": 105.0, \"horsepower\": 75.0, \"weight\": 2230, \"acceleration\": 14.5, \"model_year\": 78, \"origin\": \"usa\", \"name\": \"dodge omni\", \"h2\": 5625.0, \"h3\": 421875.0, \"poly_pred\": 28.80985582618209}, {\"mpg\": 21.1, \"cylinders\": 4, \"displacement\": 134.0, \"horsepower\": 95.0, \"weight\": 2515, \"acceleration\": 14.8, \"model_year\": 78, \"origin\": \"japan\", \"name\": \"toyota celica gt liftback\", \"h2\": 9025.0, \"h3\": 857375.0, \"poly_pred\": 23.56663596930835}, {\"mpg\": 23.2, \"cylinders\": 4, \"displacement\": 156.0, \"horsepower\": 105.0, \"weight\": 2745, \"acceleration\": 16.7, \"model_year\": 78, \"origin\": \"usa\", \"name\": \"plymouth sapporo\", \"h2\": 11025.0, \"h3\": 1157625.0, \"poly_pred\": 21.39163278223674}, {\"mpg\": 23.8, \"cylinders\": 4, \"displacement\": 151.0, \"horsepower\": 85.0, \"weight\": 2855, \"acceleration\": 17.6, \"model_year\": 78, \"origin\": \"usa\", \"name\": \"oldsmobile starfire sx\", \"h2\": 7225.0, \"h3\": 614125.0, \"poly_pred\": 26.03508373213451}, {\"mpg\": 23.9, \"cylinders\": 4, \"displacement\": 119.0, \"horsepower\": 97.0, \"weight\": 2405, \"acceleration\": 14.9, \"model_year\": 78, \"origin\": \"japan\", \"name\": \"datsun 200-sx\", \"h2\": 9409.0, \"h3\": 912673.0, \"poly_pred\": 23.108571918008607}, {\"mpg\": 20.3, \"cylinders\": 5, \"displacement\": 131.0, \"horsepower\": 103.0, \"weight\": 2830, \"acceleration\": 15.9, \"model_year\": 78, \"origin\": \"europe\", \"name\": \"audi 5000\", \"h2\": 10609.0, \"h3\": 1092727.0, \"poly_pred\": 21.803776081853115}, {\"mpg\": 17.0, \"cylinders\": 6, \"displacement\": 163.0, \"horsepower\": 125.0, \"weight\": 3140, \"acceleration\": 13.6, \"model_year\": 78, \"origin\": \"europe\", \"name\": \"volvo 264gl\", \"h2\": 15625.0, \"h3\": 1953125.0, \"poly_pred\": 17.870441113489584}, {\"mpg\": 21.6, \"cylinders\": 4, \"displacement\": 121.0, \"horsepower\": 115.0, \"weight\": 2795, \"acceleration\": 15.7, \"model_year\": 78, \"origin\": \"europe\", \"name\": \"saab 99gle\", \"h2\": 13225.0, \"h3\": 1520875.0, \"poly_pred\": 19.497194415452782}, {\"mpg\": 16.2, \"cylinders\": 6, \"displacement\": 163.0, \"horsepower\": 133.0, \"weight\": 3410, \"acceleration\": 15.8, \"model_year\": 78, \"origin\": \"europe\", \"name\": \"peugeot 604sl\", \"h2\": 17689.0, \"h3\": 2352637.0, \"poly_pred\": 16.75311652291623}, {\"mpg\": 31.5, \"cylinders\": 4, \"displacement\": 89.0, \"horsepower\": 71.0, \"weight\": 1990, \"acceleration\": 14.9, \"model_year\": 78, \"origin\": \"europe\", \"name\": \"volkswagen scirocco\", \"h2\": 5041.0, \"h3\": 357911.0, \"poly_pred\": 30.008420541767705}, {\"mpg\": 29.5, \"cylinders\": 4, \"displacement\": 98.0, \"horsepower\": 68.0, \"weight\": 2135, \"acceleration\": 16.6, \"model_year\": 78, \"origin\": \"japan\", \"name\": \"honda accord lx\", \"h2\": 4624.0, \"h3\": 314432.0, \"poly_pred\": 30.941356378144672}, {\"mpg\": 21.5, \"cylinders\": 6, \"displacement\": 231.0, \"horsepower\": 115.0, \"weight\": 3245, \"acceleration\": 15.4, \"model_year\": 79, \"origin\": \"usa\", \"name\": \"pontiac lemans v6\", \"h2\": 13225.0, \"h3\": 1520875.0, \"poly_pred\": 19.497194415452782}, {\"mpg\": 19.8, \"cylinders\": 6, \"displacement\": 200.0, \"horsepower\": 85.0, \"weight\": 2990, \"acceleration\": 18.2, \"model_year\": 79, \"origin\": \"usa\", \"name\": \"mercury zephyr 6\", \"h2\": 7225.0, \"h3\": 614125.0, \"poly_pred\": 26.03508373213451}, {\"mpg\": 22.3, \"cylinders\": 4, \"displacement\": 140.0, \"horsepower\": 88.0, \"weight\": 2890, \"acceleration\": 17.3, \"model_year\": 79, \"origin\": \"usa\", \"name\": \"ford fairmont 4\", \"h2\": 7744.0, \"h3\": 681472.0, \"poly_pred\": 25.26297137738215}, {\"mpg\": 20.2, \"cylinders\": 6, \"displacement\": 232.0, \"horsepower\": 90.0, \"weight\": 3265, \"acceleration\": 18.2, \"model_year\": 79, \"origin\": \"usa\", \"name\": \"amc concord dl 6\", \"h2\": 8100.0, \"h3\": 729000.0, \"poly_pred\": 24.76337429403543}, {\"mpg\": 20.6, \"cylinders\": 6, \"displacement\": 225.0, \"horsepower\": 110.0, \"weight\": 3360, \"acceleration\": 16.6, \"model_year\": 79, \"origin\": \"usa\", \"name\": \"dodge aspen 6\", \"h2\": 12100.0, \"h3\": 1331000.0, \"poly_pred\": 20.41014798102548}, {\"mpg\": 17.0, \"cylinders\": 8, \"displacement\": 305.0, \"horsepower\": 130.0, \"weight\": 3840, \"acceleration\": 15.4, \"model_year\": 79, \"origin\": \"usa\", \"name\": \"chevrolet caprice classic\", \"h2\": 16900.0, \"h3\": 2197000.0, \"poly_pred\": 17.15342143823237}, {\"mpg\": 17.6, \"cylinders\": 8, \"displacement\": 302.0, \"horsepower\": 129.0, \"weight\": 3725, \"acceleration\": 13.4, \"model_year\": 79, \"origin\": \"usa\", \"name\": \"ford ltd landau\", \"h2\": 16641.0, \"h3\": 2146689.0, \"poly_pred\": 17.29180654562954}, {\"mpg\": 16.5, \"cylinders\": 8, \"displacement\": 351.0, \"horsepower\": 138.0, \"weight\": 3955, \"acceleration\": 13.2, \"model_year\": 79, \"origin\": \"usa\", \"name\": \"mercury grand marquis\", \"h2\": 19044.0, \"h3\": 2628072.0, \"poly_pred\": 16.134670234979183}, {\"mpg\": 18.2, \"cylinders\": 8, \"displacement\": 318.0, \"horsepower\": 135.0, \"weight\": 3830, \"acceleration\": 15.2, \"model_year\": 79, \"origin\": \"usa\", \"name\": \"dodge st. regis\", \"h2\": 18225.0, \"h3\": 2460375.0, \"poly_pred\": 16.49849312088027}, {\"mpg\": 16.9, \"cylinders\": 8, \"displacement\": 350.0, \"horsepower\": 155.0, \"weight\": 4360, \"acceleration\": 14.9, \"model_year\": 79, \"origin\": \"usa\", \"name\": \"buick estate wagon (sw)\", \"h2\": 24025.0, \"h3\": 3723875.0, \"poly_pred\": 14.467494041855709}, {\"mpg\": 15.5, \"cylinders\": 8, \"displacement\": 351.0, \"horsepower\": 142.0, \"weight\": 4054, \"acceleration\": 14.3, \"model_year\": 79, \"origin\": \"usa\", \"name\": \"ford country squire (sw)\", \"h2\": 20164.0, \"h3\": 2863288.0, \"poly_pred\": 15.682841576066778}, {\"mpg\": 19.2, \"cylinders\": 8, \"displacement\": 267.0, \"horsepower\": 125.0, \"weight\": 3605, \"acceleration\": 15.0, \"model_year\": 79, \"origin\": \"usa\", \"name\": \"chevrolet malibu classic (sw)\", \"h2\": 15625.0, \"h3\": 1953125.0, \"poly_pred\": 17.870441113489584}, {\"mpg\": 18.5, \"cylinders\": 8, \"displacement\": 360.0, \"horsepower\": 150.0, \"weight\": 3940, \"acceleration\": 13.0, \"model_year\": 79, \"origin\": \"usa\", \"name\": \"chrysler lebaron town @ country (sw)\", \"h2\": 22500.0, \"h3\": 3375000.0, \"poly_pred\": 14.890156621920994}, {\"mpg\": 31.9, \"cylinders\": 4, \"displacement\": 89.0, \"horsepower\": 71.0, \"weight\": 1925, \"acceleration\": 14.0, \"model_year\": 79, \"origin\": \"europe\", \"name\": \"vw rabbit custom\", \"h2\": 5041.0, \"h3\": 357911.0, \"poly_pred\": 30.008420541767705}, {\"mpg\": 34.1, \"cylinders\": 4, \"displacement\": 86.0, \"horsepower\": 65.0, \"weight\": 1975, \"acceleration\": 15.2, \"model_year\": 79, \"origin\": \"japan\", \"name\": \"maxda glc deluxe\", \"h2\": 4225.0, \"h3\": 274625.0, \"poly_pred\": 31.903832006917995}, {\"mpg\": 35.7, \"cylinders\": 4, \"displacement\": 98.0, \"horsepower\": 80.0, \"weight\": 1915, \"acceleration\": 14.4, \"model_year\": 79, \"origin\": \"usa\", \"name\": \"dodge colt hatchback custom\", \"h2\": 6400.0, \"h3\": 512000.0, \"poly_pred\": 27.383374253038937}, {\"mpg\": 27.4, \"cylinders\": 4, \"displacement\": 121.0, \"horsepower\": 80.0, \"weight\": 2670, \"acceleration\": 15.0, \"model_year\": 79, \"origin\": \"usa\", \"name\": \"amc spirit dl\", \"h2\": 6400.0, \"h3\": 512000.0, \"poly_pred\": 27.383374253038937}, {\"mpg\": 25.4, \"cylinders\": 5, \"displacement\": 183.0, \"horsepower\": 77.0, \"weight\": 3530, \"acceleration\": 20.1, \"model_year\": 79, \"origin\": \"europe\", \"name\": \"mercedes benz 300d\", \"h2\": 5929.0, \"h3\": 456533.0, \"poly_pred\": 28.22977723261245}, {\"mpg\": 23.0, \"cylinders\": 8, \"displacement\": 350.0, \"horsepower\": 125.0, \"weight\": 3900, \"acceleration\": 17.4, \"model_year\": 79, \"origin\": \"usa\", \"name\": \"cadillac eldorado\", \"h2\": 15625.0, \"h3\": 1953125.0, \"poly_pred\": 17.870441113489584}, {\"mpg\": 27.2, \"cylinders\": 4, \"displacement\": 141.0, \"horsepower\": 71.0, \"weight\": 3190, \"acceleration\": 24.8, \"model_year\": 79, \"origin\": \"europe\", \"name\": \"peugeot 504\", \"h2\": 5041.0, \"h3\": 357911.0, \"poly_pred\": 30.008420541767705}, {\"mpg\": 23.9, \"cylinders\": 8, \"displacement\": 260.0, \"horsepower\": 90.0, \"weight\": 3420, \"acceleration\": 22.2, \"model_year\": 79, \"origin\": \"usa\", \"name\": \"oldsmobile cutlass salon brougham\", \"h2\": 8100.0, \"h3\": 729000.0, \"poly_pred\": 24.76337429403543}, {\"mpg\": 34.2, \"cylinders\": 4, \"displacement\": 105.0, \"horsepower\": 70.0, \"weight\": 2200, \"acceleration\": 13.2, \"model_year\": 79, \"origin\": \"usa\", \"name\": \"plymouth horizon\", \"h2\": 4900.0, \"h3\": 343000.0, \"poly_pred\": 30.316138420997323}, {\"mpg\": 34.5, \"cylinders\": 4, \"displacement\": 105.0, \"horsepower\": 70.0, \"weight\": 2150, \"acceleration\": 14.9, \"model_year\": 79, \"origin\": \"usa\", \"name\": \"plymouth horizon tc3\", \"h2\": 4900.0, \"h3\": 343000.0, \"poly_pred\": 30.316138420997323}, {\"mpg\": 31.8, \"cylinders\": 4, \"displacement\": 85.0, \"horsepower\": 65.0, \"weight\": 2020, \"acceleration\": 19.2, \"model_year\": 79, \"origin\": \"japan\", \"name\": \"datsun 210\", \"h2\": 4225.0, \"h3\": 274625.0, \"poly_pred\": 31.903832006917995}, {\"mpg\": 37.3, \"cylinders\": 4, \"displacement\": 91.0, \"horsepower\": 69.0, \"weight\": 2130, \"acceleration\": 14.7, \"model_year\": 79, \"origin\": \"europe\", \"name\": \"fiat strada custom\", \"h2\": 4761.0, \"h3\": 328509.0, \"poly_pred\": 30.627112739871155}, {\"mpg\": 28.4, \"cylinders\": 4, \"displacement\": 151.0, \"horsepower\": 90.0, \"weight\": 2670, \"acceleration\": 16.0, \"model_year\": 79, \"origin\": \"usa\", \"name\": \"buick skylark limited\", \"h2\": 8100.0, \"h3\": 729000.0, \"poly_pred\": 24.76337429403543}, {\"mpg\": 28.8, \"cylinders\": 6, \"displacement\": 173.0, \"horsepower\": 115.0, \"weight\": 2595, \"acceleration\": 11.3, \"model_year\": 79, \"origin\": \"usa\", \"name\": \"chevrolet citation\", \"h2\": 13225.0, \"h3\": 1520875.0, \"poly_pred\": 19.497194415452782}, {\"mpg\": 26.8, \"cylinders\": 6, \"displacement\": 173.0, \"horsepower\": 115.0, \"weight\": 2700, \"acceleration\": 12.9, \"model_year\": 79, \"origin\": \"usa\", \"name\": \"oldsmobile omega brougham\", \"h2\": 13225.0, \"h3\": 1520875.0, \"poly_pred\": 19.497194415452782}, {\"mpg\": 33.5, \"cylinders\": 4, \"displacement\": 151.0, \"horsepower\": 90.0, \"weight\": 2556, \"acceleration\": 13.2, \"model_year\": 79, \"origin\": \"usa\", \"name\": \"pontiac phoenix\", \"h2\": 8100.0, \"h3\": 729000.0, \"poly_pred\": 24.76337429403543}, {\"mpg\": 41.5, \"cylinders\": 4, \"displacement\": 98.0, \"horsepower\": 76.0, \"weight\": 2144, \"acceleration\": 14.7, \"model_year\": 80, \"origin\": \"europe\", \"name\": \"vw rabbit\", \"h2\": 5776.0, \"h3\": 438976.0, \"poly_pred\": 28.518226948841566}, {\"mpg\": 38.1, \"cylinders\": 4, \"displacement\": 89.0, \"horsepower\": 60.0, \"weight\": 1968, \"acceleration\": 18.8, \"model_year\": 80, \"origin\": \"japan\", \"name\": \"toyota corolla tercel\", \"h2\": 3600.0, \"h3\": 216000.0, \"poly_pred\": 33.57454655337747}, {\"mpg\": 32.1, \"cylinders\": 4, \"displacement\": 98.0, \"horsepower\": 70.0, \"weight\": 2120, \"acceleration\": 15.5, \"model_year\": 80, \"origin\": \"usa\", \"name\": \"chevrolet chevette\", \"h2\": 4900.0, \"h3\": 343000.0, \"poly_pred\": 30.316138420997323}, {\"mpg\": 37.2, \"cylinders\": 4, \"displacement\": 86.0, \"horsepower\": 65.0, \"weight\": 2019, \"acceleration\": 16.4, \"model_year\": 80, \"origin\": \"japan\", \"name\": \"datsun 310\", \"h2\": 4225.0, \"h3\": 274625.0, \"poly_pred\": 31.903832006917995}, {\"mpg\": 28.0, \"cylinders\": 4, \"displacement\": 151.0, \"horsepower\": 90.0, \"weight\": 2678, \"acceleration\": 16.5, \"model_year\": 80, \"origin\": \"usa\", \"name\": \"chevrolet citation\", \"h2\": 8100.0, \"h3\": 729000.0, \"poly_pred\": 24.76337429403543}, {\"mpg\": 26.4, \"cylinders\": 4, \"displacement\": 140.0, \"horsepower\": 88.0, \"weight\": 2870, \"acceleration\": 18.1, \"model_year\": 80, \"origin\": \"usa\", \"name\": \"ford fairmont\", \"h2\": 7744.0, \"h3\": 681472.0, \"poly_pred\": 25.26297137738215}, {\"mpg\": 24.3, \"cylinders\": 4, \"displacement\": 151.0, \"horsepower\": 90.0, \"weight\": 3003, \"acceleration\": 20.1, \"model_year\": 80, \"origin\": \"usa\", \"name\": \"amc concord\", \"h2\": 8100.0, \"h3\": 729000.0, \"poly_pred\": 24.76337429403543}, {\"mpg\": 19.1, \"cylinders\": 6, \"displacement\": 225.0, \"horsepower\": 90.0, \"weight\": 3381, \"acceleration\": 18.7, \"model_year\": 80, \"origin\": \"usa\", \"name\": \"dodge aspen\", \"h2\": 8100.0, \"h3\": 729000.0, \"poly_pred\": 24.76337429403543}, {\"mpg\": 34.3, \"cylinders\": 4, \"displacement\": 97.0, \"horsepower\": 78.0, \"weight\": 2188, \"acceleration\": 15.8, \"model_year\": 80, \"origin\": \"europe\", \"name\": \"audi 4000\", \"h2\": 6084.0, \"h3\": 474552.0, \"poly_pred\": 27.944493797739284}, {\"mpg\": 29.8, \"cylinders\": 4, \"displacement\": 134.0, \"horsepower\": 90.0, \"weight\": 2711, \"acceleration\": 15.5, \"model_year\": 80, \"origin\": \"japan\", \"name\": \"toyota corona liftback\", \"h2\": 8100.0, \"h3\": 729000.0, \"poly_pred\": 24.76337429403543}, {\"mpg\": 31.3, \"cylinders\": 4, \"displacement\": 120.0, \"horsepower\": 75.0, \"weight\": 2542, \"acceleration\": 17.5, \"model_year\": 80, \"origin\": \"japan\", \"name\": \"mazda 626\", \"h2\": 5625.0, \"h3\": 421875.0, \"poly_pred\": 28.80985582618209}, {\"mpg\": 37.0, \"cylinders\": 4, \"displacement\": 119.0, \"horsepower\": 92.0, \"weight\": 2434, \"acceleration\": 15.0, \"model_year\": 80, \"origin\": \"japan\", \"name\": \"datsun 510 hatchback\", \"h2\": 8464.0, \"h3\": 778688.0, \"poly_pred\": 24.275772588828225}, {\"mpg\": 32.2, \"cylinders\": 4, \"displacement\": 108.0, \"horsepower\": 75.0, \"weight\": 2265, \"acceleration\": 15.2, \"model_year\": 80, \"origin\": \"japan\", \"name\": \"toyota corolla\", \"h2\": 5625.0, \"h3\": 421875.0, \"poly_pred\": 28.80985582618209}, {\"mpg\": 46.6, \"cylinders\": 4, \"displacement\": 86.0, \"horsepower\": 65.0, \"weight\": 2110, \"acceleration\": 17.9, \"model_year\": 80, \"origin\": \"japan\", \"name\": \"mazda glc\", \"h2\": 4225.0, \"h3\": 274625.0, \"poly_pred\": 31.903832006917995}, {\"mpg\": 27.9, \"cylinders\": 4, \"displacement\": 156.0, \"horsepower\": 105.0, \"weight\": 2800, \"acceleration\": 14.4, \"model_year\": 80, \"origin\": \"usa\", \"name\": \"dodge colt\", \"h2\": 11025.0, \"h3\": 1157625.0, \"poly_pred\": 21.39163278223674}, {\"mpg\": 40.8, \"cylinders\": 4, \"displacement\": 85.0, \"horsepower\": 65.0, \"weight\": 2110, \"acceleration\": 19.2, \"model_year\": 80, \"origin\": \"japan\", \"name\": \"datsun 210\", \"h2\": 4225.0, \"h3\": 274625.0, \"poly_pred\": 31.903832006917995}, {\"mpg\": 44.3, \"cylinders\": 4, \"displacement\": 90.0, \"horsepower\": 48.0, \"weight\": 2085, \"acceleration\": 21.7, \"model_year\": 80, \"origin\": \"europe\", \"name\": \"vw rabbit c (diesel)\", \"h2\": 2304.0, \"h3\": 110592.0, \"poly_pred\": 37.93262104096775}, {\"mpg\": 43.4, \"cylinders\": 4, \"displacement\": 90.0, \"horsepower\": 48.0, \"weight\": 2335, \"acceleration\": 23.7, \"model_year\": 80, \"origin\": \"europe\", \"name\": \"vw dasher (diesel)\", \"h2\": 2304.0, \"h3\": 110592.0, \"poly_pred\": 37.93262104096775}, {\"mpg\": 36.4, \"cylinders\": 5, \"displacement\": 121.0, \"horsepower\": 67.0, \"weight\": 2950, \"acceleration\": 19.9, \"model_year\": 80, \"origin\": \"europe\", \"name\": \"audi 5000s (diesel)\", \"h2\": 4489.0, \"h3\": 300763.0, \"poly_pred\": 31.258882215573337}, {\"mpg\": 30.0, \"cylinders\": 4, \"displacement\": 146.0, \"horsepower\": 67.0, \"weight\": 3250, \"acceleration\": 21.8, \"model_year\": 80, \"origin\": \"europe\", \"name\": \"mercedes-benz 240d\", \"h2\": 4489.0, \"h3\": 300763.0, \"poly_pred\": 31.258882215573337}, {\"mpg\": 44.6, \"cylinders\": 4, \"displacement\": 91.0, \"horsepower\": 67.0, \"weight\": 1850, \"acceleration\": 13.8, \"model_year\": 80, \"origin\": \"japan\", \"name\": \"honda civic 1500 gl\", \"h2\": 4489.0, \"h3\": 300763.0, \"poly_pred\": 31.258882215573337}, {\"mpg\": 33.8, \"cylinders\": 4, \"displacement\": 97.0, \"horsepower\": 67.0, \"weight\": 2145, \"acceleration\": 18.0, \"model_year\": 80, \"origin\": \"japan\", \"name\": \"subaru dl\", \"h2\": 4489.0, \"h3\": 300763.0, \"poly_pred\": 31.258882215573337}, {\"mpg\": 29.8, \"cylinders\": 4, \"displacement\": 89.0, \"horsepower\": 62.0, \"weight\": 1845, \"acceleration\": 15.3, \"model_year\": 80, \"origin\": \"europe\", \"name\": \"vokswagen rabbit\", \"h2\": 3844.0, \"h3\": 238328.0, \"poly_pred\": 32.89619518148528}, {\"mpg\": 32.7, \"cylinders\": 6, \"displacement\": 168.0, \"horsepower\": 132.0, \"weight\": 2910, \"acceleration\": 11.4, \"model_year\": 80, \"origin\": \"japan\", \"name\": \"datsun 280-zx\", \"h2\": 17424.0, \"h3\": 2299968.0, \"poly_pred\": 16.88408930663119}, {\"mpg\": 23.7, \"cylinders\": 3, \"displacement\": 70.0, \"horsepower\": 100.0, \"weight\": 2420, \"acceleration\": 12.5, \"model_year\": 80, \"origin\": \"japan\", \"name\": \"mazda rx-7 gs\", \"h2\": 10000.0, \"h3\": 1000000.0, \"poly_pred\": 22.443258788519906}, {\"mpg\": 35.0, \"cylinders\": 4, \"displacement\": 122.0, \"horsepower\": 88.0, \"weight\": 2500, \"acceleration\": 15.1, \"model_year\": 80, \"origin\": \"europe\", \"name\": \"triumph tr7 coupe\", \"h2\": 7744.0, \"h3\": 681472.0, \"poly_pred\": 25.26297137738215}, {\"mpg\": 32.4, \"cylinders\": 4, \"displacement\": 107.0, \"horsepower\": 72.0, \"weight\": 2290, \"acceleration\": 17.0, \"model_year\": 80, \"origin\": \"japan\", \"name\": \"honda accord\", \"h2\": 5184.0, \"h3\": 373248.0, \"poly_pred\": 29.703946222426847}, {\"mpg\": 27.2, \"cylinders\": 4, \"displacement\": 135.0, \"horsepower\": 84.0, \"weight\": 2490, \"acceleration\": 15.7, \"model_year\": 81, \"origin\": \"usa\", \"name\": \"plymouth reliant\", \"h2\": 7056.0, \"h3\": 592704.0, \"poly_pred\": 26.298563830669096}, {\"mpg\": 26.6, \"cylinders\": 4, \"displacement\": 151.0, \"horsepower\": 84.0, \"weight\": 2635, \"acceleration\": 16.4, \"model_year\": 81, \"origin\": \"usa\", \"name\": \"buick skylark\", \"h2\": 7056.0, \"h3\": 592704.0, \"poly_pred\": 26.298563830669096}, {\"mpg\": 25.8, \"cylinders\": 4, \"displacement\": 156.0, \"horsepower\": 92.0, \"weight\": 2620, \"acceleration\": 14.4, \"model_year\": 81, \"origin\": \"usa\", \"name\": \"dodge aries wagon (sw)\", \"h2\": 8464.0, \"h3\": 778688.0, \"poly_pred\": 24.275772588828225}, {\"mpg\": 23.5, \"cylinders\": 6, \"displacement\": 173.0, \"horsepower\": 110.0, \"weight\": 2725, \"acceleration\": 12.6, \"model_year\": 81, \"origin\": \"usa\", \"name\": \"chevrolet citation\", \"h2\": 12100.0, \"h3\": 1331000.0, \"poly_pred\": 20.41014798102548}, {\"mpg\": 30.0, \"cylinders\": 4, \"displacement\": 135.0, \"horsepower\": 84.0, \"weight\": 2385, \"acceleration\": 12.9, \"model_year\": 81, \"origin\": \"usa\", \"name\": \"plymouth reliant\", \"h2\": 7056.0, \"h3\": 592704.0, \"poly_pred\": 26.298563830669096}, {\"mpg\": 39.1, \"cylinders\": 4, \"displacement\": 79.0, \"horsepower\": 58.0, \"weight\": 1755, \"acceleration\": 16.9, \"model_year\": 81, \"origin\": \"japan\", \"name\": \"toyota starlet\", \"h2\": 3364.0, \"h3\": 195112.0, \"poly_pred\": 34.2664388740652}, {\"mpg\": 39.0, \"cylinders\": 4, \"displacement\": 86.0, \"horsepower\": 64.0, \"weight\": 1875, \"acceleration\": 16.4, \"model_year\": 81, \"origin\": \"usa\", \"name\": \"plymouth champ\", \"h2\": 4096.0, \"h3\": 262144.0, \"poly_pred\": 32.231281720344924}, {\"mpg\": 35.1, \"cylinders\": 4, \"displacement\": 81.0, \"horsepower\": 60.0, \"weight\": 1760, \"acceleration\": 16.1, \"model_year\": 81, \"origin\": \"japan\", \"name\": \"honda civic 1300\", \"h2\": 3600.0, \"h3\": 216000.0, \"poly_pred\": 33.57454655337747}, {\"mpg\": 32.3, \"cylinders\": 4, \"displacement\": 97.0, \"horsepower\": 67.0, \"weight\": 2065, \"acceleration\": 17.8, \"model_year\": 81, \"origin\": \"japan\", \"name\": \"subaru\", \"h2\": 4489.0, \"h3\": 300763.0, \"poly_pred\": 31.258882215573337}, {\"mpg\": 37.0, \"cylinders\": 4, \"displacement\": 85.0, \"horsepower\": 65.0, \"weight\": 1975, \"acceleration\": 19.4, \"model_year\": 81, \"origin\": \"japan\", \"name\": \"datsun 210 mpg\", \"h2\": 4225.0, \"h3\": 274625.0, \"poly_pred\": 31.903832006917995}, {\"mpg\": 37.7, \"cylinders\": 4, \"displacement\": 89.0, \"horsepower\": 62.0, \"weight\": 2050, \"acceleration\": 17.3, \"model_year\": 81, \"origin\": \"japan\", \"name\": \"toyota tercel\", \"h2\": 3844.0, \"h3\": 238328.0, \"poly_pred\": 32.89619518148528}, {\"mpg\": 34.1, \"cylinders\": 4, \"displacement\": 91.0, \"horsepower\": 68.0, \"weight\": 1985, \"acceleration\": 16.0, \"model_year\": 81, \"origin\": \"japan\", \"name\": \"mazda glc 4\", \"h2\": 4624.0, \"h3\": 314432.0, \"poly_pred\": 30.941356378144672}, {\"mpg\": 34.7, \"cylinders\": 4, \"displacement\": 105.0, \"horsepower\": 63.0, \"weight\": 2215, \"acceleration\": 14.9, \"model_year\": 81, \"origin\": \"usa\", \"name\": \"plymouth horizon 4\", \"h2\": 3969.0, \"h3\": 250047.0, \"poly_pred\": 32.56206515194886}, {\"mpg\": 34.4, \"cylinders\": 4, \"displacement\": 98.0, \"horsepower\": 65.0, \"weight\": 2045, \"acceleration\": 16.2, \"model_year\": 81, \"origin\": \"usa\", \"name\": \"ford escort 4w\", \"h2\": 4225.0, \"h3\": 274625.0, \"poly_pred\": 31.903832006917995}, {\"mpg\": 29.9, \"cylinders\": 4, \"displacement\": 98.0, \"horsepower\": 65.0, \"weight\": 2380, \"acceleration\": 20.7, \"model_year\": 81, \"origin\": \"usa\", \"name\": \"ford escort 2h\", \"h2\": 4225.0, \"h3\": 274625.0, \"poly_pred\": 31.903832006917995}, {\"mpg\": 33.0, \"cylinders\": 4, \"displacement\": 105.0, \"horsepower\": 74.0, \"weight\": 2190, \"acceleration\": 14.2, \"model_year\": 81, \"origin\": \"europe\", \"name\": \"volkswagen jetta\", \"h2\": 5476.0, \"h3\": 405224.0, \"poly_pred\": 29.104676744389504}, {\"mpg\": 33.7, \"cylinders\": 4, \"displacement\": 107.0, \"horsepower\": 75.0, \"weight\": 2210, \"acceleration\": 14.4, \"model_year\": 81, \"origin\": \"japan\", \"name\": \"honda prelude\", \"h2\": 5625.0, \"h3\": 421875.0, \"poly_pred\": 28.80985582618209}, {\"mpg\": 32.4, \"cylinders\": 4, \"displacement\": 108.0, \"horsepower\": 75.0, \"weight\": 2350, \"acceleration\": 16.8, \"model_year\": 81, \"origin\": \"japan\", \"name\": \"toyota corolla\", \"h2\": 5625.0, \"h3\": 421875.0, \"poly_pred\": 28.80985582618209}, {\"mpg\": 32.9, \"cylinders\": 4, \"displacement\": 119.0, \"horsepower\": 100.0, \"weight\": 2615, \"acceleration\": 14.8, \"model_year\": 81, \"origin\": \"japan\", \"name\": \"datsun 200sx\", \"h2\": 10000.0, \"h3\": 1000000.0, \"poly_pred\": 22.443258788519906}, {\"mpg\": 31.6, \"cylinders\": 4, \"displacement\": 120.0, \"horsepower\": 74.0, \"weight\": 2635, \"acceleration\": 18.3, \"model_year\": 81, \"origin\": \"japan\", \"name\": \"mazda 626\", \"h2\": 5476.0, \"h3\": 405224.0, \"poly_pred\": 29.104676744389504}, {\"mpg\": 28.1, \"cylinders\": 4, \"displacement\": 141.0, \"horsepower\": 80.0, \"weight\": 3230, \"acceleration\": 20.4, \"model_year\": 81, \"origin\": \"europe\", \"name\": \"peugeot 505s turbo diesel\", \"h2\": 6400.0, \"h3\": 512000.0, \"poly_pred\": 27.383374253038937}, {\"mpg\": 30.7, \"cylinders\": 6, \"displacement\": 145.0, \"horsepower\": 76.0, \"weight\": 3160, \"acceleration\": 19.6, \"model_year\": 81, \"origin\": \"europe\", \"name\": \"volvo diesel\", \"h2\": 5776.0, \"h3\": 438976.0, \"poly_pred\": 28.518226948841566}, {\"mpg\": 25.4, \"cylinders\": 6, \"displacement\": 168.0, \"horsepower\": 116.0, \"weight\": 2900, \"acceleration\": 12.6, \"model_year\": 81, \"origin\": \"japan\", \"name\": \"toyota cressida\", \"h2\": 13456.0, \"h3\": 1560896.0, \"poly_pred\": 19.322685773304734}, {\"mpg\": 24.2, \"cylinders\": 6, \"displacement\": 146.0, \"horsepower\": 120.0, \"weight\": 2930, \"acceleration\": 13.8, \"model_year\": 81, \"origin\": \"japan\", \"name\": \"datsun 810 maxima\", \"h2\": 14400.0, \"h3\": 1728000.0, \"poly_pred\": 18.651162116085267}, {\"mpg\": 22.4, \"cylinders\": 6, \"displacement\": 231.0, \"horsepower\": 110.0, \"weight\": 3415, \"acceleration\": 15.8, \"model_year\": 81, \"origin\": \"usa\", \"name\": \"buick century\", \"h2\": 12100.0, \"h3\": 1331000.0, \"poly_pred\": 20.41014798102548}, {\"mpg\": 26.6, \"cylinders\": 8, \"displacement\": 350.0, \"horsepower\": 105.0, \"weight\": 3725, \"acceleration\": 19.0, \"model_year\": 81, \"origin\": \"usa\", \"name\": \"oldsmobile cutlass ls\", \"h2\": 11025.0, \"h3\": 1157625.0, \"poly_pred\": 21.39163278223674}, {\"mpg\": 20.2, \"cylinders\": 6, \"displacement\": 200.0, \"horsepower\": 88.0, \"weight\": 3060, \"acceleration\": 17.1, \"model_year\": 81, \"origin\": \"usa\", \"name\": \"ford granada gl\", \"h2\": 7744.0, \"h3\": 681472.0, \"poly_pred\": 25.26297137738215}, {\"mpg\": 17.6, \"cylinders\": 6, \"displacement\": 225.0, \"horsepower\": 85.0, \"weight\": 3465, \"acceleration\": 16.6, \"model_year\": 81, \"origin\": \"usa\", \"name\": \"chrysler lebaron salon\", \"h2\": 7225.0, \"h3\": 614125.0, \"poly_pred\": 26.03508373213451}, {\"mpg\": 28.0, \"cylinders\": 4, \"displacement\": 112.0, \"horsepower\": 88.0, \"weight\": 2605, \"acceleration\": 19.6, \"model_year\": 82, \"origin\": \"usa\", \"name\": \"chevrolet cavalier\", \"h2\": 7744.0, \"h3\": 681472.0, \"poly_pred\": 25.26297137738215}, {\"mpg\": 27.0, \"cylinders\": 4, \"displacement\": 112.0, \"horsepower\": 88.0, \"weight\": 2640, \"acceleration\": 18.6, \"model_year\": 82, \"origin\": \"usa\", \"name\": \"chevrolet cavalier wagon\", \"h2\": 7744.0, \"h3\": 681472.0, \"poly_pred\": 25.26297137738215}, {\"mpg\": 34.0, \"cylinders\": 4, \"displacement\": 112.0, \"horsepower\": 88.0, \"weight\": 2395, \"acceleration\": 18.0, \"model_year\": 82, \"origin\": \"usa\", \"name\": \"chevrolet cavalier 2-door\", \"h2\": 7744.0, \"h3\": 681472.0, \"poly_pred\": 25.26297137738215}, {\"mpg\": 31.0, \"cylinders\": 4, \"displacement\": 112.0, \"horsepower\": 85.0, \"weight\": 2575, \"acceleration\": 16.2, \"model_year\": 82, \"origin\": \"usa\", \"name\": \"pontiac j2000 se hatchback\", \"h2\": 7225.0, \"h3\": 614125.0, \"poly_pred\": 26.03508373213451}, {\"mpg\": 29.0, \"cylinders\": 4, \"displacement\": 135.0, \"horsepower\": 84.0, \"weight\": 2525, \"acceleration\": 16.0, \"model_year\": 82, \"origin\": \"usa\", \"name\": \"dodge aries se\", \"h2\": 7056.0, \"h3\": 592704.0, \"poly_pred\": 26.298563830669096}, {\"mpg\": 27.0, \"cylinders\": 4, \"displacement\": 151.0, \"horsepower\": 90.0, \"weight\": 2735, \"acceleration\": 18.0, \"model_year\": 82, \"origin\": \"usa\", \"name\": \"pontiac phoenix\", \"h2\": 8100.0, \"h3\": 729000.0, \"poly_pred\": 24.76337429403543}, {\"mpg\": 24.0, \"cylinders\": 4, \"displacement\": 140.0, \"horsepower\": 92.0, \"weight\": 2865, \"acceleration\": 16.4, \"model_year\": 82, \"origin\": \"usa\", \"name\": \"ford fairmont futura\", \"h2\": 8464.0, \"h3\": 778688.0, \"poly_pred\": 24.275772588828225}, {\"mpg\": 36.0, \"cylinders\": 4, \"displacement\": 105.0, \"horsepower\": 74.0, \"weight\": 1980, \"acceleration\": 15.3, \"model_year\": 82, \"origin\": \"europe\", \"name\": \"volkswagen rabbit l\", \"h2\": 5476.0, \"h3\": 405224.0, \"poly_pred\": 29.104676744389504}, {\"mpg\": 37.0, \"cylinders\": 4, \"displacement\": 91.0, \"horsepower\": 68.0, \"weight\": 2025, \"acceleration\": 18.2, \"model_year\": 82, \"origin\": \"japan\", \"name\": \"mazda glc custom l\", \"h2\": 4624.0, \"h3\": 314432.0, \"poly_pred\": 30.941356378144672}, {\"mpg\": 31.0, \"cylinders\": 4, \"displacement\": 91.0, \"horsepower\": 68.0, \"weight\": 1970, \"acceleration\": 17.6, \"model_year\": 82, \"origin\": \"japan\", \"name\": \"mazda glc custom\", \"h2\": 4624.0, \"h3\": 314432.0, \"poly_pred\": 30.941356378144672}, {\"mpg\": 38.0, \"cylinders\": 4, \"displacement\": 105.0, \"horsepower\": 63.0, \"weight\": 2125, \"acceleration\": 14.7, \"model_year\": 82, \"origin\": \"usa\", \"name\": \"plymouth horizon miser\", \"h2\": 3969.0, \"h3\": 250047.0, \"poly_pred\": 32.56206515194886}, {\"mpg\": 36.0, \"cylinders\": 4, \"displacement\": 98.0, \"horsepower\": 70.0, \"weight\": 2125, \"acceleration\": 17.3, \"model_year\": 82, \"origin\": \"usa\", \"name\": \"mercury lynx l\", \"h2\": 4900.0, \"h3\": 343000.0, \"poly_pred\": 30.316138420997323}, {\"mpg\": 36.0, \"cylinders\": 4, \"displacement\": 120.0, \"horsepower\": 88.0, \"weight\": 2160, \"acceleration\": 14.5, \"model_year\": 82, \"origin\": \"japan\", \"name\": \"nissan stanza xe\", \"h2\": 7744.0, \"h3\": 681472.0, \"poly_pred\": 25.26297137738215}, {\"mpg\": 36.0, \"cylinders\": 4, \"displacement\": 107.0, \"horsepower\": 75.0, \"weight\": 2205, \"acceleration\": 14.5, \"model_year\": 82, \"origin\": \"japan\", \"name\": \"honda accord\", \"h2\": 5625.0, \"h3\": 421875.0, \"poly_pred\": 28.80985582618209}, {\"mpg\": 34.0, \"cylinders\": 4, \"displacement\": 108.0, \"horsepower\": 70.0, \"weight\": 2245, \"acceleration\": 16.9, \"model_year\": 82, \"origin\": \"japan\", \"name\": \"toyota corolla\", \"h2\": 4900.0, \"h3\": 343000.0, \"poly_pred\": 30.316138420997323}, {\"mpg\": 38.0, \"cylinders\": 4, \"displacement\": 91.0, \"horsepower\": 67.0, \"weight\": 1965, \"acceleration\": 15.0, \"model_year\": 82, \"origin\": \"japan\", \"name\": \"honda civic\", \"h2\": 4489.0, \"h3\": 300763.0, \"poly_pred\": 31.258882215573337}, {\"mpg\": 32.0, \"cylinders\": 4, \"displacement\": 91.0, \"horsepower\": 67.0, \"weight\": 1965, \"acceleration\": 15.7, \"model_year\": 82, \"origin\": \"japan\", \"name\": \"honda civic (auto)\", \"h2\": 4489.0, \"h3\": 300763.0, \"poly_pred\": 31.258882215573337}, {\"mpg\": 38.0, \"cylinders\": 4, \"displacement\": 91.0, \"horsepower\": 67.0, \"weight\": 1995, \"acceleration\": 16.2, \"model_year\": 82, \"origin\": \"japan\", \"name\": \"datsun 310 gx\", \"h2\": 4489.0, \"h3\": 300763.0, \"poly_pred\": 31.258882215573337}, {\"mpg\": 25.0, \"cylinders\": 6, \"displacement\": 181.0, \"horsepower\": 110.0, \"weight\": 2945, \"acceleration\": 16.4, \"model_year\": 82, \"origin\": \"usa\", \"name\": \"buick century limited\", \"h2\": 12100.0, \"h3\": 1331000.0, \"poly_pred\": 20.41014798102548}, {\"mpg\": 38.0, \"cylinders\": 6, \"displacement\": 262.0, \"horsepower\": 85.0, \"weight\": 3015, \"acceleration\": 17.0, \"model_year\": 82, \"origin\": \"usa\", \"name\": \"oldsmobile cutlass ciera (diesel)\", \"h2\": 7225.0, \"h3\": 614125.0, \"poly_pred\": 26.03508373213451}, {\"mpg\": 26.0, \"cylinders\": 4, \"displacement\": 156.0, \"horsepower\": 92.0, \"weight\": 2585, \"acceleration\": 14.5, \"model_year\": 82, \"origin\": \"usa\", \"name\": \"chrysler lebaron medallion\", \"h2\": 8464.0, \"h3\": 778688.0, \"poly_pred\": 24.275772588828225}, {\"mpg\": 22.0, \"cylinders\": 6, \"displacement\": 232.0, \"horsepower\": 112.0, \"weight\": 2835, \"acceleration\": 14.7, \"model_year\": 82, \"origin\": \"usa\", \"name\": \"ford granada l\", \"h2\": 12544.0, \"h3\": 1404928.0, \"poly_pred\": 20.036832964808042}, {\"mpg\": 32.0, \"cylinders\": 4, \"displacement\": 144.0, \"horsepower\": 96.0, \"weight\": 2665, \"acceleration\": 13.9, \"model_year\": 82, \"origin\": \"japan\", \"name\": \"toyota celica gt\", \"h2\": 9216.0, \"h3\": 884736.0, \"poly_pred\": 23.336143160657436}, {\"mpg\": 36.0, \"cylinders\": 4, \"displacement\": 135.0, \"horsepower\": 84.0, \"weight\": 2370, \"acceleration\": 13.0, \"model_year\": 82, \"origin\": \"usa\", \"name\": \"dodge charger 2.2\", \"h2\": 7056.0, \"h3\": 592704.0, \"poly_pred\": 26.298563830669096}, {\"mpg\": 27.0, \"cylinders\": 4, \"displacement\": 151.0, \"horsepower\": 90.0, \"weight\": 2950, \"acceleration\": 17.3, \"model_year\": 82, \"origin\": \"usa\", \"name\": \"chevrolet camaro\", \"h2\": 8100.0, \"h3\": 729000.0, \"poly_pred\": 24.76337429403543}, {\"mpg\": 27.0, \"cylinders\": 4, \"displacement\": 140.0, \"horsepower\": 86.0, \"weight\": 2790, \"acceleration\": 15.6, \"model_year\": 82, \"origin\": \"usa\", \"name\": \"ford mustang gl\", \"h2\": 7396.0, \"h3\": 636056.0, \"poly_pred\": 25.77466687691213}, {\"mpg\": 44.0, \"cylinders\": 4, \"displacement\": 97.0, \"horsepower\": 52.0, \"weight\": 2130, \"acceleration\": 24.6, \"model_year\": 82, \"origin\": \"europe\", \"name\": \"vw pickup\", \"h2\": 2704.0, \"h3\": 140608.0, \"poly_pred\": 36.42439190933901}, {\"mpg\": 32.0, \"cylinders\": 4, \"displacement\": 135.0, \"horsepower\": 84.0, \"weight\": 2295, \"acceleration\": 11.6, \"model_year\": 82, \"origin\": \"usa\", \"name\": \"dodge rampage\", \"h2\": 7056.0, \"h3\": 592704.0, \"poly_pred\": 26.298563830669096}, {\"mpg\": 28.0, \"cylinders\": 4, \"displacement\": 120.0, \"horsepower\": 79.0, \"weight\": 2625, \"acceleration\": 18.6, \"model_year\": 82, \"origin\": \"usa\", \"name\": \"ford ranger\", \"h2\": 6241.0, \"h3\": 493039.0, \"poly_pred\": 27.662363764466605}, {\"mpg\": 31.0, \"cylinders\": 4, \"displacement\": 119.0, \"horsepower\": 82.0, \"weight\": 2720, \"acceleration\": 19.4, \"model_year\": 82, \"origin\": \"usa\", \"name\": \"chevy s-10\", \"h2\": 6724.0, \"h3\": 551368.0, \"poly_pred\": 26.834765276696793}]}}, {\"mode\": \"vega-lite\"});\n",
       "</script>"
      ],
      "text/plain": [
       "alt.LayerChart(...)"
      ]
     },
     "execution_count": 41,
     "metadata": {},
     "output_type": "execute_result"
    }
   ],
   "source": [
    "c = alt.Chart(df).mark_circle().encode(\n",
    "    x=\"horsepower\",\n",
    "    y=\"mpg\",\n",
    "    color=\"origin\"\n",
    ")\n",
    "\n",
    "c1 = alt.Chart(df).mark_line(color=\"black\", size=3).encode(\n",
    "    x=\"horsepower\",\n",
    "    y=\"poly_pred\"\n",
    ")\n",
    "\n",
    "c+c1"
   ]
  },
  {
   "cell_type": "markdown",
   "metadata": {},
   "source": [
    "Not related to polynomial regression directly, but I wanted to keep the following \"starter\" code present in the notebook.  It shows an example of specifying a direct numerical value for `y`.  The following could be considered the best \"degree zero\" polynomial for this data."
   ]
  },
  {
   "cell_type": "code",
   "execution_count": 3,
   "metadata": {
    "cell_id": "39db72b4ab9b4dc285298406125c3090",
    "deepnote_cell_type": "code",
    "deepnote_to_be_reexecuted": false,
    "execution_millis": 66,
    "execution_start": 1667999302865,
    "source_hash": "cdc639a5",
    "tags": []
   },
   "outputs": [
    {
     "data": {
      "text/html": [
       "\n",
       "<div id=\"altair-viz-bc8cb27e061a44c48b7c6dece3a7a282\"></div>\n",
       "<script type=\"text/javascript\">\n",
       "  var VEGA_DEBUG = (typeof VEGA_DEBUG == \"undefined\") ? {} : VEGA_DEBUG;\n",
       "  (function(spec, embedOpt){\n",
       "    let outputDiv = document.currentScript.previousElementSibling;\n",
       "    if (outputDiv.id !== \"altair-viz-bc8cb27e061a44c48b7c6dece3a7a282\") {\n",
       "      outputDiv = document.getElementById(\"altair-viz-bc8cb27e061a44c48b7c6dece3a7a282\");\n",
       "    }\n",
       "    const paths = {\n",
       "      \"vega\": \"https://cdn.jsdelivr.net/npm//vega@5?noext\",\n",
       "      \"vega-lib\": \"https://cdn.jsdelivr.net/npm//vega-lib?noext\",\n",
       "      \"vega-lite\": \"https://cdn.jsdelivr.net/npm//vega-lite@4.17.0?noext\",\n",
       "      \"vega-embed\": \"https://cdn.jsdelivr.net/npm//vega-embed@6?noext\",\n",
       "    };\n",
       "\n",
       "    function maybeLoadScript(lib, version) {\n",
       "      var key = `${lib.replace(\"-\", \"\")}_version`;\n",
       "      return (VEGA_DEBUG[key] == version) ?\n",
       "        Promise.resolve(paths[lib]) :\n",
       "        new Promise(function(resolve, reject) {\n",
       "          var s = document.createElement('script');\n",
       "          document.getElementsByTagName(\"head\")[0].appendChild(s);\n",
       "          s.async = true;\n",
       "          s.onload = () => {\n",
       "            VEGA_DEBUG[key] = version;\n",
       "            return resolve(paths[lib]);\n",
       "          };\n",
       "          s.onerror = () => reject(`Error loading script: ${paths[lib]}`);\n",
       "          s.src = paths[lib];\n",
       "        });\n",
       "    }\n",
       "\n",
       "    function showError(err) {\n",
       "      outputDiv.innerHTML = `<div class=\"error\" style=\"color:red;\">${err}</div>`;\n",
       "      throw err;\n",
       "    }\n",
       "\n",
       "    function displayChart(vegaEmbed) {\n",
       "      vegaEmbed(outputDiv, spec, embedOpt)\n",
       "        .catch(err => showError(`Javascript Error: ${err.message}<br>This usually means there's a typo in your chart specification. See the javascript console for the full traceback.`));\n",
       "    }\n",
       "\n",
       "    if(typeof define === \"function\" && define.amd) {\n",
       "      requirejs.config({paths});\n",
       "      require([\"vega-embed\"], displayChart, err => showError(`Error loading script: ${err.message}`));\n",
       "    } else {\n",
       "      maybeLoadScript(\"vega\", \"5\")\n",
       "        .then(() => maybeLoadScript(\"vega-lite\", \"4.17.0\"))\n",
       "        .then(() => maybeLoadScript(\"vega-embed\", \"6\"))\n",
       "        .catch(showError)\n",
       "        .then(() => displayChart(vegaEmbed));\n",
       "    }\n",
       "  })({\"config\": {\"view\": {\"continuousWidth\": 400, \"continuousHeight\": 300}}, \"layer\": [{\"mark\": \"circle\", \"encoding\": {\"color\": {\"field\": \"origin\", \"type\": \"nominal\"}, \"x\": {\"field\": \"horsepower\", \"type\": \"quantitative\"}, \"y\": {\"field\": \"mpg\", \"type\": \"quantitative\"}}}, {\"mark\": {\"type\": \"line\", \"color\": \"black\", \"size\": 3}, \"encoding\": {\"x\": {\"field\": \"horsepower\", \"type\": \"quantitative\"}, \"y\": {\"datum\": 23.445918367346938}}}], \"data\": {\"name\": \"data-c5db13bd6cda0232846bf6dbf479262d\"}, \"$schema\": \"https://vega.github.io/schema/vega-lite/v4.17.0.json\", \"datasets\": {\"data-c5db13bd6cda0232846bf6dbf479262d\": [{\"mpg\": 18.0, \"cylinders\": 8, \"displacement\": 307.0, \"horsepower\": 130.0, \"weight\": 3504, \"acceleration\": 12.0, \"model_year\": 70, \"origin\": \"usa\", \"name\": \"chevrolet chevelle malibu\"}, {\"mpg\": 15.0, \"cylinders\": 8, \"displacement\": 350.0, \"horsepower\": 165.0, \"weight\": 3693, \"acceleration\": 11.5, \"model_year\": 70, \"origin\": \"usa\", \"name\": \"buick skylark 320\"}, {\"mpg\": 18.0, \"cylinders\": 8, \"displacement\": 318.0, \"horsepower\": 150.0, \"weight\": 3436, \"acceleration\": 11.0, \"model_year\": 70, \"origin\": \"usa\", \"name\": \"plymouth satellite\"}, {\"mpg\": 16.0, \"cylinders\": 8, \"displacement\": 304.0, \"horsepower\": 150.0, \"weight\": 3433, \"acceleration\": 12.0, \"model_year\": 70, \"origin\": \"usa\", \"name\": \"amc rebel sst\"}, {\"mpg\": 17.0, \"cylinders\": 8, \"displacement\": 302.0, \"horsepower\": 140.0, \"weight\": 3449, \"acceleration\": 10.5, \"model_year\": 70, \"origin\": \"usa\", \"name\": \"ford torino\"}, {\"mpg\": 15.0, \"cylinders\": 8, \"displacement\": 429.0, \"horsepower\": 198.0, \"weight\": 4341, \"acceleration\": 10.0, \"model_year\": 70, \"origin\": \"usa\", \"name\": \"ford galaxie 500\"}, {\"mpg\": 14.0, \"cylinders\": 8, \"displacement\": 454.0, \"horsepower\": 220.0, \"weight\": 4354, \"acceleration\": 9.0, \"model_year\": 70, \"origin\": \"usa\", \"name\": \"chevrolet impala\"}, {\"mpg\": 14.0, \"cylinders\": 8, \"displacement\": 440.0, \"horsepower\": 215.0, \"weight\": 4312, \"acceleration\": 8.5, \"model_year\": 70, \"origin\": \"usa\", \"name\": \"plymouth fury iii\"}, {\"mpg\": 14.0, \"cylinders\": 8, \"displacement\": 455.0, \"horsepower\": 225.0, \"weight\": 4425, \"acceleration\": 10.0, \"model_year\": 70, \"origin\": \"usa\", \"name\": \"pontiac catalina\"}, {\"mpg\": 15.0, \"cylinders\": 8, \"displacement\": 390.0, \"horsepower\": 190.0, \"weight\": 3850, \"acceleration\": 8.5, \"model_year\": 70, \"origin\": \"usa\", \"name\": \"amc ambassador dpl\"}, {\"mpg\": 15.0, \"cylinders\": 8, \"displacement\": 383.0, \"horsepower\": 170.0, \"weight\": 3563, \"acceleration\": 10.0, \"model_year\": 70, \"origin\": \"usa\", \"name\": \"dodge challenger se\"}, {\"mpg\": 14.0, \"cylinders\": 8, \"displacement\": 340.0, \"horsepower\": 160.0, \"weight\": 3609, \"acceleration\": 8.0, \"model_year\": 70, \"origin\": \"usa\", \"name\": \"plymouth 'cuda 340\"}, {\"mpg\": 15.0, \"cylinders\": 8, \"displacement\": 400.0, \"horsepower\": 150.0, \"weight\": 3761, \"acceleration\": 9.5, \"model_year\": 70, \"origin\": \"usa\", \"name\": \"chevrolet monte carlo\"}, {\"mpg\": 14.0, \"cylinders\": 8, \"displacement\": 455.0, \"horsepower\": 225.0, \"weight\": 3086, \"acceleration\": 10.0, \"model_year\": 70, \"origin\": \"usa\", \"name\": \"buick estate wagon (sw)\"}, {\"mpg\": 24.0, \"cylinders\": 4, \"displacement\": 113.0, \"horsepower\": 95.0, \"weight\": 2372, \"acceleration\": 15.0, \"model_year\": 70, \"origin\": \"japan\", \"name\": \"toyota corona mark ii\"}, {\"mpg\": 22.0, \"cylinders\": 6, \"displacement\": 198.0, \"horsepower\": 95.0, \"weight\": 2833, \"acceleration\": 15.5, \"model_year\": 70, \"origin\": \"usa\", \"name\": \"plymouth duster\"}, {\"mpg\": 18.0, \"cylinders\": 6, \"displacement\": 199.0, \"horsepower\": 97.0, \"weight\": 2774, \"acceleration\": 15.5, \"model_year\": 70, \"origin\": \"usa\", \"name\": \"amc hornet\"}, {\"mpg\": 21.0, \"cylinders\": 6, \"displacement\": 200.0, \"horsepower\": 85.0, \"weight\": 2587, \"acceleration\": 16.0, \"model_year\": 70, \"origin\": \"usa\", \"name\": \"ford maverick\"}, {\"mpg\": 27.0, \"cylinders\": 4, \"displacement\": 97.0, \"horsepower\": 88.0, \"weight\": 2130, \"acceleration\": 14.5, \"model_year\": 70, \"origin\": \"japan\", \"name\": \"datsun pl510\"}, {\"mpg\": 26.0, \"cylinders\": 4, \"displacement\": 97.0, \"horsepower\": 46.0, \"weight\": 1835, \"acceleration\": 20.5, \"model_year\": 70, \"origin\": \"europe\", \"name\": \"volkswagen 1131 deluxe sedan\"}, {\"mpg\": 25.0, \"cylinders\": 4, \"displacement\": 110.0, \"horsepower\": 87.0, \"weight\": 2672, \"acceleration\": 17.5, \"model_year\": 70, \"origin\": \"europe\", \"name\": \"peugeot 504\"}, {\"mpg\": 24.0, \"cylinders\": 4, \"displacement\": 107.0, \"horsepower\": 90.0, \"weight\": 2430, \"acceleration\": 14.5, \"model_year\": 70, \"origin\": \"europe\", \"name\": \"audi 100 ls\"}, {\"mpg\": 25.0, \"cylinders\": 4, \"displacement\": 104.0, \"horsepower\": 95.0, \"weight\": 2375, \"acceleration\": 17.5, \"model_year\": 70, \"origin\": \"europe\", \"name\": \"saab 99e\"}, {\"mpg\": 26.0, \"cylinders\": 4, \"displacement\": 121.0, \"horsepower\": 113.0, \"weight\": 2234, \"acceleration\": 12.5, \"model_year\": 70, \"origin\": \"europe\", \"name\": \"bmw 2002\"}, {\"mpg\": 21.0, \"cylinders\": 6, \"displacement\": 199.0, \"horsepower\": 90.0, \"weight\": 2648, \"acceleration\": 15.0, \"model_year\": 70, \"origin\": \"usa\", \"name\": \"amc gremlin\"}, {\"mpg\": 10.0, \"cylinders\": 8, \"displacement\": 360.0, \"horsepower\": 215.0, \"weight\": 4615, \"acceleration\": 14.0, \"model_year\": 70, \"origin\": \"usa\", \"name\": \"ford f250\"}, {\"mpg\": 10.0, \"cylinders\": 8, \"displacement\": 307.0, \"horsepower\": 200.0, \"weight\": 4376, \"acceleration\": 15.0, \"model_year\": 70, \"origin\": \"usa\", \"name\": \"chevy c20\"}, {\"mpg\": 11.0, \"cylinders\": 8, \"displacement\": 318.0, \"horsepower\": 210.0, \"weight\": 4382, \"acceleration\": 13.5, \"model_year\": 70, \"origin\": \"usa\", \"name\": \"dodge d200\"}, {\"mpg\": 9.0, \"cylinders\": 8, \"displacement\": 304.0, \"horsepower\": 193.0, \"weight\": 4732, \"acceleration\": 18.5, \"model_year\": 70, \"origin\": \"usa\", \"name\": \"hi 1200d\"}, {\"mpg\": 27.0, \"cylinders\": 4, \"displacement\": 97.0, \"horsepower\": 88.0, \"weight\": 2130, \"acceleration\": 14.5, \"model_year\": 71, \"origin\": \"japan\", \"name\": \"datsun pl510\"}, {\"mpg\": 28.0, \"cylinders\": 4, \"displacement\": 140.0, \"horsepower\": 90.0, \"weight\": 2264, \"acceleration\": 15.5, \"model_year\": 71, \"origin\": \"usa\", \"name\": \"chevrolet vega 2300\"}, {\"mpg\": 25.0, \"cylinders\": 4, \"displacement\": 113.0, \"horsepower\": 95.0, \"weight\": 2228, \"acceleration\": 14.0, \"model_year\": 71, \"origin\": \"japan\", \"name\": \"toyota corona\"}, {\"mpg\": 19.0, \"cylinders\": 6, \"displacement\": 232.0, \"horsepower\": 100.0, \"weight\": 2634, \"acceleration\": 13.0, \"model_year\": 71, \"origin\": \"usa\", \"name\": \"amc gremlin\"}, {\"mpg\": 16.0, \"cylinders\": 6, \"displacement\": 225.0, \"horsepower\": 105.0, \"weight\": 3439, \"acceleration\": 15.5, \"model_year\": 71, \"origin\": \"usa\", \"name\": \"plymouth satellite custom\"}, {\"mpg\": 17.0, \"cylinders\": 6, \"displacement\": 250.0, \"horsepower\": 100.0, \"weight\": 3329, \"acceleration\": 15.5, \"model_year\": 71, \"origin\": \"usa\", \"name\": \"chevrolet chevelle malibu\"}, {\"mpg\": 19.0, \"cylinders\": 6, \"displacement\": 250.0, \"horsepower\": 88.0, \"weight\": 3302, \"acceleration\": 15.5, \"model_year\": 71, \"origin\": \"usa\", \"name\": \"ford torino 500\"}, {\"mpg\": 18.0, \"cylinders\": 6, \"displacement\": 232.0, \"horsepower\": 100.0, \"weight\": 3288, \"acceleration\": 15.5, \"model_year\": 71, \"origin\": \"usa\", \"name\": \"amc matador\"}, {\"mpg\": 14.0, \"cylinders\": 8, \"displacement\": 350.0, \"horsepower\": 165.0, \"weight\": 4209, \"acceleration\": 12.0, \"model_year\": 71, \"origin\": \"usa\", \"name\": \"chevrolet impala\"}, {\"mpg\": 14.0, \"cylinders\": 8, \"displacement\": 400.0, \"horsepower\": 175.0, \"weight\": 4464, \"acceleration\": 11.5, \"model_year\": 71, \"origin\": \"usa\", \"name\": \"pontiac catalina brougham\"}, {\"mpg\": 14.0, \"cylinders\": 8, \"displacement\": 351.0, \"horsepower\": 153.0, \"weight\": 4154, \"acceleration\": 13.5, \"model_year\": 71, \"origin\": \"usa\", \"name\": \"ford galaxie 500\"}, {\"mpg\": 14.0, \"cylinders\": 8, \"displacement\": 318.0, \"horsepower\": 150.0, \"weight\": 4096, \"acceleration\": 13.0, \"model_year\": 71, \"origin\": \"usa\", \"name\": \"plymouth fury iii\"}, {\"mpg\": 12.0, \"cylinders\": 8, \"displacement\": 383.0, \"horsepower\": 180.0, \"weight\": 4955, \"acceleration\": 11.5, \"model_year\": 71, \"origin\": \"usa\", \"name\": \"dodge monaco (sw)\"}, {\"mpg\": 13.0, \"cylinders\": 8, \"displacement\": 400.0, \"horsepower\": 170.0, \"weight\": 4746, \"acceleration\": 12.0, \"model_year\": 71, \"origin\": \"usa\", \"name\": \"ford country squire (sw)\"}, {\"mpg\": 13.0, \"cylinders\": 8, \"displacement\": 400.0, \"horsepower\": 175.0, \"weight\": 5140, \"acceleration\": 12.0, \"model_year\": 71, \"origin\": \"usa\", \"name\": \"pontiac safari (sw)\"}, {\"mpg\": 18.0, \"cylinders\": 6, \"displacement\": 258.0, \"horsepower\": 110.0, \"weight\": 2962, \"acceleration\": 13.5, \"model_year\": 71, \"origin\": \"usa\", \"name\": \"amc hornet sportabout (sw)\"}, {\"mpg\": 22.0, \"cylinders\": 4, \"displacement\": 140.0, \"horsepower\": 72.0, \"weight\": 2408, \"acceleration\": 19.0, \"model_year\": 71, \"origin\": \"usa\", \"name\": \"chevrolet vega (sw)\"}, {\"mpg\": 19.0, \"cylinders\": 6, \"displacement\": 250.0, \"horsepower\": 100.0, \"weight\": 3282, \"acceleration\": 15.0, \"model_year\": 71, \"origin\": \"usa\", \"name\": \"pontiac firebird\"}, {\"mpg\": 18.0, \"cylinders\": 6, \"displacement\": 250.0, \"horsepower\": 88.0, \"weight\": 3139, \"acceleration\": 14.5, \"model_year\": 71, \"origin\": \"usa\", \"name\": \"ford mustang\"}, {\"mpg\": 23.0, \"cylinders\": 4, \"displacement\": 122.0, \"horsepower\": 86.0, \"weight\": 2220, \"acceleration\": 14.0, \"model_year\": 71, \"origin\": \"usa\", \"name\": \"mercury capri 2000\"}, {\"mpg\": 28.0, \"cylinders\": 4, \"displacement\": 116.0, \"horsepower\": 90.0, \"weight\": 2123, \"acceleration\": 14.0, \"model_year\": 71, \"origin\": \"europe\", \"name\": \"opel 1900\"}, {\"mpg\": 30.0, \"cylinders\": 4, \"displacement\": 79.0, \"horsepower\": 70.0, \"weight\": 2074, \"acceleration\": 19.5, \"model_year\": 71, \"origin\": \"europe\", \"name\": \"peugeot 304\"}, {\"mpg\": 30.0, \"cylinders\": 4, \"displacement\": 88.0, \"horsepower\": 76.0, \"weight\": 2065, \"acceleration\": 14.5, \"model_year\": 71, \"origin\": \"europe\", \"name\": \"fiat 124b\"}, {\"mpg\": 31.0, \"cylinders\": 4, \"displacement\": 71.0, \"horsepower\": 65.0, \"weight\": 1773, \"acceleration\": 19.0, \"model_year\": 71, \"origin\": \"japan\", \"name\": \"toyota corolla 1200\"}, {\"mpg\": 35.0, \"cylinders\": 4, \"displacement\": 72.0, \"horsepower\": 69.0, \"weight\": 1613, \"acceleration\": 18.0, \"model_year\": 71, \"origin\": \"japan\", \"name\": \"datsun 1200\"}, {\"mpg\": 27.0, \"cylinders\": 4, \"displacement\": 97.0, \"horsepower\": 60.0, \"weight\": 1834, \"acceleration\": 19.0, \"model_year\": 71, \"origin\": \"europe\", \"name\": \"volkswagen model 111\"}, {\"mpg\": 26.0, \"cylinders\": 4, \"displacement\": 91.0, \"horsepower\": 70.0, \"weight\": 1955, \"acceleration\": 20.5, \"model_year\": 71, \"origin\": \"usa\", \"name\": \"plymouth cricket\"}, {\"mpg\": 24.0, \"cylinders\": 4, \"displacement\": 113.0, \"horsepower\": 95.0, \"weight\": 2278, \"acceleration\": 15.5, \"model_year\": 72, \"origin\": \"japan\", \"name\": \"toyota corona hardtop\"}, {\"mpg\": 25.0, \"cylinders\": 4, \"displacement\": 97.5, \"horsepower\": 80.0, \"weight\": 2126, \"acceleration\": 17.0, \"model_year\": 72, \"origin\": \"usa\", \"name\": \"dodge colt hardtop\"}, {\"mpg\": 23.0, \"cylinders\": 4, \"displacement\": 97.0, \"horsepower\": 54.0, \"weight\": 2254, \"acceleration\": 23.5, \"model_year\": 72, \"origin\": \"europe\", \"name\": \"volkswagen type 3\"}, {\"mpg\": 20.0, \"cylinders\": 4, \"displacement\": 140.0, \"horsepower\": 90.0, \"weight\": 2408, \"acceleration\": 19.5, \"model_year\": 72, \"origin\": \"usa\", \"name\": \"chevrolet vega\"}, {\"mpg\": 21.0, \"cylinders\": 4, \"displacement\": 122.0, \"horsepower\": 86.0, \"weight\": 2226, \"acceleration\": 16.5, \"model_year\": 72, \"origin\": \"usa\", \"name\": \"ford pinto runabout\"}, {\"mpg\": 13.0, \"cylinders\": 8, \"displacement\": 350.0, \"horsepower\": 165.0, \"weight\": 4274, \"acceleration\": 12.0, \"model_year\": 72, \"origin\": \"usa\", \"name\": \"chevrolet impala\"}, {\"mpg\": 14.0, \"cylinders\": 8, \"displacement\": 400.0, \"horsepower\": 175.0, \"weight\": 4385, \"acceleration\": 12.0, \"model_year\": 72, \"origin\": \"usa\", \"name\": \"pontiac catalina\"}, {\"mpg\": 15.0, \"cylinders\": 8, \"displacement\": 318.0, \"horsepower\": 150.0, \"weight\": 4135, \"acceleration\": 13.5, \"model_year\": 72, \"origin\": \"usa\", \"name\": \"plymouth fury iii\"}, {\"mpg\": 14.0, \"cylinders\": 8, \"displacement\": 351.0, \"horsepower\": 153.0, \"weight\": 4129, \"acceleration\": 13.0, \"model_year\": 72, \"origin\": \"usa\", \"name\": \"ford galaxie 500\"}, {\"mpg\": 17.0, \"cylinders\": 8, \"displacement\": 304.0, \"horsepower\": 150.0, \"weight\": 3672, \"acceleration\": 11.5, \"model_year\": 72, \"origin\": \"usa\", \"name\": \"amc ambassador sst\"}, {\"mpg\": 11.0, \"cylinders\": 8, \"displacement\": 429.0, \"horsepower\": 208.0, \"weight\": 4633, \"acceleration\": 11.0, \"model_year\": 72, \"origin\": \"usa\", \"name\": \"mercury marquis\"}, {\"mpg\": 13.0, \"cylinders\": 8, \"displacement\": 350.0, \"horsepower\": 155.0, \"weight\": 4502, \"acceleration\": 13.5, \"model_year\": 72, \"origin\": \"usa\", \"name\": \"buick lesabre custom\"}, {\"mpg\": 12.0, \"cylinders\": 8, \"displacement\": 350.0, \"horsepower\": 160.0, \"weight\": 4456, \"acceleration\": 13.5, \"model_year\": 72, \"origin\": \"usa\", \"name\": \"oldsmobile delta 88 royale\"}, {\"mpg\": 13.0, \"cylinders\": 8, \"displacement\": 400.0, \"horsepower\": 190.0, \"weight\": 4422, \"acceleration\": 12.5, \"model_year\": 72, \"origin\": \"usa\", \"name\": \"chrysler newport royal\"}, {\"mpg\": 19.0, \"cylinders\": 3, \"displacement\": 70.0, \"horsepower\": 97.0, \"weight\": 2330, \"acceleration\": 13.5, \"model_year\": 72, \"origin\": \"japan\", \"name\": \"mazda rx2 coupe\"}, {\"mpg\": 15.0, \"cylinders\": 8, \"displacement\": 304.0, \"horsepower\": 150.0, \"weight\": 3892, \"acceleration\": 12.5, \"model_year\": 72, \"origin\": \"usa\", \"name\": \"amc matador (sw)\"}, {\"mpg\": 13.0, \"cylinders\": 8, \"displacement\": 307.0, \"horsepower\": 130.0, \"weight\": 4098, \"acceleration\": 14.0, \"model_year\": 72, \"origin\": \"usa\", \"name\": \"chevrolet chevelle concours (sw)\"}, {\"mpg\": 13.0, \"cylinders\": 8, \"displacement\": 302.0, \"horsepower\": 140.0, \"weight\": 4294, \"acceleration\": 16.0, \"model_year\": 72, \"origin\": \"usa\", \"name\": \"ford gran torino (sw)\"}, {\"mpg\": 14.0, \"cylinders\": 8, \"displacement\": 318.0, \"horsepower\": 150.0, \"weight\": 4077, \"acceleration\": 14.0, \"model_year\": 72, \"origin\": \"usa\", \"name\": \"plymouth satellite custom (sw)\"}, {\"mpg\": 18.0, \"cylinders\": 4, \"displacement\": 121.0, \"horsepower\": 112.0, \"weight\": 2933, \"acceleration\": 14.5, \"model_year\": 72, \"origin\": \"europe\", \"name\": \"volvo 145e (sw)\"}, {\"mpg\": 22.0, \"cylinders\": 4, \"displacement\": 121.0, \"horsepower\": 76.0, \"weight\": 2511, \"acceleration\": 18.0, \"model_year\": 72, \"origin\": \"europe\", \"name\": \"volkswagen 411 (sw)\"}, {\"mpg\": 21.0, \"cylinders\": 4, \"displacement\": 120.0, \"horsepower\": 87.0, \"weight\": 2979, \"acceleration\": 19.5, \"model_year\": 72, \"origin\": \"europe\", \"name\": \"peugeot 504 (sw)\"}, {\"mpg\": 26.0, \"cylinders\": 4, \"displacement\": 96.0, \"horsepower\": 69.0, \"weight\": 2189, \"acceleration\": 18.0, \"model_year\": 72, \"origin\": \"europe\", \"name\": \"renault 12 (sw)\"}, {\"mpg\": 22.0, \"cylinders\": 4, \"displacement\": 122.0, \"horsepower\": 86.0, \"weight\": 2395, \"acceleration\": 16.0, \"model_year\": 72, \"origin\": \"usa\", \"name\": \"ford pinto (sw)\"}, {\"mpg\": 28.0, \"cylinders\": 4, \"displacement\": 97.0, \"horsepower\": 92.0, \"weight\": 2288, \"acceleration\": 17.0, \"model_year\": 72, \"origin\": \"japan\", \"name\": \"datsun 510 (sw)\"}, {\"mpg\": 23.0, \"cylinders\": 4, \"displacement\": 120.0, \"horsepower\": 97.0, \"weight\": 2506, \"acceleration\": 14.5, \"model_year\": 72, \"origin\": \"japan\", \"name\": \"toyouta corona mark ii (sw)\"}, {\"mpg\": 28.0, \"cylinders\": 4, \"displacement\": 98.0, \"horsepower\": 80.0, \"weight\": 2164, \"acceleration\": 15.0, \"model_year\": 72, \"origin\": \"usa\", \"name\": \"dodge colt (sw)\"}, {\"mpg\": 27.0, \"cylinders\": 4, \"displacement\": 97.0, \"horsepower\": 88.0, \"weight\": 2100, \"acceleration\": 16.5, \"model_year\": 72, \"origin\": \"japan\", \"name\": \"toyota corolla 1600 (sw)\"}, {\"mpg\": 13.0, \"cylinders\": 8, \"displacement\": 350.0, \"horsepower\": 175.0, \"weight\": 4100, \"acceleration\": 13.0, \"model_year\": 73, \"origin\": \"usa\", \"name\": \"buick century 350\"}, {\"mpg\": 14.0, \"cylinders\": 8, \"displacement\": 304.0, \"horsepower\": 150.0, \"weight\": 3672, \"acceleration\": 11.5, \"model_year\": 73, \"origin\": \"usa\", \"name\": \"amc matador\"}, {\"mpg\": 13.0, \"cylinders\": 8, \"displacement\": 350.0, \"horsepower\": 145.0, \"weight\": 3988, \"acceleration\": 13.0, \"model_year\": 73, \"origin\": \"usa\", \"name\": \"chevrolet malibu\"}, {\"mpg\": 14.0, \"cylinders\": 8, \"displacement\": 302.0, \"horsepower\": 137.0, \"weight\": 4042, \"acceleration\": 14.5, \"model_year\": 73, \"origin\": \"usa\", \"name\": \"ford gran torino\"}, {\"mpg\": 15.0, \"cylinders\": 8, \"displacement\": 318.0, \"horsepower\": 150.0, \"weight\": 3777, \"acceleration\": 12.5, \"model_year\": 73, \"origin\": \"usa\", \"name\": \"dodge coronet custom\"}, {\"mpg\": 12.0, \"cylinders\": 8, \"displacement\": 429.0, \"horsepower\": 198.0, \"weight\": 4952, \"acceleration\": 11.5, \"model_year\": 73, \"origin\": \"usa\", \"name\": \"mercury marquis brougham\"}, {\"mpg\": 13.0, \"cylinders\": 8, \"displacement\": 400.0, \"horsepower\": 150.0, \"weight\": 4464, \"acceleration\": 12.0, \"model_year\": 73, \"origin\": \"usa\", \"name\": \"chevrolet caprice classic\"}, {\"mpg\": 13.0, \"cylinders\": 8, \"displacement\": 351.0, \"horsepower\": 158.0, \"weight\": 4363, \"acceleration\": 13.0, \"model_year\": 73, \"origin\": \"usa\", \"name\": \"ford ltd\"}, {\"mpg\": 14.0, \"cylinders\": 8, \"displacement\": 318.0, \"horsepower\": 150.0, \"weight\": 4237, \"acceleration\": 14.5, \"model_year\": 73, \"origin\": \"usa\", \"name\": \"plymouth fury gran sedan\"}, {\"mpg\": 13.0, \"cylinders\": 8, \"displacement\": 440.0, \"horsepower\": 215.0, \"weight\": 4735, \"acceleration\": 11.0, \"model_year\": 73, \"origin\": \"usa\", \"name\": \"chrysler new yorker brougham\"}, {\"mpg\": 12.0, \"cylinders\": 8, \"displacement\": 455.0, \"horsepower\": 225.0, \"weight\": 4951, \"acceleration\": 11.0, \"model_year\": 73, \"origin\": \"usa\", \"name\": \"buick electra 225 custom\"}, {\"mpg\": 13.0, \"cylinders\": 8, \"displacement\": 360.0, \"horsepower\": 175.0, \"weight\": 3821, \"acceleration\": 11.0, \"model_year\": 73, \"origin\": \"usa\", \"name\": \"amc ambassador brougham\"}, {\"mpg\": 18.0, \"cylinders\": 6, \"displacement\": 225.0, \"horsepower\": 105.0, \"weight\": 3121, \"acceleration\": 16.5, \"model_year\": 73, \"origin\": \"usa\", \"name\": \"plymouth valiant\"}, {\"mpg\": 16.0, \"cylinders\": 6, \"displacement\": 250.0, \"horsepower\": 100.0, \"weight\": 3278, \"acceleration\": 18.0, \"model_year\": 73, \"origin\": \"usa\", \"name\": \"chevrolet nova custom\"}, {\"mpg\": 18.0, \"cylinders\": 6, \"displacement\": 232.0, \"horsepower\": 100.0, \"weight\": 2945, \"acceleration\": 16.0, \"model_year\": 73, \"origin\": \"usa\", \"name\": \"amc hornet\"}, {\"mpg\": 18.0, \"cylinders\": 6, \"displacement\": 250.0, \"horsepower\": 88.0, \"weight\": 3021, \"acceleration\": 16.5, \"model_year\": 73, \"origin\": \"usa\", \"name\": \"ford maverick\"}, {\"mpg\": 23.0, \"cylinders\": 6, \"displacement\": 198.0, \"horsepower\": 95.0, \"weight\": 2904, \"acceleration\": 16.0, \"model_year\": 73, \"origin\": \"usa\", \"name\": \"plymouth duster\"}, {\"mpg\": 26.0, \"cylinders\": 4, \"displacement\": 97.0, \"horsepower\": 46.0, \"weight\": 1950, \"acceleration\": 21.0, \"model_year\": 73, \"origin\": \"europe\", \"name\": \"volkswagen super beetle\"}, {\"mpg\": 11.0, \"cylinders\": 8, \"displacement\": 400.0, \"horsepower\": 150.0, \"weight\": 4997, \"acceleration\": 14.0, \"model_year\": 73, \"origin\": \"usa\", \"name\": \"chevrolet impala\"}, {\"mpg\": 12.0, \"cylinders\": 8, \"displacement\": 400.0, \"horsepower\": 167.0, \"weight\": 4906, \"acceleration\": 12.5, \"model_year\": 73, \"origin\": \"usa\", \"name\": \"ford country\"}, {\"mpg\": 13.0, \"cylinders\": 8, \"displacement\": 360.0, \"horsepower\": 170.0, \"weight\": 4654, \"acceleration\": 13.0, \"model_year\": 73, \"origin\": \"usa\", \"name\": \"plymouth custom suburb\"}, {\"mpg\": 12.0, \"cylinders\": 8, \"displacement\": 350.0, \"horsepower\": 180.0, \"weight\": 4499, \"acceleration\": 12.5, \"model_year\": 73, \"origin\": \"usa\", \"name\": \"oldsmobile vista cruiser\"}, {\"mpg\": 18.0, \"cylinders\": 6, \"displacement\": 232.0, \"horsepower\": 100.0, \"weight\": 2789, \"acceleration\": 15.0, \"model_year\": 73, \"origin\": \"usa\", \"name\": \"amc gremlin\"}, {\"mpg\": 20.0, \"cylinders\": 4, \"displacement\": 97.0, \"horsepower\": 88.0, \"weight\": 2279, \"acceleration\": 19.0, \"model_year\": 73, \"origin\": \"japan\", \"name\": \"toyota carina\"}, {\"mpg\": 21.0, \"cylinders\": 4, \"displacement\": 140.0, \"horsepower\": 72.0, \"weight\": 2401, \"acceleration\": 19.5, \"model_year\": 73, \"origin\": \"usa\", \"name\": \"chevrolet vega\"}, {\"mpg\": 22.0, \"cylinders\": 4, \"displacement\": 108.0, \"horsepower\": 94.0, \"weight\": 2379, \"acceleration\": 16.5, \"model_year\": 73, \"origin\": \"japan\", \"name\": \"datsun 610\"}, {\"mpg\": 18.0, \"cylinders\": 3, \"displacement\": 70.0, \"horsepower\": 90.0, \"weight\": 2124, \"acceleration\": 13.5, \"model_year\": 73, \"origin\": \"japan\", \"name\": \"maxda rx3\"}, {\"mpg\": 19.0, \"cylinders\": 4, \"displacement\": 122.0, \"horsepower\": 85.0, \"weight\": 2310, \"acceleration\": 18.5, \"model_year\": 73, \"origin\": \"usa\", \"name\": \"ford pinto\"}, {\"mpg\": 21.0, \"cylinders\": 6, \"displacement\": 155.0, \"horsepower\": 107.0, \"weight\": 2472, \"acceleration\": 14.0, \"model_year\": 73, \"origin\": \"usa\", \"name\": \"mercury capri v6\"}, {\"mpg\": 26.0, \"cylinders\": 4, \"displacement\": 98.0, \"horsepower\": 90.0, \"weight\": 2265, \"acceleration\": 15.5, \"model_year\": 73, \"origin\": \"europe\", \"name\": \"fiat 124 sport coupe\"}, {\"mpg\": 15.0, \"cylinders\": 8, \"displacement\": 350.0, \"horsepower\": 145.0, \"weight\": 4082, \"acceleration\": 13.0, \"model_year\": 73, \"origin\": \"usa\", \"name\": \"chevrolet monte carlo s\"}, {\"mpg\": 16.0, \"cylinders\": 8, \"displacement\": 400.0, \"horsepower\": 230.0, \"weight\": 4278, \"acceleration\": 9.5, \"model_year\": 73, \"origin\": \"usa\", \"name\": \"pontiac grand prix\"}, {\"mpg\": 29.0, \"cylinders\": 4, \"displacement\": 68.0, \"horsepower\": 49.0, \"weight\": 1867, \"acceleration\": 19.5, \"model_year\": 73, \"origin\": \"europe\", \"name\": \"fiat 128\"}, {\"mpg\": 24.0, \"cylinders\": 4, \"displacement\": 116.0, \"horsepower\": 75.0, \"weight\": 2158, \"acceleration\": 15.5, \"model_year\": 73, \"origin\": \"europe\", \"name\": \"opel manta\"}, {\"mpg\": 20.0, \"cylinders\": 4, \"displacement\": 114.0, \"horsepower\": 91.0, \"weight\": 2582, \"acceleration\": 14.0, \"model_year\": 73, \"origin\": \"europe\", \"name\": \"audi 100ls\"}, {\"mpg\": 19.0, \"cylinders\": 4, \"displacement\": 121.0, \"horsepower\": 112.0, \"weight\": 2868, \"acceleration\": 15.5, \"model_year\": 73, \"origin\": \"europe\", \"name\": \"volvo 144ea\"}, {\"mpg\": 15.0, \"cylinders\": 8, \"displacement\": 318.0, \"horsepower\": 150.0, \"weight\": 3399, \"acceleration\": 11.0, \"model_year\": 73, \"origin\": \"usa\", \"name\": \"dodge dart custom\"}, {\"mpg\": 24.0, \"cylinders\": 4, \"displacement\": 121.0, \"horsepower\": 110.0, \"weight\": 2660, \"acceleration\": 14.0, \"model_year\": 73, \"origin\": \"europe\", \"name\": \"saab 99le\"}, {\"mpg\": 20.0, \"cylinders\": 6, \"displacement\": 156.0, \"horsepower\": 122.0, \"weight\": 2807, \"acceleration\": 13.5, \"model_year\": 73, \"origin\": \"japan\", \"name\": \"toyota mark ii\"}, {\"mpg\": 11.0, \"cylinders\": 8, \"displacement\": 350.0, \"horsepower\": 180.0, \"weight\": 3664, \"acceleration\": 11.0, \"model_year\": 73, \"origin\": \"usa\", \"name\": \"oldsmobile omega\"}, {\"mpg\": 20.0, \"cylinders\": 6, \"displacement\": 198.0, \"horsepower\": 95.0, \"weight\": 3102, \"acceleration\": 16.5, \"model_year\": 74, \"origin\": \"usa\", \"name\": \"plymouth duster\"}, {\"mpg\": 19.0, \"cylinders\": 6, \"displacement\": 232.0, \"horsepower\": 100.0, \"weight\": 2901, \"acceleration\": 16.0, \"model_year\": 74, \"origin\": \"usa\", \"name\": \"amc hornet\"}, {\"mpg\": 15.0, \"cylinders\": 6, \"displacement\": 250.0, \"horsepower\": 100.0, \"weight\": 3336, \"acceleration\": 17.0, \"model_year\": 74, \"origin\": \"usa\", \"name\": \"chevrolet nova\"}, {\"mpg\": 31.0, \"cylinders\": 4, \"displacement\": 79.0, \"horsepower\": 67.0, \"weight\": 1950, \"acceleration\": 19.0, \"model_year\": 74, \"origin\": \"japan\", \"name\": \"datsun b210\"}, {\"mpg\": 26.0, \"cylinders\": 4, \"displacement\": 122.0, \"horsepower\": 80.0, \"weight\": 2451, \"acceleration\": 16.5, \"model_year\": 74, \"origin\": \"usa\", \"name\": \"ford pinto\"}, {\"mpg\": 32.0, \"cylinders\": 4, \"displacement\": 71.0, \"horsepower\": 65.0, \"weight\": 1836, \"acceleration\": 21.0, \"model_year\": 74, \"origin\": \"japan\", \"name\": \"toyota corolla 1200\"}, {\"mpg\": 25.0, \"cylinders\": 4, \"displacement\": 140.0, \"horsepower\": 75.0, \"weight\": 2542, \"acceleration\": 17.0, \"model_year\": 74, \"origin\": \"usa\", \"name\": \"chevrolet vega\"}, {\"mpg\": 16.0, \"cylinders\": 6, \"displacement\": 250.0, \"horsepower\": 100.0, \"weight\": 3781, \"acceleration\": 17.0, \"model_year\": 74, \"origin\": \"usa\", \"name\": \"chevrolet chevelle malibu classic\"}, {\"mpg\": 16.0, \"cylinders\": 6, \"displacement\": 258.0, \"horsepower\": 110.0, \"weight\": 3632, \"acceleration\": 18.0, \"model_year\": 74, \"origin\": \"usa\", \"name\": \"amc matador\"}, {\"mpg\": 18.0, \"cylinders\": 6, \"displacement\": 225.0, \"horsepower\": 105.0, \"weight\": 3613, \"acceleration\": 16.5, \"model_year\": 74, \"origin\": \"usa\", \"name\": \"plymouth satellite sebring\"}, {\"mpg\": 16.0, \"cylinders\": 8, \"displacement\": 302.0, \"horsepower\": 140.0, \"weight\": 4141, \"acceleration\": 14.0, \"model_year\": 74, \"origin\": \"usa\", \"name\": \"ford gran torino\"}, {\"mpg\": 13.0, \"cylinders\": 8, \"displacement\": 350.0, \"horsepower\": 150.0, \"weight\": 4699, \"acceleration\": 14.5, \"model_year\": 74, \"origin\": \"usa\", \"name\": \"buick century luxus (sw)\"}, {\"mpg\": 14.0, \"cylinders\": 8, \"displacement\": 318.0, \"horsepower\": 150.0, \"weight\": 4457, \"acceleration\": 13.5, \"model_year\": 74, \"origin\": \"usa\", \"name\": \"dodge coronet custom (sw)\"}, {\"mpg\": 14.0, \"cylinders\": 8, \"displacement\": 302.0, \"horsepower\": 140.0, \"weight\": 4638, \"acceleration\": 16.0, \"model_year\": 74, \"origin\": \"usa\", \"name\": \"ford gran torino (sw)\"}, {\"mpg\": 14.0, \"cylinders\": 8, \"displacement\": 304.0, \"horsepower\": 150.0, \"weight\": 4257, \"acceleration\": 15.5, \"model_year\": 74, \"origin\": \"usa\", \"name\": \"amc matador (sw)\"}, {\"mpg\": 29.0, \"cylinders\": 4, \"displacement\": 98.0, \"horsepower\": 83.0, \"weight\": 2219, \"acceleration\": 16.5, \"model_year\": 74, \"origin\": \"europe\", \"name\": \"audi fox\"}, {\"mpg\": 26.0, \"cylinders\": 4, \"displacement\": 79.0, \"horsepower\": 67.0, \"weight\": 1963, \"acceleration\": 15.5, \"model_year\": 74, \"origin\": \"europe\", \"name\": \"volkswagen dasher\"}, {\"mpg\": 26.0, \"cylinders\": 4, \"displacement\": 97.0, \"horsepower\": 78.0, \"weight\": 2300, \"acceleration\": 14.5, \"model_year\": 74, \"origin\": \"europe\", \"name\": \"opel manta\"}, {\"mpg\": 31.0, \"cylinders\": 4, \"displacement\": 76.0, \"horsepower\": 52.0, \"weight\": 1649, \"acceleration\": 16.5, \"model_year\": 74, \"origin\": \"japan\", \"name\": \"toyota corona\"}, {\"mpg\": 32.0, \"cylinders\": 4, \"displacement\": 83.0, \"horsepower\": 61.0, \"weight\": 2003, \"acceleration\": 19.0, \"model_year\": 74, \"origin\": \"japan\", \"name\": \"datsun 710\"}, {\"mpg\": 28.0, \"cylinders\": 4, \"displacement\": 90.0, \"horsepower\": 75.0, \"weight\": 2125, \"acceleration\": 14.5, \"model_year\": 74, \"origin\": \"usa\", \"name\": \"dodge colt\"}, {\"mpg\": 24.0, \"cylinders\": 4, \"displacement\": 90.0, \"horsepower\": 75.0, \"weight\": 2108, \"acceleration\": 15.5, \"model_year\": 74, \"origin\": \"europe\", \"name\": \"fiat 128\"}, {\"mpg\": 26.0, \"cylinders\": 4, \"displacement\": 116.0, \"horsepower\": 75.0, \"weight\": 2246, \"acceleration\": 14.0, \"model_year\": 74, \"origin\": \"europe\", \"name\": \"fiat 124 tc\"}, {\"mpg\": 24.0, \"cylinders\": 4, \"displacement\": 120.0, \"horsepower\": 97.0, \"weight\": 2489, \"acceleration\": 15.0, \"model_year\": 74, \"origin\": \"japan\", \"name\": \"honda civic\"}, {\"mpg\": 26.0, \"cylinders\": 4, \"displacement\": 108.0, \"horsepower\": 93.0, \"weight\": 2391, \"acceleration\": 15.5, \"model_year\": 74, \"origin\": \"japan\", \"name\": \"subaru\"}, {\"mpg\": 31.0, \"cylinders\": 4, \"displacement\": 79.0, \"horsepower\": 67.0, \"weight\": 2000, \"acceleration\": 16.0, \"model_year\": 74, \"origin\": \"europe\", \"name\": \"fiat x1.9\"}, {\"mpg\": 19.0, \"cylinders\": 6, \"displacement\": 225.0, \"horsepower\": 95.0, \"weight\": 3264, \"acceleration\": 16.0, \"model_year\": 75, \"origin\": \"usa\", \"name\": \"plymouth valiant custom\"}, {\"mpg\": 18.0, \"cylinders\": 6, \"displacement\": 250.0, \"horsepower\": 105.0, \"weight\": 3459, \"acceleration\": 16.0, \"model_year\": 75, \"origin\": \"usa\", \"name\": \"chevrolet nova\"}, {\"mpg\": 15.0, \"cylinders\": 6, \"displacement\": 250.0, \"horsepower\": 72.0, \"weight\": 3432, \"acceleration\": 21.0, \"model_year\": 75, \"origin\": \"usa\", \"name\": \"mercury monarch\"}, {\"mpg\": 15.0, \"cylinders\": 6, \"displacement\": 250.0, \"horsepower\": 72.0, \"weight\": 3158, \"acceleration\": 19.5, \"model_year\": 75, \"origin\": \"usa\", \"name\": \"ford maverick\"}, {\"mpg\": 16.0, \"cylinders\": 8, \"displacement\": 400.0, \"horsepower\": 170.0, \"weight\": 4668, \"acceleration\": 11.5, \"model_year\": 75, \"origin\": \"usa\", \"name\": \"pontiac catalina\"}, {\"mpg\": 15.0, \"cylinders\": 8, \"displacement\": 350.0, \"horsepower\": 145.0, \"weight\": 4440, \"acceleration\": 14.0, \"model_year\": 75, \"origin\": \"usa\", \"name\": \"chevrolet bel air\"}, {\"mpg\": 16.0, \"cylinders\": 8, \"displacement\": 318.0, \"horsepower\": 150.0, \"weight\": 4498, \"acceleration\": 14.5, \"model_year\": 75, \"origin\": \"usa\", \"name\": \"plymouth grand fury\"}, {\"mpg\": 14.0, \"cylinders\": 8, \"displacement\": 351.0, \"horsepower\": 148.0, \"weight\": 4657, \"acceleration\": 13.5, \"model_year\": 75, \"origin\": \"usa\", \"name\": \"ford ltd\"}, {\"mpg\": 17.0, \"cylinders\": 6, \"displacement\": 231.0, \"horsepower\": 110.0, \"weight\": 3907, \"acceleration\": 21.0, \"model_year\": 75, \"origin\": \"usa\", \"name\": \"buick century\"}, {\"mpg\": 16.0, \"cylinders\": 6, \"displacement\": 250.0, \"horsepower\": 105.0, \"weight\": 3897, \"acceleration\": 18.5, \"model_year\": 75, \"origin\": \"usa\", \"name\": \"chevroelt chevelle malibu\"}, {\"mpg\": 15.0, \"cylinders\": 6, \"displacement\": 258.0, \"horsepower\": 110.0, \"weight\": 3730, \"acceleration\": 19.0, \"model_year\": 75, \"origin\": \"usa\", \"name\": \"amc matador\"}, {\"mpg\": 18.0, \"cylinders\": 6, \"displacement\": 225.0, \"horsepower\": 95.0, \"weight\": 3785, \"acceleration\": 19.0, \"model_year\": 75, \"origin\": \"usa\", \"name\": \"plymouth fury\"}, {\"mpg\": 21.0, \"cylinders\": 6, \"displacement\": 231.0, \"horsepower\": 110.0, \"weight\": 3039, \"acceleration\": 15.0, \"model_year\": 75, \"origin\": \"usa\", \"name\": \"buick skyhawk\"}, {\"mpg\": 20.0, \"cylinders\": 8, \"displacement\": 262.0, \"horsepower\": 110.0, \"weight\": 3221, \"acceleration\": 13.5, \"model_year\": 75, \"origin\": \"usa\", \"name\": \"chevrolet monza 2+2\"}, {\"mpg\": 13.0, \"cylinders\": 8, \"displacement\": 302.0, \"horsepower\": 129.0, \"weight\": 3169, \"acceleration\": 12.0, \"model_year\": 75, \"origin\": \"usa\", \"name\": \"ford mustang ii\"}, {\"mpg\": 29.0, \"cylinders\": 4, \"displacement\": 97.0, \"horsepower\": 75.0, \"weight\": 2171, \"acceleration\": 16.0, \"model_year\": 75, \"origin\": \"japan\", \"name\": \"toyota corolla\"}, {\"mpg\": 23.0, \"cylinders\": 4, \"displacement\": 140.0, \"horsepower\": 83.0, \"weight\": 2639, \"acceleration\": 17.0, \"model_year\": 75, \"origin\": \"usa\", \"name\": \"ford pinto\"}, {\"mpg\": 20.0, \"cylinders\": 6, \"displacement\": 232.0, \"horsepower\": 100.0, \"weight\": 2914, \"acceleration\": 16.0, \"model_year\": 75, \"origin\": \"usa\", \"name\": \"amc gremlin\"}, {\"mpg\": 23.0, \"cylinders\": 4, \"displacement\": 140.0, \"horsepower\": 78.0, \"weight\": 2592, \"acceleration\": 18.5, \"model_year\": 75, \"origin\": \"usa\", \"name\": \"pontiac astro\"}, {\"mpg\": 24.0, \"cylinders\": 4, \"displacement\": 134.0, \"horsepower\": 96.0, \"weight\": 2702, \"acceleration\": 13.5, \"model_year\": 75, \"origin\": \"japan\", \"name\": \"toyota corona\"}, {\"mpg\": 25.0, \"cylinders\": 4, \"displacement\": 90.0, \"horsepower\": 71.0, \"weight\": 2223, \"acceleration\": 16.5, \"model_year\": 75, \"origin\": \"europe\", \"name\": \"volkswagen dasher\"}, {\"mpg\": 24.0, \"cylinders\": 4, \"displacement\": 119.0, \"horsepower\": 97.0, \"weight\": 2545, \"acceleration\": 17.0, \"model_year\": 75, \"origin\": \"japan\", \"name\": \"datsun 710\"}, {\"mpg\": 18.0, \"cylinders\": 6, \"displacement\": 171.0, \"horsepower\": 97.0, \"weight\": 2984, \"acceleration\": 14.5, \"model_year\": 75, \"origin\": \"usa\", \"name\": \"ford pinto\"}, {\"mpg\": 29.0, \"cylinders\": 4, \"displacement\": 90.0, \"horsepower\": 70.0, \"weight\": 1937, \"acceleration\": 14.0, \"model_year\": 75, \"origin\": \"europe\", \"name\": \"volkswagen rabbit\"}, {\"mpg\": 19.0, \"cylinders\": 6, \"displacement\": 232.0, \"horsepower\": 90.0, \"weight\": 3211, \"acceleration\": 17.0, \"model_year\": 75, \"origin\": \"usa\", \"name\": \"amc pacer\"}, {\"mpg\": 23.0, \"cylinders\": 4, \"displacement\": 115.0, \"horsepower\": 95.0, \"weight\": 2694, \"acceleration\": 15.0, \"model_year\": 75, \"origin\": \"europe\", \"name\": \"audi 100ls\"}, {\"mpg\": 23.0, \"cylinders\": 4, \"displacement\": 120.0, \"horsepower\": 88.0, \"weight\": 2957, \"acceleration\": 17.0, \"model_year\": 75, \"origin\": \"europe\", \"name\": \"peugeot 504\"}, {\"mpg\": 22.0, \"cylinders\": 4, \"displacement\": 121.0, \"horsepower\": 98.0, \"weight\": 2945, \"acceleration\": 14.5, \"model_year\": 75, \"origin\": \"europe\", \"name\": \"volvo 244dl\"}, {\"mpg\": 25.0, \"cylinders\": 4, \"displacement\": 121.0, \"horsepower\": 115.0, \"weight\": 2671, \"acceleration\": 13.5, \"model_year\": 75, \"origin\": \"europe\", \"name\": \"saab 99le\"}, {\"mpg\": 33.0, \"cylinders\": 4, \"displacement\": 91.0, \"horsepower\": 53.0, \"weight\": 1795, \"acceleration\": 17.5, \"model_year\": 75, \"origin\": \"japan\", \"name\": \"honda civic cvcc\"}, {\"mpg\": 28.0, \"cylinders\": 4, \"displacement\": 107.0, \"horsepower\": 86.0, \"weight\": 2464, \"acceleration\": 15.5, \"model_year\": 76, \"origin\": \"europe\", \"name\": \"fiat 131\"}, {\"mpg\": 25.0, \"cylinders\": 4, \"displacement\": 116.0, \"horsepower\": 81.0, \"weight\": 2220, \"acceleration\": 16.9, \"model_year\": 76, \"origin\": \"europe\", \"name\": \"opel 1900\"}, {\"mpg\": 25.0, \"cylinders\": 4, \"displacement\": 140.0, \"horsepower\": 92.0, \"weight\": 2572, \"acceleration\": 14.9, \"model_year\": 76, \"origin\": \"usa\", \"name\": \"capri ii\"}, {\"mpg\": 26.0, \"cylinders\": 4, \"displacement\": 98.0, \"horsepower\": 79.0, \"weight\": 2255, \"acceleration\": 17.7, \"model_year\": 76, \"origin\": \"usa\", \"name\": \"dodge colt\"}, {\"mpg\": 27.0, \"cylinders\": 4, \"displacement\": 101.0, \"horsepower\": 83.0, \"weight\": 2202, \"acceleration\": 15.3, \"model_year\": 76, \"origin\": \"europe\", \"name\": \"renault 12tl\"}, {\"mpg\": 17.5, \"cylinders\": 8, \"displacement\": 305.0, \"horsepower\": 140.0, \"weight\": 4215, \"acceleration\": 13.0, \"model_year\": 76, \"origin\": \"usa\", \"name\": \"chevrolet chevelle malibu classic\"}, {\"mpg\": 16.0, \"cylinders\": 8, \"displacement\": 318.0, \"horsepower\": 150.0, \"weight\": 4190, \"acceleration\": 13.0, \"model_year\": 76, \"origin\": \"usa\", \"name\": \"dodge coronet brougham\"}, {\"mpg\": 15.5, \"cylinders\": 8, \"displacement\": 304.0, \"horsepower\": 120.0, \"weight\": 3962, \"acceleration\": 13.9, \"model_year\": 76, \"origin\": \"usa\", \"name\": \"amc matador\"}, {\"mpg\": 14.5, \"cylinders\": 8, \"displacement\": 351.0, \"horsepower\": 152.0, \"weight\": 4215, \"acceleration\": 12.8, \"model_year\": 76, \"origin\": \"usa\", \"name\": \"ford gran torino\"}, {\"mpg\": 22.0, \"cylinders\": 6, \"displacement\": 225.0, \"horsepower\": 100.0, \"weight\": 3233, \"acceleration\": 15.4, \"model_year\": 76, \"origin\": \"usa\", \"name\": \"plymouth valiant\"}, {\"mpg\": 22.0, \"cylinders\": 6, \"displacement\": 250.0, \"horsepower\": 105.0, \"weight\": 3353, \"acceleration\": 14.5, \"model_year\": 76, \"origin\": \"usa\", \"name\": \"chevrolet nova\"}, {\"mpg\": 24.0, \"cylinders\": 6, \"displacement\": 200.0, \"horsepower\": 81.0, \"weight\": 3012, \"acceleration\": 17.6, \"model_year\": 76, \"origin\": \"usa\", \"name\": \"ford maverick\"}, {\"mpg\": 22.5, \"cylinders\": 6, \"displacement\": 232.0, \"horsepower\": 90.0, \"weight\": 3085, \"acceleration\": 17.6, \"model_year\": 76, \"origin\": \"usa\", \"name\": \"amc hornet\"}, {\"mpg\": 29.0, \"cylinders\": 4, \"displacement\": 85.0, \"horsepower\": 52.0, \"weight\": 2035, \"acceleration\": 22.2, \"model_year\": 76, \"origin\": \"usa\", \"name\": \"chevrolet chevette\"}, {\"mpg\": 24.5, \"cylinders\": 4, \"displacement\": 98.0, \"horsepower\": 60.0, \"weight\": 2164, \"acceleration\": 22.1, \"model_year\": 76, \"origin\": \"usa\", \"name\": \"chevrolet woody\"}, {\"mpg\": 29.0, \"cylinders\": 4, \"displacement\": 90.0, \"horsepower\": 70.0, \"weight\": 1937, \"acceleration\": 14.2, \"model_year\": 76, \"origin\": \"europe\", \"name\": \"vw rabbit\"}, {\"mpg\": 33.0, \"cylinders\": 4, \"displacement\": 91.0, \"horsepower\": 53.0, \"weight\": 1795, \"acceleration\": 17.4, \"model_year\": 76, \"origin\": \"japan\", \"name\": \"honda civic\"}, {\"mpg\": 20.0, \"cylinders\": 6, \"displacement\": 225.0, \"horsepower\": 100.0, \"weight\": 3651, \"acceleration\": 17.7, \"model_year\": 76, \"origin\": \"usa\", \"name\": \"dodge aspen se\"}, {\"mpg\": 18.0, \"cylinders\": 6, \"displacement\": 250.0, \"horsepower\": 78.0, \"weight\": 3574, \"acceleration\": 21.0, \"model_year\": 76, \"origin\": \"usa\", \"name\": \"ford granada ghia\"}, {\"mpg\": 18.5, \"cylinders\": 6, \"displacement\": 250.0, \"horsepower\": 110.0, \"weight\": 3645, \"acceleration\": 16.2, \"model_year\": 76, \"origin\": \"usa\", \"name\": \"pontiac ventura sj\"}, {\"mpg\": 17.5, \"cylinders\": 6, \"displacement\": 258.0, \"horsepower\": 95.0, \"weight\": 3193, \"acceleration\": 17.8, \"model_year\": 76, \"origin\": \"usa\", \"name\": \"amc pacer d/l\"}, {\"mpg\": 29.5, \"cylinders\": 4, \"displacement\": 97.0, \"horsepower\": 71.0, \"weight\": 1825, \"acceleration\": 12.2, \"model_year\": 76, \"origin\": \"europe\", \"name\": \"volkswagen rabbit\"}, {\"mpg\": 32.0, \"cylinders\": 4, \"displacement\": 85.0, \"horsepower\": 70.0, \"weight\": 1990, \"acceleration\": 17.0, \"model_year\": 76, \"origin\": \"japan\", \"name\": \"datsun b-210\"}, {\"mpg\": 28.0, \"cylinders\": 4, \"displacement\": 97.0, \"horsepower\": 75.0, \"weight\": 2155, \"acceleration\": 16.4, \"model_year\": 76, \"origin\": \"japan\", \"name\": \"toyota corolla\"}, {\"mpg\": 26.5, \"cylinders\": 4, \"displacement\": 140.0, \"horsepower\": 72.0, \"weight\": 2565, \"acceleration\": 13.6, \"model_year\": 76, \"origin\": \"usa\", \"name\": \"ford pinto\"}, {\"mpg\": 20.0, \"cylinders\": 4, \"displacement\": 130.0, \"horsepower\": 102.0, \"weight\": 3150, \"acceleration\": 15.7, \"model_year\": 76, \"origin\": \"europe\", \"name\": \"volvo 245\"}, {\"mpg\": 13.0, \"cylinders\": 8, \"displacement\": 318.0, \"horsepower\": 150.0, \"weight\": 3940, \"acceleration\": 13.2, \"model_year\": 76, \"origin\": \"usa\", \"name\": \"plymouth volare premier v8\"}, {\"mpg\": 19.0, \"cylinders\": 4, \"displacement\": 120.0, \"horsepower\": 88.0, \"weight\": 3270, \"acceleration\": 21.9, \"model_year\": 76, \"origin\": \"europe\", \"name\": \"peugeot 504\"}, {\"mpg\": 19.0, \"cylinders\": 6, \"displacement\": 156.0, \"horsepower\": 108.0, \"weight\": 2930, \"acceleration\": 15.5, \"model_year\": 76, \"origin\": \"japan\", \"name\": \"toyota mark ii\"}, {\"mpg\": 16.5, \"cylinders\": 6, \"displacement\": 168.0, \"horsepower\": 120.0, \"weight\": 3820, \"acceleration\": 16.7, \"model_year\": 76, \"origin\": \"europe\", \"name\": \"mercedes-benz 280s\"}, {\"mpg\": 16.5, \"cylinders\": 8, \"displacement\": 350.0, \"horsepower\": 180.0, \"weight\": 4380, \"acceleration\": 12.1, \"model_year\": 76, \"origin\": \"usa\", \"name\": \"cadillac seville\"}, {\"mpg\": 13.0, \"cylinders\": 8, \"displacement\": 350.0, \"horsepower\": 145.0, \"weight\": 4055, \"acceleration\": 12.0, \"model_year\": 76, \"origin\": \"usa\", \"name\": \"chevy c10\"}, {\"mpg\": 13.0, \"cylinders\": 8, \"displacement\": 302.0, \"horsepower\": 130.0, \"weight\": 3870, \"acceleration\": 15.0, \"model_year\": 76, \"origin\": \"usa\", \"name\": \"ford f108\"}, {\"mpg\": 13.0, \"cylinders\": 8, \"displacement\": 318.0, \"horsepower\": 150.0, \"weight\": 3755, \"acceleration\": 14.0, \"model_year\": 76, \"origin\": \"usa\", \"name\": \"dodge d100\"}, {\"mpg\": 31.5, \"cylinders\": 4, \"displacement\": 98.0, \"horsepower\": 68.0, \"weight\": 2045, \"acceleration\": 18.5, \"model_year\": 77, \"origin\": \"japan\", \"name\": \"honda accord cvcc\"}, {\"mpg\": 30.0, \"cylinders\": 4, \"displacement\": 111.0, \"horsepower\": 80.0, \"weight\": 2155, \"acceleration\": 14.8, \"model_year\": 77, \"origin\": \"usa\", \"name\": \"buick opel isuzu deluxe\"}, {\"mpg\": 36.0, \"cylinders\": 4, \"displacement\": 79.0, \"horsepower\": 58.0, \"weight\": 1825, \"acceleration\": 18.6, \"model_year\": 77, \"origin\": \"europe\", \"name\": \"renault 5 gtl\"}, {\"mpg\": 25.5, \"cylinders\": 4, \"displacement\": 122.0, \"horsepower\": 96.0, \"weight\": 2300, \"acceleration\": 15.5, \"model_year\": 77, \"origin\": \"usa\", \"name\": \"plymouth arrow gs\"}, {\"mpg\": 33.5, \"cylinders\": 4, \"displacement\": 85.0, \"horsepower\": 70.0, \"weight\": 1945, \"acceleration\": 16.8, \"model_year\": 77, \"origin\": \"japan\", \"name\": \"datsun f-10 hatchback\"}, {\"mpg\": 17.5, \"cylinders\": 8, \"displacement\": 305.0, \"horsepower\": 145.0, \"weight\": 3880, \"acceleration\": 12.5, \"model_year\": 77, \"origin\": \"usa\", \"name\": \"chevrolet caprice classic\"}, {\"mpg\": 17.0, \"cylinders\": 8, \"displacement\": 260.0, \"horsepower\": 110.0, \"weight\": 4060, \"acceleration\": 19.0, \"model_year\": 77, \"origin\": \"usa\", \"name\": \"oldsmobile cutlass supreme\"}, {\"mpg\": 15.5, \"cylinders\": 8, \"displacement\": 318.0, \"horsepower\": 145.0, \"weight\": 4140, \"acceleration\": 13.7, \"model_year\": 77, \"origin\": \"usa\", \"name\": \"dodge monaco brougham\"}, {\"mpg\": 15.0, \"cylinders\": 8, \"displacement\": 302.0, \"horsepower\": 130.0, \"weight\": 4295, \"acceleration\": 14.9, \"model_year\": 77, \"origin\": \"usa\", \"name\": \"mercury cougar brougham\"}, {\"mpg\": 17.5, \"cylinders\": 6, \"displacement\": 250.0, \"horsepower\": 110.0, \"weight\": 3520, \"acceleration\": 16.4, \"model_year\": 77, \"origin\": \"usa\", \"name\": \"chevrolet concours\"}, {\"mpg\": 20.5, \"cylinders\": 6, \"displacement\": 231.0, \"horsepower\": 105.0, \"weight\": 3425, \"acceleration\": 16.9, \"model_year\": 77, \"origin\": \"usa\", \"name\": \"buick skylark\"}, {\"mpg\": 19.0, \"cylinders\": 6, \"displacement\": 225.0, \"horsepower\": 100.0, \"weight\": 3630, \"acceleration\": 17.7, \"model_year\": 77, \"origin\": \"usa\", \"name\": \"plymouth volare custom\"}, {\"mpg\": 18.5, \"cylinders\": 6, \"displacement\": 250.0, \"horsepower\": 98.0, \"weight\": 3525, \"acceleration\": 19.0, \"model_year\": 77, \"origin\": \"usa\", \"name\": \"ford granada\"}, {\"mpg\": 16.0, \"cylinders\": 8, \"displacement\": 400.0, \"horsepower\": 180.0, \"weight\": 4220, \"acceleration\": 11.1, \"model_year\": 77, \"origin\": \"usa\", \"name\": \"pontiac grand prix lj\"}, {\"mpg\": 15.5, \"cylinders\": 8, \"displacement\": 350.0, \"horsepower\": 170.0, \"weight\": 4165, \"acceleration\": 11.4, \"model_year\": 77, \"origin\": \"usa\", \"name\": \"chevrolet monte carlo landau\"}, {\"mpg\": 15.5, \"cylinders\": 8, \"displacement\": 400.0, \"horsepower\": 190.0, \"weight\": 4325, \"acceleration\": 12.2, \"model_year\": 77, \"origin\": \"usa\", \"name\": \"chrysler cordoba\"}, {\"mpg\": 16.0, \"cylinders\": 8, \"displacement\": 351.0, \"horsepower\": 149.0, \"weight\": 4335, \"acceleration\": 14.5, \"model_year\": 77, \"origin\": \"usa\", \"name\": \"ford thunderbird\"}, {\"mpg\": 29.0, \"cylinders\": 4, \"displacement\": 97.0, \"horsepower\": 78.0, \"weight\": 1940, \"acceleration\": 14.5, \"model_year\": 77, \"origin\": \"europe\", \"name\": \"volkswagen rabbit custom\"}, {\"mpg\": 24.5, \"cylinders\": 4, \"displacement\": 151.0, \"horsepower\": 88.0, \"weight\": 2740, \"acceleration\": 16.0, \"model_year\": 77, \"origin\": \"usa\", \"name\": \"pontiac sunbird coupe\"}, {\"mpg\": 26.0, \"cylinders\": 4, \"displacement\": 97.0, \"horsepower\": 75.0, \"weight\": 2265, \"acceleration\": 18.2, \"model_year\": 77, \"origin\": \"japan\", \"name\": \"toyota corolla liftback\"}, {\"mpg\": 25.5, \"cylinders\": 4, \"displacement\": 140.0, \"horsepower\": 89.0, \"weight\": 2755, \"acceleration\": 15.8, \"model_year\": 77, \"origin\": \"usa\", \"name\": \"ford mustang ii 2+2\"}, {\"mpg\": 30.5, \"cylinders\": 4, \"displacement\": 98.0, \"horsepower\": 63.0, \"weight\": 2051, \"acceleration\": 17.0, \"model_year\": 77, \"origin\": \"usa\", \"name\": \"chevrolet chevette\"}, {\"mpg\": 33.5, \"cylinders\": 4, \"displacement\": 98.0, \"horsepower\": 83.0, \"weight\": 2075, \"acceleration\": 15.9, \"model_year\": 77, \"origin\": \"usa\", \"name\": \"dodge colt m/m\"}, {\"mpg\": 30.0, \"cylinders\": 4, \"displacement\": 97.0, \"horsepower\": 67.0, \"weight\": 1985, \"acceleration\": 16.4, \"model_year\": 77, \"origin\": \"japan\", \"name\": \"subaru dl\"}, {\"mpg\": 30.5, \"cylinders\": 4, \"displacement\": 97.0, \"horsepower\": 78.0, \"weight\": 2190, \"acceleration\": 14.1, \"model_year\": 77, \"origin\": \"europe\", \"name\": \"volkswagen dasher\"}, {\"mpg\": 22.0, \"cylinders\": 6, \"displacement\": 146.0, \"horsepower\": 97.0, \"weight\": 2815, \"acceleration\": 14.5, \"model_year\": 77, \"origin\": \"japan\", \"name\": \"datsun 810\"}, {\"mpg\": 21.5, \"cylinders\": 4, \"displacement\": 121.0, \"horsepower\": 110.0, \"weight\": 2600, \"acceleration\": 12.8, \"model_year\": 77, \"origin\": \"europe\", \"name\": \"bmw 320i\"}, {\"mpg\": 21.5, \"cylinders\": 3, \"displacement\": 80.0, \"horsepower\": 110.0, \"weight\": 2720, \"acceleration\": 13.5, \"model_year\": 77, \"origin\": \"japan\", \"name\": \"mazda rx-4\"}, {\"mpg\": 43.1, \"cylinders\": 4, \"displacement\": 90.0, \"horsepower\": 48.0, \"weight\": 1985, \"acceleration\": 21.5, \"model_year\": 78, \"origin\": \"europe\", \"name\": \"volkswagen rabbit custom diesel\"}, {\"mpg\": 36.1, \"cylinders\": 4, \"displacement\": 98.0, \"horsepower\": 66.0, \"weight\": 1800, \"acceleration\": 14.4, \"model_year\": 78, \"origin\": \"usa\", \"name\": \"ford fiesta\"}, {\"mpg\": 32.8, \"cylinders\": 4, \"displacement\": 78.0, \"horsepower\": 52.0, \"weight\": 1985, \"acceleration\": 19.4, \"model_year\": 78, \"origin\": \"japan\", \"name\": \"mazda glc deluxe\"}, {\"mpg\": 39.4, \"cylinders\": 4, \"displacement\": 85.0, \"horsepower\": 70.0, \"weight\": 2070, \"acceleration\": 18.6, \"model_year\": 78, \"origin\": \"japan\", \"name\": \"datsun b210 gx\"}, {\"mpg\": 36.1, \"cylinders\": 4, \"displacement\": 91.0, \"horsepower\": 60.0, \"weight\": 1800, \"acceleration\": 16.4, \"model_year\": 78, \"origin\": \"japan\", \"name\": \"honda civic cvcc\"}, {\"mpg\": 19.9, \"cylinders\": 8, \"displacement\": 260.0, \"horsepower\": 110.0, \"weight\": 3365, \"acceleration\": 15.5, \"model_year\": 78, \"origin\": \"usa\", \"name\": \"oldsmobile cutlass salon brougham\"}, {\"mpg\": 19.4, \"cylinders\": 8, \"displacement\": 318.0, \"horsepower\": 140.0, \"weight\": 3735, \"acceleration\": 13.2, \"model_year\": 78, \"origin\": \"usa\", \"name\": \"dodge diplomat\"}, {\"mpg\": 20.2, \"cylinders\": 8, \"displacement\": 302.0, \"horsepower\": 139.0, \"weight\": 3570, \"acceleration\": 12.8, \"model_year\": 78, \"origin\": \"usa\", \"name\": \"mercury monarch ghia\"}, {\"mpg\": 19.2, \"cylinders\": 6, \"displacement\": 231.0, \"horsepower\": 105.0, \"weight\": 3535, \"acceleration\": 19.2, \"model_year\": 78, \"origin\": \"usa\", \"name\": \"pontiac phoenix lj\"}, {\"mpg\": 20.5, \"cylinders\": 6, \"displacement\": 200.0, \"horsepower\": 95.0, \"weight\": 3155, \"acceleration\": 18.2, \"model_year\": 78, \"origin\": \"usa\", \"name\": \"chevrolet malibu\"}, {\"mpg\": 20.2, \"cylinders\": 6, \"displacement\": 200.0, \"horsepower\": 85.0, \"weight\": 2965, \"acceleration\": 15.8, \"model_year\": 78, \"origin\": \"usa\", \"name\": \"ford fairmont (auto)\"}, {\"mpg\": 25.1, \"cylinders\": 4, \"displacement\": 140.0, \"horsepower\": 88.0, \"weight\": 2720, \"acceleration\": 15.4, \"model_year\": 78, \"origin\": \"usa\", \"name\": \"ford fairmont (man)\"}, {\"mpg\": 20.5, \"cylinders\": 6, \"displacement\": 225.0, \"horsepower\": 100.0, \"weight\": 3430, \"acceleration\": 17.2, \"model_year\": 78, \"origin\": \"usa\", \"name\": \"plymouth volare\"}, {\"mpg\": 19.4, \"cylinders\": 6, \"displacement\": 232.0, \"horsepower\": 90.0, \"weight\": 3210, \"acceleration\": 17.2, \"model_year\": 78, \"origin\": \"usa\", \"name\": \"amc concord\"}, {\"mpg\": 20.6, \"cylinders\": 6, \"displacement\": 231.0, \"horsepower\": 105.0, \"weight\": 3380, \"acceleration\": 15.8, \"model_year\": 78, \"origin\": \"usa\", \"name\": \"buick century special\"}, {\"mpg\": 20.8, \"cylinders\": 6, \"displacement\": 200.0, \"horsepower\": 85.0, \"weight\": 3070, \"acceleration\": 16.7, \"model_year\": 78, \"origin\": \"usa\", \"name\": \"mercury zephyr\"}, {\"mpg\": 18.6, \"cylinders\": 6, \"displacement\": 225.0, \"horsepower\": 110.0, \"weight\": 3620, \"acceleration\": 18.7, \"model_year\": 78, \"origin\": \"usa\", \"name\": \"dodge aspen\"}, {\"mpg\": 18.1, \"cylinders\": 6, \"displacement\": 258.0, \"horsepower\": 120.0, \"weight\": 3410, \"acceleration\": 15.1, \"model_year\": 78, \"origin\": \"usa\", \"name\": \"amc concord d/l\"}, {\"mpg\": 19.2, \"cylinders\": 8, \"displacement\": 305.0, \"horsepower\": 145.0, \"weight\": 3425, \"acceleration\": 13.2, \"model_year\": 78, \"origin\": \"usa\", \"name\": \"chevrolet monte carlo landau\"}, {\"mpg\": 17.7, \"cylinders\": 6, \"displacement\": 231.0, \"horsepower\": 165.0, \"weight\": 3445, \"acceleration\": 13.4, \"model_year\": 78, \"origin\": \"usa\", \"name\": \"buick regal sport coupe (turbo)\"}, {\"mpg\": 18.1, \"cylinders\": 8, \"displacement\": 302.0, \"horsepower\": 139.0, \"weight\": 3205, \"acceleration\": 11.2, \"model_year\": 78, \"origin\": \"usa\", \"name\": \"ford futura\"}, {\"mpg\": 17.5, \"cylinders\": 8, \"displacement\": 318.0, \"horsepower\": 140.0, \"weight\": 4080, \"acceleration\": 13.7, \"model_year\": 78, \"origin\": \"usa\", \"name\": \"dodge magnum xe\"}, {\"mpg\": 30.0, \"cylinders\": 4, \"displacement\": 98.0, \"horsepower\": 68.0, \"weight\": 2155, \"acceleration\": 16.5, \"model_year\": 78, \"origin\": \"usa\", \"name\": \"chevrolet chevette\"}, {\"mpg\": 27.5, \"cylinders\": 4, \"displacement\": 134.0, \"horsepower\": 95.0, \"weight\": 2560, \"acceleration\": 14.2, \"model_year\": 78, \"origin\": \"japan\", \"name\": \"toyota corona\"}, {\"mpg\": 27.2, \"cylinders\": 4, \"displacement\": 119.0, \"horsepower\": 97.0, \"weight\": 2300, \"acceleration\": 14.7, \"model_year\": 78, \"origin\": \"japan\", \"name\": \"datsun 510\"}, {\"mpg\": 30.9, \"cylinders\": 4, \"displacement\": 105.0, \"horsepower\": 75.0, \"weight\": 2230, \"acceleration\": 14.5, \"model_year\": 78, \"origin\": \"usa\", \"name\": \"dodge omni\"}, {\"mpg\": 21.1, \"cylinders\": 4, \"displacement\": 134.0, \"horsepower\": 95.0, \"weight\": 2515, \"acceleration\": 14.8, \"model_year\": 78, \"origin\": \"japan\", \"name\": \"toyota celica gt liftback\"}, {\"mpg\": 23.2, \"cylinders\": 4, \"displacement\": 156.0, \"horsepower\": 105.0, \"weight\": 2745, \"acceleration\": 16.7, \"model_year\": 78, \"origin\": \"usa\", \"name\": \"plymouth sapporo\"}, {\"mpg\": 23.8, \"cylinders\": 4, \"displacement\": 151.0, \"horsepower\": 85.0, \"weight\": 2855, \"acceleration\": 17.6, \"model_year\": 78, \"origin\": \"usa\", \"name\": \"oldsmobile starfire sx\"}, {\"mpg\": 23.9, \"cylinders\": 4, \"displacement\": 119.0, \"horsepower\": 97.0, \"weight\": 2405, \"acceleration\": 14.9, \"model_year\": 78, \"origin\": \"japan\", \"name\": \"datsun 200-sx\"}, {\"mpg\": 20.3, \"cylinders\": 5, \"displacement\": 131.0, \"horsepower\": 103.0, \"weight\": 2830, \"acceleration\": 15.9, \"model_year\": 78, \"origin\": \"europe\", \"name\": \"audi 5000\"}, {\"mpg\": 17.0, \"cylinders\": 6, \"displacement\": 163.0, \"horsepower\": 125.0, \"weight\": 3140, \"acceleration\": 13.6, \"model_year\": 78, \"origin\": \"europe\", \"name\": \"volvo 264gl\"}, {\"mpg\": 21.6, \"cylinders\": 4, \"displacement\": 121.0, \"horsepower\": 115.0, \"weight\": 2795, \"acceleration\": 15.7, \"model_year\": 78, \"origin\": \"europe\", \"name\": \"saab 99gle\"}, {\"mpg\": 16.2, \"cylinders\": 6, \"displacement\": 163.0, \"horsepower\": 133.0, \"weight\": 3410, \"acceleration\": 15.8, \"model_year\": 78, \"origin\": \"europe\", \"name\": \"peugeot 604sl\"}, {\"mpg\": 31.5, \"cylinders\": 4, \"displacement\": 89.0, \"horsepower\": 71.0, \"weight\": 1990, \"acceleration\": 14.9, \"model_year\": 78, \"origin\": \"europe\", \"name\": \"volkswagen scirocco\"}, {\"mpg\": 29.5, \"cylinders\": 4, \"displacement\": 98.0, \"horsepower\": 68.0, \"weight\": 2135, \"acceleration\": 16.6, \"model_year\": 78, \"origin\": \"japan\", \"name\": \"honda accord lx\"}, {\"mpg\": 21.5, \"cylinders\": 6, \"displacement\": 231.0, \"horsepower\": 115.0, \"weight\": 3245, \"acceleration\": 15.4, \"model_year\": 79, \"origin\": \"usa\", \"name\": \"pontiac lemans v6\"}, {\"mpg\": 19.8, \"cylinders\": 6, \"displacement\": 200.0, \"horsepower\": 85.0, \"weight\": 2990, \"acceleration\": 18.2, \"model_year\": 79, \"origin\": \"usa\", \"name\": \"mercury zephyr 6\"}, {\"mpg\": 22.3, \"cylinders\": 4, \"displacement\": 140.0, \"horsepower\": 88.0, \"weight\": 2890, \"acceleration\": 17.3, \"model_year\": 79, \"origin\": \"usa\", \"name\": \"ford fairmont 4\"}, {\"mpg\": 20.2, \"cylinders\": 6, \"displacement\": 232.0, \"horsepower\": 90.0, \"weight\": 3265, \"acceleration\": 18.2, \"model_year\": 79, \"origin\": \"usa\", \"name\": \"amc concord dl 6\"}, {\"mpg\": 20.6, \"cylinders\": 6, \"displacement\": 225.0, \"horsepower\": 110.0, \"weight\": 3360, \"acceleration\": 16.6, \"model_year\": 79, \"origin\": \"usa\", \"name\": \"dodge aspen 6\"}, {\"mpg\": 17.0, \"cylinders\": 8, \"displacement\": 305.0, \"horsepower\": 130.0, \"weight\": 3840, \"acceleration\": 15.4, \"model_year\": 79, \"origin\": \"usa\", \"name\": \"chevrolet caprice classic\"}, {\"mpg\": 17.6, \"cylinders\": 8, \"displacement\": 302.0, \"horsepower\": 129.0, \"weight\": 3725, \"acceleration\": 13.4, \"model_year\": 79, \"origin\": \"usa\", \"name\": \"ford ltd landau\"}, {\"mpg\": 16.5, \"cylinders\": 8, \"displacement\": 351.0, \"horsepower\": 138.0, \"weight\": 3955, \"acceleration\": 13.2, \"model_year\": 79, \"origin\": \"usa\", \"name\": \"mercury grand marquis\"}, {\"mpg\": 18.2, \"cylinders\": 8, \"displacement\": 318.0, \"horsepower\": 135.0, \"weight\": 3830, \"acceleration\": 15.2, \"model_year\": 79, \"origin\": \"usa\", \"name\": \"dodge st. regis\"}, {\"mpg\": 16.9, \"cylinders\": 8, \"displacement\": 350.0, \"horsepower\": 155.0, \"weight\": 4360, \"acceleration\": 14.9, \"model_year\": 79, \"origin\": \"usa\", \"name\": \"buick estate wagon (sw)\"}, {\"mpg\": 15.5, \"cylinders\": 8, \"displacement\": 351.0, \"horsepower\": 142.0, \"weight\": 4054, \"acceleration\": 14.3, \"model_year\": 79, \"origin\": \"usa\", \"name\": \"ford country squire (sw)\"}, {\"mpg\": 19.2, \"cylinders\": 8, \"displacement\": 267.0, \"horsepower\": 125.0, \"weight\": 3605, \"acceleration\": 15.0, \"model_year\": 79, \"origin\": \"usa\", \"name\": \"chevrolet malibu classic (sw)\"}, {\"mpg\": 18.5, \"cylinders\": 8, \"displacement\": 360.0, \"horsepower\": 150.0, \"weight\": 3940, \"acceleration\": 13.0, \"model_year\": 79, \"origin\": \"usa\", \"name\": \"chrysler lebaron town @ country (sw)\"}, {\"mpg\": 31.9, \"cylinders\": 4, \"displacement\": 89.0, \"horsepower\": 71.0, \"weight\": 1925, \"acceleration\": 14.0, \"model_year\": 79, \"origin\": \"europe\", \"name\": \"vw rabbit custom\"}, {\"mpg\": 34.1, \"cylinders\": 4, \"displacement\": 86.0, \"horsepower\": 65.0, \"weight\": 1975, \"acceleration\": 15.2, \"model_year\": 79, \"origin\": \"japan\", \"name\": \"maxda glc deluxe\"}, {\"mpg\": 35.7, \"cylinders\": 4, \"displacement\": 98.0, \"horsepower\": 80.0, \"weight\": 1915, \"acceleration\": 14.4, \"model_year\": 79, \"origin\": \"usa\", \"name\": \"dodge colt hatchback custom\"}, {\"mpg\": 27.4, \"cylinders\": 4, \"displacement\": 121.0, \"horsepower\": 80.0, \"weight\": 2670, \"acceleration\": 15.0, \"model_year\": 79, \"origin\": \"usa\", \"name\": \"amc spirit dl\"}, {\"mpg\": 25.4, \"cylinders\": 5, \"displacement\": 183.0, \"horsepower\": 77.0, \"weight\": 3530, \"acceleration\": 20.1, \"model_year\": 79, \"origin\": \"europe\", \"name\": \"mercedes benz 300d\"}, {\"mpg\": 23.0, \"cylinders\": 8, \"displacement\": 350.0, \"horsepower\": 125.0, \"weight\": 3900, \"acceleration\": 17.4, \"model_year\": 79, \"origin\": \"usa\", \"name\": \"cadillac eldorado\"}, {\"mpg\": 27.2, \"cylinders\": 4, \"displacement\": 141.0, \"horsepower\": 71.0, \"weight\": 3190, \"acceleration\": 24.8, \"model_year\": 79, \"origin\": \"europe\", \"name\": \"peugeot 504\"}, {\"mpg\": 23.9, \"cylinders\": 8, \"displacement\": 260.0, \"horsepower\": 90.0, \"weight\": 3420, \"acceleration\": 22.2, \"model_year\": 79, \"origin\": \"usa\", \"name\": \"oldsmobile cutlass salon brougham\"}, {\"mpg\": 34.2, \"cylinders\": 4, \"displacement\": 105.0, \"horsepower\": 70.0, \"weight\": 2200, \"acceleration\": 13.2, \"model_year\": 79, \"origin\": \"usa\", \"name\": \"plymouth horizon\"}, {\"mpg\": 34.5, \"cylinders\": 4, \"displacement\": 105.0, \"horsepower\": 70.0, \"weight\": 2150, \"acceleration\": 14.9, \"model_year\": 79, \"origin\": \"usa\", \"name\": \"plymouth horizon tc3\"}, {\"mpg\": 31.8, \"cylinders\": 4, \"displacement\": 85.0, \"horsepower\": 65.0, \"weight\": 2020, \"acceleration\": 19.2, \"model_year\": 79, \"origin\": \"japan\", \"name\": \"datsun 210\"}, {\"mpg\": 37.3, \"cylinders\": 4, \"displacement\": 91.0, \"horsepower\": 69.0, \"weight\": 2130, \"acceleration\": 14.7, \"model_year\": 79, \"origin\": \"europe\", \"name\": \"fiat strada custom\"}, {\"mpg\": 28.4, \"cylinders\": 4, \"displacement\": 151.0, \"horsepower\": 90.0, \"weight\": 2670, \"acceleration\": 16.0, \"model_year\": 79, \"origin\": \"usa\", \"name\": \"buick skylark limited\"}, {\"mpg\": 28.8, \"cylinders\": 6, \"displacement\": 173.0, \"horsepower\": 115.0, \"weight\": 2595, \"acceleration\": 11.3, \"model_year\": 79, \"origin\": \"usa\", \"name\": \"chevrolet citation\"}, {\"mpg\": 26.8, \"cylinders\": 6, \"displacement\": 173.0, \"horsepower\": 115.0, \"weight\": 2700, \"acceleration\": 12.9, \"model_year\": 79, \"origin\": \"usa\", \"name\": \"oldsmobile omega brougham\"}, {\"mpg\": 33.5, \"cylinders\": 4, \"displacement\": 151.0, \"horsepower\": 90.0, \"weight\": 2556, \"acceleration\": 13.2, \"model_year\": 79, \"origin\": \"usa\", \"name\": \"pontiac phoenix\"}, {\"mpg\": 41.5, \"cylinders\": 4, \"displacement\": 98.0, \"horsepower\": 76.0, \"weight\": 2144, \"acceleration\": 14.7, \"model_year\": 80, \"origin\": \"europe\", \"name\": \"vw rabbit\"}, {\"mpg\": 38.1, \"cylinders\": 4, \"displacement\": 89.0, \"horsepower\": 60.0, \"weight\": 1968, \"acceleration\": 18.8, \"model_year\": 80, \"origin\": \"japan\", \"name\": \"toyota corolla tercel\"}, {\"mpg\": 32.1, \"cylinders\": 4, \"displacement\": 98.0, \"horsepower\": 70.0, \"weight\": 2120, \"acceleration\": 15.5, \"model_year\": 80, \"origin\": \"usa\", \"name\": \"chevrolet chevette\"}, {\"mpg\": 37.2, \"cylinders\": 4, \"displacement\": 86.0, \"horsepower\": 65.0, \"weight\": 2019, \"acceleration\": 16.4, \"model_year\": 80, \"origin\": \"japan\", \"name\": \"datsun 310\"}, {\"mpg\": 28.0, \"cylinders\": 4, \"displacement\": 151.0, \"horsepower\": 90.0, \"weight\": 2678, \"acceleration\": 16.5, \"model_year\": 80, \"origin\": \"usa\", \"name\": \"chevrolet citation\"}, {\"mpg\": 26.4, \"cylinders\": 4, \"displacement\": 140.0, \"horsepower\": 88.0, \"weight\": 2870, \"acceleration\": 18.1, \"model_year\": 80, \"origin\": \"usa\", \"name\": \"ford fairmont\"}, {\"mpg\": 24.3, \"cylinders\": 4, \"displacement\": 151.0, \"horsepower\": 90.0, \"weight\": 3003, \"acceleration\": 20.1, \"model_year\": 80, \"origin\": \"usa\", \"name\": \"amc concord\"}, {\"mpg\": 19.1, \"cylinders\": 6, \"displacement\": 225.0, \"horsepower\": 90.0, \"weight\": 3381, \"acceleration\": 18.7, \"model_year\": 80, \"origin\": \"usa\", \"name\": \"dodge aspen\"}, {\"mpg\": 34.3, \"cylinders\": 4, \"displacement\": 97.0, \"horsepower\": 78.0, \"weight\": 2188, \"acceleration\": 15.8, \"model_year\": 80, \"origin\": \"europe\", \"name\": \"audi 4000\"}, {\"mpg\": 29.8, \"cylinders\": 4, \"displacement\": 134.0, \"horsepower\": 90.0, \"weight\": 2711, \"acceleration\": 15.5, \"model_year\": 80, \"origin\": \"japan\", \"name\": \"toyota corona liftback\"}, {\"mpg\": 31.3, \"cylinders\": 4, \"displacement\": 120.0, \"horsepower\": 75.0, \"weight\": 2542, \"acceleration\": 17.5, \"model_year\": 80, \"origin\": \"japan\", \"name\": \"mazda 626\"}, {\"mpg\": 37.0, \"cylinders\": 4, \"displacement\": 119.0, \"horsepower\": 92.0, \"weight\": 2434, \"acceleration\": 15.0, \"model_year\": 80, \"origin\": \"japan\", \"name\": \"datsun 510 hatchback\"}, {\"mpg\": 32.2, \"cylinders\": 4, \"displacement\": 108.0, \"horsepower\": 75.0, \"weight\": 2265, \"acceleration\": 15.2, \"model_year\": 80, \"origin\": \"japan\", \"name\": \"toyota corolla\"}, {\"mpg\": 46.6, \"cylinders\": 4, \"displacement\": 86.0, \"horsepower\": 65.0, \"weight\": 2110, \"acceleration\": 17.9, \"model_year\": 80, \"origin\": \"japan\", \"name\": \"mazda glc\"}, {\"mpg\": 27.9, \"cylinders\": 4, \"displacement\": 156.0, \"horsepower\": 105.0, \"weight\": 2800, \"acceleration\": 14.4, \"model_year\": 80, \"origin\": \"usa\", \"name\": \"dodge colt\"}, {\"mpg\": 40.8, \"cylinders\": 4, \"displacement\": 85.0, \"horsepower\": 65.0, \"weight\": 2110, \"acceleration\": 19.2, \"model_year\": 80, \"origin\": \"japan\", \"name\": \"datsun 210\"}, {\"mpg\": 44.3, \"cylinders\": 4, \"displacement\": 90.0, \"horsepower\": 48.0, \"weight\": 2085, \"acceleration\": 21.7, \"model_year\": 80, \"origin\": \"europe\", \"name\": \"vw rabbit c (diesel)\"}, {\"mpg\": 43.4, \"cylinders\": 4, \"displacement\": 90.0, \"horsepower\": 48.0, \"weight\": 2335, \"acceleration\": 23.7, \"model_year\": 80, \"origin\": \"europe\", \"name\": \"vw dasher (diesel)\"}, {\"mpg\": 36.4, \"cylinders\": 5, \"displacement\": 121.0, \"horsepower\": 67.0, \"weight\": 2950, \"acceleration\": 19.9, \"model_year\": 80, \"origin\": \"europe\", \"name\": \"audi 5000s (diesel)\"}, {\"mpg\": 30.0, \"cylinders\": 4, \"displacement\": 146.0, \"horsepower\": 67.0, \"weight\": 3250, \"acceleration\": 21.8, \"model_year\": 80, \"origin\": \"europe\", \"name\": \"mercedes-benz 240d\"}, {\"mpg\": 44.6, \"cylinders\": 4, \"displacement\": 91.0, \"horsepower\": 67.0, \"weight\": 1850, \"acceleration\": 13.8, \"model_year\": 80, \"origin\": \"japan\", \"name\": \"honda civic 1500 gl\"}, {\"mpg\": 33.8, \"cylinders\": 4, \"displacement\": 97.0, \"horsepower\": 67.0, \"weight\": 2145, \"acceleration\": 18.0, \"model_year\": 80, \"origin\": \"japan\", \"name\": \"subaru dl\"}, {\"mpg\": 29.8, \"cylinders\": 4, \"displacement\": 89.0, \"horsepower\": 62.0, \"weight\": 1845, \"acceleration\": 15.3, \"model_year\": 80, \"origin\": \"europe\", \"name\": \"vokswagen rabbit\"}, {\"mpg\": 32.7, \"cylinders\": 6, \"displacement\": 168.0, \"horsepower\": 132.0, \"weight\": 2910, \"acceleration\": 11.4, \"model_year\": 80, \"origin\": \"japan\", \"name\": \"datsun 280-zx\"}, {\"mpg\": 23.7, \"cylinders\": 3, \"displacement\": 70.0, \"horsepower\": 100.0, \"weight\": 2420, \"acceleration\": 12.5, \"model_year\": 80, \"origin\": \"japan\", \"name\": \"mazda rx-7 gs\"}, {\"mpg\": 35.0, \"cylinders\": 4, \"displacement\": 122.0, \"horsepower\": 88.0, \"weight\": 2500, \"acceleration\": 15.1, \"model_year\": 80, \"origin\": \"europe\", \"name\": \"triumph tr7 coupe\"}, {\"mpg\": 32.4, \"cylinders\": 4, \"displacement\": 107.0, \"horsepower\": 72.0, \"weight\": 2290, \"acceleration\": 17.0, \"model_year\": 80, \"origin\": \"japan\", \"name\": \"honda accord\"}, {\"mpg\": 27.2, \"cylinders\": 4, \"displacement\": 135.0, \"horsepower\": 84.0, \"weight\": 2490, \"acceleration\": 15.7, \"model_year\": 81, \"origin\": \"usa\", \"name\": \"plymouth reliant\"}, {\"mpg\": 26.6, \"cylinders\": 4, \"displacement\": 151.0, \"horsepower\": 84.0, \"weight\": 2635, \"acceleration\": 16.4, \"model_year\": 81, \"origin\": \"usa\", \"name\": \"buick skylark\"}, {\"mpg\": 25.8, \"cylinders\": 4, \"displacement\": 156.0, \"horsepower\": 92.0, \"weight\": 2620, \"acceleration\": 14.4, \"model_year\": 81, \"origin\": \"usa\", \"name\": \"dodge aries wagon (sw)\"}, {\"mpg\": 23.5, \"cylinders\": 6, \"displacement\": 173.0, \"horsepower\": 110.0, \"weight\": 2725, \"acceleration\": 12.6, \"model_year\": 81, \"origin\": \"usa\", \"name\": \"chevrolet citation\"}, {\"mpg\": 30.0, \"cylinders\": 4, \"displacement\": 135.0, \"horsepower\": 84.0, \"weight\": 2385, \"acceleration\": 12.9, \"model_year\": 81, \"origin\": \"usa\", \"name\": \"plymouth reliant\"}, {\"mpg\": 39.1, \"cylinders\": 4, \"displacement\": 79.0, \"horsepower\": 58.0, \"weight\": 1755, \"acceleration\": 16.9, \"model_year\": 81, \"origin\": \"japan\", \"name\": \"toyota starlet\"}, {\"mpg\": 39.0, \"cylinders\": 4, \"displacement\": 86.0, \"horsepower\": 64.0, \"weight\": 1875, \"acceleration\": 16.4, \"model_year\": 81, \"origin\": \"usa\", \"name\": \"plymouth champ\"}, {\"mpg\": 35.1, \"cylinders\": 4, \"displacement\": 81.0, \"horsepower\": 60.0, \"weight\": 1760, \"acceleration\": 16.1, \"model_year\": 81, \"origin\": \"japan\", \"name\": \"honda civic 1300\"}, {\"mpg\": 32.3, \"cylinders\": 4, \"displacement\": 97.0, \"horsepower\": 67.0, \"weight\": 2065, \"acceleration\": 17.8, \"model_year\": 81, \"origin\": \"japan\", \"name\": \"subaru\"}, {\"mpg\": 37.0, \"cylinders\": 4, \"displacement\": 85.0, \"horsepower\": 65.0, \"weight\": 1975, \"acceleration\": 19.4, \"model_year\": 81, \"origin\": \"japan\", \"name\": \"datsun 210 mpg\"}, {\"mpg\": 37.7, \"cylinders\": 4, \"displacement\": 89.0, \"horsepower\": 62.0, \"weight\": 2050, \"acceleration\": 17.3, \"model_year\": 81, \"origin\": \"japan\", \"name\": \"toyota tercel\"}, {\"mpg\": 34.1, \"cylinders\": 4, \"displacement\": 91.0, \"horsepower\": 68.0, \"weight\": 1985, \"acceleration\": 16.0, \"model_year\": 81, \"origin\": \"japan\", \"name\": \"mazda glc 4\"}, {\"mpg\": 34.7, \"cylinders\": 4, \"displacement\": 105.0, \"horsepower\": 63.0, \"weight\": 2215, \"acceleration\": 14.9, \"model_year\": 81, \"origin\": \"usa\", \"name\": \"plymouth horizon 4\"}, {\"mpg\": 34.4, \"cylinders\": 4, \"displacement\": 98.0, \"horsepower\": 65.0, \"weight\": 2045, \"acceleration\": 16.2, \"model_year\": 81, \"origin\": \"usa\", \"name\": \"ford escort 4w\"}, {\"mpg\": 29.9, \"cylinders\": 4, \"displacement\": 98.0, \"horsepower\": 65.0, \"weight\": 2380, \"acceleration\": 20.7, \"model_year\": 81, \"origin\": \"usa\", \"name\": \"ford escort 2h\"}, {\"mpg\": 33.0, \"cylinders\": 4, \"displacement\": 105.0, \"horsepower\": 74.0, \"weight\": 2190, \"acceleration\": 14.2, \"model_year\": 81, \"origin\": \"europe\", \"name\": \"volkswagen jetta\"}, {\"mpg\": 33.7, \"cylinders\": 4, \"displacement\": 107.0, \"horsepower\": 75.0, \"weight\": 2210, \"acceleration\": 14.4, \"model_year\": 81, \"origin\": \"japan\", \"name\": \"honda prelude\"}, {\"mpg\": 32.4, \"cylinders\": 4, \"displacement\": 108.0, \"horsepower\": 75.0, \"weight\": 2350, \"acceleration\": 16.8, \"model_year\": 81, \"origin\": \"japan\", \"name\": \"toyota corolla\"}, {\"mpg\": 32.9, \"cylinders\": 4, \"displacement\": 119.0, \"horsepower\": 100.0, \"weight\": 2615, \"acceleration\": 14.8, \"model_year\": 81, \"origin\": \"japan\", \"name\": \"datsun 200sx\"}, {\"mpg\": 31.6, \"cylinders\": 4, \"displacement\": 120.0, \"horsepower\": 74.0, \"weight\": 2635, \"acceleration\": 18.3, \"model_year\": 81, \"origin\": \"japan\", \"name\": \"mazda 626\"}, {\"mpg\": 28.1, \"cylinders\": 4, \"displacement\": 141.0, \"horsepower\": 80.0, \"weight\": 3230, \"acceleration\": 20.4, \"model_year\": 81, \"origin\": \"europe\", \"name\": \"peugeot 505s turbo diesel\"}, {\"mpg\": 30.7, \"cylinders\": 6, \"displacement\": 145.0, \"horsepower\": 76.0, \"weight\": 3160, \"acceleration\": 19.6, \"model_year\": 81, \"origin\": \"europe\", \"name\": \"volvo diesel\"}, {\"mpg\": 25.4, \"cylinders\": 6, \"displacement\": 168.0, \"horsepower\": 116.0, \"weight\": 2900, \"acceleration\": 12.6, \"model_year\": 81, \"origin\": \"japan\", \"name\": \"toyota cressida\"}, {\"mpg\": 24.2, \"cylinders\": 6, \"displacement\": 146.0, \"horsepower\": 120.0, \"weight\": 2930, \"acceleration\": 13.8, \"model_year\": 81, \"origin\": \"japan\", \"name\": \"datsun 810 maxima\"}, {\"mpg\": 22.4, \"cylinders\": 6, \"displacement\": 231.0, \"horsepower\": 110.0, \"weight\": 3415, \"acceleration\": 15.8, \"model_year\": 81, \"origin\": \"usa\", \"name\": \"buick century\"}, {\"mpg\": 26.6, \"cylinders\": 8, \"displacement\": 350.0, \"horsepower\": 105.0, \"weight\": 3725, \"acceleration\": 19.0, \"model_year\": 81, \"origin\": \"usa\", \"name\": \"oldsmobile cutlass ls\"}, {\"mpg\": 20.2, \"cylinders\": 6, \"displacement\": 200.0, \"horsepower\": 88.0, \"weight\": 3060, \"acceleration\": 17.1, \"model_year\": 81, \"origin\": \"usa\", \"name\": \"ford granada gl\"}, {\"mpg\": 17.6, \"cylinders\": 6, \"displacement\": 225.0, \"horsepower\": 85.0, \"weight\": 3465, \"acceleration\": 16.6, \"model_year\": 81, \"origin\": \"usa\", \"name\": \"chrysler lebaron salon\"}, {\"mpg\": 28.0, \"cylinders\": 4, \"displacement\": 112.0, \"horsepower\": 88.0, \"weight\": 2605, \"acceleration\": 19.6, \"model_year\": 82, \"origin\": \"usa\", \"name\": \"chevrolet cavalier\"}, {\"mpg\": 27.0, \"cylinders\": 4, \"displacement\": 112.0, \"horsepower\": 88.0, \"weight\": 2640, \"acceleration\": 18.6, \"model_year\": 82, \"origin\": \"usa\", \"name\": \"chevrolet cavalier wagon\"}, {\"mpg\": 34.0, \"cylinders\": 4, \"displacement\": 112.0, \"horsepower\": 88.0, \"weight\": 2395, \"acceleration\": 18.0, \"model_year\": 82, \"origin\": \"usa\", \"name\": \"chevrolet cavalier 2-door\"}, {\"mpg\": 31.0, \"cylinders\": 4, \"displacement\": 112.0, \"horsepower\": 85.0, \"weight\": 2575, \"acceleration\": 16.2, \"model_year\": 82, \"origin\": \"usa\", \"name\": \"pontiac j2000 se hatchback\"}, {\"mpg\": 29.0, \"cylinders\": 4, \"displacement\": 135.0, \"horsepower\": 84.0, \"weight\": 2525, \"acceleration\": 16.0, \"model_year\": 82, \"origin\": \"usa\", \"name\": \"dodge aries se\"}, {\"mpg\": 27.0, \"cylinders\": 4, \"displacement\": 151.0, \"horsepower\": 90.0, \"weight\": 2735, \"acceleration\": 18.0, \"model_year\": 82, \"origin\": \"usa\", \"name\": \"pontiac phoenix\"}, {\"mpg\": 24.0, \"cylinders\": 4, \"displacement\": 140.0, \"horsepower\": 92.0, \"weight\": 2865, \"acceleration\": 16.4, \"model_year\": 82, \"origin\": \"usa\", \"name\": \"ford fairmont futura\"}, {\"mpg\": 36.0, \"cylinders\": 4, \"displacement\": 105.0, \"horsepower\": 74.0, \"weight\": 1980, \"acceleration\": 15.3, \"model_year\": 82, \"origin\": \"europe\", \"name\": \"volkswagen rabbit l\"}, {\"mpg\": 37.0, \"cylinders\": 4, \"displacement\": 91.0, \"horsepower\": 68.0, \"weight\": 2025, \"acceleration\": 18.2, \"model_year\": 82, \"origin\": \"japan\", \"name\": \"mazda glc custom l\"}, {\"mpg\": 31.0, \"cylinders\": 4, \"displacement\": 91.0, \"horsepower\": 68.0, \"weight\": 1970, \"acceleration\": 17.6, \"model_year\": 82, \"origin\": \"japan\", \"name\": \"mazda glc custom\"}, {\"mpg\": 38.0, \"cylinders\": 4, \"displacement\": 105.0, \"horsepower\": 63.0, \"weight\": 2125, \"acceleration\": 14.7, \"model_year\": 82, \"origin\": \"usa\", \"name\": \"plymouth horizon miser\"}, {\"mpg\": 36.0, \"cylinders\": 4, \"displacement\": 98.0, \"horsepower\": 70.0, \"weight\": 2125, \"acceleration\": 17.3, \"model_year\": 82, \"origin\": \"usa\", \"name\": \"mercury lynx l\"}, {\"mpg\": 36.0, \"cylinders\": 4, \"displacement\": 120.0, \"horsepower\": 88.0, \"weight\": 2160, \"acceleration\": 14.5, \"model_year\": 82, \"origin\": \"japan\", \"name\": \"nissan stanza xe\"}, {\"mpg\": 36.0, \"cylinders\": 4, \"displacement\": 107.0, \"horsepower\": 75.0, \"weight\": 2205, \"acceleration\": 14.5, \"model_year\": 82, \"origin\": \"japan\", \"name\": \"honda accord\"}, {\"mpg\": 34.0, \"cylinders\": 4, \"displacement\": 108.0, \"horsepower\": 70.0, \"weight\": 2245, \"acceleration\": 16.9, \"model_year\": 82, \"origin\": \"japan\", \"name\": \"toyota corolla\"}, {\"mpg\": 38.0, \"cylinders\": 4, \"displacement\": 91.0, \"horsepower\": 67.0, \"weight\": 1965, \"acceleration\": 15.0, \"model_year\": 82, \"origin\": \"japan\", \"name\": \"honda civic\"}, {\"mpg\": 32.0, \"cylinders\": 4, \"displacement\": 91.0, \"horsepower\": 67.0, \"weight\": 1965, \"acceleration\": 15.7, \"model_year\": 82, \"origin\": \"japan\", \"name\": \"honda civic (auto)\"}, {\"mpg\": 38.0, \"cylinders\": 4, \"displacement\": 91.0, \"horsepower\": 67.0, \"weight\": 1995, \"acceleration\": 16.2, \"model_year\": 82, \"origin\": \"japan\", \"name\": \"datsun 310 gx\"}, {\"mpg\": 25.0, \"cylinders\": 6, \"displacement\": 181.0, \"horsepower\": 110.0, \"weight\": 2945, \"acceleration\": 16.4, \"model_year\": 82, \"origin\": \"usa\", \"name\": \"buick century limited\"}, {\"mpg\": 38.0, \"cylinders\": 6, \"displacement\": 262.0, \"horsepower\": 85.0, \"weight\": 3015, \"acceleration\": 17.0, \"model_year\": 82, \"origin\": \"usa\", \"name\": \"oldsmobile cutlass ciera (diesel)\"}, {\"mpg\": 26.0, \"cylinders\": 4, \"displacement\": 156.0, \"horsepower\": 92.0, \"weight\": 2585, \"acceleration\": 14.5, \"model_year\": 82, \"origin\": \"usa\", \"name\": \"chrysler lebaron medallion\"}, {\"mpg\": 22.0, \"cylinders\": 6, \"displacement\": 232.0, \"horsepower\": 112.0, \"weight\": 2835, \"acceleration\": 14.7, \"model_year\": 82, \"origin\": \"usa\", \"name\": \"ford granada l\"}, {\"mpg\": 32.0, \"cylinders\": 4, \"displacement\": 144.0, \"horsepower\": 96.0, \"weight\": 2665, \"acceleration\": 13.9, \"model_year\": 82, \"origin\": \"japan\", \"name\": \"toyota celica gt\"}, {\"mpg\": 36.0, \"cylinders\": 4, \"displacement\": 135.0, \"horsepower\": 84.0, \"weight\": 2370, \"acceleration\": 13.0, \"model_year\": 82, \"origin\": \"usa\", \"name\": \"dodge charger 2.2\"}, {\"mpg\": 27.0, \"cylinders\": 4, \"displacement\": 151.0, \"horsepower\": 90.0, \"weight\": 2950, \"acceleration\": 17.3, \"model_year\": 82, \"origin\": \"usa\", \"name\": \"chevrolet camaro\"}, {\"mpg\": 27.0, \"cylinders\": 4, \"displacement\": 140.0, \"horsepower\": 86.0, \"weight\": 2790, \"acceleration\": 15.6, \"model_year\": 82, \"origin\": \"usa\", \"name\": \"ford mustang gl\"}, {\"mpg\": 44.0, \"cylinders\": 4, \"displacement\": 97.0, \"horsepower\": 52.0, \"weight\": 2130, \"acceleration\": 24.6, \"model_year\": 82, \"origin\": \"europe\", \"name\": \"vw pickup\"}, {\"mpg\": 32.0, \"cylinders\": 4, \"displacement\": 135.0, \"horsepower\": 84.0, \"weight\": 2295, \"acceleration\": 11.6, \"model_year\": 82, \"origin\": \"usa\", \"name\": \"dodge rampage\"}, {\"mpg\": 28.0, \"cylinders\": 4, \"displacement\": 120.0, \"horsepower\": 79.0, \"weight\": 2625, \"acceleration\": 18.6, \"model_year\": 82, \"origin\": \"usa\", \"name\": \"ford ranger\"}, {\"mpg\": 31.0, \"cylinders\": 4, \"displacement\": 119.0, \"horsepower\": 82.0, \"weight\": 2720, \"acceleration\": 19.4, \"model_year\": 82, \"origin\": \"usa\", \"name\": \"chevy s-10\"}]}}, {\"mode\": \"vega-lite\"});\n",
       "</script>"
      ],
      "text/plain": [
       "alt.LayerChart(...)"
      ]
     },
     "execution_count": 3,
     "metadata": {},
     "output_type": "execute_result"
    }
   ],
   "source": [
    "c = alt.Chart(df).mark_circle().encode(\n",
    "    x=\"horsepower\",\n",
    "    y=\"mpg\",\n",
    "    color=\"origin\"\n",
    ")\n",
    "\n",
    "c1 = alt.Chart(df).mark_line(color=\"black\", size=3).encode(\n",
    "    x=\"horsepower\",\n",
    "    y=alt.datum(df[\"mpg\"].mean())\n",
    ")\n",
    "\n",
    "c+c1"
   ]
  },
  {
   "cell_type": "markdown",
   "metadata": {
    "cell_id": "7cb73e74cca54cb48af44f918d3984e8",
    "deepnote_cell_type": "markdown",
    "tags": []
   },
   "source": [
    "## Warning: Don't misuse polynomial regression\n",
    "\n",
    "For some reason, unreasonable cubic models often get shared in the media.  The cubic polynomial that \"fits best\" can be interesting to look at, but don't expect it to provide accurate predictions in the future.  (This is a symptom of *overfitting*, which is a key concept in Machine Learning that we will return to soon.)\n",
    "\n",
    "In the following, from May 2020, if we trusted the linear fit, we would expect Covid deaths to grow without bound at a constant rate forever.  If we trusted the cubic fit, we would expect Covid deaths to hit zero (and in fact to become negative) by mid-May."
   ]
  },
  {
   "cell_type": "markdown",
   "metadata": {
    "cell_id": "b5cbaec191414f998ba4e8467bf93654",
    "deepnote_cell_type": "markdown",
    "tags": []
   },
   "source": [
    "![Cubic fit to Covid data](../images/Cubic2.png)"
   ]
  },
  {
   "cell_type": "markdown",
   "metadata": {},
   "source": [
    "The following is another example of a cubic fit.  To my eyes, when I look at this data, I do not see anything resemblance to the shown cubic polynomial.  That cubic polynomial is probably the \"best\" cubic polynomial for this data, but I do not think it is a reasonable model for this data (meaning I don't think any cubic polynomial would model this data well)."
   ]
  },
  {
   "cell_type": "markdown",
   "metadata": {
    "cell_id": "71b5d34d95e3487d8c158b4d67006653",
    "deepnote_cell_type": "markdown",
    "tags": []
   },
   "source": [
    "![Cubic fit to supreme court confirmation votes](../images/Cubic.png)"
   ]
  }
 ],
 "metadata": {
  "deepnote": {},
  "deepnote_execution_queue": [],
  "deepnote_notebook_id": "6dc4b862d39142c79c7e805344b1e21a",
  "deepnote_persisted_session": {
   "createdAt": "2022-11-09T05:30:34.086Z"
  },
  "kernelspec": {
   "display_name": "Python 3 (ipykernel)",
   "language": "python",
   "name": "python3"
  },
  "language_info": {
   "codemirror_mode": {
    "name": "ipython",
    "version": 3
   },
   "file_extension": ".py",
   "mimetype": "text/x-python",
   "name": "python",
   "nbconvert_exporter": "python",
   "pygments_lexer": "ipython3",
   "version": "3.9.13"
  }
 },
 "nbformat": 4,
 "nbformat_minor": 4
}
