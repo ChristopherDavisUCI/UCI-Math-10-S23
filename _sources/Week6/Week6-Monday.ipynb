{
 "cells": [
  {
   "cell_type": "markdown",
   "metadata": {
    "cell_id": "bf0cb39dffdd4972ae23cfbf2d0073df",
    "deepnote_cell_type": "markdown"
   },
   "source": [
    "# Week 6 Monday\n",
    "\n",
    "## Announcements\n",
    "\n",
    "* Quiz tomorrow is based on Worksheets 9-10.\n",
    "\n",
    "* I think the midterm is going to be returned Tuesday in discussion.  See any clear mistakes in the grading?  Leave the exam with Jinghao and write a note to me on or with the midterm.\n",
    "\n",
    "* I'm going to try the same schedule as Friday:\n",
    "\n",
    "A. 15-20 minutes lecture (performance measures for regression)\n",
    "B. 10-15 minutes time for worksheets (two worksheets due tomorrow, a new worksheet posted today).  Maya and I are here to answer questions.\n",
    "C. 15-20 minutes lecture (polynomial regression, continuation from Friday)"
   ]
  },
  {
   "cell_type": "code",
   "execution_count": 1,
   "metadata": {
    "cell_id": "1bacebf6225846ad8a18fb2d6a107348",
    "deepnote_cell_type": "code",
    "deepnote_to_be_reexecuted": false,
    "execution_millis": 227,
    "execution_start": 1683575851924,
    "source_hash": "7baafd37"
   },
   "outputs": [],
   "source": [
    "import numpy as np\n",
    "import pandas as pd\n",
    "import altair as alt"
   ]
  },
  {
   "cell_type": "markdown",
   "metadata": {
    "cell_id": "250c7e247e934efab436fc88b1d5a793",
    "deepnote_cell_type": "markdown"
   },
   "source": [
    "## Performance measures for regression\n",
    "\n",
    "Here is a dataset with only 4 data points."
   ]
  },
  {
   "cell_type": "code",
   "execution_count": 2,
   "metadata": {
    "cell_id": "d2f101a9e96549f7a3254aabe0b6c00c",
    "deepnote_cell_type": "code",
    "deepnote_to_be_reexecuted": false,
    "execution_millis": 53,
    "execution_start": 1683576244294,
    "source_hash": "87a29a5d"
   },
   "outputs": [
    {
     "data": {
      "application/vnd.deepnote.dataframe.v3+json": {
       "column_count": 2,
       "columns": [
        {
         "dtype": "int64",
         "name": "x",
         "stats": {
          "histogram": [
           {
            "bin_end": 0.3,
            "bin_start": 0,
            "count": 1
           },
           {
            "bin_end": 0.6,
            "bin_start": 0.3,
            "count": 0
           },
           {
            "bin_end": 0.8999999999999999,
            "bin_start": 0.6,
            "count": 0
           },
           {
            "bin_end": 1.2,
            "bin_start": 0.8999999999999999,
            "count": 1
           },
           {
            "bin_end": 1.5,
            "bin_start": 1.2,
            "count": 0
           },
           {
            "bin_end": 1.7999999999999998,
            "bin_start": 1.5,
            "count": 0
           },
           {
            "bin_end": 2.1,
            "bin_start": 1.7999999999999998,
            "count": 1
           },
           {
            "bin_end": 2.4,
            "bin_start": 2.1,
            "count": 0
           },
           {
            "bin_end": 2.6999999999999997,
            "bin_start": 2.4,
            "count": 0
           },
           {
            "bin_end": 3,
            "bin_start": 2.6999999999999997,
            "count": 1
           }
          ],
          "max": "3",
          "min": "0",
          "nan_count": 0,
          "unique_count": 4
         }
        },
        {
         "dtype": "int64",
         "name": "y",
         "stats": {
          "histogram": [
           {
            "bin_end": -8.4,
            "bin_start": -10,
            "count": 1
           },
           {
            "bin_end": -6.8,
            "bin_start": -8.4,
            "count": 0
           },
           {
            "bin_end": -5.199999999999999,
            "bin_start": -6.8,
            "count": 0
           },
           {
            "bin_end": -3.5999999999999996,
            "bin_start": -5.199999999999999,
            "count": 0
           },
           {
            "bin_end": -2,
            "bin_start": -3.5999999999999996,
            "count": 0
           },
           {
            "bin_end": -0.3999999999999986,
            "bin_start": -2,
            "count": 0
           },
           {
            "bin_end": 1.200000000000001,
            "bin_start": -0.3999999999999986,
            "count": 1
           },
           {
            "bin_end": 2.8000000000000007,
            "bin_start": 1.200000000000001,
            "count": 1
           },
           {
            "bin_end": 4.4,
            "bin_start": 2.8000000000000007,
            "count": 0
           },
           {
            "bin_end": 6,
            "bin_start": 4.4,
            "count": 1
           }
          ],
          "max": "6",
          "min": "-10",
          "nan_count": 0,
          "unique_count": 4
         }
        },
        {
         "dtype": "int64",
         "name": "_deepnote_index_column"
        }
       ],
       "row_count": 4,
       "rows": [
        {
         "_deepnote_index_column": "0",
         "x": "0",
         "y": "0"
        },
        {
         "_deepnote_index_column": "1",
         "x": "1",
         "y": "2"
        },
        {
         "_deepnote_index_column": "2",
         "x": "2",
         "y": "-10"
        },
        {
         "_deepnote_index_column": "3",
         "x": "3",
         "y": "6"
        }
       ]
      },
      "text/html": [
       "<div>\n",
       "<style scoped>\n",
       "    .dataframe tbody tr th:only-of-type {\n",
       "        vertical-align: middle;\n",
       "    }\n",
       "\n",
       "    .dataframe tbody tr th {\n",
       "        vertical-align: top;\n",
       "    }\n",
       "\n",
       "    .dataframe thead th {\n",
       "        text-align: right;\n",
       "    }\n",
       "</style>\n",
       "<table border=\"1\" class=\"dataframe\">\n",
       "  <thead>\n",
       "    <tr style=\"text-align: right;\">\n",
       "      <th></th>\n",
       "      <th>x</th>\n",
       "      <th>y</th>\n",
       "    </tr>\n",
       "  </thead>\n",
       "  <tbody>\n",
       "    <tr>\n",
       "      <th>0</th>\n",
       "      <td>0</td>\n",
       "      <td>0</td>\n",
       "    </tr>\n",
       "    <tr>\n",
       "      <th>1</th>\n",
       "      <td>1</td>\n",
       "      <td>2</td>\n",
       "    </tr>\n",
       "    <tr>\n",
       "      <th>2</th>\n",
       "      <td>2</td>\n",
       "      <td>-10</td>\n",
       "    </tr>\n",
       "    <tr>\n",
       "      <th>3</th>\n",
       "      <td>3</td>\n",
       "      <td>6</td>\n",
       "    </tr>\n",
       "  </tbody>\n",
       "</table>\n",
       "</div>"
      ],
      "text/plain": [
       "   x   y\n",
       "0  0   0\n",
       "1  1   2\n",
       "2  2 -10\n",
       "3  3   6"
      ]
     },
     "execution_count": 2,
     "metadata": {},
     "output_type": "execute_result"
    }
   ],
   "source": [
    "df = pd.DataFrame({\n",
    "    \"x\":np.arange(4),\n",
    "    \"y\":[0,2,-10,6]},\n",
    ")\n",
    "\n",
    "df"
   ]
  },
  {
   "cell_type": "markdown",
   "metadata": {},
   "source": [
    "Here is how the data looks."
   ]
  },
  {
   "cell_type": "code",
   "execution_count": 3,
   "metadata": {
    "cell_id": "f8890541347b4060967d08cf338f7f50",
    "deepnote_cell_type": "code",
    "deepnote_to_be_reexecuted": false,
    "execution_millis": 44,
    "execution_start": 1683576255059,
    "source_hash": "e386f41f"
   },
   "outputs": [
    {
     "data": {
      "text/html": [
       "\n",
       "<div id=\"altair-viz-9b7b299e757d4965b2ed1f6f3eaca6d8\"></div>\n",
       "<script type=\"text/javascript\">\n",
       "  var VEGA_DEBUG = (typeof VEGA_DEBUG == \"undefined\") ? {} : VEGA_DEBUG;\n",
       "  (function(spec, embedOpt){\n",
       "    let outputDiv = document.currentScript.previousElementSibling;\n",
       "    if (outputDiv.id !== \"altair-viz-9b7b299e757d4965b2ed1f6f3eaca6d8\") {\n",
       "      outputDiv = document.getElementById(\"altair-viz-9b7b299e757d4965b2ed1f6f3eaca6d8\");\n",
       "    }\n",
       "    const paths = {\n",
       "      \"vega\": \"https://cdn.jsdelivr.net/npm//vega@5?noext\",\n",
       "      \"vega-lib\": \"https://cdn.jsdelivr.net/npm//vega-lib?noext\",\n",
       "      \"vega-lite\": \"https://cdn.jsdelivr.net/npm//vega-lite@4.17.0?noext\",\n",
       "      \"vega-embed\": \"https://cdn.jsdelivr.net/npm//vega-embed@6?noext\",\n",
       "    };\n",
       "\n",
       "    function maybeLoadScript(lib, version) {\n",
       "      var key = `${lib.replace(\"-\", \"\")}_version`;\n",
       "      return (VEGA_DEBUG[key] == version) ?\n",
       "        Promise.resolve(paths[lib]) :\n",
       "        new Promise(function(resolve, reject) {\n",
       "          var s = document.createElement('script');\n",
       "          document.getElementsByTagName(\"head\")[0].appendChild(s);\n",
       "          s.async = true;\n",
       "          s.onload = () => {\n",
       "            VEGA_DEBUG[key] = version;\n",
       "            return resolve(paths[lib]);\n",
       "          };\n",
       "          s.onerror = () => reject(`Error loading script: ${paths[lib]}`);\n",
       "          s.src = paths[lib];\n",
       "        });\n",
       "    }\n",
       "\n",
       "    function showError(err) {\n",
       "      outputDiv.innerHTML = `<div class=\"error\" style=\"color:red;\">${err}</div>`;\n",
       "      throw err;\n",
       "    }\n",
       "\n",
       "    function displayChart(vegaEmbed) {\n",
       "      vegaEmbed(outputDiv, spec, embedOpt)\n",
       "        .catch(err => showError(`Javascript Error: ${err.message}<br>This usually means there's a typo in your chart specification. See the javascript console for the full traceback.`));\n",
       "    }\n",
       "\n",
       "    if(typeof define === \"function\" && define.amd) {\n",
       "      requirejs.config({paths});\n",
       "      require([\"vega-embed\"], displayChart, err => showError(`Error loading script: ${err.message}`));\n",
       "    } else {\n",
       "      maybeLoadScript(\"vega\", \"5\")\n",
       "        .then(() => maybeLoadScript(\"vega-lite\", \"4.17.0\"))\n",
       "        .then(() => maybeLoadScript(\"vega-embed\", \"6\"))\n",
       "        .catch(showError)\n",
       "        .then(() => displayChart(vegaEmbed));\n",
       "    }\n",
       "  })({\"config\": {\"view\": {\"continuousWidth\": 400, \"continuousHeight\": 300}}, \"data\": {\"name\": \"data-dd2f37c2feb906cd9c4f4b68fb9fb7ee\"}, \"mark\": {\"type\": \"circle\", \"size\": 150}, \"encoding\": {\"x\": {\"field\": \"x\", \"type\": \"quantitative\"}, \"y\": {\"field\": \"y\", \"type\": \"quantitative\"}}, \"$schema\": \"https://vega.github.io/schema/vega-lite/v4.17.0.json\", \"datasets\": {\"data-dd2f37c2feb906cd9c4f4b68fb9fb7ee\": [{\"x\": 0, \"y\": 0}, {\"x\": 1, \"y\": 2}, {\"x\": 2, \"y\": -10}, {\"x\": 3, \"y\": 6}]}}, {\"mode\": \"vega-lite\"});\n",
       "</script>"
      ],
      "text/plain": [
       "alt.Chart(...)"
      ]
     },
     "execution_count": 3,
     "metadata": {},
     "output_type": "execute_result"
    }
   ],
   "source": [
    "alt.Chart(df).mark_circle(size=150).encode(\n",
    "    x=\"x\",\n",
    "    y=\"y\"\n",
    ")"
   ]
  },
  {
   "cell_type": "markdown",
   "metadata": {
    "cell_id": "2d5bbf3d56794ee598a61864db81a380",
    "deepnote_cell_type": "markdown"
   },
   "source": [
    "Let's figure out which of the following linear models better fits the data:\n",
    "* Line A: $f(x) = 2x$\n",
    "* Line B: $g(x) = 0.6x - 1.4$"
   ]
  },
  {
   "cell_type": "markdown",
   "metadata": {
    "cell_id": "886ecb52a7b040b49352bbec7ecc11a7",
    "deepnote_cell_type": "markdown"
   },
   "source": [
    "* Add columns to `df` corresponding to these lines.  Name the new columns \"lineA\" and \"lineB\"."
   ]
  },
  {
   "cell_type": "markdown",
   "metadata": {},
   "source": [
    "The following works, but is overly complicated.  There's no need to use the `map` method for these basic examples."
   ]
  },
  {
   "cell_type": "code",
   "execution_count": 5,
   "metadata": {
    "cell_id": "ad52cc6cfc19489ab233f5b3ee3d8e7c",
    "deepnote_cell_type": "code",
    "deepnote_to_be_reexecuted": false,
    "execution_millis": 11,
    "execution_start": 1683576510146,
    "source_hash": "997c730"
   },
   "outputs": [],
   "source": [
    "# correct but not needed\n",
    "df[\"lineA\"] = df[\"x\"].map(lambda x: 2*x)"
   ]
  },
  {
   "cell_type": "markdown",
   "metadata": {},
   "source": [
    "This is the most natural way to include the Line A points."
   ]
  },
  {
   "cell_type": "code",
   "execution_count": 7,
   "metadata": {
    "cell_id": "53a79d147d97406ba83f43e86f4eead7",
    "deepnote_cell_type": "code",
    "deepnote_to_be_reexecuted": false,
    "execution_millis": 3,
    "execution_start": 1683576570168,
    "source_hash": "d254f3b5"
   },
   "outputs": [],
   "source": [
    "# better\n",
    "df[\"lineA\"] = 2*df[\"x\"]"
   ]
  },
  {
   "cell_type": "markdown",
   "metadata": {},
   "source": [
    "Similarly for Line B: no `map` method is needed."
   ]
  },
  {
   "cell_type": "code",
   "execution_count": 8,
   "metadata": {
    "cell_id": "2c52fa53fa094cf08d0550871cd98a1f",
    "deepnote_cell_type": "code",
    "deepnote_to_be_reexecuted": false,
    "execution_millis": 3,
    "execution_start": 1683576622576,
    "source_hash": "f57d6324"
   },
   "outputs": [],
   "source": [
    "df[\"lineB\"] = 0.6*df[\"x\"] - 1.4"
   ]
  },
  {
   "cell_type": "markdown",
   "metadata": {
    "cell_id": "2b36038779194f718e616cbf99bdc1d8",
    "deepnote_cell_type": "markdown"
   },
   "source": [
    "* Plot the data together with these lines, using the color red for Line A and the color black for Line B.  Use a base chart so that you are not repeating the same code three times."
   ]
  },
  {
   "cell_type": "markdown",
   "metadata": {},
   "source": [
    "Here is a trick that will save us some typing.  This trick is not that important and I don't expect it to show up on a quiz or exam, but it is nice to know it exists.  We define a base chart that contains the common components to all our charts."
   ]
  },
  {
   "cell_type": "code",
   "execution_count": 9,
   "metadata": {
    "cell_id": "52910230bf464900bfc2f30e5b39732f",
    "deepnote_cell_type": "code",
    "deepnote_to_be_reexecuted": false,
    "execution_millis": 1,
    "execution_start": 1683576739437,
    "source_hash": "7db5581a"
   },
   "outputs": [],
   "source": [
    "base = alt.Chart(df).encode(\n",
    "    x=\"x\"\n",
    ")"
   ]
  },
  {
   "cell_type": "markdown",
   "metadata": {},
   "source": [
    "If we try to display `base` on its own, we get an error, because this by itself is not a valid chart (it's missing the `mark` code)."
   ]
  },
  {
   "cell_type": "code",
   "execution_count": 10,
   "metadata": {
    "cell_id": "80e120650c634b0e8ee8f00ce0d28e25",
    "deepnote_cell_type": "code",
    "deepnote_to_be_reexecuted": false,
    "execution_millis": 349,
    "execution_start": 1683576742538,
    "source_hash": "c2f108b2",
    "tags": [
     "output_scroll"
    ]
   },
   "outputs": [
    {
     "ename": "SchemaValidationError",
     "evalue": "Invalid specification\n\n        altair.vegalite.v4.api.Chart, validating 'required'\n\n        'mark' is a required property\n        ",
     "output_type": "error",
     "traceback": [
      "\u001b[0;31m---------------------------------------------------------------------------\u001b[0m",
      "\u001b[0;31mSchemaValidationError\u001b[0m                     Traceback (most recent call last)",
      "File \u001b[0;32m/shared-libs/python3.9/py/lib/python3.9/site-packages/altair/vegalite/v4/api.py:2020\u001b[0m, in \u001b[0;36mChart.to_dict\u001b[0;34m(self, *args, **kwargs)\u001b[0m\n\u001b[1;32m   2018\u001b[0m     copy\u001b[38;5;241m.\u001b[39mdata \u001b[38;5;241m=\u001b[39m core\u001b[38;5;241m.\u001b[39mInlineData(values\u001b[38;5;241m=\u001b[39m[{}])\n\u001b[1;32m   2019\u001b[0m     \u001b[38;5;28;01mreturn\u001b[39;00m \u001b[38;5;28msuper\u001b[39m(Chart, copy)\u001b[38;5;241m.\u001b[39mto_dict(\u001b[38;5;241m*\u001b[39margs, \u001b[38;5;241m*\u001b[39m\u001b[38;5;241m*\u001b[39mkwargs)\n\u001b[0;32m-> 2020\u001b[0m \u001b[38;5;28;01mreturn\u001b[39;00m \u001b[38;5;28;43msuper\u001b[39;49m\u001b[43m(\u001b[49m\u001b[43m)\u001b[49m\u001b[38;5;241;43m.\u001b[39;49m\u001b[43mto_dict\u001b[49m\u001b[43m(\u001b[49m\u001b[38;5;241;43m*\u001b[39;49m\u001b[43margs\u001b[49m\u001b[43m,\u001b[49m\u001b[43m \u001b[49m\u001b[38;5;241;43m*\u001b[39;49m\u001b[38;5;241;43m*\u001b[39;49m\u001b[43mkwargs\u001b[49m\u001b[43m)\u001b[49m\n",
      "File \u001b[0;32m/shared-libs/python3.9/py/lib/python3.9/site-packages/altair/vegalite/v4/api.py:393\u001b[0m, in \u001b[0;36mTopLevelMixin.to_dict\u001b[0;34m(self, *args, **kwargs)\u001b[0m\n\u001b[1;32m    391\u001b[0m \u001b[38;5;28;01mif\u001b[39;00m dct \u001b[38;5;129;01mis\u001b[39;00m \u001b[38;5;28;01mNone\u001b[39;00m:\n\u001b[1;32m    392\u001b[0m     kwargs[\u001b[38;5;124m\"\u001b[39m\u001b[38;5;124mvalidate\u001b[39m\u001b[38;5;124m\"\u001b[39m] \u001b[38;5;241m=\u001b[39m \u001b[38;5;124m\"\u001b[39m\u001b[38;5;124mdeep\u001b[39m\u001b[38;5;124m\"\u001b[39m\n\u001b[0;32m--> 393\u001b[0m     dct \u001b[38;5;241m=\u001b[39m \u001b[38;5;28;43msuper\u001b[39;49m\u001b[43m(\u001b[49m\u001b[43mTopLevelMixin\u001b[49m\u001b[43m,\u001b[49m\u001b[43m \u001b[49m\u001b[43mcopy\u001b[49m\u001b[43m)\u001b[49m\u001b[38;5;241;43m.\u001b[39;49m\u001b[43mto_dict\u001b[49m\u001b[43m(\u001b[49m\u001b[38;5;241;43m*\u001b[39;49m\u001b[43margs\u001b[49m\u001b[43m,\u001b[49m\u001b[43m \u001b[49m\u001b[38;5;241;43m*\u001b[39;49m\u001b[38;5;241;43m*\u001b[39;49m\u001b[43mkwargs\u001b[49m\u001b[43m)\u001b[49m\n\u001b[1;32m    395\u001b[0m \u001b[38;5;66;03m# TODO: following entries are added after validation. Should they be validated?\u001b[39;00m\n\u001b[1;32m    396\u001b[0m \u001b[38;5;28;01mif\u001b[39;00m is_top_level:\n\u001b[1;32m    397\u001b[0m     \u001b[38;5;66;03m# since this is top-level we add $schema if it's missing\u001b[39;00m\n",
      "File \u001b[0;32m/shared-libs/python3.9/py/lib/python3.9/site-packages/altair/utils/schemapi.py:360\u001b[0m, in \u001b[0;36mSchemaBase.to_dict\u001b[0;34m(self, validate, ignore, context)\u001b[0m\n\u001b[1;32m    358\u001b[0m         \u001b[38;5;28mself\u001b[39m\u001b[38;5;241m.\u001b[39mvalidate(result)\n\u001b[1;32m    359\u001b[0m     \u001b[38;5;28;01mexcept\u001b[39;00m jsonschema\u001b[38;5;241m.\u001b[39mValidationError \u001b[38;5;28;01mas\u001b[39;00m err:\n\u001b[0;32m--> 360\u001b[0m         \u001b[38;5;28;01mraise\u001b[39;00m SchemaValidationError(\u001b[38;5;28mself\u001b[39m, err)\n\u001b[1;32m    361\u001b[0m \u001b[38;5;28;01mreturn\u001b[39;00m result\n",
      "\u001b[0;31mSchemaValidationError\u001b[0m: Invalid specification\n\n        altair.vegalite.v4.api.Chart, validating 'required'\n\n        'mark' is a required property\n        "
     ]
    },
    {
     "data": {
      "text/plain": [
       "alt.Chart(...)"
      ]
     },
     "execution_count": 10,
     "metadata": {},
     "output_type": "execute_result"
    }
   ],
   "source": [
    "base"
   ]
  },
  {
   "cell_type": "markdown",
   "metadata": {},
   "source": [
    "Here we make the scatter plot chart using the \"y\" column."
   ]
  },
  {
   "cell_type": "code",
   "execution_count": 11,
   "metadata": {
    "cell_id": "8212583143da42379d7c383823dddcfd",
    "deepnote_cell_type": "code",
    "deepnote_to_be_reexecuted": false,
    "execution_millis": 2,
    "execution_start": 1683576789469,
    "source_hash": "eb0e5984"
   },
   "outputs": [],
   "source": [
    "c1 = base.mark_circle(size=150).encode(y=\"y\")"
   ]
  },
  {
   "cell_type": "markdown",
   "metadata": {},
   "source": [
    "Here we make the two line charts using the \"lineA\" and \"lineB\" columns."
   ]
  },
  {
   "cell_type": "code",
   "execution_count": 15,
   "metadata": {
    "cell_id": "809c530e47314900aae21a16d6f2664b",
    "deepnote_cell_type": "code",
    "deepnote_to_be_reexecuted": false,
    "execution_millis": 8,
    "execution_start": 1683576875960,
    "source_hash": "d8b2ed3b"
   },
   "outputs": [],
   "source": [
    "c2 = base.mark_line(color=\"red\").encode(y=\"lineA\")\n",
    "c3 = base.mark_line(color=\"black\").encode(y=\"lineB\")"
   ]
  },
  {
   "cell_type": "markdown",
   "metadata": {},
   "source": [
    "Now we can layer these three charts on top of each other."
   ]
  },
  {
   "cell_type": "code",
   "execution_count": 16,
   "metadata": {
    "cell_id": "28e58eb465054e34af347316186a6957",
    "deepnote_cell_type": "code",
    "deepnote_to_be_reexecuted": false,
    "execution_millis": 3,
    "execution_start": 1683576880761,
    "source_hash": "18223e79"
   },
   "outputs": [
    {
     "data": {
      "text/html": [
       "\n",
       "<div id=\"altair-viz-0dbe2f7b982f491f94e2fc16fa19e5ae\"></div>\n",
       "<script type=\"text/javascript\">\n",
       "  var VEGA_DEBUG = (typeof VEGA_DEBUG == \"undefined\") ? {} : VEGA_DEBUG;\n",
       "  (function(spec, embedOpt){\n",
       "    let outputDiv = document.currentScript.previousElementSibling;\n",
       "    if (outputDiv.id !== \"altair-viz-0dbe2f7b982f491f94e2fc16fa19e5ae\") {\n",
       "      outputDiv = document.getElementById(\"altair-viz-0dbe2f7b982f491f94e2fc16fa19e5ae\");\n",
       "    }\n",
       "    const paths = {\n",
       "      \"vega\": \"https://cdn.jsdelivr.net/npm//vega@5?noext\",\n",
       "      \"vega-lib\": \"https://cdn.jsdelivr.net/npm//vega-lib?noext\",\n",
       "      \"vega-lite\": \"https://cdn.jsdelivr.net/npm//vega-lite@4.17.0?noext\",\n",
       "      \"vega-embed\": \"https://cdn.jsdelivr.net/npm//vega-embed@6?noext\",\n",
       "    };\n",
       "\n",
       "    function maybeLoadScript(lib, version) {\n",
       "      var key = `${lib.replace(\"-\", \"\")}_version`;\n",
       "      return (VEGA_DEBUG[key] == version) ?\n",
       "        Promise.resolve(paths[lib]) :\n",
       "        new Promise(function(resolve, reject) {\n",
       "          var s = document.createElement('script');\n",
       "          document.getElementsByTagName(\"head\")[0].appendChild(s);\n",
       "          s.async = true;\n",
       "          s.onload = () => {\n",
       "            VEGA_DEBUG[key] = version;\n",
       "            return resolve(paths[lib]);\n",
       "          };\n",
       "          s.onerror = () => reject(`Error loading script: ${paths[lib]}`);\n",
       "          s.src = paths[lib];\n",
       "        });\n",
       "    }\n",
       "\n",
       "    function showError(err) {\n",
       "      outputDiv.innerHTML = `<div class=\"error\" style=\"color:red;\">${err}</div>`;\n",
       "      throw err;\n",
       "    }\n",
       "\n",
       "    function displayChart(vegaEmbed) {\n",
       "      vegaEmbed(outputDiv, spec, embedOpt)\n",
       "        .catch(err => showError(`Javascript Error: ${err.message}<br>This usually means there's a typo in your chart specification. See the javascript console for the full traceback.`));\n",
       "    }\n",
       "\n",
       "    if(typeof define === \"function\" && define.amd) {\n",
       "      requirejs.config({paths});\n",
       "      require([\"vega-embed\"], displayChart, err => showError(`Error loading script: ${err.message}`));\n",
       "    } else {\n",
       "      maybeLoadScript(\"vega\", \"5\")\n",
       "        .then(() => maybeLoadScript(\"vega-lite\", \"4.17.0\"))\n",
       "        .then(() => maybeLoadScript(\"vega-embed\", \"6\"))\n",
       "        .catch(showError)\n",
       "        .then(() => displayChart(vegaEmbed));\n",
       "    }\n",
       "  })({\"config\": {\"view\": {\"continuousWidth\": 400, \"continuousHeight\": 300}}, \"layer\": [{\"mark\": {\"type\": \"circle\", \"size\": 150}, \"encoding\": {\"x\": {\"field\": \"x\", \"type\": \"quantitative\"}, \"y\": {\"field\": \"y\", \"type\": \"quantitative\"}}}, {\"mark\": {\"type\": \"line\", \"color\": \"red\"}, \"encoding\": {\"x\": {\"field\": \"x\", \"type\": \"quantitative\"}, \"y\": {\"field\": \"lineA\", \"type\": \"quantitative\"}}}, {\"mark\": {\"type\": \"line\", \"color\": \"black\"}, \"encoding\": {\"x\": {\"field\": \"x\", \"type\": \"quantitative\"}, \"y\": {\"field\": \"lineB\", \"type\": \"quantitative\"}}}], \"data\": {\"name\": \"data-e85beb7529ff9a23a83e49d3894e7618\"}, \"$schema\": \"https://vega.github.io/schema/vega-lite/v4.17.0.json\", \"datasets\": {\"data-e85beb7529ff9a23a83e49d3894e7618\": [{\"x\": 0, \"y\": 0, \"lineA\": 0, \"lineB\": -1.4}, {\"x\": 1, \"y\": 2, \"lineA\": 2, \"lineB\": -0.7999999999999999}, {\"x\": 2, \"y\": -10, \"lineA\": 4, \"lineB\": -0.19999999999999996}, {\"x\": 3, \"y\": 6, \"lineA\": 6, \"lineB\": 0.3999999999999999}]}}, {\"mode\": \"vega-lite\"});\n",
       "</script>"
      ],
      "text/plain": [
       "alt.LayerChart(...)"
      ]
     },
     "execution_count": 16,
     "metadata": {},
     "output_type": "execute_result"
    }
   ],
   "source": [
    "c1+c2+c3"
   ]
  },
  {
   "cell_type": "markdown",
   "metadata": {
    "cell_id": "1f336a2fe8e647e2961ffdd781b23857",
    "deepnote_cell_type": "markdown"
   },
   "source": [
    "* Which line fits the data better?"
   ]
  },
  {
   "cell_type": "markdown",
   "metadata": {},
   "source": [
    "There's no single correct answer to this, as we will see, it depends what \"performance measure\" we are using."
   ]
  },
  {
   "cell_type": "markdown",
   "metadata": {
    "cell_id": "de503e1cbb4a419e9c61dd37485d4c87",
    "deepnote_cell_type": "markdown"
   },
   "source": [
    "* Using scikit-learn, find the line of best fit for this data.  How does it compare to the above lines?"
   ]
  },
  {
   "cell_type": "markdown",
   "metadata": {},
   "source": [
    "Here we return to the routine we used several times last week: Import, instantiate, fit."
   ]
  },
  {
   "cell_type": "code",
   "execution_count": 17,
   "metadata": {
    "cell_id": "02ffbbf9933e4960a54e581ef7fe09ea",
    "deepnote_cell_type": "code",
    "deepnote_to_be_reexecuted": false,
    "execution_millis": 3,
    "execution_start": 1683576990977,
    "source_hash": "9527aab5"
   },
   "outputs": [],
   "source": [
    "from sklearn.linear_model import LinearRegression"
   ]
  },
  {
   "cell_type": "markdown",
   "metadata": {},
   "source": [
    "Here we make an instance of the `LinearRegression` class."
   ]
  },
  {
   "cell_type": "code",
   "execution_count": 18,
   "metadata": {
    "cell_id": "ac097d05ac4d42d9888efe71e1b1a078",
    "deepnote_cell_type": "code",
    "deepnote_to_be_reexecuted": false,
    "execution_millis": 4,
    "execution_start": 1683577006225,
    "source_hash": "cd72858e"
   },
   "outputs": [],
   "source": [
    "reg = LinearRegression()"
   ]
  },
  {
   "cell_type": "markdown",
   "metadata": {},
   "source": [
    "Here we fit it to the data in the \"y\" column.  It wouldn't make much sense to fit it to the \"lineA\" or \"lineB\" data, because that data already lies on a line, and we already know the equation.  Linear regression is really only interesting when the data does not perfectly lie on a line."
   ]
  },
  {
   "cell_type": "code",
   "execution_count": 19,
   "metadata": {
    "cell_id": "1c6ae52e59394e4b8f02269364bf17a9",
    "deepnote_cell_type": "code",
    "deepnote_to_be_reexecuted": false,
    "execution_millis": 2,
    "execution_start": 1683577070794,
    "source_hash": "632e4524"
   },
   "outputs": [
    {
     "data": {
      "text/html": [
       "<style>#sk-container-id-1 {color: black;background-color: white;}#sk-container-id-1 pre{padding: 0;}#sk-container-id-1 div.sk-toggleable {background-color: white;}#sk-container-id-1 label.sk-toggleable__label {cursor: pointer;display: block;width: 100%;margin-bottom: 0;padding: 0.3em;box-sizing: border-box;text-align: center;}#sk-container-id-1 label.sk-toggleable__label-arrow:before {content: \"▸\";float: left;margin-right: 0.25em;color: #696969;}#sk-container-id-1 label.sk-toggleable__label-arrow:hover:before {color: black;}#sk-container-id-1 div.sk-estimator:hover label.sk-toggleable__label-arrow:before {color: black;}#sk-container-id-1 div.sk-toggleable__content {max-height: 0;max-width: 0;overflow: hidden;text-align: left;background-color: #f0f8ff;}#sk-container-id-1 div.sk-toggleable__content pre {margin: 0.2em;color: black;border-radius: 0.25em;background-color: #f0f8ff;}#sk-container-id-1 input.sk-toggleable__control:checked~div.sk-toggleable__content {max-height: 200px;max-width: 100%;overflow: auto;}#sk-container-id-1 input.sk-toggleable__control:checked~label.sk-toggleable__label-arrow:before {content: \"▾\";}#sk-container-id-1 div.sk-estimator input.sk-toggleable__control:checked~label.sk-toggleable__label {background-color: #d4ebff;}#sk-container-id-1 div.sk-label input.sk-toggleable__control:checked~label.sk-toggleable__label {background-color: #d4ebff;}#sk-container-id-1 input.sk-hidden--visually {border: 0;clip: rect(1px 1px 1px 1px);clip: rect(1px, 1px, 1px, 1px);height: 1px;margin: -1px;overflow: hidden;padding: 0;position: absolute;width: 1px;}#sk-container-id-1 div.sk-estimator {font-family: monospace;background-color: #f0f8ff;border: 1px dotted black;border-radius: 0.25em;box-sizing: border-box;margin-bottom: 0.5em;}#sk-container-id-1 div.sk-estimator:hover {background-color: #d4ebff;}#sk-container-id-1 div.sk-parallel-item::after {content: \"\";width: 100%;border-bottom: 1px solid gray;flex-grow: 1;}#sk-container-id-1 div.sk-label:hover label.sk-toggleable__label {background-color: #d4ebff;}#sk-container-id-1 div.sk-serial::before {content: \"\";position: absolute;border-left: 1px solid gray;box-sizing: border-box;top: 0;bottom: 0;left: 50%;z-index: 0;}#sk-container-id-1 div.sk-serial {display: flex;flex-direction: column;align-items: center;background-color: white;padding-right: 0.2em;padding-left: 0.2em;position: relative;}#sk-container-id-1 div.sk-item {position: relative;z-index: 1;}#sk-container-id-1 div.sk-parallel {display: flex;align-items: stretch;justify-content: center;background-color: white;position: relative;}#sk-container-id-1 div.sk-item::before, #sk-container-id-1 div.sk-parallel-item::before {content: \"\";position: absolute;border-left: 1px solid gray;box-sizing: border-box;top: 0;bottom: 0;left: 50%;z-index: -1;}#sk-container-id-1 div.sk-parallel-item {display: flex;flex-direction: column;z-index: 1;position: relative;background-color: white;}#sk-container-id-1 div.sk-parallel-item:first-child::after {align-self: flex-end;width: 50%;}#sk-container-id-1 div.sk-parallel-item:last-child::after {align-self: flex-start;width: 50%;}#sk-container-id-1 div.sk-parallel-item:only-child::after {width: 0;}#sk-container-id-1 div.sk-dashed-wrapped {border: 1px dashed gray;margin: 0 0.4em 0.5em 0.4em;box-sizing: border-box;padding-bottom: 0.4em;background-color: white;}#sk-container-id-1 div.sk-label label {font-family: monospace;font-weight: bold;display: inline-block;line-height: 1.2em;}#sk-container-id-1 div.sk-label-container {text-align: center;}#sk-container-id-1 div.sk-container {/* jupyter's `normalize.less` sets `[hidden] { display: none; }` but bootstrap.min.css set `[hidden] { display: none !important; }` so we also need the `!important` here to be able to override the default hidden behavior on the sphinx rendered scikit-learn.org. See: https://github.com/scikit-learn/scikit-learn/issues/21755 */display: inline-block !important;position: relative;}#sk-container-id-1 div.sk-text-repr-fallback {display: none;}</style><div id=\"sk-container-id-1\" class=\"sk-top-container\"><div class=\"sk-text-repr-fallback\"><pre>LinearRegression()</pre><b>In a Jupyter environment, please rerun this cell to show the HTML representation or trust the notebook. <br />On GitHub, the HTML representation is unable to render, please try loading this page with nbviewer.org.</b></div><div class=\"sk-container\" hidden><div class=\"sk-item\"><div class=\"sk-estimator sk-toggleable\"><input class=\"sk-toggleable__control sk-hidden--visually\" id=\"sk-estimator-id-1\" type=\"checkbox\" checked><label for=\"sk-estimator-id-1\" class=\"sk-toggleable__label sk-toggleable__label-arrow\">LinearRegression</label><div class=\"sk-toggleable__content\"><pre>LinearRegression()</pre></div></div></div></div></div>"
      ],
      "text/plain": [
       "LinearRegression()"
      ]
     },
     "execution_count": 19,
     "metadata": {},
     "output_type": "execute_result"
    }
   ],
   "source": [
    "reg.fit(df[[\"x\"]], df[\"y\"])"
   ]
  },
  {
   "cell_type": "markdown",
   "metadata": {},
   "source": [
    "Here is the coefficient of the line of \"best\" fit to this data."
   ]
  },
  {
   "cell_type": "code",
   "execution_count": 20,
   "metadata": {
    "cell_id": "34522456561c4781a1f7dcd1aa42a41d",
    "deepnote_cell_type": "code",
    "deepnote_to_be_reexecuted": false,
    "execution_millis": 2,
    "execution_start": 1683577082018,
    "source_hash": "c0bd65f9"
   },
   "outputs": [
    {
     "data": {
      "text/plain": [
       "array([0.6])"
      ]
     },
     "execution_count": 20,
     "metadata": {},
     "output_type": "execute_result"
    }
   ],
   "source": [
    "reg.coef_"
   ]
  },
  {
   "cell_type": "markdown",
   "metadata": {},
   "source": [
    "Here is the y-intercept."
   ]
  },
  {
   "cell_type": "code",
   "execution_count": 21,
   "metadata": {
    "cell_id": "c95bc3fa770446149852260efa011f72",
    "deepnote_cell_type": "code",
    "deepnote_to_be_reexecuted": false,
    "execution_millis": 4,
    "execution_start": 1683577086596,
    "source_hash": "1661cbe7"
   },
   "outputs": [
    {
     "data": {
      "text/plain": [
       "-1.4"
      ]
     },
     "execution_count": 21,
     "metadata": {},
     "output_type": "execute_result"
    }
   ],
   "source": [
    "reg.intercept_"
   ]
  },
  {
   "cell_type": "markdown",
   "metadata": {},
   "source": [
    "Notice that this describes exactly the black line above.  So from the point of view of scikit-learn's linear regression, the black line (Line B) fits the data better than the red line, but also better than every other possible line."
   ]
  },
  {
   "cell_type": "markdown",
   "metadata": {
    "cell_id": "66467a8b794748a7b6b4f5b7ae877997",
    "deepnote_cell_type": "markdown"
   },
   "source": [
    "* Import the `mean_squared_error` function from `sklearn.metrics`.  Which of our lines fits the data better according to this metric?"
   ]
  },
  {
   "cell_type": "code",
   "execution_count": 22,
   "metadata": {
    "cell_id": "a86d93c1544c4ac3a41a3bb5d20585c2",
    "deepnote_cell_type": "code",
    "deepnote_to_be_reexecuted": false,
    "execution_millis": 2,
    "execution_start": 1683577294555,
    "source_hash": "c7dc8a4e"
   },
   "outputs": [],
   "source": [
    "from sklearn.metrics import mean_squared_error"
   ]
  },
  {
   "cell_type": "markdown",
   "metadata": {},
   "source": [
    "Here is an example of computing the mean squared error (MSE) between the true data and Line A.\n",
    "\n",
    "Important: when computing errors (or loss functions), a smaller number is better."
   ]
  },
  {
   "cell_type": "code",
   "execution_count": 23,
   "metadata": {
    "cell_id": "22c229c17652449cbedce6620ef85683",
    "deepnote_cell_type": "code",
    "deepnote_to_be_reexecuted": false,
    "execution_millis": 3,
    "execution_start": 1683577476956,
    "source_hash": "77a83fe2"
   },
   "outputs": [
    {
     "data": {
      "text/plain": [
       "49.0"
      ]
     },
     "execution_count": 23,
     "metadata": {},
     "output_type": "execute_result"
    }
   ],
   "source": [
    "mean_squared_error(df[\"y\"], df[\"lineA\"])"
   ]
  },
  {
   "cell_type": "markdown",
   "metadata": {},
   "source": [
    "Here is the same computation with Line B.  Because the Line B value is smaller, from the point of view of Mean Squared Error, Line B fits the data better than Line A.\n",
    "\n",
    "When scikit-learn performs linear regression, it is seeking the line that minimizes the mean squared error."
   ]
  },
  {
   "cell_type": "code",
   "execution_count": 24,
   "metadata": {
    "cell_id": "f789811ebbec451d8b83d82535eec24e",
    "deepnote_cell_type": "code",
    "deepnote_to_be_reexecuted": false,
    "execution_millis": 1,
    "execution_start": 1683577485449,
    "source_hash": "55e8640a"
   },
   "outputs": [
    {
     "data": {
      "text/plain": [
       "34.300000000000004"
      ]
     },
     "execution_count": 24,
     "metadata": {},
     "output_type": "execute_result"
    }
   ],
   "source": [
    "mean_squared_error(df[\"y\"], df[\"lineB\"])"
   ]
  },
  {
   "cell_type": "markdown",
   "metadata": {},
   "source": [
    "The best hypothetical error is `0`, but there is no line that achieves a mean squared error of `0` for this data (because no line passes through all four data points)."
   ]
  },
  {
   "cell_type": "code",
   "execution_count": 25,
   "metadata": {
    "cell_id": "ed7936d29b384f65b1406450a91d2f36",
    "deepnote_cell_type": "code",
    "deepnote_to_be_reexecuted": false,
    "execution_millis": 2,
    "execution_start": 1683577550737,
    "source_hash": "e3cb9ce8"
   },
   "outputs": [
    {
     "data": {
      "text/plain": [
       "0.0"
      ]
     },
     "execution_count": 25,
     "metadata": {},
     "output_type": "execute_result"
    }
   ],
   "source": [
    "mean_squared_error(df[\"y\"], df[\"y\"])"
   ]
  },
  {
   "cell_type": "markdown",
   "metadata": {
    "cell_id": "7b33371ae9f84cf59c5b5a5757fe6d3a",
    "deepnote_cell_type": "markdown"
   },
   "source": [
    "* Import the `mean_absolute_error` function from `sklearn.metrics`.  Which of our lines fits the data better according to this metric?"
   ]
  },
  {
   "cell_type": "code",
   "execution_count": 26,
   "metadata": {
    "cell_id": "18377f749c6940d7bdbbab2e8b98c466",
    "deepnote_cell_type": "code",
    "deepnote_to_be_reexecuted": false,
    "execution_millis": 2,
    "execution_start": 1683577582757,
    "source_hash": "27aadbd8"
   },
   "outputs": [],
   "source": [
    "from sklearn.metrics import mean_absolute_error"
   ]
  },
  {
   "cell_type": "markdown",
   "metadata": {},
   "source": [
    "This loss function mean absolute error (MAE) is similar, but we take the average of the absolute values between the true values and the predicted values.\n",
    "\n",
    "The following number is much smaller than the MSE values we saw above, but because we are using two different loss functions, I don't think that comparison is meaningful."
   ]
  },
  {
   "cell_type": "code",
   "execution_count": 27,
   "metadata": {
    "cell_id": "017c164654bc48e797b152d2f8db503f",
    "deepnote_cell_type": "code",
    "deepnote_to_be_reexecuted": false,
    "execution_millis": 1,
    "execution_start": 1683577663641,
    "source_hash": "a63fcc50"
   },
   "outputs": [
    {
     "data": {
      "text/plain": [
       "3.5"
      ]
     },
     "execution_count": 27,
     "metadata": {},
     "output_type": "execute_result"
    }
   ],
   "source": [
    "mean_absolute_error(df[\"y\"], df[\"lineA\"])"
   ]
  },
  {
   "cell_type": "markdown",
   "metadata": {},
   "source": [
    "Notice that from the point of view of mean absolute error, Line A is a better fit than Line B (because the MAE value is smaller for Line A).\n",
    "\n",
    "There is no *correct* answer to which line fits the data better: it depends what performance measure is used."
   ]
  },
  {
   "cell_type": "code",
   "execution_count": 28,
   "metadata": {
    "cell_id": "854ca89b484d4f389897b8c5db5430d3",
    "deepnote_cell_type": "code",
    "deepnote_to_be_reexecuted": false,
    "execution_millis": 2,
    "execution_start": 1683577699819,
    "source_hash": "c65e9391"
   },
   "outputs": [
    {
     "data": {
      "text/plain": [
       "4.9"
      ]
     },
     "execution_count": 28,
     "metadata": {},
     "output_type": "execute_result"
    }
   ],
   "source": [
    "mean_absolute_error(df[\"y\"], df[\"lineB\"])"
   ]
  },
  {
   "cell_type": "markdown",
   "metadata": {
    "cell_id": "19dbea378cfe42bdaff08ef529b81b4f",
    "deepnote_cell_type": "markdown"
   },
   "source": [
    "Summary: Line B is better (actually the best possible) wrt mean squared error\n",
    "Line A is better with respect to mean absolute error.\n",
    "\n",
    "Different performance measures (different loss functions) will lead to different lines of \"best\" fit."
   ]
  },
  {
   "cell_type": "markdown",
   "metadata": {
    "cell_id": "28ff214f984e4261bbd8131af127e5b4",
    "deepnote_cell_type": "markdown"
   },
   "source": [
    "## Ten minutes to work on Worksheets\n",
    "\n",
    "Maya and I are here to answer questions.  If you're already done with the worksheets due tomorrow, today's worksheet (Worksheet 11) is posted.  Worksheet 11 is about how finding the line of best fit using Mean Squared Error can be greatly influenced by outliers in the data."
   ]
  },
  {
   "cell_type": "markdown",
   "metadata": {
    "cell_id": "e2bec0a426c444219e5e80d5e4d8e18f",
    "deepnote_cell_type": "markdown"
   },
   "source": [
    "## More on polynomial regression"
   ]
  },
  {
   "cell_type": "markdown",
   "metadata": {
    "cell_id": "94dace836a484b808f11fed7be1883d9",
    "deepnote_cell_type": "markdown"
   },
   "source": [
    "### Generating random data\n",
    "\n",
    "Here we make some data that follows a random polynomial.  Can we use scikit-learn to estimate the underlying polynomial?"
   ]
  },
  {
   "cell_type": "code",
   "execution_count": 29,
   "metadata": {
    "cell_id": "97c86fb380b4498f97301d87497ff2ed",
    "deepnote_cell_type": "code",
    "deepnote_to_be_reexecuted": false,
    "execution_millis": 1,
    "execution_start": 1683578416892,
    "source_hash": "e1d843a3"
   },
   "outputs": [
    {
     "name": "stdout",
     "output_type": "stream",
     "text": [
      "[-5  1 -3 -2]\n"
     ]
    }
   ],
   "source": [
    "deg = 3\n",
    "rng = np.random.default_rng(seed=27)\n",
    "m = rng.integers(low=-5, high=5, size=deg+1)\n",
    "print(m)\n",
    "df = pd.DataFrame({\"x\": np.arange(-3, 2, 0.1)})\n",
    "df[\"y_true\"] = 0\n",
    "for i in range(len(m)):\n",
    "    df[\"y_true\"] += m[i]*df[\"x\"]**i\n",
    "\n",
    "df[\"y\"] = df[\"y_true\"] + rng.normal(scale=5, size=len(df))"
   ]
  },
  {
   "cell_type": "markdown",
   "metadata": {},
   "source": [
    "Notice how this data approximately follows a cubic curve (but certainly doesn't lie on it perfectly)."
   ]
  },
  {
   "cell_type": "code",
   "execution_count": 30,
   "metadata": {
    "cell_id": "022a043632cf49b2ba31d57624f5c865",
    "deepnote_cell_type": "code",
    "deepnote_to_be_reexecuted": false,
    "execution_millis": 0,
    "execution_start": 1683578473021,
    "source_hash": "9aa53389"
   },
   "outputs": [
    {
     "data": {
      "text/html": [
       "\n",
       "<div id=\"altair-viz-9b49bbf00ba244629a31f21995c1b6da\"></div>\n",
       "<script type=\"text/javascript\">\n",
       "  var VEGA_DEBUG = (typeof VEGA_DEBUG == \"undefined\") ? {} : VEGA_DEBUG;\n",
       "  (function(spec, embedOpt){\n",
       "    let outputDiv = document.currentScript.previousElementSibling;\n",
       "    if (outputDiv.id !== \"altair-viz-9b49bbf00ba244629a31f21995c1b6da\") {\n",
       "      outputDiv = document.getElementById(\"altair-viz-9b49bbf00ba244629a31f21995c1b6da\");\n",
       "    }\n",
       "    const paths = {\n",
       "      \"vega\": \"https://cdn.jsdelivr.net/npm//vega@5?noext\",\n",
       "      \"vega-lib\": \"https://cdn.jsdelivr.net/npm//vega-lib?noext\",\n",
       "      \"vega-lite\": \"https://cdn.jsdelivr.net/npm//vega-lite@4.17.0?noext\",\n",
       "      \"vega-embed\": \"https://cdn.jsdelivr.net/npm//vega-embed@6?noext\",\n",
       "    };\n",
       "\n",
       "    function maybeLoadScript(lib, version) {\n",
       "      var key = `${lib.replace(\"-\", \"\")}_version`;\n",
       "      return (VEGA_DEBUG[key] == version) ?\n",
       "        Promise.resolve(paths[lib]) :\n",
       "        new Promise(function(resolve, reject) {\n",
       "          var s = document.createElement('script');\n",
       "          document.getElementsByTagName(\"head\")[0].appendChild(s);\n",
       "          s.async = true;\n",
       "          s.onload = () => {\n",
       "            VEGA_DEBUG[key] = version;\n",
       "            return resolve(paths[lib]);\n",
       "          };\n",
       "          s.onerror = () => reject(`Error loading script: ${paths[lib]}`);\n",
       "          s.src = paths[lib];\n",
       "        });\n",
       "    }\n",
       "\n",
       "    function showError(err) {\n",
       "      outputDiv.innerHTML = `<div class=\"error\" style=\"color:red;\">${err}</div>`;\n",
       "      throw err;\n",
       "    }\n",
       "\n",
       "    function displayChart(vegaEmbed) {\n",
       "      vegaEmbed(outputDiv, spec, embedOpt)\n",
       "        .catch(err => showError(`Javascript Error: ${err.message}<br>This usually means there's a typo in your chart specification. See the javascript console for the full traceback.`));\n",
       "    }\n",
       "\n",
       "    if(typeof define === \"function\" && define.amd) {\n",
       "      requirejs.config({paths});\n",
       "      require([\"vega-embed\"], displayChart, err => showError(`Error loading script: ${err.message}`));\n",
       "    } else {\n",
       "      maybeLoadScript(\"vega\", \"5\")\n",
       "        .then(() => maybeLoadScript(\"vega-lite\", \"4.17.0\"))\n",
       "        .then(() => maybeLoadScript(\"vega-embed\", \"6\"))\n",
       "        .catch(showError)\n",
       "        .then(() => displayChart(vegaEmbed));\n",
       "    }\n",
       "  })({\"config\": {\"view\": {\"continuousWidth\": 400, \"continuousHeight\": 300}}, \"data\": {\"name\": \"data-dae704ec33fdd0f59cc04c6673678175\"}, \"mark\": \"circle\", \"encoding\": {\"x\": {\"field\": \"x\", \"type\": \"quantitative\"}, \"y\": {\"field\": \"y\", \"type\": \"quantitative\"}}, \"$schema\": \"https://vega.github.io/schema/vega-lite/v4.17.0.json\", \"datasets\": {\"data-dae704ec33fdd0f59cc04c6673678175\": [{\"x\": -3.0, \"y_true\": 19.0, \"y\": 23.824405650704584}, {\"x\": -2.9, \"y_true\": 15.647999999999996, \"y\": 10.237108055098796}, {\"x\": -2.8, \"y_true\": 12.583999999999993, \"y\": 16.91908679057319}, {\"x\": -2.6999999999999997, \"y_true\": 9.795999999999992, \"y\": 8.955196204317206}, {\"x\": -2.5999999999999996, \"y_true\": 7.271999999999991, \"y\": 6.323695104370164}, {\"x\": -2.4999999999999996, \"y_true\": 4.999999999999989, \"y\": 10.602832278036008}, {\"x\": -2.3999999999999995, \"y_true\": 2.967999999999993, \"y\": 0.7841046813223418}, {\"x\": -2.2999999999999994, \"y_true\": 1.1639999999999908, \"y\": -5.234226812329393}, {\"x\": -2.1999999999999993, \"y_true\": -0.4240000000000137, \"y\": -2.7714988713165125}, {\"x\": -2.099999999999999, \"y_true\": -1.808000000000014, \"y\": -7.792135811821553}, {\"x\": -1.9999999999999991, \"y_true\": -3.0000000000000107, \"y\": -12.199285711986715}, {\"x\": -1.899999999999999, \"y_true\": -4.012000000000011, \"y\": -4.739784849269134}, {\"x\": -1.799999999999999, \"y_true\": -4.856000000000009, \"y\": -2.864605133958004}, {\"x\": -1.6999999999999988, \"y_true\": -5.544000000000008, \"y\": -16.3543063737946}, {\"x\": -1.5999999999999988, \"y_true\": -6.088000000000006, \"y\": -6.015613468222883}, {\"x\": -1.4999999999999987, \"y_true\": -6.5000000000000036, \"y\": -5.224009421444809}, {\"x\": -1.3999999999999986, \"y_true\": -6.792000000000003, \"y\": -5.926044796345713}, {\"x\": -1.2999999999999985, \"y_true\": -6.976000000000002, \"y\": -13.326467602050318}, {\"x\": -1.1999999999999984, \"y_true\": -7.064000000000001, \"y\": -8.618806640209073}, {\"x\": -1.0999999999999983, \"y_true\": -7.067999999999998, \"y\": -7.999078323585601}, {\"x\": -0.9999999999999982, \"y_true\": -6.999999999999998, \"y\": -4.835119581575062}, {\"x\": -0.8999999999999981, \"y_true\": -6.871999999999996, \"y\": -13.308756625035866}, {\"x\": -0.799999999999998, \"y_true\": -6.695999999999996, \"y\": -4.778936156426603}, {\"x\": -0.699999999999998, \"y_true\": -6.4839999999999955, \"y\": -1.524599833485449}, {\"x\": -0.5999999999999979, \"y_true\": -6.247999999999995, \"y\": -17.68622693729956}, {\"x\": -0.4999999999999978, \"y_true\": -5.999999999999995, \"y\": -4.880304361628128}, {\"x\": -0.3999999999999977, \"y_true\": -5.7519999999999945, \"y\": -13.38506705601617}, {\"x\": -0.2999999999999976, \"y_true\": -5.515999999999995, \"y\": -6.368334641163491}, {\"x\": -0.1999999999999975, \"y_true\": -5.303999999999996, \"y\": -8.704741835733941}, {\"x\": -0.09999999999999742, \"y_true\": -5.127999999999997, \"y\": 1.2401753336845394}, {\"x\": 2.6645352591003757e-15, \"y_true\": -4.999999999999997, \"y\": -4.71445657964094}, {\"x\": 0.10000000000000275, \"y_true\": -4.931999999999999, \"y\": -0.9555565402837516}, {\"x\": 0.20000000000000284, \"y_true\": -4.936000000000002, \"y\": -10.16989462767013}, {\"x\": 0.30000000000000293, \"y_true\": -5.024000000000004, \"y\": -2.7213636464572986}, {\"x\": 0.400000000000003, \"y_true\": -5.208000000000007, \"y\": 1.90386367809573}, {\"x\": 0.5000000000000031, \"y_true\": -5.50000000000001, \"y\": -9.036284597169002}, {\"x\": 0.6000000000000032, \"y_true\": -5.912000000000015, \"y\": -2.5826311606487367}, {\"x\": 0.7000000000000033, \"y_true\": -6.456000000000021, \"y\": -4.049151482825412}, {\"x\": 0.8000000000000034, \"y_true\": -7.144000000000027, \"y\": -7.467369873682661}, {\"x\": 0.9000000000000035, \"y_true\": -7.988000000000032, \"y\": -14.245467115049165}, {\"x\": 1.0000000000000036, \"y_true\": -9.000000000000039, \"y\": -7.58449011919938}, {\"x\": 1.1000000000000032, \"y_true\": -10.192000000000041, \"y\": -11.5434400342294}, {\"x\": 1.2000000000000037, \"y_true\": -11.576000000000054, \"y\": -8.565901471871978}, {\"x\": 1.3000000000000043, \"y_true\": -13.164000000000073, \"y\": -9.269587854684678}, {\"x\": 1.400000000000004, \"y_true\": -14.968000000000075, \"y\": -7.295299533414727}, {\"x\": 1.5000000000000036, \"y_true\": -17.000000000000078, \"y\": -21.18278332190194}, {\"x\": 1.600000000000004, \"y_true\": -19.272000000000098, \"y\": -14.946790703056552}, {\"x\": 1.7000000000000046, \"y_true\": -21.796000000000124, \"y\": -18.291898867126424}, {\"x\": 1.8000000000000043, \"y_true\": -24.584000000000124, \"y\": -24.2068839018185}, {\"x\": 1.900000000000004, \"y_true\": -27.648000000000124, \"y\": -24.589036941447688}]}}, {\"mode\": \"vega-lite\"});\n",
       "</script>"
      ],
      "text/plain": [
       "alt.Chart(...)"
      ]
     },
     "execution_count": 30,
     "metadata": {},
     "output_type": "execute_result"
    }
   ],
   "source": [
    "c1 = alt.Chart(df).mark_circle().encode(\n",
    "    x=\"x\",\n",
    "    y=\"y\"\n",
    ")\n",
    "\n",
    "c1"
   ]
  },
  {
   "cell_type": "markdown",
   "metadata": {
    "cell_id": "4a71c1e64f6544cfbc082132b4592897",
    "deepnote_cell_type": "markdown"
   },
   "source": [
    "Aside: If you are using `range(len(???))` in Python, there is almost always a more elegant way to accomplish the same thing.\n",
    "\n",
    "* Rewrite the code above using `enumerate(m)` instead of `range(len(m))`."
   ]
  },
  {
   "cell_type": "markdown",
   "metadata": {},
   "source": [
    "(We skipped this step in class and continued below.)"
   ]
  },
  {
   "cell_type": "markdown",
   "metadata": {
    "cell_id": "99fe454bd5c643eaa533b12aefe8558a",
    "deepnote_cell_type": "markdown"
   },
   "source": [
    "### PolynomialFeatures"
   ]
  },
  {
   "cell_type": "markdown",
   "metadata": {
    "cell_id": "102e6be2cfcb4e309e99b5ea7f00b815",
    "deepnote_cell_type": "markdown"
   },
   "source": [
    "We saw how to perform polynomial regression \"by hand\" last week.  The process is much easier if we take advantage of some additional functionality in scikit-learn."
   ]
  },
  {
   "cell_type": "markdown",
   "metadata": {
    "cell_id": "c3bc8e1b449a431aa6564d6409674943",
    "deepnote_cell_type": "markdown"
   },
   "source": [
    "* Demonstrate the `PolynomialFeatures` class from `sklearn.preprocessing` by evaluating it on the \"x\" column in `df`.  Use a `degree` value of `3`.\n",
    "\n",
    "Note: this class uses `transform` rather than `predict` in the final step."
   ]
  },
  {
   "cell_type": "markdown",
   "metadata": {},
   "source": [
    "We again have our routine: import, instantiate, fit, and in this case, transform rather than predict.  Here is the import step."
   ]
  },
  {
   "cell_type": "code",
   "execution_count": 31,
   "metadata": {
    "cell_id": "9a83ab58155c440da587100f2c86e092",
    "deepnote_cell_type": "code",
    "deepnote_to_be_reexecuted": false,
    "execution_millis": 5,
    "execution_start": 1683578571313,
    "source_hash": "e253d258"
   },
   "outputs": [],
   "source": [
    "from sklearn.preprocessing import PolynomialFeatures"
   ]
  },
  {
   "cell_type": "markdown",
   "metadata": {},
   "source": [
    "Here is the instantiate step.  We specify as an argument to the constructor what degree of polynomial we're interested in."
   ]
  },
  {
   "cell_type": "code",
   "execution_count": 33,
   "metadata": {
    "cell_id": "7387d9cfff0d4429bcf6423a9c72548c",
    "deepnote_cell_type": "code",
    "deepnote_to_be_reexecuted": false,
    "execution_millis": 2,
    "execution_start": 1683578647432,
    "source_hash": "24bbf71a"
   },
   "outputs": [],
   "source": [
    "poly = PolynomialFeatures(degree=3)"
   ]
  },
  {
   "cell_type": "markdown",
   "metadata": {},
   "source": [
    "I believe this is the second object class we've seen in scikit-learn (the first being `LinearRegression`)."
   ]
  },
  {
   "cell_type": "code",
   "execution_count": 34,
   "metadata": {
    "cell_id": "f78375f38b964dd8a4566a8278d5ac0c",
    "deepnote_cell_type": "code",
    "deepnote_to_be_reexecuted": false,
    "execution_millis": 3,
    "execution_start": 1683578653741,
    "source_hash": "cb9dd7d"
   },
   "outputs": [
    {
     "data": {
      "text/plain": [
       "sklearn.preprocessing._polynomial.PolynomialFeatures"
      ]
     },
     "execution_count": 34,
     "metadata": {},
     "output_type": "execute_result"
    }
   ],
   "source": [
    "type(poly)"
   ]
  },
  {
   "cell_type": "markdown",
   "metadata": {},
   "source": [
    "Now we fit the data.  This `fit` method does not need the output values."
   ]
  },
  {
   "cell_type": "code",
   "execution_count": 35,
   "metadata": {
    "cell_id": "fda3b2fa58fc41dba268ce348c1a29de",
    "deepnote_cell_type": "code",
    "deepnote_to_be_reexecuted": false,
    "execution_millis": 2,
    "execution_start": 1683578677378,
    "source_hash": "29db9c52"
   },
   "outputs": [
    {
     "data": {
      "text/html": [
       "<style>#sk-container-id-3 {color: black;background-color: white;}#sk-container-id-3 pre{padding: 0;}#sk-container-id-3 div.sk-toggleable {background-color: white;}#sk-container-id-3 label.sk-toggleable__label {cursor: pointer;display: block;width: 100%;margin-bottom: 0;padding: 0.3em;box-sizing: border-box;text-align: center;}#sk-container-id-3 label.sk-toggleable__label-arrow:before {content: \"▸\";float: left;margin-right: 0.25em;color: #696969;}#sk-container-id-3 label.sk-toggleable__label-arrow:hover:before {color: black;}#sk-container-id-3 div.sk-estimator:hover label.sk-toggleable__label-arrow:before {color: black;}#sk-container-id-3 div.sk-toggleable__content {max-height: 0;max-width: 0;overflow: hidden;text-align: left;background-color: #f0f8ff;}#sk-container-id-3 div.sk-toggleable__content pre {margin: 0.2em;color: black;border-radius: 0.25em;background-color: #f0f8ff;}#sk-container-id-3 input.sk-toggleable__control:checked~div.sk-toggleable__content {max-height: 200px;max-width: 100%;overflow: auto;}#sk-container-id-3 input.sk-toggleable__control:checked~label.sk-toggleable__label-arrow:before {content: \"▾\";}#sk-container-id-3 div.sk-estimator input.sk-toggleable__control:checked~label.sk-toggleable__label {background-color: #d4ebff;}#sk-container-id-3 div.sk-label input.sk-toggleable__control:checked~label.sk-toggleable__label {background-color: #d4ebff;}#sk-container-id-3 input.sk-hidden--visually {border: 0;clip: rect(1px 1px 1px 1px);clip: rect(1px, 1px, 1px, 1px);height: 1px;margin: -1px;overflow: hidden;padding: 0;position: absolute;width: 1px;}#sk-container-id-3 div.sk-estimator {font-family: monospace;background-color: #f0f8ff;border: 1px dotted black;border-radius: 0.25em;box-sizing: border-box;margin-bottom: 0.5em;}#sk-container-id-3 div.sk-estimator:hover {background-color: #d4ebff;}#sk-container-id-3 div.sk-parallel-item::after {content: \"\";width: 100%;border-bottom: 1px solid gray;flex-grow: 1;}#sk-container-id-3 div.sk-label:hover label.sk-toggleable__label {background-color: #d4ebff;}#sk-container-id-3 div.sk-serial::before {content: \"\";position: absolute;border-left: 1px solid gray;box-sizing: border-box;top: 0;bottom: 0;left: 50%;z-index: 0;}#sk-container-id-3 div.sk-serial {display: flex;flex-direction: column;align-items: center;background-color: white;padding-right: 0.2em;padding-left: 0.2em;position: relative;}#sk-container-id-3 div.sk-item {position: relative;z-index: 1;}#sk-container-id-3 div.sk-parallel {display: flex;align-items: stretch;justify-content: center;background-color: white;position: relative;}#sk-container-id-3 div.sk-item::before, #sk-container-id-3 div.sk-parallel-item::before {content: \"\";position: absolute;border-left: 1px solid gray;box-sizing: border-box;top: 0;bottom: 0;left: 50%;z-index: -1;}#sk-container-id-3 div.sk-parallel-item {display: flex;flex-direction: column;z-index: 1;position: relative;background-color: white;}#sk-container-id-3 div.sk-parallel-item:first-child::after {align-self: flex-end;width: 50%;}#sk-container-id-3 div.sk-parallel-item:last-child::after {align-self: flex-start;width: 50%;}#sk-container-id-3 div.sk-parallel-item:only-child::after {width: 0;}#sk-container-id-3 div.sk-dashed-wrapped {border: 1px dashed gray;margin: 0 0.4em 0.5em 0.4em;box-sizing: border-box;padding-bottom: 0.4em;background-color: white;}#sk-container-id-3 div.sk-label label {font-family: monospace;font-weight: bold;display: inline-block;line-height: 1.2em;}#sk-container-id-3 div.sk-label-container {text-align: center;}#sk-container-id-3 div.sk-container {/* jupyter's `normalize.less` sets `[hidden] { display: none; }` but bootstrap.min.css set `[hidden] { display: none !important; }` so we also need the `!important` here to be able to override the default hidden behavior on the sphinx rendered scikit-learn.org. See: https://github.com/scikit-learn/scikit-learn/issues/21755 */display: inline-block !important;position: relative;}#sk-container-id-3 div.sk-text-repr-fallback {display: none;}</style><div id=\"sk-container-id-3\" class=\"sk-top-container\"><div class=\"sk-text-repr-fallback\"><pre>PolynomialFeatures(degree=3)</pre><b>In a Jupyter environment, please rerun this cell to show the HTML representation or trust the notebook. <br />On GitHub, the HTML representation is unable to render, please try loading this page with nbviewer.org.</b></div><div class=\"sk-container\" hidden><div class=\"sk-item\"><div class=\"sk-estimator sk-toggleable\"><input class=\"sk-toggleable__control sk-hidden--visually\" id=\"sk-estimator-id-3\" type=\"checkbox\" checked><label for=\"sk-estimator-id-3\" class=\"sk-toggleable__label sk-toggleable__label-arrow\">PolynomialFeatures</label><div class=\"sk-toggleable__content\"><pre>PolynomialFeatures(degree=3)</pre></div></div></div></div></div>"
      ],
      "text/plain": [
       "PolynomialFeatures(degree=3)"
      ]
     },
     "execution_count": 35,
     "metadata": {},
     "output_type": "execute_result"
    }
   ],
   "source": [
    "poly.fit(df[[\"x\"]])"
   ]
  },
  {
   "cell_type": "markdown",
   "metadata": {},
   "source": [
    "Notice that we have to use a term other than `predict` here."
   ]
  },
  {
   "cell_type": "code",
   "execution_count": 36,
   "metadata": {
    "cell_id": "c6bbbe5f4a00433cbdf3f35ad617e82d",
    "deepnote_cell_type": "code",
    "deepnote_to_be_reexecuted": false,
    "execution_millis": 328,
    "execution_start": 1683578691394,
    "source_hash": "41ae331d"
   },
   "outputs": [
    {
     "ename": "AttributeError",
     "evalue": "'PolynomialFeatures' object has no attribute 'predict'",
     "output_type": "error",
     "traceback": [
      "\u001b[0;31m---------------------------------------------------------------------------\u001b[0m",
      "\u001b[0;31mAttributeError\u001b[0m                            Traceback (most recent call last)",
      "Cell \u001b[0;32mIn [36], line 1\u001b[0m\n\u001b[0;32m----> 1\u001b[0m \u001b[43mpoly\u001b[49m\u001b[38;5;241;43m.\u001b[39;49m\u001b[43mpredict\u001b[49m(df[[\u001b[38;5;124m\"\u001b[39m\u001b[38;5;124mx\u001b[39m\u001b[38;5;124m\"\u001b[39m]])\n",
      "\u001b[0;31mAttributeError\u001b[0m: 'PolynomialFeatures' object has no attribute 'predict'"
     ]
    }
   ],
   "source": [
    "poly.predict(df[[\"x\"]])"
   ]
  },
  {
   "cell_type": "markdown",
   "metadata": {},
   "source": [
    "It is hard to read the output of the `transform` method in this case; we will look at it more closely below."
   ]
  },
  {
   "cell_type": "code",
   "execution_count": 37,
   "metadata": {
    "cell_id": "dfd84fea0c104ace998117b0837f06bb",
    "deepnote_cell_type": "code",
    "deepnote_to_be_reexecuted": false,
    "execution_millis": 23,
    "execution_start": 1683578719215,
    "source_hash": "cd9cfeec",
    "tags": [
     "output_scroll"
    ]
   },
   "outputs": [
    {
     "data": {
      "text/plain": [
       "array([[ 1.00000000e+00, -3.00000000e+00,  9.00000000e+00,\n",
       "        -2.70000000e+01],\n",
       "       [ 1.00000000e+00, -2.90000000e+00,  8.41000000e+00,\n",
       "        -2.43890000e+01],\n",
       "       [ 1.00000000e+00, -2.80000000e+00,  7.84000000e+00,\n",
       "        -2.19520000e+01],\n",
       "       [ 1.00000000e+00, -2.70000000e+00,  7.29000000e+00,\n",
       "        -1.96830000e+01],\n",
       "       [ 1.00000000e+00, -2.60000000e+00,  6.76000000e+00,\n",
       "        -1.75760000e+01],\n",
       "       [ 1.00000000e+00, -2.50000000e+00,  6.25000000e+00,\n",
       "        -1.56250000e+01],\n",
       "       [ 1.00000000e+00, -2.40000000e+00,  5.76000000e+00,\n",
       "        -1.38240000e+01],\n",
       "       [ 1.00000000e+00, -2.30000000e+00,  5.29000000e+00,\n",
       "        -1.21670000e+01],\n",
       "       [ 1.00000000e+00, -2.20000000e+00,  4.84000000e+00,\n",
       "        -1.06480000e+01],\n",
       "       [ 1.00000000e+00, -2.10000000e+00,  4.41000000e+00,\n",
       "        -9.26100000e+00],\n",
       "       [ 1.00000000e+00, -2.00000000e+00,  4.00000000e+00,\n",
       "        -8.00000000e+00],\n",
       "       [ 1.00000000e+00, -1.90000000e+00,  3.61000000e+00,\n",
       "        -6.85900000e+00],\n",
       "       [ 1.00000000e+00, -1.80000000e+00,  3.24000000e+00,\n",
       "        -5.83200000e+00],\n",
       "       [ 1.00000000e+00, -1.70000000e+00,  2.89000000e+00,\n",
       "        -4.91300000e+00],\n",
       "       [ 1.00000000e+00, -1.60000000e+00,  2.56000000e+00,\n",
       "        -4.09600000e+00],\n",
       "       [ 1.00000000e+00, -1.50000000e+00,  2.25000000e+00,\n",
       "        -3.37500000e+00],\n",
       "       [ 1.00000000e+00, -1.40000000e+00,  1.96000000e+00,\n",
       "        -2.74400000e+00],\n",
       "       [ 1.00000000e+00, -1.30000000e+00,  1.69000000e+00,\n",
       "        -2.19700000e+00],\n",
       "       [ 1.00000000e+00, -1.20000000e+00,  1.44000000e+00,\n",
       "        -1.72800000e+00],\n",
       "       [ 1.00000000e+00, -1.10000000e+00,  1.21000000e+00,\n",
       "        -1.33100000e+00],\n",
       "       [ 1.00000000e+00, -1.00000000e+00,  1.00000000e+00,\n",
       "        -1.00000000e+00],\n",
       "       [ 1.00000000e+00, -9.00000000e-01,  8.10000000e-01,\n",
       "        -7.29000000e-01],\n",
       "       [ 1.00000000e+00, -8.00000000e-01,  6.40000000e-01,\n",
       "        -5.12000000e-01],\n",
       "       [ 1.00000000e+00, -7.00000000e-01,  4.90000000e-01,\n",
       "        -3.43000000e-01],\n",
       "       [ 1.00000000e+00, -6.00000000e-01,  3.60000000e-01,\n",
       "        -2.16000000e-01],\n",
       "       [ 1.00000000e+00, -5.00000000e-01,  2.50000000e-01,\n",
       "        -1.25000000e-01],\n",
       "       [ 1.00000000e+00, -4.00000000e-01,  1.60000000e-01,\n",
       "        -6.40000000e-02],\n",
       "       [ 1.00000000e+00, -3.00000000e-01,  9.00000000e-02,\n",
       "        -2.70000000e-02],\n",
       "       [ 1.00000000e+00, -2.00000000e-01,  4.00000000e-02,\n",
       "        -8.00000000e-03],\n",
       "       [ 1.00000000e+00, -1.00000000e-01,  1.00000000e-02,\n",
       "        -1.00000000e-03],\n",
       "       [ 1.00000000e+00,  2.66453526e-15,  7.09974815e-30,\n",
       "         1.89175293e-44],\n",
       "       [ 1.00000000e+00,  1.00000000e-01,  1.00000000e-02,\n",
       "         1.00000000e-03],\n",
       "       [ 1.00000000e+00,  2.00000000e-01,  4.00000000e-02,\n",
       "         8.00000000e-03],\n",
       "       [ 1.00000000e+00,  3.00000000e-01,  9.00000000e-02,\n",
       "         2.70000000e-02],\n",
       "       [ 1.00000000e+00,  4.00000000e-01,  1.60000000e-01,\n",
       "         6.40000000e-02],\n",
       "       [ 1.00000000e+00,  5.00000000e-01,  2.50000000e-01,\n",
       "         1.25000000e-01],\n",
       "       [ 1.00000000e+00,  6.00000000e-01,  3.60000000e-01,\n",
       "         2.16000000e-01],\n",
       "       [ 1.00000000e+00,  7.00000000e-01,  4.90000000e-01,\n",
       "         3.43000000e-01],\n",
       "       [ 1.00000000e+00,  8.00000000e-01,  6.40000000e-01,\n",
       "         5.12000000e-01],\n",
       "       [ 1.00000000e+00,  9.00000000e-01,  8.10000000e-01,\n",
       "         7.29000000e-01],\n",
       "       [ 1.00000000e+00,  1.00000000e+00,  1.00000000e+00,\n",
       "         1.00000000e+00],\n",
       "       [ 1.00000000e+00,  1.10000000e+00,  1.21000000e+00,\n",
       "         1.33100000e+00],\n",
       "       [ 1.00000000e+00,  1.20000000e+00,  1.44000000e+00,\n",
       "         1.72800000e+00],\n",
       "       [ 1.00000000e+00,  1.30000000e+00,  1.69000000e+00,\n",
       "         2.19700000e+00],\n",
       "       [ 1.00000000e+00,  1.40000000e+00,  1.96000000e+00,\n",
       "         2.74400000e+00],\n",
       "       [ 1.00000000e+00,  1.50000000e+00,  2.25000000e+00,\n",
       "         3.37500000e+00],\n",
       "       [ 1.00000000e+00,  1.60000000e+00,  2.56000000e+00,\n",
       "         4.09600000e+00],\n",
       "       [ 1.00000000e+00,  1.70000000e+00,  2.89000000e+00,\n",
       "         4.91300000e+00],\n",
       "       [ 1.00000000e+00,  1.80000000e+00,  3.24000000e+00,\n",
       "         5.83200000e+00],\n",
       "       [ 1.00000000e+00,  1.90000000e+00,  3.61000000e+00,\n",
       "         6.85900000e+00]])"
      ]
     },
     "execution_count": 37,
     "metadata": {},
     "output_type": "execute_result"
    }
   ],
   "source": [
    "poly.transform(df[[\"x\"]])"
   ]
  },
  {
   "cell_type": "markdown",
   "metadata": {
    "cell_id": "1dda5746813b4ffc80f4691093ead1d1",
    "deepnote_cell_type": "markdown"
   },
   "source": [
    "* To make the result easier to read, put the transformed data into a pandas DataFrame named `df_poly`, and round all of the entries to the nearest `0.1` value.  (Rounding every entry is a natural place to use `applymap`, but in fact, there is also a `round` DataFrame method which can be used directly.)\n",
    "\n",
    "Aside: notice that the default column labels are integers, just like the default row labels."
   ]
  },
  {
   "cell_type": "code",
   "execution_count": 38,
   "metadata": {
    "cell_id": "86c5f125f2eb4d94a6d246454e46cfeb",
    "deepnote_cell_type": "code",
    "deepnote_to_be_reexecuted": false,
    "execution_millis": 3,
    "execution_start": 1683578794536,
    "source_hash": "d8ce44dd",
    "tags": [
     "output_scroll"
    ]
   },
   "outputs": [
    {
     "data": {
      "application/vnd.deepnote.dataframe.v3+json": {
       "column_count": 4,
       "columns": [
        {
         "dtype": "float64",
         "name": 0,
         "stats": {
          "histogram": [
           {
            "bin_end": 0.6,
            "bin_start": 0.5,
            "count": 0
           },
           {
            "bin_end": 0.7,
            "bin_start": 0.6,
            "count": 0
           },
           {
            "bin_end": 0.8,
            "bin_start": 0.7,
            "count": 0
           },
           {
            "bin_end": 0.9,
            "bin_start": 0.8,
            "count": 0
           },
           {
            "bin_end": 1,
            "bin_start": 0.9,
            "count": 0
           },
           {
            "bin_end": 1.1,
            "bin_start": 1,
            "count": 50
           },
           {
            "bin_end": 1.2000000000000002,
            "bin_start": 1.1,
            "count": 0
           },
           {
            "bin_end": 1.3,
            "bin_start": 1.2000000000000002,
            "count": 0
           },
           {
            "bin_end": 1.4,
            "bin_start": 1.3,
            "count": 0
           },
           {
            "bin_end": 1.5,
            "bin_start": 1.4,
            "count": 0
           }
          ],
          "max": "1.0",
          "min": "1.0",
          "nan_count": 0,
          "unique_count": 1
         }
        },
        {
         "dtype": "float64",
         "name": 1,
         "stats": {
          "histogram": [
           {
            "bin_end": -2.51,
            "bin_start": -3,
            "count": 5
           },
           {
            "bin_end": -2.019999999999999,
            "bin_start": -2.51,
            "count": 5
           },
           {
            "bin_end": -1.529999999999999,
            "bin_start": -2.019999999999999,
            "count": 5
           },
           {
            "bin_end": -1.0399999999999985,
            "bin_start": -1.529999999999999,
            "count": 5
           },
           {
            "bin_end": -0.549999999999998,
            "bin_start": -1.0399999999999985,
            "count": 5
           },
           {
            "bin_end": -0.05999999999999783,
            "bin_start": -0.549999999999998,
            "count": 5
           },
           {
            "bin_end": 0.4300000000000028,
            "bin_start": -0.05999999999999783,
            "count": 5
           },
           {
            "bin_end": 0.920000000000003,
            "bin_start": 0.4300000000000028,
            "count": 5
           },
           {
            "bin_end": 1.4100000000000037,
            "bin_start": 0.920000000000003,
            "count": 5
           },
           {
            "bin_end": 1.900000000000004,
            "bin_start": 1.4100000000000037,
            "count": 5
           }
          ],
          "max": "1.900000000000004",
          "min": "-3.0",
          "nan_count": 0,
          "unique_count": 50
         }
        },
        {
         "dtype": "float64",
         "name": 2,
         "stats": {
          "histogram": [
           {
            "bin_end": 0.9,
            "bin_start": 7.099748146989106e-30,
            "count": 19
           },
           {
            "bin_end": 1.8,
            "bin_start": 0.9,
            "count": 8
           },
           {
            "bin_end": 2.7,
            "bin_start": 1.8,
            "count": 6
           },
           {
            "bin_end": 3.6,
            "bin_start": 2.7,
            "count": 4
           },
           {
            "bin_end": 4.5,
            "bin_start": 3.6,
            "count": 4
           },
           {
            "bin_end": 5.4,
            "bin_start": 4.5,
            "count": 2
           },
           {
            "bin_end": 6.3,
            "bin_start": 5.4,
            "count": 2
           },
           {
            "bin_end": 7.2,
            "bin_start": 6.3,
            "count": 1
           },
           {
            "bin_end": 8.1,
            "bin_start": 7.2,
            "count": 2
           },
           {
            "bin_end": 9,
            "bin_start": 8.1,
            "count": 2
           }
          ],
          "max": "9.0",
          "min": "7.099748146989106e-30",
          "nan_count": 0,
          "unique_count": 50
         }
        },
        {
         "dtype": "float64",
         "name": 3,
         "stats": {
          "histogram": [
           {
            "bin_end": -23.614099999999997,
            "bin_start": -27,
            "count": 2
           },
           {
            "bin_end": -20.22819999999999,
            "bin_start": -23.614099999999997,
            "count": 1
           },
           {
            "bin_end": -16.842299999999987,
            "bin_start": -20.22819999999999,
            "count": 2
           },
           {
            "bin_end": -13.456399999999983,
            "bin_start": -16.842299999999987,
            "count": 2
           },
           {
            "bin_end": -10.070499999999978,
            "bin_start": -13.456399999999983,
            "count": 2
           },
           {
            "bin_end": -6.684599999999975,
            "bin_start": -10.070499999999978,
            "count": 3
           },
           {
            "bin_end": -3.298699999999968,
            "bin_start": -6.684599999999975,
            "count": 4
           },
           {
            "bin_end": 0.0872000000000348,
            "bin_start": -3.298699999999968,
            "count": 19
           },
           {
            "bin_end": 3.473100000000038,
            "bin_start": 0.0872000000000348,
            "count": 11
           },
           {
            "bin_end": 6.859000000000043,
            "bin_start": 3.473100000000038,
            "count": 4
           }
          ],
          "max": "6.859000000000043",
          "min": "-27.0",
          "nan_count": 0,
          "unique_count": 50
         }
        },
        {
         "dtype": "int64",
         "name": "_deepnote_index_column"
        }
       ],
       "row_count": 50,
       "rows": [
        {
         "0": "1.0",
         "1": "-3.0",
         "2": "9.0",
         "3": "-27.0",
         "_deepnote_index_column": "0"
        },
        {
         "0": "1.0",
         "1": "-2.9",
         "2": "8.41",
         "3": "-24.389",
         "_deepnote_index_column": "1"
        },
        {
         "0": "1.0",
         "1": "-2.8",
         "2": "7.839999999999999",
         "3": "-21.951999999999995",
         "_deepnote_index_column": "2"
        },
        {
         "0": "1.0",
         "1": "-2.6999999999999997",
         "2": "7.289999999999998",
         "3": "-19.682999999999993",
         "_deepnote_index_column": "3"
        },
        {
         "0": "1.0",
         "1": "-2.5999999999999996",
         "2": "6.759999999999998",
         "3": "-17.575999999999993",
         "_deepnote_index_column": "4"
        },
        {
         "0": "1.0",
         "1": "-2.4999999999999996",
         "2": "6.249999999999998",
         "3": "-15.624999999999993",
         "_deepnote_index_column": "5"
        },
        {
         "0": "1.0",
         "1": "-2.3999999999999995",
         "2": "5.759999999999997",
         "3": "-13.82399999999999",
         "_deepnote_index_column": "6"
        },
        {
         "0": "1.0",
         "1": "-2.2999999999999994",
         "2": "5.289999999999997",
         "3": "-12.166999999999991",
         "_deepnote_index_column": "7"
        },
        {
         "0": "1.0",
         "1": "-2.1999999999999993",
         "2": "4.839999999999997",
         "3": "-10.64799999999999",
         "_deepnote_index_column": "8"
        },
        {
         "0": "1.0",
         "1": "-2.099999999999999",
         "2": "4.409999999999997",
         "3": "-9.260999999999989",
         "_deepnote_index_column": "9"
        }
       ]
      },
      "text/html": [
       "<div>\n",
       "<style scoped>\n",
       "    .dataframe tbody tr th:only-of-type {\n",
       "        vertical-align: middle;\n",
       "    }\n",
       "\n",
       "    .dataframe tbody tr th {\n",
       "        vertical-align: top;\n",
       "    }\n",
       "\n",
       "    .dataframe thead th {\n",
       "        text-align: right;\n",
       "    }\n",
       "</style>\n",
       "<table border=\"1\" class=\"dataframe\">\n",
       "  <thead>\n",
       "    <tr style=\"text-align: right;\">\n",
       "      <th></th>\n",
       "      <th>0</th>\n",
       "      <th>1</th>\n",
       "      <th>2</th>\n",
       "      <th>3</th>\n",
       "    </tr>\n",
       "  </thead>\n",
       "  <tbody>\n",
       "    <tr>\n",
       "      <th>0</th>\n",
       "      <td>1.0</td>\n",
       "      <td>-3.000000e+00</td>\n",
       "      <td>9.000000e+00</td>\n",
       "      <td>-2.700000e+01</td>\n",
       "    </tr>\n",
       "    <tr>\n",
       "      <th>1</th>\n",
       "      <td>1.0</td>\n",
       "      <td>-2.900000e+00</td>\n",
       "      <td>8.410000e+00</td>\n",
       "      <td>-2.438900e+01</td>\n",
       "    </tr>\n",
       "    <tr>\n",
       "      <th>2</th>\n",
       "      <td>1.0</td>\n",
       "      <td>-2.800000e+00</td>\n",
       "      <td>7.840000e+00</td>\n",
       "      <td>-2.195200e+01</td>\n",
       "    </tr>\n",
       "    <tr>\n",
       "      <th>3</th>\n",
       "      <td>1.0</td>\n",
       "      <td>-2.700000e+00</td>\n",
       "      <td>7.290000e+00</td>\n",
       "      <td>-1.968300e+01</td>\n",
       "    </tr>\n",
       "    <tr>\n",
       "      <th>4</th>\n",
       "      <td>1.0</td>\n",
       "      <td>-2.600000e+00</td>\n",
       "      <td>6.760000e+00</td>\n",
       "      <td>-1.757600e+01</td>\n",
       "    </tr>\n",
       "    <tr>\n",
       "      <th>5</th>\n",
       "      <td>1.0</td>\n",
       "      <td>-2.500000e+00</td>\n",
       "      <td>6.250000e+00</td>\n",
       "      <td>-1.562500e+01</td>\n",
       "    </tr>\n",
       "    <tr>\n",
       "      <th>6</th>\n",
       "      <td>1.0</td>\n",
       "      <td>-2.400000e+00</td>\n",
       "      <td>5.760000e+00</td>\n",
       "      <td>-1.382400e+01</td>\n",
       "    </tr>\n",
       "    <tr>\n",
       "      <th>7</th>\n",
       "      <td>1.0</td>\n",
       "      <td>-2.300000e+00</td>\n",
       "      <td>5.290000e+00</td>\n",
       "      <td>-1.216700e+01</td>\n",
       "    </tr>\n",
       "    <tr>\n",
       "      <th>8</th>\n",
       "      <td>1.0</td>\n",
       "      <td>-2.200000e+00</td>\n",
       "      <td>4.840000e+00</td>\n",
       "      <td>-1.064800e+01</td>\n",
       "    </tr>\n",
       "    <tr>\n",
       "      <th>9</th>\n",
       "      <td>1.0</td>\n",
       "      <td>-2.100000e+00</td>\n",
       "      <td>4.410000e+00</td>\n",
       "      <td>-9.261000e+00</td>\n",
       "    </tr>\n",
       "    <tr>\n",
       "      <th>10</th>\n",
       "      <td>1.0</td>\n",
       "      <td>-2.000000e+00</td>\n",
       "      <td>4.000000e+00</td>\n",
       "      <td>-8.000000e+00</td>\n",
       "    </tr>\n",
       "    <tr>\n",
       "      <th>11</th>\n",
       "      <td>1.0</td>\n",
       "      <td>-1.900000e+00</td>\n",
       "      <td>3.610000e+00</td>\n",
       "      <td>-6.859000e+00</td>\n",
       "    </tr>\n",
       "    <tr>\n",
       "      <th>12</th>\n",
       "      <td>1.0</td>\n",
       "      <td>-1.800000e+00</td>\n",
       "      <td>3.240000e+00</td>\n",
       "      <td>-5.832000e+00</td>\n",
       "    </tr>\n",
       "    <tr>\n",
       "      <th>13</th>\n",
       "      <td>1.0</td>\n",
       "      <td>-1.700000e+00</td>\n",
       "      <td>2.890000e+00</td>\n",
       "      <td>-4.913000e+00</td>\n",
       "    </tr>\n",
       "    <tr>\n",
       "      <th>14</th>\n",
       "      <td>1.0</td>\n",
       "      <td>-1.600000e+00</td>\n",
       "      <td>2.560000e+00</td>\n",
       "      <td>-4.096000e+00</td>\n",
       "    </tr>\n",
       "    <tr>\n",
       "      <th>15</th>\n",
       "      <td>1.0</td>\n",
       "      <td>-1.500000e+00</td>\n",
       "      <td>2.250000e+00</td>\n",
       "      <td>-3.375000e+00</td>\n",
       "    </tr>\n",
       "    <tr>\n",
       "      <th>16</th>\n",
       "      <td>1.0</td>\n",
       "      <td>-1.400000e+00</td>\n",
       "      <td>1.960000e+00</td>\n",
       "      <td>-2.744000e+00</td>\n",
       "    </tr>\n",
       "    <tr>\n",
       "      <th>17</th>\n",
       "      <td>1.0</td>\n",
       "      <td>-1.300000e+00</td>\n",
       "      <td>1.690000e+00</td>\n",
       "      <td>-2.197000e+00</td>\n",
       "    </tr>\n",
       "    <tr>\n",
       "      <th>18</th>\n",
       "      <td>1.0</td>\n",
       "      <td>-1.200000e+00</td>\n",
       "      <td>1.440000e+00</td>\n",
       "      <td>-1.728000e+00</td>\n",
       "    </tr>\n",
       "    <tr>\n",
       "      <th>19</th>\n",
       "      <td>1.0</td>\n",
       "      <td>-1.100000e+00</td>\n",
       "      <td>1.210000e+00</td>\n",
       "      <td>-1.331000e+00</td>\n",
       "    </tr>\n",
       "    <tr>\n",
       "      <th>20</th>\n",
       "      <td>1.0</td>\n",
       "      <td>-1.000000e+00</td>\n",
       "      <td>1.000000e+00</td>\n",
       "      <td>-1.000000e+00</td>\n",
       "    </tr>\n",
       "    <tr>\n",
       "      <th>21</th>\n",
       "      <td>1.0</td>\n",
       "      <td>-9.000000e-01</td>\n",
       "      <td>8.100000e-01</td>\n",
       "      <td>-7.290000e-01</td>\n",
       "    </tr>\n",
       "    <tr>\n",
       "      <th>22</th>\n",
       "      <td>1.0</td>\n",
       "      <td>-8.000000e-01</td>\n",
       "      <td>6.400000e-01</td>\n",
       "      <td>-5.120000e-01</td>\n",
       "    </tr>\n",
       "    <tr>\n",
       "      <th>23</th>\n",
       "      <td>1.0</td>\n",
       "      <td>-7.000000e-01</td>\n",
       "      <td>4.900000e-01</td>\n",
       "      <td>-3.430000e-01</td>\n",
       "    </tr>\n",
       "    <tr>\n",
       "      <th>24</th>\n",
       "      <td>1.0</td>\n",
       "      <td>-6.000000e-01</td>\n",
       "      <td>3.600000e-01</td>\n",
       "      <td>-2.160000e-01</td>\n",
       "    </tr>\n",
       "    <tr>\n",
       "      <th>25</th>\n",
       "      <td>1.0</td>\n",
       "      <td>-5.000000e-01</td>\n",
       "      <td>2.500000e-01</td>\n",
       "      <td>-1.250000e-01</td>\n",
       "    </tr>\n",
       "    <tr>\n",
       "      <th>26</th>\n",
       "      <td>1.0</td>\n",
       "      <td>-4.000000e-01</td>\n",
       "      <td>1.600000e-01</td>\n",
       "      <td>-6.400000e-02</td>\n",
       "    </tr>\n",
       "    <tr>\n",
       "      <th>27</th>\n",
       "      <td>1.0</td>\n",
       "      <td>-3.000000e-01</td>\n",
       "      <td>9.000000e-02</td>\n",
       "      <td>-2.700000e-02</td>\n",
       "    </tr>\n",
       "    <tr>\n",
       "      <th>28</th>\n",
       "      <td>1.0</td>\n",
       "      <td>-2.000000e-01</td>\n",
       "      <td>4.000000e-02</td>\n",
       "      <td>-8.000000e-03</td>\n",
       "    </tr>\n",
       "    <tr>\n",
       "      <th>29</th>\n",
       "      <td>1.0</td>\n",
       "      <td>-1.000000e-01</td>\n",
       "      <td>1.000000e-02</td>\n",
       "      <td>-1.000000e-03</td>\n",
       "    </tr>\n",
       "    <tr>\n",
       "      <th>30</th>\n",
       "      <td>1.0</td>\n",
       "      <td>2.664535e-15</td>\n",
       "      <td>7.099748e-30</td>\n",
       "      <td>1.891753e-44</td>\n",
       "    </tr>\n",
       "    <tr>\n",
       "      <th>31</th>\n",
       "      <td>1.0</td>\n",
       "      <td>1.000000e-01</td>\n",
       "      <td>1.000000e-02</td>\n",
       "      <td>1.000000e-03</td>\n",
       "    </tr>\n",
       "    <tr>\n",
       "      <th>32</th>\n",
       "      <td>1.0</td>\n",
       "      <td>2.000000e-01</td>\n",
       "      <td>4.000000e-02</td>\n",
       "      <td>8.000000e-03</td>\n",
       "    </tr>\n",
       "    <tr>\n",
       "      <th>33</th>\n",
       "      <td>1.0</td>\n",
       "      <td>3.000000e-01</td>\n",
       "      <td>9.000000e-02</td>\n",
       "      <td>2.700000e-02</td>\n",
       "    </tr>\n",
       "    <tr>\n",
       "      <th>34</th>\n",
       "      <td>1.0</td>\n",
       "      <td>4.000000e-01</td>\n",
       "      <td>1.600000e-01</td>\n",
       "      <td>6.400000e-02</td>\n",
       "    </tr>\n",
       "    <tr>\n",
       "      <th>35</th>\n",
       "      <td>1.0</td>\n",
       "      <td>5.000000e-01</td>\n",
       "      <td>2.500000e-01</td>\n",
       "      <td>1.250000e-01</td>\n",
       "    </tr>\n",
       "    <tr>\n",
       "      <th>36</th>\n",
       "      <td>1.0</td>\n",
       "      <td>6.000000e-01</td>\n",
       "      <td>3.600000e-01</td>\n",
       "      <td>2.160000e-01</td>\n",
       "    </tr>\n",
       "    <tr>\n",
       "      <th>37</th>\n",
       "      <td>1.0</td>\n",
       "      <td>7.000000e-01</td>\n",
       "      <td>4.900000e-01</td>\n",
       "      <td>3.430000e-01</td>\n",
       "    </tr>\n",
       "    <tr>\n",
       "      <th>38</th>\n",
       "      <td>1.0</td>\n",
       "      <td>8.000000e-01</td>\n",
       "      <td>6.400000e-01</td>\n",
       "      <td>5.120000e-01</td>\n",
       "    </tr>\n",
       "    <tr>\n",
       "      <th>39</th>\n",
       "      <td>1.0</td>\n",
       "      <td>9.000000e-01</td>\n",
       "      <td>8.100000e-01</td>\n",
       "      <td>7.290000e-01</td>\n",
       "    </tr>\n",
       "    <tr>\n",
       "      <th>40</th>\n",
       "      <td>1.0</td>\n",
       "      <td>1.000000e+00</td>\n",
       "      <td>1.000000e+00</td>\n",
       "      <td>1.000000e+00</td>\n",
       "    </tr>\n",
       "    <tr>\n",
       "      <th>41</th>\n",
       "      <td>1.0</td>\n",
       "      <td>1.100000e+00</td>\n",
       "      <td>1.210000e+00</td>\n",
       "      <td>1.331000e+00</td>\n",
       "    </tr>\n",
       "    <tr>\n",
       "      <th>42</th>\n",
       "      <td>1.0</td>\n",
       "      <td>1.200000e+00</td>\n",
       "      <td>1.440000e+00</td>\n",
       "      <td>1.728000e+00</td>\n",
       "    </tr>\n",
       "    <tr>\n",
       "      <th>43</th>\n",
       "      <td>1.0</td>\n",
       "      <td>1.300000e+00</td>\n",
       "      <td>1.690000e+00</td>\n",
       "      <td>2.197000e+00</td>\n",
       "    </tr>\n",
       "    <tr>\n",
       "      <th>44</th>\n",
       "      <td>1.0</td>\n",
       "      <td>1.400000e+00</td>\n",
       "      <td>1.960000e+00</td>\n",
       "      <td>2.744000e+00</td>\n",
       "    </tr>\n",
       "    <tr>\n",
       "      <th>45</th>\n",
       "      <td>1.0</td>\n",
       "      <td>1.500000e+00</td>\n",
       "      <td>2.250000e+00</td>\n",
       "      <td>3.375000e+00</td>\n",
       "    </tr>\n",
       "    <tr>\n",
       "      <th>46</th>\n",
       "      <td>1.0</td>\n",
       "      <td>1.600000e+00</td>\n",
       "      <td>2.560000e+00</td>\n",
       "      <td>4.096000e+00</td>\n",
       "    </tr>\n",
       "    <tr>\n",
       "      <th>47</th>\n",
       "      <td>1.0</td>\n",
       "      <td>1.700000e+00</td>\n",
       "      <td>2.890000e+00</td>\n",
       "      <td>4.913000e+00</td>\n",
       "    </tr>\n",
       "    <tr>\n",
       "      <th>48</th>\n",
       "      <td>1.0</td>\n",
       "      <td>1.800000e+00</td>\n",
       "      <td>3.240000e+00</td>\n",
       "      <td>5.832000e+00</td>\n",
       "    </tr>\n",
       "    <tr>\n",
       "      <th>49</th>\n",
       "      <td>1.0</td>\n",
       "      <td>1.900000e+00</td>\n",
       "      <td>3.610000e+00</td>\n",
       "      <td>6.859000e+00</td>\n",
       "    </tr>\n",
       "  </tbody>\n",
       "</table>\n",
       "</div>"
      ],
      "text/plain": [
       "      0             1             2             3\n",
       "0   1.0 -3.000000e+00  9.000000e+00 -2.700000e+01\n",
       "1   1.0 -2.900000e+00  8.410000e+00 -2.438900e+01\n",
       "2   1.0 -2.800000e+00  7.840000e+00 -2.195200e+01\n",
       "3   1.0 -2.700000e+00  7.290000e+00 -1.968300e+01\n",
       "4   1.0 -2.600000e+00  6.760000e+00 -1.757600e+01\n",
       "5   1.0 -2.500000e+00  6.250000e+00 -1.562500e+01\n",
       "6   1.0 -2.400000e+00  5.760000e+00 -1.382400e+01\n",
       "7   1.0 -2.300000e+00  5.290000e+00 -1.216700e+01\n",
       "8   1.0 -2.200000e+00  4.840000e+00 -1.064800e+01\n",
       "9   1.0 -2.100000e+00  4.410000e+00 -9.261000e+00\n",
       "10  1.0 -2.000000e+00  4.000000e+00 -8.000000e+00\n",
       "11  1.0 -1.900000e+00  3.610000e+00 -6.859000e+00\n",
       "12  1.0 -1.800000e+00  3.240000e+00 -5.832000e+00\n",
       "13  1.0 -1.700000e+00  2.890000e+00 -4.913000e+00\n",
       "14  1.0 -1.600000e+00  2.560000e+00 -4.096000e+00\n",
       "15  1.0 -1.500000e+00  2.250000e+00 -3.375000e+00\n",
       "16  1.0 -1.400000e+00  1.960000e+00 -2.744000e+00\n",
       "17  1.0 -1.300000e+00  1.690000e+00 -2.197000e+00\n",
       "18  1.0 -1.200000e+00  1.440000e+00 -1.728000e+00\n",
       "19  1.0 -1.100000e+00  1.210000e+00 -1.331000e+00\n",
       "20  1.0 -1.000000e+00  1.000000e+00 -1.000000e+00\n",
       "21  1.0 -9.000000e-01  8.100000e-01 -7.290000e-01\n",
       "22  1.0 -8.000000e-01  6.400000e-01 -5.120000e-01\n",
       "23  1.0 -7.000000e-01  4.900000e-01 -3.430000e-01\n",
       "24  1.0 -6.000000e-01  3.600000e-01 -2.160000e-01\n",
       "25  1.0 -5.000000e-01  2.500000e-01 -1.250000e-01\n",
       "26  1.0 -4.000000e-01  1.600000e-01 -6.400000e-02\n",
       "27  1.0 -3.000000e-01  9.000000e-02 -2.700000e-02\n",
       "28  1.0 -2.000000e-01  4.000000e-02 -8.000000e-03\n",
       "29  1.0 -1.000000e-01  1.000000e-02 -1.000000e-03\n",
       "30  1.0  2.664535e-15  7.099748e-30  1.891753e-44\n",
       "31  1.0  1.000000e-01  1.000000e-02  1.000000e-03\n",
       "32  1.0  2.000000e-01  4.000000e-02  8.000000e-03\n",
       "33  1.0  3.000000e-01  9.000000e-02  2.700000e-02\n",
       "34  1.0  4.000000e-01  1.600000e-01  6.400000e-02\n",
       "35  1.0  5.000000e-01  2.500000e-01  1.250000e-01\n",
       "36  1.0  6.000000e-01  3.600000e-01  2.160000e-01\n",
       "37  1.0  7.000000e-01  4.900000e-01  3.430000e-01\n",
       "38  1.0  8.000000e-01  6.400000e-01  5.120000e-01\n",
       "39  1.0  9.000000e-01  8.100000e-01  7.290000e-01\n",
       "40  1.0  1.000000e+00  1.000000e+00  1.000000e+00\n",
       "41  1.0  1.100000e+00  1.210000e+00  1.331000e+00\n",
       "42  1.0  1.200000e+00  1.440000e+00  1.728000e+00\n",
       "43  1.0  1.300000e+00  1.690000e+00  2.197000e+00\n",
       "44  1.0  1.400000e+00  1.960000e+00  2.744000e+00\n",
       "45  1.0  1.500000e+00  2.250000e+00  3.375000e+00\n",
       "46  1.0  1.600000e+00  2.560000e+00  4.096000e+00\n",
       "47  1.0  1.700000e+00  2.890000e+00  4.913000e+00\n",
       "48  1.0  1.800000e+00  3.240000e+00  5.832000e+00\n",
       "49  1.0  1.900000e+00  3.610000e+00  6.859000e+00"
      ]
     },
     "execution_count": 38,
     "metadata": {},
     "output_type": "execute_result"
    }
   ],
   "source": [
    "df_poly = pd.DataFrame(poly.transform(df[[\"x\"]]))\n",
    "df_poly"
   ]
  },
  {
   "cell_type": "markdown",
   "metadata": {
    "cell_id": "172054c90b4a454e987b91627d592641",
    "deepnote_cell_type": "markdown"
   },
   "source": [
    "### Using `Pipeline` to combine multiple steps"
   ]
  },
  {
   "cell_type": "markdown",
   "metadata": {
    "cell_id": "1a7031e6d7c14dfc9ff4cd0edaf9ac70",
    "deepnote_cell_type": "markdown"
   },
   "source": [
    "* Import the `Pipeline` class from `sklearn.pipeline`."
   ]
  },
  {
   "cell_type": "markdown",
   "metadata": {},
   "source": [
    "Here is another class in scikit-learn, the `Pipeline` class.  We also import `LinearRegression`."
   ]
  },
  {
   "cell_type": "code",
   "execution_count": 40,
   "metadata": {
    "cell_id": "d969cf9864674c97af443be05f9d2fe4",
    "deepnote_cell_type": "code",
    "deepnote_to_be_reexecuted": false,
    "execution_millis": 1,
    "execution_start": 1683578972411,
    "source_hash": "1bf728c1"
   },
   "outputs": [],
   "source": [
    "from sklearn.pipeline import Pipeline\n",
    "from sklearn.linear_model import LinearRegression"
   ]
  },
  {
   "cell_type": "markdown",
   "metadata": {
    "cell_id": "92f0a6cd604c4c7ca58a39e3d0d395fc",
    "deepnote_cell_type": "markdown"
   },
   "source": [
    "* Make an instance of this `Pipeline` class.  Pass to the constructor a list of length-2 tuples, where each tuple provides a name for the step (as a string) and the constructor (like `PolynomialFeatures(???)`)."
   ]
  },
  {
   "cell_type": "code",
   "execution_count": 41,
   "metadata": {
    "cell_id": "67f8dae8ca714a9e8268e0975368e90e",
    "deepnote_cell_type": "code",
    "deepnote_to_be_reexecuted": false,
    "execution_millis": 3,
    "execution_start": 1683578980180,
    "source_hash": "bb7121aa"
   },
   "outputs": [],
   "source": [
    "pipe = Pipeline([\n",
    "    (\"poly\", PolynomialFeatures(degree=3)),\n",
    "    (\"reg\", LinearRegression())\n",
    "])"
   ]
  },
  {
   "cell_type": "markdown",
   "metadata": {
    "cell_id": "42409fccd029461a878a3bf82c6f5c64",
    "deepnote_cell_type": "markdown"
   },
   "source": [
    "* Fit this object to the data."
   ]
  },
  {
   "cell_type": "code",
   "execution_count": 43,
   "metadata": {
    "cell_id": "96bc006073a64cc2a103db6d4169504a",
    "deepnote_cell_type": "code",
    "deepnote_to_be_reexecuted": false,
    "execution_millis": 1,
    "execution_start": 1683578993639,
    "source_hash": "fcf8e2c1"
   },
   "outputs": [
    {
     "data": {
      "text/html": [
       "<style>#sk-container-id-4 {color: black;background-color: white;}#sk-container-id-4 pre{padding: 0;}#sk-container-id-4 div.sk-toggleable {background-color: white;}#sk-container-id-4 label.sk-toggleable__label {cursor: pointer;display: block;width: 100%;margin-bottom: 0;padding: 0.3em;box-sizing: border-box;text-align: center;}#sk-container-id-4 label.sk-toggleable__label-arrow:before {content: \"▸\";float: left;margin-right: 0.25em;color: #696969;}#sk-container-id-4 label.sk-toggleable__label-arrow:hover:before {color: black;}#sk-container-id-4 div.sk-estimator:hover label.sk-toggleable__label-arrow:before {color: black;}#sk-container-id-4 div.sk-toggleable__content {max-height: 0;max-width: 0;overflow: hidden;text-align: left;background-color: #f0f8ff;}#sk-container-id-4 div.sk-toggleable__content pre {margin: 0.2em;color: black;border-radius: 0.25em;background-color: #f0f8ff;}#sk-container-id-4 input.sk-toggleable__control:checked~div.sk-toggleable__content {max-height: 200px;max-width: 100%;overflow: auto;}#sk-container-id-4 input.sk-toggleable__control:checked~label.sk-toggleable__label-arrow:before {content: \"▾\";}#sk-container-id-4 div.sk-estimator input.sk-toggleable__control:checked~label.sk-toggleable__label {background-color: #d4ebff;}#sk-container-id-4 div.sk-label input.sk-toggleable__control:checked~label.sk-toggleable__label {background-color: #d4ebff;}#sk-container-id-4 input.sk-hidden--visually {border: 0;clip: rect(1px 1px 1px 1px);clip: rect(1px, 1px, 1px, 1px);height: 1px;margin: -1px;overflow: hidden;padding: 0;position: absolute;width: 1px;}#sk-container-id-4 div.sk-estimator {font-family: monospace;background-color: #f0f8ff;border: 1px dotted black;border-radius: 0.25em;box-sizing: border-box;margin-bottom: 0.5em;}#sk-container-id-4 div.sk-estimator:hover {background-color: #d4ebff;}#sk-container-id-4 div.sk-parallel-item::after {content: \"\";width: 100%;border-bottom: 1px solid gray;flex-grow: 1;}#sk-container-id-4 div.sk-label:hover label.sk-toggleable__label {background-color: #d4ebff;}#sk-container-id-4 div.sk-serial::before {content: \"\";position: absolute;border-left: 1px solid gray;box-sizing: border-box;top: 0;bottom: 0;left: 50%;z-index: 0;}#sk-container-id-4 div.sk-serial {display: flex;flex-direction: column;align-items: center;background-color: white;padding-right: 0.2em;padding-left: 0.2em;position: relative;}#sk-container-id-4 div.sk-item {position: relative;z-index: 1;}#sk-container-id-4 div.sk-parallel {display: flex;align-items: stretch;justify-content: center;background-color: white;position: relative;}#sk-container-id-4 div.sk-item::before, #sk-container-id-4 div.sk-parallel-item::before {content: \"\";position: absolute;border-left: 1px solid gray;box-sizing: border-box;top: 0;bottom: 0;left: 50%;z-index: -1;}#sk-container-id-4 div.sk-parallel-item {display: flex;flex-direction: column;z-index: 1;position: relative;background-color: white;}#sk-container-id-4 div.sk-parallel-item:first-child::after {align-self: flex-end;width: 50%;}#sk-container-id-4 div.sk-parallel-item:last-child::after {align-self: flex-start;width: 50%;}#sk-container-id-4 div.sk-parallel-item:only-child::after {width: 0;}#sk-container-id-4 div.sk-dashed-wrapped {border: 1px dashed gray;margin: 0 0.4em 0.5em 0.4em;box-sizing: border-box;padding-bottom: 0.4em;background-color: white;}#sk-container-id-4 div.sk-label label {font-family: monospace;font-weight: bold;display: inline-block;line-height: 1.2em;}#sk-container-id-4 div.sk-label-container {text-align: center;}#sk-container-id-4 div.sk-container {/* jupyter's `normalize.less` sets `[hidden] { display: none; }` but bootstrap.min.css set `[hidden] { display: none !important; }` so we also need the `!important` here to be able to override the default hidden behavior on the sphinx rendered scikit-learn.org. See: https://github.com/scikit-learn/scikit-learn/issues/21755 */display: inline-block !important;position: relative;}#sk-container-id-4 div.sk-text-repr-fallback {display: none;}</style><div id=\"sk-container-id-4\" class=\"sk-top-container\"><div class=\"sk-text-repr-fallback\"><pre>Pipeline(steps=[(&#x27;poly&#x27;, PolynomialFeatures(degree=3)),\n",
       "                (&#x27;reg&#x27;, LinearRegression())])</pre><b>In a Jupyter environment, please rerun this cell to show the HTML representation or trust the notebook. <br />On GitHub, the HTML representation is unable to render, please try loading this page with nbviewer.org.</b></div><div class=\"sk-container\" hidden><div class=\"sk-item sk-dashed-wrapped\"><div class=\"sk-label-container\"><div class=\"sk-label sk-toggleable\"><input class=\"sk-toggleable__control sk-hidden--visually\" id=\"sk-estimator-id-4\" type=\"checkbox\" ><label for=\"sk-estimator-id-4\" class=\"sk-toggleable__label sk-toggleable__label-arrow\">Pipeline</label><div class=\"sk-toggleable__content\"><pre>Pipeline(steps=[(&#x27;poly&#x27;, PolynomialFeatures(degree=3)),\n",
       "                (&#x27;reg&#x27;, LinearRegression())])</pre></div></div></div><div class=\"sk-serial\"><div class=\"sk-item\"><div class=\"sk-estimator sk-toggleable\"><input class=\"sk-toggleable__control sk-hidden--visually\" id=\"sk-estimator-id-5\" type=\"checkbox\" ><label for=\"sk-estimator-id-5\" class=\"sk-toggleable__label sk-toggleable__label-arrow\">PolynomialFeatures</label><div class=\"sk-toggleable__content\"><pre>PolynomialFeatures(degree=3)</pre></div></div></div><div class=\"sk-item\"><div class=\"sk-estimator sk-toggleable\"><input class=\"sk-toggleable__control sk-hidden--visually\" id=\"sk-estimator-id-6\" type=\"checkbox\" ><label for=\"sk-estimator-id-6\" class=\"sk-toggleable__label sk-toggleable__label-arrow\">LinearRegression</label><div class=\"sk-toggleable__content\"><pre>LinearRegression()</pre></div></div></div></div></div></div></div>"
      ],
      "text/plain": [
       "Pipeline(steps=[('poly', PolynomialFeatures(degree=3)),\n",
       "                ('reg', LinearRegression())])"
      ]
     },
     "execution_count": 43,
     "metadata": {},
     "output_type": "execute_result"
    }
   ],
   "source": [
    "pipe.fit(df[[\"x\"]], df[\"y\"])"
   ]
  },
  {
   "cell_type": "markdown",
   "metadata": {
    "cell_id": "73054b1b99b74937810c1f7052c7921b",
    "deepnote_cell_type": "markdown"
   },
   "source": [
    "* Call the predict method, and add the resulting values to a new column named \"pred\"."
   ]
  },
  {
   "cell_type": "markdown",
   "metadata": {},
   "source": [
    "We will continue with this in the next class."
   ]
  },
  {
   "cell_type": "code",
   "execution_count": 44,
   "metadata": {
    "cell_id": "08e6403f540041bcb135fc905f13ecdb",
    "deepnote_cell_type": "code",
    "deepnote_to_be_reexecuted": false,
    "execution_start": 1683579002075,
    "source_hash": "6fd72bce"
   },
   "outputs": [
    {
     "data": {
      "text/plain": [
       "array([ 0.        ,  3.33524206, -3.03442169, -2.32952623])"
      ]
     },
     "execution_count": 44,
     "metadata": {},
     "output_type": "execute_result"
    }
   ],
   "source": [
    "pipe[\"reg\"].coef_"
   ]
  },
  {
   "cell_type": "markdown",
   "metadata": {
    "cell_id": "8690c4f94f5b4d8d820076029f0cbed2",
    "deepnote_cell_type": "markdown"
   },
   "source": [
    "* Plot the resulting predictions using a red line.  Layer this plot on top of the above scatter plot."
   ]
  },
  {
   "cell_type": "markdown",
   "metadata": {
    "cell_id": "1bc6be7676fe4511b26c4f9429597b5f",
    "deepnote_cell_type": "markdown"
   },
   "source": [
    "* Check the coefficients and intercept that were found during this fit process.  (You can use the `named_steps` attribute, or just use the names directly.)"
   ]
  },
  {
   "cell_type": "markdown",
   "metadata": {
    "cell_id": "2ddc8a22c3634af685c0a40292fe5cb4",
    "deepnote_cell_type": "markdown"
   },
   "source": [
    "* How do these numbers compare to the true coefficients (stored in `m`)?"
   ]
  }
 ],
 "metadata": {
  "deepnote": {},
  "deepnote_execution_queue": [],
  "deepnote_notebook_id": "afaa81c71f12495cb43cc8d01a3efe05",
  "deepnote_persisted_session": {
   "createdAt": "2023-05-08T21:17:27.828Z"
  },
  "kernelspec": {
   "display_name": "Python 3 (ipykernel)",
   "language": "python",
   "name": "python3"
  },
  "language_info": {
   "codemirror_mode": {
    "name": "ipython",
    "version": 3
   },
   "file_extension": ".py",
   "mimetype": "text/x-python",
   "name": "python",
   "nbconvert_exporter": "python",
   "pygments_lexer": "ipython3",
   "version": "3.9.16"
  }
 },
 "nbformat": 4,
 "nbformat_minor": 4
}
