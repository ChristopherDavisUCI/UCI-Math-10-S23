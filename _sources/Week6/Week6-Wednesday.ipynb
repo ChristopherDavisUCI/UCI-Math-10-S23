{
 "cells": [
  {
   "cell_type": "markdown",
   "metadata": {
    "cell_id": "135a832ca0ae4d4f81d7ef502194564b",
    "deepnote_cell_type": "markdown"
   },
   "source": [
    "# Week 6 Wednesday\n",
    "\n",
    "## Announcements\n",
    "\n",
    "* Midterm scores were high (mean 86%!) so there won't be any curving.\n",
    "* Friday office hours are cancelled this week, will have office hours on Monday before lecture instead.\n",
    "* Guest lecture by Prof. Peijie Zhou on Friday.  Professor Zhou will introduce our first example of a machine learning algorithm for **classification**: logistic regression.  (Confusing: even though \"regression\" is in the name, logistic regression is not an algorithm for regression, it's an algorithm for classification.)"
   ]
  },
  {
   "cell_type": "code",
   "execution_count": 4,
   "metadata": {
    "cell_id": "ed785e8a733c4a0bb4211f79a9f1d9f8",
    "deepnote_cell_type": "code",
    "deepnote_to_be_reexecuted": false,
    "execution_millis": 0,
    "execution_start": 1683748939492,
    "source_hash": "7baafd37"
   },
   "outputs": [],
   "source": [
    "import numpy as np\n",
    "import pandas as pd\n",
    "import altair as alt"
   ]
  },
  {
   "cell_type": "markdown",
   "metadata": {
    "cell_id": "50fcfe978ed4462c83a928ef17768cff",
    "deepnote_cell_type": "markdown"
   },
   "source": [
    "## More on polynomial regression\n",
    "\n",
    "Let's go more slowly through the material from the end of class on Monday."
   ]
  },
  {
   "cell_type": "markdown",
   "metadata": {
    "cell_id": "43e42e0f6c1a49b1bdb66e9cf4cb8b24",
    "deepnote_cell_type": "markdown"
   },
   "source": [
    "### Generating random data\n",
    "\n",
    "Here we make some data that follows a random polynomial.  Can we use scikit-learn to estimate the underlying polynomial?\n",
    "\n",
    "Here are some comments about the code:\n",
    "* It's written so that if you change `deg` to another integer, the rest should work the same.\n",
    "* The \"y_true\" column values follow a degree 3 polynomial exactly.\n",
    "* The \"y\" column values are obtained by adding random noise to the \"y_true\" values.\n",
    "* We use two different `size` keyword arguments, one for getting the coefficients, and one for getting a different random value for each row in the DataFrame.\n",
    "* It's better to use normally distributed random values, rather than uniformly distributed values in [0,1], so that the data points are not all within a band of width 1 from the true polynomial.\n",
    "* In general in Python, if you find yourself writing `range(len(???))`, you're probably not writing your code in a \"Pythonic\" way.  We will see an elegant way to replace `range(len(???))` below."
   ]
  },
  {
   "cell_type": "code",
   "execution_count": 5,
   "metadata": {
    "cell_id": "158f65f752624ce79dcf6e2f85081f6e",
    "deepnote_cell_type": "code",
    "deepnote_to_be_reexecuted": false,
    "execution_millis": 5,
    "execution_start": 1683748941499,
    "source_hash": "e1d843a3"
   },
   "outputs": [
    {
     "name": "stdout",
     "output_type": "stream",
     "text": [
      "[-5  1 -3 -2]\n"
     ]
    }
   ],
   "source": [
    "deg = 3\n",
    "rng = np.random.default_rng(seed=27)\n",
    "m = rng.integers(low=-5, high=5, size=deg+1)\n",
    "print(m)\n",
    "df = pd.DataFrame({\"x\": np.arange(-3, 2, 0.1)})\n",
    "df[\"y_true\"] = 0\n",
    "for i in range(len(m)):\n",
    "    df[\"y_true\"] += m[i]*df[\"x\"]**i\n",
    "\n",
    "df[\"y\"] = df[\"y_true\"] + rng.normal(scale=5, size=len(df))"
   ]
  },
  {
   "cell_type": "markdown",
   "metadata": {},
   "source": [
    "At the end of that process, here is how `df` looks."
   ]
  },
  {
   "cell_type": "code",
   "execution_count": 6,
   "metadata": {
    "cell_id": "ae94ace1ec4a47509d7d77a60913d48a",
    "deepnote_cell_type": "code",
    "deepnote_to_be_reexecuted": false,
    "execution_millis": 75,
    "execution_start": 1683749367111,
    "source_hash": "f804c160",
    "tags": [
     "output_scroll"
    ]
   },
   "outputs": [
    {
     "data": {
      "application/vnd.deepnote.dataframe.v3+json": {
       "column_count": 3,
       "columns": [
        {
         "dtype": "float64",
         "name": "x",
         "stats": {
          "histogram": [
           {
            "bin_end": -2.51,
            "bin_start": -3,
            "count": 5
           },
           {
            "bin_end": -2.019999999999999,
            "bin_start": -2.51,
            "count": 5
           },
           {
            "bin_end": -1.529999999999999,
            "bin_start": -2.019999999999999,
            "count": 5
           },
           {
            "bin_end": -1.0399999999999985,
            "bin_start": -1.529999999999999,
            "count": 5
           },
           {
            "bin_end": -0.549999999999998,
            "bin_start": -1.0399999999999985,
            "count": 5
           },
           {
            "bin_end": -0.05999999999999783,
            "bin_start": -0.549999999999998,
            "count": 5
           },
           {
            "bin_end": 0.4300000000000028,
            "bin_start": -0.05999999999999783,
            "count": 5
           },
           {
            "bin_end": 0.920000000000003,
            "bin_start": 0.4300000000000028,
            "count": 5
           },
           {
            "bin_end": 1.4100000000000037,
            "bin_start": 0.920000000000003,
            "count": 5
           },
           {
            "bin_end": 1.900000000000004,
            "bin_start": 1.4100000000000037,
            "count": 5
           }
          ],
          "max": "1.900000000000004",
          "min": "-3.0",
          "nan_count": 0,
          "unique_count": 50
         }
        },
        {
         "dtype": "float64",
         "name": "y_true",
         "stats": {
          "histogram": [
           {
            "bin_end": -22.98320000000011,
            "bin_start": -27.648000000000124,
            "count": 2
           },
           {
            "bin_end": -18.3184000000001,
            "bin_start": -22.98320000000011,
            "count": 2
           },
           {
            "bin_end": -13.653600000000088,
            "bin_start": -18.3184000000001,
            "count": 2
           },
           {
            "bin_end": -8.988800000000076,
            "bin_start": -13.653600000000088,
            "count": 4
           },
           {
            "bin_end": -4.324000000000062,
            "bin_start": -8.988800000000076,
            "count": 28
           },
           {
            "bin_end": 0.34079999999994826,
            "bin_start": -4.324000000000062,
            "count": 4
           },
           {
            "bin_end": 5.0055999999999585,
            "bin_start": 0.34079999999994826,
            "count": 3
           },
           {
            "bin_end": 9.670399999999972,
            "bin_start": 5.0055999999999585,
            "count": 1
           },
           {
            "bin_end": 14.335199999999986,
            "bin_start": 9.670399999999972,
            "count": 2
           },
           {
            "bin_end": 19,
            "bin_start": 14.335199999999986,
            "count": 2
           }
          ],
          "max": "19.0",
          "min": "-27.648000000000124",
          "nan_count": 0,
          "unique_count": 50
         }
        },
        {
         "dtype": "float64",
         "name": "y",
         "stats": {
          "histogram": [
           {
            "bin_end": -19.74769268223246,
            "bin_start": -24.589036941447688,
            "count": 3
           },
           {
            "bin_end": -14.906348423017233,
            "bin_start": -19.74769268223246,
            "count": 4
           },
           {
            "bin_end": -10.065004163802005,
            "bin_start": -14.906348423017233,
            "count": 7
           },
           {
            "bin_end": -5.223659904586778,
            "bin_start": -10.065004163802005,
            "count": 15
           },
           {
            "bin_end": -0.38231564537155194,
            "bin_start": -5.223659904586778,
            "count": 12
           },
           {
            "bin_end": 4.459028613843678,
            "bin_start": -0.38231564537155194,
            "count": 3
           },
           {
            "bin_end": 9.300372873058905,
            "bin_start": 4.459028613843678,
            "count": 2
           },
           {
            "bin_end": 14.141717132274131,
            "bin_start": 9.300372873058905,
            "count": 2
           },
           {
            "bin_end": 18.983061391489358,
            "bin_start": 14.141717132274131,
            "count": 1
           },
           {
            "bin_end": 23.824405650704584,
            "bin_start": 18.983061391489358,
            "count": 1
           }
          ],
          "max": "23.824405650704584",
          "min": "-24.589036941447688",
          "nan_count": 0,
          "unique_count": 50
         }
        },
        {
         "dtype": "int64",
         "name": "_deepnote_index_column"
        }
       ],
       "row_count": 50,
       "rows": [
        {
         "_deepnote_index_column": "0",
         "x": "-3.0",
         "y": "23.824405650704584",
         "y_true": "19.0"
        },
        {
         "_deepnote_index_column": "1",
         "x": "-2.9",
         "y": "10.237108055098796",
         "y_true": "15.647999999999996"
        },
        {
         "_deepnote_index_column": "2",
         "x": "-2.8",
         "y": "16.91908679057319",
         "y_true": "12.583999999999993"
        },
        {
         "_deepnote_index_column": "3",
         "x": "-2.6999999999999997",
         "y": "8.955196204317206",
         "y_true": "9.795999999999992"
        },
        {
         "_deepnote_index_column": "4",
         "x": "-2.5999999999999996",
         "y": "6.323695104370164",
         "y_true": "7.271999999999991"
        },
        {
         "_deepnote_index_column": "5",
         "x": "-2.4999999999999996",
         "y": "10.602832278036008",
         "y_true": "4.999999999999989"
        },
        {
         "_deepnote_index_column": "6",
         "x": "-2.3999999999999995",
         "y": "0.7841046813223418",
         "y_true": "2.967999999999993"
        },
        {
         "_deepnote_index_column": "7",
         "x": "-2.2999999999999994",
         "y": "-5.234226812329393",
         "y_true": "1.1639999999999908"
        },
        {
         "_deepnote_index_column": "8",
         "x": "-2.1999999999999993",
         "y": "-2.7714988713165125",
         "y_true": "-0.4240000000000137"
        },
        {
         "_deepnote_index_column": "9",
         "x": "-2.099999999999999",
         "y": "-7.792135811821553",
         "y_true": "-1.808000000000014"
        }
       ]
      },
      "text/html": [
       "<div>\n",
       "<style scoped>\n",
       "    .dataframe tbody tr th:only-of-type {\n",
       "        vertical-align: middle;\n",
       "    }\n",
       "\n",
       "    .dataframe tbody tr th {\n",
       "        vertical-align: top;\n",
       "    }\n",
       "\n",
       "    .dataframe thead th {\n",
       "        text-align: right;\n",
       "    }\n",
       "</style>\n",
       "<table border=\"1\" class=\"dataframe\">\n",
       "  <thead>\n",
       "    <tr style=\"text-align: right;\">\n",
       "      <th></th>\n",
       "      <th>x</th>\n",
       "      <th>y_true</th>\n",
       "      <th>y</th>\n",
       "    </tr>\n",
       "  </thead>\n",
       "  <tbody>\n",
       "    <tr>\n",
       "      <th>0</th>\n",
       "      <td>-3.000000e+00</td>\n",
       "      <td>19.000</td>\n",
       "      <td>23.824406</td>\n",
       "    </tr>\n",
       "    <tr>\n",
       "      <th>1</th>\n",
       "      <td>-2.900000e+00</td>\n",
       "      <td>15.648</td>\n",
       "      <td>10.237108</td>\n",
       "    </tr>\n",
       "    <tr>\n",
       "      <th>2</th>\n",
       "      <td>-2.800000e+00</td>\n",
       "      <td>12.584</td>\n",
       "      <td>16.919087</td>\n",
       "    </tr>\n",
       "    <tr>\n",
       "      <th>3</th>\n",
       "      <td>-2.700000e+00</td>\n",
       "      <td>9.796</td>\n",
       "      <td>8.955196</td>\n",
       "    </tr>\n",
       "    <tr>\n",
       "      <th>4</th>\n",
       "      <td>-2.600000e+00</td>\n",
       "      <td>7.272</td>\n",
       "      <td>6.323695</td>\n",
       "    </tr>\n",
       "    <tr>\n",
       "      <th>5</th>\n",
       "      <td>-2.500000e+00</td>\n",
       "      <td>5.000</td>\n",
       "      <td>10.602832</td>\n",
       "    </tr>\n",
       "    <tr>\n",
       "      <th>6</th>\n",
       "      <td>-2.400000e+00</td>\n",
       "      <td>2.968</td>\n",
       "      <td>0.784105</td>\n",
       "    </tr>\n",
       "    <tr>\n",
       "      <th>7</th>\n",
       "      <td>-2.300000e+00</td>\n",
       "      <td>1.164</td>\n",
       "      <td>-5.234227</td>\n",
       "    </tr>\n",
       "    <tr>\n",
       "      <th>8</th>\n",
       "      <td>-2.200000e+00</td>\n",
       "      <td>-0.424</td>\n",
       "      <td>-2.771499</td>\n",
       "    </tr>\n",
       "    <tr>\n",
       "      <th>9</th>\n",
       "      <td>-2.100000e+00</td>\n",
       "      <td>-1.808</td>\n",
       "      <td>-7.792136</td>\n",
       "    </tr>\n",
       "    <tr>\n",
       "      <th>10</th>\n",
       "      <td>-2.000000e+00</td>\n",
       "      <td>-3.000</td>\n",
       "      <td>-12.199286</td>\n",
       "    </tr>\n",
       "    <tr>\n",
       "      <th>11</th>\n",
       "      <td>-1.900000e+00</td>\n",
       "      <td>-4.012</td>\n",
       "      <td>-4.739785</td>\n",
       "    </tr>\n",
       "    <tr>\n",
       "      <th>12</th>\n",
       "      <td>-1.800000e+00</td>\n",
       "      <td>-4.856</td>\n",
       "      <td>-2.864605</td>\n",
       "    </tr>\n",
       "    <tr>\n",
       "      <th>13</th>\n",
       "      <td>-1.700000e+00</td>\n",
       "      <td>-5.544</td>\n",
       "      <td>-16.354306</td>\n",
       "    </tr>\n",
       "    <tr>\n",
       "      <th>14</th>\n",
       "      <td>-1.600000e+00</td>\n",
       "      <td>-6.088</td>\n",
       "      <td>-6.015613</td>\n",
       "    </tr>\n",
       "    <tr>\n",
       "      <th>15</th>\n",
       "      <td>-1.500000e+00</td>\n",
       "      <td>-6.500</td>\n",
       "      <td>-5.224009</td>\n",
       "    </tr>\n",
       "    <tr>\n",
       "      <th>16</th>\n",
       "      <td>-1.400000e+00</td>\n",
       "      <td>-6.792</td>\n",
       "      <td>-5.926045</td>\n",
       "    </tr>\n",
       "    <tr>\n",
       "      <th>17</th>\n",
       "      <td>-1.300000e+00</td>\n",
       "      <td>-6.976</td>\n",
       "      <td>-13.326468</td>\n",
       "    </tr>\n",
       "    <tr>\n",
       "      <th>18</th>\n",
       "      <td>-1.200000e+00</td>\n",
       "      <td>-7.064</td>\n",
       "      <td>-8.618807</td>\n",
       "    </tr>\n",
       "    <tr>\n",
       "      <th>19</th>\n",
       "      <td>-1.100000e+00</td>\n",
       "      <td>-7.068</td>\n",
       "      <td>-7.999078</td>\n",
       "    </tr>\n",
       "    <tr>\n",
       "      <th>20</th>\n",
       "      <td>-1.000000e+00</td>\n",
       "      <td>-7.000</td>\n",
       "      <td>-4.835120</td>\n",
       "    </tr>\n",
       "    <tr>\n",
       "      <th>21</th>\n",
       "      <td>-9.000000e-01</td>\n",
       "      <td>-6.872</td>\n",
       "      <td>-13.308757</td>\n",
       "    </tr>\n",
       "    <tr>\n",
       "      <th>22</th>\n",
       "      <td>-8.000000e-01</td>\n",
       "      <td>-6.696</td>\n",
       "      <td>-4.778936</td>\n",
       "    </tr>\n",
       "    <tr>\n",
       "      <th>23</th>\n",
       "      <td>-7.000000e-01</td>\n",
       "      <td>-6.484</td>\n",
       "      <td>-1.524600</td>\n",
       "    </tr>\n",
       "    <tr>\n",
       "      <th>24</th>\n",
       "      <td>-6.000000e-01</td>\n",
       "      <td>-6.248</td>\n",
       "      <td>-17.686227</td>\n",
       "    </tr>\n",
       "    <tr>\n",
       "      <th>25</th>\n",
       "      <td>-5.000000e-01</td>\n",
       "      <td>-6.000</td>\n",
       "      <td>-4.880304</td>\n",
       "    </tr>\n",
       "    <tr>\n",
       "      <th>26</th>\n",
       "      <td>-4.000000e-01</td>\n",
       "      <td>-5.752</td>\n",
       "      <td>-13.385067</td>\n",
       "    </tr>\n",
       "    <tr>\n",
       "      <th>27</th>\n",
       "      <td>-3.000000e-01</td>\n",
       "      <td>-5.516</td>\n",
       "      <td>-6.368335</td>\n",
       "    </tr>\n",
       "    <tr>\n",
       "      <th>28</th>\n",
       "      <td>-2.000000e-01</td>\n",
       "      <td>-5.304</td>\n",
       "      <td>-8.704742</td>\n",
       "    </tr>\n",
       "    <tr>\n",
       "      <th>29</th>\n",
       "      <td>-1.000000e-01</td>\n",
       "      <td>-5.128</td>\n",
       "      <td>1.240175</td>\n",
       "    </tr>\n",
       "    <tr>\n",
       "      <th>30</th>\n",
       "      <td>2.664535e-15</td>\n",
       "      <td>-5.000</td>\n",
       "      <td>-4.714457</td>\n",
       "    </tr>\n",
       "    <tr>\n",
       "      <th>31</th>\n",
       "      <td>1.000000e-01</td>\n",
       "      <td>-4.932</td>\n",
       "      <td>-0.955557</td>\n",
       "    </tr>\n",
       "    <tr>\n",
       "      <th>32</th>\n",
       "      <td>2.000000e-01</td>\n",
       "      <td>-4.936</td>\n",
       "      <td>-10.169895</td>\n",
       "    </tr>\n",
       "    <tr>\n",
       "      <th>33</th>\n",
       "      <td>3.000000e-01</td>\n",
       "      <td>-5.024</td>\n",
       "      <td>-2.721364</td>\n",
       "    </tr>\n",
       "    <tr>\n",
       "      <th>34</th>\n",
       "      <td>4.000000e-01</td>\n",
       "      <td>-5.208</td>\n",
       "      <td>1.903864</td>\n",
       "    </tr>\n",
       "    <tr>\n",
       "      <th>35</th>\n",
       "      <td>5.000000e-01</td>\n",
       "      <td>-5.500</td>\n",
       "      <td>-9.036285</td>\n",
       "    </tr>\n",
       "    <tr>\n",
       "      <th>36</th>\n",
       "      <td>6.000000e-01</td>\n",
       "      <td>-5.912</td>\n",
       "      <td>-2.582631</td>\n",
       "    </tr>\n",
       "    <tr>\n",
       "      <th>37</th>\n",
       "      <td>7.000000e-01</td>\n",
       "      <td>-6.456</td>\n",
       "      <td>-4.049151</td>\n",
       "    </tr>\n",
       "    <tr>\n",
       "      <th>38</th>\n",
       "      <td>8.000000e-01</td>\n",
       "      <td>-7.144</td>\n",
       "      <td>-7.467370</td>\n",
       "    </tr>\n",
       "    <tr>\n",
       "      <th>39</th>\n",
       "      <td>9.000000e-01</td>\n",
       "      <td>-7.988</td>\n",
       "      <td>-14.245467</td>\n",
       "    </tr>\n",
       "    <tr>\n",
       "      <th>40</th>\n",
       "      <td>1.000000e+00</td>\n",
       "      <td>-9.000</td>\n",
       "      <td>-7.584490</td>\n",
       "    </tr>\n",
       "    <tr>\n",
       "      <th>41</th>\n",
       "      <td>1.100000e+00</td>\n",
       "      <td>-10.192</td>\n",
       "      <td>-11.543440</td>\n",
       "    </tr>\n",
       "    <tr>\n",
       "      <th>42</th>\n",
       "      <td>1.200000e+00</td>\n",
       "      <td>-11.576</td>\n",
       "      <td>-8.565901</td>\n",
       "    </tr>\n",
       "    <tr>\n",
       "      <th>43</th>\n",
       "      <td>1.300000e+00</td>\n",
       "      <td>-13.164</td>\n",
       "      <td>-9.269588</td>\n",
       "    </tr>\n",
       "    <tr>\n",
       "      <th>44</th>\n",
       "      <td>1.400000e+00</td>\n",
       "      <td>-14.968</td>\n",
       "      <td>-7.295300</td>\n",
       "    </tr>\n",
       "    <tr>\n",
       "      <th>45</th>\n",
       "      <td>1.500000e+00</td>\n",
       "      <td>-17.000</td>\n",
       "      <td>-21.182783</td>\n",
       "    </tr>\n",
       "    <tr>\n",
       "      <th>46</th>\n",
       "      <td>1.600000e+00</td>\n",
       "      <td>-19.272</td>\n",
       "      <td>-14.946791</td>\n",
       "    </tr>\n",
       "    <tr>\n",
       "      <th>47</th>\n",
       "      <td>1.700000e+00</td>\n",
       "      <td>-21.796</td>\n",
       "      <td>-18.291899</td>\n",
       "    </tr>\n",
       "    <tr>\n",
       "      <th>48</th>\n",
       "      <td>1.800000e+00</td>\n",
       "      <td>-24.584</td>\n",
       "      <td>-24.206884</td>\n",
       "    </tr>\n",
       "    <tr>\n",
       "      <th>49</th>\n",
       "      <td>1.900000e+00</td>\n",
       "      <td>-27.648</td>\n",
       "      <td>-24.589037</td>\n",
       "    </tr>\n",
       "  </tbody>\n",
       "</table>\n",
       "</div>"
      ],
      "text/plain": [
       "               x  y_true          y\n",
       "0  -3.000000e+00  19.000  23.824406\n",
       "1  -2.900000e+00  15.648  10.237108\n",
       "2  -2.800000e+00  12.584  16.919087\n",
       "3  -2.700000e+00   9.796   8.955196\n",
       "4  -2.600000e+00   7.272   6.323695\n",
       "5  -2.500000e+00   5.000  10.602832\n",
       "6  -2.400000e+00   2.968   0.784105\n",
       "7  -2.300000e+00   1.164  -5.234227\n",
       "8  -2.200000e+00  -0.424  -2.771499\n",
       "9  -2.100000e+00  -1.808  -7.792136\n",
       "10 -2.000000e+00  -3.000 -12.199286\n",
       "11 -1.900000e+00  -4.012  -4.739785\n",
       "12 -1.800000e+00  -4.856  -2.864605\n",
       "13 -1.700000e+00  -5.544 -16.354306\n",
       "14 -1.600000e+00  -6.088  -6.015613\n",
       "15 -1.500000e+00  -6.500  -5.224009\n",
       "16 -1.400000e+00  -6.792  -5.926045\n",
       "17 -1.300000e+00  -6.976 -13.326468\n",
       "18 -1.200000e+00  -7.064  -8.618807\n",
       "19 -1.100000e+00  -7.068  -7.999078\n",
       "20 -1.000000e+00  -7.000  -4.835120\n",
       "21 -9.000000e-01  -6.872 -13.308757\n",
       "22 -8.000000e-01  -6.696  -4.778936\n",
       "23 -7.000000e-01  -6.484  -1.524600\n",
       "24 -6.000000e-01  -6.248 -17.686227\n",
       "25 -5.000000e-01  -6.000  -4.880304\n",
       "26 -4.000000e-01  -5.752 -13.385067\n",
       "27 -3.000000e-01  -5.516  -6.368335\n",
       "28 -2.000000e-01  -5.304  -8.704742\n",
       "29 -1.000000e-01  -5.128   1.240175\n",
       "30  2.664535e-15  -5.000  -4.714457\n",
       "31  1.000000e-01  -4.932  -0.955557\n",
       "32  2.000000e-01  -4.936 -10.169895\n",
       "33  3.000000e-01  -5.024  -2.721364\n",
       "34  4.000000e-01  -5.208   1.903864\n",
       "35  5.000000e-01  -5.500  -9.036285\n",
       "36  6.000000e-01  -5.912  -2.582631\n",
       "37  7.000000e-01  -6.456  -4.049151\n",
       "38  8.000000e-01  -7.144  -7.467370\n",
       "39  9.000000e-01  -7.988 -14.245467\n",
       "40  1.000000e+00  -9.000  -7.584490\n",
       "41  1.100000e+00 -10.192 -11.543440\n",
       "42  1.200000e+00 -11.576  -8.565901\n",
       "43  1.300000e+00 -13.164  -9.269588\n",
       "44  1.400000e+00 -14.968  -7.295300\n",
       "45  1.500000e+00 -17.000 -21.182783\n",
       "46  1.600000e+00 -19.272 -14.946791\n",
       "47  1.700000e+00 -21.796 -18.291899\n",
       "48  1.800000e+00 -24.584 -24.206884\n",
       "49  1.900000e+00 -27.648 -24.589037"
      ]
     },
     "execution_count": 6,
     "metadata": {},
     "output_type": "execute_result"
    }
   ],
   "source": [
    "df"
   ]
  },
  {
   "cell_type": "markdown",
   "metadata": {
    "cell_id": "4ebec102f2584d0d878b944a1d265f39",
    "deepnote_cell_type": "markdown"
   },
   "source": [
    "Aside: If you are using `range(len(???))` in Python, there is almost always a more elegant way to accomplish the same thing.\n",
    "\n",
    "* Rewrite the code above using `enumerate(m)` instead of `range(len(m))`.\n",
    "\n",
    "Recall that `m` holds the four randomly chosen coefficients for our true polynomial.  Why couldn't we use just `for c in m:` above?  Because we needed to know both the value in `m` and its index.  For example, we needed to know that `-3` corresponded to the `x**2` column (`m[2]` is `-3`).\n",
    "\n",
    "This is such a common pattern in Python, that a function is provided to help accomplish this, called `enumerate`.  When we iterate through `enumerate(m)`, pairs of elements are returned: the index, and the value.  For example in our case `m = [-5,  1, -3, -2]`, and so the initial pair returned will be `(0, -5)`, the next pair will be `(1, 1)`, the next pair will be `(2, -3)`, and the last pair will be `(3, -2)`.  We assign the values in these pairs to `i` and `c`, respectively.\n",
    "\n",
    "If this `enumerate` is confusing, don't focus too much on it, it's a Python topic, not a Data Science or Machine Learning topic, but I wanted to show it because it leads to more elegant code in this case."
   ]
  },
  {
   "cell_type": "code",
   "execution_count": 9,
   "metadata": {
    "cell_id": "7ce641c620324d01a969268b35009235",
    "deepnote_cell_type": "code",
    "deepnote_to_be_reexecuted": false,
    "execution_millis": 6,
    "execution_start": 1683749655321,
    "source_hash": "afcb62ab"
   },
   "outputs": [
    {
     "name": "stdout",
     "output_type": "stream",
     "text": [
      "[-5  1 -3 -2]\n"
     ]
    }
   ],
   "source": [
    "deg = 3\n",
    "rng = np.random.default_rng(seed=27)\n",
    "m = rng.integers(low=-5, high=5, size=deg+1)\n",
    "print(m)\n",
    "df = pd.DataFrame({\"x\": np.arange(-3, 2, 0.1)})\n",
    "df[\"y_true\"] = 0\n",
    "for i,c in enumerate(m):\n",
    "    df[\"y_true\"] += c*df[\"x\"]**i\n",
    "\n",
    "df[\"y\"] = df[\"y_true\"] + rng.normal(scale=5, size=len(df))"
   ]
  },
  {
   "cell_type": "markdown",
   "metadata": {},
   "source": [
    "Here we check that the resulting DataFrame looks the same."
   ]
  },
  {
   "cell_type": "code",
   "execution_count": 8,
   "metadata": {
    "cell_id": "c86cae0266b446b2855672ee29360b81",
    "deepnote_cell_type": "code",
    "deepnote_to_be_reexecuted": false,
    "execution_millis": 0,
    "execution_start": 1683749617727,
    "source_hash": "f804c160",
    "tags": [
     "output_scroll"
    ]
   },
   "outputs": [
    {
     "data": {
      "application/vnd.deepnote.dataframe.v3+json": {
       "column_count": 3,
       "columns": [
        {
         "dtype": "float64",
         "name": "x",
         "stats": {
          "histogram": [
           {
            "bin_end": -2.51,
            "bin_start": -3,
            "count": 5
           },
           {
            "bin_end": -2.019999999999999,
            "bin_start": -2.51,
            "count": 5
           },
           {
            "bin_end": -1.529999999999999,
            "bin_start": -2.019999999999999,
            "count": 5
           },
           {
            "bin_end": -1.0399999999999985,
            "bin_start": -1.529999999999999,
            "count": 5
           },
           {
            "bin_end": -0.549999999999998,
            "bin_start": -1.0399999999999985,
            "count": 5
           },
           {
            "bin_end": -0.05999999999999783,
            "bin_start": -0.549999999999998,
            "count": 5
           },
           {
            "bin_end": 0.4300000000000028,
            "bin_start": -0.05999999999999783,
            "count": 5
           },
           {
            "bin_end": 0.920000000000003,
            "bin_start": 0.4300000000000028,
            "count": 5
           },
           {
            "bin_end": 1.4100000000000037,
            "bin_start": 0.920000000000003,
            "count": 5
           },
           {
            "bin_end": 1.900000000000004,
            "bin_start": 1.4100000000000037,
            "count": 5
           }
          ],
          "max": "1.900000000000004",
          "min": "-3.0",
          "nan_count": 0,
          "unique_count": 50
         }
        },
        {
         "dtype": "float64",
         "name": "y_true",
         "stats": {
          "histogram": [
           {
            "bin_end": -22.98320000000011,
            "bin_start": -27.648000000000124,
            "count": 2
           },
           {
            "bin_end": -18.3184000000001,
            "bin_start": -22.98320000000011,
            "count": 2
           },
           {
            "bin_end": -13.653600000000088,
            "bin_start": -18.3184000000001,
            "count": 2
           },
           {
            "bin_end": -8.988800000000076,
            "bin_start": -13.653600000000088,
            "count": 4
           },
           {
            "bin_end": -4.324000000000062,
            "bin_start": -8.988800000000076,
            "count": 28
           },
           {
            "bin_end": 0.34079999999994826,
            "bin_start": -4.324000000000062,
            "count": 4
           },
           {
            "bin_end": 5.0055999999999585,
            "bin_start": 0.34079999999994826,
            "count": 3
           },
           {
            "bin_end": 9.670399999999972,
            "bin_start": 5.0055999999999585,
            "count": 1
           },
           {
            "bin_end": 14.335199999999986,
            "bin_start": 9.670399999999972,
            "count": 2
           },
           {
            "bin_end": 19,
            "bin_start": 14.335199999999986,
            "count": 2
           }
          ],
          "max": "19.0",
          "min": "-27.648000000000124",
          "nan_count": 0,
          "unique_count": 50
         }
        },
        {
         "dtype": "float64",
         "name": "y",
         "stats": {
          "histogram": [
           {
            "bin_end": -19.74769268223246,
            "bin_start": -24.589036941447688,
            "count": 3
           },
           {
            "bin_end": -14.906348423017233,
            "bin_start": -19.74769268223246,
            "count": 4
           },
           {
            "bin_end": -10.065004163802005,
            "bin_start": -14.906348423017233,
            "count": 7
           },
           {
            "bin_end": -5.223659904586778,
            "bin_start": -10.065004163802005,
            "count": 15
           },
           {
            "bin_end": -0.38231564537155194,
            "bin_start": -5.223659904586778,
            "count": 12
           },
           {
            "bin_end": 4.459028613843678,
            "bin_start": -0.38231564537155194,
            "count": 3
           },
           {
            "bin_end": 9.300372873058905,
            "bin_start": 4.459028613843678,
            "count": 2
           },
           {
            "bin_end": 14.141717132274131,
            "bin_start": 9.300372873058905,
            "count": 2
           },
           {
            "bin_end": 18.983061391489358,
            "bin_start": 14.141717132274131,
            "count": 1
           },
           {
            "bin_end": 23.824405650704584,
            "bin_start": 18.983061391489358,
            "count": 1
           }
          ],
          "max": "23.824405650704584",
          "min": "-24.589036941447688",
          "nan_count": 0,
          "unique_count": 50
         }
        },
        {
         "dtype": "int64",
         "name": "_deepnote_index_column"
        }
       ],
       "row_count": 50,
       "rows": [
        {
         "_deepnote_index_column": "0",
         "x": "-3.0",
         "y": "23.824405650704584",
         "y_true": "19.0"
        },
        {
         "_deepnote_index_column": "1",
         "x": "-2.9",
         "y": "10.237108055098796",
         "y_true": "15.647999999999996"
        },
        {
         "_deepnote_index_column": "2",
         "x": "-2.8",
         "y": "16.91908679057319",
         "y_true": "12.583999999999993"
        },
        {
         "_deepnote_index_column": "3",
         "x": "-2.6999999999999997",
         "y": "8.955196204317206",
         "y_true": "9.795999999999992"
        },
        {
         "_deepnote_index_column": "4",
         "x": "-2.5999999999999996",
         "y": "6.323695104370164",
         "y_true": "7.271999999999991"
        },
        {
         "_deepnote_index_column": "5",
         "x": "-2.4999999999999996",
         "y": "10.602832278036008",
         "y_true": "4.999999999999989"
        },
        {
         "_deepnote_index_column": "6",
         "x": "-2.3999999999999995",
         "y": "0.7841046813223418",
         "y_true": "2.967999999999993"
        },
        {
         "_deepnote_index_column": "7",
         "x": "-2.2999999999999994",
         "y": "-5.234226812329393",
         "y_true": "1.1639999999999908"
        },
        {
         "_deepnote_index_column": "8",
         "x": "-2.1999999999999993",
         "y": "-2.7714988713165125",
         "y_true": "-0.4240000000000137"
        },
        {
         "_deepnote_index_column": "9",
         "x": "-2.099999999999999",
         "y": "-7.792135811821553",
         "y_true": "-1.808000000000014"
        }
       ]
      },
      "text/html": [
       "<div>\n",
       "<style scoped>\n",
       "    .dataframe tbody tr th:only-of-type {\n",
       "        vertical-align: middle;\n",
       "    }\n",
       "\n",
       "    .dataframe tbody tr th {\n",
       "        vertical-align: top;\n",
       "    }\n",
       "\n",
       "    .dataframe thead th {\n",
       "        text-align: right;\n",
       "    }\n",
       "</style>\n",
       "<table border=\"1\" class=\"dataframe\">\n",
       "  <thead>\n",
       "    <tr style=\"text-align: right;\">\n",
       "      <th></th>\n",
       "      <th>x</th>\n",
       "      <th>y_true</th>\n",
       "      <th>y</th>\n",
       "    </tr>\n",
       "  </thead>\n",
       "  <tbody>\n",
       "    <tr>\n",
       "      <th>0</th>\n",
       "      <td>-3.000000e+00</td>\n",
       "      <td>19.000</td>\n",
       "      <td>23.824406</td>\n",
       "    </tr>\n",
       "    <tr>\n",
       "      <th>1</th>\n",
       "      <td>-2.900000e+00</td>\n",
       "      <td>15.648</td>\n",
       "      <td>10.237108</td>\n",
       "    </tr>\n",
       "    <tr>\n",
       "      <th>2</th>\n",
       "      <td>-2.800000e+00</td>\n",
       "      <td>12.584</td>\n",
       "      <td>16.919087</td>\n",
       "    </tr>\n",
       "    <tr>\n",
       "      <th>3</th>\n",
       "      <td>-2.700000e+00</td>\n",
       "      <td>9.796</td>\n",
       "      <td>8.955196</td>\n",
       "    </tr>\n",
       "    <tr>\n",
       "      <th>4</th>\n",
       "      <td>-2.600000e+00</td>\n",
       "      <td>7.272</td>\n",
       "      <td>6.323695</td>\n",
       "    </tr>\n",
       "    <tr>\n",
       "      <th>5</th>\n",
       "      <td>-2.500000e+00</td>\n",
       "      <td>5.000</td>\n",
       "      <td>10.602832</td>\n",
       "    </tr>\n",
       "    <tr>\n",
       "      <th>6</th>\n",
       "      <td>-2.400000e+00</td>\n",
       "      <td>2.968</td>\n",
       "      <td>0.784105</td>\n",
       "    </tr>\n",
       "    <tr>\n",
       "      <th>7</th>\n",
       "      <td>-2.300000e+00</td>\n",
       "      <td>1.164</td>\n",
       "      <td>-5.234227</td>\n",
       "    </tr>\n",
       "    <tr>\n",
       "      <th>8</th>\n",
       "      <td>-2.200000e+00</td>\n",
       "      <td>-0.424</td>\n",
       "      <td>-2.771499</td>\n",
       "    </tr>\n",
       "    <tr>\n",
       "      <th>9</th>\n",
       "      <td>-2.100000e+00</td>\n",
       "      <td>-1.808</td>\n",
       "      <td>-7.792136</td>\n",
       "    </tr>\n",
       "    <tr>\n",
       "      <th>10</th>\n",
       "      <td>-2.000000e+00</td>\n",
       "      <td>-3.000</td>\n",
       "      <td>-12.199286</td>\n",
       "    </tr>\n",
       "    <tr>\n",
       "      <th>11</th>\n",
       "      <td>-1.900000e+00</td>\n",
       "      <td>-4.012</td>\n",
       "      <td>-4.739785</td>\n",
       "    </tr>\n",
       "    <tr>\n",
       "      <th>12</th>\n",
       "      <td>-1.800000e+00</td>\n",
       "      <td>-4.856</td>\n",
       "      <td>-2.864605</td>\n",
       "    </tr>\n",
       "    <tr>\n",
       "      <th>13</th>\n",
       "      <td>-1.700000e+00</td>\n",
       "      <td>-5.544</td>\n",
       "      <td>-16.354306</td>\n",
       "    </tr>\n",
       "    <tr>\n",
       "      <th>14</th>\n",
       "      <td>-1.600000e+00</td>\n",
       "      <td>-6.088</td>\n",
       "      <td>-6.015613</td>\n",
       "    </tr>\n",
       "    <tr>\n",
       "      <th>15</th>\n",
       "      <td>-1.500000e+00</td>\n",
       "      <td>-6.500</td>\n",
       "      <td>-5.224009</td>\n",
       "    </tr>\n",
       "    <tr>\n",
       "      <th>16</th>\n",
       "      <td>-1.400000e+00</td>\n",
       "      <td>-6.792</td>\n",
       "      <td>-5.926045</td>\n",
       "    </tr>\n",
       "    <tr>\n",
       "      <th>17</th>\n",
       "      <td>-1.300000e+00</td>\n",
       "      <td>-6.976</td>\n",
       "      <td>-13.326468</td>\n",
       "    </tr>\n",
       "    <tr>\n",
       "      <th>18</th>\n",
       "      <td>-1.200000e+00</td>\n",
       "      <td>-7.064</td>\n",
       "      <td>-8.618807</td>\n",
       "    </tr>\n",
       "    <tr>\n",
       "      <th>19</th>\n",
       "      <td>-1.100000e+00</td>\n",
       "      <td>-7.068</td>\n",
       "      <td>-7.999078</td>\n",
       "    </tr>\n",
       "    <tr>\n",
       "      <th>20</th>\n",
       "      <td>-1.000000e+00</td>\n",
       "      <td>-7.000</td>\n",
       "      <td>-4.835120</td>\n",
       "    </tr>\n",
       "    <tr>\n",
       "      <th>21</th>\n",
       "      <td>-9.000000e-01</td>\n",
       "      <td>-6.872</td>\n",
       "      <td>-13.308757</td>\n",
       "    </tr>\n",
       "    <tr>\n",
       "      <th>22</th>\n",
       "      <td>-8.000000e-01</td>\n",
       "      <td>-6.696</td>\n",
       "      <td>-4.778936</td>\n",
       "    </tr>\n",
       "    <tr>\n",
       "      <th>23</th>\n",
       "      <td>-7.000000e-01</td>\n",
       "      <td>-6.484</td>\n",
       "      <td>-1.524600</td>\n",
       "    </tr>\n",
       "    <tr>\n",
       "      <th>24</th>\n",
       "      <td>-6.000000e-01</td>\n",
       "      <td>-6.248</td>\n",
       "      <td>-17.686227</td>\n",
       "    </tr>\n",
       "    <tr>\n",
       "      <th>25</th>\n",
       "      <td>-5.000000e-01</td>\n",
       "      <td>-6.000</td>\n",
       "      <td>-4.880304</td>\n",
       "    </tr>\n",
       "    <tr>\n",
       "      <th>26</th>\n",
       "      <td>-4.000000e-01</td>\n",
       "      <td>-5.752</td>\n",
       "      <td>-13.385067</td>\n",
       "    </tr>\n",
       "    <tr>\n",
       "      <th>27</th>\n",
       "      <td>-3.000000e-01</td>\n",
       "      <td>-5.516</td>\n",
       "      <td>-6.368335</td>\n",
       "    </tr>\n",
       "    <tr>\n",
       "      <th>28</th>\n",
       "      <td>-2.000000e-01</td>\n",
       "      <td>-5.304</td>\n",
       "      <td>-8.704742</td>\n",
       "    </tr>\n",
       "    <tr>\n",
       "      <th>29</th>\n",
       "      <td>-1.000000e-01</td>\n",
       "      <td>-5.128</td>\n",
       "      <td>1.240175</td>\n",
       "    </tr>\n",
       "    <tr>\n",
       "      <th>30</th>\n",
       "      <td>2.664535e-15</td>\n",
       "      <td>-5.000</td>\n",
       "      <td>-4.714457</td>\n",
       "    </tr>\n",
       "    <tr>\n",
       "      <th>31</th>\n",
       "      <td>1.000000e-01</td>\n",
       "      <td>-4.932</td>\n",
       "      <td>-0.955557</td>\n",
       "    </tr>\n",
       "    <tr>\n",
       "      <th>32</th>\n",
       "      <td>2.000000e-01</td>\n",
       "      <td>-4.936</td>\n",
       "      <td>-10.169895</td>\n",
       "    </tr>\n",
       "    <tr>\n",
       "      <th>33</th>\n",
       "      <td>3.000000e-01</td>\n",
       "      <td>-5.024</td>\n",
       "      <td>-2.721364</td>\n",
       "    </tr>\n",
       "    <tr>\n",
       "      <th>34</th>\n",
       "      <td>4.000000e-01</td>\n",
       "      <td>-5.208</td>\n",
       "      <td>1.903864</td>\n",
       "    </tr>\n",
       "    <tr>\n",
       "      <th>35</th>\n",
       "      <td>5.000000e-01</td>\n",
       "      <td>-5.500</td>\n",
       "      <td>-9.036285</td>\n",
       "    </tr>\n",
       "    <tr>\n",
       "      <th>36</th>\n",
       "      <td>6.000000e-01</td>\n",
       "      <td>-5.912</td>\n",
       "      <td>-2.582631</td>\n",
       "    </tr>\n",
       "    <tr>\n",
       "      <th>37</th>\n",
       "      <td>7.000000e-01</td>\n",
       "      <td>-6.456</td>\n",
       "      <td>-4.049151</td>\n",
       "    </tr>\n",
       "    <tr>\n",
       "      <th>38</th>\n",
       "      <td>8.000000e-01</td>\n",
       "      <td>-7.144</td>\n",
       "      <td>-7.467370</td>\n",
       "    </tr>\n",
       "    <tr>\n",
       "      <th>39</th>\n",
       "      <td>9.000000e-01</td>\n",
       "      <td>-7.988</td>\n",
       "      <td>-14.245467</td>\n",
       "    </tr>\n",
       "    <tr>\n",
       "      <th>40</th>\n",
       "      <td>1.000000e+00</td>\n",
       "      <td>-9.000</td>\n",
       "      <td>-7.584490</td>\n",
       "    </tr>\n",
       "    <tr>\n",
       "      <th>41</th>\n",
       "      <td>1.100000e+00</td>\n",
       "      <td>-10.192</td>\n",
       "      <td>-11.543440</td>\n",
       "    </tr>\n",
       "    <tr>\n",
       "      <th>42</th>\n",
       "      <td>1.200000e+00</td>\n",
       "      <td>-11.576</td>\n",
       "      <td>-8.565901</td>\n",
       "    </tr>\n",
       "    <tr>\n",
       "      <th>43</th>\n",
       "      <td>1.300000e+00</td>\n",
       "      <td>-13.164</td>\n",
       "      <td>-9.269588</td>\n",
       "    </tr>\n",
       "    <tr>\n",
       "      <th>44</th>\n",
       "      <td>1.400000e+00</td>\n",
       "      <td>-14.968</td>\n",
       "      <td>-7.295300</td>\n",
       "    </tr>\n",
       "    <tr>\n",
       "      <th>45</th>\n",
       "      <td>1.500000e+00</td>\n",
       "      <td>-17.000</td>\n",
       "      <td>-21.182783</td>\n",
       "    </tr>\n",
       "    <tr>\n",
       "      <th>46</th>\n",
       "      <td>1.600000e+00</td>\n",
       "      <td>-19.272</td>\n",
       "      <td>-14.946791</td>\n",
       "    </tr>\n",
       "    <tr>\n",
       "      <th>47</th>\n",
       "      <td>1.700000e+00</td>\n",
       "      <td>-21.796</td>\n",
       "      <td>-18.291899</td>\n",
       "    </tr>\n",
       "    <tr>\n",
       "      <th>48</th>\n",
       "      <td>1.800000e+00</td>\n",
       "      <td>-24.584</td>\n",
       "      <td>-24.206884</td>\n",
       "    </tr>\n",
       "    <tr>\n",
       "      <th>49</th>\n",
       "      <td>1.900000e+00</td>\n",
       "      <td>-27.648</td>\n",
       "      <td>-24.589037</td>\n",
       "    </tr>\n",
       "  </tbody>\n",
       "</table>\n",
       "</div>"
      ],
      "text/plain": [
       "               x  y_true          y\n",
       "0  -3.000000e+00  19.000  23.824406\n",
       "1  -2.900000e+00  15.648  10.237108\n",
       "2  -2.800000e+00  12.584  16.919087\n",
       "3  -2.700000e+00   9.796   8.955196\n",
       "4  -2.600000e+00   7.272   6.323695\n",
       "5  -2.500000e+00   5.000  10.602832\n",
       "6  -2.400000e+00   2.968   0.784105\n",
       "7  -2.300000e+00   1.164  -5.234227\n",
       "8  -2.200000e+00  -0.424  -2.771499\n",
       "9  -2.100000e+00  -1.808  -7.792136\n",
       "10 -2.000000e+00  -3.000 -12.199286\n",
       "11 -1.900000e+00  -4.012  -4.739785\n",
       "12 -1.800000e+00  -4.856  -2.864605\n",
       "13 -1.700000e+00  -5.544 -16.354306\n",
       "14 -1.600000e+00  -6.088  -6.015613\n",
       "15 -1.500000e+00  -6.500  -5.224009\n",
       "16 -1.400000e+00  -6.792  -5.926045\n",
       "17 -1.300000e+00  -6.976 -13.326468\n",
       "18 -1.200000e+00  -7.064  -8.618807\n",
       "19 -1.100000e+00  -7.068  -7.999078\n",
       "20 -1.000000e+00  -7.000  -4.835120\n",
       "21 -9.000000e-01  -6.872 -13.308757\n",
       "22 -8.000000e-01  -6.696  -4.778936\n",
       "23 -7.000000e-01  -6.484  -1.524600\n",
       "24 -6.000000e-01  -6.248 -17.686227\n",
       "25 -5.000000e-01  -6.000  -4.880304\n",
       "26 -4.000000e-01  -5.752 -13.385067\n",
       "27 -3.000000e-01  -5.516  -6.368335\n",
       "28 -2.000000e-01  -5.304  -8.704742\n",
       "29 -1.000000e-01  -5.128   1.240175\n",
       "30  2.664535e-15  -5.000  -4.714457\n",
       "31  1.000000e-01  -4.932  -0.955557\n",
       "32  2.000000e-01  -4.936 -10.169895\n",
       "33  3.000000e-01  -5.024  -2.721364\n",
       "34  4.000000e-01  -5.208   1.903864\n",
       "35  5.000000e-01  -5.500  -9.036285\n",
       "36  6.000000e-01  -5.912  -2.582631\n",
       "37  7.000000e-01  -6.456  -4.049151\n",
       "38  8.000000e-01  -7.144  -7.467370\n",
       "39  9.000000e-01  -7.988 -14.245467\n",
       "40  1.000000e+00  -9.000  -7.584490\n",
       "41  1.100000e+00 -10.192 -11.543440\n",
       "42  1.200000e+00 -11.576  -8.565901\n",
       "43  1.300000e+00 -13.164  -9.269588\n",
       "44  1.400000e+00 -14.968  -7.295300\n",
       "45  1.500000e+00 -17.000 -21.182783\n",
       "46  1.600000e+00 -19.272 -14.946791\n",
       "47  1.700000e+00 -21.796 -18.291899\n",
       "48  1.800000e+00 -24.584 -24.206884\n",
       "49  1.900000e+00 -27.648 -24.589037"
      ]
     },
     "execution_count": 8,
     "metadata": {},
     "output_type": "execute_result"
    }
   ],
   "source": [
    "df"
   ]
  },
  {
   "cell_type": "markdown",
   "metadata": {
    "cell_id": "892fd4e16d684ce8af24d967fbb88f6f",
    "deepnote_cell_type": "markdown"
   },
   "source": [
    "* Here is what the data looks like.\n",
    "\n",
    "Based on the values in `m` above, we know these points are approximately following the curve $y = -2x^3 - 3x^2 + x - 5$.  For example, because the leading coefficient is negative, we know the outputs should be getting more negative as `x` increases, which seems to match what we see in the plotted data."
   ]
  },
  {
   "cell_type": "code",
   "execution_count": 10,
   "metadata": {
    "cell_id": "94dc91f192fb4d4aa2d9563bc27568ee",
    "deepnote_cell_type": "code",
    "deepnote_to_be_reexecuted": false,
    "execution_millis": 10,
    "execution_start": 1683749662062,
    "source_hash": "9aa53389",
    "tags": []
   },
   "outputs": [
    {
     "data": {
      "text/html": [
       "\n",
       "<div id=\"altair-viz-7f12f02275fe455b9ce9a7bc0db1bb46\"></div>\n",
       "<script type=\"text/javascript\">\n",
       "  var VEGA_DEBUG = (typeof VEGA_DEBUG == \"undefined\") ? {} : VEGA_DEBUG;\n",
       "  (function(spec, embedOpt){\n",
       "    let outputDiv = document.currentScript.previousElementSibling;\n",
       "    if (outputDiv.id !== \"altair-viz-7f12f02275fe455b9ce9a7bc0db1bb46\") {\n",
       "      outputDiv = document.getElementById(\"altair-viz-7f12f02275fe455b9ce9a7bc0db1bb46\");\n",
       "    }\n",
       "    const paths = {\n",
       "      \"vega\": \"https://cdn.jsdelivr.net/npm//vega@5?noext\",\n",
       "      \"vega-lib\": \"https://cdn.jsdelivr.net/npm//vega-lib?noext\",\n",
       "      \"vega-lite\": \"https://cdn.jsdelivr.net/npm//vega-lite@4.17.0?noext\",\n",
       "      \"vega-embed\": \"https://cdn.jsdelivr.net/npm//vega-embed@6?noext\",\n",
       "    };\n",
       "\n",
       "    function maybeLoadScript(lib, version) {\n",
       "      var key = `${lib.replace(\"-\", \"\")}_version`;\n",
       "      return (VEGA_DEBUG[key] == version) ?\n",
       "        Promise.resolve(paths[lib]) :\n",
       "        new Promise(function(resolve, reject) {\n",
       "          var s = document.createElement('script');\n",
       "          document.getElementsByTagName(\"head\")[0].appendChild(s);\n",
       "          s.async = true;\n",
       "          s.onload = () => {\n",
       "            VEGA_DEBUG[key] = version;\n",
       "            return resolve(paths[lib]);\n",
       "          };\n",
       "          s.onerror = () => reject(`Error loading script: ${paths[lib]}`);\n",
       "          s.src = paths[lib];\n",
       "        });\n",
       "    }\n",
       "\n",
       "    function showError(err) {\n",
       "      outputDiv.innerHTML = `<div class=\"error\" style=\"color:red;\">${err}</div>`;\n",
       "      throw err;\n",
       "    }\n",
       "\n",
       "    function displayChart(vegaEmbed) {\n",
       "      vegaEmbed(outputDiv, spec, embedOpt)\n",
       "        .catch(err => showError(`Javascript Error: ${err.message}<br>This usually means there's a typo in your chart specification. See the javascript console for the full traceback.`));\n",
       "    }\n",
       "\n",
       "    if(typeof define === \"function\" && define.amd) {\n",
       "      requirejs.config({paths});\n",
       "      require([\"vega-embed\"], displayChart, err => showError(`Error loading script: ${err.message}`));\n",
       "    } else {\n",
       "      maybeLoadScript(\"vega\", \"5\")\n",
       "        .then(() => maybeLoadScript(\"vega-lite\", \"4.17.0\"))\n",
       "        .then(() => maybeLoadScript(\"vega-embed\", \"6\"))\n",
       "        .catch(showError)\n",
       "        .then(() => displayChart(vegaEmbed));\n",
       "    }\n",
       "  })({\"config\": {\"view\": {\"continuousWidth\": 400, \"continuousHeight\": 300}}, \"data\": {\"name\": \"data-dae704ec33fdd0f59cc04c6673678175\"}, \"mark\": \"circle\", \"encoding\": {\"x\": {\"field\": \"x\", \"type\": \"quantitative\"}, \"y\": {\"field\": \"y\", \"type\": \"quantitative\"}}, \"$schema\": \"https://vega.github.io/schema/vega-lite/v4.17.0.json\", \"datasets\": {\"data-dae704ec33fdd0f59cc04c6673678175\": [{\"x\": -3.0, \"y_true\": 19.0, \"y\": 23.824405650704584}, {\"x\": -2.9, \"y_true\": 15.647999999999996, \"y\": 10.237108055098796}, {\"x\": -2.8, \"y_true\": 12.583999999999993, \"y\": 16.91908679057319}, {\"x\": -2.6999999999999997, \"y_true\": 9.795999999999992, \"y\": 8.955196204317206}, {\"x\": -2.5999999999999996, \"y_true\": 7.271999999999991, \"y\": 6.323695104370164}, {\"x\": -2.4999999999999996, \"y_true\": 4.999999999999989, \"y\": 10.602832278036008}, {\"x\": -2.3999999999999995, \"y_true\": 2.967999999999993, \"y\": 0.7841046813223418}, {\"x\": -2.2999999999999994, \"y_true\": 1.1639999999999908, \"y\": -5.234226812329393}, {\"x\": -2.1999999999999993, \"y_true\": -0.4240000000000137, \"y\": -2.7714988713165125}, {\"x\": -2.099999999999999, \"y_true\": -1.808000000000014, \"y\": -7.792135811821553}, {\"x\": -1.9999999999999991, \"y_true\": -3.0000000000000107, \"y\": -12.199285711986715}, {\"x\": -1.899999999999999, \"y_true\": -4.012000000000011, \"y\": -4.739784849269134}, {\"x\": -1.799999999999999, \"y_true\": -4.856000000000009, \"y\": -2.864605133958004}, {\"x\": -1.6999999999999988, \"y_true\": -5.544000000000008, \"y\": -16.3543063737946}, {\"x\": -1.5999999999999988, \"y_true\": -6.088000000000006, \"y\": -6.015613468222883}, {\"x\": -1.4999999999999987, \"y_true\": -6.5000000000000036, \"y\": -5.224009421444809}, {\"x\": -1.3999999999999986, \"y_true\": -6.792000000000003, \"y\": -5.926044796345713}, {\"x\": -1.2999999999999985, \"y_true\": -6.976000000000002, \"y\": -13.326467602050318}, {\"x\": -1.1999999999999984, \"y_true\": -7.064000000000001, \"y\": -8.618806640209073}, {\"x\": -1.0999999999999983, \"y_true\": -7.067999999999998, \"y\": -7.999078323585601}, {\"x\": -0.9999999999999982, \"y_true\": -6.999999999999998, \"y\": -4.835119581575062}, {\"x\": -0.8999999999999981, \"y_true\": -6.871999999999996, \"y\": -13.308756625035866}, {\"x\": -0.799999999999998, \"y_true\": -6.695999999999996, \"y\": -4.778936156426603}, {\"x\": -0.699999999999998, \"y_true\": -6.4839999999999955, \"y\": -1.524599833485449}, {\"x\": -0.5999999999999979, \"y_true\": -6.247999999999995, \"y\": -17.68622693729956}, {\"x\": -0.4999999999999978, \"y_true\": -5.999999999999995, \"y\": -4.880304361628128}, {\"x\": -0.3999999999999977, \"y_true\": -5.7519999999999945, \"y\": -13.38506705601617}, {\"x\": -0.2999999999999976, \"y_true\": -5.515999999999995, \"y\": -6.368334641163491}, {\"x\": -0.1999999999999975, \"y_true\": -5.303999999999996, \"y\": -8.704741835733941}, {\"x\": -0.09999999999999742, \"y_true\": -5.127999999999997, \"y\": 1.2401753336845394}, {\"x\": 2.6645352591003757e-15, \"y_true\": -4.999999999999997, \"y\": -4.71445657964094}, {\"x\": 0.10000000000000275, \"y_true\": -4.931999999999999, \"y\": -0.9555565402837516}, {\"x\": 0.20000000000000284, \"y_true\": -4.936000000000002, \"y\": -10.16989462767013}, {\"x\": 0.30000000000000293, \"y_true\": -5.024000000000004, \"y\": -2.7213636464572986}, {\"x\": 0.400000000000003, \"y_true\": -5.208000000000007, \"y\": 1.90386367809573}, {\"x\": 0.5000000000000031, \"y_true\": -5.50000000000001, \"y\": -9.036284597169002}, {\"x\": 0.6000000000000032, \"y_true\": -5.912000000000015, \"y\": -2.5826311606487367}, {\"x\": 0.7000000000000033, \"y_true\": -6.456000000000021, \"y\": -4.049151482825412}, {\"x\": 0.8000000000000034, \"y_true\": -7.144000000000027, \"y\": -7.467369873682661}, {\"x\": 0.9000000000000035, \"y_true\": -7.988000000000032, \"y\": -14.245467115049165}, {\"x\": 1.0000000000000036, \"y_true\": -9.000000000000039, \"y\": -7.58449011919938}, {\"x\": 1.1000000000000032, \"y_true\": -10.192000000000041, \"y\": -11.5434400342294}, {\"x\": 1.2000000000000037, \"y_true\": -11.576000000000054, \"y\": -8.565901471871978}, {\"x\": 1.3000000000000043, \"y_true\": -13.164000000000073, \"y\": -9.269587854684678}, {\"x\": 1.400000000000004, \"y_true\": -14.968000000000075, \"y\": -7.295299533414727}, {\"x\": 1.5000000000000036, \"y_true\": -17.000000000000078, \"y\": -21.18278332190194}, {\"x\": 1.600000000000004, \"y_true\": -19.272000000000098, \"y\": -14.946790703056552}, {\"x\": 1.7000000000000046, \"y_true\": -21.796000000000124, \"y\": -18.291898867126424}, {\"x\": 1.8000000000000043, \"y_true\": -24.584000000000124, \"y\": -24.2068839018185}, {\"x\": 1.900000000000004, \"y_true\": -27.648000000000124, \"y\": -24.589036941447688}]}}, {\"mode\": \"vega-lite\"});\n",
       "</script>"
      ],
      "text/plain": [
       "alt.Chart(...)"
      ]
     },
     "execution_count": 10,
     "metadata": {},
     "output_type": "execute_result"
    }
   ],
   "source": [
    "c1 = alt.Chart(df).mark_circle().encode(\n",
    "    x=\"x\",\n",
    "    y=\"y\"\n",
    ")\n",
    "\n",
    "c1"
   ]
  },
  {
   "cell_type": "markdown",
   "metadata": {
    "cell_id": "b3095a7d16f6426f8405832fa38d866f",
    "deepnote_cell_type": "markdown"
   },
   "source": [
    "### Polynomial regression using `PolynomialFeatures`"
   ]
  },
  {
   "cell_type": "markdown",
   "metadata": {
    "cell_id": "074215cf61e74eefaf4924615cc40ff6",
    "deepnote_cell_type": "markdown"
   },
   "source": [
    "We saw how to perform polynomial regression \"by hand\" last week.  The process is much easier if we take advantage of some additional functionality in scikit-learn."
   ]
  },
  {
   "cell_type": "markdown",
   "metadata": {
    "cell_id": "a86251b331194bf8b90c4c7c66479d49",
    "deepnote_cell_type": "markdown"
   },
   "source": [
    "* Using `PolynomialFeatures` from `sklearn.preprocessing`, make a new pandas DataFrame `df_pow` containing `df[\"x\"]**i` for `i = 1, 2, 3`.\n",
    "* Use the `include_bias` keyword argument so we do not get a column for $x^0$.  (I forgot to do this on Monday.)"
   ]
  },
  {
   "cell_type": "markdown",
   "metadata": {},
   "source": [
    "Here we import `PolynomialFeatures`."
   ]
  },
  {
   "cell_type": "code",
   "execution_count": 11,
   "metadata": {
    "cell_id": "32c65d436157493c82ad502e1033adff",
    "deepnote_cell_type": "code",
    "deepnote_to_be_reexecuted": false,
    "execution_millis": 35,
    "execution_start": 1683749728730,
    "source_hash": "e253d258"
   },
   "outputs": [],
   "source": [
    "from sklearn.preprocessing import PolynomialFeatures"
   ]
  },
  {
   "cell_type": "markdown",
   "metadata": {},
   "source": [
    "Here we instantiate it.  Think of this step the same as you think about `LinearRegression()` or `np.random.default_rng()`.  We need to pass a `degree` argument to the constructor, so that scikit-learn knows how many powers we want.  (I guess it would have been more robust to use `degree=deg` here.)"
   ]
  },
  {
   "cell_type": "code",
   "execution_count": 12,
   "metadata": {
    "cell_id": "a0aa4954278c4ce29f414e8916c528cd",
    "deepnote_cell_type": "code",
    "deepnote_to_be_reexecuted": false,
    "execution_millis": 1,
    "execution_start": 1683749759087,
    "source_hash": "24bbf71a"
   },
   "outputs": [],
   "source": [
    "poly = PolynomialFeatures(degree=3)"
   ]
  },
  {
   "cell_type": "markdown",
   "metadata": {},
   "source": [
    "Now we fit this PolynomialFeatures object to the data.  Notice how we do not pass `df[\"y\"]` to this function.  That is because there are no \"true\" outputs in this step (this is just a preprocessing step)."
   ]
  },
  {
   "cell_type": "code",
   "execution_count": 13,
   "metadata": {
    "cell_id": "a9cdbbcec8384f1a85bacc8b7ce04c57",
    "deepnote_cell_type": "code",
    "deepnote_to_be_reexecuted": false,
    "execution_millis": 4,
    "execution_start": 1683749776104,
    "source_hash": "29db9c52"
   },
   "outputs": [
    {
     "data": {
      "text/html": [
       "<style>#sk-container-id-1 {color: black;background-color: white;}#sk-container-id-1 pre{padding: 0;}#sk-container-id-1 div.sk-toggleable {background-color: white;}#sk-container-id-1 label.sk-toggleable__label {cursor: pointer;display: block;width: 100%;margin-bottom: 0;padding: 0.3em;box-sizing: border-box;text-align: center;}#sk-container-id-1 label.sk-toggleable__label-arrow:before {content: \"▸\";float: left;margin-right: 0.25em;color: #696969;}#sk-container-id-1 label.sk-toggleable__label-arrow:hover:before {color: black;}#sk-container-id-1 div.sk-estimator:hover label.sk-toggleable__label-arrow:before {color: black;}#sk-container-id-1 div.sk-toggleable__content {max-height: 0;max-width: 0;overflow: hidden;text-align: left;background-color: #f0f8ff;}#sk-container-id-1 div.sk-toggleable__content pre {margin: 0.2em;color: black;border-radius: 0.25em;background-color: #f0f8ff;}#sk-container-id-1 input.sk-toggleable__control:checked~div.sk-toggleable__content {max-height: 200px;max-width: 100%;overflow: auto;}#sk-container-id-1 input.sk-toggleable__control:checked~label.sk-toggleable__label-arrow:before {content: \"▾\";}#sk-container-id-1 div.sk-estimator input.sk-toggleable__control:checked~label.sk-toggleable__label {background-color: #d4ebff;}#sk-container-id-1 div.sk-label input.sk-toggleable__control:checked~label.sk-toggleable__label {background-color: #d4ebff;}#sk-container-id-1 input.sk-hidden--visually {border: 0;clip: rect(1px 1px 1px 1px);clip: rect(1px, 1px, 1px, 1px);height: 1px;margin: -1px;overflow: hidden;padding: 0;position: absolute;width: 1px;}#sk-container-id-1 div.sk-estimator {font-family: monospace;background-color: #f0f8ff;border: 1px dotted black;border-radius: 0.25em;box-sizing: border-box;margin-bottom: 0.5em;}#sk-container-id-1 div.sk-estimator:hover {background-color: #d4ebff;}#sk-container-id-1 div.sk-parallel-item::after {content: \"\";width: 100%;border-bottom: 1px solid gray;flex-grow: 1;}#sk-container-id-1 div.sk-label:hover label.sk-toggleable__label {background-color: #d4ebff;}#sk-container-id-1 div.sk-serial::before {content: \"\";position: absolute;border-left: 1px solid gray;box-sizing: border-box;top: 0;bottom: 0;left: 50%;z-index: 0;}#sk-container-id-1 div.sk-serial {display: flex;flex-direction: column;align-items: center;background-color: white;padding-right: 0.2em;padding-left: 0.2em;position: relative;}#sk-container-id-1 div.sk-item {position: relative;z-index: 1;}#sk-container-id-1 div.sk-parallel {display: flex;align-items: stretch;justify-content: center;background-color: white;position: relative;}#sk-container-id-1 div.sk-item::before, #sk-container-id-1 div.sk-parallel-item::before {content: \"\";position: absolute;border-left: 1px solid gray;box-sizing: border-box;top: 0;bottom: 0;left: 50%;z-index: -1;}#sk-container-id-1 div.sk-parallel-item {display: flex;flex-direction: column;z-index: 1;position: relative;background-color: white;}#sk-container-id-1 div.sk-parallel-item:first-child::after {align-self: flex-end;width: 50%;}#sk-container-id-1 div.sk-parallel-item:last-child::after {align-self: flex-start;width: 50%;}#sk-container-id-1 div.sk-parallel-item:only-child::after {width: 0;}#sk-container-id-1 div.sk-dashed-wrapped {border: 1px dashed gray;margin: 0 0.4em 0.5em 0.4em;box-sizing: border-box;padding-bottom: 0.4em;background-color: white;}#sk-container-id-1 div.sk-label label {font-family: monospace;font-weight: bold;display: inline-block;line-height: 1.2em;}#sk-container-id-1 div.sk-label-container {text-align: center;}#sk-container-id-1 div.sk-container {/* jupyter's `normalize.less` sets `[hidden] { display: none; }` but bootstrap.min.css set `[hidden] { display: none !important; }` so we also need the `!important` here to be able to override the default hidden behavior on the sphinx rendered scikit-learn.org. See: https://github.com/scikit-learn/scikit-learn/issues/21755 */display: inline-block !important;position: relative;}#sk-container-id-1 div.sk-text-repr-fallback {display: none;}</style><div id=\"sk-container-id-1\" class=\"sk-top-container\"><div class=\"sk-text-repr-fallback\"><pre>PolynomialFeatures(degree=3)</pre><b>In a Jupyter environment, please rerun this cell to show the HTML representation or trust the notebook. <br />On GitHub, the HTML representation is unable to render, please try loading this page with nbviewer.org.</b></div><div class=\"sk-container\" hidden><div class=\"sk-item\"><div class=\"sk-estimator sk-toggleable\"><input class=\"sk-toggleable__control sk-hidden--visually\" id=\"sk-estimator-id-1\" type=\"checkbox\" checked><label for=\"sk-estimator-id-1\" class=\"sk-toggleable__label sk-toggleable__label-arrow\">PolynomialFeatures</label><div class=\"sk-toggleable__content\"><pre>PolynomialFeatures(degree=3)</pre></div></div></div></div></div>"
      ],
      "text/plain": [
       "PolynomialFeatures(degree=3)"
      ]
     },
     "execution_count": 13,
     "metadata": {},
     "output_type": "execute_result"
    }
   ],
   "source": [
    "poly.fit(df[[\"x\"]])"
   ]
  },
  {
   "cell_type": "markdown",
   "metadata": {},
   "source": [
    "We now call `poly.transform` instead of `poly.predict`, because we are not \"predicting\" anything.  We convert the resulting NumPy array into a pandas DataFrame and round all the entries to the nearest decimal place.\n",
    "\n",
    "Aside: this rounding could also be done using `applymap` and a lambda function.  This is a natural place to use `applymap` (as opposed to `apply` or `map`), because we are doing the same thing to every element in a pandas DataFrame.\n",
    "\n",
    "Notice how these values correspond to powers of the \"x\" column, including the zero-th power (all 1s)."
   ]
  },
  {
   "cell_type": "code",
   "execution_count": 17,
   "metadata": {
    "cell_id": "f52a145737dc4dcb84934eee9d7bb147",
    "deepnote_cell_type": "code",
    "deepnote_to_be_reexecuted": false,
    "execution_millis": 2,
    "execution_start": 1683749917992,
    "source_hash": "cbd4ddb0",
    "tags": [
     "output_scroll"
    ]
   },
   "outputs": [
    {
     "data": {
      "application/vnd.deepnote.dataframe.v3+json": {
       "column_count": 4,
       "columns": [
        {
         "dtype": "float64",
         "name": 0,
         "stats": {
          "histogram": [
           {
            "bin_end": 0.6,
            "bin_start": 0.5,
            "count": 0
           },
           {
            "bin_end": 0.7,
            "bin_start": 0.6,
            "count": 0
           },
           {
            "bin_end": 0.8,
            "bin_start": 0.7,
            "count": 0
           },
           {
            "bin_end": 0.9,
            "bin_start": 0.8,
            "count": 0
           },
           {
            "bin_end": 1,
            "bin_start": 0.9,
            "count": 0
           },
           {
            "bin_end": 1.1,
            "bin_start": 1,
            "count": 50
           },
           {
            "bin_end": 1.2000000000000002,
            "bin_start": 1.1,
            "count": 0
           },
           {
            "bin_end": 1.3,
            "bin_start": 1.2000000000000002,
            "count": 0
           },
           {
            "bin_end": 1.4,
            "bin_start": 1.3,
            "count": 0
           },
           {
            "bin_end": 1.5,
            "bin_start": 1.4,
            "count": 0
           }
          ],
          "max": "1.0",
          "min": "1.0",
          "nan_count": 0,
          "unique_count": 1
         }
        },
        {
         "dtype": "float64",
         "name": 1,
         "stats": {
          "histogram": [
           {
            "bin_end": -2.51,
            "bin_start": -3,
            "count": 5
           },
           {
            "bin_end": -2.02,
            "bin_start": -2.51,
            "count": 5
           },
           {
            "bin_end": -1.5299999999999998,
            "bin_start": -2.02,
            "count": 5
           },
           {
            "bin_end": -1.0399999999999998,
            "bin_start": -1.5299999999999998,
            "count": 5
           },
           {
            "bin_end": -0.5499999999999998,
            "bin_start": -1.0399999999999998,
            "count": 5
           },
           {
            "bin_end": -0.05999999999999961,
            "bin_start": -0.5499999999999998,
            "count": 5
           },
           {
            "bin_end": 0.43000000000000016,
            "bin_start": -0.05999999999999961,
            "count": 5
           },
           {
            "bin_end": 0.9200000000000004,
            "bin_start": 0.43000000000000016,
            "count": 5
           },
           {
            "bin_end": 1.4100000000000001,
            "bin_start": 0.9200000000000004,
            "count": 5
           },
           {
            "bin_end": 1.9,
            "bin_start": 1.4100000000000001,
            "count": 5
           }
          ],
          "max": "1.9",
          "min": "-3.0",
          "nan_count": 0,
          "unique_count": 50
         }
        },
        {
         "dtype": "float64",
         "name": 2,
         "stats": {
          "histogram": [
           {
            "bin_end": 0.9,
            "bin_start": 0,
            "count": 19
           },
           {
            "bin_end": 1.8,
            "bin_start": 0.9,
            "count": 8
           },
           {
            "bin_end": 2.7,
            "bin_start": 1.8,
            "count": 6
           },
           {
            "bin_end": 3.6,
            "bin_start": 2.7,
            "count": 4
           },
           {
            "bin_end": 4.5,
            "bin_start": 3.6,
            "count": 4
           },
           {
            "bin_end": 5.4,
            "bin_start": 4.5,
            "count": 2
           },
           {
            "bin_end": 6.3,
            "bin_start": 5.4,
            "count": 2
           },
           {
            "bin_end": 7.2,
            "bin_start": 6.3,
            "count": 1
           },
           {
            "bin_end": 8.1,
            "bin_start": 7.2,
            "count": 2
           },
           {
            "bin_end": 9,
            "bin_start": 8.1,
            "count": 2
           }
          ],
          "max": "9.0",
          "min": "0.0",
          "nan_count": 0,
          "unique_count": 30
         }
        },
        {
         "dtype": "float64",
         "name": 3,
         "stats": {
          "histogram": [
           {
            "bin_end": -23.61,
            "bin_start": -27,
            "count": 2
           },
           {
            "bin_end": -20.22,
            "bin_start": -23.61,
            "count": 1
           },
           {
            "bin_end": -16.830000000000002,
            "bin_start": -20.22,
            "count": 2
           },
           {
            "bin_end": -13.440000000000001,
            "bin_start": -16.830000000000002,
            "count": 2
           },
           {
            "bin_end": -10.05,
            "bin_start": -13.440000000000001,
            "count": 2
           },
           {
            "bin_end": -6.660000000000004,
            "bin_start": -10.05,
            "count": 3
           },
           {
            "bin_end": -3.270000000000003,
            "bin_start": -6.660000000000004,
            "count": 4
           },
           {
            "bin_end": 0.11999999999999744,
            "bin_start": -3.270000000000003,
            "count": 20
           },
           {
            "bin_end": 3.509999999999998,
            "bin_start": 0.11999999999999744,
            "count": 10
           },
           {
            "bin_end": 6.9,
            "bin_start": 3.509999999999998,
            "count": 4
           }
          ],
          "max": "6.9",
          "min": "-27.0",
          "nan_count": 0,
          "unique_count": 42
         }
        },
        {
         "dtype": "int64",
         "name": "_deepnote_index_column"
        }
       ],
       "row_count": 50,
       "rows": [
        {
         "0": "1.0",
         "1": "-3.0",
         "2": "9.0",
         "3": "-27.0",
         "_deepnote_index_column": "0"
        },
        {
         "0": "1.0",
         "1": "-2.9",
         "2": "8.4",
         "3": "-24.4",
         "_deepnote_index_column": "1"
        },
        {
         "0": "1.0",
         "1": "-2.8",
         "2": "7.8",
         "3": "-22.0",
         "_deepnote_index_column": "2"
        },
        {
         "0": "1.0",
         "1": "-2.7",
         "2": "7.3",
         "3": "-19.7",
         "_deepnote_index_column": "3"
        },
        {
         "0": "1.0",
         "1": "-2.6",
         "2": "6.8",
         "3": "-17.6",
         "_deepnote_index_column": "4"
        },
        {
         "0": "1.0",
         "1": "-2.5",
         "2": "6.2",
         "3": "-15.6",
         "_deepnote_index_column": "5"
        },
        {
         "0": "1.0",
         "1": "-2.4",
         "2": "5.8",
         "3": "-13.8",
         "_deepnote_index_column": "6"
        },
        {
         "0": "1.0",
         "1": "-2.3",
         "2": "5.3",
         "3": "-12.2",
         "_deepnote_index_column": "7"
        },
        {
         "0": "1.0",
         "1": "-2.2",
         "2": "4.8",
         "3": "-10.6",
         "_deepnote_index_column": "8"
        },
        {
         "0": "1.0",
         "1": "-2.1",
         "2": "4.4",
         "3": "-9.3",
         "_deepnote_index_column": "9"
        }
       ]
      },
      "text/html": [
       "<div>\n",
       "<style scoped>\n",
       "    .dataframe tbody tr th:only-of-type {\n",
       "        vertical-align: middle;\n",
       "    }\n",
       "\n",
       "    .dataframe tbody tr th {\n",
       "        vertical-align: top;\n",
       "    }\n",
       "\n",
       "    .dataframe thead th {\n",
       "        text-align: right;\n",
       "    }\n",
       "</style>\n",
       "<table border=\"1\" class=\"dataframe\">\n",
       "  <thead>\n",
       "    <tr style=\"text-align: right;\">\n",
       "      <th></th>\n",
       "      <th>0</th>\n",
       "      <th>1</th>\n",
       "      <th>2</th>\n",
       "      <th>3</th>\n",
       "    </tr>\n",
       "  </thead>\n",
       "  <tbody>\n",
       "    <tr>\n",
       "      <th>0</th>\n",
       "      <td>1.0</td>\n",
       "      <td>-3.0</td>\n",
       "      <td>9.0</td>\n",
       "      <td>-27.0</td>\n",
       "    </tr>\n",
       "    <tr>\n",
       "      <th>1</th>\n",
       "      <td>1.0</td>\n",
       "      <td>-2.9</td>\n",
       "      <td>8.4</td>\n",
       "      <td>-24.4</td>\n",
       "    </tr>\n",
       "    <tr>\n",
       "      <th>2</th>\n",
       "      <td>1.0</td>\n",
       "      <td>-2.8</td>\n",
       "      <td>7.8</td>\n",
       "      <td>-22.0</td>\n",
       "    </tr>\n",
       "    <tr>\n",
       "      <th>3</th>\n",
       "      <td>1.0</td>\n",
       "      <td>-2.7</td>\n",
       "      <td>7.3</td>\n",
       "      <td>-19.7</td>\n",
       "    </tr>\n",
       "    <tr>\n",
       "      <th>4</th>\n",
       "      <td>1.0</td>\n",
       "      <td>-2.6</td>\n",
       "      <td>6.8</td>\n",
       "      <td>-17.6</td>\n",
       "    </tr>\n",
       "    <tr>\n",
       "      <th>5</th>\n",
       "      <td>1.0</td>\n",
       "      <td>-2.5</td>\n",
       "      <td>6.2</td>\n",
       "      <td>-15.6</td>\n",
       "    </tr>\n",
       "    <tr>\n",
       "      <th>6</th>\n",
       "      <td>1.0</td>\n",
       "      <td>-2.4</td>\n",
       "      <td>5.8</td>\n",
       "      <td>-13.8</td>\n",
       "    </tr>\n",
       "    <tr>\n",
       "      <th>7</th>\n",
       "      <td>1.0</td>\n",
       "      <td>-2.3</td>\n",
       "      <td>5.3</td>\n",
       "      <td>-12.2</td>\n",
       "    </tr>\n",
       "    <tr>\n",
       "      <th>8</th>\n",
       "      <td>1.0</td>\n",
       "      <td>-2.2</td>\n",
       "      <td>4.8</td>\n",
       "      <td>-10.6</td>\n",
       "    </tr>\n",
       "    <tr>\n",
       "      <th>9</th>\n",
       "      <td>1.0</td>\n",
       "      <td>-2.1</td>\n",
       "      <td>4.4</td>\n",
       "      <td>-9.3</td>\n",
       "    </tr>\n",
       "    <tr>\n",
       "      <th>10</th>\n",
       "      <td>1.0</td>\n",
       "      <td>-2.0</td>\n",
       "      <td>4.0</td>\n",
       "      <td>-8.0</td>\n",
       "    </tr>\n",
       "    <tr>\n",
       "      <th>11</th>\n",
       "      <td>1.0</td>\n",
       "      <td>-1.9</td>\n",
       "      <td>3.6</td>\n",
       "      <td>-6.9</td>\n",
       "    </tr>\n",
       "    <tr>\n",
       "      <th>12</th>\n",
       "      <td>1.0</td>\n",
       "      <td>-1.8</td>\n",
       "      <td>3.2</td>\n",
       "      <td>-5.8</td>\n",
       "    </tr>\n",
       "    <tr>\n",
       "      <th>13</th>\n",
       "      <td>1.0</td>\n",
       "      <td>-1.7</td>\n",
       "      <td>2.9</td>\n",
       "      <td>-4.9</td>\n",
       "    </tr>\n",
       "    <tr>\n",
       "      <th>14</th>\n",
       "      <td>1.0</td>\n",
       "      <td>-1.6</td>\n",
       "      <td>2.6</td>\n",
       "      <td>-4.1</td>\n",
       "    </tr>\n",
       "    <tr>\n",
       "      <th>15</th>\n",
       "      <td>1.0</td>\n",
       "      <td>-1.5</td>\n",
       "      <td>2.2</td>\n",
       "      <td>-3.4</td>\n",
       "    </tr>\n",
       "    <tr>\n",
       "      <th>16</th>\n",
       "      <td>1.0</td>\n",
       "      <td>-1.4</td>\n",
       "      <td>2.0</td>\n",
       "      <td>-2.7</td>\n",
       "    </tr>\n",
       "    <tr>\n",
       "      <th>17</th>\n",
       "      <td>1.0</td>\n",
       "      <td>-1.3</td>\n",
       "      <td>1.7</td>\n",
       "      <td>-2.2</td>\n",
       "    </tr>\n",
       "    <tr>\n",
       "      <th>18</th>\n",
       "      <td>1.0</td>\n",
       "      <td>-1.2</td>\n",
       "      <td>1.4</td>\n",
       "      <td>-1.7</td>\n",
       "    </tr>\n",
       "    <tr>\n",
       "      <th>19</th>\n",
       "      <td>1.0</td>\n",
       "      <td>-1.1</td>\n",
       "      <td>1.2</td>\n",
       "      <td>-1.3</td>\n",
       "    </tr>\n",
       "    <tr>\n",
       "      <th>20</th>\n",
       "      <td>1.0</td>\n",
       "      <td>-1.0</td>\n",
       "      <td>1.0</td>\n",
       "      <td>-1.0</td>\n",
       "    </tr>\n",
       "    <tr>\n",
       "      <th>21</th>\n",
       "      <td>1.0</td>\n",
       "      <td>-0.9</td>\n",
       "      <td>0.8</td>\n",
       "      <td>-0.7</td>\n",
       "    </tr>\n",
       "    <tr>\n",
       "      <th>22</th>\n",
       "      <td>1.0</td>\n",
       "      <td>-0.8</td>\n",
       "      <td>0.6</td>\n",
       "      <td>-0.5</td>\n",
       "    </tr>\n",
       "    <tr>\n",
       "      <th>23</th>\n",
       "      <td>1.0</td>\n",
       "      <td>-0.7</td>\n",
       "      <td>0.5</td>\n",
       "      <td>-0.3</td>\n",
       "    </tr>\n",
       "    <tr>\n",
       "      <th>24</th>\n",
       "      <td>1.0</td>\n",
       "      <td>-0.6</td>\n",
       "      <td>0.4</td>\n",
       "      <td>-0.2</td>\n",
       "    </tr>\n",
       "    <tr>\n",
       "      <th>25</th>\n",
       "      <td>1.0</td>\n",
       "      <td>-0.5</td>\n",
       "      <td>0.2</td>\n",
       "      <td>-0.1</td>\n",
       "    </tr>\n",
       "    <tr>\n",
       "      <th>26</th>\n",
       "      <td>1.0</td>\n",
       "      <td>-0.4</td>\n",
       "      <td>0.2</td>\n",
       "      <td>-0.1</td>\n",
       "    </tr>\n",
       "    <tr>\n",
       "      <th>27</th>\n",
       "      <td>1.0</td>\n",
       "      <td>-0.3</td>\n",
       "      <td>0.1</td>\n",
       "      <td>-0.0</td>\n",
       "    </tr>\n",
       "    <tr>\n",
       "      <th>28</th>\n",
       "      <td>1.0</td>\n",
       "      <td>-0.2</td>\n",
       "      <td>0.0</td>\n",
       "      <td>-0.0</td>\n",
       "    </tr>\n",
       "    <tr>\n",
       "      <th>29</th>\n",
       "      <td>1.0</td>\n",
       "      <td>-0.1</td>\n",
       "      <td>0.0</td>\n",
       "      <td>-0.0</td>\n",
       "    </tr>\n",
       "    <tr>\n",
       "      <th>30</th>\n",
       "      <td>1.0</td>\n",
       "      <td>0.0</td>\n",
       "      <td>0.0</td>\n",
       "      <td>0.0</td>\n",
       "    </tr>\n",
       "    <tr>\n",
       "      <th>31</th>\n",
       "      <td>1.0</td>\n",
       "      <td>0.1</td>\n",
       "      <td>0.0</td>\n",
       "      <td>0.0</td>\n",
       "    </tr>\n",
       "    <tr>\n",
       "      <th>32</th>\n",
       "      <td>1.0</td>\n",
       "      <td>0.2</td>\n",
       "      <td>0.0</td>\n",
       "      <td>0.0</td>\n",
       "    </tr>\n",
       "    <tr>\n",
       "      <th>33</th>\n",
       "      <td>1.0</td>\n",
       "      <td>0.3</td>\n",
       "      <td>0.1</td>\n",
       "      <td>0.0</td>\n",
       "    </tr>\n",
       "    <tr>\n",
       "      <th>34</th>\n",
       "      <td>1.0</td>\n",
       "      <td>0.4</td>\n",
       "      <td>0.2</td>\n",
       "      <td>0.1</td>\n",
       "    </tr>\n",
       "    <tr>\n",
       "      <th>35</th>\n",
       "      <td>1.0</td>\n",
       "      <td>0.5</td>\n",
       "      <td>0.3</td>\n",
       "      <td>0.1</td>\n",
       "    </tr>\n",
       "    <tr>\n",
       "      <th>36</th>\n",
       "      <td>1.0</td>\n",
       "      <td>0.6</td>\n",
       "      <td>0.4</td>\n",
       "      <td>0.2</td>\n",
       "    </tr>\n",
       "    <tr>\n",
       "      <th>37</th>\n",
       "      <td>1.0</td>\n",
       "      <td>0.7</td>\n",
       "      <td>0.5</td>\n",
       "      <td>0.3</td>\n",
       "    </tr>\n",
       "    <tr>\n",
       "      <th>38</th>\n",
       "      <td>1.0</td>\n",
       "      <td>0.8</td>\n",
       "      <td>0.6</td>\n",
       "      <td>0.5</td>\n",
       "    </tr>\n",
       "    <tr>\n",
       "      <th>39</th>\n",
       "      <td>1.0</td>\n",
       "      <td>0.9</td>\n",
       "      <td>0.8</td>\n",
       "      <td>0.7</td>\n",
       "    </tr>\n",
       "    <tr>\n",
       "      <th>40</th>\n",
       "      <td>1.0</td>\n",
       "      <td>1.0</td>\n",
       "      <td>1.0</td>\n",
       "      <td>1.0</td>\n",
       "    </tr>\n",
       "    <tr>\n",
       "      <th>41</th>\n",
       "      <td>1.0</td>\n",
       "      <td>1.1</td>\n",
       "      <td>1.2</td>\n",
       "      <td>1.3</td>\n",
       "    </tr>\n",
       "    <tr>\n",
       "      <th>42</th>\n",
       "      <td>1.0</td>\n",
       "      <td>1.2</td>\n",
       "      <td>1.4</td>\n",
       "      <td>1.7</td>\n",
       "    </tr>\n",
       "    <tr>\n",
       "      <th>43</th>\n",
       "      <td>1.0</td>\n",
       "      <td>1.3</td>\n",
       "      <td>1.7</td>\n",
       "      <td>2.2</td>\n",
       "    </tr>\n",
       "    <tr>\n",
       "      <th>44</th>\n",
       "      <td>1.0</td>\n",
       "      <td>1.4</td>\n",
       "      <td>2.0</td>\n",
       "      <td>2.7</td>\n",
       "    </tr>\n",
       "    <tr>\n",
       "      <th>45</th>\n",
       "      <td>1.0</td>\n",
       "      <td>1.5</td>\n",
       "      <td>2.3</td>\n",
       "      <td>3.4</td>\n",
       "    </tr>\n",
       "    <tr>\n",
       "      <th>46</th>\n",
       "      <td>1.0</td>\n",
       "      <td>1.6</td>\n",
       "      <td>2.6</td>\n",
       "      <td>4.1</td>\n",
       "    </tr>\n",
       "    <tr>\n",
       "      <th>47</th>\n",
       "      <td>1.0</td>\n",
       "      <td>1.7</td>\n",
       "      <td>2.9</td>\n",
       "      <td>4.9</td>\n",
       "    </tr>\n",
       "    <tr>\n",
       "      <th>48</th>\n",
       "      <td>1.0</td>\n",
       "      <td>1.8</td>\n",
       "      <td>3.2</td>\n",
       "      <td>5.8</td>\n",
       "    </tr>\n",
       "    <tr>\n",
       "      <th>49</th>\n",
       "      <td>1.0</td>\n",
       "      <td>1.9</td>\n",
       "      <td>3.6</td>\n",
       "      <td>6.9</td>\n",
       "    </tr>\n",
       "  </tbody>\n",
       "</table>\n",
       "</div>"
      ],
      "text/plain": [
       "      0    1    2     3\n",
       "0   1.0 -3.0  9.0 -27.0\n",
       "1   1.0 -2.9  8.4 -24.4\n",
       "2   1.0 -2.8  7.8 -22.0\n",
       "3   1.0 -2.7  7.3 -19.7\n",
       "4   1.0 -2.6  6.8 -17.6\n",
       "5   1.0 -2.5  6.2 -15.6\n",
       "6   1.0 -2.4  5.8 -13.8\n",
       "7   1.0 -2.3  5.3 -12.2\n",
       "8   1.0 -2.2  4.8 -10.6\n",
       "9   1.0 -2.1  4.4  -9.3\n",
       "10  1.0 -2.0  4.0  -8.0\n",
       "11  1.0 -1.9  3.6  -6.9\n",
       "12  1.0 -1.8  3.2  -5.8\n",
       "13  1.0 -1.7  2.9  -4.9\n",
       "14  1.0 -1.6  2.6  -4.1\n",
       "15  1.0 -1.5  2.2  -3.4\n",
       "16  1.0 -1.4  2.0  -2.7\n",
       "17  1.0 -1.3  1.7  -2.2\n",
       "18  1.0 -1.2  1.4  -1.7\n",
       "19  1.0 -1.1  1.2  -1.3\n",
       "20  1.0 -1.0  1.0  -1.0\n",
       "21  1.0 -0.9  0.8  -0.7\n",
       "22  1.0 -0.8  0.6  -0.5\n",
       "23  1.0 -0.7  0.5  -0.3\n",
       "24  1.0 -0.6  0.4  -0.2\n",
       "25  1.0 -0.5  0.2  -0.1\n",
       "26  1.0 -0.4  0.2  -0.1\n",
       "27  1.0 -0.3  0.1  -0.0\n",
       "28  1.0 -0.2  0.0  -0.0\n",
       "29  1.0 -0.1  0.0  -0.0\n",
       "30  1.0  0.0  0.0   0.0\n",
       "31  1.0  0.1  0.0   0.0\n",
       "32  1.0  0.2  0.0   0.0\n",
       "33  1.0  0.3  0.1   0.0\n",
       "34  1.0  0.4  0.2   0.1\n",
       "35  1.0  0.5  0.3   0.1\n",
       "36  1.0  0.6  0.4   0.2\n",
       "37  1.0  0.7  0.5   0.3\n",
       "38  1.0  0.8  0.6   0.5\n",
       "39  1.0  0.9  0.8   0.7\n",
       "40  1.0  1.0  1.0   1.0\n",
       "41  1.0  1.1  1.2   1.3\n",
       "42  1.0  1.2  1.4   1.7\n",
       "43  1.0  1.3  1.7   2.2\n",
       "44  1.0  1.4  2.0   2.7\n",
       "45  1.0  1.5  2.3   3.4\n",
       "46  1.0  1.6  2.6   4.1\n",
       "47  1.0  1.7  2.9   4.9\n",
       "48  1.0  1.8  3.2   5.8\n",
       "49  1.0  1.9  3.6   6.9"
      ]
     },
     "execution_count": 17,
     "metadata": {},
     "output_type": "execute_result"
    }
   ],
   "source": [
    "# .round(1) is same as .applymap(lambda z: round(z,1))\n",
    "pd.DataFrame(poly.transform(df[[\"x\"]])).round(1)"
   ]
  },
  {
   "cell_type": "markdown",
   "metadata": {},
   "source": [
    "Let's get rid of the column of all `1` values.  We do this by setting `include_bias=False` when we instantiate the PolynomialFeatures object.  That's the only substantive change between the following and the above code, but we'll combine the steps in a different way here, just to see an alternative approach.  (I think this approach is probably the easier one to understand.)"
   ]
  },
  {
   "cell_type": "code",
   "execution_count": 18,
   "metadata": {
    "cell_id": "f082183d82894bc9a2ee44a185d17282",
    "deepnote_cell_type": "code",
    "deepnote_to_be_reexecuted": false,
    "execution_millis": 223,
    "execution_start": 1683750023199,
    "source_hash": "c8a3191a"
   },
   "outputs": [],
   "source": [
    "poly = PolynomialFeatures(degree=3, include_bias=False)"
   ]
  },
  {
   "cell_type": "markdown",
   "metadata": {},
   "source": [
    "We can perform both the `fit` and the `transform` steps in the same step using `fit_transform`.  This \"do both at once\" possibility is available for some data types in scikit-learn but not all, and I don't know exactly what the pattern is.  (For example, there is no `fit_predict` method of a `LinearRegression` object, I'm not sure why not.)"
   ]
  },
  {
   "cell_type": "code",
   "execution_count": 19,
   "metadata": {
    "cell_id": "fea8490936c54cee8eacd9a56bd769ef",
    "deepnote_cell_type": "code",
    "deepnote_to_be_reexecuted": false,
    "execution_millis": 2,
    "execution_start": 1683750058420,
    "source_hash": "3a7dbbb7"
   },
   "outputs": [],
   "source": [
    "arr = poly.fit_transform(df[[\"x\"]])"
   ]
  },
  {
   "cell_type": "markdown",
   "metadata": {},
   "source": [
    "Here are the first three rows.  Notice how there is no column of all values equal to 1."
   ]
  },
  {
   "cell_type": "code",
   "execution_count": 20,
   "metadata": {
    "cell_id": "a7ce4dcaa4514ecc84f147b1d95385e0",
    "deepnote_cell_type": "code",
    "deepnote_to_be_reexecuted": false,
    "execution_millis": 2,
    "execution_start": 1683750087116,
    "source_hash": "fabe10e4"
   },
   "outputs": [
    {
     "data": {
      "text/plain": [
       "array([[ -3.   ,   9.   , -27.   ],\n",
       "       [ -2.9  ,   8.41 , -24.389],\n",
       "       [ -2.8  ,   7.84 , -21.952]])"
      ]
     },
     "execution_count": 20,
     "metadata": {},
     "output_type": "execute_result"
    }
   ],
   "source": [
    "arr[:3]"
   ]
  },
  {
   "cell_type": "markdown",
   "metadata": {},
   "source": [
    "Here we convert `arr` into a pandas DataFrame."
   ]
  },
  {
   "cell_type": "code",
   "execution_count": 21,
   "metadata": {
    "cell_id": "d50a797b0a5941bea38db6efefba0296",
    "deepnote_cell_type": "code",
    "deepnote_to_be_reexecuted": false,
    "execution_millis": 1,
    "execution_start": 1683750140072,
    "source_hash": "344b99dd"
   },
   "outputs": [],
   "source": [
    "df_pow = pd.DataFrame(arr)"
   ]
  },
  {
   "cell_type": "markdown",
   "metadata": {},
   "source": [
    "It seems to be working as expected.  The column names (notice that pandas defaults to integer column labels) are not helpful at the moment."
   ]
  },
  {
   "cell_type": "code",
   "execution_count": 22,
   "metadata": {
    "cell_id": "cf211a7f47c74786ad993c10ce2e0fca",
    "deepnote_cell_type": "code",
    "deepnote_to_be_reexecuted": false,
    "execution_millis": 6,
    "execution_start": 1683750145957,
    "source_hash": "809afce"
   },
   "outputs": [
    {
     "data": {
      "application/vnd.deepnote.dataframe.v3+json": {
       "column_count": 3,
       "columns": [
        {
         "dtype": "float64",
         "name": 0,
         "stats": {
          "histogram": [
           {
            "bin_end": -2.98,
            "bin_start": -3,
            "count": 1
           },
           {
            "bin_end": -2.96,
            "bin_start": -2.98,
            "count": 0
           },
           {
            "bin_end": -2.94,
            "bin_start": -2.96,
            "count": 0
           },
           {
            "bin_end": -2.92,
            "bin_start": -2.94,
            "count": 0
           },
           {
            "bin_end": -2.9,
            "bin_start": -2.92,
            "count": 0
           },
           {
            "bin_end": -2.88,
            "bin_start": -2.9,
            "count": 1
           },
           {
            "bin_end": -2.86,
            "bin_start": -2.88,
            "count": 0
           },
           {
            "bin_end": -2.84,
            "bin_start": -2.86,
            "count": 0
           },
           {
            "bin_end": -2.82,
            "bin_start": -2.84,
            "count": 0
           },
           {
            "bin_end": -2.8,
            "bin_start": -2.82,
            "count": 1
           }
          ],
          "max": "-2.8",
          "min": "-3.0",
          "nan_count": 0,
          "unique_count": 3
         }
        },
        {
         "dtype": "float64",
         "name": 1,
         "stats": {
          "histogram": [
           {
            "bin_end": 7.9559999999999995,
            "bin_start": 7.839999999999999,
            "count": 1
           },
           {
            "bin_end": 8.072,
            "bin_start": 7.9559999999999995,
            "count": 0
           },
           {
            "bin_end": 8.187999999999999,
            "bin_start": 8.072,
            "count": 0
           },
           {
            "bin_end": 8.303999999999998,
            "bin_start": 8.187999999999999,
            "count": 0
           },
           {
            "bin_end": 8.42,
            "bin_start": 8.303999999999998,
            "count": 1
           },
           {
            "bin_end": 8.536,
            "bin_start": 8.42,
            "count": 0
           },
           {
            "bin_end": 8.652,
            "bin_start": 8.536,
            "count": 0
           },
           {
            "bin_end": 8.768,
            "bin_start": 8.652,
            "count": 0
           },
           {
            "bin_end": 8.884,
            "bin_start": 8.768,
            "count": 0
           },
           {
            "bin_end": 9,
            "bin_start": 8.884,
            "count": 1
           }
          ],
          "max": "9.0",
          "min": "7.839999999999999",
          "nan_count": 0,
          "unique_count": 3
         }
        },
        {
         "dtype": "float64",
         "name": 2,
         "stats": {
          "histogram": [
           {
            "bin_end": -26.4952,
            "bin_start": -27,
            "count": 1
           },
           {
            "bin_end": -25.990399999999998,
            "bin_start": -26.4952,
            "count": 0
           },
           {
            "bin_end": -25.485599999999998,
            "bin_start": -25.990399999999998,
            "count": 0
           },
           {
            "bin_end": -24.9808,
            "bin_start": -25.485599999999998,
            "count": 0
           },
           {
            "bin_end": -24.476,
            "bin_start": -24.9808,
            "count": 0
           },
           {
            "bin_end": -23.971199999999996,
            "bin_start": -24.476,
            "count": 1
           },
           {
            "bin_end": -23.466399999999997,
            "bin_start": -23.971199999999996,
            "count": 0
           },
           {
            "bin_end": -22.961599999999997,
            "bin_start": -23.466399999999997,
            "count": 0
           },
           {
            "bin_end": -22.456799999999994,
            "bin_start": -22.961599999999997,
            "count": 0
           },
           {
            "bin_end": -21.951999999999995,
            "bin_start": -22.456799999999994,
            "count": 1
           }
          ],
          "max": "-21.951999999999995",
          "min": "-27.0",
          "nan_count": 0,
          "unique_count": 3
         }
        },
        {
         "dtype": "int64",
         "name": "_deepnote_index_column"
        }
       ],
       "row_count": 3,
       "rows": [
        {
         "0": "-3.0",
         "1": "9.0",
         "2": "-27.0",
         "_deepnote_index_column": "0"
        },
        {
         "0": "-2.9",
         "1": "8.41",
         "2": "-24.389",
         "_deepnote_index_column": "1"
        },
        {
         "0": "-2.8",
         "1": "7.839999999999999",
         "2": "-21.951999999999995",
         "_deepnote_index_column": "2"
        }
       ]
      },
      "text/html": [
       "<div>\n",
       "<style scoped>\n",
       "    .dataframe tbody tr th:only-of-type {\n",
       "        vertical-align: middle;\n",
       "    }\n",
       "\n",
       "    .dataframe tbody tr th {\n",
       "        vertical-align: top;\n",
       "    }\n",
       "\n",
       "    .dataframe thead th {\n",
       "        text-align: right;\n",
       "    }\n",
       "</style>\n",
       "<table border=\"1\" class=\"dataframe\">\n",
       "  <thead>\n",
       "    <tr style=\"text-align: right;\">\n",
       "      <th></th>\n",
       "      <th>0</th>\n",
       "      <th>1</th>\n",
       "      <th>2</th>\n",
       "    </tr>\n",
       "  </thead>\n",
       "  <tbody>\n",
       "    <tr>\n",
       "      <th>0</th>\n",
       "      <td>-3.0</td>\n",
       "      <td>9.00</td>\n",
       "      <td>-27.000</td>\n",
       "    </tr>\n",
       "    <tr>\n",
       "      <th>1</th>\n",
       "      <td>-2.9</td>\n",
       "      <td>8.41</td>\n",
       "      <td>-24.389</td>\n",
       "    </tr>\n",
       "    <tr>\n",
       "      <th>2</th>\n",
       "      <td>-2.8</td>\n",
       "      <td>7.84</td>\n",
       "      <td>-21.952</td>\n",
       "    </tr>\n",
       "  </tbody>\n",
       "</table>\n",
       "</div>"
      ],
      "text/plain": [
       "     0     1       2\n",
       "0 -3.0  9.00 -27.000\n",
       "1 -2.9  8.41 -24.389\n",
       "2 -2.8  7.84 -21.952"
      ]
     },
     "execution_count": 22,
     "metadata": {},
     "output_type": "execute_result"
    }
   ],
   "source": [
    "df_pow.head(3)"
   ]
  },
  {
   "cell_type": "markdown",
   "metadata": {
    "cell_id": "c07ef955423240ed81839c10c66c486d",
    "deepnote_cell_type": "markdown"
   },
   "source": [
    "* Name the columns using the `get_feature_names_out` method of the `PolynomialFeatures` object."
   ]
  },
  {
   "cell_type": "code",
   "execution_count": 23,
   "metadata": {
    "cell_id": "1ba88ab9250e40b09bdcde2eb42afd19",
    "deepnote_cell_type": "code",
    "deepnote_to_be_reexecuted": false,
    "execution_millis": 2,
    "execution_start": 1683750228609,
    "source_hash": "62779a0"
   },
   "outputs": [],
   "source": [
    "df_pow.columns = poly.get_feature_names_out()"
   ]
  },
  {
   "cell_type": "markdown",
   "metadata": {},
   "source": [
    "The `PolynomialFeatures` class will also record appropriate column labels.  Here we got them from the `get_feature_names_out` method."
   ]
  },
  {
   "cell_type": "code",
   "execution_count": 24,
   "metadata": {
    "cell_id": "e407bdd145184c10bc547b8117afcda3",
    "deepnote_cell_type": "code",
    "deepnote_to_be_reexecuted": false,
    "execution_millis": 6,
    "execution_start": 1683750242898,
    "source_hash": "809afce"
   },
   "outputs": [
    {
     "data": {
      "application/vnd.deepnote.dataframe.v3+json": {
       "column_count": 3,
       "columns": [
        {
         "dtype": "float64",
         "name": "x",
         "stats": {
          "histogram": [
           {
            "bin_end": -2.98,
            "bin_start": -3,
            "count": 1
           },
           {
            "bin_end": -2.96,
            "bin_start": -2.98,
            "count": 0
           },
           {
            "bin_end": -2.94,
            "bin_start": -2.96,
            "count": 0
           },
           {
            "bin_end": -2.92,
            "bin_start": -2.94,
            "count": 0
           },
           {
            "bin_end": -2.9,
            "bin_start": -2.92,
            "count": 0
           },
           {
            "bin_end": -2.88,
            "bin_start": -2.9,
            "count": 1
           },
           {
            "bin_end": -2.86,
            "bin_start": -2.88,
            "count": 0
           },
           {
            "bin_end": -2.84,
            "bin_start": -2.86,
            "count": 0
           },
           {
            "bin_end": -2.82,
            "bin_start": -2.84,
            "count": 0
           },
           {
            "bin_end": -2.8,
            "bin_start": -2.82,
            "count": 1
           }
          ],
          "max": "-2.8",
          "min": "-3.0",
          "nan_count": 0,
          "unique_count": 3
         }
        },
        {
         "dtype": "float64",
         "name": "x^2",
         "stats": {
          "histogram": [
           {
            "bin_end": 7.9559999999999995,
            "bin_start": 7.839999999999999,
            "count": 1
           },
           {
            "bin_end": 8.072,
            "bin_start": 7.9559999999999995,
            "count": 0
           },
           {
            "bin_end": 8.187999999999999,
            "bin_start": 8.072,
            "count": 0
           },
           {
            "bin_end": 8.303999999999998,
            "bin_start": 8.187999999999999,
            "count": 0
           },
           {
            "bin_end": 8.42,
            "bin_start": 8.303999999999998,
            "count": 1
           },
           {
            "bin_end": 8.536,
            "bin_start": 8.42,
            "count": 0
           },
           {
            "bin_end": 8.652,
            "bin_start": 8.536,
            "count": 0
           },
           {
            "bin_end": 8.768,
            "bin_start": 8.652,
            "count": 0
           },
           {
            "bin_end": 8.884,
            "bin_start": 8.768,
            "count": 0
           },
           {
            "bin_end": 9,
            "bin_start": 8.884,
            "count": 1
           }
          ],
          "max": "9.0",
          "min": "7.839999999999999",
          "nan_count": 0,
          "unique_count": 3
         }
        },
        {
         "dtype": "float64",
         "name": "x^3",
         "stats": {
          "histogram": [
           {
            "bin_end": -26.4952,
            "bin_start": -27,
            "count": 1
           },
           {
            "bin_end": -25.990399999999998,
            "bin_start": -26.4952,
            "count": 0
           },
           {
            "bin_end": -25.485599999999998,
            "bin_start": -25.990399999999998,
            "count": 0
           },
           {
            "bin_end": -24.9808,
            "bin_start": -25.485599999999998,
            "count": 0
           },
           {
            "bin_end": -24.476,
            "bin_start": -24.9808,
            "count": 0
           },
           {
            "bin_end": -23.971199999999996,
            "bin_start": -24.476,
            "count": 1
           },
           {
            "bin_end": -23.466399999999997,
            "bin_start": -23.971199999999996,
            "count": 0
           },
           {
            "bin_end": -22.961599999999997,
            "bin_start": -23.466399999999997,
            "count": 0
           },
           {
            "bin_end": -22.456799999999994,
            "bin_start": -22.961599999999997,
            "count": 0
           },
           {
            "bin_end": -21.951999999999995,
            "bin_start": -22.456799999999994,
            "count": 1
           }
          ],
          "max": "-21.951999999999995",
          "min": "-27.0",
          "nan_count": 0,
          "unique_count": 3
         }
        },
        {
         "dtype": "int64",
         "name": "_deepnote_index_column"
        }
       ],
       "row_count": 3,
       "rows": [
        {
         "_deepnote_index_column": "0",
         "x": "-3.0",
         "x^2": "9.0",
         "x^3": "-27.0"
        },
        {
         "_deepnote_index_column": "1",
         "x": "-2.9",
         "x^2": "8.41",
         "x^3": "-24.389"
        },
        {
         "_deepnote_index_column": "2",
         "x": "-2.8",
         "x^2": "7.839999999999999",
         "x^3": "-21.951999999999995"
        }
       ]
      },
      "text/html": [
       "<div>\n",
       "<style scoped>\n",
       "    .dataframe tbody tr th:only-of-type {\n",
       "        vertical-align: middle;\n",
       "    }\n",
       "\n",
       "    .dataframe tbody tr th {\n",
       "        vertical-align: top;\n",
       "    }\n",
       "\n",
       "    .dataframe thead th {\n",
       "        text-align: right;\n",
       "    }\n",
       "</style>\n",
       "<table border=\"1\" class=\"dataframe\">\n",
       "  <thead>\n",
       "    <tr style=\"text-align: right;\">\n",
       "      <th></th>\n",
       "      <th>x</th>\n",
       "      <th>x^2</th>\n",
       "      <th>x^3</th>\n",
       "    </tr>\n",
       "  </thead>\n",
       "  <tbody>\n",
       "    <tr>\n",
       "      <th>0</th>\n",
       "      <td>-3.0</td>\n",
       "      <td>9.00</td>\n",
       "      <td>-27.000</td>\n",
       "    </tr>\n",
       "    <tr>\n",
       "      <th>1</th>\n",
       "      <td>-2.9</td>\n",
       "      <td>8.41</td>\n",
       "      <td>-24.389</td>\n",
       "    </tr>\n",
       "    <tr>\n",
       "      <th>2</th>\n",
       "      <td>-2.8</td>\n",
       "      <td>7.84</td>\n",
       "      <td>-21.952</td>\n",
       "    </tr>\n",
       "  </tbody>\n",
       "</table>\n",
       "</div>"
      ],
      "text/plain": [
       "     x   x^2     x^3\n",
       "0 -3.0  9.00 -27.000\n",
       "1 -2.9  8.41 -24.389\n",
       "2 -2.8  7.84 -21.952"
      ]
     },
     "execution_count": 24,
     "metadata": {},
     "output_type": "execute_result"
    }
   ],
   "source": [
    "df_pow.head(3)"
   ]
  },
  {
   "cell_type": "markdown",
   "metadata": {
    "cell_id": "c54a532891b14f2ea8237d875fffa710",
    "deepnote_cell_type": "markdown"
   },
   "source": [
    "* Concatenate the \"y\" and \"y_true\" columns from `df` onto the end of `df_pow` using `pd.concat((???, ???), axis=???)`.  Name the result `df_both`.\n",
    "\n",
    "I believe this is our first time concatenating pandas DataFrames in Math 10 (meaning, we put two or more DataFrames side-by-side or on top of each other).\n",
    "\n",
    "Notice how we use `axis=1`, because the column labels are changing but the row labels are staying the same.\n",
    "\n",
    "Aside: I believe we would get an error if we used `axis=0` (at least it would not work as expected), because these DataFrames `df_pow` and `df[[\"y\", \"y_true\"]]` do not have the same columns, so it doesn't really make sense to stack them on top of each other.  (The other possibility I can imagine is that the result would have many missing values.)"
   ]
  },
  {
   "cell_type": "code",
   "execution_count": 25,
   "metadata": {
    "cell_id": "66c8ab642e4d4f748e87f5b4de10db76",
    "deepnote_cell_type": "code",
    "deepnote_to_be_reexecuted": false,
    "execution_millis": 27,
    "execution_start": 1683750495784,
    "source_hash": "d2cb6e3e",
    "tags": [
     "output_scroll"
    ]
   },
   "outputs": [
    {
     "data": {
      "application/vnd.deepnote.dataframe.v3+json": {
       "column_count": 5,
       "columns": [
        {
         "dtype": "float64",
         "name": "x",
         "stats": {
          "histogram": [
           {
            "bin_end": -2.51,
            "bin_start": -3,
            "count": 5
           },
           {
            "bin_end": -2.019999999999999,
            "bin_start": -2.51,
            "count": 5
           },
           {
            "bin_end": -1.529999999999999,
            "bin_start": -2.019999999999999,
            "count": 5
           },
           {
            "bin_end": -1.0399999999999985,
            "bin_start": -1.529999999999999,
            "count": 5
           },
           {
            "bin_end": -0.549999999999998,
            "bin_start": -1.0399999999999985,
            "count": 5
           },
           {
            "bin_end": -0.05999999999999783,
            "bin_start": -0.549999999999998,
            "count": 5
           },
           {
            "bin_end": 0.4300000000000028,
            "bin_start": -0.05999999999999783,
            "count": 5
           },
           {
            "bin_end": 0.920000000000003,
            "bin_start": 0.4300000000000028,
            "count": 5
           },
           {
            "bin_end": 1.4100000000000037,
            "bin_start": 0.920000000000003,
            "count": 5
           },
           {
            "bin_end": 1.900000000000004,
            "bin_start": 1.4100000000000037,
            "count": 5
           }
          ],
          "max": "1.900000000000004",
          "min": "-3.0",
          "nan_count": 0,
          "unique_count": 50
         }
        },
        {
         "dtype": "float64",
         "name": "x^2",
         "stats": {
          "histogram": [
           {
            "bin_end": 0.9,
            "bin_start": 7.099748146989106e-30,
            "count": 19
           },
           {
            "bin_end": 1.8,
            "bin_start": 0.9,
            "count": 8
           },
           {
            "bin_end": 2.7,
            "bin_start": 1.8,
            "count": 6
           },
           {
            "bin_end": 3.6,
            "bin_start": 2.7,
            "count": 4
           },
           {
            "bin_end": 4.5,
            "bin_start": 3.6,
            "count": 4
           },
           {
            "bin_end": 5.4,
            "bin_start": 4.5,
            "count": 2
           },
           {
            "bin_end": 6.3,
            "bin_start": 5.4,
            "count": 2
           },
           {
            "bin_end": 7.2,
            "bin_start": 6.3,
            "count": 1
           },
           {
            "bin_end": 8.1,
            "bin_start": 7.2,
            "count": 2
           },
           {
            "bin_end": 9,
            "bin_start": 8.1,
            "count": 2
           }
          ],
          "max": "9.0",
          "min": "7.099748146989106e-30",
          "nan_count": 0,
          "unique_count": 50
         }
        },
        {
         "dtype": "float64",
         "name": "x^3",
         "stats": {
          "histogram": [
           {
            "bin_end": -23.614099999999997,
            "bin_start": -27,
            "count": 2
           },
           {
            "bin_end": -20.22819999999999,
            "bin_start": -23.614099999999997,
            "count": 1
           },
           {
            "bin_end": -16.842299999999987,
            "bin_start": -20.22819999999999,
            "count": 2
           },
           {
            "bin_end": -13.456399999999983,
            "bin_start": -16.842299999999987,
            "count": 2
           },
           {
            "bin_end": -10.070499999999978,
            "bin_start": -13.456399999999983,
            "count": 2
           },
           {
            "bin_end": -6.684599999999975,
            "bin_start": -10.070499999999978,
            "count": 3
           },
           {
            "bin_end": -3.298699999999968,
            "bin_start": -6.684599999999975,
            "count": 4
           },
           {
            "bin_end": 0.0872000000000348,
            "bin_start": -3.298699999999968,
            "count": 19
           },
           {
            "bin_end": 3.473100000000038,
            "bin_start": 0.0872000000000348,
            "count": 11
           },
           {
            "bin_end": 6.859000000000043,
            "bin_start": 3.473100000000038,
            "count": 4
           }
          ],
          "max": "6.859000000000043",
          "min": "-27.0",
          "nan_count": 0,
          "unique_count": 50
         }
        },
        {
         "dtype": "float64",
         "name": "y",
         "stats": {
          "histogram": [
           {
            "bin_end": -19.74769268223246,
            "bin_start": -24.589036941447688,
            "count": 3
           },
           {
            "bin_end": -14.906348423017233,
            "bin_start": -19.74769268223246,
            "count": 4
           },
           {
            "bin_end": -10.065004163802005,
            "bin_start": -14.906348423017233,
            "count": 7
           },
           {
            "bin_end": -5.223659904586778,
            "bin_start": -10.065004163802005,
            "count": 15
           },
           {
            "bin_end": -0.38231564537155194,
            "bin_start": -5.223659904586778,
            "count": 12
           },
           {
            "bin_end": 4.459028613843678,
            "bin_start": -0.38231564537155194,
            "count": 3
           },
           {
            "bin_end": 9.300372873058905,
            "bin_start": 4.459028613843678,
            "count": 2
           },
           {
            "bin_end": 14.141717132274131,
            "bin_start": 9.300372873058905,
            "count": 2
           },
           {
            "bin_end": 18.983061391489358,
            "bin_start": 14.141717132274131,
            "count": 1
           },
           {
            "bin_end": 23.824405650704584,
            "bin_start": 18.983061391489358,
            "count": 1
           }
          ],
          "max": "23.824405650704584",
          "min": "-24.589036941447688",
          "nan_count": 0,
          "unique_count": 50
         }
        },
        {
         "dtype": "float64",
         "name": "y_true",
         "stats": {
          "histogram": [
           {
            "bin_end": -22.98320000000011,
            "bin_start": -27.648000000000124,
            "count": 2
           },
           {
            "bin_end": -18.3184000000001,
            "bin_start": -22.98320000000011,
            "count": 2
           },
           {
            "bin_end": -13.653600000000088,
            "bin_start": -18.3184000000001,
            "count": 2
           },
           {
            "bin_end": -8.988800000000076,
            "bin_start": -13.653600000000088,
            "count": 4
           },
           {
            "bin_end": -4.324000000000062,
            "bin_start": -8.988800000000076,
            "count": 28
           },
           {
            "bin_end": 0.34079999999994826,
            "bin_start": -4.324000000000062,
            "count": 4
           },
           {
            "bin_end": 5.0055999999999585,
            "bin_start": 0.34079999999994826,
            "count": 3
           },
           {
            "bin_end": 9.670399999999972,
            "bin_start": 5.0055999999999585,
            "count": 1
           },
           {
            "bin_end": 14.335199999999986,
            "bin_start": 9.670399999999972,
            "count": 2
           },
           {
            "bin_end": 19,
            "bin_start": 14.335199999999986,
            "count": 2
           }
          ],
          "max": "19.0",
          "min": "-27.648000000000124",
          "nan_count": 0,
          "unique_count": 50
         }
        },
        {
         "dtype": "int64",
         "name": "_deepnote_index_column"
        }
       ],
       "row_count": 50,
       "rows": [
        {
         "_deepnote_index_column": "0",
         "x": "-3.0",
         "x^2": "9.0",
         "x^3": "-27.0",
         "y": "23.824405650704584",
         "y_true": "19.0"
        },
        {
         "_deepnote_index_column": "1",
         "x": "-2.9",
         "x^2": "8.41",
         "x^3": "-24.389",
         "y": "10.237108055098796",
         "y_true": "15.647999999999996"
        },
        {
         "_deepnote_index_column": "2",
         "x": "-2.8",
         "x^2": "7.839999999999999",
         "x^3": "-21.951999999999995",
         "y": "16.91908679057319",
         "y_true": "12.583999999999993"
        },
        {
         "_deepnote_index_column": "3",
         "x": "-2.6999999999999997",
         "x^2": "7.289999999999998",
         "x^3": "-19.682999999999993",
         "y": "8.955196204317206",
         "y_true": "9.795999999999992"
        },
        {
         "_deepnote_index_column": "4",
         "x": "-2.5999999999999996",
         "x^2": "6.759999999999998",
         "x^3": "-17.575999999999993",
         "y": "6.323695104370164",
         "y_true": "7.271999999999991"
        },
        {
         "_deepnote_index_column": "5",
         "x": "-2.4999999999999996",
         "x^2": "6.249999999999998",
         "x^3": "-15.624999999999993",
         "y": "10.602832278036008",
         "y_true": "4.999999999999989"
        },
        {
         "_deepnote_index_column": "6",
         "x": "-2.3999999999999995",
         "x^2": "5.759999999999997",
         "x^3": "-13.82399999999999",
         "y": "0.7841046813223418",
         "y_true": "2.967999999999993"
        },
        {
         "_deepnote_index_column": "7",
         "x": "-2.2999999999999994",
         "x^2": "5.289999999999997",
         "x^3": "-12.166999999999991",
         "y": "-5.234226812329393",
         "y_true": "1.1639999999999908"
        },
        {
         "_deepnote_index_column": "8",
         "x": "-2.1999999999999993",
         "x^2": "4.839999999999997",
         "x^3": "-10.64799999999999",
         "y": "-2.7714988713165125",
         "y_true": "-0.4240000000000137"
        },
        {
         "_deepnote_index_column": "9",
         "x": "-2.099999999999999",
         "x^2": "4.409999999999997",
         "x^3": "-9.260999999999989",
         "y": "-7.792135811821553",
         "y_true": "-1.808000000000014"
        }
       ]
      },
      "text/html": [
       "<div>\n",
       "<style scoped>\n",
       "    .dataframe tbody tr th:only-of-type {\n",
       "        vertical-align: middle;\n",
       "    }\n",
       "\n",
       "    .dataframe tbody tr th {\n",
       "        vertical-align: top;\n",
       "    }\n",
       "\n",
       "    .dataframe thead th {\n",
       "        text-align: right;\n",
       "    }\n",
       "</style>\n",
       "<table border=\"1\" class=\"dataframe\">\n",
       "  <thead>\n",
       "    <tr style=\"text-align: right;\">\n",
       "      <th></th>\n",
       "      <th>x</th>\n",
       "      <th>x^2</th>\n",
       "      <th>x^3</th>\n",
       "      <th>y</th>\n",
       "      <th>y_true</th>\n",
       "    </tr>\n",
       "  </thead>\n",
       "  <tbody>\n",
       "    <tr>\n",
       "      <th>0</th>\n",
       "      <td>-3.000000e+00</td>\n",
       "      <td>9.000000e+00</td>\n",
       "      <td>-2.700000e+01</td>\n",
       "      <td>23.824406</td>\n",
       "      <td>19.000</td>\n",
       "    </tr>\n",
       "    <tr>\n",
       "      <th>1</th>\n",
       "      <td>-2.900000e+00</td>\n",
       "      <td>8.410000e+00</td>\n",
       "      <td>-2.438900e+01</td>\n",
       "      <td>10.237108</td>\n",
       "      <td>15.648</td>\n",
       "    </tr>\n",
       "    <tr>\n",
       "      <th>2</th>\n",
       "      <td>-2.800000e+00</td>\n",
       "      <td>7.840000e+00</td>\n",
       "      <td>-2.195200e+01</td>\n",
       "      <td>16.919087</td>\n",
       "      <td>12.584</td>\n",
       "    </tr>\n",
       "    <tr>\n",
       "      <th>3</th>\n",
       "      <td>-2.700000e+00</td>\n",
       "      <td>7.290000e+00</td>\n",
       "      <td>-1.968300e+01</td>\n",
       "      <td>8.955196</td>\n",
       "      <td>9.796</td>\n",
       "    </tr>\n",
       "    <tr>\n",
       "      <th>4</th>\n",
       "      <td>-2.600000e+00</td>\n",
       "      <td>6.760000e+00</td>\n",
       "      <td>-1.757600e+01</td>\n",
       "      <td>6.323695</td>\n",
       "      <td>7.272</td>\n",
       "    </tr>\n",
       "    <tr>\n",
       "      <th>5</th>\n",
       "      <td>-2.500000e+00</td>\n",
       "      <td>6.250000e+00</td>\n",
       "      <td>-1.562500e+01</td>\n",
       "      <td>10.602832</td>\n",
       "      <td>5.000</td>\n",
       "    </tr>\n",
       "    <tr>\n",
       "      <th>6</th>\n",
       "      <td>-2.400000e+00</td>\n",
       "      <td>5.760000e+00</td>\n",
       "      <td>-1.382400e+01</td>\n",
       "      <td>0.784105</td>\n",
       "      <td>2.968</td>\n",
       "    </tr>\n",
       "    <tr>\n",
       "      <th>7</th>\n",
       "      <td>-2.300000e+00</td>\n",
       "      <td>5.290000e+00</td>\n",
       "      <td>-1.216700e+01</td>\n",
       "      <td>-5.234227</td>\n",
       "      <td>1.164</td>\n",
       "    </tr>\n",
       "    <tr>\n",
       "      <th>8</th>\n",
       "      <td>-2.200000e+00</td>\n",
       "      <td>4.840000e+00</td>\n",
       "      <td>-1.064800e+01</td>\n",
       "      <td>-2.771499</td>\n",
       "      <td>-0.424</td>\n",
       "    </tr>\n",
       "    <tr>\n",
       "      <th>9</th>\n",
       "      <td>-2.100000e+00</td>\n",
       "      <td>4.410000e+00</td>\n",
       "      <td>-9.261000e+00</td>\n",
       "      <td>-7.792136</td>\n",
       "      <td>-1.808</td>\n",
       "    </tr>\n",
       "    <tr>\n",
       "      <th>10</th>\n",
       "      <td>-2.000000e+00</td>\n",
       "      <td>4.000000e+00</td>\n",
       "      <td>-8.000000e+00</td>\n",
       "      <td>-12.199286</td>\n",
       "      <td>-3.000</td>\n",
       "    </tr>\n",
       "    <tr>\n",
       "      <th>11</th>\n",
       "      <td>-1.900000e+00</td>\n",
       "      <td>3.610000e+00</td>\n",
       "      <td>-6.859000e+00</td>\n",
       "      <td>-4.739785</td>\n",
       "      <td>-4.012</td>\n",
       "    </tr>\n",
       "    <tr>\n",
       "      <th>12</th>\n",
       "      <td>-1.800000e+00</td>\n",
       "      <td>3.240000e+00</td>\n",
       "      <td>-5.832000e+00</td>\n",
       "      <td>-2.864605</td>\n",
       "      <td>-4.856</td>\n",
       "    </tr>\n",
       "    <tr>\n",
       "      <th>13</th>\n",
       "      <td>-1.700000e+00</td>\n",
       "      <td>2.890000e+00</td>\n",
       "      <td>-4.913000e+00</td>\n",
       "      <td>-16.354306</td>\n",
       "      <td>-5.544</td>\n",
       "    </tr>\n",
       "    <tr>\n",
       "      <th>14</th>\n",
       "      <td>-1.600000e+00</td>\n",
       "      <td>2.560000e+00</td>\n",
       "      <td>-4.096000e+00</td>\n",
       "      <td>-6.015613</td>\n",
       "      <td>-6.088</td>\n",
       "    </tr>\n",
       "    <tr>\n",
       "      <th>15</th>\n",
       "      <td>-1.500000e+00</td>\n",
       "      <td>2.250000e+00</td>\n",
       "      <td>-3.375000e+00</td>\n",
       "      <td>-5.224009</td>\n",
       "      <td>-6.500</td>\n",
       "    </tr>\n",
       "    <tr>\n",
       "      <th>16</th>\n",
       "      <td>-1.400000e+00</td>\n",
       "      <td>1.960000e+00</td>\n",
       "      <td>-2.744000e+00</td>\n",
       "      <td>-5.926045</td>\n",
       "      <td>-6.792</td>\n",
       "    </tr>\n",
       "    <tr>\n",
       "      <th>17</th>\n",
       "      <td>-1.300000e+00</td>\n",
       "      <td>1.690000e+00</td>\n",
       "      <td>-2.197000e+00</td>\n",
       "      <td>-13.326468</td>\n",
       "      <td>-6.976</td>\n",
       "    </tr>\n",
       "    <tr>\n",
       "      <th>18</th>\n",
       "      <td>-1.200000e+00</td>\n",
       "      <td>1.440000e+00</td>\n",
       "      <td>-1.728000e+00</td>\n",
       "      <td>-8.618807</td>\n",
       "      <td>-7.064</td>\n",
       "    </tr>\n",
       "    <tr>\n",
       "      <th>19</th>\n",
       "      <td>-1.100000e+00</td>\n",
       "      <td>1.210000e+00</td>\n",
       "      <td>-1.331000e+00</td>\n",
       "      <td>-7.999078</td>\n",
       "      <td>-7.068</td>\n",
       "    </tr>\n",
       "    <tr>\n",
       "      <th>20</th>\n",
       "      <td>-1.000000e+00</td>\n",
       "      <td>1.000000e+00</td>\n",
       "      <td>-1.000000e+00</td>\n",
       "      <td>-4.835120</td>\n",
       "      <td>-7.000</td>\n",
       "    </tr>\n",
       "    <tr>\n",
       "      <th>21</th>\n",
       "      <td>-9.000000e-01</td>\n",
       "      <td>8.100000e-01</td>\n",
       "      <td>-7.290000e-01</td>\n",
       "      <td>-13.308757</td>\n",
       "      <td>-6.872</td>\n",
       "    </tr>\n",
       "    <tr>\n",
       "      <th>22</th>\n",
       "      <td>-8.000000e-01</td>\n",
       "      <td>6.400000e-01</td>\n",
       "      <td>-5.120000e-01</td>\n",
       "      <td>-4.778936</td>\n",
       "      <td>-6.696</td>\n",
       "    </tr>\n",
       "    <tr>\n",
       "      <th>23</th>\n",
       "      <td>-7.000000e-01</td>\n",
       "      <td>4.900000e-01</td>\n",
       "      <td>-3.430000e-01</td>\n",
       "      <td>-1.524600</td>\n",
       "      <td>-6.484</td>\n",
       "    </tr>\n",
       "    <tr>\n",
       "      <th>24</th>\n",
       "      <td>-6.000000e-01</td>\n",
       "      <td>3.600000e-01</td>\n",
       "      <td>-2.160000e-01</td>\n",
       "      <td>-17.686227</td>\n",
       "      <td>-6.248</td>\n",
       "    </tr>\n",
       "    <tr>\n",
       "      <th>25</th>\n",
       "      <td>-5.000000e-01</td>\n",
       "      <td>2.500000e-01</td>\n",
       "      <td>-1.250000e-01</td>\n",
       "      <td>-4.880304</td>\n",
       "      <td>-6.000</td>\n",
       "    </tr>\n",
       "    <tr>\n",
       "      <th>26</th>\n",
       "      <td>-4.000000e-01</td>\n",
       "      <td>1.600000e-01</td>\n",
       "      <td>-6.400000e-02</td>\n",
       "      <td>-13.385067</td>\n",
       "      <td>-5.752</td>\n",
       "    </tr>\n",
       "    <tr>\n",
       "      <th>27</th>\n",
       "      <td>-3.000000e-01</td>\n",
       "      <td>9.000000e-02</td>\n",
       "      <td>-2.700000e-02</td>\n",
       "      <td>-6.368335</td>\n",
       "      <td>-5.516</td>\n",
       "    </tr>\n",
       "    <tr>\n",
       "      <th>28</th>\n",
       "      <td>-2.000000e-01</td>\n",
       "      <td>4.000000e-02</td>\n",
       "      <td>-8.000000e-03</td>\n",
       "      <td>-8.704742</td>\n",
       "      <td>-5.304</td>\n",
       "    </tr>\n",
       "    <tr>\n",
       "      <th>29</th>\n",
       "      <td>-1.000000e-01</td>\n",
       "      <td>1.000000e-02</td>\n",
       "      <td>-1.000000e-03</td>\n",
       "      <td>1.240175</td>\n",
       "      <td>-5.128</td>\n",
       "    </tr>\n",
       "    <tr>\n",
       "      <th>30</th>\n",
       "      <td>2.664535e-15</td>\n",
       "      <td>7.099748e-30</td>\n",
       "      <td>1.891753e-44</td>\n",
       "      <td>-4.714457</td>\n",
       "      <td>-5.000</td>\n",
       "    </tr>\n",
       "    <tr>\n",
       "      <th>31</th>\n",
       "      <td>1.000000e-01</td>\n",
       "      <td>1.000000e-02</td>\n",
       "      <td>1.000000e-03</td>\n",
       "      <td>-0.955557</td>\n",
       "      <td>-4.932</td>\n",
       "    </tr>\n",
       "    <tr>\n",
       "      <th>32</th>\n",
       "      <td>2.000000e-01</td>\n",
       "      <td>4.000000e-02</td>\n",
       "      <td>8.000000e-03</td>\n",
       "      <td>-10.169895</td>\n",
       "      <td>-4.936</td>\n",
       "    </tr>\n",
       "    <tr>\n",
       "      <th>33</th>\n",
       "      <td>3.000000e-01</td>\n",
       "      <td>9.000000e-02</td>\n",
       "      <td>2.700000e-02</td>\n",
       "      <td>-2.721364</td>\n",
       "      <td>-5.024</td>\n",
       "    </tr>\n",
       "    <tr>\n",
       "      <th>34</th>\n",
       "      <td>4.000000e-01</td>\n",
       "      <td>1.600000e-01</td>\n",
       "      <td>6.400000e-02</td>\n",
       "      <td>1.903864</td>\n",
       "      <td>-5.208</td>\n",
       "    </tr>\n",
       "    <tr>\n",
       "      <th>35</th>\n",
       "      <td>5.000000e-01</td>\n",
       "      <td>2.500000e-01</td>\n",
       "      <td>1.250000e-01</td>\n",
       "      <td>-9.036285</td>\n",
       "      <td>-5.500</td>\n",
       "    </tr>\n",
       "    <tr>\n",
       "      <th>36</th>\n",
       "      <td>6.000000e-01</td>\n",
       "      <td>3.600000e-01</td>\n",
       "      <td>2.160000e-01</td>\n",
       "      <td>-2.582631</td>\n",
       "      <td>-5.912</td>\n",
       "    </tr>\n",
       "    <tr>\n",
       "      <th>37</th>\n",
       "      <td>7.000000e-01</td>\n",
       "      <td>4.900000e-01</td>\n",
       "      <td>3.430000e-01</td>\n",
       "      <td>-4.049151</td>\n",
       "      <td>-6.456</td>\n",
       "    </tr>\n",
       "    <tr>\n",
       "      <th>38</th>\n",
       "      <td>8.000000e-01</td>\n",
       "      <td>6.400000e-01</td>\n",
       "      <td>5.120000e-01</td>\n",
       "      <td>-7.467370</td>\n",
       "      <td>-7.144</td>\n",
       "    </tr>\n",
       "    <tr>\n",
       "      <th>39</th>\n",
       "      <td>9.000000e-01</td>\n",
       "      <td>8.100000e-01</td>\n",
       "      <td>7.290000e-01</td>\n",
       "      <td>-14.245467</td>\n",
       "      <td>-7.988</td>\n",
       "    </tr>\n",
       "    <tr>\n",
       "      <th>40</th>\n",
       "      <td>1.000000e+00</td>\n",
       "      <td>1.000000e+00</td>\n",
       "      <td>1.000000e+00</td>\n",
       "      <td>-7.584490</td>\n",
       "      <td>-9.000</td>\n",
       "    </tr>\n",
       "    <tr>\n",
       "      <th>41</th>\n",
       "      <td>1.100000e+00</td>\n",
       "      <td>1.210000e+00</td>\n",
       "      <td>1.331000e+00</td>\n",
       "      <td>-11.543440</td>\n",
       "      <td>-10.192</td>\n",
       "    </tr>\n",
       "    <tr>\n",
       "      <th>42</th>\n",
       "      <td>1.200000e+00</td>\n",
       "      <td>1.440000e+00</td>\n",
       "      <td>1.728000e+00</td>\n",
       "      <td>-8.565901</td>\n",
       "      <td>-11.576</td>\n",
       "    </tr>\n",
       "    <tr>\n",
       "      <th>43</th>\n",
       "      <td>1.300000e+00</td>\n",
       "      <td>1.690000e+00</td>\n",
       "      <td>2.197000e+00</td>\n",
       "      <td>-9.269588</td>\n",
       "      <td>-13.164</td>\n",
       "    </tr>\n",
       "    <tr>\n",
       "      <th>44</th>\n",
       "      <td>1.400000e+00</td>\n",
       "      <td>1.960000e+00</td>\n",
       "      <td>2.744000e+00</td>\n",
       "      <td>-7.295300</td>\n",
       "      <td>-14.968</td>\n",
       "    </tr>\n",
       "    <tr>\n",
       "      <th>45</th>\n",
       "      <td>1.500000e+00</td>\n",
       "      <td>2.250000e+00</td>\n",
       "      <td>3.375000e+00</td>\n",
       "      <td>-21.182783</td>\n",
       "      <td>-17.000</td>\n",
       "    </tr>\n",
       "    <tr>\n",
       "      <th>46</th>\n",
       "      <td>1.600000e+00</td>\n",
       "      <td>2.560000e+00</td>\n",
       "      <td>4.096000e+00</td>\n",
       "      <td>-14.946791</td>\n",
       "      <td>-19.272</td>\n",
       "    </tr>\n",
       "    <tr>\n",
       "      <th>47</th>\n",
       "      <td>1.700000e+00</td>\n",
       "      <td>2.890000e+00</td>\n",
       "      <td>4.913000e+00</td>\n",
       "      <td>-18.291899</td>\n",
       "      <td>-21.796</td>\n",
       "    </tr>\n",
       "    <tr>\n",
       "      <th>48</th>\n",
       "      <td>1.800000e+00</td>\n",
       "      <td>3.240000e+00</td>\n",
       "      <td>5.832000e+00</td>\n",
       "      <td>-24.206884</td>\n",
       "      <td>-24.584</td>\n",
       "    </tr>\n",
       "    <tr>\n",
       "      <th>49</th>\n",
       "      <td>1.900000e+00</td>\n",
       "      <td>3.610000e+00</td>\n",
       "      <td>6.859000e+00</td>\n",
       "      <td>-24.589037</td>\n",
       "      <td>-27.648</td>\n",
       "    </tr>\n",
       "  </tbody>\n",
       "</table>\n",
       "</div>"
      ],
      "text/plain": [
       "               x           x^2           x^3          y  y_true\n",
       "0  -3.000000e+00  9.000000e+00 -2.700000e+01  23.824406  19.000\n",
       "1  -2.900000e+00  8.410000e+00 -2.438900e+01  10.237108  15.648\n",
       "2  -2.800000e+00  7.840000e+00 -2.195200e+01  16.919087  12.584\n",
       "3  -2.700000e+00  7.290000e+00 -1.968300e+01   8.955196   9.796\n",
       "4  -2.600000e+00  6.760000e+00 -1.757600e+01   6.323695   7.272\n",
       "5  -2.500000e+00  6.250000e+00 -1.562500e+01  10.602832   5.000\n",
       "6  -2.400000e+00  5.760000e+00 -1.382400e+01   0.784105   2.968\n",
       "7  -2.300000e+00  5.290000e+00 -1.216700e+01  -5.234227   1.164\n",
       "8  -2.200000e+00  4.840000e+00 -1.064800e+01  -2.771499  -0.424\n",
       "9  -2.100000e+00  4.410000e+00 -9.261000e+00  -7.792136  -1.808\n",
       "10 -2.000000e+00  4.000000e+00 -8.000000e+00 -12.199286  -3.000\n",
       "11 -1.900000e+00  3.610000e+00 -6.859000e+00  -4.739785  -4.012\n",
       "12 -1.800000e+00  3.240000e+00 -5.832000e+00  -2.864605  -4.856\n",
       "13 -1.700000e+00  2.890000e+00 -4.913000e+00 -16.354306  -5.544\n",
       "14 -1.600000e+00  2.560000e+00 -4.096000e+00  -6.015613  -6.088\n",
       "15 -1.500000e+00  2.250000e+00 -3.375000e+00  -5.224009  -6.500\n",
       "16 -1.400000e+00  1.960000e+00 -2.744000e+00  -5.926045  -6.792\n",
       "17 -1.300000e+00  1.690000e+00 -2.197000e+00 -13.326468  -6.976\n",
       "18 -1.200000e+00  1.440000e+00 -1.728000e+00  -8.618807  -7.064\n",
       "19 -1.100000e+00  1.210000e+00 -1.331000e+00  -7.999078  -7.068\n",
       "20 -1.000000e+00  1.000000e+00 -1.000000e+00  -4.835120  -7.000\n",
       "21 -9.000000e-01  8.100000e-01 -7.290000e-01 -13.308757  -6.872\n",
       "22 -8.000000e-01  6.400000e-01 -5.120000e-01  -4.778936  -6.696\n",
       "23 -7.000000e-01  4.900000e-01 -3.430000e-01  -1.524600  -6.484\n",
       "24 -6.000000e-01  3.600000e-01 -2.160000e-01 -17.686227  -6.248\n",
       "25 -5.000000e-01  2.500000e-01 -1.250000e-01  -4.880304  -6.000\n",
       "26 -4.000000e-01  1.600000e-01 -6.400000e-02 -13.385067  -5.752\n",
       "27 -3.000000e-01  9.000000e-02 -2.700000e-02  -6.368335  -5.516\n",
       "28 -2.000000e-01  4.000000e-02 -8.000000e-03  -8.704742  -5.304\n",
       "29 -1.000000e-01  1.000000e-02 -1.000000e-03   1.240175  -5.128\n",
       "30  2.664535e-15  7.099748e-30  1.891753e-44  -4.714457  -5.000\n",
       "31  1.000000e-01  1.000000e-02  1.000000e-03  -0.955557  -4.932\n",
       "32  2.000000e-01  4.000000e-02  8.000000e-03 -10.169895  -4.936\n",
       "33  3.000000e-01  9.000000e-02  2.700000e-02  -2.721364  -5.024\n",
       "34  4.000000e-01  1.600000e-01  6.400000e-02   1.903864  -5.208\n",
       "35  5.000000e-01  2.500000e-01  1.250000e-01  -9.036285  -5.500\n",
       "36  6.000000e-01  3.600000e-01  2.160000e-01  -2.582631  -5.912\n",
       "37  7.000000e-01  4.900000e-01  3.430000e-01  -4.049151  -6.456\n",
       "38  8.000000e-01  6.400000e-01  5.120000e-01  -7.467370  -7.144\n",
       "39  9.000000e-01  8.100000e-01  7.290000e-01 -14.245467  -7.988\n",
       "40  1.000000e+00  1.000000e+00  1.000000e+00  -7.584490  -9.000\n",
       "41  1.100000e+00  1.210000e+00  1.331000e+00 -11.543440 -10.192\n",
       "42  1.200000e+00  1.440000e+00  1.728000e+00  -8.565901 -11.576\n",
       "43  1.300000e+00  1.690000e+00  2.197000e+00  -9.269588 -13.164\n",
       "44  1.400000e+00  1.960000e+00  2.744000e+00  -7.295300 -14.968\n",
       "45  1.500000e+00  2.250000e+00  3.375000e+00 -21.182783 -17.000\n",
       "46  1.600000e+00  2.560000e+00  4.096000e+00 -14.946791 -19.272\n",
       "47  1.700000e+00  2.890000e+00  4.913000e+00 -18.291899 -21.796\n",
       "48  1.800000e+00  3.240000e+00  5.832000e+00 -24.206884 -24.584\n",
       "49  1.900000e+00  3.610000e+00  6.859000e+00 -24.589037 -27.648"
      ]
     },
     "execution_count": 25,
     "metadata": {},
     "output_type": "execute_result"
    }
   ],
   "source": [
    "df_both = pd.concat((df_pow, df[[\"y\", \"y_true\"]]), axis=1)\n",
    "df_both"
   ]
  },
  {
   "cell_type": "markdown",
   "metadata": {
    "cell_id": "b5781ce3fb144b058b29ecc50002fc8e",
    "deepnote_cell_type": "markdown"
   },
   "source": [
    "* Find the \"best\" coefficient values for modeling $y \\approx c_3 x^3 + c_2 x^2 + c_1 x + c_0$.\n",
    "\n",
    "We'll go faster through this part, because it is the same process we've been using throughout the linear regression part of Math 10."
   ]
  },
  {
   "cell_type": "code",
   "execution_count": 26,
   "metadata": {
    "cell_id": "b00035d4c34947cea3bc6c17fb2689f7",
    "deepnote_cell_type": "code",
    "deepnote_to_be_reexecuted": false,
    "execution_millis": 1,
    "execution_start": 1683750583137,
    "source_hash": "9527aab5"
   },
   "outputs": [],
   "source": [
    "from sklearn.linear_model import LinearRegression"
   ]
  },
  {
   "cell_type": "code",
   "execution_count": 27,
   "metadata": {
    "cell_id": "6b82a77b120547dea59e9afcd49a5fed",
    "deepnote_cell_type": "code",
    "deepnote_to_be_reexecuted": false,
    "execution_millis": 14,
    "execution_start": 1683750594631,
    "source_hash": "cd72858e"
   },
   "outputs": [],
   "source": [
    "reg = LinearRegression()"
   ]
  },
  {
   "cell_type": "code",
   "execution_count": 28,
   "metadata": {
    "cell_id": "63648646e9514897b89d9ed3b5d63af9",
    "deepnote_cell_type": "code",
    "deepnote_to_be_reexecuted": false,
    "execution_millis": 8,
    "execution_start": 1683750657302,
    "source_hash": "e2181fb3"
   },
   "outputs": [
    {
     "data": {
      "text/html": [
       "<style>#sk-container-id-2 {color: black;background-color: white;}#sk-container-id-2 pre{padding: 0;}#sk-container-id-2 div.sk-toggleable {background-color: white;}#sk-container-id-2 label.sk-toggleable__label {cursor: pointer;display: block;width: 100%;margin-bottom: 0;padding: 0.3em;box-sizing: border-box;text-align: center;}#sk-container-id-2 label.sk-toggleable__label-arrow:before {content: \"▸\";float: left;margin-right: 0.25em;color: #696969;}#sk-container-id-2 label.sk-toggleable__label-arrow:hover:before {color: black;}#sk-container-id-2 div.sk-estimator:hover label.sk-toggleable__label-arrow:before {color: black;}#sk-container-id-2 div.sk-toggleable__content {max-height: 0;max-width: 0;overflow: hidden;text-align: left;background-color: #f0f8ff;}#sk-container-id-2 div.sk-toggleable__content pre {margin: 0.2em;color: black;border-radius: 0.25em;background-color: #f0f8ff;}#sk-container-id-2 input.sk-toggleable__control:checked~div.sk-toggleable__content {max-height: 200px;max-width: 100%;overflow: auto;}#sk-container-id-2 input.sk-toggleable__control:checked~label.sk-toggleable__label-arrow:before {content: \"▾\";}#sk-container-id-2 div.sk-estimator input.sk-toggleable__control:checked~label.sk-toggleable__label {background-color: #d4ebff;}#sk-container-id-2 div.sk-label input.sk-toggleable__control:checked~label.sk-toggleable__label {background-color: #d4ebff;}#sk-container-id-2 input.sk-hidden--visually {border: 0;clip: rect(1px 1px 1px 1px);clip: rect(1px, 1px, 1px, 1px);height: 1px;margin: -1px;overflow: hidden;padding: 0;position: absolute;width: 1px;}#sk-container-id-2 div.sk-estimator {font-family: monospace;background-color: #f0f8ff;border: 1px dotted black;border-radius: 0.25em;box-sizing: border-box;margin-bottom: 0.5em;}#sk-container-id-2 div.sk-estimator:hover {background-color: #d4ebff;}#sk-container-id-2 div.sk-parallel-item::after {content: \"\";width: 100%;border-bottom: 1px solid gray;flex-grow: 1;}#sk-container-id-2 div.sk-label:hover label.sk-toggleable__label {background-color: #d4ebff;}#sk-container-id-2 div.sk-serial::before {content: \"\";position: absolute;border-left: 1px solid gray;box-sizing: border-box;top: 0;bottom: 0;left: 50%;z-index: 0;}#sk-container-id-2 div.sk-serial {display: flex;flex-direction: column;align-items: center;background-color: white;padding-right: 0.2em;padding-left: 0.2em;position: relative;}#sk-container-id-2 div.sk-item {position: relative;z-index: 1;}#sk-container-id-2 div.sk-parallel {display: flex;align-items: stretch;justify-content: center;background-color: white;position: relative;}#sk-container-id-2 div.sk-item::before, #sk-container-id-2 div.sk-parallel-item::before {content: \"\";position: absolute;border-left: 1px solid gray;box-sizing: border-box;top: 0;bottom: 0;left: 50%;z-index: -1;}#sk-container-id-2 div.sk-parallel-item {display: flex;flex-direction: column;z-index: 1;position: relative;background-color: white;}#sk-container-id-2 div.sk-parallel-item:first-child::after {align-self: flex-end;width: 50%;}#sk-container-id-2 div.sk-parallel-item:last-child::after {align-self: flex-start;width: 50%;}#sk-container-id-2 div.sk-parallel-item:only-child::after {width: 0;}#sk-container-id-2 div.sk-dashed-wrapped {border: 1px dashed gray;margin: 0 0.4em 0.5em 0.4em;box-sizing: border-box;padding-bottom: 0.4em;background-color: white;}#sk-container-id-2 div.sk-label label {font-family: monospace;font-weight: bold;display: inline-block;line-height: 1.2em;}#sk-container-id-2 div.sk-label-container {text-align: center;}#sk-container-id-2 div.sk-container {/* jupyter's `normalize.less` sets `[hidden] { display: none; }` but bootstrap.min.css set `[hidden] { display: none !important; }` so we also need the `!important` here to be able to override the default hidden behavior on the sphinx rendered scikit-learn.org. See: https://github.com/scikit-learn/scikit-learn/issues/21755 */display: inline-block !important;position: relative;}#sk-container-id-2 div.sk-text-repr-fallback {display: none;}</style><div id=\"sk-container-id-2\" class=\"sk-top-container\"><div class=\"sk-text-repr-fallback\"><pre>LinearRegression()</pre><b>In a Jupyter environment, please rerun this cell to show the HTML representation or trust the notebook. <br />On GitHub, the HTML representation is unable to render, please try loading this page with nbviewer.org.</b></div><div class=\"sk-container\" hidden><div class=\"sk-item\"><div class=\"sk-estimator sk-toggleable\"><input class=\"sk-toggleable__control sk-hidden--visually\" id=\"sk-estimator-id-2\" type=\"checkbox\" checked><label for=\"sk-estimator-id-2\" class=\"sk-toggleable__label sk-toggleable__label-arrow\">LinearRegression</label><div class=\"sk-toggleable__content\"><pre>LinearRegression()</pre></div></div></div></div></div>"
      ],
      "text/plain": [
       "LinearRegression()"
      ]
     },
     "execution_count": 28,
     "metadata": {},
     "output_type": "execute_result"
    }
   ],
   "source": [
    "reg.fit(df_both[[\"x\", \"x^2\", \"x^3\"]], df_both[\"y\"])"
   ]
  },
  {
   "cell_type": "code",
   "execution_count": 29,
   "metadata": {
    "cell_id": "f501c89f5a334e32b71238a3b8948c7b",
    "deepnote_cell_type": "code",
    "deepnote_to_be_reexecuted": false,
    "execution_millis": 12,
    "execution_start": 1683750664495,
    "source_hash": "c0bd65f9"
   },
   "outputs": [
    {
     "data": {
      "text/plain": [
       "array([ 3.33524206, -3.03442169, -2.32952623])"
      ]
     },
     "execution_count": 29,
     "metadata": {},
     "output_type": "execute_result"
    }
   ],
   "source": [
    "reg.coef_"
   ]
  },
  {
   "cell_type": "code",
   "execution_count": 30,
   "metadata": {
    "cell_id": "7647c836b87b4c39aa0b0e071e6b26d3",
    "deepnote_cell_type": "code",
    "deepnote_to_be_reexecuted": false,
    "execution_millis": 4,
    "execution_start": 1683750692224,
    "source_hash": "1661cbe7"
   },
   "outputs": [
    {
     "data": {
      "text/plain": [
       "-5.263954801170672"
      ]
     },
     "execution_count": 30,
     "metadata": {},
     "output_type": "execute_result"
    }
   ],
   "source": [
    "reg.intercept_"
   ]
  },
  {
   "cell_type": "markdown",
   "metadata": {
    "cell_id": "6e51454b5a574657840d64f73aaddfca",
    "deepnote_cell_type": "markdown"
   },
   "source": [
    "* How do these values compare to the true coefficient values?\n",
    "\n",
    "The true values follow the polynomial $y = -2x^3 - 3x^2 + x - 5$.  In our case, we have found approximately $-2.3 x^3 - 3x^2 + 3.3 x - 5.26$.  These two sequences of coefficients are remarkably similar.\n",
    "\n",
    "Here I just looked at the coefficients and checked what terms they corresponded to.  For example, I saw that `3.3` (approximately) was the initial coefficient, and that one corresponded to the \"x\" column.  We could make this more robust (also finding a way to not have to type `[\"x\", \"x^2\", \"x^3\"]`), but we didn't bother, because we will see a more efficient way to do all of these steps below, using `Pipeline`."
   ]
  },
  {
   "cell_type": "markdown",
   "metadata": {
    "cell_id": "f052b820c3124a87885ccfb10cdb1ba4",
    "deepnote_cell_type": "markdown"
   },
   "source": [
    "### Using `Pipeline` to combine multiple steps\n",
    "\n",
    "The above process is a little awkward.  We can achieve the same thing much more efficiently by using another data type defined by scikit-learn, `Pipeline`.  (The tradeoff is that it is less explicit what is happening.)"
   ]
  },
  {
   "cell_type": "markdown",
   "metadata": {
    "cell_id": "ff6b4d761527483a90135ff443a3ba50",
    "deepnote_cell_type": "markdown"
   },
   "source": [
    "* Import the `Pipeline` class from `sklearn.pipeline`."
   ]
  },
  {
   "cell_type": "code",
   "execution_count": 31,
   "metadata": {
    "cell_id": "82effc3be6db4ef89db2a5b6907c7c4f",
    "deepnote_cell_type": "code",
    "deepnote_to_be_reexecuted": false,
    "execution_millis": 13,
    "execution_start": 1683750962139,
    "source_hash": "834985c9"
   },
   "outputs": [],
   "source": [
    "from sklearn.pipeline import Pipeline"
   ]
  },
  {
   "cell_type": "markdown",
   "metadata": {
    "cell_id": "17ee941578484dfe80c7c879b478e1e4",
    "deepnote_cell_type": "markdown"
   },
   "source": [
    "* Make an instance of this `Pipeline` class.  Pass to the constructor a list of length-2 tuples, where each tuple provides a name for the step (as a string) and the constructor (like `PolynomialFeatures(???)`)."
   ]
  },
  {
   "cell_type": "markdown",
   "metadata": {},
   "source": [
    "The following is not correct, but understanding what we're doing here will help you understand the correct approach.  Here we are trying to pass a list of steps for scikit-learn to follow: first use `PolynomialFeatures` to transform the data, then use `LinearRegression`.  We are passing the `Pipeline` constructor a length-2 list containing these steps."
   ]
  },
  {
   "cell_type": "code",
   "execution_count": 32,
   "metadata": {
    "cell_id": "44e251a2ea2a4e6392623b094f81b51d",
    "deepnote_cell_type": "code",
    "deepnote_to_be_reexecuted": false,
    "execution_millis": 9,
    "execution_start": 1683751074205,
    "source_hash": "570f5ac2"
   },
   "outputs": [],
   "source": [
    "# Wrong\n",
    "pipe = Pipeline(\n",
    "    [PolynomialFeatures(degree=3, include_bias=False), LinearRegression()]\n",
    ")"
   ]
  },
  {
   "cell_type": "markdown",
   "metadata": {},
   "source": [
    "The correct approach is very similar (the spacing in the following is to make the result more readable, but you can use essentially any spacing you want inside parentheses in Python).  We are still passing a length-2 list containing the steps, but each element in this length-2 list is itself a length-2 tuple, that specifies the step, but also a name to give the step."
   ]
  },
  {
   "cell_type": "code",
   "execution_count": 34,
   "metadata": {
    "cell_id": "b00155b06a88470aae37ab9051c1bb23",
    "deepnote_cell_type": "code",
    "deepnote_to_be_reexecuted": false,
    "execution_millis": 3,
    "execution_start": 1683751155155,
    "source_hash": "f16e1e2a"
   },
   "outputs": [],
   "source": [
    "# Right\n",
    "pipe = Pipeline(\n",
    "    [\n",
    "        (\"poly\", PolynomialFeatures(degree=3, include_bias=False)), \n",
    "        (\"reg\", LinearRegression())\n",
    "    ]\n",
    ")"
   ]
  },
  {
   "cell_type": "markdown",
   "metadata": {
    "cell_id": "35aaa25da5ae4ad2b0241afaadec2039",
    "deepnote_cell_type": "markdown"
   },
   "source": [
    "* Fit this object to the data.\n",
    "\n",
    "This is where we really benefit from Pipeline.  The following call of `pipe.fit` first fits and transforms the data using `PolynomialFeatures`, and then fits that transformed data using `LinearRegression`."
   ]
  },
  {
   "cell_type": "code",
   "execution_count": 35,
   "metadata": {
    "cell_id": "2fcc994a0e964b0c83a3febfadff399c",
    "deepnote_cell_type": "code",
    "deepnote_to_be_reexecuted": false,
    "execution_millis": 0,
    "execution_start": 1683751198901,
    "source_hash": "fcf8e2c1"
   },
   "outputs": [
    {
     "data": {
      "text/html": [
       "<style>#sk-container-id-4 {color: black;background-color: white;}#sk-container-id-4 pre{padding: 0;}#sk-container-id-4 div.sk-toggleable {background-color: white;}#sk-container-id-4 label.sk-toggleable__label {cursor: pointer;display: block;width: 100%;margin-bottom: 0;padding: 0.3em;box-sizing: border-box;text-align: center;}#sk-container-id-4 label.sk-toggleable__label-arrow:before {content: \"▸\";float: left;margin-right: 0.25em;color: #696969;}#sk-container-id-4 label.sk-toggleable__label-arrow:hover:before {color: black;}#sk-container-id-4 div.sk-estimator:hover label.sk-toggleable__label-arrow:before {color: black;}#sk-container-id-4 div.sk-toggleable__content {max-height: 0;max-width: 0;overflow: hidden;text-align: left;background-color: #f0f8ff;}#sk-container-id-4 div.sk-toggleable__content pre {margin: 0.2em;color: black;border-radius: 0.25em;background-color: #f0f8ff;}#sk-container-id-4 input.sk-toggleable__control:checked~div.sk-toggleable__content {max-height: 200px;max-width: 100%;overflow: auto;}#sk-container-id-4 input.sk-toggleable__control:checked~label.sk-toggleable__label-arrow:before {content: \"▾\";}#sk-container-id-4 div.sk-estimator input.sk-toggleable__control:checked~label.sk-toggleable__label {background-color: #d4ebff;}#sk-container-id-4 div.sk-label input.sk-toggleable__control:checked~label.sk-toggleable__label {background-color: #d4ebff;}#sk-container-id-4 input.sk-hidden--visually {border: 0;clip: rect(1px 1px 1px 1px);clip: rect(1px, 1px, 1px, 1px);height: 1px;margin: -1px;overflow: hidden;padding: 0;position: absolute;width: 1px;}#sk-container-id-4 div.sk-estimator {font-family: monospace;background-color: #f0f8ff;border: 1px dotted black;border-radius: 0.25em;box-sizing: border-box;margin-bottom: 0.5em;}#sk-container-id-4 div.sk-estimator:hover {background-color: #d4ebff;}#sk-container-id-4 div.sk-parallel-item::after {content: \"\";width: 100%;border-bottom: 1px solid gray;flex-grow: 1;}#sk-container-id-4 div.sk-label:hover label.sk-toggleable__label {background-color: #d4ebff;}#sk-container-id-4 div.sk-serial::before {content: \"\";position: absolute;border-left: 1px solid gray;box-sizing: border-box;top: 0;bottom: 0;left: 50%;z-index: 0;}#sk-container-id-4 div.sk-serial {display: flex;flex-direction: column;align-items: center;background-color: white;padding-right: 0.2em;padding-left: 0.2em;position: relative;}#sk-container-id-4 div.sk-item {position: relative;z-index: 1;}#sk-container-id-4 div.sk-parallel {display: flex;align-items: stretch;justify-content: center;background-color: white;position: relative;}#sk-container-id-4 div.sk-item::before, #sk-container-id-4 div.sk-parallel-item::before {content: \"\";position: absolute;border-left: 1px solid gray;box-sizing: border-box;top: 0;bottom: 0;left: 50%;z-index: -1;}#sk-container-id-4 div.sk-parallel-item {display: flex;flex-direction: column;z-index: 1;position: relative;background-color: white;}#sk-container-id-4 div.sk-parallel-item:first-child::after {align-self: flex-end;width: 50%;}#sk-container-id-4 div.sk-parallel-item:last-child::after {align-self: flex-start;width: 50%;}#sk-container-id-4 div.sk-parallel-item:only-child::after {width: 0;}#sk-container-id-4 div.sk-dashed-wrapped {border: 1px dashed gray;margin: 0 0.4em 0.5em 0.4em;box-sizing: border-box;padding-bottom: 0.4em;background-color: white;}#sk-container-id-4 div.sk-label label {font-family: monospace;font-weight: bold;display: inline-block;line-height: 1.2em;}#sk-container-id-4 div.sk-label-container {text-align: center;}#sk-container-id-4 div.sk-container {/* jupyter's `normalize.less` sets `[hidden] { display: none; }` but bootstrap.min.css set `[hidden] { display: none !important; }` so we also need the `!important` here to be able to override the default hidden behavior on the sphinx rendered scikit-learn.org. See: https://github.com/scikit-learn/scikit-learn/issues/21755 */display: inline-block !important;position: relative;}#sk-container-id-4 div.sk-text-repr-fallback {display: none;}</style><div id=\"sk-container-id-4\" class=\"sk-top-container\"><div class=\"sk-text-repr-fallback\"><pre>Pipeline(steps=[(&#x27;poly&#x27;, PolynomialFeatures(degree=3, include_bias=False)),\n",
       "                (&#x27;reg&#x27;, LinearRegression())])</pre><b>In a Jupyter environment, please rerun this cell to show the HTML representation or trust the notebook. <br />On GitHub, the HTML representation is unable to render, please try loading this page with nbviewer.org.</b></div><div class=\"sk-container\" hidden><div class=\"sk-item sk-dashed-wrapped\"><div class=\"sk-label-container\"><div class=\"sk-label sk-toggleable\"><input class=\"sk-toggleable__control sk-hidden--visually\" id=\"sk-estimator-id-4\" type=\"checkbox\" ><label for=\"sk-estimator-id-4\" class=\"sk-toggleable__label sk-toggleable__label-arrow\">Pipeline</label><div class=\"sk-toggleable__content\"><pre>Pipeline(steps=[(&#x27;poly&#x27;, PolynomialFeatures(degree=3, include_bias=False)),\n",
       "                (&#x27;reg&#x27;, LinearRegression())])</pre></div></div></div><div class=\"sk-serial\"><div class=\"sk-item\"><div class=\"sk-estimator sk-toggleable\"><input class=\"sk-toggleable__control sk-hidden--visually\" id=\"sk-estimator-id-5\" type=\"checkbox\" ><label for=\"sk-estimator-id-5\" class=\"sk-toggleable__label sk-toggleable__label-arrow\">PolynomialFeatures</label><div class=\"sk-toggleable__content\"><pre>PolynomialFeatures(degree=3, include_bias=False)</pre></div></div></div><div class=\"sk-item\"><div class=\"sk-estimator sk-toggleable\"><input class=\"sk-toggleable__control sk-hidden--visually\" id=\"sk-estimator-id-6\" type=\"checkbox\" ><label for=\"sk-estimator-id-6\" class=\"sk-toggleable__label sk-toggleable__label-arrow\">LinearRegression</label><div class=\"sk-toggleable__content\"><pre>LinearRegression()</pre></div></div></div></div></div></div></div>"
      ],
      "text/plain": [
       "Pipeline(steps=[('poly', PolynomialFeatures(degree=3, include_bias=False)),\n",
       "                ('reg', LinearRegression())])"
      ]
     },
     "execution_count": 35,
     "metadata": {},
     "output_type": "execute_result"
    }
   ],
   "source": [
    "pipe.fit(df[[\"x\"]], df[\"y\"])"
   ]
  },
  {
   "cell_type": "markdown",
   "metadata": {
    "cell_id": "4b8776a012e74a52b90ccfe76f9e6fb0",
    "deepnote_cell_type": "markdown"
   },
   "source": [
    "* Do the coefficients match what we found above?  Use the `named_steps` attribute, or just use the name directly.\n",
    "\n",
    "You might try calling `pipe.coef_`, but we get an error message.  It's not the `Pipeline` object itself that has the fit coefficients, but the `LinearRegression` object within it."
   ]
  },
  {
   "cell_type": "code",
   "execution_count": 36,
   "metadata": {
    "cell_id": "0cdd7229505742059c4e88fa882c8ad5",
    "deepnote_cell_type": "code",
    "deepnote_to_be_reexecuted": false,
    "execution_millis": 347,
    "execution_start": 1683751280633,
    "source_hash": "938b540b"
   },
   "outputs": [
    {
     "ename": "AttributeError",
     "evalue": "'Pipeline' object has no attribute 'coef_'",
     "output_type": "error",
     "traceback": [
      "\u001b[0;31m---------------------------------------------------------------------------\u001b[0m",
      "\u001b[0;31mAttributeError\u001b[0m                            Traceback (most recent call last)",
      "Cell \u001b[0;32mIn [36], line 1\u001b[0m\n\u001b[0;32m----> 1\u001b[0m \u001b[43mpipe\u001b[49m\u001b[38;5;241;43m.\u001b[39;49m\u001b[43mcoef_\u001b[49m\n",
      "\u001b[0;31mAttributeError\u001b[0m: 'Pipeline' object has no attribute 'coef_'"
     ]
    }
   ],
   "source": [
    "pipe.coef_"
   ]
  },
  {
   "cell_type": "markdown",
   "metadata": {},
   "source": [
    "We can access that `LinearRegression` object by using indexing with the name `\"reg\"` we assigned to it when we instantiated `pipe`."
   ]
  },
  {
   "cell_type": "code",
   "execution_count": 37,
   "metadata": {
    "cell_id": "70cafd9c545b408183a1c3bf7a2675a0",
    "deepnote_cell_type": "code",
    "deepnote_to_be_reexecuted": false,
    "execution_millis": 2,
    "execution_start": 1683751307061,
    "source_hash": "9bf5dcfd"
   },
   "outputs": [
    {
     "data": {
      "text/html": [
       "<style>#sk-container-id-5 {color: black;background-color: white;}#sk-container-id-5 pre{padding: 0;}#sk-container-id-5 div.sk-toggleable {background-color: white;}#sk-container-id-5 label.sk-toggleable__label {cursor: pointer;display: block;width: 100%;margin-bottom: 0;padding: 0.3em;box-sizing: border-box;text-align: center;}#sk-container-id-5 label.sk-toggleable__label-arrow:before {content: \"▸\";float: left;margin-right: 0.25em;color: #696969;}#sk-container-id-5 label.sk-toggleable__label-arrow:hover:before {color: black;}#sk-container-id-5 div.sk-estimator:hover label.sk-toggleable__label-arrow:before {color: black;}#sk-container-id-5 div.sk-toggleable__content {max-height: 0;max-width: 0;overflow: hidden;text-align: left;background-color: #f0f8ff;}#sk-container-id-5 div.sk-toggleable__content pre {margin: 0.2em;color: black;border-radius: 0.25em;background-color: #f0f8ff;}#sk-container-id-5 input.sk-toggleable__control:checked~div.sk-toggleable__content {max-height: 200px;max-width: 100%;overflow: auto;}#sk-container-id-5 input.sk-toggleable__control:checked~label.sk-toggleable__label-arrow:before {content: \"▾\";}#sk-container-id-5 div.sk-estimator input.sk-toggleable__control:checked~label.sk-toggleable__label {background-color: #d4ebff;}#sk-container-id-5 div.sk-label input.sk-toggleable__control:checked~label.sk-toggleable__label {background-color: #d4ebff;}#sk-container-id-5 input.sk-hidden--visually {border: 0;clip: rect(1px 1px 1px 1px);clip: rect(1px, 1px, 1px, 1px);height: 1px;margin: -1px;overflow: hidden;padding: 0;position: absolute;width: 1px;}#sk-container-id-5 div.sk-estimator {font-family: monospace;background-color: #f0f8ff;border: 1px dotted black;border-radius: 0.25em;box-sizing: border-box;margin-bottom: 0.5em;}#sk-container-id-5 div.sk-estimator:hover {background-color: #d4ebff;}#sk-container-id-5 div.sk-parallel-item::after {content: \"\";width: 100%;border-bottom: 1px solid gray;flex-grow: 1;}#sk-container-id-5 div.sk-label:hover label.sk-toggleable__label {background-color: #d4ebff;}#sk-container-id-5 div.sk-serial::before {content: \"\";position: absolute;border-left: 1px solid gray;box-sizing: border-box;top: 0;bottom: 0;left: 50%;z-index: 0;}#sk-container-id-5 div.sk-serial {display: flex;flex-direction: column;align-items: center;background-color: white;padding-right: 0.2em;padding-left: 0.2em;position: relative;}#sk-container-id-5 div.sk-item {position: relative;z-index: 1;}#sk-container-id-5 div.sk-parallel {display: flex;align-items: stretch;justify-content: center;background-color: white;position: relative;}#sk-container-id-5 div.sk-item::before, #sk-container-id-5 div.sk-parallel-item::before {content: \"\";position: absolute;border-left: 1px solid gray;box-sizing: border-box;top: 0;bottom: 0;left: 50%;z-index: -1;}#sk-container-id-5 div.sk-parallel-item {display: flex;flex-direction: column;z-index: 1;position: relative;background-color: white;}#sk-container-id-5 div.sk-parallel-item:first-child::after {align-self: flex-end;width: 50%;}#sk-container-id-5 div.sk-parallel-item:last-child::after {align-self: flex-start;width: 50%;}#sk-container-id-5 div.sk-parallel-item:only-child::after {width: 0;}#sk-container-id-5 div.sk-dashed-wrapped {border: 1px dashed gray;margin: 0 0.4em 0.5em 0.4em;box-sizing: border-box;padding-bottom: 0.4em;background-color: white;}#sk-container-id-5 div.sk-label label {font-family: monospace;font-weight: bold;display: inline-block;line-height: 1.2em;}#sk-container-id-5 div.sk-label-container {text-align: center;}#sk-container-id-5 div.sk-container {/* jupyter's `normalize.less` sets `[hidden] { display: none; }` but bootstrap.min.css set `[hidden] { display: none !important; }` so we also need the `!important` here to be able to override the default hidden behavior on the sphinx rendered scikit-learn.org. See: https://github.com/scikit-learn/scikit-learn/issues/21755 */display: inline-block !important;position: relative;}#sk-container-id-5 div.sk-text-repr-fallback {display: none;}</style><div id=\"sk-container-id-5\" class=\"sk-top-container\"><div class=\"sk-text-repr-fallback\"><pre>LinearRegression()</pre><b>In a Jupyter environment, please rerun this cell to show the HTML representation or trust the notebook. <br />On GitHub, the HTML representation is unable to render, please try loading this page with nbviewer.org.</b></div><div class=\"sk-container\" hidden><div class=\"sk-item\"><div class=\"sk-estimator sk-toggleable\"><input class=\"sk-toggleable__control sk-hidden--visually\" id=\"sk-estimator-id-7\" type=\"checkbox\" checked><label for=\"sk-estimator-id-7\" class=\"sk-toggleable__label sk-toggleable__label-arrow\">LinearRegression</label><div class=\"sk-toggleable__content\"><pre>LinearRegression()</pre></div></div></div></div></div>"
      ],
      "text/plain": [
       "LinearRegression()"
      ]
     },
     "execution_count": 37,
     "metadata": {},
     "output_type": "execute_result"
    }
   ],
   "source": [
    "pipe[\"reg\"]"
   ]
  },
  {
   "cell_type": "markdown",
   "metadata": {},
   "source": [
    "Notice that this is indeed a `LinearRegression` object."
   ]
  },
  {
   "cell_type": "code",
   "execution_count": 38,
   "metadata": {
    "cell_id": "fa5eee8722a0442abb882ee851f0aeaa",
    "deepnote_cell_type": "code",
    "deepnote_to_be_reexecuted": false,
    "execution_millis": 7,
    "execution_start": 1683751326976,
    "source_hash": "504fb96"
   },
   "outputs": [
    {
     "data": {
      "text/plain": [
       "sklearn.linear_model._base.LinearRegression"
      ]
     },
     "execution_count": 38,
     "metadata": {},
     "output_type": "execute_result"
    }
   ],
   "source": [
    "type(pipe[\"reg\"])"
   ]
  },
  {
   "cell_type": "markdown",
   "metadata": {},
   "source": [
    "The same works for the `PolynomialFeatures` object, again, we need to use the name `\"poly\"` we assigned above."
   ]
  },
  {
   "cell_type": "code",
   "execution_count": 39,
   "metadata": {
    "cell_id": "7ce512339b1349fe9e0e5cdc0c88226c",
    "deepnote_cell_type": "code",
    "deepnote_to_be_reexecuted": false,
    "execution_millis": 6,
    "execution_start": 1683751340076,
    "source_hash": "5b15909b"
   },
   "outputs": [
    {
     "data": {
      "text/plain": [
       "sklearn.preprocessing._polynomial.PolynomialFeatures"
      ]
     },
     "execution_count": 39,
     "metadata": {},
     "output_type": "execute_result"
    }
   ],
   "source": [
    "type(pipe[\"poly\"])"
   ]
  },
  {
   "cell_type": "markdown",
   "metadata": {},
   "source": [
    "This information is also recorded in a Python dictionary stored in the `named_steps` attribute of our `Pipeline` object."
   ]
  },
  {
   "cell_type": "code",
   "execution_count": 40,
   "metadata": {
    "cell_id": "54f94ad45b1c429f9ea8bd31db5ef6f8",
    "deepnote_cell_type": "code",
    "deepnote_to_be_reexecuted": false,
    "execution_millis": 0,
    "execution_start": 1683751356286,
    "source_hash": "c4b89d3d"
   },
   "outputs": [
    {
     "data": {
      "text/plain": [
       "{'poly': PolynomialFeatures(degree=3, include_bias=False),\n",
       " 'reg': LinearRegression()}"
      ]
     },
     "execution_count": 40,
     "metadata": {},
     "output_type": "execute_result"
    }
   ],
   "source": [
    "pipe.named_steps"
   ]
  },
  {
   "cell_type": "markdown",
   "metadata": {},
   "source": [
    "The point of all that is, now that we know how to access the `LinearRegression` object, we can get its `coef_` attribute just like usual when performing linear regression.  (Remember that this attribute only exists after we call `fit`.)\n",
    "\n",
    "Notice that these are the exact same values as what we found above.  It's worth looking over both procedures and noticing how much shorter this procedure using `Pipeline` is.\n",
    "\n",
    "Also I want to emphasize that these aren't just approximately the same, but they are exactly the same values (at least up to maybe some numerical precision issues)."
   ]
  },
  {
   "cell_type": "code",
   "execution_count": 41,
   "metadata": {
    "cell_id": "a1b7edda4eef47388ce78005568cccca",
    "deepnote_cell_type": "code",
    "deepnote_to_be_reexecuted": false,
    "execution_millis": 2,
    "execution_start": 1683751385644,
    "source_hash": "6fd72bce"
   },
   "outputs": [
    {
     "data": {
      "text/plain": [
       "array([ 3.33524206, -3.03442169, -2.32952623])"
      ]
     },
     "execution_count": 41,
     "metadata": {},
     "output_type": "execute_result"
    }
   ],
   "source": [
    "pipe[\"reg\"].coef_"
   ]
  },
  {
   "cell_type": "markdown",
   "metadata": {
    "cell_id": "4b35897ef08c41c2b5ede0d087153e70",
    "deepnote_cell_type": "markdown"
   },
   "source": [
    "* Call the predict method, and add the resulting values to a new column in `df` named \"pred\".\n",
    "\n",
    "The following simple code is evaluating our \"best fit\" degree three polynomial $-2.3 x^3 - 3x^2 + 3.3 x - 5.26$ for every value of in the \"x\" column.  Notice how we don't need to explicitly type `\"x^2\"` or anything like that, the polynomial part of this polynomial regression is happening \"under the hood\"."
   ]
  },
  {
   "cell_type": "code",
   "execution_count": 42,
   "metadata": {
    "cell_id": "6bf0c86497ef452caf02902566518671",
    "deepnote_cell_type": "code",
    "deepnote_to_be_reexecuted": false,
    "execution_millis": 2,
    "execution_start": 1683751499309,
    "source_hash": "9e2dd0f0"
   },
   "outputs": [],
   "source": [
    "df[\"pred\"] = pipe.predict(df[[\"x\"]])"
   ]
  },
  {
   "cell_type": "markdown",
   "metadata": {
    "cell_id": "a79c1001c9b945bfb8a292c1f24ae32e",
    "deepnote_cell_type": "markdown"
   },
   "source": [
    "* Plot the resulting predictions using a red line.  Name the chart `c2`.\n",
    "\n",
    "What's wrong with the following?  We are using the \"y\" values (which were plotted in the scatter plot high above).  Notice how these points do not lie perfectly on a cubic polynomial (it goes up and down far too many times), that is because of the random noise we added."
   ]
  },
  {
   "cell_type": "code",
   "execution_count": 46,
   "metadata": {
    "cell_id": "2cae1449adc142cfb8e2306535fd6f5b",
    "deepnote_cell_type": "code",
    "deepnote_to_be_reexecuted": false,
    "execution_millis": 3,
    "execution_start": 1683751598038,
    "source_hash": "c53f7f88"
   },
   "outputs": [
    {
     "data": {
      "text/html": [
       "\n",
       "<div id=\"altair-viz-9c8d6880b3af46a0959912614f16da22\"></div>\n",
       "<script type=\"text/javascript\">\n",
       "  var VEGA_DEBUG = (typeof VEGA_DEBUG == \"undefined\") ? {} : VEGA_DEBUG;\n",
       "  (function(spec, embedOpt){\n",
       "    let outputDiv = document.currentScript.previousElementSibling;\n",
       "    if (outputDiv.id !== \"altair-viz-9c8d6880b3af46a0959912614f16da22\") {\n",
       "      outputDiv = document.getElementById(\"altair-viz-9c8d6880b3af46a0959912614f16da22\");\n",
       "    }\n",
       "    const paths = {\n",
       "      \"vega\": \"https://cdn.jsdelivr.net/npm//vega@5?noext\",\n",
       "      \"vega-lib\": \"https://cdn.jsdelivr.net/npm//vega-lib?noext\",\n",
       "      \"vega-lite\": \"https://cdn.jsdelivr.net/npm//vega-lite@4.17.0?noext\",\n",
       "      \"vega-embed\": \"https://cdn.jsdelivr.net/npm//vega-embed@6?noext\",\n",
       "    };\n",
       "\n",
       "    function maybeLoadScript(lib, version) {\n",
       "      var key = `${lib.replace(\"-\", \"\")}_version`;\n",
       "      return (VEGA_DEBUG[key] == version) ?\n",
       "        Promise.resolve(paths[lib]) :\n",
       "        new Promise(function(resolve, reject) {\n",
       "          var s = document.createElement('script');\n",
       "          document.getElementsByTagName(\"head\")[0].appendChild(s);\n",
       "          s.async = true;\n",
       "          s.onload = () => {\n",
       "            VEGA_DEBUG[key] = version;\n",
       "            return resolve(paths[lib]);\n",
       "          };\n",
       "          s.onerror = () => reject(`Error loading script: ${paths[lib]}`);\n",
       "          s.src = paths[lib];\n",
       "        });\n",
       "    }\n",
       "\n",
       "    function showError(err) {\n",
       "      outputDiv.innerHTML = `<div class=\"error\" style=\"color:red;\">${err}</div>`;\n",
       "      throw err;\n",
       "    }\n",
       "\n",
       "    function displayChart(vegaEmbed) {\n",
       "      vegaEmbed(outputDiv, spec, embedOpt)\n",
       "        .catch(err => showError(`Javascript Error: ${err.message}<br>This usually means there's a typo in your chart specification. See the javascript console for the full traceback.`));\n",
       "    }\n",
       "\n",
       "    if(typeof define === \"function\" && define.amd) {\n",
       "      requirejs.config({paths});\n",
       "      require([\"vega-embed\"], displayChart, err => showError(`Error loading script: ${err.message}`));\n",
       "    } else {\n",
       "      maybeLoadScript(\"vega\", \"5\")\n",
       "        .then(() => maybeLoadScript(\"vega-lite\", \"4.17.0\"))\n",
       "        .then(() => maybeLoadScript(\"vega-embed\", \"6\"))\n",
       "        .catch(showError)\n",
       "        .then(() => displayChart(vegaEmbed));\n",
       "    }\n",
       "  })({\"config\": {\"view\": {\"continuousWidth\": 400, \"continuousHeight\": 300}}, \"data\": {\"name\": \"data-ccbf1185dae428a433a7e5c5a6c44e59\"}, \"mark\": {\"type\": \"line\", \"color\": \"red\"}, \"encoding\": {\"x\": {\"field\": \"x\", \"type\": \"quantitative\"}, \"y\": {\"field\": \"y\", \"type\": \"quantitative\"}}, \"$schema\": \"https://vega.github.io/schema/vega-lite/v4.17.0.json\", \"datasets\": {\"data-ccbf1185dae428a433a7e5c5a6c44e59\": [{\"x\": -3.0, \"y_true\": 19.0, \"y\": 23.824405650704584, \"pred\": 20.31773192269804}, {\"x\": -2.9, \"y_true\": 15.647999999999996, \"y\": 10.237108055098796, \"pred\": 16.3591719494184}, {\"x\": -2.8, \"y_true\": 12.583999999999993, \"y\": 16.91908679057319, \"pred\": 12.745261105607195}, {\"x\": -2.6999999999999997, \"y_true\": 9.795999999999992, \"y\": 8.955196204317206, \"pred\": 9.46202223391364}, {\"x\": -2.5999999999999996, \"y_true\": 7.271999999999991, \"y\": 6.323695104370164, \"pred\": 6.495478176986933}, {\"x\": -2.4999999999999996, \"y_true\": 4.999999999999989, \"y\": 10.602832278036008, \"pred\": 3.8316517774762664}, {\"x\": -2.3999999999999995, \"y_true\": 2.967999999999993, \"y\": 0.7841046813223418, \"pred\": 1.4565658780308421}, {\"x\": -2.2999999999999994, \"y_true\": 1.1639999999999908, \"y\": -5.234226812329393, \"pred\": -0.6437566787001376}, {\"x\": -2.1999999999999993, \"y_true\": -0.4240000000000137, \"y\": -2.7714988713165125, \"pred\": -2.4832930500674815}, {\"x\": -2.099999999999999, \"y_true\": -1.808000000000014, \"y\": -7.792135811821553, \"pred\": -4.076020393421988}, {\"x\": -1.9999999999999991, \"y_true\": -3.0000000000000107, \"y\": -12.199285711986715, \"pred\": -5.435915866114457}, {\"x\": -1.899999999999999, \"y_true\": -4.012000000000011, \"y\": -4.739784849269134, \"pred\": -6.576956625495692}, {\"x\": -1.799999999999999, \"y_true\": -4.856000000000009, \"y\": -2.864605133958004, \"pred\": -7.513119828916496}, {\"x\": -1.6999999999999988, \"y_true\": -5.544000000000008, \"y\": -16.3543063737946, \"pred\": -8.258382633727667}, {\"x\": -1.5999999999999988, \"y_true\": -6.088000000000006, \"y\": -6.015613468222883, \"pred\": -8.82672219728001}, {\"x\": -1.4999999999999987, \"y_true\": -6.5000000000000036, \"y\": -5.224009421444809, \"pred\": -9.232115676924321}, {\"x\": -1.3999999999999986, \"y_true\": -6.792000000000003, \"y\": -5.926044796345713, \"pred\": -9.48854023001141}, {\"x\": -1.2999999999999985, \"y_true\": -6.976000000000002, \"y\": -13.326467602050318, \"pred\": -9.60997301389207}, {\"x\": -1.1999999999999984, \"y_true\": -7.064000000000001, \"y\": -8.618806640209073, \"pred\": -9.610391185917106}, {\"x\": -1.0999999999999983, \"y_true\": -7.067999999999998, \"y\": -7.999078323585601, \"pred\": -9.503771903437322}, {\"x\": -0.9999999999999982, \"y_true\": -6.999999999999998, \"y\": -4.835119581575062, \"pred\": -9.304092323803516}, {\"x\": -0.8999999999999981, \"y_true\": -6.871999999999996, \"y\": -13.308756625035866, \"pred\": -9.02532960436649}, {\"x\": -0.799999999999998, \"y_true\": -6.695999999999996, \"y\": -4.778936156426603, \"pred\": -8.681460902477049}, {\"x\": -0.699999999999998, \"y_true\": -6.4839999999999955, \"y\": -1.524599833485449, \"pred\": -8.28646337548599}, {\"x\": -0.5999999999999979, \"y_true\": -6.247999999999995, \"y\": -17.68622693729956, \"pred\": -7.854314180744115}, {\"x\": -0.4999999999999978, \"y_true\": -5.999999999999995, \"y\": -4.880304361628128, \"pred\": -7.398990475602229}, {\"x\": -0.3999999999999977, \"y_true\": -5.7519999999999945, \"y\": -13.38506705601617, \"pred\": -6.9344694174111305}, {\"x\": -0.2999999999999976, \"y_true\": -5.515999999999995, \"y\": -6.368334641163491, \"pred\": -6.474728163521622}, {\"x\": -0.1999999999999975, \"y_true\": -5.303999999999996, \"y\": -8.704741835733941, \"pred\": -6.033743871284505}, {\"x\": -0.09999999999999742, \"y_true\": -5.127999999999997, \"y\": 1.2401753336845394, \"pred\": -5.6254936980505805}, {\"x\": 2.6645352591003757e-15, \"y_true\": -4.999999999999997, \"y\": -4.71445657964094, \"pred\": -5.263954801170651}, {\"x\": 0.10000000000000275, \"y_true\": -4.931999999999999, \"y\": -0.9555565402837516, \"pred\": -4.963104337995516}, {\"x\": 0.20000000000000284, \"y_true\": -4.936000000000002, \"y\": -10.16989462767013, \"pred\": -4.73691946587598}, {\"x\": 0.30000000000000293, \"y_true\": -5.024000000000004, \"y\": -2.7213636464572986, \"pred\": -4.5993773421628426}, {\"x\": 0.400000000000003, \"y_true\": -5.208000000000007, \"y\": 1.90386367809573, \"pred\": -4.564455124206906}, {\"x\": 0.5000000000000031, \"y_true\": -5.50000000000001, \"y\": -9.036284597169002, \"pred\": -4.646129969358971}, {\"x\": 0.6000000000000032, \"y_true\": -5.912000000000015, \"y\": -2.5826311606487367, \"pred\": -4.85837903496984}, {\"x\": 0.7000000000000033, \"y_true\": -6.456000000000021, \"y\": -4.049151482825412, \"pred\": -5.215179478390313}, {\"x\": 0.8000000000000034, \"y_true\": -7.144000000000027, \"y\": -7.467369873682661, \"pred\": -5.730508456971194}, {\"x\": 0.9000000000000035, \"y_true\": -7.988000000000032, \"y\": -14.245467115049165, \"pred\": -6.418343128063282}, {\"x\": 1.0000000000000036, \"y_true\": -9.000000000000039, \"y\": -7.58449011919938, \"pred\": -7.29266064901738}, {\"x\": 1.1000000000000032, \"y_true\": -10.192000000000041, \"y\": -11.5434400342294, \"pred\": -8.367438177184283}, {\"x\": 1.2000000000000037, \"y_true\": -11.576000000000054, \"y\": -8.565901471871978, \"pred\": -9.656652869914812}, {\"x\": 1.3000000000000043, \"y_true\": -13.164000000000073, \"y\": -9.269587854684678, \"pred\": -11.174281884559754}, {\"x\": 1.400000000000004, \"y_true\": -14.968000000000075, \"y\": -7.295299533414727, \"pred\": -12.934302378469898}, {\"x\": 1.5000000000000036, \"y_true\": -17.000000000000078, \"y\": -21.18278332190194, \"pred\": -14.950691508996059}, {\"x\": 1.600000000000004, \"y_true\": -19.272000000000098, \"y\": -14.946790703056552, \"pred\": -17.237426433489055}, {\"x\": 1.7000000000000046, \"y_true\": -21.796000000000124, \"y\": -18.291898867126424, \"pred\": -19.808484309299676}, {\"x\": 1.8000000000000043, \"y_true\": -24.584000000000124, \"y\": -24.2068839018185, \"pred\": -22.677842293778692}, {\"x\": 1.900000000000004, \"y_true\": -27.648000000000124, \"y\": -24.589036941447688, \"pred\": -25.85947754427693}]}}, {\"mode\": \"vega-lite\"});\n",
       "</script>"
      ],
      "text/plain": [
       "alt.Chart(...)"
      ]
     },
     "execution_count": 46,
     "metadata": {},
     "output_type": "execute_result"
    }
   ],
   "source": [
    "# Wrong\n",
    "\n",
    "alt.Chart(df).mark_line(color=\"red\").encode(\n",
    "    x=\"x\",\n",
    "    y=\"y\"\n",
    ")"
   ]
  },
  {
   "cell_type": "markdown",
   "metadata": {},
   "source": [
    "This one does lie perfectly on a cubic polynomial, more specifically, that cubic polynomial is approximately $-2.3 x^3 - 3x^2 + 3.3 x - 5.26$.  This is our cubic polynomial of \"best fit\" (meaning the Mean Squared Error between the data and this polynomial is minimized).  For the given data, using Mean Squared Error, this polynomial fits the data \"better\" than the true underlying polynomial $-2x^3 - 3x^2 + x - 5$."
   ]
  },
  {
   "cell_type": "code",
   "execution_count": 47,
   "metadata": {
    "cell_id": "f49247f695b04bb0822aa5245ca2f805",
    "deepnote_cell_type": "code",
    "deepnote_to_be_reexecuted": false,
    "execution_millis": 9,
    "execution_start": 1683751612538,
    "source_hash": "44269d8"
   },
   "outputs": [
    {
     "data": {
      "text/html": [
       "\n",
       "<div id=\"altair-viz-5cfda2e147ee4057a23fa5239d73d821\"></div>\n",
       "<script type=\"text/javascript\">\n",
       "  var VEGA_DEBUG = (typeof VEGA_DEBUG == \"undefined\") ? {} : VEGA_DEBUG;\n",
       "  (function(spec, embedOpt){\n",
       "    let outputDiv = document.currentScript.previousElementSibling;\n",
       "    if (outputDiv.id !== \"altair-viz-5cfda2e147ee4057a23fa5239d73d821\") {\n",
       "      outputDiv = document.getElementById(\"altair-viz-5cfda2e147ee4057a23fa5239d73d821\");\n",
       "    }\n",
       "    const paths = {\n",
       "      \"vega\": \"https://cdn.jsdelivr.net/npm//vega@5?noext\",\n",
       "      \"vega-lib\": \"https://cdn.jsdelivr.net/npm//vega-lib?noext\",\n",
       "      \"vega-lite\": \"https://cdn.jsdelivr.net/npm//vega-lite@4.17.0?noext\",\n",
       "      \"vega-embed\": \"https://cdn.jsdelivr.net/npm//vega-embed@6?noext\",\n",
       "    };\n",
       "\n",
       "    function maybeLoadScript(lib, version) {\n",
       "      var key = `${lib.replace(\"-\", \"\")}_version`;\n",
       "      return (VEGA_DEBUG[key] == version) ?\n",
       "        Promise.resolve(paths[lib]) :\n",
       "        new Promise(function(resolve, reject) {\n",
       "          var s = document.createElement('script');\n",
       "          document.getElementsByTagName(\"head\")[0].appendChild(s);\n",
       "          s.async = true;\n",
       "          s.onload = () => {\n",
       "            VEGA_DEBUG[key] = version;\n",
       "            return resolve(paths[lib]);\n",
       "          };\n",
       "          s.onerror = () => reject(`Error loading script: ${paths[lib]}`);\n",
       "          s.src = paths[lib];\n",
       "        });\n",
       "    }\n",
       "\n",
       "    function showError(err) {\n",
       "      outputDiv.innerHTML = `<div class=\"error\" style=\"color:red;\">${err}</div>`;\n",
       "      throw err;\n",
       "    }\n",
       "\n",
       "    function displayChart(vegaEmbed) {\n",
       "      vegaEmbed(outputDiv, spec, embedOpt)\n",
       "        .catch(err => showError(`Javascript Error: ${err.message}<br>This usually means there's a typo in your chart specification. See the javascript console for the full traceback.`));\n",
       "    }\n",
       "\n",
       "    if(typeof define === \"function\" && define.amd) {\n",
       "      requirejs.config({paths});\n",
       "      require([\"vega-embed\"], displayChart, err => showError(`Error loading script: ${err.message}`));\n",
       "    } else {\n",
       "      maybeLoadScript(\"vega\", \"5\")\n",
       "        .then(() => maybeLoadScript(\"vega-lite\", \"4.17.0\"))\n",
       "        .then(() => maybeLoadScript(\"vega-embed\", \"6\"))\n",
       "        .catch(showError)\n",
       "        .then(() => displayChart(vegaEmbed));\n",
       "    }\n",
       "  })({\"config\": {\"view\": {\"continuousWidth\": 400, \"continuousHeight\": 300}}, \"data\": {\"name\": \"data-ccbf1185dae428a433a7e5c5a6c44e59\"}, \"mark\": {\"type\": \"line\", \"color\": \"red\"}, \"encoding\": {\"x\": {\"field\": \"x\", \"type\": \"quantitative\"}, \"y\": {\"field\": \"pred\", \"type\": \"quantitative\"}}, \"$schema\": \"https://vega.github.io/schema/vega-lite/v4.17.0.json\", \"datasets\": {\"data-ccbf1185dae428a433a7e5c5a6c44e59\": [{\"x\": -3.0, \"y_true\": 19.0, \"y\": 23.824405650704584, \"pred\": 20.31773192269804}, {\"x\": -2.9, \"y_true\": 15.647999999999996, \"y\": 10.237108055098796, \"pred\": 16.3591719494184}, {\"x\": -2.8, \"y_true\": 12.583999999999993, \"y\": 16.91908679057319, \"pred\": 12.745261105607195}, {\"x\": -2.6999999999999997, \"y_true\": 9.795999999999992, \"y\": 8.955196204317206, \"pred\": 9.46202223391364}, {\"x\": -2.5999999999999996, \"y_true\": 7.271999999999991, \"y\": 6.323695104370164, \"pred\": 6.495478176986933}, {\"x\": -2.4999999999999996, \"y_true\": 4.999999999999989, \"y\": 10.602832278036008, \"pred\": 3.8316517774762664}, {\"x\": -2.3999999999999995, \"y_true\": 2.967999999999993, \"y\": 0.7841046813223418, \"pred\": 1.4565658780308421}, {\"x\": -2.2999999999999994, \"y_true\": 1.1639999999999908, \"y\": -5.234226812329393, \"pred\": -0.6437566787001376}, {\"x\": -2.1999999999999993, \"y_true\": -0.4240000000000137, \"y\": -2.7714988713165125, \"pred\": -2.4832930500674815}, {\"x\": -2.099999999999999, \"y_true\": -1.808000000000014, \"y\": -7.792135811821553, \"pred\": -4.076020393421988}, {\"x\": -1.9999999999999991, \"y_true\": -3.0000000000000107, \"y\": -12.199285711986715, \"pred\": -5.435915866114457}, {\"x\": -1.899999999999999, \"y_true\": -4.012000000000011, \"y\": -4.739784849269134, \"pred\": -6.576956625495692}, {\"x\": -1.799999999999999, \"y_true\": -4.856000000000009, \"y\": -2.864605133958004, \"pred\": -7.513119828916496}, {\"x\": -1.6999999999999988, \"y_true\": -5.544000000000008, \"y\": -16.3543063737946, \"pred\": -8.258382633727667}, {\"x\": -1.5999999999999988, \"y_true\": -6.088000000000006, \"y\": -6.015613468222883, \"pred\": -8.82672219728001}, {\"x\": -1.4999999999999987, \"y_true\": -6.5000000000000036, \"y\": -5.224009421444809, \"pred\": -9.232115676924321}, {\"x\": -1.3999999999999986, \"y_true\": -6.792000000000003, \"y\": -5.926044796345713, \"pred\": -9.48854023001141}, {\"x\": -1.2999999999999985, \"y_true\": -6.976000000000002, \"y\": -13.326467602050318, \"pred\": -9.60997301389207}, {\"x\": -1.1999999999999984, \"y_true\": -7.064000000000001, \"y\": -8.618806640209073, \"pred\": -9.610391185917106}, {\"x\": -1.0999999999999983, \"y_true\": -7.067999999999998, \"y\": -7.999078323585601, \"pred\": -9.503771903437322}, {\"x\": -0.9999999999999982, \"y_true\": -6.999999999999998, \"y\": -4.835119581575062, \"pred\": -9.304092323803516}, {\"x\": -0.8999999999999981, \"y_true\": -6.871999999999996, \"y\": -13.308756625035866, \"pred\": -9.02532960436649}, {\"x\": -0.799999999999998, \"y_true\": -6.695999999999996, \"y\": -4.778936156426603, \"pred\": -8.681460902477049}, {\"x\": -0.699999999999998, \"y_true\": -6.4839999999999955, \"y\": -1.524599833485449, \"pred\": -8.28646337548599}, {\"x\": -0.5999999999999979, \"y_true\": -6.247999999999995, \"y\": -17.68622693729956, \"pred\": -7.854314180744115}, {\"x\": -0.4999999999999978, \"y_true\": -5.999999999999995, \"y\": -4.880304361628128, \"pred\": -7.398990475602229}, {\"x\": -0.3999999999999977, \"y_true\": -5.7519999999999945, \"y\": -13.38506705601617, \"pred\": -6.9344694174111305}, {\"x\": -0.2999999999999976, \"y_true\": -5.515999999999995, \"y\": -6.368334641163491, \"pred\": -6.474728163521622}, {\"x\": -0.1999999999999975, \"y_true\": -5.303999999999996, \"y\": -8.704741835733941, \"pred\": -6.033743871284505}, {\"x\": -0.09999999999999742, \"y_true\": -5.127999999999997, \"y\": 1.2401753336845394, \"pred\": -5.6254936980505805}, {\"x\": 2.6645352591003757e-15, \"y_true\": -4.999999999999997, \"y\": -4.71445657964094, \"pred\": -5.263954801170651}, {\"x\": 0.10000000000000275, \"y_true\": -4.931999999999999, \"y\": -0.9555565402837516, \"pred\": -4.963104337995516}, {\"x\": 0.20000000000000284, \"y_true\": -4.936000000000002, \"y\": -10.16989462767013, \"pred\": -4.73691946587598}, {\"x\": 0.30000000000000293, \"y_true\": -5.024000000000004, \"y\": -2.7213636464572986, \"pred\": -4.5993773421628426}, {\"x\": 0.400000000000003, \"y_true\": -5.208000000000007, \"y\": 1.90386367809573, \"pred\": -4.564455124206906}, {\"x\": 0.5000000000000031, \"y_true\": -5.50000000000001, \"y\": -9.036284597169002, \"pred\": -4.646129969358971}, {\"x\": 0.6000000000000032, \"y_true\": -5.912000000000015, \"y\": -2.5826311606487367, \"pred\": -4.85837903496984}, {\"x\": 0.7000000000000033, \"y_true\": -6.456000000000021, \"y\": -4.049151482825412, \"pred\": -5.215179478390313}, {\"x\": 0.8000000000000034, \"y_true\": -7.144000000000027, \"y\": -7.467369873682661, \"pred\": -5.730508456971194}, {\"x\": 0.9000000000000035, \"y_true\": -7.988000000000032, \"y\": -14.245467115049165, \"pred\": -6.418343128063282}, {\"x\": 1.0000000000000036, \"y_true\": -9.000000000000039, \"y\": -7.58449011919938, \"pred\": -7.29266064901738}, {\"x\": 1.1000000000000032, \"y_true\": -10.192000000000041, \"y\": -11.5434400342294, \"pred\": -8.367438177184283}, {\"x\": 1.2000000000000037, \"y_true\": -11.576000000000054, \"y\": -8.565901471871978, \"pred\": -9.656652869914812}, {\"x\": 1.3000000000000043, \"y_true\": -13.164000000000073, \"y\": -9.269587854684678, \"pred\": -11.174281884559754}, {\"x\": 1.400000000000004, \"y_true\": -14.968000000000075, \"y\": -7.295299533414727, \"pred\": -12.934302378469898}, {\"x\": 1.5000000000000036, \"y_true\": -17.000000000000078, \"y\": -21.18278332190194, \"pred\": -14.950691508996059}, {\"x\": 1.600000000000004, \"y_true\": -19.272000000000098, \"y\": -14.946790703056552, \"pred\": -17.237426433489055}, {\"x\": 1.7000000000000046, \"y_true\": -21.796000000000124, \"y\": -18.291898867126424, \"pred\": -19.808484309299676}, {\"x\": 1.8000000000000043, \"y_true\": -24.584000000000124, \"y\": -24.2068839018185, \"pred\": -22.677842293778692}, {\"x\": 1.900000000000004, \"y_true\": -27.648000000000124, \"y\": -24.589036941447688, \"pred\": -25.85947754427693}]}}, {\"mode\": \"vega-lite\"});\n",
       "</script>"
      ],
      "text/plain": [
       "alt.Chart(...)"
      ]
     },
     "execution_count": 47,
     "metadata": {},
     "output_type": "execute_result"
    }
   ],
   "source": [
    "c2 = alt.Chart(df).mark_line(color=\"red\").encode(\n",
    "    x=\"x\",\n",
    "    y=\"pred\"\n",
    ")\n",
    "\n",
    "c2"
   ]
  },
  {
   "cell_type": "markdown",
   "metadata": {
    "cell_id": "e278ec534769435a97a44df46cbd3a1e",
    "deepnote_cell_type": "markdown"
   },
   "source": [
    "* Plot the true values using a dashed black line, using `strokeDash=[10,5]` as an argument to `mark_line`.  Name the chart `c3`.\n",
    "\n",
    "Don't focus too much on the `strokeDash=[10,5]` part, I just wanted to show you an example of an option that exists.  Here the dashes are made with 10 black pixels followed by a gap of 5 pixels.\n",
    "\n",
    "This curve represents the true underlying polynomial that we used to generate the data (before adding the random noise to it)."
   ]
  },
  {
   "cell_type": "code",
   "execution_count": 48,
   "metadata": {
    "cell_id": "c5423d5d92f545bbb92d8bc9bec6952d",
    "deepnote_cell_type": "code",
    "deepnote_to_be_reexecuted": false,
    "execution_millis": 3,
    "execution_start": 1683751684246,
    "source_hash": "d1a915d3"
   },
   "outputs": [
    {
     "data": {
      "text/html": [
       "\n",
       "<div id=\"altair-viz-a5f83b603ca7473ea590ad351c37428b\"></div>\n",
       "<script type=\"text/javascript\">\n",
       "  var VEGA_DEBUG = (typeof VEGA_DEBUG == \"undefined\") ? {} : VEGA_DEBUG;\n",
       "  (function(spec, embedOpt){\n",
       "    let outputDiv = document.currentScript.previousElementSibling;\n",
       "    if (outputDiv.id !== \"altair-viz-a5f83b603ca7473ea590ad351c37428b\") {\n",
       "      outputDiv = document.getElementById(\"altair-viz-a5f83b603ca7473ea590ad351c37428b\");\n",
       "    }\n",
       "    const paths = {\n",
       "      \"vega\": \"https://cdn.jsdelivr.net/npm//vega@5?noext\",\n",
       "      \"vega-lib\": \"https://cdn.jsdelivr.net/npm//vega-lib?noext\",\n",
       "      \"vega-lite\": \"https://cdn.jsdelivr.net/npm//vega-lite@4.17.0?noext\",\n",
       "      \"vega-embed\": \"https://cdn.jsdelivr.net/npm//vega-embed@6?noext\",\n",
       "    };\n",
       "\n",
       "    function maybeLoadScript(lib, version) {\n",
       "      var key = `${lib.replace(\"-\", \"\")}_version`;\n",
       "      return (VEGA_DEBUG[key] == version) ?\n",
       "        Promise.resolve(paths[lib]) :\n",
       "        new Promise(function(resolve, reject) {\n",
       "          var s = document.createElement('script');\n",
       "          document.getElementsByTagName(\"head\")[0].appendChild(s);\n",
       "          s.async = true;\n",
       "          s.onload = () => {\n",
       "            VEGA_DEBUG[key] = version;\n",
       "            return resolve(paths[lib]);\n",
       "          };\n",
       "          s.onerror = () => reject(`Error loading script: ${paths[lib]}`);\n",
       "          s.src = paths[lib];\n",
       "        });\n",
       "    }\n",
       "\n",
       "    function showError(err) {\n",
       "      outputDiv.innerHTML = `<div class=\"error\" style=\"color:red;\">${err}</div>`;\n",
       "      throw err;\n",
       "    }\n",
       "\n",
       "    function displayChart(vegaEmbed) {\n",
       "      vegaEmbed(outputDiv, spec, embedOpt)\n",
       "        .catch(err => showError(`Javascript Error: ${err.message}<br>This usually means there's a typo in your chart specification. See the javascript console for the full traceback.`));\n",
       "    }\n",
       "\n",
       "    if(typeof define === \"function\" && define.amd) {\n",
       "      requirejs.config({paths});\n",
       "      require([\"vega-embed\"], displayChart, err => showError(`Error loading script: ${err.message}`));\n",
       "    } else {\n",
       "      maybeLoadScript(\"vega\", \"5\")\n",
       "        .then(() => maybeLoadScript(\"vega-lite\", \"4.17.0\"))\n",
       "        .then(() => maybeLoadScript(\"vega-embed\", \"6\"))\n",
       "        .catch(showError)\n",
       "        .then(() => displayChart(vegaEmbed));\n",
       "    }\n",
       "  })({\"config\": {\"view\": {\"continuousWidth\": 400, \"continuousHeight\": 300}}, \"data\": {\"name\": \"data-ccbf1185dae428a433a7e5c5a6c44e59\"}, \"mark\": {\"type\": \"line\", \"color\": \"black\", \"strokeDash\": [10, 5]}, \"encoding\": {\"x\": {\"field\": \"x\", \"type\": \"quantitative\"}, \"y\": {\"field\": \"y_true\", \"type\": \"quantitative\"}}, \"$schema\": \"https://vega.github.io/schema/vega-lite/v4.17.0.json\", \"datasets\": {\"data-ccbf1185dae428a433a7e5c5a6c44e59\": [{\"x\": -3.0, \"y_true\": 19.0, \"y\": 23.824405650704584, \"pred\": 20.31773192269804}, {\"x\": -2.9, \"y_true\": 15.647999999999996, \"y\": 10.237108055098796, \"pred\": 16.3591719494184}, {\"x\": -2.8, \"y_true\": 12.583999999999993, \"y\": 16.91908679057319, \"pred\": 12.745261105607195}, {\"x\": -2.6999999999999997, \"y_true\": 9.795999999999992, \"y\": 8.955196204317206, \"pred\": 9.46202223391364}, {\"x\": -2.5999999999999996, \"y_true\": 7.271999999999991, \"y\": 6.323695104370164, \"pred\": 6.495478176986933}, {\"x\": -2.4999999999999996, \"y_true\": 4.999999999999989, \"y\": 10.602832278036008, \"pred\": 3.8316517774762664}, {\"x\": -2.3999999999999995, \"y_true\": 2.967999999999993, \"y\": 0.7841046813223418, \"pred\": 1.4565658780308421}, {\"x\": -2.2999999999999994, \"y_true\": 1.1639999999999908, \"y\": -5.234226812329393, \"pred\": -0.6437566787001376}, {\"x\": -2.1999999999999993, \"y_true\": -0.4240000000000137, \"y\": -2.7714988713165125, \"pred\": -2.4832930500674815}, {\"x\": -2.099999999999999, \"y_true\": -1.808000000000014, \"y\": -7.792135811821553, \"pred\": -4.076020393421988}, {\"x\": -1.9999999999999991, \"y_true\": -3.0000000000000107, \"y\": -12.199285711986715, \"pred\": -5.435915866114457}, {\"x\": -1.899999999999999, \"y_true\": -4.012000000000011, \"y\": -4.739784849269134, \"pred\": -6.576956625495692}, {\"x\": -1.799999999999999, \"y_true\": -4.856000000000009, \"y\": -2.864605133958004, \"pred\": -7.513119828916496}, {\"x\": -1.6999999999999988, \"y_true\": -5.544000000000008, \"y\": -16.3543063737946, \"pred\": -8.258382633727667}, {\"x\": -1.5999999999999988, \"y_true\": -6.088000000000006, \"y\": -6.015613468222883, \"pred\": -8.82672219728001}, {\"x\": -1.4999999999999987, \"y_true\": -6.5000000000000036, \"y\": -5.224009421444809, \"pred\": -9.232115676924321}, {\"x\": -1.3999999999999986, \"y_true\": -6.792000000000003, \"y\": -5.926044796345713, \"pred\": -9.48854023001141}, {\"x\": -1.2999999999999985, \"y_true\": -6.976000000000002, \"y\": -13.326467602050318, \"pred\": -9.60997301389207}, {\"x\": -1.1999999999999984, \"y_true\": -7.064000000000001, \"y\": -8.618806640209073, \"pred\": -9.610391185917106}, {\"x\": -1.0999999999999983, \"y_true\": -7.067999999999998, \"y\": -7.999078323585601, \"pred\": -9.503771903437322}, {\"x\": -0.9999999999999982, \"y_true\": -6.999999999999998, \"y\": -4.835119581575062, \"pred\": -9.304092323803516}, {\"x\": -0.8999999999999981, \"y_true\": -6.871999999999996, \"y\": -13.308756625035866, \"pred\": -9.02532960436649}, {\"x\": -0.799999999999998, \"y_true\": -6.695999999999996, \"y\": -4.778936156426603, \"pred\": -8.681460902477049}, {\"x\": -0.699999999999998, \"y_true\": -6.4839999999999955, \"y\": -1.524599833485449, \"pred\": -8.28646337548599}, {\"x\": -0.5999999999999979, \"y_true\": -6.247999999999995, \"y\": -17.68622693729956, \"pred\": -7.854314180744115}, {\"x\": -0.4999999999999978, \"y_true\": -5.999999999999995, \"y\": -4.880304361628128, \"pred\": -7.398990475602229}, {\"x\": -0.3999999999999977, \"y_true\": -5.7519999999999945, \"y\": -13.38506705601617, \"pred\": -6.9344694174111305}, {\"x\": -0.2999999999999976, \"y_true\": -5.515999999999995, \"y\": -6.368334641163491, \"pred\": -6.474728163521622}, {\"x\": -0.1999999999999975, \"y_true\": -5.303999999999996, \"y\": -8.704741835733941, \"pred\": -6.033743871284505}, {\"x\": -0.09999999999999742, \"y_true\": -5.127999999999997, \"y\": 1.2401753336845394, \"pred\": -5.6254936980505805}, {\"x\": 2.6645352591003757e-15, \"y_true\": -4.999999999999997, \"y\": -4.71445657964094, \"pred\": -5.263954801170651}, {\"x\": 0.10000000000000275, \"y_true\": -4.931999999999999, \"y\": -0.9555565402837516, \"pred\": -4.963104337995516}, {\"x\": 0.20000000000000284, \"y_true\": -4.936000000000002, \"y\": -10.16989462767013, \"pred\": -4.73691946587598}, {\"x\": 0.30000000000000293, \"y_true\": -5.024000000000004, \"y\": -2.7213636464572986, \"pred\": -4.5993773421628426}, {\"x\": 0.400000000000003, \"y_true\": -5.208000000000007, \"y\": 1.90386367809573, \"pred\": -4.564455124206906}, {\"x\": 0.5000000000000031, \"y_true\": -5.50000000000001, \"y\": -9.036284597169002, \"pred\": -4.646129969358971}, {\"x\": 0.6000000000000032, \"y_true\": -5.912000000000015, \"y\": -2.5826311606487367, \"pred\": -4.85837903496984}, {\"x\": 0.7000000000000033, \"y_true\": -6.456000000000021, \"y\": -4.049151482825412, \"pred\": -5.215179478390313}, {\"x\": 0.8000000000000034, \"y_true\": -7.144000000000027, \"y\": -7.467369873682661, \"pred\": -5.730508456971194}, {\"x\": 0.9000000000000035, \"y_true\": -7.988000000000032, \"y\": -14.245467115049165, \"pred\": -6.418343128063282}, {\"x\": 1.0000000000000036, \"y_true\": -9.000000000000039, \"y\": -7.58449011919938, \"pred\": -7.29266064901738}, {\"x\": 1.1000000000000032, \"y_true\": -10.192000000000041, \"y\": -11.5434400342294, \"pred\": -8.367438177184283}, {\"x\": 1.2000000000000037, \"y_true\": -11.576000000000054, \"y\": -8.565901471871978, \"pred\": -9.656652869914812}, {\"x\": 1.3000000000000043, \"y_true\": -13.164000000000073, \"y\": -9.269587854684678, \"pred\": -11.174281884559754}, {\"x\": 1.400000000000004, \"y_true\": -14.968000000000075, \"y\": -7.295299533414727, \"pred\": -12.934302378469898}, {\"x\": 1.5000000000000036, \"y_true\": -17.000000000000078, \"y\": -21.18278332190194, \"pred\": -14.950691508996059}, {\"x\": 1.600000000000004, \"y_true\": -19.272000000000098, \"y\": -14.946790703056552, \"pred\": -17.237426433489055}, {\"x\": 1.7000000000000046, \"y_true\": -21.796000000000124, \"y\": -18.291898867126424, \"pred\": -19.808484309299676}, {\"x\": 1.8000000000000043, \"y_true\": -24.584000000000124, \"y\": -24.2068839018185, \"pred\": -22.677842293778692}, {\"x\": 1.900000000000004, \"y_true\": -27.648000000000124, \"y\": -24.589036941447688, \"pred\": -25.85947754427693}]}}, {\"mode\": \"vega-lite\"});\n",
       "</script>"
      ],
      "text/plain": [
       "alt.Chart(...)"
      ]
     },
     "execution_count": 48,
     "metadata": {},
     "output_type": "execute_result"
    }
   ],
   "source": [
    "c3 = alt.Chart(df).mark_line(color=\"black\", strokeDash=[10,5]).encode(\n",
    "    x=\"x\",\n",
    "    y=\"y_true\"\n",
    ")\n",
    "\n",
    "c3"
   ]
  },
  {
   "cell_type": "markdown",
   "metadata": {
    "cell_id": "1d0b8d53c03d466f82aa91c2a8d966a6",
    "deepnote_cell_type": "markdown"
   },
   "source": [
    "* Layer these plots on top of the above scatter plot `c1`.\n",
    "\n",
    "Notice how similar our two polynomial curves are.  If we had used more data points or less standard deviation for our random noise, we would expect the curves to be even closer to each other."
   ]
  },
  {
   "cell_type": "code",
   "execution_count": 49,
   "metadata": {
    "cell_id": "897e5aba7b6e4989b012ffaaddc33176",
    "deepnote_cell_type": "code",
    "deepnote_to_be_reexecuted": false,
    "execution_millis": 6,
    "execution_start": 1683751694747,
    "source_hash": "18223e79"
   },
   "outputs": [
    {
     "data": {
      "text/html": [
       "\n",
       "<div id=\"altair-viz-e07419a874cf444b8ddbaf6c9e92cd5c\"></div>\n",
       "<script type=\"text/javascript\">\n",
       "  var VEGA_DEBUG = (typeof VEGA_DEBUG == \"undefined\") ? {} : VEGA_DEBUG;\n",
       "  (function(spec, embedOpt){\n",
       "    let outputDiv = document.currentScript.previousElementSibling;\n",
       "    if (outputDiv.id !== \"altair-viz-e07419a874cf444b8ddbaf6c9e92cd5c\") {\n",
       "      outputDiv = document.getElementById(\"altair-viz-e07419a874cf444b8ddbaf6c9e92cd5c\");\n",
       "    }\n",
       "    const paths = {\n",
       "      \"vega\": \"https://cdn.jsdelivr.net/npm//vega@5?noext\",\n",
       "      \"vega-lib\": \"https://cdn.jsdelivr.net/npm//vega-lib?noext\",\n",
       "      \"vega-lite\": \"https://cdn.jsdelivr.net/npm//vega-lite@4.17.0?noext\",\n",
       "      \"vega-embed\": \"https://cdn.jsdelivr.net/npm//vega-embed@6?noext\",\n",
       "    };\n",
       "\n",
       "    function maybeLoadScript(lib, version) {\n",
       "      var key = `${lib.replace(\"-\", \"\")}_version`;\n",
       "      return (VEGA_DEBUG[key] == version) ?\n",
       "        Promise.resolve(paths[lib]) :\n",
       "        new Promise(function(resolve, reject) {\n",
       "          var s = document.createElement('script');\n",
       "          document.getElementsByTagName(\"head\")[0].appendChild(s);\n",
       "          s.async = true;\n",
       "          s.onload = () => {\n",
       "            VEGA_DEBUG[key] = version;\n",
       "            return resolve(paths[lib]);\n",
       "          };\n",
       "          s.onerror = () => reject(`Error loading script: ${paths[lib]}`);\n",
       "          s.src = paths[lib];\n",
       "        });\n",
       "    }\n",
       "\n",
       "    function showError(err) {\n",
       "      outputDiv.innerHTML = `<div class=\"error\" style=\"color:red;\">${err}</div>`;\n",
       "      throw err;\n",
       "    }\n",
       "\n",
       "    function displayChart(vegaEmbed) {\n",
       "      vegaEmbed(outputDiv, spec, embedOpt)\n",
       "        .catch(err => showError(`Javascript Error: ${err.message}<br>This usually means there's a typo in your chart specification. See the javascript console for the full traceback.`));\n",
       "    }\n",
       "\n",
       "    if(typeof define === \"function\" && define.amd) {\n",
       "      requirejs.config({paths});\n",
       "      require([\"vega-embed\"], displayChart, err => showError(`Error loading script: ${err.message}`));\n",
       "    } else {\n",
       "      maybeLoadScript(\"vega\", \"5\")\n",
       "        .then(() => maybeLoadScript(\"vega-lite\", \"4.17.0\"))\n",
       "        .then(() => maybeLoadScript(\"vega-embed\", \"6\"))\n",
       "        .catch(showError)\n",
       "        .then(() => displayChart(vegaEmbed));\n",
       "    }\n",
       "  })({\"config\": {\"view\": {\"continuousWidth\": 400, \"continuousHeight\": 300}}, \"layer\": [{\"mark\": \"circle\", \"encoding\": {\"x\": {\"field\": \"x\", \"type\": \"quantitative\"}, \"y\": {\"field\": \"y\", \"type\": \"quantitative\"}}}, {\"mark\": {\"type\": \"line\", \"color\": \"red\"}, \"encoding\": {\"x\": {\"field\": \"x\", \"type\": \"quantitative\"}, \"y\": {\"field\": \"pred\", \"type\": \"quantitative\"}}}, {\"mark\": {\"type\": \"line\", \"color\": \"black\", \"strokeDash\": [10, 5]}, \"encoding\": {\"x\": {\"field\": \"x\", \"type\": \"quantitative\"}, \"y\": {\"field\": \"y_true\", \"type\": \"quantitative\"}}}], \"data\": {\"name\": \"data-ccbf1185dae428a433a7e5c5a6c44e59\"}, \"$schema\": \"https://vega.github.io/schema/vega-lite/v4.17.0.json\", \"datasets\": {\"data-ccbf1185dae428a433a7e5c5a6c44e59\": [{\"x\": -3.0, \"y_true\": 19.0, \"y\": 23.824405650704584, \"pred\": 20.31773192269804}, {\"x\": -2.9, \"y_true\": 15.647999999999996, \"y\": 10.237108055098796, \"pred\": 16.3591719494184}, {\"x\": -2.8, \"y_true\": 12.583999999999993, \"y\": 16.91908679057319, \"pred\": 12.745261105607195}, {\"x\": -2.6999999999999997, \"y_true\": 9.795999999999992, \"y\": 8.955196204317206, \"pred\": 9.46202223391364}, {\"x\": -2.5999999999999996, \"y_true\": 7.271999999999991, \"y\": 6.323695104370164, \"pred\": 6.495478176986933}, {\"x\": -2.4999999999999996, \"y_true\": 4.999999999999989, \"y\": 10.602832278036008, \"pred\": 3.8316517774762664}, {\"x\": -2.3999999999999995, \"y_true\": 2.967999999999993, \"y\": 0.7841046813223418, \"pred\": 1.4565658780308421}, {\"x\": -2.2999999999999994, \"y_true\": 1.1639999999999908, \"y\": -5.234226812329393, \"pred\": -0.6437566787001376}, {\"x\": -2.1999999999999993, \"y_true\": -0.4240000000000137, \"y\": -2.7714988713165125, \"pred\": -2.4832930500674815}, {\"x\": -2.099999999999999, \"y_true\": -1.808000000000014, \"y\": -7.792135811821553, \"pred\": -4.076020393421988}, {\"x\": -1.9999999999999991, \"y_true\": -3.0000000000000107, \"y\": -12.199285711986715, \"pred\": -5.435915866114457}, {\"x\": -1.899999999999999, \"y_true\": -4.012000000000011, \"y\": -4.739784849269134, \"pred\": -6.576956625495692}, {\"x\": -1.799999999999999, \"y_true\": -4.856000000000009, \"y\": -2.864605133958004, \"pred\": -7.513119828916496}, {\"x\": -1.6999999999999988, \"y_true\": -5.544000000000008, \"y\": -16.3543063737946, \"pred\": -8.258382633727667}, {\"x\": -1.5999999999999988, \"y_true\": -6.088000000000006, \"y\": -6.015613468222883, \"pred\": -8.82672219728001}, {\"x\": -1.4999999999999987, \"y_true\": -6.5000000000000036, \"y\": -5.224009421444809, \"pred\": -9.232115676924321}, {\"x\": -1.3999999999999986, \"y_true\": -6.792000000000003, \"y\": -5.926044796345713, \"pred\": -9.48854023001141}, {\"x\": -1.2999999999999985, \"y_true\": -6.976000000000002, \"y\": -13.326467602050318, \"pred\": -9.60997301389207}, {\"x\": -1.1999999999999984, \"y_true\": -7.064000000000001, \"y\": -8.618806640209073, \"pred\": -9.610391185917106}, {\"x\": -1.0999999999999983, \"y_true\": -7.067999999999998, \"y\": -7.999078323585601, \"pred\": -9.503771903437322}, {\"x\": -0.9999999999999982, \"y_true\": -6.999999999999998, \"y\": -4.835119581575062, \"pred\": -9.304092323803516}, {\"x\": -0.8999999999999981, \"y_true\": -6.871999999999996, \"y\": -13.308756625035866, \"pred\": -9.02532960436649}, {\"x\": -0.799999999999998, \"y_true\": -6.695999999999996, \"y\": -4.778936156426603, \"pred\": -8.681460902477049}, {\"x\": -0.699999999999998, \"y_true\": -6.4839999999999955, \"y\": -1.524599833485449, \"pred\": -8.28646337548599}, {\"x\": -0.5999999999999979, \"y_true\": -6.247999999999995, \"y\": -17.68622693729956, \"pred\": -7.854314180744115}, {\"x\": -0.4999999999999978, \"y_true\": -5.999999999999995, \"y\": -4.880304361628128, \"pred\": -7.398990475602229}, {\"x\": -0.3999999999999977, \"y_true\": -5.7519999999999945, \"y\": -13.38506705601617, \"pred\": -6.9344694174111305}, {\"x\": -0.2999999999999976, \"y_true\": -5.515999999999995, \"y\": -6.368334641163491, \"pred\": -6.474728163521622}, {\"x\": -0.1999999999999975, \"y_true\": -5.303999999999996, \"y\": -8.704741835733941, \"pred\": -6.033743871284505}, {\"x\": -0.09999999999999742, \"y_true\": -5.127999999999997, \"y\": 1.2401753336845394, \"pred\": -5.6254936980505805}, {\"x\": 2.6645352591003757e-15, \"y_true\": -4.999999999999997, \"y\": -4.71445657964094, \"pred\": -5.263954801170651}, {\"x\": 0.10000000000000275, \"y_true\": -4.931999999999999, \"y\": -0.9555565402837516, \"pred\": -4.963104337995516}, {\"x\": 0.20000000000000284, \"y_true\": -4.936000000000002, \"y\": -10.16989462767013, \"pred\": -4.73691946587598}, {\"x\": 0.30000000000000293, \"y_true\": -5.024000000000004, \"y\": -2.7213636464572986, \"pred\": -4.5993773421628426}, {\"x\": 0.400000000000003, \"y_true\": -5.208000000000007, \"y\": 1.90386367809573, \"pred\": -4.564455124206906}, {\"x\": 0.5000000000000031, \"y_true\": -5.50000000000001, \"y\": -9.036284597169002, \"pred\": -4.646129969358971}, {\"x\": 0.6000000000000032, \"y_true\": -5.912000000000015, \"y\": -2.5826311606487367, \"pred\": -4.85837903496984}, {\"x\": 0.7000000000000033, \"y_true\": -6.456000000000021, \"y\": -4.049151482825412, \"pred\": -5.215179478390313}, {\"x\": 0.8000000000000034, \"y_true\": -7.144000000000027, \"y\": -7.467369873682661, \"pred\": -5.730508456971194}, {\"x\": 0.9000000000000035, \"y_true\": -7.988000000000032, \"y\": -14.245467115049165, \"pred\": -6.418343128063282}, {\"x\": 1.0000000000000036, \"y_true\": -9.000000000000039, \"y\": -7.58449011919938, \"pred\": -7.29266064901738}, {\"x\": 1.1000000000000032, \"y_true\": -10.192000000000041, \"y\": -11.5434400342294, \"pred\": -8.367438177184283}, {\"x\": 1.2000000000000037, \"y_true\": -11.576000000000054, \"y\": -8.565901471871978, \"pred\": -9.656652869914812}, {\"x\": 1.3000000000000043, \"y_true\": -13.164000000000073, \"y\": -9.269587854684678, \"pred\": -11.174281884559754}, {\"x\": 1.400000000000004, \"y_true\": -14.968000000000075, \"y\": -7.295299533414727, \"pred\": -12.934302378469898}, {\"x\": 1.5000000000000036, \"y_true\": -17.000000000000078, \"y\": -21.18278332190194, \"pred\": -14.950691508996059}, {\"x\": 1.600000000000004, \"y_true\": -19.272000000000098, \"y\": -14.946790703056552, \"pred\": -17.237426433489055}, {\"x\": 1.7000000000000046, \"y_true\": -21.796000000000124, \"y\": -18.291898867126424, \"pred\": -19.808484309299676}, {\"x\": 1.8000000000000043, \"y_true\": -24.584000000000124, \"y\": -24.2068839018185, \"pred\": -22.677842293778692}, {\"x\": 1.900000000000004, \"y_true\": -27.648000000000124, \"y\": -24.589036941447688, \"pred\": -25.85947754427693}]}}, {\"mode\": \"vega-lite\"});\n",
       "</script>"
      ],
      "text/plain": [
       "alt.LayerChart(...)"
      ]
     },
     "execution_count": 49,
     "metadata": {},
     "output_type": "execute_result"
    }
   ],
   "source": [
    "c1+c2+c3"
   ]
  },
  {
   "cell_type": "markdown",
   "metadata": {
    "cell_id": "01e695223bef452aa68da6ec8b77ca96",
    "deepnote_cell_type": "markdown"
   },
   "source": [
    "## Extra time\n",
    "\n",
    "I doubt there will be extra time, but if there is, we will introduce `train_test_split` from `sklearn.model_selection`."
   ]
  }
 ],
 "metadata": {
  "deepnote": {},
  "deepnote_execution_queue": [],
  "deepnote_notebook_id": "b640bbb663d643fca8cd50d9175767b7",
  "deepnote_persisted_session": {
   "createdAt": "2023-05-10T21:17:26.717Z"
  },
  "kernelspec": {
   "display_name": "Python 3 (ipykernel)",
   "language": "python",
   "name": "python3"
  },
  "language_info": {
   "codemirror_mode": {
    "name": "ipython",
    "version": 3
   },
   "file_extension": ".py",
   "mimetype": "text/x-python",
   "name": "python",
   "nbconvert_exporter": "python",
   "pygments_lexer": "ipython3",
   "version": "3.9.16"
  }
 },
 "nbformat": 4,
 "nbformat_minor": 4
}
