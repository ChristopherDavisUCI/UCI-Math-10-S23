{
 "cells": [
  {
   "cell_type": "markdown",
   "metadata": {
    "cell_id": "c4657e5a98434b93a9485eaa653c39c4",
    "deepnote_cell_type": "markdown"
   },
   "source": [
    "# Week 1 Monday\n",
    "\n",
    "Welcome to Math 10!\n",
    "\n",
    "[Canvas homepage](https://canvas.eee.uci.edu/courses/53164)\n",
    "\n",
    "This class is an introduction to using Python for data science.  I think of this class as having two main parts:\n",
    "* Part 1.  Exploratory Data Analysis.  (Weeks 1-5)\n",
    "* Part 2.  Introduction to Machine Learning.  (Weeks 5-10)\n",
    "\n",
    "Two in-class midterms: Monday Week 5 and Friday Week 9 (see Canvas homepage for dates).  They're closed book and closed computer, but you will be allowed to use a notecard with handwritten notes on it.\n",
    "\n",
    "There's no final exam; instead there is a class project."
   ]
  },
  {
   "cell_type": "markdown",
   "metadata": {
    "cell_id": "b316aa9b555f4c2fbc532b76cd74620a",
    "deepnote_cell_type": "markdown"
   },
   "source": [
    "## Announcements\n",
    "\n",
    "* The first worksheet will be distributed today and we'll have time to work on it, the second will be distributed on Wednesday.  Both due Monday night of Week 2.  In general, two worksheets per week.\n",
    "* Today's worksheet is meant to get acquainted with the Deepnote programming environment, and to review/introduce some Python topics that you may have seen in Math 9.\n",
    "* One of our three LAs, Maya, is here to help with the worksheet and in general with getting set up in Deepnote.\n",
    "* If you're on the waitlist, please submit worksheets/take quizzes on the same schedule as the regular class.  (Assignments won't be excused, but I do drop the two lowest worksheet scores.)"
   ]
  },
  {
   "cell_type": "markdown",
   "metadata": {
    "cell_id": "14a8e719ba0a4ece8a2c60f00df2298c",
    "deepnote_cell_type": "markdown"
   },
   "source": [
    "## Warm-up with Deepnote and some Python concepts\n",
    "\n",
    "Suggestion.  You can duplicate this project on the left side and then type along with me.\n",
    "\n",
    "The notes from this notebook will be posted sometime later today in the [course notes](https://christopherdavisuci.github.io/UCI-Math-10-S23/intro.html)."
   ]
  },
  {
   "cell_type": "code",
   "execution_count": 1,
   "metadata": {
    "cell_id": "99065cdd6b464c42a39c5b822fcc4348",
    "deepnote_cell_type": "code",
    "deepnote_to_be_reexecuted": true,
    "source_hash": "c16d8ddd",
    "tags": []
   },
   "outputs": [],
   "source": [
    "a = 10"
   ]
  },
  {
   "cell_type": "code",
   "execution_count": 2,
   "metadata": {
    "cell_id": "628ac934727c4e88b655b4ee046b5654",
    "deepnote_cell_type": "code",
    "deepnote_to_be_reexecuted": false,
    "execution_millis": 549,
    "execution_start": 1680553925951,
    "source_hash": "3791362",
    "tags": []
   },
   "outputs": [
    {
     "name": "stdout",
     "output_type": "stream",
     "text": [
      "10\n"
     ]
    }
   ],
   "source": [
    "print(a)"
   ]
  },
  {
   "cell_type": "markdown",
   "metadata": {},
   "source": [
    "You execute a cell in Deepnote (or in a Jupyter notebook) by holding down shift and hitting return.  The order in which you execute cells is important (not the order in which they appear on the page)."
   ]
  },
  {
   "cell_type": "markdown",
   "metadata": {
    "cell_id": "37f9269f0e90446ca71023e6dd7ea631",
    "deepnote_cell_type": "markdown"
   },
   "source": [
    "* Using NumPy, make a length-1000 array of random real numbers between 0 and 10.\n",
    "\n",
    "NumPy is one of the most important libraries for Python, and it shares many similarities with Matlab.  Because NumPy is not automatically included in Python, we need to import it.  The convention is to use the abbreviation `np`, and we will always follow that convention."
   ]
  },
  {
   "cell_type": "code",
   "execution_count": 3,
   "metadata": {
    "cell_id": "be04887adbe34360ae775a544a3c234a",
    "deepnote_cell_type": "code",
    "deepnote_to_be_reexecuted": false,
    "execution_millis": 1,
    "execution_start": 1680553932192,
    "source_hash": "c2602aa8",
    "tags": []
   },
   "outputs": [],
   "source": [
    "import numpy as np"
   ]
  },
  {
   "cell_type": "markdown",
   "metadata": {},
   "source": [
    "Many aspects of Python follow what is called \"object-oriented\" programming.  As an example of this style, we create a \"random number generator\" object which will be used to generate random numbers.  The `rng` on the left is a variable name; we could have used any other variable name.  The part on the right side must be written exactly (including the lack of capital letters and the parentheses)."
   ]
  },
  {
   "cell_type": "code",
   "execution_count": 4,
   "metadata": {
    "cell_id": "244dd2b016d848c0a9c95d64f336006d",
    "deepnote_cell_type": "code",
    "deepnote_to_be_reexecuted": false,
    "execution_millis": 431960,
    "execution_start": 1680553933009,
    "source_hash": "8c173f7e",
    "tags": []
   },
   "outputs": [],
   "source": [
    "rng = np.random.default_rng()"
   ]
  },
  {
   "cell_type": "markdown",
   "metadata": {},
   "source": [
    "Here we generate 5 random numbers between 0 and 1.  If you run this code (or I run it again), different numbers will show up."
   ]
  },
  {
   "cell_type": "code",
   "execution_count": 5,
   "metadata": {
    "cell_id": "6d6bb42751aa413ea6bef2f991310975",
    "deepnote_cell_type": "code",
    "deepnote_to_be_reexecuted": false,
    "execution_millis": 5,
    "execution_start": 1680553933875,
    "source_hash": "6dc1adf1",
    "tags": []
   },
   "outputs": [
    {
     "data": {
      "text/plain": [
       "array([0.0636005 , 0.85960075, 0.68093027, 0.87971363, 0.5778486 ])"
      ]
     },
     "execution_count": 5,
     "metadata": {},
     "output_type": "execute_result"
    }
   ],
   "source": [
    "rng.random(5)"
   ]
  },
  {
   "cell_type": "markdown",
   "metadata": {},
   "source": [
    "The `random` that came after the period is what's known as a *method* of the random number generator object `rng`.  Here is another method, `integers`, that produces random integers."
   ]
  },
  {
   "cell_type": "code",
   "execution_count": 6,
   "metadata": {
    "cell_id": "6c72cdacca3c4c8e9460f36337e82e9c",
    "deepnote_cell_type": "code",
    "deepnote_to_be_reexecuted": false,
    "execution_millis": 2,
    "execution_start": 1680553934536,
    "source_hash": "95530cd8",
    "tags": []
   },
   "outputs": [
    {
     "data": {
      "text/plain": [
       "array([ 2, 14,  9,  8,  1])"
      ]
     },
     "execution_count": 6,
     "metadata": {},
     "output_type": "execute_result"
    }
   ],
   "source": [
    "rng.integers(0,20,size=5)"
   ]
  },
  {
   "cell_type": "markdown",
   "metadata": {},
   "source": [
    "We wanted 1000 numbers (not 5), and we wanted them to be between 0 and 10 (not between 0 and 1).  We multiply by 10 to get the scale correct."
   ]
  },
  {
   "cell_type": "code",
   "execution_count": 7,
   "metadata": {
    "cell_id": "4cb239aee865432abfb54571d0562711",
    "deepnote_cell_type": "code",
    "deepnote_to_be_reexecuted": false,
    "execution_millis": 4,
    "execution_start": 1680553935176,
    "source_hash": "7eef9ced",
    "tags": []
   },
   "outputs": [],
   "source": [
    "arr = 10*rng.random(1000)"
   ]
  },
  {
   "cell_type": "markdown",
   "metadata": {},
   "source": [
    "Python does not have as many built-in functions as for example Matlab or Mathematica.  (Most Python functions we use will come from an external library, like NumPy.)  But `len` and `max` are two examples of built-in Python functions."
   ]
  },
  {
   "cell_type": "code",
   "execution_count": 8,
   "metadata": {
    "cell_id": "275e903456824aae82473e4815fd9035",
    "deepnote_cell_type": "code",
    "deepnote_to_be_reexecuted": false,
    "execution_millis": 1,
    "execution_start": 1680553935971,
    "source_hash": "ee292122",
    "tags": []
   },
   "outputs": [
    {
     "data": {
      "text/plain": [
       "1000"
      ]
     },
     "execution_count": 8,
     "metadata": {},
     "output_type": "execute_result"
    }
   ],
   "source": [
    "len(arr)"
   ]
  },
  {
   "cell_type": "code",
   "execution_count": 9,
   "metadata": {
    "cell_id": "9da83892d3c54e68a08e1e993f5afe35",
    "deepnote_cell_type": "code",
    "deepnote_to_be_reexecuted": false,
    "execution_millis": 8,
    "execution_start": 1680553936541,
    "source_hash": "90e39139",
    "tags": []
   },
   "outputs": [
    {
     "data": {
      "text/plain": [
       "9.996904603689662"
      ]
     },
     "execution_count": 9,
     "metadata": {},
     "output_type": "execute_result"
    }
   ],
   "source": [
    "max(arr)"
   ]
  },
  {
   "cell_type": "markdown",
   "metadata": {
    "cell_id": "1272d22ecf884945b8b743f609d52885",
    "deepnote_cell_type": "markdown"
   },
   "source": [
    "* What proportion of elements in this array are strictly greater than 9?"
   ]
  },
  {
   "cell_type": "markdown",
   "metadata": {},
   "source": [
    "Here we look at the first 10 elements."
   ]
  },
  {
   "cell_type": "code",
   "execution_count": 11,
   "metadata": {
    "cell_id": "0478c4510609486a90cc79af2a43570f",
    "deepnote_cell_type": "code",
    "deepnote_to_be_reexecuted": false,
    "execution_millis": 1,
    "execution_start": 1680553937838,
    "source_hash": "ffd74f67",
    "tags": []
   },
   "outputs": [
    {
     "data": {
      "text/plain": [
       "array([3.11851835, 3.90914999, 2.61168215, 7.47896289, 9.45087702,\n",
       "       9.91738752, 8.55094172, 1.35599358, 4.39273886, 2.4713273 ])"
      ]
     },
     "execution_count": 11,
     "metadata": {},
     "output_type": "execute_result"
    }
   ],
   "source": [
    "arr[:10]"
   ]
  },
  {
   "cell_type": "markdown",
   "metadata": {},
   "source": [
    "This is confusing at first, but notice how we can check which elements are strictly greater than 9.  (This same syntax works in Matlab.)"
   ]
  },
  {
   "cell_type": "code",
   "execution_count": 12,
   "metadata": {
    "cell_id": "244abd61ce014bef8d6fa47c6104d278",
    "deepnote_cell_type": "code",
    "deepnote_to_be_reexecuted": false,
    "execution_millis": 3,
    "execution_start": 1680553956213,
    "source_hash": "4d49cf94",
    "tags": []
   },
   "outputs": [
    {
     "data": {
      "text/plain": [
       "array([False, False, False, False,  True,  True, False, False, False,\n",
       "       False])"
      ]
     },
     "execution_count": 12,
     "metadata": {},
     "output_type": "execute_result"
    }
   ],
   "source": [
    "arr[:10] > 9"
   ]
  },
  {
   "cell_type": "markdown",
   "metadata": {},
   "source": [
    "`True` is treated like `1` and `False` is treated like `0`, so if we sum up these values, it is the same as counting how many times `True` occurs."
   ]
  },
  {
   "cell_type": "code",
   "execution_count": 13,
   "metadata": {
    "cell_id": "9537a46407fe4cd2bd33c5516ac5bacf",
    "deepnote_cell_type": "code",
    "deepnote_to_be_reexecuted": false,
    "execution_millis": 5,
    "execution_start": 1680553979073,
    "source_hash": "e2477e57",
    "tags": []
   },
   "outputs": [
    {
     "data": {
      "text/plain": [
       "2"
      ]
     },
     "execution_count": 13,
     "metadata": {},
     "output_type": "execute_result"
    }
   ],
   "source": [
    "sum(arr[:10] > 9)"
   ]
  },
  {
   "cell_type": "markdown",
   "metadata": {},
   "source": [
    "We would expect about 10% of the numbers to be greater than 9, and indeed, we are pretty close in this case."
   ]
  },
  {
   "cell_type": "code",
   "execution_count": 15,
   "metadata": {
    "cell_id": "d405bfb28a4345e3a7c927466f4f8358",
    "deepnote_cell_type": "code",
    "deepnote_to_be_reexecuted": false,
    "execution_millis": 4,
    "execution_start": 1680554035421,
    "source_hash": "c3c3a52b",
    "tags": []
   },
   "outputs": [
    {
     "data": {
      "text/plain": [
       "0.102"
      ]
     },
     "execution_count": 15,
     "metadata": {},
     "output_type": "execute_result"
    }
   ],
   "source": [
    "sum(arr > 9)/len(arr)"
   ]
  },
  {
   "cell_type": "markdown",
   "metadata": {
    "cell_id": "8cba1686227042629c8539a4c08a0961",
    "deepnote_cell_type": "markdown"
   },
   "source": [
    "* Convert the array to a list and answer the same question."
   ]
  },
  {
   "cell_type": "markdown",
   "metadata": {},
   "source": [
    "Here is how we convert to a list.  Be careful not to name the variable `list` (instead, use a more random name, like `mylist`), otherwise you could delete the built-in Python data type `list`."
   ]
  },
  {
   "cell_type": "code",
   "execution_count": 17,
   "metadata": {
    "cell_id": "378f576197ca456ca6cb5c0a9f321778",
    "deepnote_cell_type": "code",
    "deepnote_to_be_reexecuted": false,
    "execution_millis": 16,
    "execution_start": 1680554113333,
    "source_hash": "99827cc2",
    "tags": []
   },
   "outputs": [],
   "source": [
    "mylist = list(arr)"
   ]
  },
  {
   "cell_type": "markdown",
   "metadata": {
    "cell_id": "e94051b067cf468a913861356484deae",
    "deepnote_cell_type": "markdown"
   },
   "source": [
    "## Time to work on Worksheet 1\n",
    "\n",
    "* For this worksheet only, to get full points, you need to work in a group a 2-3 total students.\n",
    "* One of Deepnote's biggest strengths is that it works great for multiple people editing a file simultaneously.  That's why I want you to try out working in a group for this first worksheet, and I hope you will keep working in groups throughout the course.  (The course project at the end is an individual project.)\n",
    "* Maya (one of the three course LAs) and I are here to help.\n",
    "* I have another class at 2pm, so if you have questions, ask me now rather than after class!"
   ]
  }
 ],
 "metadata": {
  "deepnote": {},
  "deepnote_execution_queue": [],
  "deepnote_notebook_id": "57b370a0f9a74e11bd1f04b6e3bdd0af",
  "deepnote_persisted_session": {
   "createdAt": "2023-04-03T20:35:14.196Z"
  },
  "kernelspec": {
   "display_name": "Python 3 (ipykernel)",
   "language": "python",
   "name": "python3"
  },
  "language_info": {
   "codemirror_mode": {
    "name": "ipython",
    "version": 3
   },
   "file_extension": ".py",
   "mimetype": "text/x-python",
   "name": "python",
   "nbconvert_exporter": "python",
   "pygments_lexer": "ipython3",
   "version": "3.9.16"
  }
 },
 "nbformat": 4,
 "nbformat_minor": 4
}
