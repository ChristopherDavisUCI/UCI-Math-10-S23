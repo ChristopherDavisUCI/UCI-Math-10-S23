{
 "cells": [
  {
   "cell_type": "markdown",
   "metadata": {
    "cell_id": "f7796098918b40e4b04fec3bc88cdf8f",
    "deepnote_cell_type": "markdown"
   },
   "source": [
    "# Week 1 Friday\n",
    "\n",
    "## Announcements\n",
    "\n",
    "* We'll start on the library `pandas` next week.  Most important library of Math 10.\n",
    "* Annotated versions of the Monday and Wednesday files are in the [course notes](https://christopherdavisuci.github.io/UCI-Math-10-S23/Week1/Week1-Intro.html).\n",
    "* For now, I'm going to keep using Deepnote to distribute files, but I will lecture locally (not \"in the cloud\") using Anaconda Navigator's Jupyter notebooks from the lab computer.\n",
    "* Worksheets 1 and 2 posted in Deepnote.  For Worksheet 1, to get full points, please work in a group (2-3 students total).  For Worksheet 2, it's up to you if you work in a group or not.\n",
    "* Yufei, one of our three LAs, is here to help.\n",
    "* If you're stuck on something and not able to ask in person, try asking on Ed Discussion (linked from Canvas).\n",
    "* I have another class at 2pm across campus, so unfortunately I can basically never stay around to answer questions."
   ]
  },
  {
   "cell_type": "markdown",
   "metadata": {
    "cell_id": "dbf84fe4019e4934b31ada44fd9fe5c0",
    "deepnote_cell_type": "markdown"
   },
   "source": [
    "## More complex example of Boolean indexing\n",
    "\n",
    "Define `arr` as follows.  We will then create the subarray of `arr` containing the rows which have at least two 2s using the following strategy."
   ]
  },
  {
   "cell_type": "code",
   "execution_count": 2,
   "metadata": {
    "cell_id": "b81f243da8644c0aafcd97fe78948b6e",
    "deepnote_cell_type": "code",
    "deepnote_to_be_reexecuted": false,
    "execution_millis": 44,
    "execution_start": 1680885695857,
    "source_hash": "c2602aa8"
   },
   "outputs": [],
   "source": [
    "import numpy as np"
   ]
  },
  {
   "cell_type": "code",
   "execution_count": 5,
   "metadata": {
    "cell_id": "2b76e7cc1e4d470a8a063e098faee62d",
    "deepnote_cell_type": "code",
    "deepnote_to_be_reexecuted": false,
    "execution_millis": 0,
    "execution_start": 1680886624941,
    "output_cleared": true,
    "source_hash": "e0b139d5"
   },
   "outputs": [
    {
     "data": {
      "text/plain": [
       "array([[3, 4, 0],\n",
       "       [2, 0, 1],\n",
       "       [2, 0, 2],\n",
       "       [4, 4, 2],\n",
       "       [2, 3, 4],\n",
       "       [4, 0, 3],\n",
       "       [3, 0, 2],\n",
       "       [4, 3, 1],\n",
       "       [1, 3, 0],\n",
       "       [2, 2, 2]], dtype=int64)"
      ]
     },
     "execution_count": 5,
     "metadata": {},
     "output_type": "execute_result"
    }
   ],
   "source": [
    "rng = np.random.default_rng(seed=100)\n",
    "arr = rng.integers(0, 5, size=(10,3))\n",
    "arr"
   ]
  },
  {
   "cell_type": "markdown",
   "metadata": {
    "cell_id": "bfe741f445854a6c86dafbbf953327b8",
    "deepnote_cell_type": "markdown"
   },
   "source": [
    "* Make a 10x3 Boolean array indicating where `arr` is equal to 2."
   ]
  },
  {
   "cell_type": "code",
   "execution_count": 6,
   "metadata": {
    "cell_id": "9a4b69fc5b80418dac310c85227be637",
    "deepnote_cell_type": "code"
   },
   "outputs": [
    {
     "data": {
      "text/plain": [
       "array([[False, False, False],\n",
       "       [ True, False, False],\n",
       "       [ True, False,  True],\n",
       "       [False, False,  True],\n",
       "       [ True, False, False],\n",
       "       [False, False, False],\n",
       "       [False, False,  True],\n",
       "       [False, False, False],\n",
       "       [False, False, False],\n",
       "       [ True,  True,  True]])"
      ]
     },
     "execution_count": 6,
     "metadata": {},
     "output_type": "execute_result"
    }
   ],
   "source": [
    "arr == 2"
   ]
  },
  {
   "cell_type": "markdown",
   "metadata": {
    "cell_id": "23ae191ba14e40d292a8cda865f8b96c",
    "deepnote_cell_type": "markdown"
   },
   "source": [
    "* Use the `sum` method with `axis=1` to find how many 2s there are in each row."
   ]
  },
  {
   "cell_type": "code",
   "execution_count": 8,
   "metadata": {
    "cell_id": "e1c62e735025437d9a47a56e09aba7a4",
    "deepnote_cell_type": "code"
   },
   "outputs": [
    {
     "data": {
      "text/plain": [
       "array([0, 1, 2, 1, 1, 0, 1, 0, 0, 3])"
      ]
     },
     "execution_count": 8,
     "metadata": {},
     "output_type": "execute_result"
    }
   ],
   "source": [
    "cts = (arr == 2).sum(axis=1)\n",
    "cts"
   ]
  },
  {
   "cell_type": "markdown",
   "metadata": {
    "cell_id": "9bf491d453c0463682642902d418f0eb",
    "deepnote_cell_type": "markdown"
   },
   "source": [
    "* Use Boolean indexing to create the subarray of `arr2` containing only the rows which have at least two 2s. "
   ]
  },
  {
   "cell_type": "code",
   "execution_count": 9,
   "metadata": {
    "cell_id": "4713784d088f45abb9ee07851ce29bb4",
    "deepnote_cell_type": "code"
   },
   "outputs": [
    {
     "data": {
      "text/plain": [
       "array([False, False,  True, False, False, False, False, False, False,\n",
       "        True])"
      ]
     },
     "execution_count": 9,
     "metadata": {},
     "output_type": "execute_result"
    }
   ],
   "source": [
    "# Boolean array\n",
    "cts > 1 # cts >= 2"
   ]
  },
  {
   "cell_type": "markdown",
   "metadata": {},
   "source": [
    "Here we \"keep\" the rows corresponding to the `True` values, that is, we keep the rows that have at least two 2s."
   ]
  },
  {
   "cell_type": "code",
   "execution_count": 10,
   "metadata": {
    "cell_id": "980b04c76a7f4132a51dbfef7d79157b",
    "deepnote_cell_type": "code"
   },
   "outputs": [
    {
     "data": {
      "text/plain": [
       "array([[2, 0, 2],\n",
       "       [2, 2, 2]], dtype=int64)"
      ]
     },
     "execution_count": 10,
     "metadata": {},
     "output_type": "execute_result"
    }
   ],
   "source": [
    "arr[cts > 1]"
   ]
  },
  {
   "cell_type": "markdown",
   "metadata": {},
   "source": [
    "The following means exactly the same thing, but it is a little harder to read because we've replaced `cts` with the definition of `cts`."
   ]
  },
  {
   "cell_type": "code",
   "execution_count": 11,
   "metadata": {
    "cell_id": "64b231a6209d423083e4428a077708d9",
    "deepnote_cell_type": "code"
   },
   "outputs": [
    {
     "data": {
      "text/plain": [
       "array([[2, 0, 2],\n",
       "       [2, 2, 2]], dtype=int64)"
      ]
     },
     "execution_count": 11,
     "metadata": {},
     "output_type": "execute_result"
    }
   ],
   "source": [
    "arr[(arr == 2).sum(axis=1) > 1]"
   ]
  },
  {
   "cell_type": "markdown",
   "metadata": {},
   "source": [
    "We've seen that we can use Boolean arrays to keep certain rows.  We can also use a list of indices.  Here we get the row at index `9` repeated four times."
   ]
  },
  {
   "cell_type": "code",
   "execution_count": 12,
   "metadata": {
    "cell_id": "0d5e827f40184bae8050dba2adea4859",
    "deepnote_cell_type": "code"
   },
   "outputs": [
    {
     "data": {
      "text/plain": [
       "array([[2, 2, 2],\n",
       "       [2, 2, 2],\n",
       "       [2, 2, 2],\n",
       "       [2, 2, 2]], dtype=int64)"
      ]
     },
     "execution_count": 12,
     "metadata": {},
     "output_type": "execute_result"
    }
   ],
   "source": [
    "arr[[9,9,9,9]]"
   ]
  },
  {
   "cell_type": "markdown",
   "metadata": {},
   "source": [
    "Here's a reminder of what `arr` is."
   ]
  },
  {
   "cell_type": "code",
   "execution_count": 27,
   "metadata": {
    "cell_id": "2ff42bd27c6546ceb276f2b2e92e496f",
    "deepnote_cell_type": "code"
   },
   "outputs": [
    {
     "data": {
      "text/plain": [
       "array([[3, 4, 0],\n",
       "       [2, 0, 1],\n",
       "       [2, 0, 2],\n",
       "       [4, 4, 2],\n",
       "       [2, 3, 4],\n",
       "       [4, 0, 3],\n",
       "       [3, 0, 2],\n",
       "       [4, 3, 1],\n",
       "       [1, 3, 0],\n",
       "       [2, 2, 2]], dtype=int64)"
      ]
     },
     "execution_count": 27,
     "metadata": {},
     "output_type": "execute_result"
    }
   ],
   "source": [
    "arr"
   ]
  },
  {
   "cell_type": "markdown",
   "metadata": {},
   "source": [
    "Why did we use the double square brackets above?  The outer square brackets are for indexing.  The inner square brackets are for a list.  Why do we need the list inside?  Here is what happens if we omit the inner square brackets.  The `8` gets us to the row at index `8`, and the `1` gets to the element at index `1` in that row.  (Remember that numbering in Python starts at 0.)"
   ]
  },
  {
   "cell_type": "code",
   "execution_count": 28,
   "metadata": {
    "cell_id": "24bff91fa5984ff1973a762726a8b780",
    "deepnote_cell_type": "code"
   },
   "outputs": [
    {
     "data": {
      "text/plain": [
       "3"
      ]
     },
     "execution_count": 28,
     "metadata": {},
     "output_type": "execute_result"
    }
   ],
   "source": [
    "arr[8,1]"
   ]
  },
  {
   "cell_type": "markdown",
   "metadata": {},
   "source": [
    "On the other hand, if we use a list on the inside for indexing, then we get the row at index `8` followed by the row at index `1`."
   ]
  },
  {
   "cell_type": "code",
   "execution_count": 29,
   "metadata": {
    "cell_id": "aa3d8ddc4b484a51827e1f743c2586ca",
    "deepnote_cell_type": "code"
   },
   "outputs": [
    {
     "data": {
      "text/plain": [
       "array([[1, 3, 0],\n",
       "       [2, 0, 1]], dtype=int64)"
      ]
     },
     "execution_count": 29,
     "metadata": {},
     "output_type": "execute_result"
    }
   ],
   "source": [
    "arr[[8,1]]"
   ]
  },
  {
   "cell_type": "markdown",
   "metadata": {},
   "source": [
    "There was a question about whether we can do the same sort of thing with columns.  Here is the shortest way I know; there could be an abbreviated way to do the same thing."
   ]
  },
  {
   "cell_type": "code",
   "execution_count": 30,
   "metadata": {
    "cell_id": "cc1641ffe4bd481aa1ee21631c8e4f3a",
    "deepnote_cell_type": "code"
   },
   "outputs": [
    {
     "data": {
      "text/plain": [
       "array([[3, 4, 4, 4, 3],\n",
       "       [2, 0, 0, 0, 2],\n",
       "       [2, 0, 0, 0, 2],\n",
       "       [4, 4, 4, 4, 4],\n",
       "       [2, 3, 3, 3, 2],\n",
       "       [4, 0, 0, 0, 4],\n",
       "       [3, 0, 0, 0, 3],\n",
       "       [4, 3, 3, 3, 4],\n",
       "       [1, 3, 3, 3, 1],\n",
       "       [2, 2, 2, 2, 2]], dtype=int64)"
      ]
     },
     "execution_count": 30,
     "metadata": {},
     "output_type": "execute_result"
    }
   ],
   "source": [
    "arr[:, [0,1,1,1,0]]"
   ]
  },
  {
   "cell_type": "markdown",
   "metadata": {},
   "source": [
    "Here is a more basic example of Boolean indexing, because it's a one-dimensional array."
   ]
  },
  {
   "cell_type": "code",
   "execution_count": 13,
   "metadata": {
    "cell_id": "ea1901d47dc946feacc784903a55afeb",
    "deepnote_cell_type": "code"
   },
   "outputs": [],
   "source": [
    "b = np.array([2,1,4,1,5,2])"
   ]
  },
  {
   "cell_type": "markdown",
   "metadata": {
    "tags": []
   },
   "source": [
    "We are keeping three of these values and discarding the rest."
   ]
  },
  {
   "cell_type": "code",
   "execution_count": 14,
   "metadata": {
    "cell_id": "a9c70871e8ad4ce2ba766011d71472c1",
    "deepnote_cell_type": "code"
   },
   "outputs": [
    {
     "data": {
      "text/plain": [
       "array([2, 5, 2])"
      ]
     },
     "execution_count": 14,
     "metadata": {},
     "output_type": "execute_result"
    }
   ],
   "source": [
    "b[[True, False, False, False, True, True]]"
   ]
  },
  {
   "cell_type": "markdown",
   "metadata": {
    "cell_id": "818743d1346443e69e210580074f96b1",
    "deepnote_cell_type": "markdown"
   },
   "source": [
    "## Another example of the `axis` keyword argument"
   ]
  },
  {
   "cell_type": "markdown",
   "metadata": {
    "cell_id": "c1a3997ff3a04d52b99ef5cb17fa1cd5",
    "deepnote_cell_type": "markdown"
   },
   "source": [
    "* What is the result of evaluating the following?\n",
    "* `arr.max()`\n",
    "* `arr.max(axis=0)` \n",
    "* `arr.max(axis=1)`"
   ]
  },
  {
   "cell_type": "code",
   "execution_count": 15,
   "metadata": {
    "cell_id": "94f3e1bb26ff459688e75b7957c0a882",
    "deepnote_cell_type": "code"
   },
   "outputs": [
    {
     "data": {
      "text/plain": [
       "array([[3, 4, 0],\n",
       "       [2, 0, 1],\n",
       "       [2, 0, 2],\n",
       "       [4, 4, 2],\n",
       "       [2, 3, 4],\n",
       "       [4, 0, 3],\n",
       "       [3, 0, 2],\n",
       "       [4, 3, 1],\n",
       "       [1, 3, 0],\n",
       "       [2, 2, 2]], dtype=int64)"
      ]
     },
     "execution_count": 15,
     "metadata": {},
     "output_type": "execute_result"
    }
   ],
   "source": [
    "arr"
   ]
  },
  {
   "cell_type": "markdown",
   "metadata": {},
   "source": [
    "If we use `max()` without any `axis` argument, it returns the overall maximum in the array.  This `max` (like `sum` above) is an example of a method.  Methods are types of functions in Python, but they're functions which are attached to an object.  This `max` method and the `sum` method above are attached to NumPy array objects."
   ]
  },
  {
   "cell_type": "code",
   "execution_count": 16,
   "metadata": {
    "cell_id": "05a4cdfd5f7a4aee88ec0a263d119954",
    "deepnote_cell_type": "code"
   },
   "outputs": [
    {
     "data": {
      "text/plain": [
       "4"
      ]
     },
     "execution_count": 16,
     "metadata": {},
     "output_type": "execute_result"
    }
   ],
   "source": [
    "# max method\n",
    "arr.max() "
   ]
  },
  {
   "cell_type": "markdown",
   "metadata": {},
   "source": [
    "For now, don't worry about memorizing the difference between `axis=0` and `axis=1`, but you should recognize that one of them is getting the maximum of each column, and one of them is getting the maximum of each row.\n",
    "\n",
    "The strategy I use to remember, is that `axis=0` gives permission to change the rows axis.  (Why does \"rows\" correspond to `axis=0`?  For example, when we say 10x3, the 10 refers to rows.)\n",
    "\n",
    "The following is saying that all three columns have a maximum of `4`."
   ]
  },
  {
   "cell_type": "code",
   "execution_count": 17,
   "metadata": {
    "cell_id": "61e3540212fe4193ba061bcd73de152b",
    "deepnote_cell_type": "code"
   },
   "outputs": [
    {
     "data": {
      "text/plain": [
       "array([4, 4, 4], dtype=int64)"
      ]
     },
     "execution_count": 17,
     "metadata": {},
     "output_type": "execute_result"
    }
   ],
   "source": [
    "arr.max(axis=0)"
   ]
  },
  {
   "cell_type": "markdown",
   "metadata": {},
   "source": [
    "The following is length 10 because there are 10 rows.  The top row has a maximum of `4`, the next row has a maximum of `2`, and so on."
   ]
  },
  {
   "cell_type": "code",
   "execution_count": 18,
   "metadata": {
    "cell_id": "13344cc7a76a414a9d2ef440fc3f8c75",
    "deepnote_cell_type": "code"
   },
   "outputs": [
    {
     "data": {
      "text/plain": [
       "array([4, 2, 2, 4, 4, 4, 3, 4, 3, 2], dtype=int64)"
      ]
     },
     "execution_count": 18,
     "metadata": {},
     "output_type": "execute_result"
    }
   ],
   "source": [
    "arr.max(axis=1)"
   ]
  },
  {
   "cell_type": "markdown",
   "metadata": {},
   "source": [
    "There is also a `min` method."
   ]
  },
  {
   "cell_type": "code",
   "execution_count": 19,
   "metadata": {
    "cell_id": "8d2cb973b2e94e289a6416a0c61d001f",
    "deepnote_cell_type": "code"
   },
   "outputs": [
    {
     "data": {
      "text/plain": [
       "array([0, 0, 0, 2, 2, 0, 0, 1, 0, 2], dtype=int64)"
      ]
     },
     "execution_count": 19,
     "metadata": {},
     "output_type": "execute_result"
    }
   ],
   "source": [
    "arr.min(axis=1)"
   ]
  },
  {
   "cell_type": "markdown",
   "metadata": {},
   "source": [
    "There is also a `mean` method.  Here we are finding the `mean` of each row."
   ]
  },
  {
   "cell_type": "code",
   "execution_count": 20,
   "metadata": {
    "cell_id": "ad76e0a8c5cd4f6fb4bd6d6b6df2683f",
    "deepnote_cell_type": "code"
   },
   "outputs": [
    {
     "data": {
      "text/plain": [
       "array([2.33333333, 1.        , 1.33333333, 3.33333333, 3.        ,\n",
       "       2.33333333, 1.66666667, 2.66666667, 1.33333333, 2.        ])"
      ]
     },
     "execution_count": 20,
     "metadata": {},
     "output_type": "execute_result"
    }
   ],
   "source": [
    "arr.mean(axis=1)"
   ]
  },
  {
   "cell_type": "markdown",
   "metadata": {
    "cell_id": "42ffa653f9b540aeaef61d7710caa23a",
    "deepnote_cell_type": "markdown"
   },
   "source": [
    "* In how many rows of `arr` is the maximum entry in that row `2` or less?\n",
    "\n",
    "First we find the maximum in each row."
   ]
  },
  {
   "cell_type": "code",
   "execution_count": 23,
   "metadata": {
    "cell_id": "ced47eac9b0a403abf2c84689809a6c1",
    "deepnote_cell_type": "code"
   },
   "outputs": [
    {
     "data": {
      "text/plain": [
       "array([4, 2, 2, 4, 4, 4, 3, 4, 3, 2], dtype=int64)"
      ]
     },
     "execution_count": 23,
     "metadata": {},
     "output_type": "execute_result"
    }
   ],
   "source": [
    "rowmax = arr.max(axis=1)\n",
    "rowmax"
   ]
  },
  {
   "cell_type": "markdown",
   "metadata": {},
   "source": [
    "Now we create a Boolean array, indicating if the maximum is less than or equal to `2` or not."
   ]
  },
  {
   "cell_type": "code",
   "execution_count": 24,
   "metadata": {
    "cell_id": "009ec281ac4446479d02e696fda9b8c1",
    "deepnote_cell_type": "code"
   },
   "outputs": [
    {
     "data": {
      "text/plain": [
       "array([False,  True,  True, False, False, False, False, False, False,\n",
       "        True])"
      ]
     },
     "execution_count": 24,
     "metadata": {},
     "output_type": "execute_result"
    }
   ],
   "source": [
    "(rowmax <= 2)"
   ]
  },
  {
   "cell_type": "markdown",
   "metadata": {},
   "source": [
    "Now we count.  (A general rule of thumb, if we're counting, probably a `sum` will be used.  If we're getting a subarray or sub-DataFrame, probably Boolean indexing will be used.)"
   ]
  },
  {
   "cell_type": "code",
   "execution_count": 25,
   "metadata": {
    "cell_id": "5fee549fd0d348d398dc1a983e8042f3",
    "deepnote_cell_type": "code"
   },
   "outputs": [
    {
     "data": {
      "text/plain": [
       "3"
      ]
     },
     "execution_count": 25,
     "metadata": {},
     "output_type": "execute_result"
    }
   ],
   "source": [
    "sum(rowmax <= 2)"
   ]
  },
  {
   "cell_type": "markdown",
   "metadata": {},
   "source": [
    "Here is the Boolean indexing version of what we just did.  The `3` on the previous line corresponds to this array having 3 rows."
   ]
  },
  {
   "cell_type": "code",
   "execution_count": 26,
   "metadata": {
    "cell_id": "1c187068a57641bab4a97b057db1446b",
    "deepnote_cell_type": "code"
   },
   "outputs": [
    {
     "data": {
      "text/plain": [
       "array([[2, 0, 1],\n",
       "       [2, 0, 2],\n",
       "       [2, 2, 2]], dtype=int64)"
      ]
     },
     "execution_count": 26,
     "metadata": {},
     "output_type": "execute_result"
    }
   ],
   "source": [
    "# Boolean indexing version\n",
    "arr[rowmax <= 2]"
   ]
  },
  {
   "cell_type": "markdown",
   "metadata": {
    "cell_id": "a6c3819092ec436a8778027415427213",
    "deepnote_cell_type": "markdown"
   },
   "source": [
    "## Functions in Python"
   ]
  },
  {
   "cell_type": "markdown",
   "metadata": {
    "cell_id": "78013e8e21c94ebbbbdc906bbda2fea4",
    "deepnote_cell_type": "markdown"
   },
   "source": [
    "* Write a function `getsub` which takes two inputs, a NumPy `arr` and an integer `n`, and as output returns the subarray of `arr` containing all rows with at least two entries equal to `n`.\n",
    "\n",
    "Here is the syntax for writing a function with two input arguments.  Be sure you are using the `return` statement to indicate what should be returned."
   ]
  },
  {
   "cell_type": "code",
   "execution_count": 31,
   "metadata": {
    "cell_id": "c3465850abaf4052967a3cc165493a6e",
    "deepnote_cell_type": "code"
   },
   "outputs": [],
   "source": [
    "def getsub(arr, n):\n",
    "    cts = (arr == n).sum(axis=1)\n",
    "    subarr = arr[cts >= 2] # Boolean indexing\n",
    "    return subarr"
   ]
  },
  {
   "cell_type": "markdown",
   "metadata": {},
   "source": [
    "Let's check this, but now with a much bigger array (100 rows) than what we were using above."
   ]
  },
  {
   "cell_type": "code",
   "execution_count": 32,
   "metadata": {
    "cell_id": "302c6841705d4791ab90554bb1509276",
    "deepnote_cell_type": "code"
   },
   "outputs": [],
   "source": [
    "rng = np.random.default_rng(seed=100)\n",
    "arr = rng.integers(0, 5, size=(100,3))"
   ]
  },
  {
   "cell_type": "code",
   "execution_count": 35,
   "metadata": {
    "cell_id": "206d96661e1c4b1f86475369dc24fcf8",
    "deepnote_cell_type": "code",
    "tags": [
     "output_scroll"
    ]
   },
   "outputs": [
    {
     "data": {
      "text/plain": [
       "array([[3, 4, 0],\n",
       "       [2, 0, 1],\n",
       "       [2, 0, 2],\n",
       "       [4, 4, 2],\n",
       "       [2, 3, 4],\n",
       "       [4, 0, 3],\n",
       "       [3, 0, 2],\n",
       "       [4, 3, 1],\n",
       "       [1, 3, 0],\n",
       "       [2, 2, 2],\n",
       "       [3, 2, 3],\n",
       "       [4, 0, 2],\n",
       "       [0, 3, 0],\n",
       "       [2, 1, 4],\n",
       "       [2, 4, 4],\n",
       "       [1, 2, 1],\n",
       "       [4, 4, 2],\n",
       "       [3, 4, 3],\n",
       "       [3, 2, 4],\n",
       "       [1, 3, 0],\n",
       "       [3, 3, 0],\n",
       "       [0, 4, 1],\n",
       "       [4, 3, 0],\n",
       "       [0, 0, 4],\n",
       "       [2, 0, 1],\n",
       "       [2, 4, 2],\n",
       "       [3, 1, 4],\n",
       "       [4, 2, 1],\n",
       "       [4, 2, 3],\n",
       "       [4, 2, 3],\n",
       "       [2, 1, 1],\n",
       "       [0, 0, 4],\n",
       "       [4, 2, 0],\n",
       "       [2, 1, 2],\n",
       "       [2, 0, 3],\n",
       "       [2, 4, 2],\n",
       "       [3, 2, 1],\n",
       "       [0, 2, 3],\n",
       "       [0, 0, 4],\n",
       "       [1, 3, 0],\n",
       "       [0, 3, 0],\n",
       "       [2, 4, 2],\n",
       "       [4, 0, 0],\n",
       "       [2, 2, 1],\n",
       "       [1, 1, 3],\n",
       "       [1, 3, 3],\n",
       "       [1, 3, 1],\n",
       "       [1, 0, 3],\n",
       "       [4, 2, 3],\n",
       "       [3, 1, 1],\n",
       "       [1, 4, 2],\n",
       "       [3, 4, 0],\n",
       "       [3, 2, 4],\n",
       "       [3, 3, 3],\n",
       "       [4, 2, 1],\n",
       "       [1, 4, 3],\n",
       "       [2, 3, 2],\n",
       "       [2, 1, 0],\n",
       "       [1, 3, 3],\n",
       "       [3, 1, 4],\n",
       "       [2, 4, 3],\n",
       "       [1, 0, 4],\n",
       "       [2, 3, 3],\n",
       "       [4, 3, 2],\n",
       "       [3, 4, 1],\n",
       "       [2, 1, 1],\n",
       "       [3, 4, 3],\n",
       "       [1, 1, 1],\n",
       "       [1, 0, 2],\n",
       "       [0, 3, 1],\n",
       "       [2, 1, 2],\n",
       "       [3, 2, 0],\n",
       "       [0, 4, 3],\n",
       "       [4, 2, 4],\n",
       "       [4, 3, 1],\n",
       "       [3, 3, 3],\n",
       "       [4, 4, 1],\n",
       "       [4, 4, 1],\n",
       "       [3, 4, 3],\n",
       "       [4, 0, 3],\n",
       "       [3, 3, 3],\n",
       "       [3, 0, 3],\n",
       "       [1, 4, 1],\n",
       "       [1, 0, 2],\n",
       "       [3, 1, 1],\n",
       "       [3, 2, 0],\n",
       "       [3, 2, 4],\n",
       "       [2, 4, 1],\n",
       "       [3, 2, 0],\n",
       "       [1, 2, 4],\n",
       "       [3, 1, 3],\n",
       "       [4, 0, 4],\n",
       "       [1, 1, 1],\n",
       "       [1, 0, 3],\n",
       "       [4, 1, 3],\n",
       "       [0, 3, 1],\n",
       "       [3, 0, 1],\n",
       "       [2, 2, 4],\n",
       "       [0, 2, 2],\n",
       "       [0, 1, 3]], dtype=int64)"
      ]
     },
     "execution_count": 35,
     "metadata": {},
     "output_type": "execute_result"
    }
   ],
   "source": [
    "arr"
   ]
  },
  {
   "cell_type": "markdown",
   "metadata": {},
   "source": [
    "There aren't any `5` values in this array, so that's why the following returns an empty array."
   ]
  },
  {
   "cell_type": "code",
   "execution_count": 33,
   "metadata": {
    "cell_id": "3bdfe8ccb67047b6a5cf51bd9ac2d7dd",
    "deepnote_cell_type": "code"
   },
   "outputs": [
    {
     "data": {
      "text/plain": [
       "array([], shape=(0, 3), dtype=int64)"
      ]
     },
     "execution_count": 33,
     "metadata": {},
     "output_type": "execute_result"
    }
   ],
   "source": [
    "getsub(arr,5)"
   ]
  },
  {
   "cell_type": "markdown",
   "metadata": {},
   "source": [
    "Here is the sub-array containing all the rows which have at least two 4s."
   ]
  },
  {
   "cell_type": "code",
   "execution_count": 34,
   "metadata": {
    "cell_id": "bdc71446fd86410589f769da5a0d98d5",
    "deepnote_cell_type": "code"
   },
   "outputs": [
    {
     "data": {
      "text/plain": [
       "array([[4, 4, 2],\n",
       "       [2, 4, 4],\n",
       "       [4, 4, 2],\n",
       "       [4, 2, 4],\n",
       "       [4, 4, 1],\n",
       "       [4, 4, 1],\n",
       "       [4, 0, 4]], dtype=int64)"
      ]
     },
     "execution_count": 34,
     "metadata": {},
     "output_type": "execute_result"
    }
   ],
   "source": [
    "getsub(arr,4)"
   ]
  },
  {
   "cell_type": "markdown",
   "metadata": {
    "cell_id": "b743f96b89b14a0da3ab5f5f4a89208b",
    "deepnote_cell_type": "markdown"
   },
   "source": [
    "(If there's extra time.)\n",
    "* Can you write the same function using a for loop?  (**Warning**.  This for-loop approach is definitely worse.  It is both less elegant and less efficient.  It's just for practice with some different Python syntax.)"
   ]
  },
  {
   "cell_type": "markdown",
   "metadata": {
    "cell_id": "e92e29650d484eb8b3ca303b6fc10ce8",
    "deepnote_cell_type": "markdown"
   },
   "source": [
    "## Time to work on Worksheets 1-2\n",
    "\n",
    "* Yufei and I are here to help.\n",
    "* I have another class at 2pm, so if you have questions, ask me now rather than after class!"
   ]
  }
 ],
 "metadata": {
  "deepnote": {},
  "deepnote_execution_queue": [],
  "deepnote_notebook_id": "184225a52a4f40dd8cf754237106b13f",
  "deepnote_persisted_session": {
   "createdAt": "2023-04-07T17:26:59.326Z"
  },
  "kernelspec": {
   "display_name": "Python 3 (ipykernel)",
   "language": "python",
   "name": "python3"
  },
  "language_info": {
   "codemirror_mode": {
    "name": "ipython",
    "version": 3
   },
   "file_extension": ".py",
   "mimetype": "text/x-python",
   "name": "python",
   "nbconvert_exporter": "python",
   "pygments_lexer": "ipython3",
   "version": "3.9.16"
  }
 },
 "nbformat": 4,
 "nbformat_minor": 4
}
