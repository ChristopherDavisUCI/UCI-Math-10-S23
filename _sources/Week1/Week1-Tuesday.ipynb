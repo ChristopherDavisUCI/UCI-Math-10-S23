{
 "cells": [
  {
   "cell_type": "markdown",
   "metadata": {
    "cell_id": "fb7ebfead4a048d8ab8c64c198824989",
    "deepnote_cell_type": "markdown",
    "tags": []
   },
   "source": [
    "# Week 1 Tuesday\n",
    "\n",
    "Overall question for today (we will need some new techniques to answer it).\n",
    "* In the vending machines dataset, how many transactions occurred on Saturday?\n",
    "\n",
    "We'll our solution into two parts.\n",
    "1. How to determine if a string corresponds to Saturday.\n",
    "2. How to determine how many elements in a pandas Series correspond to Saturday."
   ]
  },
  {
   "cell_type": "code",
   "execution_count": 2,
   "metadata": {
    "cell_id": "d6573d852210400196955512e92fa268",
    "deepnote_cell_type": "code",
    "deepnote_to_be_reexecuted": false,
    "execution_millis": 0,
    "execution_start": 1664319231407,
    "source_hash": "9b82ee11",
    "tags": []
   },
   "outputs": [],
   "source": [
    "import pandas as pd"
   ]
  },
  {
   "cell_type": "code",
   "execution_count": 3,
   "metadata": {
    "cell_id": "87c701155fef4ed7b3cac35d25b1af65",
    "deepnote_cell_type": "code",
    "deepnote_to_be_reexecuted": false,
    "execution_millis": 21,
    "execution_start": 1664319232214,
    "source_hash": "ef6375d",
    "tags": []
   },
   "outputs": [],
   "source": [
    "df = pd.read_csv(\"vend.csv\")"
   ]
  },
  {
   "cell_type": "markdown",
   "metadata": {},
   "source": [
    "Let's remind our selves what this DataFrame looks like.  In the following, we've made a common mistake, and you'll be well-served to be able to recognize it."
   ]
  },
  {
   "cell_type": "code",
   "execution_count": 4,
   "metadata": {
    "cell_id": "461faa370a524fe69652c6020c3d1b1b",
    "deepnote_cell_type": "code",
    "deepnote_to_be_reexecuted": false,
    "execution_millis": 11,
    "execution_start": 1664319701434,
    "source_hash": "bae72348",
    "tags": [
     "output_scroll"
    ]
   },
   "outputs": [
    {
     "data": {
      "text/plain": [
       "<bound method NDFrame.head of          Status    Device ID           Location                  Machine  \\\n",
       "0     Processed  VJ300320611  Brunswick Sq Mall     BSQ Mall x1366 - ATT   \n",
       "1     Processed  VJ300320611  Brunswick Sq Mall     BSQ Mall x1366 - ATT   \n",
       "2     Processed  VJ300320611  Brunswick Sq Mall     BSQ Mall x1366 - ATT   \n",
       "3     Processed  VJ300320611  Brunswick Sq Mall     BSQ Mall x1366 - ATT   \n",
       "4     Processed  VJ300320611  Brunswick Sq Mall     BSQ Mall x1366 - ATT   \n",
       "...         ...          ...                ...                      ...   \n",
       "6440  Processed  VJ300320692  EB Public Library  EB Public Library x1380   \n",
       "6441  Processed  VJ300320692  EB Public Library  EB Public Library x1380   \n",
       "6442  Processed  VJ300320692  EB Public Library  EB Public Library x1380   \n",
       "6443  Processed  VJ300320609        GuttenPlans        GuttenPlans x1367   \n",
       "6444  Processed  VJ300320692  EB Public Library  EB Public Library x1380   \n",
       "\n",
       "                                   Product        Category  Transaction  \\\n",
       "0     Red Bull - Energy Drink - Sugar Free      Carbonated  14515778905   \n",
       "1     Red Bull - Energy Drink - Sugar Free      Carbonated  14516018629   \n",
       "2         Takis - Hot Chilli Pepper & Lime            Food  14516018629   \n",
       "3         Takis - Hot Chilli Pepper & Lime            Food  14516020373   \n",
       "4     Red Bull - Energy Drink - Sugar Free      Carbonated  14516021756   \n",
       "...                                    ...             ...          ...   \n",
       "6440          Lindens - Chocolate Chippers            Food  15603201222   \n",
       "6441        Wonderful Pistachios - Variety            Food  15603201222   \n",
       "6442        Hungry Buddha - Chocolate Chip            Food  15603201222   \n",
       "6443                   Snapple Tea - Lemon  Non Carbonated  15603853105   \n",
       "6444              Goldfish Baked - Cheddar            Food  15603921383   \n",
       "\n",
       "                       TransDate    Type  RCoil  RPrice  RQty  MCoil  MPrice  \\\n",
       "0      Saturday, January 1, 2022  Credit    148     3.5     1    148     3.5   \n",
       "1      Saturday, January 1, 2022  Credit    148     3.5     1    148     3.5   \n",
       "2      Saturday, January 1, 2022  Credit    123     1.5     1    123     1.5   \n",
       "3      Saturday, January 1, 2022  Credit    123     1.5     1    123     1.5   \n",
       "4      Saturday, January 1, 2022  Credit    148     3.5     1    148     3.5   \n",
       "...                          ...     ...    ...     ...   ...    ...     ...   \n",
       "6440  Wednesday, August 31, 2022  Credit    122     2.0     1    122     2.0   \n",
       "6441  Wednesday, August 31, 2022  Credit    131     2.0     1    131     2.0   \n",
       "6442  Wednesday, August 31, 2022  Credit    137     2.0     1    137     2.0   \n",
       "6443  Wednesday, August 31, 2022  Credit    145     2.5     1    145     2.5   \n",
       "6444  Wednesday, August 31, 2022    Cash    125     1.5     1    125     1.5   \n",
       "\n",
       "      MQty  LineTotal  TransTotal  Prcd Date  \n",
       "0        1        3.5         3.5   1/1/2022  \n",
       "1        1        3.5         5.0   1/1/2022  \n",
       "2        1        1.5         5.0   1/1/2022  \n",
       "3        1        1.5         1.5   1/1/2022  \n",
       "4        1        3.5         3.5   1/1/2022  \n",
       "...    ...        ...         ...        ...  \n",
       "6440     1        2.0         6.0  8/31/2022  \n",
       "6441     1        2.0         6.0  8/31/2022  \n",
       "6442     1        2.0         6.0  8/31/2022  \n",
       "6443     1        2.5         2.5  8/31/2022  \n",
       "6444     1        1.5         1.5  8/31/2022  \n",
       "\n",
       "[6445 rows x 18 columns]>"
      ]
     },
     "execution_count": 4,
     "metadata": {},
     "output_type": "execute_result"
    }
   ],
   "source": [
    "df.head"
   ]
  },
  {
   "cell_type": "markdown",
   "metadata": {},
   "source": [
    "If you look at the very first few words displayed in the output above, `<bound method ...`, that is a hint that we have forgotten to evaluate the function by using parentheses.  We need to use `df.head()` rather than `df.head`.  (The former, `df.head()`, is treating `head` as a method, which is correct.  The latter, `df.head`, is treating `head` as an attribute.)\n",
    "\n",
    "In a Math 10 quiz or exam, you're not expected to have memorized when parentheses are necessary, but if you see an incorrect output like the above, you might be expected to recognize what has gone wrong.  And when completing the worksheets, it is very important to be able to correct these sorts of errors.\n",
    "\n",
    "Here is a correct use of `df.head()`."
   ]
  },
  {
   "cell_type": "code",
   "execution_count": 5,
   "metadata": {
    "cell_id": "dfb3bfcb9ddd448a9ef245162fb5b254",
    "deepnote_cell_type": "code",
    "deepnote_to_be_reexecuted": false,
    "execution_millis": 41,
    "execution_start": 1664319769324,
    "source_hash": "c085b6ba",
    "tags": [
     "output_scroll"
    ]
   },
   "outputs": [
    {
     "data": {
      "application/vnd.deepnote.dataframe.v3+json": {
       "column_count": 18,
       "columns": [
        {
         "dtype": "object",
         "name": "Status",
         "stats": {
          "categories": [
           {
            "count": 5,
            "name": "Processed"
           }
          ],
          "nan_count": 0,
          "unique_count": 1
         }
        },
        {
         "dtype": "object",
         "name": "Device ID",
         "stats": {
          "categories": [
           {
            "count": 5,
            "name": "VJ300320611"
           }
          ],
          "nan_count": 0,
          "unique_count": 1
         }
        },
        {
         "dtype": "object",
         "name": "Location",
         "stats": {
          "categories": [
           {
            "count": 5,
            "name": "Brunswick Sq Mall"
           }
          ],
          "nan_count": 0,
          "unique_count": 1
         }
        },
        {
         "dtype": "object",
         "name": "Machine",
         "stats": {
          "categories": [
           {
            "count": 5,
            "name": "BSQ Mall x1366 - ATT"
           }
          ],
          "nan_count": 0,
          "unique_count": 1
         }
        },
        {
         "dtype": "object",
         "name": "Product",
         "stats": {
          "categories": [
           {
            "count": 3,
            "name": "Red Bull - Energy Drink - Sugar Free"
           },
           {
            "count": 2,
            "name": "Takis - Hot Chilli Pepper & Lime"
           }
          ],
          "nan_count": 0,
          "unique_count": 2
         }
        },
        {
         "dtype": "object",
         "name": "Category",
         "stats": {
          "categories": [
           {
            "count": 3,
            "name": "Carbonated"
           },
           {
            "count": 2,
            "name": "Food"
           }
          ],
          "nan_count": 0,
          "unique_count": 2
         }
        },
        {
         "dtype": "int64",
         "name": "Transaction",
         "stats": {
          "histogram": [
           {
            "bin_end": 14515803190.1,
            "bin_start": 14515778905,
            "count": 1
           },
           {
            "bin_end": 14515827475.2,
            "bin_start": 14515803190.1,
            "count": 0
           },
           {
            "bin_end": 14515851760.3,
            "bin_start": 14515827475.2,
            "count": 0
           },
           {
            "bin_end": 14515876045.4,
            "bin_start": 14515851760.3,
            "count": 0
           },
           {
            "bin_end": 14515900330.5,
            "bin_start": 14515876045.4,
            "count": 0
           },
           {
            "bin_end": 14515924615.6,
            "bin_start": 14515900330.5,
            "count": 0
           },
           {
            "bin_end": 14515948900.7,
            "bin_start": 14515924615.6,
            "count": 0
           },
           {
            "bin_end": 14515973185.8,
            "bin_start": 14515948900.7,
            "count": 0
           },
           {
            "bin_end": 14515997470.9,
            "bin_start": 14515973185.8,
            "count": 0
           },
           {
            "bin_end": 14516021756,
            "bin_start": 14515997470.9,
            "count": 4
           }
          ],
          "max": "14516021756",
          "min": "14515778905",
          "nan_count": 0,
          "unique_count": 4
         }
        },
        {
         "dtype": "object",
         "name": "TransDate",
         "stats": {
          "categories": [
           {
            "count": 5,
            "name": "Saturday, January 1, 2022"
           }
          ],
          "nan_count": 0,
          "unique_count": 1
         }
        },
        {
         "dtype": "object",
         "name": "Type",
         "stats": {
          "categories": [
           {
            "count": 5,
            "name": "Credit"
           }
          ],
          "nan_count": 0,
          "unique_count": 1
         }
        },
        {
         "dtype": "int64",
         "name": "RCoil",
         "stats": {
          "histogram": [
           {
            "bin_end": 125.5,
            "bin_start": 123,
            "count": 2
           },
           {
            "bin_end": 128,
            "bin_start": 125.5,
            "count": 0
           },
           {
            "bin_end": 130.5,
            "bin_start": 128,
            "count": 0
           },
           {
            "bin_end": 133,
            "bin_start": 130.5,
            "count": 0
           },
           {
            "bin_end": 135.5,
            "bin_start": 133,
            "count": 0
           },
           {
            "bin_end": 138,
            "bin_start": 135.5,
            "count": 0
           },
           {
            "bin_end": 140.5,
            "bin_start": 138,
            "count": 0
           },
           {
            "bin_end": 143,
            "bin_start": 140.5,
            "count": 0
           },
           {
            "bin_end": 145.5,
            "bin_start": 143,
            "count": 0
           },
           {
            "bin_end": 148,
            "bin_start": 145.5,
            "count": 3
           }
          ],
          "max": "148",
          "min": "123",
          "nan_count": 0,
          "unique_count": 2
         }
        },
        {
         "dtype": "float64",
         "name": "RPrice",
         "stats": {
          "histogram": [
           {
            "bin_end": 1.7,
            "bin_start": 1.5,
            "count": 2
           },
           {
            "bin_end": 1.9,
            "bin_start": 1.7,
            "count": 0
           },
           {
            "bin_end": 2.1,
            "bin_start": 1.9,
            "count": 0
           },
           {
            "bin_end": 2.3,
            "bin_start": 2.1,
            "count": 0
           },
           {
            "bin_end": 2.5,
            "bin_start": 2.3,
            "count": 0
           },
           {
            "bin_end": 2.7,
            "bin_start": 2.5,
            "count": 0
           },
           {
            "bin_end": 2.9000000000000004,
            "bin_start": 2.7,
            "count": 0
           },
           {
            "bin_end": 3.1,
            "bin_start": 2.9000000000000004,
            "count": 0
           },
           {
            "bin_end": 3.3,
            "bin_start": 3.1,
            "count": 0
           },
           {
            "bin_end": 3.5,
            "bin_start": 3.3,
            "count": 3
           }
          ],
          "max": "3.5",
          "min": "1.5",
          "nan_count": 0,
          "unique_count": 2
         }
        },
        {
         "dtype": "int64",
         "name": "RQty",
         "stats": {
          "histogram": [
           {
            "bin_end": 0.6,
            "bin_start": 0.5,
            "count": 0
           },
           {
            "bin_end": 0.7,
            "bin_start": 0.6,
            "count": 0
           },
           {
            "bin_end": 0.8,
            "bin_start": 0.7,
            "count": 0
           },
           {
            "bin_end": 0.9,
            "bin_start": 0.8,
            "count": 0
           },
           {
            "bin_end": 1,
            "bin_start": 0.9,
            "count": 0
           },
           {
            "bin_end": 1.1,
            "bin_start": 1,
            "count": 5
           },
           {
            "bin_end": 1.2000000000000002,
            "bin_start": 1.1,
            "count": 0
           },
           {
            "bin_end": 1.3,
            "bin_start": 1.2000000000000002,
            "count": 0
           },
           {
            "bin_end": 1.4,
            "bin_start": 1.3,
            "count": 0
           },
           {
            "bin_end": 1.5,
            "bin_start": 1.4,
            "count": 0
           }
          ],
          "max": "1",
          "min": "1",
          "nan_count": 0,
          "unique_count": 1
         }
        },
        {
         "dtype": "int64",
         "name": "MCoil",
         "stats": {
          "histogram": [
           {
            "bin_end": 125.5,
            "bin_start": 123,
            "count": 2
           },
           {
            "bin_end": 128,
            "bin_start": 125.5,
            "count": 0
           },
           {
            "bin_end": 130.5,
            "bin_start": 128,
            "count": 0
           },
           {
            "bin_end": 133,
            "bin_start": 130.5,
            "count": 0
           },
           {
            "bin_end": 135.5,
            "bin_start": 133,
            "count": 0
           },
           {
            "bin_end": 138,
            "bin_start": 135.5,
            "count": 0
           },
           {
            "bin_end": 140.5,
            "bin_start": 138,
            "count": 0
           },
           {
            "bin_end": 143,
            "bin_start": 140.5,
            "count": 0
           },
           {
            "bin_end": 145.5,
            "bin_start": 143,
            "count": 0
           },
           {
            "bin_end": 148,
            "bin_start": 145.5,
            "count": 3
           }
          ],
          "max": "148",
          "min": "123",
          "nan_count": 0,
          "unique_count": 2
         }
        },
        {
         "dtype": "float64",
         "name": "MPrice",
         "stats": {
          "histogram": [
           {
            "bin_end": 1.7,
            "bin_start": 1.5,
            "count": 2
           },
           {
            "bin_end": 1.9,
            "bin_start": 1.7,
            "count": 0
           },
           {
            "bin_end": 2.1,
            "bin_start": 1.9,
            "count": 0
           },
           {
            "bin_end": 2.3,
            "bin_start": 2.1,
            "count": 0
           },
           {
            "bin_end": 2.5,
            "bin_start": 2.3,
            "count": 0
           },
           {
            "bin_end": 2.7,
            "bin_start": 2.5,
            "count": 0
           },
           {
            "bin_end": 2.9000000000000004,
            "bin_start": 2.7,
            "count": 0
           },
           {
            "bin_end": 3.1,
            "bin_start": 2.9000000000000004,
            "count": 0
           },
           {
            "bin_end": 3.3,
            "bin_start": 3.1,
            "count": 0
           },
           {
            "bin_end": 3.5,
            "bin_start": 3.3,
            "count": 3
           }
          ],
          "max": "3.5",
          "min": "1.5",
          "nan_count": 0,
          "unique_count": 2
         }
        },
        {
         "dtype": "int64",
         "name": "MQty",
         "stats": {
          "histogram": [
           {
            "bin_end": 0.6,
            "bin_start": 0.5,
            "count": 0
           },
           {
            "bin_end": 0.7,
            "bin_start": 0.6,
            "count": 0
           },
           {
            "bin_end": 0.8,
            "bin_start": 0.7,
            "count": 0
           },
           {
            "bin_end": 0.9,
            "bin_start": 0.8,
            "count": 0
           },
           {
            "bin_end": 1,
            "bin_start": 0.9,
            "count": 0
           },
           {
            "bin_end": 1.1,
            "bin_start": 1,
            "count": 5
           },
           {
            "bin_end": 1.2000000000000002,
            "bin_start": 1.1,
            "count": 0
           },
           {
            "bin_end": 1.3,
            "bin_start": 1.2000000000000002,
            "count": 0
           },
           {
            "bin_end": 1.4,
            "bin_start": 1.3,
            "count": 0
           },
           {
            "bin_end": 1.5,
            "bin_start": 1.4,
            "count": 0
           }
          ],
          "max": "1",
          "min": "1",
          "nan_count": 0,
          "unique_count": 1
         }
        },
        {
         "dtype": "float64",
         "name": "LineTotal",
         "stats": {
          "histogram": [
           {
            "bin_end": 1.7,
            "bin_start": 1.5,
            "count": 2
           },
           {
            "bin_end": 1.9,
            "bin_start": 1.7,
            "count": 0
           },
           {
            "bin_end": 2.1,
            "bin_start": 1.9,
            "count": 0
           },
           {
            "bin_end": 2.3,
            "bin_start": 2.1,
            "count": 0
           },
           {
            "bin_end": 2.5,
            "bin_start": 2.3,
            "count": 0
           },
           {
            "bin_end": 2.7,
            "bin_start": 2.5,
            "count": 0
           },
           {
            "bin_end": 2.9000000000000004,
            "bin_start": 2.7,
            "count": 0
           },
           {
            "bin_end": 3.1,
            "bin_start": 2.9000000000000004,
            "count": 0
           },
           {
            "bin_end": 3.3,
            "bin_start": 3.1,
            "count": 0
           },
           {
            "bin_end": 3.5,
            "bin_start": 3.3,
            "count": 3
           }
          ],
          "max": "3.5",
          "min": "1.5",
          "nan_count": 0,
          "unique_count": 2
         }
        },
        {
         "dtype": "float64",
         "name": "TransTotal",
         "stats": {
          "histogram": [
           {
            "bin_end": 1.85,
            "bin_start": 1.5,
            "count": 1
           },
           {
            "bin_end": 2.2,
            "bin_start": 1.85,
            "count": 0
           },
           {
            "bin_end": 2.55,
            "bin_start": 2.2,
            "count": 0
           },
           {
            "bin_end": 2.9,
            "bin_start": 2.55,
            "count": 0
           },
           {
            "bin_end": 3.25,
            "bin_start": 2.9,
            "count": 0
           },
           {
            "bin_end": 3.5999999999999996,
            "bin_start": 3.25,
            "count": 2
           },
           {
            "bin_end": 3.9499999999999997,
            "bin_start": 3.5999999999999996,
            "count": 0
           },
           {
            "bin_end": 4.3,
            "bin_start": 3.9499999999999997,
            "count": 0
           },
           {
            "bin_end": 4.65,
            "bin_start": 4.3,
            "count": 0
           },
           {
            "bin_end": 5,
            "bin_start": 4.65,
            "count": 2
           }
          ],
          "max": "5.0",
          "min": "1.5",
          "nan_count": 0,
          "unique_count": 3
         }
        },
        {
         "dtype": "object",
         "name": "Prcd Date",
         "stats": {
          "categories": [
           {
            "count": 5,
            "name": "1/1/2022"
           }
          ],
          "nan_count": 0,
          "unique_count": 1
         }
        },
        {
         "dtype": "int64",
         "name": "_deepnote_index_column"
        }
       ],
       "row_count": 5,
       "rows": [
        {
         "Category": "Carbonated",
         "Device ID": "VJ300320611",
         "LineTotal": "3.5",
         "Location": "Brunswick Sq Mall",
         "MCoil": "148",
         "MPrice": "3.5",
         "MQty": "1",
         "Machine": "BSQ Mall x1366 - ATT",
         "Prcd Date": "1/1/2022",
         "Product": "Red Bull - Energy Drink - Sugar Free",
         "RCoil": "148",
         "RPrice": "3.5",
         "RQty": "1",
         "Status": "Processed",
         "TransDate": "Saturday, January 1, 2022",
         "TransTotal": "3.5",
         "Transaction": "14515778905",
         "Type": "Credit",
         "_deepnote_index_column": "0"
        },
        {
         "Category": "Carbonated",
         "Device ID": "VJ300320611",
         "LineTotal": "3.5",
         "Location": "Brunswick Sq Mall",
         "MCoil": "148",
         "MPrice": "3.5",
         "MQty": "1",
         "Machine": "BSQ Mall x1366 - ATT",
         "Prcd Date": "1/1/2022",
         "Product": "Red Bull - Energy Drink - Sugar Free",
         "RCoil": "148",
         "RPrice": "3.5",
         "RQty": "1",
         "Status": "Processed",
         "TransDate": "Saturday, January 1, 2022",
         "TransTotal": "5.0",
         "Transaction": "14516018629",
         "Type": "Credit",
         "_deepnote_index_column": "1"
        },
        {
         "Category": "Food",
         "Device ID": "VJ300320611",
         "LineTotal": "1.5",
         "Location": "Brunswick Sq Mall",
         "MCoil": "123",
         "MPrice": "1.5",
         "MQty": "1",
         "Machine": "BSQ Mall x1366 - ATT",
         "Prcd Date": "1/1/2022",
         "Product": "Takis - Hot Chilli Pepper & Lime",
         "RCoil": "123",
         "RPrice": "1.5",
         "RQty": "1",
         "Status": "Processed",
         "TransDate": "Saturday, January 1, 2022",
         "TransTotal": "5.0",
         "Transaction": "14516018629",
         "Type": "Credit",
         "_deepnote_index_column": "2"
        },
        {
         "Category": "Food",
         "Device ID": "VJ300320611",
         "LineTotal": "1.5",
         "Location": "Brunswick Sq Mall",
         "MCoil": "123",
         "MPrice": "1.5",
         "MQty": "1",
         "Machine": "BSQ Mall x1366 - ATT",
         "Prcd Date": "1/1/2022",
         "Product": "Takis - Hot Chilli Pepper & Lime",
         "RCoil": "123",
         "RPrice": "1.5",
         "RQty": "1",
         "Status": "Processed",
         "TransDate": "Saturday, January 1, 2022",
         "TransTotal": "1.5",
         "Transaction": "14516020373",
         "Type": "Credit",
         "_deepnote_index_column": "3"
        },
        {
         "Category": "Carbonated",
         "Device ID": "VJ300320611",
         "LineTotal": "3.5",
         "Location": "Brunswick Sq Mall",
         "MCoil": "148",
         "MPrice": "3.5",
         "MQty": "1",
         "Machine": "BSQ Mall x1366 - ATT",
         "Prcd Date": "1/1/2022",
         "Product": "Red Bull - Energy Drink - Sugar Free",
         "RCoil": "148",
         "RPrice": "3.5",
         "RQty": "1",
         "Status": "Processed",
         "TransDate": "Saturday, January 1, 2022",
         "TransTotal": "3.5",
         "Transaction": "14516021756",
         "Type": "Credit",
         "_deepnote_index_column": "4"
        }
       ]
      },
      "text/html": [
       "<div>\n",
       "<style scoped>\n",
       "    .dataframe tbody tr th:only-of-type {\n",
       "        vertical-align: middle;\n",
       "    }\n",
       "\n",
       "    .dataframe tbody tr th {\n",
       "        vertical-align: top;\n",
       "    }\n",
       "\n",
       "    .dataframe thead th {\n",
       "        text-align: right;\n",
       "    }\n",
       "</style>\n",
       "<table border=\"1\" class=\"dataframe\">\n",
       "  <thead>\n",
       "    <tr style=\"text-align: right;\">\n",
       "      <th></th>\n",
       "      <th>Status</th>\n",
       "      <th>Device ID</th>\n",
       "      <th>Location</th>\n",
       "      <th>Machine</th>\n",
       "      <th>Product</th>\n",
       "      <th>Category</th>\n",
       "      <th>Transaction</th>\n",
       "      <th>TransDate</th>\n",
       "      <th>Type</th>\n",
       "      <th>RCoil</th>\n",
       "      <th>RPrice</th>\n",
       "      <th>RQty</th>\n",
       "      <th>MCoil</th>\n",
       "      <th>MPrice</th>\n",
       "      <th>MQty</th>\n",
       "      <th>LineTotal</th>\n",
       "      <th>TransTotal</th>\n",
       "      <th>Prcd Date</th>\n",
       "    </tr>\n",
       "  </thead>\n",
       "  <tbody>\n",
       "    <tr>\n",
       "      <th>0</th>\n",
       "      <td>Processed</td>\n",
       "      <td>VJ300320611</td>\n",
       "      <td>Brunswick Sq Mall</td>\n",
       "      <td>BSQ Mall x1366 - ATT</td>\n",
       "      <td>Red Bull - Energy Drink - Sugar Free</td>\n",
       "      <td>Carbonated</td>\n",
       "      <td>14515778905</td>\n",
       "      <td>Saturday, January 1, 2022</td>\n",
       "      <td>Credit</td>\n",
       "      <td>148</td>\n",
       "      <td>3.5</td>\n",
       "      <td>1</td>\n",
       "      <td>148</td>\n",
       "      <td>3.5</td>\n",
       "      <td>1</td>\n",
       "      <td>3.5</td>\n",
       "      <td>3.5</td>\n",
       "      <td>1/1/2022</td>\n",
       "    </tr>\n",
       "    <tr>\n",
       "      <th>1</th>\n",
       "      <td>Processed</td>\n",
       "      <td>VJ300320611</td>\n",
       "      <td>Brunswick Sq Mall</td>\n",
       "      <td>BSQ Mall x1366 - ATT</td>\n",
       "      <td>Red Bull - Energy Drink - Sugar Free</td>\n",
       "      <td>Carbonated</td>\n",
       "      <td>14516018629</td>\n",
       "      <td>Saturday, January 1, 2022</td>\n",
       "      <td>Credit</td>\n",
       "      <td>148</td>\n",
       "      <td>3.5</td>\n",
       "      <td>1</td>\n",
       "      <td>148</td>\n",
       "      <td>3.5</td>\n",
       "      <td>1</td>\n",
       "      <td>3.5</td>\n",
       "      <td>5.0</td>\n",
       "      <td>1/1/2022</td>\n",
       "    </tr>\n",
       "    <tr>\n",
       "      <th>2</th>\n",
       "      <td>Processed</td>\n",
       "      <td>VJ300320611</td>\n",
       "      <td>Brunswick Sq Mall</td>\n",
       "      <td>BSQ Mall x1366 - ATT</td>\n",
       "      <td>Takis - Hot Chilli Pepper &amp; Lime</td>\n",
       "      <td>Food</td>\n",
       "      <td>14516018629</td>\n",
       "      <td>Saturday, January 1, 2022</td>\n",
       "      <td>Credit</td>\n",
       "      <td>123</td>\n",
       "      <td>1.5</td>\n",
       "      <td>1</td>\n",
       "      <td>123</td>\n",
       "      <td>1.5</td>\n",
       "      <td>1</td>\n",
       "      <td>1.5</td>\n",
       "      <td>5.0</td>\n",
       "      <td>1/1/2022</td>\n",
       "    </tr>\n",
       "    <tr>\n",
       "      <th>3</th>\n",
       "      <td>Processed</td>\n",
       "      <td>VJ300320611</td>\n",
       "      <td>Brunswick Sq Mall</td>\n",
       "      <td>BSQ Mall x1366 - ATT</td>\n",
       "      <td>Takis - Hot Chilli Pepper &amp; Lime</td>\n",
       "      <td>Food</td>\n",
       "      <td>14516020373</td>\n",
       "      <td>Saturday, January 1, 2022</td>\n",
       "      <td>Credit</td>\n",
       "      <td>123</td>\n",
       "      <td>1.5</td>\n",
       "      <td>1</td>\n",
       "      <td>123</td>\n",
       "      <td>1.5</td>\n",
       "      <td>1</td>\n",
       "      <td>1.5</td>\n",
       "      <td>1.5</td>\n",
       "      <td>1/1/2022</td>\n",
       "    </tr>\n",
       "    <tr>\n",
       "      <th>4</th>\n",
       "      <td>Processed</td>\n",
       "      <td>VJ300320611</td>\n",
       "      <td>Brunswick Sq Mall</td>\n",
       "      <td>BSQ Mall x1366 - ATT</td>\n",
       "      <td>Red Bull - Energy Drink - Sugar Free</td>\n",
       "      <td>Carbonated</td>\n",
       "      <td>14516021756</td>\n",
       "      <td>Saturday, January 1, 2022</td>\n",
       "      <td>Credit</td>\n",
       "      <td>148</td>\n",
       "      <td>3.5</td>\n",
       "      <td>1</td>\n",
       "      <td>148</td>\n",
       "      <td>3.5</td>\n",
       "      <td>1</td>\n",
       "      <td>3.5</td>\n",
       "      <td>3.5</td>\n",
       "      <td>1/1/2022</td>\n",
       "    </tr>\n",
       "  </tbody>\n",
       "</table>\n",
       "</div>"
      ],
      "text/plain": [
       "      Status    Device ID           Location               Machine  \\\n",
       "0  Processed  VJ300320611  Brunswick Sq Mall  BSQ Mall x1366 - ATT   \n",
       "1  Processed  VJ300320611  Brunswick Sq Mall  BSQ Mall x1366 - ATT   \n",
       "2  Processed  VJ300320611  Brunswick Sq Mall  BSQ Mall x1366 - ATT   \n",
       "3  Processed  VJ300320611  Brunswick Sq Mall  BSQ Mall x1366 - ATT   \n",
       "4  Processed  VJ300320611  Brunswick Sq Mall  BSQ Mall x1366 - ATT   \n",
       "\n",
       "                                Product    Category  Transaction  \\\n",
       "0  Red Bull - Energy Drink - Sugar Free  Carbonated  14515778905   \n",
       "1  Red Bull - Energy Drink - Sugar Free  Carbonated  14516018629   \n",
       "2      Takis - Hot Chilli Pepper & Lime        Food  14516018629   \n",
       "3      Takis - Hot Chilli Pepper & Lime        Food  14516020373   \n",
       "4  Red Bull - Energy Drink - Sugar Free  Carbonated  14516021756   \n",
       "\n",
       "                   TransDate    Type  RCoil  RPrice  RQty  MCoil  MPrice  \\\n",
       "0  Saturday, January 1, 2022  Credit    148     3.5     1    148     3.5   \n",
       "1  Saturday, January 1, 2022  Credit    148     3.5     1    148     3.5   \n",
       "2  Saturday, January 1, 2022  Credit    123     1.5     1    123     1.5   \n",
       "3  Saturday, January 1, 2022  Credit    123     1.5     1    123     1.5   \n",
       "4  Saturday, January 1, 2022  Credit    148     3.5     1    148     3.5   \n",
       "\n",
       "   MQty  LineTotal  TransTotal Prcd Date  \n",
       "0     1        3.5         3.5  1/1/2022  \n",
       "1     1        3.5         5.0  1/1/2022  \n",
       "2     1        1.5         5.0  1/1/2022  \n",
       "3     1        1.5         1.5  1/1/2022  \n",
       "4     1        3.5         3.5  1/1/2022  "
      ]
     },
     "execution_count": 5,
     "metadata": {},
     "output_type": "execute_result"
    }
   ],
   "source": [
    "df.head()"
   ]
  },
  {
   "cell_type": "markdown",
   "metadata": {},
   "source": [
    "Here is the full DataFrame."
   ]
  },
  {
   "cell_type": "code",
   "execution_count": 6,
   "metadata": {
    "cell_id": "6f123ddf6c054af79e581ea2ccb083e2",
    "deepnote_cell_type": "code",
    "deepnote_to_be_reexecuted": false,
    "execution_millis": 722,
    "execution_start": 1664319822475,
    "source_hash": "f804c160",
    "tags": [
     "output_scroll"
    ]
   },
   "outputs": [
    {
     "data": {
      "application/vnd.deepnote.dataframe.v3+json": {
       "column_count": 18,
       "columns": [
        {
         "dtype": "object",
         "name": "Status",
         "stats": {
          "categories": [
           {
            "count": 6444,
            "name": "Processed"
           },
           {
            "count": 1,
            "name": "Unlinked"
           }
          ],
          "nan_count": 0,
          "unique_count": 2
         }
        },
        {
         "dtype": "object",
         "name": "Device ID",
         "stats": {
          "categories": [
           {
            "count": 2568,
            "name": "VJ300320609"
           },
           {
            "count": 1922,
            "name": "VJ300320692"
           },
           {
            "count": 1955,
            "name": "3 others"
           }
          ],
          "nan_count": 0,
          "unique_count": 5
         }
        },
        {
         "dtype": "object",
         "name": "Location",
         "stats": {
          "categories": [
           {
            "count": 2568,
            "name": "GuttenPlans"
           },
           {
            "count": 1922,
            "name": "EB Public Library"
           },
           {
            "count": 1955,
            "name": "2 others"
           }
          ],
          "nan_count": 0,
          "unique_count": 4
         }
        },
        {
         "dtype": "object",
         "name": "Machine",
         "stats": {
          "categories": [
           {
            "count": 2568,
            "name": "GuttenPlans x1367"
           },
           {
            "count": 1922,
            "name": "EB Public Library x1380"
           },
           {
            "count": 1955,
            "name": "3 others"
           }
          ],
          "nan_count": 0,
          "unique_count": 5
         }
        },
        {
         "dtype": "object",
         "name": "Product",
         "stats": {
          "categories": [
           {
            "count": 517,
            "name": "Coca Cola - Zero Sugar"
           },
           {
            "count": 5924,
            "name": "169 others"
           },
           {
            "count": 4,
            "name": "Missing"
           }
          ],
          "nan_count": 4,
          "unique_count": 170
         }
        },
        {
         "dtype": "object",
         "name": "Category",
         "stats": {
          "categories": [
           {
            "count": 3428,
            "name": "Food"
           },
           {
            "count": 2832,
            "name": "3 others"
           },
           {
            "count": 185,
            "name": "Missing"
           }
          ],
          "nan_count": 185,
          "unique_count": 4
         }
        },
        {
         "dtype": "int64",
         "name": "Transaction",
         "stats": {
          "histogram": [
           {
            "bin_end": 14624593152.8,
            "bin_start": 14515778905,
            "count": 425
           },
           {
            "bin_end": 14733407400.6,
            "bin_start": 14624593152.8,
            "count": 455
           },
           {
            "bin_end": 14842221648.4,
            "bin_start": 14733407400.6,
            "count": 398
           },
           {
            "bin_end": 14951035896.2,
            "bin_start": 14842221648.4,
            "count": 582
           },
           {
            "bin_end": 15059850144,
            "bin_start": 14951035896.2,
            "count": 701
           },
           {
            "bin_end": 15168664391.8,
            "bin_start": 15059850144,
            "count": 672
           },
           {
            "bin_end": 15277478639.6,
            "bin_start": 15168664391.8,
            "count": 705
           },
           {
            "bin_end": 15386292887.4,
            "bin_start": 15277478639.6,
            "count": 917
           },
           {
            "bin_end": 15495107135.2,
            "bin_start": 15386292887.4,
            "count": 810
           },
           {
            "bin_end": 15603921383,
            "bin_start": 15495107135.2,
            "count": 780
           }
          ],
          "max": "15603921383",
          "min": "14515778905",
          "nan_count": 0,
          "unique_count": 6110
         }
        },
        {
         "dtype": "object",
         "name": "TransDate",
         "stats": {
          "categories": [
           {
            "count": 68,
            "name": "Thursday, July 14, 2022"
           },
           {
            "count": 65,
            "name": "Friday, July 1, 2022"
           },
           {
            "count": 6312,
            "name": "240 others"
           }
          ],
          "nan_count": 0,
          "unique_count": 242
         }
        },
        {
         "dtype": "object",
         "name": "Type",
         "stats": {
          "categories": [
           {
            "count": 4297,
            "name": "Cash"
           },
           {
            "count": 2148,
            "name": "Credit"
           }
          ],
          "nan_count": 0,
          "unique_count": 2
         }
        },
        {
         "dtype": "int64",
         "name": "RCoil",
         "stats": {
          "histogram": [
           {
            "bin_end": 115.5,
            "bin_start": 110,
            "count": 1092
           },
           {
            "bin_end": 121,
            "bin_start": 115.5,
            "count": 164
           },
           {
            "bin_end": 126.5,
            "bin_start": 121,
            "count": 1008
           },
           {
            "bin_end": 132,
            "bin_start": 126.5,
            "count": 176
           },
           {
            "bin_end": 137.5,
            "bin_start": 132,
            "count": 668
           },
           {
            "bin_end": 143,
            "bin_start": 137.5,
            "count": 1440
           },
           {
            "bin_end": 148.5,
            "bin_start": 143,
            "count": 1714
           },
           {
            "bin_end": 154,
            "bin_start": 148.5,
            "count": 58
           },
           {
            "bin_end": 159.5,
            "bin_start": 154,
            "count": 84
           },
           {
            "bin_end": 165,
            "bin_start": 159.5,
            "count": 41
           }
          ],
          "max": "165",
          "min": "110",
          "nan_count": 0,
          "unique_count": 45
         }
        },
        {
         "dtype": "float64",
         "name": "RPrice",
         "stats": {
          "histogram": [
           {
            "bin_end": 1.4,
            "bin_start": 1,
            "count": 595
           },
           {
            "bin_end": 1.8,
            "bin_start": 1.4,
            "count": 2985
           },
           {
            "bin_end": 2.2,
            "bin_start": 1.8,
            "count": 1174
           },
           {
            "bin_end": 2.6,
            "bin_start": 2.2,
            "count": 637
           },
           {
            "bin_end": 3,
            "bin_start": 2.6,
            "count": 194
           },
           {
            "bin_end": 3.4000000000000004,
            "bin_start": 3,
            "count": 544
           },
           {
            "bin_end": 3.8000000000000003,
            "bin_start": 3.4000000000000004,
            "count": 228
           },
           {
            "bin_end": 4.2,
            "bin_start": 3.8000000000000003,
            "count": 74
           },
           {
            "bin_end": 4.6,
            "bin_start": 4.2,
            "count": 4
           },
           {
            "bin_end": 5,
            "bin_start": 4.6,
            "count": 10
           }
          ],
          "max": "5.0",
          "min": "1.0",
          "nan_count": 0,
          "unique_count": 14
         }
        },
        {
         "dtype": "int64",
         "name": "RQty",
         "stats": {
          "histogram": [
           {
            "bin_end": 1.2,
            "bin_start": 1,
            "count": 6364
           },
           {
            "bin_end": 1.4,
            "bin_start": 1.2,
            "count": 0
           },
           {
            "bin_end": 1.6,
            "bin_start": 1.4,
            "count": 0
           },
           {
            "bin_end": 1.8,
            "bin_start": 1.6,
            "count": 0
           },
           {
            "bin_end": 2,
            "bin_start": 1.8,
            "count": 0
           },
           {
            "bin_end": 2.2,
            "bin_start": 2,
            "count": 76
           },
           {
            "bin_end": 2.4000000000000004,
            "bin_start": 2.2,
            "count": 0
           },
           {
            "bin_end": 2.6,
            "bin_start": 2.4000000000000004,
            "count": 0
           },
           {
            "bin_end": 2.8,
            "bin_start": 2.6,
            "count": 0
           },
           {
            "bin_end": 3,
            "bin_start": 2.8,
            "count": 5
           }
          ],
          "max": "3",
          "min": "1",
          "nan_count": 0,
          "unique_count": 3
         }
        },
        {
         "dtype": "int64",
         "name": "MCoil",
         "stats": {
          "histogram": [
           {
            "bin_end": 115.5,
            "bin_start": 110,
            "count": 1092
           },
           {
            "bin_end": 121,
            "bin_start": 115.5,
            "count": 164
           },
           {
            "bin_end": 126.5,
            "bin_start": 121,
            "count": 1008
           },
           {
            "bin_end": 132,
            "bin_start": 126.5,
            "count": 176
           },
           {
            "bin_end": 137.5,
            "bin_start": 132,
            "count": 668
           },
           {
            "bin_end": 143,
            "bin_start": 137.5,
            "count": 1440
           },
           {
            "bin_end": 148.5,
            "bin_start": 143,
            "count": 1714
           },
           {
            "bin_end": 154,
            "bin_start": 148.5,
            "count": 58
           },
           {
            "bin_end": 159.5,
            "bin_start": 154,
            "count": 84
           },
           {
            "bin_end": 165,
            "bin_start": 159.5,
            "count": 41
           }
          ],
          "max": "165",
          "min": "110",
          "nan_count": 0,
          "unique_count": 45
         }
        },
        {
         "dtype": "float64",
         "name": "MPrice",
         "stats": {
          "histogram": [
           {
            "bin_end": 1.4,
            "bin_start": 1,
            "count": 595
           },
           {
            "bin_end": 1.8,
            "bin_start": 1.4,
            "count": 2984
           },
           {
            "bin_end": 2.2,
            "bin_start": 1.8,
            "count": 1174
           },
           {
            "bin_end": 2.6,
            "bin_start": 2.2,
            "count": 637
           },
           {
            "bin_end": 3,
            "bin_start": 2.6,
            "count": 194
           },
           {
            "bin_end": 3.4000000000000004,
            "bin_start": 3,
            "count": 544
           },
           {
            "bin_end": 3.8000000000000003,
            "bin_start": 3.4000000000000004,
            "count": 228
           },
           {
            "bin_end": 4.2,
            "bin_start": 3.8000000000000003,
            "count": 74
           },
           {
            "bin_end": 4.6,
            "bin_start": 4.2,
            "count": 4
           },
           {
            "bin_end": 5,
            "bin_start": 4.6,
            "count": 10
           }
          ],
          "max": "5.0",
          "min": "1.0",
          "nan_count": 1,
          "unique_count": 14
         }
        },
        {
         "dtype": "int64",
         "name": "MQty",
         "stats": {
          "histogram": [
           {
            "bin_end": 1.2,
            "bin_start": 1,
            "count": 6364
           },
           {
            "bin_end": 1.4,
            "bin_start": 1.2,
            "count": 0
           },
           {
            "bin_end": 1.6,
            "bin_start": 1.4,
            "count": 0
           },
           {
            "bin_end": 1.8,
            "bin_start": 1.6,
            "count": 0
           },
           {
            "bin_end": 2,
            "bin_start": 1.8,
            "count": 0
           },
           {
            "bin_end": 2.2,
            "bin_start": 2,
            "count": 76
           },
           {
            "bin_end": 2.4000000000000004,
            "bin_start": 2.2,
            "count": 0
           },
           {
            "bin_end": 2.6,
            "bin_start": 2.4000000000000004,
            "count": 0
           },
           {
            "bin_end": 2.8,
            "bin_start": 2.6,
            "count": 0
           },
           {
            "bin_end": 3,
            "bin_start": 2.8,
            "count": 5
           }
          ],
          "max": "3",
          "min": "1",
          "nan_count": 0,
          "unique_count": 3
         }
        },
        {
         "dtype": "float64",
         "name": "LineTotal"
        },
        {
         "dtype": "float64",
         "name": "TransTotal"
        },
        {
         "dtype": "object",
         "name": "Prcd Date"
        },
        {
         "dtype": "int64",
         "name": "_deepnote_index_column"
        }
       ],
       "row_count": 6445,
       "rows": [
        {
         "Category": "Carbonated",
         "Device ID": "VJ300320611",
         "LineTotal": "3.5",
         "Location": "Brunswick Sq Mall",
         "MCoil": "148",
         "MPrice": "3.5",
         "MQty": "1",
         "Machine": "BSQ Mall x1366 - ATT",
         "Prcd Date": "1/1/2022",
         "Product": "Red Bull - Energy Drink - Sugar Free",
         "RCoil": "148",
         "RPrice": "3.5",
         "RQty": "1",
         "Status": "Processed",
         "TransDate": "Saturday, January 1, 2022",
         "TransTotal": "3.5",
         "Transaction": "14515778905",
         "Type": "Credit",
         "_deepnote_index_column": "0"
        },
        {
         "Category": "Carbonated",
         "Device ID": "VJ300320611",
         "LineTotal": "3.5",
         "Location": "Brunswick Sq Mall",
         "MCoil": "148",
         "MPrice": "3.5",
         "MQty": "1",
         "Machine": "BSQ Mall x1366 - ATT",
         "Prcd Date": "1/1/2022",
         "Product": "Red Bull - Energy Drink - Sugar Free",
         "RCoil": "148",
         "RPrice": "3.5",
         "RQty": "1",
         "Status": "Processed",
         "TransDate": "Saturday, January 1, 2022",
         "TransTotal": "5.0",
         "Transaction": "14516018629",
         "Type": "Credit",
         "_deepnote_index_column": "1"
        },
        {
         "Category": "Food",
         "Device ID": "VJ300320611",
         "LineTotal": "1.5",
         "Location": "Brunswick Sq Mall",
         "MCoil": "123",
         "MPrice": "1.5",
         "MQty": "1",
         "Machine": "BSQ Mall x1366 - ATT",
         "Prcd Date": "1/1/2022",
         "Product": "Takis - Hot Chilli Pepper & Lime",
         "RCoil": "123",
         "RPrice": "1.5",
         "RQty": "1",
         "Status": "Processed",
         "TransDate": "Saturday, January 1, 2022",
         "TransTotal": "5.0",
         "Transaction": "14516018629",
         "Type": "Credit",
         "_deepnote_index_column": "2"
        },
        {
         "Category": "Food",
         "Device ID": "VJ300320611",
         "LineTotal": "1.5",
         "Location": "Brunswick Sq Mall",
         "MCoil": "123",
         "MPrice": "1.5",
         "MQty": "1",
         "Machine": "BSQ Mall x1366 - ATT",
         "Prcd Date": "1/1/2022",
         "Product": "Takis - Hot Chilli Pepper & Lime",
         "RCoil": "123",
         "RPrice": "1.5",
         "RQty": "1",
         "Status": "Processed",
         "TransDate": "Saturday, January 1, 2022",
         "TransTotal": "1.5",
         "Transaction": "14516020373",
         "Type": "Credit",
         "_deepnote_index_column": "3"
        },
        {
         "Category": "Carbonated",
         "Device ID": "VJ300320611",
         "LineTotal": "3.5",
         "Location": "Brunswick Sq Mall",
         "MCoil": "148",
         "MPrice": "3.5",
         "MQty": "1",
         "Machine": "BSQ Mall x1366 - ATT",
         "Prcd Date": "1/1/2022",
         "Product": "Red Bull - Energy Drink - Sugar Free",
         "RCoil": "148",
         "RPrice": "3.5",
         "RQty": "1",
         "Status": "Processed",
         "TransDate": "Saturday, January 1, 2022",
         "TransTotal": "3.5",
         "Transaction": "14516021756",
         "Type": "Credit",
         "_deepnote_index_column": "4"
        },
        {
         "Category": "Non Carbonated",
         "Device ID": "VJ300205292",
         "LineTotal": "2.5",
         "Location": "Brunswick Sq Mall",
         "MCoil": "146",
         "MPrice": "2.5",
         "MQty": "1",
         "Machine": "BSQ Mall x1364 - Zales",
         "Prcd Date": "1/2/2022",
         "Product": "Bai Antioxidant - Brasilia BB",
         "RCoil": "146",
         "RPrice": "2.5",
         "RQty": "1",
         "Status": "Processed",
         "TransDate": "Sunday, January 2, 2022",
         "TransTotal": "2.5",
         "Transaction": "14517568743",
         "Type": "Cash",
         "_deepnote_index_column": "5"
        },
        {
         "Category": "Food",
         "Device ID": "VJ300205292",
         "LineTotal": "1.5",
         "Location": "Brunswick Sq Mall",
         "MCoil": "114",
         "MPrice": "1.5",
         "MQty": "1",
         "Machine": "BSQ Mall x1364 - Zales",
         "Prcd Date": "1/2/2022",
         "Product": "Miss Vickie's Potato Chip - Sea Salt & Vinega",
         "RCoil": "114",
         "RPrice": "1.5",
         "RQty": "1",
         "Status": "Processed",
         "TransDate": "Monday, January 3, 2022",
         "TransTotal": "1.5",
         "Transaction": "14518731524",
         "Type": "Cash",
         "_deepnote_index_column": "6"
        },
        {
         "Category": "Food",
         "Device ID": "VJ300320686",
         "LineTotal": "1.5",
         "Location": "Earle Asphalt",
         "MCoil": "110",
         "MPrice": "1.5",
         "MQty": "1",
         "Machine": "Earle Asphalt x1371",
         "Prcd Date": "1/3/2022",
         "Product": "Miss Vickie's Potato Chip - Lime & Cracked Pe",
         "RCoil": "110",
         "RPrice": "1.5",
         "RQty": "1",
         "Status": "Processed",
         "TransDate": "Monday, January 3, 2022",
         "TransTotal": "1.5",
         "Transaction": "14519162059",
         "Type": "Credit",
         "_deepnote_index_column": "7"
        },
        {
         "Category": "Carbonated",
         "Device ID": "VJ300320609",
         "LineTotal": "3.0",
         "Location": "GuttenPlans",
         "MCoil": "144",
         "MPrice": "3.0",
         "MQty": "1",
         "Machine": "GuttenPlans x1367",
         "Prcd Date": "1/3/2022",
         "Product": "Monster Energy Original",
         "RCoil": "144",
         "RPrice": "3.0",
         "RQty": "1",
         "Status": "Processed",
         "TransDate": "Monday, January 3, 2022",
         "TransTotal": "3.0",
         "Transaction": "14519670154",
         "Type": "Credit",
         "_deepnote_index_column": "8"
        },
        {
         "Category": "Food",
         "Device ID": "VJ300320686",
         "LineTotal": "2.5",
         "Location": "Earle Asphalt",
         "MCoil": "134",
         "MPrice": "2.5",
         "MQty": "1",
         "Machine": "Earle Asphalt x1371",
         "Prcd Date": "1/3/2022",
         "Product": "Seapoint Farms Dry Roasted Edamame - Wasabi",
         "RCoil": "134",
         "RPrice": "2.5",
         "RQty": "1",
         "Status": "Processed",
         "TransDate": "Monday, January 3, 2022",
         "TransTotal": "2.5",
         "Transaction": "14520315330",
         "Type": "Credit",
         "_deepnote_index_column": "9"
        }
       ]
      },
      "text/html": [
       "<div>\n",
       "<style scoped>\n",
       "    .dataframe tbody tr th:only-of-type {\n",
       "        vertical-align: middle;\n",
       "    }\n",
       "\n",
       "    .dataframe tbody tr th {\n",
       "        vertical-align: top;\n",
       "    }\n",
       "\n",
       "    .dataframe thead th {\n",
       "        text-align: right;\n",
       "    }\n",
       "</style>\n",
       "<table border=\"1\" class=\"dataframe\">\n",
       "  <thead>\n",
       "    <tr style=\"text-align: right;\">\n",
       "      <th></th>\n",
       "      <th>Status</th>\n",
       "      <th>Device ID</th>\n",
       "      <th>Location</th>\n",
       "      <th>Machine</th>\n",
       "      <th>Product</th>\n",
       "      <th>Category</th>\n",
       "      <th>Transaction</th>\n",
       "      <th>TransDate</th>\n",
       "      <th>Type</th>\n",
       "      <th>RCoil</th>\n",
       "      <th>RPrice</th>\n",
       "      <th>RQty</th>\n",
       "      <th>MCoil</th>\n",
       "      <th>MPrice</th>\n",
       "      <th>MQty</th>\n",
       "      <th>LineTotal</th>\n",
       "      <th>TransTotal</th>\n",
       "      <th>Prcd Date</th>\n",
       "    </tr>\n",
       "  </thead>\n",
       "  <tbody>\n",
       "    <tr>\n",
       "      <th>0</th>\n",
       "      <td>Processed</td>\n",
       "      <td>VJ300320611</td>\n",
       "      <td>Brunswick Sq Mall</td>\n",
       "      <td>BSQ Mall x1366 - ATT</td>\n",
       "      <td>Red Bull - Energy Drink - Sugar Free</td>\n",
       "      <td>Carbonated</td>\n",
       "      <td>14515778905</td>\n",
       "      <td>Saturday, January 1, 2022</td>\n",
       "      <td>Credit</td>\n",
       "      <td>148</td>\n",
       "      <td>3.5</td>\n",
       "      <td>1</td>\n",
       "      <td>148</td>\n",
       "      <td>3.5</td>\n",
       "      <td>1</td>\n",
       "      <td>3.5</td>\n",
       "      <td>3.5</td>\n",
       "      <td>1/1/2022</td>\n",
       "    </tr>\n",
       "    <tr>\n",
       "      <th>1</th>\n",
       "      <td>Processed</td>\n",
       "      <td>VJ300320611</td>\n",
       "      <td>Brunswick Sq Mall</td>\n",
       "      <td>BSQ Mall x1366 - ATT</td>\n",
       "      <td>Red Bull - Energy Drink - Sugar Free</td>\n",
       "      <td>Carbonated</td>\n",
       "      <td>14516018629</td>\n",
       "      <td>Saturday, January 1, 2022</td>\n",
       "      <td>Credit</td>\n",
       "      <td>148</td>\n",
       "      <td>3.5</td>\n",
       "      <td>1</td>\n",
       "      <td>148</td>\n",
       "      <td>3.5</td>\n",
       "      <td>1</td>\n",
       "      <td>3.5</td>\n",
       "      <td>5.0</td>\n",
       "      <td>1/1/2022</td>\n",
       "    </tr>\n",
       "    <tr>\n",
       "      <th>2</th>\n",
       "      <td>Processed</td>\n",
       "      <td>VJ300320611</td>\n",
       "      <td>Brunswick Sq Mall</td>\n",
       "      <td>BSQ Mall x1366 - ATT</td>\n",
       "      <td>Takis - Hot Chilli Pepper &amp; Lime</td>\n",
       "      <td>Food</td>\n",
       "      <td>14516018629</td>\n",
       "      <td>Saturday, January 1, 2022</td>\n",
       "      <td>Credit</td>\n",
       "      <td>123</td>\n",
       "      <td>1.5</td>\n",
       "      <td>1</td>\n",
       "      <td>123</td>\n",
       "      <td>1.5</td>\n",
       "      <td>1</td>\n",
       "      <td>1.5</td>\n",
       "      <td>5.0</td>\n",
       "      <td>1/1/2022</td>\n",
       "    </tr>\n",
       "    <tr>\n",
       "      <th>3</th>\n",
       "      <td>Processed</td>\n",
       "      <td>VJ300320611</td>\n",
       "      <td>Brunswick Sq Mall</td>\n",
       "      <td>BSQ Mall x1366 - ATT</td>\n",
       "      <td>Takis - Hot Chilli Pepper &amp; Lime</td>\n",
       "      <td>Food</td>\n",
       "      <td>14516020373</td>\n",
       "      <td>Saturday, January 1, 2022</td>\n",
       "      <td>Credit</td>\n",
       "      <td>123</td>\n",
       "      <td>1.5</td>\n",
       "      <td>1</td>\n",
       "      <td>123</td>\n",
       "      <td>1.5</td>\n",
       "      <td>1</td>\n",
       "      <td>1.5</td>\n",
       "      <td>1.5</td>\n",
       "      <td>1/1/2022</td>\n",
       "    </tr>\n",
       "    <tr>\n",
       "      <th>4</th>\n",
       "      <td>Processed</td>\n",
       "      <td>VJ300320611</td>\n",
       "      <td>Brunswick Sq Mall</td>\n",
       "      <td>BSQ Mall x1366 - ATT</td>\n",
       "      <td>Red Bull - Energy Drink - Sugar Free</td>\n",
       "      <td>Carbonated</td>\n",
       "      <td>14516021756</td>\n",
       "      <td>Saturday, January 1, 2022</td>\n",
       "      <td>Credit</td>\n",
       "      <td>148</td>\n",
       "      <td>3.5</td>\n",
       "      <td>1</td>\n",
       "      <td>148</td>\n",
       "      <td>3.5</td>\n",
       "      <td>1</td>\n",
       "      <td>3.5</td>\n",
       "      <td>3.5</td>\n",
       "      <td>1/1/2022</td>\n",
       "    </tr>\n",
       "    <tr>\n",
       "      <th>...</th>\n",
       "      <td>...</td>\n",
       "      <td>...</td>\n",
       "      <td>...</td>\n",
       "      <td>...</td>\n",
       "      <td>...</td>\n",
       "      <td>...</td>\n",
       "      <td>...</td>\n",
       "      <td>...</td>\n",
       "      <td>...</td>\n",
       "      <td>...</td>\n",
       "      <td>...</td>\n",
       "      <td>...</td>\n",
       "      <td>...</td>\n",
       "      <td>...</td>\n",
       "      <td>...</td>\n",
       "      <td>...</td>\n",
       "      <td>...</td>\n",
       "      <td>...</td>\n",
       "    </tr>\n",
       "    <tr>\n",
       "      <th>6440</th>\n",
       "      <td>Processed</td>\n",
       "      <td>VJ300320692</td>\n",
       "      <td>EB Public Library</td>\n",
       "      <td>EB Public Library x1380</td>\n",
       "      <td>Lindens - Chocolate Chippers</td>\n",
       "      <td>Food</td>\n",
       "      <td>15603201222</td>\n",
       "      <td>Wednesday, August 31, 2022</td>\n",
       "      <td>Credit</td>\n",
       "      <td>122</td>\n",
       "      <td>2.0</td>\n",
       "      <td>1</td>\n",
       "      <td>122</td>\n",
       "      <td>2.0</td>\n",
       "      <td>1</td>\n",
       "      <td>2.0</td>\n",
       "      <td>6.0</td>\n",
       "      <td>8/31/2022</td>\n",
       "    </tr>\n",
       "    <tr>\n",
       "      <th>6441</th>\n",
       "      <td>Processed</td>\n",
       "      <td>VJ300320692</td>\n",
       "      <td>EB Public Library</td>\n",
       "      <td>EB Public Library x1380</td>\n",
       "      <td>Wonderful Pistachios - Variety</td>\n",
       "      <td>Food</td>\n",
       "      <td>15603201222</td>\n",
       "      <td>Wednesday, August 31, 2022</td>\n",
       "      <td>Credit</td>\n",
       "      <td>131</td>\n",
       "      <td>2.0</td>\n",
       "      <td>1</td>\n",
       "      <td>131</td>\n",
       "      <td>2.0</td>\n",
       "      <td>1</td>\n",
       "      <td>2.0</td>\n",
       "      <td>6.0</td>\n",
       "      <td>8/31/2022</td>\n",
       "    </tr>\n",
       "    <tr>\n",
       "      <th>6442</th>\n",
       "      <td>Processed</td>\n",
       "      <td>VJ300320692</td>\n",
       "      <td>EB Public Library</td>\n",
       "      <td>EB Public Library x1380</td>\n",
       "      <td>Hungry Buddha - Chocolate Chip</td>\n",
       "      <td>Food</td>\n",
       "      <td>15603201222</td>\n",
       "      <td>Wednesday, August 31, 2022</td>\n",
       "      <td>Credit</td>\n",
       "      <td>137</td>\n",
       "      <td>2.0</td>\n",
       "      <td>1</td>\n",
       "      <td>137</td>\n",
       "      <td>2.0</td>\n",
       "      <td>1</td>\n",
       "      <td>2.0</td>\n",
       "      <td>6.0</td>\n",
       "      <td>8/31/2022</td>\n",
       "    </tr>\n",
       "    <tr>\n",
       "      <th>6443</th>\n",
       "      <td>Processed</td>\n",
       "      <td>VJ300320609</td>\n",
       "      <td>GuttenPlans</td>\n",
       "      <td>GuttenPlans x1367</td>\n",
       "      <td>Snapple Tea - Lemon</td>\n",
       "      <td>Non Carbonated</td>\n",
       "      <td>15603853105</td>\n",
       "      <td>Wednesday, August 31, 2022</td>\n",
       "      <td>Credit</td>\n",
       "      <td>145</td>\n",
       "      <td>2.5</td>\n",
       "      <td>1</td>\n",
       "      <td>145</td>\n",
       "      <td>2.5</td>\n",
       "      <td>1</td>\n",
       "      <td>2.5</td>\n",
       "      <td>2.5</td>\n",
       "      <td>8/31/2022</td>\n",
       "    </tr>\n",
       "    <tr>\n",
       "      <th>6444</th>\n",
       "      <td>Processed</td>\n",
       "      <td>VJ300320692</td>\n",
       "      <td>EB Public Library</td>\n",
       "      <td>EB Public Library x1380</td>\n",
       "      <td>Goldfish Baked - Cheddar</td>\n",
       "      <td>Food</td>\n",
       "      <td>15603921383</td>\n",
       "      <td>Wednesday, August 31, 2022</td>\n",
       "      <td>Cash</td>\n",
       "      <td>125</td>\n",
       "      <td>1.5</td>\n",
       "      <td>1</td>\n",
       "      <td>125</td>\n",
       "      <td>1.5</td>\n",
       "      <td>1</td>\n",
       "      <td>1.5</td>\n",
       "      <td>1.5</td>\n",
       "      <td>8/31/2022</td>\n",
       "    </tr>\n",
       "  </tbody>\n",
       "</table>\n",
       "<p>6445 rows × 18 columns</p>\n",
       "</div>"
      ],
      "text/plain": [
       "         Status    Device ID           Location                  Machine  \\\n",
       "0     Processed  VJ300320611  Brunswick Sq Mall     BSQ Mall x1366 - ATT   \n",
       "1     Processed  VJ300320611  Brunswick Sq Mall     BSQ Mall x1366 - ATT   \n",
       "2     Processed  VJ300320611  Brunswick Sq Mall     BSQ Mall x1366 - ATT   \n",
       "3     Processed  VJ300320611  Brunswick Sq Mall     BSQ Mall x1366 - ATT   \n",
       "4     Processed  VJ300320611  Brunswick Sq Mall     BSQ Mall x1366 - ATT   \n",
       "...         ...          ...                ...                      ...   \n",
       "6440  Processed  VJ300320692  EB Public Library  EB Public Library x1380   \n",
       "6441  Processed  VJ300320692  EB Public Library  EB Public Library x1380   \n",
       "6442  Processed  VJ300320692  EB Public Library  EB Public Library x1380   \n",
       "6443  Processed  VJ300320609        GuttenPlans        GuttenPlans x1367   \n",
       "6444  Processed  VJ300320692  EB Public Library  EB Public Library x1380   \n",
       "\n",
       "                                   Product        Category  Transaction  \\\n",
       "0     Red Bull - Energy Drink - Sugar Free      Carbonated  14515778905   \n",
       "1     Red Bull - Energy Drink - Sugar Free      Carbonated  14516018629   \n",
       "2         Takis - Hot Chilli Pepper & Lime            Food  14516018629   \n",
       "3         Takis - Hot Chilli Pepper & Lime            Food  14516020373   \n",
       "4     Red Bull - Energy Drink - Sugar Free      Carbonated  14516021756   \n",
       "...                                    ...             ...          ...   \n",
       "6440          Lindens - Chocolate Chippers            Food  15603201222   \n",
       "6441        Wonderful Pistachios - Variety            Food  15603201222   \n",
       "6442        Hungry Buddha - Chocolate Chip            Food  15603201222   \n",
       "6443                   Snapple Tea - Lemon  Non Carbonated  15603853105   \n",
       "6444              Goldfish Baked - Cheddar            Food  15603921383   \n",
       "\n",
       "                       TransDate    Type  RCoil  RPrice  RQty  MCoil  MPrice  \\\n",
       "0      Saturday, January 1, 2022  Credit    148     3.5     1    148     3.5   \n",
       "1      Saturday, January 1, 2022  Credit    148     3.5     1    148     3.5   \n",
       "2      Saturday, January 1, 2022  Credit    123     1.5     1    123     1.5   \n",
       "3      Saturday, January 1, 2022  Credit    123     1.5     1    123     1.5   \n",
       "4      Saturday, January 1, 2022  Credit    148     3.5     1    148     3.5   \n",
       "...                          ...     ...    ...     ...   ...    ...     ...   \n",
       "6440  Wednesday, August 31, 2022  Credit    122     2.0     1    122     2.0   \n",
       "6441  Wednesday, August 31, 2022  Credit    131     2.0     1    131     2.0   \n",
       "6442  Wednesday, August 31, 2022  Credit    137     2.0     1    137     2.0   \n",
       "6443  Wednesday, August 31, 2022  Credit    145     2.5     1    145     2.5   \n",
       "6444  Wednesday, August 31, 2022    Cash    125     1.5     1    125     1.5   \n",
       "\n",
       "      MQty  LineTotal  TransTotal  Prcd Date  \n",
       "0        1        3.5         3.5   1/1/2022  \n",
       "1        1        3.5         5.0   1/1/2022  \n",
       "2        1        1.5         5.0   1/1/2022  \n",
       "3        1        1.5         1.5   1/1/2022  \n",
       "4        1        3.5         3.5   1/1/2022  \n",
       "...    ...        ...         ...        ...  \n",
       "6440     1        2.0         6.0  8/31/2022  \n",
       "6441     1        2.0         6.0  8/31/2022  \n",
       "6442     1        2.0         6.0  8/31/2022  \n",
       "6443     1        2.5         2.5  8/31/2022  \n",
       "6444     1        1.5         1.5  8/31/2022  \n",
       "\n",
       "[6445 rows x 18 columns]"
      ]
     },
     "execution_count": 6,
     "metadata": {},
     "output_type": "execute_result"
    }
   ],
   "source": [
    "df"
   ]
  },
  {
   "cell_type": "markdown",
   "metadata": {
    "cell_id": "ee7a0d57d3d34530adcc4307404c03bc",
    "deepnote_cell_type": "markdown",
    "tags": []
   },
   "source": [
    "## Using string methods\n",
    "\n",
    "Our overall goal is to count how many transactions occurred on Saturday.  We'll first see how to determine if a specific string represents Saturday, and then we'll see how to use the same approach on an entire pandas Series.\n",
    "\n",
    "As humans, it's obvious to us that the following string represents a Saturday, but how can we programmatically get Python to recognize that?"
   ]
  },
  {
   "cell_type": "code",
   "execution_count": 7,
   "metadata": {
    "cell_id": "27d40b5fbc574d2d92c139d282248327",
    "deepnote_cell_type": "code",
    "deepnote_to_be_reexecuted": false,
    "execution_millis": 0,
    "execution_start": 1664319893961,
    "source_hash": "fa431cc8",
    "tags": []
   },
   "outputs": [],
   "source": [
    "s = \"Saturday, January 1, 2022\""
   ]
  },
  {
   "cell_type": "markdown",
   "metadata": {},
   "source": [
    "Scan through these string methods and attributes, skipping the \"dunder methods\" that begin and end with double underscores.  (In fact, you should just skip everything that starts with even one underscore.)  Do you see a method or attribute that could be used to determine if `s` contains the word \"Saturday\"?"
   ]
  },
  {
   "cell_type": "code",
   "execution_count": 8,
   "metadata": {
    "cell_id": "4223d6887b7b4974aa20133b1a7940e9",
    "deepnote_cell_type": "code",
    "deepnote_to_be_reexecuted": false,
    "execution_millis": 6,
    "execution_start": 1664319919393,
    "source_hash": "c11bcba8",
    "tags": [
     "output_scroll"
    ]
   },
   "outputs": [
    {
     "data": {
      "text/plain": [
       "['__add__',\n",
       " '__class__',\n",
       " '__contains__',\n",
       " '__delattr__',\n",
       " '__dir__',\n",
       " '__doc__',\n",
       " '__eq__',\n",
       " '__format__',\n",
       " '__ge__',\n",
       " '__getattribute__',\n",
       " '__getitem__',\n",
       " '__getnewargs__',\n",
       " '__gt__',\n",
       " '__hash__',\n",
       " '__init__',\n",
       " '__init_subclass__',\n",
       " '__iter__',\n",
       " '__le__',\n",
       " '__len__',\n",
       " '__lt__',\n",
       " '__mod__',\n",
       " '__mul__',\n",
       " '__ne__',\n",
       " '__new__',\n",
       " '__reduce__',\n",
       " '__reduce_ex__',\n",
       " '__repr__',\n",
       " '__rmod__',\n",
       " '__rmul__',\n",
       " '__setattr__',\n",
       " '__sizeof__',\n",
       " '__str__',\n",
       " '__subclasshook__',\n",
       " 'capitalize',\n",
       " 'casefold',\n",
       " 'center',\n",
       " 'count',\n",
       " 'encode',\n",
       " 'endswith',\n",
       " 'expandtabs',\n",
       " 'find',\n",
       " 'format',\n",
       " 'format_map',\n",
       " 'index',\n",
       " 'isalnum',\n",
       " 'isalpha',\n",
       " 'isascii',\n",
       " 'isdecimal',\n",
       " 'isdigit',\n",
       " 'isidentifier',\n",
       " 'islower',\n",
       " 'isnumeric',\n",
       " 'isprintable',\n",
       " 'isspace',\n",
       " 'istitle',\n",
       " 'isupper',\n",
       " 'join',\n",
       " 'ljust',\n",
       " 'lower',\n",
       " 'lstrip',\n",
       " 'maketrans',\n",
       " 'partition',\n",
       " 'removeprefix',\n",
       " 'removesuffix',\n",
       " 'replace',\n",
       " 'rfind',\n",
       " 'rindex',\n",
       " 'rjust',\n",
       " 'rpartition',\n",
       " 'rsplit',\n",
       " 'rstrip',\n",
       " 'split',\n",
       " 'splitlines',\n",
       " 'startswith',\n",
       " 'strip',\n",
       " 'swapcase',\n",
       " 'title',\n",
       " 'translate',\n",
       " 'upper',\n",
       " 'zfill']"
      ]
     },
     "execution_count": 8,
     "metadata": {},
     "output_type": "execute_result"
    }
   ],
   "source": [
    "dir(s)"
   ]
  },
  {
   "cell_type": "markdown",
   "metadata": {},
   "source": [
    "A student suggested we try the `find` method, which is a great idea.  I don't know that method well, so let's check its help documentation.  The following doesn't work."
   ]
  },
  {
   "cell_type": "code",
   "execution_count": 9,
   "metadata": {
    "cell_id": "4b60ee9dfba049c79e3dd795f76ef5f5",
    "deepnote_cell_type": "code",
    "deepnote_to_be_reexecuted": false,
    "execution_millis": 333,
    "execution_start": 1664320056437,
    "source_hash": "79c8ca11",
    "tags": []
   },
   "outputs": [
    {
     "ename": "NameError",
     "evalue": "name 'find' is not defined",
     "output_type": "error",
     "traceback": [
      "\u001b[0;31m---------------------------------------------------------------------------\u001b[0m",
      "\u001b[0;31mNameError\u001b[0m                                 Traceback (most recent call last)",
      "Cell \u001b[0;32mIn [9], line 1\u001b[0m\n\u001b[0;32m----> 1\u001b[0m help(\u001b[43mfind\u001b[49m)\n",
      "\u001b[0;31mNameError\u001b[0m: name 'find' is not defined"
     ]
    }
   ],
   "source": [
    "help(find)"
   ]
  },
  {
   "cell_type": "markdown",
   "metadata": {},
   "source": [
    "The reason `help(find)` raised an error is because `find` is not defined independtly in Python, instead it is bound to this string object `s`.  So we need to instead call `help(s.find)`.  Notice how we *do not* use `help(s.find())`, because that would attempt to call `find` before we ever get to the `help` portion."
   ]
  },
  {
   "cell_type": "code",
   "execution_count": 10,
   "metadata": {
    "cell_id": "722e9041501742ee949fdc6dc518ffff",
    "deepnote_cell_type": "code",
    "deepnote_to_be_reexecuted": false,
    "execution_millis": 670,
    "execution_start": 1664320095143,
    "source_hash": "517905d6",
    "tags": []
   },
   "outputs": [
    {
     "name": "stdout",
     "output_type": "stream",
     "text": [
      "Help on built-in function find:\n",
      "\n",
      "find(...) method of builtins.str instance\n",
      "    S.find(sub[, start[, end]]) -> int\n",
      "    \n",
      "    Return the lowest index in S where substring sub is found,\n",
      "    such that sub is contained within S[start:end].  Optional\n",
      "    arguments start and end are interpreted as in slice notation.\n",
      "    \n",
      "    Return -1 on failure.\n",
      "\n"
     ]
    }
   ],
   "source": [
    "help(s.find)"
   ]
  },
  {
   "cell_type": "markdown",
   "metadata": {},
   "source": [
    "We want to input the substring (denoted `sub` in the help documentation) that we want to find.  Here is a reminder of the value of the string `s`."
   ]
  },
  {
   "cell_type": "code",
   "execution_count": 11,
   "metadata": {
    "cell_id": "54c58c6de08548b39b17a5c77e5b44bf",
    "deepnote_cell_type": "code",
    "deepnote_to_be_reexecuted": false,
    "execution_millis": 5,
    "execution_start": 1664320158086,
    "source_hash": "465dd177",
    "tags": []
   },
   "outputs": [
    {
     "data": {
      "text/plain": [
       "'Saturday, January 1, 2022'"
      ]
     },
     "execution_count": 11,
     "metadata": {},
     "output_type": "execute_result"
    }
   ],
   "source": [
    "s"
   ]
  },
  {
   "cell_type": "markdown",
   "metadata": {},
   "source": [
    "Now we call the `find` method of `s`. We don't need to use the optional arguments denoted by `start` and `end` in the documentation.  The following call outputs `0`, which is telling us that the substring was found at the very beginning (integer position 0) of `s`."
   ]
  },
  {
   "cell_type": "code",
   "execution_count": 12,
   "metadata": {
    "cell_id": "ad54751fa7834a85905f125afc90e568",
    "deepnote_cell_type": "code",
    "deepnote_to_be_reexecuted": false,
    "execution_millis": 681,
    "execution_start": 1664320166804,
    "source_hash": "c7aa2be9",
    "tags": []
   },
   "outputs": [
    {
     "data": {
      "text/plain": [
       "0"
      ]
     },
     "execution_count": 12,
     "metadata": {},
     "output_type": "execute_result"
    }
   ],
   "source": [
    "s.find(\"Saturday\")"
   ]
  },
  {
   "cell_type": "markdown",
   "metadata": {},
   "source": [
    "These string searches are case sensitive, so `\"Day\"` does not occur in `s`."
   ]
  },
  {
   "cell_type": "code",
   "execution_count": 13,
   "metadata": {
    "cell_id": "6efd409611904409bf33ba3b52a1e074",
    "deepnote_cell_type": "code",
    "deepnote_to_be_reexecuted": false,
    "execution_millis": 5,
    "execution_start": 1664320221295,
    "source_hash": "cbd705f0",
    "tags": []
   },
   "outputs": [
    {
     "data": {
      "text/plain": [
       "-1"
      ]
     },
     "execution_count": 13,
     "metadata": {},
     "output_type": "execute_result"
    }
   ],
   "source": [
    "s.find(\"Day\")"
   ]
  },
  {
   "cell_type": "markdown",
   "metadata": {},
   "source": [
    "But `\"day\"` does occur, and it starts at integer position 5."
   ]
  },
  {
   "cell_type": "code",
   "execution_count": 14,
   "metadata": {
    "cell_id": "3d95482ac9e64013b2b8acf62858571a",
    "deepnote_cell_type": "code",
    "deepnote_to_be_reexecuted": false,
    "execution_millis": 4,
    "execution_start": 1664320229868,
    "source_hash": "39d681bf",
    "tags": []
   },
   "outputs": [
    {
     "data": {
      "text/plain": [
       "5"
      ]
     },
     "execution_count": 14,
     "metadata": {},
     "output_type": "execute_result"
    }
   ],
   "source": [
    "s.find(\"day\")"
   ]
  },
  {
   "cell_type": "markdown",
   "metadata": {},
   "source": [
    "If we're confident that `\"Saturday\"` will always occur at the beginning of the string, then another option is to use the `startswith` method.  Instead of returning a location, it returns a Boolean value of `True` or `False`."
   ]
  },
  {
   "cell_type": "code",
   "execution_count": 15,
   "metadata": {
    "cell_id": "94369f85209848999a058bde37797340",
    "deepnote_cell_type": "code",
    "deepnote_to_be_reexecuted": false,
    "execution_millis": 5,
    "execution_start": 1664320315717,
    "source_hash": "3407bb0d",
    "tags": []
   },
   "outputs": [
    {
     "data": {
      "text/plain": [
       "True"
      ]
     },
     "execution_count": 15,
     "metadata": {},
     "output_type": "execute_result"
    }
   ],
   "source": [
    "s.startswith(\"Saturday\")"
   ]
  },
  {
   "cell_type": "markdown",
   "metadata": {},
   "source": [
    "It's important to remember that `True` is capitalized and that it does not use quotation marks (because it is not a string)."
   ]
  },
  {
   "cell_type": "code",
   "execution_count": 16,
   "metadata": {
    "cell_id": "48a468af955948f4bbf1548a923e347d",
    "deepnote_cell_type": "code",
    "deepnote_to_be_reexecuted": false,
    "execution_millis": 7,
    "execution_start": 1664320340231,
    "source_hash": "c37d825b",
    "tags": []
   },
   "outputs": [
    {
     "data": {
      "text/plain": [
       "True"
      ]
     },
     "execution_count": 16,
     "metadata": {},
     "output_type": "execute_result"
    }
   ],
   "source": [
    "True"
   ]
  },
  {
   "cell_type": "markdown",
   "metadata": {},
   "source": [
    "Let's see an example of calling this same method on a value taken directly from the DataFrame.  The following is a string, just like our `s` variable."
   ]
  },
  {
   "cell_type": "code",
   "execution_count": 17,
   "metadata": {
    "cell_id": "9b7b5be482a44c5a81c88dc2035be51c",
    "deepnote_cell_type": "code",
    "deepnote_to_be_reexecuted": false,
    "execution_millis": 87,
    "execution_start": 1664320419947,
    "source_hash": "92062fe4",
    "tags": []
   },
   "outputs": [
    {
     "data": {
      "text/plain": [
       "'Monday, January 3, 2022'"
      ]
     },
     "execution_count": 17,
     "metadata": {},
     "output_type": "execute_result"
    }
   ],
   "source": [
    "df.loc[20, \"TransDate\"]"
   ]
  },
  {
   "cell_type": "markdown",
   "metadata": {},
   "source": [
    "This string does not start with `\"Saturday\"`, so the following outputs `False`."
   ]
  },
  {
   "cell_type": "code",
   "execution_count": 18,
   "metadata": {
    "cell_id": "df15807f28914740b36380f370876613",
    "deepnote_cell_type": "code",
    "deepnote_to_be_reexecuted": false,
    "execution_millis": 6,
    "execution_start": 1664320441812,
    "source_hash": "e126dcaf",
    "tags": []
   },
   "outputs": [
    {
     "data": {
      "text/plain": [
       "False"
      ]
     },
     "execution_count": 18,
     "metadata": {},
     "output_type": "execute_result"
    }
   ],
   "source": [
    "df.loc[20, \"TransDate\"].startswith(\"Saturday\")"
   ]
  },
  {
   "cell_type": "markdown",
   "metadata": {
    "cell_id": "f14f596f7d1c49099f102ec90601d2cb",
    "deepnote_cell_type": "markdown",
    "deepnote_to_be_reexecuted": false,
    "execution_millis": 1,
    "execution_start": 1664317052586,
    "source_hash": "503432a3",
    "tags": []
   },
   "source": [
    "## Using string methods with a Series\n",
    "\n",
    "We now know how to determine if an individual string contains `\"Saturday\"` or starts with `\"Saturday\"`.  How can we use that same approach on an entire pandas Series of strings?"
   ]
  },
  {
   "cell_type": "code",
   "execution_count": 19,
   "metadata": {
    "cell_id": "3d2bd0c6915f4bcda8c3021ecd0da988",
    "deepnote_cell_type": "code",
    "deepnote_to_be_reexecuted": false,
    "execution_millis": 0,
    "execution_start": 1664320498650,
    "source_hash": "9d283e49",
    "tags": []
   },
   "outputs": [],
   "source": [
    "myseries = df[\"TransDate\"]"
   ]
  },
  {
   "cell_type": "markdown",
   "metadata": {},
   "source": [
    "Here is the \"TransDate\" column."
   ]
  },
  {
   "cell_type": "code",
   "execution_count": 21,
   "metadata": {
    "cell_id": "ab90da7cad2848bebd2f1eb0d0584bf0",
    "deepnote_cell_type": "code",
    "deepnote_to_be_reexecuted": false,
    "execution_millis": 1929,
    "execution_start": 1664320517033,
    "source_hash": "82e21d6c",
    "tags": []
   },
   "outputs": [
    {
     "data": {
      "text/plain": [
       "0        Saturday, January 1, 2022\n",
       "1        Saturday, January 1, 2022\n",
       "2        Saturday, January 1, 2022\n",
       "3        Saturday, January 1, 2022\n",
       "4        Saturday, January 1, 2022\n",
       "                   ...            \n",
       "6440    Wednesday, August 31, 2022\n",
       "6441    Wednesday, August 31, 2022\n",
       "6442    Wednesday, August 31, 2022\n",
       "6443    Wednesday, August 31, 2022\n",
       "6444    Wednesday, August 31, 2022\n",
       "Name: TransDate, Length: 6445, dtype: object"
      ]
     },
     "execution_count": 21,
     "metadata": {},
     "output_type": "execute_result"
    }
   ],
   "source": [
    "myseries"
   ]
  },
  {
   "cell_type": "markdown",
   "metadata": {},
   "source": [
    "When you ask Python, what is the type of a string, it outputs `str`."
   ]
  },
  {
   "cell_type": "code",
   "execution_count": 23,
   "metadata": {
    "cell_id": "4433461de5344d5f8d5706c28c91f3cc",
    "deepnote_cell_type": "code",
    "deepnote_to_be_reexecuted": false,
    "execution_millis": 3,
    "execution_start": 1664320621562,
    "source_hash": "23ca53a0",
    "tags": []
   },
   "outputs": [
    {
     "data": {
      "text/plain": [
       "str"
      ]
     },
     "execution_count": 23,
     "metadata": {},
     "output_type": "execute_result"
    }
   ],
   "source": [
    "type(\"Saturday\")"
   ]
  },
  {
   "cell_type": "markdown",
   "metadata": {},
   "source": [
    "Given a pandas Series containing strings, there is what is called an \"accessor attribute\" `str` which gives us access to Python string methods.  The type of `myseries.str` is not so important; I think I evaluated the following just to show that it is some special type of object, it's not a string and not a pandas Series.  (Much of Python is based on \"Object Oriented Programming\", and an effect of this is that Python libraries like pandas are filled with special objects that serve very specific purposes.)"
   ]
  },
  {
   "cell_type": "code",
   "execution_count": 24,
   "metadata": {
    "cell_id": "f37888407973481c816ef14c6a086f68",
    "deepnote_cell_type": "code",
    "deepnote_to_be_reexecuted": false,
    "execution_millis": 7,
    "execution_start": 1664320689582,
    "source_hash": "1d31cf7f",
    "tags": []
   },
   "outputs": [
    {
     "data": {
      "text/plain": [
       "pandas.core.strings.accessor.StringMethods"
      ]
     },
     "execution_count": 24,
     "metadata": {},
     "output_type": "execute_result"
    }
   ],
   "source": [
    "type(myseries.str)"
   ]
  },
  {
   "cell_type": "markdown",
   "metadata": {},
   "source": [
    "Notice how similar the attributes and methods listed here are to the methods and attributes defined on strings.  They are not exactly the same, but they're very similar.  (If you tried calling `dir` on a pandas Series, you would see almost no overlap between its methods and string methods, especially if you don't count the underscore methods.)"
   ]
  },
  {
   "cell_type": "code",
   "execution_count": 22,
   "metadata": {
    "cell_id": "4c30a8bb72a04a22a857de7bc843f2e8",
    "deepnote_cell_type": "code",
    "deepnote_to_be_reexecuted": false,
    "execution_millis": 554,
    "execution_start": 1664320607844,
    "source_hash": "869edbb9",
    "tags": [
     "output_scroll"
    ]
   },
   "outputs": [
    {
     "data": {
      "text/plain": [
       "['__annotations__',\n",
       " '__class__',\n",
       " '__delattr__',\n",
       " '__dict__',\n",
       " '__dir__',\n",
       " '__doc__',\n",
       " '__eq__',\n",
       " '__format__',\n",
       " '__frozen',\n",
       " '__ge__',\n",
       " '__getattribute__',\n",
       " '__getitem__',\n",
       " '__gt__',\n",
       " '__hash__',\n",
       " '__init__',\n",
       " '__init_subclass__',\n",
       " '__iter__',\n",
       " '__le__',\n",
       " '__lt__',\n",
       " '__module__',\n",
       " '__ne__',\n",
       " '__new__',\n",
       " '__reduce__',\n",
       " '__reduce_ex__',\n",
       " '__repr__',\n",
       " '__setattr__',\n",
       " '__sizeof__',\n",
       " '__str__',\n",
       " '__subclasshook__',\n",
       " '__weakref__',\n",
       " '_data',\n",
       " '_doc_args',\n",
       " '_freeze',\n",
       " '_get_series_list',\n",
       " '_index',\n",
       " '_inferred_dtype',\n",
       " '_is_categorical',\n",
       " '_is_string',\n",
       " '_name',\n",
       " '_orig',\n",
       " '_parent',\n",
       " '_validate',\n",
       " '_wrap_result',\n",
       " 'capitalize',\n",
       " 'casefold',\n",
       " 'cat',\n",
       " 'center',\n",
       " 'contains',\n",
       " 'count',\n",
       " 'decode',\n",
       " 'encode',\n",
       " 'endswith',\n",
       " 'extract',\n",
       " 'extractall',\n",
       " 'find',\n",
       " 'findall',\n",
       " 'fullmatch',\n",
       " 'get',\n",
       " 'get_dummies',\n",
       " 'index',\n",
       " 'isalnum',\n",
       " 'isalpha',\n",
       " 'isdecimal',\n",
       " 'isdigit',\n",
       " 'islower',\n",
       " 'isnumeric',\n",
       " 'isspace',\n",
       " 'istitle',\n",
       " 'isupper',\n",
       " 'join',\n",
       " 'len',\n",
       " 'ljust',\n",
       " 'lower',\n",
       " 'lstrip',\n",
       " 'match',\n",
       " 'normalize',\n",
       " 'pad',\n",
       " 'partition',\n",
       " 'repeat',\n",
       " 'replace',\n",
       " 'rfind',\n",
       " 'rindex',\n",
       " 'rjust',\n",
       " 'rpartition',\n",
       " 'rsplit',\n",
       " 'rstrip',\n",
       " 'slice',\n",
       " 'slice_replace',\n",
       " 'split',\n",
       " 'startswith',\n",
       " 'strip',\n",
       " 'swapcase',\n",
       " 'title',\n",
       " 'translate',\n",
       " 'upper',\n",
       " 'wrap',\n",
       " 'zfill']"
      ]
     },
     "execution_count": 22,
     "metadata": {},
     "output_type": "execute_result"
    }
   ],
   "source": [
    "dir(myseries.str)"
   ]
  },
  {
   "cell_type": "markdown",
   "metadata": {},
   "source": [
    "A quick reminder on slicing syntax.  We've only seen this for a DataFrame, but it works the same way for a Series.  Here we are getting the first four values of the pandas Series `myseries`."
   ]
  },
  {
   "cell_type": "code",
   "execution_count": 25,
   "metadata": {
    "cell_id": "7e63bc7b7df640f78ad7317e7d4d3cd8",
    "deepnote_cell_type": "code",
    "deepnote_to_be_reexecuted": false,
    "execution_millis": 3,
    "execution_start": 1664320746339,
    "source_hash": "f488fbf0",
    "tags": []
   },
   "outputs": [
    {
     "data": {
      "text/plain": [
       "0    Saturday, January 1, 2022\n",
       "1    Saturday, January 1, 2022\n",
       "2    Saturday, January 1, 2022\n",
       "3    Saturday, January 1, 2022\n",
       "Name: TransDate, dtype: object"
      ]
     },
     "execution_count": 25,
     "metadata": {},
     "output_type": "execute_result"
    }
   ],
   "source": [
    "myseries[:4]"
   ]
  },
  {
   "cell_type": "markdown",
   "metadata": {},
   "source": [
    "This is as good of a time as any to mention the negative indexing notation.  Here is a way to get the last 4 values of something (whether a pandas Series as in this case, or a pandas DataFrame, or a Python list, etc)."
   ]
  },
  {
   "cell_type": "code",
   "execution_count": 27,
   "metadata": {
    "cell_id": "e54b32aab2d94ff2a08f5aac2485539d",
    "deepnote_cell_type": "code",
    "deepnote_to_be_reexecuted": false,
    "execution_millis": 6,
    "execution_start": 1664320811578,
    "source_hash": "7dc5f353",
    "tags": []
   },
   "outputs": [
    {
     "data": {
      "text/plain": [
       "6441    Wednesday, August 31, 2022\n",
       "6442    Wednesday, August 31, 2022\n",
       "6443    Wednesday, August 31, 2022\n",
       "6444    Wednesday, August 31, 2022\n",
       "Name: TransDate, dtype: object"
      ]
     },
     "execution_count": 27,
     "metadata": {},
     "output_type": "execute_result"
    }
   ],
   "source": [
    "myseries[-4:]"
   ]
  },
  {
   "cell_type": "markdown",
   "metadata": {},
   "source": [
    "Using this string accessor attribute, `str`, we can use the `find` method, just like we used it above.  We see `0` at the top, because `\"Saturday\"` occurs starting at position `0` in the top few values, and we see `-1` at the bottom, because `\"Saturday\"` does not occur in the last few values, so the `find` call fails in that case."
   ]
  },
  {
   "cell_type": "code",
   "execution_count": 28,
   "metadata": {
    "cell_id": "2341052e4e3f4f83ab17d2eaceec326f",
    "deepnote_cell_type": "code",
    "deepnote_to_be_reexecuted": false,
    "execution_millis": 5,
    "execution_start": 1664320893931,
    "source_hash": "62a0f7b3",
    "tags": []
   },
   "outputs": [
    {
     "data": {
      "text/plain": [
       "0       0\n",
       "1       0\n",
       "2       0\n",
       "3       0\n",
       "4       0\n",
       "       ..\n",
       "6440   -1\n",
       "6441   -1\n",
       "6442   -1\n",
       "6443   -1\n",
       "6444   -1\n",
       "Name: TransDate, Length: 6445, dtype: int64"
      ]
     },
     "execution_count": 28,
     "metadata": {},
     "output_type": "execute_result"
    }
   ],
   "source": [
    "myseries.str.find(\"Saturday\")"
   ]
  },
  {
   "cell_type": "markdown",
   "metadata": {},
   "source": [
    "Or we can use the `startswith` method.  Instead of returning a Series of integer values, this returns a series of Boolean values."
   ]
  },
  {
   "cell_type": "code",
   "execution_count": 26,
   "metadata": {
    "cell_id": "e966b23fb1764dba931ac31b7fff67e6",
    "deepnote_cell_type": "code",
    "deepnote_to_be_reexecuted": false,
    "execution_millis": 6,
    "execution_start": 1664320788275,
    "source_hash": "86f59a84",
    "tags": []
   },
   "outputs": [
    {
     "data": {
      "text/plain": [
       "0        True\n",
       "1        True\n",
       "2        True\n",
       "3        True\n",
       "4        True\n",
       "        ...  \n",
       "6440    False\n",
       "6441    False\n",
       "6442    False\n",
       "6443    False\n",
       "6444    False\n",
       "Name: TransDate, Length: 6445, dtype: bool"
      ]
     },
     "execution_count": 26,
     "metadata": {},
     "output_type": "execute_result"
    }
   ],
   "source": [
    "myseries.str.startswith(\"Saturday\")"
   ]
  },
  {
   "cell_type": "markdown",
   "metadata": {},
   "source": [
    "Our overall goal is to count, and that counting is somewhat more natural using the Boolean values.  The reason is because `True` behaves like `1` in Python (or in Matlab) and `False` behaves like `0`, so if we add up Boolean values, the result is the exact same as how many times `True` occurred."
   ]
  },
  {
   "cell_type": "code",
   "execution_count": 29,
   "metadata": {
    "cell_id": "17b942dd7d27467d8e8d54440028898b",
    "deepnote_cell_type": "code",
    "deepnote_to_be_reexecuted": false,
    "execution_millis": 5,
    "execution_start": 1664320931909,
    "source_hash": "c7e283cc",
    "tags": []
   },
   "outputs": [
    {
     "data": {
      "text/plain": [
       "2"
      ]
     },
     "execution_count": 29,
     "metadata": {},
     "output_type": "execute_result"
    }
   ],
   "source": [
    "True+True+False"
   ]
  },
  {
   "cell_type": "markdown",
   "metadata": {},
   "source": [
    "Even though `True` and `1` are not literally the same object in Python, `True == 1` evaluates to `True`."
   ]
  },
  {
   "cell_type": "code",
   "execution_count": 30,
   "metadata": {
    "cell_id": "6d9e11c6aaed4e698b8076652c9a6eea",
    "deepnote_cell_type": "code",
    "deepnote_to_be_reexecuted": false,
    "execution_millis": 5,
    "execution_start": 1664320939526,
    "source_hash": "b0a2640f",
    "tags": []
   },
   "outputs": [
    {
     "data": {
      "text/plain": [
       "True"
      ]
     },
     "execution_count": 30,
     "metadata": {},
     "output_type": "execute_result"
    }
   ],
   "source": [
    "True == 1"
   ]
  },
  {
   "cell_type": "markdown",
   "metadata": {},
   "source": [
    "A pandas Series, like `myseries.str.startswith(\"Saturday\")`, has a `sum` method, which adds up all the values in the Series.  So the following is the first answer to our overall question, how many transaction dates correspond to Saturday?"
   ]
  },
  {
   "cell_type": "code",
   "execution_count": 31,
   "metadata": {
    "cell_id": "1a65e98576dc4b4288c415c93dbb4a22",
    "deepnote_cell_type": "code",
    "deepnote_to_be_reexecuted": false,
    "execution_millis": 10,
    "execution_start": 1664320980457,
    "source_hash": "37b56276",
    "tags": []
   },
   "outputs": [
    {
     "data": {
      "text/plain": [
       "684"
      ]
     },
     "execution_count": 31,
     "metadata": {},
     "output_type": "execute_result"
    }
   ],
   "source": [
    "myseries.str.startswith(\"Saturday\").sum()"
   ]
  },
  {
   "cell_type": "markdown",
   "metadata": {},
   "source": [
    "Here is another example solution, very similar, using Boolean indexing.  We first get the sub-DataFrame of `df` containing only those rows which correspond to a transaction that occurred on Saturday.  Notice how what goes inside the square brackets is our Boolean Series from above."
   ]
  },
  {
   "cell_type": "code",
   "execution_count": 32,
   "metadata": {
    "cell_id": "495c5fe7211b42b9b311f83c320f1cfd",
    "deepnote_cell_type": "code",
    "deepnote_to_be_reexecuted": false,
    "execution_millis": 50,
    "execution_start": 1664321016166,
    "source_hash": "b06a1ef3",
    "tags": [
     "output_scroll"
    ]
   },
   "outputs": [
    {
     "data": {
      "application/vnd.deepnote.dataframe.v3+json": {
       "column_count": 18,
       "columns": [
        {
         "dtype": "object",
         "name": "Status",
         "stats": {
          "categories": [
           {
            "count": 684,
            "name": "Processed"
           }
          ],
          "nan_count": 0,
          "unique_count": 1
         }
        },
        {
         "dtype": "object",
         "name": "Device ID",
         "stats": {
          "categories": [
           {
            "count": 205,
            "name": "VJ300320692"
           },
           {
            "count": 197,
            "name": "VJ300320609"
           },
           {
            "count": 282,
            "name": "3 others"
           }
          ],
          "nan_count": 0,
          "unique_count": 5
         }
        },
        {
         "dtype": "object",
         "name": "Location",
         "stats": {
          "categories": [
           {
            "count": 279,
            "name": "Brunswick Sq Mall"
           },
           {
            "count": 205,
            "name": "EB Public Library"
           },
           {
            "count": 200,
            "name": "2 others"
           }
          ],
          "nan_count": 0,
          "unique_count": 4
         }
        },
        {
         "dtype": "object",
         "name": "Machine",
         "stats": {
          "categories": [
           {
            "count": 205,
            "name": "EB Public Library x1380"
           },
           {
            "count": 197,
            "name": "GuttenPlans x1367"
           },
           {
            "count": 282,
            "name": "3 others"
           }
          ],
          "nan_count": 0,
          "unique_count": 5
         }
        },
        {
         "dtype": "object",
         "name": "Product",
         "stats": {
          "categories": [
           {
            "count": 59,
            "name": "Poland Springs Water"
           },
           {
            "count": 53,
            "name": "Monster Energy Original"
           },
           {
            "count": 572,
            "name": "124 others"
           }
          ],
          "nan_count": 0,
          "unique_count": 126
         }
        },
        {
         "dtype": "object",
         "name": "Category",
         "stats": {
          "categories": [
           {
            "count": 305,
            "name": "Food"
           },
           {
            "count": 356,
            "name": "3 others"
           },
           {
            "count": 23,
            "name": "Missing"
           }
          ],
          "nan_count": 23,
          "unique_count": 4
         }
        },
        {
         "dtype": "int64",
         "name": "Transaction",
         "stats": {
          "histogram": [
           {
            "bin_end": 14622885950.3,
            "bin_start": 14515778905,
            "count": 49
           },
           {
            "bin_end": 14729992995.6,
            "bin_start": 14622885950.3,
            "count": 45
           },
           {
            "bin_end": 14837100040.9,
            "bin_start": 14729992995.6,
            "count": 31
           },
           {
            "bin_end": 14944207086.2,
            "bin_start": 14837100040.9,
            "count": 73
           },
           {
            "bin_end": 15051314131.5,
            "bin_start": 14944207086.2,
            "count": 91
           },
           {
            "bin_end": 15158421176.8,
            "bin_start": 15051314131.5,
            "count": 58
           },
           {
            "bin_end": 15265528222.1,
            "bin_start": 15158421176.8,
            "count": 75
           },
           {
            "bin_end": 15372635267.4,
            "bin_start": 15265528222.1,
            "count": 110
           },
           {
            "bin_end": 15479742312.7,
            "bin_start": 15372635267.4,
            "count": 86
           },
           {
            "bin_end": 15586849358,
            "bin_start": 15479742312.7,
            "count": 66
           }
          ],
          "max": "15586849358",
          "min": "14515778905",
          "nan_count": 0,
          "unique_count": 669
         }
        },
        {
         "dtype": "object",
         "name": "TransDate",
         "stats": {
          "categories": [
           {
            "count": 42,
            "name": "Saturday, June 25, 2022"
           },
           {
            "count": 41,
            "name": "Saturday, July 16, 2022"
           },
           {
            "count": 601,
            "name": "33 others"
           }
          ],
          "nan_count": 0,
          "unique_count": 35
         }
        },
        {
         "dtype": "object",
         "name": "Type",
         "stats": {
          "categories": [
           {
            "count": 475,
            "name": "Cash"
           },
           {
            "count": 209,
            "name": "Credit"
           }
          ],
          "nan_count": 0,
          "unique_count": 2
         }
        },
        {
         "dtype": "int64",
         "name": "RCoil",
         "stats": {
          "histogram": [
           {
            "bin_end": 115.2,
            "bin_start": 110,
            "count": 117
           },
           {
            "bin_end": 120.4,
            "bin_start": 115.2,
            "count": 16
           },
           {
            "bin_end": 125.6,
            "bin_start": 120.4,
            "count": 88
           },
           {
            "bin_end": 130.8,
            "bin_start": 125.6,
            "count": 11
           },
           {
            "bin_end": 136,
            "bin_start": 130.8,
            "count": 40
           },
           {
            "bin_end": 141.2,
            "bin_start": 136,
            "count": 89
           },
           {
            "bin_end": 146.4,
            "bin_start": 141.2,
            "count": 236
           },
           {
            "bin_end": 151.6,
            "bin_start": 146.4,
            "count": 66
           },
           {
            "bin_end": 156.8,
            "bin_start": 151.6,
            "count": 7
           },
           {
            "bin_end": 162,
            "bin_start": 156.8,
            "count": 14
           }
          ],
          "max": "162",
          "min": "110",
          "nan_count": 0,
          "unique_count": 40
         }
        },
        {
         "dtype": "float64",
         "name": "RPrice",
         "stats": {
          "histogram": [
           {
            "bin_end": 1.4,
            "bin_start": 1,
            "count": 42
           },
           {
            "bin_end": 1.8,
            "bin_start": 1.4,
            "count": 320
           },
           {
            "bin_end": 2.2,
            "bin_start": 1.8,
            "count": 103
           },
           {
            "bin_end": 2.6,
            "bin_start": 2.2,
            "count": 72
           },
           {
            "bin_end": 3,
            "bin_start": 2.6,
            "count": 31
           },
           {
            "bin_end": 3.4000000000000004,
            "bin_start": 3,
            "count": 73
           },
           {
            "bin_end": 3.8000000000000003,
            "bin_start": 3.4000000000000004,
            "count": 32
           },
           {
            "bin_end": 4.2,
            "bin_start": 3.8000000000000003,
            "count": 10
           },
           {
            "bin_end": 4.6,
            "bin_start": 4.2,
            "count": 0
           },
           {
            "bin_end": 5,
            "bin_start": 4.6,
            "count": 1
           }
          ],
          "max": "5.0",
          "min": "1.0",
          "nan_count": 0,
          "unique_count": 10
         }
        },
        {
         "dtype": "int64",
         "name": "RQty",
         "stats": {
          "histogram": [
           {
            "bin_end": 1.1,
            "bin_start": 1,
            "count": 678
           },
           {
            "bin_end": 1.2,
            "bin_start": 1.1,
            "count": 0
           },
           {
            "bin_end": 1.3,
            "bin_start": 1.2,
            "count": 0
           },
           {
            "bin_end": 1.4,
            "bin_start": 1.3,
            "count": 0
           },
           {
            "bin_end": 1.5,
            "bin_start": 1.4,
            "count": 0
           },
           {
            "bin_end": 1.6,
            "bin_start": 1.5,
            "count": 0
           },
           {
            "bin_end": 1.7000000000000002,
            "bin_start": 1.6,
            "count": 0
           },
           {
            "bin_end": 1.8,
            "bin_start": 1.7000000000000002,
            "count": 0
           },
           {
            "bin_end": 1.9,
            "bin_start": 1.8,
            "count": 0
           },
           {
            "bin_end": 2,
            "bin_start": 1.9,
            "count": 6
           }
          ],
          "max": "2",
          "min": "1",
          "nan_count": 0,
          "unique_count": 2
         }
        },
        {
         "dtype": "int64",
         "name": "MCoil",
         "stats": {
          "histogram": [
           {
            "bin_end": 115.2,
            "bin_start": 110,
            "count": 117
           },
           {
            "bin_end": 120.4,
            "bin_start": 115.2,
            "count": 16
           },
           {
            "bin_end": 125.6,
            "bin_start": 120.4,
            "count": 88
           },
           {
            "bin_end": 130.8,
            "bin_start": 125.6,
            "count": 11
           },
           {
            "bin_end": 136,
            "bin_start": 130.8,
            "count": 40
           },
           {
            "bin_end": 141.2,
            "bin_start": 136,
            "count": 89
           },
           {
            "bin_end": 146.4,
            "bin_start": 141.2,
            "count": 236
           },
           {
            "bin_end": 151.6,
            "bin_start": 146.4,
            "count": 66
           },
           {
            "bin_end": 156.8,
            "bin_start": 151.6,
            "count": 7
           },
           {
            "bin_end": 162,
            "bin_start": 156.8,
            "count": 14
           }
          ],
          "max": "162",
          "min": "110",
          "nan_count": 0,
          "unique_count": 40
         }
        },
        {
         "dtype": "float64",
         "name": "MPrice",
         "stats": {
          "histogram": [
           {
            "bin_end": 1.4,
            "bin_start": 1,
            "count": 42
           },
           {
            "bin_end": 1.8,
            "bin_start": 1.4,
            "count": 320
           },
           {
            "bin_end": 2.2,
            "bin_start": 1.8,
            "count": 103
           },
           {
            "bin_end": 2.6,
            "bin_start": 2.2,
            "count": 72
           },
           {
            "bin_end": 3,
            "bin_start": 2.6,
            "count": 31
           },
           {
            "bin_end": 3.4000000000000004,
            "bin_start": 3,
            "count": 73
           },
           {
            "bin_end": 3.8000000000000003,
            "bin_start": 3.4000000000000004,
            "count": 32
           },
           {
            "bin_end": 4.2,
            "bin_start": 3.8000000000000003,
            "count": 10
           },
           {
            "bin_end": 4.6,
            "bin_start": 4.2,
            "count": 0
           },
           {
            "bin_end": 5,
            "bin_start": 4.6,
            "count": 1
           }
          ],
          "max": "5.0",
          "min": "1.0",
          "nan_count": 0,
          "unique_count": 10
         }
        },
        {
         "dtype": "int64",
         "name": "MQty",
         "stats": {
          "histogram": [
           {
            "bin_end": 1.1,
            "bin_start": 1,
            "count": 678
           },
           {
            "bin_end": 1.2,
            "bin_start": 1.1,
            "count": 0
           },
           {
            "bin_end": 1.3,
            "bin_start": 1.2,
            "count": 0
           },
           {
            "bin_end": 1.4,
            "bin_start": 1.3,
            "count": 0
           },
           {
            "bin_end": 1.5,
            "bin_start": 1.4,
            "count": 0
           },
           {
            "bin_end": 1.6,
            "bin_start": 1.5,
            "count": 0
           },
           {
            "bin_end": 1.7000000000000002,
            "bin_start": 1.6,
            "count": 0
           },
           {
            "bin_end": 1.8,
            "bin_start": 1.7000000000000002,
            "count": 0
           },
           {
            "bin_end": 1.9,
            "bin_start": 1.8,
            "count": 0
           },
           {
            "bin_end": 2,
            "bin_start": 1.9,
            "count": 6
           }
          ],
          "max": "2",
          "min": "1",
          "nan_count": 0,
          "unique_count": 2
         }
        },
        {
         "dtype": "float64",
         "name": "LineTotal",
         "stats": {
          "histogram": [
           {
            "bin_end": 1.45,
            "bin_start": 1,
            "count": 42
           },
           {
            "bin_end": 1.9,
            "bin_start": 1.45,
            "count": 318
           },
           {
            "bin_end": 2.35,
            "bin_start": 1.9,
            "count": 100
           },
           {
            "bin_end": 2.8,
            "bin_start": 2.35,
            "count": 102
           },
           {
            "bin_end": 3.25,
            "bin_start": 2.8,
            "count": 75
           },
           {
            "bin_end": 3.7,
            "bin_start": 3.25,
            "count": 32
           },
           {
            "bin_end": 4.15,
            "bin_start": 3.7,
            "count": 13
           },
           {
            "bin_end": 4.6,
            "bin_start": 4.15,
            "count": 0
           },
           {
            "bin_end": 5.05,
            "bin_start": 4.6,
            "count": 1
           },
           {
            "bin_end": 5.5,
            "bin_start": 5.05,
            "count": 1
           }
          ],
          "max": "5.5",
          "min": "1.0",
          "nan_count": 0,
          "unique_count": 11
         }
        },
        {
         "dtype": "float64",
         "name": "TransTotal",
         "stats": {
          "histogram": [
           {
            "bin_end": 1.6,
            "bin_start": 1,
            "count": 352
           },
           {
            "bin_end": 2.2,
            "bin_start": 1.6,
            "count": 93
           },
           {
            "bin_end": 2.8,
            "bin_start": 2.2,
            "count": 94
           },
           {
            "bin_end": 3.4,
            "bin_start": 2.8,
            "count": 72
           },
           {
            "bin_end": 4,
            "bin_start": 3.4,
            "count": 35
           },
           {
            "bin_end": 4.6,
            "bin_start": 4,
            "count": 20
           },
           {
            "bin_end": 5.2,
            "bin_start": 4.6,
            "count": 7
           },
           {
            "bin_end": 5.8,
            "bin_start": 5.2,
            "count": 8
           },
           {
            "bin_end": 6.3999999999999995,
            "bin_start": 5.8,
            "count": 0
           },
           {
            "bin_end": 7,
            "bin_start": 6.3999999999999995,
            "count": 3
           }
          ],
          "max": "7.0",
          "min": "1.0",
          "nan_count": 0,
          "unique_count": 13
         }
        },
        {
         "dtype": "object",
         "name": "Prcd Date",
         "stats": {
          "categories": [
           {
            "count": 40,
            "name": "7/16/2022"
           },
           {
            "count": 30,
            "name": "4/2/2022"
           },
           {
            "count": 614,
            "name": "56 others"
           }
          ],
          "nan_count": 0,
          "unique_count": 58
         }
        },
        {
         "dtype": "int64",
         "name": "_deepnote_index_column"
        }
       ],
       "row_count": 684,
       "rows": [
        {
         "Category": "Carbonated",
         "Device ID": "VJ300320611",
         "LineTotal": "3.5",
         "Location": "Brunswick Sq Mall",
         "MCoil": "148",
         "MPrice": "3.5",
         "MQty": "1",
         "Machine": "BSQ Mall x1366 - ATT",
         "Prcd Date": "1/1/2022",
         "Product": "Red Bull - Energy Drink - Sugar Free",
         "RCoil": "148",
         "RPrice": "3.5",
         "RQty": "1",
         "Status": "Processed",
         "TransDate": "Saturday, January 1, 2022",
         "TransTotal": "3.5",
         "Transaction": "14515778905",
         "Type": "Credit",
         "_deepnote_index_column": "0"
        },
        {
         "Category": "Carbonated",
         "Device ID": "VJ300320611",
         "LineTotal": "3.5",
         "Location": "Brunswick Sq Mall",
         "MCoil": "148",
         "MPrice": "3.5",
         "MQty": "1",
         "Machine": "BSQ Mall x1366 - ATT",
         "Prcd Date": "1/1/2022",
         "Product": "Red Bull - Energy Drink - Sugar Free",
         "RCoil": "148",
         "RPrice": "3.5",
         "RQty": "1",
         "Status": "Processed",
         "TransDate": "Saturday, January 1, 2022",
         "TransTotal": "5.0",
         "Transaction": "14516018629",
         "Type": "Credit",
         "_deepnote_index_column": "1"
        },
        {
         "Category": "Food",
         "Device ID": "VJ300320611",
         "LineTotal": "1.5",
         "Location": "Brunswick Sq Mall",
         "MCoil": "123",
         "MPrice": "1.5",
         "MQty": "1",
         "Machine": "BSQ Mall x1366 - ATT",
         "Prcd Date": "1/1/2022",
         "Product": "Takis - Hot Chilli Pepper & Lime",
         "RCoil": "123",
         "RPrice": "1.5",
         "RQty": "1",
         "Status": "Processed",
         "TransDate": "Saturday, January 1, 2022",
         "TransTotal": "5.0",
         "Transaction": "14516018629",
         "Type": "Credit",
         "_deepnote_index_column": "2"
        },
        {
         "Category": "Food",
         "Device ID": "VJ300320611",
         "LineTotal": "1.5",
         "Location": "Brunswick Sq Mall",
         "MCoil": "123",
         "MPrice": "1.5",
         "MQty": "1",
         "Machine": "BSQ Mall x1366 - ATT",
         "Prcd Date": "1/1/2022",
         "Product": "Takis - Hot Chilli Pepper & Lime",
         "RCoil": "123",
         "RPrice": "1.5",
         "RQty": "1",
         "Status": "Processed",
         "TransDate": "Saturday, January 1, 2022",
         "TransTotal": "1.5",
         "Transaction": "14516020373",
         "Type": "Credit",
         "_deepnote_index_column": "3"
        },
        {
         "Category": "Carbonated",
         "Device ID": "VJ300320611",
         "LineTotal": "3.5",
         "Location": "Brunswick Sq Mall",
         "MCoil": "148",
         "MPrice": "3.5",
         "MQty": "1",
         "Machine": "BSQ Mall x1366 - ATT",
         "Prcd Date": "1/1/2022",
         "Product": "Red Bull - Energy Drink - Sugar Free",
         "RCoil": "148",
         "RPrice": "3.5",
         "RQty": "1",
         "Status": "Processed",
         "TransDate": "Saturday, January 1, 2022",
         "TransTotal": "3.5",
         "Transaction": "14516021756",
         "Type": "Credit",
         "_deepnote_index_column": "4"
        },
        {
         "Category": "Food",
         "Device ID": "VJ300320609",
         "LineTotal": "1.5",
         "Location": "GuttenPlans",
         "MCoil": "121",
         "MPrice": "1.5",
         "MQty": "1",
         "Machine": "GuttenPlans x1367",
         "Prcd Date": "1/8/2022",
         "Product": "Takis - Hot Chilli Pepper & Lime",
         "RCoil": "121",
         "RPrice": "1.5",
         "RQty": "1",
         "Status": "Processed",
         "TransDate": "Saturday, January 8, 2022",
         "TransTotal": "1.5",
         "Transaction": "14541059295",
         "Type": "Cash",
         "_deepnote_index_column": "65"
        },
        {
         "Category": "Food",
         "Device ID": "VJ300320609",
         "LineTotal": "1.5",
         "Location": "GuttenPlans",
         "MCoil": "121",
         "MPrice": "1.5",
         "MQty": "1",
         "Machine": "GuttenPlans x1367",
         "Prcd Date": "1/8/2022",
         "Product": "Takis - Hot Chilli Pepper & Lime",
         "RCoil": "121",
         "RPrice": "1.5",
         "RQty": "1",
         "Status": "Processed",
         "TransDate": "Saturday, January 8, 2022",
         "TransTotal": "1.5",
         "Transaction": "14541060237",
         "Type": "Cash",
         "_deepnote_index_column": "66"
        },
        {
         "Category": "Food",
         "Device ID": "VJ300320611",
         "LineTotal": "1.25",
         "Location": "Brunswick Sq Mall",
         "MCoil": "124",
         "MPrice": "1.25",
         "MQty": "1",
         "Machine": "BSQ Mall x1366 - ATT",
         "Prcd Date": "1/8/2022",
         "Product": "Chum Fruit Bites - Mango/Strawberry",
         "RCoil": "124",
         "RPrice": "1.25",
         "RQty": "1",
         "Status": "Processed",
         "TransDate": "Saturday, January 8, 2022",
         "TransTotal": "1.25",
         "Transaction": "14541788105",
         "Type": "Credit",
         "_deepnote_index_column": "67"
        },
        {
         "Category": "Non Carbonated",
         "Device ID": "VJ300320611",
         "LineTotal": "2.5",
         "Location": "Brunswick Sq Mall",
         "MCoil": "145",
         "MPrice": "2.5",
         "MQty": "1",
         "Machine": "BSQ Mall x1366 - ATT",
         "Prcd Date": "1/8/2022",
         "Product": "Snapple Diet Tea - Raspberry",
         "RCoil": "145",
         "RPrice": "2.5",
         "RQty": "1",
         "Status": "Processed",
         "TransDate": "Saturday, January 8, 2022",
         "TransTotal": "2.5",
         "Transaction": "14542451941",
         "Type": "Cash",
         "_deepnote_index_column": "68"
        },
        {
         "Category": "Non Carbonated",
         "Device ID": "VJ300205292",
         "LineTotal": "2.5",
         "Location": "Brunswick Sq Mall",
         "MCoil": "148",
         "MPrice": "2.5",
         "MQty": "1",
         "Machine": "BSQ Mall x1364 - Zales",
         "Prcd Date": "1/8/2022",
         "Product": "Zevia Zero Calorie Energy - Mango Ginger",
         "RCoil": "148",
         "RPrice": "2.5",
         "RQty": "1",
         "Status": "Processed",
         "TransDate": "Saturday, January 8, 2022",
         "TransTotal": "2.5",
         "Transaction": "14542482305",
         "Type": "Cash",
         "_deepnote_index_column": "69"
        }
       ]
      },
      "text/html": [
       "<div>\n",
       "<style scoped>\n",
       "    .dataframe tbody tr th:only-of-type {\n",
       "        vertical-align: middle;\n",
       "    }\n",
       "\n",
       "    .dataframe tbody tr th {\n",
       "        vertical-align: top;\n",
       "    }\n",
       "\n",
       "    .dataframe thead th {\n",
       "        text-align: right;\n",
       "    }\n",
       "</style>\n",
       "<table border=\"1\" class=\"dataframe\">\n",
       "  <thead>\n",
       "    <tr style=\"text-align: right;\">\n",
       "      <th></th>\n",
       "      <th>Status</th>\n",
       "      <th>Device ID</th>\n",
       "      <th>Location</th>\n",
       "      <th>Machine</th>\n",
       "      <th>Product</th>\n",
       "      <th>Category</th>\n",
       "      <th>Transaction</th>\n",
       "      <th>TransDate</th>\n",
       "      <th>Type</th>\n",
       "      <th>RCoil</th>\n",
       "      <th>RPrice</th>\n",
       "      <th>RQty</th>\n",
       "      <th>MCoil</th>\n",
       "      <th>MPrice</th>\n",
       "      <th>MQty</th>\n",
       "      <th>LineTotal</th>\n",
       "      <th>TransTotal</th>\n",
       "      <th>Prcd Date</th>\n",
       "    </tr>\n",
       "  </thead>\n",
       "  <tbody>\n",
       "    <tr>\n",
       "      <th>0</th>\n",
       "      <td>Processed</td>\n",
       "      <td>VJ300320611</td>\n",
       "      <td>Brunswick Sq Mall</td>\n",
       "      <td>BSQ Mall x1366 - ATT</td>\n",
       "      <td>Red Bull - Energy Drink - Sugar Free</td>\n",
       "      <td>Carbonated</td>\n",
       "      <td>14515778905</td>\n",
       "      <td>Saturday, January 1, 2022</td>\n",
       "      <td>Credit</td>\n",
       "      <td>148</td>\n",
       "      <td>3.5</td>\n",
       "      <td>1</td>\n",
       "      <td>148</td>\n",
       "      <td>3.5</td>\n",
       "      <td>1</td>\n",
       "      <td>3.5</td>\n",
       "      <td>3.5</td>\n",
       "      <td>1/1/2022</td>\n",
       "    </tr>\n",
       "    <tr>\n",
       "      <th>1</th>\n",
       "      <td>Processed</td>\n",
       "      <td>VJ300320611</td>\n",
       "      <td>Brunswick Sq Mall</td>\n",
       "      <td>BSQ Mall x1366 - ATT</td>\n",
       "      <td>Red Bull - Energy Drink - Sugar Free</td>\n",
       "      <td>Carbonated</td>\n",
       "      <td>14516018629</td>\n",
       "      <td>Saturday, January 1, 2022</td>\n",
       "      <td>Credit</td>\n",
       "      <td>148</td>\n",
       "      <td>3.5</td>\n",
       "      <td>1</td>\n",
       "      <td>148</td>\n",
       "      <td>3.5</td>\n",
       "      <td>1</td>\n",
       "      <td>3.5</td>\n",
       "      <td>5.0</td>\n",
       "      <td>1/1/2022</td>\n",
       "    </tr>\n",
       "    <tr>\n",
       "      <th>2</th>\n",
       "      <td>Processed</td>\n",
       "      <td>VJ300320611</td>\n",
       "      <td>Brunswick Sq Mall</td>\n",
       "      <td>BSQ Mall x1366 - ATT</td>\n",
       "      <td>Takis - Hot Chilli Pepper &amp; Lime</td>\n",
       "      <td>Food</td>\n",
       "      <td>14516018629</td>\n",
       "      <td>Saturday, January 1, 2022</td>\n",
       "      <td>Credit</td>\n",
       "      <td>123</td>\n",
       "      <td>1.5</td>\n",
       "      <td>1</td>\n",
       "      <td>123</td>\n",
       "      <td>1.5</td>\n",
       "      <td>1</td>\n",
       "      <td>1.5</td>\n",
       "      <td>5.0</td>\n",
       "      <td>1/1/2022</td>\n",
       "    </tr>\n",
       "    <tr>\n",
       "      <th>3</th>\n",
       "      <td>Processed</td>\n",
       "      <td>VJ300320611</td>\n",
       "      <td>Brunswick Sq Mall</td>\n",
       "      <td>BSQ Mall x1366 - ATT</td>\n",
       "      <td>Takis - Hot Chilli Pepper &amp; Lime</td>\n",
       "      <td>Food</td>\n",
       "      <td>14516020373</td>\n",
       "      <td>Saturday, January 1, 2022</td>\n",
       "      <td>Credit</td>\n",
       "      <td>123</td>\n",
       "      <td>1.5</td>\n",
       "      <td>1</td>\n",
       "      <td>123</td>\n",
       "      <td>1.5</td>\n",
       "      <td>1</td>\n",
       "      <td>1.5</td>\n",
       "      <td>1.5</td>\n",
       "      <td>1/1/2022</td>\n",
       "    </tr>\n",
       "    <tr>\n",
       "      <th>4</th>\n",
       "      <td>Processed</td>\n",
       "      <td>VJ300320611</td>\n",
       "      <td>Brunswick Sq Mall</td>\n",
       "      <td>BSQ Mall x1366 - ATT</td>\n",
       "      <td>Red Bull - Energy Drink - Sugar Free</td>\n",
       "      <td>Carbonated</td>\n",
       "      <td>14516021756</td>\n",
       "      <td>Saturday, January 1, 2022</td>\n",
       "      <td>Credit</td>\n",
       "      <td>148</td>\n",
       "      <td>3.5</td>\n",
       "      <td>1</td>\n",
       "      <td>148</td>\n",
       "      <td>3.5</td>\n",
       "      <td>1</td>\n",
       "      <td>3.5</td>\n",
       "      <td>3.5</td>\n",
       "      <td>1/1/2022</td>\n",
       "    </tr>\n",
       "    <tr>\n",
       "      <th>...</th>\n",
       "      <td>...</td>\n",
       "      <td>...</td>\n",
       "      <td>...</td>\n",
       "      <td>...</td>\n",
       "      <td>...</td>\n",
       "      <td>...</td>\n",
       "      <td>...</td>\n",
       "      <td>...</td>\n",
       "      <td>...</td>\n",
       "      <td>...</td>\n",
       "      <td>...</td>\n",
       "      <td>...</td>\n",
       "      <td>...</td>\n",
       "      <td>...</td>\n",
       "      <td>...</td>\n",
       "      <td>...</td>\n",
       "      <td>...</td>\n",
       "      <td>...</td>\n",
       "    </tr>\n",
       "    <tr>\n",
       "      <th>6322</th>\n",
       "      <td>Processed</td>\n",
       "      <td>VJ300320692</td>\n",
       "      <td>EB Public Library</td>\n",
       "      <td>EB Public Library x1380</td>\n",
       "      <td>Goldfish Baked - Cheddar</td>\n",
       "      <td>Food</td>\n",
       "      <td>15586314095</td>\n",
       "      <td>Saturday, August 27, 2022</td>\n",
       "      <td>Credit</td>\n",
       "      <td>125</td>\n",
       "      <td>1.5</td>\n",
       "      <td>1</td>\n",
       "      <td>125</td>\n",
       "      <td>1.5</td>\n",
       "      <td>1</td>\n",
       "      <td>1.5</td>\n",
       "      <td>1.5</td>\n",
       "      <td>8/27/2022</td>\n",
       "    </tr>\n",
       "    <tr>\n",
       "      <th>6323</th>\n",
       "      <td>Processed</td>\n",
       "      <td>VJ300320692</td>\n",
       "      <td>EB Public Library</td>\n",
       "      <td>EB Public Library x1380</td>\n",
       "      <td>Lenny &amp; Larrys - SnickerDoodle</td>\n",
       "      <td>Food</td>\n",
       "      <td>15586432746</td>\n",
       "      <td>Saturday, August 27, 2022</td>\n",
       "      <td>Cash</td>\n",
       "      <td>157</td>\n",
       "      <td>3.0</td>\n",
       "      <td>1</td>\n",
       "      <td>157</td>\n",
       "      <td>3.0</td>\n",
       "      <td>1</td>\n",
       "      <td>3.0</td>\n",
       "      <td>3.0</td>\n",
       "      <td>8/27/2022</td>\n",
       "    </tr>\n",
       "    <tr>\n",
       "      <th>6324</th>\n",
       "      <td>Processed</td>\n",
       "      <td>VJ300320692</td>\n",
       "      <td>EB Public Library</td>\n",
       "      <td>EB Public Library x1380</td>\n",
       "      <td>SunChips Multigrain - Harvest Cheddar</td>\n",
       "      <td>Food</td>\n",
       "      <td>15586827743</td>\n",
       "      <td>Saturday, August 27, 2022</td>\n",
       "      <td>Cash</td>\n",
       "      <td>110</td>\n",
       "      <td>1.5</td>\n",
       "      <td>1</td>\n",
       "      <td>110</td>\n",
       "      <td>1.5</td>\n",
       "      <td>1</td>\n",
       "      <td>1.5</td>\n",
       "      <td>1.5</td>\n",
       "      <td>8/27/2022</td>\n",
       "    </tr>\n",
       "    <tr>\n",
       "      <th>6325</th>\n",
       "      <td>Processed</td>\n",
       "      <td>VJ300320611</td>\n",
       "      <td>Brunswick Sq Mall</td>\n",
       "      <td>BSQ Mall x1366 - ATT</td>\n",
       "      <td>Poland Springs Water</td>\n",
       "      <td>Water</td>\n",
       "      <td>15586849358</td>\n",
       "      <td>Saturday, August 27, 2022</td>\n",
       "      <td>Credit</td>\n",
       "      <td>143</td>\n",
       "      <td>2.0</td>\n",
       "      <td>1</td>\n",
       "      <td>143</td>\n",
       "      <td>2.0</td>\n",
       "      <td>1</td>\n",
       "      <td>2.0</td>\n",
       "      <td>2.0</td>\n",
       "      <td>8/27/2022</td>\n",
       "    </tr>\n",
       "    <tr>\n",
       "      <th>6326</th>\n",
       "      <td>Processed</td>\n",
       "      <td>VJ300205292</td>\n",
       "      <td>Brunswick Sq Mall</td>\n",
       "      <td>BSQ Mall x1364 - Zales</td>\n",
       "      <td>Pop Corners - White Cheddar</td>\n",
       "      <td>Food</td>\n",
       "      <td>15586848996</td>\n",
       "      <td>Saturday, August 27, 2022</td>\n",
       "      <td>Cash</td>\n",
       "      <td>114</td>\n",
       "      <td>1.5</td>\n",
       "      <td>1</td>\n",
       "      <td>114</td>\n",
       "      <td>1.5</td>\n",
       "      <td>1</td>\n",
       "      <td>1.5</td>\n",
       "      <td>1.5</td>\n",
       "      <td>8/27/2022</td>\n",
       "    </tr>\n",
       "  </tbody>\n",
       "</table>\n",
       "<p>684 rows × 18 columns</p>\n",
       "</div>"
      ],
      "text/plain": [
       "         Status    Device ID           Location                  Machine  \\\n",
       "0     Processed  VJ300320611  Brunswick Sq Mall     BSQ Mall x1366 - ATT   \n",
       "1     Processed  VJ300320611  Brunswick Sq Mall     BSQ Mall x1366 - ATT   \n",
       "2     Processed  VJ300320611  Brunswick Sq Mall     BSQ Mall x1366 - ATT   \n",
       "3     Processed  VJ300320611  Brunswick Sq Mall     BSQ Mall x1366 - ATT   \n",
       "4     Processed  VJ300320611  Brunswick Sq Mall     BSQ Mall x1366 - ATT   \n",
       "...         ...          ...                ...                      ...   \n",
       "6322  Processed  VJ300320692  EB Public Library  EB Public Library x1380   \n",
       "6323  Processed  VJ300320692  EB Public Library  EB Public Library x1380   \n",
       "6324  Processed  VJ300320692  EB Public Library  EB Public Library x1380   \n",
       "6325  Processed  VJ300320611  Brunswick Sq Mall     BSQ Mall x1366 - ATT   \n",
       "6326  Processed  VJ300205292  Brunswick Sq Mall   BSQ Mall x1364 - Zales   \n",
       "\n",
       "                                    Product    Category  Transaction  \\\n",
       "0      Red Bull - Energy Drink - Sugar Free  Carbonated  14515778905   \n",
       "1      Red Bull - Energy Drink - Sugar Free  Carbonated  14516018629   \n",
       "2          Takis - Hot Chilli Pepper & Lime        Food  14516018629   \n",
       "3          Takis - Hot Chilli Pepper & Lime        Food  14516020373   \n",
       "4      Red Bull - Energy Drink - Sugar Free  Carbonated  14516021756   \n",
       "...                                     ...         ...          ...   \n",
       "6322               Goldfish Baked - Cheddar        Food  15586314095   \n",
       "6323         Lenny & Larrys - SnickerDoodle        Food  15586432746   \n",
       "6324  SunChips Multigrain - Harvest Cheddar        Food  15586827743   \n",
       "6325                   Poland Springs Water       Water  15586849358   \n",
       "6326            Pop Corners - White Cheddar        Food  15586848996   \n",
       "\n",
       "                      TransDate    Type  RCoil  RPrice  RQty  MCoil  MPrice  \\\n",
       "0     Saturday, January 1, 2022  Credit    148     3.5     1    148     3.5   \n",
       "1     Saturday, January 1, 2022  Credit    148     3.5     1    148     3.5   \n",
       "2     Saturday, January 1, 2022  Credit    123     1.5     1    123     1.5   \n",
       "3     Saturday, January 1, 2022  Credit    123     1.5     1    123     1.5   \n",
       "4     Saturday, January 1, 2022  Credit    148     3.5     1    148     3.5   \n",
       "...                         ...     ...    ...     ...   ...    ...     ...   \n",
       "6322  Saturday, August 27, 2022  Credit    125     1.5     1    125     1.5   \n",
       "6323  Saturday, August 27, 2022    Cash    157     3.0     1    157     3.0   \n",
       "6324  Saturday, August 27, 2022    Cash    110     1.5     1    110     1.5   \n",
       "6325  Saturday, August 27, 2022  Credit    143     2.0     1    143     2.0   \n",
       "6326  Saturday, August 27, 2022    Cash    114     1.5     1    114     1.5   \n",
       "\n",
       "      MQty  LineTotal  TransTotal  Prcd Date  \n",
       "0        1        3.5         3.5   1/1/2022  \n",
       "1        1        3.5         5.0   1/1/2022  \n",
       "2        1        1.5         5.0   1/1/2022  \n",
       "3        1        1.5         1.5   1/1/2022  \n",
       "4        1        3.5         3.5   1/1/2022  \n",
       "...    ...        ...         ...        ...  \n",
       "6322     1        1.5         1.5  8/27/2022  \n",
       "6323     1        3.0         3.0  8/27/2022  \n",
       "6324     1        1.5         1.5  8/27/2022  \n",
       "6325     1        2.0         2.0  8/27/2022  \n",
       "6326     1        1.5         1.5  8/27/2022  \n",
       "\n",
       "[684 rows x 18 columns]"
      ]
     },
     "execution_count": 32,
     "metadata": {},
     "output_type": "execute_result"
    }
   ],
   "source": [
    "# Boolean indexing\n",
    "df[myseries.str.startswith(\"Saturday\")]"
   ]
  },
  {
   "cell_type": "markdown",
   "metadata": {},
   "source": [
    "The answer to our question (which we already found above using the `sum` method) can now be found by determining the number of rows in the sub-DataFrame.  The sub-DataFrame has 684 rows and 18 columns."
   ]
  },
  {
   "cell_type": "code",
   "execution_count": 33,
   "metadata": {
    "cell_id": "f856670f0ff44ca7be0ef922e590e8c4",
    "deepnote_cell_type": "code",
    "deepnote_to_be_reexecuted": false,
    "execution_millis": 4,
    "execution_start": 1664321078400,
    "source_hash": "4ecf4044",
    "tags": []
   },
   "outputs": [
    {
     "data": {
      "text/plain": [
       "(684, 18)"
      ]
     },
     "execution_count": 33,
     "metadata": {},
     "output_type": "execute_result"
    }
   ],
   "source": [
    "df[myseries.str.startswith(\"Saturday\")].shape"
   ]
  },
  {
   "cell_type": "markdown",
   "metadata": {},
   "source": [
    "If we just want the number of rows, we can extract the number at position `0` from the `shape` tuple."
   ]
  },
  {
   "cell_type": "code",
   "execution_count": 34,
   "metadata": {
    "cell_id": "e0b3231ed90e48ec93951bedad73c5ca",
    "deepnote_cell_type": "code",
    "deepnote_to_be_reexecuted": false,
    "execution_millis": 8,
    "execution_start": 1664321096408,
    "source_hash": "f731e859",
    "tags": []
   },
   "outputs": [
    {
     "data": {
      "text/plain": [
       "684"
      ]
     },
     "execution_count": 34,
     "metadata": {},
     "output_type": "execute_result"
    }
   ],
   "source": [
    "df[myseries.str.startswith(\"Saturday\")].shape[0]"
   ]
  },
  {
   "cell_type": "markdown",
   "metadata": {
    "cell_id": "a9962eb4729f40728adb8ae4c0bf18f9",
    "deepnote_cell_type": "markdown",
    "tags": []
   },
   "source": [
    "## Using timestamp methods\n",
    "\n",
    "It was easy to tell (at least as a human, if not as a computer) that our string `s` above corresponded to Saturday, because the word \"Saturday\" was in the string `s`."
   ]
  },
  {
   "cell_type": "code",
   "execution_count": 35,
   "metadata": {
    "cell_id": "73cedcfd78064a42a337a274f7eddbb0",
    "deepnote_cell_type": "code",
    "deepnote_to_be_reexecuted": false,
    "execution_millis": 5,
    "execution_start": 1664321169797,
    "source_hash": "465dd177",
    "tags": []
   },
   "outputs": [
    {
     "data": {
      "text/plain": [
       "'Saturday, January 1, 2022'"
      ]
     },
     "execution_count": 35,
     "metadata": {},
     "output_type": "execute_result"
    }
   ],
   "source": [
    "s"
   ]
  },
  {
   "cell_type": "markdown",
   "metadata": {},
   "source": [
    "A lot of times, dates will be provided to us in a more compact format.  For example, even in this same dataset, the dates in the \"Prcd Date\" column are written differently.  Here we access the date in the row labeled `20` and the column labeled `\"Prcd Date\"` using `.loc`."
   ]
  },
  {
   "cell_type": "code",
   "execution_count": 36,
   "metadata": {
    "cell_id": "19c12e024dc7431faa4838e37a36243e",
    "deepnote_cell_type": "code",
    "deepnote_to_be_reexecuted": false,
    "execution_millis": 0,
    "execution_start": 1664321220732,
    "source_hash": "2f373b56",
    "tags": []
   },
   "outputs": [],
   "source": [
    "t = df.loc[20, \"Prcd Date\"]"
   ]
  },
  {
   "cell_type": "markdown",
   "metadata": {},
   "source": [
    "It's much more difficult to tell what day of the week this date corresponds to."
   ]
  },
  {
   "cell_type": "code",
   "execution_count": 37,
   "metadata": {
    "cell_id": "73f18360533346df8fda041bc85415d8",
    "deepnote_cell_type": "code",
    "deepnote_to_be_reexecuted": false,
    "execution_millis": 8,
    "execution_start": 1664321223241,
    "source_hash": "51b57d41",
    "tags": []
   },
   "outputs": [
    {
     "data": {
      "text/plain": [
       "'1/3/2022'"
      ]
     },
     "execution_count": 37,
     "metadata": {},
     "output_type": "execute_result"
    }
   ],
   "source": [
    "t"
   ]
  },
  {
   "cell_type": "markdown",
   "metadata": {},
   "source": [
    "As a first step, we will use the `to_datetime` function in pandas to convert `t` into a Timestamp.  The following is not the correct syntax, because we have not told Python where to find the `to_datetime` function."
   ]
  },
  {
   "cell_type": "code",
   "execution_count": 38,
   "metadata": {
    "cell_id": "0585f4253aaf40d3baeade6061dec45e",
    "deepnote_cell_type": "code",
    "deepnote_to_be_reexecuted": false,
    "execution_millis": 124,
    "execution_start": 1664321347157,
    "source_hash": "f516f3c9",
    "tags": []
   },
   "outputs": [
    {
     "ename": "NameError",
     "evalue": "name 'to_datetime' is not defined",
     "output_type": "error",
     "traceback": [
      "\u001b[0;31m---------------------------------------------------------------------------\u001b[0m",
      "\u001b[0;31mNameError\u001b[0m                                 Traceback (most recent call last)",
      "Cell \u001b[0;32mIn [38], line 2\u001b[0m\n\u001b[1;32m      1\u001b[0m \u001b[38;5;66;03m# use the to_datetime function in pandas\u001b[39;00m\n\u001b[0;32m----> 2\u001b[0m \u001b[43mto_datetime\u001b[49m(t)\n",
      "\u001b[0;31mNameError\u001b[0m: name 'to_datetime' is not defined"
     ]
    }
   ],
   "source": [
    "# use the to_datetime function in pandas\n",
    "to_datetime(t)"
   ]
  },
  {
   "cell_type": "markdown",
   "metadata": {},
   "source": [
    "The correct syntax to use is `pd.to_datetime`, which tells Python to get the `to_datetime` function from the pandas library."
   ]
  },
  {
   "cell_type": "code",
   "execution_count": 40,
   "metadata": {
    "cell_id": "bc6804cb7a9b42df97529a8bced5a677",
    "deepnote_cell_type": "code",
    "deepnote_to_be_reexecuted": false,
    "execution_millis": 902,
    "execution_start": 1664321426046,
    "source_hash": "5d41bec4",
    "tags": []
   },
   "outputs": [
    {
     "data": {
      "text/plain": [
       "Timestamp('2022-01-03 00:00:00')"
      ]
     },
     "execution_count": 40,
     "metadata": {},
     "output_type": "execute_result"
    }
   ],
   "source": [
    "ts = pd.to_datetime(t)\n",
    "ts"
   ]
  },
  {
   "cell_type": "markdown",
   "metadata": {},
   "source": [
    "The variable `t` is still a string."
   ]
  },
  {
   "cell_type": "code",
   "execution_count": 41,
   "metadata": {
    "cell_id": "8854fcc2294545e2a4488b7e5f39667c",
    "deepnote_cell_type": "code",
    "deepnote_to_be_reexecuted": false,
    "execution_millis": 4,
    "execution_start": 1664321428368,
    "source_hash": "d052ddb8",
    "tags": []
   },
   "outputs": [
    {
     "data": {
      "text/plain": [
       "str"
      ]
     },
     "execution_count": 41,
     "metadata": {},
     "output_type": "execute_result"
    }
   ],
   "source": [
    "type(t)"
   ]
  },
  {
   "cell_type": "markdown",
   "metadata": {},
   "source": [
    "The variable `ts` that we just defined is a pandas Timestamp.  Because it is a new type of object that is specifically related to a time, it will have lots of new functionality."
   ]
  },
  {
   "cell_type": "code",
   "execution_count": 42,
   "metadata": {
    "cell_id": "050cf5a28f1a4d86b06506134a5c96e4",
    "deepnote_cell_type": "code",
    "deepnote_to_be_reexecuted": false,
    "execution_millis": 6,
    "execution_start": 1664321446379,
    "source_hash": "f9283169",
    "tags": []
   },
   "outputs": [
    {
     "data": {
      "text/plain": [
       "pandas._libs.tslibs.timestamps.Timestamp"
      ]
     },
     "execution_count": 42,
     "metadata": {},
     "output_type": "execute_result"
    }
   ],
   "source": [
    "type(ts)"
   ]
  },
  {
   "cell_type": "markdown",
   "metadata": {},
   "source": [
    "Like usual, we can see all of the methods and attributes defined on `ts` by using Python's `dir` function.  Scroll through these and try to decide which ones will tell us that the date represents a Monday."
   ]
  },
  {
   "cell_type": "code",
   "execution_count": 43,
   "metadata": {
    "cell_id": "43db0123333949f195927bd7a7f82b93",
    "deepnote_cell_type": "code",
    "deepnote_to_be_reexecuted": false,
    "execution_millis": 6,
    "execution_start": 1664321528025,
    "source_hash": "bedf0ea6",
    "tags": [
     "output_scroll"
    ]
   },
   "outputs": [
    {
     "data": {
      "text/plain": [
       "['__add__',\n",
       " '__array_priority__',\n",
       " '__class__',\n",
       " '__delattr__',\n",
       " '__dict__',\n",
       " '__dir__',\n",
       " '__doc__',\n",
       " '__eq__',\n",
       " '__format__',\n",
       " '__ge__',\n",
       " '__getattribute__',\n",
       " '__gt__',\n",
       " '__hash__',\n",
       " '__init__',\n",
       " '__init_subclass__',\n",
       " '__le__',\n",
       " '__lt__',\n",
       " '__module__',\n",
       " '__ne__',\n",
       " '__new__',\n",
       " '__pyx_vtable__',\n",
       " '__radd__',\n",
       " '__reduce__',\n",
       " '__reduce_cython__',\n",
       " '__reduce_ex__',\n",
       " '__repr__',\n",
       " '__rsub__',\n",
       " '__setattr__',\n",
       " '__setstate__',\n",
       " '__setstate_cython__',\n",
       " '__sizeof__',\n",
       " '__str__',\n",
       " '__sub__',\n",
       " '__subclasshook__',\n",
       " '__weakref__',\n",
       " '_date_repr',\n",
       " '_repr_base',\n",
       " '_round',\n",
       " '_short_repr',\n",
       " '_time_repr',\n",
       " 'asm8',\n",
       " 'astimezone',\n",
       " 'ceil',\n",
       " 'combine',\n",
       " 'ctime',\n",
       " 'date',\n",
       " 'day',\n",
       " 'day_name',\n",
       " 'day_of_week',\n",
       " 'day_of_year',\n",
       " 'dayofweek',\n",
       " 'dayofyear',\n",
       " 'days_in_month',\n",
       " 'daysinmonth',\n",
       " 'dst',\n",
       " 'floor',\n",
       " 'fold',\n",
       " 'freq',\n",
       " 'freqstr',\n",
       " 'fromisocalendar',\n",
       " 'fromisoformat',\n",
       " 'fromordinal',\n",
       " 'fromtimestamp',\n",
       " 'hour',\n",
       " 'is_leap_year',\n",
       " 'is_month_end',\n",
       " 'is_month_start',\n",
       " 'is_quarter_end',\n",
       " 'is_quarter_start',\n",
       " 'is_year_end',\n",
       " 'is_year_start',\n",
       " 'isocalendar',\n",
       " 'isoformat',\n",
       " 'isoweekday',\n",
       " 'max',\n",
       " 'microsecond',\n",
       " 'min',\n",
       " 'minute',\n",
       " 'month',\n",
       " 'month_name',\n",
       " 'nanosecond',\n",
       " 'normalize',\n",
       " 'now',\n",
       " 'quarter',\n",
       " 'replace',\n",
       " 'resolution',\n",
       " 'round',\n",
       " 'second',\n",
       " 'strftime',\n",
       " 'strptime',\n",
       " 'time',\n",
       " 'timestamp',\n",
       " 'timetuple',\n",
       " 'timetz',\n",
       " 'to_datetime64',\n",
       " 'to_julian_date',\n",
       " 'to_numpy',\n",
       " 'to_period',\n",
       " 'to_pydatetime',\n",
       " 'today',\n",
       " 'toordinal',\n",
       " 'tz',\n",
       " 'tz_convert',\n",
       " 'tz_localize',\n",
       " 'tzinfo',\n",
       " 'tzname',\n",
       " 'utcfromtimestamp',\n",
       " 'utcnow',\n",
       " 'utcoffset',\n",
       " 'utctimetuple',\n",
       " 'value',\n",
       " 'week',\n",
       " 'weekday',\n",
       " 'weekofyear',\n",
       " 'year']"
      ]
     },
     "execution_count": 43,
     "metadata": {},
     "output_type": "execute_result"
    }
   ],
   "source": [
    "dir(ts)"
   ]
  },
  {
   "cell_type": "markdown",
   "metadata": {},
   "source": [
    "A good guess is to use `day`, but that tells us the day of the month.  Because `ts` represents January 3rd 2022, the `day` attribute returns the integer `3`."
   ]
  },
  {
   "cell_type": "code",
   "execution_count": 44,
   "metadata": {
    "cell_id": "78d0d3d7e94e45a381071ff66a846287",
    "deepnote_cell_type": "code",
    "deepnote_to_be_reexecuted": false,
    "execution_millis": 3,
    "execution_start": 1664321580888,
    "source_hash": "bccd088d",
    "tags": []
   },
   "outputs": [
    {
     "data": {
      "text/plain": [
       "3"
      ]
     },
     "execution_count": 44,
     "metadata": {},
     "output_type": "execute_result"
    }
   ],
   "source": [
    "ts.day"
   ]
  },
  {
   "cell_type": "markdown",
   "metadata": {},
   "source": [
    "Warning.  As far as I know, there is no good way to know in advance which of these are methods and which are attributes.  (And you certainly won't be tested on that.)  The important thing is to recognize when you have called one incorrectly.  Here we try calling `day` as a method.  The error says that \"'int' object is not callable\".  That is because `ts.day` is getting converted into `3`, so calling `ts.day()` is like calling `3()`, and that is the explanation for this error message."
   ]
  },
  {
   "cell_type": "code",
   "execution_count": 46,
   "metadata": {
    "cell_id": "23f32f3bdc814dbe89c9afc2fb2e7ee6",
    "deepnote_cell_type": "code",
    "deepnote_to_be_reexecuted": false,
    "execution_millis": 152,
    "execution_start": 1664321592861,
    "source_hash": "4ae74336",
    "tags": []
   },
   "outputs": [
    {
     "ename": "TypeError",
     "evalue": "'int' object is not callable",
     "output_type": "error",
     "traceback": [
      "\u001b[0;31m---------------------------------------------------------------------------\u001b[0m",
      "\u001b[0;31mTypeError\u001b[0m                                 Traceback (most recent call last)",
      "Cell \u001b[0;32mIn [46], line 1\u001b[0m\n\u001b[0;32m----> 1\u001b[0m \u001b[43mts\u001b[49m\u001b[38;5;241;43m.\u001b[39;49m\u001b[43mday\u001b[49m\u001b[43m(\u001b[49m\u001b[43m)\u001b[49m\n",
      "\u001b[0;31mTypeError\u001b[0m: 'int' object is not callable"
     ]
    }
   ],
   "source": [
    "ts.day()"
   ]
  },
  {
   "cell_type": "markdown",
   "metadata": {},
   "source": [
    "Another try is `day_of_week`, and that is correct, but it's difficult to know in advance which day of the week corresponds to `0`.  Let's keep looking."
   ]
  },
  {
   "cell_type": "code",
   "execution_count": 47,
   "metadata": {
    "cell_id": "8a85ec5ec2a647b49db4059a65d8505e",
    "deepnote_cell_type": "code",
    "deepnote_to_be_reexecuted": false,
    "execution_millis": 6,
    "execution_start": 1664321644753,
    "source_hash": "3921a34f",
    "tags": []
   },
   "outputs": [
    {
     "data": {
      "text/plain": [
       "0"
      ]
     },
     "execution_count": 47,
     "metadata": {},
     "output_type": "execute_result"
    }
   ],
   "source": [
    "ts.day_of_week"
   ]
  },
  {
   "cell_type": "markdown",
   "metadata": {},
   "source": [
    "The `dayofweek` attribute (note that there are no underscores) returns the same integer `0`.  We are looking for something that returns the string `\"Monday\"`."
   ]
  },
  {
   "cell_type": "code",
   "execution_count": 48,
   "metadata": {
    "cell_id": "fb31d1d53ca0473abb988ec9c794a699",
    "deepnote_cell_type": "code",
    "deepnote_to_be_reexecuted": false,
    "execution_millis": 5,
    "execution_start": 1664321662663,
    "source_hash": "62b35bbd",
    "tags": []
   },
   "outputs": [
    {
     "data": {
      "text/plain": [
       "0"
      ]
     },
     "execution_count": 48,
     "metadata": {},
     "output_type": "execute_result"
    }
   ],
   "source": [
    "ts.dayofweek"
   ]
  },
  {
   "cell_type": "markdown",
   "metadata": {},
   "source": [
    "How about `day_name`?"
   ]
  },
  {
   "cell_type": "code",
   "execution_count": 49,
   "metadata": {
    "cell_id": "171cee07de3c466ba426bcf298377a75",
    "deepnote_cell_type": "code",
    "deepnote_to_be_reexecuted": false,
    "execution_millis": 7,
    "execution_start": 1664321693904,
    "source_hash": "96d60cf8",
    "tags": []
   },
   "outputs": [
    {
     "data": {
      "text/plain": [
       "<function Timestamp.day_name>"
      ]
     },
     "execution_count": 49,
     "metadata": {},
     "output_type": "execute_result"
    }
   ],
   "source": [
    "ts.day_name"
   ]
  },
  {
   "cell_type": "markdown",
   "metadata": {},
   "source": [
    "It looks like that didn't work.  This weird output is very similar (but shorter) to the `df.head` output we saw up above.\n",
    "\n",
    "This output is a sign that we should be calling `day_name` as a method, not as an attribute.  The following works."
   ]
  },
  {
   "cell_type": "code",
   "execution_count": 50,
   "metadata": {
    "cell_id": "3d8b2c4de1f64811b469a33de3b2a50b",
    "deepnote_cell_type": "code",
    "deepnote_to_be_reexecuted": false,
    "execution_millis": 523,
    "execution_start": 1664321744377,
    "source_hash": "9e6a9a88",
    "tags": []
   },
   "outputs": [
    {
     "data": {
      "text/plain": [
       "'Monday'"
      ]
     },
     "execution_count": 50,
     "metadata": {},
     "output_type": "execute_result"
    }
   ],
   "source": [
    "ts.day_name()"
   ]
  },
  {
   "cell_type": "markdown",
   "metadata": {},
   "source": [
    "Aside.  You might wonder why I call `day_name()` a method instead of a function.  In general, if a function is bound to a Python object, like how this `day_name` is bound to `ts`, then it is usually called a method.  As small evidence of that, notice in the documentation how both the word \"function\" and the word \"method\" are used."
   ]
  },
  {
   "cell_type": "code",
   "execution_count": 51,
   "metadata": {
    "cell_id": "d2b4a5d2387a44c4879cda87794dff93",
    "deepnote_cell_type": "code",
    "deepnote_to_be_reexecuted": false,
    "execution_millis": 4,
    "execution_start": 1664321815832,
    "source_hash": "27603bf1",
    "tags": []
   },
   "outputs": [
    {
     "name": "stdout",
     "output_type": "stream",
     "text": [
      "Help on built-in function day_name:\n",
      "\n",
      "day_name(...) method of pandas._libs.tslibs.timestamps.Timestamp instance\n",
      "    Return the day name of the Timestamp with specified locale.\n",
      "    \n",
      "    Parameters\n",
      "    ----------\n",
      "    locale : str, default None (English locale)\n",
      "        Locale determining the language in which to return the day name.\n",
      "    \n",
      "    Returns\n",
      "    -------\n",
      "    str\n",
      "\n"
     ]
    }
   ],
   "source": [
    "help(ts.day_name)"
   ]
  },
  {
   "cell_type": "markdown",
   "metadata": {},
   "source": [
    "It's nice that we can get day of the week from a date.  If you had to implement that kind of functionality on its own, it would be very complicated.\n",
    "\n",
    "Let's try it again.  Why doesn't the following work?"
   ]
  },
  {
   "cell_type": "code",
   "execution_count": 52,
   "metadata": {
    "cell_id": "684b1802c07443b49c3b8370237f1df6",
    "deepnote_cell_type": "code",
    "deepnote_to_be_reexecuted": false,
    "execution_millis": 9,
    "execution_start": 1664321962399,
    "source_hash": "b65d9605",
    "tags": []
   },
   "outputs": [
    {
     "ename": "AttributeError",
     "evalue": "'str' object has no attribute 'day_name'",
     "output_type": "error",
     "traceback": [
      "\u001b[0;31m---------------------------------------------------------------------------\u001b[0m",
      "\u001b[0;31mAttributeError\u001b[0m                            Traceback (most recent call last)",
      "Cell \u001b[0;32mIn [52], line 1\u001b[0m\n\u001b[0;32m----> 1\u001b[0m \u001b[38;5;124;43m\"\u001b[39;49m\u001b[38;5;124;43m9/27/2022\u001b[39;49m\u001b[38;5;124;43m\"\u001b[39;49m\u001b[38;5;241;43m.\u001b[39;49m\u001b[43mday_name\u001b[49m()\n",
      "\u001b[0;31mAttributeError\u001b[0m: 'str' object has no attribute 'day_name'"
     ]
    }
   ],
   "source": [
    "\"9/27/2022\".day_name()"
   ]
  },
  {
   "cell_type": "markdown",
   "metadata": {},
   "source": [
    "The reason the above call to `day_name()` did not work, is because strings do not have a `day_name` method.  (Why would they?  What should `\"Christopher\".day_name()` return?)\n",
    "\n",
    "To use this `day_name` method, we have to first convert the string into a Timestamp."
   ]
  },
  {
   "cell_type": "code",
   "execution_count": 53,
   "metadata": {
    "cell_id": "e65229e1fec54994a52fc0fc09b29207",
    "deepnote_cell_type": "code",
    "deepnote_to_be_reexecuted": false,
    "execution_millis": 344,
    "execution_start": 1664322030448,
    "source_hash": "a0d2f41f",
    "tags": []
   },
   "outputs": [
    {
     "data": {
      "text/plain": [
       "'Tuesday'"
      ]
     },
     "execution_count": 53,
     "metadata": {},
     "output_type": "execute_result"
    }
   ],
   "source": [
    "pd.to_datetime(\"9/27/2022\").day_name()"
   ]
  },
  {
   "cell_type": "markdown",
   "metadata": {
    "cell_id": "af22f2d3f5dd4c88a19c8ab90c6867c1",
    "deepnote_cell_type": "markdown",
    "tags": []
   },
   "source": [
    "## Using timestamp methods with a Series\n",
    "\n",
    "Let's return to our original question (which we already answered above using string methods) of how many transactions occurred on a Saturday.  Remember that the relevant column is the \"TransDate\" column."
   ]
  },
  {
   "cell_type": "code",
   "execution_count": 54,
   "metadata": {
    "cell_id": "aadec1b75a2f4daebed8a3b8fd381055",
    "deepnote_cell_type": "code",
    "deepnote_to_be_reexecuted": false,
    "execution_millis": 10,
    "execution_start": 1664322118712,
    "source_hash": "2ef3e34d",
    "tags": []
   },
   "outputs": [
    {
     "data": {
      "text/plain": [
       "0        Saturday, January 1, 2022\n",
       "1        Saturday, January 1, 2022\n",
       "2        Saturday, January 1, 2022\n",
       "3        Saturday, January 1, 2022\n",
       "4        Saturday, January 1, 2022\n",
       "                   ...            \n",
       "6440    Wednesday, August 31, 2022\n",
       "6441    Wednesday, August 31, 2022\n",
       "6442    Wednesday, August 31, 2022\n",
       "6443    Wednesday, August 31, 2022\n",
       "6444    Wednesday, August 31, 2022\n",
       "Name: TransDate, Length: 6445, dtype: object"
      ]
     },
     "execution_count": 54,
     "metadata": {},
     "output_type": "execute_result"
    }
   ],
   "source": [
    "df[\"TransDate\"]"
   ]
  },
  {
   "cell_type": "markdown",
   "metadata": {},
   "source": [
    "Just like we used `str` to access string methods on a pandas Series, here we use `dt` (which presumably stands for datetime) to access Timestamp methods on a pandas Series.  But we can't use `df[\"TransDate\"].dt` directly.  The following mistake is basically the same as the `\"9/27/2022\".day_name()` mistake above. "
   ]
  },
  {
   "cell_type": "code",
   "execution_count": 55,
   "metadata": {
    "cell_id": "c9af85774a4244528b7cfac16e7319e4",
    "deepnote_cell_type": "code",
    "deepnote_to_be_reexecuted": false,
    "execution_millis": 1075,
    "execution_start": 1664322141836,
    "source_hash": "2a436573",
    "tags": []
   },
   "outputs": [
    {
     "ename": "AttributeError",
     "evalue": "Can only use .dt accessor with datetimelike values",
     "output_type": "error",
     "traceback": [
      "\u001b[0;31m---------------------------------------------------------------------------\u001b[0m",
      "\u001b[0;31mAttributeError\u001b[0m                            Traceback (most recent call last)",
      "Cell \u001b[0;32mIn [55], line 1\u001b[0m\n\u001b[0;32m----> 1\u001b[0m \u001b[38;5;28mdir\u001b[39m(\u001b[43mdf\u001b[49m\u001b[43m[\u001b[49m\u001b[38;5;124;43m\"\u001b[39;49m\u001b[38;5;124;43mTransDate\u001b[39;49m\u001b[38;5;124;43m\"\u001b[39;49m\u001b[43m]\u001b[49m\u001b[38;5;241;43m.\u001b[39;49m\u001b[43mdt\u001b[49m)\n",
      "File \u001b[0;32m/shared-libs/python3.9/py/lib/python3.9/site-packages/pandas/core/generic.py:5461\u001b[0m, in \u001b[0;36mNDFrame.__getattr__\u001b[0;34m(self, name)\u001b[0m\n\u001b[1;32m   5454\u001b[0m \u001b[38;5;66;03m# Note: obj.x will always call obj.__getattribute__('x') prior to\u001b[39;00m\n\u001b[1;32m   5455\u001b[0m \u001b[38;5;66;03m# calling obj.__getattr__('x').\u001b[39;00m\n\u001b[1;32m   5456\u001b[0m \u001b[38;5;28;01mif\u001b[39;00m (\n\u001b[1;32m   5457\u001b[0m     name \u001b[38;5;129;01min\u001b[39;00m \u001b[38;5;28mself\u001b[39m\u001b[38;5;241m.\u001b[39m_internal_names_set\n\u001b[1;32m   5458\u001b[0m     \u001b[38;5;129;01mor\u001b[39;00m name \u001b[38;5;129;01min\u001b[39;00m \u001b[38;5;28mself\u001b[39m\u001b[38;5;241m.\u001b[39m_metadata\n\u001b[1;32m   5459\u001b[0m     \u001b[38;5;129;01mor\u001b[39;00m name \u001b[38;5;129;01min\u001b[39;00m \u001b[38;5;28mself\u001b[39m\u001b[38;5;241m.\u001b[39m_accessors\n\u001b[1;32m   5460\u001b[0m ):\n\u001b[0;32m-> 5461\u001b[0m     \u001b[38;5;28;01mreturn\u001b[39;00m \u001b[38;5;28;43mobject\u001b[39;49m\u001b[38;5;241;43m.\u001b[39;49m\u001b[38;5;21;43m__getattribute__\u001b[39;49m\u001b[43m(\u001b[49m\u001b[38;5;28;43mself\u001b[39;49m\u001b[43m,\u001b[49m\u001b[43m \u001b[49m\u001b[43mname\u001b[49m\u001b[43m)\u001b[49m\n\u001b[1;32m   5462\u001b[0m \u001b[38;5;28;01melse\u001b[39;00m:\n\u001b[1;32m   5463\u001b[0m     \u001b[38;5;28;01mif\u001b[39;00m \u001b[38;5;28mself\u001b[39m\u001b[38;5;241m.\u001b[39m_info_axis\u001b[38;5;241m.\u001b[39m_can_hold_identifiers_and_holds_name(name):\n",
      "File \u001b[0;32m/shared-libs/python3.9/py/lib/python3.9/site-packages/pandas/core/accessor.py:180\u001b[0m, in \u001b[0;36mCachedAccessor.__get__\u001b[0;34m(self, obj, cls)\u001b[0m\n\u001b[1;32m    177\u001b[0m \u001b[38;5;28;01mif\u001b[39;00m obj \u001b[38;5;129;01mis\u001b[39;00m \u001b[38;5;28;01mNone\u001b[39;00m:\n\u001b[1;32m    178\u001b[0m     \u001b[38;5;66;03m# we're accessing the attribute of the class, i.e., Dataset.geo\u001b[39;00m\n\u001b[1;32m    179\u001b[0m     \u001b[38;5;28;01mreturn\u001b[39;00m \u001b[38;5;28mself\u001b[39m\u001b[38;5;241m.\u001b[39m_accessor\n\u001b[0;32m--> 180\u001b[0m accessor_obj \u001b[38;5;241m=\u001b[39m \u001b[38;5;28;43mself\u001b[39;49m\u001b[38;5;241;43m.\u001b[39;49m\u001b[43m_accessor\u001b[49m\u001b[43m(\u001b[49m\u001b[43mobj\u001b[49m\u001b[43m)\u001b[49m\n\u001b[1;32m    181\u001b[0m \u001b[38;5;66;03m# Replace the property with the accessor object. Inspired by:\u001b[39;00m\n\u001b[1;32m    182\u001b[0m \u001b[38;5;66;03m# https://www.pydanny.com/cached-property.html\u001b[39;00m\n\u001b[1;32m    183\u001b[0m \u001b[38;5;66;03m# We need to use object.__setattr__ because we overwrite __setattr__ on\u001b[39;00m\n\u001b[1;32m    184\u001b[0m \u001b[38;5;66;03m# NDFrame\u001b[39;00m\n\u001b[1;32m    185\u001b[0m \u001b[38;5;28mobject\u001b[39m\u001b[38;5;241m.\u001b[39m\u001b[38;5;21m__setattr__\u001b[39m(obj, \u001b[38;5;28mself\u001b[39m\u001b[38;5;241m.\u001b[39m_name, accessor_obj)\n",
      "File \u001b[0;32m/shared-libs/python3.9/py/lib/python3.9/site-packages/pandas/core/indexes/accessors.py:494\u001b[0m, in \u001b[0;36mCombinedDatetimelikeProperties.__new__\u001b[0;34m(cls, data)\u001b[0m\n\u001b[1;32m    491\u001b[0m \u001b[38;5;28;01melif\u001b[39;00m is_period_dtype(data\u001b[38;5;241m.\u001b[39mdtype):\n\u001b[1;32m    492\u001b[0m     \u001b[38;5;28;01mreturn\u001b[39;00m PeriodProperties(data, orig)\n\u001b[0;32m--> 494\u001b[0m \u001b[38;5;28;01mraise\u001b[39;00m \u001b[38;5;167;01mAttributeError\u001b[39;00m(\u001b[38;5;124m\"\u001b[39m\u001b[38;5;124mCan only use .dt accessor with datetimelike values\u001b[39m\u001b[38;5;124m\"\u001b[39m)\n",
      "\u001b[0;31mAttributeError\u001b[0m: Can only use .dt accessor with datetimelike values"
     ]
    }
   ],
   "source": [
    "dir(df[\"TransDate\"].dt)"
   ]
  },
  {
   "cell_type": "markdown",
   "metadata": {},
   "source": [
    "We first need to convert from strings to Timestamps using `pd.to_datetime`.  Notice how the `dtype` changes.  (I'm not sure if there is a difference between the Timestamp objects we saw above and the type referred to below as `datetime64[ns]`.  I think it is safe to think of them as the same.)"
   ]
  },
  {
   "cell_type": "code",
   "execution_count": 56,
   "metadata": {
    "cell_id": "72a4a2bb9b604968b230ee1385298f6c",
    "deepnote_cell_type": "code",
    "deepnote_to_be_reexecuted": false,
    "execution_millis": 31,
    "execution_start": 1664322183327,
    "source_hash": "408d785b",
    "tags": []
   },
   "outputs": [
    {
     "data": {
      "text/plain": [
       "0      2022-01-01\n",
       "1      2022-01-01\n",
       "2      2022-01-01\n",
       "3      2022-01-01\n",
       "4      2022-01-01\n",
       "          ...    \n",
       "6440   2022-08-31\n",
       "6441   2022-08-31\n",
       "6442   2022-08-31\n",
       "6443   2022-08-31\n",
       "6444   2022-08-31\n",
       "Name: TransDate, Length: 6445, dtype: datetime64[ns]"
      ]
     },
     "execution_count": 56,
     "metadata": {},
     "output_type": "execute_result"
    }
   ],
   "source": [
    "pd.to_datetime(df[\"TransDate\"])"
   ]
  },
  {
   "cell_type": "markdown",
   "metadata": {},
   "source": [
    "Now we can call the Python `dir` function, like I tried to do above.  Notice how similar these methods are to the Timestamp attributes and methods we saw in the previous section."
   ]
  },
  {
   "cell_type": "code",
   "execution_count": 57,
   "metadata": {
    "cell_id": "81668adae24a458fb7235d45ddbdef1b",
    "deepnote_cell_type": "code",
    "deepnote_to_be_reexecuted": false,
    "execution_millis": 692,
    "execution_start": 1664322252015,
    "source_hash": "ddd67437",
    "tags": [
     "output_scroll"
    ]
   },
   "outputs": [
    {
     "data": {
      "text/plain": [
       "['__annotations__',\n",
       " '__class__',\n",
       " '__delattr__',\n",
       " '__dict__',\n",
       " '__dir__',\n",
       " '__doc__',\n",
       " '__eq__',\n",
       " '__format__',\n",
       " '__frozen',\n",
       " '__ge__',\n",
       " '__getattribute__',\n",
       " '__gt__',\n",
       " '__hash__',\n",
       " '__init__',\n",
       " '__init_subclass__',\n",
       " '__le__',\n",
       " '__lt__',\n",
       " '__module__',\n",
       " '__ne__',\n",
       " '__new__',\n",
       " '__reduce__',\n",
       " '__reduce_ex__',\n",
       " '__repr__',\n",
       " '__setattr__',\n",
       " '__sizeof__',\n",
       " '__str__',\n",
       " '__subclasshook__',\n",
       " '__weakref__',\n",
       " '_accessors',\n",
       " '_add_delegate_accessors',\n",
       " '_constructor',\n",
       " '_delegate_method',\n",
       " '_delegate_property_get',\n",
       " '_delegate_property_set',\n",
       " '_dir_additions',\n",
       " '_dir_deletions',\n",
       " '_freeze',\n",
       " '_get_values',\n",
       " '_hidden_attrs',\n",
       " '_parent',\n",
       " '_reset_cache',\n",
       " 'ceil',\n",
       " 'date',\n",
       " 'day',\n",
       " 'day_name',\n",
       " 'day_of_week',\n",
       " 'day_of_year',\n",
       " 'dayofweek',\n",
       " 'dayofyear',\n",
       " 'days_in_month',\n",
       " 'daysinmonth',\n",
       " 'floor',\n",
       " 'freq',\n",
       " 'hour',\n",
       " 'is_leap_year',\n",
       " 'is_month_end',\n",
       " 'is_month_start',\n",
       " 'is_quarter_end',\n",
       " 'is_quarter_start',\n",
       " 'is_year_end',\n",
       " 'is_year_start',\n",
       " 'isocalendar',\n",
       " 'microsecond',\n",
       " 'minute',\n",
       " 'month',\n",
       " 'month_name',\n",
       " 'nanosecond',\n",
       " 'normalize',\n",
       " 'quarter',\n",
       " 'round',\n",
       " 'second',\n",
       " 'strftime',\n",
       " 'time',\n",
       " 'timetz',\n",
       " 'to_period',\n",
       " 'to_pydatetime',\n",
       " 'tz',\n",
       " 'tz_convert',\n",
       " 'tz_localize',\n",
       " 'week',\n",
       " 'weekday',\n",
       " 'weekofyear',\n",
       " 'year']"
      ]
     },
     "execution_count": 57,
     "metadata": {},
     "output_type": "execute_result"
    }
   ],
   "source": [
    "dir(pd.to_datetime(df[\"TransDate\"]).dt)"
   ]
  },
  {
   "cell_type": "markdown",
   "metadata": {},
   "source": [
    "In particular, using this `dt` accessor attribute, we can call the `day_name` method."
   ]
  },
  {
   "cell_type": "code",
   "execution_count": 59,
   "metadata": {
    "cell_id": "f17bbfd64c984ab5b98885d7ea1efc29",
    "deepnote_cell_type": "code",
    "deepnote_to_be_reexecuted": false,
    "execution_millis": 40,
    "execution_start": 1664322320434,
    "source_hash": "e78a3cec",
    "tags": []
   },
   "outputs": [
    {
     "data": {
      "text/plain": [
       "0        Saturday\n",
       "1        Saturday\n",
       "2        Saturday\n",
       "3        Saturday\n",
       "4        Saturday\n",
       "          ...    \n",
       "6440    Wednesday\n",
       "6441    Wednesday\n",
       "6442    Wednesday\n",
       "6443    Wednesday\n",
       "6444    Wednesday\n",
       "Name: TransDate, Length: 6445, dtype: object"
      ]
     },
     "execution_count": 59,
     "metadata": {},
     "output_type": "execute_result"
    }
   ],
   "source": [
    "pd.to_datetime(df[\"TransDate\"]).dt.day_name()"
   ]
  },
  {
   "cell_type": "markdown",
   "metadata": {},
   "source": [
    "Let's now see how often `\"Saturday\"` occurs.  Here is the same mistake we have made several times above.  We are missing the parentheses from `value_counts`."
   ]
  },
  {
   "cell_type": "code",
   "execution_count": 60,
   "metadata": {
    "cell_id": "5a93ee26a73743e5b94875da32733251",
    "deepnote_cell_type": "code",
    "deepnote_to_be_reexecuted": false,
    "execution_millis": 18,
    "execution_start": 1664322342595,
    "source_hash": "1205851d",
    "tags": []
   },
   "outputs": [
    {
     "data": {
      "text/plain": [
       "<bound method IndexOpsMixin.value_counts of 0        Saturday\n",
       "1        Saturday\n",
       "2        Saturday\n",
       "3        Saturday\n",
       "4        Saturday\n",
       "          ...    \n",
       "6440    Wednesday\n",
       "6441    Wednesday\n",
       "6442    Wednesday\n",
       "6443    Wednesday\n",
       "6444    Wednesday\n",
       "Name: TransDate, Length: 6445, dtype: object>"
      ]
     },
     "execution_count": 60,
     "metadata": {},
     "output_type": "execute_result"
    }
   ],
   "source": [
    "pd.to_datetime(df[\"TransDate\"]).dt.day_name().value_counts"
   ]
  },
  {
   "cell_type": "markdown",
   "metadata": {},
   "source": [
    "Here is a correct call of `value_counts`.  This returns a Series.  The index of this Series contains the days of the week, and the values of this Series indicate how often they occur."
   ]
  },
  {
   "cell_type": "code",
   "execution_count": 61,
   "metadata": {
    "cell_id": "4005a52cb9734277bdd3ddf0d7e9fbee",
    "deepnote_cell_type": "code",
    "deepnote_to_be_reexecuted": false,
    "execution_millis": 29,
    "execution_start": 1664322390651,
    "source_hash": "177ade1a",
    "tags": []
   },
   "outputs": [
    {
     "data": {
      "text/plain": [
       "Wednesday    1120\n",
       "Tuesday      1113\n",
       "Thursday     1106\n",
       "Monday       1023\n",
       "Friday       1016\n",
       "Saturday      684\n",
       "Sunday        383\n",
       "Name: TransDate, dtype: int64"
      ]
     },
     "execution_count": 61,
     "metadata": {},
     "output_type": "execute_result"
    }
   ],
   "source": [
    "pd.to_datetime(df[\"TransDate\"]).dt.day_name().value_counts()"
   ]
  },
  {
   "cell_type": "markdown",
   "metadata": {},
   "source": [
    "To access the value corresponding to the key `\"Saturday\"`, we can use indexing."
   ]
  },
  {
   "cell_type": "code",
   "execution_count": 62,
   "metadata": {
    "cell_id": "d7603815c09745198e20c8cca58bb8de",
    "deepnote_cell_type": "code",
    "deepnote_to_be_reexecuted": false,
    "execution_millis": 743,
    "execution_start": 1664322450707,
    "source_hash": "e5fee58a",
    "tags": []
   },
   "outputs": [
    {
     "data": {
      "text/plain": [
       "684"
      ]
     },
     "execution_count": 62,
     "metadata": {},
     "output_type": "execute_result"
    }
   ],
   "source": [
    "pd.to_datetime(df[\"TransDate\"]).dt.day_name().value_counts()[\"Saturday\"]"
   ]
  },
  {
   "cell_type": "markdown",
   "metadata": {},
   "source": [
    "We could also use the `.loc` indexing."
   ]
  },
  {
   "cell_type": "code",
   "execution_count": 63,
   "metadata": {
    "cell_id": "3d061eb4628647d19f4babdd56c72322",
    "deepnote_cell_type": "code",
    "deepnote_to_be_reexecuted": false,
    "execution_millis": 9,
    "execution_start": 1664322464941,
    "source_hash": "be9ad22d",
    "tags": []
   },
   "outputs": [
    {
     "data": {
      "text/plain": [
       "684"
      ]
     },
     "execution_count": 63,
     "metadata": {},
     "output_type": "execute_result"
    }
   ],
   "source": [
    "pd.to_datetime(df[\"TransDate\"]).dt.day_name().value_counts().loc[\"Saturday\"]"
   ]
  },
  {
   "cell_type": "markdown",
   "metadata": {},
   "source": [
    "If we're willing to count to see what place `\"Saturday\"` occurs, we could also use the `iloc` indexing.  This `iloc` approach is definitely the worst approach in this case, but it is useful to know if you want to get, for example, the top value."
   ]
  },
  {
   "cell_type": "code",
   "execution_count": 64,
   "metadata": {
    "cell_id": "12ed71d8c44945a898172ade843d4c85",
    "deepnote_cell_type": "code",
    "deepnote_to_be_reexecuted": false,
    "execution_millis": 32,
    "execution_start": 1664322485336,
    "source_hash": "7755f140",
    "tags": []
   },
   "outputs": [
    {
     "data": {
      "text/plain": [
       "684"
      ]
     },
     "execution_count": 64,
     "metadata": {},
     "output_type": "execute_result"
    }
   ],
   "source": [
    "pd.to_datetime(df[\"TransDate\"]).dt.day_name().value_counts().iloc[5]"
   ]
  }
 ],
 "metadata": {
  "deepnote": {},
  "deepnote_execution_queue": [],
  "deepnote_notebook_id": "32b1297952f740e09f0534b1d5ec2a53",
  "deepnote_persisted_session": {
   "createdAt": "2022-09-28T01:01:48.207Z"
  },
  "kernelspec": {
   "display_name": "Python 3 (ipykernel)",
   "language": "python",
   "name": "python3"
  },
  "language_info": {
   "codemirror_mode": {
    "name": "ipython",
    "version": 3
   },
   "file_extension": ".py",
   "mimetype": "text/x-python",
   "name": "python",
   "nbconvert_exporter": "python",
   "pygments_lexer": "ipython3",
   "version": "3.9.13"
  }
 },
 "nbformat": 4,
 "nbformat_minor": 4
}
