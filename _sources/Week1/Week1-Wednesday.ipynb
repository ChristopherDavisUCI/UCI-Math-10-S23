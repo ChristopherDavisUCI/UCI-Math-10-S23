{
 "cells": [
  {
   "cell_type": "markdown",
   "metadata": {
    "cell_id": "ee3db2996ee1473a8e76406fc357a566",
    "deepnote_cell_type": "markdown"
   },
   "source": [
    "# Week 1 Wednesday\n",
    "\n",
    "## Announcements\n",
    "\n",
    "* I'll have office hours on Fridays 12-1pm in here (ALP 3610).  I hope that will be a convenient time to come by and work before class, even if you don't have specific questions!\n",
    "* I had some trouble with the Deepnote hardware resetting on Monday.  I contacted Deepnote and they don't expect that to continue.  If we keep having problems, we will switch to working locally (not in the cloud) and using Jupyter notebooks directly.\n",
    "* The Monday file is posted in the [course notes](https://christopherdavisuci.github.io/UCI-Math-10-S23/Week1/Week1-Monday.html) and some explanations were added.\n",
    "* Worksheet 2 distributed today.\n",
    "* Hanson (Songhan), one of our three LAs, is here to help.\n",
    "* If you're stuck on something and not able to ask in person, try asking on Ed Discussion (linked from Canvas)."
   ]
  },
  {
   "cell_type": "markdown",
   "metadata": {
    "cell_id": "3a9346c963a344ceb88a998fb9b7d2d9",
    "deepnote_cell_type": "markdown"
   },
   "source": [
    "## Boolean arrays and Boolean indexing"
   ]
  },
  {
   "cell_type": "code",
   "execution_count": 1,
   "metadata": {
    "cell_id": "1cde1c71286e499a9ce19e3b60b5b455",
    "deepnote_cell_type": "code",
    "deepnote_to_be_reexecuted": false,
    "execution_millis": 7,
    "execution_start": 1680725158193,
    "source_hash": "c2602aa8"
   },
   "outputs": [],
   "source": [
    "import numpy as np"
   ]
  },
  {
   "cell_type": "code",
   "execution_count": 2,
   "metadata": {
    "cell_id": "150040ed96bb435c87bcdebad30b48a4",
    "deepnote_cell_type": "code",
    "deepnote_to_be_reexecuted": false,
    "execution_millis": 6,
    "execution_start": 1680725159233,
    "source_hash": "cc161550"
   },
   "outputs": [],
   "source": [
    "# Instantiate a random number generator object\n",
    "rng = np.random.default_rng()"
   ]
  },
  {
   "cell_type": "markdown",
   "metadata": {
    "cell_id": "264fdda4a39746fdab2b7263a0b48e78",
    "deepnote_cell_type": "markdown"
   },
   "source": [
    "Here we use `rng` to make a length 10 NumPy array of random integers between 0 (inclusive) and 5 (exclusive)."
   ]
  },
  {
   "cell_type": "code",
   "execution_count": 3,
   "metadata": {
    "cell_id": "05d71c3c57ee4394addecbbbaf9fba02",
    "deepnote_cell_type": "code",
    "deepnote_to_be_reexecuted": false,
    "execution_millis": 23,
    "execution_start": 1680705985143,
    "source_hash": "bb3b536a"
   },
   "outputs": [
    {
     "data": {
      "text/plain": [
       "array([1, 1, 1, 3, 2, 3, 3, 3, 0, 4])"
      ]
     },
     "execution_count": 3,
     "metadata": {},
     "output_type": "execute_result"
    }
   ],
   "source": [
    "arr = rng.integers(0, 5, size=10)\n",
    "arr"
   ]
  },
  {
   "cell_type": "markdown",
   "metadata": {
    "cell_id": "edc70b45813b40b2a86629fe87284f4d",
    "deepnote_cell_type": "markdown"
   },
   "source": [
    "* How can we guarantee consistent (or reproducible) random integers?"
   ]
  },
  {
   "cell_type": "code",
   "execution_count": 4,
   "metadata": {},
   "outputs": [],
   "source": [
    "rng = np.random.default_rng(seed=452023)"
   ]
  },
  {
   "cell_type": "markdown",
   "metadata": {},
   "source": [
    "If you run the following cell, immediately after using the code above (in particular, using the same `seed` value), then you should see the same resulting array of random integers."
   ]
  },
  {
   "cell_type": "code",
   "execution_count": 5,
   "metadata": {},
   "outputs": [],
   "source": [
    "arr = rng.integers(0, 5, size=10)"
   ]
  },
  {
   "cell_type": "code",
   "execution_count": 6,
   "metadata": {},
   "outputs": [
    {
     "data": {
      "text/plain": [
       "array([4, 3, 2, 3, 1, 0, 4, 0, 4, 2])"
      ]
     },
     "execution_count": 6,
     "metadata": {},
     "output_type": "execute_result"
    }
   ],
   "source": [
    "arr"
   ]
  },
  {
   "cell_type": "markdown",
   "metadata": {},
   "source": [
    "If we run the same code again, we will get new integers."
   ]
  },
  {
   "cell_type": "code",
   "execution_count": 7,
   "metadata": {},
   "outputs": [],
   "source": [
    "arr = rng.integers(0, 5, size=10)"
   ]
  },
  {
   "cell_type": "code",
   "execution_count": 8,
   "metadata": {},
   "outputs": [
    {
     "data": {
      "text/plain": [
       "array([4, 0, 4, 0, 4, 4, 2, 0, 3, 4])"
      ]
     },
     "execution_count": 8,
     "metadata": {},
     "output_type": "execute_result"
    }
   ],
   "source": [
    "arr"
   ]
  },
  {
   "cell_type": "markdown",
   "metadata": {},
   "source": [
    "To get consistent results, it helps to put all of these lines into the same cell (using enter instead of shift+enter to create a new line).  Notice that this is the same array that was produced first above using the `seed=452023` keyword argument."
   ]
  },
  {
   "cell_type": "code",
   "execution_count": 9,
   "metadata": {},
   "outputs": [
    {
     "data": {
      "text/plain": [
       "array([4, 3, 2, 3, 1, 0, 4, 0, 4, 2])"
      ]
     },
     "execution_count": 9,
     "metadata": {},
     "output_type": "execute_result"
    }
   ],
   "source": [
    "rng = np.random.default_rng(seed=452023)\n",
    "arr = rng.integers(0, 5, size=10)\n",
    "arr"
   ]
  },
  {
   "cell_type": "markdown",
   "metadata": {
    "cell_id": "393da757ab9846eca55c6aa7bd6d21ac",
    "deepnote_cell_type": "markdown"
   },
   "source": [
    "* Make a Boolean array indicating where the array is equal to 2.\n",
    "\n",
    "Be sure you understand how these Boolean values correspond to the values in the array.  Also, notice that we are using two equals signs, not one, to compare for elementwise equality.  (One equals sign is for assignment.)"
   ]
  },
  {
   "cell_type": "code",
   "execution_count": 10,
   "metadata": {},
   "outputs": [
    {
     "data": {
      "text/plain": [
       "array([False, False,  True, False, False, False, False, False, False,\n",
       "        True])"
      ]
     },
     "execution_count": 10,
     "metadata": {},
     "output_type": "execute_result"
    }
   ],
   "source": [
    "arr == 2"
   ]
  },
  {
   "cell_type": "markdown",
   "metadata": {
    "cell_id": "a9ef1bacf13a4670962c62eaf848b4bc",
    "deepnote_cell_type": "markdown"
   },
   "source": [
    "* Count how many of these entries are equal to 2.\n",
    "\n",
    "Because `True` is treated like `1` and `False` is treated like `0`, we can count the number of `True` values (in this case, that is the number of `2` values in the original array) by using `sum`.\n",
    "\n",
    "Here we use the built-in Python function `sum`."
   ]
  },
  {
   "cell_type": "code",
   "execution_count": 11,
   "metadata": {},
   "outputs": [
    {
     "data": {
      "text/plain": [
       "2"
      ]
     },
     "execution_count": 11,
     "metadata": {},
     "output_type": "execute_result"
    }
   ],
   "source": [
    "sum(arr == 2)"
   ]
  },
  {
   "cell_type": "markdown",
   "metadata": {},
   "source": [
    "Here we use the NumPy array method `sum`.  (Methods and attributes come after the object, and are accessed using a period `.`.)"
   ]
  },
  {
   "cell_type": "code",
   "execution_count": 12,
   "metadata": {},
   "outputs": [
    {
     "data": {
      "text/plain": [
       "2"
      ]
     },
     "execution_count": 12,
     "metadata": {},
     "output_type": "execute_result"
    }
   ],
   "source": [
    "(arr == 2).sum()"
   ]
  },
  {
   "cell_type": "markdown",
   "metadata": {},
   "source": [
    "Sometimes it is more elegant to save the intermediate values along the way, rather than copy-pasting.  Here we save the Boolean array with the variable name `ba`.  I don't think the parentheses are necessary in this case, but they definitely make it more readable."
   ]
  },
  {
   "cell_type": "code",
   "execution_count": 13,
   "metadata": {},
   "outputs": [],
   "source": [
    "ba = (arr == 2)"
   ]
  },
  {
   "cell_type": "code",
   "execution_count": 14,
   "metadata": {},
   "outputs": [
    {
     "data": {
      "text/plain": [
       "array([False, False,  True, False, False, False, False, False, False,\n",
       "        True])"
      ]
     },
     "execution_count": 14,
     "metadata": {},
     "output_type": "execute_result"
    }
   ],
   "source": [
    "ba"
   ]
  },
  {
   "cell_type": "markdown",
   "metadata": {},
   "source": [
    "Notice that `ba` really is a NumPy array."
   ]
  },
  {
   "cell_type": "code",
   "execution_count": 15,
   "metadata": {},
   "outputs": [
    {
     "data": {
      "text/plain": [
       "numpy.ndarray"
      ]
     },
     "execution_count": 15,
     "metadata": {},
     "output_type": "execute_result"
    }
   ],
   "source": [
    "type(ba)"
   ]
  },
  {
   "cell_type": "markdown",
   "metadata": {},
   "source": [
    "Here is another example of how `seed` works.  When we do the following without specifying a seed, we get different results every time."
   ]
  },
  {
   "cell_type": "code",
   "execution_count": 16,
   "metadata": {},
   "outputs": [
    {
     "data": {
      "text/plain": [
       "array([0.10394648, 0.72812454, 0.53265183, 0.77371897])"
      ]
     },
     "execution_count": 16,
     "metadata": {},
     "output_type": "execute_result"
    }
   ],
   "source": [
    "rng2 = np.random.default_rng()\n",
    "rng2.random(4)"
   ]
  },
  {
   "cell_type": "markdown",
   "metadata": {},
   "source": [
    "Notice how the exact same code produces new results."
   ]
  },
  {
   "cell_type": "code",
   "execution_count": 17,
   "metadata": {},
   "outputs": [
    {
     "data": {
      "text/plain": [
       "array([0.73731568, 0.53727985, 0.21285365, 0.04879829])"
      ]
     },
     "execution_count": 17,
     "metadata": {},
     "output_type": "execute_result"
    }
   ],
   "source": [
    "rng2 = np.random.default_rng()\n",
    "rng2.random(4)"
   ]
  },
  {
   "cell_type": "markdown",
   "metadata": {},
   "source": [
    "On the other hand, when we use a fixed `seed` keyword argument, we get the same output every time."
   ]
  },
  {
   "cell_type": "code",
   "execution_count": 18,
   "metadata": {},
   "outputs": [
    {
     "data": {
      "text/plain": [
       "array([0.7298985 , 0.69341496, 0.94192102, 0.05965206])"
      ]
     },
     "execution_count": 18,
     "metadata": {},
     "output_type": "execute_result"
    }
   ],
   "source": [
    "rng2 = np.random.default_rng(seed=40)\n",
    "rng2.random(4)"
   ]
  },
  {
   "cell_type": "markdown",
   "metadata": {},
   "source": [
    "Here is that same output."
   ]
  },
  {
   "cell_type": "code",
   "execution_count": 19,
   "metadata": {},
   "outputs": [
    {
     "data": {
      "text/plain": [
       "array([0.7298985 , 0.69341496, 0.94192102, 0.05965206])"
      ]
     },
     "execution_count": 19,
     "metadata": {},
     "output_type": "execute_result"
    }
   ],
   "source": [
    "rng2 = np.random.default_rng(seed=40)\n",
    "rng2.random(4)"
   ]
  },
  {
   "cell_type": "markdown",
   "metadata": {},
   "source": [
    "On the other hand, if we change to a different `seed`, we get a new output."
   ]
  },
  {
   "cell_type": "code",
   "execution_count": 20,
   "metadata": {},
   "outputs": [
    {
     "data": {
      "text/plain": [
       "array([0.19909881, 0.61184905, 0.97727673, 0.38164342])"
      ]
     },
     "execution_count": 20,
     "metadata": {},
     "output_type": "execute_result"
    }
   ],
   "source": [
    "rng2 = np.random.default_rng(seed=400)\n",
    "rng2.random(4)"
   ]
  },
  {
   "cell_type": "markdown",
   "metadata": {
    "cell_id": "470655995bc84f50acc7632ae1114687",
    "deepnote_cell_type": "markdown"
   },
   "source": [
    "* Make a Boolean array indicating where `arr` is strictly greater than 1 and less than or equal to 3."
   ]
  },
  {
   "cell_type": "markdown",
   "metadata": {},
   "source": [
    "Here is a reminder of what `arr` looks like."
   ]
  },
  {
   "cell_type": "code",
   "execution_count": 21,
   "metadata": {},
   "outputs": [
    {
     "data": {
      "text/plain": [
       "array([4, 3, 2, 3, 1, 0, 4, 0, 4, 2])"
      ]
     },
     "execution_count": 21,
     "metadata": {},
     "output_type": "execute_result"
    }
   ],
   "source": [
    "arr"
   ]
  },
  {
   "cell_type": "markdown",
   "metadata": {},
   "source": [
    "Here we check where it's strictly greater than `1`."
   ]
  },
  {
   "cell_type": "code",
   "execution_count": 22,
   "metadata": {},
   "outputs": [
    {
     "data": {
      "text/plain": [
       "array([ True,  True,  True,  True, False, False,  True, False,  True,\n",
       "        True])"
      ]
     },
     "execution_count": 22,
     "metadata": {},
     "output_type": "execute_result"
    }
   ],
   "source": [
    "arr > 1"
   ]
  },
  {
   "cell_type": "markdown",
   "metadata": {},
   "source": [
    "Here we check the other part, where `arr` is less than or equal to `3`."
   ]
  },
  {
   "cell_type": "code",
   "execution_count": 23,
   "metadata": {},
   "outputs": [
    {
     "data": {
      "text/plain": [
       "array([False,  True,  True,  True,  True,  True, False,  True, False,\n",
       "        True])"
      ]
     },
     "execution_count": 23,
     "metadata": {},
     "output_type": "execute_result"
    }
   ],
   "source": [
    "arr <= 3"
   ]
  },
  {
   "cell_type": "markdown",
   "metadata": {},
   "source": [
    "We now want to check where both are satisfied.  Python gets confused because we do not have parentheses.  I spent some time in class trying to track down exactly what causes this error, but I could never quite reproduce it.  Note that we use `&`.  Usually with NumPy and pandas we use `&` rather than spelling it out `and`."
   ]
  },
  {
   "cell_type": "code",
   "execution_count": 24,
   "metadata": {},
   "outputs": [
    {
     "ename": "ValueError",
     "evalue": "The truth value of an array with more than one element is ambiguous. Use a.any() or a.all()",
     "output_type": "error",
     "traceback": [
      "\u001b[0;31m---------------------------------------------------------------------------\u001b[0m",
      "\u001b[0;31mValueError\u001b[0m                                Traceback (most recent call last)",
      "Cell \u001b[0;32mIn[24], line 1\u001b[0m\n\u001b[0;32m----> 1\u001b[0m arr \u001b[38;5;241m>\u001b[39m \u001b[38;5;241m1\u001b[39m \u001b[38;5;241m&\u001b[39m arr \u001b[38;5;241m<\u001b[39m\u001b[38;5;241m=\u001b[39m \u001b[38;5;241m3\u001b[39m\n",
      "\u001b[0;31mValueError\u001b[0m: The truth value of an array with more than one element is ambiguous. Use a.any() or a.all()"
     ]
    }
   ],
   "source": [
    "arr > 1 & arr <= 3"
   ]
  },
  {
   "cell_type": "markdown",
   "metadata": {},
   "source": [
    "Here is a reminder of what `arr` looks like."
   ]
  },
  {
   "cell_type": "code",
   "execution_count": 25,
   "metadata": {},
   "outputs": [
    {
     "data": {
      "text/plain": [
       "array([4, 3, 2, 3, 1, 0, 4, 0, 4, 2])"
      ]
     },
     "execution_count": 25,
     "metadata": {},
     "output_type": "execute_result"
    }
   ],
   "source": [
    "arr"
   ]
  },
  {
   "cell_type": "markdown",
   "metadata": {},
   "source": [
    "Here is our Boolean array."
   ]
  },
  {
   "cell_type": "code",
   "execution_count": 26,
   "metadata": {},
   "outputs": [
    {
     "data": {
      "text/plain": [
       "array([False,  True,  True,  True, False, False, False, False, False,\n",
       "        True])"
      ]
     },
     "execution_count": 26,
     "metadata": {},
     "output_type": "execute_result"
    }
   ],
   "source": [
    "# Boolean array\n",
    "(arr > 1) & (arr <= 3)"
   ]
  },
  {
   "cell_type": "markdown",
   "metadata": {
    "cell_id": "2e97f712a04e4ffb822f0a20be8dd511",
    "deepnote_cell_type": "markdown"
   },
   "source": [
    "* Using Boolean indexing, produce the subarray of `arr` containing the values which are strictly greater than 1 and less than or equal to 3."
   ]
  },
  {
   "cell_type": "code",
   "execution_count": 27,
   "metadata": {},
   "outputs": [
    {
     "data": {
      "text/plain": [
       "array([3, 2, 3, 2])"
      ]
     },
     "execution_count": 27,
     "metadata": {},
     "output_type": "execute_result"
    }
   ],
   "source": [
    "arr[(arr > 1) & (arr <= 3)]"
   ]
  },
  {
   "cell_type": "markdown",
   "metadata": {
    "cell_id": "9e0930c9740f4598911f47138b76e757",
    "deepnote_cell_type": "markdown"
   },
   "source": [
    "* Make a 10x3 NumPy array `arr2` of random integers between 0 (inclusive) and 5 (exclusive).  Here, we will specify the `size` keyword argument using a `tuple` rather than an `int`.  Use `seed=100` so we all have the same values."
   ]
  },
  {
   "cell_type": "code",
   "execution_count": 38,
   "metadata": {},
   "outputs": [
    {
     "data": {
      "text/plain": [
       "array([[3, 4, 0],\n",
       "       [2, 0, 1],\n",
       "       [2, 0, 2],\n",
       "       [4, 4, 2],\n",
       "       [2, 3, 4],\n",
       "       [4, 0, 3],\n",
       "       [3, 0, 2],\n",
       "       [4, 3, 1],\n",
       "       [1, 3, 0],\n",
       "       [2, 2, 2]])"
      ]
     },
     "execution_count": 38,
     "metadata": {},
     "output_type": "execute_result"
    }
   ],
   "source": [
    "rng = np.random.default_rng(seed=100)\n",
    "arr2 = rng.integers(0, 5, size=(10,3))\n",
    "arr2"
   ]
  },
  {
   "cell_type": "markdown",
   "metadata": {
    "cell_id": "1c24e249a8ee47acb6797bed083fe902",
    "deepnote_cell_type": "markdown"
   },
   "source": [
    "* Define a variable `col` that is equal to the 0-th column of `arr2`.\n",
    "\n",
    "(I try to consistently start counting at 0 in this class, which is the Python convention.  It might be more grammatically correct to say \"the column at index 0\".)"
   ]
  },
  {
   "cell_type": "code",
   "execution_count": 39,
   "metadata": {},
   "outputs": [
    {
     "data": {
      "text/plain": [
       "array([3, 2, 2, 4, 2, 4, 3, 4, 1, 2])"
      ]
     },
     "execution_count": 39,
     "metadata": {},
     "output_type": "execute_result"
    }
   ],
   "source": [
    "col = arr2[:, 0]\n",
    "col"
   ]
  },
  {
   "cell_type": "markdown",
   "metadata": {},
   "source": [
    "What if we had used two sets of square brackets, like what we need if we are using lists of lists?  Break the following up into pieces.  `arr2[:]` is getting the entire array (\"every row\"), and then `[0]` is getting the top row."
   ]
  },
  {
   "cell_type": "code",
   "execution_count": 32,
   "metadata": {},
   "outputs": [
    {
     "data": {
      "text/plain": [
       "array([3, 4, 0])"
      ]
     },
     "execution_count": 32,
     "metadata": {},
     "output_type": "execute_result"
    }
   ],
   "source": [
    "arr2[:][0]"
   ]
  },
  {
   "cell_type": "markdown",
   "metadata": {},
   "source": [
    "Here is a reminder of what `arr2` looks like."
   ]
  },
  {
   "cell_type": "code",
   "execution_count": 33,
   "metadata": {},
   "outputs": [
    {
     "data": {
      "text/plain": [
       "array([[3, 4, 0],\n",
       "       [2, 0, 1],\n",
       "       [2, 0, 2],\n",
       "       [4, 4, 2],\n",
       "       [2, 3, 4],\n",
       "       [4, 0, 3],\n",
       "       [3, 0, 2],\n",
       "       [4, 3, 1],\n",
       "       [1, 3, 0],\n",
       "       [2, 2, 2]])"
      ]
     },
     "execution_count": 33,
     "metadata": {},
     "output_type": "execute_result"
    }
   ],
   "source": [
    "arr2"
   ]
  },
  {
   "cell_type": "markdown",
   "metadata": {},
   "source": [
    "We could also use `arr2[:, 2]` in this case to get the last column (because it occurs at index `2`), but it is more readable to use `-1`, which is an abbreviation for, \"last\"."
   ]
  },
  {
   "cell_type": "code",
   "execution_count": 34,
   "metadata": {},
   "outputs": [
    {
     "data": {
      "text/plain": [
       "array([0, 1, 2, 2, 4, 3, 2, 1, 0, 2])"
      ]
     },
     "execution_count": 34,
     "metadata": {},
     "output_type": "execute_result"
    }
   ],
   "source": [
    "# last column\n",
    "arr2[:, -1]"
   ]
  },
  {
   "cell_type": "markdown",
   "metadata": {
    "cell_id": "278b8792ce0a45d69d92d31c55447d86",
    "deepnote_cell_type": "markdown"
   },
   "source": [
    "* Create the subarray of `arr2` containing the rows which begin with a 2."
   ]
  },
  {
   "cell_type": "markdown",
   "metadata": {},
   "source": [
    "We can see what number each row starts with by using `col` which we defined above."
   ]
  },
  {
   "cell_type": "code",
   "execution_count": 35,
   "metadata": {},
   "outputs": [
    {
     "data": {
      "text/plain": [
       "array([3, 2, 2, 4, 2, 4, 3, 4, 1, 2])"
      ]
     },
     "execution_count": 35,
     "metadata": {},
     "output_type": "execute_result"
    }
   ],
   "source": [
    "col"
   ]
  },
  {
   "cell_type": "markdown",
   "metadata": {},
   "source": [
    "Here we find where `col` is equal to `2`."
   ]
  },
  {
   "cell_type": "code",
   "execution_count": 36,
   "metadata": {},
   "outputs": [
    {
     "data": {
      "text/plain": [
       "array([False,  True,  True, False,  True, False, False, False, False,\n",
       "        True])"
      ]
     },
     "execution_count": 36,
     "metadata": {},
     "output_type": "execute_result"
    }
   ],
   "source": [
    "col == 2"
   ]
  },
  {
   "cell_type": "markdown",
   "metadata": {},
   "source": [
    "Here again we use Boolean indexing to extract all the rows that begin with `2`."
   ]
  },
  {
   "cell_type": "code",
   "execution_count": 37,
   "metadata": {},
   "outputs": [
    {
     "data": {
      "text/plain": [
       "array([[2, 0, 1],\n",
       "       [2, 0, 2],\n",
       "       [2, 3, 4],\n",
       "       [2, 2, 2]])"
      ]
     },
     "execution_count": 37,
     "metadata": {},
     "output_type": "execute_result"
    }
   ],
   "source": [
    "arr2[col == 2]"
   ]
  },
  {
   "cell_type": "markdown",
   "metadata": {},
   "source": [
    "We'll start with the following on Friday."
   ]
  },
  {
   "cell_type": "markdown",
   "metadata": {
    "cell_id": "0518d273ac564932b0662a2dc74021db",
    "deepnote_cell_type": "markdown"
   },
   "source": [
    "## More complex example of Boolean indexing\n",
    "\n",
    "We will create the subarray of `arr2` containing the rows which have at least two 2s using the following strategy."
   ]
  },
  {
   "cell_type": "markdown",
   "metadata": {
    "cell_id": "6af630116a4d4fd8b6956666a0c865b4",
    "deepnote_cell_type": "markdown"
   },
   "source": [
    "* Make a 10x3 Boolean array indicating where `arr2` is equal to 2."
   ]
  },
  {
   "cell_type": "markdown",
   "metadata": {
    "cell_id": "c1127e7e6faf49d49cda40affad7cfc4",
    "deepnote_cell_type": "markdown"
   },
   "source": [
    "* Use the `sum` method with `axis=1` to find how many 2s there are in each row."
   ]
  },
  {
   "cell_type": "markdown",
   "metadata": {
    "cell_id": "27c1f26e8f5e4f3e9b7aabbcf731fce1",
    "deepnote_cell_type": "markdown"
   },
   "source": [
    "* Use Boolean indexing to create the subarray of `arr2` containing only the rows which have at least two 2s. "
   ]
  },
  {
   "cell_type": "markdown",
   "metadata": {
    "cell_id": "a04a85b5db224fc2812af6b881667c64",
    "deepnote_cell_type": "markdown"
   },
   "source": [
    "## Time to work on Worksheet 2\n",
    "\n",
    "* Hanson and I are here to help.\n",
    "* I have another class at 2pm, so if you have questions, ask me now rather than after class!"
   ]
  }
 ],
 "metadata": {
  "deepnote": {},
  "deepnote_execution_queue": [],
  "deepnote_notebook_id": "986cfdf7c65d46d7b96954c24a5ad7b9",
  "deepnote_persisted_session": {
   "createdAt": "2023-04-05T20:06:23.886Z"
  },
  "kernelspec": {
   "display_name": "Python 3 (ipykernel)",
   "language": "python",
   "name": "python3"
  },
  "language_info": {
   "codemirror_mode": {
    "name": "ipython",
    "version": 3
   },
   "file_extension": ".py",
   "mimetype": "text/x-python",
   "name": "python",
   "nbconvert_exporter": "python",
   "pygments_lexer": "ipython3",
   "version": "3.9.16"
  }
 },
 "nbformat": 4,
 "nbformat_minor": 4
}
