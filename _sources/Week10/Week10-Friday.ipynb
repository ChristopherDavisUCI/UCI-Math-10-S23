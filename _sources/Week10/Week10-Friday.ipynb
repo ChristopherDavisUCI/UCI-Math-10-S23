{
 "cells": [
  {
   "cell_type": "markdown",
   "metadata": {
    "cell_id": "18b6970e95bc4738b7255bcb1dd48c84",
    "deepnote_cell_type": "markdown",
    "tags": []
   },
   "source": [
    "# Week 10 Friday\n",
    "\n",
    "I've attached a dataset containing hourly temperatures from Kaggle: [source](https://www.kaggle.com/datasets/selfishgene/historical-hourly-weather-data)\n",
    "\n",
    "The unit for these temperatures is kelvin.\n",
    "\n",
    "The idea for using a decision tree for this kind of data set comes from Jake VanderPlas's [Python Data Science Handbook](https://jakevdp.github.io/PythonDataScienceHandbook/) (which was also the source of the bicycle worksheet)."
   ]
  },
  {
   "cell_type": "markdown",
   "metadata": {
    "cell_id": "625a42f5904b4f3f8a946a9753a3ff4d",
    "deepnote_cell_type": "markdown",
    "owner_user_id": "02be19f8-8497-4212-b8d0-46ca9f1d48b9",
    "tags": []
   },
   "source": [
    "## Announcements\n",
    "\n",
    "* Be sure you're writing your project using the **Project Template** in the Project folder.  (This is different from the Worksheet 16 template.)\n",
    "* I have Zoom office hours Monday during the first hour of the time scheduled for our final exam: Monday, 10:30-11:30am.  See our Canvas homepage for the Zoom link.\n",
    "* Projects due 11:59pm Monday.  (An extension of 1-2 days may be possible on an individual basis; email me Sunday or Monday if you think you need one.  Share what you have so far.)\n",
    "* If you get stuck on something or have a logistical question, please ask on Ed Discussion, even if you think it is very specific to your own project.\n",
    "* Please fill out a [course evaluation](https://evaluations.eee.uci.edu/assigned/action_list) if you haven't already! "
   ]
  },
  {
   "cell_type": "markdown",
   "metadata": {
    "cell_id": "a1461d6c8d764eadadc4129853b0f9b9",
    "deepnote_cell_type": "markdown",
    "tags": []
   },
   "source": [
    "## A decision tree to predict temperature\n",
    "\n",
    "We won't divide into a training set and a test set in this case.  My intuition is that because the temperature at 3pm (say) is so similar to the temperature at 4pm, randomly dividing the data won't be appropriate.  Phrased another way, our eventual goal is probably to predict the temperature at some future date, not at some random hour in the middle of a day where we already know other temperatures.\n",
    "\n",
    "My goal here is to see what the decision tree prediction function looks like.  I'm not thinking about overfitting right now."
   ]
  },
  {
   "cell_type": "code",
   "execution_count": 2,
   "metadata": {
    "cell_id": "939eaf8abbbf4b18b26504ba078cbb98",
    "deepnote_cell_type": "code",
    "deepnote_to_be_reexecuted": false,
    "execution_millis": 1,
    "execution_start": 1670004168280,
    "source_hash": "46e6bd77",
    "tags": []
   },
   "outputs": [],
   "source": [
    "import pandas as pd\n",
    "import altair as alt"
   ]
  },
  {
   "cell_type": "code",
   "execution_count": 3,
   "metadata": {
    "cell_id": "09a1913c95c4420eb4ebf60403fc016c",
    "deepnote_cell_type": "code",
    "deepnote_to_be_reexecuted": false,
    "execution_millis": 135,
    "execution_start": 1670004168960,
    "source_hash": "1f971086",
    "tags": []
   },
   "outputs": [],
   "source": [
    "df_pre = pd.read_csv(\"temperature.csv\")"
   ]
  },
  {
   "cell_type": "markdown",
   "metadata": {},
   "source": [
    "Different cities are in different columns.  If we wanted for example to plot these temperatures in different colors, we should use `df_pre.melt` to get the city columns combined into a single column."
   ]
  },
  {
   "cell_type": "code",
   "execution_count": 4,
   "metadata": {
    "cell_id": "ecb81ccf446b420fad2efe092b1661ac",
    "deepnote_cell_type": "code",
    "deepnote_to_be_reexecuted": false,
    "execution_millis": 98,
    "execution_start": 1670004170880,
    "source_hash": "f337574f",
    "tags": [
     "output_scroll"
    ]
   },
   "outputs": [
    {
     "data": {
      "application/vnd.deepnote.dataframe.v3+json": {
       "column_count": 37,
       "columns": [
        {
         "dtype": "object",
         "name": "datetime",
         "stats": {
          "categories": [
           {
            "count": 1,
            "name": "2012-10-01 12:00:00"
           },
           {
            "count": 1,
            "name": "2012-10-01 13:00:00"
           },
           {
            "count": 45251,
            "name": "45251 others"
           }
          ],
          "nan_count": 0,
          "unique_count": 45253
         }
        },
        {
         "dtype": "float64",
         "name": "Vancouver",
         "stats": {
          "histogram": [
           {
            "bin_end": 251.335,
            "bin_start": 245.15,
            "count": 3
           },
           {
            "bin_end": 257.52,
            "bin_start": 251.335,
            "count": 1
           },
           {
            "bin_end": 263.705,
            "bin_start": 257.52,
            "count": 29
           },
           {
            "bin_end": 269.89,
            "bin_start": 263.705,
            "count": 586
           },
           {
            "bin_end": 276.075,
            "bin_start": 269.89,
            "count": 4323
           },
           {
            "bin_end": 282.26,
            "bin_start": 276.075,
            "count": 14520
           },
           {
            "bin_end": 288.445,
            "bin_start": 282.26,
            "count": 13552
           },
           {
            "bin_end": 294.63,
            "bin_start": 288.445,
            "count": 8816
           },
           {
            "bin_end": 300.815,
            "bin_start": 294.63,
            "count": 2463
           },
           {
            "bin_end": 307,
            "bin_start": 300.815,
            "count": 165
           }
          ],
          "max": "307.0",
          "min": "245.15",
          "nan_count": 795,
          "unique_count": 9744
         }
        },
        {
         "dtype": "float64",
         "name": "Portland"
        },
        {
         "dtype": "float64",
         "name": "San Francisco"
        },
        {
         "dtype": "float64",
         "name": "Seattle"
        },
        {
         "dtype": "float64",
         "name": "Los Angeles"
        },
        {
         "dtype": "float64",
         "name": "San Diego"
        },
        {
         "dtype": "float64",
         "name": "Las Vegas"
        },
        {
         "dtype": "float64",
         "name": "Phoenix"
        },
        {
         "dtype": "float64",
         "name": "Albuquerque"
        },
        {
         "dtype": "float64",
         "name": "Denver"
        },
        {
         "dtype": "float64",
         "name": "San Antonio"
        },
        {
         "dtype": "float64",
         "name": "Dallas"
        },
        {
         "dtype": "float64",
         "name": "Houston"
        },
        {
         "dtype": "float64",
         "name": "Kansas City"
        },
        {
         "dtype": "float64",
         "name": "Minneapolis"
        },
        {
         "dtype": "float64",
         "name": "Saint Louis"
        },
        {
         "dtype": "float64",
         "name": "Chicago"
        },
        {
         "dtype": "float64",
         "name": "Nashville"
        },
        {
         "dtype": "float64",
         "name": "Indianapolis"
        },
        {
         "dtype": "float64",
         "name": "Atlanta"
        },
        {
         "dtype": "float64",
         "name": "Detroit"
        },
        {
         "dtype": "float64",
         "name": "Jacksonville"
        },
        {
         "dtype": "float64",
         "name": "Charlotte"
        },
        {
         "dtype": "float64",
         "name": "Miami"
        },
        {
         "dtype": "float64",
         "name": "Pittsburgh"
        },
        {
         "dtype": "float64",
         "name": "Toronto"
        },
        {
         "dtype": "float64",
         "name": "Philadelphia"
        },
        {
         "dtype": "float64",
         "name": "New York"
        },
        {
         "dtype": "float64",
         "name": "Montreal"
        },
        {
         "dtype": "float64",
         "name": "Boston"
        },
        {
         "dtype": "float64",
         "name": "Beersheba"
        },
        {
         "dtype": "float64",
         "name": "Tel Aviv District"
        },
        {
         "dtype": "float64",
         "name": "Eilat"
        },
        {
         "dtype": "float64",
         "name": "Haifa"
        },
        {
         "dtype": "float64",
         "name": "Nahariyya"
        },
        {
         "dtype": "float64",
         "name": "Jerusalem"
        },
        {
         "dtype": "int64",
         "name": "_deepnote_index_column"
        }
       ],
       "row_count": 45253,
       "rows": [
        {
         "Albuquerque": "nan",
         "Atlanta": "nan",
         "Beersheba": "nan",
         "Boston": "nan",
         "Charlotte": "nan",
         "Chicago": "nan",
         "Dallas": "nan",
         "Denver": "nan",
         "Detroit": "nan",
         "Eilat": "309.1",
         "Haifa": "nan",
         "Houston": "nan",
         "Indianapolis": "nan",
         "Jacksonville": "nan",
         "Jerusalem": "nan",
         "Kansas City": "nan",
         "Las Vegas": "nan",
         "Los Angeles": "nan",
         "Miami": "nan",
         "Minneapolis": "nan",
         "Montreal": "nan",
         "Nahariyya": "nan",
         "Nashville": "nan",
         "New York": "nan",
         "Philadelphia": "nan",
         "Phoenix": "nan",
         "Pittsburgh": "nan",
         "Portland": "nan",
         "Saint Louis": "nan",
         "San Antonio": "nan",
         "San Diego": "nan",
         "San Francisco": "nan",
         "Seattle": "nan",
         "Tel Aviv District": "nan",
         "Toronto": "nan",
         "Vancouver": "nan",
         "_deepnote_index_column": "0",
         "datetime": "2012-10-01 12:00:00"
        },
        {
         "Albuquerque": "285.12",
         "Atlanta": "294.03",
         "Beersheba": "307.59",
         "Boston": "287.17",
         "Charlotte": "288.65",
         "Chicago": "284.01",
         "Dallas": "289.74",
         "Denver": "284.61",
         "Detroit": "284.03",
         "Eilat": "310.58",
         "Haifa": "304.4",
         "Houston": "288.27",
         "Indianapolis": "283.85",
         "Jacksonville": "298.17",
         "Jerusalem": "303.5",
         "Kansas City": "289.98",
         "Las Vegas": "293.41",
         "Los Angeles": "291.87",
         "Miami": "299.72",
         "Minneapolis": "286.87",
         "Montreal": "285.83",
         "Nahariyya": "304.4",
         "Nashville": "287.41",
         "New York": "288.22",
         "Philadelphia": "285.63",
         "Phoenix": "296.6",
         "Pittsburgh": "281.0",
         "Portland": "282.08",
         "Saint Louis": "286.18",
         "San Antonio": "289.29",
         "San Diego": "291.53",
         "San Francisco": "289.48",
         "Seattle": "281.8",
         "Tel Aviv District": "305.47",
         "Toronto": "286.26",
         "Vancouver": "284.63",
         "_deepnote_index_column": "1",
         "datetime": "2012-10-01 13:00:00"
        },
        {
         "Albuquerque": "285.154558187",
         "Atlanta": "294.03534141",
         "Beersheba": "307.59",
         "Boston": "287.186092094",
         "Charlotte": "288.650172214",
         "Chicago": "284.054690974",
         "Dallas": "289.762974207",
         "Denver": "284.607305531",
         "Detroit": "284.069789234",
         "Eilat": "310.495769231",
         "Haifa": "304.4",
         "Houston": "288.297575758",
         "Indianapolis": "283.889393939",
         "Jacksonville": "298.205229759",
         "Jerusalem": "303.5",
         "Kansas City": "289.997635363",
         "Las Vegas": "293.403141271",
         "Los Angeles": "291.868185522",
         "Miami": "299.732517698",
         "Minneapolis": "286.893635588",
         "Montreal": "285.834649953",
         "Nahariyya": "304.4",
         "Nashville": "287.42136028",
         "New York": "288.24767617",
         "Philadelphia": "285.663207797",
         "Phoenix": "296.608508543",
         "Pittsburgh": "281.024767377",
         "Portland": "282.083251974",
         "Saint Louis": "286.185246029",
         "San Antonio": "289.303648787",
         "San Diego": "291.533500952",
         "San Francisco": "289.474992813",
         "Seattle": "281.797216632",
         "Tel Aviv District": "304.31",
         "Toronto": "286.262540958",
         "Vancouver": "284.62904131",
         "_deepnote_index_column": "2",
         "datetime": "2012-10-01 14:00:00"
        },
        {
         "Albuquerque": "285.233951595",
         "Atlanta": "294.049702185",
         "Beersheba": "307.391512749",
         "Boston": "287.23167159",
         "Charlotte": "288.650581705",
         "Chicago": "284.177412183",
         "Dallas": "289.830766948",
         "Denver": "284.5999178",
         "Detroit": "284.173964682",
         "Eilat": "310.411538462",
         "Haifa": "304.4",
         "Houston": "288.334343434",
         "Indianapolis": "283.941919192",
         "Jacksonville": "298.299595186",
         "Jerusalem": "303.5",
         "Kansas City": "290.038150556",
         "Las Vegas": "293.392177052",
         "Los Angeles": "291.862844459",
         "Miami": "299.76657946",
         "Minneapolis": "286.951400772",
         "Montreal": "285.847789539",
         "Nahariyya": "304.4",
         "Nashville": "287.454636935",
         "New York": "288.326939663",
         "Philadelphia": "285.756824139",
         "Phoenix": "296.631487354",
         "Pittsburgh": "281.088318736",
         "Portland": "282.091866475",
         "Saint Louis": "286.199194111",
         "San Antonio": "289.338496754",
         "San Diego": "291.543355079",
         "San Francisco": "289.460618112",
         "Seattle": "281.789832606",
         "Tel Aviv District": "304.281841331",
         "Toronto": "286.269518418",
         "Vancouver": "284.626997923",
         "_deepnote_index_column": "3",
         "datetime": "2012-10-01 15:00:00"
        },
        {
         "Albuquerque": "285.313345004",
         "Atlanta": "294.064062959",
         "Beersheba": "307.145199718",
         "Boston": "287.277251086",
         "Charlotte": "288.650991196",
         "Chicago": "284.300133393",
         "Dallas": "289.89855969",
         "Denver": "284.59253007",
         "Detroit": "284.278140131",
         "Eilat": "310.327307692",
         "Haifa": "304.4",
         "Houston": "288.371111111",
         "Indianapolis": "283.994444444",
         "Jacksonville": "298.393960613",
         "Jerusalem": "303.5",
         "Kansas City": "290.07866575",
         "Las Vegas": "293.381212832",
         "Los Angeles": "291.857503395",
         "Miami": "299.800641223",
         "Minneapolis": "287.009165955",
         "Montreal": "285.860929124",
         "Nahariyya": "304.4",
         "Nashville": "287.48791359",
         "New York": "288.406203155",
         "Philadelphia": "285.85044048",
         "Phoenix": "296.654466164",
         "Pittsburgh": "281.151870096",
         "Portland": "282.100480976",
         "Saint Louis": "286.213142193",
         "San Antonio": "289.373344722",
         "San Diego": "291.553209206",
         "San Francisco": "289.446243412",
         "Seattle": "281.78244858",
         "Tel Aviv District": "304.238014609",
         "Toronto": "286.276495879",
         "Vancouver": "284.624954535",
         "_deepnote_index_column": "4",
         "datetime": "2012-10-01 16:00:00"
        },
        {
         "Albuquerque": "285.392738413",
         "Atlanta": "294.078423734",
         "Beersheba": "306.898886687",
         "Boston": "287.322830583",
         "Charlotte": "288.651400687",
         "Chicago": "284.422854602",
         "Dallas": "289.966352431",
         "Denver": "284.585142339",
         "Detroit": "284.38231558",
         "Eilat": "310.243076923",
         "Haifa": "304.4",
         "Houston": "288.407878788",
         "Indianapolis": "284.046969697",
         "Jacksonville": "298.488326039",
         "Jerusalem": "303.5",
         "Kansas City": "290.119180943",
         "Las Vegas": "293.370248613",
         "Los Angeles": "291.852162332",
         "Miami": "299.834702986",
         "Minneapolis": "287.066931139",
         "Montreal": "285.874068709",
         "Nahariyya": "304.4",
         "Nashville": "287.521190245",
         "New York": "288.485466648",
         "Philadelphia": "285.944056822",
         "Phoenix": "296.677444975",
         "Pittsburgh": "281.215421455",
         "Portland": "282.109095477",
         "Saint Louis": "286.227090275",
         "San Antonio": "289.408192689",
         "San Diego": "291.563063333",
         "San Francisco": "289.431868711",
         "Seattle": "281.775064553",
         "Tel Aviv District": "304.194187887",
         "Toronto": "286.283473339",
         "Vancouver": "284.622911147",
         "_deepnote_index_column": "5",
         "datetime": "2012-10-01 17:00:00"
        },
        {
         "Albuquerque": "285.472131822",
         "Atlanta": "294.092784509",
         "Beersheba": "306.652573655",
         "Boston": "287.368410079",
         "Charlotte": "288.651810178",
         "Chicago": "284.545575811",
         "Dallas": "290.034145172",
         "Denver": "284.577754609",
         "Detroit": "284.486491028",
         "Eilat": "310.158846154",
         "Haifa": "304.4",
         "Houston": "288.444646465",
         "Indianapolis": "284.099494949",
         "Jacksonville": "298.582691466",
         "Jerusalem": "303.5",
         "Kansas City": "290.159696136",
         "Las Vegas": "293.359284393",
         "Los Angeles": "291.846821268",
         "Miami": "299.868764748",
         "Minneapolis": "287.124696323",
         "Montreal": "285.887208294",
         "Nahariyya": "304.4",
         "Nashville": "287.5544669",
         "New York": "288.564730141",
         "Philadelphia": "286.037673164",
         "Phoenix": "296.700423786",
         "Pittsburgh": "281.278972814",
         "Portland": "282.117709978",
         "Saint Louis": "286.241038357",
         "San Antonio": "289.443040656",
         "San Diego": "291.57291746",
         "San Francisco": "289.417494011",
         "Seattle": "281.767680527",
         "Tel Aviv District": "304.150361165",
         "Toronto": "286.290450799",
         "Vancouver": "284.620867759",
         "_deepnote_index_column": "6",
         "datetime": "2012-10-01 18:00:00"
        },
        {
         "Albuquerque": "285.551525231",
         "Atlanta": "294.107145283",
         "Beersheba": "306.406260624",
         "Boston": "287.413989575",
         "Charlotte": "288.652219669",
         "Chicago": "284.668297021",
         "Dallas": "290.101937914",
         "Denver": "284.570366878",
         "Detroit": "284.590666477",
         "Eilat": "310.074615385",
         "Haifa": "304.4",
         "Houston": "288.481414141",
         "Indianapolis": "284.152020202",
         "Jacksonville": "298.677056893",
         "Jerusalem": "303.5",
         "Kansas City": "290.200211329",
         "Las Vegas": "293.348320173",
         "Los Angeles": "291.841480205",
         "Miami": "299.902826511",
         "Minneapolis": "287.182461507",
         "Montreal": "285.90034788",
         "Nahariyya": "304.4",
         "Nashville": "287.587743555",
         "New York": "288.643993634",
         "Philadelphia": "286.131289506",
         "Phoenix": "296.723402597",
         "Pittsburgh": "281.342524173",
         "Portland": "282.12632448",
         "Saint Louis": "286.254986439",
         "San Antonio": "289.477888623",
         "San Diego": "291.582771587",
         "San Francisco": "289.40311931",
         "Seattle": "281.760296501",
         "Tel Aviv District": "304.106534443",
         "Toronto": "286.297428259",
         "Vancouver": "284.618824371",
         "_deepnote_index_column": "7",
         "datetime": "2012-10-01 19:00:00"
        },
        {
         "Albuquerque": "285.63091864",
         "Atlanta": "294.121506058",
         "Beersheba": "306.159947593",
         "Boston": "287.459569071",
         "Charlotte": "288.65262916",
         "Chicago": "284.79101823",
         "Dallas": "290.169730655",
         "Denver": "284.562979148",
         "Detroit": "284.694841925",
         "Eilat": "309.990384615",
         "Haifa": "304.4",
         "Houston": "288.518181818",
         "Indianapolis": "284.204545455",
         "Jacksonville": "298.771422319",
         "Jerusalem": "303.5",
         "Kansas City": "290.240726522",
         "Las Vegas": "293.337355954",
         "Los Angeles": "291.836139142",
         "Miami": "299.936888273",
         "Minneapolis": "287.240226691",
         "Montreal": "285.913487465",
         "Nahariyya": "304.4",
         "Nashville": "287.62102021",
         "New York": "288.723257127",
         "Philadelphia": "286.224905848",
         "Phoenix": "296.746381407",
         "Pittsburgh": "281.406075533",
         "Portland": "282.134938981",
         "Saint Louis": "286.268934522",
         "San Antonio": "289.51273659",
         "San Diego": "291.592625714",
         "San Francisco": "289.388744609",
         "Seattle": "281.752912474",
         "Tel Aviv District": "304.06270772",
         "Toronto": "286.304405719",
         "Vancouver": "284.616780983",
         "_deepnote_index_column": "8",
         "datetime": "2012-10-01 20:00:00"
        },
        {
         "Albuquerque": "285.710312049",
         "Atlanta": "294.135866832",
         "Beersheba": "305.913634562",
         "Boston": "287.505148567",
         "Charlotte": "288.653038651",
         "Chicago": "284.91373944",
         "Dallas": "290.237523396",
         "Denver": "284.555591417",
         "Detroit": "284.799017374",
         "Eilat": "309.906153846",
         "Haifa": "304.4",
         "Houston": "288.554949495",
         "Indianapolis": "284.257070707",
         "Jacksonville": "298.865787746",
         "Jerusalem": "303.5",
         "Kansas City": "290.281241716",
         "Las Vegas": "293.326391734",
         "Los Angeles": "291.830798078",
         "Miami": "299.970950036",
         "Minneapolis": "287.297991875",
         "Montreal": "285.92662705",
         "Nahariyya": "304.4",
         "Nashville": "287.654296865",
         "New York": "288.80252062",
         "Philadelphia": "286.318522189",
         "Phoenix": "296.769360218",
         "Pittsburgh": "281.469626892",
         "Portland": "282.143553482",
         "Saint Louis": "286.282882604",
         "San Antonio": "289.547584558",
         "San Diego": "291.602479841",
         "San Francisco": "289.374369909",
         "Seattle": "281.745528448",
         "Tel Aviv District": "304.018880998",
         "Toronto": "286.311383179",
         "Vancouver": "284.614737595",
         "_deepnote_index_column": "9",
         "datetime": "2012-10-01 21:00:00"
        }
       ]
      },
      "text/html": [
       "<div>\n",
       "<style scoped>\n",
       "    .dataframe tbody tr th:only-of-type {\n",
       "        vertical-align: middle;\n",
       "    }\n",
       "\n",
       "    .dataframe tbody tr th {\n",
       "        vertical-align: top;\n",
       "    }\n",
       "\n",
       "    .dataframe thead th {\n",
       "        text-align: right;\n",
       "    }\n",
       "</style>\n",
       "<table border=\"1\" class=\"dataframe\">\n",
       "  <thead>\n",
       "    <tr style=\"text-align: right;\">\n",
       "      <th></th>\n",
       "      <th>datetime</th>\n",
       "      <th>Vancouver</th>\n",
       "      <th>Portland</th>\n",
       "      <th>San Francisco</th>\n",
       "      <th>Seattle</th>\n",
       "      <th>Los Angeles</th>\n",
       "      <th>San Diego</th>\n",
       "      <th>Las Vegas</th>\n",
       "      <th>Phoenix</th>\n",
       "      <th>Albuquerque</th>\n",
       "      <th>...</th>\n",
       "      <th>Philadelphia</th>\n",
       "      <th>New York</th>\n",
       "      <th>Montreal</th>\n",
       "      <th>Boston</th>\n",
       "      <th>Beersheba</th>\n",
       "      <th>Tel Aviv District</th>\n",
       "      <th>Eilat</th>\n",
       "      <th>Haifa</th>\n",
       "      <th>Nahariyya</th>\n",
       "      <th>Jerusalem</th>\n",
       "    </tr>\n",
       "  </thead>\n",
       "  <tbody>\n",
       "    <tr>\n",
       "      <th>0</th>\n",
       "      <td>2012-10-01 12:00:00</td>\n",
       "      <td>NaN</td>\n",
       "      <td>NaN</td>\n",
       "      <td>NaN</td>\n",
       "      <td>NaN</td>\n",
       "      <td>NaN</td>\n",
       "      <td>NaN</td>\n",
       "      <td>NaN</td>\n",
       "      <td>NaN</td>\n",
       "      <td>NaN</td>\n",
       "      <td>...</td>\n",
       "      <td>NaN</td>\n",
       "      <td>NaN</td>\n",
       "      <td>NaN</td>\n",
       "      <td>NaN</td>\n",
       "      <td>NaN</td>\n",
       "      <td>NaN</td>\n",
       "      <td>309.100000</td>\n",
       "      <td>NaN</td>\n",
       "      <td>NaN</td>\n",
       "      <td>NaN</td>\n",
       "    </tr>\n",
       "    <tr>\n",
       "      <th>1</th>\n",
       "      <td>2012-10-01 13:00:00</td>\n",
       "      <td>284.630000</td>\n",
       "      <td>282.080000</td>\n",
       "      <td>289.480000</td>\n",
       "      <td>281.800000</td>\n",
       "      <td>291.870000</td>\n",
       "      <td>291.530000</td>\n",
       "      <td>293.410000</td>\n",
       "      <td>296.600000</td>\n",
       "      <td>285.120000</td>\n",
       "      <td>...</td>\n",
       "      <td>285.630000</td>\n",
       "      <td>288.220000</td>\n",
       "      <td>285.830000</td>\n",
       "      <td>287.170000</td>\n",
       "      <td>307.590000</td>\n",
       "      <td>305.470000</td>\n",
       "      <td>310.580000</td>\n",
       "      <td>304.4</td>\n",
       "      <td>304.4</td>\n",
       "      <td>303.5</td>\n",
       "    </tr>\n",
       "    <tr>\n",
       "      <th>2</th>\n",
       "      <td>2012-10-01 14:00:00</td>\n",
       "      <td>284.629041</td>\n",
       "      <td>282.083252</td>\n",
       "      <td>289.474993</td>\n",
       "      <td>281.797217</td>\n",
       "      <td>291.868186</td>\n",
       "      <td>291.533501</td>\n",
       "      <td>293.403141</td>\n",
       "      <td>296.608509</td>\n",
       "      <td>285.154558</td>\n",
       "      <td>...</td>\n",
       "      <td>285.663208</td>\n",
       "      <td>288.247676</td>\n",
       "      <td>285.834650</td>\n",
       "      <td>287.186092</td>\n",
       "      <td>307.590000</td>\n",
       "      <td>304.310000</td>\n",
       "      <td>310.495769</td>\n",
       "      <td>304.4</td>\n",
       "      <td>304.4</td>\n",
       "      <td>303.5</td>\n",
       "    </tr>\n",
       "    <tr>\n",
       "      <th>3</th>\n",
       "      <td>2012-10-01 15:00:00</td>\n",
       "      <td>284.626998</td>\n",
       "      <td>282.091866</td>\n",
       "      <td>289.460618</td>\n",
       "      <td>281.789833</td>\n",
       "      <td>291.862844</td>\n",
       "      <td>291.543355</td>\n",
       "      <td>293.392177</td>\n",
       "      <td>296.631487</td>\n",
       "      <td>285.233952</td>\n",
       "      <td>...</td>\n",
       "      <td>285.756824</td>\n",
       "      <td>288.326940</td>\n",
       "      <td>285.847790</td>\n",
       "      <td>287.231672</td>\n",
       "      <td>307.391513</td>\n",
       "      <td>304.281841</td>\n",
       "      <td>310.411538</td>\n",
       "      <td>304.4</td>\n",
       "      <td>304.4</td>\n",
       "      <td>303.5</td>\n",
       "    </tr>\n",
       "    <tr>\n",
       "      <th>4</th>\n",
       "      <td>2012-10-01 16:00:00</td>\n",
       "      <td>284.624955</td>\n",
       "      <td>282.100481</td>\n",
       "      <td>289.446243</td>\n",
       "      <td>281.782449</td>\n",
       "      <td>291.857503</td>\n",
       "      <td>291.553209</td>\n",
       "      <td>293.381213</td>\n",
       "      <td>296.654466</td>\n",
       "      <td>285.313345</td>\n",
       "      <td>...</td>\n",
       "      <td>285.850440</td>\n",
       "      <td>288.406203</td>\n",
       "      <td>285.860929</td>\n",
       "      <td>287.277251</td>\n",
       "      <td>307.145200</td>\n",
       "      <td>304.238015</td>\n",
       "      <td>310.327308</td>\n",
       "      <td>304.4</td>\n",
       "      <td>304.4</td>\n",
       "      <td>303.5</td>\n",
       "    </tr>\n",
       "    <tr>\n",
       "      <th>...</th>\n",
       "      <td>...</td>\n",
       "      <td>...</td>\n",
       "      <td>...</td>\n",
       "      <td>...</td>\n",
       "      <td>...</td>\n",
       "      <td>...</td>\n",
       "      <td>...</td>\n",
       "      <td>...</td>\n",
       "      <td>...</td>\n",
       "      <td>...</td>\n",
       "      <td>...</td>\n",
       "      <td>...</td>\n",
       "      <td>...</td>\n",
       "      <td>...</td>\n",
       "      <td>...</td>\n",
       "      <td>...</td>\n",
       "      <td>...</td>\n",
       "      <td>...</td>\n",
       "      <td>...</td>\n",
       "      <td>...</td>\n",
       "      <td>...</td>\n",
       "    </tr>\n",
       "    <tr>\n",
       "      <th>45248</th>\n",
       "      <td>2017-11-29 20:00:00</td>\n",
       "      <td>NaN</td>\n",
       "      <td>282.000000</td>\n",
       "      <td>NaN</td>\n",
       "      <td>280.820000</td>\n",
       "      <td>293.550000</td>\n",
       "      <td>292.150000</td>\n",
       "      <td>289.540000</td>\n",
       "      <td>294.710000</td>\n",
       "      <td>285.720000</td>\n",
       "      <td>...</td>\n",
       "      <td>290.240000</td>\n",
       "      <td>NaN</td>\n",
       "      <td>275.130000</td>\n",
       "      <td>288.080000</td>\n",
       "      <td>NaN</td>\n",
       "      <td>NaN</td>\n",
       "      <td>NaN</td>\n",
       "      <td>NaN</td>\n",
       "      <td>NaN</td>\n",
       "      <td>NaN</td>\n",
       "    </tr>\n",
       "    <tr>\n",
       "      <th>45249</th>\n",
       "      <td>2017-11-29 21:00:00</td>\n",
       "      <td>NaN</td>\n",
       "      <td>282.890000</td>\n",
       "      <td>NaN</td>\n",
       "      <td>281.650000</td>\n",
       "      <td>295.680000</td>\n",
       "      <td>292.740000</td>\n",
       "      <td>290.610000</td>\n",
       "      <td>295.590000</td>\n",
       "      <td>286.450000</td>\n",
       "      <td>...</td>\n",
       "      <td>289.240000</td>\n",
       "      <td>NaN</td>\n",
       "      <td>274.130000</td>\n",
       "      <td>286.020000</td>\n",
       "      <td>NaN</td>\n",
       "      <td>NaN</td>\n",
       "      <td>NaN</td>\n",
       "      <td>NaN</td>\n",
       "      <td>NaN</td>\n",
       "      <td>NaN</td>\n",
       "    </tr>\n",
       "    <tr>\n",
       "      <th>45250</th>\n",
       "      <td>2017-11-29 22:00:00</td>\n",
       "      <td>NaN</td>\n",
       "      <td>283.390000</td>\n",
       "      <td>NaN</td>\n",
       "      <td>282.750000</td>\n",
       "      <td>295.960000</td>\n",
       "      <td>292.580000</td>\n",
       "      <td>291.340000</td>\n",
       "      <td>296.250000</td>\n",
       "      <td>286.440000</td>\n",
       "      <td>...</td>\n",
       "      <td>286.780000</td>\n",
       "      <td>NaN</td>\n",
       "      <td>273.480000</td>\n",
       "      <td>283.940000</td>\n",
       "      <td>NaN</td>\n",
       "      <td>NaN</td>\n",
       "      <td>NaN</td>\n",
       "      <td>NaN</td>\n",
       "      <td>NaN</td>\n",
       "      <td>NaN</td>\n",
       "    </tr>\n",
       "    <tr>\n",
       "      <th>45251</th>\n",
       "      <td>2017-11-29 23:00:00</td>\n",
       "      <td>NaN</td>\n",
       "      <td>283.020000</td>\n",
       "      <td>NaN</td>\n",
       "      <td>282.960000</td>\n",
       "      <td>295.650000</td>\n",
       "      <td>292.610000</td>\n",
       "      <td>292.150000</td>\n",
       "      <td>297.150000</td>\n",
       "      <td>286.140000</td>\n",
       "      <td>...</td>\n",
       "      <td>284.570000</td>\n",
       "      <td>NaN</td>\n",
       "      <td>272.480000</td>\n",
       "      <td>282.170000</td>\n",
       "      <td>NaN</td>\n",
       "      <td>NaN</td>\n",
       "      <td>NaN</td>\n",
       "      <td>NaN</td>\n",
       "      <td>NaN</td>\n",
       "      <td>NaN</td>\n",
       "    </tr>\n",
       "    <tr>\n",
       "      <th>45252</th>\n",
       "      <td>2017-11-30 00:00:00</td>\n",
       "      <td>NaN</td>\n",
       "      <td>282.280000</td>\n",
       "      <td>NaN</td>\n",
       "      <td>283.040000</td>\n",
       "      <td>294.930000</td>\n",
       "      <td>291.400000</td>\n",
       "      <td>291.640000</td>\n",
       "      <td>297.150000</td>\n",
       "      <td>284.700000</td>\n",
       "      <td>...</td>\n",
       "      <td>283.420000</td>\n",
       "      <td>NaN</td>\n",
       "      <td>271.800000</td>\n",
       "      <td>280.650000</td>\n",
       "      <td>NaN</td>\n",
       "      <td>NaN</td>\n",
       "      <td>NaN</td>\n",
       "      <td>NaN</td>\n",
       "      <td>NaN</td>\n",
       "      <td>NaN</td>\n",
       "    </tr>\n",
       "  </tbody>\n",
       "</table>\n",
       "<p>45253 rows × 37 columns</p>\n",
       "</div>"
      ],
      "text/plain": [
       "                  datetime   Vancouver    Portland  San Francisco     Seattle  \\\n",
       "0      2012-10-01 12:00:00         NaN         NaN            NaN         NaN   \n",
       "1      2012-10-01 13:00:00  284.630000  282.080000     289.480000  281.800000   \n",
       "2      2012-10-01 14:00:00  284.629041  282.083252     289.474993  281.797217   \n",
       "3      2012-10-01 15:00:00  284.626998  282.091866     289.460618  281.789833   \n",
       "4      2012-10-01 16:00:00  284.624955  282.100481     289.446243  281.782449   \n",
       "...                    ...         ...         ...            ...         ...   \n",
       "45248  2017-11-29 20:00:00         NaN  282.000000            NaN  280.820000   \n",
       "45249  2017-11-29 21:00:00         NaN  282.890000            NaN  281.650000   \n",
       "45250  2017-11-29 22:00:00         NaN  283.390000            NaN  282.750000   \n",
       "45251  2017-11-29 23:00:00         NaN  283.020000            NaN  282.960000   \n",
       "45252  2017-11-30 00:00:00         NaN  282.280000            NaN  283.040000   \n",
       "\n",
       "       Los Angeles   San Diego   Las Vegas     Phoenix  Albuquerque  ...  \\\n",
       "0              NaN         NaN         NaN         NaN          NaN  ...   \n",
       "1       291.870000  291.530000  293.410000  296.600000   285.120000  ...   \n",
       "2       291.868186  291.533501  293.403141  296.608509   285.154558  ...   \n",
       "3       291.862844  291.543355  293.392177  296.631487   285.233952  ...   \n",
       "4       291.857503  291.553209  293.381213  296.654466   285.313345  ...   \n",
       "...            ...         ...         ...         ...          ...  ...   \n",
       "45248   293.550000  292.150000  289.540000  294.710000   285.720000  ...   \n",
       "45249   295.680000  292.740000  290.610000  295.590000   286.450000  ...   \n",
       "45250   295.960000  292.580000  291.340000  296.250000   286.440000  ...   \n",
       "45251   295.650000  292.610000  292.150000  297.150000   286.140000  ...   \n",
       "45252   294.930000  291.400000  291.640000  297.150000   284.700000  ...   \n",
       "\n",
       "       Philadelphia    New York    Montreal      Boston   Beersheba  \\\n",
       "0               NaN         NaN         NaN         NaN         NaN   \n",
       "1        285.630000  288.220000  285.830000  287.170000  307.590000   \n",
       "2        285.663208  288.247676  285.834650  287.186092  307.590000   \n",
       "3        285.756824  288.326940  285.847790  287.231672  307.391513   \n",
       "4        285.850440  288.406203  285.860929  287.277251  307.145200   \n",
       "...             ...         ...         ...         ...         ...   \n",
       "45248    290.240000         NaN  275.130000  288.080000         NaN   \n",
       "45249    289.240000         NaN  274.130000  286.020000         NaN   \n",
       "45250    286.780000         NaN  273.480000  283.940000         NaN   \n",
       "45251    284.570000         NaN  272.480000  282.170000         NaN   \n",
       "45252    283.420000         NaN  271.800000  280.650000         NaN   \n",
       "\n",
       "       Tel Aviv District       Eilat  Haifa  Nahariyya  Jerusalem  \n",
       "0                    NaN  309.100000    NaN        NaN        NaN  \n",
       "1             305.470000  310.580000  304.4      304.4      303.5  \n",
       "2             304.310000  310.495769  304.4      304.4      303.5  \n",
       "3             304.281841  310.411538  304.4      304.4      303.5  \n",
       "4             304.238015  310.327308  304.4      304.4      303.5  \n",
       "...                  ...         ...    ...        ...        ...  \n",
       "45248                NaN         NaN    NaN        NaN        NaN  \n",
       "45249                NaN         NaN    NaN        NaN        NaN  \n",
       "45250                NaN         NaN    NaN        NaN        NaN  \n",
       "45251                NaN         NaN    NaN        NaN        NaN  \n",
       "45252                NaN         NaN    NaN        NaN        NaN  \n",
       "\n",
       "[45253 rows x 37 columns]"
      ]
     },
     "execution_count": 4,
     "metadata": {},
     "output_type": "execute_result"
    }
   ],
   "source": [
    "df_pre"
   ]
  },
  {
   "cell_type": "markdown",
   "metadata": {},
   "source": [
    "We will just take approximately 200 of the rows and two of the columns from this dataset."
   ]
  },
  {
   "cell_type": "code",
   "execution_count": 6,
   "metadata": {
    "cell_id": "49c542729c634bcc9d43ed62d21a0b1e",
    "deepnote_cell_type": "code",
    "deepnote_to_be_reexecuted": false,
    "execution_millis": 1,
    "execution_start": 1670004313671,
    "source_hash": "8de34adc",
    "tags": []
   },
   "outputs": [],
   "source": [
    "# greatly reduce the rows and columns\n",
    "df = df_pre.loc[400:600, [\"datetime\", \"Detroit\"]].copy()"
   ]
  },
  {
   "cell_type": "code",
   "execution_count": 7,
   "metadata": {
    "cell_id": "6dc2113a979f440687a12565af06a927",
    "deepnote_cell_type": "code",
    "deepnote_to_be_reexecuted": false,
    "execution_millis": 5,
    "execution_start": 1670004314381,
    "source_hash": "f804c160",
    "tags": []
   },
   "outputs": [
    {
     "data": {
      "application/vnd.deepnote.dataframe.v3+json": {
       "column_count": 2,
       "columns": [
        {
         "dtype": "object",
         "name": "datetime",
         "stats": {
          "categories": [
           {
            "count": 1,
            "name": "2012-10-18 04:00:00"
           },
           {
            "count": 1,
            "name": "2012-10-18 05:00:00"
           },
           {
            "count": 199,
            "name": "199 others"
           }
          ],
          "nan_count": 0,
          "unique_count": 201
         }
        },
        {
         "dtype": "float64",
         "name": "Detroit",
         "stats": {
          "histogram": [
           {
            "bin_end": 280.259,
            "bin_start": 278.36,
            "count": 11
           },
           {
            "bin_end": 282.158,
            "bin_start": 280.259,
            "count": 26
           },
           {
            "bin_end": 284.057,
            "bin_start": 282.158,
            "count": 17
           },
           {
            "bin_end": 285.956,
            "bin_start": 284.057,
            "count": 32
           },
           {
            "bin_end": 287.855,
            "bin_start": 285.956,
            "count": 21
           },
           {
            "bin_end": 289.754,
            "bin_start": 287.855,
            "count": 46
           },
           {
            "bin_end": 291.653,
            "bin_start": 289.754,
            "count": 17
           },
           {
            "bin_end": 293.552,
            "bin_start": 291.653,
            "count": 20
           },
           {
            "bin_end": 295.451,
            "bin_start": 293.552,
            "count": 6
           },
           {
            "bin_end": 297.35,
            "bin_start": 295.451,
            "count": 5
           }
          ],
          "max": "297.35",
          "min": "278.36",
          "nan_count": 0,
          "unique_count": 188
         }
        },
        {
         "dtype": "int64",
         "name": "_deepnote_index_column"
        }
       ],
       "row_count": 201,
       "rows": [
        {
         "Detroit": "284.52",
         "_deepnote_index_column": "400",
         "datetime": "2012-10-18 04:00:00"
        },
        {
         "Detroit": "284.45",
         "_deepnote_index_column": "401",
         "datetime": "2012-10-18 05:00:00"
        },
        {
         "Detroit": "285.51",
         "_deepnote_index_column": "402",
         "datetime": "2012-10-18 06:00:00"
        },
        {
         "Detroit": "284.93",
         "_deepnote_index_column": "403",
         "datetime": "2012-10-18 07:00:00"
        },
        {
         "Detroit": "285.34",
         "_deepnote_index_column": "404",
         "datetime": "2012-10-18 08:00:00"
        },
        {
         "Detroit": "285.17",
         "_deepnote_index_column": "405",
         "datetime": "2012-10-18 09:00:00"
        },
        {
         "Detroit": "285.49",
         "_deepnote_index_column": "406",
         "datetime": "2012-10-18 10:00:00"
        },
        {
         "Detroit": "285.88",
         "_deepnote_index_column": "407",
         "datetime": "2012-10-18 11:00:00"
        },
        {
         "Detroit": "285.92",
         "_deepnote_index_column": "408",
         "datetime": "2012-10-18 12:00:00"
        },
        {
         "Detroit": "286.2",
         "_deepnote_index_column": "409",
         "datetime": "2012-10-18 13:00:00"
        }
       ]
      },
      "text/html": [
       "<div>\n",
       "<style scoped>\n",
       "    .dataframe tbody tr th:only-of-type {\n",
       "        vertical-align: middle;\n",
       "    }\n",
       "\n",
       "    .dataframe tbody tr th {\n",
       "        vertical-align: top;\n",
       "    }\n",
       "\n",
       "    .dataframe thead th {\n",
       "        text-align: right;\n",
       "    }\n",
       "</style>\n",
       "<table border=\"1\" class=\"dataframe\">\n",
       "  <thead>\n",
       "    <tr style=\"text-align: right;\">\n",
       "      <th></th>\n",
       "      <th>datetime</th>\n",
       "      <th>Detroit</th>\n",
       "    </tr>\n",
       "  </thead>\n",
       "  <tbody>\n",
       "    <tr>\n",
       "      <th>400</th>\n",
       "      <td>2012-10-18 04:00:00</td>\n",
       "      <td>284.52</td>\n",
       "    </tr>\n",
       "    <tr>\n",
       "      <th>401</th>\n",
       "      <td>2012-10-18 05:00:00</td>\n",
       "      <td>284.45</td>\n",
       "    </tr>\n",
       "    <tr>\n",
       "      <th>402</th>\n",
       "      <td>2012-10-18 06:00:00</td>\n",
       "      <td>285.51</td>\n",
       "    </tr>\n",
       "    <tr>\n",
       "      <th>403</th>\n",
       "      <td>2012-10-18 07:00:00</td>\n",
       "      <td>284.93</td>\n",
       "    </tr>\n",
       "    <tr>\n",
       "      <th>404</th>\n",
       "      <td>2012-10-18 08:00:00</td>\n",
       "      <td>285.34</td>\n",
       "    </tr>\n",
       "    <tr>\n",
       "      <th>...</th>\n",
       "      <td>...</td>\n",
       "      <td>...</td>\n",
       "    </tr>\n",
       "    <tr>\n",
       "      <th>596</th>\n",
       "      <td>2012-10-26 08:00:00</td>\n",
       "      <td>288.50</td>\n",
       "    </tr>\n",
       "    <tr>\n",
       "      <th>597</th>\n",
       "      <td>2012-10-26 09:00:00</td>\n",
       "      <td>287.94</td>\n",
       "    </tr>\n",
       "    <tr>\n",
       "      <th>598</th>\n",
       "      <td>2012-10-26 10:00:00</td>\n",
       "      <td>287.49</td>\n",
       "    </tr>\n",
       "    <tr>\n",
       "      <th>599</th>\n",
       "      <td>2012-10-26 11:00:00</td>\n",
       "      <td>287.09</td>\n",
       "    </tr>\n",
       "    <tr>\n",
       "      <th>600</th>\n",
       "      <td>2012-10-26 12:00:00</td>\n",
       "      <td>287.69</td>\n",
       "    </tr>\n",
       "  </tbody>\n",
       "</table>\n",
       "<p>201 rows × 2 columns</p>\n",
       "</div>"
      ],
      "text/plain": [
       "                datetime  Detroit\n",
       "400  2012-10-18 04:00:00   284.52\n",
       "401  2012-10-18 05:00:00   284.45\n",
       "402  2012-10-18 06:00:00   285.51\n",
       "403  2012-10-18 07:00:00   284.93\n",
       "404  2012-10-18 08:00:00   285.34\n",
       "..                   ...      ...\n",
       "596  2012-10-26 08:00:00   288.50\n",
       "597  2012-10-26 09:00:00   287.94\n",
       "598  2012-10-26 10:00:00   287.49\n",
       "599  2012-10-26 11:00:00   287.09\n",
       "600  2012-10-26 12:00:00   287.69\n",
       "\n",
       "[201 rows x 2 columns]"
      ]
     },
     "execution_count": 7,
     "metadata": {},
     "output_type": "execute_result"
    }
   ],
   "source": [
    "df"
   ]
  },
  {
   "cell_type": "markdown",
   "metadata": {},
   "source": [
    "Notice how strange the x-axis labels look.  That is a sign that something is wrong with the data type of the \"datetime\" column."
   ]
  },
  {
   "cell_type": "code",
   "execution_count": 8,
   "metadata": {
    "cell_id": "2a53a950ea66431b8c525a67b3b4cc1c",
    "deepnote_cell_type": "code",
    "deepnote_to_be_reexecuted": false,
    "execution_millis": 27,
    "execution_start": 1670004316797,
    "source_hash": "3a027c0f",
    "tags": []
   },
   "outputs": [
    {
     "data": {
      "text/html": [
       "\n",
       "<div id=\"altair-viz-0fb4706b47e943588869852785e1cc11\"></div>\n",
       "<script type=\"text/javascript\">\n",
       "  var VEGA_DEBUG = (typeof VEGA_DEBUG == \"undefined\") ? {} : VEGA_DEBUG;\n",
       "  (function(spec, embedOpt){\n",
       "    let outputDiv = document.currentScript.previousElementSibling;\n",
       "    if (outputDiv.id !== \"altair-viz-0fb4706b47e943588869852785e1cc11\") {\n",
       "      outputDiv = document.getElementById(\"altair-viz-0fb4706b47e943588869852785e1cc11\");\n",
       "    }\n",
       "    const paths = {\n",
       "      \"vega\": \"https://cdn.jsdelivr.net/npm//vega@5?noext\",\n",
       "      \"vega-lib\": \"https://cdn.jsdelivr.net/npm//vega-lib?noext\",\n",
       "      \"vega-lite\": \"https://cdn.jsdelivr.net/npm//vega-lite@4.17.0?noext\",\n",
       "      \"vega-embed\": \"https://cdn.jsdelivr.net/npm//vega-embed@6?noext\",\n",
       "    };\n",
       "\n",
       "    function maybeLoadScript(lib, version) {\n",
       "      var key = `${lib.replace(\"-\", \"\")}_version`;\n",
       "      return (VEGA_DEBUG[key] == version) ?\n",
       "        Promise.resolve(paths[lib]) :\n",
       "        new Promise(function(resolve, reject) {\n",
       "          var s = document.createElement('script');\n",
       "          document.getElementsByTagName(\"head\")[0].appendChild(s);\n",
       "          s.async = true;\n",
       "          s.onload = () => {\n",
       "            VEGA_DEBUG[key] = version;\n",
       "            return resolve(paths[lib]);\n",
       "          };\n",
       "          s.onerror = () => reject(`Error loading script: ${paths[lib]}`);\n",
       "          s.src = paths[lib];\n",
       "        });\n",
       "    }\n",
       "\n",
       "    function showError(err) {\n",
       "      outputDiv.innerHTML = `<div class=\"error\" style=\"color:red;\">${err}</div>`;\n",
       "      throw err;\n",
       "    }\n",
       "\n",
       "    function displayChart(vegaEmbed) {\n",
       "      vegaEmbed(outputDiv, spec, embedOpt)\n",
       "        .catch(err => showError(`Javascript Error: ${err.message}<br>This usually means there's a typo in your chart specification. See the javascript console for the full traceback.`));\n",
       "    }\n",
       "\n",
       "    if(typeof define === \"function\" && define.amd) {\n",
       "      requirejs.config({paths});\n",
       "      require([\"vega-embed\"], displayChart, err => showError(`Error loading script: ${err.message}`));\n",
       "    } else {\n",
       "      maybeLoadScript(\"vega\", \"5\")\n",
       "        .then(() => maybeLoadScript(\"vega-lite\", \"4.17.0\"))\n",
       "        .then(() => maybeLoadScript(\"vega-embed\", \"6\"))\n",
       "        .catch(showError)\n",
       "        .then(() => displayChart(vegaEmbed));\n",
       "    }\n",
       "  })({\"config\": {\"view\": {\"continuousWidth\": 400, \"continuousHeight\": 300}}, \"data\": {\"name\": \"data-8ef69faf0ebcdc16086e6245964fb5ba\"}, \"mark\": \"line\", \"encoding\": {\"x\": {\"field\": \"datetime\", \"type\": \"nominal\"}, \"y\": {\"field\": \"Detroit\", \"scale\": {\"zero\": false}, \"title\": \"kelvin\", \"type\": \"quantitative\"}}, \"title\": \"Detroit\", \"width\": 700, \"$schema\": \"https://vega.github.io/schema/vega-lite/v4.17.0.json\", \"datasets\": {\"data-8ef69faf0ebcdc16086e6245964fb5ba\": [{\"datetime\": \"2012-10-18 04:00:00\", \"Detroit\": 284.52}, {\"datetime\": \"2012-10-18 05:00:00\", \"Detroit\": 284.45}, {\"datetime\": \"2012-10-18 06:00:00\", \"Detroit\": 285.51}, {\"datetime\": \"2012-10-18 07:00:00\", \"Detroit\": 284.93}, {\"datetime\": \"2012-10-18 08:00:00\", \"Detroit\": 285.34}, {\"datetime\": \"2012-10-18 09:00:00\", \"Detroit\": 285.17}, {\"datetime\": \"2012-10-18 10:00:00\", \"Detroit\": 285.49}, {\"datetime\": \"2012-10-18 11:00:00\", \"Detroit\": 285.88}, {\"datetime\": \"2012-10-18 12:00:00\", \"Detroit\": 285.92}, {\"datetime\": \"2012-10-18 13:00:00\", \"Detroit\": 286.2}, {\"datetime\": \"2012-10-18 14:00:00\", \"Detroit\": 287.22}, {\"datetime\": \"2012-10-18 15:00:00\", \"Detroit\": 289.1}, {\"datetime\": \"2012-10-18 16:00:00\", \"Detroit\": 291.16}, {\"datetime\": \"2012-10-18 17:00:00\", \"Detroit\": 292.41}, {\"datetime\": \"2012-10-18 18:00:00\", \"Detroit\": 293.33}, {\"datetime\": \"2012-10-18 19:00:00\", \"Detroit\": 294.38}, {\"datetime\": \"2012-10-18 20:00:00\", \"Detroit\": 294.56}, {\"datetime\": \"2012-10-18 21:00:00\", \"Detroit\": 294.01}, {\"datetime\": \"2012-10-18 22:00:00\", \"Detroit\": 293.34}, {\"datetime\": \"2012-10-18 23:00:00\", \"Detroit\": 292.36}, {\"datetime\": \"2012-10-19 00:00:00\", \"Detroit\": 292.21}, {\"datetime\": \"2012-10-19 01:00:00\", \"Detroit\": 291.96}, {\"datetime\": \"2012-10-19 02:00:00\", \"Detroit\": 290.46}, {\"datetime\": \"2012-10-19 03:00:00\", \"Detroit\": 288.66}, {\"datetime\": \"2012-10-19 04:00:00\", \"Detroit\": 287.81}, {\"datetime\": \"2012-10-19 05:00:00\", \"Detroit\": 287.95}, {\"datetime\": \"2012-10-19 06:00:00\", \"Detroit\": 288.32}, {\"datetime\": \"2012-10-19 07:00:00\", \"Detroit\": 287.78}, {\"datetime\": \"2012-10-19 08:00:00\", \"Detroit\": 288.23}, {\"datetime\": \"2012-10-19 09:00:00\", \"Detroit\": 287.97}, {\"datetime\": \"2012-10-19 10:00:00\", \"Detroit\": 288.2}, {\"datetime\": \"2012-10-19 11:00:00\", \"Detroit\": 288.48}, {\"datetime\": \"2012-10-19 12:00:00\", \"Detroit\": 289.01}, {\"datetime\": \"2012-10-19 13:00:00\", \"Detroit\": 288.79}, {\"datetime\": \"2012-10-19 14:00:00\", \"Detroit\": 286.64}, {\"datetime\": \"2012-10-19 15:00:00\", \"Detroit\": 285.14}, {\"datetime\": \"2012-10-19 16:00:00\", \"Detroit\": 285.02}, {\"datetime\": \"2012-10-19 17:00:00\", \"Detroit\": 285.55}, {\"datetime\": \"2012-10-19 18:00:00\", \"Detroit\": 286.91}, {\"datetime\": \"2012-10-19 19:00:00\", \"Detroit\": 288.11}, {\"datetime\": \"2012-10-19 20:00:00\", \"Detroit\": 288.71}, {\"datetime\": \"2012-10-19 21:00:00\", \"Detroit\": 288.59}, {\"datetime\": \"2012-10-19 22:00:00\", \"Detroit\": 287.24}, {\"datetime\": \"2012-10-19 23:00:00\", \"Detroit\": 286.4}, {\"datetime\": \"2012-10-20 00:00:00\", \"Detroit\": 285.99}, {\"datetime\": \"2012-10-20 01:00:00\", \"Detroit\": 285.2}, {\"datetime\": \"2012-10-20 02:00:00\", \"Detroit\": 284.86}, {\"datetime\": \"2012-10-20 03:00:00\", \"Detroit\": 284.79}, {\"datetime\": \"2012-10-20 04:00:00\", \"Detroit\": 284.34}, {\"datetime\": \"2012-10-20 05:00:00\", \"Detroit\": 283.35}, {\"datetime\": \"2012-10-20 06:00:00\", \"Detroit\": 283.34}, {\"datetime\": \"2012-10-20 07:00:00\", \"Detroit\": 282.93}, {\"datetime\": \"2012-10-20 08:00:00\", \"Detroit\": 283.12}, {\"datetime\": \"2012-10-20 09:00:00\", \"Detroit\": 283.46}, {\"datetime\": \"2012-10-20 10:00:00\", \"Detroit\": 284.15}, {\"datetime\": \"2012-10-20 11:00:00\", \"Detroit\": 284.59}, {\"datetime\": \"2012-10-20 12:00:00\", \"Detroit\": 284.79}, {\"datetime\": \"2012-10-20 13:00:00\", \"Detroit\": 285.02}, {\"datetime\": \"2012-10-20 14:00:00\", \"Detroit\": 284.87}, {\"datetime\": \"2012-10-20 15:00:00\", \"Detroit\": 285.09}, {\"datetime\": \"2012-10-20 16:00:00\", \"Detroit\": 285.41}, {\"datetime\": \"2012-10-20 17:00:00\", \"Detroit\": 286.73}, {\"datetime\": \"2012-10-20 18:00:00\", \"Detroit\": 286.97}, {\"datetime\": \"2012-10-20 19:00:00\", \"Detroit\": 286.8}, {\"datetime\": \"2012-10-20 20:00:00\", \"Detroit\": 286.2}, {\"datetime\": \"2012-10-20 21:00:00\", \"Detroit\": 284.31}, {\"datetime\": \"2012-10-20 22:00:00\", \"Detroit\": 282.69}, {\"datetime\": \"2012-10-20 23:00:00\", \"Detroit\": 282.05}, {\"datetime\": \"2012-10-21 00:00:00\", \"Detroit\": 281.9}, {\"datetime\": \"2012-10-21 01:00:00\", \"Detroit\": 281.49}, {\"datetime\": \"2012-10-21 02:00:00\", \"Detroit\": 281.12}, {\"datetime\": \"2012-10-21 03:00:00\", \"Detroit\": 281.12}, {\"datetime\": \"2012-10-21 04:00:00\", \"Detroit\": 281.04}, {\"datetime\": \"2012-10-21 05:00:00\", \"Detroit\": 281.04}, {\"datetime\": \"2012-10-21 06:00:00\", \"Detroit\": 281.06}, {\"datetime\": \"2012-10-21 07:00:00\", \"Detroit\": 281.08}, {\"datetime\": \"2012-10-21 08:00:00\", \"Detroit\": 281.1}, {\"datetime\": \"2012-10-21 09:00:00\", \"Detroit\": 281.12}, {\"datetime\": \"2012-10-21 10:00:00\", \"Detroit\": 281.14}, {\"datetime\": \"2012-10-21 11:00:00\", \"Detroit\": 281.16}, {\"datetime\": \"2012-10-21 12:00:00\", \"Detroit\": 281.18}, {\"datetime\": \"2012-10-21 13:00:00\", \"Detroit\": 281.2}, {\"datetime\": \"2012-10-21 14:00:00\", \"Detroit\": 281.665555556}, {\"datetime\": \"2012-10-21 15:00:00\", \"Detroit\": 282.131111111}, {\"datetime\": \"2012-10-21 16:00:00\", \"Detroit\": 282.596666667}, {\"datetime\": \"2012-10-21 17:00:00\", \"Detroit\": 283.062222222}, {\"datetime\": \"2012-10-21 18:00:00\", \"Detroit\": 283.527777778}, {\"datetime\": \"2012-10-21 19:00:00\", \"Detroit\": 283.993333333}, {\"datetime\": \"2012-10-21 20:00:00\", \"Detroit\": 284.458888889}, {\"datetime\": \"2012-10-21 21:00:00\", \"Detroit\": 284.924444444}, {\"datetime\": \"2012-10-21 22:00:00\", \"Detroit\": 285.39}, {\"datetime\": \"2012-10-21 23:00:00\", \"Detroit\": 284.75}, {\"datetime\": \"2012-10-22 00:00:00\", \"Detroit\": 284.1225}, {\"datetime\": \"2012-10-22 01:00:00\", \"Detroit\": 283.495}, {\"datetime\": \"2012-10-22 02:00:00\", \"Detroit\": 282.8675}, {\"datetime\": \"2012-10-22 03:00:00\", \"Detroit\": 282.24}, {\"datetime\": \"2012-10-22 04:00:00\", \"Detroit\": 281.76}, {\"datetime\": \"2012-10-22 05:00:00\", \"Detroit\": 281.26}, {\"datetime\": \"2012-10-22 06:00:00\", \"Detroit\": 280.4}, {\"datetime\": \"2012-10-22 07:00:00\", \"Detroit\": 280.14}, {\"datetime\": \"2012-10-22 08:00:00\", \"Detroit\": 279.6}, {\"datetime\": \"2012-10-22 09:00:00\", \"Detroit\": 279.45}, {\"datetime\": \"2012-10-22 10:00:00\", \"Detroit\": 278.77}, {\"datetime\": \"2012-10-22 11:00:00\", \"Detroit\": 278.36}, {\"datetime\": \"2012-10-22 12:00:00\", \"Detroit\": 279.67}, {\"datetime\": \"2012-10-22 13:00:00\", \"Detroit\": 280.98}, {\"datetime\": \"2012-10-22 14:00:00\", \"Detroit\": 282.29}, {\"datetime\": \"2012-10-22 15:00:00\", \"Detroit\": 283.6}, {\"datetime\": \"2012-10-22 16:00:00\", \"Detroit\": 286.73}, {\"datetime\": \"2012-10-22 17:00:00\", \"Detroit\": 287.68}, {\"datetime\": \"2012-10-22 18:00:00\", \"Detroit\": 288.33}, {\"datetime\": \"2012-10-22 19:00:00\", \"Detroit\": 288.74}, {\"datetime\": \"2012-10-22 20:00:00\", \"Detroit\": 289.35}, {\"datetime\": \"2012-10-22 21:00:00\", \"Detroit\": 289.03}, {\"datetime\": \"2012-10-22 22:00:00\", \"Detroit\": 287.6}, {\"datetime\": \"2012-10-22 23:00:00\", \"Detroit\": 286.27}, {\"datetime\": \"2012-10-23 00:00:00\", \"Detroit\": 285.07}, {\"datetime\": \"2012-10-23 01:00:00\", \"Detroit\": 284.09}, {\"datetime\": \"2012-10-23 02:00:00\", \"Detroit\": 283.23}, {\"datetime\": \"2012-10-23 03:00:00\", \"Detroit\": 281.87}, {\"datetime\": \"2012-10-23 04:00:00\", \"Detroit\": 282.24}, {\"datetime\": \"2012-10-23 05:00:00\", \"Detroit\": 281.04}, {\"datetime\": \"2012-10-23 06:00:00\", \"Detroit\": 280.43}, {\"datetime\": \"2012-10-23 07:00:00\", \"Detroit\": 280.46}, {\"datetime\": \"2012-10-23 08:00:00\", \"Detroit\": 280.19}, {\"datetime\": \"2012-10-23 09:00:00\", \"Detroit\": 279.82}, {\"datetime\": \"2012-10-23 10:00:00\", \"Detroit\": 279.74}, {\"datetime\": \"2012-10-23 11:00:00\", \"Detroit\": 279.77}, {\"datetime\": \"2012-10-23 12:00:00\", \"Detroit\": 280.18}, {\"datetime\": \"2012-10-23 13:00:00\", \"Detroit\": 281.68}, {\"datetime\": \"2012-10-23 14:00:00\", \"Detroit\": 285.15}, {\"datetime\": \"2012-10-23 15:00:00\", \"Detroit\": 287.18}, {\"datetime\": \"2012-10-23 16:00:00\", \"Detroit\": 289.45}, {\"datetime\": \"2012-10-23 17:00:00\", \"Detroit\": 291.75}, {\"datetime\": \"2012-10-23 18:00:00\", \"Detroit\": 292.36}, {\"datetime\": \"2012-10-23 19:00:00\", \"Detroit\": 292.8}, {\"datetime\": \"2012-10-23 20:00:00\", \"Detroit\": 293.31}, {\"datetime\": \"2012-10-23 21:00:00\", \"Detroit\": 292.75}, {\"datetime\": \"2012-10-23 22:00:00\", \"Detroit\": 291.84}, {\"datetime\": \"2012-10-23 23:00:00\", \"Detroit\": 291.04}, {\"datetime\": \"2012-10-24 00:00:00\", \"Detroit\": 290.29}, {\"datetime\": \"2012-10-24 01:00:00\", \"Detroit\": 289.81}, {\"datetime\": \"2012-10-24 02:00:00\", \"Detroit\": 289.09}, {\"datetime\": \"2012-10-24 03:00:00\", \"Detroit\": 288.34}, {\"datetime\": \"2012-10-24 04:00:00\", \"Detroit\": 288.78}, {\"datetime\": \"2012-10-24 05:00:00\", \"Detroit\": 288.19}, {\"datetime\": \"2012-10-24 06:00:00\", \"Detroit\": 288.49}, {\"datetime\": \"2012-10-24 07:00:00\", \"Detroit\": 289.01}, {\"datetime\": \"2012-10-24 08:00:00\", \"Detroit\": 288.68}, {\"datetime\": \"2012-10-24 09:00:00\", \"Detroit\": 288.98}, {\"datetime\": \"2012-10-24 10:00:00\", \"Detroit\": 289.39}, {\"datetime\": \"2012-10-24 11:00:00\", \"Detroit\": 289.39}, {\"datetime\": \"2012-10-24 12:00:00\", \"Detroit\": 289.34}, {\"datetime\": \"2012-10-24 13:00:00\", \"Detroit\": 289.57}, {\"datetime\": \"2012-10-24 14:00:00\", \"Detroit\": 289.84}, {\"datetime\": \"2012-10-24 15:00:00\", \"Detroit\": 290.48}, {\"datetime\": \"2012-10-24 16:00:00\", \"Detroit\": 290.94}, {\"datetime\": \"2012-10-24 17:00:00\", \"Detroit\": 291.47}, {\"datetime\": \"2012-10-24 18:00:00\", \"Detroit\": 291.77}, {\"datetime\": \"2012-10-24 19:00:00\", \"Detroit\": 292.55}, {\"datetime\": \"2012-10-24 20:00:00\", \"Detroit\": 292.96}, {\"datetime\": \"2012-10-24 21:00:00\", \"Detroit\": 292.51}, {\"datetime\": \"2012-10-24 22:00:00\", \"Detroit\": 291.79}, {\"datetime\": \"2012-10-24 23:00:00\", \"Detroit\": 290.75}, {\"datetime\": \"2012-10-25 00:00:00\", \"Detroit\": 290.3}, {\"datetime\": \"2012-10-25 01:00:00\", \"Detroit\": 289.96}, {\"datetime\": \"2012-10-25 02:00:00\", \"Detroit\": 289.04}, {\"datetime\": \"2012-10-25 03:00:00\", \"Detroit\": 288.82}, {\"datetime\": \"2012-10-25 04:00:00\", \"Detroit\": 289.58}, {\"datetime\": \"2012-10-25 05:00:00\", \"Detroit\": 289.76}, {\"datetime\": \"2012-10-25 06:00:00\", \"Detroit\": 289.61}, {\"datetime\": \"2012-10-25 07:00:00\", \"Detroit\": 289.54}, {\"datetime\": \"2012-10-25 08:00:00\", \"Detroit\": 289.65}, {\"datetime\": \"2012-10-25 09:00:00\", \"Detroit\": 289.28}, {\"datetime\": \"2012-10-25 10:00:00\", \"Detroit\": 289.24}, {\"datetime\": \"2012-10-25 11:00:00\", \"Detroit\": 289.26}, {\"datetime\": \"2012-10-25 12:00:00\", \"Detroit\": 288.8}, {\"datetime\": \"2012-10-25 13:00:00\", \"Detroit\": 288.98}, {\"datetime\": \"2012-10-25 14:00:00\", \"Detroit\": 290.72}, {\"datetime\": \"2012-10-25 15:00:00\", \"Detroit\": 292.46}, {\"datetime\": \"2012-10-25 16:00:00\", \"Detroit\": 293.9}, {\"datetime\": \"2012-10-25 17:00:00\", \"Detroit\": 295.36}, {\"datetime\": \"2012-10-25 18:00:00\", \"Detroit\": 296.04}, {\"datetime\": \"2012-10-25 19:00:00\", \"Detroit\": 297.31}, {\"datetime\": \"2012-10-25 20:00:00\", \"Detroit\": 297.35}, {\"datetime\": \"2012-10-25 21:00:00\", \"Detroit\": 296.89}, {\"datetime\": \"2012-10-25 22:00:00\", \"Detroit\": 295.89}, {\"datetime\": \"2012-10-25 23:00:00\", \"Detroit\": 295.21}, {\"datetime\": \"2012-10-26 00:00:00\", \"Detroit\": 292.89}, {\"datetime\": \"2012-10-26 01:00:00\", \"Detroit\": 292.1}, {\"datetime\": \"2012-10-26 02:00:00\", \"Detroit\": 291.3}, {\"datetime\": \"2012-10-26 03:00:00\", \"Detroit\": 290.45}, {\"datetime\": \"2012-10-26 04:00:00\", \"Detroit\": 289.91}, {\"datetime\": \"2012-10-26 05:00:00\", \"Detroit\": 289.27}, {\"datetime\": \"2012-10-26 06:00:00\", \"Detroit\": 288.81}, {\"datetime\": \"2012-10-26 07:00:00\", \"Detroit\": 288.92}, {\"datetime\": \"2012-10-26 08:00:00\", \"Detroit\": 288.5}, {\"datetime\": \"2012-10-26 09:00:00\", \"Detroit\": 287.94}, {\"datetime\": \"2012-10-26 10:00:00\", \"Detroit\": 287.49}, {\"datetime\": \"2012-10-26 11:00:00\", \"Detroit\": 287.09}, {\"datetime\": \"2012-10-26 12:00:00\", \"Detroit\": 287.69}]}}, {\"mode\": \"vega-lite\"});\n",
       "</script>"
      ],
      "text/plain": [
       "alt.Chart(...)"
      ]
     },
     "execution_count": 8,
     "metadata": {},
     "output_type": "execute_result"
    }
   ],
   "source": [
    "c1 = alt.Chart(df).mark_line().encode(\n",
    "    x=\"datetime\",\n",
    "    y=alt.Y(\"Detroit\", scale=alt.Scale(zero=False), title=\"kelvin\")\n",
    ").properties(\n",
    "    width=700,\n",
    "    title=\"Detroit\"\n",
    ")\n",
    "\n",
    "c1"
   ]
  },
  {
   "cell_type": "markdown",
   "metadata": {},
   "source": [
    "These values are strings, not datetime objects."
   ]
  },
  {
   "cell_type": "code",
   "execution_count": 9,
   "metadata": {
    "cell_id": "148b098bdd0b484abe4f7dc36d0ec32a",
    "deepnote_cell_type": "code",
    "deepnote_to_be_reexecuted": false,
    "execution_millis": 18,
    "execution_start": 1670004435734,
    "source_hash": "52430027",
    "tags": []
   },
   "outputs": [
    {
     "data": {
      "text/plain": [
       "datetime     object\n",
       "Detroit     float64\n",
       "dtype: object"
      ]
     },
     "execution_count": 9,
     "metadata": {},
     "output_type": "execute_result"
    }
   ],
   "source": [
    "df.dtypes"
   ]
  },
  {
   "cell_type": "markdown",
   "metadata": {},
   "source": [
    "We convert that column into the datetime data type.  We could replace the old column, but here we include it as a new column.  (That way, if we make a mistake in this cell, we don't need to re-load the data.)"
   ]
  },
  {
   "cell_type": "code",
   "execution_count": 10,
   "metadata": {
    "cell_id": "694064c307ec41be9b26dbb58729c815",
    "deepnote_cell_type": "code",
    "deepnote_to_be_reexecuted": false,
    "execution_millis": 2,
    "execution_start": 1670004516607,
    "source_hash": "230326bd",
    "tags": []
   },
   "outputs": [],
   "source": [
    "df[\"date\"] = pd.to_datetime(df[\"datetime\"])"
   ]
  },
  {
   "cell_type": "code",
   "execution_count": 11,
   "metadata": {
    "cell_id": "1bf432c0ed614e8a9f8c9933304be47b",
    "deepnote_cell_type": "code",
    "deepnote_to_be_reexecuted": false,
    "execution_millis": 4,
    "execution_start": 1670004519667,
    "source_hash": "52430027",
    "tags": []
   },
   "outputs": [
    {
     "data": {
      "text/plain": [
       "datetime            object\n",
       "Detroit            float64\n",
       "date        datetime64[ns]\n",
       "dtype: object"
      ]
     },
     "execution_count": 11,
     "metadata": {},
     "output_type": "execute_result"
    }
   ],
   "source": [
    "df.dtypes"
   ]
  },
  {
   "cell_type": "markdown",
   "metadata": {},
   "source": [
    "Now the image looks much more natural."
   ]
  },
  {
   "cell_type": "code",
   "execution_count": 12,
   "metadata": {
    "cell_id": "24a08ec48cdc4edca2ead91a45d3a31c",
    "deepnote_cell_type": "code",
    "deepnote_to_be_reexecuted": false,
    "execution_millis": 5,
    "execution_start": 1670004543118,
    "source_hash": "7f7b8d41",
    "tags": []
   },
   "outputs": [
    {
     "data": {
      "text/html": [
       "\n",
       "<div id=\"altair-viz-f8b27666aca3478cbc1634202e825ead\"></div>\n",
       "<script type=\"text/javascript\">\n",
       "  var VEGA_DEBUG = (typeof VEGA_DEBUG == \"undefined\") ? {} : VEGA_DEBUG;\n",
       "  (function(spec, embedOpt){\n",
       "    let outputDiv = document.currentScript.previousElementSibling;\n",
       "    if (outputDiv.id !== \"altair-viz-f8b27666aca3478cbc1634202e825ead\") {\n",
       "      outputDiv = document.getElementById(\"altair-viz-f8b27666aca3478cbc1634202e825ead\");\n",
       "    }\n",
       "    const paths = {\n",
       "      \"vega\": \"https://cdn.jsdelivr.net/npm//vega@5?noext\",\n",
       "      \"vega-lib\": \"https://cdn.jsdelivr.net/npm//vega-lib?noext\",\n",
       "      \"vega-lite\": \"https://cdn.jsdelivr.net/npm//vega-lite@4.17.0?noext\",\n",
       "      \"vega-embed\": \"https://cdn.jsdelivr.net/npm//vega-embed@6?noext\",\n",
       "    };\n",
       "\n",
       "    function maybeLoadScript(lib, version) {\n",
       "      var key = `${lib.replace(\"-\", \"\")}_version`;\n",
       "      return (VEGA_DEBUG[key] == version) ?\n",
       "        Promise.resolve(paths[lib]) :\n",
       "        new Promise(function(resolve, reject) {\n",
       "          var s = document.createElement('script');\n",
       "          document.getElementsByTagName(\"head\")[0].appendChild(s);\n",
       "          s.async = true;\n",
       "          s.onload = () => {\n",
       "            VEGA_DEBUG[key] = version;\n",
       "            return resolve(paths[lib]);\n",
       "          };\n",
       "          s.onerror = () => reject(`Error loading script: ${paths[lib]}`);\n",
       "          s.src = paths[lib];\n",
       "        });\n",
       "    }\n",
       "\n",
       "    function showError(err) {\n",
       "      outputDiv.innerHTML = `<div class=\"error\" style=\"color:red;\">${err}</div>`;\n",
       "      throw err;\n",
       "    }\n",
       "\n",
       "    function displayChart(vegaEmbed) {\n",
       "      vegaEmbed(outputDiv, spec, embedOpt)\n",
       "        .catch(err => showError(`Javascript Error: ${err.message}<br>This usually means there's a typo in your chart specification. See the javascript console for the full traceback.`));\n",
       "    }\n",
       "\n",
       "    if(typeof define === \"function\" && define.amd) {\n",
       "      requirejs.config({paths});\n",
       "      require([\"vega-embed\"], displayChart, err => showError(`Error loading script: ${err.message}`));\n",
       "    } else {\n",
       "      maybeLoadScript(\"vega\", \"5\")\n",
       "        .then(() => maybeLoadScript(\"vega-lite\", \"4.17.0\"))\n",
       "        .then(() => maybeLoadScript(\"vega-embed\", \"6\"))\n",
       "        .catch(showError)\n",
       "        .then(() => displayChart(vegaEmbed));\n",
       "    }\n",
       "  })({\"config\": {\"view\": {\"continuousWidth\": 400, \"continuousHeight\": 300}}, \"data\": {\"name\": \"data-d166c9c8c8c11858ada39e1fceca11e3\"}, \"mark\": \"line\", \"encoding\": {\"x\": {\"field\": \"date\", \"type\": \"temporal\"}, \"y\": {\"field\": \"Detroit\", \"scale\": {\"zero\": false}, \"title\": \"kelvin\", \"type\": \"quantitative\"}}, \"title\": \"Detroit\", \"width\": 700, \"$schema\": \"https://vega.github.io/schema/vega-lite/v4.17.0.json\", \"datasets\": {\"data-d166c9c8c8c11858ada39e1fceca11e3\": [{\"datetime\": \"2012-10-18 04:00:00\", \"Detroit\": 284.52, \"date\": \"2012-10-18T04:00:00\"}, {\"datetime\": \"2012-10-18 05:00:00\", \"Detroit\": 284.45, \"date\": \"2012-10-18T05:00:00\"}, {\"datetime\": \"2012-10-18 06:00:00\", \"Detroit\": 285.51, \"date\": \"2012-10-18T06:00:00\"}, {\"datetime\": \"2012-10-18 07:00:00\", \"Detroit\": 284.93, \"date\": \"2012-10-18T07:00:00\"}, {\"datetime\": \"2012-10-18 08:00:00\", \"Detroit\": 285.34, \"date\": \"2012-10-18T08:00:00\"}, {\"datetime\": \"2012-10-18 09:00:00\", \"Detroit\": 285.17, \"date\": \"2012-10-18T09:00:00\"}, {\"datetime\": \"2012-10-18 10:00:00\", \"Detroit\": 285.49, \"date\": \"2012-10-18T10:00:00\"}, {\"datetime\": \"2012-10-18 11:00:00\", \"Detroit\": 285.88, \"date\": \"2012-10-18T11:00:00\"}, {\"datetime\": \"2012-10-18 12:00:00\", \"Detroit\": 285.92, \"date\": \"2012-10-18T12:00:00\"}, {\"datetime\": \"2012-10-18 13:00:00\", \"Detroit\": 286.2, \"date\": \"2012-10-18T13:00:00\"}, {\"datetime\": \"2012-10-18 14:00:00\", \"Detroit\": 287.22, \"date\": \"2012-10-18T14:00:00\"}, {\"datetime\": \"2012-10-18 15:00:00\", \"Detroit\": 289.1, \"date\": \"2012-10-18T15:00:00\"}, {\"datetime\": \"2012-10-18 16:00:00\", \"Detroit\": 291.16, \"date\": \"2012-10-18T16:00:00\"}, {\"datetime\": \"2012-10-18 17:00:00\", \"Detroit\": 292.41, \"date\": \"2012-10-18T17:00:00\"}, {\"datetime\": \"2012-10-18 18:00:00\", \"Detroit\": 293.33, \"date\": \"2012-10-18T18:00:00\"}, {\"datetime\": \"2012-10-18 19:00:00\", \"Detroit\": 294.38, \"date\": \"2012-10-18T19:00:00\"}, {\"datetime\": \"2012-10-18 20:00:00\", \"Detroit\": 294.56, \"date\": \"2012-10-18T20:00:00\"}, {\"datetime\": \"2012-10-18 21:00:00\", \"Detroit\": 294.01, \"date\": \"2012-10-18T21:00:00\"}, {\"datetime\": \"2012-10-18 22:00:00\", \"Detroit\": 293.34, \"date\": \"2012-10-18T22:00:00\"}, {\"datetime\": \"2012-10-18 23:00:00\", \"Detroit\": 292.36, \"date\": \"2012-10-18T23:00:00\"}, {\"datetime\": \"2012-10-19 00:00:00\", \"Detroit\": 292.21, \"date\": \"2012-10-19T00:00:00\"}, {\"datetime\": \"2012-10-19 01:00:00\", \"Detroit\": 291.96, \"date\": \"2012-10-19T01:00:00\"}, {\"datetime\": \"2012-10-19 02:00:00\", \"Detroit\": 290.46, \"date\": \"2012-10-19T02:00:00\"}, {\"datetime\": \"2012-10-19 03:00:00\", \"Detroit\": 288.66, \"date\": \"2012-10-19T03:00:00\"}, {\"datetime\": \"2012-10-19 04:00:00\", \"Detroit\": 287.81, \"date\": \"2012-10-19T04:00:00\"}, {\"datetime\": \"2012-10-19 05:00:00\", \"Detroit\": 287.95, \"date\": \"2012-10-19T05:00:00\"}, {\"datetime\": \"2012-10-19 06:00:00\", \"Detroit\": 288.32, \"date\": \"2012-10-19T06:00:00\"}, {\"datetime\": \"2012-10-19 07:00:00\", \"Detroit\": 287.78, \"date\": \"2012-10-19T07:00:00\"}, {\"datetime\": \"2012-10-19 08:00:00\", \"Detroit\": 288.23, \"date\": \"2012-10-19T08:00:00\"}, {\"datetime\": \"2012-10-19 09:00:00\", \"Detroit\": 287.97, \"date\": \"2012-10-19T09:00:00\"}, {\"datetime\": \"2012-10-19 10:00:00\", \"Detroit\": 288.2, \"date\": \"2012-10-19T10:00:00\"}, {\"datetime\": \"2012-10-19 11:00:00\", \"Detroit\": 288.48, \"date\": \"2012-10-19T11:00:00\"}, {\"datetime\": \"2012-10-19 12:00:00\", \"Detroit\": 289.01, \"date\": \"2012-10-19T12:00:00\"}, {\"datetime\": \"2012-10-19 13:00:00\", \"Detroit\": 288.79, \"date\": \"2012-10-19T13:00:00\"}, {\"datetime\": \"2012-10-19 14:00:00\", \"Detroit\": 286.64, \"date\": \"2012-10-19T14:00:00\"}, {\"datetime\": \"2012-10-19 15:00:00\", \"Detroit\": 285.14, \"date\": \"2012-10-19T15:00:00\"}, {\"datetime\": \"2012-10-19 16:00:00\", \"Detroit\": 285.02, \"date\": \"2012-10-19T16:00:00\"}, {\"datetime\": \"2012-10-19 17:00:00\", \"Detroit\": 285.55, \"date\": \"2012-10-19T17:00:00\"}, {\"datetime\": \"2012-10-19 18:00:00\", \"Detroit\": 286.91, \"date\": \"2012-10-19T18:00:00\"}, {\"datetime\": \"2012-10-19 19:00:00\", \"Detroit\": 288.11, \"date\": \"2012-10-19T19:00:00\"}, {\"datetime\": \"2012-10-19 20:00:00\", \"Detroit\": 288.71, \"date\": \"2012-10-19T20:00:00\"}, {\"datetime\": \"2012-10-19 21:00:00\", \"Detroit\": 288.59, \"date\": \"2012-10-19T21:00:00\"}, {\"datetime\": \"2012-10-19 22:00:00\", \"Detroit\": 287.24, \"date\": \"2012-10-19T22:00:00\"}, {\"datetime\": \"2012-10-19 23:00:00\", \"Detroit\": 286.4, \"date\": \"2012-10-19T23:00:00\"}, {\"datetime\": \"2012-10-20 00:00:00\", \"Detroit\": 285.99, \"date\": \"2012-10-20T00:00:00\"}, {\"datetime\": \"2012-10-20 01:00:00\", \"Detroit\": 285.2, \"date\": \"2012-10-20T01:00:00\"}, {\"datetime\": \"2012-10-20 02:00:00\", \"Detroit\": 284.86, \"date\": \"2012-10-20T02:00:00\"}, {\"datetime\": \"2012-10-20 03:00:00\", \"Detroit\": 284.79, \"date\": \"2012-10-20T03:00:00\"}, {\"datetime\": \"2012-10-20 04:00:00\", \"Detroit\": 284.34, \"date\": \"2012-10-20T04:00:00\"}, {\"datetime\": \"2012-10-20 05:00:00\", \"Detroit\": 283.35, \"date\": \"2012-10-20T05:00:00\"}, {\"datetime\": \"2012-10-20 06:00:00\", \"Detroit\": 283.34, \"date\": \"2012-10-20T06:00:00\"}, {\"datetime\": \"2012-10-20 07:00:00\", \"Detroit\": 282.93, \"date\": \"2012-10-20T07:00:00\"}, {\"datetime\": \"2012-10-20 08:00:00\", \"Detroit\": 283.12, \"date\": \"2012-10-20T08:00:00\"}, {\"datetime\": \"2012-10-20 09:00:00\", \"Detroit\": 283.46, \"date\": \"2012-10-20T09:00:00\"}, {\"datetime\": \"2012-10-20 10:00:00\", \"Detroit\": 284.15, \"date\": \"2012-10-20T10:00:00\"}, {\"datetime\": \"2012-10-20 11:00:00\", \"Detroit\": 284.59, \"date\": \"2012-10-20T11:00:00\"}, {\"datetime\": \"2012-10-20 12:00:00\", \"Detroit\": 284.79, \"date\": \"2012-10-20T12:00:00\"}, {\"datetime\": \"2012-10-20 13:00:00\", \"Detroit\": 285.02, \"date\": \"2012-10-20T13:00:00\"}, {\"datetime\": \"2012-10-20 14:00:00\", \"Detroit\": 284.87, \"date\": \"2012-10-20T14:00:00\"}, {\"datetime\": \"2012-10-20 15:00:00\", \"Detroit\": 285.09, \"date\": \"2012-10-20T15:00:00\"}, {\"datetime\": \"2012-10-20 16:00:00\", \"Detroit\": 285.41, \"date\": \"2012-10-20T16:00:00\"}, {\"datetime\": \"2012-10-20 17:00:00\", \"Detroit\": 286.73, \"date\": \"2012-10-20T17:00:00\"}, {\"datetime\": \"2012-10-20 18:00:00\", \"Detroit\": 286.97, \"date\": \"2012-10-20T18:00:00\"}, {\"datetime\": \"2012-10-20 19:00:00\", \"Detroit\": 286.8, \"date\": \"2012-10-20T19:00:00\"}, {\"datetime\": \"2012-10-20 20:00:00\", \"Detroit\": 286.2, \"date\": \"2012-10-20T20:00:00\"}, {\"datetime\": \"2012-10-20 21:00:00\", \"Detroit\": 284.31, \"date\": \"2012-10-20T21:00:00\"}, {\"datetime\": \"2012-10-20 22:00:00\", \"Detroit\": 282.69, \"date\": \"2012-10-20T22:00:00\"}, {\"datetime\": \"2012-10-20 23:00:00\", \"Detroit\": 282.05, \"date\": \"2012-10-20T23:00:00\"}, {\"datetime\": \"2012-10-21 00:00:00\", \"Detroit\": 281.9, \"date\": \"2012-10-21T00:00:00\"}, {\"datetime\": \"2012-10-21 01:00:00\", \"Detroit\": 281.49, \"date\": \"2012-10-21T01:00:00\"}, {\"datetime\": \"2012-10-21 02:00:00\", \"Detroit\": 281.12, \"date\": \"2012-10-21T02:00:00\"}, {\"datetime\": \"2012-10-21 03:00:00\", \"Detroit\": 281.12, \"date\": \"2012-10-21T03:00:00\"}, {\"datetime\": \"2012-10-21 04:00:00\", \"Detroit\": 281.04, \"date\": \"2012-10-21T04:00:00\"}, {\"datetime\": \"2012-10-21 05:00:00\", \"Detroit\": 281.04, \"date\": \"2012-10-21T05:00:00\"}, {\"datetime\": \"2012-10-21 06:00:00\", \"Detroit\": 281.06, \"date\": \"2012-10-21T06:00:00\"}, {\"datetime\": \"2012-10-21 07:00:00\", \"Detroit\": 281.08, \"date\": \"2012-10-21T07:00:00\"}, {\"datetime\": \"2012-10-21 08:00:00\", \"Detroit\": 281.1, \"date\": \"2012-10-21T08:00:00\"}, {\"datetime\": \"2012-10-21 09:00:00\", \"Detroit\": 281.12, \"date\": \"2012-10-21T09:00:00\"}, {\"datetime\": \"2012-10-21 10:00:00\", \"Detroit\": 281.14, \"date\": \"2012-10-21T10:00:00\"}, {\"datetime\": \"2012-10-21 11:00:00\", \"Detroit\": 281.16, \"date\": \"2012-10-21T11:00:00\"}, {\"datetime\": \"2012-10-21 12:00:00\", \"Detroit\": 281.18, \"date\": \"2012-10-21T12:00:00\"}, {\"datetime\": \"2012-10-21 13:00:00\", \"Detroit\": 281.2, \"date\": \"2012-10-21T13:00:00\"}, {\"datetime\": \"2012-10-21 14:00:00\", \"Detroit\": 281.665555556, \"date\": \"2012-10-21T14:00:00\"}, {\"datetime\": \"2012-10-21 15:00:00\", \"Detroit\": 282.131111111, \"date\": \"2012-10-21T15:00:00\"}, {\"datetime\": \"2012-10-21 16:00:00\", \"Detroit\": 282.596666667, \"date\": \"2012-10-21T16:00:00\"}, {\"datetime\": \"2012-10-21 17:00:00\", \"Detroit\": 283.062222222, \"date\": \"2012-10-21T17:00:00\"}, {\"datetime\": \"2012-10-21 18:00:00\", \"Detroit\": 283.527777778, \"date\": \"2012-10-21T18:00:00\"}, {\"datetime\": \"2012-10-21 19:00:00\", \"Detroit\": 283.993333333, \"date\": \"2012-10-21T19:00:00\"}, {\"datetime\": \"2012-10-21 20:00:00\", \"Detroit\": 284.458888889, \"date\": \"2012-10-21T20:00:00\"}, {\"datetime\": \"2012-10-21 21:00:00\", \"Detroit\": 284.924444444, \"date\": \"2012-10-21T21:00:00\"}, {\"datetime\": \"2012-10-21 22:00:00\", \"Detroit\": 285.39, \"date\": \"2012-10-21T22:00:00\"}, {\"datetime\": \"2012-10-21 23:00:00\", \"Detroit\": 284.75, \"date\": \"2012-10-21T23:00:00\"}, {\"datetime\": \"2012-10-22 00:00:00\", \"Detroit\": 284.1225, \"date\": \"2012-10-22T00:00:00\"}, {\"datetime\": \"2012-10-22 01:00:00\", \"Detroit\": 283.495, \"date\": \"2012-10-22T01:00:00\"}, {\"datetime\": \"2012-10-22 02:00:00\", \"Detroit\": 282.8675, \"date\": \"2012-10-22T02:00:00\"}, {\"datetime\": \"2012-10-22 03:00:00\", \"Detroit\": 282.24, \"date\": \"2012-10-22T03:00:00\"}, {\"datetime\": \"2012-10-22 04:00:00\", \"Detroit\": 281.76, \"date\": \"2012-10-22T04:00:00\"}, {\"datetime\": \"2012-10-22 05:00:00\", \"Detroit\": 281.26, \"date\": \"2012-10-22T05:00:00\"}, {\"datetime\": \"2012-10-22 06:00:00\", \"Detroit\": 280.4, \"date\": \"2012-10-22T06:00:00\"}, {\"datetime\": \"2012-10-22 07:00:00\", \"Detroit\": 280.14, \"date\": \"2012-10-22T07:00:00\"}, {\"datetime\": \"2012-10-22 08:00:00\", \"Detroit\": 279.6, \"date\": \"2012-10-22T08:00:00\"}, {\"datetime\": \"2012-10-22 09:00:00\", \"Detroit\": 279.45, \"date\": \"2012-10-22T09:00:00\"}, {\"datetime\": \"2012-10-22 10:00:00\", \"Detroit\": 278.77, \"date\": \"2012-10-22T10:00:00\"}, {\"datetime\": \"2012-10-22 11:00:00\", \"Detroit\": 278.36, \"date\": \"2012-10-22T11:00:00\"}, {\"datetime\": \"2012-10-22 12:00:00\", \"Detroit\": 279.67, \"date\": \"2012-10-22T12:00:00\"}, {\"datetime\": \"2012-10-22 13:00:00\", \"Detroit\": 280.98, \"date\": \"2012-10-22T13:00:00\"}, {\"datetime\": \"2012-10-22 14:00:00\", \"Detroit\": 282.29, \"date\": \"2012-10-22T14:00:00\"}, {\"datetime\": \"2012-10-22 15:00:00\", \"Detroit\": 283.6, \"date\": \"2012-10-22T15:00:00\"}, {\"datetime\": \"2012-10-22 16:00:00\", \"Detroit\": 286.73, \"date\": \"2012-10-22T16:00:00\"}, {\"datetime\": \"2012-10-22 17:00:00\", \"Detroit\": 287.68, \"date\": \"2012-10-22T17:00:00\"}, {\"datetime\": \"2012-10-22 18:00:00\", \"Detroit\": 288.33, \"date\": \"2012-10-22T18:00:00\"}, {\"datetime\": \"2012-10-22 19:00:00\", \"Detroit\": 288.74, \"date\": \"2012-10-22T19:00:00\"}, {\"datetime\": \"2012-10-22 20:00:00\", \"Detroit\": 289.35, \"date\": \"2012-10-22T20:00:00\"}, {\"datetime\": \"2012-10-22 21:00:00\", \"Detroit\": 289.03, \"date\": \"2012-10-22T21:00:00\"}, {\"datetime\": \"2012-10-22 22:00:00\", \"Detroit\": 287.6, \"date\": \"2012-10-22T22:00:00\"}, {\"datetime\": \"2012-10-22 23:00:00\", \"Detroit\": 286.27, \"date\": \"2012-10-22T23:00:00\"}, {\"datetime\": \"2012-10-23 00:00:00\", \"Detroit\": 285.07, \"date\": \"2012-10-23T00:00:00\"}, {\"datetime\": \"2012-10-23 01:00:00\", \"Detroit\": 284.09, \"date\": \"2012-10-23T01:00:00\"}, {\"datetime\": \"2012-10-23 02:00:00\", \"Detroit\": 283.23, \"date\": \"2012-10-23T02:00:00\"}, {\"datetime\": \"2012-10-23 03:00:00\", \"Detroit\": 281.87, \"date\": \"2012-10-23T03:00:00\"}, {\"datetime\": \"2012-10-23 04:00:00\", \"Detroit\": 282.24, \"date\": \"2012-10-23T04:00:00\"}, {\"datetime\": \"2012-10-23 05:00:00\", \"Detroit\": 281.04, \"date\": \"2012-10-23T05:00:00\"}, {\"datetime\": \"2012-10-23 06:00:00\", \"Detroit\": 280.43, \"date\": \"2012-10-23T06:00:00\"}, {\"datetime\": \"2012-10-23 07:00:00\", \"Detroit\": 280.46, \"date\": \"2012-10-23T07:00:00\"}, {\"datetime\": \"2012-10-23 08:00:00\", \"Detroit\": 280.19, \"date\": \"2012-10-23T08:00:00\"}, {\"datetime\": \"2012-10-23 09:00:00\", \"Detroit\": 279.82, \"date\": \"2012-10-23T09:00:00\"}, {\"datetime\": \"2012-10-23 10:00:00\", \"Detroit\": 279.74, \"date\": \"2012-10-23T10:00:00\"}, {\"datetime\": \"2012-10-23 11:00:00\", \"Detroit\": 279.77, \"date\": \"2012-10-23T11:00:00\"}, {\"datetime\": \"2012-10-23 12:00:00\", \"Detroit\": 280.18, \"date\": \"2012-10-23T12:00:00\"}, {\"datetime\": \"2012-10-23 13:00:00\", \"Detroit\": 281.68, \"date\": \"2012-10-23T13:00:00\"}, {\"datetime\": \"2012-10-23 14:00:00\", \"Detroit\": 285.15, \"date\": \"2012-10-23T14:00:00\"}, {\"datetime\": \"2012-10-23 15:00:00\", \"Detroit\": 287.18, \"date\": \"2012-10-23T15:00:00\"}, {\"datetime\": \"2012-10-23 16:00:00\", \"Detroit\": 289.45, \"date\": \"2012-10-23T16:00:00\"}, {\"datetime\": \"2012-10-23 17:00:00\", \"Detroit\": 291.75, \"date\": \"2012-10-23T17:00:00\"}, {\"datetime\": \"2012-10-23 18:00:00\", \"Detroit\": 292.36, \"date\": \"2012-10-23T18:00:00\"}, {\"datetime\": \"2012-10-23 19:00:00\", \"Detroit\": 292.8, \"date\": \"2012-10-23T19:00:00\"}, {\"datetime\": \"2012-10-23 20:00:00\", \"Detroit\": 293.31, \"date\": \"2012-10-23T20:00:00\"}, {\"datetime\": \"2012-10-23 21:00:00\", \"Detroit\": 292.75, \"date\": \"2012-10-23T21:00:00\"}, {\"datetime\": \"2012-10-23 22:00:00\", \"Detroit\": 291.84, \"date\": \"2012-10-23T22:00:00\"}, {\"datetime\": \"2012-10-23 23:00:00\", \"Detroit\": 291.04, \"date\": \"2012-10-23T23:00:00\"}, {\"datetime\": \"2012-10-24 00:00:00\", \"Detroit\": 290.29, \"date\": \"2012-10-24T00:00:00\"}, {\"datetime\": \"2012-10-24 01:00:00\", \"Detroit\": 289.81, \"date\": \"2012-10-24T01:00:00\"}, {\"datetime\": \"2012-10-24 02:00:00\", \"Detroit\": 289.09, \"date\": \"2012-10-24T02:00:00\"}, {\"datetime\": \"2012-10-24 03:00:00\", \"Detroit\": 288.34, \"date\": \"2012-10-24T03:00:00\"}, {\"datetime\": \"2012-10-24 04:00:00\", \"Detroit\": 288.78, \"date\": \"2012-10-24T04:00:00\"}, {\"datetime\": \"2012-10-24 05:00:00\", \"Detroit\": 288.19, \"date\": \"2012-10-24T05:00:00\"}, {\"datetime\": \"2012-10-24 06:00:00\", \"Detroit\": 288.49, \"date\": \"2012-10-24T06:00:00\"}, {\"datetime\": \"2012-10-24 07:00:00\", \"Detroit\": 289.01, \"date\": \"2012-10-24T07:00:00\"}, {\"datetime\": \"2012-10-24 08:00:00\", \"Detroit\": 288.68, \"date\": \"2012-10-24T08:00:00\"}, {\"datetime\": \"2012-10-24 09:00:00\", \"Detroit\": 288.98, \"date\": \"2012-10-24T09:00:00\"}, {\"datetime\": \"2012-10-24 10:00:00\", \"Detroit\": 289.39, \"date\": \"2012-10-24T10:00:00\"}, {\"datetime\": \"2012-10-24 11:00:00\", \"Detroit\": 289.39, \"date\": \"2012-10-24T11:00:00\"}, {\"datetime\": \"2012-10-24 12:00:00\", \"Detroit\": 289.34, \"date\": \"2012-10-24T12:00:00\"}, {\"datetime\": \"2012-10-24 13:00:00\", \"Detroit\": 289.57, \"date\": \"2012-10-24T13:00:00\"}, {\"datetime\": \"2012-10-24 14:00:00\", \"Detroit\": 289.84, \"date\": \"2012-10-24T14:00:00\"}, {\"datetime\": \"2012-10-24 15:00:00\", \"Detroit\": 290.48, \"date\": \"2012-10-24T15:00:00\"}, {\"datetime\": \"2012-10-24 16:00:00\", \"Detroit\": 290.94, \"date\": \"2012-10-24T16:00:00\"}, {\"datetime\": \"2012-10-24 17:00:00\", \"Detroit\": 291.47, \"date\": \"2012-10-24T17:00:00\"}, {\"datetime\": \"2012-10-24 18:00:00\", \"Detroit\": 291.77, \"date\": \"2012-10-24T18:00:00\"}, {\"datetime\": \"2012-10-24 19:00:00\", \"Detroit\": 292.55, \"date\": \"2012-10-24T19:00:00\"}, {\"datetime\": \"2012-10-24 20:00:00\", \"Detroit\": 292.96, \"date\": \"2012-10-24T20:00:00\"}, {\"datetime\": \"2012-10-24 21:00:00\", \"Detroit\": 292.51, \"date\": \"2012-10-24T21:00:00\"}, {\"datetime\": \"2012-10-24 22:00:00\", \"Detroit\": 291.79, \"date\": \"2012-10-24T22:00:00\"}, {\"datetime\": \"2012-10-24 23:00:00\", \"Detroit\": 290.75, \"date\": \"2012-10-24T23:00:00\"}, {\"datetime\": \"2012-10-25 00:00:00\", \"Detroit\": 290.3, \"date\": \"2012-10-25T00:00:00\"}, {\"datetime\": \"2012-10-25 01:00:00\", \"Detroit\": 289.96, \"date\": \"2012-10-25T01:00:00\"}, {\"datetime\": \"2012-10-25 02:00:00\", \"Detroit\": 289.04, \"date\": \"2012-10-25T02:00:00\"}, {\"datetime\": \"2012-10-25 03:00:00\", \"Detroit\": 288.82, \"date\": \"2012-10-25T03:00:00\"}, {\"datetime\": \"2012-10-25 04:00:00\", \"Detroit\": 289.58, \"date\": \"2012-10-25T04:00:00\"}, {\"datetime\": \"2012-10-25 05:00:00\", \"Detroit\": 289.76, \"date\": \"2012-10-25T05:00:00\"}, {\"datetime\": \"2012-10-25 06:00:00\", \"Detroit\": 289.61, \"date\": \"2012-10-25T06:00:00\"}, {\"datetime\": \"2012-10-25 07:00:00\", \"Detroit\": 289.54, \"date\": \"2012-10-25T07:00:00\"}, {\"datetime\": \"2012-10-25 08:00:00\", \"Detroit\": 289.65, \"date\": \"2012-10-25T08:00:00\"}, {\"datetime\": \"2012-10-25 09:00:00\", \"Detroit\": 289.28, \"date\": \"2012-10-25T09:00:00\"}, {\"datetime\": \"2012-10-25 10:00:00\", \"Detroit\": 289.24, \"date\": \"2012-10-25T10:00:00\"}, {\"datetime\": \"2012-10-25 11:00:00\", \"Detroit\": 289.26, \"date\": \"2012-10-25T11:00:00\"}, {\"datetime\": \"2012-10-25 12:00:00\", \"Detroit\": 288.8, \"date\": \"2012-10-25T12:00:00\"}, {\"datetime\": \"2012-10-25 13:00:00\", \"Detroit\": 288.98, \"date\": \"2012-10-25T13:00:00\"}, {\"datetime\": \"2012-10-25 14:00:00\", \"Detroit\": 290.72, \"date\": \"2012-10-25T14:00:00\"}, {\"datetime\": \"2012-10-25 15:00:00\", \"Detroit\": 292.46, \"date\": \"2012-10-25T15:00:00\"}, {\"datetime\": \"2012-10-25 16:00:00\", \"Detroit\": 293.9, \"date\": \"2012-10-25T16:00:00\"}, {\"datetime\": \"2012-10-25 17:00:00\", \"Detroit\": 295.36, \"date\": \"2012-10-25T17:00:00\"}, {\"datetime\": \"2012-10-25 18:00:00\", \"Detroit\": 296.04, \"date\": \"2012-10-25T18:00:00\"}, {\"datetime\": \"2012-10-25 19:00:00\", \"Detroit\": 297.31, \"date\": \"2012-10-25T19:00:00\"}, {\"datetime\": \"2012-10-25 20:00:00\", \"Detroit\": 297.35, \"date\": \"2012-10-25T20:00:00\"}, {\"datetime\": \"2012-10-25 21:00:00\", \"Detroit\": 296.89, \"date\": \"2012-10-25T21:00:00\"}, {\"datetime\": \"2012-10-25 22:00:00\", \"Detroit\": 295.89, \"date\": \"2012-10-25T22:00:00\"}, {\"datetime\": \"2012-10-25 23:00:00\", \"Detroit\": 295.21, \"date\": \"2012-10-25T23:00:00\"}, {\"datetime\": \"2012-10-26 00:00:00\", \"Detroit\": 292.89, \"date\": \"2012-10-26T00:00:00\"}, {\"datetime\": \"2012-10-26 01:00:00\", \"Detroit\": 292.1, \"date\": \"2012-10-26T01:00:00\"}, {\"datetime\": \"2012-10-26 02:00:00\", \"Detroit\": 291.3, \"date\": \"2012-10-26T02:00:00\"}, {\"datetime\": \"2012-10-26 03:00:00\", \"Detroit\": 290.45, \"date\": \"2012-10-26T03:00:00\"}, {\"datetime\": \"2012-10-26 04:00:00\", \"Detroit\": 289.91, \"date\": \"2012-10-26T04:00:00\"}, {\"datetime\": \"2012-10-26 05:00:00\", \"Detroit\": 289.27, \"date\": \"2012-10-26T05:00:00\"}, {\"datetime\": \"2012-10-26 06:00:00\", \"Detroit\": 288.81, \"date\": \"2012-10-26T06:00:00\"}, {\"datetime\": \"2012-10-26 07:00:00\", \"Detroit\": 288.92, \"date\": \"2012-10-26T07:00:00\"}, {\"datetime\": \"2012-10-26 08:00:00\", \"Detroit\": 288.5, \"date\": \"2012-10-26T08:00:00\"}, {\"datetime\": \"2012-10-26 09:00:00\", \"Detroit\": 287.94, \"date\": \"2012-10-26T09:00:00\"}, {\"datetime\": \"2012-10-26 10:00:00\", \"Detroit\": 287.49, \"date\": \"2012-10-26T10:00:00\"}, {\"datetime\": \"2012-10-26 11:00:00\", \"Detroit\": 287.09, \"date\": \"2012-10-26T11:00:00\"}, {\"datetime\": \"2012-10-26 12:00:00\", \"Detroit\": 287.69, \"date\": \"2012-10-26T12:00:00\"}]}}, {\"mode\": \"vega-lite\"});\n",
       "</script>"
      ],
      "text/plain": [
       "alt.Chart(...)"
      ]
     },
     "execution_count": 12,
     "metadata": {},
     "output_type": "execute_result"
    }
   ],
   "source": [
    "c1 = alt.Chart(df).mark_line().encode(\n",
    "    x=\"date\",\n",
    "    y=alt.Y(\"Detroit\", scale=alt.Scale(zero=False), title=\"kelvin\")\n",
    ").properties(\n",
    "    width=700,\n",
    "    title=\"Detroit\"\n",
    ")\n",
    "\n",
    "c1"
   ]
  },
  {
   "cell_type": "markdown",
   "metadata": {},
   "source": [
    "It would be incorrect to use a classifier in this context, because predicting temperature is a regression problem."
   ]
  },
  {
   "cell_type": "code",
   "execution_count": 13,
   "metadata": {
    "cell_id": "49a09d1a37fc41fdb67510ff421831d4",
    "deepnote_cell_type": "code",
    "deepnote_to_be_reexecuted": false,
    "execution_millis": 1,
    "execution_start": 1670004606820,
    "source_hash": "1f640c24",
    "tags": []
   },
   "outputs": [],
   "source": [
    "from sklearn.tree import DecisionTreeClassifier"
   ]
  },
  {
   "cell_type": "markdown",
   "metadata": {},
   "source": [
    "Here is the correct import."
   ]
  },
  {
   "cell_type": "code",
   "execution_count": 14,
   "metadata": {
    "cell_id": "2a4448dfef37415f8dee2460296a43ce",
    "deepnote_cell_type": "code",
    "deepnote_to_be_reexecuted": false,
    "execution_millis": 0,
    "execution_start": 1670004647216,
    "source_hash": "ea8ff8d2",
    "tags": []
   },
   "outputs": [],
   "source": [
    "from sklearn.tree import DecisionTreeRegressor"
   ]
  },
  {
   "cell_type": "markdown",
   "metadata": {},
   "source": [
    "We'll specify 15 leaf nodes when we instantiate the regressor object."
   ]
  },
  {
   "cell_type": "code",
   "execution_count": 15,
   "metadata": {
    "cell_id": "49492b5f820241ed8e68b8e6b20efc45",
    "deepnote_cell_type": "code",
    "deepnote_to_be_reexecuted": false,
    "execution_millis": 2,
    "execution_start": 1670004677410,
    "source_hash": "78ec7b8d",
    "tags": []
   },
   "outputs": [],
   "source": [
    "reg = DecisionTreeRegressor(max_leaf_nodes=15)"
   ]
  },
  {
   "cell_type": "markdown",
   "metadata": {},
   "source": [
    "Here is our usual error.  Remember that the first input needs to be two-dimensional."
   ]
  },
  {
   "cell_type": "code",
   "execution_count": 16,
   "metadata": {
    "cell_id": "54d23e4c3a9345c28f7988cc3eb38a14",
    "deepnote_cell_type": "code",
    "deepnote_to_be_reexecuted": false,
    "execution_millis": 700,
    "execution_start": 1670004731054,
    "source_hash": "f9292e5d",
    "tags": [
     "output_scroll"
    ]
   },
   "outputs": [
    {
     "ename": "ValueError",
     "evalue": "Expected 2D array, got 1D array instead:\narray=[1.3505327e+18 1.3505365e+18 1.3505400e+18 1.3505436e+18 1.3505472e+18\n 1.3505507e+18 1.3505545e+18 1.3505580e+18 1.3505616e+18 1.3505652e+18\n 1.3505688e+18 1.3505725e+18 1.3505760e+18 1.3505796e+18 1.3505832e+18\n 1.3505868e+18 1.3505905e+18 1.3505940e+18 1.3505976e+18 1.3506012e+18\n 1.3506048e+18 1.3506083e+18 1.3506120e+18 1.3506156e+18 1.3506192e+18\n 1.3506228e+18 1.3506263e+18 1.3506301e+18 1.3506336e+18 1.3506372e+18\n 1.3506408e+18 1.3506443e+18 1.3506481e+18 1.3506516e+18 1.3506552e+18\n 1.3506588e+18 1.3506623e+18 1.3506661e+18 1.3506696e+18 1.3506732e+18\n 1.3506768e+18 1.3506804e+18 1.3506841e+18 1.3506876e+18 1.3506912e+18\n 1.3506948e+18 1.3506984e+18 1.3507021e+18 1.3507056e+18 1.3507092e+18\n 1.3507128e+18 1.3507164e+18 1.3507199e+18 1.3507236e+18 1.3507272e+18\n 1.3507308e+18 1.3507344e+18 1.3507379e+18 1.3507417e+18 1.3507452e+18\n 1.3507488e+18 1.3507524e+18 1.3507559e+18 1.3507597e+18 1.3507632e+18\n 1.3507668e+18 1.3507704e+18 1.3507739e+18 1.3507777e+18 1.3507812e+18\n 1.3507848e+18 1.3507884e+18 1.3507920e+18 1.3507957e+18 1.3507992e+18\n 1.3508028e+18 1.3508064e+18 1.3508100e+18 1.3508135e+18 1.3508172e+18\n 1.3508208e+18 1.3508244e+18 1.3508280e+18 1.3508315e+18 1.3508352e+18\n 1.3508388e+18 1.3508424e+18 1.3508460e+18 1.3508495e+18 1.3508533e+18\n 1.3508568e+18 1.3508604e+18 1.3508640e+18 1.3508675e+18 1.3508713e+18\n 1.3508748e+18 1.3508784e+18 1.3508820e+18 1.3508855e+18 1.3508893e+18\n 1.3508928e+18 1.3508964e+18 1.3509000e+18 1.3509036e+18 1.3509073e+18\n 1.3509108e+18 1.3509144e+18 1.3509180e+18 1.3509216e+18 1.3509251e+18\n 1.3509288e+18 1.3509324e+18 1.3509360e+18 1.3509396e+18 1.3509431e+18\n 1.3509468e+18 1.3509504e+18 1.3509540e+18 1.3509576e+18 1.3509611e+18\n 1.3509649e+18 1.3509684e+18 1.3509720e+18 1.3509756e+18 1.3509791e+18\n 1.3509829e+18 1.3509864e+18 1.3509900e+18 1.3509936e+18 1.3509971e+18\n 1.3510009e+18 1.3510044e+18 1.3510080e+18 1.3510116e+18 1.3510152e+18\n 1.3510189e+18 1.3510224e+18 1.3510260e+18 1.3510296e+18 1.3510332e+18\n 1.3510367e+18 1.3510404e+18 1.3510440e+18 1.3510476e+18 1.3510512e+18\n 1.3510547e+18 1.3510584e+18 1.3510620e+18 1.3510656e+18 1.3510692e+18\n 1.3510727e+18 1.3510765e+18 1.3510800e+18 1.3510836e+18 1.3510872e+18\n 1.3510907e+18 1.3510945e+18 1.3510980e+18 1.3511016e+18 1.3511052e+18\n 1.3511088e+18 1.3511125e+18 1.3511160e+18 1.3511196e+18 1.3511232e+18\n 1.3511268e+18 1.3511305e+18 1.3511340e+18 1.3511376e+18 1.3511412e+18\n 1.3511448e+18 1.3511483e+18 1.3511520e+18 1.3511556e+18 1.3511592e+18\n 1.3511628e+18 1.3511663e+18 1.3511700e+18 1.3511736e+18 1.3511772e+18\n 1.3511808e+18 1.3511843e+18 1.3511881e+18 1.3511916e+18 1.3511952e+18\n 1.3511988e+18 1.3512023e+18 1.3512061e+18 1.3512096e+18 1.3512132e+18\n 1.3512168e+18 1.3512204e+18 1.3512241e+18 1.3512276e+18 1.3512312e+18\n 1.3512348e+18 1.3512384e+18 1.3512421e+18 1.3512456e+18 1.3512492e+18\n 1.3512528e+18].\nReshape your data either using array.reshape(-1, 1) if your data has a single feature or array.reshape(1, -1) if it contains a single sample.",
     "output_type": "error",
     "traceback": [
      "\u001b[0;31m---------------------------------------------------------------------------\u001b[0m",
      "\u001b[0;31mValueError\u001b[0m                                Traceback (most recent call last)",
      "\u001b[0;32m/tmp/ipykernel_84/3032300603.py\u001b[0m in \u001b[0;36m<module>\u001b[0;34m\u001b[0m\n\u001b[0;32m----> 1\u001b[0;31m \u001b[0mreg\u001b[0m\u001b[0;34m.\u001b[0m\u001b[0mfit\u001b[0m\u001b[0;34m(\u001b[0m\u001b[0mdf\u001b[0m\u001b[0;34m[\u001b[0m\u001b[0;34m\"date\"\u001b[0m\u001b[0;34m]\u001b[0m\u001b[0;34m,\u001b[0m \u001b[0mdf\u001b[0m\u001b[0;34m[\u001b[0m\u001b[0;34m\"Detroit\"\u001b[0m\u001b[0;34m]\u001b[0m\u001b[0;34m)\u001b[0m\u001b[0;34m\u001b[0m\u001b[0;34m\u001b[0m\u001b[0m\n\u001b[0m",
      "\u001b[0;32m/shared-libs/python3.7/py/lib/python3.7/site-packages/sklearn/tree/_classes.py\u001b[0m in \u001b[0;36mfit\u001b[0;34m(self, X, y, sample_weight, check_input, X_idx_sorted)\u001b[0m\n\u001b[1;32m   1318\u001b[0m             \u001b[0msample_weight\u001b[0m\u001b[0;34m=\u001b[0m\u001b[0msample_weight\u001b[0m\u001b[0;34m,\u001b[0m\u001b[0;34m\u001b[0m\u001b[0;34m\u001b[0m\u001b[0m\n\u001b[1;32m   1319\u001b[0m             \u001b[0mcheck_input\u001b[0m\u001b[0;34m=\u001b[0m\u001b[0mcheck_input\u001b[0m\u001b[0;34m,\u001b[0m\u001b[0;34m\u001b[0m\u001b[0;34m\u001b[0m\u001b[0m\n\u001b[0;32m-> 1320\u001b[0;31m             \u001b[0mX_idx_sorted\u001b[0m\u001b[0;34m=\u001b[0m\u001b[0mX_idx_sorted\u001b[0m\u001b[0;34m,\u001b[0m\u001b[0;34m\u001b[0m\u001b[0;34m\u001b[0m\u001b[0m\n\u001b[0m\u001b[1;32m   1321\u001b[0m         )\n\u001b[1;32m   1322\u001b[0m         \u001b[0;32mreturn\u001b[0m \u001b[0mself\u001b[0m\u001b[0;34m\u001b[0m\u001b[0;34m\u001b[0m\u001b[0m\n",
      "\u001b[0;32m/shared-libs/python3.7/py/lib/python3.7/site-packages/sklearn/tree/_classes.py\u001b[0m in \u001b[0;36mfit\u001b[0;34m(self, X, y, sample_weight, check_input, X_idx_sorted)\u001b[0m\n\u001b[1;32m    164\u001b[0m             \u001b[0mcheck_y_params\u001b[0m \u001b[0;34m=\u001b[0m \u001b[0mdict\u001b[0m\u001b[0;34m(\u001b[0m\u001b[0mensure_2d\u001b[0m\u001b[0;34m=\u001b[0m\u001b[0;32mFalse\u001b[0m\u001b[0;34m,\u001b[0m \u001b[0mdtype\u001b[0m\u001b[0;34m=\u001b[0m\u001b[0;32mNone\u001b[0m\u001b[0;34m)\u001b[0m\u001b[0;34m\u001b[0m\u001b[0;34m\u001b[0m\u001b[0m\n\u001b[1;32m    165\u001b[0m             X, y = self._validate_data(\n\u001b[0;32m--> 166\u001b[0;31m                 \u001b[0mX\u001b[0m\u001b[0;34m,\u001b[0m \u001b[0my\u001b[0m\u001b[0;34m,\u001b[0m \u001b[0mvalidate_separately\u001b[0m\u001b[0;34m=\u001b[0m\u001b[0;34m(\u001b[0m\u001b[0mcheck_X_params\u001b[0m\u001b[0;34m,\u001b[0m \u001b[0mcheck_y_params\u001b[0m\u001b[0;34m)\u001b[0m\u001b[0;34m\u001b[0m\u001b[0;34m\u001b[0m\u001b[0m\n\u001b[0m\u001b[1;32m    167\u001b[0m             )\n\u001b[1;32m    168\u001b[0m             \u001b[0;32mif\u001b[0m \u001b[0missparse\u001b[0m\u001b[0;34m(\u001b[0m\u001b[0mX\u001b[0m\u001b[0;34m)\u001b[0m\u001b[0;34m:\u001b[0m\u001b[0;34m\u001b[0m\u001b[0;34m\u001b[0m\u001b[0m\n",
      "\u001b[0;32m/shared-libs/python3.7/py/lib/python3.7/site-packages/sklearn/base.py\u001b[0m in \u001b[0;36m_validate_data\u001b[0;34m(self, X, y, reset, validate_separately, **check_params)\u001b[0m\n\u001b[1;32m    576\u001b[0m                 \u001b[0;31m# :(\u001b[0m\u001b[0;34m\u001b[0m\u001b[0;34m\u001b[0m\u001b[0;34m\u001b[0m\u001b[0m\n\u001b[1;32m    577\u001b[0m                 \u001b[0mcheck_X_params\u001b[0m\u001b[0;34m,\u001b[0m \u001b[0mcheck_y_params\u001b[0m \u001b[0;34m=\u001b[0m \u001b[0mvalidate_separately\u001b[0m\u001b[0;34m\u001b[0m\u001b[0;34m\u001b[0m\u001b[0m\n\u001b[0;32m--> 578\u001b[0;31m                 \u001b[0mX\u001b[0m \u001b[0;34m=\u001b[0m \u001b[0mcheck_array\u001b[0m\u001b[0;34m(\u001b[0m\u001b[0mX\u001b[0m\u001b[0;34m,\u001b[0m \u001b[0;34m**\u001b[0m\u001b[0mcheck_X_params\u001b[0m\u001b[0;34m)\u001b[0m\u001b[0;34m\u001b[0m\u001b[0;34m\u001b[0m\u001b[0m\n\u001b[0m\u001b[1;32m    579\u001b[0m                 \u001b[0my\u001b[0m \u001b[0;34m=\u001b[0m \u001b[0mcheck_array\u001b[0m\u001b[0;34m(\u001b[0m\u001b[0my\u001b[0m\u001b[0;34m,\u001b[0m \u001b[0;34m**\u001b[0m\u001b[0mcheck_y_params\u001b[0m\u001b[0;34m)\u001b[0m\u001b[0;34m\u001b[0m\u001b[0;34m\u001b[0m\u001b[0m\n\u001b[1;32m    580\u001b[0m             \u001b[0;32melse\u001b[0m\u001b[0;34m:\u001b[0m\u001b[0;34m\u001b[0m\u001b[0;34m\u001b[0m\u001b[0m\n",
      "\u001b[0;32m/shared-libs/python3.7/py/lib/python3.7/site-packages/sklearn/utils/validation.py\u001b[0m in \u001b[0;36mcheck_array\u001b[0;34m(array, accept_sparse, accept_large_sparse, dtype, order, copy, force_all_finite, ensure_2d, allow_nd, ensure_min_samples, ensure_min_features, estimator)\u001b[0m\n\u001b[1;32m    771\u001b[0m                     \u001b[0;34m\"Reshape your data either using array.reshape(-1, 1) if \"\u001b[0m\u001b[0;34m\u001b[0m\u001b[0;34m\u001b[0m\u001b[0m\n\u001b[1;32m    772\u001b[0m                     \u001b[0;34m\"your data has a single feature or array.reshape(1, -1) \"\u001b[0m\u001b[0;34m\u001b[0m\u001b[0;34m\u001b[0m\u001b[0m\n\u001b[0;32m--> 773\u001b[0;31m                     \u001b[0;34m\"if it contains a single sample.\"\u001b[0m\u001b[0;34m.\u001b[0m\u001b[0mformat\u001b[0m\u001b[0;34m(\u001b[0m\u001b[0marray\u001b[0m\u001b[0;34m)\u001b[0m\u001b[0;34m\u001b[0m\u001b[0;34m\u001b[0m\u001b[0m\n\u001b[0m\u001b[1;32m    774\u001b[0m                 )\n\u001b[1;32m    775\u001b[0m \u001b[0;34m\u001b[0m\u001b[0m\n",
      "\u001b[0;31mValueError\u001b[0m: Expected 2D array, got 1D array instead:\narray=[1.3505327e+18 1.3505365e+18 1.3505400e+18 1.3505436e+18 1.3505472e+18\n 1.3505507e+18 1.3505545e+18 1.3505580e+18 1.3505616e+18 1.3505652e+18\n 1.3505688e+18 1.3505725e+18 1.3505760e+18 1.3505796e+18 1.3505832e+18\n 1.3505868e+18 1.3505905e+18 1.3505940e+18 1.3505976e+18 1.3506012e+18\n 1.3506048e+18 1.3506083e+18 1.3506120e+18 1.3506156e+18 1.3506192e+18\n 1.3506228e+18 1.3506263e+18 1.3506301e+18 1.3506336e+18 1.3506372e+18\n 1.3506408e+18 1.3506443e+18 1.3506481e+18 1.3506516e+18 1.3506552e+18\n 1.3506588e+18 1.3506623e+18 1.3506661e+18 1.3506696e+18 1.3506732e+18\n 1.3506768e+18 1.3506804e+18 1.3506841e+18 1.3506876e+18 1.3506912e+18\n 1.3506948e+18 1.3506984e+18 1.3507021e+18 1.3507056e+18 1.3507092e+18\n 1.3507128e+18 1.3507164e+18 1.3507199e+18 1.3507236e+18 1.3507272e+18\n 1.3507308e+18 1.3507344e+18 1.3507379e+18 1.3507417e+18 1.3507452e+18\n 1.3507488e+18 1.3507524e+18 1.3507559e+18 1.3507597e+18 1.3507632e+18\n 1.3507668e+18 1.3507704e+18 1.3507739e+18 1.3507777e+18 1.3507812e+18\n 1.3507848e+18 1.3507884e+18 1.3507920e+18 1.3507957e+18 1.3507992e+18\n 1.3508028e+18 1.3508064e+18 1.3508100e+18 1.3508135e+18 1.3508172e+18\n 1.3508208e+18 1.3508244e+18 1.3508280e+18 1.3508315e+18 1.3508352e+18\n 1.3508388e+18 1.3508424e+18 1.3508460e+18 1.3508495e+18 1.3508533e+18\n 1.3508568e+18 1.3508604e+18 1.3508640e+18 1.3508675e+18 1.3508713e+18\n 1.3508748e+18 1.3508784e+18 1.3508820e+18 1.3508855e+18 1.3508893e+18\n 1.3508928e+18 1.3508964e+18 1.3509000e+18 1.3509036e+18 1.3509073e+18\n 1.3509108e+18 1.3509144e+18 1.3509180e+18 1.3509216e+18 1.3509251e+18\n 1.3509288e+18 1.3509324e+18 1.3509360e+18 1.3509396e+18 1.3509431e+18\n 1.3509468e+18 1.3509504e+18 1.3509540e+18 1.3509576e+18 1.3509611e+18\n 1.3509649e+18 1.3509684e+18 1.3509720e+18 1.3509756e+18 1.3509791e+18\n 1.3509829e+18 1.3509864e+18 1.3509900e+18 1.3509936e+18 1.3509971e+18\n 1.3510009e+18 1.3510044e+18 1.3510080e+18 1.3510116e+18 1.3510152e+18\n 1.3510189e+18 1.3510224e+18 1.3510260e+18 1.3510296e+18 1.3510332e+18\n 1.3510367e+18 1.3510404e+18 1.3510440e+18 1.3510476e+18 1.3510512e+18\n 1.3510547e+18 1.3510584e+18 1.3510620e+18 1.3510656e+18 1.3510692e+18\n 1.3510727e+18 1.3510765e+18 1.3510800e+18 1.3510836e+18 1.3510872e+18\n 1.3510907e+18 1.3510945e+18 1.3510980e+18 1.3511016e+18 1.3511052e+18\n 1.3511088e+18 1.3511125e+18 1.3511160e+18 1.3511196e+18 1.3511232e+18\n 1.3511268e+18 1.3511305e+18 1.3511340e+18 1.3511376e+18 1.3511412e+18\n 1.3511448e+18 1.3511483e+18 1.3511520e+18 1.3511556e+18 1.3511592e+18\n 1.3511628e+18 1.3511663e+18 1.3511700e+18 1.3511736e+18 1.3511772e+18\n 1.3511808e+18 1.3511843e+18 1.3511881e+18 1.3511916e+18 1.3511952e+18\n 1.3511988e+18 1.3512023e+18 1.3512061e+18 1.3512096e+18 1.3512132e+18\n 1.3512168e+18 1.3512204e+18 1.3512241e+18 1.3512276e+18 1.3512312e+18\n 1.3512348e+18 1.3512384e+18 1.3512421e+18 1.3512456e+18 1.3512492e+18\n 1.3512528e+18].\nReshape your data either using array.reshape(-1, 1) if your data has a single feature or array.reshape(1, -1) if it contains a single sample."
     ]
    }
   ],
   "source": [
    "reg.fit(df[\"date\"], df[\"Detroit\"])"
   ]
  },
  {
   "cell_type": "code",
   "execution_count": 17,
   "metadata": {
    "cell_id": "6f43414e128f487ea2e400578ef3eb2d",
    "deepnote_cell_type": "code",
    "deepnote_to_be_reexecuted": false,
    "execution_millis": 2,
    "execution_start": 1670004759048,
    "source_hash": "7016c55d",
    "tags": []
   },
   "outputs": [
    {
     "data": {
      "text/plain": [
       "DecisionTreeRegressor(max_leaf_nodes=15)"
      ]
     },
     "execution_count": 17,
     "metadata": {},
     "output_type": "execute_result"
    }
   ],
   "source": [
    "reg.fit(df[[\"date\"]], df[\"Detroit\"])"
   ]
  },
  {
   "cell_type": "markdown",
   "metadata": {},
   "source": [
    "We add the predictions as a new column.  I expect this would raise a warning if we hadn't used `copy()` above."
   ]
  },
  {
   "cell_type": "code",
   "execution_count": 18,
   "metadata": {
    "cell_id": "ac4c6e5a2e3344139d12e5c89ebd35d1",
    "deepnote_cell_type": "code",
    "deepnote_to_be_reexecuted": false,
    "execution_millis": 1,
    "execution_start": 1670004784240,
    "source_hash": "82ead068",
    "tags": []
   },
   "outputs": [],
   "source": [
    "df[\"pred_tree\"] = reg.predict(df[[\"date\"]])"
   ]
  },
  {
   "cell_type": "markdown",
   "metadata": {},
   "source": [
    "Here are the predictions.  If you count, there should be 15 horizontal line segments, corresponding to the 15 leaf nodes.  (Remember that each leaf node corresponds to a region, and all inputs in a region have the same output.)"
   ]
  },
  {
   "cell_type": "code",
   "execution_count": 19,
   "metadata": {
    "cell_id": "87361bc6b81140ed9ec3998158c44e46",
    "deepnote_cell_type": "code",
    "deepnote_to_be_reexecuted": false,
    "execution_millis": 6,
    "execution_start": 1670004917285,
    "source_hash": "56895ed6",
    "tags": []
   },
   "outputs": [
    {
     "data": {
      "text/html": [
       "\n",
       "<div id=\"altair-viz-fd0547df1b8c487883e869d2151f0c69\"></div>\n",
       "<script type=\"text/javascript\">\n",
       "  var VEGA_DEBUG = (typeof VEGA_DEBUG == \"undefined\") ? {} : VEGA_DEBUG;\n",
       "  (function(spec, embedOpt){\n",
       "    let outputDiv = document.currentScript.previousElementSibling;\n",
       "    if (outputDiv.id !== \"altair-viz-fd0547df1b8c487883e869d2151f0c69\") {\n",
       "      outputDiv = document.getElementById(\"altair-viz-fd0547df1b8c487883e869d2151f0c69\");\n",
       "    }\n",
       "    const paths = {\n",
       "      \"vega\": \"https://cdn.jsdelivr.net/npm//vega@5?noext\",\n",
       "      \"vega-lib\": \"https://cdn.jsdelivr.net/npm//vega-lib?noext\",\n",
       "      \"vega-lite\": \"https://cdn.jsdelivr.net/npm//vega-lite@4.17.0?noext\",\n",
       "      \"vega-embed\": \"https://cdn.jsdelivr.net/npm//vega-embed@6?noext\",\n",
       "    };\n",
       "\n",
       "    function maybeLoadScript(lib, version) {\n",
       "      var key = `${lib.replace(\"-\", \"\")}_version`;\n",
       "      return (VEGA_DEBUG[key] == version) ?\n",
       "        Promise.resolve(paths[lib]) :\n",
       "        new Promise(function(resolve, reject) {\n",
       "          var s = document.createElement('script');\n",
       "          document.getElementsByTagName(\"head\")[0].appendChild(s);\n",
       "          s.async = true;\n",
       "          s.onload = () => {\n",
       "            VEGA_DEBUG[key] = version;\n",
       "            return resolve(paths[lib]);\n",
       "          };\n",
       "          s.onerror = () => reject(`Error loading script: ${paths[lib]}`);\n",
       "          s.src = paths[lib];\n",
       "        });\n",
       "    }\n",
       "\n",
       "    function showError(err) {\n",
       "      outputDiv.innerHTML = `<div class=\"error\" style=\"color:red;\">${err}</div>`;\n",
       "      throw err;\n",
       "    }\n",
       "\n",
       "    function displayChart(vegaEmbed) {\n",
       "      vegaEmbed(outputDiv, spec, embedOpt)\n",
       "        .catch(err => showError(`Javascript Error: ${err.message}<br>This usually means there's a typo in your chart specification. See the javascript console for the full traceback.`));\n",
       "    }\n",
       "\n",
       "    if(typeof define === \"function\" && define.amd) {\n",
       "      requirejs.config({paths});\n",
       "      require([\"vega-embed\"], displayChart, err => showError(`Error loading script: ${err.message}`));\n",
       "    } else {\n",
       "      maybeLoadScript(\"vega\", \"5\")\n",
       "        .then(() => maybeLoadScript(\"vega-lite\", \"4.17.0\"))\n",
       "        .then(() => maybeLoadScript(\"vega-embed\", \"6\"))\n",
       "        .catch(showError)\n",
       "        .then(() => displayChart(vegaEmbed));\n",
       "    }\n",
       "  })({\"config\": {\"view\": {\"continuousWidth\": 400, \"continuousHeight\": 300}}, \"layer\": [{\"mark\": \"line\", \"encoding\": {\"x\": {\"field\": \"date\", \"type\": \"temporal\"}, \"y\": {\"field\": \"Detroit\", \"scale\": {\"zero\": false}, \"title\": \"kelvin\", \"type\": \"quantitative\"}}, \"title\": \"Detroit\", \"width\": 700}, {\"mark\": {\"type\": \"line\", \"color\": \"orange\"}, \"encoding\": {\"x\": {\"field\": \"date\", \"type\": \"temporal\"}, \"y\": {\"field\": \"pred_tree\", \"scale\": {\"zero\": false}, \"title\": \"kelvin\", \"type\": \"quantitative\"}}}], \"data\": {\"name\": \"data-f33160022023332e8232ee3de6fb552a\"}, \"$schema\": \"https://vega.github.io/schema/vega-lite/v4.17.0.json\", \"datasets\": {\"data-f33160022023332e8232ee3de6fb552a\": [{\"datetime\": \"2012-10-18 04:00:00\", \"Detroit\": 284.52, \"date\": \"2012-10-18T04:00:00\", \"pred_tree\": 285.51181818181817}, {\"datetime\": \"2012-10-18 05:00:00\", \"Detroit\": 284.45, \"date\": \"2012-10-18T05:00:00\", \"pred_tree\": 285.51181818181817}, {\"datetime\": \"2012-10-18 06:00:00\", \"Detroit\": 285.51, \"date\": \"2012-10-18T06:00:00\", \"pred_tree\": 285.51181818181817}, {\"datetime\": \"2012-10-18 07:00:00\", \"Detroit\": 284.93, \"date\": \"2012-10-18T07:00:00\", \"pred_tree\": 285.51181818181817}, {\"datetime\": \"2012-10-18 08:00:00\", \"Detroit\": 285.34, \"date\": \"2012-10-18T08:00:00\", \"pred_tree\": 285.51181818181817}, {\"datetime\": \"2012-10-18 09:00:00\", \"Detroit\": 285.17, \"date\": \"2012-10-18T09:00:00\", \"pred_tree\": 285.51181818181817}, {\"datetime\": \"2012-10-18 10:00:00\", \"Detroit\": 285.49, \"date\": \"2012-10-18T10:00:00\", \"pred_tree\": 285.51181818181817}, {\"datetime\": \"2012-10-18 11:00:00\", \"Detroit\": 285.88, \"date\": \"2012-10-18T11:00:00\", \"pred_tree\": 285.51181818181817}, {\"datetime\": \"2012-10-18 12:00:00\", \"Detroit\": 285.92, \"date\": \"2012-10-18T12:00:00\", \"pred_tree\": 285.51181818181817}, {\"datetime\": \"2012-10-18 13:00:00\", \"Detroit\": 286.2, \"date\": \"2012-10-18T13:00:00\", \"pred_tree\": 285.51181818181817}, {\"datetime\": \"2012-10-18 14:00:00\", \"Detroit\": 287.22, \"date\": \"2012-10-18T14:00:00\", \"pred_tree\": 285.51181818181817}, {\"datetime\": \"2012-10-18 15:00:00\", \"Detroit\": 289.1, \"date\": \"2012-10-18T15:00:00\", \"pred_tree\": 292.44}, {\"datetime\": \"2012-10-18 16:00:00\", \"Detroit\": 291.16, \"date\": \"2012-10-18T16:00:00\", \"pred_tree\": 292.44}, {\"datetime\": \"2012-10-18 17:00:00\", \"Detroit\": 292.41, \"date\": \"2012-10-18T17:00:00\", \"pred_tree\": 292.44}, {\"datetime\": \"2012-10-18 18:00:00\", \"Detroit\": 293.33, \"date\": \"2012-10-18T18:00:00\", \"pred_tree\": 292.44}, {\"datetime\": \"2012-10-18 19:00:00\", \"Detroit\": 294.38, \"date\": \"2012-10-18T19:00:00\", \"pred_tree\": 292.44}, {\"datetime\": \"2012-10-18 20:00:00\", \"Detroit\": 294.56, \"date\": \"2012-10-18T20:00:00\", \"pred_tree\": 292.44}, {\"datetime\": \"2012-10-18 21:00:00\", \"Detroit\": 294.01, \"date\": \"2012-10-18T21:00:00\", \"pred_tree\": 292.44}, {\"datetime\": \"2012-10-18 22:00:00\", \"Detroit\": 293.34, \"date\": \"2012-10-18T22:00:00\", \"pred_tree\": 292.44}, {\"datetime\": \"2012-10-18 23:00:00\", \"Detroit\": 292.36, \"date\": \"2012-10-18T23:00:00\", \"pred_tree\": 292.44}, {\"datetime\": \"2012-10-19 00:00:00\", \"Detroit\": 292.21, \"date\": \"2012-10-19T00:00:00\", \"pred_tree\": 292.44}, {\"datetime\": \"2012-10-19 01:00:00\", \"Detroit\": 291.96, \"date\": \"2012-10-19T01:00:00\", \"pred_tree\": 292.44}, {\"datetime\": \"2012-10-19 02:00:00\", \"Detroit\": 290.46, \"date\": \"2012-10-19T02:00:00\", \"pred_tree\": 292.44}, {\"datetime\": \"2012-10-19 03:00:00\", \"Detroit\": 288.66, \"date\": \"2012-10-19T03:00:00\", \"pred_tree\": 287.52272727272725}, {\"datetime\": \"2012-10-19 04:00:00\", \"Detroit\": 287.81, \"date\": \"2012-10-19T04:00:00\", \"pred_tree\": 287.52272727272725}, {\"datetime\": \"2012-10-19 05:00:00\", \"Detroit\": 287.95, \"date\": \"2012-10-19T05:00:00\", \"pred_tree\": 287.52272727272725}, {\"datetime\": \"2012-10-19 06:00:00\", \"Detroit\": 288.32, \"date\": \"2012-10-19T06:00:00\", \"pred_tree\": 287.52272727272725}, {\"datetime\": \"2012-10-19 07:00:00\", \"Detroit\": 287.78, \"date\": \"2012-10-19T07:00:00\", \"pred_tree\": 287.52272727272725}, {\"datetime\": \"2012-10-19 08:00:00\", \"Detroit\": 288.23, \"date\": \"2012-10-19T08:00:00\", \"pred_tree\": 287.52272727272725}, {\"datetime\": \"2012-10-19 09:00:00\", \"Detroit\": 287.97, \"date\": \"2012-10-19T09:00:00\", \"pred_tree\": 287.52272727272725}, {\"datetime\": \"2012-10-19 10:00:00\", \"Detroit\": 288.2, \"date\": \"2012-10-19T10:00:00\", \"pred_tree\": 287.52272727272725}, {\"datetime\": \"2012-10-19 11:00:00\", \"Detroit\": 288.48, \"date\": \"2012-10-19T11:00:00\", \"pred_tree\": 287.52272727272725}, {\"datetime\": \"2012-10-19 12:00:00\", \"Detroit\": 289.01, \"date\": \"2012-10-19T12:00:00\", \"pred_tree\": 287.52272727272725}, {\"datetime\": \"2012-10-19 13:00:00\", \"Detroit\": 288.79, \"date\": \"2012-10-19T13:00:00\", \"pred_tree\": 287.52272727272725}, {\"datetime\": \"2012-10-19 14:00:00\", \"Detroit\": 286.64, \"date\": \"2012-10-19T14:00:00\", \"pred_tree\": 287.52272727272725}, {\"datetime\": \"2012-10-19 15:00:00\", \"Detroit\": 285.14, \"date\": \"2012-10-19T15:00:00\", \"pred_tree\": 287.52272727272725}, {\"datetime\": \"2012-10-19 16:00:00\", \"Detroit\": 285.02, \"date\": \"2012-10-19T16:00:00\", \"pred_tree\": 287.52272727272725}, {\"datetime\": \"2012-10-19 17:00:00\", \"Detroit\": 285.55, \"date\": \"2012-10-19T17:00:00\", \"pred_tree\": 287.52272727272725}, {\"datetime\": \"2012-10-19 18:00:00\", \"Detroit\": 286.91, \"date\": \"2012-10-19T18:00:00\", \"pred_tree\": 287.52272727272725}, {\"datetime\": \"2012-10-19 19:00:00\", \"Detroit\": 288.11, \"date\": \"2012-10-19T19:00:00\", \"pred_tree\": 287.52272727272725}, {\"datetime\": \"2012-10-19 20:00:00\", \"Detroit\": 288.71, \"date\": \"2012-10-19T20:00:00\", \"pred_tree\": 287.52272727272725}, {\"datetime\": \"2012-10-19 21:00:00\", \"Detroit\": 288.59, \"date\": \"2012-10-19T21:00:00\", \"pred_tree\": 287.52272727272725}, {\"datetime\": \"2012-10-19 22:00:00\", \"Detroit\": 287.24, \"date\": \"2012-10-19T22:00:00\", \"pred_tree\": 287.52272727272725}, {\"datetime\": \"2012-10-19 23:00:00\", \"Detroit\": 286.4, \"date\": \"2012-10-19T23:00:00\", \"pred_tree\": 287.52272727272725}, {\"datetime\": \"2012-10-20 00:00:00\", \"Detroit\": 285.99, \"date\": \"2012-10-20T00:00:00\", \"pred_tree\": 287.52272727272725}, {\"datetime\": \"2012-10-20 01:00:00\", \"Detroit\": 285.2, \"date\": \"2012-10-20T01:00:00\", \"pred_tree\": 284.77714285714285}, {\"datetime\": \"2012-10-20 02:00:00\", \"Detroit\": 284.86, \"date\": \"2012-10-20T02:00:00\", \"pred_tree\": 284.77714285714285}, {\"datetime\": \"2012-10-20 03:00:00\", \"Detroit\": 284.79, \"date\": \"2012-10-20T03:00:00\", \"pred_tree\": 284.77714285714285}, {\"datetime\": \"2012-10-20 04:00:00\", \"Detroit\": 284.34, \"date\": \"2012-10-20T04:00:00\", \"pred_tree\": 284.77714285714285}, {\"datetime\": \"2012-10-20 05:00:00\", \"Detroit\": 283.35, \"date\": \"2012-10-20T05:00:00\", \"pred_tree\": 284.77714285714285}, {\"datetime\": \"2012-10-20 06:00:00\", \"Detroit\": 283.34, \"date\": \"2012-10-20T06:00:00\", \"pred_tree\": 284.77714285714285}, {\"datetime\": \"2012-10-20 07:00:00\", \"Detroit\": 282.93, \"date\": \"2012-10-20T07:00:00\", \"pred_tree\": 284.77714285714285}, {\"datetime\": \"2012-10-20 08:00:00\", \"Detroit\": 283.12, \"date\": \"2012-10-20T08:00:00\", \"pred_tree\": 284.77714285714285}, {\"datetime\": \"2012-10-20 09:00:00\", \"Detroit\": 283.46, \"date\": \"2012-10-20T09:00:00\", \"pred_tree\": 284.77714285714285}, {\"datetime\": \"2012-10-20 10:00:00\", \"Detroit\": 284.15, \"date\": \"2012-10-20T10:00:00\", \"pred_tree\": 284.77714285714285}, {\"datetime\": \"2012-10-20 11:00:00\", \"Detroit\": 284.59, \"date\": \"2012-10-20T11:00:00\", \"pred_tree\": 284.77714285714285}, {\"datetime\": \"2012-10-20 12:00:00\", \"Detroit\": 284.79, \"date\": \"2012-10-20T12:00:00\", \"pred_tree\": 284.77714285714285}, {\"datetime\": \"2012-10-20 13:00:00\", \"Detroit\": 285.02, \"date\": \"2012-10-20T13:00:00\", \"pred_tree\": 284.77714285714285}, {\"datetime\": \"2012-10-20 14:00:00\", \"Detroit\": 284.87, \"date\": \"2012-10-20T14:00:00\", \"pred_tree\": 284.77714285714285}, {\"datetime\": \"2012-10-20 15:00:00\", \"Detroit\": 285.09, \"date\": \"2012-10-20T15:00:00\", \"pred_tree\": 284.77714285714285}, {\"datetime\": \"2012-10-20 16:00:00\", \"Detroit\": 285.41, \"date\": \"2012-10-20T16:00:00\", \"pred_tree\": 284.77714285714285}, {\"datetime\": \"2012-10-20 17:00:00\", \"Detroit\": 286.73, \"date\": \"2012-10-20T17:00:00\", \"pred_tree\": 284.77714285714285}, {\"datetime\": \"2012-10-20 18:00:00\", \"Detroit\": 286.97, \"date\": \"2012-10-20T18:00:00\", \"pred_tree\": 284.77714285714285}, {\"datetime\": \"2012-10-20 19:00:00\", \"Detroit\": 286.8, \"date\": \"2012-10-20T19:00:00\", \"pred_tree\": 284.77714285714285}, {\"datetime\": \"2012-10-20 20:00:00\", \"Detroit\": 286.2, \"date\": \"2012-10-20T20:00:00\", \"pred_tree\": 284.77714285714285}, {\"datetime\": \"2012-10-20 21:00:00\", \"Detroit\": 284.31, \"date\": \"2012-10-20T21:00:00\", \"pred_tree\": 284.77714285714285}, {\"datetime\": \"2012-10-20 22:00:00\", \"Detroit\": 282.69, \"date\": \"2012-10-20T22:00:00\", \"pred_tree\": 281.4048148148333}, {\"datetime\": \"2012-10-20 23:00:00\", \"Detroit\": 282.05, \"date\": \"2012-10-20T23:00:00\", \"pred_tree\": 281.4048148148333}, {\"datetime\": \"2012-10-21 00:00:00\", \"Detroit\": 281.9, \"date\": \"2012-10-21T00:00:00\", \"pred_tree\": 281.4048148148333}, {\"datetime\": \"2012-10-21 01:00:00\", \"Detroit\": 281.49, \"date\": \"2012-10-21T01:00:00\", \"pred_tree\": 281.4048148148333}, {\"datetime\": \"2012-10-21 02:00:00\", \"Detroit\": 281.12, \"date\": \"2012-10-21T02:00:00\", \"pred_tree\": 281.4048148148333}, {\"datetime\": \"2012-10-21 03:00:00\", \"Detroit\": 281.12, \"date\": \"2012-10-21T03:00:00\", \"pred_tree\": 281.4048148148333}, {\"datetime\": \"2012-10-21 04:00:00\", \"Detroit\": 281.04, \"date\": \"2012-10-21T04:00:00\", \"pred_tree\": 281.4048148148333}, {\"datetime\": \"2012-10-21 05:00:00\", \"Detroit\": 281.04, \"date\": \"2012-10-21T05:00:00\", \"pred_tree\": 281.4048148148333}, {\"datetime\": \"2012-10-21 06:00:00\", \"Detroit\": 281.06, \"date\": \"2012-10-21T06:00:00\", \"pred_tree\": 281.4048148148333}, {\"datetime\": \"2012-10-21 07:00:00\", \"Detroit\": 281.08, \"date\": \"2012-10-21T07:00:00\", \"pred_tree\": 281.4048148148333}, {\"datetime\": \"2012-10-21 08:00:00\", \"Detroit\": 281.1, \"date\": \"2012-10-21T08:00:00\", \"pred_tree\": 281.4048148148333}, {\"datetime\": \"2012-10-21 09:00:00\", \"Detroit\": 281.12, \"date\": \"2012-10-21T09:00:00\", \"pred_tree\": 281.4048148148333}, {\"datetime\": \"2012-10-21 10:00:00\", \"Detroit\": 281.14, \"date\": \"2012-10-21T10:00:00\", \"pred_tree\": 281.4048148148333}, {\"datetime\": \"2012-10-21 11:00:00\", \"Detroit\": 281.16, \"date\": \"2012-10-21T11:00:00\", \"pred_tree\": 281.4048148148333}, {\"datetime\": \"2012-10-21 12:00:00\", \"Detroit\": 281.18, \"date\": \"2012-10-21T12:00:00\", \"pred_tree\": 281.4048148148333}, {\"datetime\": \"2012-10-21 13:00:00\", \"Detroit\": 281.2, \"date\": \"2012-10-21T13:00:00\", \"pred_tree\": 281.4048148148333}, {\"datetime\": \"2012-10-21 14:00:00\", \"Detroit\": 281.665555556, \"date\": \"2012-10-21T14:00:00\", \"pred_tree\": 281.4048148148333}, {\"datetime\": \"2012-10-21 15:00:00\", \"Detroit\": 282.131111111, \"date\": \"2012-10-21T15:00:00\", \"pred_tree\": 281.4048148148333}, {\"datetime\": \"2012-10-21 16:00:00\", \"Detroit\": 282.596666667, \"date\": \"2012-10-21T16:00:00\", \"pred_tree\": 283.46059523807145}, {\"datetime\": \"2012-10-21 17:00:00\", \"Detroit\": 283.062222222, \"date\": \"2012-10-21T17:00:00\", \"pred_tree\": 283.46059523807145}, {\"datetime\": \"2012-10-21 18:00:00\", \"Detroit\": 283.527777778, \"date\": \"2012-10-21T18:00:00\", \"pred_tree\": 283.46059523807145}, {\"datetime\": \"2012-10-21 19:00:00\", \"Detroit\": 283.993333333, \"date\": \"2012-10-21T19:00:00\", \"pred_tree\": 283.46059523807145}, {\"datetime\": \"2012-10-21 20:00:00\", \"Detroit\": 284.458888889, \"date\": \"2012-10-21T20:00:00\", \"pred_tree\": 283.46059523807145}, {\"datetime\": \"2012-10-21 21:00:00\", \"Detroit\": 284.924444444, \"date\": \"2012-10-21T21:00:00\", \"pred_tree\": 283.46059523807145}, {\"datetime\": \"2012-10-21 22:00:00\", \"Detroit\": 285.39, \"date\": \"2012-10-21T22:00:00\", \"pred_tree\": 283.46059523807145}, {\"datetime\": \"2012-10-21 23:00:00\", \"Detroit\": 284.75, \"date\": \"2012-10-21T23:00:00\", \"pred_tree\": 283.46059523807145}, {\"datetime\": \"2012-10-22 00:00:00\", \"Detroit\": 284.1225, \"date\": \"2012-10-22T00:00:00\", \"pred_tree\": 283.46059523807145}, {\"datetime\": \"2012-10-22 01:00:00\", \"Detroit\": 283.495, \"date\": \"2012-10-22T01:00:00\", \"pred_tree\": 283.46059523807145}, {\"datetime\": \"2012-10-22 02:00:00\", \"Detroit\": 282.8675, \"date\": \"2012-10-22T02:00:00\", \"pred_tree\": 283.46059523807145}, {\"datetime\": \"2012-10-22 03:00:00\", \"Detroit\": 282.24, \"date\": \"2012-10-22T03:00:00\", \"pred_tree\": 283.46059523807145}, {\"datetime\": \"2012-10-22 04:00:00\", \"Detroit\": 281.76, \"date\": \"2012-10-22T04:00:00\", \"pred_tree\": 283.46059523807145}, {\"datetime\": \"2012-10-22 05:00:00\", \"Detroit\": 281.26, \"date\": \"2012-10-22T05:00:00\", \"pred_tree\": 283.46059523807145}, {\"datetime\": \"2012-10-22 06:00:00\", \"Detroit\": 280.4, \"date\": \"2012-10-22T06:00:00\", \"pred_tree\": 279.96222222222224}, {\"datetime\": \"2012-10-22 07:00:00\", \"Detroit\": 280.14, \"date\": \"2012-10-22T07:00:00\", \"pred_tree\": 279.96222222222224}, {\"datetime\": \"2012-10-22 08:00:00\", \"Detroit\": 279.6, \"date\": \"2012-10-22T08:00:00\", \"pred_tree\": 279.96222222222224}, {\"datetime\": \"2012-10-22 09:00:00\", \"Detroit\": 279.45, \"date\": \"2012-10-22T09:00:00\", \"pred_tree\": 279.96222222222224}, {\"datetime\": \"2012-10-22 10:00:00\", \"Detroit\": 278.77, \"date\": \"2012-10-22T10:00:00\", \"pred_tree\": 279.96222222222224}, {\"datetime\": \"2012-10-22 11:00:00\", \"Detroit\": 278.36, \"date\": \"2012-10-22T11:00:00\", \"pred_tree\": 279.96222222222224}, {\"datetime\": \"2012-10-22 12:00:00\", \"Detroit\": 279.67, \"date\": \"2012-10-22T12:00:00\", \"pred_tree\": 279.96222222222224}, {\"datetime\": \"2012-10-22 13:00:00\", \"Detroit\": 280.98, \"date\": \"2012-10-22T13:00:00\", \"pred_tree\": 279.96222222222224}, {\"datetime\": \"2012-10-22 14:00:00\", \"Detroit\": 282.29, \"date\": \"2012-10-22T14:00:00\", \"pred_tree\": 279.96222222222224}, {\"datetime\": \"2012-10-22 15:00:00\", \"Detroit\": 283.6, \"date\": \"2012-10-22T15:00:00\", \"pred_tree\": 287.24}, {\"datetime\": \"2012-10-22 16:00:00\", \"Detroit\": 286.73, \"date\": \"2012-10-22T16:00:00\", \"pred_tree\": 287.24}, {\"datetime\": \"2012-10-22 17:00:00\", \"Detroit\": 287.68, \"date\": \"2012-10-22T17:00:00\", \"pred_tree\": 287.24}, {\"datetime\": \"2012-10-22 18:00:00\", \"Detroit\": 288.33, \"date\": \"2012-10-22T18:00:00\", \"pred_tree\": 287.24}, {\"datetime\": \"2012-10-22 19:00:00\", \"Detroit\": 288.74, \"date\": \"2012-10-22T19:00:00\", \"pred_tree\": 287.24}, {\"datetime\": \"2012-10-22 20:00:00\", \"Detroit\": 289.35, \"date\": \"2012-10-22T20:00:00\", \"pred_tree\": 287.24}, {\"datetime\": \"2012-10-22 21:00:00\", \"Detroit\": 289.03, \"date\": \"2012-10-22T21:00:00\", \"pred_tree\": 287.24}, {\"datetime\": \"2012-10-22 22:00:00\", \"Detroit\": 287.6, \"date\": \"2012-10-22T22:00:00\", \"pred_tree\": 287.24}, {\"datetime\": \"2012-10-22 23:00:00\", \"Detroit\": 286.27, \"date\": \"2012-10-22T23:00:00\", \"pred_tree\": 287.24}, {\"datetime\": \"2012-10-23 00:00:00\", \"Detroit\": 285.07, \"date\": \"2012-10-23T00:00:00\", \"pred_tree\": 287.24}, {\"datetime\": \"2012-10-23 01:00:00\", \"Detroit\": 284.09, \"date\": \"2012-10-23T01:00:00\", \"pred_tree\": 281.1338461538461}, {\"datetime\": \"2012-10-23 02:00:00\", \"Detroit\": 283.23, \"date\": \"2012-10-23T02:00:00\", \"pred_tree\": 281.1338461538461}, {\"datetime\": \"2012-10-23 03:00:00\", \"Detroit\": 281.87, \"date\": \"2012-10-23T03:00:00\", \"pred_tree\": 281.1338461538461}, {\"datetime\": \"2012-10-23 04:00:00\", \"Detroit\": 282.24, \"date\": \"2012-10-23T04:00:00\", \"pred_tree\": 281.1338461538461}, {\"datetime\": \"2012-10-23 05:00:00\", \"Detroit\": 281.04, \"date\": \"2012-10-23T05:00:00\", \"pred_tree\": 281.1338461538461}, {\"datetime\": \"2012-10-23 06:00:00\", \"Detroit\": 280.43, \"date\": \"2012-10-23T06:00:00\", \"pred_tree\": 281.1338461538461}, {\"datetime\": \"2012-10-23 07:00:00\", \"Detroit\": 280.46, \"date\": \"2012-10-23T07:00:00\", \"pred_tree\": 281.1338461538461}, {\"datetime\": \"2012-10-23 08:00:00\", \"Detroit\": 280.19, \"date\": \"2012-10-23T08:00:00\", \"pred_tree\": 281.1338461538461}, {\"datetime\": \"2012-10-23 09:00:00\", \"Detroit\": 279.82, \"date\": \"2012-10-23T09:00:00\", \"pred_tree\": 281.1338461538461}, {\"datetime\": \"2012-10-23 10:00:00\", \"Detroit\": 279.74, \"date\": \"2012-10-23T10:00:00\", \"pred_tree\": 281.1338461538461}, {\"datetime\": \"2012-10-23 11:00:00\", \"Detroit\": 279.77, \"date\": \"2012-10-23T11:00:00\", \"pred_tree\": 281.1338461538461}, {\"datetime\": \"2012-10-23 12:00:00\", \"Detroit\": 280.18, \"date\": \"2012-10-23T12:00:00\", \"pred_tree\": 281.1338461538461}, {\"datetime\": \"2012-10-23 13:00:00\", \"Detroit\": 281.68, \"date\": \"2012-10-23T13:00:00\", \"pred_tree\": 281.1338461538461}, {\"datetime\": \"2012-10-23 14:00:00\", \"Detroit\": 285.15, \"date\": \"2012-10-23T14:00:00\", \"pred_tree\": 286.16499999999996}, {\"datetime\": \"2012-10-23 15:00:00\", \"Detroit\": 287.18, \"date\": \"2012-10-23T15:00:00\", \"pred_tree\": 286.16499999999996}, {\"datetime\": \"2012-10-23 16:00:00\", \"Detroit\": 289.45, \"date\": \"2012-10-23T16:00:00\", \"pred_tree\": 291.9125}, {\"datetime\": \"2012-10-23 17:00:00\", \"Detroit\": 291.75, \"date\": \"2012-10-23T17:00:00\", \"pred_tree\": 291.9125}, {\"datetime\": \"2012-10-23 18:00:00\", \"Detroit\": 292.36, \"date\": \"2012-10-23T18:00:00\", \"pred_tree\": 291.9125}, {\"datetime\": \"2012-10-23 19:00:00\", \"Detroit\": 292.8, \"date\": \"2012-10-23T19:00:00\", \"pred_tree\": 291.9125}, {\"datetime\": \"2012-10-23 20:00:00\", \"Detroit\": 293.31, \"date\": \"2012-10-23T20:00:00\", \"pred_tree\": 291.9125}, {\"datetime\": \"2012-10-23 21:00:00\", \"Detroit\": 292.75, \"date\": \"2012-10-23T21:00:00\", \"pred_tree\": 291.9125}, {\"datetime\": \"2012-10-23 22:00:00\", \"Detroit\": 291.84, \"date\": \"2012-10-23T22:00:00\", \"pred_tree\": 291.9125}, {\"datetime\": \"2012-10-23 23:00:00\", \"Detroit\": 291.04, \"date\": \"2012-10-23T23:00:00\", \"pred_tree\": 291.9125}, {\"datetime\": \"2012-10-24 00:00:00\", \"Detroit\": 290.29, \"date\": \"2012-10-24T00:00:00\", \"pred_tree\": 289.87051282051283}, {\"datetime\": \"2012-10-24 01:00:00\", \"Detroit\": 289.81, \"date\": \"2012-10-24T01:00:00\", \"pred_tree\": 289.87051282051283}, {\"datetime\": \"2012-10-24 02:00:00\", \"Detroit\": 289.09, \"date\": \"2012-10-24T02:00:00\", \"pred_tree\": 289.87051282051283}, {\"datetime\": \"2012-10-24 03:00:00\", \"Detroit\": 288.34, \"date\": \"2012-10-24T03:00:00\", \"pred_tree\": 289.87051282051283}, {\"datetime\": \"2012-10-24 04:00:00\", \"Detroit\": 288.78, \"date\": \"2012-10-24T04:00:00\", \"pred_tree\": 289.87051282051283}, {\"datetime\": \"2012-10-24 05:00:00\", \"Detroit\": 288.19, \"date\": \"2012-10-24T05:00:00\", \"pred_tree\": 289.87051282051283}, {\"datetime\": \"2012-10-24 06:00:00\", \"Detroit\": 288.49, \"date\": \"2012-10-24T06:00:00\", \"pred_tree\": 289.87051282051283}, {\"datetime\": \"2012-10-24 07:00:00\", \"Detroit\": 289.01, \"date\": \"2012-10-24T07:00:00\", \"pred_tree\": 289.87051282051283}, {\"datetime\": \"2012-10-24 08:00:00\", \"Detroit\": 288.68, \"date\": \"2012-10-24T08:00:00\", \"pred_tree\": 289.87051282051283}, {\"datetime\": \"2012-10-24 09:00:00\", \"Detroit\": 288.98, \"date\": \"2012-10-24T09:00:00\", \"pred_tree\": 289.87051282051283}, {\"datetime\": \"2012-10-24 10:00:00\", \"Detroit\": 289.39, \"date\": \"2012-10-24T10:00:00\", \"pred_tree\": 289.87051282051283}, {\"datetime\": \"2012-10-24 11:00:00\", \"Detroit\": 289.39, \"date\": \"2012-10-24T11:00:00\", \"pred_tree\": 289.87051282051283}, {\"datetime\": \"2012-10-24 12:00:00\", \"Detroit\": 289.34, \"date\": \"2012-10-24T12:00:00\", \"pred_tree\": 289.87051282051283}, {\"datetime\": \"2012-10-24 13:00:00\", \"Detroit\": 289.57, \"date\": \"2012-10-24T13:00:00\", \"pred_tree\": 289.87051282051283}, {\"datetime\": \"2012-10-24 14:00:00\", \"Detroit\": 289.84, \"date\": \"2012-10-24T14:00:00\", \"pred_tree\": 289.87051282051283}, {\"datetime\": \"2012-10-24 15:00:00\", \"Detroit\": 290.48, \"date\": \"2012-10-24T15:00:00\", \"pred_tree\": 289.87051282051283}, {\"datetime\": \"2012-10-24 16:00:00\", \"Detroit\": 290.94, \"date\": \"2012-10-24T16:00:00\", \"pred_tree\": 289.87051282051283}, {\"datetime\": \"2012-10-24 17:00:00\", \"Detroit\": 291.47, \"date\": \"2012-10-24T17:00:00\", \"pred_tree\": 289.87051282051283}, {\"datetime\": \"2012-10-24 18:00:00\", \"Detroit\": 291.77, \"date\": \"2012-10-24T18:00:00\", \"pred_tree\": 289.87051282051283}, {\"datetime\": \"2012-10-24 19:00:00\", \"Detroit\": 292.55, \"date\": \"2012-10-24T19:00:00\", \"pred_tree\": 289.87051282051283}, {\"datetime\": \"2012-10-24 20:00:00\", \"Detroit\": 292.96, \"date\": \"2012-10-24T20:00:00\", \"pred_tree\": 289.87051282051283}, {\"datetime\": \"2012-10-24 21:00:00\", \"Detroit\": 292.51, \"date\": \"2012-10-24T21:00:00\", \"pred_tree\": 289.87051282051283}, {\"datetime\": \"2012-10-24 22:00:00\", \"Detroit\": 291.79, \"date\": \"2012-10-24T22:00:00\", \"pred_tree\": 289.87051282051283}, {\"datetime\": \"2012-10-24 23:00:00\", \"Detroit\": 290.75, \"date\": \"2012-10-24T23:00:00\", \"pred_tree\": 289.87051282051283}, {\"datetime\": \"2012-10-25 00:00:00\", \"Detroit\": 290.3, \"date\": \"2012-10-25T00:00:00\", \"pred_tree\": 289.87051282051283}, {\"datetime\": \"2012-10-25 01:00:00\", \"Detroit\": 289.96, \"date\": \"2012-10-25T01:00:00\", \"pred_tree\": 289.87051282051283}, {\"datetime\": \"2012-10-25 02:00:00\", \"Detroit\": 289.04, \"date\": \"2012-10-25T02:00:00\", \"pred_tree\": 289.87051282051283}, {\"datetime\": \"2012-10-25 03:00:00\", \"Detroit\": 288.82, \"date\": \"2012-10-25T03:00:00\", \"pred_tree\": 289.87051282051283}, {\"datetime\": \"2012-10-25 04:00:00\", \"Detroit\": 289.58, \"date\": \"2012-10-25T04:00:00\", \"pred_tree\": 289.87051282051283}, {\"datetime\": \"2012-10-25 05:00:00\", \"Detroit\": 289.76, \"date\": \"2012-10-25T05:00:00\", \"pred_tree\": 289.87051282051283}, {\"datetime\": \"2012-10-25 06:00:00\", \"Detroit\": 289.61, \"date\": \"2012-10-25T06:00:00\", \"pred_tree\": 289.87051282051283}, {\"datetime\": \"2012-10-25 07:00:00\", \"Detroit\": 289.54, \"date\": \"2012-10-25T07:00:00\", \"pred_tree\": 289.87051282051283}, {\"datetime\": \"2012-10-25 08:00:00\", \"Detroit\": 289.65, \"date\": \"2012-10-25T08:00:00\", \"pred_tree\": 289.87051282051283}, {\"datetime\": \"2012-10-25 09:00:00\", \"Detroit\": 289.28, \"date\": \"2012-10-25T09:00:00\", \"pred_tree\": 289.87051282051283}, {\"datetime\": \"2012-10-25 10:00:00\", \"Detroit\": 289.24, \"date\": \"2012-10-25T10:00:00\", \"pred_tree\": 289.87051282051283}, {\"datetime\": \"2012-10-25 11:00:00\", \"Detroit\": 289.26, \"date\": \"2012-10-25T11:00:00\", \"pred_tree\": 289.87051282051283}, {\"datetime\": \"2012-10-25 12:00:00\", \"Detroit\": 288.8, \"date\": \"2012-10-25T12:00:00\", \"pred_tree\": 289.87051282051283}, {\"datetime\": \"2012-10-25 13:00:00\", \"Detroit\": 288.98, \"date\": \"2012-10-25T13:00:00\", \"pred_tree\": 289.87051282051283}, {\"datetime\": \"2012-10-25 14:00:00\", \"Detroit\": 290.72, \"date\": \"2012-10-25T14:00:00\", \"pred_tree\": 289.87051282051283}, {\"datetime\": \"2012-10-25 15:00:00\", \"Detroit\": 292.46, \"date\": \"2012-10-25T15:00:00\", \"pred_tree\": 295.6011111111111}, {\"datetime\": \"2012-10-25 16:00:00\", \"Detroit\": 293.9, \"date\": \"2012-10-25T16:00:00\", \"pred_tree\": 295.6011111111111}, {\"datetime\": \"2012-10-25 17:00:00\", \"Detroit\": 295.36, \"date\": \"2012-10-25T17:00:00\", \"pred_tree\": 295.6011111111111}, {\"datetime\": \"2012-10-25 18:00:00\", \"Detroit\": 296.04, \"date\": \"2012-10-25T18:00:00\", \"pred_tree\": 295.6011111111111}, {\"datetime\": \"2012-10-25 19:00:00\", \"Detroit\": 297.31, \"date\": \"2012-10-25T19:00:00\", \"pred_tree\": 295.6011111111111}, {\"datetime\": \"2012-10-25 20:00:00\", \"Detroit\": 297.35, \"date\": \"2012-10-25T20:00:00\", \"pred_tree\": 295.6011111111111}, {\"datetime\": \"2012-10-25 21:00:00\", \"Detroit\": 296.89, \"date\": \"2012-10-25T21:00:00\", \"pred_tree\": 295.6011111111111}, {\"datetime\": \"2012-10-25 22:00:00\", \"Detroit\": 295.89, \"date\": \"2012-10-25T22:00:00\", \"pred_tree\": 295.6011111111111}, {\"datetime\": \"2012-10-25 23:00:00\", \"Detroit\": 295.21, \"date\": \"2012-10-25T23:00:00\", \"pred_tree\": 295.6011111111111}, {\"datetime\": \"2012-10-26 00:00:00\", \"Detroit\": 292.89, \"date\": \"2012-10-26T00:00:00\", \"pred_tree\": 291.33000000000004}, {\"datetime\": \"2012-10-26 01:00:00\", \"Detroit\": 292.1, \"date\": \"2012-10-26T01:00:00\", \"pred_tree\": 291.33000000000004}, {\"datetime\": \"2012-10-26 02:00:00\", \"Detroit\": 291.3, \"date\": \"2012-10-26T02:00:00\", \"pred_tree\": 291.33000000000004}, {\"datetime\": \"2012-10-26 03:00:00\", \"Detroit\": 290.45, \"date\": \"2012-10-26T03:00:00\", \"pred_tree\": 291.33000000000004}, {\"datetime\": \"2012-10-26 04:00:00\", \"Detroit\": 289.91, \"date\": \"2012-10-26T04:00:00\", \"pred_tree\": 291.33000000000004}, {\"datetime\": \"2012-10-26 05:00:00\", \"Detroit\": 289.27, \"date\": \"2012-10-26T05:00:00\", \"pred_tree\": 288.21375}, {\"datetime\": \"2012-10-26 06:00:00\", \"Detroit\": 288.81, \"date\": \"2012-10-26T06:00:00\", \"pred_tree\": 288.21375}, {\"datetime\": \"2012-10-26 07:00:00\", \"Detroit\": 288.92, \"date\": \"2012-10-26T07:00:00\", \"pred_tree\": 288.21375}, {\"datetime\": \"2012-10-26 08:00:00\", \"Detroit\": 288.5, \"date\": \"2012-10-26T08:00:00\", \"pred_tree\": 288.21375}, {\"datetime\": \"2012-10-26 09:00:00\", \"Detroit\": 287.94, \"date\": \"2012-10-26T09:00:00\", \"pred_tree\": 288.21375}, {\"datetime\": \"2012-10-26 10:00:00\", \"Detroit\": 287.49, \"date\": \"2012-10-26T10:00:00\", \"pred_tree\": 288.21375}, {\"datetime\": \"2012-10-26 11:00:00\", \"Detroit\": 287.09, \"date\": \"2012-10-26T11:00:00\", \"pred_tree\": 288.21375}, {\"datetime\": \"2012-10-26 12:00:00\", \"Detroit\": 287.69, \"date\": \"2012-10-26T12:00:00\", \"pred_tree\": 288.21375}]}}, {\"mode\": \"vega-lite\"});\n",
       "</script>"
      ],
      "text/plain": [
       "alt.LayerChart(...)"
      ]
     },
     "execution_count": 19,
     "metadata": {},
     "output_type": "execute_result"
    }
   ],
   "source": [
    "c1 = alt.Chart(df).mark_line().encode(\n",
    "    x=\"date\",\n",
    "    y=alt.Y(\"Detroit\", scale=alt.Scale(zero=False), title=\"kelvin\")\n",
    ").properties(\n",
    "    width=700,\n",
    "    title=\"Detroit\"\n",
    ")\n",
    "\n",
    "c2 = alt.Chart(df).mark_line(color=\"orange\").encode(\n",
    "    x=\"date\",\n",
    "    y=alt.Y(\"pred_tree\", scale=alt.Scale(zero=False), title=\"kelvin\")\n",
    "    # Doesn't work.  color=\"orange\"\n",
    "    # Does work.  color=alt.value(\"orange\")\n",
    ")\n",
    "\n",
    "c1+c2"
   ]
  },
  {
   "cell_type": "markdown",
   "metadata": {},
   "source": [
    "This setup is a little different from our other decision tree examples.  Notice how there is only one input column.  So for example, the feature importances array is not interesting in this case, because there is only one feature."
   ]
  },
  {
   "cell_type": "code",
   "execution_count": 20,
   "metadata": {
    "cell_id": "aa4e94f32c0f49b5b2b0ff7db716591c",
    "deepnote_cell_type": "code",
    "deepnote_to_be_reexecuted": false,
    "execution_millis": 2,
    "execution_start": 1670005007848,
    "source_hash": "3fb76195",
    "tags": []
   },
   "outputs": [
    {
     "data": {
      "text/plain": [
       "array([1.])"
      ]
     },
     "execution_count": 20,
     "metadata": {},
     "output_type": "execute_result"
    }
   ],
   "source": [
    "reg.feature_importances_"
   ]
  },
  {
   "cell_type": "markdown",
   "metadata": {},
   "source": [
    "Let's see how this compares if we use a random forest with 100 trees, each with at most 15 leaf nodes."
   ]
  },
  {
   "cell_type": "code",
   "execution_count": 21,
   "metadata": {
    "cell_id": "709fecc939d941c98152f2c1f2009585",
    "deepnote_cell_type": "code",
    "deepnote_to_be_reexecuted": false,
    "execution_millis": 1,
    "execution_start": 1670005054956,
    "source_hash": "aea345bb",
    "tags": []
   },
   "outputs": [],
   "source": [
    "from sklearn.ensemble import RandomForestRegressor"
   ]
  },
  {
   "cell_type": "code",
   "execution_count": 22,
   "metadata": {
    "cell_id": "c2c9884525724e98bf924b65e11befd1",
    "deepnote_cell_type": "code",
    "deepnote_to_be_reexecuted": false,
    "execution_millis": 1,
    "execution_start": 1670005092290,
    "source_hash": "dcaf7849",
    "tags": []
   },
   "outputs": [],
   "source": [
    "rfe = RandomForestRegressor(n_estimators=100, max_leaf_nodes=15)"
   ]
  },
  {
   "cell_type": "code",
   "execution_count": 23,
   "metadata": {
    "cell_id": "99aa8b981cec46c39ffa3b7280b276f2",
    "deepnote_cell_type": "code",
    "deepnote_to_be_reexecuted": false,
    "execution_millis": 106,
    "execution_start": 1670005106856,
    "source_hash": "b2b3009a",
    "tags": []
   },
   "outputs": [
    {
     "data": {
      "text/plain": [
       "RandomForestRegressor(max_leaf_nodes=15)"
      ]
     },
     "execution_count": 23,
     "metadata": {},
     "output_type": "execute_result"
    }
   ],
   "source": [
    "rfe.fit(df[[\"date\"]], df[\"Detroit\"])"
   ]
  },
  {
   "cell_type": "code",
   "execution_count": 24,
   "metadata": {
    "cell_id": "0299bace367c48adb75fa227990f37fd",
    "deepnote_cell_type": "code",
    "deepnote_to_be_reexecuted": false,
    "execution_millis": 20,
    "execution_start": 1670005123914,
    "source_hash": "31b593e0",
    "tags": []
   },
   "outputs": [],
   "source": [
    "df[\"pred_forest\"] = rfe.predict(df[[\"date\"]])"
   ]
  },
  {
   "cell_type": "markdown",
   "metadata": {},
   "source": [
    "The image looks pretty similar in this case, but the corners are rounded because of the averaging that happens.  Look for example on the very right side of this picture, and compare it to the picture above.  We have a diagonal curve in this random forest plot, which is very different from the straight horizontal segments of the decision tree plot."
   ]
  },
  {
   "cell_type": "code",
   "execution_count": 25,
   "metadata": {
    "cell_id": "3cf8a32e1f7e47fbae339a9a353440c0",
    "deepnote_cell_type": "code",
    "deepnote_to_be_reexecuted": false,
    "execution_millis": 47,
    "execution_start": 1670005171653,
    "source_hash": "d7ab61a4",
    "tags": []
   },
   "outputs": [
    {
     "data": {
      "text/html": [
       "\n",
       "<div id=\"altair-viz-52f49ce6a60c41619d8a47786e473c34\"></div>\n",
       "<script type=\"text/javascript\">\n",
       "  var VEGA_DEBUG = (typeof VEGA_DEBUG == \"undefined\") ? {} : VEGA_DEBUG;\n",
       "  (function(spec, embedOpt){\n",
       "    let outputDiv = document.currentScript.previousElementSibling;\n",
       "    if (outputDiv.id !== \"altair-viz-52f49ce6a60c41619d8a47786e473c34\") {\n",
       "      outputDiv = document.getElementById(\"altair-viz-52f49ce6a60c41619d8a47786e473c34\");\n",
       "    }\n",
       "    const paths = {\n",
       "      \"vega\": \"https://cdn.jsdelivr.net/npm//vega@5?noext\",\n",
       "      \"vega-lib\": \"https://cdn.jsdelivr.net/npm//vega-lib?noext\",\n",
       "      \"vega-lite\": \"https://cdn.jsdelivr.net/npm//vega-lite@4.17.0?noext\",\n",
       "      \"vega-embed\": \"https://cdn.jsdelivr.net/npm//vega-embed@6?noext\",\n",
       "    };\n",
       "\n",
       "    function maybeLoadScript(lib, version) {\n",
       "      var key = `${lib.replace(\"-\", \"\")}_version`;\n",
       "      return (VEGA_DEBUG[key] == version) ?\n",
       "        Promise.resolve(paths[lib]) :\n",
       "        new Promise(function(resolve, reject) {\n",
       "          var s = document.createElement('script');\n",
       "          document.getElementsByTagName(\"head\")[0].appendChild(s);\n",
       "          s.async = true;\n",
       "          s.onload = () => {\n",
       "            VEGA_DEBUG[key] = version;\n",
       "            return resolve(paths[lib]);\n",
       "          };\n",
       "          s.onerror = () => reject(`Error loading script: ${paths[lib]}`);\n",
       "          s.src = paths[lib];\n",
       "        });\n",
       "    }\n",
       "\n",
       "    function showError(err) {\n",
       "      outputDiv.innerHTML = `<div class=\"error\" style=\"color:red;\">${err}</div>`;\n",
       "      throw err;\n",
       "    }\n",
       "\n",
       "    function displayChart(vegaEmbed) {\n",
       "      vegaEmbed(outputDiv, spec, embedOpt)\n",
       "        .catch(err => showError(`Javascript Error: ${err.message}<br>This usually means there's a typo in your chart specification. See the javascript console for the full traceback.`));\n",
       "    }\n",
       "\n",
       "    if(typeof define === \"function\" && define.amd) {\n",
       "      requirejs.config({paths});\n",
       "      require([\"vega-embed\"], displayChart, err => showError(`Error loading script: ${err.message}`));\n",
       "    } else {\n",
       "      maybeLoadScript(\"vega\", \"5\")\n",
       "        .then(() => maybeLoadScript(\"vega-lite\", \"4.17.0\"))\n",
       "        .then(() => maybeLoadScript(\"vega-embed\", \"6\"))\n",
       "        .catch(showError)\n",
       "        .then(() => displayChart(vegaEmbed));\n",
       "    }\n",
       "  })({\"config\": {\"view\": {\"continuousWidth\": 400, \"continuousHeight\": 300}}, \"layer\": [{\"mark\": \"line\", \"encoding\": {\"x\": {\"field\": \"date\", \"type\": \"temporal\"}, \"y\": {\"field\": \"Detroit\", \"scale\": {\"zero\": false}, \"title\": \"kelvin\", \"type\": \"quantitative\"}}, \"title\": \"Detroit\", \"width\": 700}, {\"mark\": {\"type\": \"line\", \"color\": \"orange\"}, \"encoding\": {\"x\": {\"field\": \"date\", \"type\": \"temporal\"}, \"y\": {\"field\": \"pred_forest\", \"scale\": {\"zero\": false}, \"title\": \"kelvin\", \"type\": \"quantitative\"}}}], \"data\": {\"name\": \"data-0aa25505c292a52243140fad99da98cd\"}, \"$schema\": \"https://vega.github.io/schema/vega-lite/v4.17.0.json\", \"datasets\": {\"data-0aa25505c292a52243140fad99da98cd\": [{\"datetime\": \"2012-10-18 04:00:00\", \"Detroit\": 284.52, \"date\": \"2012-10-18T04:00:00\", \"pred_tree\": 285.51181818181817, \"pred_forest\": 285.47810416213264}, {\"datetime\": \"2012-10-18 05:00:00\", \"Detroit\": 284.45, \"date\": \"2012-10-18T05:00:00\", \"pred_tree\": 285.51181818181817, \"pred_forest\": 285.47810416213264}, {\"datetime\": \"2012-10-18 06:00:00\", \"Detroit\": 285.51, \"date\": \"2012-10-18T06:00:00\", \"pred_tree\": 285.51181818181817, \"pred_forest\": 285.47810416213264}, {\"datetime\": \"2012-10-18 07:00:00\", \"Detroit\": 284.93, \"date\": \"2012-10-18T07:00:00\", \"pred_tree\": 285.51181818181817, \"pred_forest\": 285.47810416213264}, {\"datetime\": \"2012-10-18 08:00:00\", \"Detroit\": 285.34, \"date\": \"2012-10-18T08:00:00\", \"pred_tree\": 285.51181818181817, \"pred_forest\": 285.47810416213264}, {\"datetime\": \"2012-10-18 09:00:00\", \"Detroit\": 285.17, \"date\": \"2012-10-18T09:00:00\", \"pred_tree\": 285.51181818181817, \"pred_forest\": 285.47810416213264}, {\"datetime\": \"2012-10-18 10:00:00\", \"Detroit\": 285.49, \"date\": \"2012-10-18T10:00:00\", \"pred_tree\": 285.51181818181817, \"pred_forest\": 285.47810416213264}, {\"datetime\": \"2012-10-18 11:00:00\", \"Detroit\": 285.88, \"date\": \"2012-10-18T11:00:00\", \"pred_tree\": 285.51181818181817, \"pred_forest\": 285.50488332879934}, {\"datetime\": \"2012-10-18 12:00:00\", \"Detroit\": 285.92, \"date\": \"2012-10-18T12:00:00\", \"pred_tree\": 285.51181818181817, \"pred_forest\": 285.61117358853954}, {\"datetime\": \"2012-10-18 13:00:00\", \"Detroit\": 286.2, \"date\": \"2012-10-18T13:00:00\", \"pred_tree\": 285.51181818181817, \"pred_forest\": 285.8032134389669}, {\"datetime\": \"2012-10-18 14:00:00\", \"Detroit\": 287.22, \"date\": \"2012-10-18T14:00:00\", \"pred_tree\": 285.51181818181817, \"pred_forest\": 286.9111590189425}, {\"datetime\": \"2012-10-18 15:00:00\", \"Detroit\": 289.1, \"date\": \"2012-10-18T15:00:00\", \"pred_tree\": 292.44, \"pred_forest\": 290.93102522543415}, {\"datetime\": \"2012-10-18 16:00:00\", \"Detroit\": 291.16, \"date\": \"2012-10-18T16:00:00\", \"pred_tree\": 292.44, \"pred_forest\": 291.99007439100717}, {\"datetime\": \"2012-10-18 17:00:00\", \"Detroit\": 292.41, \"date\": \"2012-10-18T17:00:00\", \"pred_tree\": 292.44, \"pred_forest\": 292.48305028566796}, {\"datetime\": \"2012-10-18 18:00:00\", \"Detroit\": 293.33, \"date\": \"2012-10-18T18:00:00\", \"pred_tree\": 292.44, \"pred_forest\": 292.66570507504525}, {\"datetime\": \"2012-10-18 19:00:00\", \"Detroit\": 294.38, \"date\": \"2012-10-18T19:00:00\", \"pred_tree\": 292.44, \"pred_forest\": 292.66570507504525}, {\"datetime\": \"2012-10-18 20:00:00\", \"Detroit\": 294.56, \"date\": \"2012-10-18T20:00:00\", \"pred_tree\": 292.44, \"pred_forest\": 292.66570507504525}, {\"datetime\": \"2012-10-18 21:00:00\", \"Detroit\": 294.01, \"date\": \"2012-10-18T21:00:00\", \"pred_tree\": 292.44, \"pred_forest\": 292.66570507504525}, {\"datetime\": \"2012-10-18 22:00:00\", \"Detroit\": 293.34, \"date\": \"2012-10-18T22:00:00\", \"pred_tree\": 292.44, \"pred_forest\": 292.66570507504525}, {\"datetime\": \"2012-10-18 23:00:00\", \"Detroit\": 292.36, \"date\": \"2012-10-18T23:00:00\", \"pred_tree\": 292.44, \"pred_forest\": 292.66570507504525}, {\"datetime\": \"2012-10-19 00:00:00\", \"Detroit\": 292.21, \"date\": \"2012-10-19T00:00:00\", \"pred_tree\": 292.44, \"pred_forest\": 292.66570507504525}, {\"datetime\": \"2012-10-19 01:00:00\", \"Detroit\": 291.96, \"date\": \"2012-10-19T01:00:00\", \"pred_tree\": 292.44, \"pred_forest\": 292.62002507504525}, {\"datetime\": \"2012-10-19 02:00:00\", \"Detroit\": 290.46, \"date\": \"2012-10-19T02:00:00\", \"pred_tree\": 292.44, \"pred_forest\": 290.8377172384469}, {\"datetime\": \"2012-10-19 03:00:00\", \"Detroit\": 288.66, \"date\": \"2012-10-19T03:00:00\", \"pred_tree\": 287.52272727272725, \"pred_forest\": 288.81037382349007}, {\"datetime\": \"2012-10-19 04:00:00\", \"Detroit\": 287.81, \"date\": \"2012-10-19T04:00:00\", \"pred_tree\": 287.52272727272725, \"pred_forest\": 288.00299563724616}, {\"datetime\": \"2012-10-19 05:00:00\", \"Detroit\": 287.95, \"date\": \"2012-10-19T05:00:00\", \"pred_tree\": 287.52272727272725, \"pred_forest\": 287.78289244099795}, {\"datetime\": \"2012-10-19 06:00:00\", \"Detroit\": 288.32, \"date\": \"2012-10-19T06:00:00\", \"pred_tree\": 287.52272727272725, \"pred_forest\": 287.78289244099795}, {\"datetime\": \"2012-10-19 07:00:00\", \"Detroit\": 287.78, \"date\": \"2012-10-19T07:00:00\", \"pred_tree\": 287.52272727272725, \"pred_forest\": 287.7501558338551}, {\"datetime\": \"2012-10-19 08:00:00\", \"Detroit\": 288.23, \"date\": \"2012-10-19T08:00:00\", \"pred_tree\": 287.52272727272725, \"pred_forest\": 287.7501558338551}, {\"datetime\": \"2012-10-19 09:00:00\", \"Detroit\": 287.97, \"date\": \"2012-10-19T09:00:00\", \"pred_tree\": 287.52272727272725, \"pred_forest\": 287.7501558338551}, {\"datetime\": \"2012-10-19 10:00:00\", \"Detroit\": 288.2, \"date\": \"2012-10-19T10:00:00\", \"pred_tree\": 287.52272727272725, \"pred_forest\": 287.7501558338551}, {\"datetime\": \"2012-10-19 11:00:00\", \"Detroit\": 288.48, \"date\": \"2012-10-19T11:00:00\", \"pred_tree\": 287.52272727272725, \"pred_forest\": 287.7501558338551}, {\"datetime\": \"2012-10-19 12:00:00\", \"Detroit\": 289.01, \"date\": \"2012-10-19T12:00:00\", \"pred_tree\": 287.52272727272725, \"pred_forest\": 287.7266349247642}, {\"datetime\": \"2012-10-19 13:00:00\", \"Detroit\": 288.79, \"date\": \"2012-10-19T13:00:00\", \"pred_tree\": 287.52272727272725, \"pred_forest\": 287.6664067438953}, {\"datetime\": \"2012-10-19 14:00:00\", \"Detroit\": 286.64, \"date\": \"2012-10-19T14:00:00\", \"pred_tree\": 287.52272727272725, \"pred_forest\": 287.42905262440377}, {\"datetime\": \"2012-10-19 15:00:00\", \"Detroit\": 285.14, \"date\": \"2012-10-19T15:00:00\", \"pred_tree\": 287.52272727272725, \"pred_forest\": 287.2678398166559}, {\"datetime\": \"2012-10-19 16:00:00\", \"Detroit\": 285.02, \"date\": \"2012-10-19T16:00:00\", \"pred_tree\": 287.52272727272725, \"pred_forest\": 287.2678398166559}, {\"datetime\": \"2012-10-19 17:00:00\", \"Detroit\": 285.55, \"date\": \"2012-10-19T17:00:00\", \"pred_tree\": 287.52272727272725, \"pred_forest\": 287.2678398166559}, {\"datetime\": \"2012-10-19 18:00:00\", \"Detroit\": 286.91, \"date\": \"2012-10-19T18:00:00\", \"pred_tree\": 287.52272727272725, \"pred_forest\": 287.2864126737988}, {\"datetime\": \"2012-10-19 19:00:00\", \"Detroit\": 288.11, \"date\": \"2012-10-19T19:00:00\", \"pred_tree\": 287.52272727272725, \"pred_forest\": 287.31148267379876}, {\"datetime\": \"2012-10-19 20:00:00\", \"Detroit\": 288.71, \"date\": \"2012-10-19T20:00:00\", \"pred_tree\": 287.52272727272725, \"pred_forest\": 287.31148267379876}, {\"datetime\": \"2012-10-19 21:00:00\", \"Detroit\": 288.59, \"date\": \"2012-10-19T21:00:00\", \"pred_tree\": 287.52272727272725, \"pred_forest\": 287.31148267379876}, {\"datetime\": \"2012-10-19 22:00:00\", \"Detroit\": 287.24, \"date\": \"2012-10-19T22:00:00\", \"pred_tree\": 287.52272727272725, \"pred_forest\": 287.31148267379876}, {\"datetime\": \"2012-10-19 23:00:00\", \"Detroit\": 286.4, \"date\": \"2012-10-19T23:00:00\", \"pred_tree\": 287.52272727272725, \"pred_forest\": 287.11343939493787}, {\"datetime\": \"2012-10-20 00:00:00\", \"Detroit\": 285.99, \"date\": \"2012-10-20T00:00:00\", \"pred_tree\": 287.52272727272725, \"pred_forest\": 286.73391406000883}, {\"datetime\": \"2012-10-20 01:00:00\", \"Detroit\": 285.2, \"date\": \"2012-10-20T01:00:00\", \"pred_tree\": 284.77714285714285, \"pred_forest\": 285.5179542011324}, {\"datetime\": \"2012-10-20 02:00:00\", \"Detroit\": 284.86, \"date\": \"2012-10-20T02:00:00\", \"pred_tree\": 284.77714285714285, \"pred_forest\": 284.7950425917839}, {\"datetime\": \"2012-10-20 03:00:00\", \"Detroit\": 284.79, \"date\": \"2012-10-20T03:00:00\", \"pred_tree\": 284.77714285714285, \"pred_forest\": 284.74059858765594}, {\"datetime\": \"2012-10-20 04:00:00\", \"Detroit\": 284.34, \"date\": \"2012-10-20T04:00:00\", \"pred_tree\": 284.77714285714285, \"pred_forest\": 284.74059858765594}, {\"datetime\": \"2012-10-20 05:00:00\", \"Detroit\": 283.35, \"date\": \"2012-10-20T05:00:00\", \"pred_tree\": 284.77714285714285, \"pred_forest\": 284.74059858765594}, {\"datetime\": \"2012-10-20 06:00:00\", \"Detroit\": 283.34, \"date\": \"2012-10-20T06:00:00\", \"pred_tree\": 284.77714285714285, \"pred_forest\": 284.74059858765594}, {\"datetime\": \"2012-10-20 07:00:00\", \"Detroit\": 282.93, \"date\": \"2012-10-20T07:00:00\", \"pred_tree\": 284.77714285714285, \"pred_forest\": 284.74059858765594}, {\"datetime\": \"2012-10-20 08:00:00\", \"Detroit\": 283.12, \"date\": \"2012-10-20T08:00:00\", \"pred_tree\": 284.77714285714285, \"pred_forest\": 284.74059858765594}, {\"datetime\": \"2012-10-20 09:00:00\", \"Detroit\": 283.46, \"date\": \"2012-10-20T09:00:00\", \"pred_tree\": 284.77714285714285, \"pred_forest\": 284.74059858765594}, {\"datetime\": \"2012-10-20 10:00:00\", \"Detroit\": 284.15, \"date\": \"2012-10-20T10:00:00\", \"pred_tree\": 284.77714285714285, \"pred_forest\": 284.74059858765594}, {\"datetime\": \"2012-10-20 11:00:00\", \"Detroit\": 284.59, \"date\": \"2012-10-20T11:00:00\", \"pred_tree\": 284.77714285714285, \"pred_forest\": 284.7586385876559}, {\"datetime\": \"2012-10-20 12:00:00\", \"Detroit\": 284.79, \"date\": \"2012-10-20T12:00:00\", \"pred_tree\": 284.77714285714285, \"pred_forest\": 284.7586385876559}, {\"datetime\": \"2012-10-20 13:00:00\", \"Detroit\": 285.02, \"date\": \"2012-10-20T13:00:00\", \"pred_tree\": 284.77714285714285, \"pred_forest\": 284.7586385876559}, {\"datetime\": \"2012-10-20 14:00:00\", \"Detroit\": 284.87, \"date\": \"2012-10-20T14:00:00\", \"pred_tree\": 284.77714285714285, \"pred_forest\": 284.78047485139217}, {\"datetime\": \"2012-10-20 15:00:00\", \"Detroit\": 285.09, \"date\": \"2012-10-20T15:00:00\", \"pred_tree\": 284.77714285714285, \"pred_forest\": 284.80583913710643}, {\"datetime\": \"2012-10-20 16:00:00\", \"Detroit\": 285.41, \"date\": \"2012-10-20T16:00:00\", \"pred_tree\": 284.77714285714285, \"pred_forest\": 284.93716689259657}, {\"datetime\": \"2012-10-20 17:00:00\", \"Detroit\": 286.73, \"date\": \"2012-10-20T17:00:00\", \"pred_tree\": 284.77714285714285, \"pred_forest\": 284.98600932957135}, {\"datetime\": \"2012-10-20 18:00:00\", \"Detroit\": 286.97, \"date\": \"2012-10-20T18:00:00\", \"pred_tree\": 284.77714285714285, \"pred_forest\": 284.98600932957135}, {\"datetime\": \"2012-10-20 19:00:00\", \"Detroit\": 286.8, \"date\": \"2012-10-20T19:00:00\", \"pred_tree\": 284.77714285714285, \"pred_forest\": 284.87080456369955}, {\"datetime\": \"2012-10-20 20:00:00\", \"Detroit\": 286.2, \"date\": \"2012-10-20T20:00:00\", \"pred_tree\": 284.77714285714285, \"pred_forest\": 284.80258456370024}, {\"datetime\": \"2012-10-20 21:00:00\", \"Detroit\": 284.31, \"date\": \"2012-10-20T21:00:00\", \"pred_tree\": 284.77714285714285, \"pred_forest\": 284.5055218587072}, {\"datetime\": \"2012-10-20 22:00:00\", \"Detroit\": 282.69, \"date\": \"2012-10-20T22:00:00\", \"pred_tree\": 281.4048148148333, \"pred_forest\": 282.55642660349775}, {\"datetime\": \"2012-10-20 23:00:00\", \"Detroit\": 282.05, \"date\": \"2012-10-20T23:00:00\", \"pred_tree\": 281.4048148148333, \"pred_forest\": 281.76044212413615}, {\"datetime\": \"2012-10-21 00:00:00\", \"Detroit\": 281.9, \"date\": \"2012-10-21T00:00:00\", \"pred_tree\": 281.4048148148333, \"pred_forest\": 281.69018967354395}, {\"datetime\": \"2012-10-21 01:00:00\", \"Detroit\": 281.49, \"date\": \"2012-10-21T01:00:00\", \"pred_tree\": 281.4048148148333, \"pred_forest\": 281.69018967354395}, {\"datetime\": \"2012-10-21 02:00:00\", \"Detroit\": 281.12, \"date\": \"2012-10-21T02:00:00\", \"pred_tree\": 281.4048148148333, \"pred_forest\": 281.69018967354395}, {\"datetime\": \"2012-10-21 03:00:00\", \"Detroit\": 281.12, \"date\": \"2012-10-21T03:00:00\", \"pred_tree\": 281.4048148148333, \"pred_forest\": 281.69018967354395}, {\"datetime\": \"2012-10-21 04:00:00\", \"Detroit\": 281.04, \"date\": \"2012-10-21T04:00:00\", \"pred_tree\": 281.4048148148333, \"pred_forest\": 281.69018967354395}, {\"datetime\": \"2012-10-21 05:00:00\", \"Detroit\": 281.04, \"date\": \"2012-10-21T05:00:00\", \"pred_tree\": 281.4048148148333, \"pred_forest\": 281.69018967354395}, {\"datetime\": \"2012-10-21 06:00:00\", \"Detroit\": 281.06, \"date\": \"2012-10-21T06:00:00\", \"pred_tree\": 281.4048148148333, \"pred_forest\": 281.69018967354395}, {\"datetime\": \"2012-10-21 07:00:00\", \"Detroit\": 281.08, \"date\": \"2012-10-21T07:00:00\", \"pred_tree\": 281.4048148148333, \"pred_forest\": 281.69018967354395}, {\"datetime\": \"2012-10-21 08:00:00\", \"Detroit\": 281.1, \"date\": \"2012-10-21T08:00:00\", \"pred_tree\": 281.4048148148333, \"pred_forest\": 281.69018967354395}, {\"datetime\": \"2012-10-21 09:00:00\", \"Detroit\": 281.12, \"date\": \"2012-10-21T09:00:00\", \"pred_tree\": 281.4048148148333, \"pred_forest\": 281.69018967354395}, {\"datetime\": \"2012-10-21 10:00:00\", \"Detroit\": 281.14, \"date\": \"2012-10-21T10:00:00\", \"pred_tree\": 281.4048148148333, \"pred_forest\": 281.69018967354395}, {\"datetime\": \"2012-10-21 11:00:00\", \"Detroit\": 281.16, \"date\": \"2012-10-21T11:00:00\", \"pred_tree\": 281.4048148148333, \"pred_forest\": 281.69018967354395}, {\"datetime\": \"2012-10-21 12:00:00\", \"Detroit\": 281.18, \"date\": \"2012-10-21T12:00:00\", \"pred_tree\": 281.4048148148333, \"pred_forest\": 281.69018967354395}, {\"datetime\": \"2012-10-21 13:00:00\", \"Detroit\": 281.2, \"date\": \"2012-10-21T13:00:00\", \"pred_tree\": 281.4048148148333, \"pred_forest\": 281.69018967354395}, {\"datetime\": \"2012-10-21 14:00:00\", \"Detroit\": 281.665555556, \"date\": \"2012-10-21T14:00:00\", \"pred_tree\": 281.4048148148333, \"pred_forest\": 281.69018967354395}, {\"datetime\": \"2012-10-21 15:00:00\", \"Detroit\": 282.131111111, \"date\": \"2012-10-21T15:00:00\", \"pred_tree\": 281.4048148148333, \"pred_forest\": 281.89349947537886}, {\"datetime\": \"2012-10-21 16:00:00\", \"Detroit\": 282.596666667, \"date\": \"2012-10-21T16:00:00\", \"pred_tree\": 283.46059523807145, \"pred_forest\": 282.70871827372406}, {\"datetime\": \"2012-10-21 17:00:00\", \"Detroit\": 283.062222222, \"date\": \"2012-10-21T17:00:00\", \"pred_tree\": 283.46059523807145, \"pred_forest\": 283.0530352964544}, {\"datetime\": \"2012-10-21 18:00:00\", \"Detroit\": 283.527777778, \"date\": \"2012-10-21T18:00:00\", \"pred_tree\": 283.46059523807145, \"pred_forest\": 283.21058142954234}, {\"datetime\": \"2012-10-21 19:00:00\", \"Detroit\": 283.993333333, \"date\": \"2012-10-21T19:00:00\", \"pred_tree\": 283.46059523807145, \"pred_forest\": 283.21058142954234}, {\"datetime\": \"2012-10-21 20:00:00\", \"Detroit\": 284.458888889, \"date\": \"2012-10-21T20:00:00\", \"pred_tree\": 283.46059523807145, \"pred_forest\": 283.21058142954234}, {\"datetime\": \"2012-10-21 21:00:00\", \"Detroit\": 284.924444444, \"date\": \"2012-10-21T21:00:00\", \"pred_tree\": 283.46059523807145, \"pred_forest\": 283.21058142954234}, {\"datetime\": \"2012-10-21 22:00:00\", \"Detroit\": 285.39, \"date\": \"2012-10-21T22:00:00\", \"pred_tree\": 283.46059523807145, \"pred_forest\": 283.21058142954234}, {\"datetime\": \"2012-10-21 23:00:00\", \"Detroit\": 284.75, \"date\": \"2012-10-21T23:00:00\", \"pred_tree\": 283.46059523807145, \"pred_forest\": 283.21058142954234}, {\"datetime\": \"2012-10-22 00:00:00\", \"Detroit\": 284.1225, \"date\": \"2012-10-22T00:00:00\", \"pred_tree\": 283.46059523807145, \"pred_forest\": 283.21058142954234}, {\"datetime\": \"2012-10-22 01:00:00\", \"Detroit\": 283.495, \"date\": \"2012-10-22T01:00:00\", \"pred_tree\": 283.46059523807145, \"pred_forest\": 283.21058142954234}, {\"datetime\": \"2012-10-22 02:00:00\", \"Detroit\": 282.8675, \"date\": \"2012-10-22T02:00:00\", \"pred_tree\": 283.46059523807145, \"pred_forest\": 283.0896208027563}, {\"datetime\": \"2012-10-22 03:00:00\", \"Detroit\": 282.24, \"date\": \"2012-10-22T03:00:00\", \"pred_tree\": 283.46059523807145, \"pred_forest\": 282.9996073900604}, {\"datetime\": \"2012-10-22 04:00:00\", \"Detroit\": 281.76, \"date\": \"2012-10-22T04:00:00\", \"pred_tree\": 283.46059523807145, \"pred_forest\": 282.8360899853312}, {\"datetime\": \"2012-10-22 05:00:00\", \"Detroit\": 281.26, \"date\": \"2012-10-22T05:00:00\", \"pred_tree\": 283.46059523807145, \"pred_forest\": 281.8866500096924}, {\"datetime\": \"2012-10-22 06:00:00\", \"Detroit\": 280.4, \"date\": \"2012-10-22T06:00:00\", \"pred_tree\": 279.96222222222224, \"pred_forest\": 280.83543784048845}, {\"datetime\": \"2012-10-22 07:00:00\", \"Detroit\": 280.14, \"date\": \"2012-10-22T07:00:00\", \"pred_tree\": 279.96222222222224, \"pred_forest\": 280.32285833191486}, {\"datetime\": \"2012-10-22 08:00:00\", \"Detroit\": 279.6, \"date\": \"2012-10-22T08:00:00\", \"pred_tree\": 279.96222222222224, \"pred_forest\": 280.32285833191486}, {\"datetime\": \"2012-10-22 09:00:00\", \"Detroit\": 279.45, \"date\": \"2012-10-22T09:00:00\", \"pred_tree\": 279.96222222222224, \"pred_forest\": 280.32285833191486}, {\"datetime\": \"2012-10-22 10:00:00\", \"Detroit\": 278.77, \"date\": \"2012-10-22T10:00:00\", \"pred_tree\": 279.96222222222224, \"pred_forest\": 280.32285833191486}, {\"datetime\": \"2012-10-22 11:00:00\", \"Detroit\": 278.36, \"date\": \"2012-10-22T11:00:00\", \"pred_tree\": 279.96222222222224, \"pred_forest\": 280.32285833191486}, {\"datetime\": \"2012-10-22 12:00:00\", \"Detroit\": 279.67, \"date\": \"2012-10-22T12:00:00\", \"pred_tree\": 279.96222222222224, \"pred_forest\": 280.32285833191486}, {\"datetime\": \"2012-10-22 13:00:00\", \"Detroit\": 280.98, \"date\": \"2012-10-22T13:00:00\", \"pred_tree\": 279.96222222222224, \"pred_forest\": 280.56476944302597}, {\"datetime\": \"2012-10-22 14:00:00\", \"Detroit\": 282.29, \"date\": \"2012-10-22T14:00:00\", \"pred_tree\": 279.96222222222224, \"pred_forest\": 280.8254920459785}, {\"datetime\": \"2012-10-22 15:00:00\", \"Detroit\": 283.6, \"date\": \"2012-10-22T15:00:00\", \"pred_tree\": 287.24, \"pred_forest\": 283.6251441711788}, {\"datetime\": \"2012-10-22 16:00:00\", \"Detroit\": 286.73, \"date\": \"2012-10-22T16:00:00\", \"pred_tree\": 287.24, \"pred_forest\": 286.7095965981405}, {\"datetime\": \"2012-10-22 17:00:00\", \"Detroit\": 287.68, \"date\": \"2012-10-22T17:00:00\", \"pred_tree\": 287.24, \"pred_forest\": 287.4855342574256}, {\"datetime\": \"2012-10-22 18:00:00\", \"Detroit\": 288.33, \"date\": \"2012-10-22T18:00:00\", \"pred_tree\": 287.24, \"pred_forest\": 287.5582075907589}, {\"datetime\": \"2012-10-22 19:00:00\", \"Detroit\": 288.74, \"date\": \"2012-10-22T19:00:00\", \"pred_tree\": 287.24, \"pred_forest\": 287.5582075907589}, {\"datetime\": \"2012-10-22 20:00:00\", \"Detroit\": 289.35, \"date\": \"2012-10-22T20:00:00\", \"pred_tree\": 287.24, \"pred_forest\": 287.5582075907589}, {\"datetime\": \"2012-10-22 21:00:00\", \"Detroit\": 289.03, \"date\": \"2012-10-22T21:00:00\", \"pred_tree\": 287.24, \"pred_forest\": 287.5582075907589}, {\"datetime\": \"2012-10-22 22:00:00\", \"Detroit\": 287.6, \"date\": \"2012-10-22T22:00:00\", \"pred_tree\": 287.24, \"pred_forest\": 287.5582075907589}, {\"datetime\": \"2012-10-22 23:00:00\", \"Detroit\": 286.27, \"date\": \"2012-10-22T23:00:00\", \"pred_tree\": 287.24, \"pred_forest\": 287.0193652494891}, {\"datetime\": \"2012-10-23 00:00:00\", \"Detroit\": 285.07, \"date\": \"2012-10-23T00:00:00\", \"pred_tree\": 287.24, \"pred_forest\": 286.226081109185}, {\"datetime\": \"2012-10-23 01:00:00\", \"Detroit\": 284.09, \"date\": \"2012-10-23T01:00:00\", \"pred_tree\": 281.1338461538461, \"pred_forest\": 284.0842243487138}, {\"datetime\": \"2012-10-23 02:00:00\", \"Detroit\": 283.23, \"date\": \"2012-10-23T02:00:00\", \"pred_tree\": 281.1338461538461, \"pred_forest\": 282.6426771375426}, {\"datetime\": \"2012-10-23 03:00:00\", \"Detroit\": 281.87, \"date\": \"2012-10-23T03:00:00\", \"pred_tree\": 281.1338461538461, \"pred_forest\": 281.9172091629355}, {\"datetime\": \"2012-10-23 04:00:00\", \"Detroit\": 282.24, \"date\": \"2012-10-23T04:00:00\", \"pred_tree\": 281.1338461538461, \"pred_forest\": 281.5200513182802}, {\"datetime\": \"2012-10-23 05:00:00\", \"Detroit\": 281.04, \"date\": \"2012-10-23T05:00:00\", \"pred_tree\": 281.1338461538461, \"pred_forest\": 281.07751259894394}, {\"datetime\": \"2012-10-23 06:00:00\", \"Detroit\": 280.43, \"date\": \"2012-10-23T06:00:00\", \"pred_tree\": 281.1338461538461, \"pred_forest\": 280.783095714162}, {\"datetime\": \"2012-10-23 07:00:00\", \"Detroit\": 280.46, \"date\": \"2012-10-23T07:00:00\", \"pred_tree\": 281.1338461538461, \"pred_forest\": 280.783095714162}, {\"datetime\": \"2012-10-23 08:00:00\", \"Detroit\": 280.19, \"date\": \"2012-10-23T08:00:00\", \"pred_tree\": 281.1338461538461, \"pred_forest\": 280.750820714162}, {\"datetime\": \"2012-10-23 09:00:00\", \"Detroit\": 279.82, \"date\": \"2012-10-23T09:00:00\", \"pred_tree\": 281.1338461538461, \"pred_forest\": 280.750820714162}, {\"datetime\": \"2012-10-23 10:00:00\", \"Detroit\": 279.74, \"date\": \"2012-10-23T10:00:00\", \"pred_tree\": 281.1338461538461, \"pred_forest\": 280.750820714162}, {\"datetime\": \"2012-10-23 11:00:00\", \"Detroit\": 279.77, \"date\": \"2012-10-23T11:00:00\", \"pred_tree\": 281.1338461538461, \"pred_forest\": 280.750820714162}, {\"datetime\": \"2012-10-23 12:00:00\", \"Detroit\": 280.18, \"date\": \"2012-10-23T12:00:00\", \"pred_tree\": 281.1338461538461, \"pred_forest\": 280.79409738082865}, {\"datetime\": \"2012-10-23 13:00:00\", \"Detroit\": 281.68, \"date\": \"2012-10-23T13:00:00\", \"pred_tree\": 281.1338461538461, \"pred_forest\": 280.8394092229339}, {\"datetime\": \"2012-10-23 14:00:00\", \"Detroit\": 285.15, \"date\": \"2012-10-23T14:00:00\", \"pred_tree\": 286.16499999999996, \"pred_forest\": 285.1666847951235}, {\"datetime\": \"2012-10-23 15:00:00\", \"Detroit\": 287.18, \"date\": \"2012-10-23T15:00:00\", \"pred_tree\": 286.16499999999996, \"pred_forest\": 286.1151266861551}, {\"datetime\": \"2012-10-23 16:00:00\", \"Detroit\": 289.45, \"date\": \"2012-10-23T16:00:00\", \"pred_tree\": 291.9125, \"pred_forest\": 289.75261909813463}, {\"datetime\": \"2012-10-23 17:00:00\", \"Detroit\": 291.75, \"date\": \"2012-10-23T17:00:00\", \"pred_tree\": 291.9125, \"pred_forest\": 291.31708714395756}, {\"datetime\": \"2012-10-23 18:00:00\", \"Detroit\": 292.36, \"date\": \"2012-10-23T18:00:00\", \"pred_tree\": 291.9125, \"pred_forest\": 291.56656893882933}, {\"datetime\": \"2012-10-23 19:00:00\", \"Detroit\": 292.8, \"date\": \"2012-10-23T19:00:00\", \"pred_tree\": 291.9125, \"pred_forest\": 291.56656893882933}, {\"datetime\": \"2012-10-23 20:00:00\", \"Detroit\": 293.31, \"date\": \"2012-10-23T20:00:00\", \"pred_tree\": 291.9125, \"pred_forest\": 291.56656893882933}, {\"datetime\": \"2012-10-23 21:00:00\", \"Detroit\": 292.75, \"date\": \"2012-10-23T21:00:00\", \"pred_tree\": 291.9125, \"pred_forest\": 291.56656893882933}, {\"datetime\": \"2012-10-23 22:00:00\", \"Detroit\": 291.84, \"date\": \"2012-10-23T22:00:00\", \"pred_tree\": 291.9125, \"pred_forest\": 291.53795358168645}, {\"datetime\": \"2012-10-23 23:00:00\", \"Detroit\": 291.04, \"date\": \"2012-10-23T23:00:00\", \"pred_tree\": 291.9125, \"pred_forest\": 290.9829247423412}, {\"datetime\": \"2012-10-24 00:00:00\", \"Detroit\": 290.29, \"date\": \"2012-10-24T00:00:00\", \"pred_tree\": 289.87051282051283, \"pred_forest\": 290.16943746194005}, {\"datetime\": \"2012-10-24 01:00:00\", \"Detroit\": 289.81, \"date\": \"2012-10-24T01:00:00\", \"pred_tree\": 289.87051282051283, \"pred_forest\": 289.9355677133528}, {\"datetime\": \"2012-10-24 02:00:00\", \"Detroit\": 289.09, \"date\": \"2012-10-24T02:00:00\", \"pred_tree\": 289.87051282051283, \"pred_forest\": 289.9355677133528}, {\"datetime\": \"2012-10-24 03:00:00\", \"Detroit\": 288.34, \"date\": \"2012-10-24T03:00:00\", \"pred_tree\": 289.87051282051283, \"pred_forest\": 289.9355677133528}, {\"datetime\": \"2012-10-24 04:00:00\", \"Detroit\": 288.78, \"date\": \"2012-10-24T04:00:00\", \"pred_tree\": 289.87051282051283, \"pred_forest\": 289.9355677133528}, {\"datetime\": \"2012-10-24 05:00:00\", \"Detroit\": 288.19, \"date\": \"2012-10-24T05:00:00\", \"pred_tree\": 289.87051282051283, \"pred_forest\": 289.9355677133528}, {\"datetime\": \"2012-10-24 06:00:00\", \"Detroit\": 288.49, \"date\": \"2012-10-24T06:00:00\", \"pred_tree\": 289.87051282051283, \"pred_forest\": 289.9355677133528}, {\"datetime\": \"2012-10-24 07:00:00\", \"Detroit\": 289.01, \"date\": \"2012-10-24T07:00:00\", \"pred_tree\": 289.87051282051283, \"pred_forest\": 289.9355677133528}, {\"datetime\": \"2012-10-24 08:00:00\", \"Detroit\": 288.68, \"date\": \"2012-10-24T08:00:00\", \"pred_tree\": 289.87051282051283, \"pred_forest\": 289.9355677133528}, {\"datetime\": \"2012-10-24 09:00:00\", \"Detroit\": 288.98, \"date\": \"2012-10-24T09:00:00\", \"pred_tree\": 289.87051282051283, \"pred_forest\": 289.9355677133528}, {\"datetime\": \"2012-10-24 10:00:00\", \"Detroit\": 289.39, \"date\": \"2012-10-24T10:00:00\", \"pred_tree\": 289.87051282051283, \"pred_forest\": 289.9355677133528}, {\"datetime\": \"2012-10-24 11:00:00\", \"Detroit\": 289.39, \"date\": \"2012-10-24T11:00:00\", \"pred_tree\": 289.87051282051283, \"pred_forest\": 289.9670138671989}, {\"datetime\": \"2012-10-24 12:00:00\", \"Detroit\": 289.34, \"date\": \"2012-10-24T12:00:00\", \"pred_tree\": 289.87051282051283, \"pred_forest\": 289.9670138671989}, {\"datetime\": \"2012-10-24 13:00:00\", \"Detroit\": 289.57, \"date\": \"2012-10-24T13:00:00\", \"pred_tree\": 289.87051282051283, \"pred_forest\": 289.9670138671989}, {\"datetime\": \"2012-10-24 14:00:00\", \"Detroit\": 289.84, \"date\": \"2012-10-24T14:00:00\", \"pred_tree\": 289.87051282051283, \"pred_forest\": 290.00465910643334}, {\"datetime\": \"2012-10-24 15:00:00\", \"Detroit\": 290.48, \"date\": \"2012-10-24T15:00:00\", \"pred_tree\": 289.87051282051283, \"pred_forest\": 290.05093736980007}, {\"datetime\": \"2012-10-24 16:00:00\", \"Detroit\": 290.94, \"date\": \"2012-10-24T16:00:00\", \"pred_tree\": 289.87051282051283, \"pred_forest\": 290.05093736980007}, {\"datetime\": \"2012-10-24 17:00:00\", \"Detroit\": 291.47, \"date\": \"2012-10-24T17:00:00\", \"pred_tree\": 289.87051282051283, \"pred_forest\": 290.05093736980007}, {\"datetime\": \"2012-10-24 18:00:00\", \"Detroit\": 291.77, \"date\": \"2012-10-24T18:00:00\", \"pred_tree\": 289.87051282051283, \"pred_forest\": 290.0770378222888}, {\"datetime\": \"2012-10-24 19:00:00\", \"Detroit\": 292.55, \"date\": \"2012-10-24T19:00:00\", \"pred_tree\": 289.87051282051283, \"pred_forest\": 290.0770378222888}, {\"datetime\": \"2012-10-24 20:00:00\", \"Detroit\": 292.96, \"date\": \"2012-10-24T20:00:00\", \"pred_tree\": 289.87051282051283, \"pred_forest\": 290.0770378222888}, {\"datetime\": \"2012-10-24 21:00:00\", \"Detroit\": 292.51, \"date\": \"2012-10-24T21:00:00\", \"pred_tree\": 289.87051282051283, \"pred_forest\": 290.0770378222888}, {\"datetime\": \"2012-10-24 22:00:00\", \"Detroit\": 291.79, \"date\": \"2012-10-24T22:00:00\", \"pred_tree\": 289.87051282051283, \"pred_forest\": 290.0770378222888}, {\"datetime\": \"2012-10-24 23:00:00\", \"Detroit\": 290.75, \"date\": \"2012-10-24T23:00:00\", \"pred_tree\": 289.87051282051283, \"pred_forest\": 290.0770378222888}, {\"datetime\": \"2012-10-25 00:00:00\", \"Detroit\": 290.3, \"date\": \"2012-10-25T00:00:00\", \"pred_tree\": 289.87051282051283, \"pred_forest\": 290.03771644793943}, {\"datetime\": \"2012-10-25 01:00:00\", \"Detroit\": 289.96, \"date\": \"2012-10-25T01:00:00\", \"pred_tree\": 289.87051282051283, \"pred_forest\": 289.93028134653395}, {\"datetime\": \"2012-10-25 02:00:00\", \"Detroit\": 289.04, \"date\": \"2012-10-25T02:00:00\", \"pred_tree\": 289.87051282051283, \"pred_forest\": 289.93028134653395}, {\"datetime\": \"2012-10-25 03:00:00\", \"Detroit\": 288.82, \"date\": \"2012-10-25T03:00:00\", \"pred_tree\": 289.87051282051283, \"pred_forest\": 289.93028134653395}, {\"datetime\": \"2012-10-25 04:00:00\", \"Detroit\": 289.58, \"date\": \"2012-10-25T04:00:00\", \"pred_tree\": 289.87051282051283, \"pred_forest\": 289.93028134653395}, {\"datetime\": \"2012-10-25 05:00:00\", \"Detroit\": 289.76, \"date\": \"2012-10-25T05:00:00\", \"pred_tree\": 289.87051282051283, \"pred_forest\": 289.93028134653395}, {\"datetime\": \"2012-10-25 06:00:00\", \"Detroit\": 289.61, \"date\": \"2012-10-25T06:00:00\", \"pred_tree\": 289.87051282051283, \"pred_forest\": 289.93028134653395}, {\"datetime\": \"2012-10-25 07:00:00\", \"Detroit\": 289.54, \"date\": \"2012-10-25T07:00:00\", \"pred_tree\": 289.87051282051283, \"pred_forest\": 289.93028134653395}, {\"datetime\": \"2012-10-25 08:00:00\", \"Detroit\": 289.65, \"date\": \"2012-10-25T08:00:00\", \"pred_tree\": 289.87051282051283, \"pred_forest\": 289.93028134653395}, {\"datetime\": \"2012-10-25 09:00:00\", \"Detroit\": 289.28, \"date\": \"2012-10-25T09:00:00\", \"pred_tree\": 289.87051282051283, \"pred_forest\": 289.93028134653395}, {\"datetime\": \"2012-10-25 10:00:00\", \"Detroit\": 289.24, \"date\": \"2012-10-25T10:00:00\", \"pred_tree\": 289.87051282051283, \"pred_forest\": 289.93028134653395}, {\"datetime\": \"2012-10-25 11:00:00\", \"Detroit\": 289.26, \"date\": \"2012-10-25T11:00:00\", \"pred_tree\": 289.87051282051283, \"pred_forest\": 289.93028134653395}, {\"datetime\": \"2012-10-25 12:00:00\", \"Detroit\": 288.8, \"date\": \"2012-10-25T12:00:00\", \"pred_tree\": 289.87051282051283, \"pred_forest\": 289.93028134653395}, {\"datetime\": \"2012-10-25 13:00:00\", \"Detroit\": 288.98, \"date\": \"2012-10-25T13:00:00\", \"pred_tree\": 289.87051282051283, \"pred_forest\": 289.96408832327813}, {\"datetime\": \"2012-10-25 14:00:00\", \"Detroit\": 290.72, \"date\": \"2012-10-25T14:00:00\", \"pred_tree\": 289.87051282051283, \"pred_forest\": 290.1333401161236}, {\"datetime\": \"2012-10-25 15:00:00\", \"Detroit\": 292.46, \"date\": \"2012-10-25T15:00:00\", \"pred_tree\": 295.6011111111111, \"pred_forest\": 292.9317045422442}, {\"datetime\": \"2012-10-25 16:00:00\", \"Detroit\": 293.9, \"date\": \"2012-10-25T16:00:00\", \"pred_tree\": 295.6011111111111, \"pred_forest\": 294.7394637516867}, {\"datetime\": \"2012-10-25 17:00:00\", \"Detroit\": 295.36, \"date\": \"2012-10-25T17:00:00\", \"pred_tree\": 295.6011111111111, \"pred_forest\": 295.31245688980454}, {\"datetime\": \"2012-10-25 18:00:00\", \"Detroit\": 296.04, \"date\": \"2012-10-25T18:00:00\", \"pred_tree\": 295.6011111111111, \"pred_forest\": 295.62379958100223}, {\"datetime\": \"2012-10-25 19:00:00\", \"Detroit\": 297.31, \"date\": \"2012-10-25T19:00:00\", \"pred_tree\": 295.6011111111111, \"pred_forest\": 295.62379958100223}, {\"datetime\": \"2012-10-25 20:00:00\", \"Detroit\": 297.35, \"date\": \"2012-10-25T20:00:00\", \"pred_tree\": 295.6011111111111, \"pred_forest\": 295.62379958100223}, {\"datetime\": \"2012-10-25 21:00:00\", \"Detroit\": 296.89, \"date\": \"2012-10-25T21:00:00\", \"pred_tree\": 295.6011111111111, \"pred_forest\": 295.62379958100223}, {\"datetime\": \"2012-10-25 22:00:00\", \"Detroit\": 295.89, \"date\": \"2012-10-25T22:00:00\", \"pred_tree\": 295.6011111111111, \"pred_forest\": 295.5962477952879}, {\"datetime\": \"2012-10-25 23:00:00\", \"Detroit\": 295.21, \"date\": \"2012-10-25T23:00:00\", \"pred_tree\": 295.6011111111111, \"pred_forest\": 294.73841261491276}, {\"datetime\": \"2012-10-26 00:00:00\", \"Detroit\": 292.89, \"date\": \"2012-10-26T00:00:00\", \"pred_tree\": 291.33000000000004, \"pred_forest\": 293.5113358147686}, {\"datetime\": \"2012-10-26 01:00:00\", \"Detroit\": 292.1, \"date\": \"2012-10-26T01:00:00\", \"pred_tree\": 291.33000000000004, \"pred_forest\": 291.77372097766124}, {\"datetime\": \"2012-10-26 02:00:00\", \"Detroit\": 291.3, \"date\": \"2012-10-26T02:00:00\", \"pred_tree\": 291.33000000000004, \"pred_forest\": 291.012859481241}, {\"datetime\": \"2012-10-26 03:00:00\", \"Detroit\": 290.45, \"date\": \"2012-10-26T03:00:00\", \"pred_tree\": 291.33000000000004, \"pred_forest\": 290.6381459494949}, {\"datetime\": \"2012-10-26 04:00:00\", \"Detroit\": 289.91, \"date\": \"2012-10-26T04:00:00\", \"pred_tree\": 291.33000000000004, \"pred_forest\": 289.7926989145854}, {\"datetime\": \"2012-10-26 05:00:00\", \"Detroit\": 289.27, \"date\": \"2012-10-26T05:00:00\", \"pred_tree\": 288.21375, \"pred_forest\": 289.1509110291375}, {\"datetime\": \"2012-10-26 06:00:00\", \"Detroit\": 288.81, \"date\": \"2012-10-26T06:00:00\", \"pred_tree\": 288.21375, \"pred_forest\": 288.76649973043624}, {\"datetime\": \"2012-10-26 07:00:00\", \"Detroit\": 288.92, \"date\": \"2012-10-26T07:00:00\", \"pred_tree\": 288.21375, \"pred_forest\": 288.59376869869027}, {\"datetime\": \"2012-10-26 08:00:00\", \"Detroit\": 288.5, \"date\": \"2012-10-26T08:00:00\", \"pred_tree\": 288.21375, \"pred_forest\": 288.5027453653569}, {\"datetime\": \"2012-10-26 09:00:00\", \"Detroit\": 287.94, \"date\": \"2012-10-26T09:00:00\", \"pred_tree\": 288.21375, \"pred_forest\": 288.5027453653569}, {\"datetime\": \"2012-10-26 10:00:00\", \"Detroit\": 287.49, \"date\": \"2012-10-26T10:00:00\", \"pred_tree\": 288.21375, \"pred_forest\": 288.5027453653569}, {\"datetime\": \"2012-10-26 11:00:00\", \"Detroit\": 287.09, \"date\": \"2012-10-26T11:00:00\", \"pred_tree\": 288.21375, \"pred_forest\": 288.5027453653569}, {\"datetime\": \"2012-10-26 12:00:00\", \"Detroit\": 287.69, \"date\": \"2012-10-26T12:00:00\", \"pred_tree\": 288.21375, \"pred_forest\": 288.5027453653569}]}}, {\"mode\": \"vega-lite\"});\n",
       "</script>"
      ],
      "text/plain": [
       "alt.LayerChart(...)"
      ]
     },
     "execution_count": 25,
     "metadata": {},
     "output_type": "execute_result"
    }
   ],
   "source": [
    "c1 = alt.Chart(df).mark_line().encode(\n",
    "    x=\"date\",\n",
    "    y=alt.Y(\"Detroit\", scale=alt.Scale(zero=False), title=\"kelvin\")\n",
    ").properties(\n",
    "    width=700,\n",
    "    title=\"Detroit\"\n",
    ")\n",
    "\n",
    "c2 = alt.Chart(df).mark_line(color=\"orange\").encode(\n",
    "    x=\"date\",\n",
    "    y=alt.Y(\"pred_forest\", scale=alt.Scale(zero=False), title=\"kelvin\")\n",
    "    # Doesn't work.  color=\"orange\"\n",
    "    # Does work.  color=alt.value(\"orange\")\n",
    ")\n",
    "\n",
    "c1+c2"
   ]
  },
  {
   "cell_type": "markdown",
   "metadata": {
    "cell_id": "35113289adc74afcbe5608be7a11b466",
    "deepnote_cell_type": "code",
    "tags": []
   },
   "source": [
    "We could definitely keep going, for example considering overfitting or finding changes to make to get the plot to more closely match the true data, but this is where we'll finish the course!"
   ]
  }
 ],
 "metadata": {
  "deepnote": {},
  "deepnote_execution_queue": [],
  "deepnote_notebook_id": "002af1e69d1243418dd45538f2ec037e",
  "kernelspec": {
   "display_name": "Python 3 (ipykernel)",
   "language": "python",
   "name": "python3"
  },
  "language_info": {
   "codemirror_mode": {
    "name": "ipython",
    "version": 3
   },
   "file_extension": ".py",
   "mimetype": "text/x-python",
   "name": "python",
   "nbconvert_exporter": "python",
   "pygments_lexer": "ipython3",
   "version": "3.9.13"
  }
 },
 "nbformat": 4,
 "nbformat_minor": 4
}
