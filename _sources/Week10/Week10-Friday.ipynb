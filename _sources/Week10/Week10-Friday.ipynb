{
 "cells": [
  {
   "cell_type": "markdown",
   "metadata": {
    "cell_id": "5ec0dc6f3a9f4e3a9472235ccd1cfc81",
    "deepnote_cell_type": "markdown"
   },
   "source": [
    "# Week 10 Friday"
   ]
  },
  {
   "cell_type": "markdown",
   "metadata": {
    "cell_id": "b52fed65996345c3b083da3307f672eb",
    "deepnote_cell_type": "markdown"
   },
   "source": [
    "## Announcements\n",
    "\n",
    "* Midterm 2 solutions posted on the [Week 10 page](https://canvas.eee.uci.edu/courses/53164/pages/week-10) on Canvas.\n",
    "* I have the midterms, so come see me if you need to collect yours.  (If you see a clear issue with your exam, such as the points added incorrectly, return it to me right away, together with a note explaining what you think is wrong.)\n",
    "* Scores were again high, median of 82%.  Good job!  Again there won't be any curving.\n",
    "* No lecture planned today.  Time to work on the course project.  Yufei, Hanson, and I are here to answer questions.\n",
    "* I plan to have an office hour on Wednesday from 2-3pm in ALP 3610 (during our scheduled final exam time).  I will send a Canvas message to the class when it's confirmed."
   ]
  },
  {
   "cell_type": "markdown",
   "metadata": {
    "cell_id": "c83843673a7f49a8851d74db737a0b7f",
    "deepnote_cell_type": "markdown"
   },
   "source": [
    "## Project reminders\n",
    "\n",
    "* Complete the project using the **Project Template** from the Course Project folder on Deepnote.  (Don't use the Worksheet 17 template.)\n",
    "* Don't worry if you don't get conclusive results... it's the analysis that's important to me.\n",
    "* Focus on the Math 10 material.  Browsing Kaggle and tutorials online, you'll find a ton of fancy techniques, but I value seeing the Math 10 material much more highly. "
   ]
  }
 ],
 "metadata": {
  "deepnote": {},
  "deepnote_execution_queue": [],
  "deepnote_notebook_id": "0cc2d0b8e76a4db396fb6156bd470a52",
  "kernelspec": {
   "display_name": "Python 3 (ipykernel)",
   "language": "python",
   "name": "python3"
  },
  "language_info": {
   "codemirror_mode": {
    "name": "ipython",
    "version": 3
   },
   "file_extension": ".py",
   "mimetype": "text/x-python",
   "name": "python",
   "nbconvert_exporter": "python",
   "pygments_lexer": "ipython3",
   "version": "3.9.16"
  }
 },
 "nbformat": 4,
 "nbformat_minor": 4
}
