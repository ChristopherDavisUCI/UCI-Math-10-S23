{
 "cells": [
  {
   "cell_type": "markdown",
   "metadata": {
    "cell_id": "935f992c8a5148259aab6e2af56d1e14",
    "deepnote_cell_type": "markdown"
   },
   "source": [
    "# Week 2 Friday\n",
    "\n",
    "## Announcements\n",
    "\n",
    "* I'm in a different notebook.  Will upload this one later.\n",
    "* In case you haven't noticed, I've been posting annotated versions of these notebooks in the course notes.  Here is the one [from Wednesday](https://christopherdavisuci.github.io/UCI-Math-10-S23/Week2/Week2-Wednesday.html).\n",
    "* Yufei (one of our three Learning Assistants) is here to help."
   ]
  },
  {
   "cell_type": "markdown",
   "metadata": {
    "cell_id": "6dece68aa5fd48acab10ad7ba7db6347",
    "deepnote_cell_type": "markdown"
   },
   "source": [
    "## (Worse) alternatives to the material from Wednesday\n",
    "\n",
    "On Wednesday, we saw how to find all rows in the taxis dataset for which the pickup zone and the dropoff zone both contained the substring `\"Airport\"`.  Let's see some alternative ways to do that.  This will give practice with pandas indexing and general Python concepts (like for loops).  Then we'll recap the \"right\" way to do this, using the `str` accessor and Boolean indexing in pandas."
   ]
  },
  {
   "cell_type": "code",
   "execution_count": 1,
   "metadata": {
    "cell_id": "f1190557b44545a6a4f899b59fa5014e",
    "deepnote_cell_type": "code",
    "deepnote_to_be_reexecuted": false,
    "execution_millis": 0,
    "execution_start": 1681502497757,
    "source_hash": "9b82ee11",
    "tags": []
   },
   "outputs": [],
   "source": [
    "import pandas as pd"
   ]
  },
  {
   "cell_type": "markdown",
   "metadata": {
    "cell_id": "c385154d492f45e1b7adb370c19c0cd2",
    "deepnote_cell_type": "markdown"
   },
   "source": [
    "Here's a reminder of how the taxis dataset looks.  I'm first going to shuffle the rows, using the `sample` method.  If I specify `frac = 0.1`, we will get 10% of the rows.  Because I am using `random_state=10`, if you also use `random_state=10`, you should get the same random rows as I get.  (This keyword argument `random_state` is like the `seed` argument in NumPy.)"
   ]
  },
  {
   "cell_type": "code",
   "execution_count": 2,
   "metadata": {
    "cell_id": "333f2941d5724b638f3317e7336c8e10",
    "deepnote_cell_type": "code",
    "deepnote_to_be_reexecuted": false,
    "execution_millis": 44,
    "execution_start": 1681502772249,
    "source_hash": "c39a384f",
    "tags": [
     "output_scroll"
    ]
   },
   "outputs": [
    {
     "data": {
      "text/html": [
       "<div>\n",
       "<style scoped>\n",
       "    .dataframe tbody tr th:only-of-type {\n",
       "        vertical-align: middle;\n",
       "    }\n",
       "\n",
       "    .dataframe tbody tr th {\n",
       "        vertical-align: top;\n",
       "    }\n",
       "\n",
       "    .dataframe thead th {\n",
       "        text-align: right;\n",
       "    }\n",
       "</style>\n",
       "<table border=\"1\" class=\"dataframe\">\n",
       "  <thead>\n",
       "    <tr style=\"text-align: right;\">\n",
       "      <th></th>\n",
       "      <th>pickup</th>\n",
       "      <th>dropoff</th>\n",
       "      <th>passengers</th>\n",
       "      <th>distance</th>\n",
       "      <th>fare</th>\n",
       "      <th>tip</th>\n",
       "      <th>tolls</th>\n",
       "      <th>total</th>\n",
       "      <th>color</th>\n",
       "      <th>payment</th>\n",
       "      <th>pickup_zone</th>\n",
       "      <th>dropoff_zone</th>\n",
       "      <th>pickup_borough</th>\n",
       "      <th>dropoff_borough</th>\n",
       "    </tr>\n",
       "  </thead>\n",
       "  <tbody>\n",
       "    <tr>\n",
       "      <th>890</th>\n",
       "      <td>2019-03-09 16:32:40</td>\n",
       "      <td>2019-03-09 16:49:32</td>\n",
       "      <td>2</td>\n",
       "      <td>2.70</td>\n",
       "      <td>13.0</td>\n",
       "      <td>0.00</td>\n",
       "      <td>0.0</td>\n",
       "      <td>16.30</td>\n",
       "      <td>yellow</td>\n",
       "      <td>cash</td>\n",
       "      <td>Midtown North</td>\n",
       "      <td>Kips Bay</td>\n",
       "      <td>Manhattan</td>\n",
       "      <td>Manhattan</td>\n",
       "    </tr>\n",
       "    <tr>\n",
       "      <th>5870</th>\n",
       "      <td>2019-03-26 11:04:06</td>\n",
       "      <td>2019-03-26 11:09:23</td>\n",
       "      <td>1</td>\n",
       "      <td>0.64</td>\n",
       "      <td>5.5</td>\n",
       "      <td>1.26</td>\n",
       "      <td>0.0</td>\n",
       "      <td>7.56</td>\n",
       "      <td>green</td>\n",
       "      <td>credit card</td>\n",
       "      <td>Morningside Heights</td>\n",
       "      <td>Manhattanville</td>\n",
       "      <td>Manhattan</td>\n",
       "      <td>Manhattan</td>\n",
       "    </tr>\n",
       "    <tr>\n",
       "      <th>686</th>\n",
       "      <td>2019-03-27 15:02:00</td>\n",
       "      <td>2019-03-27 15:31:19</td>\n",
       "      <td>1</td>\n",
       "      <td>3.79</td>\n",
       "      <td>20.0</td>\n",
       "      <td>0.00</td>\n",
       "      <td>0.0</td>\n",
       "      <td>23.30</td>\n",
       "      <td>yellow</td>\n",
       "      <td>cash</td>\n",
       "      <td>East Chelsea</td>\n",
       "      <td>Manhattan Valley</td>\n",
       "      <td>Manhattan</td>\n",
       "      <td>Manhattan</td>\n",
       "    </tr>\n",
       "    <tr>\n",
       "      <th>4937</th>\n",
       "      <td>2019-03-02 19:50:23</td>\n",
       "      <td>2019-03-02 20:04:19</td>\n",
       "      <td>2</td>\n",
       "      <td>1.60</td>\n",
       "      <td>10.0</td>\n",
       "      <td>2.75</td>\n",
       "      <td>0.0</td>\n",
       "      <td>16.55</td>\n",
       "      <td>yellow</td>\n",
       "      <td>credit card</td>\n",
       "      <td>TriBeCa/Civic Center</td>\n",
       "      <td>East Village</td>\n",
       "      <td>Manhattan</td>\n",
       "      <td>Manhattan</td>\n",
       "    </tr>\n",
       "    <tr>\n",
       "      <th>2659</th>\n",
       "      <td>2019-03-18 21:36:06</td>\n",
       "      <td>2019-03-18 21:48:31</td>\n",
       "      <td>1</td>\n",
       "      <td>1.10</td>\n",
       "      <td>8.0</td>\n",
       "      <td>0.00</td>\n",
       "      <td>0.0</td>\n",
       "      <td>11.80</td>\n",
       "      <td>yellow</td>\n",
       "      <td>cash</td>\n",
       "      <td>Midtown North</td>\n",
       "      <td>Midtown North</td>\n",
       "      <td>Manhattan</td>\n",
       "      <td>Manhattan</td>\n",
       "    </tr>\n",
       "  </tbody>\n",
       "</table>\n",
       "</div>"
      ],
      "text/plain": [
       "                   pickup              dropoff  passengers  distance  fare  \\\n",
       "890   2019-03-09 16:32:40  2019-03-09 16:49:32           2      2.70  13.0   \n",
       "5870  2019-03-26 11:04:06  2019-03-26 11:09:23           1      0.64   5.5   \n",
       "686   2019-03-27 15:02:00  2019-03-27 15:31:19           1      3.79  20.0   \n",
       "4937  2019-03-02 19:50:23  2019-03-02 20:04:19           2      1.60  10.0   \n",
       "2659  2019-03-18 21:36:06  2019-03-18 21:48:31           1      1.10   8.0   \n",
       "\n",
       "       tip  tolls  total   color      payment           pickup_zone  \\\n",
       "890   0.00    0.0  16.30  yellow         cash         Midtown North   \n",
       "5870  1.26    0.0   7.56   green  credit card   Morningside Heights   \n",
       "686   0.00    0.0  23.30  yellow         cash          East Chelsea   \n",
       "4937  2.75    0.0  16.55  yellow  credit card  TriBeCa/Civic Center   \n",
       "2659  0.00    0.0  11.80  yellow         cash         Midtown North   \n",
       "\n",
       "          dropoff_zone pickup_borough dropoff_borough  \n",
       "890           Kips Bay      Manhattan       Manhattan  \n",
       "5870    Manhattanville      Manhattan       Manhattan  \n",
       "686   Manhattan Valley      Manhattan       Manhattan  \n",
       "4937      East Village      Manhattan       Manhattan  \n",
       "2659     Midtown North      Manhattan       Manhattan  "
      ]
     },
     "execution_count": 2,
     "metadata": {},
     "output_type": "execute_result"
    }
   ],
   "source": [
    "df = pd.read_csv(\"../data/taxis.csv\")\n",
    "df = df.sample(frac = 0.1, random_state=10)\n",
    "df.head()"
   ]
  },
  {
   "cell_type": "markdown",
   "metadata": {},
   "source": [
    "The original DataFrame had 6433 rows, so here we check that we got only 10% of the rows (because of `frac=0.1`)."
   ]
  },
  {
   "cell_type": "code",
   "execution_count": 3,
   "metadata": {
    "cell_id": "09e36f20e1a04d45b4389fd87896c305",
    "deepnote_cell_type": "code",
    "deepnote_to_be_reexecuted": false,
    "execution_millis": 1,
    "execution_start": 1681502834083,
    "source_hash": "14f60b8f",
    "tags": []
   },
   "outputs": [
    {
     "data": {
      "text/plain": [
       "(643, 14)"
      ]
     },
     "execution_count": 3,
     "metadata": {},
     "output_type": "execute_result"
    }
   ],
   "source": [
    "df.shape"
   ]
  },
  {
   "cell_type": "markdown",
   "metadata": {},
   "source": [
    "But I actually want all of the rows, so I've just copy-pasted what I have above, but now using `frac=1`.  The only reason we're doing this is so the row integer locations are different from the row index names.  For example the top three rows below have integer location 0, 1, 2, but they have index names 890, 5870, and 686."
   ]
  },
  {
   "cell_type": "code",
   "execution_count": 5,
   "metadata": {
    "cell_id": "abbe4f2428744b7d903a305ff3081bf9",
    "deepnote_cell_type": "code",
    "deepnote_to_be_reexecuted": false,
    "execution_millis": 42,
    "execution_start": 1681502839249,
    "source_hash": "42ecc222",
    "tags": [
     "output_scroll"
    ]
   },
   "outputs": [
    {
     "data": {
      "text/html": [
       "<div>\n",
       "<style scoped>\n",
       "    .dataframe tbody tr th:only-of-type {\n",
       "        vertical-align: middle;\n",
       "    }\n",
       "\n",
       "    .dataframe tbody tr th {\n",
       "        vertical-align: top;\n",
       "    }\n",
       "\n",
       "    .dataframe thead th {\n",
       "        text-align: right;\n",
       "    }\n",
       "</style>\n",
       "<table border=\"1\" class=\"dataframe\">\n",
       "  <thead>\n",
       "    <tr style=\"text-align: right;\">\n",
       "      <th></th>\n",
       "      <th>pickup</th>\n",
       "      <th>dropoff</th>\n",
       "      <th>passengers</th>\n",
       "      <th>distance</th>\n",
       "      <th>fare</th>\n",
       "      <th>tip</th>\n",
       "      <th>tolls</th>\n",
       "      <th>total</th>\n",
       "      <th>color</th>\n",
       "      <th>payment</th>\n",
       "      <th>pickup_zone</th>\n",
       "      <th>dropoff_zone</th>\n",
       "      <th>pickup_borough</th>\n",
       "      <th>dropoff_borough</th>\n",
       "    </tr>\n",
       "  </thead>\n",
       "  <tbody>\n",
       "    <tr>\n",
       "      <th>890</th>\n",
       "      <td>2019-03-09 16:32:40</td>\n",
       "      <td>2019-03-09 16:49:32</td>\n",
       "      <td>2</td>\n",
       "      <td>2.70</td>\n",
       "      <td>13.0</td>\n",
       "      <td>0.00</td>\n",
       "      <td>0.0</td>\n",
       "      <td>16.30</td>\n",
       "      <td>yellow</td>\n",
       "      <td>cash</td>\n",
       "      <td>Midtown North</td>\n",
       "      <td>Kips Bay</td>\n",
       "      <td>Manhattan</td>\n",
       "      <td>Manhattan</td>\n",
       "    </tr>\n",
       "    <tr>\n",
       "      <th>5870</th>\n",
       "      <td>2019-03-26 11:04:06</td>\n",
       "      <td>2019-03-26 11:09:23</td>\n",
       "      <td>1</td>\n",
       "      <td>0.64</td>\n",
       "      <td>5.5</td>\n",
       "      <td>1.26</td>\n",
       "      <td>0.0</td>\n",
       "      <td>7.56</td>\n",
       "      <td>green</td>\n",
       "      <td>credit card</td>\n",
       "      <td>Morningside Heights</td>\n",
       "      <td>Manhattanville</td>\n",
       "      <td>Manhattan</td>\n",
       "      <td>Manhattan</td>\n",
       "    </tr>\n",
       "    <tr>\n",
       "      <th>686</th>\n",
       "      <td>2019-03-27 15:02:00</td>\n",
       "      <td>2019-03-27 15:31:19</td>\n",
       "      <td>1</td>\n",
       "      <td>3.79</td>\n",
       "      <td>20.0</td>\n",
       "      <td>0.00</td>\n",
       "      <td>0.0</td>\n",
       "      <td>23.30</td>\n",
       "      <td>yellow</td>\n",
       "      <td>cash</td>\n",
       "      <td>East Chelsea</td>\n",
       "      <td>Manhattan Valley</td>\n",
       "      <td>Manhattan</td>\n",
       "      <td>Manhattan</td>\n",
       "    </tr>\n",
       "    <tr>\n",
       "      <th>4937</th>\n",
       "      <td>2019-03-02 19:50:23</td>\n",
       "      <td>2019-03-02 20:04:19</td>\n",
       "      <td>2</td>\n",
       "      <td>1.60</td>\n",
       "      <td>10.0</td>\n",
       "      <td>2.75</td>\n",
       "      <td>0.0</td>\n",
       "      <td>16.55</td>\n",
       "      <td>yellow</td>\n",
       "      <td>credit card</td>\n",
       "      <td>TriBeCa/Civic Center</td>\n",
       "      <td>East Village</td>\n",
       "      <td>Manhattan</td>\n",
       "      <td>Manhattan</td>\n",
       "    </tr>\n",
       "    <tr>\n",
       "      <th>2659</th>\n",
       "      <td>2019-03-18 21:36:06</td>\n",
       "      <td>2019-03-18 21:48:31</td>\n",
       "      <td>1</td>\n",
       "      <td>1.10</td>\n",
       "      <td>8.0</td>\n",
       "      <td>0.00</td>\n",
       "      <td>0.0</td>\n",
       "      <td>11.80</td>\n",
       "      <td>yellow</td>\n",
       "      <td>cash</td>\n",
       "      <td>Midtown North</td>\n",
       "      <td>Midtown North</td>\n",
       "      <td>Manhattan</td>\n",
       "      <td>Manhattan</td>\n",
       "    </tr>\n",
       "  </tbody>\n",
       "</table>\n",
       "</div>"
      ],
      "text/plain": [
       "                   pickup              dropoff  passengers  distance  fare  \\\n",
       "890   2019-03-09 16:32:40  2019-03-09 16:49:32           2      2.70  13.0   \n",
       "5870  2019-03-26 11:04:06  2019-03-26 11:09:23           1      0.64   5.5   \n",
       "686   2019-03-27 15:02:00  2019-03-27 15:31:19           1      3.79  20.0   \n",
       "4937  2019-03-02 19:50:23  2019-03-02 20:04:19           2      1.60  10.0   \n",
       "2659  2019-03-18 21:36:06  2019-03-18 21:48:31           1      1.10   8.0   \n",
       "\n",
       "       tip  tolls  total   color      payment           pickup_zone  \\\n",
       "890   0.00    0.0  16.30  yellow         cash         Midtown North   \n",
       "5870  1.26    0.0   7.56   green  credit card   Morningside Heights   \n",
       "686   0.00    0.0  23.30  yellow         cash          East Chelsea   \n",
       "4937  2.75    0.0  16.55  yellow  credit card  TriBeCa/Civic Center   \n",
       "2659  0.00    0.0  11.80  yellow         cash         Midtown North   \n",
       "\n",
       "          dropoff_zone pickup_borough dropoff_borough  \n",
       "890           Kips Bay      Manhattan       Manhattan  \n",
       "5870    Manhattanville      Manhattan       Manhattan  \n",
       "686   Manhattan Valley      Manhattan       Manhattan  \n",
       "4937      East Village      Manhattan       Manhattan  \n",
       "2659     Midtown North      Manhattan       Manhattan  "
      ]
     },
     "execution_count": 5,
     "metadata": {},
     "output_type": "execute_result"
    }
   ],
   "source": [
    "df = pd.read_csv(\"../data/taxis.csv\")\n",
    "df = df.sample(frac = 1, random_state=10)\n",
    "df.head()"
   ]
  },
  {
   "cell_type": "markdown",
   "metadata": {},
   "source": [
    "Let's check that we really are getting all 6433 rows."
   ]
  },
  {
   "cell_type": "code",
   "execution_count": 6,
   "metadata": {
    "cell_id": "bec14595c2f04eb78e9648e57f2abbdb",
    "deepnote_cell_type": "code",
    "deepnote_to_be_reexecuted": false,
    "execution_millis": 2,
    "execution_start": 1681502841470,
    "source_hash": "14f60b8f",
    "tags": []
   },
   "outputs": [
    {
     "data": {
      "text/plain": [
       "(6433, 14)"
      ]
     },
     "execution_count": 6,
     "metadata": {},
     "output_type": "execute_result"
    }
   ],
   "source": [
    "df.shape"
   ]
  },
  {
   "cell_type": "markdown",
   "metadata": {
    "cell_id": "1ecf0068a2b846bfa818286f0a563d43",
    "deepnote_cell_type": "markdown"
   },
   "source": [
    "### Warm-up: What are the integer locations of the \"pickup_zone\" and \"dropoff_zone\" columns?\n",
    "\n",
    "On Wednesday, I counted to get the integer locations.  Here are some better approaches.\n",
    "\n",
    "Here are all the columns.  If you count, you should get that \"pickup_zone\" occurs in integer position 10, and that \"dropoff_zone\" occurs in integer position 11."
   ]
  },
  {
   "cell_type": "code",
   "execution_count": 7,
   "metadata": {
    "cell_id": "3347931f08024b1fa06e106d1a445dba",
    "deepnote_cell_type": "code",
    "deepnote_to_be_reexecuted": false,
    "execution_millis": 17,
    "execution_start": 1681502622613,
    "source_hash": "25d43fa0",
    "tags": []
   },
   "outputs": [
    {
     "data": {
      "text/plain": [
       "Index(['pickup', 'dropoff', 'passengers', 'distance', 'fare', 'tip', 'tolls',\n",
       "       'total', 'color', 'payment', 'pickup_zone', 'dropoff_zone',\n",
       "       'pickup_borough', 'dropoff_borough'],\n",
       "      dtype='object')"
      ]
     },
     "execution_count": 7,
     "metadata": {},
     "output_type": "execute_result"
    }
   ],
   "source": [
    "df.columns"
   ]
  },
  {
   "cell_type": "markdown",
   "metadata": {
    "cell_id": "e7cc7db1f2564a299937ed77f4c18fa2",
    "deepnote_cell_type": "markdown"
   },
   "source": [
    "* Convert to a list and then use the `index` method.\n",
    "\n",
    "This was the first way that came to mind.  Lists in Python have an `index` method for exactly this purpose (getting the integer location of where an element occurs).  The object `df.columns` is not a list though, it is a pandas Index."
   ]
  },
  {
   "cell_type": "code",
   "execution_count": 8,
   "metadata": {
    "cell_id": "3df9b5b6a360480d8a1d43650c634726",
    "deepnote_cell_type": "code",
    "deepnote_to_be_reexecuted": false,
    "execution_millis": 2,
    "execution_start": 1681502642722,
    "source_hash": "8589073d",
    "tags": []
   },
   "outputs": [
    {
     "data": {
      "text/plain": [
       "pandas.core.indexes.base.Index"
      ]
     },
     "execution_count": 8,
     "metadata": {},
     "output_type": "execute_result"
    }
   ],
   "source": [
    "type(df.columns)"
   ]
  },
  {
   "cell_type": "markdown",
   "metadata": {},
   "source": [
    "Here we convert it to a list."
   ]
  },
  {
   "cell_type": "code",
   "execution_count": 9,
   "metadata": {
    "cell_id": "07699fceb71f436ba2b44d9fcdc1cca0",
    "deepnote_cell_type": "code",
    "deepnote_to_be_reexecuted": false,
    "execution_millis": 22,
    "execution_start": 1681502700843,
    "source_hash": "43407147",
    "tags": []
   },
   "outputs": [
    {
     "data": {
      "text/plain": [
       "['pickup',\n",
       " 'dropoff',\n",
       " 'passengers',\n",
       " 'distance',\n",
       " 'fare',\n",
       " 'tip',\n",
       " 'tolls',\n",
       " 'total',\n",
       " 'color',\n",
       " 'payment',\n",
       " 'pickup_zone',\n",
       " 'dropoff_zone',\n",
       " 'pickup_borough',\n",
       " 'dropoff_borough']"
      ]
     },
     "execution_count": 9,
     "metadata": {},
     "output_type": "execute_result"
    }
   ],
   "source": [
    "mylist = list(df.columns)\n",
    "mylist"
   ]
  },
  {
   "cell_type": "markdown",
   "metadata": {},
   "source": [
    "And we check that it is really a list."
   ]
  },
  {
   "cell_type": "code",
   "execution_count": 10,
   "metadata": {
    "cell_id": "cc36c23023164494bd9b2f7df93bfef3",
    "deepnote_cell_type": "code",
    "deepnote_to_be_reexecuted": false,
    "execution_millis": 1,
    "execution_start": 1681502708526,
    "source_hash": "4b438c16",
    "tags": []
   },
   "outputs": [
    {
     "data": {
      "text/plain": [
       "list"
      ]
     },
     "execution_count": 10,
     "metadata": {},
     "output_type": "execute_result"
    }
   ],
   "source": [
    "type(mylist)"
   ]
  },
  {
   "cell_type": "markdown",
   "metadata": {},
   "source": [
    "We can now use the `index` method of a Python list."
   ]
  },
  {
   "cell_type": "code",
   "execution_count": 11,
   "metadata": {
    "cell_id": "460d47672c9c4c0ca2b30b7e8fe39839",
    "deepnote_cell_type": "code",
    "deepnote_to_be_reexecuted": false,
    "execution_millis": 1,
    "execution_start": 1681502751692,
    "source_hash": "27d0bc56",
    "tags": []
   },
   "outputs": [
    {
     "data": {
      "text/plain": [
       "10"
      ]
     },
     "execution_count": 11,
     "metadata": {},
     "output_type": "execute_result"
    }
   ],
   "source": [
    "mylist.index(\"pickup_zone\")"
   ]
  },
  {
   "cell_type": "markdown",
   "metadata": {
    "cell_id": "299e6d5a2ed74fa7b15924527d22a9a9",
    "deepnote_cell_type": "markdown"
   },
   "source": [
    "* Get a Boolean array and then use `np.nonzero` (don't forget to import NumPy before calling `np.nonzero`.)\n",
    "\n",
    "Here is another approach, using the NumPy function `nonzero`.  We first make a Boolean array that is equal to `True` in precisely one position, where the column name is \"pickup_zone\"."
   ]
  },
  {
   "cell_type": "code",
   "execution_count": 12,
   "metadata": {
    "cell_id": "f4888567237843759e0bac4c95f3187e",
    "deepnote_cell_type": "code",
    "deepnote_to_be_reexecuted": false,
    "execution_millis": 32,
    "execution_start": 1681502884895,
    "source_hash": "d399e209",
    "tags": []
   },
   "outputs": [
    {
     "data": {
      "text/plain": [
       "array([False, False, False, False, False, False, False, False, False,\n",
       "       False,  True, False, False, False])"
      ]
     },
     "execution_count": 12,
     "metadata": {},
     "output_type": "execute_result"
    }
   ],
   "source": [
    "df.columns == \"pickup_zone\""
   ]
  },
  {
   "cell_type": "markdown",
   "metadata": {},
   "source": [
    "Even though that last thing is a NumPy array, we have not imported NumPy yet, so if we want to use NumPy functions ourselves, we need to import it. "
   ]
  },
  {
   "cell_type": "code",
   "execution_count": 13,
   "metadata": {
    "cell_id": "52d66b626a0a45fb9592439a06488435",
    "deepnote_cell_type": "code",
    "deepnote_to_be_reexecuted": false,
    "execution_millis": 3,
    "execution_start": 1681502985437,
    "source_hash": "c2602aa8",
    "tags": []
   },
   "outputs": [],
   "source": [
    "import numpy as np"
   ]
  },
  {
   "cell_type": "markdown",
   "metadata": {},
   "source": [
    "The following reports that `10` is the slot where we have a `True`.  It is a little confusing with the parentheses (this is secretly a length 1 tuple).  The reason is that the `nonzero` function works exactly the same with two-dimensional NumPy arrays, and so a tuple is used in case there are extra dimensions.  (If the `True` were in row 10 and column 4, we would see something like `(array([10]), array([4]))`."
   ]
  },
  {
   "cell_type": "code",
   "execution_count": 14,
   "metadata": {
    "cell_id": "9328550ac2444b9084547c5f279f382e",
    "deepnote_cell_type": "code",
    "deepnote_to_be_reexecuted": false,
    "execution_millis": 38,
    "execution_start": 1681502986175,
    "source_hash": "dea413a4",
    "tags": []
   },
   "outputs": [
    {
     "data": {
      "text/plain": [
       "(array([10]),)"
      ]
     },
     "execution_count": 14,
     "metadata": {},
     "output_type": "execute_result"
    }
   ],
   "source": [
    "np.nonzero(df.columns == \"pickup_zone\")"
   ]
  },
  {
   "cell_type": "markdown",
   "metadata": {},
   "source": [
    "An alternative, that has additional functionality, is to use `np.where`.  For our basic example, the output is exactly the same."
   ]
  },
  {
   "cell_type": "code",
   "execution_count": 15,
   "metadata": {
    "cell_id": "fed5e4a45ff54171bf45949336b72f07",
    "deepnote_cell_type": "code",
    "deepnote_to_be_reexecuted": false,
    "execution_millis": 2,
    "execution_start": 1681503056280,
    "source_hash": "995eb7d5",
    "tags": []
   },
   "outputs": [
    {
     "data": {
      "text/plain": [
       "(array([10]),)"
      ]
     },
     "execution_count": 15,
     "metadata": {},
     "output_type": "execute_result"
    }
   ],
   "source": [
    "np.where(df.columns == \"pickup_zone\")"
   ]
  },
  {
   "cell_type": "markdown",
   "metadata": {},
   "source": [
    "Here is an example of the additional functionality.  We put the string `\"Chris\"` everywhere there was a `True` (just one slot), and we put the string `\"Davis\"` everywhere else."
   ]
  },
  {
   "cell_type": "code",
   "execution_count": 16,
   "metadata": {
    "cell_id": "3c1c14a47c3545aea8d47d9f9a23b4da",
    "deepnote_cell_type": "code",
    "deepnote_to_be_reexecuted": false,
    "execution_millis": 1,
    "execution_start": 1681503076019,
    "source_hash": "8c844fcb",
    "tags": []
   },
   "outputs": [
    {
     "data": {
      "text/plain": [
       "array(['Davis', 'Davis', 'Davis', 'Davis', 'Davis', 'Davis', 'Davis',\n",
       "       'Davis', 'Davis', 'Davis', 'Chris', 'Davis', 'Davis', 'Davis'],\n",
       "      dtype='<U5')"
      ]
     },
     "execution_count": 16,
     "metadata": {},
     "output_type": "execute_result"
    }
   ],
   "source": [
    "np.where(df.columns == \"pickup_zone\", \"Chris\", \"Davis\")"
   ]
  },
  {
   "cell_type": "markdown",
   "metadata": {
    "cell_id": "55d3afafe5aa48a7ab2866a8045481cf",
    "deepnote_cell_type": "markdown"
   },
   "source": [
    "* Use the `get_loc` method of a pandas Index.  (Credit: Bing chat.)\n",
    "\n",
    "I didn't know this option before this morning, but it is exactly what we want.  (I don't quite see why it is called `get_loc` rather than `get_iloc`, it seems like we are getting the integer location.)"
   ]
  },
  {
   "cell_type": "code",
   "execution_count": 17,
   "metadata": {
    "cell_id": "f44a5bd9d3a54ad38064304c13d770d5",
    "deepnote_cell_type": "code",
    "deepnote_to_be_reexecuted": false,
    "execution_millis": 9,
    "execution_start": 1681503134006,
    "source_hash": "a51bfcb1",
    "tags": []
   },
   "outputs": [
    {
     "data": {
      "text/plain": [
       "10"
      ]
     },
     "execution_count": 17,
     "metadata": {},
     "output_type": "execute_result"
    }
   ],
   "source": [
    "df.columns.get_loc(\"pickup_zone\")"
   ]
  },
  {
   "cell_type": "markdown",
   "metadata": {
    "cell_id": "7d8b0942ae3d45459a84ad40476503a8",
    "deepnote_cell_type": "markdown"
   },
   "source": [
    "* Use the `get_indexer` method of a pandas Index.  (Credit: Bing chat.)\n",
    "\n",
    "This approach has some extra functionality, because it can get both locations at the same time.  I don't think any of the above approaches can do that, without some additional work."
   ]
  },
  {
   "cell_type": "code",
   "execution_count": 18,
   "metadata": {
    "cell_id": "96968c6938e347518a082471bc3301fc",
    "deepnote_cell_type": "code",
    "deepnote_to_be_reexecuted": false,
    "execution_millis": 1,
    "execution_start": 1681503184174,
    "source_hash": "b0cb56b2",
    "tags": []
   },
   "outputs": [
    {
     "data": {
      "text/plain": [
       "array([10, 11])"
      ]
     },
     "execution_count": 18,
     "metadata": {},
     "output_type": "execute_result"
    }
   ],
   "source": [
    "df.columns.get_indexer([\"pickup_zone\", \"dropoff_zone\"])"
   ]
  },
  {
   "cell_type": "markdown",
   "metadata": {},
   "source": [
    "Here's another reminder of what the columns are."
   ]
  },
  {
   "cell_type": "code",
   "execution_count": 19,
   "metadata": {
    "cell_id": "d62af55945e346b8b6e6c308a322f039",
    "deepnote_cell_type": "code",
    "deepnote_to_be_reexecuted": false,
    "execution_millis": 0,
    "execution_start": 1681503189614,
    "source_hash": "25d43fa0",
    "tags": []
   },
   "outputs": [
    {
     "data": {
      "text/plain": [
       "Index(['pickup', 'dropoff', 'passengers', 'distance', 'fare', 'tip', 'tolls',\n",
       "       'total', 'color', 'payment', 'pickup_zone', 'dropoff_zone',\n",
       "       'pickup_borough', 'dropoff_borough'],\n",
       "      dtype='object')"
      ]
     },
     "execution_count": 19,
     "metadata": {},
     "output_type": "execute_result"
    }
   ],
   "source": [
    "df.columns"
   ]
  },
  {
   "cell_type": "markdown",
   "metadata": {},
   "source": [
    "And a reminder that `df.columns` is a pandas Index (this data type is not as essential to Math 10 as pandas DataFrames and pandas Series)."
   ]
  },
  {
   "cell_type": "code",
   "execution_count": 20,
   "metadata": {
    "cell_id": "4355717f4de34d438d6d2c82c521208b",
    "deepnote_cell_type": "code",
    "deepnote_to_be_reexecuted": false,
    "execution_millis": 1,
    "execution_start": 1681503238340,
    "source_hash": "8589073d",
    "tags": []
   },
   "outputs": [
    {
     "data": {
      "text/plain": [
       "pandas.core.indexes.base.Index"
      ]
     },
     "execution_count": 20,
     "metadata": {},
     "output_type": "execute_result"
    }
   ],
   "source": [
    "type(df.columns)"
   ]
  },
  {
   "cell_type": "markdown",
   "metadata": {},
   "source": [
    "Here is the list version."
   ]
  },
  {
   "cell_type": "code",
   "execution_count": 21,
   "metadata": {
    "cell_id": "725e59adce7f4821b9f08b863aa3c512",
    "deepnote_cell_type": "code",
    "deepnote_to_be_reexecuted": false,
    "execution_millis": 21,
    "execution_start": 1681503247297,
    "source_hash": "1039a82",
    "tags": []
   },
   "outputs": [
    {
     "data": {
      "text/plain": [
       "['pickup',\n",
       " 'dropoff',\n",
       " 'passengers',\n",
       " 'distance',\n",
       " 'fare',\n",
       " 'tip',\n",
       " 'tolls',\n",
       " 'total',\n",
       " 'color',\n",
       " 'payment',\n",
       " 'pickup_zone',\n",
       " 'dropoff_zone',\n",
       " 'pickup_borough',\n",
       " 'dropoff_borough']"
      ]
     },
     "execution_count": 21,
     "metadata": {},
     "output_type": "execute_result"
    }
   ],
   "source": [
    "list(df.columns)"
   ]
  },
  {
   "cell_type": "markdown",
   "metadata": {},
   "source": [
    "Which we saved with the name `mylist`."
   ]
  },
  {
   "cell_type": "code",
   "execution_count": 22,
   "metadata": {
    "cell_id": "3ae0ac4478b141678cd01c6e77ed397b",
    "deepnote_cell_type": "code",
    "deepnote_to_be_reexecuted": false,
    "execution_millis": 1,
    "execution_start": 1681503280901,
    "source_hash": "30034c32",
    "tags": []
   },
   "outputs": [
    {
     "data": {
      "text/plain": [
       "['pickup',\n",
       " 'dropoff',\n",
       " 'passengers',\n",
       " 'distance',\n",
       " 'fare',\n",
       " 'tip',\n",
       " 'tolls',\n",
       " 'total',\n",
       " 'color',\n",
       " 'payment',\n",
       " 'pickup_zone',\n",
       " 'dropoff_zone',\n",
       " 'pickup_borough',\n",
       " 'dropoff_borough']"
      ]
     },
     "execution_count": 22,
     "metadata": {},
     "output_type": "execute_result"
    }
   ],
   "source": [
    "mylist"
   ]
  },
  {
   "cell_type": "code",
   "execution_count": 23,
   "metadata": {
    "cell_id": "362d1886fb814c5781b8563e271ded3b",
    "deepnote_cell_type": "code",
    "deepnote_to_be_reexecuted": false,
    "execution_millis": 1,
    "execution_start": 1681503286041,
    "source_hash": "4b438c16",
    "tags": []
   },
   "outputs": [
    {
     "data": {
      "text/plain": [
       "list"
      ]
     },
     "execution_count": 23,
     "metadata": {},
     "output_type": "execute_result"
    }
   ],
   "source": [
    "type(mylist)"
   ]
  },
  {
   "cell_type": "markdown",
   "metadata": {},
   "source": [
    "Lists in Python can contain anything, including different data types in different positions.  In this case, all of the entries in the list are strings.  Here we check that the entry at index `8` is a string."
   ]
  },
  {
   "cell_type": "code",
   "execution_count": 24,
   "metadata": {
    "cell_id": "da53f075a50942e8b441687e1d6defbc",
    "deepnote_cell_type": "code",
    "deepnote_to_be_reexecuted": false,
    "execution_millis": 7,
    "execution_start": 1681503292931,
    "source_hash": "c9d49a9c",
    "tags": []
   },
   "outputs": [
    {
     "data": {
      "text/plain": [
       "str"
      ]
     },
     "execution_count": 24,
     "metadata": {},
     "output_type": "execute_result"
    }
   ],
   "source": [
    "type(mylist[8])"
   ]
  },
  {
   "cell_type": "markdown",
   "metadata": {
    "cell_id": "7913d987cea24a7f94b4a905e4bd1a80",
    "deepnote_cell_type": "markdown"
   },
   "source": [
    "### Worse approach 1: Using a for loop and `iloc`\n",
    "\n",
    "On Wednesday, we used `str` and `contains` to find the sub-DataFrame containing the rows where both the \"pickup_zone\" and the \"dropoff_zone\" involved an airport.\n",
    "\n",
    "Here we're going to go through the 6433 rows, one at a time.  We will do that by going through the integers from 0 (inclusive) to 6433 (exclusive) one at a time.  We can do that using `for i in range(6433):`.  (In Matlab, we would do something like `for i = 1:6433`.)"
   ]
  },
  {
   "cell_type": "code",
   "execution_count": 25,
   "metadata": {
    "cell_id": "7978b84e814b485184a91a3a3074a8a6",
    "deepnote_cell_type": "code",
    "deepnote_to_be_reexecuted": false,
    "execution_millis": 2,
    "execution_start": 1681503431554,
    "source_hash": "2f88c77a",
    "tags": []
   },
   "outputs": [
    {
     "data": {
      "text/plain": [
       "6433"
      ]
     },
     "execution_count": 25,
     "metadata": {},
     "output_type": "execute_result"
    }
   ],
   "source": [
    "len(df)"
   ]
  },
  {
   "cell_type": "markdown",
   "metadata": {},
   "source": [
    "The logic of the following is pretty good, but in practice it raises an error because some entries are missing."
   ]
  },
  {
   "cell_type": "code",
   "execution_count": 26,
   "metadata": {
    "cell_id": "bbe5424d89dd48379b8e2b63c897fa6e",
    "deepnote_cell_type": "code",
    "deepnote_to_be_reexecuted": false,
    "execution_millis": 3,
    "execution_start": 1681503644181,
    "source_hash": "b4c0c3c3",
    "tags": []
   },
   "outputs": [
    {
     "ename": "TypeError",
     "evalue": "argument of type 'float' is not iterable",
     "output_type": "error",
     "traceback": [
      "\u001b[0;31m---------------------------------------------------------------------------\u001b[0m",
      "\u001b[0;31mTypeError\u001b[0m                                 Traceback (most recent call last)",
      "Cell \u001b[0;32mIn[26], line 6\u001b[0m\n\u001b[1;32m      3\u001b[0m good_inds \u001b[38;5;241m=\u001b[39m []\n\u001b[1;32m      5\u001b[0m \u001b[38;5;28;01mfor\u001b[39;00m i \u001b[38;5;129;01min\u001b[39;00m \u001b[38;5;28mrange\u001b[39m(\u001b[38;5;28mlen\u001b[39m(df)):\n\u001b[0;32m----> 6\u001b[0m     \u001b[38;5;28;01mif\u001b[39;00m (\u001b[38;5;124;43m\"\u001b[39;49m\u001b[38;5;124;43mAirport\u001b[39;49m\u001b[38;5;124;43m\"\u001b[39;49m\u001b[43m \u001b[49m\u001b[38;5;129;43;01min\u001b[39;49;00m\u001b[43m \u001b[49m\u001b[43mdf\u001b[49m\u001b[38;5;241;43m.\u001b[39;49m\u001b[43miloc\u001b[49m\u001b[43m[\u001b[49m\u001b[43mi\u001b[49m\u001b[43m,\u001b[49m\u001b[43m \u001b[49m\u001b[38;5;241;43m10\u001b[39;49m\u001b[43m]\u001b[49m) \u001b[38;5;129;01mand\u001b[39;00m (\u001b[38;5;124m\"\u001b[39m\u001b[38;5;124mAirport\u001b[39m\u001b[38;5;124m\"\u001b[39m \u001b[38;5;129;01min\u001b[39;00m df\u001b[38;5;241m.\u001b[39miloc[i, \u001b[38;5;241m11\u001b[39m]):\n\u001b[1;32m      7\u001b[0m         good_inds\u001b[38;5;241m.\u001b[39mappend(i)\n",
      "\u001b[0;31mTypeError\u001b[0m: argument of type 'float' is not iterable"
     ]
    }
   ],
   "source": [
    "# problem from missing values\n",
    "\n",
    "good_inds = []\n",
    "\n",
    "for i in range(len(df)):\n",
    "    if (\"Airport\" in df.iloc[i, 10]) and (\"Airport\" in df.iloc[i, 11]):\n",
    "        good_inds.append(i)\n"
   ]
  },
  {
   "cell_type": "markdown",
   "metadata": {},
   "source": [
    "Let me try to convince you that error is caused by missing values.  (It's not obvious from the description of the error.)  One way to represent missing values in Python is to use `np.nan` (which stands for \"not a number\")."
   ]
  },
  {
   "cell_type": "code",
   "execution_count": 27,
   "metadata": {
    "cell_id": "d358415b2e114748ae8007a26a16c345",
    "deepnote_cell_type": "code",
    "deepnote_to_be_reexecuted": false,
    "execution_millis": 32,
    "execution_start": 1681503664365,
    "source_hash": "e200addd",
    "tags": []
   },
   "outputs": [
    {
     "data": {
      "text/plain": [
       "nan"
      ]
     },
     "execution_count": 27,
     "metadata": {},
     "output_type": "execute_result"
    }
   ],
   "source": [
    "np.nan"
   ]
  },
  {
   "cell_type": "markdown",
   "metadata": {},
   "source": [
    "If we try to check whether `\"Airport\" in np.nan`, we indeed get the exact same error."
   ]
  },
  {
   "cell_type": "code",
   "execution_count": 28,
   "metadata": {
    "cell_id": "4ec633508b484a30a68576ed369e8be6",
    "deepnote_cell_type": "code",
    "deepnote_to_be_reexecuted": false,
    "execution_millis": 3,
    "execution_start": 1681503676940,
    "source_hash": "16290560",
    "tags": []
   },
   "outputs": [
    {
     "ename": "TypeError",
     "evalue": "argument of type 'float' is not iterable",
     "output_type": "error",
     "traceback": [
      "\u001b[0;31m---------------------------------------------------------------------------\u001b[0m",
      "\u001b[0;31mTypeError\u001b[0m                                 Traceback (most recent call last)",
      "Cell \u001b[0;32mIn[28], line 1\u001b[0m\n\u001b[0;32m----> 1\u001b[0m \u001b[38;5;124;43m\"\u001b[39;49m\u001b[38;5;124;43mAirport\u001b[39;49m\u001b[38;5;124;43m\"\u001b[39;49m\u001b[43m \u001b[49m\u001b[38;5;129;43;01min\u001b[39;49;00m\u001b[43m \u001b[49m\u001b[43mnp\u001b[49m\u001b[38;5;241;43m.\u001b[39;49m\u001b[43mnan\u001b[49m\n",
      "\u001b[0;31mTypeError\u001b[0m: argument of type 'float' is not iterable"
     ]
    }
   ],
   "source": [
    "\"Airport\" in np.nan"
   ]
  },
  {
   "cell_type": "markdown",
   "metadata": {},
   "source": [
    "There are many ways we could get around this (such as by dropping rows with missing values in these columns).  Here we will use a simple approach, of wrapping the whole problematic portion in a `try` block.  The `except TypeError` portion is saying that even if a TypeError is raised, do not stop the execution of the code, instead just continue to the next step in the for loop.\n",
    "\n",
    "One side comment: in Python, it is almost never correct to use the code `range(len(...))`, there is almost always a more elegant way to iterate through the elements directly.\n",
    "\n",
    "Another side comment: We are using `and` instead of `&` in the following, because it is being used with `True` and `False` values directly, rather than with arrays or Series of `True` and `False` values."
   ]
  },
  {
   "cell_type": "code",
   "execution_count": 29,
   "metadata": {
    "cell_id": "4ac2fe11125f4153a8b197aff25b1f91",
    "deepnote_cell_type": "code",
    "deepnote_to_be_reexecuted": false,
    "execution_millis": 96,
    "execution_start": 1681503794697,
    "source_hash": "cfba13d7",
    "tags": []
   },
   "outputs": [
    {
     "data": {
      "text/plain": [
       "[517, 642, 1117, 1239, 1461, 2032, 3576, 3971, 4970, 5417, 5773]"
      ]
     },
     "execution_count": 29,
     "metadata": {},
     "output_type": "execute_result"
    }
   ],
   "source": [
    "good_inds = []\n",
    "\n",
    "for i in range(len(df)):\n",
    "    try:\n",
    "        if (\"Airport\" in df.iloc[i, 10]) and (\"Airport\" in df.iloc[i, 11]):\n",
    "            good_inds.append(i)\n",
    "    except TypeError:\n",
    "        continue\n",
    "\n",
    "good_inds"
   ]
  },
  {
   "cell_type": "markdown",
   "metadata": {},
   "source": [
    "This `good_inds` list contains integer locations, so it should be used together with `iloc`.  We can get all of these rows by passing this list to `iloc`, as in the following.  (For future reference, notice how the numbers appearing on the left side are not the same as 517, 642, etc.)\n",
    "\n",
    "Be sure to scroll to the right and convince yourself that this sub-DataFrame does indeed correspond to the rows where \"Airport\" appears in both the \"pickup_zone\" and the \"dropoff_zone\" columns."
   ]
  },
  {
   "cell_type": "code",
   "execution_count": 30,
   "metadata": {
    "cell_id": "5c7e3929a61c426ab3b66f27a759d757",
    "deepnote_cell_type": "code",
    "deepnote_to_be_reexecuted": false,
    "execution_millis": 30,
    "execution_start": 1681503854164,
    "source_hash": "b81e7c7f",
    "tags": [
     "output_scroll"
    ]
   },
   "outputs": [
    {
     "data": {
      "text/html": [
       "<div>\n",
       "<style scoped>\n",
       "    .dataframe tbody tr th:only-of-type {\n",
       "        vertical-align: middle;\n",
       "    }\n",
       "\n",
       "    .dataframe tbody tr th {\n",
       "        vertical-align: top;\n",
       "    }\n",
       "\n",
       "    .dataframe thead th {\n",
       "        text-align: right;\n",
       "    }\n",
       "</style>\n",
       "<table border=\"1\" class=\"dataframe\">\n",
       "  <thead>\n",
       "    <tr style=\"text-align: right;\">\n",
       "      <th></th>\n",
       "      <th>pickup</th>\n",
       "      <th>dropoff</th>\n",
       "      <th>passengers</th>\n",
       "      <th>distance</th>\n",
       "      <th>fare</th>\n",
       "      <th>tip</th>\n",
       "      <th>tolls</th>\n",
       "      <th>total</th>\n",
       "      <th>color</th>\n",
       "      <th>payment</th>\n",
       "      <th>pickup_zone</th>\n",
       "      <th>dropoff_zone</th>\n",
       "      <th>pickup_borough</th>\n",
       "      <th>dropoff_borough</th>\n",
       "    </tr>\n",
       "  </thead>\n",
       "  <tbody>\n",
       "    <tr>\n",
       "      <th>2387</th>\n",
       "      <td>2019-03-28 15:58:52</td>\n",
       "      <td>2019-03-28 15:59:25</td>\n",
       "      <td>1</td>\n",
       "      <td>1.80</td>\n",
       "      <td>69.06</td>\n",
       "      <td>20.80</td>\n",
       "      <td>0.00</td>\n",
       "      <td>90.16</td>\n",
       "      <td>yellow</td>\n",
       "      <td>credit card</td>\n",
       "      <td>JFK Airport</td>\n",
       "      <td>JFK Airport</td>\n",
       "      <td>Queens</td>\n",
       "      <td>Queens</td>\n",
       "    </tr>\n",
       "    <tr>\n",
       "      <th>1080</th>\n",
       "      <td>2019-03-04 14:17:05</td>\n",
       "      <td>2019-03-04 14:17:13</td>\n",
       "      <td>1</td>\n",
       "      <td>0.00</td>\n",
       "      <td>2.50</td>\n",
       "      <td>0.00</td>\n",
       "      <td>0.00</td>\n",
       "      <td>3.30</td>\n",
       "      <td>yellow</td>\n",
       "      <td>cash</td>\n",
       "      <td>JFK Airport</td>\n",
       "      <td>JFK Airport</td>\n",
       "      <td>Queens</td>\n",
       "      <td>Queens</td>\n",
       "    </tr>\n",
       "    <tr>\n",
       "      <th>120</th>\n",
       "      <td>2019-03-21 17:21:44</td>\n",
       "      <td>2019-03-21 17:21:49</td>\n",
       "      <td>1</td>\n",
       "      <td>0.00</td>\n",
       "      <td>2.50</td>\n",
       "      <td>0.00</td>\n",
       "      <td>0.00</td>\n",
       "      <td>4.30</td>\n",
       "      <td>yellow</td>\n",
       "      <td>cash</td>\n",
       "      <td>JFK Airport</td>\n",
       "      <td>JFK Airport</td>\n",
       "      <td>Queens</td>\n",
       "      <td>Queens</td>\n",
       "    </tr>\n",
       "    <tr>\n",
       "      <th>5364</th>\n",
       "      <td>2019-03-17 16:59:17</td>\n",
       "      <td>2019-03-17 18:04:08</td>\n",
       "      <td>2</td>\n",
       "      <td>36.70</td>\n",
       "      <td>150.00</td>\n",
       "      <td>0.00</td>\n",
       "      <td>24.02</td>\n",
       "      <td>174.82</td>\n",
       "      <td>yellow</td>\n",
       "      <td>cash</td>\n",
       "      <td>JFK Airport</td>\n",
       "      <td>JFK Airport</td>\n",
       "      <td>Queens</td>\n",
       "      <td>Queens</td>\n",
       "    </tr>\n",
       "    <tr>\n",
       "      <th>1929</th>\n",
       "      <td>2019-03-13 22:35:35</td>\n",
       "      <td>2019-03-13 22:35:49</td>\n",
       "      <td>1</td>\n",
       "      <td>0.00</td>\n",
       "      <td>2.50</td>\n",
       "      <td>0.00</td>\n",
       "      <td>0.00</td>\n",
       "      <td>3.80</td>\n",
       "      <td>yellow</td>\n",
       "      <td>NaN</td>\n",
       "      <td>JFK Airport</td>\n",
       "      <td>JFK Airport</td>\n",
       "      <td>Queens</td>\n",
       "      <td>Queens</td>\n",
       "    </tr>\n",
       "    <tr>\n",
       "      <th>3571</th>\n",
       "      <td>2019-03-22 16:47:41</td>\n",
       "      <td>2019-03-22 16:47:50</td>\n",
       "      <td>1</td>\n",
       "      <td>0.81</td>\n",
       "      <td>66.00</td>\n",
       "      <td>0.00</td>\n",
       "      <td>0.00</td>\n",
       "      <td>66.80</td>\n",
       "      <td>yellow</td>\n",
       "      <td>credit card</td>\n",
       "      <td>JFK Airport</td>\n",
       "      <td>JFK Airport</td>\n",
       "      <td>Queens</td>\n",
       "      <td>Queens</td>\n",
       "    </tr>\n",
       "    <tr>\n",
       "      <th>1416</th>\n",
       "      <td>2019-03-09 13:16:32</td>\n",
       "      <td>2019-03-09 13:46:11</td>\n",
       "      <td>2</td>\n",
       "      <td>12.39</td>\n",
       "      <td>35.00</td>\n",
       "      <td>0.00</td>\n",
       "      <td>0.00</td>\n",
       "      <td>35.80</td>\n",
       "      <td>yellow</td>\n",
       "      <td>cash</td>\n",
       "      <td>LaGuardia Airport</td>\n",
       "      <td>JFK Airport</td>\n",
       "      <td>Queens</td>\n",
       "      <td>Queens</td>\n",
       "    </tr>\n",
       "    <tr>\n",
       "      <th>4358</th>\n",
       "      <td>2019-03-06 18:24:00</td>\n",
       "      <td>2019-03-06 18:24:13</td>\n",
       "      <td>2</td>\n",
       "      <td>0.01</td>\n",
       "      <td>2.50</td>\n",
       "      <td>0.00</td>\n",
       "      <td>0.00</td>\n",
       "      <td>4.30</td>\n",
       "      <td>yellow</td>\n",
       "      <td>cash</td>\n",
       "      <td>JFK Airport</td>\n",
       "      <td>JFK Airport</td>\n",
       "      <td>Queens</td>\n",
       "      <td>Queens</td>\n",
       "    </tr>\n",
       "    <tr>\n",
       "      <th>1089</th>\n",
       "      <td>2019-03-10 01:43:32</td>\n",
       "      <td>2019-03-10 01:45:22</td>\n",
       "      <td>1</td>\n",
       "      <td>0.37</td>\n",
       "      <td>3.50</td>\n",
       "      <td>0.00</td>\n",
       "      <td>0.00</td>\n",
       "      <td>4.80</td>\n",
       "      <td>yellow</td>\n",
       "      <td>cash</td>\n",
       "      <td>JFK Airport</td>\n",
       "      <td>JFK Airport</td>\n",
       "      <td>Queens</td>\n",
       "      <td>Queens</td>\n",
       "    </tr>\n",
       "    <tr>\n",
       "      <th>5095</th>\n",
       "      <td>2019-03-30 20:14:44</td>\n",
       "      <td>2019-03-30 21:01:28</td>\n",
       "      <td>3</td>\n",
       "      <td>18.91</td>\n",
       "      <td>52.00</td>\n",
       "      <td>8.78</td>\n",
       "      <td>5.76</td>\n",
       "      <td>67.34</td>\n",
       "      <td>yellow</td>\n",
       "      <td>credit card</td>\n",
       "      <td>JFK Airport</td>\n",
       "      <td>JFK Airport</td>\n",
       "      <td>Queens</td>\n",
       "      <td>Queens</td>\n",
       "    </tr>\n",
       "    <tr>\n",
       "      <th>770</th>\n",
       "      <td>2019-03-02 03:16:59</td>\n",
       "      <td>2019-03-02 03:17:06</td>\n",
       "      <td>0</td>\n",
       "      <td>9.40</td>\n",
       "      <td>2.50</td>\n",
       "      <td>0.00</td>\n",
       "      <td>0.00</td>\n",
       "      <td>3.80</td>\n",
       "      <td>yellow</td>\n",
       "      <td>NaN</td>\n",
       "      <td>JFK Airport</td>\n",
       "      <td>JFK Airport</td>\n",
       "      <td>Queens</td>\n",
       "      <td>Queens</td>\n",
       "    </tr>\n",
       "  </tbody>\n",
       "</table>\n",
       "</div>"
      ],
      "text/plain": [
       "                   pickup              dropoff  passengers  distance    fare  \\\n",
       "2387  2019-03-28 15:58:52  2019-03-28 15:59:25           1      1.80   69.06   \n",
       "1080  2019-03-04 14:17:05  2019-03-04 14:17:13           1      0.00    2.50   \n",
       "120   2019-03-21 17:21:44  2019-03-21 17:21:49           1      0.00    2.50   \n",
       "5364  2019-03-17 16:59:17  2019-03-17 18:04:08           2     36.70  150.00   \n",
       "1929  2019-03-13 22:35:35  2019-03-13 22:35:49           1      0.00    2.50   \n",
       "3571  2019-03-22 16:47:41  2019-03-22 16:47:50           1      0.81   66.00   \n",
       "1416  2019-03-09 13:16:32  2019-03-09 13:46:11           2     12.39   35.00   \n",
       "4358  2019-03-06 18:24:00  2019-03-06 18:24:13           2      0.01    2.50   \n",
       "1089  2019-03-10 01:43:32  2019-03-10 01:45:22           1      0.37    3.50   \n",
       "5095  2019-03-30 20:14:44  2019-03-30 21:01:28           3     18.91   52.00   \n",
       "770   2019-03-02 03:16:59  2019-03-02 03:17:06           0      9.40    2.50   \n",
       "\n",
       "        tip  tolls   total   color      payment        pickup_zone  \\\n",
       "2387  20.80   0.00   90.16  yellow  credit card        JFK Airport   \n",
       "1080   0.00   0.00    3.30  yellow         cash        JFK Airport   \n",
       "120    0.00   0.00    4.30  yellow         cash        JFK Airport   \n",
       "5364   0.00  24.02  174.82  yellow         cash        JFK Airport   \n",
       "1929   0.00   0.00    3.80  yellow          NaN        JFK Airport   \n",
       "3571   0.00   0.00   66.80  yellow  credit card        JFK Airport   \n",
       "1416   0.00   0.00   35.80  yellow         cash  LaGuardia Airport   \n",
       "4358   0.00   0.00    4.30  yellow         cash        JFK Airport   \n",
       "1089   0.00   0.00    4.80  yellow         cash        JFK Airport   \n",
       "5095   8.78   5.76   67.34  yellow  credit card        JFK Airport   \n",
       "770    0.00   0.00    3.80  yellow          NaN        JFK Airport   \n",
       "\n",
       "     dropoff_zone pickup_borough dropoff_borough  \n",
       "2387  JFK Airport         Queens          Queens  \n",
       "1080  JFK Airport         Queens          Queens  \n",
       "120   JFK Airport         Queens          Queens  \n",
       "5364  JFK Airport         Queens          Queens  \n",
       "1929  JFK Airport         Queens          Queens  \n",
       "3571  JFK Airport         Queens          Queens  \n",
       "1416  JFK Airport         Queens          Queens  \n",
       "4358  JFK Airport         Queens          Queens  \n",
       "1089  JFK Airport         Queens          Queens  \n",
       "5095  JFK Airport         Queens          Queens  \n",
       "770   JFK Airport         Queens          Queens  "
      ]
     },
     "execution_count": 30,
     "metadata": {},
     "output_type": "execute_result"
    }
   ],
   "source": [
    "df.iloc[good_inds]"
   ]
  },
  {
   "cell_type": "markdown",
   "metadata": {},
   "source": [
    "If we try to use this without the `iloc`, pandas will try to find columns with these names (not integer positions), and we get an error."
   ]
  },
  {
   "cell_type": "code",
   "execution_count": 31,
   "metadata": {
    "cell_id": "dfd113b03ec34545892190daae7a29ab",
    "deepnote_cell_type": "code",
    "deepnote_to_be_reexecuted": false,
    "execution_millis": 992,
    "execution_start": 1681503944719,
    "source_hash": "83b279a7",
    "tags": [
     "output_scroll"
    ]
   },
   "outputs": [
    {
     "ename": "KeyError",
     "evalue": "\"None of [Int64Index([517, 642, 1117, 1239, 1461, 2032, 3576, 3971, 4970, 5417, 5773], dtype='int64')] are in the [columns]\"",
     "output_type": "error",
     "traceback": [
      "\u001b[0;31m---------------------------------------------------------------------------\u001b[0m",
      "\u001b[0;31mKeyError\u001b[0m                                  Traceback (most recent call last)",
      "Cell \u001b[0;32mIn[31], line 1\u001b[0m\n\u001b[0;32m----> 1\u001b[0m \u001b[43mdf\u001b[49m\u001b[43m[\u001b[49m\u001b[43mgood_inds\u001b[49m\u001b[43m]\u001b[49m\n",
      "File \u001b[0;32m~/mambaforge/envs/math10s23/lib/python3.9/site-packages/pandas/core/frame.py:3813\u001b[0m, in \u001b[0;36mDataFrame.__getitem__\u001b[0;34m(self, key)\u001b[0m\n\u001b[1;32m   3811\u001b[0m     \u001b[38;5;28;01mif\u001b[39;00m is_iterator(key):\n\u001b[1;32m   3812\u001b[0m         key \u001b[38;5;241m=\u001b[39m \u001b[38;5;28mlist\u001b[39m(key)\n\u001b[0;32m-> 3813\u001b[0m     indexer \u001b[38;5;241m=\u001b[39m \u001b[38;5;28;43mself\u001b[39;49m\u001b[38;5;241;43m.\u001b[39;49m\u001b[43mcolumns\u001b[49m\u001b[38;5;241;43m.\u001b[39;49m\u001b[43m_get_indexer_strict\u001b[49m\u001b[43m(\u001b[49m\u001b[43mkey\u001b[49m\u001b[43m,\u001b[49m\u001b[43m \u001b[49m\u001b[38;5;124;43m\"\u001b[39;49m\u001b[38;5;124;43mcolumns\u001b[39;49m\u001b[38;5;124;43m\"\u001b[39;49m\u001b[43m)\u001b[49m[\u001b[38;5;241m1\u001b[39m]\n\u001b[1;32m   3815\u001b[0m \u001b[38;5;66;03m# take() does not accept boolean indexers\u001b[39;00m\n\u001b[1;32m   3816\u001b[0m \u001b[38;5;28;01mif\u001b[39;00m \u001b[38;5;28mgetattr\u001b[39m(indexer, \u001b[38;5;124m\"\u001b[39m\u001b[38;5;124mdtype\u001b[39m\u001b[38;5;124m\"\u001b[39m, \u001b[38;5;28;01mNone\u001b[39;00m) \u001b[38;5;241m==\u001b[39m \u001b[38;5;28mbool\u001b[39m:\n",
      "File \u001b[0;32m~/mambaforge/envs/math10s23/lib/python3.9/site-packages/pandas/core/indexes/base.py:6070\u001b[0m, in \u001b[0;36mIndex._get_indexer_strict\u001b[0;34m(self, key, axis_name)\u001b[0m\n\u001b[1;32m   6067\u001b[0m \u001b[38;5;28;01melse\u001b[39;00m:\n\u001b[1;32m   6068\u001b[0m     keyarr, indexer, new_indexer \u001b[38;5;241m=\u001b[39m \u001b[38;5;28mself\u001b[39m\u001b[38;5;241m.\u001b[39m_reindex_non_unique(keyarr)\n\u001b[0;32m-> 6070\u001b[0m \u001b[38;5;28;43mself\u001b[39;49m\u001b[38;5;241;43m.\u001b[39;49m\u001b[43m_raise_if_missing\u001b[49m\u001b[43m(\u001b[49m\u001b[43mkeyarr\u001b[49m\u001b[43m,\u001b[49m\u001b[43m \u001b[49m\u001b[43mindexer\u001b[49m\u001b[43m,\u001b[49m\u001b[43m \u001b[49m\u001b[43maxis_name\u001b[49m\u001b[43m)\u001b[49m\n\u001b[1;32m   6072\u001b[0m keyarr \u001b[38;5;241m=\u001b[39m \u001b[38;5;28mself\u001b[39m\u001b[38;5;241m.\u001b[39mtake(indexer)\n\u001b[1;32m   6073\u001b[0m \u001b[38;5;28;01mif\u001b[39;00m \u001b[38;5;28misinstance\u001b[39m(key, Index):\n\u001b[1;32m   6074\u001b[0m     \u001b[38;5;66;03m# GH 42790 - Preserve name from an Index\u001b[39;00m\n",
      "File \u001b[0;32m~/mambaforge/envs/math10s23/lib/python3.9/site-packages/pandas/core/indexes/base.py:6130\u001b[0m, in \u001b[0;36mIndex._raise_if_missing\u001b[0;34m(self, key, indexer, axis_name)\u001b[0m\n\u001b[1;32m   6128\u001b[0m     \u001b[38;5;28;01mif\u001b[39;00m use_interval_msg:\n\u001b[1;32m   6129\u001b[0m         key \u001b[38;5;241m=\u001b[39m \u001b[38;5;28mlist\u001b[39m(key)\n\u001b[0;32m-> 6130\u001b[0m     \u001b[38;5;28;01mraise\u001b[39;00m \u001b[38;5;167;01mKeyError\u001b[39;00m(\u001b[38;5;124mf\u001b[39m\u001b[38;5;124m\"\u001b[39m\u001b[38;5;124mNone of [\u001b[39m\u001b[38;5;132;01m{\u001b[39;00mkey\u001b[38;5;132;01m}\u001b[39;00m\u001b[38;5;124m] are in the [\u001b[39m\u001b[38;5;132;01m{\u001b[39;00maxis_name\u001b[38;5;132;01m}\u001b[39;00m\u001b[38;5;124m]\u001b[39m\u001b[38;5;124m\"\u001b[39m)\n\u001b[1;32m   6132\u001b[0m not_found \u001b[38;5;241m=\u001b[39m \u001b[38;5;28mlist\u001b[39m(ensure_index(key)[missing_mask\u001b[38;5;241m.\u001b[39mnonzero()[\u001b[38;5;241m0\u001b[39m]]\u001b[38;5;241m.\u001b[39munique())\n\u001b[1;32m   6133\u001b[0m \u001b[38;5;28;01mraise\u001b[39;00m \u001b[38;5;167;01mKeyError\u001b[39;00m(\u001b[38;5;124mf\u001b[39m\u001b[38;5;124m\"\u001b[39m\u001b[38;5;132;01m{\u001b[39;00mnot_found\u001b[38;5;132;01m}\u001b[39;00m\u001b[38;5;124m not in index\u001b[39m\u001b[38;5;124m\"\u001b[39m)\n",
      "\u001b[0;31mKeyError\u001b[0m: \"None of [Int64Index([517, 642, 1117, 1239, 1461, 2032, 3576, 3971, 4970, 5417, 5773], dtype='int64')] are in the [columns]\""
     ]
    }
   ],
   "source": [
    "df[good_inds]"
   ]
  },
  {
   "cell_type": "markdown",
   "metadata": {
    "cell_id": "378dbd9a234642ea8533067f4845915c",
    "deepnote_cell_type": "markdown"
   },
   "source": [
    "### Worse approach 2: Using a for loop and `loc`\n",
    "\n",
    "Before using this approach, we should make sure there aren't any repetitions in the index.  In most natural examples, the elements in the index will be unique, but that's not a requirement.\n",
    "\n",
    "The attribute `df.index` holds these numbers listed on the left-hand side."
   ]
  },
  {
   "cell_type": "code",
   "execution_count": 32,
   "metadata": {
    "cell_id": "e7d36ee511c24427b8875d79eeafb352",
    "deepnote_cell_type": "code",
    "deepnote_to_be_reexecuted": false,
    "execution_millis": 0,
    "execution_start": 1681504111517,
    "source_hash": "145a8146",
    "tags": []
   },
   "outputs": [
    {
     "data": {
      "text/plain": [
       "Int64Index([890, 5870, 686, 4937, 2659], dtype='int64')"
      ]
     },
     "execution_count": 32,
     "metadata": {},
     "output_type": "execute_result"
    }
   ],
   "source": [
    "df.index[:5]"
   ]
  },
  {
   "cell_type": "markdown",
   "metadata": {},
   "source": [
    "Notice how those same numbers 890, 5870, etc appear on the left."
   ]
  },
  {
   "cell_type": "code",
   "execution_count": 33,
   "metadata": {
    "cell_id": "13d922d668ab4d5cb2f66bd7b19e8a3e",
    "deepnote_cell_type": "code",
    "deepnote_to_be_reexecuted": false,
    "execution_millis": 2,
    "execution_start": 1681504116148,
    "source_hash": "c085b6ba",
    "tags": [
     "output_scroll"
    ]
   },
   "outputs": [
    {
     "data": {
      "text/html": [
       "<div>\n",
       "<style scoped>\n",
       "    .dataframe tbody tr th:only-of-type {\n",
       "        vertical-align: middle;\n",
       "    }\n",
       "\n",
       "    .dataframe tbody tr th {\n",
       "        vertical-align: top;\n",
       "    }\n",
       "\n",
       "    .dataframe thead th {\n",
       "        text-align: right;\n",
       "    }\n",
       "</style>\n",
       "<table border=\"1\" class=\"dataframe\">\n",
       "  <thead>\n",
       "    <tr style=\"text-align: right;\">\n",
       "      <th></th>\n",
       "      <th>pickup</th>\n",
       "      <th>dropoff</th>\n",
       "      <th>passengers</th>\n",
       "      <th>distance</th>\n",
       "      <th>fare</th>\n",
       "      <th>tip</th>\n",
       "      <th>tolls</th>\n",
       "      <th>total</th>\n",
       "      <th>color</th>\n",
       "      <th>payment</th>\n",
       "      <th>pickup_zone</th>\n",
       "      <th>dropoff_zone</th>\n",
       "      <th>pickup_borough</th>\n",
       "      <th>dropoff_borough</th>\n",
       "    </tr>\n",
       "  </thead>\n",
       "  <tbody>\n",
       "    <tr>\n",
       "      <th>890</th>\n",
       "      <td>2019-03-09 16:32:40</td>\n",
       "      <td>2019-03-09 16:49:32</td>\n",
       "      <td>2</td>\n",
       "      <td>2.70</td>\n",
       "      <td>13.0</td>\n",
       "      <td>0.00</td>\n",
       "      <td>0.0</td>\n",
       "      <td>16.30</td>\n",
       "      <td>yellow</td>\n",
       "      <td>cash</td>\n",
       "      <td>Midtown North</td>\n",
       "      <td>Kips Bay</td>\n",
       "      <td>Manhattan</td>\n",
       "      <td>Manhattan</td>\n",
       "    </tr>\n",
       "    <tr>\n",
       "      <th>5870</th>\n",
       "      <td>2019-03-26 11:04:06</td>\n",
       "      <td>2019-03-26 11:09:23</td>\n",
       "      <td>1</td>\n",
       "      <td>0.64</td>\n",
       "      <td>5.5</td>\n",
       "      <td>1.26</td>\n",
       "      <td>0.0</td>\n",
       "      <td>7.56</td>\n",
       "      <td>green</td>\n",
       "      <td>credit card</td>\n",
       "      <td>Morningside Heights</td>\n",
       "      <td>Manhattanville</td>\n",
       "      <td>Manhattan</td>\n",
       "      <td>Manhattan</td>\n",
       "    </tr>\n",
       "    <tr>\n",
       "      <th>686</th>\n",
       "      <td>2019-03-27 15:02:00</td>\n",
       "      <td>2019-03-27 15:31:19</td>\n",
       "      <td>1</td>\n",
       "      <td>3.79</td>\n",
       "      <td>20.0</td>\n",
       "      <td>0.00</td>\n",
       "      <td>0.0</td>\n",
       "      <td>23.30</td>\n",
       "      <td>yellow</td>\n",
       "      <td>cash</td>\n",
       "      <td>East Chelsea</td>\n",
       "      <td>Manhattan Valley</td>\n",
       "      <td>Manhattan</td>\n",
       "      <td>Manhattan</td>\n",
       "    </tr>\n",
       "    <tr>\n",
       "      <th>4937</th>\n",
       "      <td>2019-03-02 19:50:23</td>\n",
       "      <td>2019-03-02 20:04:19</td>\n",
       "      <td>2</td>\n",
       "      <td>1.60</td>\n",
       "      <td>10.0</td>\n",
       "      <td>2.75</td>\n",
       "      <td>0.0</td>\n",
       "      <td>16.55</td>\n",
       "      <td>yellow</td>\n",
       "      <td>credit card</td>\n",
       "      <td>TriBeCa/Civic Center</td>\n",
       "      <td>East Village</td>\n",
       "      <td>Manhattan</td>\n",
       "      <td>Manhattan</td>\n",
       "    </tr>\n",
       "    <tr>\n",
       "      <th>2659</th>\n",
       "      <td>2019-03-18 21:36:06</td>\n",
       "      <td>2019-03-18 21:48:31</td>\n",
       "      <td>1</td>\n",
       "      <td>1.10</td>\n",
       "      <td>8.0</td>\n",
       "      <td>0.00</td>\n",
       "      <td>0.0</td>\n",
       "      <td>11.80</td>\n",
       "      <td>yellow</td>\n",
       "      <td>cash</td>\n",
       "      <td>Midtown North</td>\n",
       "      <td>Midtown North</td>\n",
       "      <td>Manhattan</td>\n",
       "      <td>Manhattan</td>\n",
       "    </tr>\n",
       "  </tbody>\n",
       "</table>\n",
       "</div>"
      ],
      "text/plain": [
       "                   pickup              dropoff  passengers  distance  fare  \\\n",
       "890   2019-03-09 16:32:40  2019-03-09 16:49:32           2      2.70  13.0   \n",
       "5870  2019-03-26 11:04:06  2019-03-26 11:09:23           1      0.64   5.5   \n",
       "686   2019-03-27 15:02:00  2019-03-27 15:31:19           1      3.79  20.0   \n",
       "4937  2019-03-02 19:50:23  2019-03-02 20:04:19           2      1.60  10.0   \n",
       "2659  2019-03-18 21:36:06  2019-03-18 21:48:31           1      1.10   8.0   \n",
       "\n",
       "       tip  tolls  total   color      payment           pickup_zone  \\\n",
       "890   0.00    0.0  16.30  yellow         cash         Midtown North   \n",
       "5870  1.26    0.0   7.56   green  credit card   Morningside Heights   \n",
       "686   0.00    0.0  23.30  yellow         cash          East Chelsea   \n",
       "4937  2.75    0.0  16.55  yellow  credit card  TriBeCa/Civic Center   \n",
       "2659  0.00    0.0  11.80  yellow         cash         Midtown North   \n",
       "\n",
       "          dropoff_zone pickup_borough dropoff_borough  \n",
       "890           Kips Bay      Manhattan       Manhattan  \n",
       "5870    Manhattanville      Manhattan       Manhattan  \n",
       "686   Manhattan Valley      Manhattan       Manhattan  \n",
       "4937      East Village      Manhattan       Manhattan  \n",
       "2659     Midtown North      Manhattan       Manhattan  "
      ]
     },
     "execution_count": 33,
     "metadata": {},
     "output_type": "execute_result"
    }
   ],
   "source": [
    "df.head()"
   ]
  },
  {
   "cell_type": "markdown",
   "metadata": {},
   "source": [
    "Here we make sure no two rows have the same name.  (I can never remember that this is an attribute rather than a method, and I definitely don't expect you to remember it.)"
   ]
  },
  {
   "cell_type": "code",
   "execution_count": 34,
   "metadata": {
    "cell_id": "a219b96f5b7e4c4faa0c24e84205555c",
    "deepnote_cell_type": "code",
    "deepnote_to_be_reexecuted": false,
    "execution_millis": 1,
    "execution_start": 1681504083618,
    "source_hash": "6cfa8a0e",
    "tags": []
   },
   "outputs": [
    {
     "data": {
      "text/plain": [
       "True"
      ]
     },
     "execution_count": 34,
     "metadata": {},
     "output_type": "execute_result"
    }
   ],
   "source": [
    "# checks if two rows have the same name\n",
    "df.index.is_unique"
   ]
  },
  {
   "cell_type": "markdown",
   "metadata": {},
   "source": [
    "We can now adapt the `iloc` code above.  There are a few changes to make.  We change the `range(len(df))` to `df.index`.  (This `df.index` is definitely more elegant.)  We also change from `iloc` to `loc`, because we are now iterating through the row names.  Lastly, because we are using `loc`, we need to change the integers `10` and `11` to the column names \"pickup_zone\" and \"dropoff_zone\"."
   ]
  },
  {
   "cell_type": "code",
   "execution_count": 36,
   "metadata": {
    "cell_id": "0bdd7aef7a8a4349a84166b3c6c9b67d",
    "deepnote_cell_type": "code",
    "deepnote_to_be_reexecuted": false,
    "execution_millis": 35,
    "execution_start": 1681504292232,
    "source_hash": "5797a240",
    "tags": [
     "output_scroll"
    ]
   },
   "outputs": [
    {
     "data": {
      "text/plain": [
       "[2387, 1080, 120, 5364, 1929, 3571, 1416, 4358, 1089, 5095, 770]"
      ]
     },
     "execution_count": 36,
     "metadata": {},
     "output_type": "execute_result"
    }
   ],
   "source": [
    "good_inds = []\n",
    "\n",
    "for i in df.index:\n",
    "    try:\n",
    "        if (\"Airport\" in df.loc[i, \"pickup_zone\"]) and (\"Airport\" in df.loc[i, \"dropoff_zone\"]):\n",
    "            good_inds.append(i)\n",
    "    except TypeError:\n",
    "        continue\n",
    "\n",
    "good_inds"
   ]
  },
  {
   "cell_type": "markdown",
   "metadata": {},
   "source": [
    "We can now get the same sub-DataFrame we found above (and that we found on Wednesday) using `df.loc` and this new list.  Notice how the integers in `good_inds` now do appear on the left side.  (That wasn't the case above with `iloc`.)"
   ]
  },
  {
   "cell_type": "code",
   "execution_count": 37,
   "metadata": {
    "cell_id": "9f799cdc456a4769aa78499dbb65fead",
    "deepnote_cell_type": "code",
    "deepnote_to_be_reexecuted": false,
    "execution_millis": 63,
    "execution_start": 1681504332422,
    "source_hash": "d5cd54fc",
    "tags": [
     "output_scroll"
    ]
   },
   "outputs": [
    {
     "data": {
      "text/html": [
       "<div>\n",
       "<style scoped>\n",
       "    .dataframe tbody tr th:only-of-type {\n",
       "        vertical-align: middle;\n",
       "    }\n",
       "\n",
       "    .dataframe tbody tr th {\n",
       "        vertical-align: top;\n",
       "    }\n",
       "\n",
       "    .dataframe thead th {\n",
       "        text-align: right;\n",
       "    }\n",
       "</style>\n",
       "<table border=\"1\" class=\"dataframe\">\n",
       "  <thead>\n",
       "    <tr style=\"text-align: right;\">\n",
       "      <th></th>\n",
       "      <th>pickup</th>\n",
       "      <th>dropoff</th>\n",
       "      <th>passengers</th>\n",
       "      <th>distance</th>\n",
       "      <th>fare</th>\n",
       "      <th>tip</th>\n",
       "      <th>tolls</th>\n",
       "      <th>total</th>\n",
       "      <th>color</th>\n",
       "      <th>payment</th>\n",
       "      <th>pickup_zone</th>\n",
       "      <th>dropoff_zone</th>\n",
       "      <th>pickup_borough</th>\n",
       "      <th>dropoff_borough</th>\n",
       "    </tr>\n",
       "  </thead>\n",
       "  <tbody>\n",
       "    <tr>\n",
       "      <th>2387</th>\n",
       "      <td>2019-03-28 15:58:52</td>\n",
       "      <td>2019-03-28 15:59:25</td>\n",
       "      <td>1</td>\n",
       "      <td>1.80</td>\n",
       "      <td>69.06</td>\n",
       "      <td>20.80</td>\n",
       "      <td>0.00</td>\n",
       "      <td>90.16</td>\n",
       "      <td>yellow</td>\n",
       "      <td>credit card</td>\n",
       "      <td>JFK Airport</td>\n",
       "      <td>JFK Airport</td>\n",
       "      <td>Queens</td>\n",
       "      <td>Queens</td>\n",
       "    </tr>\n",
       "    <tr>\n",
       "      <th>1080</th>\n",
       "      <td>2019-03-04 14:17:05</td>\n",
       "      <td>2019-03-04 14:17:13</td>\n",
       "      <td>1</td>\n",
       "      <td>0.00</td>\n",
       "      <td>2.50</td>\n",
       "      <td>0.00</td>\n",
       "      <td>0.00</td>\n",
       "      <td>3.30</td>\n",
       "      <td>yellow</td>\n",
       "      <td>cash</td>\n",
       "      <td>JFK Airport</td>\n",
       "      <td>JFK Airport</td>\n",
       "      <td>Queens</td>\n",
       "      <td>Queens</td>\n",
       "    </tr>\n",
       "    <tr>\n",
       "      <th>120</th>\n",
       "      <td>2019-03-21 17:21:44</td>\n",
       "      <td>2019-03-21 17:21:49</td>\n",
       "      <td>1</td>\n",
       "      <td>0.00</td>\n",
       "      <td>2.50</td>\n",
       "      <td>0.00</td>\n",
       "      <td>0.00</td>\n",
       "      <td>4.30</td>\n",
       "      <td>yellow</td>\n",
       "      <td>cash</td>\n",
       "      <td>JFK Airport</td>\n",
       "      <td>JFK Airport</td>\n",
       "      <td>Queens</td>\n",
       "      <td>Queens</td>\n",
       "    </tr>\n",
       "    <tr>\n",
       "      <th>5364</th>\n",
       "      <td>2019-03-17 16:59:17</td>\n",
       "      <td>2019-03-17 18:04:08</td>\n",
       "      <td>2</td>\n",
       "      <td>36.70</td>\n",
       "      <td>150.00</td>\n",
       "      <td>0.00</td>\n",
       "      <td>24.02</td>\n",
       "      <td>174.82</td>\n",
       "      <td>yellow</td>\n",
       "      <td>cash</td>\n",
       "      <td>JFK Airport</td>\n",
       "      <td>JFK Airport</td>\n",
       "      <td>Queens</td>\n",
       "      <td>Queens</td>\n",
       "    </tr>\n",
       "    <tr>\n",
       "      <th>1929</th>\n",
       "      <td>2019-03-13 22:35:35</td>\n",
       "      <td>2019-03-13 22:35:49</td>\n",
       "      <td>1</td>\n",
       "      <td>0.00</td>\n",
       "      <td>2.50</td>\n",
       "      <td>0.00</td>\n",
       "      <td>0.00</td>\n",
       "      <td>3.80</td>\n",
       "      <td>yellow</td>\n",
       "      <td>NaN</td>\n",
       "      <td>JFK Airport</td>\n",
       "      <td>JFK Airport</td>\n",
       "      <td>Queens</td>\n",
       "      <td>Queens</td>\n",
       "    </tr>\n",
       "    <tr>\n",
       "      <th>3571</th>\n",
       "      <td>2019-03-22 16:47:41</td>\n",
       "      <td>2019-03-22 16:47:50</td>\n",
       "      <td>1</td>\n",
       "      <td>0.81</td>\n",
       "      <td>66.00</td>\n",
       "      <td>0.00</td>\n",
       "      <td>0.00</td>\n",
       "      <td>66.80</td>\n",
       "      <td>yellow</td>\n",
       "      <td>credit card</td>\n",
       "      <td>JFK Airport</td>\n",
       "      <td>JFK Airport</td>\n",
       "      <td>Queens</td>\n",
       "      <td>Queens</td>\n",
       "    </tr>\n",
       "    <tr>\n",
       "      <th>1416</th>\n",
       "      <td>2019-03-09 13:16:32</td>\n",
       "      <td>2019-03-09 13:46:11</td>\n",
       "      <td>2</td>\n",
       "      <td>12.39</td>\n",
       "      <td>35.00</td>\n",
       "      <td>0.00</td>\n",
       "      <td>0.00</td>\n",
       "      <td>35.80</td>\n",
       "      <td>yellow</td>\n",
       "      <td>cash</td>\n",
       "      <td>LaGuardia Airport</td>\n",
       "      <td>JFK Airport</td>\n",
       "      <td>Queens</td>\n",
       "      <td>Queens</td>\n",
       "    </tr>\n",
       "    <tr>\n",
       "      <th>4358</th>\n",
       "      <td>2019-03-06 18:24:00</td>\n",
       "      <td>2019-03-06 18:24:13</td>\n",
       "      <td>2</td>\n",
       "      <td>0.01</td>\n",
       "      <td>2.50</td>\n",
       "      <td>0.00</td>\n",
       "      <td>0.00</td>\n",
       "      <td>4.30</td>\n",
       "      <td>yellow</td>\n",
       "      <td>cash</td>\n",
       "      <td>JFK Airport</td>\n",
       "      <td>JFK Airport</td>\n",
       "      <td>Queens</td>\n",
       "      <td>Queens</td>\n",
       "    </tr>\n",
       "    <tr>\n",
       "      <th>1089</th>\n",
       "      <td>2019-03-10 01:43:32</td>\n",
       "      <td>2019-03-10 01:45:22</td>\n",
       "      <td>1</td>\n",
       "      <td>0.37</td>\n",
       "      <td>3.50</td>\n",
       "      <td>0.00</td>\n",
       "      <td>0.00</td>\n",
       "      <td>4.80</td>\n",
       "      <td>yellow</td>\n",
       "      <td>cash</td>\n",
       "      <td>JFK Airport</td>\n",
       "      <td>JFK Airport</td>\n",
       "      <td>Queens</td>\n",
       "      <td>Queens</td>\n",
       "    </tr>\n",
       "    <tr>\n",
       "      <th>5095</th>\n",
       "      <td>2019-03-30 20:14:44</td>\n",
       "      <td>2019-03-30 21:01:28</td>\n",
       "      <td>3</td>\n",
       "      <td>18.91</td>\n",
       "      <td>52.00</td>\n",
       "      <td>8.78</td>\n",
       "      <td>5.76</td>\n",
       "      <td>67.34</td>\n",
       "      <td>yellow</td>\n",
       "      <td>credit card</td>\n",
       "      <td>JFK Airport</td>\n",
       "      <td>JFK Airport</td>\n",
       "      <td>Queens</td>\n",
       "      <td>Queens</td>\n",
       "    </tr>\n",
       "    <tr>\n",
       "      <th>770</th>\n",
       "      <td>2019-03-02 03:16:59</td>\n",
       "      <td>2019-03-02 03:17:06</td>\n",
       "      <td>0</td>\n",
       "      <td>9.40</td>\n",
       "      <td>2.50</td>\n",
       "      <td>0.00</td>\n",
       "      <td>0.00</td>\n",
       "      <td>3.80</td>\n",
       "      <td>yellow</td>\n",
       "      <td>NaN</td>\n",
       "      <td>JFK Airport</td>\n",
       "      <td>JFK Airport</td>\n",
       "      <td>Queens</td>\n",
       "      <td>Queens</td>\n",
       "    </tr>\n",
       "  </tbody>\n",
       "</table>\n",
       "</div>"
      ],
      "text/plain": [
       "                   pickup              dropoff  passengers  distance    fare  \\\n",
       "2387  2019-03-28 15:58:52  2019-03-28 15:59:25           1      1.80   69.06   \n",
       "1080  2019-03-04 14:17:05  2019-03-04 14:17:13           1      0.00    2.50   \n",
       "120   2019-03-21 17:21:44  2019-03-21 17:21:49           1      0.00    2.50   \n",
       "5364  2019-03-17 16:59:17  2019-03-17 18:04:08           2     36.70  150.00   \n",
       "1929  2019-03-13 22:35:35  2019-03-13 22:35:49           1      0.00    2.50   \n",
       "3571  2019-03-22 16:47:41  2019-03-22 16:47:50           1      0.81   66.00   \n",
       "1416  2019-03-09 13:16:32  2019-03-09 13:46:11           2     12.39   35.00   \n",
       "4358  2019-03-06 18:24:00  2019-03-06 18:24:13           2      0.01    2.50   \n",
       "1089  2019-03-10 01:43:32  2019-03-10 01:45:22           1      0.37    3.50   \n",
       "5095  2019-03-30 20:14:44  2019-03-30 21:01:28           3     18.91   52.00   \n",
       "770   2019-03-02 03:16:59  2019-03-02 03:17:06           0      9.40    2.50   \n",
       "\n",
       "        tip  tolls   total   color      payment        pickup_zone  \\\n",
       "2387  20.80   0.00   90.16  yellow  credit card        JFK Airport   \n",
       "1080   0.00   0.00    3.30  yellow         cash        JFK Airport   \n",
       "120    0.00   0.00    4.30  yellow         cash        JFK Airport   \n",
       "5364   0.00  24.02  174.82  yellow         cash        JFK Airport   \n",
       "1929   0.00   0.00    3.80  yellow          NaN        JFK Airport   \n",
       "3571   0.00   0.00   66.80  yellow  credit card        JFK Airport   \n",
       "1416   0.00   0.00   35.80  yellow         cash  LaGuardia Airport   \n",
       "4358   0.00   0.00    4.30  yellow         cash        JFK Airport   \n",
       "1089   0.00   0.00    4.80  yellow         cash        JFK Airport   \n",
       "5095   8.78   5.76   67.34  yellow  credit card        JFK Airport   \n",
       "770    0.00   0.00    3.80  yellow          NaN        JFK Airport   \n",
       "\n",
       "     dropoff_zone pickup_borough dropoff_borough  \n",
       "2387  JFK Airport         Queens          Queens  \n",
       "1080  JFK Airport         Queens          Queens  \n",
       "120   JFK Airport         Queens          Queens  \n",
       "5364  JFK Airport         Queens          Queens  \n",
       "1929  JFK Airport         Queens          Queens  \n",
       "3571  JFK Airport         Queens          Queens  \n",
       "1416  JFK Airport         Queens          Queens  \n",
       "4358  JFK Airport         Queens          Queens  \n",
       "1089  JFK Airport         Queens          Queens  \n",
       "5095  JFK Airport         Queens          Queens  \n",
       "770   JFK Airport         Queens          Queens  "
      ]
     },
     "execution_count": 37,
     "metadata": {},
     "output_type": "execute_result"
    }
   ],
   "source": [
    "df.loc[good_inds]"
   ]
  },
  {
   "cell_type": "markdown",
   "metadata": {
    "cell_id": "1619934e0f8e4c158b932109a122cfac",
    "deepnote_cell_type": "markdown"
   },
   "source": [
    "### Worse approach 3: Using the pandas Series `map` method\n",
    "\n",
    "We first define a small function to determine if the string `\"Airport\"` appears as a substring (in some input `s`).  We will improve this function below."
   ]
  },
  {
   "cell_type": "code",
   "execution_count": 38,
   "metadata": {
    "cell_id": "179b696db9a94118997f30d14935c336",
    "deepnote_cell_type": "code",
    "deepnote_to_be_reexecuted": false,
    "execution_millis": 1,
    "execution_start": 1681504571094,
    "source_hash": "f5c3753d",
    "tags": []
   },
   "outputs": [],
   "source": [
    "def has_airport(s):\n",
    "    if \"Airport\" in s:\n",
    "        return True\n",
    "    else:\n",
    "        return False"
   ]
  },
  {
   "cell_type": "markdown",
   "metadata": {},
   "source": [
    "Here is a quick demonstration of how the function works."
   ]
  },
  {
   "cell_type": "code",
   "execution_count": 39,
   "metadata": {
    "cell_id": "3206c9ca0c8a4c8d8b629ff44253437b",
    "deepnote_cell_type": "code",
    "deepnote_to_be_reexecuted": false,
    "execution_millis": 18,
    "execution_start": 1681504580025,
    "source_hash": "16e1c1ce",
    "tags": []
   },
   "outputs": [
    {
     "data": {
      "text/plain": [
       "False"
      ]
     },
     "execution_count": 39,
     "metadata": {},
     "output_type": "execute_result"
    }
   ],
   "source": [
    "has_airport(\"Christopher\")"
   ]
  },
  {
   "cell_type": "markdown",
   "metadata": {},
   "source": [
    "It is checking to see if `\"Airport\"` occurs as a substring."
   ]
  },
  {
   "cell_type": "code",
   "execution_count": 40,
   "metadata": {
    "cell_id": "f81b77d3d95c4ee1b882f74a48066d30",
    "deepnote_cell_type": "code",
    "deepnote_to_be_reexecuted": false,
    "execution_millis": 2,
    "execution_start": 1681504590299,
    "source_hash": "715cd5c1",
    "tags": []
   },
   "outputs": [
    {
     "data": {
      "text/plain": [
       "True"
      ]
     },
     "execution_count": 40,
     "metadata": {},
     "output_type": "execute_result"
    }
   ],
   "source": [
    "has_airport(\"abc Airport3\")"
   ]
  },
  {
   "cell_type": "markdown",
   "metadata": {},
   "source": [
    "As you get more experienced as a Python coder, you will be able to identify places to shorten definitions like for our `has_airport` function above.  Notice how the function is returning `True` if `\"Airport\" in s` is True and is returning `False` otherwise, so we can simply return `\"Airport\" in s` directly."
   ]
  },
  {
   "cell_type": "code",
   "execution_count": 41,
   "metadata": {
    "cell_id": "3484ce935f604127aba1367ca47a39f5",
    "deepnote_cell_type": "code",
    "deepnote_to_be_reexecuted": false,
    "execution_millis": 19,
    "execution_start": 1681504657679,
    "source_hash": "3c6cd457",
    "tags": []
   },
   "outputs": [],
   "source": [
    "def has_airport(s):\n",
    "    return \"Airport\" in s"
   ]
  },
  {
   "cell_type": "markdown",
   "metadata": {},
   "source": [
    "We're going to apply that function to every entry in the following Series."
   ]
  },
  {
   "cell_type": "code",
   "execution_count": 42,
   "metadata": {
    "cell_id": "4521d4d9269c4282a2ac21e19f6c0c2d",
    "deepnote_cell_type": "code",
    "deepnote_to_be_reexecuted": false,
    "execution_millis": 45,
    "execution_start": 1681504694664,
    "source_hash": "4c5ba7a0",
    "tags": []
   },
   "outputs": [
    {
     "data": {
      "text/plain": [
       "890                 Midtown North\n",
       "5870          Morningside Heights\n",
       "686                  East Chelsea\n",
       "4937         TriBeCa/Civic Center\n",
       "2659                Midtown North\n",
       "                  ...            \n",
       "1180        Upper East Side North\n",
       "3441    West Chelsea/Hudson Yards\n",
       "1344                     Gramercy\n",
       "4623          Lincoln Square West\n",
       "1289                 East Village\n",
       "Name: pickup_zone, Length: 6433, dtype: object"
      ]
     },
     "execution_count": 42,
     "metadata": {},
     "output_type": "execute_result"
    }
   ],
   "source": [
    "ser1 = df[\"pickup_zone\"]\n",
    "ser1"
   ]
  },
  {
   "cell_type": "markdown",
   "metadata": {},
   "source": [
    "But unfortunately we get a similar error to before, due to missing values."
   ]
  },
  {
   "cell_type": "code",
   "execution_count": 43,
   "metadata": {
    "cell_id": "cb0c8a62800342f69b64a19fcb3958a6",
    "deepnote_cell_type": "code",
    "deepnote_to_be_reexecuted": false,
    "execution_millis": 656,
    "execution_start": 1681504706862,
    "source_hash": "8b04e7e1",
    "tags": [
     "output_scroll"
    ]
   },
   "outputs": [
    {
     "ename": "TypeError",
     "evalue": "argument of type 'float' is not iterable",
     "output_type": "error",
     "traceback": [
      "\u001b[0;31m---------------------------------------------------------------------------\u001b[0m",
      "\u001b[0;31mTypeError\u001b[0m                                 Traceback (most recent call last)",
      "Cell \u001b[0;32mIn[43], line 1\u001b[0m\n\u001b[0;32m----> 1\u001b[0m \u001b[43mser1\u001b[49m\u001b[38;5;241;43m.\u001b[39;49m\u001b[43mmap\u001b[49m\u001b[43m(\u001b[49m\u001b[43mhas_airport\u001b[49m\u001b[43m)\u001b[49m\n",
      "File \u001b[0;32m~/mambaforge/envs/math10s23/lib/python3.9/site-packages/pandas/core/series.py:4539\u001b[0m, in \u001b[0;36mSeries.map\u001b[0;34m(self, arg, na_action)\u001b[0m\n\u001b[1;32m   4460\u001b[0m \u001b[38;5;28;01mdef\u001b[39;00m \u001b[38;5;21mmap\u001b[39m(\n\u001b[1;32m   4461\u001b[0m     \u001b[38;5;28mself\u001b[39m,\n\u001b[1;32m   4462\u001b[0m     arg: Callable \u001b[38;5;241m|\u001b[39m Mapping \u001b[38;5;241m|\u001b[39m Series,\n\u001b[1;32m   4463\u001b[0m     na_action: Literal[\u001b[38;5;124m\"\u001b[39m\u001b[38;5;124mignore\u001b[39m\u001b[38;5;124m\"\u001b[39m] \u001b[38;5;241m|\u001b[39m \u001b[38;5;28;01mNone\u001b[39;00m \u001b[38;5;241m=\u001b[39m \u001b[38;5;28;01mNone\u001b[39;00m,\n\u001b[1;32m   4464\u001b[0m ) \u001b[38;5;241m-\u001b[39m\u001b[38;5;241m>\u001b[39m Series:\n\u001b[1;32m   4465\u001b[0m \u001b[38;5;250m    \u001b[39m\u001b[38;5;124;03m\"\"\"\u001b[39;00m\n\u001b[1;32m   4466\u001b[0m \u001b[38;5;124;03m    Map values of Series according to an input mapping or function.\u001b[39;00m\n\u001b[1;32m   4467\u001b[0m \n\u001b[0;32m   (...)\u001b[0m\n\u001b[1;32m   4537\u001b[0m \u001b[38;5;124;03m    dtype: object\u001b[39;00m\n\u001b[1;32m   4538\u001b[0m \u001b[38;5;124;03m    \"\"\"\u001b[39;00m\n\u001b[0;32m-> 4539\u001b[0m     new_values \u001b[38;5;241m=\u001b[39m \u001b[38;5;28;43mself\u001b[39;49m\u001b[38;5;241;43m.\u001b[39;49m\u001b[43m_map_values\u001b[49m\u001b[43m(\u001b[49m\u001b[43marg\u001b[49m\u001b[43m,\u001b[49m\u001b[43m \u001b[49m\u001b[43mna_action\u001b[49m\u001b[38;5;241;43m=\u001b[39;49m\u001b[43mna_action\u001b[49m\u001b[43m)\u001b[49m\n\u001b[1;32m   4540\u001b[0m     \u001b[38;5;28;01mreturn\u001b[39;00m \u001b[38;5;28mself\u001b[39m\u001b[38;5;241m.\u001b[39m_constructor(new_values, index\u001b[38;5;241m=\u001b[39m\u001b[38;5;28mself\u001b[39m\u001b[38;5;241m.\u001b[39mindex)\u001b[38;5;241m.\u001b[39m__finalize__(\n\u001b[1;32m   4541\u001b[0m         \u001b[38;5;28mself\u001b[39m, method\u001b[38;5;241m=\u001b[39m\u001b[38;5;124m\"\u001b[39m\u001b[38;5;124mmap\u001b[39m\u001b[38;5;124m\"\u001b[39m\n\u001b[1;32m   4542\u001b[0m     )\n",
      "File \u001b[0;32m~/mambaforge/envs/math10s23/lib/python3.9/site-packages/pandas/core/base.py:890\u001b[0m, in \u001b[0;36mIndexOpsMixin._map_values\u001b[0;34m(self, mapper, na_action)\u001b[0m\n\u001b[1;32m    887\u001b[0m         \u001b[38;5;28;01mraise\u001b[39;00m \u001b[38;5;167;01mValueError\u001b[39;00m(msg)\n\u001b[1;32m    889\u001b[0m \u001b[38;5;66;03m# mapper is a function\u001b[39;00m\n\u001b[0;32m--> 890\u001b[0m new_values \u001b[38;5;241m=\u001b[39m \u001b[43mmap_f\u001b[49m\u001b[43m(\u001b[49m\u001b[43mvalues\u001b[49m\u001b[43m,\u001b[49m\u001b[43m \u001b[49m\u001b[43mmapper\u001b[49m\u001b[43m)\u001b[49m\n\u001b[1;32m    892\u001b[0m \u001b[38;5;28;01mreturn\u001b[39;00m new_values\n",
      "File \u001b[0;32m~/mambaforge/envs/math10s23/lib/python3.9/site-packages/pandas/_libs/lib.pyx:2924\u001b[0m, in \u001b[0;36mpandas._libs.lib.map_infer\u001b[0;34m()\u001b[0m\n",
      "Cell \u001b[0;32mIn[41], line 2\u001b[0m, in \u001b[0;36mhas_airport\u001b[0;34m(s)\u001b[0m\n\u001b[1;32m      1\u001b[0m \u001b[38;5;28;01mdef\u001b[39;00m \u001b[38;5;21mhas_airport\u001b[39m(s):\n\u001b[0;32m----> 2\u001b[0m     \u001b[38;5;28;01mreturn\u001b[39;00m \u001b[38;5;124;43m\"\u001b[39;49m\u001b[38;5;124;43mAirport\u001b[39;49m\u001b[38;5;124;43m\"\u001b[39;49m\u001b[43m \u001b[49m\u001b[38;5;129;43;01min\u001b[39;49;00m\u001b[43m \u001b[49m\u001b[43ms\u001b[49m\n",
      "\u001b[0;31mTypeError\u001b[0m: argument of type 'float' is not iterable"
     ]
    }
   ],
   "source": [
    "ser1.map(has_airport)"
   ]
  },
  {
   "cell_type": "markdown",
   "metadata": {},
   "source": [
    "Let me again try to convince you that the error is due to missing values."
   ]
  },
  {
   "cell_type": "code",
   "execution_count": 44,
   "metadata": {
    "cell_id": "64b509d7577f45ea983801a4c9e862c6",
    "deepnote_cell_type": "code",
    "deepnote_to_be_reexecuted": false,
    "execution_millis": 58,
    "execution_start": 1681504827879,
    "source_hash": "70c916",
    "tags": []
   },
   "outputs": [
    {
     "ename": "TypeError",
     "evalue": "argument of type 'float' is not iterable",
     "output_type": "error",
     "traceback": [
      "\u001b[0;31m---------------------------------------------------------------------------\u001b[0m",
      "\u001b[0;31mTypeError\u001b[0m                                 Traceback (most recent call last)",
      "Cell \u001b[0;32mIn[44], line 1\u001b[0m\n\u001b[0;32m----> 1\u001b[0m \u001b[43mhas_airport\u001b[49m\u001b[43m(\u001b[49m\u001b[43mnp\u001b[49m\u001b[38;5;241;43m.\u001b[39;49m\u001b[43mnan\u001b[49m\u001b[43m)\u001b[49m\n",
      "Cell \u001b[0;32mIn[41], line 2\u001b[0m, in \u001b[0;36mhas_airport\u001b[0;34m(s)\u001b[0m\n\u001b[1;32m      1\u001b[0m \u001b[38;5;28;01mdef\u001b[39;00m \u001b[38;5;21mhas_airport\u001b[39m(s):\n\u001b[0;32m----> 2\u001b[0m     \u001b[38;5;28;01mreturn\u001b[39;00m \u001b[38;5;124;43m\"\u001b[39;49m\u001b[38;5;124;43mAirport\u001b[39;49m\u001b[38;5;124;43m\"\u001b[39;49m\u001b[43m \u001b[49m\u001b[38;5;129;43;01min\u001b[39;49;00m\u001b[43m \u001b[49m\u001b[43ms\u001b[49m\n",
      "\u001b[0;31mTypeError\u001b[0m: argument of type 'float' is not iterable"
     ]
    }
   ],
   "source": [
    "has_airport(np.nan)"
   ]
  },
  {
   "cell_type": "markdown",
   "metadata": {},
   "source": [
    "An oversight on my part is that I haven't shown you the Python function `help` yet.  Here is an example of using it to learn more about the pandas Series method `map`.  Notice the `na_action` keyword argument, which is exactly what we need."
   ]
  },
  {
   "cell_type": "code",
   "execution_count": 45,
   "metadata": {
    "cell_id": "c249d253c50c477786851e72b41da238",
    "deepnote_cell_type": "code",
    "deepnote_to_be_reexecuted": false,
    "execution_millis": 3,
    "execution_start": 1681504739741,
    "source_hash": "2ba02bb3",
    "tags": [
     "output_scroll"
    ]
   },
   "outputs": [
    {
     "name": "stdout",
     "output_type": "stream",
     "text": [
      "Help on method map in module pandas.core.series:\n",
      "\n",
      "map(arg: 'Callable | Mapping | Series', na_action: \"Literal['ignore'] | None\" = None) -> 'Series' method of pandas.core.series.Series instance\n",
      "    Map values of Series according to an input mapping or function.\n",
      "    \n",
      "    Used for substituting each value in a Series with another value,\n",
      "    that may be derived from a function, a ``dict`` or\n",
      "    a :class:`Series`.\n",
      "    \n",
      "    Parameters\n",
      "    ----------\n",
      "    arg : function, collections.abc.Mapping subclass or Series\n",
      "        Mapping correspondence.\n",
      "    na_action : {None, 'ignore'}, default None\n",
      "        If 'ignore', propagate NaN values, without passing them to the\n",
      "        mapping correspondence.\n",
      "    \n",
      "    Returns\n",
      "    -------\n",
      "    Series\n",
      "        Same index as caller.\n",
      "    \n",
      "    See Also\n",
      "    --------\n",
      "    Series.apply : For applying more complex functions on a Series.\n",
      "    DataFrame.apply : Apply a function row-/column-wise.\n",
      "    DataFrame.applymap : Apply a function elementwise on a whole DataFrame.\n",
      "    \n",
      "    Notes\n",
      "    -----\n",
      "    When ``arg`` is a dictionary, values in Series that are not in the\n",
      "    dictionary (as keys) are converted to ``NaN``. However, if the\n",
      "    dictionary is a ``dict`` subclass that defines ``__missing__`` (i.e.\n",
      "    provides a method for default values), then this default is used\n",
      "    rather than ``NaN``.\n",
      "    \n",
      "    Examples\n",
      "    --------\n",
      "    >>> s = pd.Series(['cat', 'dog', np.nan, 'rabbit'])\n",
      "    >>> s\n",
      "    0      cat\n",
      "    1      dog\n",
      "    2      NaN\n",
      "    3   rabbit\n",
      "    dtype: object\n",
      "    \n",
      "    ``map`` accepts a ``dict`` or a ``Series``. Values that are not found\n",
      "    in the ``dict`` are converted to ``NaN``, unless the dict has a default\n",
      "    value (e.g. ``defaultdict``):\n",
      "    \n",
      "    >>> s.map({'cat': 'kitten', 'dog': 'puppy'})\n",
      "    0   kitten\n",
      "    1    puppy\n",
      "    2      NaN\n",
      "    3      NaN\n",
      "    dtype: object\n",
      "    \n",
      "    It also accepts a function:\n",
      "    \n",
      "    >>> s.map('I am a {}'.format)\n",
      "    0       I am a cat\n",
      "    1       I am a dog\n",
      "    2       I am a nan\n",
      "    3    I am a rabbit\n",
      "    dtype: object\n",
      "    \n",
      "    To avoid applying the function to missing values (and keep them as\n",
      "    ``NaN``) ``na_action='ignore'`` can be used:\n",
      "    \n",
      "    >>> s.map('I am a {}'.format, na_action='ignore')\n",
      "    0     I am a cat\n",
      "    1     I am a dog\n",
      "    2            NaN\n",
      "    3  I am a rabbit\n",
      "    dtype: object\n",
      "\n"
     ]
    }
   ],
   "source": [
    "help(ser1.map)"
   ]
  },
  {
   "cell_type": "markdown",
   "metadata": {},
   "source": [
    "For now we only see `False` values, because none of the visible entries contain `\"Airport\"` as a substring."
   ]
  },
  {
   "cell_type": "code",
   "execution_count": 47,
   "metadata": {
    "cell_id": "843d68b680584f2ca166c1ff3fe44a14",
    "deepnote_cell_type": "code",
    "deepnote_to_be_reexecuted": false,
    "execution_millis": 5,
    "execution_start": 1681504910146,
    "source_hash": "1fdc9c5c",
    "tags": []
   },
   "outputs": [
    {
     "data": {
      "text/plain": [
       "890     False\n",
       "5870    False\n",
       "686     False\n",
       "4937    False\n",
       "2659    False\n",
       "        ...  \n",
       "1180    False\n",
       "3441    False\n",
       "1344    False\n",
       "4623    False\n",
       "1289    False\n",
       "Name: pickup_zone, Length: 6433, dtype: object"
      ]
     },
     "execution_count": 47,
     "metadata": {},
     "output_type": "execute_result"
    }
   ],
   "source": [
    "ser1.map(has_airport, na_action=\"ignore\")"
   ]
  },
  {
   "cell_type": "code",
   "execution_count": 48,
   "metadata": {
    "cell_id": "7148ec70b9d14b2d9b17207b370e6077",
    "deepnote_cell_type": "code",
    "deepnote_to_be_reexecuted": false,
    "execution_millis": 1,
    "execution_start": 1681504943704,
    "source_hash": "7ba0ec61",
    "tags": []
   },
   "outputs": [],
   "source": [
    "ser2 = df[\"dropoff_zone\"]"
   ]
  },
  {
   "cell_type": "markdown",
   "metadata": {
    "tags": []
   },
   "source": [
    "The following should be the same sub-DataFrame we attained two different ways above."
   ]
  },
  {
   "cell_type": "code",
   "execution_count": 49,
   "metadata": {
    "cell_id": "73c07500fd474cf5899a99a31b3d27ba",
    "deepnote_cell_type": "code",
    "deepnote_to_be_reexecuted": false,
    "execution_millis": 24,
    "execution_start": 1681504980407,
    "source_hash": "4bb0cd8c",
    "tags": [
     "output_scroll"
    ]
   },
   "outputs": [
    {
     "data": {
      "text/html": [
       "<div>\n",
       "<style scoped>\n",
       "    .dataframe tbody tr th:only-of-type {\n",
       "        vertical-align: middle;\n",
       "    }\n",
       "\n",
       "    .dataframe tbody tr th {\n",
       "        vertical-align: top;\n",
       "    }\n",
       "\n",
       "    .dataframe thead th {\n",
       "        text-align: right;\n",
       "    }\n",
       "</style>\n",
       "<table border=\"1\" class=\"dataframe\">\n",
       "  <thead>\n",
       "    <tr style=\"text-align: right;\">\n",
       "      <th></th>\n",
       "      <th>pickup</th>\n",
       "      <th>dropoff</th>\n",
       "      <th>passengers</th>\n",
       "      <th>distance</th>\n",
       "      <th>fare</th>\n",
       "      <th>tip</th>\n",
       "      <th>tolls</th>\n",
       "      <th>total</th>\n",
       "      <th>color</th>\n",
       "      <th>payment</th>\n",
       "      <th>pickup_zone</th>\n",
       "      <th>dropoff_zone</th>\n",
       "      <th>pickup_borough</th>\n",
       "      <th>dropoff_borough</th>\n",
       "    </tr>\n",
       "  </thead>\n",
       "  <tbody>\n",
       "    <tr>\n",
       "      <th>2387</th>\n",
       "      <td>2019-03-28 15:58:52</td>\n",
       "      <td>2019-03-28 15:59:25</td>\n",
       "      <td>1</td>\n",
       "      <td>1.80</td>\n",
       "      <td>69.06</td>\n",
       "      <td>20.80</td>\n",
       "      <td>0.00</td>\n",
       "      <td>90.16</td>\n",
       "      <td>yellow</td>\n",
       "      <td>credit card</td>\n",
       "      <td>JFK Airport</td>\n",
       "      <td>JFK Airport</td>\n",
       "      <td>Queens</td>\n",
       "      <td>Queens</td>\n",
       "    </tr>\n",
       "    <tr>\n",
       "      <th>1080</th>\n",
       "      <td>2019-03-04 14:17:05</td>\n",
       "      <td>2019-03-04 14:17:13</td>\n",
       "      <td>1</td>\n",
       "      <td>0.00</td>\n",
       "      <td>2.50</td>\n",
       "      <td>0.00</td>\n",
       "      <td>0.00</td>\n",
       "      <td>3.30</td>\n",
       "      <td>yellow</td>\n",
       "      <td>cash</td>\n",
       "      <td>JFK Airport</td>\n",
       "      <td>JFK Airport</td>\n",
       "      <td>Queens</td>\n",
       "      <td>Queens</td>\n",
       "    </tr>\n",
       "    <tr>\n",
       "      <th>120</th>\n",
       "      <td>2019-03-21 17:21:44</td>\n",
       "      <td>2019-03-21 17:21:49</td>\n",
       "      <td>1</td>\n",
       "      <td>0.00</td>\n",
       "      <td>2.50</td>\n",
       "      <td>0.00</td>\n",
       "      <td>0.00</td>\n",
       "      <td>4.30</td>\n",
       "      <td>yellow</td>\n",
       "      <td>cash</td>\n",
       "      <td>JFK Airport</td>\n",
       "      <td>JFK Airport</td>\n",
       "      <td>Queens</td>\n",
       "      <td>Queens</td>\n",
       "    </tr>\n",
       "    <tr>\n",
       "      <th>5364</th>\n",
       "      <td>2019-03-17 16:59:17</td>\n",
       "      <td>2019-03-17 18:04:08</td>\n",
       "      <td>2</td>\n",
       "      <td>36.70</td>\n",
       "      <td>150.00</td>\n",
       "      <td>0.00</td>\n",
       "      <td>24.02</td>\n",
       "      <td>174.82</td>\n",
       "      <td>yellow</td>\n",
       "      <td>cash</td>\n",
       "      <td>JFK Airport</td>\n",
       "      <td>JFK Airport</td>\n",
       "      <td>Queens</td>\n",
       "      <td>Queens</td>\n",
       "    </tr>\n",
       "    <tr>\n",
       "      <th>1929</th>\n",
       "      <td>2019-03-13 22:35:35</td>\n",
       "      <td>2019-03-13 22:35:49</td>\n",
       "      <td>1</td>\n",
       "      <td>0.00</td>\n",
       "      <td>2.50</td>\n",
       "      <td>0.00</td>\n",
       "      <td>0.00</td>\n",
       "      <td>3.80</td>\n",
       "      <td>yellow</td>\n",
       "      <td>NaN</td>\n",
       "      <td>JFK Airport</td>\n",
       "      <td>JFK Airport</td>\n",
       "      <td>Queens</td>\n",
       "      <td>Queens</td>\n",
       "    </tr>\n",
       "    <tr>\n",
       "      <th>3571</th>\n",
       "      <td>2019-03-22 16:47:41</td>\n",
       "      <td>2019-03-22 16:47:50</td>\n",
       "      <td>1</td>\n",
       "      <td>0.81</td>\n",
       "      <td>66.00</td>\n",
       "      <td>0.00</td>\n",
       "      <td>0.00</td>\n",
       "      <td>66.80</td>\n",
       "      <td>yellow</td>\n",
       "      <td>credit card</td>\n",
       "      <td>JFK Airport</td>\n",
       "      <td>JFK Airport</td>\n",
       "      <td>Queens</td>\n",
       "      <td>Queens</td>\n",
       "    </tr>\n",
       "    <tr>\n",
       "      <th>1416</th>\n",
       "      <td>2019-03-09 13:16:32</td>\n",
       "      <td>2019-03-09 13:46:11</td>\n",
       "      <td>2</td>\n",
       "      <td>12.39</td>\n",
       "      <td>35.00</td>\n",
       "      <td>0.00</td>\n",
       "      <td>0.00</td>\n",
       "      <td>35.80</td>\n",
       "      <td>yellow</td>\n",
       "      <td>cash</td>\n",
       "      <td>LaGuardia Airport</td>\n",
       "      <td>JFK Airport</td>\n",
       "      <td>Queens</td>\n",
       "      <td>Queens</td>\n",
       "    </tr>\n",
       "    <tr>\n",
       "      <th>4358</th>\n",
       "      <td>2019-03-06 18:24:00</td>\n",
       "      <td>2019-03-06 18:24:13</td>\n",
       "      <td>2</td>\n",
       "      <td>0.01</td>\n",
       "      <td>2.50</td>\n",
       "      <td>0.00</td>\n",
       "      <td>0.00</td>\n",
       "      <td>4.30</td>\n",
       "      <td>yellow</td>\n",
       "      <td>cash</td>\n",
       "      <td>JFK Airport</td>\n",
       "      <td>JFK Airport</td>\n",
       "      <td>Queens</td>\n",
       "      <td>Queens</td>\n",
       "    </tr>\n",
       "    <tr>\n",
       "      <th>1089</th>\n",
       "      <td>2019-03-10 01:43:32</td>\n",
       "      <td>2019-03-10 01:45:22</td>\n",
       "      <td>1</td>\n",
       "      <td>0.37</td>\n",
       "      <td>3.50</td>\n",
       "      <td>0.00</td>\n",
       "      <td>0.00</td>\n",
       "      <td>4.80</td>\n",
       "      <td>yellow</td>\n",
       "      <td>cash</td>\n",
       "      <td>JFK Airport</td>\n",
       "      <td>JFK Airport</td>\n",
       "      <td>Queens</td>\n",
       "      <td>Queens</td>\n",
       "    </tr>\n",
       "    <tr>\n",
       "      <th>5095</th>\n",
       "      <td>2019-03-30 20:14:44</td>\n",
       "      <td>2019-03-30 21:01:28</td>\n",
       "      <td>3</td>\n",
       "      <td>18.91</td>\n",
       "      <td>52.00</td>\n",
       "      <td>8.78</td>\n",
       "      <td>5.76</td>\n",
       "      <td>67.34</td>\n",
       "      <td>yellow</td>\n",
       "      <td>credit card</td>\n",
       "      <td>JFK Airport</td>\n",
       "      <td>JFK Airport</td>\n",
       "      <td>Queens</td>\n",
       "      <td>Queens</td>\n",
       "    </tr>\n",
       "    <tr>\n",
       "      <th>770</th>\n",
       "      <td>2019-03-02 03:16:59</td>\n",
       "      <td>2019-03-02 03:17:06</td>\n",
       "      <td>0</td>\n",
       "      <td>9.40</td>\n",
       "      <td>2.50</td>\n",
       "      <td>0.00</td>\n",
       "      <td>0.00</td>\n",
       "      <td>3.80</td>\n",
       "      <td>yellow</td>\n",
       "      <td>NaN</td>\n",
       "      <td>JFK Airport</td>\n",
       "      <td>JFK Airport</td>\n",
       "      <td>Queens</td>\n",
       "      <td>Queens</td>\n",
       "    </tr>\n",
       "  </tbody>\n",
       "</table>\n",
       "</div>"
      ],
      "text/plain": [
       "                   pickup              dropoff  passengers  distance    fare  \\\n",
       "2387  2019-03-28 15:58:52  2019-03-28 15:59:25           1      1.80   69.06   \n",
       "1080  2019-03-04 14:17:05  2019-03-04 14:17:13           1      0.00    2.50   \n",
       "120   2019-03-21 17:21:44  2019-03-21 17:21:49           1      0.00    2.50   \n",
       "5364  2019-03-17 16:59:17  2019-03-17 18:04:08           2     36.70  150.00   \n",
       "1929  2019-03-13 22:35:35  2019-03-13 22:35:49           1      0.00    2.50   \n",
       "3571  2019-03-22 16:47:41  2019-03-22 16:47:50           1      0.81   66.00   \n",
       "1416  2019-03-09 13:16:32  2019-03-09 13:46:11           2     12.39   35.00   \n",
       "4358  2019-03-06 18:24:00  2019-03-06 18:24:13           2      0.01    2.50   \n",
       "1089  2019-03-10 01:43:32  2019-03-10 01:45:22           1      0.37    3.50   \n",
       "5095  2019-03-30 20:14:44  2019-03-30 21:01:28           3     18.91   52.00   \n",
       "770   2019-03-02 03:16:59  2019-03-02 03:17:06           0      9.40    2.50   \n",
       "\n",
       "        tip  tolls   total   color      payment        pickup_zone  \\\n",
       "2387  20.80   0.00   90.16  yellow  credit card        JFK Airport   \n",
       "1080   0.00   0.00    3.30  yellow         cash        JFK Airport   \n",
       "120    0.00   0.00    4.30  yellow         cash        JFK Airport   \n",
       "5364   0.00  24.02  174.82  yellow         cash        JFK Airport   \n",
       "1929   0.00   0.00    3.80  yellow          NaN        JFK Airport   \n",
       "3571   0.00   0.00   66.80  yellow  credit card        JFK Airport   \n",
       "1416   0.00   0.00   35.80  yellow         cash  LaGuardia Airport   \n",
       "4358   0.00   0.00    4.30  yellow         cash        JFK Airport   \n",
       "1089   0.00   0.00    4.80  yellow         cash        JFK Airport   \n",
       "5095   8.78   5.76   67.34  yellow  credit card        JFK Airport   \n",
       "770    0.00   0.00    3.80  yellow          NaN        JFK Airport   \n",
       "\n",
       "     dropoff_zone pickup_borough dropoff_borough  \n",
       "2387  JFK Airport         Queens          Queens  \n",
       "1080  JFK Airport         Queens          Queens  \n",
       "120   JFK Airport         Queens          Queens  \n",
       "5364  JFK Airport         Queens          Queens  \n",
       "1929  JFK Airport         Queens          Queens  \n",
       "3571  JFK Airport         Queens          Queens  \n",
       "1416  JFK Airport         Queens          Queens  \n",
       "4358  JFK Airport         Queens          Queens  \n",
       "1089  JFK Airport         Queens          Queens  \n",
       "5095  JFK Airport         Queens          Queens  \n",
       "770   JFK Airport         Queens          Queens  "
      ]
     },
     "execution_count": 49,
     "metadata": {},
     "output_type": "execute_result"
    }
   ],
   "source": [
    "df[ser1.map(has_airport, na_action=\"ignore\") & ser2.map(has_airport, na_action=\"ignore\")]"
   ]
  },
  {
   "cell_type": "markdown",
   "metadata": {
    "cell_id": "2f42ac85aa8a43c281ae43ce09c2779a",
    "deepnote_cell_type": "markdown"
   },
   "source": [
    "### Best approach I know: Using the `str` accessor and Boolean indexing\n",
    "\n",
    "This is review of what we did on Wednesday.  Here's a reminder that `ser1` is the variable containing the \"pickup_zone\" column."
   ]
  },
  {
   "cell_type": "code",
   "execution_count": 50,
   "metadata": {
    "cell_id": "8718d32ccdb44c85b9e508c3e07eb2d9",
    "deepnote_cell_type": "code",
    "deepnote_to_be_reexecuted": false,
    "execution_millis": 3,
    "execution_start": 1681505129407,
    "source_hash": "2049ad53",
    "tags": []
   },
   "outputs": [
    {
     "data": {
      "text/plain": [
       "890                 Midtown North\n",
       "5870          Morningside Heights\n",
       "686                  East Chelsea\n",
       "4937         TriBeCa/Civic Center\n",
       "2659                Midtown North\n",
       "                  ...            \n",
       "1180        Upper East Side North\n",
       "3441    West Chelsea/Hudson Yards\n",
       "1344                     Gramercy\n",
       "4623          Lincoln Square West\n",
       "1289                 East Village\n",
       "Name: pickup_zone, Length: 6433, dtype: object"
      ]
     },
     "execution_count": 50,
     "metadata": {},
     "output_type": "execute_result"
    }
   ],
   "source": [
    "ser1"
   ]
  },
  {
   "cell_type": "markdown",
   "metadata": {},
   "source": [
    "Instead of using `map` and our custom `has_airport` function, we use the `str` accessor, which gives us access to the `contains` method.  The big advantage here is that we didn't have to define any special function ourselves."
   ]
  },
  {
   "cell_type": "code",
   "execution_count": 56,
   "metadata": {
    "cell_id": "f8a7898e63884bbba800c1d50aa66b6c",
    "deepnote_cell_type": "code",
    "deepnote_to_be_reexecuted": false,
    "execution_millis": 21,
    "execution_start": 1681505143327,
    "source_hash": "2ac35397"
   },
   "outputs": [
    {
     "data": {
      "text/plain": [
       "890     False\n",
       "5870    False\n",
       "686     False\n",
       "4937    False\n",
       "2659    False\n",
       "        ...  \n",
       "1180    False\n",
       "3441    False\n",
       "1344    False\n",
       "4623    False\n",
       "1289    False\n",
       "Name: pickup_zone, Length: 6433, dtype: object"
      ]
     },
     "execution_count": 56,
     "metadata": {},
     "output_type": "execute_result"
    }
   ],
   "source": [
    "ser1.str.contains(\"Airport\")"
   ]
  },
  {
   "cell_type": "markdown",
   "metadata": {},
   "source": [
    "Here is the final way (and the best way I know) to get the sub-DataFrame containing the rows for which both the pickup and dropoff zones involved an airport.  We are using Boolean indexing to keep precisely those rows in `df`.  (The previous approach, with `map`, also used Boolean indexing.  The earlier approaches, with `loc` and `iloc`, used indexing but not Boolean indexing.)"
   ]
  },
  {
   "cell_type": "code",
   "execution_count": 52,
   "metadata": {
    "cell_id": "725862238a604b728272da568613ac1a",
    "deepnote_cell_type": "code",
    "deepnote_to_be_reexecuted": false,
    "execution_millis": 29,
    "execution_start": 1681505191427,
    "source_hash": "5b77da6e",
    "tags": [
     "output_scroll"
    ]
   },
   "outputs": [
    {
     "data": {
      "text/html": [
       "<div>\n",
       "<style scoped>\n",
       "    .dataframe tbody tr th:only-of-type {\n",
       "        vertical-align: middle;\n",
       "    }\n",
       "\n",
       "    .dataframe tbody tr th {\n",
       "        vertical-align: top;\n",
       "    }\n",
       "\n",
       "    .dataframe thead th {\n",
       "        text-align: right;\n",
       "    }\n",
       "</style>\n",
       "<table border=\"1\" class=\"dataframe\">\n",
       "  <thead>\n",
       "    <tr style=\"text-align: right;\">\n",
       "      <th></th>\n",
       "      <th>pickup</th>\n",
       "      <th>dropoff</th>\n",
       "      <th>passengers</th>\n",
       "      <th>distance</th>\n",
       "      <th>fare</th>\n",
       "      <th>tip</th>\n",
       "      <th>tolls</th>\n",
       "      <th>total</th>\n",
       "      <th>color</th>\n",
       "      <th>payment</th>\n",
       "      <th>pickup_zone</th>\n",
       "      <th>dropoff_zone</th>\n",
       "      <th>pickup_borough</th>\n",
       "      <th>dropoff_borough</th>\n",
       "    </tr>\n",
       "  </thead>\n",
       "  <tbody>\n",
       "    <tr>\n",
       "      <th>2387</th>\n",
       "      <td>2019-03-28 15:58:52</td>\n",
       "      <td>2019-03-28 15:59:25</td>\n",
       "      <td>1</td>\n",
       "      <td>1.80</td>\n",
       "      <td>69.06</td>\n",
       "      <td>20.80</td>\n",
       "      <td>0.00</td>\n",
       "      <td>90.16</td>\n",
       "      <td>yellow</td>\n",
       "      <td>credit card</td>\n",
       "      <td>JFK Airport</td>\n",
       "      <td>JFK Airport</td>\n",
       "      <td>Queens</td>\n",
       "      <td>Queens</td>\n",
       "    </tr>\n",
       "    <tr>\n",
       "      <th>1080</th>\n",
       "      <td>2019-03-04 14:17:05</td>\n",
       "      <td>2019-03-04 14:17:13</td>\n",
       "      <td>1</td>\n",
       "      <td>0.00</td>\n",
       "      <td>2.50</td>\n",
       "      <td>0.00</td>\n",
       "      <td>0.00</td>\n",
       "      <td>3.30</td>\n",
       "      <td>yellow</td>\n",
       "      <td>cash</td>\n",
       "      <td>JFK Airport</td>\n",
       "      <td>JFK Airport</td>\n",
       "      <td>Queens</td>\n",
       "      <td>Queens</td>\n",
       "    </tr>\n",
       "    <tr>\n",
       "      <th>120</th>\n",
       "      <td>2019-03-21 17:21:44</td>\n",
       "      <td>2019-03-21 17:21:49</td>\n",
       "      <td>1</td>\n",
       "      <td>0.00</td>\n",
       "      <td>2.50</td>\n",
       "      <td>0.00</td>\n",
       "      <td>0.00</td>\n",
       "      <td>4.30</td>\n",
       "      <td>yellow</td>\n",
       "      <td>cash</td>\n",
       "      <td>JFK Airport</td>\n",
       "      <td>JFK Airport</td>\n",
       "      <td>Queens</td>\n",
       "      <td>Queens</td>\n",
       "    </tr>\n",
       "    <tr>\n",
       "      <th>5364</th>\n",
       "      <td>2019-03-17 16:59:17</td>\n",
       "      <td>2019-03-17 18:04:08</td>\n",
       "      <td>2</td>\n",
       "      <td>36.70</td>\n",
       "      <td>150.00</td>\n",
       "      <td>0.00</td>\n",
       "      <td>24.02</td>\n",
       "      <td>174.82</td>\n",
       "      <td>yellow</td>\n",
       "      <td>cash</td>\n",
       "      <td>JFK Airport</td>\n",
       "      <td>JFK Airport</td>\n",
       "      <td>Queens</td>\n",
       "      <td>Queens</td>\n",
       "    </tr>\n",
       "    <tr>\n",
       "      <th>1929</th>\n",
       "      <td>2019-03-13 22:35:35</td>\n",
       "      <td>2019-03-13 22:35:49</td>\n",
       "      <td>1</td>\n",
       "      <td>0.00</td>\n",
       "      <td>2.50</td>\n",
       "      <td>0.00</td>\n",
       "      <td>0.00</td>\n",
       "      <td>3.80</td>\n",
       "      <td>yellow</td>\n",
       "      <td>NaN</td>\n",
       "      <td>JFK Airport</td>\n",
       "      <td>JFK Airport</td>\n",
       "      <td>Queens</td>\n",
       "      <td>Queens</td>\n",
       "    </tr>\n",
       "    <tr>\n",
       "      <th>3571</th>\n",
       "      <td>2019-03-22 16:47:41</td>\n",
       "      <td>2019-03-22 16:47:50</td>\n",
       "      <td>1</td>\n",
       "      <td>0.81</td>\n",
       "      <td>66.00</td>\n",
       "      <td>0.00</td>\n",
       "      <td>0.00</td>\n",
       "      <td>66.80</td>\n",
       "      <td>yellow</td>\n",
       "      <td>credit card</td>\n",
       "      <td>JFK Airport</td>\n",
       "      <td>JFK Airport</td>\n",
       "      <td>Queens</td>\n",
       "      <td>Queens</td>\n",
       "    </tr>\n",
       "    <tr>\n",
       "      <th>1416</th>\n",
       "      <td>2019-03-09 13:16:32</td>\n",
       "      <td>2019-03-09 13:46:11</td>\n",
       "      <td>2</td>\n",
       "      <td>12.39</td>\n",
       "      <td>35.00</td>\n",
       "      <td>0.00</td>\n",
       "      <td>0.00</td>\n",
       "      <td>35.80</td>\n",
       "      <td>yellow</td>\n",
       "      <td>cash</td>\n",
       "      <td>LaGuardia Airport</td>\n",
       "      <td>JFK Airport</td>\n",
       "      <td>Queens</td>\n",
       "      <td>Queens</td>\n",
       "    </tr>\n",
       "    <tr>\n",
       "      <th>4358</th>\n",
       "      <td>2019-03-06 18:24:00</td>\n",
       "      <td>2019-03-06 18:24:13</td>\n",
       "      <td>2</td>\n",
       "      <td>0.01</td>\n",
       "      <td>2.50</td>\n",
       "      <td>0.00</td>\n",
       "      <td>0.00</td>\n",
       "      <td>4.30</td>\n",
       "      <td>yellow</td>\n",
       "      <td>cash</td>\n",
       "      <td>JFK Airport</td>\n",
       "      <td>JFK Airport</td>\n",
       "      <td>Queens</td>\n",
       "      <td>Queens</td>\n",
       "    </tr>\n",
       "    <tr>\n",
       "      <th>1089</th>\n",
       "      <td>2019-03-10 01:43:32</td>\n",
       "      <td>2019-03-10 01:45:22</td>\n",
       "      <td>1</td>\n",
       "      <td>0.37</td>\n",
       "      <td>3.50</td>\n",
       "      <td>0.00</td>\n",
       "      <td>0.00</td>\n",
       "      <td>4.80</td>\n",
       "      <td>yellow</td>\n",
       "      <td>cash</td>\n",
       "      <td>JFK Airport</td>\n",
       "      <td>JFK Airport</td>\n",
       "      <td>Queens</td>\n",
       "      <td>Queens</td>\n",
       "    </tr>\n",
       "    <tr>\n",
       "      <th>5095</th>\n",
       "      <td>2019-03-30 20:14:44</td>\n",
       "      <td>2019-03-30 21:01:28</td>\n",
       "      <td>3</td>\n",
       "      <td>18.91</td>\n",
       "      <td>52.00</td>\n",
       "      <td>8.78</td>\n",
       "      <td>5.76</td>\n",
       "      <td>67.34</td>\n",
       "      <td>yellow</td>\n",
       "      <td>credit card</td>\n",
       "      <td>JFK Airport</td>\n",
       "      <td>JFK Airport</td>\n",
       "      <td>Queens</td>\n",
       "      <td>Queens</td>\n",
       "    </tr>\n",
       "    <tr>\n",
       "      <th>770</th>\n",
       "      <td>2019-03-02 03:16:59</td>\n",
       "      <td>2019-03-02 03:17:06</td>\n",
       "      <td>0</td>\n",
       "      <td>9.40</td>\n",
       "      <td>2.50</td>\n",
       "      <td>0.00</td>\n",
       "      <td>0.00</td>\n",
       "      <td>3.80</td>\n",
       "      <td>yellow</td>\n",
       "      <td>NaN</td>\n",
       "      <td>JFK Airport</td>\n",
       "      <td>JFK Airport</td>\n",
       "      <td>Queens</td>\n",
       "      <td>Queens</td>\n",
       "    </tr>\n",
       "  </tbody>\n",
       "</table>\n",
       "</div>"
      ],
      "text/plain": [
       "                   pickup              dropoff  passengers  distance    fare  \\\n",
       "2387  2019-03-28 15:58:52  2019-03-28 15:59:25           1      1.80   69.06   \n",
       "1080  2019-03-04 14:17:05  2019-03-04 14:17:13           1      0.00    2.50   \n",
       "120   2019-03-21 17:21:44  2019-03-21 17:21:49           1      0.00    2.50   \n",
       "5364  2019-03-17 16:59:17  2019-03-17 18:04:08           2     36.70  150.00   \n",
       "1929  2019-03-13 22:35:35  2019-03-13 22:35:49           1      0.00    2.50   \n",
       "3571  2019-03-22 16:47:41  2019-03-22 16:47:50           1      0.81   66.00   \n",
       "1416  2019-03-09 13:16:32  2019-03-09 13:46:11           2     12.39   35.00   \n",
       "4358  2019-03-06 18:24:00  2019-03-06 18:24:13           2      0.01    2.50   \n",
       "1089  2019-03-10 01:43:32  2019-03-10 01:45:22           1      0.37    3.50   \n",
       "5095  2019-03-30 20:14:44  2019-03-30 21:01:28           3     18.91   52.00   \n",
       "770   2019-03-02 03:16:59  2019-03-02 03:17:06           0      9.40    2.50   \n",
       "\n",
       "        tip  tolls   total   color      payment        pickup_zone  \\\n",
       "2387  20.80   0.00   90.16  yellow  credit card        JFK Airport   \n",
       "1080   0.00   0.00    3.30  yellow         cash        JFK Airport   \n",
       "120    0.00   0.00    4.30  yellow         cash        JFK Airport   \n",
       "5364   0.00  24.02  174.82  yellow         cash        JFK Airport   \n",
       "1929   0.00   0.00    3.80  yellow          NaN        JFK Airport   \n",
       "3571   0.00   0.00   66.80  yellow  credit card        JFK Airport   \n",
       "1416   0.00   0.00   35.80  yellow         cash  LaGuardia Airport   \n",
       "4358   0.00   0.00    4.30  yellow         cash        JFK Airport   \n",
       "1089   0.00   0.00    4.80  yellow         cash        JFK Airport   \n",
       "5095   8.78   5.76   67.34  yellow  credit card        JFK Airport   \n",
       "770    0.00   0.00    3.80  yellow          NaN        JFK Airport   \n",
       "\n",
       "     dropoff_zone pickup_borough dropoff_borough  \n",
       "2387  JFK Airport         Queens          Queens  \n",
       "1080  JFK Airport         Queens          Queens  \n",
       "120   JFK Airport         Queens          Queens  \n",
       "5364  JFK Airport         Queens          Queens  \n",
       "1929  JFK Airport         Queens          Queens  \n",
       "3571  JFK Airport         Queens          Queens  \n",
       "1416  JFK Airport         Queens          Queens  \n",
       "4358  JFK Airport         Queens          Queens  \n",
       "1089  JFK Airport         Queens          Queens  \n",
       "5095  JFK Airport         Queens          Queens  \n",
       "770   JFK Airport         Queens          Queens  "
      ]
     },
     "execution_count": 52,
     "metadata": {},
     "output_type": "execute_result"
    }
   ],
   "source": [
    "df[ser1.str.contains(\"Airport\") & ser2.str.contains(\"Airport\")]"
   ]
  }
 ],
 "metadata": {
  "deepnote": {},
  "deepnote_execution_queue": [],
  "deepnote_notebook_id": "bfe315205b564944bc5f6e221ef521aa",
  "deepnote_persisted_session": {
   "createdAt": "2023-04-14T20:48:42.743Z"
  },
  "kernelspec": {
   "display_name": "Python 3 (ipykernel)",
   "language": "python",
   "name": "python3"
  },
  "language_info": {
   "codemirror_mode": {
    "name": "ipython",
    "version": 3
   },
   "file_extension": ".py",
   "mimetype": "text/x-python",
   "name": "python",
   "nbconvert_exporter": "python",
   "pygments_lexer": "ipython3",
   "version": "3.9.16"
  }
 },
 "nbformat": 4,
 "nbformat_minor": 4
}
