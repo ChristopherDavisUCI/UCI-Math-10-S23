{
 "cells": [
  {
   "cell_type": "markdown",
   "metadata": {
    "cell_id": "cc5693bd56be483ea128727935a14910",
    "deepnote_cell_type": "markdown",
    "tags": []
   },
   "source": [
    "# Week 2 Friday\n",
    "\n",
    "Plan for today.\n",
    "* 20-30 minutes: Lecture\n",
    "* Remaining time: work on Worksheets 3-4.  Due Tuesday before Discussion Section.  Chupeng and I are here to help.\n",
    "* Reminder: Videos and video quizzes due.  Try to finish them after class if you haven't already."
   ]
  },
  {
   "cell_type": "code",
   "execution_count": 3,
   "metadata": {
    "cell_id": "5e9a426ae8d24e33b5742fc815c237d7",
    "deepnote_cell_type": "code",
    "deepnote_to_be_reexecuted": false,
    "execution_millis": 0,
    "execution_start": 1665162061523,
    "source_hash": "9b82ee11",
    "tags": []
   },
   "outputs": [],
   "source": [
    "import pandas as pd"
   ]
  },
  {
   "cell_type": "code",
   "execution_count": 4,
   "metadata": {
    "cell_id": "1622fd047d844aec9bfcd93eeac3b8df",
    "deepnote_cell_type": "code",
    "deepnote_to_be_reexecuted": false,
    "execution_millis": 94,
    "execution_start": 1665162064256,
    "source_hash": "cfe2f74b",
    "tags": []
   },
   "outputs": [],
   "source": [
    "df = pd.read_csv(\"indexData.csv\")\n",
    "df_info = pd.read_csv(\"indexInfo.csv\")"
   ]
  },
  {
   "cell_type": "markdown",
   "metadata": {
    "cell_id": "cebcbd10ab4a439a9cd4bc96dfaec199",
    "deepnote_cell_type": "markdown",
    "tags": []
   },
   "source": [
    "## Practice with `isna`, `any`, and list comprehension"
   ]
  },
  {
   "cell_type": "markdown",
   "metadata": {
    "cell_id": "6fea91049e7e4fe3b9a0a699a4cc469d",
    "deepnote_cell_type": "markdown",
    "tags": []
   },
   "source": [
    "* Make a Boolean Series indicating which columns in the indexData.csv file contain missing data.  Use `isna` and `any` with an appropriate `axis` keyword argument,   Name that Boolean Series `bool_ser`.\n",
    "\n",
    "The best way to answer these sorts of questions is to build up the solution one step at a time.  Here is the original DataFrame."
   ]
  },
  {
   "cell_type": "code",
   "execution_count": 5,
   "metadata": {
    "cell_id": "345e72af055c4524b8deae5889364c87",
    "deepnote_cell_type": "code",
    "deepnote_to_be_reexecuted": false,
    "execution_millis": 35,
    "execution_start": 1665162100878,
    "source_hash": "f804c160",
    "tags": [
     "output_scroll"
    ]
   },
   "outputs": [
    {
     "data": {
      "application/vnd.deepnote.dataframe.v3+json": {
       "column_count": 8,
       "columns": [
        {
         "dtype": "object",
         "name": "Name"
        },
        {
         "dtype": "object",
         "name": "Date"
        },
        {
         "dtype": "float64",
         "name": "Open"
        },
        {
         "dtype": "float64",
         "name": "High"
        },
        {
         "dtype": "float64",
         "name": "Low"
        },
        {
         "dtype": "float64",
         "name": "Close"
        },
        {
         "dtype": "float64",
         "name": "Adj Close"
        },
        {
         "dtype": "float64",
         "name": "Volume"
        },
        {
         "dtype": "int64",
         "name": "_deepnote_index_column"
        }
       ],
       "row_count": 112457,
       "rows": [
        {
         "Adj Close": "528.690002",
         "Close": "528.690002",
         "Date": "12/31/65",
         "High": "528.690002",
         "Low": "528.690002",
         "Name": "NYA",
         "Open": "528.690002",
         "Volume": "0.0",
         "_deepnote_index_column": "0"
        },
        {
         "Adj Close": "527.210022",
         "Close": "527.210022",
         "Date": "1/3/66",
         "High": "527.210022",
         "Low": "527.210022",
         "Name": "NYA",
         "Open": "527.210022",
         "Volume": "0.0",
         "_deepnote_index_column": "1"
        },
        {
         "Adj Close": "527.840027",
         "Close": "527.840027",
         "Date": "1/4/66",
         "High": "527.840027",
         "Low": "527.840027",
         "Name": "NYA",
         "Open": "527.840027",
         "Volume": "0.0",
         "_deepnote_index_column": "2"
        },
        {
         "Adj Close": "531.119995",
         "Close": "531.119995",
         "Date": "1/5/66",
         "High": "531.119995",
         "Low": "531.119995",
         "Name": "NYA",
         "Open": "531.119995",
         "Volume": "0.0",
         "_deepnote_index_column": "3"
        },
        {
         "Adj Close": "532.070007",
         "Close": "532.070007",
         "Date": "1/6/66",
         "High": "532.070007",
         "Low": "532.070007",
         "Name": "NYA",
         "Open": "532.070007",
         "Volume": "0.0",
         "_deepnote_index_column": "4"
        },
        {
         "Adj Close": "532.599976",
         "Close": "532.599976",
         "Date": "1/7/66",
         "High": "532.599976",
         "Low": "532.599976",
         "Name": "NYA",
         "Open": "532.599976",
         "Volume": "0.0",
         "_deepnote_index_column": "5"
        },
        {
         "Adj Close": "533.869995",
         "Close": "533.869995",
         "Date": "1/10/66",
         "High": "533.869995",
         "Low": "533.869995",
         "Name": "NYA",
         "Open": "533.869995",
         "Volume": "0.0",
         "_deepnote_index_column": "6"
        },
        {
         "Adj Close": "534.289978",
         "Close": "534.289978",
         "Date": "1/11/66",
         "High": "534.289978",
         "Low": "534.289978",
         "Name": "NYA",
         "Open": "534.289978",
         "Volume": "0.0",
         "_deepnote_index_column": "7"
        },
        {
         "Adj Close": "533.340027",
         "Close": "533.340027",
         "Date": "1/12/66",
         "High": "533.340027",
         "Low": "533.340027",
         "Name": "NYA",
         "Open": "533.340027",
         "Volume": "0.0",
         "_deepnote_index_column": "8"
        },
        {
         "Adj Close": "534.400024",
         "Close": "534.400024",
         "Date": "1/13/66",
         "High": "534.400024",
         "Low": "534.400024",
         "Name": "NYA",
         "Open": "534.400024",
         "Volume": "0.0",
         "_deepnote_index_column": "9"
        }
       ]
      },
      "text/html": [
       "<div>\n",
       "<style scoped>\n",
       "    .dataframe tbody tr th:only-of-type {\n",
       "        vertical-align: middle;\n",
       "    }\n",
       "\n",
       "    .dataframe tbody tr th {\n",
       "        vertical-align: top;\n",
       "    }\n",
       "\n",
       "    .dataframe thead th {\n",
       "        text-align: right;\n",
       "    }\n",
       "</style>\n",
       "<table border=\"1\" class=\"dataframe\">\n",
       "  <thead>\n",
       "    <tr style=\"text-align: right;\">\n",
       "      <th></th>\n",
       "      <th>Name</th>\n",
       "      <th>Date</th>\n",
       "      <th>Open</th>\n",
       "      <th>High</th>\n",
       "      <th>Low</th>\n",
       "      <th>Close</th>\n",
       "      <th>Adj Close</th>\n",
       "      <th>Volume</th>\n",
       "    </tr>\n",
       "  </thead>\n",
       "  <tbody>\n",
       "    <tr>\n",
       "      <th>0</th>\n",
       "      <td>NYA</td>\n",
       "      <td>12/31/65</td>\n",
       "      <td>528.690002</td>\n",
       "      <td>528.690002</td>\n",
       "      <td>528.690002</td>\n",
       "      <td>528.690002</td>\n",
       "      <td>528.690002</td>\n",
       "      <td>0.0</td>\n",
       "    </tr>\n",
       "    <tr>\n",
       "      <th>1</th>\n",
       "      <td>NYA</td>\n",
       "      <td>1/3/66</td>\n",
       "      <td>527.210022</td>\n",
       "      <td>527.210022</td>\n",
       "      <td>527.210022</td>\n",
       "      <td>527.210022</td>\n",
       "      <td>527.210022</td>\n",
       "      <td>0.0</td>\n",
       "    </tr>\n",
       "    <tr>\n",
       "      <th>2</th>\n",
       "      <td>NYA</td>\n",
       "      <td>1/4/66</td>\n",
       "      <td>527.840027</td>\n",
       "      <td>527.840027</td>\n",
       "      <td>527.840027</td>\n",
       "      <td>527.840027</td>\n",
       "      <td>527.840027</td>\n",
       "      <td>0.0</td>\n",
       "    </tr>\n",
       "    <tr>\n",
       "      <th>3</th>\n",
       "      <td>NYA</td>\n",
       "      <td>1/5/66</td>\n",
       "      <td>531.119995</td>\n",
       "      <td>531.119995</td>\n",
       "      <td>531.119995</td>\n",
       "      <td>531.119995</td>\n",
       "      <td>531.119995</td>\n",
       "      <td>0.0</td>\n",
       "    </tr>\n",
       "    <tr>\n",
       "      <th>4</th>\n",
       "      <td>NYA</td>\n",
       "      <td>1/6/66</td>\n",
       "      <td>532.070007</td>\n",
       "      <td>532.070007</td>\n",
       "      <td>532.070007</td>\n",
       "      <td>532.070007</td>\n",
       "      <td>532.070007</td>\n",
       "      <td>0.0</td>\n",
       "    </tr>\n",
       "    <tr>\n",
       "      <th>...</th>\n",
       "      <td>...</td>\n",
       "      <td>...</td>\n",
       "      <td>...</td>\n",
       "      <td>...</td>\n",
       "      <td>...</td>\n",
       "      <td>...</td>\n",
       "      <td>...</td>\n",
       "      <td>...</td>\n",
       "    </tr>\n",
       "    <tr>\n",
       "      <th>112452</th>\n",
       "      <td>N100</td>\n",
       "      <td>5/27/21</td>\n",
       "      <td>1241.119995</td>\n",
       "      <td>1251.910034</td>\n",
       "      <td>1241.119995</td>\n",
       "      <td>1247.069946</td>\n",
       "      <td>1247.069946</td>\n",
       "      <td>379696400.0</td>\n",
       "    </tr>\n",
       "    <tr>\n",
       "      <th>112453</th>\n",
       "      <td>N100</td>\n",
       "      <td>5/28/21</td>\n",
       "      <td>1249.469971</td>\n",
       "      <td>1259.209961</td>\n",
       "      <td>1249.030029</td>\n",
       "      <td>1256.599976</td>\n",
       "      <td>1256.599976</td>\n",
       "      <td>160773400.0</td>\n",
       "    </tr>\n",
       "    <tr>\n",
       "      <th>112454</th>\n",
       "      <td>N100</td>\n",
       "      <td>5/31/21</td>\n",
       "      <td>1256.079956</td>\n",
       "      <td>1258.880005</td>\n",
       "      <td>1248.140015</td>\n",
       "      <td>1248.930054</td>\n",
       "      <td>1248.930054</td>\n",
       "      <td>91173700.0</td>\n",
       "    </tr>\n",
       "    <tr>\n",
       "      <th>112455</th>\n",
       "      <td>N100</td>\n",
       "      <td>6/1/21</td>\n",
       "      <td>1254.609985</td>\n",
       "      <td>1265.660034</td>\n",
       "      <td>1254.609985</td>\n",
       "      <td>1258.579956</td>\n",
       "      <td>1258.579956</td>\n",
       "      <td>155179900.0</td>\n",
       "    </tr>\n",
       "    <tr>\n",
       "      <th>112456</th>\n",
       "      <td>N100</td>\n",
       "      <td>6/2/21</td>\n",
       "      <td>1258.489990</td>\n",
       "      <td>1263.709961</td>\n",
       "      <td>1258.239990</td>\n",
       "      <td>1263.619995</td>\n",
       "      <td>1263.619995</td>\n",
       "      <td>148465000.0</td>\n",
       "    </tr>\n",
       "  </tbody>\n",
       "</table>\n",
       "<p>112457 rows × 8 columns</p>\n",
       "</div>"
      ],
      "text/plain": [
       "        Name      Date         Open         High          Low        Close  \\\n",
       "0        NYA  12/31/65   528.690002   528.690002   528.690002   528.690002   \n",
       "1        NYA    1/3/66   527.210022   527.210022   527.210022   527.210022   \n",
       "2        NYA    1/4/66   527.840027   527.840027   527.840027   527.840027   \n",
       "3        NYA    1/5/66   531.119995   531.119995   531.119995   531.119995   \n",
       "4        NYA    1/6/66   532.070007   532.070007   532.070007   532.070007   \n",
       "...      ...       ...          ...          ...          ...          ...   \n",
       "112452  N100   5/27/21  1241.119995  1251.910034  1241.119995  1247.069946   \n",
       "112453  N100   5/28/21  1249.469971  1259.209961  1249.030029  1256.599976   \n",
       "112454  N100   5/31/21  1256.079956  1258.880005  1248.140015  1248.930054   \n",
       "112455  N100    6/1/21  1254.609985  1265.660034  1254.609985  1258.579956   \n",
       "112456  N100    6/2/21  1258.489990  1263.709961  1258.239990  1263.619995   \n",
       "\n",
       "          Adj Close       Volume  \n",
       "0        528.690002          0.0  \n",
       "1        527.210022          0.0  \n",
       "2        527.840027          0.0  \n",
       "3        531.119995          0.0  \n",
       "4        532.070007          0.0  \n",
       "...             ...          ...  \n",
       "112452  1247.069946  379696400.0  \n",
       "112453  1256.599976  160773400.0  \n",
       "112454  1248.930054   91173700.0  \n",
       "112455  1258.579956  155179900.0  \n",
       "112456  1263.619995  148465000.0  \n",
       "\n",
       "[112457 rows x 8 columns]"
      ]
     },
     "execution_count": 5,
     "metadata": {},
     "output_type": "execute_result"
    }
   ],
   "source": [
    "df"
   ]
  },
  {
   "cell_type": "markdown",
   "metadata": {},
   "source": [
    "Here is the result of calling the `isna` method.  We see `False` because there weren't any missing values in the portion of the DataFrame we could see."
   ]
  },
  {
   "cell_type": "code",
   "execution_count": 6,
   "metadata": {
    "cell_id": "d638843fc56d43ab8bd3974783364a0d",
    "deepnote_cell_type": "code",
    "deepnote_to_be_reexecuted": false,
    "execution_millis": 36,
    "execution_start": 1665162148597,
    "source_hash": "6bf2de06",
    "tags": [
     "output_scroll"
    ]
   },
   "outputs": [
    {
     "data": {
      "application/vnd.deepnote.dataframe.v3+json": {
       "column_count": 8,
       "columns": [
        {
         "dtype": "bool",
         "name": "Name"
        },
        {
         "dtype": "bool",
         "name": "Date"
        },
        {
         "dtype": "bool",
         "name": "Open"
        },
        {
         "dtype": "bool",
         "name": "High"
        },
        {
         "dtype": "bool",
         "name": "Low"
        },
        {
         "dtype": "bool",
         "name": "Close"
        },
        {
         "dtype": "bool",
         "name": "Adj Close"
        },
        {
         "dtype": "bool",
         "name": "Volume"
        },
        {
         "dtype": "int64",
         "name": "_deepnote_index_column"
        }
       ],
       "row_count": 112457,
       "rows": [
        {
         "Adj Close": "False",
         "Close": "False",
         "Date": "False",
         "High": "False",
         "Low": "False",
         "Name": "False",
         "Open": "False",
         "Volume": "False",
         "_deepnote_index_column": "0"
        },
        {
         "Adj Close": "False",
         "Close": "False",
         "Date": "False",
         "High": "False",
         "Low": "False",
         "Name": "False",
         "Open": "False",
         "Volume": "False",
         "_deepnote_index_column": "1"
        },
        {
         "Adj Close": "False",
         "Close": "False",
         "Date": "False",
         "High": "False",
         "Low": "False",
         "Name": "False",
         "Open": "False",
         "Volume": "False",
         "_deepnote_index_column": "2"
        },
        {
         "Adj Close": "False",
         "Close": "False",
         "Date": "False",
         "High": "False",
         "Low": "False",
         "Name": "False",
         "Open": "False",
         "Volume": "False",
         "_deepnote_index_column": "3"
        },
        {
         "Adj Close": "False",
         "Close": "False",
         "Date": "False",
         "High": "False",
         "Low": "False",
         "Name": "False",
         "Open": "False",
         "Volume": "False",
         "_deepnote_index_column": "4"
        },
        {
         "Adj Close": "False",
         "Close": "False",
         "Date": "False",
         "High": "False",
         "Low": "False",
         "Name": "False",
         "Open": "False",
         "Volume": "False",
         "_deepnote_index_column": "5"
        },
        {
         "Adj Close": "False",
         "Close": "False",
         "Date": "False",
         "High": "False",
         "Low": "False",
         "Name": "False",
         "Open": "False",
         "Volume": "False",
         "_deepnote_index_column": "6"
        },
        {
         "Adj Close": "False",
         "Close": "False",
         "Date": "False",
         "High": "False",
         "Low": "False",
         "Name": "False",
         "Open": "False",
         "Volume": "False",
         "_deepnote_index_column": "7"
        },
        {
         "Adj Close": "False",
         "Close": "False",
         "Date": "False",
         "High": "False",
         "Low": "False",
         "Name": "False",
         "Open": "False",
         "Volume": "False",
         "_deepnote_index_column": "8"
        },
        {
         "Adj Close": "False",
         "Close": "False",
         "Date": "False",
         "High": "False",
         "Low": "False",
         "Name": "False",
         "Open": "False",
         "Volume": "False",
         "_deepnote_index_column": "9"
        }
       ]
      },
      "text/html": [
       "<div>\n",
       "<style scoped>\n",
       "    .dataframe tbody tr th:only-of-type {\n",
       "        vertical-align: middle;\n",
       "    }\n",
       "\n",
       "    .dataframe tbody tr th {\n",
       "        vertical-align: top;\n",
       "    }\n",
       "\n",
       "    .dataframe thead th {\n",
       "        text-align: right;\n",
       "    }\n",
       "</style>\n",
       "<table border=\"1\" class=\"dataframe\">\n",
       "  <thead>\n",
       "    <tr style=\"text-align: right;\">\n",
       "      <th></th>\n",
       "      <th>Name</th>\n",
       "      <th>Date</th>\n",
       "      <th>Open</th>\n",
       "      <th>High</th>\n",
       "      <th>Low</th>\n",
       "      <th>Close</th>\n",
       "      <th>Adj Close</th>\n",
       "      <th>Volume</th>\n",
       "    </tr>\n",
       "  </thead>\n",
       "  <tbody>\n",
       "    <tr>\n",
       "      <th>0</th>\n",
       "      <td>False</td>\n",
       "      <td>False</td>\n",
       "      <td>False</td>\n",
       "      <td>False</td>\n",
       "      <td>False</td>\n",
       "      <td>False</td>\n",
       "      <td>False</td>\n",
       "      <td>False</td>\n",
       "    </tr>\n",
       "    <tr>\n",
       "      <th>1</th>\n",
       "      <td>False</td>\n",
       "      <td>False</td>\n",
       "      <td>False</td>\n",
       "      <td>False</td>\n",
       "      <td>False</td>\n",
       "      <td>False</td>\n",
       "      <td>False</td>\n",
       "      <td>False</td>\n",
       "    </tr>\n",
       "    <tr>\n",
       "      <th>2</th>\n",
       "      <td>False</td>\n",
       "      <td>False</td>\n",
       "      <td>False</td>\n",
       "      <td>False</td>\n",
       "      <td>False</td>\n",
       "      <td>False</td>\n",
       "      <td>False</td>\n",
       "      <td>False</td>\n",
       "    </tr>\n",
       "    <tr>\n",
       "      <th>3</th>\n",
       "      <td>False</td>\n",
       "      <td>False</td>\n",
       "      <td>False</td>\n",
       "      <td>False</td>\n",
       "      <td>False</td>\n",
       "      <td>False</td>\n",
       "      <td>False</td>\n",
       "      <td>False</td>\n",
       "    </tr>\n",
       "    <tr>\n",
       "      <th>4</th>\n",
       "      <td>False</td>\n",
       "      <td>False</td>\n",
       "      <td>False</td>\n",
       "      <td>False</td>\n",
       "      <td>False</td>\n",
       "      <td>False</td>\n",
       "      <td>False</td>\n",
       "      <td>False</td>\n",
       "    </tr>\n",
       "    <tr>\n",
       "      <th>...</th>\n",
       "      <td>...</td>\n",
       "      <td>...</td>\n",
       "      <td>...</td>\n",
       "      <td>...</td>\n",
       "      <td>...</td>\n",
       "      <td>...</td>\n",
       "      <td>...</td>\n",
       "      <td>...</td>\n",
       "    </tr>\n",
       "    <tr>\n",
       "      <th>112452</th>\n",
       "      <td>False</td>\n",
       "      <td>False</td>\n",
       "      <td>False</td>\n",
       "      <td>False</td>\n",
       "      <td>False</td>\n",
       "      <td>False</td>\n",
       "      <td>False</td>\n",
       "      <td>False</td>\n",
       "    </tr>\n",
       "    <tr>\n",
       "      <th>112453</th>\n",
       "      <td>False</td>\n",
       "      <td>False</td>\n",
       "      <td>False</td>\n",
       "      <td>False</td>\n",
       "      <td>False</td>\n",
       "      <td>False</td>\n",
       "      <td>False</td>\n",
       "      <td>False</td>\n",
       "    </tr>\n",
       "    <tr>\n",
       "      <th>112454</th>\n",
       "      <td>False</td>\n",
       "      <td>False</td>\n",
       "      <td>False</td>\n",
       "      <td>False</td>\n",
       "      <td>False</td>\n",
       "      <td>False</td>\n",
       "      <td>False</td>\n",
       "      <td>False</td>\n",
       "    </tr>\n",
       "    <tr>\n",
       "      <th>112455</th>\n",
       "      <td>False</td>\n",
       "      <td>False</td>\n",
       "      <td>False</td>\n",
       "      <td>False</td>\n",
       "      <td>False</td>\n",
       "      <td>False</td>\n",
       "      <td>False</td>\n",
       "      <td>False</td>\n",
       "    </tr>\n",
       "    <tr>\n",
       "      <th>112456</th>\n",
       "      <td>False</td>\n",
       "      <td>False</td>\n",
       "      <td>False</td>\n",
       "      <td>False</td>\n",
       "      <td>False</td>\n",
       "      <td>False</td>\n",
       "      <td>False</td>\n",
       "      <td>False</td>\n",
       "    </tr>\n",
       "  </tbody>\n",
       "</table>\n",
       "<p>112457 rows × 8 columns</p>\n",
       "</div>"
      ],
      "text/plain": [
       "         Name   Date   Open   High    Low  Close  Adj Close  Volume\n",
       "0       False  False  False  False  False  False      False   False\n",
       "1       False  False  False  False  False  False      False   False\n",
       "2       False  False  False  False  False  False      False   False\n",
       "3       False  False  False  False  False  False      False   False\n",
       "4       False  False  False  False  False  False      False   False\n",
       "...       ...    ...    ...    ...    ...    ...        ...     ...\n",
       "112452  False  False  False  False  False  False      False   False\n",
       "112453  False  False  False  False  False  False      False   False\n",
       "112454  False  False  False  False  False  False      False   False\n",
       "112455  False  False  False  False  False  False      False   False\n",
       "112456  False  False  False  False  False  False      False   False\n",
       "\n",
       "[112457 rows x 8 columns]"
      ]
     },
     "execution_count": 6,
     "metadata": {},
     "output_type": "execute_result"
    }
   ],
   "source": [
    "df.isna()"
   ]
  },
  {
   "cell_type": "markdown",
   "metadata": {},
   "source": [
    "We now go from the pandas DataFrame we see above to a pandas Series.  The `axis=0` says that we should plug in one full column at a time.  (We may talk later about a more general way to understand this `axis` keyword argument.  For now, just memorize that `axis=0` means to plug in a full column at a time.)"
   ]
  },
  {
   "cell_type": "code",
   "execution_count": 7,
   "metadata": {
    "cell_id": "dcb75fe1bd2c43ffac21f9092e829a53",
    "deepnote_cell_type": "code",
    "deepnote_to_be_reexecuted": false,
    "execution_millis": 12,
    "execution_start": 1665162199110,
    "source_hash": "db139358",
    "tags": []
   },
   "outputs": [
    {
     "data": {
      "text/plain": [
       "Name         False\n",
       "Date         False\n",
       "Open          True\n",
       "High          True\n",
       "Low           True\n",
       "Close         True\n",
       "Adj Close     True\n",
       "Volume        True\n",
       "dtype: bool"
      ]
     },
     "execution_count": 7,
     "metadata": {},
     "output_type": "execute_result"
    }
   ],
   "source": [
    "df.isna().any(axis=0)"
   ]
  },
  {
   "cell_type": "markdown",
   "metadata": {},
   "source": [
    "If this `any` method is difficult to understand, maybe it will be more clear on a smaller DataFrame."
   ]
  },
  {
   "cell_type": "code",
   "execution_count": 9,
   "metadata": {
    "cell_id": "a13280472297484995b6632e8f848325",
    "deepnote_cell_type": "code",
    "deepnote_to_be_reexecuted": false,
    "execution_millis": 5,
    "execution_start": 1665162410802,
    "source_hash": "9f6f3b78",
    "tags": []
   },
   "outputs": [
    {
     "data": {
      "application/vnd.deepnote.dataframe.v3+json": {
       "column_count": 2,
       "columns": [
        {
         "dtype": "bool",
         "name": "A",
         "stats": {
          "categories": [
           {
            "count": 2,
            "name": "False"
           }
          ],
          "nan_count": 0,
          "unique_count": 1
         }
        },
        {
         "dtype": "bool",
         "name": "B",
         "stats": {
          "categories": [
           {
            "count": 1,
            "name": "True"
           },
           {
            "count": 1,
            "name": "False"
           }
          ],
          "nan_count": 0,
          "unique_count": 2
         }
        },
        {
         "dtype": "int64",
         "name": "_deepnote_index_column"
        }
       ],
       "row_count": 2,
       "rows": [
        {
         "A": "False",
         "B": "True",
         "_deepnote_index_column": "0"
        },
        {
         "A": "False",
         "B": "False",
         "_deepnote_index_column": "1"
        }
       ]
      },
      "text/html": [
       "<div>\n",
       "<style scoped>\n",
       "    .dataframe tbody tr th:only-of-type {\n",
       "        vertical-align: middle;\n",
       "    }\n",
       "\n",
       "    .dataframe tbody tr th {\n",
       "        vertical-align: top;\n",
       "    }\n",
       "\n",
       "    .dataframe thead th {\n",
       "        text-align: right;\n",
       "    }\n",
       "</style>\n",
       "<table border=\"1\" class=\"dataframe\">\n",
       "  <thead>\n",
       "    <tr style=\"text-align: right;\">\n",
       "      <th></th>\n",
       "      <th>A</th>\n",
       "      <th>B</th>\n",
       "    </tr>\n",
       "  </thead>\n",
       "  <tbody>\n",
       "    <tr>\n",
       "      <th>0</th>\n",
       "      <td>False</td>\n",
       "      <td>True</td>\n",
       "    </tr>\n",
       "    <tr>\n",
       "      <th>1</th>\n",
       "      <td>False</td>\n",
       "      <td>False</td>\n",
       "    </tr>\n",
       "  </tbody>\n",
       "</table>\n",
       "</div>"
      ],
      "text/plain": [
       "       A      B\n",
       "0  False   True\n",
       "1  False  False"
      ]
     },
     "execution_count": 9,
     "metadata": {},
     "output_type": "execute_result"
    }
   ],
   "source": [
    "df_small = pd.DataFrame([[False, True], [False, False]], columns=[\"A\",\"B\"])\n",
    "df_small"
   ]
  },
  {
   "cell_type": "markdown",
   "metadata": {},
   "source": [
    "There was a question about data types of columns.  That could mean a few different things.  The entries in the columns are of type `bool`."
   ]
  },
  {
   "cell_type": "code",
   "execution_count": 10,
   "metadata": {
    "cell_id": "9b9abc62d747426fb9191badb3987670",
    "deepnote_cell_type": "code",
    "deepnote_to_be_reexecuted": false,
    "execution_millis": 7,
    "execution_start": 1665162447647,
    "source_hash": "e5f35d20",
    "tags": []
   },
   "outputs": [
    {
     "data": {
      "text/plain": [
       "A    bool\n",
       "B    bool\n",
       "dtype: object"
      ]
     },
     "execution_count": 10,
     "metadata": {},
     "output_type": "execute_result"
    }
   ],
   "source": [
    "df_small.dtypes"
   ]
  },
  {
   "cell_type": "code",
   "execution_count": 11,
   "metadata": {
    "cell_id": "3081b1fb70914a5ebb94309ca34015d8",
    "deepnote_cell_type": "code",
    "deepnote_to_be_reexecuted": false,
    "execution_millis": 5,
    "execution_start": 1665162498468,
    "source_hash": "70942249",
    "tags": []
   },
   "outputs": [
    {
     "data": {
      "text/plain": [
       "Index(['A', 'B'], dtype='object')"
      ]
     },
     "execution_count": 11,
     "metadata": {},
     "output_type": "execute_result"
    }
   ],
   "source": [
    "df_small.columns"
   ]
  },
  {
   "cell_type": "markdown",
   "metadata": {},
   "source": [
    "The names of the columns are of type `str`, for string."
   ]
  },
  {
   "cell_type": "code",
   "execution_count": 12,
   "metadata": {
    "cell_id": "0ca8b6162a434bd383bb7870a54a4d7f",
    "deepnote_cell_type": "code",
    "deepnote_to_be_reexecuted": false,
    "execution_millis": 226,
    "execution_start": 1665162526936,
    "source_hash": "9d329efc",
    "tags": []
   },
   "outputs": [
    {
     "data": {
      "text/plain": [
       "[str, str]"
      ]
     },
     "execution_count": 12,
     "metadata": {},
     "output_type": "execute_result"
    }
   ],
   "source": [
    "[type(col) for col in df_small.columns]"
   ]
  },
  {
   "cell_type": "markdown",
   "metadata": {},
   "source": [
    "The full column is a pandas Series."
   ]
  },
  {
   "cell_type": "code",
   "execution_count": 13,
   "metadata": {
    "cell_id": "3c46374dd9e44f218af1a881b9ee6f74",
    "deepnote_cell_type": "code",
    "deepnote_to_be_reexecuted": false,
    "execution_millis": 265,
    "execution_start": 1665162573786,
    "source_hash": "d7030ba9",
    "tags": []
   },
   "outputs": [
    {
     "data": {
      "text/plain": [
       "pandas.core.series.Series"
      ]
     },
     "execution_count": 13,
     "metadata": {},
     "output_type": "execute_result"
    }
   ],
   "source": [
    "type(df_small[\"A\"])"
   ]
  },
  {
   "cell_type": "markdown",
   "metadata": {},
   "source": [
    "Back to the original topic, which was about how this `any` method works."
   ]
  },
  {
   "cell_type": "code",
   "execution_count": 14,
   "metadata": {
    "cell_id": "2a212750e13d4413a230f3c3b9cf05b6",
    "deepnote_cell_type": "code",
    "deepnote_to_be_reexecuted": false,
    "execution_millis": 6,
    "execution_start": 1665162583028,
    "source_hash": "baab8b53",
    "tags": []
   },
   "outputs": [
    {
     "data": {
      "application/vnd.deepnote.dataframe.v3+json": {
       "column_count": 2,
       "columns": [
        {
         "dtype": "bool",
         "name": "A",
         "stats": {
          "categories": [
           {
            "count": 2,
            "name": "False"
           }
          ],
          "nan_count": 0,
          "unique_count": 1
         }
        },
        {
         "dtype": "bool",
         "name": "B",
         "stats": {
          "categories": [
           {
            "count": 1,
            "name": "True"
           },
           {
            "count": 1,
            "name": "False"
           }
          ],
          "nan_count": 0,
          "unique_count": 2
         }
        },
        {
         "dtype": "int64",
         "name": "_deepnote_index_column"
        }
       ],
       "row_count": 2,
       "rows": [
        {
         "A": "False",
         "B": "True",
         "_deepnote_index_column": "0"
        },
        {
         "A": "False",
         "B": "False",
         "_deepnote_index_column": "1"
        }
       ]
      },
      "text/html": [
       "<div>\n",
       "<style scoped>\n",
       "    .dataframe tbody tr th:only-of-type {\n",
       "        vertical-align: middle;\n",
       "    }\n",
       "\n",
       "    .dataframe tbody tr th {\n",
       "        vertical-align: top;\n",
       "    }\n",
       "\n",
       "    .dataframe thead th {\n",
       "        text-align: right;\n",
       "    }\n",
       "</style>\n",
       "<table border=\"1\" class=\"dataframe\">\n",
       "  <thead>\n",
       "    <tr style=\"text-align: right;\">\n",
       "      <th></th>\n",
       "      <th>A</th>\n",
       "      <th>B</th>\n",
       "    </tr>\n",
       "  </thead>\n",
       "  <tbody>\n",
       "    <tr>\n",
       "      <th>0</th>\n",
       "      <td>False</td>\n",
       "      <td>True</td>\n",
       "    </tr>\n",
       "    <tr>\n",
       "      <th>1</th>\n",
       "      <td>False</td>\n",
       "      <td>False</td>\n",
       "    </tr>\n",
       "  </tbody>\n",
       "</table>\n",
       "</div>"
      ],
      "text/plain": [
       "       A      B\n",
       "0  False   True\n",
       "1  False  False"
      ]
     },
     "execution_count": 14,
     "metadata": {},
     "output_type": "execute_result"
    }
   ],
   "source": [
    "df_small"
   ]
  },
  {
   "cell_type": "markdown",
   "metadata": {},
   "source": [
    "Here we go through each column, one at a time, and check if it contains any `True` values.  Notice how we don't use `isna` in this case.  The `isna` was to get Boolean values, but here we already have Boolean values."
   ]
  },
  {
   "cell_type": "code",
   "execution_count": 15,
   "metadata": {
    "cell_id": "64855b0638294d12a6e2601d46933e3e",
    "deepnote_cell_type": "code",
    "deepnote_to_be_reexecuted": false,
    "execution_millis": 10,
    "execution_start": 1665162662546,
    "source_hash": "23e9836f",
    "tags": []
   },
   "outputs": [
    {
     "data": {
      "text/plain": [
       "A    False\n",
       "B     True\n",
       "dtype: bool"
      ]
     },
     "execution_count": 15,
     "metadata": {},
     "output_type": "execute_result"
    }
   ],
   "source": [
    "df_small.any(axis=0)"
   ]
  },
  {
   "cell_type": "markdown",
   "metadata": {},
   "source": [
    "Equally useful to the `any` method is the `all` method.  In this case, we get `False` for the values, because no column is entirely `True`."
   ]
  },
  {
   "cell_type": "code",
   "execution_count": 16,
   "metadata": {
    "cell_id": "a0c7119995fa472bb9e5c63b1f48e294",
    "deepnote_cell_type": "code",
    "deepnote_to_be_reexecuted": false,
    "execution_millis": 5,
    "execution_start": 1665162790683,
    "source_hash": "330cc033",
    "tags": []
   },
   "outputs": [
    {
     "data": {
      "text/plain": [
       "A    False\n",
       "B    False\n",
       "dtype: bool"
      ]
     },
     "execution_count": 16,
     "metadata": {},
     "output_type": "execute_result"
    }
   ],
   "source": [
    "df_small.all(axis=0)"
   ]
  },
  {
   "cell_type": "markdown",
   "metadata": {},
   "source": [
    "If we use `axis=1`, then we are plugging in a full row at a time.  (Notice that the rows are labeled as `0` and `1`, whereas we specified when we created `df_small` that the columns should labeled as `\"A\"` and `\"B\"`."
   ]
  },
  {
   "cell_type": "code",
   "execution_count": 17,
   "metadata": {
    "cell_id": "b8b81274b36d4d828cbeb5de7ece1729",
    "deepnote_cell_type": "code",
    "deepnote_to_be_reexecuted": false,
    "execution_millis": 5,
    "execution_start": 1665162827485,
    "source_hash": "7943b0bf",
    "tags": []
   },
   "outputs": [
    {
     "data": {
      "text/plain": [
       "0     True\n",
       "1    False\n",
       "dtype: bool"
      ]
     },
     "execution_count": 17,
     "metadata": {},
     "output_type": "execute_result"
    }
   ],
   "source": [
    "df_small.any(axis=1)"
   ]
  },
  {
   "cell_type": "code",
   "execution_count": 18,
   "metadata": {
    "cell_id": "7e59f25b6c014663b0497cf8f57206de",
    "deepnote_cell_type": "code",
    "deepnote_to_be_reexecuted": false,
    "execution_millis": 6,
    "execution_start": 1665162846668,
    "source_hash": "baab8b53",
    "tags": []
   },
   "outputs": [
    {
     "data": {
      "application/vnd.deepnote.dataframe.v3+json": {
       "column_count": 2,
       "columns": [
        {
         "dtype": "bool",
         "name": "A",
         "stats": {
          "categories": [
           {
            "count": 2,
            "name": "False"
           }
          ],
          "nan_count": 0,
          "unique_count": 1
         }
        },
        {
         "dtype": "bool",
         "name": "B",
         "stats": {
          "categories": [
           {
            "count": 1,
            "name": "True"
           },
           {
            "count": 1,
            "name": "False"
           }
          ],
          "nan_count": 0,
          "unique_count": 2
         }
        },
        {
         "dtype": "int64",
         "name": "_deepnote_index_column"
        }
       ],
       "row_count": 2,
       "rows": [
        {
         "A": "False",
         "B": "True",
         "_deepnote_index_column": "0"
        },
        {
         "A": "False",
         "B": "False",
         "_deepnote_index_column": "1"
        }
       ]
      },
      "text/html": [
       "<div>\n",
       "<style scoped>\n",
       "    .dataframe tbody tr th:only-of-type {\n",
       "        vertical-align: middle;\n",
       "    }\n",
       "\n",
       "    .dataframe tbody tr th {\n",
       "        vertical-align: top;\n",
       "    }\n",
       "\n",
       "    .dataframe thead th {\n",
       "        text-align: right;\n",
       "    }\n",
       "</style>\n",
       "<table border=\"1\" class=\"dataframe\">\n",
       "  <thead>\n",
       "    <tr style=\"text-align: right;\">\n",
       "      <th></th>\n",
       "      <th>A</th>\n",
       "      <th>B</th>\n",
       "    </tr>\n",
       "  </thead>\n",
       "  <tbody>\n",
       "    <tr>\n",
       "      <th>0</th>\n",
       "      <td>False</td>\n",
       "      <td>True</td>\n",
       "    </tr>\n",
       "    <tr>\n",
       "      <th>1</th>\n",
       "      <td>False</td>\n",
       "      <td>False</td>\n",
       "    </tr>\n",
       "  </tbody>\n",
       "</table>\n",
       "</div>"
      ],
      "text/plain": [
       "       A      B\n",
       "0  False   True\n",
       "1  False  False"
      ]
     },
     "execution_count": 18,
     "metadata": {},
     "output_type": "execute_result"
    }
   ],
   "source": [
    "df_small"
   ]
  },
  {
   "cell_type": "markdown",
   "metadata": {
    "cell_id": "0d8638be9e374d3ab112791df2df571c",
    "deepnote_cell_type": "markdown",
    "tags": []
   },
   "source": [
    "* Using list comprehension and `bool_ser.index`, make a list of all the column names which contain missing data."
   ]
  },
  {
   "cell_type": "markdown",
   "metadata": {},
   "source": [
    "Here is a construction of `bool_ser`.  This is a pandas Series whose index contains the names of the columns and whose values are `True` or `False`, depending on whether that column had missing data or not."
   ]
  },
  {
   "cell_type": "code",
   "execution_count": 19,
   "metadata": {
    "cell_id": "a71fa90c957d42ae992edef581b669c1",
    "deepnote_cell_type": "code",
    "deepnote_to_be_reexecuted": false,
    "execution_millis": 16,
    "execution_start": 1665162911220,
    "source_hash": "b8880fb2",
    "tags": []
   },
   "outputs": [
    {
     "data": {
      "text/plain": [
       "Name         False\n",
       "Date         False\n",
       "Open          True\n",
       "High          True\n",
       "Low           True\n",
       "Close         True\n",
       "Adj Close     True\n",
       "Volume        True\n",
       "dtype: bool"
      ]
     },
     "execution_count": 19,
     "metadata": {},
     "output_type": "execute_result"
    }
   ],
   "source": [
    "bool_ser = df.isna().any(axis=0)\n",
    "bool_ser"
   ]
  },
  {
   "cell_type": "markdown",
   "metadata": {},
   "source": [
    "Here is an example of list comprehension.  This just creates a list with every column name."
   ]
  },
  {
   "cell_type": "code",
   "execution_count": 20,
   "metadata": {
    "cell_id": "5a18c80253874036a0b84710ffb6b6ed",
    "deepnote_cell_type": "code",
    "deepnote_to_be_reexecuted": false,
    "execution_millis": 4,
    "execution_start": 1665162957234,
    "source_hash": "b735cc31",
    "tags": []
   },
   "outputs": [
    {
     "data": {
      "text/plain": [
       "['Name', 'Date', 'Open', 'High', 'Low', 'Close', 'Adj Close', 'Volume']"
      ]
     },
     "execution_count": 20,
     "metadata": {},
     "output_type": "execute_result"
    }
   ],
   "source": [
    "[c for c in bool_ser.index]"
   ]
  },
  {
   "cell_type": "markdown",
   "metadata": {},
   "source": [
    "We only want the names of the columns which have missing data, so we add an `if` condition.  The following is correct but it is not good style, because `boolser[c] == True` is the exact same as `boolser[c]` itself."
   ]
  },
  {
   "cell_type": "code",
   "execution_count": 21,
   "metadata": {
    "cell_id": "d26ed7cc1a12497cb3630e935164fc54",
    "deepnote_cell_type": "code",
    "deepnote_to_be_reexecuted": false,
    "execution_millis": 3,
    "execution_start": 1665163009452,
    "source_hash": "c953db0a",
    "tags": []
   },
   "outputs": [
    {
     "data": {
      "text/plain": [
       "['Open', 'High', 'Low', 'Close', 'Adj Close', 'Volume']"
      ]
     },
     "execution_count": 21,
     "metadata": {},
     "output_type": "execute_result"
    }
   ],
   "source": [
    "[c for c in bool_ser.index if bool_ser[c] == True]"
   ]
  },
  {
   "cell_type": "markdown",
   "metadata": {},
   "source": [
    "Here is the more elegant version."
   ]
  },
  {
   "cell_type": "code",
   "execution_count": 22,
   "metadata": {
    "cell_id": "f17524b04faf4e6ba6af3262416e05aa",
    "deepnote_cell_type": "code",
    "deepnote_to_be_reexecuted": false,
    "execution_millis": 5,
    "execution_start": 1665163051137,
    "source_hash": "18b7d236",
    "tags": []
   },
   "outputs": [
    {
     "data": {
      "text/plain": [
       "['Open', 'High', 'Low', 'Close', 'Adj Close', 'Volume']"
      ]
     },
     "execution_count": 22,
     "metadata": {},
     "output_type": "execute_result"
    }
   ],
   "source": [
    "# Better style\n",
    "[c for c in bool_ser.index if bool_ser[c]]"
   ]
  },
  {
   "cell_type": "markdown",
   "metadata": {
    "cell_id": "14753e7f4a394f25b37df7c55be4eac9",
    "deepnote_cell_type": "markdown",
    "tags": []
   },
   "source": [
    "* Find the same columns using Boolean indexing.  (If you really want it to be a list, wrap the answer in the `list` constructor.)"
   ]
  },
  {
   "cell_type": "markdown",
   "metadata": {},
   "source": [
    "Here is a reminder of what `bool_ser` looked like.  This is a good candidate for Boolean indexing, because it is a Boolean Series."
   ]
  },
  {
   "cell_type": "code",
   "execution_count": 23,
   "metadata": {
    "cell_id": "a6aecde9c4c94f4cb121f37c3554d563",
    "deepnote_cell_type": "code",
    "deepnote_to_be_reexecuted": false,
    "execution_millis": 7,
    "execution_start": 1665163094835,
    "source_hash": "3e20a200",
    "tags": []
   },
   "outputs": [
    {
     "data": {
      "text/plain": [
       "Name         False\n",
       "Date         False\n",
       "Open          True\n",
       "High          True\n",
       "Low           True\n",
       "Close         True\n",
       "Adj Close     True\n",
       "Volume        True\n",
       "dtype: bool"
      ]
     },
     "execution_count": 23,
     "metadata": {},
     "output_type": "execute_result"
    }
   ],
   "source": [
    "bool_ser"
   ]
  },
  {
   "cell_type": "markdown",
   "metadata": {},
   "source": [
    "Here we use Boolean indexing to keep only the key/value pairs for which the value is `True`."
   ]
  },
  {
   "cell_type": "code",
   "execution_count": 25,
   "metadata": {
    "cell_id": "804626dc86654cd7a22d8363120b585d",
    "deepnote_cell_type": "code",
    "deepnote_to_be_reexecuted": false,
    "execution_millis": 8,
    "execution_start": 1665163115397,
    "source_hash": "1d0ce615",
    "tags": []
   },
   "outputs": [
    {
     "data": {
      "text/plain": [
       "Open         True\n",
       "High         True\n",
       "Low          True\n",
       "Close        True\n",
       "Adj Close    True\n",
       "Volume       True\n",
       "dtype: bool"
      ]
     },
     "execution_count": 25,
     "metadata": {},
     "output_type": "execute_result"
    }
   ],
   "source": [
    "# Boolean indexing, both the keys and the values\n",
    "bool_ser[bool_ser]"
   ]
  },
  {
   "cell_type": "markdown",
   "metadata": {},
   "source": [
    "If we only care about the left-hand terms (the index, which I also call the keys), we can use the `index` attribute."
   ]
  },
  {
   "cell_type": "code",
   "execution_count": 26,
   "metadata": {
    "cell_id": "c3414bf1e22d4da1a1e13998a513e9b8",
    "deepnote_cell_type": "code",
    "deepnote_to_be_reexecuted": false,
    "execution_millis": 5,
    "execution_start": 1665163124690,
    "source_hash": "e4c1de15",
    "tags": []
   },
   "outputs": [
    {
     "data": {
      "text/plain": [
       "Index(['Open', 'High', 'Low', 'Close', 'Adj Close', 'Volume'], dtype='object')"
      ]
     },
     "execution_count": 26,
     "metadata": {},
     "output_type": "execute_result"
    }
   ],
   "source": [
    "# Boolean indexing then index (only keep the keys, only keep the index)\n",
    "bool_ser[bool_ser].index"
   ]
  },
  {
   "cell_type": "markdown",
   "metadata": {},
   "source": [
    "If that's confusing, maybe this example will be more clear, because the values look more interesting."
   ]
  },
  {
   "cell_type": "code",
   "execution_count": 29,
   "metadata": {
    "cell_id": "493d09857ebb4126ad54560ddf159bd3",
    "deepnote_cell_type": "code",
    "deepnote_to_be_reexecuted": false,
    "execution_millis": 225,
    "execution_start": 1665163395182,
    "source_hash": "1364f074",
    "tags": []
   },
   "outputs": [
    {
     "data": {
      "text/plain": [
       "a     3\n",
       "c    10\n",
       "g    -5\n",
       "dtype: int64"
      ]
     },
     "execution_count": 29,
     "metadata": {},
     "output_type": "execute_result"
    }
   ],
   "source": [
    "test_series = pd.Series({\"a\": 3, \"c\": 10, \"g\": -5})\n",
    "test_series"
   ]
  },
  {
   "cell_type": "markdown",
   "metadata": {},
   "source": [
    "Notice how the values (3, 10, -5) disappear when we ask for the index."
   ]
  },
  {
   "cell_type": "code",
   "execution_count": 30,
   "metadata": {
    "cell_id": "8c1935023bee49b2a58834e9cd75c26a",
    "deepnote_cell_type": "code",
    "deepnote_to_be_reexecuted": false,
    "execution_millis": 5,
    "execution_start": 1665163401862,
    "source_hash": "66ee4058",
    "tags": []
   },
   "outputs": [
    {
     "data": {
      "text/plain": [
       "Index(['a', 'c', 'g'], dtype='object')"
      ]
     },
     "execution_count": 30,
     "metadata": {},
     "output_type": "execute_result"
    }
   ],
   "source": [
    "test_series.index"
   ]
  },
  {
   "cell_type": "markdown",
   "metadata": {},
   "source": [
    "I wasn't totally sure this would work because I don't need to remove the keys very often, but we can get the values by accessing the `values` attribute.  (I also thought it might need parentheses like a method, but it doesn't.)"
   ]
  },
  {
   "cell_type": "code",
   "execution_count": 31,
   "metadata": {
    "cell_id": "4e6ac8b64c9641eaac7942bd6e8709e2",
    "deepnote_cell_type": "code",
    "deepnote_to_be_reexecuted": false,
    "execution_millis": 5,
    "execution_start": 1665163433723,
    "source_hash": "8f3dbc45",
    "tags": []
   },
   "outputs": [
    {
     "data": {
      "text/plain": [
       "array([ 3, 10, -5])"
      ]
     },
     "execution_count": 31,
     "metadata": {},
     "output_type": "execute_result"
    }
   ],
   "source": [
    "test_series.values"
   ]
  },
  {
   "cell_type": "markdown",
   "metadata": {},
   "source": [
    "Notice how `bool_ser[bool_ser].index` was not a list.  If you really want it to be a list (there isn't much advantage to making it a list), then you can wrap it in the `list` constructor function."
   ]
  },
  {
   "cell_type": "code",
   "execution_count": 27,
   "metadata": {
    "cell_id": "530d6f0b40be4b2cb9b47ec73a616ddb",
    "deepnote_cell_type": "code",
    "deepnote_to_be_reexecuted": false,
    "execution_millis": 6,
    "execution_start": 1665163164868,
    "source_hash": "2826cb1b",
    "tags": []
   },
   "outputs": [
    {
     "data": {
      "text/plain": [
       "['Open', 'High', 'Low', 'Close', 'Adj Close', 'Volume']"
      ]
     },
     "execution_count": 27,
     "metadata": {},
     "output_type": "execute_result"
    }
   ],
   "source": [
    "# If you insist on it being a list\n",
    "list(bool_ser[bool_ser].index)"
   ]
  },
  {
   "cell_type": "markdown",
   "metadata": {
    "cell_id": "be2c60568df74ea4acc1da5ac5eab573",
    "deepnote_cell_type": "markdown",
    "tags": []
   },
   "source": [
    "* Make the same list using a list comprehension of the form \n",
    "```\n",
    "[c for c in df.columns if ???]\n",
    "```"
   ]
  },
  {
   "cell_type": "markdown",
   "metadata": {},
   "source": [
    "Here we don't need to put an `axis` term in the `any` method, because `df[c].isna()` is a pandas Series, so it only has one dimension, so we don't need to specify a dimension when we call `any`.  (There are definitely other ways to do this.  Probably `df.isna().any(axis=0)[c]` would also work.)"
   ]
  },
  {
   "cell_type": "code",
   "execution_count": 28,
   "metadata": {
    "cell_id": "b4467257c14e4a849990605702374aa8",
    "deepnote_cell_type": "code",
    "deepnote_to_be_reexecuted": false,
    "execution_millis": 23,
    "execution_start": 1665163229224,
    "source_hash": "98137b40",
    "tags": []
   },
   "outputs": [
    {
     "data": {
      "text/plain": [
       "['Open', 'High', 'Low', 'Close', 'Adj Close', 'Volume']"
      ]
     },
     "execution_count": 28,
     "metadata": {},
     "output_type": "execute_result"
    }
   ],
   "source": [
    "[c for c in df.columns if df[c].isna().any()]"
   ]
  },
  {
   "cell_type": "markdown",
   "metadata": {
    "cell_id": "6628446e216d48ee854df72498229549",
    "deepnote_cell_type": "markdown",
    "tags": []
   },
   "source": [
    "## Boolean indexing vs `groupby`"
   ]
  },
  {
   "cell_type": "markdown",
   "metadata": {},
   "source": [
    "Here is the other DataFrame we loaded."
   ]
  },
  {
   "cell_type": "code",
   "execution_count": 32,
   "metadata": {
    "cell_id": "3454f8a19dc14d31b58ccb6dec77dc22",
    "deepnote_cell_type": "code",
    "deepnote_to_be_reexecuted": false,
    "execution_millis": 11,
    "execution_start": 1665163476716,
    "source_hash": "4be3011a",
    "tags": []
   },
   "outputs": [
    {
     "data": {
      "application/vnd.deepnote.dataframe.v3+json": {
       "column_count": 4,
       "columns": [
        {
         "dtype": "object",
         "name": "Region",
         "stats": {
          "categories": [
           {
            "count": 2,
            "name": "United States"
           },
           {
            "count": 2,
            "name": "China"
           },
           {
            "count": 10,
            "name": "10 others"
           }
          ],
          "nan_count": 0,
          "unique_count": 12
         }
        },
        {
         "dtype": "object",
         "name": "Exchange",
         "stats": {
          "categories": [
           {
            "count": 1,
            "name": "New York Stock Exchange"
           },
           {
            "count": 1,
            "name": "NASDAQ"
           },
           {
            "count": 12,
            "name": "12 others"
           }
          ],
          "nan_count": 0,
          "unique_count": 14
         }
        },
        {
         "dtype": "object",
         "name": "Index",
         "stats": {
          "categories": [
           {
            "count": 1,
            "name": "NYA"
           },
           {
            "count": 1,
            "name": "IXIC"
           },
           {
            "count": 12,
            "name": "12 others"
           }
          ],
          "nan_count": 0,
          "unique_count": 14
         }
        },
        {
         "dtype": "object",
         "name": "Currency",
         "stats": {
          "categories": [
           {
            "count": 2,
            "name": "USD"
           },
           {
            "count": 2,
            "name": "CNY"
           },
           {
            "count": 10,
            "name": "9 others"
           }
          ],
          "nan_count": 0,
          "unique_count": 11
         }
        },
        {
         "dtype": "int64",
         "name": "_deepnote_index_column"
        }
       ],
       "row_count": 14,
       "rows": [
        {
         "Currency": "USD",
         "Exchange": "New York Stock Exchange",
         "Index": "NYA",
         "Region": "United States",
         "_deepnote_index_column": "0"
        },
        {
         "Currency": "USD",
         "Exchange": "NASDAQ",
         "Index": "IXIC",
         "Region": "United States",
         "_deepnote_index_column": "1"
        },
        {
         "Currency": "HKD",
         "Exchange": "Hong Kong Stock Exchange",
         "Index": "HSI",
         "Region": "Hong Kong",
         "_deepnote_index_column": "2"
        },
        {
         "Currency": "CNY",
         "Exchange": "Shanghai Stock Exchange",
         "Index": "000001.SS",
         "Region": "China",
         "_deepnote_index_column": "3"
        },
        {
         "Currency": "JPY",
         "Exchange": "Tokyo Stock Exchange",
         "Index": "N225",
         "Region": "Japan",
         "_deepnote_index_column": "4"
        },
        {
         "Currency": "EUR",
         "Exchange": "Euronext",
         "Index": "N100",
         "Region": "Europe",
         "_deepnote_index_column": "5"
        },
        {
         "Currency": "CNY",
         "Exchange": "Shenzhen Stock Exchange",
         "Index": "399001.SZ",
         "Region": "China",
         "_deepnote_index_column": "6"
        },
        {
         "Currency": "CAD",
         "Exchange": "Toronto Stock Exchange",
         "Index": "GSPTSE",
         "Region": "Canada",
         "_deepnote_index_column": "7"
        },
        {
         "Currency": "INR",
         "Exchange": "National Stock Exchange of India",
         "Index": "NSEI",
         "Region": "India",
         "_deepnote_index_column": "8"
        },
        {
         "Currency": "EUR",
         "Exchange": "Frankfurt Stock Exchange",
         "Index": "GDAXI",
         "Region": "Germany",
         "_deepnote_index_column": "9"
        }
       ]
      },
      "text/html": [
       "<div>\n",
       "<style scoped>\n",
       "    .dataframe tbody tr th:only-of-type {\n",
       "        vertical-align: middle;\n",
       "    }\n",
       "\n",
       "    .dataframe tbody tr th {\n",
       "        vertical-align: top;\n",
       "    }\n",
       "\n",
       "    .dataframe thead th {\n",
       "        text-align: right;\n",
       "    }\n",
       "</style>\n",
       "<table border=\"1\" class=\"dataframe\">\n",
       "  <thead>\n",
       "    <tr style=\"text-align: right;\">\n",
       "      <th></th>\n",
       "      <th>Region</th>\n",
       "      <th>Exchange</th>\n",
       "      <th>Index</th>\n",
       "      <th>Currency</th>\n",
       "    </tr>\n",
       "  </thead>\n",
       "  <tbody>\n",
       "    <tr>\n",
       "      <th>0</th>\n",
       "      <td>United States</td>\n",
       "      <td>New York Stock Exchange</td>\n",
       "      <td>NYA</td>\n",
       "      <td>USD</td>\n",
       "    </tr>\n",
       "    <tr>\n",
       "      <th>1</th>\n",
       "      <td>United States</td>\n",
       "      <td>NASDAQ</td>\n",
       "      <td>IXIC</td>\n",
       "      <td>USD</td>\n",
       "    </tr>\n",
       "    <tr>\n",
       "      <th>2</th>\n",
       "      <td>Hong Kong</td>\n",
       "      <td>Hong Kong Stock Exchange</td>\n",
       "      <td>HSI</td>\n",
       "      <td>HKD</td>\n",
       "    </tr>\n",
       "    <tr>\n",
       "      <th>3</th>\n",
       "      <td>China</td>\n",
       "      <td>Shanghai Stock Exchange</td>\n",
       "      <td>000001.SS</td>\n",
       "      <td>CNY</td>\n",
       "    </tr>\n",
       "    <tr>\n",
       "      <th>4</th>\n",
       "      <td>Japan</td>\n",
       "      <td>Tokyo Stock Exchange</td>\n",
       "      <td>N225</td>\n",
       "      <td>JPY</td>\n",
       "    </tr>\n",
       "    <tr>\n",
       "      <th>5</th>\n",
       "      <td>Europe</td>\n",
       "      <td>Euronext</td>\n",
       "      <td>N100</td>\n",
       "      <td>EUR</td>\n",
       "    </tr>\n",
       "    <tr>\n",
       "      <th>6</th>\n",
       "      <td>China</td>\n",
       "      <td>Shenzhen Stock Exchange</td>\n",
       "      <td>399001.SZ</td>\n",
       "      <td>CNY</td>\n",
       "    </tr>\n",
       "    <tr>\n",
       "      <th>7</th>\n",
       "      <td>Canada</td>\n",
       "      <td>Toronto Stock Exchange</td>\n",
       "      <td>GSPTSE</td>\n",
       "      <td>CAD</td>\n",
       "    </tr>\n",
       "    <tr>\n",
       "      <th>8</th>\n",
       "      <td>India</td>\n",
       "      <td>National Stock Exchange of India</td>\n",
       "      <td>NSEI</td>\n",
       "      <td>INR</td>\n",
       "    </tr>\n",
       "    <tr>\n",
       "      <th>9</th>\n",
       "      <td>Germany</td>\n",
       "      <td>Frankfurt Stock Exchange</td>\n",
       "      <td>GDAXI</td>\n",
       "      <td>EUR</td>\n",
       "    </tr>\n",
       "    <tr>\n",
       "      <th>10</th>\n",
       "      <td>Korea</td>\n",
       "      <td>Korea Exchange</td>\n",
       "      <td>KS11</td>\n",
       "      <td>KRW</td>\n",
       "    </tr>\n",
       "    <tr>\n",
       "      <th>11</th>\n",
       "      <td>Switzerland</td>\n",
       "      <td>SIX Swiss Exchange</td>\n",
       "      <td>SSMI</td>\n",
       "      <td>CHF</td>\n",
       "    </tr>\n",
       "    <tr>\n",
       "      <th>12</th>\n",
       "      <td>Taiwan</td>\n",
       "      <td>Taiwan Stock Exchange</td>\n",
       "      <td>TWII</td>\n",
       "      <td>TWD</td>\n",
       "    </tr>\n",
       "    <tr>\n",
       "      <th>13</th>\n",
       "      <td>South Africa</td>\n",
       "      <td>Johannesburg Stock Exchange</td>\n",
       "      <td>J203.JO</td>\n",
       "      <td>ZAR</td>\n",
       "    </tr>\n",
       "  </tbody>\n",
       "</table>\n",
       "</div>"
      ],
      "text/plain": [
       "           Region                          Exchange      Index Currency\n",
       "0   United States           New York Stock Exchange        NYA      USD\n",
       "1   United States                            NASDAQ       IXIC      USD\n",
       "2       Hong Kong          Hong Kong Stock Exchange        HSI      HKD\n",
       "3           China           Shanghai Stock Exchange  000001.SS      CNY\n",
       "4           Japan              Tokyo Stock Exchange       N225      JPY\n",
       "5          Europe                          Euronext       N100      EUR\n",
       "6           China           Shenzhen Stock Exchange  399001.SZ      CNY\n",
       "7          Canada            Toronto Stock Exchange     GSPTSE      CAD\n",
       "8           India  National Stock Exchange of India       NSEI      INR\n",
       "9         Germany          Frankfurt Stock Exchange      GDAXI      EUR\n",
       "10          Korea                    Korea Exchange       KS11      KRW\n",
       "11    Switzerland                SIX Swiss Exchange       SSMI      CHF\n",
       "12         Taiwan             Taiwan Stock Exchange       TWII      TWD\n",
       "13   South Africa       Johannesburg Stock Exchange    J203.JO      ZAR"
      ]
     },
     "execution_count": 32,
     "metadata": {},
     "output_type": "execute_result"
    }
   ],
   "source": [
    "df_info"
   ]
  },
  {
   "cell_type": "markdown",
   "metadata": {
    "cell_id": "33f4e9024f7847d9a6b8b0dce64d9087",
    "deepnote_cell_type": "markdown",
    "tags": []
   },
   "source": [
    "* Using a for loop, Boolean indexing, and an f-string (but no `groupby`), for each currency in `df_info`, print how many rows in the dataset use that currency."
   ]
  },
  {
   "cell_type": "markdown",
   "metadata": {},
   "source": [
    "Notice how there are some repetitions."
   ]
  },
  {
   "cell_type": "code",
   "execution_count": 33,
   "metadata": {
    "cell_id": "b1318467e3e646b29b5d61f29474e30f",
    "deepnote_cell_type": "code",
    "deepnote_to_be_reexecuted": false,
    "execution_millis": 5,
    "execution_start": 1665163548505,
    "source_hash": "e0d45ccf",
    "tags": []
   },
   "outputs": [
    {
     "name": "stdout",
     "output_type": "stream",
     "text": [
      "USD\n",
      "USD\n",
      "HKD\n",
      "CNY\n",
      "JPY\n",
      "EUR\n",
      "CNY\n",
      "CAD\n",
      "INR\n",
      "EUR\n",
      "KRW\n",
      "CHF\n",
      "TWD\n",
      "ZAR\n"
     ]
    }
   ],
   "source": [
    "for cur in df_info[\"Currency\"]:\n",
    "    print(cur)"
   ]
  },
  {
   "cell_type": "markdown",
   "metadata": {},
   "source": [
    "We can use `df_info[\"Currency\"].unique()` if we don't want repeated currencies."
   ]
  },
  {
   "cell_type": "code",
   "execution_count": 34,
   "metadata": {
    "cell_id": "0d175bdb48bd4115979dc3296b2371a6",
    "deepnote_cell_type": "code",
    "deepnote_to_be_reexecuted": false,
    "execution_millis": 162,
    "execution_start": 1665163585921,
    "source_hash": "47b5c15f",
    "tags": []
   },
   "outputs": [
    {
     "name": "stdout",
     "output_type": "stream",
     "text": [
      "USD\n",
      "HKD\n",
      "CNY\n",
      "JPY\n",
      "EUR\n",
      "CAD\n",
      "INR\n",
      "KRW\n",
      "CHF\n",
      "TWD\n",
      "ZAR\n"
     ]
    }
   ],
   "source": [
    "for cur in df_info[\"Currency\"].unique():\n",
    "    print(cur)"
   ]
  },
  {
   "cell_type": "markdown",
   "metadata": {},
   "source": [
    "The following is similar to what you are asked to do in Worksheet 3.  (In Worksheet 3, you are asked to provide more information than just the number of rows.)"
   ]
  },
  {
   "cell_type": "code",
   "execution_count": 38,
   "metadata": {
    "cell_id": "7c311f6ff74a4c2ca9e5cc55c99f84f4",
    "deepnote_cell_type": "code",
    "deepnote_to_be_reexecuted": false,
    "execution_millis": 7,
    "execution_start": 1665163824511,
    "source_hash": "8d89dbb0",
    "tags": []
   },
   "outputs": [
    {
     "name": "stdout",
     "output_type": "stream",
     "text": [
      "The currency is USD and the number of rows is 2\n",
      "The currency is HKD and the number of rows is 1\n",
      "The currency is CNY and the number of rows is 2\n",
      "The currency is JPY and the number of rows is 1\n",
      "The currency is EUR and the number of rows is 2\n",
      "The currency is CAD and the number of rows is 1\n",
      "The currency is INR and the number of rows is 1\n",
      "The currency is KRW and the number of rows is 1\n",
      "The currency is CHF and the number of rows is 1\n",
      "The currency is TWD and the number of rows is 1\n",
      "The currency is ZAR and the number of rows is 1\n"
     ]
    }
   ],
   "source": [
    "# Hint for the end of Worksheet 3\n",
    "for cur in df_info[\"Currency\"].unique():\n",
    "    df_sub = df_info[df_info[\"Currency\"] == cur]\n",
    "    print(f\"The currency is {cur} and the number of rows is {len(df_sub)}\")"
   ]
  },
  {
   "cell_type": "markdown",
   "metadata": {
    "cell_id": "cc877e164e55432d8fdef7859a5c0be8",
    "deepnote_cell_type": "markdown",
    "tags": []
   },
   "source": [
    "* Print the same information, again using a for loop, this time using a pandas GroupBy object and its `count` method."
   ]
  },
  {
   "cell_type": "markdown",
   "metadata": {},
   "source": [
    "The object `df_info.groupby(\"Currency\")` by itself is not very useful."
   ]
  },
  {
   "cell_type": "code",
   "execution_count": 40,
   "metadata": {
    "cell_id": "1737339614aa4d5981d83233cacf6a83",
    "deepnote_cell_type": "code",
    "deepnote_to_be_reexecuted": false,
    "execution_millis": 3,
    "execution_start": 1665163910983,
    "source_hash": "c6019a15",
    "tags": []
   },
   "outputs": [
    {
     "data": {
      "text/plain": [
       "<pandas.core.groupby.generic.DataFrameGroupBy object at 0x7f13b0a05310>"
      ]
     },
     "execution_count": 40,
     "metadata": {},
     "output_type": "execute_result"
    }
   ],
   "source": [
    "df_info.groupby(\"Currency\")"
   ]
  },
  {
   "cell_type": "markdown",
   "metadata": {},
   "source": [
    " We need to do something with this GroupBy object, like iterate over it using a for loop, or like in the following example, where we call the `count` method.  This tells us how many rows there are.  (At least in this case.  Maybe it subtracts missing values...)"
   ]
  },
  {
   "cell_type": "code",
   "execution_count": 41,
   "metadata": {
    "cell_id": "8995bc6c08194042af57178a5ed042d8",
    "deepnote_cell_type": "code",
    "deepnote_to_be_reexecuted": false,
    "execution_millis": 7,
    "execution_start": 1665163923176,
    "source_hash": "51c168ca",
    "tags": []
   },
   "outputs": [
    {
     "data": {
      "application/vnd.deepnote.dataframe.v3+json": {
       "column_count": 3,
       "columns": [
        {
         "dtype": "int64",
         "name": "Region",
         "stats": {
          "histogram": [
           {
            "bin_end": 1.1,
            "bin_start": 1,
            "count": 8
           },
           {
            "bin_end": 1.2,
            "bin_start": 1.1,
            "count": 0
           },
           {
            "bin_end": 1.3,
            "bin_start": 1.2,
            "count": 0
           },
           {
            "bin_end": 1.4,
            "bin_start": 1.3,
            "count": 0
           },
           {
            "bin_end": 1.5,
            "bin_start": 1.4,
            "count": 0
           },
           {
            "bin_end": 1.6,
            "bin_start": 1.5,
            "count": 0
           },
           {
            "bin_end": 1.7000000000000002,
            "bin_start": 1.6,
            "count": 0
           },
           {
            "bin_end": 1.8,
            "bin_start": 1.7000000000000002,
            "count": 0
           },
           {
            "bin_end": 1.9,
            "bin_start": 1.8,
            "count": 0
           },
           {
            "bin_end": 2,
            "bin_start": 1.9,
            "count": 3
           }
          ],
          "max": "2",
          "min": "1",
          "nan_count": 0,
          "unique_count": 2
         }
        },
        {
         "dtype": "int64",
         "name": "Exchange",
         "stats": {
          "histogram": [
           {
            "bin_end": 1.1,
            "bin_start": 1,
            "count": 8
           },
           {
            "bin_end": 1.2,
            "bin_start": 1.1,
            "count": 0
           },
           {
            "bin_end": 1.3,
            "bin_start": 1.2,
            "count": 0
           },
           {
            "bin_end": 1.4,
            "bin_start": 1.3,
            "count": 0
           },
           {
            "bin_end": 1.5,
            "bin_start": 1.4,
            "count": 0
           },
           {
            "bin_end": 1.6,
            "bin_start": 1.5,
            "count": 0
           },
           {
            "bin_end": 1.7000000000000002,
            "bin_start": 1.6,
            "count": 0
           },
           {
            "bin_end": 1.8,
            "bin_start": 1.7000000000000002,
            "count": 0
           },
           {
            "bin_end": 1.9,
            "bin_start": 1.8,
            "count": 0
           },
           {
            "bin_end": 2,
            "bin_start": 1.9,
            "count": 3
           }
          ],
          "max": "2",
          "min": "1",
          "nan_count": 0,
          "unique_count": 2
         }
        },
        {
         "dtype": "int64",
         "name": "Index",
         "stats": {
          "histogram": [
           {
            "bin_end": 1.1,
            "bin_start": 1,
            "count": 8
           },
           {
            "bin_end": 1.2,
            "bin_start": 1.1,
            "count": 0
           },
           {
            "bin_end": 1.3,
            "bin_start": 1.2,
            "count": 0
           },
           {
            "bin_end": 1.4,
            "bin_start": 1.3,
            "count": 0
           },
           {
            "bin_end": 1.5,
            "bin_start": 1.4,
            "count": 0
           },
           {
            "bin_end": 1.6,
            "bin_start": 1.5,
            "count": 0
           },
           {
            "bin_end": 1.7000000000000002,
            "bin_start": 1.6,
            "count": 0
           },
           {
            "bin_end": 1.8,
            "bin_start": 1.7000000000000002,
            "count": 0
           },
           {
            "bin_end": 1.9,
            "bin_start": 1.8,
            "count": 0
           },
           {
            "bin_end": 2,
            "bin_start": 1.9,
            "count": 3
           }
          ],
          "max": "2",
          "min": "1",
          "nan_count": 0,
          "unique_count": 2
         }
        },
        {
         "dtype": "object",
         "name": "_deepnote_index_column"
        }
       ],
       "row_count": 11,
       "rows": [
        {
         "Exchange": "1",
         "Index": "1",
         "Region": "1",
         "_deepnote_index_column": "CAD"
        },
        {
         "Exchange": "1",
         "Index": "1",
         "Region": "1",
         "_deepnote_index_column": "CHF"
        },
        {
         "Exchange": "2",
         "Index": "2",
         "Region": "2",
         "_deepnote_index_column": "CNY"
        },
        {
         "Exchange": "2",
         "Index": "2",
         "Region": "2",
         "_deepnote_index_column": "EUR"
        },
        {
         "Exchange": "1",
         "Index": "1",
         "Region": "1",
         "_deepnote_index_column": "HKD"
        },
        {
         "Exchange": "1",
         "Index": "1",
         "Region": "1",
         "_deepnote_index_column": "INR"
        },
        {
         "Exchange": "1",
         "Index": "1",
         "Region": "1",
         "_deepnote_index_column": "JPY"
        },
        {
         "Exchange": "1",
         "Index": "1",
         "Region": "1",
         "_deepnote_index_column": "KRW"
        },
        {
         "Exchange": "1",
         "Index": "1",
         "Region": "1",
         "_deepnote_index_column": "TWD"
        },
        {
         "Exchange": "2",
         "Index": "2",
         "Region": "2",
         "_deepnote_index_column": "USD"
        }
       ]
      },
      "text/html": [
       "<div>\n",
       "<style scoped>\n",
       "    .dataframe tbody tr th:only-of-type {\n",
       "        vertical-align: middle;\n",
       "    }\n",
       "\n",
       "    .dataframe tbody tr th {\n",
       "        vertical-align: top;\n",
       "    }\n",
       "\n",
       "    .dataframe thead th {\n",
       "        text-align: right;\n",
       "    }\n",
       "</style>\n",
       "<table border=\"1\" class=\"dataframe\">\n",
       "  <thead>\n",
       "    <tr style=\"text-align: right;\">\n",
       "      <th></th>\n",
       "      <th>Region</th>\n",
       "      <th>Exchange</th>\n",
       "      <th>Index</th>\n",
       "    </tr>\n",
       "    <tr>\n",
       "      <th>Currency</th>\n",
       "      <th></th>\n",
       "      <th></th>\n",
       "      <th></th>\n",
       "    </tr>\n",
       "  </thead>\n",
       "  <tbody>\n",
       "    <tr>\n",
       "      <th>CAD</th>\n",
       "      <td>1</td>\n",
       "      <td>1</td>\n",
       "      <td>1</td>\n",
       "    </tr>\n",
       "    <tr>\n",
       "      <th>CHF</th>\n",
       "      <td>1</td>\n",
       "      <td>1</td>\n",
       "      <td>1</td>\n",
       "    </tr>\n",
       "    <tr>\n",
       "      <th>CNY</th>\n",
       "      <td>2</td>\n",
       "      <td>2</td>\n",
       "      <td>2</td>\n",
       "    </tr>\n",
       "    <tr>\n",
       "      <th>EUR</th>\n",
       "      <td>2</td>\n",
       "      <td>2</td>\n",
       "      <td>2</td>\n",
       "    </tr>\n",
       "    <tr>\n",
       "      <th>HKD</th>\n",
       "      <td>1</td>\n",
       "      <td>1</td>\n",
       "      <td>1</td>\n",
       "    </tr>\n",
       "    <tr>\n",
       "      <th>INR</th>\n",
       "      <td>1</td>\n",
       "      <td>1</td>\n",
       "      <td>1</td>\n",
       "    </tr>\n",
       "    <tr>\n",
       "      <th>JPY</th>\n",
       "      <td>1</td>\n",
       "      <td>1</td>\n",
       "      <td>1</td>\n",
       "    </tr>\n",
       "    <tr>\n",
       "      <th>KRW</th>\n",
       "      <td>1</td>\n",
       "      <td>1</td>\n",
       "      <td>1</td>\n",
       "    </tr>\n",
       "    <tr>\n",
       "      <th>TWD</th>\n",
       "      <td>1</td>\n",
       "      <td>1</td>\n",
       "      <td>1</td>\n",
       "    </tr>\n",
       "    <tr>\n",
       "      <th>USD</th>\n",
       "      <td>2</td>\n",
       "      <td>2</td>\n",
       "      <td>2</td>\n",
       "    </tr>\n",
       "    <tr>\n",
       "      <th>ZAR</th>\n",
       "      <td>1</td>\n",
       "      <td>1</td>\n",
       "      <td>1</td>\n",
       "    </tr>\n",
       "  </tbody>\n",
       "</table>\n",
       "</div>"
      ],
      "text/plain": [
       "          Region  Exchange  Index\n",
       "Currency                         \n",
       "CAD            1         1      1\n",
       "CHF            1         1      1\n",
       "CNY            2         2      2\n",
       "EUR            2         2      2\n",
       "HKD            1         1      1\n",
       "INR            1         1      1\n",
       "JPY            1         1      1\n",
       "KRW            1         1      1\n",
       "TWD            1         1      1\n",
       "USD            2         2      2\n",
       "ZAR            1         1      1"
      ]
     },
     "execution_count": 41,
     "metadata": {},
     "output_type": "execute_result"
    }
   ],
   "source": [
    "df_info.groupby(\"Currency\").count()"
   ]
  },
  {
   "cell_type": "markdown",
   "metadata": {},
   "source": [
    "Notice how `df_info.groupby(\"Currency\").count()` is a pandas DataFrame.  So we can get the \"Region\" column from that DataFrame just like usual, by using square brackets."
   ]
  },
  {
   "cell_type": "code",
   "execution_count": 43,
   "metadata": {
    "cell_id": "5b84f4f40d5b4935a09e6c6dd657fa1d",
    "deepnote_cell_type": "code",
    "deepnote_to_be_reexecuted": false,
    "execution_millis": 817,
    "execution_start": 1665164007946,
    "source_hash": "d5736463",
    "tags": []
   },
   "outputs": [
    {
     "data": {
      "text/plain": [
       "Currency\n",
       "CAD    1\n",
       "CHF    1\n",
       "CNY    2\n",
       "EUR    2\n",
       "HKD    1\n",
       "INR    1\n",
       "JPY    1\n",
       "KRW    1\n",
       "TWD    1\n",
       "USD    2\n",
       "ZAR    1\n",
       "Name: Region, dtype: int64"
      ]
     },
     "execution_count": 43,
     "metadata": {},
     "output_type": "execute_result"
    }
   ],
   "source": [
    "gb_ser = df_info.groupby(\"Currency\").count()[\"Region\"]\n",
    "gb_ser"
   ]
  },
  {
   "cell_type": "markdown",
   "metadata": {},
   "source": [
    "This `gb_ser` pandas Series has all the information we want."
   ]
  },
  {
   "cell_type": "code",
   "execution_count": 44,
   "metadata": {
    "cell_id": "54a63cf2ed054997bb5ee1f1c00c2334",
    "deepnote_cell_type": "code",
    "deepnote_to_be_reexecuted": false,
    "execution_millis": 6,
    "execution_start": 1665164088638,
    "source_hash": "d74b7080",
    "tags": []
   },
   "outputs": [
    {
     "name": "stdout",
     "output_type": "stream",
     "text": [
      "The currency is CAD and the number of rows is 1\n",
      "The currency is CHF and the number of rows is 1\n",
      "The currency is CNY and the number of rows is 2\n",
      "The currency is EUR and the number of rows is 2\n",
      "The currency is HKD and the number of rows is 1\n",
      "The currency is INR and the number of rows is 1\n",
      "The currency is JPY and the number of rows is 1\n",
      "The currency is KRW and the number of rows is 1\n",
      "The currency is TWD and the number of rows is 1\n",
      "The currency is USD and the number of rows is 2\n",
      "The currency is ZAR and the number of rows is 1\n"
     ]
    }
   ],
   "source": [
    "for cur in gb_ser.index:\n",
    "    print(f\"The currency is {cur} and the number of rows is {gb_ser[cur]}\")"
   ]
  },
  {
   "cell_type": "markdown",
   "metadata": {
    "cell_id": "4f062e37760544e49586633f32ec0239",
    "deepnote_cell_type": "markdown",
    "tags": []
   },
   "source": [
    "* Print the same information, this time iterating over the GroupBy object as follows.\n",
    "\n",
    "```\n",
    "for cur, df_sub in ???:\n",
    "    print(???)\n",
    "```"
   ]
  },
  {
   "cell_type": "markdown",
   "metadata": {},
   "source": [
    "We didn't get here!"
   ]
  }
 ],
 "metadata": {
  "deepnote": {},
  "deepnote_execution_queue": [],
  "deepnote_notebook_id": "b54462c6ed694a2b8bf730dd655c396a",
  "kernelspec": {
   "display_name": "Python 3 (ipykernel)",
   "language": "python",
   "name": "python3"
  },
  "language_info": {
   "codemirror_mode": {
    "name": "ipython",
    "version": 3
   },
   "file_extension": ".py",
   "mimetype": "text/x-python",
   "name": "python",
   "nbconvert_exporter": "python",
   "pygments_lexer": "ipython3",
   "version": "3.9.13"
  }
 },
 "nbformat": 4,
 "nbformat_minor": 4
}
