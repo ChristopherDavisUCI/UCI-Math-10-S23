{
 "cells": [
  {
   "cell_type": "markdown",
   "metadata": {
    "cell_id": "d093fd74f9f54497988f45036b940cfb",
    "deepnote_cell_type": "markdown"
   },
   "source": [
    "# Week 4 Wednesday"
   ]
  },
  {
   "cell_type": "markdown",
   "metadata": {
    "cell_id": "66857e3dedf54f16b026ad69c1a391d9",
    "deepnote_cell_type": "markdown"
   },
   "source": [
    "## Announcements\n",
    "\n",
    "* The midterm is Monday.  A sample midterm is posted on the [Week 5](https://canvas.eee.uci.edu/courses/53164/pages/week-5) page on Canvas.  Solutions posted by Friday.\n",
    "* Jinghao gave out notecards on Tuesday, can put handwritten notes on both sides for the midterm.  Let me know if you still need a notecard.\n",
    "* The best way to study is to go over the worksheets, quizzes, and the sample midterm.  Next priority would be the [lecture notes](https://christopherdavisuci.github.io/UCI-Math-10-S23/Week3/Week3-Monday.html).\n",
    "* I briefly mention lots of topics.  If you're not sure if something could appear on the midterm, ask on Ed Discussion and I'll answer there.\n",
    "* Worksheet 8 is posted.  Both Worksheets 7-8 are due Monday night (the usual schedule).  Working on them will help you prepare for the midterm.\n",
    "* I have office hours before class on Friday, 12-1pm, in the same classroom ALP 3610.\n",
    "* Friday will have a slightly different structure from usual.  There will be time to work at the beginning (about 15 minutes) and then lecture for the last part of class."
   ]
  },
  {
   "cell_type": "markdown",
   "metadata": {
    "cell_id": "61f395c9f6954cbab0ce667d2af8fea9",
    "deepnote_cell_type": "markdown"
   },
   "source": [
    "## Plan for today\n",
    "\n",
    "Today I would like to introduce the pandas DataFrame method `apply` (which is necessary for this week's worksheets and is also good practice with `axis`) and continue discussing the Python topics from Monday (list comprehension, f-strings, and lambda functions)."
   ]
  },
  {
   "cell_type": "markdown",
   "metadata": {
    "cell_id": "81b9dffe06d74b078366962bc08522e2",
    "deepnote_cell_type": "markdown"
   },
   "source": [
    "## Practice with the DataFrame method `apply`"
   ]
  },
  {
   "cell_type": "markdown",
   "metadata": {
    "cell_id": "9af05615aa4540989e0558eadba2db7b",
    "deepnote_cell_type": "markdown"
   },
   "source": [
    "* Load the \"taxis\" dataset from Seaborn and drop rows with missing values."
   ]
  },
  {
   "cell_type": "code",
   "execution_count": 1,
   "metadata": {
    "cell_id": "8a7cb5ff89374b78a39fb38fcee31ea1",
    "deepnote_cell_type": "code",
    "deepnote_to_be_reexecuted": false,
    "execution_millis": 1446,
    "execution_start": 1682538701804,
    "source_hash": "3ec65468"
   },
   "outputs": [],
   "source": [
    "import seaborn as sns\n",
    "import pandas as pd"
   ]
  },
  {
   "cell_type": "code",
   "execution_count": 2,
   "metadata": {
    "cell_id": "e70551e766cb4c17aca46d709c7896e5",
    "deepnote_cell_type": "code",
    "deepnote_to_be_reexecuted": false,
    "execution_millis": 468,
    "execution_start": 1682539417925,
    "source_hash": "83203254"
   },
   "outputs": [],
   "source": [
    "df = sns.load_dataset(\"taxis\")\n",
    "df = df.dropna(axis=0)"
   ]
  },
  {
   "cell_type": "markdown",
   "metadata": {
    "cell_id": "2b8aacb63a2341048f3253aa14946727",
    "deepnote_cell_type": "markdown"
   },
   "source": [
    "* As a warm-up with `apply`, try applying the `len` function using first `axis=0` and then `axis=1`.  We'll see more serious uses below and in the homework."
   ]
  },
  {
   "cell_type": "markdown",
   "metadata": {},
   "source": [
    "Notice how the row labels have disappeared but the column labels are still here.  We have changed the row labels, which corresponds to `axis=0`.  The numbers `6341` correspond to the length of each of these columns."
   ]
  },
  {
   "cell_type": "code",
   "execution_count": 3,
   "metadata": {
    "cell_id": "902a97f971f947b68e52cc9461284d96",
    "deepnote_cell_type": "code",
    "deepnote_to_be_reexecuted": false,
    "execution_millis": 9,
    "execution_start": 1682539732832,
    "source_hash": "5a05120e"
   },
   "outputs": [
    {
     "data": {
      "text/plain": [
       "pickup             6341\n",
       "dropoff            6341\n",
       "passengers         6341\n",
       "distance           6341\n",
       "fare               6341\n",
       "tip                6341\n",
       "tolls              6341\n",
       "total              6341\n",
       "color              6341\n",
       "payment            6341\n",
       "pickup_zone        6341\n",
       "dropoff_zone       6341\n",
       "pickup_borough     6341\n",
       "dropoff_borough    6341\n",
       "dtype: int64"
      ]
     },
     "execution_count": 3,
     "metadata": {},
     "output_type": "execute_result"
    }
   ],
   "source": [
    "df.apply(len, axis=0)"
   ]
  },
  {
   "cell_type": "markdown",
   "metadata": {},
   "source": [
    "Here is an example of where the `6341` entry for `\"pickup\"` came from."
   ]
  },
  {
   "cell_type": "code",
   "execution_count": 4,
   "metadata": {
    "cell_id": "a53831c86da84f74b128d851a41b401e",
    "deepnote_cell_type": "code",
    "deepnote_to_be_reexecuted": false,
    "execution_millis": 3,
    "execution_start": 1682539760819,
    "source_hash": "f59b2565"
   },
   "outputs": [
    {
     "data": {
      "text/plain": [
       "6341"
      ]
     },
     "execution_count": 4,
     "metadata": {},
     "output_type": "execute_result"
    }
   ],
   "source": [
    "len(df[\"pickup\"])"
   ]
  },
  {
   "cell_type": "markdown",
   "metadata": {},
   "source": [
    "We were applying the `len` function to each of these columns."
   ]
  },
  {
   "cell_type": "code",
   "execution_count": 5,
   "metadata": {
    "cell_id": "1fa345e4cefb419dbcc8929c2bdfbe39",
    "deepnote_cell_type": "code",
    "deepnote_to_be_reexecuted": false,
    "execution_millis": 95,
    "execution_start": 1682539782785,
    "source_hash": "f804c160",
    "tags": [
     "output_scroll"
    ]
   },
   "outputs": [
    {
     "data": {
      "application/vnd.deepnote.dataframe.v3+json": {
       "column_count": 14,
       "columns": [
        {
         "dtype": "datetime64[ns]",
         "name": "pickup",
         "stats": {
          "histogram": [
           {
            "bin_end": 1551664471200000000,
            "bin_start": 1551396543000000000,
            "count": 602
           },
           {
            "bin_end": 1551932399400000000,
            "bin_start": 1551664471200000000,
            "count": 663
           },
           {
            "bin_end": 1552200327600000000,
            "bin_start": 1551932399400000000,
            "count": 664
           },
           {
            "bin_end": 1552468255800000000,
            "bin_start": 1552200327600000000,
            "count": 599
           },
           {
            "bin_end": 1552736184000000000,
            "bin_start": 1552468255800000000,
            "count": 743
           },
           {
            "bin_end": 1553004112200000000,
            "bin_start": 1552736184000000000,
            "count": 573
           },
           {
            "bin_end": 1553272040400000000,
            "bin_start": 1553004112200000000,
            "count": 683
           },
           {
            "bin_end": 1553539968600000000,
            "bin_start": 1553272040400000000,
            "count": 561
           },
           {
            "bin_end": 1553807896800000000,
            "bin_start": 1553539968600000000,
            "count": 630
           },
           {
            "bin_end": 1554075825000000000,
            "bin_start": 1553807896800000000,
            "count": 623
           }
          ],
          "max": "2019-03-31 23:43:45",
          "min": "2019-02-28 23:29:03",
          "nan_count": 0,
          "unique_count": 6322
         }
        },
        {
         "dtype": "datetime64[ns]",
         "name": "dropoff",
         "stats": {
          "histogram": [
           {
            "bin_end": 1551664843300000000,
            "bin_start": 1551396755000000000,
            "count": 602
           },
           {
            "bin_end": 1551932931600000000,
            "bin_start": 1551664843300000000,
            "count": 663
           },
           {
            "bin_end": 1552201019900000000,
            "bin_start": 1551932931600000000,
            "count": 664
           },
           {
            "bin_end": 1552469108200000000,
            "bin_start": 1552201019900000000,
            "count": 595
           },
           {
            "bin_end": 1552737196500000000,
            "bin_start": 1552469108200000000,
            "count": 749
           },
           {
            "bin_end": 1553005284800000000,
            "bin_start": 1552737196500000000,
            "count": 570
           },
           {
            "bin_end": 1553273373100000000,
            "bin_start": 1553005284800000000,
            "count": 686
           },
           {
            "bin_end": 1553541461400000000,
            "bin_start": 1553273373100000000,
            "count": 562
           },
           {
            "bin_end": 1553809549700000000,
            "bin_start": 1553541461400000000,
            "count": 630
           },
           {
            "bin_end": 1554077638000000000,
            "bin_start": 1553809549700000000,
            "count": 620
           }
          ],
          "max": "2019-04-01 00:13:58",
          "min": "2019-02-28 23:32:35",
          "nan_count": 0,
          "unique_count": 6333
         }
        },
        {
         "dtype": "int64",
         "name": "passengers",
         "stats": {
          "histogram": [
           {
            "bin_end": 0.6,
            "bin_start": 0,
            "count": 90
           },
           {
            "bin_end": 1.2,
            "bin_start": 0.6,
            "count": 4608
           },
           {
            "bin_end": 1.7999999999999998,
            "bin_start": 1.2,
            "count": 0
           },
           {
            "bin_end": 2.4,
            "bin_start": 1.7999999999999998,
            "count": 865
           },
           {
            "bin_end": 3,
            "bin_start": 2.4,
            "count": 0
           },
           {
            "bin_end": 3.5999999999999996,
            "bin_start": 3,
            "count": 240
           },
           {
            "bin_end": 4.2,
            "bin_start": 3.5999999999999996,
            "count": 109
           },
           {
            "bin_end": 4.8,
            "bin_start": 4.2,
            "count": 0
           },
           {
            "bin_end": 5.3999999999999995,
            "bin_start": 4.8,
            "count": 277
           },
           {
            "bin_end": 6,
            "bin_start": 5.3999999999999995,
            "count": 152
           }
          ],
          "max": "6",
          "min": "0",
          "nan_count": 0,
          "unique_count": 7
         }
        },
        {
         "dtype": "float64",
         "name": "distance",
         "stats": {
          "histogram": [
           {
            "bin_end": 3.6700000000000004,
            "bin_start": 0,
            "count": 4985
           },
           {
            "bin_end": 7.340000000000001,
            "bin_start": 3.6700000000000004,
            "count": 736
           },
           {
            "bin_end": 11.010000000000002,
            "bin_start": 7.340000000000001,
            "count": 316
           },
           {
            "bin_end": 14.680000000000001,
            "bin_start": 11.010000000000002,
            "count": 124
           },
           {
            "bin_end": 18.35,
            "bin_start": 14.680000000000001,
            "count": 99
           },
           {
            "bin_end": 22.020000000000003,
            "bin_start": 18.35,
            "count": 63
           },
           {
            "bin_end": 25.69,
            "bin_start": 22.020000000000003,
            "count": 13
           },
           {
            "bin_end": 29.360000000000003,
            "bin_start": 25.69,
            "count": 3
           },
           {
            "bin_end": 33.03,
            "bin_start": 29.360000000000003,
            "count": 1
           },
           {
            "bin_end": 36.7,
            "bin_start": 33.03,
            "count": 1
           }
          ],
          "max": "36.7",
          "min": "0.0",
          "nan_count": 0,
          "unique_count": 1064
         }
        },
        {
         "dtype": "float64",
         "name": "fare",
         "stats": {
          "histogram": [
           {
            "bin_end": 15.9,
            "bin_start": 1,
            "count": 4910
           },
           {
            "bin_end": 30.8,
            "bin_start": 15.9,
            "count": 970
           },
           {
            "bin_end": 45.7,
            "bin_start": 30.8,
            "count": 266
           },
           {
            "bin_end": 60.6,
            "bin_start": 45.7,
            "count": 178
           },
           {
            "bin_end": 75.5,
            "bin_start": 60.6,
            "count": 12
           },
           {
            "bin_end": 90.4,
            "bin_start": 75.5,
            "count": 3
           },
           {
            "bin_end": 105.3,
            "bin_start": 90.4,
            "count": 1
           },
           {
            "bin_end": 120.2,
            "bin_start": 105.3,
            "count": 0
           },
           {
            "bin_end": 135.1,
            "bin_start": 120.2,
            "count": 0
           },
           {
            "bin_end": 150,
            "bin_start": 135.1,
            "count": 1
           }
          ],
          "max": "150.0",
          "min": "1.0",
          "nan_count": 0,
          "unique_count": 206
         }
        },
        {
         "dtype": "float64",
         "name": "tip",
         "stats": {
          "histogram": [
           {
            "bin_end": 2.319,
            "bin_start": 0,
            "count": 4196
           },
           {
            "bin_end": 4.638,
            "bin_start": 2.319,
            "count": 1567
           },
           {
            "bin_end": 6.957,
            "bin_start": 4.638,
            "count": 306
           },
           {
            "bin_end": 9.276,
            "bin_start": 6.957,
            "count": 126
           },
           {
            "bin_end": 11.594999999999999,
            "bin_start": 9.276,
            "count": 76
           },
           {
            "bin_end": 13.914,
            "bin_start": 11.594999999999999,
            "count": 53
           },
           {
            "bin_end": 16.233,
            "bin_start": 13.914,
            "count": 11
           },
           {
            "bin_end": 18.552,
            "bin_start": 16.233,
            "count": 4
           },
           {
            "bin_end": 20.871,
            "bin_start": 18.552,
            "count": 1
           },
           {
            "bin_end": 23.19,
            "bin_start": 20.871,
            "count": 1
           }
          ],
          "max": "23.19",
          "min": "0.0",
          "nan_count": 0,
          "unique_count": 481
         }
        },
        {
         "dtype": "float64",
         "name": "tolls",
         "stats": {
          "histogram": [
           {
            "bin_end": 2.402,
            "bin_start": 0,
            "count": 6003
           },
           {
            "bin_end": 4.804,
            "bin_start": 2.402,
            "count": 7
           },
           {
            "bin_end": 7.206,
            "bin_start": 4.804,
            "count": 321
           },
           {
            "bin_end": 9.608,
            "bin_start": 7.206,
            "count": 3
           },
           {
            "bin_end": 12.010000000000002,
            "bin_start": 9.608,
            "count": 4
           },
           {
            "bin_end": 14.412,
            "bin_start": 12.010000000000002,
            "count": 1
           },
           {
            "bin_end": 16.814,
            "bin_start": 14.412,
            "count": 0
           },
           {
            "bin_end": 19.216,
            "bin_start": 16.814,
            "count": 1
           },
           {
            "bin_end": 21.618000000000002,
            "bin_start": 19.216,
            "count": 0
           },
           {
            "bin_end": 24.02,
            "bin_start": 21.618000000000002,
            "count": 1
           }
          ],
          "max": "24.02",
          "min": "0.0",
          "nan_count": 0,
          "unique_count": 14
         }
        },
        {
         "dtype": "float64",
         "name": "total",
         "stats": {
          "histogram": [
           {
            "bin_end": 18.651999999999997,
            "bin_start": 1.3,
            "count": 4452
           },
           {
            "bin_end": 36.00399999999999,
            "bin_start": 18.651999999999997,
            "count": 1353
           },
           {
            "bin_end": 53.35599999999999,
            "bin_start": 36.00399999999999,
            "count": 304
           },
           {
            "bin_end": 70.70799999999998,
            "bin_start": 53.35599999999999,
            "count": 156
           },
           {
            "bin_end": 88.05999999999999,
            "bin_start": 70.70799999999998,
            "count": 71
           },
           {
            "bin_end": 105.41199999999998,
            "bin_start": 88.05999999999999,
            "count": 4
           },
           {
            "bin_end": 122.76399999999997,
            "bin_start": 105.41199999999998,
            "count": 0
           },
           {
            "bin_end": 140.11599999999999,
            "bin_start": 122.76399999999997,
            "count": 0
           },
           {
            "bin_end": 157.468,
            "bin_start": 140.11599999999999,
            "count": 0
           },
           {
            "bin_end": 174.82,
            "bin_start": 157.468,
            "count": 1
           }
          ],
          "max": "174.82",
          "min": "1.3",
          "nan_count": 0,
          "unique_count": 877
         }
        },
        {
         "dtype": "object",
         "name": "color",
         "stats": {
          "categories": [
           {
            "count": 5373,
            "name": "yellow"
           },
           {
            "count": 968,
            "name": "green"
           }
          ],
          "nan_count": 0,
          "unique_count": 2
         }
        },
        {
         "dtype": "object",
         "name": "payment",
         "stats": {
          "categories": [
           {
            "count": 4546,
            "name": "credit card"
           },
           {
            "count": 1795,
            "name": "cash"
           }
          ],
          "nan_count": 0,
          "unique_count": 2
         }
        },
        {
         "dtype": "object",
         "name": "pickup_zone",
         "stats": {
          "categories": [
           {
            "count": 227,
            "name": "Midtown Center"
           },
           {
            "count": 209,
            "name": "Penn Station/Madison Sq West"
           },
           {
            "count": 5905,
            "name": "192 others"
           }
          ],
          "nan_count": 0,
          "unique_count": 194
         }
        },
        {
         "dtype": "object",
         "name": "dropoff_zone",
         "stats": {
          "categories": [
           {
            "count": 244,
            "name": "Upper East Side North"
           },
           {
            "count": 217,
            "name": "Murray Hill"
           },
           {
            "count": 5880,
            "name": "201 others"
           }
          ],
          "nan_count": 0,
          "unique_count": 203
         }
        },
        {
         "dtype": "object",
         "name": "pickup_borough",
         "stats": {
          "categories": [
           {
            "count": 5226,
            "name": "Manhattan"
           },
           {
            "count": 638,
            "name": "Queens"
           },
           {
            "count": 477,
            "name": "2 others"
           }
          ],
          "nan_count": 0,
          "unique_count": 4
         }
        },
        {
         "dtype": "object",
         "name": "dropoff_borough",
         "stats": {
          "categories": [
           {
            "count": 5172,
            "name": "Manhattan"
           },
           {
            "count": 534,
            "name": "Queens"
           },
           {
            "count": 635,
            "name": "3 others"
           }
          ],
          "nan_count": 0,
          "unique_count": 5
         }
        },
        {
         "dtype": "int64",
         "name": "_deepnote_index_column"
        }
       ],
       "row_count": 6341,
       "rows": [
        {
         "_deepnote_index_column": "0",
         "color": "yellow",
         "distance": "1.6",
         "dropoff": "2019-03-23 20:27:24",
         "dropoff_borough": "Manhattan",
         "dropoff_zone": "UN/Turtle Bay South",
         "fare": "7.0",
         "passengers": "1",
         "payment": "credit card",
         "pickup": "2019-03-23 20:21:09",
         "pickup_borough": "Manhattan",
         "pickup_zone": "Lenox Hill West",
         "tip": "2.15",
         "tolls": "0.0",
         "total": "12.95"
        },
        {
         "_deepnote_index_column": "1",
         "color": "yellow",
         "distance": "0.79",
         "dropoff": "2019-03-04 16:19:00",
         "dropoff_borough": "Manhattan",
         "dropoff_zone": "Upper West Side South",
         "fare": "5.0",
         "passengers": "1",
         "payment": "cash",
         "pickup": "2019-03-04 16:11:55",
         "pickup_borough": "Manhattan",
         "pickup_zone": "Upper West Side South",
         "tip": "0.0",
         "tolls": "0.0",
         "total": "9.3"
        },
        {
         "_deepnote_index_column": "2",
         "color": "yellow",
         "distance": "1.37",
         "dropoff": "2019-03-27 18:00:25",
         "dropoff_borough": "Manhattan",
         "dropoff_zone": "West Village",
         "fare": "7.5",
         "passengers": "1",
         "payment": "credit card",
         "pickup": "2019-03-27 17:53:01",
         "pickup_borough": "Manhattan",
         "pickup_zone": "Alphabet City",
         "tip": "2.36",
         "tolls": "0.0",
         "total": "14.16"
        },
        {
         "_deepnote_index_column": "3",
         "color": "yellow",
         "distance": "7.7",
         "dropoff": "2019-03-10 01:49:51",
         "dropoff_borough": "Manhattan",
         "dropoff_zone": "Yorkville West",
         "fare": "27.0",
         "passengers": "1",
         "payment": "credit card",
         "pickup": "2019-03-10 01:23:59",
         "pickup_borough": "Manhattan",
         "pickup_zone": "Hudson Sq",
         "tip": "6.15",
         "tolls": "0.0",
         "total": "36.95"
        },
        {
         "_deepnote_index_column": "4",
         "color": "yellow",
         "distance": "2.16",
         "dropoff": "2019-03-30 13:37:14",
         "dropoff_borough": "Manhattan",
         "dropoff_zone": "Yorkville West",
         "fare": "9.0",
         "passengers": "3",
         "payment": "credit card",
         "pickup": "2019-03-30 13:27:42",
         "pickup_borough": "Manhattan",
         "pickup_zone": "Midtown East",
         "tip": "1.1",
         "tolls": "0.0",
         "total": "13.4"
        },
        {
         "_deepnote_index_column": "5",
         "color": "yellow",
         "distance": "0.49",
         "dropoff": "2019-03-11 10:47:31",
         "dropoff_borough": "Manhattan",
         "dropoff_zone": "Midtown East",
         "fare": "7.5",
         "passengers": "1",
         "payment": "credit card",
         "pickup": "2019-03-11 10:37:23",
         "pickup_borough": "Manhattan",
         "pickup_zone": "Times Sq/Theatre District",
         "tip": "2.16",
         "tolls": "0.0",
         "total": "12.96"
        },
        {
         "_deepnote_index_column": "6",
         "color": "yellow",
         "distance": "3.65",
         "dropoff": "2019-03-26 21:17:29",
         "dropoff_borough": "Manhattan",
         "dropoff_zone": "Two Bridges/Seward Park",
         "fare": "13.0",
         "passengers": "1",
         "payment": "credit card",
         "pickup": "2019-03-26 21:07:31",
         "pickup_borough": "Manhattan",
         "pickup_zone": "Battery Park City",
         "tip": "2.0",
         "tolls": "0.0",
         "total": "18.8"
        },
        {
         "_deepnote_index_column": "8",
         "color": "yellow",
         "distance": "3.63",
         "dropoff": "2019-03-23 12:06:14",
         "dropoff_borough": "Manhattan",
         "dropoff_zone": "Midtown Center",
         "fare": "15.0",
         "passengers": "1",
         "payment": "credit card",
         "pickup": "2019-03-23 11:48:50",
         "pickup_borough": "Manhattan",
         "pickup_zone": "East Harlem South",
         "tip": "1.0",
         "tolls": "0.0",
         "total": "19.3"
        },
        {
         "_deepnote_index_column": "9",
         "color": "yellow",
         "distance": "1.52",
         "dropoff": "2019-03-08 16:26:57",
         "dropoff_borough": "Manhattan",
         "dropoff_zone": "Central Park",
         "fare": "8.0",
         "passengers": "1",
         "payment": "credit card",
         "pickup": "2019-03-08 16:18:37",
         "pickup_borough": "Manhattan",
         "pickup_zone": "Lincoln Square East",
         "tip": "1.0",
         "tolls": "0.0",
         "total": "13.3"
        },
        {
         "_deepnote_index_column": "10",
         "color": "yellow",
         "distance": "3.9",
         "dropoff": "2019-03-16 10:22:29",
         "dropoff_borough": "Queens",
         "dropoff_zone": "Astoria",
         "fare": "17.0",
         "passengers": "1",
         "payment": "cash",
         "pickup": "2019-03-16 10:02:25",
         "pickup_borough": "Queens",
         "pickup_zone": "LaGuardia Airport",
         "tip": "0.0",
         "tolls": "0.0",
         "total": "17.8"
        }
       ]
      },
      "text/html": [
       "<div>\n",
       "<style scoped>\n",
       "    .dataframe tbody tr th:only-of-type {\n",
       "        vertical-align: middle;\n",
       "    }\n",
       "\n",
       "    .dataframe tbody tr th {\n",
       "        vertical-align: top;\n",
       "    }\n",
       "\n",
       "    .dataframe thead th {\n",
       "        text-align: right;\n",
       "    }\n",
       "</style>\n",
       "<table border=\"1\" class=\"dataframe\">\n",
       "  <thead>\n",
       "    <tr style=\"text-align: right;\">\n",
       "      <th></th>\n",
       "      <th>pickup</th>\n",
       "      <th>dropoff</th>\n",
       "      <th>passengers</th>\n",
       "      <th>distance</th>\n",
       "      <th>fare</th>\n",
       "      <th>tip</th>\n",
       "      <th>tolls</th>\n",
       "      <th>total</th>\n",
       "      <th>color</th>\n",
       "      <th>payment</th>\n",
       "      <th>pickup_zone</th>\n",
       "      <th>dropoff_zone</th>\n",
       "      <th>pickup_borough</th>\n",
       "      <th>dropoff_borough</th>\n",
       "    </tr>\n",
       "  </thead>\n",
       "  <tbody>\n",
       "    <tr>\n",
       "      <th>0</th>\n",
       "      <td>2019-03-23 20:21:09</td>\n",
       "      <td>2019-03-23 20:27:24</td>\n",
       "      <td>1</td>\n",
       "      <td>1.60</td>\n",
       "      <td>7.0</td>\n",
       "      <td>2.15</td>\n",
       "      <td>0.0</td>\n",
       "      <td>12.95</td>\n",
       "      <td>yellow</td>\n",
       "      <td>credit card</td>\n",
       "      <td>Lenox Hill West</td>\n",
       "      <td>UN/Turtle Bay South</td>\n",
       "      <td>Manhattan</td>\n",
       "      <td>Manhattan</td>\n",
       "    </tr>\n",
       "    <tr>\n",
       "      <th>1</th>\n",
       "      <td>2019-03-04 16:11:55</td>\n",
       "      <td>2019-03-04 16:19:00</td>\n",
       "      <td>1</td>\n",
       "      <td>0.79</td>\n",
       "      <td>5.0</td>\n",
       "      <td>0.00</td>\n",
       "      <td>0.0</td>\n",
       "      <td>9.30</td>\n",
       "      <td>yellow</td>\n",
       "      <td>cash</td>\n",
       "      <td>Upper West Side South</td>\n",
       "      <td>Upper West Side South</td>\n",
       "      <td>Manhattan</td>\n",
       "      <td>Manhattan</td>\n",
       "    </tr>\n",
       "    <tr>\n",
       "      <th>2</th>\n",
       "      <td>2019-03-27 17:53:01</td>\n",
       "      <td>2019-03-27 18:00:25</td>\n",
       "      <td>1</td>\n",
       "      <td>1.37</td>\n",
       "      <td>7.5</td>\n",
       "      <td>2.36</td>\n",
       "      <td>0.0</td>\n",
       "      <td>14.16</td>\n",
       "      <td>yellow</td>\n",
       "      <td>credit card</td>\n",
       "      <td>Alphabet City</td>\n",
       "      <td>West Village</td>\n",
       "      <td>Manhattan</td>\n",
       "      <td>Manhattan</td>\n",
       "    </tr>\n",
       "    <tr>\n",
       "      <th>3</th>\n",
       "      <td>2019-03-10 01:23:59</td>\n",
       "      <td>2019-03-10 01:49:51</td>\n",
       "      <td>1</td>\n",
       "      <td>7.70</td>\n",
       "      <td>27.0</td>\n",
       "      <td>6.15</td>\n",
       "      <td>0.0</td>\n",
       "      <td>36.95</td>\n",
       "      <td>yellow</td>\n",
       "      <td>credit card</td>\n",
       "      <td>Hudson Sq</td>\n",
       "      <td>Yorkville West</td>\n",
       "      <td>Manhattan</td>\n",
       "      <td>Manhattan</td>\n",
       "    </tr>\n",
       "    <tr>\n",
       "      <th>4</th>\n",
       "      <td>2019-03-30 13:27:42</td>\n",
       "      <td>2019-03-30 13:37:14</td>\n",
       "      <td>3</td>\n",
       "      <td>2.16</td>\n",
       "      <td>9.0</td>\n",
       "      <td>1.10</td>\n",
       "      <td>0.0</td>\n",
       "      <td>13.40</td>\n",
       "      <td>yellow</td>\n",
       "      <td>credit card</td>\n",
       "      <td>Midtown East</td>\n",
       "      <td>Yorkville West</td>\n",
       "      <td>Manhattan</td>\n",
       "      <td>Manhattan</td>\n",
       "    </tr>\n",
       "    <tr>\n",
       "      <th>...</th>\n",
       "      <td>...</td>\n",
       "      <td>...</td>\n",
       "      <td>...</td>\n",
       "      <td>...</td>\n",
       "      <td>...</td>\n",
       "      <td>...</td>\n",
       "      <td>...</td>\n",
       "      <td>...</td>\n",
       "      <td>...</td>\n",
       "      <td>...</td>\n",
       "      <td>...</td>\n",
       "      <td>...</td>\n",
       "      <td>...</td>\n",
       "      <td>...</td>\n",
       "    </tr>\n",
       "    <tr>\n",
       "      <th>6428</th>\n",
       "      <td>2019-03-31 09:51:53</td>\n",
       "      <td>2019-03-31 09:55:27</td>\n",
       "      <td>1</td>\n",
       "      <td>0.75</td>\n",
       "      <td>4.5</td>\n",
       "      <td>1.06</td>\n",
       "      <td>0.0</td>\n",
       "      <td>6.36</td>\n",
       "      <td>green</td>\n",
       "      <td>credit card</td>\n",
       "      <td>East Harlem North</td>\n",
       "      <td>Central Harlem North</td>\n",
       "      <td>Manhattan</td>\n",
       "      <td>Manhattan</td>\n",
       "    </tr>\n",
       "    <tr>\n",
       "      <th>6429</th>\n",
       "      <td>2019-03-31 17:38:00</td>\n",
       "      <td>2019-03-31 18:34:23</td>\n",
       "      <td>1</td>\n",
       "      <td>18.74</td>\n",
       "      <td>58.0</td>\n",
       "      <td>0.00</td>\n",
       "      <td>0.0</td>\n",
       "      <td>58.80</td>\n",
       "      <td>green</td>\n",
       "      <td>credit card</td>\n",
       "      <td>Jamaica</td>\n",
       "      <td>East Concourse/Concourse Village</td>\n",
       "      <td>Queens</td>\n",
       "      <td>Bronx</td>\n",
       "    </tr>\n",
       "    <tr>\n",
       "      <th>6430</th>\n",
       "      <td>2019-03-23 22:55:18</td>\n",
       "      <td>2019-03-23 23:14:25</td>\n",
       "      <td>1</td>\n",
       "      <td>4.14</td>\n",
       "      <td>16.0</td>\n",
       "      <td>0.00</td>\n",
       "      <td>0.0</td>\n",
       "      <td>17.30</td>\n",
       "      <td>green</td>\n",
       "      <td>cash</td>\n",
       "      <td>Crown Heights North</td>\n",
       "      <td>Bushwick North</td>\n",
       "      <td>Brooklyn</td>\n",
       "      <td>Brooklyn</td>\n",
       "    </tr>\n",
       "    <tr>\n",
       "      <th>6431</th>\n",
       "      <td>2019-03-04 10:09:25</td>\n",
       "      <td>2019-03-04 10:14:29</td>\n",
       "      <td>1</td>\n",
       "      <td>1.12</td>\n",
       "      <td>6.0</td>\n",
       "      <td>0.00</td>\n",
       "      <td>0.0</td>\n",
       "      <td>6.80</td>\n",
       "      <td>green</td>\n",
       "      <td>credit card</td>\n",
       "      <td>East New York</td>\n",
       "      <td>East Flatbush/Remsen Village</td>\n",
       "      <td>Brooklyn</td>\n",
       "      <td>Brooklyn</td>\n",
       "    </tr>\n",
       "    <tr>\n",
       "      <th>6432</th>\n",
       "      <td>2019-03-13 19:31:22</td>\n",
       "      <td>2019-03-13 19:48:02</td>\n",
       "      <td>1</td>\n",
       "      <td>3.85</td>\n",
       "      <td>15.0</td>\n",
       "      <td>3.36</td>\n",
       "      <td>0.0</td>\n",
       "      <td>20.16</td>\n",
       "      <td>green</td>\n",
       "      <td>credit card</td>\n",
       "      <td>Boerum Hill</td>\n",
       "      <td>Windsor Terrace</td>\n",
       "      <td>Brooklyn</td>\n",
       "      <td>Brooklyn</td>\n",
       "    </tr>\n",
       "  </tbody>\n",
       "</table>\n",
       "<p>6341 rows × 14 columns</p>\n",
       "</div>"
      ],
      "text/plain": [
       "                  pickup             dropoff  passengers  distance  fare  \\\n",
       "0    2019-03-23 20:21:09 2019-03-23 20:27:24           1      1.60   7.0   \n",
       "1    2019-03-04 16:11:55 2019-03-04 16:19:00           1      0.79   5.0   \n",
       "2    2019-03-27 17:53:01 2019-03-27 18:00:25           1      1.37   7.5   \n",
       "3    2019-03-10 01:23:59 2019-03-10 01:49:51           1      7.70  27.0   \n",
       "4    2019-03-30 13:27:42 2019-03-30 13:37:14           3      2.16   9.0   \n",
       "...                  ...                 ...         ...       ...   ...   \n",
       "6428 2019-03-31 09:51:53 2019-03-31 09:55:27           1      0.75   4.5   \n",
       "6429 2019-03-31 17:38:00 2019-03-31 18:34:23           1     18.74  58.0   \n",
       "6430 2019-03-23 22:55:18 2019-03-23 23:14:25           1      4.14  16.0   \n",
       "6431 2019-03-04 10:09:25 2019-03-04 10:14:29           1      1.12   6.0   \n",
       "6432 2019-03-13 19:31:22 2019-03-13 19:48:02           1      3.85  15.0   \n",
       "\n",
       "       tip  tolls  total   color      payment            pickup_zone  \\\n",
       "0     2.15    0.0  12.95  yellow  credit card        Lenox Hill West   \n",
       "1     0.00    0.0   9.30  yellow         cash  Upper West Side South   \n",
       "2     2.36    0.0  14.16  yellow  credit card          Alphabet City   \n",
       "3     6.15    0.0  36.95  yellow  credit card              Hudson Sq   \n",
       "4     1.10    0.0  13.40  yellow  credit card           Midtown East   \n",
       "...    ...    ...    ...     ...          ...                    ...   \n",
       "6428  1.06    0.0   6.36   green  credit card      East Harlem North   \n",
       "6429  0.00    0.0  58.80   green  credit card                Jamaica   \n",
       "6430  0.00    0.0  17.30   green         cash    Crown Heights North   \n",
       "6431  0.00    0.0   6.80   green  credit card          East New York   \n",
       "6432  3.36    0.0  20.16   green  credit card            Boerum Hill   \n",
       "\n",
       "                          dropoff_zone pickup_borough dropoff_borough  \n",
       "0                  UN/Turtle Bay South      Manhattan       Manhattan  \n",
       "1                Upper West Side South      Manhattan       Manhattan  \n",
       "2                         West Village      Manhattan       Manhattan  \n",
       "3                       Yorkville West      Manhattan       Manhattan  \n",
       "4                       Yorkville West      Manhattan       Manhattan  \n",
       "...                                ...            ...             ...  \n",
       "6428              Central Harlem North      Manhattan       Manhattan  \n",
       "6429  East Concourse/Concourse Village         Queens           Bronx  \n",
       "6430                    Bushwick North       Brooklyn        Brooklyn  \n",
       "6431      East Flatbush/Remsen Village       Brooklyn        Brooklyn  \n",
       "6432                   Windsor Terrace       Brooklyn        Brooklyn  \n",
       "\n",
       "[6341 rows x 14 columns]"
      ]
     },
     "execution_count": 5,
     "metadata": {},
     "output_type": "execute_result"
    }
   ],
   "source": [
    "df"
   ]
  },
  {
   "cell_type": "markdown",
   "metadata": {},
   "source": [
    "If we use `axis=1` instead, then we are plugging in one row at a time.  Those rows all have length `14`, which is where the following values come from."
   ]
  },
  {
   "cell_type": "code",
   "execution_count": 6,
   "metadata": {
    "cell_id": "e454bfa24e8949e08ebe8beb7fc3dc2e",
    "deepnote_cell_type": "code",
    "deepnote_to_be_reexecuted": false,
    "execution_millis": 56,
    "execution_start": 1682539837471,
    "source_hash": "3326918"
   },
   "outputs": [
    {
     "data": {
      "text/plain": [
       "0       14\n",
       "1       14\n",
       "2       14\n",
       "3       14\n",
       "4       14\n",
       "        ..\n",
       "6428    14\n",
       "6429    14\n",
       "6430    14\n",
       "6431    14\n",
       "6432    14\n",
       "Length: 6341, dtype: int64"
      ]
     },
     "execution_count": 6,
     "metadata": {},
     "output_type": "execute_result"
    }
   ],
   "source": [
    "df.apply(len, axis=1)"
   ]
  },
  {
   "cell_type": "markdown",
   "metadata": {},
   "source": [
    "Here is an example where we see different values for different columns.  Here the input is a column, and the output is its `dtype`."
   ]
  },
  {
   "cell_type": "code",
   "execution_count": 7,
   "metadata": {
    "cell_id": "515b1f6ba3254dd2b84a1337b17ca837",
    "deepnote_cell_type": "code",
    "deepnote_to_be_reexecuted": false,
    "execution_millis": 3,
    "execution_start": 1682539916042,
    "source_hash": "b29f82dc"
   },
   "outputs": [
    {
     "data": {
      "text/plain": [
       "pickup             datetime64[ns]\n",
       "dropoff            datetime64[ns]\n",
       "passengers                  int64\n",
       "distance                  float64\n",
       "fare                      float64\n",
       "tip                       float64\n",
       "tolls                     float64\n",
       "total                     float64\n",
       "color                      object\n",
       "payment                    object\n",
       "pickup_zone                object\n",
       "dropoff_zone               object\n",
       "pickup_borough             object\n",
       "dropoff_borough            object\n",
       "dtype: object"
      ]
     },
     "execution_count": 7,
     "metadata": {},
     "output_type": "execute_result"
    }
   ],
   "source": [
    "df.apply(lambda x: x.dtype, axis=0)"
   ]
  },
  {
   "cell_type": "markdown",
   "metadata": {},
   "source": [
    "Compare the above use of `apply` to `map`, which is used on a single pandas Series, rather than on a whole pandas DataFrame."
   ]
  },
  {
   "cell_type": "code",
   "execution_count": 9,
   "metadata": {
    "cell_id": "80416cc5c5954742ac77eea580ff63cb",
    "deepnote_cell_type": "code",
    "deepnote_to_be_reexecuted": false,
    "execution_millis": 103,
    "execution_start": 1682540043899,
    "source_hash": "6f71a231"
   },
   "outputs": [
    {
     "data": {
      "text/plain": [
       "0       credit card\n",
       "1              cash\n",
       "2       credit card\n",
       "3       credit card\n",
       "4       credit card\n",
       "           ...     \n",
       "6428    credit card\n",
       "6429    credit card\n",
       "6430           cash\n",
       "6431    credit card\n",
       "6432    credit card\n",
       "Name: payment, Length: 6341, dtype: object"
      ]
     },
     "execution_count": 9,
     "metadata": {},
     "output_type": "execute_result"
    }
   ],
   "source": [
    "ser = df[\"payment\"]\n",
    "ser"
   ]
  },
  {
   "cell_type": "markdown",
   "metadata": {},
   "source": [
    "Here we are trying to add `5` to each entry, but we get an error because the entries are strings in `ser`."
   ]
  },
  {
   "cell_type": "code",
   "execution_count": 10,
   "metadata": {
    "cell_id": "ff09c1172fb14402a084efb9332dbf44",
    "deepnote_cell_type": "code",
    "deepnote_to_be_reexecuted": false,
    "execution_millis": 511,
    "execution_start": 1682540084464,
    "source_hash": "7fa4f43c",
    "tags": [
     "output_scroll"
    ]
   },
   "outputs": [
    {
     "ename": "TypeError",
     "evalue": "can only concatenate str (not \"int\") to str",
     "output_type": "error",
     "traceback": [
      "\u001b[0;31m---------------------------------------------------------------------------\u001b[0m",
      "\u001b[0;31mTypeError\u001b[0m                                 Traceback (most recent call last)",
      "Cell \u001b[0;32mIn [10], line 1\u001b[0m\n\u001b[0;32m----> 1\u001b[0m \u001b[43mser\u001b[49m\u001b[38;5;241;43m.\u001b[39;49m\u001b[43mmap\u001b[49m\u001b[43m(\u001b[49m\u001b[38;5;28;43;01mlambda\u001b[39;49;00m\u001b[43m \u001b[49m\u001b[43mx\u001b[49m\u001b[43m:\u001b[49m\u001b[43m \u001b[49m\u001b[43mx\u001b[49m\u001b[38;5;241;43m+\u001b[39;49m\u001b[38;5;241;43m5\u001b[39;49m\u001b[43m)\u001b[49m\n",
      "File \u001b[0;32m/shared-libs/python3.9/py/lib/python3.9/site-packages/pandas/core/series.py:3909\u001b[0m, in \u001b[0;36mSeries.map\u001b[0;34m(self, arg, na_action)\u001b[0m\n\u001b[1;32m   3834\u001b[0m \u001b[38;5;28;01mdef\u001b[39;00m \u001b[38;5;21mmap\u001b[39m(\u001b[38;5;28mself\u001b[39m, arg, na_action\u001b[38;5;241m=\u001b[39m\u001b[38;5;28;01mNone\u001b[39;00m) \u001b[38;5;241m-\u001b[39m\u001b[38;5;241m>\u001b[39m \u001b[38;5;124m\"\u001b[39m\u001b[38;5;124mSeries\u001b[39m\u001b[38;5;124m\"\u001b[39m:\n\u001b[1;32m   3835\u001b[0m     \u001b[38;5;124;03m\"\"\"\u001b[39;00m\n\u001b[1;32m   3836\u001b[0m \u001b[38;5;124;03m    Map values of Series according to input correspondence.\u001b[39;00m\n\u001b[1;32m   3837\u001b[0m \n\u001b[0;32m   (...)\u001b[0m\n\u001b[1;32m   3907\u001b[0m \u001b[38;5;124;03m    dtype: object\u001b[39;00m\n\u001b[1;32m   3908\u001b[0m \u001b[38;5;124;03m    \"\"\"\u001b[39;00m\n\u001b[0;32m-> 3909\u001b[0m     new_values \u001b[38;5;241m=\u001b[39m \u001b[38;5;28;43msuper\u001b[39;49m\u001b[43m(\u001b[49m\u001b[43m)\u001b[49m\u001b[38;5;241;43m.\u001b[39;49m\u001b[43m_map_values\u001b[49m\u001b[43m(\u001b[49m\u001b[43marg\u001b[49m\u001b[43m,\u001b[49m\u001b[43m \u001b[49m\u001b[43mna_action\u001b[49m\u001b[38;5;241;43m=\u001b[39;49m\u001b[43mna_action\u001b[49m\u001b[43m)\u001b[49m\n\u001b[1;32m   3910\u001b[0m     \u001b[38;5;28;01mreturn\u001b[39;00m \u001b[38;5;28mself\u001b[39m\u001b[38;5;241m.\u001b[39m_constructor(new_values, index\u001b[38;5;241m=\u001b[39m\u001b[38;5;28mself\u001b[39m\u001b[38;5;241m.\u001b[39mindex)\u001b[38;5;241m.\u001b[39m__finalize__(\n\u001b[1;32m   3911\u001b[0m         \u001b[38;5;28mself\u001b[39m, method\u001b[38;5;241m=\u001b[39m\u001b[38;5;124m\"\u001b[39m\u001b[38;5;124mmap\u001b[39m\u001b[38;5;124m\"\u001b[39m\n\u001b[1;32m   3912\u001b[0m     )\n",
      "File \u001b[0;32m/shared-libs/python3.9/py/lib/python3.9/site-packages/pandas/core/base.py:937\u001b[0m, in \u001b[0;36mIndexOpsMixin._map_values\u001b[0;34m(self, mapper, na_action)\u001b[0m\n\u001b[1;32m    934\u001b[0m         \u001b[38;5;28;01mraise\u001b[39;00m \u001b[38;5;167;01mValueError\u001b[39;00m(msg)\n\u001b[1;32m    936\u001b[0m \u001b[38;5;66;03m# mapper is a function\u001b[39;00m\n\u001b[0;32m--> 937\u001b[0m new_values \u001b[38;5;241m=\u001b[39m \u001b[43mmap_f\u001b[49m\u001b[43m(\u001b[49m\u001b[43mvalues\u001b[49m\u001b[43m,\u001b[49m\u001b[43m \u001b[49m\u001b[43mmapper\u001b[49m\u001b[43m)\u001b[49m\n\u001b[1;32m    939\u001b[0m \u001b[38;5;28;01mreturn\u001b[39;00m new_values\n",
      "File \u001b[0;32mpandas/_libs/lib.pyx:2467\u001b[0m, in \u001b[0;36mpandas._libs.lib.map_infer\u001b[0;34m()\u001b[0m\n",
      "Cell \u001b[0;32mIn [10], line 1\u001b[0m, in \u001b[0;36m<lambda>\u001b[0;34m(x)\u001b[0m\n\u001b[0;32m----> 1\u001b[0m ser\u001b[38;5;241m.\u001b[39mmap(\u001b[38;5;28;01mlambda\u001b[39;00m x: \u001b[43mx\u001b[49m\u001b[38;5;241;43m+\u001b[39;49m\u001b[38;5;241;43m5\u001b[39;49m)\n",
      "\u001b[0;31mTypeError\u001b[0m: can only concatenate str (not \"int\") to str"
     ]
    }
   ],
   "source": [
    "ser.map(lambda x: x+5)"
   ]
  },
  {
   "cell_type": "markdown",
   "metadata": {},
   "source": [
    "If we convert `5` to a string (we could also put it in quotation marks), then we don't get an error.  Notice how the function here is a little simpler than what we used above, in the sense that the input to this lambda function is a string, whereas the inputs above were pandas Series."
   ]
  },
  {
   "cell_type": "code",
   "execution_count": 11,
   "metadata": {
    "cell_id": "420b4932368342e48b557a977f9348ca",
    "deepnote_cell_type": "code",
    "deepnote_to_be_reexecuted": false,
    "execution_millis": 49,
    "execution_start": 1682540142663,
    "source_hash": "4eeb44f"
   },
   "outputs": [
    {
     "data": {
      "text/plain": [
       "0       credit card5\n",
       "1              cash5\n",
       "2       credit card5\n",
       "3       credit card5\n",
       "4       credit card5\n",
       "            ...     \n",
       "6428    credit card5\n",
       "6429    credit card5\n",
       "6430           cash5\n",
       "6431    credit card5\n",
       "6432    credit card5\n",
       "Name: payment, Length: 6341, dtype: object"
      ]
     },
     "execution_count": 11,
     "metadata": {},
     "output_type": "execute_result"
    }
   ],
   "source": [
    "ser.map(lambda x: x+str(5))"
   ]
  },
  {
   "cell_type": "markdown",
   "metadata": {
    "cell_id": "99647b4b644e4fb19a7f61a0a756eaf7",
    "deepnote_cell_type": "markdown"
   },
   "source": [
    "* Write a function `has_airport` which takes as input a row from `df` (not a row label but an entire row) and as output returns `True` if the \"pickup_zone\" or \"dropoff_zone\" entry contains the substring \"Airport\"."
   ]
  },
  {
   "cell_type": "markdown",
   "metadata": {},
   "source": [
    "Here is a more realistic application of `apply`.  We start with a function that takes as input a pandas Series (a row of the DataFrame).  In this case, the output is the Boolean value `True` or `False`."
   ]
  },
  {
   "cell_type": "code",
   "execution_count": 12,
   "metadata": {
    "cell_id": "641472fafeac4bb98888663addd4f46d",
    "deepnote_cell_type": "code",
    "deepnote_to_be_reexecuted": false,
    "execution_millis": 3,
    "execution_start": 1682540432213,
    "source_hash": "8c02d624"
   },
   "outputs": [],
   "source": [
    "def has_airport(row):\n",
    "    return (\"Airport\" in row[\"pickup_zone\"]) or (\"Airport\" in row[\"dropoff_zone\"])"
   ]
  },
  {
   "cell_type": "markdown",
   "metadata": {},
   "source": [
    "Here is a typical input.  We get the row at integer location `30` from `df`."
   ]
  },
  {
   "cell_type": "code",
   "execution_count": 13,
   "metadata": {
    "cell_id": "9705e8b78748492baa5588f32c91e3c6",
    "deepnote_cell_type": "code",
    "deepnote_to_be_reexecuted": false,
    "execution_millis": 3,
    "execution_start": 1682540454869,
    "source_hash": "cf738b4f"
   },
   "outputs": [],
   "source": [
    "z = df.iloc[30]"
   ]
  },
  {
   "cell_type": "markdown",
   "metadata": {},
   "source": [
    "Here is what that particular row looks like.  It's still a pandas Series, just like a column."
   ]
  },
  {
   "cell_type": "code",
   "execution_count": 14,
   "metadata": {
    "cell_id": "be5b878430994c04bba397aee8861311",
    "deepnote_cell_type": "code",
    "deepnote_to_be_reexecuted": false,
    "execution_millis": 3,
    "execution_start": 1682540457502,
    "source_hash": "860ac4bd"
   },
   "outputs": [
    {
     "data": {
      "text/plain": [
       "pickup                   2019-03-01 02:55:55\n",
       "dropoff                  2019-03-01 02:57:59\n",
       "passengers                                 3\n",
       "distance                                0.74\n",
       "fare                                     4.0\n",
       "tip                                      0.0\n",
       "tolls                                    0.0\n",
       "total                                    7.8\n",
       "color                                 yellow\n",
       "payment                                 cash\n",
       "pickup_zone                     Clinton East\n",
       "dropoff_zone       West Chelsea/Hudson Yards\n",
       "pickup_borough                     Manhattan\n",
       "dropoff_borough                    Manhattan\n",
       "Name: 31, dtype: object"
      ]
     },
     "execution_count": 14,
     "metadata": {},
     "output_type": "execute_result"
    }
   ],
   "source": [
    "z"
   ]
  },
  {
   "cell_type": "markdown",
   "metadata": {},
   "source": [
    "Notice that neither the \"pickup_zone\" value nor the \"dropoff_zone\" value contains `\"Airport\"`, so that is why our function returns `False`."
   ]
  },
  {
   "cell_type": "code",
   "execution_count": 15,
   "metadata": {
    "cell_id": "62a5efac6c884f87a0b99f603a49e88f",
    "deepnote_cell_type": "code",
    "deepnote_to_be_reexecuted": false,
    "execution_millis": 30,
    "execution_start": 1682540479165,
    "source_hash": "79d04e3f"
   },
   "outputs": [
    {
     "data": {
      "text/plain": [
       "False"
      ]
     },
     "execution_count": 15,
     "metadata": {},
     "output_type": "execute_result"
    }
   ],
   "source": [
    "has_airport(z)"
   ]
  },
  {
   "cell_type": "markdown",
   "metadata": {},
   "source": [
    "Here is that \"pickup_zone\" value."
   ]
  },
  {
   "cell_type": "code",
   "execution_count": 16,
   "metadata": {
    "cell_id": "45334da515324e2ea9a08e283ee26930",
    "deepnote_cell_type": "code",
    "deepnote_to_be_reexecuted": false,
    "execution_millis": 0,
    "execution_start": 1682540487916,
    "source_hash": "db1813a3"
   },
   "outputs": [
    {
     "data": {
      "text/plain": [
       "'Clinton East'"
      ]
     },
     "execution_count": 16,
     "metadata": {},
     "output_type": "execute_result"
    }
   ],
   "source": [
    "z[\"pickup_zone\"]"
   ]
  },
  {
   "cell_type": "markdown",
   "metadata": {},
   "source": [
    "We could also use `loc`, but that is not as common with pandas Series.  (We can just use the square brackets directly.  Unlike with a pandas DataFrame, where using square brackets directly means something else.)"
   ]
  },
  {
   "cell_type": "code",
   "execution_count": 17,
   "metadata": {
    "cell_id": "cbc79f65567241bea10d8d69cdb72b03",
    "deepnote_cell_type": "code",
    "deepnote_to_be_reexecuted": false,
    "execution_millis": 91,
    "execution_start": 1682540504147,
    "source_hash": "bccde8ef"
   },
   "outputs": [
    {
     "data": {
      "text/plain": [
       "'Clinton East'"
      ]
     },
     "execution_count": 17,
     "metadata": {},
     "output_type": "execute_result"
    }
   ],
   "source": [
    "z.loc[\"pickup_zone\"]"
   ]
  },
  {
   "cell_type": "markdown",
   "metadata": {},
   "source": [
    "Here is a row where there is an `\"Airport\"` substring."
   ]
  },
  {
   "cell_type": "code",
   "execution_count": 18,
   "metadata": {
    "cell_id": "2f6651e4cc7f48a3b2df7779dd9d2741",
    "deepnote_cell_type": "code",
    "deepnote_to_be_reexecuted": false,
    "execution_millis": 1,
    "execution_start": 1682540595528,
    "source_hash": "5d6d381e"
   },
   "outputs": [
    {
     "data": {
      "text/plain": [
       "True"
      ]
     },
     "execution_count": 18,
     "metadata": {},
     "output_type": "execute_result"
    }
   ],
   "source": [
    "has_airport(df.loc[10])"
   ]
  },
  {
   "cell_type": "markdown",
   "metadata": {
    "cell_id": "e265a1d088b14a53a7ecce7742379b89",
    "deepnote_cell_type": "markdown"
   },
   "source": [
    "* Make a new column `\"Airport0\"` which contains `True` if the \"pickup_zone\" or \"dropoff_zone\" contains the substring \"Airport\", and otherwise contains `False`.  Use the `has_airport` function and `df.apply(???, axis=???)`."
   ]
  },
  {
   "cell_type": "markdown",
   "metadata": {},
   "source": [
    "Because we are evaluating this to a row at a time, we are using `axis=1`."
   ]
  },
  {
   "cell_type": "code",
   "execution_count": 22,
   "metadata": {
    "cell_id": "d2affd8f681945cba404a0a613419bc3",
    "deepnote_cell_type": "code",
    "deepnote_to_be_reexecuted": false,
    "execution_millis": 41,
    "execution_start": 1682540775809,
    "source_hash": "93295aaf"
   },
   "outputs": [],
   "source": [
    "df[\"Airport0\"] = df.apply(has_airport, axis=1)"
   ]
  },
  {
   "cell_type": "markdown",
   "metadata": {},
   "source": [
    "Scroll to the right and notice how an \"Airport0\" column is now there."
   ]
  },
  {
   "cell_type": "code",
   "execution_count": 23,
   "metadata": {
    "cell_id": "feab96d75c384b278104347e1425e24b",
    "deepnote_cell_type": "code",
    "deepnote_to_be_reexecuted": false,
    "execution_millis": 93,
    "execution_start": 1682540794458,
    "source_hash": "f804c160",
    "tags": [
     "output_scroll"
    ]
   },
   "outputs": [
    {
     "data": {
      "application/vnd.deepnote.dataframe.v3+json": {
       "column_count": 15,
       "columns": [
        {
         "dtype": "datetime64[ns]",
         "name": "pickup",
         "stats": {
          "histogram": [
           {
            "bin_end": 1551664471200000000,
            "bin_start": 1551396543000000000,
            "count": 602
           },
           {
            "bin_end": 1551932399400000000,
            "bin_start": 1551664471200000000,
            "count": 663
           },
           {
            "bin_end": 1552200327600000000,
            "bin_start": 1551932399400000000,
            "count": 664
           },
           {
            "bin_end": 1552468255800000000,
            "bin_start": 1552200327600000000,
            "count": 599
           },
           {
            "bin_end": 1552736184000000000,
            "bin_start": 1552468255800000000,
            "count": 743
           },
           {
            "bin_end": 1553004112200000000,
            "bin_start": 1552736184000000000,
            "count": 573
           },
           {
            "bin_end": 1553272040400000000,
            "bin_start": 1553004112200000000,
            "count": 683
           },
           {
            "bin_end": 1553539968600000000,
            "bin_start": 1553272040400000000,
            "count": 561
           },
           {
            "bin_end": 1553807896800000000,
            "bin_start": 1553539968600000000,
            "count": 630
           },
           {
            "bin_end": 1554075825000000000,
            "bin_start": 1553807896800000000,
            "count": 623
           }
          ],
          "max": "2019-03-31 23:43:45",
          "min": "2019-02-28 23:29:03",
          "nan_count": 0,
          "unique_count": 6322
         }
        },
        {
         "dtype": "datetime64[ns]",
         "name": "dropoff",
         "stats": {
          "histogram": [
           {
            "bin_end": 1551664843300000000,
            "bin_start": 1551396755000000000,
            "count": 602
           },
           {
            "bin_end": 1551932931600000000,
            "bin_start": 1551664843300000000,
            "count": 663
           },
           {
            "bin_end": 1552201019900000000,
            "bin_start": 1551932931600000000,
            "count": 664
           },
           {
            "bin_end": 1552469108200000000,
            "bin_start": 1552201019900000000,
            "count": 595
           },
           {
            "bin_end": 1552737196500000000,
            "bin_start": 1552469108200000000,
            "count": 749
           },
           {
            "bin_end": 1553005284800000000,
            "bin_start": 1552737196500000000,
            "count": 570
           },
           {
            "bin_end": 1553273373100000000,
            "bin_start": 1553005284800000000,
            "count": 686
           },
           {
            "bin_end": 1553541461400000000,
            "bin_start": 1553273373100000000,
            "count": 562
           },
           {
            "bin_end": 1553809549700000000,
            "bin_start": 1553541461400000000,
            "count": 630
           },
           {
            "bin_end": 1554077638000000000,
            "bin_start": 1553809549700000000,
            "count": 620
           }
          ],
          "max": "2019-04-01 00:13:58",
          "min": "2019-02-28 23:32:35",
          "nan_count": 0,
          "unique_count": 6333
         }
        },
        {
         "dtype": "int64",
         "name": "passengers",
         "stats": {
          "histogram": [
           {
            "bin_end": 0.6,
            "bin_start": 0,
            "count": 90
           },
           {
            "bin_end": 1.2,
            "bin_start": 0.6,
            "count": 4608
           },
           {
            "bin_end": 1.7999999999999998,
            "bin_start": 1.2,
            "count": 0
           },
           {
            "bin_end": 2.4,
            "bin_start": 1.7999999999999998,
            "count": 865
           },
           {
            "bin_end": 3,
            "bin_start": 2.4,
            "count": 0
           },
           {
            "bin_end": 3.5999999999999996,
            "bin_start": 3,
            "count": 240
           },
           {
            "bin_end": 4.2,
            "bin_start": 3.5999999999999996,
            "count": 109
           },
           {
            "bin_end": 4.8,
            "bin_start": 4.2,
            "count": 0
           },
           {
            "bin_end": 5.3999999999999995,
            "bin_start": 4.8,
            "count": 277
           },
           {
            "bin_end": 6,
            "bin_start": 5.3999999999999995,
            "count": 152
           }
          ],
          "max": "6",
          "min": "0",
          "nan_count": 0,
          "unique_count": 7
         }
        },
        {
         "dtype": "float64",
         "name": "distance",
         "stats": {
          "histogram": [
           {
            "bin_end": 3.6700000000000004,
            "bin_start": 0,
            "count": 4985
           },
           {
            "bin_end": 7.340000000000001,
            "bin_start": 3.6700000000000004,
            "count": 736
           },
           {
            "bin_end": 11.010000000000002,
            "bin_start": 7.340000000000001,
            "count": 316
           },
           {
            "bin_end": 14.680000000000001,
            "bin_start": 11.010000000000002,
            "count": 124
           },
           {
            "bin_end": 18.35,
            "bin_start": 14.680000000000001,
            "count": 99
           },
           {
            "bin_end": 22.020000000000003,
            "bin_start": 18.35,
            "count": 63
           },
           {
            "bin_end": 25.69,
            "bin_start": 22.020000000000003,
            "count": 13
           },
           {
            "bin_end": 29.360000000000003,
            "bin_start": 25.69,
            "count": 3
           },
           {
            "bin_end": 33.03,
            "bin_start": 29.360000000000003,
            "count": 1
           },
           {
            "bin_end": 36.7,
            "bin_start": 33.03,
            "count": 1
           }
          ],
          "max": "36.7",
          "min": "0.0",
          "nan_count": 0,
          "unique_count": 1064
         }
        },
        {
         "dtype": "float64",
         "name": "fare",
         "stats": {
          "histogram": [
           {
            "bin_end": 15.9,
            "bin_start": 1,
            "count": 4910
           },
           {
            "bin_end": 30.8,
            "bin_start": 15.9,
            "count": 970
           },
           {
            "bin_end": 45.7,
            "bin_start": 30.8,
            "count": 266
           },
           {
            "bin_end": 60.6,
            "bin_start": 45.7,
            "count": 178
           },
           {
            "bin_end": 75.5,
            "bin_start": 60.6,
            "count": 12
           },
           {
            "bin_end": 90.4,
            "bin_start": 75.5,
            "count": 3
           },
           {
            "bin_end": 105.3,
            "bin_start": 90.4,
            "count": 1
           },
           {
            "bin_end": 120.2,
            "bin_start": 105.3,
            "count": 0
           },
           {
            "bin_end": 135.1,
            "bin_start": 120.2,
            "count": 0
           },
           {
            "bin_end": 150,
            "bin_start": 135.1,
            "count": 1
           }
          ],
          "max": "150.0",
          "min": "1.0",
          "nan_count": 0,
          "unique_count": 206
         }
        },
        {
         "dtype": "float64",
         "name": "tip",
         "stats": {
          "histogram": [
           {
            "bin_end": 2.319,
            "bin_start": 0,
            "count": 4196
           },
           {
            "bin_end": 4.638,
            "bin_start": 2.319,
            "count": 1567
           },
           {
            "bin_end": 6.957,
            "bin_start": 4.638,
            "count": 306
           },
           {
            "bin_end": 9.276,
            "bin_start": 6.957,
            "count": 126
           },
           {
            "bin_end": 11.594999999999999,
            "bin_start": 9.276,
            "count": 76
           },
           {
            "bin_end": 13.914,
            "bin_start": 11.594999999999999,
            "count": 53
           },
           {
            "bin_end": 16.233,
            "bin_start": 13.914,
            "count": 11
           },
           {
            "bin_end": 18.552,
            "bin_start": 16.233,
            "count": 4
           },
           {
            "bin_end": 20.871,
            "bin_start": 18.552,
            "count": 1
           },
           {
            "bin_end": 23.19,
            "bin_start": 20.871,
            "count": 1
           }
          ],
          "max": "23.19",
          "min": "0.0",
          "nan_count": 0,
          "unique_count": 481
         }
        },
        {
         "dtype": "float64",
         "name": "tolls",
         "stats": {
          "histogram": [
           {
            "bin_end": 2.402,
            "bin_start": 0,
            "count": 6003
           },
           {
            "bin_end": 4.804,
            "bin_start": 2.402,
            "count": 7
           },
           {
            "bin_end": 7.206,
            "bin_start": 4.804,
            "count": 321
           },
           {
            "bin_end": 9.608,
            "bin_start": 7.206,
            "count": 3
           },
           {
            "bin_end": 12.010000000000002,
            "bin_start": 9.608,
            "count": 4
           },
           {
            "bin_end": 14.412,
            "bin_start": 12.010000000000002,
            "count": 1
           },
           {
            "bin_end": 16.814,
            "bin_start": 14.412,
            "count": 0
           },
           {
            "bin_end": 19.216,
            "bin_start": 16.814,
            "count": 1
           },
           {
            "bin_end": 21.618000000000002,
            "bin_start": 19.216,
            "count": 0
           },
           {
            "bin_end": 24.02,
            "bin_start": 21.618000000000002,
            "count": 1
           }
          ],
          "max": "24.02",
          "min": "0.0",
          "nan_count": 0,
          "unique_count": 14
         }
        },
        {
         "dtype": "float64",
         "name": "total",
         "stats": {
          "histogram": [
           {
            "bin_end": 18.651999999999997,
            "bin_start": 1.3,
            "count": 4452
           },
           {
            "bin_end": 36.00399999999999,
            "bin_start": 18.651999999999997,
            "count": 1353
           },
           {
            "bin_end": 53.35599999999999,
            "bin_start": 36.00399999999999,
            "count": 304
           },
           {
            "bin_end": 70.70799999999998,
            "bin_start": 53.35599999999999,
            "count": 156
           },
           {
            "bin_end": 88.05999999999999,
            "bin_start": 70.70799999999998,
            "count": 71
           },
           {
            "bin_end": 105.41199999999998,
            "bin_start": 88.05999999999999,
            "count": 4
           },
           {
            "bin_end": 122.76399999999997,
            "bin_start": 105.41199999999998,
            "count": 0
           },
           {
            "bin_end": 140.11599999999999,
            "bin_start": 122.76399999999997,
            "count": 0
           },
           {
            "bin_end": 157.468,
            "bin_start": 140.11599999999999,
            "count": 0
           },
           {
            "bin_end": 174.82,
            "bin_start": 157.468,
            "count": 1
           }
          ],
          "max": "174.82",
          "min": "1.3",
          "nan_count": 0,
          "unique_count": 877
         }
        },
        {
         "dtype": "object",
         "name": "color",
         "stats": {
          "categories": [
           {
            "count": 5373,
            "name": "yellow"
           },
           {
            "count": 968,
            "name": "green"
           }
          ],
          "nan_count": 0,
          "unique_count": 2
         }
        },
        {
         "dtype": "object",
         "name": "payment",
         "stats": {
          "categories": [
           {
            "count": 4546,
            "name": "credit card"
           },
           {
            "count": 1795,
            "name": "cash"
           }
          ],
          "nan_count": 0,
          "unique_count": 2
         }
        },
        {
         "dtype": "object",
         "name": "pickup_zone",
         "stats": {
          "categories": [
           {
            "count": 227,
            "name": "Midtown Center"
           },
           {
            "count": 209,
            "name": "Penn Station/Madison Sq West"
           },
           {
            "count": 5905,
            "name": "192 others"
           }
          ],
          "nan_count": 0,
          "unique_count": 194
         }
        },
        {
         "dtype": "object",
         "name": "dropoff_zone",
         "stats": {
          "categories": [
           {
            "count": 244,
            "name": "Upper East Side North"
           },
           {
            "count": 217,
            "name": "Murray Hill"
           },
           {
            "count": 5880,
            "name": "201 others"
           }
          ],
          "nan_count": 0,
          "unique_count": 203
         }
        },
        {
         "dtype": "object",
         "name": "pickup_borough",
         "stats": {
          "categories": [
           {
            "count": 5226,
            "name": "Manhattan"
           },
           {
            "count": 638,
            "name": "Queens"
           },
           {
            "count": 477,
            "name": "2 others"
           }
          ],
          "nan_count": 0,
          "unique_count": 4
         }
        },
        {
         "dtype": "object",
         "name": "dropoff_borough",
         "stats": {
          "categories": [
           {
            "count": 5172,
            "name": "Manhattan"
           },
           {
            "count": 534,
            "name": "Queens"
           },
           {
            "count": 635,
            "name": "3 others"
           }
          ],
          "nan_count": 0,
          "unique_count": 5
         }
        },
        {
         "dtype": "bool",
         "name": "Airport0",
         "stats": {
          "categories": [
           {
            "count": 5946,
            "name": "False"
           },
           {
            "count": 395,
            "name": "True"
           }
          ],
          "nan_count": 0,
          "unique_count": 2
         }
        },
        {
         "dtype": "int64",
         "name": "_deepnote_index_column"
        }
       ],
       "row_count": 6341,
       "rows": [
        {
         "Airport0": "False",
         "_deepnote_index_column": "0",
         "color": "yellow",
         "distance": "1.6",
         "dropoff": "2019-03-23 20:27:24",
         "dropoff_borough": "Manhattan",
         "dropoff_zone": "UN/Turtle Bay South",
         "fare": "7.0",
         "passengers": "1",
         "payment": "credit card",
         "pickup": "2019-03-23 20:21:09",
         "pickup_borough": "Manhattan",
         "pickup_zone": "Lenox Hill West",
         "tip": "2.15",
         "tolls": "0.0",
         "total": "12.95"
        },
        {
         "Airport0": "False",
         "_deepnote_index_column": "1",
         "color": "yellow",
         "distance": "0.79",
         "dropoff": "2019-03-04 16:19:00",
         "dropoff_borough": "Manhattan",
         "dropoff_zone": "Upper West Side South",
         "fare": "5.0",
         "passengers": "1",
         "payment": "cash",
         "pickup": "2019-03-04 16:11:55",
         "pickup_borough": "Manhattan",
         "pickup_zone": "Upper West Side South",
         "tip": "0.0",
         "tolls": "0.0",
         "total": "9.3"
        },
        {
         "Airport0": "False",
         "_deepnote_index_column": "2",
         "color": "yellow",
         "distance": "1.37",
         "dropoff": "2019-03-27 18:00:25",
         "dropoff_borough": "Manhattan",
         "dropoff_zone": "West Village",
         "fare": "7.5",
         "passengers": "1",
         "payment": "credit card",
         "pickup": "2019-03-27 17:53:01",
         "pickup_borough": "Manhattan",
         "pickup_zone": "Alphabet City",
         "tip": "2.36",
         "tolls": "0.0",
         "total": "14.16"
        },
        {
         "Airport0": "False",
         "_deepnote_index_column": "3",
         "color": "yellow",
         "distance": "7.7",
         "dropoff": "2019-03-10 01:49:51",
         "dropoff_borough": "Manhattan",
         "dropoff_zone": "Yorkville West",
         "fare": "27.0",
         "passengers": "1",
         "payment": "credit card",
         "pickup": "2019-03-10 01:23:59",
         "pickup_borough": "Manhattan",
         "pickup_zone": "Hudson Sq",
         "tip": "6.15",
         "tolls": "0.0",
         "total": "36.95"
        },
        {
         "Airport0": "False",
         "_deepnote_index_column": "4",
         "color": "yellow",
         "distance": "2.16",
         "dropoff": "2019-03-30 13:37:14",
         "dropoff_borough": "Manhattan",
         "dropoff_zone": "Yorkville West",
         "fare": "9.0",
         "passengers": "3",
         "payment": "credit card",
         "pickup": "2019-03-30 13:27:42",
         "pickup_borough": "Manhattan",
         "pickup_zone": "Midtown East",
         "tip": "1.1",
         "tolls": "0.0",
         "total": "13.4"
        },
        {
         "Airport0": "False",
         "_deepnote_index_column": "5",
         "color": "yellow",
         "distance": "0.49",
         "dropoff": "2019-03-11 10:47:31",
         "dropoff_borough": "Manhattan",
         "dropoff_zone": "Midtown East",
         "fare": "7.5",
         "passengers": "1",
         "payment": "credit card",
         "pickup": "2019-03-11 10:37:23",
         "pickup_borough": "Manhattan",
         "pickup_zone": "Times Sq/Theatre District",
         "tip": "2.16",
         "tolls": "0.0",
         "total": "12.96"
        },
        {
         "Airport0": "False",
         "_deepnote_index_column": "6",
         "color": "yellow",
         "distance": "3.65",
         "dropoff": "2019-03-26 21:17:29",
         "dropoff_borough": "Manhattan",
         "dropoff_zone": "Two Bridges/Seward Park",
         "fare": "13.0",
         "passengers": "1",
         "payment": "credit card",
         "pickup": "2019-03-26 21:07:31",
         "pickup_borough": "Manhattan",
         "pickup_zone": "Battery Park City",
         "tip": "2.0",
         "tolls": "0.0",
         "total": "18.8"
        },
        {
         "Airport0": "False",
         "_deepnote_index_column": "8",
         "color": "yellow",
         "distance": "3.63",
         "dropoff": "2019-03-23 12:06:14",
         "dropoff_borough": "Manhattan",
         "dropoff_zone": "Midtown Center",
         "fare": "15.0",
         "passengers": "1",
         "payment": "credit card",
         "pickup": "2019-03-23 11:48:50",
         "pickup_borough": "Manhattan",
         "pickup_zone": "East Harlem South",
         "tip": "1.0",
         "tolls": "0.0",
         "total": "19.3"
        },
        {
         "Airport0": "False",
         "_deepnote_index_column": "9",
         "color": "yellow",
         "distance": "1.52",
         "dropoff": "2019-03-08 16:26:57",
         "dropoff_borough": "Manhattan",
         "dropoff_zone": "Central Park",
         "fare": "8.0",
         "passengers": "1",
         "payment": "credit card",
         "pickup": "2019-03-08 16:18:37",
         "pickup_borough": "Manhattan",
         "pickup_zone": "Lincoln Square East",
         "tip": "1.0",
         "tolls": "0.0",
         "total": "13.3"
        },
        {
         "Airport0": "True",
         "_deepnote_index_column": "10",
         "color": "yellow",
         "distance": "3.9",
         "dropoff": "2019-03-16 10:22:29",
         "dropoff_borough": "Queens",
         "dropoff_zone": "Astoria",
         "fare": "17.0",
         "passengers": "1",
         "payment": "cash",
         "pickup": "2019-03-16 10:02:25",
         "pickup_borough": "Queens",
         "pickup_zone": "LaGuardia Airport",
         "tip": "0.0",
         "tolls": "0.0",
         "total": "17.8"
        }
       ]
      },
      "text/html": [
       "<div>\n",
       "<style scoped>\n",
       "    .dataframe tbody tr th:only-of-type {\n",
       "        vertical-align: middle;\n",
       "    }\n",
       "\n",
       "    .dataframe tbody tr th {\n",
       "        vertical-align: top;\n",
       "    }\n",
       "\n",
       "    .dataframe thead th {\n",
       "        text-align: right;\n",
       "    }\n",
       "</style>\n",
       "<table border=\"1\" class=\"dataframe\">\n",
       "  <thead>\n",
       "    <tr style=\"text-align: right;\">\n",
       "      <th></th>\n",
       "      <th>pickup</th>\n",
       "      <th>dropoff</th>\n",
       "      <th>passengers</th>\n",
       "      <th>distance</th>\n",
       "      <th>fare</th>\n",
       "      <th>tip</th>\n",
       "      <th>tolls</th>\n",
       "      <th>total</th>\n",
       "      <th>color</th>\n",
       "      <th>payment</th>\n",
       "      <th>pickup_zone</th>\n",
       "      <th>dropoff_zone</th>\n",
       "      <th>pickup_borough</th>\n",
       "      <th>dropoff_borough</th>\n",
       "      <th>Airport0</th>\n",
       "    </tr>\n",
       "  </thead>\n",
       "  <tbody>\n",
       "    <tr>\n",
       "      <th>0</th>\n",
       "      <td>2019-03-23 20:21:09</td>\n",
       "      <td>2019-03-23 20:27:24</td>\n",
       "      <td>1</td>\n",
       "      <td>1.60</td>\n",
       "      <td>7.0</td>\n",
       "      <td>2.15</td>\n",
       "      <td>0.0</td>\n",
       "      <td>12.95</td>\n",
       "      <td>yellow</td>\n",
       "      <td>credit card</td>\n",
       "      <td>Lenox Hill West</td>\n",
       "      <td>UN/Turtle Bay South</td>\n",
       "      <td>Manhattan</td>\n",
       "      <td>Manhattan</td>\n",
       "      <td>False</td>\n",
       "    </tr>\n",
       "    <tr>\n",
       "      <th>1</th>\n",
       "      <td>2019-03-04 16:11:55</td>\n",
       "      <td>2019-03-04 16:19:00</td>\n",
       "      <td>1</td>\n",
       "      <td>0.79</td>\n",
       "      <td>5.0</td>\n",
       "      <td>0.00</td>\n",
       "      <td>0.0</td>\n",
       "      <td>9.30</td>\n",
       "      <td>yellow</td>\n",
       "      <td>cash</td>\n",
       "      <td>Upper West Side South</td>\n",
       "      <td>Upper West Side South</td>\n",
       "      <td>Manhattan</td>\n",
       "      <td>Manhattan</td>\n",
       "      <td>False</td>\n",
       "    </tr>\n",
       "    <tr>\n",
       "      <th>2</th>\n",
       "      <td>2019-03-27 17:53:01</td>\n",
       "      <td>2019-03-27 18:00:25</td>\n",
       "      <td>1</td>\n",
       "      <td>1.37</td>\n",
       "      <td>7.5</td>\n",
       "      <td>2.36</td>\n",
       "      <td>0.0</td>\n",
       "      <td>14.16</td>\n",
       "      <td>yellow</td>\n",
       "      <td>credit card</td>\n",
       "      <td>Alphabet City</td>\n",
       "      <td>West Village</td>\n",
       "      <td>Manhattan</td>\n",
       "      <td>Manhattan</td>\n",
       "      <td>False</td>\n",
       "    </tr>\n",
       "    <tr>\n",
       "      <th>3</th>\n",
       "      <td>2019-03-10 01:23:59</td>\n",
       "      <td>2019-03-10 01:49:51</td>\n",
       "      <td>1</td>\n",
       "      <td>7.70</td>\n",
       "      <td>27.0</td>\n",
       "      <td>6.15</td>\n",
       "      <td>0.0</td>\n",
       "      <td>36.95</td>\n",
       "      <td>yellow</td>\n",
       "      <td>credit card</td>\n",
       "      <td>Hudson Sq</td>\n",
       "      <td>Yorkville West</td>\n",
       "      <td>Manhattan</td>\n",
       "      <td>Manhattan</td>\n",
       "      <td>False</td>\n",
       "    </tr>\n",
       "    <tr>\n",
       "      <th>4</th>\n",
       "      <td>2019-03-30 13:27:42</td>\n",
       "      <td>2019-03-30 13:37:14</td>\n",
       "      <td>3</td>\n",
       "      <td>2.16</td>\n",
       "      <td>9.0</td>\n",
       "      <td>1.10</td>\n",
       "      <td>0.0</td>\n",
       "      <td>13.40</td>\n",
       "      <td>yellow</td>\n",
       "      <td>credit card</td>\n",
       "      <td>Midtown East</td>\n",
       "      <td>Yorkville West</td>\n",
       "      <td>Manhattan</td>\n",
       "      <td>Manhattan</td>\n",
       "      <td>False</td>\n",
       "    </tr>\n",
       "    <tr>\n",
       "      <th>...</th>\n",
       "      <td>...</td>\n",
       "      <td>...</td>\n",
       "      <td>...</td>\n",
       "      <td>...</td>\n",
       "      <td>...</td>\n",
       "      <td>...</td>\n",
       "      <td>...</td>\n",
       "      <td>...</td>\n",
       "      <td>...</td>\n",
       "      <td>...</td>\n",
       "      <td>...</td>\n",
       "      <td>...</td>\n",
       "      <td>...</td>\n",
       "      <td>...</td>\n",
       "      <td>...</td>\n",
       "    </tr>\n",
       "    <tr>\n",
       "      <th>6428</th>\n",
       "      <td>2019-03-31 09:51:53</td>\n",
       "      <td>2019-03-31 09:55:27</td>\n",
       "      <td>1</td>\n",
       "      <td>0.75</td>\n",
       "      <td>4.5</td>\n",
       "      <td>1.06</td>\n",
       "      <td>0.0</td>\n",
       "      <td>6.36</td>\n",
       "      <td>green</td>\n",
       "      <td>credit card</td>\n",
       "      <td>East Harlem North</td>\n",
       "      <td>Central Harlem North</td>\n",
       "      <td>Manhattan</td>\n",
       "      <td>Manhattan</td>\n",
       "      <td>False</td>\n",
       "    </tr>\n",
       "    <tr>\n",
       "      <th>6429</th>\n",
       "      <td>2019-03-31 17:38:00</td>\n",
       "      <td>2019-03-31 18:34:23</td>\n",
       "      <td>1</td>\n",
       "      <td>18.74</td>\n",
       "      <td>58.0</td>\n",
       "      <td>0.00</td>\n",
       "      <td>0.0</td>\n",
       "      <td>58.80</td>\n",
       "      <td>green</td>\n",
       "      <td>credit card</td>\n",
       "      <td>Jamaica</td>\n",
       "      <td>East Concourse/Concourse Village</td>\n",
       "      <td>Queens</td>\n",
       "      <td>Bronx</td>\n",
       "      <td>False</td>\n",
       "    </tr>\n",
       "    <tr>\n",
       "      <th>6430</th>\n",
       "      <td>2019-03-23 22:55:18</td>\n",
       "      <td>2019-03-23 23:14:25</td>\n",
       "      <td>1</td>\n",
       "      <td>4.14</td>\n",
       "      <td>16.0</td>\n",
       "      <td>0.00</td>\n",
       "      <td>0.0</td>\n",
       "      <td>17.30</td>\n",
       "      <td>green</td>\n",
       "      <td>cash</td>\n",
       "      <td>Crown Heights North</td>\n",
       "      <td>Bushwick North</td>\n",
       "      <td>Brooklyn</td>\n",
       "      <td>Brooklyn</td>\n",
       "      <td>False</td>\n",
       "    </tr>\n",
       "    <tr>\n",
       "      <th>6431</th>\n",
       "      <td>2019-03-04 10:09:25</td>\n",
       "      <td>2019-03-04 10:14:29</td>\n",
       "      <td>1</td>\n",
       "      <td>1.12</td>\n",
       "      <td>6.0</td>\n",
       "      <td>0.00</td>\n",
       "      <td>0.0</td>\n",
       "      <td>6.80</td>\n",
       "      <td>green</td>\n",
       "      <td>credit card</td>\n",
       "      <td>East New York</td>\n",
       "      <td>East Flatbush/Remsen Village</td>\n",
       "      <td>Brooklyn</td>\n",
       "      <td>Brooklyn</td>\n",
       "      <td>False</td>\n",
       "    </tr>\n",
       "    <tr>\n",
       "      <th>6432</th>\n",
       "      <td>2019-03-13 19:31:22</td>\n",
       "      <td>2019-03-13 19:48:02</td>\n",
       "      <td>1</td>\n",
       "      <td>3.85</td>\n",
       "      <td>15.0</td>\n",
       "      <td>3.36</td>\n",
       "      <td>0.0</td>\n",
       "      <td>20.16</td>\n",
       "      <td>green</td>\n",
       "      <td>credit card</td>\n",
       "      <td>Boerum Hill</td>\n",
       "      <td>Windsor Terrace</td>\n",
       "      <td>Brooklyn</td>\n",
       "      <td>Brooklyn</td>\n",
       "      <td>False</td>\n",
       "    </tr>\n",
       "  </tbody>\n",
       "</table>\n",
       "<p>6341 rows × 15 columns</p>\n",
       "</div>"
      ],
      "text/plain": [
       "                  pickup             dropoff  passengers  distance  fare  \\\n",
       "0    2019-03-23 20:21:09 2019-03-23 20:27:24           1      1.60   7.0   \n",
       "1    2019-03-04 16:11:55 2019-03-04 16:19:00           1      0.79   5.0   \n",
       "2    2019-03-27 17:53:01 2019-03-27 18:00:25           1      1.37   7.5   \n",
       "3    2019-03-10 01:23:59 2019-03-10 01:49:51           1      7.70  27.0   \n",
       "4    2019-03-30 13:27:42 2019-03-30 13:37:14           3      2.16   9.0   \n",
       "...                  ...                 ...         ...       ...   ...   \n",
       "6428 2019-03-31 09:51:53 2019-03-31 09:55:27           1      0.75   4.5   \n",
       "6429 2019-03-31 17:38:00 2019-03-31 18:34:23           1     18.74  58.0   \n",
       "6430 2019-03-23 22:55:18 2019-03-23 23:14:25           1      4.14  16.0   \n",
       "6431 2019-03-04 10:09:25 2019-03-04 10:14:29           1      1.12   6.0   \n",
       "6432 2019-03-13 19:31:22 2019-03-13 19:48:02           1      3.85  15.0   \n",
       "\n",
       "       tip  tolls  total   color      payment            pickup_zone  \\\n",
       "0     2.15    0.0  12.95  yellow  credit card        Lenox Hill West   \n",
       "1     0.00    0.0   9.30  yellow         cash  Upper West Side South   \n",
       "2     2.36    0.0  14.16  yellow  credit card          Alphabet City   \n",
       "3     6.15    0.0  36.95  yellow  credit card              Hudson Sq   \n",
       "4     1.10    0.0  13.40  yellow  credit card           Midtown East   \n",
       "...    ...    ...    ...     ...          ...                    ...   \n",
       "6428  1.06    0.0   6.36   green  credit card      East Harlem North   \n",
       "6429  0.00    0.0  58.80   green  credit card                Jamaica   \n",
       "6430  0.00    0.0  17.30   green         cash    Crown Heights North   \n",
       "6431  0.00    0.0   6.80   green  credit card          East New York   \n",
       "6432  3.36    0.0  20.16   green  credit card            Boerum Hill   \n",
       "\n",
       "                          dropoff_zone pickup_borough dropoff_borough  \\\n",
       "0                  UN/Turtle Bay South      Manhattan       Manhattan   \n",
       "1                Upper West Side South      Manhattan       Manhattan   \n",
       "2                         West Village      Manhattan       Manhattan   \n",
       "3                       Yorkville West      Manhattan       Manhattan   \n",
       "4                       Yorkville West      Manhattan       Manhattan   \n",
       "...                                ...            ...             ...   \n",
       "6428              Central Harlem North      Manhattan       Manhattan   \n",
       "6429  East Concourse/Concourse Village         Queens           Bronx   \n",
       "6430                    Bushwick North       Brooklyn        Brooklyn   \n",
       "6431      East Flatbush/Remsen Village       Brooklyn        Brooklyn   \n",
       "6432                   Windsor Terrace       Brooklyn        Brooklyn   \n",
       "\n",
       "      Airport0  \n",
       "0        False  \n",
       "1        False  \n",
       "2        False  \n",
       "3        False  \n",
       "4        False  \n",
       "...        ...  \n",
       "6428     False  \n",
       "6429     False  \n",
       "6430     False  \n",
       "6431     False  \n",
       "6432     False  \n",
       "\n",
       "[6341 rows x 15 columns]"
      ]
     },
     "execution_count": 23,
     "metadata": {},
     "output_type": "execute_result"
    }
   ],
   "source": [
    "df"
   ]
  },
  {
   "cell_type": "markdown",
   "metadata": {},
   "source": [
    "If we try to apply using `axis=0` in this case, we get an error, because the code included `row[\"pickup_zone\"]`, which doesn't make sense for a column in this DataFrame.  (There is no row with label \"pickup_zone\".)"
   ]
  },
  {
   "cell_type": "code",
   "execution_count": 24,
   "metadata": {
    "cell_id": "bdb96ddd630d4591bba6932d7a5cc5b4",
    "deepnote_cell_type": "code",
    "deepnote_to_be_reexecuted": false,
    "execution_millis": 2378,
    "execution_start": 1682540896896,
    "source_hash": "e3b08ed8",
    "tags": [
     "output_scroll"
    ]
   },
   "outputs": [
    {
     "ename": "KeyError",
     "evalue": "'pickup_zone'",
     "output_type": "error",
     "traceback": [
      "\u001b[0;31m---------------------------------------------------------------------------\u001b[0m",
      "\u001b[0;31mKeyError\u001b[0m                                  Traceback (most recent call last)",
      "File \u001b[0;32m/shared-libs/python3.9/py/lib/python3.9/site-packages/pandas/core/indexes/base.py:3081\u001b[0m, in \u001b[0;36mIndex.get_loc\u001b[0;34m(self, key, method, tolerance)\u001b[0m\n\u001b[1;32m   3080\u001b[0m \u001b[38;5;28;01mtry\u001b[39;00m:\n\u001b[0;32m-> 3081\u001b[0m     \u001b[38;5;28;01mreturn\u001b[39;00m \u001b[38;5;28;43mself\u001b[39;49m\u001b[38;5;241;43m.\u001b[39;49m\u001b[43m_engine\u001b[49m\u001b[38;5;241;43m.\u001b[39;49m\u001b[43mget_loc\u001b[49m\u001b[43m(\u001b[49m\u001b[43mcasted_key\u001b[49m\u001b[43m)\u001b[49m\n\u001b[1;32m   3082\u001b[0m \u001b[38;5;28;01mexcept\u001b[39;00m \u001b[38;5;167;01mKeyError\u001b[39;00m \u001b[38;5;28;01mas\u001b[39;00m err:\n",
      "File \u001b[0;32mpandas/_libs/index.pyx:70\u001b[0m, in \u001b[0;36mpandas._libs.index.IndexEngine.get_loc\u001b[0;34m()\u001b[0m\n",
      "File \u001b[0;32mpandas/_libs/index.pyx:98\u001b[0m, in \u001b[0;36mpandas._libs.index.IndexEngine.get_loc\u001b[0;34m()\u001b[0m\n",
      "File \u001b[0;32mpandas/_libs/index_class_helper.pxi:89\u001b[0m, in \u001b[0;36mpandas._libs.index.Int64Engine._check_type\u001b[0;34m()\u001b[0m\n",
      "\u001b[0;31mKeyError\u001b[0m: 'pickup_zone'",
      "\nThe above exception was the direct cause of the following exception:\n",
      "\u001b[0;31mKeyError\u001b[0m                                  Traceback (most recent call last)",
      "Cell \u001b[0;32mIn [24], line 1\u001b[0m\n\u001b[0;32m----> 1\u001b[0m \u001b[43mdf\u001b[49m\u001b[38;5;241;43m.\u001b[39;49m\u001b[43mapply\u001b[49m\u001b[43m(\u001b[49m\u001b[43mhas_airport\u001b[49m\u001b[43m,\u001b[49m\u001b[43m \u001b[49m\u001b[43maxis\u001b[49m\u001b[38;5;241;43m=\u001b[39;49m\u001b[38;5;241;43m0\u001b[39;49m\u001b[43m)\u001b[49m\n",
      "File \u001b[0;32m/shared-libs/python3.9/py/lib/python3.9/site-packages/pandas/core/frame.py:7768\u001b[0m, in \u001b[0;36mDataFrame.apply\u001b[0;34m(self, func, axis, raw, result_type, args, **kwds)\u001b[0m\n\u001b[1;32m   7757\u001b[0m \u001b[38;5;28;01mfrom\u001b[39;00m \u001b[38;5;21;01mpandas\u001b[39;00m\u001b[38;5;21;01m.\u001b[39;00m\u001b[38;5;21;01mcore\u001b[39;00m\u001b[38;5;21;01m.\u001b[39;00m\u001b[38;5;21;01mapply\u001b[39;00m \u001b[38;5;28;01mimport\u001b[39;00m frame_apply\n\u001b[1;32m   7759\u001b[0m op \u001b[38;5;241m=\u001b[39m frame_apply(\n\u001b[1;32m   7760\u001b[0m     \u001b[38;5;28mself\u001b[39m,\n\u001b[1;32m   7761\u001b[0m     func\u001b[38;5;241m=\u001b[39mfunc,\n\u001b[0;32m   (...)\u001b[0m\n\u001b[1;32m   7766\u001b[0m     kwds\u001b[38;5;241m=\u001b[39mkwds,\n\u001b[1;32m   7767\u001b[0m )\n\u001b[0;32m-> 7768\u001b[0m \u001b[38;5;28;01mreturn\u001b[39;00m \u001b[43mop\u001b[49m\u001b[38;5;241;43m.\u001b[39;49m\u001b[43mget_result\u001b[49m\u001b[43m(\u001b[49m\u001b[43m)\u001b[49m\n",
      "File \u001b[0;32m/shared-libs/python3.9/py/lib/python3.9/site-packages/pandas/core/apply.py:185\u001b[0m, in \u001b[0;36mFrameApply.get_result\u001b[0;34m(self)\u001b[0m\n\u001b[1;32m    182\u001b[0m \u001b[38;5;28;01melif\u001b[39;00m \u001b[38;5;28mself\u001b[39m\u001b[38;5;241m.\u001b[39mraw:\n\u001b[1;32m    183\u001b[0m     \u001b[38;5;28;01mreturn\u001b[39;00m \u001b[38;5;28mself\u001b[39m\u001b[38;5;241m.\u001b[39mapply_raw()\n\u001b[0;32m--> 185\u001b[0m \u001b[38;5;28;01mreturn\u001b[39;00m \u001b[38;5;28;43mself\u001b[39;49m\u001b[38;5;241;43m.\u001b[39;49m\u001b[43mapply_standard\u001b[49m\u001b[43m(\u001b[49m\u001b[43m)\u001b[49m\n",
      "File \u001b[0;32m/shared-libs/python3.9/py/lib/python3.9/site-packages/pandas/core/apply.py:276\u001b[0m, in \u001b[0;36mFrameApply.apply_standard\u001b[0;34m(self)\u001b[0m\n\u001b[1;32m    275\u001b[0m \u001b[38;5;28;01mdef\u001b[39;00m \u001b[38;5;21mapply_standard\u001b[39m(\u001b[38;5;28mself\u001b[39m):\n\u001b[0;32m--> 276\u001b[0m     results, res_index \u001b[38;5;241m=\u001b[39m \u001b[38;5;28;43mself\u001b[39;49m\u001b[38;5;241;43m.\u001b[39;49m\u001b[43mapply_series_generator\u001b[49m\u001b[43m(\u001b[49m\u001b[43m)\u001b[49m\n\u001b[1;32m    278\u001b[0m     \u001b[38;5;66;03m# wrap results\u001b[39;00m\n\u001b[1;32m    279\u001b[0m     \u001b[38;5;28;01mreturn\u001b[39;00m \u001b[38;5;28mself\u001b[39m\u001b[38;5;241m.\u001b[39mwrap_results(results, res_index)\n",
      "File \u001b[0;32m/shared-libs/python3.9/py/lib/python3.9/site-packages/pandas/core/apply.py:290\u001b[0m, in \u001b[0;36mFrameApply.apply_series_generator\u001b[0;34m(self)\u001b[0m\n\u001b[1;32m    287\u001b[0m \u001b[38;5;28;01mwith\u001b[39;00m option_context(\u001b[38;5;124m\"\u001b[39m\u001b[38;5;124mmode.chained_assignment\u001b[39m\u001b[38;5;124m\"\u001b[39m, \u001b[38;5;28;01mNone\u001b[39;00m):\n\u001b[1;32m    288\u001b[0m     \u001b[38;5;28;01mfor\u001b[39;00m i, v \u001b[38;5;129;01min\u001b[39;00m \u001b[38;5;28menumerate\u001b[39m(series_gen):\n\u001b[1;32m    289\u001b[0m         \u001b[38;5;66;03m# ignore SettingWithCopy here in case the user mutates\u001b[39;00m\n\u001b[0;32m--> 290\u001b[0m         results[i] \u001b[38;5;241m=\u001b[39m \u001b[38;5;28;43mself\u001b[39;49m\u001b[38;5;241;43m.\u001b[39;49m\u001b[43mf\u001b[49m\u001b[43m(\u001b[49m\u001b[43mv\u001b[49m\u001b[43m)\u001b[49m\n\u001b[1;32m    291\u001b[0m         \u001b[38;5;28;01mif\u001b[39;00m \u001b[38;5;28misinstance\u001b[39m(results[i], ABCSeries):\n\u001b[1;32m    292\u001b[0m             \u001b[38;5;66;03m# If we have a view on v, we need to make a copy because\u001b[39;00m\n\u001b[1;32m    293\u001b[0m             \u001b[38;5;66;03m#  series_generator will swap out the underlying data\u001b[39;00m\n\u001b[1;32m    294\u001b[0m             results[i] \u001b[38;5;241m=\u001b[39m results[i]\u001b[38;5;241m.\u001b[39mcopy(deep\u001b[38;5;241m=\u001b[39m\u001b[38;5;28;01mFalse\u001b[39;00m)\n",
      "Cell \u001b[0;32mIn [12], line 2\u001b[0m, in \u001b[0;36mhas_airport\u001b[0;34m(row)\u001b[0m\n\u001b[1;32m      1\u001b[0m \u001b[38;5;28;01mdef\u001b[39;00m \u001b[38;5;21mhas_airport\u001b[39m(row):\n\u001b[0;32m----> 2\u001b[0m     \u001b[38;5;28;01mreturn\u001b[39;00m (\u001b[38;5;124m\"\u001b[39m\u001b[38;5;124mAirport\u001b[39m\u001b[38;5;124m\"\u001b[39m \u001b[38;5;129;01min\u001b[39;00m \u001b[43mrow\u001b[49m\u001b[43m[\u001b[49m\u001b[38;5;124;43m\"\u001b[39;49m\u001b[38;5;124;43mpickup_zone\u001b[39;49m\u001b[38;5;124;43m\"\u001b[39;49m\u001b[43m]\u001b[49m) \u001b[38;5;129;01mor\u001b[39;00m (\u001b[38;5;124m\"\u001b[39m\u001b[38;5;124mAirport\u001b[39m\u001b[38;5;124m\"\u001b[39m \u001b[38;5;129;01min\u001b[39;00m row[\u001b[38;5;124m\"\u001b[39m\u001b[38;5;124mdropoff_zone\u001b[39m\u001b[38;5;124m\"\u001b[39m])\n",
      "File \u001b[0;32m/shared-libs/python3.9/py/lib/python3.9/site-packages/pandas/core/series.py:853\u001b[0m, in \u001b[0;36mSeries.__getitem__\u001b[0;34m(self, key)\u001b[0m\n\u001b[1;32m    850\u001b[0m     \u001b[38;5;28;01mreturn\u001b[39;00m \u001b[38;5;28mself\u001b[39m\u001b[38;5;241m.\u001b[39m_values[key]\n\u001b[1;32m    852\u001b[0m \u001b[38;5;28;01melif\u001b[39;00m key_is_scalar:\n\u001b[0;32m--> 853\u001b[0m     \u001b[38;5;28;01mreturn\u001b[39;00m \u001b[38;5;28;43mself\u001b[39;49m\u001b[38;5;241;43m.\u001b[39;49m\u001b[43m_get_value\u001b[49m\u001b[43m(\u001b[49m\u001b[43mkey\u001b[49m\u001b[43m)\u001b[49m\n\u001b[1;32m    855\u001b[0m \u001b[38;5;28;01mif\u001b[39;00m is_hashable(key):\n\u001b[1;32m    856\u001b[0m     \u001b[38;5;66;03m# Otherwise index.get_value will raise InvalidIndexError\u001b[39;00m\n\u001b[1;32m    857\u001b[0m     \u001b[38;5;28;01mtry\u001b[39;00m:\n\u001b[1;32m    858\u001b[0m         \u001b[38;5;66;03m# For labels that don't resolve as scalars like tuples and frozensets\u001b[39;00m\n",
      "File \u001b[0;32m/shared-libs/python3.9/py/lib/python3.9/site-packages/pandas/core/series.py:961\u001b[0m, in \u001b[0;36mSeries._get_value\u001b[0;34m(self, label, takeable)\u001b[0m\n\u001b[1;32m    958\u001b[0m     \u001b[38;5;28;01mreturn\u001b[39;00m \u001b[38;5;28mself\u001b[39m\u001b[38;5;241m.\u001b[39m_values[label]\n\u001b[1;32m    960\u001b[0m \u001b[38;5;66;03m# Similar to Index.get_value, but we do not fall back to positional\u001b[39;00m\n\u001b[0;32m--> 961\u001b[0m loc \u001b[38;5;241m=\u001b[39m \u001b[38;5;28;43mself\u001b[39;49m\u001b[38;5;241;43m.\u001b[39;49m\u001b[43mindex\u001b[49m\u001b[38;5;241;43m.\u001b[39;49m\u001b[43mget_loc\u001b[49m\u001b[43m(\u001b[49m\u001b[43mlabel\u001b[49m\u001b[43m)\u001b[49m\n\u001b[1;32m    962\u001b[0m \u001b[38;5;28;01mreturn\u001b[39;00m \u001b[38;5;28mself\u001b[39m\u001b[38;5;241m.\u001b[39mindex\u001b[38;5;241m.\u001b[39m_get_values_for_loc(\u001b[38;5;28mself\u001b[39m, loc, label)\n",
      "File \u001b[0;32m/shared-libs/python3.9/py/lib/python3.9/site-packages/pandas/core/indexes/base.py:3083\u001b[0m, in \u001b[0;36mIndex.get_loc\u001b[0;34m(self, key, method, tolerance)\u001b[0m\n\u001b[1;32m   3081\u001b[0m         \u001b[38;5;28;01mreturn\u001b[39;00m \u001b[38;5;28mself\u001b[39m\u001b[38;5;241m.\u001b[39m_engine\u001b[38;5;241m.\u001b[39mget_loc(casted_key)\n\u001b[1;32m   3082\u001b[0m     \u001b[38;5;28;01mexcept\u001b[39;00m \u001b[38;5;167;01mKeyError\u001b[39;00m \u001b[38;5;28;01mas\u001b[39;00m err:\n\u001b[0;32m-> 3083\u001b[0m         \u001b[38;5;28;01mraise\u001b[39;00m \u001b[38;5;167;01mKeyError\u001b[39;00m(key) \u001b[38;5;28;01mfrom\u001b[39;00m \u001b[38;5;21;01merr\u001b[39;00m\n\u001b[1;32m   3085\u001b[0m \u001b[38;5;28;01mif\u001b[39;00m tolerance \u001b[38;5;129;01mis\u001b[39;00m \u001b[38;5;129;01mnot\u001b[39;00m \u001b[38;5;28;01mNone\u001b[39;00m:\n\u001b[1;32m   3086\u001b[0m     tolerance \u001b[38;5;241m=\u001b[39m \u001b[38;5;28mself\u001b[39m\u001b[38;5;241m.\u001b[39m_convert_tolerance(tolerance, np\u001b[38;5;241m.\u001b[39masarray(key))\n",
      "\u001b[0;31mKeyError\u001b[0m: 'pickup_zone'"
     ]
    }
   ],
   "source": [
    "df.apply(has_airport, axis=0)"
   ]
  },
  {
   "cell_type": "markdown",
   "metadata": {
    "cell_id": "72d1e89d01784a3aa19140390ad59d07",
    "deepnote_cell_type": "markdown"
   },
   "source": [
    "* Make a column `\"Airport1\"` with the same values, again using `apply`, but this time using a lambda function."
   ]
  },
  {
   "cell_type": "markdown",
   "metadata": {},
   "source": [
    "The following is the exact same as above, just using an anonymous lambda function instead of our named `has_airport` function.  I've broken it up over multiple lines just to make it a little easier to read."
   ]
  },
  {
   "cell_type": "code",
   "execution_count": 25,
   "metadata": {
    "cell_id": "bb0f9d98cd7d4fc6b0ebed3f458385d6",
    "deepnote_cell_type": "code",
    "deepnote_to_be_reexecuted": false,
    "execution_millis": 67,
    "execution_start": 1682541035321,
    "source_hash": "9f313261"
   },
   "outputs": [],
   "source": [
    "df[\"Airport1\"] = df.apply(\n",
    "    lambda row: (\"Airport\" in row[\"pickup_zone\"]) or (\"Airport\" in row[\"dropoff_zone\"]),\n",
    "    axis=1\n",
    ")"
   ]
  },
  {
   "cell_type": "markdown",
   "metadata": {},
   "source": [
    "Notice how we now have a new column on the far right."
   ]
  },
  {
   "cell_type": "code",
   "execution_count": 26,
   "metadata": {
    "cell_id": "171a8e2cc478475a8366b9f27d774dbd",
    "deepnote_cell_type": "code",
    "deepnote_to_be_reexecuted": false,
    "execution_millis": 177,
    "execution_start": 1682541039483,
    "source_hash": "f804c160",
    "tags": [
     "output_scroll"
    ]
   },
   "outputs": [
    {
     "data": {
      "application/vnd.deepnote.dataframe.v3+json": {
       "column_count": 16,
       "columns": [
        {
         "dtype": "datetime64[ns]",
         "name": "pickup",
         "stats": {
          "histogram": [
           {
            "bin_end": 1551664471200000000,
            "bin_start": 1551396543000000000,
            "count": 602
           },
           {
            "bin_end": 1551932399400000000,
            "bin_start": 1551664471200000000,
            "count": 663
           },
           {
            "bin_end": 1552200327600000000,
            "bin_start": 1551932399400000000,
            "count": 664
           },
           {
            "bin_end": 1552468255800000000,
            "bin_start": 1552200327600000000,
            "count": 599
           },
           {
            "bin_end": 1552736184000000000,
            "bin_start": 1552468255800000000,
            "count": 743
           },
           {
            "bin_end": 1553004112200000000,
            "bin_start": 1552736184000000000,
            "count": 573
           },
           {
            "bin_end": 1553272040400000000,
            "bin_start": 1553004112200000000,
            "count": 683
           },
           {
            "bin_end": 1553539968600000000,
            "bin_start": 1553272040400000000,
            "count": 561
           },
           {
            "bin_end": 1553807896800000000,
            "bin_start": 1553539968600000000,
            "count": 630
           },
           {
            "bin_end": 1554075825000000000,
            "bin_start": 1553807896800000000,
            "count": 623
           }
          ],
          "max": "2019-03-31 23:43:45",
          "min": "2019-02-28 23:29:03",
          "nan_count": 0,
          "unique_count": 6322
         }
        },
        {
         "dtype": "datetime64[ns]",
         "name": "dropoff",
         "stats": {
          "histogram": [
           {
            "bin_end": 1551664843300000000,
            "bin_start": 1551396755000000000,
            "count": 602
           },
           {
            "bin_end": 1551932931600000000,
            "bin_start": 1551664843300000000,
            "count": 663
           },
           {
            "bin_end": 1552201019900000000,
            "bin_start": 1551932931600000000,
            "count": 664
           },
           {
            "bin_end": 1552469108200000000,
            "bin_start": 1552201019900000000,
            "count": 595
           },
           {
            "bin_end": 1552737196500000000,
            "bin_start": 1552469108200000000,
            "count": 749
           },
           {
            "bin_end": 1553005284800000000,
            "bin_start": 1552737196500000000,
            "count": 570
           },
           {
            "bin_end": 1553273373100000000,
            "bin_start": 1553005284800000000,
            "count": 686
           },
           {
            "bin_end": 1553541461400000000,
            "bin_start": 1553273373100000000,
            "count": 562
           },
           {
            "bin_end": 1553809549700000000,
            "bin_start": 1553541461400000000,
            "count": 630
           },
           {
            "bin_end": 1554077638000000000,
            "bin_start": 1553809549700000000,
            "count": 620
           }
          ],
          "max": "2019-04-01 00:13:58",
          "min": "2019-02-28 23:32:35",
          "nan_count": 0,
          "unique_count": 6333
         }
        },
        {
         "dtype": "int64",
         "name": "passengers",
         "stats": {
          "histogram": [
           {
            "bin_end": 0.6,
            "bin_start": 0,
            "count": 90
           },
           {
            "bin_end": 1.2,
            "bin_start": 0.6,
            "count": 4608
           },
           {
            "bin_end": 1.7999999999999998,
            "bin_start": 1.2,
            "count": 0
           },
           {
            "bin_end": 2.4,
            "bin_start": 1.7999999999999998,
            "count": 865
           },
           {
            "bin_end": 3,
            "bin_start": 2.4,
            "count": 0
           },
           {
            "bin_end": 3.5999999999999996,
            "bin_start": 3,
            "count": 240
           },
           {
            "bin_end": 4.2,
            "bin_start": 3.5999999999999996,
            "count": 109
           },
           {
            "bin_end": 4.8,
            "bin_start": 4.2,
            "count": 0
           },
           {
            "bin_end": 5.3999999999999995,
            "bin_start": 4.8,
            "count": 277
           },
           {
            "bin_end": 6,
            "bin_start": 5.3999999999999995,
            "count": 152
           }
          ],
          "max": "6",
          "min": "0",
          "nan_count": 0,
          "unique_count": 7
         }
        },
        {
         "dtype": "float64",
         "name": "distance",
         "stats": {
          "histogram": [
           {
            "bin_end": 3.6700000000000004,
            "bin_start": 0,
            "count": 4985
           },
           {
            "bin_end": 7.340000000000001,
            "bin_start": 3.6700000000000004,
            "count": 736
           },
           {
            "bin_end": 11.010000000000002,
            "bin_start": 7.340000000000001,
            "count": 316
           },
           {
            "bin_end": 14.680000000000001,
            "bin_start": 11.010000000000002,
            "count": 124
           },
           {
            "bin_end": 18.35,
            "bin_start": 14.680000000000001,
            "count": 99
           },
           {
            "bin_end": 22.020000000000003,
            "bin_start": 18.35,
            "count": 63
           },
           {
            "bin_end": 25.69,
            "bin_start": 22.020000000000003,
            "count": 13
           },
           {
            "bin_end": 29.360000000000003,
            "bin_start": 25.69,
            "count": 3
           },
           {
            "bin_end": 33.03,
            "bin_start": 29.360000000000003,
            "count": 1
           },
           {
            "bin_end": 36.7,
            "bin_start": 33.03,
            "count": 1
           }
          ],
          "max": "36.7",
          "min": "0.0",
          "nan_count": 0,
          "unique_count": 1064
         }
        },
        {
         "dtype": "float64",
         "name": "fare",
         "stats": {
          "histogram": [
           {
            "bin_end": 15.9,
            "bin_start": 1,
            "count": 4910
           },
           {
            "bin_end": 30.8,
            "bin_start": 15.9,
            "count": 970
           },
           {
            "bin_end": 45.7,
            "bin_start": 30.8,
            "count": 266
           },
           {
            "bin_end": 60.6,
            "bin_start": 45.7,
            "count": 178
           },
           {
            "bin_end": 75.5,
            "bin_start": 60.6,
            "count": 12
           },
           {
            "bin_end": 90.4,
            "bin_start": 75.5,
            "count": 3
           },
           {
            "bin_end": 105.3,
            "bin_start": 90.4,
            "count": 1
           },
           {
            "bin_end": 120.2,
            "bin_start": 105.3,
            "count": 0
           },
           {
            "bin_end": 135.1,
            "bin_start": 120.2,
            "count": 0
           },
           {
            "bin_end": 150,
            "bin_start": 135.1,
            "count": 1
           }
          ],
          "max": "150.0",
          "min": "1.0",
          "nan_count": 0,
          "unique_count": 206
         }
        },
        {
         "dtype": "float64",
         "name": "tip",
         "stats": {
          "histogram": [
           {
            "bin_end": 2.319,
            "bin_start": 0,
            "count": 4196
           },
           {
            "bin_end": 4.638,
            "bin_start": 2.319,
            "count": 1567
           },
           {
            "bin_end": 6.957,
            "bin_start": 4.638,
            "count": 306
           },
           {
            "bin_end": 9.276,
            "bin_start": 6.957,
            "count": 126
           },
           {
            "bin_end": 11.594999999999999,
            "bin_start": 9.276,
            "count": 76
           },
           {
            "bin_end": 13.914,
            "bin_start": 11.594999999999999,
            "count": 53
           },
           {
            "bin_end": 16.233,
            "bin_start": 13.914,
            "count": 11
           },
           {
            "bin_end": 18.552,
            "bin_start": 16.233,
            "count": 4
           },
           {
            "bin_end": 20.871,
            "bin_start": 18.552,
            "count": 1
           },
           {
            "bin_end": 23.19,
            "bin_start": 20.871,
            "count": 1
           }
          ],
          "max": "23.19",
          "min": "0.0",
          "nan_count": 0,
          "unique_count": 481
         }
        },
        {
         "dtype": "float64",
         "name": "tolls",
         "stats": {
          "histogram": [
           {
            "bin_end": 2.402,
            "bin_start": 0,
            "count": 6003
           },
           {
            "bin_end": 4.804,
            "bin_start": 2.402,
            "count": 7
           },
           {
            "bin_end": 7.206,
            "bin_start": 4.804,
            "count": 321
           },
           {
            "bin_end": 9.608,
            "bin_start": 7.206,
            "count": 3
           },
           {
            "bin_end": 12.010000000000002,
            "bin_start": 9.608,
            "count": 4
           },
           {
            "bin_end": 14.412,
            "bin_start": 12.010000000000002,
            "count": 1
           },
           {
            "bin_end": 16.814,
            "bin_start": 14.412,
            "count": 0
           },
           {
            "bin_end": 19.216,
            "bin_start": 16.814,
            "count": 1
           },
           {
            "bin_end": 21.618000000000002,
            "bin_start": 19.216,
            "count": 0
           },
           {
            "bin_end": 24.02,
            "bin_start": 21.618000000000002,
            "count": 1
           }
          ],
          "max": "24.02",
          "min": "0.0",
          "nan_count": 0,
          "unique_count": 14
         }
        },
        {
         "dtype": "float64",
         "name": "total",
         "stats": {
          "histogram": [
           {
            "bin_end": 18.651999999999997,
            "bin_start": 1.3,
            "count": 4452
           },
           {
            "bin_end": 36.00399999999999,
            "bin_start": 18.651999999999997,
            "count": 1353
           },
           {
            "bin_end": 53.35599999999999,
            "bin_start": 36.00399999999999,
            "count": 304
           },
           {
            "bin_end": 70.70799999999998,
            "bin_start": 53.35599999999999,
            "count": 156
           },
           {
            "bin_end": 88.05999999999999,
            "bin_start": 70.70799999999998,
            "count": 71
           },
           {
            "bin_end": 105.41199999999998,
            "bin_start": 88.05999999999999,
            "count": 4
           },
           {
            "bin_end": 122.76399999999997,
            "bin_start": 105.41199999999998,
            "count": 0
           },
           {
            "bin_end": 140.11599999999999,
            "bin_start": 122.76399999999997,
            "count": 0
           },
           {
            "bin_end": 157.468,
            "bin_start": 140.11599999999999,
            "count": 0
           },
           {
            "bin_end": 174.82,
            "bin_start": 157.468,
            "count": 1
           }
          ],
          "max": "174.82",
          "min": "1.3",
          "nan_count": 0,
          "unique_count": 877
         }
        },
        {
         "dtype": "object",
         "name": "color",
         "stats": {
          "categories": [
           {
            "count": 5373,
            "name": "yellow"
           },
           {
            "count": 968,
            "name": "green"
           }
          ],
          "nan_count": 0,
          "unique_count": 2
         }
        },
        {
         "dtype": "object",
         "name": "payment",
         "stats": {
          "categories": [
           {
            "count": 4546,
            "name": "credit card"
           },
           {
            "count": 1795,
            "name": "cash"
           }
          ],
          "nan_count": 0,
          "unique_count": 2
         }
        },
        {
         "dtype": "object",
         "name": "pickup_zone",
         "stats": {
          "categories": [
           {
            "count": 227,
            "name": "Midtown Center"
           },
           {
            "count": 209,
            "name": "Penn Station/Madison Sq West"
           },
           {
            "count": 5905,
            "name": "192 others"
           }
          ],
          "nan_count": 0,
          "unique_count": 194
         }
        },
        {
         "dtype": "object",
         "name": "dropoff_zone",
         "stats": {
          "categories": [
           {
            "count": 244,
            "name": "Upper East Side North"
           },
           {
            "count": 217,
            "name": "Murray Hill"
           },
           {
            "count": 5880,
            "name": "201 others"
           }
          ],
          "nan_count": 0,
          "unique_count": 203
         }
        },
        {
         "dtype": "object",
         "name": "pickup_borough",
         "stats": {
          "categories": [
           {
            "count": 5226,
            "name": "Manhattan"
           },
           {
            "count": 638,
            "name": "Queens"
           },
           {
            "count": 477,
            "name": "2 others"
           }
          ],
          "nan_count": 0,
          "unique_count": 4
         }
        },
        {
         "dtype": "object",
         "name": "dropoff_borough",
         "stats": {
          "categories": [
           {
            "count": 5172,
            "name": "Manhattan"
           },
           {
            "count": 534,
            "name": "Queens"
           },
           {
            "count": 635,
            "name": "3 others"
           }
          ],
          "nan_count": 0,
          "unique_count": 5
         }
        },
        {
         "dtype": "bool",
         "name": "Airport0",
         "stats": {
          "categories": [
           {
            "count": 5946,
            "name": "False"
           },
           {
            "count": 395,
            "name": "True"
           }
          ],
          "nan_count": 0,
          "unique_count": 2
         }
        },
        {
         "dtype": "bool",
         "name": "Airport1"
        },
        {
         "dtype": "int64",
         "name": "_deepnote_index_column"
        }
       ],
       "row_count": 6341,
       "rows": [
        {
         "Airport0": "False",
         "Airport1": "False",
         "_deepnote_index_column": "0",
         "color": "yellow",
         "distance": "1.6",
         "dropoff": "2019-03-23 20:27:24",
         "dropoff_borough": "Manhattan",
         "dropoff_zone": "UN/Turtle Bay South",
         "fare": "7.0",
         "passengers": "1",
         "payment": "credit card",
         "pickup": "2019-03-23 20:21:09",
         "pickup_borough": "Manhattan",
         "pickup_zone": "Lenox Hill West",
         "tip": "2.15",
         "tolls": "0.0",
         "total": "12.95"
        },
        {
         "Airport0": "False",
         "Airport1": "False",
         "_deepnote_index_column": "1",
         "color": "yellow",
         "distance": "0.79",
         "dropoff": "2019-03-04 16:19:00",
         "dropoff_borough": "Manhattan",
         "dropoff_zone": "Upper West Side South",
         "fare": "5.0",
         "passengers": "1",
         "payment": "cash",
         "pickup": "2019-03-04 16:11:55",
         "pickup_borough": "Manhattan",
         "pickup_zone": "Upper West Side South",
         "tip": "0.0",
         "tolls": "0.0",
         "total": "9.3"
        },
        {
         "Airport0": "False",
         "Airport1": "False",
         "_deepnote_index_column": "2",
         "color": "yellow",
         "distance": "1.37",
         "dropoff": "2019-03-27 18:00:25",
         "dropoff_borough": "Manhattan",
         "dropoff_zone": "West Village",
         "fare": "7.5",
         "passengers": "1",
         "payment": "credit card",
         "pickup": "2019-03-27 17:53:01",
         "pickup_borough": "Manhattan",
         "pickup_zone": "Alphabet City",
         "tip": "2.36",
         "tolls": "0.0",
         "total": "14.16"
        },
        {
         "Airport0": "False",
         "Airport1": "False",
         "_deepnote_index_column": "3",
         "color": "yellow",
         "distance": "7.7",
         "dropoff": "2019-03-10 01:49:51",
         "dropoff_borough": "Manhattan",
         "dropoff_zone": "Yorkville West",
         "fare": "27.0",
         "passengers": "1",
         "payment": "credit card",
         "pickup": "2019-03-10 01:23:59",
         "pickup_borough": "Manhattan",
         "pickup_zone": "Hudson Sq",
         "tip": "6.15",
         "tolls": "0.0",
         "total": "36.95"
        },
        {
         "Airport0": "False",
         "Airport1": "False",
         "_deepnote_index_column": "4",
         "color": "yellow",
         "distance": "2.16",
         "dropoff": "2019-03-30 13:37:14",
         "dropoff_borough": "Manhattan",
         "dropoff_zone": "Yorkville West",
         "fare": "9.0",
         "passengers": "3",
         "payment": "credit card",
         "pickup": "2019-03-30 13:27:42",
         "pickup_borough": "Manhattan",
         "pickup_zone": "Midtown East",
         "tip": "1.1",
         "tolls": "0.0",
         "total": "13.4"
        },
        {
         "Airport0": "False",
         "Airport1": "False",
         "_deepnote_index_column": "5",
         "color": "yellow",
         "distance": "0.49",
         "dropoff": "2019-03-11 10:47:31",
         "dropoff_borough": "Manhattan",
         "dropoff_zone": "Midtown East",
         "fare": "7.5",
         "passengers": "1",
         "payment": "credit card",
         "pickup": "2019-03-11 10:37:23",
         "pickup_borough": "Manhattan",
         "pickup_zone": "Times Sq/Theatre District",
         "tip": "2.16",
         "tolls": "0.0",
         "total": "12.96"
        },
        {
         "Airport0": "False",
         "Airport1": "False",
         "_deepnote_index_column": "6",
         "color": "yellow",
         "distance": "3.65",
         "dropoff": "2019-03-26 21:17:29",
         "dropoff_borough": "Manhattan",
         "dropoff_zone": "Two Bridges/Seward Park",
         "fare": "13.0",
         "passengers": "1",
         "payment": "credit card",
         "pickup": "2019-03-26 21:07:31",
         "pickup_borough": "Manhattan",
         "pickup_zone": "Battery Park City",
         "tip": "2.0",
         "tolls": "0.0",
         "total": "18.8"
        },
        {
         "Airport0": "False",
         "Airport1": "False",
         "_deepnote_index_column": "8",
         "color": "yellow",
         "distance": "3.63",
         "dropoff": "2019-03-23 12:06:14",
         "dropoff_borough": "Manhattan",
         "dropoff_zone": "Midtown Center",
         "fare": "15.0",
         "passengers": "1",
         "payment": "credit card",
         "pickup": "2019-03-23 11:48:50",
         "pickup_borough": "Manhattan",
         "pickup_zone": "East Harlem South",
         "tip": "1.0",
         "tolls": "0.0",
         "total": "19.3"
        },
        {
         "Airport0": "False",
         "Airport1": "False",
         "_deepnote_index_column": "9",
         "color": "yellow",
         "distance": "1.52",
         "dropoff": "2019-03-08 16:26:57",
         "dropoff_borough": "Manhattan",
         "dropoff_zone": "Central Park",
         "fare": "8.0",
         "passengers": "1",
         "payment": "credit card",
         "pickup": "2019-03-08 16:18:37",
         "pickup_borough": "Manhattan",
         "pickup_zone": "Lincoln Square East",
         "tip": "1.0",
         "tolls": "0.0",
         "total": "13.3"
        },
        {
         "Airport0": "True",
         "Airport1": "True",
         "_deepnote_index_column": "10",
         "color": "yellow",
         "distance": "3.9",
         "dropoff": "2019-03-16 10:22:29",
         "dropoff_borough": "Queens",
         "dropoff_zone": "Astoria",
         "fare": "17.0",
         "passengers": "1",
         "payment": "cash",
         "pickup": "2019-03-16 10:02:25",
         "pickup_borough": "Queens",
         "pickup_zone": "LaGuardia Airport",
         "tip": "0.0",
         "tolls": "0.0",
         "total": "17.8"
        }
       ]
      },
      "text/html": [
       "<div>\n",
       "<style scoped>\n",
       "    .dataframe tbody tr th:only-of-type {\n",
       "        vertical-align: middle;\n",
       "    }\n",
       "\n",
       "    .dataframe tbody tr th {\n",
       "        vertical-align: top;\n",
       "    }\n",
       "\n",
       "    .dataframe thead th {\n",
       "        text-align: right;\n",
       "    }\n",
       "</style>\n",
       "<table border=\"1\" class=\"dataframe\">\n",
       "  <thead>\n",
       "    <tr style=\"text-align: right;\">\n",
       "      <th></th>\n",
       "      <th>pickup</th>\n",
       "      <th>dropoff</th>\n",
       "      <th>passengers</th>\n",
       "      <th>distance</th>\n",
       "      <th>fare</th>\n",
       "      <th>tip</th>\n",
       "      <th>tolls</th>\n",
       "      <th>total</th>\n",
       "      <th>color</th>\n",
       "      <th>payment</th>\n",
       "      <th>pickup_zone</th>\n",
       "      <th>dropoff_zone</th>\n",
       "      <th>pickup_borough</th>\n",
       "      <th>dropoff_borough</th>\n",
       "      <th>Airport0</th>\n",
       "      <th>Airport1</th>\n",
       "    </tr>\n",
       "  </thead>\n",
       "  <tbody>\n",
       "    <tr>\n",
       "      <th>0</th>\n",
       "      <td>2019-03-23 20:21:09</td>\n",
       "      <td>2019-03-23 20:27:24</td>\n",
       "      <td>1</td>\n",
       "      <td>1.60</td>\n",
       "      <td>7.0</td>\n",
       "      <td>2.15</td>\n",
       "      <td>0.0</td>\n",
       "      <td>12.95</td>\n",
       "      <td>yellow</td>\n",
       "      <td>credit card</td>\n",
       "      <td>Lenox Hill West</td>\n",
       "      <td>UN/Turtle Bay South</td>\n",
       "      <td>Manhattan</td>\n",
       "      <td>Manhattan</td>\n",
       "      <td>False</td>\n",
       "      <td>False</td>\n",
       "    </tr>\n",
       "    <tr>\n",
       "      <th>1</th>\n",
       "      <td>2019-03-04 16:11:55</td>\n",
       "      <td>2019-03-04 16:19:00</td>\n",
       "      <td>1</td>\n",
       "      <td>0.79</td>\n",
       "      <td>5.0</td>\n",
       "      <td>0.00</td>\n",
       "      <td>0.0</td>\n",
       "      <td>9.30</td>\n",
       "      <td>yellow</td>\n",
       "      <td>cash</td>\n",
       "      <td>Upper West Side South</td>\n",
       "      <td>Upper West Side South</td>\n",
       "      <td>Manhattan</td>\n",
       "      <td>Manhattan</td>\n",
       "      <td>False</td>\n",
       "      <td>False</td>\n",
       "    </tr>\n",
       "    <tr>\n",
       "      <th>2</th>\n",
       "      <td>2019-03-27 17:53:01</td>\n",
       "      <td>2019-03-27 18:00:25</td>\n",
       "      <td>1</td>\n",
       "      <td>1.37</td>\n",
       "      <td>7.5</td>\n",
       "      <td>2.36</td>\n",
       "      <td>0.0</td>\n",
       "      <td>14.16</td>\n",
       "      <td>yellow</td>\n",
       "      <td>credit card</td>\n",
       "      <td>Alphabet City</td>\n",
       "      <td>West Village</td>\n",
       "      <td>Manhattan</td>\n",
       "      <td>Manhattan</td>\n",
       "      <td>False</td>\n",
       "      <td>False</td>\n",
       "    </tr>\n",
       "    <tr>\n",
       "      <th>3</th>\n",
       "      <td>2019-03-10 01:23:59</td>\n",
       "      <td>2019-03-10 01:49:51</td>\n",
       "      <td>1</td>\n",
       "      <td>7.70</td>\n",
       "      <td>27.0</td>\n",
       "      <td>6.15</td>\n",
       "      <td>0.0</td>\n",
       "      <td>36.95</td>\n",
       "      <td>yellow</td>\n",
       "      <td>credit card</td>\n",
       "      <td>Hudson Sq</td>\n",
       "      <td>Yorkville West</td>\n",
       "      <td>Manhattan</td>\n",
       "      <td>Manhattan</td>\n",
       "      <td>False</td>\n",
       "      <td>False</td>\n",
       "    </tr>\n",
       "    <tr>\n",
       "      <th>4</th>\n",
       "      <td>2019-03-30 13:27:42</td>\n",
       "      <td>2019-03-30 13:37:14</td>\n",
       "      <td>3</td>\n",
       "      <td>2.16</td>\n",
       "      <td>9.0</td>\n",
       "      <td>1.10</td>\n",
       "      <td>0.0</td>\n",
       "      <td>13.40</td>\n",
       "      <td>yellow</td>\n",
       "      <td>credit card</td>\n",
       "      <td>Midtown East</td>\n",
       "      <td>Yorkville West</td>\n",
       "      <td>Manhattan</td>\n",
       "      <td>Manhattan</td>\n",
       "      <td>False</td>\n",
       "      <td>False</td>\n",
       "    </tr>\n",
       "    <tr>\n",
       "      <th>...</th>\n",
       "      <td>...</td>\n",
       "      <td>...</td>\n",
       "      <td>...</td>\n",
       "      <td>...</td>\n",
       "      <td>...</td>\n",
       "      <td>...</td>\n",
       "      <td>...</td>\n",
       "      <td>...</td>\n",
       "      <td>...</td>\n",
       "      <td>...</td>\n",
       "      <td>...</td>\n",
       "      <td>...</td>\n",
       "      <td>...</td>\n",
       "      <td>...</td>\n",
       "      <td>...</td>\n",
       "      <td>...</td>\n",
       "    </tr>\n",
       "    <tr>\n",
       "      <th>6428</th>\n",
       "      <td>2019-03-31 09:51:53</td>\n",
       "      <td>2019-03-31 09:55:27</td>\n",
       "      <td>1</td>\n",
       "      <td>0.75</td>\n",
       "      <td>4.5</td>\n",
       "      <td>1.06</td>\n",
       "      <td>0.0</td>\n",
       "      <td>6.36</td>\n",
       "      <td>green</td>\n",
       "      <td>credit card</td>\n",
       "      <td>East Harlem North</td>\n",
       "      <td>Central Harlem North</td>\n",
       "      <td>Manhattan</td>\n",
       "      <td>Manhattan</td>\n",
       "      <td>False</td>\n",
       "      <td>False</td>\n",
       "    </tr>\n",
       "    <tr>\n",
       "      <th>6429</th>\n",
       "      <td>2019-03-31 17:38:00</td>\n",
       "      <td>2019-03-31 18:34:23</td>\n",
       "      <td>1</td>\n",
       "      <td>18.74</td>\n",
       "      <td>58.0</td>\n",
       "      <td>0.00</td>\n",
       "      <td>0.0</td>\n",
       "      <td>58.80</td>\n",
       "      <td>green</td>\n",
       "      <td>credit card</td>\n",
       "      <td>Jamaica</td>\n",
       "      <td>East Concourse/Concourse Village</td>\n",
       "      <td>Queens</td>\n",
       "      <td>Bronx</td>\n",
       "      <td>False</td>\n",
       "      <td>False</td>\n",
       "    </tr>\n",
       "    <tr>\n",
       "      <th>6430</th>\n",
       "      <td>2019-03-23 22:55:18</td>\n",
       "      <td>2019-03-23 23:14:25</td>\n",
       "      <td>1</td>\n",
       "      <td>4.14</td>\n",
       "      <td>16.0</td>\n",
       "      <td>0.00</td>\n",
       "      <td>0.0</td>\n",
       "      <td>17.30</td>\n",
       "      <td>green</td>\n",
       "      <td>cash</td>\n",
       "      <td>Crown Heights North</td>\n",
       "      <td>Bushwick North</td>\n",
       "      <td>Brooklyn</td>\n",
       "      <td>Brooklyn</td>\n",
       "      <td>False</td>\n",
       "      <td>False</td>\n",
       "    </tr>\n",
       "    <tr>\n",
       "      <th>6431</th>\n",
       "      <td>2019-03-04 10:09:25</td>\n",
       "      <td>2019-03-04 10:14:29</td>\n",
       "      <td>1</td>\n",
       "      <td>1.12</td>\n",
       "      <td>6.0</td>\n",
       "      <td>0.00</td>\n",
       "      <td>0.0</td>\n",
       "      <td>6.80</td>\n",
       "      <td>green</td>\n",
       "      <td>credit card</td>\n",
       "      <td>East New York</td>\n",
       "      <td>East Flatbush/Remsen Village</td>\n",
       "      <td>Brooklyn</td>\n",
       "      <td>Brooklyn</td>\n",
       "      <td>False</td>\n",
       "      <td>False</td>\n",
       "    </tr>\n",
       "    <tr>\n",
       "      <th>6432</th>\n",
       "      <td>2019-03-13 19:31:22</td>\n",
       "      <td>2019-03-13 19:48:02</td>\n",
       "      <td>1</td>\n",
       "      <td>3.85</td>\n",
       "      <td>15.0</td>\n",
       "      <td>3.36</td>\n",
       "      <td>0.0</td>\n",
       "      <td>20.16</td>\n",
       "      <td>green</td>\n",
       "      <td>credit card</td>\n",
       "      <td>Boerum Hill</td>\n",
       "      <td>Windsor Terrace</td>\n",
       "      <td>Brooklyn</td>\n",
       "      <td>Brooklyn</td>\n",
       "      <td>False</td>\n",
       "      <td>False</td>\n",
       "    </tr>\n",
       "  </tbody>\n",
       "</table>\n",
       "<p>6341 rows × 16 columns</p>\n",
       "</div>"
      ],
      "text/plain": [
       "                  pickup             dropoff  passengers  distance  fare  \\\n",
       "0    2019-03-23 20:21:09 2019-03-23 20:27:24           1      1.60   7.0   \n",
       "1    2019-03-04 16:11:55 2019-03-04 16:19:00           1      0.79   5.0   \n",
       "2    2019-03-27 17:53:01 2019-03-27 18:00:25           1      1.37   7.5   \n",
       "3    2019-03-10 01:23:59 2019-03-10 01:49:51           1      7.70  27.0   \n",
       "4    2019-03-30 13:27:42 2019-03-30 13:37:14           3      2.16   9.0   \n",
       "...                  ...                 ...         ...       ...   ...   \n",
       "6428 2019-03-31 09:51:53 2019-03-31 09:55:27           1      0.75   4.5   \n",
       "6429 2019-03-31 17:38:00 2019-03-31 18:34:23           1     18.74  58.0   \n",
       "6430 2019-03-23 22:55:18 2019-03-23 23:14:25           1      4.14  16.0   \n",
       "6431 2019-03-04 10:09:25 2019-03-04 10:14:29           1      1.12   6.0   \n",
       "6432 2019-03-13 19:31:22 2019-03-13 19:48:02           1      3.85  15.0   \n",
       "\n",
       "       tip  tolls  total   color      payment            pickup_zone  \\\n",
       "0     2.15    0.0  12.95  yellow  credit card        Lenox Hill West   \n",
       "1     0.00    0.0   9.30  yellow         cash  Upper West Side South   \n",
       "2     2.36    0.0  14.16  yellow  credit card          Alphabet City   \n",
       "3     6.15    0.0  36.95  yellow  credit card              Hudson Sq   \n",
       "4     1.10    0.0  13.40  yellow  credit card           Midtown East   \n",
       "...    ...    ...    ...     ...          ...                    ...   \n",
       "6428  1.06    0.0   6.36   green  credit card      East Harlem North   \n",
       "6429  0.00    0.0  58.80   green  credit card                Jamaica   \n",
       "6430  0.00    0.0  17.30   green         cash    Crown Heights North   \n",
       "6431  0.00    0.0   6.80   green  credit card          East New York   \n",
       "6432  3.36    0.0  20.16   green  credit card            Boerum Hill   \n",
       "\n",
       "                          dropoff_zone pickup_borough dropoff_borough  \\\n",
       "0                  UN/Turtle Bay South      Manhattan       Manhattan   \n",
       "1                Upper West Side South      Manhattan       Manhattan   \n",
       "2                         West Village      Manhattan       Manhattan   \n",
       "3                       Yorkville West      Manhattan       Manhattan   \n",
       "4                       Yorkville West      Manhattan       Manhattan   \n",
       "...                                ...            ...             ...   \n",
       "6428              Central Harlem North      Manhattan       Manhattan   \n",
       "6429  East Concourse/Concourse Village         Queens           Bronx   \n",
       "6430                    Bushwick North       Brooklyn        Brooklyn   \n",
       "6431      East Flatbush/Remsen Village       Brooklyn        Brooklyn   \n",
       "6432                   Windsor Terrace       Brooklyn        Brooklyn   \n",
       "\n",
       "      Airport0  Airport1  \n",
       "0        False     False  \n",
       "1        False     False  \n",
       "2        False     False  \n",
       "3        False     False  \n",
       "4        False     False  \n",
       "...        ...       ...  \n",
       "6428     False     False  \n",
       "6429     False     False  \n",
       "6430     False     False  \n",
       "6431     False     False  \n",
       "6432     False     False  \n",
       "\n",
       "[6341 rows x 16 columns]"
      ]
     },
     "execution_count": 26,
     "metadata": {},
     "output_type": "execute_result"
    }
   ],
   "source": [
    "df"
   ]
  },
  {
   "cell_type": "markdown",
   "metadata": {
    "cell_id": "38caadabd8554f3bb11622033de4fe97",
    "deepnote_cell_type": "markdown"
   },
   "source": [
    "Here is a fancier but more confusing approach.\n",
    "\n",
    "* Notice that `df[[\"pickup_zone\", \"dropoff_zone\"]]` is a DataFrame containing just those two columns we're interested in.  Use `apply` this time to apply a lambda function to the columns rather than the rows, then use `any`.  Name the result `\"Airport2\"`."
   ]
  },
  {
   "cell_type": "markdown",
   "metadata": {},
   "source": [
    "We start off getting a two-column DataFrame, that only contains the two columns of interest."
   ]
  },
  {
   "cell_type": "code",
   "execution_count": 27,
   "metadata": {
    "cell_id": "1c6adc83b28549c09da81756314da919",
    "deepnote_cell_type": "code",
    "deepnote_to_be_reexecuted": false,
    "execution_millis": 48,
    "execution_start": 1682541118505,
    "source_hash": "d24831a"
   },
   "outputs": [
    {
     "data": {
      "application/vnd.deepnote.dataframe.v3+json": {
       "column_count": 2,
       "columns": [
        {
         "dtype": "object",
         "name": "pickup_zone",
         "stats": {
          "categories": [
           {
            "count": 227,
            "name": "Midtown Center"
           },
           {
            "count": 209,
            "name": "Penn Station/Madison Sq West"
           },
           {
            "count": 5905,
            "name": "192 others"
           }
          ],
          "nan_count": 0,
          "unique_count": 194
         }
        },
        {
         "dtype": "object",
         "name": "dropoff_zone",
         "stats": {
          "categories": [
           {
            "count": 244,
            "name": "Upper East Side North"
           },
           {
            "count": 217,
            "name": "Murray Hill"
           },
           {
            "count": 5880,
            "name": "201 others"
           }
          ],
          "nan_count": 0,
          "unique_count": 203
         }
        },
        {
         "dtype": "int64",
         "name": "_deepnote_index_column"
        }
       ],
       "row_count": 6341,
       "rows": [
        {
         "_deepnote_index_column": "0",
         "dropoff_zone": "UN/Turtle Bay South",
         "pickup_zone": "Lenox Hill West"
        },
        {
         "_deepnote_index_column": "1",
         "dropoff_zone": "Upper West Side South",
         "pickup_zone": "Upper West Side South"
        },
        {
         "_deepnote_index_column": "2",
         "dropoff_zone": "West Village",
         "pickup_zone": "Alphabet City"
        },
        {
         "_deepnote_index_column": "3",
         "dropoff_zone": "Yorkville West",
         "pickup_zone": "Hudson Sq"
        },
        {
         "_deepnote_index_column": "4",
         "dropoff_zone": "Yorkville West",
         "pickup_zone": "Midtown East"
        },
        {
         "_deepnote_index_column": "5",
         "dropoff_zone": "Midtown East",
         "pickup_zone": "Times Sq/Theatre District"
        },
        {
         "_deepnote_index_column": "6",
         "dropoff_zone": "Two Bridges/Seward Park",
         "pickup_zone": "Battery Park City"
        },
        {
         "_deepnote_index_column": "8",
         "dropoff_zone": "Midtown Center",
         "pickup_zone": "East Harlem South"
        },
        {
         "_deepnote_index_column": "9",
         "dropoff_zone": "Central Park",
         "pickup_zone": "Lincoln Square East"
        },
        {
         "_deepnote_index_column": "10",
         "dropoff_zone": "Astoria",
         "pickup_zone": "LaGuardia Airport"
        }
       ]
      },
      "text/html": [
       "<div>\n",
       "<style scoped>\n",
       "    .dataframe tbody tr th:only-of-type {\n",
       "        vertical-align: middle;\n",
       "    }\n",
       "\n",
       "    .dataframe tbody tr th {\n",
       "        vertical-align: top;\n",
       "    }\n",
       "\n",
       "    .dataframe thead th {\n",
       "        text-align: right;\n",
       "    }\n",
       "</style>\n",
       "<table border=\"1\" class=\"dataframe\">\n",
       "  <thead>\n",
       "    <tr style=\"text-align: right;\">\n",
       "      <th></th>\n",
       "      <th>pickup_zone</th>\n",
       "      <th>dropoff_zone</th>\n",
       "    </tr>\n",
       "  </thead>\n",
       "  <tbody>\n",
       "    <tr>\n",
       "      <th>0</th>\n",
       "      <td>Lenox Hill West</td>\n",
       "      <td>UN/Turtle Bay South</td>\n",
       "    </tr>\n",
       "    <tr>\n",
       "      <th>1</th>\n",
       "      <td>Upper West Side South</td>\n",
       "      <td>Upper West Side South</td>\n",
       "    </tr>\n",
       "    <tr>\n",
       "      <th>2</th>\n",
       "      <td>Alphabet City</td>\n",
       "      <td>West Village</td>\n",
       "    </tr>\n",
       "    <tr>\n",
       "      <th>3</th>\n",
       "      <td>Hudson Sq</td>\n",
       "      <td>Yorkville West</td>\n",
       "    </tr>\n",
       "    <tr>\n",
       "      <th>4</th>\n",
       "      <td>Midtown East</td>\n",
       "      <td>Yorkville West</td>\n",
       "    </tr>\n",
       "    <tr>\n",
       "      <th>...</th>\n",
       "      <td>...</td>\n",
       "      <td>...</td>\n",
       "    </tr>\n",
       "    <tr>\n",
       "      <th>6428</th>\n",
       "      <td>East Harlem North</td>\n",
       "      <td>Central Harlem North</td>\n",
       "    </tr>\n",
       "    <tr>\n",
       "      <th>6429</th>\n",
       "      <td>Jamaica</td>\n",
       "      <td>East Concourse/Concourse Village</td>\n",
       "    </tr>\n",
       "    <tr>\n",
       "      <th>6430</th>\n",
       "      <td>Crown Heights North</td>\n",
       "      <td>Bushwick North</td>\n",
       "    </tr>\n",
       "    <tr>\n",
       "      <th>6431</th>\n",
       "      <td>East New York</td>\n",
       "      <td>East Flatbush/Remsen Village</td>\n",
       "    </tr>\n",
       "    <tr>\n",
       "      <th>6432</th>\n",
       "      <td>Boerum Hill</td>\n",
       "      <td>Windsor Terrace</td>\n",
       "    </tr>\n",
       "  </tbody>\n",
       "</table>\n",
       "<p>6341 rows × 2 columns</p>\n",
       "</div>"
      ],
      "text/plain": [
       "                pickup_zone                      dropoff_zone\n",
       "0           Lenox Hill West               UN/Turtle Bay South\n",
       "1     Upper West Side South             Upper West Side South\n",
       "2             Alphabet City                      West Village\n",
       "3                 Hudson Sq                    Yorkville West\n",
       "4              Midtown East                    Yorkville West\n",
       "...                     ...                               ...\n",
       "6428      East Harlem North              Central Harlem North\n",
       "6429                Jamaica  East Concourse/Concourse Village\n",
       "6430    Crown Heights North                    Bushwick North\n",
       "6431          East New York      East Flatbush/Remsen Village\n",
       "6432            Boerum Hill                   Windsor Terrace\n",
       "\n",
       "[6341 rows x 2 columns]"
      ]
     },
     "execution_count": 27,
     "metadata": {},
     "output_type": "execute_result"
    }
   ],
   "source": [
    "df_sub = df[[\"pickup_zone\", \"dropoff_zone\"]]\n",
    "df_sub"
   ]
  },
  {
   "cell_type": "markdown",
   "metadata": {},
   "source": [
    "We now use `apply` again, but this time to the columns, not to the rows.  This approach is nicer in some ways, because there is less repetition.  Unlike in the code `(\"Airport\" in row[\"pickup_zone\"]) or (\"Airport\" in row[\"dropoff_zone\"])`, where we had the same thing repeated almost entirely twice."
   ]
  },
  {
   "cell_type": "code",
   "execution_count": 28,
   "metadata": {
    "cell_id": "224b05c350f7475293ff63bffeda809e",
    "deepnote_cell_type": "code",
    "deepnote_to_be_reexecuted": false,
    "execution_millis": 14,
    "execution_start": 1682541348041,
    "source_hash": "ddf65155"
   },
   "outputs": [
    {
     "data": {
      "application/vnd.deepnote.dataframe.v3+json": {
       "column_count": 2,
       "columns": [
        {
         "dtype": "bool",
         "name": "pickup_zone",
         "stats": {
          "categories": [
           {
            "count": 6056,
            "name": "False"
           },
           {
            "count": 285,
            "name": "True"
           }
          ],
          "nan_count": 0,
          "unique_count": 2
         }
        },
        {
         "dtype": "bool",
         "name": "dropoff_zone",
         "stats": {
          "categories": [
           {
            "count": 6222,
            "name": "False"
           },
           {
            "count": 119,
            "name": "True"
           }
          ],
          "nan_count": 0,
          "unique_count": 2
         }
        },
        {
         "dtype": "int64",
         "name": "_deepnote_index_column"
        }
       ],
       "row_count": 6341,
       "rows": [
        {
         "_deepnote_index_column": "0",
         "dropoff_zone": "False",
         "pickup_zone": "False"
        },
        {
         "_deepnote_index_column": "1",
         "dropoff_zone": "False",
         "pickup_zone": "False"
        },
        {
         "_deepnote_index_column": "2",
         "dropoff_zone": "False",
         "pickup_zone": "False"
        },
        {
         "_deepnote_index_column": "3",
         "dropoff_zone": "False",
         "pickup_zone": "False"
        },
        {
         "_deepnote_index_column": "4",
         "dropoff_zone": "False",
         "pickup_zone": "False"
        },
        {
         "_deepnote_index_column": "5",
         "dropoff_zone": "False",
         "pickup_zone": "False"
        },
        {
         "_deepnote_index_column": "6",
         "dropoff_zone": "False",
         "pickup_zone": "False"
        },
        {
         "_deepnote_index_column": "8",
         "dropoff_zone": "False",
         "pickup_zone": "False"
        },
        {
         "_deepnote_index_column": "9",
         "dropoff_zone": "False",
         "pickup_zone": "False"
        },
        {
         "_deepnote_index_column": "10",
         "dropoff_zone": "False",
         "pickup_zone": "True"
        }
       ]
      },
      "text/html": [
       "<div>\n",
       "<style scoped>\n",
       "    .dataframe tbody tr th:only-of-type {\n",
       "        vertical-align: middle;\n",
       "    }\n",
       "\n",
       "    .dataframe tbody tr th {\n",
       "        vertical-align: top;\n",
       "    }\n",
       "\n",
       "    .dataframe thead th {\n",
       "        text-align: right;\n",
       "    }\n",
       "</style>\n",
       "<table border=\"1\" class=\"dataframe\">\n",
       "  <thead>\n",
       "    <tr style=\"text-align: right;\">\n",
       "      <th></th>\n",
       "      <th>pickup_zone</th>\n",
       "      <th>dropoff_zone</th>\n",
       "    </tr>\n",
       "  </thead>\n",
       "  <tbody>\n",
       "    <tr>\n",
       "      <th>0</th>\n",
       "      <td>False</td>\n",
       "      <td>False</td>\n",
       "    </tr>\n",
       "    <tr>\n",
       "      <th>1</th>\n",
       "      <td>False</td>\n",
       "      <td>False</td>\n",
       "    </tr>\n",
       "    <tr>\n",
       "      <th>2</th>\n",
       "      <td>False</td>\n",
       "      <td>False</td>\n",
       "    </tr>\n",
       "    <tr>\n",
       "      <th>3</th>\n",
       "      <td>False</td>\n",
       "      <td>False</td>\n",
       "    </tr>\n",
       "    <tr>\n",
       "      <th>4</th>\n",
       "      <td>False</td>\n",
       "      <td>False</td>\n",
       "    </tr>\n",
       "    <tr>\n",
       "      <th>...</th>\n",
       "      <td>...</td>\n",
       "      <td>...</td>\n",
       "    </tr>\n",
       "    <tr>\n",
       "      <th>6428</th>\n",
       "      <td>False</td>\n",
       "      <td>False</td>\n",
       "    </tr>\n",
       "    <tr>\n",
       "      <th>6429</th>\n",
       "      <td>False</td>\n",
       "      <td>False</td>\n",
       "    </tr>\n",
       "    <tr>\n",
       "      <th>6430</th>\n",
       "      <td>False</td>\n",
       "      <td>False</td>\n",
       "    </tr>\n",
       "    <tr>\n",
       "      <th>6431</th>\n",
       "      <td>False</td>\n",
       "      <td>False</td>\n",
       "    </tr>\n",
       "    <tr>\n",
       "      <th>6432</th>\n",
       "      <td>False</td>\n",
       "      <td>False</td>\n",
       "    </tr>\n",
       "  </tbody>\n",
       "</table>\n",
       "<p>6341 rows × 2 columns</p>\n",
       "</div>"
      ],
      "text/plain": [
       "      pickup_zone  dropoff_zone\n",
       "0           False         False\n",
       "1           False         False\n",
       "2           False         False\n",
       "3           False         False\n",
       "4           False         False\n",
       "...           ...           ...\n",
       "6428        False         False\n",
       "6429        False         False\n",
       "6430        False         False\n",
       "6431        False         False\n",
       "6432        False         False\n",
       "\n",
       "[6341 rows x 2 columns]"
      ]
     },
     "execution_count": 28,
     "metadata": {},
     "output_type": "execute_result"
    }
   ],
   "source": [
    "df_sub.apply(lambda col: col.str.contains(\"Airport\"), axis=0)"
   ]
  },
  {
   "cell_type": "markdown",
   "metadata": {},
   "source": [
    "As an example of how `axis` works, if we apply `any(axis=0)`, we are checking if there are any `True` values in the columns.  This Series has length two, because there are two columns."
   ]
  },
  {
   "cell_type": "code",
   "execution_count": 34,
   "metadata": {
    "cell_id": "f9814d09c5df41bb895779e357f32e80",
    "deepnote_cell_type": "code",
    "deepnote_to_be_reexecuted": false,
    "execution_millis": 1,
    "execution_start": 1682541638585,
    "source_hash": "7f43e446"
   },
   "outputs": [
    {
     "data": {
      "text/plain": [
       "pickup_zone     True\n",
       "dropoff_zone    True\n",
       "dtype: bool"
      ]
     },
     "execution_count": 34,
     "metadata": {},
     "output_type": "execute_result"
    }
   ],
   "source": [
    "df_sub.apply(lambda col: col.str.contains(\"Airport\"), axis=0).any(axis=0)"
   ]
  },
  {
   "cell_type": "markdown",
   "metadata": {},
   "source": [
    "But what we really want to do is apply `any(axis=1)`, to find out if any of the rows have a `True` in them.  This produces a much longer Series, and we store it in the \"Airport2\" column."
   ]
  },
  {
   "cell_type": "code",
   "execution_count": 32,
   "metadata": {
    "cell_id": "76781ff330a14a938dc026ae2a9561db",
    "deepnote_cell_type": "code",
    "deepnote_to_be_reexecuted": false,
    "execution_millis": 3,
    "execution_start": 1682541477789,
    "source_hash": "54a42c18"
   },
   "outputs": [],
   "source": [
    "df[\"Airport2\"] = df_sub.apply(lambda col: col.str.contains(\"Airport\"), axis=0).any(axis=1)"
   ]
  },
  {
   "cell_type": "markdown",
   "metadata": {},
   "source": [
    "Notice how we now have yet another column on the far right of the DataFrame."
   ]
  },
  {
   "cell_type": "code",
   "execution_count": 33,
   "metadata": {
    "cell_id": "d9f121e30294494491293f33c6a97bd0",
    "deepnote_cell_type": "code",
    "deepnote_to_be_reexecuted": false,
    "execution_millis": 148,
    "execution_start": 1682541480528,
    "source_hash": "f804c160",
    "tags": [
     "output_scroll"
    ]
   },
   "outputs": [
    {
     "data": {
      "application/vnd.deepnote.dataframe.v3+json": {
       "column_count": 17,
       "columns": [
        {
         "dtype": "datetime64[ns]",
         "name": "pickup",
         "stats": {
          "histogram": [
           {
            "bin_end": 1551664471200000000,
            "bin_start": 1551396543000000000,
            "count": 602
           },
           {
            "bin_end": 1551932399400000000,
            "bin_start": 1551664471200000000,
            "count": 663
           },
           {
            "bin_end": 1552200327600000000,
            "bin_start": 1551932399400000000,
            "count": 664
           },
           {
            "bin_end": 1552468255800000000,
            "bin_start": 1552200327600000000,
            "count": 599
           },
           {
            "bin_end": 1552736184000000000,
            "bin_start": 1552468255800000000,
            "count": 743
           },
           {
            "bin_end": 1553004112200000000,
            "bin_start": 1552736184000000000,
            "count": 573
           },
           {
            "bin_end": 1553272040400000000,
            "bin_start": 1553004112200000000,
            "count": 683
           },
           {
            "bin_end": 1553539968600000000,
            "bin_start": 1553272040400000000,
            "count": 561
           },
           {
            "bin_end": 1553807896800000000,
            "bin_start": 1553539968600000000,
            "count": 630
           },
           {
            "bin_end": 1554075825000000000,
            "bin_start": 1553807896800000000,
            "count": 623
           }
          ],
          "max": "2019-03-31 23:43:45",
          "min": "2019-02-28 23:29:03",
          "nan_count": 0,
          "unique_count": 6322
         }
        },
        {
         "dtype": "datetime64[ns]",
         "name": "dropoff",
         "stats": {
          "histogram": [
           {
            "bin_end": 1551664843300000000,
            "bin_start": 1551396755000000000,
            "count": 602
           },
           {
            "bin_end": 1551932931600000000,
            "bin_start": 1551664843300000000,
            "count": 663
           },
           {
            "bin_end": 1552201019900000000,
            "bin_start": 1551932931600000000,
            "count": 664
           },
           {
            "bin_end": 1552469108200000000,
            "bin_start": 1552201019900000000,
            "count": 595
           },
           {
            "bin_end": 1552737196500000000,
            "bin_start": 1552469108200000000,
            "count": 749
           },
           {
            "bin_end": 1553005284800000000,
            "bin_start": 1552737196500000000,
            "count": 570
           },
           {
            "bin_end": 1553273373100000000,
            "bin_start": 1553005284800000000,
            "count": 686
           },
           {
            "bin_end": 1553541461400000000,
            "bin_start": 1553273373100000000,
            "count": 562
           },
           {
            "bin_end": 1553809549700000000,
            "bin_start": 1553541461400000000,
            "count": 630
           },
           {
            "bin_end": 1554077638000000000,
            "bin_start": 1553809549700000000,
            "count": 620
           }
          ],
          "max": "2019-04-01 00:13:58",
          "min": "2019-02-28 23:32:35",
          "nan_count": 0,
          "unique_count": 6333
         }
        },
        {
         "dtype": "int64",
         "name": "passengers",
         "stats": {
          "histogram": [
           {
            "bin_end": 0.6,
            "bin_start": 0,
            "count": 90
           },
           {
            "bin_end": 1.2,
            "bin_start": 0.6,
            "count": 4608
           },
           {
            "bin_end": 1.7999999999999998,
            "bin_start": 1.2,
            "count": 0
           },
           {
            "bin_end": 2.4,
            "bin_start": 1.7999999999999998,
            "count": 865
           },
           {
            "bin_end": 3,
            "bin_start": 2.4,
            "count": 0
           },
           {
            "bin_end": 3.5999999999999996,
            "bin_start": 3,
            "count": 240
           },
           {
            "bin_end": 4.2,
            "bin_start": 3.5999999999999996,
            "count": 109
           },
           {
            "bin_end": 4.8,
            "bin_start": 4.2,
            "count": 0
           },
           {
            "bin_end": 5.3999999999999995,
            "bin_start": 4.8,
            "count": 277
           },
           {
            "bin_end": 6,
            "bin_start": 5.3999999999999995,
            "count": 152
           }
          ],
          "max": "6",
          "min": "0",
          "nan_count": 0,
          "unique_count": 7
         }
        },
        {
         "dtype": "float64",
         "name": "distance",
         "stats": {
          "histogram": [
           {
            "bin_end": 3.6700000000000004,
            "bin_start": 0,
            "count": 4985
           },
           {
            "bin_end": 7.340000000000001,
            "bin_start": 3.6700000000000004,
            "count": 736
           },
           {
            "bin_end": 11.010000000000002,
            "bin_start": 7.340000000000001,
            "count": 316
           },
           {
            "bin_end": 14.680000000000001,
            "bin_start": 11.010000000000002,
            "count": 124
           },
           {
            "bin_end": 18.35,
            "bin_start": 14.680000000000001,
            "count": 99
           },
           {
            "bin_end": 22.020000000000003,
            "bin_start": 18.35,
            "count": 63
           },
           {
            "bin_end": 25.69,
            "bin_start": 22.020000000000003,
            "count": 13
           },
           {
            "bin_end": 29.360000000000003,
            "bin_start": 25.69,
            "count": 3
           },
           {
            "bin_end": 33.03,
            "bin_start": 29.360000000000003,
            "count": 1
           },
           {
            "bin_end": 36.7,
            "bin_start": 33.03,
            "count": 1
           }
          ],
          "max": "36.7",
          "min": "0.0",
          "nan_count": 0,
          "unique_count": 1064
         }
        },
        {
         "dtype": "float64",
         "name": "fare",
         "stats": {
          "histogram": [
           {
            "bin_end": 15.9,
            "bin_start": 1,
            "count": 4910
           },
           {
            "bin_end": 30.8,
            "bin_start": 15.9,
            "count": 970
           },
           {
            "bin_end": 45.7,
            "bin_start": 30.8,
            "count": 266
           },
           {
            "bin_end": 60.6,
            "bin_start": 45.7,
            "count": 178
           },
           {
            "bin_end": 75.5,
            "bin_start": 60.6,
            "count": 12
           },
           {
            "bin_end": 90.4,
            "bin_start": 75.5,
            "count": 3
           },
           {
            "bin_end": 105.3,
            "bin_start": 90.4,
            "count": 1
           },
           {
            "bin_end": 120.2,
            "bin_start": 105.3,
            "count": 0
           },
           {
            "bin_end": 135.1,
            "bin_start": 120.2,
            "count": 0
           },
           {
            "bin_end": 150,
            "bin_start": 135.1,
            "count": 1
           }
          ],
          "max": "150.0",
          "min": "1.0",
          "nan_count": 0,
          "unique_count": 206
         }
        },
        {
         "dtype": "float64",
         "name": "tip",
         "stats": {
          "histogram": [
           {
            "bin_end": 2.319,
            "bin_start": 0,
            "count": 4196
           },
           {
            "bin_end": 4.638,
            "bin_start": 2.319,
            "count": 1567
           },
           {
            "bin_end": 6.957,
            "bin_start": 4.638,
            "count": 306
           },
           {
            "bin_end": 9.276,
            "bin_start": 6.957,
            "count": 126
           },
           {
            "bin_end": 11.594999999999999,
            "bin_start": 9.276,
            "count": 76
           },
           {
            "bin_end": 13.914,
            "bin_start": 11.594999999999999,
            "count": 53
           },
           {
            "bin_end": 16.233,
            "bin_start": 13.914,
            "count": 11
           },
           {
            "bin_end": 18.552,
            "bin_start": 16.233,
            "count": 4
           },
           {
            "bin_end": 20.871,
            "bin_start": 18.552,
            "count": 1
           },
           {
            "bin_end": 23.19,
            "bin_start": 20.871,
            "count": 1
           }
          ],
          "max": "23.19",
          "min": "0.0",
          "nan_count": 0,
          "unique_count": 481
         }
        },
        {
         "dtype": "float64",
         "name": "tolls",
         "stats": {
          "histogram": [
           {
            "bin_end": 2.402,
            "bin_start": 0,
            "count": 6003
           },
           {
            "bin_end": 4.804,
            "bin_start": 2.402,
            "count": 7
           },
           {
            "bin_end": 7.206,
            "bin_start": 4.804,
            "count": 321
           },
           {
            "bin_end": 9.608,
            "bin_start": 7.206,
            "count": 3
           },
           {
            "bin_end": 12.010000000000002,
            "bin_start": 9.608,
            "count": 4
           },
           {
            "bin_end": 14.412,
            "bin_start": 12.010000000000002,
            "count": 1
           },
           {
            "bin_end": 16.814,
            "bin_start": 14.412,
            "count": 0
           },
           {
            "bin_end": 19.216,
            "bin_start": 16.814,
            "count": 1
           },
           {
            "bin_end": 21.618000000000002,
            "bin_start": 19.216,
            "count": 0
           },
           {
            "bin_end": 24.02,
            "bin_start": 21.618000000000002,
            "count": 1
           }
          ],
          "max": "24.02",
          "min": "0.0",
          "nan_count": 0,
          "unique_count": 14
         }
        },
        {
         "dtype": "float64",
         "name": "total",
         "stats": {
          "histogram": [
           {
            "bin_end": 18.651999999999997,
            "bin_start": 1.3,
            "count": 4452
           },
           {
            "bin_end": 36.00399999999999,
            "bin_start": 18.651999999999997,
            "count": 1353
           },
           {
            "bin_end": 53.35599999999999,
            "bin_start": 36.00399999999999,
            "count": 304
           },
           {
            "bin_end": 70.70799999999998,
            "bin_start": 53.35599999999999,
            "count": 156
           },
           {
            "bin_end": 88.05999999999999,
            "bin_start": 70.70799999999998,
            "count": 71
           },
           {
            "bin_end": 105.41199999999998,
            "bin_start": 88.05999999999999,
            "count": 4
           },
           {
            "bin_end": 122.76399999999997,
            "bin_start": 105.41199999999998,
            "count": 0
           },
           {
            "bin_end": 140.11599999999999,
            "bin_start": 122.76399999999997,
            "count": 0
           },
           {
            "bin_end": 157.468,
            "bin_start": 140.11599999999999,
            "count": 0
           },
           {
            "bin_end": 174.82,
            "bin_start": 157.468,
            "count": 1
           }
          ],
          "max": "174.82",
          "min": "1.3",
          "nan_count": 0,
          "unique_count": 877
         }
        },
        {
         "dtype": "object",
         "name": "color",
         "stats": {
          "categories": [
           {
            "count": 5373,
            "name": "yellow"
           },
           {
            "count": 968,
            "name": "green"
           }
          ],
          "nan_count": 0,
          "unique_count": 2
         }
        },
        {
         "dtype": "object",
         "name": "payment",
         "stats": {
          "categories": [
           {
            "count": 4546,
            "name": "credit card"
           },
           {
            "count": 1795,
            "name": "cash"
           }
          ],
          "nan_count": 0,
          "unique_count": 2
         }
        },
        {
         "dtype": "object",
         "name": "pickup_zone",
         "stats": {
          "categories": [
           {
            "count": 227,
            "name": "Midtown Center"
           },
           {
            "count": 209,
            "name": "Penn Station/Madison Sq West"
           },
           {
            "count": 5905,
            "name": "192 others"
           }
          ],
          "nan_count": 0,
          "unique_count": 194
         }
        },
        {
         "dtype": "object",
         "name": "dropoff_zone",
         "stats": {
          "categories": [
           {
            "count": 244,
            "name": "Upper East Side North"
           },
           {
            "count": 217,
            "name": "Murray Hill"
           },
           {
            "count": 5880,
            "name": "201 others"
           }
          ],
          "nan_count": 0,
          "unique_count": 203
         }
        },
        {
         "dtype": "object",
         "name": "pickup_borough",
         "stats": {
          "categories": [
           {
            "count": 5226,
            "name": "Manhattan"
           },
           {
            "count": 638,
            "name": "Queens"
           },
           {
            "count": 477,
            "name": "2 others"
           }
          ],
          "nan_count": 0,
          "unique_count": 4
         }
        },
        {
         "dtype": "object",
         "name": "dropoff_borough",
         "stats": {
          "categories": [
           {
            "count": 5172,
            "name": "Manhattan"
           },
           {
            "count": 534,
            "name": "Queens"
           },
           {
            "count": 635,
            "name": "3 others"
           }
          ],
          "nan_count": 0,
          "unique_count": 5
         }
        },
        {
         "dtype": "bool",
         "name": "Airport0",
         "stats": {
          "categories": [
           {
            "count": 5946,
            "name": "False"
           },
           {
            "count": 395,
            "name": "True"
           }
          ],
          "nan_count": 0,
          "unique_count": 2
         }
        },
        {
         "dtype": "bool",
         "name": "Airport1"
        },
        {
         "dtype": "bool",
         "name": "Airport2"
        },
        {
         "dtype": "int64",
         "name": "_deepnote_index_column"
        }
       ],
       "row_count": 6341,
       "rows": [
        {
         "Airport0": "False",
         "Airport1": "False",
         "Airport2": "False",
         "_deepnote_index_column": "0",
         "color": "yellow",
         "distance": "1.6",
         "dropoff": "2019-03-23 20:27:24",
         "dropoff_borough": "Manhattan",
         "dropoff_zone": "UN/Turtle Bay South",
         "fare": "7.0",
         "passengers": "1",
         "payment": "credit card",
         "pickup": "2019-03-23 20:21:09",
         "pickup_borough": "Manhattan",
         "pickup_zone": "Lenox Hill West",
         "tip": "2.15",
         "tolls": "0.0",
         "total": "12.95"
        },
        {
         "Airport0": "False",
         "Airport1": "False",
         "Airport2": "False",
         "_deepnote_index_column": "1",
         "color": "yellow",
         "distance": "0.79",
         "dropoff": "2019-03-04 16:19:00",
         "dropoff_borough": "Manhattan",
         "dropoff_zone": "Upper West Side South",
         "fare": "5.0",
         "passengers": "1",
         "payment": "cash",
         "pickup": "2019-03-04 16:11:55",
         "pickup_borough": "Manhattan",
         "pickup_zone": "Upper West Side South",
         "tip": "0.0",
         "tolls": "0.0",
         "total": "9.3"
        },
        {
         "Airport0": "False",
         "Airport1": "False",
         "Airport2": "False",
         "_deepnote_index_column": "2",
         "color": "yellow",
         "distance": "1.37",
         "dropoff": "2019-03-27 18:00:25",
         "dropoff_borough": "Manhattan",
         "dropoff_zone": "West Village",
         "fare": "7.5",
         "passengers": "1",
         "payment": "credit card",
         "pickup": "2019-03-27 17:53:01",
         "pickup_borough": "Manhattan",
         "pickup_zone": "Alphabet City",
         "tip": "2.36",
         "tolls": "0.0",
         "total": "14.16"
        },
        {
         "Airport0": "False",
         "Airport1": "False",
         "Airport2": "False",
         "_deepnote_index_column": "3",
         "color": "yellow",
         "distance": "7.7",
         "dropoff": "2019-03-10 01:49:51",
         "dropoff_borough": "Manhattan",
         "dropoff_zone": "Yorkville West",
         "fare": "27.0",
         "passengers": "1",
         "payment": "credit card",
         "pickup": "2019-03-10 01:23:59",
         "pickup_borough": "Manhattan",
         "pickup_zone": "Hudson Sq",
         "tip": "6.15",
         "tolls": "0.0",
         "total": "36.95"
        },
        {
         "Airport0": "False",
         "Airport1": "False",
         "Airport2": "False",
         "_deepnote_index_column": "4",
         "color": "yellow",
         "distance": "2.16",
         "dropoff": "2019-03-30 13:37:14",
         "dropoff_borough": "Manhattan",
         "dropoff_zone": "Yorkville West",
         "fare": "9.0",
         "passengers": "3",
         "payment": "credit card",
         "pickup": "2019-03-30 13:27:42",
         "pickup_borough": "Manhattan",
         "pickup_zone": "Midtown East",
         "tip": "1.1",
         "tolls": "0.0",
         "total": "13.4"
        },
        {
         "Airport0": "False",
         "Airport1": "False",
         "Airport2": "False",
         "_deepnote_index_column": "5",
         "color": "yellow",
         "distance": "0.49",
         "dropoff": "2019-03-11 10:47:31",
         "dropoff_borough": "Manhattan",
         "dropoff_zone": "Midtown East",
         "fare": "7.5",
         "passengers": "1",
         "payment": "credit card",
         "pickup": "2019-03-11 10:37:23",
         "pickup_borough": "Manhattan",
         "pickup_zone": "Times Sq/Theatre District",
         "tip": "2.16",
         "tolls": "0.0",
         "total": "12.96"
        },
        {
         "Airport0": "False",
         "Airport1": "False",
         "Airport2": "False",
         "_deepnote_index_column": "6",
         "color": "yellow",
         "distance": "3.65",
         "dropoff": "2019-03-26 21:17:29",
         "dropoff_borough": "Manhattan",
         "dropoff_zone": "Two Bridges/Seward Park",
         "fare": "13.0",
         "passengers": "1",
         "payment": "credit card",
         "pickup": "2019-03-26 21:07:31",
         "pickup_borough": "Manhattan",
         "pickup_zone": "Battery Park City",
         "tip": "2.0",
         "tolls": "0.0",
         "total": "18.8"
        },
        {
         "Airport0": "False",
         "Airport1": "False",
         "Airport2": "False",
         "_deepnote_index_column": "8",
         "color": "yellow",
         "distance": "3.63",
         "dropoff": "2019-03-23 12:06:14",
         "dropoff_borough": "Manhattan",
         "dropoff_zone": "Midtown Center",
         "fare": "15.0",
         "passengers": "1",
         "payment": "credit card",
         "pickup": "2019-03-23 11:48:50",
         "pickup_borough": "Manhattan",
         "pickup_zone": "East Harlem South",
         "tip": "1.0",
         "tolls": "0.0",
         "total": "19.3"
        },
        {
         "Airport0": "False",
         "Airport1": "False",
         "Airport2": "False",
         "_deepnote_index_column": "9",
         "color": "yellow",
         "distance": "1.52",
         "dropoff": "2019-03-08 16:26:57",
         "dropoff_borough": "Manhattan",
         "dropoff_zone": "Central Park",
         "fare": "8.0",
         "passengers": "1",
         "payment": "credit card",
         "pickup": "2019-03-08 16:18:37",
         "pickup_borough": "Manhattan",
         "pickup_zone": "Lincoln Square East",
         "tip": "1.0",
         "tolls": "0.0",
         "total": "13.3"
        },
        {
         "Airport0": "True",
         "Airport1": "True",
         "Airport2": "True",
         "_deepnote_index_column": "10",
         "color": "yellow",
         "distance": "3.9",
         "dropoff": "2019-03-16 10:22:29",
         "dropoff_borough": "Queens",
         "dropoff_zone": "Astoria",
         "fare": "17.0",
         "passengers": "1",
         "payment": "cash",
         "pickup": "2019-03-16 10:02:25",
         "pickup_borough": "Queens",
         "pickup_zone": "LaGuardia Airport",
         "tip": "0.0",
         "tolls": "0.0",
         "total": "17.8"
        }
       ]
      },
      "text/html": [
       "<div>\n",
       "<style scoped>\n",
       "    .dataframe tbody tr th:only-of-type {\n",
       "        vertical-align: middle;\n",
       "    }\n",
       "\n",
       "    .dataframe tbody tr th {\n",
       "        vertical-align: top;\n",
       "    }\n",
       "\n",
       "    .dataframe thead th {\n",
       "        text-align: right;\n",
       "    }\n",
       "</style>\n",
       "<table border=\"1\" class=\"dataframe\">\n",
       "  <thead>\n",
       "    <tr style=\"text-align: right;\">\n",
       "      <th></th>\n",
       "      <th>pickup</th>\n",
       "      <th>dropoff</th>\n",
       "      <th>passengers</th>\n",
       "      <th>distance</th>\n",
       "      <th>fare</th>\n",
       "      <th>tip</th>\n",
       "      <th>tolls</th>\n",
       "      <th>total</th>\n",
       "      <th>color</th>\n",
       "      <th>payment</th>\n",
       "      <th>pickup_zone</th>\n",
       "      <th>dropoff_zone</th>\n",
       "      <th>pickup_borough</th>\n",
       "      <th>dropoff_borough</th>\n",
       "      <th>Airport0</th>\n",
       "      <th>Airport1</th>\n",
       "      <th>Airport2</th>\n",
       "    </tr>\n",
       "  </thead>\n",
       "  <tbody>\n",
       "    <tr>\n",
       "      <th>0</th>\n",
       "      <td>2019-03-23 20:21:09</td>\n",
       "      <td>2019-03-23 20:27:24</td>\n",
       "      <td>1</td>\n",
       "      <td>1.60</td>\n",
       "      <td>7.0</td>\n",
       "      <td>2.15</td>\n",
       "      <td>0.0</td>\n",
       "      <td>12.95</td>\n",
       "      <td>yellow</td>\n",
       "      <td>credit card</td>\n",
       "      <td>Lenox Hill West</td>\n",
       "      <td>UN/Turtle Bay South</td>\n",
       "      <td>Manhattan</td>\n",
       "      <td>Manhattan</td>\n",
       "      <td>False</td>\n",
       "      <td>False</td>\n",
       "      <td>False</td>\n",
       "    </tr>\n",
       "    <tr>\n",
       "      <th>1</th>\n",
       "      <td>2019-03-04 16:11:55</td>\n",
       "      <td>2019-03-04 16:19:00</td>\n",
       "      <td>1</td>\n",
       "      <td>0.79</td>\n",
       "      <td>5.0</td>\n",
       "      <td>0.00</td>\n",
       "      <td>0.0</td>\n",
       "      <td>9.30</td>\n",
       "      <td>yellow</td>\n",
       "      <td>cash</td>\n",
       "      <td>Upper West Side South</td>\n",
       "      <td>Upper West Side South</td>\n",
       "      <td>Manhattan</td>\n",
       "      <td>Manhattan</td>\n",
       "      <td>False</td>\n",
       "      <td>False</td>\n",
       "      <td>False</td>\n",
       "    </tr>\n",
       "    <tr>\n",
       "      <th>2</th>\n",
       "      <td>2019-03-27 17:53:01</td>\n",
       "      <td>2019-03-27 18:00:25</td>\n",
       "      <td>1</td>\n",
       "      <td>1.37</td>\n",
       "      <td>7.5</td>\n",
       "      <td>2.36</td>\n",
       "      <td>0.0</td>\n",
       "      <td>14.16</td>\n",
       "      <td>yellow</td>\n",
       "      <td>credit card</td>\n",
       "      <td>Alphabet City</td>\n",
       "      <td>West Village</td>\n",
       "      <td>Manhattan</td>\n",
       "      <td>Manhattan</td>\n",
       "      <td>False</td>\n",
       "      <td>False</td>\n",
       "      <td>False</td>\n",
       "    </tr>\n",
       "    <tr>\n",
       "      <th>3</th>\n",
       "      <td>2019-03-10 01:23:59</td>\n",
       "      <td>2019-03-10 01:49:51</td>\n",
       "      <td>1</td>\n",
       "      <td>7.70</td>\n",
       "      <td>27.0</td>\n",
       "      <td>6.15</td>\n",
       "      <td>0.0</td>\n",
       "      <td>36.95</td>\n",
       "      <td>yellow</td>\n",
       "      <td>credit card</td>\n",
       "      <td>Hudson Sq</td>\n",
       "      <td>Yorkville West</td>\n",
       "      <td>Manhattan</td>\n",
       "      <td>Manhattan</td>\n",
       "      <td>False</td>\n",
       "      <td>False</td>\n",
       "      <td>False</td>\n",
       "    </tr>\n",
       "    <tr>\n",
       "      <th>4</th>\n",
       "      <td>2019-03-30 13:27:42</td>\n",
       "      <td>2019-03-30 13:37:14</td>\n",
       "      <td>3</td>\n",
       "      <td>2.16</td>\n",
       "      <td>9.0</td>\n",
       "      <td>1.10</td>\n",
       "      <td>0.0</td>\n",
       "      <td>13.40</td>\n",
       "      <td>yellow</td>\n",
       "      <td>credit card</td>\n",
       "      <td>Midtown East</td>\n",
       "      <td>Yorkville West</td>\n",
       "      <td>Manhattan</td>\n",
       "      <td>Manhattan</td>\n",
       "      <td>False</td>\n",
       "      <td>False</td>\n",
       "      <td>False</td>\n",
       "    </tr>\n",
       "    <tr>\n",
       "      <th>...</th>\n",
       "      <td>...</td>\n",
       "      <td>...</td>\n",
       "      <td>...</td>\n",
       "      <td>...</td>\n",
       "      <td>...</td>\n",
       "      <td>...</td>\n",
       "      <td>...</td>\n",
       "      <td>...</td>\n",
       "      <td>...</td>\n",
       "      <td>...</td>\n",
       "      <td>...</td>\n",
       "      <td>...</td>\n",
       "      <td>...</td>\n",
       "      <td>...</td>\n",
       "      <td>...</td>\n",
       "      <td>...</td>\n",
       "      <td>...</td>\n",
       "    </tr>\n",
       "    <tr>\n",
       "      <th>6428</th>\n",
       "      <td>2019-03-31 09:51:53</td>\n",
       "      <td>2019-03-31 09:55:27</td>\n",
       "      <td>1</td>\n",
       "      <td>0.75</td>\n",
       "      <td>4.5</td>\n",
       "      <td>1.06</td>\n",
       "      <td>0.0</td>\n",
       "      <td>6.36</td>\n",
       "      <td>green</td>\n",
       "      <td>credit card</td>\n",
       "      <td>East Harlem North</td>\n",
       "      <td>Central Harlem North</td>\n",
       "      <td>Manhattan</td>\n",
       "      <td>Manhattan</td>\n",
       "      <td>False</td>\n",
       "      <td>False</td>\n",
       "      <td>False</td>\n",
       "    </tr>\n",
       "    <tr>\n",
       "      <th>6429</th>\n",
       "      <td>2019-03-31 17:38:00</td>\n",
       "      <td>2019-03-31 18:34:23</td>\n",
       "      <td>1</td>\n",
       "      <td>18.74</td>\n",
       "      <td>58.0</td>\n",
       "      <td>0.00</td>\n",
       "      <td>0.0</td>\n",
       "      <td>58.80</td>\n",
       "      <td>green</td>\n",
       "      <td>credit card</td>\n",
       "      <td>Jamaica</td>\n",
       "      <td>East Concourse/Concourse Village</td>\n",
       "      <td>Queens</td>\n",
       "      <td>Bronx</td>\n",
       "      <td>False</td>\n",
       "      <td>False</td>\n",
       "      <td>False</td>\n",
       "    </tr>\n",
       "    <tr>\n",
       "      <th>6430</th>\n",
       "      <td>2019-03-23 22:55:18</td>\n",
       "      <td>2019-03-23 23:14:25</td>\n",
       "      <td>1</td>\n",
       "      <td>4.14</td>\n",
       "      <td>16.0</td>\n",
       "      <td>0.00</td>\n",
       "      <td>0.0</td>\n",
       "      <td>17.30</td>\n",
       "      <td>green</td>\n",
       "      <td>cash</td>\n",
       "      <td>Crown Heights North</td>\n",
       "      <td>Bushwick North</td>\n",
       "      <td>Brooklyn</td>\n",
       "      <td>Brooklyn</td>\n",
       "      <td>False</td>\n",
       "      <td>False</td>\n",
       "      <td>False</td>\n",
       "    </tr>\n",
       "    <tr>\n",
       "      <th>6431</th>\n",
       "      <td>2019-03-04 10:09:25</td>\n",
       "      <td>2019-03-04 10:14:29</td>\n",
       "      <td>1</td>\n",
       "      <td>1.12</td>\n",
       "      <td>6.0</td>\n",
       "      <td>0.00</td>\n",
       "      <td>0.0</td>\n",
       "      <td>6.80</td>\n",
       "      <td>green</td>\n",
       "      <td>credit card</td>\n",
       "      <td>East New York</td>\n",
       "      <td>East Flatbush/Remsen Village</td>\n",
       "      <td>Brooklyn</td>\n",
       "      <td>Brooklyn</td>\n",
       "      <td>False</td>\n",
       "      <td>False</td>\n",
       "      <td>False</td>\n",
       "    </tr>\n",
       "    <tr>\n",
       "      <th>6432</th>\n",
       "      <td>2019-03-13 19:31:22</td>\n",
       "      <td>2019-03-13 19:48:02</td>\n",
       "      <td>1</td>\n",
       "      <td>3.85</td>\n",
       "      <td>15.0</td>\n",
       "      <td>3.36</td>\n",
       "      <td>0.0</td>\n",
       "      <td>20.16</td>\n",
       "      <td>green</td>\n",
       "      <td>credit card</td>\n",
       "      <td>Boerum Hill</td>\n",
       "      <td>Windsor Terrace</td>\n",
       "      <td>Brooklyn</td>\n",
       "      <td>Brooklyn</td>\n",
       "      <td>False</td>\n",
       "      <td>False</td>\n",
       "      <td>False</td>\n",
       "    </tr>\n",
       "  </tbody>\n",
       "</table>\n",
       "<p>6341 rows × 17 columns</p>\n",
       "</div>"
      ],
      "text/plain": [
       "                  pickup             dropoff  passengers  distance  fare  \\\n",
       "0    2019-03-23 20:21:09 2019-03-23 20:27:24           1      1.60   7.0   \n",
       "1    2019-03-04 16:11:55 2019-03-04 16:19:00           1      0.79   5.0   \n",
       "2    2019-03-27 17:53:01 2019-03-27 18:00:25           1      1.37   7.5   \n",
       "3    2019-03-10 01:23:59 2019-03-10 01:49:51           1      7.70  27.0   \n",
       "4    2019-03-30 13:27:42 2019-03-30 13:37:14           3      2.16   9.0   \n",
       "...                  ...                 ...         ...       ...   ...   \n",
       "6428 2019-03-31 09:51:53 2019-03-31 09:55:27           1      0.75   4.5   \n",
       "6429 2019-03-31 17:38:00 2019-03-31 18:34:23           1     18.74  58.0   \n",
       "6430 2019-03-23 22:55:18 2019-03-23 23:14:25           1      4.14  16.0   \n",
       "6431 2019-03-04 10:09:25 2019-03-04 10:14:29           1      1.12   6.0   \n",
       "6432 2019-03-13 19:31:22 2019-03-13 19:48:02           1      3.85  15.0   \n",
       "\n",
       "       tip  tolls  total   color      payment            pickup_zone  \\\n",
       "0     2.15    0.0  12.95  yellow  credit card        Lenox Hill West   \n",
       "1     0.00    0.0   9.30  yellow         cash  Upper West Side South   \n",
       "2     2.36    0.0  14.16  yellow  credit card          Alphabet City   \n",
       "3     6.15    0.0  36.95  yellow  credit card              Hudson Sq   \n",
       "4     1.10    0.0  13.40  yellow  credit card           Midtown East   \n",
       "...    ...    ...    ...     ...          ...                    ...   \n",
       "6428  1.06    0.0   6.36   green  credit card      East Harlem North   \n",
       "6429  0.00    0.0  58.80   green  credit card                Jamaica   \n",
       "6430  0.00    0.0  17.30   green         cash    Crown Heights North   \n",
       "6431  0.00    0.0   6.80   green  credit card          East New York   \n",
       "6432  3.36    0.0  20.16   green  credit card            Boerum Hill   \n",
       "\n",
       "                          dropoff_zone pickup_borough dropoff_borough  \\\n",
       "0                  UN/Turtle Bay South      Manhattan       Manhattan   \n",
       "1                Upper West Side South      Manhattan       Manhattan   \n",
       "2                         West Village      Manhattan       Manhattan   \n",
       "3                       Yorkville West      Manhattan       Manhattan   \n",
       "4                       Yorkville West      Manhattan       Manhattan   \n",
       "...                                ...            ...             ...   \n",
       "6428              Central Harlem North      Manhattan       Manhattan   \n",
       "6429  East Concourse/Concourse Village         Queens           Bronx   \n",
       "6430                    Bushwick North       Brooklyn        Brooklyn   \n",
       "6431      East Flatbush/Remsen Village       Brooklyn        Brooklyn   \n",
       "6432                   Windsor Terrace       Brooklyn        Brooklyn   \n",
       "\n",
       "      Airport0  Airport1  Airport2  \n",
       "0        False     False     False  \n",
       "1        False     False     False  \n",
       "2        False     False     False  \n",
       "3        False     False     False  \n",
       "4        False     False     False  \n",
       "...        ...       ...       ...  \n",
       "6428     False     False     False  \n",
       "6429     False     False     False  \n",
       "6430     False     False     False  \n",
       "6431     False     False     False  \n",
       "6432     False     False     False  \n",
       "\n",
       "[6341 rows x 17 columns]"
      ]
     },
     "execution_count": 33,
     "metadata": {},
     "output_type": "execute_result"
    }
   ],
   "source": [
    "df"
   ]
  },
  {
   "cell_type": "markdown",
   "metadata": {
    "cell_id": "407cdad2196547ca82fdf7db5f3b2901",
    "deepnote_cell_type": "markdown"
   },
   "source": [
    "* Make a list `air_cols` containing the names of those three columns we just made.  Use list comprehension and the string `startswith` method.\n",
    "\n",
    "Before we do that, here is an example of including an `if` statement at the end of a list comprehension.  It indicates which values we will use in our list.  For example in the following, we are iterating over `x = 0`, `1`, `2`, `3`, `4` (remember that the right endpoint is typically not included in Python), but we are only using the values which are strictly greater than `2`.  So we are putting `3**2` and `4**2` into a list.  (Side comment: In Python, we do not use the caret symbol `^` for powers, instead we use `**`.)"
   ]
  },
  {
   "cell_type": "code",
   "execution_count": 35,
   "metadata": {
    "cell_id": "09ae22302b2d440688bfe9aff89b98e2",
    "deepnote_cell_type": "code",
    "deepnote_to_be_reexecuted": false,
    "execution_millis": 2,
    "execution_start": 1682541840040,
    "source_hash": "1b691275"
   },
   "outputs": [
    {
     "data": {
      "text/plain": [
       "[9, 16]"
      ]
     },
     "execution_count": 35,
     "metadata": {},
     "output_type": "execute_result"
    }
   ],
   "source": [
    "[x**2 for x in range(5) if x > 2]"
   ]
  },
  {
   "cell_type": "markdown",
   "metadata": {},
   "source": [
    "Here is an example without the `if` statement.  This is just a complicated way to turn `df.columns` into a list."
   ]
  },
  {
   "cell_type": "code",
   "execution_count": 36,
   "metadata": {
    "cell_id": "bc759a5bdf574673ae45a53da0a4db2f",
    "deepnote_cell_type": "code",
    "deepnote_to_be_reexecuted": false,
    "execution_millis": 6,
    "execution_start": 1682541888379,
    "source_hash": "6cc6a7e1"
   },
   "outputs": [
    {
     "data": {
      "text/plain": [
       "['pickup',\n",
       " 'dropoff',\n",
       " 'passengers',\n",
       " 'distance',\n",
       " 'fare',\n",
       " 'tip',\n",
       " 'tolls',\n",
       " 'total',\n",
       " 'color',\n",
       " 'payment',\n",
       " 'pickup_zone',\n",
       " 'dropoff_zone',\n",
       " 'pickup_borough',\n",
       " 'dropoff_borough',\n",
       " 'Airport0',\n",
       " 'Airport1',\n",
       " 'Airport2']"
      ]
     },
     "execution_count": 36,
     "metadata": {},
     "output_type": "execute_result"
    }
   ],
   "source": [
    "[c for c in df.columns]"
   ]
  },
  {
   "cell_type": "markdown",
   "metadata": {},
   "source": [
    "Here is a warm-up.  This produces a length 1 list, because only one column name satisfies the condition."
   ]
  },
  {
   "cell_type": "code",
   "execution_count": 37,
   "metadata": {
    "cell_id": "0f9df202f7df4d7b9f0410d2374ce907",
    "deepnote_cell_type": "code",
    "deepnote_to_be_reexecuted": false,
    "execution_millis": 4,
    "execution_start": 1682541942084,
    "source_hash": "949f5583"
   },
   "outputs": [
    {
     "data": {
      "text/plain": [
       "['Airport1']"
      ]
     },
     "execution_count": 37,
     "metadata": {},
     "output_type": "execute_result"
    }
   ],
   "source": [
    "[c for c in df.columns if c == \"Airport1\"]"
   ]
  },
  {
   "cell_type": "markdown",
   "metadata": {},
   "source": [
    "Finally here is the list we want.  The `startswith` method itself is not important for us.  The important thing for us is the logic that's being used here.  We are making a list containing all the column names which start with the string `\"Airport\"`."
   ]
  },
  {
   "cell_type": "code",
   "execution_count": 38,
   "metadata": {
    "cell_id": "78cab0b0408c44288d717cbe28c47c83",
    "deepnote_cell_type": "code",
    "deepnote_to_be_reexecuted": false,
    "execution_millis": 2,
    "execution_start": 1682541969355,
    "source_hash": "474dce0a"
   },
   "outputs": [
    {
     "data": {
      "text/plain": [
       "['Airport0', 'Airport1', 'Airport2']"
      ]
     },
     "execution_count": 38,
     "metadata": {},
     "output_type": "execute_result"
    }
   ],
   "source": [
    "[c for c in df.columns if c.startswith(\"Airport\")]"
   ]
  },
  {
   "cell_type": "markdown",
   "metadata": {},
   "source": [
    "Here is almost another way to make the list.  Notice how we have not done anything with `i` yet."
   ]
  },
  {
   "cell_type": "code",
   "execution_count": 39,
   "metadata": {
    "cell_id": "0c38a8abf0614e41a33253ee8d0b188b",
    "deepnote_cell_type": "code",
    "deepnote_to_be_reexecuted": false,
    "execution_millis": 5,
    "execution_start": 1682542009268,
    "source_hash": "53a8ecee"
   },
   "outputs": [
    {
     "data": {
      "text/plain": [
       "['Airport', 'Airport', 'Airport']"
      ]
     },
     "execution_count": 39,
     "metadata": {},
     "output_type": "execute_result"
    }
   ],
   "source": [
    "[f\"Airport\" for i in range(3)]"
   ]
  },
  {
   "cell_type": "markdown",
   "metadata": {},
   "source": [
    "Here we include `i`, thanks to f-strings."
   ]
  },
  {
   "cell_type": "code",
   "execution_count": 40,
   "metadata": {
    "cell_id": "607d8e87d817433585265ec0ce7bbf15",
    "deepnote_cell_type": "code",
    "deepnote_to_be_reexecuted": false,
    "execution_millis": 3,
    "execution_start": 1682542043319,
    "source_hash": "14dcb4a5"
   },
   "outputs": [
    {
     "data": {
      "text/plain": [
       "['Airport0', 'Airport1', 'Airport2']"
      ]
     },
     "execution_count": 40,
     "metadata": {},
     "output_type": "execute_result"
    }
   ],
   "source": [
    "[f\"Airport{i}\" for i in range(3)]"
   ]
  },
  {
   "cell_type": "markdown",
   "metadata": {},
   "source": [
    "That is where we stopped on Wednesday."
   ]
  },
  {
   "cell_type": "markdown",
   "metadata": {
    "cell_id": "d1033c5bff324afab048289c3d08493d",
    "deepnote_cell_type": "markdown"
   },
   "source": [
    "* Check that the values in these three columns are the same.  One approach: compute `row.unique()` for every row in the DataFrame, and check that the length is always `1`."
   ]
  },
  {
   "cell_type": "markdown",
   "metadata": {
    "cell_id": "693f6c8637c7451991f136dabfe3c9ee",
    "deepnote_cell_type": "markdown"
   },
   "source": [
    "## Practice with `groupby` and f-strings"
   ]
  },
  {
   "cell_type": "markdown",
   "metadata": {
    "cell_id": "c051063144f0457491f7ef165b5e5e70",
    "deepnote_cell_type": "markdown"
   },
   "source": [
    "* Make a new column named \"Day\" in the DataFrame, containing the day of the pickup (as a string, like `\"Monday\"`)."
   ]
  },
  {
   "cell_type": "markdown",
   "metadata": {
    "cell_id": "5ab47a11f42041adafa1d4b4b8ac9a9d",
    "deepnote_cell_type": "markdown"
   },
   "source": [
    "* Why didn't we have to use `pd.to_datetime`?  Evaluate `df.dtypes` and `df.dtypes[\"pickup\"]` to see the reason."
   ]
  },
  {
   "cell_type": "markdown",
   "metadata": {
    "cell_id": "c96dadbf93cb447684d3a61f69380b45",
    "deepnote_cell_type": "markdown"
   },
   "source": [
    "* For each day of the week, what was the median tip for that day?  Put the results into a pandas Series using `groupby`."
   ]
  },
  {
   "cell_type": "markdown",
   "metadata": {
    "cell_id": "dc40dbfe0c8f482eb433dcb8ad2f8dd9",
    "deepnote_cell_type": "markdown"
   },
   "source": [
    "* For each day of the week, print out a string stating the median tip amount for that day.  Use `:.2f` in the string formatting part so that only two decimal places get printed."
   ]
  },
  {
   "cell_type": "code",
   "execution_count": null,
   "metadata": {
    "cell_id": "ab6a2fffa4154ca2a7b7745c4be223a2",
    "deepnote_cell_type": "code",
    "deepnote_to_be_reexecuted": false,
    "execution_millis": 23,
    "execution_start": 1682532266098,
    "source_hash": "8684f1bc"
   },
   "outputs": [
    {
     "data": {
      "text/plain": [
       "['Monday', 'Tuesday', 'Wednesday', 'Thursday', 'Friday', 'Saturday', 'Sunday']"
      ]
     },
     "execution_count": 31,
     "metadata": {},
     "output_type": "execute_result"
    }
   ],
   "source": [
    "day_list = [pd.to_datetime(f\"4-{i}-2023\").day_name() for i in range(24,31)]\n",
    "day_list"
   ]
  },
  {
   "cell_type": "markdown",
   "metadata": {
    "cell_id": "388fe5a76eec43fe9decdf16d70ae7db",
    "deepnote_cell_type": "markdown"
   },
   "source": [
    "## Practice with list comprehension\n",
    "\n",
    "(I doubt we'll get this far.)"
   ]
  },
  {
   "cell_type": "markdown",
   "metadata": {
    "cell_id": "9867825b665841948ff0aa612b35ca46",
    "deepnote_cell_type": "markdown"
   },
   "source": [
    "* Using list comprehension, make a list of all the row labels for which the \"pickup_zone\" or \"dropoff_zone\" column contains the substring \"Airport\"."
   ]
  },
  {
   "cell_type": "markdown",
   "metadata": {
    "cell_id": "93efa8ba2f52492dbea5aa86ec9af29c",
    "deepnote_cell_type": "markdown"
   },
   "source": [
    "* Compute the same thing using pandas techniques."
   ]
  },
  {
   "cell_type": "markdown",
   "metadata": {
    "cell_id": "3764e045b37e43f7adec16029992481c",
    "deepnote_cell_type": "markdown"
   },
   "source": [
    "* What if we wanted the integer locations instead, rather than the labels?"
   ]
  },
  {
   "cell_type": "markdown",
   "metadata": {
    "created_in_deepnote_cell": true,
    "deepnote_cell_type": "markdown"
   },
   "source": [
    "<a style='text-decoration:none;line-height:16px;display:flex;color:#5B5B62;padding:10px;justify-content:end;' href='https://deepnote.com?utm_source=created-in-deepnote-cell&projectId=f42346a9-38b7-480d-97d2-0aec2dde9f8a' target=\"_blank\">\n",
    "<img alt='Created in deepnote.com' style='display:inline;max-height:16px;margin:0px;margin-right:7.5px;' src='data:image/svg+xml;base64,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' > </img>\n",
    "Created in <span style='font-weight:600;margin-left:4px;'>Deepnote</span></a>"
   ]
  }
 ],
 "metadata": {
  "deepnote": {},
  "deepnote_execution_queue": [],
  "deepnote_notebook_id": "c3b5b2314fce4c64b1be4143f2bc3410",
  "deepnote_persisted_session": {
   "createdAt": "2023-04-26T20:50:41.096Z"
  },
  "kernelspec": {
   "display_name": "Python 3 (ipykernel)",
   "language": "python",
   "name": "python3"
  },
  "language_info": {
   "codemirror_mode": {
    "name": "ipython",
    "version": 3
   },
   "file_extension": ".py",
   "mimetype": "text/x-python",
   "name": "python",
   "nbconvert_exporter": "python",
   "pygments_lexer": "ipython3",
   "version": "3.9.16"
  }
 },
 "nbformat": 4,
 "nbformat_minor": 4
}
