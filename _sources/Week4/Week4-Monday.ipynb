{
 "cells": [
  {
   "cell_type": "markdown",
   "metadata": {
    "cell_id": "442c91d2162a43169b9a8dcee1a6b079",
    "deepnote_cell_type": "markdown"
   },
   "source": [
    "# Week 4 Monday"
   ]
  },
  {
   "cell_type": "markdown",
   "metadata": {
    "cell_id": "216b58073dde46eb806dd014f076d05c",
    "deepnote_cell_type": "markdown"
   },
   "source": [
    "## Announcements\n",
    "\n",
    "* The midterm is a week from today.  A sample midterm is posted on the [Week 5](https://canvas.eee.uci.edu/courses/53164/pages/week-5) page on Canvas.\n",
    "* The midterm is closed book, closed computer, but you are allowed to use one notecard with handwritten notes (both sides).  Jinghao will have the notecards for you before the quiz on Tuesday.\n",
    "* The best way to study is to go over the worksheets, quizzes, and the sample midterm.  Next priority would be the [lecture notes](https://christopherdavisuci.github.io/UCI-Math-10-S23/Week3/Week3-Monday.html).\n",
    "* I briefly mention lots of topics.  If you're not sure if something could appear on the midterm, ask on Ed Discussion and I'll answer there."
   ]
  },
  {
   "cell_type": "markdown",
   "metadata": {
    "cell_id": "d45c17ef4f6549188a48c76512011b80",
    "deepnote_cell_type": "markdown"
   },
   "source": [
    "## Plan for today\n",
    "\n",
    "Today I would like to briefly cover three useful Python topics (that are not specific to data science):\n",
    "* list comprehension\n",
    "* f-strings\n",
    "* lambda functions\n",
    "\n",
    "I would also like to discuss the pandas DataFrame methods `apply` and `applymap`.  Both of these methods take a function as their input.  The `apply` method applies that function to an entire row or an entire column at a time.  The `applymap` method applies that function to every entry on its own.  (We have also seen `map` which is very similar, but which is a Series method rather than a DataFrame method.)"
   ]
  },
  {
   "cell_type": "markdown",
   "metadata": {
    "cell_id": "8a0885d5faa145d4b7b88bf0e6e0d42f",
    "deepnote_cell_type": "markdown"
   },
   "source": [
    "## Using `applymap` and a lambda function"
   ]
  },
  {
   "cell_type": "markdown",
   "metadata": {
    "cell_id": "8d5415b702f049ceaef93a9d4e78ec33",
    "deepnote_cell_type": "markdown"
   },
   "source": [
    "* Load the \"taxis\" dataset from Seaborn."
   ]
  },
  {
   "cell_type": "code",
   "execution_count": 2,
   "metadata": {
    "cell_id": "8df3d5f3f1334773b5260c450d3ccac6",
    "deepnote_cell_type": "code",
    "deepnote_to_be_reexecuted": false,
    "execution_millis": 5,
    "execution_start": 1682366600395,
    "source_hash": "c9d2f67b"
   },
   "outputs": [],
   "source": [
    "import seaborn as sns"
   ]
  },
  {
   "cell_type": "code",
   "execution_count": 3,
   "metadata": {
    "cell_id": "f51e1792f04c4928b3757adb9b606d1e",
    "deepnote_cell_type": "code",
    "deepnote_to_be_reexecuted": false,
    "execution_millis": 2865,
    "execution_start": 1682366601695,
    "source_hash": "99601040"
   },
   "outputs": [],
   "source": [
    "df = sns.load_dataset(\"taxis\")"
   ]
  },
  {
   "cell_type": "markdown",
   "metadata": {},
   "source": [
    "Here is a reminder of what `df` looks like."
   ]
  },
  {
   "cell_type": "code",
   "execution_count": 4,
   "metadata": {
    "cell_id": "4e8eac0a1e48488d828b4dfea18e0265",
    "deepnote_cell_type": "code",
    "deepnote_to_be_reexecuted": false,
    "execution_millis": 124,
    "execution_start": 1682366629713,
    "source_hash": "c085b6ba",
    "tags": [
     "output_scroll"
    ]
   },
   "outputs": [
    {
     "data": {
      "application/vnd.deepnote.dataframe.v3+json": {
       "column_count": 14,
       "columns": [
        {
         "dtype": "datetime64[ns]",
         "name": "pickup",
         "stats": {
          "histogram": [
           {
            "bin_end": 1551939569700000000,
            "bin_start": 1551715915000000000,
            "count": 1
           },
           {
            "bin_end": 1552163224400000000,
            "bin_start": 1551939569700000000,
            "count": 0
           },
           {
            "bin_end": 1552386879100000000,
            "bin_start": 1552163224400000000,
            "count": 1
           },
           {
            "bin_end": 1552610533800000000,
            "bin_start": 1552386879100000000,
            "count": 0
           },
           {
            "bin_end": 1552834188500000000,
            "bin_start": 1552610533800000000,
            "count": 0
           },
           {
            "bin_end": 1553057843200000000,
            "bin_start": 1552834188500000000,
            "count": 0
           },
           {
            "bin_end": 1553281497900000000,
            "bin_start": 1553057843200000000,
            "count": 0
           },
           {
            "bin_end": 1553505152600000000,
            "bin_start": 1553281497900000000,
            "count": 1
           },
           {
            "bin_end": 1553728807300000000,
            "bin_start": 1553505152600000000,
            "count": 1
           },
           {
            "bin_end": 1553952462000000000,
            "bin_start": 1553728807300000000,
            "count": 1
           }
          ],
          "max": "2019-03-30 13:27:42",
          "min": "2019-03-04 16:11:55",
          "nan_count": 0,
          "unique_count": 5
         }
        },
        {
         "dtype": "datetime64[ns]",
         "name": "dropoff",
         "stats": {
          "histogram": [
           {
            "bin_end": 1551940009400000000,
            "bin_start": 1551716340000000000,
            "count": 1
           },
           {
            "bin_end": 1552163678800000000,
            "bin_start": 1551940009400000000,
            "count": 0
           },
           {
            "bin_end": 1552387348200000000,
            "bin_start": 1552163678800000000,
            "count": 1
           },
           {
            "bin_end": 1552611017600000000,
            "bin_start": 1552387348200000000,
            "count": 0
           },
           {
            "bin_end": 1552834687000000000,
            "bin_start": 1552611017600000000,
            "count": 0
           },
           {
            "bin_end": 1553058356400000000,
            "bin_start": 1552834687000000000,
            "count": 0
           },
           {
            "bin_end": 1553282025800000000,
            "bin_start": 1553058356400000000,
            "count": 0
           },
           {
            "bin_end": 1553505695200000000,
            "bin_start": 1553282025800000000,
            "count": 1
           },
           {
            "bin_end": 1553729364600000000,
            "bin_start": 1553505695200000000,
            "count": 1
           },
           {
            "bin_end": 1553953034000000000,
            "bin_start": 1553729364600000000,
            "count": 1
           }
          ],
          "max": "2019-03-30 13:37:14",
          "min": "2019-03-04 16:19:00",
          "nan_count": 0,
          "unique_count": 5
         }
        },
        {
         "dtype": "int64",
         "name": "passengers",
         "stats": {
          "histogram": [
           {
            "bin_end": 1.2,
            "bin_start": 1,
            "count": 4
           },
           {
            "bin_end": 1.4,
            "bin_start": 1.2,
            "count": 0
           },
           {
            "bin_end": 1.6,
            "bin_start": 1.4,
            "count": 0
           },
           {
            "bin_end": 1.8,
            "bin_start": 1.6,
            "count": 0
           },
           {
            "bin_end": 2,
            "bin_start": 1.8,
            "count": 0
           },
           {
            "bin_end": 2.2,
            "bin_start": 2,
            "count": 0
           },
           {
            "bin_end": 2.4000000000000004,
            "bin_start": 2.2,
            "count": 0
           },
           {
            "bin_end": 2.6,
            "bin_start": 2.4000000000000004,
            "count": 0
           },
           {
            "bin_end": 2.8,
            "bin_start": 2.6,
            "count": 0
           },
           {
            "bin_end": 3,
            "bin_start": 2.8,
            "count": 1
           }
          ],
          "max": "3",
          "min": "1",
          "nan_count": 0,
          "unique_count": 2
         }
        },
        {
         "dtype": "float64",
         "name": "distance",
         "stats": {
          "histogram": [
           {
            "bin_end": 1.481,
            "bin_start": 0.79,
            "count": 2
           },
           {
            "bin_end": 2.172,
            "bin_start": 1.481,
            "count": 2
           },
           {
            "bin_end": 2.8630000000000004,
            "bin_start": 2.172,
            "count": 0
           },
           {
            "bin_end": 3.5540000000000003,
            "bin_start": 2.8630000000000004,
            "count": 0
           },
           {
            "bin_end": 4.245,
            "bin_start": 3.5540000000000003,
            "count": 0
           },
           {
            "bin_end": 4.936000000000001,
            "bin_start": 4.245,
            "count": 0
           },
           {
            "bin_end": 5.627000000000001,
            "bin_start": 4.936000000000001,
            "count": 0
           },
           {
            "bin_end": 6.3180000000000005,
            "bin_start": 5.627000000000001,
            "count": 0
           },
           {
            "bin_end": 7.009,
            "bin_start": 6.3180000000000005,
            "count": 0
           },
           {
            "bin_end": 7.7,
            "bin_start": 7.009,
            "count": 1
           }
          ],
          "max": "7.7",
          "min": "0.79",
          "nan_count": 0,
          "unique_count": 5
         }
        },
        {
         "dtype": "float64",
         "name": "fare",
         "stats": {
          "histogram": [
           {
            "bin_end": 7.2,
            "bin_start": 5,
            "count": 2
           },
           {
            "bin_end": 9.4,
            "bin_start": 7.2,
            "count": 2
           },
           {
            "bin_end": 11.600000000000001,
            "bin_start": 9.4,
            "count": 0
           },
           {
            "bin_end": 13.8,
            "bin_start": 11.600000000000001,
            "count": 0
           },
           {
            "bin_end": 16,
            "bin_start": 13.8,
            "count": 0
           },
           {
            "bin_end": 18.200000000000003,
            "bin_start": 16,
            "count": 0
           },
           {
            "bin_end": 20.400000000000002,
            "bin_start": 18.200000000000003,
            "count": 0
           },
           {
            "bin_end": 22.6,
            "bin_start": 20.400000000000002,
            "count": 0
           },
           {
            "bin_end": 24.8,
            "bin_start": 22.6,
            "count": 0
           },
           {
            "bin_end": 27,
            "bin_start": 24.8,
            "count": 1
           }
          ],
          "max": "27.0",
          "min": "5.0",
          "nan_count": 0,
          "unique_count": 5
         }
        },
        {
         "dtype": "float64",
         "name": "tip",
         "stats": {
          "histogram": [
           {
            "bin_end": 0.615,
            "bin_start": 0,
            "count": 1
           },
           {
            "bin_end": 1.23,
            "bin_start": 0.615,
            "count": 1
           },
           {
            "bin_end": 1.845,
            "bin_start": 1.23,
            "count": 0
           },
           {
            "bin_end": 2.46,
            "bin_start": 1.845,
            "count": 2
           },
           {
            "bin_end": 3.075,
            "bin_start": 2.46,
            "count": 0
           },
           {
            "bin_end": 3.69,
            "bin_start": 3.075,
            "count": 0
           },
           {
            "bin_end": 4.305,
            "bin_start": 3.69,
            "count": 0
           },
           {
            "bin_end": 4.92,
            "bin_start": 4.305,
            "count": 0
           },
           {
            "bin_end": 5.535,
            "bin_start": 4.92,
            "count": 0
           },
           {
            "bin_end": 6.15,
            "bin_start": 5.535,
            "count": 1
           }
          ],
          "max": "6.15",
          "min": "0.0",
          "nan_count": 0,
          "unique_count": 5
         }
        },
        {
         "dtype": "float64",
         "name": "tolls",
         "stats": {
          "histogram": [
           {
            "bin_end": -0.4,
            "bin_start": -0.5,
            "count": 0
           },
           {
            "bin_end": -0.3,
            "bin_start": -0.4,
            "count": 0
           },
           {
            "bin_end": -0.19999999999999996,
            "bin_start": -0.3,
            "count": 0
           },
           {
            "bin_end": -0.09999999999999998,
            "bin_start": -0.19999999999999996,
            "count": 0
           },
           {
            "bin_end": 0,
            "bin_start": -0.09999999999999998,
            "count": 0
           },
           {
            "bin_end": 0.10000000000000009,
            "bin_start": 0,
            "count": 5
           },
           {
            "bin_end": 0.20000000000000007,
            "bin_start": 0.10000000000000009,
            "count": 0
           },
           {
            "bin_end": 0.30000000000000004,
            "bin_start": 0.20000000000000007,
            "count": 0
           },
           {
            "bin_end": 0.4,
            "bin_start": 0.30000000000000004,
            "count": 0
           },
           {
            "bin_end": 0.5,
            "bin_start": 0.4,
            "count": 0
           }
          ],
          "max": "0.0",
          "min": "0.0",
          "nan_count": 0,
          "unique_count": 1
         }
        },
        {
         "dtype": "float64",
         "name": "total",
         "stats": {
          "histogram": [
           {
            "bin_end": 12.065000000000001,
            "bin_start": 9.3,
            "count": 1
           },
           {
            "bin_end": 14.830000000000002,
            "bin_start": 12.065000000000001,
            "count": 3
           },
           {
            "bin_end": 17.595,
            "bin_start": 14.830000000000002,
            "count": 0
           },
           {
            "bin_end": 20.36,
            "bin_start": 17.595,
            "count": 0
           },
           {
            "bin_end": 23.125,
            "bin_start": 20.36,
            "count": 0
           },
           {
            "bin_end": 25.89,
            "bin_start": 23.125,
            "count": 0
           },
           {
            "bin_end": 28.655,
            "bin_start": 25.89,
            "count": 0
           },
           {
            "bin_end": 31.42,
            "bin_start": 28.655,
            "count": 0
           },
           {
            "bin_end": 34.185,
            "bin_start": 31.42,
            "count": 0
           },
           {
            "bin_end": 36.95,
            "bin_start": 34.185,
            "count": 1
           }
          ],
          "max": "36.95",
          "min": "9.3",
          "nan_count": 0,
          "unique_count": 5
         }
        },
        {
         "dtype": "object",
         "name": "color",
         "stats": {
          "categories": [
           {
            "count": 5,
            "name": "yellow"
           }
          ],
          "nan_count": 0,
          "unique_count": 1
         }
        },
        {
         "dtype": "object",
         "name": "payment",
         "stats": {
          "categories": [
           {
            "count": 4,
            "name": "credit card"
           },
           {
            "count": 1,
            "name": "cash"
           }
          ],
          "nan_count": 0,
          "unique_count": 2
         }
        },
        {
         "dtype": "object",
         "name": "pickup_zone",
         "stats": {
          "categories": [
           {
            "count": 1,
            "name": "Lenox Hill West"
           },
           {
            "count": 1,
            "name": "Upper West Side South"
           },
           {
            "count": 3,
            "name": "3 others"
           }
          ],
          "nan_count": 0,
          "unique_count": 5
         }
        },
        {
         "dtype": "object",
         "name": "dropoff_zone",
         "stats": {
          "categories": [
           {
            "count": 2,
            "name": "Yorkville West"
           },
           {
            "count": 1,
            "name": "UN/Turtle Bay South"
           },
           {
            "count": 2,
            "name": "2 others"
           }
          ],
          "nan_count": 0,
          "unique_count": 4
         }
        },
        {
         "dtype": "object",
         "name": "pickup_borough",
         "stats": {
          "categories": [
           {
            "count": 5,
            "name": "Manhattan"
           }
          ],
          "nan_count": 0,
          "unique_count": 1
         }
        },
        {
         "dtype": "object",
         "name": "dropoff_borough",
         "stats": {
          "categories": [
           {
            "count": 5,
            "name": "Manhattan"
           }
          ],
          "nan_count": 0,
          "unique_count": 1
         }
        },
        {
         "dtype": "int64",
         "name": "_deepnote_index_column"
        }
       ],
       "row_count": 5,
       "rows": [
        {
         "_deepnote_index_column": "0",
         "color": "yellow",
         "distance": "1.6",
         "dropoff": "2019-03-23 20:27:24",
         "dropoff_borough": "Manhattan",
         "dropoff_zone": "UN/Turtle Bay South",
         "fare": "7.0",
         "passengers": "1",
         "payment": "credit card",
         "pickup": "2019-03-23 20:21:09",
         "pickup_borough": "Manhattan",
         "pickup_zone": "Lenox Hill West",
         "tip": "2.15",
         "tolls": "0.0",
         "total": "12.95"
        },
        {
         "_deepnote_index_column": "1",
         "color": "yellow",
         "distance": "0.79",
         "dropoff": "2019-03-04 16:19:00",
         "dropoff_borough": "Manhattan",
         "dropoff_zone": "Upper West Side South",
         "fare": "5.0",
         "passengers": "1",
         "payment": "cash",
         "pickup": "2019-03-04 16:11:55",
         "pickup_borough": "Manhattan",
         "pickup_zone": "Upper West Side South",
         "tip": "0.0",
         "tolls": "0.0",
         "total": "9.3"
        },
        {
         "_deepnote_index_column": "2",
         "color": "yellow",
         "distance": "1.37",
         "dropoff": "2019-03-27 18:00:25",
         "dropoff_borough": "Manhattan",
         "dropoff_zone": "West Village",
         "fare": "7.5",
         "passengers": "1",
         "payment": "credit card",
         "pickup": "2019-03-27 17:53:01",
         "pickup_borough": "Manhattan",
         "pickup_zone": "Alphabet City",
         "tip": "2.36",
         "tolls": "0.0",
         "total": "14.16"
        },
        {
         "_deepnote_index_column": "3",
         "color": "yellow",
         "distance": "7.7",
         "dropoff": "2019-03-10 01:49:51",
         "dropoff_borough": "Manhattan",
         "dropoff_zone": "Yorkville West",
         "fare": "27.0",
         "passengers": "1",
         "payment": "credit card",
         "pickup": "2019-03-10 01:23:59",
         "pickup_borough": "Manhattan",
         "pickup_zone": "Hudson Sq",
         "tip": "6.15",
         "tolls": "0.0",
         "total": "36.95"
        },
        {
         "_deepnote_index_column": "4",
         "color": "yellow",
         "distance": "2.16",
         "dropoff": "2019-03-30 13:37:14",
         "dropoff_borough": "Manhattan",
         "dropoff_zone": "Yorkville West",
         "fare": "9.0",
         "passengers": "3",
         "payment": "credit card",
         "pickup": "2019-03-30 13:27:42",
         "pickup_borough": "Manhattan",
         "pickup_zone": "Midtown East",
         "tip": "1.1",
         "tolls": "0.0",
         "total": "13.4"
        }
       ]
      },
      "text/html": [
       "<div>\n",
       "<style scoped>\n",
       "    .dataframe tbody tr th:only-of-type {\n",
       "        vertical-align: middle;\n",
       "    }\n",
       "\n",
       "    .dataframe tbody tr th {\n",
       "        vertical-align: top;\n",
       "    }\n",
       "\n",
       "    .dataframe thead th {\n",
       "        text-align: right;\n",
       "    }\n",
       "</style>\n",
       "<table border=\"1\" class=\"dataframe\">\n",
       "  <thead>\n",
       "    <tr style=\"text-align: right;\">\n",
       "      <th></th>\n",
       "      <th>pickup</th>\n",
       "      <th>dropoff</th>\n",
       "      <th>passengers</th>\n",
       "      <th>distance</th>\n",
       "      <th>fare</th>\n",
       "      <th>tip</th>\n",
       "      <th>tolls</th>\n",
       "      <th>total</th>\n",
       "      <th>color</th>\n",
       "      <th>payment</th>\n",
       "      <th>pickup_zone</th>\n",
       "      <th>dropoff_zone</th>\n",
       "      <th>pickup_borough</th>\n",
       "      <th>dropoff_borough</th>\n",
       "    </tr>\n",
       "  </thead>\n",
       "  <tbody>\n",
       "    <tr>\n",
       "      <th>0</th>\n",
       "      <td>2019-03-23 20:21:09</td>\n",
       "      <td>2019-03-23 20:27:24</td>\n",
       "      <td>1</td>\n",
       "      <td>1.60</td>\n",
       "      <td>7.0</td>\n",
       "      <td>2.15</td>\n",
       "      <td>0.0</td>\n",
       "      <td>12.95</td>\n",
       "      <td>yellow</td>\n",
       "      <td>credit card</td>\n",
       "      <td>Lenox Hill West</td>\n",
       "      <td>UN/Turtle Bay South</td>\n",
       "      <td>Manhattan</td>\n",
       "      <td>Manhattan</td>\n",
       "    </tr>\n",
       "    <tr>\n",
       "      <th>1</th>\n",
       "      <td>2019-03-04 16:11:55</td>\n",
       "      <td>2019-03-04 16:19:00</td>\n",
       "      <td>1</td>\n",
       "      <td>0.79</td>\n",
       "      <td>5.0</td>\n",
       "      <td>0.00</td>\n",
       "      <td>0.0</td>\n",
       "      <td>9.30</td>\n",
       "      <td>yellow</td>\n",
       "      <td>cash</td>\n",
       "      <td>Upper West Side South</td>\n",
       "      <td>Upper West Side South</td>\n",
       "      <td>Manhattan</td>\n",
       "      <td>Manhattan</td>\n",
       "    </tr>\n",
       "    <tr>\n",
       "      <th>2</th>\n",
       "      <td>2019-03-27 17:53:01</td>\n",
       "      <td>2019-03-27 18:00:25</td>\n",
       "      <td>1</td>\n",
       "      <td>1.37</td>\n",
       "      <td>7.5</td>\n",
       "      <td>2.36</td>\n",
       "      <td>0.0</td>\n",
       "      <td>14.16</td>\n",
       "      <td>yellow</td>\n",
       "      <td>credit card</td>\n",
       "      <td>Alphabet City</td>\n",
       "      <td>West Village</td>\n",
       "      <td>Manhattan</td>\n",
       "      <td>Manhattan</td>\n",
       "    </tr>\n",
       "    <tr>\n",
       "      <th>3</th>\n",
       "      <td>2019-03-10 01:23:59</td>\n",
       "      <td>2019-03-10 01:49:51</td>\n",
       "      <td>1</td>\n",
       "      <td>7.70</td>\n",
       "      <td>27.0</td>\n",
       "      <td>6.15</td>\n",
       "      <td>0.0</td>\n",
       "      <td>36.95</td>\n",
       "      <td>yellow</td>\n",
       "      <td>credit card</td>\n",
       "      <td>Hudson Sq</td>\n",
       "      <td>Yorkville West</td>\n",
       "      <td>Manhattan</td>\n",
       "      <td>Manhattan</td>\n",
       "    </tr>\n",
       "    <tr>\n",
       "      <th>4</th>\n",
       "      <td>2019-03-30 13:27:42</td>\n",
       "      <td>2019-03-30 13:37:14</td>\n",
       "      <td>3</td>\n",
       "      <td>2.16</td>\n",
       "      <td>9.0</td>\n",
       "      <td>1.10</td>\n",
       "      <td>0.0</td>\n",
       "      <td>13.40</td>\n",
       "      <td>yellow</td>\n",
       "      <td>credit card</td>\n",
       "      <td>Midtown East</td>\n",
       "      <td>Yorkville West</td>\n",
       "      <td>Manhattan</td>\n",
       "      <td>Manhattan</td>\n",
       "    </tr>\n",
       "  </tbody>\n",
       "</table>\n",
       "</div>"
      ],
      "text/plain": [
       "               pickup             dropoff  passengers  distance  fare   tip  \\\n",
       "0 2019-03-23 20:21:09 2019-03-23 20:27:24           1      1.60   7.0  2.15   \n",
       "1 2019-03-04 16:11:55 2019-03-04 16:19:00           1      0.79   5.0  0.00   \n",
       "2 2019-03-27 17:53:01 2019-03-27 18:00:25           1      1.37   7.5  2.36   \n",
       "3 2019-03-10 01:23:59 2019-03-10 01:49:51           1      7.70  27.0  6.15   \n",
       "4 2019-03-30 13:27:42 2019-03-30 13:37:14           3      2.16   9.0  1.10   \n",
       "\n",
       "   tolls  total   color      payment            pickup_zone  \\\n",
       "0    0.0  12.95  yellow  credit card        Lenox Hill West   \n",
       "1    0.0   9.30  yellow         cash  Upper West Side South   \n",
       "2    0.0  14.16  yellow  credit card          Alphabet City   \n",
       "3    0.0  36.95  yellow  credit card              Hudson Sq   \n",
       "4    0.0  13.40  yellow  credit card           Midtown East   \n",
       "\n",
       "            dropoff_zone pickup_borough dropoff_borough  \n",
       "0    UN/Turtle Bay South      Manhattan       Manhattan  \n",
       "1  Upper West Side South      Manhattan       Manhattan  \n",
       "2           West Village      Manhattan       Manhattan  \n",
       "3         Yorkville West      Manhattan       Manhattan  \n",
       "4         Yorkville West      Manhattan       Manhattan  "
      ]
     },
     "execution_count": 4,
     "metadata": {},
     "output_type": "execute_result"
    }
   ],
   "source": [
    "df.head()"
   ]
  },
  {
   "cell_type": "markdown",
   "metadata": {
    "cell_id": "c54871b4a7cd4ddb8e80aafefc33be4c",
    "deepnote_cell_type": "markdown"
   },
   "source": [
    "* Set the value at row `3` and column `\"tip\"` to NumPy's Not-a-Number value."
   ]
  },
  {
   "cell_type": "code",
   "execution_count": 7,
   "metadata": {
    "cell_id": "0298c38c852b431ea95cf528d299f953",
    "deepnote_cell_type": "code",
    "deepnote_to_be_reexecuted": false,
    "execution_millis": 35,
    "execution_start": 1682366775551,
    "source_hash": "c2602aa8"
   },
   "outputs": [],
   "source": [
    "import numpy as np"
   ]
  },
  {
   "cell_type": "markdown",
   "metadata": {},
   "source": [
    "Here is an example of how to set a particular element to a particular value.  Because we are referring to the column \"tip\" by name, we need to use `loc` rather than `iloc`."
   ]
  },
  {
   "cell_type": "code",
   "execution_count": 8,
   "metadata": {
    "cell_id": "14bcccac0b5045358989bc718dd83f23",
    "deepnote_cell_type": "code",
    "deepnote_to_be_reexecuted": false,
    "execution_millis": 45,
    "execution_start": 1682366777696,
    "source_hash": "7b569d7c"
   },
   "outputs": [],
   "source": [
    "df.loc[3, \"tip\"] = np.nan"
   ]
  },
  {
   "cell_type": "markdown",
   "metadata": {},
   "source": [
    "Notice how the corresponding element has now been changed."
   ]
  },
  {
   "cell_type": "code",
   "execution_count": 9,
   "metadata": {
    "cell_id": "79226349c44c4214bebe9fa44f78bd7f",
    "deepnote_cell_type": "code",
    "deepnote_to_be_reexecuted": false,
    "execution_millis": 23,
    "execution_start": 1682366780683,
    "source_hash": "c085b6ba",
    "tags": [
     "output_scroll"
    ]
   },
   "outputs": [
    {
     "data": {
      "application/vnd.deepnote.dataframe.v3+json": {
       "column_count": 14,
       "columns": [
        {
         "dtype": "datetime64[ns]",
         "name": "pickup",
         "stats": {
          "histogram": [
           {
            "bin_end": 1551939569700000000,
            "bin_start": 1551715915000000000,
            "count": 1
           },
           {
            "bin_end": 1552163224400000000,
            "bin_start": 1551939569700000000,
            "count": 0
           },
           {
            "bin_end": 1552386879100000000,
            "bin_start": 1552163224400000000,
            "count": 1
           },
           {
            "bin_end": 1552610533800000000,
            "bin_start": 1552386879100000000,
            "count": 0
           },
           {
            "bin_end": 1552834188500000000,
            "bin_start": 1552610533800000000,
            "count": 0
           },
           {
            "bin_end": 1553057843200000000,
            "bin_start": 1552834188500000000,
            "count": 0
           },
           {
            "bin_end": 1553281497900000000,
            "bin_start": 1553057843200000000,
            "count": 0
           },
           {
            "bin_end": 1553505152600000000,
            "bin_start": 1553281497900000000,
            "count": 1
           },
           {
            "bin_end": 1553728807300000000,
            "bin_start": 1553505152600000000,
            "count": 1
           },
           {
            "bin_end": 1553952462000000000,
            "bin_start": 1553728807300000000,
            "count": 1
           }
          ],
          "max": "2019-03-30 13:27:42",
          "min": "2019-03-04 16:11:55",
          "nan_count": 0,
          "unique_count": 5
         }
        },
        {
         "dtype": "datetime64[ns]",
         "name": "dropoff",
         "stats": {
          "histogram": [
           {
            "bin_end": 1551940009400000000,
            "bin_start": 1551716340000000000,
            "count": 1
           },
           {
            "bin_end": 1552163678800000000,
            "bin_start": 1551940009400000000,
            "count": 0
           },
           {
            "bin_end": 1552387348200000000,
            "bin_start": 1552163678800000000,
            "count": 1
           },
           {
            "bin_end": 1552611017600000000,
            "bin_start": 1552387348200000000,
            "count": 0
           },
           {
            "bin_end": 1552834687000000000,
            "bin_start": 1552611017600000000,
            "count": 0
           },
           {
            "bin_end": 1553058356400000000,
            "bin_start": 1552834687000000000,
            "count": 0
           },
           {
            "bin_end": 1553282025800000000,
            "bin_start": 1553058356400000000,
            "count": 0
           },
           {
            "bin_end": 1553505695200000000,
            "bin_start": 1553282025800000000,
            "count": 1
           },
           {
            "bin_end": 1553729364600000000,
            "bin_start": 1553505695200000000,
            "count": 1
           },
           {
            "bin_end": 1553953034000000000,
            "bin_start": 1553729364600000000,
            "count": 1
           }
          ],
          "max": "2019-03-30 13:37:14",
          "min": "2019-03-04 16:19:00",
          "nan_count": 0,
          "unique_count": 5
         }
        },
        {
         "dtype": "int64",
         "name": "passengers",
         "stats": {
          "histogram": [
           {
            "bin_end": 1.2,
            "bin_start": 1,
            "count": 4
           },
           {
            "bin_end": 1.4,
            "bin_start": 1.2,
            "count": 0
           },
           {
            "bin_end": 1.6,
            "bin_start": 1.4,
            "count": 0
           },
           {
            "bin_end": 1.8,
            "bin_start": 1.6,
            "count": 0
           },
           {
            "bin_end": 2,
            "bin_start": 1.8,
            "count": 0
           },
           {
            "bin_end": 2.2,
            "bin_start": 2,
            "count": 0
           },
           {
            "bin_end": 2.4000000000000004,
            "bin_start": 2.2,
            "count": 0
           },
           {
            "bin_end": 2.6,
            "bin_start": 2.4000000000000004,
            "count": 0
           },
           {
            "bin_end": 2.8,
            "bin_start": 2.6,
            "count": 0
           },
           {
            "bin_end": 3,
            "bin_start": 2.8,
            "count": 1
           }
          ],
          "max": "3",
          "min": "1",
          "nan_count": 0,
          "unique_count": 2
         }
        },
        {
         "dtype": "float64",
         "name": "distance",
         "stats": {
          "histogram": [
           {
            "bin_end": 1.481,
            "bin_start": 0.79,
            "count": 2
           },
           {
            "bin_end": 2.172,
            "bin_start": 1.481,
            "count": 2
           },
           {
            "bin_end": 2.8630000000000004,
            "bin_start": 2.172,
            "count": 0
           },
           {
            "bin_end": 3.5540000000000003,
            "bin_start": 2.8630000000000004,
            "count": 0
           },
           {
            "bin_end": 4.245,
            "bin_start": 3.5540000000000003,
            "count": 0
           },
           {
            "bin_end": 4.936000000000001,
            "bin_start": 4.245,
            "count": 0
           },
           {
            "bin_end": 5.627000000000001,
            "bin_start": 4.936000000000001,
            "count": 0
           },
           {
            "bin_end": 6.3180000000000005,
            "bin_start": 5.627000000000001,
            "count": 0
           },
           {
            "bin_end": 7.009,
            "bin_start": 6.3180000000000005,
            "count": 0
           },
           {
            "bin_end": 7.7,
            "bin_start": 7.009,
            "count": 1
           }
          ],
          "max": "7.7",
          "min": "0.79",
          "nan_count": 0,
          "unique_count": 5
         }
        },
        {
         "dtype": "float64",
         "name": "fare",
         "stats": {
          "histogram": [
           {
            "bin_end": 7.2,
            "bin_start": 5,
            "count": 2
           },
           {
            "bin_end": 9.4,
            "bin_start": 7.2,
            "count": 2
           },
           {
            "bin_end": 11.600000000000001,
            "bin_start": 9.4,
            "count": 0
           },
           {
            "bin_end": 13.8,
            "bin_start": 11.600000000000001,
            "count": 0
           },
           {
            "bin_end": 16,
            "bin_start": 13.8,
            "count": 0
           },
           {
            "bin_end": 18.200000000000003,
            "bin_start": 16,
            "count": 0
           },
           {
            "bin_end": 20.400000000000002,
            "bin_start": 18.200000000000003,
            "count": 0
           },
           {
            "bin_end": 22.6,
            "bin_start": 20.400000000000002,
            "count": 0
           },
           {
            "bin_end": 24.8,
            "bin_start": 22.6,
            "count": 0
           },
           {
            "bin_end": 27,
            "bin_start": 24.8,
            "count": 1
           }
          ],
          "max": "27.0",
          "min": "5.0",
          "nan_count": 0,
          "unique_count": 5
         }
        },
        {
         "dtype": "float64",
         "name": "tip",
         "stats": {
          "histogram": [
           {
            "bin_end": 0.236,
            "bin_start": 0,
            "count": 1
           },
           {
            "bin_end": 0.472,
            "bin_start": 0.236,
            "count": 0
           },
           {
            "bin_end": 0.708,
            "bin_start": 0.472,
            "count": 0
           },
           {
            "bin_end": 0.944,
            "bin_start": 0.708,
            "count": 0
           },
           {
            "bin_end": 1.18,
            "bin_start": 0.944,
            "count": 1
           },
           {
            "bin_end": 1.416,
            "bin_start": 1.18,
            "count": 0
           },
           {
            "bin_end": 1.652,
            "bin_start": 1.416,
            "count": 0
           },
           {
            "bin_end": 1.888,
            "bin_start": 1.652,
            "count": 0
           },
           {
            "bin_end": 2.1239999999999997,
            "bin_start": 1.888,
            "count": 0
           },
           {
            "bin_end": 2.36,
            "bin_start": 2.1239999999999997,
            "count": 2
           }
          ],
          "max": "2.36",
          "min": "0.0",
          "nan_count": 1,
          "unique_count": 4
         }
        },
        {
         "dtype": "float64",
         "name": "tolls",
         "stats": {
          "histogram": [
           {
            "bin_end": -0.4,
            "bin_start": -0.5,
            "count": 0
           },
           {
            "bin_end": -0.3,
            "bin_start": -0.4,
            "count": 0
           },
           {
            "bin_end": -0.19999999999999996,
            "bin_start": -0.3,
            "count": 0
           },
           {
            "bin_end": -0.09999999999999998,
            "bin_start": -0.19999999999999996,
            "count": 0
           },
           {
            "bin_end": 0,
            "bin_start": -0.09999999999999998,
            "count": 0
           },
           {
            "bin_end": 0.10000000000000009,
            "bin_start": 0,
            "count": 5
           },
           {
            "bin_end": 0.20000000000000007,
            "bin_start": 0.10000000000000009,
            "count": 0
           },
           {
            "bin_end": 0.30000000000000004,
            "bin_start": 0.20000000000000007,
            "count": 0
           },
           {
            "bin_end": 0.4,
            "bin_start": 0.30000000000000004,
            "count": 0
           },
           {
            "bin_end": 0.5,
            "bin_start": 0.4,
            "count": 0
           }
          ],
          "max": "0.0",
          "min": "0.0",
          "nan_count": 0,
          "unique_count": 1
         }
        },
        {
         "dtype": "float64",
         "name": "total",
         "stats": {
          "histogram": [
           {
            "bin_end": 12.065000000000001,
            "bin_start": 9.3,
            "count": 1
           },
           {
            "bin_end": 14.830000000000002,
            "bin_start": 12.065000000000001,
            "count": 3
           },
           {
            "bin_end": 17.595,
            "bin_start": 14.830000000000002,
            "count": 0
           },
           {
            "bin_end": 20.36,
            "bin_start": 17.595,
            "count": 0
           },
           {
            "bin_end": 23.125,
            "bin_start": 20.36,
            "count": 0
           },
           {
            "bin_end": 25.89,
            "bin_start": 23.125,
            "count": 0
           },
           {
            "bin_end": 28.655,
            "bin_start": 25.89,
            "count": 0
           },
           {
            "bin_end": 31.42,
            "bin_start": 28.655,
            "count": 0
           },
           {
            "bin_end": 34.185,
            "bin_start": 31.42,
            "count": 0
           },
           {
            "bin_end": 36.95,
            "bin_start": 34.185,
            "count": 1
           }
          ],
          "max": "36.95",
          "min": "9.3",
          "nan_count": 0,
          "unique_count": 5
         }
        },
        {
         "dtype": "object",
         "name": "color",
         "stats": {
          "categories": [
           {
            "count": 5,
            "name": "yellow"
           }
          ],
          "nan_count": 0,
          "unique_count": 1
         }
        },
        {
         "dtype": "object",
         "name": "payment",
         "stats": {
          "categories": [
           {
            "count": 4,
            "name": "credit card"
           },
           {
            "count": 1,
            "name": "cash"
           }
          ],
          "nan_count": 0,
          "unique_count": 2
         }
        },
        {
         "dtype": "object",
         "name": "pickup_zone",
         "stats": {
          "categories": [
           {
            "count": 1,
            "name": "Lenox Hill West"
           },
           {
            "count": 1,
            "name": "Upper West Side South"
           },
           {
            "count": 3,
            "name": "3 others"
           }
          ],
          "nan_count": 0,
          "unique_count": 5
         }
        },
        {
         "dtype": "object",
         "name": "dropoff_zone",
         "stats": {
          "categories": [
           {
            "count": 2,
            "name": "Yorkville West"
           },
           {
            "count": 1,
            "name": "UN/Turtle Bay South"
           },
           {
            "count": 2,
            "name": "2 others"
           }
          ],
          "nan_count": 0,
          "unique_count": 4
         }
        },
        {
         "dtype": "object",
         "name": "pickup_borough",
         "stats": {
          "categories": [
           {
            "count": 5,
            "name": "Manhattan"
           }
          ],
          "nan_count": 0,
          "unique_count": 1
         }
        },
        {
         "dtype": "object",
         "name": "dropoff_borough",
         "stats": {
          "categories": [
           {
            "count": 5,
            "name": "Manhattan"
           }
          ],
          "nan_count": 0,
          "unique_count": 1
         }
        },
        {
         "dtype": "int64",
         "name": "_deepnote_index_column"
        }
       ],
       "row_count": 5,
       "rows": [
        {
         "_deepnote_index_column": "0",
         "color": "yellow",
         "distance": "1.6",
         "dropoff": "2019-03-23 20:27:24",
         "dropoff_borough": "Manhattan",
         "dropoff_zone": "UN/Turtle Bay South",
         "fare": "7.0",
         "passengers": "1",
         "payment": "credit card",
         "pickup": "2019-03-23 20:21:09",
         "pickup_borough": "Manhattan",
         "pickup_zone": "Lenox Hill West",
         "tip": "2.15",
         "tolls": "0.0",
         "total": "12.95"
        },
        {
         "_deepnote_index_column": "1",
         "color": "yellow",
         "distance": "0.79",
         "dropoff": "2019-03-04 16:19:00",
         "dropoff_borough": "Manhattan",
         "dropoff_zone": "Upper West Side South",
         "fare": "5.0",
         "passengers": "1",
         "payment": "cash",
         "pickup": "2019-03-04 16:11:55",
         "pickup_borough": "Manhattan",
         "pickup_zone": "Upper West Side South",
         "tip": "0.0",
         "tolls": "0.0",
         "total": "9.3"
        },
        {
         "_deepnote_index_column": "2",
         "color": "yellow",
         "distance": "1.37",
         "dropoff": "2019-03-27 18:00:25",
         "dropoff_borough": "Manhattan",
         "dropoff_zone": "West Village",
         "fare": "7.5",
         "passengers": "1",
         "payment": "credit card",
         "pickup": "2019-03-27 17:53:01",
         "pickup_borough": "Manhattan",
         "pickup_zone": "Alphabet City",
         "tip": "2.36",
         "tolls": "0.0",
         "total": "14.16"
        },
        {
         "_deepnote_index_column": "3",
         "color": "yellow",
         "distance": "7.7",
         "dropoff": "2019-03-10 01:49:51",
         "dropoff_borough": "Manhattan",
         "dropoff_zone": "Yorkville West",
         "fare": "27.0",
         "passengers": "1",
         "payment": "credit card",
         "pickup": "2019-03-10 01:23:59",
         "pickup_borough": "Manhattan",
         "pickup_zone": "Hudson Sq",
         "tip": "nan",
         "tolls": "0.0",
         "total": "36.95"
        },
        {
         "_deepnote_index_column": "4",
         "color": "yellow",
         "distance": "2.16",
         "dropoff": "2019-03-30 13:37:14",
         "dropoff_borough": "Manhattan",
         "dropoff_zone": "Yorkville West",
         "fare": "9.0",
         "passengers": "3",
         "payment": "credit card",
         "pickup": "2019-03-30 13:27:42",
         "pickup_borough": "Manhattan",
         "pickup_zone": "Midtown East",
         "tip": "1.1",
         "tolls": "0.0",
         "total": "13.4"
        }
       ]
      },
      "text/html": [
       "<div>\n",
       "<style scoped>\n",
       "    .dataframe tbody tr th:only-of-type {\n",
       "        vertical-align: middle;\n",
       "    }\n",
       "\n",
       "    .dataframe tbody tr th {\n",
       "        vertical-align: top;\n",
       "    }\n",
       "\n",
       "    .dataframe thead th {\n",
       "        text-align: right;\n",
       "    }\n",
       "</style>\n",
       "<table border=\"1\" class=\"dataframe\">\n",
       "  <thead>\n",
       "    <tr style=\"text-align: right;\">\n",
       "      <th></th>\n",
       "      <th>pickup</th>\n",
       "      <th>dropoff</th>\n",
       "      <th>passengers</th>\n",
       "      <th>distance</th>\n",
       "      <th>fare</th>\n",
       "      <th>tip</th>\n",
       "      <th>tolls</th>\n",
       "      <th>total</th>\n",
       "      <th>color</th>\n",
       "      <th>payment</th>\n",
       "      <th>pickup_zone</th>\n",
       "      <th>dropoff_zone</th>\n",
       "      <th>pickup_borough</th>\n",
       "      <th>dropoff_borough</th>\n",
       "    </tr>\n",
       "  </thead>\n",
       "  <tbody>\n",
       "    <tr>\n",
       "      <th>0</th>\n",
       "      <td>2019-03-23 20:21:09</td>\n",
       "      <td>2019-03-23 20:27:24</td>\n",
       "      <td>1</td>\n",
       "      <td>1.60</td>\n",
       "      <td>7.0</td>\n",
       "      <td>2.15</td>\n",
       "      <td>0.0</td>\n",
       "      <td>12.95</td>\n",
       "      <td>yellow</td>\n",
       "      <td>credit card</td>\n",
       "      <td>Lenox Hill West</td>\n",
       "      <td>UN/Turtle Bay South</td>\n",
       "      <td>Manhattan</td>\n",
       "      <td>Manhattan</td>\n",
       "    </tr>\n",
       "    <tr>\n",
       "      <th>1</th>\n",
       "      <td>2019-03-04 16:11:55</td>\n",
       "      <td>2019-03-04 16:19:00</td>\n",
       "      <td>1</td>\n",
       "      <td>0.79</td>\n",
       "      <td>5.0</td>\n",
       "      <td>0.00</td>\n",
       "      <td>0.0</td>\n",
       "      <td>9.30</td>\n",
       "      <td>yellow</td>\n",
       "      <td>cash</td>\n",
       "      <td>Upper West Side South</td>\n",
       "      <td>Upper West Side South</td>\n",
       "      <td>Manhattan</td>\n",
       "      <td>Manhattan</td>\n",
       "    </tr>\n",
       "    <tr>\n",
       "      <th>2</th>\n",
       "      <td>2019-03-27 17:53:01</td>\n",
       "      <td>2019-03-27 18:00:25</td>\n",
       "      <td>1</td>\n",
       "      <td>1.37</td>\n",
       "      <td>7.5</td>\n",
       "      <td>2.36</td>\n",
       "      <td>0.0</td>\n",
       "      <td>14.16</td>\n",
       "      <td>yellow</td>\n",
       "      <td>credit card</td>\n",
       "      <td>Alphabet City</td>\n",
       "      <td>West Village</td>\n",
       "      <td>Manhattan</td>\n",
       "      <td>Manhattan</td>\n",
       "    </tr>\n",
       "    <tr>\n",
       "      <th>3</th>\n",
       "      <td>2019-03-10 01:23:59</td>\n",
       "      <td>2019-03-10 01:49:51</td>\n",
       "      <td>1</td>\n",
       "      <td>7.70</td>\n",
       "      <td>27.0</td>\n",
       "      <td>NaN</td>\n",
       "      <td>0.0</td>\n",
       "      <td>36.95</td>\n",
       "      <td>yellow</td>\n",
       "      <td>credit card</td>\n",
       "      <td>Hudson Sq</td>\n",
       "      <td>Yorkville West</td>\n",
       "      <td>Manhattan</td>\n",
       "      <td>Manhattan</td>\n",
       "    </tr>\n",
       "    <tr>\n",
       "      <th>4</th>\n",
       "      <td>2019-03-30 13:27:42</td>\n",
       "      <td>2019-03-30 13:37:14</td>\n",
       "      <td>3</td>\n",
       "      <td>2.16</td>\n",
       "      <td>9.0</td>\n",
       "      <td>1.10</td>\n",
       "      <td>0.0</td>\n",
       "      <td>13.40</td>\n",
       "      <td>yellow</td>\n",
       "      <td>credit card</td>\n",
       "      <td>Midtown East</td>\n",
       "      <td>Yorkville West</td>\n",
       "      <td>Manhattan</td>\n",
       "      <td>Manhattan</td>\n",
       "    </tr>\n",
       "  </tbody>\n",
       "</table>\n",
       "</div>"
      ],
      "text/plain": [
       "               pickup             dropoff  passengers  distance  fare   tip  \\\n",
       "0 2019-03-23 20:21:09 2019-03-23 20:27:24           1      1.60   7.0  2.15   \n",
       "1 2019-03-04 16:11:55 2019-03-04 16:19:00           1      0.79   5.0  0.00   \n",
       "2 2019-03-27 17:53:01 2019-03-27 18:00:25           1      1.37   7.5  2.36   \n",
       "3 2019-03-10 01:23:59 2019-03-10 01:49:51           1      7.70  27.0   NaN   \n",
       "4 2019-03-30 13:27:42 2019-03-30 13:37:14           3      2.16   9.0  1.10   \n",
       "\n",
       "   tolls  total   color      payment            pickup_zone  \\\n",
       "0    0.0  12.95  yellow  credit card        Lenox Hill West   \n",
       "1    0.0   9.30  yellow         cash  Upper West Side South   \n",
       "2    0.0  14.16  yellow  credit card          Alphabet City   \n",
       "3    0.0  36.95  yellow  credit card              Hudson Sq   \n",
       "4    0.0  13.40  yellow  credit card           Midtown East   \n",
       "\n",
       "            dropoff_zone pickup_borough dropoff_borough  \n",
       "0    UN/Turtle Bay South      Manhattan       Manhattan  \n",
       "1  Upper West Side South      Manhattan       Manhattan  \n",
       "2           West Village      Manhattan       Manhattan  \n",
       "3         Yorkville West      Manhattan       Manhattan  \n",
       "4         Yorkville West      Manhattan       Manhattan  "
      ]
     },
     "execution_count": 9,
     "metadata": {},
     "output_type": "execute_result"
    }
   ],
   "source": [
    "df.head()"
   ]
  },
  {
   "cell_type": "markdown",
   "metadata": {
    "cell_id": "465b1fd6d0f34194a765f2cbc14a0b32",
    "deepnote_cell_type": "markdown"
   },
   "source": [
    "* Look at the first few rows of `df.isna()`.  Can you recognize the effect of the missing value we inserted?"
   ]
  },
  {
   "cell_type": "markdown",
   "metadata": {},
   "source": [
    "Notice how in the row `3` and the column `\"tip\"` we have a `True`, corresponding to this missing value."
   ]
  },
  {
   "cell_type": "code",
   "execution_count": 10,
   "metadata": {
    "cell_id": "2e0d246dadac4ddfa5320eb945743365",
    "deepnote_cell_type": "code",
    "deepnote_to_be_reexecuted": false,
    "execution_millis": 175,
    "execution_start": 1682366873231,
    "source_hash": "6bf2de06",
    "tags": [
     "output_scroll"
    ]
   },
   "outputs": [
    {
     "data": {
      "application/vnd.deepnote.dataframe.v3+json": {
       "column_count": 14,
       "columns": [
        {
         "dtype": "bool",
         "name": "pickup",
         "stats": {
          "categories": [
           {
            "count": 6433,
            "name": "False"
           }
          ],
          "nan_count": 0,
          "unique_count": 1
         }
        },
        {
         "dtype": "bool",
         "name": "dropoff",
         "stats": {
          "categories": [
           {
            "count": 6433,
            "name": "False"
           }
          ],
          "nan_count": 0,
          "unique_count": 1
         }
        },
        {
         "dtype": "bool",
         "name": "passengers",
         "stats": {
          "categories": [
           {
            "count": 6433,
            "name": "False"
           }
          ],
          "nan_count": 0,
          "unique_count": 1
         }
        },
        {
         "dtype": "bool",
         "name": "distance",
         "stats": {
          "categories": [
           {
            "count": 6433,
            "name": "False"
           }
          ],
          "nan_count": 0,
          "unique_count": 1
         }
        },
        {
         "dtype": "bool",
         "name": "fare",
         "stats": {
          "categories": [
           {
            "count": 6433,
            "name": "False"
           }
          ],
          "nan_count": 0,
          "unique_count": 1
         }
        },
        {
         "dtype": "bool",
         "name": "tip",
         "stats": {
          "categories": [
           {
            "count": 6432,
            "name": "False"
           },
           {
            "count": 1,
            "name": "True"
           }
          ],
          "nan_count": 0,
          "unique_count": 2
         }
        },
        {
         "dtype": "bool",
         "name": "tolls",
         "stats": {
          "categories": [
           {
            "count": 6433,
            "name": "False"
           }
          ],
          "nan_count": 0,
          "unique_count": 1
         }
        },
        {
         "dtype": "bool",
         "name": "total",
         "stats": {
          "categories": [
           {
            "count": 6433,
            "name": "False"
           }
          ],
          "nan_count": 0,
          "unique_count": 1
         }
        },
        {
         "dtype": "bool",
         "name": "color",
         "stats": {
          "categories": [
           {
            "count": 6433,
            "name": "False"
           }
          ],
          "nan_count": 0,
          "unique_count": 1
         }
        },
        {
         "dtype": "bool",
         "name": "payment",
         "stats": {
          "categories": [
           {
            "count": 6389,
            "name": "False"
           },
           {
            "count": 44,
            "name": "True"
           }
          ],
          "nan_count": 0,
          "unique_count": 2
         }
        },
        {
         "dtype": "bool",
         "name": "pickup_zone",
         "stats": {
          "categories": [
           {
            "count": 6407,
            "name": "False"
           },
           {
            "count": 26,
            "name": "True"
           }
          ],
          "nan_count": 0,
          "unique_count": 2
         }
        },
        {
         "dtype": "bool",
         "name": "dropoff_zone",
         "stats": {
          "categories": [
           {
            "count": 6388,
            "name": "False"
           },
           {
            "count": 45,
            "name": "True"
           }
          ],
          "nan_count": 0,
          "unique_count": 2
         }
        },
        {
         "dtype": "bool",
         "name": "pickup_borough",
         "stats": {
          "categories": [
           {
            "count": 6407,
            "name": "False"
           },
           {
            "count": 26,
            "name": "True"
           }
          ],
          "nan_count": 0,
          "unique_count": 2
         }
        },
        {
         "dtype": "bool",
         "name": "dropoff_borough",
         "stats": {
          "categories": [
           {
            "count": 6388,
            "name": "False"
           },
           {
            "count": 45,
            "name": "True"
           }
          ],
          "nan_count": 0,
          "unique_count": 2
         }
        },
        {
         "dtype": "int64",
         "name": "_deepnote_index_column"
        }
       ],
       "row_count": 6433,
       "rows": [
        {
         "_deepnote_index_column": "0",
         "color": "False",
         "distance": "False",
         "dropoff": "False",
         "dropoff_borough": "False",
         "dropoff_zone": "False",
         "fare": "False",
         "passengers": "False",
         "payment": "False",
         "pickup": "False",
         "pickup_borough": "False",
         "pickup_zone": "False",
         "tip": "False",
         "tolls": "False",
         "total": "False"
        },
        {
         "_deepnote_index_column": "1",
         "color": "False",
         "distance": "False",
         "dropoff": "False",
         "dropoff_borough": "False",
         "dropoff_zone": "False",
         "fare": "False",
         "passengers": "False",
         "payment": "False",
         "pickup": "False",
         "pickup_borough": "False",
         "pickup_zone": "False",
         "tip": "False",
         "tolls": "False",
         "total": "False"
        },
        {
         "_deepnote_index_column": "2",
         "color": "False",
         "distance": "False",
         "dropoff": "False",
         "dropoff_borough": "False",
         "dropoff_zone": "False",
         "fare": "False",
         "passengers": "False",
         "payment": "False",
         "pickup": "False",
         "pickup_borough": "False",
         "pickup_zone": "False",
         "tip": "False",
         "tolls": "False",
         "total": "False"
        },
        {
         "_deepnote_index_column": "3",
         "color": "False",
         "distance": "False",
         "dropoff": "False",
         "dropoff_borough": "False",
         "dropoff_zone": "False",
         "fare": "False",
         "passengers": "False",
         "payment": "False",
         "pickup": "False",
         "pickup_borough": "False",
         "pickup_zone": "False",
         "tip": "True",
         "tolls": "False",
         "total": "False"
        },
        {
         "_deepnote_index_column": "4",
         "color": "False",
         "distance": "False",
         "dropoff": "False",
         "dropoff_borough": "False",
         "dropoff_zone": "False",
         "fare": "False",
         "passengers": "False",
         "payment": "False",
         "pickup": "False",
         "pickup_borough": "False",
         "pickup_zone": "False",
         "tip": "False",
         "tolls": "False",
         "total": "False"
        },
        {
         "_deepnote_index_column": "5",
         "color": "False",
         "distance": "False",
         "dropoff": "False",
         "dropoff_borough": "False",
         "dropoff_zone": "False",
         "fare": "False",
         "passengers": "False",
         "payment": "False",
         "pickup": "False",
         "pickup_borough": "False",
         "pickup_zone": "False",
         "tip": "False",
         "tolls": "False",
         "total": "False"
        },
        {
         "_deepnote_index_column": "6",
         "color": "False",
         "distance": "False",
         "dropoff": "False",
         "dropoff_borough": "False",
         "dropoff_zone": "False",
         "fare": "False",
         "passengers": "False",
         "payment": "False",
         "pickup": "False",
         "pickup_borough": "False",
         "pickup_zone": "False",
         "tip": "False",
         "tolls": "False",
         "total": "False"
        },
        {
         "_deepnote_index_column": "7",
         "color": "False",
         "distance": "False",
         "dropoff": "False",
         "dropoff_borough": "False",
         "dropoff_zone": "False",
         "fare": "False",
         "passengers": "False",
         "payment": "True",
         "pickup": "False",
         "pickup_borough": "False",
         "pickup_zone": "False",
         "tip": "False",
         "tolls": "False",
         "total": "False"
        },
        {
         "_deepnote_index_column": "8",
         "color": "False",
         "distance": "False",
         "dropoff": "False",
         "dropoff_borough": "False",
         "dropoff_zone": "False",
         "fare": "False",
         "passengers": "False",
         "payment": "False",
         "pickup": "False",
         "pickup_borough": "False",
         "pickup_zone": "False",
         "tip": "False",
         "tolls": "False",
         "total": "False"
        },
        {
         "_deepnote_index_column": "9",
         "color": "False",
         "distance": "False",
         "dropoff": "False",
         "dropoff_borough": "False",
         "dropoff_zone": "False",
         "fare": "False",
         "passengers": "False",
         "payment": "False",
         "pickup": "False",
         "pickup_borough": "False",
         "pickup_zone": "False",
         "tip": "False",
         "tolls": "False",
         "total": "False"
        }
       ]
      },
      "text/html": [
       "<div>\n",
       "<style scoped>\n",
       "    .dataframe tbody tr th:only-of-type {\n",
       "        vertical-align: middle;\n",
       "    }\n",
       "\n",
       "    .dataframe tbody tr th {\n",
       "        vertical-align: top;\n",
       "    }\n",
       "\n",
       "    .dataframe thead th {\n",
       "        text-align: right;\n",
       "    }\n",
       "</style>\n",
       "<table border=\"1\" class=\"dataframe\">\n",
       "  <thead>\n",
       "    <tr style=\"text-align: right;\">\n",
       "      <th></th>\n",
       "      <th>pickup</th>\n",
       "      <th>dropoff</th>\n",
       "      <th>passengers</th>\n",
       "      <th>distance</th>\n",
       "      <th>fare</th>\n",
       "      <th>tip</th>\n",
       "      <th>tolls</th>\n",
       "      <th>total</th>\n",
       "      <th>color</th>\n",
       "      <th>payment</th>\n",
       "      <th>pickup_zone</th>\n",
       "      <th>dropoff_zone</th>\n",
       "      <th>pickup_borough</th>\n",
       "      <th>dropoff_borough</th>\n",
       "    </tr>\n",
       "  </thead>\n",
       "  <tbody>\n",
       "    <tr>\n",
       "      <th>0</th>\n",
       "      <td>False</td>\n",
       "      <td>False</td>\n",
       "      <td>False</td>\n",
       "      <td>False</td>\n",
       "      <td>False</td>\n",
       "      <td>False</td>\n",
       "      <td>False</td>\n",
       "      <td>False</td>\n",
       "      <td>False</td>\n",
       "      <td>False</td>\n",
       "      <td>False</td>\n",
       "      <td>False</td>\n",
       "      <td>False</td>\n",
       "      <td>False</td>\n",
       "    </tr>\n",
       "    <tr>\n",
       "      <th>1</th>\n",
       "      <td>False</td>\n",
       "      <td>False</td>\n",
       "      <td>False</td>\n",
       "      <td>False</td>\n",
       "      <td>False</td>\n",
       "      <td>False</td>\n",
       "      <td>False</td>\n",
       "      <td>False</td>\n",
       "      <td>False</td>\n",
       "      <td>False</td>\n",
       "      <td>False</td>\n",
       "      <td>False</td>\n",
       "      <td>False</td>\n",
       "      <td>False</td>\n",
       "    </tr>\n",
       "    <tr>\n",
       "      <th>2</th>\n",
       "      <td>False</td>\n",
       "      <td>False</td>\n",
       "      <td>False</td>\n",
       "      <td>False</td>\n",
       "      <td>False</td>\n",
       "      <td>False</td>\n",
       "      <td>False</td>\n",
       "      <td>False</td>\n",
       "      <td>False</td>\n",
       "      <td>False</td>\n",
       "      <td>False</td>\n",
       "      <td>False</td>\n",
       "      <td>False</td>\n",
       "      <td>False</td>\n",
       "    </tr>\n",
       "    <tr>\n",
       "      <th>3</th>\n",
       "      <td>False</td>\n",
       "      <td>False</td>\n",
       "      <td>False</td>\n",
       "      <td>False</td>\n",
       "      <td>False</td>\n",
       "      <td>True</td>\n",
       "      <td>False</td>\n",
       "      <td>False</td>\n",
       "      <td>False</td>\n",
       "      <td>False</td>\n",
       "      <td>False</td>\n",
       "      <td>False</td>\n",
       "      <td>False</td>\n",
       "      <td>False</td>\n",
       "    </tr>\n",
       "    <tr>\n",
       "      <th>4</th>\n",
       "      <td>False</td>\n",
       "      <td>False</td>\n",
       "      <td>False</td>\n",
       "      <td>False</td>\n",
       "      <td>False</td>\n",
       "      <td>False</td>\n",
       "      <td>False</td>\n",
       "      <td>False</td>\n",
       "      <td>False</td>\n",
       "      <td>False</td>\n",
       "      <td>False</td>\n",
       "      <td>False</td>\n",
       "      <td>False</td>\n",
       "      <td>False</td>\n",
       "    </tr>\n",
       "    <tr>\n",
       "      <th>...</th>\n",
       "      <td>...</td>\n",
       "      <td>...</td>\n",
       "      <td>...</td>\n",
       "      <td>...</td>\n",
       "      <td>...</td>\n",
       "      <td>...</td>\n",
       "      <td>...</td>\n",
       "      <td>...</td>\n",
       "      <td>...</td>\n",
       "      <td>...</td>\n",
       "      <td>...</td>\n",
       "      <td>...</td>\n",
       "      <td>...</td>\n",
       "      <td>...</td>\n",
       "    </tr>\n",
       "    <tr>\n",
       "      <th>6428</th>\n",
       "      <td>False</td>\n",
       "      <td>False</td>\n",
       "      <td>False</td>\n",
       "      <td>False</td>\n",
       "      <td>False</td>\n",
       "      <td>False</td>\n",
       "      <td>False</td>\n",
       "      <td>False</td>\n",
       "      <td>False</td>\n",
       "      <td>False</td>\n",
       "      <td>False</td>\n",
       "      <td>False</td>\n",
       "      <td>False</td>\n",
       "      <td>False</td>\n",
       "    </tr>\n",
       "    <tr>\n",
       "      <th>6429</th>\n",
       "      <td>False</td>\n",
       "      <td>False</td>\n",
       "      <td>False</td>\n",
       "      <td>False</td>\n",
       "      <td>False</td>\n",
       "      <td>False</td>\n",
       "      <td>False</td>\n",
       "      <td>False</td>\n",
       "      <td>False</td>\n",
       "      <td>False</td>\n",
       "      <td>False</td>\n",
       "      <td>False</td>\n",
       "      <td>False</td>\n",
       "      <td>False</td>\n",
       "    </tr>\n",
       "    <tr>\n",
       "      <th>6430</th>\n",
       "      <td>False</td>\n",
       "      <td>False</td>\n",
       "      <td>False</td>\n",
       "      <td>False</td>\n",
       "      <td>False</td>\n",
       "      <td>False</td>\n",
       "      <td>False</td>\n",
       "      <td>False</td>\n",
       "      <td>False</td>\n",
       "      <td>False</td>\n",
       "      <td>False</td>\n",
       "      <td>False</td>\n",
       "      <td>False</td>\n",
       "      <td>False</td>\n",
       "    </tr>\n",
       "    <tr>\n",
       "      <th>6431</th>\n",
       "      <td>False</td>\n",
       "      <td>False</td>\n",
       "      <td>False</td>\n",
       "      <td>False</td>\n",
       "      <td>False</td>\n",
       "      <td>False</td>\n",
       "      <td>False</td>\n",
       "      <td>False</td>\n",
       "      <td>False</td>\n",
       "      <td>False</td>\n",
       "      <td>False</td>\n",
       "      <td>False</td>\n",
       "      <td>False</td>\n",
       "      <td>False</td>\n",
       "    </tr>\n",
       "    <tr>\n",
       "      <th>6432</th>\n",
       "      <td>False</td>\n",
       "      <td>False</td>\n",
       "      <td>False</td>\n",
       "      <td>False</td>\n",
       "      <td>False</td>\n",
       "      <td>False</td>\n",
       "      <td>False</td>\n",
       "      <td>False</td>\n",
       "      <td>False</td>\n",
       "      <td>False</td>\n",
       "      <td>False</td>\n",
       "      <td>False</td>\n",
       "      <td>False</td>\n",
       "      <td>False</td>\n",
       "    </tr>\n",
       "  </tbody>\n",
       "</table>\n",
       "<p>6433 rows × 14 columns</p>\n",
       "</div>"
      ],
      "text/plain": [
       "      pickup  dropoff  passengers  distance   fare    tip  tolls  total  \\\n",
       "0      False    False       False     False  False  False  False  False   \n",
       "1      False    False       False     False  False  False  False  False   \n",
       "2      False    False       False     False  False  False  False  False   \n",
       "3      False    False       False     False  False   True  False  False   \n",
       "4      False    False       False     False  False  False  False  False   \n",
       "...      ...      ...         ...       ...    ...    ...    ...    ...   \n",
       "6428   False    False       False     False  False  False  False  False   \n",
       "6429   False    False       False     False  False  False  False  False   \n",
       "6430   False    False       False     False  False  False  False  False   \n",
       "6431   False    False       False     False  False  False  False  False   \n",
       "6432   False    False       False     False  False  False  False  False   \n",
       "\n",
       "      color  payment  pickup_zone  dropoff_zone  pickup_borough  \\\n",
       "0     False    False        False         False           False   \n",
       "1     False    False        False         False           False   \n",
       "2     False    False        False         False           False   \n",
       "3     False    False        False         False           False   \n",
       "4     False    False        False         False           False   \n",
       "...     ...      ...          ...           ...             ...   \n",
       "6428  False    False        False         False           False   \n",
       "6429  False    False        False         False           False   \n",
       "6430  False    False        False         False           False   \n",
       "6431  False    False        False         False           False   \n",
       "6432  False    False        False         False           False   \n",
       "\n",
       "      dropoff_borough  \n",
       "0               False  \n",
       "1               False  \n",
       "2               False  \n",
       "3               False  \n",
       "4               False  \n",
       "...               ...  \n",
       "6428            False  \n",
       "6429            False  \n",
       "6430            False  \n",
       "6431            False  \n",
       "6432            False  \n",
       "\n",
       "[6433 rows x 14 columns]"
      ]
     },
     "execution_count": 10,
     "metadata": {},
     "output_type": "execute_result"
    }
   ],
   "source": [
    "df.isna()"
   ]
  },
  {
   "cell_type": "markdown",
   "metadata": {
    "cell_id": "2f2d5f4e5472482a91fb9d9329006445",
    "deepnote_cell_type": "markdown"
   },
   "source": [
    "* Write a function `is_missing` which takes as input `x` and as output returns `\"Missing\"` if `x` is `np.nan` and returns `x` otherwise.\n",
    "\n",
    "(I'm not sure the best way to make this work with string inputs, so you can assume the inputs are numeric.)"
   ]
  },
  {
   "cell_type": "markdown",
   "metadata": {},
   "source": [
    "Surprisingly, the following does not work, as we will see below."
   ]
  },
  {
   "cell_type": "code",
   "execution_count": 11,
   "metadata": {
    "cell_id": "2f3d552b35f64f02a141be55d00597f6",
    "deepnote_cell_type": "code",
    "deepnote_to_be_reexecuted": false,
    "execution_start": 1682367095800,
    "source_hash": "9dfcfe73"
   },
   "outputs": [],
   "source": [
    "def is_missing(x):\n",
    "    if x == np.nan:\n",
    "        return \"Missing\"\n",
    "    else:\n",
    "        return x"
   ]
  },
  {
   "cell_type": "markdown",
   "metadata": {},
   "source": [
    "It seems to work for the input `100`."
   ]
  },
  {
   "cell_type": "code",
   "execution_count": 12,
   "metadata": {
    "cell_id": "e99ad012c3a84f79802251ceb8d05bd5",
    "deepnote_cell_type": "code",
    "deepnote_to_be_reexecuted": false,
    "execution_millis": 42,
    "execution_start": 1682367115819,
    "source_hash": "7ff40ce4"
   },
   "outputs": [
    {
     "data": {
      "text/plain": [
       "100"
      ]
     },
     "execution_count": 12,
     "metadata": {},
     "output_type": "execute_result"
    }
   ],
   "source": [
    "is_missing(100)"
   ]
  },
  {
   "cell_type": "markdown",
   "metadata": {},
   "source": [
    "And it works for a string input."
   ]
  },
  {
   "cell_type": "code",
   "execution_count": 13,
   "metadata": {
    "cell_id": "91c8d0849a9a4a8c83af7ed7e2ed4628",
    "deepnote_cell_type": "code",
    "deepnote_to_be_reexecuted": false,
    "execution_millis": 5,
    "execution_start": 1682367124372,
    "source_hash": "1554c995"
   },
   "outputs": [
    {
     "data": {
      "text/plain": [
       "'chris'"
      ]
     },
     "execution_count": 13,
     "metadata": {},
     "output_type": "execute_result"
    }
   ],
   "source": [
    "is_missing(\"chris\")"
   ]
  },
  {
   "cell_type": "markdown",
   "metadata": {},
   "source": [
    "But it doesn't return the correct thing, `\"Missing\"`, for `np.nan` as the input."
   ]
  },
  {
   "cell_type": "code",
   "execution_count": 14,
   "metadata": {
    "cell_id": "a91db1ee69ba4e2388b50d0a06a1399f",
    "deepnote_cell_type": "code",
    "deepnote_to_be_reexecuted": false,
    "execution_millis": 7,
    "execution_start": 1682367134783,
    "source_hash": "cb1befd2"
   },
   "outputs": [
    {
     "data": {
      "text/plain": [
       "nan"
      ]
     },
     "execution_count": 14,
     "metadata": {},
     "output_type": "execute_result"
    }
   ],
   "source": [
    "# Surprise\n",
    "is_missing(np.nan)"
   ]
  },
  {
   "cell_type": "markdown",
   "metadata": {},
   "source": [
    "The problem is that `np.nan == np.nan` evaluates to `False`.  There is no way to know this in advance; it is just a convention.  The idea behind it is, say we wanted to know if two values were equal (say two people's salaries), and say they were both missing, would you want to consider those people as having equal salaries?  This isn't a proof by any means, just an explanation of why we might want this convention."
   ]
  },
  {
   "cell_type": "code",
   "execution_count": 15,
   "metadata": {
    "cell_id": "c0a1d3f6ede246578adaa08f60504a04",
    "deepnote_cell_type": "code",
    "deepnote_to_be_reexecuted": false,
    "execution_millis": 2,
    "execution_start": 1682367175072,
    "source_hash": "73223eb8"
   },
   "outputs": [
    {
     "data": {
      "text/plain": [
       "False"
      ]
     },
     "execution_count": 15,
     "metadata": {},
     "output_type": "execute_result"
    }
   ],
   "source": [
    "np.nan == np.nan"
   ]
  },
  {
   "cell_type": "markdown",
   "metadata": {},
   "source": [
    "Instead we will use the NumPy function `np.isnan`.  (This is the part that does not seem to work for string inputs.)  This is the NumPy analogue of the `df.isna()` method we used above."
   ]
  },
  {
   "cell_type": "code",
   "execution_count": 16,
   "metadata": {
    "cell_id": "a2d912f39e664a2faf7b39a27c096d3b",
    "deepnote_cell_type": "code",
    "deepnote_to_be_reexecuted": false,
    "execution_millis": 88,
    "execution_start": 1682367261493,
    "source_hash": "b5eaaf62"
   },
   "outputs": [],
   "source": [
    "def is_missing(x):\n",
    "    if np.isnan(x):\n",
    "        return \"Missing\"\n",
    "    else:\n",
    "        return x"
   ]
  },
  {
   "cell_type": "markdown",
   "metadata": {},
   "source": [
    "This still works for `10` as the input."
   ]
  },
  {
   "cell_type": "code",
   "execution_count": 17,
   "metadata": {
    "cell_id": "5e968c4af6b8414bb061a42a022797fa",
    "deepnote_cell_type": "code",
    "deepnote_to_be_reexecuted": false,
    "execution_millis": 2,
    "execution_start": 1682367265670,
    "source_hash": "eac2f952"
   },
   "outputs": [
    {
     "data": {
      "text/plain": [
       "10"
      ]
     },
     "execution_count": 17,
     "metadata": {},
     "output_type": "execute_result"
    }
   ],
   "source": [
    "is_missing(10)"
   ]
  },
  {
   "cell_type": "markdown",
   "metadata": {},
   "source": [
    "And now it is working for `np.nan` as input."
   ]
  },
  {
   "cell_type": "code",
   "execution_count": 18,
   "metadata": {
    "cell_id": "8075ad0f054b4a4d839c77f82b7b10fb",
    "deepnote_cell_type": "code",
    "deepnote_to_be_reexecuted": false,
    "execution_millis": 3,
    "execution_start": 1682367270513,
    "source_hash": "cb1befd2"
   },
   "outputs": [
    {
     "data": {
      "text/plain": [
       "'Missing'"
      ]
     },
     "execution_count": 18,
     "metadata": {},
     "output_type": "execute_result"
    }
   ],
   "source": [
    "is_missing(np.nan)"
   ]
  },
  {
   "cell_type": "markdown",
   "metadata": {
    "cell_id": "333965e4d6c44cdc99d0609f48e51f2c",
    "deepnote_cell_type": "markdown"
   },
   "source": [
    "* Apply `is_missing` to every entry in the columns from \"passengers\" to \"total\" using `applymap`."
   ]
  },
  {
   "cell_type": "markdown",
   "metadata": {},
   "source": [
    "Here is how we get those columns.  Surprising: `loc` slices include the right endpoint.  (That almost never happens in Python.)"
   ]
  },
  {
   "cell_type": "code",
   "execution_count": 19,
   "metadata": {
    "cell_id": "76d3c1adb98a4fc9a9805fd60fadb84f",
    "deepnote_cell_type": "code",
    "deepnote_to_be_reexecuted": false,
    "execution_millis": 41,
    "execution_start": 1682367438734,
    "source_hash": "8f9ba646"
   },
   "outputs": [
    {
     "data": {
      "application/vnd.deepnote.dataframe.v3+json": {
       "column_count": 6,
       "columns": [
        {
         "dtype": "int64",
         "name": "passengers",
         "stats": {
          "histogram": [
           {
            "bin_end": 0.6,
            "bin_start": 0,
            "count": 96
           },
           {
            "bin_end": 1.2,
            "bin_start": 0.6,
            "count": 4678
           },
           {
            "bin_end": 1.7999999999999998,
            "bin_start": 1.2,
            "count": 0
           },
           {
            "bin_end": 2.4,
            "bin_start": 1.7999999999999998,
            "count": 876
           },
           {
            "bin_end": 3,
            "bin_start": 2.4,
            "count": 0
           },
           {
            "bin_end": 3.5999999999999996,
            "bin_start": 3,
            "count": 243
           },
           {
            "bin_end": 4.2,
            "bin_start": 3.5999999999999996,
            "count": 110
           },
           {
            "bin_end": 4.8,
            "bin_start": 4.2,
            "count": 0
           },
           {
            "bin_end": 5.3999999999999995,
            "bin_start": 4.8,
            "count": 277
           },
           {
            "bin_end": 6,
            "bin_start": 5.3999999999999995,
            "count": 153
           }
          ],
          "max": "6",
          "min": "0",
          "nan_count": 0,
          "unique_count": 7
         }
        },
        {
         "dtype": "float64",
         "name": "distance",
         "stats": {
          "histogram": [
           {
            "bin_end": 3.6700000000000004,
            "bin_start": 0,
            "count": 5050
           },
           {
            "bin_end": 7.340000000000001,
            "bin_start": 3.6700000000000004,
            "count": 746
           },
           {
            "bin_end": 11.010000000000002,
            "bin_start": 7.340000000000001,
            "count": 319
           },
           {
            "bin_end": 14.680000000000001,
            "bin_start": 11.010000000000002,
            "count": 126
           },
           {
            "bin_end": 18.35,
            "bin_start": 14.680000000000001,
            "count": 103
           },
           {
            "bin_end": 22.020000000000003,
            "bin_start": 18.35,
            "count": 65
           },
           {
            "bin_end": 25.69,
            "bin_start": 22.020000000000003,
            "count": 15
           },
           {
            "bin_end": 29.360000000000003,
            "bin_start": 25.69,
            "count": 4
           },
           {
            "bin_end": 33.03,
            "bin_start": 29.360000000000003,
            "count": 1
           },
           {
            "bin_end": 36.7,
            "bin_start": 33.03,
            "count": 4
           }
          ],
          "max": "36.7",
          "min": "0.0",
          "nan_count": 0,
          "unique_count": 1079
         }
        },
        {
         "dtype": "float64",
         "name": "fare",
         "stats": {
          "histogram": [
           {
            "bin_end": 15.9,
            "bin_start": 1,
            "count": 4966
           },
           {
            "bin_end": 30.8,
            "bin_start": 15.9,
            "count": 983
           },
           {
            "bin_end": 45.7,
            "bin_start": 30.8,
            "count": 269
           },
           {
            "bin_end": 60.6,
            "bin_start": 45.7,
            "count": 184
           },
           {
            "bin_end": 75.5,
            "bin_start": 60.6,
            "count": 14
           },
           {
            "bin_end": 90.4,
            "bin_start": 75.5,
            "count": 8
           },
           {
            "bin_end": 105.3,
            "bin_start": 90.4,
            "count": 4
           },
           {
            "bin_end": 120.2,
            "bin_start": 105.3,
            "count": 1
           },
           {
            "bin_end": 135.1,
            "bin_start": 120.2,
            "count": 1
           },
           {
            "bin_end": 150,
            "bin_start": 135.1,
            "count": 3
           }
          ],
          "max": "150.0",
          "min": "1.0",
          "nan_count": 0,
          "unique_count": 220
         }
        },
        {
         "dtype": "float64",
         "name": "tip",
         "stats": {
          "histogram": [
           {
            "bin_end": 3.3200000000000003,
            "bin_start": 0,
            "count": 5315
           },
           {
            "bin_end": 6.640000000000001,
            "bin_start": 3.3200000000000003,
            "count": 825
           },
           {
            "bin_end": 9.96,
            "bin_start": 6.640000000000001,
            "count": 158
           },
           {
            "bin_end": 13.280000000000001,
            "bin_start": 9.96,
            "count": 107
           },
           {
            "bin_end": 16.6,
            "bin_start": 13.280000000000001,
            "count": 18
           },
           {
            "bin_end": 19.92,
            "bin_start": 16.6,
            "count": 3
           },
           {
            "bin_end": 23.240000000000002,
            "bin_start": 19.92,
            "count": 5
           },
           {
            "bin_end": 26.560000000000002,
            "bin_start": 23.240000000000002,
            "count": 0
           },
           {
            "bin_end": 29.880000000000003,
            "bin_start": 26.560000000000002,
            "count": 0
           },
           {
            "bin_end": 33.2,
            "bin_start": 29.880000000000003,
            "count": 1
           }
          ],
          "max": "33.2",
          "min": "0.0",
          "nan_count": 1,
          "unique_count": 489
         }
        },
        {
         "dtype": "float64",
         "name": "tolls",
         "stats": {
          "histogram": [
           {
            "bin_end": 2.402,
            "bin_start": 0,
            "count": 6083
           },
           {
            "bin_end": 4.804,
            "bin_start": 2.402,
            "count": 8
           },
           {
            "bin_end": 7.206,
            "bin_start": 4.804,
            "count": 329
           },
           {
            "bin_end": 9.608,
            "bin_start": 7.206,
            "count": 3
           },
           {
            "bin_end": 12.010000000000002,
            "bin_start": 9.608,
            "count": 4
           },
           {
            "bin_end": 14.412,
            "bin_start": 12.010000000000002,
            "count": 2
           },
           {
            "bin_end": 16.814,
            "bin_start": 14.412,
            "count": 1
           },
           {
            "bin_end": 19.216,
            "bin_start": 16.814,
            "count": 2
           },
           {
            "bin_end": 21.618000000000002,
            "bin_start": 19.216,
            "count": 0
           },
           {
            "bin_end": 24.02,
            "bin_start": 21.618000000000002,
            "count": 1
           }
          ],
          "max": "24.02",
          "min": "0.0",
          "nan_count": 0,
          "unique_count": 16
         }
        },
        {
         "dtype": "float64",
         "name": "total",
         "stats": {
          "histogram": [
           {
            "bin_end": 18.651999999999997,
            "bin_start": 1.3,
            "count": 4508
           },
           {
            "bin_end": 36.00399999999999,
            "bin_start": 18.651999999999997,
            "count": 1366
           },
           {
            "bin_end": 53.35599999999999,
            "bin_start": 36.00399999999999,
            "count": 307
           },
           {
            "bin_end": 70.70799999999998,
            "bin_start": 53.35599999999999,
            "count": 160
           },
           {
            "bin_end": 88.05999999999999,
            "bin_start": 70.70799999999998,
            "count": 78
           },
           {
            "bin_end": 105.41199999999998,
            "bin_start": 88.05999999999999,
            "count": 5
           },
           {
            "bin_end": 122.76399999999997,
            "bin_start": 105.41199999999998,
            "count": 2
           },
           {
            "bin_end": 140.11599999999999,
            "bin_start": 122.76399999999997,
            "count": 3
           },
           {
            "bin_end": 157.468,
            "bin_start": 140.11599999999999,
            "count": 1
           },
           {
            "bin_end": 174.82,
            "bin_start": 157.468,
            "count": 3
           }
          ],
          "max": "174.82",
          "min": "1.3",
          "nan_count": 0,
          "unique_count": 898
         }
        },
        {
         "dtype": "int64",
         "name": "_deepnote_index_column"
        }
       ],
       "row_count": 6433,
       "rows": [
        {
         "_deepnote_index_column": "0",
         "distance": "1.6",
         "fare": "7.0",
         "passengers": "1",
         "tip": "2.15",
         "tolls": "0.0",
         "total": "12.95"
        },
        {
         "_deepnote_index_column": "1",
         "distance": "0.79",
         "fare": "5.0",
         "passengers": "1",
         "tip": "0.0",
         "tolls": "0.0",
         "total": "9.3"
        },
        {
         "_deepnote_index_column": "2",
         "distance": "1.37",
         "fare": "7.5",
         "passengers": "1",
         "tip": "2.36",
         "tolls": "0.0",
         "total": "14.16"
        },
        {
         "_deepnote_index_column": "3",
         "distance": "7.7",
         "fare": "27.0",
         "passengers": "1",
         "tip": "nan",
         "tolls": "0.0",
         "total": "36.95"
        },
        {
         "_deepnote_index_column": "4",
         "distance": "2.16",
         "fare": "9.0",
         "passengers": "3",
         "tip": "1.1",
         "tolls": "0.0",
         "total": "13.4"
        },
        {
         "_deepnote_index_column": "5",
         "distance": "0.49",
         "fare": "7.5",
         "passengers": "1",
         "tip": "2.16",
         "tolls": "0.0",
         "total": "12.96"
        },
        {
         "_deepnote_index_column": "6",
         "distance": "3.65",
         "fare": "13.0",
         "passengers": "1",
         "tip": "2.0",
         "tolls": "0.0",
         "total": "18.8"
        },
        {
         "_deepnote_index_column": "7",
         "distance": "1.4",
         "fare": "8.5",
         "passengers": "0",
         "tip": "0.0",
         "tolls": "0.0",
         "total": "11.8"
        },
        {
         "_deepnote_index_column": "8",
         "distance": "3.63",
         "fare": "15.0",
         "passengers": "1",
         "tip": "1.0",
         "tolls": "0.0",
         "total": "19.3"
        },
        {
         "_deepnote_index_column": "9",
         "distance": "1.52",
         "fare": "8.0",
         "passengers": "1",
         "tip": "1.0",
         "tolls": "0.0",
         "total": "13.3"
        }
       ]
      },
      "text/html": [
       "<div>\n",
       "<style scoped>\n",
       "    .dataframe tbody tr th:only-of-type {\n",
       "        vertical-align: middle;\n",
       "    }\n",
       "\n",
       "    .dataframe tbody tr th {\n",
       "        vertical-align: top;\n",
       "    }\n",
       "\n",
       "    .dataframe thead th {\n",
       "        text-align: right;\n",
       "    }\n",
       "</style>\n",
       "<table border=\"1\" class=\"dataframe\">\n",
       "  <thead>\n",
       "    <tr style=\"text-align: right;\">\n",
       "      <th></th>\n",
       "      <th>passengers</th>\n",
       "      <th>distance</th>\n",
       "      <th>fare</th>\n",
       "      <th>tip</th>\n",
       "      <th>tolls</th>\n",
       "      <th>total</th>\n",
       "    </tr>\n",
       "  </thead>\n",
       "  <tbody>\n",
       "    <tr>\n",
       "      <th>0</th>\n",
       "      <td>1</td>\n",
       "      <td>1.60</td>\n",
       "      <td>7.0</td>\n",
       "      <td>2.15</td>\n",
       "      <td>0.0</td>\n",
       "      <td>12.95</td>\n",
       "    </tr>\n",
       "    <tr>\n",
       "      <th>1</th>\n",
       "      <td>1</td>\n",
       "      <td>0.79</td>\n",
       "      <td>5.0</td>\n",
       "      <td>0.00</td>\n",
       "      <td>0.0</td>\n",
       "      <td>9.30</td>\n",
       "    </tr>\n",
       "    <tr>\n",
       "      <th>2</th>\n",
       "      <td>1</td>\n",
       "      <td>1.37</td>\n",
       "      <td>7.5</td>\n",
       "      <td>2.36</td>\n",
       "      <td>0.0</td>\n",
       "      <td>14.16</td>\n",
       "    </tr>\n",
       "    <tr>\n",
       "      <th>3</th>\n",
       "      <td>1</td>\n",
       "      <td>7.70</td>\n",
       "      <td>27.0</td>\n",
       "      <td>NaN</td>\n",
       "      <td>0.0</td>\n",
       "      <td>36.95</td>\n",
       "    </tr>\n",
       "    <tr>\n",
       "      <th>4</th>\n",
       "      <td>3</td>\n",
       "      <td>2.16</td>\n",
       "      <td>9.0</td>\n",
       "      <td>1.10</td>\n",
       "      <td>0.0</td>\n",
       "      <td>13.40</td>\n",
       "    </tr>\n",
       "    <tr>\n",
       "      <th>...</th>\n",
       "      <td>...</td>\n",
       "      <td>...</td>\n",
       "      <td>...</td>\n",
       "      <td>...</td>\n",
       "      <td>...</td>\n",
       "      <td>...</td>\n",
       "    </tr>\n",
       "    <tr>\n",
       "      <th>6428</th>\n",
       "      <td>1</td>\n",
       "      <td>0.75</td>\n",
       "      <td>4.5</td>\n",
       "      <td>1.06</td>\n",
       "      <td>0.0</td>\n",
       "      <td>6.36</td>\n",
       "    </tr>\n",
       "    <tr>\n",
       "      <th>6429</th>\n",
       "      <td>1</td>\n",
       "      <td>18.74</td>\n",
       "      <td>58.0</td>\n",
       "      <td>0.00</td>\n",
       "      <td>0.0</td>\n",
       "      <td>58.80</td>\n",
       "    </tr>\n",
       "    <tr>\n",
       "      <th>6430</th>\n",
       "      <td>1</td>\n",
       "      <td>4.14</td>\n",
       "      <td>16.0</td>\n",
       "      <td>0.00</td>\n",
       "      <td>0.0</td>\n",
       "      <td>17.30</td>\n",
       "    </tr>\n",
       "    <tr>\n",
       "      <th>6431</th>\n",
       "      <td>1</td>\n",
       "      <td>1.12</td>\n",
       "      <td>6.0</td>\n",
       "      <td>0.00</td>\n",
       "      <td>0.0</td>\n",
       "      <td>6.80</td>\n",
       "    </tr>\n",
       "    <tr>\n",
       "      <th>6432</th>\n",
       "      <td>1</td>\n",
       "      <td>3.85</td>\n",
       "      <td>15.0</td>\n",
       "      <td>3.36</td>\n",
       "      <td>0.0</td>\n",
       "      <td>20.16</td>\n",
       "    </tr>\n",
       "  </tbody>\n",
       "</table>\n",
       "<p>6433 rows × 6 columns</p>\n",
       "</div>"
      ],
      "text/plain": [
       "      passengers  distance  fare   tip  tolls  total\n",
       "0              1      1.60   7.0  2.15    0.0  12.95\n",
       "1              1      0.79   5.0  0.00    0.0   9.30\n",
       "2              1      1.37   7.5  2.36    0.0  14.16\n",
       "3              1      7.70  27.0   NaN    0.0  36.95\n",
       "4              3      2.16   9.0  1.10    0.0  13.40\n",
       "...          ...       ...   ...   ...    ...    ...\n",
       "6428           1      0.75   4.5  1.06    0.0   6.36\n",
       "6429           1     18.74  58.0  0.00    0.0  58.80\n",
       "6430           1      4.14  16.0  0.00    0.0  17.30\n",
       "6431           1      1.12   6.0  0.00    0.0   6.80\n",
       "6432           1      3.85  15.0  3.36    0.0  20.16\n",
       "\n",
       "[6433 rows x 6 columns]"
      ]
     },
     "execution_count": 19,
     "metadata": {},
     "output_type": "execute_result"
    }
   ],
   "source": [
    "df.loc[:, \"passengers\":\"total\"]"
   ]
  },
  {
   "cell_type": "markdown",
   "metadata": {},
   "source": [
    "The `applymap` method takes as input a function, and then applies that function to every input.  Notice how most values are unchanged, but we now have an additional string `\"Missing\"` showing up in row `3`."
   ]
  },
  {
   "cell_type": "code",
   "execution_count": 20,
   "metadata": {
    "cell_id": "e868dab0492c413cbd49ffe8f80256a7",
    "deepnote_cell_type": "code",
    "deepnote_to_be_reexecuted": false,
    "execution_millis": 82,
    "execution_start": 1682367487861,
    "source_hash": "277cdc39"
   },
   "outputs": [
    {
     "data": {
      "application/vnd.deepnote.dataframe.v3+json": {
       "column_count": 6,
       "columns": [
        {
         "dtype": "int64",
         "name": "passengers",
         "stats": {
          "histogram": [
           {
            "bin_end": 0.6,
            "bin_start": 0,
            "count": 96
           },
           {
            "bin_end": 1.2,
            "bin_start": 0.6,
            "count": 4678
           },
           {
            "bin_end": 1.7999999999999998,
            "bin_start": 1.2,
            "count": 0
           },
           {
            "bin_end": 2.4,
            "bin_start": 1.7999999999999998,
            "count": 876
           },
           {
            "bin_end": 3,
            "bin_start": 2.4,
            "count": 0
           },
           {
            "bin_end": 3.5999999999999996,
            "bin_start": 3,
            "count": 243
           },
           {
            "bin_end": 4.2,
            "bin_start": 3.5999999999999996,
            "count": 110
           },
           {
            "bin_end": 4.8,
            "bin_start": 4.2,
            "count": 0
           },
           {
            "bin_end": 5.3999999999999995,
            "bin_start": 4.8,
            "count": 277
           },
           {
            "bin_end": 6,
            "bin_start": 5.3999999999999995,
            "count": 153
           }
          ],
          "max": "6",
          "min": "0",
          "nan_count": 0,
          "unique_count": 7
         }
        },
        {
         "dtype": "float64",
         "name": "distance",
         "stats": {
          "histogram": [
           {
            "bin_end": 3.6700000000000004,
            "bin_start": 0,
            "count": 5050
           },
           {
            "bin_end": 7.340000000000001,
            "bin_start": 3.6700000000000004,
            "count": 746
           },
           {
            "bin_end": 11.010000000000002,
            "bin_start": 7.340000000000001,
            "count": 319
           },
           {
            "bin_end": 14.680000000000001,
            "bin_start": 11.010000000000002,
            "count": 126
           },
           {
            "bin_end": 18.35,
            "bin_start": 14.680000000000001,
            "count": 103
           },
           {
            "bin_end": 22.020000000000003,
            "bin_start": 18.35,
            "count": 65
           },
           {
            "bin_end": 25.69,
            "bin_start": 22.020000000000003,
            "count": 15
           },
           {
            "bin_end": 29.360000000000003,
            "bin_start": 25.69,
            "count": 4
           },
           {
            "bin_end": 33.03,
            "bin_start": 29.360000000000003,
            "count": 1
           },
           {
            "bin_end": 36.7,
            "bin_start": 33.03,
            "count": 4
           }
          ],
          "max": "36.7",
          "min": "0.0",
          "nan_count": 0,
          "unique_count": 1079
         }
        },
        {
         "dtype": "float64",
         "name": "fare",
         "stats": {
          "histogram": [
           {
            "bin_end": 15.9,
            "bin_start": 1,
            "count": 4966
           },
           {
            "bin_end": 30.8,
            "bin_start": 15.9,
            "count": 983
           },
           {
            "bin_end": 45.7,
            "bin_start": 30.8,
            "count": 269
           },
           {
            "bin_end": 60.6,
            "bin_start": 45.7,
            "count": 184
           },
           {
            "bin_end": 75.5,
            "bin_start": 60.6,
            "count": 14
           },
           {
            "bin_end": 90.4,
            "bin_start": 75.5,
            "count": 8
           },
           {
            "bin_end": 105.3,
            "bin_start": 90.4,
            "count": 4
           },
           {
            "bin_end": 120.2,
            "bin_start": 105.3,
            "count": 1
           },
           {
            "bin_end": 135.1,
            "bin_start": 120.2,
            "count": 1
           },
           {
            "bin_end": 150,
            "bin_start": 135.1,
            "count": 3
           }
          ],
          "max": "150.0",
          "min": "1.0",
          "nan_count": 0,
          "unique_count": 220
         }
        },
        {
         "dtype": "object",
         "name": "tip",
         "stats": {
          "categories": [
           {
            "count": 2311,
            "name": "0.0"
           },
           {
            "count": 312,
            "name": "1.0"
           },
           {
            "count": 3810,
            "name": "488 others"
           }
          ],
          "nan_count": 0,
          "unique_count": 490
         }
        },
        {
         "dtype": "float64",
         "name": "tolls",
         "stats": {
          "histogram": [
           {
            "bin_end": 2.402,
            "bin_start": 0,
            "count": 6083
           },
           {
            "bin_end": 4.804,
            "bin_start": 2.402,
            "count": 8
           },
           {
            "bin_end": 7.206,
            "bin_start": 4.804,
            "count": 329
           },
           {
            "bin_end": 9.608,
            "bin_start": 7.206,
            "count": 3
           },
           {
            "bin_end": 12.010000000000002,
            "bin_start": 9.608,
            "count": 4
           },
           {
            "bin_end": 14.412,
            "bin_start": 12.010000000000002,
            "count": 2
           },
           {
            "bin_end": 16.814,
            "bin_start": 14.412,
            "count": 1
           },
           {
            "bin_end": 19.216,
            "bin_start": 16.814,
            "count": 2
           },
           {
            "bin_end": 21.618000000000002,
            "bin_start": 19.216,
            "count": 0
           },
           {
            "bin_end": 24.02,
            "bin_start": 21.618000000000002,
            "count": 1
           }
          ],
          "max": "24.02",
          "min": "0.0",
          "nan_count": 0,
          "unique_count": 16
         }
        },
        {
         "dtype": "float64",
         "name": "total",
         "stats": {
          "histogram": [
           {
            "bin_end": 18.651999999999997,
            "bin_start": 1.3,
            "count": 4508
           },
           {
            "bin_end": 36.00399999999999,
            "bin_start": 18.651999999999997,
            "count": 1366
           },
           {
            "bin_end": 53.35599999999999,
            "bin_start": 36.00399999999999,
            "count": 307
           },
           {
            "bin_end": 70.70799999999998,
            "bin_start": 53.35599999999999,
            "count": 160
           },
           {
            "bin_end": 88.05999999999999,
            "bin_start": 70.70799999999998,
            "count": 78
           },
           {
            "bin_end": 105.41199999999998,
            "bin_start": 88.05999999999999,
            "count": 5
           },
           {
            "bin_end": 122.76399999999997,
            "bin_start": 105.41199999999998,
            "count": 2
           },
           {
            "bin_end": 140.11599999999999,
            "bin_start": 122.76399999999997,
            "count": 3
           },
           {
            "bin_end": 157.468,
            "bin_start": 140.11599999999999,
            "count": 1
           },
           {
            "bin_end": 174.82,
            "bin_start": 157.468,
            "count": 3
           }
          ],
          "max": "174.82",
          "min": "1.3",
          "nan_count": 0,
          "unique_count": 898
         }
        },
        {
         "dtype": "int64",
         "name": "_deepnote_index_column"
        }
       ],
       "row_count": 6433,
       "rows": [
        {
         "_deepnote_index_column": "0",
         "distance": "1.6",
         "fare": "7.0",
         "passengers": "1",
         "tip": "2.15",
         "tolls": "0.0",
         "total": "12.95"
        },
        {
         "_deepnote_index_column": "1",
         "distance": "0.79",
         "fare": "5.0",
         "passengers": "1",
         "tip": "0.0",
         "tolls": "0.0",
         "total": "9.3"
        },
        {
         "_deepnote_index_column": "2",
         "distance": "1.37",
         "fare": "7.5",
         "passengers": "1",
         "tip": "2.36",
         "tolls": "0.0",
         "total": "14.16"
        },
        {
         "_deepnote_index_column": "3",
         "distance": "7.7",
         "fare": "27.0",
         "passengers": "1",
         "tip": "Missing",
         "tolls": "0.0",
         "total": "36.95"
        },
        {
         "_deepnote_index_column": "4",
         "distance": "2.16",
         "fare": "9.0",
         "passengers": "3",
         "tip": "1.1",
         "tolls": "0.0",
         "total": "13.4"
        },
        {
         "_deepnote_index_column": "5",
         "distance": "0.49",
         "fare": "7.5",
         "passengers": "1",
         "tip": "2.16",
         "tolls": "0.0",
         "total": "12.96"
        },
        {
         "_deepnote_index_column": "6",
         "distance": "3.65",
         "fare": "13.0",
         "passengers": "1",
         "tip": "2.0",
         "tolls": "0.0",
         "total": "18.8"
        },
        {
         "_deepnote_index_column": "7",
         "distance": "1.4",
         "fare": "8.5",
         "passengers": "0",
         "tip": "0.0",
         "tolls": "0.0",
         "total": "11.8"
        },
        {
         "_deepnote_index_column": "8",
         "distance": "3.63",
         "fare": "15.0",
         "passengers": "1",
         "tip": "1.0",
         "tolls": "0.0",
         "total": "19.3"
        },
        {
         "_deepnote_index_column": "9",
         "distance": "1.52",
         "fare": "8.0",
         "passengers": "1",
         "tip": "1.0",
         "tolls": "0.0",
         "total": "13.3"
        }
       ]
      },
      "text/html": [
       "<div>\n",
       "<style scoped>\n",
       "    .dataframe tbody tr th:only-of-type {\n",
       "        vertical-align: middle;\n",
       "    }\n",
       "\n",
       "    .dataframe tbody tr th {\n",
       "        vertical-align: top;\n",
       "    }\n",
       "\n",
       "    .dataframe thead th {\n",
       "        text-align: right;\n",
       "    }\n",
       "</style>\n",
       "<table border=\"1\" class=\"dataframe\">\n",
       "  <thead>\n",
       "    <tr style=\"text-align: right;\">\n",
       "      <th></th>\n",
       "      <th>passengers</th>\n",
       "      <th>distance</th>\n",
       "      <th>fare</th>\n",
       "      <th>tip</th>\n",
       "      <th>tolls</th>\n",
       "      <th>total</th>\n",
       "    </tr>\n",
       "  </thead>\n",
       "  <tbody>\n",
       "    <tr>\n",
       "      <th>0</th>\n",
       "      <td>1</td>\n",
       "      <td>1.60</td>\n",
       "      <td>7.0</td>\n",
       "      <td>2.15</td>\n",
       "      <td>0.0</td>\n",
       "      <td>12.95</td>\n",
       "    </tr>\n",
       "    <tr>\n",
       "      <th>1</th>\n",
       "      <td>1</td>\n",
       "      <td>0.79</td>\n",
       "      <td>5.0</td>\n",
       "      <td>0.0</td>\n",
       "      <td>0.0</td>\n",
       "      <td>9.30</td>\n",
       "    </tr>\n",
       "    <tr>\n",
       "      <th>2</th>\n",
       "      <td>1</td>\n",
       "      <td>1.37</td>\n",
       "      <td>7.5</td>\n",
       "      <td>2.36</td>\n",
       "      <td>0.0</td>\n",
       "      <td>14.16</td>\n",
       "    </tr>\n",
       "    <tr>\n",
       "      <th>3</th>\n",
       "      <td>1</td>\n",
       "      <td>7.70</td>\n",
       "      <td>27.0</td>\n",
       "      <td>Missing</td>\n",
       "      <td>0.0</td>\n",
       "      <td>36.95</td>\n",
       "    </tr>\n",
       "    <tr>\n",
       "      <th>4</th>\n",
       "      <td>3</td>\n",
       "      <td>2.16</td>\n",
       "      <td>9.0</td>\n",
       "      <td>1.1</td>\n",
       "      <td>0.0</td>\n",
       "      <td>13.40</td>\n",
       "    </tr>\n",
       "    <tr>\n",
       "      <th>...</th>\n",
       "      <td>...</td>\n",
       "      <td>...</td>\n",
       "      <td>...</td>\n",
       "      <td>...</td>\n",
       "      <td>...</td>\n",
       "      <td>...</td>\n",
       "    </tr>\n",
       "    <tr>\n",
       "      <th>6428</th>\n",
       "      <td>1</td>\n",
       "      <td>0.75</td>\n",
       "      <td>4.5</td>\n",
       "      <td>1.06</td>\n",
       "      <td>0.0</td>\n",
       "      <td>6.36</td>\n",
       "    </tr>\n",
       "    <tr>\n",
       "      <th>6429</th>\n",
       "      <td>1</td>\n",
       "      <td>18.74</td>\n",
       "      <td>58.0</td>\n",
       "      <td>0.0</td>\n",
       "      <td>0.0</td>\n",
       "      <td>58.80</td>\n",
       "    </tr>\n",
       "    <tr>\n",
       "      <th>6430</th>\n",
       "      <td>1</td>\n",
       "      <td>4.14</td>\n",
       "      <td>16.0</td>\n",
       "      <td>0.0</td>\n",
       "      <td>0.0</td>\n",
       "      <td>17.30</td>\n",
       "    </tr>\n",
       "    <tr>\n",
       "      <th>6431</th>\n",
       "      <td>1</td>\n",
       "      <td>1.12</td>\n",
       "      <td>6.0</td>\n",
       "      <td>0.0</td>\n",
       "      <td>0.0</td>\n",
       "      <td>6.80</td>\n",
       "    </tr>\n",
       "    <tr>\n",
       "      <th>6432</th>\n",
       "      <td>1</td>\n",
       "      <td>3.85</td>\n",
       "      <td>15.0</td>\n",
       "      <td>3.36</td>\n",
       "      <td>0.0</td>\n",
       "      <td>20.16</td>\n",
       "    </tr>\n",
       "  </tbody>\n",
       "</table>\n",
       "<p>6433 rows × 6 columns</p>\n",
       "</div>"
      ],
      "text/plain": [
       "      passengers  distance  fare      tip  tolls  total\n",
       "0              1      1.60   7.0     2.15    0.0  12.95\n",
       "1              1      0.79   5.0      0.0    0.0   9.30\n",
       "2              1      1.37   7.5     2.36    0.0  14.16\n",
       "3              1      7.70  27.0  Missing    0.0  36.95\n",
       "4              3      2.16   9.0      1.1    0.0  13.40\n",
       "...          ...       ...   ...      ...    ...    ...\n",
       "6428           1      0.75   4.5     1.06    0.0   6.36\n",
       "6429           1     18.74  58.0      0.0    0.0  58.80\n",
       "6430           1      4.14  16.0      0.0    0.0  17.30\n",
       "6431           1      1.12   6.0      0.0    0.0   6.80\n",
       "6432           1      3.85  15.0     3.36    0.0  20.16\n",
       "\n",
       "[6433 rows x 6 columns]"
      ]
     },
     "execution_count": 20,
     "metadata": {},
     "output_type": "execute_result"
    }
   ],
   "source": [
    "df.loc[:, \"passengers\":\"total\"].applymap(is_missing)"
   ]
  },
  {
   "cell_type": "markdown",
   "metadata": {
    "cell_id": "f867e2e977c54b969c900c3c5367b1da",
    "deepnote_cell_type": "markdown"
   },
   "source": [
    "* Do the same thing using `applymap` and a lambda function."
   ]
  },
  {
   "cell_type": "markdown",
   "metadata": {},
   "source": [
    "Two new things are being introduced here: lambda functions and the syntax `??? if ??? else ???`.  The term `lambda` tells Python that we are about to define a function.  The part before the colon (`x` in this case) designates the inputs, and the part after the colon designates the output.\n",
    "\n",
    "The syntax `A if B else C` will evaluate to `A` if `B` is `True` and will evaluate to `C` if `B` is `False`.  This is a shorter way of writing the function that we defined above using `def`."
   ]
  },
  {
   "cell_type": "code",
   "execution_count": 21,
   "metadata": {
    "cell_id": "e11fc025708544b5b1f601a3c5466152",
    "deepnote_cell_type": "code",
    "deepnote_to_be_reexecuted": false,
    "execution_millis": 23,
    "execution_start": 1682367745767,
    "source_hash": "70ee36bb",
    "tags": [
     "output_scroll"
    ]
   },
   "outputs": [
    {
     "data": {
      "application/vnd.deepnote.dataframe.v3+json": {
       "column_count": 6,
       "columns": [
        {
         "dtype": "int64",
         "name": "passengers",
         "stats": {
          "histogram": [
           {
            "bin_end": 0.6,
            "bin_start": 0,
            "count": 96
           },
           {
            "bin_end": 1.2,
            "bin_start": 0.6,
            "count": 4678
           },
           {
            "bin_end": 1.7999999999999998,
            "bin_start": 1.2,
            "count": 0
           },
           {
            "bin_end": 2.4,
            "bin_start": 1.7999999999999998,
            "count": 876
           },
           {
            "bin_end": 3,
            "bin_start": 2.4,
            "count": 0
           },
           {
            "bin_end": 3.5999999999999996,
            "bin_start": 3,
            "count": 243
           },
           {
            "bin_end": 4.2,
            "bin_start": 3.5999999999999996,
            "count": 110
           },
           {
            "bin_end": 4.8,
            "bin_start": 4.2,
            "count": 0
           },
           {
            "bin_end": 5.3999999999999995,
            "bin_start": 4.8,
            "count": 277
           },
           {
            "bin_end": 6,
            "bin_start": 5.3999999999999995,
            "count": 153
           }
          ],
          "max": "6",
          "min": "0",
          "nan_count": 0,
          "unique_count": 7
         }
        },
        {
         "dtype": "float64",
         "name": "distance",
         "stats": {
          "histogram": [
           {
            "bin_end": 3.6700000000000004,
            "bin_start": 0,
            "count": 5050
           },
           {
            "bin_end": 7.340000000000001,
            "bin_start": 3.6700000000000004,
            "count": 746
           },
           {
            "bin_end": 11.010000000000002,
            "bin_start": 7.340000000000001,
            "count": 319
           },
           {
            "bin_end": 14.680000000000001,
            "bin_start": 11.010000000000002,
            "count": 126
           },
           {
            "bin_end": 18.35,
            "bin_start": 14.680000000000001,
            "count": 103
           },
           {
            "bin_end": 22.020000000000003,
            "bin_start": 18.35,
            "count": 65
           },
           {
            "bin_end": 25.69,
            "bin_start": 22.020000000000003,
            "count": 15
           },
           {
            "bin_end": 29.360000000000003,
            "bin_start": 25.69,
            "count": 4
           },
           {
            "bin_end": 33.03,
            "bin_start": 29.360000000000003,
            "count": 1
           },
           {
            "bin_end": 36.7,
            "bin_start": 33.03,
            "count": 4
           }
          ],
          "max": "36.7",
          "min": "0.0",
          "nan_count": 0,
          "unique_count": 1079
         }
        },
        {
         "dtype": "float64",
         "name": "fare",
         "stats": {
          "histogram": [
           {
            "bin_end": 15.9,
            "bin_start": 1,
            "count": 4966
           },
           {
            "bin_end": 30.8,
            "bin_start": 15.9,
            "count": 983
           },
           {
            "bin_end": 45.7,
            "bin_start": 30.8,
            "count": 269
           },
           {
            "bin_end": 60.6,
            "bin_start": 45.7,
            "count": 184
           },
           {
            "bin_end": 75.5,
            "bin_start": 60.6,
            "count": 14
           },
           {
            "bin_end": 90.4,
            "bin_start": 75.5,
            "count": 8
           },
           {
            "bin_end": 105.3,
            "bin_start": 90.4,
            "count": 4
           },
           {
            "bin_end": 120.2,
            "bin_start": 105.3,
            "count": 1
           },
           {
            "bin_end": 135.1,
            "bin_start": 120.2,
            "count": 1
           },
           {
            "bin_end": 150,
            "bin_start": 135.1,
            "count": 3
           }
          ],
          "max": "150.0",
          "min": "1.0",
          "nan_count": 0,
          "unique_count": 220
         }
        },
        {
         "dtype": "object",
         "name": "tip",
         "stats": {
          "categories": [
           {
            "count": 2311,
            "name": "0.0"
           },
           {
            "count": 312,
            "name": "1.0"
           },
           {
            "count": 3810,
            "name": "488 others"
           }
          ],
          "nan_count": 0,
          "unique_count": 490
         }
        },
        {
         "dtype": "float64",
         "name": "tolls",
         "stats": {
          "histogram": [
           {
            "bin_end": 2.402,
            "bin_start": 0,
            "count": 6083
           },
           {
            "bin_end": 4.804,
            "bin_start": 2.402,
            "count": 8
           },
           {
            "bin_end": 7.206,
            "bin_start": 4.804,
            "count": 329
           },
           {
            "bin_end": 9.608,
            "bin_start": 7.206,
            "count": 3
           },
           {
            "bin_end": 12.010000000000002,
            "bin_start": 9.608,
            "count": 4
           },
           {
            "bin_end": 14.412,
            "bin_start": 12.010000000000002,
            "count": 2
           },
           {
            "bin_end": 16.814,
            "bin_start": 14.412,
            "count": 1
           },
           {
            "bin_end": 19.216,
            "bin_start": 16.814,
            "count": 2
           },
           {
            "bin_end": 21.618000000000002,
            "bin_start": 19.216,
            "count": 0
           },
           {
            "bin_end": 24.02,
            "bin_start": 21.618000000000002,
            "count": 1
           }
          ],
          "max": "24.02",
          "min": "0.0",
          "nan_count": 0,
          "unique_count": 16
         }
        },
        {
         "dtype": "float64",
         "name": "total",
         "stats": {
          "histogram": [
           {
            "bin_end": 18.651999999999997,
            "bin_start": 1.3,
            "count": 4508
           },
           {
            "bin_end": 36.00399999999999,
            "bin_start": 18.651999999999997,
            "count": 1366
           },
           {
            "bin_end": 53.35599999999999,
            "bin_start": 36.00399999999999,
            "count": 307
           },
           {
            "bin_end": 70.70799999999998,
            "bin_start": 53.35599999999999,
            "count": 160
           },
           {
            "bin_end": 88.05999999999999,
            "bin_start": 70.70799999999998,
            "count": 78
           },
           {
            "bin_end": 105.41199999999998,
            "bin_start": 88.05999999999999,
            "count": 5
           },
           {
            "bin_end": 122.76399999999997,
            "bin_start": 105.41199999999998,
            "count": 2
           },
           {
            "bin_end": 140.11599999999999,
            "bin_start": 122.76399999999997,
            "count": 3
           },
           {
            "bin_end": 157.468,
            "bin_start": 140.11599999999999,
            "count": 1
           },
           {
            "bin_end": 174.82,
            "bin_start": 157.468,
            "count": 3
           }
          ],
          "max": "174.82",
          "min": "1.3",
          "nan_count": 0,
          "unique_count": 898
         }
        },
        {
         "dtype": "int64",
         "name": "_deepnote_index_column"
        }
       ],
       "row_count": 6433,
       "rows": [
        {
         "_deepnote_index_column": "0",
         "distance": "1.6",
         "fare": "7.0",
         "passengers": "1",
         "tip": "2.15",
         "tolls": "0.0",
         "total": "12.95"
        },
        {
         "_deepnote_index_column": "1",
         "distance": "0.79",
         "fare": "5.0",
         "passengers": "1",
         "tip": "0.0",
         "tolls": "0.0",
         "total": "9.3"
        },
        {
         "_deepnote_index_column": "2",
         "distance": "1.37",
         "fare": "7.5",
         "passengers": "1",
         "tip": "2.36",
         "tolls": "0.0",
         "total": "14.16"
        },
        {
         "_deepnote_index_column": "3",
         "distance": "7.7",
         "fare": "27.0",
         "passengers": "1",
         "tip": "Missing",
         "tolls": "0.0",
         "total": "36.95"
        },
        {
         "_deepnote_index_column": "4",
         "distance": "2.16",
         "fare": "9.0",
         "passengers": "3",
         "tip": "1.1",
         "tolls": "0.0",
         "total": "13.4"
        },
        {
         "_deepnote_index_column": "5",
         "distance": "0.49",
         "fare": "7.5",
         "passengers": "1",
         "tip": "2.16",
         "tolls": "0.0",
         "total": "12.96"
        },
        {
         "_deepnote_index_column": "6",
         "distance": "3.65",
         "fare": "13.0",
         "passengers": "1",
         "tip": "2.0",
         "tolls": "0.0",
         "total": "18.8"
        },
        {
         "_deepnote_index_column": "7",
         "distance": "1.4",
         "fare": "8.5",
         "passengers": "0",
         "tip": "0.0",
         "tolls": "0.0",
         "total": "11.8"
        },
        {
         "_deepnote_index_column": "8",
         "distance": "3.63",
         "fare": "15.0",
         "passengers": "1",
         "tip": "1.0",
         "tolls": "0.0",
         "total": "19.3"
        },
        {
         "_deepnote_index_column": "9",
         "distance": "1.52",
         "fare": "8.0",
         "passengers": "1",
         "tip": "1.0",
         "tolls": "0.0",
         "total": "13.3"
        }
       ]
      },
      "text/html": [
       "<div>\n",
       "<style scoped>\n",
       "    .dataframe tbody tr th:only-of-type {\n",
       "        vertical-align: middle;\n",
       "    }\n",
       "\n",
       "    .dataframe tbody tr th {\n",
       "        vertical-align: top;\n",
       "    }\n",
       "\n",
       "    .dataframe thead th {\n",
       "        text-align: right;\n",
       "    }\n",
       "</style>\n",
       "<table border=\"1\" class=\"dataframe\">\n",
       "  <thead>\n",
       "    <tr style=\"text-align: right;\">\n",
       "      <th></th>\n",
       "      <th>passengers</th>\n",
       "      <th>distance</th>\n",
       "      <th>fare</th>\n",
       "      <th>tip</th>\n",
       "      <th>tolls</th>\n",
       "      <th>total</th>\n",
       "    </tr>\n",
       "  </thead>\n",
       "  <tbody>\n",
       "    <tr>\n",
       "      <th>0</th>\n",
       "      <td>1</td>\n",
       "      <td>1.60</td>\n",
       "      <td>7.0</td>\n",
       "      <td>2.15</td>\n",
       "      <td>0.0</td>\n",
       "      <td>12.95</td>\n",
       "    </tr>\n",
       "    <tr>\n",
       "      <th>1</th>\n",
       "      <td>1</td>\n",
       "      <td>0.79</td>\n",
       "      <td>5.0</td>\n",
       "      <td>0.0</td>\n",
       "      <td>0.0</td>\n",
       "      <td>9.30</td>\n",
       "    </tr>\n",
       "    <tr>\n",
       "      <th>2</th>\n",
       "      <td>1</td>\n",
       "      <td>1.37</td>\n",
       "      <td>7.5</td>\n",
       "      <td>2.36</td>\n",
       "      <td>0.0</td>\n",
       "      <td>14.16</td>\n",
       "    </tr>\n",
       "    <tr>\n",
       "      <th>3</th>\n",
       "      <td>1</td>\n",
       "      <td>7.70</td>\n",
       "      <td>27.0</td>\n",
       "      <td>Missing</td>\n",
       "      <td>0.0</td>\n",
       "      <td>36.95</td>\n",
       "    </tr>\n",
       "    <tr>\n",
       "      <th>4</th>\n",
       "      <td>3</td>\n",
       "      <td>2.16</td>\n",
       "      <td>9.0</td>\n",
       "      <td>1.1</td>\n",
       "      <td>0.0</td>\n",
       "      <td>13.40</td>\n",
       "    </tr>\n",
       "    <tr>\n",
       "      <th>...</th>\n",
       "      <td>...</td>\n",
       "      <td>...</td>\n",
       "      <td>...</td>\n",
       "      <td>...</td>\n",
       "      <td>...</td>\n",
       "      <td>...</td>\n",
       "    </tr>\n",
       "    <tr>\n",
       "      <th>6428</th>\n",
       "      <td>1</td>\n",
       "      <td>0.75</td>\n",
       "      <td>4.5</td>\n",
       "      <td>1.06</td>\n",
       "      <td>0.0</td>\n",
       "      <td>6.36</td>\n",
       "    </tr>\n",
       "    <tr>\n",
       "      <th>6429</th>\n",
       "      <td>1</td>\n",
       "      <td>18.74</td>\n",
       "      <td>58.0</td>\n",
       "      <td>0.0</td>\n",
       "      <td>0.0</td>\n",
       "      <td>58.80</td>\n",
       "    </tr>\n",
       "    <tr>\n",
       "      <th>6430</th>\n",
       "      <td>1</td>\n",
       "      <td>4.14</td>\n",
       "      <td>16.0</td>\n",
       "      <td>0.0</td>\n",
       "      <td>0.0</td>\n",
       "      <td>17.30</td>\n",
       "    </tr>\n",
       "    <tr>\n",
       "      <th>6431</th>\n",
       "      <td>1</td>\n",
       "      <td>1.12</td>\n",
       "      <td>6.0</td>\n",
       "      <td>0.0</td>\n",
       "      <td>0.0</td>\n",
       "      <td>6.80</td>\n",
       "    </tr>\n",
       "    <tr>\n",
       "      <th>6432</th>\n",
       "      <td>1</td>\n",
       "      <td>3.85</td>\n",
       "      <td>15.0</td>\n",
       "      <td>3.36</td>\n",
       "      <td>0.0</td>\n",
       "      <td>20.16</td>\n",
       "    </tr>\n",
       "  </tbody>\n",
       "</table>\n",
       "<p>6433 rows × 6 columns</p>\n",
       "</div>"
      ],
      "text/plain": [
       "      passengers  distance  fare      tip  tolls  total\n",
       "0              1      1.60   7.0     2.15    0.0  12.95\n",
       "1              1      0.79   5.0      0.0    0.0   9.30\n",
       "2              1      1.37   7.5     2.36    0.0  14.16\n",
       "3              1      7.70  27.0  Missing    0.0  36.95\n",
       "4              3      2.16   9.0      1.1    0.0  13.40\n",
       "...          ...       ...   ...      ...    ...    ...\n",
       "6428           1      0.75   4.5     1.06    0.0   6.36\n",
       "6429           1     18.74  58.0      0.0    0.0  58.80\n",
       "6430           1      4.14  16.0      0.0    0.0  17.30\n",
       "6431           1      1.12   6.0      0.0    0.0   6.80\n",
       "6432           1      3.85  15.0     3.36    0.0  20.16\n",
       "\n",
       "[6433 rows x 6 columns]"
      ]
     },
     "execution_count": 21,
     "metadata": {},
     "output_type": "execute_result"
    }
   ],
   "source": [
    "df.loc[:, \"passengers\":\"total\"].applymap(lambda x: \"Missing\" if np.isnan(x) else x)"
   ]
  },
  {
   "cell_type": "markdown",
   "metadata": {
    "cell_id": "41593fdac1f34caeb6dd182c8fb993ae",
    "deepnote_cell_type": "markdown"
   },
   "source": [
    "Notice how we haven't changed the original DataFrame `df`, other than putting the missing value in row `3`.\n",
    "\n",
    "* Drop the rows which contain missing values, using `df = df.dropna(axis=???).copy()`.  We include the `copy()` at the end to prevent warnings later when we change the DataFrame."
   ]
  },
  {
   "cell_type": "code",
   "execution_count": 22,
   "metadata": {
    "cell_id": "68357b95a0c7486e8f52cb15089c427b",
    "deepnote_cell_type": "code",
    "deepnote_to_be_reexecuted": false,
    "execution_millis": 47,
    "execution_start": 1682367787868,
    "source_hash": "c085b6ba",
    "tags": [
     "output_scroll"
    ]
   },
   "outputs": [
    {
     "data": {
      "application/vnd.deepnote.dataframe.v3+json": {
       "column_count": 14,
       "columns": [
        {
         "dtype": "datetime64[ns]",
         "name": "pickup",
         "stats": {
          "histogram": [
           {
            "bin_end": 1551939569700000000,
            "bin_start": 1551715915000000000,
            "count": 1
           },
           {
            "bin_end": 1552163224400000000,
            "bin_start": 1551939569700000000,
            "count": 0
           },
           {
            "bin_end": 1552386879100000000,
            "bin_start": 1552163224400000000,
            "count": 1
           },
           {
            "bin_end": 1552610533800000000,
            "bin_start": 1552386879100000000,
            "count": 0
           },
           {
            "bin_end": 1552834188500000000,
            "bin_start": 1552610533800000000,
            "count": 0
           },
           {
            "bin_end": 1553057843200000000,
            "bin_start": 1552834188500000000,
            "count": 0
           },
           {
            "bin_end": 1553281497900000000,
            "bin_start": 1553057843200000000,
            "count": 0
           },
           {
            "bin_end": 1553505152600000000,
            "bin_start": 1553281497900000000,
            "count": 1
           },
           {
            "bin_end": 1553728807300000000,
            "bin_start": 1553505152600000000,
            "count": 1
           },
           {
            "bin_end": 1553952462000000000,
            "bin_start": 1553728807300000000,
            "count": 1
           }
          ],
          "max": "2019-03-30 13:27:42",
          "min": "2019-03-04 16:11:55",
          "nan_count": 0,
          "unique_count": 5
         }
        },
        {
         "dtype": "datetime64[ns]",
         "name": "dropoff",
         "stats": {
          "histogram": [
           {
            "bin_end": 1551940009400000000,
            "bin_start": 1551716340000000000,
            "count": 1
           },
           {
            "bin_end": 1552163678800000000,
            "bin_start": 1551940009400000000,
            "count": 0
           },
           {
            "bin_end": 1552387348200000000,
            "bin_start": 1552163678800000000,
            "count": 1
           },
           {
            "bin_end": 1552611017600000000,
            "bin_start": 1552387348200000000,
            "count": 0
           },
           {
            "bin_end": 1552834687000000000,
            "bin_start": 1552611017600000000,
            "count": 0
           },
           {
            "bin_end": 1553058356400000000,
            "bin_start": 1552834687000000000,
            "count": 0
           },
           {
            "bin_end": 1553282025800000000,
            "bin_start": 1553058356400000000,
            "count": 0
           },
           {
            "bin_end": 1553505695200000000,
            "bin_start": 1553282025800000000,
            "count": 1
           },
           {
            "bin_end": 1553729364600000000,
            "bin_start": 1553505695200000000,
            "count": 1
           },
           {
            "bin_end": 1553953034000000000,
            "bin_start": 1553729364600000000,
            "count": 1
           }
          ],
          "max": "2019-03-30 13:37:14",
          "min": "2019-03-04 16:19:00",
          "nan_count": 0,
          "unique_count": 5
         }
        },
        {
         "dtype": "int64",
         "name": "passengers",
         "stats": {
          "histogram": [
           {
            "bin_end": 1.2,
            "bin_start": 1,
            "count": 4
           },
           {
            "bin_end": 1.4,
            "bin_start": 1.2,
            "count": 0
           },
           {
            "bin_end": 1.6,
            "bin_start": 1.4,
            "count": 0
           },
           {
            "bin_end": 1.8,
            "bin_start": 1.6,
            "count": 0
           },
           {
            "bin_end": 2,
            "bin_start": 1.8,
            "count": 0
           },
           {
            "bin_end": 2.2,
            "bin_start": 2,
            "count": 0
           },
           {
            "bin_end": 2.4000000000000004,
            "bin_start": 2.2,
            "count": 0
           },
           {
            "bin_end": 2.6,
            "bin_start": 2.4000000000000004,
            "count": 0
           },
           {
            "bin_end": 2.8,
            "bin_start": 2.6,
            "count": 0
           },
           {
            "bin_end": 3,
            "bin_start": 2.8,
            "count": 1
           }
          ],
          "max": "3",
          "min": "1",
          "nan_count": 0,
          "unique_count": 2
         }
        },
        {
         "dtype": "float64",
         "name": "distance",
         "stats": {
          "histogram": [
           {
            "bin_end": 1.481,
            "bin_start": 0.79,
            "count": 2
           },
           {
            "bin_end": 2.172,
            "bin_start": 1.481,
            "count": 2
           },
           {
            "bin_end": 2.8630000000000004,
            "bin_start": 2.172,
            "count": 0
           },
           {
            "bin_end": 3.5540000000000003,
            "bin_start": 2.8630000000000004,
            "count": 0
           },
           {
            "bin_end": 4.245,
            "bin_start": 3.5540000000000003,
            "count": 0
           },
           {
            "bin_end": 4.936000000000001,
            "bin_start": 4.245,
            "count": 0
           },
           {
            "bin_end": 5.627000000000001,
            "bin_start": 4.936000000000001,
            "count": 0
           },
           {
            "bin_end": 6.3180000000000005,
            "bin_start": 5.627000000000001,
            "count": 0
           },
           {
            "bin_end": 7.009,
            "bin_start": 6.3180000000000005,
            "count": 0
           },
           {
            "bin_end": 7.7,
            "bin_start": 7.009,
            "count": 1
           }
          ],
          "max": "7.7",
          "min": "0.79",
          "nan_count": 0,
          "unique_count": 5
         }
        },
        {
         "dtype": "float64",
         "name": "fare",
         "stats": {
          "histogram": [
           {
            "bin_end": 7.2,
            "bin_start": 5,
            "count": 2
           },
           {
            "bin_end": 9.4,
            "bin_start": 7.2,
            "count": 2
           },
           {
            "bin_end": 11.600000000000001,
            "bin_start": 9.4,
            "count": 0
           },
           {
            "bin_end": 13.8,
            "bin_start": 11.600000000000001,
            "count": 0
           },
           {
            "bin_end": 16,
            "bin_start": 13.8,
            "count": 0
           },
           {
            "bin_end": 18.200000000000003,
            "bin_start": 16,
            "count": 0
           },
           {
            "bin_end": 20.400000000000002,
            "bin_start": 18.200000000000003,
            "count": 0
           },
           {
            "bin_end": 22.6,
            "bin_start": 20.400000000000002,
            "count": 0
           },
           {
            "bin_end": 24.8,
            "bin_start": 22.6,
            "count": 0
           },
           {
            "bin_end": 27,
            "bin_start": 24.8,
            "count": 1
           }
          ],
          "max": "27.0",
          "min": "5.0",
          "nan_count": 0,
          "unique_count": 5
         }
        },
        {
         "dtype": "float64",
         "name": "tip",
         "stats": {
          "histogram": [
           {
            "bin_end": 0.236,
            "bin_start": 0,
            "count": 1
           },
           {
            "bin_end": 0.472,
            "bin_start": 0.236,
            "count": 0
           },
           {
            "bin_end": 0.708,
            "bin_start": 0.472,
            "count": 0
           },
           {
            "bin_end": 0.944,
            "bin_start": 0.708,
            "count": 0
           },
           {
            "bin_end": 1.18,
            "bin_start": 0.944,
            "count": 1
           },
           {
            "bin_end": 1.416,
            "bin_start": 1.18,
            "count": 0
           },
           {
            "bin_end": 1.652,
            "bin_start": 1.416,
            "count": 0
           },
           {
            "bin_end": 1.888,
            "bin_start": 1.652,
            "count": 0
           },
           {
            "bin_end": 2.1239999999999997,
            "bin_start": 1.888,
            "count": 0
           },
           {
            "bin_end": 2.36,
            "bin_start": 2.1239999999999997,
            "count": 2
           }
          ],
          "max": "2.36",
          "min": "0.0",
          "nan_count": 1,
          "unique_count": 4
         }
        },
        {
         "dtype": "float64",
         "name": "tolls",
         "stats": {
          "histogram": [
           {
            "bin_end": -0.4,
            "bin_start": -0.5,
            "count": 0
           },
           {
            "bin_end": -0.3,
            "bin_start": -0.4,
            "count": 0
           },
           {
            "bin_end": -0.19999999999999996,
            "bin_start": -0.3,
            "count": 0
           },
           {
            "bin_end": -0.09999999999999998,
            "bin_start": -0.19999999999999996,
            "count": 0
           },
           {
            "bin_end": 0,
            "bin_start": -0.09999999999999998,
            "count": 0
           },
           {
            "bin_end": 0.10000000000000009,
            "bin_start": 0,
            "count": 5
           },
           {
            "bin_end": 0.20000000000000007,
            "bin_start": 0.10000000000000009,
            "count": 0
           },
           {
            "bin_end": 0.30000000000000004,
            "bin_start": 0.20000000000000007,
            "count": 0
           },
           {
            "bin_end": 0.4,
            "bin_start": 0.30000000000000004,
            "count": 0
           },
           {
            "bin_end": 0.5,
            "bin_start": 0.4,
            "count": 0
           }
          ],
          "max": "0.0",
          "min": "0.0",
          "nan_count": 0,
          "unique_count": 1
         }
        },
        {
         "dtype": "float64",
         "name": "total",
         "stats": {
          "histogram": [
           {
            "bin_end": 12.065000000000001,
            "bin_start": 9.3,
            "count": 1
           },
           {
            "bin_end": 14.830000000000002,
            "bin_start": 12.065000000000001,
            "count": 3
           },
           {
            "bin_end": 17.595,
            "bin_start": 14.830000000000002,
            "count": 0
           },
           {
            "bin_end": 20.36,
            "bin_start": 17.595,
            "count": 0
           },
           {
            "bin_end": 23.125,
            "bin_start": 20.36,
            "count": 0
           },
           {
            "bin_end": 25.89,
            "bin_start": 23.125,
            "count": 0
           },
           {
            "bin_end": 28.655,
            "bin_start": 25.89,
            "count": 0
           },
           {
            "bin_end": 31.42,
            "bin_start": 28.655,
            "count": 0
           },
           {
            "bin_end": 34.185,
            "bin_start": 31.42,
            "count": 0
           },
           {
            "bin_end": 36.95,
            "bin_start": 34.185,
            "count": 1
           }
          ],
          "max": "36.95",
          "min": "9.3",
          "nan_count": 0,
          "unique_count": 5
         }
        },
        {
         "dtype": "object",
         "name": "color",
         "stats": {
          "categories": [
           {
            "count": 5,
            "name": "yellow"
           }
          ],
          "nan_count": 0,
          "unique_count": 1
         }
        },
        {
         "dtype": "object",
         "name": "payment",
         "stats": {
          "categories": [
           {
            "count": 4,
            "name": "credit card"
           },
           {
            "count": 1,
            "name": "cash"
           }
          ],
          "nan_count": 0,
          "unique_count": 2
         }
        },
        {
         "dtype": "object",
         "name": "pickup_zone",
         "stats": {
          "categories": [
           {
            "count": 1,
            "name": "Lenox Hill West"
           },
           {
            "count": 1,
            "name": "Upper West Side South"
           },
           {
            "count": 3,
            "name": "3 others"
           }
          ],
          "nan_count": 0,
          "unique_count": 5
         }
        },
        {
         "dtype": "object",
         "name": "dropoff_zone",
         "stats": {
          "categories": [
           {
            "count": 2,
            "name": "Yorkville West"
           },
           {
            "count": 1,
            "name": "UN/Turtle Bay South"
           },
           {
            "count": 2,
            "name": "2 others"
           }
          ],
          "nan_count": 0,
          "unique_count": 4
         }
        },
        {
         "dtype": "object",
         "name": "pickup_borough",
         "stats": {
          "categories": [
           {
            "count": 5,
            "name": "Manhattan"
           }
          ],
          "nan_count": 0,
          "unique_count": 1
         }
        },
        {
         "dtype": "object",
         "name": "dropoff_borough",
         "stats": {
          "categories": [
           {
            "count": 5,
            "name": "Manhattan"
           }
          ],
          "nan_count": 0,
          "unique_count": 1
         }
        },
        {
         "dtype": "int64",
         "name": "_deepnote_index_column"
        }
       ],
       "row_count": 5,
       "rows": [
        {
         "_deepnote_index_column": "0",
         "color": "yellow",
         "distance": "1.6",
         "dropoff": "2019-03-23 20:27:24",
         "dropoff_borough": "Manhattan",
         "dropoff_zone": "UN/Turtle Bay South",
         "fare": "7.0",
         "passengers": "1",
         "payment": "credit card",
         "pickup": "2019-03-23 20:21:09",
         "pickup_borough": "Manhattan",
         "pickup_zone": "Lenox Hill West",
         "tip": "2.15",
         "tolls": "0.0",
         "total": "12.95"
        },
        {
         "_deepnote_index_column": "1",
         "color": "yellow",
         "distance": "0.79",
         "dropoff": "2019-03-04 16:19:00",
         "dropoff_borough": "Manhattan",
         "dropoff_zone": "Upper West Side South",
         "fare": "5.0",
         "passengers": "1",
         "payment": "cash",
         "pickup": "2019-03-04 16:11:55",
         "pickup_borough": "Manhattan",
         "pickup_zone": "Upper West Side South",
         "tip": "0.0",
         "tolls": "0.0",
         "total": "9.3"
        },
        {
         "_deepnote_index_column": "2",
         "color": "yellow",
         "distance": "1.37",
         "dropoff": "2019-03-27 18:00:25",
         "dropoff_borough": "Manhattan",
         "dropoff_zone": "West Village",
         "fare": "7.5",
         "passengers": "1",
         "payment": "credit card",
         "pickup": "2019-03-27 17:53:01",
         "pickup_borough": "Manhattan",
         "pickup_zone": "Alphabet City",
         "tip": "2.36",
         "tolls": "0.0",
         "total": "14.16"
        },
        {
         "_deepnote_index_column": "3",
         "color": "yellow",
         "distance": "7.7",
         "dropoff": "2019-03-10 01:49:51",
         "dropoff_borough": "Manhattan",
         "dropoff_zone": "Yorkville West",
         "fare": "27.0",
         "passengers": "1",
         "payment": "credit card",
         "pickup": "2019-03-10 01:23:59",
         "pickup_borough": "Manhattan",
         "pickup_zone": "Hudson Sq",
         "tip": "nan",
         "tolls": "0.0",
         "total": "36.95"
        },
        {
         "_deepnote_index_column": "4",
         "color": "yellow",
         "distance": "2.16",
         "dropoff": "2019-03-30 13:37:14",
         "dropoff_borough": "Manhattan",
         "dropoff_zone": "Yorkville West",
         "fare": "9.0",
         "passengers": "3",
         "payment": "credit card",
         "pickup": "2019-03-30 13:27:42",
         "pickup_borough": "Manhattan",
         "pickup_zone": "Midtown East",
         "tip": "1.1",
         "tolls": "0.0",
         "total": "13.4"
        }
       ]
      },
      "text/html": [
       "<div>\n",
       "<style scoped>\n",
       "    .dataframe tbody tr th:only-of-type {\n",
       "        vertical-align: middle;\n",
       "    }\n",
       "\n",
       "    .dataframe tbody tr th {\n",
       "        vertical-align: top;\n",
       "    }\n",
       "\n",
       "    .dataframe thead th {\n",
       "        text-align: right;\n",
       "    }\n",
       "</style>\n",
       "<table border=\"1\" class=\"dataframe\">\n",
       "  <thead>\n",
       "    <tr style=\"text-align: right;\">\n",
       "      <th></th>\n",
       "      <th>pickup</th>\n",
       "      <th>dropoff</th>\n",
       "      <th>passengers</th>\n",
       "      <th>distance</th>\n",
       "      <th>fare</th>\n",
       "      <th>tip</th>\n",
       "      <th>tolls</th>\n",
       "      <th>total</th>\n",
       "      <th>color</th>\n",
       "      <th>payment</th>\n",
       "      <th>pickup_zone</th>\n",
       "      <th>dropoff_zone</th>\n",
       "      <th>pickup_borough</th>\n",
       "      <th>dropoff_borough</th>\n",
       "    </tr>\n",
       "  </thead>\n",
       "  <tbody>\n",
       "    <tr>\n",
       "      <th>0</th>\n",
       "      <td>2019-03-23 20:21:09</td>\n",
       "      <td>2019-03-23 20:27:24</td>\n",
       "      <td>1</td>\n",
       "      <td>1.60</td>\n",
       "      <td>7.0</td>\n",
       "      <td>2.15</td>\n",
       "      <td>0.0</td>\n",
       "      <td>12.95</td>\n",
       "      <td>yellow</td>\n",
       "      <td>credit card</td>\n",
       "      <td>Lenox Hill West</td>\n",
       "      <td>UN/Turtle Bay South</td>\n",
       "      <td>Manhattan</td>\n",
       "      <td>Manhattan</td>\n",
       "    </tr>\n",
       "    <tr>\n",
       "      <th>1</th>\n",
       "      <td>2019-03-04 16:11:55</td>\n",
       "      <td>2019-03-04 16:19:00</td>\n",
       "      <td>1</td>\n",
       "      <td>0.79</td>\n",
       "      <td>5.0</td>\n",
       "      <td>0.00</td>\n",
       "      <td>0.0</td>\n",
       "      <td>9.30</td>\n",
       "      <td>yellow</td>\n",
       "      <td>cash</td>\n",
       "      <td>Upper West Side South</td>\n",
       "      <td>Upper West Side South</td>\n",
       "      <td>Manhattan</td>\n",
       "      <td>Manhattan</td>\n",
       "    </tr>\n",
       "    <tr>\n",
       "      <th>2</th>\n",
       "      <td>2019-03-27 17:53:01</td>\n",
       "      <td>2019-03-27 18:00:25</td>\n",
       "      <td>1</td>\n",
       "      <td>1.37</td>\n",
       "      <td>7.5</td>\n",
       "      <td>2.36</td>\n",
       "      <td>0.0</td>\n",
       "      <td>14.16</td>\n",
       "      <td>yellow</td>\n",
       "      <td>credit card</td>\n",
       "      <td>Alphabet City</td>\n",
       "      <td>West Village</td>\n",
       "      <td>Manhattan</td>\n",
       "      <td>Manhattan</td>\n",
       "    </tr>\n",
       "    <tr>\n",
       "      <th>3</th>\n",
       "      <td>2019-03-10 01:23:59</td>\n",
       "      <td>2019-03-10 01:49:51</td>\n",
       "      <td>1</td>\n",
       "      <td>7.70</td>\n",
       "      <td>27.0</td>\n",
       "      <td>NaN</td>\n",
       "      <td>0.0</td>\n",
       "      <td>36.95</td>\n",
       "      <td>yellow</td>\n",
       "      <td>credit card</td>\n",
       "      <td>Hudson Sq</td>\n",
       "      <td>Yorkville West</td>\n",
       "      <td>Manhattan</td>\n",
       "      <td>Manhattan</td>\n",
       "    </tr>\n",
       "    <tr>\n",
       "      <th>4</th>\n",
       "      <td>2019-03-30 13:27:42</td>\n",
       "      <td>2019-03-30 13:37:14</td>\n",
       "      <td>3</td>\n",
       "      <td>2.16</td>\n",
       "      <td>9.0</td>\n",
       "      <td>1.10</td>\n",
       "      <td>0.0</td>\n",
       "      <td>13.40</td>\n",
       "      <td>yellow</td>\n",
       "      <td>credit card</td>\n",
       "      <td>Midtown East</td>\n",
       "      <td>Yorkville West</td>\n",
       "      <td>Manhattan</td>\n",
       "      <td>Manhattan</td>\n",
       "    </tr>\n",
       "  </tbody>\n",
       "</table>\n",
       "</div>"
      ],
      "text/plain": [
       "               pickup             dropoff  passengers  distance  fare   tip  \\\n",
       "0 2019-03-23 20:21:09 2019-03-23 20:27:24           1      1.60   7.0  2.15   \n",
       "1 2019-03-04 16:11:55 2019-03-04 16:19:00           1      0.79   5.0  0.00   \n",
       "2 2019-03-27 17:53:01 2019-03-27 18:00:25           1      1.37   7.5  2.36   \n",
       "3 2019-03-10 01:23:59 2019-03-10 01:49:51           1      7.70  27.0   NaN   \n",
       "4 2019-03-30 13:27:42 2019-03-30 13:37:14           3      2.16   9.0  1.10   \n",
       "\n",
       "   tolls  total   color      payment            pickup_zone  \\\n",
       "0    0.0  12.95  yellow  credit card        Lenox Hill West   \n",
       "1    0.0   9.30  yellow         cash  Upper West Side South   \n",
       "2    0.0  14.16  yellow  credit card          Alphabet City   \n",
       "3    0.0  36.95  yellow  credit card              Hudson Sq   \n",
       "4    0.0  13.40  yellow  credit card           Midtown East   \n",
       "\n",
       "            dropoff_zone pickup_borough dropoff_borough  \n",
       "0    UN/Turtle Bay South      Manhattan       Manhattan  \n",
       "1  Upper West Side South      Manhattan       Manhattan  \n",
       "2           West Village      Manhattan       Manhattan  \n",
       "3         Yorkville West      Manhattan       Manhattan  \n",
       "4         Yorkville West      Manhattan       Manhattan  "
      ]
     },
     "execution_count": 22,
     "metadata": {},
     "output_type": "execute_result"
    }
   ],
   "source": [
    "df.head()"
   ]
  },
  {
   "cell_type": "markdown",
   "metadata": {},
   "source": [
    "Notice how the row with the missing value, `3`, has disappeared.  If you tried to use `df.loc[3]` now, you would raise an error.  If you tried to use `df.iloc[3]`, it would work (and return the row with label `4`)."
   ]
  },
  {
   "cell_type": "code",
   "execution_count": 24,
   "metadata": {
    "cell_id": "532c81c74ce04ea3852d3cdbdf0c91b3",
    "deepnote_cell_type": "code",
    "deepnote_to_be_reexecuted": false,
    "execution_millis": 84,
    "execution_start": 1682367889177,
    "source_hash": "69b892e7",
    "tags": [
     "output_scroll"
    ]
   },
   "outputs": [
    {
     "data": {
      "application/vnd.deepnote.dataframe.v3+json": {
       "column_count": 14,
       "columns": [
        {
         "dtype": "datetime64[ns]",
         "name": "pickup",
         "stats": {
          "histogram": [
           {
            "bin_end": 1551664471200000000,
            "bin_start": 1551396543000000000,
            "count": 602
           },
           {
            "bin_end": 1551932399400000000,
            "bin_start": 1551664471200000000,
            "count": 663
           },
           {
            "bin_end": 1552200327600000000,
            "bin_start": 1551932399400000000,
            "count": 663
           },
           {
            "bin_end": 1552468255800000000,
            "bin_start": 1552200327600000000,
            "count": 599
           },
           {
            "bin_end": 1552736184000000000,
            "bin_start": 1552468255800000000,
            "count": 743
           },
           {
            "bin_end": 1553004112200000000,
            "bin_start": 1552736184000000000,
            "count": 573
           },
           {
            "bin_end": 1553272040400000000,
            "bin_start": 1553004112200000000,
            "count": 683
           },
           {
            "bin_end": 1553539968600000000,
            "bin_start": 1553272040400000000,
            "count": 561
           },
           {
            "bin_end": 1553807896800000000,
            "bin_start": 1553539968600000000,
            "count": 630
           },
           {
            "bin_end": 1554075825000000000,
            "bin_start": 1553807896800000000,
            "count": 623
           }
          ],
          "max": "2019-03-31 23:43:45",
          "min": "2019-02-28 23:29:03",
          "nan_count": 0,
          "unique_count": 6321
         }
        },
        {
         "dtype": "datetime64[ns]",
         "name": "dropoff",
         "stats": {
          "histogram": [
           {
            "bin_end": 1551664843300000000,
            "bin_start": 1551396755000000000,
            "count": 602
           },
           {
            "bin_end": 1551932931600000000,
            "bin_start": 1551664843300000000,
            "count": 663
           },
           {
            "bin_end": 1552201019900000000,
            "bin_start": 1551932931600000000,
            "count": 663
           },
           {
            "bin_end": 1552469108200000000,
            "bin_start": 1552201019900000000,
            "count": 595
           },
           {
            "bin_end": 1552737196500000000,
            "bin_start": 1552469108200000000,
            "count": 749
           },
           {
            "bin_end": 1553005284800000000,
            "bin_start": 1552737196500000000,
            "count": 570
           },
           {
            "bin_end": 1553273373100000000,
            "bin_start": 1553005284800000000,
            "count": 686
           },
           {
            "bin_end": 1553541461400000000,
            "bin_start": 1553273373100000000,
            "count": 562
           },
           {
            "bin_end": 1553809549700000000,
            "bin_start": 1553541461400000000,
            "count": 630
           },
           {
            "bin_end": 1554077638000000000,
            "bin_start": 1553809549700000000,
            "count": 620
           }
          ],
          "max": "2019-04-01 00:13:58",
          "min": "2019-02-28 23:32:35",
          "nan_count": 0,
          "unique_count": 6332
         }
        },
        {
         "dtype": "int64",
         "name": "passengers",
         "stats": {
          "histogram": [
           {
            "bin_end": 0.6,
            "bin_start": 0,
            "count": 90
           },
           {
            "bin_end": 1.2,
            "bin_start": 0.6,
            "count": 4607
           },
           {
            "bin_end": 1.7999999999999998,
            "bin_start": 1.2,
            "count": 0
           },
           {
            "bin_end": 2.4,
            "bin_start": 1.7999999999999998,
            "count": 865
           },
           {
            "bin_end": 3,
            "bin_start": 2.4,
            "count": 0
           },
           {
            "bin_end": 3.5999999999999996,
            "bin_start": 3,
            "count": 240
           },
           {
            "bin_end": 4.2,
            "bin_start": 3.5999999999999996,
            "count": 109
           },
           {
            "bin_end": 4.8,
            "bin_start": 4.2,
            "count": 0
           },
           {
            "bin_end": 5.3999999999999995,
            "bin_start": 4.8,
            "count": 277
           },
           {
            "bin_end": 6,
            "bin_start": 5.3999999999999995,
            "count": 152
           }
          ],
          "max": "6",
          "min": "0",
          "nan_count": 0,
          "unique_count": 7
         }
        },
        {
         "dtype": "float64",
         "name": "distance",
         "stats": {
          "histogram": [
           {
            "bin_end": 3.6700000000000004,
            "bin_start": 0,
            "count": 4985
           },
           {
            "bin_end": 7.340000000000001,
            "bin_start": 3.6700000000000004,
            "count": 736
           },
           {
            "bin_end": 11.010000000000002,
            "bin_start": 7.340000000000001,
            "count": 315
           },
           {
            "bin_end": 14.680000000000001,
            "bin_start": 11.010000000000002,
            "count": 124
           },
           {
            "bin_end": 18.35,
            "bin_start": 14.680000000000001,
            "count": 99
           },
           {
            "bin_end": 22.020000000000003,
            "bin_start": 18.35,
            "count": 63
           },
           {
            "bin_end": 25.69,
            "bin_start": 22.020000000000003,
            "count": 13
           },
           {
            "bin_end": 29.360000000000003,
            "bin_start": 25.69,
            "count": 3
           },
           {
            "bin_end": 33.03,
            "bin_start": 29.360000000000003,
            "count": 1
           },
           {
            "bin_end": 36.7,
            "bin_start": 33.03,
            "count": 1
           }
          ],
          "max": "36.7",
          "min": "0.0",
          "nan_count": 0,
          "unique_count": 1064
         }
        },
        {
         "dtype": "float64",
         "name": "fare",
         "stats": {
          "histogram": [
           {
            "bin_end": 15.9,
            "bin_start": 1,
            "count": 4910
           },
           {
            "bin_end": 30.8,
            "bin_start": 15.9,
            "count": 969
           },
           {
            "bin_end": 45.7,
            "bin_start": 30.8,
            "count": 266
           },
           {
            "bin_end": 60.6,
            "bin_start": 45.7,
            "count": 178
           },
           {
            "bin_end": 75.5,
            "bin_start": 60.6,
            "count": 12
           },
           {
            "bin_end": 90.4,
            "bin_start": 75.5,
            "count": 3
           },
           {
            "bin_end": 105.3,
            "bin_start": 90.4,
            "count": 1
           },
           {
            "bin_end": 120.2,
            "bin_start": 105.3,
            "count": 0
           },
           {
            "bin_end": 135.1,
            "bin_start": 120.2,
            "count": 0
           },
           {
            "bin_end": 150,
            "bin_start": 135.1,
            "count": 1
           }
          ],
          "max": "150.0",
          "min": "1.0",
          "nan_count": 0,
          "unique_count": 206
         }
        },
        {
         "dtype": "float64",
         "name": "tip",
         "stats": {
          "histogram": [
           {
            "bin_end": 2.319,
            "bin_start": 0,
            "count": 4196
           },
           {
            "bin_end": 4.638,
            "bin_start": 2.319,
            "count": 1567
           },
           {
            "bin_end": 6.957,
            "bin_start": 4.638,
            "count": 305
           },
           {
            "bin_end": 9.276,
            "bin_start": 6.957,
            "count": 126
           },
           {
            "bin_end": 11.594999999999999,
            "bin_start": 9.276,
            "count": 76
           },
           {
            "bin_end": 13.914,
            "bin_start": 11.594999999999999,
            "count": 53
           },
           {
            "bin_end": 16.233,
            "bin_start": 13.914,
            "count": 11
           },
           {
            "bin_end": 18.552,
            "bin_start": 16.233,
            "count": 4
           },
           {
            "bin_end": 20.871,
            "bin_start": 18.552,
            "count": 1
           },
           {
            "bin_end": 23.19,
            "bin_start": 20.871,
            "count": 1
           }
          ],
          "max": "23.19",
          "min": "0.0",
          "nan_count": 0,
          "unique_count": 481
         }
        },
        {
         "dtype": "float64",
         "name": "tolls",
         "stats": {
          "histogram": [
           {
            "bin_end": 2.402,
            "bin_start": 0,
            "count": 6002
           },
           {
            "bin_end": 4.804,
            "bin_start": 2.402,
            "count": 7
           },
           {
            "bin_end": 7.206,
            "bin_start": 4.804,
            "count": 321
           },
           {
            "bin_end": 9.608,
            "bin_start": 7.206,
            "count": 3
           },
           {
            "bin_end": 12.010000000000002,
            "bin_start": 9.608,
            "count": 4
           },
           {
            "bin_end": 14.412,
            "bin_start": 12.010000000000002,
            "count": 1
           },
           {
            "bin_end": 16.814,
            "bin_start": 14.412,
            "count": 0
           },
           {
            "bin_end": 19.216,
            "bin_start": 16.814,
            "count": 1
           },
           {
            "bin_end": 21.618000000000002,
            "bin_start": 19.216,
            "count": 0
           },
           {
            "bin_end": 24.02,
            "bin_start": 21.618000000000002,
            "count": 1
           }
          ],
          "max": "24.02",
          "min": "0.0",
          "nan_count": 0,
          "unique_count": 14
         }
        },
        {
         "dtype": "float64",
         "name": "total",
         "stats": {
          "histogram": [
           {
            "bin_end": 18.651999999999997,
            "bin_start": 1.3,
            "count": 4452
           },
           {
            "bin_end": 36.00399999999999,
            "bin_start": 18.651999999999997,
            "count": 1353
           },
           {
            "bin_end": 53.35599999999999,
            "bin_start": 36.00399999999999,
            "count": 303
           },
           {
            "bin_end": 70.70799999999998,
            "bin_start": 53.35599999999999,
            "count": 156
           },
           {
            "bin_end": 88.05999999999999,
            "bin_start": 70.70799999999998,
            "count": 71
           },
           {
            "bin_end": 105.41199999999998,
            "bin_start": 88.05999999999999,
            "count": 4
           },
           {
            "bin_end": 122.76399999999997,
            "bin_start": 105.41199999999998,
            "count": 0
           },
           {
            "bin_end": 140.11599999999999,
            "bin_start": 122.76399999999997,
            "count": 0
           },
           {
            "bin_end": 157.468,
            "bin_start": 140.11599999999999,
            "count": 0
           },
           {
            "bin_end": 174.82,
            "bin_start": 157.468,
            "count": 1
           }
          ],
          "max": "174.82",
          "min": "1.3",
          "nan_count": 0,
          "unique_count": 877
         }
        },
        {
         "dtype": "object",
         "name": "color",
         "stats": {
          "categories": [
           {
            "count": 5372,
            "name": "yellow"
           },
           {
            "count": 968,
            "name": "green"
           }
          ],
          "nan_count": 0,
          "unique_count": 2
         }
        },
        {
         "dtype": "object",
         "name": "payment",
         "stats": {
          "categories": [
           {
            "count": 4545,
            "name": "credit card"
           },
           {
            "count": 1795,
            "name": "cash"
           }
          ],
          "nan_count": 0,
          "unique_count": 2
         }
        },
        {
         "dtype": "object",
         "name": "pickup_zone",
         "stats": {
          "categories": [
           {
            "count": 227,
            "name": "Midtown Center"
           },
           {
            "count": 209,
            "name": "Penn Station/Madison Sq West"
           },
           {
            "count": 5904,
            "name": "192 others"
           }
          ],
          "nan_count": 0,
          "unique_count": 194
         }
        },
        {
         "dtype": "object",
         "name": "dropoff_zone",
         "stats": {
          "categories": [
           {
            "count": 244,
            "name": "Upper East Side North"
           },
           {
            "count": 217,
            "name": "Murray Hill"
           },
           {
            "count": 5879,
            "name": "201 others"
           }
          ],
          "nan_count": 0,
          "unique_count": 203
         }
        },
        {
         "dtype": "object",
         "name": "pickup_borough",
         "stats": {
          "categories": [
           {
            "count": 5225,
            "name": "Manhattan"
           },
           {
            "count": 638,
            "name": "Queens"
           },
           {
            "count": 477,
            "name": "2 others"
           }
          ],
          "nan_count": 0,
          "unique_count": 4
         }
        },
        {
         "dtype": "object",
         "name": "dropoff_borough",
         "stats": {
          "categories": [
           {
            "count": 5171,
            "name": "Manhattan"
           },
           {
            "count": 534,
            "name": "Queens"
           },
           {
            "count": 635,
            "name": "3 others"
           }
          ],
          "nan_count": 0,
          "unique_count": 5
         }
        },
        {
         "dtype": "int64",
         "name": "_deepnote_index_column"
        }
       ],
       "row_count": 6340,
       "rows": [
        {
         "_deepnote_index_column": "0",
         "color": "yellow",
         "distance": "1.6",
         "dropoff": "2019-03-23 20:27:24",
         "dropoff_borough": "Manhattan",
         "dropoff_zone": "UN/Turtle Bay South",
         "fare": "7.0",
         "passengers": "1",
         "payment": "credit card",
         "pickup": "2019-03-23 20:21:09",
         "pickup_borough": "Manhattan",
         "pickup_zone": "Lenox Hill West",
         "tip": "2.15",
         "tolls": "0.0",
         "total": "12.95"
        },
        {
         "_deepnote_index_column": "1",
         "color": "yellow",
         "distance": "0.79",
         "dropoff": "2019-03-04 16:19:00",
         "dropoff_borough": "Manhattan",
         "dropoff_zone": "Upper West Side South",
         "fare": "5.0",
         "passengers": "1",
         "payment": "cash",
         "pickup": "2019-03-04 16:11:55",
         "pickup_borough": "Manhattan",
         "pickup_zone": "Upper West Side South",
         "tip": "0.0",
         "tolls": "0.0",
         "total": "9.3"
        },
        {
         "_deepnote_index_column": "2",
         "color": "yellow",
         "distance": "1.37",
         "dropoff": "2019-03-27 18:00:25",
         "dropoff_borough": "Manhattan",
         "dropoff_zone": "West Village",
         "fare": "7.5",
         "passengers": "1",
         "payment": "credit card",
         "pickup": "2019-03-27 17:53:01",
         "pickup_borough": "Manhattan",
         "pickup_zone": "Alphabet City",
         "tip": "2.36",
         "tolls": "0.0",
         "total": "14.16"
        },
        {
         "_deepnote_index_column": "4",
         "color": "yellow",
         "distance": "2.16",
         "dropoff": "2019-03-30 13:37:14",
         "dropoff_borough": "Manhattan",
         "dropoff_zone": "Yorkville West",
         "fare": "9.0",
         "passengers": "3",
         "payment": "credit card",
         "pickup": "2019-03-30 13:27:42",
         "pickup_borough": "Manhattan",
         "pickup_zone": "Midtown East",
         "tip": "1.1",
         "tolls": "0.0",
         "total": "13.4"
        },
        {
         "_deepnote_index_column": "5",
         "color": "yellow",
         "distance": "0.49",
         "dropoff": "2019-03-11 10:47:31",
         "dropoff_borough": "Manhattan",
         "dropoff_zone": "Midtown East",
         "fare": "7.5",
         "passengers": "1",
         "payment": "credit card",
         "pickup": "2019-03-11 10:37:23",
         "pickup_borough": "Manhattan",
         "pickup_zone": "Times Sq/Theatre District",
         "tip": "2.16",
         "tolls": "0.0",
         "total": "12.96"
        },
        {
         "_deepnote_index_column": "6",
         "color": "yellow",
         "distance": "3.65",
         "dropoff": "2019-03-26 21:17:29",
         "dropoff_borough": "Manhattan",
         "dropoff_zone": "Two Bridges/Seward Park",
         "fare": "13.0",
         "passengers": "1",
         "payment": "credit card",
         "pickup": "2019-03-26 21:07:31",
         "pickup_borough": "Manhattan",
         "pickup_zone": "Battery Park City",
         "tip": "2.0",
         "tolls": "0.0",
         "total": "18.8"
        },
        {
         "_deepnote_index_column": "8",
         "color": "yellow",
         "distance": "3.63",
         "dropoff": "2019-03-23 12:06:14",
         "dropoff_borough": "Manhattan",
         "dropoff_zone": "Midtown Center",
         "fare": "15.0",
         "passengers": "1",
         "payment": "credit card",
         "pickup": "2019-03-23 11:48:50",
         "pickup_borough": "Manhattan",
         "pickup_zone": "East Harlem South",
         "tip": "1.0",
         "tolls": "0.0",
         "total": "19.3"
        },
        {
         "_deepnote_index_column": "9",
         "color": "yellow",
         "distance": "1.52",
         "dropoff": "2019-03-08 16:26:57",
         "dropoff_borough": "Manhattan",
         "dropoff_zone": "Central Park",
         "fare": "8.0",
         "passengers": "1",
         "payment": "credit card",
         "pickup": "2019-03-08 16:18:37",
         "pickup_borough": "Manhattan",
         "pickup_zone": "Lincoln Square East",
         "tip": "1.0",
         "tolls": "0.0",
         "total": "13.3"
        },
        {
         "_deepnote_index_column": "10",
         "color": "yellow",
         "distance": "3.9",
         "dropoff": "2019-03-16 10:22:29",
         "dropoff_borough": "Queens",
         "dropoff_zone": "Astoria",
         "fare": "17.0",
         "passengers": "1",
         "payment": "cash",
         "pickup": "2019-03-16 10:02:25",
         "pickup_borough": "Queens",
         "pickup_zone": "LaGuardia Airport",
         "tip": "0.0",
         "tolls": "0.0",
         "total": "17.8"
        },
        {
         "_deepnote_index_column": "11",
         "color": "yellow",
         "distance": "1.53",
         "dropoff": "2019-03-20 19:45:36",
         "dropoff_borough": "Manhattan",
         "dropoff_zone": "Manhattan Valley",
         "fare": "6.5",
         "passengers": "1",
         "payment": "credit card",
         "pickup": "2019-03-20 19:39:42",
         "pickup_borough": "Manhattan",
         "pickup_zone": "Upper West Side South",
         "tip": "2.16",
         "tolls": "0.0",
         "total": "12.96"
        }
       ]
      },
      "text/html": [
       "<div>\n",
       "<style scoped>\n",
       "    .dataframe tbody tr th:only-of-type {\n",
       "        vertical-align: middle;\n",
       "    }\n",
       "\n",
       "    .dataframe tbody tr th {\n",
       "        vertical-align: top;\n",
       "    }\n",
       "\n",
       "    .dataframe thead th {\n",
       "        text-align: right;\n",
       "    }\n",
       "</style>\n",
       "<table border=\"1\" class=\"dataframe\">\n",
       "  <thead>\n",
       "    <tr style=\"text-align: right;\">\n",
       "      <th></th>\n",
       "      <th>pickup</th>\n",
       "      <th>dropoff</th>\n",
       "      <th>passengers</th>\n",
       "      <th>distance</th>\n",
       "      <th>fare</th>\n",
       "      <th>tip</th>\n",
       "      <th>tolls</th>\n",
       "      <th>total</th>\n",
       "      <th>color</th>\n",
       "      <th>payment</th>\n",
       "      <th>pickup_zone</th>\n",
       "      <th>dropoff_zone</th>\n",
       "      <th>pickup_borough</th>\n",
       "      <th>dropoff_borough</th>\n",
       "    </tr>\n",
       "  </thead>\n",
       "  <tbody>\n",
       "    <tr>\n",
       "      <th>0</th>\n",
       "      <td>2019-03-23 20:21:09</td>\n",
       "      <td>2019-03-23 20:27:24</td>\n",
       "      <td>1</td>\n",
       "      <td>1.60</td>\n",
       "      <td>7.0</td>\n",
       "      <td>2.15</td>\n",
       "      <td>0.0</td>\n",
       "      <td>12.95</td>\n",
       "      <td>yellow</td>\n",
       "      <td>credit card</td>\n",
       "      <td>Lenox Hill West</td>\n",
       "      <td>UN/Turtle Bay South</td>\n",
       "      <td>Manhattan</td>\n",
       "      <td>Manhattan</td>\n",
       "    </tr>\n",
       "    <tr>\n",
       "      <th>1</th>\n",
       "      <td>2019-03-04 16:11:55</td>\n",
       "      <td>2019-03-04 16:19:00</td>\n",
       "      <td>1</td>\n",
       "      <td>0.79</td>\n",
       "      <td>5.0</td>\n",
       "      <td>0.00</td>\n",
       "      <td>0.0</td>\n",
       "      <td>9.30</td>\n",
       "      <td>yellow</td>\n",
       "      <td>cash</td>\n",
       "      <td>Upper West Side South</td>\n",
       "      <td>Upper West Side South</td>\n",
       "      <td>Manhattan</td>\n",
       "      <td>Manhattan</td>\n",
       "    </tr>\n",
       "    <tr>\n",
       "      <th>2</th>\n",
       "      <td>2019-03-27 17:53:01</td>\n",
       "      <td>2019-03-27 18:00:25</td>\n",
       "      <td>1</td>\n",
       "      <td>1.37</td>\n",
       "      <td>7.5</td>\n",
       "      <td>2.36</td>\n",
       "      <td>0.0</td>\n",
       "      <td>14.16</td>\n",
       "      <td>yellow</td>\n",
       "      <td>credit card</td>\n",
       "      <td>Alphabet City</td>\n",
       "      <td>West Village</td>\n",
       "      <td>Manhattan</td>\n",
       "      <td>Manhattan</td>\n",
       "    </tr>\n",
       "    <tr>\n",
       "      <th>4</th>\n",
       "      <td>2019-03-30 13:27:42</td>\n",
       "      <td>2019-03-30 13:37:14</td>\n",
       "      <td>3</td>\n",
       "      <td>2.16</td>\n",
       "      <td>9.0</td>\n",
       "      <td>1.10</td>\n",
       "      <td>0.0</td>\n",
       "      <td>13.40</td>\n",
       "      <td>yellow</td>\n",
       "      <td>credit card</td>\n",
       "      <td>Midtown East</td>\n",
       "      <td>Yorkville West</td>\n",
       "      <td>Manhattan</td>\n",
       "      <td>Manhattan</td>\n",
       "    </tr>\n",
       "    <tr>\n",
       "      <th>5</th>\n",
       "      <td>2019-03-11 10:37:23</td>\n",
       "      <td>2019-03-11 10:47:31</td>\n",
       "      <td>1</td>\n",
       "      <td>0.49</td>\n",
       "      <td>7.5</td>\n",
       "      <td>2.16</td>\n",
       "      <td>0.0</td>\n",
       "      <td>12.96</td>\n",
       "      <td>yellow</td>\n",
       "      <td>credit card</td>\n",
       "      <td>Times Sq/Theatre District</td>\n",
       "      <td>Midtown East</td>\n",
       "      <td>Manhattan</td>\n",
       "      <td>Manhattan</td>\n",
       "    </tr>\n",
       "    <tr>\n",
       "      <th>...</th>\n",
       "      <td>...</td>\n",
       "      <td>...</td>\n",
       "      <td>...</td>\n",
       "      <td>...</td>\n",
       "      <td>...</td>\n",
       "      <td>...</td>\n",
       "      <td>...</td>\n",
       "      <td>...</td>\n",
       "      <td>...</td>\n",
       "      <td>...</td>\n",
       "      <td>...</td>\n",
       "      <td>...</td>\n",
       "      <td>...</td>\n",
       "      <td>...</td>\n",
       "    </tr>\n",
       "    <tr>\n",
       "      <th>6428</th>\n",
       "      <td>2019-03-31 09:51:53</td>\n",
       "      <td>2019-03-31 09:55:27</td>\n",
       "      <td>1</td>\n",
       "      <td>0.75</td>\n",
       "      <td>4.5</td>\n",
       "      <td>1.06</td>\n",
       "      <td>0.0</td>\n",
       "      <td>6.36</td>\n",
       "      <td>green</td>\n",
       "      <td>credit card</td>\n",
       "      <td>East Harlem North</td>\n",
       "      <td>Central Harlem North</td>\n",
       "      <td>Manhattan</td>\n",
       "      <td>Manhattan</td>\n",
       "    </tr>\n",
       "    <tr>\n",
       "      <th>6429</th>\n",
       "      <td>2019-03-31 17:38:00</td>\n",
       "      <td>2019-03-31 18:34:23</td>\n",
       "      <td>1</td>\n",
       "      <td>18.74</td>\n",
       "      <td>58.0</td>\n",
       "      <td>0.00</td>\n",
       "      <td>0.0</td>\n",
       "      <td>58.80</td>\n",
       "      <td>green</td>\n",
       "      <td>credit card</td>\n",
       "      <td>Jamaica</td>\n",
       "      <td>East Concourse/Concourse Village</td>\n",
       "      <td>Queens</td>\n",
       "      <td>Bronx</td>\n",
       "    </tr>\n",
       "    <tr>\n",
       "      <th>6430</th>\n",
       "      <td>2019-03-23 22:55:18</td>\n",
       "      <td>2019-03-23 23:14:25</td>\n",
       "      <td>1</td>\n",
       "      <td>4.14</td>\n",
       "      <td>16.0</td>\n",
       "      <td>0.00</td>\n",
       "      <td>0.0</td>\n",
       "      <td>17.30</td>\n",
       "      <td>green</td>\n",
       "      <td>cash</td>\n",
       "      <td>Crown Heights North</td>\n",
       "      <td>Bushwick North</td>\n",
       "      <td>Brooklyn</td>\n",
       "      <td>Brooklyn</td>\n",
       "    </tr>\n",
       "    <tr>\n",
       "      <th>6431</th>\n",
       "      <td>2019-03-04 10:09:25</td>\n",
       "      <td>2019-03-04 10:14:29</td>\n",
       "      <td>1</td>\n",
       "      <td>1.12</td>\n",
       "      <td>6.0</td>\n",
       "      <td>0.00</td>\n",
       "      <td>0.0</td>\n",
       "      <td>6.80</td>\n",
       "      <td>green</td>\n",
       "      <td>credit card</td>\n",
       "      <td>East New York</td>\n",
       "      <td>East Flatbush/Remsen Village</td>\n",
       "      <td>Brooklyn</td>\n",
       "      <td>Brooklyn</td>\n",
       "    </tr>\n",
       "    <tr>\n",
       "      <th>6432</th>\n",
       "      <td>2019-03-13 19:31:22</td>\n",
       "      <td>2019-03-13 19:48:02</td>\n",
       "      <td>1</td>\n",
       "      <td>3.85</td>\n",
       "      <td>15.0</td>\n",
       "      <td>3.36</td>\n",
       "      <td>0.0</td>\n",
       "      <td>20.16</td>\n",
       "      <td>green</td>\n",
       "      <td>credit card</td>\n",
       "      <td>Boerum Hill</td>\n",
       "      <td>Windsor Terrace</td>\n",
       "      <td>Brooklyn</td>\n",
       "      <td>Brooklyn</td>\n",
       "    </tr>\n",
       "  </tbody>\n",
       "</table>\n",
       "<p>6340 rows × 14 columns</p>\n",
       "</div>"
      ],
      "text/plain": [
       "                  pickup             dropoff  passengers  distance  fare  \\\n",
       "0    2019-03-23 20:21:09 2019-03-23 20:27:24           1      1.60   7.0   \n",
       "1    2019-03-04 16:11:55 2019-03-04 16:19:00           1      0.79   5.0   \n",
       "2    2019-03-27 17:53:01 2019-03-27 18:00:25           1      1.37   7.5   \n",
       "4    2019-03-30 13:27:42 2019-03-30 13:37:14           3      2.16   9.0   \n",
       "5    2019-03-11 10:37:23 2019-03-11 10:47:31           1      0.49   7.5   \n",
       "...                  ...                 ...         ...       ...   ...   \n",
       "6428 2019-03-31 09:51:53 2019-03-31 09:55:27           1      0.75   4.5   \n",
       "6429 2019-03-31 17:38:00 2019-03-31 18:34:23           1     18.74  58.0   \n",
       "6430 2019-03-23 22:55:18 2019-03-23 23:14:25           1      4.14  16.0   \n",
       "6431 2019-03-04 10:09:25 2019-03-04 10:14:29           1      1.12   6.0   \n",
       "6432 2019-03-13 19:31:22 2019-03-13 19:48:02           1      3.85  15.0   \n",
       "\n",
       "       tip  tolls  total   color      payment                pickup_zone  \\\n",
       "0     2.15    0.0  12.95  yellow  credit card            Lenox Hill West   \n",
       "1     0.00    0.0   9.30  yellow         cash      Upper West Side South   \n",
       "2     2.36    0.0  14.16  yellow  credit card              Alphabet City   \n",
       "4     1.10    0.0  13.40  yellow  credit card               Midtown East   \n",
       "5     2.16    0.0  12.96  yellow  credit card  Times Sq/Theatre District   \n",
       "...    ...    ...    ...     ...          ...                        ...   \n",
       "6428  1.06    0.0   6.36   green  credit card          East Harlem North   \n",
       "6429  0.00    0.0  58.80   green  credit card                    Jamaica   \n",
       "6430  0.00    0.0  17.30   green         cash        Crown Heights North   \n",
       "6431  0.00    0.0   6.80   green  credit card              East New York   \n",
       "6432  3.36    0.0  20.16   green  credit card                Boerum Hill   \n",
       "\n",
       "                          dropoff_zone pickup_borough dropoff_borough  \n",
       "0                  UN/Turtle Bay South      Manhattan       Manhattan  \n",
       "1                Upper West Side South      Manhattan       Manhattan  \n",
       "2                         West Village      Manhattan       Manhattan  \n",
       "4                       Yorkville West      Manhattan       Manhattan  \n",
       "5                         Midtown East      Manhattan       Manhattan  \n",
       "...                                ...            ...             ...  \n",
       "6428              Central Harlem North      Manhattan       Manhattan  \n",
       "6429  East Concourse/Concourse Village         Queens           Bronx  \n",
       "6430                    Bushwick North       Brooklyn        Brooklyn  \n",
       "6431      East Flatbush/Remsen Village       Brooklyn        Brooklyn  \n",
       "6432                   Windsor Terrace       Brooklyn        Brooklyn  \n",
       "\n",
       "[6340 rows x 14 columns]"
      ]
     },
     "execution_count": 24,
     "metadata": {},
     "output_type": "execute_result"
    }
   ],
   "source": [
    "df = df.dropna(axis=0).copy()\n",
    "df"
   ]
  },
  {
   "cell_type": "markdown",
   "metadata": {
    "cell_id": "67cba4c6bf7a4849a82985ef981a2b07",
    "deepnote_cell_type": "markdown"
   },
   "source": [
    "## Examples with list comprehension and f-strings"
   ]
  },
  {
   "cell_type": "markdown",
   "metadata": {
    "cell_id": "2803c8f7219c4d3b99baf913404968a8",
    "deepnote_cell_type": "markdown"
   },
   "source": [
    "* The expression `pd.to_datetime(\"4-24-2023\").day_name()` produces the string `\"Monday\"`.  Using this idea, make the following length 7 list, and name the result `day_list`.\n",
    "```\n",
    "[\"Monday\", \"Tuesday\", ..., \"Sunday\"]\n",
    "```\n",
    "(On a quiz or exam, explicitly writing out 7 different values will not get credit.)"
   ]
  },
  {
   "cell_type": "code",
   "execution_count": 26,
   "metadata": {
    "cell_id": "154b609907164a0f89a99277d042f521",
    "deepnote_cell_type": "code",
    "deepnote_to_be_reexecuted": false,
    "execution_millis": 12,
    "execution_start": 1682367993287,
    "source_hash": "9b82ee11"
   },
   "outputs": [],
   "source": [
    "import pandas as pd"
   ]
  },
  {
   "cell_type": "markdown",
   "metadata": {},
   "source": [
    "We don't need to use the `dt` accessor here, because we are working with a single value, not with a pandas Series."
   ]
  },
  {
   "cell_type": "code",
   "execution_count": 27,
   "metadata": {
    "cell_id": "189047e03c5f41c98581c89c044b365a",
    "deepnote_cell_type": "code",
    "deepnote_to_be_reexecuted": false,
    "execution_millis": 1,
    "execution_start": 1682367993935,
    "source_hash": "c009acff"
   },
   "outputs": [
    {
     "data": {
      "text/plain": [
       "'Monday'"
      ]
     },
     "execution_count": 27,
     "metadata": {},
     "output_type": "execute_result"
    }
   ],
   "source": [
    "pd.to_datetime(\"4-24-2023\").day_name()"
   ]
  },
  {
   "cell_type": "markdown",
   "metadata": {},
   "source": [
    "Let's slowly build up to making this list.  Here we get the day numbers we will use."
   ]
  },
  {
   "cell_type": "code",
   "execution_count": 28,
   "metadata": {
    "cell_id": "237cf74e02b24fb08c7a199d2cc4302b",
    "deepnote_cell_type": "code",
    "deepnote_to_be_reexecuted": false,
    "execution_millis": 49,
    "execution_start": 1682368066656,
    "source_hash": "947a3fce"
   },
   "outputs": [
    {
     "name": "stdout",
     "output_type": "stream",
     "text": [
      "24\n",
      "25\n",
      "26\n",
      "27\n",
      "28\n",
      "29\n",
      "30\n"
     ]
    }
   ],
   "source": [
    "# for-loop way\n",
    "\n",
    "for i in range(24,31):\n",
    "    print(i)"
   ]
  },
  {
   "cell_type": "markdown",
   "metadata": {},
   "source": [
    "\"Of course\" the following is not going to work... how would Python know that the `i` inside the string was a variable?"
   ]
  },
  {
   "cell_type": "code",
   "execution_count": 30,
   "metadata": {
    "cell_id": "14992deee2604fed8ea12ad546abada1",
    "deepnote_cell_type": "code",
    "deepnote_to_be_reexecuted": false,
    "execution_millis": 13,
    "execution_start": 1682368153316,
    "source_hash": "f943d130"
   },
   "outputs": [
    {
     "name": "stdout",
     "output_type": "stream",
     "text": [
      "4-i-2023\n",
      "4-i-2023\n",
      "4-i-2023\n",
      "4-i-2023\n",
      "4-i-2023\n",
      "4-i-2023\n",
      "4-i-2023\n"
     ]
    }
   ],
   "source": [
    "# for-loop way\n",
    "\n",
    "for i in range(24,31):\n",
    "    print(\"4-i-2023\")"
   ]
  },
  {
   "cell_type": "markdown",
   "metadata": {},
   "source": [
    "The following is a little clumsy, and even it does not work, because we are trying to combine a string like `\"4-\"` with an integer like `24`."
   ]
  },
  {
   "cell_type": "code",
   "execution_count": 32,
   "metadata": {
    "cell_id": "93973f0ee27d416c954eb079a7fe2c2c",
    "deepnote_cell_type": "code",
    "deepnote_to_be_reexecuted": false,
    "execution_millis": 8,
    "execution_start": 1682368241592,
    "source_hash": "79c9e833"
   },
   "outputs": [
    {
     "ename": "TypeError",
     "evalue": "can only concatenate str (not \"int\") to str",
     "output_type": "error",
     "traceback": [
      "\u001b[0;31m---------------------------------------------------------------------------\u001b[0m",
      "\u001b[0;31mTypeError\u001b[0m                                 Traceback (most recent call last)",
      "Cell \u001b[0;32mIn [32], line 4\u001b[0m\n\u001b[1;32m      1\u001b[0m \u001b[38;5;66;03m# for-loop way, old way\u001b[39;00m\n\u001b[1;32m      3\u001b[0m \u001b[38;5;28;01mfor\u001b[39;00m i \u001b[38;5;129;01min\u001b[39;00m \u001b[38;5;28mrange\u001b[39m(\u001b[38;5;241m24\u001b[39m,\u001b[38;5;241m31\u001b[39m):\n\u001b[0;32m----> 4\u001b[0m     \u001b[38;5;28mprint\u001b[39m(\u001b[38;5;124;43m\"\u001b[39;49m\u001b[38;5;124;43m4-\u001b[39;49m\u001b[38;5;124;43m\"\u001b[39;49m\u001b[43m \u001b[49m\u001b[38;5;241;43m+\u001b[39;49m\u001b[43m \u001b[49m\u001b[43mi\u001b[49m \u001b[38;5;241m+\u001b[39m \u001b[38;5;124m\"\u001b[39m\u001b[38;5;124m-2023\u001b[39m\u001b[38;5;124m\"\u001b[39m)\n",
      "\u001b[0;31mTypeError\u001b[0m: can only concatenate str (not \"int\") to str"
     ]
    }
   ],
   "source": [
    "# for-loop way, old way\n",
    "\n",
    "for i in range(24,31):\n",
    "    print(\"4-\" + i + \"-2023\")"
   ]
  },
  {
   "cell_type": "markdown",
   "metadata": {},
   "source": [
    "To fix the above error, we need to convert `i` to a string, using `str`.  This works, but we will see a much more elegant way below."
   ]
  },
  {
   "cell_type": "code",
   "execution_count": 33,
   "metadata": {
    "cell_id": "d9d2e3ac7dbe4a35a477143932e7827e",
    "deepnote_cell_type": "code",
    "deepnote_to_be_reexecuted": false,
    "execution_millis": 15,
    "execution_start": 1682368268603,
    "source_hash": "405532d7"
   },
   "outputs": [
    {
     "name": "stdout",
     "output_type": "stream",
     "text": [
      "4-24-2023\n",
      "4-25-2023\n",
      "4-26-2023\n",
      "4-27-2023\n",
      "4-28-2023\n",
      "4-29-2023\n",
      "4-30-2023\n"
     ]
    }
   ],
   "source": [
    "# for-loop way, old way\n",
    "\n",
    "for i in range(24,31):\n",
    "    print(\"4-\" + str(i) + \"-2023\")"
   ]
  },
  {
   "cell_type": "markdown",
   "metadata": {},
   "source": [
    "Here is the exact same thing, but using f-strings.  (These were added relatively recently, in Python 3.6.)  Notice the two changes: (1) We put the letter `f` before the opening quotation mark, and (2) we put the variable inside curly brackets."
   ]
  },
  {
   "cell_type": "code",
   "execution_count": 31,
   "metadata": {
    "cell_id": "9520dff1e9fd405fa04fe8b33b69bde6",
    "deepnote_cell_type": "code",
    "deepnote_to_be_reexecuted": false,
    "execution_millis": 6,
    "execution_start": 1682368181228,
    "source_hash": "e4797a1"
   },
   "outputs": [
    {
     "name": "stdout",
     "output_type": "stream",
     "text": [
      "4-24-2023\n",
      "4-25-2023\n",
      "4-26-2023\n",
      "4-27-2023\n",
      "4-28-2023\n",
      "4-29-2023\n",
      "4-30-2023\n"
     ]
    }
   ],
   "source": [
    "# for-loop way, f-string way\n",
    "\n",
    "for i in range(24,31):\n",
    "    print(f\"4-{i}-2023\")"
   ]
  },
  {
   "cell_type": "markdown",
   "metadata": {},
   "source": [
    "Now we can finally use the `to_datetime` function and the `day_name` method to get the strings for the days of the week."
   ]
  },
  {
   "cell_type": "code",
   "execution_count": 34,
   "metadata": {
    "cell_id": "0bec0c9f96d84cb6a130f7f9c1c54d78",
    "deepnote_cell_type": "code",
    "deepnote_to_be_reexecuted": false,
    "execution_millis": 5,
    "execution_start": 1682368386494,
    "source_hash": "99bf1404"
   },
   "outputs": [
    {
     "name": "stdout",
     "output_type": "stream",
     "text": [
      "Monday\n",
      "Tuesday\n",
      "Wednesday\n",
      "Thursday\n",
      "Friday\n",
      "Saturday\n",
      "Sunday\n"
     ]
    }
   ],
   "source": [
    "# for-loop way, f-string way\n",
    "\n",
    "for i in range(24,31):\n",
    "    print(pd.to_datetime(f\"4-{i}-2023\").day_name())"
   ]
  },
  {
   "cell_type": "markdown",
   "metadata": {},
   "source": [
    "Here would be the for-loop way to put these names into a list."
   ]
  },
  {
   "cell_type": "code",
   "execution_count": 36,
   "metadata": {
    "cell_id": "4730b184e49840618f43158dab754b74",
    "deepnote_cell_type": "code",
    "deepnote_to_be_reexecuted": false,
    "execution_millis": 3,
    "execution_start": 1682368625592,
    "source_hash": "7c4ae429"
   },
   "outputs": [
    {
     "data": {
      "text/plain": [
       "['Monday', 'Tuesday', 'Wednesday', 'Thursday', 'Friday', 'Saturday', 'Sunday']"
      ]
     },
     "execution_count": 36,
     "metadata": {},
     "output_type": "execute_result"
    }
   ],
   "source": [
    "day_list = []\n",
    "\n",
    "for i in range(24,31):\n",
    "    day_list.append(pd.to_datetime(f\"4-{i}-2023\").day_name())\n",
    "\n",
    "day_list"
   ]
  },
  {
   "cell_type": "markdown",
   "metadata": {},
   "source": [
    "The list comprehension approach is much more elegant.  The most basic example of list comprehension is `[A for B in C]`, where `A` is what should go into the list, `B` is the variable name, and `C` is whatever we are iterating over.  The best way to gain comfort with list comprehension is to do the same thing using a for loop, and compare.  For example, compare the following to what we just did."
   ]
  },
  {
   "cell_type": "code",
   "execution_count": 38,
   "metadata": {
    "cell_id": "e725b121bcb14452ae518d17ff6a1a36",
    "deepnote_cell_type": "code",
    "deepnote_to_be_reexecuted": false,
    "execution_millis": 104,
    "execution_start": 1682368698736,
    "source_hash": "5ab4e3b5"
   },
   "outputs": [
    {
     "data": {
      "text/plain": [
       "['Monday', 'Tuesday', 'Wednesday', 'Thursday', 'Friday', 'Saturday', 'Sunday']"
      ]
     },
     "execution_count": 38,
     "metadata": {},
     "output_type": "execute_result"
    }
   ],
   "source": [
    "# list comprehension way\n",
    "day_list = [pd.to_datetime(f\"4-{i}-2023\").day_name() for i in range(24,31)]\n",
    "day_list"
   ]
  },
  {
   "cell_type": "markdown",
   "metadata": {},
   "source": [
    "We didn't get further than this."
   ]
  },
  {
   "cell_type": "markdown",
   "metadata": {
    "cell_id": "bca6251e029b41e0b0f90d8f35647be2",
    "deepnote_cell_type": "markdown"
   },
   "source": [
    "* Make a new column named \"Day\" in the DataFrame, containing the day of the pickup (as a string, like `\"Monday\"`)."
   ]
  },
  {
   "cell_type": "markdown",
   "metadata": {
    "cell_id": "b9c4bf6b11234b1f9df65b30711643be",
    "deepnote_cell_type": "markdown"
   },
   "source": [
    "* Why didn't we have to use `pd.to_datetime`?"
   ]
  },
  {
   "cell_type": "markdown",
   "metadata": {
    "cell_id": "eeac715bfe7a4be88c36aeed5d28231b",
    "deepnote_cell_type": "markdown"
   },
   "source": [
    "* For each day, what was the median tip for that day?  Print out a string with explanation for each day.  Use `groupby`.  Also specify `:.2f` in the string formatting part so that only two decimal places get printed."
   ]
  },
  {
   "cell_type": "markdown",
   "metadata": {
    "cell_id": "b6d883590d254ca1b7023b2c9f4e3bbf",
    "deepnote_cell_type": "markdown"
   },
   "source": [
    "* Make a list of all the row labels in `df` for which the \"pickup_zone\" or \"dropoff_zone\" contains the substring \"Airport\".  Name the result `ind_list`."
   ]
  },
  {
   "cell_type": "markdown",
   "metadata": {
    "cell_id": "c45265cb3e0d4d7796a5337281104fc9",
    "deepnote_cell_type": "markdown"
   },
   "source": [
    "* Write a function `has_airport` which takes as input a row from `df` (not a row label but an entire row) and as output returns `True` if the \"pickup_zone\" or \"dropoff_zone\" entry contains the substring \"Airport\"."
   ]
  },
  {
   "cell_type": "markdown",
   "metadata": {
    "cell_id": "c1edc8eb05ac46d285aac2785a9dcca2",
    "deepnote_cell_type": "markdown"
   },
   "source": [
    "* Make a new column `\"Airport\"` which contains `True` if the \"pickup_zone\" or \"dropoff_zone\" contains the substring \"Airport\", and otherwise contains `False`.  Use `df.apply(???, axis=???)`."
   ]
  },
  {
   "cell_type": "markdown",
   "metadata": {
    "cell_id": "820bd248610c4b17bec0fa98e853c4b0",
    "deepnote_cell_type": "markdown"
   },
   "source": [
    "* Make the same column, again using `apply`, but this time using a lambda function."
   ]
  },
  {
   "cell_type": "markdown",
   "metadata": {
    "cell_id": "c353e74179a543d6bbd0b3403ab597e7",
    "deepnote_cell_type": "markdown"
   },
   "source": [
    "* Does the result match the indices we found in `ind_list`?"
   ]
  },
  {
   "cell_type": "markdown",
   "metadata": {
    "cell_id": "21c5dce04cbb4334ae12b43e95451d27",
    "deepnote_cell_type": "markdown"
   },
   "source": [
    "## Last part of class\n",
    "\n",
    "* Time to work on Worksheets 5-6 (due tonight) and 7 (due next week).\n",
    "* Maya is here to help."
   ]
  }
 ],
 "metadata": {
  "deepnote": {},
  "deepnote_execution_queue": [],
  "deepnote_notebook_id": "563f2c27a75446668c8fdf33e9a97ce5",
  "deepnote_persisted_session": {
   "createdAt": "2023-04-24T20:40:27.477Z"
  },
  "kernelspec": {
   "display_name": "Python 3 (ipykernel)",
   "language": "python",
   "name": "python3"
  },
  "language_info": {
   "codemirror_mode": {
    "name": "ipython",
    "version": 3
   },
   "file_extension": ".py",
   "mimetype": "text/x-python",
   "name": "python",
   "nbconvert_exporter": "python",
   "pygments_lexer": "ipython3",
   "version": "3.9.16"
  }
 },
 "nbformat": 4,
 "nbformat_minor": 4
}
