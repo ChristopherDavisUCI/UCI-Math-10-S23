{
 "cells": [
  {
   "cell_type": "markdown",
   "metadata": {
    "cell_id": "dad22a58c73d42b2a36c2ae1d286149b",
    "deepnote_cell_type": "markdown"
   },
   "source": [
    "# Week 4 Tuesday"
   ]
  },
  {
   "cell_type": "code",
   "execution_count": 1,
   "metadata": {
    "cell_id": "08dd134a19b14a29b7c707d63fdce4f3",
    "deepnote_cell_type": "code",
    "deepnote_to_be_reexecuted": false,
    "execution_millis": 2,
    "execution_start": 1682222292475,
    "source_hash": "9b82ee11"
   },
   "outputs": [],
   "source": [
    "import pandas as pd"
   ]
  },
  {
   "cell_type": "code",
   "execution_count": 2,
   "metadata": {
    "cell_id": "3f10d3e1e1b5411c8c6a634379c8271f",
    "deepnote_cell_type": "code",
    "deepnote_to_be_reexecuted": false,
    "execution_millis": 2,
    "execution_start": 1682222292476,
    "source_hash": "3f39c031"
   },
   "outputs": [],
   "source": [
    "df = pd.read_csv(\"spotify_dataset.csv\")"
   ]
  },
  {
   "cell_type": "code",
   "execution_count": 3,
   "metadata": {
    "cell_id": "9b4a057b368b457e8c8e569d327508e0",
    "deepnote_cell_type": "code",
    "deepnote_to_be_reexecuted": false,
    "execution_millis": 229,
    "execution_start": 1682222292477,
    "source_hash": "c085b6ba",
    "tags": [
     "output_scroll"
    ]
   },
   "outputs": [
    {
     "data": {
      "application/vnd.deepnote.dataframe.v3+json": {
       "column_count": 23,
       "columns": [
        {
         "dtype": "int64",
         "name": "Index",
         "stats": {
          "histogram": [
           {
            "bin_end": 1.4,
            "bin_start": 1,
            "count": 1
           },
           {
            "bin_end": 1.8,
            "bin_start": 1.4,
            "count": 0
           },
           {
            "bin_end": 2.2,
            "bin_start": 1.8,
            "count": 1
           },
           {
            "bin_end": 2.6,
            "bin_start": 2.2,
            "count": 0
           },
           {
            "bin_end": 3,
            "bin_start": 2.6,
            "count": 0
           },
           {
            "bin_end": 3.4000000000000004,
            "bin_start": 3,
            "count": 1
           },
           {
            "bin_end": 3.8000000000000003,
            "bin_start": 3.4000000000000004,
            "count": 0
           },
           {
            "bin_end": 4.2,
            "bin_start": 3.8000000000000003,
            "count": 1
           },
           {
            "bin_end": 4.6,
            "bin_start": 4.2,
            "count": 0
           },
           {
            "bin_end": 5,
            "bin_start": 4.6,
            "count": 1
           }
          ],
          "max": "5",
          "min": "1",
          "nan_count": 0,
          "unique_count": 5
         }
        },
        {
         "dtype": "int64",
         "name": "Highest Charting Position",
         "stats": {
          "histogram": [
           {
            "bin_end": 1.4,
            "bin_start": 1,
            "count": 2
           },
           {
            "bin_end": 1.8,
            "bin_start": 1.4,
            "count": 0
           },
           {
            "bin_end": 2.2,
            "bin_start": 1.8,
            "count": 1
           },
           {
            "bin_end": 2.6,
            "bin_start": 2.2,
            "count": 0
           },
           {
            "bin_end": 3,
            "bin_start": 2.6,
            "count": 0
           },
           {
            "bin_end": 3.4000000000000004,
            "bin_start": 3,
            "count": 1
           },
           {
            "bin_end": 3.8000000000000003,
            "bin_start": 3.4000000000000004,
            "count": 0
           },
           {
            "bin_end": 4.2,
            "bin_start": 3.8000000000000003,
            "count": 0
           },
           {
            "bin_end": 4.6,
            "bin_start": 4.2,
            "count": 0
           },
           {
            "bin_end": 5,
            "bin_start": 4.6,
            "count": 1
           }
          ],
          "max": "5",
          "min": "1",
          "nan_count": 0,
          "unique_count": 4
         }
        },
        {
         "dtype": "int64",
         "name": "Number of Times Charted",
         "stats": {
          "histogram": [
           {
            "bin_end": 2,
            "bin_start": 1,
            "count": 1
           },
           {
            "bin_end": 3,
            "bin_start": 2,
            "count": 0
           },
           {
            "bin_end": 4,
            "bin_start": 3,
            "count": 1
           },
           {
            "bin_end": 5,
            "bin_start": 4,
            "count": 0
           },
           {
            "bin_end": 6,
            "bin_start": 5,
            "count": 1
           },
           {
            "bin_end": 7,
            "bin_start": 6,
            "count": 0
           },
           {
            "bin_end": 8,
            "bin_start": 7,
            "count": 0
           },
           {
            "bin_end": 9,
            "bin_start": 8,
            "count": 1
           },
           {
            "bin_end": 10,
            "bin_start": 9,
            "count": 0
           },
           {
            "bin_end": 11,
            "bin_start": 10,
            "count": 1
           }
          ],
          "max": "11",
          "min": "1",
          "nan_count": 0,
          "unique_count": 5
         }
        },
        {
         "dtype": "object",
         "name": "Week of Highest Charting",
         "stats": {
          "categories": [
           {
            "count": 3,
            "name": "2021-07-23--2021-07-30"
           },
           {
            "count": 1,
            "name": "2021-06-25--2021-07-02"
           },
           {
            "count": 1,
            "name": "2021-07-02--2021-07-09"
           }
          ],
          "nan_count": 0,
          "unique_count": 3
         }
        },
        {
         "dtype": "object",
         "name": "Song Name",
         "stats": {
          "categories": [
           {
            "count": 1,
            "name": "Beggin'"
           },
           {
            "count": 1,
            "name": "STAY (with Justin Bieber)"
           },
           {
            "count": 3,
            "name": "3 others"
           }
          ],
          "nan_count": 0,
          "unique_count": 5
         }
        },
        {
         "dtype": "object",
         "name": "Streams",
         "stats": {
          "categories": [
           {
            "count": 1,
            "name": "48,633,449"
           },
           {
            "count": 1,
            "name": "47,248,719"
           },
           {
            "count": 3,
            "name": "3 others"
           }
          ],
          "nan_count": 0,
          "unique_count": 5
         }
        },
        {
         "dtype": "object",
         "name": "Artist",
         "stats": {
          "categories": [
           {
            "count": 1,
            "name": "Måneskin"
           },
           {
            "count": 1,
            "name": "The Kid LAROI"
           },
           {
            "count": 3,
            "name": "3 others"
           }
          ],
          "nan_count": 0,
          "unique_count": 5
         }
        },
        {
         "dtype": "object",
         "name": "Artist Followers",
         "stats": {
          "categories": [
           {
            "count": 1,
            "name": "3377762"
           },
           {
            "count": 1,
            "name": "2230022"
           },
           {
            "count": 3,
            "name": "3 others"
           }
          ],
          "nan_count": 0,
          "unique_count": 5
         }
        },
        {
         "dtype": "object",
         "name": "Song ID",
         "stats": {
          "categories": [
           {
            "count": 1,
            "name": "3Wrjm47oTz2sjIgck11l5e"
           },
           {
            "count": 1,
            "name": "5HCyWlXZPP0y6Gqq8TgA20"
           },
           {
            "count": 3,
            "name": "3 others"
           }
          ],
          "nan_count": 0,
          "unique_count": 5
         }
        },
        {
         "dtype": "object",
         "name": "Genre",
         "stats": {
          "categories": [
           {
            "count": 1,
            "name": "['indie rock italiano', 'italian pop']"
           },
           {
            "count": 1,
            "name": "['australian hip hop']"
           },
           {
            "count": 3,
            "name": "3 others"
           }
          ],
          "nan_count": 0,
          "unique_count": 5
         }
        },
        {
         "dtype": "object",
         "name": "Release Date",
         "stats": {
          "categories": [
           {
            "count": 1,
            "name": "2017-12-08"
           },
           {
            "count": 1,
            "name": "2021-07-09"
           },
           {
            "count": 3,
            "name": "3 others"
           }
          ],
          "nan_count": 0,
          "unique_count": 5
         }
        },
        {
         "dtype": "object",
         "name": "Weeks Charted",
         "stats": {
          "categories": [
           {
            "count": 1,
            "name": "2021-07-23--2021-07-30\n2021-07-16--2021-07-23\n2021-07-09--2021-07-16\n2021-07-02--2021-07-09\n2021-06-25--2021-07-02\n2021-06-18--2021-06-25\n2021-06-11--2021-06-18\n2021-06-04--2021-06-11"
           },
           {
            "count": 1,
            "name": "2021-07-23--2021-07-30\n2021-07-16--2021-07-23\n2021-07-09--2021-07-16"
           },
           {
            "count": 3,
            "name": "3 others"
           }
          ],
          "nan_count": 0,
          "unique_count": 5
         }
        },
        {
         "dtype": "object",
         "name": "Popularity",
         "stats": {
          "categories": [
           {
            "count": 2,
            "name": "99"
           },
           {
            "count": 1,
            "name": "100"
           },
           {
            "count": 2,
            "name": "2 others"
           }
          ],
          "nan_count": 0,
          "unique_count": 4
         }
        },
        {
         "dtype": "object",
         "name": "Danceability",
         "stats": {
          "categories": [
           {
            "count": 1,
            "name": "0.714"
           },
           {
            "count": 1,
            "name": "0.591"
           },
           {
            "count": 3,
            "name": "3 others"
           }
          ],
          "nan_count": 0,
          "unique_count": 5
         }
        },
        {
         "dtype": "object",
         "name": "Energy",
         "stats": {
          "categories": [
           {
            "count": 1,
            "name": "0.8"
           },
           {
            "count": 1,
            "name": "0.764"
           },
           {
            "count": 3,
            "name": "3 others"
           }
          ],
          "nan_count": 0,
          "unique_count": 5
         }
        },
        {
         "dtype": "object",
         "name": "Loudness",
         "stats": {
          "categories": [
           {
            "count": 1,
            "name": "-4.808"
           },
           {
            "count": 1,
            "name": "-5.484"
           },
           {
            "count": 3,
            "name": "3 others"
           }
          ],
          "nan_count": 0,
          "unique_count": 5
         }
        },
        {
         "dtype": "object",
         "name": "Speechiness",
         "stats": {
          "categories": [
           {
            "count": 1,
            "name": "0.0504"
           },
           {
            "count": 1,
            "name": "0.0483"
           },
           {
            "count": 3,
            "name": "3 others"
           }
          ],
          "nan_count": 0,
          "unique_count": 5
         }
        },
        {
         "dtype": "object",
         "name": "Acousticness",
         "stats": {
          "categories": [
           {
            "count": 1,
            "name": "0.127"
           },
           {
            "count": 1,
            "name": "0.0383"
           },
           {
            "count": 3,
            "name": "3 others"
           }
          ],
          "nan_count": 0,
          "unique_count": 5
         }
        },
        {
         "dtype": "object",
         "name": "Liveness",
         "stats": {
          "categories": [
           {
            "count": 1,
            "name": "0.359"
           },
           {
            "count": 1,
            "name": "0.103"
           },
           {
            "count": 3,
            "name": "3 others"
           }
          ],
          "nan_count": 0,
          "unique_count": 5
         }
        },
        {
         "dtype": "object",
         "name": "Tempo",
         "stats": {
          "categories": [
           {
            "count": 1,
            "name": "134.002"
           },
           {
            "count": 1,
            "name": "169.928"
           },
           {
            "count": 3,
            "name": "3 others"
           }
          ],
          "nan_count": 0,
          "unique_count": 5
         }
        },
        {
         "dtype": "object",
         "name": "Duration (ms)",
         "stats": {
          "categories": [
           {
            "count": 1,
            "name": "211560"
           },
           {
            "count": 1,
            "name": "141806"
           },
           {
            "count": 3,
            "name": "3 others"
           }
          ],
          "nan_count": 0,
          "unique_count": 5
         }
        },
        {
         "dtype": "object",
         "name": "Valence",
         "stats": {
          "categories": [
           {
            "count": 1,
            "name": "0.589"
           },
           {
            "count": 1,
            "name": "0.478"
           },
           {
            "count": 3,
            "name": "3 others"
           }
          ],
          "nan_count": 0,
          "unique_count": 5
         }
        },
        {
         "dtype": "object",
         "name": "Chord",
         "stats": {
          "categories": [
           {
            "count": 2,
            "name": "B"
           },
           {
            "count": 1,
            "name": "C#/Db"
           },
           {
            "count": 2,
            "name": "2 others"
           }
          ],
          "nan_count": 0,
          "unique_count": 4
         }
        },
        {
         "dtype": "int64",
         "name": "_deepnote_index_column"
        }
       ],
       "row_count": 5,
       "rows": [
        {
         "Acousticness": "0.127",
         "Artist": "Måneskin",
         "Artist Followers": "3377762",
         "Chord": "B",
         "Danceability": "0.714",
         "Duration (ms)": "211560",
         "Energy": "0.8",
         "Genre": "['indie rock italiano', 'italian pop']",
         "Highest Charting Position": "1",
         "Index": "1",
         "Liveness": "0.359",
         "Loudness": "-4.808",
         "Number of Times Charted": "8",
         "Popularity": "100",
         "Release Date": "2017-12-08",
         "Song ID": "3Wrjm47oTz2sjIgck11l5e",
         "Song Name": "Beggin'",
         "Speechiness": "0.0504",
         "Streams": "48,633,449",
         "Tempo": "134.002",
         "Valence": "0.589",
         "Week of Highest Charting": "2021-07-23--2021-07-30",
         "Weeks Charted": "2021-07-23--2021-07-30\n2021-07-16--2021-07-23\n2021-07-09--2021-07-16\n2021-07-02--2021-07-09\n2021-06-25--2021-07-02\n2021-06-18--2021-06-25\n2021-06-11--2021-06-18\n2021-06-04--2021-06-11",
         "_deepnote_index_column": "0"
        },
        {
         "Acousticness": "0.0383",
         "Artist": "The Kid LAROI",
         "Artist Followers": "2230022",
         "Chord": "C#/Db",
         "Danceability": "0.591",
         "Duration (ms)": "141806",
         "Energy": "0.764",
         "Genre": "['australian hip hop']",
         "Highest Charting Position": "2",
         "Index": "2",
         "Liveness": "0.103",
         "Loudness": "-5.484",
         "Number of Times Charted": "3",
         "Popularity": "99",
         "Release Date": "2021-07-09",
         "Song ID": "5HCyWlXZPP0y6Gqq8TgA20",
         "Song Name": "STAY (with Justin Bieber)",
         "Speechiness": "0.0483",
         "Streams": "47,248,719",
         "Tempo": "169.928",
         "Valence": "0.478",
         "Week of Highest Charting": "2021-07-23--2021-07-30",
         "Weeks Charted": "2021-07-23--2021-07-30\n2021-07-16--2021-07-23\n2021-07-09--2021-07-16",
         "_deepnote_index_column": "1"
        },
        {
         "Acousticness": "0.335",
         "Artist": "Olivia Rodrigo",
         "Artist Followers": "6266514",
         "Chord": "A",
         "Danceability": "0.563",
         "Duration (ms)": "178147",
         "Energy": "0.664",
         "Genre": "['pop']",
         "Highest Charting Position": "1",
         "Index": "3",
         "Liveness": "0.0849",
         "Loudness": "-5.044",
         "Number of Times Charted": "11",
         "Popularity": "99",
         "Release Date": "2021-05-21",
         "Song ID": "4ZtFanR9U6ndgddUvNcjcG",
         "Song Name": "good 4 u",
         "Speechiness": "0.154",
         "Streams": "40,162,559",
         "Tempo": "166.928",
         "Valence": "0.688",
         "Week of Highest Charting": "2021-06-25--2021-07-02",
         "Weeks Charted": "2021-07-23--2021-07-30\n2021-07-16--2021-07-23\n2021-07-09--2021-07-16\n2021-07-02--2021-07-09\n2021-06-25--2021-07-02\n2021-06-18--2021-06-25\n2021-06-11--2021-06-18\n2021-06-04--2021-06-11\n2021-05-28--2021-06-04\n2021-05-21--2021-05-28\n2021-05-14--2021-05-21",
         "_deepnote_index_column": "2"
        },
        {
         "Acousticness": "0.0469",
         "Artist": "Ed Sheeran",
         "Artist Followers": "83293380",
         "Chord": "B",
         "Danceability": "0.808",
         "Duration (ms)": "231041",
         "Energy": "0.897",
         "Genre": "['pop', 'uk pop']",
         "Highest Charting Position": "3",
         "Index": "4",
         "Liveness": "0.364",
         "Loudness": "-3.712",
         "Number of Times Charted": "5",
         "Popularity": "98",
         "Release Date": "2021-06-25",
         "Song ID": "6PQ88X9TkUIAUIZJHW2upE",
         "Song Name": "Bad Habits",
         "Speechiness": "0.0348",
         "Streams": "37,799,456",
         "Tempo": "126.026",
         "Valence": "0.591",
         "Week of Highest Charting": "2021-07-02--2021-07-09",
         "Weeks Charted": "2021-07-23--2021-07-30\n2021-07-16--2021-07-23\n2021-07-09--2021-07-16\n2021-07-02--2021-07-09\n2021-06-25--2021-07-02",
         "_deepnote_index_column": "3"
        },
        {
         "Acousticness": "0.0203",
         "Artist": "Lil Nas X",
         "Artist Followers": "5473565",
         "Chord": "D#/Eb",
         "Danceability": "0.736",
         "Duration (ms)": "212000",
         "Energy": "0.704",
         "Genre": "['lgbtq+ hip hop', 'pop rap']",
         "Highest Charting Position": "5",
         "Index": "5",
         "Liveness": "0.0501",
         "Loudness": "-7.409",
         "Number of Times Charted": "1",
         "Popularity": "96",
         "Release Date": "2021-07-23",
         "Song ID": "27NovPIUIRrOZoCHxABJwK",
         "Song Name": "INDUSTRY BABY (feat. Jack Harlow)",
         "Speechiness": "0.0615",
         "Streams": "33,948,454",
         "Tempo": "149.995",
         "Valence": "0.894",
         "Week of Highest Charting": "2021-07-23--2021-07-30",
         "Weeks Charted": "2021-07-23--2021-07-30",
         "_deepnote_index_column": "4"
        }
       ]
      },
      "text/html": [
       "<div>\n",
       "<style scoped>\n",
       "    .dataframe tbody tr th:only-of-type {\n",
       "        vertical-align: middle;\n",
       "    }\n",
       "\n",
       "    .dataframe tbody tr th {\n",
       "        vertical-align: top;\n",
       "    }\n",
       "\n",
       "    .dataframe thead th {\n",
       "        text-align: right;\n",
       "    }\n",
       "</style>\n",
       "<table border=\"1\" class=\"dataframe\">\n",
       "  <thead>\n",
       "    <tr style=\"text-align: right;\">\n",
       "      <th></th>\n",
       "      <th>Index</th>\n",
       "      <th>Highest Charting Position</th>\n",
       "      <th>Number of Times Charted</th>\n",
       "      <th>Week of Highest Charting</th>\n",
       "      <th>Song Name</th>\n",
       "      <th>Streams</th>\n",
       "      <th>Artist</th>\n",
       "      <th>Artist Followers</th>\n",
       "      <th>Song ID</th>\n",
       "      <th>Genre</th>\n",
       "      <th>...</th>\n",
       "      <th>Danceability</th>\n",
       "      <th>Energy</th>\n",
       "      <th>Loudness</th>\n",
       "      <th>Speechiness</th>\n",
       "      <th>Acousticness</th>\n",
       "      <th>Liveness</th>\n",
       "      <th>Tempo</th>\n",
       "      <th>Duration (ms)</th>\n",
       "      <th>Valence</th>\n",
       "      <th>Chord</th>\n",
       "    </tr>\n",
       "  </thead>\n",
       "  <tbody>\n",
       "    <tr>\n",
       "      <th>0</th>\n",
       "      <td>1</td>\n",
       "      <td>1</td>\n",
       "      <td>8</td>\n",
       "      <td>2021-07-23--2021-07-30</td>\n",
       "      <td>Beggin'</td>\n",
       "      <td>48,633,449</td>\n",
       "      <td>Måneskin</td>\n",
       "      <td>3377762</td>\n",
       "      <td>3Wrjm47oTz2sjIgck11l5e</td>\n",
       "      <td>['indie rock italiano', 'italian pop']</td>\n",
       "      <td>...</td>\n",
       "      <td>0.714</td>\n",
       "      <td>0.8</td>\n",
       "      <td>-4.808</td>\n",
       "      <td>0.0504</td>\n",
       "      <td>0.127</td>\n",
       "      <td>0.359</td>\n",
       "      <td>134.002</td>\n",
       "      <td>211560</td>\n",
       "      <td>0.589</td>\n",
       "      <td>B</td>\n",
       "    </tr>\n",
       "    <tr>\n",
       "      <th>1</th>\n",
       "      <td>2</td>\n",
       "      <td>2</td>\n",
       "      <td>3</td>\n",
       "      <td>2021-07-23--2021-07-30</td>\n",
       "      <td>STAY (with Justin Bieber)</td>\n",
       "      <td>47,248,719</td>\n",
       "      <td>The Kid LAROI</td>\n",
       "      <td>2230022</td>\n",
       "      <td>5HCyWlXZPP0y6Gqq8TgA20</td>\n",
       "      <td>['australian hip hop']</td>\n",
       "      <td>...</td>\n",
       "      <td>0.591</td>\n",
       "      <td>0.764</td>\n",
       "      <td>-5.484</td>\n",
       "      <td>0.0483</td>\n",
       "      <td>0.0383</td>\n",
       "      <td>0.103</td>\n",
       "      <td>169.928</td>\n",
       "      <td>141806</td>\n",
       "      <td>0.478</td>\n",
       "      <td>C#/Db</td>\n",
       "    </tr>\n",
       "    <tr>\n",
       "      <th>2</th>\n",
       "      <td>3</td>\n",
       "      <td>1</td>\n",
       "      <td>11</td>\n",
       "      <td>2021-06-25--2021-07-02</td>\n",
       "      <td>good 4 u</td>\n",
       "      <td>40,162,559</td>\n",
       "      <td>Olivia Rodrigo</td>\n",
       "      <td>6266514</td>\n",
       "      <td>4ZtFanR9U6ndgddUvNcjcG</td>\n",
       "      <td>['pop']</td>\n",
       "      <td>...</td>\n",
       "      <td>0.563</td>\n",
       "      <td>0.664</td>\n",
       "      <td>-5.044</td>\n",
       "      <td>0.154</td>\n",
       "      <td>0.335</td>\n",
       "      <td>0.0849</td>\n",
       "      <td>166.928</td>\n",
       "      <td>178147</td>\n",
       "      <td>0.688</td>\n",
       "      <td>A</td>\n",
       "    </tr>\n",
       "    <tr>\n",
       "      <th>3</th>\n",
       "      <td>4</td>\n",
       "      <td>3</td>\n",
       "      <td>5</td>\n",
       "      <td>2021-07-02--2021-07-09</td>\n",
       "      <td>Bad Habits</td>\n",
       "      <td>37,799,456</td>\n",
       "      <td>Ed Sheeran</td>\n",
       "      <td>83293380</td>\n",
       "      <td>6PQ88X9TkUIAUIZJHW2upE</td>\n",
       "      <td>['pop', 'uk pop']</td>\n",
       "      <td>...</td>\n",
       "      <td>0.808</td>\n",
       "      <td>0.897</td>\n",
       "      <td>-3.712</td>\n",
       "      <td>0.0348</td>\n",
       "      <td>0.0469</td>\n",
       "      <td>0.364</td>\n",
       "      <td>126.026</td>\n",
       "      <td>231041</td>\n",
       "      <td>0.591</td>\n",
       "      <td>B</td>\n",
       "    </tr>\n",
       "    <tr>\n",
       "      <th>4</th>\n",
       "      <td>5</td>\n",
       "      <td>5</td>\n",
       "      <td>1</td>\n",
       "      <td>2021-07-23--2021-07-30</td>\n",
       "      <td>INDUSTRY BABY (feat. Jack Harlow)</td>\n",
       "      <td>33,948,454</td>\n",
       "      <td>Lil Nas X</td>\n",
       "      <td>5473565</td>\n",
       "      <td>27NovPIUIRrOZoCHxABJwK</td>\n",
       "      <td>['lgbtq+ hip hop', 'pop rap']</td>\n",
       "      <td>...</td>\n",
       "      <td>0.736</td>\n",
       "      <td>0.704</td>\n",
       "      <td>-7.409</td>\n",
       "      <td>0.0615</td>\n",
       "      <td>0.0203</td>\n",
       "      <td>0.0501</td>\n",
       "      <td>149.995</td>\n",
       "      <td>212000</td>\n",
       "      <td>0.894</td>\n",
       "      <td>D#/Eb</td>\n",
       "    </tr>\n",
       "  </tbody>\n",
       "</table>\n",
       "<p>5 rows × 23 columns</p>\n",
       "</div>"
      ],
      "text/plain": [
       "   Index  Highest Charting Position  Number of Times Charted  \\\n",
       "0      1                          1                        8   \n",
       "1      2                          2                        3   \n",
       "2      3                          1                       11   \n",
       "3      4                          3                        5   \n",
       "4      5                          5                        1   \n",
       "\n",
       "  Week of Highest Charting                          Song Name     Streams  \\\n",
       "0   2021-07-23--2021-07-30                            Beggin'  48,633,449   \n",
       "1   2021-07-23--2021-07-30          STAY (with Justin Bieber)  47,248,719   \n",
       "2   2021-06-25--2021-07-02                           good 4 u  40,162,559   \n",
       "3   2021-07-02--2021-07-09                         Bad Habits  37,799,456   \n",
       "4   2021-07-23--2021-07-30  INDUSTRY BABY (feat. Jack Harlow)  33,948,454   \n",
       "\n",
       "           Artist Artist Followers                 Song ID  \\\n",
       "0        Måneskin          3377762  3Wrjm47oTz2sjIgck11l5e   \n",
       "1   The Kid LAROI          2230022  5HCyWlXZPP0y6Gqq8TgA20   \n",
       "2  Olivia Rodrigo          6266514  4ZtFanR9U6ndgddUvNcjcG   \n",
       "3      Ed Sheeran         83293380  6PQ88X9TkUIAUIZJHW2upE   \n",
       "4       Lil Nas X          5473565  27NovPIUIRrOZoCHxABJwK   \n",
       "\n",
       "                                    Genre  ... Danceability Energy Loudness  \\\n",
       "0  ['indie rock italiano', 'italian pop']  ...        0.714    0.8   -4.808   \n",
       "1                  ['australian hip hop']  ...        0.591  0.764   -5.484   \n",
       "2                                 ['pop']  ...        0.563  0.664   -5.044   \n",
       "3                       ['pop', 'uk pop']  ...        0.808  0.897   -3.712   \n",
       "4           ['lgbtq+ hip hop', 'pop rap']  ...        0.736  0.704   -7.409   \n",
       "\n",
       "  Speechiness Acousticness Liveness    Tempo Duration (ms) Valence  Chord  \n",
       "0      0.0504        0.127    0.359  134.002        211560   0.589      B  \n",
       "1      0.0483       0.0383    0.103  169.928        141806   0.478  C#/Db  \n",
       "2       0.154        0.335   0.0849  166.928        178147   0.688      A  \n",
       "3      0.0348       0.0469    0.364  126.026        231041   0.591      B  \n",
       "4      0.0615       0.0203   0.0501  149.995        212000   0.894  D#/Eb  \n",
       "\n",
       "[5 rows x 23 columns]"
      ]
     },
     "execution_count": 3,
     "metadata": {},
     "output_type": "execute_result"
    }
   ],
   "source": [
    "df.head()"
   ]
  },
  {
   "cell_type": "markdown",
   "metadata": {
    "cell_id": "0583e84324cd4f898d5ac6775417706a",
    "deepnote_cell_type": "markdown"
   },
   "source": [
    "## lambda function examples"
   ]
  },
  {
   "cell_type": "markdown",
   "metadata": {
    "cell_id": "f27de4e4b8934c72b91579b2c142fa7f",
    "deepnote_cell_type": "markdown"
   },
   "source": [
    "* In the \"Week of Highest Charting\" column values, get the first date, for example, if the value is `\"2021-07-23--2021-07-30\"`, you want to produce `\"2021-07-23\"`.  Put this in a new column called \"Date\".  Use `map` and a lambda function."
   ]
  },
  {
   "cell_type": "code",
   "execution_count": 4,
   "metadata": {
    "cell_id": "f8f31ecc53b347ffacb8b26193215a0d",
    "deepnote_cell_type": "code",
    "deepnote_to_be_reexecuted": false,
    "execution_millis": 13,
    "execution_start": 1682222292695,
    "source_hash": "dd17c931"
   },
   "outputs": [
    {
     "data": {
      "text/plain": [
       "['2021', '07', '23', '', '2021', '07', '30']"
      ]
     },
     "execution_count": 4,
     "metadata": {},
     "output_type": "execute_result"
    }
   ],
   "source": [
    "s = \"2021-07-23--2021-07-30\"\n",
    "s.split(\"-\")"
   ]
  },
  {
   "cell_type": "code",
   "execution_count": 5,
   "metadata": {
    "cell_id": "4ee2104bed9843f797e081d33cfcbe2d",
    "deepnote_cell_type": "code",
    "deepnote_to_be_reexecuted": false,
    "execution_millis": 13,
    "execution_start": 1682222292696,
    "source_hash": "51e16343"
   },
   "outputs": [
    {
     "data": {
      "text/plain": [
       "['2021-07-23', '2021-07-30']"
      ]
     },
     "execution_count": 5,
     "metadata": {},
     "output_type": "execute_result"
    }
   ],
   "source": [
    "s.split(\"--\")"
   ]
  },
  {
   "cell_type": "code",
   "execution_count": 6,
   "metadata": {
    "cell_id": "67907b56badc4a0082bd9a88e850d428",
    "deepnote_cell_type": "code",
    "deepnote_to_be_reexecuted": false,
    "execution_millis": 14,
    "execution_start": 1682222292700,
    "source_hash": "a5171a93"
   },
   "outputs": [
    {
     "data": {
      "text/plain": [
       "'2021-07-23'"
      ]
     },
     "execution_count": 6,
     "metadata": {},
     "output_type": "execute_result"
    }
   ],
   "source": [
    "s.split(\"--\")[0]"
   ]
  },
  {
   "cell_type": "code",
   "execution_count": 7,
   "metadata": {
    "cell_id": "95747465d4004d308c82f3019248d431",
    "deepnote_cell_type": "code",
    "deepnote_to_be_reexecuted": false,
    "execution_millis": 25,
    "execution_start": 1682222292715,
    "source_hash": "7d2c394d"
   },
   "outputs": [
    {
     "data": {
      "text/plain": [
       "0       2021-07-23\n",
       "1       2021-07-23\n",
       "2       2021-06-25\n",
       "3       2021-07-02\n",
       "4       2021-07-23\n",
       "           ...    \n",
       "1551    2019-12-27\n",
       "1552    2019-12-27\n",
       "1553    2019-12-27\n",
       "1554    2019-12-27\n",
       "1555    2019-12-27\n",
       "Name: Date, Length: 1556, dtype: object"
      ]
     },
     "execution_count": 7,
     "metadata": {},
     "output_type": "execute_result"
    }
   ],
   "source": [
    "df[\"Date\"] = df[\"Week of Highest Charting\"].map(lambda s: s.split(\"--\")[0])\n",
    "df[\"Date\"]"
   ]
  },
  {
   "cell_type": "markdown",
   "metadata": {
    "cell_id": "8ceabfc56f6c40a38533504481d19cca",
    "deepnote_cell_type": "markdown"
   },
   "source": [
    "* Convert the \"Date\" column to a datetime data type using the pandas function `to_datetime`."
   ]
  },
  {
   "cell_type": "code",
   "execution_count": 8,
   "metadata": {
    "cell_id": "80ad3ba7ab05495a834c3f9209f6574c",
    "deepnote_cell_type": "code",
    "deepnote_to_be_reexecuted": false,
    "execution_millis": 72,
    "execution_start": 1682222292773,
    "source_hash": "bf180de6"
   },
   "outputs": [],
   "source": [
    "df[\"Date\"] = pd.to_datetime(df[\"Date\"])"
   ]
  },
  {
   "cell_type": "markdown",
   "metadata": {
    "cell_id": "03691452185748aa9fc5417e5c21aa25",
    "deepnote_cell_type": "markdown"
   },
   "source": [
    "* Which song has the most genres listed?\n",
    "\n",
    "Notice: the \"Genre\" entries\" are currently strings and not lists.  Use the `literal_eval` function from the `ast` module.  Some values don't work, so only apply this to strings starting with `\"[\"`, and use not-a-number from NumPy for the other values."
   ]
  },
  {
   "cell_type": "code",
   "execution_count": 9,
   "metadata": {
    "cell_id": "fcbfe845277e46fdac69a3c6c5f42b23",
    "deepnote_cell_type": "code",
    "deepnote_to_be_reexecuted": false,
    "execution_millis": 73,
    "execution_start": 1682222292773,
    "source_hash": "314bdd9d"
   },
   "outputs": [
    {
     "data": {
      "text/plain": [
       "\"['indie rock italiano', 'italian pop']\""
      ]
     },
     "execution_count": 9,
     "metadata": {},
     "output_type": "execute_result"
    }
   ],
   "source": [
    "df.loc[0, \"Genre\"]"
   ]
  },
  {
   "cell_type": "code",
   "execution_count": 10,
   "metadata": {
    "cell_id": "e3ec7cc010cd47cabc041d8b2d140d55",
    "deepnote_cell_type": "code",
    "deepnote_to_be_reexecuted": false,
    "execution_millis": 84,
    "execution_start": 1682222292773,
    "source_hash": "80d224fb"
   },
   "outputs": [
    {
     "data": {
      "text/plain": [
       "'['"
      ]
     },
     "execution_count": 10,
     "metadata": {},
     "output_type": "execute_result"
    }
   ],
   "source": [
    "df.loc[0, \"Genre\"][0]"
   ]
  },
  {
   "cell_type": "code",
   "execution_count": 11,
   "metadata": {
    "cell_id": "7c782fda759d410f9d221db0562bbba5",
    "deepnote_cell_type": "code",
    "deepnote_to_be_reexecuted": false,
    "execution_millis": 84,
    "execution_start": 1682222292774,
    "source_hash": "f8183bd0"
   },
   "outputs": [
    {
     "data": {
      "text/plain": [
       "str"
      ]
     },
     "execution_count": 11,
     "metadata": {},
     "output_type": "execute_result"
    }
   ],
   "source": [
    "type(df.loc[0, \"Genre\"])"
   ]
  },
  {
   "cell_type": "code",
   "execution_count": 12,
   "metadata": {
    "cell_id": "faac5e5d8f9f437f8b0566008369c312",
    "deepnote_cell_type": "code",
    "deepnote_to_be_reexecuted": false,
    "execution_millis": 68,
    "execution_start": 1682222292791,
    "source_hash": "4f604fc0"
   },
   "outputs": [],
   "source": [
    "from ast import literal_eval # safer than `eval`"
   ]
  },
  {
   "cell_type": "code",
   "execution_count": 13,
   "metadata": {
    "cell_id": "2bce9246bfdb4a5fb7e381b0795ce16a",
    "deepnote_cell_type": "code",
    "deepnote_to_be_reexecuted": false,
    "execution_millis": 44,
    "execution_start": 1682222292815,
    "source_hash": "6eb950a7"
   },
   "outputs": [
    {
     "data": {
      "text/plain": [
       "['indie rock italiano', 'italian pop']"
      ]
     },
     "execution_count": 13,
     "metadata": {},
     "output_type": "execute_result"
    }
   ],
   "source": [
    "literal_eval(df.loc[0, \"Genre\"])"
   ]
  },
  {
   "cell_type": "code",
   "execution_count": 14,
   "metadata": {
    "cell_id": "61d1f6363e47486e9a931d068866488b",
    "deepnote_cell_type": "code",
    "deepnote_to_be_reexecuted": false,
    "execution_millis": 44,
    "execution_start": 1682222292815,
    "source_hash": "d7a78862"
   },
   "outputs": [
    {
     "data": {
      "text/plain": [
       "list"
      ]
     },
     "execution_count": 14,
     "metadata": {},
     "output_type": "execute_result"
    }
   ],
   "source": [
    "type(literal_eval(df.loc[0, \"Genre\"]))"
   ]
  },
  {
   "cell_type": "code",
   "execution_count": 15,
   "metadata": {
    "cell_id": "f501c91576ac4dad82e6d6aecc4144b6",
    "deepnote_cell_type": "code",
    "deepnote_to_be_reexecuted": false,
    "execution_millis": 45,
    "execution_start": 1682222292815,
    "source_hash": "3c37871c"
   },
   "outputs": [
    {
     "name": "stdout",
     "output_type": "stream",
     "text": [
      "Help on function literal_eval in module ast:\n",
      "\n",
      "literal_eval(node_or_string)\n",
      "    Safely evaluate an expression node or a string containing a Python\n",
      "    expression.  The string or node provided may only consist of the following\n",
      "    Python literal structures: strings, bytes, numbers, tuples, lists, dicts,\n",
      "    sets, booleans, and None.\n",
      "\n"
     ]
    }
   ],
   "source": [
    "help(literal_eval)"
   ]
  },
  {
   "cell_type": "code",
   "execution_count": 16,
   "metadata": {
    "cell_id": "f1c09ccf63434589893866af3d81d30f",
    "deepnote_cell_type": "code",
    "deepnote_to_be_reexecuted": false,
    "execution_millis": 86,
    "execution_start": 1682222292865,
    "source_hash": "188e395b"
   },
   "outputs": [
    {
     "ename": "SyntaxError",
     "evalue": "unexpected EOF while parsing (<unknown>, line 1)",
     "output_type": "error",
     "traceback": [
      "Traceback \u001b[0;36m(most recent call last)\u001b[0m:\n",
      "\u001b[0m  File \u001b[1;32m/shared-libs/python3.9/py-core/lib/python3.9/site-packages/IPython/core/interactiveshell.py:3378\u001b[0m in \u001b[1;35mrun_code\u001b[0m\n    exec(code_obj, self.user_global_ns, self.user_ns)\u001b[0m\n",
      "\u001b[0m  Cell \u001b[1;32mIn [16], line 1\u001b[0m\n    df[\"Genre\"].map(literal_eval)\u001b[0m\n",
      "\u001b[0m  File \u001b[1;32m/shared-libs/python3.9/py/lib/python3.9/site-packages/pandas/core/series.py:3909\u001b[0m in \u001b[1;35mmap\u001b[0m\n    new_values = super()._map_values(arg, na_action=na_action)\u001b[0m\n",
      "\u001b[0m  File \u001b[1;32m/shared-libs/python3.9/py/lib/python3.9/site-packages/pandas/core/base.py:937\u001b[0m in \u001b[1;35m_map_values\u001b[0m\n    new_values = map_f(values, mapper)\u001b[0m\n",
      "\u001b[0m  File \u001b[1;32mpandas/_libs/lib.pyx:2467\u001b[0m in \u001b[1;35mpandas._libs.lib.map_infer\u001b[0m\n",
      "\u001b[0m  File \u001b[1;32m/usr/local/lib/python3.9/ast.py:62\u001b[0m in \u001b[1;35mliteral_eval\u001b[0m\n    node_or_string = parse(node_or_string, mode='eval')\u001b[0m\n",
      "\u001b[0;36m  File \u001b[0;32m/usr/local/lib/python3.9/ast.py:50\u001b[0;36m in \u001b[0;35mparse\u001b[0;36m\n\u001b[0;31m    return compile(source, filename, mode, flags,\u001b[0;36m\n",
      "\u001b[0;36m  File \u001b[0;32m<unknown>:1\u001b[0;36m\u001b[0m\n\u001b[0;31m    \u001b[0m\n\u001b[0m    ^\u001b[0m\n\u001b[0;31mSyntaxError\u001b[0m\u001b[0;31m:\u001b[0m unexpected EOF while parsing\n"
     ]
    }
   ],
   "source": [
    "df[\"Genre\"].map(literal_eval)"
   ]
  },
  {
   "cell_type": "code",
   "execution_count": 27,
   "metadata": {
    "cell_id": "dd97b64dd0194aee97d815783a78e0e7",
    "deepnote_cell_type": "code",
    "deepnote_to_be_reexecuted": false,
    "execution_millis": 8,
    "execution_start": 1682222359190,
    "source_hash": "c2602aa8"
   },
   "outputs": [],
   "source": [
    "import numpy as np"
   ]
  },
  {
   "cell_type": "code",
   "execution_count": 28,
   "metadata": {
    "cell_id": "3e9aaf8f17c948c6ad2ad3c0f3ffafd0",
    "deepnote_cell_type": "code",
    "deepnote_to_be_reexecuted": false,
    "execution_millis": 21,
    "execution_start": 1682222359794,
    "source_hash": "969fbe28"
   },
   "outputs": [
    {
     "data": {
      "text/plain": [
       "0                [indie rock italiano, italian pop]\n",
       "1                              [australian hip hop]\n",
       "2                                             [pop]\n",
       "3                                     [pop, uk pop]\n",
       "4                         [lgbtq+ hip hop, pop rap]\n",
       "                           ...                     \n",
       "1551                       [dance pop, pop, uk pop]\n",
       "1552           [sertanejo, sertanejo universitario]\n",
       "1553    [dance pop, electropop, pop, post-teen pop]\n",
       "1554                     [brega funk, funk carioca]\n",
       "1555                           [pop, post-teen pop]\n",
       "Name: Genre, Length: 1556, dtype: object"
      ]
     },
     "execution_count": 28,
     "metadata": {},
     "output_type": "execute_result"
    }
   ],
   "source": [
    "df[\"Genre\"].map(lambda x: literal_eval(x) if x.startswith(\"[\") else np.nan)"
   ]
  },
  {
   "cell_type": "code",
   "execution_count": 29,
   "metadata": {
    "cell_id": "5b646cc5dab74c58b746429f917a5ff0",
    "deepnote_cell_type": "code",
    "deepnote_to_be_reexecuted": false,
    "execution_millis": 4,
    "execution_start": 1682222360512,
    "source_hash": "d0bb941d"
   },
   "outputs": [],
   "source": [
    "df[\"Genre Length\"] = df[\"Genre\"].map(lambda x: len(literal_eval(x)) if x.startswith(\"[\") else np.nan)"
   ]
  },
  {
   "cell_type": "code",
   "execution_count": 30,
   "metadata": {
    "cell_id": "031c00eeb5134a0fbc824816e98ee346",
    "deepnote_cell_type": "code",
    "deepnote_to_be_reexecuted": false,
    "execution_millis": 0,
    "execution_start": 1682222361389,
    "source_hash": "b97197fc"
   },
   "outputs": [
    {
     "data": {
      "text/plain": [
       "0                  ['indie rock italiano', 'italian pop']\n",
       "1                                  ['australian hip hop']\n",
       "2                                                 ['pop']\n",
       "3                                       ['pop', 'uk pop']\n",
       "4                           ['lgbtq+ hip hop', 'pop rap']\n",
       "                              ...                        \n",
       "1551                       ['dance pop', 'pop', 'uk pop']\n",
       "1552             ['sertanejo', 'sertanejo universitario']\n",
       "1553    ['dance pop', 'electropop', 'pop', 'post-teen ...\n",
       "1554                       ['brega funk', 'funk carioca']\n",
       "1555                             ['pop', 'post-teen pop']\n",
       "Name: Genre, Length: 1556, dtype: object"
      ]
     },
     "execution_count": 30,
     "metadata": {},
     "output_type": "execute_result"
    }
   ],
   "source": [
    "df[\"Genre\"]"
   ]
  },
  {
   "cell_type": "code",
   "execution_count": 31,
   "metadata": {
    "cell_id": "1060cbe98a784feb94fe606f44ad1e34",
    "deepnote_cell_type": "code",
    "deepnote_to_be_reexecuted": false,
    "execution_millis": 5,
    "execution_start": 1682222362873,
    "source_hash": "ad14c316"
   },
   "outputs": [
    {
     "data": {
      "text/plain": [
       "0       2.0\n",
       "1       1.0\n",
       "2       1.0\n",
       "3       2.0\n",
       "4       2.0\n",
       "       ... \n",
       "1551    3.0\n",
       "1552    2.0\n",
       "1553    4.0\n",
       "1554    2.0\n",
       "1555    2.0\n",
       "Name: Genre Length, Length: 1556, dtype: float64"
      ]
     },
     "execution_count": 31,
     "metadata": {},
     "output_type": "execute_result"
    }
   ],
   "source": [
    "df[\"Genre Length\"]"
   ]
  },
  {
   "cell_type": "code",
   "execution_count": 32,
   "metadata": {
    "cell_id": "1f472b246e77479a890c9a0871fd5e7b",
    "deepnote_cell_type": "code",
    "deepnote_to_be_reexecuted": false,
    "execution_millis": 0,
    "execution_start": 1682222364142,
    "source_hash": "c7bc6c64"
   },
   "outputs": [
    {
     "data": {
      "text/plain": [
       "44"
      ]
     },
     "execution_count": 32,
     "metadata": {},
     "output_type": "execute_result"
    }
   ],
   "source": [
    "df[\"Genre Length\"].argmax()"
   ]
  },
  {
   "cell_type": "code",
   "execution_count": 33,
   "metadata": {
    "cell_id": "d9a2d3ac61a849ddbf9b7b14cb5bb4e5",
    "deepnote_cell_type": "code",
    "deepnote_to_be_reexecuted": false,
    "execution_millis": 42,
    "execution_start": 1682222365496,
    "source_hash": "54ee45e2"
   },
   "outputs": [
    {
     "data": {
      "text/plain": [
       "Index                                                                       45\n",
       "Highest Charting Position                                                    9\n",
       "Number of Times Charted                                                     39\n",
       "Week of Highest Charting                                2021-02-26--2021-03-05\n",
       "Song Name                                                         The Business\n",
       "Streams                                                             10,739,770\n",
       "Artist                                                                  Tiësto\n",
       "Artist Followers                                                       5785065\n",
       "Song ID                                                 6f3Slt0GbA2bPZlz0aIFXN\n",
       "Genre                        ['big room', 'brostep', 'dance pop', 'dutch ed...\n",
       "Release Date                                                        2020-09-16\n",
       "Weeks Charted                2021-07-23--2021-07-30\\n2021-07-16--2021-07-23...\n",
       "Popularity                                                                  90\n",
       "Danceability                                                             0.798\n",
       "Energy                                                                    0.62\n",
       "Loudness                                                                -7.079\n",
       "Speechiness                                                              0.232\n",
       "Acousticness                                                             0.414\n",
       "Liveness                                                                 0.112\n",
       "Tempo                                                                  120.031\n",
       "Duration (ms)                                                           164000\n",
       "Valence                                                                  0.235\n",
       "Chord                                                                    G#/Ab\n",
       "Date                                                       2021-02-26 00:00:00\n",
       "Genre Lengths                                                             11.0\n",
       "Genre Length                                                              11.0\n",
       "Name: 44, dtype: object"
      ]
     },
     "execution_count": 33,
     "metadata": {},
     "output_type": "execute_result"
    }
   ],
   "source": [
    "df.iloc[44]"
   ]
  },
  {
   "cell_type": "code",
   "execution_count": 34,
   "metadata": {
    "cell_id": "8f83beca217b476bb30eb5b1c4e49d34",
    "deepnote_cell_type": "code",
    "deepnote_to_be_reexecuted": false,
    "execution_millis": 68,
    "execution_start": 1682222367249,
    "source_hash": "31e4824d"
   },
   "outputs": [
    {
     "data": {
      "text/plain": [
       "\"['big room', 'brostep', 'dance pop', 'dutch edm', 'edm', 'electro house', 'house', 'pop dance', 'slap house', 'trance', 'tropical house']\""
      ]
     },
     "execution_count": 34,
     "metadata": {},
     "output_type": "execute_result"
    }
   ],
   "source": [
    "df.iloc[44][\"Genre\"]"
   ]
  },
  {
   "cell_type": "code",
   "execution_count": 35,
   "metadata": {
    "cell_id": "ae559b3115d447039cdd979345d19793",
    "deepnote_cell_type": "code",
    "deepnote_to_be_reexecuted": false,
    "execution_millis": 5,
    "execution_start": 1682222368340,
    "source_hash": "ab85efc8"
   },
   "outputs": [
    {
     "data": {
      "text/plain": [
       "11.0"
      ]
     },
     "execution_count": 35,
     "metadata": {},
     "output_type": "execute_result"
    }
   ],
   "source": [
    "df.iloc[44][\"Genre Lengths\"]"
   ]
  },
  {
   "cell_type": "markdown",
   "metadata": {
    "cell_id": "911914767ca14511aa25a1b07fa934b5",
    "deepnote_cell_type": "markdown"
   },
   "source": [
    "## Practice with list comprehension"
   ]
  },
  {
   "cell_type": "markdown",
   "metadata": {
    "cell_id": "3b3ff24408a246b2aaff360744d0456d",
    "deepnote_cell_type": "markdown"
   },
   "source": [
    "* Using list comprehension, make a list of all the row labels for which the \"Date\" value is in April."
   ]
  },
  {
   "cell_type": "code",
   "execution_count": 36,
   "metadata": {
    "cell_id": "0b3a18152e134f7cae003014c5d4457d",
    "deepnote_cell_type": "code",
    "deepnote_to_be_reexecuted": false,
    "execution_millis": 32,
    "execution_start": 1682222371246,
    "source_hash": "7eb2522f"
   },
   "outputs": [
    {
     "data": {
      "text/plain": [
       "True"
      ]
     },
     "execution_count": 36,
     "metadata": {},
     "output_type": "execute_result"
    }
   ],
   "source": [
    "# Check: no repeated labels\n",
    "df.index.is_unique"
   ]
  },
  {
   "cell_type": "code",
   "execution_count": 37,
   "metadata": {
    "cell_id": "2715000dace1473eaf127dfc465a85ab",
    "deepnote_cell_type": "code",
    "deepnote_to_be_reexecuted": false,
    "execution_millis": 40,
    "execution_start": 1682222372198,
    "source_hash": "a3ee881d"
   },
   "outputs": [
    {
     "data": {
      "text/plain": [
       "[13, 17, 29, 30, 36]"
      ]
     },
     "execution_count": 37,
     "metadata": {},
     "output_type": "execute_result"
    }
   ],
   "source": [
    "# approach 1\n",
    "date_list = [ind for ind in df.index if df.loc[ind, \"Date\"].month == 4]\n",
    "date_list[:5]"
   ]
  },
  {
   "cell_type": "code",
   "execution_count": 38,
   "metadata": {
    "cell_id": "24e549f6aeb3417cbbffd29d38763bb0",
    "deepnote_cell_type": "code",
    "deepnote_to_be_reexecuted": false,
    "execution_millis": 4,
    "execution_start": 1682222372899,
    "source_hash": "80d93e9c"
   },
   "outputs": [
    {
     "data": {
      "text/plain": [
       "[13, 17, 29, 30, 36]"
      ]
     },
     "execution_count": 38,
     "metadata": {},
     "output_type": "execute_result"
    }
   ],
   "source": [
    "# approach 2\n",
    "date_list2 = [ind for ind, mnth in df[\"Date\"].dt.month.items() if mnth == 4]\n",
    "date_list2[:5]"
   ]
  },
  {
   "cell_type": "code",
   "execution_count": 39,
   "metadata": {
    "cell_id": "4d7fec1e39d04c91b351d26f5b8a11e5",
    "deepnote_cell_type": "code",
    "deepnote_to_be_reexecuted": false,
    "execution_millis": 13,
    "execution_start": 1682222374046,
    "source_hash": "35cff3e4"
   },
   "outputs": [
    {
     "data": {
      "text/plain": [
       "Int64Index([13, 17, 29, 30, 36], dtype='int64')"
      ]
     },
     "execution_count": 39,
     "metadata": {},
     "output_type": "execute_result"
    }
   ],
   "source": [
    "# non-list comprehension approach\n",
    "date_index = df[df[\"Date\"].dt.month == 4].index\n",
    "date_index[:5]"
   ]
  },
  {
   "cell_type": "markdown",
   "metadata": {
    "cell_id": "a95a4b1022754fc8be0a70779475743e",
    "deepnote_cell_type": "markdown"
   },
   "source": [
    "* What are all the genres occuring in the \"Genre\" column?  Remove duplicates by using set comprehension instead of list comprehension (just replace the square brackets with curly brackets).  You will have to remove missing values."
   ]
  },
  {
   "cell_type": "code",
   "execution_count": 40,
   "metadata": {
    "cell_id": "bface75760dc4a60bab10ca6f0298365",
    "deepnote_cell_type": "code",
    "deepnote_to_be_reexecuted": false,
    "execution_millis": 6,
    "execution_start": 1682222375832,
    "source_hash": "5c1ae7b"
   },
   "outputs": [],
   "source": [
    "df[\"Genre Lists\"] = df[\"Genre\"].map(lambda x: literal_eval(x) if x.startswith(\"[\") else np.nan)\n",
    "genre_series = df[\"Genre Lists\"][~df[\"Genre Lists\"].isna()]"
   ]
  },
  {
   "cell_type": "code",
   "execution_count": 41,
   "metadata": {
    "cell_id": "0312d5d7f9d64c1195f53108ba85a6cc",
    "deepnote_cell_type": "code",
    "deepnote_to_be_reexecuted": false,
    "execution_millis": 8,
    "execution_start": 1682222376702,
    "source_hash": "90605efe",
    "tags": [
     "output_scroll"
    ]
   },
   "outputs": [
    {
     "data": {
      "text/plain": [
       "{'a cappella',\n",
       " 'acoustic pop',\n",
       " 'adult standards',\n",
       " 'afrofuturism',\n",
       " 'afroswing',\n",
       " 'albanian hip hop',\n",
       " 'album rock',\n",
       " 'alt z',\n",
       " 'alternative metal',\n",
       " 'alternative pop rock',\n",
       " 'alternative r&b',\n",
       " 'american folk revival',\n",
       " 'argentine hip hop',\n",
       " 'art pop',\n",
       " 'art rock',\n",
       " 'atl hip hop',\n",
       " 'atl trap',\n",
       " 'aussietronica',\n",
       " 'australian dance',\n",
       " 'australian hip hop',\n",
       " 'australian pop',\n",
       " 'australian psych',\n",
       " 'australian rock',\n",
       " 'banda',\n",
       " 'basshall',\n",
       " 'beatlesque',\n",
       " 'bedroom pop',\n",
       " 'bedroom soul',\n",
       " 'belgian hip hop',\n",
       " 'big room',\n",
       " 'boston hip hop',\n",
       " 'boy band',\n",
       " 'brazilian hip hop',\n",
       " 'brega funk',\n",
       " 'brill building pop',\n",
       " 'british soul',\n",
       " 'britpop',\n",
       " 'brooklyn drill',\n",
       " 'brostep',\n",
       " 'bubblegrunge',\n",
       " 'cali rap',\n",
       " 'canadian contemporary r&b',\n",
       " 'canadian hip hop',\n",
       " 'canadian latin',\n",
       " 'canadian pop',\n",
       " 'canadian trap',\n",
       " 'celtic',\n",
       " 'celtic punk',\n",
       " 'celtic rock',\n",
       " 'champeta',\n",
       " 'chicago drill',\n",
       " 'chicago indie',\n",
       " 'chicago rap',\n",
       " 'chicago soul',\n",
       " 'chill r&b',\n",
       " 'christlicher rap',\n",
       " 'classic rock',\n",
       " 'classic soul',\n",
       " 'classic uk pop',\n",
       " 'colombian pop',\n",
       " 'comic',\n",
       " 'conscious hip hop',\n",
       " 'contemporary country',\n",
       " 'corrido',\n",
       " 'country',\n",
       " 'country road',\n",
       " 'country rock',\n",
       " 'cubaton',\n",
       " 'cumbia pop',\n",
       " 'dance pop',\n",
       " 'dance rock',\n",
       " 'deep euro house',\n",
       " 'deep german hip hop',\n",
       " 'deep house',\n",
       " 'deep underground hip hop',\n",
       " 'dembow',\n",
       " 'detroit hip hop',\n",
       " 'dfw rap',\n",
       " 'disco',\n",
       " 'dmv rap',\n",
       " 'dominican pop',\n",
       " 'dream smp',\n",
       " 'dreamo',\n",
       " 'drill',\n",
       " 'dutch edm',\n",
       " 'dutch pop',\n",
       " 'east coast hip hop',\n",
       " 'easy listening',\n",
       " 'eau claire indie',\n",
       " 'edm',\n",
       " 'electro house',\n",
       " 'electro latino',\n",
       " 'electronic trap',\n",
       " 'electropop',\n",
       " 'emo rap',\n",
       " 'escape room',\n",
       " 'etherpop',\n",
       " 'eurodance',\n",
       " 'europop',\n",
       " 'eurovision',\n",
       " 'florida rap',\n",
       " 'folk punk',\n",
       " 'folk rock',\n",
       " 'folk-pop',\n",
       " 'folktronica',\n",
       " 'forro',\n",
       " 'francoton',\n",
       " 'frauenrap',\n",
       " 'french hip hop',\n",
       " 'funk',\n",
       " 'funk 150 bpm',\n",
       " 'funk bh',\n",
       " 'funk carioca',\n",
       " 'funk ostentacao',\n",
       " 'funk paulista',\n",
       " 'funk pop',\n",
       " 'gangster rap',\n",
       " 'garage rock',\n",
       " 'gauze pop',\n",
       " 'german alternative rap',\n",
       " 'german cloud rap',\n",
       " 'german dance',\n",
       " 'german drill',\n",
       " 'german hip hop',\n",
       " 'german pop',\n",
       " 'german techno',\n",
       " 'german trance',\n",
       " 'german trap',\n",
       " 'german underground rap',\n",
       " 'girl group',\n",
       " 'glam rock',\n",
       " 'grime',\n",
       " 'grunge',\n",
       " 'hamburg hip hop',\n",
       " 'hard rock',\n",
       " 'hardcore hip hop',\n",
       " 'heartland rock',\n",
       " 'hip hop',\n",
       " 'hip pop',\n",
       " 'hollywood',\n",
       " 'house',\n",
       " 'houston rap',\n",
       " 'icelandic pop',\n",
       " 'indie cafe pop',\n",
       " 'indie pop',\n",
       " 'indie pop rap',\n",
       " 'indie poptimism',\n",
       " 'indie r&b',\n",
       " 'indie rock italiano',\n",
       " 'indie rockism',\n",
       " 'indie surf',\n",
       " 'indietronica',\n",
       " 'indonesian pop',\n",
       " 'irish folk',\n",
       " 'irish singer-songwriter',\n",
       " 'italian adult pop',\n",
       " 'italian hip hop',\n",
       " 'italian indie pop',\n",
       " 'italian pop',\n",
       " 'italian pop rock',\n",
       " 'jawaiian',\n",
       " 'jazz funk',\n",
       " 'jazz pop',\n",
       " 'k-pop',\n",
       " 'k-pop boy group',\n",
       " 'k-pop girl group',\n",
       " 'k-rap',\n",
       " 'kentucky hip hop',\n",
       " 'latin',\n",
       " 'latin hip hop',\n",
       " 'latin pop',\n",
       " 'latin viral pop',\n",
       " 'lgbtq+ hip hop',\n",
       " 'london rap',\n",
       " 'lounge',\n",
       " 'madchester',\n",
       " 'mariachi',\n",
       " 'melanesian pop',\n",
       " 'mellow gold',\n",
       " 'melodic metalcore',\n",
       " 'melodic rap',\n",
       " 'meme rap',\n",
       " 'memphis hip hop',\n",
       " 'metalcore',\n",
       " 'metropopolis',\n",
       " 'mexican hip hop',\n",
       " 'miami hip hop',\n",
       " 'minnesota hip hop',\n",
       " 'modern alternative rock',\n",
       " 'modern country rock',\n",
       " 'modern indie pop',\n",
       " 'modern rock',\n",
       " 'moombahton',\n",
       " 'motown',\n",
       " 'musical advocacy',\n",
       " 'neo mellow',\n",
       " 'neo soul',\n",
       " 'neo-psychedelic',\n",
       " 'new french touch',\n",
       " 'new orleans rap',\n",
       " 'new romantic',\n",
       " 'new wave',\n",
       " 'new wave pop',\n",
       " 'norteno',\n",
       " 'north carolina hip hop',\n",
       " 'norwegian pop',\n",
       " 'nouvelle chanson francaise',\n",
       " 'nu metal',\n",
       " 'nuevo regional mexicano',\n",
       " 'nyc pop',\n",
       " 'nyc rap',\n",
       " 'nz pop',\n",
       " 'oakland hip hop',\n",
       " 'ohio hip hop',\n",
       " 'old school rap francais',\n",
       " 'oulu metal',\n",
       " 'pacific islands pop',\n",
       " 'pagode baiano',\n",
       " 'panamanian pop',\n",
       " 'permanent wave',\n",
       " 'perreo',\n",
       " 'philly rap',\n",
       " 'piano rock',\n",
       " 'piseiro',\n",
       " 'pittsburgh rap',\n",
       " 'plugg',\n",
       " 'png pop',\n",
       " 'pop',\n",
       " 'pop argentino',\n",
       " 'pop dance',\n",
       " 'pop edm',\n",
       " 'pop house',\n",
       " 'pop nacional',\n",
       " 'pop r&b',\n",
       " 'pop rap',\n",
       " 'pop reggaeton',\n",
       " 'pop rock',\n",
       " 'pop soul',\n",
       " 'pop urbaine',\n",
       " 'pop venezolano',\n",
       " 'post-grunge',\n",
       " 'post-teen pop',\n",
       " 'progressive electro house',\n",
       " 'progressive house',\n",
       " 'puerto rican pop',\n",
       " 'punk',\n",
       " 'queens hip hop',\n",
       " 'quiet storm',\n",
       " 'r&b',\n",
       " 'r&b brasileiro',\n",
       " 'r&b en espanol',\n",
       " 'ranchera',\n",
       " 'rap',\n",
       " 'rap belge',\n",
       " 'rap cearense',\n",
       " 'rap conciencia',\n",
       " 'rap conscient',\n",
       " 'rap dominicano',\n",
       " 'rap francais',\n",
       " 'rap latina',\n",
       " 'rap marseille',\n",
       " 'rap metal',\n",
       " 'rave funk',\n",
       " 'reggaeton',\n",
       " 'reggaeton colombiano',\n",
       " 'reggaeton flow',\n",
       " 'regional mexican',\n",
       " 'rhode island rap',\n",
       " 'rock',\n",
       " 'rock-and-roll',\n",
       " 'rockabilly',\n",
       " 'sad rap',\n",
       " 'scandipop',\n",
       " 'seattle hip hop',\n",
       " 'sertanejo',\n",
       " 'sertanejo pop',\n",
       " 'sertanejo universitario',\n",
       " 'sheffield indie',\n",
       " 'shiver pop',\n",
       " 'show tunes',\n",
       " 'singer-songwriter',\n",
       " 'slap house',\n",
       " 'social media pop',\n",
       " 'soft rock',\n",
       " 'soul',\n",
       " 'soundtrack',\n",
       " 'south african house',\n",
       " 'southern hip hop',\n",
       " 'southern soul',\n",
       " 'sudanese pop',\n",
       " 'sunnlensk tonlist',\n",
       " 'surf punk',\n",
       " 'swedish pop',\n",
       " 'swing',\n",
       " 'synthpop',\n",
       " 'talent show',\n",
       " 'tekk',\n",
       " 'tennessee hip hop',\n",
       " 'torch song',\n",
       " 'toronto rap',\n",
       " 'trance',\n",
       " 'trancecore',\n",
       " 'trap',\n",
       " 'trap argentino',\n",
       " 'trap boricua',\n",
       " 'trap brasileiro',\n",
       " 'trap chileno',\n",
       " 'trap italiana',\n",
       " 'trap latino',\n",
       " 'trap queen',\n",
       " 'trap soul',\n",
       " 'trap triste',\n",
       " 'tropical house',\n",
       " 'turkish trap',\n",
       " 'uk alternative hip hop',\n",
       " 'uk alternative pop',\n",
       " 'uk dance',\n",
       " 'uk funky',\n",
       " 'uk hip hop',\n",
       " 'uk metalcore',\n",
       " 'uk pop',\n",
       " 'underground hip hop',\n",
       " 'urban contemporary',\n",
       " 'urbano espanol',\n",
       " 'vancouver indie',\n",
       " 'vapor trap',\n",
       " 'vegas indie',\n",
       " 'venezuelan hip hop',\n",
       " 'viral pop',\n",
       " 'viral rap',\n",
       " 'vocal jazz',\n",
       " 'weirdcore',\n",
       " 'west coast rap',\n",
       " 'yacht rock'}"
      ]
     },
     "execution_count": 41,
     "metadata": {},
     "output_type": "execute_result"
    }
   ],
   "source": [
    "{genre for genre_list in genre_series for genre in genre_list}"
   ]
  },
  {
   "cell_type": "markdown",
   "metadata": {
    "cell_id": "70d50919016e45909cb95eb2db662796",
    "deepnote_cell_type": "markdown"
   },
   "source": [
    "## Practice with `axis`\n",
    "\n",
    "Reminder:\n",
    "> The `axis` keyword argument indicates which `axis` labels are (potentially) changing. If the row labels could change, then we use `axis=0`. If the column labels could change, then we use `axis=1`."
   ]
  },
  {
   "cell_type": "code",
   "execution_count": 42,
   "metadata": {
    "cell_id": "bbd005bc712e4c0fb523963adf0191a1",
    "deepnote_cell_type": "code",
    "deepnote_to_be_reexecuted": false,
    "execution_millis": 0,
    "execution_start": 1682222379195,
    "source_hash": "d852f53d"
   },
   "outputs": [
    {
     "data": {
      "application/vnd.deepnote.dataframe.v3+json": {
       "column_count": 2,
       "columns": [
        {
         "dtype": "int64",
         "name": "A",
         "stats": {
          "histogram": [
           {
            "bin_end": 2.3,
            "bin_start": 2,
            "count": 1
           },
           {
            "bin_end": 2.6,
            "bin_start": 2.3,
            "count": 0
           },
           {
            "bin_end": 2.9,
            "bin_start": 2.6,
            "count": 0
           },
           {
            "bin_end": 3.2,
            "bin_start": 2.9,
            "count": 1
           },
           {
            "bin_end": 3.5,
            "bin_start": 3.2,
            "count": 0
           },
           {
            "bin_end": 3.8,
            "bin_start": 3.5,
            "count": 0
           },
           {
            "bin_end": 4.1,
            "bin_start": 3.8,
            "count": 0
           },
           {
            "bin_end": 4.4,
            "bin_start": 4.1,
            "count": 0
           },
           {
            "bin_end": 4.699999999999999,
            "bin_start": 4.4,
            "count": 0
           },
           {
            "bin_end": 5,
            "bin_start": 4.699999999999999,
            "count": 1
           }
          ],
          "max": "5",
          "min": "2",
          "nan_count": 0,
          "unique_count": 3
         }
        },
        {
         "dtype": "int64",
         "name": "B",
         "stats": {
          "histogram": [
           {
            "bin_end": -8.6,
            "bin_start": -11,
            "count": 1
           },
           {
            "bin_end": -6.2,
            "bin_start": -8.6,
            "count": 0
           },
           {
            "bin_end": -3.8000000000000007,
            "bin_start": -6.2,
            "count": 0
           },
           {
            "bin_end": -1.4000000000000004,
            "bin_start": -3.8000000000000007,
            "count": 0
           },
           {
            "bin_end": 1,
            "bin_start": -1.4000000000000004,
            "count": 0
           },
           {
            "bin_end": 3.3999999999999986,
            "bin_start": 1,
            "count": 0
           },
           {
            "bin_end": 5.800000000000001,
            "bin_start": 3.3999999999999986,
            "count": 0
           },
           {
            "bin_end": 8.2,
            "bin_start": 5.800000000000001,
            "count": 1
           },
           {
            "bin_end": 10.599999999999998,
            "bin_start": 8.2,
            "count": 0
           },
           {
            "bin_end": 13,
            "bin_start": 10.599999999999998,
            "count": 1
           }
          ],
          "max": "13",
          "min": "-11",
          "nan_count": 0,
          "unique_count": 3
         }
        },
        {
         "dtype": "int64",
         "name": "_deepnote_index_column"
        }
       ],
       "row_count": 3,
       "rows": [
        {
         "A": "2",
         "B": "7",
         "_deepnote_index_column": "0"
        },
        {
         "A": "3",
         "B": "13",
         "_deepnote_index_column": "1"
        },
        {
         "A": "5",
         "B": "-11",
         "_deepnote_index_column": "2"
        }
       ]
      },
      "text/html": [
       "<div>\n",
       "<style scoped>\n",
       "    .dataframe tbody tr th:only-of-type {\n",
       "        vertical-align: middle;\n",
       "    }\n",
       "\n",
       "    .dataframe tbody tr th {\n",
       "        vertical-align: top;\n",
       "    }\n",
       "\n",
       "    .dataframe thead th {\n",
       "        text-align: right;\n",
       "    }\n",
       "</style>\n",
       "<table border=\"1\" class=\"dataframe\">\n",
       "  <thead>\n",
       "    <tr style=\"text-align: right;\">\n",
       "      <th></th>\n",
       "      <th>A</th>\n",
       "      <th>B</th>\n",
       "    </tr>\n",
       "  </thead>\n",
       "  <tbody>\n",
       "    <tr>\n",
       "      <th>0</th>\n",
       "      <td>2</td>\n",
       "      <td>7</td>\n",
       "    </tr>\n",
       "    <tr>\n",
       "      <th>1</th>\n",
       "      <td>3</td>\n",
       "      <td>13</td>\n",
       "    </tr>\n",
       "    <tr>\n",
       "      <th>2</th>\n",
       "      <td>5</td>\n",
       "      <td>-11</td>\n",
       "    </tr>\n",
       "  </tbody>\n",
       "</table>\n",
       "</div>"
      ],
      "text/plain": [
       "   A   B\n",
       "0  2   7\n",
       "1  3  13\n",
       "2  5 -11"
      ]
     },
     "execution_count": 42,
     "metadata": {},
     "output_type": "execute_result"
    }
   ],
   "source": [
    "df1 = pd.DataFrame({\"A\": [2, 3, 5], \"B\": [7, 13, -11]})\n",
    "df2 = pd.DataFrame({\"A\": [-1, 0, 5], \"B\": [2, 2, 2]})\n",
    "df1"
   ]
  },
  {
   "cell_type": "markdown",
   "metadata": {
    "cell_id": "e32d017a83bb41a09302a15edac5a61d",
    "deepnote_cell_type": "markdown"
   },
   "source": [
    "Can you predict what the following will do?"
   ]
  },
  {
   "cell_type": "markdown",
   "metadata": {
    "cell_id": "678b58fa6c0b426f9fce7f90150d5e11",
    "deepnote_cell_type": "markdown"
   },
   "source": [
    "* `df1.sum(axis=0)`"
   ]
  },
  {
   "cell_type": "code",
   "execution_count": 43,
   "metadata": {
    "cell_id": "d53698737f514e588ecc74cc67f1bacd",
    "deepnote_cell_type": "code",
    "deepnote_to_be_reexecuted": false,
    "execution_millis": 0,
    "execution_start": 1682222388837,
    "source_hash": "badf716e"
   },
   "outputs": [
    {
     "data": {
      "text/plain": [
       "A    10\n",
       "B     9\n",
       "dtype: int64"
      ]
     },
     "execution_count": 43,
     "metadata": {},
     "output_type": "execute_result"
    }
   ],
   "source": [
    "df1.sum(axis=0)"
   ]
  },
  {
   "cell_type": "markdown",
   "metadata": {
    "cell_id": "391ff84a954d4270b6f46d114e17b932",
    "deepnote_cell_type": "markdown"
   },
   "source": [
    "* `df1.min(axis=1)`"
   ]
  },
  {
   "cell_type": "code",
   "execution_count": 44,
   "metadata": {
    "cell_id": "49aa7a4c5e434b0e91a1fa2175c3e4bc",
    "deepnote_cell_type": "code",
    "deepnote_to_be_reexecuted": false,
    "execution_millis": 45,
    "execution_start": 1682222390826,
    "source_hash": "5e95d723"
   },
   "outputs": [
    {
     "data": {
      "text/plain": [
       "0     2\n",
       "1     3\n",
       "2   -11\n",
       "dtype: int64"
      ]
     },
     "execution_count": 44,
     "metadata": {},
     "output_type": "execute_result"
    }
   ],
   "source": [
    "df1.min(axis=1)"
   ]
  },
  {
   "cell_type": "markdown",
   "metadata": {
    "cell_id": "08b004b0070745138921b81a232258b5",
    "deepnote_cell_type": "markdown"
   },
   "source": [
    "* `pd.concat([df1, df2], axis=0)`"
   ]
  },
  {
   "cell_type": "code",
   "execution_count": 45,
   "metadata": {
    "cell_id": "44c41017577e483fa04b371042504b48",
    "deepnote_cell_type": "code",
    "deepnote_to_be_reexecuted": false,
    "execution_millis": 19,
    "execution_start": 1682222392623,
    "source_hash": "4ffa2fa0"
   },
   "outputs": [
    {
     "data": {
      "application/vnd.deepnote.dataframe.v3+json": {
       "column_count": 2,
       "columns": [
        {
         "dtype": "int64",
         "name": "A",
         "stats": {
          "histogram": [
           {
            "bin_end": -0.4,
            "bin_start": -1,
            "count": 1
           },
           {
            "bin_end": 0.19999999999999996,
            "bin_start": -0.4,
            "count": 1
           },
           {
            "bin_end": 0.7999999999999998,
            "bin_start": 0.19999999999999996,
            "count": 0
           },
           {
            "bin_end": 1.4,
            "bin_start": 0.7999999999999998,
            "count": 0
           },
           {
            "bin_end": 2,
            "bin_start": 1.4,
            "count": 0
           },
           {
            "bin_end": 2.5999999999999996,
            "bin_start": 2,
            "count": 1
           },
           {
            "bin_end": 3.2,
            "bin_start": 2.5999999999999996,
            "count": 1
           },
           {
            "bin_end": 3.8,
            "bin_start": 3.2,
            "count": 0
           },
           {
            "bin_end": 4.3999999999999995,
            "bin_start": 3.8,
            "count": 0
           },
           {
            "bin_end": 5,
            "bin_start": 4.3999999999999995,
            "count": 2
           }
          ],
          "max": "5",
          "min": "-1",
          "nan_count": 0,
          "unique_count": 5
         }
        },
        {
         "dtype": "int64",
         "name": "B",
         "stats": {
          "histogram": [
           {
            "bin_end": -8.6,
            "bin_start": -11,
            "count": 1
           },
           {
            "bin_end": -6.2,
            "bin_start": -8.6,
            "count": 0
           },
           {
            "bin_end": -3.8000000000000007,
            "bin_start": -6.2,
            "count": 0
           },
           {
            "bin_end": -1.4000000000000004,
            "bin_start": -3.8000000000000007,
            "count": 0
           },
           {
            "bin_end": 1,
            "bin_start": -1.4000000000000004,
            "count": 0
           },
           {
            "bin_end": 3.3999999999999986,
            "bin_start": 1,
            "count": 3
           },
           {
            "bin_end": 5.800000000000001,
            "bin_start": 3.3999999999999986,
            "count": 0
           },
           {
            "bin_end": 8.2,
            "bin_start": 5.800000000000001,
            "count": 1
           },
           {
            "bin_end": 10.599999999999998,
            "bin_start": 8.2,
            "count": 0
           },
           {
            "bin_end": 13,
            "bin_start": 10.599999999999998,
            "count": 1
           }
          ],
          "max": "13",
          "min": "-11",
          "nan_count": 0,
          "unique_count": 4
         }
        },
        {
         "dtype": "int64",
         "name": "_deepnote_index_column"
        }
       ],
       "row_count": 6,
       "rows": [
        {
         "A": "2",
         "B": "7",
         "_deepnote_index_column": "0"
        },
        {
         "A": "3",
         "B": "13",
         "_deepnote_index_column": "1"
        },
        {
         "A": "5",
         "B": "-11",
         "_deepnote_index_column": "2"
        },
        {
         "A": "-1",
         "B": "2",
         "_deepnote_index_column": "0"
        },
        {
         "A": "0",
         "B": "2",
         "_deepnote_index_column": "1"
        },
        {
         "A": "5",
         "B": "2",
         "_deepnote_index_column": "2"
        }
       ]
      },
      "text/html": [
       "<div>\n",
       "<style scoped>\n",
       "    .dataframe tbody tr th:only-of-type {\n",
       "        vertical-align: middle;\n",
       "    }\n",
       "\n",
       "    .dataframe tbody tr th {\n",
       "        vertical-align: top;\n",
       "    }\n",
       "\n",
       "    .dataframe thead th {\n",
       "        text-align: right;\n",
       "    }\n",
       "</style>\n",
       "<table border=\"1\" class=\"dataframe\">\n",
       "  <thead>\n",
       "    <tr style=\"text-align: right;\">\n",
       "      <th></th>\n",
       "      <th>A</th>\n",
       "      <th>B</th>\n",
       "    </tr>\n",
       "  </thead>\n",
       "  <tbody>\n",
       "    <tr>\n",
       "      <th>0</th>\n",
       "      <td>2</td>\n",
       "      <td>7</td>\n",
       "    </tr>\n",
       "    <tr>\n",
       "      <th>1</th>\n",
       "      <td>3</td>\n",
       "      <td>13</td>\n",
       "    </tr>\n",
       "    <tr>\n",
       "      <th>2</th>\n",
       "      <td>5</td>\n",
       "      <td>-11</td>\n",
       "    </tr>\n",
       "    <tr>\n",
       "      <th>0</th>\n",
       "      <td>-1</td>\n",
       "      <td>2</td>\n",
       "    </tr>\n",
       "    <tr>\n",
       "      <th>1</th>\n",
       "      <td>0</td>\n",
       "      <td>2</td>\n",
       "    </tr>\n",
       "    <tr>\n",
       "      <th>2</th>\n",
       "      <td>5</td>\n",
       "      <td>2</td>\n",
       "    </tr>\n",
       "  </tbody>\n",
       "</table>\n",
       "</div>"
      ],
      "text/plain": [
       "   A   B\n",
       "0  2   7\n",
       "1  3  13\n",
       "2  5 -11\n",
       "0 -1   2\n",
       "1  0   2\n",
       "2  5   2"
      ]
     },
     "execution_count": 45,
     "metadata": {},
     "output_type": "execute_result"
    }
   ],
   "source": [
    "pd.concat([df1, df2], axis=0)"
   ]
  },
  {
   "cell_type": "markdown",
   "metadata": {
    "cell_id": "77bf7632ac9a4ccc8069ab82f028e6e9",
    "deepnote_cell_type": "markdown"
   },
   "source": [
    "* `pd.concat([df1, df2], axis=1)`"
   ]
  },
  {
   "cell_type": "code",
   "execution_count": 46,
   "metadata": {
    "cell_id": "b2d9d3bdca944f4ea48f0f383dc7c0d6",
    "deepnote_cell_type": "code",
    "deepnote_to_be_reexecuted": false,
    "execution_millis": 27,
    "execution_start": 1682222394742,
    "source_hash": "b0573096"
   },
   "outputs": [
    {
     "data": {
      "application/vnd.deepnote.dataframe.v3+json": {
       "column_count": 4,
       "columns": [
        {
         "dtype": "int64",
         "name": "A",
         "stats": {
          "histogram": [
           {
            "bin_end": 2.3,
            "bin_start": 2,
            "count": 1
           },
           {
            "bin_end": 2.6,
            "bin_start": 2.3,
            "count": 0
           },
           {
            "bin_end": 2.9,
            "bin_start": 2.6,
            "count": 0
           },
           {
            "bin_end": 3.2,
            "bin_start": 2.9,
            "count": 1
           },
           {
            "bin_end": 3.5,
            "bin_start": 3.2,
            "count": 0
           },
           {
            "bin_end": 3.8,
            "bin_start": 3.5,
            "count": 0
           },
           {
            "bin_end": 4.1,
            "bin_start": 3.8,
            "count": 0
           },
           {
            "bin_end": 4.4,
            "bin_start": 4.1,
            "count": 0
           },
           {
            "bin_end": 4.699999999999999,
            "bin_start": 4.4,
            "count": 0
           },
           {
            "bin_end": 5,
            "bin_start": 4.699999999999999,
            "count": 1
           }
          ],
          "max": "5",
          "min": "2",
          "nan_count": 0,
          "unique_count": 3
         }
        },
        {
         "dtype": "int64",
         "name": "B",
         "stats": {
          "histogram": [
           {
            "bin_end": -8.6,
            "bin_start": -11,
            "count": 1
           },
           {
            "bin_end": -6.2,
            "bin_start": -8.6,
            "count": 0
           },
           {
            "bin_end": -3.8000000000000007,
            "bin_start": -6.2,
            "count": 0
           },
           {
            "bin_end": -1.4000000000000004,
            "bin_start": -3.8000000000000007,
            "count": 0
           },
           {
            "bin_end": 1,
            "bin_start": -1.4000000000000004,
            "count": 0
           },
           {
            "bin_end": 3.3999999999999986,
            "bin_start": 1,
            "count": 0
           },
           {
            "bin_end": 5.800000000000001,
            "bin_start": 3.3999999999999986,
            "count": 0
           },
           {
            "bin_end": 8.2,
            "bin_start": 5.800000000000001,
            "count": 1
           },
           {
            "bin_end": 10.599999999999998,
            "bin_start": 8.2,
            "count": 0
           },
           {
            "bin_end": 13,
            "bin_start": 10.599999999999998,
            "count": 1
           }
          ],
          "max": "13",
          "min": "-11",
          "nan_count": 0,
          "unique_count": 3
         }
        },
        {
         "dtype": "int64",
         "name": "A.1",
         "stats": {
          "histogram": [
           {
            "bin_end": -0.4,
            "bin_start": -1,
            "count": 1
           },
           {
            "bin_end": 0.19999999999999996,
            "bin_start": -0.4,
            "count": 1
           },
           {
            "bin_end": 0.7999999999999998,
            "bin_start": 0.19999999999999996,
            "count": 0
           },
           {
            "bin_end": 1.4,
            "bin_start": 0.7999999999999998,
            "count": 0
           },
           {
            "bin_end": 2,
            "bin_start": 1.4,
            "count": 0
           },
           {
            "bin_end": 2.5999999999999996,
            "bin_start": 2,
            "count": 0
           },
           {
            "bin_end": 3.2,
            "bin_start": 2.5999999999999996,
            "count": 0
           },
           {
            "bin_end": 3.8,
            "bin_start": 3.2,
            "count": 0
           },
           {
            "bin_end": 4.3999999999999995,
            "bin_start": 3.8,
            "count": 0
           },
           {
            "bin_end": 5,
            "bin_start": 4.3999999999999995,
            "count": 1
           }
          ],
          "max": "5",
          "min": "-1",
          "nan_count": 0,
          "unique_count": 3
         }
        },
        {
         "dtype": "int64",
         "name": "B.1",
         "stats": {
          "histogram": [
           {
            "bin_end": 1.6,
            "bin_start": 1.5,
            "count": 0
           },
           {
            "bin_end": 1.7,
            "bin_start": 1.6,
            "count": 0
           },
           {
            "bin_end": 1.8,
            "bin_start": 1.7,
            "count": 0
           },
           {
            "bin_end": 1.9,
            "bin_start": 1.8,
            "count": 0
           },
           {
            "bin_end": 2,
            "bin_start": 1.9,
            "count": 0
           },
           {
            "bin_end": 2.1,
            "bin_start": 2,
            "count": 3
           },
           {
            "bin_end": 2.2,
            "bin_start": 2.1,
            "count": 0
           },
           {
            "bin_end": 2.3,
            "bin_start": 2.2,
            "count": 0
           },
           {
            "bin_end": 2.4,
            "bin_start": 2.3,
            "count": 0
           },
           {
            "bin_end": 2.5,
            "bin_start": 2.4,
            "count": 0
           }
          ],
          "max": "2",
          "min": "2",
          "nan_count": 0,
          "unique_count": 1
         }
        },
        {
         "dtype": "int64",
         "name": "_deepnote_index_column"
        }
       ],
       "row_count": 3,
       "rows": [
        {
         "A": "2",
         "A.1": "-1",
         "B": "7",
         "B.1": "2",
         "_deepnote_index_column": "0"
        },
        {
         "A": "3",
         "A.1": "0",
         "B": "13",
         "B.1": "2",
         "_deepnote_index_column": "1"
        },
        {
         "A": "5",
         "A.1": "5",
         "B": "-11",
         "B.1": "2",
         "_deepnote_index_column": "2"
        }
       ]
      },
      "text/html": [
       "<div>\n",
       "<style scoped>\n",
       "    .dataframe tbody tr th:only-of-type {\n",
       "        vertical-align: middle;\n",
       "    }\n",
       "\n",
       "    .dataframe tbody tr th {\n",
       "        vertical-align: top;\n",
       "    }\n",
       "\n",
       "    .dataframe thead th {\n",
       "        text-align: right;\n",
       "    }\n",
       "</style>\n",
       "<table border=\"1\" class=\"dataframe\">\n",
       "  <thead>\n",
       "    <tr style=\"text-align: right;\">\n",
       "      <th></th>\n",
       "      <th>A</th>\n",
       "      <th>B</th>\n",
       "      <th>A</th>\n",
       "      <th>B</th>\n",
       "    </tr>\n",
       "  </thead>\n",
       "  <tbody>\n",
       "    <tr>\n",
       "      <th>0</th>\n",
       "      <td>2</td>\n",
       "      <td>7</td>\n",
       "      <td>-1</td>\n",
       "      <td>2</td>\n",
       "    </tr>\n",
       "    <tr>\n",
       "      <th>1</th>\n",
       "      <td>3</td>\n",
       "      <td>13</td>\n",
       "      <td>0</td>\n",
       "      <td>2</td>\n",
       "    </tr>\n",
       "    <tr>\n",
       "      <th>2</th>\n",
       "      <td>5</td>\n",
       "      <td>-11</td>\n",
       "      <td>5</td>\n",
       "      <td>2</td>\n",
       "    </tr>\n",
       "  </tbody>\n",
       "</table>\n",
       "</div>"
      ],
      "text/plain": [
       "   A   B  A  B\n",
       "0  2   7 -1  2\n",
       "1  3  13  0  2\n",
       "2  5 -11  5  2"
      ]
     },
     "execution_count": 46,
     "metadata": {},
     "output_type": "execute_result"
    }
   ],
   "source": [
    "pd.concat([df1, df2], axis=1)"
   ]
  },
  {
   "cell_type": "markdown",
   "metadata": {
    "cell_id": "ff2c2b408f58496f9a70215ecae432a5",
    "deepnote_cell_type": "markdown"
   },
   "source": [
    "Define `df3 = pd.concat([df1, df2], axis=0)`.  What are the following?\n",
    "* `df3.apply(lambda ser: ser.idxmin(), axis=0)`\n",
    "* `df3.apply(lambda ser: ser.argmin(), axis=0)`\n",
    "(I was surprised that `df3.argmin(axis=0)` didn't work as an abbreviation for this last one.)"
   ]
  },
  {
   "cell_type": "code",
   "execution_count": 47,
   "metadata": {
    "cell_id": "6340e5ac485643f28c738ad2e651ab86",
    "deepnote_cell_type": "code",
    "deepnote_to_be_reexecuted": false,
    "execution_millis": 17,
    "execution_start": 1682222396482,
    "source_hash": "5b292dd2"
   },
   "outputs": [
    {
     "data": {
      "application/vnd.deepnote.dataframe.v3+json": {
       "column_count": 2,
       "columns": [
        {
         "dtype": "int64",
         "name": "A",
         "stats": {
          "histogram": [
           {
            "bin_end": -0.4,
            "bin_start": -1,
            "count": 1
           },
           {
            "bin_end": 0.19999999999999996,
            "bin_start": -0.4,
            "count": 1
           },
           {
            "bin_end": 0.7999999999999998,
            "bin_start": 0.19999999999999996,
            "count": 0
           },
           {
            "bin_end": 1.4,
            "bin_start": 0.7999999999999998,
            "count": 0
           },
           {
            "bin_end": 2,
            "bin_start": 1.4,
            "count": 0
           },
           {
            "bin_end": 2.5999999999999996,
            "bin_start": 2,
            "count": 1
           },
           {
            "bin_end": 3.2,
            "bin_start": 2.5999999999999996,
            "count": 1
           },
           {
            "bin_end": 3.8,
            "bin_start": 3.2,
            "count": 0
           },
           {
            "bin_end": 4.3999999999999995,
            "bin_start": 3.8,
            "count": 0
           },
           {
            "bin_end": 5,
            "bin_start": 4.3999999999999995,
            "count": 2
           }
          ],
          "max": "5",
          "min": "-1",
          "nan_count": 0,
          "unique_count": 5
         }
        },
        {
         "dtype": "int64",
         "name": "B",
         "stats": {
          "histogram": [
           {
            "bin_end": -8.6,
            "bin_start": -11,
            "count": 1
           },
           {
            "bin_end": -6.2,
            "bin_start": -8.6,
            "count": 0
           },
           {
            "bin_end": -3.8000000000000007,
            "bin_start": -6.2,
            "count": 0
           },
           {
            "bin_end": -1.4000000000000004,
            "bin_start": -3.8000000000000007,
            "count": 0
           },
           {
            "bin_end": 1,
            "bin_start": -1.4000000000000004,
            "count": 0
           },
           {
            "bin_end": 3.3999999999999986,
            "bin_start": 1,
            "count": 3
           },
           {
            "bin_end": 5.800000000000001,
            "bin_start": 3.3999999999999986,
            "count": 0
           },
           {
            "bin_end": 8.2,
            "bin_start": 5.800000000000001,
            "count": 1
           },
           {
            "bin_end": 10.599999999999998,
            "bin_start": 8.2,
            "count": 0
           },
           {
            "bin_end": 13,
            "bin_start": 10.599999999999998,
            "count": 1
           }
          ],
          "max": "13",
          "min": "-11",
          "nan_count": 0,
          "unique_count": 4
         }
        },
        {
         "dtype": "int64",
         "name": "_deepnote_index_column"
        }
       ],
       "row_count": 6,
       "rows": [
        {
         "A": "2",
         "B": "7",
         "_deepnote_index_column": "0"
        },
        {
         "A": "3",
         "B": "13",
         "_deepnote_index_column": "1"
        },
        {
         "A": "5",
         "B": "-11",
         "_deepnote_index_column": "2"
        },
        {
         "A": "-1",
         "B": "2",
         "_deepnote_index_column": "0"
        },
        {
         "A": "0",
         "B": "2",
         "_deepnote_index_column": "1"
        },
        {
         "A": "5",
         "B": "2",
         "_deepnote_index_column": "2"
        }
       ]
      },
      "text/html": [
       "<div>\n",
       "<style scoped>\n",
       "    .dataframe tbody tr th:only-of-type {\n",
       "        vertical-align: middle;\n",
       "    }\n",
       "\n",
       "    .dataframe tbody tr th {\n",
       "        vertical-align: top;\n",
       "    }\n",
       "\n",
       "    .dataframe thead th {\n",
       "        text-align: right;\n",
       "    }\n",
       "</style>\n",
       "<table border=\"1\" class=\"dataframe\">\n",
       "  <thead>\n",
       "    <tr style=\"text-align: right;\">\n",
       "      <th></th>\n",
       "      <th>A</th>\n",
       "      <th>B</th>\n",
       "    </tr>\n",
       "  </thead>\n",
       "  <tbody>\n",
       "    <tr>\n",
       "      <th>0</th>\n",
       "      <td>2</td>\n",
       "      <td>7</td>\n",
       "    </tr>\n",
       "    <tr>\n",
       "      <th>1</th>\n",
       "      <td>3</td>\n",
       "      <td>13</td>\n",
       "    </tr>\n",
       "    <tr>\n",
       "      <th>2</th>\n",
       "      <td>5</td>\n",
       "      <td>-11</td>\n",
       "    </tr>\n",
       "    <tr>\n",
       "      <th>0</th>\n",
       "      <td>-1</td>\n",
       "      <td>2</td>\n",
       "    </tr>\n",
       "    <tr>\n",
       "      <th>1</th>\n",
       "      <td>0</td>\n",
       "      <td>2</td>\n",
       "    </tr>\n",
       "    <tr>\n",
       "      <th>2</th>\n",
       "      <td>5</td>\n",
       "      <td>2</td>\n",
       "    </tr>\n",
       "  </tbody>\n",
       "</table>\n",
       "</div>"
      ],
      "text/plain": [
       "   A   B\n",
       "0  2   7\n",
       "1  3  13\n",
       "2  5 -11\n",
       "0 -1   2\n",
       "1  0   2\n",
       "2  5   2"
      ]
     },
     "execution_count": 47,
     "metadata": {},
     "output_type": "execute_result"
    }
   ],
   "source": [
    "df3 = pd.concat([df1, df2], axis=0)\n",
    "df3"
   ]
  },
  {
   "cell_type": "code",
   "execution_count": 48,
   "metadata": {
    "cell_id": "1c17e4482d9f4ba3ae1c6844f26ea9d4",
    "deepnote_cell_type": "code",
    "deepnote_to_be_reexecuted": false,
    "execution_millis": 2,
    "execution_start": 1682222397403,
    "source_hash": "7873a7fe"
   },
   "outputs": [
    {
     "data": {
      "text/plain": [
       "A    0\n",
       "B    2\n",
       "dtype: int64"
      ]
     },
     "execution_count": 48,
     "metadata": {},
     "output_type": "execute_result"
    }
   ],
   "source": [
    "df3.apply(lambda ser: ser.idxmin(), axis=0)"
   ]
  },
  {
   "cell_type": "code",
   "execution_count": 49,
   "metadata": {
    "cell_id": "8545009281cd402c80b1371e22536a38",
    "deepnote_cell_type": "code",
    "deepnote_to_be_reexecuted": false,
    "execution_millis": 6,
    "execution_start": 1682222398168,
    "source_hash": "8f701116"
   },
   "outputs": [
    {
     "data": {
      "text/plain": [
       "A    3\n",
       "B    2\n",
       "dtype: int64"
      ]
     },
     "execution_count": 49,
     "metadata": {},
     "output_type": "execute_result"
    }
   ],
   "source": [
    "df3.apply(lambda ser: ser.argmin(), axis=0)"
   ]
  },
  {
   "cell_type": "code",
   "execution_count": 50,
   "metadata": {
    "cell_id": "1758d41712e24c03968aa61b1a1248e3",
    "deepnote_cell_type": "code",
    "deepnote_to_be_reexecuted": false,
    "execution_millis": 5,
    "execution_start": 1682222399023,
    "source_hash": "1d4099ed"
   },
   "outputs": [
    {
     "data": {
      "text/plain": [
       "A    0\n",
       "B    2\n",
       "dtype: int64"
      ]
     },
     "execution_count": 50,
     "metadata": {},
     "output_type": "execute_result"
    }
   ],
   "source": [
    "pd.concat([df1, df2], axis=0).idxmin(axis=0)"
   ]
  },
  {
   "cell_type": "code",
   "execution_count": 51,
   "metadata": {
    "cell_id": "ea8fa7a9773c4bceb5ce39060ac4177f",
    "deepnote_cell_type": "code",
    "deepnote_to_be_reexecuted": false,
    "execution_millis": 23,
    "execution_start": 1682222399839,
    "source_hash": "b0573096"
   },
   "outputs": [
    {
     "data": {
      "application/vnd.deepnote.dataframe.v3+json": {
       "column_count": 4,
       "columns": [
        {
         "dtype": "int64",
         "name": "A",
         "stats": {
          "histogram": [
           {
            "bin_end": 2.3,
            "bin_start": 2,
            "count": 1
           },
           {
            "bin_end": 2.6,
            "bin_start": 2.3,
            "count": 0
           },
           {
            "bin_end": 2.9,
            "bin_start": 2.6,
            "count": 0
           },
           {
            "bin_end": 3.2,
            "bin_start": 2.9,
            "count": 1
           },
           {
            "bin_end": 3.5,
            "bin_start": 3.2,
            "count": 0
           },
           {
            "bin_end": 3.8,
            "bin_start": 3.5,
            "count": 0
           },
           {
            "bin_end": 4.1,
            "bin_start": 3.8,
            "count": 0
           },
           {
            "bin_end": 4.4,
            "bin_start": 4.1,
            "count": 0
           },
           {
            "bin_end": 4.699999999999999,
            "bin_start": 4.4,
            "count": 0
           },
           {
            "bin_end": 5,
            "bin_start": 4.699999999999999,
            "count": 1
           }
          ],
          "max": "5",
          "min": "2",
          "nan_count": 0,
          "unique_count": 3
         }
        },
        {
         "dtype": "int64",
         "name": "B",
         "stats": {
          "histogram": [
           {
            "bin_end": -8.6,
            "bin_start": -11,
            "count": 1
           },
           {
            "bin_end": -6.2,
            "bin_start": -8.6,
            "count": 0
           },
           {
            "bin_end": -3.8000000000000007,
            "bin_start": -6.2,
            "count": 0
           },
           {
            "bin_end": -1.4000000000000004,
            "bin_start": -3.8000000000000007,
            "count": 0
           },
           {
            "bin_end": 1,
            "bin_start": -1.4000000000000004,
            "count": 0
           },
           {
            "bin_end": 3.3999999999999986,
            "bin_start": 1,
            "count": 0
           },
           {
            "bin_end": 5.800000000000001,
            "bin_start": 3.3999999999999986,
            "count": 0
           },
           {
            "bin_end": 8.2,
            "bin_start": 5.800000000000001,
            "count": 1
           },
           {
            "bin_end": 10.599999999999998,
            "bin_start": 8.2,
            "count": 0
           },
           {
            "bin_end": 13,
            "bin_start": 10.599999999999998,
            "count": 1
           }
          ],
          "max": "13",
          "min": "-11",
          "nan_count": 0,
          "unique_count": 3
         }
        },
        {
         "dtype": "int64",
         "name": "A.1",
         "stats": {
          "histogram": [
           {
            "bin_end": -0.4,
            "bin_start": -1,
            "count": 1
           },
           {
            "bin_end": 0.19999999999999996,
            "bin_start": -0.4,
            "count": 1
           },
           {
            "bin_end": 0.7999999999999998,
            "bin_start": 0.19999999999999996,
            "count": 0
           },
           {
            "bin_end": 1.4,
            "bin_start": 0.7999999999999998,
            "count": 0
           },
           {
            "bin_end": 2,
            "bin_start": 1.4,
            "count": 0
           },
           {
            "bin_end": 2.5999999999999996,
            "bin_start": 2,
            "count": 0
           },
           {
            "bin_end": 3.2,
            "bin_start": 2.5999999999999996,
            "count": 0
           },
           {
            "bin_end": 3.8,
            "bin_start": 3.2,
            "count": 0
           },
           {
            "bin_end": 4.3999999999999995,
            "bin_start": 3.8,
            "count": 0
           },
           {
            "bin_end": 5,
            "bin_start": 4.3999999999999995,
            "count": 1
           }
          ],
          "max": "5",
          "min": "-1",
          "nan_count": 0,
          "unique_count": 3
         }
        },
        {
         "dtype": "int64",
         "name": "B.1",
         "stats": {
          "histogram": [
           {
            "bin_end": 1.6,
            "bin_start": 1.5,
            "count": 0
           },
           {
            "bin_end": 1.7,
            "bin_start": 1.6,
            "count": 0
           },
           {
            "bin_end": 1.8,
            "bin_start": 1.7,
            "count": 0
           },
           {
            "bin_end": 1.9,
            "bin_start": 1.8,
            "count": 0
           },
           {
            "bin_end": 2,
            "bin_start": 1.9,
            "count": 0
           },
           {
            "bin_end": 2.1,
            "bin_start": 2,
            "count": 3
           },
           {
            "bin_end": 2.2,
            "bin_start": 2.1,
            "count": 0
           },
           {
            "bin_end": 2.3,
            "bin_start": 2.2,
            "count": 0
           },
           {
            "bin_end": 2.4,
            "bin_start": 2.3,
            "count": 0
           },
           {
            "bin_end": 2.5,
            "bin_start": 2.4,
            "count": 0
           }
          ],
          "max": "2",
          "min": "2",
          "nan_count": 0,
          "unique_count": 1
         }
        },
        {
         "dtype": "int64",
         "name": "_deepnote_index_column"
        }
       ],
       "row_count": 3,
       "rows": [
        {
         "A": "2",
         "A.1": "-1",
         "B": "7",
         "B.1": "2",
         "_deepnote_index_column": "0"
        },
        {
         "A": "3",
         "A.1": "0",
         "B": "13",
         "B.1": "2",
         "_deepnote_index_column": "1"
        },
        {
         "A": "5",
         "A.1": "5",
         "B": "-11",
         "B.1": "2",
         "_deepnote_index_column": "2"
        }
       ]
      },
      "text/html": [
       "<div>\n",
       "<style scoped>\n",
       "    .dataframe tbody tr th:only-of-type {\n",
       "        vertical-align: middle;\n",
       "    }\n",
       "\n",
       "    .dataframe tbody tr th {\n",
       "        vertical-align: top;\n",
       "    }\n",
       "\n",
       "    .dataframe thead th {\n",
       "        text-align: right;\n",
       "    }\n",
       "</style>\n",
       "<table border=\"1\" class=\"dataframe\">\n",
       "  <thead>\n",
       "    <tr style=\"text-align: right;\">\n",
       "      <th></th>\n",
       "      <th>A</th>\n",
       "      <th>B</th>\n",
       "      <th>A</th>\n",
       "      <th>B</th>\n",
       "    </tr>\n",
       "  </thead>\n",
       "  <tbody>\n",
       "    <tr>\n",
       "      <th>0</th>\n",
       "      <td>2</td>\n",
       "      <td>7</td>\n",
       "      <td>-1</td>\n",
       "      <td>2</td>\n",
       "    </tr>\n",
       "    <tr>\n",
       "      <th>1</th>\n",
       "      <td>3</td>\n",
       "      <td>13</td>\n",
       "      <td>0</td>\n",
       "      <td>2</td>\n",
       "    </tr>\n",
       "    <tr>\n",
       "      <th>2</th>\n",
       "      <td>5</td>\n",
       "      <td>-11</td>\n",
       "      <td>5</td>\n",
       "      <td>2</td>\n",
       "    </tr>\n",
       "  </tbody>\n",
       "</table>\n",
       "</div>"
      ],
      "text/plain": [
       "   A   B  A  B\n",
       "0  2   7 -1  2\n",
       "1  3  13  0  2\n",
       "2  5 -11  5  2"
      ]
     },
     "execution_count": 51,
     "metadata": {},
     "output_type": "execute_result"
    }
   ],
   "source": [
    "pd.concat([df1, df2], axis=1)"
   ]
  }
 ],
 "metadata": {
  "deepnote": {},
  "deepnote_execution_queue": [],
  "deepnote_notebook_id": "e7def5d4387f49ef9a2741e5d7a9f0d9",
  "deepnote_persisted_session": {
   "createdAt": "2023-04-23T04:16:22.672Z"
  },
  "kernelspec": {
   "display_name": "Python 3 (ipykernel)",
   "language": "python",
   "name": "python3"
  },
  "language_info": {
   "codemirror_mode": {
    "name": "ipython",
    "version": 3
   },
   "file_extension": ".py",
   "mimetype": "text/x-python",
   "name": "python",
   "nbconvert_exporter": "python",
   "pygments_lexer": "ipython3",
   "version": "3.9.16"
  }
 },
 "nbformat": 4,
 "nbformat_minor": 4
}
