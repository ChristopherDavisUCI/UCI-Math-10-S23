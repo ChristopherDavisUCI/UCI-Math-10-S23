{
 "cells": [
  {
   "cell_type": "markdown",
   "metadata": {
    "cell_id": "e9da3d135e534c63a73b5b1dc5e2ea3d",
    "deepnote_cell_type": "markdown"
   },
   "source": [
    "# Week 5 Friday\n",
    "\n",
    "Slightly different schedule today:\n",
    "\n",
    "* Review (about 20 minutes)\n",
    "* Time to work on worksheets (about 10 minutes, Yufei and Hanson are here to help)\n",
    "* New material (polynomial regression)"
   ]
  },
  {
   "cell_type": "code",
   "execution_count": 1,
   "metadata": {
    "cell_id": "244f9aa9365a4299ada6ecd563c28227",
    "deepnote_cell_type": "code",
    "deepnote_to_be_reexecuted": false,
    "execution_millis": 1502,
    "execution_start": 1683316663883,
    "source_hash": "97d50920"
   },
   "outputs": [],
   "source": [
    "import pandas as pd\n",
    "import altair as alt\n",
    "import seaborn as sns"
   ]
  },
  {
   "cell_type": "markdown",
   "metadata": {
    "cell_id": "a7be8e37594f4df398f7c610992f3b92",
    "deepnote_cell_type": "markdown"
   },
   "source": [
    "## Recap\n",
    "\n",
    "This week we've started the Machine Learning portion of the class.  The most important points so far:\n",
    "\n",
    "* The most common scikit-learn workflow: import, instantiate, fit, predict.\n",
    "* Using scikit-learn for linear regression.\n",
    "* Linear regression is a model for *regression*, because we are trying to predict a continuous value.  (You might think that's obvious since it's called linear regression, but next week we will learn logistic regression, which is actually used for classification.)\n",
    "* The coefficients found in linear regression have real-world interpretations, similar to partial derivatives."
   ]
  },
  {
   "cell_type": "markdown",
   "metadata": {
    "cell_id": "b9d98b43c25f405a8967b210fd1e3730",
    "deepnote_cell_type": "markdown"
   },
   "source": [
    "## Examples so far\n",
    "\n",
    "These coefficients, especially whether they are positive or negative, should make intuitive sense.  The only exception is the `\"passengers\"` coefficient in the taxis dataset, which does not seem to have much impact on the duration of the trip (which is not surprising)."
   ]
  },
  {
   "cell_type": "markdown",
   "metadata": {
    "cell_id": "c6b9632c0e5d4e2686450b99797efeb2",
    "deepnote_cell_type": "markdown"
   },
   "source": [
    "### The taxis dataset\n",
    "\n",
    "Reminder: in this example, we were only considering hours after 16:00 (4pm).\n",
    "\n",
    "* Input features (also called predictors): `[\"distance\", \"hour\", \"passengers\"]`\n",
    "* Target (or output): `\"duration\"`\n",
    "* Coefficients: `[ 2.40296826, -0.56721926, -0.01271133]`"
   ]
  },
  {
   "cell_type": "markdown",
   "metadata": {
    "cell_id": "ad00a3b0cb79466ba45a42de85f840d3",
    "deepnote_cell_type": "markdown"
   },
   "source": [
    "### The Spotify dataset\n",
    "\n",
    "Here, \"acoustic\" is as opposed to \"electronic\", and \"valence\" is a measure of positivity or happiness.\n",
    "\n",
    "* Input features: `[\"Acousticness\", \"Speechiness\", \"Valence\"]`\n",
    "* Target: `\"Energy\"`\n",
    "* Coefficients: `[-0.33557117, -0.08205736,  0.21893852]`"
   ]
  },
  {
   "cell_type": "markdown",
   "metadata": {
    "cell_id": "ed859a558e1249c2aff1eb4ef85eca0b",
    "deepnote_cell_type": "markdown"
   },
   "source": [
    "### The mpg dataset\n",
    "\n",
    "This is the topic of Worksheet 10\n",
    "\n",
    "* Predictors: `[\"horsepower\", \"weight\", \"model_year\", \"cylinders\"]`\n",
    "* Target: `\"mpg\"`\n",
    "* Coefficients: ???"
   ]
  },
  {
   "cell_type": "markdown",
   "metadata": {
    "cell_id": "766c7c65225e447f873438b05e2effbe",
    "deepnote_cell_type": "markdown"
   },
   "source": [
    "## Review of `make_regression`"
   ]
  },
  {
   "cell_type": "markdown",
   "metadata": {
    "cell_id": "fdd1619ce6b34cffadbc51d99a523637",
    "deepnote_cell_type": "markdown"
   },
   "source": [
    "* Generate artificial data for linear regression using the `make_regression` function.  Use `40` data points, use an intercept of `13`, and use `10` for the standard deviation of the random noise.  Use the same number of input variables as we used for the taxis and spotify datasets above."
   ]
  },
  {
   "cell_type": "code",
   "execution_count": 2,
   "metadata": {
    "cell_id": "4d63ca1949234139ae5cba160fa9a2ac",
    "deepnote_cell_type": "code",
    "deepnote_to_be_reexecuted": false,
    "execution_millis": 6,
    "execution_start": 1683317529307,
    "source_hash": "dbf5f19e"
   },
   "outputs": [],
   "source": [
    "from sklearn.datasets import make_regression"
   ]
  },
  {
   "cell_type": "markdown",
   "metadata": {},
   "source": [
    "The outputs here might look more familiar now that we've worked with `reg.fit`.  These are outputs suitable for input to that method, as in `reg.fit(X, y)`."
   ]
  },
  {
   "cell_type": "code",
   "execution_count": 3,
   "metadata": {
    "cell_id": "ab446ee5e8a0437787537acc7012cf56",
    "deepnote_cell_type": "code",
    "deepnote_to_be_reexecuted": false,
    "execution_millis": 16,
    "execution_start": 1683317739815,
    "source_hash": "18fe68f6"
   },
   "outputs": [],
   "source": [
    "X, y = make_regression(n_samples=40, n_features=3, bias=13, noise=10)"
   ]
  },
  {
   "cell_type": "markdown",
   "metadata": {
    "cell_id": "52840618f4f04265a90165f46296b0c2",
    "deepnote_cell_type": "markdown"
   },
   "source": [
    "* Use a seed value (it can be any one) so that we get reproducible results."
   ]
  },
  {
   "cell_type": "code",
   "execution_count": 4,
   "metadata": {
    "cell_id": "c05870cc133a455c96c83c27ecfa8ce4",
    "deepnote_cell_type": "code",
    "deepnote_to_be_reexecuted": false,
    "execution_millis": 28,
    "execution_start": 1683317816248,
    "source_hash": "9b909316"
   },
   "outputs": [],
   "source": [
    "X, y = make_regression(n_samples=40, n_features=3, bias=13, noise=10, random_state=115)"
   ]
  },
  {
   "cell_type": "markdown",
   "metadata": {
    "cell_id": "8f652c60bf3d45a8bbdf198a5fc6baf9",
    "deepnote_cell_type": "markdown"
   },
   "source": [
    "* Have `make_regression` return the true underlying coefficients, but don't look at them yet."
   ]
  },
  {
   "cell_type": "markdown",
   "metadata": {},
   "source": [
    "Notice how we have a third variable name listed on the left-hand side now.  Because of the `coef=True` keyword argument, the `make_regression` function is now also returning the true underlying coefficients.  (There will be three coefficients, one for each input dimension.)"
   ]
  },
  {
   "cell_type": "code",
   "execution_count": 5,
   "metadata": {
    "cell_id": "aed9644d22194865a7e7a811a1bdb9a6",
    "deepnote_cell_type": "code",
    "deepnote_to_be_reexecuted": false,
    "execution_millis": 4,
    "execution_start": 1683317867581,
    "source_hash": "436c6d1b"
   },
   "outputs": [],
   "source": [
    "X, y, m = make_regression(n_samples=40, n_features=3, bias=13, noise=10, \n",
    "                        random_state=115, coef=True)"
   ]
  },
  {
   "cell_type": "markdown",
   "metadata": {},
   "source": [
    "Think of the following as the first five inputs."
   ]
  },
  {
   "cell_type": "code",
   "execution_count": 6,
   "metadata": {
    "cell_id": "701d82ba85684256833290fe17e1d4a7",
    "deepnote_cell_type": "code",
    "deepnote_to_be_reexecuted": false,
    "execution_millis": 2,
    "execution_start": 1683317886358,
    "source_hash": "aa4dcd2e"
   },
   "outputs": [
    {
     "data": {
      "text/plain": [
       "array([[-0.53515533, -0.28121394, -0.80984729],\n",
       "       [ 1.38414644,  0.58136215,  0.06912911],\n",
       "       [-0.52796488, -1.34934136,  0.90754619],\n",
       "       [-1.01723921, -0.08196661,  1.37644765],\n",
       "       [-1.68657788,  1.21986477,  1.56731099]])"
      ]
     },
     "execution_count": 6,
     "metadata": {},
     "output_type": "execute_result"
    }
   ],
   "source": [
    "X[:5]"
   ]
  },
  {
   "cell_type": "markdown",
   "metadata": {},
   "source": [
    "Think of the following as the first five outputs.\n",
    "\n",
    "Comment: In Math 2D, if you have three points on a plane (and they don't lie on a line), there is a simple formula for finding an equation for that plane.  There is no simple formula in this case though, because our points do not lie perfectly on a plane (because of the `noise=10` keyword argument we used).  (Another difference is that here we would be in four dimensions, three input dimensions plus one output dimension, but that is not an essential difference from the Math 2D situation, the essential difference is the random noise.)"
   ]
  },
  {
   "cell_type": "code",
   "execution_count": 7,
   "metadata": {
    "cell_id": "806699b34cd54ee6a89e3fce6fe2eee5",
    "deepnote_cell_type": "code",
    "deepnote_to_be_reexecuted": false,
    "execution_millis": 4,
    "execution_start": 1683317908752,
    "source_hash": "bd8abeca"
   },
   "outputs": [
    {
     "data": {
      "text/plain": [
       "array([-25.25702371,  51.80947884, -52.92271378, -10.69766744,\n",
       "        67.66279245])"
      ]
     },
     "execution_count": 7,
     "metadata": {},
     "output_type": "execute_result"
    }
   ],
   "source": [
    "y[:5]"
   ]
  },
  {
   "cell_type": "markdown",
   "metadata": {
    "cell_id": "c0d9e2b219a24bb3aaf98e5be5bd8a35",
    "deepnote_cell_type": "markdown"
   },
   "source": [
    "* Fit a linear model to the data using scikit-learn."
   ]
  },
  {
   "cell_type": "markdown",
   "metadata": {},
   "source": [
    "The further we go with scikit-learn in Math 10, the more familiar this workflow should look to you.\n",
    "\n",
    "Here we import the `LinearRegression` class."
   ]
  },
  {
   "cell_type": "code",
   "execution_count": 8,
   "metadata": {
    "cell_id": "01fe942c78c24340908408e573b4dcbd",
    "deepnote_cell_type": "code",
    "deepnote_to_be_reexecuted": false,
    "execution_millis": 8,
    "execution_start": 1683318099610,
    "source_hash": "9527aab5"
   },
   "outputs": [],
   "source": [
    "from sklearn.linear_model import LinearRegression"
   ]
  },
  {
   "cell_type": "markdown",
   "metadata": {},
   "source": [
    "Here we create an instance of that class.  (This is analogous to evaluating something like `pd.Series([\"A\", \"B\", \"C\"])`, which creates an instance of a pandas Series.)"
   ]
  },
  {
   "cell_type": "code",
   "execution_count": 9,
   "metadata": {
    "cell_id": "af32218ee5f04ac68f6c5c065fed5c23",
    "deepnote_cell_type": "code",
    "deepnote_to_be_reexecuted": false,
    "execution_millis": 7,
    "execution_start": 1683318133043,
    "source_hash": "fe3ed222"
   },
   "outputs": [],
   "source": [
    "# instantiate (make an instance)\n",
    "reg = LinearRegression()"
   ]
  },
  {
   "cell_type": "markdown",
   "metadata": {},
   "source": [
    "Here we fit the linear model to the data.\n",
    "\n",
    "This step is where all the impressive work by scikit-learn happens.  In this particular case, it takes our 40 sample points and calculates what is the linear equation that \"best\" fits the data.  (We'll talk more about what \"best\" means later in the course.)"
   ]
  },
  {
   "cell_type": "code",
   "execution_count": 10,
   "metadata": {
    "cell_id": "5b9e9f5ec9574d0ca3c3d5234a9cbd91",
    "deepnote_cell_type": "code",
    "deepnote_to_be_reexecuted": false,
    "execution_millis": 6,
    "execution_start": 1683318160308,
    "source_hash": "316ca3e7"
   },
   "outputs": [
    {
     "data": {
      "text/html": [
       "<style>#sk-container-id-1 {color: black;background-color: white;}#sk-container-id-1 pre{padding: 0;}#sk-container-id-1 div.sk-toggleable {background-color: white;}#sk-container-id-1 label.sk-toggleable__label {cursor: pointer;display: block;width: 100%;margin-bottom: 0;padding: 0.3em;box-sizing: border-box;text-align: center;}#sk-container-id-1 label.sk-toggleable__label-arrow:before {content: \"▸\";float: left;margin-right: 0.25em;color: #696969;}#sk-container-id-1 label.sk-toggleable__label-arrow:hover:before {color: black;}#sk-container-id-1 div.sk-estimator:hover label.sk-toggleable__label-arrow:before {color: black;}#sk-container-id-1 div.sk-toggleable__content {max-height: 0;max-width: 0;overflow: hidden;text-align: left;background-color: #f0f8ff;}#sk-container-id-1 div.sk-toggleable__content pre {margin: 0.2em;color: black;border-radius: 0.25em;background-color: #f0f8ff;}#sk-container-id-1 input.sk-toggleable__control:checked~div.sk-toggleable__content {max-height: 200px;max-width: 100%;overflow: auto;}#sk-container-id-1 input.sk-toggleable__control:checked~label.sk-toggleable__label-arrow:before {content: \"▾\";}#sk-container-id-1 div.sk-estimator input.sk-toggleable__control:checked~label.sk-toggleable__label {background-color: #d4ebff;}#sk-container-id-1 div.sk-label input.sk-toggleable__control:checked~label.sk-toggleable__label {background-color: #d4ebff;}#sk-container-id-1 input.sk-hidden--visually {border: 0;clip: rect(1px 1px 1px 1px);clip: rect(1px, 1px, 1px, 1px);height: 1px;margin: -1px;overflow: hidden;padding: 0;position: absolute;width: 1px;}#sk-container-id-1 div.sk-estimator {font-family: monospace;background-color: #f0f8ff;border: 1px dotted black;border-radius: 0.25em;box-sizing: border-box;margin-bottom: 0.5em;}#sk-container-id-1 div.sk-estimator:hover {background-color: #d4ebff;}#sk-container-id-1 div.sk-parallel-item::after {content: \"\";width: 100%;border-bottom: 1px solid gray;flex-grow: 1;}#sk-container-id-1 div.sk-label:hover label.sk-toggleable__label {background-color: #d4ebff;}#sk-container-id-1 div.sk-serial::before {content: \"\";position: absolute;border-left: 1px solid gray;box-sizing: border-box;top: 0;bottom: 0;left: 50%;z-index: 0;}#sk-container-id-1 div.sk-serial {display: flex;flex-direction: column;align-items: center;background-color: white;padding-right: 0.2em;padding-left: 0.2em;position: relative;}#sk-container-id-1 div.sk-item {position: relative;z-index: 1;}#sk-container-id-1 div.sk-parallel {display: flex;align-items: stretch;justify-content: center;background-color: white;position: relative;}#sk-container-id-1 div.sk-item::before, #sk-container-id-1 div.sk-parallel-item::before {content: \"\";position: absolute;border-left: 1px solid gray;box-sizing: border-box;top: 0;bottom: 0;left: 50%;z-index: -1;}#sk-container-id-1 div.sk-parallel-item {display: flex;flex-direction: column;z-index: 1;position: relative;background-color: white;}#sk-container-id-1 div.sk-parallel-item:first-child::after {align-self: flex-end;width: 50%;}#sk-container-id-1 div.sk-parallel-item:last-child::after {align-self: flex-start;width: 50%;}#sk-container-id-1 div.sk-parallel-item:only-child::after {width: 0;}#sk-container-id-1 div.sk-dashed-wrapped {border: 1px dashed gray;margin: 0 0.4em 0.5em 0.4em;box-sizing: border-box;padding-bottom: 0.4em;background-color: white;}#sk-container-id-1 div.sk-label label {font-family: monospace;font-weight: bold;display: inline-block;line-height: 1.2em;}#sk-container-id-1 div.sk-label-container {text-align: center;}#sk-container-id-1 div.sk-container {/* jupyter's `normalize.less` sets `[hidden] { display: none; }` but bootstrap.min.css set `[hidden] { display: none !important; }` so we also need the `!important` here to be able to override the default hidden behavior on the sphinx rendered scikit-learn.org. See: https://github.com/scikit-learn/scikit-learn/issues/21755 */display: inline-block !important;position: relative;}#sk-container-id-1 div.sk-text-repr-fallback {display: none;}</style><div id=\"sk-container-id-1\" class=\"sk-top-container\"><div class=\"sk-text-repr-fallback\"><pre>LinearRegression()</pre><b>In a Jupyter environment, please rerun this cell to show the HTML representation or trust the notebook. <br />On GitHub, the HTML representation is unable to render, please try loading this page with nbviewer.org.</b></div><div class=\"sk-container\" hidden><div class=\"sk-item\"><div class=\"sk-estimator sk-toggleable\"><input class=\"sk-toggleable__control sk-hidden--visually\" id=\"sk-estimator-id-1\" type=\"checkbox\" checked><label for=\"sk-estimator-id-1\" class=\"sk-toggleable__label sk-toggleable__label-arrow\">LinearRegression</label><div class=\"sk-toggleable__content\"><pre>LinearRegression()</pre></div></div></div></div></div>"
      ],
      "text/plain": [
       "LinearRegression()"
      ]
     },
     "execution_count": 10,
     "metadata": {},
     "output_type": "execute_result"
    }
   ],
   "source": [
    "# fit\n",
    "reg.fit(X, y)"
   ]
  },
  {
   "cell_type": "markdown",
   "metadata": {
    "cell_id": "e97ed28cd8454aa5add957de91de68cf",
    "deepnote_cell_type": "markdown"
   },
   "source": [
    "* How close was the fit intercept to the true intercept?"
   ]
  },
  {
   "cell_type": "markdown",
   "metadata": {},
   "source": [
    "Recall that we used `bias=13` above when we called `make_regression`.  That means we were using `13` as our true intercept.  Notice that scikit-learn got very close."
   ]
  },
  {
   "cell_type": "code",
   "execution_count": 13,
   "metadata": {
    "cell_id": "ba2478fa4a5c40b1b9c17529472b9147",
    "deepnote_cell_type": "code",
    "deepnote_to_be_reexecuted": false,
    "execution_millis": 4,
    "execution_start": 1683318335801,
    "source_hash": "1661cbe7"
   },
   "outputs": [
    {
     "data": {
      "text/plain": [
       "13.237035896366805"
      ]
     },
     "execution_count": 13,
     "metadata": {},
     "output_type": "execute_result"
    }
   ],
   "source": [
    "reg.intercept_"
   ]
  },
  {
   "cell_type": "markdown",
   "metadata": {
    "cell_id": "f912b77f33a04d68a5a9fbacbb91b63d",
    "deepnote_cell_type": "markdown"
   },
   "source": [
    "* How close are our fit coefficients to the true coefficients?"
   ]
  },
  {
   "cell_type": "markdown",
   "metadata": {},
   "source": [
    "Recall that we had `make_regression` output `m`, but we haven't looked at it yet.  Here we do look at the value of `m`.  It should make sense that it is length 3 (because we need one coefficient for each input dimension).  The particular values were just randomly chosen by the `make_regression` function (we did not specify them)."
   ]
  },
  {
   "cell_type": "code",
   "execution_count": 11,
   "metadata": {
    "cell_id": "91f7f072a2e54033be99466a123820f3",
    "deepnote_cell_type": "code",
    "deepnote_to_be_reexecuted": false,
    "execution_start": 1683318202048,
    "source_hash": "cb73fd5b"
   },
   "outputs": [
    {
     "data": {
      "text/plain": [
       "array([ 9.10646209, 56.93379031,  0.68407512])"
      ]
     },
     "execution_count": 11,
     "metadata": {},
     "output_type": "execute_result"
    }
   ],
   "source": [
    "m"
   ]
  },
  {
   "cell_type": "markdown",
   "metadata": {},
   "source": [
    "Here are coefficients found when we called `reg.fit`.  They do not perfectly match the true coefficients, but they are pretty close."
   ]
  },
  {
   "cell_type": "code",
   "execution_count": 12,
   "metadata": {
    "cell_id": "bba654ee24f64f6cae02fa4d62e2aaa2",
    "deepnote_cell_type": "code",
    "deepnote_to_be_reexecuted": false,
    "execution_millis": 5,
    "execution_start": 1683318212687,
    "source_hash": "c0bd65f9"
   },
   "outputs": [
    {
     "data": {
      "text/plain": [
       "array([ 7.84284085, 58.74257281,  0.15682329])"
      ]
     },
     "execution_count": 12,
     "metadata": {},
     "output_type": "execute_result"
    }
   ],
   "source": [
    "reg.coef_"
   ]
  },
  {
   "cell_type": "markdown",
   "metadata": {
    "cell_id": "02dc294bc70b48e083bc677877eb0170",
    "deepnote_cell_type": "markdown"
   },
   "source": [
    "## Ten minutes to work on Worksheets\n",
    "\n",
    "Yufei and Hanson are here to help answer questions.\n",
    "\n",
    "(Already done?  Redo our taxis linear regression example, but rescale the input features so they have mean `0` and standard deviation `1` before calling `fit`.  How do the coefficients change?  The relative magnitudes of the coefficients are more meaningful if we perform this rescaling.)"
   ]
  },
  {
   "cell_type": "markdown",
   "metadata": {
    "cell_id": "b75cda5fea3a40f6937d3764ff428c3e",
    "deepnote_cell_type": "markdown"
   },
   "source": [
    "## Polynomial regression\n",
    "\n",
    "If you can perform linear regression with multiple input features, you can also perform polynomial regression."
   ]
  },
  {
   "cell_type": "markdown",
   "metadata": {
    "cell_id": "51acb7539edb499d88da7b662d251d3b",
    "deepnote_cell_type": "markdown"
   },
   "source": [
    "* Load the mpg dataset from Seaborn and drop missing values.  Name the result `df`."
   ]
  },
  {
   "cell_type": "code",
   "execution_count": 14,
   "metadata": {
    "cell_id": "0069de172d5c439c886c9c7417b50d99",
    "deepnote_cell_type": "code",
    "deepnote_to_be_reexecuted": false,
    "execution_millis": 371,
    "execution_start": 1683318900067,
    "source_hash": "2ca6c11f"
   },
   "outputs": [],
   "source": [
    "df = sns.load_dataset(\"mpg\").dropna(axis=0).copy()"
   ]
  },
  {
   "cell_type": "markdown",
   "metadata": {},
   "source": [
    "For future reference, notice how the final column in `df` is called `\"name\"`."
   ]
  },
  {
   "cell_type": "code",
   "execution_count": 16,
   "metadata": {
    "cell_id": "f9c60b73bfb0474597f57750fcb508e7",
    "deepnote_cell_type": "code",
    "deepnote_to_be_reexecuted": false,
    "execution_millis": 43,
    "execution_start": 1683319255310,
    "source_hash": "3a1ea484",
    "tags": [
     "output_scroll"
    ]
   },
   "outputs": [
    {
     "data": {
      "application/vnd.deepnote.dataframe.v3+json": {
       "column_count": 9,
       "columns": [
        {
         "dtype": "float64",
         "name": "mpg",
         "stats": {
          "histogram": [
           {
            "bin_end": 15.3,
            "bin_start": 15,
            "count": 1
           },
           {
            "bin_end": 15.6,
            "bin_start": 15.3,
            "count": 0
           },
           {
            "bin_end": 15.9,
            "bin_start": 15.6,
            "count": 0
           },
           {
            "bin_end": 16.2,
            "bin_start": 15.9,
            "count": 0
           },
           {
            "bin_end": 16.5,
            "bin_start": 16.2,
            "count": 0
           },
           {
            "bin_end": 16.8,
            "bin_start": 16.5,
            "count": 0
           },
           {
            "bin_end": 17.1,
            "bin_start": 16.8,
            "count": 0
           },
           {
            "bin_end": 17.4,
            "bin_start": 17.1,
            "count": 0
           },
           {
            "bin_end": 17.7,
            "bin_start": 17.4,
            "count": 0
           },
           {
            "bin_end": 18,
            "bin_start": 17.7,
            "count": 2
           }
          ],
          "max": "18.0",
          "min": "15.0",
          "nan_count": 0,
          "unique_count": 2
         }
        },
        {
         "dtype": "int64",
         "name": "cylinders",
         "stats": {
          "histogram": [
           {
            "bin_end": 7.6,
            "bin_start": 7.5,
            "count": 0
           },
           {
            "bin_end": 7.7,
            "bin_start": 7.6,
            "count": 0
           },
           {
            "bin_end": 7.8,
            "bin_start": 7.7,
            "count": 0
           },
           {
            "bin_end": 7.9,
            "bin_start": 7.8,
            "count": 0
           },
           {
            "bin_end": 8,
            "bin_start": 7.9,
            "count": 0
           },
           {
            "bin_end": 8.1,
            "bin_start": 8,
            "count": 3
           },
           {
            "bin_end": 8.2,
            "bin_start": 8.1,
            "count": 0
           },
           {
            "bin_end": 8.3,
            "bin_start": 8.2,
            "count": 0
           },
           {
            "bin_end": 8.4,
            "bin_start": 8.3,
            "count": 0
           },
           {
            "bin_end": 8.5,
            "bin_start": 8.4,
            "count": 0
           }
          ],
          "max": "8",
          "min": "8",
          "nan_count": 0,
          "unique_count": 1
         }
        },
        {
         "dtype": "float64",
         "name": "displacement",
         "stats": {
          "histogram": [
           {
            "bin_end": 311.3,
            "bin_start": 307,
            "count": 1
           },
           {
            "bin_end": 315.6,
            "bin_start": 311.3,
            "count": 0
           },
           {
            "bin_end": 319.9,
            "bin_start": 315.6,
            "count": 1
           },
           {
            "bin_end": 324.2,
            "bin_start": 319.9,
            "count": 0
           },
           {
            "bin_end": 328.5,
            "bin_start": 324.2,
            "count": 0
           },
           {
            "bin_end": 332.8,
            "bin_start": 328.5,
            "count": 0
           },
           {
            "bin_end": 337.1,
            "bin_start": 332.8,
            "count": 0
           },
           {
            "bin_end": 341.4,
            "bin_start": 337.1,
            "count": 0
           },
           {
            "bin_end": 345.7,
            "bin_start": 341.4,
            "count": 0
           },
           {
            "bin_end": 350,
            "bin_start": 345.7,
            "count": 1
           }
          ],
          "max": "350.0",
          "min": "307.0",
          "nan_count": 0,
          "unique_count": 3
         }
        },
        {
         "dtype": "float64",
         "name": "horsepower",
         "stats": {
          "histogram": [
           {
            "bin_end": 133.5,
            "bin_start": 130,
            "count": 1
           },
           {
            "bin_end": 137,
            "bin_start": 133.5,
            "count": 0
           },
           {
            "bin_end": 140.5,
            "bin_start": 137,
            "count": 0
           },
           {
            "bin_end": 144,
            "bin_start": 140.5,
            "count": 0
           },
           {
            "bin_end": 147.5,
            "bin_start": 144,
            "count": 0
           },
           {
            "bin_end": 151,
            "bin_start": 147.5,
            "count": 1
           },
           {
            "bin_end": 154.5,
            "bin_start": 151,
            "count": 0
           },
           {
            "bin_end": 158,
            "bin_start": 154.5,
            "count": 0
           },
           {
            "bin_end": 161.5,
            "bin_start": 158,
            "count": 0
           },
           {
            "bin_end": 165,
            "bin_start": 161.5,
            "count": 1
           }
          ],
          "max": "165.0",
          "min": "130.0",
          "nan_count": 0,
          "unique_count": 3
         }
        },
        {
         "dtype": "int64",
         "name": "weight",
         "stats": {
          "histogram": [
           {
            "bin_end": 3461.7,
            "bin_start": 3436,
            "count": 1
           },
           {
            "bin_end": 3487.4,
            "bin_start": 3461.7,
            "count": 0
           },
           {
            "bin_end": 3513.1,
            "bin_start": 3487.4,
            "count": 1
           },
           {
            "bin_end": 3538.8,
            "bin_start": 3513.1,
            "count": 0
           },
           {
            "bin_end": 3564.5,
            "bin_start": 3538.8,
            "count": 0
           },
           {
            "bin_end": 3590.2,
            "bin_start": 3564.5,
            "count": 0
           },
           {
            "bin_end": 3615.9,
            "bin_start": 3590.2,
            "count": 0
           },
           {
            "bin_end": 3641.6,
            "bin_start": 3615.9,
            "count": 0
           },
           {
            "bin_end": 3667.3,
            "bin_start": 3641.6,
            "count": 0
           },
           {
            "bin_end": 3693,
            "bin_start": 3667.3,
            "count": 1
           }
          ],
          "max": "3693",
          "min": "3436",
          "nan_count": 0,
          "unique_count": 3
         }
        },
        {
         "dtype": "float64",
         "name": "acceleration",
         "stats": {
          "histogram": [
           {
            "bin_end": 11.1,
            "bin_start": 11,
            "count": 1
           },
           {
            "bin_end": 11.2,
            "bin_start": 11.1,
            "count": 0
           },
           {
            "bin_end": 11.3,
            "bin_start": 11.2,
            "count": 0
           },
           {
            "bin_end": 11.4,
            "bin_start": 11.3,
            "count": 0
           },
           {
            "bin_end": 11.5,
            "bin_start": 11.4,
            "count": 0
           },
           {
            "bin_end": 11.6,
            "bin_start": 11.5,
            "count": 1
           },
           {
            "bin_end": 11.7,
            "bin_start": 11.6,
            "count": 0
           },
           {
            "bin_end": 11.8,
            "bin_start": 11.7,
            "count": 0
           },
           {
            "bin_end": 11.9,
            "bin_start": 11.8,
            "count": 0
           },
           {
            "bin_end": 12,
            "bin_start": 11.9,
            "count": 1
           }
          ],
          "max": "12.0",
          "min": "11.0",
          "nan_count": 0,
          "unique_count": 3
         }
        },
        {
         "dtype": "int64",
         "name": "model_year",
         "stats": {
          "histogram": [
           {
            "bin_end": 69.6,
            "bin_start": 69.5,
            "count": 0
           },
           {
            "bin_end": 69.7,
            "bin_start": 69.6,
            "count": 0
           },
           {
            "bin_end": 69.8,
            "bin_start": 69.7,
            "count": 0
           },
           {
            "bin_end": 69.9,
            "bin_start": 69.8,
            "count": 0
           },
           {
            "bin_end": 70,
            "bin_start": 69.9,
            "count": 0
           },
           {
            "bin_end": 70.1,
            "bin_start": 70,
            "count": 3
           },
           {
            "bin_end": 70.2,
            "bin_start": 70.1,
            "count": 0
           },
           {
            "bin_end": 70.3,
            "bin_start": 70.2,
            "count": 0
           },
           {
            "bin_end": 70.4,
            "bin_start": 70.3,
            "count": 0
           },
           {
            "bin_end": 70.5,
            "bin_start": 70.4,
            "count": 0
           }
          ],
          "max": "70",
          "min": "70",
          "nan_count": 0,
          "unique_count": 1
         }
        },
        {
         "dtype": "object",
         "name": "origin",
         "stats": {
          "categories": [
           {
            "count": 3,
            "name": "usa"
           }
          ],
          "nan_count": 0,
          "unique_count": 1
         }
        },
        {
         "dtype": "object",
         "name": "name",
         "stats": {
          "categories": [
           {
            "count": 1,
            "name": "chevrolet chevelle malibu"
           },
           {
            "count": 1,
            "name": "buick skylark 320"
           },
           {
            "count": 1,
            "name": "plymouth satellite"
           }
          ],
          "nan_count": 0,
          "unique_count": 3
         }
        },
        {
         "dtype": "int64",
         "name": "_deepnote_index_column"
        }
       ],
       "row_count": 3,
       "rows": [
        {
         "_deepnote_index_column": "0",
         "acceleration": "12.0",
         "cylinders": "8",
         "displacement": "307.0",
         "horsepower": "130.0",
         "model_year": "70",
         "mpg": "18.0",
         "name": "chevrolet chevelle malibu",
         "origin": "usa",
         "weight": "3504"
        },
        {
         "_deepnote_index_column": "1",
         "acceleration": "11.5",
         "cylinders": "8",
         "displacement": "350.0",
         "horsepower": "165.0",
         "model_year": "70",
         "mpg": "15.0",
         "name": "buick skylark 320",
         "origin": "usa",
         "weight": "3693"
        },
        {
         "_deepnote_index_column": "2",
         "acceleration": "11.0",
         "cylinders": "8",
         "displacement": "318.0",
         "horsepower": "150.0",
         "model_year": "70",
         "mpg": "18.0",
         "name": "plymouth satellite",
         "origin": "usa",
         "weight": "3436"
        }
       ]
      },
      "text/html": [
       "<div>\n",
       "<style scoped>\n",
       "    .dataframe tbody tr th:only-of-type {\n",
       "        vertical-align: middle;\n",
       "    }\n",
       "\n",
       "    .dataframe tbody tr th {\n",
       "        vertical-align: top;\n",
       "    }\n",
       "\n",
       "    .dataframe thead th {\n",
       "        text-align: right;\n",
       "    }\n",
       "</style>\n",
       "<table border=\"1\" class=\"dataframe\">\n",
       "  <thead>\n",
       "    <tr style=\"text-align: right;\">\n",
       "      <th></th>\n",
       "      <th>mpg</th>\n",
       "      <th>cylinders</th>\n",
       "      <th>displacement</th>\n",
       "      <th>horsepower</th>\n",
       "      <th>weight</th>\n",
       "      <th>acceleration</th>\n",
       "      <th>model_year</th>\n",
       "      <th>origin</th>\n",
       "      <th>name</th>\n",
       "    </tr>\n",
       "  </thead>\n",
       "  <tbody>\n",
       "    <tr>\n",
       "      <th>0</th>\n",
       "      <td>18.0</td>\n",
       "      <td>8</td>\n",
       "      <td>307.0</td>\n",
       "      <td>130.0</td>\n",
       "      <td>3504</td>\n",
       "      <td>12.0</td>\n",
       "      <td>70</td>\n",
       "      <td>usa</td>\n",
       "      <td>chevrolet chevelle malibu</td>\n",
       "    </tr>\n",
       "    <tr>\n",
       "      <th>1</th>\n",
       "      <td>15.0</td>\n",
       "      <td>8</td>\n",
       "      <td>350.0</td>\n",
       "      <td>165.0</td>\n",
       "      <td>3693</td>\n",
       "      <td>11.5</td>\n",
       "      <td>70</td>\n",
       "      <td>usa</td>\n",
       "      <td>buick skylark 320</td>\n",
       "    </tr>\n",
       "    <tr>\n",
       "      <th>2</th>\n",
       "      <td>18.0</td>\n",
       "      <td>8</td>\n",
       "      <td>318.0</td>\n",
       "      <td>150.0</td>\n",
       "      <td>3436</td>\n",
       "      <td>11.0</td>\n",
       "      <td>70</td>\n",
       "      <td>usa</td>\n",
       "      <td>plymouth satellite</td>\n",
       "    </tr>\n",
       "  </tbody>\n",
       "</table>\n",
       "</div>"
      ],
      "text/plain": [
       "    mpg  cylinders  displacement  horsepower  weight  acceleration  \\\n",
       "0  18.0          8         307.0       130.0    3504          12.0   \n",
       "1  15.0          8         350.0       165.0    3693          11.5   \n",
       "2  18.0          8         318.0       150.0    3436          11.0   \n",
       "\n",
       "   model_year origin                       name  \n",
       "0          70    usa  chevrolet chevelle malibu  \n",
       "1          70    usa          buick skylark 320  \n",
       "2          70    usa         plymouth satellite  "
      ]
     },
     "execution_count": 16,
     "metadata": {},
     "output_type": "execute_result"
    }
   ],
   "source": [
    "df.head(3)"
   ]
  },
  {
   "cell_type": "markdown",
   "metadata": {
    "cell_id": "8c6f6715fba1409399a77c48a44f88b4",
    "deepnote_cell_type": "markdown"
   },
   "source": [
    "* Find a degree 3 polynomial to model \"mpg\" as a function of \"horsepower\".\n",
    "\n",
    "(Warning 1.  These coefficients are not as interpretable as they are for linear regression.  Warning 2.  We can automate some of the following steps using a scikit-learn class called `PolynomialFeatures`.)"
   ]
  },
  {
   "cell_type": "markdown",
   "metadata": {},
   "source": [
    "Here are the degrees we want to allow.  You can think of this like the list `[1, 2, 3]`, but it is not a list, it is a Python `range` object.  The nice thing about writing it this way is, if you later want to use degree `6`, for example, you can just change the `4` to a `7` in the following code, and I believe everything else below can remain unchanged."
   ]
  },
  {
   "cell_type": "code",
   "execution_count": 15,
   "metadata": {
    "cell_id": "d67a34563edc4199ac02a3c5258550b1",
    "deepnote_cell_type": "code",
    "deepnote_to_be_reexecuted": false,
    "execution_millis": 2,
    "execution_start": 1683319134778,
    "source_hash": "190af3a7"
   },
   "outputs": [],
   "source": [
    "# degrees we want\n",
    "degs = range(1,4)"
   ]
  },
  {
   "cell_type": "markdown",
   "metadata": {},
   "source": [
    "Here we add a new column to the DataFrame for each desired power of horsepower.  It might be a little inefficient to for example now have the \"horsepower\" column duplicated in the dataset (with the duplicate called `\"h1\"`), but this dataset is small enough that it doesn't matter."
   ]
  },
  {
   "cell_type": "code",
   "execution_count": 17,
   "metadata": {
    "cell_id": "8899eb18522c46c2931a6e2464a6ac30",
    "deepnote_cell_type": "code",
    "deepnote_to_be_reexecuted": false,
    "execution_millis": 6,
    "execution_start": 1683319313140,
    "source_hash": "45cb8291"
   },
   "outputs": [],
   "source": [
    "for d in degs:\n",
    "    df[f\"h{d}\"] = df[\"horsepower\"]**d"
   ]
  },
  {
   "cell_type": "markdown",
   "metadata": {},
   "source": [
    "Notice how the `\"name\"` column is no longer the final column.  Also notice how the `\"h2\"` column is the square of the `\"h1\"` column, and the `\"h3\"` column is the cube of the `\"h1\"` column.  Also notice how the `\"h1\"` column is identical to the `\"horsepower\"` column, just because `df[\"horsepower\"]**1` is the same as `df[\"horsepower\"]`."
   ]
  },
  {
   "cell_type": "code",
   "execution_count": 18,
   "metadata": {
    "cell_id": "6c3a6f2fc99a4caa92b0387eb2e39405",
    "deepnote_cell_type": "code",
    "deepnote_to_be_reexecuted": false,
    "execution_millis": 27,
    "execution_start": 1683319321216,
    "source_hash": "3a1ea484"
   },
   "outputs": [
    {
     "data": {
      "application/vnd.deepnote.dataframe.v3+json": {
       "column_count": 12,
       "columns": [
        {
         "dtype": "float64",
         "name": "mpg",
         "stats": {
          "histogram": [
           {
            "bin_end": 15.3,
            "bin_start": 15,
            "count": 1
           },
           {
            "bin_end": 15.6,
            "bin_start": 15.3,
            "count": 0
           },
           {
            "bin_end": 15.9,
            "bin_start": 15.6,
            "count": 0
           },
           {
            "bin_end": 16.2,
            "bin_start": 15.9,
            "count": 0
           },
           {
            "bin_end": 16.5,
            "bin_start": 16.2,
            "count": 0
           },
           {
            "bin_end": 16.8,
            "bin_start": 16.5,
            "count": 0
           },
           {
            "bin_end": 17.1,
            "bin_start": 16.8,
            "count": 0
           },
           {
            "bin_end": 17.4,
            "bin_start": 17.1,
            "count": 0
           },
           {
            "bin_end": 17.7,
            "bin_start": 17.4,
            "count": 0
           },
           {
            "bin_end": 18,
            "bin_start": 17.7,
            "count": 2
           }
          ],
          "max": "18.0",
          "min": "15.0",
          "nan_count": 0,
          "unique_count": 2
         }
        },
        {
         "dtype": "int64",
         "name": "cylinders",
         "stats": {
          "histogram": [
           {
            "bin_end": 7.6,
            "bin_start": 7.5,
            "count": 0
           },
           {
            "bin_end": 7.7,
            "bin_start": 7.6,
            "count": 0
           },
           {
            "bin_end": 7.8,
            "bin_start": 7.7,
            "count": 0
           },
           {
            "bin_end": 7.9,
            "bin_start": 7.8,
            "count": 0
           },
           {
            "bin_end": 8,
            "bin_start": 7.9,
            "count": 0
           },
           {
            "bin_end": 8.1,
            "bin_start": 8,
            "count": 3
           },
           {
            "bin_end": 8.2,
            "bin_start": 8.1,
            "count": 0
           },
           {
            "bin_end": 8.3,
            "bin_start": 8.2,
            "count": 0
           },
           {
            "bin_end": 8.4,
            "bin_start": 8.3,
            "count": 0
           },
           {
            "bin_end": 8.5,
            "bin_start": 8.4,
            "count": 0
           }
          ],
          "max": "8",
          "min": "8",
          "nan_count": 0,
          "unique_count": 1
         }
        },
        {
         "dtype": "float64",
         "name": "displacement",
         "stats": {
          "histogram": [
           {
            "bin_end": 311.3,
            "bin_start": 307,
            "count": 1
           },
           {
            "bin_end": 315.6,
            "bin_start": 311.3,
            "count": 0
           },
           {
            "bin_end": 319.9,
            "bin_start": 315.6,
            "count": 1
           },
           {
            "bin_end": 324.2,
            "bin_start": 319.9,
            "count": 0
           },
           {
            "bin_end": 328.5,
            "bin_start": 324.2,
            "count": 0
           },
           {
            "bin_end": 332.8,
            "bin_start": 328.5,
            "count": 0
           },
           {
            "bin_end": 337.1,
            "bin_start": 332.8,
            "count": 0
           },
           {
            "bin_end": 341.4,
            "bin_start": 337.1,
            "count": 0
           },
           {
            "bin_end": 345.7,
            "bin_start": 341.4,
            "count": 0
           },
           {
            "bin_end": 350,
            "bin_start": 345.7,
            "count": 1
           }
          ],
          "max": "350.0",
          "min": "307.0",
          "nan_count": 0,
          "unique_count": 3
         }
        },
        {
         "dtype": "float64",
         "name": "horsepower",
         "stats": {
          "histogram": [
           {
            "bin_end": 133.5,
            "bin_start": 130,
            "count": 1
           },
           {
            "bin_end": 137,
            "bin_start": 133.5,
            "count": 0
           },
           {
            "bin_end": 140.5,
            "bin_start": 137,
            "count": 0
           },
           {
            "bin_end": 144,
            "bin_start": 140.5,
            "count": 0
           },
           {
            "bin_end": 147.5,
            "bin_start": 144,
            "count": 0
           },
           {
            "bin_end": 151,
            "bin_start": 147.5,
            "count": 1
           },
           {
            "bin_end": 154.5,
            "bin_start": 151,
            "count": 0
           },
           {
            "bin_end": 158,
            "bin_start": 154.5,
            "count": 0
           },
           {
            "bin_end": 161.5,
            "bin_start": 158,
            "count": 0
           },
           {
            "bin_end": 165,
            "bin_start": 161.5,
            "count": 1
           }
          ],
          "max": "165.0",
          "min": "130.0",
          "nan_count": 0,
          "unique_count": 3
         }
        },
        {
         "dtype": "int64",
         "name": "weight",
         "stats": {
          "histogram": [
           {
            "bin_end": 3461.7,
            "bin_start": 3436,
            "count": 1
           },
           {
            "bin_end": 3487.4,
            "bin_start": 3461.7,
            "count": 0
           },
           {
            "bin_end": 3513.1,
            "bin_start": 3487.4,
            "count": 1
           },
           {
            "bin_end": 3538.8,
            "bin_start": 3513.1,
            "count": 0
           },
           {
            "bin_end": 3564.5,
            "bin_start": 3538.8,
            "count": 0
           },
           {
            "bin_end": 3590.2,
            "bin_start": 3564.5,
            "count": 0
           },
           {
            "bin_end": 3615.9,
            "bin_start": 3590.2,
            "count": 0
           },
           {
            "bin_end": 3641.6,
            "bin_start": 3615.9,
            "count": 0
           },
           {
            "bin_end": 3667.3,
            "bin_start": 3641.6,
            "count": 0
           },
           {
            "bin_end": 3693,
            "bin_start": 3667.3,
            "count": 1
           }
          ],
          "max": "3693",
          "min": "3436",
          "nan_count": 0,
          "unique_count": 3
         }
        },
        {
         "dtype": "float64",
         "name": "acceleration",
         "stats": {
          "histogram": [
           {
            "bin_end": 11.1,
            "bin_start": 11,
            "count": 1
           },
           {
            "bin_end": 11.2,
            "bin_start": 11.1,
            "count": 0
           },
           {
            "bin_end": 11.3,
            "bin_start": 11.2,
            "count": 0
           },
           {
            "bin_end": 11.4,
            "bin_start": 11.3,
            "count": 0
           },
           {
            "bin_end": 11.5,
            "bin_start": 11.4,
            "count": 0
           },
           {
            "bin_end": 11.6,
            "bin_start": 11.5,
            "count": 1
           },
           {
            "bin_end": 11.7,
            "bin_start": 11.6,
            "count": 0
           },
           {
            "bin_end": 11.8,
            "bin_start": 11.7,
            "count": 0
           },
           {
            "bin_end": 11.9,
            "bin_start": 11.8,
            "count": 0
           },
           {
            "bin_end": 12,
            "bin_start": 11.9,
            "count": 1
           }
          ],
          "max": "12.0",
          "min": "11.0",
          "nan_count": 0,
          "unique_count": 3
         }
        },
        {
         "dtype": "int64",
         "name": "model_year",
         "stats": {
          "histogram": [
           {
            "bin_end": 69.6,
            "bin_start": 69.5,
            "count": 0
           },
           {
            "bin_end": 69.7,
            "bin_start": 69.6,
            "count": 0
           },
           {
            "bin_end": 69.8,
            "bin_start": 69.7,
            "count": 0
           },
           {
            "bin_end": 69.9,
            "bin_start": 69.8,
            "count": 0
           },
           {
            "bin_end": 70,
            "bin_start": 69.9,
            "count": 0
           },
           {
            "bin_end": 70.1,
            "bin_start": 70,
            "count": 3
           },
           {
            "bin_end": 70.2,
            "bin_start": 70.1,
            "count": 0
           },
           {
            "bin_end": 70.3,
            "bin_start": 70.2,
            "count": 0
           },
           {
            "bin_end": 70.4,
            "bin_start": 70.3,
            "count": 0
           },
           {
            "bin_end": 70.5,
            "bin_start": 70.4,
            "count": 0
           }
          ],
          "max": "70",
          "min": "70",
          "nan_count": 0,
          "unique_count": 1
         }
        },
        {
         "dtype": "object",
         "name": "origin",
         "stats": {
          "categories": [
           {
            "count": 3,
            "name": "usa"
           }
          ],
          "nan_count": 0,
          "unique_count": 1
         }
        },
        {
         "dtype": "object",
         "name": "name",
         "stats": {
          "categories": [
           {
            "count": 1,
            "name": "chevrolet chevelle malibu"
           },
           {
            "count": 1,
            "name": "buick skylark 320"
           },
           {
            "count": 1,
            "name": "plymouth satellite"
           }
          ],
          "nan_count": 0,
          "unique_count": 3
         }
        },
        {
         "dtype": "float64",
         "name": "h1",
         "stats": {
          "histogram": [
           {
            "bin_end": 133.5,
            "bin_start": 130,
            "count": 1
           },
           {
            "bin_end": 137,
            "bin_start": 133.5,
            "count": 0
           },
           {
            "bin_end": 140.5,
            "bin_start": 137,
            "count": 0
           },
           {
            "bin_end": 144,
            "bin_start": 140.5,
            "count": 0
           },
           {
            "bin_end": 147.5,
            "bin_start": 144,
            "count": 0
           },
           {
            "bin_end": 151,
            "bin_start": 147.5,
            "count": 1
           },
           {
            "bin_end": 154.5,
            "bin_start": 151,
            "count": 0
           },
           {
            "bin_end": 158,
            "bin_start": 154.5,
            "count": 0
           },
           {
            "bin_end": 161.5,
            "bin_start": 158,
            "count": 0
           },
           {
            "bin_end": 165,
            "bin_start": 161.5,
            "count": 1
           }
          ],
          "max": "165.0",
          "min": "130.0",
          "nan_count": 0,
          "unique_count": 3
         }
        },
        {
         "dtype": "float64",
         "name": "h2",
         "stats": {
          "histogram": [
           {
            "bin_end": 17932.5,
            "bin_start": 16900,
            "count": 1
           },
           {
            "bin_end": 18965,
            "bin_start": 17932.5,
            "count": 0
           },
           {
            "bin_end": 19997.5,
            "bin_start": 18965,
            "count": 0
           },
           {
            "bin_end": 21030,
            "bin_start": 19997.5,
            "count": 0
           },
           {
            "bin_end": 22062.5,
            "bin_start": 21030,
            "count": 0
           },
           {
            "bin_end": 23095,
            "bin_start": 22062.5,
            "count": 1
           },
           {
            "bin_end": 24127.5,
            "bin_start": 23095,
            "count": 0
           },
           {
            "bin_end": 25160,
            "bin_start": 24127.5,
            "count": 0
           },
           {
            "bin_end": 26192.5,
            "bin_start": 25160,
            "count": 0
           },
           {
            "bin_end": 27225,
            "bin_start": 26192.5,
            "count": 1
           }
          ],
          "max": "27225.0",
          "min": "16900.0",
          "nan_count": 0,
          "unique_count": 3
         }
        },
        {
         "dtype": "float64",
         "name": "h3",
         "stats": {
          "histogram": [
           {
            "bin_end": 2426512.5,
            "bin_start": 2197000,
            "count": 1
           },
           {
            "bin_end": 2656025,
            "bin_start": 2426512.5,
            "count": 0
           },
           {
            "bin_end": 2885537.5,
            "bin_start": 2656025,
            "count": 0
           },
           {
            "bin_end": 3115050,
            "bin_start": 2885537.5,
            "count": 0
           },
           {
            "bin_end": 3344562.5,
            "bin_start": 3115050,
            "count": 0
           },
           {
            "bin_end": 3574075,
            "bin_start": 3344562.5,
            "count": 1
           },
           {
            "bin_end": 3803587.5,
            "bin_start": 3574075,
            "count": 0
           },
           {
            "bin_end": 4033100,
            "bin_start": 3803587.5,
            "count": 0
           },
           {
            "bin_end": 4262612.5,
            "bin_start": 4033100,
            "count": 0
           },
           {
            "bin_end": 4492125,
            "bin_start": 4262612.5,
            "count": 1
           }
          ],
          "max": "4492125.0",
          "min": "2197000.0",
          "nan_count": 0,
          "unique_count": 3
         }
        },
        {
         "dtype": "int64",
         "name": "_deepnote_index_column"
        }
       ],
       "row_count": 3,
       "rows": [
        {
         "_deepnote_index_column": "0",
         "acceleration": "12.0",
         "cylinders": "8",
         "displacement": "307.0",
         "h1": "130.0",
         "h2": "16900.0",
         "h3": "2197000.0",
         "horsepower": "130.0",
         "model_year": "70",
         "mpg": "18.0",
         "name": "chevrolet chevelle malibu",
         "origin": "usa",
         "weight": "3504"
        },
        {
         "_deepnote_index_column": "1",
         "acceleration": "11.5",
         "cylinders": "8",
         "displacement": "350.0",
         "h1": "165.0",
         "h2": "27225.0",
         "h3": "4492125.0",
         "horsepower": "165.0",
         "model_year": "70",
         "mpg": "15.0",
         "name": "buick skylark 320",
         "origin": "usa",
         "weight": "3693"
        },
        {
         "_deepnote_index_column": "2",
         "acceleration": "11.0",
         "cylinders": "8",
         "displacement": "318.0",
         "h1": "150.0",
         "h2": "22500.0",
         "h3": "3375000.0",
         "horsepower": "150.0",
         "model_year": "70",
         "mpg": "18.0",
         "name": "plymouth satellite",
         "origin": "usa",
         "weight": "3436"
        }
       ]
      },
      "text/html": [
       "<div>\n",
       "<style scoped>\n",
       "    .dataframe tbody tr th:only-of-type {\n",
       "        vertical-align: middle;\n",
       "    }\n",
       "\n",
       "    .dataframe tbody tr th {\n",
       "        vertical-align: top;\n",
       "    }\n",
       "\n",
       "    .dataframe thead th {\n",
       "        text-align: right;\n",
       "    }\n",
       "</style>\n",
       "<table border=\"1\" class=\"dataframe\">\n",
       "  <thead>\n",
       "    <tr style=\"text-align: right;\">\n",
       "      <th></th>\n",
       "      <th>mpg</th>\n",
       "      <th>cylinders</th>\n",
       "      <th>displacement</th>\n",
       "      <th>horsepower</th>\n",
       "      <th>weight</th>\n",
       "      <th>acceleration</th>\n",
       "      <th>model_year</th>\n",
       "      <th>origin</th>\n",
       "      <th>name</th>\n",
       "      <th>h1</th>\n",
       "      <th>h2</th>\n",
       "      <th>h3</th>\n",
       "    </tr>\n",
       "  </thead>\n",
       "  <tbody>\n",
       "    <tr>\n",
       "      <th>0</th>\n",
       "      <td>18.0</td>\n",
       "      <td>8</td>\n",
       "      <td>307.0</td>\n",
       "      <td>130.0</td>\n",
       "      <td>3504</td>\n",
       "      <td>12.0</td>\n",
       "      <td>70</td>\n",
       "      <td>usa</td>\n",
       "      <td>chevrolet chevelle malibu</td>\n",
       "      <td>130.0</td>\n",
       "      <td>16900.0</td>\n",
       "      <td>2197000.0</td>\n",
       "    </tr>\n",
       "    <tr>\n",
       "      <th>1</th>\n",
       "      <td>15.0</td>\n",
       "      <td>8</td>\n",
       "      <td>350.0</td>\n",
       "      <td>165.0</td>\n",
       "      <td>3693</td>\n",
       "      <td>11.5</td>\n",
       "      <td>70</td>\n",
       "      <td>usa</td>\n",
       "      <td>buick skylark 320</td>\n",
       "      <td>165.0</td>\n",
       "      <td>27225.0</td>\n",
       "      <td>4492125.0</td>\n",
       "    </tr>\n",
       "    <tr>\n",
       "      <th>2</th>\n",
       "      <td>18.0</td>\n",
       "      <td>8</td>\n",
       "      <td>318.0</td>\n",
       "      <td>150.0</td>\n",
       "      <td>3436</td>\n",
       "      <td>11.0</td>\n",
       "      <td>70</td>\n",
       "      <td>usa</td>\n",
       "      <td>plymouth satellite</td>\n",
       "      <td>150.0</td>\n",
       "      <td>22500.0</td>\n",
       "      <td>3375000.0</td>\n",
       "    </tr>\n",
       "  </tbody>\n",
       "</table>\n",
       "</div>"
      ],
      "text/plain": [
       "    mpg  cylinders  displacement  horsepower  weight  acceleration  \\\n",
       "0  18.0          8         307.0       130.0    3504          12.0   \n",
       "1  15.0          8         350.0       165.0    3693          11.5   \n",
       "2  18.0          8         318.0       150.0    3436          11.0   \n",
       "\n",
       "   model_year origin                       name     h1       h2         h3  \n",
       "0          70    usa  chevrolet chevelle malibu  130.0  16900.0  2197000.0  \n",
       "1          70    usa          buick skylark 320  165.0  27225.0  4492125.0  \n",
       "2          70    usa         plymouth satellite  150.0  22500.0  3375000.0  "
      ]
     },
     "execution_count": 18,
     "metadata": {},
     "output_type": "execute_result"
    }
   ],
   "source": [
    "df.head(3)"
   ]
  },
  {
   "cell_type": "markdown",
   "metadata": {},
   "source": [
    "We are now ready to perform polynomial regression.  We want to find coefficients for a model of the form $y \\approx m_3 x^3 + m_2 x^2 + m_1 x + b$, where `y` is the \"mpg\" value and where `x` is the \"horsepower\" value.  Notice that this is identical to finding coefficients for a model of the form $y \\approx m_3 h_3 + m_2 h_2 + m_1 h_1 + b$, which is exactly what we can do using linear regression.\n",
    "\n",
    "Important summary: if you can perform linear regression using multiple columns, then you can also perform polynomial regression.  Reason: simply include powers as new input columns, like what we are doing here."
   ]
  },
  {
   "cell_type": "code",
   "execution_count": 19,
   "metadata": {
    "cell_id": "8ac7846bf1384ee0a9a02b3b594f3102",
    "deepnote_cell_type": "code",
    "deepnote_to_be_reexecuted": false,
    "execution_millis": 2,
    "execution_start": 1683319403247,
    "source_hash": "ecb4fbb9"
   },
   "outputs": [],
   "source": [
    "reg2 = LinearRegression()"
   ]
  },
  {
   "cell_type": "markdown",
   "metadata": {},
   "source": [
    "Here is an important point that we haven't seen yet: the `reg2.coef_` attribute is not defined until after we call `reg2.fit`.  This should make sense: at this stage, we have not shown `reg2` any of the data, so how would it know what the coefficients might be?"
   ]
  },
  {
   "cell_type": "code",
   "execution_count": 20,
   "metadata": {
    "cell_id": "c8eea94ed3bb430ca13ffd699e12ff37",
    "deepnote_cell_type": "code",
    "deepnote_to_be_reexecuted": false,
    "execution_millis": 338,
    "execution_start": 1683319441547,
    "source_hash": "59aadfbd"
   },
   "outputs": [
    {
     "ename": "AttributeError",
     "evalue": "'LinearRegression' object has no attribute 'coef_'",
     "output_type": "error",
     "traceback": [
      "\u001b[0;31m---------------------------------------------------------------------------\u001b[0m",
      "\u001b[0;31mAttributeError\u001b[0m                            Traceback (most recent call last)",
      "Cell \u001b[0;32mIn [20], line 1\u001b[0m\n\u001b[0;32m----> 1\u001b[0m \u001b[43mreg2\u001b[49m\u001b[38;5;241;43m.\u001b[39;49m\u001b[43mcoef_\u001b[49m\n",
      "\u001b[0;31mAttributeError\u001b[0m: 'LinearRegression' object has no attribute 'coef_'"
     ]
    }
   ],
   "source": [
    "reg2.coef_"
   ]
  },
  {
   "cell_type": "markdown",
   "metadata": {},
   "source": [
    "Here are the columns we are going to use.  This will be a linear regression with three input variables."
   ]
  },
  {
   "cell_type": "code",
   "execution_count": 21,
   "metadata": {
    "cell_id": "8fe043213aea4b938c7259c22fef5004",
    "deepnote_cell_type": "code",
    "deepnote_to_be_reexecuted": false,
    "execution_millis": 5,
    "execution_start": 1683319494878,
    "source_hash": "fc7d717d"
   },
   "outputs": [
    {
     "data": {
      "text/plain": [
       "['h1', 'h2', 'h3']"
      ]
     },
     "execution_count": 21,
     "metadata": {},
     "output_type": "execute_result"
    }
   ],
   "source": [
    "pred_cols = [f\"h{d}\" for d in degs]\n",
    "pred_cols"
   ]
  },
  {
   "cell_type": "markdown",
   "metadata": {},
   "source": [
    "Reminder: here is how you get a sub-DataFrame using just certain columns.  (We don't need double square brackets here, because `pred_cols` is already a list.  The inner square brackets are usually to make a list.)"
   ]
  },
  {
   "cell_type": "code",
   "execution_count": 22,
   "metadata": {
    "cell_id": "9f4de4c7ea4846ed9fd463dad141f52a",
    "deepnote_cell_type": "code",
    "deepnote_to_be_reexecuted": false,
    "execution_millis": 46,
    "execution_start": 1683319543345,
    "source_hash": "d1f72ab4"
   },
   "outputs": [
    {
     "data": {
      "application/vnd.deepnote.dataframe.v3+json": {
       "column_count": 3,
       "columns": [
        {
         "dtype": "float64",
         "name": "h1",
         "stats": {
          "histogram": [
           {
            "bin_end": 64.4,
            "bin_start": 46,
            "count": 27
           },
           {
            "bin_end": 82.8,
            "bin_start": 64.4,
            "count": 95
           },
           {
            "bin_end": 101.19999999999999,
            "bin_start": 82.8,
            "count": 120
           },
           {
            "bin_end": 119.6,
            "bin_start": 101.19999999999999,
            "count": 44
           },
           {
            "bin_end": 138,
            "bin_start": 119.6,
            "count": 19
           },
           {
            "bin_end": 156.39999999999998,
            "bin_start": 138,
            "count": 47
           },
           {
            "bin_end": 174.79999999999998,
            "bin_start": 156.39999999999998,
            "count": 13
           },
           {
            "bin_end": 193.2,
            "bin_start": 174.79999999999998,
            "count": 14
           },
           {
            "bin_end": 211.6,
            "bin_start": 193.2,
            "count": 5
           },
           {
            "bin_end": 230,
            "bin_start": 211.6,
            "count": 8
           }
          ],
          "max": "230.0",
          "min": "46.0",
          "nan_count": 0,
          "unique_count": 93
         }
        },
        {
         "dtype": "float64",
         "name": "h2",
         "stats": {
          "histogram": [
           {
            "bin_end": 7194.4,
            "bin_start": 2116,
            "count": 132
           },
           {
            "bin_end": 12272.8,
            "bin_start": 7194.4,
            "count": 144
           },
           {
            "bin_end": 17351.199999999997,
            "bin_start": 12272.8,
            "count": 25
           },
           {
            "bin_end": 22429.6,
            "bin_start": 17351.199999999997,
            "count": 24
           },
           {
            "bin_end": 27508,
            "bin_start": 22429.6,
            "count": 34
           },
           {
            "bin_end": 32586.399999999998,
            "bin_start": 27508,
            "count": 16
           },
           {
            "bin_end": 37664.799999999996,
            "bin_start": 32586.399999999998,
            "count": 4
           },
           {
            "bin_end": 42743.2,
            "bin_start": 37664.799999999996,
            "count": 3
           },
           {
            "bin_end": 47821.6,
            "bin_start": 42743.2,
            "count": 5
           },
           {
            "bin_end": 52900,
            "bin_start": 47821.6,
            "count": 5
           }
          ],
          "max": "52900.0",
          "min": "2116.0",
          "nan_count": 0,
          "unique_count": 93
         }
        },
        {
         "dtype": "float64",
         "name": "h3",
         "stats": {
          "histogram": [
           {
            "bin_end": 1304302.4,
            "bin_start": 97336,
            "count": 258
           },
           {
            "bin_end": 2511268.8,
            "bin_start": 1304302.4,
            "count": 46
           },
           {
            "bin_end": 3718235.1999999997,
            "bin_start": 2511268.8,
            "count": 46
           },
           {
            "bin_end": 4925201.6,
            "bin_start": 3718235.1999999997,
            "count": 15
           },
           {
            "bin_end": 6132168,
            "bin_start": 4925201.6,
            "count": 10
           },
           {
            "bin_end": 7339134.399999999,
            "bin_start": 6132168,
            "count": 4
           },
           {
            "bin_end": 8546100.799999999,
            "bin_start": 7339134.399999999,
            "count": 3
           },
           {
            "bin_end": 9753067.2,
            "bin_start": 8546100.799999999,
            "count": 2
           },
           {
            "bin_end": 10960033.6,
            "bin_start": 9753067.2,
            "count": 4
           },
           {
            "bin_end": 12167000,
            "bin_start": 10960033.6,
            "count": 4
           }
          ],
          "max": "12167000.0",
          "min": "97336.0",
          "nan_count": 0,
          "unique_count": 93
         }
        },
        {
         "dtype": "int64",
         "name": "_deepnote_index_column"
        }
       ],
       "row_count": 392,
       "rows": [
        {
         "_deepnote_index_column": "0",
         "h1": "130.0",
         "h2": "16900.0",
         "h3": "2197000.0"
        },
        {
         "_deepnote_index_column": "1",
         "h1": "165.0",
         "h2": "27225.0",
         "h3": "4492125.0"
        },
        {
         "_deepnote_index_column": "2",
         "h1": "150.0",
         "h2": "22500.0",
         "h3": "3375000.0"
        },
        {
         "_deepnote_index_column": "3",
         "h1": "150.0",
         "h2": "22500.0",
         "h3": "3375000.0"
        },
        {
         "_deepnote_index_column": "4",
         "h1": "140.0",
         "h2": "19600.0",
         "h3": "2744000.0"
        },
        {
         "_deepnote_index_column": "5",
         "h1": "198.0",
         "h2": "39204.0",
         "h3": "7762392.0"
        },
        {
         "_deepnote_index_column": "6",
         "h1": "220.0",
         "h2": "48400.0",
         "h3": "10648000.0"
        },
        {
         "_deepnote_index_column": "7",
         "h1": "215.0",
         "h2": "46225.0",
         "h3": "9938375.0"
        },
        {
         "_deepnote_index_column": "8",
         "h1": "225.0",
         "h2": "50625.0",
         "h3": "11390625.0"
        },
        {
         "_deepnote_index_column": "9",
         "h1": "190.0",
         "h2": "36100.0",
         "h3": "6859000.0"
        }
       ]
      },
      "text/html": [
       "<div>\n",
       "<style scoped>\n",
       "    .dataframe tbody tr th:only-of-type {\n",
       "        vertical-align: middle;\n",
       "    }\n",
       "\n",
       "    .dataframe tbody tr th {\n",
       "        vertical-align: top;\n",
       "    }\n",
       "\n",
       "    .dataframe thead th {\n",
       "        text-align: right;\n",
       "    }\n",
       "</style>\n",
       "<table border=\"1\" class=\"dataframe\">\n",
       "  <thead>\n",
       "    <tr style=\"text-align: right;\">\n",
       "      <th></th>\n",
       "      <th>h1</th>\n",
       "      <th>h2</th>\n",
       "      <th>h3</th>\n",
       "    </tr>\n",
       "  </thead>\n",
       "  <tbody>\n",
       "    <tr>\n",
       "      <th>0</th>\n",
       "      <td>130.0</td>\n",
       "      <td>16900.0</td>\n",
       "      <td>2197000.0</td>\n",
       "    </tr>\n",
       "    <tr>\n",
       "      <th>1</th>\n",
       "      <td>165.0</td>\n",
       "      <td>27225.0</td>\n",
       "      <td>4492125.0</td>\n",
       "    </tr>\n",
       "    <tr>\n",
       "      <th>2</th>\n",
       "      <td>150.0</td>\n",
       "      <td>22500.0</td>\n",
       "      <td>3375000.0</td>\n",
       "    </tr>\n",
       "    <tr>\n",
       "      <th>3</th>\n",
       "      <td>150.0</td>\n",
       "      <td>22500.0</td>\n",
       "      <td>3375000.0</td>\n",
       "    </tr>\n",
       "    <tr>\n",
       "      <th>4</th>\n",
       "      <td>140.0</td>\n",
       "      <td>19600.0</td>\n",
       "      <td>2744000.0</td>\n",
       "    </tr>\n",
       "    <tr>\n",
       "      <th>...</th>\n",
       "      <td>...</td>\n",
       "      <td>...</td>\n",
       "      <td>...</td>\n",
       "    </tr>\n",
       "    <tr>\n",
       "      <th>393</th>\n",
       "      <td>86.0</td>\n",
       "      <td>7396.0</td>\n",
       "      <td>636056.0</td>\n",
       "    </tr>\n",
       "    <tr>\n",
       "      <th>394</th>\n",
       "      <td>52.0</td>\n",
       "      <td>2704.0</td>\n",
       "      <td>140608.0</td>\n",
       "    </tr>\n",
       "    <tr>\n",
       "      <th>395</th>\n",
       "      <td>84.0</td>\n",
       "      <td>7056.0</td>\n",
       "      <td>592704.0</td>\n",
       "    </tr>\n",
       "    <tr>\n",
       "      <th>396</th>\n",
       "      <td>79.0</td>\n",
       "      <td>6241.0</td>\n",
       "      <td>493039.0</td>\n",
       "    </tr>\n",
       "    <tr>\n",
       "      <th>397</th>\n",
       "      <td>82.0</td>\n",
       "      <td>6724.0</td>\n",
       "      <td>551368.0</td>\n",
       "    </tr>\n",
       "  </tbody>\n",
       "</table>\n",
       "<p>392 rows × 3 columns</p>\n",
       "</div>"
      ],
      "text/plain": [
       "        h1       h2         h3\n",
       "0    130.0  16900.0  2197000.0\n",
       "1    165.0  27225.0  4492125.0\n",
       "2    150.0  22500.0  3375000.0\n",
       "3    150.0  22500.0  3375000.0\n",
       "4    140.0  19600.0  2744000.0\n",
       "..     ...      ...        ...\n",
       "393   86.0   7396.0   636056.0\n",
       "394   52.0   2704.0   140608.0\n",
       "395   84.0   7056.0   592704.0\n",
       "396   79.0   6241.0   493039.0\n",
       "397   82.0   6724.0   551368.0\n",
       "\n",
       "[392 rows x 3 columns]"
      ]
     },
     "execution_count": 22,
     "metadata": {},
     "output_type": "execute_result"
    }
   ],
   "source": [
    "df[pred_cols]"
   ]
  },
  {
   "cell_type": "markdown",
   "metadata": {},
   "source": [
    "Now we fit `reg2` to the data.  Notice how we are using `df[pred_cols]` for our input and `df[\"mpg\"]` for our target output."
   ]
  },
  {
   "cell_type": "code",
   "execution_count": 23,
   "metadata": {
    "cell_id": "0c570b711226431d9880d55894e7e1d3",
    "deepnote_cell_type": "code",
    "deepnote_to_be_reexecuted": false,
    "execution_millis": 8,
    "execution_start": 1683319597069,
    "source_hash": "68c24184"
   },
   "outputs": [
    {
     "data": {
      "text/html": [
       "<style>#sk-container-id-2 {color: black;background-color: white;}#sk-container-id-2 pre{padding: 0;}#sk-container-id-2 div.sk-toggleable {background-color: white;}#sk-container-id-2 label.sk-toggleable__label {cursor: pointer;display: block;width: 100%;margin-bottom: 0;padding: 0.3em;box-sizing: border-box;text-align: center;}#sk-container-id-2 label.sk-toggleable__label-arrow:before {content: \"▸\";float: left;margin-right: 0.25em;color: #696969;}#sk-container-id-2 label.sk-toggleable__label-arrow:hover:before {color: black;}#sk-container-id-2 div.sk-estimator:hover label.sk-toggleable__label-arrow:before {color: black;}#sk-container-id-2 div.sk-toggleable__content {max-height: 0;max-width: 0;overflow: hidden;text-align: left;background-color: #f0f8ff;}#sk-container-id-2 div.sk-toggleable__content pre {margin: 0.2em;color: black;border-radius: 0.25em;background-color: #f0f8ff;}#sk-container-id-2 input.sk-toggleable__control:checked~div.sk-toggleable__content {max-height: 200px;max-width: 100%;overflow: auto;}#sk-container-id-2 input.sk-toggleable__control:checked~label.sk-toggleable__label-arrow:before {content: \"▾\";}#sk-container-id-2 div.sk-estimator input.sk-toggleable__control:checked~label.sk-toggleable__label {background-color: #d4ebff;}#sk-container-id-2 div.sk-label input.sk-toggleable__control:checked~label.sk-toggleable__label {background-color: #d4ebff;}#sk-container-id-2 input.sk-hidden--visually {border: 0;clip: rect(1px 1px 1px 1px);clip: rect(1px, 1px, 1px, 1px);height: 1px;margin: -1px;overflow: hidden;padding: 0;position: absolute;width: 1px;}#sk-container-id-2 div.sk-estimator {font-family: monospace;background-color: #f0f8ff;border: 1px dotted black;border-radius: 0.25em;box-sizing: border-box;margin-bottom: 0.5em;}#sk-container-id-2 div.sk-estimator:hover {background-color: #d4ebff;}#sk-container-id-2 div.sk-parallel-item::after {content: \"\";width: 100%;border-bottom: 1px solid gray;flex-grow: 1;}#sk-container-id-2 div.sk-label:hover label.sk-toggleable__label {background-color: #d4ebff;}#sk-container-id-2 div.sk-serial::before {content: \"\";position: absolute;border-left: 1px solid gray;box-sizing: border-box;top: 0;bottom: 0;left: 50%;z-index: 0;}#sk-container-id-2 div.sk-serial {display: flex;flex-direction: column;align-items: center;background-color: white;padding-right: 0.2em;padding-left: 0.2em;position: relative;}#sk-container-id-2 div.sk-item {position: relative;z-index: 1;}#sk-container-id-2 div.sk-parallel {display: flex;align-items: stretch;justify-content: center;background-color: white;position: relative;}#sk-container-id-2 div.sk-item::before, #sk-container-id-2 div.sk-parallel-item::before {content: \"\";position: absolute;border-left: 1px solid gray;box-sizing: border-box;top: 0;bottom: 0;left: 50%;z-index: -1;}#sk-container-id-2 div.sk-parallel-item {display: flex;flex-direction: column;z-index: 1;position: relative;background-color: white;}#sk-container-id-2 div.sk-parallel-item:first-child::after {align-self: flex-end;width: 50%;}#sk-container-id-2 div.sk-parallel-item:last-child::after {align-self: flex-start;width: 50%;}#sk-container-id-2 div.sk-parallel-item:only-child::after {width: 0;}#sk-container-id-2 div.sk-dashed-wrapped {border: 1px dashed gray;margin: 0 0.4em 0.5em 0.4em;box-sizing: border-box;padding-bottom: 0.4em;background-color: white;}#sk-container-id-2 div.sk-label label {font-family: monospace;font-weight: bold;display: inline-block;line-height: 1.2em;}#sk-container-id-2 div.sk-label-container {text-align: center;}#sk-container-id-2 div.sk-container {/* jupyter's `normalize.less` sets `[hidden] { display: none; }` but bootstrap.min.css set `[hidden] { display: none !important; }` so we also need the `!important` here to be able to override the default hidden behavior on the sphinx rendered scikit-learn.org. See: https://github.com/scikit-learn/scikit-learn/issues/21755 */display: inline-block !important;position: relative;}#sk-container-id-2 div.sk-text-repr-fallback {display: none;}</style><div id=\"sk-container-id-2\" class=\"sk-top-container\"><div class=\"sk-text-repr-fallback\"><pre>LinearRegression()</pre><b>In a Jupyter environment, please rerun this cell to show the HTML representation or trust the notebook. <br />On GitHub, the HTML representation is unable to render, please try loading this page with nbviewer.org.</b></div><div class=\"sk-container\" hidden><div class=\"sk-item\"><div class=\"sk-estimator sk-toggleable\"><input class=\"sk-toggleable__control sk-hidden--visually\" id=\"sk-estimator-id-2\" type=\"checkbox\" checked><label for=\"sk-estimator-id-2\" class=\"sk-toggleable__label sk-toggleable__label-arrow\">LinearRegression</label><div class=\"sk-toggleable__content\"><pre>LinearRegression()</pre></div></div></div></div></div>"
      ],
      "text/plain": [
       "LinearRegression()"
      ]
     },
     "execution_count": 23,
     "metadata": {},
     "output_type": "execute_result"
    }
   ],
   "source": [
    "reg2.fit(df[pred_cols], df[\"mpg\"])"
   ]
  },
  {
   "cell_type": "markdown",
   "metadata": {},
   "source": [
    "Here are the coefficients.  Based on what we were saying with the taxis dataset (\"Oh look, the number of passengers is not very meaningful to the duration of the taxis ride, because the coefficient is pretty small\"), you might think the \"h2\" and \"h3\" columns are not very meaningful here, because their coefficients are so small.  But look at the values in these columns, they are huge (often over a million in the \"h3\" column), so even with these small coefficients, there is still a meaningful impact of these columns."
   ]
  },
  {
   "cell_type": "code",
   "execution_count": 24,
   "metadata": {
    "cell_id": "637453ec64084ec7be78a94f6de2d9d0",
    "deepnote_cell_type": "code",
    "deepnote_to_be_reexecuted": false,
    "execution_millis": 4,
    "execution_start": 1683319608335,
    "source_hash": "59aadfbd"
   },
   "outputs": [
    {
     "data": {
      "text/plain": [
       "array([-5.68850128e-01,  2.07901126e-03, -2.14662591e-06])"
      ]
     },
     "execution_count": 24,
     "metadata": {},
     "output_type": "execute_result"
    }
   ],
   "source": [
    "reg2.coef_"
   ]
  },
  {
   "cell_type": "markdown",
   "metadata": {},
   "source": [
    "We were running low on time at this point, so let's quickly add a predicted mpg column to the DataFrame."
   ]
  },
  {
   "cell_type": "code",
   "execution_count": 25,
   "metadata": {
    "cell_id": "5c8c0e9309004098bb4edf2c67a64018",
    "deepnote_cell_type": "code",
    "deepnote_to_be_reexecuted": false,
    "execution_millis": 11,
    "execution_start": 1683319685448,
    "source_hash": "b24bd5cf"
   },
   "outputs": [],
   "source": [
    "df[\"pred\"] = reg2.predict(df[pred_cols])"
   ]
  },
  {
   "cell_type": "markdown",
   "metadata": {},
   "source": [
    "Here we can see the predicted mpg values on the far right.  For example, our initial predicted value is approximately 17.15, while the true for that row is 18."
   ]
  },
  {
   "cell_type": "code",
   "execution_count": 26,
   "metadata": {
    "cell_id": "2e8cb42d5e874428b133b458a681f846",
    "deepnote_cell_type": "code",
    "deepnote_to_be_reexecuted": false,
    "execution_millis": 21,
    "execution_start": 1683319691446,
    "source_hash": "c085b6ba",
    "tags": [
     "output_scroll"
    ]
   },
   "outputs": [
    {
     "data": {
      "application/vnd.deepnote.dataframe.v3+json": {
       "column_count": 13,
       "columns": [
        {
         "dtype": "float64",
         "name": "mpg",
         "stats": {
          "histogram": [
           {
            "bin_end": 15.3,
            "bin_start": 15,
            "count": 1
           },
           {
            "bin_end": 15.6,
            "bin_start": 15.3,
            "count": 0
           },
           {
            "bin_end": 15.9,
            "bin_start": 15.6,
            "count": 0
           },
           {
            "bin_end": 16.2,
            "bin_start": 15.9,
            "count": 1
           },
           {
            "bin_end": 16.5,
            "bin_start": 16.2,
            "count": 0
           },
           {
            "bin_end": 16.8,
            "bin_start": 16.5,
            "count": 0
           },
           {
            "bin_end": 17.1,
            "bin_start": 16.8,
            "count": 1
           },
           {
            "bin_end": 17.4,
            "bin_start": 17.1,
            "count": 0
           },
           {
            "bin_end": 17.7,
            "bin_start": 17.4,
            "count": 0
           },
           {
            "bin_end": 18,
            "bin_start": 17.7,
            "count": 2
           }
          ],
          "max": "18.0",
          "min": "15.0",
          "nan_count": 0,
          "unique_count": 4
         }
        },
        {
         "dtype": "int64",
         "name": "cylinders",
         "stats": {
          "histogram": [
           {
            "bin_end": 7.6,
            "bin_start": 7.5,
            "count": 0
           },
           {
            "bin_end": 7.7,
            "bin_start": 7.6,
            "count": 0
           },
           {
            "bin_end": 7.8,
            "bin_start": 7.7,
            "count": 0
           },
           {
            "bin_end": 7.9,
            "bin_start": 7.8,
            "count": 0
           },
           {
            "bin_end": 8,
            "bin_start": 7.9,
            "count": 0
           },
           {
            "bin_end": 8.1,
            "bin_start": 8,
            "count": 5
           },
           {
            "bin_end": 8.2,
            "bin_start": 8.1,
            "count": 0
           },
           {
            "bin_end": 8.3,
            "bin_start": 8.2,
            "count": 0
           },
           {
            "bin_end": 8.4,
            "bin_start": 8.3,
            "count": 0
           },
           {
            "bin_end": 8.5,
            "bin_start": 8.4,
            "count": 0
           }
          ],
          "max": "8",
          "min": "8",
          "nan_count": 0,
          "unique_count": 1
         }
        },
        {
         "dtype": "float64",
         "name": "displacement",
         "stats": {
          "histogram": [
           {
            "bin_end": 306.8,
            "bin_start": 302,
            "count": 2
           },
           {
            "bin_end": 311.6,
            "bin_start": 306.8,
            "count": 1
           },
           {
            "bin_end": 316.4,
            "bin_start": 311.6,
            "count": 0
           },
           {
            "bin_end": 321.2,
            "bin_start": 316.4,
            "count": 1
           },
           {
            "bin_end": 326,
            "bin_start": 321.2,
            "count": 0
           },
           {
            "bin_end": 330.8,
            "bin_start": 326,
            "count": 0
           },
           {
            "bin_end": 335.6,
            "bin_start": 330.8,
            "count": 0
           },
           {
            "bin_end": 340.4,
            "bin_start": 335.6,
            "count": 0
           },
           {
            "bin_end": 345.2,
            "bin_start": 340.4,
            "count": 0
           },
           {
            "bin_end": 350,
            "bin_start": 345.2,
            "count": 1
           }
          ],
          "max": "350.0",
          "min": "302.0",
          "nan_count": 0,
          "unique_count": 5
         }
        },
        {
         "dtype": "float64",
         "name": "horsepower",
         "stats": {
          "histogram": [
           {
            "bin_end": 133.5,
            "bin_start": 130,
            "count": 1
           },
           {
            "bin_end": 137,
            "bin_start": 133.5,
            "count": 0
           },
           {
            "bin_end": 140.5,
            "bin_start": 137,
            "count": 1
           },
           {
            "bin_end": 144,
            "bin_start": 140.5,
            "count": 0
           },
           {
            "bin_end": 147.5,
            "bin_start": 144,
            "count": 0
           },
           {
            "bin_end": 151,
            "bin_start": 147.5,
            "count": 2
           },
           {
            "bin_end": 154.5,
            "bin_start": 151,
            "count": 0
           },
           {
            "bin_end": 158,
            "bin_start": 154.5,
            "count": 0
           },
           {
            "bin_end": 161.5,
            "bin_start": 158,
            "count": 0
           },
           {
            "bin_end": 165,
            "bin_start": 161.5,
            "count": 1
           }
          ],
          "max": "165.0",
          "min": "130.0",
          "nan_count": 0,
          "unique_count": 4
         }
        },
        {
         "dtype": "int64",
         "name": "weight",
         "stats": {
          "histogram": [
           {
            "bin_end": 3459,
            "bin_start": 3433,
            "count": 3
           },
           {
            "bin_end": 3485,
            "bin_start": 3459,
            "count": 0
           },
           {
            "bin_end": 3511,
            "bin_start": 3485,
            "count": 1
           },
           {
            "bin_end": 3537,
            "bin_start": 3511,
            "count": 0
           },
           {
            "bin_end": 3563,
            "bin_start": 3537,
            "count": 0
           },
           {
            "bin_end": 3589,
            "bin_start": 3563,
            "count": 0
           },
           {
            "bin_end": 3615,
            "bin_start": 3589,
            "count": 0
           },
           {
            "bin_end": 3641,
            "bin_start": 3615,
            "count": 0
           },
           {
            "bin_end": 3667,
            "bin_start": 3641,
            "count": 0
           },
           {
            "bin_end": 3693,
            "bin_start": 3667,
            "count": 1
           }
          ],
          "max": "3693",
          "min": "3433",
          "nan_count": 0,
          "unique_count": 5
         }
        },
        {
         "dtype": "float64",
         "name": "acceleration",
         "stats": {
          "histogram": [
           {
            "bin_end": 10.65,
            "bin_start": 10.5,
            "count": 1
           },
           {
            "bin_end": 10.8,
            "bin_start": 10.65,
            "count": 0
           },
           {
            "bin_end": 10.95,
            "bin_start": 10.8,
            "count": 0
           },
           {
            "bin_end": 11.1,
            "bin_start": 10.95,
            "count": 1
           },
           {
            "bin_end": 11.25,
            "bin_start": 11.1,
            "count": 0
           },
           {
            "bin_end": 11.4,
            "bin_start": 11.25,
            "count": 0
           },
           {
            "bin_end": 11.55,
            "bin_start": 11.4,
            "count": 1
           },
           {
            "bin_end": 11.7,
            "bin_start": 11.55,
            "count": 0
           },
           {
            "bin_end": 11.85,
            "bin_start": 11.7,
            "count": 0
           },
           {
            "bin_end": 12,
            "bin_start": 11.85,
            "count": 2
           }
          ],
          "max": "12.0",
          "min": "10.5",
          "nan_count": 0,
          "unique_count": 4
         }
        },
        {
         "dtype": "int64",
         "name": "model_year",
         "stats": {
          "histogram": [
           {
            "bin_end": 69.6,
            "bin_start": 69.5,
            "count": 0
           },
           {
            "bin_end": 69.7,
            "bin_start": 69.6,
            "count": 0
           },
           {
            "bin_end": 69.8,
            "bin_start": 69.7,
            "count": 0
           },
           {
            "bin_end": 69.9,
            "bin_start": 69.8,
            "count": 0
           },
           {
            "bin_end": 70,
            "bin_start": 69.9,
            "count": 0
           },
           {
            "bin_end": 70.1,
            "bin_start": 70,
            "count": 5
           },
           {
            "bin_end": 70.2,
            "bin_start": 70.1,
            "count": 0
           },
           {
            "bin_end": 70.3,
            "bin_start": 70.2,
            "count": 0
           },
           {
            "bin_end": 70.4,
            "bin_start": 70.3,
            "count": 0
           },
           {
            "bin_end": 70.5,
            "bin_start": 70.4,
            "count": 0
           }
          ],
          "max": "70",
          "min": "70",
          "nan_count": 0,
          "unique_count": 1
         }
        },
        {
         "dtype": "object",
         "name": "origin",
         "stats": {
          "categories": [
           {
            "count": 5,
            "name": "usa"
           }
          ],
          "nan_count": 0,
          "unique_count": 1
         }
        },
        {
         "dtype": "object",
         "name": "name",
         "stats": {
          "categories": [
           {
            "count": 1,
            "name": "chevrolet chevelle malibu"
           },
           {
            "count": 1,
            "name": "buick skylark 320"
           },
           {
            "count": 3,
            "name": "3 others"
           }
          ],
          "nan_count": 0,
          "unique_count": 5
         }
        },
        {
         "dtype": "float64",
         "name": "h1",
         "stats": {
          "histogram": [
           {
            "bin_end": 133.5,
            "bin_start": 130,
            "count": 1
           },
           {
            "bin_end": 137,
            "bin_start": 133.5,
            "count": 0
           },
           {
            "bin_end": 140.5,
            "bin_start": 137,
            "count": 1
           },
           {
            "bin_end": 144,
            "bin_start": 140.5,
            "count": 0
           },
           {
            "bin_end": 147.5,
            "bin_start": 144,
            "count": 0
           },
           {
            "bin_end": 151,
            "bin_start": 147.5,
            "count": 2
           },
           {
            "bin_end": 154.5,
            "bin_start": 151,
            "count": 0
           },
           {
            "bin_end": 158,
            "bin_start": 154.5,
            "count": 0
           },
           {
            "bin_end": 161.5,
            "bin_start": 158,
            "count": 0
           },
           {
            "bin_end": 165,
            "bin_start": 161.5,
            "count": 1
           }
          ],
          "max": "165.0",
          "min": "130.0",
          "nan_count": 0,
          "unique_count": 4
         }
        },
        {
         "dtype": "float64",
         "name": "h2",
         "stats": {
          "histogram": [
           {
            "bin_end": 17932.5,
            "bin_start": 16900,
            "count": 1
           },
           {
            "bin_end": 18965,
            "bin_start": 17932.5,
            "count": 0
           },
           {
            "bin_end": 19997.5,
            "bin_start": 18965,
            "count": 1
           },
           {
            "bin_end": 21030,
            "bin_start": 19997.5,
            "count": 0
           },
           {
            "bin_end": 22062.5,
            "bin_start": 21030,
            "count": 0
           },
           {
            "bin_end": 23095,
            "bin_start": 22062.5,
            "count": 2
           },
           {
            "bin_end": 24127.5,
            "bin_start": 23095,
            "count": 0
           },
           {
            "bin_end": 25160,
            "bin_start": 24127.5,
            "count": 0
           },
           {
            "bin_end": 26192.5,
            "bin_start": 25160,
            "count": 0
           },
           {
            "bin_end": 27225,
            "bin_start": 26192.5,
            "count": 1
           }
          ],
          "max": "27225.0",
          "min": "16900.0",
          "nan_count": 0,
          "unique_count": 4
         }
        },
        {
         "dtype": "float64",
         "name": "h3",
         "stats": {
          "histogram": [
           {
            "bin_end": 2426512.5,
            "bin_start": 2197000,
            "count": 1
           },
           {
            "bin_end": 2656025,
            "bin_start": 2426512.5,
            "count": 0
           },
           {
            "bin_end": 2885537.5,
            "bin_start": 2656025,
            "count": 1
           },
           {
            "bin_end": 3115050,
            "bin_start": 2885537.5,
            "count": 0
           },
           {
            "bin_end": 3344562.5,
            "bin_start": 3115050,
            "count": 0
           },
           {
            "bin_end": 3574075,
            "bin_start": 3344562.5,
            "count": 2
           },
           {
            "bin_end": 3803587.5,
            "bin_start": 3574075,
            "count": 0
           },
           {
            "bin_end": 4033100,
            "bin_start": 3803587.5,
            "count": 0
           },
           {
            "bin_end": 4262612.5,
            "bin_start": 4033100,
            "count": 0
           },
           {
            "bin_end": 4492125,
            "bin_start": 4262612.5,
            "count": 1
           }
          ],
          "max": "4492125.0",
          "min": "2197000.0",
          "nan_count": 0,
          "unique_count": 4
         }
        },
        {
         "dtype": "float64",
         "name": "pred",
         "stats": {
          "histogram": [
           {
            "bin_end": 14.119757243879256,
            "bin_start": 13.782683444506688,
            "count": 1
           },
           {
            "bin_end": 14.456831043251825,
            "bin_start": 14.119757243879256,
            "count": 0
           },
           {
            "bin_end": 14.793904842624393,
            "bin_start": 14.456831043251825,
            "count": 0
           },
           {
            "bin_end": 15.130978641996961,
            "bin_start": 14.793904842624393,
            "count": 2
           },
           {
            "bin_end": 15.46805244136953,
            "bin_start": 15.130978641996961,
            "count": 0
           },
           {
            "bin_end": 15.805126240742098,
            "bin_start": 15.46805244136953,
            "count": 0
           },
           {
            "bin_end": 16.142200040114666,
            "bin_start": 15.805126240742098,
            "count": 1
           },
           {
            "bin_end": 16.479273839487234,
            "bin_start": 16.142200040114666,
            "count": 0
           },
           {
            "bin_end": 16.816347638859803,
            "bin_start": 16.479273839487234,
            "count": 0
           },
           {
            "bin_end": 17.15342143823237,
            "bin_start": 16.816347638859803,
            "count": 1
           }
          ],
          "max": "17.15342143823237",
          "min": "13.782683444506688",
          "nan_count": 0,
          "unique_count": 4
         }
        },
        {
         "dtype": "int64",
         "name": "_deepnote_index_column"
        }
       ],
       "row_count": 5,
       "rows": [
        {
         "_deepnote_index_column": "0",
         "acceleration": "12.0",
         "cylinders": "8",
         "displacement": "307.0",
         "h1": "130.0",
         "h2": "16900.0",
         "h3": "2197000.0",
         "horsepower": "130.0",
         "model_year": "70",
         "mpg": "18.0",
         "name": "chevrolet chevelle malibu",
         "origin": "usa",
         "pred": "17.15342143823237",
         "weight": "3504"
        },
        {
         "_deepnote_index_column": "1",
         "acceleration": "11.5",
         "cylinders": "8",
         "displacement": "350.0",
         "h1": "165.0",
         "h2": "27225.0",
         "h3": "4492125.0",
         "horsepower": "165.0",
         "model_year": "70",
         "mpg": "15.0",
         "name": "buick skylark 320",
         "origin": "usa",
         "pred": "13.782683444506688",
         "weight": "3693"
        },
        {
         "_deepnote_index_column": "2",
         "acceleration": "11.0",
         "cylinders": "8",
         "displacement": "318.0",
         "h1": "150.0",
         "h2": "22500.0",
         "h3": "3375000.0",
         "horsepower": "150.0",
         "model_year": "70",
         "mpg": "18.0",
         "name": "plymouth satellite",
         "origin": "usa",
         "pred": "14.890156621920994",
         "weight": "3436"
        },
        {
         "_deepnote_index_column": "3",
         "acceleration": "12.0",
         "cylinders": "8",
         "displacement": "304.0",
         "h1": "150.0",
         "h2": "22500.0",
         "h3": "3375000.0",
         "horsepower": "150.0",
         "model_year": "70",
         "mpg": "16.0",
         "name": "amc rebel sst",
         "origin": "usa",
         "pred": "14.890156621920994",
         "weight": "3433"
        },
        {
         "_deepnote_index_column": "4",
         "acceleration": "10.5",
         "cylinders": "8",
         "displacement": "302.0",
         "h1": "140.0",
         "h2": "19600.0",
         "h3": "2744000.0",
         "horsepower": "140.0",
         "model_year": "70",
         "mpg": "17.0",
         "name": "ford torino",
         "origin": "usa",
         "pred": "15.90404619199991",
         "weight": "3449"
        }
       ]
      },
      "text/html": [
       "<div>\n",
       "<style scoped>\n",
       "    .dataframe tbody tr th:only-of-type {\n",
       "        vertical-align: middle;\n",
       "    }\n",
       "\n",
       "    .dataframe tbody tr th {\n",
       "        vertical-align: top;\n",
       "    }\n",
       "\n",
       "    .dataframe thead th {\n",
       "        text-align: right;\n",
       "    }\n",
       "</style>\n",
       "<table border=\"1\" class=\"dataframe\">\n",
       "  <thead>\n",
       "    <tr style=\"text-align: right;\">\n",
       "      <th></th>\n",
       "      <th>mpg</th>\n",
       "      <th>cylinders</th>\n",
       "      <th>displacement</th>\n",
       "      <th>horsepower</th>\n",
       "      <th>weight</th>\n",
       "      <th>acceleration</th>\n",
       "      <th>model_year</th>\n",
       "      <th>origin</th>\n",
       "      <th>name</th>\n",
       "      <th>h1</th>\n",
       "      <th>h2</th>\n",
       "      <th>h3</th>\n",
       "      <th>pred</th>\n",
       "    </tr>\n",
       "  </thead>\n",
       "  <tbody>\n",
       "    <tr>\n",
       "      <th>0</th>\n",
       "      <td>18.0</td>\n",
       "      <td>8</td>\n",
       "      <td>307.0</td>\n",
       "      <td>130.0</td>\n",
       "      <td>3504</td>\n",
       "      <td>12.0</td>\n",
       "      <td>70</td>\n",
       "      <td>usa</td>\n",
       "      <td>chevrolet chevelle malibu</td>\n",
       "      <td>130.0</td>\n",
       "      <td>16900.0</td>\n",
       "      <td>2197000.0</td>\n",
       "      <td>17.153421</td>\n",
       "    </tr>\n",
       "    <tr>\n",
       "      <th>1</th>\n",
       "      <td>15.0</td>\n",
       "      <td>8</td>\n",
       "      <td>350.0</td>\n",
       "      <td>165.0</td>\n",
       "      <td>3693</td>\n",
       "      <td>11.5</td>\n",
       "      <td>70</td>\n",
       "      <td>usa</td>\n",
       "      <td>buick skylark 320</td>\n",
       "      <td>165.0</td>\n",
       "      <td>27225.0</td>\n",
       "      <td>4492125.0</td>\n",
       "      <td>13.782683</td>\n",
       "    </tr>\n",
       "    <tr>\n",
       "      <th>2</th>\n",
       "      <td>18.0</td>\n",
       "      <td>8</td>\n",
       "      <td>318.0</td>\n",
       "      <td>150.0</td>\n",
       "      <td>3436</td>\n",
       "      <td>11.0</td>\n",
       "      <td>70</td>\n",
       "      <td>usa</td>\n",
       "      <td>plymouth satellite</td>\n",
       "      <td>150.0</td>\n",
       "      <td>22500.0</td>\n",
       "      <td>3375000.0</td>\n",
       "      <td>14.890157</td>\n",
       "    </tr>\n",
       "    <tr>\n",
       "      <th>3</th>\n",
       "      <td>16.0</td>\n",
       "      <td>8</td>\n",
       "      <td>304.0</td>\n",
       "      <td>150.0</td>\n",
       "      <td>3433</td>\n",
       "      <td>12.0</td>\n",
       "      <td>70</td>\n",
       "      <td>usa</td>\n",
       "      <td>amc rebel sst</td>\n",
       "      <td>150.0</td>\n",
       "      <td>22500.0</td>\n",
       "      <td>3375000.0</td>\n",
       "      <td>14.890157</td>\n",
       "    </tr>\n",
       "    <tr>\n",
       "      <th>4</th>\n",
       "      <td>17.0</td>\n",
       "      <td>8</td>\n",
       "      <td>302.0</td>\n",
       "      <td>140.0</td>\n",
       "      <td>3449</td>\n",
       "      <td>10.5</td>\n",
       "      <td>70</td>\n",
       "      <td>usa</td>\n",
       "      <td>ford torino</td>\n",
       "      <td>140.0</td>\n",
       "      <td>19600.0</td>\n",
       "      <td>2744000.0</td>\n",
       "      <td>15.904046</td>\n",
       "    </tr>\n",
       "  </tbody>\n",
       "</table>\n",
       "</div>"
      ],
      "text/plain": [
       "    mpg  cylinders  displacement  horsepower  weight  acceleration  \\\n",
       "0  18.0          8         307.0       130.0    3504          12.0   \n",
       "1  15.0          8         350.0       165.0    3693          11.5   \n",
       "2  18.0          8         318.0       150.0    3436          11.0   \n",
       "3  16.0          8         304.0       150.0    3433          12.0   \n",
       "4  17.0          8         302.0       140.0    3449          10.5   \n",
       "\n",
       "   model_year origin                       name     h1       h2         h3  \\\n",
       "0          70    usa  chevrolet chevelle malibu  130.0  16900.0  2197000.0   \n",
       "1          70    usa          buick skylark 320  165.0  27225.0  4492125.0   \n",
       "2          70    usa         plymouth satellite  150.0  22500.0  3375000.0   \n",
       "3          70    usa              amc rebel sst  150.0  22500.0  3375000.0   \n",
       "4          70    usa                ford torino  140.0  19600.0  2744000.0   \n",
       "\n",
       "        pred  \n",
       "0  17.153421  \n",
       "1  13.782683  \n",
       "2  14.890157  \n",
       "3  14.890157  \n",
       "4  15.904046  "
      ]
     },
     "execution_count": 26,
     "metadata": {},
     "output_type": "execute_result"
    }
   ],
   "source": [
    "df.head()"
   ]
  },
  {
   "cell_type": "markdown",
   "metadata": {},
   "source": [
    "Here is a reminder of what the true data looks like."
   ]
  },
  {
   "cell_type": "code",
   "execution_count": 29,
   "metadata": {
    "cell_id": "2d929375eb0e4e1da0db60227b9b86e0",
    "deepnote_cell_type": "code",
    "deepnote_to_be_reexecuted": false,
    "execution_millis": 42,
    "execution_start": 1683319762135,
    "source_hash": "9768de83"
   },
   "outputs": [
    {
     "data": {
      "text/html": [
       "\n",
       "<div id=\"altair-viz-9dcf4225e35b4cfc8998439f7786eb0a\"></div>\n",
       "<script type=\"text/javascript\">\n",
       "  var VEGA_DEBUG = (typeof VEGA_DEBUG == \"undefined\") ? {} : VEGA_DEBUG;\n",
       "  (function(spec, embedOpt){\n",
       "    let outputDiv = document.currentScript.previousElementSibling;\n",
       "    if (outputDiv.id !== \"altair-viz-9dcf4225e35b4cfc8998439f7786eb0a\") {\n",
       "      outputDiv = document.getElementById(\"altair-viz-9dcf4225e35b4cfc8998439f7786eb0a\");\n",
       "    }\n",
       "    const paths = {\n",
       "      \"vega\": \"https://cdn.jsdelivr.net/npm//vega@5?noext\",\n",
       "      \"vega-lib\": \"https://cdn.jsdelivr.net/npm//vega-lib?noext\",\n",
       "      \"vega-lite\": \"https://cdn.jsdelivr.net/npm//vega-lite@4.17.0?noext\",\n",
       "      \"vega-embed\": \"https://cdn.jsdelivr.net/npm//vega-embed@6?noext\",\n",
       "    };\n",
       "\n",
       "    function maybeLoadScript(lib, version) {\n",
       "      var key = `${lib.replace(\"-\", \"\")}_version`;\n",
       "      return (VEGA_DEBUG[key] == version) ?\n",
       "        Promise.resolve(paths[lib]) :\n",
       "        new Promise(function(resolve, reject) {\n",
       "          var s = document.createElement('script');\n",
       "          document.getElementsByTagName(\"head\")[0].appendChild(s);\n",
       "          s.async = true;\n",
       "          s.onload = () => {\n",
       "            VEGA_DEBUG[key] = version;\n",
       "            return resolve(paths[lib]);\n",
       "          };\n",
       "          s.onerror = () => reject(`Error loading script: ${paths[lib]}`);\n",
       "          s.src = paths[lib];\n",
       "        });\n",
       "    }\n",
       "\n",
       "    function showError(err) {\n",
       "      outputDiv.innerHTML = `<div class=\"error\" style=\"color:red;\">${err}</div>`;\n",
       "      throw err;\n",
       "    }\n",
       "\n",
       "    function displayChart(vegaEmbed) {\n",
       "      vegaEmbed(outputDiv, spec, embedOpt)\n",
       "        .catch(err => showError(`Javascript Error: ${err.message}<br>This usually means there's a typo in your chart specification. See the javascript console for the full traceback.`));\n",
       "    }\n",
       "\n",
       "    if(typeof define === \"function\" && define.amd) {\n",
       "      requirejs.config({paths});\n",
       "      require([\"vega-embed\"], displayChart, err => showError(`Error loading script: ${err.message}`));\n",
       "    } else {\n",
       "      maybeLoadScript(\"vega\", \"5\")\n",
       "        .then(() => maybeLoadScript(\"vega-lite\", \"4.17.0\"))\n",
       "        .then(() => maybeLoadScript(\"vega-embed\", \"6\"))\n",
       "        .catch(showError)\n",
       "        .then(() => displayChart(vegaEmbed));\n",
       "    }\n",
       "  })({\"config\": {\"view\": {\"continuousWidth\": 400, \"continuousHeight\": 300}}, \"data\": {\"name\": \"data-e29e62db7e2159138ee066d59a035512\"}, \"mark\": \"circle\", \"encoding\": {\"x\": {\"field\": \"horsepower\", \"type\": \"quantitative\"}, \"y\": {\"field\": \"mpg\", \"type\": \"quantitative\"}}, \"$schema\": \"https://vega.github.io/schema/vega-lite/v4.17.0.json\", \"datasets\": {\"data-e29e62db7e2159138ee066d59a035512\": [{\"mpg\": 18.0, \"cylinders\": 8, \"displacement\": 307.0, \"horsepower\": 130.0, \"weight\": 3504, \"acceleration\": 12.0, \"model_year\": 70, \"origin\": \"usa\", \"name\": \"chevrolet chevelle malibu\", \"h1\": 130.0, \"h2\": 16900.0, \"h3\": 2197000.0, \"pred\": 17.15342143823237}, {\"mpg\": 15.0, \"cylinders\": 8, \"displacement\": 350.0, \"horsepower\": 165.0, \"weight\": 3693, \"acceleration\": 11.5, \"model_year\": 70, \"origin\": \"usa\", \"name\": \"buick skylark 320\", \"h1\": 165.0, \"h2\": 27225.0, \"h3\": 4492125.0, \"pred\": 13.782683444506688}, {\"mpg\": 18.0, \"cylinders\": 8, \"displacement\": 318.0, \"horsepower\": 150.0, \"weight\": 3436, \"acceleration\": 11.0, \"model_year\": 70, \"origin\": \"usa\", \"name\": \"plymouth satellite\", \"h1\": 150.0, \"h2\": 22500.0, \"h3\": 3375000.0, \"pred\": 14.890156621920994}, {\"mpg\": 16.0, \"cylinders\": 8, \"displacement\": 304.0, \"horsepower\": 150.0, \"weight\": 3433, \"acceleration\": 12.0, \"model_year\": 70, \"origin\": \"usa\", \"name\": \"amc rebel sst\", \"h1\": 150.0, \"h2\": 22500.0, \"h3\": 3375000.0, \"pred\": 14.890156621920994}, {\"mpg\": 17.0, \"cylinders\": 8, \"displacement\": 302.0, \"horsepower\": 140.0, \"weight\": 3449, \"acceleration\": 10.5, \"model_year\": 70, \"origin\": \"usa\", \"name\": \"ford torino\", \"h1\": 140.0, \"h2\": 19600.0, \"h3\": 2744000.0, \"pred\": 15.90404619199991}, {\"mpg\": 15.0, \"cylinders\": 8, \"displacement\": 429.0, \"horsepower\": 198.0, \"weight\": 4341, \"acceleration\": 10.0, \"model_year\": 70, \"origin\": \"usa\", \"name\": \"ford galaxie 500\", \"h1\": 198.0, \"h2\": 39204.0, \"h3\": 7762392.0, \"pred\": 12.895065253108243}, {\"mpg\": 14.0, \"cylinders\": 8, \"displacement\": 454.0, \"horsepower\": 220.0, \"weight\": 4354, \"acceleration\": 9.0, \"model_year\": 70, \"origin\": \"usa\", \"name\": \"chevrolet impala\", \"h1\": 220.0, \"h2\": 48400.0, \"h3\": 10648000.0, \"pred\": 13.304629104449148}, {\"mpg\": 14.0, \"cylinders\": 8, \"displacement\": 440.0, \"horsepower\": 215.0, \"weight\": 4312, \"acceleration\": 8.5, \"model_year\": 70, \"origin\": \"usa\", \"name\": \"plymouth fury iii\", \"h1\": 215.0, \"h2\": 46225.0, \"h3\": 9938375.0, \"pred\": 13.150329660718661}, {\"mpg\": 14.0, \"cylinders\": 8, \"displacement\": 455.0, \"horsepower\": 225.0, \"weight\": 4425, \"acceleration\": 10.0, \"model_year\": 70, \"origin\": \"usa\", \"name\": \"pontiac catalina\", \"h1\": 225.0, \"h2\": 50625.0, \"h3\": 11390625.0, \"pred\": 13.49204045628425}, {\"mpg\": 15.0, \"cylinders\": 8, \"displacement\": 390.0, \"horsepower\": 190.0, \"weight\": 3850, \"acceleration\": 8.5, \"model_year\": 70, \"origin\": \"usa\", \"name\": \"amc ambassador dpl\", \"h1\": 190.0, \"h2\": 36100.0, \"h3\": 6859000.0, \"pred\": 12.931859993802988}, {\"mpg\": 15.0, \"cylinders\": 8, \"displacement\": 383.0, \"horsepower\": 170.0, \"weight\": 3563, \"acceleration\": 10.0, \"model_year\": 70, \"origin\": \"usa\", \"name\": \"dodge challenger se\", \"h1\": 170.0, \"h2\": 28900.0, \"h3\": 4913000.0, \"pred\": 13.517315488356232}, {\"mpg\": 14.0, \"cylinders\": 8, \"displacement\": 340.0, \"horsepower\": 160.0, \"weight\": 3609, \"acceleration\": 8.0, \"model_year\": 70, \"origin\": \"usa\", \"name\": \"plymouth 'cuda 340\", \"h1\": 160.0, \"h2\": 25600.0, \"h3\": 4096000.0, \"pred\": 14.098872972528724}, {\"mpg\": 15.0, \"cylinders\": 8, \"displacement\": 400.0, \"horsepower\": 150.0, \"weight\": 3761, \"acceleration\": 9.5, \"model_year\": 70, \"origin\": \"usa\", \"name\": \"chevrolet monte carlo\", \"h1\": 150.0, \"h2\": 22500.0, \"h3\": 3375000.0, \"pred\": 14.890156621920994}, {\"mpg\": 14.0, \"cylinders\": 8, \"displacement\": 455.0, \"horsepower\": 225.0, \"weight\": 3086, \"acceleration\": 10.0, \"model_year\": 70, \"origin\": \"usa\", \"name\": \"buick estate wagon (sw)\", \"h1\": 225.0, \"h2\": 50625.0, \"h3\": 11390625.0, \"pred\": 13.49204045628425}, {\"mpg\": 24.0, \"cylinders\": 4, \"displacement\": 113.0, \"horsepower\": 95.0, \"weight\": 2372, \"acceleration\": 15.0, \"model_year\": 70, \"origin\": \"japan\", \"name\": \"toyota corona mark ii\", \"h1\": 95.0, \"h2\": 9025.0, \"h3\": 857375.0, \"pred\": 23.56663596930835}, {\"mpg\": 22.0, \"cylinders\": 6, \"displacement\": 198.0, \"horsepower\": 95.0, \"weight\": 2833, \"acceleration\": 15.5, \"model_year\": 70, \"origin\": \"usa\", \"name\": \"plymouth duster\", \"h1\": 95.0, \"h2\": 9025.0, \"h3\": 857375.0, \"pred\": 23.56663596930835}, {\"mpg\": 18.0, \"cylinders\": 6, \"displacement\": 199.0, \"horsepower\": 97.0, \"weight\": 2774, \"acceleration\": 15.5, \"model_year\": 70, \"origin\": \"usa\", \"name\": \"amc hornet\", \"h1\": 97.0, \"h2\": 9409.0, \"h3\": 912673.0, \"pred\": 23.108571918008607}, {\"mpg\": 21.0, \"cylinders\": 6, \"displacement\": 200.0, \"horsepower\": 85.0, \"weight\": 2587, \"acceleration\": 16.0, \"model_year\": 70, \"origin\": \"usa\", \"name\": \"ford maverick\", \"h1\": 85.0, \"h2\": 7225.0, \"h3\": 614125.0, \"pred\": 26.03508373213451}, {\"mpg\": 27.0, \"cylinders\": 4, \"displacement\": 97.0, \"horsepower\": 88.0, \"weight\": 2130, \"acceleration\": 14.5, \"model_year\": 70, \"origin\": \"japan\", \"name\": \"datsun pl510\", \"h1\": 88.0, \"h2\": 7744.0, \"h3\": 681472.0, \"pred\": 25.26297137738215}, {\"mpg\": 26.0, \"cylinders\": 4, \"displacement\": 97.0, \"horsepower\": 46.0, \"weight\": 1835, \"acceleration\": 20.5, \"model_year\": 70, \"origin\": \"europe\", \"name\": \"volkswagen 1131 deluxe sedan\", \"h1\": 46.0, \"h2\": 2116.0, \"h3\": 97336.0, \"pred\": 38.70792285334719}, {\"mpg\": 25.0, \"cylinders\": 4, \"displacement\": 110.0, \"horsepower\": 87.0, \"weight\": 2672, \"acceleration\": 17.5, \"model_year\": 70, \"origin\": \"europe\", \"name\": \"peugeot 504\", \"h1\": 87.0, \"h2\": 7569.0, \"h3\": 658503.0, \"pred\": 25.5173003852465}, {\"mpg\": 24.0, \"cylinders\": 4, \"displacement\": 107.0, \"horsepower\": 90.0, \"weight\": 2430, \"acceleration\": 14.5, \"model_year\": 70, \"origin\": \"europe\", \"name\": \"audi 100 ls\", \"h1\": 90.0, \"h2\": 8100.0, \"h3\": 729000.0, \"pred\": 24.76337429403543}, {\"mpg\": 25.0, \"cylinders\": 4, \"displacement\": 104.0, \"horsepower\": 95.0, \"weight\": 2375, \"acceleration\": 17.5, \"model_year\": 70, \"origin\": \"europe\", \"name\": \"saab 99e\", \"h1\": 95.0, \"h2\": 9025.0, \"h3\": 857375.0, \"pred\": 23.56663596930835}, {\"mpg\": 26.0, \"cylinders\": 4, \"displacement\": 121.0, \"horsepower\": 113.0, \"weight\": 2234, \"acceleration\": 12.5, \"model_year\": 70, \"origin\": \"europe\", \"name\": \"bmw 2002\", \"h1\": 113.0, \"h2\": 12769.0, \"h3\": 1442897.0, \"pred\": 19.854255131448973}, {\"mpg\": 21.0, \"cylinders\": 6, \"displacement\": 199.0, \"horsepower\": 90.0, \"weight\": 2648, \"acceleration\": 15.0, \"model_year\": 70, \"origin\": \"usa\", \"name\": \"amc gremlin\", \"h1\": 90.0, \"h2\": 8100.0, \"h3\": 729000.0, \"pred\": 24.76337429403543}, {\"mpg\": 10.0, \"cylinders\": 8, \"displacement\": 360.0, \"horsepower\": 215.0, \"weight\": 4615, \"acceleration\": 14.0, \"model_year\": 70, \"origin\": \"usa\", \"name\": \"ford f250\", \"h1\": 215.0, \"h2\": 46225.0, \"h3\": 9938375.0, \"pred\": 13.150329660718661}, {\"mpg\": 10.0, \"cylinders\": 8, \"displacement\": 307.0, \"horsepower\": 200.0, \"weight\": 4376, \"acceleration\": 15.0, \"model_year\": 70, \"origin\": \"usa\", \"name\": \"chevy c20\", \"h1\": 200.0, \"h2\": 40000.0, \"h3\": 8000000.0, \"pred\": 12.902202472488455}, {\"mpg\": 11.0, \"cylinders\": 8, \"displacement\": 318.0, \"horsepower\": 210.0, \"weight\": 4382, \"acceleration\": 13.5, \"model_year\": 70, \"origin\": \"usa\", \"name\": \"dodge d200\", \"h1\": 210.0, \"h2\": 44100.0, \"h3\": 9261000.0, \"pred\": 13.030752094526136}, {\"mpg\": 9.0, \"cylinders\": 8, \"displacement\": 304.0, \"horsepower\": 193.0, \"weight\": 4732, \"acceleration\": 18.5, \"model_year\": 70, \"origin\": \"usa\", \"name\": \"hi 1200d\", \"h1\": 193.0, \"h2\": 37249.0, \"h3\": 7189057.0, \"pred\": 12.905584641906358}, {\"mpg\": 27.0, \"cylinders\": 4, \"displacement\": 97.0, \"horsepower\": 88.0, \"weight\": 2130, \"acceleration\": 14.5, \"model_year\": 71, \"origin\": \"japan\", \"name\": \"datsun pl510\", \"h1\": 88.0, \"h2\": 7744.0, \"h3\": 681472.0, \"pred\": 25.26297137738215}, {\"mpg\": 28.0, \"cylinders\": 4, \"displacement\": 140.0, \"horsepower\": 90.0, \"weight\": 2264, \"acceleration\": 15.5, \"model_year\": 71, \"origin\": \"usa\", \"name\": \"chevrolet vega 2300\", \"h1\": 90.0, \"h2\": 8100.0, \"h3\": 729000.0, \"pred\": 24.76337429403543}, {\"mpg\": 25.0, \"cylinders\": 4, \"displacement\": 113.0, \"horsepower\": 95.0, \"weight\": 2228, \"acceleration\": 14.0, \"model_year\": 71, \"origin\": \"japan\", \"name\": \"toyota corona\", \"h1\": 95.0, \"h2\": 9025.0, \"h3\": 857375.0, \"pred\": 23.56663596930835}, {\"mpg\": 19.0, \"cylinders\": 6, \"displacement\": 232.0, \"horsepower\": 100.0, \"weight\": 2634, \"acceleration\": 13.0, \"model_year\": 71, \"origin\": \"usa\", \"name\": \"amc gremlin\", \"h1\": 100.0, \"h2\": 10000.0, \"h3\": 1000000.0, \"pred\": 22.443258788519906}, {\"mpg\": 16.0, \"cylinders\": 6, \"displacement\": 225.0, \"horsepower\": 105.0, \"weight\": 3439, \"acceleration\": 15.5, \"model_year\": 71, \"origin\": \"usa\", \"name\": \"plymouth satellite custom\", \"h1\": 105.0, \"h2\": 11025.0, \"h3\": 1157625.0, \"pred\": 21.39163278223674}, {\"mpg\": 17.0, \"cylinders\": 6, \"displacement\": 250.0, \"horsepower\": 100.0, \"weight\": 3329, \"acceleration\": 15.5, \"model_year\": 71, \"origin\": \"usa\", \"name\": \"chevrolet chevelle malibu\", \"h1\": 100.0, \"h2\": 10000.0, \"h3\": 1000000.0, \"pred\": 22.443258788519906}, {\"mpg\": 19.0, \"cylinders\": 6, \"displacement\": 250.0, \"horsepower\": 88.0, \"weight\": 3302, \"acceleration\": 15.5, \"model_year\": 71, \"origin\": \"usa\", \"name\": \"ford torino 500\", \"h1\": 88.0, \"h2\": 7744.0, \"h3\": 681472.0, \"pred\": 25.26297137738215}, {\"mpg\": 18.0, \"cylinders\": 6, \"displacement\": 232.0, \"horsepower\": 100.0, \"weight\": 3288, \"acceleration\": 15.5, \"model_year\": 71, \"origin\": \"usa\", \"name\": \"amc matador\", \"h1\": 100.0, \"h2\": 10000.0, \"h3\": 1000000.0, \"pred\": 22.443258788519906}, {\"mpg\": 14.0, \"cylinders\": 8, \"displacement\": 350.0, \"horsepower\": 165.0, \"weight\": 4209, \"acceleration\": 12.0, \"model_year\": 71, \"origin\": \"usa\", \"name\": \"chevrolet impala\", \"h1\": 165.0, \"h2\": 27225.0, \"h3\": 4492125.0, \"pred\": 13.782683444506688}, {\"mpg\": 14.0, \"cylinders\": 8, \"displacement\": 400.0, \"horsepower\": 175.0, \"weight\": 4464, \"acceleration\": 11.5, \"model_year\": 71, \"origin\": \"usa\", \"name\": \"pontiac catalina brougham\", \"h1\": 175.0, \"h2\": 30625.0, \"h3\": 5359375.0, \"pred\": 13.301159134643996}, {\"mpg\": 14.0, \"cylinders\": 8, \"displacement\": 351.0, \"horsepower\": 153.0, \"weight\": 4154, \"acceleration\": 13.5, \"model_year\": 71, \"origin\": \"usa\", \"name\": \"ford galaxie 500\", \"h1\": 153.0, \"h2\": 23409.0, \"h3\": 3581577.0, \"pred\": 14.62998393430496}, {\"mpg\": 14.0, \"cylinders\": 8, \"displacement\": 318.0, \"horsepower\": 150.0, \"weight\": 4096, \"acceleration\": 13.0, \"model_year\": 71, \"origin\": \"usa\", \"name\": \"plymouth fury iii\", \"h1\": 150.0, \"h2\": 22500.0, \"h3\": 3375000.0, \"pred\": 14.890156621920994}, {\"mpg\": 12.0, \"cylinders\": 8, \"displacement\": 383.0, \"horsepower\": 180.0, \"weight\": 4955, \"acceleration\": 11.5, \"model_year\": 71, \"origin\": \"usa\", \"name\": \"dodge monaco (sw)\", \"h1\": 180.0, \"h2\": 32400.0, \"h3\": 5832000.0, \"pred\": 13.132604413936612}, {\"mpg\": 13.0, \"cylinders\": 8, \"displacement\": 400.0, \"horsepower\": 170.0, \"weight\": 4746, \"acceleration\": 12.0, \"model_year\": 71, \"origin\": \"usa\", \"name\": \"ford country squire (sw)\", \"h1\": 170.0, \"h2\": 28900.0, \"h3\": 4913000.0, \"pred\": 13.517315488356232}, {\"mpg\": 13.0, \"cylinders\": 8, \"displacement\": 400.0, \"horsepower\": 175.0, \"weight\": 5140, \"acceleration\": 12.0, \"model_year\": 71, \"origin\": \"usa\", \"name\": \"pontiac safari (sw)\", \"h1\": 175.0, \"h2\": 30625.0, \"h3\": 5359375.0, \"pred\": 13.301159134643996}, {\"mpg\": 18.0, \"cylinders\": 6, \"displacement\": 258.0, \"horsepower\": 110.0, \"weight\": 2962, \"acceleration\": 13.5, \"model_year\": 71, \"origin\": \"usa\", \"name\": \"amc hornet sportabout (sw)\", \"h1\": 110.0, \"h2\": 12100.0, \"h3\": 1331000.0, \"pred\": 20.41014798102548}, {\"mpg\": 22.0, \"cylinders\": 4, \"displacement\": 140.0, \"horsepower\": 72.0, \"weight\": 2408, \"acceleration\": 19.0, \"model_year\": 71, \"origin\": \"usa\", \"name\": \"chevrolet vega (sw)\", \"h1\": 72.0, \"h2\": 5184.0, \"h3\": 373248.0, \"pred\": 29.703946222426847}, {\"mpg\": 19.0, \"cylinders\": 6, \"displacement\": 250.0, \"horsepower\": 100.0, \"weight\": 3282, \"acceleration\": 15.0, \"model_year\": 71, \"origin\": \"usa\", \"name\": \"pontiac firebird\", \"h1\": 100.0, \"h2\": 10000.0, \"h3\": 1000000.0, \"pred\": 22.443258788519906}, {\"mpg\": 18.0, \"cylinders\": 6, \"displacement\": 250.0, \"horsepower\": 88.0, \"weight\": 3139, \"acceleration\": 14.5, \"model_year\": 71, \"origin\": \"usa\", \"name\": \"ford mustang\", \"h1\": 88.0, \"h2\": 7744.0, \"h3\": 681472.0, \"pred\": 25.26297137738215}, {\"mpg\": 23.0, \"cylinders\": 4, \"displacement\": 122.0, \"horsepower\": 86.0, \"weight\": 2220, \"acceleration\": 14.0, \"model_year\": 71, \"origin\": \"usa\", \"name\": \"mercury capri 2000\", \"h1\": 86.0, \"h2\": 7396.0, \"h3\": 636056.0, \"pred\": 25.77466687691213}, {\"mpg\": 28.0, \"cylinders\": 4, \"displacement\": 116.0, \"horsepower\": 90.0, \"weight\": 2123, \"acceleration\": 14.0, \"model_year\": 71, \"origin\": \"europe\", \"name\": \"opel 1900\", \"h1\": 90.0, \"h2\": 8100.0, \"h3\": 729000.0, \"pred\": 24.76337429403543}, {\"mpg\": 30.0, \"cylinders\": 4, \"displacement\": 79.0, \"horsepower\": 70.0, \"weight\": 2074, \"acceleration\": 19.5, \"model_year\": 71, \"origin\": \"europe\", \"name\": \"peugeot 304\", \"h1\": 70.0, \"h2\": 4900.0, \"h3\": 343000.0, \"pred\": 30.316138420997323}, {\"mpg\": 30.0, \"cylinders\": 4, \"displacement\": 88.0, \"horsepower\": 76.0, \"weight\": 2065, \"acceleration\": 14.5, \"model_year\": 71, \"origin\": \"europe\", \"name\": \"fiat 124b\", \"h1\": 76.0, \"h2\": 5776.0, \"h3\": 438976.0, \"pred\": 28.518226948841566}, {\"mpg\": 31.0, \"cylinders\": 4, \"displacement\": 71.0, \"horsepower\": 65.0, \"weight\": 1773, \"acceleration\": 19.0, \"model_year\": 71, \"origin\": \"japan\", \"name\": \"toyota corolla 1200\", \"h1\": 65.0, \"h2\": 4225.0, \"h3\": 274625.0, \"pred\": 31.903832006917995}, {\"mpg\": 35.0, \"cylinders\": 4, \"displacement\": 72.0, \"horsepower\": 69.0, \"weight\": 1613, \"acceleration\": 18.0, \"model_year\": 71, \"origin\": \"japan\", \"name\": \"datsun 1200\", \"h1\": 69.0, \"h2\": 4761.0, \"h3\": 328509.0, \"pred\": 30.627112739871155}, {\"mpg\": 27.0, \"cylinders\": 4, \"displacement\": 97.0, \"horsepower\": 60.0, \"weight\": 1834, \"acceleration\": 19.0, \"model_year\": 71, \"origin\": \"europe\", \"name\": \"volkswagen model 111\", \"h1\": 60.0, \"h2\": 3600.0, \"h3\": 216000.0, \"pred\": 33.57454655337747}, {\"mpg\": 26.0, \"cylinders\": 4, \"displacement\": 91.0, \"horsepower\": 70.0, \"weight\": 1955, \"acceleration\": 20.5, \"model_year\": 71, \"origin\": \"usa\", \"name\": \"plymouth cricket\", \"h1\": 70.0, \"h2\": 4900.0, \"h3\": 343000.0, \"pred\": 30.316138420997323}, {\"mpg\": 24.0, \"cylinders\": 4, \"displacement\": 113.0, \"horsepower\": 95.0, \"weight\": 2278, \"acceleration\": 15.5, \"model_year\": 72, \"origin\": \"japan\", \"name\": \"toyota corona hardtop\", \"h1\": 95.0, \"h2\": 9025.0, \"h3\": 857375.0, \"pred\": 23.56663596930835}, {\"mpg\": 25.0, \"cylinders\": 4, \"displacement\": 97.5, \"horsepower\": 80.0, \"weight\": 2126, \"acceleration\": 17.0, \"model_year\": 72, \"origin\": \"usa\", \"name\": \"dodge colt hardtop\", \"h1\": 80.0, \"h2\": 6400.0, \"h3\": 512000.0, \"pred\": 27.383374253038937}, {\"mpg\": 23.0, \"cylinders\": 4, \"displacement\": 97.0, \"horsepower\": 54.0, \"weight\": 2254, \"acceleration\": 23.5, \"model_year\": 72, \"origin\": \"europe\", \"name\": \"volkswagen type 3\", \"h1\": 54.0, \"h2\": 2916.0, \"h3\": 157464.0, \"pred\": 35.69125851400223}, {\"mpg\": 20.0, \"cylinders\": 4, \"displacement\": 140.0, \"horsepower\": 90.0, \"weight\": 2408, \"acceleration\": 19.5, \"model_year\": 72, \"origin\": \"usa\", \"name\": \"chevrolet vega\", \"h1\": 90.0, \"h2\": 8100.0, \"h3\": 729000.0, \"pred\": 24.76337429403543}, {\"mpg\": 21.0, \"cylinders\": 4, \"displacement\": 122.0, \"horsepower\": 86.0, \"weight\": 2226, \"acceleration\": 16.5, \"model_year\": 72, \"origin\": \"usa\", \"name\": \"ford pinto runabout\", \"h1\": 86.0, \"h2\": 7396.0, \"h3\": 636056.0, \"pred\": 25.77466687691213}, {\"mpg\": 13.0, \"cylinders\": 8, \"displacement\": 350.0, \"horsepower\": 165.0, \"weight\": 4274, \"acceleration\": 12.0, \"model_year\": 72, \"origin\": \"usa\", \"name\": \"chevrolet impala\", \"h1\": 165.0, \"h2\": 27225.0, \"h3\": 4492125.0, \"pred\": 13.782683444506688}, {\"mpg\": 14.0, \"cylinders\": 8, \"displacement\": 400.0, \"horsepower\": 175.0, \"weight\": 4385, \"acceleration\": 12.0, \"model_year\": 72, \"origin\": \"usa\", \"name\": \"pontiac catalina\", \"h1\": 175.0, \"h2\": 30625.0, \"h3\": 5359375.0, \"pred\": 13.301159134643996}, {\"mpg\": 15.0, \"cylinders\": 8, \"displacement\": 318.0, \"horsepower\": 150.0, \"weight\": 4135, \"acceleration\": 13.5, \"model_year\": 72, \"origin\": \"usa\", \"name\": \"plymouth fury iii\", \"h1\": 150.0, \"h2\": 22500.0, \"h3\": 3375000.0, \"pred\": 14.890156621920994}, {\"mpg\": 14.0, \"cylinders\": 8, \"displacement\": 351.0, \"horsepower\": 153.0, \"weight\": 4129, \"acceleration\": 13.0, \"model_year\": 72, \"origin\": \"usa\", \"name\": \"ford galaxie 500\", \"h1\": 153.0, \"h2\": 23409.0, \"h3\": 3581577.0, \"pred\": 14.62998393430496}, {\"mpg\": 17.0, \"cylinders\": 8, \"displacement\": 304.0, \"horsepower\": 150.0, \"weight\": 3672, \"acceleration\": 11.5, \"model_year\": 72, \"origin\": \"usa\", \"name\": \"amc ambassador sst\", \"h1\": 150.0, \"h2\": 22500.0, \"h3\": 3375000.0, \"pred\": 14.890156621920994}, {\"mpg\": 11.0, \"cylinders\": 8, \"displacement\": 429.0, \"horsepower\": 208.0, \"weight\": 4633, \"acceleration\": 11.0, \"model_year\": 72, \"origin\": \"usa\", \"name\": \"mercury marquis\", \"h1\": 208.0, \"h2\": 43264.0, \"h3\": 8998912.0, \"pred\": 12.993003826912833}, {\"mpg\": 13.0, \"cylinders\": 8, \"displacement\": 350.0, \"horsepower\": 155.0, \"weight\": 4502, \"acceleration\": 13.5, \"model_year\": 72, \"origin\": \"usa\", \"name\": \"buick lesabre custom\", \"h1\": 155.0, \"h2\": 24025.0, \"h3\": 3723875.0, \"pred\": 14.467494041855709}, {\"mpg\": 12.0, \"cylinders\": 8, \"displacement\": 350.0, \"horsepower\": 160.0, \"weight\": 4456, \"acceleration\": 13.5, \"model_year\": 72, \"origin\": \"usa\", \"name\": \"oldsmobile delta 88 royale\", \"h1\": 160.0, \"h2\": 25600.0, \"h3\": 4096000.0, \"pred\": 14.098872972528724}, {\"mpg\": 13.0, \"cylinders\": 8, \"displacement\": 400.0, \"horsepower\": 190.0, \"weight\": 4422, \"acceleration\": 12.5, \"model_year\": 72, \"origin\": \"usa\", \"name\": \"chrysler newport royal\", \"h1\": 190.0, \"h2\": 36100.0, \"h3\": 6859000.0, \"pred\": 12.931859993802988}, {\"mpg\": 19.0, \"cylinders\": 3, \"displacement\": 70.0, \"horsepower\": 97.0, \"weight\": 2330, \"acceleration\": 13.5, \"model_year\": 72, \"origin\": \"japan\", \"name\": \"mazda rx2 coupe\", \"h1\": 97.0, \"h2\": 9409.0, \"h3\": 912673.0, \"pred\": 23.108571918008607}, {\"mpg\": 15.0, \"cylinders\": 8, \"displacement\": 304.0, \"horsepower\": 150.0, \"weight\": 3892, \"acceleration\": 12.5, \"model_year\": 72, \"origin\": \"usa\", \"name\": \"amc matador (sw)\", \"h1\": 150.0, \"h2\": 22500.0, \"h3\": 3375000.0, \"pred\": 14.890156621920994}, {\"mpg\": 13.0, \"cylinders\": 8, \"displacement\": 307.0, \"horsepower\": 130.0, \"weight\": 4098, \"acceleration\": 14.0, \"model_year\": 72, \"origin\": \"usa\", \"name\": \"chevrolet chevelle concours (sw)\", \"h1\": 130.0, \"h2\": 16900.0, \"h3\": 2197000.0, \"pred\": 17.15342143823237}, {\"mpg\": 13.0, \"cylinders\": 8, \"displacement\": 302.0, \"horsepower\": 140.0, \"weight\": 4294, \"acceleration\": 16.0, \"model_year\": 72, \"origin\": \"usa\", \"name\": \"ford gran torino (sw)\", \"h1\": 140.0, \"h2\": 19600.0, \"h3\": 2744000.0, \"pred\": 15.90404619199991}, {\"mpg\": 14.0, \"cylinders\": 8, \"displacement\": 318.0, \"horsepower\": 150.0, \"weight\": 4077, \"acceleration\": 14.0, \"model_year\": 72, \"origin\": \"usa\", \"name\": \"plymouth satellite custom (sw)\", \"h1\": 150.0, \"h2\": 22500.0, \"h3\": 3375000.0, \"pred\": 14.890156621920994}, {\"mpg\": 18.0, \"cylinders\": 4, \"displacement\": 121.0, \"horsepower\": 112.0, \"weight\": 2933, \"acceleration\": 14.5, \"model_year\": 72, \"origin\": \"europe\", \"name\": \"volvo 145e (sw)\", \"h1\": 112.0, \"h2\": 12544.0, \"h3\": 1404928.0, \"pred\": 20.036832964808042}, {\"mpg\": 22.0, \"cylinders\": 4, \"displacement\": 121.0, \"horsepower\": 76.0, \"weight\": 2511, \"acceleration\": 18.0, \"model_year\": 72, \"origin\": \"europe\", \"name\": \"volkswagen 411 (sw)\", \"h1\": 76.0, \"h2\": 5776.0, \"h3\": 438976.0, \"pred\": 28.518226948841566}, {\"mpg\": 21.0, \"cylinders\": 4, \"displacement\": 120.0, \"horsepower\": 87.0, \"weight\": 2979, \"acceleration\": 19.5, \"model_year\": 72, \"origin\": \"europe\", \"name\": \"peugeot 504 (sw)\", \"h1\": 87.0, \"h2\": 7569.0, \"h3\": 658503.0, \"pred\": 25.5173003852465}, {\"mpg\": 26.0, \"cylinders\": 4, \"displacement\": 96.0, \"horsepower\": 69.0, \"weight\": 2189, \"acceleration\": 18.0, \"model_year\": 72, \"origin\": \"europe\", \"name\": \"renault 12 (sw)\", \"h1\": 69.0, \"h2\": 4761.0, \"h3\": 328509.0, \"pred\": 30.627112739871155}, {\"mpg\": 22.0, \"cylinders\": 4, \"displacement\": 122.0, \"horsepower\": 86.0, \"weight\": 2395, \"acceleration\": 16.0, \"model_year\": 72, \"origin\": \"usa\", \"name\": \"ford pinto (sw)\", \"h1\": 86.0, \"h2\": 7396.0, \"h3\": 636056.0, \"pred\": 25.77466687691213}, {\"mpg\": 28.0, \"cylinders\": 4, \"displacement\": 97.0, \"horsepower\": 92.0, \"weight\": 2288, \"acceleration\": 17.0, \"model_year\": 72, \"origin\": \"japan\", \"name\": \"datsun 510 (sw)\", \"h1\": 92.0, \"h2\": 8464.0, \"h3\": 778688.0, \"pred\": 24.275772588828225}, {\"mpg\": 23.0, \"cylinders\": 4, \"displacement\": 120.0, \"horsepower\": 97.0, \"weight\": 2506, \"acceleration\": 14.5, \"model_year\": 72, \"origin\": \"japan\", \"name\": \"toyouta corona mark ii (sw)\", \"h1\": 97.0, \"h2\": 9409.0, \"h3\": 912673.0, \"pred\": 23.108571918008607}, {\"mpg\": 28.0, \"cylinders\": 4, \"displacement\": 98.0, \"horsepower\": 80.0, \"weight\": 2164, \"acceleration\": 15.0, \"model_year\": 72, \"origin\": \"usa\", \"name\": \"dodge colt (sw)\", \"h1\": 80.0, \"h2\": 6400.0, \"h3\": 512000.0, \"pred\": 27.383374253038937}, {\"mpg\": 27.0, \"cylinders\": 4, \"displacement\": 97.0, \"horsepower\": 88.0, \"weight\": 2100, \"acceleration\": 16.5, \"model_year\": 72, \"origin\": \"japan\", \"name\": \"toyota corolla 1600 (sw)\", \"h1\": 88.0, \"h2\": 7744.0, \"h3\": 681472.0, \"pred\": 25.26297137738215}, {\"mpg\": 13.0, \"cylinders\": 8, \"displacement\": 350.0, \"horsepower\": 175.0, \"weight\": 4100, \"acceleration\": 13.0, \"model_year\": 73, \"origin\": \"usa\", \"name\": \"buick century 350\", \"h1\": 175.0, \"h2\": 30625.0, \"h3\": 5359375.0, \"pred\": 13.301159134643996}, {\"mpg\": 14.0, \"cylinders\": 8, \"displacement\": 304.0, \"horsepower\": 150.0, \"weight\": 3672, \"acceleration\": 11.5, \"model_year\": 73, \"origin\": \"usa\", \"name\": \"amc matador\", \"h1\": 150.0, \"h2\": 22500.0, \"h3\": 3375000.0, \"pred\": 14.890156621920994}, {\"mpg\": 13.0, \"cylinders\": 8, \"displacement\": 350.0, \"horsepower\": 145.0, \"weight\": 3988, \"acceleration\": 13.0, \"model_year\": 73, \"origin\": \"usa\", \"name\": \"chevrolet malibu\", \"h1\": 145.0, \"h2\": 21025.0, \"h3\": 3048625.0, \"pred\": 15.368470682157941}, {\"mpg\": 14.0, \"cylinders\": 8, \"displacement\": 302.0, \"horsepower\": 137.0, \"weight\": 4042, \"acceleration\": 14.5, \"model_year\": 73, \"origin\": \"usa\", \"name\": \"ford gran torino\", \"h1\": 137.0, \"h2\": 18769.0, \"h3\": 2571353.0, \"pred\": 16.253546740999788}, {\"mpg\": 15.0, \"cylinders\": 8, \"displacement\": 318.0, \"horsepower\": 150.0, \"weight\": 3777, \"acceleration\": 12.5, \"model_year\": 73, \"origin\": \"usa\", \"name\": \"dodge coronet custom\", \"h1\": 150.0, \"h2\": 22500.0, \"h3\": 3375000.0, \"pred\": 14.890156621920994}, {\"mpg\": 12.0, \"cylinders\": 8, \"displacement\": 429.0, \"horsepower\": 198.0, \"weight\": 4952, \"acceleration\": 11.5, \"model_year\": 73, \"origin\": \"usa\", \"name\": \"mercury marquis brougham\", \"h1\": 198.0, \"h2\": 39204.0, \"h3\": 7762392.0, \"pred\": 12.895065253108243}, {\"mpg\": 13.0, \"cylinders\": 8, \"displacement\": 400.0, \"horsepower\": 150.0, \"weight\": 4464, \"acceleration\": 12.0, \"model_year\": 73, \"origin\": \"usa\", \"name\": \"chevrolet caprice classic\", \"h1\": 150.0, \"h2\": 22500.0, \"h3\": 3375000.0, \"pred\": 14.890156621920994}, {\"mpg\": 13.0, \"cylinders\": 8, \"displacement\": 351.0, \"horsepower\": 158.0, \"weight\": 4363, \"acceleration\": 13.0, \"model_year\": 73, \"origin\": \"usa\", \"name\": \"ford ltd\", \"h1\": 158.0, \"h2\": 24964.0, \"h3\": 3944312.0, \"pred\": 14.239939457014664}, {\"mpg\": 14.0, \"cylinders\": 8, \"displacement\": 318.0, \"horsepower\": 150.0, \"weight\": 4237, \"acceleration\": 14.5, \"model_year\": 73, \"origin\": \"usa\", \"name\": \"plymouth fury gran sedan\", \"h1\": 150.0, \"h2\": 22500.0, \"h3\": 3375000.0, \"pred\": 14.890156621920994}, {\"mpg\": 13.0, \"cylinders\": 8, \"displacement\": 440.0, \"horsepower\": 215.0, \"weight\": 4735, \"acceleration\": 11.0, \"model_year\": 73, \"origin\": \"usa\", \"name\": \"chrysler new yorker brougham\", \"h1\": 215.0, \"h2\": 46225.0, \"h3\": 9938375.0, \"pred\": 13.150329660718661}, {\"mpg\": 12.0, \"cylinders\": 8, \"displacement\": 455.0, \"horsepower\": 225.0, \"weight\": 4951, \"acceleration\": 11.0, \"model_year\": 73, \"origin\": \"usa\", \"name\": \"buick electra 225 custom\", \"h1\": 225.0, \"h2\": 50625.0, \"h3\": 11390625.0, \"pred\": 13.49204045628425}, {\"mpg\": 13.0, \"cylinders\": 8, \"displacement\": 360.0, \"horsepower\": 175.0, \"weight\": 3821, \"acceleration\": 11.0, \"model_year\": 73, \"origin\": \"usa\", \"name\": \"amc ambassador brougham\", \"h1\": 175.0, \"h2\": 30625.0, \"h3\": 5359375.0, \"pred\": 13.301159134643996}, {\"mpg\": 18.0, \"cylinders\": 6, \"displacement\": 225.0, \"horsepower\": 105.0, \"weight\": 3121, \"acceleration\": 16.5, \"model_year\": 73, \"origin\": \"usa\", \"name\": \"plymouth valiant\", \"h1\": 105.0, \"h2\": 11025.0, \"h3\": 1157625.0, \"pred\": 21.39163278223674}, {\"mpg\": 16.0, \"cylinders\": 6, \"displacement\": 250.0, \"horsepower\": 100.0, \"weight\": 3278, \"acceleration\": 18.0, \"model_year\": 73, \"origin\": \"usa\", \"name\": \"chevrolet nova custom\", \"h1\": 100.0, \"h2\": 10000.0, \"h3\": 1000000.0, \"pred\": 22.443258788519906}, {\"mpg\": 18.0, \"cylinders\": 6, \"displacement\": 232.0, \"horsepower\": 100.0, \"weight\": 2945, \"acceleration\": 16.0, \"model_year\": 73, \"origin\": \"usa\", \"name\": \"amc hornet\", \"h1\": 100.0, \"h2\": 10000.0, \"h3\": 1000000.0, \"pred\": 22.443258788519906}, {\"mpg\": 18.0, \"cylinders\": 6, \"displacement\": 250.0, \"horsepower\": 88.0, \"weight\": 3021, \"acceleration\": 16.5, \"model_year\": 73, \"origin\": \"usa\", \"name\": \"ford maverick\", \"h1\": 88.0, \"h2\": 7744.0, \"h3\": 681472.0, \"pred\": 25.26297137738215}, {\"mpg\": 23.0, \"cylinders\": 6, \"displacement\": 198.0, \"horsepower\": 95.0, \"weight\": 2904, \"acceleration\": 16.0, \"model_year\": 73, \"origin\": \"usa\", \"name\": \"plymouth duster\", \"h1\": 95.0, \"h2\": 9025.0, \"h3\": 857375.0, \"pred\": 23.56663596930835}, {\"mpg\": 26.0, \"cylinders\": 4, \"displacement\": 97.0, \"horsepower\": 46.0, \"weight\": 1950, \"acceleration\": 21.0, \"model_year\": 73, \"origin\": \"europe\", \"name\": \"volkswagen super beetle\", \"h1\": 46.0, \"h2\": 2116.0, \"h3\": 97336.0, \"pred\": 38.70792285334719}, {\"mpg\": 11.0, \"cylinders\": 8, \"displacement\": 400.0, \"horsepower\": 150.0, \"weight\": 4997, \"acceleration\": 14.0, \"model_year\": 73, \"origin\": \"usa\", \"name\": \"chevrolet impala\", \"h1\": 150.0, \"h2\": 22500.0, \"h3\": 3375000.0, \"pred\": 14.890156621920994}, {\"mpg\": 12.0, \"cylinders\": 8, \"displacement\": 400.0, \"horsepower\": 167.0, \"weight\": 4906, \"acceleration\": 12.5, \"model_year\": 73, \"origin\": \"usa\", \"name\": \"ford country\", \"h1\": 167.0, \"h2\": 27889.0, \"h3\": 4657463.0, \"pred\": 13.670527831710181}, {\"mpg\": 13.0, \"cylinders\": 8, \"displacement\": 360.0, \"horsepower\": 170.0, \"weight\": 4654, \"acceleration\": 13.0, \"model_year\": 73, \"origin\": \"usa\", \"name\": \"plymouth custom suburb\", \"h1\": 170.0, \"h2\": 28900.0, \"h3\": 4913000.0, \"pred\": 13.517315488356232}, {\"mpg\": 12.0, \"cylinders\": 8, \"displacement\": 350.0, \"horsepower\": 180.0, \"weight\": 4499, \"acceleration\": 12.5, \"model_year\": 73, \"origin\": \"usa\", \"name\": \"oldsmobile vista cruiser\", \"h1\": 180.0, \"h2\": 32400.0, \"h3\": 5832000.0, \"pred\": 13.132604413936612}, {\"mpg\": 18.0, \"cylinders\": 6, \"displacement\": 232.0, \"horsepower\": 100.0, \"weight\": 2789, \"acceleration\": 15.0, \"model_year\": 73, \"origin\": \"usa\", \"name\": \"amc gremlin\", \"h1\": 100.0, \"h2\": 10000.0, \"h3\": 1000000.0, \"pred\": 22.443258788519906}, {\"mpg\": 20.0, \"cylinders\": 4, \"displacement\": 97.0, \"horsepower\": 88.0, \"weight\": 2279, \"acceleration\": 19.0, \"model_year\": 73, \"origin\": \"japan\", \"name\": \"toyota carina\", \"h1\": 88.0, \"h2\": 7744.0, \"h3\": 681472.0, \"pred\": 25.26297137738215}, {\"mpg\": 21.0, \"cylinders\": 4, \"displacement\": 140.0, \"horsepower\": 72.0, \"weight\": 2401, \"acceleration\": 19.5, \"model_year\": 73, \"origin\": \"usa\", \"name\": \"chevrolet vega\", \"h1\": 72.0, \"h2\": 5184.0, \"h3\": 373248.0, \"pred\": 29.703946222426847}, {\"mpg\": 22.0, \"cylinders\": 4, \"displacement\": 108.0, \"horsepower\": 94.0, \"weight\": 2379, \"acceleration\": 16.5, \"model_year\": 73, \"origin\": \"japan\", \"name\": \"datsun 610\", \"h1\": 94.0, \"h2\": 8836.0, \"h3\": 830584.0, \"pred\": 23.800063223716812}, {\"mpg\": 18.0, \"cylinders\": 3, \"displacement\": 70.0, \"horsepower\": 90.0, \"weight\": 2124, \"acceleration\": 13.5, \"model_year\": 73, \"origin\": \"japan\", \"name\": \"maxda rx3\", \"h1\": 90.0, \"h2\": 8100.0, \"h3\": 729000.0, \"pred\": 24.76337429403543}, {\"mpg\": 19.0, \"cylinders\": 4, \"displacement\": 122.0, \"horsepower\": 85.0, \"weight\": 2310, \"acceleration\": 18.5, \"model_year\": 73, \"origin\": \"usa\", \"name\": \"ford pinto\", \"h1\": 85.0, \"h2\": 7225.0, \"h3\": 614125.0, \"pred\": 26.03508373213451}, {\"mpg\": 21.0, \"cylinders\": 6, \"displacement\": 155.0, \"horsepower\": 107.0, \"weight\": 2472, \"acceleration\": 14.0, \"model_year\": 73, \"origin\": \"usa\", \"name\": \"mercury capri v6\", \"h1\": 107.0, \"h2\": 11449.0, \"h3\": 1225043.0, \"pred\": 20.990712075431873}, {\"mpg\": 26.0, \"cylinders\": 4, \"displacement\": 98.0, \"horsepower\": 90.0, \"weight\": 2265, \"acceleration\": 15.5, \"model_year\": 73, \"origin\": \"europe\", \"name\": \"fiat 124 sport coupe\", \"h1\": 90.0, \"h2\": 8100.0, \"h3\": 729000.0, \"pred\": 24.76337429403543}, {\"mpg\": 15.0, \"cylinders\": 8, \"displacement\": 350.0, \"horsepower\": 145.0, \"weight\": 4082, \"acceleration\": 13.0, \"model_year\": 73, \"origin\": \"usa\", \"name\": \"chevrolet monte carlo s\", \"h1\": 145.0, \"h2\": 21025.0, \"h3\": 3048625.0, \"pred\": 15.368470682157941}, {\"mpg\": 16.0, \"cylinders\": 8, \"displacement\": 400.0, \"horsepower\": 230.0, \"weight\": 4278, \"acceleration\": 9.5, \"model_year\": 73, \"origin\": \"usa\", \"name\": \"pontiac grand prix\", \"h1\": 230.0, \"h2\": 52900.0, \"h3\": 12167000.0, \"pred\": 13.710953746790594}, {\"mpg\": 29.0, \"cylinders\": 4, \"displacement\": 68.0, \"horsepower\": 49.0, \"weight\": 1867, \"acceleration\": 19.5, \"model_year\": 73, \"origin\": \"europe\", \"name\": \"fiat 128\", \"h1\": 49.0, \"h2\": 2401.0, \"h3\": 117649.0, \"pred\": 37.550286266052495}, {\"mpg\": 24.0, \"cylinders\": 4, \"displacement\": 116.0, \"horsepower\": 75.0, \"weight\": 2158, \"acceleration\": 15.5, \"model_year\": 73, \"origin\": \"europe\", \"name\": \"opel manta\", \"h1\": 75.0, \"h2\": 5625.0, \"h3\": 421875.0, \"pred\": 28.80985582618209}, {\"mpg\": 20.0, \"cylinders\": 4, \"displacement\": 114.0, \"horsepower\": 91.0, \"weight\": 2582, \"acceleration\": 14.0, \"model_year\": 73, \"origin\": \"europe\", \"name\": \"audi 100ls\", \"h1\": 91.0, \"h2\": 8281.0, \"h3\": 753571.0, \"pred\": 24.518080459042125}, {\"mpg\": 19.0, \"cylinders\": 4, \"displacement\": 121.0, \"horsepower\": 112.0, \"weight\": 2868, \"acceleration\": 15.5, \"model_year\": 73, \"origin\": \"europe\", \"name\": \"volvo 144ea\", \"h1\": 112.0, \"h2\": 12544.0, \"h3\": 1404928.0, \"pred\": 20.036832964808042}, {\"mpg\": 15.0, \"cylinders\": 8, \"displacement\": 318.0, \"horsepower\": 150.0, \"weight\": 3399, \"acceleration\": 11.0, \"model_year\": 73, \"origin\": \"usa\", \"name\": \"dodge dart custom\", \"h1\": 150.0, \"h2\": 22500.0, \"h3\": 3375000.0, \"pred\": 14.890156621920994}, {\"mpg\": 24.0, \"cylinders\": 4, \"displacement\": 121.0, \"horsepower\": 110.0, \"weight\": 2660, \"acceleration\": 14.0, \"model_year\": 73, \"origin\": \"europe\", \"name\": \"saab 99le\", \"h1\": 110.0, \"h2\": 12100.0, \"h3\": 1331000.0, \"pred\": 20.41014798102548}, {\"mpg\": 20.0, \"cylinders\": 6, \"displacement\": 156.0, \"horsepower\": 122.0, \"weight\": 2807, \"acceleration\": 13.5, \"model_year\": 73, \"origin\": \"japan\", \"name\": \"toyota mark ii\", \"h1\": 122.0, \"h2\": 14884.0, \"h3\": 1815848.0, \"pred\": 18.331126517722645}, {\"mpg\": 11.0, \"cylinders\": 8, \"displacement\": 350.0, \"horsepower\": 180.0, \"weight\": 3664, \"acceleration\": 11.0, \"model_year\": 73, \"origin\": \"usa\", \"name\": \"oldsmobile omega\", \"h1\": 180.0, \"h2\": 32400.0, \"h3\": 5832000.0, \"pred\": 13.132604413936612}, {\"mpg\": 20.0, \"cylinders\": 6, \"displacement\": 198.0, \"horsepower\": 95.0, \"weight\": 3102, \"acceleration\": 16.5, \"model_year\": 74, \"origin\": \"usa\", \"name\": \"plymouth duster\", \"h1\": 95.0, \"h2\": 9025.0, \"h3\": 857375.0, \"pred\": 23.56663596930835}, {\"mpg\": 19.0, \"cylinders\": 6, \"displacement\": 232.0, \"horsepower\": 100.0, \"weight\": 2901, \"acceleration\": 16.0, \"model_year\": 74, \"origin\": \"usa\", \"name\": \"amc hornet\", \"h1\": 100.0, \"h2\": 10000.0, \"h3\": 1000000.0, \"pred\": 22.443258788519906}, {\"mpg\": 15.0, \"cylinders\": 6, \"displacement\": 250.0, \"horsepower\": 100.0, \"weight\": 3336, \"acceleration\": 17.0, \"model_year\": 74, \"origin\": \"usa\", \"name\": \"chevrolet nova\", \"h1\": 100.0, \"h2\": 10000.0, \"h3\": 1000000.0, \"pred\": 22.443258788519906}, {\"mpg\": 31.0, \"cylinders\": 4, \"displacement\": 79.0, \"horsepower\": 67.0, \"weight\": 1950, \"acceleration\": 19.0, \"model_year\": 74, \"origin\": \"japan\", \"name\": \"datsun b210\", \"h1\": 67.0, \"h2\": 4489.0, \"h3\": 300763.0, \"pred\": 31.258882215573337}, {\"mpg\": 26.0, \"cylinders\": 4, \"displacement\": 122.0, \"horsepower\": 80.0, \"weight\": 2451, \"acceleration\": 16.5, \"model_year\": 74, \"origin\": \"usa\", \"name\": \"ford pinto\", \"h1\": 80.0, \"h2\": 6400.0, \"h3\": 512000.0, \"pred\": 27.383374253038937}, {\"mpg\": 32.0, \"cylinders\": 4, \"displacement\": 71.0, \"horsepower\": 65.0, \"weight\": 1836, \"acceleration\": 21.0, \"model_year\": 74, \"origin\": \"japan\", \"name\": \"toyota corolla 1200\", \"h1\": 65.0, \"h2\": 4225.0, \"h3\": 274625.0, \"pred\": 31.903832006917995}, {\"mpg\": 25.0, \"cylinders\": 4, \"displacement\": 140.0, \"horsepower\": 75.0, \"weight\": 2542, \"acceleration\": 17.0, \"model_year\": 74, \"origin\": \"usa\", \"name\": \"chevrolet vega\", \"h1\": 75.0, \"h2\": 5625.0, \"h3\": 421875.0, \"pred\": 28.80985582618209}, {\"mpg\": 16.0, \"cylinders\": 6, \"displacement\": 250.0, \"horsepower\": 100.0, \"weight\": 3781, \"acceleration\": 17.0, \"model_year\": 74, \"origin\": \"usa\", \"name\": \"chevrolet chevelle malibu classic\", \"h1\": 100.0, \"h2\": 10000.0, \"h3\": 1000000.0, \"pred\": 22.443258788519906}, {\"mpg\": 16.0, \"cylinders\": 6, \"displacement\": 258.0, \"horsepower\": 110.0, \"weight\": 3632, \"acceleration\": 18.0, \"model_year\": 74, \"origin\": \"usa\", \"name\": \"amc matador\", \"h1\": 110.0, \"h2\": 12100.0, \"h3\": 1331000.0, \"pred\": 20.41014798102548}, {\"mpg\": 18.0, \"cylinders\": 6, \"displacement\": 225.0, \"horsepower\": 105.0, \"weight\": 3613, \"acceleration\": 16.5, \"model_year\": 74, \"origin\": \"usa\", \"name\": \"plymouth satellite sebring\", \"h1\": 105.0, \"h2\": 11025.0, \"h3\": 1157625.0, \"pred\": 21.39163278223674}, {\"mpg\": 16.0, \"cylinders\": 8, \"displacement\": 302.0, \"horsepower\": 140.0, \"weight\": 4141, \"acceleration\": 14.0, \"model_year\": 74, \"origin\": \"usa\", \"name\": \"ford gran torino\", \"h1\": 140.0, \"h2\": 19600.0, \"h3\": 2744000.0, \"pred\": 15.90404619199991}, {\"mpg\": 13.0, \"cylinders\": 8, \"displacement\": 350.0, \"horsepower\": 150.0, \"weight\": 4699, \"acceleration\": 14.5, \"model_year\": 74, \"origin\": \"usa\", \"name\": \"buick century luxus (sw)\", \"h1\": 150.0, \"h2\": 22500.0, \"h3\": 3375000.0, \"pred\": 14.890156621920994}, {\"mpg\": 14.0, \"cylinders\": 8, \"displacement\": 318.0, \"horsepower\": 150.0, \"weight\": 4457, \"acceleration\": 13.5, \"model_year\": 74, \"origin\": \"usa\", \"name\": \"dodge coronet custom (sw)\", \"h1\": 150.0, \"h2\": 22500.0, \"h3\": 3375000.0, \"pred\": 14.890156621920994}, {\"mpg\": 14.0, \"cylinders\": 8, \"displacement\": 302.0, \"horsepower\": 140.0, \"weight\": 4638, \"acceleration\": 16.0, \"model_year\": 74, \"origin\": \"usa\", \"name\": \"ford gran torino (sw)\", \"h1\": 140.0, \"h2\": 19600.0, \"h3\": 2744000.0, \"pred\": 15.90404619199991}, {\"mpg\": 14.0, \"cylinders\": 8, \"displacement\": 304.0, \"horsepower\": 150.0, \"weight\": 4257, \"acceleration\": 15.5, \"model_year\": 74, \"origin\": \"usa\", \"name\": \"amc matador (sw)\", \"h1\": 150.0, \"h2\": 22500.0, \"h3\": 3375000.0, \"pred\": 14.890156621920994}, {\"mpg\": 29.0, \"cylinders\": 4, \"displacement\": 98.0, \"horsepower\": 83.0, \"weight\": 2219, \"acceleration\": 16.5, \"model_year\": 74, \"origin\": \"europe\", \"name\": \"audi fox\", \"h1\": 83.0, \"h2\": 6889.0, \"h3\": 571787.0, \"pred\": 26.565120052271368}, {\"mpg\": 26.0, \"cylinders\": 4, \"displacement\": 79.0, \"horsepower\": 67.0, \"weight\": 1963, \"acceleration\": 15.5, \"model_year\": 74, \"origin\": \"europe\", \"name\": \"volkswagen dasher\", \"h1\": 67.0, \"h2\": 4489.0, \"h3\": 300763.0, \"pred\": 31.258882215573337}, {\"mpg\": 26.0, \"cylinders\": 4, \"displacement\": 97.0, \"horsepower\": 78.0, \"weight\": 2300, \"acceleration\": 14.5, \"model_year\": 74, \"origin\": \"europe\", \"name\": \"opel manta\", \"h1\": 78.0, \"h2\": 6084.0, \"h3\": 474552.0, \"pred\": 27.944493797739284}, {\"mpg\": 31.0, \"cylinders\": 4, \"displacement\": 76.0, \"horsepower\": 52.0, \"weight\": 1649, \"acceleration\": 16.5, \"model_year\": 74, \"origin\": \"japan\", \"name\": \"toyota corona\", \"h1\": 52.0, \"h2\": 2704.0, \"h3\": 140608.0, \"pred\": 36.42439190933901}, {\"mpg\": 32.0, \"cylinders\": 4, \"displacement\": 83.0, \"horsepower\": 61.0, \"weight\": 2003, \"acceleration\": 19.0, \"model_year\": 74, \"origin\": \"japan\", \"name\": \"datsun 710\", \"h1\": 61.0, \"h2\": 3721.0, \"h3\": 226981.0, \"pred\": 33.23368468870967}, {\"mpg\": 28.0, \"cylinders\": 4, \"displacement\": 90.0, \"horsepower\": 75.0, \"weight\": 2125, \"acceleration\": 14.5, \"model_year\": 74, \"origin\": \"usa\", \"name\": \"dodge colt\", \"h1\": 75.0, \"h2\": 5625.0, \"h3\": 421875.0, \"pred\": 28.80985582618209}, {\"mpg\": 24.0, \"cylinders\": 4, \"displacement\": 90.0, \"horsepower\": 75.0, \"weight\": 2108, \"acceleration\": 15.5, \"model_year\": 74, \"origin\": \"europe\", \"name\": \"fiat 128\", \"h1\": 75.0, \"h2\": 5625.0, \"h3\": 421875.0, \"pred\": 28.80985582618209}, {\"mpg\": 26.0, \"cylinders\": 4, \"displacement\": 116.0, \"horsepower\": 75.0, \"weight\": 2246, \"acceleration\": 14.0, \"model_year\": 74, \"origin\": \"europe\", \"name\": \"fiat 124 tc\", \"h1\": 75.0, \"h2\": 5625.0, \"h3\": 421875.0, \"pred\": 28.80985582618209}, {\"mpg\": 24.0, \"cylinders\": 4, \"displacement\": 120.0, \"horsepower\": 97.0, \"weight\": 2489, \"acceleration\": 15.0, \"model_year\": 74, \"origin\": \"japan\", \"name\": \"honda civic\", \"h1\": 97.0, \"h2\": 9409.0, \"h3\": 912673.0, \"pred\": 23.108571918008607}, {\"mpg\": 26.0, \"cylinders\": 4, \"displacement\": 108.0, \"horsepower\": 93.0, \"weight\": 2391, \"acceleration\": 15.5, \"model_year\": 74, \"origin\": \"japan\", \"name\": \"subaru\", \"h1\": 93.0, \"h2\": 8649.0, \"h3\": 804357.0, \"pred\": 24.03643780363828}, {\"mpg\": 31.0, \"cylinders\": 4, \"displacement\": 79.0, \"horsepower\": 67.0, \"weight\": 2000, \"acceleration\": 16.0, \"model_year\": 74, \"origin\": \"europe\", \"name\": \"fiat x1.9\", \"h1\": 67.0, \"h2\": 4489.0, \"h3\": 300763.0, \"pred\": 31.258882215573337}, {\"mpg\": 19.0, \"cylinders\": 6, \"displacement\": 225.0, \"horsepower\": 95.0, \"weight\": 3264, \"acceleration\": 16.0, \"model_year\": 75, \"origin\": \"usa\", \"name\": \"plymouth valiant custom\", \"h1\": 95.0, \"h2\": 9025.0, \"h3\": 857375.0, \"pred\": 23.56663596930835}, {\"mpg\": 18.0, \"cylinders\": 6, \"displacement\": 250.0, \"horsepower\": 105.0, \"weight\": 3459, \"acceleration\": 16.0, \"model_year\": 75, \"origin\": \"usa\", \"name\": \"chevrolet nova\", \"h1\": 105.0, \"h2\": 11025.0, \"h3\": 1157625.0, \"pred\": 21.39163278223674}, {\"mpg\": 15.0, \"cylinders\": 6, \"displacement\": 250.0, \"horsepower\": 72.0, \"weight\": 3432, \"acceleration\": 21.0, \"model_year\": 75, \"origin\": \"usa\", \"name\": \"mercury monarch\", \"h1\": 72.0, \"h2\": 5184.0, \"h3\": 373248.0, \"pred\": 29.703946222426847}, {\"mpg\": 15.0, \"cylinders\": 6, \"displacement\": 250.0, \"horsepower\": 72.0, \"weight\": 3158, \"acceleration\": 19.5, \"model_year\": 75, \"origin\": \"usa\", \"name\": \"ford maverick\", \"h1\": 72.0, \"h2\": 5184.0, \"h3\": 373248.0, \"pred\": 29.703946222426847}, {\"mpg\": 16.0, \"cylinders\": 8, \"displacement\": 400.0, \"horsepower\": 170.0, \"weight\": 4668, \"acceleration\": 11.5, \"model_year\": 75, \"origin\": \"usa\", \"name\": \"pontiac catalina\", \"h1\": 170.0, \"h2\": 28900.0, \"h3\": 4913000.0, \"pred\": 13.517315488356232}, {\"mpg\": 15.0, \"cylinders\": 8, \"displacement\": 350.0, \"horsepower\": 145.0, \"weight\": 4440, \"acceleration\": 14.0, \"model_year\": 75, \"origin\": \"usa\", \"name\": \"chevrolet bel air\", \"h1\": 145.0, \"h2\": 21025.0, \"h3\": 3048625.0, \"pred\": 15.368470682157941}, {\"mpg\": 16.0, \"cylinders\": 8, \"displacement\": 318.0, \"horsepower\": 150.0, \"weight\": 4498, \"acceleration\": 14.5, \"model_year\": 75, \"origin\": \"usa\", \"name\": \"plymouth grand fury\", \"h1\": 150.0, \"h2\": 22500.0, \"h3\": 3375000.0, \"pred\": 14.890156621920994}, {\"mpg\": 14.0, \"cylinders\": 8, \"displacement\": 351.0, \"horsepower\": 148.0, \"weight\": 4657, \"acceleration\": 13.5, \"model_year\": 75, \"origin\": \"usa\", \"name\": \"ford ltd\", \"h1\": 148.0, \"h2\": 21904.0, \"h3\": 3241792.0, \"pred\": 15.074713910106901}, {\"mpg\": 17.0, \"cylinders\": 6, \"displacement\": 231.0, \"horsepower\": 110.0, \"weight\": 3907, \"acceleration\": 21.0, \"model_year\": 75, \"origin\": \"usa\", \"name\": \"buick century\", \"h1\": 110.0, \"h2\": 12100.0, \"h3\": 1331000.0, \"pred\": 20.41014798102548}, {\"mpg\": 16.0, \"cylinders\": 6, \"displacement\": 250.0, \"horsepower\": 105.0, \"weight\": 3897, \"acceleration\": 18.5, \"model_year\": 75, \"origin\": \"usa\", \"name\": \"chevroelt chevelle malibu\", \"h1\": 105.0, \"h2\": 11025.0, \"h3\": 1157625.0, \"pred\": 21.39163278223674}, {\"mpg\": 15.0, \"cylinders\": 6, \"displacement\": 258.0, \"horsepower\": 110.0, \"weight\": 3730, \"acceleration\": 19.0, \"model_year\": 75, \"origin\": \"usa\", \"name\": \"amc matador\", \"h1\": 110.0, \"h2\": 12100.0, \"h3\": 1331000.0, \"pred\": 20.41014798102548}, {\"mpg\": 18.0, \"cylinders\": 6, \"displacement\": 225.0, \"horsepower\": 95.0, \"weight\": 3785, \"acceleration\": 19.0, \"model_year\": 75, \"origin\": \"usa\", \"name\": \"plymouth fury\", \"h1\": 95.0, \"h2\": 9025.0, \"h3\": 857375.0, \"pred\": 23.56663596930835}, {\"mpg\": 21.0, \"cylinders\": 6, \"displacement\": 231.0, \"horsepower\": 110.0, \"weight\": 3039, \"acceleration\": 15.0, \"model_year\": 75, \"origin\": \"usa\", \"name\": \"buick skyhawk\", \"h1\": 110.0, \"h2\": 12100.0, \"h3\": 1331000.0, \"pred\": 20.41014798102548}, {\"mpg\": 20.0, \"cylinders\": 8, \"displacement\": 262.0, \"horsepower\": 110.0, \"weight\": 3221, \"acceleration\": 13.5, \"model_year\": 75, \"origin\": \"usa\", \"name\": \"chevrolet monza 2+2\", \"h1\": 110.0, \"h2\": 12100.0, \"h3\": 1331000.0, \"pred\": 20.41014798102548}, {\"mpg\": 13.0, \"cylinders\": 8, \"displacement\": 302.0, \"horsepower\": 129.0, \"weight\": 3169, \"acceleration\": 12.0, \"model_year\": 75, \"origin\": \"usa\", \"name\": \"ford mustang ii\", \"h1\": 129.0, \"h2\": 16641.0, \"h3\": 2146689.0, \"pred\": 17.29180654562954}, {\"mpg\": 29.0, \"cylinders\": 4, \"displacement\": 97.0, \"horsepower\": 75.0, \"weight\": 2171, \"acceleration\": 16.0, \"model_year\": 75, \"origin\": \"japan\", \"name\": \"toyota corolla\", \"h1\": 75.0, \"h2\": 5625.0, \"h3\": 421875.0, \"pred\": 28.80985582618209}, {\"mpg\": 23.0, \"cylinders\": 4, \"displacement\": 140.0, \"horsepower\": 83.0, \"weight\": 2639, \"acceleration\": 17.0, \"model_year\": 75, \"origin\": \"usa\", \"name\": \"ford pinto\", \"h1\": 83.0, \"h2\": 6889.0, \"h3\": 571787.0, \"pred\": 26.565120052271368}, {\"mpg\": 20.0, \"cylinders\": 6, \"displacement\": 232.0, \"horsepower\": 100.0, \"weight\": 2914, \"acceleration\": 16.0, \"model_year\": 75, \"origin\": \"usa\", \"name\": \"amc gremlin\", \"h1\": 100.0, \"h2\": 10000.0, \"h3\": 1000000.0, \"pred\": 22.443258788519906}, {\"mpg\": 23.0, \"cylinders\": 4, \"displacement\": 140.0, \"horsepower\": 78.0, \"weight\": 2592, \"acceleration\": 18.5, \"model_year\": 75, \"origin\": \"usa\", \"name\": \"pontiac astro\", \"h1\": 78.0, \"h2\": 6084.0, \"h3\": 474552.0, \"pred\": 27.944493797739284}, {\"mpg\": 24.0, \"cylinders\": 4, \"displacement\": 134.0, \"horsepower\": 96.0, \"weight\": 2702, \"acceleration\": 13.5, \"model_year\": 75, \"origin\": \"japan\", \"name\": \"toyota corona\", \"h1\": 96.0, \"h2\": 9216.0, \"h3\": 884736.0, \"pred\": 23.336143160657436}, {\"mpg\": 25.0, \"cylinders\": 4, \"displacement\": 90.0, \"horsepower\": 71.0, \"weight\": 2223, \"acceleration\": 16.5, \"model_year\": 75, \"origin\": \"europe\", \"name\": \"volkswagen dasher\", \"h1\": 71.0, \"h2\": 5041.0, \"h3\": 357911.0, \"pred\": 30.008420541767705}, {\"mpg\": 24.0, \"cylinders\": 4, \"displacement\": 119.0, \"horsepower\": 97.0, \"weight\": 2545, \"acceleration\": 17.0, \"model_year\": 75, \"origin\": \"japan\", \"name\": \"datsun 710\", \"h1\": 97.0, \"h2\": 9409.0, \"h3\": 912673.0, \"pred\": 23.108571918008607}, {\"mpg\": 18.0, \"cylinders\": 6, \"displacement\": 171.0, \"horsepower\": 97.0, \"weight\": 2984, \"acceleration\": 14.5, \"model_year\": 75, \"origin\": \"usa\", \"name\": \"ford pinto\", \"h1\": 97.0, \"h2\": 9409.0, \"h3\": 912673.0, \"pred\": 23.108571918008607}, {\"mpg\": 29.0, \"cylinders\": 4, \"displacement\": 90.0, \"horsepower\": 70.0, \"weight\": 1937, \"acceleration\": 14.0, \"model_year\": 75, \"origin\": \"europe\", \"name\": \"volkswagen rabbit\", \"h1\": 70.0, \"h2\": 4900.0, \"h3\": 343000.0, \"pred\": 30.316138420997323}, {\"mpg\": 19.0, \"cylinders\": 6, \"displacement\": 232.0, \"horsepower\": 90.0, \"weight\": 3211, \"acceleration\": 17.0, \"model_year\": 75, \"origin\": \"usa\", \"name\": \"amc pacer\", \"h1\": 90.0, \"h2\": 8100.0, \"h3\": 729000.0, \"pred\": 24.76337429403543}, {\"mpg\": 23.0, \"cylinders\": 4, \"displacement\": 115.0, \"horsepower\": 95.0, \"weight\": 2694, \"acceleration\": 15.0, \"model_year\": 75, \"origin\": \"europe\", \"name\": \"audi 100ls\", \"h1\": 95.0, \"h2\": 9025.0, \"h3\": 857375.0, \"pred\": 23.56663596930835}, {\"mpg\": 23.0, \"cylinders\": 4, \"displacement\": 120.0, \"horsepower\": 88.0, \"weight\": 2957, \"acceleration\": 17.0, \"model_year\": 75, \"origin\": \"europe\", \"name\": \"peugeot 504\", \"h1\": 88.0, \"h2\": 7744.0, \"h3\": 681472.0, \"pred\": 25.26297137738215}, {\"mpg\": 22.0, \"cylinders\": 4, \"displacement\": 121.0, \"horsepower\": 98.0, \"weight\": 2945, \"acceleration\": 14.5, \"model_year\": 75, \"origin\": \"europe\", \"name\": \"volvo 244dl\", \"h1\": 98.0, \"h2\": 9604.0, \"h3\": 941192.0, \"pred\": 22.883909361606385}, {\"mpg\": 25.0, \"cylinders\": 4, \"displacement\": 121.0, \"horsepower\": 115.0, \"weight\": 2671, \"acceleration\": 13.5, \"model_year\": 75, \"origin\": \"europe\", \"name\": \"saab 99le\", \"h1\": 115.0, \"h2\": 13225.0, \"h3\": 1520875.0, \"pred\": 19.497194415452782}, {\"mpg\": 33.0, \"cylinders\": 4, \"displacement\": 91.0, \"horsepower\": 53.0, \"weight\": 1795, \"acceleration\": 17.5, \"model_year\": 75, \"origin\": \"japan\", \"name\": \"honda civic cvcc\", \"h1\": 53.0, \"h2\": 2809.0, \"h3\": 148877.0, \"pred\": 36.05608751392704}, {\"mpg\": 28.0, \"cylinders\": 4, \"displacement\": 107.0, \"horsepower\": 86.0, \"weight\": 2464, \"acceleration\": 15.5, \"model_year\": 76, \"origin\": \"europe\", \"name\": \"fiat 131\", \"h1\": 86.0, \"h2\": 7396.0, \"h3\": 636056.0, \"pred\": 25.77466687691213}, {\"mpg\": 25.0, \"cylinders\": 4, \"displacement\": 116.0, \"horsepower\": 81.0, \"weight\": 2220, \"acceleration\": 16.9, \"model_year\": 76, \"origin\": \"europe\", \"name\": \"opel 1900\", \"h1\": 81.0, \"h2\": 6561.0, \"h3\": 531441.0, \"pred\": 27.107512383700822}, {\"mpg\": 25.0, \"cylinders\": 4, \"displacement\": 140.0, \"horsepower\": 92.0, \"weight\": 2572, \"acceleration\": 14.9, \"model_year\": 76, \"origin\": \"usa\", \"name\": \"capri ii\", \"h1\": 92.0, \"h2\": 8464.0, \"h3\": 778688.0, \"pred\": 24.275772588828225}, {\"mpg\": 26.0, \"cylinders\": 4, \"displacement\": 98.0, \"horsepower\": 79.0, \"weight\": 2255, \"acceleration\": 17.7, \"model_year\": 76, \"origin\": \"usa\", \"name\": \"dodge colt\", \"h1\": 79.0, \"h2\": 6241.0, \"h3\": 493039.0, \"pred\": 27.662363764466605}, {\"mpg\": 27.0, \"cylinders\": 4, \"displacement\": 101.0, \"horsepower\": 83.0, \"weight\": 2202, \"acceleration\": 15.3, \"model_year\": 76, \"origin\": \"europe\", \"name\": \"renault 12tl\", \"h1\": 83.0, \"h2\": 6889.0, \"h3\": 571787.0, \"pred\": 26.565120052271368}, {\"mpg\": 17.5, \"cylinders\": 8, \"displacement\": 305.0, \"horsepower\": 140.0, \"weight\": 4215, \"acceleration\": 13.0, \"model_year\": 76, \"origin\": \"usa\", \"name\": \"chevrolet chevelle malibu classic\", \"h1\": 140.0, \"h2\": 19600.0, \"h3\": 2744000.0, \"pred\": 15.90404619199991}, {\"mpg\": 16.0, \"cylinders\": 8, \"displacement\": 318.0, \"horsepower\": 150.0, \"weight\": 4190, \"acceleration\": 13.0, \"model_year\": 76, \"origin\": \"usa\", \"name\": \"dodge coronet brougham\", \"h1\": 150.0, \"h2\": 22500.0, \"h3\": 3375000.0, \"pred\": 14.890156621920994}, {\"mpg\": 15.5, \"cylinders\": 8, \"displacement\": 304.0, \"horsepower\": 120.0, \"weight\": 3962, \"acceleration\": 13.9, \"model_year\": 76, \"origin\": \"usa\", \"name\": \"amc matador\", \"h1\": 120.0, \"h2\": 14400.0, \"h3\": 1728000.0, \"pred\": 18.651162116085267}, {\"mpg\": 14.5, \"cylinders\": 8, \"displacement\": 351.0, \"horsepower\": 152.0, \"weight\": 4215, \"acceleration\": 12.8, \"model_year\": 76, \"origin\": \"usa\", \"name\": \"ford gran torino\", \"h1\": 152.0, \"h2\": 23104.0, \"h3\": 3511808.0, \"pred\": 14.714503570562549}, {\"mpg\": 22.0, \"cylinders\": 6, \"displacement\": 225.0, \"horsepower\": 100.0, \"weight\": 3233, \"acceleration\": 15.4, \"model_year\": 76, \"origin\": \"usa\", \"name\": \"plymouth valiant\", \"h1\": 100.0, \"h2\": 10000.0, \"h3\": 1000000.0, \"pred\": 22.443258788519906}, {\"mpg\": 22.0, \"cylinders\": 6, \"displacement\": 250.0, \"horsepower\": 105.0, \"weight\": 3353, \"acceleration\": 14.5, \"model_year\": 76, \"origin\": \"usa\", \"name\": \"chevrolet nova\", \"h1\": 105.0, \"h2\": 11025.0, \"h3\": 1157625.0, \"pred\": 21.39163278223674}, {\"mpg\": 24.0, \"cylinders\": 6, \"displacement\": 200.0, \"horsepower\": 81.0, \"weight\": 3012, \"acceleration\": 17.6, \"model_year\": 76, \"origin\": \"usa\", \"name\": \"ford maverick\", \"h1\": 81.0, \"h2\": 6561.0, \"h3\": 531441.0, \"pred\": 27.107512383700822}, {\"mpg\": 22.5, \"cylinders\": 6, \"displacement\": 232.0, \"horsepower\": 90.0, \"weight\": 3085, \"acceleration\": 17.6, \"model_year\": 76, \"origin\": \"usa\", \"name\": \"amc hornet\", \"h1\": 90.0, \"h2\": 8100.0, \"h3\": 729000.0, \"pred\": 24.76337429403543}, {\"mpg\": 29.0, \"cylinders\": 4, \"displacement\": 85.0, \"horsepower\": 52.0, \"weight\": 2035, \"acceleration\": 22.2, \"model_year\": 76, \"origin\": \"usa\", \"name\": \"chevrolet chevette\", \"h1\": 52.0, \"h2\": 2704.0, \"h3\": 140608.0, \"pred\": 36.42439190933901}, {\"mpg\": 24.5, \"cylinders\": 4, \"displacement\": 98.0, \"horsepower\": 60.0, \"weight\": 2164, \"acceleration\": 22.1, \"model_year\": 76, \"origin\": \"usa\", \"name\": \"chevrolet woody\", \"h1\": 60.0, \"h2\": 3600.0, \"h3\": 216000.0, \"pred\": 33.57454655337747}, {\"mpg\": 29.0, \"cylinders\": 4, \"displacement\": 90.0, \"horsepower\": 70.0, \"weight\": 1937, \"acceleration\": 14.2, \"model_year\": 76, \"origin\": \"europe\", \"name\": \"vw rabbit\", \"h1\": 70.0, \"h2\": 4900.0, \"h3\": 343000.0, \"pred\": 30.316138420997323}, {\"mpg\": 33.0, \"cylinders\": 4, \"displacement\": 91.0, \"horsepower\": 53.0, \"weight\": 1795, \"acceleration\": 17.4, \"model_year\": 76, \"origin\": \"japan\", \"name\": \"honda civic\", \"h1\": 53.0, \"h2\": 2809.0, \"h3\": 148877.0, \"pred\": 36.05608751392704}, {\"mpg\": 20.0, \"cylinders\": 6, \"displacement\": 225.0, \"horsepower\": 100.0, \"weight\": 3651, \"acceleration\": 17.7, \"model_year\": 76, \"origin\": \"usa\", \"name\": \"dodge aspen se\", \"h1\": 100.0, \"h2\": 10000.0, \"h3\": 1000000.0, \"pred\": 22.443258788519906}, {\"mpg\": 18.0, \"cylinders\": 6, \"displacement\": 250.0, \"horsepower\": 78.0, \"weight\": 3574, \"acceleration\": 21.0, \"model_year\": 76, \"origin\": \"usa\", \"name\": \"ford granada ghia\", \"h1\": 78.0, \"h2\": 6084.0, \"h3\": 474552.0, \"pred\": 27.944493797739284}, {\"mpg\": 18.5, \"cylinders\": 6, \"displacement\": 250.0, \"horsepower\": 110.0, \"weight\": 3645, \"acceleration\": 16.2, \"model_year\": 76, \"origin\": \"usa\", \"name\": \"pontiac ventura sj\", \"h1\": 110.0, \"h2\": 12100.0, \"h3\": 1331000.0, \"pred\": 20.41014798102548}, {\"mpg\": 17.5, \"cylinders\": 6, \"displacement\": 258.0, \"horsepower\": 95.0, \"weight\": 3193, \"acceleration\": 17.8, \"model_year\": 76, \"origin\": \"usa\", \"name\": \"amc pacer d/l\", \"h1\": 95.0, \"h2\": 9025.0, \"h3\": 857375.0, \"pred\": 23.56663596930835}, {\"mpg\": 29.5, \"cylinders\": 4, \"displacement\": 97.0, \"horsepower\": 71.0, \"weight\": 1825, \"acceleration\": 12.2, \"model_year\": 76, \"origin\": \"europe\", \"name\": \"volkswagen rabbit\", \"h1\": 71.0, \"h2\": 5041.0, \"h3\": 357911.0, \"pred\": 30.008420541767705}, {\"mpg\": 32.0, \"cylinders\": 4, \"displacement\": 85.0, \"horsepower\": 70.0, \"weight\": 1990, \"acceleration\": 17.0, \"model_year\": 76, \"origin\": \"japan\", \"name\": \"datsun b-210\", \"h1\": 70.0, \"h2\": 4900.0, \"h3\": 343000.0, \"pred\": 30.316138420997323}, {\"mpg\": 28.0, \"cylinders\": 4, \"displacement\": 97.0, \"horsepower\": 75.0, \"weight\": 2155, \"acceleration\": 16.4, \"model_year\": 76, \"origin\": \"japan\", \"name\": \"toyota corolla\", \"h1\": 75.0, \"h2\": 5625.0, \"h3\": 421875.0, \"pred\": 28.80985582618209}, {\"mpg\": 26.5, \"cylinders\": 4, \"displacement\": 140.0, \"horsepower\": 72.0, \"weight\": 2565, \"acceleration\": 13.6, \"model_year\": 76, \"origin\": \"usa\", \"name\": \"ford pinto\", \"h1\": 72.0, \"h2\": 5184.0, \"h3\": 373248.0, \"pred\": 29.703946222426847}, {\"mpg\": 20.0, \"cylinders\": 4, \"displacement\": 130.0, \"horsepower\": 102.0, \"weight\": 3150, \"acceleration\": 15.7, \"model_year\": 76, \"origin\": \"europe\", \"name\": \"volvo 245\", \"h1\": 102.0, \"h2\": 10404.0, \"h3\": 1061208.0, \"pred\": 22.014088403354272}, {\"mpg\": 13.0, \"cylinders\": 8, \"displacement\": 318.0, \"horsepower\": 150.0, \"weight\": 3940, \"acceleration\": 13.2, \"model_year\": 76, \"origin\": \"usa\", \"name\": \"plymouth volare premier v8\", \"h1\": 150.0, \"h2\": 22500.0, \"h3\": 3375000.0, \"pred\": 14.890156621920994}, {\"mpg\": 19.0, \"cylinders\": 4, \"displacement\": 120.0, \"horsepower\": 88.0, \"weight\": 3270, \"acceleration\": 21.9, \"model_year\": 76, \"origin\": \"europe\", \"name\": \"peugeot 504\", \"h1\": 88.0, \"h2\": 7744.0, \"h3\": 681472.0, \"pred\": 25.26297137738215}, {\"mpg\": 19.0, \"cylinders\": 6, \"displacement\": 156.0, \"horsepower\": 108.0, \"weight\": 2930, \"acceleration\": 15.5, \"model_year\": 76, \"origin\": \"japan\", \"name\": \"toyota mark ii\", \"h1\": 108.0, \"h2\": 11664.0, \"h3\": 1259712.0, \"pred\": 20.79442799494509}, {\"mpg\": 16.5, \"cylinders\": 6, \"displacement\": 168.0, \"horsepower\": 120.0, \"weight\": 3820, \"acceleration\": 16.7, \"model_year\": 76, \"origin\": \"europe\", \"name\": \"mercedes-benz 280s\", \"h1\": 120.0, \"h2\": 14400.0, \"h3\": 1728000.0, \"pred\": 18.651162116085267}, {\"mpg\": 16.5, \"cylinders\": 8, \"displacement\": 350.0, \"horsepower\": 180.0, \"weight\": 4380, \"acceleration\": 12.1, \"model_year\": 76, \"origin\": \"usa\", \"name\": \"cadillac seville\", \"h1\": 180.0, \"h2\": 32400.0, \"h3\": 5832000.0, \"pred\": 13.132604413936612}, {\"mpg\": 13.0, \"cylinders\": 8, \"displacement\": 350.0, \"horsepower\": 145.0, \"weight\": 4055, \"acceleration\": 12.0, \"model_year\": 76, \"origin\": \"usa\", \"name\": \"chevy c10\", \"h1\": 145.0, \"h2\": 21025.0, \"h3\": 3048625.0, \"pred\": 15.368470682157941}, {\"mpg\": 13.0, \"cylinders\": 8, \"displacement\": 302.0, \"horsepower\": 130.0, \"weight\": 3870, \"acceleration\": 15.0, \"model_year\": 76, \"origin\": \"usa\", \"name\": \"ford f108\", \"h1\": 130.0, \"h2\": 16900.0, \"h3\": 2197000.0, \"pred\": 17.15342143823237}, {\"mpg\": 13.0, \"cylinders\": 8, \"displacement\": 318.0, \"horsepower\": 150.0, \"weight\": 3755, \"acceleration\": 14.0, \"model_year\": 76, \"origin\": \"usa\", \"name\": \"dodge d100\", \"h1\": 150.0, \"h2\": 22500.0, \"h3\": 3375000.0, \"pred\": 14.890156621920994}, {\"mpg\": 31.5, \"cylinders\": 4, \"displacement\": 98.0, \"horsepower\": 68.0, \"weight\": 2045, \"acceleration\": 18.5, \"model_year\": 77, \"origin\": \"japan\", \"name\": \"honda accord cvcc\", \"h1\": 68.0, \"h2\": 4624.0, \"h3\": 314432.0, \"pred\": 30.941356378144672}, {\"mpg\": 30.0, \"cylinders\": 4, \"displacement\": 111.0, \"horsepower\": 80.0, \"weight\": 2155, \"acceleration\": 14.8, \"model_year\": 77, \"origin\": \"usa\", \"name\": \"buick opel isuzu deluxe\", \"h1\": 80.0, \"h2\": 6400.0, \"h3\": 512000.0, \"pred\": 27.383374253038937}, {\"mpg\": 36.0, \"cylinders\": 4, \"displacement\": 79.0, \"horsepower\": 58.0, \"weight\": 1825, \"acceleration\": 18.6, \"model_year\": 77, \"origin\": \"europe\", \"name\": \"renault 5 gtl\", \"h1\": 58.0, \"h2\": 3364.0, \"h3\": 195112.0, \"pred\": 34.2664388740652}, {\"mpg\": 25.5, \"cylinders\": 4, \"displacement\": 122.0, \"horsepower\": 96.0, \"weight\": 2300, \"acceleration\": 15.5, \"model_year\": 77, \"origin\": \"usa\", \"name\": \"plymouth arrow gs\", \"h1\": 96.0, \"h2\": 9216.0, \"h3\": 884736.0, \"pred\": 23.336143160657436}, {\"mpg\": 33.5, \"cylinders\": 4, \"displacement\": 85.0, \"horsepower\": 70.0, \"weight\": 1945, \"acceleration\": 16.8, \"model_year\": 77, \"origin\": \"japan\", \"name\": \"datsun f-10 hatchback\", \"h1\": 70.0, \"h2\": 4900.0, \"h3\": 343000.0, \"pred\": 30.316138420997323}, {\"mpg\": 17.5, \"cylinders\": 8, \"displacement\": 305.0, \"horsepower\": 145.0, \"weight\": 3880, \"acceleration\": 12.5, \"model_year\": 77, \"origin\": \"usa\", \"name\": \"chevrolet caprice classic\", \"h1\": 145.0, \"h2\": 21025.0, \"h3\": 3048625.0, \"pred\": 15.368470682157941}, {\"mpg\": 17.0, \"cylinders\": 8, \"displacement\": 260.0, \"horsepower\": 110.0, \"weight\": 4060, \"acceleration\": 19.0, \"model_year\": 77, \"origin\": \"usa\", \"name\": \"oldsmobile cutlass supreme\", \"h1\": 110.0, \"h2\": 12100.0, \"h3\": 1331000.0, \"pred\": 20.41014798102548}, {\"mpg\": 15.5, \"cylinders\": 8, \"displacement\": 318.0, \"horsepower\": 145.0, \"weight\": 4140, \"acceleration\": 13.7, \"model_year\": 77, \"origin\": \"usa\", \"name\": \"dodge monaco brougham\", \"h1\": 145.0, \"h2\": 21025.0, \"h3\": 3048625.0, \"pred\": 15.368470682157941}, {\"mpg\": 15.0, \"cylinders\": 8, \"displacement\": 302.0, \"horsepower\": 130.0, \"weight\": 4295, \"acceleration\": 14.9, \"model_year\": 77, \"origin\": \"usa\", \"name\": \"mercury cougar brougham\", \"h1\": 130.0, \"h2\": 16900.0, \"h3\": 2197000.0, \"pred\": 17.15342143823237}, {\"mpg\": 17.5, \"cylinders\": 6, \"displacement\": 250.0, \"horsepower\": 110.0, \"weight\": 3520, \"acceleration\": 16.4, \"model_year\": 77, \"origin\": \"usa\", \"name\": \"chevrolet concours\", \"h1\": 110.0, \"h2\": 12100.0, \"h3\": 1331000.0, \"pred\": 20.41014798102548}, {\"mpg\": 20.5, \"cylinders\": 6, \"displacement\": 231.0, \"horsepower\": 105.0, \"weight\": 3425, \"acceleration\": 16.9, \"model_year\": 77, \"origin\": \"usa\", \"name\": \"buick skylark\", \"h1\": 105.0, \"h2\": 11025.0, \"h3\": 1157625.0, \"pred\": 21.39163278223674}, {\"mpg\": 19.0, \"cylinders\": 6, \"displacement\": 225.0, \"horsepower\": 100.0, \"weight\": 3630, \"acceleration\": 17.7, \"model_year\": 77, \"origin\": \"usa\", \"name\": \"plymouth volare custom\", \"h1\": 100.0, \"h2\": 10000.0, \"h3\": 1000000.0, \"pred\": 22.443258788519906}, {\"mpg\": 18.5, \"cylinders\": 6, \"displacement\": 250.0, \"horsepower\": 98.0, \"weight\": 3525, \"acceleration\": 19.0, \"model_year\": 77, \"origin\": \"usa\", \"name\": \"ford granada\", \"h1\": 98.0, \"h2\": 9604.0, \"h3\": 941192.0, \"pred\": 22.883909361606385}, {\"mpg\": 16.0, \"cylinders\": 8, \"displacement\": 400.0, \"horsepower\": 180.0, \"weight\": 4220, \"acceleration\": 11.1, \"model_year\": 77, \"origin\": \"usa\", \"name\": \"pontiac grand prix lj\", \"h1\": 180.0, \"h2\": 32400.0, \"h3\": 5832000.0, \"pred\": 13.132604413936612}, {\"mpg\": 15.5, \"cylinders\": 8, \"displacement\": 350.0, \"horsepower\": 170.0, \"weight\": 4165, \"acceleration\": 11.4, \"model_year\": 77, \"origin\": \"usa\", \"name\": \"chevrolet monte carlo landau\", \"h1\": 170.0, \"h2\": 28900.0, \"h3\": 4913000.0, \"pred\": 13.517315488356232}, {\"mpg\": 15.5, \"cylinders\": 8, \"displacement\": 400.0, \"horsepower\": 190.0, \"weight\": 4325, \"acceleration\": 12.2, \"model_year\": 77, \"origin\": \"usa\", \"name\": \"chrysler cordoba\", \"h1\": 190.0, \"h2\": 36100.0, \"h3\": 6859000.0, \"pred\": 12.931859993802988}, {\"mpg\": 16.0, \"cylinders\": 8, \"displacement\": 351.0, \"horsepower\": 149.0, \"weight\": 4335, \"acceleration\": 14.5, \"model_year\": 77, \"origin\": \"usa\", \"name\": \"ford thunderbird\", \"h1\": 149.0, \"h2\": 22201.0, \"h3\": 3307949.0, \"pred\": 14.981315796532776}, {\"mpg\": 29.0, \"cylinders\": 4, \"displacement\": 97.0, \"horsepower\": 78.0, \"weight\": 1940, \"acceleration\": 14.5, \"model_year\": 77, \"origin\": \"europe\", \"name\": \"volkswagen rabbit custom\", \"h1\": 78.0, \"h2\": 6084.0, \"h3\": 474552.0, \"pred\": 27.944493797739284}, {\"mpg\": 24.5, \"cylinders\": 4, \"displacement\": 151.0, \"horsepower\": 88.0, \"weight\": 2740, \"acceleration\": 16.0, \"model_year\": 77, \"origin\": \"usa\", \"name\": \"pontiac sunbird coupe\", \"h1\": 88.0, \"h2\": 7744.0, \"h3\": 681472.0, \"pred\": 25.26297137738215}, {\"mpg\": 26.0, \"cylinders\": 4, \"displacement\": 97.0, \"horsepower\": 75.0, \"weight\": 2265, \"acceleration\": 18.2, \"model_year\": 77, \"origin\": \"japan\", \"name\": \"toyota corolla liftback\", \"h1\": 75.0, \"h2\": 5625.0, \"h3\": 421875.0, \"pred\": 28.80985582618209}, {\"mpg\": 25.5, \"cylinders\": 4, \"displacement\": 140.0, \"horsepower\": 89.0, \"weight\": 2755, \"acceleration\": 15.8, \"model_year\": 77, \"origin\": \"usa\", \"name\": \"ford mustang ii 2+2\", \"h1\": 89.0, \"h2\": 7921.0, \"h3\": 704969.0, \"pred\": 25.01166697356362}, {\"mpg\": 30.5, \"cylinders\": 4, \"displacement\": 98.0, \"horsepower\": 63.0, \"weight\": 2051, \"acceleration\": 17.0, \"model_year\": 77, \"origin\": \"usa\", \"name\": \"chevrolet chevette\", \"h1\": 63.0, \"h2\": 3969.0, \"h3\": 250047.0, \"pred\": 32.56206515194886}, {\"mpg\": 33.5, \"cylinders\": 4, \"displacement\": 98.0, \"horsepower\": 83.0, \"weight\": 2075, \"acceleration\": 15.9, \"model_year\": 77, \"origin\": \"usa\", \"name\": \"dodge colt m/m\", \"h1\": 83.0, \"h2\": 6889.0, \"h3\": 571787.0, \"pred\": 26.565120052271368}, {\"mpg\": 30.0, \"cylinders\": 4, \"displacement\": 97.0, \"horsepower\": 67.0, \"weight\": 1985, \"acceleration\": 16.4, \"model_year\": 77, \"origin\": \"japan\", \"name\": \"subaru dl\", \"h1\": 67.0, \"h2\": 4489.0, \"h3\": 300763.0, \"pred\": 31.258882215573337}, {\"mpg\": 30.5, \"cylinders\": 4, \"displacement\": 97.0, \"horsepower\": 78.0, \"weight\": 2190, \"acceleration\": 14.1, \"model_year\": 77, \"origin\": \"europe\", \"name\": \"volkswagen dasher\", \"h1\": 78.0, \"h2\": 6084.0, \"h3\": 474552.0, \"pred\": 27.944493797739284}, {\"mpg\": 22.0, \"cylinders\": 6, \"displacement\": 146.0, \"horsepower\": 97.0, \"weight\": 2815, \"acceleration\": 14.5, \"model_year\": 77, \"origin\": \"japan\", \"name\": \"datsun 810\", \"h1\": 97.0, \"h2\": 9409.0, \"h3\": 912673.0, \"pred\": 23.108571918008607}, {\"mpg\": 21.5, \"cylinders\": 4, \"displacement\": 121.0, \"horsepower\": 110.0, \"weight\": 2600, \"acceleration\": 12.8, \"model_year\": 77, \"origin\": \"europe\", \"name\": \"bmw 320i\", \"h1\": 110.0, \"h2\": 12100.0, \"h3\": 1331000.0, \"pred\": 20.41014798102548}, {\"mpg\": 21.5, \"cylinders\": 3, \"displacement\": 80.0, \"horsepower\": 110.0, \"weight\": 2720, \"acceleration\": 13.5, \"model_year\": 77, \"origin\": \"japan\", \"name\": \"mazda rx-4\", \"h1\": 110.0, \"h2\": 12100.0, \"h3\": 1331000.0, \"pred\": 20.41014798102548}, {\"mpg\": 43.1, \"cylinders\": 4, \"displacement\": 90.0, \"horsepower\": 48.0, \"weight\": 1985, \"acceleration\": 21.5, \"model_year\": 78, \"origin\": \"europe\", \"name\": \"volkswagen rabbit custom diesel\", \"h1\": 48.0, \"h2\": 2304.0, \"h3\": 110592.0, \"pred\": 37.93262104096775}, {\"mpg\": 36.1, \"cylinders\": 4, \"displacement\": 98.0, \"horsepower\": 66.0, \"weight\": 1800, \"acceleration\": 14.4, \"model_year\": 78, \"origin\": \"usa\", \"name\": \"ford fiesta\", \"h1\": 66.0, \"h2\": 4356.0, \"h3\": 287496.0, \"pred\": 31.579703131912623}, {\"mpg\": 32.8, \"cylinders\": 4, \"displacement\": 78.0, \"horsepower\": 52.0, \"weight\": 1985, \"acceleration\": 19.4, \"model_year\": 78, \"origin\": \"japan\", \"name\": \"mazda glc deluxe\", \"h1\": 52.0, \"h2\": 2704.0, \"h3\": 140608.0, \"pred\": 36.42439190933901}, {\"mpg\": 39.4, \"cylinders\": 4, \"displacement\": 85.0, \"horsepower\": 70.0, \"weight\": 2070, \"acceleration\": 18.6, \"model_year\": 78, \"origin\": \"japan\", \"name\": \"datsun b210 gx\", \"h1\": 70.0, \"h2\": 4900.0, \"h3\": 343000.0, \"pred\": 30.316138420997323}, {\"mpg\": 36.1, \"cylinders\": 4, \"displacement\": 91.0, \"horsepower\": 60.0, \"weight\": 1800, \"acceleration\": 16.4, \"model_year\": 78, \"origin\": \"japan\", \"name\": \"honda civic cvcc\", \"h1\": 60.0, \"h2\": 3600.0, \"h3\": 216000.0, \"pred\": 33.57454655337747}, {\"mpg\": 19.9, \"cylinders\": 8, \"displacement\": 260.0, \"horsepower\": 110.0, \"weight\": 3365, \"acceleration\": 15.5, \"model_year\": 78, \"origin\": \"usa\", \"name\": \"oldsmobile cutlass salon brougham\", \"h1\": 110.0, \"h2\": 12100.0, \"h3\": 1331000.0, \"pred\": 20.41014798102548}, {\"mpg\": 19.4, \"cylinders\": 8, \"displacement\": 318.0, \"horsepower\": 140.0, \"weight\": 3735, \"acceleration\": 13.2, \"model_year\": 78, \"origin\": \"usa\", \"name\": \"dodge diplomat\", \"h1\": 140.0, \"h2\": 19600.0, \"h3\": 2744000.0, \"pred\": 15.90404619199991}, {\"mpg\": 20.2, \"cylinders\": 8, \"displacement\": 302.0, \"horsepower\": 139.0, \"weight\": 3570, \"acceleration\": 12.8, \"model_year\": 78, \"origin\": \"usa\", \"name\": \"mercury monarch ghia\", \"h1\": 139.0, \"h2\": 19321.0, \"h3\": 2685619.0, \"pred\": 16.018174345231046}, {\"mpg\": 19.2, \"cylinders\": 6, \"displacement\": 231.0, \"horsepower\": 105.0, \"weight\": 3535, \"acceleration\": 19.2, \"model_year\": 78, \"origin\": \"usa\", \"name\": \"pontiac phoenix lj\", \"h1\": 105.0, \"h2\": 11025.0, \"h3\": 1157625.0, \"pred\": 21.39163278223674}, {\"mpg\": 20.5, \"cylinders\": 6, \"displacement\": 200.0, \"horsepower\": 95.0, \"weight\": 3155, \"acceleration\": 18.2, \"model_year\": 78, \"origin\": \"usa\", \"name\": \"chevrolet malibu\", \"h1\": 95.0, \"h2\": 9025.0, \"h3\": 857375.0, \"pred\": 23.56663596930835}, {\"mpg\": 20.2, \"cylinders\": 6, \"displacement\": 200.0, \"horsepower\": 85.0, \"weight\": 2965, \"acceleration\": 15.8, \"model_year\": 78, \"origin\": \"usa\", \"name\": \"ford fairmont (auto)\", \"h1\": 85.0, \"h2\": 7225.0, \"h3\": 614125.0, \"pred\": 26.03508373213451}, {\"mpg\": 25.1, \"cylinders\": 4, \"displacement\": 140.0, \"horsepower\": 88.0, \"weight\": 2720, \"acceleration\": 15.4, \"model_year\": 78, \"origin\": \"usa\", \"name\": \"ford fairmont (man)\", \"h1\": 88.0, \"h2\": 7744.0, \"h3\": 681472.0, \"pred\": 25.26297137738215}, {\"mpg\": 20.5, \"cylinders\": 6, \"displacement\": 225.0, \"horsepower\": 100.0, \"weight\": 3430, \"acceleration\": 17.2, \"model_year\": 78, \"origin\": \"usa\", \"name\": \"plymouth volare\", \"h1\": 100.0, \"h2\": 10000.0, \"h3\": 1000000.0, \"pred\": 22.443258788519906}, {\"mpg\": 19.4, \"cylinders\": 6, \"displacement\": 232.0, \"horsepower\": 90.0, \"weight\": 3210, \"acceleration\": 17.2, \"model_year\": 78, \"origin\": \"usa\", \"name\": \"amc concord\", \"h1\": 90.0, \"h2\": 8100.0, \"h3\": 729000.0, \"pred\": 24.76337429403543}, {\"mpg\": 20.6, \"cylinders\": 6, \"displacement\": 231.0, \"horsepower\": 105.0, \"weight\": 3380, \"acceleration\": 15.8, \"model_year\": 78, \"origin\": \"usa\", \"name\": \"buick century special\", \"h1\": 105.0, \"h2\": 11025.0, \"h3\": 1157625.0, \"pred\": 21.39163278223674}, {\"mpg\": 20.8, \"cylinders\": 6, \"displacement\": 200.0, \"horsepower\": 85.0, \"weight\": 3070, \"acceleration\": 16.7, \"model_year\": 78, \"origin\": \"usa\", \"name\": \"mercury zephyr\", \"h1\": 85.0, \"h2\": 7225.0, \"h3\": 614125.0, \"pred\": 26.03508373213451}, {\"mpg\": 18.6, \"cylinders\": 6, \"displacement\": 225.0, \"horsepower\": 110.0, \"weight\": 3620, \"acceleration\": 18.7, \"model_year\": 78, \"origin\": \"usa\", \"name\": \"dodge aspen\", \"h1\": 110.0, \"h2\": 12100.0, \"h3\": 1331000.0, \"pred\": 20.41014798102548}, {\"mpg\": 18.1, \"cylinders\": 6, \"displacement\": 258.0, \"horsepower\": 120.0, \"weight\": 3410, \"acceleration\": 15.1, \"model_year\": 78, \"origin\": \"usa\", \"name\": \"amc concord d/l\", \"h1\": 120.0, \"h2\": 14400.0, \"h3\": 1728000.0, \"pred\": 18.651162116085267}, {\"mpg\": 19.2, \"cylinders\": 8, \"displacement\": 305.0, \"horsepower\": 145.0, \"weight\": 3425, \"acceleration\": 13.2, \"model_year\": 78, \"origin\": \"usa\", \"name\": \"chevrolet monte carlo landau\", \"h1\": 145.0, \"h2\": 21025.0, \"h3\": 3048625.0, \"pred\": 15.368470682157941}, {\"mpg\": 17.7, \"cylinders\": 6, \"displacement\": 231.0, \"horsepower\": 165.0, \"weight\": 3445, \"acceleration\": 13.4, \"model_year\": 78, \"origin\": \"usa\", \"name\": \"buick regal sport coupe (turbo)\", \"h1\": 165.0, \"h2\": 27225.0, \"h3\": 4492125.0, \"pred\": 13.782683444506688}, {\"mpg\": 18.1, \"cylinders\": 8, \"displacement\": 302.0, \"horsepower\": 139.0, \"weight\": 3205, \"acceleration\": 11.2, \"model_year\": 78, \"origin\": \"usa\", \"name\": \"ford futura\", \"h1\": 139.0, \"h2\": 19321.0, \"h3\": 2685619.0, \"pred\": 16.018174345231046}, {\"mpg\": 17.5, \"cylinders\": 8, \"displacement\": 318.0, \"horsepower\": 140.0, \"weight\": 4080, \"acceleration\": 13.7, \"model_year\": 78, \"origin\": \"usa\", \"name\": \"dodge magnum xe\", \"h1\": 140.0, \"h2\": 19600.0, \"h3\": 2744000.0, \"pred\": 15.90404619199991}, {\"mpg\": 30.0, \"cylinders\": 4, \"displacement\": 98.0, \"horsepower\": 68.0, \"weight\": 2155, \"acceleration\": 16.5, \"model_year\": 78, \"origin\": \"usa\", \"name\": \"chevrolet chevette\", \"h1\": 68.0, \"h2\": 4624.0, \"h3\": 314432.0, \"pred\": 30.941356378144672}, {\"mpg\": 27.5, \"cylinders\": 4, \"displacement\": 134.0, \"horsepower\": 95.0, \"weight\": 2560, \"acceleration\": 14.2, \"model_year\": 78, \"origin\": \"japan\", \"name\": \"toyota corona\", \"h1\": 95.0, \"h2\": 9025.0, \"h3\": 857375.0, \"pred\": 23.56663596930835}, {\"mpg\": 27.2, \"cylinders\": 4, \"displacement\": 119.0, \"horsepower\": 97.0, \"weight\": 2300, \"acceleration\": 14.7, \"model_year\": 78, \"origin\": \"japan\", \"name\": \"datsun 510\", \"h1\": 97.0, \"h2\": 9409.0, \"h3\": 912673.0, \"pred\": 23.108571918008607}, {\"mpg\": 30.9, \"cylinders\": 4, \"displacement\": 105.0, \"horsepower\": 75.0, \"weight\": 2230, \"acceleration\": 14.5, \"model_year\": 78, \"origin\": \"usa\", \"name\": \"dodge omni\", \"h1\": 75.0, \"h2\": 5625.0, \"h3\": 421875.0, \"pred\": 28.80985582618209}, {\"mpg\": 21.1, \"cylinders\": 4, \"displacement\": 134.0, \"horsepower\": 95.0, \"weight\": 2515, \"acceleration\": 14.8, \"model_year\": 78, \"origin\": \"japan\", \"name\": \"toyota celica gt liftback\", \"h1\": 95.0, \"h2\": 9025.0, \"h3\": 857375.0, \"pred\": 23.56663596930835}, {\"mpg\": 23.2, \"cylinders\": 4, \"displacement\": 156.0, \"horsepower\": 105.0, \"weight\": 2745, \"acceleration\": 16.7, \"model_year\": 78, \"origin\": \"usa\", \"name\": \"plymouth sapporo\", \"h1\": 105.0, \"h2\": 11025.0, \"h3\": 1157625.0, \"pred\": 21.39163278223674}, {\"mpg\": 23.8, \"cylinders\": 4, \"displacement\": 151.0, \"horsepower\": 85.0, \"weight\": 2855, \"acceleration\": 17.6, \"model_year\": 78, \"origin\": \"usa\", \"name\": \"oldsmobile starfire sx\", \"h1\": 85.0, \"h2\": 7225.0, \"h3\": 614125.0, \"pred\": 26.03508373213451}, {\"mpg\": 23.9, \"cylinders\": 4, \"displacement\": 119.0, \"horsepower\": 97.0, \"weight\": 2405, \"acceleration\": 14.9, \"model_year\": 78, \"origin\": \"japan\", \"name\": \"datsun 200-sx\", \"h1\": 97.0, \"h2\": 9409.0, \"h3\": 912673.0, \"pred\": 23.108571918008607}, {\"mpg\": 20.3, \"cylinders\": 5, \"displacement\": 131.0, \"horsepower\": 103.0, \"weight\": 2830, \"acceleration\": 15.9, \"model_year\": 78, \"origin\": \"europe\", \"name\": \"audi 5000\", \"h1\": 103.0, \"h2\": 10609.0, \"h3\": 1092727.0, \"pred\": 21.803776081853115}, {\"mpg\": 17.0, \"cylinders\": 6, \"displacement\": 163.0, \"horsepower\": 125.0, \"weight\": 3140, \"acceleration\": 13.6, \"model_year\": 78, \"origin\": \"europe\", \"name\": \"volvo 264gl\", \"h1\": 125.0, \"h2\": 15625.0, \"h3\": 1953125.0, \"pred\": 17.870441113489584}, {\"mpg\": 21.6, \"cylinders\": 4, \"displacement\": 121.0, \"horsepower\": 115.0, \"weight\": 2795, \"acceleration\": 15.7, \"model_year\": 78, \"origin\": \"europe\", \"name\": \"saab 99gle\", \"h1\": 115.0, \"h2\": 13225.0, \"h3\": 1520875.0, \"pred\": 19.497194415452782}, {\"mpg\": 16.2, \"cylinders\": 6, \"displacement\": 163.0, \"horsepower\": 133.0, \"weight\": 3410, \"acceleration\": 15.8, \"model_year\": 78, \"origin\": \"europe\", \"name\": \"peugeot 604sl\", \"h1\": 133.0, \"h2\": 17689.0, \"h3\": 2352637.0, \"pred\": 16.75311652291623}, {\"mpg\": 31.5, \"cylinders\": 4, \"displacement\": 89.0, \"horsepower\": 71.0, \"weight\": 1990, \"acceleration\": 14.9, \"model_year\": 78, \"origin\": \"europe\", \"name\": \"volkswagen scirocco\", \"h1\": 71.0, \"h2\": 5041.0, \"h3\": 357911.0, \"pred\": 30.008420541767705}, {\"mpg\": 29.5, \"cylinders\": 4, \"displacement\": 98.0, \"horsepower\": 68.0, \"weight\": 2135, \"acceleration\": 16.6, \"model_year\": 78, \"origin\": \"japan\", \"name\": \"honda accord lx\", \"h1\": 68.0, \"h2\": 4624.0, \"h3\": 314432.0, \"pred\": 30.941356378144672}, {\"mpg\": 21.5, \"cylinders\": 6, \"displacement\": 231.0, \"horsepower\": 115.0, \"weight\": 3245, \"acceleration\": 15.4, \"model_year\": 79, \"origin\": \"usa\", \"name\": \"pontiac lemans v6\", \"h1\": 115.0, \"h2\": 13225.0, \"h3\": 1520875.0, \"pred\": 19.497194415452782}, {\"mpg\": 19.8, \"cylinders\": 6, \"displacement\": 200.0, \"horsepower\": 85.0, \"weight\": 2990, \"acceleration\": 18.2, \"model_year\": 79, \"origin\": \"usa\", \"name\": \"mercury zephyr 6\", \"h1\": 85.0, \"h2\": 7225.0, \"h3\": 614125.0, \"pred\": 26.03508373213451}, {\"mpg\": 22.3, \"cylinders\": 4, \"displacement\": 140.0, \"horsepower\": 88.0, \"weight\": 2890, \"acceleration\": 17.3, \"model_year\": 79, \"origin\": \"usa\", \"name\": \"ford fairmont 4\", \"h1\": 88.0, \"h2\": 7744.0, \"h3\": 681472.0, \"pred\": 25.26297137738215}, {\"mpg\": 20.2, \"cylinders\": 6, \"displacement\": 232.0, \"horsepower\": 90.0, \"weight\": 3265, \"acceleration\": 18.2, \"model_year\": 79, \"origin\": \"usa\", \"name\": \"amc concord dl 6\", \"h1\": 90.0, \"h2\": 8100.0, \"h3\": 729000.0, \"pred\": 24.76337429403543}, {\"mpg\": 20.6, \"cylinders\": 6, \"displacement\": 225.0, \"horsepower\": 110.0, \"weight\": 3360, \"acceleration\": 16.6, \"model_year\": 79, \"origin\": \"usa\", \"name\": \"dodge aspen 6\", \"h1\": 110.0, \"h2\": 12100.0, \"h3\": 1331000.0, \"pred\": 20.41014798102548}, {\"mpg\": 17.0, \"cylinders\": 8, \"displacement\": 305.0, \"horsepower\": 130.0, \"weight\": 3840, \"acceleration\": 15.4, \"model_year\": 79, \"origin\": \"usa\", \"name\": \"chevrolet caprice classic\", \"h1\": 130.0, \"h2\": 16900.0, \"h3\": 2197000.0, \"pred\": 17.15342143823237}, {\"mpg\": 17.6, \"cylinders\": 8, \"displacement\": 302.0, \"horsepower\": 129.0, \"weight\": 3725, \"acceleration\": 13.4, \"model_year\": 79, \"origin\": \"usa\", \"name\": \"ford ltd landau\", \"h1\": 129.0, \"h2\": 16641.0, \"h3\": 2146689.0, \"pred\": 17.29180654562954}, {\"mpg\": 16.5, \"cylinders\": 8, \"displacement\": 351.0, \"horsepower\": 138.0, \"weight\": 3955, \"acceleration\": 13.2, \"model_year\": 79, \"origin\": \"usa\", \"name\": \"mercury grand marquis\", \"h1\": 138.0, \"h2\": 19044.0, \"h3\": 2628072.0, \"pred\": 16.134670234979183}, {\"mpg\": 18.2, \"cylinders\": 8, \"displacement\": 318.0, \"horsepower\": 135.0, \"weight\": 3830, \"acceleration\": 15.2, \"model_year\": 79, \"origin\": \"usa\", \"name\": \"dodge st. regis\", \"h1\": 135.0, \"h2\": 18225.0, \"h3\": 2460375.0, \"pred\": 16.49849312088027}, {\"mpg\": 16.9, \"cylinders\": 8, \"displacement\": 350.0, \"horsepower\": 155.0, \"weight\": 4360, \"acceleration\": 14.9, \"model_year\": 79, \"origin\": \"usa\", \"name\": \"buick estate wagon (sw)\", \"h1\": 155.0, \"h2\": 24025.0, \"h3\": 3723875.0, \"pred\": 14.467494041855709}, {\"mpg\": 15.5, \"cylinders\": 8, \"displacement\": 351.0, \"horsepower\": 142.0, \"weight\": 4054, \"acceleration\": 14.3, \"model_year\": 79, \"origin\": \"usa\", \"name\": \"ford country squire (sw)\", \"h1\": 142.0, \"h2\": 20164.0, \"h3\": 2863288.0, \"pred\": 15.682841576066778}, {\"mpg\": 19.2, \"cylinders\": 8, \"displacement\": 267.0, \"horsepower\": 125.0, \"weight\": 3605, \"acceleration\": 15.0, \"model_year\": 79, \"origin\": \"usa\", \"name\": \"chevrolet malibu classic (sw)\", \"h1\": 125.0, \"h2\": 15625.0, \"h3\": 1953125.0, \"pred\": 17.870441113489584}, {\"mpg\": 18.5, \"cylinders\": 8, \"displacement\": 360.0, \"horsepower\": 150.0, \"weight\": 3940, \"acceleration\": 13.0, \"model_year\": 79, \"origin\": \"usa\", \"name\": \"chrysler lebaron town @ country (sw)\", \"h1\": 150.0, \"h2\": 22500.0, \"h3\": 3375000.0, \"pred\": 14.890156621920994}, {\"mpg\": 31.9, \"cylinders\": 4, \"displacement\": 89.0, \"horsepower\": 71.0, \"weight\": 1925, \"acceleration\": 14.0, \"model_year\": 79, \"origin\": \"europe\", \"name\": \"vw rabbit custom\", \"h1\": 71.0, \"h2\": 5041.0, \"h3\": 357911.0, \"pred\": 30.008420541767705}, {\"mpg\": 34.1, \"cylinders\": 4, \"displacement\": 86.0, \"horsepower\": 65.0, \"weight\": 1975, \"acceleration\": 15.2, \"model_year\": 79, \"origin\": \"japan\", \"name\": \"maxda glc deluxe\", \"h1\": 65.0, \"h2\": 4225.0, \"h3\": 274625.0, \"pred\": 31.903832006917995}, {\"mpg\": 35.7, \"cylinders\": 4, \"displacement\": 98.0, \"horsepower\": 80.0, \"weight\": 1915, \"acceleration\": 14.4, \"model_year\": 79, \"origin\": \"usa\", \"name\": \"dodge colt hatchback custom\", \"h1\": 80.0, \"h2\": 6400.0, \"h3\": 512000.0, \"pred\": 27.383374253038937}, {\"mpg\": 27.4, \"cylinders\": 4, \"displacement\": 121.0, \"horsepower\": 80.0, \"weight\": 2670, \"acceleration\": 15.0, \"model_year\": 79, \"origin\": \"usa\", \"name\": \"amc spirit dl\", \"h1\": 80.0, \"h2\": 6400.0, \"h3\": 512000.0, \"pred\": 27.383374253038937}, {\"mpg\": 25.4, \"cylinders\": 5, \"displacement\": 183.0, \"horsepower\": 77.0, \"weight\": 3530, \"acceleration\": 20.1, \"model_year\": 79, \"origin\": \"europe\", \"name\": \"mercedes benz 300d\", \"h1\": 77.0, \"h2\": 5929.0, \"h3\": 456533.0, \"pred\": 28.22977723261245}, {\"mpg\": 23.0, \"cylinders\": 8, \"displacement\": 350.0, \"horsepower\": 125.0, \"weight\": 3900, \"acceleration\": 17.4, \"model_year\": 79, \"origin\": \"usa\", \"name\": \"cadillac eldorado\", \"h1\": 125.0, \"h2\": 15625.0, \"h3\": 1953125.0, \"pred\": 17.870441113489584}, {\"mpg\": 27.2, \"cylinders\": 4, \"displacement\": 141.0, \"horsepower\": 71.0, \"weight\": 3190, \"acceleration\": 24.8, \"model_year\": 79, \"origin\": \"europe\", \"name\": \"peugeot 504\", \"h1\": 71.0, \"h2\": 5041.0, \"h3\": 357911.0, \"pred\": 30.008420541767705}, {\"mpg\": 23.9, \"cylinders\": 8, \"displacement\": 260.0, \"horsepower\": 90.0, \"weight\": 3420, \"acceleration\": 22.2, \"model_year\": 79, \"origin\": \"usa\", \"name\": \"oldsmobile cutlass salon brougham\", \"h1\": 90.0, \"h2\": 8100.0, \"h3\": 729000.0, \"pred\": 24.76337429403543}, {\"mpg\": 34.2, \"cylinders\": 4, \"displacement\": 105.0, \"horsepower\": 70.0, \"weight\": 2200, \"acceleration\": 13.2, \"model_year\": 79, \"origin\": \"usa\", \"name\": \"plymouth horizon\", \"h1\": 70.0, \"h2\": 4900.0, \"h3\": 343000.0, \"pred\": 30.316138420997323}, {\"mpg\": 34.5, \"cylinders\": 4, \"displacement\": 105.0, \"horsepower\": 70.0, \"weight\": 2150, \"acceleration\": 14.9, \"model_year\": 79, \"origin\": \"usa\", \"name\": \"plymouth horizon tc3\", \"h1\": 70.0, \"h2\": 4900.0, \"h3\": 343000.0, \"pred\": 30.316138420997323}, {\"mpg\": 31.8, \"cylinders\": 4, \"displacement\": 85.0, \"horsepower\": 65.0, \"weight\": 2020, \"acceleration\": 19.2, \"model_year\": 79, \"origin\": \"japan\", \"name\": \"datsun 210\", \"h1\": 65.0, \"h2\": 4225.0, \"h3\": 274625.0, \"pred\": 31.903832006917995}, {\"mpg\": 37.3, \"cylinders\": 4, \"displacement\": 91.0, \"horsepower\": 69.0, \"weight\": 2130, \"acceleration\": 14.7, \"model_year\": 79, \"origin\": \"europe\", \"name\": \"fiat strada custom\", \"h1\": 69.0, \"h2\": 4761.0, \"h3\": 328509.0, \"pred\": 30.627112739871155}, {\"mpg\": 28.4, \"cylinders\": 4, \"displacement\": 151.0, \"horsepower\": 90.0, \"weight\": 2670, \"acceleration\": 16.0, \"model_year\": 79, \"origin\": \"usa\", \"name\": \"buick skylark limited\", \"h1\": 90.0, \"h2\": 8100.0, \"h3\": 729000.0, \"pred\": 24.76337429403543}, {\"mpg\": 28.8, \"cylinders\": 6, \"displacement\": 173.0, \"horsepower\": 115.0, \"weight\": 2595, \"acceleration\": 11.3, \"model_year\": 79, \"origin\": \"usa\", \"name\": \"chevrolet citation\", \"h1\": 115.0, \"h2\": 13225.0, \"h3\": 1520875.0, \"pred\": 19.497194415452782}, {\"mpg\": 26.8, \"cylinders\": 6, \"displacement\": 173.0, \"horsepower\": 115.0, \"weight\": 2700, \"acceleration\": 12.9, \"model_year\": 79, \"origin\": \"usa\", \"name\": \"oldsmobile omega brougham\", \"h1\": 115.0, \"h2\": 13225.0, \"h3\": 1520875.0, \"pred\": 19.497194415452782}, {\"mpg\": 33.5, \"cylinders\": 4, \"displacement\": 151.0, \"horsepower\": 90.0, \"weight\": 2556, \"acceleration\": 13.2, \"model_year\": 79, \"origin\": \"usa\", \"name\": \"pontiac phoenix\", \"h1\": 90.0, \"h2\": 8100.0, \"h3\": 729000.0, \"pred\": 24.76337429403543}, {\"mpg\": 41.5, \"cylinders\": 4, \"displacement\": 98.0, \"horsepower\": 76.0, \"weight\": 2144, \"acceleration\": 14.7, \"model_year\": 80, \"origin\": \"europe\", \"name\": \"vw rabbit\", \"h1\": 76.0, \"h2\": 5776.0, \"h3\": 438976.0, \"pred\": 28.518226948841566}, {\"mpg\": 38.1, \"cylinders\": 4, \"displacement\": 89.0, \"horsepower\": 60.0, \"weight\": 1968, \"acceleration\": 18.8, \"model_year\": 80, \"origin\": \"japan\", \"name\": \"toyota corolla tercel\", \"h1\": 60.0, \"h2\": 3600.0, \"h3\": 216000.0, \"pred\": 33.57454655337747}, {\"mpg\": 32.1, \"cylinders\": 4, \"displacement\": 98.0, \"horsepower\": 70.0, \"weight\": 2120, \"acceleration\": 15.5, \"model_year\": 80, \"origin\": \"usa\", \"name\": \"chevrolet chevette\", \"h1\": 70.0, \"h2\": 4900.0, \"h3\": 343000.0, \"pred\": 30.316138420997323}, {\"mpg\": 37.2, \"cylinders\": 4, \"displacement\": 86.0, \"horsepower\": 65.0, \"weight\": 2019, \"acceleration\": 16.4, \"model_year\": 80, \"origin\": \"japan\", \"name\": \"datsun 310\", \"h1\": 65.0, \"h2\": 4225.0, \"h3\": 274625.0, \"pred\": 31.903832006917995}, {\"mpg\": 28.0, \"cylinders\": 4, \"displacement\": 151.0, \"horsepower\": 90.0, \"weight\": 2678, \"acceleration\": 16.5, \"model_year\": 80, \"origin\": \"usa\", \"name\": \"chevrolet citation\", \"h1\": 90.0, \"h2\": 8100.0, \"h3\": 729000.0, \"pred\": 24.76337429403543}, {\"mpg\": 26.4, \"cylinders\": 4, \"displacement\": 140.0, \"horsepower\": 88.0, \"weight\": 2870, \"acceleration\": 18.1, \"model_year\": 80, \"origin\": \"usa\", \"name\": \"ford fairmont\", \"h1\": 88.0, \"h2\": 7744.0, \"h3\": 681472.0, \"pred\": 25.26297137738215}, {\"mpg\": 24.3, \"cylinders\": 4, \"displacement\": 151.0, \"horsepower\": 90.0, \"weight\": 3003, \"acceleration\": 20.1, \"model_year\": 80, \"origin\": \"usa\", \"name\": \"amc concord\", \"h1\": 90.0, \"h2\": 8100.0, \"h3\": 729000.0, \"pred\": 24.76337429403543}, {\"mpg\": 19.1, \"cylinders\": 6, \"displacement\": 225.0, \"horsepower\": 90.0, \"weight\": 3381, \"acceleration\": 18.7, \"model_year\": 80, \"origin\": \"usa\", \"name\": \"dodge aspen\", \"h1\": 90.0, \"h2\": 8100.0, \"h3\": 729000.0, \"pred\": 24.76337429403543}, {\"mpg\": 34.3, \"cylinders\": 4, \"displacement\": 97.0, \"horsepower\": 78.0, \"weight\": 2188, \"acceleration\": 15.8, \"model_year\": 80, \"origin\": \"europe\", \"name\": \"audi 4000\", \"h1\": 78.0, \"h2\": 6084.0, \"h3\": 474552.0, \"pred\": 27.944493797739284}, {\"mpg\": 29.8, \"cylinders\": 4, \"displacement\": 134.0, \"horsepower\": 90.0, \"weight\": 2711, \"acceleration\": 15.5, \"model_year\": 80, \"origin\": \"japan\", \"name\": \"toyota corona liftback\", \"h1\": 90.0, \"h2\": 8100.0, \"h3\": 729000.0, \"pred\": 24.76337429403543}, {\"mpg\": 31.3, \"cylinders\": 4, \"displacement\": 120.0, \"horsepower\": 75.0, \"weight\": 2542, \"acceleration\": 17.5, \"model_year\": 80, \"origin\": \"japan\", \"name\": \"mazda 626\", \"h1\": 75.0, \"h2\": 5625.0, \"h3\": 421875.0, \"pred\": 28.80985582618209}, {\"mpg\": 37.0, \"cylinders\": 4, \"displacement\": 119.0, \"horsepower\": 92.0, \"weight\": 2434, \"acceleration\": 15.0, \"model_year\": 80, \"origin\": \"japan\", \"name\": \"datsun 510 hatchback\", \"h1\": 92.0, \"h2\": 8464.0, \"h3\": 778688.0, \"pred\": 24.275772588828225}, {\"mpg\": 32.2, \"cylinders\": 4, \"displacement\": 108.0, \"horsepower\": 75.0, \"weight\": 2265, \"acceleration\": 15.2, \"model_year\": 80, \"origin\": \"japan\", \"name\": \"toyota corolla\", \"h1\": 75.0, \"h2\": 5625.0, \"h3\": 421875.0, \"pred\": 28.80985582618209}, {\"mpg\": 46.6, \"cylinders\": 4, \"displacement\": 86.0, \"horsepower\": 65.0, \"weight\": 2110, \"acceleration\": 17.9, \"model_year\": 80, \"origin\": \"japan\", \"name\": \"mazda glc\", \"h1\": 65.0, \"h2\": 4225.0, \"h3\": 274625.0, \"pred\": 31.903832006917995}, {\"mpg\": 27.9, \"cylinders\": 4, \"displacement\": 156.0, \"horsepower\": 105.0, \"weight\": 2800, \"acceleration\": 14.4, \"model_year\": 80, \"origin\": \"usa\", \"name\": \"dodge colt\", \"h1\": 105.0, \"h2\": 11025.0, \"h3\": 1157625.0, \"pred\": 21.39163278223674}, {\"mpg\": 40.8, \"cylinders\": 4, \"displacement\": 85.0, \"horsepower\": 65.0, \"weight\": 2110, \"acceleration\": 19.2, \"model_year\": 80, \"origin\": \"japan\", \"name\": \"datsun 210\", \"h1\": 65.0, \"h2\": 4225.0, \"h3\": 274625.0, \"pred\": 31.903832006917995}, {\"mpg\": 44.3, \"cylinders\": 4, \"displacement\": 90.0, \"horsepower\": 48.0, \"weight\": 2085, \"acceleration\": 21.7, \"model_year\": 80, \"origin\": \"europe\", \"name\": \"vw rabbit c (diesel)\", \"h1\": 48.0, \"h2\": 2304.0, \"h3\": 110592.0, \"pred\": 37.93262104096775}, {\"mpg\": 43.4, \"cylinders\": 4, \"displacement\": 90.0, \"horsepower\": 48.0, \"weight\": 2335, \"acceleration\": 23.7, \"model_year\": 80, \"origin\": \"europe\", \"name\": \"vw dasher (diesel)\", \"h1\": 48.0, \"h2\": 2304.0, \"h3\": 110592.0, \"pred\": 37.93262104096775}, {\"mpg\": 36.4, \"cylinders\": 5, \"displacement\": 121.0, \"horsepower\": 67.0, \"weight\": 2950, \"acceleration\": 19.9, \"model_year\": 80, \"origin\": \"europe\", \"name\": \"audi 5000s (diesel)\", \"h1\": 67.0, \"h2\": 4489.0, \"h3\": 300763.0, \"pred\": 31.258882215573337}, {\"mpg\": 30.0, \"cylinders\": 4, \"displacement\": 146.0, \"horsepower\": 67.0, \"weight\": 3250, \"acceleration\": 21.8, \"model_year\": 80, \"origin\": \"europe\", \"name\": \"mercedes-benz 240d\", \"h1\": 67.0, \"h2\": 4489.0, \"h3\": 300763.0, \"pred\": 31.258882215573337}, {\"mpg\": 44.6, \"cylinders\": 4, \"displacement\": 91.0, \"horsepower\": 67.0, \"weight\": 1850, \"acceleration\": 13.8, \"model_year\": 80, \"origin\": \"japan\", \"name\": \"honda civic 1500 gl\", \"h1\": 67.0, \"h2\": 4489.0, \"h3\": 300763.0, \"pred\": 31.258882215573337}, {\"mpg\": 33.8, \"cylinders\": 4, \"displacement\": 97.0, \"horsepower\": 67.0, \"weight\": 2145, \"acceleration\": 18.0, \"model_year\": 80, \"origin\": \"japan\", \"name\": \"subaru dl\", \"h1\": 67.0, \"h2\": 4489.0, \"h3\": 300763.0, \"pred\": 31.258882215573337}, {\"mpg\": 29.8, \"cylinders\": 4, \"displacement\": 89.0, \"horsepower\": 62.0, \"weight\": 1845, \"acceleration\": 15.3, \"model_year\": 80, \"origin\": \"europe\", \"name\": \"vokswagen rabbit\", \"h1\": 62.0, \"h2\": 3844.0, \"h3\": 238328.0, \"pred\": 32.89619518148528}, {\"mpg\": 32.7, \"cylinders\": 6, \"displacement\": 168.0, \"horsepower\": 132.0, \"weight\": 2910, \"acceleration\": 11.4, \"model_year\": 80, \"origin\": \"japan\", \"name\": \"datsun 280-zx\", \"h1\": 132.0, \"h2\": 17424.0, \"h3\": 2299968.0, \"pred\": 16.88408930663119}, {\"mpg\": 23.7, \"cylinders\": 3, \"displacement\": 70.0, \"horsepower\": 100.0, \"weight\": 2420, \"acceleration\": 12.5, \"model_year\": 80, \"origin\": \"japan\", \"name\": \"mazda rx-7 gs\", \"h1\": 100.0, \"h2\": 10000.0, \"h3\": 1000000.0, \"pred\": 22.443258788519906}, {\"mpg\": 35.0, \"cylinders\": 4, \"displacement\": 122.0, \"horsepower\": 88.0, \"weight\": 2500, \"acceleration\": 15.1, \"model_year\": 80, \"origin\": \"europe\", \"name\": \"triumph tr7 coupe\", \"h1\": 88.0, \"h2\": 7744.0, \"h3\": 681472.0, \"pred\": 25.26297137738215}, {\"mpg\": 32.4, \"cylinders\": 4, \"displacement\": 107.0, \"horsepower\": 72.0, \"weight\": 2290, \"acceleration\": 17.0, \"model_year\": 80, \"origin\": \"japan\", \"name\": \"honda accord\", \"h1\": 72.0, \"h2\": 5184.0, \"h3\": 373248.0, \"pred\": 29.703946222426847}, {\"mpg\": 27.2, \"cylinders\": 4, \"displacement\": 135.0, \"horsepower\": 84.0, \"weight\": 2490, \"acceleration\": 15.7, \"model_year\": 81, \"origin\": \"usa\", \"name\": \"plymouth reliant\", \"h1\": 84.0, \"h2\": 7056.0, \"h3\": 592704.0, \"pred\": 26.298563830669096}, {\"mpg\": 26.6, \"cylinders\": 4, \"displacement\": 151.0, \"horsepower\": 84.0, \"weight\": 2635, \"acceleration\": 16.4, \"model_year\": 81, \"origin\": \"usa\", \"name\": \"buick skylark\", \"h1\": 84.0, \"h2\": 7056.0, \"h3\": 592704.0, \"pred\": 26.298563830669096}, {\"mpg\": 25.8, \"cylinders\": 4, \"displacement\": 156.0, \"horsepower\": 92.0, \"weight\": 2620, \"acceleration\": 14.4, \"model_year\": 81, \"origin\": \"usa\", \"name\": \"dodge aries wagon (sw)\", \"h1\": 92.0, \"h2\": 8464.0, \"h3\": 778688.0, \"pred\": 24.275772588828225}, {\"mpg\": 23.5, \"cylinders\": 6, \"displacement\": 173.0, \"horsepower\": 110.0, \"weight\": 2725, \"acceleration\": 12.6, \"model_year\": 81, \"origin\": \"usa\", \"name\": \"chevrolet citation\", \"h1\": 110.0, \"h2\": 12100.0, \"h3\": 1331000.0, \"pred\": 20.41014798102548}, {\"mpg\": 30.0, \"cylinders\": 4, \"displacement\": 135.0, \"horsepower\": 84.0, \"weight\": 2385, \"acceleration\": 12.9, \"model_year\": 81, \"origin\": \"usa\", \"name\": \"plymouth reliant\", \"h1\": 84.0, \"h2\": 7056.0, \"h3\": 592704.0, \"pred\": 26.298563830669096}, {\"mpg\": 39.1, \"cylinders\": 4, \"displacement\": 79.0, \"horsepower\": 58.0, \"weight\": 1755, \"acceleration\": 16.9, \"model_year\": 81, \"origin\": \"japan\", \"name\": \"toyota starlet\", \"h1\": 58.0, \"h2\": 3364.0, \"h3\": 195112.0, \"pred\": 34.2664388740652}, {\"mpg\": 39.0, \"cylinders\": 4, \"displacement\": 86.0, \"horsepower\": 64.0, \"weight\": 1875, \"acceleration\": 16.4, \"model_year\": 81, \"origin\": \"usa\", \"name\": \"plymouth champ\", \"h1\": 64.0, \"h2\": 4096.0, \"h3\": 262144.0, \"pred\": 32.231281720344924}, {\"mpg\": 35.1, \"cylinders\": 4, \"displacement\": 81.0, \"horsepower\": 60.0, \"weight\": 1760, \"acceleration\": 16.1, \"model_year\": 81, \"origin\": \"japan\", \"name\": \"honda civic 1300\", \"h1\": 60.0, \"h2\": 3600.0, \"h3\": 216000.0, \"pred\": 33.57454655337747}, {\"mpg\": 32.3, \"cylinders\": 4, \"displacement\": 97.0, \"horsepower\": 67.0, \"weight\": 2065, \"acceleration\": 17.8, \"model_year\": 81, \"origin\": \"japan\", \"name\": \"subaru\", \"h1\": 67.0, \"h2\": 4489.0, \"h3\": 300763.0, \"pred\": 31.258882215573337}, {\"mpg\": 37.0, \"cylinders\": 4, \"displacement\": 85.0, \"horsepower\": 65.0, \"weight\": 1975, \"acceleration\": 19.4, \"model_year\": 81, \"origin\": \"japan\", \"name\": \"datsun 210 mpg\", \"h1\": 65.0, \"h2\": 4225.0, \"h3\": 274625.0, \"pred\": 31.903832006917995}, {\"mpg\": 37.7, \"cylinders\": 4, \"displacement\": 89.0, \"horsepower\": 62.0, \"weight\": 2050, \"acceleration\": 17.3, \"model_year\": 81, \"origin\": \"japan\", \"name\": \"toyota tercel\", \"h1\": 62.0, \"h2\": 3844.0, \"h3\": 238328.0, \"pred\": 32.89619518148528}, {\"mpg\": 34.1, \"cylinders\": 4, \"displacement\": 91.0, \"horsepower\": 68.0, \"weight\": 1985, \"acceleration\": 16.0, \"model_year\": 81, \"origin\": \"japan\", \"name\": \"mazda glc 4\", \"h1\": 68.0, \"h2\": 4624.0, \"h3\": 314432.0, \"pred\": 30.941356378144672}, {\"mpg\": 34.7, \"cylinders\": 4, \"displacement\": 105.0, \"horsepower\": 63.0, \"weight\": 2215, \"acceleration\": 14.9, \"model_year\": 81, \"origin\": \"usa\", \"name\": \"plymouth horizon 4\", \"h1\": 63.0, \"h2\": 3969.0, \"h3\": 250047.0, \"pred\": 32.56206515194886}, {\"mpg\": 34.4, \"cylinders\": 4, \"displacement\": 98.0, \"horsepower\": 65.0, \"weight\": 2045, \"acceleration\": 16.2, \"model_year\": 81, \"origin\": \"usa\", \"name\": \"ford escort 4w\", \"h1\": 65.0, \"h2\": 4225.0, \"h3\": 274625.0, \"pred\": 31.903832006917995}, {\"mpg\": 29.9, \"cylinders\": 4, \"displacement\": 98.0, \"horsepower\": 65.0, \"weight\": 2380, \"acceleration\": 20.7, \"model_year\": 81, \"origin\": \"usa\", \"name\": \"ford escort 2h\", \"h1\": 65.0, \"h2\": 4225.0, \"h3\": 274625.0, \"pred\": 31.903832006917995}, {\"mpg\": 33.0, \"cylinders\": 4, \"displacement\": 105.0, \"horsepower\": 74.0, \"weight\": 2190, \"acceleration\": 14.2, \"model_year\": 81, \"origin\": \"europe\", \"name\": \"volkswagen jetta\", \"h1\": 74.0, \"h2\": 5476.0, \"h3\": 405224.0, \"pred\": 29.104676744389504}, {\"mpg\": 33.7, \"cylinders\": 4, \"displacement\": 107.0, \"horsepower\": 75.0, \"weight\": 2210, \"acceleration\": 14.4, \"model_year\": 81, \"origin\": \"japan\", \"name\": \"honda prelude\", \"h1\": 75.0, \"h2\": 5625.0, \"h3\": 421875.0, \"pred\": 28.80985582618209}, {\"mpg\": 32.4, \"cylinders\": 4, \"displacement\": 108.0, \"horsepower\": 75.0, \"weight\": 2350, \"acceleration\": 16.8, \"model_year\": 81, \"origin\": \"japan\", \"name\": \"toyota corolla\", \"h1\": 75.0, \"h2\": 5625.0, \"h3\": 421875.0, \"pred\": 28.80985582618209}, {\"mpg\": 32.9, \"cylinders\": 4, \"displacement\": 119.0, \"horsepower\": 100.0, \"weight\": 2615, \"acceleration\": 14.8, \"model_year\": 81, \"origin\": \"japan\", \"name\": \"datsun 200sx\", \"h1\": 100.0, \"h2\": 10000.0, \"h3\": 1000000.0, \"pred\": 22.443258788519906}, {\"mpg\": 31.6, \"cylinders\": 4, \"displacement\": 120.0, \"horsepower\": 74.0, \"weight\": 2635, \"acceleration\": 18.3, \"model_year\": 81, \"origin\": \"japan\", \"name\": \"mazda 626\", \"h1\": 74.0, \"h2\": 5476.0, \"h3\": 405224.0, \"pred\": 29.104676744389504}, {\"mpg\": 28.1, \"cylinders\": 4, \"displacement\": 141.0, \"horsepower\": 80.0, \"weight\": 3230, \"acceleration\": 20.4, \"model_year\": 81, \"origin\": \"europe\", \"name\": \"peugeot 505s turbo diesel\", \"h1\": 80.0, \"h2\": 6400.0, \"h3\": 512000.0, \"pred\": 27.383374253038937}, {\"mpg\": 30.7, \"cylinders\": 6, \"displacement\": 145.0, \"horsepower\": 76.0, \"weight\": 3160, \"acceleration\": 19.6, \"model_year\": 81, \"origin\": \"europe\", \"name\": \"volvo diesel\", \"h1\": 76.0, \"h2\": 5776.0, \"h3\": 438976.0, \"pred\": 28.518226948841566}, {\"mpg\": 25.4, \"cylinders\": 6, \"displacement\": 168.0, \"horsepower\": 116.0, \"weight\": 2900, \"acceleration\": 12.6, \"model_year\": 81, \"origin\": \"japan\", \"name\": \"toyota cressida\", \"h1\": 116.0, \"h2\": 13456.0, \"h3\": 1560896.0, \"pred\": 19.322685773304734}, {\"mpg\": 24.2, \"cylinders\": 6, \"displacement\": 146.0, \"horsepower\": 120.0, \"weight\": 2930, \"acceleration\": 13.8, \"model_year\": 81, \"origin\": \"japan\", \"name\": \"datsun 810 maxima\", \"h1\": 120.0, \"h2\": 14400.0, \"h3\": 1728000.0, \"pred\": 18.651162116085267}, {\"mpg\": 22.4, \"cylinders\": 6, \"displacement\": 231.0, \"horsepower\": 110.0, \"weight\": 3415, \"acceleration\": 15.8, \"model_year\": 81, \"origin\": \"usa\", \"name\": \"buick century\", \"h1\": 110.0, \"h2\": 12100.0, \"h3\": 1331000.0, \"pred\": 20.41014798102548}, {\"mpg\": 26.6, \"cylinders\": 8, \"displacement\": 350.0, \"horsepower\": 105.0, \"weight\": 3725, \"acceleration\": 19.0, \"model_year\": 81, \"origin\": \"usa\", \"name\": \"oldsmobile cutlass ls\", \"h1\": 105.0, \"h2\": 11025.0, \"h3\": 1157625.0, \"pred\": 21.39163278223674}, {\"mpg\": 20.2, \"cylinders\": 6, \"displacement\": 200.0, \"horsepower\": 88.0, \"weight\": 3060, \"acceleration\": 17.1, \"model_year\": 81, \"origin\": \"usa\", \"name\": \"ford granada gl\", \"h1\": 88.0, \"h2\": 7744.0, \"h3\": 681472.0, \"pred\": 25.26297137738215}, {\"mpg\": 17.6, \"cylinders\": 6, \"displacement\": 225.0, \"horsepower\": 85.0, \"weight\": 3465, \"acceleration\": 16.6, \"model_year\": 81, \"origin\": \"usa\", \"name\": \"chrysler lebaron salon\", \"h1\": 85.0, \"h2\": 7225.0, \"h3\": 614125.0, \"pred\": 26.03508373213451}, {\"mpg\": 28.0, \"cylinders\": 4, \"displacement\": 112.0, \"horsepower\": 88.0, \"weight\": 2605, \"acceleration\": 19.6, \"model_year\": 82, \"origin\": \"usa\", \"name\": \"chevrolet cavalier\", \"h1\": 88.0, \"h2\": 7744.0, \"h3\": 681472.0, \"pred\": 25.26297137738215}, {\"mpg\": 27.0, \"cylinders\": 4, \"displacement\": 112.0, \"horsepower\": 88.0, \"weight\": 2640, \"acceleration\": 18.6, \"model_year\": 82, \"origin\": \"usa\", \"name\": \"chevrolet cavalier wagon\", \"h1\": 88.0, \"h2\": 7744.0, \"h3\": 681472.0, \"pred\": 25.26297137738215}, {\"mpg\": 34.0, \"cylinders\": 4, \"displacement\": 112.0, \"horsepower\": 88.0, \"weight\": 2395, \"acceleration\": 18.0, \"model_year\": 82, \"origin\": \"usa\", \"name\": \"chevrolet cavalier 2-door\", \"h1\": 88.0, \"h2\": 7744.0, \"h3\": 681472.0, \"pred\": 25.26297137738215}, {\"mpg\": 31.0, \"cylinders\": 4, \"displacement\": 112.0, \"horsepower\": 85.0, \"weight\": 2575, \"acceleration\": 16.2, \"model_year\": 82, \"origin\": \"usa\", \"name\": \"pontiac j2000 se hatchback\", \"h1\": 85.0, \"h2\": 7225.0, \"h3\": 614125.0, \"pred\": 26.03508373213451}, {\"mpg\": 29.0, \"cylinders\": 4, \"displacement\": 135.0, \"horsepower\": 84.0, \"weight\": 2525, \"acceleration\": 16.0, \"model_year\": 82, \"origin\": \"usa\", \"name\": \"dodge aries se\", \"h1\": 84.0, \"h2\": 7056.0, \"h3\": 592704.0, \"pred\": 26.298563830669096}, {\"mpg\": 27.0, \"cylinders\": 4, \"displacement\": 151.0, \"horsepower\": 90.0, \"weight\": 2735, \"acceleration\": 18.0, \"model_year\": 82, \"origin\": \"usa\", \"name\": \"pontiac phoenix\", \"h1\": 90.0, \"h2\": 8100.0, \"h3\": 729000.0, \"pred\": 24.76337429403543}, {\"mpg\": 24.0, \"cylinders\": 4, \"displacement\": 140.0, \"horsepower\": 92.0, \"weight\": 2865, \"acceleration\": 16.4, \"model_year\": 82, \"origin\": \"usa\", \"name\": \"ford fairmont futura\", \"h1\": 92.0, \"h2\": 8464.0, \"h3\": 778688.0, \"pred\": 24.275772588828225}, {\"mpg\": 36.0, \"cylinders\": 4, \"displacement\": 105.0, \"horsepower\": 74.0, \"weight\": 1980, \"acceleration\": 15.3, \"model_year\": 82, \"origin\": \"europe\", \"name\": \"volkswagen rabbit l\", \"h1\": 74.0, \"h2\": 5476.0, \"h3\": 405224.0, \"pred\": 29.104676744389504}, {\"mpg\": 37.0, \"cylinders\": 4, \"displacement\": 91.0, \"horsepower\": 68.0, \"weight\": 2025, \"acceleration\": 18.2, \"model_year\": 82, \"origin\": \"japan\", \"name\": \"mazda glc custom l\", \"h1\": 68.0, \"h2\": 4624.0, \"h3\": 314432.0, \"pred\": 30.941356378144672}, {\"mpg\": 31.0, \"cylinders\": 4, \"displacement\": 91.0, \"horsepower\": 68.0, \"weight\": 1970, \"acceleration\": 17.6, \"model_year\": 82, \"origin\": \"japan\", \"name\": \"mazda glc custom\", \"h1\": 68.0, \"h2\": 4624.0, \"h3\": 314432.0, \"pred\": 30.941356378144672}, {\"mpg\": 38.0, \"cylinders\": 4, \"displacement\": 105.0, \"horsepower\": 63.0, \"weight\": 2125, \"acceleration\": 14.7, \"model_year\": 82, \"origin\": \"usa\", \"name\": \"plymouth horizon miser\", \"h1\": 63.0, \"h2\": 3969.0, \"h3\": 250047.0, \"pred\": 32.56206515194886}, {\"mpg\": 36.0, \"cylinders\": 4, \"displacement\": 98.0, \"horsepower\": 70.0, \"weight\": 2125, \"acceleration\": 17.3, \"model_year\": 82, \"origin\": \"usa\", \"name\": \"mercury lynx l\", \"h1\": 70.0, \"h2\": 4900.0, \"h3\": 343000.0, \"pred\": 30.316138420997323}, {\"mpg\": 36.0, \"cylinders\": 4, \"displacement\": 120.0, \"horsepower\": 88.0, \"weight\": 2160, \"acceleration\": 14.5, \"model_year\": 82, \"origin\": \"japan\", \"name\": \"nissan stanza xe\", \"h1\": 88.0, \"h2\": 7744.0, \"h3\": 681472.0, \"pred\": 25.26297137738215}, {\"mpg\": 36.0, \"cylinders\": 4, \"displacement\": 107.0, \"horsepower\": 75.0, \"weight\": 2205, \"acceleration\": 14.5, \"model_year\": 82, \"origin\": \"japan\", \"name\": \"honda accord\", \"h1\": 75.0, \"h2\": 5625.0, \"h3\": 421875.0, \"pred\": 28.80985582618209}, {\"mpg\": 34.0, \"cylinders\": 4, \"displacement\": 108.0, \"horsepower\": 70.0, \"weight\": 2245, \"acceleration\": 16.9, \"model_year\": 82, \"origin\": \"japan\", \"name\": \"toyota corolla\", \"h1\": 70.0, \"h2\": 4900.0, \"h3\": 343000.0, \"pred\": 30.316138420997323}, {\"mpg\": 38.0, \"cylinders\": 4, \"displacement\": 91.0, \"horsepower\": 67.0, \"weight\": 1965, \"acceleration\": 15.0, \"model_year\": 82, \"origin\": \"japan\", \"name\": \"honda civic\", \"h1\": 67.0, \"h2\": 4489.0, \"h3\": 300763.0, \"pred\": 31.258882215573337}, {\"mpg\": 32.0, \"cylinders\": 4, \"displacement\": 91.0, \"horsepower\": 67.0, \"weight\": 1965, \"acceleration\": 15.7, \"model_year\": 82, \"origin\": \"japan\", \"name\": \"honda civic (auto)\", \"h1\": 67.0, \"h2\": 4489.0, \"h3\": 300763.0, \"pred\": 31.258882215573337}, {\"mpg\": 38.0, \"cylinders\": 4, \"displacement\": 91.0, \"horsepower\": 67.0, \"weight\": 1995, \"acceleration\": 16.2, \"model_year\": 82, \"origin\": \"japan\", \"name\": \"datsun 310 gx\", \"h1\": 67.0, \"h2\": 4489.0, \"h3\": 300763.0, \"pred\": 31.258882215573337}, {\"mpg\": 25.0, \"cylinders\": 6, \"displacement\": 181.0, \"horsepower\": 110.0, \"weight\": 2945, \"acceleration\": 16.4, \"model_year\": 82, \"origin\": \"usa\", \"name\": \"buick century limited\", \"h1\": 110.0, \"h2\": 12100.0, \"h3\": 1331000.0, \"pred\": 20.41014798102548}, {\"mpg\": 38.0, \"cylinders\": 6, \"displacement\": 262.0, \"horsepower\": 85.0, \"weight\": 3015, \"acceleration\": 17.0, \"model_year\": 82, \"origin\": \"usa\", \"name\": \"oldsmobile cutlass ciera (diesel)\", \"h1\": 85.0, \"h2\": 7225.0, \"h3\": 614125.0, \"pred\": 26.03508373213451}, {\"mpg\": 26.0, \"cylinders\": 4, \"displacement\": 156.0, \"horsepower\": 92.0, \"weight\": 2585, \"acceleration\": 14.5, \"model_year\": 82, \"origin\": \"usa\", \"name\": \"chrysler lebaron medallion\", \"h1\": 92.0, \"h2\": 8464.0, \"h3\": 778688.0, \"pred\": 24.275772588828225}, {\"mpg\": 22.0, \"cylinders\": 6, \"displacement\": 232.0, \"horsepower\": 112.0, \"weight\": 2835, \"acceleration\": 14.7, \"model_year\": 82, \"origin\": \"usa\", \"name\": \"ford granada l\", \"h1\": 112.0, \"h2\": 12544.0, \"h3\": 1404928.0, \"pred\": 20.036832964808042}, {\"mpg\": 32.0, \"cylinders\": 4, \"displacement\": 144.0, \"horsepower\": 96.0, \"weight\": 2665, \"acceleration\": 13.9, \"model_year\": 82, \"origin\": \"japan\", \"name\": \"toyota celica gt\", \"h1\": 96.0, \"h2\": 9216.0, \"h3\": 884736.0, \"pred\": 23.336143160657436}, {\"mpg\": 36.0, \"cylinders\": 4, \"displacement\": 135.0, \"horsepower\": 84.0, \"weight\": 2370, \"acceleration\": 13.0, \"model_year\": 82, \"origin\": \"usa\", \"name\": \"dodge charger 2.2\", \"h1\": 84.0, \"h2\": 7056.0, \"h3\": 592704.0, \"pred\": 26.298563830669096}, {\"mpg\": 27.0, \"cylinders\": 4, \"displacement\": 151.0, \"horsepower\": 90.0, \"weight\": 2950, \"acceleration\": 17.3, \"model_year\": 82, \"origin\": \"usa\", \"name\": \"chevrolet camaro\", \"h1\": 90.0, \"h2\": 8100.0, \"h3\": 729000.0, \"pred\": 24.76337429403543}, {\"mpg\": 27.0, \"cylinders\": 4, \"displacement\": 140.0, \"horsepower\": 86.0, \"weight\": 2790, \"acceleration\": 15.6, \"model_year\": 82, \"origin\": \"usa\", \"name\": \"ford mustang gl\", \"h1\": 86.0, \"h2\": 7396.0, \"h3\": 636056.0, \"pred\": 25.77466687691213}, {\"mpg\": 44.0, \"cylinders\": 4, \"displacement\": 97.0, \"horsepower\": 52.0, \"weight\": 2130, \"acceleration\": 24.6, \"model_year\": 82, \"origin\": \"europe\", \"name\": \"vw pickup\", \"h1\": 52.0, \"h2\": 2704.0, \"h3\": 140608.0, \"pred\": 36.42439190933901}, {\"mpg\": 32.0, \"cylinders\": 4, \"displacement\": 135.0, \"horsepower\": 84.0, \"weight\": 2295, \"acceleration\": 11.6, \"model_year\": 82, \"origin\": \"usa\", \"name\": \"dodge rampage\", \"h1\": 84.0, \"h2\": 7056.0, \"h3\": 592704.0, \"pred\": 26.298563830669096}, {\"mpg\": 28.0, \"cylinders\": 4, \"displacement\": 120.0, \"horsepower\": 79.0, \"weight\": 2625, \"acceleration\": 18.6, \"model_year\": 82, \"origin\": \"usa\", \"name\": \"ford ranger\", \"h1\": 79.0, \"h2\": 6241.0, \"h3\": 493039.0, \"pred\": 27.662363764466605}, {\"mpg\": 31.0, \"cylinders\": 4, \"displacement\": 119.0, \"horsepower\": 82.0, \"weight\": 2720, \"acceleration\": 19.4, \"model_year\": 82, \"origin\": \"usa\", \"name\": \"chevy s-10\", \"h1\": 82.0, \"h2\": 6724.0, \"h3\": 551368.0, \"pred\": 26.834765276696793}]}}, {\"mode\": \"vega-lite\"});\n",
       "</script>"
      ],
      "text/plain": [
       "alt.Chart(...)"
      ]
     },
     "execution_count": 29,
     "metadata": {},
     "output_type": "execute_result"
    }
   ],
   "source": [
    "alt.Chart(df).mark_circle().encode(\n",
    "    x=\"horsepower\",\n",
    "    y=\"mpg\"\n",
    ")"
   ]
  },
  {
   "cell_type": "markdown",
   "metadata": {},
   "source": [
    "Here is our fit data.  It's not obvious that it's a cubic polynomial, but it's clear that it is not a straight line at least."
   ]
  },
  {
   "cell_type": "code",
   "execution_count": 30,
   "metadata": {
    "cell_id": "913e85aded7748308b9e8db4dfd783d6",
    "deepnote_cell_type": "code",
    "deepnote_to_be_reexecuted": false,
    "execution_millis": 26,
    "execution_start": 1683319777184,
    "source_hash": "59b5a344"
   },
   "outputs": [
    {
     "data": {
      "text/html": [
       "\n",
       "<div id=\"altair-viz-4d8903238ddb4829bc57b4e876ad3b3c\"></div>\n",
       "<script type=\"text/javascript\">\n",
       "  var VEGA_DEBUG = (typeof VEGA_DEBUG == \"undefined\") ? {} : VEGA_DEBUG;\n",
       "  (function(spec, embedOpt){\n",
       "    let outputDiv = document.currentScript.previousElementSibling;\n",
       "    if (outputDiv.id !== \"altair-viz-4d8903238ddb4829bc57b4e876ad3b3c\") {\n",
       "      outputDiv = document.getElementById(\"altair-viz-4d8903238ddb4829bc57b4e876ad3b3c\");\n",
       "    }\n",
       "    const paths = {\n",
       "      \"vega\": \"https://cdn.jsdelivr.net/npm//vega@5?noext\",\n",
       "      \"vega-lib\": \"https://cdn.jsdelivr.net/npm//vega-lib?noext\",\n",
       "      \"vega-lite\": \"https://cdn.jsdelivr.net/npm//vega-lite@4.17.0?noext\",\n",
       "      \"vega-embed\": \"https://cdn.jsdelivr.net/npm//vega-embed@6?noext\",\n",
       "    };\n",
       "\n",
       "    function maybeLoadScript(lib, version) {\n",
       "      var key = `${lib.replace(\"-\", \"\")}_version`;\n",
       "      return (VEGA_DEBUG[key] == version) ?\n",
       "        Promise.resolve(paths[lib]) :\n",
       "        new Promise(function(resolve, reject) {\n",
       "          var s = document.createElement('script');\n",
       "          document.getElementsByTagName(\"head\")[0].appendChild(s);\n",
       "          s.async = true;\n",
       "          s.onload = () => {\n",
       "            VEGA_DEBUG[key] = version;\n",
       "            return resolve(paths[lib]);\n",
       "          };\n",
       "          s.onerror = () => reject(`Error loading script: ${paths[lib]}`);\n",
       "          s.src = paths[lib];\n",
       "        });\n",
       "    }\n",
       "\n",
       "    function showError(err) {\n",
       "      outputDiv.innerHTML = `<div class=\"error\" style=\"color:red;\">${err}</div>`;\n",
       "      throw err;\n",
       "    }\n",
       "\n",
       "    function displayChart(vegaEmbed) {\n",
       "      vegaEmbed(outputDiv, spec, embedOpt)\n",
       "        .catch(err => showError(`Javascript Error: ${err.message}<br>This usually means there's a typo in your chart specification. See the javascript console for the full traceback.`));\n",
       "    }\n",
       "\n",
       "    if(typeof define === \"function\" && define.amd) {\n",
       "      requirejs.config({paths});\n",
       "      require([\"vega-embed\"], displayChart, err => showError(`Error loading script: ${err.message}`));\n",
       "    } else {\n",
       "      maybeLoadScript(\"vega\", \"5\")\n",
       "        .then(() => maybeLoadScript(\"vega-lite\", \"4.17.0\"))\n",
       "        .then(() => maybeLoadScript(\"vega-embed\", \"6\"))\n",
       "        .catch(showError)\n",
       "        .then(() => displayChart(vegaEmbed));\n",
       "    }\n",
       "  })({\"config\": {\"view\": {\"continuousWidth\": 400, \"continuousHeight\": 300}}, \"data\": {\"name\": \"data-e29e62db7e2159138ee066d59a035512\"}, \"mark\": \"circle\", \"encoding\": {\"x\": {\"field\": \"horsepower\", \"type\": \"quantitative\"}, \"y\": {\"field\": \"pred\", \"type\": \"quantitative\"}}, \"$schema\": \"https://vega.github.io/schema/vega-lite/v4.17.0.json\", \"datasets\": {\"data-e29e62db7e2159138ee066d59a035512\": [{\"mpg\": 18.0, \"cylinders\": 8, \"displacement\": 307.0, \"horsepower\": 130.0, \"weight\": 3504, \"acceleration\": 12.0, \"model_year\": 70, \"origin\": \"usa\", \"name\": \"chevrolet chevelle malibu\", \"h1\": 130.0, \"h2\": 16900.0, \"h3\": 2197000.0, \"pred\": 17.15342143823237}, {\"mpg\": 15.0, \"cylinders\": 8, \"displacement\": 350.0, \"horsepower\": 165.0, \"weight\": 3693, \"acceleration\": 11.5, \"model_year\": 70, \"origin\": \"usa\", \"name\": \"buick skylark 320\", \"h1\": 165.0, \"h2\": 27225.0, \"h3\": 4492125.0, \"pred\": 13.782683444506688}, {\"mpg\": 18.0, \"cylinders\": 8, \"displacement\": 318.0, \"horsepower\": 150.0, \"weight\": 3436, \"acceleration\": 11.0, \"model_year\": 70, \"origin\": \"usa\", \"name\": \"plymouth satellite\", \"h1\": 150.0, \"h2\": 22500.0, \"h3\": 3375000.0, \"pred\": 14.890156621920994}, {\"mpg\": 16.0, \"cylinders\": 8, \"displacement\": 304.0, \"horsepower\": 150.0, \"weight\": 3433, \"acceleration\": 12.0, \"model_year\": 70, \"origin\": \"usa\", \"name\": \"amc rebel sst\", \"h1\": 150.0, \"h2\": 22500.0, \"h3\": 3375000.0, \"pred\": 14.890156621920994}, {\"mpg\": 17.0, \"cylinders\": 8, \"displacement\": 302.0, \"horsepower\": 140.0, \"weight\": 3449, \"acceleration\": 10.5, \"model_year\": 70, \"origin\": \"usa\", \"name\": \"ford torino\", \"h1\": 140.0, \"h2\": 19600.0, \"h3\": 2744000.0, \"pred\": 15.90404619199991}, {\"mpg\": 15.0, \"cylinders\": 8, \"displacement\": 429.0, \"horsepower\": 198.0, \"weight\": 4341, \"acceleration\": 10.0, \"model_year\": 70, \"origin\": \"usa\", \"name\": \"ford galaxie 500\", \"h1\": 198.0, \"h2\": 39204.0, \"h3\": 7762392.0, \"pred\": 12.895065253108243}, {\"mpg\": 14.0, \"cylinders\": 8, \"displacement\": 454.0, \"horsepower\": 220.0, \"weight\": 4354, \"acceleration\": 9.0, \"model_year\": 70, \"origin\": \"usa\", \"name\": \"chevrolet impala\", \"h1\": 220.0, \"h2\": 48400.0, \"h3\": 10648000.0, \"pred\": 13.304629104449148}, {\"mpg\": 14.0, \"cylinders\": 8, \"displacement\": 440.0, \"horsepower\": 215.0, \"weight\": 4312, \"acceleration\": 8.5, \"model_year\": 70, \"origin\": \"usa\", \"name\": \"plymouth fury iii\", \"h1\": 215.0, \"h2\": 46225.0, \"h3\": 9938375.0, \"pred\": 13.150329660718661}, {\"mpg\": 14.0, \"cylinders\": 8, \"displacement\": 455.0, \"horsepower\": 225.0, \"weight\": 4425, \"acceleration\": 10.0, \"model_year\": 70, \"origin\": \"usa\", \"name\": \"pontiac catalina\", \"h1\": 225.0, \"h2\": 50625.0, \"h3\": 11390625.0, \"pred\": 13.49204045628425}, {\"mpg\": 15.0, \"cylinders\": 8, \"displacement\": 390.0, \"horsepower\": 190.0, \"weight\": 3850, \"acceleration\": 8.5, \"model_year\": 70, \"origin\": \"usa\", \"name\": \"amc ambassador dpl\", \"h1\": 190.0, \"h2\": 36100.0, \"h3\": 6859000.0, \"pred\": 12.931859993802988}, {\"mpg\": 15.0, \"cylinders\": 8, \"displacement\": 383.0, \"horsepower\": 170.0, \"weight\": 3563, \"acceleration\": 10.0, \"model_year\": 70, \"origin\": \"usa\", \"name\": \"dodge challenger se\", \"h1\": 170.0, \"h2\": 28900.0, \"h3\": 4913000.0, \"pred\": 13.517315488356232}, {\"mpg\": 14.0, \"cylinders\": 8, \"displacement\": 340.0, \"horsepower\": 160.0, \"weight\": 3609, \"acceleration\": 8.0, \"model_year\": 70, \"origin\": \"usa\", \"name\": \"plymouth 'cuda 340\", \"h1\": 160.0, \"h2\": 25600.0, \"h3\": 4096000.0, \"pred\": 14.098872972528724}, {\"mpg\": 15.0, \"cylinders\": 8, \"displacement\": 400.0, \"horsepower\": 150.0, \"weight\": 3761, \"acceleration\": 9.5, \"model_year\": 70, \"origin\": \"usa\", \"name\": \"chevrolet monte carlo\", \"h1\": 150.0, \"h2\": 22500.0, \"h3\": 3375000.0, \"pred\": 14.890156621920994}, {\"mpg\": 14.0, \"cylinders\": 8, \"displacement\": 455.0, \"horsepower\": 225.0, \"weight\": 3086, \"acceleration\": 10.0, \"model_year\": 70, \"origin\": \"usa\", \"name\": \"buick estate wagon (sw)\", \"h1\": 225.0, \"h2\": 50625.0, \"h3\": 11390625.0, \"pred\": 13.49204045628425}, {\"mpg\": 24.0, \"cylinders\": 4, \"displacement\": 113.0, \"horsepower\": 95.0, \"weight\": 2372, \"acceleration\": 15.0, \"model_year\": 70, \"origin\": \"japan\", \"name\": \"toyota corona mark ii\", \"h1\": 95.0, \"h2\": 9025.0, \"h3\": 857375.0, \"pred\": 23.56663596930835}, {\"mpg\": 22.0, \"cylinders\": 6, \"displacement\": 198.0, \"horsepower\": 95.0, \"weight\": 2833, \"acceleration\": 15.5, \"model_year\": 70, \"origin\": \"usa\", \"name\": \"plymouth duster\", \"h1\": 95.0, \"h2\": 9025.0, \"h3\": 857375.0, \"pred\": 23.56663596930835}, {\"mpg\": 18.0, \"cylinders\": 6, \"displacement\": 199.0, \"horsepower\": 97.0, \"weight\": 2774, \"acceleration\": 15.5, \"model_year\": 70, \"origin\": \"usa\", \"name\": \"amc hornet\", \"h1\": 97.0, \"h2\": 9409.0, \"h3\": 912673.0, \"pred\": 23.108571918008607}, {\"mpg\": 21.0, \"cylinders\": 6, \"displacement\": 200.0, \"horsepower\": 85.0, \"weight\": 2587, \"acceleration\": 16.0, \"model_year\": 70, \"origin\": \"usa\", \"name\": \"ford maverick\", \"h1\": 85.0, \"h2\": 7225.0, \"h3\": 614125.0, \"pred\": 26.03508373213451}, {\"mpg\": 27.0, \"cylinders\": 4, \"displacement\": 97.0, \"horsepower\": 88.0, \"weight\": 2130, \"acceleration\": 14.5, \"model_year\": 70, \"origin\": \"japan\", \"name\": \"datsun pl510\", \"h1\": 88.0, \"h2\": 7744.0, \"h3\": 681472.0, \"pred\": 25.26297137738215}, {\"mpg\": 26.0, \"cylinders\": 4, \"displacement\": 97.0, \"horsepower\": 46.0, \"weight\": 1835, \"acceleration\": 20.5, \"model_year\": 70, \"origin\": \"europe\", \"name\": \"volkswagen 1131 deluxe sedan\", \"h1\": 46.0, \"h2\": 2116.0, \"h3\": 97336.0, \"pred\": 38.70792285334719}, {\"mpg\": 25.0, \"cylinders\": 4, \"displacement\": 110.0, \"horsepower\": 87.0, \"weight\": 2672, \"acceleration\": 17.5, \"model_year\": 70, \"origin\": \"europe\", \"name\": \"peugeot 504\", \"h1\": 87.0, \"h2\": 7569.0, \"h3\": 658503.0, \"pred\": 25.5173003852465}, {\"mpg\": 24.0, \"cylinders\": 4, \"displacement\": 107.0, \"horsepower\": 90.0, \"weight\": 2430, \"acceleration\": 14.5, \"model_year\": 70, \"origin\": \"europe\", \"name\": \"audi 100 ls\", \"h1\": 90.0, \"h2\": 8100.0, \"h3\": 729000.0, \"pred\": 24.76337429403543}, {\"mpg\": 25.0, \"cylinders\": 4, \"displacement\": 104.0, \"horsepower\": 95.0, \"weight\": 2375, \"acceleration\": 17.5, \"model_year\": 70, \"origin\": \"europe\", \"name\": \"saab 99e\", \"h1\": 95.0, \"h2\": 9025.0, \"h3\": 857375.0, \"pred\": 23.56663596930835}, {\"mpg\": 26.0, \"cylinders\": 4, \"displacement\": 121.0, \"horsepower\": 113.0, \"weight\": 2234, \"acceleration\": 12.5, \"model_year\": 70, \"origin\": \"europe\", \"name\": \"bmw 2002\", \"h1\": 113.0, \"h2\": 12769.0, \"h3\": 1442897.0, \"pred\": 19.854255131448973}, {\"mpg\": 21.0, \"cylinders\": 6, \"displacement\": 199.0, \"horsepower\": 90.0, \"weight\": 2648, \"acceleration\": 15.0, \"model_year\": 70, \"origin\": \"usa\", \"name\": \"amc gremlin\", \"h1\": 90.0, \"h2\": 8100.0, \"h3\": 729000.0, \"pred\": 24.76337429403543}, {\"mpg\": 10.0, \"cylinders\": 8, \"displacement\": 360.0, \"horsepower\": 215.0, \"weight\": 4615, \"acceleration\": 14.0, \"model_year\": 70, \"origin\": \"usa\", \"name\": \"ford f250\", \"h1\": 215.0, \"h2\": 46225.0, \"h3\": 9938375.0, \"pred\": 13.150329660718661}, {\"mpg\": 10.0, \"cylinders\": 8, \"displacement\": 307.0, \"horsepower\": 200.0, \"weight\": 4376, \"acceleration\": 15.0, \"model_year\": 70, \"origin\": \"usa\", \"name\": \"chevy c20\", \"h1\": 200.0, \"h2\": 40000.0, \"h3\": 8000000.0, \"pred\": 12.902202472488455}, {\"mpg\": 11.0, \"cylinders\": 8, \"displacement\": 318.0, \"horsepower\": 210.0, \"weight\": 4382, \"acceleration\": 13.5, \"model_year\": 70, \"origin\": \"usa\", \"name\": \"dodge d200\", \"h1\": 210.0, \"h2\": 44100.0, \"h3\": 9261000.0, \"pred\": 13.030752094526136}, {\"mpg\": 9.0, \"cylinders\": 8, \"displacement\": 304.0, \"horsepower\": 193.0, \"weight\": 4732, \"acceleration\": 18.5, \"model_year\": 70, \"origin\": \"usa\", \"name\": \"hi 1200d\", \"h1\": 193.0, \"h2\": 37249.0, \"h3\": 7189057.0, \"pred\": 12.905584641906358}, {\"mpg\": 27.0, \"cylinders\": 4, \"displacement\": 97.0, \"horsepower\": 88.0, \"weight\": 2130, \"acceleration\": 14.5, \"model_year\": 71, \"origin\": \"japan\", \"name\": \"datsun pl510\", \"h1\": 88.0, \"h2\": 7744.0, \"h3\": 681472.0, \"pred\": 25.26297137738215}, {\"mpg\": 28.0, \"cylinders\": 4, \"displacement\": 140.0, \"horsepower\": 90.0, \"weight\": 2264, \"acceleration\": 15.5, \"model_year\": 71, \"origin\": \"usa\", \"name\": \"chevrolet vega 2300\", \"h1\": 90.0, \"h2\": 8100.0, \"h3\": 729000.0, \"pred\": 24.76337429403543}, {\"mpg\": 25.0, \"cylinders\": 4, \"displacement\": 113.0, \"horsepower\": 95.0, \"weight\": 2228, \"acceleration\": 14.0, \"model_year\": 71, \"origin\": \"japan\", \"name\": \"toyota corona\", \"h1\": 95.0, \"h2\": 9025.0, \"h3\": 857375.0, \"pred\": 23.56663596930835}, {\"mpg\": 19.0, \"cylinders\": 6, \"displacement\": 232.0, \"horsepower\": 100.0, \"weight\": 2634, \"acceleration\": 13.0, \"model_year\": 71, \"origin\": \"usa\", \"name\": \"amc gremlin\", \"h1\": 100.0, \"h2\": 10000.0, \"h3\": 1000000.0, \"pred\": 22.443258788519906}, {\"mpg\": 16.0, \"cylinders\": 6, \"displacement\": 225.0, \"horsepower\": 105.0, \"weight\": 3439, \"acceleration\": 15.5, \"model_year\": 71, \"origin\": \"usa\", \"name\": \"plymouth satellite custom\", \"h1\": 105.0, \"h2\": 11025.0, \"h3\": 1157625.0, \"pred\": 21.39163278223674}, {\"mpg\": 17.0, \"cylinders\": 6, \"displacement\": 250.0, \"horsepower\": 100.0, \"weight\": 3329, \"acceleration\": 15.5, \"model_year\": 71, \"origin\": \"usa\", \"name\": \"chevrolet chevelle malibu\", \"h1\": 100.0, \"h2\": 10000.0, \"h3\": 1000000.0, \"pred\": 22.443258788519906}, {\"mpg\": 19.0, \"cylinders\": 6, \"displacement\": 250.0, \"horsepower\": 88.0, \"weight\": 3302, \"acceleration\": 15.5, \"model_year\": 71, \"origin\": \"usa\", \"name\": \"ford torino 500\", \"h1\": 88.0, \"h2\": 7744.0, \"h3\": 681472.0, \"pred\": 25.26297137738215}, {\"mpg\": 18.0, \"cylinders\": 6, \"displacement\": 232.0, \"horsepower\": 100.0, \"weight\": 3288, \"acceleration\": 15.5, \"model_year\": 71, \"origin\": \"usa\", \"name\": \"amc matador\", \"h1\": 100.0, \"h2\": 10000.0, \"h3\": 1000000.0, \"pred\": 22.443258788519906}, {\"mpg\": 14.0, \"cylinders\": 8, \"displacement\": 350.0, \"horsepower\": 165.0, \"weight\": 4209, \"acceleration\": 12.0, \"model_year\": 71, \"origin\": \"usa\", \"name\": \"chevrolet impala\", \"h1\": 165.0, \"h2\": 27225.0, \"h3\": 4492125.0, \"pred\": 13.782683444506688}, {\"mpg\": 14.0, \"cylinders\": 8, \"displacement\": 400.0, \"horsepower\": 175.0, \"weight\": 4464, \"acceleration\": 11.5, \"model_year\": 71, \"origin\": \"usa\", \"name\": \"pontiac catalina brougham\", \"h1\": 175.0, \"h2\": 30625.0, \"h3\": 5359375.0, \"pred\": 13.301159134643996}, {\"mpg\": 14.0, \"cylinders\": 8, \"displacement\": 351.0, \"horsepower\": 153.0, \"weight\": 4154, \"acceleration\": 13.5, \"model_year\": 71, \"origin\": \"usa\", \"name\": \"ford galaxie 500\", \"h1\": 153.0, \"h2\": 23409.0, \"h3\": 3581577.0, \"pred\": 14.62998393430496}, {\"mpg\": 14.0, \"cylinders\": 8, \"displacement\": 318.0, \"horsepower\": 150.0, \"weight\": 4096, \"acceleration\": 13.0, \"model_year\": 71, \"origin\": \"usa\", \"name\": \"plymouth fury iii\", \"h1\": 150.0, \"h2\": 22500.0, \"h3\": 3375000.0, \"pred\": 14.890156621920994}, {\"mpg\": 12.0, \"cylinders\": 8, \"displacement\": 383.0, \"horsepower\": 180.0, \"weight\": 4955, \"acceleration\": 11.5, \"model_year\": 71, \"origin\": \"usa\", \"name\": \"dodge monaco (sw)\", \"h1\": 180.0, \"h2\": 32400.0, \"h3\": 5832000.0, \"pred\": 13.132604413936612}, {\"mpg\": 13.0, \"cylinders\": 8, \"displacement\": 400.0, \"horsepower\": 170.0, \"weight\": 4746, \"acceleration\": 12.0, \"model_year\": 71, \"origin\": \"usa\", \"name\": \"ford country squire (sw)\", \"h1\": 170.0, \"h2\": 28900.0, \"h3\": 4913000.0, \"pred\": 13.517315488356232}, {\"mpg\": 13.0, \"cylinders\": 8, \"displacement\": 400.0, \"horsepower\": 175.0, \"weight\": 5140, \"acceleration\": 12.0, \"model_year\": 71, \"origin\": \"usa\", \"name\": \"pontiac safari (sw)\", \"h1\": 175.0, \"h2\": 30625.0, \"h3\": 5359375.0, \"pred\": 13.301159134643996}, {\"mpg\": 18.0, \"cylinders\": 6, \"displacement\": 258.0, \"horsepower\": 110.0, \"weight\": 2962, \"acceleration\": 13.5, \"model_year\": 71, \"origin\": \"usa\", \"name\": \"amc hornet sportabout (sw)\", \"h1\": 110.0, \"h2\": 12100.0, \"h3\": 1331000.0, \"pred\": 20.41014798102548}, {\"mpg\": 22.0, \"cylinders\": 4, \"displacement\": 140.0, \"horsepower\": 72.0, \"weight\": 2408, \"acceleration\": 19.0, \"model_year\": 71, \"origin\": \"usa\", \"name\": \"chevrolet vega (sw)\", \"h1\": 72.0, \"h2\": 5184.0, \"h3\": 373248.0, \"pred\": 29.703946222426847}, {\"mpg\": 19.0, \"cylinders\": 6, \"displacement\": 250.0, \"horsepower\": 100.0, \"weight\": 3282, \"acceleration\": 15.0, \"model_year\": 71, \"origin\": \"usa\", \"name\": \"pontiac firebird\", \"h1\": 100.0, \"h2\": 10000.0, \"h3\": 1000000.0, \"pred\": 22.443258788519906}, {\"mpg\": 18.0, \"cylinders\": 6, \"displacement\": 250.0, \"horsepower\": 88.0, \"weight\": 3139, \"acceleration\": 14.5, \"model_year\": 71, \"origin\": \"usa\", \"name\": \"ford mustang\", \"h1\": 88.0, \"h2\": 7744.0, \"h3\": 681472.0, \"pred\": 25.26297137738215}, {\"mpg\": 23.0, \"cylinders\": 4, \"displacement\": 122.0, \"horsepower\": 86.0, \"weight\": 2220, \"acceleration\": 14.0, \"model_year\": 71, \"origin\": \"usa\", \"name\": \"mercury capri 2000\", \"h1\": 86.0, \"h2\": 7396.0, \"h3\": 636056.0, \"pred\": 25.77466687691213}, {\"mpg\": 28.0, \"cylinders\": 4, \"displacement\": 116.0, \"horsepower\": 90.0, \"weight\": 2123, \"acceleration\": 14.0, \"model_year\": 71, \"origin\": \"europe\", \"name\": \"opel 1900\", \"h1\": 90.0, \"h2\": 8100.0, \"h3\": 729000.0, \"pred\": 24.76337429403543}, {\"mpg\": 30.0, \"cylinders\": 4, \"displacement\": 79.0, \"horsepower\": 70.0, \"weight\": 2074, \"acceleration\": 19.5, \"model_year\": 71, \"origin\": \"europe\", \"name\": \"peugeot 304\", \"h1\": 70.0, \"h2\": 4900.0, \"h3\": 343000.0, \"pred\": 30.316138420997323}, {\"mpg\": 30.0, \"cylinders\": 4, \"displacement\": 88.0, \"horsepower\": 76.0, \"weight\": 2065, \"acceleration\": 14.5, \"model_year\": 71, \"origin\": \"europe\", \"name\": \"fiat 124b\", \"h1\": 76.0, \"h2\": 5776.0, \"h3\": 438976.0, \"pred\": 28.518226948841566}, {\"mpg\": 31.0, \"cylinders\": 4, \"displacement\": 71.0, \"horsepower\": 65.0, \"weight\": 1773, \"acceleration\": 19.0, \"model_year\": 71, \"origin\": \"japan\", \"name\": \"toyota corolla 1200\", \"h1\": 65.0, \"h2\": 4225.0, \"h3\": 274625.0, \"pred\": 31.903832006917995}, {\"mpg\": 35.0, \"cylinders\": 4, \"displacement\": 72.0, \"horsepower\": 69.0, \"weight\": 1613, \"acceleration\": 18.0, \"model_year\": 71, \"origin\": \"japan\", \"name\": \"datsun 1200\", \"h1\": 69.0, \"h2\": 4761.0, \"h3\": 328509.0, \"pred\": 30.627112739871155}, {\"mpg\": 27.0, \"cylinders\": 4, \"displacement\": 97.0, \"horsepower\": 60.0, \"weight\": 1834, \"acceleration\": 19.0, \"model_year\": 71, \"origin\": \"europe\", \"name\": \"volkswagen model 111\", \"h1\": 60.0, \"h2\": 3600.0, \"h3\": 216000.0, \"pred\": 33.57454655337747}, {\"mpg\": 26.0, \"cylinders\": 4, \"displacement\": 91.0, \"horsepower\": 70.0, \"weight\": 1955, \"acceleration\": 20.5, \"model_year\": 71, \"origin\": \"usa\", \"name\": \"plymouth cricket\", \"h1\": 70.0, \"h2\": 4900.0, \"h3\": 343000.0, \"pred\": 30.316138420997323}, {\"mpg\": 24.0, \"cylinders\": 4, \"displacement\": 113.0, \"horsepower\": 95.0, \"weight\": 2278, \"acceleration\": 15.5, \"model_year\": 72, \"origin\": \"japan\", \"name\": \"toyota corona hardtop\", \"h1\": 95.0, \"h2\": 9025.0, \"h3\": 857375.0, \"pred\": 23.56663596930835}, {\"mpg\": 25.0, \"cylinders\": 4, \"displacement\": 97.5, \"horsepower\": 80.0, \"weight\": 2126, \"acceleration\": 17.0, \"model_year\": 72, \"origin\": \"usa\", \"name\": \"dodge colt hardtop\", \"h1\": 80.0, \"h2\": 6400.0, \"h3\": 512000.0, \"pred\": 27.383374253038937}, {\"mpg\": 23.0, \"cylinders\": 4, \"displacement\": 97.0, \"horsepower\": 54.0, \"weight\": 2254, \"acceleration\": 23.5, \"model_year\": 72, \"origin\": \"europe\", \"name\": \"volkswagen type 3\", \"h1\": 54.0, \"h2\": 2916.0, \"h3\": 157464.0, \"pred\": 35.69125851400223}, {\"mpg\": 20.0, \"cylinders\": 4, \"displacement\": 140.0, \"horsepower\": 90.0, \"weight\": 2408, \"acceleration\": 19.5, \"model_year\": 72, \"origin\": \"usa\", \"name\": \"chevrolet vega\", \"h1\": 90.0, \"h2\": 8100.0, \"h3\": 729000.0, \"pred\": 24.76337429403543}, {\"mpg\": 21.0, \"cylinders\": 4, \"displacement\": 122.0, \"horsepower\": 86.0, \"weight\": 2226, \"acceleration\": 16.5, \"model_year\": 72, \"origin\": \"usa\", \"name\": \"ford pinto runabout\", \"h1\": 86.0, \"h2\": 7396.0, \"h3\": 636056.0, \"pred\": 25.77466687691213}, {\"mpg\": 13.0, \"cylinders\": 8, \"displacement\": 350.0, \"horsepower\": 165.0, \"weight\": 4274, \"acceleration\": 12.0, \"model_year\": 72, \"origin\": \"usa\", \"name\": \"chevrolet impala\", \"h1\": 165.0, \"h2\": 27225.0, \"h3\": 4492125.0, \"pred\": 13.782683444506688}, {\"mpg\": 14.0, \"cylinders\": 8, \"displacement\": 400.0, \"horsepower\": 175.0, \"weight\": 4385, \"acceleration\": 12.0, \"model_year\": 72, \"origin\": \"usa\", \"name\": \"pontiac catalina\", \"h1\": 175.0, \"h2\": 30625.0, \"h3\": 5359375.0, \"pred\": 13.301159134643996}, {\"mpg\": 15.0, \"cylinders\": 8, \"displacement\": 318.0, \"horsepower\": 150.0, \"weight\": 4135, \"acceleration\": 13.5, \"model_year\": 72, \"origin\": \"usa\", \"name\": \"plymouth fury iii\", \"h1\": 150.0, \"h2\": 22500.0, \"h3\": 3375000.0, \"pred\": 14.890156621920994}, {\"mpg\": 14.0, \"cylinders\": 8, \"displacement\": 351.0, \"horsepower\": 153.0, \"weight\": 4129, \"acceleration\": 13.0, \"model_year\": 72, \"origin\": \"usa\", \"name\": \"ford galaxie 500\", \"h1\": 153.0, \"h2\": 23409.0, \"h3\": 3581577.0, \"pred\": 14.62998393430496}, {\"mpg\": 17.0, \"cylinders\": 8, \"displacement\": 304.0, \"horsepower\": 150.0, \"weight\": 3672, \"acceleration\": 11.5, \"model_year\": 72, \"origin\": \"usa\", \"name\": \"amc ambassador sst\", \"h1\": 150.0, \"h2\": 22500.0, \"h3\": 3375000.0, \"pred\": 14.890156621920994}, {\"mpg\": 11.0, \"cylinders\": 8, \"displacement\": 429.0, \"horsepower\": 208.0, \"weight\": 4633, \"acceleration\": 11.0, \"model_year\": 72, \"origin\": \"usa\", \"name\": \"mercury marquis\", \"h1\": 208.0, \"h2\": 43264.0, \"h3\": 8998912.0, \"pred\": 12.993003826912833}, {\"mpg\": 13.0, \"cylinders\": 8, \"displacement\": 350.0, \"horsepower\": 155.0, \"weight\": 4502, \"acceleration\": 13.5, \"model_year\": 72, \"origin\": \"usa\", \"name\": \"buick lesabre custom\", \"h1\": 155.0, \"h2\": 24025.0, \"h3\": 3723875.0, \"pred\": 14.467494041855709}, {\"mpg\": 12.0, \"cylinders\": 8, \"displacement\": 350.0, \"horsepower\": 160.0, \"weight\": 4456, \"acceleration\": 13.5, \"model_year\": 72, \"origin\": \"usa\", \"name\": \"oldsmobile delta 88 royale\", \"h1\": 160.0, \"h2\": 25600.0, \"h3\": 4096000.0, \"pred\": 14.098872972528724}, {\"mpg\": 13.0, \"cylinders\": 8, \"displacement\": 400.0, \"horsepower\": 190.0, \"weight\": 4422, \"acceleration\": 12.5, \"model_year\": 72, \"origin\": \"usa\", \"name\": \"chrysler newport royal\", \"h1\": 190.0, \"h2\": 36100.0, \"h3\": 6859000.0, \"pred\": 12.931859993802988}, {\"mpg\": 19.0, \"cylinders\": 3, \"displacement\": 70.0, \"horsepower\": 97.0, \"weight\": 2330, \"acceleration\": 13.5, \"model_year\": 72, \"origin\": \"japan\", \"name\": \"mazda rx2 coupe\", \"h1\": 97.0, \"h2\": 9409.0, \"h3\": 912673.0, \"pred\": 23.108571918008607}, {\"mpg\": 15.0, \"cylinders\": 8, \"displacement\": 304.0, \"horsepower\": 150.0, \"weight\": 3892, \"acceleration\": 12.5, \"model_year\": 72, \"origin\": \"usa\", \"name\": \"amc matador (sw)\", \"h1\": 150.0, \"h2\": 22500.0, \"h3\": 3375000.0, \"pred\": 14.890156621920994}, {\"mpg\": 13.0, \"cylinders\": 8, \"displacement\": 307.0, \"horsepower\": 130.0, \"weight\": 4098, \"acceleration\": 14.0, \"model_year\": 72, \"origin\": \"usa\", \"name\": \"chevrolet chevelle concours (sw)\", \"h1\": 130.0, \"h2\": 16900.0, \"h3\": 2197000.0, \"pred\": 17.15342143823237}, {\"mpg\": 13.0, \"cylinders\": 8, \"displacement\": 302.0, \"horsepower\": 140.0, \"weight\": 4294, \"acceleration\": 16.0, \"model_year\": 72, \"origin\": \"usa\", \"name\": \"ford gran torino (sw)\", \"h1\": 140.0, \"h2\": 19600.0, \"h3\": 2744000.0, \"pred\": 15.90404619199991}, {\"mpg\": 14.0, \"cylinders\": 8, \"displacement\": 318.0, \"horsepower\": 150.0, \"weight\": 4077, \"acceleration\": 14.0, \"model_year\": 72, \"origin\": \"usa\", \"name\": \"plymouth satellite custom (sw)\", \"h1\": 150.0, \"h2\": 22500.0, \"h3\": 3375000.0, \"pred\": 14.890156621920994}, {\"mpg\": 18.0, \"cylinders\": 4, \"displacement\": 121.0, \"horsepower\": 112.0, \"weight\": 2933, \"acceleration\": 14.5, \"model_year\": 72, \"origin\": \"europe\", \"name\": \"volvo 145e (sw)\", \"h1\": 112.0, \"h2\": 12544.0, \"h3\": 1404928.0, \"pred\": 20.036832964808042}, {\"mpg\": 22.0, \"cylinders\": 4, \"displacement\": 121.0, \"horsepower\": 76.0, \"weight\": 2511, \"acceleration\": 18.0, \"model_year\": 72, \"origin\": \"europe\", \"name\": \"volkswagen 411 (sw)\", \"h1\": 76.0, \"h2\": 5776.0, \"h3\": 438976.0, \"pred\": 28.518226948841566}, {\"mpg\": 21.0, \"cylinders\": 4, \"displacement\": 120.0, \"horsepower\": 87.0, \"weight\": 2979, \"acceleration\": 19.5, \"model_year\": 72, \"origin\": \"europe\", \"name\": \"peugeot 504 (sw)\", \"h1\": 87.0, \"h2\": 7569.0, \"h3\": 658503.0, \"pred\": 25.5173003852465}, {\"mpg\": 26.0, \"cylinders\": 4, \"displacement\": 96.0, \"horsepower\": 69.0, \"weight\": 2189, \"acceleration\": 18.0, \"model_year\": 72, \"origin\": \"europe\", \"name\": \"renault 12 (sw)\", \"h1\": 69.0, \"h2\": 4761.0, \"h3\": 328509.0, \"pred\": 30.627112739871155}, {\"mpg\": 22.0, \"cylinders\": 4, \"displacement\": 122.0, \"horsepower\": 86.0, \"weight\": 2395, \"acceleration\": 16.0, \"model_year\": 72, \"origin\": \"usa\", \"name\": \"ford pinto (sw)\", \"h1\": 86.0, \"h2\": 7396.0, \"h3\": 636056.0, \"pred\": 25.77466687691213}, {\"mpg\": 28.0, \"cylinders\": 4, \"displacement\": 97.0, \"horsepower\": 92.0, \"weight\": 2288, \"acceleration\": 17.0, \"model_year\": 72, \"origin\": \"japan\", \"name\": \"datsun 510 (sw)\", \"h1\": 92.0, \"h2\": 8464.0, \"h3\": 778688.0, \"pred\": 24.275772588828225}, {\"mpg\": 23.0, \"cylinders\": 4, \"displacement\": 120.0, \"horsepower\": 97.0, \"weight\": 2506, \"acceleration\": 14.5, \"model_year\": 72, \"origin\": \"japan\", \"name\": \"toyouta corona mark ii (sw)\", \"h1\": 97.0, \"h2\": 9409.0, \"h3\": 912673.0, \"pred\": 23.108571918008607}, {\"mpg\": 28.0, \"cylinders\": 4, \"displacement\": 98.0, \"horsepower\": 80.0, \"weight\": 2164, \"acceleration\": 15.0, \"model_year\": 72, \"origin\": \"usa\", \"name\": \"dodge colt (sw)\", \"h1\": 80.0, \"h2\": 6400.0, \"h3\": 512000.0, \"pred\": 27.383374253038937}, {\"mpg\": 27.0, \"cylinders\": 4, \"displacement\": 97.0, \"horsepower\": 88.0, \"weight\": 2100, \"acceleration\": 16.5, \"model_year\": 72, \"origin\": \"japan\", \"name\": \"toyota corolla 1600 (sw)\", \"h1\": 88.0, \"h2\": 7744.0, \"h3\": 681472.0, \"pred\": 25.26297137738215}, {\"mpg\": 13.0, \"cylinders\": 8, \"displacement\": 350.0, \"horsepower\": 175.0, \"weight\": 4100, \"acceleration\": 13.0, \"model_year\": 73, \"origin\": \"usa\", \"name\": \"buick century 350\", \"h1\": 175.0, \"h2\": 30625.0, \"h3\": 5359375.0, \"pred\": 13.301159134643996}, {\"mpg\": 14.0, \"cylinders\": 8, \"displacement\": 304.0, \"horsepower\": 150.0, \"weight\": 3672, \"acceleration\": 11.5, \"model_year\": 73, \"origin\": \"usa\", \"name\": \"amc matador\", \"h1\": 150.0, \"h2\": 22500.0, \"h3\": 3375000.0, \"pred\": 14.890156621920994}, {\"mpg\": 13.0, \"cylinders\": 8, \"displacement\": 350.0, \"horsepower\": 145.0, \"weight\": 3988, \"acceleration\": 13.0, \"model_year\": 73, \"origin\": \"usa\", \"name\": \"chevrolet malibu\", \"h1\": 145.0, \"h2\": 21025.0, \"h3\": 3048625.0, \"pred\": 15.368470682157941}, {\"mpg\": 14.0, \"cylinders\": 8, \"displacement\": 302.0, \"horsepower\": 137.0, \"weight\": 4042, \"acceleration\": 14.5, \"model_year\": 73, \"origin\": \"usa\", \"name\": \"ford gran torino\", \"h1\": 137.0, \"h2\": 18769.0, \"h3\": 2571353.0, \"pred\": 16.253546740999788}, {\"mpg\": 15.0, \"cylinders\": 8, \"displacement\": 318.0, \"horsepower\": 150.0, \"weight\": 3777, \"acceleration\": 12.5, \"model_year\": 73, \"origin\": \"usa\", \"name\": \"dodge coronet custom\", \"h1\": 150.0, \"h2\": 22500.0, \"h3\": 3375000.0, \"pred\": 14.890156621920994}, {\"mpg\": 12.0, \"cylinders\": 8, \"displacement\": 429.0, \"horsepower\": 198.0, \"weight\": 4952, \"acceleration\": 11.5, \"model_year\": 73, \"origin\": \"usa\", \"name\": \"mercury marquis brougham\", \"h1\": 198.0, \"h2\": 39204.0, \"h3\": 7762392.0, \"pred\": 12.895065253108243}, {\"mpg\": 13.0, \"cylinders\": 8, \"displacement\": 400.0, \"horsepower\": 150.0, \"weight\": 4464, \"acceleration\": 12.0, \"model_year\": 73, \"origin\": \"usa\", \"name\": \"chevrolet caprice classic\", \"h1\": 150.0, \"h2\": 22500.0, \"h3\": 3375000.0, \"pred\": 14.890156621920994}, {\"mpg\": 13.0, \"cylinders\": 8, \"displacement\": 351.0, \"horsepower\": 158.0, \"weight\": 4363, \"acceleration\": 13.0, \"model_year\": 73, \"origin\": \"usa\", \"name\": \"ford ltd\", \"h1\": 158.0, \"h2\": 24964.0, \"h3\": 3944312.0, \"pred\": 14.239939457014664}, {\"mpg\": 14.0, \"cylinders\": 8, \"displacement\": 318.0, \"horsepower\": 150.0, \"weight\": 4237, \"acceleration\": 14.5, \"model_year\": 73, \"origin\": \"usa\", \"name\": \"plymouth fury gran sedan\", \"h1\": 150.0, \"h2\": 22500.0, \"h3\": 3375000.0, \"pred\": 14.890156621920994}, {\"mpg\": 13.0, \"cylinders\": 8, \"displacement\": 440.0, \"horsepower\": 215.0, \"weight\": 4735, \"acceleration\": 11.0, \"model_year\": 73, \"origin\": \"usa\", \"name\": \"chrysler new yorker brougham\", \"h1\": 215.0, \"h2\": 46225.0, \"h3\": 9938375.0, \"pred\": 13.150329660718661}, {\"mpg\": 12.0, \"cylinders\": 8, \"displacement\": 455.0, \"horsepower\": 225.0, \"weight\": 4951, \"acceleration\": 11.0, \"model_year\": 73, \"origin\": \"usa\", \"name\": \"buick electra 225 custom\", \"h1\": 225.0, \"h2\": 50625.0, \"h3\": 11390625.0, \"pred\": 13.49204045628425}, {\"mpg\": 13.0, \"cylinders\": 8, \"displacement\": 360.0, \"horsepower\": 175.0, \"weight\": 3821, \"acceleration\": 11.0, \"model_year\": 73, \"origin\": \"usa\", \"name\": \"amc ambassador brougham\", \"h1\": 175.0, \"h2\": 30625.0, \"h3\": 5359375.0, \"pred\": 13.301159134643996}, {\"mpg\": 18.0, \"cylinders\": 6, \"displacement\": 225.0, \"horsepower\": 105.0, \"weight\": 3121, \"acceleration\": 16.5, \"model_year\": 73, \"origin\": \"usa\", \"name\": \"plymouth valiant\", \"h1\": 105.0, \"h2\": 11025.0, \"h3\": 1157625.0, \"pred\": 21.39163278223674}, {\"mpg\": 16.0, \"cylinders\": 6, \"displacement\": 250.0, \"horsepower\": 100.0, \"weight\": 3278, \"acceleration\": 18.0, \"model_year\": 73, \"origin\": \"usa\", \"name\": \"chevrolet nova custom\", \"h1\": 100.0, \"h2\": 10000.0, \"h3\": 1000000.0, \"pred\": 22.443258788519906}, {\"mpg\": 18.0, \"cylinders\": 6, \"displacement\": 232.0, \"horsepower\": 100.0, \"weight\": 2945, \"acceleration\": 16.0, \"model_year\": 73, \"origin\": \"usa\", \"name\": \"amc hornet\", \"h1\": 100.0, \"h2\": 10000.0, \"h3\": 1000000.0, \"pred\": 22.443258788519906}, {\"mpg\": 18.0, \"cylinders\": 6, \"displacement\": 250.0, \"horsepower\": 88.0, \"weight\": 3021, \"acceleration\": 16.5, \"model_year\": 73, \"origin\": \"usa\", \"name\": \"ford maverick\", \"h1\": 88.0, \"h2\": 7744.0, \"h3\": 681472.0, \"pred\": 25.26297137738215}, {\"mpg\": 23.0, \"cylinders\": 6, \"displacement\": 198.0, \"horsepower\": 95.0, \"weight\": 2904, \"acceleration\": 16.0, \"model_year\": 73, \"origin\": \"usa\", \"name\": \"plymouth duster\", \"h1\": 95.0, \"h2\": 9025.0, \"h3\": 857375.0, \"pred\": 23.56663596930835}, {\"mpg\": 26.0, \"cylinders\": 4, \"displacement\": 97.0, \"horsepower\": 46.0, \"weight\": 1950, \"acceleration\": 21.0, \"model_year\": 73, \"origin\": \"europe\", \"name\": \"volkswagen super beetle\", \"h1\": 46.0, \"h2\": 2116.0, \"h3\": 97336.0, \"pred\": 38.70792285334719}, {\"mpg\": 11.0, \"cylinders\": 8, \"displacement\": 400.0, \"horsepower\": 150.0, \"weight\": 4997, \"acceleration\": 14.0, \"model_year\": 73, \"origin\": \"usa\", \"name\": \"chevrolet impala\", \"h1\": 150.0, \"h2\": 22500.0, \"h3\": 3375000.0, \"pred\": 14.890156621920994}, {\"mpg\": 12.0, \"cylinders\": 8, \"displacement\": 400.0, \"horsepower\": 167.0, \"weight\": 4906, \"acceleration\": 12.5, \"model_year\": 73, \"origin\": \"usa\", \"name\": \"ford country\", \"h1\": 167.0, \"h2\": 27889.0, \"h3\": 4657463.0, \"pred\": 13.670527831710181}, {\"mpg\": 13.0, \"cylinders\": 8, \"displacement\": 360.0, \"horsepower\": 170.0, \"weight\": 4654, \"acceleration\": 13.0, \"model_year\": 73, \"origin\": \"usa\", \"name\": \"plymouth custom suburb\", \"h1\": 170.0, \"h2\": 28900.0, \"h3\": 4913000.0, \"pred\": 13.517315488356232}, {\"mpg\": 12.0, \"cylinders\": 8, \"displacement\": 350.0, \"horsepower\": 180.0, \"weight\": 4499, \"acceleration\": 12.5, \"model_year\": 73, \"origin\": \"usa\", \"name\": \"oldsmobile vista cruiser\", \"h1\": 180.0, \"h2\": 32400.0, \"h3\": 5832000.0, \"pred\": 13.132604413936612}, {\"mpg\": 18.0, \"cylinders\": 6, \"displacement\": 232.0, \"horsepower\": 100.0, \"weight\": 2789, \"acceleration\": 15.0, \"model_year\": 73, \"origin\": \"usa\", \"name\": \"amc gremlin\", \"h1\": 100.0, \"h2\": 10000.0, \"h3\": 1000000.0, \"pred\": 22.443258788519906}, {\"mpg\": 20.0, \"cylinders\": 4, \"displacement\": 97.0, \"horsepower\": 88.0, \"weight\": 2279, \"acceleration\": 19.0, \"model_year\": 73, \"origin\": \"japan\", \"name\": \"toyota carina\", \"h1\": 88.0, \"h2\": 7744.0, \"h3\": 681472.0, \"pred\": 25.26297137738215}, {\"mpg\": 21.0, \"cylinders\": 4, \"displacement\": 140.0, \"horsepower\": 72.0, \"weight\": 2401, \"acceleration\": 19.5, \"model_year\": 73, \"origin\": \"usa\", \"name\": \"chevrolet vega\", \"h1\": 72.0, \"h2\": 5184.0, \"h3\": 373248.0, \"pred\": 29.703946222426847}, {\"mpg\": 22.0, \"cylinders\": 4, \"displacement\": 108.0, \"horsepower\": 94.0, \"weight\": 2379, \"acceleration\": 16.5, \"model_year\": 73, \"origin\": \"japan\", \"name\": \"datsun 610\", \"h1\": 94.0, \"h2\": 8836.0, \"h3\": 830584.0, \"pred\": 23.800063223716812}, {\"mpg\": 18.0, \"cylinders\": 3, \"displacement\": 70.0, \"horsepower\": 90.0, \"weight\": 2124, \"acceleration\": 13.5, \"model_year\": 73, \"origin\": \"japan\", \"name\": \"maxda rx3\", \"h1\": 90.0, \"h2\": 8100.0, \"h3\": 729000.0, \"pred\": 24.76337429403543}, {\"mpg\": 19.0, \"cylinders\": 4, \"displacement\": 122.0, \"horsepower\": 85.0, \"weight\": 2310, \"acceleration\": 18.5, \"model_year\": 73, \"origin\": \"usa\", \"name\": \"ford pinto\", \"h1\": 85.0, \"h2\": 7225.0, \"h3\": 614125.0, \"pred\": 26.03508373213451}, {\"mpg\": 21.0, \"cylinders\": 6, \"displacement\": 155.0, \"horsepower\": 107.0, \"weight\": 2472, \"acceleration\": 14.0, \"model_year\": 73, \"origin\": \"usa\", \"name\": \"mercury capri v6\", \"h1\": 107.0, \"h2\": 11449.0, \"h3\": 1225043.0, \"pred\": 20.990712075431873}, {\"mpg\": 26.0, \"cylinders\": 4, \"displacement\": 98.0, \"horsepower\": 90.0, \"weight\": 2265, \"acceleration\": 15.5, \"model_year\": 73, \"origin\": \"europe\", \"name\": \"fiat 124 sport coupe\", \"h1\": 90.0, \"h2\": 8100.0, \"h3\": 729000.0, \"pred\": 24.76337429403543}, {\"mpg\": 15.0, \"cylinders\": 8, \"displacement\": 350.0, \"horsepower\": 145.0, \"weight\": 4082, \"acceleration\": 13.0, \"model_year\": 73, \"origin\": \"usa\", \"name\": \"chevrolet monte carlo s\", \"h1\": 145.0, \"h2\": 21025.0, \"h3\": 3048625.0, \"pred\": 15.368470682157941}, {\"mpg\": 16.0, \"cylinders\": 8, \"displacement\": 400.0, \"horsepower\": 230.0, \"weight\": 4278, \"acceleration\": 9.5, \"model_year\": 73, \"origin\": \"usa\", \"name\": \"pontiac grand prix\", \"h1\": 230.0, \"h2\": 52900.0, \"h3\": 12167000.0, \"pred\": 13.710953746790594}, {\"mpg\": 29.0, \"cylinders\": 4, \"displacement\": 68.0, \"horsepower\": 49.0, \"weight\": 1867, \"acceleration\": 19.5, \"model_year\": 73, \"origin\": \"europe\", \"name\": \"fiat 128\", \"h1\": 49.0, \"h2\": 2401.0, \"h3\": 117649.0, \"pred\": 37.550286266052495}, {\"mpg\": 24.0, \"cylinders\": 4, \"displacement\": 116.0, \"horsepower\": 75.0, \"weight\": 2158, \"acceleration\": 15.5, \"model_year\": 73, \"origin\": \"europe\", \"name\": \"opel manta\", \"h1\": 75.0, \"h2\": 5625.0, \"h3\": 421875.0, \"pred\": 28.80985582618209}, {\"mpg\": 20.0, \"cylinders\": 4, \"displacement\": 114.0, \"horsepower\": 91.0, \"weight\": 2582, \"acceleration\": 14.0, \"model_year\": 73, \"origin\": \"europe\", \"name\": \"audi 100ls\", \"h1\": 91.0, \"h2\": 8281.0, \"h3\": 753571.0, \"pred\": 24.518080459042125}, {\"mpg\": 19.0, \"cylinders\": 4, \"displacement\": 121.0, \"horsepower\": 112.0, \"weight\": 2868, \"acceleration\": 15.5, \"model_year\": 73, \"origin\": \"europe\", \"name\": \"volvo 144ea\", \"h1\": 112.0, \"h2\": 12544.0, \"h3\": 1404928.0, \"pred\": 20.036832964808042}, {\"mpg\": 15.0, \"cylinders\": 8, \"displacement\": 318.0, \"horsepower\": 150.0, \"weight\": 3399, \"acceleration\": 11.0, \"model_year\": 73, \"origin\": \"usa\", \"name\": \"dodge dart custom\", \"h1\": 150.0, \"h2\": 22500.0, \"h3\": 3375000.0, \"pred\": 14.890156621920994}, {\"mpg\": 24.0, \"cylinders\": 4, \"displacement\": 121.0, \"horsepower\": 110.0, \"weight\": 2660, \"acceleration\": 14.0, \"model_year\": 73, \"origin\": \"europe\", \"name\": \"saab 99le\", \"h1\": 110.0, \"h2\": 12100.0, \"h3\": 1331000.0, \"pred\": 20.41014798102548}, {\"mpg\": 20.0, \"cylinders\": 6, \"displacement\": 156.0, \"horsepower\": 122.0, \"weight\": 2807, \"acceleration\": 13.5, \"model_year\": 73, \"origin\": \"japan\", \"name\": \"toyota mark ii\", \"h1\": 122.0, \"h2\": 14884.0, \"h3\": 1815848.0, \"pred\": 18.331126517722645}, {\"mpg\": 11.0, \"cylinders\": 8, \"displacement\": 350.0, \"horsepower\": 180.0, \"weight\": 3664, \"acceleration\": 11.0, \"model_year\": 73, \"origin\": \"usa\", \"name\": \"oldsmobile omega\", \"h1\": 180.0, \"h2\": 32400.0, \"h3\": 5832000.0, \"pred\": 13.132604413936612}, {\"mpg\": 20.0, \"cylinders\": 6, \"displacement\": 198.0, \"horsepower\": 95.0, \"weight\": 3102, \"acceleration\": 16.5, \"model_year\": 74, \"origin\": \"usa\", \"name\": \"plymouth duster\", \"h1\": 95.0, \"h2\": 9025.0, \"h3\": 857375.0, \"pred\": 23.56663596930835}, {\"mpg\": 19.0, \"cylinders\": 6, \"displacement\": 232.0, \"horsepower\": 100.0, \"weight\": 2901, \"acceleration\": 16.0, \"model_year\": 74, \"origin\": \"usa\", \"name\": \"amc hornet\", \"h1\": 100.0, \"h2\": 10000.0, \"h3\": 1000000.0, \"pred\": 22.443258788519906}, {\"mpg\": 15.0, \"cylinders\": 6, \"displacement\": 250.0, \"horsepower\": 100.0, \"weight\": 3336, \"acceleration\": 17.0, \"model_year\": 74, \"origin\": \"usa\", \"name\": \"chevrolet nova\", \"h1\": 100.0, \"h2\": 10000.0, \"h3\": 1000000.0, \"pred\": 22.443258788519906}, {\"mpg\": 31.0, \"cylinders\": 4, \"displacement\": 79.0, \"horsepower\": 67.0, \"weight\": 1950, \"acceleration\": 19.0, \"model_year\": 74, \"origin\": \"japan\", \"name\": \"datsun b210\", \"h1\": 67.0, \"h2\": 4489.0, \"h3\": 300763.0, \"pred\": 31.258882215573337}, {\"mpg\": 26.0, \"cylinders\": 4, \"displacement\": 122.0, \"horsepower\": 80.0, \"weight\": 2451, \"acceleration\": 16.5, \"model_year\": 74, \"origin\": \"usa\", \"name\": \"ford pinto\", \"h1\": 80.0, \"h2\": 6400.0, \"h3\": 512000.0, \"pred\": 27.383374253038937}, {\"mpg\": 32.0, \"cylinders\": 4, \"displacement\": 71.0, \"horsepower\": 65.0, \"weight\": 1836, \"acceleration\": 21.0, \"model_year\": 74, \"origin\": \"japan\", \"name\": \"toyota corolla 1200\", \"h1\": 65.0, \"h2\": 4225.0, \"h3\": 274625.0, \"pred\": 31.903832006917995}, {\"mpg\": 25.0, \"cylinders\": 4, \"displacement\": 140.0, \"horsepower\": 75.0, \"weight\": 2542, \"acceleration\": 17.0, \"model_year\": 74, \"origin\": \"usa\", \"name\": \"chevrolet vega\", \"h1\": 75.0, \"h2\": 5625.0, \"h3\": 421875.0, \"pred\": 28.80985582618209}, {\"mpg\": 16.0, \"cylinders\": 6, \"displacement\": 250.0, \"horsepower\": 100.0, \"weight\": 3781, \"acceleration\": 17.0, \"model_year\": 74, \"origin\": \"usa\", \"name\": \"chevrolet chevelle malibu classic\", \"h1\": 100.0, \"h2\": 10000.0, \"h3\": 1000000.0, \"pred\": 22.443258788519906}, {\"mpg\": 16.0, \"cylinders\": 6, \"displacement\": 258.0, \"horsepower\": 110.0, \"weight\": 3632, \"acceleration\": 18.0, \"model_year\": 74, \"origin\": \"usa\", \"name\": \"amc matador\", \"h1\": 110.0, \"h2\": 12100.0, \"h3\": 1331000.0, \"pred\": 20.41014798102548}, {\"mpg\": 18.0, \"cylinders\": 6, \"displacement\": 225.0, \"horsepower\": 105.0, \"weight\": 3613, \"acceleration\": 16.5, \"model_year\": 74, \"origin\": \"usa\", \"name\": \"plymouth satellite sebring\", \"h1\": 105.0, \"h2\": 11025.0, \"h3\": 1157625.0, \"pred\": 21.39163278223674}, {\"mpg\": 16.0, \"cylinders\": 8, \"displacement\": 302.0, \"horsepower\": 140.0, \"weight\": 4141, \"acceleration\": 14.0, \"model_year\": 74, \"origin\": \"usa\", \"name\": \"ford gran torino\", \"h1\": 140.0, \"h2\": 19600.0, \"h3\": 2744000.0, \"pred\": 15.90404619199991}, {\"mpg\": 13.0, \"cylinders\": 8, \"displacement\": 350.0, \"horsepower\": 150.0, \"weight\": 4699, \"acceleration\": 14.5, \"model_year\": 74, \"origin\": \"usa\", \"name\": \"buick century luxus (sw)\", \"h1\": 150.0, \"h2\": 22500.0, \"h3\": 3375000.0, \"pred\": 14.890156621920994}, {\"mpg\": 14.0, \"cylinders\": 8, \"displacement\": 318.0, \"horsepower\": 150.0, \"weight\": 4457, \"acceleration\": 13.5, \"model_year\": 74, \"origin\": \"usa\", \"name\": \"dodge coronet custom (sw)\", \"h1\": 150.0, \"h2\": 22500.0, \"h3\": 3375000.0, \"pred\": 14.890156621920994}, {\"mpg\": 14.0, \"cylinders\": 8, \"displacement\": 302.0, \"horsepower\": 140.0, \"weight\": 4638, \"acceleration\": 16.0, \"model_year\": 74, \"origin\": \"usa\", \"name\": \"ford gran torino (sw)\", \"h1\": 140.0, \"h2\": 19600.0, \"h3\": 2744000.0, \"pred\": 15.90404619199991}, {\"mpg\": 14.0, \"cylinders\": 8, \"displacement\": 304.0, \"horsepower\": 150.0, \"weight\": 4257, \"acceleration\": 15.5, \"model_year\": 74, \"origin\": \"usa\", \"name\": \"amc matador (sw)\", \"h1\": 150.0, \"h2\": 22500.0, \"h3\": 3375000.0, \"pred\": 14.890156621920994}, {\"mpg\": 29.0, \"cylinders\": 4, \"displacement\": 98.0, \"horsepower\": 83.0, \"weight\": 2219, \"acceleration\": 16.5, \"model_year\": 74, \"origin\": \"europe\", \"name\": \"audi fox\", \"h1\": 83.0, \"h2\": 6889.0, \"h3\": 571787.0, \"pred\": 26.565120052271368}, {\"mpg\": 26.0, \"cylinders\": 4, \"displacement\": 79.0, \"horsepower\": 67.0, \"weight\": 1963, \"acceleration\": 15.5, \"model_year\": 74, \"origin\": \"europe\", \"name\": \"volkswagen dasher\", \"h1\": 67.0, \"h2\": 4489.0, \"h3\": 300763.0, \"pred\": 31.258882215573337}, {\"mpg\": 26.0, \"cylinders\": 4, \"displacement\": 97.0, \"horsepower\": 78.0, \"weight\": 2300, \"acceleration\": 14.5, \"model_year\": 74, \"origin\": \"europe\", \"name\": \"opel manta\", \"h1\": 78.0, \"h2\": 6084.0, \"h3\": 474552.0, \"pred\": 27.944493797739284}, {\"mpg\": 31.0, \"cylinders\": 4, \"displacement\": 76.0, \"horsepower\": 52.0, \"weight\": 1649, \"acceleration\": 16.5, \"model_year\": 74, \"origin\": \"japan\", \"name\": \"toyota corona\", \"h1\": 52.0, \"h2\": 2704.0, \"h3\": 140608.0, \"pred\": 36.42439190933901}, {\"mpg\": 32.0, \"cylinders\": 4, \"displacement\": 83.0, \"horsepower\": 61.0, \"weight\": 2003, \"acceleration\": 19.0, \"model_year\": 74, \"origin\": \"japan\", \"name\": \"datsun 710\", \"h1\": 61.0, \"h2\": 3721.0, \"h3\": 226981.0, \"pred\": 33.23368468870967}, {\"mpg\": 28.0, \"cylinders\": 4, \"displacement\": 90.0, \"horsepower\": 75.0, \"weight\": 2125, \"acceleration\": 14.5, \"model_year\": 74, \"origin\": \"usa\", \"name\": \"dodge colt\", \"h1\": 75.0, \"h2\": 5625.0, \"h3\": 421875.0, \"pred\": 28.80985582618209}, {\"mpg\": 24.0, \"cylinders\": 4, \"displacement\": 90.0, \"horsepower\": 75.0, \"weight\": 2108, \"acceleration\": 15.5, \"model_year\": 74, \"origin\": \"europe\", \"name\": \"fiat 128\", \"h1\": 75.0, \"h2\": 5625.0, \"h3\": 421875.0, \"pred\": 28.80985582618209}, {\"mpg\": 26.0, \"cylinders\": 4, \"displacement\": 116.0, \"horsepower\": 75.0, \"weight\": 2246, \"acceleration\": 14.0, \"model_year\": 74, \"origin\": \"europe\", \"name\": \"fiat 124 tc\", \"h1\": 75.0, \"h2\": 5625.0, \"h3\": 421875.0, \"pred\": 28.80985582618209}, {\"mpg\": 24.0, \"cylinders\": 4, \"displacement\": 120.0, \"horsepower\": 97.0, \"weight\": 2489, \"acceleration\": 15.0, \"model_year\": 74, \"origin\": \"japan\", \"name\": \"honda civic\", \"h1\": 97.0, \"h2\": 9409.0, \"h3\": 912673.0, \"pred\": 23.108571918008607}, {\"mpg\": 26.0, \"cylinders\": 4, \"displacement\": 108.0, \"horsepower\": 93.0, \"weight\": 2391, \"acceleration\": 15.5, \"model_year\": 74, \"origin\": \"japan\", \"name\": \"subaru\", \"h1\": 93.0, \"h2\": 8649.0, \"h3\": 804357.0, \"pred\": 24.03643780363828}, {\"mpg\": 31.0, \"cylinders\": 4, \"displacement\": 79.0, \"horsepower\": 67.0, \"weight\": 2000, \"acceleration\": 16.0, \"model_year\": 74, \"origin\": \"europe\", \"name\": \"fiat x1.9\", \"h1\": 67.0, \"h2\": 4489.0, \"h3\": 300763.0, \"pred\": 31.258882215573337}, {\"mpg\": 19.0, \"cylinders\": 6, \"displacement\": 225.0, \"horsepower\": 95.0, \"weight\": 3264, \"acceleration\": 16.0, \"model_year\": 75, \"origin\": \"usa\", \"name\": \"plymouth valiant custom\", \"h1\": 95.0, \"h2\": 9025.0, \"h3\": 857375.0, \"pred\": 23.56663596930835}, {\"mpg\": 18.0, \"cylinders\": 6, \"displacement\": 250.0, \"horsepower\": 105.0, \"weight\": 3459, \"acceleration\": 16.0, \"model_year\": 75, \"origin\": \"usa\", \"name\": \"chevrolet nova\", \"h1\": 105.0, \"h2\": 11025.0, \"h3\": 1157625.0, \"pred\": 21.39163278223674}, {\"mpg\": 15.0, \"cylinders\": 6, \"displacement\": 250.0, \"horsepower\": 72.0, \"weight\": 3432, \"acceleration\": 21.0, \"model_year\": 75, \"origin\": \"usa\", \"name\": \"mercury monarch\", \"h1\": 72.0, \"h2\": 5184.0, \"h3\": 373248.0, \"pred\": 29.703946222426847}, {\"mpg\": 15.0, \"cylinders\": 6, \"displacement\": 250.0, \"horsepower\": 72.0, \"weight\": 3158, \"acceleration\": 19.5, \"model_year\": 75, \"origin\": \"usa\", \"name\": \"ford maverick\", \"h1\": 72.0, \"h2\": 5184.0, \"h3\": 373248.0, \"pred\": 29.703946222426847}, {\"mpg\": 16.0, \"cylinders\": 8, \"displacement\": 400.0, \"horsepower\": 170.0, \"weight\": 4668, \"acceleration\": 11.5, \"model_year\": 75, \"origin\": \"usa\", \"name\": \"pontiac catalina\", \"h1\": 170.0, \"h2\": 28900.0, \"h3\": 4913000.0, \"pred\": 13.517315488356232}, {\"mpg\": 15.0, \"cylinders\": 8, \"displacement\": 350.0, \"horsepower\": 145.0, \"weight\": 4440, \"acceleration\": 14.0, \"model_year\": 75, \"origin\": \"usa\", \"name\": \"chevrolet bel air\", \"h1\": 145.0, \"h2\": 21025.0, \"h3\": 3048625.0, \"pred\": 15.368470682157941}, {\"mpg\": 16.0, \"cylinders\": 8, \"displacement\": 318.0, \"horsepower\": 150.0, \"weight\": 4498, \"acceleration\": 14.5, \"model_year\": 75, \"origin\": \"usa\", \"name\": \"plymouth grand fury\", \"h1\": 150.0, \"h2\": 22500.0, \"h3\": 3375000.0, \"pred\": 14.890156621920994}, {\"mpg\": 14.0, \"cylinders\": 8, \"displacement\": 351.0, \"horsepower\": 148.0, \"weight\": 4657, \"acceleration\": 13.5, \"model_year\": 75, \"origin\": \"usa\", \"name\": \"ford ltd\", \"h1\": 148.0, \"h2\": 21904.0, \"h3\": 3241792.0, \"pred\": 15.074713910106901}, {\"mpg\": 17.0, \"cylinders\": 6, \"displacement\": 231.0, \"horsepower\": 110.0, \"weight\": 3907, \"acceleration\": 21.0, \"model_year\": 75, \"origin\": \"usa\", \"name\": \"buick century\", \"h1\": 110.0, \"h2\": 12100.0, \"h3\": 1331000.0, \"pred\": 20.41014798102548}, {\"mpg\": 16.0, \"cylinders\": 6, \"displacement\": 250.0, \"horsepower\": 105.0, \"weight\": 3897, \"acceleration\": 18.5, \"model_year\": 75, \"origin\": \"usa\", \"name\": \"chevroelt chevelle malibu\", \"h1\": 105.0, \"h2\": 11025.0, \"h3\": 1157625.0, \"pred\": 21.39163278223674}, {\"mpg\": 15.0, \"cylinders\": 6, \"displacement\": 258.0, \"horsepower\": 110.0, \"weight\": 3730, \"acceleration\": 19.0, \"model_year\": 75, \"origin\": \"usa\", \"name\": \"amc matador\", \"h1\": 110.0, \"h2\": 12100.0, \"h3\": 1331000.0, \"pred\": 20.41014798102548}, {\"mpg\": 18.0, \"cylinders\": 6, \"displacement\": 225.0, \"horsepower\": 95.0, \"weight\": 3785, \"acceleration\": 19.0, \"model_year\": 75, \"origin\": \"usa\", \"name\": \"plymouth fury\", \"h1\": 95.0, \"h2\": 9025.0, \"h3\": 857375.0, \"pred\": 23.56663596930835}, {\"mpg\": 21.0, \"cylinders\": 6, \"displacement\": 231.0, \"horsepower\": 110.0, \"weight\": 3039, \"acceleration\": 15.0, \"model_year\": 75, \"origin\": \"usa\", \"name\": \"buick skyhawk\", \"h1\": 110.0, \"h2\": 12100.0, \"h3\": 1331000.0, \"pred\": 20.41014798102548}, {\"mpg\": 20.0, \"cylinders\": 8, \"displacement\": 262.0, \"horsepower\": 110.0, \"weight\": 3221, \"acceleration\": 13.5, \"model_year\": 75, \"origin\": \"usa\", \"name\": \"chevrolet monza 2+2\", \"h1\": 110.0, \"h2\": 12100.0, \"h3\": 1331000.0, \"pred\": 20.41014798102548}, {\"mpg\": 13.0, \"cylinders\": 8, \"displacement\": 302.0, \"horsepower\": 129.0, \"weight\": 3169, \"acceleration\": 12.0, \"model_year\": 75, \"origin\": \"usa\", \"name\": \"ford mustang ii\", \"h1\": 129.0, \"h2\": 16641.0, \"h3\": 2146689.0, \"pred\": 17.29180654562954}, {\"mpg\": 29.0, \"cylinders\": 4, \"displacement\": 97.0, \"horsepower\": 75.0, \"weight\": 2171, \"acceleration\": 16.0, \"model_year\": 75, \"origin\": \"japan\", \"name\": \"toyota corolla\", \"h1\": 75.0, \"h2\": 5625.0, \"h3\": 421875.0, \"pred\": 28.80985582618209}, {\"mpg\": 23.0, \"cylinders\": 4, \"displacement\": 140.0, \"horsepower\": 83.0, \"weight\": 2639, \"acceleration\": 17.0, \"model_year\": 75, \"origin\": \"usa\", \"name\": \"ford pinto\", \"h1\": 83.0, \"h2\": 6889.0, \"h3\": 571787.0, \"pred\": 26.565120052271368}, {\"mpg\": 20.0, \"cylinders\": 6, \"displacement\": 232.0, \"horsepower\": 100.0, \"weight\": 2914, \"acceleration\": 16.0, \"model_year\": 75, \"origin\": \"usa\", \"name\": \"amc gremlin\", \"h1\": 100.0, \"h2\": 10000.0, \"h3\": 1000000.0, \"pred\": 22.443258788519906}, {\"mpg\": 23.0, \"cylinders\": 4, \"displacement\": 140.0, \"horsepower\": 78.0, \"weight\": 2592, \"acceleration\": 18.5, \"model_year\": 75, \"origin\": \"usa\", \"name\": \"pontiac astro\", \"h1\": 78.0, \"h2\": 6084.0, \"h3\": 474552.0, \"pred\": 27.944493797739284}, {\"mpg\": 24.0, \"cylinders\": 4, \"displacement\": 134.0, \"horsepower\": 96.0, \"weight\": 2702, \"acceleration\": 13.5, \"model_year\": 75, \"origin\": \"japan\", \"name\": \"toyota corona\", \"h1\": 96.0, \"h2\": 9216.0, \"h3\": 884736.0, \"pred\": 23.336143160657436}, {\"mpg\": 25.0, \"cylinders\": 4, \"displacement\": 90.0, \"horsepower\": 71.0, \"weight\": 2223, \"acceleration\": 16.5, \"model_year\": 75, \"origin\": \"europe\", \"name\": \"volkswagen dasher\", \"h1\": 71.0, \"h2\": 5041.0, \"h3\": 357911.0, \"pred\": 30.008420541767705}, {\"mpg\": 24.0, \"cylinders\": 4, \"displacement\": 119.0, \"horsepower\": 97.0, \"weight\": 2545, \"acceleration\": 17.0, \"model_year\": 75, \"origin\": \"japan\", \"name\": \"datsun 710\", \"h1\": 97.0, \"h2\": 9409.0, \"h3\": 912673.0, \"pred\": 23.108571918008607}, {\"mpg\": 18.0, \"cylinders\": 6, \"displacement\": 171.0, \"horsepower\": 97.0, \"weight\": 2984, \"acceleration\": 14.5, \"model_year\": 75, \"origin\": \"usa\", \"name\": \"ford pinto\", \"h1\": 97.0, \"h2\": 9409.0, \"h3\": 912673.0, \"pred\": 23.108571918008607}, {\"mpg\": 29.0, \"cylinders\": 4, \"displacement\": 90.0, \"horsepower\": 70.0, \"weight\": 1937, \"acceleration\": 14.0, \"model_year\": 75, \"origin\": \"europe\", \"name\": \"volkswagen rabbit\", \"h1\": 70.0, \"h2\": 4900.0, \"h3\": 343000.0, \"pred\": 30.316138420997323}, {\"mpg\": 19.0, \"cylinders\": 6, \"displacement\": 232.0, \"horsepower\": 90.0, \"weight\": 3211, \"acceleration\": 17.0, \"model_year\": 75, \"origin\": \"usa\", \"name\": \"amc pacer\", \"h1\": 90.0, \"h2\": 8100.0, \"h3\": 729000.0, \"pred\": 24.76337429403543}, {\"mpg\": 23.0, \"cylinders\": 4, \"displacement\": 115.0, \"horsepower\": 95.0, \"weight\": 2694, \"acceleration\": 15.0, \"model_year\": 75, \"origin\": \"europe\", \"name\": \"audi 100ls\", \"h1\": 95.0, \"h2\": 9025.0, \"h3\": 857375.0, \"pred\": 23.56663596930835}, {\"mpg\": 23.0, \"cylinders\": 4, \"displacement\": 120.0, \"horsepower\": 88.0, \"weight\": 2957, \"acceleration\": 17.0, \"model_year\": 75, \"origin\": \"europe\", \"name\": \"peugeot 504\", \"h1\": 88.0, \"h2\": 7744.0, \"h3\": 681472.0, \"pred\": 25.26297137738215}, {\"mpg\": 22.0, \"cylinders\": 4, \"displacement\": 121.0, \"horsepower\": 98.0, \"weight\": 2945, \"acceleration\": 14.5, \"model_year\": 75, \"origin\": \"europe\", \"name\": \"volvo 244dl\", \"h1\": 98.0, \"h2\": 9604.0, \"h3\": 941192.0, \"pred\": 22.883909361606385}, {\"mpg\": 25.0, \"cylinders\": 4, \"displacement\": 121.0, \"horsepower\": 115.0, \"weight\": 2671, \"acceleration\": 13.5, \"model_year\": 75, \"origin\": \"europe\", \"name\": \"saab 99le\", \"h1\": 115.0, \"h2\": 13225.0, \"h3\": 1520875.0, \"pred\": 19.497194415452782}, {\"mpg\": 33.0, \"cylinders\": 4, \"displacement\": 91.0, \"horsepower\": 53.0, \"weight\": 1795, \"acceleration\": 17.5, \"model_year\": 75, \"origin\": \"japan\", \"name\": \"honda civic cvcc\", \"h1\": 53.0, \"h2\": 2809.0, \"h3\": 148877.0, \"pred\": 36.05608751392704}, {\"mpg\": 28.0, \"cylinders\": 4, \"displacement\": 107.0, \"horsepower\": 86.0, \"weight\": 2464, \"acceleration\": 15.5, \"model_year\": 76, \"origin\": \"europe\", \"name\": \"fiat 131\", \"h1\": 86.0, \"h2\": 7396.0, \"h3\": 636056.0, \"pred\": 25.77466687691213}, {\"mpg\": 25.0, \"cylinders\": 4, \"displacement\": 116.0, \"horsepower\": 81.0, \"weight\": 2220, \"acceleration\": 16.9, \"model_year\": 76, \"origin\": \"europe\", \"name\": \"opel 1900\", \"h1\": 81.0, \"h2\": 6561.0, \"h3\": 531441.0, \"pred\": 27.107512383700822}, {\"mpg\": 25.0, \"cylinders\": 4, \"displacement\": 140.0, \"horsepower\": 92.0, \"weight\": 2572, \"acceleration\": 14.9, \"model_year\": 76, \"origin\": \"usa\", \"name\": \"capri ii\", \"h1\": 92.0, \"h2\": 8464.0, \"h3\": 778688.0, \"pred\": 24.275772588828225}, {\"mpg\": 26.0, \"cylinders\": 4, \"displacement\": 98.0, \"horsepower\": 79.0, \"weight\": 2255, \"acceleration\": 17.7, \"model_year\": 76, \"origin\": \"usa\", \"name\": \"dodge colt\", \"h1\": 79.0, \"h2\": 6241.0, \"h3\": 493039.0, \"pred\": 27.662363764466605}, {\"mpg\": 27.0, \"cylinders\": 4, \"displacement\": 101.0, \"horsepower\": 83.0, \"weight\": 2202, \"acceleration\": 15.3, \"model_year\": 76, \"origin\": \"europe\", \"name\": \"renault 12tl\", \"h1\": 83.0, \"h2\": 6889.0, \"h3\": 571787.0, \"pred\": 26.565120052271368}, {\"mpg\": 17.5, \"cylinders\": 8, \"displacement\": 305.0, \"horsepower\": 140.0, \"weight\": 4215, \"acceleration\": 13.0, \"model_year\": 76, \"origin\": \"usa\", \"name\": \"chevrolet chevelle malibu classic\", \"h1\": 140.0, \"h2\": 19600.0, \"h3\": 2744000.0, \"pred\": 15.90404619199991}, {\"mpg\": 16.0, \"cylinders\": 8, \"displacement\": 318.0, \"horsepower\": 150.0, \"weight\": 4190, \"acceleration\": 13.0, \"model_year\": 76, \"origin\": \"usa\", \"name\": \"dodge coronet brougham\", \"h1\": 150.0, \"h2\": 22500.0, \"h3\": 3375000.0, \"pred\": 14.890156621920994}, {\"mpg\": 15.5, \"cylinders\": 8, \"displacement\": 304.0, \"horsepower\": 120.0, \"weight\": 3962, \"acceleration\": 13.9, \"model_year\": 76, \"origin\": \"usa\", \"name\": \"amc matador\", \"h1\": 120.0, \"h2\": 14400.0, \"h3\": 1728000.0, \"pred\": 18.651162116085267}, {\"mpg\": 14.5, \"cylinders\": 8, \"displacement\": 351.0, \"horsepower\": 152.0, \"weight\": 4215, \"acceleration\": 12.8, \"model_year\": 76, \"origin\": \"usa\", \"name\": \"ford gran torino\", \"h1\": 152.0, \"h2\": 23104.0, \"h3\": 3511808.0, \"pred\": 14.714503570562549}, {\"mpg\": 22.0, \"cylinders\": 6, \"displacement\": 225.0, \"horsepower\": 100.0, \"weight\": 3233, \"acceleration\": 15.4, \"model_year\": 76, \"origin\": \"usa\", \"name\": \"plymouth valiant\", \"h1\": 100.0, \"h2\": 10000.0, \"h3\": 1000000.0, \"pred\": 22.443258788519906}, {\"mpg\": 22.0, \"cylinders\": 6, \"displacement\": 250.0, \"horsepower\": 105.0, \"weight\": 3353, \"acceleration\": 14.5, \"model_year\": 76, \"origin\": \"usa\", \"name\": \"chevrolet nova\", \"h1\": 105.0, \"h2\": 11025.0, \"h3\": 1157625.0, \"pred\": 21.39163278223674}, {\"mpg\": 24.0, \"cylinders\": 6, \"displacement\": 200.0, \"horsepower\": 81.0, \"weight\": 3012, \"acceleration\": 17.6, \"model_year\": 76, \"origin\": \"usa\", \"name\": \"ford maverick\", \"h1\": 81.0, \"h2\": 6561.0, \"h3\": 531441.0, \"pred\": 27.107512383700822}, {\"mpg\": 22.5, \"cylinders\": 6, \"displacement\": 232.0, \"horsepower\": 90.0, \"weight\": 3085, \"acceleration\": 17.6, \"model_year\": 76, \"origin\": \"usa\", \"name\": \"amc hornet\", \"h1\": 90.0, \"h2\": 8100.0, \"h3\": 729000.0, \"pred\": 24.76337429403543}, {\"mpg\": 29.0, \"cylinders\": 4, \"displacement\": 85.0, \"horsepower\": 52.0, \"weight\": 2035, \"acceleration\": 22.2, \"model_year\": 76, \"origin\": \"usa\", \"name\": \"chevrolet chevette\", \"h1\": 52.0, \"h2\": 2704.0, \"h3\": 140608.0, \"pred\": 36.42439190933901}, {\"mpg\": 24.5, \"cylinders\": 4, \"displacement\": 98.0, \"horsepower\": 60.0, \"weight\": 2164, \"acceleration\": 22.1, \"model_year\": 76, \"origin\": \"usa\", \"name\": \"chevrolet woody\", \"h1\": 60.0, \"h2\": 3600.0, \"h3\": 216000.0, \"pred\": 33.57454655337747}, {\"mpg\": 29.0, \"cylinders\": 4, \"displacement\": 90.0, \"horsepower\": 70.0, \"weight\": 1937, \"acceleration\": 14.2, \"model_year\": 76, \"origin\": \"europe\", \"name\": \"vw rabbit\", \"h1\": 70.0, \"h2\": 4900.0, \"h3\": 343000.0, \"pred\": 30.316138420997323}, {\"mpg\": 33.0, \"cylinders\": 4, \"displacement\": 91.0, \"horsepower\": 53.0, \"weight\": 1795, \"acceleration\": 17.4, \"model_year\": 76, \"origin\": \"japan\", \"name\": \"honda civic\", \"h1\": 53.0, \"h2\": 2809.0, \"h3\": 148877.0, \"pred\": 36.05608751392704}, {\"mpg\": 20.0, \"cylinders\": 6, \"displacement\": 225.0, \"horsepower\": 100.0, \"weight\": 3651, \"acceleration\": 17.7, \"model_year\": 76, \"origin\": \"usa\", \"name\": \"dodge aspen se\", \"h1\": 100.0, \"h2\": 10000.0, \"h3\": 1000000.0, \"pred\": 22.443258788519906}, {\"mpg\": 18.0, \"cylinders\": 6, \"displacement\": 250.0, \"horsepower\": 78.0, \"weight\": 3574, \"acceleration\": 21.0, \"model_year\": 76, \"origin\": \"usa\", \"name\": \"ford granada ghia\", \"h1\": 78.0, \"h2\": 6084.0, \"h3\": 474552.0, \"pred\": 27.944493797739284}, {\"mpg\": 18.5, \"cylinders\": 6, \"displacement\": 250.0, \"horsepower\": 110.0, \"weight\": 3645, \"acceleration\": 16.2, \"model_year\": 76, \"origin\": \"usa\", \"name\": \"pontiac ventura sj\", \"h1\": 110.0, \"h2\": 12100.0, \"h3\": 1331000.0, \"pred\": 20.41014798102548}, {\"mpg\": 17.5, \"cylinders\": 6, \"displacement\": 258.0, \"horsepower\": 95.0, \"weight\": 3193, \"acceleration\": 17.8, \"model_year\": 76, \"origin\": \"usa\", \"name\": \"amc pacer d/l\", \"h1\": 95.0, \"h2\": 9025.0, \"h3\": 857375.0, \"pred\": 23.56663596930835}, {\"mpg\": 29.5, \"cylinders\": 4, \"displacement\": 97.0, \"horsepower\": 71.0, \"weight\": 1825, \"acceleration\": 12.2, \"model_year\": 76, \"origin\": \"europe\", \"name\": \"volkswagen rabbit\", \"h1\": 71.0, \"h2\": 5041.0, \"h3\": 357911.0, \"pred\": 30.008420541767705}, {\"mpg\": 32.0, \"cylinders\": 4, \"displacement\": 85.0, \"horsepower\": 70.0, \"weight\": 1990, \"acceleration\": 17.0, \"model_year\": 76, \"origin\": \"japan\", \"name\": \"datsun b-210\", \"h1\": 70.0, \"h2\": 4900.0, \"h3\": 343000.0, \"pred\": 30.316138420997323}, {\"mpg\": 28.0, \"cylinders\": 4, \"displacement\": 97.0, \"horsepower\": 75.0, \"weight\": 2155, \"acceleration\": 16.4, \"model_year\": 76, \"origin\": \"japan\", \"name\": \"toyota corolla\", \"h1\": 75.0, \"h2\": 5625.0, \"h3\": 421875.0, \"pred\": 28.80985582618209}, {\"mpg\": 26.5, \"cylinders\": 4, \"displacement\": 140.0, \"horsepower\": 72.0, \"weight\": 2565, \"acceleration\": 13.6, \"model_year\": 76, \"origin\": \"usa\", \"name\": \"ford pinto\", \"h1\": 72.0, \"h2\": 5184.0, \"h3\": 373248.0, \"pred\": 29.703946222426847}, {\"mpg\": 20.0, \"cylinders\": 4, \"displacement\": 130.0, \"horsepower\": 102.0, \"weight\": 3150, \"acceleration\": 15.7, \"model_year\": 76, \"origin\": \"europe\", \"name\": \"volvo 245\", \"h1\": 102.0, \"h2\": 10404.0, \"h3\": 1061208.0, \"pred\": 22.014088403354272}, {\"mpg\": 13.0, \"cylinders\": 8, \"displacement\": 318.0, \"horsepower\": 150.0, \"weight\": 3940, \"acceleration\": 13.2, \"model_year\": 76, \"origin\": \"usa\", \"name\": \"plymouth volare premier v8\", \"h1\": 150.0, \"h2\": 22500.0, \"h3\": 3375000.0, \"pred\": 14.890156621920994}, {\"mpg\": 19.0, \"cylinders\": 4, \"displacement\": 120.0, \"horsepower\": 88.0, \"weight\": 3270, \"acceleration\": 21.9, \"model_year\": 76, \"origin\": \"europe\", \"name\": \"peugeot 504\", \"h1\": 88.0, \"h2\": 7744.0, \"h3\": 681472.0, \"pred\": 25.26297137738215}, {\"mpg\": 19.0, \"cylinders\": 6, \"displacement\": 156.0, \"horsepower\": 108.0, \"weight\": 2930, \"acceleration\": 15.5, \"model_year\": 76, \"origin\": \"japan\", \"name\": \"toyota mark ii\", \"h1\": 108.0, \"h2\": 11664.0, \"h3\": 1259712.0, \"pred\": 20.79442799494509}, {\"mpg\": 16.5, \"cylinders\": 6, \"displacement\": 168.0, \"horsepower\": 120.0, \"weight\": 3820, \"acceleration\": 16.7, \"model_year\": 76, \"origin\": \"europe\", \"name\": \"mercedes-benz 280s\", \"h1\": 120.0, \"h2\": 14400.0, \"h3\": 1728000.0, \"pred\": 18.651162116085267}, {\"mpg\": 16.5, \"cylinders\": 8, \"displacement\": 350.0, \"horsepower\": 180.0, \"weight\": 4380, \"acceleration\": 12.1, \"model_year\": 76, \"origin\": \"usa\", \"name\": \"cadillac seville\", \"h1\": 180.0, \"h2\": 32400.0, \"h3\": 5832000.0, \"pred\": 13.132604413936612}, {\"mpg\": 13.0, \"cylinders\": 8, \"displacement\": 350.0, \"horsepower\": 145.0, \"weight\": 4055, \"acceleration\": 12.0, \"model_year\": 76, \"origin\": \"usa\", \"name\": \"chevy c10\", \"h1\": 145.0, \"h2\": 21025.0, \"h3\": 3048625.0, \"pred\": 15.368470682157941}, {\"mpg\": 13.0, \"cylinders\": 8, \"displacement\": 302.0, \"horsepower\": 130.0, \"weight\": 3870, \"acceleration\": 15.0, \"model_year\": 76, \"origin\": \"usa\", \"name\": \"ford f108\", \"h1\": 130.0, \"h2\": 16900.0, \"h3\": 2197000.0, \"pred\": 17.15342143823237}, {\"mpg\": 13.0, \"cylinders\": 8, \"displacement\": 318.0, \"horsepower\": 150.0, \"weight\": 3755, \"acceleration\": 14.0, \"model_year\": 76, \"origin\": \"usa\", \"name\": \"dodge d100\", \"h1\": 150.0, \"h2\": 22500.0, \"h3\": 3375000.0, \"pred\": 14.890156621920994}, {\"mpg\": 31.5, \"cylinders\": 4, \"displacement\": 98.0, \"horsepower\": 68.0, \"weight\": 2045, \"acceleration\": 18.5, \"model_year\": 77, \"origin\": \"japan\", \"name\": \"honda accord cvcc\", \"h1\": 68.0, \"h2\": 4624.0, \"h3\": 314432.0, \"pred\": 30.941356378144672}, {\"mpg\": 30.0, \"cylinders\": 4, \"displacement\": 111.0, \"horsepower\": 80.0, \"weight\": 2155, \"acceleration\": 14.8, \"model_year\": 77, \"origin\": \"usa\", \"name\": \"buick opel isuzu deluxe\", \"h1\": 80.0, \"h2\": 6400.0, \"h3\": 512000.0, \"pred\": 27.383374253038937}, {\"mpg\": 36.0, \"cylinders\": 4, \"displacement\": 79.0, \"horsepower\": 58.0, \"weight\": 1825, \"acceleration\": 18.6, \"model_year\": 77, \"origin\": \"europe\", \"name\": \"renault 5 gtl\", \"h1\": 58.0, \"h2\": 3364.0, \"h3\": 195112.0, \"pred\": 34.2664388740652}, {\"mpg\": 25.5, \"cylinders\": 4, \"displacement\": 122.0, \"horsepower\": 96.0, \"weight\": 2300, \"acceleration\": 15.5, \"model_year\": 77, \"origin\": \"usa\", \"name\": \"plymouth arrow gs\", \"h1\": 96.0, \"h2\": 9216.0, \"h3\": 884736.0, \"pred\": 23.336143160657436}, {\"mpg\": 33.5, \"cylinders\": 4, \"displacement\": 85.0, \"horsepower\": 70.0, \"weight\": 1945, \"acceleration\": 16.8, \"model_year\": 77, \"origin\": \"japan\", \"name\": \"datsun f-10 hatchback\", \"h1\": 70.0, \"h2\": 4900.0, \"h3\": 343000.0, \"pred\": 30.316138420997323}, {\"mpg\": 17.5, \"cylinders\": 8, \"displacement\": 305.0, \"horsepower\": 145.0, \"weight\": 3880, \"acceleration\": 12.5, \"model_year\": 77, \"origin\": \"usa\", \"name\": \"chevrolet caprice classic\", \"h1\": 145.0, \"h2\": 21025.0, \"h3\": 3048625.0, \"pred\": 15.368470682157941}, {\"mpg\": 17.0, \"cylinders\": 8, \"displacement\": 260.0, \"horsepower\": 110.0, \"weight\": 4060, \"acceleration\": 19.0, \"model_year\": 77, \"origin\": \"usa\", \"name\": \"oldsmobile cutlass supreme\", \"h1\": 110.0, \"h2\": 12100.0, \"h3\": 1331000.0, \"pred\": 20.41014798102548}, {\"mpg\": 15.5, \"cylinders\": 8, \"displacement\": 318.0, \"horsepower\": 145.0, \"weight\": 4140, \"acceleration\": 13.7, \"model_year\": 77, \"origin\": \"usa\", \"name\": \"dodge monaco brougham\", \"h1\": 145.0, \"h2\": 21025.0, \"h3\": 3048625.0, \"pred\": 15.368470682157941}, {\"mpg\": 15.0, \"cylinders\": 8, \"displacement\": 302.0, \"horsepower\": 130.0, \"weight\": 4295, \"acceleration\": 14.9, \"model_year\": 77, \"origin\": \"usa\", \"name\": \"mercury cougar brougham\", \"h1\": 130.0, \"h2\": 16900.0, \"h3\": 2197000.0, \"pred\": 17.15342143823237}, {\"mpg\": 17.5, \"cylinders\": 6, \"displacement\": 250.0, \"horsepower\": 110.0, \"weight\": 3520, \"acceleration\": 16.4, \"model_year\": 77, \"origin\": \"usa\", \"name\": \"chevrolet concours\", \"h1\": 110.0, \"h2\": 12100.0, \"h3\": 1331000.0, \"pred\": 20.41014798102548}, {\"mpg\": 20.5, \"cylinders\": 6, \"displacement\": 231.0, \"horsepower\": 105.0, \"weight\": 3425, \"acceleration\": 16.9, \"model_year\": 77, \"origin\": \"usa\", \"name\": \"buick skylark\", \"h1\": 105.0, \"h2\": 11025.0, \"h3\": 1157625.0, \"pred\": 21.39163278223674}, {\"mpg\": 19.0, \"cylinders\": 6, \"displacement\": 225.0, \"horsepower\": 100.0, \"weight\": 3630, \"acceleration\": 17.7, \"model_year\": 77, \"origin\": \"usa\", \"name\": \"plymouth volare custom\", \"h1\": 100.0, \"h2\": 10000.0, \"h3\": 1000000.0, \"pred\": 22.443258788519906}, {\"mpg\": 18.5, \"cylinders\": 6, \"displacement\": 250.0, \"horsepower\": 98.0, \"weight\": 3525, \"acceleration\": 19.0, \"model_year\": 77, \"origin\": \"usa\", \"name\": \"ford granada\", \"h1\": 98.0, \"h2\": 9604.0, \"h3\": 941192.0, \"pred\": 22.883909361606385}, {\"mpg\": 16.0, \"cylinders\": 8, \"displacement\": 400.0, \"horsepower\": 180.0, \"weight\": 4220, \"acceleration\": 11.1, \"model_year\": 77, \"origin\": \"usa\", \"name\": \"pontiac grand prix lj\", \"h1\": 180.0, \"h2\": 32400.0, \"h3\": 5832000.0, \"pred\": 13.132604413936612}, {\"mpg\": 15.5, \"cylinders\": 8, \"displacement\": 350.0, \"horsepower\": 170.0, \"weight\": 4165, \"acceleration\": 11.4, \"model_year\": 77, \"origin\": \"usa\", \"name\": \"chevrolet monte carlo landau\", \"h1\": 170.0, \"h2\": 28900.0, \"h3\": 4913000.0, \"pred\": 13.517315488356232}, {\"mpg\": 15.5, \"cylinders\": 8, \"displacement\": 400.0, \"horsepower\": 190.0, \"weight\": 4325, \"acceleration\": 12.2, \"model_year\": 77, \"origin\": \"usa\", \"name\": \"chrysler cordoba\", \"h1\": 190.0, \"h2\": 36100.0, \"h3\": 6859000.0, \"pred\": 12.931859993802988}, {\"mpg\": 16.0, \"cylinders\": 8, \"displacement\": 351.0, \"horsepower\": 149.0, \"weight\": 4335, \"acceleration\": 14.5, \"model_year\": 77, \"origin\": \"usa\", \"name\": \"ford thunderbird\", \"h1\": 149.0, \"h2\": 22201.0, \"h3\": 3307949.0, \"pred\": 14.981315796532776}, {\"mpg\": 29.0, \"cylinders\": 4, \"displacement\": 97.0, \"horsepower\": 78.0, \"weight\": 1940, \"acceleration\": 14.5, \"model_year\": 77, \"origin\": \"europe\", \"name\": \"volkswagen rabbit custom\", \"h1\": 78.0, \"h2\": 6084.0, \"h3\": 474552.0, \"pred\": 27.944493797739284}, {\"mpg\": 24.5, \"cylinders\": 4, \"displacement\": 151.0, \"horsepower\": 88.0, \"weight\": 2740, \"acceleration\": 16.0, \"model_year\": 77, \"origin\": \"usa\", \"name\": \"pontiac sunbird coupe\", \"h1\": 88.0, \"h2\": 7744.0, \"h3\": 681472.0, \"pred\": 25.26297137738215}, {\"mpg\": 26.0, \"cylinders\": 4, \"displacement\": 97.0, \"horsepower\": 75.0, \"weight\": 2265, \"acceleration\": 18.2, \"model_year\": 77, \"origin\": \"japan\", \"name\": \"toyota corolla liftback\", \"h1\": 75.0, \"h2\": 5625.0, \"h3\": 421875.0, \"pred\": 28.80985582618209}, {\"mpg\": 25.5, \"cylinders\": 4, \"displacement\": 140.0, \"horsepower\": 89.0, \"weight\": 2755, \"acceleration\": 15.8, \"model_year\": 77, \"origin\": \"usa\", \"name\": \"ford mustang ii 2+2\", \"h1\": 89.0, \"h2\": 7921.0, \"h3\": 704969.0, \"pred\": 25.01166697356362}, {\"mpg\": 30.5, \"cylinders\": 4, \"displacement\": 98.0, \"horsepower\": 63.0, \"weight\": 2051, \"acceleration\": 17.0, \"model_year\": 77, \"origin\": \"usa\", \"name\": \"chevrolet chevette\", \"h1\": 63.0, \"h2\": 3969.0, \"h3\": 250047.0, \"pred\": 32.56206515194886}, {\"mpg\": 33.5, \"cylinders\": 4, \"displacement\": 98.0, \"horsepower\": 83.0, \"weight\": 2075, \"acceleration\": 15.9, \"model_year\": 77, \"origin\": \"usa\", \"name\": \"dodge colt m/m\", \"h1\": 83.0, \"h2\": 6889.0, \"h3\": 571787.0, \"pred\": 26.565120052271368}, {\"mpg\": 30.0, \"cylinders\": 4, \"displacement\": 97.0, \"horsepower\": 67.0, \"weight\": 1985, \"acceleration\": 16.4, \"model_year\": 77, \"origin\": \"japan\", \"name\": \"subaru dl\", \"h1\": 67.0, \"h2\": 4489.0, \"h3\": 300763.0, \"pred\": 31.258882215573337}, {\"mpg\": 30.5, \"cylinders\": 4, \"displacement\": 97.0, \"horsepower\": 78.0, \"weight\": 2190, \"acceleration\": 14.1, \"model_year\": 77, \"origin\": \"europe\", \"name\": \"volkswagen dasher\", \"h1\": 78.0, \"h2\": 6084.0, \"h3\": 474552.0, \"pred\": 27.944493797739284}, {\"mpg\": 22.0, \"cylinders\": 6, \"displacement\": 146.0, \"horsepower\": 97.0, \"weight\": 2815, \"acceleration\": 14.5, \"model_year\": 77, \"origin\": \"japan\", \"name\": \"datsun 810\", \"h1\": 97.0, \"h2\": 9409.0, \"h3\": 912673.0, \"pred\": 23.108571918008607}, {\"mpg\": 21.5, \"cylinders\": 4, \"displacement\": 121.0, \"horsepower\": 110.0, \"weight\": 2600, \"acceleration\": 12.8, \"model_year\": 77, \"origin\": \"europe\", \"name\": \"bmw 320i\", \"h1\": 110.0, \"h2\": 12100.0, \"h3\": 1331000.0, \"pred\": 20.41014798102548}, {\"mpg\": 21.5, \"cylinders\": 3, \"displacement\": 80.0, \"horsepower\": 110.0, \"weight\": 2720, \"acceleration\": 13.5, \"model_year\": 77, \"origin\": \"japan\", \"name\": \"mazda rx-4\", \"h1\": 110.0, \"h2\": 12100.0, \"h3\": 1331000.0, \"pred\": 20.41014798102548}, {\"mpg\": 43.1, \"cylinders\": 4, \"displacement\": 90.0, \"horsepower\": 48.0, \"weight\": 1985, \"acceleration\": 21.5, \"model_year\": 78, \"origin\": \"europe\", \"name\": \"volkswagen rabbit custom diesel\", \"h1\": 48.0, \"h2\": 2304.0, \"h3\": 110592.0, \"pred\": 37.93262104096775}, {\"mpg\": 36.1, \"cylinders\": 4, \"displacement\": 98.0, \"horsepower\": 66.0, \"weight\": 1800, \"acceleration\": 14.4, \"model_year\": 78, \"origin\": \"usa\", \"name\": \"ford fiesta\", \"h1\": 66.0, \"h2\": 4356.0, \"h3\": 287496.0, \"pred\": 31.579703131912623}, {\"mpg\": 32.8, \"cylinders\": 4, \"displacement\": 78.0, \"horsepower\": 52.0, \"weight\": 1985, \"acceleration\": 19.4, \"model_year\": 78, \"origin\": \"japan\", \"name\": \"mazda glc deluxe\", \"h1\": 52.0, \"h2\": 2704.0, \"h3\": 140608.0, \"pred\": 36.42439190933901}, {\"mpg\": 39.4, \"cylinders\": 4, \"displacement\": 85.0, \"horsepower\": 70.0, \"weight\": 2070, \"acceleration\": 18.6, \"model_year\": 78, \"origin\": \"japan\", \"name\": \"datsun b210 gx\", \"h1\": 70.0, \"h2\": 4900.0, \"h3\": 343000.0, \"pred\": 30.316138420997323}, {\"mpg\": 36.1, \"cylinders\": 4, \"displacement\": 91.0, \"horsepower\": 60.0, \"weight\": 1800, \"acceleration\": 16.4, \"model_year\": 78, \"origin\": \"japan\", \"name\": \"honda civic cvcc\", \"h1\": 60.0, \"h2\": 3600.0, \"h3\": 216000.0, \"pred\": 33.57454655337747}, {\"mpg\": 19.9, \"cylinders\": 8, \"displacement\": 260.0, \"horsepower\": 110.0, \"weight\": 3365, \"acceleration\": 15.5, \"model_year\": 78, \"origin\": \"usa\", \"name\": \"oldsmobile cutlass salon brougham\", \"h1\": 110.0, \"h2\": 12100.0, \"h3\": 1331000.0, \"pred\": 20.41014798102548}, {\"mpg\": 19.4, \"cylinders\": 8, \"displacement\": 318.0, \"horsepower\": 140.0, \"weight\": 3735, \"acceleration\": 13.2, \"model_year\": 78, \"origin\": \"usa\", \"name\": \"dodge diplomat\", \"h1\": 140.0, \"h2\": 19600.0, \"h3\": 2744000.0, \"pred\": 15.90404619199991}, {\"mpg\": 20.2, \"cylinders\": 8, \"displacement\": 302.0, \"horsepower\": 139.0, \"weight\": 3570, \"acceleration\": 12.8, \"model_year\": 78, \"origin\": \"usa\", \"name\": \"mercury monarch ghia\", \"h1\": 139.0, \"h2\": 19321.0, \"h3\": 2685619.0, \"pred\": 16.018174345231046}, {\"mpg\": 19.2, \"cylinders\": 6, \"displacement\": 231.0, \"horsepower\": 105.0, \"weight\": 3535, \"acceleration\": 19.2, \"model_year\": 78, \"origin\": \"usa\", \"name\": \"pontiac phoenix lj\", \"h1\": 105.0, \"h2\": 11025.0, \"h3\": 1157625.0, \"pred\": 21.39163278223674}, {\"mpg\": 20.5, \"cylinders\": 6, \"displacement\": 200.0, \"horsepower\": 95.0, \"weight\": 3155, \"acceleration\": 18.2, \"model_year\": 78, \"origin\": \"usa\", \"name\": \"chevrolet malibu\", \"h1\": 95.0, \"h2\": 9025.0, \"h3\": 857375.0, \"pred\": 23.56663596930835}, {\"mpg\": 20.2, \"cylinders\": 6, \"displacement\": 200.0, \"horsepower\": 85.0, \"weight\": 2965, \"acceleration\": 15.8, \"model_year\": 78, \"origin\": \"usa\", \"name\": \"ford fairmont (auto)\", \"h1\": 85.0, \"h2\": 7225.0, \"h3\": 614125.0, \"pred\": 26.03508373213451}, {\"mpg\": 25.1, \"cylinders\": 4, \"displacement\": 140.0, \"horsepower\": 88.0, \"weight\": 2720, \"acceleration\": 15.4, \"model_year\": 78, \"origin\": \"usa\", \"name\": \"ford fairmont (man)\", \"h1\": 88.0, \"h2\": 7744.0, \"h3\": 681472.0, \"pred\": 25.26297137738215}, {\"mpg\": 20.5, \"cylinders\": 6, \"displacement\": 225.0, \"horsepower\": 100.0, \"weight\": 3430, \"acceleration\": 17.2, \"model_year\": 78, \"origin\": \"usa\", \"name\": \"plymouth volare\", \"h1\": 100.0, \"h2\": 10000.0, \"h3\": 1000000.0, \"pred\": 22.443258788519906}, {\"mpg\": 19.4, \"cylinders\": 6, \"displacement\": 232.0, \"horsepower\": 90.0, \"weight\": 3210, \"acceleration\": 17.2, \"model_year\": 78, \"origin\": \"usa\", \"name\": \"amc concord\", \"h1\": 90.0, \"h2\": 8100.0, \"h3\": 729000.0, \"pred\": 24.76337429403543}, {\"mpg\": 20.6, \"cylinders\": 6, \"displacement\": 231.0, \"horsepower\": 105.0, \"weight\": 3380, \"acceleration\": 15.8, \"model_year\": 78, \"origin\": \"usa\", \"name\": \"buick century special\", \"h1\": 105.0, \"h2\": 11025.0, \"h3\": 1157625.0, \"pred\": 21.39163278223674}, {\"mpg\": 20.8, \"cylinders\": 6, \"displacement\": 200.0, \"horsepower\": 85.0, \"weight\": 3070, \"acceleration\": 16.7, \"model_year\": 78, \"origin\": \"usa\", \"name\": \"mercury zephyr\", \"h1\": 85.0, \"h2\": 7225.0, \"h3\": 614125.0, \"pred\": 26.03508373213451}, {\"mpg\": 18.6, \"cylinders\": 6, \"displacement\": 225.0, \"horsepower\": 110.0, \"weight\": 3620, \"acceleration\": 18.7, \"model_year\": 78, \"origin\": \"usa\", \"name\": \"dodge aspen\", \"h1\": 110.0, \"h2\": 12100.0, \"h3\": 1331000.0, \"pred\": 20.41014798102548}, {\"mpg\": 18.1, \"cylinders\": 6, \"displacement\": 258.0, \"horsepower\": 120.0, \"weight\": 3410, \"acceleration\": 15.1, \"model_year\": 78, \"origin\": \"usa\", \"name\": \"amc concord d/l\", \"h1\": 120.0, \"h2\": 14400.0, \"h3\": 1728000.0, \"pred\": 18.651162116085267}, {\"mpg\": 19.2, \"cylinders\": 8, \"displacement\": 305.0, \"horsepower\": 145.0, \"weight\": 3425, \"acceleration\": 13.2, \"model_year\": 78, \"origin\": \"usa\", \"name\": \"chevrolet monte carlo landau\", \"h1\": 145.0, \"h2\": 21025.0, \"h3\": 3048625.0, \"pred\": 15.368470682157941}, {\"mpg\": 17.7, \"cylinders\": 6, \"displacement\": 231.0, \"horsepower\": 165.0, \"weight\": 3445, \"acceleration\": 13.4, \"model_year\": 78, \"origin\": \"usa\", \"name\": \"buick regal sport coupe (turbo)\", \"h1\": 165.0, \"h2\": 27225.0, \"h3\": 4492125.0, \"pred\": 13.782683444506688}, {\"mpg\": 18.1, \"cylinders\": 8, \"displacement\": 302.0, \"horsepower\": 139.0, \"weight\": 3205, \"acceleration\": 11.2, \"model_year\": 78, \"origin\": \"usa\", \"name\": \"ford futura\", \"h1\": 139.0, \"h2\": 19321.0, \"h3\": 2685619.0, \"pred\": 16.018174345231046}, {\"mpg\": 17.5, \"cylinders\": 8, \"displacement\": 318.0, \"horsepower\": 140.0, \"weight\": 4080, \"acceleration\": 13.7, \"model_year\": 78, \"origin\": \"usa\", \"name\": \"dodge magnum xe\", \"h1\": 140.0, \"h2\": 19600.0, \"h3\": 2744000.0, \"pred\": 15.90404619199991}, {\"mpg\": 30.0, \"cylinders\": 4, \"displacement\": 98.0, \"horsepower\": 68.0, \"weight\": 2155, \"acceleration\": 16.5, \"model_year\": 78, \"origin\": \"usa\", \"name\": \"chevrolet chevette\", \"h1\": 68.0, \"h2\": 4624.0, \"h3\": 314432.0, \"pred\": 30.941356378144672}, {\"mpg\": 27.5, \"cylinders\": 4, \"displacement\": 134.0, \"horsepower\": 95.0, \"weight\": 2560, \"acceleration\": 14.2, \"model_year\": 78, \"origin\": \"japan\", \"name\": \"toyota corona\", \"h1\": 95.0, \"h2\": 9025.0, \"h3\": 857375.0, \"pred\": 23.56663596930835}, {\"mpg\": 27.2, \"cylinders\": 4, \"displacement\": 119.0, \"horsepower\": 97.0, \"weight\": 2300, \"acceleration\": 14.7, \"model_year\": 78, \"origin\": \"japan\", \"name\": \"datsun 510\", \"h1\": 97.0, \"h2\": 9409.0, \"h3\": 912673.0, \"pred\": 23.108571918008607}, {\"mpg\": 30.9, \"cylinders\": 4, \"displacement\": 105.0, \"horsepower\": 75.0, \"weight\": 2230, \"acceleration\": 14.5, \"model_year\": 78, \"origin\": \"usa\", \"name\": \"dodge omni\", \"h1\": 75.0, \"h2\": 5625.0, \"h3\": 421875.0, \"pred\": 28.80985582618209}, {\"mpg\": 21.1, \"cylinders\": 4, \"displacement\": 134.0, \"horsepower\": 95.0, \"weight\": 2515, \"acceleration\": 14.8, \"model_year\": 78, \"origin\": \"japan\", \"name\": \"toyota celica gt liftback\", \"h1\": 95.0, \"h2\": 9025.0, \"h3\": 857375.0, \"pred\": 23.56663596930835}, {\"mpg\": 23.2, \"cylinders\": 4, \"displacement\": 156.0, \"horsepower\": 105.0, \"weight\": 2745, \"acceleration\": 16.7, \"model_year\": 78, \"origin\": \"usa\", \"name\": \"plymouth sapporo\", \"h1\": 105.0, \"h2\": 11025.0, \"h3\": 1157625.0, \"pred\": 21.39163278223674}, {\"mpg\": 23.8, \"cylinders\": 4, \"displacement\": 151.0, \"horsepower\": 85.0, \"weight\": 2855, \"acceleration\": 17.6, \"model_year\": 78, \"origin\": \"usa\", \"name\": \"oldsmobile starfire sx\", \"h1\": 85.0, \"h2\": 7225.0, \"h3\": 614125.0, \"pred\": 26.03508373213451}, {\"mpg\": 23.9, \"cylinders\": 4, \"displacement\": 119.0, \"horsepower\": 97.0, \"weight\": 2405, \"acceleration\": 14.9, \"model_year\": 78, \"origin\": \"japan\", \"name\": \"datsun 200-sx\", \"h1\": 97.0, \"h2\": 9409.0, \"h3\": 912673.0, \"pred\": 23.108571918008607}, {\"mpg\": 20.3, \"cylinders\": 5, \"displacement\": 131.0, \"horsepower\": 103.0, \"weight\": 2830, \"acceleration\": 15.9, \"model_year\": 78, \"origin\": \"europe\", \"name\": \"audi 5000\", \"h1\": 103.0, \"h2\": 10609.0, \"h3\": 1092727.0, \"pred\": 21.803776081853115}, {\"mpg\": 17.0, \"cylinders\": 6, \"displacement\": 163.0, \"horsepower\": 125.0, \"weight\": 3140, \"acceleration\": 13.6, \"model_year\": 78, \"origin\": \"europe\", \"name\": \"volvo 264gl\", \"h1\": 125.0, \"h2\": 15625.0, \"h3\": 1953125.0, \"pred\": 17.870441113489584}, {\"mpg\": 21.6, \"cylinders\": 4, \"displacement\": 121.0, \"horsepower\": 115.0, \"weight\": 2795, \"acceleration\": 15.7, \"model_year\": 78, \"origin\": \"europe\", \"name\": \"saab 99gle\", \"h1\": 115.0, \"h2\": 13225.0, \"h3\": 1520875.0, \"pred\": 19.497194415452782}, {\"mpg\": 16.2, \"cylinders\": 6, \"displacement\": 163.0, \"horsepower\": 133.0, \"weight\": 3410, \"acceleration\": 15.8, \"model_year\": 78, \"origin\": \"europe\", \"name\": \"peugeot 604sl\", \"h1\": 133.0, \"h2\": 17689.0, \"h3\": 2352637.0, \"pred\": 16.75311652291623}, {\"mpg\": 31.5, \"cylinders\": 4, \"displacement\": 89.0, \"horsepower\": 71.0, \"weight\": 1990, \"acceleration\": 14.9, \"model_year\": 78, \"origin\": \"europe\", \"name\": \"volkswagen scirocco\", \"h1\": 71.0, \"h2\": 5041.0, \"h3\": 357911.0, \"pred\": 30.008420541767705}, {\"mpg\": 29.5, \"cylinders\": 4, \"displacement\": 98.0, \"horsepower\": 68.0, \"weight\": 2135, \"acceleration\": 16.6, \"model_year\": 78, \"origin\": \"japan\", \"name\": \"honda accord lx\", \"h1\": 68.0, \"h2\": 4624.0, \"h3\": 314432.0, \"pred\": 30.941356378144672}, {\"mpg\": 21.5, \"cylinders\": 6, \"displacement\": 231.0, \"horsepower\": 115.0, \"weight\": 3245, \"acceleration\": 15.4, \"model_year\": 79, \"origin\": \"usa\", \"name\": \"pontiac lemans v6\", \"h1\": 115.0, \"h2\": 13225.0, \"h3\": 1520875.0, \"pred\": 19.497194415452782}, {\"mpg\": 19.8, \"cylinders\": 6, \"displacement\": 200.0, \"horsepower\": 85.0, \"weight\": 2990, \"acceleration\": 18.2, \"model_year\": 79, \"origin\": \"usa\", \"name\": \"mercury zephyr 6\", \"h1\": 85.0, \"h2\": 7225.0, \"h3\": 614125.0, \"pred\": 26.03508373213451}, {\"mpg\": 22.3, \"cylinders\": 4, \"displacement\": 140.0, \"horsepower\": 88.0, \"weight\": 2890, \"acceleration\": 17.3, \"model_year\": 79, \"origin\": \"usa\", \"name\": \"ford fairmont 4\", \"h1\": 88.0, \"h2\": 7744.0, \"h3\": 681472.0, \"pred\": 25.26297137738215}, {\"mpg\": 20.2, \"cylinders\": 6, \"displacement\": 232.0, \"horsepower\": 90.0, \"weight\": 3265, \"acceleration\": 18.2, \"model_year\": 79, \"origin\": \"usa\", \"name\": \"amc concord dl 6\", \"h1\": 90.0, \"h2\": 8100.0, \"h3\": 729000.0, \"pred\": 24.76337429403543}, {\"mpg\": 20.6, \"cylinders\": 6, \"displacement\": 225.0, \"horsepower\": 110.0, \"weight\": 3360, \"acceleration\": 16.6, \"model_year\": 79, \"origin\": \"usa\", \"name\": \"dodge aspen 6\", \"h1\": 110.0, \"h2\": 12100.0, \"h3\": 1331000.0, \"pred\": 20.41014798102548}, {\"mpg\": 17.0, \"cylinders\": 8, \"displacement\": 305.0, \"horsepower\": 130.0, \"weight\": 3840, \"acceleration\": 15.4, \"model_year\": 79, \"origin\": \"usa\", \"name\": \"chevrolet caprice classic\", \"h1\": 130.0, \"h2\": 16900.0, \"h3\": 2197000.0, \"pred\": 17.15342143823237}, {\"mpg\": 17.6, \"cylinders\": 8, \"displacement\": 302.0, \"horsepower\": 129.0, \"weight\": 3725, \"acceleration\": 13.4, \"model_year\": 79, \"origin\": \"usa\", \"name\": \"ford ltd landau\", \"h1\": 129.0, \"h2\": 16641.0, \"h3\": 2146689.0, \"pred\": 17.29180654562954}, {\"mpg\": 16.5, \"cylinders\": 8, \"displacement\": 351.0, \"horsepower\": 138.0, \"weight\": 3955, \"acceleration\": 13.2, \"model_year\": 79, \"origin\": \"usa\", \"name\": \"mercury grand marquis\", \"h1\": 138.0, \"h2\": 19044.0, \"h3\": 2628072.0, \"pred\": 16.134670234979183}, {\"mpg\": 18.2, \"cylinders\": 8, \"displacement\": 318.0, \"horsepower\": 135.0, \"weight\": 3830, \"acceleration\": 15.2, \"model_year\": 79, \"origin\": \"usa\", \"name\": \"dodge st. regis\", \"h1\": 135.0, \"h2\": 18225.0, \"h3\": 2460375.0, \"pred\": 16.49849312088027}, {\"mpg\": 16.9, \"cylinders\": 8, \"displacement\": 350.0, \"horsepower\": 155.0, \"weight\": 4360, \"acceleration\": 14.9, \"model_year\": 79, \"origin\": \"usa\", \"name\": \"buick estate wagon (sw)\", \"h1\": 155.0, \"h2\": 24025.0, \"h3\": 3723875.0, \"pred\": 14.467494041855709}, {\"mpg\": 15.5, \"cylinders\": 8, \"displacement\": 351.0, \"horsepower\": 142.0, \"weight\": 4054, \"acceleration\": 14.3, \"model_year\": 79, \"origin\": \"usa\", \"name\": \"ford country squire (sw)\", \"h1\": 142.0, \"h2\": 20164.0, \"h3\": 2863288.0, \"pred\": 15.682841576066778}, {\"mpg\": 19.2, \"cylinders\": 8, \"displacement\": 267.0, \"horsepower\": 125.0, \"weight\": 3605, \"acceleration\": 15.0, \"model_year\": 79, \"origin\": \"usa\", \"name\": \"chevrolet malibu classic (sw)\", \"h1\": 125.0, \"h2\": 15625.0, \"h3\": 1953125.0, \"pred\": 17.870441113489584}, {\"mpg\": 18.5, \"cylinders\": 8, \"displacement\": 360.0, \"horsepower\": 150.0, \"weight\": 3940, \"acceleration\": 13.0, \"model_year\": 79, \"origin\": \"usa\", \"name\": \"chrysler lebaron town @ country (sw)\", \"h1\": 150.0, \"h2\": 22500.0, \"h3\": 3375000.0, \"pred\": 14.890156621920994}, {\"mpg\": 31.9, \"cylinders\": 4, \"displacement\": 89.0, \"horsepower\": 71.0, \"weight\": 1925, \"acceleration\": 14.0, \"model_year\": 79, \"origin\": \"europe\", \"name\": \"vw rabbit custom\", \"h1\": 71.0, \"h2\": 5041.0, \"h3\": 357911.0, \"pred\": 30.008420541767705}, {\"mpg\": 34.1, \"cylinders\": 4, \"displacement\": 86.0, \"horsepower\": 65.0, \"weight\": 1975, \"acceleration\": 15.2, \"model_year\": 79, \"origin\": \"japan\", \"name\": \"maxda glc deluxe\", \"h1\": 65.0, \"h2\": 4225.0, \"h3\": 274625.0, \"pred\": 31.903832006917995}, {\"mpg\": 35.7, \"cylinders\": 4, \"displacement\": 98.0, \"horsepower\": 80.0, \"weight\": 1915, \"acceleration\": 14.4, \"model_year\": 79, \"origin\": \"usa\", \"name\": \"dodge colt hatchback custom\", \"h1\": 80.0, \"h2\": 6400.0, \"h3\": 512000.0, \"pred\": 27.383374253038937}, {\"mpg\": 27.4, \"cylinders\": 4, \"displacement\": 121.0, \"horsepower\": 80.0, \"weight\": 2670, \"acceleration\": 15.0, \"model_year\": 79, \"origin\": \"usa\", \"name\": \"amc spirit dl\", \"h1\": 80.0, \"h2\": 6400.0, \"h3\": 512000.0, \"pred\": 27.383374253038937}, {\"mpg\": 25.4, \"cylinders\": 5, \"displacement\": 183.0, \"horsepower\": 77.0, \"weight\": 3530, \"acceleration\": 20.1, \"model_year\": 79, \"origin\": \"europe\", \"name\": \"mercedes benz 300d\", \"h1\": 77.0, \"h2\": 5929.0, \"h3\": 456533.0, \"pred\": 28.22977723261245}, {\"mpg\": 23.0, \"cylinders\": 8, \"displacement\": 350.0, \"horsepower\": 125.0, \"weight\": 3900, \"acceleration\": 17.4, \"model_year\": 79, \"origin\": \"usa\", \"name\": \"cadillac eldorado\", \"h1\": 125.0, \"h2\": 15625.0, \"h3\": 1953125.0, \"pred\": 17.870441113489584}, {\"mpg\": 27.2, \"cylinders\": 4, \"displacement\": 141.0, \"horsepower\": 71.0, \"weight\": 3190, \"acceleration\": 24.8, \"model_year\": 79, \"origin\": \"europe\", \"name\": \"peugeot 504\", \"h1\": 71.0, \"h2\": 5041.0, \"h3\": 357911.0, \"pred\": 30.008420541767705}, {\"mpg\": 23.9, \"cylinders\": 8, \"displacement\": 260.0, \"horsepower\": 90.0, \"weight\": 3420, \"acceleration\": 22.2, \"model_year\": 79, \"origin\": \"usa\", \"name\": \"oldsmobile cutlass salon brougham\", \"h1\": 90.0, \"h2\": 8100.0, \"h3\": 729000.0, \"pred\": 24.76337429403543}, {\"mpg\": 34.2, \"cylinders\": 4, \"displacement\": 105.0, \"horsepower\": 70.0, \"weight\": 2200, \"acceleration\": 13.2, \"model_year\": 79, \"origin\": \"usa\", \"name\": \"plymouth horizon\", \"h1\": 70.0, \"h2\": 4900.0, \"h3\": 343000.0, \"pred\": 30.316138420997323}, {\"mpg\": 34.5, \"cylinders\": 4, \"displacement\": 105.0, \"horsepower\": 70.0, \"weight\": 2150, \"acceleration\": 14.9, \"model_year\": 79, \"origin\": \"usa\", \"name\": \"plymouth horizon tc3\", \"h1\": 70.0, \"h2\": 4900.0, \"h3\": 343000.0, \"pred\": 30.316138420997323}, {\"mpg\": 31.8, \"cylinders\": 4, \"displacement\": 85.0, \"horsepower\": 65.0, \"weight\": 2020, \"acceleration\": 19.2, \"model_year\": 79, \"origin\": \"japan\", \"name\": \"datsun 210\", \"h1\": 65.0, \"h2\": 4225.0, \"h3\": 274625.0, \"pred\": 31.903832006917995}, {\"mpg\": 37.3, \"cylinders\": 4, \"displacement\": 91.0, \"horsepower\": 69.0, \"weight\": 2130, \"acceleration\": 14.7, \"model_year\": 79, \"origin\": \"europe\", \"name\": \"fiat strada custom\", \"h1\": 69.0, \"h2\": 4761.0, \"h3\": 328509.0, \"pred\": 30.627112739871155}, {\"mpg\": 28.4, \"cylinders\": 4, \"displacement\": 151.0, \"horsepower\": 90.0, \"weight\": 2670, \"acceleration\": 16.0, \"model_year\": 79, \"origin\": \"usa\", \"name\": \"buick skylark limited\", \"h1\": 90.0, \"h2\": 8100.0, \"h3\": 729000.0, \"pred\": 24.76337429403543}, {\"mpg\": 28.8, \"cylinders\": 6, \"displacement\": 173.0, \"horsepower\": 115.0, \"weight\": 2595, \"acceleration\": 11.3, \"model_year\": 79, \"origin\": \"usa\", \"name\": \"chevrolet citation\", \"h1\": 115.0, \"h2\": 13225.0, \"h3\": 1520875.0, \"pred\": 19.497194415452782}, {\"mpg\": 26.8, \"cylinders\": 6, \"displacement\": 173.0, \"horsepower\": 115.0, \"weight\": 2700, \"acceleration\": 12.9, \"model_year\": 79, \"origin\": \"usa\", \"name\": \"oldsmobile omega brougham\", \"h1\": 115.0, \"h2\": 13225.0, \"h3\": 1520875.0, \"pred\": 19.497194415452782}, {\"mpg\": 33.5, \"cylinders\": 4, \"displacement\": 151.0, \"horsepower\": 90.0, \"weight\": 2556, \"acceleration\": 13.2, \"model_year\": 79, \"origin\": \"usa\", \"name\": \"pontiac phoenix\", \"h1\": 90.0, \"h2\": 8100.0, \"h3\": 729000.0, \"pred\": 24.76337429403543}, {\"mpg\": 41.5, \"cylinders\": 4, \"displacement\": 98.0, \"horsepower\": 76.0, \"weight\": 2144, \"acceleration\": 14.7, \"model_year\": 80, \"origin\": \"europe\", \"name\": \"vw rabbit\", \"h1\": 76.0, \"h2\": 5776.0, \"h3\": 438976.0, \"pred\": 28.518226948841566}, {\"mpg\": 38.1, \"cylinders\": 4, \"displacement\": 89.0, \"horsepower\": 60.0, \"weight\": 1968, \"acceleration\": 18.8, \"model_year\": 80, \"origin\": \"japan\", \"name\": \"toyota corolla tercel\", \"h1\": 60.0, \"h2\": 3600.0, \"h3\": 216000.0, \"pred\": 33.57454655337747}, {\"mpg\": 32.1, \"cylinders\": 4, \"displacement\": 98.0, \"horsepower\": 70.0, \"weight\": 2120, \"acceleration\": 15.5, \"model_year\": 80, \"origin\": \"usa\", \"name\": \"chevrolet chevette\", \"h1\": 70.0, \"h2\": 4900.0, \"h3\": 343000.0, \"pred\": 30.316138420997323}, {\"mpg\": 37.2, \"cylinders\": 4, \"displacement\": 86.0, \"horsepower\": 65.0, \"weight\": 2019, \"acceleration\": 16.4, \"model_year\": 80, \"origin\": \"japan\", \"name\": \"datsun 310\", \"h1\": 65.0, \"h2\": 4225.0, \"h3\": 274625.0, \"pred\": 31.903832006917995}, {\"mpg\": 28.0, \"cylinders\": 4, \"displacement\": 151.0, \"horsepower\": 90.0, \"weight\": 2678, \"acceleration\": 16.5, \"model_year\": 80, \"origin\": \"usa\", \"name\": \"chevrolet citation\", \"h1\": 90.0, \"h2\": 8100.0, \"h3\": 729000.0, \"pred\": 24.76337429403543}, {\"mpg\": 26.4, \"cylinders\": 4, \"displacement\": 140.0, \"horsepower\": 88.0, \"weight\": 2870, \"acceleration\": 18.1, \"model_year\": 80, \"origin\": \"usa\", \"name\": \"ford fairmont\", \"h1\": 88.0, \"h2\": 7744.0, \"h3\": 681472.0, \"pred\": 25.26297137738215}, {\"mpg\": 24.3, \"cylinders\": 4, \"displacement\": 151.0, \"horsepower\": 90.0, \"weight\": 3003, \"acceleration\": 20.1, \"model_year\": 80, \"origin\": \"usa\", \"name\": \"amc concord\", \"h1\": 90.0, \"h2\": 8100.0, \"h3\": 729000.0, \"pred\": 24.76337429403543}, {\"mpg\": 19.1, \"cylinders\": 6, \"displacement\": 225.0, \"horsepower\": 90.0, \"weight\": 3381, \"acceleration\": 18.7, \"model_year\": 80, \"origin\": \"usa\", \"name\": \"dodge aspen\", \"h1\": 90.0, \"h2\": 8100.0, \"h3\": 729000.0, \"pred\": 24.76337429403543}, {\"mpg\": 34.3, \"cylinders\": 4, \"displacement\": 97.0, \"horsepower\": 78.0, \"weight\": 2188, \"acceleration\": 15.8, \"model_year\": 80, \"origin\": \"europe\", \"name\": \"audi 4000\", \"h1\": 78.0, \"h2\": 6084.0, \"h3\": 474552.0, \"pred\": 27.944493797739284}, {\"mpg\": 29.8, \"cylinders\": 4, \"displacement\": 134.0, \"horsepower\": 90.0, \"weight\": 2711, \"acceleration\": 15.5, \"model_year\": 80, \"origin\": \"japan\", \"name\": \"toyota corona liftback\", \"h1\": 90.0, \"h2\": 8100.0, \"h3\": 729000.0, \"pred\": 24.76337429403543}, {\"mpg\": 31.3, \"cylinders\": 4, \"displacement\": 120.0, \"horsepower\": 75.0, \"weight\": 2542, \"acceleration\": 17.5, \"model_year\": 80, \"origin\": \"japan\", \"name\": \"mazda 626\", \"h1\": 75.0, \"h2\": 5625.0, \"h3\": 421875.0, \"pred\": 28.80985582618209}, {\"mpg\": 37.0, \"cylinders\": 4, \"displacement\": 119.0, \"horsepower\": 92.0, \"weight\": 2434, \"acceleration\": 15.0, \"model_year\": 80, \"origin\": \"japan\", \"name\": \"datsun 510 hatchback\", \"h1\": 92.0, \"h2\": 8464.0, \"h3\": 778688.0, \"pred\": 24.275772588828225}, {\"mpg\": 32.2, \"cylinders\": 4, \"displacement\": 108.0, \"horsepower\": 75.0, \"weight\": 2265, \"acceleration\": 15.2, \"model_year\": 80, \"origin\": \"japan\", \"name\": \"toyota corolla\", \"h1\": 75.0, \"h2\": 5625.0, \"h3\": 421875.0, \"pred\": 28.80985582618209}, {\"mpg\": 46.6, \"cylinders\": 4, \"displacement\": 86.0, \"horsepower\": 65.0, \"weight\": 2110, \"acceleration\": 17.9, \"model_year\": 80, \"origin\": \"japan\", \"name\": \"mazda glc\", \"h1\": 65.0, \"h2\": 4225.0, \"h3\": 274625.0, \"pred\": 31.903832006917995}, {\"mpg\": 27.9, \"cylinders\": 4, \"displacement\": 156.0, \"horsepower\": 105.0, \"weight\": 2800, \"acceleration\": 14.4, \"model_year\": 80, \"origin\": \"usa\", \"name\": \"dodge colt\", \"h1\": 105.0, \"h2\": 11025.0, \"h3\": 1157625.0, \"pred\": 21.39163278223674}, {\"mpg\": 40.8, \"cylinders\": 4, \"displacement\": 85.0, \"horsepower\": 65.0, \"weight\": 2110, \"acceleration\": 19.2, \"model_year\": 80, \"origin\": \"japan\", \"name\": \"datsun 210\", \"h1\": 65.0, \"h2\": 4225.0, \"h3\": 274625.0, \"pred\": 31.903832006917995}, {\"mpg\": 44.3, \"cylinders\": 4, \"displacement\": 90.0, \"horsepower\": 48.0, \"weight\": 2085, \"acceleration\": 21.7, \"model_year\": 80, \"origin\": \"europe\", \"name\": \"vw rabbit c (diesel)\", \"h1\": 48.0, \"h2\": 2304.0, \"h3\": 110592.0, \"pred\": 37.93262104096775}, {\"mpg\": 43.4, \"cylinders\": 4, \"displacement\": 90.0, \"horsepower\": 48.0, \"weight\": 2335, \"acceleration\": 23.7, \"model_year\": 80, \"origin\": \"europe\", \"name\": \"vw dasher (diesel)\", \"h1\": 48.0, \"h2\": 2304.0, \"h3\": 110592.0, \"pred\": 37.93262104096775}, {\"mpg\": 36.4, \"cylinders\": 5, \"displacement\": 121.0, \"horsepower\": 67.0, \"weight\": 2950, \"acceleration\": 19.9, \"model_year\": 80, \"origin\": \"europe\", \"name\": \"audi 5000s (diesel)\", \"h1\": 67.0, \"h2\": 4489.0, \"h3\": 300763.0, \"pred\": 31.258882215573337}, {\"mpg\": 30.0, \"cylinders\": 4, \"displacement\": 146.0, \"horsepower\": 67.0, \"weight\": 3250, \"acceleration\": 21.8, \"model_year\": 80, \"origin\": \"europe\", \"name\": \"mercedes-benz 240d\", \"h1\": 67.0, \"h2\": 4489.0, \"h3\": 300763.0, \"pred\": 31.258882215573337}, {\"mpg\": 44.6, \"cylinders\": 4, \"displacement\": 91.0, \"horsepower\": 67.0, \"weight\": 1850, \"acceleration\": 13.8, \"model_year\": 80, \"origin\": \"japan\", \"name\": \"honda civic 1500 gl\", \"h1\": 67.0, \"h2\": 4489.0, \"h3\": 300763.0, \"pred\": 31.258882215573337}, {\"mpg\": 33.8, \"cylinders\": 4, \"displacement\": 97.0, \"horsepower\": 67.0, \"weight\": 2145, \"acceleration\": 18.0, \"model_year\": 80, \"origin\": \"japan\", \"name\": \"subaru dl\", \"h1\": 67.0, \"h2\": 4489.0, \"h3\": 300763.0, \"pred\": 31.258882215573337}, {\"mpg\": 29.8, \"cylinders\": 4, \"displacement\": 89.0, \"horsepower\": 62.0, \"weight\": 1845, \"acceleration\": 15.3, \"model_year\": 80, \"origin\": \"europe\", \"name\": \"vokswagen rabbit\", \"h1\": 62.0, \"h2\": 3844.0, \"h3\": 238328.0, \"pred\": 32.89619518148528}, {\"mpg\": 32.7, \"cylinders\": 6, \"displacement\": 168.0, \"horsepower\": 132.0, \"weight\": 2910, \"acceleration\": 11.4, \"model_year\": 80, \"origin\": \"japan\", \"name\": \"datsun 280-zx\", \"h1\": 132.0, \"h2\": 17424.0, \"h3\": 2299968.0, \"pred\": 16.88408930663119}, {\"mpg\": 23.7, \"cylinders\": 3, \"displacement\": 70.0, \"horsepower\": 100.0, \"weight\": 2420, \"acceleration\": 12.5, \"model_year\": 80, \"origin\": \"japan\", \"name\": \"mazda rx-7 gs\", \"h1\": 100.0, \"h2\": 10000.0, \"h3\": 1000000.0, \"pred\": 22.443258788519906}, {\"mpg\": 35.0, \"cylinders\": 4, \"displacement\": 122.0, \"horsepower\": 88.0, \"weight\": 2500, \"acceleration\": 15.1, \"model_year\": 80, \"origin\": \"europe\", \"name\": \"triumph tr7 coupe\", \"h1\": 88.0, \"h2\": 7744.0, \"h3\": 681472.0, \"pred\": 25.26297137738215}, {\"mpg\": 32.4, \"cylinders\": 4, \"displacement\": 107.0, \"horsepower\": 72.0, \"weight\": 2290, \"acceleration\": 17.0, \"model_year\": 80, \"origin\": \"japan\", \"name\": \"honda accord\", \"h1\": 72.0, \"h2\": 5184.0, \"h3\": 373248.0, \"pred\": 29.703946222426847}, {\"mpg\": 27.2, \"cylinders\": 4, \"displacement\": 135.0, \"horsepower\": 84.0, \"weight\": 2490, \"acceleration\": 15.7, \"model_year\": 81, \"origin\": \"usa\", \"name\": \"plymouth reliant\", \"h1\": 84.0, \"h2\": 7056.0, \"h3\": 592704.0, \"pred\": 26.298563830669096}, {\"mpg\": 26.6, \"cylinders\": 4, \"displacement\": 151.0, \"horsepower\": 84.0, \"weight\": 2635, \"acceleration\": 16.4, \"model_year\": 81, \"origin\": \"usa\", \"name\": \"buick skylark\", \"h1\": 84.0, \"h2\": 7056.0, \"h3\": 592704.0, \"pred\": 26.298563830669096}, {\"mpg\": 25.8, \"cylinders\": 4, \"displacement\": 156.0, \"horsepower\": 92.0, \"weight\": 2620, \"acceleration\": 14.4, \"model_year\": 81, \"origin\": \"usa\", \"name\": \"dodge aries wagon (sw)\", \"h1\": 92.0, \"h2\": 8464.0, \"h3\": 778688.0, \"pred\": 24.275772588828225}, {\"mpg\": 23.5, \"cylinders\": 6, \"displacement\": 173.0, \"horsepower\": 110.0, \"weight\": 2725, \"acceleration\": 12.6, \"model_year\": 81, \"origin\": \"usa\", \"name\": \"chevrolet citation\", \"h1\": 110.0, \"h2\": 12100.0, \"h3\": 1331000.0, \"pred\": 20.41014798102548}, {\"mpg\": 30.0, \"cylinders\": 4, \"displacement\": 135.0, \"horsepower\": 84.0, \"weight\": 2385, \"acceleration\": 12.9, \"model_year\": 81, \"origin\": \"usa\", \"name\": \"plymouth reliant\", \"h1\": 84.0, \"h2\": 7056.0, \"h3\": 592704.0, \"pred\": 26.298563830669096}, {\"mpg\": 39.1, \"cylinders\": 4, \"displacement\": 79.0, \"horsepower\": 58.0, \"weight\": 1755, \"acceleration\": 16.9, \"model_year\": 81, \"origin\": \"japan\", \"name\": \"toyota starlet\", \"h1\": 58.0, \"h2\": 3364.0, \"h3\": 195112.0, \"pred\": 34.2664388740652}, {\"mpg\": 39.0, \"cylinders\": 4, \"displacement\": 86.0, \"horsepower\": 64.0, \"weight\": 1875, \"acceleration\": 16.4, \"model_year\": 81, \"origin\": \"usa\", \"name\": \"plymouth champ\", \"h1\": 64.0, \"h2\": 4096.0, \"h3\": 262144.0, \"pred\": 32.231281720344924}, {\"mpg\": 35.1, \"cylinders\": 4, \"displacement\": 81.0, \"horsepower\": 60.0, \"weight\": 1760, \"acceleration\": 16.1, \"model_year\": 81, \"origin\": \"japan\", \"name\": \"honda civic 1300\", \"h1\": 60.0, \"h2\": 3600.0, \"h3\": 216000.0, \"pred\": 33.57454655337747}, {\"mpg\": 32.3, \"cylinders\": 4, \"displacement\": 97.0, \"horsepower\": 67.0, \"weight\": 2065, \"acceleration\": 17.8, \"model_year\": 81, \"origin\": \"japan\", \"name\": \"subaru\", \"h1\": 67.0, \"h2\": 4489.0, \"h3\": 300763.0, \"pred\": 31.258882215573337}, {\"mpg\": 37.0, \"cylinders\": 4, \"displacement\": 85.0, \"horsepower\": 65.0, \"weight\": 1975, \"acceleration\": 19.4, \"model_year\": 81, \"origin\": \"japan\", \"name\": \"datsun 210 mpg\", \"h1\": 65.0, \"h2\": 4225.0, \"h3\": 274625.0, \"pred\": 31.903832006917995}, {\"mpg\": 37.7, \"cylinders\": 4, \"displacement\": 89.0, \"horsepower\": 62.0, \"weight\": 2050, \"acceleration\": 17.3, \"model_year\": 81, \"origin\": \"japan\", \"name\": \"toyota tercel\", \"h1\": 62.0, \"h2\": 3844.0, \"h3\": 238328.0, \"pred\": 32.89619518148528}, {\"mpg\": 34.1, \"cylinders\": 4, \"displacement\": 91.0, \"horsepower\": 68.0, \"weight\": 1985, \"acceleration\": 16.0, \"model_year\": 81, \"origin\": \"japan\", \"name\": \"mazda glc 4\", \"h1\": 68.0, \"h2\": 4624.0, \"h3\": 314432.0, \"pred\": 30.941356378144672}, {\"mpg\": 34.7, \"cylinders\": 4, \"displacement\": 105.0, \"horsepower\": 63.0, \"weight\": 2215, \"acceleration\": 14.9, \"model_year\": 81, \"origin\": \"usa\", \"name\": \"plymouth horizon 4\", \"h1\": 63.0, \"h2\": 3969.0, \"h3\": 250047.0, \"pred\": 32.56206515194886}, {\"mpg\": 34.4, \"cylinders\": 4, \"displacement\": 98.0, \"horsepower\": 65.0, \"weight\": 2045, \"acceleration\": 16.2, \"model_year\": 81, \"origin\": \"usa\", \"name\": \"ford escort 4w\", \"h1\": 65.0, \"h2\": 4225.0, \"h3\": 274625.0, \"pred\": 31.903832006917995}, {\"mpg\": 29.9, \"cylinders\": 4, \"displacement\": 98.0, \"horsepower\": 65.0, \"weight\": 2380, \"acceleration\": 20.7, \"model_year\": 81, \"origin\": \"usa\", \"name\": \"ford escort 2h\", \"h1\": 65.0, \"h2\": 4225.0, \"h3\": 274625.0, \"pred\": 31.903832006917995}, {\"mpg\": 33.0, \"cylinders\": 4, \"displacement\": 105.0, \"horsepower\": 74.0, \"weight\": 2190, \"acceleration\": 14.2, \"model_year\": 81, \"origin\": \"europe\", \"name\": \"volkswagen jetta\", \"h1\": 74.0, \"h2\": 5476.0, \"h3\": 405224.0, \"pred\": 29.104676744389504}, {\"mpg\": 33.7, \"cylinders\": 4, \"displacement\": 107.0, \"horsepower\": 75.0, \"weight\": 2210, \"acceleration\": 14.4, \"model_year\": 81, \"origin\": \"japan\", \"name\": \"honda prelude\", \"h1\": 75.0, \"h2\": 5625.0, \"h3\": 421875.0, \"pred\": 28.80985582618209}, {\"mpg\": 32.4, \"cylinders\": 4, \"displacement\": 108.0, \"horsepower\": 75.0, \"weight\": 2350, \"acceleration\": 16.8, \"model_year\": 81, \"origin\": \"japan\", \"name\": \"toyota corolla\", \"h1\": 75.0, \"h2\": 5625.0, \"h3\": 421875.0, \"pred\": 28.80985582618209}, {\"mpg\": 32.9, \"cylinders\": 4, \"displacement\": 119.0, \"horsepower\": 100.0, \"weight\": 2615, \"acceleration\": 14.8, \"model_year\": 81, \"origin\": \"japan\", \"name\": \"datsun 200sx\", \"h1\": 100.0, \"h2\": 10000.0, \"h3\": 1000000.0, \"pred\": 22.443258788519906}, {\"mpg\": 31.6, \"cylinders\": 4, \"displacement\": 120.0, \"horsepower\": 74.0, \"weight\": 2635, \"acceleration\": 18.3, \"model_year\": 81, \"origin\": \"japan\", \"name\": \"mazda 626\", \"h1\": 74.0, \"h2\": 5476.0, \"h3\": 405224.0, \"pred\": 29.104676744389504}, {\"mpg\": 28.1, \"cylinders\": 4, \"displacement\": 141.0, \"horsepower\": 80.0, \"weight\": 3230, \"acceleration\": 20.4, \"model_year\": 81, \"origin\": \"europe\", \"name\": \"peugeot 505s turbo diesel\", \"h1\": 80.0, \"h2\": 6400.0, \"h3\": 512000.0, \"pred\": 27.383374253038937}, {\"mpg\": 30.7, \"cylinders\": 6, \"displacement\": 145.0, \"horsepower\": 76.0, \"weight\": 3160, \"acceleration\": 19.6, \"model_year\": 81, \"origin\": \"europe\", \"name\": \"volvo diesel\", \"h1\": 76.0, \"h2\": 5776.0, \"h3\": 438976.0, \"pred\": 28.518226948841566}, {\"mpg\": 25.4, \"cylinders\": 6, \"displacement\": 168.0, \"horsepower\": 116.0, \"weight\": 2900, \"acceleration\": 12.6, \"model_year\": 81, \"origin\": \"japan\", \"name\": \"toyota cressida\", \"h1\": 116.0, \"h2\": 13456.0, \"h3\": 1560896.0, \"pred\": 19.322685773304734}, {\"mpg\": 24.2, \"cylinders\": 6, \"displacement\": 146.0, \"horsepower\": 120.0, \"weight\": 2930, \"acceleration\": 13.8, \"model_year\": 81, \"origin\": \"japan\", \"name\": \"datsun 810 maxima\", \"h1\": 120.0, \"h2\": 14400.0, \"h3\": 1728000.0, \"pred\": 18.651162116085267}, {\"mpg\": 22.4, \"cylinders\": 6, \"displacement\": 231.0, \"horsepower\": 110.0, \"weight\": 3415, \"acceleration\": 15.8, \"model_year\": 81, \"origin\": \"usa\", \"name\": \"buick century\", \"h1\": 110.0, \"h2\": 12100.0, \"h3\": 1331000.0, \"pred\": 20.41014798102548}, {\"mpg\": 26.6, \"cylinders\": 8, \"displacement\": 350.0, \"horsepower\": 105.0, \"weight\": 3725, \"acceleration\": 19.0, \"model_year\": 81, \"origin\": \"usa\", \"name\": \"oldsmobile cutlass ls\", \"h1\": 105.0, \"h2\": 11025.0, \"h3\": 1157625.0, \"pred\": 21.39163278223674}, {\"mpg\": 20.2, \"cylinders\": 6, \"displacement\": 200.0, \"horsepower\": 88.0, \"weight\": 3060, \"acceleration\": 17.1, \"model_year\": 81, \"origin\": \"usa\", \"name\": \"ford granada gl\", \"h1\": 88.0, \"h2\": 7744.0, \"h3\": 681472.0, \"pred\": 25.26297137738215}, {\"mpg\": 17.6, \"cylinders\": 6, \"displacement\": 225.0, \"horsepower\": 85.0, \"weight\": 3465, \"acceleration\": 16.6, \"model_year\": 81, \"origin\": \"usa\", \"name\": \"chrysler lebaron salon\", \"h1\": 85.0, \"h2\": 7225.0, \"h3\": 614125.0, \"pred\": 26.03508373213451}, {\"mpg\": 28.0, \"cylinders\": 4, \"displacement\": 112.0, \"horsepower\": 88.0, \"weight\": 2605, \"acceleration\": 19.6, \"model_year\": 82, \"origin\": \"usa\", \"name\": \"chevrolet cavalier\", \"h1\": 88.0, \"h2\": 7744.0, \"h3\": 681472.0, \"pred\": 25.26297137738215}, {\"mpg\": 27.0, \"cylinders\": 4, \"displacement\": 112.0, \"horsepower\": 88.0, \"weight\": 2640, \"acceleration\": 18.6, \"model_year\": 82, \"origin\": \"usa\", \"name\": \"chevrolet cavalier wagon\", \"h1\": 88.0, \"h2\": 7744.0, \"h3\": 681472.0, \"pred\": 25.26297137738215}, {\"mpg\": 34.0, \"cylinders\": 4, \"displacement\": 112.0, \"horsepower\": 88.0, \"weight\": 2395, \"acceleration\": 18.0, \"model_year\": 82, \"origin\": \"usa\", \"name\": \"chevrolet cavalier 2-door\", \"h1\": 88.0, \"h2\": 7744.0, \"h3\": 681472.0, \"pred\": 25.26297137738215}, {\"mpg\": 31.0, \"cylinders\": 4, \"displacement\": 112.0, \"horsepower\": 85.0, \"weight\": 2575, \"acceleration\": 16.2, \"model_year\": 82, \"origin\": \"usa\", \"name\": \"pontiac j2000 se hatchback\", \"h1\": 85.0, \"h2\": 7225.0, \"h3\": 614125.0, \"pred\": 26.03508373213451}, {\"mpg\": 29.0, \"cylinders\": 4, \"displacement\": 135.0, \"horsepower\": 84.0, \"weight\": 2525, \"acceleration\": 16.0, \"model_year\": 82, \"origin\": \"usa\", \"name\": \"dodge aries se\", \"h1\": 84.0, \"h2\": 7056.0, \"h3\": 592704.0, \"pred\": 26.298563830669096}, {\"mpg\": 27.0, \"cylinders\": 4, \"displacement\": 151.0, \"horsepower\": 90.0, \"weight\": 2735, \"acceleration\": 18.0, \"model_year\": 82, \"origin\": \"usa\", \"name\": \"pontiac phoenix\", \"h1\": 90.0, \"h2\": 8100.0, \"h3\": 729000.0, \"pred\": 24.76337429403543}, {\"mpg\": 24.0, \"cylinders\": 4, \"displacement\": 140.0, \"horsepower\": 92.0, \"weight\": 2865, \"acceleration\": 16.4, \"model_year\": 82, \"origin\": \"usa\", \"name\": \"ford fairmont futura\", \"h1\": 92.0, \"h2\": 8464.0, \"h3\": 778688.0, \"pred\": 24.275772588828225}, {\"mpg\": 36.0, \"cylinders\": 4, \"displacement\": 105.0, \"horsepower\": 74.0, \"weight\": 1980, \"acceleration\": 15.3, \"model_year\": 82, \"origin\": \"europe\", \"name\": \"volkswagen rabbit l\", \"h1\": 74.0, \"h2\": 5476.0, \"h3\": 405224.0, \"pred\": 29.104676744389504}, {\"mpg\": 37.0, \"cylinders\": 4, \"displacement\": 91.0, \"horsepower\": 68.0, \"weight\": 2025, \"acceleration\": 18.2, \"model_year\": 82, \"origin\": \"japan\", \"name\": \"mazda glc custom l\", \"h1\": 68.0, \"h2\": 4624.0, \"h3\": 314432.0, \"pred\": 30.941356378144672}, {\"mpg\": 31.0, \"cylinders\": 4, \"displacement\": 91.0, \"horsepower\": 68.0, \"weight\": 1970, \"acceleration\": 17.6, \"model_year\": 82, \"origin\": \"japan\", \"name\": \"mazda glc custom\", \"h1\": 68.0, \"h2\": 4624.0, \"h3\": 314432.0, \"pred\": 30.941356378144672}, {\"mpg\": 38.0, \"cylinders\": 4, \"displacement\": 105.0, \"horsepower\": 63.0, \"weight\": 2125, \"acceleration\": 14.7, \"model_year\": 82, \"origin\": \"usa\", \"name\": \"plymouth horizon miser\", \"h1\": 63.0, \"h2\": 3969.0, \"h3\": 250047.0, \"pred\": 32.56206515194886}, {\"mpg\": 36.0, \"cylinders\": 4, \"displacement\": 98.0, \"horsepower\": 70.0, \"weight\": 2125, \"acceleration\": 17.3, \"model_year\": 82, \"origin\": \"usa\", \"name\": \"mercury lynx l\", \"h1\": 70.0, \"h2\": 4900.0, \"h3\": 343000.0, \"pred\": 30.316138420997323}, {\"mpg\": 36.0, \"cylinders\": 4, \"displacement\": 120.0, \"horsepower\": 88.0, \"weight\": 2160, \"acceleration\": 14.5, \"model_year\": 82, \"origin\": \"japan\", \"name\": \"nissan stanza xe\", \"h1\": 88.0, \"h2\": 7744.0, \"h3\": 681472.0, \"pred\": 25.26297137738215}, {\"mpg\": 36.0, \"cylinders\": 4, \"displacement\": 107.0, \"horsepower\": 75.0, \"weight\": 2205, \"acceleration\": 14.5, \"model_year\": 82, \"origin\": \"japan\", \"name\": \"honda accord\", \"h1\": 75.0, \"h2\": 5625.0, \"h3\": 421875.0, \"pred\": 28.80985582618209}, {\"mpg\": 34.0, \"cylinders\": 4, \"displacement\": 108.0, \"horsepower\": 70.0, \"weight\": 2245, \"acceleration\": 16.9, \"model_year\": 82, \"origin\": \"japan\", \"name\": \"toyota corolla\", \"h1\": 70.0, \"h2\": 4900.0, \"h3\": 343000.0, \"pred\": 30.316138420997323}, {\"mpg\": 38.0, \"cylinders\": 4, \"displacement\": 91.0, \"horsepower\": 67.0, \"weight\": 1965, \"acceleration\": 15.0, \"model_year\": 82, \"origin\": \"japan\", \"name\": \"honda civic\", \"h1\": 67.0, \"h2\": 4489.0, \"h3\": 300763.0, \"pred\": 31.258882215573337}, {\"mpg\": 32.0, \"cylinders\": 4, \"displacement\": 91.0, \"horsepower\": 67.0, \"weight\": 1965, \"acceleration\": 15.7, \"model_year\": 82, \"origin\": \"japan\", \"name\": \"honda civic (auto)\", \"h1\": 67.0, \"h2\": 4489.0, \"h3\": 300763.0, \"pred\": 31.258882215573337}, {\"mpg\": 38.0, \"cylinders\": 4, \"displacement\": 91.0, \"horsepower\": 67.0, \"weight\": 1995, \"acceleration\": 16.2, \"model_year\": 82, \"origin\": \"japan\", \"name\": \"datsun 310 gx\", \"h1\": 67.0, \"h2\": 4489.0, \"h3\": 300763.0, \"pred\": 31.258882215573337}, {\"mpg\": 25.0, \"cylinders\": 6, \"displacement\": 181.0, \"horsepower\": 110.0, \"weight\": 2945, \"acceleration\": 16.4, \"model_year\": 82, \"origin\": \"usa\", \"name\": \"buick century limited\", \"h1\": 110.0, \"h2\": 12100.0, \"h3\": 1331000.0, \"pred\": 20.41014798102548}, {\"mpg\": 38.0, \"cylinders\": 6, \"displacement\": 262.0, \"horsepower\": 85.0, \"weight\": 3015, \"acceleration\": 17.0, \"model_year\": 82, \"origin\": \"usa\", \"name\": \"oldsmobile cutlass ciera (diesel)\", \"h1\": 85.0, \"h2\": 7225.0, \"h3\": 614125.0, \"pred\": 26.03508373213451}, {\"mpg\": 26.0, \"cylinders\": 4, \"displacement\": 156.0, \"horsepower\": 92.0, \"weight\": 2585, \"acceleration\": 14.5, \"model_year\": 82, \"origin\": \"usa\", \"name\": \"chrysler lebaron medallion\", \"h1\": 92.0, \"h2\": 8464.0, \"h3\": 778688.0, \"pred\": 24.275772588828225}, {\"mpg\": 22.0, \"cylinders\": 6, \"displacement\": 232.0, \"horsepower\": 112.0, \"weight\": 2835, \"acceleration\": 14.7, \"model_year\": 82, \"origin\": \"usa\", \"name\": \"ford granada l\", \"h1\": 112.0, \"h2\": 12544.0, \"h3\": 1404928.0, \"pred\": 20.036832964808042}, {\"mpg\": 32.0, \"cylinders\": 4, \"displacement\": 144.0, \"horsepower\": 96.0, \"weight\": 2665, \"acceleration\": 13.9, \"model_year\": 82, \"origin\": \"japan\", \"name\": \"toyota celica gt\", \"h1\": 96.0, \"h2\": 9216.0, \"h3\": 884736.0, \"pred\": 23.336143160657436}, {\"mpg\": 36.0, \"cylinders\": 4, \"displacement\": 135.0, \"horsepower\": 84.0, \"weight\": 2370, \"acceleration\": 13.0, \"model_year\": 82, \"origin\": \"usa\", \"name\": \"dodge charger 2.2\", \"h1\": 84.0, \"h2\": 7056.0, \"h3\": 592704.0, \"pred\": 26.298563830669096}, {\"mpg\": 27.0, \"cylinders\": 4, \"displacement\": 151.0, \"horsepower\": 90.0, \"weight\": 2950, \"acceleration\": 17.3, \"model_year\": 82, \"origin\": \"usa\", \"name\": \"chevrolet camaro\", \"h1\": 90.0, \"h2\": 8100.0, \"h3\": 729000.0, \"pred\": 24.76337429403543}, {\"mpg\": 27.0, \"cylinders\": 4, \"displacement\": 140.0, \"horsepower\": 86.0, \"weight\": 2790, \"acceleration\": 15.6, \"model_year\": 82, \"origin\": \"usa\", \"name\": \"ford mustang gl\", \"h1\": 86.0, \"h2\": 7396.0, \"h3\": 636056.0, \"pred\": 25.77466687691213}, {\"mpg\": 44.0, \"cylinders\": 4, \"displacement\": 97.0, \"horsepower\": 52.0, \"weight\": 2130, \"acceleration\": 24.6, \"model_year\": 82, \"origin\": \"europe\", \"name\": \"vw pickup\", \"h1\": 52.0, \"h2\": 2704.0, \"h3\": 140608.0, \"pred\": 36.42439190933901}, {\"mpg\": 32.0, \"cylinders\": 4, \"displacement\": 135.0, \"horsepower\": 84.0, \"weight\": 2295, \"acceleration\": 11.6, \"model_year\": 82, \"origin\": \"usa\", \"name\": \"dodge rampage\", \"h1\": 84.0, \"h2\": 7056.0, \"h3\": 592704.0, \"pred\": 26.298563830669096}, {\"mpg\": 28.0, \"cylinders\": 4, \"displacement\": 120.0, \"horsepower\": 79.0, \"weight\": 2625, \"acceleration\": 18.6, \"model_year\": 82, \"origin\": \"usa\", \"name\": \"ford ranger\", \"h1\": 79.0, \"h2\": 6241.0, \"h3\": 493039.0, \"pred\": 27.662363764466605}, {\"mpg\": 31.0, \"cylinders\": 4, \"displacement\": 119.0, \"horsepower\": 82.0, \"weight\": 2720, \"acceleration\": 19.4, \"model_year\": 82, \"origin\": \"usa\", \"name\": \"chevy s-10\", \"h1\": 82.0, \"h2\": 6724.0, \"h3\": 551368.0, \"pred\": 26.834765276696793}]}}, {\"mode\": \"vega-lite\"});\n",
       "</script>"
      ],
      "text/plain": [
       "alt.Chart(...)"
      ]
     },
     "execution_count": 30,
     "metadata": {},
     "output_type": "execute_result"
    }
   ],
   "source": [
    "alt.Chart(df).mark_circle().encode(\n",
    "    x=\"horsepower\",\n",
    "    y=\"pred\"\n",
    ")"
   ]
  },
  {
   "cell_type": "markdown",
   "metadata": {
    "cell_id": "f06455b266df40b9a049bb22cfb95f31",
    "deepnote_cell_type": "markdown"
   },
   "source": [
    "## Warning: Don't misuse polynomial regression\n",
    "\n",
    "Relevant quote:\n",
    "\n",
    "> \"We are drowning in information but starved for knowledge.\"  John Naisbitt, *Megatrends*, 1982"
   ]
  },
  {
   "cell_type": "markdown",
   "metadata": {
    "cell_id": "00aae6a33be844f9876df8793cca3eba",
    "deepnote_cell_type": "markdown"
   },
   "source": [
    "![Cubic fit to Supreme Court data](../images/Cubic.png)"
   ]
  },
  {
   "cell_type": "markdown",
   "metadata": {
    "cell_id": "1a08aeeb8ca240a1bc2fd322a62a4d5a",
    "deepnote_cell_type": "markdown"
   },
   "source": [
    "![Cubic fit to Covid data](../images/Cubic2.png)"
   ]
  }
 ],
 "metadata": {
  "deepnote": {},
  "deepnote_execution_queue": [],
  "deepnote_notebook_id": "cf664f2c758e4cc0ad192c131b9c5ec7",
  "deepnote_persisted_session": {
   "createdAt": "2023-05-05T21:16:38.925Z"
  },
  "kernelspec": {
   "display_name": "Python 3 (ipykernel)",
   "language": "python",
   "name": "python3"
  },
  "language_info": {
   "codemirror_mode": {
    "name": "ipython",
    "version": 3
   },
   "file_extension": ".py",
   "mimetype": "text/x-python",
   "name": "python",
   "nbconvert_exporter": "python",
   "pygments_lexer": "ipython3",
   "version": "3.9.16"
  }
 },
 "nbformat": 4,
 "nbformat_minor": 4
}
