{
 "cells": [
  {
   "cell_type": "markdown",
   "metadata": {
    "cell_id": "992ee6f50c5b4d6a993e8a019185f79d",
    "deepnote_cell_type": "markdown",
    "tags": []
   },
   "source": [
    "# Week 9 Wednesday\n",
    "\n",
    "## Announcements\n",
    "\n",
    "* Midterm 2 is Friday.  Get a notecard if you need one.\n",
    "* Jinghao will go over the sample midterm (posted on the [Week 9](https://canvas.eee.uci.edu/courses/53164/pages/week-9) page) in discussion on Thursday.  Sample solutions will be posted after discussion section.\n",
    "* Worksheet 17 is posted.  It is meant to get you started on the course project.\n",
    "* Worksheet 18 is also posted.  I recommend finishing this worksheet before Midterm 2, as it is mostly review material.  Worksheet 18 is the last worksheet for Math 10.\n",
    "* I have office hours starting at 12pm in here before the midterm on Friday.\n",
    "* The specific new functions we introduce today will not be on Midterm 2, but the concepts are relevant.\n"
   ]
  },
  {
   "cell_type": "code",
   "execution_count": 1,
   "metadata": {
    "cell_id": "54977cdcd6d34f2ba7ca91617d41be72",
    "deepnote_cell_type": "code",
    "deepnote_to_be_reexecuted": false,
    "execution_millis": 216,
    "execution_start": 1685563062274,
    "source_hash": "46e6bd77"
   },
   "outputs": [],
   "source": [
    "import pandas as pd\n",
    "import altair as alt"
   ]
  },
  {
   "cell_type": "markdown",
   "metadata": {
    "cell_id": "2ba7c2a38b1941d090203bf77f3c4306",
    "deepnote_cell_type": "markdown"
   },
   "source": [
    "## Temperature data set\n",
    "\n",
    "Here is the dataset we finished with on Friday.  We have succeeded in plotting the data, but we haven't done any Machine Learning with the data yet.\n",
    "\n",
    "We would really like to use a line like `color=\"city\"`, so that temperatures in different cities get different colors.  We can't do that with the current version of the DataFrame, because the city names are given in column names (as opposed to being given in their own column)."
   ]
  },
  {
   "cell_type": "code",
   "execution_count": 2,
   "metadata": {
    "cell_id": "a5fad2b9488346959e0e26d45442c3f2",
    "deepnote_cell_type": "code",
    "deepnote_to_be_reexecuted": false,
    "execution_millis": 205,
    "execution_start": 1685563300696,
    "output_cleared": false,
    "source_hash": "6c67df98",
    "tags": [
     "output_scroll"
    ]
   },
   "outputs": [
    {
     "data": {
      "application/vnd.deepnote.dataframe.v3+json": {
       "column_count": 37,
       "columns": [
        {
         "dtype": "datetime64[ns]",
         "name": "datetime",
         "stats": {
          "histogram": [
           {
            "bin_end": 1435465800000000000,
            "bin_start": 1430247600000000000,
            "count": 2
           },
           {
            "bin_end": 1440684000000000000,
            "bin_start": 1435465800000000000,
            "count": 0
           },
           {
            "bin_end": 1445902200000000000,
            "bin_start": 1440684000000000000,
            "count": 0
           },
           {
            "bin_end": 1451120400000000000,
            "bin_start": 1445902200000000000,
            "count": 0
           },
           {
            "bin_end": 1456338600000000000,
            "bin_start": 1451120400000000000,
            "count": 0
           },
           {
            "bin_end": 1461556800000000000,
            "bin_start": 1456338600000000000,
            "count": 0
           },
           {
            "bin_end": 1466775000000000000,
            "bin_start": 1461556800000000000,
            "count": 0
           },
           {
            "bin_end": 1471993200000000000,
            "bin_start": 1466775000000000000,
            "count": 1
           },
           {
            "bin_end": 1477211400000000000,
            "bin_start": 1471993200000000000,
            "count": 0
           },
           {
            "bin_end": 1482429600000000000,
            "bin_start": 1477211400000000000,
            "count": 1
           }
          ],
          "max": "2016-12-22 18:00:00",
          "min": "2015-04-28 19:00:00",
          "nan_count": 0,
          "unique_count": 4
         }
        },
        {
         "dtype": "float64",
         "name": "Vancouver",
         "stats": {
          "histogram": [
           {
            "bin_end": 40.99,
            "bin_start": 38.7,
            "count": 1
           },
           {
            "bin_end": 43.28,
            "bin_start": 40.99,
            "count": 0
           },
           {
            "bin_end": 45.57,
            "bin_start": 43.28,
            "count": 0
           },
           {
            "bin_end": 47.86,
            "bin_start": 45.57,
            "count": 0
           },
           {
            "bin_end": 50.150000000000006,
            "bin_start": 47.86,
            "count": 0
           },
           {
            "bin_end": 52.440000000000005,
            "bin_start": 50.150000000000006,
            "count": 1
           },
           {
            "bin_end": 54.730000000000004,
            "bin_start": 52.440000000000005,
            "count": 0
           },
           {
            "bin_end": 57.02,
            "bin_start": 54.730000000000004,
            "count": 0
           },
           {
            "bin_end": 59.31,
            "bin_start": 57.02,
            "count": 0
           },
           {
            "bin_end": 61.6,
            "bin_start": 59.31,
            "count": 2
           }
          ],
          "max": "61.6",
          "min": "38.7",
          "nan_count": 0,
          "unique_count": 4
         }
        },
        {
         "dtype": "float64",
         "name": "Portland",
         "stats": {
          "histogram": [
           {
            "bin_end": 34.73,
            "bin_start": 31.7,
            "count": 1
           },
           {
            "bin_end": 37.76,
            "bin_start": 34.73,
            "count": 0
           },
           {
            "bin_end": 40.79,
            "bin_start": 37.76,
            "count": 0
           },
           {
            "bin_end": 43.82,
            "bin_start": 40.79,
            "count": 0
           },
           {
            "bin_end": 46.85,
            "bin_start": 43.82,
            "count": 0
           },
           {
            "bin_end": 49.879999999999995,
            "bin_start": 46.85,
            "count": 0
           },
           {
            "bin_end": 52.91,
            "bin_start": 49.879999999999995,
            "count": 0
           },
           {
            "bin_end": 55.94,
            "bin_start": 52.91,
            "count": 1
           },
           {
            "bin_end": 58.97,
            "bin_start": 55.94,
            "count": 0
           },
           {
            "bin_end": 62,
            "bin_start": 58.97,
            "count": 2
           }
          ],
          "max": "62.0",
          "min": "31.7",
          "nan_count": 0,
          "unique_count": 4
         }
        },
        {
         "dtype": "float64",
         "name": "San Francisco",
         "stats": {
          "histogram": [
           {
            "bin_end": 53.54,
            "bin_start": 52.9,
            "count": 1
           },
           {
            "bin_end": 54.18,
            "bin_start": 53.54,
            "count": 0
           },
           {
            "bin_end": 54.82,
            "bin_start": 54.18,
            "count": 0
           },
           {
            "bin_end": 55.46,
            "bin_start": 54.82,
            "count": 0
           },
           {
            "bin_end": 56.099999999999994,
            "bin_start": 55.46,
            "count": 0
           },
           {
            "bin_end": 56.739999999999995,
            "bin_start": 56.099999999999994,
            "count": 1
           },
           {
            "bin_end": 57.379999999999995,
            "bin_start": 56.739999999999995,
            "count": 1
           },
           {
            "bin_end": 58.019999999999996,
            "bin_start": 57.379999999999995,
            "count": 0
           },
           {
            "bin_end": 58.66,
            "bin_start": 58.019999999999996,
            "count": 0
           },
           {
            "bin_end": 59.3,
            "bin_start": 58.66,
            "count": 1
           }
          ],
          "max": "59.3",
          "min": "52.9",
          "nan_count": 0,
          "unique_count": 4
         }
        },
        {
         "dtype": "float64",
         "name": "Seattle",
         "stats": {
          "histogram": [
           {
            "bin_end": 37.44,
            "bin_start": 34.9,
            "count": 1
           },
           {
            "bin_end": 39.98,
            "bin_start": 37.44,
            "count": 0
           },
           {
            "bin_end": 42.519999999999996,
            "bin_start": 39.98,
            "count": 0
           },
           {
            "bin_end": 45.06,
            "bin_start": 42.519999999999996,
            "count": 0
           },
           {
            "bin_end": 47.599999999999994,
            "bin_start": 45.06,
            "count": 0
           },
           {
            "bin_end": 50.14,
            "bin_start": 47.599999999999994,
            "count": 0
           },
           {
            "bin_end": 52.68,
            "bin_start": 50.14,
            "count": 0
           },
           {
            "bin_end": 55.22,
            "bin_start": 52.68,
            "count": 0
           },
           {
            "bin_end": 57.76,
            "bin_start": 55.22,
            "count": 1
           },
           {
            "bin_end": 60.3,
            "bin_start": 57.76,
            "count": 2
           }
          ],
          "max": "60.3",
          "min": "34.9",
          "nan_count": 0,
          "unique_count": 4
         }
        },
        {
         "dtype": "float64",
         "name": "Los Angeles",
         "stats": {
          "histogram": [
           {
            "bin_end": 57.69,
            "bin_start": 55.3,
            "count": 1
           },
           {
            "bin_end": 60.08,
            "bin_start": 57.69,
            "count": 0
           },
           {
            "bin_end": 62.47,
            "bin_start": 60.08,
            "count": 0
           },
           {
            "bin_end": 64.86,
            "bin_start": 62.47,
            "count": 0
           },
           {
            "bin_end": 67.25,
            "bin_start": 64.86,
            "count": 1
           },
           {
            "bin_end": 69.64,
            "bin_start": 67.25,
            "count": 0
           },
           {
            "bin_end": 72.03,
            "bin_start": 69.64,
            "count": 1
           },
           {
            "bin_end": 74.42,
            "bin_start": 72.03,
            "count": 0
           },
           {
            "bin_end": 76.81,
            "bin_start": 74.42,
            "count": 0
           },
           {
            "bin_end": 79.2,
            "bin_start": 76.81,
            "count": 1
           }
          ],
          "max": "79.2",
          "min": "55.3",
          "nan_count": 0,
          "unique_count": 4
         }
        },
        {
         "dtype": "float64",
         "name": "San Diego",
         "stats": {
          "histogram": [
           {
            "bin_end": 63.04,
            "bin_start": 60.9,
            "count": 1
           },
           {
            "bin_end": 65.17999999999999,
            "bin_start": 63.04,
            "count": 1
           },
           {
            "bin_end": 67.32,
            "bin_start": 65.17999999999999,
            "count": 0
           },
           {
            "bin_end": 69.46,
            "bin_start": 67.32,
            "count": 0
           },
           {
            "bin_end": 71.6,
            "bin_start": 69.46,
            "count": 1
           },
           {
            "bin_end": 73.74,
            "bin_start": 71.6,
            "count": 0
           },
           {
            "bin_end": 75.88,
            "bin_start": 73.74,
            "count": 0
           },
           {
            "bin_end": 78.02,
            "bin_start": 75.88,
            "count": 0
           },
           {
            "bin_end": 80.16,
            "bin_start": 78.02,
            "count": 0
           },
           {
            "bin_end": 82.3,
            "bin_start": 80.16,
            "count": 1
           }
          ],
          "max": "82.3",
          "min": "60.9",
          "nan_count": 0,
          "unique_count": 4
         }
        },
        {
         "dtype": "float64",
         "name": "Las Vegas",
         "stats": {
          "histogram": [
           {
            "bin_end": 50.1,
            "bin_start": 45.6,
            "count": 1
           },
           {
            "bin_end": 54.6,
            "bin_start": 50.1,
            "count": 0
           },
           {
            "bin_end": 59.099999999999994,
            "bin_start": 54.6,
            "count": 0
           },
           {
            "bin_end": 63.599999999999994,
            "bin_start": 59.099999999999994,
            "count": 0
           },
           {
            "bin_end": 68.1,
            "bin_start": 63.599999999999994,
            "count": 0
           },
           {
            "bin_end": 72.6,
            "bin_start": 68.1,
            "count": 0
           },
           {
            "bin_end": 77.1,
            "bin_start": 72.6,
            "count": 2
           },
           {
            "bin_end": 81.6,
            "bin_start": 77.1,
            "count": 0
           },
           {
            "bin_end": 86.1,
            "bin_start": 81.6,
            "count": 0
           },
           {
            "bin_end": 90.6,
            "bin_start": 86.1,
            "count": 1
           }
          ],
          "max": "90.6",
          "min": "45.6",
          "nan_count": 0,
          "unique_count": 4
         }
        },
        {
         "dtype": "float64",
         "name": "Phoenix",
         "stats": {
          "histogram": [
           {
            "bin_end": 64.24,
            "bin_start": 60.8,
            "count": 1
           },
           {
            "bin_end": 67.67999999999999,
            "bin_start": 64.24,
            "count": 0
           },
           {
            "bin_end": 71.12,
            "bin_start": 67.67999999999999,
            "count": 0
           },
           {
            "bin_end": 74.56,
            "bin_start": 71.12,
            "count": 0
           },
           {
            "bin_end": 78,
            "bin_start": 74.56,
            "count": 0
           },
           {
            "bin_end": 81.44,
            "bin_start": 78,
            "count": 2
           },
           {
            "bin_end": 84.88,
            "bin_start": 81.44,
            "count": 0
           },
           {
            "bin_end": 88.32,
            "bin_start": 84.88,
            "count": 0
           },
           {
            "bin_end": 91.76,
            "bin_start": 88.32,
            "count": 0
           },
           {
            "bin_end": 95.2,
            "bin_start": 91.76,
            "count": 1
           }
          ],
          "max": "95.2",
          "min": "60.8",
          "nan_count": 0,
          "unique_count": 4
         }
        },
        {
         "dtype": "float64",
         "name": "Albuquerque",
         "stats": {
          "histogram": [
           {
            "bin_end": 38.65,
            "bin_start": 34.1,
            "count": 1
           },
           {
            "bin_end": 43.2,
            "bin_start": 38.65,
            "count": 0
           },
           {
            "bin_end": 47.75,
            "bin_start": 43.2,
            "count": 0
           },
           {
            "bin_end": 52.3,
            "bin_start": 47.75,
            "count": 1
           },
           {
            "bin_end": 56.849999999999994,
            "bin_start": 52.3,
            "count": 0
           },
           {
            "bin_end": 61.39999999999999,
            "bin_start": 56.849999999999994,
            "count": 1
           },
           {
            "bin_end": 65.94999999999999,
            "bin_start": 61.39999999999999,
            "count": 0
           },
           {
            "bin_end": 70.5,
            "bin_start": 65.94999999999999,
            "count": 0
           },
           {
            "bin_end": 75.04999999999998,
            "bin_start": 70.5,
            "count": 0
           },
           {
            "bin_end": 79.6,
            "bin_start": 75.04999999999998,
            "count": 1
           }
          ],
          "max": "79.6",
          "min": "34.1",
          "nan_count": 0,
          "unique_count": 4
         }
        },
        {
         "dtype": "float64",
         "name": "Denver",
         "stats": {
          "histogram": [
           {
            "bin_end": 39.14,
            "bin_start": 34.8,
            "count": 1
           },
           {
            "bin_end": 43.48,
            "bin_start": 39.14,
            "count": 0
           },
           {
            "bin_end": 47.82,
            "bin_start": 43.48,
            "count": 0
           },
           {
            "bin_end": 52.16,
            "bin_start": 47.82,
            "count": 2
           },
           {
            "bin_end": 56.5,
            "bin_start": 52.16,
            "count": 0
           },
           {
            "bin_end": 60.84,
            "bin_start": 56.5,
            "count": 0
           },
           {
            "bin_end": 65.18,
            "bin_start": 60.84,
            "count": 0
           },
           {
            "bin_end": 69.52000000000001,
            "bin_start": 65.18,
            "count": 0
           },
           {
            "bin_end": 73.86000000000001,
            "bin_start": 69.52000000000001,
            "count": 0
           },
           {
            "bin_end": 78.2,
            "bin_start": 73.86000000000001,
            "count": 1
           }
          ],
          "max": "78.2",
          "min": "34.8",
          "nan_count": 0,
          "unique_count": 4
         }
        },
        {
         "dtype": "float64",
         "name": "San Antonio",
         "stats": {
          "histogram": [
           {
            "bin_end": 66.42,
            "bin_start": 63.9,
            "count": 1
           },
           {
            "bin_end": 68.94,
            "bin_start": 66.42,
            "count": 0
           },
           {
            "bin_end": 71.46,
            "bin_start": 68.94,
            "count": 1
           },
           {
            "bin_end": 73.97999999999999,
            "bin_start": 71.46,
            "count": 1
           },
           {
            "bin_end": 76.5,
            "bin_start": 73.97999999999999,
            "count": 0
           },
           {
            "bin_end": 79.02,
            "bin_start": 76.5,
            "count": 0
           },
           {
            "bin_end": 81.53999999999999,
            "bin_start": 79.02,
            "count": 0
           },
           {
            "bin_end": 84.06,
            "bin_start": 81.53999999999999,
            "count": 0
           },
           {
            "bin_end": 86.58,
            "bin_start": 84.06,
            "count": 0
           },
           {
            "bin_end": 89.1,
            "bin_start": 86.58,
            "count": 1
           }
          ],
          "max": "89.1",
          "min": "63.9",
          "nan_count": 0,
          "unique_count": 4
         }
        },
        {
         "dtype": "float64",
         "name": "Dallas",
         "stats": {
          "histogram": [
           {
            "bin_end": 55.24,
            "bin_start": 51.7,
            "count": 2
           },
           {
            "bin_end": 58.78,
            "bin_start": 55.24,
            "count": 0
           },
           {
            "bin_end": 62.32,
            "bin_start": 58.78,
            "count": 0
           },
           {
            "bin_end": 65.86,
            "bin_start": 62.32,
            "count": 1
           },
           {
            "bin_end": 69.4,
            "bin_start": 65.86,
            "count": 0
           },
           {
            "bin_end": 72.94,
            "bin_start": 69.4,
            "count": 0
           },
           {
            "bin_end": 76.47999999999999,
            "bin_start": 72.94,
            "count": 0
           },
           {
            "bin_end": 80.02,
            "bin_start": 76.47999999999999,
            "count": 0
           },
           {
            "bin_end": 83.56,
            "bin_start": 80.02,
            "count": 0
           },
           {
            "bin_end": 87.1,
            "bin_start": 83.56,
            "count": 1
           }
          ],
          "max": "87.1",
          "min": "51.7",
          "nan_count": 0,
          "unique_count": 4
         }
        },
        {
         "dtype": "float64",
         "name": "Houston",
         "stats": {
          "histogram": [
           {
            "bin_end": 70.57,
            "bin_start": 68.3,
            "count": 2
           },
           {
            "bin_end": 72.84,
            "bin_start": 70.57,
            "count": 0
           },
           {
            "bin_end": 75.11,
            "bin_start": 72.84,
            "count": 1
           },
           {
            "bin_end": 77.38,
            "bin_start": 75.11,
            "count": 0
           },
           {
            "bin_end": 79.65,
            "bin_start": 77.38,
            "count": 0
           },
           {
            "bin_end": 81.92,
            "bin_start": 79.65,
            "count": 0
           },
           {
            "bin_end": 84.19,
            "bin_start": 81.92,
            "count": 0
           },
           {
            "bin_end": 86.46000000000001,
            "bin_start": 84.19,
            "count": 0
           },
           {
            "bin_end": 88.73,
            "bin_start": 86.46000000000001,
            "count": 0
           },
           {
            "bin_end": 91,
            "bin_start": 88.73,
            "count": 1
           }
          ],
          "max": "91.0",
          "min": "68.3",
          "nan_count": 0,
          "unique_count": 4
         }
        },
        {
         "dtype": "float64",
         "name": "Kansas City",
         "stats": {
          "histogram": [
           {
            "bin_end": 41.06,
            "bin_start": 36.5,
            "count": 1
           },
           {
            "bin_end": 45.62,
            "bin_start": 41.06,
            "count": 0
           },
           {
            "bin_end": 50.18,
            "bin_start": 45.62,
            "count": 0
           },
           {
            "bin_end": 54.739999999999995,
            "bin_start": 50.18,
            "count": 0
           },
           {
            "bin_end": 59.3,
            "bin_start": 54.739999999999995,
            "count": 0
           },
           {
            "bin_end": 63.86,
            "bin_start": 59.3,
            "count": 0
           },
           {
            "bin_end": 68.42,
            "bin_start": 63.86,
            "count": 1
           },
           {
            "bin_end": 72.97999999999999,
            "bin_start": 68.42,
            "count": 1
           },
           {
            "bin_end": 77.53999999999999,
            "bin_start": 72.97999999999999,
            "count": 0
           },
           {
            "bin_end": 82.1,
            "bin_start": 77.53999999999999,
            "count": 1
           }
          ],
          "max": "82.1",
          "min": "36.5",
          "nan_count": 0,
          "unique_count": 4
         }
        },
        {
         "dtype": "float64",
         "name": "Minneapolis",
         "stats": {
          "histogram": [
           {
            "bin_end": 34.72,
            "bin_start": 30.9,
            "count": 1
           },
           {
            "bin_end": 38.54,
            "bin_start": 34.72,
            "count": 0
           },
           {
            "bin_end": 42.36,
            "bin_start": 38.54,
            "count": 0
           },
           {
            "bin_end": 46.17999999999999,
            "bin_start": 42.36,
            "count": 0
           },
           {
            "bin_end": 50,
            "bin_start": 46.17999999999999,
            "count": 0
           },
           {
            "bin_end": 53.81999999999999,
            "bin_start": 50,
            "count": 0
           },
           {
            "bin_end": 57.63999999999999,
            "bin_start": 53.81999999999999,
            "count": 0
           },
           {
            "bin_end": 61.459999999999994,
            "bin_start": 57.63999999999999,
            "count": 0
           },
           {
            "bin_end": 65.28,
            "bin_start": 61.459999999999994,
            "count": 1
           },
           {
            "bin_end": 69.1,
            "bin_start": 65.28,
            "count": 2
           }
          ],
          "max": "69.1",
          "min": "30.9",
          "nan_count": 0,
          "unique_count": 4
         }
        },
        {
         "dtype": "float64",
         "name": "Saint Louis",
         "stats": {
          "histogram": [
           {
            "bin_end": 44.87,
            "bin_start": 40.5,
            "count": 1
           },
           {
            "bin_end": 49.24,
            "bin_start": 44.87,
            "count": 0
           },
           {
            "bin_end": 53.61,
            "bin_start": 49.24,
            "count": 0
           },
           {
            "bin_end": 57.980000000000004,
            "bin_start": 53.61,
            "count": 0
           },
           {
            "bin_end": 62.35,
            "bin_start": 57.980000000000004,
            "count": 1
           },
           {
            "bin_end": 66.72,
            "bin_start": 62.35,
            "count": 0
           },
           {
            "bin_end": 71.09,
            "bin_start": 66.72,
            "count": 0
           },
           {
            "bin_end": 75.46000000000001,
            "bin_start": 71.09,
            "count": 1
           },
           {
            "bin_end": 79.83,
            "bin_start": 75.46000000000001,
            "count": 0
           },
           {
            "bin_end": 84.2,
            "bin_start": 79.83,
            "count": 1
           }
          ],
          "max": "84.2",
          "min": "40.5",
          "nan_count": 0,
          "unique_count": 4
         }
        },
        {
         "dtype": "float64",
         "name": "Chicago",
         "stats": {
          "histogram": [
           {
            "bin_end": 41.12,
            "bin_start": 36.4,
            "count": 1
           },
           {
            "bin_end": 45.839999999999996,
            "bin_start": 41.12,
            "count": 1
           },
           {
            "bin_end": 50.56,
            "bin_start": 45.839999999999996,
            "count": 0
           },
           {
            "bin_end": 55.28,
            "bin_start": 50.56,
            "count": 0
           },
           {
            "bin_end": 60,
            "bin_start": 55.28,
            "count": 0
           },
           {
            "bin_end": 64.72,
            "bin_start": 60,
            "count": 0
           },
           {
            "bin_end": 69.44,
            "bin_start": 64.72,
            "count": 1
           },
           {
            "bin_end": 74.16,
            "bin_start": 69.44,
            "count": 0
           },
           {
            "bin_end": 78.88,
            "bin_start": 74.16,
            "count": 0
           },
           {
            "bin_end": 83.6,
            "bin_start": 78.88,
            "count": 1
           }
          ],
          "max": "83.6",
          "min": "36.4",
          "nan_count": 0,
          "unique_count": 4
         }
        },
        {
         "dtype": "float64",
         "name": "Nashville",
         "stats": {
          "histogram": [
           {
            "bin_end": 49.79,
            "bin_start": 45.5,
            "count": 1
           },
           {
            "bin_end": 54.08,
            "bin_start": 49.79,
            "count": 0
           },
           {
            "bin_end": 58.370000000000005,
            "bin_start": 54.08,
            "count": 0
           },
           {
            "bin_end": 62.660000000000004,
            "bin_start": 58.370000000000005,
            "count": 0
           },
           {
            "bin_end": 66.95,
            "bin_start": 62.660000000000004,
            "count": 1
           },
           {
            "bin_end": 71.24000000000001,
            "bin_start": 66.95,
            "count": 1
           },
           {
            "bin_end": 75.53,
            "bin_start": 71.24000000000001,
            "count": 0
           },
           {
            "bin_end": 79.82000000000001,
            "bin_start": 75.53,
            "count": 0
           },
           {
            "bin_end": 84.11000000000001,
            "bin_start": 79.82000000000001,
            "count": 0
           },
           {
            "bin_end": 88.4,
            "bin_start": 84.11000000000001,
            "count": 1
           }
          ],
          "max": "88.4",
          "min": "45.5",
          "nan_count": 0,
          "unique_count": 4
         }
        },
        {
         "dtype": "float64",
         "name": "Indianapolis",
         "stats": {
          "histogram": [
           {
            "bin_end": 42.04,
            "bin_start": 38.1,
            "count": 1
           },
           {
            "bin_end": 45.980000000000004,
            "bin_start": 42.04,
            "count": 0
           },
           {
            "bin_end": 49.92,
            "bin_start": 45.980000000000004,
            "count": 0
           },
           {
            "bin_end": 53.86,
            "bin_start": 49.92,
            "count": 0
           },
           {
            "bin_end": 57.8,
            "bin_start": 53.86,
            "count": 0
           },
           {
            "bin_end": 61.74,
            "bin_start": 57.8,
            "count": 1
           },
           {
            "bin_end": 65.68,
            "bin_start": 61.74,
            "count": 0
           },
           {
            "bin_end": 69.62,
            "bin_start": 65.68,
            "count": 1
           },
           {
            "bin_end": 73.56,
            "bin_start": 69.62,
            "count": 0
           },
           {
            "bin_end": 77.5,
            "bin_start": 73.56,
            "count": 1
           }
          ],
          "max": "77.5",
          "min": "38.1",
          "nan_count": 0,
          "unique_count": 4
         }
        },
        {
         "dtype": "float64",
         "name": "Atlanta",
         "stats": {
          "histogram": [
           {
            "bin_end": 62.86,
            "bin_start": 59.9,
            "count": 1
           },
           {
            "bin_end": 65.82,
            "bin_start": 62.86,
            "count": 0
           },
           {
            "bin_end": 68.78,
            "bin_start": 65.82,
            "count": 1
           },
           {
            "bin_end": 71.74,
            "bin_start": 68.78,
            "count": 0
           },
           {
            "bin_end": 74.7,
            "bin_start": 71.74,
            "count": 1
           },
           {
            "bin_end": 77.66,
            "bin_start": 74.7,
            "count": 0
           },
           {
            "bin_end": 80.62,
            "bin_start": 77.66,
            "count": 0
           },
           {
            "bin_end": 83.58,
            "bin_start": 80.62,
            "count": 0
           },
           {
            "bin_end": 86.53999999999999,
            "bin_start": 83.58,
            "count": 0
           },
           {
            "bin_end": 89.5,
            "bin_start": 86.53999999999999,
            "count": 1
           }
          ],
          "max": "89.5",
          "min": "59.9",
          "nan_count": 0,
          "unique_count": 4
         }
        },
        {
         "dtype": "float64",
         "name": "Detroit",
         "stats": {
          "histogram": [
           {
            "bin_end": 42.31,
            "bin_start": 38.1,
            "count": 1
           },
           {
            "bin_end": 46.52,
            "bin_start": 42.31,
            "count": 0
           },
           {
            "bin_end": 50.730000000000004,
            "bin_start": 46.52,
            "count": 0
           },
           {
            "bin_end": 54.94,
            "bin_start": 50.730000000000004,
            "count": 1
           },
           {
            "bin_end": 59.150000000000006,
            "bin_start": 54.94,
            "count": 0
           },
           {
            "bin_end": 63.36,
            "bin_start": 59.150000000000006,
            "count": 0
           },
           {
            "bin_end": 67.57,
            "bin_start": 63.36,
            "count": 0
           },
           {
            "bin_end": 71.78,
            "bin_start": 67.57,
            "count": 1
           },
           {
            "bin_end": 75.99000000000001,
            "bin_start": 71.78,
            "count": 0
           },
           {
            "bin_end": 80.2,
            "bin_start": 75.99000000000001,
            "count": 1
           }
          ],
          "max": "80.2",
          "min": "38.1",
          "nan_count": 0,
          "unique_count": 4
         }
        },
        {
         "dtype": "float64",
         "name": "Jacksonville",
         "stats": {
          "histogram": [
           {
            "bin_end": 67.67,
            "bin_start": 64.9,
            "count": 1
           },
           {
            "bin_end": 70.44,
            "bin_start": 67.67,
            "count": 1
           },
           {
            "bin_end": 73.21000000000001,
            "bin_start": 70.44,
            "count": 0
           },
           {
            "bin_end": 75.98,
            "bin_start": 73.21000000000001,
            "count": 0
           },
           {
            "bin_end": 78.75,
            "bin_start": 75.98,
            "count": 1
           },
           {
            "bin_end": 81.52,
            "bin_start": 78.75,
            "count": 0
           },
           {
            "bin_end": 84.28999999999999,
            "bin_start": 81.52,
            "count": 0
           },
           {
            "bin_end": 87.06,
            "bin_start": 84.28999999999999,
            "count": 0
           },
           {
            "bin_end": 89.83,
            "bin_start": 87.06,
            "count": 0
           },
           {
            "bin_end": 92.6,
            "bin_start": 89.83,
            "count": 1
           }
          ],
          "max": "92.6",
          "min": "64.9",
          "nan_count": 0,
          "unique_count": 4
         }
        },
        {
         "dtype": "float64",
         "name": "Charlotte",
         "stats": {
          "histogram": [
           {
            "bin_end": 63.059999999999995,
            "bin_start": 60.3,
            "count": 2
           },
           {
            "bin_end": 65.82,
            "bin_start": 63.059999999999995,
            "count": 0
           },
           {
            "bin_end": 68.58,
            "bin_start": 65.82,
            "count": 0
           },
           {
            "bin_end": 71.34,
            "bin_start": 68.58,
            "count": 0
           },
           {
            "bin_end": 74.1,
            "bin_start": 71.34,
            "count": 1
           },
           {
            "bin_end": 76.86,
            "bin_start": 74.1,
            "count": 0
           },
           {
            "bin_end": 79.62,
            "bin_start": 76.86,
            "count": 0
           },
           {
            "bin_end": 82.38,
            "bin_start": 79.62,
            "count": 0
           },
           {
            "bin_end": 85.14,
            "bin_start": 82.38,
            "count": 0
           },
           {
            "bin_end": 87.9,
            "bin_start": 85.14,
            "count": 1
           }
          ],
          "max": "87.9",
          "min": "60.3",
          "nan_count": 0,
          "unique_count": 4
         }
        },
        {
         "dtype": "float64",
         "name": "Miami",
         "stats": {
          "histogram": [
           {
            "bin_end": 79.87,
            "bin_start": 78.8,
            "count": 1
           },
           {
            "bin_end": 80.94,
            "bin_start": 79.87,
            "count": 1
           },
           {
            "bin_end": 82.00999999999999,
            "bin_start": 80.94,
            "count": 1
           },
           {
            "bin_end": 83.08,
            "bin_start": 82.00999999999999,
            "count": 0
           },
           {
            "bin_end": 84.15,
            "bin_start": 83.08,
            "count": 0
           },
           {
            "bin_end": 85.22,
            "bin_start": 84.15,
            "count": 0
           },
           {
            "bin_end": 86.28999999999999,
            "bin_start": 85.22,
            "count": 0
           },
           {
            "bin_end": 87.36,
            "bin_start": 86.28999999999999,
            "count": 0
           },
           {
            "bin_end": 88.43,
            "bin_start": 87.36,
            "count": 0
           },
           {
            "bin_end": 89.5,
            "bin_start": 88.43,
            "count": 1
           }
          ],
          "max": "89.5",
          "min": "78.8",
          "nan_count": 0,
          "unique_count": 4
         }
        },
        {
         "dtype": "float64",
         "name": "Pittsburgh",
         "stats": {
          "histogram": [
           {
            "bin_end": 40.26,
            "bin_start": 36,
            "count": 1
           },
           {
            "bin_end": 44.519999999999996,
            "bin_start": 40.26,
            "count": 0
           },
           {
            "bin_end": 48.78,
            "bin_start": 44.519999999999996,
            "count": 0
           },
           {
            "bin_end": 53.04,
            "bin_start": 48.78,
            "count": 0
           },
           {
            "bin_end": 57.3,
            "bin_start": 53.04,
            "count": 0
           },
           {
            "bin_end": 61.56,
            "bin_start": 57.3,
            "count": 1
           },
           {
            "bin_end": 65.82,
            "bin_start": 61.56,
            "count": 0
           },
           {
            "bin_end": 70.08,
            "bin_start": 65.82,
            "count": 0
           },
           {
            "bin_end": 74.34,
            "bin_start": 70.08,
            "count": 1
           },
           {
            "bin_end": 78.6,
            "bin_start": 74.34,
            "count": 1
           }
          ],
          "max": "78.6",
          "min": "36.0",
          "nan_count": 0,
          "unique_count": 4
         }
        },
        {
         "dtype": "float64",
         "name": "Toronto",
         "stats": {
          "histogram": [
           {
            "bin_end": 39.04,
            "bin_start": 34.9,
            "count": 1
           },
           {
            "bin_end": 43.18,
            "bin_start": 39.04,
            "count": 0
           },
           {
            "bin_end": 47.31999999999999,
            "bin_start": 43.18,
            "count": 0
           },
           {
            "bin_end": 51.459999999999994,
            "bin_start": 47.31999999999999,
            "count": 0
           },
           {
            "bin_end": 55.599999999999994,
            "bin_start": 51.459999999999994,
            "count": 1
           },
           {
            "bin_end": 59.739999999999995,
            "bin_start": 55.599999999999994,
            "count": 0
           },
           {
            "bin_end": 63.879999999999995,
            "bin_start": 59.739999999999995,
            "count": 0
           },
           {
            "bin_end": 68.02,
            "bin_start": 63.879999999999995,
            "count": 1
           },
           {
            "bin_end": 72.16,
            "bin_start": 68.02,
            "count": 0
           },
           {
            "bin_end": 76.3,
            "bin_start": 72.16,
            "count": 1
           }
          ],
          "max": "76.3",
          "min": "34.9",
          "nan_count": 0,
          "unique_count": 4
         }
        },
        {
         "dtype": "float64",
         "name": "Philadelphia",
         "stats": {
          "histogram": [
           {
            "bin_end": 50.89,
            "bin_start": 46.8,
            "count": 1
           },
           {
            "bin_end": 54.98,
            "bin_start": 50.89,
            "count": 0
           },
           {
            "bin_end": 59.07,
            "bin_start": 54.98,
            "count": 0
           },
           {
            "bin_end": 63.16,
            "bin_start": 59.07,
            "count": 0
           },
           {
            "bin_end": 67.25,
            "bin_start": 63.16,
            "count": 1
           },
           {
            "bin_end": 71.34,
            "bin_start": 67.25,
            "count": 0
           },
           {
            "bin_end": 75.43,
            "bin_start": 71.34,
            "count": 1
           },
           {
            "bin_end": 79.52000000000001,
            "bin_start": 75.43,
            "count": 0
           },
           {
            "bin_end": 83.61000000000001,
            "bin_start": 79.52000000000001,
            "count": 0
           },
           {
            "bin_end": 87.7,
            "bin_start": 83.61000000000001,
            "count": 1
           }
          ],
          "max": "87.7",
          "min": "46.8",
          "nan_count": 0,
          "unique_count": 4
         }
        },
        {
         "dtype": "float64",
         "name": "New York",
         "stats": {
          "histogram": [
           {
            "bin_end": 47.620000000000005,
            "bin_start": 43.6,
            "count": 1
           },
           {
            "bin_end": 51.64,
            "bin_start": 47.620000000000005,
            "count": 0
           },
           {
            "bin_end": 55.66,
            "bin_start": 51.64,
            "count": 0
           },
           {
            "bin_end": 59.68,
            "bin_start": 55.66,
            "count": 0
           },
           {
            "bin_end": 63.7,
            "bin_start": 59.68,
            "count": 1
           },
           {
            "bin_end": 67.72,
            "bin_start": 63.7,
            "count": 0
           },
           {
            "bin_end": 71.74,
            "bin_start": 67.72,
            "count": 0
           },
           {
            "bin_end": 75.75999999999999,
            "bin_start": 71.74,
            "count": 1
           },
           {
            "bin_end": 79.78,
            "bin_start": 75.75999999999999,
            "count": 0
           },
           {
            "bin_end": 83.8,
            "bin_start": 79.78,
            "count": 1
           }
          ],
          "max": "83.8",
          "min": "43.6",
          "nan_count": 0,
          "unique_count": 4
         }
        },
        {
         "dtype": "float64",
         "name": "Montreal",
         "stats": {
          "histogram": [
           {
            "bin_end": 35.74,
            "bin_start": 32,
            "count": 1
           },
           {
            "bin_end": 39.480000000000004,
            "bin_start": 35.74,
            "count": 0
           },
           {
            "bin_end": 43.22,
            "bin_start": 39.480000000000004,
            "count": 0
           },
           {
            "bin_end": 46.96,
            "bin_start": 43.22,
            "count": 0
           },
           {
            "bin_end": 50.7,
            "bin_start": 46.96,
            "count": 0
           },
           {
            "bin_end": 54.440000000000005,
            "bin_start": 50.7,
            "count": 0
           },
           {
            "bin_end": 58.18000000000001,
            "bin_start": 54.440000000000005,
            "count": 0
           },
           {
            "bin_end": 61.92,
            "bin_start": 58.18000000000001,
            "count": 1
           },
           {
            "bin_end": 65.66,
            "bin_start": 61.92,
            "count": 1
           },
           {
            "bin_end": 69.4,
            "bin_start": 65.66,
            "count": 1
           }
          ],
          "max": "69.4",
          "min": "32.0",
          "nan_count": 0,
          "unique_count": 4
         }
        },
        {
         "dtype": "float64",
         "name": "Boston",
         "stats": {
          "histogram": [
           {
            "bin_end": 39.45,
            "bin_start": 36.4,
            "count": 1
           },
           {
            "bin_end": 42.5,
            "bin_start": 39.45,
            "count": 0
           },
           {
            "bin_end": 45.55,
            "bin_start": 42.5,
            "count": 0
           },
           {
            "bin_end": 48.6,
            "bin_start": 45.55,
            "count": 0
           },
           {
            "bin_end": 51.650000000000006,
            "bin_start": 48.6,
            "count": 1
           },
           {
            "bin_end": 54.7,
            "bin_start": 51.650000000000006,
            "count": 0
           },
           {
            "bin_end": 57.75,
            "bin_start": 54.7,
            "count": 0
           },
           {
            "bin_end": 60.800000000000004,
            "bin_start": 57.75,
            "count": 0
           },
           {
            "bin_end": 63.85000000000001,
            "bin_start": 60.800000000000004,
            "count": 0
           },
           {
            "bin_end": 66.9,
            "bin_start": 63.85000000000001,
            "count": 2
           }
          ],
          "max": "66.9",
          "min": "36.4",
          "nan_count": 0,
          "unique_count": 4
         }
        },
        {
         "dtype": "float64",
         "name": "Beersheba",
         "stats": {
          "histogram": [
           {
            "bin_end": 48.599999999999994,
            "bin_start": 44.3,
            "count": 1
           },
           {
            "bin_end": 52.9,
            "bin_start": 48.599999999999994,
            "count": 0
           },
           {
            "bin_end": 57.199999999999996,
            "bin_start": 52.9,
            "count": 0
           },
           {
            "bin_end": 61.5,
            "bin_start": 57.199999999999996,
            "count": 1
           },
           {
            "bin_end": 65.8,
            "bin_start": 61.5,
            "count": 0
           },
           {
            "bin_end": 70.1,
            "bin_start": 65.8,
            "count": 0
           },
           {
            "bin_end": 74.39999999999999,
            "bin_start": 70.1,
            "count": 0
           },
           {
            "bin_end": 78.69999999999999,
            "bin_start": 74.39999999999999,
            "count": 1
           },
           {
            "bin_end": 83,
            "bin_start": 78.69999999999999,
            "count": 0
           },
           {
            "bin_end": 87.3,
            "bin_start": 83,
            "count": 1
           }
          ],
          "max": "87.3",
          "min": "44.3",
          "nan_count": 0,
          "unique_count": 4
         }
        },
        {
         "dtype": "float64",
         "name": "Tel Aviv District",
         "stats": {
          "histogram": [
           {
            "bin_end": 61.3,
            "bin_start": 58.4,
            "count": 2
           },
           {
            "bin_end": 64.2,
            "bin_start": 61.3,
            "count": 0
           },
           {
            "bin_end": 67.1,
            "bin_start": 64.2,
            "count": 0
           },
           {
            "bin_end": 70,
            "bin_start": 67.1,
            "count": 0
           },
           {
            "bin_end": 72.9,
            "bin_start": 70,
            "count": 1
           },
           {
            "bin_end": 75.80000000000001,
            "bin_start": 72.9,
            "count": 0
           },
           {
            "bin_end": 78.7,
            "bin_start": 75.80000000000001,
            "count": 0
           },
           {
            "bin_end": 81.60000000000001,
            "bin_start": 78.7,
            "count": 0
           },
           {
            "bin_end": 84.5,
            "bin_start": 81.60000000000001,
            "count": 0
           },
           {
            "bin_end": 87.4,
            "bin_start": 84.5,
            "count": 1
           }
          ],
          "max": "87.4",
          "min": "58.4",
          "nan_count": 0,
          "unique_count": 4
         }
        },
        {
         "dtype": "float64",
         "name": "Eilat",
         "stats": {
          "histogram": [
           {
            "bin_end": 62.19,
            "bin_start": 57.5,
            "count": 1
           },
           {
            "bin_end": 66.88,
            "bin_start": 62.19,
            "count": 0
           },
           {
            "bin_end": 71.57,
            "bin_start": 66.88,
            "count": 1
           },
           {
            "bin_end": 76.26,
            "bin_start": 71.57,
            "count": 1
           },
           {
            "bin_end": 80.95,
            "bin_start": 76.26,
            "count": 0
           },
           {
            "bin_end": 85.64,
            "bin_start": 80.95,
            "count": 0
           },
           {
            "bin_end": 90.33000000000001,
            "bin_start": 85.64,
            "count": 0
           },
           {
            "bin_end": 95.02000000000001,
            "bin_start": 90.33000000000001,
            "count": 0
           },
           {
            "bin_end": 99.71000000000001,
            "bin_start": 95.02000000000001,
            "count": 0
           },
           {
            "bin_end": 104.4,
            "bin_start": 99.71000000000001,
            "count": 1
           }
          ],
          "max": "104.4",
          "min": "57.5",
          "nan_count": 0,
          "unique_count": 4
         }
        },
        {
         "dtype": "float64",
         "name": "Haifa",
         "stats": {
          "histogram": [
           {
            "bin_end": 59.56,
            "bin_start": 55.4,
            "count": 1
           },
           {
            "bin_end": 63.72,
            "bin_start": 59.56,
            "count": 0
           },
           {
            "bin_end": 67.88,
            "bin_start": 63.72,
            "count": 0
           },
           {
            "bin_end": 72.03999999999999,
            "bin_start": 67.88,
            "count": 2
           },
           {
            "bin_end": 76.2,
            "bin_start": 72.03999999999999,
            "count": 0
           },
           {
            "bin_end": 80.36,
            "bin_start": 76.2,
            "count": 0
           },
           {
            "bin_end": 84.52,
            "bin_start": 80.36,
            "count": 0
           },
           {
            "bin_end": 88.68,
            "bin_start": 84.52,
            "count": 0
           },
           {
            "bin_end": 92.84,
            "bin_start": 88.68,
            "count": 0
           },
           {
            "bin_end": 97,
            "bin_start": 92.84,
            "count": 1
           }
          ],
          "max": "97.0",
          "min": "55.4",
          "nan_count": 0,
          "unique_count": 4
         }
        },
        {
         "dtype": "float64",
         "name": "Nahariyya",
         "stats": {
          "histogram": [
           {
            "bin_end": 57.76,
            "bin_start": 55.4,
            "count": 1
           },
           {
            "bin_end": 60.12,
            "bin_start": 57.76,
            "count": 0
           },
           {
            "bin_end": 62.48,
            "bin_start": 60.12,
            "count": 0
           },
           {
            "bin_end": 64.84,
            "bin_start": 62.48,
            "count": 0
           },
           {
            "bin_end": 67.2,
            "bin_start": 64.84,
            "count": 1
           },
           {
            "bin_end": 69.56,
            "bin_start": 67.2,
            "count": 0
           },
           {
            "bin_end": 71.92,
            "bin_start": 69.56,
            "count": 1
           },
           {
            "bin_end": 74.28,
            "bin_start": 71.92,
            "count": 0
           },
           {
            "bin_end": 76.64,
            "bin_start": 74.28,
            "count": 0
           },
           {
            "bin_end": 79,
            "bin_start": 76.64,
            "count": 1
           }
          ],
          "max": "79.0",
          "min": "55.4",
          "nan_count": 0,
          "unique_count": 4
         }
        },
        {
         "dtype": "float64",
         "name": "Jerusalem",
         "stats": {
          "histogram": [
           {
            "bin_end": 61.57,
            "bin_start": 58.7,
            "count": 1
           },
           {
            "bin_end": 64.44,
            "bin_start": 61.57,
            "count": 0
           },
           {
            "bin_end": 67.31,
            "bin_start": 64.44,
            "count": 1
           },
           {
            "bin_end": 70.18,
            "bin_start": 67.31,
            "count": 0
           },
           {
            "bin_end": 73.05000000000001,
            "bin_start": 70.18,
            "count": 1
           },
           {
            "bin_end": 75.92,
            "bin_start": 73.05000000000001,
            "count": 0
           },
           {
            "bin_end": 78.79,
            "bin_start": 75.92,
            "count": 0
           },
           {
            "bin_end": 81.66,
            "bin_start": 78.79,
            "count": 0
           },
           {
            "bin_end": 84.53,
            "bin_start": 81.66,
            "count": 0
           },
           {
            "bin_end": 87.4,
            "bin_start": 84.53,
            "count": 1
           }
          ],
          "max": "87.4",
          "min": "58.7",
          "nan_count": 0,
          "unique_count": 4
         }
        },
        {
         "dtype": "int64",
         "name": "_deepnote_index_column"
        }
       ],
       "row_count": 4,
       "rows": [
        {
         "Albuquerque": 34.1,
         "Atlanta": 59.9,
         "Beersheba": 44.3,
         "Boston": 36.4,
         "Charlotte": 60.3,
         "Chicago": 36.4,
         "Dallas": 51.7,
         "Denver": 34.8,
         "Detroit": 38.1,
         "Eilat": 57.5,
         "Haifa": 55.4,
         "Houston": 68.3,
         "Indianapolis": 38.1,
         "Jacksonville": 64.9,
         "Jerusalem": 58.7,
         "Kansas City": 36.5,
         "Las Vegas": 45.6,
         "Los Angeles": 55.3,
         "Miami": 78.8,
         "Minneapolis": 30.9,
         "Montreal": 32,
         "Nahariyya": 55.4,
         "Nashville": 45.5,
         "New York": 43.6,
         "Philadelphia": 46.8,
         "Phoenix": 60.8,
         "Pittsburgh": 36,
         "Portland": 31.7,
         "Saint Louis": 40.5,
         "San Antonio": 63.9,
         "San Diego": 60.9,
         "San Francisco": 52.9,
         "Seattle": 34.9,
         "Tel Aviv District": 58.4,
         "Toronto": 34.9,
         "Vancouver": 38.7,
         "_deepnote_index_column": 37037,
         "datetime": "2016-12-22 18:00:00"
        },
        {
         "Albuquerque": 60.3,
         "Atlanta": 71.9,
         "Beersheba": 58.2,
         "Boston": 66.9,
         "Charlotte": 72.5,
         "Chicago": 65.1,
         "Dallas": 65.2,
         "Denver": 48,
         "Detroit": 71.3,
         "Eilat": 71.4,
         "Haifa": 69.9,
         "Houston": 73,
         "Indianapolis": 69.2,
         "Jacksonville": 77.6,
         "Jerusalem": 65.1,
         "Kansas City": 72,
         "Las Vegas": 75.3,
         "Los Angeles": 65.7,
         "Miami": 81.7,
         "Minneapolis": 65.5,
         "Montreal": 62.5,
         "Nahariyya": 69.9,
         "Nashville": 70.5,
         "New York": 73.2,
         "Philadelphia": 75,
         "Phoenix": 78.4,
         "Pittsburgh": 71.8,
         "Portland": 60.6,
         "Saint Louis": 73.7,
         "San Antonio": 72.1,
         "San Diego": 64,
         "San Francisco": 56.2,
         "Seattle": 60.3,
         "Tel Aviv District": 59.7,
         "Toronto": 66.1,
         "Vancouver": 61.6,
         "_deepnote_index_column": 23197,
         "datetime": "2015-05-26 02:00:00"
        },
        {
         "Albuquerque": 79.6,
         "Atlanta": 89.5,
         "Beersheba": 87.3,
         "Boston": 66.5,
         "Charlotte": 87.9,
         "Chicago": 83.6,
         "Dallas": 87.1,
         "Denver": 78.2,
         "Detroit": 80.2,
         "Eilat": 104.4,
         "Haifa": 97,
         "Houston": 91,
         "Indianapolis": 77.5,
         "Jacksonville": 92.6,
         "Jerusalem": 87.4,
         "Kansas City": 82.1,
         "Las Vegas": 90.6,
         "Los Angeles": 70.9,
         "Miami": 89.5,
         "Minneapolis": 69.1,
         "Montreal": 69.4,
         "Nahariyya": 79,
         "Nashville": 88.4,
         "New York": 83.8,
         "Philadelphia": 87.7,
         "Phoenix": 95.2,
         "Pittsburgh": 78.6,
         "Portland": 62,
         "Saint Louis": 84.2,
         "San Antonio": 89.1,
         "San Diego": 70.5,
         "San Francisco": 59.3,
         "Seattle": 59.9,
         "Tel Aviv District": 87.4,
         "Toronto": 76.3,
         "Vancouver": 59.9,
         "_deepnote_index_column": 33027,
         "datetime": "2016-07-08 16:00:00"
        },
        {
         "Albuquerque": 51.3,
         "Atlanta": 67.2,
         "Beersheba": 75,
         "Boston": 50.8,
         "Charlotte": 61.3,
         "Chicago": 44,
         "Dallas": 53.9,
         "Denver": 49.2,
         "Detroit": 54.8,
         "Eilat": 74.1,
         "Haifa": 70.7,
         "Houston": 69.4,
         "Indianapolis": 58.1,
         "Jacksonville": 69.3,
         "Jerusalem": 70.6,
         "Kansas City": 65.8,
         "Las Vegas": 74.1,
         "Los Angeles": 79.2,
         "Miami": 80.4,
         "Minneapolis": 65.1,
         "Montreal": 58.7,
         "Nahariyya": 66.9,
         "Nashville": 63.8,
         "New York": 63.6,
         "Philadelphia": 63.6,
         "Phoenix": 78.5,
         "Pittsburgh": 58,
         "Portland": 55.1,
         "Saint Louis": 61.5,
         "San Antonio": 70.7,
         "San Diego": 82.3,
         "San Francisco": 57,
         "Seattle": 56.8,
         "Tel Aviv District": 70.7,
         "Toronto": 54.9,
         "Vancouver": 50.6,
         "_deepnote_index_column": 22542,
         "datetime": "2015-04-28 19:00:00"
        }
       ]
      },
      "text/html": [
       "<div>\n",
       "<style scoped>\n",
       "    .dataframe tbody tr th:only-of-type {\n",
       "        vertical-align: middle;\n",
       "    }\n",
       "\n",
       "    .dataframe tbody tr th {\n",
       "        vertical-align: top;\n",
       "    }\n",
       "\n",
       "    .dataframe thead th {\n",
       "        text-align: right;\n",
       "    }\n",
       "</style>\n",
       "<table border=\"1\" class=\"dataframe\">\n",
       "  <thead>\n",
       "    <tr style=\"text-align: right;\">\n",
       "      <th></th>\n",
       "      <th>datetime</th>\n",
       "      <th>Vancouver</th>\n",
       "      <th>Portland</th>\n",
       "      <th>San Francisco</th>\n",
       "      <th>Seattle</th>\n",
       "      <th>Los Angeles</th>\n",
       "      <th>San Diego</th>\n",
       "      <th>Las Vegas</th>\n",
       "      <th>Phoenix</th>\n",
       "      <th>Albuquerque</th>\n",
       "      <th>...</th>\n",
       "      <th>Philadelphia</th>\n",
       "      <th>New York</th>\n",
       "      <th>Montreal</th>\n",
       "      <th>Boston</th>\n",
       "      <th>Beersheba</th>\n",
       "      <th>Tel Aviv District</th>\n",
       "      <th>Eilat</th>\n",
       "      <th>Haifa</th>\n",
       "      <th>Nahariyya</th>\n",
       "      <th>Jerusalem</th>\n",
       "    </tr>\n",
       "  </thead>\n",
       "  <tbody>\n",
       "    <tr>\n",
       "      <th>37037</th>\n",
       "      <td>2016-12-22 18:00:00</td>\n",
       "      <td>38.7</td>\n",
       "      <td>31.7</td>\n",
       "      <td>52.9</td>\n",
       "      <td>34.9</td>\n",
       "      <td>55.3</td>\n",
       "      <td>60.9</td>\n",
       "      <td>45.6</td>\n",
       "      <td>60.8</td>\n",
       "      <td>34.1</td>\n",
       "      <td>...</td>\n",
       "      <td>46.8</td>\n",
       "      <td>43.6</td>\n",
       "      <td>32.0</td>\n",
       "      <td>36.4</td>\n",
       "      <td>44.3</td>\n",
       "      <td>58.4</td>\n",
       "      <td>57.5</td>\n",
       "      <td>55.4</td>\n",
       "      <td>55.4</td>\n",
       "      <td>58.7</td>\n",
       "    </tr>\n",
       "    <tr>\n",
       "      <th>23197</th>\n",
       "      <td>2015-05-26 02:00:00</td>\n",
       "      <td>61.6</td>\n",
       "      <td>60.6</td>\n",
       "      <td>56.2</td>\n",
       "      <td>60.3</td>\n",
       "      <td>65.7</td>\n",
       "      <td>64.0</td>\n",
       "      <td>75.3</td>\n",
       "      <td>78.4</td>\n",
       "      <td>60.3</td>\n",
       "      <td>...</td>\n",
       "      <td>75.0</td>\n",
       "      <td>73.2</td>\n",
       "      <td>62.5</td>\n",
       "      <td>66.9</td>\n",
       "      <td>58.2</td>\n",
       "      <td>59.7</td>\n",
       "      <td>71.4</td>\n",
       "      <td>69.9</td>\n",
       "      <td>69.9</td>\n",
       "      <td>65.1</td>\n",
       "    </tr>\n",
       "    <tr>\n",
       "      <th>33027</th>\n",
       "      <td>2016-07-08 16:00:00</td>\n",
       "      <td>59.9</td>\n",
       "      <td>62.0</td>\n",
       "      <td>59.3</td>\n",
       "      <td>59.9</td>\n",
       "      <td>70.9</td>\n",
       "      <td>70.5</td>\n",
       "      <td>90.6</td>\n",
       "      <td>95.2</td>\n",
       "      <td>79.6</td>\n",
       "      <td>...</td>\n",
       "      <td>87.7</td>\n",
       "      <td>83.8</td>\n",
       "      <td>69.4</td>\n",
       "      <td>66.5</td>\n",
       "      <td>87.3</td>\n",
       "      <td>87.4</td>\n",
       "      <td>104.4</td>\n",
       "      <td>97.0</td>\n",
       "      <td>79.0</td>\n",
       "      <td>87.4</td>\n",
       "    </tr>\n",
       "    <tr>\n",
       "      <th>22542</th>\n",
       "      <td>2015-04-28 19:00:00</td>\n",
       "      <td>50.6</td>\n",
       "      <td>55.1</td>\n",
       "      <td>57.0</td>\n",
       "      <td>56.8</td>\n",
       "      <td>79.2</td>\n",
       "      <td>82.3</td>\n",
       "      <td>74.1</td>\n",
       "      <td>78.5</td>\n",
       "      <td>51.3</td>\n",
       "      <td>...</td>\n",
       "      <td>63.6</td>\n",
       "      <td>63.6</td>\n",
       "      <td>58.7</td>\n",
       "      <td>50.8</td>\n",
       "      <td>75.0</td>\n",
       "      <td>70.7</td>\n",
       "      <td>74.1</td>\n",
       "      <td>70.7</td>\n",
       "      <td>66.9</td>\n",
       "      <td>70.6</td>\n",
       "    </tr>\n",
       "  </tbody>\n",
       "</table>\n",
       "<p>4 rows × 37 columns</p>\n",
       "</div>"
      ],
      "text/plain": [
       "                 datetime  Vancouver  Portland  San Francisco  Seattle  \\\n",
       "37037 2016-12-22 18:00:00       38.7      31.7           52.9     34.9   \n",
       "23197 2015-05-26 02:00:00       61.6      60.6           56.2     60.3   \n",
       "33027 2016-07-08 16:00:00       59.9      62.0           59.3     59.9   \n",
       "22542 2015-04-28 19:00:00       50.6      55.1           57.0     56.8   \n",
       "\n",
       "       Los Angeles  San Diego  Las Vegas  Phoenix  Albuquerque  ...  \\\n",
       "37037         55.3       60.9       45.6     60.8         34.1  ...   \n",
       "23197         65.7       64.0       75.3     78.4         60.3  ...   \n",
       "33027         70.9       70.5       90.6     95.2         79.6  ...   \n",
       "22542         79.2       82.3       74.1     78.5         51.3  ...   \n",
       "\n",
       "       Philadelphia  New York  Montreal  Boston  Beersheba  Tel Aviv District  \\\n",
       "37037          46.8      43.6      32.0    36.4       44.3               58.4   \n",
       "23197          75.0      73.2      62.5    66.9       58.2               59.7   \n",
       "33027          87.7      83.8      69.4    66.5       87.3               87.4   \n",
       "22542          63.6      63.6      58.7    50.8       75.0               70.7   \n",
       "\n",
       "       Eilat  Haifa  Nahariyya  Jerusalem  \n",
       "37037   57.5   55.4       55.4       58.7  \n",
       "23197   71.4   69.9       69.9       65.1  \n",
       "33027  104.4   97.0       79.0       87.4  \n",
       "22542   74.1   70.7       66.9       70.6  \n",
       "\n",
       "[4 rows x 37 columns]"
      ]
     },
     "execution_count": 2,
     "metadata": {},
     "output_type": "execute_result"
    }
   ],
   "source": [
    "df_pre = pd.read_csv(\"temperature_f.csv\", parse_dates=[\"datetime\"])\n",
    "df_pre.sample(4, random_state=0)"
   ]
  },
  {
   "cell_type": "markdown",
   "metadata": {
    "cell_id": "c1ccc84563b44d1c82783a0f2754a589",
    "deepnote_cell_type": "markdown"
   },
   "source": [
    "Originally the city names appear as column headers.  For both Altair and scikit-learn, we want a column containing all these city names."
   ]
  },
  {
   "cell_type": "code",
   "execution_count": 3,
   "metadata": {
    "cell_id": "2691cd81750e45e0b430ef697413b3f1",
    "deepnote_cell_type": "code",
    "deepnote_to_be_reexecuted": false,
    "execution_millis": 17,
    "execution_start": 1685563338759,
    "source_hash": "87e8eac1"
   },
   "outputs": [],
   "source": [
    "df_melted = df_pre.melt(\n",
    "        id_vars=\"datetime\",\n",
    "        var_name=\"city\", \n",
    "        value_name=\"temperature\"\n",
    "    )"
   ]
  },
  {
   "cell_type": "markdown",
   "metadata": {},
   "source": [
    "By using the method `melt`, we have gotten a much longer version of the DataFrame, that now has just three columns.  The \"city\" column contains the old column headers (repeated many times each city), and the \"temperature\" column contains the old cell contents."
   ]
  },
  {
   "cell_type": "code",
   "execution_count": 4,
   "metadata": {
    "cell_id": "465fa74ded784f5ab187f64797838f6c",
    "deepnote_cell_type": "code",
    "deepnote_to_be_reexecuted": false,
    "execution_millis": 59,
    "execution_start": 1685563340383,
    "output_cleared": false,
    "source_hash": "a3cf8d03"
   },
   "outputs": [
    {
     "data": {
      "application/vnd.deepnote.dataframe.v3+json": {
       "column_count": 3,
       "columns": [
        {
         "dtype": "datetime64[ns]",
         "name": "datetime",
         "stats": {
          "histogram": [
           {
            "bin_end": 1373563080000000000,
            "bin_start": 1363370400000000000,
            "count": 1
           },
           {
            "bin_end": 1383755760000000000,
            "bin_start": 1373563080000000000,
            "count": 0
           },
           {
            "bin_end": 1393948440000000000,
            "bin_start": 1383755760000000000,
            "count": 0
           },
           {
            "bin_end": 1404141120000000000,
            "bin_start": 1393948440000000000,
            "count": 0
           },
           {
            "bin_end": 1414333800000000000,
            "bin_start": 1404141120000000000,
            "count": 0
           },
           {
            "bin_end": 1424526480000000000,
            "bin_start": 1414333800000000000,
            "count": 0
           },
           {
            "bin_end": 1434719160000000000,
            "bin_start": 1424526480000000000,
            "count": 0
           },
           {
            "bin_end": 1444911840000000000,
            "bin_start": 1434719160000000000,
            "count": 0
           },
           {
            "bin_end": 1455104520000000000,
            "bin_start": 1444911840000000000,
            "count": 0
           },
           {
            "bin_end": 1465297200000000000,
            "bin_start": 1455104520000000000,
            "count": 3
           }
          ],
          "max": "2016-06-07 11:00:00",
          "min": "2013-03-15 18:00:00",
          "nan_count": 0,
          "unique_count": 4
         }
        },
        {
         "dtype": "object",
         "name": "city",
         "stats": {
          "categories": [
           {
            "count": 1,
            "name": "Eilat"
           },
           {
            "count": 1,
            "name": "Montreal"
           },
           {
            "count": 2,
            "name": "2 others"
           }
          ],
          "nan_count": 0,
          "unique_count": 4
         }
        },
        {
         "dtype": "float64",
         "name": "temperature",
         "stats": {
          "histogram": [
           {
            "bin_end": 52.1,
            "bin_start": 48.5,
            "count": 1
           },
           {
            "bin_end": 55.7,
            "bin_start": 52.1,
            "count": 0
           },
           {
            "bin_end": 59.3,
            "bin_start": 55.7,
            "count": 0
           },
           {
            "bin_end": 62.9,
            "bin_start": 59.3,
            "count": 1
           },
           {
            "bin_end": 66.5,
            "bin_start": 62.9,
            "count": 0
           },
           {
            "bin_end": 70.1,
            "bin_start": 66.5,
            "count": 0
           },
           {
            "bin_end": 73.7,
            "bin_start": 70.1,
            "count": 0
           },
           {
            "bin_end": 77.3,
            "bin_start": 73.7,
            "count": 0
           },
           {
            "bin_end": 80.9,
            "bin_start": 77.3,
            "count": 1
           },
           {
            "bin_end": 84.5,
            "bin_start": 80.9,
            "count": 1
           }
          ],
          "max": "84.5",
          "min": "48.5",
          "nan_count": 0,
          "unique_count": 4
         }
        },
        {
         "dtype": "int64",
         "name": "_deepnote_index_column"
        }
       ],
       "row_count": 4,
       "rows": [
        {
         "_deepnote_index_column": 1478577,
         "city": "Eilat",
         "datetime": "2016-03-25 22:00:00",
         "temperature": 78
        },
        {
         "_deepnote_index_column": 1299334,
         "city": "Montreal",
         "datetime": "2016-06-07 11:00:00",
         "temperature": 61.1
        },
        {
         "_deepnote_index_column": 1072194,
         "city": "Miami",
         "datetime": "2016-05-01 19:00:00",
         "temperature": 84.5
        },
        {
         "_deepnote_index_column": 863753,
         "city": "Atlanta",
         "datetime": "2013-03-15 18:00:00",
         "temperature": 48.5
        }
       ]
      },
      "text/html": [
       "<div>\n",
       "<style scoped>\n",
       "    .dataframe tbody tr th:only-of-type {\n",
       "        vertical-align: middle;\n",
       "    }\n",
       "\n",
       "    .dataframe tbody tr th {\n",
       "        vertical-align: top;\n",
       "    }\n",
       "\n",
       "    .dataframe thead th {\n",
       "        text-align: right;\n",
       "    }\n",
       "</style>\n",
       "<table border=\"1\" class=\"dataframe\">\n",
       "  <thead>\n",
       "    <tr style=\"text-align: right;\">\n",
       "      <th></th>\n",
       "      <th>datetime</th>\n",
       "      <th>city</th>\n",
       "      <th>temperature</th>\n",
       "    </tr>\n",
       "  </thead>\n",
       "  <tbody>\n",
       "    <tr>\n",
       "      <th>1478577</th>\n",
       "      <td>2016-03-25 22:00:00</td>\n",
       "      <td>Eilat</td>\n",
       "      <td>78.0</td>\n",
       "    </tr>\n",
       "    <tr>\n",
       "      <th>1299334</th>\n",
       "      <td>2016-06-07 11:00:00</td>\n",
       "      <td>Montreal</td>\n",
       "      <td>61.1</td>\n",
       "    </tr>\n",
       "    <tr>\n",
       "      <th>1072194</th>\n",
       "      <td>2016-05-01 19:00:00</td>\n",
       "      <td>Miami</td>\n",
       "      <td>84.5</td>\n",
       "    </tr>\n",
       "    <tr>\n",
       "      <th>863753</th>\n",
       "      <td>2013-03-15 18:00:00</td>\n",
       "      <td>Atlanta</td>\n",
       "      <td>48.5</td>\n",
       "    </tr>\n",
       "  </tbody>\n",
       "</table>\n",
       "</div>"
      ],
      "text/plain": [
       "                   datetime      city  temperature\n",
       "1478577 2016-03-25 22:00:00     Eilat         78.0\n",
       "1299334 2016-06-07 11:00:00  Montreal         61.1\n",
       "1072194 2016-05-01 19:00:00     Miami         84.5\n",
       "863753  2013-03-15 18:00:00   Atlanta         48.5"
      ]
     },
     "execution_count": 4,
     "metadata": {},
     "output_type": "execute_result"
    }
   ],
   "source": [
    "df_melted.sample(4, random_state=0)"
   ]
  },
  {
   "cell_type": "markdown",
   "metadata": {
    "cell_id": "66ac87d42af84ad884e884b30973494e",
    "deepnote_cell_type": "markdown"
   },
   "source": [
    "The resulting DataFrame is much longer.\n",
    "\n",
    "Here we check using an f-string.  We use triple quotation marks so that we are allowed to include a line break in the string."
   ]
  },
  {
   "cell_type": "code",
   "execution_count": 5,
   "metadata": {
    "cell_id": "c907a0c820d249b780def3f07d354f91",
    "deepnote_cell_type": "code",
    "deepnote_to_be_reexecuted": false,
    "execution_millis": 2,
    "execution_start": 1685563371348,
    "source_hash": "1681a377"
   },
   "outputs": [
    {
     "name": "stdout",
     "output_type": "stream",
     "text": [
      "The original DataFrame had shape (45252, 37). \n",
      "The new DataFrame has shape (1629072, 3).\n"
     ]
    }
   ],
   "source": [
    "print(f\"\"\"The original DataFrame had shape {df_pre.shape}. \n",
    "The new DataFrame has shape {df_melted.shape}.\"\"\")"
   ]
  },
  {
   "cell_type": "markdown",
   "metadata": {
    "cell_id": "9b6d2ac60f004ea481f7704ef43176e6",
    "deepnote_cell_type": "markdown"
   },
   "source": [
    "Here is what we did on Friday, although I'm naming the final DataFrame `df3` instead of `df`, because I want to make more changes before calling the result `df`.\n",
    "\n",
    "* Keep only the rows corresponding to the cities in the following `cities` list.\n",
    "* Drop the rows with missing values.\n",
    "* Sort the DataFrame by date.\n",
    "* Name the resulting DataFrame `df3`."
   ]
  },
  {
   "cell_type": "code",
   "execution_count": 6,
   "metadata": {
    "cell_id": "9ffc5a1be09946ad9b7793e7bd7e17da",
    "deepnote_cell_type": "code",
    "deepnote_to_be_reexecuted": false,
    "execution_millis": 2,
    "execution_start": 1685563446948,
    "source_hash": "f3c46418"
   },
   "outputs": [],
   "source": [
    "cities = [\"San Diego\", \"San Francisco\", \"Detroit\"]"
   ]
  },
  {
   "cell_type": "markdown",
   "metadata": {},
   "source": [
    "We keep only the rows corresponding to those three cities using Boolean indexing and the `isin` method.  We then drop the rows with missing values.  We then sort the values by date.  (Probably the sorting would not be correct if the dates were strings instead of datetime objects.)"
   ]
  },
  {
   "cell_type": "code",
   "execution_count": 7,
   "metadata": {
    "cell_id": "b05843a4416442838f83779111029963",
    "deepnote_cell_type": "code",
    "deepnote_to_be_reexecuted": false,
    "execution_millis": 37,
    "execution_start": 1685563450402,
    "source_hash": "3dd54e8f"
   },
   "outputs": [],
   "source": [
    "df1 = df_melted[df_melted[\"city\"].isin(cities)]\n",
    "df2 = df1.dropna(axis=0)\n",
    "df3 = df2.sort_values(\"datetime\")"
   ]
  },
  {
   "cell_type": "markdown",
   "metadata": {},
   "source": [
    "Here is how the resulting DataFrame `df3` looks.  Notice how the first three rows are all from the same row and at 1pm.  Then in the last row it moves to 2pm.  (It does seem like the DataFrame is sorted by date, and we are only seeing the three listed cities, unlike earlier when we saw many different cities.)"
   ]
  },
  {
   "cell_type": "code",
   "execution_count": 8,
   "metadata": {
    "cell_id": "515f082a82a8403a8294fbe401402089",
    "deepnote_cell_type": "code",
    "deepnote_to_be_reexecuted": false,
    "execution_millis": 60,
    "execution_start": 1685563475210,
    "output_cleared": false,
    "source_hash": "e840ac5f"
   },
   "outputs": [
    {
     "data": {
      "application/vnd.deepnote.dataframe.v3+json": {
       "column_count": 3,
       "columns": [
        {
         "dtype": "datetime64[ns]",
         "name": "datetime",
         "stats": {
          "histogram": [
           {
            "bin_end": 1349096760000000000,
            "bin_start": 1349096400000000000,
            "count": 3
           },
           {
            "bin_end": 1349097120000000000,
            "bin_start": 1349096760000000000,
            "count": 0
           },
           {
            "bin_end": 1349097480000000000,
            "bin_start": 1349097120000000000,
            "count": 0
           },
           {
            "bin_end": 1349097840000000000,
            "bin_start": 1349097480000000000,
            "count": 0
           },
           {
            "bin_end": 1349098200000000000,
            "bin_start": 1349097840000000000,
            "count": 0
           },
           {
            "bin_end": 1349098560000000000,
            "bin_start": 1349098200000000000,
            "count": 0
           },
           {
            "bin_end": 1349098920000000000,
            "bin_start": 1349098560000000000,
            "count": 0
           },
           {
            "bin_end": 1349099280000000000,
            "bin_start": 1349098920000000000,
            "count": 0
           },
           {
            "bin_end": 1349099640000000000,
            "bin_start": 1349099280000000000,
            "count": 0
           },
           {
            "bin_end": 1349100000000000000,
            "bin_start": 1349099640000000000,
            "count": 1
           }
          ],
          "max": "2012-10-01 14:00:00",
          "min": "2012-10-01 13:00:00",
          "nan_count": 0,
          "unique_count": 2
         }
        },
        {
         "dtype": "object",
         "name": "city",
         "stats": {
          "categories": [
           {
            "count": 2,
            "name": "Detroit"
           },
           {
            "count": 1,
            "name": "San Francisco"
           },
           {
            "count": 1,
            "name": "San Diego"
           }
          ],
          "nan_count": 0,
          "unique_count": 3
         }
        },
        {
         "dtype": "float64",
         "name": "temperature",
         "stats": {
          "histogram": [
           {
            "bin_end": 52.95,
            "bin_start": 51.6,
            "count": 2
           },
           {
            "bin_end": 54.3,
            "bin_start": 52.95,
            "count": 0
           },
           {
            "bin_end": 55.65,
            "bin_start": 54.3,
            "count": 0
           },
           {
            "bin_end": 57,
            "bin_start": 55.65,
            "count": 0
           },
           {
            "bin_end": 58.349999999999994,
            "bin_start": 57,
            "count": 0
           },
           {
            "bin_end": 59.699999999999996,
            "bin_start": 58.349999999999994,
            "count": 0
           },
           {
            "bin_end": 61.05,
            "bin_start": 59.699999999999996,
            "count": 0
           },
           {
            "bin_end": 62.39999999999999,
            "bin_start": 61.05,
            "count": 1
           },
           {
            "bin_end": 63.74999999999999,
            "bin_start": 62.39999999999999,
            "count": 0
           },
           {
            "bin_end": 65.1,
            "bin_start": 63.74999999999999,
            "count": 1
           }
          ],
          "max": "65.1",
          "min": "51.6",
          "nan_count": 0,
          "unique_count": 4
         }
        },
        {
         "dtype": "int64",
         "name": "_deepnote_index_column"
        }
       ],
       "row_count": 4,
       "rows": [
        {
         "_deepnote_index_column": 90504,
         "city": "San Francisco",
         "datetime": "2012-10-01 13:00:00",
         "temperature": 61.4
        },
        {
         "_deepnote_index_column": 226260,
         "city": "San Diego",
         "datetime": "2012-10-01 13:00:00",
         "temperature": 65.1
        },
        {
         "_deepnote_index_column": 905040,
         "city": "Detroit",
         "datetime": "2012-10-01 13:00:00",
         "temperature": 51.6
        },
        {
         "_deepnote_index_column": 905041,
         "city": "Detroit",
         "datetime": "2012-10-01 14:00:00",
         "temperature": 51.7
        }
       ]
      },
      "text/html": [
       "<div>\n",
       "<style scoped>\n",
       "    .dataframe tbody tr th:only-of-type {\n",
       "        vertical-align: middle;\n",
       "    }\n",
       "\n",
       "    .dataframe tbody tr th {\n",
       "        vertical-align: top;\n",
       "    }\n",
       "\n",
       "    .dataframe thead th {\n",
       "        text-align: right;\n",
       "    }\n",
       "</style>\n",
       "<table border=\"1\" class=\"dataframe\">\n",
       "  <thead>\n",
       "    <tr style=\"text-align: right;\">\n",
       "      <th></th>\n",
       "      <th>datetime</th>\n",
       "      <th>city</th>\n",
       "      <th>temperature</th>\n",
       "    </tr>\n",
       "  </thead>\n",
       "  <tbody>\n",
       "    <tr>\n",
       "      <th>90504</th>\n",
       "      <td>2012-10-01 13:00:00</td>\n",
       "      <td>San Francisco</td>\n",
       "      <td>61.4</td>\n",
       "    </tr>\n",
       "    <tr>\n",
       "      <th>226260</th>\n",
       "      <td>2012-10-01 13:00:00</td>\n",
       "      <td>San Diego</td>\n",
       "      <td>65.1</td>\n",
       "    </tr>\n",
       "    <tr>\n",
       "      <th>905040</th>\n",
       "      <td>2012-10-01 13:00:00</td>\n",
       "      <td>Detroit</td>\n",
       "      <td>51.6</td>\n",
       "    </tr>\n",
       "    <tr>\n",
       "      <th>905041</th>\n",
       "      <td>2012-10-01 14:00:00</td>\n",
       "      <td>Detroit</td>\n",
       "      <td>51.7</td>\n",
       "    </tr>\n",
       "  </tbody>\n",
       "</table>\n",
       "</div>"
      ],
      "text/plain": [
       "                  datetime           city  temperature\n",
       "90504  2012-10-01 13:00:00  San Francisco         61.4\n",
       "226260 2012-10-01 13:00:00      San Diego         65.1\n",
       "905040 2012-10-01 13:00:00        Detroit         51.6\n",
       "905041 2012-10-01 14:00:00        Detroit         51.7"
      ]
     },
     "execution_count": 8,
     "metadata": {},
     "output_type": "execute_result"
    }
   ],
   "source": [
    "df3.head(4)"
   ]
  },
  {
   "cell_type": "markdown",
   "metadata": {
    "cell_id": "c881e55de3a54ba9a51c83d7ce96cf16",
    "deepnote_cell_type": "markdown"
   },
   "source": [
    "## Plotting the data\n",
    "\n",
    "Now that we have \"melted\" the DataFrame, it is easy to plot using Altair.\n",
    "\n",
    "Our goal is to predict these values using scikit-learn.  This will be our first time using a decision tree for regression (as opposed to classification)."
   ]
  },
  {
   "cell_type": "code",
   "execution_count": 44,
   "metadata": {
    "cell_id": "e99df4d87a614185ad746e2679c67951",
    "deepnote_cell_type": "code",
    "deepnote_to_be_reexecuted": false,
    "execution_millis": 15,
    "execution_start": 1685565815793,
    "output_cleared": false,
    "source_hash": "c9bb3a82"
   },
   "outputs": [
    {
     "data": {
      "text/html": [
       "\n",
       "<div id=\"altair-viz-7b48ac7827144bfca46d9970fbdbb308\"></div>\n",
       "<script type=\"text/javascript\">\n",
       "  var VEGA_DEBUG = (typeof VEGA_DEBUG == \"undefined\") ? {} : VEGA_DEBUG;\n",
       "  (function(spec, embedOpt){\n",
       "    let outputDiv = document.currentScript.previousElementSibling;\n",
       "    if (outputDiv.id !== \"altair-viz-7b48ac7827144bfca46d9970fbdbb308\") {\n",
       "      outputDiv = document.getElementById(\"altair-viz-7b48ac7827144bfca46d9970fbdbb308\");\n",
       "    }\n",
       "    const paths = {\n",
       "      \"vega\": \"https://cdn.jsdelivr.net/npm//vega@5?noext\",\n",
       "      \"vega-lib\": \"https://cdn.jsdelivr.net/npm//vega-lib?noext\",\n",
       "      \"vega-lite\": \"https://cdn.jsdelivr.net/npm//vega-lite@4.17.0?noext\",\n",
       "      \"vega-embed\": \"https://cdn.jsdelivr.net/npm//vega-embed@6?noext\",\n",
       "    };\n",
       "\n",
       "    function maybeLoadScript(lib, version) {\n",
       "      var key = `${lib.replace(\"-\", \"\")}_version`;\n",
       "      return (VEGA_DEBUG[key] == version) ?\n",
       "        Promise.resolve(paths[lib]) :\n",
       "        new Promise(function(resolve, reject) {\n",
       "          var s = document.createElement('script');\n",
       "          document.getElementsByTagName(\"head\")[0].appendChild(s);\n",
       "          s.async = true;\n",
       "          s.onload = () => {\n",
       "            VEGA_DEBUG[key] = version;\n",
       "            return resolve(paths[lib]);\n",
       "          };\n",
       "          s.onerror = () => reject(`Error loading script: ${paths[lib]}`);\n",
       "          s.src = paths[lib];\n",
       "        });\n",
       "    }\n",
       "\n",
       "    function showError(err) {\n",
       "      outputDiv.innerHTML = `<div class=\"error\" style=\"color:red;\">${err}</div>`;\n",
       "      throw err;\n",
       "    }\n",
       "\n",
       "    function displayChart(vegaEmbed) {\n",
       "      vegaEmbed(outputDiv, spec, embedOpt)\n",
       "        .catch(err => showError(`Javascript Error: ${err.message}<br>This usually means there's a typo in your chart specification. See the javascript console for the full traceback.`));\n",
       "    }\n",
       "\n",
       "    if(typeof define === \"function\" && define.amd) {\n",
       "      requirejs.config({paths});\n",
       "      require([\"vega-embed\"], displayChart, err => showError(`Error loading script: ${err.message}`));\n",
       "    } else {\n",
       "      maybeLoadScript(\"vega\", \"5\")\n",
       "        .then(() => maybeLoadScript(\"vega-lite\", \"4.17.0\"))\n",
       "        .then(() => maybeLoadScript(\"vega-embed\", \"6\"))\n",
       "        .catch(showError)\n",
       "        .then(() => displayChart(vegaEmbed));\n",
       "    }\n",
       "  })({\"config\": {\"view\": {\"continuousWidth\": 400, \"continuousHeight\": 300}}, \"data\": {\"name\": \"data-98c1eb3b7d11bf93af34bff84a4fc7fe\"}, \"mark\": \"line\", \"encoding\": {\"color\": {\"field\": \"city\", \"type\": \"nominal\"}, \"tooltip\": [{\"field\": \"city\", \"type\": \"nominal\"}, {\"field\": \"temperature\", \"type\": \"quantitative\"}, {\"field\": \"datetime\", \"type\": \"temporal\"}], \"x\": {\"field\": \"datetime\", \"type\": \"temporal\"}, \"y\": {\"field\": \"temperature\", \"type\": \"quantitative\"}}, \"width\": 600, \"$schema\": \"https://vega.github.io/schema/vega-lite/v4.17.0.json\", \"datasets\": {\"data-98c1eb3b7d11bf93af34bff84a4fc7fe\": [{\"datetime\": \"2012-12-29T10:00:00\", \"city\": \"Detroit\", \"temperature\": 16.5}, {\"datetime\": \"2012-12-29T10:00:00\", \"city\": \"San Diego\", \"temperature\": 43.8}, {\"datetime\": \"2012-12-29T11:00:00\", \"city\": \"San Diego\", \"temperature\": 43.0}, {\"datetime\": \"2012-12-29T11:00:00\", \"city\": \"Detroit\", \"temperature\": 19.7}, {\"datetime\": \"2012-12-29T11:00:00\", \"city\": \"San Francisco\", \"temperature\": 39.9}, {\"datetime\": \"2012-12-29T12:00:00\", \"city\": \"San Diego\", \"temperature\": 41.2}, {\"datetime\": \"2012-12-29T12:00:00\", \"city\": \"Detroit\", \"temperature\": 18.5}, {\"datetime\": \"2012-12-29T12:00:00\", \"city\": \"San Francisco\", \"temperature\": 38.0}, {\"datetime\": \"2012-12-29T13:00:00\", \"city\": \"San Francisco\", \"temperature\": 38.8}, {\"datetime\": \"2012-12-29T13:00:00\", \"city\": \"San Diego\", \"temperature\": 41.7}, {\"datetime\": \"2012-12-29T13:00:00\", \"city\": \"Detroit\", \"temperature\": 17.4}, {\"datetime\": \"2012-12-29T14:00:00\", \"city\": \"San Francisco\", \"temperature\": 37.4}, {\"datetime\": \"2012-12-29T14:00:00\", \"city\": \"Detroit\", \"temperature\": 19.0}, {\"datetime\": \"2012-12-29T14:00:00\", \"city\": \"San Diego\", \"temperature\": 40.6}, {\"datetime\": \"2012-12-29T15:00:00\", \"city\": \"San Diego\", \"temperature\": 41.6}, {\"datetime\": \"2012-12-29T15:00:00\", \"city\": \"Detroit\", \"temperature\": 21.6}, {\"datetime\": \"2012-12-29T15:00:00\", \"city\": \"San Francisco\", \"temperature\": 37.6}, {\"datetime\": \"2012-12-29T16:00:00\", \"city\": \"San Diego\", \"temperature\": 46.9}, {\"datetime\": \"2012-12-29T16:00:00\", \"city\": \"San Francisco\", \"temperature\": 39.3}, {\"datetime\": \"2012-12-29T16:00:00\", \"city\": \"Detroit\", \"temperature\": 24.5}, {\"datetime\": \"2012-12-29T17:00:00\", \"city\": \"Detroit\", \"temperature\": 26.3}, {\"datetime\": \"2012-12-29T17:00:00\", \"city\": \"San Francisco\", \"temperature\": 40.7}, {\"datetime\": \"2012-12-29T17:00:00\", \"city\": \"San Diego\", \"temperature\": 53.0}, {\"datetime\": \"2012-12-29T18:00:00\", \"city\": \"San Diego\", \"temperature\": 57.5}, {\"datetime\": \"2012-12-29T18:00:00\", \"city\": \"Detroit\", \"temperature\": 27.9}, {\"datetime\": \"2012-12-29T18:00:00\", \"city\": \"San Francisco\", \"temperature\": 43.1}, {\"datetime\": \"2012-12-29T19:00:00\", \"city\": \"Detroit\", \"temperature\": 28.8}, {\"datetime\": \"2012-12-29T19:00:00\", \"city\": \"San Diego\", \"temperature\": 59.6}, {\"datetime\": \"2012-12-29T19:00:00\", \"city\": \"San Francisco\", \"temperature\": 44.0}, {\"datetime\": \"2012-12-29T20:00:00\", \"city\": \"San Diego\", \"temperature\": 61.8}, {\"datetime\": \"2012-12-29T20:00:00\", \"city\": \"San Francisco\", \"temperature\": 45.2}, {\"datetime\": \"2012-12-29T20:00:00\", \"city\": \"Detroit\", \"temperature\": 28.8}, {\"datetime\": \"2012-12-29T21:00:00\", \"city\": \"San Francisco\", \"temperature\": 46.2}, {\"datetime\": \"2012-12-29T21:00:00\", \"city\": \"San Diego\", \"temperature\": 62.5}, {\"datetime\": \"2012-12-29T21:00:00\", \"city\": \"Detroit\", \"temperature\": 29.9}, {\"datetime\": \"2012-12-29T22:00:00\", \"city\": \"San Diego\", \"temperature\": 62.5}, {\"datetime\": \"2012-12-29T22:00:00\", \"city\": \"Detroit\", \"temperature\": 29.0}, {\"datetime\": \"2012-12-29T22:00:00\", \"city\": \"San Francisco\", \"temperature\": 47.3}, {\"datetime\": \"2012-12-29T23:00:00\", \"city\": \"San Diego\", \"temperature\": 61.4}, {\"datetime\": \"2012-12-29T23:00:00\", \"city\": \"Detroit\", \"temperature\": 28.1}, {\"datetime\": \"2012-12-29T23:00:00\", \"city\": \"San Francisco\", \"temperature\": 47.6}, {\"datetime\": \"2012-12-30T00:00:00\", \"city\": \"San Diego\", \"temperature\": 58.2}, {\"datetime\": \"2012-12-30T00:00:00\", \"city\": \"Detroit\", \"temperature\": 27.1}, {\"datetime\": \"2012-12-30T00:00:00\", \"city\": \"San Francisco\", \"temperature\": 47.8}, {\"datetime\": \"2012-12-30T01:00:00\", \"city\": \"San Francisco\", \"temperature\": 46.3}, {\"datetime\": \"2012-12-30T01:00:00\", \"city\": \"San Diego\", \"temperature\": 54.6}, {\"datetime\": \"2012-12-30T01:00:00\", \"city\": \"Detroit\", \"temperature\": 26.8}, {\"datetime\": \"2012-12-30T02:00:00\", \"city\": \"San Diego\", \"temperature\": 52.2}, {\"datetime\": \"2012-12-30T02:00:00\", \"city\": \"Detroit\", \"temperature\": 26.5}, {\"datetime\": \"2012-12-30T02:00:00\", \"city\": \"San Francisco\", \"temperature\": 45.1}, {\"datetime\": \"2012-12-30T03:00:00\", \"city\": \"San Diego\", \"temperature\": 50.3}, {\"datetime\": \"2012-12-30T03:00:00\", \"city\": \"Detroit\", \"temperature\": 26.6}, {\"datetime\": \"2012-12-30T03:00:00\", \"city\": \"San Francisco\", \"temperature\": 45.4}, {\"datetime\": \"2012-12-30T04:00:00\", \"city\": \"San Francisco\", \"temperature\": 45.3}, {\"datetime\": \"2012-12-30T04:00:00\", \"city\": \"San Diego\", \"temperature\": 49.4}, {\"datetime\": \"2012-12-30T04:00:00\", \"city\": \"Detroit\", \"temperature\": 27.3}, {\"datetime\": \"2012-12-30T05:00:00\", \"city\": \"San Francisco\", \"temperature\": 44.7}, {\"datetime\": \"2012-12-30T05:00:00\", \"city\": \"Detroit\", \"temperature\": 28.2}, {\"datetime\": \"2012-12-30T05:00:00\", \"city\": \"San Diego\", \"temperature\": 48.2}, {\"datetime\": \"2012-12-30T06:00:00\", \"city\": \"San Francisco\", \"temperature\": 44.5}, {\"datetime\": \"2012-12-30T06:00:00\", \"city\": \"Detroit\", \"temperature\": 28.2}, {\"datetime\": \"2012-12-30T06:00:00\", \"city\": \"San Diego\", \"temperature\": 48.4}, {\"datetime\": \"2012-12-30T07:00:00\", \"city\": \"San Diego\", \"temperature\": 48.6}, {\"datetime\": \"2012-12-30T07:00:00\", \"city\": \"San Francisco\", \"temperature\": 43.9}, {\"datetime\": \"2012-12-30T07:00:00\", \"city\": \"Detroit\", \"temperature\": 28.1}, {\"datetime\": \"2012-12-30T08:00:00\", \"city\": \"San Diego\", \"temperature\": 48.3}, {\"datetime\": \"2012-12-30T08:00:00\", \"city\": \"San Francisco\", \"temperature\": 43.9}, {\"datetime\": \"2012-12-30T08:00:00\", \"city\": \"Detroit\", \"temperature\": 28.1}, {\"datetime\": \"2012-12-30T09:00:00\", \"city\": \"San Diego\", \"temperature\": 47.5}, {\"datetime\": \"2012-12-30T09:00:00\", \"city\": \"Detroit\", \"temperature\": 27.9}, {\"datetime\": \"2012-12-30T09:00:00\", \"city\": \"San Francisco\", \"temperature\": 43.2}, {\"datetime\": \"2012-12-30T10:00:00\", \"city\": \"San Diego\", \"temperature\": 45.9}, {\"datetime\": \"2012-12-30T10:00:00\", \"city\": \"Detroit\", \"temperature\": 27.8}, {\"datetime\": \"2012-12-30T10:00:00\", \"city\": \"San Francisco\", \"temperature\": 43.2}, {\"datetime\": \"2012-12-30T11:00:00\", \"city\": \"San Francisco\", \"temperature\": 43.2}, {\"datetime\": \"2012-12-30T11:00:00\", \"city\": \"San Diego\", \"temperature\": 44.6}, {\"datetime\": \"2012-12-30T11:00:00\", \"city\": \"Detroit\", \"temperature\": 28.0}, {\"datetime\": \"2012-12-30T12:00:00\", \"city\": \"San Diego\", \"temperature\": 43.4}, {\"datetime\": \"2012-12-30T12:00:00\", \"city\": \"San Francisco\", \"temperature\": 43.0}, {\"datetime\": \"2012-12-30T12:00:00\", \"city\": \"Detroit\", \"temperature\": 28.4}, {\"datetime\": \"2012-12-30T13:00:00\", \"city\": \"San Francisco\", \"temperature\": 42.8}, {\"datetime\": \"2012-12-30T13:00:00\", \"city\": \"Detroit\", \"temperature\": 28.4}, {\"datetime\": \"2012-12-30T13:00:00\", \"city\": \"San Diego\", \"temperature\": 43.3}, {\"datetime\": \"2012-12-30T14:00:00\", \"city\": \"Detroit\", \"temperature\": 28.4}, {\"datetime\": \"2012-12-30T14:00:00\", \"city\": \"San Diego\", \"temperature\": 45.0}, {\"datetime\": \"2012-12-30T14:00:00\", \"city\": \"San Francisco\", \"temperature\": 43.1}, {\"datetime\": \"2012-12-30T15:00:00\", \"city\": \"Detroit\", \"temperature\": 28.8}, {\"datetime\": \"2012-12-30T15:00:00\", \"city\": \"San Diego\", \"temperature\": 44.9}, {\"datetime\": \"2012-12-30T15:00:00\", \"city\": \"San Francisco\", \"temperature\": 42.6}, {\"datetime\": \"2012-12-30T16:00:00\", \"city\": \"San Diego\", \"temperature\": 47.3}, {\"datetime\": \"2012-12-30T16:00:00\", \"city\": \"Detroit\", \"temperature\": 26.5}, {\"datetime\": \"2012-12-30T16:00:00\", \"city\": \"San Francisco\", \"temperature\": 43.8}, {\"datetime\": \"2012-12-30T17:00:00\", \"city\": \"San Francisco\", \"temperature\": 44.7}, {\"datetime\": \"2012-12-30T17:00:00\", \"city\": \"San Diego\", \"temperature\": 51.7}, {\"datetime\": \"2012-12-30T17:00:00\", \"city\": \"Detroit\", \"temperature\": 30.8}, {\"datetime\": \"2012-12-30T18:00:00\", \"city\": \"Detroit\", \"temperature\": 30.8}, {\"datetime\": \"2012-12-30T18:00:00\", \"city\": \"San Francisco\", \"temperature\": 46.3}, {\"datetime\": \"2012-12-30T18:00:00\", \"city\": \"San Diego\", \"temperature\": 55.2}, {\"datetime\": \"2012-12-30T19:00:00\", \"city\": \"Detroit\", \"temperature\": 30.6}, {\"datetime\": \"2012-12-30T19:00:00\", \"city\": \"San Francisco\", \"temperature\": 48.7}, {\"datetime\": \"2012-12-30T19:00:00\", \"city\": \"San Diego\", \"temperature\": 56.9}, {\"datetime\": \"2012-12-30T20:00:00\", \"city\": \"Detroit\", \"temperature\": 30.6}, {\"datetime\": \"2012-12-30T20:00:00\", \"city\": \"San Francisco\", \"temperature\": 49.8}, {\"datetime\": \"2012-12-30T20:00:00\", \"city\": \"San Diego\", \"temperature\": 58.8}, {\"datetime\": \"2012-12-30T21:00:00\", \"city\": \"Detroit\", \"temperature\": 30.6}, {\"datetime\": \"2012-12-30T21:00:00\", \"city\": \"San Francisco\", \"temperature\": 50.9}, {\"datetime\": \"2012-12-30T21:00:00\", \"city\": \"San Diego\", \"temperature\": 57.9}, {\"datetime\": \"2012-12-30T22:00:00\", \"city\": \"San Diego\", \"temperature\": 57.2}, {\"datetime\": \"2012-12-30T22:00:00\", \"city\": \"Detroit\", \"temperature\": 29.9}, {\"datetime\": \"2012-12-30T22:00:00\", \"city\": \"San Francisco\", \"temperature\": 51.9}, {\"datetime\": \"2012-12-30T23:00:00\", \"city\": \"San Diego\", \"temperature\": 55.4}, {\"datetime\": \"2012-12-30T23:00:00\", \"city\": \"Detroit\", \"temperature\": 29.6}, {\"datetime\": \"2012-12-30T23:00:00\", \"city\": \"San Francisco\", \"temperature\": 53.5}, {\"datetime\": \"2012-12-31T00:00:00\", \"city\": \"Detroit\", \"temperature\": 29.2}, {\"datetime\": \"2012-12-31T00:00:00\", \"city\": \"San Diego\", \"temperature\": 53.4}, {\"datetime\": \"2012-12-31T00:00:00\", \"city\": \"San Francisco\", \"temperature\": 52.8}, {\"datetime\": \"2012-12-31T01:00:00\", \"city\": \"San Diego\", \"temperature\": 51.7}, {\"datetime\": \"2012-12-31T01:00:00\", \"city\": \"San Francisco\", \"temperature\": 49.9}, {\"datetime\": \"2012-12-31T01:00:00\", \"city\": \"Detroit\", \"temperature\": 29.2}, {\"datetime\": \"2012-12-31T02:00:00\", \"city\": \"San Diego\", \"temperature\": 51.0}, {\"datetime\": \"2012-12-31T02:00:00\", \"city\": \"San Francisco\", \"temperature\": 46.2}, {\"datetime\": \"2012-12-31T02:00:00\", \"city\": \"Detroit\", \"temperature\": 28.5}, {\"datetime\": \"2012-12-31T03:00:00\", \"city\": \"San Francisco\", \"temperature\": 44.5}, {\"datetime\": \"2012-12-31T03:00:00\", \"city\": \"San Diego\", \"temperature\": 50.8}, {\"datetime\": \"2012-12-31T03:00:00\", \"city\": \"Detroit\", \"temperature\": 27.4}, {\"datetime\": \"2012-12-31T04:00:00\", \"city\": \"San Diego\", \"temperature\": 50.1}, {\"datetime\": \"2012-12-31T04:00:00\", \"city\": \"San Francisco\", \"temperature\": 43.0}, {\"datetime\": \"2012-12-31T04:00:00\", \"city\": \"Detroit\", \"temperature\": 25.6}, {\"datetime\": \"2012-12-31T05:00:00\", \"city\": \"Detroit\", \"temperature\": 26.1}, {\"datetime\": \"2012-12-31T05:00:00\", \"city\": \"San Diego\", \"temperature\": 47.6}, {\"datetime\": \"2012-12-31T05:00:00\", \"city\": \"San Francisco\", \"temperature\": 41.2}, {\"datetime\": \"2012-12-31T06:00:00\", \"city\": \"San Francisco\", \"temperature\": 39.6}, {\"datetime\": \"2012-12-31T06:00:00\", \"city\": \"Detroit\", \"temperature\": 21.8}, {\"datetime\": \"2012-12-31T06:00:00\", \"city\": \"San Diego\", \"temperature\": 46.9}, {\"datetime\": \"2012-12-31T07:00:00\", \"city\": \"San Diego\", \"temperature\": 46.1}, {\"datetime\": \"2012-12-31T07:00:00\", \"city\": \"San Francisco\", \"temperature\": 38.0}, {\"datetime\": \"2012-12-31T07:00:00\", \"city\": \"Detroit\", \"temperature\": 17.5}, {\"datetime\": \"2012-12-31T08:00:00\", \"city\": \"San Diego\", \"temperature\": 46.1}, {\"datetime\": \"2012-12-31T08:00:00\", \"city\": \"Detroit\", \"temperature\": 17.5}, {\"datetime\": \"2012-12-31T08:00:00\", \"city\": \"San Francisco\", \"temperature\": 38.0}, {\"datetime\": \"2012-12-31T09:00:00\", \"city\": \"San Diego\", \"temperature\": 45.6}, {\"datetime\": \"2012-12-31T09:00:00\", \"city\": \"Detroit\", \"temperature\": 25.1}, {\"datetime\": \"2012-12-31T09:00:00\", \"city\": \"San Francisco\", \"temperature\": 39.4}, {\"datetime\": \"2012-12-31T10:00:00\", \"city\": \"Detroit\", \"temperature\": 25.5}, {\"datetime\": \"2012-12-31T10:00:00\", \"city\": \"San Francisco\", \"temperature\": 39.4}, {\"datetime\": \"2012-12-31T10:00:00\", \"city\": \"San Diego\", \"temperature\": 45.2}, {\"datetime\": \"2012-12-31T11:00:00\", \"city\": \"Detroit\", \"temperature\": 26.7}, {\"datetime\": \"2012-12-31T11:00:00\", \"city\": \"San Francisco\", \"temperature\": 39.5}, {\"datetime\": \"2012-12-31T11:00:00\", \"city\": \"San Diego\", \"temperature\": 44.7}, {\"datetime\": \"2012-12-31T12:00:00\", \"city\": \"Detroit\", \"temperature\": 27.4}, {\"datetime\": \"2012-12-31T12:00:00\", \"city\": \"San Francisco\", \"temperature\": 38.8}, {\"datetime\": \"2012-12-31T12:00:00\", \"city\": \"San Diego\", \"temperature\": 44.9}, {\"datetime\": \"2012-12-31T13:00:00\", \"city\": \"San Francisco\", \"temperature\": 38.1}, {\"datetime\": \"2012-12-31T13:00:00\", \"city\": \"Detroit\", \"temperature\": 27.8}, {\"datetime\": \"2012-12-31T13:00:00\", \"city\": \"San Diego\", \"temperature\": 44.2}, {\"datetime\": \"2012-12-31T14:00:00\", \"city\": \"San Diego\", \"temperature\": 44.8}, {\"datetime\": \"2012-12-31T14:00:00\", \"city\": \"San Francisco\", \"temperature\": 37.6}, {\"datetime\": \"2012-12-31T14:00:00\", \"city\": \"Detroit\", \"temperature\": 28.4}, {\"datetime\": \"2012-12-31T15:00:00\", \"city\": \"San Diego\", \"temperature\": 44.4}, {\"datetime\": \"2012-12-31T15:00:00\", \"city\": \"San Francisco\", \"temperature\": 38.0}, {\"datetime\": \"2012-12-31T15:00:00\", \"city\": \"Detroit\", \"temperature\": 29.5}, {\"datetime\": \"2012-12-31T16:00:00\", \"city\": \"San Francisco\", \"temperature\": 38.4}, {\"datetime\": \"2012-12-31T16:00:00\", \"city\": \"San Diego\", \"temperature\": 46.1}, {\"datetime\": \"2012-12-31T16:00:00\", \"city\": \"Detroit\", \"temperature\": 30.0}, {\"datetime\": \"2012-12-31T17:00:00\", \"city\": \"Detroit\", \"temperature\": 30.1}, {\"datetime\": \"2012-12-31T17:00:00\", \"city\": \"San Diego\", \"temperature\": 50.0}, {\"datetime\": \"2012-12-31T17:00:00\", \"city\": \"San Francisco\", \"temperature\": 41.9}, {\"datetime\": \"2012-12-31T18:00:00\", \"city\": \"San Diego\", \"temperature\": 51.8}, {\"datetime\": \"2012-12-31T18:00:00\", \"city\": \"Detroit\", \"temperature\": 29.2}, {\"datetime\": \"2012-12-31T18:00:00\", \"city\": \"San Francisco\", \"temperature\": 47.4}, {\"datetime\": \"2012-12-31T19:00:00\", \"city\": \"Detroit\", \"temperature\": 28.7}, {\"datetime\": \"2012-12-31T19:00:00\", \"city\": \"San Francisco\", \"temperature\": 49.7}, {\"datetime\": \"2012-12-31T19:00:00\", \"city\": \"San Diego\", \"temperature\": 52.9}, {\"datetime\": \"2012-12-31T20:00:00\", \"city\": \"Detroit\", \"temperature\": 27.3}, {\"datetime\": \"2012-12-31T20:00:00\", \"city\": \"San Diego\", \"temperature\": 52.3}, {\"datetime\": \"2012-12-31T20:00:00\", \"city\": \"San Francisco\", \"temperature\": 51.1}, {\"datetime\": \"2012-12-31T21:00:00\", \"city\": \"San Diego\", \"temperature\": 52.6}, {\"datetime\": \"2012-12-31T21:00:00\", \"city\": \"Detroit\", \"temperature\": 25.8}, {\"datetime\": \"2012-12-31T21:00:00\", \"city\": \"San Francisco\", \"temperature\": 52.4}, {\"datetime\": \"2012-12-31T22:00:00\", \"city\": \"San Diego\", \"temperature\": 52.2}, {\"datetime\": \"2012-12-31T22:00:00\", \"city\": \"San Francisco\", \"temperature\": 52.1}, {\"datetime\": \"2012-12-31T22:00:00\", \"city\": \"Detroit\", \"temperature\": 25.4}, {\"datetime\": \"2012-12-31T23:00:00\", \"city\": \"San Diego\", \"temperature\": 52.9}, {\"datetime\": \"2012-12-31T23:00:00\", \"city\": \"Detroit\", \"temperature\": 23.8}, {\"datetime\": \"2012-12-31T23:00:00\", \"city\": \"San Francisco\", \"temperature\": 52.6}, {\"datetime\": \"2013-01-01T00:00:00\", \"city\": \"Detroit\", \"temperature\": 22.2}, {\"datetime\": \"2013-01-01T00:00:00\", \"city\": \"San Diego\", \"temperature\": 51.0}, {\"datetime\": \"2013-01-01T00:00:00\", \"city\": \"San Francisco\", \"temperature\": 52.7}, {\"datetime\": \"2013-01-01T01:00:00\", \"city\": \"Detroit\", \"temperature\": 22.4}, {\"datetime\": \"2013-01-01T01:00:00\", \"city\": \"San Diego\", \"temperature\": 48.1}, {\"datetime\": \"2013-01-01T01:00:00\", \"city\": \"San Francisco\", \"temperature\": 50.4}, {\"datetime\": \"2013-01-01T02:00:00\", \"city\": \"San Diego\", \"temperature\": 46.7}, {\"datetime\": \"2013-01-01T02:00:00\", \"city\": \"San Francisco\", \"temperature\": 46.4}, {\"datetime\": \"2013-01-01T02:00:00\", \"city\": \"Detroit\", \"temperature\": 21.5}, {\"datetime\": \"2013-01-01T03:00:00\", \"city\": \"San Diego\", \"temperature\": 46.5}, {\"datetime\": \"2013-01-01T03:00:00\", \"city\": \"San Francisco\", \"temperature\": 45.1}, {\"datetime\": \"2013-01-01T03:00:00\", \"city\": \"Detroit\", \"temperature\": 20.6}, {\"datetime\": \"2013-01-01T04:00:00\", \"city\": \"San Diego\", \"temperature\": 45.4}, {\"datetime\": \"2013-01-01T04:00:00\", \"city\": \"San Francisco\", \"temperature\": 44.3}, {\"datetime\": \"2013-01-01T04:00:00\", \"city\": \"Detroit\", \"temperature\": 20.6}, {\"datetime\": \"2013-01-01T05:00:00\", \"city\": \"San Francisco\", \"temperature\": 43.1}, {\"datetime\": \"2013-01-01T05:00:00\", \"city\": \"San Diego\", \"temperature\": 44.0}, {\"datetime\": \"2013-01-01T05:00:00\", \"city\": \"Detroit\", \"temperature\": 20.3}, {\"datetime\": \"2013-01-01T06:00:00\", \"city\": \"San Diego\", \"temperature\": 41.6}, {\"datetime\": \"2013-01-01T06:00:00\", \"city\": \"San Francisco\", \"temperature\": 42.5}, {\"datetime\": \"2013-01-01T06:00:00\", \"city\": \"Detroit\", \"temperature\": 25.3}, {\"datetime\": \"2013-01-01T07:00:00\", \"city\": \"San Diego\", \"temperature\": 42.0}, {\"datetime\": \"2013-01-01T07:00:00\", \"city\": \"Detroit\", \"temperature\": 22.7}, {\"datetime\": \"2013-01-01T07:00:00\", \"city\": \"San Francisco\", \"temperature\": 42.3}, {\"datetime\": \"2013-01-01T08:00:00\", \"city\": \"Detroit\", \"temperature\": 23.3}, {\"datetime\": \"2013-01-01T08:00:00\", \"city\": \"San Francisco\", \"temperature\": 42.2}, {\"datetime\": \"2013-01-01T08:00:00\", \"city\": \"San Diego\", \"temperature\": 41.3}, {\"datetime\": \"2013-01-01T09:00:00\", \"city\": \"San Francisco\", \"temperature\": 40.8}, {\"datetime\": \"2013-01-01T09:00:00\", \"city\": \"San Diego\", \"temperature\": 41.0}, {\"datetime\": \"2013-01-01T09:00:00\", \"city\": \"Detroit\", \"temperature\": 25.0}, {\"datetime\": \"2013-01-01T10:00:00\", \"city\": \"Detroit\", \"temperature\": 25.9}, {\"datetime\": \"2013-01-01T10:00:00\", \"city\": \"San Francisco\", \"temperature\": 39.4}, {\"datetime\": \"2013-01-01T10:00:00\", \"city\": \"San Diego\", \"temperature\": 40.7}, {\"datetime\": \"2013-01-01T11:00:00\", \"city\": \"San Francisco\", \"temperature\": 38.8}, {\"datetime\": \"2013-01-01T11:00:00\", \"city\": \"Detroit\", \"temperature\": 26.5}, {\"datetime\": \"2013-01-01T11:00:00\", \"city\": \"San Diego\", \"temperature\": 39.9}, {\"datetime\": \"2013-01-01T12:00:00\", \"city\": \"San Diego\", \"temperature\": 38.7}, {\"datetime\": \"2013-01-01T12:00:00\", \"city\": \"San Francisco\", \"temperature\": 38.4}, {\"datetime\": \"2013-01-01T12:00:00\", \"city\": \"Detroit\", \"temperature\": 27.3}, {\"datetime\": \"2013-01-01T13:00:00\", \"city\": \"San Diego\", \"temperature\": 38.4}, {\"datetime\": \"2013-01-01T13:00:00\", \"city\": \"San Francisco\", \"temperature\": 38.1}, {\"datetime\": \"2013-01-01T13:00:00\", \"city\": \"Detroit\", \"temperature\": 27.6}, {\"datetime\": \"2013-01-01T14:00:00\", \"city\": \"San Diego\", \"temperature\": 37.2}, {\"datetime\": \"2013-01-01T14:00:00\", \"city\": \"San Francisco\", \"temperature\": 37.8}, {\"datetime\": \"2013-01-01T14:00:00\", \"city\": \"Detroit\", \"temperature\": 28.8}, {\"datetime\": \"2013-01-01T15:00:00\", \"city\": \"Detroit\", \"temperature\": 29.9}, {\"datetime\": \"2013-01-01T15:00:00\", \"city\": \"San Diego\", \"temperature\": 39.0}, {\"datetime\": \"2013-01-01T15:00:00\", \"city\": \"San Francisco\", \"temperature\": 37.9}, {\"datetime\": \"2013-01-01T16:00:00\", \"city\": \"San Francisco\", \"temperature\": 37.1}, {\"datetime\": \"2013-01-01T16:00:00\", \"city\": \"Detroit\", \"temperature\": 31.9}, {\"datetime\": \"2013-01-01T16:00:00\", \"city\": \"San Diego\", \"temperature\": 41.8}, {\"datetime\": \"2013-01-01T17:00:00\", \"city\": \"San Francisco\", \"temperature\": 42.7}, {\"datetime\": \"2013-01-01T17:00:00\", \"city\": \"Detroit\", \"temperature\": 32.9}, {\"datetime\": \"2013-01-01T17:00:00\", \"city\": \"San Diego\", \"temperature\": 48.2}, {\"datetime\": \"2013-01-01T18:00:00\", \"city\": \"San Francisco\", \"temperature\": 47.3}, {\"datetime\": \"2013-01-01T18:00:00\", \"city\": \"Detroit\", \"temperature\": 34.0}, {\"datetime\": \"2013-01-01T18:00:00\", \"city\": \"San Diego\", \"temperature\": 51.2}, {\"datetime\": \"2013-01-01T19:00:00\", \"city\": \"San Francisco\", \"temperature\": 48.6}, {\"datetime\": \"2013-01-01T19:00:00\", \"city\": \"Detroit\", \"temperature\": 34.2}, {\"datetime\": \"2013-01-01T19:00:00\", \"city\": \"San Diego\", \"temperature\": 54.8}, {\"datetime\": \"2013-01-01T20:00:00\", \"city\": \"San Francisco\", \"temperature\": 49.6}, {\"datetime\": \"2013-01-01T20:00:00\", \"city\": \"San Diego\", \"temperature\": 56.3}, {\"datetime\": \"2013-01-01T20:00:00\", \"city\": \"Detroit\", \"temperature\": 34.5}, {\"datetime\": \"2013-01-01T21:00:00\", \"city\": \"San Francisco\", \"temperature\": 50.2}, {\"datetime\": \"2013-01-01T21:00:00\", \"city\": \"San Diego\", \"temperature\": 57.7}, {\"datetime\": \"2013-01-01T21:00:00\", \"city\": \"Detroit\", \"temperature\": 35.0}, {\"datetime\": \"2013-01-01T22:00:00\", \"city\": \"San Diego\", \"temperature\": 57.6}, {\"datetime\": \"2013-01-01T22:00:00\", \"city\": \"Detroit\", \"temperature\": 34.8}, {\"datetime\": \"2013-01-01T22:00:00\", \"city\": \"San Francisco\", \"temperature\": 50.6}, {\"datetime\": \"2013-01-01T23:00:00\", \"city\": \"Detroit\", \"temperature\": 34.4}, {\"datetime\": \"2013-01-01T23:00:00\", \"city\": \"San Francisco\", \"temperature\": 51.1}, {\"datetime\": \"2013-01-01T23:00:00\", \"city\": \"San Diego\", \"temperature\": 57.2}, {\"datetime\": \"2013-01-02T00:00:00\", \"city\": \"Detroit\", \"temperature\": 34.8}, {\"datetime\": \"2013-01-02T00:00:00\", \"city\": \"San Diego\", \"temperature\": 54.8}, {\"datetime\": \"2013-01-02T00:00:00\", \"city\": \"San Francisco\", \"temperature\": 50.4}, {\"datetime\": \"2013-01-02T01:00:00\", \"city\": \"San Francisco\", \"temperature\": 48.4}, {\"datetime\": \"2013-01-02T01:00:00\", \"city\": \"Detroit\", \"temperature\": 34.2}, {\"datetime\": \"2013-01-02T01:00:00\", \"city\": \"San Diego\", \"temperature\": 52.2}, {\"datetime\": \"2013-01-02T02:00:00\", \"city\": \"Detroit\", \"temperature\": 33.8}, {\"datetime\": \"2013-01-02T02:00:00\", \"city\": \"San Francisco\", \"temperature\": 47.1}, {\"datetime\": \"2013-01-02T02:00:00\", \"city\": \"San Diego\", \"temperature\": 50.2}, {\"datetime\": \"2013-01-02T03:00:00\", \"city\": \"San Diego\", \"temperature\": 48.0}, {\"datetime\": \"2013-01-02T03:00:00\", \"city\": \"Detroit\", \"temperature\": 32.6}, {\"datetime\": \"2013-01-02T03:00:00\", \"city\": \"San Francisco\", \"temperature\": 46.1}, {\"datetime\": \"2013-01-02T04:00:00\", \"city\": \"Detroit\", \"temperature\": 31.6}, {\"datetime\": \"2013-01-02T04:00:00\", \"city\": \"San Francisco\", \"temperature\": 45.7}, {\"datetime\": \"2013-01-02T04:00:00\", \"city\": \"San Diego\", \"temperature\": 46.8}, {\"datetime\": \"2013-01-02T05:00:00\", \"city\": \"Detroit\", \"temperature\": 30.6}, {\"datetime\": \"2013-01-02T05:00:00\", \"city\": \"San Francisco\", \"temperature\": 43.6}, {\"datetime\": \"2013-01-02T05:00:00\", \"city\": \"San Diego\", \"temperature\": 45.3}, {\"datetime\": \"2013-01-02T06:00:00\", \"city\": \"San Francisco\", \"temperature\": 42.3}, {\"datetime\": \"2013-01-02T06:00:00\", \"city\": \"Detroit\", \"temperature\": 30.3}, {\"datetime\": \"2013-01-02T06:00:00\", \"city\": \"San Diego\", \"temperature\": 44.5}, {\"datetime\": \"2013-01-02T07:00:00\", \"city\": \"San Diego\", \"temperature\": 44.1}, {\"datetime\": \"2013-01-02T07:00:00\", \"city\": \"San Francisco\", \"temperature\": 41.8}, {\"datetime\": \"2013-01-02T07:00:00\", \"city\": \"Detroit\", \"temperature\": 29.6}, {\"datetime\": \"2013-01-02T08:00:00\", \"city\": \"San Diego\", \"temperature\": 44.0}, {\"datetime\": \"2013-01-02T08:00:00\", \"city\": \"San Francisco\", \"temperature\": 41.4}, {\"datetime\": \"2013-01-02T08:00:00\", \"city\": \"Detroit\", \"temperature\": 29.3}, {\"datetime\": \"2013-01-02T09:00:00\", \"city\": \"San Diego\", \"temperature\": 43.8}, {\"datetime\": \"2013-01-02T09:00:00\", \"city\": \"San Francisco\", \"temperature\": 40.5}, {\"datetime\": \"2013-01-02T09:00:00\", \"city\": \"Detroit\", \"temperature\": 27.9}, {\"datetime\": \"2013-01-02T10:00:00\", \"city\": \"San Francisco\", \"temperature\": 40.3}, {\"datetime\": \"2013-01-02T10:00:00\", \"city\": \"Detroit\", \"temperature\": 27.3}, {\"datetime\": \"2013-01-02T10:00:00\", \"city\": \"San Diego\", \"temperature\": 44.0}, {\"datetime\": \"2013-01-02T11:00:00\", \"city\": \"San Diego\", \"temperature\": 43.5}, {\"datetime\": \"2013-01-02T11:00:00\", \"city\": \"Detroit\", \"temperature\": 26.5}, {\"datetime\": \"2013-01-02T11:00:00\", \"city\": \"San Francisco\", \"temperature\": 40.3}, {\"datetime\": \"2013-01-02T12:00:00\", \"city\": \"Detroit\", \"temperature\": 25.5}, {\"datetime\": \"2013-01-02T12:00:00\", \"city\": \"San Diego\", \"temperature\": 43.2}, {\"datetime\": \"2013-01-02T12:00:00\", \"city\": \"San Francisco\", \"temperature\": 41.4}, {\"datetime\": \"2013-01-02T13:00:00\", \"city\": \"San Diego\", \"temperature\": 42.9}, {\"datetime\": \"2013-01-02T13:00:00\", \"city\": \"Detroit\", \"temperature\": 24.4}, {\"datetime\": \"2013-01-02T13:00:00\", \"city\": \"San Francisco\", \"temperature\": 41.4}, {\"datetime\": \"2013-01-02T14:00:00\", \"city\": \"San Francisco\", \"temperature\": 41.7}, {\"datetime\": \"2013-01-02T14:00:00\", \"city\": \"Detroit\", \"temperature\": 24.3}, {\"datetime\": \"2013-01-02T14:00:00\", \"city\": \"San Diego\", \"temperature\": 42.1}, {\"datetime\": \"2013-01-02T15:00:00\", \"city\": \"San Francisco\", \"temperature\": 41.5}, {\"datetime\": \"2013-01-02T15:00:00\", \"city\": \"Detroit\", \"temperature\": 25.0}, {\"datetime\": \"2013-01-02T15:00:00\", \"city\": \"San Diego\", \"temperature\": 42.8}, {\"datetime\": \"2013-01-02T16:00:00\", \"city\": \"Detroit\", \"temperature\": 24.6}, {\"datetime\": \"2013-01-02T16:00:00\", \"city\": \"San Diego\", \"temperature\": 46.7}, {\"datetime\": \"2013-01-02T16:00:00\", \"city\": \"San Francisco\", \"temperature\": 41.5}, {\"datetime\": \"2013-01-02T17:00:00\", \"city\": \"San Diego\", \"temperature\": 50.6}, {\"datetime\": \"2013-01-02T17:00:00\", \"city\": \"San Francisco\", \"temperature\": 44.3}, {\"datetime\": \"2013-01-02T17:00:00\", \"city\": \"Detroit\", \"temperature\": 24.1}, {\"datetime\": \"2013-01-02T18:00:00\", \"city\": \"San Francisco\", \"temperature\": 45.7}, {\"datetime\": \"2013-01-02T18:00:00\", \"city\": \"San Diego\", \"temperature\": 53.9}, {\"datetime\": \"2013-01-02T18:00:00\", \"city\": \"Detroit\", \"temperature\": 25.7}, {\"datetime\": \"2013-01-02T19:00:00\", \"city\": \"San Diego\", \"temperature\": 57.1}, {\"datetime\": \"2013-01-02T19:00:00\", \"city\": \"San Francisco\", \"temperature\": 48.0}, {\"datetime\": \"2013-01-02T19:00:00\", \"city\": \"Detroit\", \"temperature\": 25.5}, {\"datetime\": \"2013-01-02T20:00:00\", \"city\": \"San Diego\", \"temperature\": 58.6}, {\"datetime\": \"2013-01-02T20:00:00\", \"city\": \"San Francisco\", \"temperature\": 49.2}, {\"datetime\": \"2013-01-02T20:00:00\", \"city\": \"Detroit\", \"temperature\": 25.9}, {\"datetime\": \"2013-01-02T21:00:00\", \"city\": \"San Francisco\", \"temperature\": 50.2}, {\"datetime\": \"2013-01-02T21:00:00\", \"city\": \"San Diego\", \"temperature\": 59.7}, {\"datetime\": \"2013-01-02T21:00:00\", \"city\": \"Detroit\", \"temperature\": 25.6}, {\"datetime\": \"2013-01-02T22:00:00\", \"city\": \"San Francisco\", \"temperature\": 51.7}, {\"datetime\": \"2013-01-02T22:00:00\", \"city\": \"San Diego\", \"temperature\": 58.7}, {\"datetime\": \"2013-01-02T22:00:00\", \"city\": \"Detroit\", \"temperature\": 22.8}, {\"datetime\": \"2013-01-02T23:00:00\", \"city\": \"San Francisco\", \"temperature\": 51.8}, {\"datetime\": \"2013-01-02T23:00:00\", \"city\": \"Detroit\", \"temperature\": 21.7}, {\"datetime\": \"2013-01-02T23:00:00\", \"city\": \"San Diego\", \"temperature\": 57.9}, {\"datetime\": \"2013-01-03T00:00:00\", \"city\": \"Detroit\", \"temperature\": 20.7}, {\"datetime\": \"2013-01-03T00:00:00\", \"city\": \"San Francisco\", \"temperature\": 51.5}, {\"datetime\": \"2013-01-03T00:00:00\", \"city\": \"San Diego\", \"temperature\": 56.5}, {\"datetime\": \"2013-01-03T01:00:00\", \"city\": \"San Francisco\", \"temperature\": 49.2}, {\"datetime\": \"2013-01-03T01:00:00\", \"city\": \"Detroit\", \"temperature\": 18.6}, {\"datetime\": \"2013-01-03T01:00:00\", \"city\": \"San Diego\", \"temperature\": 54.6}, {\"datetime\": \"2013-01-03T02:00:00\", \"city\": \"San Francisco\", \"temperature\": 46.8}, {\"datetime\": \"2013-01-03T02:00:00\", \"city\": \"San Diego\", \"temperature\": 54.0}, {\"datetime\": \"2013-01-03T02:00:00\", \"city\": \"Detroit\", \"temperature\": 18.1}, {\"datetime\": \"2013-01-03T03:00:00\", \"city\": \"Detroit\", \"temperature\": 19.0}, {\"datetime\": \"2013-01-03T03:00:00\", \"city\": \"San Francisco\", \"temperature\": 44.2}, {\"datetime\": \"2013-01-03T03:00:00\", \"city\": \"San Diego\", \"temperature\": 53.4}, {\"datetime\": \"2013-01-03T04:00:00\", \"city\": \"San Francisco\", \"temperature\": 43.9}, {\"datetime\": \"2013-01-03T04:00:00\", \"city\": \"Detroit\", \"temperature\": 19.8}, {\"datetime\": \"2013-01-03T04:00:00\", \"city\": \"San Diego\", \"temperature\": 52.7}, {\"datetime\": \"2013-01-03T05:00:00\", \"city\": \"Detroit\", \"temperature\": 20.7}, {\"datetime\": \"2013-01-03T05:00:00\", \"city\": \"San Diego\", \"temperature\": 51.7}, {\"datetime\": \"2013-01-03T05:00:00\", \"city\": \"San Francisco\", \"temperature\": 39.7}, {\"datetime\": \"2013-01-03T06:00:00\", \"city\": \"San Francisco\", \"temperature\": 39.8}, {\"datetime\": \"2013-01-03T06:00:00\", \"city\": \"Detroit\", \"temperature\": 16.8}, {\"datetime\": \"2013-01-03T06:00:00\", \"city\": \"San Diego\", \"temperature\": 49.1}, {\"datetime\": \"2013-01-03T07:00:00\", \"city\": \"San Diego\", \"temperature\": 46.4}, {\"datetime\": \"2013-01-03T07:00:00\", \"city\": \"San Francisco\", \"temperature\": 40.0}, {\"datetime\": \"2013-01-03T07:00:00\", \"city\": \"Detroit\", \"temperature\": 12.9}, {\"datetime\": \"2013-01-03T08:00:00\", \"city\": \"Detroit\", \"temperature\": 12.9}, {\"datetime\": \"2013-01-03T08:00:00\", \"city\": \"San Francisco\", \"temperature\": 40.0}, {\"datetime\": \"2013-01-03T08:00:00\", \"city\": \"San Diego\", \"temperature\": 46.4}, {\"datetime\": \"2013-01-03T09:00:00\", \"city\": \"San Diego\", \"temperature\": 46.4}, {\"datetime\": \"2013-01-03T09:00:00\", \"city\": \"Detroit\", \"temperature\": 12.9}, {\"datetime\": \"2013-01-03T09:00:00\", \"city\": \"San Francisco\", \"temperature\": 40.0}, {\"datetime\": \"2013-01-03T10:00:00\", \"city\": \"San Diego\", \"temperature\": 46.4}, {\"datetime\": \"2013-01-03T10:00:00\", \"city\": \"Detroit\", \"temperature\": 12.9}, {\"datetime\": \"2013-01-03T10:00:00\", \"city\": \"San Francisco\", \"temperature\": 40.0}, {\"datetime\": \"2013-01-03T11:00:00\", \"city\": \"San Diego\", \"temperature\": 46.4}, {\"datetime\": \"2013-01-03T11:00:00\", \"city\": \"Detroit\", \"temperature\": 12.9}, {\"datetime\": \"2013-01-03T11:00:00\", \"city\": \"San Francisco\", \"temperature\": 40.0}, {\"datetime\": \"2013-01-03T12:00:00\", \"city\": \"San Francisco\", \"temperature\": 40.0}, {\"datetime\": \"2013-01-03T12:00:00\", \"city\": \"San Diego\", \"temperature\": 46.4}, {\"datetime\": \"2013-01-03T12:00:00\", \"city\": \"Detroit\", \"temperature\": 12.9}, {\"datetime\": \"2013-01-03T13:00:00\", \"city\": \"San Francisco\", \"temperature\": 36.0}, {\"datetime\": \"2013-01-03T13:00:00\", \"city\": \"Detroit\", \"temperature\": 15.5}, {\"datetime\": \"2013-01-03T13:00:00\", \"city\": \"San Diego\", \"temperature\": 44.9}, {\"datetime\": \"2013-01-03T14:00:00\", \"city\": \"Detroit\", \"temperature\": 17.2}, {\"datetime\": \"2013-01-03T14:00:00\", \"city\": \"San Francisco\", \"temperature\": 36.8}, {\"datetime\": \"2013-01-03T14:00:00\", \"city\": \"San Diego\", \"temperature\": 43.5}, {\"datetime\": \"2013-01-03T15:00:00\", \"city\": \"Detroit\", \"temperature\": 17.6}, {\"datetime\": \"2013-01-03T15:00:00\", \"city\": \"San Francisco\", \"temperature\": 37.5}, {\"datetime\": \"2013-01-03T15:00:00\", \"city\": \"San Diego\", \"temperature\": 42.2}, {\"datetime\": \"2013-01-03T16:00:00\", \"city\": \"San Diego\", \"temperature\": 48.8}, {\"datetime\": \"2013-01-03T16:00:00\", \"city\": \"Detroit\", \"temperature\": 22.6}, {\"datetime\": \"2013-01-03T16:00:00\", \"city\": \"San Francisco\", \"temperature\": 37.3}, {\"datetime\": \"2013-01-03T17:00:00\", \"city\": \"Detroit\", \"temperature\": 23.6}, {\"datetime\": \"2013-01-03T17:00:00\", \"city\": \"San Francisco\", \"temperature\": 42.5}, {\"datetime\": \"2013-01-03T17:00:00\", \"city\": \"San Diego\", \"temperature\": 54.9}, {\"datetime\": \"2013-01-03T18:00:00\", \"city\": \"Detroit\", \"temperature\": 24.8}, {\"datetime\": \"2013-01-03T18:00:00\", \"city\": \"San Francisco\", \"temperature\": 47.0}, {\"datetime\": \"2013-01-03T18:00:00\", \"city\": \"San Diego\", \"temperature\": 58.3}, {\"datetime\": \"2013-01-03T19:00:00\", \"city\": \"San Francisco\", \"temperature\": 49.8}, {\"datetime\": \"2013-01-03T19:00:00\", \"city\": \"Detroit\", \"temperature\": 25.7}, {\"datetime\": \"2013-01-03T19:00:00\", \"city\": \"San Diego\", \"temperature\": 60.2}, {\"datetime\": \"2013-01-03T20:00:00\", \"city\": \"San Francisco\", \"temperature\": 51.5}, {\"datetime\": \"2013-01-03T20:00:00\", \"city\": \"San Diego\", \"temperature\": 61.4}, {\"datetime\": \"2013-01-03T20:00:00\", \"city\": \"Detroit\", \"temperature\": 26.3}, {\"datetime\": \"2013-01-03T21:00:00\", \"city\": \"Detroit\", \"temperature\": 26.1}, {\"datetime\": \"2013-01-03T21:00:00\", \"city\": \"San Diego\", \"temperature\": 62.2}, {\"datetime\": \"2013-01-03T21:00:00\", \"city\": \"San Francisco\", \"temperature\": 52.6}, {\"datetime\": \"2013-01-03T22:00:00\", \"city\": \"San Francisco\", \"temperature\": 53.3}, {\"datetime\": \"2013-01-03T22:00:00\", \"city\": \"San Diego\", \"temperature\": 62.5}, {\"datetime\": \"2013-01-03T22:00:00\", \"city\": \"Detroit\", \"temperature\": 26.1}, {\"datetime\": \"2013-01-03T23:00:00\", \"city\": \"San Francisco\", \"temperature\": 53.9}, {\"datetime\": \"2013-01-03T23:00:00\", \"city\": \"Detroit\", \"temperature\": 26.6}, {\"datetime\": \"2013-01-03T23:00:00\", \"city\": \"San Diego\", \"temperature\": 60.8}, {\"datetime\": \"2013-01-04T00:00:00\", \"city\": \"San Francisco\", \"temperature\": 53.0}, {\"datetime\": \"2013-01-04T00:00:00\", \"city\": \"Detroit\", \"temperature\": 26.0}, {\"datetime\": \"2013-01-04T00:00:00\", \"city\": \"San Diego\", \"temperature\": 58.5}, {\"datetime\": \"2013-01-04T01:00:00\", \"city\": \"San Francisco\", \"temperature\": 50.4}, {\"datetime\": \"2013-01-04T01:00:00\", \"city\": \"Detroit\", \"temperature\": 25.7}, {\"datetime\": \"2013-01-04T01:00:00\", \"city\": \"San Diego\", \"temperature\": 55.8}, {\"datetime\": \"2013-01-04T02:00:00\", \"city\": \"San Francisco\", \"temperature\": 47.4}, {\"datetime\": \"2013-01-04T02:00:00\", \"city\": \"San Diego\", \"temperature\": 53.1}, {\"datetime\": \"2013-01-04T02:00:00\", \"city\": \"Detroit\", \"temperature\": 24.2}, {\"datetime\": \"2013-01-04T03:00:00\", \"city\": \"San Francisco\", \"temperature\": 45.7}, {\"datetime\": \"2013-01-04T03:00:00\", \"city\": \"San Diego\", \"temperature\": 49.2}, {\"datetime\": \"2013-01-04T03:00:00\", \"city\": \"Detroit\", \"temperature\": 24.4}, {\"datetime\": \"2013-01-04T04:00:00\", \"city\": \"San Diego\", \"temperature\": 47.8}, {\"datetime\": \"2013-01-04T04:00:00\", \"city\": \"San Francisco\", \"temperature\": 42.7}, {\"datetime\": \"2013-01-04T04:00:00\", \"city\": \"Detroit\", \"temperature\": 24.4}, {\"datetime\": \"2013-01-04T05:00:00\", \"city\": \"San Diego\", \"temperature\": 46.3}, {\"datetime\": \"2013-01-04T05:00:00\", \"city\": \"San Francisco\", \"temperature\": 42.0}, {\"datetime\": \"2013-01-04T05:00:00\", \"city\": \"Detroit\", \"temperature\": 24.0}, {\"datetime\": \"2013-01-04T06:00:00\", \"city\": \"San Francisco\", \"temperature\": 40.4}, {\"datetime\": \"2013-01-04T06:00:00\", \"city\": \"San Diego\", \"temperature\": 45.1}, {\"datetime\": \"2013-01-04T06:00:00\", \"city\": \"Detroit\", \"temperature\": 23.8}, {\"datetime\": \"2013-01-04T07:00:00\", \"city\": \"Detroit\", \"temperature\": 22.8}, {\"datetime\": \"2013-01-04T07:00:00\", \"city\": \"San Francisco\", \"temperature\": 39.3}, {\"datetime\": \"2013-01-04T07:00:00\", \"city\": \"San Diego\", \"temperature\": 43.9}, {\"datetime\": \"2013-01-04T08:00:00\", \"city\": \"Detroit\", \"temperature\": 21.5}, {\"datetime\": \"2013-01-04T08:00:00\", \"city\": \"San Diego\", \"temperature\": 42.6}, {\"datetime\": \"2013-01-04T08:00:00\", \"city\": \"San Francisco\", \"temperature\": 39.7}, {\"datetime\": \"2013-01-04T09:00:00\", \"city\": \"Detroit\", \"temperature\": 20.4}, {\"datetime\": \"2013-01-04T09:00:00\", \"city\": \"San Francisco\", \"temperature\": 38.4}, {\"datetime\": \"2013-01-04T09:00:00\", \"city\": \"San Diego\", \"temperature\": 42.4}, {\"datetime\": \"2013-01-04T10:00:00\", \"city\": \"Detroit\", \"temperature\": 19.0}, {\"datetime\": \"2013-01-04T10:00:00\", \"city\": \"San Francisco\", \"temperature\": 36.8}, {\"datetime\": \"2013-01-04T10:00:00\", \"city\": \"San Diego\", \"temperature\": 42.4}, {\"datetime\": \"2013-01-04T11:00:00\", \"city\": \"Detroit\", \"temperature\": 19.5}, {\"datetime\": \"2013-01-04T11:00:00\", \"city\": \"San Diego\", \"temperature\": 39.8}, {\"datetime\": \"2013-01-04T11:00:00\", \"city\": \"San Francisco\", \"temperature\": 35.6}, {\"datetime\": \"2013-01-04T12:00:00\", \"city\": \"San Diego\", \"temperature\": 39.0}, {\"datetime\": \"2013-01-04T12:00:00\", \"city\": \"San Francisco\", \"temperature\": 35.8}, {\"datetime\": \"2013-01-04T12:00:00\", \"city\": \"Detroit\", \"temperature\": 19.1}, {\"datetime\": \"2013-01-04T13:00:00\", \"city\": \"San Francisco\", \"temperature\": 34.4}, {\"datetime\": \"2013-01-04T13:00:00\", \"city\": \"Detroit\", \"temperature\": 18.8}, {\"datetime\": \"2013-01-04T13:00:00\", \"city\": \"San Diego\", \"temperature\": 39.7}, {\"datetime\": \"2013-01-04T14:00:00\", \"city\": \"San Francisco\", \"temperature\": 33.5}, {\"datetime\": \"2013-01-04T14:00:00\", \"city\": \"Detroit\", \"temperature\": 19.8}, {\"datetime\": \"2013-01-04T14:00:00\", \"city\": \"San Diego\", \"temperature\": 39.7}, {\"datetime\": \"2013-01-04T15:00:00\", \"city\": \"Detroit\", \"temperature\": 20.4}, {\"datetime\": \"2013-01-04T15:00:00\", \"city\": \"San Diego\", \"temperature\": 41.1}, {\"datetime\": \"2013-01-04T15:00:00\", \"city\": \"San Francisco\", \"temperature\": 35.8}, {\"datetime\": \"2013-01-04T16:00:00\", \"city\": \"San Diego\", \"temperature\": 45.5}, {\"datetime\": \"2013-01-04T16:00:00\", \"city\": \"San Francisco\", \"temperature\": 37.3}, {\"datetime\": \"2013-01-04T16:00:00\", \"city\": \"Detroit\", \"temperature\": 21.8}, {\"datetime\": \"2013-01-04T17:00:00\", \"city\": \"San Diego\", \"temperature\": 52.6}, {\"datetime\": \"2013-01-04T17:00:00\", \"city\": \"San Francisco\", \"temperature\": 40.6}, {\"datetime\": \"2013-01-04T17:00:00\", \"city\": \"Detroit\", \"temperature\": 24.4}, {\"datetime\": \"2013-01-04T18:00:00\", \"city\": \"San Diego\", \"temperature\": 60.3}, {\"datetime\": \"2013-01-04T18:00:00\", \"city\": \"Detroit\", \"temperature\": 26.4}, {\"datetime\": \"2013-01-04T18:00:00\", \"city\": \"San Francisco\", \"temperature\": 44.9}, {\"datetime\": \"2013-01-04T19:00:00\", \"city\": \"Detroit\", \"temperature\": 26.5}, {\"datetime\": \"2013-01-04T19:00:00\", \"city\": \"San Diego\", \"temperature\": 62.9}, {\"datetime\": \"2013-01-04T19:00:00\", \"city\": \"San Francisco\", \"temperature\": 47.2}, {\"datetime\": \"2013-01-04T20:00:00\", \"city\": \"San Diego\", \"temperature\": 64.8}, {\"datetime\": \"2013-01-04T20:00:00\", \"city\": \"San Francisco\", \"temperature\": 49.6}, {\"datetime\": \"2013-01-04T20:00:00\", \"city\": \"Detroit\", \"temperature\": 27.8}, {\"datetime\": \"2013-01-04T21:00:00\", \"city\": \"San Francisco\", \"temperature\": 51.7}, {\"datetime\": \"2013-01-04T21:00:00\", \"city\": \"Detroit\", \"temperature\": 28.4}, {\"datetime\": \"2013-01-04T21:00:00\", \"city\": \"San Diego\", \"temperature\": 67.0}, {\"datetime\": \"2013-01-04T22:00:00\", \"city\": \"San Francisco\", \"temperature\": 53.0}, {\"datetime\": \"2013-01-04T22:00:00\", \"city\": \"Detroit\", \"temperature\": 29.3}, {\"datetime\": \"2013-01-04T22:00:00\", \"city\": \"San Diego\", \"temperature\": 66.6}, {\"datetime\": \"2013-01-04T23:00:00\", \"city\": \"San Diego\", \"temperature\": 64.9}, {\"datetime\": \"2013-01-04T23:00:00\", \"city\": \"Detroit\", \"temperature\": 29.3}, {\"datetime\": \"2013-01-04T23:00:00\", \"city\": \"San Francisco\", \"temperature\": 53.1}, {\"datetime\": \"2013-01-05T00:00:00\", \"city\": \"San Diego\", \"temperature\": 61.0}, {\"datetime\": \"2013-01-05T00:00:00\", \"city\": \"Detroit\", \"temperature\": 29.7}, {\"datetime\": \"2013-01-05T00:00:00\", \"city\": \"San Francisco\", \"temperature\": 51.9}, {\"datetime\": \"2013-01-05T01:00:00\", \"city\": \"Detroit\", \"temperature\": 30.3}, {\"datetime\": \"2013-01-05T01:00:00\", \"city\": \"San Diego\", \"temperature\": 56.4}, {\"datetime\": \"2013-01-05T01:00:00\", \"city\": \"San Francisco\", \"temperature\": 49.6}, {\"datetime\": \"2013-01-05T02:00:00\", \"city\": \"Detroit\", \"temperature\": 29.9}, {\"datetime\": \"2013-01-05T02:00:00\", \"city\": \"San Diego\", \"temperature\": 54.1}, {\"datetime\": \"2013-01-05T02:00:00\", \"city\": \"San Francisco\", \"temperature\": 47.7}, {\"datetime\": \"2013-01-05T03:00:00\", \"city\": \"Detroit\", \"temperature\": 30.5}, {\"datetime\": \"2013-01-05T03:00:00\", \"city\": \"San Diego\", \"temperature\": 52.4}, {\"datetime\": \"2013-01-05T03:00:00\", \"city\": \"San Francisco\", \"temperature\": 46.3}, {\"datetime\": \"2013-01-05T04:00:00\", \"city\": \"San Diego\", \"temperature\": 52.0}, {\"datetime\": \"2013-01-05T04:00:00\", \"city\": \"Detroit\", \"temperature\": 30.5}, {\"datetime\": \"2013-01-05T04:00:00\", \"city\": \"San Francisco\", \"temperature\": 43.5}, {\"datetime\": \"2013-01-05T05:00:00\", \"city\": \"San Diego\", \"temperature\": 51.0}, {\"datetime\": \"2013-01-05T05:00:00\", \"city\": \"Detroit\", \"temperature\": 29.8}, {\"datetime\": \"2013-01-05T05:00:00\", \"city\": \"San Francisco\", \"temperature\": 42.2}, {\"datetime\": \"2013-01-05T06:00:00\", \"city\": \"San Francisco\", \"temperature\": 42.2}, {\"datetime\": \"2013-01-05T06:00:00\", \"city\": \"Detroit\", \"temperature\": 26.8}, {\"datetime\": \"2013-01-05T06:00:00\", \"city\": \"San Diego\", \"temperature\": 44.2}, {\"datetime\": \"2013-01-05T07:00:00\", \"city\": \"San Francisco\", \"temperature\": 43.1}, {\"datetime\": \"2013-01-05T07:00:00\", \"city\": \"San Diego\", \"temperature\": 26.2}, {\"datetime\": \"2013-01-05T07:00:00\", \"city\": \"Detroit\", \"temperature\": 20.6}, {\"datetime\": \"2013-01-05T08:00:00\", \"city\": \"San Francisco\", \"temperature\": 42.6}, {\"datetime\": \"2013-01-05T08:00:00\", \"city\": \"San Diego\", \"temperature\": 24.9}, {\"datetime\": \"2013-01-05T08:00:00\", \"city\": \"Detroit\", \"temperature\": 19.2}, {\"datetime\": \"2013-01-05T09:00:00\", \"city\": \"Detroit\", \"temperature\": 27.5}, {\"datetime\": \"2013-01-05T09:00:00\", \"city\": \"San Diego\", \"temperature\": 40.6}, {\"datetime\": \"2013-01-05T09:00:00\", \"city\": \"San Francisco\", \"temperature\": 40.2}, {\"datetime\": \"2013-01-05T10:00:00\", \"city\": \"San Diego\", \"temperature\": 44.9}, {\"datetime\": \"2013-01-05T10:00:00\", \"city\": \"San Francisco\", \"temperature\": 39.1}, {\"datetime\": \"2013-01-05T10:00:00\", \"city\": \"Detroit\", \"temperature\": 29.3}, {\"datetime\": \"2013-01-05T11:00:00\", \"city\": \"Detroit\", \"temperature\": 29.3}, {\"datetime\": \"2013-01-05T11:00:00\", \"city\": \"San Francisco\", \"temperature\": 38.6}, {\"datetime\": \"2013-01-05T11:00:00\", \"city\": \"San Diego\", \"temperature\": 43.4}, {\"datetime\": \"2013-01-05T12:00:00\", \"city\": \"San Francisco\", \"temperature\": 38.1}, {\"datetime\": \"2013-01-05T12:00:00\", \"city\": \"Detroit\", \"temperature\": 27.9}, {\"datetime\": \"2013-01-05T12:00:00\", \"city\": \"San Diego\", \"temperature\": 42.7}, {\"datetime\": \"2013-01-05T13:00:00\", \"city\": \"San Francisco\", \"temperature\": 37.6}, {\"datetime\": \"2013-01-05T13:00:00\", \"city\": \"Detroit\", \"temperature\": 26.4}, {\"datetime\": \"2013-01-05T13:00:00\", \"city\": \"San Diego\", \"temperature\": 41.9}, {\"datetime\": \"2013-01-05T14:00:00\", \"city\": \"Detroit\", \"temperature\": 24.9}, {\"datetime\": \"2013-01-05T14:00:00\", \"city\": \"San Diego\", \"temperature\": 40.8}, {\"datetime\": \"2013-01-05T14:00:00\", \"city\": \"San Francisco\", \"temperature\": 37.8}, {\"datetime\": \"2013-01-05T15:00:00\", \"city\": \"Detroit\", \"temperature\": 24.4}, {\"datetime\": \"2013-01-05T15:00:00\", \"city\": \"San Francisco\", \"temperature\": 38.0}, {\"datetime\": \"2013-01-05T15:00:00\", \"city\": \"San Diego\", \"temperature\": 43.4}, {\"datetime\": \"2013-01-05T16:00:00\", \"city\": \"Detroit\", \"temperature\": 25.7}, {\"datetime\": \"2013-01-05T16:00:00\", \"city\": \"San Diego\", \"temperature\": 47.9}, {\"datetime\": \"2013-01-05T16:00:00\", \"city\": \"San Francisco\", \"temperature\": 38.0}, {\"datetime\": \"2013-01-05T17:00:00\", \"city\": \"San Francisco\", \"temperature\": 42.8}, {\"datetime\": \"2013-01-05T17:00:00\", \"city\": \"San Diego\", \"temperature\": 56.3}, {\"datetime\": \"2013-01-05T17:00:00\", \"city\": \"Detroit\", \"temperature\": 28.6}, {\"datetime\": \"2013-01-05T18:00:00\", \"city\": \"San Diego\", \"temperature\": 61.2}, {\"datetime\": \"2013-01-05T18:00:00\", \"city\": \"San Francisco\", \"temperature\": 47.9}, {\"datetime\": \"2013-01-05T18:00:00\", \"city\": \"Detroit\", \"temperature\": 28.9}, {\"datetime\": \"2013-01-05T19:00:00\", \"city\": \"San Francisco\", \"temperature\": 51.6}, {\"datetime\": \"2013-01-05T19:00:00\", \"city\": \"Detroit\", \"temperature\": 29.6}, {\"datetime\": \"2013-01-05T19:00:00\", \"city\": \"San Diego\", \"temperature\": 62.8}, {\"datetime\": \"2013-01-05T20:00:00\", \"city\": \"San Diego\", \"temperature\": 63.4}, {\"datetime\": \"2013-01-05T20:00:00\", \"city\": \"San Francisco\", \"temperature\": 53.2}, {\"datetime\": \"2013-01-05T20:00:00\", \"city\": \"Detroit\", \"temperature\": 29.9}, {\"datetime\": \"2013-01-05T21:00:00\", \"city\": \"Detroit\", \"temperature\": 29.4}, {\"datetime\": \"2013-01-05T21:00:00\", \"city\": \"San Diego\", \"temperature\": 64.0}, {\"datetime\": \"2013-01-05T21:00:00\", \"city\": \"San Francisco\", \"temperature\": 54.3}, {\"datetime\": \"2013-01-05T22:00:00\", \"city\": \"Detroit\", \"temperature\": 28.9}, {\"datetime\": \"2013-01-05T22:00:00\", \"city\": \"San Diego\", \"temperature\": 64.7}, {\"datetime\": \"2013-01-05T22:00:00\", \"city\": \"San Francisco\", \"temperature\": 54.9}, {\"datetime\": \"2013-01-05T23:00:00\", \"city\": \"San Diego\", \"temperature\": 62.5}, {\"datetime\": \"2013-01-05T23:00:00\", \"city\": \"San Francisco\", \"temperature\": 54.4}, {\"datetime\": \"2013-01-05T23:00:00\", \"city\": \"Detroit\", \"temperature\": 28.6}, {\"datetime\": \"2013-01-06T00:00:00\", \"city\": \"San Diego\", \"temperature\": 59.5}, {\"datetime\": \"2013-01-06T00:00:00\", \"city\": \"San Francisco\", \"temperature\": 53.9}, {\"datetime\": \"2013-01-06T00:00:00\", \"city\": \"Detroit\", \"temperature\": 28.3}, {\"datetime\": \"2013-01-06T01:00:00\", \"city\": \"Detroit\", \"temperature\": 27.3}, {\"datetime\": \"2013-01-06T01:00:00\", \"city\": \"San Francisco\", \"temperature\": 51.0}, {\"datetime\": \"2013-01-06T01:00:00\", \"city\": \"San Diego\", \"temperature\": 55.1}, {\"datetime\": \"2013-01-06T02:00:00\", \"city\": \"San Francisco\", \"temperature\": 48.5}, {\"datetime\": \"2013-01-06T02:00:00\", \"city\": \"Detroit\", \"temperature\": 26.8}, {\"datetime\": \"2013-01-06T02:00:00\", \"city\": \"San Diego\", \"temperature\": 51.9}, {\"datetime\": \"2013-01-06T03:00:00\", \"city\": \"San Francisco\", \"temperature\": 46.4}, {\"datetime\": \"2013-01-06T03:00:00\", \"city\": \"San Diego\", \"temperature\": 48.7}, {\"datetime\": \"2013-01-06T03:00:00\", \"city\": \"Detroit\", \"temperature\": 26.0}, {\"datetime\": \"2013-01-06T04:00:00\", \"city\": \"San Francisco\", \"temperature\": 45.2}, {\"datetime\": \"2013-01-06T04:00:00\", \"city\": \"San Diego\", \"temperature\": 47.6}, {\"datetime\": \"2013-01-06T04:00:00\", \"city\": \"Detroit\", \"temperature\": 26.0}, {\"datetime\": \"2013-01-06T05:00:00\", \"city\": \"San Francisco\", \"temperature\": 43.4}, {\"datetime\": \"2013-01-06T05:00:00\", \"city\": \"San Diego\", \"temperature\": 45.6}, {\"datetime\": \"2013-01-06T05:00:00\", \"city\": \"Detroit\", \"temperature\": 25.1}, {\"datetime\": \"2013-01-06T06:00:00\", \"city\": \"Detroit\", \"temperature\": 24.8}, {\"datetime\": \"2013-01-06T06:00:00\", \"city\": \"San Diego\", \"temperature\": 44.9}, {\"datetime\": \"2013-01-06T06:00:00\", \"city\": \"San Francisco\", \"temperature\": 42.5}, {\"datetime\": \"2013-01-06T07:00:00\", \"city\": \"San Diego\", \"temperature\": 43.7}, {\"datetime\": \"2013-01-06T07:00:00\", \"city\": \"San Francisco\", \"temperature\": 41.6}, {\"datetime\": \"2013-01-06T07:00:00\", \"city\": \"Detroit\", \"temperature\": 23.9}, {\"datetime\": \"2013-01-06T08:00:00\", \"city\": \"San Francisco\", \"temperature\": 40.0}, {\"datetime\": \"2013-01-06T08:00:00\", \"city\": \"Detroit\", \"temperature\": 23.4}, {\"datetime\": \"2013-01-06T08:00:00\", \"city\": \"San Diego\", \"temperature\": 42.7}, {\"datetime\": \"2013-01-06T09:00:00\", \"city\": \"Detroit\", \"temperature\": 23.1}, {\"datetime\": \"2013-01-06T09:00:00\", \"city\": \"San Diego\", \"temperature\": 42.2}, {\"datetime\": \"2013-01-06T09:00:00\", \"city\": \"San Francisco\", \"temperature\": 39.4}, {\"datetime\": \"2013-01-06T10:00:00\", \"city\": \"Detroit\", \"temperature\": 22.1}, {\"datetime\": \"2013-01-06T10:00:00\", \"city\": \"San Diego\", \"temperature\": 42.0}, {\"datetime\": \"2013-01-06T10:00:00\", \"city\": \"San Francisco\", \"temperature\": 38.9}, {\"datetime\": \"2013-01-06T11:00:00\", \"city\": \"Detroit\", \"temperature\": 20.8}, {\"datetime\": \"2013-01-06T11:00:00\", \"city\": \"San Diego\", \"temperature\": 42.5}, {\"datetime\": \"2013-01-06T11:00:00\", \"city\": \"San Francisco\", \"temperature\": 40.2}, {\"datetime\": \"2013-01-06T12:00:00\", \"city\": \"San Francisco\", \"temperature\": 39.5}, {\"datetime\": \"2013-01-06T12:00:00\", \"city\": \"San Diego\", \"temperature\": 40.7}, {\"datetime\": \"2013-01-06T12:00:00\", \"city\": \"Detroit\", \"temperature\": 20.4}, {\"datetime\": \"2013-01-06T13:00:00\", \"city\": \"San Francisco\", \"temperature\": 39.6}, {\"datetime\": \"2013-01-06T13:00:00\", \"city\": \"Detroit\", \"temperature\": 20.0}, {\"datetime\": \"2013-01-06T13:00:00\", \"city\": \"San Diego\", \"temperature\": 40.9}, {\"datetime\": \"2013-01-06T14:00:00\", \"city\": \"San Francisco\", \"temperature\": 40.4}, {\"datetime\": \"2013-01-06T14:00:00\", \"city\": \"Detroit\", \"temperature\": 21.3}, {\"datetime\": \"2013-01-06T14:00:00\", \"city\": \"San Diego\", \"temperature\": 40.1}, {\"datetime\": \"2013-01-06T15:00:00\", \"city\": \"Detroit\", \"temperature\": 22.7}, {\"datetime\": \"2013-01-06T15:00:00\", \"city\": \"San Diego\", \"temperature\": 41.5}, {\"datetime\": \"2013-01-06T15:00:00\", \"city\": \"San Francisco\", \"temperature\": 41.4}, {\"datetime\": \"2013-01-06T16:00:00\", \"city\": \"San Diego\", \"temperature\": 46.8}, {\"datetime\": \"2013-01-06T16:00:00\", \"city\": \"Detroit\", \"temperature\": 27.2}, {\"datetime\": \"2013-01-06T16:00:00\", \"city\": \"San Francisco\", \"temperature\": 42.6}, {\"datetime\": \"2013-01-06T17:00:00\", \"city\": \"San Diego\", \"temperature\": 54.3}, {\"datetime\": \"2013-01-06T17:00:00\", \"city\": \"Detroit\", \"temperature\": 29.3}, {\"datetime\": \"2013-01-06T17:00:00\", \"city\": \"San Francisco\", \"temperature\": 44.5}, {\"datetime\": \"2013-01-06T18:00:00\", \"city\": \"San Diego\", \"temperature\": 58.2}]}}, {\"mode\": \"vega-lite\"});\n",
       "</script>"
      ],
      "text/plain": [
       "alt.Chart(...)"
      ]
     },
     "execution_count": 44,
     "metadata": {},
     "output_type": "execute_result"
    }
   ],
   "source": [
    "c_true = alt.Chart(df3[6400:7000]).mark_line().encode(\n",
    "    x=\"datetime\",\n",
    "    y=\"temperature\",\n",
    "    color=\"city\",\n",
    "    tooltip=[\"city\", \"temperature\", \"datetime\"]\n",
    ").properties(\n",
    "    width=600\n",
    ")\n",
    "\n",
    "c_true"
   ]
  },
  {
   "cell_type": "markdown",
   "metadata": {
    "cell_id": "b66165c6c983416c9861f972cf949adf",
    "deepnote_cell_type": "markdown"
   },
   "source": [
    "## Adding Boolean columns for the cities\n",
    "\n",
    "Because the \"city\" column contains strings, we can't use it as an input when fitting a decision tree.  We will convert it to multiple Boolean indicator columns.\n",
    "\n",
    "Here are two options:\n",
    "* Use `pd.get_dummies`.\n",
    "* Use scikit-learn's `OneHotEncoder` class.\n",
    "\n",
    "I couldn't immediately get `OneHotEncoder` to work with `Pipeline` (according to ChatGPT, it seems to require yet another tool called `ColumnTransformer`), so I'm going to use the pandas option."
   ]
  },
  {
   "cell_type": "markdown",
   "metadata": {
    "cell_id": "d7aec72df23b4b2babfb28aae8278235",
    "deepnote_cell_type": "markdown"
   },
   "source": [
    "* Make a new DataFrame `df4` containing Boolean indicator columns for the \"city\" values using the pandas function `get_dummies`."
   ]
  },
  {
   "cell_type": "markdown",
   "metadata": {},
   "source": [
    "I couldn't remember the name of the keyword argument I wanted to use, so I called the following `help` function.  This reminded me that `columns` was the keyword argument I wanted to use."
   ]
  },
  {
   "cell_type": "code",
   "execution_count": 11,
   "metadata": {
    "cell_id": "ffa3d530ee604c22b26acb144a1287ef",
    "deepnote_cell_type": "code",
    "deepnote_to_be_reexecuted": false,
    "execution_millis": 28,
    "execution_start": 1685563665753,
    "source_hash": "1a0a0944",
    "tags": [
     "output_scroll"
    ]
   },
   "outputs": [
    {
     "name": "stdout",
     "output_type": "stream",
     "text": [
      "Help on function get_dummies in module pandas.core.reshape.reshape:\n",
      "\n",
      "get_dummies(data, prefix=None, prefix_sep='_', dummy_na=False, columns=None, sparse=False, drop_first=False, dtype=None) -> 'DataFrame'\n",
      "    Convert categorical variable into dummy/indicator variables.\n",
      "    \n",
      "    Parameters\n",
      "    ----------\n",
      "    data : array-like, Series, or DataFrame\n",
      "        Data of which to get dummy indicators.\n",
      "    prefix : str, list of str, or dict of str, default None\n",
      "        String to append DataFrame column names.\n",
      "        Pass a list with length equal to the number of columns\n",
      "        when calling get_dummies on a DataFrame. Alternatively, `prefix`\n",
      "        can be a dictionary mapping column names to prefixes.\n",
      "    prefix_sep : str, default '_'\n",
      "        If appending prefix, separator/delimiter to use. Or pass a\n",
      "        list or dictionary as with `prefix`.\n",
      "    dummy_na : bool, default False\n",
      "        Add a column to indicate NaNs, if False NaNs are ignored.\n",
      "    columns : list-like, default None\n",
      "        Column names in the DataFrame to be encoded.\n",
      "        If `columns` is None then all the columns with\n",
      "        `object` or `category` dtype will be converted.\n",
      "    sparse : bool, default False\n",
      "        Whether the dummy-encoded columns should be backed by\n",
      "        a :class:`SparseArray` (True) or a regular NumPy array (False).\n",
      "    drop_first : bool, default False\n",
      "        Whether to get k-1 dummies out of k categorical levels by removing the\n",
      "        first level.\n",
      "    dtype : dtype, default np.uint8\n",
      "        Data type for new columns. Only a single dtype is allowed.\n",
      "    \n",
      "    Returns\n",
      "    -------\n",
      "    DataFrame\n",
      "        Dummy-coded data.\n",
      "    \n",
      "    See Also\n",
      "    --------\n",
      "    Series.str.get_dummies : Convert Series to dummy codes.\n",
      "    \n",
      "    Examples\n",
      "    --------\n",
      "    >>> s = pd.Series(list('abca'))\n",
      "    \n",
      "    >>> pd.get_dummies(s)\n",
      "       a  b  c\n",
      "    0  1  0  0\n",
      "    1  0  1  0\n",
      "    2  0  0  1\n",
      "    3  1  0  0\n",
      "    \n",
      "    >>> s1 = ['a', 'b', np.nan]\n",
      "    \n",
      "    >>> pd.get_dummies(s1)\n",
      "       a  b\n",
      "    0  1  0\n",
      "    1  0  1\n",
      "    2  0  0\n",
      "    \n",
      "    >>> pd.get_dummies(s1, dummy_na=True)\n",
      "       a  b  NaN\n",
      "    0  1  0    0\n",
      "    1  0  1    0\n",
      "    2  0  0    1\n",
      "    \n",
      "    >>> df = pd.DataFrame({'A': ['a', 'b', 'a'], 'B': ['b', 'a', 'c'],\n",
      "    ...                    'C': [1, 2, 3]})\n",
      "    \n",
      "    >>> pd.get_dummies(df, prefix=['col1', 'col2'])\n",
      "       C  col1_a  col1_b  col2_a  col2_b  col2_c\n",
      "    0  1       1       0       0       1       0\n",
      "    1  2       0       1       1       0       0\n",
      "    2  3       1       0       0       0       1\n",
      "    \n",
      "    >>> pd.get_dummies(pd.Series(list('abcaa')))\n",
      "       a  b  c\n",
      "    0  1  0  0\n",
      "    1  0  1  0\n",
      "    2  0  0  1\n",
      "    3  1  0  0\n",
      "    4  1  0  0\n",
      "    \n",
      "    >>> pd.get_dummies(pd.Series(list('abcaa')), drop_first=True)\n",
      "       b  c\n",
      "    0  0  0\n",
      "    1  1  0\n",
      "    2  0  1\n",
      "    3  0  0\n",
      "    4  0  0\n",
      "    \n",
      "    >>> pd.get_dummies(pd.Series(list('abc')), dtype=float)\n",
      "         a    b    c\n",
      "    0  1.0  0.0  0.0\n",
      "    1  0.0  1.0  0.0\n",
      "    2  0.0  0.0  1.0\n",
      "\n"
     ]
    }
   ],
   "source": [
    "help(pd.get_dummies)"
   ]
  },
  {
   "cell_type": "markdown",
   "metadata": {},
   "source": [
    "Here is a reminder of how the top of the data looks."
   ]
  },
  {
   "cell_type": "code",
   "execution_count": 14,
   "metadata": {
    "cell_id": "053eb3c3c10a4fabb5ad59a1c53a531e",
    "deepnote_cell_type": "code",
    "deepnote_to_be_reexecuted": false,
    "execution_millis": 4,
    "execution_start": 1685563726801,
    "source_hash": "e840ac5f"
   },
   "outputs": [
    {
     "data": {
      "application/vnd.deepnote.dataframe.v3+json": {
       "column_count": 3,
       "columns": [
        {
         "dtype": "datetime64[ns]",
         "name": "datetime",
         "stats": {
          "histogram": [
           {
            "bin_end": 1349096760000000000,
            "bin_start": 1349096400000000000,
            "count": 3
           },
           {
            "bin_end": 1349097120000000000,
            "bin_start": 1349096760000000000,
            "count": 0
           },
           {
            "bin_end": 1349097480000000000,
            "bin_start": 1349097120000000000,
            "count": 0
           },
           {
            "bin_end": 1349097840000000000,
            "bin_start": 1349097480000000000,
            "count": 0
           },
           {
            "bin_end": 1349098200000000000,
            "bin_start": 1349097840000000000,
            "count": 0
           },
           {
            "bin_end": 1349098560000000000,
            "bin_start": 1349098200000000000,
            "count": 0
           },
           {
            "bin_end": 1349098920000000000,
            "bin_start": 1349098560000000000,
            "count": 0
           },
           {
            "bin_end": 1349099280000000000,
            "bin_start": 1349098920000000000,
            "count": 0
           },
           {
            "bin_end": 1349099640000000000,
            "bin_start": 1349099280000000000,
            "count": 0
           },
           {
            "bin_end": 1349100000000000000,
            "bin_start": 1349099640000000000,
            "count": 1
           }
          ],
          "max": "2012-10-01 14:00:00",
          "min": "2012-10-01 13:00:00",
          "nan_count": 0,
          "unique_count": 2
         }
        },
        {
         "dtype": "object",
         "name": "city",
         "stats": {
          "categories": [
           {
            "count": 2,
            "name": "Detroit"
           },
           {
            "count": 1,
            "name": "San Francisco"
           },
           {
            "count": 1,
            "name": "San Diego"
           }
          ],
          "nan_count": 0,
          "unique_count": 3
         }
        },
        {
         "dtype": "float64",
         "name": "temperature",
         "stats": {
          "histogram": [
           {
            "bin_end": 52.95,
            "bin_start": 51.6,
            "count": 2
           },
           {
            "bin_end": 54.3,
            "bin_start": 52.95,
            "count": 0
           },
           {
            "bin_end": 55.65,
            "bin_start": 54.3,
            "count": 0
           },
           {
            "bin_end": 57,
            "bin_start": 55.65,
            "count": 0
           },
           {
            "bin_end": 58.349999999999994,
            "bin_start": 57,
            "count": 0
           },
           {
            "bin_end": 59.699999999999996,
            "bin_start": 58.349999999999994,
            "count": 0
           },
           {
            "bin_end": 61.05,
            "bin_start": 59.699999999999996,
            "count": 0
           },
           {
            "bin_end": 62.39999999999999,
            "bin_start": 61.05,
            "count": 1
           },
           {
            "bin_end": 63.74999999999999,
            "bin_start": 62.39999999999999,
            "count": 0
           },
           {
            "bin_end": 65.1,
            "bin_start": 63.74999999999999,
            "count": 1
           }
          ],
          "max": "65.1",
          "min": "51.6",
          "nan_count": 0,
          "unique_count": 4
         }
        },
        {
         "dtype": "int64",
         "name": "_deepnote_index_column"
        }
       ],
       "row_count": 4,
       "rows": [
        {
         "_deepnote_index_column": 90504,
         "city": "San Francisco",
         "datetime": "2012-10-01 13:00:00",
         "temperature": 61.4
        },
        {
         "_deepnote_index_column": 226260,
         "city": "San Diego",
         "datetime": "2012-10-01 13:00:00",
         "temperature": 65.1
        },
        {
         "_deepnote_index_column": 905040,
         "city": "Detroit",
         "datetime": "2012-10-01 13:00:00",
         "temperature": 51.6
        },
        {
         "_deepnote_index_column": 905041,
         "city": "Detroit",
         "datetime": "2012-10-01 14:00:00",
         "temperature": 51.7
        }
       ]
      },
      "text/html": [
       "<div>\n",
       "<style scoped>\n",
       "    .dataframe tbody tr th:only-of-type {\n",
       "        vertical-align: middle;\n",
       "    }\n",
       "\n",
       "    .dataframe tbody tr th {\n",
       "        vertical-align: top;\n",
       "    }\n",
       "\n",
       "    .dataframe thead th {\n",
       "        text-align: right;\n",
       "    }\n",
       "</style>\n",
       "<table border=\"1\" class=\"dataframe\">\n",
       "  <thead>\n",
       "    <tr style=\"text-align: right;\">\n",
       "      <th></th>\n",
       "      <th>datetime</th>\n",
       "      <th>city</th>\n",
       "      <th>temperature</th>\n",
       "    </tr>\n",
       "  </thead>\n",
       "  <tbody>\n",
       "    <tr>\n",
       "      <th>90504</th>\n",
       "      <td>2012-10-01 13:00:00</td>\n",
       "      <td>San Francisco</td>\n",
       "      <td>61.4</td>\n",
       "    </tr>\n",
       "    <tr>\n",
       "      <th>226260</th>\n",
       "      <td>2012-10-01 13:00:00</td>\n",
       "      <td>San Diego</td>\n",
       "      <td>65.1</td>\n",
       "    </tr>\n",
       "    <tr>\n",
       "      <th>905040</th>\n",
       "      <td>2012-10-01 13:00:00</td>\n",
       "      <td>Detroit</td>\n",
       "      <td>51.6</td>\n",
       "    </tr>\n",
       "    <tr>\n",
       "      <th>905041</th>\n",
       "      <td>2012-10-01 14:00:00</td>\n",
       "      <td>Detroit</td>\n",
       "      <td>51.7</td>\n",
       "    </tr>\n",
       "  </tbody>\n",
       "</table>\n",
       "</div>"
      ],
      "text/plain": [
       "                  datetime           city  temperature\n",
       "90504  2012-10-01 13:00:00  San Francisco         61.4\n",
       "226260 2012-10-01 13:00:00      San Diego         65.1\n",
       "905040 2012-10-01 13:00:00        Detroit         51.6\n",
       "905041 2012-10-01 14:00:00        Detroit         51.7"
      ]
     },
     "execution_count": 14,
     "metadata": {},
     "output_type": "execute_result"
    }
   ],
   "source": [
    "df3.head(4)"
   ]
  },
  {
   "cell_type": "markdown",
   "metadata": {},
   "source": [
    "Here is the result of calling the `get_dummies` function for the \"city\" column.  This is a common procedure in Machine Learning.  We have a column with data we want to use as an input (in this case, we want to use the city), but we aren't able to because the data is not numeric.  Here we add a column for each city, indicating if the row corresponded to that particular city.  For example, notice that our DataFrame begins \"not Detroit\", \"not Detroit\", \"Detroit\", \"Detroit\".  This corresponds to the \"city_Detroit\" column beginning `[0, 0, 1, 1]`.  I think of this as being equivalent to `[False, False, True, True]`.\n",
    "\n",
    "The main point is that we can use these three new columns as inputs to our Machine Learning algorithm."
   ]
  },
  {
   "cell_type": "code",
   "execution_count": 12,
   "metadata": {
    "cell_id": "fce472bb964b405cad15ce6db6a97c80",
    "deepnote_cell_type": "code",
    "deepnote_to_be_reexecuted": false,
    "execution_millis": 28,
    "execution_start": 1685563707388,
    "source_hash": "f9b7eefa",
    "tags": [
     "output_scroll"
    ]
   },
   "outputs": [
    {
     "data": {
      "application/vnd.deepnote.dataframe.v3+json": {
       "column_count": 5,
       "columns": [
        {
         "dtype": "datetime64[ns]",
         "name": "datetime"
        },
        {
         "dtype": "float64",
         "name": "temperature"
        },
        {
         "dtype": "uint8",
         "name": "city_Detroit"
        },
        {
         "dtype": "uint8",
         "name": "city_San Diego"
        },
        {
         "dtype": "uint8",
         "name": "city_San Francisco"
        },
        {
         "dtype": "int64",
         "name": "_deepnote_index_column"
        }
       ],
       "row_count": 134964,
       "rows": [
        {
         "_deepnote_index_column": 90504,
         "city_Detroit": 0,
         "city_San Diego": 0,
         "city_San Francisco": 1,
         "datetime": "2012-10-01 13:00:00",
         "temperature": 61.4
        },
        {
         "_deepnote_index_column": 226260,
         "city_Detroit": 0,
         "city_San Diego": 1,
         "city_San Francisco": 0,
         "datetime": "2012-10-01 13:00:00",
         "temperature": 65.1
        },
        {
         "_deepnote_index_column": 905040,
         "city_Detroit": 1,
         "city_San Diego": 0,
         "city_San Francisco": 0,
         "datetime": "2012-10-01 13:00:00",
         "temperature": 51.6
        },
        {
         "_deepnote_index_column": 905041,
         "city_Detroit": 1,
         "city_San Diego": 0,
         "city_San Francisco": 0,
         "datetime": "2012-10-01 14:00:00",
         "temperature": 51.7
        },
        {
         "_deepnote_index_column": 90505,
         "city_Detroit": 0,
         "city_San Diego": 0,
         "city_San Francisco": 1,
         "datetime": "2012-10-01 14:00:00",
         "temperature": 61.4
        },
        {
         "_deepnote_index_column": 226261,
         "city_Detroit": 0,
         "city_San Diego": 1,
         "city_San Francisco": 0,
         "datetime": "2012-10-01 14:00:00",
         "temperature": 65.1
        },
        {
         "_deepnote_index_column": 226262,
         "city_Detroit": 0,
         "city_San Diego": 1,
         "city_San Francisco": 0,
         "datetime": "2012-10-01 15:00:00",
         "temperature": 65.1
        },
        {
         "_deepnote_index_column": 90506,
         "city_Detroit": 0,
         "city_San Diego": 0,
         "city_San Francisco": 1,
         "datetime": "2012-10-01 15:00:00",
         "temperature": 61.4
        },
        {
         "_deepnote_index_column": 905042,
         "city_Detroit": 1,
         "city_San Diego": 0,
         "city_San Francisco": 0,
         "datetime": "2012-10-01 15:00:00",
         "temperature": 51.8
        },
        {
         "_deepnote_index_column": 226263,
         "city_Detroit": 0,
         "city_San Diego": 1,
         "city_San Francisco": 0,
         "datetime": "2012-10-01 16:00:00",
         "temperature": 65.1
        }
       ]
      },
      "text/html": [
       "<div>\n",
       "<style scoped>\n",
       "    .dataframe tbody tr th:only-of-type {\n",
       "        vertical-align: middle;\n",
       "    }\n",
       "\n",
       "    .dataframe tbody tr th {\n",
       "        vertical-align: top;\n",
       "    }\n",
       "\n",
       "    .dataframe thead th {\n",
       "        text-align: right;\n",
       "    }\n",
       "</style>\n",
       "<table border=\"1\" class=\"dataframe\">\n",
       "  <thead>\n",
       "    <tr style=\"text-align: right;\">\n",
       "      <th></th>\n",
       "      <th>datetime</th>\n",
       "      <th>temperature</th>\n",
       "      <th>city_Detroit</th>\n",
       "      <th>city_San Diego</th>\n",
       "      <th>city_San Francisco</th>\n",
       "    </tr>\n",
       "  </thead>\n",
       "  <tbody>\n",
       "    <tr>\n",
       "      <th>90504</th>\n",
       "      <td>2012-10-01 13:00:00</td>\n",
       "      <td>61.4</td>\n",
       "      <td>0</td>\n",
       "      <td>0</td>\n",
       "      <td>1</td>\n",
       "    </tr>\n",
       "    <tr>\n",
       "      <th>226260</th>\n",
       "      <td>2012-10-01 13:00:00</td>\n",
       "      <td>65.1</td>\n",
       "      <td>0</td>\n",
       "      <td>1</td>\n",
       "      <td>0</td>\n",
       "    </tr>\n",
       "    <tr>\n",
       "      <th>905040</th>\n",
       "      <td>2012-10-01 13:00:00</td>\n",
       "      <td>51.6</td>\n",
       "      <td>1</td>\n",
       "      <td>0</td>\n",
       "      <td>0</td>\n",
       "    </tr>\n",
       "    <tr>\n",
       "      <th>905041</th>\n",
       "      <td>2012-10-01 14:00:00</td>\n",
       "      <td>51.7</td>\n",
       "      <td>1</td>\n",
       "      <td>0</td>\n",
       "      <td>0</td>\n",
       "    </tr>\n",
       "    <tr>\n",
       "      <th>90505</th>\n",
       "      <td>2012-10-01 14:00:00</td>\n",
       "      <td>61.4</td>\n",
       "      <td>0</td>\n",
       "      <td>0</td>\n",
       "      <td>1</td>\n",
       "    </tr>\n",
       "    <tr>\n",
       "      <th>...</th>\n",
       "      <td>...</td>\n",
       "      <td>...</td>\n",
       "      <td>...</td>\n",
       "      <td>...</td>\n",
       "      <td>...</td>\n",
       "    </tr>\n",
       "    <tr>\n",
       "      <th>271509</th>\n",
       "      <td>2017-11-29 22:00:00</td>\n",
       "      <td>67.0</td>\n",
       "      <td>0</td>\n",
       "      <td>1</td>\n",
       "      <td>0</td>\n",
       "    </tr>\n",
       "    <tr>\n",
       "      <th>950290</th>\n",
       "      <td>2017-11-29 23:00:00</td>\n",
       "      <td>40.8</td>\n",
       "      <td>1</td>\n",
       "      <td>0</td>\n",
       "      <td>0</td>\n",
       "    </tr>\n",
       "    <tr>\n",
       "      <th>271510</th>\n",
       "      <td>2017-11-29 23:00:00</td>\n",
       "      <td>67.0</td>\n",
       "      <td>0</td>\n",
       "      <td>1</td>\n",
       "      <td>0</td>\n",
       "    </tr>\n",
       "    <tr>\n",
       "      <th>271511</th>\n",
       "      <td>2017-11-30 00:00:00</td>\n",
       "      <td>64.8</td>\n",
       "      <td>0</td>\n",
       "      <td>1</td>\n",
       "      <td>0</td>\n",
       "    </tr>\n",
       "    <tr>\n",
       "      <th>950291</th>\n",
       "      <td>2017-11-30 00:00:00</td>\n",
       "      <td>38.2</td>\n",
       "      <td>1</td>\n",
       "      <td>0</td>\n",
       "      <td>0</td>\n",
       "    </tr>\n",
       "  </tbody>\n",
       "</table>\n",
       "<p>134964 rows × 5 columns</p>\n",
       "</div>"
      ],
      "text/plain": [
       "                  datetime  temperature  city_Detroit  city_San Diego  \\\n",
       "90504  2012-10-01 13:00:00         61.4             0               0   \n",
       "226260 2012-10-01 13:00:00         65.1             0               1   \n",
       "905040 2012-10-01 13:00:00         51.6             1               0   \n",
       "905041 2012-10-01 14:00:00         51.7             1               0   \n",
       "90505  2012-10-01 14:00:00         61.4             0               0   \n",
       "...                    ...          ...           ...             ...   \n",
       "271509 2017-11-29 22:00:00         67.0             0               1   \n",
       "950290 2017-11-29 23:00:00         40.8             1               0   \n",
       "271510 2017-11-29 23:00:00         67.0             0               1   \n",
       "271511 2017-11-30 00:00:00         64.8             0               1   \n",
       "950291 2017-11-30 00:00:00         38.2             1               0   \n",
       "\n",
       "        city_San Francisco  \n",
       "90504                    1  \n",
       "226260                   0  \n",
       "905040                   0  \n",
       "905041                   0  \n",
       "90505                    1  \n",
       "...                    ...  \n",
       "271509                   0  \n",
       "950290                   0  \n",
       "271510                   0  \n",
       "271511                   0  \n",
       "950291                   0  \n",
       "\n",
       "[134964 rows x 5 columns]"
      ]
     },
     "execution_count": 12,
     "metadata": {},
     "output_type": "execute_result"
    }
   ],
   "source": [
    "pd.get_dummies(df3, columns=[\"city\"])"
   ]
  },
  {
   "cell_type": "markdown",
   "metadata": {},
   "source": [
    "We are doing the same thing in the next cell, the only difference being that we save the result with the variable name `df4`."
   ]
  },
  {
   "cell_type": "code",
   "execution_count": 15,
   "metadata": {
    "cell_id": "0fedf33586ea4403893dd413b00738c8",
    "deepnote_cell_type": "code",
    "deepnote_to_be_reexecuted": false,
    "execution_millis": 3,
    "execution_start": 1685563837504,
    "source_hash": "92921c86"
   },
   "outputs": [],
   "source": [
    "df4 = pd.get_dummies(df3, columns=[\"city\"])"
   ]
  },
  {
   "cell_type": "markdown",
   "metadata": {
    "cell_id": "b86e9ac1c6a240bd9c031c25aed70895",
    "deepnote_cell_type": "markdown"
   },
   "source": [
    "* Make a list `city_cols` containing the three new column names we just added.\n",
    "\n",
    "Here is how we can make that list using list comprehension."
   ]
  },
  {
   "cell_type": "code",
   "execution_count": 16,
   "metadata": {
    "cell_id": "64d660abfb314bae9130f4d910f1f884",
    "deepnote_cell_type": "code",
    "deepnote_to_be_reexecuted": false,
    "execution_millis": 4,
    "execution_start": 1685563979149,
    "source_hash": "57e76d33"
   },
   "outputs": [
    {
     "data": {
      "text/plain": [
       "['city_Detroit', 'city_San Diego', 'city_San Francisco']"
      ]
     },
     "execution_count": 16,
     "metadata": {},
     "output_type": "execute_result"
    }
   ],
   "source": [
    "city_cols = [c for c in df4.columns if c.startswith(\"city_\")]\n",
    "city_cols"
   ]
  },
  {
   "cell_type": "markdown",
   "metadata": {},
   "source": [
    "The following alternative approach doesn't seem as robust, because we need to know there are three columns, and we need to know they're at the end of the DataFrame.  On the other hand, with the following approach, we don't need to know that the column names start with `\"city_\"`."
   ]
  },
  {
   "cell_type": "code",
   "execution_count": 17,
   "metadata": {
    "cell_id": "c93a346ee89f435197f159fecfffbf3a",
    "deepnote_cell_type": "code",
    "deepnote_to_be_reexecuted": false,
    "execution_millis": 3,
    "execution_start": 1685564005975,
    "source_hash": "f3610ad3"
   },
   "outputs": [
    {
     "data": {
      "text/plain": [
       "Index(['city_Detroit', 'city_San Diego', 'city_San Francisco'], dtype='object')"
      ]
     },
     "execution_count": 17,
     "metadata": {},
     "output_type": "execute_result"
    }
   ],
   "source": [
    "df4.columns[-3:]"
   ]
  },
  {
   "cell_type": "markdown",
   "metadata": {
    "cell_id": "11d41fe0a80849a3ae7e12ef29f4ba3a",
    "deepnote_cell_type": "markdown"
   },
   "source": [
    "* Add the \"city\" column back in (so we can use it with plotting) using `pd.concat` with an appropriate `axis` keyword argument.  Name the resulting DataFrame `df_ext` (for \"extended\")."
   ]
  },
  {
   "cell_type": "markdown",
   "metadata": {},
   "source": [
    "Unfortunately the following error is a little difficult to interpret.  It is implying that `df3[[\"city\"]]` is being treated like an `axis` argument."
   ]
  },
  {
   "cell_type": "code",
   "execution_count": 18,
   "metadata": {
    "cell_id": "c49d59bf8a774b33a3712f00625581d4",
    "deepnote_cell_type": "code",
    "deepnote_to_be_reexecuted": false,
    "execution_millis": 4,
    "execution_start": 1685564110575,
    "source_hash": "98234e4f"
   },
   "outputs": [
    {
     "ename": "TypeError",
     "evalue": "concat() got multiple values for argument 'axis'",
     "output_type": "error",
     "traceback": [
      "\u001b[0;31m---------------------------------------------------------------------------\u001b[0m",
      "\u001b[0;31mTypeError\u001b[0m                                 Traceback (most recent call last)",
      "\u001b[0;32m/tmp/ipykernel_106/1418832173.py\u001b[0m in \u001b[0;36m<module>\u001b[0;34m\u001b[0m\n\u001b[0;32m----> 1\u001b[0;31m \u001b[0mpd\u001b[0m\u001b[0;34m.\u001b[0m\u001b[0mconcat\u001b[0m\u001b[0;34m(\u001b[0m\u001b[0mdf4\u001b[0m\u001b[0;34m,\u001b[0m \u001b[0mdf3\u001b[0m\u001b[0;34m[\u001b[0m\u001b[0;34m[\u001b[0m\u001b[0;34m\"city\"\u001b[0m\u001b[0;34m]\u001b[0m\u001b[0;34m]\u001b[0m\u001b[0;34m,\u001b[0m \u001b[0maxis\u001b[0m\u001b[0;34m=\u001b[0m\u001b[0;36m1\u001b[0m\u001b[0;34m)\u001b[0m\u001b[0;34m\u001b[0m\u001b[0;34m\u001b[0m\u001b[0m\n\u001b[0m",
      "\u001b[0;31mTypeError\u001b[0m: concat() got multiple values for argument 'axis'"
     ]
    }
   ],
   "source": [
    "pd.concat(df4, df3[[\"city\"]], axis=1)"
   ]
  },
  {
   "cell_type": "markdown",
   "metadata": {},
   "source": [
    "The DataFrames we want to merge together are supposed to be grouped together, for example in a list or a tuple.  Here we put them into a tuple.\n",
    "\n",
    "Notice also that we use the keyword argument `axis=1`, because we are changing the column labels and keeping the row labels the same.  (We are including a new column label, the label \"city\".)"
   ]
  },
  {
   "cell_type": "code",
   "execution_count": 19,
   "metadata": {
    "cell_id": "5ca411cef33241f29a5bfbc13526666a",
    "deepnote_cell_type": "code",
    "deepnote_to_be_reexecuted": false,
    "execution_millis": 25,
    "execution_start": 1685564139983,
    "source_hash": "68fdce9f",
    "tags": [
     "output_scroll"
    ]
   },
   "outputs": [
    {
     "data": {
      "application/vnd.deepnote.dataframe.v3+json": {
       "column_count": 6,
       "columns": [
        {
         "dtype": "datetime64[ns]",
         "name": "datetime"
        },
        {
         "dtype": "float64",
         "name": "temperature"
        },
        {
         "dtype": "uint8",
         "name": "city_Detroit"
        },
        {
         "dtype": "uint8",
         "name": "city_San Diego"
        },
        {
         "dtype": "uint8",
         "name": "city_San Francisco"
        },
        {
         "dtype": "object",
         "name": "city"
        },
        {
         "dtype": "int64",
         "name": "_deepnote_index_column"
        }
       ],
       "row_count": 134964,
       "rows": [
        {
         "_deepnote_index_column": 90504,
         "city": "San Francisco",
         "city_Detroit": 0,
         "city_San Diego": 0,
         "city_San Francisco": 1,
         "datetime": "2012-10-01 13:00:00",
         "temperature": 61.4
        },
        {
         "_deepnote_index_column": 226260,
         "city": "San Diego",
         "city_Detroit": 0,
         "city_San Diego": 1,
         "city_San Francisco": 0,
         "datetime": "2012-10-01 13:00:00",
         "temperature": 65.1
        },
        {
         "_deepnote_index_column": 905040,
         "city": "Detroit",
         "city_Detroit": 1,
         "city_San Diego": 0,
         "city_San Francisco": 0,
         "datetime": "2012-10-01 13:00:00",
         "temperature": 51.6
        },
        {
         "_deepnote_index_column": 905041,
         "city": "Detroit",
         "city_Detroit": 1,
         "city_San Diego": 0,
         "city_San Francisco": 0,
         "datetime": "2012-10-01 14:00:00",
         "temperature": 51.7
        },
        {
         "_deepnote_index_column": 90505,
         "city": "San Francisco",
         "city_Detroit": 0,
         "city_San Diego": 0,
         "city_San Francisco": 1,
         "datetime": "2012-10-01 14:00:00",
         "temperature": 61.4
        },
        {
         "_deepnote_index_column": 226261,
         "city": "San Diego",
         "city_Detroit": 0,
         "city_San Diego": 1,
         "city_San Francisco": 0,
         "datetime": "2012-10-01 14:00:00",
         "temperature": 65.1
        },
        {
         "_deepnote_index_column": 226262,
         "city": "San Diego",
         "city_Detroit": 0,
         "city_San Diego": 1,
         "city_San Francisco": 0,
         "datetime": "2012-10-01 15:00:00",
         "temperature": 65.1
        },
        {
         "_deepnote_index_column": 90506,
         "city": "San Francisco",
         "city_Detroit": 0,
         "city_San Diego": 0,
         "city_San Francisco": 1,
         "datetime": "2012-10-01 15:00:00",
         "temperature": 61.4
        },
        {
         "_deepnote_index_column": 905042,
         "city": "Detroit",
         "city_Detroit": 1,
         "city_San Diego": 0,
         "city_San Francisco": 0,
         "datetime": "2012-10-01 15:00:00",
         "temperature": 51.8
        },
        {
         "_deepnote_index_column": 226263,
         "city": "San Diego",
         "city_Detroit": 0,
         "city_San Diego": 1,
         "city_San Francisco": 0,
         "datetime": "2012-10-01 16:00:00",
         "temperature": 65.1
        }
       ]
      },
      "text/html": [
       "<div>\n",
       "<style scoped>\n",
       "    .dataframe tbody tr th:only-of-type {\n",
       "        vertical-align: middle;\n",
       "    }\n",
       "\n",
       "    .dataframe tbody tr th {\n",
       "        vertical-align: top;\n",
       "    }\n",
       "\n",
       "    .dataframe thead th {\n",
       "        text-align: right;\n",
       "    }\n",
       "</style>\n",
       "<table border=\"1\" class=\"dataframe\">\n",
       "  <thead>\n",
       "    <tr style=\"text-align: right;\">\n",
       "      <th></th>\n",
       "      <th>datetime</th>\n",
       "      <th>temperature</th>\n",
       "      <th>city_Detroit</th>\n",
       "      <th>city_San Diego</th>\n",
       "      <th>city_San Francisco</th>\n",
       "      <th>city</th>\n",
       "    </tr>\n",
       "  </thead>\n",
       "  <tbody>\n",
       "    <tr>\n",
       "      <th>90504</th>\n",
       "      <td>2012-10-01 13:00:00</td>\n",
       "      <td>61.4</td>\n",
       "      <td>0</td>\n",
       "      <td>0</td>\n",
       "      <td>1</td>\n",
       "      <td>San Francisco</td>\n",
       "    </tr>\n",
       "    <tr>\n",
       "      <th>226260</th>\n",
       "      <td>2012-10-01 13:00:00</td>\n",
       "      <td>65.1</td>\n",
       "      <td>0</td>\n",
       "      <td>1</td>\n",
       "      <td>0</td>\n",
       "      <td>San Diego</td>\n",
       "    </tr>\n",
       "    <tr>\n",
       "      <th>905040</th>\n",
       "      <td>2012-10-01 13:00:00</td>\n",
       "      <td>51.6</td>\n",
       "      <td>1</td>\n",
       "      <td>0</td>\n",
       "      <td>0</td>\n",
       "      <td>Detroit</td>\n",
       "    </tr>\n",
       "    <tr>\n",
       "      <th>905041</th>\n",
       "      <td>2012-10-01 14:00:00</td>\n",
       "      <td>51.7</td>\n",
       "      <td>1</td>\n",
       "      <td>0</td>\n",
       "      <td>0</td>\n",
       "      <td>Detroit</td>\n",
       "    </tr>\n",
       "    <tr>\n",
       "      <th>90505</th>\n",
       "      <td>2012-10-01 14:00:00</td>\n",
       "      <td>61.4</td>\n",
       "      <td>0</td>\n",
       "      <td>0</td>\n",
       "      <td>1</td>\n",
       "      <td>San Francisco</td>\n",
       "    </tr>\n",
       "    <tr>\n",
       "      <th>...</th>\n",
       "      <td>...</td>\n",
       "      <td>...</td>\n",
       "      <td>...</td>\n",
       "      <td>...</td>\n",
       "      <td>...</td>\n",
       "      <td>...</td>\n",
       "    </tr>\n",
       "    <tr>\n",
       "      <th>271509</th>\n",
       "      <td>2017-11-29 22:00:00</td>\n",
       "      <td>67.0</td>\n",
       "      <td>0</td>\n",
       "      <td>1</td>\n",
       "      <td>0</td>\n",
       "      <td>San Diego</td>\n",
       "    </tr>\n",
       "    <tr>\n",
       "      <th>950290</th>\n",
       "      <td>2017-11-29 23:00:00</td>\n",
       "      <td>40.8</td>\n",
       "      <td>1</td>\n",
       "      <td>0</td>\n",
       "      <td>0</td>\n",
       "      <td>Detroit</td>\n",
       "    </tr>\n",
       "    <tr>\n",
       "      <th>271510</th>\n",
       "      <td>2017-11-29 23:00:00</td>\n",
       "      <td>67.0</td>\n",
       "      <td>0</td>\n",
       "      <td>1</td>\n",
       "      <td>0</td>\n",
       "      <td>San Diego</td>\n",
       "    </tr>\n",
       "    <tr>\n",
       "      <th>271511</th>\n",
       "      <td>2017-11-30 00:00:00</td>\n",
       "      <td>64.8</td>\n",
       "      <td>0</td>\n",
       "      <td>1</td>\n",
       "      <td>0</td>\n",
       "      <td>San Diego</td>\n",
       "    </tr>\n",
       "    <tr>\n",
       "      <th>950291</th>\n",
       "      <td>2017-11-30 00:00:00</td>\n",
       "      <td>38.2</td>\n",
       "      <td>1</td>\n",
       "      <td>0</td>\n",
       "      <td>0</td>\n",
       "      <td>Detroit</td>\n",
       "    </tr>\n",
       "  </tbody>\n",
       "</table>\n",
       "<p>134964 rows × 6 columns</p>\n",
       "</div>"
      ],
      "text/plain": [
       "                  datetime  temperature  city_Detroit  city_San Diego  \\\n",
       "90504  2012-10-01 13:00:00         61.4             0               0   \n",
       "226260 2012-10-01 13:00:00         65.1             0               1   \n",
       "905040 2012-10-01 13:00:00         51.6             1               0   \n",
       "905041 2012-10-01 14:00:00         51.7             1               0   \n",
       "90505  2012-10-01 14:00:00         61.4             0               0   \n",
       "...                    ...          ...           ...             ...   \n",
       "271509 2017-11-29 22:00:00         67.0             0               1   \n",
       "950290 2017-11-29 23:00:00         40.8             1               0   \n",
       "271510 2017-11-29 23:00:00         67.0             0               1   \n",
       "271511 2017-11-30 00:00:00         64.8             0               1   \n",
       "950291 2017-11-30 00:00:00         38.2             1               0   \n",
       "\n",
       "        city_San Francisco           city  \n",
       "90504                    1  San Francisco  \n",
       "226260                   0      San Diego  \n",
       "905040                   0        Detroit  \n",
       "905041                   0        Detroit  \n",
       "90505                    1  San Francisco  \n",
       "...                    ...            ...  \n",
       "271509                   0      San Diego  \n",
       "950290                   0        Detroit  \n",
       "271510                   0      San Diego  \n",
       "271511                   0      San Diego  \n",
       "950291                   0        Detroit  \n",
       "\n",
       "[134964 rows x 6 columns]"
      ]
     },
     "execution_count": 19,
     "metadata": {},
     "output_type": "execute_result"
    }
   ],
   "source": [
    "df_ext = pd.concat((df4, df3[[\"city\"]]), axis=1)\n",
    "df_ext"
   ]
  },
  {
   "cell_type": "markdown",
   "metadata": {
    "cell_id": "49ca953e711445c99206d6e64e595ed7",
    "deepnote_cell_type": "markdown"
   },
   "source": [
    "## Adding numeric columns related to \"datetime\"\n",
    "\n",
    "We also want to be able to use the month, the hour, etc, as inputs to our decision tree.  We add these as new columns to a DataFrame.  Notice that we are are using numbers (from `day_of_week`), like `0`, rather than strings (from `day_name()`) like `\"Monday\"`."
   ]
  },
  {
   "cell_type": "markdown",
   "metadata": {
    "cell_id": "94760b8d03bf41b9b79ec3e338a1ed72",
    "deepnote_cell_type": "markdown"
   },
   "source": [
    "* Define `df` to be a copy of `df_ext`.\n",
    "\n",
    "(Why are we using all these different names, like `df1`, `df2`, `df_ext`, ...?  This way if we make a mistake at one step, we don't destroy the preceding DataFrame.  If I were preparing a finalized version of this notebook, I would probably call all of them `df`.  If we were to use `df = df_ext` instead of `df = df_ext.copy()`, that would not work, because for example adding a column to `df` would add a column to `df_ext` at the same time.)"
   ]
  },
  {
   "cell_type": "code",
   "execution_count": 20,
   "metadata": {
    "cell_id": "dc25ddcf6a7246f692bf7756ae941531",
    "deepnote_cell_type": "code",
    "deepnote_to_be_reexecuted": false,
    "execution_millis": 4,
    "execution_start": 1685564257664,
    "source_hash": "58ee7932"
   },
   "outputs": [],
   "source": [
    "df = df_ext.copy()"
   ]
  },
  {
   "cell_type": "markdown",
   "metadata": {
    "cell_id": "a4e92f759fa24b288ff527692ec9e189",
    "deepnote_cell_type": "markdown"
   },
   "source": [
    "* For each of the following `df[\"datetime\"].dt` attributes, add a corresponding column to `df`.  Notice that the results are numeric.\n",
    "\n",
    "```\n",
    "var_cols = [\"year\", \"day\", \"month\", \"hour\", \"day_of_week\"]\n",
    "```\n",
    "\n",
    "Here is an example of what we want to do, but how can we do this with less repetition."
   ]
  },
  {
   "cell_type": "code",
   "execution_count": 24,
   "metadata": {
    "cell_id": "ca3a864d712e4dd397764d9e40590f0e",
    "deepnote_cell_type": "code",
    "deepnote_to_be_reexecuted": false,
    "execution_millis": 15,
    "execution_start": 1685564400447,
    "source_hash": "a0d19fff"
   },
   "outputs": [],
   "source": [
    "df[\"day\"] = df[\"datetime\"].dt.day\n",
    "df[\"month\"] = df[\"datetime\"].dt.month"
   ]
  },
  {
   "cell_type": "markdown",
   "metadata": {},
   "source": [
    "Notice for example how these dates at the top of the DataFrame `df` are in October, and our new \"month\" column starts with `10`."
   ]
  },
  {
   "cell_type": "code",
   "execution_count": 25,
   "metadata": {
    "cell_id": "e05509b828e9423ca8c6f7825bc685da",
    "deepnote_cell_type": "code",
    "deepnote_to_be_reexecuted": false,
    "execution_millis": 17,
    "execution_start": 1685564401639,
    "source_hash": "3a19cd9f"
   },
   "outputs": [
    {
     "data": {
      "application/vnd.deepnote.dataframe.v3+json": {
       "column_count": 8,
       "columns": [
        {
         "dtype": "datetime64[ns]",
         "name": "datetime",
         "stats": {
          "histogram": [
           {
            "bin_end": 1349096760000000000,
            "bin_start": 1349096400000000000,
            "count": 3
           },
           {
            "bin_end": 1349097120000000000,
            "bin_start": 1349096760000000000,
            "count": 0
           },
           {
            "bin_end": 1349097480000000000,
            "bin_start": 1349097120000000000,
            "count": 0
           },
           {
            "bin_end": 1349097840000000000,
            "bin_start": 1349097480000000000,
            "count": 0
           },
           {
            "bin_end": 1349098200000000000,
            "bin_start": 1349097840000000000,
            "count": 0
           },
           {
            "bin_end": 1349098560000000000,
            "bin_start": 1349098200000000000,
            "count": 0
           },
           {
            "bin_end": 1349098920000000000,
            "bin_start": 1349098560000000000,
            "count": 0
           },
           {
            "bin_end": 1349099280000000000,
            "bin_start": 1349098920000000000,
            "count": 0
           },
           {
            "bin_end": 1349099640000000000,
            "bin_start": 1349099280000000000,
            "count": 0
           },
           {
            "bin_end": 1349100000000000000,
            "bin_start": 1349099640000000000,
            "count": 1
           }
          ],
          "max": "2012-10-01 14:00:00",
          "min": "2012-10-01 13:00:00",
          "nan_count": 0,
          "unique_count": 2
         }
        },
        {
         "dtype": "float64",
         "name": "temperature",
         "stats": {
          "histogram": [
           {
            "bin_end": 52.95,
            "bin_start": 51.6,
            "count": 2
           },
           {
            "bin_end": 54.3,
            "bin_start": 52.95,
            "count": 0
           },
           {
            "bin_end": 55.65,
            "bin_start": 54.3,
            "count": 0
           },
           {
            "bin_end": 57,
            "bin_start": 55.65,
            "count": 0
           },
           {
            "bin_end": 58.349999999999994,
            "bin_start": 57,
            "count": 0
           },
           {
            "bin_end": 59.699999999999996,
            "bin_start": 58.349999999999994,
            "count": 0
           },
           {
            "bin_end": 61.05,
            "bin_start": 59.699999999999996,
            "count": 0
           },
           {
            "bin_end": 62.39999999999999,
            "bin_start": 61.05,
            "count": 1
           },
           {
            "bin_end": 63.74999999999999,
            "bin_start": 62.39999999999999,
            "count": 0
           },
           {
            "bin_end": 65.1,
            "bin_start": 63.74999999999999,
            "count": 1
           }
          ],
          "max": "65.1",
          "min": "51.6",
          "nan_count": 0,
          "unique_count": 4
         }
        },
        {
         "dtype": "uint8",
         "name": "city_Detroit",
         "stats": {
          "histogram": [
           {
            "bin_end": 0.1,
            "bin_start": 0,
            "count": 2
           },
           {
            "bin_end": 0.2,
            "bin_start": 0.1,
            "count": 0
           },
           {
            "bin_end": 0.30000000000000004,
            "bin_start": 0.2,
            "count": 0
           },
           {
            "bin_end": 0.4,
            "bin_start": 0.30000000000000004,
            "count": 0
           },
           {
            "bin_end": 0.5,
            "bin_start": 0.4,
            "count": 0
           },
           {
            "bin_end": 0.6000000000000001,
            "bin_start": 0.5,
            "count": 0
           },
           {
            "bin_end": 0.7000000000000001,
            "bin_start": 0.6000000000000001,
            "count": 0
           },
           {
            "bin_end": 0.8,
            "bin_start": 0.7000000000000001,
            "count": 0
           },
           {
            "bin_end": 0.9,
            "bin_start": 0.8,
            "count": 0
           },
           {
            "bin_end": 1,
            "bin_start": 0.9,
            "count": 2
           }
          ],
          "max": "1",
          "min": "0",
          "nan_count": 0,
          "unique_count": 2
         }
        },
        {
         "dtype": "uint8",
         "name": "city_San Diego",
         "stats": {
          "histogram": [
           {
            "bin_end": 0.1,
            "bin_start": 0,
            "count": 3
           },
           {
            "bin_end": 0.2,
            "bin_start": 0.1,
            "count": 0
           },
           {
            "bin_end": 0.30000000000000004,
            "bin_start": 0.2,
            "count": 0
           },
           {
            "bin_end": 0.4,
            "bin_start": 0.30000000000000004,
            "count": 0
           },
           {
            "bin_end": 0.5,
            "bin_start": 0.4,
            "count": 0
           },
           {
            "bin_end": 0.6000000000000001,
            "bin_start": 0.5,
            "count": 0
           },
           {
            "bin_end": 0.7000000000000001,
            "bin_start": 0.6000000000000001,
            "count": 0
           },
           {
            "bin_end": 0.8,
            "bin_start": 0.7000000000000001,
            "count": 0
           },
           {
            "bin_end": 0.9,
            "bin_start": 0.8,
            "count": 0
           },
           {
            "bin_end": 1,
            "bin_start": 0.9,
            "count": 1
           }
          ],
          "max": "1",
          "min": "0",
          "nan_count": 0,
          "unique_count": 2
         }
        },
        {
         "dtype": "uint8",
         "name": "city_San Francisco",
         "stats": {
          "histogram": [
           {
            "bin_end": 0.1,
            "bin_start": 0,
            "count": 3
           },
           {
            "bin_end": 0.2,
            "bin_start": 0.1,
            "count": 0
           },
           {
            "bin_end": 0.30000000000000004,
            "bin_start": 0.2,
            "count": 0
           },
           {
            "bin_end": 0.4,
            "bin_start": 0.30000000000000004,
            "count": 0
           },
           {
            "bin_end": 0.5,
            "bin_start": 0.4,
            "count": 0
           },
           {
            "bin_end": 0.6000000000000001,
            "bin_start": 0.5,
            "count": 0
           },
           {
            "bin_end": 0.7000000000000001,
            "bin_start": 0.6000000000000001,
            "count": 0
           },
           {
            "bin_end": 0.8,
            "bin_start": 0.7000000000000001,
            "count": 0
           },
           {
            "bin_end": 0.9,
            "bin_start": 0.8,
            "count": 0
           },
           {
            "bin_end": 1,
            "bin_start": 0.9,
            "count": 1
           }
          ],
          "max": "1",
          "min": "0",
          "nan_count": 0,
          "unique_count": 2
         }
        },
        {
         "dtype": "object",
         "name": "city",
         "stats": {
          "categories": [
           {
            "count": 2,
            "name": "Detroit"
           },
           {
            "count": 1,
            "name": "San Francisco"
           },
           {
            "count": 1,
            "name": "San Diego"
           }
          ],
          "nan_count": 0,
          "unique_count": 3
         }
        },
        {
         "dtype": "int64",
         "name": "day",
         "stats": {
          "histogram": [
           {
            "bin_end": 0.6,
            "bin_start": 0.5,
            "count": 0
           },
           {
            "bin_end": 0.7,
            "bin_start": 0.6,
            "count": 0
           },
           {
            "bin_end": 0.8,
            "bin_start": 0.7,
            "count": 0
           },
           {
            "bin_end": 0.9,
            "bin_start": 0.8,
            "count": 0
           },
           {
            "bin_end": 1,
            "bin_start": 0.9,
            "count": 0
           },
           {
            "bin_end": 1.1,
            "bin_start": 1,
            "count": 4
           },
           {
            "bin_end": 1.2000000000000002,
            "bin_start": 1.1,
            "count": 0
           },
           {
            "bin_end": 1.3,
            "bin_start": 1.2000000000000002,
            "count": 0
           },
           {
            "bin_end": 1.4,
            "bin_start": 1.3,
            "count": 0
           },
           {
            "bin_end": 1.5,
            "bin_start": 1.4,
            "count": 0
           }
          ],
          "max": "1",
          "min": "1",
          "nan_count": 0,
          "unique_count": 1
         }
        },
        {
         "dtype": "int64",
         "name": "month",
         "stats": {
          "histogram": [
           {
            "bin_end": 9.6,
            "bin_start": 9.5,
            "count": 0
           },
           {
            "bin_end": 9.7,
            "bin_start": 9.6,
            "count": 0
           },
           {
            "bin_end": 9.8,
            "bin_start": 9.7,
            "count": 0
           },
           {
            "bin_end": 9.9,
            "bin_start": 9.8,
            "count": 0
           },
           {
            "bin_end": 10,
            "bin_start": 9.9,
            "count": 0
           },
           {
            "bin_end": 10.1,
            "bin_start": 10,
            "count": 4
           },
           {
            "bin_end": 10.2,
            "bin_start": 10.1,
            "count": 0
           },
           {
            "bin_end": 10.3,
            "bin_start": 10.2,
            "count": 0
           },
           {
            "bin_end": 10.4,
            "bin_start": 10.3,
            "count": 0
           },
           {
            "bin_end": 10.5,
            "bin_start": 10.4,
            "count": 0
           }
          ],
          "max": "10",
          "min": "10",
          "nan_count": 0,
          "unique_count": 1
         }
        },
        {
         "dtype": "int64",
         "name": "_deepnote_index_column"
        }
       ],
       "row_count": 4,
       "rows": [
        {
         "_deepnote_index_column": 90504,
         "city": "San Francisco",
         "city_Detroit": 0,
         "city_San Diego": 0,
         "city_San Francisco": 1,
         "datetime": "2012-10-01 13:00:00",
         "day": 1,
         "month": 10,
         "temperature": 61.4
        },
        {
         "_deepnote_index_column": 226260,
         "city": "San Diego",
         "city_Detroit": 0,
         "city_San Diego": 1,
         "city_San Francisco": 0,
         "datetime": "2012-10-01 13:00:00",
         "day": 1,
         "month": 10,
         "temperature": 65.1
        },
        {
         "_deepnote_index_column": 905040,
         "city": "Detroit",
         "city_Detroit": 1,
         "city_San Diego": 0,
         "city_San Francisco": 0,
         "datetime": "2012-10-01 13:00:00",
         "day": 1,
         "month": 10,
         "temperature": 51.6
        },
        {
         "_deepnote_index_column": 905041,
         "city": "Detroit",
         "city_Detroit": 1,
         "city_San Diego": 0,
         "city_San Francisco": 0,
         "datetime": "2012-10-01 14:00:00",
         "day": 1,
         "month": 10,
         "temperature": 51.7
        }
       ]
      },
      "text/html": [
       "<div>\n",
       "<style scoped>\n",
       "    .dataframe tbody tr th:only-of-type {\n",
       "        vertical-align: middle;\n",
       "    }\n",
       "\n",
       "    .dataframe tbody tr th {\n",
       "        vertical-align: top;\n",
       "    }\n",
       "\n",
       "    .dataframe thead th {\n",
       "        text-align: right;\n",
       "    }\n",
       "</style>\n",
       "<table border=\"1\" class=\"dataframe\">\n",
       "  <thead>\n",
       "    <tr style=\"text-align: right;\">\n",
       "      <th></th>\n",
       "      <th>datetime</th>\n",
       "      <th>temperature</th>\n",
       "      <th>city_Detroit</th>\n",
       "      <th>city_San Diego</th>\n",
       "      <th>city_San Francisco</th>\n",
       "      <th>city</th>\n",
       "      <th>day</th>\n",
       "      <th>month</th>\n",
       "    </tr>\n",
       "  </thead>\n",
       "  <tbody>\n",
       "    <tr>\n",
       "      <th>90504</th>\n",
       "      <td>2012-10-01 13:00:00</td>\n",
       "      <td>61.4</td>\n",
       "      <td>0</td>\n",
       "      <td>0</td>\n",
       "      <td>1</td>\n",
       "      <td>San Francisco</td>\n",
       "      <td>1</td>\n",
       "      <td>10</td>\n",
       "    </tr>\n",
       "    <tr>\n",
       "      <th>226260</th>\n",
       "      <td>2012-10-01 13:00:00</td>\n",
       "      <td>65.1</td>\n",
       "      <td>0</td>\n",
       "      <td>1</td>\n",
       "      <td>0</td>\n",
       "      <td>San Diego</td>\n",
       "      <td>1</td>\n",
       "      <td>10</td>\n",
       "    </tr>\n",
       "    <tr>\n",
       "      <th>905040</th>\n",
       "      <td>2012-10-01 13:00:00</td>\n",
       "      <td>51.6</td>\n",
       "      <td>1</td>\n",
       "      <td>0</td>\n",
       "      <td>0</td>\n",
       "      <td>Detroit</td>\n",
       "      <td>1</td>\n",
       "      <td>10</td>\n",
       "    </tr>\n",
       "    <tr>\n",
       "      <th>905041</th>\n",
       "      <td>2012-10-01 14:00:00</td>\n",
       "      <td>51.7</td>\n",
       "      <td>1</td>\n",
       "      <td>0</td>\n",
       "      <td>0</td>\n",
       "      <td>Detroit</td>\n",
       "      <td>1</td>\n",
       "      <td>10</td>\n",
       "    </tr>\n",
       "  </tbody>\n",
       "</table>\n",
       "</div>"
      ],
      "text/plain": [
       "                  datetime  temperature  city_Detroit  city_San Diego  \\\n",
       "90504  2012-10-01 13:00:00         61.4             0               0   \n",
       "226260 2012-10-01 13:00:00         65.1             0               1   \n",
       "905040 2012-10-01 13:00:00         51.6             1               0   \n",
       "905041 2012-10-01 14:00:00         51.7             1               0   \n",
       "\n",
       "        city_San Francisco           city  day  month  \n",
       "90504                    1  San Francisco    1     10  \n",
       "226260                   0      San Diego    1     10  \n",
       "905040                   0        Detroit    1     10  \n",
       "905041                   0        Detroit    1     10  "
      ]
     },
     "execution_count": 25,
     "metadata": {},
     "output_type": "execute_result"
    }
   ],
   "source": [
    "df.head(4)"
   ]
  },
  {
   "cell_type": "markdown",
   "metadata": {},
   "source": [
    "Here are the five columns we want to add."
   ]
  },
  {
   "cell_type": "code",
   "execution_count": 26,
   "metadata": {
    "cell_id": "0060b78b17d2487b98ce10a6bf99df14",
    "deepnote_cell_type": "code",
    "deepnote_to_be_reexecuted": false,
    "execution_millis": 4,
    "execution_start": 1685564442332,
    "source_hash": "5a84130b"
   },
   "outputs": [],
   "source": [
    "var_cols = [\"year\", \"day\", \"month\", \"hour\", \"day_of_week\"]"
   ]
  },
  {
   "cell_type": "markdown",
   "metadata": {},
   "source": [
    "The first attempt does not work, because even if `var = \"year\"` for example, evaluating `df[\"datetime\"].dt.var` will not have anything to do with \"year\", it will be looking for an attribute named `var`."
   ]
  },
  {
   "cell_type": "code",
   "execution_count": 27,
   "metadata": {
    "cell_id": "4abe8f41c4bb4e3dbd6a88eb12dd8bd2",
    "deepnote_cell_type": "code",
    "deepnote_to_be_reexecuted": false,
    "execution_millis": 9,
    "execution_start": 1685564480112,
    "source_hash": "3c2de9f2"
   },
   "outputs": [
    {
     "ename": "AttributeError",
     "evalue": "'DatetimeProperties' object has no attribute 'var'",
     "output_type": "error",
     "traceback": [
      "\u001b[0;31m---------------------------------------------------------------------------\u001b[0m",
      "\u001b[0;31mAttributeError\u001b[0m                            Traceback (most recent call last)",
      "\u001b[0;32m/tmp/ipykernel_106/497635513.py\u001b[0m in \u001b[0;36m<module>\u001b[0;34m\u001b[0m\n\u001b[1;32m      1\u001b[0m \u001b[0;32mfor\u001b[0m \u001b[0mvar\u001b[0m \u001b[0;32min\u001b[0m \u001b[0mvar_cols\u001b[0m\u001b[0;34m:\u001b[0m\u001b[0;34m\u001b[0m\u001b[0;34m\u001b[0m\u001b[0m\n\u001b[0;32m----> 2\u001b[0;31m     \u001b[0mdf\u001b[0m\u001b[0;34m[\u001b[0m\u001b[0mvar\u001b[0m\u001b[0;34m]\u001b[0m \u001b[0;34m=\u001b[0m \u001b[0mdf\u001b[0m\u001b[0;34m[\u001b[0m\u001b[0;34m\"datetime\"\u001b[0m\u001b[0;34m]\u001b[0m\u001b[0;34m.\u001b[0m\u001b[0mdt\u001b[0m\u001b[0;34m.\u001b[0m\u001b[0mvar\u001b[0m\u001b[0;34m\u001b[0m\u001b[0;34m\u001b[0m\u001b[0m\n\u001b[0m",
      "\u001b[0;31mAttributeError\u001b[0m: 'DatetimeProperties' object has no attribute 'var'"
     ]
    }
   ],
   "source": [
    "for var in var_cols:\n",
    "    df[var] = df[\"datetime\"].dt.var"
   ]
  },
  {
   "cell_type": "markdown",
   "metadata": {},
   "source": [
    "I then tried using square brackets, but that also does not work."
   ]
  },
  {
   "cell_type": "code",
   "execution_count": 28,
   "metadata": {
    "cell_id": "b4bf3ad468504b479982c1afbbf24f70",
    "deepnote_cell_type": "code",
    "deepnote_to_be_reexecuted": false,
    "execution_millis": 3,
    "execution_start": 1685564509104,
    "source_hash": "5852c26"
   },
   "outputs": [
    {
     "ename": "TypeError",
     "evalue": "'DatetimeProperties' object is not subscriptable",
     "output_type": "error",
     "traceback": [
      "\u001b[0;31m---------------------------------------------------------------------------\u001b[0m",
      "\u001b[0;31mTypeError\u001b[0m                                 Traceback (most recent call last)",
      "\u001b[0;32m/tmp/ipykernel_106/1090741701.py\u001b[0m in \u001b[0;36m<module>\u001b[0;34m\u001b[0m\n\u001b[1;32m      1\u001b[0m \u001b[0;32mfor\u001b[0m \u001b[0mvar\u001b[0m \u001b[0;32min\u001b[0m \u001b[0mvar_cols\u001b[0m\u001b[0;34m:\u001b[0m\u001b[0;34m\u001b[0m\u001b[0;34m\u001b[0m\u001b[0m\n\u001b[0;32m----> 2\u001b[0;31m     \u001b[0mdf\u001b[0m\u001b[0;34m[\u001b[0m\u001b[0mvar\u001b[0m\u001b[0;34m]\u001b[0m \u001b[0;34m=\u001b[0m \u001b[0mdf\u001b[0m\u001b[0;34m[\u001b[0m\u001b[0;34m\"datetime\"\u001b[0m\u001b[0;34m]\u001b[0m\u001b[0;34m.\u001b[0m\u001b[0mdt\u001b[0m\u001b[0;34m[\u001b[0m\u001b[0mvar\u001b[0m\u001b[0;34m]\u001b[0m\u001b[0;34m\u001b[0m\u001b[0;34m\u001b[0m\u001b[0m\n\u001b[0m",
      "\u001b[0;31mTypeError\u001b[0m: 'DatetimeProperties' object is not subscriptable"
     ]
    }
   ],
   "source": [
    "for var in var_cols:\n",
    "    df[var] = df[\"datetime\"].dt[var]"
   ]
  },
  {
   "cell_type": "markdown",
   "metadata": {},
   "source": [
    "Here is a solution that works.  We use the built-in function `getattr`.  (This isn't a Machine Learning or Data Science topic, this is a Python topic.)"
   ]
  },
  {
   "cell_type": "code",
   "execution_count": 29,
   "metadata": {
    "cell_id": "351371969c7e4e059780f4a9a30a6ee2",
    "deepnote_cell_type": "code",
    "deepnote_to_be_reexecuted": false,
    "execution_millis": 26,
    "execution_start": 1685564559399,
    "source_hash": "ab521425"
   },
   "outputs": [],
   "source": [
    "for var in var_cols:\n",
    "    df[var] = getattr(df[\"datetime\"].dt, var)"
   ]
  },
  {
   "cell_type": "markdown",
   "metadata": {},
   "source": [
    "Here we can see the 5 new columns we added.  We will use these columns and our city indicator columns as our predictors for our decision tree."
   ]
  },
  {
   "cell_type": "code",
   "execution_count": 30,
   "metadata": {
    "cell_id": "46034d3ba7614253a243334db6af119f",
    "deepnote_cell_type": "code",
    "deepnote_to_be_reexecuted": false,
    "execution_millis": 21,
    "execution_start": 1685564619971,
    "source_hash": "3a19cd9f",
    "tags": [
     "output_scroll"
    ]
   },
   "outputs": [
    {
     "data": {
      "application/vnd.deepnote.dataframe.v3+json": {
       "column_count": 11,
       "columns": [
        {
         "dtype": "datetime64[ns]",
         "name": "datetime",
         "stats": {
          "histogram": [
           {
            "bin_end": 1349096760000000000,
            "bin_start": 1349096400000000000,
            "count": 3
           },
           {
            "bin_end": 1349097120000000000,
            "bin_start": 1349096760000000000,
            "count": 0
           },
           {
            "bin_end": 1349097480000000000,
            "bin_start": 1349097120000000000,
            "count": 0
           },
           {
            "bin_end": 1349097840000000000,
            "bin_start": 1349097480000000000,
            "count": 0
           },
           {
            "bin_end": 1349098200000000000,
            "bin_start": 1349097840000000000,
            "count": 0
           },
           {
            "bin_end": 1349098560000000000,
            "bin_start": 1349098200000000000,
            "count": 0
           },
           {
            "bin_end": 1349098920000000000,
            "bin_start": 1349098560000000000,
            "count": 0
           },
           {
            "bin_end": 1349099280000000000,
            "bin_start": 1349098920000000000,
            "count": 0
           },
           {
            "bin_end": 1349099640000000000,
            "bin_start": 1349099280000000000,
            "count": 0
           },
           {
            "bin_end": 1349100000000000000,
            "bin_start": 1349099640000000000,
            "count": 1
           }
          ],
          "max": "2012-10-01 14:00:00",
          "min": "2012-10-01 13:00:00",
          "nan_count": 0,
          "unique_count": 2
         }
        },
        {
         "dtype": "float64",
         "name": "temperature",
         "stats": {
          "histogram": [
           {
            "bin_end": 52.95,
            "bin_start": 51.6,
            "count": 2
           },
           {
            "bin_end": 54.3,
            "bin_start": 52.95,
            "count": 0
           },
           {
            "bin_end": 55.65,
            "bin_start": 54.3,
            "count": 0
           },
           {
            "bin_end": 57,
            "bin_start": 55.65,
            "count": 0
           },
           {
            "bin_end": 58.349999999999994,
            "bin_start": 57,
            "count": 0
           },
           {
            "bin_end": 59.699999999999996,
            "bin_start": 58.349999999999994,
            "count": 0
           },
           {
            "bin_end": 61.05,
            "bin_start": 59.699999999999996,
            "count": 0
           },
           {
            "bin_end": 62.39999999999999,
            "bin_start": 61.05,
            "count": 1
           },
           {
            "bin_end": 63.74999999999999,
            "bin_start": 62.39999999999999,
            "count": 0
           },
           {
            "bin_end": 65.1,
            "bin_start": 63.74999999999999,
            "count": 1
           }
          ],
          "max": "65.1",
          "min": "51.6",
          "nan_count": 0,
          "unique_count": 4
         }
        },
        {
         "dtype": "uint8",
         "name": "city_Detroit",
         "stats": {
          "histogram": [
           {
            "bin_end": 0.1,
            "bin_start": 0,
            "count": 2
           },
           {
            "bin_end": 0.2,
            "bin_start": 0.1,
            "count": 0
           },
           {
            "bin_end": 0.30000000000000004,
            "bin_start": 0.2,
            "count": 0
           },
           {
            "bin_end": 0.4,
            "bin_start": 0.30000000000000004,
            "count": 0
           },
           {
            "bin_end": 0.5,
            "bin_start": 0.4,
            "count": 0
           },
           {
            "bin_end": 0.6000000000000001,
            "bin_start": 0.5,
            "count": 0
           },
           {
            "bin_end": 0.7000000000000001,
            "bin_start": 0.6000000000000001,
            "count": 0
           },
           {
            "bin_end": 0.8,
            "bin_start": 0.7000000000000001,
            "count": 0
           },
           {
            "bin_end": 0.9,
            "bin_start": 0.8,
            "count": 0
           },
           {
            "bin_end": 1,
            "bin_start": 0.9,
            "count": 2
           }
          ],
          "max": "1",
          "min": "0",
          "nan_count": 0,
          "unique_count": 2
         }
        },
        {
         "dtype": "uint8",
         "name": "city_San Diego",
         "stats": {
          "histogram": [
           {
            "bin_end": 0.1,
            "bin_start": 0,
            "count": 3
           },
           {
            "bin_end": 0.2,
            "bin_start": 0.1,
            "count": 0
           },
           {
            "bin_end": 0.30000000000000004,
            "bin_start": 0.2,
            "count": 0
           },
           {
            "bin_end": 0.4,
            "bin_start": 0.30000000000000004,
            "count": 0
           },
           {
            "bin_end": 0.5,
            "bin_start": 0.4,
            "count": 0
           },
           {
            "bin_end": 0.6000000000000001,
            "bin_start": 0.5,
            "count": 0
           },
           {
            "bin_end": 0.7000000000000001,
            "bin_start": 0.6000000000000001,
            "count": 0
           },
           {
            "bin_end": 0.8,
            "bin_start": 0.7000000000000001,
            "count": 0
           },
           {
            "bin_end": 0.9,
            "bin_start": 0.8,
            "count": 0
           },
           {
            "bin_end": 1,
            "bin_start": 0.9,
            "count": 1
           }
          ],
          "max": "1",
          "min": "0",
          "nan_count": 0,
          "unique_count": 2
         }
        },
        {
         "dtype": "uint8",
         "name": "city_San Francisco",
         "stats": {
          "histogram": [
           {
            "bin_end": 0.1,
            "bin_start": 0,
            "count": 3
           },
           {
            "bin_end": 0.2,
            "bin_start": 0.1,
            "count": 0
           },
           {
            "bin_end": 0.30000000000000004,
            "bin_start": 0.2,
            "count": 0
           },
           {
            "bin_end": 0.4,
            "bin_start": 0.30000000000000004,
            "count": 0
           },
           {
            "bin_end": 0.5,
            "bin_start": 0.4,
            "count": 0
           },
           {
            "bin_end": 0.6000000000000001,
            "bin_start": 0.5,
            "count": 0
           },
           {
            "bin_end": 0.7000000000000001,
            "bin_start": 0.6000000000000001,
            "count": 0
           },
           {
            "bin_end": 0.8,
            "bin_start": 0.7000000000000001,
            "count": 0
           },
           {
            "bin_end": 0.9,
            "bin_start": 0.8,
            "count": 0
           },
           {
            "bin_end": 1,
            "bin_start": 0.9,
            "count": 1
           }
          ],
          "max": "1",
          "min": "0",
          "nan_count": 0,
          "unique_count": 2
         }
        },
        {
         "dtype": "object",
         "name": "city",
         "stats": {
          "categories": [
           {
            "count": 2,
            "name": "Detroit"
           },
           {
            "count": 1,
            "name": "San Francisco"
           },
           {
            "count": 1,
            "name": "San Diego"
           }
          ],
          "nan_count": 0,
          "unique_count": 3
         }
        },
        {
         "dtype": "int64",
         "name": "day",
         "stats": {
          "histogram": [
           {
            "bin_end": 0.6,
            "bin_start": 0.5,
            "count": 0
           },
           {
            "bin_end": 0.7,
            "bin_start": 0.6,
            "count": 0
           },
           {
            "bin_end": 0.8,
            "bin_start": 0.7,
            "count": 0
           },
           {
            "bin_end": 0.9,
            "bin_start": 0.8,
            "count": 0
           },
           {
            "bin_end": 1,
            "bin_start": 0.9,
            "count": 0
           },
           {
            "bin_end": 1.1,
            "bin_start": 1,
            "count": 4
           },
           {
            "bin_end": 1.2000000000000002,
            "bin_start": 1.1,
            "count": 0
           },
           {
            "bin_end": 1.3,
            "bin_start": 1.2000000000000002,
            "count": 0
           },
           {
            "bin_end": 1.4,
            "bin_start": 1.3,
            "count": 0
           },
           {
            "bin_end": 1.5,
            "bin_start": 1.4,
            "count": 0
           }
          ],
          "max": "1",
          "min": "1",
          "nan_count": 0,
          "unique_count": 1
         }
        },
        {
         "dtype": "int64",
         "name": "month",
         "stats": {
          "histogram": [
           {
            "bin_end": 9.6,
            "bin_start": 9.5,
            "count": 0
           },
           {
            "bin_end": 9.7,
            "bin_start": 9.6,
            "count": 0
           },
           {
            "bin_end": 9.8,
            "bin_start": 9.7,
            "count": 0
           },
           {
            "bin_end": 9.9,
            "bin_start": 9.8,
            "count": 0
           },
           {
            "bin_end": 10,
            "bin_start": 9.9,
            "count": 0
           },
           {
            "bin_end": 10.1,
            "bin_start": 10,
            "count": 4
           },
           {
            "bin_end": 10.2,
            "bin_start": 10.1,
            "count": 0
           },
           {
            "bin_end": 10.3,
            "bin_start": 10.2,
            "count": 0
           },
           {
            "bin_end": 10.4,
            "bin_start": 10.3,
            "count": 0
           },
           {
            "bin_end": 10.5,
            "bin_start": 10.4,
            "count": 0
           }
          ],
          "max": "10",
          "min": "10",
          "nan_count": 0,
          "unique_count": 1
         }
        },
        {
         "dtype": "int64",
         "name": "year",
         "stats": {
          "histogram": [
           {
            "bin_end": 2011.6,
            "bin_start": 2011.5,
            "count": 0
           },
           {
            "bin_end": 2011.7,
            "bin_start": 2011.6,
            "count": 0
           },
           {
            "bin_end": 2011.8,
            "bin_start": 2011.7,
            "count": 0
           },
           {
            "bin_end": 2011.9,
            "bin_start": 2011.8,
            "count": 0
           },
           {
            "bin_end": 2012,
            "bin_start": 2011.9,
            "count": 0
           },
           {
            "bin_end": 2012.1,
            "bin_start": 2012,
            "count": 4
           },
           {
            "bin_end": 2012.2,
            "bin_start": 2012.1,
            "count": 0
           },
           {
            "bin_end": 2012.3,
            "bin_start": 2012.2,
            "count": 0
           },
           {
            "bin_end": 2012.4,
            "bin_start": 2012.3,
            "count": 0
           },
           {
            "bin_end": 2012.5,
            "bin_start": 2012.4,
            "count": 0
           }
          ],
          "max": "2012",
          "min": "2012",
          "nan_count": 0,
          "unique_count": 1
         }
        },
        {
         "dtype": "int64",
         "name": "hour",
         "stats": {
          "histogram": [
           {
            "bin_end": 13.1,
            "bin_start": 13,
            "count": 3
           },
           {
            "bin_end": 13.2,
            "bin_start": 13.1,
            "count": 0
           },
           {
            "bin_end": 13.3,
            "bin_start": 13.2,
            "count": 0
           },
           {
            "bin_end": 13.4,
            "bin_start": 13.3,
            "count": 0
           },
           {
            "bin_end": 13.5,
            "bin_start": 13.4,
            "count": 0
           },
           {
            "bin_end": 13.6,
            "bin_start": 13.5,
            "count": 0
           },
           {
            "bin_end": 13.7,
            "bin_start": 13.6,
            "count": 0
           },
           {
            "bin_end": 13.8,
            "bin_start": 13.7,
            "count": 0
           },
           {
            "bin_end": 13.9,
            "bin_start": 13.8,
            "count": 0
           },
           {
            "bin_end": 14,
            "bin_start": 13.9,
            "count": 1
           }
          ],
          "max": "14",
          "min": "13",
          "nan_count": 0,
          "unique_count": 2
         }
        },
        {
         "dtype": "int64",
         "name": "day_of_week",
         "stats": {
          "histogram": [
           {
            "bin_end": -0.4,
            "bin_start": -0.5,
            "count": 0
           },
           {
            "bin_end": -0.3,
            "bin_start": -0.4,
            "count": 0
           },
           {
            "bin_end": -0.19999999999999996,
            "bin_start": -0.3,
            "count": 0
           },
           {
            "bin_end": -0.09999999999999998,
            "bin_start": -0.19999999999999996,
            "count": 0
           },
           {
            "bin_end": 0,
            "bin_start": -0.09999999999999998,
            "count": 0
           },
           {
            "bin_end": 0.10000000000000009,
            "bin_start": 0,
            "count": 4
           },
           {
            "bin_end": 0.20000000000000007,
            "bin_start": 0.10000000000000009,
            "count": 0
           },
           {
            "bin_end": 0.30000000000000004,
            "bin_start": 0.20000000000000007,
            "count": 0
           },
           {
            "bin_end": 0.4,
            "bin_start": 0.30000000000000004,
            "count": 0
           },
           {
            "bin_end": 0.5,
            "bin_start": 0.4,
            "count": 0
           }
          ],
          "max": "0",
          "min": "0",
          "nan_count": 0,
          "unique_count": 1
         }
        },
        {
         "dtype": "int64",
         "name": "_deepnote_index_column"
        }
       ],
       "row_count": 4,
       "rows": [
        {
         "_deepnote_index_column": 90504,
         "city": "San Francisco",
         "city_Detroit": 0,
         "city_San Diego": 0,
         "city_San Francisco": 1,
         "datetime": "2012-10-01 13:00:00",
         "day": 1,
         "day_of_week": 0,
         "hour": 13,
         "month": 10,
         "temperature": 61.4,
         "year": 2012
        },
        {
         "_deepnote_index_column": 226260,
         "city": "San Diego",
         "city_Detroit": 0,
         "city_San Diego": 1,
         "city_San Francisco": 0,
         "datetime": "2012-10-01 13:00:00",
         "day": 1,
         "day_of_week": 0,
         "hour": 13,
         "month": 10,
         "temperature": 65.1,
         "year": 2012
        },
        {
         "_deepnote_index_column": 905040,
         "city": "Detroit",
         "city_Detroit": 1,
         "city_San Diego": 0,
         "city_San Francisco": 0,
         "datetime": "2012-10-01 13:00:00",
         "day": 1,
         "day_of_week": 0,
         "hour": 13,
         "month": 10,
         "temperature": 51.6,
         "year": 2012
        },
        {
         "_deepnote_index_column": 905041,
         "city": "Detroit",
         "city_Detroit": 1,
         "city_San Diego": 0,
         "city_San Francisco": 0,
         "datetime": "2012-10-01 14:00:00",
         "day": 1,
         "day_of_week": 0,
         "hour": 14,
         "month": 10,
         "temperature": 51.7,
         "year": 2012
        }
       ]
      },
      "text/html": [
       "<div>\n",
       "<style scoped>\n",
       "    .dataframe tbody tr th:only-of-type {\n",
       "        vertical-align: middle;\n",
       "    }\n",
       "\n",
       "    .dataframe tbody tr th {\n",
       "        vertical-align: top;\n",
       "    }\n",
       "\n",
       "    .dataframe thead th {\n",
       "        text-align: right;\n",
       "    }\n",
       "</style>\n",
       "<table border=\"1\" class=\"dataframe\">\n",
       "  <thead>\n",
       "    <tr style=\"text-align: right;\">\n",
       "      <th></th>\n",
       "      <th>datetime</th>\n",
       "      <th>temperature</th>\n",
       "      <th>city_Detroit</th>\n",
       "      <th>city_San Diego</th>\n",
       "      <th>city_San Francisco</th>\n",
       "      <th>city</th>\n",
       "      <th>day</th>\n",
       "      <th>month</th>\n",
       "      <th>year</th>\n",
       "      <th>hour</th>\n",
       "      <th>day_of_week</th>\n",
       "    </tr>\n",
       "  </thead>\n",
       "  <tbody>\n",
       "    <tr>\n",
       "      <th>90504</th>\n",
       "      <td>2012-10-01 13:00:00</td>\n",
       "      <td>61.4</td>\n",
       "      <td>0</td>\n",
       "      <td>0</td>\n",
       "      <td>1</td>\n",
       "      <td>San Francisco</td>\n",
       "      <td>1</td>\n",
       "      <td>10</td>\n",
       "      <td>2012</td>\n",
       "      <td>13</td>\n",
       "      <td>0</td>\n",
       "    </tr>\n",
       "    <tr>\n",
       "      <th>226260</th>\n",
       "      <td>2012-10-01 13:00:00</td>\n",
       "      <td>65.1</td>\n",
       "      <td>0</td>\n",
       "      <td>1</td>\n",
       "      <td>0</td>\n",
       "      <td>San Diego</td>\n",
       "      <td>1</td>\n",
       "      <td>10</td>\n",
       "      <td>2012</td>\n",
       "      <td>13</td>\n",
       "      <td>0</td>\n",
       "    </tr>\n",
       "    <tr>\n",
       "      <th>905040</th>\n",
       "      <td>2012-10-01 13:00:00</td>\n",
       "      <td>51.6</td>\n",
       "      <td>1</td>\n",
       "      <td>0</td>\n",
       "      <td>0</td>\n",
       "      <td>Detroit</td>\n",
       "      <td>1</td>\n",
       "      <td>10</td>\n",
       "      <td>2012</td>\n",
       "      <td>13</td>\n",
       "      <td>0</td>\n",
       "    </tr>\n",
       "    <tr>\n",
       "      <th>905041</th>\n",
       "      <td>2012-10-01 14:00:00</td>\n",
       "      <td>51.7</td>\n",
       "      <td>1</td>\n",
       "      <td>0</td>\n",
       "      <td>0</td>\n",
       "      <td>Detroit</td>\n",
       "      <td>1</td>\n",
       "      <td>10</td>\n",
       "      <td>2012</td>\n",
       "      <td>14</td>\n",
       "      <td>0</td>\n",
       "    </tr>\n",
       "  </tbody>\n",
       "</table>\n",
       "</div>"
      ],
      "text/plain": [
       "                  datetime  temperature  city_Detroit  city_San Diego  \\\n",
       "90504  2012-10-01 13:00:00         61.4             0               0   \n",
       "226260 2012-10-01 13:00:00         65.1             0               1   \n",
       "905040 2012-10-01 13:00:00         51.6             1               0   \n",
       "905041 2012-10-01 14:00:00         51.7             1               0   \n",
       "\n",
       "        city_San Francisco           city  day  month  year  hour  day_of_week  \n",
       "90504                    1  San Francisco    1     10  2012    13            0  \n",
       "226260                   0      San Diego    1     10  2012    13            0  \n",
       "905040                   0        Detroit    1     10  2012    13            0  \n",
       "905041                   0        Detroit    1     10  2012    14            0  "
      ]
     },
     "execution_count": 30,
     "metadata": {},
     "output_type": "execute_result"
    }
   ],
   "source": [
    "df.head(4)"
   ]
  },
  {
   "cell_type": "markdown",
   "metadata": {
    "cell_id": "e827d0a177974ecfb4f10302c5a7e174",
    "deepnote_cell_type": "markdown"
   },
   "source": [
    "## Predicting temperature using `DecisionTreeRegressor`\n",
    "\n",
    "We want to use the \"datetime\" column and the \"city\" column.  We need to convert the \"city\" column to (multiple) Boolean columns before we can use it as an input."
   ]
  },
  {
   "cell_type": "markdown",
   "metadata": {
    "cell_id": "ffd9b3bb418247a4a4f9fc1a49350751",
    "deepnote_cell_type": "markdown"
   },
   "source": [
    "* Make a list `cols` containing the columns in `city_cols` and in `var_cols`."
   ]
  },
  {
   "cell_type": "markdown",
   "metadata": {},
   "source": [
    "It's easy to concatenate two lists: just use `+`.  This new list `cols` will be our input features."
   ]
  },
  {
   "cell_type": "code",
   "execution_count": 31,
   "metadata": {
    "cell_id": "b158811ca3a242b481cca9965e1d62a7",
    "deepnote_cell_type": "code",
    "deepnote_to_be_reexecuted": false,
    "execution_millis": 3,
    "execution_start": 1685564767820,
    "source_hash": "e172d426"
   },
   "outputs": [
    {
     "data": {
      "text/plain": [
       "['city_Detroit',\n",
       " 'city_San Diego',\n",
       " 'city_San Francisco',\n",
       " 'year',\n",
       " 'day',\n",
       " 'month',\n",
       " 'hour',\n",
       " 'day_of_week']"
      ]
     },
     "execution_count": 31,
     "metadata": {},
     "output_type": "execute_result"
    }
   ],
   "source": [
    "cols = city_cols + var_cols\n",
    "cols"
   ]
  },
  {
   "cell_type": "markdown",
   "metadata": {
    "cell_id": "fecbbd6e59b7457787137808a2f03baa",
    "deepnote_cell_type": "markdown"
   },
   "source": [
    "* Fit a `DecisionTreeRegressor` object with a maximum of `16` leaf nodes to the data in these columns (notice that they're all numeric).  Use \"temperature\" as our target.\n",
    "\n",
    "This is our first time using a `DecisionTreeRegressor`, but it works very similarly to `DecisionTreeClassifier`.  The main difference is that the target values in the regression case should be numbers."
   ]
  },
  {
   "cell_type": "code",
   "execution_count": 32,
   "metadata": {
    "cell_id": "2d6a176e4f1a422b905a6f553dba1d8e",
    "deepnote_cell_type": "code",
    "deepnote_to_be_reexecuted": false,
    "execution_millis": 5,
    "execution_start": 1685564842664,
    "source_hash": "ea8ff8d2"
   },
   "outputs": [],
   "source": [
    "from sklearn.tree import DecisionTreeRegressor"
   ]
  },
  {
   "cell_type": "markdown",
   "metadata": {},
   "source": [
    "Here we instantiate the regressor, specifying the maximum number of leaf nodes."
   ]
  },
  {
   "cell_type": "code",
   "execution_count": 33,
   "metadata": {
    "cell_id": "e8f4b32b26634e60b2c86b7c2349f9e2",
    "deepnote_cell_type": "code",
    "deepnote_to_be_reexecuted": false,
    "execution_millis": 6,
    "execution_start": 1685564853671,
    "source_hash": "7f867d38"
   },
   "outputs": [],
   "source": [
    "reg = DecisionTreeRegressor(max_leaf_nodes=16)"
   ]
  },
  {
   "cell_type": "markdown",
   "metadata": {},
   "source": [
    "Here we fit the regressor, using \"temperature\" as our target."
   ]
  },
  {
   "cell_type": "code",
   "execution_count": 34,
   "metadata": {
    "cell_id": "e14f27dbe88b49839591787569e29d25",
    "deepnote_cell_type": "code",
    "deepnote_to_be_reexecuted": false,
    "execution_millis": 105,
    "execution_start": 1685564998448,
    "source_hash": "fabcd3ff"
   },
   "outputs": [
    {
     "data": {
      "text/plain": [
       "DecisionTreeRegressor(max_leaf_nodes=16)"
      ]
     },
     "execution_count": 34,
     "metadata": {},
     "output_type": "execute_result"
    }
   ],
   "source": [
    "reg.fit(df[cols], df[\"temperature\"])"
   ]
  },
  {
   "cell_type": "markdown",
   "metadata": {
    "cell_id": "f602936ac9274df3bbc1777c8bc7acc4",
    "deepnote_cell_type": "markdown"
   },
   "source": [
    "* Add a \"pred\" column to `df` containing the predicted temperatures."
   ]
  },
  {
   "cell_type": "code",
   "execution_count": 35,
   "metadata": {
    "cell_id": "102dd01f5cf5427cb154fbc8df914344",
    "deepnote_cell_type": "code",
    "deepnote_to_be_reexecuted": false,
    "execution_millis": 12,
    "execution_start": 1685565098831,
    "source_hash": "c7714f67"
   },
   "outputs": [],
   "source": [
    "df[\"pred\"] = reg.predict(df[cols])"
   ]
  },
  {
   "cell_type": "markdown",
   "metadata": {
    "cell_id": "5ed7892906b84264bb6055a931d91ace",
    "deepnote_cell_type": "markdown"
   },
   "source": [
    "* Plot the data using the following.\n",
    "\n",
    "```\n",
    "alt.Chart(df[6400:7000]).mark_line().encode(\n",
    "    x=\"datetime\",\n",
    "    y=\"pred\",\n",
    "    color=\"city\",\n",
    "    tooltip=[\"city\", \"temperature\", \"pred\", \"datetime\", \"hour\"]\n",
    ").properties(\n",
    "    width=600\n",
    ")\n",
    "```"
   ]
  },
  {
   "cell_type": "markdown",
   "metadata": {},
   "source": [
    "This is just one small portion of the data, corresponding to about one week.  Notice how we only see San Francisco and Detroit.  That is because the predictions for San Francisco and San Diego are the same.\n",
    "\n",
    "Also, because we used a maximum of 16 leaf nodes, there are a maximum of 16 values that can be predicted.  That is why we see so many flat line segments in this chart."
   ]
  },
  {
   "cell_type": "code",
   "execution_count": 36,
   "metadata": {
    "cell_id": "af4ee5ccbeec40d69814be26f5201ccb",
    "deepnote_cell_type": "code",
    "deepnote_to_be_reexecuted": false,
    "execution_millis": 24,
    "execution_start": 1685565112910,
    "source_hash": "1fc267c0"
   },
   "outputs": [
    {
     "data": {
      "text/html": [
       "\n",
       "<div id=\"altair-viz-0a07783854f94c5c8fb75822ae29fea6\"></div>\n",
       "<script type=\"text/javascript\">\n",
       "  var VEGA_DEBUG = (typeof VEGA_DEBUG == \"undefined\") ? {} : VEGA_DEBUG;\n",
       "  (function(spec, embedOpt){\n",
       "    let outputDiv = document.currentScript.previousElementSibling;\n",
       "    if (outputDiv.id !== \"altair-viz-0a07783854f94c5c8fb75822ae29fea6\") {\n",
       "      outputDiv = document.getElementById(\"altair-viz-0a07783854f94c5c8fb75822ae29fea6\");\n",
       "    }\n",
       "    const paths = {\n",
       "      \"vega\": \"https://cdn.jsdelivr.net/npm//vega@5?noext\",\n",
       "      \"vega-lib\": \"https://cdn.jsdelivr.net/npm//vega-lib?noext\",\n",
       "      \"vega-lite\": \"https://cdn.jsdelivr.net/npm//vega-lite@4.17.0?noext\",\n",
       "      \"vega-embed\": \"https://cdn.jsdelivr.net/npm//vega-embed@6?noext\",\n",
       "    };\n",
       "\n",
       "    function maybeLoadScript(lib, version) {\n",
       "      var key = `${lib.replace(\"-\", \"\")}_version`;\n",
       "      return (VEGA_DEBUG[key] == version) ?\n",
       "        Promise.resolve(paths[lib]) :\n",
       "        new Promise(function(resolve, reject) {\n",
       "          var s = document.createElement('script');\n",
       "          document.getElementsByTagName(\"head\")[0].appendChild(s);\n",
       "          s.async = true;\n",
       "          s.onload = () => {\n",
       "            VEGA_DEBUG[key] = version;\n",
       "            return resolve(paths[lib]);\n",
       "          };\n",
       "          s.onerror = () => reject(`Error loading script: ${paths[lib]}`);\n",
       "          s.src = paths[lib];\n",
       "        });\n",
       "    }\n",
       "\n",
       "    function showError(err) {\n",
       "      outputDiv.innerHTML = `<div class=\"error\" style=\"color:red;\">${err}</div>`;\n",
       "      throw err;\n",
       "    }\n",
       "\n",
       "    function displayChart(vegaEmbed) {\n",
       "      vegaEmbed(outputDiv, spec, embedOpt)\n",
       "        .catch(err => showError(`Javascript Error: ${err.message}<br>This usually means there's a typo in your chart specification. See the javascript console for the full traceback.`));\n",
       "    }\n",
       "\n",
       "    if(typeof define === \"function\" && define.amd) {\n",
       "      requirejs.config({paths});\n",
       "      require([\"vega-embed\"], displayChart, err => showError(`Error loading script: ${err.message}`));\n",
       "    } else {\n",
       "      maybeLoadScript(\"vega\", \"5\")\n",
       "        .then(() => maybeLoadScript(\"vega-lite\", \"4.17.0\"))\n",
       "        .then(() => maybeLoadScript(\"vega-embed\", \"6\"))\n",
       "        .catch(showError)\n",
       "        .then(() => displayChart(vegaEmbed));\n",
       "    }\n",
       "  })({\"config\": {\"view\": {\"continuousWidth\": 400, \"continuousHeight\": 300}}, \"data\": {\"name\": \"data-bf53026ad02ab34227d9947bf92ee73e\"}, \"mark\": \"line\", \"encoding\": {\"color\": {\"field\": \"city\", \"type\": \"nominal\"}, \"tooltip\": [{\"field\": \"city\", \"type\": \"nominal\"}, {\"field\": \"temperature\", \"type\": \"quantitative\"}, {\"field\": \"pred\", \"type\": \"quantitative\"}, {\"field\": \"datetime\", \"type\": \"temporal\"}, {\"field\": \"hour\", \"type\": \"quantitative\"}], \"x\": {\"field\": \"datetime\", \"type\": \"temporal\"}, \"y\": {\"field\": \"pred\", \"type\": \"quantitative\"}}, \"width\": 600, \"$schema\": \"https://vega.github.io/schema/vega-lite/v4.17.0.json\", \"datasets\": {\"data-bf53026ad02ab34227d9947bf92ee73e\": [{\"datetime\": \"2012-12-29T10:00:00\", \"temperature\": 16.5, \"city_Detroit\": 1, \"city_San Diego\": 0, \"city_San Francisco\": 0, \"city\": \"Detroit\", \"day\": 29, \"month\": 12, \"year\": 2012, \"hour\": 10, \"day_of_week\": 5, \"pred\": 37.31256080828239}, {\"datetime\": \"2012-12-29T10:00:00\", \"temperature\": 43.8, \"city_Detroit\": 0, \"city_San Diego\": 1, \"city_San Francisco\": 0, \"city\": \"San Diego\", \"day\": 29, \"month\": 12, \"year\": 2012, \"hour\": 10, \"day_of_week\": 5, \"pred\": 52.504598800312856}, {\"datetime\": \"2012-12-29T11:00:00\", \"temperature\": 43.0, \"city_Detroit\": 0, \"city_San Diego\": 1, \"city_San Francisco\": 0, \"city\": \"San Diego\", \"day\": 29, \"month\": 12, \"year\": 2012, \"hour\": 11, \"day_of_week\": 5, \"pred\": 52.504598800312856}, {\"datetime\": \"2012-12-29T11:00:00\", \"temperature\": 19.7, \"city_Detroit\": 1, \"city_San Diego\": 0, \"city_San Francisco\": 0, \"city\": \"Detroit\", \"day\": 29, \"month\": 12, \"year\": 2012, \"hour\": 11, \"day_of_week\": 5, \"pred\": 37.31256080828239}, {\"datetime\": \"2012-12-29T11:00:00\", \"temperature\": 39.9, \"city_Detroit\": 0, \"city_San Diego\": 0, \"city_San Francisco\": 1, \"city\": \"San Francisco\", \"day\": 29, \"month\": 12, \"year\": 2012, \"hour\": 11, \"day_of_week\": 5, \"pred\": 52.504598800312856}, {\"datetime\": \"2012-12-29T12:00:00\", \"temperature\": 41.2, \"city_Detroit\": 0, \"city_San Diego\": 1, \"city_San Francisco\": 0, \"city\": \"San Diego\", \"day\": 29, \"month\": 12, \"year\": 2012, \"hour\": 12, \"day_of_week\": 5, \"pred\": 52.504598800312856}, {\"datetime\": \"2012-12-29T12:00:00\", \"temperature\": 18.5, \"city_Detroit\": 1, \"city_San Diego\": 0, \"city_San Francisco\": 0, \"city\": \"Detroit\", \"day\": 29, \"month\": 12, \"year\": 2012, \"hour\": 12, \"day_of_week\": 5, \"pred\": 37.31256080828239}, {\"datetime\": \"2012-12-29T12:00:00\", \"temperature\": 38.0, \"city_Detroit\": 0, \"city_San Diego\": 0, \"city_San Francisco\": 1, \"city\": \"San Francisco\", \"day\": 29, \"month\": 12, \"year\": 2012, \"hour\": 12, \"day_of_week\": 5, \"pred\": 52.504598800312856}, {\"datetime\": \"2012-12-29T13:00:00\", \"temperature\": 38.8, \"city_Detroit\": 0, \"city_San Diego\": 0, \"city_San Francisco\": 1, \"city\": \"San Francisco\", \"day\": 29, \"month\": 12, \"year\": 2012, \"hour\": 13, \"day_of_week\": 5, \"pred\": 52.504598800312856}, {\"datetime\": \"2012-12-29T13:00:00\", \"temperature\": 41.7, \"city_Detroit\": 0, \"city_San Diego\": 1, \"city_San Francisco\": 0, \"city\": \"San Diego\", \"day\": 29, \"month\": 12, \"year\": 2012, \"hour\": 13, \"day_of_week\": 5, \"pred\": 52.504598800312856}, {\"datetime\": \"2012-12-29T13:00:00\", \"temperature\": 17.4, \"city_Detroit\": 1, \"city_San Diego\": 0, \"city_San Francisco\": 0, \"city\": \"Detroit\", \"day\": 29, \"month\": 12, \"year\": 2012, \"hour\": 13, \"day_of_week\": 5, \"pred\": 37.31256080828239}, {\"datetime\": \"2012-12-29T14:00:00\", \"temperature\": 37.4, \"city_Detroit\": 0, \"city_San Diego\": 0, \"city_San Francisco\": 1, \"city\": \"San Francisco\", \"day\": 29, \"month\": 12, \"year\": 2012, \"hour\": 14, \"day_of_week\": 5, \"pred\": 52.504598800312856}, {\"datetime\": \"2012-12-29T14:00:00\", \"temperature\": 19.0, \"city_Detroit\": 1, \"city_San Diego\": 0, \"city_San Francisco\": 0, \"city\": \"Detroit\", \"day\": 29, \"month\": 12, \"year\": 2012, \"hour\": 14, \"day_of_week\": 5, \"pred\": 37.31256080828239}, {\"datetime\": \"2012-12-29T14:00:00\", \"temperature\": 40.6, \"city_Detroit\": 0, \"city_San Diego\": 1, \"city_San Francisco\": 0, \"city\": \"San Diego\", \"day\": 29, \"month\": 12, \"year\": 2012, \"hour\": 14, \"day_of_week\": 5, \"pred\": 52.504598800312856}, {\"datetime\": \"2012-12-29T15:00:00\", \"temperature\": 41.6, \"city_Detroit\": 0, \"city_San Diego\": 1, \"city_San Francisco\": 0, \"city\": \"San Diego\", \"day\": 29, \"month\": 12, \"year\": 2012, \"hour\": 15, \"day_of_week\": 5, \"pred\": 52.504598800312856}, {\"datetime\": \"2012-12-29T15:00:00\", \"temperature\": 21.6, \"city_Detroit\": 1, \"city_San Diego\": 0, \"city_San Francisco\": 0, \"city\": \"Detroit\", \"day\": 29, \"month\": 12, \"year\": 2012, \"hour\": 15, \"day_of_week\": 5, \"pred\": 37.31256080828239}, {\"datetime\": \"2012-12-29T15:00:00\", \"temperature\": 37.6, \"city_Detroit\": 0, \"city_San Diego\": 0, \"city_San Francisco\": 1, \"city\": \"San Francisco\", \"day\": 29, \"month\": 12, \"year\": 2012, \"hour\": 15, \"day_of_week\": 5, \"pred\": 52.504598800312856}, {\"datetime\": \"2012-12-29T16:00:00\", \"temperature\": 46.9, \"city_Detroit\": 0, \"city_San Diego\": 1, \"city_San Francisco\": 0, \"city\": \"San Diego\", \"day\": 29, \"month\": 12, \"year\": 2012, \"hour\": 16, \"day_of_week\": 5, \"pred\": 52.504598800312856}, {\"datetime\": \"2012-12-29T16:00:00\", \"temperature\": 39.3, \"city_Detroit\": 0, \"city_San Diego\": 0, \"city_San Francisco\": 1, \"city\": \"San Francisco\", \"day\": 29, \"month\": 12, \"year\": 2012, \"hour\": 16, \"day_of_week\": 5, \"pred\": 52.504598800312856}, {\"datetime\": \"2012-12-29T16:00:00\", \"temperature\": 24.5, \"city_Detroit\": 1, \"city_San Diego\": 0, \"city_San Francisco\": 0, \"city\": \"Detroit\", \"day\": 29, \"month\": 12, \"year\": 2012, \"hour\": 16, \"day_of_week\": 5, \"pred\": 37.31256080828239}, {\"datetime\": \"2012-12-29T17:00:00\", \"temperature\": 26.3, \"city_Detroit\": 1, \"city_San Diego\": 0, \"city_San Francisco\": 0, \"city\": \"Detroit\", \"day\": 29, \"month\": 12, \"year\": 2012, \"hour\": 17, \"day_of_week\": 5, \"pred\": 37.31256080828239}, {\"datetime\": \"2012-12-29T17:00:00\", \"temperature\": 40.7, \"city_Detroit\": 0, \"city_San Diego\": 0, \"city_San Francisco\": 1, \"city\": \"San Francisco\", \"day\": 29, \"month\": 12, \"year\": 2012, \"hour\": 17, \"day_of_week\": 5, \"pred\": 52.504598800312856}, {\"datetime\": \"2012-12-29T17:00:00\", \"temperature\": 53.0, \"city_Detroit\": 0, \"city_San Diego\": 1, \"city_San Francisco\": 0, \"city\": \"San Diego\", \"day\": 29, \"month\": 12, \"year\": 2012, \"hour\": 17, \"day_of_week\": 5, \"pred\": 52.504598800312856}, {\"datetime\": \"2012-12-29T18:00:00\", \"temperature\": 57.5, \"city_Detroit\": 0, \"city_San Diego\": 1, \"city_San Francisco\": 0, \"city\": \"San Diego\", \"day\": 29, \"month\": 12, \"year\": 2012, \"hour\": 18, \"day_of_week\": 5, \"pred\": 61.80028690662492}, {\"datetime\": \"2012-12-29T18:00:00\", \"temperature\": 27.9, \"city_Detroit\": 1, \"city_San Diego\": 0, \"city_San Francisco\": 0, \"city\": \"Detroit\", \"day\": 29, \"month\": 12, \"year\": 2012, \"hour\": 18, \"day_of_week\": 5, \"pred\": 37.31256080828239}, {\"datetime\": \"2012-12-29T18:00:00\", \"temperature\": 43.1, \"city_Detroit\": 0, \"city_San Diego\": 0, \"city_San Francisco\": 1, \"city\": \"San Francisco\", \"day\": 29, \"month\": 12, \"year\": 2012, \"hour\": 18, \"day_of_week\": 5, \"pred\": 61.80028690662492}, {\"datetime\": \"2012-12-29T19:00:00\", \"temperature\": 28.8, \"city_Detroit\": 1, \"city_San Diego\": 0, \"city_San Francisco\": 0, \"city\": \"Detroit\", \"day\": 29, \"month\": 12, \"year\": 2012, \"hour\": 19, \"day_of_week\": 5, \"pred\": 37.31256080828239}, {\"datetime\": \"2012-12-29T19:00:00\", \"temperature\": 59.6, \"city_Detroit\": 0, \"city_San Diego\": 1, \"city_San Francisco\": 0, \"city\": \"San Diego\", \"day\": 29, \"month\": 12, \"year\": 2012, \"hour\": 19, \"day_of_week\": 5, \"pred\": 61.80028690662492}, {\"datetime\": \"2012-12-29T19:00:00\", \"temperature\": 44.0, \"city_Detroit\": 0, \"city_San Diego\": 0, \"city_San Francisco\": 1, \"city\": \"San Francisco\", \"day\": 29, \"month\": 12, \"year\": 2012, \"hour\": 19, \"day_of_week\": 5, \"pred\": 61.80028690662492}, {\"datetime\": \"2012-12-29T20:00:00\", \"temperature\": 61.8, \"city_Detroit\": 0, \"city_San Diego\": 1, \"city_San Francisco\": 0, \"city\": \"San Diego\", \"day\": 29, \"month\": 12, \"year\": 2012, \"hour\": 20, \"day_of_week\": 5, \"pred\": 61.80028690662492}, {\"datetime\": \"2012-12-29T20:00:00\", \"temperature\": 45.2, \"city_Detroit\": 0, \"city_San Diego\": 0, \"city_San Francisco\": 1, \"city\": \"San Francisco\", \"day\": 29, \"month\": 12, \"year\": 2012, \"hour\": 20, \"day_of_week\": 5, \"pred\": 61.80028690662492}, {\"datetime\": \"2012-12-29T20:00:00\", \"temperature\": 28.8, \"city_Detroit\": 1, \"city_San Diego\": 0, \"city_San Francisco\": 0, \"city\": \"Detroit\", \"day\": 29, \"month\": 12, \"year\": 2012, \"hour\": 20, \"day_of_week\": 5, \"pred\": 37.31256080828239}, {\"datetime\": \"2012-12-29T21:00:00\", \"temperature\": 46.2, \"city_Detroit\": 0, \"city_San Diego\": 0, \"city_San Francisco\": 1, \"city\": \"San Francisco\", \"day\": 29, \"month\": 12, \"year\": 2012, \"hour\": 21, \"day_of_week\": 5, \"pred\": 61.80028690662492}, {\"datetime\": \"2012-12-29T21:00:00\", \"temperature\": 62.5, \"city_Detroit\": 0, \"city_San Diego\": 1, \"city_San Francisco\": 0, \"city\": \"San Diego\", \"day\": 29, \"month\": 12, \"year\": 2012, \"hour\": 21, \"day_of_week\": 5, \"pred\": 61.80028690662492}, {\"datetime\": \"2012-12-29T21:00:00\", \"temperature\": 29.9, \"city_Detroit\": 1, \"city_San Diego\": 0, \"city_San Francisco\": 0, \"city\": \"Detroit\", \"day\": 29, \"month\": 12, \"year\": 2012, \"hour\": 21, \"day_of_week\": 5, \"pred\": 37.31256080828239}, {\"datetime\": \"2012-12-29T22:00:00\", \"temperature\": 62.5, \"city_Detroit\": 0, \"city_San Diego\": 1, \"city_San Francisco\": 0, \"city\": \"San Diego\", \"day\": 29, \"month\": 12, \"year\": 2012, \"hour\": 22, \"day_of_week\": 5, \"pred\": 61.80028690662492}, {\"datetime\": \"2012-12-29T22:00:00\", \"temperature\": 29.0, \"city_Detroit\": 1, \"city_San Diego\": 0, \"city_San Francisco\": 0, \"city\": \"Detroit\", \"day\": 29, \"month\": 12, \"year\": 2012, \"hour\": 22, \"day_of_week\": 5, \"pred\": 37.31256080828239}, {\"datetime\": \"2012-12-29T22:00:00\", \"temperature\": 47.3, \"city_Detroit\": 0, \"city_San Diego\": 0, \"city_San Francisco\": 1, \"city\": \"San Francisco\", \"day\": 29, \"month\": 12, \"year\": 2012, \"hour\": 22, \"day_of_week\": 5, \"pred\": 61.80028690662492}, {\"datetime\": \"2012-12-29T23:00:00\", \"temperature\": 61.4, \"city_Detroit\": 0, \"city_San Diego\": 1, \"city_San Francisco\": 0, \"city\": \"San Diego\", \"day\": 29, \"month\": 12, \"year\": 2012, \"hour\": 23, \"day_of_week\": 5, \"pred\": 61.80028690662492}, {\"datetime\": \"2012-12-29T23:00:00\", \"temperature\": 28.1, \"city_Detroit\": 1, \"city_San Diego\": 0, \"city_San Francisco\": 0, \"city\": \"Detroit\", \"day\": 29, \"month\": 12, \"year\": 2012, \"hour\": 23, \"day_of_week\": 5, \"pred\": 37.31256080828239}, {\"datetime\": \"2012-12-29T23:00:00\", \"temperature\": 47.6, \"city_Detroit\": 0, \"city_San Diego\": 0, \"city_San Francisco\": 1, \"city\": \"San Francisco\", \"day\": 29, \"month\": 12, \"year\": 2012, \"hour\": 23, \"day_of_week\": 5, \"pred\": 61.80028690662492}, {\"datetime\": \"2012-12-30T00:00:00\", \"temperature\": 58.2, \"city_Detroit\": 0, \"city_San Diego\": 1, \"city_San Francisco\": 0, \"city\": \"San Diego\", \"day\": 30, \"month\": 12, \"year\": 2012, \"hour\": 0, \"day_of_week\": 6, \"pred\": 52.504598800312856}, {\"datetime\": \"2012-12-30T00:00:00\", \"temperature\": 27.1, \"city_Detroit\": 1, \"city_San Diego\": 0, \"city_San Francisco\": 0, \"city\": \"Detroit\", \"day\": 30, \"month\": 12, \"year\": 2012, \"hour\": 0, \"day_of_week\": 6, \"pred\": 37.31256080828239}, {\"datetime\": \"2012-12-30T00:00:00\", \"temperature\": 47.8, \"city_Detroit\": 0, \"city_San Diego\": 0, \"city_San Francisco\": 1, \"city\": \"San Francisco\", \"day\": 30, \"month\": 12, \"year\": 2012, \"hour\": 0, \"day_of_week\": 6, \"pred\": 52.504598800312856}, {\"datetime\": \"2012-12-30T01:00:00\", \"temperature\": 46.3, \"city_Detroit\": 0, \"city_San Diego\": 0, \"city_San Francisco\": 1, \"city\": \"San Francisco\", \"day\": 30, \"month\": 12, \"year\": 2012, \"hour\": 1, \"day_of_week\": 6, \"pred\": 52.504598800312856}, {\"datetime\": \"2012-12-30T01:00:00\", \"temperature\": 54.6, \"city_Detroit\": 0, \"city_San Diego\": 1, \"city_San Francisco\": 0, \"city\": \"San Diego\", \"day\": 30, \"month\": 12, \"year\": 2012, \"hour\": 1, \"day_of_week\": 6, \"pred\": 52.504598800312856}, {\"datetime\": \"2012-12-30T01:00:00\", \"temperature\": 26.8, \"city_Detroit\": 1, \"city_San Diego\": 0, \"city_San Francisco\": 0, \"city\": \"Detroit\", \"day\": 30, \"month\": 12, \"year\": 2012, \"hour\": 1, \"day_of_week\": 6, \"pred\": 37.31256080828239}, {\"datetime\": \"2012-12-30T02:00:00\", \"temperature\": 52.2, \"city_Detroit\": 0, \"city_San Diego\": 1, \"city_San Francisco\": 0, \"city\": \"San Diego\", \"day\": 30, \"month\": 12, \"year\": 2012, \"hour\": 2, \"day_of_week\": 6, \"pred\": 52.504598800312856}, {\"datetime\": \"2012-12-30T02:00:00\", \"temperature\": 26.5, \"city_Detroit\": 1, \"city_San Diego\": 0, \"city_San Francisco\": 0, \"city\": \"Detroit\", \"day\": 30, \"month\": 12, \"year\": 2012, \"hour\": 2, \"day_of_week\": 6, \"pred\": 37.31256080828239}, {\"datetime\": \"2012-12-30T02:00:00\", \"temperature\": 45.1, \"city_Detroit\": 0, \"city_San Diego\": 0, \"city_San Francisco\": 1, \"city\": \"San Francisco\", \"day\": 30, \"month\": 12, \"year\": 2012, \"hour\": 2, \"day_of_week\": 6, \"pred\": 52.504598800312856}, {\"datetime\": \"2012-12-30T03:00:00\", \"temperature\": 50.3, \"city_Detroit\": 0, \"city_San Diego\": 1, \"city_San Francisco\": 0, \"city\": \"San Diego\", \"day\": 30, \"month\": 12, \"year\": 2012, \"hour\": 3, \"day_of_week\": 6, \"pred\": 52.504598800312856}, {\"datetime\": \"2012-12-30T03:00:00\", \"temperature\": 26.6, \"city_Detroit\": 1, \"city_San Diego\": 0, \"city_San Francisco\": 0, \"city\": \"Detroit\", \"day\": 30, \"month\": 12, \"year\": 2012, \"hour\": 3, \"day_of_week\": 6, \"pred\": 37.31256080828239}, {\"datetime\": \"2012-12-30T03:00:00\", \"temperature\": 45.4, \"city_Detroit\": 0, \"city_San Diego\": 0, \"city_San Francisco\": 1, \"city\": \"San Francisco\", \"day\": 30, \"month\": 12, \"year\": 2012, \"hour\": 3, \"day_of_week\": 6, \"pred\": 52.504598800312856}, {\"datetime\": \"2012-12-30T04:00:00\", \"temperature\": 45.3, \"city_Detroit\": 0, \"city_San Diego\": 0, \"city_San Francisco\": 1, \"city\": \"San Francisco\", \"day\": 30, \"month\": 12, \"year\": 2012, \"hour\": 4, \"day_of_week\": 6, \"pred\": 52.504598800312856}, {\"datetime\": \"2012-12-30T04:00:00\", \"temperature\": 49.4, \"city_Detroit\": 0, \"city_San Diego\": 1, \"city_San Francisco\": 0, \"city\": \"San Diego\", \"day\": 30, \"month\": 12, \"year\": 2012, \"hour\": 4, \"day_of_week\": 6, \"pred\": 52.504598800312856}, {\"datetime\": \"2012-12-30T04:00:00\", \"temperature\": 27.3, \"city_Detroit\": 1, \"city_San Diego\": 0, \"city_San Francisco\": 0, \"city\": \"Detroit\", \"day\": 30, \"month\": 12, \"year\": 2012, \"hour\": 4, \"day_of_week\": 6, \"pred\": 37.31256080828239}, {\"datetime\": \"2012-12-30T05:00:00\", \"temperature\": 44.7, \"city_Detroit\": 0, \"city_San Diego\": 0, \"city_San Francisco\": 1, \"city\": \"San Francisco\", \"day\": 30, \"month\": 12, \"year\": 2012, \"hour\": 5, \"day_of_week\": 6, \"pred\": 52.504598800312856}, {\"datetime\": \"2012-12-30T05:00:00\", \"temperature\": 28.2, \"city_Detroit\": 1, \"city_San Diego\": 0, \"city_San Francisco\": 0, \"city\": \"Detroit\", \"day\": 30, \"month\": 12, \"year\": 2012, \"hour\": 5, \"day_of_week\": 6, \"pred\": 37.31256080828239}, {\"datetime\": \"2012-12-30T05:00:00\", \"temperature\": 48.2, \"city_Detroit\": 0, \"city_San Diego\": 1, \"city_San Francisco\": 0, \"city\": \"San Diego\", \"day\": 30, \"month\": 12, \"year\": 2012, \"hour\": 5, \"day_of_week\": 6, \"pred\": 52.504598800312856}, {\"datetime\": \"2012-12-30T06:00:00\", \"temperature\": 44.5, \"city_Detroit\": 0, \"city_San Diego\": 0, \"city_San Francisco\": 1, \"city\": \"San Francisco\", \"day\": 30, \"month\": 12, \"year\": 2012, \"hour\": 6, \"day_of_week\": 6, \"pred\": 52.504598800312856}, {\"datetime\": \"2012-12-30T06:00:00\", \"temperature\": 28.2, \"city_Detroit\": 1, \"city_San Diego\": 0, \"city_San Francisco\": 0, \"city\": \"Detroit\", \"day\": 30, \"month\": 12, \"year\": 2012, \"hour\": 6, \"day_of_week\": 6, \"pred\": 37.31256080828239}, {\"datetime\": \"2012-12-30T06:00:00\", \"temperature\": 48.4, \"city_Detroit\": 0, \"city_San Diego\": 1, \"city_San Francisco\": 0, \"city\": \"San Diego\", \"day\": 30, \"month\": 12, \"year\": 2012, \"hour\": 6, \"day_of_week\": 6, \"pred\": 52.504598800312856}, {\"datetime\": \"2012-12-30T07:00:00\", \"temperature\": 48.6, \"city_Detroit\": 0, \"city_San Diego\": 1, \"city_San Francisco\": 0, \"city\": \"San Diego\", \"day\": 30, \"month\": 12, \"year\": 2012, \"hour\": 7, \"day_of_week\": 6, \"pred\": 52.504598800312856}, {\"datetime\": \"2012-12-30T07:00:00\", \"temperature\": 43.9, \"city_Detroit\": 0, \"city_San Diego\": 0, \"city_San Francisco\": 1, \"city\": \"San Francisco\", \"day\": 30, \"month\": 12, \"year\": 2012, \"hour\": 7, \"day_of_week\": 6, \"pred\": 52.504598800312856}, {\"datetime\": \"2012-12-30T07:00:00\", \"temperature\": 28.1, \"city_Detroit\": 1, \"city_San Diego\": 0, \"city_San Francisco\": 0, \"city\": \"Detroit\", \"day\": 30, \"month\": 12, \"year\": 2012, \"hour\": 7, \"day_of_week\": 6, \"pred\": 37.31256080828239}, {\"datetime\": \"2012-12-30T08:00:00\", \"temperature\": 48.3, \"city_Detroit\": 0, \"city_San Diego\": 1, \"city_San Francisco\": 0, \"city\": \"San Diego\", \"day\": 30, \"month\": 12, \"year\": 2012, \"hour\": 8, \"day_of_week\": 6, \"pred\": 52.504598800312856}, {\"datetime\": \"2012-12-30T08:00:00\", \"temperature\": 43.9, \"city_Detroit\": 0, \"city_San Diego\": 0, \"city_San Francisco\": 1, \"city\": \"San Francisco\", \"day\": 30, \"month\": 12, \"year\": 2012, \"hour\": 8, \"day_of_week\": 6, \"pred\": 52.504598800312856}, {\"datetime\": \"2012-12-30T08:00:00\", \"temperature\": 28.1, \"city_Detroit\": 1, \"city_San Diego\": 0, \"city_San Francisco\": 0, \"city\": \"Detroit\", \"day\": 30, \"month\": 12, \"year\": 2012, \"hour\": 8, \"day_of_week\": 6, \"pred\": 37.31256080828239}, {\"datetime\": \"2012-12-30T09:00:00\", \"temperature\": 47.5, \"city_Detroit\": 0, \"city_San Diego\": 1, \"city_San Francisco\": 0, \"city\": \"San Diego\", \"day\": 30, \"month\": 12, \"year\": 2012, \"hour\": 9, \"day_of_week\": 6, \"pred\": 52.504598800312856}, {\"datetime\": \"2012-12-30T09:00:00\", \"temperature\": 27.9, \"city_Detroit\": 1, \"city_San Diego\": 0, \"city_San Francisco\": 0, \"city\": \"Detroit\", \"day\": 30, \"month\": 12, \"year\": 2012, \"hour\": 9, \"day_of_week\": 6, \"pred\": 37.31256080828239}, {\"datetime\": \"2012-12-30T09:00:00\", \"temperature\": 43.2, \"city_Detroit\": 0, \"city_San Diego\": 0, \"city_San Francisco\": 1, \"city\": \"San Francisco\", \"day\": 30, \"month\": 12, \"year\": 2012, \"hour\": 9, \"day_of_week\": 6, \"pred\": 52.504598800312856}, {\"datetime\": \"2012-12-30T10:00:00\", \"temperature\": 45.9, \"city_Detroit\": 0, \"city_San Diego\": 1, \"city_San Francisco\": 0, \"city\": \"San Diego\", \"day\": 30, \"month\": 12, \"year\": 2012, \"hour\": 10, \"day_of_week\": 6, \"pred\": 52.504598800312856}, {\"datetime\": \"2012-12-30T10:00:00\", \"temperature\": 27.8, \"city_Detroit\": 1, \"city_San Diego\": 0, \"city_San Francisco\": 0, \"city\": \"Detroit\", \"day\": 30, \"month\": 12, \"year\": 2012, \"hour\": 10, \"day_of_week\": 6, \"pred\": 37.31256080828239}, {\"datetime\": \"2012-12-30T10:00:00\", \"temperature\": 43.2, \"city_Detroit\": 0, \"city_San Diego\": 0, \"city_San Francisco\": 1, \"city\": \"San Francisco\", \"day\": 30, \"month\": 12, \"year\": 2012, \"hour\": 10, \"day_of_week\": 6, \"pred\": 52.504598800312856}, {\"datetime\": \"2012-12-30T11:00:00\", \"temperature\": 43.2, \"city_Detroit\": 0, \"city_San Diego\": 0, \"city_San Francisco\": 1, \"city\": \"San Francisco\", \"day\": 30, \"month\": 12, \"year\": 2012, \"hour\": 11, \"day_of_week\": 6, \"pred\": 52.504598800312856}, {\"datetime\": \"2012-12-30T11:00:00\", \"temperature\": 44.6, \"city_Detroit\": 0, \"city_San Diego\": 1, \"city_San Francisco\": 0, \"city\": \"San Diego\", \"day\": 30, \"month\": 12, \"year\": 2012, \"hour\": 11, \"day_of_week\": 6, \"pred\": 52.504598800312856}, {\"datetime\": \"2012-12-30T11:00:00\", \"temperature\": 28.0, \"city_Detroit\": 1, \"city_San Diego\": 0, \"city_San Francisco\": 0, \"city\": \"Detroit\", \"day\": 30, \"month\": 12, \"year\": 2012, \"hour\": 11, \"day_of_week\": 6, \"pred\": 37.31256080828239}, {\"datetime\": \"2012-12-30T12:00:00\", \"temperature\": 43.4, \"city_Detroit\": 0, \"city_San Diego\": 1, \"city_San Francisco\": 0, \"city\": \"San Diego\", \"day\": 30, \"month\": 12, \"year\": 2012, \"hour\": 12, \"day_of_week\": 6, \"pred\": 52.504598800312856}, {\"datetime\": \"2012-12-30T12:00:00\", \"temperature\": 43.0, \"city_Detroit\": 0, \"city_San Diego\": 0, \"city_San Francisco\": 1, \"city\": \"San Francisco\", \"day\": 30, \"month\": 12, \"year\": 2012, \"hour\": 12, \"day_of_week\": 6, \"pred\": 52.504598800312856}, {\"datetime\": \"2012-12-30T12:00:00\", \"temperature\": 28.4, \"city_Detroit\": 1, \"city_San Diego\": 0, \"city_San Francisco\": 0, \"city\": \"Detroit\", \"day\": 30, \"month\": 12, \"year\": 2012, \"hour\": 12, \"day_of_week\": 6, \"pred\": 37.31256080828239}, {\"datetime\": \"2012-12-30T13:00:00\", \"temperature\": 42.8, \"city_Detroit\": 0, \"city_San Diego\": 0, \"city_San Francisco\": 1, \"city\": \"San Francisco\", \"day\": 30, \"month\": 12, \"year\": 2012, \"hour\": 13, \"day_of_week\": 6, \"pred\": 52.504598800312856}, {\"datetime\": \"2012-12-30T13:00:00\", \"temperature\": 28.4, \"city_Detroit\": 1, \"city_San Diego\": 0, \"city_San Francisco\": 0, \"city\": \"Detroit\", \"day\": 30, \"month\": 12, \"year\": 2012, \"hour\": 13, \"day_of_week\": 6, \"pred\": 37.31256080828239}, {\"datetime\": \"2012-12-30T13:00:00\", \"temperature\": 43.3, \"city_Detroit\": 0, \"city_San Diego\": 1, \"city_San Francisco\": 0, \"city\": \"San Diego\", \"day\": 30, \"month\": 12, \"year\": 2012, \"hour\": 13, \"day_of_week\": 6, \"pred\": 52.504598800312856}, {\"datetime\": \"2012-12-30T14:00:00\", \"temperature\": 28.4, \"city_Detroit\": 1, \"city_San Diego\": 0, \"city_San Francisco\": 0, \"city\": \"Detroit\", \"day\": 30, \"month\": 12, \"year\": 2012, \"hour\": 14, \"day_of_week\": 6, \"pred\": 37.31256080828239}, {\"datetime\": \"2012-12-30T14:00:00\", \"temperature\": 45.0, \"city_Detroit\": 0, \"city_San Diego\": 1, \"city_San Francisco\": 0, \"city\": \"San Diego\", \"day\": 30, \"month\": 12, \"year\": 2012, \"hour\": 14, \"day_of_week\": 6, \"pred\": 52.504598800312856}, {\"datetime\": \"2012-12-30T14:00:00\", \"temperature\": 43.1, \"city_Detroit\": 0, \"city_San Diego\": 0, \"city_San Francisco\": 1, \"city\": \"San Francisco\", \"day\": 30, \"month\": 12, \"year\": 2012, \"hour\": 14, \"day_of_week\": 6, \"pred\": 52.504598800312856}, {\"datetime\": \"2012-12-30T15:00:00\", \"temperature\": 28.8, \"city_Detroit\": 1, \"city_San Diego\": 0, \"city_San Francisco\": 0, \"city\": \"Detroit\", \"day\": 30, \"month\": 12, \"year\": 2012, \"hour\": 15, \"day_of_week\": 6, \"pred\": 37.31256080828239}, {\"datetime\": \"2012-12-30T15:00:00\", \"temperature\": 44.9, \"city_Detroit\": 0, \"city_San Diego\": 1, \"city_San Francisco\": 0, \"city\": \"San Diego\", \"day\": 30, \"month\": 12, \"year\": 2012, \"hour\": 15, \"day_of_week\": 6, \"pred\": 52.504598800312856}, {\"datetime\": \"2012-12-30T15:00:00\", \"temperature\": 42.6, \"city_Detroit\": 0, \"city_San Diego\": 0, \"city_San Francisco\": 1, \"city\": \"San Francisco\", \"day\": 30, \"month\": 12, \"year\": 2012, \"hour\": 15, \"day_of_week\": 6, \"pred\": 52.504598800312856}, {\"datetime\": \"2012-12-30T16:00:00\", \"temperature\": 47.3, \"city_Detroit\": 0, \"city_San Diego\": 1, \"city_San Francisco\": 0, \"city\": \"San Diego\", \"day\": 30, \"month\": 12, \"year\": 2012, \"hour\": 16, \"day_of_week\": 6, \"pred\": 52.504598800312856}, {\"datetime\": \"2012-12-30T16:00:00\", \"temperature\": 26.5, \"city_Detroit\": 1, \"city_San Diego\": 0, \"city_San Francisco\": 0, \"city\": \"Detroit\", \"day\": 30, \"month\": 12, \"year\": 2012, \"hour\": 16, \"day_of_week\": 6, \"pred\": 37.31256080828239}, {\"datetime\": \"2012-12-30T16:00:00\", \"temperature\": 43.8, \"city_Detroit\": 0, \"city_San Diego\": 0, \"city_San Francisco\": 1, \"city\": \"San Francisco\", \"day\": 30, \"month\": 12, \"year\": 2012, \"hour\": 16, \"day_of_week\": 6, \"pred\": 52.504598800312856}, {\"datetime\": \"2012-12-30T17:00:00\", \"temperature\": 44.7, \"city_Detroit\": 0, \"city_San Diego\": 0, \"city_San Francisco\": 1, \"city\": \"San Francisco\", \"day\": 30, \"month\": 12, \"year\": 2012, \"hour\": 17, \"day_of_week\": 6, \"pred\": 52.504598800312856}, {\"datetime\": \"2012-12-30T17:00:00\", \"temperature\": 51.7, \"city_Detroit\": 0, \"city_San Diego\": 1, \"city_San Francisco\": 0, \"city\": \"San Diego\", \"day\": 30, \"month\": 12, \"year\": 2012, \"hour\": 17, \"day_of_week\": 6, \"pred\": 52.504598800312856}, {\"datetime\": \"2012-12-30T17:00:00\", \"temperature\": 30.8, \"city_Detroit\": 1, \"city_San Diego\": 0, \"city_San Francisco\": 0, \"city\": \"Detroit\", \"day\": 30, \"month\": 12, \"year\": 2012, \"hour\": 17, \"day_of_week\": 6, \"pred\": 37.31256080828239}, {\"datetime\": \"2012-12-30T18:00:00\", \"temperature\": 30.8, \"city_Detroit\": 1, \"city_San Diego\": 0, \"city_San Francisco\": 0, \"city\": \"Detroit\", \"day\": 30, \"month\": 12, \"year\": 2012, \"hour\": 18, \"day_of_week\": 6, \"pred\": 37.31256080828239}, {\"datetime\": \"2012-12-30T18:00:00\", \"temperature\": 46.3, \"city_Detroit\": 0, \"city_San Diego\": 0, \"city_San Francisco\": 1, \"city\": \"San Francisco\", \"day\": 30, \"month\": 12, \"year\": 2012, \"hour\": 18, \"day_of_week\": 6, \"pred\": 61.80028690662492}, {\"datetime\": \"2012-12-30T18:00:00\", \"temperature\": 55.2, \"city_Detroit\": 0, \"city_San Diego\": 1, \"city_San Francisco\": 0, \"city\": \"San Diego\", \"day\": 30, \"month\": 12, \"year\": 2012, \"hour\": 18, \"day_of_week\": 6, \"pred\": 61.80028690662492}, {\"datetime\": \"2012-12-30T19:00:00\", \"temperature\": 30.6, \"city_Detroit\": 1, \"city_San Diego\": 0, \"city_San Francisco\": 0, \"city\": \"Detroit\", \"day\": 30, \"month\": 12, \"year\": 2012, \"hour\": 19, \"day_of_week\": 6, \"pred\": 37.31256080828239}, {\"datetime\": \"2012-12-30T19:00:00\", \"temperature\": 48.7, \"city_Detroit\": 0, \"city_San Diego\": 0, \"city_San Francisco\": 1, \"city\": \"San Francisco\", \"day\": 30, \"month\": 12, \"year\": 2012, \"hour\": 19, \"day_of_week\": 6, \"pred\": 61.80028690662492}, {\"datetime\": \"2012-12-30T19:00:00\", \"temperature\": 56.9, \"city_Detroit\": 0, \"city_San Diego\": 1, \"city_San Francisco\": 0, \"city\": \"San Diego\", \"day\": 30, \"month\": 12, \"year\": 2012, \"hour\": 19, \"day_of_week\": 6, \"pred\": 61.80028690662492}, {\"datetime\": \"2012-12-30T20:00:00\", \"temperature\": 30.6, \"city_Detroit\": 1, \"city_San Diego\": 0, \"city_San Francisco\": 0, \"city\": \"Detroit\", \"day\": 30, \"month\": 12, \"year\": 2012, \"hour\": 20, \"day_of_week\": 6, \"pred\": 37.31256080828239}, {\"datetime\": \"2012-12-30T20:00:00\", \"temperature\": 49.8, \"city_Detroit\": 0, \"city_San Diego\": 0, \"city_San Francisco\": 1, \"city\": \"San Francisco\", \"day\": 30, \"month\": 12, \"year\": 2012, \"hour\": 20, \"day_of_week\": 6, \"pred\": 61.80028690662492}, {\"datetime\": \"2012-12-30T20:00:00\", \"temperature\": 58.8, \"city_Detroit\": 0, \"city_San Diego\": 1, \"city_San Francisco\": 0, \"city\": \"San Diego\", \"day\": 30, \"month\": 12, \"year\": 2012, \"hour\": 20, \"day_of_week\": 6, \"pred\": 61.80028690662492}, {\"datetime\": \"2012-12-30T21:00:00\", \"temperature\": 30.6, \"city_Detroit\": 1, \"city_San Diego\": 0, \"city_San Francisco\": 0, \"city\": \"Detroit\", \"day\": 30, \"month\": 12, \"year\": 2012, \"hour\": 21, \"day_of_week\": 6, \"pred\": 37.31256080828239}, {\"datetime\": \"2012-12-30T21:00:00\", \"temperature\": 50.9, \"city_Detroit\": 0, \"city_San Diego\": 0, \"city_San Francisco\": 1, \"city\": \"San Francisco\", \"day\": 30, \"month\": 12, \"year\": 2012, \"hour\": 21, \"day_of_week\": 6, \"pred\": 61.80028690662492}, {\"datetime\": \"2012-12-30T21:00:00\", \"temperature\": 57.9, \"city_Detroit\": 0, \"city_San Diego\": 1, \"city_San Francisco\": 0, \"city\": \"San Diego\", \"day\": 30, \"month\": 12, \"year\": 2012, \"hour\": 21, \"day_of_week\": 6, \"pred\": 61.80028690662492}, {\"datetime\": \"2012-12-30T22:00:00\", \"temperature\": 57.2, \"city_Detroit\": 0, \"city_San Diego\": 1, \"city_San Francisco\": 0, \"city\": \"San Diego\", \"day\": 30, \"month\": 12, \"year\": 2012, \"hour\": 22, \"day_of_week\": 6, \"pred\": 61.80028690662492}, {\"datetime\": \"2012-12-30T22:00:00\", \"temperature\": 29.9, \"city_Detroit\": 1, \"city_San Diego\": 0, \"city_San Francisco\": 0, \"city\": \"Detroit\", \"day\": 30, \"month\": 12, \"year\": 2012, \"hour\": 22, \"day_of_week\": 6, \"pred\": 37.31256080828239}, {\"datetime\": \"2012-12-30T22:00:00\", \"temperature\": 51.9, \"city_Detroit\": 0, \"city_San Diego\": 0, \"city_San Francisco\": 1, \"city\": \"San Francisco\", \"day\": 30, \"month\": 12, \"year\": 2012, \"hour\": 22, \"day_of_week\": 6, \"pred\": 61.80028690662492}, {\"datetime\": \"2012-12-30T23:00:00\", \"temperature\": 55.4, \"city_Detroit\": 0, \"city_San Diego\": 1, \"city_San Francisco\": 0, \"city\": \"San Diego\", \"day\": 30, \"month\": 12, \"year\": 2012, \"hour\": 23, \"day_of_week\": 6, \"pred\": 61.80028690662492}, {\"datetime\": \"2012-12-30T23:00:00\", \"temperature\": 29.6, \"city_Detroit\": 1, \"city_San Diego\": 0, \"city_San Francisco\": 0, \"city\": \"Detroit\", \"day\": 30, \"month\": 12, \"year\": 2012, \"hour\": 23, \"day_of_week\": 6, \"pred\": 37.31256080828239}, {\"datetime\": \"2012-12-30T23:00:00\", \"temperature\": 53.5, \"city_Detroit\": 0, \"city_San Diego\": 0, \"city_San Francisco\": 1, \"city\": \"San Francisco\", \"day\": 30, \"month\": 12, \"year\": 2012, \"hour\": 23, \"day_of_week\": 6, \"pred\": 61.80028690662492}, {\"datetime\": \"2012-12-31T00:00:00\", \"temperature\": 29.2, \"city_Detroit\": 1, \"city_San Diego\": 0, \"city_San Francisco\": 0, \"city\": \"Detroit\", \"day\": 31, \"month\": 12, \"year\": 2012, \"hour\": 0, \"day_of_week\": 0, \"pred\": 37.31256080828239}, {\"datetime\": \"2012-12-31T00:00:00\", \"temperature\": 53.4, \"city_Detroit\": 0, \"city_San Diego\": 1, \"city_San Francisco\": 0, \"city\": \"San Diego\", \"day\": 31, \"month\": 12, \"year\": 2012, \"hour\": 0, \"day_of_week\": 0, \"pred\": 52.504598800312856}, {\"datetime\": \"2012-12-31T00:00:00\", \"temperature\": 52.8, \"city_Detroit\": 0, \"city_San Diego\": 0, \"city_San Francisco\": 1, \"city\": \"San Francisco\", \"day\": 31, \"month\": 12, \"year\": 2012, \"hour\": 0, \"day_of_week\": 0, \"pred\": 52.504598800312856}, {\"datetime\": \"2012-12-31T01:00:00\", \"temperature\": 51.7, \"city_Detroit\": 0, \"city_San Diego\": 1, \"city_San Francisco\": 0, \"city\": \"San Diego\", \"day\": 31, \"month\": 12, \"year\": 2012, \"hour\": 1, \"day_of_week\": 0, \"pred\": 52.504598800312856}, {\"datetime\": \"2012-12-31T01:00:00\", \"temperature\": 49.9, \"city_Detroit\": 0, \"city_San Diego\": 0, \"city_San Francisco\": 1, \"city\": \"San Francisco\", \"day\": 31, \"month\": 12, \"year\": 2012, \"hour\": 1, \"day_of_week\": 0, \"pred\": 52.504598800312856}, {\"datetime\": \"2012-12-31T01:00:00\", \"temperature\": 29.2, \"city_Detroit\": 1, \"city_San Diego\": 0, \"city_San Francisco\": 0, \"city\": \"Detroit\", \"day\": 31, \"month\": 12, \"year\": 2012, \"hour\": 1, \"day_of_week\": 0, \"pred\": 37.31256080828239}, {\"datetime\": \"2012-12-31T02:00:00\", \"temperature\": 51.0, \"city_Detroit\": 0, \"city_San Diego\": 1, \"city_San Francisco\": 0, \"city\": \"San Diego\", \"day\": 31, \"month\": 12, \"year\": 2012, \"hour\": 2, \"day_of_week\": 0, \"pred\": 52.504598800312856}, {\"datetime\": \"2012-12-31T02:00:00\", \"temperature\": 46.2, \"city_Detroit\": 0, \"city_San Diego\": 0, \"city_San Francisco\": 1, \"city\": \"San Francisco\", \"day\": 31, \"month\": 12, \"year\": 2012, \"hour\": 2, \"day_of_week\": 0, \"pred\": 52.504598800312856}, {\"datetime\": \"2012-12-31T02:00:00\", \"temperature\": 28.5, \"city_Detroit\": 1, \"city_San Diego\": 0, \"city_San Francisco\": 0, \"city\": \"Detroit\", \"day\": 31, \"month\": 12, \"year\": 2012, \"hour\": 2, \"day_of_week\": 0, \"pred\": 37.31256080828239}, {\"datetime\": \"2012-12-31T03:00:00\", \"temperature\": 44.5, \"city_Detroit\": 0, \"city_San Diego\": 0, \"city_San Francisco\": 1, \"city\": \"San Francisco\", \"day\": 31, \"month\": 12, \"year\": 2012, \"hour\": 3, \"day_of_week\": 0, \"pred\": 52.504598800312856}, {\"datetime\": \"2012-12-31T03:00:00\", \"temperature\": 50.8, \"city_Detroit\": 0, \"city_San Diego\": 1, \"city_San Francisco\": 0, \"city\": \"San Diego\", \"day\": 31, \"month\": 12, \"year\": 2012, \"hour\": 3, \"day_of_week\": 0, \"pred\": 52.504598800312856}, {\"datetime\": \"2012-12-31T03:00:00\", \"temperature\": 27.4, \"city_Detroit\": 1, \"city_San Diego\": 0, \"city_San Francisco\": 0, \"city\": \"Detroit\", \"day\": 31, \"month\": 12, \"year\": 2012, \"hour\": 3, \"day_of_week\": 0, \"pred\": 37.31256080828239}, {\"datetime\": \"2012-12-31T04:00:00\", \"temperature\": 50.1, \"city_Detroit\": 0, \"city_San Diego\": 1, \"city_San Francisco\": 0, \"city\": \"San Diego\", \"day\": 31, \"month\": 12, \"year\": 2012, \"hour\": 4, \"day_of_week\": 0, \"pred\": 52.504598800312856}, {\"datetime\": \"2012-12-31T04:00:00\", \"temperature\": 43.0, \"city_Detroit\": 0, \"city_San Diego\": 0, \"city_San Francisco\": 1, \"city\": \"San Francisco\", \"day\": 31, \"month\": 12, \"year\": 2012, \"hour\": 4, \"day_of_week\": 0, \"pred\": 52.504598800312856}, {\"datetime\": \"2012-12-31T04:00:00\", \"temperature\": 25.6, \"city_Detroit\": 1, \"city_San Diego\": 0, \"city_San Francisco\": 0, \"city\": \"Detroit\", \"day\": 31, \"month\": 12, \"year\": 2012, \"hour\": 4, \"day_of_week\": 0, \"pred\": 37.31256080828239}, {\"datetime\": \"2012-12-31T05:00:00\", \"temperature\": 26.1, \"city_Detroit\": 1, \"city_San Diego\": 0, \"city_San Francisco\": 0, \"city\": \"Detroit\", \"day\": 31, \"month\": 12, \"year\": 2012, \"hour\": 5, \"day_of_week\": 0, \"pred\": 37.31256080828239}, {\"datetime\": \"2012-12-31T05:00:00\", \"temperature\": 47.6, \"city_Detroit\": 0, \"city_San Diego\": 1, \"city_San Francisco\": 0, \"city\": \"San Diego\", \"day\": 31, \"month\": 12, \"year\": 2012, \"hour\": 5, \"day_of_week\": 0, \"pred\": 52.504598800312856}, {\"datetime\": \"2012-12-31T05:00:00\", \"temperature\": 41.2, \"city_Detroit\": 0, \"city_San Diego\": 0, \"city_San Francisco\": 1, \"city\": \"San Francisco\", \"day\": 31, \"month\": 12, \"year\": 2012, \"hour\": 5, \"day_of_week\": 0, \"pred\": 52.504598800312856}, {\"datetime\": \"2012-12-31T06:00:00\", \"temperature\": 39.6, \"city_Detroit\": 0, \"city_San Diego\": 0, \"city_San Francisco\": 1, \"city\": \"San Francisco\", \"day\": 31, \"month\": 12, \"year\": 2012, \"hour\": 6, \"day_of_week\": 0, \"pred\": 52.504598800312856}, {\"datetime\": \"2012-12-31T06:00:00\", \"temperature\": 21.8, \"city_Detroit\": 1, \"city_San Diego\": 0, \"city_San Francisco\": 0, \"city\": \"Detroit\", \"day\": 31, \"month\": 12, \"year\": 2012, \"hour\": 6, \"day_of_week\": 0, \"pred\": 37.31256080828239}, {\"datetime\": \"2012-12-31T06:00:00\", \"temperature\": 46.9, \"city_Detroit\": 0, \"city_San Diego\": 1, \"city_San Francisco\": 0, \"city\": \"San Diego\", \"day\": 31, \"month\": 12, \"year\": 2012, \"hour\": 6, \"day_of_week\": 0, \"pred\": 52.504598800312856}, {\"datetime\": \"2012-12-31T07:00:00\", \"temperature\": 46.1, \"city_Detroit\": 0, \"city_San Diego\": 1, \"city_San Francisco\": 0, \"city\": \"San Diego\", \"day\": 31, \"month\": 12, \"year\": 2012, \"hour\": 7, \"day_of_week\": 0, \"pred\": 52.504598800312856}, {\"datetime\": \"2012-12-31T07:00:00\", \"temperature\": 38.0, \"city_Detroit\": 0, \"city_San Diego\": 0, \"city_San Francisco\": 1, \"city\": \"San Francisco\", \"day\": 31, \"month\": 12, \"year\": 2012, \"hour\": 7, \"day_of_week\": 0, \"pred\": 52.504598800312856}, {\"datetime\": \"2012-12-31T07:00:00\", \"temperature\": 17.5, \"city_Detroit\": 1, \"city_San Diego\": 0, \"city_San Francisco\": 0, \"city\": \"Detroit\", \"day\": 31, \"month\": 12, \"year\": 2012, \"hour\": 7, \"day_of_week\": 0, \"pred\": 37.31256080828239}, {\"datetime\": \"2012-12-31T08:00:00\", \"temperature\": 46.1, \"city_Detroit\": 0, \"city_San Diego\": 1, \"city_San Francisco\": 0, \"city\": \"San Diego\", \"day\": 31, \"month\": 12, \"year\": 2012, \"hour\": 8, \"day_of_week\": 0, \"pred\": 52.504598800312856}, {\"datetime\": \"2012-12-31T08:00:00\", \"temperature\": 17.5, \"city_Detroit\": 1, \"city_San Diego\": 0, \"city_San Francisco\": 0, \"city\": \"Detroit\", \"day\": 31, \"month\": 12, \"year\": 2012, \"hour\": 8, \"day_of_week\": 0, \"pred\": 37.31256080828239}, {\"datetime\": \"2012-12-31T08:00:00\", \"temperature\": 38.0, \"city_Detroit\": 0, \"city_San Diego\": 0, \"city_San Francisco\": 1, \"city\": \"San Francisco\", \"day\": 31, \"month\": 12, \"year\": 2012, \"hour\": 8, \"day_of_week\": 0, \"pred\": 52.504598800312856}, {\"datetime\": \"2012-12-31T09:00:00\", \"temperature\": 45.6, \"city_Detroit\": 0, \"city_San Diego\": 1, \"city_San Francisco\": 0, \"city\": \"San Diego\", \"day\": 31, \"month\": 12, \"year\": 2012, \"hour\": 9, \"day_of_week\": 0, \"pred\": 52.504598800312856}, {\"datetime\": \"2012-12-31T09:00:00\", \"temperature\": 25.1, \"city_Detroit\": 1, \"city_San Diego\": 0, \"city_San Francisco\": 0, \"city\": \"Detroit\", \"day\": 31, \"month\": 12, \"year\": 2012, \"hour\": 9, \"day_of_week\": 0, \"pred\": 37.31256080828239}, {\"datetime\": \"2012-12-31T09:00:00\", \"temperature\": 39.4, \"city_Detroit\": 0, \"city_San Diego\": 0, \"city_San Francisco\": 1, \"city\": \"San Francisco\", \"day\": 31, \"month\": 12, \"year\": 2012, \"hour\": 9, \"day_of_week\": 0, \"pred\": 52.504598800312856}, {\"datetime\": \"2012-12-31T10:00:00\", \"temperature\": 25.5, \"city_Detroit\": 1, \"city_San Diego\": 0, \"city_San Francisco\": 0, \"city\": \"Detroit\", \"day\": 31, \"month\": 12, \"year\": 2012, \"hour\": 10, \"day_of_week\": 0, \"pred\": 37.31256080828239}, {\"datetime\": \"2012-12-31T10:00:00\", \"temperature\": 39.4, \"city_Detroit\": 0, \"city_San Diego\": 0, \"city_San Francisco\": 1, \"city\": \"San Francisco\", \"day\": 31, \"month\": 12, \"year\": 2012, \"hour\": 10, \"day_of_week\": 0, \"pred\": 52.504598800312856}, {\"datetime\": \"2012-12-31T10:00:00\", \"temperature\": 45.2, \"city_Detroit\": 0, \"city_San Diego\": 1, \"city_San Francisco\": 0, \"city\": \"San Diego\", \"day\": 31, \"month\": 12, \"year\": 2012, \"hour\": 10, \"day_of_week\": 0, \"pred\": 52.504598800312856}, {\"datetime\": \"2012-12-31T11:00:00\", \"temperature\": 26.7, \"city_Detroit\": 1, \"city_San Diego\": 0, \"city_San Francisco\": 0, \"city\": \"Detroit\", \"day\": 31, \"month\": 12, \"year\": 2012, \"hour\": 11, \"day_of_week\": 0, \"pred\": 37.31256080828239}, {\"datetime\": \"2012-12-31T11:00:00\", \"temperature\": 39.5, \"city_Detroit\": 0, \"city_San Diego\": 0, \"city_San Francisco\": 1, \"city\": \"San Francisco\", \"day\": 31, \"month\": 12, \"year\": 2012, \"hour\": 11, \"day_of_week\": 0, \"pred\": 52.504598800312856}, {\"datetime\": \"2012-12-31T11:00:00\", \"temperature\": 44.7, \"city_Detroit\": 0, \"city_San Diego\": 1, \"city_San Francisco\": 0, \"city\": \"San Diego\", \"day\": 31, \"month\": 12, \"year\": 2012, \"hour\": 11, \"day_of_week\": 0, \"pred\": 52.504598800312856}, {\"datetime\": \"2012-12-31T12:00:00\", \"temperature\": 27.4, \"city_Detroit\": 1, \"city_San Diego\": 0, \"city_San Francisco\": 0, \"city\": \"Detroit\", \"day\": 31, \"month\": 12, \"year\": 2012, \"hour\": 12, \"day_of_week\": 0, \"pred\": 37.31256080828239}, {\"datetime\": \"2012-12-31T12:00:00\", \"temperature\": 38.8, \"city_Detroit\": 0, \"city_San Diego\": 0, \"city_San Francisco\": 1, \"city\": \"San Francisco\", \"day\": 31, \"month\": 12, \"year\": 2012, \"hour\": 12, \"day_of_week\": 0, \"pred\": 52.504598800312856}, {\"datetime\": \"2012-12-31T12:00:00\", \"temperature\": 44.9, \"city_Detroit\": 0, \"city_San Diego\": 1, \"city_San Francisco\": 0, \"city\": \"San Diego\", \"day\": 31, \"month\": 12, \"year\": 2012, \"hour\": 12, \"day_of_week\": 0, \"pred\": 52.504598800312856}, {\"datetime\": \"2012-12-31T13:00:00\", \"temperature\": 38.1, \"city_Detroit\": 0, \"city_San Diego\": 0, \"city_San Francisco\": 1, \"city\": \"San Francisco\", \"day\": 31, \"month\": 12, \"year\": 2012, \"hour\": 13, \"day_of_week\": 0, \"pred\": 52.504598800312856}, {\"datetime\": \"2012-12-31T13:00:00\", \"temperature\": 27.8, \"city_Detroit\": 1, \"city_San Diego\": 0, \"city_San Francisco\": 0, \"city\": \"Detroit\", \"day\": 31, \"month\": 12, \"year\": 2012, \"hour\": 13, \"day_of_week\": 0, \"pred\": 37.31256080828239}, {\"datetime\": \"2012-12-31T13:00:00\", \"temperature\": 44.2, \"city_Detroit\": 0, \"city_San Diego\": 1, \"city_San Francisco\": 0, \"city\": \"San Diego\", \"day\": 31, \"month\": 12, \"year\": 2012, \"hour\": 13, \"day_of_week\": 0, \"pred\": 52.504598800312856}, {\"datetime\": \"2012-12-31T14:00:00\", \"temperature\": 44.8, \"city_Detroit\": 0, \"city_San Diego\": 1, \"city_San Francisco\": 0, \"city\": \"San Diego\", \"day\": 31, \"month\": 12, \"year\": 2012, \"hour\": 14, \"day_of_week\": 0, \"pred\": 52.504598800312856}, {\"datetime\": \"2012-12-31T14:00:00\", \"temperature\": 37.6, \"city_Detroit\": 0, \"city_San Diego\": 0, \"city_San Francisco\": 1, \"city\": \"San Francisco\", \"day\": 31, \"month\": 12, \"year\": 2012, \"hour\": 14, \"day_of_week\": 0, \"pred\": 52.504598800312856}, {\"datetime\": \"2012-12-31T14:00:00\", \"temperature\": 28.4, \"city_Detroit\": 1, \"city_San Diego\": 0, \"city_San Francisco\": 0, \"city\": \"Detroit\", \"day\": 31, \"month\": 12, \"year\": 2012, \"hour\": 14, \"day_of_week\": 0, \"pred\": 37.31256080828239}, {\"datetime\": \"2012-12-31T15:00:00\", \"temperature\": 44.4, \"city_Detroit\": 0, \"city_San Diego\": 1, \"city_San Francisco\": 0, \"city\": \"San Diego\", \"day\": 31, \"month\": 12, \"year\": 2012, \"hour\": 15, \"day_of_week\": 0, \"pred\": 52.504598800312856}, {\"datetime\": \"2012-12-31T15:00:00\", \"temperature\": 38.0, \"city_Detroit\": 0, \"city_San Diego\": 0, \"city_San Francisco\": 1, \"city\": \"San Francisco\", \"day\": 31, \"month\": 12, \"year\": 2012, \"hour\": 15, \"day_of_week\": 0, \"pred\": 52.504598800312856}, {\"datetime\": \"2012-12-31T15:00:00\", \"temperature\": 29.5, \"city_Detroit\": 1, \"city_San Diego\": 0, \"city_San Francisco\": 0, \"city\": \"Detroit\", \"day\": 31, \"month\": 12, \"year\": 2012, \"hour\": 15, \"day_of_week\": 0, \"pred\": 37.31256080828239}, {\"datetime\": \"2012-12-31T16:00:00\", \"temperature\": 38.4, \"city_Detroit\": 0, \"city_San Diego\": 0, \"city_San Francisco\": 1, \"city\": \"San Francisco\", \"day\": 31, \"month\": 12, \"year\": 2012, \"hour\": 16, \"day_of_week\": 0, \"pred\": 52.504598800312856}, {\"datetime\": \"2012-12-31T16:00:00\", \"temperature\": 46.1, \"city_Detroit\": 0, \"city_San Diego\": 1, \"city_San Francisco\": 0, \"city\": \"San Diego\", \"day\": 31, \"month\": 12, \"year\": 2012, \"hour\": 16, \"day_of_week\": 0, \"pred\": 52.504598800312856}, {\"datetime\": \"2012-12-31T16:00:00\", \"temperature\": 30.0, \"city_Detroit\": 1, \"city_San Diego\": 0, \"city_San Francisco\": 0, \"city\": \"Detroit\", \"day\": 31, \"month\": 12, \"year\": 2012, \"hour\": 16, \"day_of_week\": 0, \"pred\": 37.31256080828239}, {\"datetime\": \"2012-12-31T17:00:00\", \"temperature\": 30.1, \"city_Detroit\": 1, \"city_San Diego\": 0, \"city_San Francisco\": 0, \"city\": \"Detroit\", \"day\": 31, \"month\": 12, \"year\": 2012, \"hour\": 17, \"day_of_week\": 0, \"pred\": 37.31256080828239}, {\"datetime\": \"2012-12-31T17:00:00\", \"temperature\": 50.0, \"city_Detroit\": 0, \"city_San Diego\": 1, \"city_San Francisco\": 0, \"city\": \"San Diego\", \"day\": 31, \"month\": 12, \"year\": 2012, \"hour\": 17, \"day_of_week\": 0, \"pred\": 52.504598800312856}, {\"datetime\": \"2012-12-31T17:00:00\", \"temperature\": 41.9, \"city_Detroit\": 0, \"city_San Diego\": 0, \"city_San Francisco\": 1, \"city\": \"San Francisco\", \"day\": 31, \"month\": 12, \"year\": 2012, \"hour\": 17, \"day_of_week\": 0, \"pred\": 52.504598800312856}, {\"datetime\": \"2012-12-31T18:00:00\", \"temperature\": 51.8, \"city_Detroit\": 0, \"city_San Diego\": 1, \"city_San Francisco\": 0, \"city\": \"San Diego\", \"day\": 31, \"month\": 12, \"year\": 2012, \"hour\": 18, \"day_of_week\": 0, \"pred\": 61.80028690662492}, {\"datetime\": \"2012-12-31T18:00:00\", \"temperature\": 29.2, \"city_Detroit\": 1, \"city_San Diego\": 0, \"city_San Francisco\": 0, \"city\": \"Detroit\", \"day\": 31, \"month\": 12, \"year\": 2012, \"hour\": 18, \"day_of_week\": 0, \"pred\": 37.31256080828239}, {\"datetime\": \"2012-12-31T18:00:00\", \"temperature\": 47.4, \"city_Detroit\": 0, \"city_San Diego\": 0, \"city_San Francisco\": 1, \"city\": \"San Francisco\", \"day\": 31, \"month\": 12, \"year\": 2012, \"hour\": 18, \"day_of_week\": 0, \"pred\": 61.80028690662492}, {\"datetime\": \"2012-12-31T19:00:00\", \"temperature\": 28.7, \"city_Detroit\": 1, \"city_San Diego\": 0, \"city_San Francisco\": 0, \"city\": \"Detroit\", \"day\": 31, \"month\": 12, \"year\": 2012, \"hour\": 19, \"day_of_week\": 0, \"pred\": 37.31256080828239}, {\"datetime\": \"2012-12-31T19:00:00\", \"temperature\": 49.7, \"city_Detroit\": 0, \"city_San Diego\": 0, \"city_San Francisco\": 1, \"city\": \"San Francisco\", \"day\": 31, \"month\": 12, \"year\": 2012, \"hour\": 19, \"day_of_week\": 0, \"pred\": 61.80028690662492}, {\"datetime\": \"2012-12-31T19:00:00\", \"temperature\": 52.9, \"city_Detroit\": 0, \"city_San Diego\": 1, \"city_San Francisco\": 0, \"city\": \"San Diego\", \"day\": 31, \"month\": 12, \"year\": 2012, \"hour\": 19, \"day_of_week\": 0, \"pred\": 61.80028690662492}, {\"datetime\": \"2012-12-31T20:00:00\", \"temperature\": 27.3, \"city_Detroit\": 1, \"city_San Diego\": 0, \"city_San Francisco\": 0, \"city\": \"Detroit\", \"day\": 31, \"month\": 12, \"year\": 2012, \"hour\": 20, \"day_of_week\": 0, \"pred\": 37.31256080828239}, {\"datetime\": \"2012-12-31T20:00:00\", \"temperature\": 52.3, \"city_Detroit\": 0, \"city_San Diego\": 1, \"city_San Francisco\": 0, \"city\": \"San Diego\", \"day\": 31, \"month\": 12, \"year\": 2012, \"hour\": 20, \"day_of_week\": 0, \"pred\": 61.80028690662492}, {\"datetime\": \"2012-12-31T20:00:00\", \"temperature\": 51.1, \"city_Detroit\": 0, \"city_San Diego\": 0, \"city_San Francisco\": 1, \"city\": \"San Francisco\", \"day\": 31, \"month\": 12, \"year\": 2012, \"hour\": 20, \"day_of_week\": 0, \"pred\": 61.80028690662492}, {\"datetime\": \"2012-12-31T21:00:00\", \"temperature\": 52.6, \"city_Detroit\": 0, \"city_San Diego\": 1, \"city_San Francisco\": 0, \"city\": \"San Diego\", \"day\": 31, \"month\": 12, \"year\": 2012, \"hour\": 21, \"day_of_week\": 0, \"pred\": 61.80028690662492}, {\"datetime\": \"2012-12-31T21:00:00\", \"temperature\": 25.8, \"city_Detroit\": 1, \"city_San Diego\": 0, \"city_San Francisco\": 0, \"city\": \"Detroit\", \"day\": 31, \"month\": 12, \"year\": 2012, \"hour\": 21, \"day_of_week\": 0, \"pred\": 37.31256080828239}, {\"datetime\": \"2012-12-31T21:00:00\", \"temperature\": 52.4, \"city_Detroit\": 0, \"city_San Diego\": 0, \"city_San Francisco\": 1, \"city\": \"San Francisco\", \"day\": 31, \"month\": 12, \"year\": 2012, \"hour\": 21, \"day_of_week\": 0, \"pred\": 61.80028690662492}, {\"datetime\": \"2012-12-31T22:00:00\", \"temperature\": 52.2, \"city_Detroit\": 0, \"city_San Diego\": 1, \"city_San Francisco\": 0, \"city\": \"San Diego\", \"day\": 31, \"month\": 12, \"year\": 2012, \"hour\": 22, \"day_of_week\": 0, \"pred\": 61.80028690662492}, {\"datetime\": \"2012-12-31T22:00:00\", \"temperature\": 52.1, \"city_Detroit\": 0, \"city_San Diego\": 0, \"city_San Francisco\": 1, \"city\": \"San Francisco\", \"day\": 31, \"month\": 12, \"year\": 2012, \"hour\": 22, \"day_of_week\": 0, \"pred\": 61.80028690662492}, {\"datetime\": \"2012-12-31T22:00:00\", \"temperature\": 25.4, \"city_Detroit\": 1, \"city_San Diego\": 0, \"city_San Francisco\": 0, \"city\": \"Detroit\", \"day\": 31, \"month\": 12, \"year\": 2012, \"hour\": 22, \"day_of_week\": 0, \"pred\": 37.31256080828239}, {\"datetime\": \"2012-12-31T23:00:00\", \"temperature\": 52.9, \"city_Detroit\": 0, \"city_San Diego\": 1, \"city_San Francisco\": 0, \"city\": \"San Diego\", \"day\": 31, \"month\": 12, \"year\": 2012, \"hour\": 23, \"day_of_week\": 0, \"pred\": 61.80028690662492}, {\"datetime\": \"2012-12-31T23:00:00\", \"temperature\": 23.8, \"city_Detroit\": 1, \"city_San Diego\": 0, \"city_San Francisco\": 0, \"city\": \"Detroit\", \"day\": 31, \"month\": 12, \"year\": 2012, \"hour\": 23, \"day_of_week\": 0, \"pred\": 37.31256080828239}, {\"datetime\": \"2012-12-31T23:00:00\", \"temperature\": 52.6, \"city_Detroit\": 0, \"city_San Diego\": 0, \"city_San Francisco\": 1, \"city\": \"San Francisco\", \"day\": 31, \"month\": 12, \"year\": 2012, \"hour\": 23, \"day_of_week\": 0, \"pred\": 61.80028690662492}, {\"datetime\": \"2013-01-01T00:00:00\", \"temperature\": 22.2, \"city_Detroit\": 1, \"city_San Diego\": 0, \"city_San Francisco\": 0, \"city\": \"Detroit\", \"day\": 1, \"month\": 1, \"year\": 2013, \"hour\": 0, \"day_of_week\": 1, \"pred\": 24.026604938271646}, {\"datetime\": \"2013-01-01T00:00:00\", \"temperature\": 51.0, \"city_Detroit\": 0, \"city_San Diego\": 1, \"city_San Francisco\": 0, \"city\": \"San Diego\", \"day\": 1, \"month\": 1, \"year\": 2013, \"hour\": 0, \"day_of_week\": 1, \"pred\": 59.03057095343687}, {\"datetime\": \"2013-01-01T00:00:00\", \"temperature\": 52.7, \"city_Detroit\": 0, \"city_San Diego\": 0, \"city_San Francisco\": 1, \"city\": \"San Francisco\", \"day\": 1, \"month\": 1, \"year\": 2013, \"hour\": 0, \"day_of_week\": 1, \"pred\": 59.03057095343687}, {\"datetime\": \"2013-01-01T01:00:00\", \"temperature\": 22.4, \"city_Detroit\": 1, \"city_San Diego\": 0, \"city_San Francisco\": 0, \"city\": \"Detroit\", \"day\": 1, \"month\": 1, \"year\": 2013, \"hour\": 1, \"day_of_week\": 1, \"pred\": 24.026604938271646}, {\"datetime\": \"2013-01-01T01:00:00\", \"temperature\": 48.1, \"city_Detroit\": 0, \"city_San Diego\": 1, \"city_San Francisco\": 0, \"city\": \"San Diego\", \"day\": 1, \"month\": 1, \"year\": 2013, \"hour\": 1, \"day_of_week\": 1, \"pred\": 59.03057095343687}, {\"datetime\": \"2013-01-01T01:00:00\", \"temperature\": 50.4, \"city_Detroit\": 0, \"city_San Diego\": 0, \"city_San Francisco\": 1, \"city\": \"San Francisco\", \"day\": 1, \"month\": 1, \"year\": 2013, \"hour\": 1, \"day_of_week\": 1, \"pred\": 59.03057095343687}, {\"datetime\": \"2013-01-01T02:00:00\", \"temperature\": 46.7, \"city_Detroit\": 0, \"city_San Diego\": 1, \"city_San Francisco\": 0, \"city\": \"San Diego\", \"day\": 1, \"month\": 1, \"year\": 2013, \"hour\": 2, \"day_of_week\": 1, \"pred\": 59.03057095343687}, {\"datetime\": \"2013-01-01T02:00:00\", \"temperature\": 46.4, \"city_Detroit\": 0, \"city_San Diego\": 0, \"city_San Francisco\": 1, \"city\": \"San Francisco\", \"day\": 1, \"month\": 1, \"year\": 2013, \"hour\": 2, \"day_of_week\": 1, \"pred\": 59.03057095343687}, {\"datetime\": \"2013-01-01T02:00:00\", \"temperature\": 21.5, \"city_Detroit\": 1, \"city_San Diego\": 0, \"city_San Francisco\": 0, \"city\": \"Detroit\", \"day\": 1, \"month\": 1, \"year\": 2013, \"hour\": 2, \"day_of_week\": 1, \"pred\": 24.026604938271646}, {\"datetime\": \"2013-01-01T03:00:00\", \"temperature\": 46.5, \"city_Detroit\": 0, \"city_San Diego\": 1, \"city_San Francisco\": 0, \"city\": \"San Diego\", \"day\": 1, \"month\": 1, \"year\": 2013, \"hour\": 3, \"day_of_week\": 1, \"pred\": 59.03057095343687}, {\"datetime\": \"2013-01-01T03:00:00\", \"temperature\": 45.1, \"city_Detroit\": 0, \"city_San Diego\": 0, \"city_San Francisco\": 1, \"city\": \"San Francisco\", \"day\": 1, \"month\": 1, \"year\": 2013, \"hour\": 3, \"day_of_week\": 1, \"pred\": 59.03057095343687}, {\"datetime\": \"2013-01-01T03:00:00\", \"temperature\": 20.6, \"city_Detroit\": 1, \"city_San Diego\": 0, \"city_San Francisco\": 0, \"city\": \"Detroit\", \"day\": 1, \"month\": 1, \"year\": 2013, \"hour\": 3, \"day_of_week\": 1, \"pred\": 24.026604938271646}, {\"datetime\": \"2013-01-01T04:00:00\", \"temperature\": 45.4, \"city_Detroit\": 0, \"city_San Diego\": 1, \"city_San Francisco\": 0, \"city\": \"San Diego\", \"day\": 1, \"month\": 1, \"year\": 2013, \"hour\": 4, \"day_of_week\": 1, \"pred\": 50.68589642065264}, {\"datetime\": \"2013-01-01T04:00:00\", \"temperature\": 44.3, \"city_Detroit\": 0, \"city_San Diego\": 0, \"city_San Francisco\": 1, \"city\": \"San Francisco\", \"day\": 1, \"month\": 1, \"year\": 2013, \"hour\": 4, \"day_of_week\": 1, \"pred\": 50.68589642065264}, {\"datetime\": \"2013-01-01T04:00:00\", \"temperature\": 20.6, \"city_Detroit\": 1, \"city_San Diego\": 0, \"city_San Francisco\": 0, \"city\": \"Detroit\", \"day\": 1, \"month\": 1, \"year\": 2013, \"hour\": 4, \"day_of_week\": 1, \"pred\": 24.026604938271646}, {\"datetime\": \"2013-01-01T05:00:00\", \"temperature\": 43.1, \"city_Detroit\": 0, \"city_San Diego\": 0, \"city_San Francisco\": 1, \"city\": \"San Francisco\", \"day\": 1, \"month\": 1, \"year\": 2013, \"hour\": 5, \"day_of_week\": 1, \"pred\": 50.68589642065264}, {\"datetime\": \"2013-01-01T05:00:00\", \"temperature\": 44.0, \"city_Detroit\": 0, \"city_San Diego\": 1, \"city_San Francisco\": 0, \"city\": \"San Diego\", \"day\": 1, \"month\": 1, \"year\": 2013, \"hour\": 5, \"day_of_week\": 1, \"pred\": 50.68589642065264}, {\"datetime\": \"2013-01-01T05:00:00\", \"temperature\": 20.3, \"city_Detroit\": 1, \"city_San Diego\": 0, \"city_San Francisco\": 0, \"city\": \"Detroit\", \"day\": 1, \"month\": 1, \"year\": 2013, \"hour\": 5, \"day_of_week\": 1, \"pred\": 24.026604938271646}, {\"datetime\": \"2013-01-01T06:00:00\", \"temperature\": 41.6, \"city_Detroit\": 0, \"city_San Diego\": 1, \"city_San Francisco\": 0, \"city\": \"San Diego\", \"day\": 1, \"month\": 1, \"year\": 2013, \"hour\": 6, \"day_of_week\": 1, \"pred\": 50.68589642065264}, {\"datetime\": \"2013-01-01T06:00:00\", \"temperature\": 42.5, \"city_Detroit\": 0, \"city_San Diego\": 0, \"city_San Francisco\": 1, \"city\": \"San Francisco\", \"day\": 1, \"month\": 1, \"year\": 2013, \"hour\": 6, \"day_of_week\": 1, \"pred\": 50.68589642065264}, {\"datetime\": \"2013-01-01T06:00:00\", \"temperature\": 25.3, \"city_Detroit\": 1, \"city_San Diego\": 0, \"city_San Francisco\": 0, \"city\": \"Detroit\", \"day\": 1, \"month\": 1, \"year\": 2013, \"hour\": 6, \"day_of_week\": 1, \"pred\": 24.026604938271646}, {\"datetime\": \"2013-01-01T07:00:00\", \"temperature\": 42.0, \"city_Detroit\": 0, \"city_San Diego\": 1, \"city_San Francisco\": 0, \"city\": \"San Diego\", \"day\": 1, \"month\": 1, \"year\": 2013, \"hour\": 7, \"day_of_week\": 1, \"pred\": 50.68589642065264}, {\"datetime\": \"2013-01-01T07:00:00\", \"temperature\": 22.7, \"city_Detroit\": 1, \"city_San Diego\": 0, \"city_San Francisco\": 0, \"city\": \"Detroit\", \"day\": 1, \"month\": 1, \"year\": 2013, \"hour\": 7, \"day_of_week\": 1, \"pred\": 24.026604938271646}, {\"datetime\": \"2013-01-01T07:00:00\", \"temperature\": 42.3, \"city_Detroit\": 0, \"city_San Diego\": 0, \"city_San Francisco\": 1, \"city\": \"San Francisco\", \"day\": 1, \"month\": 1, \"year\": 2013, \"hour\": 7, \"day_of_week\": 1, \"pred\": 50.68589642065264}, {\"datetime\": \"2013-01-01T08:00:00\", \"temperature\": 23.3, \"city_Detroit\": 1, \"city_San Diego\": 0, \"city_San Francisco\": 0, \"city\": \"Detroit\", \"day\": 1, \"month\": 1, \"year\": 2013, \"hour\": 8, \"day_of_week\": 1, \"pred\": 24.026604938271646}, {\"datetime\": \"2013-01-01T08:00:00\", \"temperature\": 42.2, \"city_Detroit\": 0, \"city_San Diego\": 0, \"city_San Francisco\": 1, \"city\": \"San Francisco\", \"day\": 1, \"month\": 1, \"year\": 2013, \"hour\": 8, \"day_of_week\": 1, \"pred\": 50.68589642065264}, {\"datetime\": \"2013-01-01T08:00:00\", \"temperature\": 41.3, \"city_Detroit\": 0, \"city_San Diego\": 1, \"city_San Francisco\": 0, \"city\": \"San Diego\", \"day\": 1, \"month\": 1, \"year\": 2013, \"hour\": 8, \"day_of_week\": 1, \"pred\": 50.68589642065264}, {\"datetime\": \"2013-01-01T09:00:00\", \"temperature\": 40.8, \"city_Detroit\": 0, \"city_San Diego\": 0, \"city_San Francisco\": 1, \"city\": \"San Francisco\", \"day\": 1, \"month\": 1, \"year\": 2013, \"hour\": 9, \"day_of_week\": 1, \"pred\": 50.68589642065264}, {\"datetime\": \"2013-01-01T09:00:00\", \"temperature\": 41.0, \"city_Detroit\": 0, \"city_San Diego\": 1, \"city_San Francisco\": 0, \"city\": \"San Diego\", \"day\": 1, \"month\": 1, \"year\": 2013, \"hour\": 9, \"day_of_week\": 1, \"pred\": 50.68589642065264}, {\"datetime\": \"2013-01-01T09:00:00\", \"temperature\": 25.0, \"city_Detroit\": 1, \"city_San Diego\": 0, \"city_San Francisco\": 0, \"city\": \"Detroit\", \"day\": 1, \"month\": 1, \"year\": 2013, \"hour\": 9, \"day_of_week\": 1, \"pred\": 24.026604938271646}, {\"datetime\": \"2013-01-01T10:00:00\", \"temperature\": 25.9, \"city_Detroit\": 1, \"city_San Diego\": 0, \"city_San Francisco\": 0, \"city\": \"Detroit\", \"day\": 1, \"month\": 1, \"year\": 2013, \"hour\": 10, \"day_of_week\": 1, \"pred\": 24.026604938271646}, {\"datetime\": \"2013-01-01T10:00:00\", \"temperature\": 39.4, \"city_Detroit\": 0, \"city_San Diego\": 0, \"city_San Francisco\": 1, \"city\": \"San Francisco\", \"day\": 1, \"month\": 1, \"year\": 2013, \"hour\": 10, \"day_of_week\": 1, \"pred\": 50.68589642065264}, {\"datetime\": \"2013-01-01T10:00:00\", \"temperature\": 40.7, \"city_Detroit\": 0, \"city_San Diego\": 1, \"city_San Francisco\": 0, \"city\": \"San Diego\", \"day\": 1, \"month\": 1, \"year\": 2013, \"hour\": 10, \"day_of_week\": 1, \"pred\": 50.68589642065264}, {\"datetime\": \"2013-01-01T11:00:00\", \"temperature\": 38.8, \"city_Detroit\": 0, \"city_San Diego\": 0, \"city_San Francisco\": 1, \"city\": \"San Francisco\", \"day\": 1, \"month\": 1, \"year\": 2013, \"hour\": 11, \"day_of_week\": 1, \"pred\": 50.68589642065264}, {\"datetime\": \"2013-01-01T11:00:00\", \"temperature\": 26.5, \"city_Detroit\": 1, \"city_San Diego\": 0, \"city_San Francisco\": 0, \"city\": \"Detroit\", \"day\": 1, \"month\": 1, \"year\": 2013, \"hour\": 11, \"day_of_week\": 1, \"pred\": 24.026604938271646}, {\"datetime\": \"2013-01-01T11:00:00\", \"temperature\": 39.9, \"city_Detroit\": 0, \"city_San Diego\": 1, \"city_San Francisco\": 0, \"city\": \"San Diego\", \"day\": 1, \"month\": 1, \"year\": 2013, \"hour\": 11, \"day_of_week\": 1, \"pred\": 50.68589642065264}, {\"datetime\": \"2013-01-01T12:00:00\", \"temperature\": 38.7, \"city_Detroit\": 0, \"city_San Diego\": 1, \"city_San Francisco\": 0, \"city\": \"San Diego\", \"day\": 1, \"month\": 1, \"year\": 2013, \"hour\": 12, \"day_of_week\": 1, \"pred\": 50.68589642065264}, {\"datetime\": \"2013-01-01T12:00:00\", \"temperature\": 38.4, \"city_Detroit\": 0, \"city_San Diego\": 0, \"city_San Francisco\": 1, \"city\": \"San Francisco\", \"day\": 1, \"month\": 1, \"year\": 2013, \"hour\": 12, \"day_of_week\": 1, \"pred\": 50.68589642065264}, {\"datetime\": \"2013-01-01T12:00:00\", \"temperature\": 27.3, \"city_Detroit\": 1, \"city_San Diego\": 0, \"city_San Francisco\": 0, \"city\": \"Detroit\", \"day\": 1, \"month\": 1, \"year\": 2013, \"hour\": 12, \"day_of_week\": 1, \"pred\": 24.026604938271646}, {\"datetime\": \"2013-01-01T13:00:00\", \"temperature\": 38.4, \"city_Detroit\": 0, \"city_San Diego\": 1, \"city_San Francisco\": 0, \"city\": \"San Diego\", \"day\": 1, \"month\": 1, \"year\": 2013, \"hour\": 13, \"day_of_week\": 1, \"pred\": 50.68589642065264}, {\"datetime\": \"2013-01-01T13:00:00\", \"temperature\": 38.1, \"city_Detroit\": 0, \"city_San Diego\": 0, \"city_San Francisco\": 1, \"city\": \"San Francisco\", \"day\": 1, \"month\": 1, \"year\": 2013, \"hour\": 13, \"day_of_week\": 1, \"pred\": 50.68589642065264}, {\"datetime\": \"2013-01-01T13:00:00\", \"temperature\": 27.6, \"city_Detroit\": 1, \"city_San Diego\": 0, \"city_San Francisco\": 0, \"city\": \"Detroit\", \"day\": 1, \"month\": 1, \"year\": 2013, \"hour\": 13, \"day_of_week\": 1, \"pred\": 24.026604938271646}, {\"datetime\": \"2013-01-01T14:00:00\", \"temperature\": 37.2, \"city_Detroit\": 0, \"city_San Diego\": 1, \"city_San Francisco\": 0, \"city\": \"San Diego\", \"day\": 1, \"month\": 1, \"year\": 2013, \"hour\": 14, \"day_of_week\": 1, \"pred\": 50.68589642065264}, {\"datetime\": \"2013-01-01T14:00:00\", \"temperature\": 37.8, \"city_Detroit\": 0, \"city_San Diego\": 0, \"city_San Francisco\": 1, \"city\": \"San Francisco\", \"day\": 1, \"month\": 1, \"year\": 2013, \"hour\": 14, \"day_of_week\": 1, \"pred\": 50.68589642065264}, {\"datetime\": \"2013-01-01T14:00:00\", \"temperature\": 28.8, \"city_Detroit\": 1, \"city_San Diego\": 0, \"city_San Francisco\": 0, \"city\": \"Detroit\", \"day\": 1, \"month\": 1, \"year\": 2013, \"hour\": 14, \"day_of_week\": 1, \"pred\": 24.026604938271646}, {\"datetime\": \"2013-01-01T15:00:00\", \"temperature\": 29.9, \"city_Detroit\": 1, \"city_San Diego\": 0, \"city_San Francisco\": 0, \"city\": \"Detroit\", \"day\": 1, \"month\": 1, \"year\": 2013, \"hour\": 15, \"day_of_week\": 1, \"pred\": 24.026604938271646}, {\"datetime\": \"2013-01-01T15:00:00\", \"temperature\": 39.0, \"city_Detroit\": 0, \"city_San Diego\": 1, \"city_San Francisco\": 0, \"city\": \"San Diego\", \"day\": 1, \"month\": 1, \"year\": 2013, \"hour\": 15, \"day_of_week\": 1, \"pred\": 50.68589642065264}, {\"datetime\": \"2013-01-01T15:00:00\", \"temperature\": 37.9, \"city_Detroit\": 0, \"city_San Diego\": 0, \"city_San Francisco\": 1, \"city\": \"San Francisco\", \"day\": 1, \"month\": 1, \"year\": 2013, \"hour\": 15, \"day_of_week\": 1, \"pred\": 50.68589642065264}, {\"datetime\": \"2013-01-01T16:00:00\", \"temperature\": 37.1, \"city_Detroit\": 0, \"city_San Diego\": 0, \"city_San Francisco\": 1, \"city\": \"San Francisco\", \"day\": 1, \"month\": 1, \"year\": 2013, \"hour\": 16, \"day_of_week\": 1, \"pred\": 50.68589642065264}, {\"datetime\": \"2013-01-01T16:00:00\", \"temperature\": 31.9, \"city_Detroit\": 1, \"city_San Diego\": 0, \"city_San Francisco\": 0, \"city\": \"Detroit\", \"day\": 1, \"month\": 1, \"year\": 2013, \"hour\": 16, \"day_of_week\": 1, \"pred\": 24.026604938271646}, {\"datetime\": \"2013-01-01T16:00:00\", \"temperature\": 41.8, \"city_Detroit\": 0, \"city_San Diego\": 1, \"city_San Francisco\": 0, \"city\": \"San Diego\", \"day\": 1, \"month\": 1, \"year\": 2013, \"hour\": 16, \"day_of_week\": 1, \"pred\": 50.68589642065264}, {\"datetime\": \"2013-01-01T17:00:00\", \"temperature\": 42.7, \"city_Detroit\": 0, \"city_San Diego\": 0, \"city_San Francisco\": 1, \"city\": \"San Francisco\", \"day\": 1, \"month\": 1, \"year\": 2013, \"hour\": 17, \"day_of_week\": 1, \"pred\": 50.68589642065264}, {\"datetime\": \"2013-01-01T17:00:00\", \"temperature\": 32.9, \"city_Detroit\": 1, \"city_San Diego\": 0, \"city_San Francisco\": 0, \"city\": \"Detroit\", \"day\": 1, \"month\": 1, \"year\": 2013, \"hour\": 17, \"day_of_week\": 1, \"pred\": 24.026604938271646}, {\"datetime\": \"2013-01-01T17:00:00\", \"temperature\": 48.2, \"city_Detroit\": 0, \"city_San Diego\": 1, \"city_San Francisco\": 0, \"city\": \"San Diego\", \"day\": 1, \"month\": 1, \"year\": 2013, \"hour\": 17, \"day_of_week\": 1, \"pred\": 50.68589642065264}, {\"datetime\": \"2013-01-01T18:00:00\", \"temperature\": 47.3, \"city_Detroit\": 0, \"city_San Diego\": 0, \"city_San Francisco\": 1, \"city\": \"San Francisco\", \"day\": 1, \"month\": 1, \"year\": 2013, \"hour\": 18, \"day_of_week\": 1, \"pred\": 61.70386178861797}, {\"datetime\": \"2013-01-01T18:00:00\", \"temperature\": 34.0, \"city_Detroit\": 1, \"city_San Diego\": 0, \"city_San Francisco\": 0, \"city\": \"Detroit\", \"day\": 1, \"month\": 1, \"year\": 2013, \"hour\": 18, \"day_of_week\": 1, \"pred\": 24.026604938271646}, {\"datetime\": \"2013-01-01T18:00:00\", \"temperature\": 51.2, \"city_Detroit\": 0, \"city_San Diego\": 1, \"city_San Francisco\": 0, \"city\": \"San Diego\", \"day\": 1, \"month\": 1, \"year\": 2013, \"hour\": 18, \"day_of_week\": 1, \"pred\": 61.70386178861797}, {\"datetime\": \"2013-01-01T19:00:00\", \"temperature\": 48.6, \"city_Detroit\": 0, \"city_San Diego\": 0, \"city_San Francisco\": 1, \"city\": \"San Francisco\", \"day\": 1, \"month\": 1, \"year\": 2013, \"hour\": 19, \"day_of_week\": 1, \"pred\": 61.70386178861797}, {\"datetime\": \"2013-01-01T19:00:00\", \"temperature\": 34.2, \"city_Detroit\": 1, \"city_San Diego\": 0, \"city_San Francisco\": 0, \"city\": \"Detroit\", \"day\": 1, \"month\": 1, \"year\": 2013, \"hour\": 19, \"day_of_week\": 1, \"pred\": 24.026604938271646}, {\"datetime\": \"2013-01-01T19:00:00\", \"temperature\": 54.8, \"city_Detroit\": 0, \"city_San Diego\": 1, \"city_San Francisco\": 0, \"city\": \"San Diego\", \"day\": 1, \"month\": 1, \"year\": 2013, \"hour\": 19, \"day_of_week\": 1, \"pred\": 61.70386178861797}, {\"datetime\": \"2013-01-01T20:00:00\", \"temperature\": 49.6, \"city_Detroit\": 0, \"city_San Diego\": 0, \"city_San Francisco\": 1, \"city\": \"San Francisco\", \"day\": 1, \"month\": 1, \"year\": 2013, \"hour\": 20, \"day_of_week\": 1, \"pred\": 61.70386178861797}, {\"datetime\": \"2013-01-01T20:00:00\", \"temperature\": 56.3, \"city_Detroit\": 0, \"city_San Diego\": 1, \"city_San Francisco\": 0, \"city\": \"San Diego\", \"day\": 1, \"month\": 1, \"year\": 2013, \"hour\": 20, \"day_of_week\": 1, \"pred\": 61.70386178861797}, {\"datetime\": \"2013-01-01T20:00:00\", \"temperature\": 34.5, \"city_Detroit\": 1, \"city_San Diego\": 0, \"city_San Francisco\": 0, \"city\": \"Detroit\", \"day\": 1, \"month\": 1, \"year\": 2013, \"hour\": 20, \"day_of_week\": 1, \"pred\": 24.026604938271646}, {\"datetime\": \"2013-01-01T21:00:00\", \"temperature\": 50.2, \"city_Detroit\": 0, \"city_San Diego\": 0, \"city_San Francisco\": 1, \"city\": \"San Francisco\", \"day\": 1, \"month\": 1, \"year\": 2013, \"hour\": 21, \"day_of_week\": 1, \"pred\": 61.70386178861797}, {\"datetime\": \"2013-01-01T21:00:00\", \"temperature\": 57.7, \"city_Detroit\": 0, \"city_San Diego\": 1, \"city_San Francisco\": 0, \"city\": \"San Diego\", \"day\": 1, \"month\": 1, \"year\": 2013, \"hour\": 21, \"day_of_week\": 1, \"pred\": 61.70386178861797}, {\"datetime\": \"2013-01-01T21:00:00\", \"temperature\": 35.0, \"city_Detroit\": 1, \"city_San Diego\": 0, \"city_San Francisco\": 0, \"city\": \"Detroit\", \"day\": 1, \"month\": 1, \"year\": 2013, \"hour\": 21, \"day_of_week\": 1, \"pred\": 24.026604938271646}, {\"datetime\": \"2013-01-01T22:00:00\", \"temperature\": 57.6, \"city_Detroit\": 0, \"city_San Diego\": 1, \"city_San Francisco\": 0, \"city\": \"San Diego\", \"day\": 1, \"month\": 1, \"year\": 2013, \"hour\": 22, \"day_of_week\": 1, \"pred\": 61.70386178861797}, {\"datetime\": \"2013-01-01T22:00:00\", \"temperature\": 34.8, \"city_Detroit\": 1, \"city_San Diego\": 0, \"city_San Francisco\": 0, \"city\": \"Detroit\", \"day\": 1, \"month\": 1, \"year\": 2013, \"hour\": 22, \"day_of_week\": 1, \"pred\": 24.026604938271646}, {\"datetime\": \"2013-01-01T22:00:00\", \"temperature\": 50.6, \"city_Detroit\": 0, \"city_San Diego\": 0, \"city_San Francisco\": 1, \"city\": \"San Francisco\", \"day\": 1, \"month\": 1, \"year\": 2013, \"hour\": 22, \"day_of_week\": 1, \"pred\": 61.70386178861797}, {\"datetime\": \"2013-01-01T23:00:00\", \"temperature\": 34.4, \"city_Detroit\": 1, \"city_San Diego\": 0, \"city_San Francisco\": 0, \"city\": \"Detroit\", \"day\": 1, \"month\": 1, \"year\": 2013, \"hour\": 23, \"day_of_week\": 1, \"pred\": 24.026604938271646}, {\"datetime\": \"2013-01-01T23:00:00\", \"temperature\": 51.1, \"city_Detroit\": 0, \"city_San Diego\": 0, \"city_San Francisco\": 1, \"city\": \"San Francisco\", \"day\": 1, \"month\": 1, \"year\": 2013, \"hour\": 23, \"day_of_week\": 1, \"pred\": 61.70386178861797}, {\"datetime\": \"2013-01-01T23:00:00\", \"temperature\": 57.2, \"city_Detroit\": 0, \"city_San Diego\": 1, \"city_San Francisco\": 0, \"city\": \"San Diego\", \"day\": 1, \"month\": 1, \"year\": 2013, \"hour\": 23, \"day_of_week\": 1, \"pred\": 61.70386178861797}, {\"datetime\": \"2013-01-02T00:00:00\", \"temperature\": 34.8, \"city_Detroit\": 1, \"city_San Diego\": 0, \"city_San Francisco\": 0, \"city\": \"Detroit\", \"day\": 2, \"month\": 1, \"year\": 2013, \"hour\": 0, \"day_of_week\": 2, \"pred\": 24.026604938271646}, {\"datetime\": \"2013-01-02T00:00:00\", \"temperature\": 54.8, \"city_Detroit\": 0, \"city_San Diego\": 1, \"city_San Francisco\": 0, \"city\": \"San Diego\", \"day\": 2, \"month\": 1, \"year\": 2013, \"hour\": 0, \"day_of_week\": 2, \"pred\": 59.03057095343687}, {\"datetime\": \"2013-01-02T00:00:00\", \"temperature\": 50.4, \"city_Detroit\": 0, \"city_San Diego\": 0, \"city_San Francisco\": 1, \"city\": \"San Francisco\", \"day\": 2, \"month\": 1, \"year\": 2013, \"hour\": 0, \"day_of_week\": 2, \"pred\": 59.03057095343687}, {\"datetime\": \"2013-01-02T01:00:00\", \"temperature\": 48.4, \"city_Detroit\": 0, \"city_San Diego\": 0, \"city_San Francisco\": 1, \"city\": \"San Francisco\", \"day\": 2, \"month\": 1, \"year\": 2013, \"hour\": 1, \"day_of_week\": 2, \"pred\": 59.03057095343687}, {\"datetime\": \"2013-01-02T01:00:00\", \"temperature\": 34.2, \"city_Detroit\": 1, \"city_San Diego\": 0, \"city_San Francisco\": 0, \"city\": \"Detroit\", \"day\": 2, \"month\": 1, \"year\": 2013, \"hour\": 1, \"day_of_week\": 2, \"pred\": 24.026604938271646}, {\"datetime\": \"2013-01-02T01:00:00\", \"temperature\": 52.2, \"city_Detroit\": 0, \"city_San Diego\": 1, \"city_San Francisco\": 0, \"city\": \"San Diego\", \"day\": 2, \"month\": 1, \"year\": 2013, \"hour\": 1, \"day_of_week\": 2, \"pred\": 59.03057095343687}, {\"datetime\": \"2013-01-02T02:00:00\", \"temperature\": 33.8, \"city_Detroit\": 1, \"city_San Diego\": 0, \"city_San Francisco\": 0, \"city\": \"Detroit\", \"day\": 2, \"month\": 1, \"year\": 2013, \"hour\": 2, \"day_of_week\": 2, \"pred\": 24.026604938271646}, {\"datetime\": \"2013-01-02T02:00:00\", \"temperature\": 47.1, \"city_Detroit\": 0, \"city_San Diego\": 0, \"city_San Francisco\": 1, \"city\": \"San Francisco\", \"day\": 2, \"month\": 1, \"year\": 2013, \"hour\": 2, \"day_of_week\": 2, \"pred\": 59.03057095343687}, {\"datetime\": \"2013-01-02T02:00:00\", \"temperature\": 50.2, \"city_Detroit\": 0, \"city_San Diego\": 1, \"city_San Francisco\": 0, \"city\": \"San Diego\", \"day\": 2, \"month\": 1, \"year\": 2013, \"hour\": 2, \"day_of_week\": 2, \"pred\": 59.03057095343687}, {\"datetime\": \"2013-01-02T03:00:00\", \"temperature\": 48.0, \"city_Detroit\": 0, \"city_San Diego\": 1, \"city_San Francisco\": 0, \"city\": \"San Diego\", \"day\": 2, \"month\": 1, \"year\": 2013, \"hour\": 3, \"day_of_week\": 2, \"pred\": 59.03057095343687}, {\"datetime\": \"2013-01-02T03:00:00\", \"temperature\": 32.6, \"city_Detroit\": 1, \"city_San Diego\": 0, \"city_San Francisco\": 0, \"city\": \"Detroit\", \"day\": 2, \"month\": 1, \"year\": 2013, \"hour\": 3, \"day_of_week\": 2, \"pred\": 24.026604938271646}, {\"datetime\": \"2013-01-02T03:00:00\", \"temperature\": 46.1, \"city_Detroit\": 0, \"city_San Diego\": 0, \"city_San Francisco\": 1, \"city\": \"San Francisco\", \"day\": 2, \"month\": 1, \"year\": 2013, \"hour\": 3, \"day_of_week\": 2, \"pred\": 59.03057095343687}, {\"datetime\": \"2013-01-02T04:00:00\", \"temperature\": 31.6, \"city_Detroit\": 1, \"city_San Diego\": 0, \"city_San Francisco\": 0, \"city\": \"Detroit\", \"day\": 2, \"month\": 1, \"year\": 2013, \"hour\": 4, \"day_of_week\": 2, \"pred\": 24.026604938271646}, {\"datetime\": \"2013-01-02T04:00:00\", \"temperature\": 45.7, \"city_Detroit\": 0, \"city_San Diego\": 0, \"city_San Francisco\": 1, \"city\": \"San Francisco\", \"day\": 2, \"month\": 1, \"year\": 2013, \"hour\": 4, \"day_of_week\": 2, \"pred\": 50.68589642065264}, {\"datetime\": \"2013-01-02T04:00:00\", \"temperature\": 46.8, \"city_Detroit\": 0, \"city_San Diego\": 1, \"city_San Francisco\": 0, \"city\": \"San Diego\", \"day\": 2, \"month\": 1, \"year\": 2013, \"hour\": 4, \"day_of_week\": 2, \"pred\": 50.68589642065264}, {\"datetime\": \"2013-01-02T05:00:00\", \"temperature\": 30.6, \"city_Detroit\": 1, \"city_San Diego\": 0, \"city_San Francisco\": 0, \"city\": \"Detroit\", \"day\": 2, \"month\": 1, \"year\": 2013, \"hour\": 5, \"day_of_week\": 2, \"pred\": 24.026604938271646}, {\"datetime\": \"2013-01-02T05:00:00\", \"temperature\": 43.6, \"city_Detroit\": 0, \"city_San Diego\": 0, \"city_San Francisco\": 1, \"city\": \"San Francisco\", \"day\": 2, \"month\": 1, \"year\": 2013, \"hour\": 5, \"day_of_week\": 2, \"pred\": 50.68589642065264}, {\"datetime\": \"2013-01-02T05:00:00\", \"temperature\": 45.3, \"city_Detroit\": 0, \"city_San Diego\": 1, \"city_San Francisco\": 0, \"city\": \"San Diego\", \"day\": 2, \"month\": 1, \"year\": 2013, \"hour\": 5, \"day_of_week\": 2, \"pred\": 50.68589642065264}, {\"datetime\": \"2013-01-02T06:00:00\", \"temperature\": 42.3, \"city_Detroit\": 0, \"city_San Diego\": 0, \"city_San Francisco\": 1, \"city\": \"San Francisco\", \"day\": 2, \"month\": 1, \"year\": 2013, \"hour\": 6, \"day_of_week\": 2, \"pred\": 50.68589642065264}, {\"datetime\": \"2013-01-02T06:00:00\", \"temperature\": 30.3, \"city_Detroit\": 1, \"city_San Diego\": 0, \"city_San Francisco\": 0, \"city\": \"Detroit\", \"day\": 2, \"month\": 1, \"year\": 2013, \"hour\": 6, \"day_of_week\": 2, \"pred\": 24.026604938271646}, {\"datetime\": \"2013-01-02T06:00:00\", \"temperature\": 44.5, \"city_Detroit\": 0, \"city_San Diego\": 1, \"city_San Francisco\": 0, \"city\": \"San Diego\", \"day\": 2, \"month\": 1, \"year\": 2013, \"hour\": 6, \"day_of_week\": 2, \"pred\": 50.68589642065264}, {\"datetime\": \"2013-01-02T07:00:00\", \"temperature\": 44.1, \"city_Detroit\": 0, \"city_San Diego\": 1, \"city_San Francisco\": 0, \"city\": \"San Diego\", \"day\": 2, \"month\": 1, \"year\": 2013, \"hour\": 7, \"day_of_week\": 2, \"pred\": 50.68589642065264}, {\"datetime\": \"2013-01-02T07:00:00\", \"temperature\": 41.8, \"city_Detroit\": 0, \"city_San Diego\": 0, \"city_San Francisco\": 1, \"city\": \"San Francisco\", \"day\": 2, \"month\": 1, \"year\": 2013, \"hour\": 7, \"day_of_week\": 2, \"pred\": 50.68589642065264}, {\"datetime\": \"2013-01-02T07:00:00\", \"temperature\": 29.6, \"city_Detroit\": 1, \"city_San Diego\": 0, \"city_San Francisco\": 0, \"city\": \"Detroit\", \"day\": 2, \"month\": 1, \"year\": 2013, \"hour\": 7, \"day_of_week\": 2, \"pred\": 24.026604938271646}, {\"datetime\": \"2013-01-02T08:00:00\", \"temperature\": 44.0, \"city_Detroit\": 0, \"city_San Diego\": 1, \"city_San Francisco\": 0, \"city\": \"San Diego\", \"day\": 2, \"month\": 1, \"year\": 2013, \"hour\": 8, \"day_of_week\": 2, \"pred\": 50.68589642065264}, {\"datetime\": \"2013-01-02T08:00:00\", \"temperature\": 41.4, \"city_Detroit\": 0, \"city_San Diego\": 0, \"city_San Francisco\": 1, \"city\": \"San Francisco\", \"day\": 2, \"month\": 1, \"year\": 2013, \"hour\": 8, \"day_of_week\": 2, \"pred\": 50.68589642065264}, {\"datetime\": \"2013-01-02T08:00:00\", \"temperature\": 29.3, \"city_Detroit\": 1, \"city_San Diego\": 0, \"city_San Francisco\": 0, \"city\": \"Detroit\", \"day\": 2, \"month\": 1, \"year\": 2013, \"hour\": 8, \"day_of_week\": 2, \"pred\": 24.026604938271646}, {\"datetime\": \"2013-01-02T09:00:00\", \"temperature\": 43.8, \"city_Detroit\": 0, \"city_San Diego\": 1, \"city_San Francisco\": 0, \"city\": \"San Diego\", \"day\": 2, \"month\": 1, \"year\": 2013, \"hour\": 9, \"day_of_week\": 2, \"pred\": 50.68589642065264}, {\"datetime\": \"2013-01-02T09:00:00\", \"temperature\": 40.5, \"city_Detroit\": 0, \"city_San Diego\": 0, \"city_San Francisco\": 1, \"city\": \"San Francisco\", \"day\": 2, \"month\": 1, \"year\": 2013, \"hour\": 9, \"day_of_week\": 2, \"pred\": 50.68589642065264}, {\"datetime\": \"2013-01-02T09:00:00\", \"temperature\": 27.9, \"city_Detroit\": 1, \"city_San Diego\": 0, \"city_San Francisco\": 0, \"city\": \"Detroit\", \"day\": 2, \"month\": 1, \"year\": 2013, \"hour\": 9, \"day_of_week\": 2, \"pred\": 24.026604938271646}, {\"datetime\": \"2013-01-02T10:00:00\", \"temperature\": 40.3, \"city_Detroit\": 0, \"city_San Diego\": 0, \"city_San Francisco\": 1, \"city\": \"San Francisco\", \"day\": 2, \"month\": 1, \"year\": 2013, \"hour\": 10, \"day_of_week\": 2, \"pred\": 50.68589642065264}, {\"datetime\": \"2013-01-02T10:00:00\", \"temperature\": 27.3, \"city_Detroit\": 1, \"city_San Diego\": 0, \"city_San Francisco\": 0, \"city\": \"Detroit\", \"day\": 2, \"month\": 1, \"year\": 2013, \"hour\": 10, \"day_of_week\": 2, \"pred\": 24.026604938271646}, {\"datetime\": \"2013-01-02T10:00:00\", \"temperature\": 44.0, \"city_Detroit\": 0, \"city_San Diego\": 1, \"city_San Francisco\": 0, \"city\": \"San Diego\", \"day\": 2, \"month\": 1, \"year\": 2013, \"hour\": 10, \"day_of_week\": 2, \"pred\": 50.68589642065264}, {\"datetime\": \"2013-01-02T11:00:00\", \"temperature\": 43.5, \"city_Detroit\": 0, \"city_San Diego\": 1, \"city_San Francisco\": 0, \"city\": \"San Diego\", \"day\": 2, \"month\": 1, \"year\": 2013, \"hour\": 11, \"day_of_week\": 2, \"pred\": 50.68589642065264}, {\"datetime\": \"2013-01-02T11:00:00\", \"temperature\": 26.5, \"city_Detroit\": 1, \"city_San Diego\": 0, \"city_San Francisco\": 0, \"city\": \"Detroit\", \"day\": 2, \"month\": 1, \"year\": 2013, \"hour\": 11, \"day_of_week\": 2, \"pred\": 24.026604938271646}, {\"datetime\": \"2013-01-02T11:00:00\", \"temperature\": 40.3, \"city_Detroit\": 0, \"city_San Diego\": 0, \"city_San Francisco\": 1, \"city\": \"San Francisco\", \"day\": 2, \"month\": 1, \"year\": 2013, \"hour\": 11, \"day_of_week\": 2, \"pred\": 50.68589642065264}, {\"datetime\": \"2013-01-02T12:00:00\", \"temperature\": 25.5, \"city_Detroit\": 1, \"city_San Diego\": 0, \"city_San Francisco\": 0, \"city\": \"Detroit\", \"day\": 2, \"month\": 1, \"year\": 2013, \"hour\": 12, \"day_of_week\": 2, \"pred\": 24.026604938271646}, {\"datetime\": \"2013-01-02T12:00:00\", \"temperature\": 43.2, \"city_Detroit\": 0, \"city_San Diego\": 1, \"city_San Francisco\": 0, \"city\": \"San Diego\", \"day\": 2, \"month\": 1, \"year\": 2013, \"hour\": 12, \"day_of_week\": 2, \"pred\": 50.68589642065264}, {\"datetime\": \"2013-01-02T12:00:00\", \"temperature\": 41.4, \"city_Detroit\": 0, \"city_San Diego\": 0, \"city_San Francisco\": 1, \"city\": \"San Francisco\", \"day\": 2, \"month\": 1, \"year\": 2013, \"hour\": 12, \"day_of_week\": 2, \"pred\": 50.68589642065264}, {\"datetime\": \"2013-01-02T13:00:00\", \"temperature\": 42.9, \"city_Detroit\": 0, \"city_San Diego\": 1, \"city_San Francisco\": 0, \"city\": \"San Diego\", \"day\": 2, \"month\": 1, \"year\": 2013, \"hour\": 13, \"day_of_week\": 2, \"pred\": 50.68589642065264}, {\"datetime\": \"2013-01-02T13:00:00\", \"temperature\": 24.4, \"city_Detroit\": 1, \"city_San Diego\": 0, \"city_San Francisco\": 0, \"city\": \"Detroit\", \"day\": 2, \"month\": 1, \"year\": 2013, \"hour\": 13, \"day_of_week\": 2, \"pred\": 24.026604938271646}, {\"datetime\": \"2013-01-02T13:00:00\", \"temperature\": 41.4, \"city_Detroit\": 0, \"city_San Diego\": 0, \"city_San Francisco\": 1, \"city\": \"San Francisco\", \"day\": 2, \"month\": 1, \"year\": 2013, \"hour\": 13, \"day_of_week\": 2, \"pred\": 50.68589642065264}, {\"datetime\": \"2013-01-02T14:00:00\", \"temperature\": 41.7, \"city_Detroit\": 0, \"city_San Diego\": 0, \"city_San Francisco\": 1, \"city\": \"San Francisco\", \"day\": 2, \"month\": 1, \"year\": 2013, \"hour\": 14, \"day_of_week\": 2, \"pred\": 50.68589642065264}, {\"datetime\": \"2013-01-02T14:00:00\", \"temperature\": 24.3, \"city_Detroit\": 1, \"city_San Diego\": 0, \"city_San Francisco\": 0, \"city\": \"Detroit\", \"day\": 2, \"month\": 1, \"year\": 2013, \"hour\": 14, \"day_of_week\": 2, \"pred\": 24.026604938271646}, {\"datetime\": \"2013-01-02T14:00:00\", \"temperature\": 42.1, \"city_Detroit\": 0, \"city_San Diego\": 1, \"city_San Francisco\": 0, \"city\": \"San Diego\", \"day\": 2, \"month\": 1, \"year\": 2013, \"hour\": 14, \"day_of_week\": 2, \"pred\": 50.68589642065264}, {\"datetime\": \"2013-01-02T15:00:00\", \"temperature\": 41.5, \"city_Detroit\": 0, \"city_San Diego\": 0, \"city_San Francisco\": 1, \"city\": \"San Francisco\", \"day\": 2, \"month\": 1, \"year\": 2013, \"hour\": 15, \"day_of_week\": 2, \"pred\": 50.68589642065264}, {\"datetime\": \"2013-01-02T15:00:00\", \"temperature\": 25.0, \"city_Detroit\": 1, \"city_San Diego\": 0, \"city_San Francisco\": 0, \"city\": \"Detroit\", \"day\": 2, \"month\": 1, \"year\": 2013, \"hour\": 15, \"day_of_week\": 2, \"pred\": 24.026604938271646}, {\"datetime\": \"2013-01-02T15:00:00\", \"temperature\": 42.8, \"city_Detroit\": 0, \"city_San Diego\": 1, \"city_San Francisco\": 0, \"city\": \"San Diego\", \"day\": 2, \"month\": 1, \"year\": 2013, \"hour\": 15, \"day_of_week\": 2, \"pred\": 50.68589642065264}, {\"datetime\": \"2013-01-02T16:00:00\", \"temperature\": 24.6, \"city_Detroit\": 1, \"city_San Diego\": 0, \"city_San Francisco\": 0, \"city\": \"Detroit\", \"day\": 2, \"month\": 1, \"year\": 2013, \"hour\": 16, \"day_of_week\": 2, \"pred\": 24.026604938271646}, {\"datetime\": \"2013-01-02T16:00:00\", \"temperature\": 46.7, \"city_Detroit\": 0, \"city_San Diego\": 1, \"city_San Francisco\": 0, \"city\": \"San Diego\", \"day\": 2, \"month\": 1, \"year\": 2013, \"hour\": 16, \"day_of_week\": 2, \"pred\": 50.68589642065264}, {\"datetime\": \"2013-01-02T16:00:00\", \"temperature\": 41.5, \"city_Detroit\": 0, \"city_San Diego\": 0, \"city_San Francisco\": 1, \"city\": \"San Francisco\", \"day\": 2, \"month\": 1, \"year\": 2013, \"hour\": 16, \"day_of_week\": 2, \"pred\": 50.68589642065264}, {\"datetime\": \"2013-01-02T17:00:00\", \"temperature\": 50.6, \"city_Detroit\": 0, \"city_San Diego\": 1, \"city_San Francisco\": 0, \"city\": \"San Diego\", \"day\": 2, \"month\": 1, \"year\": 2013, \"hour\": 17, \"day_of_week\": 2, \"pred\": 50.68589642065264}, {\"datetime\": \"2013-01-02T17:00:00\", \"temperature\": 44.3, \"city_Detroit\": 0, \"city_San Diego\": 0, \"city_San Francisco\": 1, \"city\": \"San Francisco\", \"day\": 2, \"month\": 1, \"year\": 2013, \"hour\": 17, \"day_of_week\": 2, \"pred\": 50.68589642065264}, {\"datetime\": \"2013-01-02T17:00:00\", \"temperature\": 24.1, \"city_Detroit\": 1, \"city_San Diego\": 0, \"city_San Francisco\": 0, \"city\": \"Detroit\", \"day\": 2, \"month\": 1, \"year\": 2013, \"hour\": 17, \"day_of_week\": 2, \"pred\": 24.026604938271646}, {\"datetime\": \"2013-01-02T18:00:00\", \"temperature\": 45.7, \"city_Detroit\": 0, \"city_San Diego\": 0, \"city_San Francisco\": 1, \"city\": \"San Francisco\", \"day\": 2, \"month\": 1, \"year\": 2013, \"hour\": 18, \"day_of_week\": 2, \"pred\": 61.70386178861797}, {\"datetime\": \"2013-01-02T18:00:00\", \"temperature\": 53.9, \"city_Detroit\": 0, \"city_San Diego\": 1, \"city_San Francisco\": 0, \"city\": \"San Diego\", \"day\": 2, \"month\": 1, \"year\": 2013, \"hour\": 18, \"day_of_week\": 2, \"pred\": 61.70386178861797}, {\"datetime\": \"2013-01-02T18:00:00\", \"temperature\": 25.7, \"city_Detroit\": 1, \"city_San Diego\": 0, \"city_San Francisco\": 0, \"city\": \"Detroit\", \"day\": 2, \"month\": 1, \"year\": 2013, \"hour\": 18, \"day_of_week\": 2, \"pred\": 24.026604938271646}, {\"datetime\": \"2013-01-02T19:00:00\", \"temperature\": 57.1, \"city_Detroit\": 0, \"city_San Diego\": 1, \"city_San Francisco\": 0, \"city\": \"San Diego\", \"day\": 2, \"month\": 1, \"year\": 2013, \"hour\": 19, \"day_of_week\": 2, \"pred\": 61.70386178861797}, {\"datetime\": \"2013-01-02T19:00:00\", \"temperature\": 48.0, \"city_Detroit\": 0, \"city_San Diego\": 0, \"city_San Francisco\": 1, \"city\": \"San Francisco\", \"day\": 2, \"month\": 1, \"year\": 2013, \"hour\": 19, \"day_of_week\": 2, \"pred\": 61.70386178861797}, {\"datetime\": \"2013-01-02T19:00:00\", \"temperature\": 25.5, \"city_Detroit\": 1, \"city_San Diego\": 0, \"city_San Francisco\": 0, \"city\": \"Detroit\", \"day\": 2, \"month\": 1, \"year\": 2013, \"hour\": 19, \"day_of_week\": 2, \"pred\": 24.026604938271646}, {\"datetime\": \"2013-01-02T20:00:00\", \"temperature\": 58.6, \"city_Detroit\": 0, \"city_San Diego\": 1, \"city_San Francisco\": 0, \"city\": \"San Diego\", \"day\": 2, \"month\": 1, \"year\": 2013, \"hour\": 20, \"day_of_week\": 2, \"pred\": 61.70386178861797}, {\"datetime\": \"2013-01-02T20:00:00\", \"temperature\": 49.2, \"city_Detroit\": 0, \"city_San Diego\": 0, \"city_San Francisco\": 1, \"city\": \"San Francisco\", \"day\": 2, \"month\": 1, \"year\": 2013, \"hour\": 20, \"day_of_week\": 2, \"pred\": 61.70386178861797}, {\"datetime\": \"2013-01-02T20:00:00\", \"temperature\": 25.9, \"city_Detroit\": 1, \"city_San Diego\": 0, \"city_San Francisco\": 0, \"city\": \"Detroit\", \"day\": 2, \"month\": 1, \"year\": 2013, \"hour\": 20, \"day_of_week\": 2, \"pred\": 24.026604938271646}, {\"datetime\": \"2013-01-02T21:00:00\", \"temperature\": 50.2, \"city_Detroit\": 0, \"city_San Diego\": 0, \"city_San Francisco\": 1, \"city\": \"San Francisco\", \"day\": 2, \"month\": 1, \"year\": 2013, \"hour\": 21, \"day_of_week\": 2, \"pred\": 61.70386178861797}, {\"datetime\": \"2013-01-02T21:00:00\", \"temperature\": 59.7, \"city_Detroit\": 0, \"city_San Diego\": 1, \"city_San Francisco\": 0, \"city\": \"San Diego\", \"day\": 2, \"month\": 1, \"year\": 2013, \"hour\": 21, \"day_of_week\": 2, \"pred\": 61.70386178861797}, {\"datetime\": \"2013-01-02T21:00:00\", \"temperature\": 25.6, \"city_Detroit\": 1, \"city_San Diego\": 0, \"city_San Francisco\": 0, \"city\": \"Detroit\", \"day\": 2, \"month\": 1, \"year\": 2013, \"hour\": 21, \"day_of_week\": 2, \"pred\": 24.026604938271646}, {\"datetime\": \"2013-01-02T22:00:00\", \"temperature\": 51.7, \"city_Detroit\": 0, \"city_San Diego\": 0, \"city_San Francisco\": 1, \"city\": \"San Francisco\", \"day\": 2, \"month\": 1, \"year\": 2013, \"hour\": 22, \"day_of_week\": 2, \"pred\": 61.70386178861797}, {\"datetime\": \"2013-01-02T22:00:00\", \"temperature\": 58.7, \"city_Detroit\": 0, \"city_San Diego\": 1, \"city_San Francisco\": 0, \"city\": \"San Diego\", \"day\": 2, \"month\": 1, \"year\": 2013, \"hour\": 22, \"day_of_week\": 2, \"pred\": 61.70386178861797}, {\"datetime\": \"2013-01-02T22:00:00\", \"temperature\": 22.8, \"city_Detroit\": 1, \"city_San Diego\": 0, \"city_San Francisco\": 0, \"city\": \"Detroit\", \"day\": 2, \"month\": 1, \"year\": 2013, \"hour\": 22, \"day_of_week\": 2, \"pred\": 24.026604938271646}, {\"datetime\": \"2013-01-02T23:00:00\", \"temperature\": 51.8, \"city_Detroit\": 0, \"city_San Diego\": 0, \"city_San Francisco\": 1, \"city\": \"San Francisco\", \"day\": 2, \"month\": 1, \"year\": 2013, \"hour\": 23, \"day_of_week\": 2, \"pred\": 61.70386178861797}, {\"datetime\": \"2013-01-02T23:00:00\", \"temperature\": 21.7, \"city_Detroit\": 1, \"city_San Diego\": 0, \"city_San Francisco\": 0, \"city\": \"Detroit\", \"day\": 2, \"month\": 1, \"year\": 2013, \"hour\": 23, \"day_of_week\": 2, \"pred\": 24.026604938271646}, {\"datetime\": \"2013-01-02T23:00:00\", \"temperature\": 57.9, \"city_Detroit\": 0, \"city_San Diego\": 1, \"city_San Francisco\": 0, \"city\": \"San Diego\", \"day\": 2, \"month\": 1, \"year\": 2013, \"hour\": 23, \"day_of_week\": 2, \"pred\": 61.70386178861797}, {\"datetime\": \"2013-01-03T00:00:00\", \"temperature\": 20.7, \"city_Detroit\": 1, \"city_San Diego\": 0, \"city_San Francisco\": 0, \"city\": \"Detroit\", \"day\": 3, \"month\": 1, \"year\": 2013, \"hour\": 0, \"day_of_week\": 3, \"pred\": 24.026604938271646}, {\"datetime\": \"2013-01-03T00:00:00\", \"temperature\": 51.5, \"city_Detroit\": 0, \"city_San Diego\": 0, \"city_San Francisco\": 1, \"city\": \"San Francisco\", \"day\": 3, \"month\": 1, \"year\": 2013, \"hour\": 0, \"day_of_week\": 3, \"pred\": 59.03057095343687}, {\"datetime\": \"2013-01-03T00:00:00\", \"temperature\": 56.5, \"city_Detroit\": 0, \"city_San Diego\": 1, \"city_San Francisco\": 0, \"city\": \"San Diego\", \"day\": 3, \"month\": 1, \"year\": 2013, \"hour\": 0, \"day_of_week\": 3, \"pred\": 59.03057095343687}, {\"datetime\": \"2013-01-03T01:00:00\", \"temperature\": 49.2, \"city_Detroit\": 0, \"city_San Diego\": 0, \"city_San Francisco\": 1, \"city\": \"San Francisco\", \"day\": 3, \"month\": 1, \"year\": 2013, \"hour\": 1, \"day_of_week\": 3, \"pred\": 59.03057095343687}, {\"datetime\": \"2013-01-03T01:00:00\", \"temperature\": 18.6, \"city_Detroit\": 1, \"city_San Diego\": 0, \"city_San Francisco\": 0, \"city\": \"Detroit\", \"day\": 3, \"month\": 1, \"year\": 2013, \"hour\": 1, \"day_of_week\": 3, \"pred\": 24.026604938271646}, {\"datetime\": \"2013-01-03T01:00:00\", \"temperature\": 54.6, \"city_Detroit\": 0, \"city_San Diego\": 1, \"city_San Francisco\": 0, \"city\": \"San Diego\", \"day\": 3, \"month\": 1, \"year\": 2013, \"hour\": 1, \"day_of_week\": 3, \"pred\": 59.03057095343687}, {\"datetime\": \"2013-01-03T02:00:00\", \"temperature\": 46.8, \"city_Detroit\": 0, \"city_San Diego\": 0, \"city_San Francisco\": 1, \"city\": \"San Francisco\", \"day\": 3, \"month\": 1, \"year\": 2013, \"hour\": 2, \"day_of_week\": 3, \"pred\": 59.03057095343687}, {\"datetime\": \"2013-01-03T02:00:00\", \"temperature\": 54.0, \"city_Detroit\": 0, \"city_San Diego\": 1, \"city_San Francisco\": 0, \"city\": \"San Diego\", \"day\": 3, \"month\": 1, \"year\": 2013, \"hour\": 2, \"day_of_week\": 3, \"pred\": 59.03057095343687}, {\"datetime\": \"2013-01-03T02:00:00\", \"temperature\": 18.1, \"city_Detroit\": 1, \"city_San Diego\": 0, \"city_San Francisco\": 0, \"city\": \"Detroit\", \"day\": 3, \"month\": 1, \"year\": 2013, \"hour\": 2, \"day_of_week\": 3, \"pred\": 24.026604938271646}, {\"datetime\": \"2013-01-03T03:00:00\", \"temperature\": 19.0, \"city_Detroit\": 1, \"city_San Diego\": 0, \"city_San Francisco\": 0, \"city\": \"Detroit\", \"day\": 3, \"month\": 1, \"year\": 2013, \"hour\": 3, \"day_of_week\": 3, \"pred\": 24.026604938271646}, {\"datetime\": \"2013-01-03T03:00:00\", \"temperature\": 44.2, \"city_Detroit\": 0, \"city_San Diego\": 0, \"city_San Francisco\": 1, \"city\": \"San Francisco\", \"day\": 3, \"month\": 1, \"year\": 2013, \"hour\": 3, \"day_of_week\": 3, \"pred\": 59.03057095343687}, {\"datetime\": \"2013-01-03T03:00:00\", \"temperature\": 53.4, \"city_Detroit\": 0, \"city_San Diego\": 1, \"city_San Francisco\": 0, \"city\": \"San Diego\", \"day\": 3, \"month\": 1, \"year\": 2013, \"hour\": 3, \"day_of_week\": 3, \"pred\": 59.03057095343687}, {\"datetime\": \"2013-01-03T04:00:00\", \"temperature\": 43.9, \"city_Detroit\": 0, \"city_San Diego\": 0, \"city_San Francisco\": 1, \"city\": \"San Francisco\", \"day\": 3, \"month\": 1, \"year\": 2013, \"hour\": 4, \"day_of_week\": 3, \"pred\": 50.68589642065264}, {\"datetime\": \"2013-01-03T04:00:00\", \"temperature\": 19.8, \"city_Detroit\": 1, \"city_San Diego\": 0, \"city_San Francisco\": 0, \"city\": \"Detroit\", \"day\": 3, \"month\": 1, \"year\": 2013, \"hour\": 4, \"day_of_week\": 3, \"pred\": 24.026604938271646}, {\"datetime\": \"2013-01-03T04:00:00\", \"temperature\": 52.7, \"city_Detroit\": 0, \"city_San Diego\": 1, \"city_San Francisco\": 0, \"city\": \"San Diego\", \"day\": 3, \"month\": 1, \"year\": 2013, \"hour\": 4, \"day_of_week\": 3, \"pred\": 50.68589642065264}, {\"datetime\": \"2013-01-03T05:00:00\", \"temperature\": 20.7, \"city_Detroit\": 1, \"city_San Diego\": 0, \"city_San Francisco\": 0, \"city\": \"Detroit\", \"day\": 3, \"month\": 1, \"year\": 2013, \"hour\": 5, \"day_of_week\": 3, \"pred\": 24.026604938271646}, {\"datetime\": \"2013-01-03T05:00:00\", \"temperature\": 51.7, \"city_Detroit\": 0, \"city_San Diego\": 1, \"city_San Francisco\": 0, \"city\": \"San Diego\", \"day\": 3, \"month\": 1, \"year\": 2013, \"hour\": 5, \"day_of_week\": 3, \"pred\": 50.68589642065264}, {\"datetime\": \"2013-01-03T05:00:00\", \"temperature\": 39.7, \"city_Detroit\": 0, \"city_San Diego\": 0, \"city_San Francisco\": 1, \"city\": \"San Francisco\", \"day\": 3, \"month\": 1, \"year\": 2013, \"hour\": 5, \"day_of_week\": 3, \"pred\": 50.68589642065264}, {\"datetime\": \"2013-01-03T06:00:00\", \"temperature\": 39.8, \"city_Detroit\": 0, \"city_San Diego\": 0, \"city_San Francisco\": 1, \"city\": \"San Francisco\", \"day\": 3, \"month\": 1, \"year\": 2013, \"hour\": 6, \"day_of_week\": 3, \"pred\": 50.68589642065264}, {\"datetime\": \"2013-01-03T06:00:00\", \"temperature\": 16.8, \"city_Detroit\": 1, \"city_San Diego\": 0, \"city_San Francisco\": 0, \"city\": \"Detroit\", \"day\": 3, \"month\": 1, \"year\": 2013, \"hour\": 6, \"day_of_week\": 3, \"pred\": 24.026604938271646}, {\"datetime\": \"2013-01-03T06:00:00\", \"temperature\": 49.1, \"city_Detroit\": 0, \"city_San Diego\": 1, \"city_San Francisco\": 0, \"city\": \"San Diego\", \"day\": 3, \"month\": 1, \"year\": 2013, \"hour\": 6, \"day_of_week\": 3, \"pred\": 50.68589642065264}, {\"datetime\": \"2013-01-03T07:00:00\", \"temperature\": 46.4, \"city_Detroit\": 0, \"city_San Diego\": 1, \"city_San Francisco\": 0, \"city\": \"San Diego\", \"day\": 3, \"month\": 1, \"year\": 2013, \"hour\": 7, \"day_of_week\": 3, \"pred\": 50.68589642065264}, {\"datetime\": \"2013-01-03T07:00:00\", \"temperature\": 40.0, \"city_Detroit\": 0, \"city_San Diego\": 0, \"city_San Francisco\": 1, \"city\": \"San Francisco\", \"day\": 3, \"month\": 1, \"year\": 2013, \"hour\": 7, \"day_of_week\": 3, \"pred\": 50.68589642065264}, {\"datetime\": \"2013-01-03T07:00:00\", \"temperature\": 12.9, \"city_Detroit\": 1, \"city_San Diego\": 0, \"city_San Francisco\": 0, \"city\": \"Detroit\", \"day\": 3, \"month\": 1, \"year\": 2013, \"hour\": 7, \"day_of_week\": 3, \"pred\": 24.026604938271646}, {\"datetime\": \"2013-01-03T08:00:00\", \"temperature\": 12.9, \"city_Detroit\": 1, \"city_San Diego\": 0, \"city_San Francisco\": 0, \"city\": \"Detroit\", \"day\": 3, \"month\": 1, \"year\": 2013, \"hour\": 8, \"day_of_week\": 3, \"pred\": 24.026604938271646}, {\"datetime\": \"2013-01-03T08:00:00\", \"temperature\": 40.0, \"city_Detroit\": 0, \"city_San Diego\": 0, \"city_San Francisco\": 1, \"city\": \"San Francisco\", \"day\": 3, \"month\": 1, \"year\": 2013, \"hour\": 8, \"day_of_week\": 3, \"pred\": 50.68589642065264}, {\"datetime\": \"2013-01-03T08:00:00\", \"temperature\": 46.4, \"city_Detroit\": 0, \"city_San Diego\": 1, \"city_San Francisco\": 0, \"city\": \"San Diego\", \"day\": 3, \"month\": 1, \"year\": 2013, \"hour\": 8, \"day_of_week\": 3, \"pred\": 50.68589642065264}, {\"datetime\": \"2013-01-03T09:00:00\", \"temperature\": 46.4, \"city_Detroit\": 0, \"city_San Diego\": 1, \"city_San Francisco\": 0, \"city\": \"San Diego\", \"day\": 3, \"month\": 1, \"year\": 2013, \"hour\": 9, \"day_of_week\": 3, \"pred\": 50.68589642065264}, {\"datetime\": \"2013-01-03T09:00:00\", \"temperature\": 12.9, \"city_Detroit\": 1, \"city_San Diego\": 0, \"city_San Francisco\": 0, \"city\": \"Detroit\", \"day\": 3, \"month\": 1, \"year\": 2013, \"hour\": 9, \"day_of_week\": 3, \"pred\": 24.026604938271646}, {\"datetime\": \"2013-01-03T09:00:00\", \"temperature\": 40.0, \"city_Detroit\": 0, \"city_San Diego\": 0, \"city_San Francisco\": 1, \"city\": \"San Francisco\", \"day\": 3, \"month\": 1, \"year\": 2013, \"hour\": 9, \"day_of_week\": 3, \"pred\": 50.68589642065264}, {\"datetime\": \"2013-01-03T10:00:00\", \"temperature\": 46.4, \"city_Detroit\": 0, \"city_San Diego\": 1, \"city_San Francisco\": 0, \"city\": \"San Diego\", \"day\": 3, \"month\": 1, \"year\": 2013, \"hour\": 10, \"day_of_week\": 3, \"pred\": 50.68589642065264}, {\"datetime\": \"2013-01-03T10:00:00\", \"temperature\": 12.9, \"city_Detroit\": 1, \"city_San Diego\": 0, \"city_San Francisco\": 0, \"city\": \"Detroit\", \"day\": 3, \"month\": 1, \"year\": 2013, \"hour\": 10, \"day_of_week\": 3, \"pred\": 24.026604938271646}, {\"datetime\": \"2013-01-03T10:00:00\", \"temperature\": 40.0, \"city_Detroit\": 0, \"city_San Diego\": 0, \"city_San Francisco\": 1, \"city\": \"San Francisco\", \"day\": 3, \"month\": 1, \"year\": 2013, \"hour\": 10, \"day_of_week\": 3, \"pred\": 50.68589642065264}, {\"datetime\": \"2013-01-03T11:00:00\", \"temperature\": 46.4, \"city_Detroit\": 0, \"city_San Diego\": 1, \"city_San Francisco\": 0, \"city\": \"San Diego\", \"day\": 3, \"month\": 1, \"year\": 2013, \"hour\": 11, \"day_of_week\": 3, \"pred\": 50.68589642065264}, {\"datetime\": \"2013-01-03T11:00:00\", \"temperature\": 12.9, \"city_Detroit\": 1, \"city_San Diego\": 0, \"city_San Francisco\": 0, \"city\": \"Detroit\", \"day\": 3, \"month\": 1, \"year\": 2013, \"hour\": 11, \"day_of_week\": 3, \"pred\": 24.026604938271646}, {\"datetime\": \"2013-01-03T11:00:00\", \"temperature\": 40.0, \"city_Detroit\": 0, \"city_San Diego\": 0, \"city_San Francisco\": 1, \"city\": \"San Francisco\", \"day\": 3, \"month\": 1, \"year\": 2013, \"hour\": 11, \"day_of_week\": 3, \"pred\": 50.68589642065264}, {\"datetime\": \"2013-01-03T12:00:00\", \"temperature\": 40.0, \"city_Detroit\": 0, \"city_San Diego\": 0, \"city_San Francisco\": 1, \"city\": \"San Francisco\", \"day\": 3, \"month\": 1, \"year\": 2013, \"hour\": 12, \"day_of_week\": 3, \"pred\": 50.68589642065264}, {\"datetime\": \"2013-01-03T12:00:00\", \"temperature\": 46.4, \"city_Detroit\": 0, \"city_San Diego\": 1, \"city_San Francisco\": 0, \"city\": \"San Diego\", \"day\": 3, \"month\": 1, \"year\": 2013, \"hour\": 12, \"day_of_week\": 3, \"pred\": 50.68589642065264}, {\"datetime\": \"2013-01-03T12:00:00\", \"temperature\": 12.9, \"city_Detroit\": 1, \"city_San Diego\": 0, \"city_San Francisco\": 0, \"city\": \"Detroit\", \"day\": 3, \"month\": 1, \"year\": 2013, \"hour\": 12, \"day_of_week\": 3, \"pred\": 24.026604938271646}, {\"datetime\": \"2013-01-03T13:00:00\", \"temperature\": 36.0, \"city_Detroit\": 0, \"city_San Diego\": 0, \"city_San Francisco\": 1, \"city\": \"San Francisco\", \"day\": 3, \"month\": 1, \"year\": 2013, \"hour\": 13, \"day_of_week\": 3, \"pred\": 50.68589642065264}, {\"datetime\": \"2013-01-03T13:00:00\", \"temperature\": 15.5, \"city_Detroit\": 1, \"city_San Diego\": 0, \"city_San Francisco\": 0, \"city\": \"Detroit\", \"day\": 3, \"month\": 1, \"year\": 2013, \"hour\": 13, \"day_of_week\": 3, \"pred\": 24.026604938271646}, {\"datetime\": \"2013-01-03T13:00:00\", \"temperature\": 44.9, \"city_Detroit\": 0, \"city_San Diego\": 1, \"city_San Francisco\": 0, \"city\": \"San Diego\", \"day\": 3, \"month\": 1, \"year\": 2013, \"hour\": 13, \"day_of_week\": 3, \"pred\": 50.68589642065264}, {\"datetime\": \"2013-01-03T14:00:00\", \"temperature\": 17.2, \"city_Detroit\": 1, \"city_San Diego\": 0, \"city_San Francisco\": 0, \"city\": \"Detroit\", \"day\": 3, \"month\": 1, \"year\": 2013, \"hour\": 14, \"day_of_week\": 3, \"pred\": 24.026604938271646}, {\"datetime\": \"2013-01-03T14:00:00\", \"temperature\": 36.8, \"city_Detroit\": 0, \"city_San Diego\": 0, \"city_San Francisco\": 1, \"city\": \"San Francisco\", \"day\": 3, \"month\": 1, \"year\": 2013, \"hour\": 14, \"day_of_week\": 3, \"pred\": 50.68589642065264}, {\"datetime\": \"2013-01-03T14:00:00\", \"temperature\": 43.5, \"city_Detroit\": 0, \"city_San Diego\": 1, \"city_San Francisco\": 0, \"city\": \"San Diego\", \"day\": 3, \"month\": 1, \"year\": 2013, \"hour\": 14, \"day_of_week\": 3, \"pred\": 50.68589642065264}, {\"datetime\": \"2013-01-03T15:00:00\", \"temperature\": 17.6, \"city_Detroit\": 1, \"city_San Diego\": 0, \"city_San Francisco\": 0, \"city\": \"Detroit\", \"day\": 3, \"month\": 1, \"year\": 2013, \"hour\": 15, \"day_of_week\": 3, \"pred\": 24.026604938271646}, {\"datetime\": \"2013-01-03T15:00:00\", \"temperature\": 37.5, \"city_Detroit\": 0, \"city_San Diego\": 0, \"city_San Francisco\": 1, \"city\": \"San Francisco\", \"day\": 3, \"month\": 1, \"year\": 2013, \"hour\": 15, \"day_of_week\": 3, \"pred\": 50.68589642065264}, {\"datetime\": \"2013-01-03T15:00:00\", \"temperature\": 42.2, \"city_Detroit\": 0, \"city_San Diego\": 1, \"city_San Francisco\": 0, \"city\": \"San Diego\", \"day\": 3, \"month\": 1, \"year\": 2013, \"hour\": 15, \"day_of_week\": 3, \"pred\": 50.68589642065264}, {\"datetime\": \"2013-01-03T16:00:00\", \"temperature\": 48.8, \"city_Detroit\": 0, \"city_San Diego\": 1, \"city_San Francisco\": 0, \"city\": \"San Diego\", \"day\": 3, \"month\": 1, \"year\": 2013, \"hour\": 16, \"day_of_week\": 3, \"pred\": 50.68589642065264}, {\"datetime\": \"2013-01-03T16:00:00\", \"temperature\": 22.6, \"city_Detroit\": 1, \"city_San Diego\": 0, \"city_San Francisco\": 0, \"city\": \"Detroit\", \"day\": 3, \"month\": 1, \"year\": 2013, \"hour\": 16, \"day_of_week\": 3, \"pred\": 24.026604938271646}, {\"datetime\": \"2013-01-03T16:00:00\", \"temperature\": 37.3, \"city_Detroit\": 0, \"city_San Diego\": 0, \"city_San Francisco\": 1, \"city\": \"San Francisco\", \"day\": 3, \"month\": 1, \"year\": 2013, \"hour\": 16, \"day_of_week\": 3, \"pred\": 50.68589642065264}, {\"datetime\": \"2013-01-03T17:00:00\", \"temperature\": 23.6, \"city_Detroit\": 1, \"city_San Diego\": 0, \"city_San Francisco\": 0, \"city\": \"Detroit\", \"day\": 3, \"month\": 1, \"year\": 2013, \"hour\": 17, \"day_of_week\": 3, \"pred\": 24.026604938271646}, {\"datetime\": \"2013-01-03T17:00:00\", \"temperature\": 42.5, \"city_Detroit\": 0, \"city_San Diego\": 0, \"city_San Francisco\": 1, \"city\": \"San Francisco\", \"day\": 3, \"month\": 1, \"year\": 2013, \"hour\": 17, \"day_of_week\": 3, \"pred\": 50.68589642065264}, {\"datetime\": \"2013-01-03T17:00:00\", \"temperature\": 54.9, \"city_Detroit\": 0, \"city_San Diego\": 1, \"city_San Francisco\": 0, \"city\": \"San Diego\", \"day\": 3, \"month\": 1, \"year\": 2013, \"hour\": 17, \"day_of_week\": 3, \"pred\": 50.68589642065264}, {\"datetime\": \"2013-01-03T18:00:00\", \"temperature\": 24.8, \"city_Detroit\": 1, \"city_San Diego\": 0, \"city_San Francisco\": 0, \"city\": \"Detroit\", \"day\": 3, \"month\": 1, \"year\": 2013, \"hour\": 18, \"day_of_week\": 3, \"pred\": 24.026604938271646}, {\"datetime\": \"2013-01-03T18:00:00\", \"temperature\": 47.0, \"city_Detroit\": 0, \"city_San Diego\": 0, \"city_San Francisco\": 1, \"city\": \"San Francisco\", \"day\": 3, \"month\": 1, \"year\": 2013, \"hour\": 18, \"day_of_week\": 3, \"pred\": 61.70386178861797}, {\"datetime\": \"2013-01-03T18:00:00\", \"temperature\": 58.3, \"city_Detroit\": 0, \"city_San Diego\": 1, \"city_San Francisco\": 0, \"city\": \"San Diego\", \"day\": 3, \"month\": 1, \"year\": 2013, \"hour\": 18, \"day_of_week\": 3, \"pred\": 61.70386178861797}, {\"datetime\": \"2013-01-03T19:00:00\", \"temperature\": 49.8, \"city_Detroit\": 0, \"city_San Diego\": 0, \"city_San Francisco\": 1, \"city\": \"San Francisco\", \"day\": 3, \"month\": 1, \"year\": 2013, \"hour\": 19, \"day_of_week\": 3, \"pred\": 61.70386178861797}, {\"datetime\": \"2013-01-03T19:00:00\", \"temperature\": 25.7, \"city_Detroit\": 1, \"city_San Diego\": 0, \"city_San Francisco\": 0, \"city\": \"Detroit\", \"day\": 3, \"month\": 1, \"year\": 2013, \"hour\": 19, \"day_of_week\": 3, \"pred\": 24.026604938271646}, {\"datetime\": \"2013-01-03T19:00:00\", \"temperature\": 60.2, \"city_Detroit\": 0, \"city_San Diego\": 1, \"city_San Francisco\": 0, \"city\": \"San Diego\", \"day\": 3, \"month\": 1, \"year\": 2013, \"hour\": 19, \"day_of_week\": 3, \"pred\": 61.70386178861797}, {\"datetime\": \"2013-01-03T20:00:00\", \"temperature\": 51.5, \"city_Detroit\": 0, \"city_San Diego\": 0, \"city_San Francisco\": 1, \"city\": \"San Francisco\", \"day\": 3, \"month\": 1, \"year\": 2013, \"hour\": 20, \"day_of_week\": 3, \"pred\": 61.70386178861797}, {\"datetime\": \"2013-01-03T20:00:00\", \"temperature\": 61.4, \"city_Detroit\": 0, \"city_San Diego\": 1, \"city_San Francisco\": 0, \"city\": \"San Diego\", \"day\": 3, \"month\": 1, \"year\": 2013, \"hour\": 20, \"day_of_week\": 3, \"pred\": 61.70386178861797}, {\"datetime\": \"2013-01-03T20:00:00\", \"temperature\": 26.3, \"city_Detroit\": 1, \"city_San Diego\": 0, \"city_San Francisco\": 0, \"city\": \"Detroit\", \"day\": 3, \"month\": 1, \"year\": 2013, \"hour\": 20, \"day_of_week\": 3, \"pred\": 24.026604938271646}, {\"datetime\": \"2013-01-03T21:00:00\", \"temperature\": 26.1, \"city_Detroit\": 1, \"city_San Diego\": 0, \"city_San Francisco\": 0, \"city\": \"Detroit\", \"day\": 3, \"month\": 1, \"year\": 2013, \"hour\": 21, \"day_of_week\": 3, \"pred\": 24.026604938271646}, {\"datetime\": \"2013-01-03T21:00:00\", \"temperature\": 62.2, \"city_Detroit\": 0, \"city_San Diego\": 1, \"city_San Francisco\": 0, \"city\": \"San Diego\", \"day\": 3, \"month\": 1, \"year\": 2013, \"hour\": 21, \"day_of_week\": 3, \"pred\": 61.70386178861797}, {\"datetime\": \"2013-01-03T21:00:00\", \"temperature\": 52.6, \"city_Detroit\": 0, \"city_San Diego\": 0, \"city_San Francisco\": 1, \"city\": \"San Francisco\", \"day\": 3, \"month\": 1, \"year\": 2013, \"hour\": 21, \"day_of_week\": 3, \"pred\": 61.70386178861797}, {\"datetime\": \"2013-01-03T22:00:00\", \"temperature\": 53.3, \"city_Detroit\": 0, \"city_San Diego\": 0, \"city_San Francisco\": 1, \"city\": \"San Francisco\", \"day\": 3, \"month\": 1, \"year\": 2013, \"hour\": 22, \"day_of_week\": 3, \"pred\": 61.70386178861797}, {\"datetime\": \"2013-01-03T22:00:00\", \"temperature\": 62.5, \"city_Detroit\": 0, \"city_San Diego\": 1, \"city_San Francisco\": 0, \"city\": \"San Diego\", \"day\": 3, \"month\": 1, \"year\": 2013, \"hour\": 22, \"day_of_week\": 3, \"pred\": 61.70386178861797}, {\"datetime\": \"2013-01-03T22:00:00\", \"temperature\": 26.1, \"city_Detroit\": 1, \"city_San Diego\": 0, \"city_San Francisco\": 0, \"city\": \"Detroit\", \"day\": 3, \"month\": 1, \"year\": 2013, \"hour\": 22, \"day_of_week\": 3, \"pred\": 24.026604938271646}, {\"datetime\": \"2013-01-03T23:00:00\", \"temperature\": 53.9, \"city_Detroit\": 0, \"city_San Diego\": 0, \"city_San Francisco\": 1, \"city\": \"San Francisco\", \"day\": 3, \"month\": 1, \"year\": 2013, \"hour\": 23, \"day_of_week\": 3, \"pred\": 61.70386178861797}, {\"datetime\": \"2013-01-03T23:00:00\", \"temperature\": 26.6, \"city_Detroit\": 1, \"city_San Diego\": 0, \"city_San Francisco\": 0, \"city\": \"Detroit\", \"day\": 3, \"month\": 1, \"year\": 2013, \"hour\": 23, \"day_of_week\": 3, \"pred\": 24.026604938271646}, {\"datetime\": \"2013-01-03T23:00:00\", \"temperature\": 60.8, \"city_Detroit\": 0, \"city_San Diego\": 1, \"city_San Francisco\": 0, \"city\": \"San Diego\", \"day\": 3, \"month\": 1, \"year\": 2013, \"hour\": 23, \"day_of_week\": 3, \"pred\": 61.70386178861797}, {\"datetime\": \"2013-01-04T00:00:00\", \"temperature\": 53.0, \"city_Detroit\": 0, \"city_San Diego\": 0, \"city_San Francisco\": 1, \"city\": \"San Francisco\", \"day\": 4, \"month\": 1, \"year\": 2013, \"hour\": 0, \"day_of_week\": 4, \"pred\": 59.03057095343687}, {\"datetime\": \"2013-01-04T00:00:00\", \"temperature\": 26.0, \"city_Detroit\": 1, \"city_San Diego\": 0, \"city_San Francisco\": 0, \"city\": \"Detroit\", \"day\": 4, \"month\": 1, \"year\": 2013, \"hour\": 0, \"day_of_week\": 4, \"pred\": 24.026604938271646}, {\"datetime\": \"2013-01-04T00:00:00\", \"temperature\": 58.5, \"city_Detroit\": 0, \"city_San Diego\": 1, \"city_San Francisco\": 0, \"city\": \"San Diego\", \"day\": 4, \"month\": 1, \"year\": 2013, \"hour\": 0, \"day_of_week\": 4, \"pred\": 59.03057095343687}, {\"datetime\": \"2013-01-04T01:00:00\", \"temperature\": 50.4, \"city_Detroit\": 0, \"city_San Diego\": 0, \"city_San Francisco\": 1, \"city\": \"San Francisco\", \"day\": 4, \"month\": 1, \"year\": 2013, \"hour\": 1, \"day_of_week\": 4, \"pred\": 59.03057095343687}, {\"datetime\": \"2013-01-04T01:00:00\", \"temperature\": 25.7, \"city_Detroit\": 1, \"city_San Diego\": 0, \"city_San Francisco\": 0, \"city\": \"Detroit\", \"day\": 4, \"month\": 1, \"year\": 2013, \"hour\": 1, \"day_of_week\": 4, \"pred\": 24.026604938271646}, {\"datetime\": \"2013-01-04T01:00:00\", \"temperature\": 55.8, \"city_Detroit\": 0, \"city_San Diego\": 1, \"city_San Francisco\": 0, \"city\": \"San Diego\", \"day\": 4, \"month\": 1, \"year\": 2013, \"hour\": 1, \"day_of_week\": 4, \"pred\": 59.03057095343687}, {\"datetime\": \"2013-01-04T02:00:00\", \"temperature\": 47.4, \"city_Detroit\": 0, \"city_San Diego\": 0, \"city_San Francisco\": 1, \"city\": \"San Francisco\", \"day\": 4, \"month\": 1, \"year\": 2013, \"hour\": 2, \"day_of_week\": 4, \"pred\": 59.03057095343687}, {\"datetime\": \"2013-01-04T02:00:00\", \"temperature\": 53.1, \"city_Detroit\": 0, \"city_San Diego\": 1, \"city_San Francisco\": 0, \"city\": \"San Diego\", \"day\": 4, \"month\": 1, \"year\": 2013, \"hour\": 2, \"day_of_week\": 4, \"pred\": 59.03057095343687}, {\"datetime\": \"2013-01-04T02:00:00\", \"temperature\": 24.2, \"city_Detroit\": 1, \"city_San Diego\": 0, \"city_San Francisco\": 0, \"city\": \"Detroit\", \"day\": 4, \"month\": 1, \"year\": 2013, \"hour\": 2, \"day_of_week\": 4, \"pred\": 24.026604938271646}, {\"datetime\": \"2013-01-04T03:00:00\", \"temperature\": 45.7, \"city_Detroit\": 0, \"city_San Diego\": 0, \"city_San Francisco\": 1, \"city\": \"San Francisco\", \"day\": 4, \"month\": 1, \"year\": 2013, \"hour\": 3, \"day_of_week\": 4, \"pred\": 59.03057095343687}, {\"datetime\": \"2013-01-04T03:00:00\", \"temperature\": 49.2, \"city_Detroit\": 0, \"city_San Diego\": 1, \"city_San Francisco\": 0, \"city\": \"San Diego\", \"day\": 4, \"month\": 1, \"year\": 2013, \"hour\": 3, \"day_of_week\": 4, \"pred\": 59.03057095343687}, {\"datetime\": \"2013-01-04T03:00:00\", \"temperature\": 24.4, \"city_Detroit\": 1, \"city_San Diego\": 0, \"city_San Francisco\": 0, \"city\": \"Detroit\", \"day\": 4, \"month\": 1, \"year\": 2013, \"hour\": 3, \"day_of_week\": 4, \"pred\": 24.026604938271646}, {\"datetime\": \"2013-01-04T04:00:00\", \"temperature\": 47.8, \"city_Detroit\": 0, \"city_San Diego\": 1, \"city_San Francisco\": 0, \"city\": \"San Diego\", \"day\": 4, \"month\": 1, \"year\": 2013, \"hour\": 4, \"day_of_week\": 4, \"pred\": 50.68589642065264}, {\"datetime\": \"2013-01-04T04:00:00\", \"temperature\": 42.7, \"city_Detroit\": 0, \"city_San Diego\": 0, \"city_San Francisco\": 1, \"city\": \"San Francisco\", \"day\": 4, \"month\": 1, \"year\": 2013, \"hour\": 4, \"day_of_week\": 4, \"pred\": 50.68589642065264}, {\"datetime\": \"2013-01-04T04:00:00\", \"temperature\": 24.4, \"city_Detroit\": 1, \"city_San Diego\": 0, \"city_San Francisco\": 0, \"city\": \"Detroit\", \"day\": 4, \"month\": 1, \"year\": 2013, \"hour\": 4, \"day_of_week\": 4, \"pred\": 24.026604938271646}, {\"datetime\": \"2013-01-04T05:00:00\", \"temperature\": 46.3, \"city_Detroit\": 0, \"city_San Diego\": 1, \"city_San Francisco\": 0, \"city\": \"San Diego\", \"day\": 4, \"month\": 1, \"year\": 2013, \"hour\": 5, \"day_of_week\": 4, \"pred\": 50.68589642065264}, {\"datetime\": \"2013-01-04T05:00:00\", \"temperature\": 42.0, \"city_Detroit\": 0, \"city_San Diego\": 0, \"city_San Francisco\": 1, \"city\": \"San Francisco\", \"day\": 4, \"month\": 1, \"year\": 2013, \"hour\": 5, \"day_of_week\": 4, \"pred\": 50.68589642065264}, {\"datetime\": \"2013-01-04T05:00:00\", \"temperature\": 24.0, \"city_Detroit\": 1, \"city_San Diego\": 0, \"city_San Francisco\": 0, \"city\": \"Detroit\", \"day\": 4, \"month\": 1, \"year\": 2013, \"hour\": 5, \"day_of_week\": 4, \"pred\": 24.026604938271646}, {\"datetime\": \"2013-01-04T06:00:00\", \"temperature\": 40.4, \"city_Detroit\": 0, \"city_San Diego\": 0, \"city_San Francisco\": 1, \"city\": \"San Francisco\", \"day\": 4, \"month\": 1, \"year\": 2013, \"hour\": 6, \"day_of_week\": 4, \"pred\": 50.68589642065264}, {\"datetime\": \"2013-01-04T06:00:00\", \"temperature\": 45.1, \"city_Detroit\": 0, \"city_San Diego\": 1, \"city_San Francisco\": 0, \"city\": \"San Diego\", \"day\": 4, \"month\": 1, \"year\": 2013, \"hour\": 6, \"day_of_week\": 4, \"pred\": 50.68589642065264}, {\"datetime\": \"2013-01-04T06:00:00\", \"temperature\": 23.8, \"city_Detroit\": 1, \"city_San Diego\": 0, \"city_San Francisco\": 0, \"city\": \"Detroit\", \"day\": 4, \"month\": 1, \"year\": 2013, \"hour\": 6, \"day_of_week\": 4, \"pred\": 24.026604938271646}, {\"datetime\": \"2013-01-04T07:00:00\", \"temperature\": 22.8, \"city_Detroit\": 1, \"city_San Diego\": 0, \"city_San Francisco\": 0, \"city\": \"Detroit\", \"day\": 4, \"month\": 1, \"year\": 2013, \"hour\": 7, \"day_of_week\": 4, \"pred\": 24.026604938271646}, {\"datetime\": \"2013-01-04T07:00:00\", \"temperature\": 39.3, \"city_Detroit\": 0, \"city_San Diego\": 0, \"city_San Francisco\": 1, \"city\": \"San Francisco\", \"day\": 4, \"month\": 1, \"year\": 2013, \"hour\": 7, \"day_of_week\": 4, \"pred\": 50.68589642065264}, {\"datetime\": \"2013-01-04T07:00:00\", \"temperature\": 43.9, \"city_Detroit\": 0, \"city_San Diego\": 1, \"city_San Francisco\": 0, \"city\": \"San Diego\", \"day\": 4, \"month\": 1, \"year\": 2013, \"hour\": 7, \"day_of_week\": 4, \"pred\": 50.68589642065264}, {\"datetime\": \"2013-01-04T08:00:00\", \"temperature\": 21.5, \"city_Detroit\": 1, \"city_San Diego\": 0, \"city_San Francisco\": 0, \"city\": \"Detroit\", \"day\": 4, \"month\": 1, \"year\": 2013, \"hour\": 8, \"day_of_week\": 4, \"pred\": 24.026604938271646}, {\"datetime\": \"2013-01-04T08:00:00\", \"temperature\": 42.6, \"city_Detroit\": 0, \"city_San Diego\": 1, \"city_San Francisco\": 0, \"city\": \"San Diego\", \"day\": 4, \"month\": 1, \"year\": 2013, \"hour\": 8, \"day_of_week\": 4, \"pred\": 50.68589642065264}, {\"datetime\": \"2013-01-04T08:00:00\", \"temperature\": 39.7, \"city_Detroit\": 0, \"city_San Diego\": 0, \"city_San Francisco\": 1, \"city\": \"San Francisco\", \"day\": 4, \"month\": 1, \"year\": 2013, \"hour\": 8, \"day_of_week\": 4, \"pred\": 50.68589642065264}, {\"datetime\": \"2013-01-04T09:00:00\", \"temperature\": 20.4, \"city_Detroit\": 1, \"city_San Diego\": 0, \"city_San Francisco\": 0, \"city\": \"Detroit\", \"day\": 4, \"month\": 1, \"year\": 2013, \"hour\": 9, \"day_of_week\": 4, \"pred\": 24.026604938271646}, {\"datetime\": \"2013-01-04T09:00:00\", \"temperature\": 38.4, \"city_Detroit\": 0, \"city_San Diego\": 0, \"city_San Francisco\": 1, \"city\": \"San Francisco\", \"day\": 4, \"month\": 1, \"year\": 2013, \"hour\": 9, \"day_of_week\": 4, \"pred\": 50.68589642065264}, {\"datetime\": \"2013-01-04T09:00:00\", \"temperature\": 42.4, \"city_Detroit\": 0, \"city_San Diego\": 1, \"city_San Francisco\": 0, \"city\": \"San Diego\", \"day\": 4, \"month\": 1, \"year\": 2013, \"hour\": 9, \"day_of_week\": 4, \"pred\": 50.68589642065264}, {\"datetime\": \"2013-01-04T10:00:00\", \"temperature\": 19.0, \"city_Detroit\": 1, \"city_San Diego\": 0, \"city_San Francisco\": 0, \"city\": \"Detroit\", \"day\": 4, \"month\": 1, \"year\": 2013, \"hour\": 10, \"day_of_week\": 4, \"pred\": 24.026604938271646}, {\"datetime\": \"2013-01-04T10:00:00\", \"temperature\": 36.8, \"city_Detroit\": 0, \"city_San Diego\": 0, \"city_San Francisco\": 1, \"city\": \"San Francisco\", \"day\": 4, \"month\": 1, \"year\": 2013, \"hour\": 10, \"day_of_week\": 4, \"pred\": 50.68589642065264}, {\"datetime\": \"2013-01-04T10:00:00\", \"temperature\": 42.4, \"city_Detroit\": 0, \"city_San Diego\": 1, \"city_San Francisco\": 0, \"city\": \"San Diego\", \"day\": 4, \"month\": 1, \"year\": 2013, \"hour\": 10, \"day_of_week\": 4, \"pred\": 50.68589642065264}, {\"datetime\": \"2013-01-04T11:00:00\", \"temperature\": 19.5, \"city_Detroit\": 1, \"city_San Diego\": 0, \"city_San Francisco\": 0, \"city\": \"Detroit\", \"day\": 4, \"month\": 1, \"year\": 2013, \"hour\": 11, \"day_of_week\": 4, \"pred\": 24.026604938271646}, {\"datetime\": \"2013-01-04T11:00:00\", \"temperature\": 39.8, \"city_Detroit\": 0, \"city_San Diego\": 1, \"city_San Francisco\": 0, \"city\": \"San Diego\", \"day\": 4, \"month\": 1, \"year\": 2013, \"hour\": 11, \"day_of_week\": 4, \"pred\": 50.68589642065264}, {\"datetime\": \"2013-01-04T11:00:00\", \"temperature\": 35.6, \"city_Detroit\": 0, \"city_San Diego\": 0, \"city_San Francisco\": 1, \"city\": \"San Francisco\", \"day\": 4, \"month\": 1, \"year\": 2013, \"hour\": 11, \"day_of_week\": 4, \"pred\": 50.68589642065264}, {\"datetime\": \"2013-01-04T12:00:00\", \"temperature\": 39.0, \"city_Detroit\": 0, \"city_San Diego\": 1, \"city_San Francisco\": 0, \"city\": \"San Diego\", \"day\": 4, \"month\": 1, \"year\": 2013, \"hour\": 12, \"day_of_week\": 4, \"pred\": 50.68589642065264}, {\"datetime\": \"2013-01-04T12:00:00\", \"temperature\": 35.8, \"city_Detroit\": 0, \"city_San Diego\": 0, \"city_San Francisco\": 1, \"city\": \"San Francisco\", \"day\": 4, \"month\": 1, \"year\": 2013, \"hour\": 12, \"day_of_week\": 4, \"pred\": 50.68589642065264}, {\"datetime\": \"2013-01-04T12:00:00\", \"temperature\": 19.1, \"city_Detroit\": 1, \"city_San Diego\": 0, \"city_San Francisco\": 0, \"city\": \"Detroit\", \"day\": 4, \"month\": 1, \"year\": 2013, \"hour\": 12, \"day_of_week\": 4, \"pred\": 24.026604938271646}, {\"datetime\": \"2013-01-04T13:00:00\", \"temperature\": 34.4, \"city_Detroit\": 0, \"city_San Diego\": 0, \"city_San Francisco\": 1, \"city\": \"San Francisco\", \"day\": 4, \"month\": 1, \"year\": 2013, \"hour\": 13, \"day_of_week\": 4, \"pred\": 50.68589642065264}, {\"datetime\": \"2013-01-04T13:00:00\", \"temperature\": 18.8, \"city_Detroit\": 1, \"city_San Diego\": 0, \"city_San Francisco\": 0, \"city\": \"Detroit\", \"day\": 4, \"month\": 1, \"year\": 2013, \"hour\": 13, \"day_of_week\": 4, \"pred\": 24.026604938271646}, {\"datetime\": \"2013-01-04T13:00:00\", \"temperature\": 39.7, \"city_Detroit\": 0, \"city_San Diego\": 1, \"city_San Francisco\": 0, \"city\": \"San Diego\", \"day\": 4, \"month\": 1, \"year\": 2013, \"hour\": 13, \"day_of_week\": 4, \"pred\": 50.68589642065264}, {\"datetime\": \"2013-01-04T14:00:00\", \"temperature\": 33.5, \"city_Detroit\": 0, \"city_San Diego\": 0, \"city_San Francisco\": 1, \"city\": \"San Francisco\", \"day\": 4, \"month\": 1, \"year\": 2013, \"hour\": 14, \"day_of_week\": 4, \"pred\": 50.68589642065264}, {\"datetime\": \"2013-01-04T14:00:00\", \"temperature\": 19.8, \"city_Detroit\": 1, \"city_San Diego\": 0, \"city_San Francisco\": 0, \"city\": \"Detroit\", \"day\": 4, \"month\": 1, \"year\": 2013, \"hour\": 14, \"day_of_week\": 4, \"pred\": 24.026604938271646}, {\"datetime\": \"2013-01-04T14:00:00\", \"temperature\": 39.7, \"city_Detroit\": 0, \"city_San Diego\": 1, \"city_San Francisco\": 0, \"city\": \"San Diego\", \"day\": 4, \"month\": 1, \"year\": 2013, \"hour\": 14, \"day_of_week\": 4, \"pred\": 50.68589642065264}, {\"datetime\": \"2013-01-04T15:00:00\", \"temperature\": 20.4, \"city_Detroit\": 1, \"city_San Diego\": 0, \"city_San Francisco\": 0, \"city\": \"Detroit\", \"day\": 4, \"month\": 1, \"year\": 2013, \"hour\": 15, \"day_of_week\": 4, \"pred\": 24.026604938271646}, {\"datetime\": \"2013-01-04T15:00:00\", \"temperature\": 41.1, \"city_Detroit\": 0, \"city_San Diego\": 1, \"city_San Francisco\": 0, \"city\": \"San Diego\", \"day\": 4, \"month\": 1, \"year\": 2013, \"hour\": 15, \"day_of_week\": 4, \"pred\": 50.68589642065264}, {\"datetime\": \"2013-01-04T15:00:00\", \"temperature\": 35.8, \"city_Detroit\": 0, \"city_San Diego\": 0, \"city_San Francisco\": 1, \"city\": \"San Francisco\", \"day\": 4, \"month\": 1, \"year\": 2013, \"hour\": 15, \"day_of_week\": 4, \"pred\": 50.68589642065264}, {\"datetime\": \"2013-01-04T16:00:00\", \"temperature\": 45.5, \"city_Detroit\": 0, \"city_San Diego\": 1, \"city_San Francisco\": 0, \"city\": \"San Diego\", \"day\": 4, \"month\": 1, \"year\": 2013, \"hour\": 16, \"day_of_week\": 4, \"pred\": 50.68589642065264}, {\"datetime\": \"2013-01-04T16:00:00\", \"temperature\": 37.3, \"city_Detroit\": 0, \"city_San Diego\": 0, \"city_San Francisco\": 1, \"city\": \"San Francisco\", \"day\": 4, \"month\": 1, \"year\": 2013, \"hour\": 16, \"day_of_week\": 4, \"pred\": 50.68589642065264}, {\"datetime\": \"2013-01-04T16:00:00\", \"temperature\": 21.8, \"city_Detroit\": 1, \"city_San Diego\": 0, \"city_San Francisco\": 0, \"city\": \"Detroit\", \"day\": 4, \"month\": 1, \"year\": 2013, \"hour\": 16, \"day_of_week\": 4, \"pred\": 24.026604938271646}, {\"datetime\": \"2013-01-04T17:00:00\", \"temperature\": 52.6, \"city_Detroit\": 0, \"city_San Diego\": 1, \"city_San Francisco\": 0, \"city\": \"San Diego\", \"day\": 4, \"month\": 1, \"year\": 2013, \"hour\": 17, \"day_of_week\": 4, \"pred\": 50.68589642065264}, {\"datetime\": \"2013-01-04T17:00:00\", \"temperature\": 40.6, \"city_Detroit\": 0, \"city_San Diego\": 0, \"city_San Francisco\": 1, \"city\": \"San Francisco\", \"day\": 4, \"month\": 1, \"year\": 2013, \"hour\": 17, \"day_of_week\": 4, \"pred\": 50.68589642065264}, {\"datetime\": \"2013-01-04T17:00:00\", \"temperature\": 24.4, \"city_Detroit\": 1, \"city_San Diego\": 0, \"city_San Francisco\": 0, \"city\": \"Detroit\", \"day\": 4, \"month\": 1, \"year\": 2013, \"hour\": 17, \"day_of_week\": 4, \"pred\": 24.026604938271646}, {\"datetime\": \"2013-01-04T18:00:00\", \"temperature\": 60.3, \"city_Detroit\": 0, \"city_San Diego\": 1, \"city_San Francisco\": 0, \"city\": \"San Diego\", \"day\": 4, \"month\": 1, \"year\": 2013, \"hour\": 18, \"day_of_week\": 4, \"pred\": 61.70386178861797}, {\"datetime\": \"2013-01-04T18:00:00\", \"temperature\": 26.4, \"city_Detroit\": 1, \"city_San Diego\": 0, \"city_San Francisco\": 0, \"city\": \"Detroit\", \"day\": 4, \"month\": 1, \"year\": 2013, \"hour\": 18, \"day_of_week\": 4, \"pred\": 24.026604938271646}, {\"datetime\": \"2013-01-04T18:00:00\", \"temperature\": 44.9, \"city_Detroit\": 0, \"city_San Diego\": 0, \"city_San Francisco\": 1, \"city\": \"San Francisco\", \"day\": 4, \"month\": 1, \"year\": 2013, \"hour\": 18, \"day_of_week\": 4, \"pred\": 61.70386178861797}, {\"datetime\": \"2013-01-04T19:00:00\", \"temperature\": 26.5, \"city_Detroit\": 1, \"city_San Diego\": 0, \"city_San Francisco\": 0, \"city\": \"Detroit\", \"day\": 4, \"month\": 1, \"year\": 2013, \"hour\": 19, \"day_of_week\": 4, \"pred\": 24.026604938271646}, {\"datetime\": \"2013-01-04T19:00:00\", \"temperature\": 62.9, \"city_Detroit\": 0, \"city_San Diego\": 1, \"city_San Francisco\": 0, \"city\": \"San Diego\", \"day\": 4, \"month\": 1, \"year\": 2013, \"hour\": 19, \"day_of_week\": 4, \"pred\": 61.70386178861797}, {\"datetime\": \"2013-01-04T19:00:00\", \"temperature\": 47.2, \"city_Detroit\": 0, \"city_San Diego\": 0, \"city_San Francisco\": 1, \"city\": \"San Francisco\", \"day\": 4, \"month\": 1, \"year\": 2013, \"hour\": 19, \"day_of_week\": 4, \"pred\": 61.70386178861797}, {\"datetime\": \"2013-01-04T20:00:00\", \"temperature\": 64.8, \"city_Detroit\": 0, \"city_San Diego\": 1, \"city_San Francisco\": 0, \"city\": \"San Diego\", \"day\": 4, \"month\": 1, \"year\": 2013, \"hour\": 20, \"day_of_week\": 4, \"pred\": 61.70386178861797}, {\"datetime\": \"2013-01-04T20:00:00\", \"temperature\": 49.6, \"city_Detroit\": 0, \"city_San Diego\": 0, \"city_San Francisco\": 1, \"city\": \"San Francisco\", \"day\": 4, \"month\": 1, \"year\": 2013, \"hour\": 20, \"day_of_week\": 4, \"pred\": 61.70386178861797}, {\"datetime\": \"2013-01-04T20:00:00\", \"temperature\": 27.8, \"city_Detroit\": 1, \"city_San Diego\": 0, \"city_San Francisco\": 0, \"city\": \"Detroit\", \"day\": 4, \"month\": 1, \"year\": 2013, \"hour\": 20, \"day_of_week\": 4, \"pred\": 24.026604938271646}, {\"datetime\": \"2013-01-04T21:00:00\", \"temperature\": 51.7, \"city_Detroit\": 0, \"city_San Diego\": 0, \"city_San Francisco\": 1, \"city\": \"San Francisco\", \"day\": 4, \"month\": 1, \"year\": 2013, \"hour\": 21, \"day_of_week\": 4, \"pred\": 61.70386178861797}, {\"datetime\": \"2013-01-04T21:00:00\", \"temperature\": 28.4, \"city_Detroit\": 1, \"city_San Diego\": 0, \"city_San Francisco\": 0, \"city\": \"Detroit\", \"day\": 4, \"month\": 1, \"year\": 2013, \"hour\": 21, \"day_of_week\": 4, \"pred\": 24.026604938271646}, {\"datetime\": \"2013-01-04T21:00:00\", \"temperature\": 67.0, \"city_Detroit\": 0, \"city_San Diego\": 1, \"city_San Francisco\": 0, \"city\": \"San Diego\", \"day\": 4, \"month\": 1, \"year\": 2013, \"hour\": 21, \"day_of_week\": 4, \"pred\": 61.70386178861797}, {\"datetime\": \"2013-01-04T22:00:00\", \"temperature\": 53.0, \"city_Detroit\": 0, \"city_San Diego\": 0, \"city_San Francisco\": 1, \"city\": \"San Francisco\", \"day\": 4, \"month\": 1, \"year\": 2013, \"hour\": 22, \"day_of_week\": 4, \"pred\": 61.70386178861797}, {\"datetime\": \"2013-01-04T22:00:00\", \"temperature\": 29.3, \"city_Detroit\": 1, \"city_San Diego\": 0, \"city_San Francisco\": 0, \"city\": \"Detroit\", \"day\": 4, \"month\": 1, \"year\": 2013, \"hour\": 22, \"day_of_week\": 4, \"pred\": 24.026604938271646}, {\"datetime\": \"2013-01-04T22:00:00\", \"temperature\": 66.6, \"city_Detroit\": 0, \"city_San Diego\": 1, \"city_San Francisco\": 0, \"city\": \"San Diego\", \"day\": 4, \"month\": 1, \"year\": 2013, \"hour\": 22, \"day_of_week\": 4, \"pred\": 61.70386178861797}, {\"datetime\": \"2013-01-04T23:00:00\", \"temperature\": 64.9, \"city_Detroit\": 0, \"city_San Diego\": 1, \"city_San Francisco\": 0, \"city\": \"San Diego\", \"day\": 4, \"month\": 1, \"year\": 2013, \"hour\": 23, \"day_of_week\": 4, \"pred\": 61.70386178861797}, {\"datetime\": \"2013-01-04T23:00:00\", \"temperature\": 29.3, \"city_Detroit\": 1, \"city_San Diego\": 0, \"city_San Francisco\": 0, \"city\": \"Detroit\", \"day\": 4, \"month\": 1, \"year\": 2013, \"hour\": 23, \"day_of_week\": 4, \"pred\": 24.026604938271646}, {\"datetime\": \"2013-01-04T23:00:00\", \"temperature\": 53.1, \"city_Detroit\": 0, \"city_San Diego\": 0, \"city_San Francisco\": 1, \"city\": \"San Francisco\", \"day\": 4, \"month\": 1, \"year\": 2013, \"hour\": 23, \"day_of_week\": 4, \"pred\": 61.70386178861797}, {\"datetime\": \"2013-01-05T00:00:00\", \"temperature\": 61.0, \"city_Detroit\": 0, \"city_San Diego\": 1, \"city_San Francisco\": 0, \"city\": \"San Diego\", \"day\": 5, \"month\": 1, \"year\": 2013, \"hour\": 0, \"day_of_week\": 5, \"pred\": 59.03057095343687}, {\"datetime\": \"2013-01-05T00:00:00\", \"temperature\": 29.7, \"city_Detroit\": 1, \"city_San Diego\": 0, \"city_San Francisco\": 0, \"city\": \"Detroit\", \"day\": 5, \"month\": 1, \"year\": 2013, \"hour\": 0, \"day_of_week\": 5, \"pred\": 24.026604938271646}, {\"datetime\": \"2013-01-05T00:00:00\", \"temperature\": 51.9, \"city_Detroit\": 0, \"city_San Diego\": 0, \"city_San Francisco\": 1, \"city\": \"San Francisco\", \"day\": 5, \"month\": 1, \"year\": 2013, \"hour\": 0, \"day_of_week\": 5, \"pred\": 59.03057095343687}, {\"datetime\": \"2013-01-05T01:00:00\", \"temperature\": 30.3, \"city_Detroit\": 1, \"city_San Diego\": 0, \"city_San Francisco\": 0, \"city\": \"Detroit\", \"day\": 5, \"month\": 1, \"year\": 2013, \"hour\": 1, \"day_of_week\": 5, \"pred\": 24.026604938271646}, {\"datetime\": \"2013-01-05T01:00:00\", \"temperature\": 56.4, \"city_Detroit\": 0, \"city_San Diego\": 1, \"city_San Francisco\": 0, \"city\": \"San Diego\", \"day\": 5, \"month\": 1, \"year\": 2013, \"hour\": 1, \"day_of_week\": 5, \"pred\": 59.03057095343687}, {\"datetime\": \"2013-01-05T01:00:00\", \"temperature\": 49.6, \"city_Detroit\": 0, \"city_San Diego\": 0, \"city_San Francisco\": 1, \"city\": \"San Francisco\", \"day\": 5, \"month\": 1, \"year\": 2013, \"hour\": 1, \"day_of_week\": 5, \"pred\": 59.03057095343687}, {\"datetime\": \"2013-01-05T02:00:00\", \"temperature\": 29.9, \"city_Detroit\": 1, \"city_San Diego\": 0, \"city_San Francisco\": 0, \"city\": \"Detroit\", \"day\": 5, \"month\": 1, \"year\": 2013, \"hour\": 2, \"day_of_week\": 5, \"pred\": 24.026604938271646}, {\"datetime\": \"2013-01-05T02:00:00\", \"temperature\": 54.1, \"city_Detroit\": 0, \"city_San Diego\": 1, \"city_San Francisco\": 0, \"city\": \"San Diego\", \"day\": 5, \"month\": 1, \"year\": 2013, \"hour\": 2, \"day_of_week\": 5, \"pred\": 59.03057095343687}, {\"datetime\": \"2013-01-05T02:00:00\", \"temperature\": 47.7, \"city_Detroit\": 0, \"city_San Diego\": 0, \"city_San Francisco\": 1, \"city\": \"San Francisco\", \"day\": 5, \"month\": 1, \"year\": 2013, \"hour\": 2, \"day_of_week\": 5, \"pred\": 59.03057095343687}, {\"datetime\": \"2013-01-05T03:00:00\", \"temperature\": 30.5, \"city_Detroit\": 1, \"city_San Diego\": 0, \"city_San Francisco\": 0, \"city\": \"Detroit\", \"day\": 5, \"month\": 1, \"year\": 2013, \"hour\": 3, \"day_of_week\": 5, \"pred\": 24.026604938271646}, {\"datetime\": \"2013-01-05T03:00:00\", \"temperature\": 52.4, \"city_Detroit\": 0, \"city_San Diego\": 1, \"city_San Francisco\": 0, \"city\": \"San Diego\", \"day\": 5, \"month\": 1, \"year\": 2013, \"hour\": 3, \"day_of_week\": 5, \"pred\": 59.03057095343687}, {\"datetime\": \"2013-01-05T03:00:00\", \"temperature\": 46.3, \"city_Detroit\": 0, \"city_San Diego\": 0, \"city_San Francisco\": 1, \"city\": \"San Francisco\", \"day\": 5, \"month\": 1, \"year\": 2013, \"hour\": 3, \"day_of_week\": 5, \"pred\": 59.03057095343687}, {\"datetime\": \"2013-01-05T04:00:00\", \"temperature\": 52.0, \"city_Detroit\": 0, \"city_San Diego\": 1, \"city_San Francisco\": 0, \"city\": \"San Diego\", \"day\": 5, \"month\": 1, \"year\": 2013, \"hour\": 4, \"day_of_week\": 5, \"pred\": 50.68589642065264}, {\"datetime\": \"2013-01-05T04:00:00\", \"temperature\": 30.5, \"city_Detroit\": 1, \"city_San Diego\": 0, \"city_San Francisco\": 0, \"city\": \"Detroit\", \"day\": 5, \"month\": 1, \"year\": 2013, \"hour\": 4, \"day_of_week\": 5, \"pred\": 24.026604938271646}, {\"datetime\": \"2013-01-05T04:00:00\", \"temperature\": 43.5, \"city_Detroit\": 0, \"city_San Diego\": 0, \"city_San Francisco\": 1, \"city\": \"San Francisco\", \"day\": 5, \"month\": 1, \"year\": 2013, \"hour\": 4, \"day_of_week\": 5, \"pred\": 50.68589642065264}, {\"datetime\": \"2013-01-05T05:00:00\", \"temperature\": 51.0, \"city_Detroit\": 0, \"city_San Diego\": 1, \"city_San Francisco\": 0, \"city\": \"San Diego\", \"day\": 5, \"month\": 1, \"year\": 2013, \"hour\": 5, \"day_of_week\": 5, \"pred\": 50.68589642065264}, {\"datetime\": \"2013-01-05T05:00:00\", \"temperature\": 29.8, \"city_Detroit\": 1, \"city_San Diego\": 0, \"city_San Francisco\": 0, \"city\": \"Detroit\", \"day\": 5, \"month\": 1, \"year\": 2013, \"hour\": 5, \"day_of_week\": 5, \"pred\": 24.026604938271646}, {\"datetime\": \"2013-01-05T05:00:00\", \"temperature\": 42.2, \"city_Detroit\": 0, \"city_San Diego\": 0, \"city_San Francisco\": 1, \"city\": \"San Francisco\", \"day\": 5, \"month\": 1, \"year\": 2013, \"hour\": 5, \"day_of_week\": 5, \"pred\": 50.68589642065264}, {\"datetime\": \"2013-01-05T06:00:00\", \"temperature\": 42.2, \"city_Detroit\": 0, \"city_San Diego\": 0, \"city_San Francisco\": 1, \"city\": \"San Francisco\", \"day\": 5, \"month\": 1, \"year\": 2013, \"hour\": 6, \"day_of_week\": 5, \"pred\": 50.68589642065264}, {\"datetime\": \"2013-01-05T06:00:00\", \"temperature\": 26.8, \"city_Detroit\": 1, \"city_San Diego\": 0, \"city_San Francisco\": 0, \"city\": \"Detroit\", \"day\": 5, \"month\": 1, \"year\": 2013, \"hour\": 6, \"day_of_week\": 5, \"pred\": 24.026604938271646}, {\"datetime\": \"2013-01-05T06:00:00\", \"temperature\": 44.2, \"city_Detroit\": 0, \"city_San Diego\": 1, \"city_San Francisco\": 0, \"city\": \"San Diego\", \"day\": 5, \"month\": 1, \"year\": 2013, \"hour\": 6, \"day_of_week\": 5, \"pred\": 50.68589642065264}, {\"datetime\": \"2013-01-05T07:00:00\", \"temperature\": 43.1, \"city_Detroit\": 0, \"city_San Diego\": 0, \"city_San Francisco\": 1, \"city\": \"San Francisco\", \"day\": 5, \"month\": 1, \"year\": 2013, \"hour\": 7, \"day_of_week\": 5, \"pred\": 50.68589642065264}, {\"datetime\": \"2013-01-05T07:00:00\", \"temperature\": 26.2, \"city_Detroit\": 0, \"city_San Diego\": 1, \"city_San Francisco\": 0, \"city\": \"San Diego\", \"day\": 5, \"month\": 1, \"year\": 2013, \"hour\": 7, \"day_of_week\": 5, \"pred\": 50.68589642065264}, {\"datetime\": \"2013-01-05T07:00:00\", \"temperature\": 20.6, \"city_Detroit\": 1, \"city_San Diego\": 0, \"city_San Francisco\": 0, \"city\": \"Detroit\", \"day\": 5, \"month\": 1, \"year\": 2013, \"hour\": 7, \"day_of_week\": 5, \"pred\": 24.026604938271646}, {\"datetime\": \"2013-01-05T08:00:00\", \"temperature\": 42.6, \"city_Detroit\": 0, \"city_San Diego\": 0, \"city_San Francisco\": 1, \"city\": \"San Francisco\", \"day\": 5, \"month\": 1, \"year\": 2013, \"hour\": 8, \"day_of_week\": 5, \"pred\": 50.68589642065264}, {\"datetime\": \"2013-01-05T08:00:00\", \"temperature\": 24.9, \"city_Detroit\": 0, \"city_San Diego\": 1, \"city_San Francisco\": 0, \"city\": \"San Diego\", \"day\": 5, \"month\": 1, \"year\": 2013, \"hour\": 8, \"day_of_week\": 5, \"pred\": 50.68589642065264}, {\"datetime\": \"2013-01-05T08:00:00\", \"temperature\": 19.2, \"city_Detroit\": 1, \"city_San Diego\": 0, \"city_San Francisco\": 0, \"city\": \"Detroit\", \"day\": 5, \"month\": 1, \"year\": 2013, \"hour\": 8, \"day_of_week\": 5, \"pred\": 24.026604938271646}, {\"datetime\": \"2013-01-05T09:00:00\", \"temperature\": 27.5, \"city_Detroit\": 1, \"city_San Diego\": 0, \"city_San Francisco\": 0, \"city\": \"Detroit\", \"day\": 5, \"month\": 1, \"year\": 2013, \"hour\": 9, \"day_of_week\": 5, \"pred\": 24.026604938271646}, {\"datetime\": \"2013-01-05T09:00:00\", \"temperature\": 40.6, \"city_Detroit\": 0, \"city_San Diego\": 1, \"city_San Francisco\": 0, \"city\": \"San Diego\", \"day\": 5, \"month\": 1, \"year\": 2013, \"hour\": 9, \"day_of_week\": 5, \"pred\": 50.68589642065264}, {\"datetime\": \"2013-01-05T09:00:00\", \"temperature\": 40.2, \"city_Detroit\": 0, \"city_San Diego\": 0, \"city_San Francisco\": 1, \"city\": \"San Francisco\", \"day\": 5, \"month\": 1, \"year\": 2013, \"hour\": 9, \"day_of_week\": 5, \"pred\": 50.68589642065264}, {\"datetime\": \"2013-01-05T10:00:00\", \"temperature\": 44.9, \"city_Detroit\": 0, \"city_San Diego\": 1, \"city_San Francisco\": 0, \"city\": \"San Diego\", \"day\": 5, \"month\": 1, \"year\": 2013, \"hour\": 10, \"day_of_week\": 5, \"pred\": 50.68589642065264}, {\"datetime\": \"2013-01-05T10:00:00\", \"temperature\": 39.1, \"city_Detroit\": 0, \"city_San Diego\": 0, \"city_San Francisco\": 1, \"city\": \"San Francisco\", \"day\": 5, \"month\": 1, \"year\": 2013, \"hour\": 10, \"day_of_week\": 5, \"pred\": 50.68589642065264}, {\"datetime\": \"2013-01-05T10:00:00\", \"temperature\": 29.3, \"city_Detroit\": 1, \"city_San Diego\": 0, \"city_San Francisco\": 0, \"city\": \"Detroit\", \"day\": 5, \"month\": 1, \"year\": 2013, \"hour\": 10, \"day_of_week\": 5, \"pred\": 24.026604938271646}, {\"datetime\": \"2013-01-05T11:00:00\", \"temperature\": 29.3, \"city_Detroit\": 1, \"city_San Diego\": 0, \"city_San Francisco\": 0, \"city\": \"Detroit\", \"day\": 5, \"month\": 1, \"year\": 2013, \"hour\": 11, \"day_of_week\": 5, \"pred\": 24.026604938271646}, {\"datetime\": \"2013-01-05T11:00:00\", \"temperature\": 38.6, \"city_Detroit\": 0, \"city_San Diego\": 0, \"city_San Francisco\": 1, \"city\": \"San Francisco\", \"day\": 5, \"month\": 1, \"year\": 2013, \"hour\": 11, \"day_of_week\": 5, \"pred\": 50.68589642065264}, {\"datetime\": \"2013-01-05T11:00:00\", \"temperature\": 43.4, \"city_Detroit\": 0, \"city_San Diego\": 1, \"city_San Francisco\": 0, \"city\": \"San Diego\", \"day\": 5, \"month\": 1, \"year\": 2013, \"hour\": 11, \"day_of_week\": 5, \"pred\": 50.68589642065264}, {\"datetime\": \"2013-01-05T12:00:00\", \"temperature\": 38.1, \"city_Detroit\": 0, \"city_San Diego\": 0, \"city_San Francisco\": 1, \"city\": \"San Francisco\", \"day\": 5, \"month\": 1, \"year\": 2013, \"hour\": 12, \"day_of_week\": 5, \"pred\": 50.68589642065264}, {\"datetime\": \"2013-01-05T12:00:00\", \"temperature\": 27.9, \"city_Detroit\": 1, \"city_San Diego\": 0, \"city_San Francisco\": 0, \"city\": \"Detroit\", \"day\": 5, \"month\": 1, \"year\": 2013, \"hour\": 12, \"day_of_week\": 5, \"pred\": 24.026604938271646}, {\"datetime\": \"2013-01-05T12:00:00\", \"temperature\": 42.7, \"city_Detroit\": 0, \"city_San Diego\": 1, \"city_San Francisco\": 0, \"city\": \"San Diego\", \"day\": 5, \"month\": 1, \"year\": 2013, \"hour\": 12, \"day_of_week\": 5, \"pred\": 50.68589642065264}, {\"datetime\": \"2013-01-05T13:00:00\", \"temperature\": 37.6, \"city_Detroit\": 0, \"city_San Diego\": 0, \"city_San Francisco\": 1, \"city\": \"San Francisco\", \"day\": 5, \"month\": 1, \"year\": 2013, \"hour\": 13, \"day_of_week\": 5, \"pred\": 50.68589642065264}, {\"datetime\": \"2013-01-05T13:00:00\", \"temperature\": 26.4, \"city_Detroit\": 1, \"city_San Diego\": 0, \"city_San Francisco\": 0, \"city\": \"Detroit\", \"day\": 5, \"month\": 1, \"year\": 2013, \"hour\": 13, \"day_of_week\": 5, \"pred\": 24.026604938271646}, {\"datetime\": \"2013-01-05T13:00:00\", \"temperature\": 41.9, \"city_Detroit\": 0, \"city_San Diego\": 1, \"city_San Francisco\": 0, \"city\": \"San Diego\", \"day\": 5, \"month\": 1, \"year\": 2013, \"hour\": 13, \"day_of_week\": 5, \"pred\": 50.68589642065264}, {\"datetime\": \"2013-01-05T14:00:00\", \"temperature\": 24.9, \"city_Detroit\": 1, \"city_San Diego\": 0, \"city_San Francisco\": 0, \"city\": \"Detroit\", \"day\": 5, \"month\": 1, \"year\": 2013, \"hour\": 14, \"day_of_week\": 5, \"pred\": 24.026604938271646}, {\"datetime\": \"2013-01-05T14:00:00\", \"temperature\": 40.8, \"city_Detroit\": 0, \"city_San Diego\": 1, \"city_San Francisco\": 0, \"city\": \"San Diego\", \"day\": 5, \"month\": 1, \"year\": 2013, \"hour\": 14, \"day_of_week\": 5, \"pred\": 50.68589642065264}, {\"datetime\": \"2013-01-05T14:00:00\", \"temperature\": 37.8, \"city_Detroit\": 0, \"city_San Diego\": 0, \"city_San Francisco\": 1, \"city\": \"San Francisco\", \"day\": 5, \"month\": 1, \"year\": 2013, \"hour\": 14, \"day_of_week\": 5, \"pred\": 50.68589642065264}, {\"datetime\": \"2013-01-05T15:00:00\", \"temperature\": 24.4, \"city_Detroit\": 1, \"city_San Diego\": 0, \"city_San Francisco\": 0, \"city\": \"Detroit\", \"day\": 5, \"month\": 1, \"year\": 2013, \"hour\": 15, \"day_of_week\": 5, \"pred\": 24.026604938271646}, {\"datetime\": \"2013-01-05T15:00:00\", \"temperature\": 38.0, \"city_Detroit\": 0, \"city_San Diego\": 0, \"city_San Francisco\": 1, \"city\": \"San Francisco\", \"day\": 5, \"month\": 1, \"year\": 2013, \"hour\": 15, \"day_of_week\": 5, \"pred\": 50.68589642065264}, {\"datetime\": \"2013-01-05T15:00:00\", \"temperature\": 43.4, \"city_Detroit\": 0, \"city_San Diego\": 1, \"city_San Francisco\": 0, \"city\": \"San Diego\", \"day\": 5, \"month\": 1, \"year\": 2013, \"hour\": 15, \"day_of_week\": 5, \"pred\": 50.68589642065264}, {\"datetime\": \"2013-01-05T16:00:00\", \"temperature\": 25.7, \"city_Detroit\": 1, \"city_San Diego\": 0, \"city_San Francisco\": 0, \"city\": \"Detroit\", \"day\": 5, \"month\": 1, \"year\": 2013, \"hour\": 16, \"day_of_week\": 5, \"pred\": 24.026604938271646}, {\"datetime\": \"2013-01-05T16:00:00\", \"temperature\": 47.9, \"city_Detroit\": 0, \"city_San Diego\": 1, \"city_San Francisco\": 0, \"city\": \"San Diego\", \"day\": 5, \"month\": 1, \"year\": 2013, \"hour\": 16, \"day_of_week\": 5, \"pred\": 50.68589642065264}, {\"datetime\": \"2013-01-05T16:00:00\", \"temperature\": 38.0, \"city_Detroit\": 0, \"city_San Diego\": 0, \"city_San Francisco\": 1, \"city\": \"San Francisco\", \"day\": 5, \"month\": 1, \"year\": 2013, \"hour\": 16, \"day_of_week\": 5, \"pred\": 50.68589642065264}, {\"datetime\": \"2013-01-05T17:00:00\", \"temperature\": 42.8, \"city_Detroit\": 0, \"city_San Diego\": 0, \"city_San Francisco\": 1, \"city\": \"San Francisco\", \"day\": 5, \"month\": 1, \"year\": 2013, \"hour\": 17, \"day_of_week\": 5, \"pred\": 50.68589642065264}, {\"datetime\": \"2013-01-05T17:00:00\", \"temperature\": 56.3, \"city_Detroit\": 0, \"city_San Diego\": 1, \"city_San Francisco\": 0, \"city\": \"San Diego\", \"day\": 5, \"month\": 1, \"year\": 2013, \"hour\": 17, \"day_of_week\": 5, \"pred\": 50.68589642065264}, {\"datetime\": \"2013-01-05T17:00:00\", \"temperature\": 28.6, \"city_Detroit\": 1, \"city_San Diego\": 0, \"city_San Francisco\": 0, \"city\": \"Detroit\", \"day\": 5, \"month\": 1, \"year\": 2013, \"hour\": 17, \"day_of_week\": 5, \"pred\": 24.026604938271646}, {\"datetime\": \"2013-01-05T18:00:00\", \"temperature\": 61.2, \"city_Detroit\": 0, \"city_San Diego\": 1, \"city_San Francisco\": 0, \"city\": \"San Diego\", \"day\": 5, \"month\": 1, \"year\": 2013, \"hour\": 18, \"day_of_week\": 5, \"pred\": 61.70386178861797}, {\"datetime\": \"2013-01-05T18:00:00\", \"temperature\": 47.9, \"city_Detroit\": 0, \"city_San Diego\": 0, \"city_San Francisco\": 1, \"city\": \"San Francisco\", \"day\": 5, \"month\": 1, \"year\": 2013, \"hour\": 18, \"day_of_week\": 5, \"pred\": 61.70386178861797}, {\"datetime\": \"2013-01-05T18:00:00\", \"temperature\": 28.9, \"city_Detroit\": 1, \"city_San Diego\": 0, \"city_San Francisco\": 0, \"city\": \"Detroit\", \"day\": 5, \"month\": 1, \"year\": 2013, \"hour\": 18, \"day_of_week\": 5, \"pred\": 24.026604938271646}, {\"datetime\": \"2013-01-05T19:00:00\", \"temperature\": 51.6, \"city_Detroit\": 0, \"city_San Diego\": 0, \"city_San Francisco\": 1, \"city\": \"San Francisco\", \"day\": 5, \"month\": 1, \"year\": 2013, \"hour\": 19, \"day_of_week\": 5, \"pred\": 61.70386178861797}, {\"datetime\": \"2013-01-05T19:00:00\", \"temperature\": 29.6, \"city_Detroit\": 1, \"city_San Diego\": 0, \"city_San Francisco\": 0, \"city\": \"Detroit\", \"day\": 5, \"month\": 1, \"year\": 2013, \"hour\": 19, \"day_of_week\": 5, \"pred\": 24.026604938271646}, {\"datetime\": \"2013-01-05T19:00:00\", \"temperature\": 62.8, \"city_Detroit\": 0, \"city_San Diego\": 1, \"city_San Francisco\": 0, \"city\": \"San Diego\", \"day\": 5, \"month\": 1, \"year\": 2013, \"hour\": 19, \"day_of_week\": 5, \"pred\": 61.70386178861797}, {\"datetime\": \"2013-01-05T20:00:00\", \"temperature\": 63.4, \"city_Detroit\": 0, \"city_San Diego\": 1, \"city_San Francisco\": 0, \"city\": \"San Diego\", \"day\": 5, \"month\": 1, \"year\": 2013, \"hour\": 20, \"day_of_week\": 5, \"pred\": 61.70386178861797}, {\"datetime\": \"2013-01-05T20:00:00\", \"temperature\": 53.2, \"city_Detroit\": 0, \"city_San Diego\": 0, \"city_San Francisco\": 1, \"city\": \"San Francisco\", \"day\": 5, \"month\": 1, \"year\": 2013, \"hour\": 20, \"day_of_week\": 5, \"pred\": 61.70386178861797}, {\"datetime\": \"2013-01-05T20:00:00\", \"temperature\": 29.9, \"city_Detroit\": 1, \"city_San Diego\": 0, \"city_San Francisco\": 0, \"city\": \"Detroit\", \"day\": 5, \"month\": 1, \"year\": 2013, \"hour\": 20, \"day_of_week\": 5, \"pred\": 24.026604938271646}, {\"datetime\": \"2013-01-05T21:00:00\", \"temperature\": 29.4, \"city_Detroit\": 1, \"city_San Diego\": 0, \"city_San Francisco\": 0, \"city\": \"Detroit\", \"day\": 5, \"month\": 1, \"year\": 2013, \"hour\": 21, \"day_of_week\": 5, \"pred\": 24.026604938271646}, {\"datetime\": \"2013-01-05T21:00:00\", \"temperature\": 64.0, \"city_Detroit\": 0, \"city_San Diego\": 1, \"city_San Francisco\": 0, \"city\": \"San Diego\", \"day\": 5, \"month\": 1, \"year\": 2013, \"hour\": 21, \"day_of_week\": 5, \"pred\": 61.70386178861797}, {\"datetime\": \"2013-01-05T21:00:00\", \"temperature\": 54.3, \"city_Detroit\": 0, \"city_San Diego\": 0, \"city_San Francisco\": 1, \"city\": \"San Francisco\", \"day\": 5, \"month\": 1, \"year\": 2013, \"hour\": 21, \"day_of_week\": 5, \"pred\": 61.70386178861797}, {\"datetime\": \"2013-01-05T22:00:00\", \"temperature\": 28.9, \"city_Detroit\": 1, \"city_San Diego\": 0, \"city_San Francisco\": 0, \"city\": \"Detroit\", \"day\": 5, \"month\": 1, \"year\": 2013, \"hour\": 22, \"day_of_week\": 5, \"pred\": 24.026604938271646}, {\"datetime\": \"2013-01-05T22:00:00\", \"temperature\": 64.7, \"city_Detroit\": 0, \"city_San Diego\": 1, \"city_San Francisco\": 0, \"city\": \"San Diego\", \"day\": 5, \"month\": 1, \"year\": 2013, \"hour\": 22, \"day_of_week\": 5, \"pred\": 61.70386178861797}, {\"datetime\": \"2013-01-05T22:00:00\", \"temperature\": 54.9, \"city_Detroit\": 0, \"city_San Diego\": 0, \"city_San Francisco\": 1, \"city\": \"San Francisco\", \"day\": 5, \"month\": 1, \"year\": 2013, \"hour\": 22, \"day_of_week\": 5, \"pred\": 61.70386178861797}, {\"datetime\": \"2013-01-05T23:00:00\", \"temperature\": 62.5, \"city_Detroit\": 0, \"city_San Diego\": 1, \"city_San Francisco\": 0, \"city\": \"San Diego\", \"day\": 5, \"month\": 1, \"year\": 2013, \"hour\": 23, \"day_of_week\": 5, \"pred\": 61.70386178861797}, {\"datetime\": \"2013-01-05T23:00:00\", \"temperature\": 54.4, \"city_Detroit\": 0, \"city_San Diego\": 0, \"city_San Francisco\": 1, \"city\": \"San Francisco\", \"day\": 5, \"month\": 1, \"year\": 2013, \"hour\": 23, \"day_of_week\": 5, \"pred\": 61.70386178861797}, {\"datetime\": \"2013-01-05T23:00:00\", \"temperature\": 28.6, \"city_Detroit\": 1, \"city_San Diego\": 0, \"city_San Francisco\": 0, \"city\": \"Detroit\", \"day\": 5, \"month\": 1, \"year\": 2013, \"hour\": 23, \"day_of_week\": 5, \"pred\": 24.026604938271646}, {\"datetime\": \"2013-01-06T00:00:00\", \"temperature\": 59.5, \"city_Detroit\": 0, \"city_San Diego\": 1, \"city_San Francisco\": 0, \"city\": \"San Diego\", \"day\": 6, \"month\": 1, \"year\": 2013, \"hour\": 0, \"day_of_week\": 6, \"pred\": 59.03057095343687}, {\"datetime\": \"2013-01-06T00:00:00\", \"temperature\": 53.9, \"city_Detroit\": 0, \"city_San Diego\": 0, \"city_San Francisco\": 1, \"city\": \"San Francisco\", \"day\": 6, \"month\": 1, \"year\": 2013, \"hour\": 0, \"day_of_week\": 6, \"pred\": 59.03057095343687}, {\"datetime\": \"2013-01-06T00:00:00\", \"temperature\": 28.3, \"city_Detroit\": 1, \"city_San Diego\": 0, \"city_San Francisco\": 0, \"city\": \"Detroit\", \"day\": 6, \"month\": 1, \"year\": 2013, \"hour\": 0, \"day_of_week\": 6, \"pred\": 24.026604938271646}, {\"datetime\": \"2013-01-06T01:00:00\", \"temperature\": 27.3, \"city_Detroit\": 1, \"city_San Diego\": 0, \"city_San Francisco\": 0, \"city\": \"Detroit\", \"day\": 6, \"month\": 1, \"year\": 2013, \"hour\": 1, \"day_of_week\": 6, \"pred\": 24.026604938271646}, {\"datetime\": \"2013-01-06T01:00:00\", \"temperature\": 51.0, \"city_Detroit\": 0, \"city_San Diego\": 0, \"city_San Francisco\": 1, \"city\": \"San Francisco\", \"day\": 6, \"month\": 1, \"year\": 2013, \"hour\": 1, \"day_of_week\": 6, \"pred\": 59.03057095343687}, {\"datetime\": \"2013-01-06T01:00:00\", \"temperature\": 55.1, \"city_Detroit\": 0, \"city_San Diego\": 1, \"city_San Francisco\": 0, \"city\": \"San Diego\", \"day\": 6, \"month\": 1, \"year\": 2013, \"hour\": 1, \"day_of_week\": 6, \"pred\": 59.03057095343687}, {\"datetime\": \"2013-01-06T02:00:00\", \"temperature\": 48.5, \"city_Detroit\": 0, \"city_San Diego\": 0, \"city_San Francisco\": 1, \"city\": \"San Francisco\", \"day\": 6, \"month\": 1, \"year\": 2013, \"hour\": 2, \"day_of_week\": 6, \"pred\": 59.03057095343687}, {\"datetime\": \"2013-01-06T02:00:00\", \"temperature\": 26.8, \"city_Detroit\": 1, \"city_San Diego\": 0, \"city_San Francisco\": 0, \"city\": \"Detroit\", \"day\": 6, \"month\": 1, \"year\": 2013, \"hour\": 2, \"day_of_week\": 6, \"pred\": 24.026604938271646}, {\"datetime\": \"2013-01-06T02:00:00\", \"temperature\": 51.9, \"city_Detroit\": 0, \"city_San Diego\": 1, \"city_San Francisco\": 0, \"city\": \"San Diego\", \"day\": 6, \"month\": 1, \"year\": 2013, \"hour\": 2, \"day_of_week\": 6, \"pred\": 59.03057095343687}, {\"datetime\": \"2013-01-06T03:00:00\", \"temperature\": 46.4, \"city_Detroit\": 0, \"city_San Diego\": 0, \"city_San Francisco\": 1, \"city\": \"San Francisco\", \"day\": 6, \"month\": 1, \"year\": 2013, \"hour\": 3, \"day_of_week\": 6, \"pred\": 59.03057095343687}, {\"datetime\": \"2013-01-06T03:00:00\", \"temperature\": 48.7, \"city_Detroit\": 0, \"city_San Diego\": 1, \"city_San Francisco\": 0, \"city\": \"San Diego\", \"day\": 6, \"month\": 1, \"year\": 2013, \"hour\": 3, \"day_of_week\": 6, \"pred\": 59.03057095343687}, {\"datetime\": \"2013-01-06T03:00:00\", \"temperature\": 26.0, \"city_Detroit\": 1, \"city_San Diego\": 0, \"city_San Francisco\": 0, \"city\": \"Detroit\", \"day\": 6, \"month\": 1, \"year\": 2013, \"hour\": 3, \"day_of_week\": 6, \"pred\": 24.026604938271646}, {\"datetime\": \"2013-01-06T04:00:00\", \"temperature\": 45.2, \"city_Detroit\": 0, \"city_San Diego\": 0, \"city_San Francisco\": 1, \"city\": \"San Francisco\", \"day\": 6, \"month\": 1, \"year\": 2013, \"hour\": 4, \"day_of_week\": 6, \"pred\": 50.68589642065264}, {\"datetime\": \"2013-01-06T04:00:00\", \"temperature\": 47.6, \"city_Detroit\": 0, \"city_San Diego\": 1, \"city_San Francisco\": 0, \"city\": \"San Diego\", \"day\": 6, \"month\": 1, \"year\": 2013, \"hour\": 4, \"day_of_week\": 6, \"pred\": 50.68589642065264}, {\"datetime\": \"2013-01-06T04:00:00\", \"temperature\": 26.0, \"city_Detroit\": 1, \"city_San Diego\": 0, \"city_San Francisco\": 0, \"city\": \"Detroit\", \"day\": 6, \"month\": 1, \"year\": 2013, \"hour\": 4, \"day_of_week\": 6, \"pred\": 24.026604938271646}, {\"datetime\": \"2013-01-06T05:00:00\", \"temperature\": 43.4, \"city_Detroit\": 0, \"city_San Diego\": 0, \"city_San Francisco\": 1, \"city\": \"San Francisco\", \"day\": 6, \"month\": 1, \"year\": 2013, \"hour\": 5, \"day_of_week\": 6, \"pred\": 50.68589642065264}, {\"datetime\": \"2013-01-06T05:00:00\", \"temperature\": 45.6, \"city_Detroit\": 0, \"city_San Diego\": 1, \"city_San Francisco\": 0, \"city\": \"San Diego\", \"day\": 6, \"month\": 1, \"year\": 2013, \"hour\": 5, \"day_of_week\": 6, \"pred\": 50.68589642065264}, {\"datetime\": \"2013-01-06T05:00:00\", \"temperature\": 25.1, \"city_Detroit\": 1, \"city_San Diego\": 0, \"city_San Francisco\": 0, \"city\": \"Detroit\", \"day\": 6, \"month\": 1, \"year\": 2013, \"hour\": 5, \"day_of_week\": 6, \"pred\": 24.026604938271646}, {\"datetime\": \"2013-01-06T06:00:00\", \"temperature\": 24.8, \"city_Detroit\": 1, \"city_San Diego\": 0, \"city_San Francisco\": 0, \"city\": \"Detroit\", \"day\": 6, \"month\": 1, \"year\": 2013, \"hour\": 6, \"day_of_week\": 6, \"pred\": 24.026604938271646}, {\"datetime\": \"2013-01-06T06:00:00\", \"temperature\": 44.9, \"city_Detroit\": 0, \"city_San Diego\": 1, \"city_San Francisco\": 0, \"city\": \"San Diego\", \"day\": 6, \"month\": 1, \"year\": 2013, \"hour\": 6, \"day_of_week\": 6, \"pred\": 50.68589642065264}, {\"datetime\": \"2013-01-06T06:00:00\", \"temperature\": 42.5, \"city_Detroit\": 0, \"city_San Diego\": 0, \"city_San Francisco\": 1, \"city\": \"San Francisco\", \"day\": 6, \"month\": 1, \"year\": 2013, \"hour\": 6, \"day_of_week\": 6, \"pred\": 50.68589642065264}, {\"datetime\": \"2013-01-06T07:00:00\", \"temperature\": 43.7, \"city_Detroit\": 0, \"city_San Diego\": 1, \"city_San Francisco\": 0, \"city\": \"San Diego\", \"day\": 6, \"month\": 1, \"year\": 2013, \"hour\": 7, \"day_of_week\": 6, \"pred\": 50.68589642065264}, {\"datetime\": \"2013-01-06T07:00:00\", \"temperature\": 41.6, \"city_Detroit\": 0, \"city_San Diego\": 0, \"city_San Francisco\": 1, \"city\": \"San Francisco\", \"day\": 6, \"month\": 1, \"year\": 2013, \"hour\": 7, \"day_of_week\": 6, \"pred\": 50.68589642065264}, {\"datetime\": \"2013-01-06T07:00:00\", \"temperature\": 23.9, \"city_Detroit\": 1, \"city_San Diego\": 0, \"city_San Francisco\": 0, \"city\": \"Detroit\", \"day\": 6, \"month\": 1, \"year\": 2013, \"hour\": 7, \"day_of_week\": 6, \"pred\": 24.026604938271646}, {\"datetime\": \"2013-01-06T08:00:00\", \"temperature\": 40.0, \"city_Detroit\": 0, \"city_San Diego\": 0, \"city_San Francisco\": 1, \"city\": \"San Francisco\", \"day\": 6, \"month\": 1, \"year\": 2013, \"hour\": 8, \"day_of_week\": 6, \"pred\": 50.68589642065264}, {\"datetime\": \"2013-01-06T08:00:00\", \"temperature\": 23.4, \"city_Detroit\": 1, \"city_San Diego\": 0, \"city_San Francisco\": 0, \"city\": \"Detroit\", \"day\": 6, \"month\": 1, \"year\": 2013, \"hour\": 8, \"day_of_week\": 6, \"pred\": 24.026604938271646}, {\"datetime\": \"2013-01-06T08:00:00\", \"temperature\": 42.7, \"city_Detroit\": 0, \"city_San Diego\": 1, \"city_San Francisco\": 0, \"city\": \"San Diego\", \"day\": 6, \"month\": 1, \"year\": 2013, \"hour\": 8, \"day_of_week\": 6, \"pred\": 50.68589642065264}, {\"datetime\": \"2013-01-06T09:00:00\", \"temperature\": 23.1, \"city_Detroit\": 1, \"city_San Diego\": 0, \"city_San Francisco\": 0, \"city\": \"Detroit\", \"day\": 6, \"month\": 1, \"year\": 2013, \"hour\": 9, \"day_of_week\": 6, \"pred\": 24.026604938271646}, {\"datetime\": \"2013-01-06T09:00:00\", \"temperature\": 42.2, \"city_Detroit\": 0, \"city_San Diego\": 1, \"city_San Francisco\": 0, \"city\": \"San Diego\", \"day\": 6, \"month\": 1, \"year\": 2013, \"hour\": 9, \"day_of_week\": 6, \"pred\": 50.68589642065264}, {\"datetime\": \"2013-01-06T09:00:00\", \"temperature\": 39.4, \"city_Detroit\": 0, \"city_San Diego\": 0, \"city_San Francisco\": 1, \"city\": \"San Francisco\", \"day\": 6, \"month\": 1, \"year\": 2013, \"hour\": 9, \"day_of_week\": 6, \"pred\": 50.68589642065264}, {\"datetime\": \"2013-01-06T10:00:00\", \"temperature\": 22.1, \"city_Detroit\": 1, \"city_San Diego\": 0, \"city_San Francisco\": 0, \"city\": \"Detroit\", \"day\": 6, \"month\": 1, \"year\": 2013, \"hour\": 10, \"day_of_week\": 6, \"pred\": 24.026604938271646}, {\"datetime\": \"2013-01-06T10:00:00\", \"temperature\": 42.0, \"city_Detroit\": 0, \"city_San Diego\": 1, \"city_San Francisco\": 0, \"city\": \"San Diego\", \"day\": 6, \"month\": 1, \"year\": 2013, \"hour\": 10, \"day_of_week\": 6, \"pred\": 50.68589642065264}, {\"datetime\": \"2013-01-06T10:00:00\", \"temperature\": 38.9, \"city_Detroit\": 0, \"city_San Diego\": 0, \"city_San Francisco\": 1, \"city\": \"San Francisco\", \"day\": 6, \"month\": 1, \"year\": 2013, \"hour\": 10, \"day_of_week\": 6, \"pred\": 50.68589642065264}, {\"datetime\": \"2013-01-06T11:00:00\", \"temperature\": 20.8, \"city_Detroit\": 1, \"city_San Diego\": 0, \"city_San Francisco\": 0, \"city\": \"Detroit\", \"day\": 6, \"month\": 1, \"year\": 2013, \"hour\": 11, \"day_of_week\": 6, \"pred\": 24.026604938271646}, {\"datetime\": \"2013-01-06T11:00:00\", \"temperature\": 42.5, \"city_Detroit\": 0, \"city_San Diego\": 1, \"city_San Francisco\": 0, \"city\": \"San Diego\", \"day\": 6, \"month\": 1, \"year\": 2013, \"hour\": 11, \"day_of_week\": 6, \"pred\": 50.68589642065264}, {\"datetime\": \"2013-01-06T11:00:00\", \"temperature\": 40.2, \"city_Detroit\": 0, \"city_San Diego\": 0, \"city_San Francisco\": 1, \"city\": \"San Francisco\", \"day\": 6, \"month\": 1, \"year\": 2013, \"hour\": 11, \"day_of_week\": 6, \"pred\": 50.68589642065264}, {\"datetime\": \"2013-01-06T12:00:00\", \"temperature\": 39.5, \"city_Detroit\": 0, \"city_San Diego\": 0, \"city_San Francisco\": 1, \"city\": \"San Francisco\", \"day\": 6, \"month\": 1, \"year\": 2013, \"hour\": 12, \"day_of_week\": 6, \"pred\": 50.68589642065264}, {\"datetime\": \"2013-01-06T12:00:00\", \"temperature\": 40.7, \"city_Detroit\": 0, \"city_San Diego\": 1, \"city_San Francisco\": 0, \"city\": \"San Diego\", \"day\": 6, \"month\": 1, \"year\": 2013, \"hour\": 12, \"day_of_week\": 6, \"pred\": 50.68589642065264}, {\"datetime\": \"2013-01-06T12:00:00\", \"temperature\": 20.4, \"city_Detroit\": 1, \"city_San Diego\": 0, \"city_San Francisco\": 0, \"city\": \"Detroit\", \"day\": 6, \"month\": 1, \"year\": 2013, \"hour\": 12, \"day_of_week\": 6, \"pred\": 24.026604938271646}, {\"datetime\": \"2013-01-06T13:00:00\", \"temperature\": 39.6, \"city_Detroit\": 0, \"city_San Diego\": 0, \"city_San Francisco\": 1, \"city\": \"San Francisco\", \"day\": 6, \"month\": 1, \"year\": 2013, \"hour\": 13, \"day_of_week\": 6, \"pred\": 50.68589642065264}, {\"datetime\": \"2013-01-06T13:00:00\", \"temperature\": 20.0, \"city_Detroit\": 1, \"city_San Diego\": 0, \"city_San Francisco\": 0, \"city\": \"Detroit\", \"day\": 6, \"month\": 1, \"year\": 2013, \"hour\": 13, \"day_of_week\": 6, \"pred\": 24.026604938271646}, {\"datetime\": \"2013-01-06T13:00:00\", \"temperature\": 40.9, \"city_Detroit\": 0, \"city_San Diego\": 1, \"city_San Francisco\": 0, \"city\": \"San Diego\", \"day\": 6, \"month\": 1, \"year\": 2013, \"hour\": 13, \"day_of_week\": 6, \"pred\": 50.68589642065264}, {\"datetime\": \"2013-01-06T14:00:00\", \"temperature\": 40.4, \"city_Detroit\": 0, \"city_San Diego\": 0, \"city_San Francisco\": 1, \"city\": \"San Francisco\", \"day\": 6, \"month\": 1, \"year\": 2013, \"hour\": 14, \"day_of_week\": 6, \"pred\": 50.68589642065264}, {\"datetime\": \"2013-01-06T14:00:00\", \"temperature\": 21.3, \"city_Detroit\": 1, \"city_San Diego\": 0, \"city_San Francisco\": 0, \"city\": \"Detroit\", \"day\": 6, \"month\": 1, \"year\": 2013, \"hour\": 14, \"day_of_week\": 6, \"pred\": 24.026604938271646}, {\"datetime\": \"2013-01-06T14:00:00\", \"temperature\": 40.1, \"city_Detroit\": 0, \"city_San Diego\": 1, \"city_San Francisco\": 0, \"city\": \"San Diego\", \"day\": 6, \"month\": 1, \"year\": 2013, \"hour\": 14, \"day_of_week\": 6, \"pred\": 50.68589642065264}, {\"datetime\": \"2013-01-06T15:00:00\", \"temperature\": 22.7, \"city_Detroit\": 1, \"city_San Diego\": 0, \"city_San Francisco\": 0, \"city\": \"Detroit\", \"day\": 6, \"month\": 1, \"year\": 2013, \"hour\": 15, \"day_of_week\": 6, \"pred\": 24.026604938271646}, {\"datetime\": \"2013-01-06T15:00:00\", \"temperature\": 41.5, \"city_Detroit\": 0, \"city_San Diego\": 1, \"city_San Francisco\": 0, \"city\": \"San Diego\", \"day\": 6, \"month\": 1, \"year\": 2013, \"hour\": 15, \"day_of_week\": 6, \"pred\": 50.68589642065264}, {\"datetime\": \"2013-01-06T15:00:00\", \"temperature\": 41.4, \"city_Detroit\": 0, \"city_San Diego\": 0, \"city_San Francisco\": 1, \"city\": \"San Francisco\", \"day\": 6, \"month\": 1, \"year\": 2013, \"hour\": 15, \"day_of_week\": 6, \"pred\": 50.68589642065264}, {\"datetime\": \"2013-01-06T16:00:00\", \"temperature\": 46.8, \"city_Detroit\": 0, \"city_San Diego\": 1, \"city_San Francisco\": 0, \"city\": \"San Diego\", \"day\": 6, \"month\": 1, \"year\": 2013, \"hour\": 16, \"day_of_week\": 6, \"pred\": 50.68589642065264}, {\"datetime\": \"2013-01-06T16:00:00\", \"temperature\": 27.2, \"city_Detroit\": 1, \"city_San Diego\": 0, \"city_San Francisco\": 0, \"city\": \"Detroit\", \"day\": 6, \"month\": 1, \"year\": 2013, \"hour\": 16, \"day_of_week\": 6, \"pred\": 24.026604938271646}, {\"datetime\": \"2013-01-06T16:00:00\", \"temperature\": 42.6, \"city_Detroit\": 0, \"city_San Diego\": 0, \"city_San Francisco\": 1, \"city\": \"San Francisco\", \"day\": 6, \"month\": 1, \"year\": 2013, \"hour\": 16, \"day_of_week\": 6, \"pred\": 50.68589642065264}, {\"datetime\": \"2013-01-06T17:00:00\", \"temperature\": 54.3, \"city_Detroit\": 0, \"city_San Diego\": 1, \"city_San Francisco\": 0, \"city\": \"San Diego\", \"day\": 6, \"month\": 1, \"year\": 2013, \"hour\": 17, \"day_of_week\": 6, \"pred\": 50.68589642065264}, {\"datetime\": \"2013-01-06T17:00:00\", \"temperature\": 29.3, \"city_Detroit\": 1, \"city_San Diego\": 0, \"city_San Francisco\": 0, \"city\": \"Detroit\", \"day\": 6, \"month\": 1, \"year\": 2013, \"hour\": 17, \"day_of_week\": 6, \"pred\": 24.026604938271646}, {\"datetime\": \"2013-01-06T17:00:00\", \"temperature\": 44.5, \"city_Detroit\": 0, \"city_San Diego\": 0, \"city_San Francisco\": 1, \"city\": \"San Francisco\", \"day\": 6, \"month\": 1, \"year\": 2013, \"hour\": 17, \"day_of_week\": 6, \"pred\": 50.68589642065264}, {\"datetime\": \"2013-01-06T18:00:00\", \"temperature\": 58.2, \"city_Detroit\": 0, \"city_San Diego\": 1, \"city_San Francisco\": 0, \"city\": \"San Diego\", \"day\": 6, \"month\": 1, \"year\": 2013, \"hour\": 18, \"day_of_week\": 6, \"pred\": 61.70386178861797}]}}, {\"mode\": \"vega-lite\"});\n",
       "</script>"
      ],
      "text/plain": [
       "alt.Chart(...)"
      ]
     },
     "execution_count": 36,
     "metadata": {},
     "output_type": "execute_result"
    }
   ],
   "source": [
    "alt.Chart(df[6400:7000]).mark_line().encode(\n",
    "    x=\"datetime\",\n",
    "    y=\"pred\",\n",
    "    color=\"city\",\n",
    "    tooltip=[\"city\", \"temperature\", \"pred\", \"datetime\", \"hour\"]\n",
    ").properties(\n",
    "    width=600\n",
    ")"
   ]
  },
  {
   "cell_type": "markdown",
   "metadata": {
    "cell_id": "604ff2136fbd493c857c5852037db538",
    "deepnote_cell_type": "markdown"
   },
   "source": [
    "* Can you see where the predicted values come from, using the following diagram?\n",
    "\n",
    "(We will need to change `clf` to something else.)\n",
    "\n",
    "```\n",
    "import matplotlib.pyplot as plt\n",
    "from sklearn.tree import plot_tree\n",
    "\n",
    "fig = plt.figure(figsize=(20,10))\n",
    "_ = plot_tree(clf, \n",
    "                   feature_names=clf.feature_names_in_,\n",
    "                   filled=False)\n",
    "```\n",
    "\n",
    "Using the Altair tooltip, I focused on a point for San Francisco on January 1st at 7am.  Following the diagram, we wind up near the lower-left portion of the diagram, with value `50.686`.  This is indeed the predicted temperature for the point we were looking at.  For the particular point I was looking at, the true temperature was `42.3`."
   ]
  },
  {
   "cell_type": "code",
   "execution_count": 37,
   "metadata": {
    "cell_id": "f74caa544a9f463dacdca39ebfadac3b",
    "deepnote_cell_type": "code",
    "deepnote_to_be_reexecuted": false,
    "execution_millis": 1633,
    "execution_start": 1685565303490,
    "source_hash": "9e3f755f"
   },
   "outputs": [
    {
     "data": {
      "image/png": "[encoded data removed]",
      "text/plain": [
       "<Figure size 2000x1000 with 1 Axes>"
      ]
     },
     "metadata": {
      "image/png": {
       "height": 790,
       "width": 1570
      }
     },
     "output_type": "display_data"
    }
   ],
   "source": [
    "import matplotlib.pyplot as plt\n",
    "from sklearn.tree import plot_tree\n",
    "\n",
    "fig = plt.figure(figsize=(20,10))\n",
    "_ = plot_tree(reg, \n",
    "                   feature_names=reg.feature_names_in_,\n",
    "                   filled=False)"
   ]
  },
  {
   "cell_type": "markdown",
   "metadata": {
    "cell_id": "d9ccdaf68d7a4f51a4af6de72cf868d9",
    "deepnote_cell_type": "markdown"
   },
   "source": [
    "* How does the Altair chart change if you use a max depth of `14` instead of a max leaf nodes of `16`?  (Don't try to make the tree diagram in this case.)\n",
    "\n",
    "This might sound similar, but it is extremely different."
   ]
  },
  {
   "cell_type": "code",
   "execution_count": 38,
   "metadata": {
    "cell_id": "46a87a1bf831449a89a5bf7ec1460464",
    "deepnote_cell_type": "code",
    "deepnote_to_be_reexecuted": false,
    "execution_millis": 5,
    "execution_start": 1685565624965,
    "source_hash": "fd870cd0"
   },
   "outputs": [],
   "source": [
    "reg = DecisionTreeRegressor(max_depth=14)"
   ]
  },
  {
   "cell_type": "code",
   "execution_count": 39,
   "metadata": {
    "cell_id": "d0a2cb2fd0b74671a7278cd342b7f0fe",
    "deepnote_cell_type": "code",
    "deepnote_to_be_reexecuted": false,
    "execution_millis": 204,
    "execution_start": 1685565632842,
    "source_hash": "fabcd3ff"
   },
   "outputs": [
    {
     "data": {
      "text/plain": [
       "DecisionTreeRegressor(max_depth=14)"
      ]
     },
     "execution_count": 39,
     "metadata": {},
     "output_type": "execute_result"
    }
   ],
   "source": [
    "reg.fit(df[cols], df[\"temperature\"])"
   ]
  },
  {
   "cell_type": "code",
   "execution_count": 40,
   "metadata": {
    "cell_id": "48dbc2ef1c6b48d489e7d1acf46ffd2f",
    "deepnote_cell_type": "code",
    "deepnote_to_be_reexecuted": false,
    "execution_millis": 19,
    "execution_start": 1685565652153,
    "source_hash": "c7714f67"
   },
   "outputs": [],
   "source": [
    "df[\"pred\"] = reg.predict(df[cols])"
   ]
  },
  {
   "cell_type": "markdown",
   "metadata": {},
   "source": [
    "Here is the chart.  Recall how above the same predictions were made for San Diego and San Francisco (at least in the part of the chart we are plotting).  Here there are many different values plotted."
   ]
  },
  {
   "cell_type": "code",
   "execution_count": 45,
   "metadata": {
    "cell_id": "d65c7ee7afcd4a948f5120a6db258b37",
    "deepnote_cell_type": "code",
    "deepnote_to_be_reexecuted": false,
    "execution_millis": 74,
    "execution_start": 1685565833715,
    "source_hash": "cf669107"
   },
   "outputs": [
    {
     "data": {
      "text/html": [
       "\n",
       "<div id=\"altair-viz-412902ea09e044c18236b7f1b3fc990c\"></div>\n",
       "<script type=\"text/javascript\">\n",
       "  var VEGA_DEBUG = (typeof VEGA_DEBUG == \"undefined\") ? {} : VEGA_DEBUG;\n",
       "  (function(spec, embedOpt){\n",
       "    let outputDiv = document.currentScript.previousElementSibling;\n",
       "    if (outputDiv.id !== \"altair-viz-412902ea09e044c18236b7f1b3fc990c\") {\n",
       "      outputDiv = document.getElementById(\"altair-viz-412902ea09e044c18236b7f1b3fc990c\");\n",
       "    }\n",
       "    const paths = {\n",
       "      \"vega\": \"https://cdn.jsdelivr.net/npm//vega@5?noext\",\n",
       "      \"vega-lib\": \"https://cdn.jsdelivr.net/npm//vega-lib?noext\",\n",
       "      \"vega-lite\": \"https://cdn.jsdelivr.net/npm//vega-lite@4.17.0?noext\",\n",
       "      \"vega-embed\": \"https://cdn.jsdelivr.net/npm//vega-embed@6?noext\",\n",
       "    };\n",
       "\n",
       "    function maybeLoadScript(lib, version) {\n",
       "      var key = `${lib.replace(\"-\", \"\")}_version`;\n",
       "      return (VEGA_DEBUG[key] == version) ?\n",
       "        Promise.resolve(paths[lib]) :\n",
       "        new Promise(function(resolve, reject) {\n",
       "          var s = document.createElement('script');\n",
       "          document.getElementsByTagName(\"head\")[0].appendChild(s);\n",
       "          s.async = true;\n",
       "          s.onload = () => {\n",
       "            VEGA_DEBUG[key] = version;\n",
       "            return resolve(paths[lib]);\n",
       "          };\n",
       "          s.onerror = () => reject(`Error loading script: ${paths[lib]}`);\n",
       "          s.src = paths[lib];\n",
       "        });\n",
       "    }\n",
       "\n",
       "    function showError(err) {\n",
       "      outputDiv.innerHTML = `<div class=\"error\" style=\"color:red;\">${err}</div>`;\n",
       "      throw err;\n",
       "    }\n",
       "\n",
       "    function displayChart(vegaEmbed) {\n",
       "      vegaEmbed(outputDiv, spec, embedOpt)\n",
       "        .catch(err => showError(`Javascript Error: ${err.message}<br>This usually means there's a typo in your chart specification. See the javascript console for the full traceback.`));\n",
       "    }\n",
       "\n",
       "    if(typeof define === \"function\" && define.amd) {\n",
       "      requirejs.config({paths});\n",
       "      require([\"vega-embed\"], displayChart, err => showError(`Error loading script: ${err.message}`));\n",
       "    } else {\n",
       "      maybeLoadScript(\"vega\", \"5\")\n",
       "        .then(() => maybeLoadScript(\"vega-lite\", \"4.17.0\"))\n",
       "        .then(() => maybeLoadScript(\"vega-embed\", \"6\"))\n",
       "        .catch(showError)\n",
       "        .then(() => displayChart(vegaEmbed));\n",
       "    }\n",
       "  })({\"config\": {\"view\": {\"continuousWidth\": 400, \"continuousHeight\": 300}}, \"data\": {\"name\": \"data-514d83a8a054bf0ca337dbdb8f4e196a\"}, \"mark\": \"line\", \"encoding\": {\"color\": {\"field\": \"city\", \"type\": \"nominal\"}, \"tooltip\": [{\"field\": \"city\", \"type\": \"nominal\"}, {\"field\": \"temperature\", \"type\": \"quantitative\"}, {\"field\": \"pred\", \"type\": \"quantitative\"}, {\"field\": \"datetime\", \"type\": \"temporal\"}, {\"field\": \"hour\", \"type\": \"quantitative\"}], \"x\": {\"field\": \"datetime\", \"type\": \"temporal\"}, \"y\": {\"field\": \"pred\", \"type\": \"quantitative\"}}, \"width\": 600, \"$schema\": \"https://vega.github.io/schema/vega-lite/v4.17.0.json\", \"datasets\": {\"data-514d83a8a054bf0ca337dbdb8f4e196a\": [{\"datetime\": \"2012-12-29T10:00:00\", \"temperature\": 16.5, \"city_Detroit\": 1, \"city_San Diego\": 0, \"city_San Francisco\": 0, \"city\": \"Detroit\", \"day\": 29, \"month\": 12, \"year\": 2012, \"hour\": 10, \"day_of_week\": 5, \"pred\": 18.325}, {\"datetime\": \"2012-12-29T10:00:00\", \"temperature\": 43.8, \"city_Detroit\": 0, \"city_San Diego\": 1, \"city_San Francisco\": 0, \"city\": \"San Diego\", \"day\": 29, \"month\": 12, \"year\": 2012, \"hour\": 10, \"day_of_week\": 5, \"pred\": 43.91428571428571}, {\"datetime\": \"2012-12-29T11:00:00\", \"temperature\": 43.0, \"city_Detroit\": 0, \"city_San Diego\": 1, \"city_San Francisco\": 0, \"city\": \"San Diego\", \"day\": 29, \"month\": 12, \"year\": 2012, \"hour\": 11, \"day_of_week\": 5, \"pred\": 43.91428571428571}, {\"datetime\": \"2012-12-29T11:00:00\", \"temperature\": 19.7, \"city_Detroit\": 1, \"city_San Diego\": 0, \"city_San Francisco\": 0, \"city\": \"Detroit\", \"day\": 29, \"month\": 12, \"year\": 2012, \"hour\": 11, \"day_of_week\": 5, \"pred\": 18.325}, {\"datetime\": \"2012-12-29T11:00:00\", \"temperature\": 39.9, \"city_Detroit\": 0, \"city_San Diego\": 0, \"city_San Francisco\": 1, \"city\": \"San Francisco\", \"day\": 29, \"month\": 12, \"year\": 2012, \"hour\": 11, \"day_of_week\": 5, \"pred\": 39.24444444444444}, {\"datetime\": \"2012-12-29T12:00:00\", \"temperature\": 41.2, \"city_Detroit\": 0, \"city_San Diego\": 1, \"city_San Francisco\": 0, \"city\": \"San Diego\", \"day\": 29, \"month\": 12, \"year\": 2012, \"hour\": 12, \"day_of_week\": 5, \"pred\": 43.91428571428571}, {\"datetime\": \"2012-12-29T12:00:00\", \"temperature\": 18.5, \"city_Detroit\": 1, \"city_San Diego\": 0, \"city_San Francisco\": 0, \"city\": \"Detroit\", \"day\": 29, \"month\": 12, \"year\": 2012, \"hour\": 12, \"day_of_week\": 5, \"pred\": 18.325}, {\"datetime\": \"2012-12-29T12:00:00\", \"temperature\": 38.0, \"city_Detroit\": 0, \"city_San Diego\": 0, \"city_San Francisco\": 1, \"city\": \"San Francisco\", \"day\": 29, \"month\": 12, \"year\": 2012, \"hour\": 12, \"day_of_week\": 5, \"pred\": 39.24444444444444}, {\"datetime\": \"2012-12-29T13:00:00\", \"temperature\": 38.8, \"city_Detroit\": 0, \"city_San Diego\": 0, \"city_San Francisco\": 1, \"city\": \"San Francisco\", \"day\": 29, \"month\": 12, \"year\": 2012, \"hour\": 13, \"day_of_week\": 5, \"pred\": 39.24444444444444}, {\"datetime\": \"2012-12-29T13:00:00\", \"temperature\": 41.7, \"city_Detroit\": 0, \"city_San Diego\": 1, \"city_San Francisco\": 0, \"city\": \"San Diego\", \"day\": 29, \"month\": 12, \"year\": 2012, \"hour\": 13, \"day_of_week\": 5, \"pred\": 43.91428571428571}, {\"datetime\": \"2012-12-29T13:00:00\", \"temperature\": 17.4, \"city_Detroit\": 1, \"city_San Diego\": 0, \"city_San Francisco\": 0, \"city\": \"Detroit\", \"day\": 29, \"month\": 12, \"year\": 2012, \"hour\": 13, \"day_of_week\": 5, \"pred\": 18.325}, {\"datetime\": \"2012-12-29T14:00:00\", \"temperature\": 37.4, \"city_Detroit\": 0, \"city_San Diego\": 0, \"city_San Francisco\": 1, \"city\": \"San Francisco\", \"day\": 29, \"month\": 12, \"year\": 2012, \"hour\": 14, \"day_of_week\": 5, \"pred\": 39.24444444444444}, {\"datetime\": \"2012-12-29T14:00:00\", \"temperature\": 19.0, \"city_Detroit\": 1, \"city_San Diego\": 0, \"city_San Francisco\": 0, \"city\": \"Detroit\", \"day\": 29, \"month\": 12, \"year\": 2012, \"hour\": 14, \"day_of_week\": 5, \"pred\": 18.325}, {\"datetime\": \"2012-12-29T14:00:00\", \"temperature\": 40.6, \"city_Detroit\": 0, \"city_San Diego\": 1, \"city_San Francisco\": 0, \"city\": \"San Diego\", \"day\": 29, \"month\": 12, \"year\": 2012, \"hour\": 14, \"day_of_week\": 5, \"pred\": 43.91428571428571}, {\"datetime\": \"2012-12-29T15:00:00\", \"temperature\": 41.6, \"city_Detroit\": 0, \"city_San Diego\": 1, \"city_San Francisco\": 0, \"city\": \"San Diego\", \"day\": 29, \"month\": 12, \"year\": 2012, \"hour\": 15, \"day_of_week\": 5, \"pred\": 43.91428571428571}, {\"datetime\": \"2012-12-29T15:00:00\", \"temperature\": 21.6, \"city_Detroit\": 1, \"city_San Diego\": 0, \"city_San Francisco\": 0, \"city\": \"Detroit\", \"day\": 29, \"month\": 12, \"year\": 2012, \"hour\": 15, \"day_of_week\": 5, \"pred\": 21.6}, {\"datetime\": \"2012-12-29T15:00:00\", \"temperature\": 37.6, \"city_Detroit\": 0, \"city_San Diego\": 0, \"city_San Francisco\": 1, \"city\": \"San Francisco\", \"day\": 29, \"month\": 12, \"year\": 2012, \"hour\": 15, \"day_of_week\": 5, \"pred\": 39.24444444444444}, {\"datetime\": \"2012-12-29T16:00:00\", \"temperature\": 46.9, \"city_Detroit\": 0, \"city_San Diego\": 1, \"city_San Francisco\": 0, \"city\": \"San Diego\", \"day\": 29, \"month\": 12, \"year\": 2012, \"hour\": 16, \"day_of_week\": 5, \"pred\": 47.63333333333333}, {\"datetime\": \"2012-12-29T16:00:00\", \"temperature\": 39.3, \"city_Detroit\": 0, \"city_San Diego\": 0, \"city_San Francisco\": 1, \"city\": \"San Francisco\", \"day\": 29, \"month\": 12, \"year\": 2012, \"hour\": 16, \"day_of_week\": 5, \"pred\": 39.24444444444444}, {\"datetime\": \"2012-12-29T16:00:00\", \"temperature\": 24.5, \"city_Detroit\": 1, \"city_San Diego\": 0, \"city_San Francisco\": 0, \"city\": \"Detroit\", \"day\": 29, \"month\": 12, \"year\": 2012, \"hour\": 16, \"day_of_week\": 5, \"pred\": 24.5}, {\"datetime\": \"2012-12-29T17:00:00\", \"temperature\": 26.3, \"city_Detroit\": 1, \"city_San Diego\": 0, \"city_San Francisco\": 0, \"city\": \"Detroit\", \"day\": 29, \"month\": 12, \"year\": 2012, \"hour\": 17, \"day_of_week\": 5, \"pred\": 26.3}, {\"datetime\": \"2012-12-29T17:00:00\", \"temperature\": 40.7, \"city_Detroit\": 0, \"city_San Diego\": 0, \"city_San Francisco\": 1, \"city\": \"San Francisco\", \"day\": 29, \"month\": 12, \"year\": 2012, \"hour\": 17, \"day_of_week\": 5, \"pred\": 39.24444444444444}, {\"datetime\": \"2012-12-29T17:00:00\", \"temperature\": 53.0, \"city_Detroit\": 0, \"city_San Diego\": 1, \"city_San Francisco\": 0, \"city\": \"San Diego\", \"day\": 29, \"month\": 12, \"year\": 2012, \"hour\": 17, \"day_of_week\": 5, \"pred\": 53.0}, {\"datetime\": \"2012-12-29T18:00:00\", \"temperature\": 57.5, \"city_Detroit\": 0, \"city_San Diego\": 1, \"city_San Francisco\": 0, \"city\": \"San Diego\", \"day\": 29, \"month\": 12, \"year\": 2012, \"hour\": 18, \"day_of_week\": 5, \"pred\": 57.5}, {\"datetime\": \"2012-12-29T18:00:00\", \"temperature\": 27.9, \"city_Detroit\": 1, \"city_San Diego\": 0, \"city_San Francisco\": 0, \"city\": \"Detroit\", \"day\": 29, \"month\": 12, \"year\": 2012, \"hour\": 18, \"day_of_week\": 5, \"pred\": 27.9}, {\"datetime\": \"2012-12-29T18:00:00\", \"temperature\": 43.1, \"city_Detroit\": 0, \"city_San Diego\": 0, \"city_San Francisco\": 1, \"city\": \"San Francisco\", \"day\": 29, \"month\": 12, \"year\": 2012, \"hour\": 18, \"day_of_week\": 5, \"pred\": 43.1}, {\"datetime\": \"2012-12-29T19:00:00\", \"temperature\": 28.8, \"city_Detroit\": 1, \"city_San Diego\": 0, \"city_San Francisco\": 0, \"city\": \"Detroit\", \"day\": 29, \"month\": 12, \"year\": 2012, \"hour\": 19, \"day_of_week\": 5, \"pred\": 28.920000000000005}, {\"datetime\": \"2012-12-29T19:00:00\", \"temperature\": 59.6, \"city_Detroit\": 0, \"city_San Diego\": 1, \"city_San Francisco\": 0, \"city\": \"San Diego\", \"day\": 29, \"month\": 12, \"year\": 2012, \"hour\": 19, \"day_of_week\": 5, \"pred\": 59.79600000000001}, {\"datetime\": \"2012-12-29T19:00:00\", \"temperature\": 44.0, \"city_Detroit\": 0, \"city_San Diego\": 0, \"city_San Francisco\": 1, \"city\": \"San Francisco\", \"day\": 29, \"month\": 12, \"year\": 2012, \"hour\": 19, \"day_of_week\": 5, \"pred\": 44.0}, {\"datetime\": \"2012-12-29T20:00:00\", \"temperature\": 61.8, \"city_Detroit\": 0, \"city_San Diego\": 1, \"city_San Francisco\": 0, \"city\": \"San Diego\", \"day\": 29, \"month\": 12, \"year\": 2012, \"hour\": 20, \"day_of_week\": 5, \"pred\": 59.79600000000001}, {\"datetime\": \"2012-12-29T20:00:00\", \"temperature\": 45.2, \"city_Detroit\": 0, \"city_San Diego\": 0, \"city_San Francisco\": 1, \"city\": \"San Francisco\", \"day\": 29, \"month\": 12, \"year\": 2012, \"hour\": 20, \"day_of_week\": 5, \"pred\": 45.7}, {\"datetime\": \"2012-12-29T20:00:00\", \"temperature\": 28.8, \"city_Detroit\": 1, \"city_San Diego\": 0, \"city_San Francisco\": 0, \"city\": \"Detroit\", \"day\": 29, \"month\": 12, \"year\": 2012, \"hour\": 20, \"day_of_week\": 5, \"pred\": 28.920000000000005}, {\"datetime\": \"2012-12-29T21:00:00\", \"temperature\": 46.2, \"city_Detroit\": 0, \"city_San Diego\": 0, \"city_San Francisco\": 1, \"city\": \"San Francisco\", \"day\": 29, \"month\": 12, \"year\": 2012, \"hour\": 21, \"day_of_week\": 5, \"pred\": 45.7}, {\"datetime\": \"2012-12-29T21:00:00\", \"temperature\": 62.5, \"city_Detroit\": 0, \"city_San Diego\": 1, \"city_San Francisco\": 0, \"city\": \"San Diego\", \"day\": 29, \"month\": 12, \"year\": 2012, \"hour\": 21, \"day_of_week\": 5, \"pred\": 59.79600000000001}, {\"datetime\": \"2012-12-29T21:00:00\", \"temperature\": 29.9, \"city_Detroit\": 1, \"city_San Diego\": 0, \"city_San Francisco\": 0, \"city\": \"Detroit\", \"day\": 29, \"month\": 12, \"year\": 2012, \"hour\": 21, \"day_of_week\": 5, \"pred\": 28.920000000000005}, {\"datetime\": \"2012-12-29T22:00:00\", \"temperature\": 62.5, \"city_Detroit\": 0, \"city_San Diego\": 1, \"city_San Francisco\": 0, \"city\": \"San Diego\", \"day\": 29, \"month\": 12, \"year\": 2012, \"hour\": 22, \"day_of_week\": 5, \"pred\": 59.79600000000001}, {\"datetime\": \"2012-12-29T22:00:00\", \"temperature\": 29.0, \"city_Detroit\": 1, \"city_San Diego\": 0, \"city_San Francisco\": 0, \"city\": \"Detroit\", \"day\": 29, \"month\": 12, \"year\": 2012, \"hour\": 22, \"day_of_week\": 5, \"pred\": 28.920000000000005}, {\"datetime\": \"2012-12-29T22:00:00\", \"temperature\": 47.3, \"city_Detroit\": 0, \"city_San Diego\": 0, \"city_San Francisco\": 1, \"city\": \"San Francisco\", \"day\": 29, \"month\": 12, \"year\": 2012, \"hour\": 22, \"day_of_week\": 5, \"pred\": 47.45}, {\"datetime\": \"2012-12-29T23:00:00\", \"temperature\": 61.4, \"city_Detroit\": 0, \"city_San Diego\": 1, \"city_San Francisco\": 0, \"city\": \"San Diego\", \"day\": 29, \"month\": 12, \"year\": 2012, \"hour\": 23, \"day_of_week\": 5, \"pred\": 59.79600000000001}, {\"datetime\": \"2012-12-29T23:00:00\", \"temperature\": 28.1, \"city_Detroit\": 1, \"city_San Diego\": 0, \"city_San Francisco\": 0, \"city\": \"Detroit\", \"day\": 29, \"month\": 12, \"year\": 2012, \"hour\": 23, \"day_of_week\": 5, \"pred\": 28.920000000000005}, {\"datetime\": \"2012-12-29T23:00:00\", \"temperature\": 47.6, \"city_Detroit\": 0, \"city_San Diego\": 0, \"city_San Francisco\": 1, \"city\": \"San Francisco\", \"day\": 29, \"month\": 12, \"year\": 2012, \"hour\": 23, \"day_of_week\": 5, \"pred\": 47.45}, {\"datetime\": \"2012-12-30T00:00:00\", \"temperature\": 58.2, \"city_Detroit\": 0, \"city_San Diego\": 1, \"city_San Francisco\": 0, \"city\": \"San Diego\", \"day\": 30, \"month\": 12, \"year\": 2012, \"hour\": 0, \"day_of_week\": 6, \"pred\": 56.2}, {\"datetime\": \"2012-12-30T00:00:00\", \"temperature\": 27.1, \"city_Detroit\": 1, \"city_San Diego\": 0, \"city_San Francisco\": 0, \"city\": \"Detroit\", \"day\": 30, \"month\": 12, \"year\": 2012, \"hour\": 0, \"day_of_week\": 6, \"pred\": 26.860000000000003}, {\"datetime\": \"2012-12-30T00:00:00\", \"temperature\": 47.8, \"city_Detroit\": 0, \"city_San Diego\": 0, \"city_San Francisco\": 1, \"city\": \"San Francisco\", \"day\": 30, \"month\": 12, \"year\": 2012, \"hour\": 0, \"day_of_week\": 6, \"pred\": 47.05}, {\"datetime\": \"2012-12-30T01:00:00\", \"temperature\": 46.3, \"city_Detroit\": 0, \"city_San Diego\": 0, \"city_San Francisco\": 1, \"city\": \"San Francisco\", \"day\": 30, \"month\": 12, \"year\": 2012, \"hour\": 1, \"day_of_week\": 6, \"pred\": 47.05}, {\"datetime\": \"2012-12-30T01:00:00\", \"temperature\": 54.6, \"city_Detroit\": 0, \"city_San Diego\": 1, \"city_San Francisco\": 0, \"city\": \"San Diego\", \"day\": 30, \"month\": 12, \"year\": 2012, \"hour\": 1, \"day_of_week\": 6, \"pred\": 56.2}, {\"datetime\": \"2012-12-30T01:00:00\", \"temperature\": 26.8, \"city_Detroit\": 1, \"city_San Diego\": 0, \"city_San Francisco\": 0, \"city\": \"Detroit\", \"day\": 30, \"month\": 12, \"year\": 2012, \"hour\": 1, \"day_of_week\": 6, \"pred\": 26.860000000000003}, {\"datetime\": \"2012-12-30T02:00:00\", \"temperature\": 52.2, \"city_Detroit\": 0, \"city_San Diego\": 1, \"city_San Francisco\": 0, \"city\": \"San Diego\", \"day\": 30, \"month\": 12, \"year\": 2012, \"hour\": 2, \"day_of_week\": 6, \"pred\": 53.08928571428571}, {\"datetime\": \"2012-12-30T02:00:00\", \"temperature\": 26.5, \"city_Detroit\": 1, \"city_San Diego\": 0, \"city_San Francisco\": 0, \"city\": \"Detroit\", \"day\": 30, \"month\": 12, \"year\": 2012, \"hour\": 2, \"day_of_week\": 6, \"pred\": 26.860000000000003}, {\"datetime\": \"2012-12-30T02:00:00\", \"temperature\": 45.1, \"city_Detroit\": 0, \"city_San Diego\": 0, \"city_San Francisco\": 1, \"city\": \"San Francisco\", \"day\": 30, \"month\": 12, \"year\": 2012, \"hour\": 2, \"day_of_week\": 6, \"pred\": 45.1}, {\"datetime\": \"2012-12-30T03:00:00\", \"temperature\": 50.3, \"city_Detroit\": 0, \"city_San Diego\": 1, \"city_San Francisco\": 0, \"city\": \"San Diego\", \"day\": 30, \"month\": 12, \"year\": 2012, \"hour\": 3, \"day_of_week\": 6, \"pred\": 53.08928571428571}, {\"datetime\": \"2012-12-30T03:00:00\", \"temperature\": 26.6, \"city_Detroit\": 1, \"city_San Diego\": 0, \"city_San Francisco\": 0, \"city\": \"Detroit\", \"day\": 30, \"month\": 12, \"year\": 2012, \"hour\": 3, \"day_of_week\": 6, \"pred\": 26.860000000000003}, {\"datetime\": \"2012-12-30T03:00:00\", \"temperature\": 45.4, \"city_Detroit\": 0, \"city_San Diego\": 0, \"city_San Francisco\": 1, \"city\": \"San Francisco\", \"day\": 30, \"month\": 12, \"year\": 2012, \"hour\": 3, \"day_of_week\": 6, \"pred\": 45.2}, {\"datetime\": \"2012-12-30T04:00:00\", \"temperature\": 45.3, \"city_Detroit\": 0, \"city_San Diego\": 0, \"city_San Francisco\": 1, \"city\": \"San Francisco\", \"day\": 30, \"month\": 12, \"year\": 2012, \"hour\": 4, \"day_of_week\": 6, \"pred\": 44.459999999999994}, {\"datetime\": \"2012-12-30T04:00:00\", \"temperature\": 49.4, \"city_Detroit\": 0, \"city_San Diego\": 1, \"city_San Francisco\": 0, \"city\": \"San Diego\", \"day\": 30, \"month\": 12, \"year\": 2012, \"hour\": 4, \"day_of_week\": 6, \"pred\": 47.970000000000006}, {\"datetime\": \"2012-12-30T04:00:00\", \"temperature\": 27.3, \"city_Detroit\": 1, \"city_San Diego\": 0, \"city_San Francisco\": 0, \"city\": \"Detroit\", \"day\": 30, \"month\": 12, \"year\": 2012, \"hour\": 4, \"day_of_week\": 6, \"pred\": 26.860000000000003}, {\"datetime\": \"2012-12-30T05:00:00\", \"temperature\": 44.7, \"city_Detroit\": 0, \"city_San Diego\": 0, \"city_San Francisco\": 1, \"city\": \"San Francisco\", \"day\": 30, \"month\": 12, \"year\": 2012, \"hour\": 5, \"day_of_week\": 6, \"pred\": 44.459999999999994}, {\"datetime\": \"2012-12-30T05:00:00\", \"temperature\": 28.2, \"city_Detroit\": 1, \"city_San Diego\": 0, \"city_San Francisco\": 0, \"city\": \"Detroit\", \"day\": 30, \"month\": 12, \"year\": 2012, \"hour\": 5, \"day_of_week\": 6, \"pred\": 28.042857142857144}, {\"datetime\": \"2012-12-30T05:00:00\", \"temperature\": 48.2, \"city_Detroit\": 0, \"city_San Diego\": 1, \"city_San Francisco\": 0, \"city\": \"San Diego\", \"day\": 30, \"month\": 12, \"year\": 2012, \"hour\": 5, \"day_of_week\": 6, \"pred\": 47.970000000000006}, {\"datetime\": \"2012-12-30T06:00:00\", \"temperature\": 44.5, \"city_Detroit\": 0, \"city_San Diego\": 0, \"city_San Francisco\": 1, \"city\": \"San Francisco\", \"day\": 30, \"month\": 12, \"year\": 2012, \"hour\": 6, \"day_of_week\": 6, \"pred\": 44.459999999999994}, {\"datetime\": \"2012-12-30T06:00:00\", \"temperature\": 28.2, \"city_Detroit\": 1, \"city_San Diego\": 0, \"city_San Francisco\": 0, \"city\": \"Detroit\", \"day\": 30, \"month\": 12, \"year\": 2012, \"hour\": 6, \"day_of_week\": 6, \"pred\": 28.042857142857144}, {\"datetime\": \"2012-12-30T06:00:00\", \"temperature\": 48.4, \"city_Detroit\": 0, \"city_San Diego\": 1, \"city_San Francisco\": 0, \"city\": \"San Diego\", \"day\": 30, \"month\": 12, \"year\": 2012, \"hour\": 6, \"day_of_week\": 6, \"pred\": 47.970000000000006}, {\"datetime\": \"2012-12-30T07:00:00\", \"temperature\": 48.6, \"city_Detroit\": 0, \"city_San Diego\": 1, \"city_San Francisco\": 0, \"city\": \"San Diego\", \"day\": 30, \"month\": 12, \"year\": 2012, \"hour\": 7, \"day_of_week\": 6, \"pred\": 47.970000000000006}, {\"datetime\": \"2012-12-30T07:00:00\", \"temperature\": 43.9, \"city_Detroit\": 0, \"city_San Diego\": 0, \"city_San Francisco\": 1, \"city\": \"San Francisco\", \"day\": 30, \"month\": 12, \"year\": 2012, \"hour\": 7, \"day_of_week\": 6, \"pred\": 44.459999999999994}, {\"datetime\": \"2012-12-30T07:00:00\", \"temperature\": 28.1, \"city_Detroit\": 1, \"city_San Diego\": 0, \"city_San Francisco\": 0, \"city\": \"Detroit\", \"day\": 30, \"month\": 12, \"year\": 2012, \"hour\": 7, \"day_of_week\": 6, \"pred\": 28.042857142857144}, {\"datetime\": \"2012-12-30T08:00:00\", \"temperature\": 48.3, \"city_Detroit\": 0, \"city_San Diego\": 1, \"city_San Francisco\": 0, \"city\": \"San Diego\", \"day\": 30, \"month\": 12, \"year\": 2012, \"hour\": 8, \"day_of_week\": 6, \"pred\": 47.970000000000006}, {\"datetime\": \"2012-12-30T08:00:00\", \"temperature\": 43.9, \"city_Detroit\": 0, \"city_San Diego\": 0, \"city_San Francisco\": 1, \"city\": \"San Francisco\", \"day\": 30, \"month\": 12, \"year\": 2012, \"hour\": 8, \"day_of_week\": 6, \"pred\": 44.459999999999994}, {\"datetime\": \"2012-12-30T08:00:00\", \"temperature\": 28.1, \"city_Detroit\": 1, \"city_San Diego\": 0, \"city_San Francisco\": 0, \"city\": \"Detroit\", \"day\": 30, \"month\": 12, \"year\": 2012, \"hour\": 8, \"day_of_week\": 6, \"pred\": 28.042857142857144}, {\"datetime\": \"2012-12-30T09:00:00\", \"temperature\": 47.5, \"city_Detroit\": 0, \"city_San Diego\": 1, \"city_San Francisco\": 0, \"city\": \"San Diego\", \"day\": 30, \"month\": 12, \"year\": 2012, \"hour\": 9, \"day_of_week\": 6, \"pred\": 43.91428571428571}, {\"datetime\": \"2012-12-30T09:00:00\", \"temperature\": 27.9, \"city_Detroit\": 1, \"city_San Diego\": 0, \"city_San Francisco\": 0, \"city\": \"Detroit\", \"day\": 30, \"month\": 12, \"year\": 2012, \"hour\": 9, \"day_of_week\": 6, \"pred\": 28.042857142857144}, {\"datetime\": \"2012-12-30T09:00:00\", \"temperature\": 43.2, \"city_Detroit\": 0, \"city_San Diego\": 0, \"city_San Francisco\": 1, \"city\": \"San Francisco\", \"day\": 30, \"month\": 12, \"year\": 2012, \"hour\": 9, \"day_of_week\": 6, \"pred\": 43.01428571428573}, {\"datetime\": \"2012-12-30T10:00:00\", \"temperature\": 45.9, \"city_Detroit\": 0, \"city_San Diego\": 1, \"city_San Francisco\": 0, \"city\": \"San Diego\", \"day\": 30, \"month\": 12, \"year\": 2012, \"hour\": 10, \"day_of_week\": 6, \"pred\": 43.91428571428571}, {\"datetime\": \"2012-12-30T10:00:00\", \"temperature\": 27.8, \"city_Detroit\": 1, \"city_San Diego\": 0, \"city_San Francisco\": 0, \"city\": \"Detroit\", \"day\": 30, \"month\": 12, \"year\": 2012, \"hour\": 10, \"day_of_week\": 6, \"pred\": 28.042857142857144}, {\"datetime\": \"2012-12-30T10:00:00\", \"temperature\": 43.2, \"city_Detroit\": 0, \"city_San Diego\": 0, \"city_San Francisco\": 1, \"city\": \"San Francisco\", \"day\": 30, \"month\": 12, \"year\": 2012, \"hour\": 10, \"day_of_week\": 6, \"pred\": 43.01428571428573}, {\"datetime\": \"2012-12-30T11:00:00\", \"temperature\": 43.2, \"city_Detroit\": 0, \"city_San Diego\": 0, \"city_San Francisco\": 1, \"city\": \"San Francisco\", \"day\": 30, \"month\": 12, \"year\": 2012, \"hour\": 11, \"day_of_week\": 6, \"pred\": 43.01428571428573}, {\"datetime\": \"2012-12-30T11:00:00\", \"temperature\": 44.6, \"city_Detroit\": 0, \"city_San Diego\": 1, \"city_San Francisco\": 0, \"city\": \"San Diego\", \"day\": 30, \"month\": 12, \"year\": 2012, \"hour\": 11, \"day_of_week\": 6, \"pred\": 43.91428571428571}, {\"datetime\": \"2012-12-30T11:00:00\", \"temperature\": 28.0, \"city_Detroit\": 1, \"city_San Diego\": 0, \"city_San Francisco\": 0, \"city\": \"Detroit\", \"day\": 30, \"month\": 12, \"year\": 2012, \"hour\": 11, \"day_of_week\": 6, \"pred\": 28.042857142857144}, {\"datetime\": \"2012-12-30T12:00:00\", \"temperature\": 43.4, \"city_Detroit\": 0, \"city_San Diego\": 1, \"city_San Francisco\": 0, \"city\": \"San Diego\", \"day\": 30, \"month\": 12, \"year\": 2012, \"hour\": 12, \"day_of_week\": 6, \"pred\": 43.91428571428571}, {\"datetime\": \"2012-12-30T12:00:00\", \"temperature\": 43.0, \"city_Detroit\": 0, \"city_San Diego\": 0, \"city_San Francisco\": 1, \"city\": \"San Francisco\", \"day\": 30, \"month\": 12, \"year\": 2012, \"hour\": 12, \"day_of_week\": 6, \"pred\": 43.01428571428573}, {\"datetime\": \"2012-12-30T12:00:00\", \"temperature\": 28.4, \"city_Detroit\": 1, \"city_San Diego\": 0, \"city_San Francisco\": 0, \"city\": \"Detroit\", \"day\": 30, \"month\": 12, \"year\": 2012, \"hour\": 12, \"day_of_week\": 6, \"pred\": 28.1}, {\"datetime\": \"2012-12-30T13:00:00\", \"temperature\": 42.8, \"city_Detroit\": 0, \"city_San Diego\": 0, \"city_San Francisco\": 1, \"city\": \"San Francisco\", \"day\": 30, \"month\": 12, \"year\": 2012, \"hour\": 13, \"day_of_week\": 6, \"pred\": 43.01428571428573}, {\"datetime\": \"2012-12-30T13:00:00\", \"temperature\": 28.4, \"city_Detroit\": 1, \"city_San Diego\": 0, \"city_San Francisco\": 0, \"city\": \"Detroit\", \"day\": 30, \"month\": 12, \"year\": 2012, \"hour\": 13, \"day_of_week\": 6, \"pred\": 28.1}, {\"datetime\": \"2012-12-30T13:00:00\", \"temperature\": 43.3, \"city_Detroit\": 0, \"city_San Diego\": 1, \"city_San Francisco\": 0, \"city\": \"San Diego\", \"day\": 30, \"month\": 12, \"year\": 2012, \"hour\": 13, \"day_of_week\": 6, \"pred\": 43.91428571428571}, {\"datetime\": \"2012-12-30T14:00:00\", \"temperature\": 28.4, \"city_Detroit\": 1, \"city_San Diego\": 0, \"city_San Francisco\": 0, \"city\": \"Detroit\", \"day\": 30, \"month\": 12, \"year\": 2012, \"hour\": 14, \"day_of_week\": 6, \"pred\": 28.1}, {\"datetime\": \"2012-12-30T14:00:00\", \"temperature\": 45.0, \"city_Detroit\": 0, \"city_San Diego\": 1, \"city_San Francisco\": 0, \"city\": \"San Diego\", \"day\": 30, \"month\": 12, \"year\": 2012, \"hour\": 14, \"day_of_week\": 6, \"pred\": 43.91428571428571}, {\"datetime\": \"2012-12-30T14:00:00\", \"temperature\": 43.1, \"city_Detroit\": 0, \"city_San Diego\": 0, \"city_San Francisco\": 1, \"city\": \"San Francisco\", \"day\": 30, \"month\": 12, \"year\": 2012, \"hour\": 14, \"day_of_week\": 6, \"pred\": 43.01428571428573}, {\"datetime\": \"2012-12-30T15:00:00\", \"temperature\": 28.8, \"city_Detroit\": 1, \"city_San Diego\": 0, \"city_San Francisco\": 0, \"city\": \"Detroit\", \"day\": 30, \"month\": 12, \"year\": 2012, \"hour\": 15, \"day_of_week\": 6, \"pred\": 28.1}, {\"datetime\": \"2012-12-30T15:00:00\", \"temperature\": 44.9, \"city_Detroit\": 0, \"city_San Diego\": 1, \"city_San Francisco\": 0, \"city\": \"San Diego\", \"day\": 30, \"month\": 12, \"year\": 2012, \"hour\": 15, \"day_of_week\": 6, \"pred\": 43.91428571428571}, {\"datetime\": \"2012-12-30T15:00:00\", \"temperature\": 42.6, \"city_Detroit\": 0, \"city_San Diego\": 0, \"city_San Francisco\": 1, \"city\": \"San Francisco\", \"day\": 30, \"month\": 12, \"year\": 2012, \"hour\": 15, \"day_of_week\": 6, \"pred\": 43.01428571428573}, {\"datetime\": \"2012-12-30T16:00:00\", \"temperature\": 47.3, \"city_Detroit\": 0, \"city_San Diego\": 1, \"city_San Francisco\": 0, \"city\": \"San Diego\", \"day\": 30, \"month\": 12, \"year\": 2012, \"hour\": 16, \"day_of_week\": 6, \"pred\": 47.63333333333333}, {\"datetime\": \"2012-12-30T16:00:00\", \"temperature\": 26.5, \"city_Detroit\": 1, \"city_San Diego\": 0, \"city_San Francisco\": 0, \"city\": \"Detroit\", \"day\": 30, \"month\": 12, \"year\": 2012, \"hour\": 16, \"day_of_week\": 6, \"pred\": 28.1}, {\"datetime\": \"2012-12-30T16:00:00\", \"temperature\": 43.8, \"city_Detroit\": 0, \"city_San Diego\": 0, \"city_San Francisco\": 1, \"city\": \"San Francisco\", \"day\": 30, \"month\": 12, \"year\": 2012, \"hour\": 16, \"day_of_week\": 6, \"pred\": 44.25}, {\"datetime\": \"2012-12-30T17:00:00\", \"temperature\": 44.7, \"city_Detroit\": 0, \"city_San Diego\": 0, \"city_San Francisco\": 1, \"city\": \"San Francisco\", \"day\": 30, \"month\": 12, \"year\": 2012, \"hour\": 17, \"day_of_week\": 6, \"pred\": 44.25}, {\"datetime\": \"2012-12-30T17:00:00\", \"temperature\": 51.7, \"city_Detroit\": 0, \"city_San Diego\": 1, \"city_San Francisco\": 0, \"city\": \"San Diego\", \"day\": 30, \"month\": 12, \"year\": 2012, \"hour\": 17, \"day_of_week\": 6, \"pred\": 51.7}, {\"datetime\": \"2012-12-30T17:00:00\", \"temperature\": 30.8, \"city_Detroit\": 1, \"city_San Diego\": 0, \"city_San Francisco\": 0, \"city\": \"Detroit\", \"day\": 30, \"month\": 12, \"year\": 2012, \"hour\": 17, \"day_of_week\": 6, \"pred\": 30.414285714285715}, {\"datetime\": \"2012-12-30T18:00:00\", \"temperature\": 30.8, \"city_Detroit\": 1, \"city_San Diego\": 0, \"city_San Francisco\": 0, \"city\": \"Detroit\", \"day\": 30, \"month\": 12, \"year\": 2012, \"hour\": 18, \"day_of_week\": 6, \"pred\": 30.414285714285715}, {\"datetime\": \"2012-12-30T18:00:00\", \"temperature\": 46.3, \"city_Detroit\": 0, \"city_San Diego\": 0, \"city_San Francisco\": 1, \"city\": \"San Francisco\", \"day\": 30, \"month\": 12, \"year\": 2012, \"hour\": 18, \"day_of_week\": 6, \"pred\": 46.3}, {\"datetime\": \"2012-12-30T18:00:00\", \"temperature\": 55.2, \"city_Detroit\": 0, \"city_San Diego\": 1, \"city_San Francisco\": 0, \"city\": \"San Diego\", \"day\": 30, \"month\": 12, \"year\": 2012, \"hour\": 18, \"day_of_week\": 6, \"pred\": 55.2}, {\"datetime\": \"2012-12-30T19:00:00\", \"temperature\": 30.6, \"city_Detroit\": 1, \"city_San Diego\": 0, \"city_San Francisco\": 0, \"city\": \"Detroit\", \"day\": 30, \"month\": 12, \"year\": 2012, \"hour\": 19, \"day_of_week\": 6, \"pred\": 30.414285714285715}, {\"datetime\": \"2012-12-30T19:00:00\", \"temperature\": 48.7, \"city_Detroit\": 0, \"city_San Diego\": 0, \"city_San Francisco\": 1, \"city\": \"San Francisco\", \"day\": 30, \"month\": 12, \"year\": 2012, \"hour\": 19, \"day_of_week\": 6, \"pred\": 48.7}, {\"datetime\": \"2012-12-30T19:00:00\", \"temperature\": 56.9, \"city_Detroit\": 0, \"city_San Diego\": 1, \"city_San Francisco\": 0, \"city\": \"San Diego\", \"day\": 30, \"month\": 12, \"year\": 2012, \"hour\": 19, \"day_of_week\": 6, \"pred\": 59.79600000000001}, {\"datetime\": \"2012-12-30T20:00:00\", \"temperature\": 30.6, \"city_Detroit\": 1, \"city_San Diego\": 0, \"city_San Francisco\": 0, \"city\": \"Detroit\", \"day\": 30, \"month\": 12, \"year\": 2012, \"hour\": 20, \"day_of_week\": 6, \"pred\": 30.414285714285715}, {\"datetime\": \"2012-12-30T20:00:00\", \"temperature\": 49.8, \"city_Detroit\": 0, \"city_San Diego\": 0, \"city_San Francisco\": 1, \"city\": \"San Francisco\", \"day\": 30, \"month\": 12, \"year\": 2012, \"hour\": 20, \"day_of_week\": 6, \"pred\": 50.349999999999994}, {\"datetime\": \"2012-12-30T20:00:00\", \"temperature\": 58.8, \"city_Detroit\": 0, \"city_San Diego\": 1, \"city_San Francisco\": 0, \"city\": \"San Diego\", \"day\": 30, \"month\": 12, \"year\": 2012, \"hour\": 20, \"day_of_week\": 6, \"pred\": 59.79600000000001}, {\"datetime\": \"2012-12-30T21:00:00\", \"temperature\": 30.6, \"city_Detroit\": 1, \"city_San Diego\": 0, \"city_San Francisco\": 0, \"city\": \"Detroit\", \"day\": 30, \"month\": 12, \"year\": 2012, \"hour\": 21, \"day_of_week\": 6, \"pred\": 30.414285714285715}, {\"datetime\": \"2012-12-30T21:00:00\", \"temperature\": 50.9, \"city_Detroit\": 0, \"city_San Diego\": 0, \"city_San Francisco\": 1, \"city\": \"San Francisco\", \"day\": 30, \"month\": 12, \"year\": 2012, \"hour\": 21, \"day_of_week\": 6, \"pred\": 50.349999999999994}, {\"datetime\": \"2012-12-30T21:00:00\", \"temperature\": 57.9, \"city_Detroit\": 0, \"city_San Diego\": 1, \"city_San Francisco\": 0, \"city\": \"San Diego\", \"day\": 30, \"month\": 12, \"year\": 2012, \"hour\": 21, \"day_of_week\": 6, \"pred\": 59.79600000000001}, {\"datetime\": \"2012-12-30T22:00:00\", \"temperature\": 57.2, \"city_Detroit\": 0, \"city_San Diego\": 1, \"city_San Francisco\": 0, \"city\": \"San Diego\", \"day\": 30, \"month\": 12, \"year\": 2012, \"hour\": 22, \"day_of_week\": 6, \"pred\": 59.79600000000001}, {\"datetime\": \"2012-12-30T22:00:00\", \"temperature\": 29.9, \"city_Detroit\": 1, \"city_San Diego\": 0, \"city_San Francisco\": 0, \"city\": \"Detroit\", \"day\": 30, \"month\": 12, \"year\": 2012, \"hour\": 22, \"day_of_week\": 6, \"pred\": 30.414285714285715}, {\"datetime\": \"2012-12-30T22:00:00\", \"temperature\": 51.9, \"city_Detroit\": 0, \"city_San Diego\": 0, \"city_San Francisco\": 1, \"city\": \"San Francisco\", \"day\": 30, \"month\": 12, \"year\": 2012, \"hour\": 22, \"day_of_week\": 6, \"pred\": 52.7}, {\"datetime\": \"2012-12-30T23:00:00\", \"temperature\": 55.4, \"city_Detroit\": 0, \"city_San Diego\": 1, \"city_San Francisco\": 0, \"city\": \"San Diego\", \"day\": 30, \"month\": 12, \"year\": 2012, \"hour\": 23, \"day_of_week\": 6, \"pred\": 59.79600000000001}, {\"datetime\": \"2012-12-30T23:00:00\", \"temperature\": 29.6, \"city_Detroit\": 1, \"city_San Diego\": 0, \"city_San Francisco\": 0, \"city\": \"Detroit\", \"day\": 30, \"month\": 12, \"year\": 2012, \"hour\": 23, \"day_of_week\": 6, \"pred\": 30.414285714285715}, {\"datetime\": \"2012-12-30T23:00:00\", \"temperature\": 53.5, \"city_Detroit\": 0, \"city_San Diego\": 0, \"city_San Francisco\": 1, \"city\": \"San Francisco\", \"day\": 30, \"month\": 12, \"year\": 2012, \"hour\": 23, \"day_of_week\": 6, \"pred\": 52.7}, {\"datetime\": \"2012-12-31T00:00:00\", \"temperature\": 29.2, \"city_Detroit\": 1, \"city_San Diego\": 0, \"city_San Francisco\": 0, \"city\": \"Detroit\", \"day\": 31, \"month\": 12, \"year\": 2012, \"hour\": 0, \"day_of_week\": 0, \"pred\": 27.666666666666668}, {\"datetime\": \"2012-12-31T00:00:00\", \"temperature\": 53.4, \"city_Detroit\": 0, \"city_San Diego\": 1, \"city_San Francisco\": 0, \"city\": \"San Diego\", \"day\": 31, \"month\": 12, \"year\": 2012, \"hour\": 0, \"day_of_week\": 0, \"pred\": 52.55}, {\"datetime\": \"2012-12-31T00:00:00\", \"temperature\": 52.8, \"city_Detroit\": 0, \"city_San Diego\": 0, \"city_San Francisco\": 1, \"city\": \"San Francisco\", \"day\": 31, \"month\": 12, \"year\": 2012, \"hour\": 0, \"day_of_week\": 0, \"pred\": 50.3375}, {\"datetime\": \"2012-12-31T01:00:00\", \"temperature\": 51.7, \"city_Detroit\": 0, \"city_San Diego\": 1, \"city_San Francisco\": 0, \"city\": \"San Diego\", \"day\": 31, \"month\": 12, \"year\": 2012, \"hour\": 1, \"day_of_week\": 0, \"pred\": 52.55}, {\"datetime\": \"2012-12-31T01:00:00\", \"temperature\": 49.9, \"city_Detroit\": 0, \"city_San Diego\": 0, \"city_San Francisco\": 1, \"city\": \"San Francisco\", \"day\": 31, \"month\": 12, \"year\": 2012, \"hour\": 1, \"day_of_week\": 0, \"pred\": 50.3375}, {\"datetime\": \"2012-12-31T01:00:00\", \"temperature\": 29.2, \"city_Detroit\": 1, \"city_San Diego\": 0, \"city_San Francisco\": 0, \"city\": \"Detroit\", \"day\": 31, \"month\": 12, \"year\": 2012, \"hour\": 1, \"day_of_week\": 0, \"pred\": 27.666666666666668}, {\"datetime\": \"2012-12-31T02:00:00\", \"temperature\": 51.0, \"city_Detroit\": 0, \"city_San Diego\": 1, \"city_San Francisco\": 0, \"city\": \"San Diego\", \"day\": 31, \"month\": 12, \"year\": 2012, \"hour\": 2, \"day_of_week\": 0, \"pred\": 50.48333333333334}, {\"datetime\": \"2012-12-31T02:00:00\", \"temperature\": 46.2, \"city_Detroit\": 0, \"city_San Diego\": 0, \"city_San Francisco\": 1, \"city\": \"San Francisco\", \"day\": 31, \"month\": 12, \"year\": 2012, \"hour\": 2, \"day_of_week\": 0, \"pred\": 46.7}, {\"datetime\": \"2012-12-31T02:00:00\", \"temperature\": 28.5, \"city_Detroit\": 1, \"city_San Diego\": 0, \"city_San Francisco\": 0, \"city\": \"Detroit\", \"day\": 31, \"month\": 12, \"year\": 2012, \"hour\": 2, \"day_of_week\": 0, \"pred\": 27.666666666666668}, {\"datetime\": \"2012-12-31T03:00:00\", \"temperature\": 44.5, \"city_Detroit\": 0, \"city_San Diego\": 0, \"city_San Francisco\": 1, \"city\": \"San Francisco\", \"day\": 31, \"month\": 12, \"year\": 2012, \"hour\": 3, \"day_of_week\": 0, \"pred\": 44.5}, {\"datetime\": \"2012-12-31T03:00:00\", \"temperature\": 50.8, \"city_Detroit\": 0, \"city_San Diego\": 1, \"city_San Francisco\": 0, \"city\": \"San Diego\", \"day\": 31, \"month\": 12, \"year\": 2012, \"hour\": 3, \"day_of_week\": 0, \"pred\": 50.48333333333334}, {\"datetime\": \"2012-12-31T03:00:00\", \"temperature\": 27.4, \"city_Detroit\": 1, \"city_San Diego\": 0, \"city_San Francisco\": 0, \"city\": \"Detroit\", \"day\": 31, \"month\": 12, \"year\": 2012, \"hour\": 3, \"day_of_week\": 0, \"pred\": 27.666666666666668}, {\"datetime\": \"2012-12-31T04:00:00\", \"temperature\": 50.1, \"city_Detroit\": 0, \"city_San Diego\": 1, \"city_San Francisco\": 0, \"city\": \"San Diego\", \"day\": 31, \"month\": 12, \"year\": 2012, \"hour\": 4, \"day_of_week\": 0, \"pred\": 47.970000000000006}, {\"datetime\": \"2012-12-31T04:00:00\", \"temperature\": 43.0, \"city_Detroit\": 0, \"city_San Diego\": 0, \"city_San Francisco\": 1, \"city\": \"San Francisco\", \"day\": 31, \"month\": 12, \"year\": 2012, \"hour\": 4, \"day_of_week\": 0, \"pred\": 43.0}, {\"datetime\": \"2012-12-31T04:00:00\", \"temperature\": 25.6, \"city_Detroit\": 1, \"city_San Diego\": 0, \"city_San Francisco\": 0, \"city\": \"Detroit\", \"day\": 31, \"month\": 12, \"year\": 2012, \"hour\": 4, \"day_of_week\": 0, \"pred\": 27.666666666666668}, {\"datetime\": \"2012-12-31T05:00:00\", \"temperature\": 26.1, \"city_Detroit\": 1, \"city_San Diego\": 0, \"city_San Francisco\": 0, \"city\": \"Detroit\", \"day\": 31, \"month\": 12, \"year\": 2012, \"hour\": 5, \"day_of_week\": 0, \"pred\": 27.666666666666668}, {\"datetime\": \"2012-12-31T05:00:00\", \"temperature\": 47.6, \"city_Detroit\": 0, \"city_San Diego\": 1, \"city_San Francisco\": 0, \"city\": \"San Diego\", \"day\": 31, \"month\": 12, \"year\": 2012, \"hour\": 5, \"day_of_week\": 0, \"pred\": 47.970000000000006}, {\"datetime\": \"2012-12-31T05:00:00\", \"temperature\": 41.2, \"city_Detroit\": 0, \"city_San Diego\": 0, \"city_San Francisco\": 1, \"city\": \"San Francisco\", \"day\": 31, \"month\": 12, \"year\": 2012, \"hour\": 5, \"day_of_week\": 0, \"pred\": 41.2}, {\"datetime\": \"2012-12-31T06:00:00\", \"temperature\": 39.6, \"city_Detroit\": 0, \"city_San Diego\": 0, \"city_San Francisco\": 1, \"city\": \"San Francisco\", \"day\": 31, \"month\": 12, \"year\": 2012, \"hour\": 6, \"day_of_week\": 0, \"pred\": 38.957142857142856}, {\"datetime\": \"2012-12-31T06:00:00\", \"temperature\": 21.8, \"city_Detroit\": 1, \"city_San Diego\": 0, \"city_San Francisco\": 0, \"city\": \"Detroit\", \"day\": 31, \"month\": 12, \"year\": 2012, \"hour\": 6, \"day_of_week\": 0, \"pred\": 22.349999999999998}, {\"datetime\": \"2012-12-31T06:00:00\", \"temperature\": 46.9, \"city_Detroit\": 0, \"city_San Diego\": 1, \"city_San Francisco\": 0, \"city\": \"San Diego\", \"day\": 31, \"month\": 12, \"year\": 2012, \"hour\": 6, \"day_of_week\": 0, \"pred\": 47.970000000000006}, {\"datetime\": \"2012-12-31T07:00:00\", \"temperature\": 46.1, \"city_Detroit\": 0, \"city_San Diego\": 1, \"city_San Francisco\": 0, \"city\": \"San Diego\", \"day\": 31, \"month\": 12, \"year\": 2012, \"hour\": 7, \"day_of_week\": 0, \"pred\": 47.970000000000006}, {\"datetime\": \"2012-12-31T07:00:00\", \"temperature\": 38.0, \"city_Detroit\": 0, \"city_San Diego\": 0, \"city_San Francisco\": 1, \"city\": \"San Francisco\", \"day\": 31, \"month\": 12, \"year\": 2012, \"hour\": 7, \"day_of_week\": 0, \"pred\": 38.957142857142856}, {\"datetime\": \"2012-12-31T07:00:00\", \"temperature\": 17.5, \"city_Detroit\": 1, \"city_San Diego\": 0, \"city_San Francisco\": 0, \"city\": \"Detroit\", \"day\": 31, \"month\": 12, \"year\": 2012, \"hour\": 7, \"day_of_week\": 0, \"pred\": 22.349999999999998}, {\"datetime\": \"2012-12-31T08:00:00\", \"temperature\": 46.1, \"city_Detroit\": 0, \"city_San Diego\": 1, \"city_San Francisco\": 0, \"city\": \"San Diego\", \"day\": 31, \"month\": 12, \"year\": 2012, \"hour\": 8, \"day_of_week\": 0, \"pred\": 47.970000000000006}, {\"datetime\": \"2012-12-31T08:00:00\", \"temperature\": 17.5, \"city_Detroit\": 1, \"city_San Diego\": 0, \"city_San Francisco\": 0, \"city\": \"Detroit\", \"day\": 31, \"month\": 12, \"year\": 2012, \"hour\": 8, \"day_of_week\": 0, \"pred\": 22.349999999999998}, {\"datetime\": \"2012-12-31T08:00:00\", \"temperature\": 38.0, \"city_Detroit\": 0, \"city_San Diego\": 0, \"city_San Francisco\": 1, \"city\": \"San Francisco\", \"day\": 31, \"month\": 12, \"year\": 2012, \"hour\": 8, \"day_of_week\": 0, \"pred\": 38.957142857142856}, {\"datetime\": \"2012-12-31T09:00:00\", \"temperature\": 45.6, \"city_Detroit\": 0, \"city_San Diego\": 1, \"city_San Francisco\": 0, \"city\": \"San Diego\", \"day\": 31, \"month\": 12, \"year\": 2012, \"hour\": 9, \"day_of_week\": 0, \"pred\": 44.987500000000004}, {\"datetime\": \"2012-12-31T09:00:00\", \"temperature\": 25.1, \"city_Detroit\": 1, \"city_San Diego\": 0, \"city_San Francisco\": 0, \"city\": \"Detroit\", \"day\": 31, \"month\": 12, \"year\": 2012, \"hour\": 9, \"day_of_week\": 0, \"pred\": 22.349999999999998}, {\"datetime\": \"2012-12-31T09:00:00\", \"temperature\": 39.4, \"city_Detroit\": 0, \"city_San Diego\": 0, \"city_San Francisco\": 1, \"city\": \"San Francisco\", \"day\": 31, \"month\": 12, \"year\": 2012, \"hour\": 9, \"day_of_week\": 0, \"pred\": 38.957142857142856}, {\"datetime\": \"2012-12-31T10:00:00\", \"temperature\": 25.5, \"city_Detroit\": 1, \"city_San Diego\": 0, \"city_San Francisco\": 0, \"city\": \"Detroit\", \"day\": 31, \"month\": 12, \"year\": 2012, \"hour\": 10, \"day_of_week\": 0, \"pred\": 22.349999999999998}, {\"datetime\": \"2012-12-31T10:00:00\", \"temperature\": 39.4, \"city_Detroit\": 0, \"city_San Diego\": 0, \"city_San Francisco\": 1, \"city\": \"San Francisco\", \"day\": 31, \"month\": 12, \"year\": 2012, \"hour\": 10, \"day_of_week\": 0, \"pred\": 38.957142857142856}, {\"datetime\": \"2012-12-31T10:00:00\", \"temperature\": 45.2, \"city_Detroit\": 0, \"city_San Diego\": 1, \"city_San Francisco\": 0, \"city\": \"San Diego\", \"day\": 31, \"month\": 12, \"year\": 2012, \"hour\": 10, \"day_of_week\": 0, \"pred\": 44.987500000000004}, {\"datetime\": \"2012-12-31T11:00:00\", \"temperature\": 26.7, \"city_Detroit\": 1, \"city_San Diego\": 0, \"city_San Francisco\": 0, \"city\": \"Detroit\", \"day\": 31, \"month\": 12, \"year\": 2012, \"hour\": 11, \"day_of_week\": 0, \"pred\": 22.349999999999998}, {\"datetime\": \"2012-12-31T11:00:00\", \"temperature\": 39.5, \"city_Detroit\": 0, \"city_San Diego\": 0, \"city_San Francisco\": 1, \"city\": \"San Francisco\", \"day\": 31, \"month\": 12, \"year\": 2012, \"hour\": 11, \"day_of_week\": 0, \"pred\": 38.957142857142856}, {\"datetime\": \"2012-12-31T11:00:00\", \"temperature\": 44.7, \"city_Detroit\": 0, \"city_San Diego\": 1, \"city_San Francisco\": 0, \"city\": \"San Diego\", \"day\": 31, \"month\": 12, \"year\": 2012, \"hour\": 11, \"day_of_week\": 0, \"pred\": 44.987500000000004}, {\"datetime\": \"2012-12-31T12:00:00\", \"temperature\": 27.4, \"city_Detroit\": 1, \"city_San Diego\": 0, \"city_San Francisco\": 0, \"city\": \"Detroit\", \"day\": 31, \"month\": 12, \"year\": 2012, \"hour\": 12, \"day_of_week\": 0, \"pred\": 28.71111111111111}, {\"datetime\": \"2012-12-31T12:00:00\", \"temperature\": 38.8, \"city_Detroit\": 0, \"city_San Diego\": 0, \"city_San Francisco\": 1, \"city\": \"San Francisco\", \"day\": 31, \"month\": 12, \"year\": 2012, \"hour\": 12, \"day_of_week\": 0, \"pred\": 38.957142857142856}, {\"datetime\": \"2012-12-31T12:00:00\", \"temperature\": 44.9, \"city_Detroit\": 0, \"city_San Diego\": 1, \"city_San Francisco\": 0, \"city\": \"San Diego\", \"day\": 31, \"month\": 12, \"year\": 2012, \"hour\": 12, \"day_of_week\": 0, \"pred\": 44.987500000000004}, {\"datetime\": \"2012-12-31T13:00:00\", \"temperature\": 38.1, \"city_Detroit\": 0, \"city_San Diego\": 0, \"city_San Francisco\": 1, \"city\": \"San Francisco\", \"day\": 31, \"month\": 12, \"year\": 2012, \"hour\": 13, \"day_of_week\": 0, \"pred\": 38.025}, {\"datetime\": \"2012-12-31T13:00:00\", \"temperature\": 27.8, \"city_Detroit\": 1, \"city_San Diego\": 0, \"city_San Francisco\": 0, \"city\": \"Detroit\", \"day\": 31, \"month\": 12, \"year\": 2012, \"hour\": 13, \"day_of_week\": 0, \"pred\": 28.71111111111111}, {\"datetime\": \"2012-12-31T13:00:00\", \"temperature\": 44.2, \"city_Detroit\": 0, \"city_San Diego\": 1, \"city_San Francisco\": 0, \"city\": \"San Diego\", \"day\": 31, \"month\": 12, \"year\": 2012, \"hour\": 13, \"day_of_week\": 0, \"pred\": 44.987500000000004}, {\"datetime\": \"2012-12-31T14:00:00\", \"temperature\": 44.8, \"city_Detroit\": 0, \"city_San Diego\": 1, \"city_San Francisco\": 0, \"city\": \"San Diego\", \"day\": 31, \"month\": 12, \"year\": 2012, \"hour\": 14, \"day_of_week\": 0, \"pred\": 44.987500000000004}, {\"datetime\": \"2012-12-31T14:00:00\", \"temperature\": 37.6, \"city_Detroit\": 0, \"city_San Diego\": 0, \"city_San Francisco\": 1, \"city\": \"San Francisco\", \"day\": 31, \"month\": 12, \"year\": 2012, \"hour\": 14, \"day_of_week\": 0, \"pred\": 38.025}, {\"datetime\": \"2012-12-31T14:00:00\", \"temperature\": 28.4, \"city_Detroit\": 1, \"city_San Diego\": 0, \"city_San Francisco\": 0, \"city\": \"Detroit\", \"day\": 31, \"month\": 12, \"year\": 2012, \"hour\": 14, \"day_of_week\": 0, \"pred\": 28.71111111111111}, {\"datetime\": \"2012-12-31T15:00:00\", \"temperature\": 44.4, \"city_Detroit\": 0, \"city_San Diego\": 1, \"city_San Francisco\": 0, \"city\": \"San Diego\", \"day\": 31, \"month\": 12, \"year\": 2012, \"hour\": 15, \"day_of_week\": 0, \"pred\": 44.987500000000004}, {\"datetime\": \"2012-12-31T15:00:00\", \"temperature\": 38.0, \"city_Detroit\": 0, \"city_San Diego\": 0, \"city_San Francisco\": 1, \"city\": \"San Francisco\", \"day\": 31, \"month\": 12, \"year\": 2012, \"hour\": 15, \"day_of_week\": 0, \"pred\": 38.025}, {\"datetime\": \"2012-12-31T15:00:00\", \"temperature\": 29.5, \"city_Detroit\": 1, \"city_San Diego\": 0, \"city_San Francisco\": 0, \"city\": \"Detroit\", \"day\": 31, \"month\": 12, \"year\": 2012, \"hour\": 15, \"day_of_week\": 0, \"pred\": 28.71111111111111}, {\"datetime\": \"2012-12-31T16:00:00\", \"temperature\": 38.4, \"city_Detroit\": 0, \"city_San Diego\": 0, \"city_San Francisco\": 1, \"city\": \"San Francisco\", \"day\": 31, \"month\": 12, \"year\": 2012, \"hour\": 16, \"day_of_week\": 0, \"pred\": 38.025}, {\"datetime\": \"2012-12-31T16:00:00\", \"temperature\": 46.1, \"city_Detroit\": 0, \"city_San Diego\": 1, \"city_San Francisco\": 0, \"city\": \"San Diego\", \"day\": 31, \"month\": 12, \"year\": 2012, \"hour\": 16, \"day_of_week\": 0, \"pred\": 44.987500000000004}, {\"datetime\": \"2012-12-31T16:00:00\", \"temperature\": 30.0, \"city_Detroit\": 1, \"city_San Diego\": 0, \"city_San Francisco\": 0, \"city\": \"Detroit\", \"day\": 31, \"month\": 12, \"year\": 2012, \"hour\": 16, \"day_of_week\": 0, \"pred\": 28.71111111111111}, {\"datetime\": \"2012-12-31T17:00:00\", \"temperature\": 30.1, \"city_Detroit\": 1, \"city_San Diego\": 0, \"city_San Francisco\": 0, \"city\": \"Detroit\", \"day\": 31, \"month\": 12, \"year\": 2012, \"hour\": 17, \"day_of_week\": 0, \"pred\": 28.71111111111111}, {\"datetime\": \"2012-12-31T17:00:00\", \"temperature\": 50.0, \"city_Detroit\": 0, \"city_San Diego\": 1, \"city_San Francisco\": 0, \"city\": \"San Diego\", \"day\": 31, \"month\": 12, \"year\": 2012, \"hour\": 17, \"day_of_week\": 0, \"pred\": 50.0}, {\"datetime\": \"2012-12-31T17:00:00\", \"temperature\": 41.9, \"city_Detroit\": 0, \"city_San Diego\": 0, \"city_San Francisco\": 1, \"city\": \"San Francisco\", \"day\": 31, \"month\": 12, \"year\": 2012, \"hour\": 17, \"day_of_week\": 0, \"pred\": 41.9}, {\"datetime\": \"2012-12-31T18:00:00\", \"temperature\": 51.8, \"city_Detroit\": 0, \"city_San Diego\": 1, \"city_San Francisco\": 0, \"city\": \"San Diego\", \"day\": 31, \"month\": 12, \"year\": 2012, \"hour\": 18, \"day_of_week\": 0, \"pred\": 51.8}, {\"datetime\": \"2012-12-31T18:00:00\", \"temperature\": 29.2, \"city_Detroit\": 1, \"city_San Diego\": 0, \"city_San Francisco\": 0, \"city\": \"Detroit\", \"day\": 31, \"month\": 12, \"year\": 2012, \"hour\": 18, \"day_of_week\": 0, \"pred\": 28.71111111111111}, {\"datetime\": \"2012-12-31T18:00:00\", \"temperature\": 47.4, \"city_Detroit\": 0, \"city_San Diego\": 0, \"city_San Francisco\": 1, \"city\": \"San Francisco\", \"day\": 31, \"month\": 12, \"year\": 2012, \"hour\": 18, \"day_of_week\": 0, \"pred\": 47.4}, {\"datetime\": \"2012-12-31T19:00:00\", \"temperature\": 28.7, \"city_Detroit\": 1, \"city_San Diego\": 0, \"city_San Francisco\": 0, \"city\": \"Detroit\", \"day\": 31, \"month\": 12, \"year\": 2012, \"hour\": 19, \"day_of_week\": 0, \"pred\": 28.71111111111111}, {\"datetime\": \"2012-12-31T19:00:00\", \"temperature\": 49.7, \"city_Detroit\": 0, \"city_San Diego\": 0, \"city_San Francisco\": 1, \"city\": \"San Francisco\", \"day\": 31, \"month\": 12, \"year\": 2012, \"hour\": 19, \"day_of_week\": 0, \"pred\": 49.7}, {\"datetime\": \"2012-12-31T19:00:00\", \"temperature\": 52.9, \"city_Detroit\": 0, \"city_San Diego\": 1, \"city_San Francisco\": 0, \"city\": \"San Diego\", \"day\": 31, \"month\": 12, \"year\": 2012, \"hour\": 19, \"day_of_week\": 0, \"pred\": 52.9}, {\"datetime\": \"2012-12-31T20:00:00\", \"temperature\": 27.3, \"city_Detroit\": 1, \"city_San Diego\": 0, \"city_San Francisco\": 0, \"city\": \"Detroit\", \"day\": 31, \"month\": 12, \"year\": 2012, \"hour\": 20, \"day_of_week\": 0, \"pred\": 28.71111111111111}, {\"datetime\": \"2012-12-31T20:00:00\", \"temperature\": 52.3, \"city_Detroit\": 0, \"city_San Diego\": 1, \"city_San Francisco\": 0, \"city\": \"San Diego\", \"day\": 31, \"month\": 12, \"year\": 2012, \"hour\": 20, \"day_of_week\": 0, \"pred\": 52.366666666666674}, {\"datetime\": \"2012-12-31T20:00:00\", \"temperature\": 51.1, \"city_Detroit\": 0, \"city_San Diego\": 0, \"city_San Francisco\": 1, \"city\": \"San Francisco\", \"day\": 31, \"month\": 12, \"year\": 2012, \"hour\": 20, \"day_of_week\": 0, \"pred\": 51.1}, {\"datetime\": \"2012-12-31T21:00:00\", \"temperature\": 52.6, \"city_Detroit\": 0, \"city_San Diego\": 1, \"city_San Francisco\": 0, \"city\": \"San Diego\", \"day\": 31, \"month\": 12, \"year\": 2012, \"hour\": 21, \"day_of_week\": 0, \"pred\": 52.366666666666674}, {\"datetime\": \"2012-12-31T21:00:00\", \"temperature\": 25.8, \"city_Detroit\": 1, \"city_San Diego\": 0, \"city_San Francisco\": 0, \"city\": \"Detroit\", \"day\": 31, \"month\": 12, \"year\": 2012, \"hour\": 21, \"day_of_week\": 0, \"pred\": 25.0}, {\"datetime\": \"2012-12-31T21:00:00\", \"temperature\": 52.4, \"city_Detroit\": 0, \"city_San Diego\": 0, \"city_San Francisco\": 1, \"city\": \"San Francisco\", \"day\": 31, \"month\": 12, \"year\": 2012, \"hour\": 21, \"day_of_week\": 0, \"pred\": 52.36666666666667}, {\"datetime\": \"2012-12-31T22:00:00\", \"temperature\": 52.2, \"city_Detroit\": 0, \"city_San Diego\": 1, \"city_San Francisco\": 0, \"city\": \"San Diego\", \"day\": 31, \"month\": 12, \"year\": 2012, \"hour\": 22, \"day_of_week\": 0, \"pred\": 52.366666666666674}, {\"datetime\": \"2012-12-31T22:00:00\", \"temperature\": 52.1, \"city_Detroit\": 0, \"city_San Diego\": 0, \"city_San Francisco\": 1, \"city\": \"San Francisco\", \"day\": 31, \"month\": 12, \"year\": 2012, \"hour\": 22, \"day_of_week\": 0, \"pred\": 52.36666666666667}, {\"datetime\": \"2012-12-31T22:00:00\", \"temperature\": 25.4, \"city_Detroit\": 1, \"city_San Diego\": 0, \"city_San Francisco\": 0, \"city\": \"Detroit\", \"day\": 31, \"month\": 12, \"year\": 2012, \"hour\": 22, \"day_of_week\": 0, \"pred\": 25.0}, {\"datetime\": \"2012-12-31T23:00:00\", \"temperature\": 52.9, \"city_Detroit\": 0, \"city_San Diego\": 1, \"city_San Francisco\": 0, \"city\": \"San Diego\", \"day\": 31, \"month\": 12, \"year\": 2012, \"hour\": 23, \"day_of_week\": 0, \"pred\": 52.9}, {\"datetime\": \"2012-12-31T23:00:00\", \"temperature\": 23.8, \"city_Detroit\": 1, \"city_San Diego\": 0, \"city_San Francisco\": 0, \"city\": \"Detroit\", \"day\": 31, \"month\": 12, \"year\": 2012, \"hour\": 23, \"day_of_week\": 0, \"pred\": 25.0}, {\"datetime\": \"2012-12-31T23:00:00\", \"temperature\": 52.6, \"city_Detroit\": 0, \"city_San Diego\": 0, \"city_San Francisco\": 1, \"city\": \"San Francisco\", \"day\": 31, \"month\": 12, \"year\": 2012, \"hour\": 23, \"day_of_week\": 0, \"pred\": 52.36666666666667}, {\"datetime\": \"2013-01-01T00:00:00\", \"temperature\": 22.2, \"city_Detroit\": 1, \"city_San Diego\": 0, \"city_San Francisco\": 0, \"city\": \"Detroit\", \"day\": 1, \"month\": 1, \"year\": 2013, \"hour\": 0, \"day_of_week\": 1, \"pred\": 22.03333333333333}, {\"datetime\": \"2013-01-01T00:00:00\", \"temperature\": 51.0, \"city_Detroit\": 0, \"city_San Diego\": 1, \"city_San Francisco\": 0, \"city\": \"San Diego\", \"day\": 1, \"month\": 1, \"year\": 2013, \"hour\": 0, \"day_of_week\": 1, \"pred\": 51.0}, {\"datetime\": \"2013-01-01T00:00:00\", \"temperature\": 52.7, \"city_Detroit\": 0, \"city_San Diego\": 0, \"city_San Francisco\": 1, \"city\": \"San Francisco\", \"day\": 1, \"month\": 1, \"year\": 2013, \"hour\": 0, \"day_of_week\": 1, \"pred\": 52.7}, {\"datetime\": \"2013-01-01T01:00:00\", \"temperature\": 22.4, \"city_Detroit\": 1, \"city_San Diego\": 0, \"city_San Francisco\": 0, \"city\": \"Detroit\", \"day\": 1, \"month\": 1, \"year\": 2013, \"hour\": 1, \"day_of_week\": 1, \"pred\": 22.03333333333333}, {\"datetime\": \"2013-01-01T01:00:00\", \"temperature\": 48.1, \"city_Detroit\": 0, \"city_San Diego\": 1, \"city_San Francisco\": 0, \"city\": \"San Diego\", \"day\": 1, \"month\": 1, \"year\": 2013, \"hour\": 1, \"day_of_week\": 1, \"pred\": 48.1}, {\"datetime\": \"2013-01-01T01:00:00\", \"temperature\": 50.4, \"city_Detroit\": 0, \"city_San Diego\": 0, \"city_San Francisco\": 1, \"city\": \"San Francisco\", \"day\": 1, \"month\": 1, \"year\": 2013, \"hour\": 1, \"day_of_week\": 1, \"pred\": 48.980000000000004}, {\"datetime\": \"2013-01-01T02:00:00\", \"temperature\": 46.7, \"city_Detroit\": 0, \"city_San Diego\": 1, \"city_San Francisco\": 0, \"city\": \"San Diego\", \"day\": 1, \"month\": 1, \"year\": 2013, \"hour\": 2, \"day_of_week\": 1, \"pred\": 46.7}, {\"datetime\": \"2013-01-01T02:00:00\", \"temperature\": 46.4, \"city_Detroit\": 0, \"city_San Diego\": 0, \"city_San Francisco\": 1, \"city\": \"San Francisco\", \"day\": 1, \"month\": 1, \"year\": 2013, \"hour\": 2, \"day_of_week\": 1, \"pred\": 46.925}, {\"datetime\": \"2013-01-01T02:00:00\", \"temperature\": 21.5, \"city_Detroit\": 1, \"city_San Diego\": 0, \"city_San Francisco\": 0, \"city\": \"Detroit\", \"day\": 1, \"month\": 1, \"year\": 2013, \"hour\": 2, \"day_of_week\": 1, \"pred\": 22.03333333333333}, {\"datetime\": \"2013-01-01T03:00:00\", \"temperature\": 46.5, \"city_Detroit\": 0, \"city_San Diego\": 1, \"city_San Francisco\": 0, \"city\": \"San Diego\", \"day\": 1, \"month\": 1, \"year\": 2013, \"hour\": 3, \"day_of_week\": 1, \"pred\": 46.5}, {\"datetime\": \"2013-01-01T03:00:00\", \"temperature\": 45.1, \"city_Detroit\": 0, \"city_San Diego\": 0, \"city_San Francisco\": 1, \"city\": \"San Francisco\", \"day\": 1, \"month\": 1, \"year\": 2013, \"hour\": 3, \"day_of_week\": 1, \"pred\": 44.95}, {\"datetime\": \"2013-01-01T03:00:00\", \"temperature\": 20.6, \"city_Detroit\": 1, \"city_San Diego\": 0, \"city_San Francisco\": 0, \"city\": \"Detroit\", \"day\": 1, \"month\": 1, \"year\": 2013, \"hour\": 3, \"day_of_week\": 1, \"pred\": 20.500000000000004}, {\"datetime\": \"2013-01-01T04:00:00\", \"temperature\": 45.4, \"city_Detroit\": 0, \"city_San Diego\": 1, \"city_San Francisco\": 0, \"city\": \"San Diego\", \"day\": 1, \"month\": 1, \"year\": 2013, \"hour\": 4, \"day_of_week\": 1, \"pred\": 45.375}, {\"datetime\": \"2013-01-01T04:00:00\", \"temperature\": 44.3, \"city_Detroit\": 0, \"city_San Diego\": 0, \"city_San Francisco\": 1, \"city\": \"San Francisco\", \"day\": 1, \"month\": 1, \"year\": 2013, \"hour\": 4, \"day_of_week\": 1, \"pred\": 45.0}, {\"datetime\": \"2013-01-01T04:00:00\", \"temperature\": 20.6, \"city_Detroit\": 1, \"city_San Diego\": 0, \"city_San Francisco\": 0, \"city\": \"Detroit\", \"day\": 1, \"month\": 1, \"year\": 2013, \"hour\": 4, \"day_of_week\": 1, \"pred\": 20.500000000000004}, {\"datetime\": \"2013-01-01T05:00:00\", \"temperature\": 43.1, \"city_Detroit\": 0, \"city_San Diego\": 0, \"city_San Francisco\": 1, \"city\": \"San Francisco\", \"day\": 1, \"month\": 1, \"year\": 2013, \"hour\": 5, \"day_of_week\": 1, \"pred\": 42.4}, {\"datetime\": \"2013-01-01T05:00:00\", \"temperature\": 44.0, \"city_Detroit\": 0, \"city_San Diego\": 1, \"city_San Francisco\": 0, \"city\": \"San Diego\", \"day\": 1, \"month\": 1, \"year\": 2013, \"hour\": 5, \"day_of_week\": 1, \"pred\": 45.375}, {\"datetime\": \"2013-01-01T05:00:00\", \"temperature\": 20.3, \"city_Detroit\": 1, \"city_San Diego\": 0, \"city_San Francisco\": 0, \"city\": \"Detroit\", \"day\": 1, \"month\": 1, \"year\": 2013, \"hour\": 5, \"day_of_week\": 1, \"pred\": 20.500000000000004}, {\"datetime\": \"2013-01-01T06:00:00\", \"temperature\": 41.6, \"city_Detroit\": 0, \"city_San Diego\": 1, \"city_San Francisco\": 0, \"city\": \"San Diego\", \"day\": 1, \"month\": 1, \"year\": 2013, \"hour\": 6, \"day_of_week\": 1, \"pred\": 42.030000000000015}, {\"datetime\": \"2013-01-01T06:00:00\", \"temperature\": 42.5, \"city_Detroit\": 0, \"city_San Diego\": 0, \"city_San Francisco\": 1, \"city\": \"San Francisco\", \"day\": 1, \"month\": 1, \"year\": 2013, \"hour\": 6, \"day_of_week\": 1, \"pred\": 42.4}, {\"datetime\": \"2013-01-01T06:00:00\", \"temperature\": 25.3, \"city_Detroit\": 1, \"city_San Diego\": 0, \"city_San Francisco\": 0, \"city\": \"Detroit\", \"day\": 1, \"month\": 1, \"year\": 2013, \"hour\": 6, \"day_of_week\": 1, \"pred\": 25.3}, {\"datetime\": \"2013-01-01T07:00:00\", \"temperature\": 42.0, \"city_Detroit\": 0, \"city_San Diego\": 1, \"city_San Francisco\": 0, \"city\": \"San Diego\", \"day\": 1, \"month\": 1, \"year\": 2013, \"hour\": 7, \"day_of_week\": 1, \"pred\": 42.030000000000015}, {\"datetime\": \"2013-01-01T07:00:00\", \"temperature\": 22.7, \"city_Detroit\": 1, \"city_San Diego\": 0, \"city_San Francisco\": 0, \"city\": \"Detroit\", \"day\": 1, \"month\": 1, \"year\": 2013, \"hour\": 7, \"day_of_week\": 1, \"pred\": 23.666666666666668}, {\"datetime\": \"2013-01-01T07:00:00\", \"temperature\": 42.3, \"city_Detroit\": 0, \"city_San Diego\": 0, \"city_San Francisco\": 1, \"city\": \"San Francisco\", \"day\": 1, \"month\": 1, \"year\": 2013, \"hour\": 7, \"day_of_week\": 1, \"pred\": 42.4}, {\"datetime\": \"2013-01-01T08:00:00\", \"temperature\": 23.3, \"city_Detroit\": 1, \"city_San Diego\": 0, \"city_San Francisco\": 0, \"city\": \"Detroit\", \"day\": 1, \"month\": 1, \"year\": 2013, \"hour\": 8, \"day_of_week\": 1, \"pred\": 23.666666666666668}, {\"datetime\": \"2013-01-01T08:00:00\", \"temperature\": 42.2, \"city_Detroit\": 0, \"city_San Diego\": 0, \"city_San Francisco\": 1, \"city\": \"San Francisco\", \"day\": 1, \"month\": 1, \"year\": 2013, \"hour\": 8, \"day_of_week\": 1, \"pred\": 42.4}, {\"datetime\": \"2013-01-01T08:00:00\", \"temperature\": 41.3, \"city_Detroit\": 0, \"city_San Diego\": 1, \"city_San Francisco\": 0, \"city\": \"San Diego\", \"day\": 1, \"month\": 1, \"year\": 2013, \"hour\": 8, \"day_of_week\": 1, \"pred\": 42.030000000000015}, {\"datetime\": \"2013-01-01T09:00:00\", \"temperature\": 40.8, \"city_Detroit\": 0, \"city_San Diego\": 0, \"city_San Francisco\": 1, \"city\": \"San Francisco\", \"day\": 1, \"month\": 1, \"year\": 2013, \"hour\": 9, \"day_of_week\": 1, \"pred\": 39.80625}, {\"datetime\": \"2013-01-01T09:00:00\", \"temperature\": 41.0, \"city_Detroit\": 0, \"city_San Diego\": 1, \"city_San Francisco\": 0, \"city\": \"San Diego\", \"day\": 1, \"month\": 1, \"year\": 2013, \"hour\": 9, \"day_of_week\": 1, \"pred\": 42.030000000000015}, {\"datetime\": \"2013-01-01T09:00:00\", \"temperature\": 25.0, \"city_Detroit\": 1, \"city_San Diego\": 0, \"city_San Francisco\": 0, \"city\": \"Detroit\", \"day\": 1, \"month\": 1, \"year\": 2013, \"hour\": 9, \"day_of_week\": 1, \"pred\": 23.666666666666668}, {\"datetime\": \"2013-01-01T10:00:00\", \"temperature\": 25.9, \"city_Detroit\": 1, \"city_San Diego\": 0, \"city_San Francisco\": 0, \"city\": \"Detroit\", \"day\": 1, \"month\": 1, \"year\": 2013, \"hour\": 10, \"day_of_week\": 1, \"pred\": 26.2}, {\"datetime\": \"2013-01-01T10:00:00\", \"temperature\": 39.4, \"city_Detroit\": 0, \"city_San Diego\": 0, \"city_San Francisco\": 1, \"city\": \"San Francisco\", \"day\": 1, \"month\": 1, \"year\": 2013, \"hour\": 10, \"day_of_week\": 1, \"pred\": 39.80625}, {\"datetime\": \"2013-01-01T10:00:00\", \"temperature\": 40.7, \"city_Detroit\": 0, \"city_San Diego\": 1, \"city_San Francisco\": 0, \"city\": \"San Diego\", \"day\": 1, \"month\": 1, \"year\": 2013, \"hour\": 10, \"day_of_week\": 1, \"pred\": 42.030000000000015}, {\"datetime\": \"2013-01-01T11:00:00\", \"temperature\": 38.8, \"city_Detroit\": 0, \"city_San Diego\": 0, \"city_San Francisco\": 1, \"city\": \"San Francisco\", \"day\": 1, \"month\": 1, \"year\": 2013, \"hour\": 11, \"day_of_week\": 1, \"pred\": 39.80625}, {\"datetime\": \"2013-01-01T11:00:00\", \"temperature\": 26.5, \"city_Detroit\": 1, \"city_San Diego\": 0, \"city_San Francisco\": 0, \"city\": \"Detroit\", \"day\": 1, \"month\": 1, \"year\": 2013, \"hour\": 11, \"day_of_week\": 1, \"pred\": 26.2}, {\"datetime\": \"2013-01-01T11:00:00\", \"temperature\": 39.9, \"city_Detroit\": 0, \"city_San Diego\": 1, \"city_San Francisco\": 0, \"city\": \"San Diego\", \"day\": 1, \"month\": 1, \"year\": 2013, \"hour\": 11, \"day_of_week\": 1, \"pred\": 42.030000000000015}, {\"datetime\": \"2013-01-01T12:00:00\", \"temperature\": 38.7, \"city_Detroit\": 0, \"city_San Diego\": 1, \"city_San Francisco\": 0, \"city\": \"San Diego\", \"day\": 1, \"month\": 1, \"year\": 2013, \"hour\": 12, \"day_of_week\": 1, \"pred\": 42.030000000000015}, {\"datetime\": \"2013-01-01T12:00:00\", \"temperature\": 38.4, \"city_Detroit\": 0, \"city_San Diego\": 0, \"city_San Francisco\": 1, \"city\": \"San Francisco\", \"day\": 1, \"month\": 1, \"year\": 2013, \"hour\": 12, \"day_of_week\": 1, \"pred\": 39.80625}, {\"datetime\": \"2013-01-01T12:00:00\", \"temperature\": 27.3, \"city_Detroit\": 1, \"city_San Diego\": 0, \"city_San Francisco\": 0, \"city\": \"Detroit\", \"day\": 1, \"month\": 1, \"year\": 2013, \"hour\": 12, \"day_of_week\": 1, \"pred\": 27.450000000000003}, {\"datetime\": \"2013-01-01T13:00:00\", \"temperature\": 38.4, \"city_Detroit\": 0, \"city_San Diego\": 1, \"city_San Francisco\": 0, \"city\": \"San Diego\", \"day\": 1, \"month\": 1, \"year\": 2013, \"hour\": 13, \"day_of_week\": 1, \"pred\": 42.030000000000015}, {\"datetime\": \"2013-01-01T13:00:00\", \"temperature\": 38.1, \"city_Detroit\": 0, \"city_San Diego\": 0, \"city_San Francisco\": 1, \"city\": \"San Francisco\", \"day\": 1, \"month\": 1, \"year\": 2013, \"hour\": 13, \"day_of_week\": 1, \"pred\": 39.80625}, {\"datetime\": \"2013-01-01T13:00:00\", \"temperature\": 27.6, \"city_Detroit\": 1, \"city_San Diego\": 0, \"city_San Francisco\": 0, \"city\": \"Detroit\", \"day\": 1, \"month\": 1, \"year\": 2013, \"hour\": 13, \"day_of_week\": 1, \"pred\": 27.450000000000003}, {\"datetime\": \"2013-01-01T14:00:00\", \"temperature\": 37.2, \"city_Detroit\": 0, \"city_San Diego\": 1, \"city_San Francisco\": 0, \"city\": \"San Diego\", \"day\": 1, \"month\": 1, \"year\": 2013, \"hour\": 14, \"day_of_week\": 1, \"pred\": 42.030000000000015}, {\"datetime\": \"2013-01-01T14:00:00\", \"temperature\": 37.8, \"city_Detroit\": 0, \"city_San Diego\": 0, \"city_San Francisco\": 1, \"city\": \"San Francisco\", \"day\": 1, \"month\": 1, \"year\": 2013, \"hour\": 14, \"day_of_week\": 1, \"pred\": 39.80625}, {\"datetime\": \"2013-01-01T14:00:00\", \"temperature\": 28.8, \"city_Detroit\": 1, \"city_San Diego\": 0, \"city_San Francisco\": 0, \"city\": \"Detroit\", \"day\": 1, \"month\": 1, \"year\": 2013, \"hour\": 14, \"day_of_week\": 1, \"pred\": 29.35}, {\"datetime\": \"2013-01-01T15:00:00\", \"temperature\": 29.9, \"city_Detroit\": 1, \"city_San Diego\": 0, \"city_San Francisco\": 0, \"city\": \"Detroit\", \"day\": 1, \"month\": 1, \"year\": 2013, \"hour\": 15, \"day_of_week\": 1, \"pred\": 29.35}, {\"datetime\": \"2013-01-01T15:00:00\", \"temperature\": 39.0, \"city_Detroit\": 0, \"city_San Diego\": 1, \"city_San Francisco\": 0, \"city\": \"San Diego\", \"day\": 1, \"month\": 1, \"year\": 2013, \"hour\": 15, \"day_of_week\": 1, \"pred\": 42.030000000000015}, {\"datetime\": \"2013-01-01T15:00:00\", \"temperature\": 37.9, \"city_Detroit\": 0, \"city_San Diego\": 0, \"city_San Francisco\": 1, \"city\": \"San Francisco\", \"day\": 1, \"month\": 1, \"year\": 2013, \"hour\": 15, \"day_of_week\": 1, \"pred\": 39.80625}, {\"datetime\": \"2013-01-01T16:00:00\", \"temperature\": 37.1, \"city_Detroit\": 0, \"city_San Diego\": 0, \"city_San Francisco\": 1, \"city\": \"San Francisco\", \"day\": 1, \"month\": 1, \"year\": 2013, \"hour\": 16, \"day_of_week\": 1, \"pred\": 39.80625}, {\"datetime\": \"2013-01-01T16:00:00\", \"temperature\": 31.9, \"city_Detroit\": 1, \"city_San Diego\": 0, \"city_San Francisco\": 0, \"city\": \"Detroit\", \"day\": 1, \"month\": 1, \"year\": 2013, \"hour\": 16, \"day_of_week\": 1, \"pred\": 31.9}, {\"datetime\": \"2013-01-01T16:00:00\", \"temperature\": 41.8, \"city_Detroit\": 0, \"city_San Diego\": 1, \"city_San Francisco\": 0, \"city\": \"San Diego\", \"day\": 1, \"month\": 1, \"year\": 2013, \"hour\": 16, \"day_of_week\": 1, \"pred\": 46.14}, {\"datetime\": \"2013-01-01T17:00:00\", \"temperature\": 42.7, \"city_Detroit\": 0, \"city_San Diego\": 0, \"city_San Francisco\": 1, \"city\": \"San Francisco\", \"day\": 1, \"month\": 1, \"year\": 2013, \"hour\": 17, \"day_of_week\": 1, \"pred\": 43.5}, {\"datetime\": \"2013-01-01T17:00:00\", \"temperature\": 32.9, \"city_Detroit\": 1, \"city_San Diego\": 0, \"city_San Francisco\": 0, \"city\": \"Detroit\", \"day\": 1, \"month\": 1, \"year\": 2013, \"hour\": 17, \"day_of_week\": 1, \"pred\": 32.9}, {\"datetime\": \"2013-01-01T17:00:00\", \"temperature\": 48.2, \"city_Detroit\": 0, \"city_San Diego\": 1, \"city_San Francisco\": 0, \"city\": \"San Diego\", \"day\": 1, \"month\": 1, \"year\": 2013, \"hour\": 17, \"day_of_week\": 1, \"pred\": 48.2}, {\"datetime\": \"2013-01-01T18:00:00\", \"temperature\": 47.3, \"city_Detroit\": 0, \"city_San Diego\": 0, \"city_San Francisco\": 1, \"city\": \"San Francisco\", \"day\": 1, \"month\": 1, \"year\": 2013, \"hour\": 18, \"day_of_week\": 1, \"pred\": 47.3}, {\"datetime\": \"2013-01-01T18:00:00\", \"temperature\": 34.0, \"city_Detroit\": 1, \"city_San Diego\": 0, \"city_San Francisco\": 0, \"city\": \"Detroit\", \"day\": 1, \"month\": 1, \"year\": 2013, \"hour\": 18, \"day_of_week\": 1, \"pred\": 34.0}, {\"datetime\": \"2013-01-01T18:00:00\", \"temperature\": 51.2, \"city_Detroit\": 0, \"city_San Diego\": 1, \"city_San Francisco\": 0, \"city\": \"San Diego\", \"day\": 1, \"month\": 1, \"year\": 2013, \"hour\": 18, \"day_of_week\": 1, \"pred\": 51.2}, {\"datetime\": \"2013-01-01T19:00:00\", \"temperature\": 48.6, \"city_Detroit\": 0, \"city_San Diego\": 0, \"city_San Francisco\": 1, \"city\": \"San Francisco\", \"day\": 1, \"month\": 1, \"year\": 2013, \"hour\": 19, \"day_of_week\": 1, \"pred\": 48.3}, {\"datetime\": \"2013-01-01T19:00:00\", \"temperature\": 34.2, \"city_Detroit\": 1, \"city_San Diego\": 0, \"city_San Francisco\": 0, \"city\": \"Detroit\", \"day\": 1, \"month\": 1, \"year\": 2013, \"hour\": 19, \"day_of_week\": 1, \"pred\": 34.2}, {\"datetime\": \"2013-01-01T19:00:00\", \"temperature\": 54.8, \"city_Detroit\": 0, \"city_San Diego\": 1, \"city_San Francisco\": 0, \"city\": \"San Diego\", \"day\": 1, \"month\": 1, \"year\": 2013, \"hour\": 19, \"day_of_week\": 1, \"pred\": 56.720000000000006}, {\"datetime\": \"2013-01-01T20:00:00\", \"temperature\": 49.6, \"city_Detroit\": 0, \"city_San Diego\": 0, \"city_San Francisco\": 1, \"city\": \"San Francisco\", \"day\": 1, \"month\": 1, \"year\": 2013, \"hour\": 20, \"day_of_week\": 1, \"pred\": 49.6}, {\"datetime\": \"2013-01-01T20:00:00\", \"temperature\": 56.3, \"city_Detroit\": 0, \"city_San Diego\": 1, \"city_San Francisco\": 0, \"city\": \"San Diego\", \"day\": 1, \"month\": 1, \"year\": 2013, \"hour\": 20, \"day_of_week\": 1, \"pred\": 56.720000000000006}, {\"datetime\": \"2013-01-01T20:00:00\", \"temperature\": 34.5, \"city_Detroit\": 1, \"city_San Diego\": 0, \"city_San Francisco\": 0, \"city\": \"Detroit\", \"day\": 1, \"month\": 1, \"year\": 2013, \"hour\": 20, \"day_of_week\": 1, \"pred\": 34.5}, {\"datetime\": \"2013-01-01T21:00:00\", \"temperature\": 50.2, \"city_Detroit\": 0, \"city_San Diego\": 0, \"city_San Francisco\": 1, \"city\": \"San Francisco\", \"day\": 1, \"month\": 1, \"year\": 2013, \"hour\": 21, \"day_of_week\": 1, \"pred\": 50.2}, {\"datetime\": \"2013-01-01T21:00:00\", \"temperature\": 57.7, \"city_Detroit\": 0, \"city_San Diego\": 1, \"city_San Francisco\": 0, \"city\": \"San Diego\", \"day\": 1, \"month\": 1, \"year\": 2013, \"hour\": 21, \"day_of_week\": 1, \"pred\": 56.720000000000006}, {\"datetime\": \"2013-01-01T21:00:00\", \"temperature\": 35.0, \"city_Detroit\": 1, \"city_San Diego\": 0, \"city_San Francisco\": 0, \"city\": \"Detroit\", \"day\": 1, \"month\": 1, \"year\": 2013, \"hour\": 21, \"day_of_week\": 1, \"pred\": 34.9}, {\"datetime\": \"2013-01-01T22:00:00\", \"temperature\": 57.6, \"city_Detroit\": 0, \"city_San Diego\": 1, \"city_San Francisco\": 0, \"city\": \"San Diego\", \"day\": 1, \"month\": 1, \"year\": 2013, \"hour\": 22, \"day_of_week\": 1, \"pred\": 56.720000000000006}, {\"datetime\": \"2013-01-01T22:00:00\", \"temperature\": 34.8, \"city_Detroit\": 1, \"city_San Diego\": 0, \"city_San Francisco\": 0, \"city\": \"Detroit\", \"day\": 1, \"month\": 1, \"year\": 2013, \"hour\": 22, \"day_of_week\": 1, \"pred\": 34.9}, {\"datetime\": \"2013-01-01T22:00:00\", \"temperature\": 50.6, \"city_Detroit\": 0, \"city_San Diego\": 0, \"city_San Francisco\": 1, \"city\": \"San Francisco\", \"day\": 1, \"month\": 1, \"year\": 2013, \"hour\": 22, \"day_of_week\": 1, \"pred\": 51.300000000000004}, {\"datetime\": \"2013-01-01T23:00:00\", \"temperature\": 34.4, \"city_Detroit\": 1, \"city_San Diego\": 0, \"city_San Francisco\": 0, \"city\": \"Detroit\", \"day\": 1, \"month\": 1, \"year\": 2013, \"hour\": 23, \"day_of_week\": 1, \"pred\": 34.4}, {\"datetime\": \"2013-01-01T23:00:00\", \"temperature\": 51.1, \"city_Detroit\": 0, \"city_San Diego\": 0, \"city_San Francisco\": 1, \"city\": \"San Francisco\", \"day\": 1, \"month\": 1, \"year\": 2013, \"hour\": 23, \"day_of_week\": 1, \"pred\": 51.300000000000004}, {\"datetime\": \"2013-01-01T23:00:00\", \"temperature\": 57.2, \"city_Detroit\": 0, \"city_San Diego\": 1, \"city_San Francisco\": 0, \"city\": \"San Diego\", \"day\": 1, \"month\": 1, \"year\": 2013, \"hour\": 23, \"day_of_week\": 1, \"pred\": 56.720000000000006}, {\"datetime\": \"2013-01-02T00:00:00\", \"temperature\": 34.8, \"city_Detroit\": 1, \"city_San Diego\": 0, \"city_San Francisco\": 0, \"city\": \"Detroit\", \"day\": 2, \"month\": 1, \"year\": 2013, \"hour\": 0, \"day_of_week\": 2, \"pred\": 34.266666666666666}, {\"datetime\": \"2013-01-02T00:00:00\", \"temperature\": 54.8, \"city_Detroit\": 0, \"city_San Diego\": 1, \"city_San Francisco\": 0, \"city\": \"San Diego\", \"day\": 2, \"month\": 1, \"year\": 2013, \"hour\": 0, \"day_of_week\": 2, \"pred\": 54.8}, {\"datetime\": \"2013-01-02T00:00:00\", \"temperature\": 50.4, \"city_Detroit\": 0, \"city_San Diego\": 0, \"city_San Francisco\": 1, \"city\": \"San Francisco\", \"day\": 2, \"month\": 1, \"year\": 2013, \"hour\": 0, \"day_of_week\": 2, \"pred\": 51.7}, {\"datetime\": \"2013-01-02T01:00:00\", \"temperature\": 48.4, \"city_Detroit\": 0, \"city_San Diego\": 0, \"city_San Francisco\": 1, \"city\": \"San Francisco\", \"day\": 2, \"month\": 1, \"year\": 2013, \"hour\": 1, \"day_of_week\": 2, \"pred\": 48.980000000000004}, {\"datetime\": \"2013-01-02T01:00:00\", \"temperature\": 34.2, \"city_Detroit\": 1, \"city_San Diego\": 0, \"city_San Francisco\": 0, \"city\": \"Detroit\", \"day\": 2, \"month\": 1, \"year\": 2013, \"hour\": 1, \"day_of_week\": 2, \"pred\": 34.266666666666666}, {\"datetime\": \"2013-01-02T01:00:00\", \"temperature\": 52.2, \"city_Detroit\": 0, \"city_San Diego\": 1, \"city_San Francisco\": 0, \"city\": \"San Diego\", \"day\": 2, \"month\": 1, \"year\": 2013, \"hour\": 1, \"day_of_week\": 2, \"pred\": 52.2}, {\"datetime\": \"2013-01-02T02:00:00\", \"temperature\": 33.8, \"city_Detroit\": 1, \"city_San Diego\": 0, \"city_San Francisco\": 0, \"city\": \"Detroit\", \"day\": 2, \"month\": 1, \"year\": 2013, \"hour\": 2, \"day_of_week\": 2, \"pred\": 34.266666666666666}, {\"datetime\": \"2013-01-02T02:00:00\", \"temperature\": 47.1, \"city_Detroit\": 0, \"city_San Diego\": 0, \"city_San Francisco\": 1, \"city\": \"San Francisco\", \"day\": 2, \"month\": 1, \"year\": 2013, \"hour\": 2, \"day_of_week\": 2, \"pred\": 46.925}, {\"datetime\": \"2013-01-02T02:00:00\", \"temperature\": 50.2, \"city_Detroit\": 0, \"city_San Diego\": 1, \"city_San Francisco\": 0, \"city\": \"San Diego\", \"day\": 2, \"month\": 1, \"year\": 2013, \"hour\": 2, \"day_of_week\": 2, \"pred\": 50.2}, {\"datetime\": \"2013-01-02T03:00:00\", \"temperature\": 48.0, \"city_Detroit\": 0, \"city_San Diego\": 1, \"city_San Francisco\": 0, \"city\": \"San Diego\", \"day\": 2, \"month\": 1, \"year\": 2013, \"hour\": 3, \"day_of_week\": 2, \"pred\": 48.0}, {\"datetime\": \"2013-01-02T03:00:00\", \"temperature\": 32.6, \"city_Detroit\": 1, \"city_San Diego\": 0, \"city_San Francisco\": 0, \"city\": \"Detroit\", \"day\": 2, \"month\": 1, \"year\": 2013, \"hour\": 3, \"day_of_week\": 2, \"pred\": 32.6}, {\"datetime\": \"2013-01-02T03:00:00\", \"temperature\": 46.1, \"city_Detroit\": 0, \"city_San Diego\": 0, \"city_San Francisco\": 1, \"city\": \"San Francisco\", \"day\": 2, \"month\": 1, \"year\": 2013, \"hour\": 3, \"day_of_week\": 2, \"pred\": 44.95}, {\"datetime\": \"2013-01-02T04:00:00\", \"temperature\": 31.6, \"city_Detroit\": 1, \"city_San Diego\": 0, \"city_San Francisco\": 0, \"city\": \"Detroit\", \"day\": 2, \"month\": 1, \"year\": 2013, \"hour\": 4, \"day_of_week\": 2, \"pred\": 30.833333333333332}, {\"datetime\": \"2013-01-02T04:00:00\", \"temperature\": 45.7, \"city_Detroit\": 0, \"city_San Diego\": 0, \"city_San Francisco\": 1, \"city\": \"San Francisco\", \"day\": 2, \"month\": 1, \"year\": 2013, \"hour\": 4, \"day_of_week\": 2, \"pred\": 45.0}, {\"datetime\": \"2013-01-02T04:00:00\", \"temperature\": 46.8, \"city_Detroit\": 0, \"city_San Diego\": 1, \"city_San Francisco\": 0, \"city\": \"San Diego\", \"day\": 2, \"month\": 1, \"year\": 2013, \"hour\": 4, \"day_of_week\": 2, \"pred\": 45.375}, {\"datetime\": \"2013-01-02T05:00:00\", \"temperature\": 30.6, \"city_Detroit\": 1, \"city_San Diego\": 0, \"city_San Francisco\": 0, \"city\": \"Detroit\", \"day\": 2, \"month\": 1, \"year\": 2013, \"hour\": 5, \"day_of_week\": 2, \"pred\": 30.833333333333332}, {\"datetime\": \"2013-01-02T05:00:00\", \"temperature\": 43.6, \"city_Detroit\": 0, \"city_San Diego\": 0, \"city_San Francisco\": 1, \"city\": \"San Francisco\", \"day\": 2, \"month\": 1, \"year\": 2013, \"hour\": 5, \"day_of_week\": 2, \"pred\": 42.4}, {\"datetime\": \"2013-01-02T05:00:00\", \"temperature\": 45.3, \"city_Detroit\": 0, \"city_San Diego\": 1, \"city_San Francisco\": 0, \"city\": \"San Diego\", \"day\": 2, \"month\": 1, \"year\": 2013, \"hour\": 5, \"day_of_week\": 2, \"pred\": 45.375}, {\"datetime\": \"2013-01-02T06:00:00\", \"temperature\": 42.3, \"city_Detroit\": 0, \"city_San Diego\": 0, \"city_San Francisco\": 1, \"city\": \"San Francisco\", \"day\": 2, \"month\": 1, \"year\": 2013, \"hour\": 6, \"day_of_week\": 2, \"pred\": 42.4}, {\"datetime\": \"2013-01-02T06:00:00\", \"temperature\": 30.3, \"city_Detroit\": 1, \"city_San Diego\": 0, \"city_San Francisco\": 0, \"city\": \"Detroit\", \"day\": 2, \"month\": 1, \"year\": 2013, \"hour\": 6, \"day_of_week\": 2, \"pred\": 30.833333333333332}, {\"datetime\": \"2013-01-02T06:00:00\", \"temperature\": 44.5, \"city_Detroit\": 0, \"city_San Diego\": 1, \"city_San Francisco\": 0, \"city\": \"San Diego\", \"day\": 2, \"month\": 1, \"year\": 2013, \"hour\": 6, \"day_of_week\": 2, \"pred\": 42.030000000000015}, {\"datetime\": \"2013-01-02T07:00:00\", \"temperature\": 44.1, \"city_Detroit\": 0, \"city_San Diego\": 1, \"city_San Francisco\": 0, \"city\": \"San Diego\", \"day\": 2, \"month\": 1, \"year\": 2013, \"hour\": 7, \"day_of_week\": 2, \"pred\": 42.030000000000015}, {\"datetime\": \"2013-01-02T07:00:00\", \"temperature\": 41.8, \"city_Detroit\": 0, \"city_San Diego\": 0, \"city_San Francisco\": 1, \"city\": \"San Francisco\", \"day\": 2, \"month\": 1, \"year\": 2013, \"hour\": 7, \"day_of_week\": 2, \"pred\": 42.4}, {\"datetime\": \"2013-01-02T07:00:00\", \"temperature\": 29.6, \"city_Detroit\": 1, \"city_San Diego\": 0, \"city_San Francisco\": 0, \"city\": \"Detroit\", \"day\": 2, \"month\": 1, \"year\": 2013, \"hour\": 7, \"day_of_week\": 2, \"pred\": 29.450000000000003}, {\"datetime\": \"2013-01-02T08:00:00\", \"temperature\": 44.0, \"city_Detroit\": 0, \"city_San Diego\": 1, \"city_San Francisco\": 0, \"city\": \"San Diego\", \"day\": 2, \"month\": 1, \"year\": 2013, \"hour\": 8, \"day_of_week\": 2, \"pred\": 42.030000000000015}, {\"datetime\": \"2013-01-02T08:00:00\", \"temperature\": 41.4, \"city_Detroit\": 0, \"city_San Diego\": 0, \"city_San Francisco\": 1, \"city\": \"San Francisco\", \"day\": 2, \"month\": 1, \"year\": 2013, \"hour\": 8, \"day_of_week\": 2, \"pred\": 42.4}, {\"datetime\": \"2013-01-02T08:00:00\", \"temperature\": 29.3, \"city_Detroit\": 1, \"city_San Diego\": 0, \"city_San Francisco\": 0, \"city\": \"Detroit\", \"day\": 2, \"month\": 1, \"year\": 2013, \"hour\": 8, \"day_of_week\": 2, \"pred\": 29.450000000000003}, {\"datetime\": \"2013-01-02T09:00:00\", \"temperature\": 43.8, \"city_Detroit\": 0, \"city_San Diego\": 1, \"city_San Francisco\": 0, \"city\": \"San Diego\", \"day\": 2, \"month\": 1, \"year\": 2013, \"hour\": 9, \"day_of_week\": 2, \"pred\": 42.030000000000015}, {\"datetime\": \"2013-01-02T09:00:00\", \"temperature\": 40.5, \"city_Detroit\": 0, \"city_San Diego\": 0, \"city_San Francisco\": 1, \"city\": \"San Francisco\", \"day\": 2, \"month\": 1, \"year\": 2013, \"hour\": 9, \"day_of_week\": 2, \"pred\": 39.80625}, {\"datetime\": \"2013-01-02T09:00:00\", \"temperature\": 27.9, \"city_Detroit\": 1, \"city_San Diego\": 0, \"city_San Francisco\": 0, \"city\": \"Detroit\", \"day\": 2, \"month\": 1, \"year\": 2013, \"hour\": 9, \"day_of_week\": 2, \"pred\": 27.6}, {\"datetime\": \"2013-01-02T10:00:00\", \"temperature\": 40.3, \"city_Detroit\": 0, \"city_San Diego\": 0, \"city_San Francisco\": 1, \"city\": \"San Francisco\", \"day\": 2, \"month\": 1, \"year\": 2013, \"hour\": 10, \"day_of_week\": 2, \"pred\": 39.80625}, {\"datetime\": \"2013-01-02T10:00:00\", \"temperature\": 27.3, \"city_Detroit\": 1, \"city_San Diego\": 0, \"city_San Francisco\": 0, \"city\": \"Detroit\", \"day\": 2, \"month\": 1, \"year\": 2013, \"hour\": 10, \"day_of_week\": 2, \"pred\": 27.6}, {\"datetime\": \"2013-01-02T10:00:00\", \"temperature\": 44.0, \"city_Detroit\": 0, \"city_San Diego\": 1, \"city_San Francisco\": 0, \"city\": \"San Diego\", \"day\": 2, \"month\": 1, \"year\": 2013, \"hour\": 10, \"day_of_week\": 2, \"pred\": 42.030000000000015}, {\"datetime\": \"2013-01-02T11:00:00\", \"temperature\": 43.5, \"city_Detroit\": 0, \"city_San Diego\": 1, \"city_San Francisco\": 0, \"city\": \"San Diego\", \"day\": 2, \"month\": 1, \"year\": 2013, \"hour\": 11, \"day_of_week\": 2, \"pred\": 42.030000000000015}, {\"datetime\": \"2013-01-02T11:00:00\", \"temperature\": 26.5, \"city_Detroit\": 1, \"city_San Diego\": 0, \"city_San Francisco\": 0, \"city\": \"Detroit\", \"day\": 2, \"month\": 1, \"year\": 2013, \"hour\": 11, \"day_of_week\": 2, \"pred\": 26.5}, {\"datetime\": \"2013-01-02T11:00:00\", \"temperature\": 40.3, \"city_Detroit\": 0, \"city_San Diego\": 0, \"city_San Francisco\": 1, \"city\": \"San Francisco\", \"day\": 2, \"month\": 1, \"year\": 2013, \"hour\": 11, \"day_of_week\": 2, \"pred\": 39.80625}, {\"datetime\": \"2013-01-02T12:00:00\", \"temperature\": 25.5, \"city_Detroit\": 1, \"city_San Diego\": 0, \"city_San Francisco\": 0, \"city\": \"Detroit\", \"day\": 2, \"month\": 1, \"year\": 2013, \"hour\": 12, \"day_of_week\": 2, \"pred\": 25.5}, {\"datetime\": \"2013-01-02T12:00:00\", \"temperature\": 43.2, \"city_Detroit\": 0, \"city_San Diego\": 1, \"city_San Francisco\": 0, \"city\": \"San Diego\", \"day\": 2, \"month\": 1, \"year\": 2013, \"hour\": 12, \"day_of_week\": 2, \"pred\": 42.030000000000015}, {\"datetime\": \"2013-01-02T12:00:00\", \"temperature\": 41.4, \"city_Detroit\": 0, \"city_San Diego\": 0, \"city_San Francisco\": 1, \"city\": \"San Francisco\", \"day\": 2, \"month\": 1, \"year\": 2013, \"hour\": 12, \"day_of_week\": 2, \"pred\": 39.80625}, {\"datetime\": \"2013-01-02T13:00:00\", \"temperature\": 42.9, \"city_Detroit\": 0, \"city_San Diego\": 1, \"city_San Francisco\": 0, \"city\": \"San Diego\", \"day\": 2, \"month\": 1, \"year\": 2013, \"hour\": 13, \"day_of_week\": 2, \"pred\": 42.030000000000015}, {\"datetime\": \"2013-01-02T13:00:00\", \"temperature\": 24.4, \"city_Detroit\": 1, \"city_San Diego\": 0, \"city_San Francisco\": 0, \"city\": \"Detroit\", \"day\": 2, \"month\": 1, \"year\": 2013, \"hour\": 13, \"day_of_week\": 2, \"pred\": 24.575000000000003}, {\"datetime\": \"2013-01-02T13:00:00\", \"temperature\": 41.4, \"city_Detroit\": 0, \"city_San Diego\": 0, \"city_San Francisco\": 1, \"city\": \"San Francisco\", \"day\": 2, \"month\": 1, \"year\": 2013, \"hour\": 13, \"day_of_week\": 2, \"pred\": 39.80625}, {\"datetime\": \"2013-01-02T14:00:00\", \"temperature\": 41.7, \"city_Detroit\": 0, \"city_San Diego\": 0, \"city_San Francisco\": 1, \"city\": \"San Francisco\", \"day\": 2, \"month\": 1, \"year\": 2013, \"hour\": 14, \"day_of_week\": 2, \"pred\": 39.80625}, {\"datetime\": \"2013-01-02T14:00:00\", \"temperature\": 24.3, \"city_Detroit\": 1, \"city_San Diego\": 0, \"city_San Francisco\": 0, \"city\": \"Detroit\", \"day\": 2, \"month\": 1, \"year\": 2013, \"hour\": 14, \"day_of_week\": 2, \"pred\": 24.575000000000003}, {\"datetime\": \"2013-01-02T14:00:00\", \"temperature\": 42.1, \"city_Detroit\": 0, \"city_San Diego\": 1, \"city_San Francisco\": 0, \"city\": \"San Diego\", \"day\": 2, \"month\": 1, \"year\": 2013, \"hour\": 14, \"day_of_week\": 2, \"pred\": 42.030000000000015}, {\"datetime\": \"2013-01-02T15:00:00\", \"temperature\": 41.5, \"city_Detroit\": 0, \"city_San Diego\": 0, \"city_San Francisco\": 1, \"city\": \"San Francisco\", \"day\": 2, \"month\": 1, \"year\": 2013, \"hour\": 15, \"day_of_week\": 2, \"pred\": 39.80625}, {\"datetime\": \"2013-01-02T15:00:00\", \"temperature\": 25.0, \"city_Detroit\": 1, \"city_San Diego\": 0, \"city_San Francisco\": 0, \"city\": \"Detroit\", \"day\": 2, \"month\": 1, \"year\": 2013, \"hour\": 15, \"day_of_week\": 2, \"pred\": 24.575000000000003}, {\"datetime\": \"2013-01-02T15:00:00\", \"temperature\": 42.8, \"city_Detroit\": 0, \"city_San Diego\": 1, \"city_San Francisco\": 0, \"city\": \"San Diego\", \"day\": 2, \"month\": 1, \"year\": 2013, \"hour\": 15, \"day_of_week\": 2, \"pred\": 42.030000000000015}, {\"datetime\": \"2013-01-02T16:00:00\", \"temperature\": 24.6, \"city_Detroit\": 1, \"city_San Diego\": 0, \"city_San Francisco\": 0, \"city\": \"Detroit\", \"day\": 2, \"month\": 1, \"year\": 2013, \"hour\": 16, \"day_of_week\": 2, \"pred\": 24.575000000000003}, {\"datetime\": \"2013-01-02T16:00:00\", \"temperature\": 46.7, \"city_Detroit\": 0, \"city_San Diego\": 1, \"city_San Francisco\": 0, \"city\": \"San Diego\", \"day\": 2, \"month\": 1, \"year\": 2013, \"hour\": 16, \"day_of_week\": 2, \"pred\": 46.14}, {\"datetime\": \"2013-01-02T16:00:00\", \"temperature\": 41.5, \"city_Detroit\": 0, \"city_San Diego\": 0, \"city_San Francisco\": 1, \"city\": \"San Francisco\", \"day\": 2, \"month\": 1, \"year\": 2013, \"hour\": 16, \"day_of_week\": 2, \"pred\": 39.80625}, {\"datetime\": \"2013-01-02T17:00:00\", \"temperature\": 50.6, \"city_Detroit\": 0, \"city_San Diego\": 1, \"city_San Francisco\": 0, \"city\": \"San Diego\", \"day\": 2, \"month\": 1, \"year\": 2013, \"hour\": 17, \"day_of_week\": 2, \"pred\": 50.6}, {\"datetime\": \"2013-01-02T17:00:00\", \"temperature\": 44.3, \"city_Detroit\": 0, \"city_San Diego\": 0, \"city_San Francisco\": 1, \"city\": \"San Francisco\", \"day\": 2, \"month\": 1, \"year\": 2013, \"hour\": 17, \"day_of_week\": 2, \"pred\": 43.5}, {\"datetime\": \"2013-01-02T17:00:00\", \"temperature\": 24.1, \"city_Detroit\": 1, \"city_San Diego\": 0, \"city_San Francisco\": 0, \"city\": \"Detroit\", \"day\": 2, \"month\": 1, \"year\": 2013, \"hour\": 17, \"day_of_week\": 2, \"pred\": 25.359999999999996}, {\"datetime\": \"2013-01-02T18:00:00\", \"temperature\": 45.7, \"city_Detroit\": 0, \"city_San Diego\": 0, \"city_San Francisco\": 1, \"city\": \"San Francisco\", \"day\": 2, \"month\": 1, \"year\": 2013, \"hour\": 18, \"day_of_week\": 2, \"pred\": 46.35}, {\"datetime\": \"2013-01-02T18:00:00\", \"temperature\": 53.9, \"city_Detroit\": 0, \"city_San Diego\": 1, \"city_San Francisco\": 0, \"city\": \"San Diego\", \"day\": 2, \"month\": 1, \"year\": 2013, \"hour\": 18, \"day_of_week\": 2, \"pred\": 53.9}, {\"datetime\": \"2013-01-02T18:00:00\", \"temperature\": 25.7, \"city_Detroit\": 1, \"city_San Diego\": 0, \"city_San Francisco\": 0, \"city\": \"Detroit\", \"day\": 2, \"month\": 1, \"year\": 2013, \"hour\": 18, \"day_of_week\": 2, \"pred\": 25.359999999999996}, {\"datetime\": \"2013-01-02T19:00:00\", \"temperature\": 57.1, \"city_Detroit\": 0, \"city_San Diego\": 1, \"city_San Francisco\": 0, \"city\": \"San Diego\", \"day\": 2, \"month\": 1, \"year\": 2013, \"hour\": 19, \"day_of_week\": 2, \"pred\": 58.4}, {\"datetime\": \"2013-01-02T19:00:00\", \"temperature\": 48.0, \"city_Detroit\": 0, \"city_San Diego\": 0, \"city_San Francisco\": 1, \"city\": \"San Francisco\", \"day\": 2, \"month\": 1, \"year\": 2013, \"hour\": 19, \"day_of_week\": 2, \"pred\": 48.3}, {\"datetime\": \"2013-01-02T19:00:00\", \"temperature\": 25.5, \"city_Detroit\": 1, \"city_San Diego\": 0, \"city_San Francisco\": 0, \"city\": \"Detroit\", \"day\": 2, \"month\": 1, \"year\": 2013, \"hour\": 19, \"day_of_week\": 2, \"pred\": 25.359999999999996}, {\"datetime\": \"2013-01-02T20:00:00\", \"temperature\": 58.6, \"city_Detroit\": 0, \"city_San Diego\": 1, \"city_San Francisco\": 0, \"city\": \"San Diego\", \"day\": 2, \"month\": 1, \"year\": 2013, \"hour\": 20, \"day_of_week\": 2, \"pred\": 58.4}, {\"datetime\": \"2013-01-02T20:00:00\", \"temperature\": 49.2, \"city_Detroit\": 0, \"city_San Diego\": 0, \"city_San Francisco\": 1, \"city\": \"San Francisco\", \"day\": 2, \"month\": 1, \"year\": 2013, \"hour\": 20, \"day_of_week\": 2, \"pred\": 49.2}, {\"datetime\": \"2013-01-02T20:00:00\", \"temperature\": 25.9, \"city_Detroit\": 1, \"city_San Diego\": 0, \"city_San Francisco\": 0, \"city\": \"Detroit\", \"day\": 2, \"month\": 1, \"year\": 2013, \"hour\": 20, \"day_of_week\": 2, \"pred\": 25.359999999999996}, {\"datetime\": \"2013-01-02T21:00:00\", \"temperature\": 50.2, \"city_Detroit\": 0, \"city_San Diego\": 0, \"city_San Francisco\": 1, \"city\": \"San Francisco\", \"day\": 2, \"month\": 1, \"year\": 2013, \"hour\": 21, \"day_of_week\": 2, \"pred\": 50.2}, {\"datetime\": \"2013-01-02T21:00:00\", \"temperature\": 59.7, \"city_Detroit\": 0, \"city_San Diego\": 1, \"city_San Francisco\": 0, \"city\": \"San Diego\", \"day\": 2, \"month\": 1, \"year\": 2013, \"hour\": 21, \"day_of_week\": 2, \"pred\": 58.4}, {\"datetime\": \"2013-01-02T21:00:00\", \"temperature\": 25.6, \"city_Detroit\": 1, \"city_San Diego\": 0, \"city_San Francisco\": 0, \"city\": \"Detroit\", \"day\": 2, \"month\": 1, \"year\": 2013, \"hour\": 21, \"day_of_week\": 2, \"pred\": 25.359999999999996}, {\"datetime\": \"2013-01-02T22:00:00\", \"temperature\": 51.7, \"city_Detroit\": 0, \"city_San Diego\": 0, \"city_San Francisco\": 1, \"city\": \"San Francisco\", \"day\": 2, \"month\": 1, \"year\": 2013, \"hour\": 22, \"day_of_week\": 2, \"pred\": 51.300000000000004}, {\"datetime\": \"2013-01-02T22:00:00\", \"temperature\": 58.7, \"city_Detroit\": 0, \"city_San Diego\": 1, \"city_San Francisco\": 0, \"city\": \"San Diego\", \"day\": 2, \"month\": 1, \"year\": 2013, \"hour\": 22, \"day_of_week\": 2, \"pred\": 58.4}, {\"datetime\": \"2013-01-02T22:00:00\", \"temperature\": 22.8, \"city_Detroit\": 1, \"city_San Diego\": 0, \"city_San Francisco\": 0, \"city\": \"Detroit\", \"day\": 2, \"month\": 1, \"year\": 2013, \"hour\": 22, \"day_of_week\": 2, \"pred\": 22.25}, {\"datetime\": \"2013-01-02T23:00:00\", \"temperature\": 51.8, \"city_Detroit\": 0, \"city_San Diego\": 0, \"city_San Francisco\": 1, \"city\": \"San Francisco\", \"day\": 2, \"month\": 1, \"year\": 2013, \"hour\": 23, \"day_of_week\": 2, \"pred\": 51.300000000000004}, {\"datetime\": \"2013-01-02T23:00:00\", \"temperature\": 21.7, \"city_Detroit\": 1, \"city_San Diego\": 0, \"city_San Francisco\": 0, \"city\": \"Detroit\", \"day\": 2, \"month\": 1, \"year\": 2013, \"hour\": 23, \"day_of_week\": 2, \"pred\": 22.25}, {\"datetime\": \"2013-01-02T23:00:00\", \"temperature\": 57.9, \"city_Detroit\": 0, \"city_San Diego\": 1, \"city_San Francisco\": 0, \"city\": \"San Diego\", \"day\": 2, \"month\": 1, \"year\": 2013, \"hour\": 23, \"day_of_week\": 2, \"pred\": 58.4}, {\"datetime\": \"2013-01-03T00:00:00\", \"temperature\": 20.7, \"city_Detroit\": 1, \"city_San Diego\": 0, \"city_San Francisco\": 0, \"city\": \"Detroit\", \"day\": 3, \"month\": 1, \"year\": 2013, \"hour\": 0, \"day_of_week\": 3, \"pred\": 20.7}, {\"datetime\": \"2013-01-03T00:00:00\", \"temperature\": 51.5, \"city_Detroit\": 0, \"city_San Diego\": 0, \"city_San Francisco\": 1, \"city\": \"San Francisco\", \"day\": 3, \"month\": 1, \"year\": 2013, \"hour\": 0, \"day_of_week\": 3, \"pred\": 51.7}, {\"datetime\": \"2013-01-03T00:00:00\", \"temperature\": 56.5, \"city_Detroit\": 0, \"city_San Diego\": 1, \"city_San Francisco\": 0, \"city\": \"San Diego\", \"day\": 3, \"month\": 1, \"year\": 2013, \"hour\": 0, \"day_of_week\": 3, \"pred\": 56.5}, {\"datetime\": \"2013-01-03T01:00:00\", \"temperature\": 49.2, \"city_Detroit\": 0, \"city_San Diego\": 0, \"city_San Francisco\": 1, \"city\": \"San Francisco\", \"day\": 3, \"month\": 1, \"year\": 2013, \"hour\": 1, \"day_of_week\": 3, \"pred\": 48.980000000000004}, {\"datetime\": \"2013-01-03T01:00:00\", \"temperature\": 18.6, \"city_Detroit\": 1, \"city_San Diego\": 0, \"city_San Francisco\": 0, \"city\": \"Detroit\", \"day\": 3, \"month\": 1, \"year\": 2013, \"hour\": 1, \"day_of_week\": 3, \"pred\": 18.566666666666666}, {\"datetime\": \"2013-01-03T01:00:00\", \"temperature\": 54.6, \"city_Detroit\": 0, \"city_San Diego\": 1, \"city_San Francisco\": 0, \"city\": \"San Diego\", \"day\": 3, \"month\": 1, \"year\": 2013, \"hour\": 1, \"day_of_week\": 3, \"pred\": 54.6}, {\"datetime\": \"2013-01-03T02:00:00\", \"temperature\": 46.8, \"city_Detroit\": 0, \"city_San Diego\": 0, \"city_San Francisco\": 1, \"city\": \"San Francisco\", \"day\": 3, \"month\": 1, \"year\": 2013, \"hour\": 2, \"day_of_week\": 3, \"pred\": 46.925}, {\"datetime\": \"2013-01-03T02:00:00\", \"temperature\": 54.0, \"city_Detroit\": 0, \"city_San Diego\": 1, \"city_San Francisco\": 0, \"city\": \"San Diego\", \"day\": 3, \"month\": 1, \"year\": 2013, \"hour\": 2, \"day_of_week\": 3, \"pred\": 54.17999999999999}, {\"datetime\": \"2013-01-03T02:00:00\", \"temperature\": 18.1, \"city_Detroit\": 1, \"city_San Diego\": 0, \"city_San Francisco\": 0, \"city\": \"Detroit\", \"day\": 3, \"month\": 1, \"year\": 2013, \"hour\": 2, \"day_of_week\": 3, \"pred\": 18.566666666666666}, {\"datetime\": \"2013-01-03T03:00:00\", \"temperature\": 19.0, \"city_Detroit\": 1, \"city_San Diego\": 0, \"city_San Francisco\": 0, \"city\": \"Detroit\", \"day\": 3, \"month\": 1, \"year\": 2013, \"hour\": 3, \"day_of_week\": 3, \"pred\": 18.566666666666666}, {\"datetime\": \"2013-01-03T03:00:00\", \"temperature\": 44.2, \"city_Detroit\": 0, \"city_San Diego\": 0, \"city_San Francisco\": 1, \"city\": \"San Francisco\", \"day\": 3, \"month\": 1, \"year\": 2013, \"hour\": 3, \"day_of_week\": 3, \"pred\": 44.95}, {\"datetime\": \"2013-01-03T03:00:00\", \"temperature\": 53.4, \"city_Detroit\": 0, \"city_San Diego\": 1, \"city_San Francisco\": 0, \"city\": \"San Diego\", \"day\": 3, \"month\": 1, \"year\": 2013, \"hour\": 3, \"day_of_week\": 3, \"pred\": 53.4}, {\"datetime\": \"2013-01-03T04:00:00\", \"temperature\": 43.9, \"city_Detroit\": 0, \"city_San Diego\": 0, \"city_San Francisco\": 1, \"city\": \"San Francisco\", \"day\": 3, \"month\": 1, \"year\": 2013, \"hour\": 4, \"day_of_week\": 3, \"pred\": 43.36666666666667}, {\"datetime\": \"2013-01-03T04:00:00\", \"temperature\": 19.8, \"city_Detroit\": 1, \"city_San Diego\": 0, \"city_San Francisco\": 0, \"city\": \"Detroit\", \"day\": 3, \"month\": 1, \"year\": 2013, \"hour\": 4, \"day_of_week\": 3, \"pred\": 20.25}, {\"datetime\": \"2013-01-03T04:00:00\", \"temperature\": 52.7, \"city_Detroit\": 0, \"city_San Diego\": 1, \"city_San Francisco\": 0, \"city\": \"San Diego\", \"day\": 3, \"month\": 1, \"year\": 2013, \"hour\": 4, \"day_of_week\": 3, \"pred\": 50.25}, {\"datetime\": \"2013-01-03T05:00:00\", \"temperature\": 20.7, \"city_Detroit\": 1, \"city_San Diego\": 0, \"city_San Francisco\": 0, \"city\": \"Detroit\", \"day\": 3, \"month\": 1, \"year\": 2013, \"hour\": 5, \"day_of_week\": 3, \"pred\": 20.25}, {\"datetime\": \"2013-01-03T05:00:00\", \"temperature\": 51.7, \"city_Detroit\": 0, \"city_San Diego\": 1, \"city_San Francisco\": 0, \"city\": \"San Diego\", \"day\": 3, \"month\": 1, \"year\": 2013, \"hour\": 5, \"day_of_week\": 3, \"pred\": 50.25}, {\"datetime\": \"2013-01-03T05:00:00\", \"temperature\": 39.7, \"city_Detroit\": 0, \"city_San Diego\": 0, \"city_San Francisco\": 1, \"city\": \"San Francisco\", \"day\": 3, \"month\": 1, \"year\": 2013, \"hour\": 5, \"day_of_week\": 3, \"pred\": 40.916666666666664}, {\"datetime\": \"2013-01-03T06:00:00\", \"temperature\": 39.8, \"city_Detroit\": 0, \"city_San Diego\": 0, \"city_San Francisco\": 1, \"city\": \"San Francisco\", \"day\": 3, \"month\": 1, \"year\": 2013, \"hour\": 6, \"day_of_week\": 3, \"pred\": 40.916666666666664}, {\"datetime\": \"2013-01-03T06:00:00\", \"temperature\": 16.8, \"city_Detroit\": 1, \"city_San Diego\": 0, \"city_San Francisco\": 0, \"city\": \"Detroit\", \"day\": 3, \"month\": 1, \"year\": 2013, \"hour\": 6, \"day_of_week\": 3, \"pred\": 16.8}, {\"datetime\": \"2013-01-03T06:00:00\", \"temperature\": 49.1, \"city_Detroit\": 0, \"city_San Diego\": 1, \"city_San Francisco\": 0, \"city\": \"San Diego\", \"day\": 3, \"month\": 1, \"year\": 2013, \"hour\": 6, \"day_of_week\": 3, \"pred\": 42.030000000000015}, {\"datetime\": \"2013-01-03T07:00:00\", \"temperature\": 46.4, \"city_Detroit\": 0, \"city_San Diego\": 1, \"city_San Francisco\": 0, \"city\": \"San Diego\", \"day\": 3, \"month\": 1, \"year\": 2013, \"hour\": 7, \"day_of_week\": 3, \"pred\": 42.030000000000015}, {\"datetime\": \"2013-01-03T07:00:00\", \"temperature\": 40.0, \"city_Detroit\": 0, \"city_San Diego\": 0, \"city_San Francisco\": 1, \"city\": \"San Francisco\", \"day\": 3, \"month\": 1, \"year\": 2013, \"hour\": 7, \"day_of_week\": 3, \"pred\": 40.916666666666664}, {\"datetime\": \"2013-01-03T07:00:00\", \"temperature\": 12.9, \"city_Detroit\": 1, \"city_San Diego\": 0, \"city_San Francisco\": 0, \"city\": \"Detroit\", \"day\": 3, \"month\": 1, \"year\": 2013, \"hour\": 7, \"day_of_week\": 3, \"pred\": 13.271428571428572}, {\"datetime\": \"2013-01-03T08:00:00\", \"temperature\": 12.9, \"city_Detroit\": 1, \"city_San Diego\": 0, \"city_San Francisco\": 0, \"city\": \"Detroit\", \"day\": 3, \"month\": 1, \"year\": 2013, \"hour\": 8, \"day_of_week\": 3, \"pred\": 13.271428571428572}, {\"datetime\": \"2013-01-03T08:00:00\", \"temperature\": 40.0, \"city_Detroit\": 0, \"city_San Diego\": 0, \"city_San Francisco\": 1, \"city\": \"San Francisco\", \"day\": 3, \"month\": 1, \"year\": 2013, \"hour\": 8, \"day_of_week\": 3, \"pred\": 40.916666666666664}, {\"datetime\": \"2013-01-03T08:00:00\", \"temperature\": 46.4, \"city_Detroit\": 0, \"city_San Diego\": 1, \"city_San Francisco\": 0, \"city\": \"San Diego\", \"day\": 3, \"month\": 1, \"year\": 2013, \"hour\": 8, \"day_of_week\": 3, \"pred\": 42.030000000000015}, {\"datetime\": \"2013-01-03T09:00:00\", \"temperature\": 46.4, \"city_Detroit\": 0, \"city_San Diego\": 1, \"city_San Francisco\": 0, \"city\": \"San Diego\", \"day\": 3, \"month\": 1, \"year\": 2013, \"hour\": 9, \"day_of_week\": 3, \"pred\": 42.030000000000015}, {\"datetime\": \"2013-01-03T09:00:00\", \"temperature\": 12.9, \"city_Detroit\": 1, \"city_San Diego\": 0, \"city_San Francisco\": 0, \"city\": \"Detroit\", \"day\": 3, \"month\": 1, \"year\": 2013, \"hour\": 9, \"day_of_week\": 3, \"pred\": 13.271428571428572}, {\"datetime\": \"2013-01-03T09:00:00\", \"temperature\": 40.0, \"city_Detroit\": 0, \"city_San Diego\": 0, \"city_San Francisco\": 1, \"city\": \"San Francisco\", \"day\": 3, \"month\": 1, \"year\": 2013, \"hour\": 9, \"day_of_week\": 3, \"pred\": 37.60833333333333}, {\"datetime\": \"2013-01-03T10:00:00\", \"temperature\": 46.4, \"city_Detroit\": 0, \"city_San Diego\": 1, \"city_San Francisco\": 0, \"city\": \"San Diego\", \"day\": 3, \"month\": 1, \"year\": 2013, \"hour\": 10, \"day_of_week\": 3, \"pred\": 42.030000000000015}, {\"datetime\": \"2013-01-03T10:00:00\", \"temperature\": 12.9, \"city_Detroit\": 1, \"city_San Diego\": 0, \"city_San Francisco\": 0, \"city\": \"Detroit\", \"day\": 3, \"month\": 1, \"year\": 2013, \"hour\": 10, \"day_of_week\": 3, \"pred\": 13.271428571428572}, {\"datetime\": \"2013-01-03T10:00:00\", \"temperature\": 40.0, \"city_Detroit\": 0, \"city_San Diego\": 0, \"city_San Francisco\": 1, \"city\": \"San Francisco\", \"day\": 3, \"month\": 1, \"year\": 2013, \"hour\": 10, \"day_of_week\": 3, \"pred\": 37.60833333333333}, {\"datetime\": \"2013-01-03T11:00:00\", \"temperature\": 46.4, \"city_Detroit\": 0, \"city_San Diego\": 1, \"city_San Francisco\": 0, \"city\": \"San Diego\", \"day\": 3, \"month\": 1, \"year\": 2013, \"hour\": 11, \"day_of_week\": 3, \"pred\": 42.030000000000015}, {\"datetime\": \"2013-01-03T11:00:00\", \"temperature\": 12.9, \"city_Detroit\": 1, \"city_San Diego\": 0, \"city_San Francisco\": 0, \"city\": \"Detroit\", \"day\": 3, \"month\": 1, \"year\": 2013, \"hour\": 11, \"day_of_week\": 3, \"pred\": 13.271428571428572}, {\"datetime\": \"2013-01-03T11:00:00\", \"temperature\": 40.0, \"city_Detroit\": 0, \"city_San Diego\": 0, \"city_San Francisco\": 1, \"city\": \"San Francisco\", \"day\": 3, \"month\": 1, \"year\": 2013, \"hour\": 11, \"day_of_week\": 3, \"pred\": 37.60833333333333}, {\"datetime\": \"2013-01-03T12:00:00\", \"temperature\": 40.0, \"city_Detroit\": 0, \"city_San Diego\": 0, \"city_San Francisco\": 1, \"city\": \"San Francisco\", \"day\": 3, \"month\": 1, \"year\": 2013, \"hour\": 12, \"day_of_week\": 3, \"pred\": 37.60833333333333}, {\"datetime\": \"2013-01-03T12:00:00\", \"temperature\": 46.4, \"city_Detroit\": 0, \"city_San Diego\": 1, \"city_San Francisco\": 0, \"city\": \"San Diego\", \"day\": 3, \"month\": 1, \"year\": 2013, \"hour\": 12, \"day_of_week\": 3, \"pred\": 42.030000000000015}, {\"datetime\": \"2013-01-03T12:00:00\", \"temperature\": 12.9, \"city_Detroit\": 1, \"city_San Diego\": 0, \"city_San Francisco\": 0, \"city\": \"Detroit\", \"day\": 3, \"month\": 1, \"year\": 2013, \"hour\": 12, \"day_of_week\": 3, \"pred\": 13.271428571428572}, {\"datetime\": \"2013-01-03T13:00:00\", \"temperature\": 36.0, \"city_Detroit\": 0, \"city_San Diego\": 0, \"city_San Francisco\": 1, \"city\": \"San Francisco\", \"day\": 3, \"month\": 1, \"year\": 2013, \"hour\": 13, \"day_of_week\": 3, \"pred\": 37.60833333333333}, {\"datetime\": \"2013-01-03T13:00:00\", \"temperature\": 15.5, \"city_Detroit\": 1, \"city_San Diego\": 0, \"city_San Francisco\": 0, \"city\": \"Detroit\", \"day\": 3, \"month\": 1, \"year\": 2013, \"hour\": 13, \"day_of_week\": 3, \"pred\": 13.271428571428572}, {\"datetime\": \"2013-01-03T13:00:00\", \"temperature\": 44.9, \"city_Detroit\": 0, \"city_San Diego\": 1, \"city_San Francisco\": 0, \"city\": \"San Diego\", \"day\": 3, \"month\": 1, \"year\": 2013, \"hour\": 13, \"day_of_week\": 3, \"pred\": 42.030000000000015}, {\"datetime\": \"2013-01-03T14:00:00\", \"temperature\": 17.2, \"city_Detroit\": 1, \"city_San Diego\": 0, \"city_San Francisco\": 0, \"city\": \"Detroit\", \"day\": 3, \"month\": 1, \"year\": 2013, \"hour\": 14, \"day_of_week\": 3, \"pred\": 17.4}, {\"datetime\": \"2013-01-03T14:00:00\", \"temperature\": 36.8, \"city_Detroit\": 0, \"city_San Diego\": 0, \"city_San Francisco\": 1, \"city\": \"San Francisco\", \"day\": 3, \"month\": 1, \"year\": 2013, \"hour\": 14, \"day_of_week\": 3, \"pred\": 37.60833333333333}, {\"datetime\": \"2013-01-03T14:00:00\", \"temperature\": 43.5, \"city_Detroit\": 0, \"city_San Diego\": 1, \"city_San Francisco\": 0, \"city\": \"San Diego\", \"day\": 3, \"month\": 1, \"year\": 2013, \"hour\": 14, \"day_of_week\": 3, \"pred\": 42.030000000000015}, {\"datetime\": \"2013-01-03T15:00:00\", \"temperature\": 17.6, \"city_Detroit\": 1, \"city_San Diego\": 0, \"city_San Francisco\": 0, \"city\": \"Detroit\", \"day\": 3, \"month\": 1, \"year\": 2013, \"hour\": 15, \"day_of_week\": 3, \"pred\": 17.4}, {\"datetime\": \"2013-01-03T15:00:00\", \"temperature\": 37.5, \"city_Detroit\": 0, \"city_San Diego\": 0, \"city_San Francisco\": 1, \"city\": \"San Francisco\", \"day\": 3, \"month\": 1, \"year\": 2013, \"hour\": 15, \"day_of_week\": 3, \"pred\": 37.60833333333333}, {\"datetime\": \"2013-01-03T15:00:00\", \"temperature\": 42.2, \"city_Detroit\": 0, \"city_San Diego\": 1, \"city_San Francisco\": 0, \"city\": \"San Diego\", \"day\": 3, \"month\": 1, \"year\": 2013, \"hour\": 15, \"day_of_week\": 3, \"pred\": 42.030000000000015}, {\"datetime\": \"2013-01-03T16:00:00\", \"temperature\": 48.8, \"city_Detroit\": 0, \"city_San Diego\": 1, \"city_San Francisco\": 0, \"city\": \"San Diego\", \"day\": 3, \"month\": 1, \"year\": 2013, \"hour\": 16, \"day_of_week\": 3, \"pred\": 46.14}, {\"datetime\": \"2013-01-03T16:00:00\", \"temperature\": 22.6, \"city_Detroit\": 1, \"city_San Diego\": 0, \"city_San Francisco\": 0, \"city\": \"Detroit\", \"day\": 3, \"month\": 1, \"year\": 2013, \"hour\": 16, \"day_of_week\": 3, \"pred\": 22.6}, {\"datetime\": \"2013-01-03T16:00:00\", \"temperature\": 37.3, \"city_Detroit\": 0, \"city_San Diego\": 0, \"city_San Francisco\": 1, \"city\": \"San Francisco\", \"day\": 3, \"month\": 1, \"year\": 2013, \"hour\": 16, \"day_of_week\": 3, \"pred\": 37.60833333333333}, {\"datetime\": \"2013-01-03T17:00:00\", \"temperature\": 23.6, \"city_Detroit\": 1, \"city_San Diego\": 0, \"city_San Francisco\": 0, \"city\": \"Detroit\", \"day\": 3, \"month\": 1, \"year\": 2013, \"hour\": 17, \"day_of_week\": 3, \"pred\": 24.200000000000003}, {\"datetime\": \"2013-01-03T17:00:00\", \"temperature\": 42.5, \"city_Detroit\": 0, \"city_San Diego\": 0, \"city_San Francisco\": 1, \"city\": \"San Francisco\", \"day\": 3, \"month\": 1, \"year\": 2013, \"hour\": 17, \"day_of_week\": 3, \"pred\": 41.96666666666667}, {\"datetime\": \"2013-01-03T17:00:00\", \"temperature\": 54.9, \"city_Detroit\": 0, \"city_San Diego\": 1, \"city_San Francisco\": 0, \"city\": \"San Diego\", \"day\": 3, \"month\": 1, \"year\": 2013, \"hour\": 17, \"day_of_week\": 3, \"pred\": 53.75}, {\"datetime\": \"2013-01-03T18:00:00\", \"temperature\": 24.8, \"city_Detroit\": 1, \"city_San Diego\": 0, \"city_San Francisco\": 0, \"city\": \"Detroit\", \"day\": 3, \"month\": 1, \"year\": 2013, \"hour\": 18, \"day_of_week\": 3, \"pred\": 24.200000000000003}, {\"datetime\": \"2013-01-03T18:00:00\", \"temperature\": 47.0, \"city_Detroit\": 0, \"city_San Diego\": 0, \"city_San Francisco\": 1, \"city\": \"San Francisco\", \"day\": 3, \"month\": 1, \"year\": 2013, \"hour\": 18, \"day_of_week\": 3, \"pred\": 46.35}, {\"datetime\": \"2013-01-03T18:00:00\", \"temperature\": 58.3, \"city_Detroit\": 0, \"city_San Diego\": 1, \"city_San Francisco\": 0, \"city\": \"San Diego\", \"day\": 3, \"month\": 1, \"year\": 2013, \"hour\": 18, \"day_of_week\": 3, \"pred\": 58.3}, {\"datetime\": \"2013-01-03T19:00:00\", \"temperature\": 49.8, \"city_Detroit\": 0, \"city_San Diego\": 0, \"city_San Francisco\": 1, \"city\": \"San Francisco\", \"day\": 3, \"month\": 1, \"year\": 2013, \"hour\": 19, \"day_of_week\": 3, \"pred\": 49.8}, {\"datetime\": \"2013-01-03T19:00:00\", \"temperature\": 25.7, \"city_Detroit\": 1, \"city_San Diego\": 0, \"city_San Francisco\": 0, \"city\": \"Detroit\", \"day\": 3, \"month\": 1, \"year\": 2013, \"hour\": 19, \"day_of_week\": 3, \"pred\": 26.159999999999997}, {\"datetime\": \"2013-01-03T19:00:00\", \"temperature\": 60.2, \"city_Detroit\": 0, \"city_San Diego\": 1, \"city_San Francisco\": 0, \"city\": \"San Diego\", \"day\": 3, \"month\": 1, \"year\": 2013, \"hour\": 19, \"day_of_week\": 3, \"pred\": 61.419999999999995}, {\"datetime\": \"2013-01-03T20:00:00\", \"temperature\": 51.5, \"city_Detroit\": 0, \"city_San Diego\": 0, \"city_San Francisco\": 1, \"city\": \"San Francisco\", \"day\": 3, \"month\": 1, \"year\": 2013, \"hour\": 20, \"day_of_week\": 3, \"pred\": 50.82857142857143}, {\"datetime\": \"2013-01-03T20:00:00\", \"temperature\": 61.4, \"city_Detroit\": 0, \"city_San Diego\": 1, \"city_San Francisco\": 0, \"city\": \"San Diego\", \"day\": 3, \"month\": 1, \"year\": 2013, \"hour\": 20, \"day_of_week\": 3, \"pred\": 61.419999999999995}, {\"datetime\": \"2013-01-03T20:00:00\", \"temperature\": 26.3, \"city_Detroit\": 1, \"city_San Diego\": 0, \"city_San Francisco\": 0, \"city\": \"Detroit\", \"day\": 3, \"month\": 1, \"year\": 2013, \"hour\": 20, \"day_of_week\": 3, \"pred\": 26.159999999999997}, {\"datetime\": \"2013-01-03T21:00:00\", \"temperature\": 26.1, \"city_Detroit\": 1, \"city_San Diego\": 0, \"city_San Francisco\": 0, \"city\": \"Detroit\", \"day\": 3, \"month\": 1, \"year\": 2013, \"hour\": 21, \"day_of_week\": 3, \"pred\": 26.159999999999997}, {\"datetime\": \"2013-01-03T21:00:00\", \"temperature\": 62.2, \"city_Detroit\": 0, \"city_San Diego\": 1, \"city_San Francisco\": 0, \"city\": \"San Diego\", \"day\": 3, \"month\": 1, \"year\": 2013, \"hour\": 21, \"day_of_week\": 3, \"pred\": 61.419999999999995}, {\"datetime\": \"2013-01-03T21:00:00\", \"temperature\": 52.6, \"city_Detroit\": 0, \"city_San Diego\": 0, \"city_San Francisco\": 1, \"city\": \"San Francisco\", \"day\": 3, \"month\": 1, \"year\": 2013, \"hour\": 21, \"day_of_week\": 3, \"pred\": 52.63809523809523}, {\"datetime\": \"2013-01-03T22:00:00\", \"temperature\": 53.3, \"city_Detroit\": 0, \"city_San Diego\": 0, \"city_San Francisco\": 1, \"city\": \"San Francisco\", \"day\": 3, \"month\": 1, \"year\": 2013, \"hour\": 22, \"day_of_week\": 3, \"pred\": 52.63809523809523}, {\"datetime\": \"2013-01-03T22:00:00\", \"temperature\": 62.5, \"city_Detroit\": 0, \"city_San Diego\": 1, \"city_San Francisco\": 0, \"city\": \"San Diego\", \"day\": 3, \"month\": 1, \"year\": 2013, \"hour\": 22, \"day_of_week\": 3, \"pred\": 61.419999999999995}, {\"datetime\": \"2013-01-03T22:00:00\", \"temperature\": 26.1, \"city_Detroit\": 1, \"city_San Diego\": 0, \"city_San Francisco\": 0, \"city\": \"Detroit\", \"day\": 3, \"month\": 1, \"year\": 2013, \"hour\": 22, \"day_of_week\": 3, \"pred\": 26.159999999999997}, {\"datetime\": \"2013-01-03T23:00:00\", \"temperature\": 53.9, \"city_Detroit\": 0, \"city_San Diego\": 0, \"city_San Francisco\": 1, \"city\": \"San Francisco\", \"day\": 3, \"month\": 1, \"year\": 2013, \"hour\": 23, \"day_of_week\": 3, \"pred\": 52.63809523809523}, {\"datetime\": \"2013-01-03T23:00:00\", \"temperature\": 26.6, \"city_Detroit\": 1, \"city_San Diego\": 0, \"city_San Francisco\": 0, \"city\": \"Detroit\", \"day\": 3, \"month\": 1, \"year\": 2013, \"hour\": 23, \"day_of_week\": 3, \"pred\": 26.159999999999997}, {\"datetime\": \"2013-01-03T23:00:00\", \"temperature\": 60.8, \"city_Detroit\": 0, \"city_San Diego\": 1, \"city_San Francisco\": 0, \"city\": \"San Diego\", \"day\": 3, \"month\": 1, \"year\": 2013, \"hour\": 23, \"day_of_week\": 3, \"pred\": 61.419999999999995}, {\"datetime\": \"2013-01-04T00:00:00\", \"temperature\": 53.0, \"city_Detroit\": 0, \"city_San Diego\": 0, \"city_San Francisco\": 1, \"city\": \"San Francisco\", \"day\": 4, \"month\": 1, \"year\": 2013, \"hour\": 0, \"day_of_week\": 4, \"pred\": 51.7}, {\"datetime\": \"2013-01-04T00:00:00\", \"temperature\": 26.0, \"city_Detroit\": 1, \"city_San Diego\": 0, \"city_San Francisco\": 0, \"city\": \"Detroit\", \"day\": 4, \"month\": 1, \"year\": 2013, \"hour\": 0, \"day_of_week\": 4, \"pred\": 25.85}, {\"datetime\": \"2013-01-04T00:00:00\", \"temperature\": 58.5, \"city_Detroit\": 0, \"city_San Diego\": 1, \"city_San Francisco\": 0, \"city\": \"San Diego\", \"day\": 4, \"month\": 1, \"year\": 2013, \"hour\": 0, \"day_of_week\": 4, \"pred\": 59.53333333333333}, {\"datetime\": \"2013-01-04T01:00:00\", \"temperature\": 50.4, \"city_Detroit\": 0, \"city_San Diego\": 0, \"city_San Francisco\": 1, \"city\": \"San Francisco\", \"day\": 4, \"month\": 1, \"year\": 2013, \"hour\": 1, \"day_of_week\": 4, \"pred\": 50.333333333333336}, {\"datetime\": \"2013-01-04T01:00:00\", \"temperature\": 25.7, \"city_Detroit\": 1, \"city_San Diego\": 0, \"city_San Francisco\": 0, \"city\": \"Detroit\", \"day\": 4, \"month\": 1, \"year\": 2013, \"hour\": 1, \"day_of_week\": 4, \"pred\": 25.85}, {\"datetime\": \"2013-01-04T01:00:00\", \"temperature\": 55.8, \"city_Detroit\": 0, \"city_San Diego\": 1, \"city_San Francisco\": 0, \"city\": \"San Diego\", \"day\": 4, \"month\": 1, \"year\": 2013, \"hour\": 1, \"day_of_week\": 4, \"pred\": 56.0}, {\"datetime\": \"2013-01-04T02:00:00\", \"temperature\": 47.4, \"city_Detroit\": 0, \"city_San Diego\": 0, \"city_San Francisco\": 1, \"city\": \"San Francisco\", \"day\": 4, \"month\": 1, \"year\": 2013, \"hour\": 2, \"day_of_week\": 4, \"pred\": 46.925}, {\"datetime\": \"2013-01-04T02:00:00\", \"temperature\": 53.1, \"city_Detroit\": 0, \"city_San Diego\": 1, \"city_San Francisco\": 0, \"city\": \"San Diego\", \"day\": 4, \"month\": 1, \"year\": 2013, \"hour\": 2, \"day_of_week\": 4, \"pred\": 54.17999999999999}, {\"datetime\": \"2013-01-04T02:00:00\", \"temperature\": 24.2, \"city_Detroit\": 1, \"city_San Diego\": 0, \"city_San Francisco\": 0, \"city\": \"Detroit\", \"day\": 4, \"month\": 1, \"year\": 2013, \"hour\": 2, \"day_of_week\": 4, \"pred\": 24.16}, {\"datetime\": \"2013-01-04T03:00:00\", \"temperature\": 45.7, \"city_Detroit\": 0, \"city_San Diego\": 0, \"city_San Francisco\": 1, \"city\": \"San Francisco\", \"day\": 4, \"month\": 1, \"year\": 2013, \"hour\": 3, \"day_of_week\": 4, \"pred\": 46.133333333333326}, {\"datetime\": \"2013-01-04T03:00:00\", \"temperature\": 49.2, \"city_Detroit\": 0, \"city_San Diego\": 1, \"city_San Francisco\": 0, \"city\": \"San Diego\", \"day\": 4, \"month\": 1, \"year\": 2013, \"hour\": 3, \"day_of_week\": 4, \"pred\": 50.2}, {\"datetime\": \"2013-01-04T03:00:00\", \"temperature\": 24.4, \"city_Detroit\": 1, \"city_San Diego\": 0, \"city_San Francisco\": 0, \"city\": \"Detroit\", \"day\": 4, \"month\": 1, \"year\": 2013, \"hour\": 3, \"day_of_week\": 4, \"pred\": 24.16}, {\"datetime\": \"2013-01-04T04:00:00\", \"temperature\": 47.8, \"city_Detroit\": 0, \"city_San Diego\": 1, \"city_San Francisco\": 0, \"city\": \"San Diego\", \"day\": 4, \"month\": 1, \"year\": 2013, \"hour\": 4, \"day_of_week\": 4, \"pred\": 50.25}, {\"datetime\": \"2013-01-04T04:00:00\", \"temperature\": 42.7, \"city_Detroit\": 0, \"city_San Diego\": 0, \"city_San Francisco\": 1, \"city\": \"San Francisco\", \"day\": 4, \"month\": 1, \"year\": 2013, \"hour\": 4, \"day_of_week\": 4, \"pred\": 43.36666666666667}, {\"datetime\": \"2013-01-04T04:00:00\", \"temperature\": 24.4, \"city_Detroit\": 1, \"city_San Diego\": 0, \"city_San Francisco\": 0, \"city\": \"Detroit\", \"day\": 4, \"month\": 1, \"year\": 2013, \"hour\": 4, \"day_of_week\": 4, \"pred\": 24.16}, {\"datetime\": \"2013-01-04T05:00:00\", \"temperature\": 46.3, \"city_Detroit\": 0, \"city_San Diego\": 1, \"city_San Francisco\": 0, \"city\": \"San Diego\", \"day\": 4, \"month\": 1, \"year\": 2013, \"hour\": 5, \"day_of_week\": 4, \"pred\": 50.25}, {\"datetime\": \"2013-01-04T05:00:00\", \"temperature\": 42.0, \"city_Detroit\": 0, \"city_San Diego\": 0, \"city_San Francisco\": 1, \"city\": \"San Francisco\", \"day\": 4, \"month\": 1, \"year\": 2013, \"hour\": 5, \"day_of_week\": 4, \"pred\": 40.916666666666664}, {\"datetime\": \"2013-01-04T05:00:00\", \"temperature\": 24.0, \"city_Detroit\": 1, \"city_San Diego\": 0, \"city_San Francisco\": 0, \"city\": \"Detroit\", \"day\": 4, \"month\": 1, \"year\": 2013, \"hour\": 5, \"day_of_week\": 4, \"pred\": 24.16}, {\"datetime\": \"2013-01-04T06:00:00\", \"temperature\": 40.4, \"city_Detroit\": 0, \"city_San Diego\": 0, \"city_San Francisco\": 1, \"city\": \"San Francisco\", \"day\": 4, \"month\": 1, \"year\": 2013, \"hour\": 6, \"day_of_week\": 4, \"pred\": 40.916666666666664}, {\"datetime\": \"2013-01-04T06:00:00\", \"temperature\": 45.1, \"city_Detroit\": 0, \"city_San Diego\": 1, \"city_San Francisco\": 0, \"city\": \"San Diego\", \"day\": 4, \"month\": 1, \"year\": 2013, \"hour\": 6, \"day_of_week\": 4, \"pred\": 42.030000000000015}, {\"datetime\": \"2013-01-04T06:00:00\", \"temperature\": 23.8, \"city_Detroit\": 1, \"city_San Diego\": 0, \"city_San Francisco\": 0, \"city\": \"Detroit\", \"day\": 4, \"month\": 1, \"year\": 2013, \"hour\": 6, \"day_of_week\": 4, \"pred\": 24.16}, {\"datetime\": \"2013-01-04T07:00:00\", \"temperature\": 22.8, \"city_Detroit\": 1, \"city_San Diego\": 0, \"city_San Francisco\": 0, \"city\": \"Detroit\", \"day\": 4, \"month\": 1, \"year\": 2013, \"hour\": 7, \"day_of_week\": 4, \"pred\": 22.15}, {\"datetime\": \"2013-01-04T07:00:00\", \"temperature\": 39.3, \"city_Detroit\": 0, \"city_San Diego\": 0, \"city_San Francisco\": 1, \"city\": \"San Francisco\", \"day\": 4, \"month\": 1, \"year\": 2013, \"hour\": 7, \"day_of_week\": 4, \"pred\": 40.916666666666664}, {\"datetime\": \"2013-01-04T07:00:00\", \"temperature\": 43.9, \"city_Detroit\": 0, \"city_San Diego\": 1, \"city_San Francisco\": 0, \"city\": \"San Diego\", \"day\": 4, \"month\": 1, \"year\": 2013, \"hour\": 7, \"day_of_week\": 4, \"pred\": 42.030000000000015}, {\"datetime\": \"2013-01-04T08:00:00\", \"temperature\": 21.5, \"city_Detroit\": 1, \"city_San Diego\": 0, \"city_San Francisco\": 0, \"city\": \"Detroit\", \"day\": 4, \"month\": 1, \"year\": 2013, \"hour\": 8, \"day_of_week\": 4, \"pred\": 22.15}, {\"datetime\": \"2013-01-04T08:00:00\", \"temperature\": 42.6, \"city_Detroit\": 0, \"city_San Diego\": 1, \"city_San Francisco\": 0, \"city\": \"San Diego\", \"day\": 4, \"month\": 1, \"year\": 2013, \"hour\": 8, \"day_of_week\": 4, \"pred\": 42.030000000000015}, {\"datetime\": \"2013-01-04T08:00:00\", \"temperature\": 39.7, \"city_Detroit\": 0, \"city_San Diego\": 0, \"city_San Francisco\": 1, \"city\": \"San Francisco\", \"day\": 4, \"month\": 1, \"year\": 2013, \"hour\": 8, \"day_of_week\": 4, \"pred\": 40.916666666666664}, {\"datetime\": \"2013-01-04T09:00:00\", \"temperature\": 20.4, \"city_Detroit\": 1, \"city_San Diego\": 0, \"city_San Francisco\": 0, \"city\": \"Detroit\", \"day\": 4, \"month\": 1, \"year\": 2013, \"hour\": 9, \"day_of_week\": 4, \"pred\": 19.85}, {\"datetime\": \"2013-01-04T09:00:00\", \"temperature\": 38.4, \"city_Detroit\": 0, \"city_San Diego\": 0, \"city_San Francisco\": 1, \"city\": \"San Francisco\", \"day\": 4, \"month\": 1, \"year\": 2013, \"hour\": 9, \"day_of_week\": 4, \"pred\": 37.60833333333333}, {\"datetime\": \"2013-01-04T09:00:00\", \"temperature\": 42.4, \"city_Detroit\": 0, \"city_San Diego\": 1, \"city_San Francisco\": 0, \"city\": \"San Diego\", \"day\": 4, \"month\": 1, \"year\": 2013, \"hour\": 9, \"day_of_week\": 4, \"pred\": 42.030000000000015}, {\"datetime\": \"2013-01-04T10:00:00\", \"temperature\": 19.0, \"city_Detroit\": 1, \"city_San Diego\": 0, \"city_San Francisco\": 0, \"city\": \"Detroit\", \"day\": 4, \"month\": 1, \"year\": 2013, \"hour\": 10, \"day_of_week\": 4, \"pred\": 19.85}, {\"datetime\": \"2013-01-04T10:00:00\", \"temperature\": 36.8, \"city_Detroit\": 0, \"city_San Diego\": 0, \"city_San Francisco\": 1, \"city\": \"San Francisco\", \"day\": 4, \"month\": 1, \"year\": 2013, \"hour\": 10, \"day_of_week\": 4, \"pred\": 37.60833333333333}, {\"datetime\": \"2013-01-04T10:00:00\", \"temperature\": 42.4, \"city_Detroit\": 0, \"city_San Diego\": 1, \"city_San Francisco\": 0, \"city\": \"San Diego\", \"day\": 4, \"month\": 1, \"year\": 2013, \"hour\": 10, \"day_of_week\": 4, \"pred\": 42.030000000000015}, {\"datetime\": \"2013-01-04T11:00:00\", \"temperature\": 19.5, \"city_Detroit\": 1, \"city_San Diego\": 0, \"city_San Francisco\": 0, \"city\": \"Detroit\", \"day\": 4, \"month\": 1, \"year\": 2013, \"hour\": 11, \"day_of_week\": 4, \"pred\": 19.85}, {\"datetime\": \"2013-01-04T11:00:00\", \"temperature\": 39.8, \"city_Detroit\": 0, \"city_San Diego\": 1, \"city_San Francisco\": 0, \"city\": \"San Diego\", \"day\": 4, \"month\": 1, \"year\": 2013, \"hour\": 11, \"day_of_week\": 4, \"pred\": 42.030000000000015}, {\"datetime\": \"2013-01-04T11:00:00\", \"temperature\": 35.6, \"city_Detroit\": 0, \"city_San Diego\": 0, \"city_San Francisco\": 1, \"city\": \"San Francisco\", \"day\": 4, \"month\": 1, \"year\": 2013, \"hour\": 11, \"day_of_week\": 4, \"pred\": 37.60833333333333}, {\"datetime\": \"2013-01-04T12:00:00\", \"temperature\": 39.0, \"city_Detroit\": 0, \"city_San Diego\": 1, \"city_San Francisco\": 0, \"city\": \"San Diego\", \"day\": 4, \"month\": 1, \"year\": 2013, \"hour\": 12, \"day_of_week\": 4, \"pred\": 42.030000000000015}, {\"datetime\": \"2013-01-04T12:00:00\", \"temperature\": 35.8, \"city_Detroit\": 0, \"city_San Diego\": 0, \"city_San Francisco\": 1, \"city\": \"San Francisco\", \"day\": 4, \"month\": 1, \"year\": 2013, \"hour\": 12, \"day_of_week\": 4, \"pred\": 37.60833333333333}, {\"datetime\": \"2013-01-04T12:00:00\", \"temperature\": 19.1, \"city_Detroit\": 1, \"city_San Diego\": 0, \"city_San Francisco\": 0, \"city\": \"Detroit\", \"day\": 4, \"month\": 1, \"year\": 2013, \"hour\": 12, \"day_of_week\": 4, \"pred\": 19.85}, {\"datetime\": \"2013-01-04T13:00:00\", \"temperature\": 34.4, \"city_Detroit\": 0, \"city_San Diego\": 0, \"city_San Francisco\": 1, \"city\": \"San Francisco\", \"day\": 4, \"month\": 1, \"year\": 2013, \"hour\": 13, \"day_of_week\": 4, \"pred\": 37.60833333333333}, {\"datetime\": \"2013-01-04T13:00:00\", \"temperature\": 18.8, \"city_Detroit\": 1, \"city_San Diego\": 0, \"city_San Francisco\": 0, \"city\": \"Detroit\", \"day\": 4, \"month\": 1, \"year\": 2013, \"hour\": 13, \"day_of_week\": 4, \"pred\": 19.85}, {\"datetime\": \"2013-01-04T13:00:00\", \"temperature\": 39.7, \"city_Detroit\": 0, \"city_San Diego\": 1, \"city_San Francisco\": 0, \"city\": \"San Diego\", \"day\": 4, \"month\": 1, \"year\": 2013, \"hour\": 13, \"day_of_week\": 4, \"pred\": 42.030000000000015}, {\"datetime\": \"2013-01-04T14:00:00\", \"temperature\": 33.5, \"city_Detroit\": 0, \"city_San Diego\": 0, \"city_San Francisco\": 1, \"city\": \"San Francisco\", \"day\": 4, \"month\": 1, \"year\": 2013, \"hour\": 14, \"day_of_week\": 4, \"pred\": 37.60833333333333}, {\"datetime\": \"2013-01-04T14:00:00\", \"temperature\": 19.8, \"city_Detroit\": 1, \"city_San Diego\": 0, \"city_San Francisco\": 0, \"city\": \"Detroit\", \"day\": 4, \"month\": 1, \"year\": 2013, \"hour\": 14, \"day_of_week\": 4, \"pred\": 19.85}, {\"datetime\": \"2013-01-04T14:00:00\", \"temperature\": 39.7, \"city_Detroit\": 0, \"city_San Diego\": 1, \"city_San Francisco\": 0, \"city\": \"San Diego\", \"day\": 4, \"month\": 1, \"year\": 2013, \"hour\": 14, \"day_of_week\": 4, \"pred\": 42.030000000000015}, {\"datetime\": \"2013-01-04T15:00:00\", \"temperature\": 20.4, \"city_Detroit\": 1, \"city_San Diego\": 0, \"city_San Francisco\": 0, \"city\": \"Detroit\", \"day\": 4, \"month\": 1, \"year\": 2013, \"hour\": 15, \"day_of_week\": 4, \"pred\": 19.85}, {\"datetime\": \"2013-01-04T15:00:00\", \"temperature\": 41.1, \"city_Detroit\": 0, \"city_San Diego\": 1, \"city_San Francisco\": 0, \"city\": \"San Diego\", \"day\": 4, \"month\": 1, \"year\": 2013, \"hour\": 15, \"day_of_week\": 4, \"pred\": 42.030000000000015}, {\"datetime\": \"2013-01-04T15:00:00\", \"temperature\": 35.8, \"city_Detroit\": 0, \"city_San Diego\": 0, \"city_San Francisco\": 1, \"city\": \"San Francisco\", \"day\": 4, \"month\": 1, \"year\": 2013, \"hour\": 15, \"day_of_week\": 4, \"pred\": 37.60833333333333}, {\"datetime\": \"2013-01-04T16:00:00\", \"temperature\": 45.5, \"city_Detroit\": 0, \"city_San Diego\": 1, \"city_San Francisco\": 0, \"city\": \"San Diego\", \"day\": 4, \"month\": 1, \"year\": 2013, \"hour\": 16, \"day_of_week\": 4, \"pred\": 46.14}, {\"datetime\": \"2013-01-04T16:00:00\", \"temperature\": 37.3, \"city_Detroit\": 0, \"city_San Diego\": 0, \"city_San Francisco\": 1, \"city\": \"San Francisco\", \"day\": 4, \"month\": 1, \"year\": 2013, \"hour\": 16, \"day_of_week\": 4, \"pred\": 37.60833333333333}, {\"datetime\": \"2013-01-04T16:00:00\", \"temperature\": 21.8, \"city_Detroit\": 1, \"city_San Diego\": 0, \"city_San Francisco\": 0, \"city\": \"Detroit\", \"day\": 4, \"month\": 1, \"year\": 2013, \"hour\": 16, \"day_of_week\": 4, \"pred\": 19.85}, {\"datetime\": \"2013-01-04T17:00:00\", \"temperature\": 52.6, \"city_Detroit\": 0, \"city_San Diego\": 1, \"city_San Francisco\": 0, \"city\": \"San Diego\", \"day\": 4, \"month\": 1, \"year\": 2013, \"hour\": 17, \"day_of_week\": 4, \"pred\": 53.75}, {\"datetime\": \"2013-01-04T17:00:00\", \"temperature\": 40.6, \"city_Detroit\": 0, \"city_San Diego\": 0, \"city_San Francisco\": 1, \"city\": \"San Francisco\", \"day\": 4, \"month\": 1, \"year\": 2013, \"hour\": 17, \"day_of_week\": 4, \"pred\": 41.96666666666667}, {\"datetime\": \"2013-01-04T17:00:00\", \"temperature\": 24.4, \"city_Detroit\": 1, \"city_San Diego\": 0, \"city_San Francisco\": 0, \"city\": \"Detroit\", \"day\": 4, \"month\": 1, \"year\": 2013, \"hour\": 17, \"day_of_week\": 4, \"pred\": 24.4}, {\"datetime\": \"2013-01-04T18:00:00\", \"temperature\": 60.3, \"city_Detroit\": 0, \"city_San Diego\": 1, \"city_San Francisco\": 0, \"city\": \"San Diego\", \"day\": 4, \"month\": 1, \"year\": 2013, \"hour\": 18, \"day_of_week\": 4, \"pred\": 60.3}, {\"datetime\": \"2013-01-04T18:00:00\", \"temperature\": 26.4, \"city_Detroit\": 1, \"city_San Diego\": 0, \"city_San Francisco\": 0, \"city\": \"Detroit\", \"day\": 4, \"month\": 1, \"year\": 2013, \"hour\": 18, \"day_of_week\": 4, \"pred\": 26.45}, {\"datetime\": \"2013-01-04T18:00:00\", \"temperature\": 44.9, \"city_Detroit\": 0, \"city_San Diego\": 0, \"city_San Francisco\": 1, \"city\": \"San Francisco\", \"day\": 4, \"month\": 1, \"year\": 2013, \"hour\": 18, \"day_of_week\": 4, \"pred\": 44.9}, {\"datetime\": \"2013-01-04T19:00:00\", \"temperature\": 26.5, \"city_Detroit\": 1, \"city_San Diego\": 0, \"city_San Francisco\": 0, \"city\": \"Detroit\", \"day\": 4, \"month\": 1, \"year\": 2013, \"hour\": 19, \"day_of_week\": 4, \"pred\": 26.45}, {\"datetime\": \"2013-01-04T19:00:00\", \"temperature\": 62.9, \"city_Detroit\": 0, \"city_San Diego\": 1, \"city_San Francisco\": 0, \"city\": \"San Diego\", \"day\": 4, \"month\": 1, \"year\": 2013, \"hour\": 19, \"day_of_week\": 4, \"pred\": 65.39}, {\"datetime\": \"2013-01-04T19:00:00\", \"temperature\": 47.2, \"city_Detroit\": 0, \"city_San Diego\": 0, \"city_San Francisco\": 1, \"city\": \"San Francisco\", \"day\": 4, \"month\": 1, \"year\": 2013, \"hour\": 19, \"day_of_week\": 4, \"pred\": 47.2}, {\"datetime\": \"2013-01-04T20:00:00\", \"temperature\": 64.8, \"city_Detroit\": 0, \"city_San Diego\": 1, \"city_San Francisco\": 0, \"city\": \"San Diego\", \"day\": 4, \"month\": 1, \"year\": 2013, \"hour\": 20, \"day_of_week\": 4, \"pred\": 65.39}, {\"datetime\": \"2013-01-04T20:00:00\", \"temperature\": 49.6, \"city_Detroit\": 0, \"city_San Diego\": 0, \"city_San Francisco\": 1, \"city\": \"San Francisco\", \"day\": 4, \"month\": 1, \"year\": 2013, \"hour\": 20, \"day_of_week\": 4, \"pred\": 50.82857142857143}, {\"datetime\": \"2013-01-04T20:00:00\", \"temperature\": 27.8, \"city_Detroit\": 1, \"city_San Diego\": 0, \"city_San Francisco\": 0, \"city\": \"Detroit\", \"day\": 4, \"month\": 1, \"year\": 2013, \"hour\": 20, \"day_of_week\": 4, \"pred\": 28.1}, {\"datetime\": \"2013-01-04T21:00:00\", \"temperature\": 51.7, \"city_Detroit\": 0, \"city_San Diego\": 0, \"city_San Francisco\": 1, \"city\": \"San Francisco\", \"day\": 4, \"month\": 1, \"year\": 2013, \"hour\": 21, \"day_of_week\": 4, \"pred\": 52.63809523809523}, {\"datetime\": \"2013-01-04T21:00:00\", \"temperature\": 28.4, \"city_Detroit\": 1, \"city_San Diego\": 0, \"city_San Francisco\": 0, \"city\": \"Detroit\", \"day\": 4, \"month\": 1, \"year\": 2013, \"hour\": 21, \"day_of_week\": 4, \"pred\": 28.1}, {\"datetime\": \"2013-01-04T21:00:00\", \"temperature\": 67.0, \"city_Detroit\": 0, \"city_San Diego\": 1, \"city_San Francisco\": 0, \"city\": \"San Diego\", \"day\": 4, \"month\": 1, \"year\": 2013, \"hour\": 21, \"day_of_week\": 4, \"pred\": 65.39}, {\"datetime\": \"2013-01-04T22:00:00\", \"temperature\": 53.0, \"city_Detroit\": 0, \"city_San Diego\": 0, \"city_San Francisco\": 1, \"city\": \"San Francisco\", \"day\": 4, \"month\": 1, \"year\": 2013, \"hour\": 22, \"day_of_week\": 4, \"pred\": 52.63809523809523}, {\"datetime\": \"2013-01-04T22:00:00\", \"temperature\": 29.3, \"city_Detroit\": 1, \"city_San Diego\": 0, \"city_San Francisco\": 0, \"city\": \"Detroit\", \"day\": 4, \"month\": 1, \"year\": 2013, \"hour\": 22, \"day_of_week\": 4, \"pred\": 29.3}, {\"datetime\": \"2013-01-04T22:00:00\", \"temperature\": 66.6, \"city_Detroit\": 0, \"city_San Diego\": 1, \"city_San Francisco\": 0, \"city\": \"San Diego\", \"day\": 4, \"month\": 1, \"year\": 2013, \"hour\": 22, \"day_of_week\": 4, \"pred\": 65.39}, {\"datetime\": \"2013-01-04T23:00:00\", \"temperature\": 64.9, \"city_Detroit\": 0, \"city_San Diego\": 1, \"city_San Francisco\": 0, \"city\": \"San Diego\", \"day\": 4, \"month\": 1, \"year\": 2013, \"hour\": 23, \"day_of_week\": 4, \"pred\": 65.39}, {\"datetime\": \"2013-01-04T23:00:00\", \"temperature\": 29.3, \"city_Detroit\": 1, \"city_San Diego\": 0, \"city_San Francisco\": 0, \"city\": \"Detroit\", \"day\": 4, \"month\": 1, \"year\": 2013, \"hour\": 23, \"day_of_week\": 4, \"pred\": 29.3}, {\"datetime\": \"2013-01-04T23:00:00\", \"temperature\": 53.1, \"city_Detroit\": 0, \"city_San Diego\": 0, \"city_San Francisco\": 1, \"city\": \"San Francisco\", \"day\": 4, \"month\": 1, \"year\": 2013, \"hour\": 23, \"day_of_week\": 4, \"pred\": 52.63809523809523}, {\"datetime\": \"2013-01-05T00:00:00\", \"temperature\": 61.0, \"city_Detroit\": 0, \"city_San Diego\": 1, \"city_San Francisco\": 0, \"city\": \"San Diego\", \"day\": 5, \"month\": 1, \"year\": 2013, \"hour\": 0, \"day_of_week\": 5, \"pred\": 59.53333333333333}, {\"datetime\": \"2013-01-05T00:00:00\", \"temperature\": 29.7, \"city_Detroit\": 1, \"city_San Diego\": 0, \"city_San Francisco\": 0, \"city\": \"Detroit\", \"day\": 5, \"month\": 1, \"year\": 2013, \"hour\": 0, \"day_of_week\": 5, \"pred\": 29.642857142857146}, {\"datetime\": \"2013-01-05T00:00:00\", \"temperature\": 51.9, \"city_Detroit\": 0, \"city_San Diego\": 0, \"city_San Francisco\": 1, \"city\": \"San Francisco\", \"day\": 5, \"month\": 1, \"year\": 2013, \"hour\": 0, \"day_of_week\": 5, \"pred\": 51.7}, {\"datetime\": \"2013-01-05T01:00:00\", \"temperature\": 30.3, \"city_Detroit\": 1, \"city_San Diego\": 0, \"city_San Francisco\": 0, \"city\": \"Detroit\", \"day\": 5, \"month\": 1, \"year\": 2013, \"hour\": 1, \"day_of_week\": 5, \"pred\": 29.642857142857146}, {\"datetime\": \"2013-01-05T01:00:00\", \"temperature\": 56.4, \"city_Detroit\": 0, \"city_San Diego\": 1, \"city_San Francisco\": 0, \"city\": \"San Diego\", \"day\": 5, \"month\": 1, \"year\": 2013, \"hour\": 1, \"day_of_week\": 5, \"pred\": 56.0}, {\"datetime\": \"2013-01-05T01:00:00\", \"temperature\": 49.6, \"city_Detroit\": 0, \"city_San Diego\": 0, \"city_San Francisco\": 1, \"city\": \"San Francisco\", \"day\": 5, \"month\": 1, \"year\": 2013, \"hour\": 1, \"day_of_week\": 5, \"pred\": 50.333333333333336}, {\"datetime\": \"2013-01-05T02:00:00\", \"temperature\": 29.9, \"city_Detroit\": 1, \"city_San Diego\": 0, \"city_San Francisco\": 0, \"city\": \"Detroit\", \"day\": 5, \"month\": 1, \"year\": 2013, \"hour\": 2, \"day_of_week\": 5, \"pred\": 29.642857142857146}, {\"datetime\": \"2013-01-05T02:00:00\", \"temperature\": 54.1, \"city_Detroit\": 0, \"city_San Diego\": 1, \"city_San Francisco\": 0, \"city\": \"San Diego\", \"day\": 5, \"month\": 1, \"year\": 2013, \"hour\": 2, \"day_of_week\": 5, \"pred\": 52.56666666666666}, {\"datetime\": \"2013-01-05T02:00:00\", \"temperature\": 47.7, \"city_Detroit\": 0, \"city_San Diego\": 0, \"city_San Francisco\": 1, \"city\": \"San Francisco\", \"day\": 5, \"month\": 1, \"year\": 2013, \"hour\": 2, \"day_of_week\": 5, \"pred\": 48.23333333333333}, {\"datetime\": \"2013-01-05T03:00:00\", \"temperature\": 30.5, \"city_Detroit\": 1, \"city_San Diego\": 0, \"city_San Francisco\": 0, \"city\": \"Detroit\", \"day\": 5, \"month\": 1, \"year\": 2013, \"hour\": 3, \"day_of_week\": 5, \"pred\": 29.642857142857146}, {\"datetime\": \"2013-01-05T03:00:00\", \"temperature\": 52.4, \"city_Detroit\": 0, \"city_San Diego\": 1, \"city_San Francisco\": 0, \"city\": \"San Diego\", \"day\": 5, \"month\": 1, \"year\": 2013, \"hour\": 3, \"day_of_week\": 5, \"pred\": 50.2}, {\"datetime\": \"2013-01-05T03:00:00\", \"temperature\": 46.3, \"city_Detroit\": 0, \"city_San Diego\": 0, \"city_San Francisco\": 1, \"city\": \"San Francisco\", \"day\": 5, \"month\": 1, \"year\": 2013, \"hour\": 3, \"day_of_week\": 5, \"pred\": 46.133333333333326}, {\"datetime\": \"2013-01-05T04:00:00\", \"temperature\": 52.0, \"city_Detroit\": 0, \"city_San Diego\": 1, \"city_San Francisco\": 0, \"city\": \"San Diego\", \"day\": 5, \"month\": 1, \"year\": 2013, \"hour\": 4, \"day_of_week\": 5, \"pred\": 50.25}, {\"datetime\": \"2013-01-05T04:00:00\", \"temperature\": 30.5, \"city_Detroit\": 1, \"city_San Diego\": 0, \"city_San Francisco\": 0, \"city\": \"Detroit\", \"day\": 5, \"month\": 1, \"year\": 2013, \"hour\": 4, \"day_of_week\": 5, \"pred\": 29.642857142857146}, {\"datetime\": \"2013-01-05T04:00:00\", \"temperature\": 43.5, \"city_Detroit\": 0, \"city_San Diego\": 0, \"city_San Francisco\": 1, \"city\": \"San Francisco\", \"day\": 5, \"month\": 1, \"year\": 2013, \"hour\": 4, \"day_of_week\": 5, \"pred\": 43.36666666666667}, {\"datetime\": \"2013-01-05T05:00:00\", \"temperature\": 51.0, \"city_Detroit\": 0, \"city_San Diego\": 1, \"city_San Francisco\": 0, \"city\": \"San Diego\", \"day\": 5, \"month\": 1, \"year\": 2013, \"hour\": 5, \"day_of_week\": 5, \"pred\": 50.25}, {\"datetime\": \"2013-01-05T05:00:00\", \"temperature\": 29.8, \"city_Detroit\": 1, \"city_San Diego\": 0, \"city_San Francisco\": 0, \"city\": \"Detroit\", \"day\": 5, \"month\": 1, \"year\": 2013, \"hour\": 5, \"day_of_week\": 5, \"pred\": 29.642857142857146}, {\"datetime\": \"2013-01-05T05:00:00\", \"temperature\": 42.2, \"city_Detroit\": 0, \"city_San Diego\": 0, \"city_San Francisco\": 1, \"city\": \"San Francisco\", \"day\": 5, \"month\": 1, \"year\": 2013, \"hour\": 5, \"day_of_week\": 5, \"pred\": 40.916666666666664}, {\"datetime\": \"2013-01-05T06:00:00\", \"temperature\": 42.2, \"city_Detroit\": 0, \"city_San Diego\": 0, \"city_San Francisco\": 1, \"city\": \"San Francisco\", \"day\": 5, \"month\": 1, \"year\": 2013, \"hour\": 6, \"day_of_week\": 5, \"pred\": 40.916666666666664}, {\"datetime\": \"2013-01-05T06:00:00\", \"temperature\": 26.8, \"city_Detroit\": 1, \"city_San Diego\": 0, \"city_San Francisco\": 0, \"city\": \"Detroit\", \"day\": 5, \"month\": 1, \"year\": 2013, \"hour\": 6, \"day_of_week\": 5, \"pred\": 29.642857142857146}, {\"datetime\": \"2013-01-05T06:00:00\", \"temperature\": 44.2, \"city_Detroit\": 0, \"city_San Diego\": 1, \"city_San Francisco\": 0, \"city\": \"San Diego\", \"day\": 5, \"month\": 1, \"year\": 2013, \"hour\": 6, \"day_of_week\": 5, \"pred\": 42.030000000000015}, {\"datetime\": \"2013-01-05T07:00:00\", \"temperature\": 43.1, \"city_Detroit\": 0, \"city_San Diego\": 0, \"city_San Francisco\": 1, \"city\": \"San Francisco\", \"day\": 5, \"month\": 1, \"year\": 2013, \"hour\": 7, \"day_of_week\": 5, \"pred\": 40.916666666666664}, {\"datetime\": \"2013-01-05T07:00:00\", \"temperature\": 26.2, \"city_Detroit\": 0, \"city_San Diego\": 1, \"city_San Francisco\": 0, \"city\": \"San Diego\", \"day\": 5, \"month\": 1, \"year\": 2013, \"hour\": 7, \"day_of_week\": 5, \"pred\": 42.030000000000015}, {\"datetime\": \"2013-01-05T07:00:00\", \"temperature\": 20.6, \"city_Detroit\": 1, \"city_San Diego\": 0, \"city_San Francisco\": 0, \"city\": \"Detroit\", \"day\": 5, \"month\": 1, \"year\": 2013, \"hour\": 7, \"day_of_week\": 5, \"pred\": 25.520000000000003}, {\"datetime\": \"2013-01-05T08:00:00\", \"temperature\": 42.6, \"city_Detroit\": 0, \"city_San Diego\": 0, \"city_San Francisco\": 1, \"city\": \"San Francisco\", \"day\": 5, \"month\": 1, \"year\": 2013, \"hour\": 8, \"day_of_week\": 5, \"pred\": 40.916666666666664}, {\"datetime\": \"2013-01-05T08:00:00\", \"temperature\": 24.9, \"city_Detroit\": 0, \"city_San Diego\": 1, \"city_San Francisco\": 0, \"city\": \"San Diego\", \"day\": 5, \"month\": 1, \"year\": 2013, \"hour\": 8, \"day_of_week\": 5, \"pred\": 42.030000000000015}, {\"datetime\": \"2013-01-05T08:00:00\", \"temperature\": 19.2, \"city_Detroit\": 1, \"city_San Diego\": 0, \"city_San Francisco\": 0, \"city\": \"Detroit\", \"day\": 5, \"month\": 1, \"year\": 2013, \"hour\": 8, \"day_of_week\": 5, \"pred\": 25.520000000000003}, {\"datetime\": \"2013-01-05T09:00:00\", \"temperature\": 27.5, \"city_Detroit\": 1, \"city_San Diego\": 0, \"city_San Francisco\": 0, \"city\": \"Detroit\", \"day\": 5, \"month\": 1, \"year\": 2013, \"hour\": 9, \"day_of_week\": 5, \"pred\": 25.520000000000003}, {\"datetime\": \"2013-01-05T09:00:00\", \"temperature\": 40.6, \"city_Detroit\": 0, \"city_San Diego\": 1, \"city_San Francisco\": 0, \"city\": \"San Diego\", \"day\": 5, \"month\": 1, \"year\": 2013, \"hour\": 9, \"day_of_week\": 5, \"pred\": 42.030000000000015}, {\"datetime\": \"2013-01-05T09:00:00\", \"temperature\": 40.2, \"city_Detroit\": 0, \"city_San Diego\": 0, \"city_San Francisco\": 1, \"city\": \"San Francisco\", \"day\": 5, \"month\": 1, \"year\": 2013, \"hour\": 9, \"day_of_week\": 5, \"pred\": 37.60833333333333}, {\"datetime\": \"2013-01-05T10:00:00\", \"temperature\": 44.9, \"city_Detroit\": 0, \"city_San Diego\": 1, \"city_San Francisco\": 0, \"city\": \"San Diego\", \"day\": 5, \"month\": 1, \"year\": 2013, \"hour\": 10, \"day_of_week\": 5, \"pred\": 42.030000000000015}, {\"datetime\": \"2013-01-05T10:00:00\", \"temperature\": 39.1, \"city_Detroit\": 0, \"city_San Diego\": 0, \"city_San Francisco\": 1, \"city\": \"San Francisco\", \"day\": 5, \"month\": 1, \"year\": 2013, \"hour\": 10, \"day_of_week\": 5, \"pred\": 37.60833333333333}, {\"datetime\": \"2013-01-05T10:00:00\", \"temperature\": 29.3, \"city_Detroit\": 1, \"city_San Diego\": 0, \"city_San Francisco\": 0, \"city\": \"Detroit\", \"day\": 5, \"month\": 1, \"year\": 2013, \"hour\": 10, \"day_of_week\": 5, \"pred\": 25.520000000000003}, {\"datetime\": \"2013-01-05T11:00:00\", \"temperature\": 29.3, \"city_Detroit\": 1, \"city_San Diego\": 0, \"city_San Francisco\": 0, \"city\": \"Detroit\", \"day\": 5, \"month\": 1, \"year\": 2013, \"hour\": 11, \"day_of_week\": 5, \"pred\": 25.520000000000003}, {\"datetime\": \"2013-01-05T11:00:00\", \"temperature\": 38.6, \"city_Detroit\": 0, \"city_San Diego\": 0, \"city_San Francisco\": 1, \"city\": \"San Francisco\", \"day\": 5, \"month\": 1, \"year\": 2013, \"hour\": 11, \"day_of_week\": 5, \"pred\": 37.60833333333333}, {\"datetime\": \"2013-01-05T11:00:00\", \"temperature\": 43.4, \"city_Detroit\": 0, \"city_San Diego\": 1, \"city_San Francisco\": 0, \"city\": \"San Diego\", \"day\": 5, \"month\": 1, \"year\": 2013, \"hour\": 11, \"day_of_week\": 5, \"pred\": 42.030000000000015}, {\"datetime\": \"2013-01-05T12:00:00\", \"temperature\": 38.1, \"city_Detroit\": 0, \"city_San Diego\": 0, \"city_San Francisco\": 1, \"city\": \"San Francisco\", \"day\": 5, \"month\": 1, \"year\": 2013, \"hour\": 12, \"day_of_week\": 5, \"pred\": 37.60833333333333}, {\"datetime\": \"2013-01-05T12:00:00\", \"temperature\": 27.9, \"city_Detroit\": 1, \"city_San Diego\": 0, \"city_San Francisco\": 0, \"city\": \"Detroit\", \"day\": 5, \"month\": 1, \"year\": 2013, \"hour\": 12, \"day_of_week\": 5, \"pred\": 25.520000000000003}, {\"datetime\": \"2013-01-05T12:00:00\", \"temperature\": 42.7, \"city_Detroit\": 0, \"city_San Diego\": 1, \"city_San Francisco\": 0, \"city\": \"San Diego\", \"day\": 5, \"month\": 1, \"year\": 2013, \"hour\": 12, \"day_of_week\": 5, \"pred\": 42.030000000000015}, {\"datetime\": \"2013-01-05T13:00:00\", \"temperature\": 37.6, \"city_Detroit\": 0, \"city_San Diego\": 0, \"city_San Francisco\": 1, \"city\": \"San Francisco\", \"day\": 5, \"month\": 1, \"year\": 2013, \"hour\": 13, \"day_of_week\": 5, \"pred\": 37.60833333333333}, {\"datetime\": \"2013-01-05T13:00:00\", \"temperature\": 26.4, \"city_Detroit\": 1, \"city_San Diego\": 0, \"city_San Francisco\": 0, \"city\": \"Detroit\", \"day\": 5, \"month\": 1, \"year\": 2013, \"hour\": 13, \"day_of_week\": 5, \"pred\": 25.520000000000003}, {\"datetime\": \"2013-01-05T13:00:00\", \"temperature\": 41.9, \"city_Detroit\": 0, \"city_San Diego\": 1, \"city_San Francisco\": 0, \"city\": \"San Diego\", \"day\": 5, \"month\": 1, \"year\": 2013, \"hour\": 13, \"day_of_week\": 5, \"pred\": 42.030000000000015}, {\"datetime\": \"2013-01-05T14:00:00\", \"temperature\": 24.9, \"city_Detroit\": 1, \"city_San Diego\": 0, \"city_San Francisco\": 0, \"city\": \"Detroit\", \"day\": 5, \"month\": 1, \"year\": 2013, \"hour\": 14, \"day_of_week\": 5, \"pred\": 25.520000000000003}, {\"datetime\": \"2013-01-05T14:00:00\", \"temperature\": 40.8, \"city_Detroit\": 0, \"city_San Diego\": 1, \"city_San Francisco\": 0, \"city\": \"San Diego\", \"day\": 5, \"month\": 1, \"year\": 2013, \"hour\": 14, \"day_of_week\": 5, \"pred\": 42.030000000000015}, {\"datetime\": \"2013-01-05T14:00:00\", \"temperature\": 37.8, \"city_Detroit\": 0, \"city_San Diego\": 0, \"city_San Francisco\": 1, \"city\": \"San Francisco\", \"day\": 5, \"month\": 1, \"year\": 2013, \"hour\": 14, \"day_of_week\": 5, \"pred\": 37.60833333333333}, {\"datetime\": \"2013-01-05T15:00:00\", \"temperature\": 24.4, \"city_Detroit\": 1, \"city_San Diego\": 0, \"city_San Francisco\": 0, \"city\": \"Detroit\", \"day\": 5, \"month\": 1, \"year\": 2013, \"hour\": 15, \"day_of_week\": 5, \"pred\": 25.520000000000003}, {\"datetime\": \"2013-01-05T15:00:00\", \"temperature\": 38.0, \"city_Detroit\": 0, \"city_San Diego\": 0, \"city_San Francisco\": 1, \"city\": \"San Francisco\", \"day\": 5, \"month\": 1, \"year\": 2013, \"hour\": 15, \"day_of_week\": 5, \"pred\": 37.60833333333333}, {\"datetime\": \"2013-01-05T15:00:00\", \"temperature\": 43.4, \"city_Detroit\": 0, \"city_San Diego\": 1, \"city_San Francisco\": 0, \"city\": \"San Diego\", \"day\": 5, \"month\": 1, \"year\": 2013, \"hour\": 15, \"day_of_week\": 5, \"pred\": 42.030000000000015}, {\"datetime\": \"2013-01-05T16:00:00\", \"temperature\": 25.7, \"city_Detroit\": 1, \"city_San Diego\": 0, \"city_San Francisco\": 0, \"city\": \"Detroit\", \"day\": 5, \"month\": 1, \"year\": 2013, \"hour\": 16, \"day_of_week\": 5, \"pred\": 25.520000000000003}, {\"datetime\": \"2013-01-05T16:00:00\", \"temperature\": 47.9, \"city_Detroit\": 0, \"city_San Diego\": 1, \"city_San Francisco\": 0, \"city\": \"San Diego\", \"day\": 5, \"month\": 1, \"year\": 2013, \"hour\": 16, \"day_of_week\": 5, \"pred\": 46.14}, {\"datetime\": \"2013-01-05T16:00:00\", \"temperature\": 38.0, \"city_Detroit\": 0, \"city_San Diego\": 0, \"city_San Francisco\": 1, \"city\": \"San Francisco\", \"day\": 5, \"month\": 1, \"year\": 2013, \"hour\": 16, \"day_of_week\": 5, \"pred\": 37.60833333333333}, {\"datetime\": \"2013-01-05T17:00:00\", \"temperature\": 42.8, \"city_Detroit\": 0, \"city_San Diego\": 0, \"city_San Francisco\": 1, \"city\": \"San Francisco\", \"day\": 5, \"month\": 1, \"year\": 2013, \"hour\": 17, \"day_of_week\": 5, \"pred\": 41.96666666666667}, {\"datetime\": \"2013-01-05T17:00:00\", \"temperature\": 56.3, \"city_Detroit\": 0, \"city_San Diego\": 1, \"city_San Francisco\": 0, \"city\": \"San Diego\", \"day\": 5, \"month\": 1, \"year\": 2013, \"hour\": 17, \"day_of_week\": 5, \"pred\": 56.3}, {\"datetime\": \"2013-01-05T17:00:00\", \"temperature\": 28.6, \"city_Detroit\": 1, \"city_San Diego\": 0, \"city_San Francisco\": 0, \"city\": \"Detroit\", \"day\": 5, \"month\": 1, \"year\": 2013, \"hour\": 17, \"day_of_week\": 5, \"pred\": 28.6}, {\"datetime\": \"2013-01-05T18:00:00\", \"temperature\": 61.2, \"city_Detroit\": 0, \"city_San Diego\": 1, \"city_San Francisco\": 0, \"city\": \"San Diego\", \"day\": 5, \"month\": 1, \"year\": 2013, \"hour\": 18, \"day_of_week\": 5, \"pred\": 61.2}, {\"datetime\": \"2013-01-05T18:00:00\", \"temperature\": 47.9, \"city_Detroit\": 0, \"city_San Diego\": 0, \"city_San Francisco\": 1, \"city\": \"San Francisco\", \"day\": 5, \"month\": 1, \"year\": 2013, \"hour\": 18, \"day_of_week\": 5, \"pred\": 47.9}, {\"datetime\": \"2013-01-05T18:00:00\", \"temperature\": 28.9, \"city_Detroit\": 1, \"city_San Diego\": 0, \"city_San Francisco\": 0, \"city\": \"Detroit\", \"day\": 5, \"month\": 1, \"year\": 2013, \"hour\": 18, \"day_of_week\": 5, \"pred\": 28.9}, {\"datetime\": \"2013-01-05T19:00:00\", \"temperature\": 51.6, \"city_Detroit\": 0, \"city_San Diego\": 0, \"city_San Francisco\": 1, \"city\": \"San Francisco\", \"day\": 5, \"month\": 1, \"year\": 2013, \"hour\": 19, \"day_of_week\": 5, \"pred\": 51.6}, {\"datetime\": \"2013-01-05T19:00:00\", \"temperature\": 29.6, \"city_Detroit\": 1, \"city_San Diego\": 0, \"city_San Francisco\": 0, \"city\": \"Detroit\", \"day\": 5, \"month\": 1, \"year\": 2013, \"hour\": 19, \"day_of_week\": 5, \"pred\": 29.633333333333336}, {\"datetime\": \"2013-01-05T19:00:00\", \"temperature\": 62.8, \"city_Detroit\": 0, \"city_San Diego\": 1, \"city_San Francisco\": 0, \"city\": \"San Diego\", \"day\": 5, \"month\": 1, \"year\": 2013, \"hour\": 19, \"day_of_week\": 5, \"pred\": 63.724999999999994}, {\"datetime\": \"2013-01-05T20:00:00\", \"temperature\": 63.4, \"city_Detroit\": 0, \"city_San Diego\": 1, \"city_San Francisco\": 0, \"city\": \"San Diego\", \"day\": 5, \"month\": 1, \"year\": 2013, \"hour\": 20, \"day_of_week\": 5, \"pred\": 63.724999999999994}, {\"datetime\": \"2013-01-05T20:00:00\", \"temperature\": 53.2, \"city_Detroit\": 0, \"city_San Diego\": 0, \"city_San Francisco\": 1, \"city\": \"San Francisco\", \"day\": 5, \"month\": 1, \"year\": 2013, \"hour\": 20, \"day_of_week\": 5, \"pred\": 50.82857142857143}, {\"datetime\": \"2013-01-05T20:00:00\", \"temperature\": 29.9, \"city_Detroit\": 1, \"city_San Diego\": 0, \"city_San Francisco\": 0, \"city\": \"Detroit\", \"day\": 5, \"month\": 1, \"year\": 2013, \"hour\": 20, \"day_of_week\": 5, \"pred\": 29.633333333333336}, {\"datetime\": \"2013-01-05T21:00:00\", \"temperature\": 29.4, \"city_Detroit\": 1, \"city_San Diego\": 0, \"city_San Francisco\": 0, \"city\": \"Detroit\", \"day\": 5, \"month\": 1, \"year\": 2013, \"hour\": 21, \"day_of_week\": 5, \"pred\": 29.633333333333336}, {\"datetime\": \"2013-01-05T21:00:00\", \"temperature\": 64.0, \"city_Detroit\": 0, \"city_San Diego\": 1, \"city_San Francisco\": 0, \"city\": \"San Diego\", \"day\": 5, \"month\": 1, \"year\": 2013, \"hour\": 21, \"day_of_week\": 5, \"pred\": 63.724999999999994}, {\"datetime\": \"2013-01-05T21:00:00\", \"temperature\": 54.3, \"city_Detroit\": 0, \"city_San Diego\": 0, \"city_San Francisco\": 1, \"city\": \"San Francisco\", \"day\": 5, \"month\": 1, \"year\": 2013, \"hour\": 21, \"day_of_week\": 5, \"pred\": 52.63809523809523}, {\"datetime\": \"2013-01-05T22:00:00\", \"temperature\": 28.9, \"city_Detroit\": 1, \"city_San Diego\": 0, \"city_San Francisco\": 0, \"city\": \"Detroit\", \"day\": 5, \"month\": 1, \"year\": 2013, \"hour\": 22, \"day_of_week\": 5, \"pred\": 28.75}, {\"datetime\": \"2013-01-05T22:00:00\", \"temperature\": 64.7, \"city_Detroit\": 0, \"city_San Diego\": 1, \"city_San Francisco\": 0, \"city\": \"San Diego\", \"day\": 5, \"month\": 1, \"year\": 2013, \"hour\": 22, \"day_of_week\": 5, \"pred\": 63.724999999999994}, {\"datetime\": \"2013-01-05T22:00:00\", \"temperature\": 54.9, \"city_Detroit\": 0, \"city_San Diego\": 0, \"city_San Francisco\": 1, \"city\": \"San Francisco\", \"day\": 5, \"month\": 1, \"year\": 2013, \"hour\": 22, \"day_of_week\": 5, \"pred\": 52.63809523809523}, {\"datetime\": \"2013-01-05T23:00:00\", \"temperature\": 62.5, \"city_Detroit\": 0, \"city_San Diego\": 1, \"city_San Francisco\": 0, \"city\": \"San Diego\", \"day\": 5, \"month\": 1, \"year\": 2013, \"hour\": 23, \"day_of_week\": 5, \"pred\": 62.5}, {\"datetime\": \"2013-01-05T23:00:00\", \"temperature\": 54.4, \"city_Detroit\": 0, \"city_San Diego\": 0, \"city_San Francisco\": 1, \"city\": \"San Francisco\", \"day\": 5, \"month\": 1, \"year\": 2013, \"hour\": 23, \"day_of_week\": 5, \"pred\": 52.63809523809523}, {\"datetime\": \"2013-01-05T23:00:00\", \"temperature\": 28.6, \"city_Detroit\": 1, \"city_San Diego\": 0, \"city_San Francisco\": 0, \"city\": \"Detroit\", \"day\": 5, \"month\": 1, \"year\": 2013, \"hour\": 23, \"day_of_week\": 5, \"pred\": 28.75}, {\"datetime\": \"2013-01-06T00:00:00\", \"temperature\": 59.5, \"city_Detroit\": 0, \"city_San Diego\": 1, \"city_San Francisco\": 0, \"city\": \"San Diego\", \"day\": 6, \"month\": 1, \"year\": 2013, \"hour\": 0, \"day_of_week\": 6, \"pred\": 59.53333333333333}, {\"datetime\": \"2013-01-06T00:00:00\", \"temperature\": 53.9, \"city_Detroit\": 0, \"city_San Diego\": 0, \"city_San Francisco\": 1, \"city\": \"San Francisco\", \"day\": 6, \"month\": 1, \"year\": 2013, \"hour\": 0, \"day_of_week\": 6, \"pred\": 54.5}, {\"datetime\": \"2013-01-06T00:00:00\", \"temperature\": 28.3, \"city_Detroit\": 1, \"city_San Diego\": 0, \"city_San Francisco\": 0, \"city\": \"Detroit\", \"day\": 6, \"month\": 1, \"year\": 2013, \"hour\": 0, \"day_of_week\": 6, \"pred\": 26.32857142857143}, {\"datetime\": \"2013-01-06T01:00:00\", \"temperature\": 27.3, \"city_Detroit\": 1, \"city_San Diego\": 0, \"city_San Francisco\": 0, \"city\": \"Detroit\", \"day\": 6, \"month\": 1, \"year\": 2013, \"hour\": 1, \"day_of_week\": 6, \"pred\": 26.32857142857143}, {\"datetime\": \"2013-01-06T01:00:00\", \"temperature\": 51.0, \"city_Detroit\": 0, \"city_San Diego\": 0, \"city_San Francisco\": 1, \"city\": \"San Francisco\", \"day\": 6, \"month\": 1, \"year\": 2013, \"hour\": 1, \"day_of_week\": 6, \"pred\": 50.333333333333336}, {\"datetime\": \"2013-01-06T01:00:00\", \"temperature\": 55.1, \"city_Detroit\": 0, \"city_San Diego\": 1, \"city_San Francisco\": 0, \"city\": \"San Diego\", \"day\": 6, \"month\": 1, \"year\": 2013, \"hour\": 1, \"day_of_week\": 6, \"pred\": 56.0}, {\"datetime\": \"2013-01-06T02:00:00\", \"temperature\": 48.5, \"city_Detroit\": 0, \"city_San Diego\": 0, \"city_San Francisco\": 1, \"city\": \"San Francisco\", \"day\": 6, \"month\": 1, \"year\": 2013, \"hour\": 2, \"day_of_week\": 6, \"pred\": 48.23333333333333}, {\"datetime\": \"2013-01-06T02:00:00\", \"temperature\": 26.8, \"city_Detroit\": 1, \"city_San Diego\": 0, \"city_San Francisco\": 0, \"city\": \"Detroit\", \"day\": 6, \"month\": 1, \"year\": 2013, \"hour\": 2, \"day_of_week\": 6, \"pred\": 26.32857142857143}, {\"datetime\": \"2013-01-06T02:00:00\", \"temperature\": 51.9, \"city_Detroit\": 0, \"city_San Diego\": 1, \"city_San Francisco\": 0, \"city\": \"San Diego\", \"day\": 6, \"month\": 1, \"year\": 2013, \"hour\": 2, \"day_of_week\": 6, \"pred\": 52.56666666666666}, {\"datetime\": \"2013-01-06T03:00:00\", \"temperature\": 46.4, \"city_Detroit\": 0, \"city_San Diego\": 0, \"city_San Francisco\": 1, \"city\": \"San Francisco\", \"day\": 6, \"month\": 1, \"year\": 2013, \"hour\": 3, \"day_of_week\": 6, \"pred\": 46.133333333333326}, {\"datetime\": \"2013-01-06T03:00:00\", \"temperature\": 48.7, \"city_Detroit\": 0, \"city_San Diego\": 1, \"city_San Francisco\": 0, \"city\": \"San Diego\", \"day\": 6, \"month\": 1, \"year\": 2013, \"hour\": 3, \"day_of_week\": 6, \"pred\": 50.2}, {\"datetime\": \"2013-01-06T03:00:00\", \"temperature\": 26.0, \"city_Detroit\": 1, \"city_San Diego\": 0, \"city_San Francisco\": 0, \"city\": \"Detroit\", \"day\": 6, \"month\": 1, \"year\": 2013, \"hour\": 3, \"day_of_week\": 6, \"pred\": 26.32857142857143}, {\"datetime\": \"2013-01-06T04:00:00\", \"temperature\": 45.2, \"city_Detroit\": 0, \"city_San Diego\": 0, \"city_San Francisco\": 1, \"city\": \"San Francisco\", \"day\": 6, \"month\": 1, \"year\": 2013, \"hour\": 4, \"day_of_week\": 6, \"pred\": 43.43333333333333}, {\"datetime\": \"2013-01-06T04:00:00\", \"temperature\": 47.6, \"city_Detroit\": 0, \"city_San Diego\": 1, \"city_San Francisco\": 0, \"city\": \"San Diego\", \"day\": 6, \"month\": 1, \"year\": 2013, \"hour\": 4, \"day_of_week\": 6, \"pred\": 43.67692307692308}, {\"datetime\": \"2013-01-06T04:00:00\", \"temperature\": 26.0, \"city_Detroit\": 1, \"city_San Diego\": 0, \"city_San Francisco\": 0, \"city\": \"Detroit\", \"day\": 6, \"month\": 1, \"year\": 2013, \"hour\": 4, \"day_of_week\": 6, \"pred\": 26.32857142857143}, {\"datetime\": \"2013-01-06T05:00:00\", \"temperature\": 43.4, \"city_Detroit\": 0, \"city_San Diego\": 0, \"city_San Francisco\": 1, \"city\": \"San Francisco\", \"day\": 6, \"month\": 1, \"year\": 2013, \"hour\": 5, \"day_of_week\": 6, \"pred\": 43.43333333333333}, {\"datetime\": \"2013-01-06T05:00:00\", \"temperature\": 45.6, \"city_Detroit\": 0, \"city_San Diego\": 1, \"city_San Francisco\": 0, \"city\": \"San Diego\", \"day\": 6, \"month\": 1, \"year\": 2013, \"hour\": 5, \"day_of_week\": 6, \"pred\": 43.67692307692308}, {\"datetime\": \"2013-01-06T05:00:00\", \"temperature\": 25.1, \"city_Detroit\": 1, \"city_San Diego\": 0, \"city_San Francisco\": 0, \"city\": \"Detroit\", \"day\": 6, \"month\": 1, \"year\": 2013, \"hour\": 5, \"day_of_week\": 6, \"pred\": 26.32857142857143}, {\"datetime\": \"2013-01-06T06:00:00\", \"temperature\": 24.8, \"city_Detroit\": 1, \"city_San Diego\": 0, \"city_San Francisco\": 0, \"city\": \"Detroit\", \"day\": 6, \"month\": 1, \"year\": 2013, \"hour\": 6, \"day_of_week\": 6, \"pred\": 26.32857142857143}, {\"datetime\": \"2013-01-06T06:00:00\", \"temperature\": 44.9, \"city_Detroit\": 0, \"city_San Diego\": 1, \"city_San Francisco\": 0, \"city\": \"San Diego\", \"day\": 6, \"month\": 1, \"year\": 2013, \"hour\": 6, \"day_of_week\": 6, \"pred\": 43.67692307692308}, {\"datetime\": \"2013-01-06T06:00:00\", \"temperature\": 42.5, \"city_Detroit\": 0, \"city_San Diego\": 0, \"city_San Francisco\": 1, \"city\": \"San Francisco\", \"day\": 6, \"month\": 1, \"year\": 2013, \"hour\": 6, \"day_of_week\": 6, \"pred\": 43.43333333333333}, {\"datetime\": \"2013-01-06T07:00:00\", \"temperature\": 43.7, \"city_Detroit\": 0, \"city_San Diego\": 1, \"city_San Francisco\": 0, \"city\": \"San Diego\", \"day\": 6, \"month\": 1, \"year\": 2013, \"hour\": 7, \"day_of_week\": 6, \"pred\": 43.67692307692308}, {\"datetime\": \"2013-01-06T07:00:00\", \"temperature\": 41.6, \"city_Detroit\": 0, \"city_San Diego\": 0, \"city_San Francisco\": 1, \"city\": \"San Francisco\", \"day\": 6, \"month\": 1, \"year\": 2013, \"hour\": 7, \"day_of_week\": 6, \"pred\": 40.24090909090909}, {\"datetime\": \"2013-01-06T07:00:00\", \"temperature\": 23.9, \"city_Detroit\": 1, \"city_San Diego\": 0, \"city_San Francisco\": 0, \"city\": \"Detroit\", \"day\": 6, \"month\": 1, \"year\": 2013, \"hour\": 7, \"day_of_week\": 6, \"pred\": 22.490000000000002}, {\"datetime\": \"2013-01-06T08:00:00\", \"temperature\": 40.0, \"city_Detroit\": 0, \"city_San Diego\": 0, \"city_San Francisco\": 1, \"city\": \"San Francisco\", \"day\": 6, \"month\": 1, \"year\": 2013, \"hour\": 8, \"day_of_week\": 6, \"pred\": 40.24090909090909}, {\"datetime\": \"2013-01-06T08:00:00\", \"temperature\": 23.4, \"city_Detroit\": 1, \"city_San Diego\": 0, \"city_San Francisco\": 0, \"city\": \"Detroit\", \"day\": 6, \"month\": 1, \"year\": 2013, \"hour\": 8, \"day_of_week\": 6, \"pred\": 22.490000000000002}, {\"datetime\": \"2013-01-06T08:00:00\", \"temperature\": 42.7, \"city_Detroit\": 0, \"city_San Diego\": 1, \"city_San Francisco\": 0, \"city\": \"San Diego\", \"day\": 6, \"month\": 1, \"year\": 2013, \"hour\": 8, \"day_of_week\": 6, \"pred\": 43.67692307692308}, {\"datetime\": \"2013-01-06T09:00:00\", \"temperature\": 23.1, \"city_Detroit\": 1, \"city_San Diego\": 0, \"city_San Francisco\": 0, \"city\": \"Detroit\", \"day\": 6, \"month\": 1, \"year\": 2013, \"hour\": 9, \"day_of_week\": 6, \"pred\": 22.490000000000002}, {\"datetime\": \"2013-01-06T09:00:00\", \"temperature\": 42.2, \"city_Detroit\": 0, \"city_San Diego\": 1, \"city_San Francisco\": 0, \"city\": \"San Diego\", \"day\": 6, \"month\": 1, \"year\": 2013, \"hour\": 9, \"day_of_week\": 6, \"pred\": 43.67692307692308}, {\"datetime\": \"2013-01-06T09:00:00\", \"temperature\": 39.4, \"city_Detroit\": 0, \"city_San Diego\": 0, \"city_San Francisco\": 1, \"city\": \"San Francisco\", \"day\": 6, \"month\": 1, \"year\": 2013, \"hour\": 9, \"day_of_week\": 6, \"pred\": 40.24090909090909}, {\"datetime\": \"2013-01-06T10:00:00\", \"temperature\": 22.1, \"city_Detroit\": 1, \"city_San Diego\": 0, \"city_San Francisco\": 0, \"city\": \"Detroit\", \"day\": 6, \"month\": 1, \"year\": 2013, \"hour\": 10, \"day_of_week\": 6, \"pred\": 22.490000000000002}, {\"datetime\": \"2013-01-06T10:00:00\", \"temperature\": 42.0, \"city_Detroit\": 0, \"city_San Diego\": 1, \"city_San Francisco\": 0, \"city\": \"San Diego\", \"day\": 6, \"month\": 1, \"year\": 2013, \"hour\": 10, \"day_of_week\": 6, \"pred\": 43.67692307692308}, {\"datetime\": \"2013-01-06T10:00:00\", \"temperature\": 38.9, \"city_Detroit\": 0, \"city_San Diego\": 0, \"city_San Francisco\": 1, \"city\": \"San Francisco\", \"day\": 6, \"month\": 1, \"year\": 2013, \"hour\": 10, \"day_of_week\": 6, \"pred\": 40.24090909090909}, {\"datetime\": \"2013-01-06T11:00:00\", \"temperature\": 20.8, \"city_Detroit\": 1, \"city_San Diego\": 0, \"city_San Francisco\": 0, \"city\": \"Detroit\", \"day\": 6, \"month\": 1, \"year\": 2013, \"hour\": 11, \"day_of_week\": 6, \"pred\": 22.490000000000002}, {\"datetime\": \"2013-01-06T11:00:00\", \"temperature\": 42.5, \"city_Detroit\": 0, \"city_San Diego\": 1, \"city_San Francisco\": 0, \"city\": \"San Diego\", \"day\": 6, \"month\": 1, \"year\": 2013, \"hour\": 11, \"day_of_week\": 6, \"pred\": 43.67692307692308}, {\"datetime\": \"2013-01-06T11:00:00\", \"temperature\": 40.2, \"city_Detroit\": 0, \"city_San Diego\": 0, \"city_San Francisco\": 1, \"city\": \"San Francisco\", \"day\": 6, \"month\": 1, \"year\": 2013, \"hour\": 11, \"day_of_week\": 6, \"pred\": 40.24090909090909}, {\"datetime\": \"2013-01-06T12:00:00\", \"temperature\": 39.5, \"city_Detroit\": 0, \"city_San Diego\": 0, \"city_San Francisco\": 1, \"city\": \"San Francisco\", \"day\": 6, \"month\": 1, \"year\": 2013, \"hour\": 12, \"day_of_week\": 6, \"pred\": 40.24090909090909}, {\"datetime\": \"2013-01-06T12:00:00\", \"temperature\": 40.7, \"city_Detroit\": 0, \"city_San Diego\": 1, \"city_San Francisco\": 0, \"city\": \"San Diego\", \"day\": 6, \"month\": 1, \"year\": 2013, \"hour\": 12, \"day_of_week\": 6, \"pred\": 43.67692307692308}, {\"datetime\": \"2013-01-06T12:00:00\", \"temperature\": 20.4, \"city_Detroit\": 1, \"city_San Diego\": 0, \"city_San Francisco\": 0, \"city\": \"Detroit\", \"day\": 6, \"month\": 1, \"year\": 2013, \"hour\": 12, \"day_of_week\": 6, \"pred\": 22.490000000000002}, {\"datetime\": \"2013-01-06T13:00:00\", \"temperature\": 39.6, \"city_Detroit\": 0, \"city_San Diego\": 0, \"city_San Francisco\": 1, \"city\": \"San Francisco\", \"day\": 6, \"month\": 1, \"year\": 2013, \"hour\": 13, \"day_of_week\": 6, \"pred\": 40.24090909090909}, {\"datetime\": \"2013-01-06T13:00:00\", \"temperature\": 20.0, \"city_Detroit\": 1, \"city_San Diego\": 0, \"city_San Francisco\": 0, \"city\": \"Detroit\", \"day\": 6, \"month\": 1, \"year\": 2013, \"hour\": 13, \"day_of_week\": 6, \"pred\": 22.490000000000002}, {\"datetime\": \"2013-01-06T13:00:00\", \"temperature\": 40.9, \"city_Detroit\": 0, \"city_San Diego\": 1, \"city_San Francisco\": 0, \"city\": \"San Diego\", \"day\": 6, \"month\": 1, \"year\": 2013, \"hour\": 13, \"day_of_week\": 6, \"pred\": 43.67692307692308}, {\"datetime\": \"2013-01-06T14:00:00\", \"temperature\": 40.4, \"city_Detroit\": 0, \"city_San Diego\": 0, \"city_San Francisco\": 1, \"city\": \"San Francisco\", \"day\": 6, \"month\": 1, \"year\": 2013, \"hour\": 14, \"day_of_week\": 6, \"pred\": 40.24090909090909}, {\"datetime\": \"2013-01-06T14:00:00\", \"temperature\": 21.3, \"city_Detroit\": 1, \"city_San Diego\": 0, \"city_San Francisco\": 0, \"city\": \"Detroit\", \"day\": 6, \"month\": 1, \"year\": 2013, \"hour\": 14, \"day_of_week\": 6, \"pred\": 22.490000000000002}, {\"datetime\": \"2013-01-06T14:00:00\", \"temperature\": 40.1, \"city_Detroit\": 0, \"city_San Diego\": 1, \"city_San Francisco\": 0, \"city\": \"San Diego\", \"day\": 6, \"month\": 1, \"year\": 2013, \"hour\": 14, \"day_of_week\": 6, \"pred\": 43.67692307692308}, {\"datetime\": \"2013-01-06T15:00:00\", \"temperature\": 22.7, \"city_Detroit\": 1, \"city_San Diego\": 0, \"city_San Francisco\": 0, \"city\": \"Detroit\", \"day\": 6, \"month\": 1, \"year\": 2013, \"hour\": 15, \"day_of_week\": 6, \"pred\": 22.490000000000002}, {\"datetime\": \"2013-01-06T15:00:00\", \"temperature\": 41.5, \"city_Detroit\": 0, \"city_San Diego\": 1, \"city_San Francisco\": 0, \"city\": \"San Diego\", \"day\": 6, \"month\": 1, \"year\": 2013, \"hour\": 15, \"day_of_week\": 6, \"pred\": 43.67692307692308}, {\"datetime\": \"2013-01-06T15:00:00\", \"temperature\": 41.4, \"city_Detroit\": 0, \"city_San Diego\": 0, \"city_San Francisco\": 1, \"city\": \"San Francisco\", \"day\": 6, \"month\": 1, \"year\": 2013, \"hour\": 15, \"day_of_week\": 6, \"pred\": 40.24090909090909}, {\"datetime\": \"2013-01-06T16:00:00\", \"temperature\": 46.8, \"city_Detroit\": 0, \"city_San Diego\": 1, \"city_San Francisco\": 0, \"city\": \"San Diego\", \"day\": 6, \"month\": 1, \"year\": 2013, \"hour\": 16, \"day_of_week\": 6, \"pred\": 43.67692307692308}, {\"datetime\": \"2013-01-06T16:00:00\", \"temperature\": 27.2, \"city_Detroit\": 1, \"city_San Diego\": 0, \"city_San Francisco\": 0, \"city\": \"Detroit\", \"day\": 6, \"month\": 1, \"year\": 2013, \"hour\": 16, \"day_of_week\": 6, \"pred\": 22.490000000000002}, {\"datetime\": \"2013-01-06T16:00:00\", \"temperature\": 42.6, \"city_Detroit\": 0, \"city_San Diego\": 0, \"city_San Francisco\": 1, \"city\": \"San Francisco\", \"day\": 6, \"month\": 1, \"year\": 2013, \"hour\": 16, \"day_of_week\": 6, \"pred\": 40.24090909090909}, {\"datetime\": \"2013-01-06T17:00:00\", \"temperature\": 54.3, \"city_Detroit\": 0, \"city_San Diego\": 1, \"city_San Francisco\": 0, \"city\": \"San Diego\", \"day\": 6, \"month\": 1, \"year\": 2013, \"hour\": 17, \"day_of_week\": 6, \"pred\": 52.175}, {\"datetime\": \"2013-01-06T17:00:00\", \"temperature\": 29.3, \"city_Detroit\": 1, \"city_San Diego\": 0, \"city_San Francisco\": 0, \"city\": \"Detroit\", \"day\": 6, \"month\": 1, \"year\": 2013, \"hour\": 17, \"day_of_week\": 6, \"pred\": 29.3}, {\"datetime\": \"2013-01-06T17:00:00\", \"temperature\": 44.5, \"city_Detroit\": 0, \"city_San Diego\": 0, \"city_San Francisco\": 1, \"city\": \"San Francisco\", \"day\": 6, \"month\": 1, \"year\": 2013, \"hour\": 17, \"day_of_week\": 6, \"pred\": 40.24090909090909}, {\"datetime\": \"2013-01-06T18:00:00\", \"temperature\": 58.2, \"city_Detroit\": 0, \"city_San Diego\": 1, \"city_San Francisco\": 0, \"city\": \"San Diego\", \"day\": 6, \"month\": 1, \"year\": 2013, \"hour\": 18, \"day_of_week\": 6, \"pred\": 58.2}]}}, {\"mode\": \"vega-lite\"});\n",
       "</script>"
      ],
      "text/plain": [
       "alt.Chart(...)"
      ]
     },
     "execution_count": 45,
     "metadata": {},
     "output_type": "execute_result"
    }
   ],
   "source": [
    "c_14 = alt.Chart(df[6400:7000]).mark_line().encode(\n",
    "    x=\"datetime\",\n",
    "    y=\"pred\",\n",
    "    color=\"city\",\n",
    "    tooltip=[\"city\", \"temperature\", \"pred\", \"datetime\", \"hour\"]\n",
    ").properties(\n",
    "    width=600\n",
    ")\n",
    "\n",
    "c_14"
   ]
  },
  {
   "cell_type": "markdown",
   "metadata": {},
   "source": [
    "How do those values compare to the true values?  Look how similar they are!  Is that a good sign?  No, it is almost surely a sign of overfitting.  Using a depth of 14 in this case is providing too much flexibility to the model."
   ]
  },
  {
   "cell_type": "code",
   "execution_count": 46,
   "metadata": {
    "cell_id": "e8639452b9ff4010b4372f9bb1fbce27",
    "deepnote_cell_type": "code",
    "deepnote_to_be_reexecuted": false,
    "execution_millis": 34,
    "execution_start": 1685565840394,
    "source_hash": "bb2de985"
   },
   "outputs": [
    {
     "data": {
      "text/html": [
       "\n",
       "<div id=\"altair-viz-a7388e19661e4b51b994c779d4e7fae1\"></div>\n",
       "<script type=\"text/javascript\">\n",
       "  var VEGA_DEBUG = (typeof VEGA_DEBUG == \"undefined\") ? {} : VEGA_DEBUG;\n",
       "  (function(spec, embedOpt){\n",
       "    let outputDiv = document.currentScript.previousElementSibling;\n",
       "    if (outputDiv.id !== \"altair-viz-a7388e19661e4b51b994c779d4e7fae1\") {\n",
       "      outputDiv = document.getElementById(\"altair-viz-a7388e19661e4b51b994c779d4e7fae1\");\n",
       "    }\n",
       "    const paths = {\n",
       "      \"vega\": \"https://cdn.jsdelivr.net/npm//vega@5?noext\",\n",
       "      \"vega-lib\": \"https://cdn.jsdelivr.net/npm//vega-lib?noext\",\n",
       "      \"vega-lite\": \"https://cdn.jsdelivr.net/npm//vega-lite@4.17.0?noext\",\n",
       "      \"vega-embed\": \"https://cdn.jsdelivr.net/npm//vega-embed@6?noext\",\n",
       "    };\n",
       "\n",
       "    function maybeLoadScript(lib, version) {\n",
       "      var key = `${lib.replace(\"-\", \"\")}_version`;\n",
       "      return (VEGA_DEBUG[key] == version) ?\n",
       "        Promise.resolve(paths[lib]) :\n",
       "        new Promise(function(resolve, reject) {\n",
       "          var s = document.createElement('script');\n",
       "          document.getElementsByTagName(\"head\")[0].appendChild(s);\n",
       "          s.async = true;\n",
       "          s.onload = () => {\n",
       "            VEGA_DEBUG[key] = version;\n",
       "            return resolve(paths[lib]);\n",
       "          };\n",
       "          s.onerror = () => reject(`Error loading script: ${paths[lib]}`);\n",
       "          s.src = paths[lib];\n",
       "        });\n",
       "    }\n",
       "\n",
       "    function showError(err) {\n",
       "      outputDiv.innerHTML = `<div class=\"error\" style=\"color:red;\">${err}</div>`;\n",
       "      throw err;\n",
       "    }\n",
       "\n",
       "    function displayChart(vegaEmbed) {\n",
       "      vegaEmbed(outputDiv, spec, embedOpt)\n",
       "        .catch(err => showError(`Javascript Error: ${err.message}<br>This usually means there's a typo in your chart specification. See the javascript console for the full traceback.`));\n",
       "    }\n",
       "\n",
       "    if(typeof define === \"function\" && define.amd) {\n",
       "      requirejs.config({paths});\n",
       "      require([\"vega-embed\"], displayChart, err => showError(`Error loading script: ${err.message}`));\n",
       "    } else {\n",
       "      maybeLoadScript(\"vega\", \"5\")\n",
       "        .then(() => maybeLoadScript(\"vega-lite\", \"4.17.0\"))\n",
       "        .then(() => maybeLoadScript(\"vega-embed\", \"6\"))\n",
       "        .catch(showError)\n",
       "        .then(() => displayChart(vegaEmbed));\n",
       "    }\n",
       "  })({\"config\": {\"view\": {\"continuousWidth\": 400, \"continuousHeight\": 300}}, \"layer\": [{\"data\": {\"name\": \"data-98c1eb3b7d11bf93af34bff84a4fc7fe\"}, \"mark\": \"line\", \"encoding\": {\"color\": {\"field\": \"city\", \"type\": \"nominal\"}, \"tooltip\": [{\"field\": \"city\", \"type\": \"nominal\"}, {\"field\": \"temperature\", \"type\": \"quantitative\"}, {\"field\": \"datetime\", \"type\": \"temporal\"}], \"x\": {\"field\": \"datetime\", \"type\": \"temporal\"}, \"y\": {\"field\": \"temperature\", \"type\": \"quantitative\"}}, \"width\": 600}, {\"data\": {\"name\": \"data-514d83a8a054bf0ca337dbdb8f4e196a\"}, \"mark\": \"line\", \"encoding\": {\"color\": {\"field\": \"city\", \"type\": \"nominal\"}, \"tooltip\": [{\"field\": \"city\", \"type\": \"nominal\"}, {\"field\": \"temperature\", \"type\": \"quantitative\"}, {\"field\": \"pred\", \"type\": \"quantitative\"}, {\"field\": \"datetime\", \"type\": \"temporal\"}, {\"field\": \"hour\", \"type\": \"quantitative\"}], \"x\": {\"field\": \"datetime\", \"type\": \"temporal\"}, \"y\": {\"field\": \"pred\", \"type\": \"quantitative\"}}, \"width\": 600}], \"$schema\": \"https://vega.github.io/schema/vega-lite/v4.17.0.json\", \"datasets\": {\"data-98c1eb3b7d11bf93af34bff84a4fc7fe\": [{\"datetime\": \"2012-12-29T10:00:00\", \"city\": \"Detroit\", \"temperature\": 16.5}, {\"datetime\": \"2012-12-29T10:00:00\", \"city\": \"San Diego\", \"temperature\": 43.8}, {\"datetime\": \"2012-12-29T11:00:00\", \"city\": \"San Diego\", \"temperature\": 43.0}, {\"datetime\": \"2012-12-29T11:00:00\", \"city\": \"Detroit\", \"temperature\": 19.7}, {\"datetime\": \"2012-12-29T11:00:00\", \"city\": \"San Francisco\", \"temperature\": 39.9}, {\"datetime\": \"2012-12-29T12:00:00\", \"city\": \"San Diego\", \"temperature\": 41.2}, {\"datetime\": \"2012-12-29T12:00:00\", \"city\": \"Detroit\", \"temperature\": 18.5}, {\"datetime\": \"2012-12-29T12:00:00\", \"city\": \"San Francisco\", \"temperature\": 38.0}, {\"datetime\": \"2012-12-29T13:00:00\", \"city\": \"San Francisco\", \"temperature\": 38.8}, {\"datetime\": \"2012-12-29T13:00:00\", \"city\": \"San Diego\", \"temperature\": 41.7}, {\"datetime\": \"2012-12-29T13:00:00\", \"city\": \"Detroit\", \"temperature\": 17.4}, {\"datetime\": \"2012-12-29T14:00:00\", \"city\": \"San Francisco\", \"temperature\": 37.4}, {\"datetime\": \"2012-12-29T14:00:00\", \"city\": \"Detroit\", \"temperature\": 19.0}, {\"datetime\": \"2012-12-29T14:00:00\", \"city\": \"San Diego\", \"temperature\": 40.6}, {\"datetime\": \"2012-12-29T15:00:00\", \"city\": \"San Diego\", \"temperature\": 41.6}, {\"datetime\": \"2012-12-29T15:00:00\", \"city\": \"Detroit\", \"temperature\": 21.6}, {\"datetime\": \"2012-12-29T15:00:00\", \"city\": \"San Francisco\", \"temperature\": 37.6}, {\"datetime\": \"2012-12-29T16:00:00\", \"city\": \"San Diego\", \"temperature\": 46.9}, {\"datetime\": \"2012-12-29T16:00:00\", \"city\": \"San Francisco\", \"temperature\": 39.3}, {\"datetime\": \"2012-12-29T16:00:00\", \"city\": \"Detroit\", \"temperature\": 24.5}, {\"datetime\": \"2012-12-29T17:00:00\", \"city\": \"Detroit\", \"temperature\": 26.3}, {\"datetime\": \"2012-12-29T17:00:00\", \"city\": \"San Francisco\", \"temperature\": 40.7}, {\"datetime\": \"2012-12-29T17:00:00\", \"city\": \"San Diego\", \"temperature\": 53.0}, {\"datetime\": \"2012-12-29T18:00:00\", \"city\": \"San Diego\", \"temperature\": 57.5}, {\"datetime\": \"2012-12-29T18:00:00\", \"city\": \"Detroit\", \"temperature\": 27.9}, {\"datetime\": \"2012-12-29T18:00:00\", \"city\": \"San Francisco\", \"temperature\": 43.1}, {\"datetime\": \"2012-12-29T19:00:00\", \"city\": \"Detroit\", \"temperature\": 28.8}, {\"datetime\": \"2012-12-29T19:00:00\", \"city\": \"San Diego\", \"temperature\": 59.6}, {\"datetime\": \"2012-12-29T19:00:00\", \"city\": \"San Francisco\", \"temperature\": 44.0}, {\"datetime\": \"2012-12-29T20:00:00\", \"city\": \"San Diego\", \"temperature\": 61.8}, {\"datetime\": \"2012-12-29T20:00:00\", \"city\": \"San Francisco\", \"temperature\": 45.2}, {\"datetime\": \"2012-12-29T20:00:00\", \"city\": \"Detroit\", \"temperature\": 28.8}, {\"datetime\": \"2012-12-29T21:00:00\", \"city\": \"San Francisco\", \"temperature\": 46.2}, {\"datetime\": \"2012-12-29T21:00:00\", \"city\": \"San Diego\", \"temperature\": 62.5}, {\"datetime\": \"2012-12-29T21:00:00\", \"city\": \"Detroit\", \"temperature\": 29.9}, {\"datetime\": \"2012-12-29T22:00:00\", \"city\": \"San Diego\", \"temperature\": 62.5}, {\"datetime\": \"2012-12-29T22:00:00\", \"city\": \"Detroit\", \"temperature\": 29.0}, {\"datetime\": \"2012-12-29T22:00:00\", \"city\": \"San Francisco\", \"temperature\": 47.3}, {\"datetime\": \"2012-12-29T23:00:00\", \"city\": \"San Diego\", \"temperature\": 61.4}, {\"datetime\": \"2012-12-29T23:00:00\", \"city\": \"Detroit\", \"temperature\": 28.1}, {\"datetime\": \"2012-12-29T23:00:00\", \"city\": \"San Francisco\", \"temperature\": 47.6}, {\"datetime\": \"2012-12-30T00:00:00\", \"city\": \"San Diego\", \"temperature\": 58.2}, {\"datetime\": \"2012-12-30T00:00:00\", \"city\": \"Detroit\", \"temperature\": 27.1}, {\"datetime\": \"2012-12-30T00:00:00\", \"city\": \"San Francisco\", \"temperature\": 47.8}, {\"datetime\": \"2012-12-30T01:00:00\", \"city\": \"San Francisco\", \"temperature\": 46.3}, {\"datetime\": \"2012-12-30T01:00:00\", \"city\": \"San Diego\", \"temperature\": 54.6}, {\"datetime\": \"2012-12-30T01:00:00\", \"city\": \"Detroit\", \"temperature\": 26.8}, {\"datetime\": \"2012-12-30T02:00:00\", \"city\": \"San Diego\", \"temperature\": 52.2}, {\"datetime\": \"2012-12-30T02:00:00\", \"city\": \"Detroit\", \"temperature\": 26.5}, {\"datetime\": \"2012-12-30T02:00:00\", \"city\": \"San Francisco\", \"temperature\": 45.1}, {\"datetime\": \"2012-12-30T03:00:00\", \"city\": \"San Diego\", \"temperature\": 50.3}, {\"datetime\": \"2012-12-30T03:00:00\", \"city\": \"Detroit\", \"temperature\": 26.6}, {\"datetime\": \"2012-12-30T03:00:00\", \"city\": \"San Francisco\", \"temperature\": 45.4}, {\"datetime\": \"2012-12-30T04:00:00\", \"city\": \"San Francisco\", \"temperature\": 45.3}, {\"datetime\": \"2012-12-30T04:00:00\", \"city\": \"San Diego\", \"temperature\": 49.4}, {\"datetime\": \"2012-12-30T04:00:00\", \"city\": \"Detroit\", \"temperature\": 27.3}, {\"datetime\": \"2012-12-30T05:00:00\", \"city\": \"San Francisco\", \"temperature\": 44.7}, {\"datetime\": \"2012-12-30T05:00:00\", \"city\": \"Detroit\", \"temperature\": 28.2}, {\"datetime\": \"2012-12-30T05:00:00\", \"city\": \"San Diego\", \"temperature\": 48.2}, {\"datetime\": \"2012-12-30T06:00:00\", \"city\": \"San Francisco\", \"temperature\": 44.5}, {\"datetime\": \"2012-12-30T06:00:00\", \"city\": \"Detroit\", \"temperature\": 28.2}, {\"datetime\": \"2012-12-30T06:00:00\", \"city\": \"San Diego\", \"temperature\": 48.4}, {\"datetime\": \"2012-12-30T07:00:00\", \"city\": \"San Diego\", \"temperature\": 48.6}, {\"datetime\": \"2012-12-30T07:00:00\", \"city\": \"San Francisco\", \"temperature\": 43.9}, {\"datetime\": \"2012-12-30T07:00:00\", \"city\": \"Detroit\", \"temperature\": 28.1}, {\"datetime\": \"2012-12-30T08:00:00\", \"city\": \"San Diego\", \"temperature\": 48.3}, {\"datetime\": \"2012-12-30T08:00:00\", \"city\": \"San Francisco\", \"temperature\": 43.9}, {\"datetime\": \"2012-12-30T08:00:00\", \"city\": \"Detroit\", \"temperature\": 28.1}, {\"datetime\": \"2012-12-30T09:00:00\", \"city\": \"San Diego\", \"temperature\": 47.5}, {\"datetime\": \"2012-12-30T09:00:00\", \"city\": \"Detroit\", \"temperature\": 27.9}, {\"datetime\": \"2012-12-30T09:00:00\", \"city\": \"San Francisco\", \"temperature\": 43.2}, {\"datetime\": \"2012-12-30T10:00:00\", \"city\": \"San Diego\", \"temperature\": 45.9}, {\"datetime\": \"2012-12-30T10:00:00\", \"city\": \"Detroit\", \"temperature\": 27.8}, {\"datetime\": \"2012-12-30T10:00:00\", \"city\": \"San Francisco\", \"temperature\": 43.2}, {\"datetime\": \"2012-12-30T11:00:00\", \"city\": \"San Francisco\", \"temperature\": 43.2}, {\"datetime\": \"2012-12-30T11:00:00\", \"city\": \"San Diego\", \"temperature\": 44.6}, {\"datetime\": \"2012-12-30T11:00:00\", \"city\": \"Detroit\", \"temperature\": 28.0}, {\"datetime\": \"2012-12-30T12:00:00\", \"city\": \"San Diego\", \"temperature\": 43.4}, {\"datetime\": \"2012-12-30T12:00:00\", \"city\": \"San Francisco\", \"temperature\": 43.0}, {\"datetime\": \"2012-12-30T12:00:00\", \"city\": \"Detroit\", \"temperature\": 28.4}, {\"datetime\": \"2012-12-30T13:00:00\", \"city\": \"San Francisco\", \"temperature\": 42.8}, {\"datetime\": \"2012-12-30T13:00:00\", \"city\": \"Detroit\", \"temperature\": 28.4}, {\"datetime\": \"2012-12-30T13:00:00\", \"city\": \"San Diego\", \"temperature\": 43.3}, {\"datetime\": \"2012-12-30T14:00:00\", \"city\": \"Detroit\", \"temperature\": 28.4}, {\"datetime\": \"2012-12-30T14:00:00\", \"city\": \"San Diego\", \"temperature\": 45.0}, {\"datetime\": \"2012-12-30T14:00:00\", \"city\": \"San Francisco\", \"temperature\": 43.1}, {\"datetime\": \"2012-12-30T15:00:00\", \"city\": \"Detroit\", \"temperature\": 28.8}, {\"datetime\": \"2012-12-30T15:00:00\", \"city\": \"San Diego\", \"temperature\": 44.9}, {\"datetime\": \"2012-12-30T15:00:00\", \"city\": \"San Francisco\", \"temperature\": 42.6}, {\"datetime\": \"2012-12-30T16:00:00\", \"city\": \"San Diego\", \"temperature\": 47.3}, {\"datetime\": \"2012-12-30T16:00:00\", \"city\": \"Detroit\", \"temperature\": 26.5}, {\"datetime\": \"2012-12-30T16:00:00\", \"city\": \"San Francisco\", \"temperature\": 43.8}, {\"datetime\": \"2012-12-30T17:00:00\", \"city\": \"San Francisco\", \"temperature\": 44.7}, {\"datetime\": \"2012-12-30T17:00:00\", \"city\": \"San Diego\", \"temperature\": 51.7}, {\"datetime\": \"2012-12-30T17:00:00\", \"city\": \"Detroit\", \"temperature\": 30.8}, {\"datetime\": \"2012-12-30T18:00:00\", \"city\": \"Detroit\", \"temperature\": 30.8}, {\"datetime\": \"2012-12-30T18:00:00\", \"city\": \"San Francisco\", \"temperature\": 46.3}, {\"datetime\": \"2012-12-30T18:00:00\", \"city\": \"San Diego\", \"temperature\": 55.2}, {\"datetime\": \"2012-12-30T19:00:00\", \"city\": \"Detroit\", \"temperature\": 30.6}, {\"datetime\": \"2012-12-30T19:00:00\", \"city\": \"San Francisco\", \"temperature\": 48.7}, {\"datetime\": \"2012-12-30T19:00:00\", \"city\": \"San Diego\", \"temperature\": 56.9}, {\"datetime\": \"2012-12-30T20:00:00\", \"city\": \"Detroit\", \"temperature\": 30.6}, {\"datetime\": \"2012-12-30T20:00:00\", \"city\": \"San Francisco\", \"temperature\": 49.8}, {\"datetime\": \"2012-12-30T20:00:00\", \"city\": \"San Diego\", \"temperature\": 58.8}, {\"datetime\": \"2012-12-30T21:00:00\", \"city\": \"Detroit\", \"temperature\": 30.6}, {\"datetime\": \"2012-12-30T21:00:00\", \"city\": \"San Francisco\", \"temperature\": 50.9}, {\"datetime\": \"2012-12-30T21:00:00\", \"city\": \"San Diego\", \"temperature\": 57.9}, {\"datetime\": \"2012-12-30T22:00:00\", \"city\": \"San Diego\", \"temperature\": 57.2}, {\"datetime\": \"2012-12-30T22:00:00\", \"city\": \"Detroit\", \"temperature\": 29.9}, {\"datetime\": \"2012-12-30T22:00:00\", \"city\": \"San Francisco\", \"temperature\": 51.9}, {\"datetime\": \"2012-12-30T23:00:00\", \"city\": \"San Diego\", \"temperature\": 55.4}, {\"datetime\": \"2012-12-30T23:00:00\", \"city\": \"Detroit\", \"temperature\": 29.6}, {\"datetime\": \"2012-12-30T23:00:00\", \"city\": \"San Francisco\", \"temperature\": 53.5}, {\"datetime\": \"2012-12-31T00:00:00\", \"city\": \"Detroit\", \"temperature\": 29.2}, {\"datetime\": \"2012-12-31T00:00:00\", \"city\": \"San Diego\", \"temperature\": 53.4}, {\"datetime\": \"2012-12-31T00:00:00\", \"city\": \"San Francisco\", \"temperature\": 52.8}, {\"datetime\": \"2012-12-31T01:00:00\", \"city\": \"San Diego\", \"temperature\": 51.7}, {\"datetime\": \"2012-12-31T01:00:00\", \"city\": \"San Francisco\", \"temperature\": 49.9}, {\"datetime\": \"2012-12-31T01:00:00\", \"city\": \"Detroit\", \"temperature\": 29.2}, {\"datetime\": \"2012-12-31T02:00:00\", \"city\": \"San Diego\", \"temperature\": 51.0}, {\"datetime\": \"2012-12-31T02:00:00\", \"city\": \"San Francisco\", \"temperature\": 46.2}, {\"datetime\": \"2012-12-31T02:00:00\", \"city\": \"Detroit\", \"temperature\": 28.5}, {\"datetime\": \"2012-12-31T03:00:00\", \"city\": \"San Francisco\", \"temperature\": 44.5}, {\"datetime\": \"2012-12-31T03:00:00\", \"city\": \"San Diego\", \"temperature\": 50.8}, {\"datetime\": \"2012-12-31T03:00:00\", \"city\": \"Detroit\", \"temperature\": 27.4}, {\"datetime\": \"2012-12-31T04:00:00\", \"city\": \"San Diego\", \"temperature\": 50.1}, {\"datetime\": \"2012-12-31T04:00:00\", \"city\": \"San Francisco\", \"temperature\": 43.0}, {\"datetime\": \"2012-12-31T04:00:00\", \"city\": \"Detroit\", \"temperature\": 25.6}, {\"datetime\": \"2012-12-31T05:00:00\", \"city\": \"Detroit\", \"temperature\": 26.1}, {\"datetime\": \"2012-12-31T05:00:00\", \"city\": \"San Diego\", \"temperature\": 47.6}, {\"datetime\": \"2012-12-31T05:00:00\", \"city\": \"San Francisco\", \"temperature\": 41.2}, {\"datetime\": \"2012-12-31T06:00:00\", \"city\": \"San Francisco\", \"temperature\": 39.6}, {\"datetime\": \"2012-12-31T06:00:00\", \"city\": \"Detroit\", \"temperature\": 21.8}, {\"datetime\": \"2012-12-31T06:00:00\", \"city\": \"San Diego\", \"temperature\": 46.9}, {\"datetime\": \"2012-12-31T07:00:00\", \"city\": \"San Diego\", \"temperature\": 46.1}, {\"datetime\": \"2012-12-31T07:00:00\", \"city\": \"San Francisco\", \"temperature\": 38.0}, {\"datetime\": \"2012-12-31T07:00:00\", \"city\": \"Detroit\", \"temperature\": 17.5}, {\"datetime\": \"2012-12-31T08:00:00\", \"city\": \"San Diego\", \"temperature\": 46.1}, {\"datetime\": \"2012-12-31T08:00:00\", \"city\": \"Detroit\", \"temperature\": 17.5}, {\"datetime\": \"2012-12-31T08:00:00\", \"city\": \"San Francisco\", \"temperature\": 38.0}, {\"datetime\": \"2012-12-31T09:00:00\", \"city\": \"San Diego\", \"temperature\": 45.6}, {\"datetime\": \"2012-12-31T09:00:00\", \"city\": \"Detroit\", \"temperature\": 25.1}, {\"datetime\": \"2012-12-31T09:00:00\", \"city\": \"San Francisco\", \"temperature\": 39.4}, {\"datetime\": \"2012-12-31T10:00:00\", \"city\": \"Detroit\", \"temperature\": 25.5}, {\"datetime\": \"2012-12-31T10:00:00\", \"city\": \"San Francisco\", \"temperature\": 39.4}, {\"datetime\": \"2012-12-31T10:00:00\", \"city\": \"San Diego\", \"temperature\": 45.2}, {\"datetime\": \"2012-12-31T11:00:00\", \"city\": \"Detroit\", \"temperature\": 26.7}, {\"datetime\": \"2012-12-31T11:00:00\", \"city\": \"San Francisco\", \"temperature\": 39.5}, {\"datetime\": \"2012-12-31T11:00:00\", \"city\": \"San Diego\", \"temperature\": 44.7}, {\"datetime\": \"2012-12-31T12:00:00\", \"city\": \"Detroit\", \"temperature\": 27.4}, {\"datetime\": \"2012-12-31T12:00:00\", \"city\": \"San Francisco\", \"temperature\": 38.8}, {\"datetime\": \"2012-12-31T12:00:00\", \"city\": \"San Diego\", \"temperature\": 44.9}, {\"datetime\": \"2012-12-31T13:00:00\", \"city\": \"San Francisco\", \"temperature\": 38.1}, {\"datetime\": \"2012-12-31T13:00:00\", \"city\": \"Detroit\", \"temperature\": 27.8}, {\"datetime\": \"2012-12-31T13:00:00\", \"city\": \"San Diego\", \"temperature\": 44.2}, {\"datetime\": \"2012-12-31T14:00:00\", \"city\": \"San Diego\", \"temperature\": 44.8}, {\"datetime\": \"2012-12-31T14:00:00\", \"city\": \"San Francisco\", \"temperature\": 37.6}, {\"datetime\": \"2012-12-31T14:00:00\", \"city\": \"Detroit\", \"temperature\": 28.4}, {\"datetime\": \"2012-12-31T15:00:00\", \"city\": \"San Diego\", \"temperature\": 44.4}, {\"datetime\": \"2012-12-31T15:00:00\", \"city\": \"San Francisco\", \"temperature\": 38.0}, {\"datetime\": \"2012-12-31T15:00:00\", \"city\": \"Detroit\", \"temperature\": 29.5}, {\"datetime\": \"2012-12-31T16:00:00\", \"city\": \"San Francisco\", \"temperature\": 38.4}, {\"datetime\": \"2012-12-31T16:00:00\", \"city\": \"San Diego\", \"temperature\": 46.1}, {\"datetime\": \"2012-12-31T16:00:00\", \"city\": \"Detroit\", \"temperature\": 30.0}, {\"datetime\": \"2012-12-31T17:00:00\", \"city\": \"Detroit\", \"temperature\": 30.1}, {\"datetime\": \"2012-12-31T17:00:00\", \"city\": \"San Diego\", \"temperature\": 50.0}, {\"datetime\": \"2012-12-31T17:00:00\", \"city\": \"San Francisco\", \"temperature\": 41.9}, {\"datetime\": \"2012-12-31T18:00:00\", \"city\": \"San Diego\", \"temperature\": 51.8}, {\"datetime\": \"2012-12-31T18:00:00\", \"city\": \"Detroit\", \"temperature\": 29.2}, {\"datetime\": \"2012-12-31T18:00:00\", \"city\": \"San Francisco\", \"temperature\": 47.4}, {\"datetime\": \"2012-12-31T19:00:00\", \"city\": \"Detroit\", \"temperature\": 28.7}, {\"datetime\": \"2012-12-31T19:00:00\", \"city\": \"San Francisco\", \"temperature\": 49.7}, {\"datetime\": \"2012-12-31T19:00:00\", \"city\": \"San Diego\", \"temperature\": 52.9}, {\"datetime\": \"2012-12-31T20:00:00\", \"city\": \"Detroit\", \"temperature\": 27.3}, {\"datetime\": \"2012-12-31T20:00:00\", \"city\": \"San Diego\", \"temperature\": 52.3}, {\"datetime\": \"2012-12-31T20:00:00\", \"city\": \"San Francisco\", \"temperature\": 51.1}, {\"datetime\": \"2012-12-31T21:00:00\", \"city\": \"San Diego\", \"temperature\": 52.6}, {\"datetime\": \"2012-12-31T21:00:00\", \"city\": \"Detroit\", \"temperature\": 25.8}, {\"datetime\": \"2012-12-31T21:00:00\", \"city\": \"San Francisco\", \"temperature\": 52.4}, {\"datetime\": \"2012-12-31T22:00:00\", \"city\": \"San Diego\", \"temperature\": 52.2}, {\"datetime\": \"2012-12-31T22:00:00\", \"city\": \"San Francisco\", \"temperature\": 52.1}, {\"datetime\": \"2012-12-31T22:00:00\", \"city\": \"Detroit\", \"temperature\": 25.4}, {\"datetime\": \"2012-12-31T23:00:00\", \"city\": \"San Diego\", \"temperature\": 52.9}, {\"datetime\": \"2012-12-31T23:00:00\", \"city\": \"Detroit\", \"temperature\": 23.8}, {\"datetime\": \"2012-12-31T23:00:00\", \"city\": \"San Francisco\", \"temperature\": 52.6}, {\"datetime\": \"2013-01-01T00:00:00\", \"city\": \"Detroit\", \"temperature\": 22.2}, {\"datetime\": \"2013-01-01T00:00:00\", \"city\": \"San Diego\", \"temperature\": 51.0}, {\"datetime\": \"2013-01-01T00:00:00\", \"city\": \"San Francisco\", \"temperature\": 52.7}, {\"datetime\": \"2013-01-01T01:00:00\", \"city\": \"Detroit\", \"temperature\": 22.4}, {\"datetime\": \"2013-01-01T01:00:00\", \"city\": \"San Diego\", \"temperature\": 48.1}, {\"datetime\": \"2013-01-01T01:00:00\", \"city\": \"San Francisco\", \"temperature\": 50.4}, {\"datetime\": \"2013-01-01T02:00:00\", \"city\": \"San Diego\", \"temperature\": 46.7}, {\"datetime\": \"2013-01-01T02:00:00\", \"city\": \"San Francisco\", \"temperature\": 46.4}, {\"datetime\": \"2013-01-01T02:00:00\", \"city\": \"Detroit\", \"temperature\": 21.5}, {\"datetime\": \"2013-01-01T03:00:00\", \"city\": \"San Diego\", \"temperature\": 46.5}, {\"datetime\": \"2013-01-01T03:00:00\", \"city\": \"San Francisco\", \"temperature\": 45.1}, {\"datetime\": \"2013-01-01T03:00:00\", \"city\": \"Detroit\", \"temperature\": 20.6}, {\"datetime\": \"2013-01-01T04:00:00\", \"city\": \"San Diego\", \"temperature\": 45.4}, {\"datetime\": \"2013-01-01T04:00:00\", \"city\": \"San Francisco\", \"temperature\": 44.3}, {\"datetime\": \"2013-01-01T04:00:00\", \"city\": \"Detroit\", \"temperature\": 20.6}, {\"datetime\": \"2013-01-01T05:00:00\", \"city\": \"San Francisco\", \"temperature\": 43.1}, {\"datetime\": \"2013-01-01T05:00:00\", \"city\": \"San Diego\", \"temperature\": 44.0}, {\"datetime\": \"2013-01-01T05:00:00\", \"city\": \"Detroit\", \"temperature\": 20.3}, {\"datetime\": \"2013-01-01T06:00:00\", \"city\": \"San Diego\", \"temperature\": 41.6}, {\"datetime\": \"2013-01-01T06:00:00\", \"city\": \"San Francisco\", \"temperature\": 42.5}, {\"datetime\": \"2013-01-01T06:00:00\", \"city\": \"Detroit\", \"temperature\": 25.3}, {\"datetime\": \"2013-01-01T07:00:00\", \"city\": \"San Diego\", \"temperature\": 42.0}, {\"datetime\": \"2013-01-01T07:00:00\", \"city\": \"Detroit\", \"temperature\": 22.7}, {\"datetime\": \"2013-01-01T07:00:00\", \"city\": \"San Francisco\", \"temperature\": 42.3}, {\"datetime\": \"2013-01-01T08:00:00\", \"city\": \"Detroit\", \"temperature\": 23.3}, {\"datetime\": \"2013-01-01T08:00:00\", \"city\": \"San Francisco\", \"temperature\": 42.2}, {\"datetime\": \"2013-01-01T08:00:00\", \"city\": \"San Diego\", \"temperature\": 41.3}, {\"datetime\": \"2013-01-01T09:00:00\", \"city\": \"San Francisco\", \"temperature\": 40.8}, {\"datetime\": \"2013-01-01T09:00:00\", \"city\": \"San Diego\", \"temperature\": 41.0}, {\"datetime\": \"2013-01-01T09:00:00\", \"city\": \"Detroit\", \"temperature\": 25.0}, {\"datetime\": \"2013-01-01T10:00:00\", \"city\": \"Detroit\", \"temperature\": 25.9}, {\"datetime\": \"2013-01-01T10:00:00\", \"city\": \"San Francisco\", \"temperature\": 39.4}, {\"datetime\": \"2013-01-01T10:00:00\", \"city\": \"San Diego\", \"temperature\": 40.7}, {\"datetime\": \"2013-01-01T11:00:00\", \"city\": \"San Francisco\", \"temperature\": 38.8}, {\"datetime\": \"2013-01-01T11:00:00\", \"city\": \"Detroit\", \"temperature\": 26.5}, {\"datetime\": \"2013-01-01T11:00:00\", \"city\": \"San Diego\", \"temperature\": 39.9}, {\"datetime\": \"2013-01-01T12:00:00\", \"city\": \"San Diego\", \"temperature\": 38.7}, {\"datetime\": \"2013-01-01T12:00:00\", \"city\": \"San Francisco\", \"temperature\": 38.4}, {\"datetime\": \"2013-01-01T12:00:00\", \"city\": \"Detroit\", \"temperature\": 27.3}, {\"datetime\": \"2013-01-01T13:00:00\", \"city\": \"San Diego\", \"temperature\": 38.4}, {\"datetime\": \"2013-01-01T13:00:00\", \"city\": \"San Francisco\", \"temperature\": 38.1}, {\"datetime\": \"2013-01-01T13:00:00\", \"city\": \"Detroit\", \"temperature\": 27.6}, {\"datetime\": \"2013-01-01T14:00:00\", \"city\": \"San Diego\", \"temperature\": 37.2}, {\"datetime\": \"2013-01-01T14:00:00\", \"city\": \"San Francisco\", \"temperature\": 37.8}, {\"datetime\": \"2013-01-01T14:00:00\", \"city\": \"Detroit\", \"temperature\": 28.8}, {\"datetime\": \"2013-01-01T15:00:00\", \"city\": \"Detroit\", \"temperature\": 29.9}, {\"datetime\": \"2013-01-01T15:00:00\", \"city\": \"San Diego\", \"temperature\": 39.0}, {\"datetime\": \"2013-01-01T15:00:00\", \"city\": \"San Francisco\", \"temperature\": 37.9}, {\"datetime\": \"2013-01-01T16:00:00\", \"city\": \"San Francisco\", \"temperature\": 37.1}, {\"datetime\": \"2013-01-01T16:00:00\", \"city\": \"Detroit\", \"temperature\": 31.9}, {\"datetime\": \"2013-01-01T16:00:00\", \"city\": \"San Diego\", \"temperature\": 41.8}, {\"datetime\": \"2013-01-01T17:00:00\", \"city\": \"San Francisco\", \"temperature\": 42.7}, {\"datetime\": \"2013-01-01T17:00:00\", \"city\": \"Detroit\", \"temperature\": 32.9}, {\"datetime\": \"2013-01-01T17:00:00\", \"city\": \"San Diego\", \"temperature\": 48.2}, {\"datetime\": \"2013-01-01T18:00:00\", \"city\": \"San Francisco\", \"temperature\": 47.3}, {\"datetime\": \"2013-01-01T18:00:00\", \"city\": \"Detroit\", \"temperature\": 34.0}, {\"datetime\": \"2013-01-01T18:00:00\", \"city\": \"San Diego\", \"temperature\": 51.2}, {\"datetime\": \"2013-01-01T19:00:00\", \"city\": \"San Francisco\", \"temperature\": 48.6}, {\"datetime\": \"2013-01-01T19:00:00\", \"city\": \"Detroit\", \"temperature\": 34.2}, {\"datetime\": \"2013-01-01T19:00:00\", \"city\": \"San Diego\", \"temperature\": 54.8}, {\"datetime\": \"2013-01-01T20:00:00\", \"city\": \"San Francisco\", \"temperature\": 49.6}, {\"datetime\": \"2013-01-01T20:00:00\", \"city\": \"San Diego\", \"temperature\": 56.3}, {\"datetime\": \"2013-01-01T20:00:00\", \"city\": \"Detroit\", \"temperature\": 34.5}, {\"datetime\": \"2013-01-01T21:00:00\", \"city\": \"San Francisco\", \"temperature\": 50.2}, {\"datetime\": \"2013-01-01T21:00:00\", \"city\": \"San Diego\", \"temperature\": 57.7}, {\"datetime\": \"2013-01-01T21:00:00\", \"city\": \"Detroit\", \"temperature\": 35.0}, {\"datetime\": \"2013-01-01T22:00:00\", \"city\": \"San Diego\", \"temperature\": 57.6}, {\"datetime\": \"2013-01-01T22:00:00\", \"city\": \"Detroit\", \"temperature\": 34.8}, {\"datetime\": \"2013-01-01T22:00:00\", \"city\": \"San Francisco\", \"temperature\": 50.6}, {\"datetime\": \"2013-01-01T23:00:00\", \"city\": \"Detroit\", \"temperature\": 34.4}, {\"datetime\": \"2013-01-01T23:00:00\", \"city\": \"San Francisco\", \"temperature\": 51.1}, {\"datetime\": \"2013-01-01T23:00:00\", \"city\": \"San Diego\", \"temperature\": 57.2}, {\"datetime\": \"2013-01-02T00:00:00\", \"city\": \"Detroit\", \"temperature\": 34.8}, {\"datetime\": \"2013-01-02T00:00:00\", \"city\": \"San Diego\", \"temperature\": 54.8}, {\"datetime\": \"2013-01-02T00:00:00\", \"city\": \"San Francisco\", \"temperature\": 50.4}, {\"datetime\": \"2013-01-02T01:00:00\", \"city\": \"San Francisco\", \"temperature\": 48.4}, {\"datetime\": \"2013-01-02T01:00:00\", \"city\": \"Detroit\", \"temperature\": 34.2}, {\"datetime\": \"2013-01-02T01:00:00\", \"city\": \"San Diego\", \"temperature\": 52.2}, {\"datetime\": \"2013-01-02T02:00:00\", \"city\": \"Detroit\", \"temperature\": 33.8}, {\"datetime\": \"2013-01-02T02:00:00\", \"city\": \"San Francisco\", \"temperature\": 47.1}, {\"datetime\": \"2013-01-02T02:00:00\", \"city\": \"San Diego\", \"temperature\": 50.2}, {\"datetime\": \"2013-01-02T03:00:00\", \"city\": \"San Diego\", \"temperature\": 48.0}, {\"datetime\": \"2013-01-02T03:00:00\", \"city\": \"Detroit\", \"temperature\": 32.6}, {\"datetime\": \"2013-01-02T03:00:00\", \"city\": \"San Francisco\", \"temperature\": 46.1}, {\"datetime\": \"2013-01-02T04:00:00\", \"city\": \"Detroit\", \"temperature\": 31.6}, {\"datetime\": \"2013-01-02T04:00:00\", \"city\": \"San Francisco\", \"temperature\": 45.7}, {\"datetime\": \"2013-01-02T04:00:00\", \"city\": \"San Diego\", \"temperature\": 46.8}, {\"datetime\": \"2013-01-02T05:00:00\", \"city\": \"Detroit\", \"temperature\": 30.6}, {\"datetime\": \"2013-01-02T05:00:00\", \"city\": \"San Francisco\", \"temperature\": 43.6}, {\"datetime\": \"2013-01-02T05:00:00\", \"city\": \"San Diego\", \"temperature\": 45.3}, {\"datetime\": \"2013-01-02T06:00:00\", \"city\": \"San Francisco\", \"temperature\": 42.3}, {\"datetime\": \"2013-01-02T06:00:00\", \"city\": \"Detroit\", \"temperature\": 30.3}, {\"datetime\": \"2013-01-02T06:00:00\", \"city\": \"San Diego\", \"temperature\": 44.5}, {\"datetime\": \"2013-01-02T07:00:00\", \"city\": \"San Diego\", \"temperature\": 44.1}, {\"datetime\": \"2013-01-02T07:00:00\", \"city\": \"San Francisco\", \"temperature\": 41.8}, {\"datetime\": \"2013-01-02T07:00:00\", \"city\": \"Detroit\", \"temperature\": 29.6}, {\"datetime\": \"2013-01-02T08:00:00\", \"city\": \"San Diego\", \"temperature\": 44.0}, {\"datetime\": \"2013-01-02T08:00:00\", \"city\": \"San Francisco\", \"temperature\": 41.4}, {\"datetime\": \"2013-01-02T08:00:00\", \"city\": \"Detroit\", \"temperature\": 29.3}, {\"datetime\": \"2013-01-02T09:00:00\", \"city\": \"San Diego\", \"temperature\": 43.8}, {\"datetime\": \"2013-01-02T09:00:00\", \"city\": \"San Francisco\", \"temperature\": 40.5}, {\"datetime\": \"2013-01-02T09:00:00\", \"city\": \"Detroit\", \"temperature\": 27.9}, {\"datetime\": \"2013-01-02T10:00:00\", \"city\": \"San Francisco\", \"temperature\": 40.3}, {\"datetime\": \"2013-01-02T10:00:00\", \"city\": \"Detroit\", \"temperature\": 27.3}, {\"datetime\": \"2013-01-02T10:00:00\", \"city\": \"San Diego\", \"temperature\": 44.0}, {\"datetime\": \"2013-01-02T11:00:00\", \"city\": \"San Diego\", \"temperature\": 43.5}, {\"datetime\": \"2013-01-02T11:00:00\", \"city\": \"Detroit\", \"temperature\": 26.5}, {\"datetime\": \"2013-01-02T11:00:00\", \"city\": \"San Francisco\", \"temperature\": 40.3}, {\"datetime\": \"2013-01-02T12:00:00\", \"city\": \"Detroit\", \"temperature\": 25.5}, {\"datetime\": \"2013-01-02T12:00:00\", \"city\": \"San Diego\", \"temperature\": 43.2}, {\"datetime\": \"2013-01-02T12:00:00\", \"city\": \"San Francisco\", \"temperature\": 41.4}, {\"datetime\": \"2013-01-02T13:00:00\", \"city\": \"San Diego\", \"temperature\": 42.9}, {\"datetime\": \"2013-01-02T13:00:00\", \"city\": \"Detroit\", \"temperature\": 24.4}, {\"datetime\": \"2013-01-02T13:00:00\", \"city\": \"San Francisco\", \"temperature\": 41.4}, {\"datetime\": \"2013-01-02T14:00:00\", \"city\": \"San Francisco\", \"temperature\": 41.7}, {\"datetime\": \"2013-01-02T14:00:00\", \"city\": \"Detroit\", \"temperature\": 24.3}, {\"datetime\": \"2013-01-02T14:00:00\", \"city\": \"San Diego\", \"temperature\": 42.1}, {\"datetime\": \"2013-01-02T15:00:00\", \"city\": \"San Francisco\", \"temperature\": 41.5}, {\"datetime\": \"2013-01-02T15:00:00\", \"city\": \"Detroit\", \"temperature\": 25.0}, {\"datetime\": \"2013-01-02T15:00:00\", \"city\": \"San Diego\", \"temperature\": 42.8}, {\"datetime\": \"2013-01-02T16:00:00\", \"city\": \"Detroit\", \"temperature\": 24.6}, {\"datetime\": \"2013-01-02T16:00:00\", \"city\": \"San Diego\", \"temperature\": 46.7}, {\"datetime\": \"2013-01-02T16:00:00\", \"city\": \"San Francisco\", \"temperature\": 41.5}, {\"datetime\": \"2013-01-02T17:00:00\", \"city\": \"San Diego\", \"temperature\": 50.6}, {\"datetime\": \"2013-01-02T17:00:00\", \"city\": \"San Francisco\", \"temperature\": 44.3}, {\"datetime\": \"2013-01-02T17:00:00\", \"city\": \"Detroit\", \"temperature\": 24.1}, {\"datetime\": \"2013-01-02T18:00:00\", \"city\": \"San Francisco\", \"temperature\": 45.7}, {\"datetime\": \"2013-01-02T18:00:00\", \"city\": \"San Diego\", \"temperature\": 53.9}, {\"datetime\": \"2013-01-02T18:00:00\", \"city\": \"Detroit\", \"temperature\": 25.7}, {\"datetime\": \"2013-01-02T19:00:00\", \"city\": \"San Diego\", \"temperature\": 57.1}, {\"datetime\": \"2013-01-02T19:00:00\", \"city\": \"San Francisco\", \"temperature\": 48.0}, {\"datetime\": \"2013-01-02T19:00:00\", \"city\": \"Detroit\", \"temperature\": 25.5}, {\"datetime\": \"2013-01-02T20:00:00\", \"city\": \"San Diego\", \"temperature\": 58.6}, {\"datetime\": \"2013-01-02T20:00:00\", \"city\": \"San Francisco\", \"temperature\": 49.2}, {\"datetime\": \"2013-01-02T20:00:00\", \"city\": \"Detroit\", \"temperature\": 25.9}, {\"datetime\": \"2013-01-02T21:00:00\", \"city\": \"San Francisco\", \"temperature\": 50.2}, {\"datetime\": \"2013-01-02T21:00:00\", \"city\": \"San Diego\", \"temperature\": 59.7}, {\"datetime\": \"2013-01-02T21:00:00\", \"city\": \"Detroit\", \"temperature\": 25.6}, {\"datetime\": \"2013-01-02T22:00:00\", \"city\": \"San Francisco\", \"temperature\": 51.7}, {\"datetime\": \"2013-01-02T22:00:00\", \"city\": \"San Diego\", \"temperature\": 58.7}, {\"datetime\": \"2013-01-02T22:00:00\", \"city\": \"Detroit\", \"temperature\": 22.8}, {\"datetime\": \"2013-01-02T23:00:00\", \"city\": \"San Francisco\", \"temperature\": 51.8}, {\"datetime\": \"2013-01-02T23:00:00\", \"city\": \"Detroit\", \"temperature\": 21.7}, {\"datetime\": \"2013-01-02T23:00:00\", \"city\": \"San Diego\", \"temperature\": 57.9}, {\"datetime\": \"2013-01-03T00:00:00\", \"city\": \"Detroit\", \"temperature\": 20.7}, {\"datetime\": \"2013-01-03T00:00:00\", \"city\": \"San Francisco\", \"temperature\": 51.5}, {\"datetime\": \"2013-01-03T00:00:00\", \"city\": \"San Diego\", \"temperature\": 56.5}, {\"datetime\": \"2013-01-03T01:00:00\", \"city\": \"San Francisco\", \"temperature\": 49.2}, {\"datetime\": \"2013-01-03T01:00:00\", \"city\": \"Detroit\", \"temperature\": 18.6}, {\"datetime\": \"2013-01-03T01:00:00\", \"city\": \"San Diego\", \"temperature\": 54.6}, {\"datetime\": \"2013-01-03T02:00:00\", \"city\": \"San Francisco\", \"temperature\": 46.8}, {\"datetime\": \"2013-01-03T02:00:00\", \"city\": \"San Diego\", \"temperature\": 54.0}, {\"datetime\": \"2013-01-03T02:00:00\", \"city\": \"Detroit\", \"temperature\": 18.1}, {\"datetime\": \"2013-01-03T03:00:00\", \"city\": \"Detroit\", \"temperature\": 19.0}, {\"datetime\": \"2013-01-03T03:00:00\", \"city\": \"San Francisco\", \"temperature\": 44.2}, {\"datetime\": \"2013-01-03T03:00:00\", \"city\": \"San Diego\", \"temperature\": 53.4}, {\"datetime\": \"2013-01-03T04:00:00\", \"city\": \"San Francisco\", \"temperature\": 43.9}, {\"datetime\": \"2013-01-03T04:00:00\", \"city\": \"Detroit\", \"temperature\": 19.8}, {\"datetime\": \"2013-01-03T04:00:00\", \"city\": \"San Diego\", \"temperature\": 52.7}, {\"datetime\": \"2013-01-03T05:00:00\", \"city\": \"Detroit\", \"temperature\": 20.7}, {\"datetime\": \"2013-01-03T05:00:00\", \"city\": \"San Diego\", \"temperature\": 51.7}, {\"datetime\": \"2013-01-03T05:00:00\", \"city\": \"San Francisco\", \"temperature\": 39.7}, {\"datetime\": \"2013-01-03T06:00:00\", \"city\": \"San Francisco\", \"temperature\": 39.8}, {\"datetime\": \"2013-01-03T06:00:00\", \"city\": \"Detroit\", \"temperature\": 16.8}, {\"datetime\": \"2013-01-03T06:00:00\", \"city\": \"San Diego\", \"temperature\": 49.1}, {\"datetime\": \"2013-01-03T07:00:00\", \"city\": \"San Diego\", \"temperature\": 46.4}, {\"datetime\": \"2013-01-03T07:00:00\", \"city\": \"San Francisco\", \"temperature\": 40.0}, {\"datetime\": \"2013-01-03T07:00:00\", \"city\": \"Detroit\", \"temperature\": 12.9}, {\"datetime\": \"2013-01-03T08:00:00\", \"city\": \"Detroit\", \"temperature\": 12.9}, {\"datetime\": \"2013-01-03T08:00:00\", \"city\": \"San Francisco\", \"temperature\": 40.0}, {\"datetime\": \"2013-01-03T08:00:00\", \"city\": \"San Diego\", \"temperature\": 46.4}, {\"datetime\": \"2013-01-03T09:00:00\", \"city\": \"San Diego\", \"temperature\": 46.4}, {\"datetime\": \"2013-01-03T09:00:00\", \"city\": \"Detroit\", \"temperature\": 12.9}, {\"datetime\": \"2013-01-03T09:00:00\", \"city\": \"San Francisco\", \"temperature\": 40.0}, {\"datetime\": \"2013-01-03T10:00:00\", \"city\": \"San Diego\", \"temperature\": 46.4}, {\"datetime\": \"2013-01-03T10:00:00\", \"city\": \"Detroit\", \"temperature\": 12.9}, {\"datetime\": \"2013-01-03T10:00:00\", \"city\": \"San Francisco\", \"temperature\": 40.0}, {\"datetime\": \"2013-01-03T11:00:00\", \"city\": \"San Diego\", \"temperature\": 46.4}, {\"datetime\": \"2013-01-03T11:00:00\", \"city\": \"Detroit\", \"temperature\": 12.9}, {\"datetime\": \"2013-01-03T11:00:00\", \"city\": \"San Francisco\", \"temperature\": 40.0}, {\"datetime\": \"2013-01-03T12:00:00\", \"city\": \"San Francisco\", \"temperature\": 40.0}, {\"datetime\": \"2013-01-03T12:00:00\", \"city\": \"San Diego\", \"temperature\": 46.4}, {\"datetime\": \"2013-01-03T12:00:00\", \"city\": \"Detroit\", \"temperature\": 12.9}, {\"datetime\": \"2013-01-03T13:00:00\", \"city\": \"San Francisco\", \"temperature\": 36.0}, {\"datetime\": \"2013-01-03T13:00:00\", \"city\": \"Detroit\", \"temperature\": 15.5}, {\"datetime\": \"2013-01-03T13:00:00\", \"city\": \"San Diego\", \"temperature\": 44.9}, {\"datetime\": \"2013-01-03T14:00:00\", \"city\": \"Detroit\", \"temperature\": 17.2}, {\"datetime\": \"2013-01-03T14:00:00\", \"city\": \"San Francisco\", \"temperature\": 36.8}, {\"datetime\": \"2013-01-03T14:00:00\", \"city\": \"San Diego\", \"temperature\": 43.5}, {\"datetime\": \"2013-01-03T15:00:00\", \"city\": \"Detroit\", \"temperature\": 17.6}, {\"datetime\": \"2013-01-03T15:00:00\", \"city\": \"San Francisco\", \"temperature\": 37.5}, {\"datetime\": \"2013-01-03T15:00:00\", \"city\": \"San Diego\", \"temperature\": 42.2}, {\"datetime\": \"2013-01-03T16:00:00\", \"city\": \"San Diego\", \"temperature\": 48.8}, {\"datetime\": \"2013-01-03T16:00:00\", \"city\": \"Detroit\", \"temperature\": 22.6}, {\"datetime\": \"2013-01-03T16:00:00\", \"city\": \"San Francisco\", \"temperature\": 37.3}, {\"datetime\": \"2013-01-03T17:00:00\", \"city\": \"Detroit\", \"temperature\": 23.6}, {\"datetime\": \"2013-01-03T17:00:00\", \"city\": \"San Francisco\", \"temperature\": 42.5}, {\"datetime\": \"2013-01-03T17:00:00\", \"city\": \"San Diego\", \"temperature\": 54.9}, {\"datetime\": \"2013-01-03T18:00:00\", \"city\": \"Detroit\", \"temperature\": 24.8}, {\"datetime\": \"2013-01-03T18:00:00\", \"city\": \"San Francisco\", \"temperature\": 47.0}, {\"datetime\": \"2013-01-03T18:00:00\", \"city\": \"San Diego\", \"temperature\": 58.3}, {\"datetime\": \"2013-01-03T19:00:00\", \"city\": \"San Francisco\", \"temperature\": 49.8}, {\"datetime\": \"2013-01-03T19:00:00\", \"city\": \"Detroit\", \"temperature\": 25.7}, {\"datetime\": \"2013-01-03T19:00:00\", \"city\": \"San Diego\", \"temperature\": 60.2}, {\"datetime\": \"2013-01-03T20:00:00\", \"city\": \"San Francisco\", \"temperature\": 51.5}, {\"datetime\": \"2013-01-03T20:00:00\", \"city\": \"San Diego\", \"temperature\": 61.4}, {\"datetime\": \"2013-01-03T20:00:00\", \"city\": \"Detroit\", \"temperature\": 26.3}, {\"datetime\": \"2013-01-03T21:00:00\", \"city\": \"Detroit\", \"temperature\": 26.1}, {\"datetime\": \"2013-01-03T21:00:00\", \"city\": \"San Diego\", \"temperature\": 62.2}, {\"datetime\": \"2013-01-03T21:00:00\", \"city\": \"San Francisco\", \"temperature\": 52.6}, {\"datetime\": \"2013-01-03T22:00:00\", \"city\": \"San Francisco\", \"temperature\": 53.3}, {\"datetime\": \"2013-01-03T22:00:00\", \"city\": \"San Diego\", \"temperature\": 62.5}, {\"datetime\": \"2013-01-03T22:00:00\", \"city\": \"Detroit\", \"temperature\": 26.1}, {\"datetime\": \"2013-01-03T23:00:00\", \"city\": \"San Francisco\", \"temperature\": 53.9}, {\"datetime\": \"2013-01-03T23:00:00\", \"city\": \"Detroit\", \"temperature\": 26.6}, {\"datetime\": \"2013-01-03T23:00:00\", \"city\": \"San Diego\", \"temperature\": 60.8}, {\"datetime\": \"2013-01-04T00:00:00\", \"city\": \"San Francisco\", \"temperature\": 53.0}, {\"datetime\": \"2013-01-04T00:00:00\", \"city\": \"Detroit\", \"temperature\": 26.0}, {\"datetime\": \"2013-01-04T00:00:00\", \"city\": \"San Diego\", \"temperature\": 58.5}, {\"datetime\": \"2013-01-04T01:00:00\", \"city\": \"San Francisco\", \"temperature\": 50.4}, {\"datetime\": \"2013-01-04T01:00:00\", \"city\": \"Detroit\", \"temperature\": 25.7}, {\"datetime\": \"2013-01-04T01:00:00\", \"city\": \"San Diego\", \"temperature\": 55.8}, {\"datetime\": \"2013-01-04T02:00:00\", \"city\": \"San Francisco\", \"temperature\": 47.4}, {\"datetime\": \"2013-01-04T02:00:00\", \"city\": \"San Diego\", \"temperature\": 53.1}, {\"datetime\": \"2013-01-04T02:00:00\", \"city\": \"Detroit\", \"temperature\": 24.2}, {\"datetime\": \"2013-01-04T03:00:00\", \"city\": \"San Francisco\", \"temperature\": 45.7}, {\"datetime\": \"2013-01-04T03:00:00\", \"city\": \"San Diego\", \"temperature\": 49.2}, {\"datetime\": \"2013-01-04T03:00:00\", \"city\": \"Detroit\", \"temperature\": 24.4}, {\"datetime\": \"2013-01-04T04:00:00\", \"city\": \"San Diego\", \"temperature\": 47.8}, {\"datetime\": \"2013-01-04T04:00:00\", \"city\": \"San Francisco\", \"temperature\": 42.7}, {\"datetime\": \"2013-01-04T04:00:00\", \"city\": \"Detroit\", \"temperature\": 24.4}, {\"datetime\": \"2013-01-04T05:00:00\", \"city\": \"San Diego\", \"temperature\": 46.3}, {\"datetime\": \"2013-01-04T05:00:00\", \"city\": \"San Francisco\", \"temperature\": 42.0}, {\"datetime\": \"2013-01-04T05:00:00\", \"city\": \"Detroit\", \"temperature\": 24.0}, {\"datetime\": \"2013-01-04T06:00:00\", \"city\": \"San Francisco\", \"temperature\": 40.4}, {\"datetime\": \"2013-01-04T06:00:00\", \"city\": \"San Diego\", \"temperature\": 45.1}, {\"datetime\": \"2013-01-04T06:00:00\", \"city\": \"Detroit\", \"temperature\": 23.8}, {\"datetime\": \"2013-01-04T07:00:00\", \"city\": \"Detroit\", \"temperature\": 22.8}, {\"datetime\": \"2013-01-04T07:00:00\", \"city\": \"San Francisco\", \"temperature\": 39.3}, {\"datetime\": \"2013-01-04T07:00:00\", \"city\": \"San Diego\", \"temperature\": 43.9}, {\"datetime\": \"2013-01-04T08:00:00\", \"city\": \"Detroit\", \"temperature\": 21.5}, {\"datetime\": \"2013-01-04T08:00:00\", \"city\": \"San Diego\", \"temperature\": 42.6}, {\"datetime\": \"2013-01-04T08:00:00\", \"city\": \"San Francisco\", \"temperature\": 39.7}, {\"datetime\": \"2013-01-04T09:00:00\", \"city\": \"Detroit\", \"temperature\": 20.4}, {\"datetime\": \"2013-01-04T09:00:00\", \"city\": \"San Francisco\", \"temperature\": 38.4}, {\"datetime\": \"2013-01-04T09:00:00\", \"city\": \"San Diego\", \"temperature\": 42.4}, {\"datetime\": \"2013-01-04T10:00:00\", \"city\": \"Detroit\", \"temperature\": 19.0}, {\"datetime\": \"2013-01-04T10:00:00\", \"city\": \"San Francisco\", \"temperature\": 36.8}, {\"datetime\": \"2013-01-04T10:00:00\", \"city\": \"San Diego\", \"temperature\": 42.4}, {\"datetime\": \"2013-01-04T11:00:00\", \"city\": \"Detroit\", \"temperature\": 19.5}, {\"datetime\": \"2013-01-04T11:00:00\", \"city\": \"San Diego\", \"temperature\": 39.8}, {\"datetime\": \"2013-01-04T11:00:00\", \"city\": \"San Francisco\", \"temperature\": 35.6}, {\"datetime\": \"2013-01-04T12:00:00\", \"city\": \"San Diego\", \"temperature\": 39.0}, {\"datetime\": \"2013-01-04T12:00:00\", \"city\": \"San Francisco\", \"temperature\": 35.8}, {\"datetime\": \"2013-01-04T12:00:00\", \"city\": \"Detroit\", \"temperature\": 19.1}, {\"datetime\": \"2013-01-04T13:00:00\", \"city\": \"San Francisco\", \"temperature\": 34.4}, {\"datetime\": \"2013-01-04T13:00:00\", \"city\": \"Detroit\", \"temperature\": 18.8}, {\"datetime\": \"2013-01-04T13:00:00\", \"city\": \"San Diego\", \"temperature\": 39.7}, {\"datetime\": \"2013-01-04T14:00:00\", \"city\": \"San Francisco\", \"temperature\": 33.5}, {\"datetime\": \"2013-01-04T14:00:00\", \"city\": \"Detroit\", \"temperature\": 19.8}, {\"datetime\": \"2013-01-04T14:00:00\", \"city\": \"San Diego\", \"temperature\": 39.7}, {\"datetime\": \"2013-01-04T15:00:00\", \"city\": \"Detroit\", \"temperature\": 20.4}, {\"datetime\": \"2013-01-04T15:00:00\", \"city\": \"San Diego\", \"temperature\": 41.1}, {\"datetime\": \"2013-01-04T15:00:00\", \"city\": \"San Francisco\", \"temperature\": 35.8}, {\"datetime\": \"2013-01-04T16:00:00\", \"city\": \"San Diego\", \"temperature\": 45.5}, {\"datetime\": \"2013-01-04T16:00:00\", \"city\": \"San Francisco\", \"temperature\": 37.3}, {\"datetime\": \"2013-01-04T16:00:00\", \"city\": \"Detroit\", \"temperature\": 21.8}, {\"datetime\": \"2013-01-04T17:00:00\", \"city\": \"San Diego\", \"temperature\": 52.6}, {\"datetime\": \"2013-01-04T17:00:00\", \"city\": \"San Francisco\", \"temperature\": 40.6}, {\"datetime\": \"2013-01-04T17:00:00\", \"city\": \"Detroit\", \"temperature\": 24.4}, {\"datetime\": \"2013-01-04T18:00:00\", \"city\": \"San Diego\", \"temperature\": 60.3}, {\"datetime\": \"2013-01-04T18:00:00\", \"city\": \"Detroit\", \"temperature\": 26.4}, {\"datetime\": \"2013-01-04T18:00:00\", \"city\": \"San Francisco\", \"temperature\": 44.9}, {\"datetime\": \"2013-01-04T19:00:00\", \"city\": \"Detroit\", \"temperature\": 26.5}, {\"datetime\": \"2013-01-04T19:00:00\", \"city\": \"San Diego\", \"temperature\": 62.9}, {\"datetime\": \"2013-01-04T19:00:00\", \"city\": \"San Francisco\", \"temperature\": 47.2}, {\"datetime\": \"2013-01-04T20:00:00\", \"city\": \"San Diego\", \"temperature\": 64.8}, {\"datetime\": \"2013-01-04T20:00:00\", \"city\": \"San Francisco\", \"temperature\": 49.6}, {\"datetime\": \"2013-01-04T20:00:00\", \"city\": \"Detroit\", \"temperature\": 27.8}, {\"datetime\": \"2013-01-04T21:00:00\", \"city\": \"San Francisco\", \"temperature\": 51.7}, {\"datetime\": \"2013-01-04T21:00:00\", \"city\": \"Detroit\", \"temperature\": 28.4}, {\"datetime\": \"2013-01-04T21:00:00\", \"city\": \"San Diego\", \"temperature\": 67.0}, {\"datetime\": \"2013-01-04T22:00:00\", \"city\": \"San Francisco\", \"temperature\": 53.0}, {\"datetime\": \"2013-01-04T22:00:00\", \"city\": \"Detroit\", \"temperature\": 29.3}, {\"datetime\": \"2013-01-04T22:00:00\", \"city\": \"San Diego\", \"temperature\": 66.6}, {\"datetime\": \"2013-01-04T23:00:00\", \"city\": \"San Diego\", \"temperature\": 64.9}, {\"datetime\": \"2013-01-04T23:00:00\", \"city\": \"Detroit\", \"temperature\": 29.3}, {\"datetime\": \"2013-01-04T23:00:00\", \"city\": \"San Francisco\", \"temperature\": 53.1}, {\"datetime\": \"2013-01-05T00:00:00\", \"city\": \"San Diego\", \"temperature\": 61.0}, {\"datetime\": \"2013-01-05T00:00:00\", \"city\": \"Detroit\", \"temperature\": 29.7}, {\"datetime\": \"2013-01-05T00:00:00\", \"city\": \"San Francisco\", \"temperature\": 51.9}, {\"datetime\": \"2013-01-05T01:00:00\", \"city\": \"Detroit\", \"temperature\": 30.3}, {\"datetime\": \"2013-01-05T01:00:00\", \"city\": \"San Diego\", \"temperature\": 56.4}, {\"datetime\": \"2013-01-05T01:00:00\", \"city\": \"San Francisco\", \"temperature\": 49.6}, {\"datetime\": \"2013-01-05T02:00:00\", \"city\": \"Detroit\", \"temperature\": 29.9}, {\"datetime\": \"2013-01-05T02:00:00\", \"city\": \"San Diego\", \"temperature\": 54.1}, {\"datetime\": \"2013-01-05T02:00:00\", \"city\": \"San Francisco\", \"temperature\": 47.7}, {\"datetime\": \"2013-01-05T03:00:00\", \"city\": \"Detroit\", \"temperature\": 30.5}, {\"datetime\": \"2013-01-05T03:00:00\", \"city\": \"San Diego\", \"temperature\": 52.4}, {\"datetime\": \"2013-01-05T03:00:00\", \"city\": \"San Francisco\", \"temperature\": 46.3}, {\"datetime\": \"2013-01-05T04:00:00\", \"city\": \"San Diego\", \"temperature\": 52.0}, {\"datetime\": \"2013-01-05T04:00:00\", \"city\": \"Detroit\", \"temperature\": 30.5}, {\"datetime\": \"2013-01-05T04:00:00\", \"city\": \"San Francisco\", \"temperature\": 43.5}, {\"datetime\": \"2013-01-05T05:00:00\", \"city\": \"San Diego\", \"temperature\": 51.0}, {\"datetime\": \"2013-01-05T05:00:00\", \"city\": \"Detroit\", \"temperature\": 29.8}, {\"datetime\": \"2013-01-05T05:00:00\", \"city\": \"San Francisco\", \"temperature\": 42.2}, {\"datetime\": \"2013-01-05T06:00:00\", \"city\": \"San Francisco\", \"temperature\": 42.2}, {\"datetime\": \"2013-01-05T06:00:00\", \"city\": \"Detroit\", \"temperature\": 26.8}, {\"datetime\": \"2013-01-05T06:00:00\", \"city\": \"San Diego\", \"temperature\": 44.2}, {\"datetime\": \"2013-01-05T07:00:00\", \"city\": \"San Francisco\", \"temperature\": 43.1}, {\"datetime\": \"2013-01-05T07:00:00\", \"city\": \"San Diego\", \"temperature\": 26.2}, {\"datetime\": \"2013-01-05T07:00:00\", \"city\": \"Detroit\", \"temperature\": 20.6}, {\"datetime\": \"2013-01-05T08:00:00\", \"city\": \"San Francisco\", \"temperature\": 42.6}, {\"datetime\": \"2013-01-05T08:00:00\", \"city\": \"San Diego\", \"temperature\": 24.9}, {\"datetime\": \"2013-01-05T08:00:00\", \"city\": \"Detroit\", \"temperature\": 19.2}, {\"datetime\": \"2013-01-05T09:00:00\", \"city\": \"Detroit\", \"temperature\": 27.5}, {\"datetime\": \"2013-01-05T09:00:00\", \"city\": \"San Diego\", \"temperature\": 40.6}, {\"datetime\": \"2013-01-05T09:00:00\", \"city\": \"San Francisco\", \"temperature\": 40.2}, {\"datetime\": \"2013-01-05T10:00:00\", \"city\": \"San Diego\", \"temperature\": 44.9}, {\"datetime\": \"2013-01-05T10:00:00\", \"city\": \"San Francisco\", \"temperature\": 39.1}, {\"datetime\": \"2013-01-05T10:00:00\", \"city\": \"Detroit\", \"temperature\": 29.3}, {\"datetime\": \"2013-01-05T11:00:00\", \"city\": \"Detroit\", \"temperature\": 29.3}, {\"datetime\": \"2013-01-05T11:00:00\", \"city\": \"San Francisco\", \"temperature\": 38.6}, {\"datetime\": \"2013-01-05T11:00:00\", \"city\": \"San Diego\", \"temperature\": 43.4}, {\"datetime\": \"2013-01-05T12:00:00\", \"city\": \"San Francisco\", \"temperature\": 38.1}, {\"datetime\": \"2013-01-05T12:00:00\", \"city\": \"Detroit\", \"temperature\": 27.9}, {\"datetime\": \"2013-01-05T12:00:00\", \"city\": \"San Diego\", \"temperature\": 42.7}, {\"datetime\": \"2013-01-05T13:00:00\", \"city\": \"San Francisco\", \"temperature\": 37.6}, {\"datetime\": \"2013-01-05T13:00:00\", \"city\": \"Detroit\", \"temperature\": 26.4}, {\"datetime\": \"2013-01-05T13:00:00\", \"city\": \"San Diego\", \"temperature\": 41.9}, {\"datetime\": \"2013-01-05T14:00:00\", \"city\": \"Detroit\", \"temperature\": 24.9}, {\"datetime\": \"2013-01-05T14:00:00\", \"city\": \"San Diego\", \"temperature\": 40.8}, {\"datetime\": \"2013-01-05T14:00:00\", \"city\": \"San Francisco\", \"temperature\": 37.8}, {\"datetime\": \"2013-01-05T15:00:00\", \"city\": \"Detroit\", \"temperature\": 24.4}, {\"datetime\": \"2013-01-05T15:00:00\", \"city\": \"San Francisco\", \"temperature\": 38.0}, {\"datetime\": \"2013-01-05T15:00:00\", \"city\": \"San Diego\", \"temperature\": 43.4}, {\"datetime\": \"2013-01-05T16:00:00\", \"city\": \"Detroit\", \"temperature\": 25.7}, {\"datetime\": \"2013-01-05T16:00:00\", \"city\": \"San Diego\", \"temperature\": 47.9}, {\"datetime\": \"2013-01-05T16:00:00\", \"city\": \"San Francisco\", \"temperature\": 38.0}, {\"datetime\": \"2013-01-05T17:00:00\", \"city\": \"San Francisco\", \"temperature\": 42.8}, {\"datetime\": \"2013-01-05T17:00:00\", \"city\": \"San Diego\", \"temperature\": 56.3}, {\"datetime\": \"2013-01-05T17:00:00\", \"city\": \"Detroit\", \"temperature\": 28.6}, {\"datetime\": \"2013-01-05T18:00:00\", \"city\": \"San Diego\", \"temperature\": 61.2}, {\"datetime\": \"2013-01-05T18:00:00\", \"city\": \"San Francisco\", \"temperature\": 47.9}, {\"datetime\": \"2013-01-05T18:00:00\", \"city\": \"Detroit\", \"temperature\": 28.9}, {\"datetime\": \"2013-01-05T19:00:00\", \"city\": \"San Francisco\", \"temperature\": 51.6}, {\"datetime\": \"2013-01-05T19:00:00\", \"city\": \"Detroit\", \"temperature\": 29.6}, {\"datetime\": \"2013-01-05T19:00:00\", \"city\": \"San Diego\", \"temperature\": 62.8}, {\"datetime\": \"2013-01-05T20:00:00\", \"city\": \"San Diego\", \"temperature\": 63.4}, {\"datetime\": \"2013-01-05T20:00:00\", \"city\": \"San Francisco\", \"temperature\": 53.2}, {\"datetime\": \"2013-01-05T20:00:00\", \"city\": \"Detroit\", \"temperature\": 29.9}, {\"datetime\": \"2013-01-05T21:00:00\", \"city\": \"Detroit\", \"temperature\": 29.4}, {\"datetime\": \"2013-01-05T21:00:00\", \"city\": \"San Diego\", \"temperature\": 64.0}, {\"datetime\": \"2013-01-05T21:00:00\", \"city\": \"San Francisco\", \"temperature\": 54.3}, {\"datetime\": \"2013-01-05T22:00:00\", \"city\": \"Detroit\", \"temperature\": 28.9}, {\"datetime\": \"2013-01-05T22:00:00\", \"city\": \"San Diego\", \"temperature\": 64.7}, {\"datetime\": \"2013-01-05T22:00:00\", \"city\": \"San Francisco\", \"temperature\": 54.9}, {\"datetime\": \"2013-01-05T23:00:00\", \"city\": \"San Diego\", \"temperature\": 62.5}, {\"datetime\": \"2013-01-05T23:00:00\", \"city\": \"San Francisco\", \"temperature\": 54.4}, {\"datetime\": \"2013-01-05T23:00:00\", \"city\": \"Detroit\", \"temperature\": 28.6}, {\"datetime\": \"2013-01-06T00:00:00\", \"city\": \"San Diego\", \"temperature\": 59.5}, {\"datetime\": \"2013-01-06T00:00:00\", \"city\": \"San Francisco\", \"temperature\": 53.9}, {\"datetime\": \"2013-01-06T00:00:00\", \"city\": \"Detroit\", \"temperature\": 28.3}, {\"datetime\": \"2013-01-06T01:00:00\", \"city\": \"Detroit\", \"temperature\": 27.3}, {\"datetime\": \"2013-01-06T01:00:00\", \"city\": \"San Francisco\", \"temperature\": 51.0}, {\"datetime\": \"2013-01-06T01:00:00\", \"city\": \"San Diego\", \"temperature\": 55.1}, {\"datetime\": \"2013-01-06T02:00:00\", \"city\": \"San Francisco\", \"temperature\": 48.5}, {\"datetime\": \"2013-01-06T02:00:00\", \"city\": \"Detroit\", \"temperature\": 26.8}, {\"datetime\": \"2013-01-06T02:00:00\", \"city\": \"San Diego\", \"temperature\": 51.9}, {\"datetime\": \"2013-01-06T03:00:00\", \"city\": \"San Francisco\", \"temperature\": 46.4}, {\"datetime\": \"2013-01-06T03:00:00\", \"city\": \"San Diego\", \"temperature\": 48.7}, {\"datetime\": \"2013-01-06T03:00:00\", \"city\": \"Detroit\", \"temperature\": 26.0}, {\"datetime\": \"2013-01-06T04:00:00\", \"city\": \"San Francisco\", \"temperature\": 45.2}, {\"datetime\": \"2013-01-06T04:00:00\", \"city\": \"San Diego\", \"temperature\": 47.6}, {\"datetime\": \"2013-01-06T04:00:00\", \"city\": \"Detroit\", \"temperature\": 26.0}, {\"datetime\": \"2013-01-06T05:00:00\", \"city\": \"San Francisco\", \"temperature\": 43.4}, {\"datetime\": \"2013-01-06T05:00:00\", \"city\": \"San Diego\", \"temperature\": 45.6}, {\"datetime\": \"2013-01-06T05:00:00\", \"city\": \"Detroit\", \"temperature\": 25.1}, {\"datetime\": \"2013-01-06T06:00:00\", \"city\": \"Detroit\", \"temperature\": 24.8}, {\"datetime\": \"2013-01-06T06:00:00\", \"city\": \"San Diego\", \"temperature\": 44.9}, {\"datetime\": \"2013-01-06T06:00:00\", \"city\": \"San Francisco\", \"temperature\": 42.5}, {\"datetime\": \"2013-01-06T07:00:00\", \"city\": \"San Diego\", \"temperature\": 43.7}, {\"datetime\": \"2013-01-06T07:00:00\", \"city\": \"San Francisco\", \"temperature\": 41.6}, {\"datetime\": \"2013-01-06T07:00:00\", \"city\": \"Detroit\", \"temperature\": 23.9}, {\"datetime\": \"2013-01-06T08:00:00\", \"city\": \"San Francisco\", \"temperature\": 40.0}, {\"datetime\": \"2013-01-06T08:00:00\", \"city\": \"Detroit\", \"temperature\": 23.4}, {\"datetime\": \"2013-01-06T08:00:00\", \"city\": \"San Diego\", \"temperature\": 42.7}, {\"datetime\": \"2013-01-06T09:00:00\", \"city\": \"Detroit\", \"temperature\": 23.1}, {\"datetime\": \"2013-01-06T09:00:00\", \"city\": \"San Diego\", \"temperature\": 42.2}, {\"datetime\": \"2013-01-06T09:00:00\", \"city\": \"San Francisco\", \"temperature\": 39.4}, {\"datetime\": \"2013-01-06T10:00:00\", \"city\": \"Detroit\", \"temperature\": 22.1}, {\"datetime\": \"2013-01-06T10:00:00\", \"city\": \"San Diego\", \"temperature\": 42.0}, {\"datetime\": \"2013-01-06T10:00:00\", \"city\": \"San Francisco\", \"temperature\": 38.9}, {\"datetime\": \"2013-01-06T11:00:00\", \"city\": \"Detroit\", \"temperature\": 20.8}, {\"datetime\": \"2013-01-06T11:00:00\", \"city\": \"San Diego\", \"temperature\": 42.5}, {\"datetime\": \"2013-01-06T11:00:00\", \"city\": \"San Francisco\", \"temperature\": 40.2}, {\"datetime\": \"2013-01-06T12:00:00\", \"city\": \"San Francisco\", \"temperature\": 39.5}, {\"datetime\": \"2013-01-06T12:00:00\", \"city\": \"San Diego\", \"temperature\": 40.7}, {\"datetime\": \"2013-01-06T12:00:00\", \"city\": \"Detroit\", \"temperature\": 20.4}, {\"datetime\": \"2013-01-06T13:00:00\", \"city\": \"San Francisco\", \"temperature\": 39.6}, {\"datetime\": \"2013-01-06T13:00:00\", \"city\": \"Detroit\", \"temperature\": 20.0}, {\"datetime\": \"2013-01-06T13:00:00\", \"city\": \"San Diego\", \"temperature\": 40.9}, {\"datetime\": \"2013-01-06T14:00:00\", \"city\": \"San Francisco\", \"temperature\": 40.4}, {\"datetime\": \"2013-01-06T14:00:00\", \"city\": \"Detroit\", \"temperature\": 21.3}, {\"datetime\": \"2013-01-06T14:00:00\", \"city\": \"San Diego\", \"temperature\": 40.1}, {\"datetime\": \"2013-01-06T15:00:00\", \"city\": \"Detroit\", \"temperature\": 22.7}, {\"datetime\": \"2013-01-06T15:00:00\", \"city\": \"San Diego\", \"temperature\": 41.5}, {\"datetime\": \"2013-01-06T15:00:00\", \"city\": \"San Francisco\", \"temperature\": 41.4}, {\"datetime\": \"2013-01-06T16:00:00\", \"city\": \"San Diego\", \"temperature\": 46.8}, {\"datetime\": \"2013-01-06T16:00:00\", \"city\": \"Detroit\", \"temperature\": 27.2}, {\"datetime\": \"2013-01-06T16:00:00\", \"city\": \"San Francisco\", \"temperature\": 42.6}, {\"datetime\": \"2013-01-06T17:00:00\", \"city\": \"San Diego\", \"temperature\": 54.3}, {\"datetime\": \"2013-01-06T17:00:00\", \"city\": \"Detroit\", \"temperature\": 29.3}, {\"datetime\": \"2013-01-06T17:00:00\", \"city\": \"San Francisco\", \"temperature\": 44.5}, {\"datetime\": \"2013-01-06T18:00:00\", \"city\": \"San Diego\", \"temperature\": 58.2}], \"data-514d83a8a054bf0ca337dbdb8f4e196a\": [{\"datetime\": \"2012-12-29T10:00:00\", \"temperature\": 16.5, \"city_Detroit\": 1, \"city_San Diego\": 0, \"city_San Francisco\": 0, \"city\": \"Detroit\", \"day\": 29, \"month\": 12, \"year\": 2012, \"hour\": 10, \"day_of_week\": 5, \"pred\": 18.325}, {\"datetime\": \"2012-12-29T10:00:00\", \"temperature\": 43.8, \"city_Detroit\": 0, \"city_San Diego\": 1, \"city_San Francisco\": 0, \"city\": \"San Diego\", \"day\": 29, \"month\": 12, \"year\": 2012, \"hour\": 10, \"day_of_week\": 5, \"pred\": 43.91428571428571}, {\"datetime\": \"2012-12-29T11:00:00\", \"temperature\": 43.0, \"city_Detroit\": 0, \"city_San Diego\": 1, \"city_San Francisco\": 0, \"city\": \"San Diego\", \"day\": 29, \"month\": 12, \"year\": 2012, \"hour\": 11, \"day_of_week\": 5, \"pred\": 43.91428571428571}, {\"datetime\": \"2012-12-29T11:00:00\", \"temperature\": 19.7, \"city_Detroit\": 1, \"city_San Diego\": 0, \"city_San Francisco\": 0, \"city\": \"Detroit\", \"day\": 29, \"month\": 12, \"year\": 2012, \"hour\": 11, \"day_of_week\": 5, \"pred\": 18.325}, {\"datetime\": \"2012-12-29T11:00:00\", \"temperature\": 39.9, \"city_Detroit\": 0, \"city_San Diego\": 0, \"city_San Francisco\": 1, \"city\": \"San Francisco\", \"day\": 29, \"month\": 12, \"year\": 2012, \"hour\": 11, \"day_of_week\": 5, \"pred\": 39.24444444444444}, {\"datetime\": \"2012-12-29T12:00:00\", \"temperature\": 41.2, \"city_Detroit\": 0, \"city_San Diego\": 1, \"city_San Francisco\": 0, \"city\": \"San Diego\", \"day\": 29, \"month\": 12, \"year\": 2012, \"hour\": 12, \"day_of_week\": 5, \"pred\": 43.91428571428571}, {\"datetime\": \"2012-12-29T12:00:00\", \"temperature\": 18.5, \"city_Detroit\": 1, \"city_San Diego\": 0, \"city_San Francisco\": 0, \"city\": \"Detroit\", \"day\": 29, \"month\": 12, \"year\": 2012, \"hour\": 12, \"day_of_week\": 5, \"pred\": 18.325}, {\"datetime\": \"2012-12-29T12:00:00\", \"temperature\": 38.0, \"city_Detroit\": 0, \"city_San Diego\": 0, \"city_San Francisco\": 1, \"city\": \"San Francisco\", \"day\": 29, \"month\": 12, \"year\": 2012, \"hour\": 12, \"day_of_week\": 5, \"pred\": 39.24444444444444}, {\"datetime\": \"2012-12-29T13:00:00\", \"temperature\": 38.8, \"city_Detroit\": 0, \"city_San Diego\": 0, \"city_San Francisco\": 1, \"city\": \"San Francisco\", \"day\": 29, \"month\": 12, \"year\": 2012, \"hour\": 13, \"day_of_week\": 5, \"pred\": 39.24444444444444}, {\"datetime\": \"2012-12-29T13:00:00\", \"temperature\": 41.7, \"city_Detroit\": 0, \"city_San Diego\": 1, \"city_San Francisco\": 0, \"city\": \"San Diego\", \"day\": 29, \"month\": 12, \"year\": 2012, \"hour\": 13, \"day_of_week\": 5, \"pred\": 43.91428571428571}, {\"datetime\": \"2012-12-29T13:00:00\", \"temperature\": 17.4, \"city_Detroit\": 1, \"city_San Diego\": 0, \"city_San Francisco\": 0, \"city\": \"Detroit\", \"day\": 29, \"month\": 12, \"year\": 2012, \"hour\": 13, \"day_of_week\": 5, \"pred\": 18.325}, {\"datetime\": \"2012-12-29T14:00:00\", \"temperature\": 37.4, \"city_Detroit\": 0, \"city_San Diego\": 0, \"city_San Francisco\": 1, \"city\": \"San Francisco\", \"day\": 29, \"month\": 12, \"year\": 2012, \"hour\": 14, \"day_of_week\": 5, \"pred\": 39.24444444444444}, {\"datetime\": \"2012-12-29T14:00:00\", \"temperature\": 19.0, \"city_Detroit\": 1, \"city_San Diego\": 0, \"city_San Francisco\": 0, \"city\": \"Detroit\", \"day\": 29, \"month\": 12, \"year\": 2012, \"hour\": 14, \"day_of_week\": 5, \"pred\": 18.325}, {\"datetime\": \"2012-12-29T14:00:00\", \"temperature\": 40.6, \"city_Detroit\": 0, \"city_San Diego\": 1, \"city_San Francisco\": 0, \"city\": \"San Diego\", \"day\": 29, \"month\": 12, \"year\": 2012, \"hour\": 14, \"day_of_week\": 5, \"pred\": 43.91428571428571}, {\"datetime\": \"2012-12-29T15:00:00\", \"temperature\": 41.6, \"city_Detroit\": 0, \"city_San Diego\": 1, \"city_San Francisco\": 0, \"city\": \"San Diego\", \"day\": 29, \"month\": 12, \"year\": 2012, \"hour\": 15, \"day_of_week\": 5, \"pred\": 43.91428571428571}, {\"datetime\": \"2012-12-29T15:00:00\", \"temperature\": 21.6, \"city_Detroit\": 1, \"city_San Diego\": 0, \"city_San Francisco\": 0, \"city\": \"Detroit\", \"day\": 29, \"month\": 12, \"year\": 2012, \"hour\": 15, \"day_of_week\": 5, \"pred\": 21.6}, {\"datetime\": \"2012-12-29T15:00:00\", \"temperature\": 37.6, \"city_Detroit\": 0, \"city_San Diego\": 0, \"city_San Francisco\": 1, \"city\": \"San Francisco\", \"day\": 29, \"month\": 12, \"year\": 2012, \"hour\": 15, \"day_of_week\": 5, \"pred\": 39.24444444444444}, {\"datetime\": \"2012-12-29T16:00:00\", \"temperature\": 46.9, \"city_Detroit\": 0, \"city_San Diego\": 1, \"city_San Francisco\": 0, \"city\": \"San Diego\", \"day\": 29, \"month\": 12, \"year\": 2012, \"hour\": 16, \"day_of_week\": 5, \"pred\": 47.63333333333333}, {\"datetime\": \"2012-12-29T16:00:00\", \"temperature\": 39.3, \"city_Detroit\": 0, \"city_San Diego\": 0, \"city_San Francisco\": 1, \"city\": \"San Francisco\", \"day\": 29, \"month\": 12, \"year\": 2012, \"hour\": 16, \"day_of_week\": 5, \"pred\": 39.24444444444444}, {\"datetime\": \"2012-12-29T16:00:00\", \"temperature\": 24.5, \"city_Detroit\": 1, \"city_San Diego\": 0, \"city_San Francisco\": 0, \"city\": \"Detroit\", \"day\": 29, \"month\": 12, \"year\": 2012, \"hour\": 16, \"day_of_week\": 5, \"pred\": 24.5}, {\"datetime\": \"2012-12-29T17:00:00\", \"temperature\": 26.3, \"city_Detroit\": 1, \"city_San Diego\": 0, \"city_San Francisco\": 0, \"city\": \"Detroit\", \"day\": 29, \"month\": 12, \"year\": 2012, \"hour\": 17, \"day_of_week\": 5, \"pred\": 26.3}, {\"datetime\": \"2012-12-29T17:00:00\", \"temperature\": 40.7, \"city_Detroit\": 0, \"city_San Diego\": 0, \"city_San Francisco\": 1, \"city\": \"San Francisco\", \"day\": 29, \"month\": 12, \"year\": 2012, \"hour\": 17, \"day_of_week\": 5, \"pred\": 39.24444444444444}, {\"datetime\": \"2012-12-29T17:00:00\", \"temperature\": 53.0, \"city_Detroit\": 0, \"city_San Diego\": 1, \"city_San Francisco\": 0, \"city\": \"San Diego\", \"day\": 29, \"month\": 12, \"year\": 2012, \"hour\": 17, \"day_of_week\": 5, \"pred\": 53.0}, {\"datetime\": \"2012-12-29T18:00:00\", \"temperature\": 57.5, \"city_Detroit\": 0, \"city_San Diego\": 1, \"city_San Francisco\": 0, \"city\": \"San Diego\", \"day\": 29, \"month\": 12, \"year\": 2012, \"hour\": 18, \"day_of_week\": 5, \"pred\": 57.5}, {\"datetime\": \"2012-12-29T18:00:00\", \"temperature\": 27.9, \"city_Detroit\": 1, \"city_San Diego\": 0, \"city_San Francisco\": 0, \"city\": \"Detroit\", \"day\": 29, \"month\": 12, \"year\": 2012, \"hour\": 18, \"day_of_week\": 5, \"pred\": 27.9}, {\"datetime\": \"2012-12-29T18:00:00\", \"temperature\": 43.1, \"city_Detroit\": 0, \"city_San Diego\": 0, \"city_San Francisco\": 1, \"city\": \"San Francisco\", \"day\": 29, \"month\": 12, \"year\": 2012, \"hour\": 18, \"day_of_week\": 5, \"pred\": 43.1}, {\"datetime\": \"2012-12-29T19:00:00\", \"temperature\": 28.8, \"city_Detroit\": 1, \"city_San Diego\": 0, \"city_San Francisco\": 0, \"city\": \"Detroit\", \"day\": 29, \"month\": 12, \"year\": 2012, \"hour\": 19, \"day_of_week\": 5, \"pred\": 28.920000000000005}, {\"datetime\": \"2012-12-29T19:00:00\", \"temperature\": 59.6, \"city_Detroit\": 0, \"city_San Diego\": 1, \"city_San Francisco\": 0, \"city\": \"San Diego\", \"day\": 29, \"month\": 12, \"year\": 2012, \"hour\": 19, \"day_of_week\": 5, \"pred\": 59.79600000000001}, {\"datetime\": \"2012-12-29T19:00:00\", \"temperature\": 44.0, \"city_Detroit\": 0, \"city_San Diego\": 0, \"city_San Francisco\": 1, \"city\": \"San Francisco\", \"day\": 29, \"month\": 12, \"year\": 2012, \"hour\": 19, \"day_of_week\": 5, \"pred\": 44.0}, {\"datetime\": \"2012-12-29T20:00:00\", \"temperature\": 61.8, \"city_Detroit\": 0, \"city_San Diego\": 1, \"city_San Francisco\": 0, \"city\": \"San Diego\", \"day\": 29, \"month\": 12, \"year\": 2012, \"hour\": 20, \"day_of_week\": 5, \"pred\": 59.79600000000001}, {\"datetime\": \"2012-12-29T20:00:00\", \"temperature\": 45.2, \"city_Detroit\": 0, \"city_San Diego\": 0, \"city_San Francisco\": 1, \"city\": \"San Francisco\", \"day\": 29, \"month\": 12, \"year\": 2012, \"hour\": 20, \"day_of_week\": 5, \"pred\": 45.7}, {\"datetime\": \"2012-12-29T20:00:00\", \"temperature\": 28.8, \"city_Detroit\": 1, \"city_San Diego\": 0, \"city_San Francisco\": 0, \"city\": \"Detroit\", \"day\": 29, \"month\": 12, \"year\": 2012, \"hour\": 20, \"day_of_week\": 5, \"pred\": 28.920000000000005}, {\"datetime\": \"2012-12-29T21:00:00\", \"temperature\": 46.2, \"city_Detroit\": 0, \"city_San Diego\": 0, \"city_San Francisco\": 1, \"city\": \"San Francisco\", \"day\": 29, \"month\": 12, \"year\": 2012, \"hour\": 21, \"day_of_week\": 5, \"pred\": 45.7}, {\"datetime\": \"2012-12-29T21:00:00\", \"temperature\": 62.5, \"city_Detroit\": 0, \"city_San Diego\": 1, \"city_San Francisco\": 0, \"city\": \"San Diego\", \"day\": 29, \"month\": 12, \"year\": 2012, \"hour\": 21, \"day_of_week\": 5, \"pred\": 59.79600000000001}, {\"datetime\": \"2012-12-29T21:00:00\", \"temperature\": 29.9, \"city_Detroit\": 1, \"city_San Diego\": 0, \"city_San Francisco\": 0, \"city\": \"Detroit\", \"day\": 29, \"month\": 12, \"year\": 2012, \"hour\": 21, \"day_of_week\": 5, \"pred\": 28.920000000000005}, {\"datetime\": \"2012-12-29T22:00:00\", \"temperature\": 62.5, \"city_Detroit\": 0, \"city_San Diego\": 1, \"city_San Francisco\": 0, \"city\": \"San Diego\", \"day\": 29, \"month\": 12, \"year\": 2012, \"hour\": 22, \"day_of_week\": 5, \"pred\": 59.79600000000001}, {\"datetime\": \"2012-12-29T22:00:00\", \"temperature\": 29.0, \"city_Detroit\": 1, \"city_San Diego\": 0, \"city_San Francisco\": 0, \"city\": \"Detroit\", \"day\": 29, \"month\": 12, \"year\": 2012, \"hour\": 22, \"day_of_week\": 5, \"pred\": 28.920000000000005}, {\"datetime\": \"2012-12-29T22:00:00\", \"temperature\": 47.3, \"city_Detroit\": 0, \"city_San Diego\": 0, \"city_San Francisco\": 1, \"city\": \"San Francisco\", \"day\": 29, \"month\": 12, \"year\": 2012, \"hour\": 22, \"day_of_week\": 5, \"pred\": 47.45}, {\"datetime\": \"2012-12-29T23:00:00\", \"temperature\": 61.4, \"city_Detroit\": 0, \"city_San Diego\": 1, \"city_San Francisco\": 0, \"city\": \"San Diego\", \"day\": 29, \"month\": 12, \"year\": 2012, \"hour\": 23, \"day_of_week\": 5, \"pred\": 59.79600000000001}, {\"datetime\": \"2012-12-29T23:00:00\", \"temperature\": 28.1, \"city_Detroit\": 1, \"city_San Diego\": 0, \"city_San Francisco\": 0, \"city\": \"Detroit\", \"day\": 29, \"month\": 12, \"year\": 2012, \"hour\": 23, \"day_of_week\": 5, \"pred\": 28.920000000000005}, {\"datetime\": \"2012-12-29T23:00:00\", \"temperature\": 47.6, \"city_Detroit\": 0, \"city_San Diego\": 0, \"city_San Francisco\": 1, \"city\": \"San Francisco\", \"day\": 29, \"month\": 12, \"year\": 2012, \"hour\": 23, \"day_of_week\": 5, \"pred\": 47.45}, {\"datetime\": \"2012-12-30T00:00:00\", \"temperature\": 58.2, \"city_Detroit\": 0, \"city_San Diego\": 1, \"city_San Francisco\": 0, \"city\": \"San Diego\", \"day\": 30, \"month\": 12, \"year\": 2012, \"hour\": 0, \"day_of_week\": 6, \"pred\": 56.2}, {\"datetime\": \"2012-12-30T00:00:00\", \"temperature\": 27.1, \"city_Detroit\": 1, \"city_San Diego\": 0, \"city_San Francisco\": 0, \"city\": \"Detroit\", \"day\": 30, \"month\": 12, \"year\": 2012, \"hour\": 0, \"day_of_week\": 6, \"pred\": 26.860000000000003}, {\"datetime\": \"2012-12-30T00:00:00\", \"temperature\": 47.8, \"city_Detroit\": 0, \"city_San Diego\": 0, \"city_San Francisco\": 1, \"city\": \"San Francisco\", \"day\": 30, \"month\": 12, \"year\": 2012, \"hour\": 0, \"day_of_week\": 6, \"pred\": 47.05}, {\"datetime\": \"2012-12-30T01:00:00\", \"temperature\": 46.3, \"city_Detroit\": 0, \"city_San Diego\": 0, \"city_San Francisco\": 1, \"city\": \"San Francisco\", \"day\": 30, \"month\": 12, \"year\": 2012, \"hour\": 1, \"day_of_week\": 6, \"pred\": 47.05}, {\"datetime\": \"2012-12-30T01:00:00\", \"temperature\": 54.6, \"city_Detroit\": 0, \"city_San Diego\": 1, \"city_San Francisco\": 0, \"city\": \"San Diego\", \"day\": 30, \"month\": 12, \"year\": 2012, \"hour\": 1, \"day_of_week\": 6, \"pred\": 56.2}, {\"datetime\": \"2012-12-30T01:00:00\", \"temperature\": 26.8, \"city_Detroit\": 1, \"city_San Diego\": 0, \"city_San Francisco\": 0, \"city\": \"Detroit\", \"day\": 30, \"month\": 12, \"year\": 2012, \"hour\": 1, \"day_of_week\": 6, \"pred\": 26.860000000000003}, {\"datetime\": \"2012-12-30T02:00:00\", \"temperature\": 52.2, \"city_Detroit\": 0, \"city_San Diego\": 1, \"city_San Francisco\": 0, \"city\": \"San Diego\", \"day\": 30, \"month\": 12, \"year\": 2012, \"hour\": 2, \"day_of_week\": 6, \"pred\": 53.08928571428571}, {\"datetime\": \"2012-12-30T02:00:00\", \"temperature\": 26.5, \"city_Detroit\": 1, \"city_San Diego\": 0, \"city_San Francisco\": 0, \"city\": \"Detroit\", \"day\": 30, \"month\": 12, \"year\": 2012, \"hour\": 2, \"day_of_week\": 6, \"pred\": 26.860000000000003}, {\"datetime\": \"2012-12-30T02:00:00\", \"temperature\": 45.1, \"city_Detroit\": 0, \"city_San Diego\": 0, \"city_San Francisco\": 1, \"city\": \"San Francisco\", \"day\": 30, \"month\": 12, \"year\": 2012, \"hour\": 2, \"day_of_week\": 6, \"pred\": 45.1}, {\"datetime\": \"2012-12-30T03:00:00\", \"temperature\": 50.3, \"city_Detroit\": 0, \"city_San Diego\": 1, \"city_San Francisco\": 0, \"city\": \"San Diego\", \"day\": 30, \"month\": 12, \"year\": 2012, \"hour\": 3, \"day_of_week\": 6, \"pred\": 53.08928571428571}, {\"datetime\": \"2012-12-30T03:00:00\", \"temperature\": 26.6, \"city_Detroit\": 1, \"city_San Diego\": 0, \"city_San Francisco\": 0, \"city\": \"Detroit\", \"day\": 30, \"month\": 12, \"year\": 2012, \"hour\": 3, \"day_of_week\": 6, \"pred\": 26.860000000000003}, {\"datetime\": \"2012-12-30T03:00:00\", \"temperature\": 45.4, \"city_Detroit\": 0, \"city_San Diego\": 0, \"city_San Francisco\": 1, \"city\": \"San Francisco\", \"day\": 30, \"month\": 12, \"year\": 2012, \"hour\": 3, \"day_of_week\": 6, \"pred\": 45.2}, {\"datetime\": \"2012-12-30T04:00:00\", \"temperature\": 45.3, \"city_Detroit\": 0, \"city_San Diego\": 0, \"city_San Francisco\": 1, \"city\": \"San Francisco\", \"day\": 30, \"month\": 12, \"year\": 2012, \"hour\": 4, \"day_of_week\": 6, \"pred\": 44.459999999999994}, {\"datetime\": \"2012-12-30T04:00:00\", \"temperature\": 49.4, \"city_Detroit\": 0, \"city_San Diego\": 1, \"city_San Francisco\": 0, \"city\": \"San Diego\", \"day\": 30, \"month\": 12, \"year\": 2012, \"hour\": 4, \"day_of_week\": 6, \"pred\": 47.970000000000006}, {\"datetime\": \"2012-12-30T04:00:00\", \"temperature\": 27.3, \"city_Detroit\": 1, \"city_San Diego\": 0, \"city_San Francisco\": 0, \"city\": \"Detroit\", \"day\": 30, \"month\": 12, \"year\": 2012, \"hour\": 4, \"day_of_week\": 6, \"pred\": 26.860000000000003}, {\"datetime\": \"2012-12-30T05:00:00\", \"temperature\": 44.7, \"city_Detroit\": 0, \"city_San Diego\": 0, \"city_San Francisco\": 1, \"city\": \"San Francisco\", \"day\": 30, \"month\": 12, \"year\": 2012, \"hour\": 5, \"day_of_week\": 6, \"pred\": 44.459999999999994}, {\"datetime\": \"2012-12-30T05:00:00\", \"temperature\": 28.2, \"city_Detroit\": 1, \"city_San Diego\": 0, \"city_San Francisco\": 0, \"city\": \"Detroit\", \"day\": 30, \"month\": 12, \"year\": 2012, \"hour\": 5, \"day_of_week\": 6, \"pred\": 28.042857142857144}, {\"datetime\": \"2012-12-30T05:00:00\", \"temperature\": 48.2, \"city_Detroit\": 0, \"city_San Diego\": 1, \"city_San Francisco\": 0, \"city\": \"San Diego\", \"day\": 30, \"month\": 12, \"year\": 2012, \"hour\": 5, \"day_of_week\": 6, \"pred\": 47.970000000000006}, {\"datetime\": \"2012-12-30T06:00:00\", \"temperature\": 44.5, \"city_Detroit\": 0, \"city_San Diego\": 0, \"city_San Francisco\": 1, \"city\": \"San Francisco\", \"day\": 30, \"month\": 12, \"year\": 2012, \"hour\": 6, \"day_of_week\": 6, \"pred\": 44.459999999999994}, {\"datetime\": \"2012-12-30T06:00:00\", \"temperature\": 28.2, \"city_Detroit\": 1, \"city_San Diego\": 0, \"city_San Francisco\": 0, \"city\": \"Detroit\", \"day\": 30, \"month\": 12, \"year\": 2012, \"hour\": 6, \"day_of_week\": 6, \"pred\": 28.042857142857144}, {\"datetime\": \"2012-12-30T06:00:00\", \"temperature\": 48.4, \"city_Detroit\": 0, \"city_San Diego\": 1, \"city_San Francisco\": 0, \"city\": \"San Diego\", \"day\": 30, \"month\": 12, \"year\": 2012, \"hour\": 6, \"day_of_week\": 6, \"pred\": 47.970000000000006}, {\"datetime\": \"2012-12-30T07:00:00\", \"temperature\": 48.6, \"city_Detroit\": 0, \"city_San Diego\": 1, \"city_San Francisco\": 0, \"city\": \"San Diego\", \"day\": 30, \"month\": 12, \"year\": 2012, \"hour\": 7, \"day_of_week\": 6, \"pred\": 47.970000000000006}, {\"datetime\": \"2012-12-30T07:00:00\", \"temperature\": 43.9, \"city_Detroit\": 0, \"city_San Diego\": 0, \"city_San Francisco\": 1, \"city\": \"San Francisco\", \"day\": 30, \"month\": 12, \"year\": 2012, \"hour\": 7, \"day_of_week\": 6, \"pred\": 44.459999999999994}, {\"datetime\": \"2012-12-30T07:00:00\", \"temperature\": 28.1, \"city_Detroit\": 1, \"city_San Diego\": 0, \"city_San Francisco\": 0, \"city\": \"Detroit\", \"day\": 30, \"month\": 12, \"year\": 2012, \"hour\": 7, \"day_of_week\": 6, \"pred\": 28.042857142857144}, {\"datetime\": \"2012-12-30T08:00:00\", \"temperature\": 48.3, \"city_Detroit\": 0, \"city_San Diego\": 1, \"city_San Francisco\": 0, \"city\": \"San Diego\", \"day\": 30, \"month\": 12, \"year\": 2012, \"hour\": 8, \"day_of_week\": 6, \"pred\": 47.970000000000006}, {\"datetime\": \"2012-12-30T08:00:00\", \"temperature\": 43.9, \"city_Detroit\": 0, \"city_San Diego\": 0, \"city_San Francisco\": 1, \"city\": \"San Francisco\", \"day\": 30, \"month\": 12, \"year\": 2012, \"hour\": 8, \"day_of_week\": 6, \"pred\": 44.459999999999994}, {\"datetime\": \"2012-12-30T08:00:00\", \"temperature\": 28.1, \"city_Detroit\": 1, \"city_San Diego\": 0, \"city_San Francisco\": 0, \"city\": \"Detroit\", \"day\": 30, \"month\": 12, \"year\": 2012, \"hour\": 8, \"day_of_week\": 6, \"pred\": 28.042857142857144}, {\"datetime\": \"2012-12-30T09:00:00\", \"temperature\": 47.5, \"city_Detroit\": 0, \"city_San Diego\": 1, \"city_San Francisco\": 0, \"city\": \"San Diego\", \"day\": 30, \"month\": 12, \"year\": 2012, \"hour\": 9, \"day_of_week\": 6, \"pred\": 43.91428571428571}, {\"datetime\": \"2012-12-30T09:00:00\", \"temperature\": 27.9, \"city_Detroit\": 1, \"city_San Diego\": 0, \"city_San Francisco\": 0, \"city\": \"Detroit\", \"day\": 30, \"month\": 12, \"year\": 2012, \"hour\": 9, \"day_of_week\": 6, \"pred\": 28.042857142857144}, {\"datetime\": \"2012-12-30T09:00:00\", \"temperature\": 43.2, \"city_Detroit\": 0, \"city_San Diego\": 0, \"city_San Francisco\": 1, \"city\": \"San Francisco\", \"day\": 30, \"month\": 12, \"year\": 2012, \"hour\": 9, \"day_of_week\": 6, \"pred\": 43.01428571428573}, {\"datetime\": \"2012-12-30T10:00:00\", \"temperature\": 45.9, \"city_Detroit\": 0, \"city_San Diego\": 1, \"city_San Francisco\": 0, \"city\": \"San Diego\", \"day\": 30, \"month\": 12, \"year\": 2012, \"hour\": 10, \"day_of_week\": 6, \"pred\": 43.91428571428571}, {\"datetime\": \"2012-12-30T10:00:00\", \"temperature\": 27.8, \"city_Detroit\": 1, \"city_San Diego\": 0, \"city_San Francisco\": 0, \"city\": \"Detroit\", \"day\": 30, \"month\": 12, \"year\": 2012, \"hour\": 10, \"day_of_week\": 6, \"pred\": 28.042857142857144}, {\"datetime\": \"2012-12-30T10:00:00\", \"temperature\": 43.2, \"city_Detroit\": 0, \"city_San Diego\": 0, \"city_San Francisco\": 1, \"city\": \"San Francisco\", \"day\": 30, \"month\": 12, \"year\": 2012, \"hour\": 10, \"day_of_week\": 6, \"pred\": 43.01428571428573}, {\"datetime\": \"2012-12-30T11:00:00\", \"temperature\": 43.2, \"city_Detroit\": 0, \"city_San Diego\": 0, \"city_San Francisco\": 1, \"city\": \"San Francisco\", \"day\": 30, \"month\": 12, \"year\": 2012, \"hour\": 11, \"day_of_week\": 6, \"pred\": 43.01428571428573}, {\"datetime\": \"2012-12-30T11:00:00\", \"temperature\": 44.6, \"city_Detroit\": 0, \"city_San Diego\": 1, \"city_San Francisco\": 0, \"city\": \"San Diego\", \"day\": 30, \"month\": 12, \"year\": 2012, \"hour\": 11, \"day_of_week\": 6, \"pred\": 43.91428571428571}, {\"datetime\": \"2012-12-30T11:00:00\", \"temperature\": 28.0, \"city_Detroit\": 1, \"city_San Diego\": 0, \"city_San Francisco\": 0, \"city\": \"Detroit\", \"day\": 30, \"month\": 12, \"year\": 2012, \"hour\": 11, \"day_of_week\": 6, \"pred\": 28.042857142857144}, {\"datetime\": \"2012-12-30T12:00:00\", \"temperature\": 43.4, \"city_Detroit\": 0, \"city_San Diego\": 1, \"city_San Francisco\": 0, \"city\": \"San Diego\", \"day\": 30, \"month\": 12, \"year\": 2012, \"hour\": 12, \"day_of_week\": 6, \"pred\": 43.91428571428571}, {\"datetime\": \"2012-12-30T12:00:00\", \"temperature\": 43.0, \"city_Detroit\": 0, \"city_San Diego\": 0, \"city_San Francisco\": 1, \"city\": \"San Francisco\", \"day\": 30, \"month\": 12, \"year\": 2012, \"hour\": 12, \"day_of_week\": 6, \"pred\": 43.01428571428573}, {\"datetime\": \"2012-12-30T12:00:00\", \"temperature\": 28.4, \"city_Detroit\": 1, \"city_San Diego\": 0, \"city_San Francisco\": 0, \"city\": \"Detroit\", \"day\": 30, \"month\": 12, \"year\": 2012, \"hour\": 12, \"day_of_week\": 6, \"pred\": 28.1}, {\"datetime\": \"2012-12-30T13:00:00\", \"temperature\": 42.8, \"city_Detroit\": 0, \"city_San Diego\": 0, \"city_San Francisco\": 1, \"city\": \"San Francisco\", \"day\": 30, \"month\": 12, \"year\": 2012, \"hour\": 13, \"day_of_week\": 6, \"pred\": 43.01428571428573}, {\"datetime\": \"2012-12-30T13:00:00\", \"temperature\": 28.4, \"city_Detroit\": 1, \"city_San Diego\": 0, \"city_San Francisco\": 0, \"city\": \"Detroit\", \"day\": 30, \"month\": 12, \"year\": 2012, \"hour\": 13, \"day_of_week\": 6, \"pred\": 28.1}, {\"datetime\": \"2012-12-30T13:00:00\", \"temperature\": 43.3, \"city_Detroit\": 0, \"city_San Diego\": 1, \"city_San Francisco\": 0, \"city\": \"San Diego\", \"day\": 30, \"month\": 12, \"year\": 2012, \"hour\": 13, \"day_of_week\": 6, \"pred\": 43.91428571428571}, {\"datetime\": \"2012-12-30T14:00:00\", \"temperature\": 28.4, \"city_Detroit\": 1, \"city_San Diego\": 0, \"city_San Francisco\": 0, \"city\": \"Detroit\", \"day\": 30, \"month\": 12, \"year\": 2012, \"hour\": 14, \"day_of_week\": 6, \"pred\": 28.1}, {\"datetime\": \"2012-12-30T14:00:00\", \"temperature\": 45.0, \"city_Detroit\": 0, \"city_San Diego\": 1, \"city_San Francisco\": 0, \"city\": \"San Diego\", \"day\": 30, \"month\": 12, \"year\": 2012, \"hour\": 14, \"day_of_week\": 6, \"pred\": 43.91428571428571}, {\"datetime\": \"2012-12-30T14:00:00\", \"temperature\": 43.1, \"city_Detroit\": 0, \"city_San Diego\": 0, \"city_San Francisco\": 1, \"city\": \"San Francisco\", \"day\": 30, \"month\": 12, \"year\": 2012, \"hour\": 14, \"day_of_week\": 6, \"pred\": 43.01428571428573}, {\"datetime\": \"2012-12-30T15:00:00\", \"temperature\": 28.8, \"city_Detroit\": 1, \"city_San Diego\": 0, \"city_San Francisco\": 0, \"city\": \"Detroit\", \"day\": 30, \"month\": 12, \"year\": 2012, \"hour\": 15, \"day_of_week\": 6, \"pred\": 28.1}, {\"datetime\": \"2012-12-30T15:00:00\", \"temperature\": 44.9, \"city_Detroit\": 0, \"city_San Diego\": 1, \"city_San Francisco\": 0, \"city\": \"San Diego\", \"day\": 30, \"month\": 12, \"year\": 2012, \"hour\": 15, \"day_of_week\": 6, \"pred\": 43.91428571428571}, {\"datetime\": \"2012-12-30T15:00:00\", \"temperature\": 42.6, \"city_Detroit\": 0, \"city_San Diego\": 0, \"city_San Francisco\": 1, \"city\": \"San Francisco\", \"day\": 30, \"month\": 12, \"year\": 2012, \"hour\": 15, \"day_of_week\": 6, \"pred\": 43.01428571428573}, {\"datetime\": \"2012-12-30T16:00:00\", \"temperature\": 47.3, \"city_Detroit\": 0, \"city_San Diego\": 1, \"city_San Francisco\": 0, \"city\": \"San Diego\", \"day\": 30, \"month\": 12, \"year\": 2012, \"hour\": 16, \"day_of_week\": 6, \"pred\": 47.63333333333333}, {\"datetime\": \"2012-12-30T16:00:00\", \"temperature\": 26.5, \"city_Detroit\": 1, \"city_San Diego\": 0, \"city_San Francisco\": 0, \"city\": \"Detroit\", \"day\": 30, \"month\": 12, \"year\": 2012, \"hour\": 16, \"day_of_week\": 6, \"pred\": 28.1}, {\"datetime\": \"2012-12-30T16:00:00\", \"temperature\": 43.8, \"city_Detroit\": 0, \"city_San Diego\": 0, \"city_San Francisco\": 1, \"city\": \"San Francisco\", \"day\": 30, \"month\": 12, \"year\": 2012, \"hour\": 16, \"day_of_week\": 6, \"pred\": 44.25}, {\"datetime\": \"2012-12-30T17:00:00\", \"temperature\": 44.7, \"city_Detroit\": 0, \"city_San Diego\": 0, \"city_San Francisco\": 1, \"city\": \"San Francisco\", \"day\": 30, \"month\": 12, \"year\": 2012, \"hour\": 17, \"day_of_week\": 6, \"pred\": 44.25}, {\"datetime\": \"2012-12-30T17:00:00\", \"temperature\": 51.7, \"city_Detroit\": 0, \"city_San Diego\": 1, \"city_San Francisco\": 0, \"city\": \"San Diego\", \"day\": 30, \"month\": 12, \"year\": 2012, \"hour\": 17, \"day_of_week\": 6, \"pred\": 51.7}, {\"datetime\": \"2012-12-30T17:00:00\", \"temperature\": 30.8, \"city_Detroit\": 1, \"city_San Diego\": 0, \"city_San Francisco\": 0, \"city\": \"Detroit\", \"day\": 30, \"month\": 12, \"year\": 2012, \"hour\": 17, \"day_of_week\": 6, \"pred\": 30.414285714285715}, {\"datetime\": \"2012-12-30T18:00:00\", \"temperature\": 30.8, \"city_Detroit\": 1, \"city_San Diego\": 0, \"city_San Francisco\": 0, \"city\": \"Detroit\", \"day\": 30, \"month\": 12, \"year\": 2012, \"hour\": 18, \"day_of_week\": 6, \"pred\": 30.414285714285715}, {\"datetime\": \"2012-12-30T18:00:00\", \"temperature\": 46.3, \"city_Detroit\": 0, \"city_San Diego\": 0, \"city_San Francisco\": 1, \"city\": \"San Francisco\", \"day\": 30, \"month\": 12, \"year\": 2012, \"hour\": 18, \"day_of_week\": 6, \"pred\": 46.3}, {\"datetime\": \"2012-12-30T18:00:00\", \"temperature\": 55.2, \"city_Detroit\": 0, \"city_San Diego\": 1, \"city_San Francisco\": 0, \"city\": \"San Diego\", \"day\": 30, \"month\": 12, \"year\": 2012, \"hour\": 18, \"day_of_week\": 6, \"pred\": 55.2}, {\"datetime\": \"2012-12-30T19:00:00\", \"temperature\": 30.6, \"city_Detroit\": 1, \"city_San Diego\": 0, \"city_San Francisco\": 0, \"city\": \"Detroit\", \"day\": 30, \"month\": 12, \"year\": 2012, \"hour\": 19, \"day_of_week\": 6, \"pred\": 30.414285714285715}, {\"datetime\": \"2012-12-30T19:00:00\", \"temperature\": 48.7, \"city_Detroit\": 0, \"city_San Diego\": 0, \"city_San Francisco\": 1, \"city\": \"San Francisco\", \"day\": 30, \"month\": 12, \"year\": 2012, \"hour\": 19, \"day_of_week\": 6, \"pred\": 48.7}, {\"datetime\": \"2012-12-30T19:00:00\", \"temperature\": 56.9, \"city_Detroit\": 0, \"city_San Diego\": 1, \"city_San Francisco\": 0, \"city\": \"San Diego\", \"day\": 30, \"month\": 12, \"year\": 2012, \"hour\": 19, \"day_of_week\": 6, \"pred\": 59.79600000000001}, {\"datetime\": \"2012-12-30T20:00:00\", \"temperature\": 30.6, \"city_Detroit\": 1, \"city_San Diego\": 0, \"city_San Francisco\": 0, \"city\": \"Detroit\", \"day\": 30, \"month\": 12, \"year\": 2012, \"hour\": 20, \"day_of_week\": 6, \"pred\": 30.414285714285715}, {\"datetime\": \"2012-12-30T20:00:00\", \"temperature\": 49.8, \"city_Detroit\": 0, \"city_San Diego\": 0, \"city_San Francisco\": 1, \"city\": \"San Francisco\", \"day\": 30, \"month\": 12, \"year\": 2012, \"hour\": 20, \"day_of_week\": 6, \"pred\": 50.349999999999994}, {\"datetime\": \"2012-12-30T20:00:00\", \"temperature\": 58.8, \"city_Detroit\": 0, \"city_San Diego\": 1, \"city_San Francisco\": 0, \"city\": \"San Diego\", \"day\": 30, \"month\": 12, \"year\": 2012, \"hour\": 20, \"day_of_week\": 6, \"pred\": 59.79600000000001}, {\"datetime\": \"2012-12-30T21:00:00\", \"temperature\": 30.6, \"city_Detroit\": 1, \"city_San Diego\": 0, \"city_San Francisco\": 0, \"city\": \"Detroit\", \"day\": 30, \"month\": 12, \"year\": 2012, \"hour\": 21, \"day_of_week\": 6, \"pred\": 30.414285714285715}, {\"datetime\": \"2012-12-30T21:00:00\", \"temperature\": 50.9, \"city_Detroit\": 0, \"city_San Diego\": 0, \"city_San Francisco\": 1, \"city\": \"San Francisco\", \"day\": 30, \"month\": 12, \"year\": 2012, \"hour\": 21, \"day_of_week\": 6, \"pred\": 50.349999999999994}, {\"datetime\": \"2012-12-30T21:00:00\", \"temperature\": 57.9, \"city_Detroit\": 0, \"city_San Diego\": 1, \"city_San Francisco\": 0, \"city\": \"San Diego\", \"day\": 30, \"month\": 12, \"year\": 2012, \"hour\": 21, \"day_of_week\": 6, \"pred\": 59.79600000000001}, {\"datetime\": \"2012-12-30T22:00:00\", \"temperature\": 57.2, \"city_Detroit\": 0, \"city_San Diego\": 1, \"city_San Francisco\": 0, \"city\": \"San Diego\", \"day\": 30, \"month\": 12, \"year\": 2012, \"hour\": 22, \"day_of_week\": 6, \"pred\": 59.79600000000001}, {\"datetime\": \"2012-12-30T22:00:00\", \"temperature\": 29.9, \"city_Detroit\": 1, \"city_San Diego\": 0, \"city_San Francisco\": 0, \"city\": \"Detroit\", \"day\": 30, \"month\": 12, \"year\": 2012, \"hour\": 22, \"day_of_week\": 6, \"pred\": 30.414285714285715}, {\"datetime\": \"2012-12-30T22:00:00\", \"temperature\": 51.9, \"city_Detroit\": 0, \"city_San Diego\": 0, \"city_San Francisco\": 1, \"city\": \"San Francisco\", \"day\": 30, \"month\": 12, \"year\": 2012, \"hour\": 22, \"day_of_week\": 6, \"pred\": 52.7}, {\"datetime\": \"2012-12-30T23:00:00\", \"temperature\": 55.4, \"city_Detroit\": 0, \"city_San Diego\": 1, \"city_San Francisco\": 0, \"city\": \"San Diego\", \"day\": 30, \"month\": 12, \"year\": 2012, \"hour\": 23, \"day_of_week\": 6, \"pred\": 59.79600000000001}, {\"datetime\": \"2012-12-30T23:00:00\", \"temperature\": 29.6, \"city_Detroit\": 1, \"city_San Diego\": 0, \"city_San Francisco\": 0, \"city\": \"Detroit\", \"day\": 30, \"month\": 12, \"year\": 2012, \"hour\": 23, \"day_of_week\": 6, \"pred\": 30.414285714285715}, {\"datetime\": \"2012-12-30T23:00:00\", \"temperature\": 53.5, \"city_Detroit\": 0, \"city_San Diego\": 0, \"city_San Francisco\": 1, \"city\": \"San Francisco\", \"day\": 30, \"month\": 12, \"year\": 2012, \"hour\": 23, \"day_of_week\": 6, \"pred\": 52.7}, {\"datetime\": \"2012-12-31T00:00:00\", \"temperature\": 29.2, \"city_Detroit\": 1, \"city_San Diego\": 0, \"city_San Francisco\": 0, \"city\": \"Detroit\", \"day\": 31, \"month\": 12, \"year\": 2012, \"hour\": 0, \"day_of_week\": 0, \"pred\": 27.666666666666668}, {\"datetime\": \"2012-12-31T00:00:00\", \"temperature\": 53.4, \"city_Detroit\": 0, \"city_San Diego\": 1, \"city_San Francisco\": 0, \"city\": \"San Diego\", \"day\": 31, \"month\": 12, \"year\": 2012, \"hour\": 0, \"day_of_week\": 0, \"pred\": 52.55}, {\"datetime\": \"2012-12-31T00:00:00\", \"temperature\": 52.8, \"city_Detroit\": 0, \"city_San Diego\": 0, \"city_San Francisco\": 1, \"city\": \"San Francisco\", \"day\": 31, \"month\": 12, \"year\": 2012, \"hour\": 0, \"day_of_week\": 0, \"pred\": 50.3375}, {\"datetime\": \"2012-12-31T01:00:00\", \"temperature\": 51.7, \"city_Detroit\": 0, \"city_San Diego\": 1, \"city_San Francisco\": 0, \"city\": \"San Diego\", \"day\": 31, \"month\": 12, \"year\": 2012, \"hour\": 1, \"day_of_week\": 0, \"pred\": 52.55}, {\"datetime\": \"2012-12-31T01:00:00\", \"temperature\": 49.9, \"city_Detroit\": 0, \"city_San Diego\": 0, \"city_San Francisco\": 1, \"city\": \"San Francisco\", \"day\": 31, \"month\": 12, \"year\": 2012, \"hour\": 1, \"day_of_week\": 0, \"pred\": 50.3375}, {\"datetime\": \"2012-12-31T01:00:00\", \"temperature\": 29.2, \"city_Detroit\": 1, \"city_San Diego\": 0, \"city_San Francisco\": 0, \"city\": \"Detroit\", \"day\": 31, \"month\": 12, \"year\": 2012, \"hour\": 1, \"day_of_week\": 0, \"pred\": 27.666666666666668}, {\"datetime\": \"2012-12-31T02:00:00\", \"temperature\": 51.0, \"city_Detroit\": 0, \"city_San Diego\": 1, \"city_San Francisco\": 0, \"city\": \"San Diego\", \"day\": 31, \"month\": 12, \"year\": 2012, \"hour\": 2, \"day_of_week\": 0, \"pred\": 50.48333333333334}, {\"datetime\": \"2012-12-31T02:00:00\", \"temperature\": 46.2, \"city_Detroit\": 0, \"city_San Diego\": 0, \"city_San Francisco\": 1, \"city\": \"San Francisco\", \"day\": 31, \"month\": 12, \"year\": 2012, \"hour\": 2, \"day_of_week\": 0, \"pred\": 46.7}, {\"datetime\": \"2012-12-31T02:00:00\", \"temperature\": 28.5, \"city_Detroit\": 1, \"city_San Diego\": 0, \"city_San Francisco\": 0, \"city\": \"Detroit\", \"day\": 31, \"month\": 12, \"year\": 2012, \"hour\": 2, \"day_of_week\": 0, \"pred\": 27.666666666666668}, {\"datetime\": \"2012-12-31T03:00:00\", \"temperature\": 44.5, \"city_Detroit\": 0, \"city_San Diego\": 0, \"city_San Francisco\": 1, \"city\": \"San Francisco\", \"day\": 31, \"month\": 12, \"year\": 2012, \"hour\": 3, \"day_of_week\": 0, \"pred\": 44.5}, {\"datetime\": \"2012-12-31T03:00:00\", \"temperature\": 50.8, \"city_Detroit\": 0, \"city_San Diego\": 1, \"city_San Francisco\": 0, \"city\": \"San Diego\", \"day\": 31, \"month\": 12, \"year\": 2012, \"hour\": 3, \"day_of_week\": 0, \"pred\": 50.48333333333334}, {\"datetime\": \"2012-12-31T03:00:00\", \"temperature\": 27.4, \"city_Detroit\": 1, \"city_San Diego\": 0, \"city_San Francisco\": 0, \"city\": \"Detroit\", \"day\": 31, \"month\": 12, \"year\": 2012, \"hour\": 3, \"day_of_week\": 0, \"pred\": 27.666666666666668}, {\"datetime\": \"2012-12-31T04:00:00\", \"temperature\": 50.1, \"city_Detroit\": 0, \"city_San Diego\": 1, \"city_San Francisco\": 0, \"city\": \"San Diego\", \"day\": 31, \"month\": 12, \"year\": 2012, \"hour\": 4, \"day_of_week\": 0, \"pred\": 47.970000000000006}, {\"datetime\": \"2012-12-31T04:00:00\", \"temperature\": 43.0, \"city_Detroit\": 0, \"city_San Diego\": 0, \"city_San Francisco\": 1, \"city\": \"San Francisco\", \"day\": 31, \"month\": 12, \"year\": 2012, \"hour\": 4, \"day_of_week\": 0, \"pred\": 43.0}, {\"datetime\": \"2012-12-31T04:00:00\", \"temperature\": 25.6, \"city_Detroit\": 1, \"city_San Diego\": 0, \"city_San Francisco\": 0, \"city\": \"Detroit\", \"day\": 31, \"month\": 12, \"year\": 2012, \"hour\": 4, \"day_of_week\": 0, \"pred\": 27.666666666666668}, {\"datetime\": \"2012-12-31T05:00:00\", \"temperature\": 26.1, \"city_Detroit\": 1, \"city_San Diego\": 0, \"city_San Francisco\": 0, \"city\": \"Detroit\", \"day\": 31, \"month\": 12, \"year\": 2012, \"hour\": 5, \"day_of_week\": 0, \"pred\": 27.666666666666668}, {\"datetime\": \"2012-12-31T05:00:00\", \"temperature\": 47.6, \"city_Detroit\": 0, \"city_San Diego\": 1, \"city_San Francisco\": 0, \"city\": \"San Diego\", \"day\": 31, \"month\": 12, \"year\": 2012, \"hour\": 5, \"day_of_week\": 0, \"pred\": 47.970000000000006}, {\"datetime\": \"2012-12-31T05:00:00\", \"temperature\": 41.2, \"city_Detroit\": 0, \"city_San Diego\": 0, \"city_San Francisco\": 1, \"city\": \"San Francisco\", \"day\": 31, \"month\": 12, \"year\": 2012, \"hour\": 5, \"day_of_week\": 0, \"pred\": 41.2}, {\"datetime\": \"2012-12-31T06:00:00\", \"temperature\": 39.6, \"city_Detroit\": 0, \"city_San Diego\": 0, \"city_San Francisco\": 1, \"city\": \"San Francisco\", \"day\": 31, \"month\": 12, \"year\": 2012, \"hour\": 6, \"day_of_week\": 0, \"pred\": 38.957142857142856}, {\"datetime\": \"2012-12-31T06:00:00\", \"temperature\": 21.8, \"city_Detroit\": 1, \"city_San Diego\": 0, \"city_San Francisco\": 0, \"city\": \"Detroit\", \"day\": 31, \"month\": 12, \"year\": 2012, \"hour\": 6, \"day_of_week\": 0, \"pred\": 22.349999999999998}, {\"datetime\": \"2012-12-31T06:00:00\", \"temperature\": 46.9, \"city_Detroit\": 0, \"city_San Diego\": 1, \"city_San Francisco\": 0, \"city\": \"San Diego\", \"day\": 31, \"month\": 12, \"year\": 2012, \"hour\": 6, \"day_of_week\": 0, \"pred\": 47.970000000000006}, {\"datetime\": \"2012-12-31T07:00:00\", \"temperature\": 46.1, \"city_Detroit\": 0, \"city_San Diego\": 1, \"city_San Francisco\": 0, \"city\": \"San Diego\", \"day\": 31, \"month\": 12, \"year\": 2012, \"hour\": 7, \"day_of_week\": 0, \"pred\": 47.970000000000006}, {\"datetime\": \"2012-12-31T07:00:00\", \"temperature\": 38.0, \"city_Detroit\": 0, \"city_San Diego\": 0, \"city_San Francisco\": 1, \"city\": \"San Francisco\", \"day\": 31, \"month\": 12, \"year\": 2012, \"hour\": 7, \"day_of_week\": 0, \"pred\": 38.957142857142856}, {\"datetime\": \"2012-12-31T07:00:00\", \"temperature\": 17.5, \"city_Detroit\": 1, \"city_San Diego\": 0, \"city_San Francisco\": 0, \"city\": \"Detroit\", \"day\": 31, \"month\": 12, \"year\": 2012, \"hour\": 7, \"day_of_week\": 0, \"pred\": 22.349999999999998}, {\"datetime\": \"2012-12-31T08:00:00\", \"temperature\": 46.1, \"city_Detroit\": 0, \"city_San Diego\": 1, \"city_San Francisco\": 0, \"city\": \"San Diego\", \"day\": 31, \"month\": 12, \"year\": 2012, \"hour\": 8, \"day_of_week\": 0, \"pred\": 47.970000000000006}, {\"datetime\": \"2012-12-31T08:00:00\", \"temperature\": 17.5, \"city_Detroit\": 1, \"city_San Diego\": 0, \"city_San Francisco\": 0, \"city\": \"Detroit\", \"day\": 31, \"month\": 12, \"year\": 2012, \"hour\": 8, \"day_of_week\": 0, \"pred\": 22.349999999999998}, {\"datetime\": \"2012-12-31T08:00:00\", \"temperature\": 38.0, \"city_Detroit\": 0, \"city_San Diego\": 0, \"city_San Francisco\": 1, \"city\": \"San Francisco\", \"day\": 31, \"month\": 12, \"year\": 2012, \"hour\": 8, \"day_of_week\": 0, \"pred\": 38.957142857142856}, {\"datetime\": \"2012-12-31T09:00:00\", \"temperature\": 45.6, \"city_Detroit\": 0, \"city_San Diego\": 1, \"city_San Francisco\": 0, \"city\": \"San Diego\", \"day\": 31, \"month\": 12, \"year\": 2012, \"hour\": 9, \"day_of_week\": 0, \"pred\": 44.987500000000004}, {\"datetime\": \"2012-12-31T09:00:00\", \"temperature\": 25.1, \"city_Detroit\": 1, \"city_San Diego\": 0, \"city_San Francisco\": 0, \"city\": \"Detroit\", \"day\": 31, \"month\": 12, \"year\": 2012, \"hour\": 9, \"day_of_week\": 0, \"pred\": 22.349999999999998}, {\"datetime\": \"2012-12-31T09:00:00\", \"temperature\": 39.4, \"city_Detroit\": 0, \"city_San Diego\": 0, \"city_San Francisco\": 1, \"city\": \"San Francisco\", \"day\": 31, \"month\": 12, \"year\": 2012, \"hour\": 9, \"day_of_week\": 0, \"pred\": 38.957142857142856}, {\"datetime\": \"2012-12-31T10:00:00\", \"temperature\": 25.5, \"city_Detroit\": 1, \"city_San Diego\": 0, \"city_San Francisco\": 0, \"city\": \"Detroit\", \"day\": 31, \"month\": 12, \"year\": 2012, \"hour\": 10, \"day_of_week\": 0, \"pred\": 22.349999999999998}, {\"datetime\": \"2012-12-31T10:00:00\", \"temperature\": 39.4, \"city_Detroit\": 0, \"city_San Diego\": 0, \"city_San Francisco\": 1, \"city\": \"San Francisco\", \"day\": 31, \"month\": 12, \"year\": 2012, \"hour\": 10, \"day_of_week\": 0, \"pred\": 38.957142857142856}, {\"datetime\": \"2012-12-31T10:00:00\", \"temperature\": 45.2, \"city_Detroit\": 0, \"city_San Diego\": 1, \"city_San Francisco\": 0, \"city\": \"San Diego\", \"day\": 31, \"month\": 12, \"year\": 2012, \"hour\": 10, \"day_of_week\": 0, \"pred\": 44.987500000000004}, {\"datetime\": \"2012-12-31T11:00:00\", \"temperature\": 26.7, \"city_Detroit\": 1, \"city_San Diego\": 0, \"city_San Francisco\": 0, \"city\": \"Detroit\", \"day\": 31, \"month\": 12, \"year\": 2012, \"hour\": 11, \"day_of_week\": 0, \"pred\": 22.349999999999998}, {\"datetime\": \"2012-12-31T11:00:00\", \"temperature\": 39.5, \"city_Detroit\": 0, \"city_San Diego\": 0, \"city_San Francisco\": 1, \"city\": \"San Francisco\", \"day\": 31, \"month\": 12, \"year\": 2012, \"hour\": 11, \"day_of_week\": 0, \"pred\": 38.957142857142856}, {\"datetime\": \"2012-12-31T11:00:00\", \"temperature\": 44.7, \"city_Detroit\": 0, \"city_San Diego\": 1, \"city_San Francisco\": 0, \"city\": \"San Diego\", \"day\": 31, \"month\": 12, \"year\": 2012, \"hour\": 11, \"day_of_week\": 0, \"pred\": 44.987500000000004}, {\"datetime\": \"2012-12-31T12:00:00\", \"temperature\": 27.4, \"city_Detroit\": 1, \"city_San Diego\": 0, \"city_San Francisco\": 0, \"city\": \"Detroit\", \"day\": 31, \"month\": 12, \"year\": 2012, \"hour\": 12, \"day_of_week\": 0, \"pred\": 28.71111111111111}, {\"datetime\": \"2012-12-31T12:00:00\", \"temperature\": 38.8, \"city_Detroit\": 0, \"city_San Diego\": 0, \"city_San Francisco\": 1, \"city\": \"San Francisco\", \"day\": 31, \"month\": 12, \"year\": 2012, \"hour\": 12, \"day_of_week\": 0, \"pred\": 38.957142857142856}, {\"datetime\": \"2012-12-31T12:00:00\", \"temperature\": 44.9, \"city_Detroit\": 0, \"city_San Diego\": 1, \"city_San Francisco\": 0, \"city\": \"San Diego\", \"day\": 31, \"month\": 12, \"year\": 2012, \"hour\": 12, \"day_of_week\": 0, \"pred\": 44.987500000000004}, {\"datetime\": \"2012-12-31T13:00:00\", \"temperature\": 38.1, \"city_Detroit\": 0, \"city_San Diego\": 0, \"city_San Francisco\": 1, \"city\": \"San Francisco\", \"day\": 31, \"month\": 12, \"year\": 2012, \"hour\": 13, \"day_of_week\": 0, \"pred\": 38.025}, {\"datetime\": \"2012-12-31T13:00:00\", \"temperature\": 27.8, \"city_Detroit\": 1, \"city_San Diego\": 0, \"city_San Francisco\": 0, \"city\": \"Detroit\", \"day\": 31, \"month\": 12, \"year\": 2012, \"hour\": 13, \"day_of_week\": 0, \"pred\": 28.71111111111111}, {\"datetime\": \"2012-12-31T13:00:00\", \"temperature\": 44.2, \"city_Detroit\": 0, \"city_San Diego\": 1, \"city_San Francisco\": 0, \"city\": \"San Diego\", \"day\": 31, \"month\": 12, \"year\": 2012, \"hour\": 13, \"day_of_week\": 0, \"pred\": 44.987500000000004}, {\"datetime\": \"2012-12-31T14:00:00\", \"temperature\": 44.8, \"city_Detroit\": 0, \"city_San Diego\": 1, \"city_San Francisco\": 0, \"city\": \"San Diego\", \"day\": 31, \"month\": 12, \"year\": 2012, \"hour\": 14, \"day_of_week\": 0, \"pred\": 44.987500000000004}, {\"datetime\": \"2012-12-31T14:00:00\", \"temperature\": 37.6, \"city_Detroit\": 0, \"city_San Diego\": 0, \"city_San Francisco\": 1, \"city\": \"San Francisco\", \"day\": 31, \"month\": 12, \"year\": 2012, \"hour\": 14, \"day_of_week\": 0, \"pred\": 38.025}, {\"datetime\": \"2012-12-31T14:00:00\", \"temperature\": 28.4, \"city_Detroit\": 1, \"city_San Diego\": 0, \"city_San Francisco\": 0, \"city\": \"Detroit\", \"day\": 31, \"month\": 12, \"year\": 2012, \"hour\": 14, \"day_of_week\": 0, \"pred\": 28.71111111111111}, {\"datetime\": \"2012-12-31T15:00:00\", \"temperature\": 44.4, \"city_Detroit\": 0, \"city_San Diego\": 1, \"city_San Francisco\": 0, \"city\": \"San Diego\", \"day\": 31, \"month\": 12, \"year\": 2012, \"hour\": 15, \"day_of_week\": 0, \"pred\": 44.987500000000004}, {\"datetime\": \"2012-12-31T15:00:00\", \"temperature\": 38.0, \"city_Detroit\": 0, \"city_San Diego\": 0, \"city_San Francisco\": 1, \"city\": \"San Francisco\", \"day\": 31, \"month\": 12, \"year\": 2012, \"hour\": 15, \"day_of_week\": 0, \"pred\": 38.025}, {\"datetime\": \"2012-12-31T15:00:00\", \"temperature\": 29.5, \"city_Detroit\": 1, \"city_San Diego\": 0, \"city_San Francisco\": 0, \"city\": \"Detroit\", \"day\": 31, \"month\": 12, \"year\": 2012, \"hour\": 15, \"day_of_week\": 0, \"pred\": 28.71111111111111}, {\"datetime\": \"2012-12-31T16:00:00\", \"temperature\": 38.4, \"city_Detroit\": 0, \"city_San Diego\": 0, \"city_San Francisco\": 1, \"city\": \"San Francisco\", \"day\": 31, \"month\": 12, \"year\": 2012, \"hour\": 16, \"day_of_week\": 0, \"pred\": 38.025}, {\"datetime\": \"2012-12-31T16:00:00\", \"temperature\": 46.1, \"city_Detroit\": 0, \"city_San Diego\": 1, \"city_San Francisco\": 0, \"city\": \"San Diego\", \"day\": 31, \"month\": 12, \"year\": 2012, \"hour\": 16, \"day_of_week\": 0, \"pred\": 44.987500000000004}, {\"datetime\": \"2012-12-31T16:00:00\", \"temperature\": 30.0, \"city_Detroit\": 1, \"city_San Diego\": 0, \"city_San Francisco\": 0, \"city\": \"Detroit\", \"day\": 31, \"month\": 12, \"year\": 2012, \"hour\": 16, \"day_of_week\": 0, \"pred\": 28.71111111111111}, {\"datetime\": \"2012-12-31T17:00:00\", \"temperature\": 30.1, \"city_Detroit\": 1, \"city_San Diego\": 0, \"city_San Francisco\": 0, \"city\": \"Detroit\", \"day\": 31, \"month\": 12, \"year\": 2012, \"hour\": 17, \"day_of_week\": 0, \"pred\": 28.71111111111111}, {\"datetime\": \"2012-12-31T17:00:00\", \"temperature\": 50.0, \"city_Detroit\": 0, \"city_San Diego\": 1, \"city_San Francisco\": 0, \"city\": \"San Diego\", \"day\": 31, \"month\": 12, \"year\": 2012, \"hour\": 17, \"day_of_week\": 0, \"pred\": 50.0}, {\"datetime\": \"2012-12-31T17:00:00\", \"temperature\": 41.9, \"city_Detroit\": 0, \"city_San Diego\": 0, \"city_San Francisco\": 1, \"city\": \"San Francisco\", \"day\": 31, \"month\": 12, \"year\": 2012, \"hour\": 17, \"day_of_week\": 0, \"pred\": 41.9}, {\"datetime\": \"2012-12-31T18:00:00\", \"temperature\": 51.8, \"city_Detroit\": 0, \"city_San Diego\": 1, \"city_San Francisco\": 0, \"city\": \"San Diego\", \"day\": 31, \"month\": 12, \"year\": 2012, \"hour\": 18, \"day_of_week\": 0, \"pred\": 51.8}, {\"datetime\": \"2012-12-31T18:00:00\", \"temperature\": 29.2, \"city_Detroit\": 1, \"city_San Diego\": 0, \"city_San Francisco\": 0, \"city\": \"Detroit\", \"day\": 31, \"month\": 12, \"year\": 2012, \"hour\": 18, \"day_of_week\": 0, \"pred\": 28.71111111111111}, {\"datetime\": \"2012-12-31T18:00:00\", \"temperature\": 47.4, \"city_Detroit\": 0, \"city_San Diego\": 0, \"city_San Francisco\": 1, \"city\": \"San Francisco\", \"day\": 31, \"month\": 12, \"year\": 2012, \"hour\": 18, \"day_of_week\": 0, \"pred\": 47.4}, {\"datetime\": \"2012-12-31T19:00:00\", \"temperature\": 28.7, \"city_Detroit\": 1, \"city_San Diego\": 0, \"city_San Francisco\": 0, \"city\": \"Detroit\", \"day\": 31, \"month\": 12, \"year\": 2012, \"hour\": 19, \"day_of_week\": 0, \"pred\": 28.71111111111111}, {\"datetime\": \"2012-12-31T19:00:00\", \"temperature\": 49.7, \"city_Detroit\": 0, \"city_San Diego\": 0, \"city_San Francisco\": 1, \"city\": \"San Francisco\", \"day\": 31, \"month\": 12, \"year\": 2012, \"hour\": 19, \"day_of_week\": 0, \"pred\": 49.7}, {\"datetime\": \"2012-12-31T19:00:00\", \"temperature\": 52.9, \"city_Detroit\": 0, \"city_San Diego\": 1, \"city_San Francisco\": 0, \"city\": \"San Diego\", \"day\": 31, \"month\": 12, \"year\": 2012, \"hour\": 19, \"day_of_week\": 0, \"pred\": 52.9}, {\"datetime\": \"2012-12-31T20:00:00\", \"temperature\": 27.3, \"city_Detroit\": 1, \"city_San Diego\": 0, \"city_San Francisco\": 0, \"city\": \"Detroit\", \"day\": 31, \"month\": 12, \"year\": 2012, \"hour\": 20, \"day_of_week\": 0, \"pred\": 28.71111111111111}, {\"datetime\": \"2012-12-31T20:00:00\", \"temperature\": 52.3, \"city_Detroit\": 0, \"city_San Diego\": 1, \"city_San Francisco\": 0, \"city\": \"San Diego\", \"day\": 31, \"month\": 12, \"year\": 2012, \"hour\": 20, \"day_of_week\": 0, \"pred\": 52.366666666666674}, {\"datetime\": \"2012-12-31T20:00:00\", \"temperature\": 51.1, \"city_Detroit\": 0, \"city_San Diego\": 0, \"city_San Francisco\": 1, \"city\": \"San Francisco\", \"day\": 31, \"month\": 12, \"year\": 2012, \"hour\": 20, \"day_of_week\": 0, \"pred\": 51.1}, {\"datetime\": \"2012-12-31T21:00:00\", \"temperature\": 52.6, \"city_Detroit\": 0, \"city_San Diego\": 1, \"city_San Francisco\": 0, \"city\": \"San Diego\", \"day\": 31, \"month\": 12, \"year\": 2012, \"hour\": 21, \"day_of_week\": 0, \"pred\": 52.366666666666674}, {\"datetime\": \"2012-12-31T21:00:00\", \"temperature\": 25.8, \"city_Detroit\": 1, \"city_San Diego\": 0, \"city_San Francisco\": 0, \"city\": \"Detroit\", \"day\": 31, \"month\": 12, \"year\": 2012, \"hour\": 21, \"day_of_week\": 0, \"pred\": 25.0}, {\"datetime\": \"2012-12-31T21:00:00\", \"temperature\": 52.4, \"city_Detroit\": 0, \"city_San Diego\": 0, \"city_San Francisco\": 1, \"city\": \"San Francisco\", \"day\": 31, \"month\": 12, \"year\": 2012, \"hour\": 21, \"day_of_week\": 0, \"pred\": 52.36666666666667}, {\"datetime\": \"2012-12-31T22:00:00\", \"temperature\": 52.2, \"city_Detroit\": 0, \"city_San Diego\": 1, \"city_San Francisco\": 0, \"city\": \"San Diego\", \"day\": 31, \"month\": 12, \"year\": 2012, \"hour\": 22, \"day_of_week\": 0, \"pred\": 52.366666666666674}, {\"datetime\": \"2012-12-31T22:00:00\", \"temperature\": 52.1, \"city_Detroit\": 0, \"city_San Diego\": 0, \"city_San Francisco\": 1, \"city\": \"San Francisco\", \"day\": 31, \"month\": 12, \"year\": 2012, \"hour\": 22, \"day_of_week\": 0, \"pred\": 52.36666666666667}, {\"datetime\": \"2012-12-31T22:00:00\", \"temperature\": 25.4, \"city_Detroit\": 1, \"city_San Diego\": 0, \"city_San Francisco\": 0, \"city\": \"Detroit\", \"day\": 31, \"month\": 12, \"year\": 2012, \"hour\": 22, \"day_of_week\": 0, \"pred\": 25.0}, {\"datetime\": \"2012-12-31T23:00:00\", \"temperature\": 52.9, \"city_Detroit\": 0, \"city_San Diego\": 1, \"city_San Francisco\": 0, \"city\": \"San Diego\", \"day\": 31, \"month\": 12, \"year\": 2012, \"hour\": 23, \"day_of_week\": 0, \"pred\": 52.9}, {\"datetime\": \"2012-12-31T23:00:00\", \"temperature\": 23.8, \"city_Detroit\": 1, \"city_San Diego\": 0, \"city_San Francisco\": 0, \"city\": \"Detroit\", \"day\": 31, \"month\": 12, \"year\": 2012, \"hour\": 23, \"day_of_week\": 0, \"pred\": 25.0}, {\"datetime\": \"2012-12-31T23:00:00\", \"temperature\": 52.6, \"city_Detroit\": 0, \"city_San Diego\": 0, \"city_San Francisco\": 1, \"city\": \"San Francisco\", \"day\": 31, \"month\": 12, \"year\": 2012, \"hour\": 23, \"day_of_week\": 0, \"pred\": 52.36666666666667}, {\"datetime\": \"2013-01-01T00:00:00\", \"temperature\": 22.2, \"city_Detroit\": 1, \"city_San Diego\": 0, \"city_San Francisco\": 0, \"city\": \"Detroit\", \"day\": 1, \"month\": 1, \"year\": 2013, \"hour\": 0, \"day_of_week\": 1, \"pred\": 22.03333333333333}, {\"datetime\": \"2013-01-01T00:00:00\", \"temperature\": 51.0, \"city_Detroit\": 0, \"city_San Diego\": 1, \"city_San Francisco\": 0, \"city\": \"San Diego\", \"day\": 1, \"month\": 1, \"year\": 2013, \"hour\": 0, \"day_of_week\": 1, \"pred\": 51.0}, {\"datetime\": \"2013-01-01T00:00:00\", \"temperature\": 52.7, \"city_Detroit\": 0, \"city_San Diego\": 0, \"city_San Francisco\": 1, \"city\": \"San Francisco\", \"day\": 1, \"month\": 1, \"year\": 2013, \"hour\": 0, \"day_of_week\": 1, \"pred\": 52.7}, {\"datetime\": \"2013-01-01T01:00:00\", \"temperature\": 22.4, \"city_Detroit\": 1, \"city_San Diego\": 0, \"city_San Francisco\": 0, \"city\": \"Detroit\", \"day\": 1, \"month\": 1, \"year\": 2013, \"hour\": 1, \"day_of_week\": 1, \"pred\": 22.03333333333333}, {\"datetime\": \"2013-01-01T01:00:00\", \"temperature\": 48.1, \"city_Detroit\": 0, \"city_San Diego\": 1, \"city_San Francisco\": 0, \"city\": \"San Diego\", \"day\": 1, \"month\": 1, \"year\": 2013, \"hour\": 1, \"day_of_week\": 1, \"pred\": 48.1}, {\"datetime\": \"2013-01-01T01:00:00\", \"temperature\": 50.4, \"city_Detroit\": 0, \"city_San Diego\": 0, \"city_San Francisco\": 1, \"city\": \"San Francisco\", \"day\": 1, \"month\": 1, \"year\": 2013, \"hour\": 1, \"day_of_week\": 1, \"pred\": 48.980000000000004}, {\"datetime\": \"2013-01-01T02:00:00\", \"temperature\": 46.7, \"city_Detroit\": 0, \"city_San Diego\": 1, \"city_San Francisco\": 0, \"city\": \"San Diego\", \"day\": 1, \"month\": 1, \"year\": 2013, \"hour\": 2, \"day_of_week\": 1, \"pred\": 46.7}, {\"datetime\": \"2013-01-01T02:00:00\", \"temperature\": 46.4, \"city_Detroit\": 0, \"city_San Diego\": 0, \"city_San Francisco\": 1, \"city\": \"San Francisco\", \"day\": 1, \"month\": 1, \"year\": 2013, \"hour\": 2, \"day_of_week\": 1, \"pred\": 46.925}, {\"datetime\": \"2013-01-01T02:00:00\", \"temperature\": 21.5, \"city_Detroit\": 1, \"city_San Diego\": 0, \"city_San Francisco\": 0, \"city\": \"Detroit\", \"day\": 1, \"month\": 1, \"year\": 2013, \"hour\": 2, \"day_of_week\": 1, \"pred\": 22.03333333333333}, {\"datetime\": \"2013-01-01T03:00:00\", \"temperature\": 46.5, \"city_Detroit\": 0, \"city_San Diego\": 1, \"city_San Francisco\": 0, \"city\": \"San Diego\", \"day\": 1, \"month\": 1, \"year\": 2013, \"hour\": 3, \"day_of_week\": 1, \"pred\": 46.5}, {\"datetime\": \"2013-01-01T03:00:00\", \"temperature\": 45.1, \"city_Detroit\": 0, \"city_San Diego\": 0, \"city_San Francisco\": 1, \"city\": \"San Francisco\", \"day\": 1, \"month\": 1, \"year\": 2013, \"hour\": 3, \"day_of_week\": 1, \"pred\": 44.95}, {\"datetime\": \"2013-01-01T03:00:00\", \"temperature\": 20.6, \"city_Detroit\": 1, \"city_San Diego\": 0, \"city_San Francisco\": 0, \"city\": \"Detroit\", \"day\": 1, \"month\": 1, \"year\": 2013, \"hour\": 3, \"day_of_week\": 1, \"pred\": 20.500000000000004}, {\"datetime\": \"2013-01-01T04:00:00\", \"temperature\": 45.4, \"city_Detroit\": 0, \"city_San Diego\": 1, \"city_San Francisco\": 0, \"city\": \"San Diego\", \"day\": 1, \"month\": 1, \"year\": 2013, \"hour\": 4, \"day_of_week\": 1, \"pred\": 45.375}, {\"datetime\": \"2013-01-01T04:00:00\", \"temperature\": 44.3, \"city_Detroit\": 0, \"city_San Diego\": 0, \"city_San Francisco\": 1, \"city\": \"San Francisco\", \"day\": 1, \"month\": 1, \"year\": 2013, \"hour\": 4, \"day_of_week\": 1, \"pred\": 45.0}, {\"datetime\": \"2013-01-01T04:00:00\", \"temperature\": 20.6, \"city_Detroit\": 1, \"city_San Diego\": 0, \"city_San Francisco\": 0, \"city\": \"Detroit\", \"day\": 1, \"month\": 1, \"year\": 2013, \"hour\": 4, \"day_of_week\": 1, \"pred\": 20.500000000000004}, {\"datetime\": \"2013-01-01T05:00:00\", \"temperature\": 43.1, \"city_Detroit\": 0, \"city_San Diego\": 0, \"city_San Francisco\": 1, \"city\": \"San Francisco\", \"day\": 1, \"month\": 1, \"year\": 2013, \"hour\": 5, \"day_of_week\": 1, \"pred\": 42.4}, {\"datetime\": \"2013-01-01T05:00:00\", \"temperature\": 44.0, \"city_Detroit\": 0, \"city_San Diego\": 1, \"city_San Francisco\": 0, \"city\": \"San Diego\", \"day\": 1, \"month\": 1, \"year\": 2013, \"hour\": 5, \"day_of_week\": 1, \"pred\": 45.375}, {\"datetime\": \"2013-01-01T05:00:00\", \"temperature\": 20.3, \"city_Detroit\": 1, \"city_San Diego\": 0, \"city_San Francisco\": 0, \"city\": \"Detroit\", \"day\": 1, \"month\": 1, \"year\": 2013, \"hour\": 5, \"day_of_week\": 1, \"pred\": 20.500000000000004}, {\"datetime\": \"2013-01-01T06:00:00\", \"temperature\": 41.6, \"city_Detroit\": 0, \"city_San Diego\": 1, \"city_San Francisco\": 0, \"city\": \"San Diego\", \"day\": 1, \"month\": 1, \"year\": 2013, \"hour\": 6, \"day_of_week\": 1, \"pred\": 42.030000000000015}, {\"datetime\": \"2013-01-01T06:00:00\", \"temperature\": 42.5, \"city_Detroit\": 0, \"city_San Diego\": 0, \"city_San Francisco\": 1, \"city\": \"San Francisco\", \"day\": 1, \"month\": 1, \"year\": 2013, \"hour\": 6, \"day_of_week\": 1, \"pred\": 42.4}, {\"datetime\": \"2013-01-01T06:00:00\", \"temperature\": 25.3, \"city_Detroit\": 1, \"city_San Diego\": 0, \"city_San Francisco\": 0, \"city\": \"Detroit\", \"day\": 1, \"month\": 1, \"year\": 2013, \"hour\": 6, \"day_of_week\": 1, \"pred\": 25.3}, {\"datetime\": \"2013-01-01T07:00:00\", \"temperature\": 42.0, \"city_Detroit\": 0, \"city_San Diego\": 1, \"city_San Francisco\": 0, \"city\": \"San Diego\", \"day\": 1, \"month\": 1, \"year\": 2013, \"hour\": 7, \"day_of_week\": 1, \"pred\": 42.030000000000015}, {\"datetime\": \"2013-01-01T07:00:00\", \"temperature\": 22.7, \"city_Detroit\": 1, \"city_San Diego\": 0, \"city_San Francisco\": 0, \"city\": \"Detroit\", \"day\": 1, \"month\": 1, \"year\": 2013, \"hour\": 7, \"day_of_week\": 1, \"pred\": 23.666666666666668}, {\"datetime\": \"2013-01-01T07:00:00\", \"temperature\": 42.3, \"city_Detroit\": 0, \"city_San Diego\": 0, \"city_San Francisco\": 1, \"city\": \"San Francisco\", \"day\": 1, \"month\": 1, \"year\": 2013, \"hour\": 7, \"day_of_week\": 1, \"pred\": 42.4}, {\"datetime\": \"2013-01-01T08:00:00\", \"temperature\": 23.3, \"city_Detroit\": 1, \"city_San Diego\": 0, \"city_San Francisco\": 0, \"city\": \"Detroit\", \"day\": 1, \"month\": 1, \"year\": 2013, \"hour\": 8, \"day_of_week\": 1, \"pred\": 23.666666666666668}, {\"datetime\": \"2013-01-01T08:00:00\", \"temperature\": 42.2, \"city_Detroit\": 0, \"city_San Diego\": 0, \"city_San Francisco\": 1, \"city\": \"San Francisco\", \"day\": 1, \"month\": 1, \"year\": 2013, \"hour\": 8, \"day_of_week\": 1, \"pred\": 42.4}, {\"datetime\": \"2013-01-01T08:00:00\", \"temperature\": 41.3, \"city_Detroit\": 0, \"city_San Diego\": 1, \"city_San Francisco\": 0, \"city\": \"San Diego\", \"day\": 1, \"month\": 1, \"year\": 2013, \"hour\": 8, \"day_of_week\": 1, \"pred\": 42.030000000000015}, {\"datetime\": \"2013-01-01T09:00:00\", \"temperature\": 40.8, \"city_Detroit\": 0, \"city_San Diego\": 0, \"city_San Francisco\": 1, \"city\": \"San Francisco\", \"day\": 1, \"month\": 1, \"year\": 2013, \"hour\": 9, \"day_of_week\": 1, \"pred\": 39.80625}, {\"datetime\": \"2013-01-01T09:00:00\", \"temperature\": 41.0, \"city_Detroit\": 0, \"city_San Diego\": 1, \"city_San Francisco\": 0, \"city\": \"San Diego\", \"day\": 1, \"month\": 1, \"year\": 2013, \"hour\": 9, \"day_of_week\": 1, \"pred\": 42.030000000000015}, {\"datetime\": \"2013-01-01T09:00:00\", \"temperature\": 25.0, \"city_Detroit\": 1, \"city_San Diego\": 0, \"city_San Francisco\": 0, \"city\": \"Detroit\", \"day\": 1, \"month\": 1, \"year\": 2013, \"hour\": 9, \"day_of_week\": 1, \"pred\": 23.666666666666668}, {\"datetime\": \"2013-01-01T10:00:00\", \"temperature\": 25.9, \"city_Detroit\": 1, \"city_San Diego\": 0, \"city_San Francisco\": 0, \"city\": \"Detroit\", \"day\": 1, \"month\": 1, \"year\": 2013, \"hour\": 10, \"day_of_week\": 1, \"pred\": 26.2}, {\"datetime\": \"2013-01-01T10:00:00\", \"temperature\": 39.4, \"city_Detroit\": 0, \"city_San Diego\": 0, \"city_San Francisco\": 1, \"city\": \"San Francisco\", \"day\": 1, \"month\": 1, \"year\": 2013, \"hour\": 10, \"day_of_week\": 1, \"pred\": 39.80625}, {\"datetime\": \"2013-01-01T10:00:00\", \"temperature\": 40.7, \"city_Detroit\": 0, \"city_San Diego\": 1, \"city_San Francisco\": 0, \"city\": \"San Diego\", \"day\": 1, \"month\": 1, \"year\": 2013, \"hour\": 10, \"day_of_week\": 1, \"pred\": 42.030000000000015}, {\"datetime\": \"2013-01-01T11:00:00\", \"temperature\": 38.8, \"city_Detroit\": 0, \"city_San Diego\": 0, \"city_San Francisco\": 1, \"city\": \"San Francisco\", \"day\": 1, \"month\": 1, \"year\": 2013, \"hour\": 11, \"day_of_week\": 1, \"pred\": 39.80625}, {\"datetime\": \"2013-01-01T11:00:00\", \"temperature\": 26.5, \"city_Detroit\": 1, \"city_San Diego\": 0, \"city_San Francisco\": 0, \"city\": \"Detroit\", \"day\": 1, \"month\": 1, \"year\": 2013, \"hour\": 11, \"day_of_week\": 1, \"pred\": 26.2}, {\"datetime\": \"2013-01-01T11:00:00\", \"temperature\": 39.9, \"city_Detroit\": 0, \"city_San Diego\": 1, \"city_San Francisco\": 0, \"city\": \"San Diego\", \"day\": 1, \"month\": 1, \"year\": 2013, \"hour\": 11, \"day_of_week\": 1, \"pred\": 42.030000000000015}, {\"datetime\": \"2013-01-01T12:00:00\", \"temperature\": 38.7, \"city_Detroit\": 0, \"city_San Diego\": 1, \"city_San Francisco\": 0, \"city\": \"San Diego\", \"day\": 1, \"month\": 1, \"year\": 2013, \"hour\": 12, \"day_of_week\": 1, \"pred\": 42.030000000000015}, {\"datetime\": \"2013-01-01T12:00:00\", \"temperature\": 38.4, \"city_Detroit\": 0, \"city_San Diego\": 0, \"city_San Francisco\": 1, \"city\": \"San Francisco\", \"day\": 1, \"month\": 1, \"year\": 2013, \"hour\": 12, \"day_of_week\": 1, \"pred\": 39.80625}, {\"datetime\": \"2013-01-01T12:00:00\", \"temperature\": 27.3, \"city_Detroit\": 1, \"city_San Diego\": 0, \"city_San Francisco\": 0, \"city\": \"Detroit\", \"day\": 1, \"month\": 1, \"year\": 2013, \"hour\": 12, \"day_of_week\": 1, \"pred\": 27.450000000000003}, {\"datetime\": \"2013-01-01T13:00:00\", \"temperature\": 38.4, \"city_Detroit\": 0, \"city_San Diego\": 1, \"city_San Francisco\": 0, \"city\": \"San Diego\", \"day\": 1, \"month\": 1, \"year\": 2013, \"hour\": 13, \"day_of_week\": 1, \"pred\": 42.030000000000015}, {\"datetime\": \"2013-01-01T13:00:00\", \"temperature\": 38.1, \"city_Detroit\": 0, \"city_San Diego\": 0, \"city_San Francisco\": 1, \"city\": \"San Francisco\", \"day\": 1, \"month\": 1, \"year\": 2013, \"hour\": 13, \"day_of_week\": 1, \"pred\": 39.80625}, {\"datetime\": \"2013-01-01T13:00:00\", \"temperature\": 27.6, \"city_Detroit\": 1, \"city_San Diego\": 0, \"city_San Francisco\": 0, \"city\": \"Detroit\", \"day\": 1, \"month\": 1, \"year\": 2013, \"hour\": 13, \"day_of_week\": 1, \"pred\": 27.450000000000003}, {\"datetime\": \"2013-01-01T14:00:00\", \"temperature\": 37.2, \"city_Detroit\": 0, \"city_San Diego\": 1, \"city_San Francisco\": 0, \"city\": \"San Diego\", \"day\": 1, \"month\": 1, \"year\": 2013, \"hour\": 14, \"day_of_week\": 1, \"pred\": 42.030000000000015}, {\"datetime\": \"2013-01-01T14:00:00\", \"temperature\": 37.8, \"city_Detroit\": 0, \"city_San Diego\": 0, \"city_San Francisco\": 1, \"city\": \"San Francisco\", \"day\": 1, \"month\": 1, \"year\": 2013, \"hour\": 14, \"day_of_week\": 1, \"pred\": 39.80625}, {\"datetime\": \"2013-01-01T14:00:00\", \"temperature\": 28.8, \"city_Detroit\": 1, \"city_San Diego\": 0, \"city_San Francisco\": 0, \"city\": \"Detroit\", \"day\": 1, \"month\": 1, \"year\": 2013, \"hour\": 14, \"day_of_week\": 1, \"pred\": 29.35}, {\"datetime\": \"2013-01-01T15:00:00\", \"temperature\": 29.9, \"city_Detroit\": 1, \"city_San Diego\": 0, \"city_San Francisco\": 0, \"city\": \"Detroit\", \"day\": 1, \"month\": 1, \"year\": 2013, \"hour\": 15, \"day_of_week\": 1, \"pred\": 29.35}, {\"datetime\": \"2013-01-01T15:00:00\", \"temperature\": 39.0, \"city_Detroit\": 0, \"city_San Diego\": 1, \"city_San Francisco\": 0, \"city\": \"San Diego\", \"day\": 1, \"month\": 1, \"year\": 2013, \"hour\": 15, \"day_of_week\": 1, \"pred\": 42.030000000000015}, {\"datetime\": \"2013-01-01T15:00:00\", \"temperature\": 37.9, \"city_Detroit\": 0, \"city_San Diego\": 0, \"city_San Francisco\": 1, \"city\": \"San Francisco\", \"day\": 1, \"month\": 1, \"year\": 2013, \"hour\": 15, \"day_of_week\": 1, \"pred\": 39.80625}, {\"datetime\": \"2013-01-01T16:00:00\", \"temperature\": 37.1, \"city_Detroit\": 0, \"city_San Diego\": 0, \"city_San Francisco\": 1, \"city\": \"San Francisco\", \"day\": 1, \"month\": 1, \"year\": 2013, \"hour\": 16, \"day_of_week\": 1, \"pred\": 39.80625}, {\"datetime\": \"2013-01-01T16:00:00\", \"temperature\": 31.9, \"city_Detroit\": 1, \"city_San Diego\": 0, \"city_San Francisco\": 0, \"city\": \"Detroit\", \"day\": 1, \"month\": 1, \"year\": 2013, \"hour\": 16, \"day_of_week\": 1, \"pred\": 31.9}, {\"datetime\": \"2013-01-01T16:00:00\", \"temperature\": 41.8, \"city_Detroit\": 0, \"city_San Diego\": 1, \"city_San Francisco\": 0, \"city\": \"San Diego\", \"day\": 1, \"month\": 1, \"year\": 2013, \"hour\": 16, \"day_of_week\": 1, \"pred\": 46.14}, {\"datetime\": \"2013-01-01T17:00:00\", \"temperature\": 42.7, \"city_Detroit\": 0, \"city_San Diego\": 0, \"city_San Francisco\": 1, \"city\": \"San Francisco\", \"day\": 1, \"month\": 1, \"year\": 2013, \"hour\": 17, \"day_of_week\": 1, \"pred\": 43.5}, {\"datetime\": \"2013-01-01T17:00:00\", \"temperature\": 32.9, \"city_Detroit\": 1, \"city_San Diego\": 0, \"city_San Francisco\": 0, \"city\": \"Detroit\", \"day\": 1, \"month\": 1, \"year\": 2013, \"hour\": 17, \"day_of_week\": 1, \"pred\": 32.9}, {\"datetime\": \"2013-01-01T17:00:00\", \"temperature\": 48.2, \"city_Detroit\": 0, \"city_San Diego\": 1, \"city_San Francisco\": 0, \"city\": \"San Diego\", \"day\": 1, \"month\": 1, \"year\": 2013, \"hour\": 17, \"day_of_week\": 1, \"pred\": 48.2}, {\"datetime\": \"2013-01-01T18:00:00\", \"temperature\": 47.3, \"city_Detroit\": 0, \"city_San Diego\": 0, \"city_San Francisco\": 1, \"city\": \"San Francisco\", \"day\": 1, \"month\": 1, \"year\": 2013, \"hour\": 18, \"day_of_week\": 1, \"pred\": 47.3}, {\"datetime\": \"2013-01-01T18:00:00\", \"temperature\": 34.0, \"city_Detroit\": 1, \"city_San Diego\": 0, \"city_San Francisco\": 0, \"city\": \"Detroit\", \"day\": 1, \"month\": 1, \"year\": 2013, \"hour\": 18, \"day_of_week\": 1, \"pred\": 34.0}, {\"datetime\": \"2013-01-01T18:00:00\", \"temperature\": 51.2, \"city_Detroit\": 0, \"city_San Diego\": 1, \"city_San Francisco\": 0, \"city\": \"San Diego\", \"day\": 1, \"month\": 1, \"year\": 2013, \"hour\": 18, \"day_of_week\": 1, \"pred\": 51.2}, {\"datetime\": \"2013-01-01T19:00:00\", \"temperature\": 48.6, \"city_Detroit\": 0, \"city_San Diego\": 0, \"city_San Francisco\": 1, \"city\": \"San Francisco\", \"day\": 1, \"month\": 1, \"year\": 2013, \"hour\": 19, \"day_of_week\": 1, \"pred\": 48.3}, {\"datetime\": \"2013-01-01T19:00:00\", \"temperature\": 34.2, \"city_Detroit\": 1, \"city_San Diego\": 0, \"city_San Francisco\": 0, \"city\": \"Detroit\", \"day\": 1, \"month\": 1, \"year\": 2013, \"hour\": 19, \"day_of_week\": 1, \"pred\": 34.2}, {\"datetime\": \"2013-01-01T19:00:00\", \"temperature\": 54.8, \"city_Detroit\": 0, \"city_San Diego\": 1, \"city_San Francisco\": 0, \"city\": \"San Diego\", \"day\": 1, \"month\": 1, \"year\": 2013, \"hour\": 19, \"day_of_week\": 1, \"pred\": 56.720000000000006}, {\"datetime\": \"2013-01-01T20:00:00\", \"temperature\": 49.6, \"city_Detroit\": 0, \"city_San Diego\": 0, \"city_San Francisco\": 1, \"city\": \"San Francisco\", \"day\": 1, \"month\": 1, \"year\": 2013, \"hour\": 20, \"day_of_week\": 1, \"pred\": 49.6}, {\"datetime\": \"2013-01-01T20:00:00\", \"temperature\": 56.3, \"city_Detroit\": 0, \"city_San Diego\": 1, \"city_San Francisco\": 0, \"city\": \"San Diego\", \"day\": 1, \"month\": 1, \"year\": 2013, \"hour\": 20, \"day_of_week\": 1, \"pred\": 56.720000000000006}, {\"datetime\": \"2013-01-01T20:00:00\", \"temperature\": 34.5, \"city_Detroit\": 1, \"city_San Diego\": 0, \"city_San Francisco\": 0, \"city\": \"Detroit\", \"day\": 1, \"month\": 1, \"year\": 2013, \"hour\": 20, \"day_of_week\": 1, \"pred\": 34.5}, {\"datetime\": \"2013-01-01T21:00:00\", \"temperature\": 50.2, \"city_Detroit\": 0, \"city_San Diego\": 0, \"city_San Francisco\": 1, \"city\": \"San Francisco\", \"day\": 1, \"month\": 1, \"year\": 2013, \"hour\": 21, \"day_of_week\": 1, \"pred\": 50.2}, {\"datetime\": \"2013-01-01T21:00:00\", \"temperature\": 57.7, \"city_Detroit\": 0, \"city_San Diego\": 1, \"city_San Francisco\": 0, \"city\": \"San Diego\", \"day\": 1, \"month\": 1, \"year\": 2013, \"hour\": 21, \"day_of_week\": 1, \"pred\": 56.720000000000006}, {\"datetime\": \"2013-01-01T21:00:00\", \"temperature\": 35.0, \"city_Detroit\": 1, \"city_San Diego\": 0, \"city_San Francisco\": 0, \"city\": \"Detroit\", \"day\": 1, \"month\": 1, \"year\": 2013, \"hour\": 21, \"day_of_week\": 1, \"pred\": 34.9}, {\"datetime\": \"2013-01-01T22:00:00\", \"temperature\": 57.6, \"city_Detroit\": 0, \"city_San Diego\": 1, \"city_San Francisco\": 0, \"city\": \"San Diego\", \"day\": 1, \"month\": 1, \"year\": 2013, \"hour\": 22, \"day_of_week\": 1, \"pred\": 56.720000000000006}, {\"datetime\": \"2013-01-01T22:00:00\", \"temperature\": 34.8, \"city_Detroit\": 1, \"city_San Diego\": 0, \"city_San Francisco\": 0, \"city\": \"Detroit\", \"day\": 1, \"month\": 1, \"year\": 2013, \"hour\": 22, \"day_of_week\": 1, \"pred\": 34.9}, {\"datetime\": \"2013-01-01T22:00:00\", \"temperature\": 50.6, \"city_Detroit\": 0, \"city_San Diego\": 0, \"city_San Francisco\": 1, \"city\": \"San Francisco\", \"day\": 1, \"month\": 1, \"year\": 2013, \"hour\": 22, \"day_of_week\": 1, \"pred\": 51.300000000000004}, {\"datetime\": \"2013-01-01T23:00:00\", \"temperature\": 34.4, \"city_Detroit\": 1, \"city_San Diego\": 0, \"city_San Francisco\": 0, \"city\": \"Detroit\", \"day\": 1, \"month\": 1, \"year\": 2013, \"hour\": 23, \"day_of_week\": 1, \"pred\": 34.4}, {\"datetime\": \"2013-01-01T23:00:00\", \"temperature\": 51.1, \"city_Detroit\": 0, \"city_San Diego\": 0, \"city_San Francisco\": 1, \"city\": \"San Francisco\", \"day\": 1, \"month\": 1, \"year\": 2013, \"hour\": 23, \"day_of_week\": 1, \"pred\": 51.300000000000004}, {\"datetime\": \"2013-01-01T23:00:00\", \"temperature\": 57.2, \"city_Detroit\": 0, \"city_San Diego\": 1, \"city_San Francisco\": 0, \"city\": \"San Diego\", \"day\": 1, \"month\": 1, \"year\": 2013, \"hour\": 23, \"day_of_week\": 1, \"pred\": 56.720000000000006}, {\"datetime\": \"2013-01-02T00:00:00\", \"temperature\": 34.8, \"city_Detroit\": 1, \"city_San Diego\": 0, \"city_San Francisco\": 0, \"city\": \"Detroit\", \"day\": 2, \"month\": 1, \"year\": 2013, \"hour\": 0, \"day_of_week\": 2, \"pred\": 34.266666666666666}, {\"datetime\": \"2013-01-02T00:00:00\", \"temperature\": 54.8, \"city_Detroit\": 0, \"city_San Diego\": 1, \"city_San Francisco\": 0, \"city\": \"San Diego\", \"day\": 2, \"month\": 1, \"year\": 2013, \"hour\": 0, \"day_of_week\": 2, \"pred\": 54.8}, {\"datetime\": \"2013-01-02T00:00:00\", \"temperature\": 50.4, \"city_Detroit\": 0, \"city_San Diego\": 0, \"city_San Francisco\": 1, \"city\": \"San Francisco\", \"day\": 2, \"month\": 1, \"year\": 2013, \"hour\": 0, \"day_of_week\": 2, \"pred\": 51.7}, {\"datetime\": \"2013-01-02T01:00:00\", \"temperature\": 48.4, \"city_Detroit\": 0, \"city_San Diego\": 0, \"city_San Francisco\": 1, \"city\": \"San Francisco\", \"day\": 2, \"month\": 1, \"year\": 2013, \"hour\": 1, \"day_of_week\": 2, \"pred\": 48.980000000000004}, {\"datetime\": \"2013-01-02T01:00:00\", \"temperature\": 34.2, \"city_Detroit\": 1, \"city_San Diego\": 0, \"city_San Francisco\": 0, \"city\": \"Detroit\", \"day\": 2, \"month\": 1, \"year\": 2013, \"hour\": 1, \"day_of_week\": 2, \"pred\": 34.266666666666666}, {\"datetime\": \"2013-01-02T01:00:00\", \"temperature\": 52.2, \"city_Detroit\": 0, \"city_San Diego\": 1, \"city_San Francisco\": 0, \"city\": \"San Diego\", \"day\": 2, \"month\": 1, \"year\": 2013, \"hour\": 1, \"day_of_week\": 2, \"pred\": 52.2}, {\"datetime\": \"2013-01-02T02:00:00\", \"temperature\": 33.8, \"city_Detroit\": 1, \"city_San Diego\": 0, \"city_San Francisco\": 0, \"city\": \"Detroit\", \"day\": 2, \"month\": 1, \"year\": 2013, \"hour\": 2, \"day_of_week\": 2, \"pred\": 34.266666666666666}, {\"datetime\": \"2013-01-02T02:00:00\", \"temperature\": 47.1, \"city_Detroit\": 0, \"city_San Diego\": 0, \"city_San Francisco\": 1, \"city\": \"San Francisco\", \"day\": 2, \"month\": 1, \"year\": 2013, \"hour\": 2, \"day_of_week\": 2, \"pred\": 46.925}, {\"datetime\": \"2013-01-02T02:00:00\", \"temperature\": 50.2, \"city_Detroit\": 0, \"city_San Diego\": 1, \"city_San Francisco\": 0, \"city\": \"San Diego\", \"day\": 2, \"month\": 1, \"year\": 2013, \"hour\": 2, \"day_of_week\": 2, \"pred\": 50.2}, {\"datetime\": \"2013-01-02T03:00:00\", \"temperature\": 48.0, \"city_Detroit\": 0, \"city_San Diego\": 1, \"city_San Francisco\": 0, \"city\": \"San Diego\", \"day\": 2, \"month\": 1, \"year\": 2013, \"hour\": 3, \"day_of_week\": 2, \"pred\": 48.0}, {\"datetime\": \"2013-01-02T03:00:00\", \"temperature\": 32.6, \"city_Detroit\": 1, \"city_San Diego\": 0, \"city_San Francisco\": 0, \"city\": \"Detroit\", \"day\": 2, \"month\": 1, \"year\": 2013, \"hour\": 3, \"day_of_week\": 2, \"pred\": 32.6}, {\"datetime\": \"2013-01-02T03:00:00\", \"temperature\": 46.1, \"city_Detroit\": 0, \"city_San Diego\": 0, \"city_San Francisco\": 1, \"city\": \"San Francisco\", \"day\": 2, \"month\": 1, \"year\": 2013, \"hour\": 3, \"day_of_week\": 2, \"pred\": 44.95}, {\"datetime\": \"2013-01-02T04:00:00\", \"temperature\": 31.6, \"city_Detroit\": 1, \"city_San Diego\": 0, \"city_San Francisco\": 0, \"city\": \"Detroit\", \"day\": 2, \"month\": 1, \"year\": 2013, \"hour\": 4, \"day_of_week\": 2, \"pred\": 30.833333333333332}, {\"datetime\": \"2013-01-02T04:00:00\", \"temperature\": 45.7, \"city_Detroit\": 0, \"city_San Diego\": 0, \"city_San Francisco\": 1, \"city\": \"San Francisco\", \"day\": 2, \"month\": 1, \"year\": 2013, \"hour\": 4, \"day_of_week\": 2, \"pred\": 45.0}, {\"datetime\": \"2013-01-02T04:00:00\", \"temperature\": 46.8, \"city_Detroit\": 0, \"city_San Diego\": 1, \"city_San Francisco\": 0, \"city\": \"San Diego\", \"day\": 2, \"month\": 1, \"year\": 2013, \"hour\": 4, \"day_of_week\": 2, \"pred\": 45.375}, {\"datetime\": \"2013-01-02T05:00:00\", \"temperature\": 30.6, \"city_Detroit\": 1, \"city_San Diego\": 0, \"city_San Francisco\": 0, \"city\": \"Detroit\", \"day\": 2, \"month\": 1, \"year\": 2013, \"hour\": 5, \"day_of_week\": 2, \"pred\": 30.833333333333332}, {\"datetime\": \"2013-01-02T05:00:00\", \"temperature\": 43.6, \"city_Detroit\": 0, \"city_San Diego\": 0, \"city_San Francisco\": 1, \"city\": \"San Francisco\", \"day\": 2, \"month\": 1, \"year\": 2013, \"hour\": 5, \"day_of_week\": 2, \"pred\": 42.4}, {\"datetime\": \"2013-01-02T05:00:00\", \"temperature\": 45.3, \"city_Detroit\": 0, \"city_San Diego\": 1, \"city_San Francisco\": 0, \"city\": \"San Diego\", \"day\": 2, \"month\": 1, \"year\": 2013, \"hour\": 5, \"day_of_week\": 2, \"pred\": 45.375}, {\"datetime\": \"2013-01-02T06:00:00\", \"temperature\": 42.3, \"city_Detroit\": 0, \"city_San Diego\": 0, \"city_San Francisco\": 1, \"city\": \"San Francisco\", \"day\": 2, \"month\": 1, \"year\": 2013, \"hour\": 6, \"day_of_week\": 2, \"pred\": 42.4}, {\"datetime\": \"2013-01-02T06:00:00\", \"temperature\": 30.3, \"city_Detroit\": 1, \"city_San Diego\": 0, \"city_San Francisco\": 0, \"city\": \"Detroit\", \"day\": 2, \"month\": 1, \"year\": 2013, \"hour\": 6, \"day_of_week\": 2, \"pred\": 30.833333333333332}, {\"datetime\": \"2013-01-02T06:00:00\", \"temperature\": 44.5, \"city_Detroit\": 0, \"city_San Diego\": 1, \"city_San Francisco\": 0, \"city\": \"San Diego\", \"day\": 2, \"month\": 1, \"year\": 2013, \"hour\": 6, \"day_of_week\": 2, \"pred\": 42.030000000000015}, {\"datetime\": \"2013-01-02T07:00:00\", \"temperature\": 44.1, \"city_Detroit\": 0, \"city_San Diego\": 1, \"city_San Francisco\": 0, \"city\": \"San Diego\", \"day\": 2, \"month\": 1, \"year\": 2013, \"hour\": 7, \"day_of_week\": 2, \"pred\": 42.030000000000015}, {\"datetime\": \"2013-01-02T07:00:00\", \"temperature\": 41.8, \"city_Detroit\": 0, \"city_San Diego\": 0, \"city_San Francisco\": 1, \"city\": \"San Francisco\", \"day\": 2, \"month\": 1, \"year\": 2013, \"hour\": 7, \"day_of_week\": 2, \"pred\": 42.4}, {\"datetime\": \"2013-01-02T07:00:00\", \"temperature\": 29.6, \"city_Detroit\": 1, \"city_San Diego\": 0, \"city_San Francisco\": 0, \"city\": \"Detroit\", \"day\": 2, \"month\": 1, \"year\": 2013, \"hour\": 7, \"day_of_week\": 2, \"pred\": 29.450000000000003}, {\"datetime\": \"2013-01-02T08:00:00\", \"temperature\": 44.0, \"city_Detroit\": 0, \"city_San Diego\": 1, \"city_San Francisco\": 0, \"city\": \"San Diego\", \"day\": 2, \"month\": 1, \"year\": 2013, \"hour\": 8, \"day_of_week\": 2, \"pred\": 42.030000000000015}, {\"datetime\": \"2013-01-02T08:00:00\", \"temperature\": 41.4, \"city_Detroit\": 0, \"city_San Diego\": 0, \"city_San Francisco\": 1, \"city\": \"San Francisco\", \"day\": 2, \"month\": 1, \"year\": 2013, \"hour\": 8, \"day_of_week\": 2, \"pred\": 42.4}, {\"datetime\": \"2013-01-02T08:00:00\", \"temperature\": 29.3, \"city_Detroit\": 1, \"city_San Diego\": 0, \"city_San Francisco\": 0, \"city\": \"Detroit\", \"day\": 2, \"month\": 1, \"year\": 2013, \"hour\": 8, \"day_of_week\": 2, \"pred\": 29.450000000000003}, {\"datetime\": \"2013-01-02T09:00:00\", \"temperature\": 43.8, \"city_Detroit\": 0, \"city_San Diego\": 1, \"city_San Francisco\": 0, \"city\": \"San Diego\", \"day\": 2, \"month\": 1, \"year\": 2013, \"hour\": 9, \"day_of_week\": 2, \"pred\": 42.030000000000015}, {\"datetime\": \"2013-01-02T09:00:00\", \"temperature\": 40.5, \"city_Detroit\": 0, \"city_San Diego\": 0, \"city_San Francisco\": 1, \"city\": \"San Francisco\", \"day\": 2, \"month\": 1, \"year\": 2013, \"hour\": 9, \"day_of_week\": 2, \"pred\": 39.80625}, {\"datetime\": \"2013-01-02T09:00:00\", \"temperature\": 27.9, \"city_Detroit\": 1, \"city_San Diego\": 0, \"city_San Francisco\": 0, \"city\": \"Detroit\", \"day\": 2, \"month\": 1, \"year\": 2013, \"hour\": 9, \"day_of_week\": 2, \"pred\": 27.6}, {\"datetime\": \"2013-01-02T10:00:00\", \"temperature\": 40.3, \"city_Detroit\": 0, \"city_San Diego\": 0, \"city_San Francisco\": 1, \"city\": \"San Francisco\", \"day\": 2, \"month\": 1, \"year\": 2013, \"hour\": 10, \"day_of_week\": 2, \"pred\": 39.80625}, {\"datetime\": \"2013-01-02T10:00:00\", \"temperature\": 27.3, \"city_Detroit\": 1, \"city_San Diego\": 0, \"city_San Francisco\": 0, \"city\": \"Detroit\", \"day\": 2, \"month\": 1, \"year\": 2013, \"hour\": 10, \"day_of_week\": 2, \"pred\": 27.6}, {\"datetime\": \"2013-01-02T10:00:00\", \"temperature\": 44.0, \"city_Detroit\": 0, \"city_San Diego\": 1, \"city_San Francisco\": 0, \"city\": \"San Diego\", \"day\": 2, \"month\": 1, \"year\": 2013, \"hour\": 10, \"day_of_week\": 2, \"pred\": 42.030000000000015}, {\"datetime\": \"2013-01-02T11:00:00\", \"temperature\": 43.5, \"city_Detroit\": 0, \"city_San Diego\": 1, \"city_San Francisco\": 0, \"city\": \"San Diego\", \"day\": 2, \"month\": 1, \"year\": 2013, \"hour\": 11, \"day_of_week\": 2, \"pred\": 42.030000000000015}, {\"datetime\": \"2013-01-02T11:00:00\", \"temperature\": 26.5, \"city_Detroit\": 1, \"city_San Diego\": 0, \"city_San Francisco\": 0, \"city\": \"Detroit\", \"day\": 2, \"month\": 1, \"year\": 2013, \"hour\": 11, \"day_of_week\": 2, \"pred\": 26.5}, {\"datetime\": \"2013-01-02T11:00:00\", \"temperature\": 40.3, \"city_Detroit\": 0, \"city_San Diego\": 0, \"city_San Francisco\": 1, \"city\": \"San Francisco\", \"day\": 2, \"month\": 1, \"year\": 2013, \"hour\": 11, \"day_of_week\": 2, \"pred\": 39.80625}, {\"datetime\": \"2013-01-02T12:00:00\", \"temperature\": 25.5, \"city_Detroit\": 1, \"city_San Diego\": 0, \"city_San Francisco\": 0, \"city\": \"Detroit\", \"day\": 2, \"month\": 1, \"year\": 2013, \"hour\": 12, \"day_of_week\": 2, \"pred\": 25.5}, {\"datetime\": \"2013-01-02T12:00:00\", \"temperature\": 43.2, \"city_Detroit\": 0, \"city_San Diego\": 1, \"city_San Francisco\": 0, \"city\": \"San Diego\", \"day\": 2, \"month\": 1, \"year\": 2013, \"hour\": 12, \"day_of_week\": 2, \"pred\": 42.030000000000015}, {\"datetime\": \"2013-01-02T12:00:00\", \"temperature\": 41.4, \"city_Detroit\": 0, \"city_San Diego\": 0, \"city_San Francisco\": 1, \"city\": \"San Francisco\", \"day\": 2, \"month\": 1, \"year\": 2013, \"hour\": 12, \"day_of_week\": 2, \"pred\": 39.80625}, {\"datetime\": \"2013-01-02T13:00:00\", \"temperature\": 42.9, \"city_Detroit\": 0, \"city_San Diego\": 1, \"city_San Francisco\": 0, \"city\": \"San Diego\", \"day\": 2, \"month\": 1, \"year\": 2013, \"hour\": 13, \"day_of_week\": 2, \"pred\": 42.030000000000015}, {\"datetime\": \"2013-01-02T13:00:00\", \"temperature\": 24.4, \"city_Detroit\": 1, \"city_San Diego\": 0, \"city_San Francisco\": 0, \"city\": \"Detroit\", \"day\": 2, \"month\": 1, \"year\": 2013, \"hour\": 13, \"day_of_week\": 2, \"pred\": 24.575000000000003}, {\"datetime\": \"2013-01-02T13:00:00\", \"temperature\": 41.4, \"city_Detroit\": 0, \"city_San Diego\": 0, \"city_San Francisco\": 1, \"city\": \"San Francisco\", \"day\": 2, \"month\": 1, \"year\": 2013, \"hour\": 13, \"day_of_week\": 2, \"pred\": 39.80625}, {\"datetime\": \"2013-01-02T14:00:00\", \"temperature\": 41.7, \"city_Detroit\": 0, \"city_San Diego\": 0, \"city_San Francisco\": 1, \"city\": \"San Francisco\", \"day\": 2, \"month\": 1, \"year\": 2013, \"hour\": 14, \"day_of_week\": 2, \"pred\": 39.80625}, {\"datetime\": \"2013-01-02T14:00:00\", \"temperature\": 24.3, \"city_Detroit\": 1, \"city_San Diego\": 0, \"city_San Francisco\": 0, \"city\": \"Detroit\", \"day\": 2, \"month\": 1, \"year\": 2013, \"hour\": 14, \"day_of_week\": 2, \"pred\": 24.575000000000003}, {\"datetime\": \"2013-01-02T14:00:00\", \"temperature\": 42.1, \"city_Detroit\": 0, \"city_San Diego\": 1, \"city_San Francisco\": 0, \"city\": \"San Diego\", \"day\": 2, \"month\": 1, \"year\": 2013, \"hour\": 14, \"day_of_week\": 2, \"pred\": 42.030000000000015}, {\"datetime\": \"2013-01-02T15:00:00\", \"temperature\": 41.5, \"city_Detroit\": 0, \"city_San Diego\": 0, \"city_San Francisco\": 1, \"city\": \"San Francisco\", \"day\": 2, \"month\": 1, \"year\": 2013, \"hour\": 15, \"day_of_week\": 2, \"pred\": 39.80625}, {\"datetime\": \"2013-01-02T15:00:00\", \"temperature\": 25.0, \"city_Detroit\": 1, \"city_San Diego\": 0, \"city_San Francisco\": 0, \"city\": \"Detroit\", \"day\": 2, \"month\": 1, \"year\": 2013, \"hour\": 15, \"day_of_week\": 2, \"pred\": 24.575000000000003}, {\"datetime\": \"2013-01-02T15:00:00\", \"temperature\": 42.8, \"city_Detroit\": 0, \"city_San Diego\": 1, \"city_San Francisco\": 0, \"city\": \"San Diego\", \"day\": 2, \"month\": 1, \"year\": 2013, \"hour\": 15, \"day_of_week\": 2, \"pred\": 42.030000000000015}, {\"datetime\": \"2013-01-02T16:00:00\", \"temperature\": 24.6, \"city_Detroit\": 1, \"city_San Diego\": 0, \"city_San Francisco\": 0, \"city\": \"Detroit\", \"day\": 2, \"month\": 1, \"year\": 2013, \"hour\": 16, \"day_of_week\": 2, \"pred\": 24.575000000000003}, {\"datetime\": \"2013-01-02T16:00:00\", \"temperature\": 46.7, \"city_Detroit\": 0, \"city_San Diego\": 1, \"city_San Francisco\": 0, \"city\": \"San Diego\", \"day\": 2, \"month\": 1, \"year\": 2013, \"hour\": 16, \"day_of_week\": 2, \"pred\": 46.14}, {\"datetime\": \"2013-01-02T16:00:00\", \"temperature\": 41.5, \"city_Detroit\": 0, \"city_San Diego\": 0, \"city_San Francisco\": 1, \"city\": \"San Francisco\", \"day\": 2, \"month\": 1, \"year\": 2013, \"hour\": 16, \"day_of_week\": 2, \"pred\": 39.80625}, {\"datetime\": \"2013-01-02T17:00:00\", \"temperature\": 50.6, \"city_Detroit\": 0, \"city_San Diego\": 1, \"city_San Francisco\": 0, \"city\": \"San Diego\", \"day\": 2, \"month\": 1, \"year\": 2013, \"hour\": 17, \"day_of_week\": 2, \"pred\": 50.6}, {\"datetime\": \"2013-01-02T17:00:00\", \"temperature\": 44.3, \"city_Detroit\": 0, \"city_San Diego\": 0, \"city_San Francisco\": 1, \"city\": \"San Francisco\", \"day\": 2, \"month\": 1, \"year\": 2013, \"hour\": 17, \"day_of_week\": 2, \"pred\": 43.5}, {\"datetime\": \"2013-01-02T17:00:00\", \"temperature\": 24.1, \"city_Detroit\": 1, \"city_San Diego\": 0, \"city_San Francisco\": 0, \"city\": \"Detroit\", \"day\": 2, \"month\": 1, \"year\": 2013, \"hour\": 17, \"day_of_week\": 2, \"pred\": 25.359999999999996}, {\"datetime\": \"2013-01-02T18:00:00\", \"temperature\": 45.7, \"city_Detroit\": 0, \"city_San Diego\": 0, \"city_San Francisco\": 1, \"city\": \"San Francisco\", \"day\": 2, \"month\": 1, \"year\": 2013, \"hour\": 18, \"day_of_week\": 2, \"pred\": 46.35}, {\"datetime\": \"2013-01-02T18:00:00\", \"temperature\": 53.9, \"city_Detroit\": 0, \"city_San Diego\": 1, \"city_San Francisco\": 0, \"city\": \"San Diego\", \"day\": 2, \"month\": 1, \"year\": 2013, \"hour\": 18, \"day_of_week\": 2, \"pred\": 53.9}, {\"datetime\": \"2013-01-02T18:00:00\", \"temperature\": 25.7, \"city_Detroit\": 1, \"city_San Diego\": 0, \"city_San Francisco\": 0, \"city\": \"Detroit\", \"day\": 2, \"month\": 1, \"year\": 2013, \"hour\": 18, \"day_of_week\": 2, \"pred\": 25.359999999999996}, {\"datetime\": \"2013-01-02T19:00:00\", \"temperature\": 57.1, \"city_Detroit\": 0, \"city_San Diego\": 1, \"city_San Francisco\": 0, \"city\": \"San Diego\", \"day\": 2, \"month\": 1, \"year\": 2013, \"hour\": 19, \"day_of_week\": 2, \"pred\": 58.4}, {\"datetime\": \"2013-01-02T19:00:00\", \"temperature\": 48.0, \"city_Detroit\": 0, \"city_San Diego\": 0, \"city_San Francisco\": 1, \"city\": \"San Francisco\", \"day\": 2, \"month\": 1, \"year\": 2013, \"hour\": 19, \"day_of_week\": 2, \"pred\": 48.3}, {\"datetime\": \"2013-01-02T19:00:00\", \"temperature\": 25.5, \"city_Detroit\": 1, \"city_San Diego\": 0, \"city_San Francisco\": 0, \"city\": \"Detroit\", \"day\": 2, \"month\": 1, \"year\": 2013, \"hour\": 19, \"day_of_week\": 2, \"pred\": 25.359999999999996}, {\"datetime\": \"2013-01-02T20:00:00\", \"temperature\": 58.6, \"city_Detroit\": 0, \"city_San Diego\": 1, \"city_San Francisco\": 0, \"city\": \"San Diego\", \"day\": 2, \"month\": 1, \"year\": 2013, \"hour\": 20, \"day_of_week\": 2, \"pred\": 58.4}, {\"datetime\": \"2013-01-02T20:00:00\", \"temperature\": 49.2, \"city_Detroit\": 0, \"city_San Diego\": 0, \"city_San Francisco\": 1, \"city\": \"San Francisco\", \"day\": 2, \"month\": 1, \"year\": 2013, \"hour\": 20, \"day_of_week\": 2, \"pred\": 49.2}, {\"datetime\": \"2013-01-02T20:00:00\", \"temperature\": 25.9, \"city_Detroit\": 1, \"city_San Diego\": 0, \"city_San Francisco\": 0, \"city\": \"Detroit\", \"day\": 2, \"month\": 1, \"year\": 2013, \"hour\": 20, \"day_of_week\": 2, \"pred\": 25.359999999999996}, {\"datetime\": \"2013-01-02T21:00:00\", \"temperature\": 50.2, \"city_Detroit\": 0, \"city_San Diego\": 0, \"city_San Francisco\": 1, \"city\": \"San Francisco\", \"day\": 2, \"month\": 1, \"year\": 2013, \"hour\": 21, \"day_of_week\": 2, \"pred\": 50.2}, {\"datetime\": \"2013-01-02T21:00:00\", \"temperature\": 59.7, \"city_Detroit\": 0, \"city_San Diego\": 1, \"city_San Francisco\": 0, \"city\": \"San Diego\", \"day\": 2, \"month\": 1, \"year\": 2013, \"hour\": 21, \"day_of_week\": 2, \"pred\": 58.4}, {\"datetime\": \"2013-01-02T21:00:00\", \"temperature\": 25.6, \"city_Detroit\": 1, \"city_San Diego\": 0, \"city_San Francisco\": 0, \"city\": \"Detroit\", \"day\": 2, \"month\": 1, \"year\": 2013, \"hour\": 21, \"day_of_week\": 2, \"pred\": 25.359999999999996}, {\"datetime\": \"2013-01-02T22:00:00\", \"temperature\": 51.7, \"city_Detroit\": 0, \"city_San Diego\": 0, \"city_San Francisco\": 1, \"city\": \"San Francisco\", \"day\": 2, \"month\": 1, \"year\": 2013, \"hour\": 22, \"day_of_week\": 2, \"pred\": 51.300000000000004}, {\"datetime\": \"2013-01-02T22:00:00\", \"temperature\": 58.7, \"city_Detroit\": 0, \"city_San Diego\": 1, \"city_San Francisco\": 0, \"city\": \"San Diego\", \"day\": 2, \"month\": 1, \"year\": 2013, \"hour\": 22, \"day_of_week\": 2, \"pred\": 58.4}, {\"datetime\": \"2013-01-02T22:00:00\", \"temperature\": 22.8, \"city_Detroit\": 1, \"city_San Diego\": 0, \"city_San Francisco\": 0, \"city\": \"Detroit\", \"day\": 2, \"month\": 1, \"year\": 2013, \"hour\": 22, \"day_of_week\": 2, \"pred\": 22.25}, {\"datetime\": \"2013-01-02T23:00:00\", \"temperature\": 51.8, \"city_Detroit\": 0, \"city_San Diego\": 0, \"city_San Francisco\": 1, \"city\": \"San Francisco\", \"day\": 2, \"month\": 1, \"year\": 2013, \"hour\": 23, \"day_of_week\": 2, \"pred\": 51.300000000000004}, {\"datetime\": \"2013-01-02T23:00:00\", \"temperature\": 21.7, \"city_Detroit\": 1, \"city_San Diego\": 0, \"city_San Francisco\": 0, \"city\": \"Detroit\", \"day\": 2, \"month\": 1, \"year\": 2013, \"hour\": 23, \"day_of_week\": 2, \"pred\": 22.25}, {\"datetime\": \"2013-01-02T23:00:00\", \"temperature\": 57.9, \"city_Detroit\": 0, \"city_San Diego\": 1, \"city_San Francisco\": 0, \"city\": \"San Diego\", \"day\": 2, \"month\": 1, \"year\": 2013, \"hour\": 23, \"day_of_week\": 2, \"pred\": 58.4}, {\"datetime\": \"2013-01-03T00:00:00\", \"temperature\": 20.7, \"city_Detroit\": 1, \"city_San Diego\": 0, \"city_San Francisco\": 0, \"city\": \"Detroit\", \"day\": 3, \"month\": 1, \"year\": 2013, \"hour\": 0, \"day_of_week\": 3, \"pred\": 20.7}, {\"datetime\": \"2013-01-03T00:00:00\", \"temperature\": 51.5, \"city_Detroit\": 0, \"city_San Diego\": 0, \"city_San Francisco\": 1, \"city\": \"San Francisco\", \"day\": 3, \"month\": 1, \"year\": 2013, \"hour\": 0, \"day_of_week\": 3, \"pred\": 51.7}, {\"datetime\": \"2013-01-03T00:00:00\", \"temperature\": 56.5, \"city_Detroit\": 0, \"city_San Diego\": 1, \"city_San Francisco\": 0, \"city\": \"San Diego\", \"day\": 3, \"month\": 1, \"year\": 2013, \"hour\": 0, \"day_of_week\": 3, \"pred\": 56.5}, {\"datetime\": \"2013-01-03T01:00:00\", \"temperature\": 49.2, \"city_Detroit\": 0, \"city_San Diego\": 0, \"city_San Francisco\": 1, \"city\": \"San Francisco\", \"day\": 3, \"month\": 1, \"year\": 2013, \"hour\": 1, \"day_of_week\": 3, \"pred\": 48.980000000000004}, {\"datetime\": \"2013-01-03T01:00:00\", \"temperature\": 18.6, \"city_Detroit\": 1, \"city_San Diego\": 0, \"city_San Francisco\": 0, \"city\": \"Detroit\", \"day\": 3, \"month\": 1, \"year\": 2013, \"hour\": 1, \"day_of_week\": 3, \"pred\": 18.566666666666666}, {\"datetime\": \"2013-01-03T01:00:00\", \"temperature\": 54.6, \"city_Detroit\": 0, \"city_San Diego\": 1, \"city_San Francisco\": 0, \"city\": \"San Diego\", \"day\": 3, \"month\": 1, \"year\": 2013, \"hour\": 1, \"day_of_week\": 3, \"pred\": 54.6}, {\"datetime\": \"2013-01-03T02:00:00\", \"temperature\": 46.8, \"city_Detroit\": 0, \"city_San Diego\": 0, \"city_San Francisco\": 1, \"city\": \"San Francisco\", \"day\": 3, \"month\": 1, \"year\": 2013, \"hour\": 2, \"day_of_week\": 3, \"pred\": 46.925}, {\"datetime\": \"2013-01-03T02:00:00\", \"temperature\": 54.0, \"city_Detroit\": 0, \"city_San Diego\": 1, \"city_San Francisco\": 0, \"city\": \"San Diego\", \"day\": 3, \"month\": 1, \"year\": 2013, \"hour\": 2, \"day_of_week\": 3, \"pred\": 54.17999999999999}, {\"datetime\": \"2013-01-03T02:00:00\", \"temperature\": 18.1, \"city_Detroit\": 1, \"city_San Diego\": 0, \"city_San Francisco\": 0, \"city\": \"Detroit\", \"day\": 3, \"month\": 1, \"year\": 2013, \"hour\": 2, \"day_of_week\": 3, \"pred\": 18.566666666666666}, {\"datetime\": \"2013-01-03T03:00:00\", \"temperature\": 19.0, \"city_Detroit\": 1, \"city_San Diego\": 0, \"city_San Francisco\": 0, \"city\": \"Detroit\", \"day\": 3, \"month\": 1, \"year\": 2013, \"hour\": 3, \"day_of_week\": 3, \"pred\": 18.566666666666666}, {\"datetime\": \"2013-01-03T03:00:00\", \"temperature\": 44.2, \"city_Detroit\": 0, \"city_San Diego\": 0, \"city_San Francisco\": 1, \"city\": \"San Francisco\", \"day\": 3, \"month\": 1, \"year\": 2013, \"hour\": 3, \"day_of_week\": 3, \"pred\": 44.95}, {\"datetime\": \"2013-01-03T03:00:00\", \"temperature\": 53.4, \"city_Detroit\": 0, \"city_San Diego\": 1, \"city_San Francisco\": 0, \"city\": \"San Diego\", \"day\": 3, \"month\": 1, \"year\": 2013, \"hour\": 3, \"day_of_week\": 3, \"pred\": 53.4}, {\"datetime\": \"2013-01-03T04:00:00\", \"temperature\": 43.9, \"city_Detroit\": 0, \"city_San Diego\": 0, \"city_San Francisco\": 1, \"city\": \"San Francisco\", \"day\": 3, \"month\": 1, \"year\": 2013, \"hour\": 4, \"day_of_week\": 3, \"pred\": 43.36666666666667}, {\"datetime\": \"2013-01-03T04:00:00\", \"temperature\": 19.8, \"city_Detroit\": 1, \"city_San Diego\": 0, \"city_San Francisco\": 0, \"city\": \"Detroit\", \"day\": 3, \"month\": 1, \"year\": 2013, \"hour\": 4, \"day_of_week\": 3, \"pred\": 20.25}, {\"datetime\": \"2013-01-03T04:00:00\", \"temperature\": 52.7, \"city_Detroit\": 0, \"city_San Diego\": 1, \"city_San Francisco\": 0, \"city\": \"San Diego\", \"day\": 3, \"month\": 1, \"year\": 2013, \"hour\": 4, \"day_of_week\": 3, \"pred\": 50.25}, {\"datetime\": \"2013-01-03T05:00:00\", \"temperature\": 20.7, \"city_Detroit\": 1, \"city_San Diego\": 0, \"city_San Francisco\": 0, \"city\": \"Detroit\", \"day\": 3, \"month\": 1, \"year\": 2013, \"hour\": 5, \"day_of_week\": 3, \"pred\": 20.25}, {\"datetime\": \"2013-01-03T05:00:00\", \"temperature\": 51.7, \"city_Detroit\": 0, \"city_San Diego\": 1, \"city_San Francisco\": 0, \"city\": \"San Diego\", \"day\": 3, \"month\": 1, \"year\": 2013, \"hour\": 5, \"day_of_week\": 3, \"pred\": 50.25}, {\"datetime\": \"2013-01-03T05:00:00\", \"temperature\": 39.7, \"city_Detroit\": 0, \"city_San Diego\": 0, \"city_San Francisco\": 1, \"city\": \"San Francisco\", \"day\": 3, \"month\": 1, \"year\": 2013, \"hour\": 5, \"day_of_week\": 3, \"pred\": 40.916666666666664}, {\"datetime\": \"2013-01-03T06:00:00\", \"temperature\": 39.8, \"city_Detroit\": 0, \"city_San Diego\": 0, \"city_San Francisco\": 1, \"city\": \"San Francisco\", \"day\": 3, \"month\": 1, \"year\": 2013, \"hour\": 6, \"day_of_week\": 3, \"pred\": 40.916666666666664}, {\"datetime\": \"2013-01-03T06:00:00\", \"temperature\": 16.8, \"city_Detroit\": 1, \"city_San Diego\": 0, \"city_San Francisco\": 0, \"city\": \"Detroit\", \"day\": 3, \"month\": 1, \"year\": 2013, \"hour\": 6, \"day_of_week\": 3, \"pred\": 16.8}, {\"datetime\": \"2013-01-03T06:00:00\", \"temperature\": 49.1, \"city_Detroit\": 0, \"city_San Diego\": 1, \"city_San Francisco\": 0, \"city\": \"San Diego\", \"day\": 3, \"month\": 1, \"year\": 2013, \"hour\": 6, \"day_of_week\": 3, \"pred\": 42.030000000000015}, {\"datetime\": \"2013-01-03T07:00:00\", \"temperature\": 46.4, \"city_Detroit\": 0, \"city_San Diego\": 1, \"city_San Francisco\": 0, \"city\": \"San Diego\", \"day\": 3, \"month\": 1, \"year\": 2013, \"hour\": 7, \"day_of_week\": 3, \"pred\": 42.030000000000015}, {\"datetime\": \"2013-01-03T07:00:00\", \"temperature\": 40.0, \"city_Detroit\": 0, \"city_San Diego\": 0, \"city_San Francisco\": 1, \"city\": \"San Francisco\", \"day\": 3, \"month\": 1, \"year\": 2013, \"hour\": 7, \"day_of_week\": 3, \"pred\": 40.916666666666664}, {\"datetime\": \"2013-01-03T07:00:00\", \"temperature\": 12.9, \"city_Detroit\": 1, \"city_San Diego\": 0, \"city_San Francisco\": 0, \"city\": \"Detroit\", \"day\": 3, \"month\": 1, \"year\": 2013, \"hour\": 7, \"day_of_week\": 3, \"pred\": 13.271428571428572}, {\"datetime\": \"2013-01-03T08:00:00\", \"temperature\": 12.9, \"city_Detroit\": 1, \"city_San Diego\": 0, \"city_San Francisco\": 0, \"city\": \"Detroit\", \"day\": 3, \"month\": 1, \"year\": 2013, \"hour\": 8, \"day_of_week\": 3, \"pred\": 13.271428571428572}, {\"datetime\": \"2013-01-03T08:00:00\", \"temperature\": 40.0, \"city_Detroit\": 0, \"city_San Diego\": 0, \"city_San Francisco\": 1, \"city\": \"San Francisco\", \"day\": 3, \"month\": 1, \"year\": 2013, \"hour\": 8, \"day_of_week\": 3, \"pred\": 40.916666666666664}, {\"datetime\": \"2013-01-03T08:00:00\", \"temperature\": 46.4, \"city_Detroit\": 0, \"city_San Diego\": 1, \"city_San Francisco\": 0, \"city\": \"San Diego\", \"day\": 3, \"month\": 1, \"year\": 2013, \"hour\": 8, \"day_of_week\": 3, \"pred\": 42.030000000000015}, {\"datetime\": \"2013-01-03T09:00:00\", \"temperature\": 46.4, \"city_Detroit\": 0, \"city_San Diego\": 1, \"city_San Francisco\": 0, \"city\": \"San Diego\", \"day\": 3, \"month\": 1, \"year\": 2013, \"hour\": 9, \"day_of_week\": 3, \"pred\": 42.030000000000015}, {\"datetime\": \"2013-01-03T09:00:00\", \"temperature\": 12.9, \"city_Detroit\": 1, \"city_San Diego\": 0, \"city_San Francisco\": 0, \"city\": \"Detroit\", \"day\": 3, \"month\": 1, \"year\": 2013, \"hour\": 9, \"day_of_week\": 3, \"pred\": 13.271428571428572}, {\"datetime\": \"2013-01-03T09:00:00\", \"temperature\": 40.0, \"city_Detroit\": 0, \"city_San Diego\": 0, \"city_San Francisco\": 1, \"city\": \"San Francisco\", \"day\": 3, \"month\": 1, \"year\": 2013, \"hour\": 9, \"day_of_week\": 3, \"pred\": 37.60833333333333}, {\"datetime\": \"2013-01-03T10:00:00\", \"temperature\": 46.4, \"city_Detroit\": 0, \"city_San Diego\": 1, \"city_San Francisco\": 0, \"city\": \"San Diego\", \"day\": 3, \"month\": 1, \"year\": 2013, \"hour\": 10, \"day_of_week\": 3, \"pred\": 42.030000000000015}, {\"datetime\": \"2013-01-03T10:00:00\", \"temperature\": 12.9, \"city_Detroit\": 1, \"city_San Diego\": 0, \"city_San Francisco\": 0, \"city\": \"Detroit\", \"day\": 3, \"month\": 1, \"year\": 2013, \"hour\": 10, \"day_of_week\": 3, \"pred\": 13.271428571428572}, {\"datetime\": \"2013-01-03T10:00:00\", \"temperature\": 40.0, \"city_Detroit\": 0, \"city_San Diego\": 0, \"city_San Francisco\": 1, \"city\": \"San Francisco\", \"day\": 3, \"month\": 1, \"year\": 2013, \"hour\": 10, \"day_of_week\": 3, \"pred\": 37.60833333333333}, {\"datetime\": \"2013-01-03T11:00:00\", \"temperature\": 46.4, \"city_Detroit\": 0, \"city_San Diego\": 1, \"city_San Francisco\": 0, \"city\": \"San Diego\", \"day\": 3, \"month\": 1, \"year\": 2013, \"hour\": 11, \"day_of_week\": 3, \"pred\": 42.030000000000015}, {\"datetime\": \"2013-01-03T11:00:00\", \"temperature\": 12.9, \"city_Detroit\": 1, \"city_San Diego\": 0, \"city_San Francisco\": 0, \"city\": \"Detroit\", \"day\": 3, \"month\": 1, \"year\": 2013, \"hour\": 11, \"day_of_week\": 3, \"pred\": 13.271428571428572}, {\"datetime\": \"2013-01-03T11:00:00\", \"temperature\": 40.0, \"city_Detroit\": 0, \"city_San Diego\": 0, \"city_San Francisco\": 1, \"city\": \"San Francisco\", \"day\": 3, \"month\": 1, \"year\": 2013, \"hour\": 11, \"day_of_week\": 3, \"pred\": 37.60833333333333}, {\"datetime\": \"2013-01-03T12:00:00\", \"temperature\": 40.0, \"city_Detroit\": 0, \"city_San Diego\": 0, \"city_San Francisco\": 1, \"city\": \"San Francisco\", \"day\": 3, \"month\": 1, \"year\": 2013, \"hour\": 12, \"day_of_week\": 3, \"pred\": 37.60833333333333}, {\"datetime\": \"2013-01-03T12:00:00\", \"temperature\": 46.4, \"city_Detroit\": 0, \"city_San Diego\": 1, \"city_San Francisco\": 0, \"city\": \"San Diego\", \"day\": 3, \"month\": 1, \"year\": 2013, \"hour\": 12, \"day_of_week\": 3, \"pred\": 42.030000000000015}, {\"datetime\": \"2013-01-03T12:00:00\", \"temperature\": 12.9, \"city_Detroit\": 1, \"city_San Diego\": 0, \"city_San Francisco\": 0, \"city\": \"Detroit\", \"day\": 3, \"month\": 1, \"year\": 2013, \"hour\": 12, \"day_of_week\": 3, \"pred\": 13.271428571428572}, {\"datetime\": \"2013-01-03T13:00:00\", \"temperature\": 36.0, \"city_Detroit\": 0, \"city_San Diego\": 0, \"city_San Francisco\": 1, \"city\": \"San Francisco\", \"day\": 3, \"month\": 1, \"year\": 2013, \"hour\": 13, \"day_of_week\": 3, \"pred\": 37.60833333333333}, {\"datetime\": \"2013-01-03T13:00:00\", \"temperature\": 15.5, \"city_Detroit\": 1, \"city_San Diego\": 0, \"city_San Francisco\": 0, \"city\": \"Detroit\", \"day\": 3, \"month\": 1, \"year\": 2013, \"hour\": 13, \"day_of_week\": 3, \"pred\": 13.271428571428572}, {\"datetime\": \"2013-01-03T13:00:00\", \"temperature\": 44.9, \"city_Detroit\": 0, \"city_San Diego\": 1, \"city_San Francisco\": 0, \"city\": \"San Diego\", \"day\": 3, \"month\": 1, \"year\": 2013, \"hour\": 13, \"day_of_week\": 3, \"pred\": 42.030000000000015}, {\"datetime\": \"2013-01-03T14:00:00\", \"temperature\": 17.2, \"city_Detroit\": 1, \"city_San Diego\": 0, \"city_San Francisco\": 0, \"city\": \"Detroit\", \"day\": 3, \"month\": 1, \"year\": 2013, \"hour\": 14, \"day_of_week\": 3, \"pred\": 17.4}, {\"datetime\": \"2013-01-03T14:00:00\", \"temperature\": 36.8, \"city_Detroit\": 0, \"city_San Diego\": 0, \"city_San Francisco\": 1, \"city\": \"San Francisco\", \"day\": 3, \"month\": 1, \"year\": 2013, \"hour\": 14, \"day_of_week\": 3, \"pred\": 37.60833333333333}, {\"datetime\": \"2013-01-03T14:00:00\", \"temperature\": 43.5, \"city_Detroit\": 0, \"city_San Diego\": 1, \"city_San Francisco\": 0, \"city\": \"San Diego\", \"day\": 3, \"month\": 1, \"year\": 2013, \"hour\": 14, \"day_of_week\": 3, \"pred\": 42.030000000000015}, {\"datetime\": \"2013-01-03T15:00:00\", \"temperature\": 17.6, \"city_Detroit\": 1, \"city_San Diego\": 0, \"city_San Francisco\": 0, \"city\": \"Detroit\", \"day\": 3, \"month\": 1, \"year\": 2013, \"hour\": 15, \"day_of_week\": 3, \"pred\": 17.4}, {\"datetime\": \"2013-01-03T15:00:00\", \"temperature\": 37.5, \"city_Detroit\": 0, \"city_San Diego\": 0, \"city_San Francisco\": 1, \"city\": \"San Francisco\", \"day\": 3, \"month\": 1, \"year\": 2013, \"hour\": 15, \"day_of_week\": 3, \"pred\": 37.60833333333333}, {\"datetime\": \"2013-01-03T15:00:00\", \"temperature\": 42.2, \"city_Detroit\": 0, \"city_San Diego\": 1, \"city_San Francisco\": 0, \"city\": \"San Diego\", \"day\": 3, \"month\": 1, \"year\": 2013, \"hour\": 15, \"day_of_week\": 3, \"pred\": 42.030000000000015}, {\"datetime\": \"2013-01-03T16:00:00\", \"temperature\": 48.8, \"city_Detroit\": 0, \"city_San Diego\": 1, \"city_San Francisco\": 0, \"city\": \"San Diego\", \"day\": 3, \"month\": 1, \"year\": 2013, \"hour\": 16, \"day_of_week\": 3, \"pred\": 46.14}, {\"datetime\": \"2013-01-03T16:00:00\", \"temperature\": 22.6, \"city_Detroit\": 1, \"city_San Diego\": 0, \"city_San Francisco\": 0, \"city\": \"Detroit\", \"day\": 3, \"month\": 1, \"year\": 2013, \"hour\": 16, \"day_of_week\": 3, \"pred\": 22.6}, {\"datetime\": \"2013-01-03T16:00:00\", \"temperature\": 37.3, \"city_Detroit\": 0, \"city_San Diego\": 0, \"city_San Francisco\": 1, \"city\": \"San Francisco\", \"day\": 3, \"month\": 1, \"year\": 2013, \"hour\": 16, \"day_of_week\": 3, \"pred\": 37.60833333333333}, {\"datetime\": \"2013-01-03T17:00:00\", \"temperature\": 23.6, \"city_Detroit\": 1, \"city_San Diego\": 0, \"city_San Francisco\": 0, \"city\": \"Detroit\", \"day\": 3, \"month\": 1, \"year\": 2013, \"hour\": 17, \"day_of_week\": 3, \"pred\": 24.200000000000003}, {\"datetime\": \"2013-01-03T17:00:00\", \"temperature\": 42.5, \"city_Detroit\": 0, \"city_San Diego\": 0, \"city_San Francisco\": 1, \"city\": \"San Francisco\", \"day\": 3, \"month\": 1, \"year\": 2013, \"hour\": 17, \"day_of_week\": 3, \"pred\": 41.96666666666667}, {\"datetime\": \"2013-01-03T17:00:00\", \"temperature\": 54.9, \"city_Detroit\": 0, \"city_San Diego\": 1, \"city_San Francisco\": 0, \"city\": \"San Diego\", \"day\": 3, \"month\": 1, \"year\": 2013, \"hour\": 17, \"day_of_week\": 3, \"pred\": 53.75}, {\"datetime\": \"2013-01-03T18:00:00\", \"temperature\": 24.8, \"city_Detroit\": 1, \"city_San Diego\": 0, \"city_San Francisco\": 0, \"city\": \"Detroit\", \"day\": 3, \"month\": 1, \"year\": 2013, \"hour\": 18, \"day_of_week\": 3, \"pred\": 24.200000000000003}, {\"datetime\": \"2013-01-03T18:00:00\", \"temperature\": 47.0, \"city_Detroit\": 0, \"city_San Diego\": 0, \"city_San Francisco\": 1, \"city\": \"San Francisco\", \"day\": 3, \"month\": 1, \"year\": 2013, \"hour\": 18, \"day_of_week\": 3, \"pred\": 46.35}, {\"datetime\": \"2013-01-03T18:00:00\", \"temperature\": 58.3, \"city_Detroit\": 0, \"city_San Diego\": 1, \"city_San Francisco\": 0, \"city\": \"San Diego\", \"day\": 3, \"month\": 1, \"year\": 2013, \"hour\": 18, \"day_of_week\": 3, \"pred\": 58.3}, {\"datetime\": \"2013-01-03T19:00:00\", \"temperature\": 49.8, \"city_Detroit\": 0, \"city_San Diego\": 0, \"city_San Francisco\": 1, \"city\": \"San Francisco\", \"day\": 3, \"month\": 1, \"year\": 2013, \"hour\": 19, \"day_of_week\": 3, \"pred\": 49.8}, {\"datetime\": \"2013-01-03T19:00:00\", \"temperature\": 25.7, \"city_Detroit\": 1, \"city_San Diego\": 0, \"city_San Francisco\": 0, \"city\": \"Detroit\", \"day\": 3, \"month\": 1, \"year\": 2013, \"hour\": 19, \"day_of_week\": 3, \"pred\": 26.159999999999997}, {\"datetime\": \"2013-01-03T19:00:00\", \"temperature\": 60.2, \"city_Detroit\": 0, \"city_San Diego\": 1, \"city_San Francisco\": 0, \"city\": \"San Diego\", \"day\": 3, \"month\": 1, \"year\": 2013, \"hour\": 19, \"day_of_week\": 3, \"pred\": 61.419999999999995}, {\"datetime\": \"2013-01-03T20:00:00\", \"temperature\": 51.5, \"city_Detroit\": 0, \"city_San Diego\": 0, \"city_San Francisco\": 1, \"city\": \"San Francisco\", \"day\": 3, \"month\": 1, \"year\": 2013, \"hour\": 20, \"day_of_week\": 3, \"pred\": 50.82857142857143}, {\"datetime\": \"2013-01-03T20:00:00\", \"temperature\": 61.4, \"city_Detroit\": 0, \"city_San Diego\": 1, \"city_San Francisco\": 0, \"city\": \"San Diego\", \"day\": 3, \"month\": 1, \"year\": 2013, \"hour\": 20, \"day_of_week\": 3, \"pred\": 61.419999999999995}, {\"datetime\": \"2013-01-03T20:00:00\", \"temperature\": 26.3, \"city_Detroit\": 1, \"city_San Diego\": 0, \"city_San Francisco\": 0, \"city\": \"Detroit\", \"day\": 3, \"month\": 1, \"year\": 2013, \"hour\": 20, \"day_of_week\": 3, \"pred\": 26.159999999999997}, {\"datetime\": \"2013-01-03T21:00:00\", \"temperature\": 26.1, \"city_Detroit\": 1, \"city_San Diego\": 0, \"city_San Francisco\": 0, \"city\": \"Detroit\", \"day\": 3, \"month\": 1, \"year\": 2013, \"hour\": 21, \"day_of_week\": 3, \"pred\": 26.159999999999997}, {\"datetime\": \"2013-01-03T21:00:00\", \"temperature\": 62.2, \"city_Detroit\": 0, \"city_San Diego\": 1, \"city_San Francisco\": 0, \"city\": \"San Diego\", \"day\": 3, \"month\": 1, \"year\": 2013, \"hour\": 21, \"day_of_week\": 3, \"pred\": 61.419999999999995}, {\"datetime\": \"2013-01-03T21:00:00\", \"temperature\": 52.6, \"city_Detroit\": 0, \"city_San Diego\": 0, \"city_San Francisco\": 1, \"city\": \"San Francisco\", \"day\": 3, \"month\": 1, \"year\": 2013, \"hour\": 21, \"day_of_week\": 3, \"pred\": 52.63809523809523}, {\"datetime\": \"2013-01-03T22:00:00\", \"temperature\": 53.3, \"city_Detroit\": 0, \"city_San Diego\": 0, \"city_San Francisco\": 1, \"city\": \"San Francisco\", \"day\": 3, \"month\": 1, \"year\": 2013, \"hour\": 22, \"day_of_week\": 3, \"pred\": 52.63809523809523}, {\"datetime\": \"2013-01-03T22:00:00\", \"temperature\": 62.5, \"city_Detroit\": 0, \"city_San Diego\": 1, \"city_San Francisco\": 0, \"city\": \"San Diego\", \"day\": 3, \"month\": 1, \"year\": 2013, \"hour\": 22, \"day_of_week\": 3, \"pred\": 61.419999999999995}, {\"datetime\": \"2013-01-03T22:00:00\", \"temperature\": 26.1, \"city_Detroit\": 1, \"city_San Diego\": 0, \"city_San Francisco\": 0, \"city\": \"Detroit\", \"day\": 3, \"month\": 1, \"year\": 2013, \"hour\": 22, \"day_of_week\": 3, \"pred\": 26.159999999999997}, {\"datetime\": \"2013-01-03T23:00:00\", \"temperature\": 53.9, \"city_Detroit\": 0, \"city_San Diego\": 0, \"city_San Francisco\": 1, \"city\": \"San Francisco\", \"day\": 3, \"month\": 1, \"year\": 2013, \"hour\": 23, \"day_of_week\": 3, \"pred\": 52.63809523809523}, {\"datetime\": \"2013-01-03T23:00:00\", \"temperature\": 26.6, \"city_Detroit\": 1, \"city_San Diego\": 0, \"city_San Francisco\": 0, \"city\": \"Detroit\", \"day\": 3, \"month\": 1, \"year\": 2013, \"hour\": 23, \"day_of_week\": 3, \"pred\": 26.159999999999997}, {\"datetime\": \"2013-01-03T23:00:00\", \"temperature\": 60.8, \"city_Detroit\": 0, \"city_San Diego\": 1, \"city_San Francisco\": 0, \"city\": \"San Diego\", \"day\": 3, \"month\": 1, \"year\": 2013, \"hour\": 23, \"day_of_week\": 3, \"pred\": 61.419999999999995}, {\"datetime\": \"2013-01-04T00:00:00\", \"temperature\": 53.0, \"city_Detroit\": 0, \"city_San Diego\": 0, \"city_San Francisco\": 1, \"city\": \"San Francisco\", \"day\": 4, \"month\": 1, \"year\": 2013, \"hour\": 0, \"day_of_week\": 4, \"pred\": 51.7}, {\"datetime\": \"2013-01-04T00:00:00\", \"temperature\": 26.0, \"city_Detroit\": 1, \"city_San Diego\": 0, \"city_San Francisco\": 0, \"city\": \"Detroit\", \"day\": 4, \"month\": 1, \"year\": 2013, \"hour\": 0, \"day_of_week\": 4, \"pred\": 25.85}, {\"datetime\": \"2013-01-04T00:00:00\", \"temperature\": 58.5, \"city_Detroit\": 0, \"city_San Diego\": 1, \"city_San Francisco\": 0, \"city\": \"San Diego\", \"day\": 4, \"month\": 1, \"year\": 2013, \"hour\": 0, \"day_of_week\": 4, \"pred\": 59.53333333333333}, {\"datetime\": \"2013-01-04T01:00:00\", \"temperature\": 50.4, \"city_Detroit\": 0, \"city_San Diego\": 0, \"city_San Francisco\": 1, \"city\": \"San Francisco\", \"day\": 4, \"month\": 1, \"year\": 2013, \"hour\": 1, \"day_of_week\": 4, \"pred\": 50.333333333333336}, {\"datetime\": \"2013-01-04T01:00:00\", \"temperature\": 25.7, \"city_Detroit\": 1, \"city_San Diego\": 0, \"city_San Francisco\": 0, \"city\": \"Detroit\", \"day\": 4, \"month\": 1, \"year\": 2013, \"hour\": 1, \"day_of_week\": 4, \"pred\": 25.85}, {\"datetime\": \"2013-01-04T01:00:00\", \"temperature\": 55.8, \"city_Detroit\": 0, \"city_San Diego\": 1, \"city_San Francisco\": 0, \"city\": \"San Diego\", \"day\": 4, \"month\": 1, \"year\": 2013, \"hour\": 1, \"day_of_week\": 4, \"pred\": 56.0}, {\"datetime\": \"2013-01-04T02:00:00\", \"temperature\": 47.4, \"city_Detroit\": 0, \"city_San Diego\": 0, \"city_San Francisco\": 1, \"city\": \"San Francisco\", \"day\": 4, \"month\": 1, \"year\": 2013, \"hour\": 2, \"day_of_week\": 4, \"pred\": 46.925}, {\"datetime\": \"2013-01-04T02:00:00\", \"temperature\": 53.1, \"city_Detroit\": 0, \"city_San Diego\": 1, \"city_San Francisco\": 0, \"city\": \"San Diego\", \"day\": 4, \"month\": 1, \"year\": 2013, \"hour\": 2, \"day_of_week\": 4, \"pred\": 54.17999999999999}, {\"datetime\": \"2013-01-04T02:00:00\", \"temperature\": 24.2, \"city_Detroit\": 1, \"city_San Diego\": 0, \"city_San Francisco\": 0, \"city\": \"Detroit\", \"day\": 4, \"month\": 1, \"year\": 2013, \"hour\": 2, \"day_of_week\": 4, \"pred\": 24.16}, {\"datetime\": \"2013-01-04T03:00:00\", \"temperature\": 45.7, \"city_Detroit\": 0, \"city_San Diego\": 0, \"city_San Francisco\": 1, \"city\": \"San Francisco\", \"day\": 4, \"month\": 1, \"year\": 2013, \"hour\": 3, \"day_of_week\": 4, \"pred\": 46.133333333333326}, {\"datetime\": \"2013-01-04T03:00:00\", \"temperature\": 49.2, \"city_Detroit\": 0, \"city_San Diego\": 1, \"city_San Francisco\": 0, \"city\": \"San Diego\", \"day\": 4, \"month\": 1, \"year\": 2013, \"hour\": 3, \"day_of_week\": 4, \"pred\": 50.2}, {\"datetime\": \"2013-01-04T03:00:00\", \"temperature\": 24.4, \"city_Detroit\": 1, \"city_San Diego\": 0, \"city_San Francisco\": 0, \"city\": \"Detroit\", \"day\": 4, \"month\": 1, \"year\": 2013, \"hour\": 3, \"day_of_week\": 4, \"pred\": 24.16}, {\"datetime\": \"2013-01-04T04:00:00\", \"temperature\": 47.8, \"city_Detroit\": 0, \"city_San Diego\": 1, \"city_San Francisco\": 0, \"city\": \"San Diego\", \"day\": 4, \"month\": 1, \"year\": 2013, \"hour\": 4, \"day_of_week\": 4, \"pred\": 50.25}, {\"datetime\": \"2013-01-04T04:00:00\", \"temperature\": 42.7, \"city_Detroit\": 0, \"city_San Diego\": 0, \"city_San Francisco\": 1, \"city\": \"San Francisco\", \"day\": 4, \"month\": 1, \"year\": 2013, \"hour\": 4, \"day_of_week\": 4, \"pred\": 43.36666666666667}, {\"datetime\": \"2013-01-04T04:00:00\", \"temperature\": 24.4, \"city_Detroit\": 1, \"city_San Diego\": 0, \"city_San Francisco\": 0, \"city\": \"Detroit\", \"day\": 4, \"month\": 1, \"year\": 2013, \"hour\": 4, \"day_of_week\": 4, \"pred\": 24.16}, {\"datetime\": \"2013-01-04T05:00:00\", \"temperature\": 46.3, \"city_Detroit\": 0, \"city_San Diego\": 1, \"city_San Francisco\": 0, \"city\": \"San Diego\", \"day\": 4, \"month\": 1, \"year\": 2013, \"hour\": 5, \"day_of_week\": 4, \"pred\": 50.25}, {\"datetime\": \"2013-01-04T05:00:00\", \"temperature\": 42.0, \"city_Detroit\": 0, \"city_San Diego\": 0, \"city_San Francisco\": 1, \"city\": \"San Francisco\", \"day\": 4, \"month\": 1, \"year\": 2013, \"hour\": 5, \"day_of_week\": 4, \"pred\": 40.916666666666664}, {\"datetime\": \"2013-01-04T05:00:00\", \"temperature\": 24.0, \"city_Detroit\": 1, \"city_San Diego\": 0, \"city_San Francisco\": 0, \"city\": \"Detroit\", \"day\": 4, \"month\": 1, \"year\": 2013, \"hour\": 5, \"day_of_week\": 4, \"pred\": 24.16}, {\"datetime\": \"2013-01-04T06:00:00\", \"temperature\": 40.4, \"city_Detroit\": 0, \"city_San Diego\": 0, \"city_San Francisco\": 1, \"city\": \"San Francisco\", \"day\": 4, \"month\": 1, \"year\": 2013, \"hour\": 6, \"day_of_week\": 4, \"pred\": 40.916666666666664}, {\"datetime\": \"2013-01-04T06:00:00\", \"temperature\": 45.1, \"city_Detroit\": 0, \"city_San Diego\": 1, \"city_San Francisco\": 0, \"city\": \"San Diego\", \"day\": 4, \"month\": 1, \"year\": 2013, \"hour\": 6, \"day_of_week\": 4, \"pred\": 42.030000000000015}, {\"datetime\": \"2013-01-04T06:00:00\", \"temperature\": 23.8, \"city_Detroit\": 1, \"city_San Diego\": 0, \"city_San Francisco\": 0, \"city\": \"Detroit\", \"day\": 4, \"month\": 1, \"year\": 2013, \"hour\": 6, \"day_of_week\": 4, \"pred\": 24.16}, {\"datetime\": \"2013-01-04T07:00:00\", \"temperature\": 22.8, \"city_Detroit\": 1, \"city_San Diego\": 0, \"city_San Francisco\": 0, \"city\": \"Detroit\", \"day\": 4, \"month\": 1, \"year\": 2013, \"hour\": 7, \"day_of_week\": 4, \"pred\": 22.15}, {\"datetime\": \"2013-01-04T07:00:00\", \"temperature\": 39.3, \"city_Detroit\": 0, \"city_San Diego\": 0, \"city_San Francisco\": 1, \"city\": \"San Francisco\", \"day\": 4, \"month\": 1, \"year\": 2013, \"hour\": 7, \"day_of_week\": 4, \"pred\": 40.916666666666664}, {\"datetime\": \"2013-01-04T07:00:00\", \"temperature\": 43.9, \"city_Detroit\": 0, \"city_San Diego\": 1, \"city_San Francisco\": 0, \"city\": \"San Diego\", \"day\": 4, \"month\": 1, \"year\": 2013, \"hour\": 7, \"day_of_week\": 4, \"pred\": 42.030000000000015}, {\"datetime\": \"2013-01-04T08:00:00\", \"temperature\": 21.5, \"city_Detroit\": 1, \"city_San Diego\": 0, \"city_San Francisco\": 0, \"city\": \"Detroit\", \"day\": 4, \"month\": 1, \"year\": 2013, \"hour\": 8, \"day_of_week\": 4, \"pred\": 22.15}, {\"datetime\": \"2013-01-04T08:00:00\", \"temperature\": 42.6, \"city_Detroit\": 0, \"city_San Diego\": 1, \"city_San Francisco\": 0, \"city\": \"San Diego\", \"day\": 4, \"month\": 1, \"year\": 2013, \"hour\": 8, \"day_of_week\": 4, \"pred\": 42.030000000000015}, {\"datetime\": \"2013-01-04T08:00:00\", \"temperature\": 39.7, \"city_Detroit\": 0, \"city_San Diego\": 0, \"city_San Francisco\": 1, \"city\": \"San Francisco\", \"day\": 4, \"month\": 1, \"year\": 2013, \"hour\": 8, \"day_of_week\": 4, \"pred\": 40.916666666666664}, {\"datetime\": \"2013-01-04T09:00:00\", \"temperature\": 20.4, \"city_Detroit\": 1, \"city_San Diego\": 0, \"city_San Francisco\": 0, \"city\": \"Detroit\", \"day\": 4, \"month\": 1, \"year\": 2013, \"hour\": 9, \"day_of_week\": 4, \"pred\": 19.85}, {\"datetime\": \"2013-01-04T09:00:00\", \"temperature\": 38.4, \"city_Detroit\": 0, \"city_San Diego\": 0, \"city_San Francisco\": 1, \"city\": \"San Francisco\", \"day\": 4, \"month\": 1, \"year\": 2013, \"hour\": 9, \"day_of_week\": 4, \"pred\": 37.60833333333333}, {\"datetime\": \"2013-01-04T09:00:00\", \"temperature\": 42.4, \"city_Detroit\": 0, \"city_San Diego\": 1, \"city_San Francisco\": 0, \"city\": \"San Diego\", \"day\": 4, \"month\": 1, \"year\": 2013, \"hour\": 9, \"day_of_week\": 4, \"pred\": 42.030000000000015}, {\"datetime\": \"2013-01-04T10:00:00\", \"temperature\": 19.0, \"city_Detroit\": 1, \"city_San Diego\": 0, \"city_San Francisco\": 0, \"city\": \"Detroit\", \"day\": 4, \"month\": 1, \"year\": 2013, \"hour\": 10, \"day_of_week\": 4, \"pred\": 19.85}, {\"datetime\": \"2013-01-04T10:00:00\", \"temperature\": 36.8, \"city_Detroit\": 0, \"city_San Diego\": 0, \"city_San Francisco\": 1, \"city\": \"San Francisco\", \"day\": 4, \"month\": 1, \"year\": 2013, \"hour\": 10, \"day_of_week\": 4, \"pred\": 37.60833333333333}, {\"datetime\": \"2013-01-04T10:00:00\", \"temperature\": 42.4, \"city_Detroit\": 0, \"city_San Diego\": 1, \"city_San Francisco\": 0, \"city\": \"San Diego\", \"day\": 4, \"month\": 1, \"year\": 2013, \"hour\": 10, \"day_of_week\": 4, \"pred\": 42.030000000000015}, {\"datetime\": \"2013-01-04T11:00:00\", \"temperature\": 19.5, \"city_Detroit\": 1, \"city_San Diego\": 0, \"city_San Francisco\": 0, \"city\": \"Detroit\", \"day\": 4, \"month\": 1, \"year\": 2013, \"hour\": 11, \"day_of_week\": 4, \"pred\": 19.85}, {\"datetime\": \"2013-01-04T11:00:00\", \"temperature\": 39.8, \"city_Detroit\": 0, \"city_San Diego\": 1, \"city_San Francisco\": 0, \"city\": \"San Diego\", \"day\": 4, \"month\": 1, \"year\": 2013, \"hour\": 11, \"day_of_week\": 4, \"pred\": 42.030000000000015}, {\"datetime\": \"2013-01-04T11:00:00\", \"temperature\": 35.6, \"city_Detroit\": 0, \"city_San Diego\": 0, \"city_San Francisco\": 1, \"city\": \"San Francisco\", \"day\": 4, \"month\": 1, \"year\": 2013, \"hour\": 11, \"day_of_week\": 4, \"pred\": 37.60833333333333}, {\"datetime\": \"2013-01-04T12:00:00\", \"temperature\": 39.0, \"city_Detroit\": 0, \"city_San Diego\": 1, \"city_San Francisco\": 0, \"city\": \"San Diego\", \"day\": 4, \"month\": 1, \"year\": 2013, \"hour\": 12, \"day_of_week\": 4, \"pred\": 42.030000000000015}, {\"datetime\": \"2013-01-04T12:00:00\", \"temperature\": 35.8, \"city_Detroit\": 0, \"city_San Diego\": 0, \"city_San Francisco\": 1, \"city\": \"San Francisco\", \"day\": 4, \"month\": 1, \"year\": 2013, \"hour\": 12, \"day_of_week\": 4, \"pred\": 37.60833333333333}, {\"datetime\": \"2013-01-04T12:00:00\", \"temperature\": 19.1, \"city_Detroit\": 1, \"city_San Diego\": 0, \"city_San Francisco\": 0, \"city\": \"Detroit\", \"day\": 4, \"month\": 1, \"year\": 2013, \"hour\": 12, \"day_of_week\": 4, \"pred\": 19.85}, {\"datetime\": \"2013-01-04T13:00:00\", \"temperature\": 34.4, \"city_Detroit\": 0, \"city_San Diego\": 0, \"city_San Francisco\": 1, \"city\": \"San Francisco\", \"day\": 4, \"month\": 1, \"year\": 2013, \"hour\": 13, \"day_of_week\": 4, \"pred\": 37.60833333333333}, {\"datetime\": \"2013-01-04T13:00:00\", \"temperature\": 18.8, \"city_Detroit\": 1, \"city_San Diego\": 0, \"city_San Francisco\": 0, \"city\": \"Detroit\", \"day\": 4, \"month\": 1, \"year\": 2013, \"hour\": 13, \"day_of_week\": 4, \"pred\": 19.85}, {\"datetime\": \"2013-01-04T13:00:00\", \"temperature\": 39.7, \"city_Detroit\": 0, \"city_San Diego\": 1, \"city_San Francisco\": 0, \"city\": \"San Diego\", \"day\": 4, \"month\": 1, \"year\": 2013, \"hour\": 13, \"day_of_week\": 4, \"pred\": 42.030000000000015}, {\"datetime\": \"2013-01-04T14:00:00\", \"temperature\": 33.5, \"city_Detroit\": 0, \"city_San Diego\": 0, \"city_San Francisco\": 1, \"city\": \"San Francisco\", \"day\": 4, \"month\": 1, \"year\": 2013, \"hour\": 14, \"day_of_week\": 4, \"pred\": 37.60833333333333}, {\"datetime\": \"2013-01-04T14:00:00\", \"temperature\": 19.8, \"city_Detroit\": 1, \"city_San Diego\": 0, \"city_San Francisco\": 0, \"city\": \"Detroit\", \"day\": 4, \"month\": 1, \"year\": 2013, \"hour\": 14, \"day_of_week\": 4, \"pred\": 19.85}, {\"datetime\": \"2013-01-04T14:00:00\", \"temperature\": 39.7, \"city_Detroit\": 0, \"city_San Diego\": 1, \"city_San Francisco\": 0, \"city\": \"San Diego\", \"day\": 4, \"month\": 1, \"year\": 2013, \"hour\": 14, \"day_of_week\": 4, \"pred\": 42.030000000000015}, {\"datetime\": \"2013-01-04T15:00:00\", \"temperature\": 20.4, \"city_Detroit\": 1, \"city_San Diego\": 0, \"city_San Francisco\": 0, \"city\": \"Detroit\", \"day\": 4, \"month\": 1, \"year\": 2013, \"hour\": 15, \"day_of_week\": 4, \"pred\": 19.85}, {\"datetime\": \"2013-01-04T15:00:00\", \"temperature\": 41.1, \"city_Detroit\": 0, \"city_San Diego\": 1, \"city_San Francisco\": 0, \"city\": \"San Diego\", \"day\": 4, \"month\": 1, \"year\": 2013, \"hour\": 15, \"day_of_week\": 4, \"pred\": 42.030000000000015}, {\"datetime\": \"2013-01-04T15:00:00\", \"temperature\": 35.8, \"city_Detroit\": 0, \"city_San Diego\": 0, \"city_San Francisco\": 1, \"city\": \"San Francisco\", \"day\": 4, \"month\": 1, \"year\": 2013, \"hour\": 15, \"day_of_week\": 4, \"pred\": 37.60833333333333}, {\"datetime\": \"2013-01-04T16:00:00\", \"temperature\": 45.5, \"city_Detroit\": 0, \"city_San Diego\": 1, \"city_San Francisco\": 0, \"city\": \"San Diego\", \"day\": 4, \"month\": 1, \"year\": 2013, \"hour\": 16, \"day_of_week\": 4, \"pred\": 46.14}, {\"datetime\": \"2013-01-04T16:00:00\", \"temperature\": 37.3, \"city_Detroit\": 0, \"city_San Diego\": 0, \"city_San Francisco\": 1, \"city\": \"San Francisco\", \"day\": 4, \"month\": 1, \"year\": 2013, \"hour\": 16, \"day_of_week\": 4, \"pred\": 37.60833333333333}, {\"datetime\": \"2013-01-04T16:00:00\", \"temperature\": 21.8, \"city_Detroit\": 1, \"city_San Diego\": 0, \"city_San Francisco\": 0, \"city\": \"Detroit\", \"day\": 4, \"month\": 1, \"year\": 2013, \"hour\": 16, \"day_of_week\": 4, \"pred\": 19.85}, {\"datetime\": \"2013-01-04T17:00:00\", \"temperature\": 52.6, \"city_Detroit\": 0, \"city_San Diego\": 1, \"city_San Francisco\": 0, \"city\": \"San Diego\", \"day\": 4, \"month\": 1, \"year\": 2013, \"hour\": 17, \"day_of_week\": 4, \"pred\": 53.75}, {\"datetime\": \"2013-01-04T17:00:00\", \"temperature\": 40.6, \"city_Detroit\": 0, \"city_San Diego\": 0, \"city_San Francisco\": 1, \"city\": \"San Francisco\", \"day\": 4, \"month\": 1, \"year\": 2013, \"hour\": 17, \"day_of_week\": 4, \"pred\": 41.96666666666667}, {\"datetime\": \"2013-01-04T17:00:00\", \"temperature\": 24.4, \"city_Detroit\": 1, \"city_San Diego\": 0, \"city_San Francisco\": 0, \"city\": \"Detroit\", \"day\": 4, \"month\": 1, \"year\": 2013, \"hour\": 17, \"day_of_week\": 4, \"pred\": 24.4}, {\"datetime\": \"2013-01-04T18:00:00\", \"temperature\": 60.3, \"city_Detroit\": 0, \"city_San Diego\": 1, \"city_San Francisco\": 0, \"city\": \"San Diego\", \"day\": 4, \"month\": 1, \"year\": 2013, \"hour\": 18, \"day_of_week\": 4, \"pred\": 60.3}, {\"datetime\": \"2013-01-04T18:00:00\", \"temperature\": 26.4, \"city_Detroit\": 1, \"city_San Diego\": 0, \"city_San Francisco\": 0, \"city\": \"Detroit\", \"day\": 4, \"month\": 1, \"year\": 2013, \"hour\": 18, \"day_of_week\": 4, \"pred\": 26.45}, {\"datetime\": \"2013-01-04T18:00:00\", \"temperature\": 44.9, \"city_Detroit\": 0, \"city_San Diego\": 0, \"city_San Francisco\": 1, \"city\": \"San Francisco\", \"day\": 4, \"month\": 1, \"year\": 2013, \"hour\": 18, \"day_of_week\": 4, \"pred\": 44.9}, {\"datetime\": \"2013-01-04T19:00:00\", \"temperature\": 26.5, \"city_Detroit\": 1, \"city_San Diego\": 0, \"city_San Francisco\": 0, \"city\": \"Detroit\", \"day\": 4, \"month\": 1, \"year\": 2013, \"hour\": 19, \"day_of_week\": 4, \"pred\": 26.45}, {\"datetime\": \"2013-01-04T19:00:00\", \"temperature\": 62.9, \"city_Detroit\": 0, \"city_San Diego\": 1, \"city_San Francisco\": 0, \"city\": \"San Diego\", \"day\": 4, \"month\": 1, \"year\": 2013, \"hour\": 19, \"day_of_week\": 4, \"pred\": 65.39}, {\"datetime\": \"2013-01-04T19:00:00\", \"temperature\": 47.2, \"city_Detroit\": 0, \"city_San Diego\": 0, \"city_San Francisco\": 1, \"city\": \"San Francisco\", \"day\": 4, \"month\": 1, \"year\": 2013, \"hour\": 19, \"day_of_week\": 4, \"pred\": 47.2}, {\"datetime\": \"2013-01-04T20:00:00\", \"temperature\": 64.8, \"city_Detroit\": 0, \"city_San Diego\": 1, \"city_San Francisco\": 0, \"city\": \"San Diego\", \"day\": 4, \"month\": 1, \"year\": 2013, \"hour\": 20, \"day_of_week\": 4, \"pred\": 65.39}, {\"datetime\": \"2013-01-04T20:00:00\", \"temperature\": 49.6, \"city_Detroit\": 0, \"city_San Diego\": 0, \"city_San Francisco\": 1, \"city\": \"San Francisco\", \"day\": 4, \"month\": 1, \"year\": 2013, \"hour\": 20, \"day_of_week\": 4, \"pred\": 50.82857142857143}, {\"datetime\": \"2013-01-04T20:00:00\", \"temperature\": 27.8, \"city_Detroit\": 1, \"city_San Diego\": 0, \"city_San Francisco\": 0, \"city\": \"Detroit\", \"day\": 4, \"month\": 1, \"year\": 2013, \"hour\": 20, \"day_of_week\": 4, \"pred\": 28.1}, {\"datetime\": \"2013-01-04T21:00:00\", \"temperature\": 51.7, \"city_Detroit\": 0, \"city_San Diego\": 0, \"city_San Francisco\": 1, \"city\": \"San Francisco\", \"day\": 4, \"month\": 1, \"year\": 2013, \"hour\": 21, \"day_of_week\": 4, \"pred\": 52.63809523809523}, {\"datetime\": \"2013-01-04T21:00:00\", \"temperature\": 28.4, \"city_Detroit\": 1, \"city_San Diego\": 0, \"city_San Francisco\": 0, \"city\": \"Detroit\", \"day\": 4, \"month\": 1, \"year\": 2013, \"hour\": 21, \"day_of_week\": 4, \"pred\": 28.1}, {\"datetime\": \"2013-01-04T21:00:00\", \"temperature\": 67.0, \"city_Detroit\": 0, \"city_San Diego\": 1, \"city_San Francisco\": 0, \"city\": \"San Diego\", \"day\": 4, \"month\": 1, \"year\": 2013, \"hour\": 21, \"day_of_week\": 4, \"pred\": 65.39}, {\"datetime\": \"2013-01-04T22:00:00\", \"temperature\": 53.0, \"city_Detroit\": 0, \"city_San Diego\": 0, \"city_San Francisco\": 1, \"city\": \"San Francisco\", \"day\": 4, \"month\": 1, \"year\": 2013, \"hour\": 22, \"day_of_week\": 4, \"pred\": 52.63809523809523}, {\"datetime\": \"2013-01-04T22:00:00\", \"temperature\": 29.3, \"city_Detroit\": 1, \"city_San Diego\": 0, \"city_San Francisco\": 0, \"city\": \"Detroit\", \"day\": 4, \"month\": 1, \"year\": 2013, \"hour\": 22, \"day_of_week\": 4, \"pred\": 29.3}, {\"datetime\": \"2013-01-04T22:00:00\", \"temperature\": 66.6, \"city_Detroit\": 0, \"city_San Diego\": 1, \"city_San Francisco\": 0, \"city\": \"San Diego\", \"day\": 4, \"month\": 1, \"year\": 2013, \"hour\": 22, \"day_of_week\": 4, \"pred\": 65.39}, {\"datetime\": \"2013-01-04T23:00:00\", \"temperature\": 64.9, \"city_Detroit\": 0, \"city_San Diego\": 1, \"city_San Francisco\": 0, \"city\": \"San Diego\", \"day\": 4, \"month\": 1, \"year\": 2013, \"hour\": 23, \"day_of_week\": 4, \"pred\": 65.39}, {\"datetime\": \"2013-01-04T23:00:00\", \"temperature\": 29.3, \"city_Detroit\": 1, \"city_San Diego\": 0, \"city_San Francisco\": 0, \"city\": \"Detroit\", \"day\": 4, \"month\": 1, \"year\": 2013, \"hour\": 23, \"day_of_week\": 4, \"pred\": 29.3}, {\"datetime\": \"2013-01-04T23:00:00\", \"temperature\": 53.1, \"city_Detroit\": 0, \"city_San Diego\": 0, \"city_San Francisco\": 1, \"city\": \"San Francisco\", \"day\": 4, \"month\": 1, \"year\": 2013, \"hour\": 23, \"day_of_week\": 4, \"pred\": 52.63809523809523}, {\"datetime\": \"2013-01-05T00:00:00\", \"temperature\": 61.0, \"city_Detroit\": 0, \"city_San Diego\": 1, \"city_San Francisco\": 0, \"city\": \"San Diego\", \"day\": 5, \"month\": 1, \"year\": 2013, \"hour\": 0, \"day_of_week\": 5, \"pred\": 59.53333333333333}, {\"datetime\": \"2013-01-05T00:00:00\", \"temperature\": 29.7, \"city_Detroit\": 1, \"city_San Diego\": 0, \"city_San Francisco\": 0, \"city\": \"Detroit\", \"day\": 5, \"month\": 1, \"year\": 2013, \"hour\": 0, \"day_of_week\": 5, \"pred\": 29.642857142857146}, {\"datetime\": \"2013-01-05T00:00:00\", \"temperature\": 51.9, \"city_Detroit\": 0, \"city_San Diego\": 0, \"city_San Francisco\": 1, \"city\": \"San Francisco\", \"day\": 5, \"month\": 1, \"year\": 2013, \"hour\": 0, \"day_of_week\": 5, \"pred\": 51.7}, {\"datetime\": \"2013-01-05T01:00:00\", \"temperature\": 30.3, \"city_Detroit\": 1, \"city_San Diego\": 0, \"city_San Francisco\": 0, \"city\": \"Detroit\", \"day\": 5, \"month\": 1, \"year\": 2013, \"hour\": 1, \"day_of_week\": 5, \"pred\": 29.642857142857146}, {\"datetime\": \"2013-01-05T01:00:00\", \"temperature\": 56.4, \"city_Detroit\": 0, \"city_San Diego\": 1, \"city_San Francisco\": 0, \"city\": \"San Diego\", \"day\": 5, \"month\": 1, \"year\": 2013, \"hour\": 1, \"day_of_week\": 5, \"pred\": 56.0}, {\"datetime\": \"2013-01-05T01:00:00\", \"temperature\": 49.6, \"city_Detroit\": 0, \"city_San Diego\": 0, \"city_San Francisco\": 1, \"city\": \"San Francisco\", \"day\": 5, \"month\": 1, \"year\": 2013, \"hour\": 1, \"day_of_week\": 5, \"pred\": 50.333333333333336}, {\"datetime\": \"2013-01-05T02:00:00\", \"temperature\": 29.9, \"city_Detroit\": 1, \"city_San Diego\": 0, \"city_San Francisco\": 0, \"city\": \"Detroit\", \"day\": 5, \"month\": 1, \"year\": 2013, \"hour\": 2, \"day_of_week\": 5, \"pred\": 29.642857142857146}, {\"datetime\": \"2013-01-05T02:00:00\", \"temperature\": 54.1, \"city_Detroit\": 0, \"city_San Diego\": 1, \"city_San Francisco\": 0, \"city\": \"San Diego\", \"day\": 5, \"month\": 1, \"year\": 2013, \"hour\": 2, \"day_of_week\": 5, \"pred\": 52.56666666666666}, {\"datetime\": \"2013-01-05T02:00:00\", \"temperature\": 47.7, \"city_Detroit\": 0, \"city_San Diego\": 0, \"city_San Francisco\": 1, \"city\": \"San Francisco\", \"day\": 5, \"month\": 1, \"year\": 2013, \"hour\": 2, \"day_of_week\": 5, \"pred\": 48.23333333333333}, {\"datetime\": \"2013-01-05T03:00:00\", \"temperature\": 30.5, \"city_Detroit\": 1, \"city_San Diego\": 0, \"city_San Francisco\": 0, \"city\": \"Detroit\", \"day\": 5, \"month\": 1, \"year\": 2013, \"hour\": 3, \"day_of_week\": 5, \"pred\": 29.642857142857146}, {\"datetime\": \"2013-01-05T03:00:00\", \"temperature\": 52.4, \"city_Detroit\": 0, \"city_San Diego\": 1, \"city_San Francisco\": 0, \"city\": \"San Diego\", \"day\": 5, \"month\": 1, \"year\": 2013, \"hour\": 3, \"day_of_week\": 5, \"pred\": 50.2}, {\"datetime\": \"2013-01-05T03:00:00\", \"temperature\": 46.3, \"city_Detroit\": 0, \"city_San Diego\": 0, \"city_San Francisco\": 1, \"city\": \"San Francisco\", \"day\": 5, \"month\": 1, \"year\": 2013, \"hour\": 3, \"day_of_week\": 5, \"pred\": 46.133333333333326}, {\"datetime\": \"2013-01-05T04:00:00\", \"temperature\": 52.0, \"city_Detroit\": 0, \"city_San Diego\": 1, \"city_San Francisco\": 0, \"city\": \"San Diego\", \"day\": 5, \"month\": 1, \"year\": 2013, \"hour\": 4, \"day_of_week\": 5, \"pred\": 50.25}, {\"datetime\": \"2013-01-05T04:00:00\", \"temperature\": 30.5, \"city_Detroit\": 1, \"city_San Diego\": 0, \"city_San Francisco\": 0, \"city\": \"Detroit\", \"day\": 5, \"month\": 1, \"year\": 2013, \"hour\": 4, \"day_of_week\": 5, \"pred\": 29.642857142857146}, {\"datetime\": \"2013-01-05T04:00:00\", \"temperature\": 43.5, \"city_Detroit\": 0, \"city_San Diego\": 0, \"city_San Francisco\": 1, \"city\": \"San Francisco\", \"day\": 5, \"month\": 1, \"year\": 2013, \"hour\": 4, \"day_of_week\": 5, \"pred\": 43.36666666666667}, {\"datetime\": \"2013-01-05T05:00:00\", \"temperature\": 51.0, \"city_Detroit\": 0, \"city_San Diego\": 1, \"city_San Francisco\": 0, \"city\": \"San Diego\", \"day\": 5, \"month\": 1, \"year\": 2013, \"hour\": 5, \"day_of_week\": 5, \"pred\": 50.25}, {\"datetime\": \"2013-01-05T05:00:00\", \"temperature\": 29.8, \"city_Detroit\": 1, \"city_San Diego\": 0, \"city_San Francisco\": 0, \"city\": \"Detroit\", \"day\": 5, \"month\": 1, \"year\": 2013, \"hour\": 5, \"day_of_week\": 5, \"pred\": 29.642857142857146}, {\"datetime\": \"2013-01-05T05:00:00\", \"temperature\": 42.2, \"city_Detroit\": 0, \"city_San Diego\": 0, \"city_San Francisco\": 1, \"city\": \"San Francisco\", \"day\": 5, \"month\": 1, \"year\": 2013, \"hour\": 5, \"day_of_week\": 5, \"pred\": 40.916666666666664}, {\"datetime\": \"2013-01-05T06:00:00\", \"temperature\": 42.2, \"city_Detroit\": 0, \"city_San Diego\": 0, \"city_San Francisco\": 1, \"city\": \"San Francisco\", \"day\": 5, \"month\": 1, \"year\": 2013, \"hour\": 6, \"day_of_week\": 5, \"pred\": 40.916666666666664}, {\"datetime\": \"2013-01-05T06:00:00\", \"temperature\": 26.8, \"city_Detroit\": 1, \"city_San Diego\": 0, \"city_San Francisco\": 0, \"city\": \"Detroit\", \"day\": 5, \"month\": 1, \"year\": 2013, \"hour\": 6, \"day_of_week\": 5, \"pred\": 29.642857142857146}, {\"datetime\": \"2013-01-05T06:00:00\", \"temperature\": 44.2, \"city_Detroit\": 0, \"city_San Diego\": 1, \"city_San Francisco\": 0, \"city\": \"San Diego\", \"day\": 5, \"month\": 1, \"year\": 2013, \"hour\": 6, \"day_of_week\": 5, \"pred\": 42.030000000000015}, {\"datetime\": \"2013-01-05T07:00:00\", \"temperature\": 43.1, \"city_Detroit\": 0, \"city_San Diego\": 0, \"city_San Francisco\": 1, \"city\": \"San Francisco\", \"day\": 5, \"month\": 1, \"year\": 2013, \"hour\": 7, \"day_of_week\": 5, \"pred\": 40.916666666666664}, {\"datetime\": \"2013-01-05T07:00:00\", \"temperature\": 26.2, \"city_Detroit\": 0, \"city_San Diego\": 1, \"city_San Francisco\": 0, \"city\": \"San Diego\", \"day\": 5, \"month\": 1, \"year\": 2013, \"hour\": 7, \"day_of_week\": 5, \"pred\": 42.030000000000015}, {\"datetime\": \"2013-01-05T07:00:00\", \"temperature\": 20.6, \"city_Detroit\": 1, \"city_San Diego\": 0, \"city_San Francisco\": 0, \"city\": \"Detroit\", \"day\": 5, \"month\": 1, \"year\": 2013, \"hour\": 7, \"day_of_week\": 5, \"pred\": 25.520000000000003}, {\"datetime\": \"2013-01-05T08:00:00\", \"temperature\": 42.6, \"city_Detroit\": 0, \"city_San Diego\": 0, \"city_San Francisco\": 1, \"city\": \"San Francisco\", \"day\": 5, \"month\": 1, \"year\": 2013, \"hour\": 8, \"day_of_week\": 5, \"pred\": 40.916666666666664}, {\"datetime\": \"2013-01-05T08:00:00\", \"temperature\": 24.9, \"city_Detroit\": 0, \"city_San Diego\": 1, \"city_San Francisco\": 0, \"city\": \"San Diego\", \"day\": 5, \"month\": 1, \"year\": 2013, \"hour\": 8, \"day_of_week\": 5, \"pred\": 42.030000000000015}, {\"datetime\": \"2013-01-05T08:00:00\", \"temperature\": 19.2, \"city_Detroit\": 1, \"city_San Diego\": 0, \"city_San Francisco\": 0, \"city\": \"Detroit\", \"day\": 5, \"month\": 1, \"year\": 2013, \"hour\": 8, \"day_of_week\": 5, \"pred\": 25.520000000000003}, {\"datetime\": \"2013-01-05T09:00:00\", \"temperature\": 27.5, \"city_Detroit\": 1, \"city_San Diego\": 0, \"city_San Francisco\": 0, \"city\": \"Detroit\", \"day\": 5, \"month\": 1, \"year\": 2013, \"hour\": 9, \"day_of_week\": 5, \"pred\": 25.520000000000003}, {\"datetime\": \"2013-01-05T09:00:00\", \"temperature\": 40.6, \"city_Detroit\": 0, \"city_San Diego\": 1, \"city_San Francisco\": 0, \"city\": \"San Diego\", \"day\": 5, \"month\": 1, \"year\": 2013, \"hour\": 9, \"day_of_week\": 5, \"pred\": 42.030000000000015}, {\"datetime\": \"2013-01-05T09:00:00\", \"temperature\": 40.2, \"city_Detroit\": 0, \"city_San Diego\": 0, \"city_San Francisco\": 1, \"city\": \"San Francisco\", \"day\": 5, \"month\": 1, \"year\": 2013, \"hour\": 9, \"day_of_week\": 5, \"pred\": 37.60833333333333}, {\"datetime\": \"2013-01-05T10:00:00\", \"temperature\": 44.9, \"city_Detroit\": 0, \"city_San Diego\": 1, \"city_San Francisco\": 0, \"city\": \"San Diego\", \"day\": 5, \"month\": 1, \"year\": 2013, \"hour\": 10, \"day_of_week\": 5, \"pred\": 42.030000000000015}, {\"datetime\": \"2013-01-05T10:00:00\", \"temperature\": 39.1, \"city_Detroit\": 0, \"city_San Diego\": 0, \"city_San Francisco\": 1, \"city\": \"San Francisco\", \"day\": 5, \"month\": 1, \"year\": 2013, \"hour\": 10, \"day_of_week\": 5, \"pred\": 37.60833333333333}, {\"datetime\": \"2013-01-05T10:00:00\", \"temperature\": 29.3, \"city_Detroit\": 1, \"city_San Diego\": 0, \"city_San Francisco\": 0, \"city\": \"Detroit\", \"day\": 5, \"month\": 1, \"year\": 2013, \"hour\": 10, \"day_of_week\": 5, \"pred\": 25.520000000000003}, {\"datetime\": \"2013-01-05T11:00:00\", \"temperature\": 29.3, \"city_Detroit\": 1, \"city_San Diego\": 0, \"city_San Francisco\": 0, \"city\": \"Detroit\", \"day\": 5, \"month\": 1, \"year\": 2013, \"hour\": 11, \"day_of_week\": 5, \"pred\": 25.520000000000003}, {\"datetime\": \"2013-01-05T11:00:00\", \"temperature\": 38.6, \"city_Detroit\": 0, \"city_San Diego\": 0, \"city_San Francisco\": 1, \"city\": \"San Francisco\", \"day\": 5, \"month\": 1, \"year\": 2013, \"hour\": 11, \"day_of_week\": 5, \"pred\": 37.60833333333333}, {\"datetime\": \"2013-01-05T11:00:00\", \"temperature\": 43.4, \"city_Detroit\": 0, \"city_San Diego\": 1, \"city_San Francisco\": 0, \"city\": \"San Diego\", \"day\": 5, \"month\": 1, \"year\": 2013, \"hour\": 11, \"day_of_week\": 5, \"pred\": 42.030000000000015}, {\"datetime\": \"2013-01-05T12:00:00\", \"temperature\": 38.1, \"city_Detroit\": 0, \"city_San Diego\": 0, \"city_San Francisco\": 1, \"city\": \"San Francisco\", \"day\": 5, \"month\": 1, \"year\": 2013, \"hour\": 12, \"day_of_week\": 5, \"pred\": 37.60833333333333}, {\"datetime\": \"2013-01-05T12:00:00\", \"temperature\": 27.9, \"city_Detroit\": 1, \"city_San Diego\": 0, \"city_San Francisco\": 0, \"city\": \"Detroit\", \"day\": 5, \"month\": 1, \"year\": 2013, \"hour\": 12, \"day_of_week\": 5, \"pred\": 25.520000000000003}, {\"datetime\": \"2013-01-05T12:00:00\", \"temperature\": 42.7, \"city_Detroit\": 0, \"city_San Diego\": 1, \"city_San Francisco\": 0, \"city\": \"San Diego\", \"day\": 5, \"month\": 1, \"year\": 2013, \"hour\": 12, \"day_of_week\": 5, \"pred\": 42.030000000000015}, {\"datetime\": \"2013-01-05T13:00:00\", \"temperature\": 37.6, \"city_Detroit\": 0, \"city_San Diego\": 0, \"city_San Francisco\": 1, \"city\": \"San Francisco\", \"day\": 5, \"month\": 1, \"year\": 2013, \"hour\": 13, \"day_of_week\": 5, \"pred\": 37.60833333333333}, {\"datetime\": \"2013-01-05T13:00:00\", \"temperature\": 26.4, \"city_Detroit\": 1, \"city_San Diego\": 0, \"city_San Francisco\": 0, \"city\": \"Detroit\", \"day\": 5, \"month\": 1, \"year\": 2013, \"hour\": 13, \"day_of_week\": 5, \"pred\": 25.520000000000003}, {\"datetime\": \"2013-01-05T13:00:00\", \"temperature\": 41.9, \"city_Detroit\": 0, \"city_San Diego\": 1, \"city_San Francisco\": 0, \"city\": \"San Diego\", \"day\": 5, \"month\": 1, \"year\": 2013, \"hour\": 13, \"day_of_week\": 5, \"pred\": 42.030000000000015}, {\"datetime\": \"2013-01-05T14:00:00\", \"temperature\": 24.9, \"city_Detroit\": 1, \"city_San Diego\": 0, \"city_San Francisco\": 0, \"city\": \"Detroit\", \"day\": 5, \"month\": 1, \"year\": 2013, \"hour\": 14, \"day_of_week\": 5, \"pred\": 25.520000000000003}, {\"datetime\": \"2013-01-05T14:00:00\", \"temperature\": 40.8, \"city_Detroit\": 0, \"city_San Diego\": 1, \"city_San Francisco\": 0, \"city\": \"San Diego\", \"day\": 5, \"month\": 1, \"year\": 2013, \"hour\": 14, \"day_of_week\": 5, \"pred\": 42.030000000000015}, {\"datetime\": \"2013-01-05T14:00:00\", \"temperature\": 37.8, \"city_Detroit\": 0, \"city_San Diego\": 0, \"city_San Francisco\": 1, \"city\": \"San Francisco\", \"day\": 5, \"month\": 1, \"year\": 2013, \"hour\": 14, \"day_of_week\": 5, \"pred\": 37.60833333333333}, {\"datetime\": \"2013-01-05T15:00:00\", \"temperature\": 24.4, \"city_Detroit\": 1, \"city_San Diego\": 0, \"city_San Francisco\": 0, \"city\": \"Detroit\", \"day\": 5, \"month\": 1, \"year\": 2013, \"hour\": 15, \"day_of_week\": 5, \"pred\": 25.520000000000003}, {\"datetime\": \"2013-01-05T15:00:00\", \"temperature\": 38.0, \"city_Detroit\": 0, \"city_San Diego\": 0, \"city_San Francisco\": 1, \"city\": \"San Francisco\", \"day\": 5, \"month\": 1, \"year\": 2013, \"hour\": 15, \"day_of_week\": 5, \"pred\": 37.60833333333333}, {\"datetime\": \"2013-01-05T15:00:00\", \"temperature\": 43.4, \"city_Detroit\": 0, \"city_San Diego\": 1, \"city_San Francisco\": 0, \"city\": \"San Diego\", \"day\": 5, \"month\": 1, \"year\": 2013, \"hour\": 15, \"day_of_week\": 5, \"pred\": 42.030000000000015}, {\"datetime\": \"2013-01-05T16:00:00\", \"temperature\": 25.7, \"city_Detroit\": 1, \"city_San Diego\": 0, \"city_San Francisco\": 0, \"city\": \"Detroit\", \"day\": 5, \"month\": 1, \"year\": 2013, \"hour\": 16, \"day_of_week\": 5, \"pred\": 25.520000000000003}, {\"datetime\": \"2013-01-05T16:00:00\", \"temperature\": 47.9, \"city_Detroit\": 0, \"city_San Diego\": 1, \"city_San Francisco\": 0, \"city\": \"San Diego\", \"day\": 5, \"month\": 1, \"year\": 2013, \"hour\": 16, \"day_of_week\": 5, \"pred\": 46.14}, {\"datetime\": \"2013-01-05T16:00:00\", \"temperature\": 38.0, \"city_Detroit\": 0, \"city_San Diego\": 0, \"city_San Francisco\": 1, \"city\": \"San Francisco\", \"day\": 5, \"month\": 1, \"year\": 2013, \"hour\": 16, \"day_of_week\": 5, \"pred\": 37.60833333333333}, {\"datetime\": \"2013-01-05T17:00:00\", \"temperature\": 42.8, \"city_Detroit\": 0, \"city_San Diego\": 0, \"city_San Francisco\": 1, \"city\": \"San Francisco\", \"day\": 5, \"month\": 1, \"year\": 2013, \"hour\": 17, \"day_of_week\": 5, \"pred\": 41.96666666666667}, {\"datetime\": \"2013-01-05T17:00:00\", \"temperature\": 56.3, \"city_Detroit\": 0, \"city_San Diego\": 1, \"city_San Francisco\": 0, \"city\": \"San Diego\", \"day\": 5, \"month\": 1, \"year\": 2013, \"hour\": 17, \"day_of_week\": 5, \"pred\": 56.3}, {\"datetime\": \"2013-01-05T17:00:00\", \"temperature\": 28.6, \"city_Detroit\": 1, \"city_San Diego\": 0, \"city_San Francisco\": 0, \"city\": \"Detroit\", \"day\": 5, \"month\": 1, \"year\": 2013, \"hour\": 17, \"day_of_week\": 5, \"pred\": 28.6}, {\"datetime\": \"2013-01-05T18:00:00\", \"temperature\": 61.2, \"city_Detroit\": 0, \"city_San Diego\": 1, \"city_San Francisco\": 0, \"city\": \"San Diego\", \"day\": 5, \"month\": 1, \"year\": 2013, \"hour\": 18, \"day_of_week\": 5, \"pred\": 61.2}, {\"datetime\": \"2013-01-05T18:00:00\", \"temperature\": 47.9, \"city_Detroit\": 0, \"city_San Diego\": 0, \"city_San Francisco\": 1, \"city\": \"San Francisco\", \"day\": 5, \"month\": 1, \"year\": 2013, \"hour\": 18, \"day_of_week\": 5, \"pred\": 47.9}, {\"datetime\": \"2013-01-05T18:00:00\", \"temperature\": 28.9, \"city_Detroit\": 1, \"city_San Diego\": 0, \"city_San Francisco\": 0, \"city\": \"Detroit\", \"day\": 5, \"month\": 1, \"year\": 2013, \"hour\": 18, \"day_of_week\": 5, \"pred\": 28.9}, {\"datetime\": \"2013-01-05T19:00:00\", \"temperature\": 51.6, \"city_Detroit\": 0, \"city_San Diego\": 0, \"city_San Francisco\": 1, \"city\": \"San Francisco\", \"day\": 5, \"month\": 1, \"year\": 2013, \"hour\": 19, \"day_of_week\": 5, \"pred\": 51.6}, {\"datetime\": \"2013-01-05T19:00:00\", \"temperature\": 29.6, \"city_Detroit\": 1, \"city_San Diego\": 0, \"city_San Francisco\": 0, \"city\": \"Detroit\", \"day\": 5, \"month\": 1, \"year\": 2013, \"hour\": 19, \"day_of_week\": 5, \"pred\": 29.633333333333336}, {\"datetime\": \"2013-01-05T19:00:00\", \"temperature\": 62.8, \"city_Detroit\": 0, \"city_San Diego\": 1, \"city_San Francisco\": 0, \"city\": \"San Diego\", \"day\": 5, \"month\": 1, \"year\": 2013, \"hour\": 19, \"day_of_week\": 5, \"pred\": 63.724999999999994}, {\"datetime\": \"2013-01-05T20:00:00\", \"temperature\": 63.4, \"city_Detroit\": 0, \"city_San Diego\": 1, \"city_San Francisco\": 0, \"city\": \"San Diego\", \"day\": 5, \"month\": 1, \"year\": 2013, \"hour\": 20, \"day_of_week\": 5, \"pred\": 63.724999999999994}, {\"datetime\": \"2013-01-05T20:00:00\", \"temperature\": 53.2, \"city_Detroit\": 0, \"city_San Diego\": 0, \"city_San Francisco\": 1, \"city\": \"San Francisco\", \"day\": 5, \"month\": 1, \"year\": 2013, \"hour\": 20, \"day_of_week\": 5, \"pred\": 50.82857142857143}, {\"datetime\": \"2013-01-05T20:00:00\", \"temperature\": 29.9, \"city_Detroit\": 1, \"city_San Diego\": 0, \"city_San Francisco\": 0, \"city\": \"Detroit\", \"day\": 5, \"month\": 1, \"year\": 2013, \"hour\": 20, \"day_of_week\": 5, \"pred\": 29.633333333333336}, {\"datetime\": \"2013-01-05T21:00:00\", \"temperature\": 29.4, \"city_Detroit\": 1, \"city_San Diego\": 0, \"city_San Francisco\": 0, \"city\": \"Detroit\", \"day\": 5, \"month\": 1, \"year\": 2013, \"hour\": 21, \"day_of_week\": 5, \"pred\": 29.633333333333336}, {\"datetime\": \"2013-01-05T21:00:00\", \"temperature\": 64.0, \"city_Detroit\": 0, \"city_San Diego\": 1, \"city_San Francisco\": 0, \"city\": \"San Diego\", \"day\": 5, \"month\": 1, \"year\": 2013, \"hour\": 21, \"day_of_week\": 5, \"pred\": 63.724999999999994}, {\"datetime\": \"2013-01-05T21:00:00\", \"temperature\": 54.3, \"city_Detroit\": 0, \"city_San Diego\": 0, \"city_San Francisco\": 1, \"city\": \"San Francisco\", \"day\": 5, \"month\": 1, \"year\": 2013, \"hour\": 21, \"day_of_week\": 5, \"pred\": 52.63809523809523}, {\"datetime\": \"2013-01-05T22:00:00\", \"temperature\": 28.9, \"city_Detroit\": 1, \"city_San Diego\": 0, \"city_San Francisco\": 0, \"city\": \"Detroit\", \"day\": 5, \"month\": 1, \"year\": 2013, \"hour\": 22, \"day_of_week\": 5, \"pred\": 28.75}, {\"datetime\": \"2013-01-05T22:00:00\", \"temperature\": 64.7, \"city_Detroit\": 0, \"city_San Diego\": 1, \"city_San Francisco\": 0, \"city\": \"San Diego\", \"day\": 5, \"month\": 1, \"year\": 2013, \"hour\": 22, \"day_of_week\": 5, \"pred\": 63.724999999999994}, {\"datetime\": \"2013-01-05T22:00:00\", \"temperature\": 54.9, \"city_Detroit\": 0, \"city_San Diego\": 0, \"city_San Francisco\": 1, \"city\": \"San Francisco\", \"day\": 5, \"month\": 1, \"year\": 2013, \"hour\": 22, \"day_of_week\": 5, \"pred\": 52.63809523809523}, {\"datetime\": \"2013-01-05T23:00:00\", \"temperature\": 62.5, \"city_Detroit\": 0, \"city_San Diego\": 1, \"city_San Francisco\": 0, \"city\": \"San Diego\", \"day\": 5, \"month\": 1, \"year\": 2013, \"hour\": 23, \"day_of_week\": 5, \"pred\": 62.5}, {\"datetime\": \"2013-01-05T23:00:00\", \"temperature\": 54.4, \"city_Detroit\": 0, \"city_San Diego\": 0, \"city_San Francisco\": 1, \"city\": \"San Francisco\", \"day\": 5, \"month\": 1, \"year\": 2013, \"hour\": 23, \"day_of_week\": 5, \"pred\": 52.63809523809523}, {\"datetime\": \"2013-01-05T23:00:00\", \"temperature\": 28.6, \"city_Detroit\": 1, \"city_San Diego\": 0, \"city_San Francisco\": 0, \"city\": \"Detroit\", \"day\": 5, \"month\": 1, \"year\": 2013, \"hour\": 23, \"day_of_week\": 5, \"pred\": 28.75}, {\"datetime\": \"2013-01-06T00:00:00\", \"temperature\": 59.5, \"city_Detroit\": 0, \"city_San Diego\": 1, \"city_San Francisco\": 0, \"city\": \"San Diego\", \"day\": 6, \"month\": 1, \"year\": 2013, \"hour\": 0, \"day_of_week\": 6, \"pred\": 59.53333333333333}, {\"datetime\": \"2013-01-06T00:00:00\", \"temperature\": 53.9, \"city_Detroit\": 0, \"city_San Diego\": 0, \"city_San Francisco\": 1, \"city\": \"San Francisco\", \"day\": 6, \"month\": 1, \"year\": 2013, \"hour\": 0, \"day_of_week\": 6, \"pred\": 54.5}, {\"datetime\": \"2013-01-06T00:00:00\", \"temperature\": 28.3, \"city_Detroit\": 1, \"city_San Diego\": 0, \"city_San Francisco\": 0, \"city\": \"Detroit\", \"day\": 6, \"month\": 1, \"year\": 2013, \"hour\": 0, \"day_of_week\": 6, \"pred\": 26.32857142857143}, {\"datetime\": \"2013-01-06T01:00:00\", \"temperature\": 27.3, \"city_Detroit\": 1, \"city_San Diego\": 0, \"city_San Francisco\": 0, \"city\": \"Detroit\", \"day\": 6, \"month\": 1, \"year\": 2013, \"hour\": 1, \"day_of_week\": 6, \"pred\": 26.32857142857143}, {\"datetime\": \"2013-01-06T01:00:00\", \"temperature\": 51.0, \"city_Detroit\": 0, \"city_San Diego\": 0, \"city_San Francisco\": 1, \"city\": \"San Francisco\", \"day\": 6, \"month\": 1, \"year\": 2013, \"hour\": 1, \"day_of_week\": 6, \"pred\": 50.333333333333336}, {\"datetime\": \"2013-01-06T01:00:00\", \"temperature\": 55.1, \"city_Detroit\": 0, \"city_San Diego\": 1, \"city_San Francisco\": 0, \"city\": \"San Diego\", \"day\": 6, \"month\": 1, \"year\": 2013, \"hour\": 1, \"day_of_week\": 6, \"pred\": 56.0}, {\"datetime\": \"2013-01-06T02:00:00\", \"temperature\": 48.5, \"city_Detroit\": 0, \"city_San Diego\": 0, \"city_San Francisco\": 1, \"city\": \"San Francisco\", \"day\": 6, \"month\": 1, \"year\": 2013, \"hour\": 2, \"day_of_week\": 6, \"pred\": 48.23333333333333}, {\"datetime\": \"2013-01-06T02:00:00\", \"temperature\": 26.8, \"city_Detroit\": 1, \"city_San Diego\": 0, \"city_San Francisco\": 0, \"city\": \"Detroit\", \"day\": 6, \"month\": 1, \"year\": 2013, \"hour\": 2, \"day_of_week\": 6, \"pred\": 26.32857142857143}, {\"datetime\": \"2013-01-06T02:00:00\", \"temperature\": 51.9, \"city_Detroit\": 0, \"city_San Diego\": 1, \"city_San Francisco\": 0, \"city\": \"San Diego\", \"day\": 6, \"month\": 1, \"year\": 2013, \"hour\": 2, \"day_of_week\": 6, \"pred\": 52.56666666666666}, {\"datetime\": \"2013-01-06T03:00:00\", \"temperature\": 46.4, \"city_Detroit\": 0, \"city_San Diego\": 0, \"city_San Francisco\": 1, \"city\": \"San Francisco\", \"day\": 6, \"month\": 1, \"year\": 2013, \"hour\": 3, \"day_of_week\": 6, \"pred\": 46.133333333333326}, {\"datetime\": \"2013-01-06T03:00:00\", \"temperature\": 48.7, \"city_Detroit\": 0, \"city_San Diego\": 1, \"city_San Francisco\": 0, \"city\": \"San Diego\", \"day\": 6, \"month\": 1, \"year\": 2013, \"hour\": 3, \"day_of_week\": 6, \"pred\": 50.2}, {\"datetime\": \"2013-01-06T03:00:00\", \"temperature\": 26.0, \"city_Detroit\": 1, \"city_San Diego\": 0, \"city_San Francisco\": 0, \"city\": \"Detroit\", \"day\": 6, \"month\": 1, \"year\": 2013, \"hour\": 3, \"day_of_week\": 6, \"pred\": 26.32857142857143}, {\"datetime\": \"2013-01-06T04:00:00\", \"temperature\": 45.2, \"city_Detroit\": 0, \"city_San Diego\": 0, \"city_San Francisco\": 1, \"city\": \"San Francisco\", \"day\": 6, \"month\": 1, \"year\": 2013, \"hour\": 4, \"day_of_week\": 6, \"pred\": 43.43333333333333}, {\"datetime\": \"2013-01-06T04:00:00\", \"temperature\": 47.6, \"city_Detroit\": 0, \"city_San Diego\": 1, \"city_San Francisco\": 0, \"city\": \"San Diego\", \"day\": 6, \"month\": 1, \"year\": 2013, \"hour\": 4, \"day_of_week\": 6, \"pred\": 43.67692307692308}, {\"datetime\": \"2013-01-06T04:00:00\", \"temperature\": 26.0, \"city_Detroit\": 1, \"city_San Diego\": 0, \"city_San Francisco\": 0, \"city\": \"Detroit\", \"day\": 6, \"month\": 1, \"year\": 2013, \"hour\": 4, \"day_of_week\": 6, \"pred\": 26.32857142857143}, {\"datetime\": \"2013-01-06T05:00:00\", \"temperature\": 43.4, \"city_Detroit\": 0, \"city_San Diego\": 0, \"city_San Francisco\": 1, \"city\": \"San Francisco\", \"day\": 6, \"month\": 1, \"year\": 2013, \"hour\": 5, \"day_of_week\": 6, \"pred\": 43.43333333333333}, {\"datetime\": \"2013-01-06T05:00:00\", \"temperature\": 45.6, \"city_Detroit\": 0, \"city_San Diego\": 1, \"city_San Francisco\": 0, \"city\": \"San Diego\", \"day\": 6, \"month\": 1, \"year\": 2013, \"hour\": 5, \"day_of_week\": 6, \"pred\": 43.67692307692308}, {\"datetime\": \"2013-01-06T05:00:00\", \"temperature\": 25.1, \"city_Detroit\": 1, \"city_San Diego\": 0, \"city_San Francisco\": 0, \"city\": \"Detroit\", \"day\": 6, \"month\": 1, \"year\": 2013, \"hour\": 5, \"day_of_week\": 6, \"pred\": 26.32857142857143}, {\"datetime\": \"2013-01-06T06:00:00\", \"temperature\": 24.8, \"city_Detroit\": 1, \"city_San Diego\": 0, \"city_San Francisco\": 0, \"city\": \"Detroit\", \"day\": 6, \"month\": 1, \"year\": 2013, \"hour\": 6, \"day_of_week\": 6, \"pred\": 26.32857142857143}, {\"datetime\": \"2013-01-06T06:00:00\", \"temperature\": 44.9, \"city_Detroit\": 0, \"city_San Diego\": 1, \"city_San Francisco\": 0, \"city\": \"San Diego\", \"day\": 6, \"month\": 1, \"year\": 2013, \"hour\": 6, \"day_of_week\": 6, \"pred\": 43.67692307692308}, {\"datetime\": \"2013-01-06T06:00:00\", \"temperature\": 42.5, \"city_Detroit\": 0, \"city_San Diego\": 0, \"city_San Francisco\": 1, \"city\": \"San Francisco\", \"day\": 6, \"month\": 1, \"year\": 2013, \"hour\": 6, \"day_of_week\": 6, \"pred\": 43.43333333333333}, {\"datetime\": \"2013-01-06T07:00:00\", \"temperature\": 43.7, \"city_Detroit\": 0, \"city_San Diego\": 1, \"city_San Francisco\": 0, \"city\": \"San Diego\", \"day\": 6, \"month\": 1, \"year\": 2013, \"hour\": 7, \"day_of_week\": 6, \"pred\": 43.67692307692308}, {\"datetime\": \"2013-01-06T07:00:00\", \"temperature\": 41.6, \"city_Detroit\": 0, \"city_San Diego\": 0, \"city_San Francisco\": 1, \"city\": \"San Francisco\", \"day\": 6, \"month\": 1, \"year\": 2013, \"hour\": 7, \"day_of_week\": 6, \"pred\": 40.24090909090909}, {\"datetime\": \"2013-01-06T07:00:00\", \"temperature\": 23.9, \"city_Detroit\": 1, \"city_San Diego\": 0, \"city_San Francisco\": 0, \"city\": \"Detroit\", \"day\": 6, \"month\": 1, \"year\": 2013, \"hour\": 7, \"day_of_week\": 6, \"pred\": 22.490000000000002}, {\"datetime\": \"2013-01-06T08:00:00\", \"temperature\": 40.0, \"city_Detroit\": 0, \"city_San Diego\": 0, \"city_San Francisco\": 1, \"city\": \"San Francisco\", \"day\": 6, \"month\": 1, \"year\": 2013, \"hour\": 8, \"day_of_week\": 6, \"pred\": 40.24090909090909}, {\"datetime\": \"2013-01-06T08:00:00\", \"temperature\": 23.4, \"city_Detroit\": 1, \"city_San Diego\": 0, \"city_San Francisco\": 0, \"city\": \"Detroit\", \"day\": 6, \"month\": 1, \"year\": 2013, \"hour\": 8, \"day_of_week\": 6, \"pred\": 22.490000000000002}, {\"datetime\": \"2013-01-06T08:00:00\", \"temperature\": 42.7, \"city_Detroit\": 0, \"city_San Diego\": 1, \"city_San Francisco\": 0, \"city\": \"San Diego\", \"day\": 6, \"month\": 1, \"year\": 2013, \"hour\": 8, \"day_of_week\": 6, \"pred\": 43.67692307692308}, {\"datetime\": \"2013-01-06T09:00:00\", \"temperature\": 23.1, \"city_Detroit\": 1, \"city_San Diego\": 0, \"city_San Francisco\": 0, \"city\": \"Detroit\", \"day\": 6, \"month\": 1, \"year\": 2013, \"hour\": 9, \"day_of_week\": 6, \"pred\": 22.490000000000002}, {\"datetime\": \"2013-01-06T09:00:00\", \"temperature\": 42.2, \"city_Detroit\": 0, \"city_San Diego\": 1, \"city_San Francisco\": 0, \"city\": \"San Diego\", \"day\": 6, \"month\": 1, \"year\": 2013, \"hour\": 9, \"day_of_week\": 6, \"pred\": 43.67692307692308}, {\"datetime\": \"2013-01-06T09:00:00\", \"temperature\": 39.4, \"city_Detroit\": 0, \"city_San Diego\": 0, \"city_San Francisco\": 1, \"city\": \"San Francisco\", \"day\": 6, \"month\": 1, \"year\": 2013, \"hour\": 9, \"day_of_week\": 6, \"pred\": 40.24090909090909}, {\"datetime\": \"2013-01-06T10:00:00\", \"temperature\": 22.1, \"city_Detroit\": 1, \"city_San Diego\": 0, \"city_San Francisco\": 0, \"city\": \"Detroit\", \"day\": 6, \"month\": 1, \"year\": 2013, \"hour\": 10, \"day_of_week\": 6, \"pred\": 22.490000000000002}, {\"datetime\": \"2013-01-06T10:00:00\", \"temperature\": 42.0, \"city_Detroit\": 0, \"city_San Diego\": 1, \"city_San Francisco\": 0, \"city\": \"San Diego\", \"day\": 6, \"month\": 1, \"year\": 2013, \"hour\": 10, \"day_of_week\": 6, \"pred\": 43.67692307692308}, {\"datetime\": \"2013-01-06T10:00:00\", \"temperature\": 38.9, \"city_Detroit\": 0, \"city_San Diego\": 0, \"city_San Francisco\": 1, \"city\": \"San Francisco\", \"day\": 6, \"month\": 1, \"year\": 2013, \"hour\": 10, \"day_of_week\": 6, \"pred\": 40.24090909090909}, {\"datetime\": \"2013-01-06T11:00:00\", \"temperature\": 20.8, \"city_Detroit\": 1, \"city_San Diego\": 0, \"city_San Francisco\": 0, \"city\": \"Detroit\", \"day\": 6, \"month\": 1, \"year\": 2013, \"hour\": 11, \"day_of_week\": 6, \"pred\": 22.490000000000002}, {\"datetime\": \"2013-01-06T11:00:00\", \"temperature\": 42.5, \"city_Detroit\": 0, \"city_San Diego\": 1, \"city_San Francisco\": 0, \"city\": \"San Diego\", \"day\": 6, \"month\": 1, \"year\": 2013, \"hour\": 11, \"day_of_week\": 6, \"pred\": 43.67692307692308}, {\"datetime\": \"2013-01-06T11:00:00\", \"temperature\": 40.2, \"city_Detroit\": 0, \"city_San Diego\": 0, \"city_San Francisco\": 1, \"city\": \"San Francisco\", \"day\": 6, \"month\": 1, \"year\": 2013, \"hour\": 11, \"day_of_week\": 6, \"pred\": 40.24090909090909}, {\"datetime\": \"2013-01-06T12:00:00\", \"temperature\": 39.5, \"city_Detroit\": 0, \"city_San Diego\": 0, \"city_San Francisco\": 1, \"city\": \"San Francisco\", \"day\": 6, \"month\": 1, \"year\": 2013, \"hour\": 12, \"day_of_week\": 6, \"pred\": 40.24090909090909}, {\"datetime\": \"2013-01-06T12:00:00\", \"temperature\": 40.7, \"city_Detroit\": 0, \"city_San Diego\": 1, \"city_San Francisco\": 0, \"city\": \"San Diego\", \"day\": 6, \"month\": 1, \"year\": 2013, \"hour\": 12, \"day_of_week\": 6, \"pred\": 43.67692307692308}, {\"datetime\": \"2013-01-06T12:00:00\", \"temperature\": 20.4, \"city_Detroit\": 1, \"city_San Diego\": 0, \"city_San Francisco\": 0, \"city\": \"Detroit\", \"day\": 6, \"month\": 1, \"year\": 2013, \"hour\": 12, \"day_of_week\": 6, \"pred\": 22.490000000000002}, {\"datetime\": \"2013-01-06T13:00:00\", \"temperature\": 39.6, \"city_Detroit\": 0, \"city_San Diego\": 0, \"city_San Francisco\": 1, \"city\": \"San Francisco\", \"day\": 6, \"month\": 1, \"year\": 2013, \"hour\": 13, \"day_of_week\": 6, \"pred\": 40.24090909090909}, {\"datetime\": \"2013-01-06T13:00:00\", \"temperature\": 20.0, \"city_Detroit\": 1, \"city_San Diego\": 0, \"city_San Francisco\": 0, \"city\": \"Detroit\", \"day\": 6, \"month\": 1, \"year\": 2013, \"hour\": 13, \"day_of_week\": 6, \"pred\": 22.490000000000002}, {\"datetime\": \"2013-01-06T13:00:00\", \"temperature\": 40.9, \"city_Detroit\": 0, \"city_San Diego\": 1, \"city_San Francisco\": 0, \"city\": \"San Diego\", \"day\": 6, \"month\": 1, \"year\": 2013, \"hour\": 13, \"day_of_week\": 6, \"pred\": 43.67692307692308}, {\"datetime\": \"2013-01-06T14:00:00\", \"temperature\": 40.4, \"city_Detroit\": 0, \"city_San Diego\": 0, \"city_San Francisco\": 1, \"city\": \"San Francisco\", \"day\": 6, \"month\": 1, \"year\": 2013, \"hour\": 14, \"day_of_week\": 6, \"pred\": 40.24090909090909}, {\"datetime\": \"2013-01-06T14:00:00\", \"temperature\": 21.3, \"city_Detroit\": 1, \"city_San Diego\": 0, \"city_San Francisco\": 0, \"city\": \"Detroit\", \"day\": 6, \"month\": 1, \"year\": 2013, \"hour\": 14, \"day_of_week\": 6, \"pred\": 22.490000000000002}, {\"datetime\": \"2013-01-06T14:00:00\", \"temperature\": 40.1, \"city_Detroit\": 0, \"city_San Diego\": 1, \"city_San Francisco\": 0, \"city\": \"San Diego\", \"day\": 6, \"month\": 1, \"year\": 2013, \"hour\": 14, \"day_of_week\": 6, \"pred\": 43.67692307692308}, {\"datetime\": \"2013-01-06T15:00:00\", \"temperature\": 22.7, \"city_Detroit\": 1, \"city_San Diego\": 0, \"city_San Francisco\": 0, \"city\": \"Detroit\", \"day\": 6, \"month\": 1, \"year\": 2013, \"hour\": 15, \"day_of_week\": 6, \"pred\": 22.490000000000002}, {\"datetime\": \"2013-01-06T15:00:00\", \"temperature\": 41.5, \"city_Detroit\": 0, \"city_San Diego\": 1, \"city_San Francisco\": 0, \"city\": \"San Diego\", \"day\": 6, \"month\": 1, \"year\": 2013, \"hour\": 15, \"day_of_week\": 6, \"pred\": 43.67692307692308}, {\"datetime\": \"2013-01-06T15:00:00\", \"temperature\": 41.4, \"city_Detroit\": 0, \"city_San Diego\": 0, \"city_San Francisco\": 1, \"city\": \"San Francisco\", \"day\": 6, \"month\": 1, \"year\": 2013, \"hour\": 15, \"day_of_week\": 6, \"pred\": 40.24090909090909}, {\"datetime\": \"2013-01-06T16:00:00\", \"temperature\": 46.8, \"city_Detroit\": 0, \"city_San Diego\": 1, \"city_San Francisco\": 0, \"city\": \"San Diego\", \"day\": 6, \"month\": 1, \"year\": 2013, \"hour\": 16, \"day_of_week\": 6, \"pred\": 43.67692307692308}, {\"datetime\": \"2013-01-06T16:00:00\", \"temperature\": 27.2, \"city_Detroit\": 1, \"city_San Diego\": 0, \"city_San Francisco\": 0, \"city\": \"Detroit\", \"day\": 6, \"month\": 1, \"year\": 2013, \"hour\": 16, \"day_of_week\": 6, \"pred\": 22.490000000000002}, {\"datetime\": \"2013-01-06T16:00:00\", \"temperature\": 42.6, \"city_Detroit\": 0, \"city_San Diego\": 0, \"city_San Francisco\": 1, \"city\": \"San Francisco\", \"day\": 6, \"month\": 1, \"year\": 2013, \"hour\": 16, \"day_of_week\": 6, \"pred\": 40.24090909090909}, {\"datetime\": \"2013-01-06T17:00:00\", \"temperature\": 54.3, \"city_Detroit\": 0, \"city_San Diego\": 1, \"city_San Francisco\": 0, \"city\": \"San Diego\", \"day\": 6, \"month\": 1, \"year\": 2013, \"hour\": 17, \"day_of_week\": 6, \"pred\": 52.175}, {\"datetime\": \"2013-01-06T17:00:00\", \"temperature\": 29.3, \"city_Detroit\": 1, \"city_San Diego\": 0, \"city_San Francisco\": 0, \"city\": \"Detroit\", \"day\": 6, \"month\": 1, \"year\": 2013, \"hour\": 17, \"day_of_week\": 6, \"pred\": 29.3}, {\"datetime\": \"2013-01-06T17:00:00\", \"temperature\": 44.5, \"city_Detroit\": 0, \"city_San Diego\": 0, \"city_San Francisco\": 1, \"city\": \"San Francisco\", \"day\": 6, \"month\": 1, \"year\": 2013, \"hour\": 17, \"day_of_week\": 6, \"pred\": 40.24090909090909}, {\"datetime\": \"2013-01-06T18:00:00\", \"temperature\": 58.2, \"city_Detroit\": 0, \"city_San Diego\": 1, \"city_San Francisco\": 0, \"city\": \"San Diego\", \"day\": 6, \"month\": 1, \"year\": 2013, \"hour\": 18, \"day_of_week\": 6, \"pred\": 58.2}]}}, {\"mode\": \"vega-lite\"});\n",
       "</script>"
      ],
      "text/plain": [
       "alt.LayerChart(...)"
      ]
     },
     "execution_count": 46,
     "metadata": {},
     "output_type": "execute_result"
    }
   ],
   "source": [
    "c_true + c_14"
   ]
  },
  {
   "cell_type": "markdown",
   "metadata": {
    "cell_id": "4cba5b8e311040bd94c16c43ea9eead7",
    "deepnote_cell_type": "markdown"
   },
   "source": [
    "* How many leaf nodes are there in this case?  Use the method `get_n_leaves`."
   ]
  },
  {
   "cell_type": "code",
   "execution_count": 42,
   "metadata": {
    "cell_id": "86cb5a2d5d4a4d47beb3aca538914147",
    "deepnote_cell_type": "code",
    "deepnote_to_be_reexecuted": false,
    "execution_millis": 6,
    "execution_start": 1685565715482,
    "source_hash": "e90bf11b"
   },
   "outputs": [
    {
     "data": {
      "text/plain": [
       "12722"
      ]
     },
     "execution_count": 42,
     "metadata": {},
     "output_type": "execute_result"
    }
   ],
   "source": [
    "reg.get_n_leaves()"
   ]
  },
  {
   "cell_type": "markdown",
   "metadata": {},
   "source": [
    "The theoretical maximum number of leaf nodes for a depth of 14 is $2^{14}$."
   ]
  },
  {
   "cell_type": "code",
   "execution_count": 43,
   "metadata": {
    "cell_id": "5bed9c70d3fa4bd9bf9264c9523bbc34",
    "deepnote_cell_type": "code",
    "deepnote_to_be_reexecuted": false,
    "execution_millis": 4,
    "execution_start": 1685565767344,
    "source_hash": "5aeaca1d"
   },
   "outputs": [
    {
     "data": {
      "text/plain": [
       "16384"
      ]
     },
     "execution_count": 43,
     "metadata": {},
     "output_type": "execute_result"
    }
   ],
   "source": [
    "2**14"
   ]
  },
  {
   "cell_type": "markdown",
   "metadata": {
    "cell_id": "44795c41b2894656ad89d653e1f1c4da",
    "deepnote_cell_type": "markdown"
   },
   "source": [
    "* Do you think this new decision tree would do well at predicting unseen data?"
   ]
  },
  {
   "cell_type": "markdown",
   "metadata": {
    "cell_id": "e5407db74d0d4716b87580f44cb91fe3",
    "deepnote_cell_type": "markdown"
   },
   "source": [
    "No, I would expect poor performance on new data, because it is overfitting the input data."
   ]
  },
  {
   "cell_type": "markdown",
   "metadata": {
    "cell_id": "f4b867c41cef4f87b1777989a495d6a0",
    "deepnote_cell_type": "markdown"
   },
   "source": [
    "* I don't think using `train_test_split` makes much sense on this data, do you see why?"
   ]
  },
  {
   "cell_type": "markdown",
   "metadata": {
    "cell_id": "b0ebe3a788a44821b382e2f312143fbe",
    "deepnote_cell_type": "markdown"
   },
   "source": [
    "Imagine we separate the data into a training set and a test set.  Maybe the training set includes the data from 7am (for a particular city and day) and the test set includes the data from 8am (for that same city and day).  In real life, the temperatures for 7am and 8am will be very similar, so we will probably get a very accurate prediction for the 8am value, but I do not think that is meaningful.  (Another way to think about it, is if we want to predict the temperature at some day in the future, we will not know what the temperature is one hour earlier.)  \n",
    "\n",
    "In short, if 7am is in the training set, it's like we already knew the 8am value.\n",
    "\n",
    "I believe a better way with this sort of data (this is called time series data): remove a whole month or a whole year, and see how we do on the predictions for that missing month or year.  That performance would be much more indicative of how we might hope to do on new predictions in the future."
   ]
  },
  {
   "cell_type": "markdown",
   "metadata": {},
   "source": [
    "We didn't get to the following."
   ]
  },
  {
   "cell_type": "markdown",
   "metadata": {
    "cell_id": "26d3e41fa59c4802b68556bc8caecc7e",
    "deepnote_cell_type": "markdown"
   },
   "source": [
    "## Extra time?\n",
    "\n",
    "I doubt we will get here, but if we do, this will give a sense of how decision trees make their predictions.  (Not how they make their cuts.)"
   ]
  },
  {
   "cell_type": "markdown",
   "metadata": {
    "cell_id": "1714550591224049b552ca6166ca78a5",
    "deepnote_cell_type": "markdown"
   },
   "source": [
    "* Make a new decision tree regressor that allows only 4 leaf nodes."
   ]
  },
  {
   "cell_type": "markdown",
   "metadata": {
    "cell_id": "5ba2d7cd71d64b29851cbea06ad48a20",
    "deepnote_cell_type": "markdown"
   },
   "source": [
    "* Draw the corresponding diagram using `plot_tree`."
   ]
  },
  {
   "cell_type": "markdown",
   "metadata": {
    "cell_id": "c0aacaa50b2244f7879cb9546376b728",
    "deepnote_cell_type": "markdown"
   },
   "source": [
    "* Can you recover the given value for one of the leaf nodes using Boolean indexing?"
   ]
  }
 ],
 "metadata": {
  "deepnote": {},
  "deepnote_execution_queue": [],
  "deepnote_notebook_id": "90ef4c6b83ac42b5b3f7fd2d151e2995",
  "kernelspec": {
   "display_name": "Python 3 (ipykernel)",
   "language": "python",
   "name": "python3"
  },
  "language_info": {
   "codemirror_mode": {
    "name": "ipython",
    "version": 3
   },
   "file_extension": ".py",
   "mimetype": "text/x-python",
   "name": "python",
   "nbconvert_exporter": "python",
   "pygments_lexer": "ipython3",
   "version": "3.9.16"
  }
 },
 "nbformat": 4,
 "nbformat_minor": 4
}
