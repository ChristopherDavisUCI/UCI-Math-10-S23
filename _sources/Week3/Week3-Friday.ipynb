{
 "cells": [
  {
   "cell_type": "markdown",
   "metadata": {
    "cell_id": "d91bb1021135430e9d3113a6234cf2ad",
    "deepnote_cell_type": "markdown"
   },
   "source": [
    "# Week 3 Friday\n",
    "\n"
   ]
  },
  {
   "cell_type": "markdown",
   "metadata": {
    "cell_id": "82f2eb2fa0444963a4a5552206fdb20a",
    "deepnote_cell_type": "markdown"
   },
   "source": [
    "## Announcements\n",
    "\n",
    "* There was a typo in the original version of Worksheet 6: the Boolean indexing question should refer to \"Midterm 2\", not to \"Midterm 1\".\n",
    "* Our midterm 1 is Monday of Week 5.  I'll post a sample midterm during Week 4.  Come to class next week to get the \"note card\" you can fill out with handwritten notes for the midterm.\n",
    "* I'm trying on a shared notebook again (Deepnote thinks they fixed the issue).\n",
    "* I had some trouble installing the newest version of Altair this morning, so we're going to use the \"old\" syntax and the version of Altair that's already installed automatically in Deepnote.  (In other words, we won't use `!pip install` today.)\n",
    "* I've tried to make this lecture a little shorter so that there is time for you to practice with the material at the end.\n",
    "* Yufei is here to help with the worksheets and course material."
   ]
  },
  {
   "cell_type": "code",
   "execution_count": 5,
   "metadata": {
    "cell_id": "a6af035dfd324df4b0c033a9702cb175",
    "deepnote_cell_type": "code",
    "deepnote_to_be_reexecuted": false,
    "execution_millis": 3,
    "execution_start": 1682107350283,
    "source_hash": "c9d2f67b"
   },
   "outputs": [],
   "source": [
    "import seaborn as sns"
   ]
  },
  {
   "cell_type": "code",
   "execution_count": 6,
   "metadata": {
    "cell_id": "dc537ea3e2b14003948f7e193c59e4a5",
    "deepnote_cell_type": "code",
    "deepnote_to_be_reexecuted": false,
    "execution_millis": 11,
    "execution_start": 1682107350990,
    "source_hash": "973313c9"
   },
   "outputs": [],
   "source": [
    "df = sns.load_dataset(\"penguins\")"
   ]
  },
  {
   "cell_type": "markdown",
   "metadata": {
    "cell_id": "765830886c60463f97ed44a9c407baf4",
    "deepnote_cell_type": "markdown"
   },
   "source": [
    "## The `axis` keyword argument\n",
    "\n",
    "This is the only one description of the axis keyword argument that I have found works in every example:\n",
    "\n",
    "> The `axis` keyword argument indicates which axis labels are (potentially) changing.  If the row labels could change, then we use `axis=0`.  If the column labels could change, then we use `axis=1`.\n",
    "\n",
    "Here is a way to remember which is `0` and which is `1`.  When we check the `shape` of a DataFrame, we get a tuple.  The `0` entry in the tuple is the number of rows (changing row labels corresponds to `axis=0`) and the `1` entry in the tuple corresponds to columns (changing column labels corresponds to `axis=1`).  For example, the following is telling us that `df` has 344 rows and 7 columns."
   ]
  },
  {
   "cell_type": "code",
   "execution_count": 7,
   "metadata": {
    "cell_id": "c38357cb75f14a8b9a0791aff253144c",
    "deepnote_cell_type": "code",
    "deepnote_to_be_reexecuted": false,
    "execution_millis": 3,
    "execution_start": 1682107400640,
    "source_hash": "14f60b8f"
   },
   "outputs": [
    {
     "data": {
      "text/plain": [
       "(344, 7)"
      ]
     },
     "execution_count": 7,
     "metadata": {},
     "output_type": "execute_result"
    }
   ],
   "source": [
    "df.shape"
   ]
  },
  {
   "cell_type": "markdown",
   "metadata": {
    "cell_id": "54ea7b1cde0a4d24bee629b00a130172",
    "deepnote_cell_type": "markdown"
   },
   "source": [
    "* In the penguins dataset, change the column named \"island\" so it is named \"location\" and change the column named \"sex\" so it is named \"gender\".  Use the pandas DataFrame method `rename`, and input a Python dictionary."
   ]
  },
  {
   "cell_type": "code",
   "execution_count": 11,
   "metadata": {
    "cell_id": "aa532ee7a7fd4822858b28379aaa4137",
    "deepnote_cell_type": "code",
    "deepnote_to_be_reexecuted": false,
    "execution_millis": 3,
    "execution_start": 1682107689162,
    "source_hash": "25d43fa0"
   },
   "outputs": [
    {
     "data": {
      "text/plain": [
       "Index(['species', 'island', 'bill_length_mm', 'bill_depth_mm',\n",
       "       'flipper_length_mm', 'body_mass_g', 'sex'],\n",
       "      dtype='object')"
      ]
     },
     "execution_count": 11,
     "metadata": {},
     "output_type": "execute_result"
    }
   ],
   "source": [
    "df.columns"
   ]
  },
  {
   "cell_type": "markdown",
   "metadata": {},
   "source": [
    "The following has no effect.  The object inside the parentheses is an example of a Python dictionary.  This is a very important data type that is built into Python."
   ]
  },
  {
   "cell_type": "code",
   "execution_count": 9,
   "metadata": {
    "cell_id": "20ad67139318414b9567eb20dcedb8d0",
    "deepnote_cell_type": "code",
    "deepnote_to_be_reexecuted": false,
    "execution_millis": 71,
    "execution_start": 1682107650798,
    "source_hash": "c34b38e5"
   },
   "outputs": [
    {
     "data": {
      "application/vnd.deepnote.dataframe.v3+json": {
       "column_count": 7,
       "columns": [
        {
         "dtype": "object",
         "name": "species",
         "stats": {
          "categories": [
           {
            "count": 152,
            "name": "Adelie"
           },
           {
            "count": 124,
            "name": "Gentoo"
           },
           {
            "count": 68,
            "name": "Chinstrap"
           }
          ],
          "nan_count": 0,
          "unique_count": 3
         }
        },
        {
         "dtype": "object",
         "name": "island",
         "stats": {
          "categories": [
           {
            "count": 168,
            "name": "Biscoe"
           },
           {
            "count": 124,
            "name": "Dream"
           },
           {
            "count": 52,
            "name": "Torgersen"
           }
          ],
          "nan_count": 0,
          "unique_count": 3
         }
        },
        {
         "dtype": "float64",
         "name": "bill_length_mm",
         "stats": {
          "histogram": [
           {
            "bin_end": 34.85,
            "bin_start": 32.1,
            "count": 9
           },
           {
            "bin_end": 37.6,
            "bin_start": 34.85,
            "count": 40
           },
           {
            "bin_end": 40.35,
            "bin_start": 37.6,
            "count": 57
           },
           {
            "bin_end": 43.1,
            "bin_start": 40.35,
            "count": 48
           },
           {
            "bin_end": 45.85,
            "bin_start": 43.1,
            "count": 49
           },
           {
            "bin_end": 48.6,
            "bin_start": 45.85,
            "count": 55
           },
           {
            "bin_end": 51.35,
            "bin_start": 48.6,
            "count": 61
           },
           {
            "bin_end": 54.1,
            "bin_start": 51.35,
            "count": 16
           },
           {
            "bin_end": 56.85,
            "bin_start": 54.1,
            "count": 5
           },
           {
            "bin_end": 59.6,
            "bin_start": 56.85,
            "count": 2
           }
          ],
          "max": "59.6",
          "min": "32.1",
          "nan_count": 2,
          "unique_count": 164
         }
        },
        {
         "dtype": "float64",
         "name": "bill_depth_mm",
         "stats": {
          "histogram": [
           {
            "bin_end": 13.94,
            "bin_start": 13.1,
            "count": 21
           },
           {
            "bin_end": 14.78,
            "bin_start": 13.94,
            "count": 35
           },
           {
            "bin_end": 15.620000000000001,
            "bin_start": 14.78,
            "count": 32
           },
           {
            "bin_end": 16.46,
            "bin_start": 15.620000000000001,
            "count": 34
           },
           {
            "bin_end": 17.3,
            "bin_start": 16.46,
            "count": 44
           },
           {
            "bin_end": 18.14,
            "bin_start": 17.3,
            "count": 55
           },
           {
            "bin_end": 18.98,
            "bin_start": 18.14,
            "count": 56
           },
           {
            "bin_end": 19.82,
            "bin_start": 18.98,
            "count": 39
           },
           {
            "bin_end": 20.66,
            "bin_start": 19.82,
            "count": 16
           },
           {
            "bin_end": 21.5,
            "bin_start": 20.66,
            "count": 10
           }
          ],
          "max": "21.5",
          "min": "13.1",
          "nan_count": 2,
          "unique_count": 80
         }
        },
        {
         "dtype": "float64",
         "name": "flipper_length_mm",
         "stats": {
          "histogram": [
           {
            "bin_end": 177.9,
            "bin_start": 172,
            "count": 3
           },
           {
            "bin_end": 183.8,
            "bin_start": 177.9,
            "count": 22
           },
           {
            "bin_end": 189.7,
            "bin_start": 183.8,
            "count": 52
           },
           {
            "bin_end": 195.6,
            "bin_start": 189.7,
            "count": 79
           },
           {
            "bin_end": 201.5,
            "bin_start": 195.6,
            "count": 44
           },
           {
            "bin_end": 207.4,
            "bin_start": 201.5,
            "count": 15
           },
           {
            "bin_end": 213.3,
            "bin_start": 207.4,
            "count": 42
           },
           {
            "bin_end": 219.2,
            "bin_start": 213.3,
            "count": 42
           },
           {
            "bin_end": 225.1,
            "bin_start": 219.2,
            "count": 28
           },
           {
            "bin_end": 231,
            "bin_start": 225.1,
            "count": 15
           }
          ],
          "max": "231.0",
          "min": "172.0",
          "nan_count": 2,
          "unique_count": 55
         }
        },
        {
         "dtype": "float64",
         "name": "body_mass_g",
         "stats": {
          "histogram": [
           {
            "bin_end": 3060,
            "bin_start": 2700,
            "count": 15
           },
           {
            "bin_end": 3420,
            "bin_start": 3060,
            "count": 43
           },
           {
            "bin_end": 3780,
            "bin_start": 3420,
            "count": 71
           },
           {
            "bin_end": 4140,
            "bin_start": 3780,
            "count": 53
           },
           {
            "bin_end": 4500,
            "bin_start": 4140,
            "count": 42
           },
           {
            "bin_end": 4860,
            "bin_start": 4500,
            "count": 41
           },
           {
            "bin_end": 5220,
            "bin_start": 4860,
            "count": 28
           },
           {
            "bin_end": 5580,
            "bin_start": 5220,
            "count": 27
           },
           {
            "bin_end": 5940,
            "bin_start": 5580,
            "count": 16
           },
           {
            "bin_end": 6300,
            "bin_start": 5940,
            "count": 6
           }
          ],
          "max": "6300.0",
          "min": "2700.0",
          "nan_count": 2,
          "unique_count": 94
         }
        },
        {
         "dtype": "object",
         "name": "sex",
         "stats": {
          "categories": [
           {
            "count": 168,
            "name": "Male"
           },
           {
            "count": 165,
            "name": "Female"
           },
           {
            "count": 11,
            "name": "Missing"
           }
          ],
          "nan_count": 11,
          "unique_count": 2
         }
        },
        {
         "dtype": "int64",
         "name": "_deepnote_index_column"
        }
       ],
       "row_count": 344,
       "rows": [
        {
         "_deepnote_index_column": "0",
         "bill_depth_mm": "18.7",
         "bill_length_mm": "39.1",
         "body_mass_g": "3750.0",
         "flipper_length_mm": "181.0",
         "island": "Torgersen",
         "sex": "Male",
         "species": "Adelie"
        },
        {
         "_deepnote_index_column": "1",
         "bill_depth_mm": "17.4",
         "bill_length_mm": "39.5",
         "body_mass_g": "3800.0",
         "flipper_length_mm": "186.0",
         "island": "Torgersen",
         "sex": "Female",
         "species": "Adelie"
        },
        {
         "_deepnote_index_column": "2",
         "bill_depth_mm": "18.0",
         "bill_length_mm": "40.3",
         "body_mass_g": "3250.0",
         "flipper_length_mm": "195.0",
         "island": "Torgersen",
         "sex": "Female",
         "species": "Adelie"
        },
        {
         "_deepnote_index_column": "3",
         "bill_depth_mm": "nan",
         "bill_length_mm": "nan",
         "body_mass_g": "nan",
         "flipper_length_mm": "nan",
         "island": "Torgersen",
         "sex": "nan",
         "species": "Adelie"
        },
        {
         "_deepnote_index_column": "4",
         "bill_depth_mm": "19.3",
         "bill_length_mm": "36.7",
         "body_mass_g": "3450.0",
         "flipper_length_mm": "193.0",
         "island": "Torgersen",
         "sex": "Female",
         "species": "Adelie"
        },
        {
         "_deepnote_index_column": "5",
         "bill_depth_mm": "20.6",
         "bill_length_mm": "39.3",
         "body_mass_g": "3650.0",
         "flipper_length_mm": "190.0",
         "island": "Torgersen",
         "sex": "Male",
         "species": "Adelie"
        },
        {
         "_deepnote_index_column": "6",
         "bill_depth_mm": "17.8",
         "bill_length_mm": "38.9",
         "body_mass_g": "3625.0",
         "flipper_length_mm": "181.0",
         "island": "Torgersen",
         "sex": "Female",
         "species": "Adelie"
        },
        {
         "_deepnote_index_column": "7",
         "bill_depth_mm": "19.6",
         "bill_length_mm": "39.2",
         "body_mass_g": "4675.0",
         "flipper_length_mm": "195.0",
         "island": "Torgersen",
         "sex": "Male",
         "species": "Adelie"
        },
        {
         "_deepnote_index_column": "8",
         "bill_depth_mm": "18.1",
         "bill_length_mm": "34.1",
         "body_mass_g": "3475.0",
         "flipper_length_mm": "193.0",
         "island": "Torgersen",
         "sex": "nan",
         "species": "Adelie"
        },
        {
         "_deepnote_index_column": "9",
         "bill_depth_mm": "20.2",
         "bill_length_mm": "42.0",
         "body_mass_g": "4250.0",
         "flipper_length_mm": "190.0",
         "island": "Torgersen",
         "sex": "nan",
         "species": "Adelie"
        }
       ]
      },
      "text/html": [
       "<div>\n",
       "<style scoped>\n",
       "    .dataframe tbody tr th:only-of-type {\n",
       "        vertical-align: middle;\n",
       "    }\n",
       "\n",
       "    .dataframe tbody tr th {\n",
       "        vertical-align: top;\n",
       "    }\n",
       "\n",
       "    .dataframe thead th {\n",
       "        text-align: right;\n",
       "    }\n",
       "</style>\n",
       "<table border=\"1\" class=\"dataframe\">\n",
       "  <thead>\n",
       "    <tr style=\"text-align: right;\">\n",
       "      <th></th>\n",
       "      <th>species</th>\n",
       "      <th>island</th>\n",
       "      <th>bill_length_mm</th>\n",
       "      <th>bill_depth_mm</th>\n",
       "      <th>flipper_length_mm</th>\n",
       "      <th>body_mass_g</th>\n",
       "      <th>sex</th>\n",
       "    </tr>\n",
       "  </thead>\n",
       "  <tbody>\n",
       "    <tr>\n",
       "      <th>0</th>\n",
       "      <td>Adelie</td>\n",
       "      <td>Torgersen</td>\n",
       "      <td>39.1</td>\n",
       "      <td>18.7</td>\n",
       "      <td>181.0</td>\n",
       "      <td>3750.0</td>\n",
       "      <td>Male</td>\n",
       "    </tr>\n",
       "    <tr>\n",
       "      <th>1</th>\n",
       "      <td>Adelie</td>\n",
       "      <td>Torgersen</td>\n",
       "      <td>39.5</td>\n",
       "      <td>17.4</td>\n",
       "      <td>186.0</td>\n",
       "      <td>3800.0</td>\n",
       "      <td>Female</td>\n",
       "    </tr>\n",
       "    <tr>\n",
       "      <th>2</th>\n",
       "      <td>Adelie</td>\n",
       "      <td>Torgersen</td>\n",
       "      <td>40.3</td>\n",
       "      <td>18.0</td>\n",
       "      <td>195.0</td>\n",
       "      <td>3250.0</td>\n",
       "      <td>Female</td>\n",
       "    </tr>\n",
       "    <tr>\n",
       "      <th>3</th>\n",
       "      <td>Adelie</td>\n",
       "      <td>Torgersen</td>\n",
       "      <td>NaN</td>\n",
       "      <td>NaN</td>\n",
       "      <td>NaN</td>\n",
       "      <td>NaN</td>\n",
       "      <td>NaN</td>\n",
       "    </tr>\n",
       "    <tr>\n",
       "      <th>4</th>\n",
       "      <td>Adelie</td>\n",
       "      <td>Torgersen</td>\n",
       "      <td>36.7</td>\n",
       "      <td>19.3</td>\n",
       "      <td>193.0</td>\n",
       "      <td>3450.0</td>\n",
       "      <td>Female</td>\n",
       "    </tr>\n",
       "    <tr>\n",
       "      <th>...</th>\n",
       "      <td>...</td>\n",
       "      <td>...</td>\n",
       "      <td>...</td>\n",
       "      <td>...</td>\n",
       "      <td>...</td>\n",
       "      <td>...</td>\n",
       "      <td>...</td>\n",
       "    </tr>\n",
       "    <tr>\n",
       "      <th>339</th>\n",
       "      <td>Gentoo</td>\n",
       "      <td>Biscoe</td>\n",
       "      <td>NaN</td>\n",
       "      <td>NaN</td>\n",
       "      <td>NaN</td>\n",
       "      <td>NaN</td>\n",
       "      <td>NaN</td>\n",
       "    </tr>\n",
       "    <tr>\n",
       "      <th>340</th>\n",
       "      <td>Gentoo</td>\n",
       "      <td>Biscoe</td>\n",
       "      <td>46.8</td>\n",
       "      <td>14.3</td>\n",
       "      <td>215.0</td>\n",
       "      <td>4850.0</td>\n",
       "      <td>Female</td>\n",
       "    </tr>\n",
       "    <tr>\n",
       "      <th>341</th>\n",
       "      <td>Gentoo</td>\n",
       "      <td>Biscoe</td>\n",
       "      <td>50.4</td>\n",
       "      <td>15.7</td>\n",
       "      <td>222.0</td>\n",
       "      <td>5750.0</td>\n",
       "      <td>Male</td>\n",
       "    </tr>\n",
       "    <tr>\n",
       "      <th>342</th>\n",
       "      <td>Gentoo</td>\n",
       "      <td>Biscoe</td>\n",
       "      <td>45.2</td>\n",
       "      <td>14.8</td>\n",
       "      <td>212.0</td>\n",
       "      <td>5200.0</td>\n",
       "      <td>Female</td>\n",
       "    </tr>\n",
       "    <tr>\n",
       "      <th>343</th>\n",
       "      <td>Gentoo</td>\n",
       "      <td>Biscoe</td>\n",
       "      <td>49.9</td>\n",
       "      <td>16.1</td>\n",
       "      <td>213.0</td>\n",
       "      <td>5400.0</td>\n",
       "      <td>Male</td>\n",
       "    </tr>\n",
       "  </tbody>\n",
       "</table>\n",
       "<p>344 rows × 7 columns</p>\n",
       "</div>"
      ],
      "text/plain": [
       "    species     island  bill_length_mm  bill_depth_mm  flipper_length_mm  \\\n",
       "0    Adelie  Torgersen            39.1           18.7              181.0   \n",
       "1    Adelie  Torgersen            39.5           17.4              186.0   \n",
       "2    Adelie  Torgersen            40.3           18.0              195.0   \n",
       "3    Adelie  Torgersen             NaN            NaN                NaN   \n",
       "4    Adelie  Torgersen            36.7           19.3              193.0   \n",
       "..      ...        ...             ...            ...                ...   \n",
       "339  Gentoo     Biscoe             NaN            NaN                NaN   \n",
       "340  Gentoo     Biscoe            46.8           14.3              215.0   \n",
       "341  Gentoo     Biscoe            50.4           15.7              222.0   \n",
       "342  Gentoo     Biscoe            45.2           14.8              212.0   \n",
       "343  Gentoo     Biscoe            49.9           16.1              213.0   \n",
       "\n",
       "     body_mass_g     sex  \n",
       "0         3750.0    Male  \n",
       "1         3800.0  Female  \n",
       "2         3250.0  Female  \n",
       "3            NaN     NaN  \n",
       "4         3450.0  Female  \n",
       "..           ...     ...  \n",
       "339          NaN     NaN  \n",
       "340       4850.0  Female  \n",
       "341       5750.0    Male  \n",
       "342       5200.0  Female  \n",
       "343       5400.0    Male  \n",
       "\n",
       "[344 rows x 7 columns]"
      ]
     },
     "execution_count": 9,
     "metadata": {},
     "output_type": "execute_result"
    }
   ],
   "source": [
    "df.rename({\"island\": \"location\", \"sex\":\"gender\"})"
   ]
  },
  {
   "cell_type": "markdown",
   "metadata": {},
   "source": [
    "Above was the same to the following (meaning `axis=0` is the default).  What the following code is doing is, it is looking through all of the row labels (`0`, `1`, through `343`) and if it finds a row named \"island\" or \"sex\" it will change that name."
   ]
  },
  {
   "cell_type": "code",
   "execution_count": 10,
   "metadata": {
    "cell_id": "590574a3b9aa44ffac5e718ca1fb1016",
    "deepnote_cell_type": "code",
    "deepnote_to_be_reexecuted": false,
    "execution_millis": 20,
    "execution_start": 1682107676372,
    "source_hash": "55dbfea8"
   },
   "outputs": [
    {
     "data": {
      "application/vnd.deepnote.dataframe.v3+json": {
       "column_count": 7,
       "columns": [
        {
         "dtype": "object",
         "name": "species",
         "stats": {
          "categories": [
           {
            "count": 152,
            "name": "Adelie"
           },
           {
            "count": 124,
            "name": "Gentoo"
           },
           {
            "count": 68,
            "name": "Chinstrap"
           }
          ],
          "nan_count": 0,
          "unique_count": 3
         }
        },
        {
         "dtype": "object",
         "name": "island",
         "stats": {
          "categories": [
           {
            "count": 168,
            "name": "Biscoe"
           },
           {
            "count": 124,
            "name": "Dream"
           },
           {
            "count": 52,
            "name": "Torgersen"
           }
          ],
          "nan_count": 0,
          "unique_count": 3
         }
        },
        {
         "dtype": "float64",
         "name": "bill_length_mm",
         "stats": {
          "histogram": [
           {
            "bin_end": 34.85,
            "bin_start": 32.1,
            "count": 9
           },
           {
            "bin_end": 37.6,
            "bin_start": 34.85,
            "count": 40
           },
           {
            "bin_end": 40.35,
            "bin_start": 37.6,
            "count": 57
           },
           {
            "bin_end": 43.1,
            "bin_start": 40.35,
            "count": 48
           },
           {
            "bin_end": 45.85,
            "bin_start": 43.1,
            "count": 49
           },
           {
            "bin_end": 48.6,
            "bin_start": 45.85,
            "count": 55
           },
           {
            "bin_end": 51.35,
            "bin_start": 48.6,
            "count": 61
           },
           {
            "bin_end": 54.1,
            "bin_start": 51.35,
            "count": 16
           },
           {
            "bin_end": 56.85,
            "bin_start": 54.1,
            "count": 5
           },
           {
            "bin_end": 59.6,
            "bin_start": 56.85,
            "count": 2
           }
          ],
          "max": "59.6",
          "min": "32.1",
          "nan_count": 2,
          "unique_count": 164
         }
        },
        {
         "dtype": "float64",
         "name": "bill_depth_mm",
         "stats": {
          "histogram": [
           {
            "bin_end": 13.94,
            "bin_start": 13.1,
            "count": 21
           },
           {
            "bin_end": 14.78,
            "bin_start": 13.94,
            "count": 35
           },
           {
            "bin_end": 15.620000000000001,
            "bin_start": 14.78,
            "count": 32
           },
           {
            "bin_end": 16.46,
            "bin_start": 15.620000000000001,
            "count": 34
           },
           {
            "bin_end": 17.3,
            "bin_start": 16.46,
            "count": 44
           },
           {
            "bin_end": 18.14,
            "bin_start": 17.3,
            "count": 55
           },
           {
            "bin_end": 18.98,
            "bin_start": 18.14,
            "count": 56
           },
           {
            "bin_end": 19.82,
            "bin_start": 18.98,
            "count": 39
           },
           {
            "bin_end": 20.66,
            "bin_start": 19.82,
            "count": 16
           },
           {
            "bin_end": 21.5,
            "bin_start": 20.66,
            "count": 10
           }
          ],
          "max": "21.5",
          "min": "13.1",
          "nan_count": 2,
          "unique_count": 80
         }
        },
        {
         "dtype": "float64",
         "name": "flipper_length_mm",
         "stats": {
          "histogram": [
           {
            "bin_end": 177.9,
            "bin_start": 172,
            "count": 3
           },
           {
            "bin_end": 183.8,
            "bin_start": 177.9,
            "count": 22
           },
           {
            "bin_end": 189.7,
            "bin_start": 183.8,
            "count": 52
           },
           {
            "bin_end": 195.6,
            "bin_start": 189.7,
            "count": 79
           },
           {
            "bin_end": 201.5,
            "bin_start": 195.6,
            "count": 44
           },
           {
            "bin_end": 207.4,
            "bin_start": 201.5,
            "count": 15
           },
           {
            "bin_end": 213.3,
            "bin_start": 207.4,
            "count": 42
           },
           {
            "bin_end": 219.2,
            "bin_start": 213.3,
            "count": 42
           },
           {
            "bin_end": 225.1,
            "bin_start": 219.2,
            "count": 28
           },
           {
            "bin_end": 231,
            "bin_start": 225.1,
            "count": 15
           }
          ],
          "max": "231.0",
          "min": "172.0",
          "nan_count": 2,
          "unique_count": 55
         }
        },
        {
         "dtype": "float64",
         "name": "body_mass_g",
         "stats": {
          "histogram": [
           {
            "bin_end": 3060,
            "bin_start": 2700,
            "count": 15
           },
           {
            "bin_end": 3420,
            "bin_start": 3060,
            "count": 43
           },
           {
            "bin_end": 3780,
            "bin_start": 3420,
            "count": 71
           },
           {
            "bin_end": 4140,
            "bin_start": 3780,
            "count": 53
           },
           {
            "bin_end": 4500,
            "bin_start": 4140,
            "count": 42
           },
           {
            "bin_end": 4860,
            "bin_start": 4500,
            "count": 41
           },
           {
            "bin_end": 5220,
            "bin_start": 4860,
            "count": 28
           },
           {
            "bin_end": 5580,
            "bin_start": 5220,
            "count": 27
           },
           {
            "bin_end": 5940,
            "bin_start": 5580,
            "count": 16
           },
           {
            "bin_end": 6300,
            "bin_start": 5940,
            "count": 6
           }
          ],
          "max": "6300.0",
          "min": "2700.0",
          "nan_count": 2,
          "unique_count": 94
         }
        },
        {
         "dtype": "object",
         "name": "sex",
         "stats": {
          "categories": [
           {
            "count": 168,
            "name": "Male"
           },
           {
            "count": 165,
            "name": "Female"
           },
           {
            "count": 11,
            "name": "Missing"
           }
          ],
          "nan_count": 11,
          "unique_count": 2
         }
        },
        {
         "dtype": "int64",
         "name": "_deepnote_index_column"
        }
       ],
       "row_count": 344,
       "rows": [
        {
         "_deepnote_index_column": "0",
         "bill_depth_mm": "18.7",
         "bill_length_mm": "39.1",
         "body_mass_g": "3750.0",
         "flipper_length_mm": "181.0",
         "island": "Torgersen",
         "sex": "Male",
         "species": "Adelie"
        },
        {
         "_deepnote_index_column": "1",
         "bill_depth_mm": "17.4",
         "bill_length_mm": "39.5",
         "body_mass_g": "3800.0",
         "flipper_length_mm": "186.0",
         "island": "Torgersen",
         "sex": "Female",
         "species": "Adelie"
        },
        {
         "_deepnote_index_column": "2",
         "bill_depth_mm": "18.0",
         "bill_length_mm": "40.3",
         "body_mass_g": "3250.0",
         "flipper_length_mm": "195.0",
         "island": "Torgersen",
         "sex": "Female",
         "species": "Adelie"
        },
        {
         "_deepnote_index_column": "3",
         "bill_depth_mm": "nan",
         "bill_length_mm": "nan",
         "body_mass_g": "nan",
         "flipper_length_mm": "nan",
         "island": "Torgersen",
         "sex": "nan",
         "species": "Adelie"
        },
        {
         "_deepnote_index_column": "4",
         "bill_depth_mm": "19.3",
         "bill_length_mm": "36.7",
         "body_mass_g": "3450.0",
         "flipper_length_mm": "193.0",
         "island": "Torgersen",
         "sex": "Female",
         "species": "Adelie"
        },
        {
         "_deepnote_index_column": "5",
         "bill_depth_mm": "20.6",
         "bill_length_mm": "39.3",
         "body_mass_g": "3650.0",
         "flipper_length_mm": "190.0",
         "island": "Torgersen",
         "sex": "Male",
         "species": "Adelie"
        },
        {
         "_deepnote_index_column": "6",
         "bill_depth_mm": "17.8",
         "bill_length_mm": "38.9",
         "body_mass_g": "3625.0",
         "flipper_length_mm": "181.0",
         "island": "Torgersen",
         "sex": "Female",
         "species": "Adelie"
        },
        {
         "_deepnote_index_column": "7",
         "bill_depth_mm": "19.6",
         "bill_length_mm": "39.2",
         "body_mass_g": "4675.0",
         "flipper_length_mm": "195.0",
         "island": "Torgersen",
         "sex": "Male",
         "species": "Adelie"
        },
        {
         "_deepnote_index_column": "8",
         "bill_depth_mm": "18.1",
         "bill_length_mm": "34.1",
         "body_mass_g": "3475.0",
         "flipper_length_mm": "193.0",
         "island": "Torgersen",
         "sex": "nan",
         "species": "Adelie"
        },
        {
         "_deepnote_index_column": "9",
         "bill_depth_mm": "20.2",
         "bill_length_mm": "42.0",
         "body_mass_g": "4250.0",
         "flipper_length_mm": "190.0",
         "island": "Torgersen",
         "sex": "nan",
         "species": "Adelie"
        }
       ]
      },
      "text/html": [
       "<div>\n",
       "<style scoped>\n",
       "    .dataframe tbody tr th:only-of-type {\n",
       "        vertical-align: middle;\n",
       "    }\n",
       "\n",
       "    .dataframe tbody tr th {\n",
       "        vertical-align: top;\n",
       "    }\n",
       "\n",
       "    .dataframe thead th {\n",
       "        text-align: right;\n",
       "    }\n",
       "</style>\n",
       "<table border=\"1\" class=\"dataframe\">\n",
       "  <thead>\n",
       "    <tr style=\"text-align: right;\">\n",
       "      <th></th>\n",
       "      <th>species</th>\n",
       "      <th>island</th>\n",
       "      <th>bill_length_mm</th>\n",
       "      <th>bill_depth_mm</th>\n",
       "      <th>flipper_length_mm</th>\n",
       "      <th>body_mass_g</th>\n",
       "      <th>sex</th>\n",
       "    </tr>\n",
       "  </thead>\n",
       "  <tbody>\n",
       "    <tr>\n",
       "      <th>0</th>\n",
       "      <td>Adelie</td>\n",
       "      <td>Torgersen</td>\n",
       "      <td>39.1</td>\n",
       "      <td>18.7</td>\n",
       "      <td>181.0</td>\n",
       "      <td>3750.0</td>\n",
       "      <td>Male</td>\n",
       "    </tr>\n",
       "    <tr>\n",
       "      <th>1</th>\n",
       "      <td>Adelie</td>\n",
       "      <td>Torgersen</td>\n",
       "      <td>39.5</td>\n",
       "      <td>17.4</td>\n",
       "      <td>186.0</td>\n",
       "      <td>3800.0</td>\n",
       "      <td>Female</td>\n",
       "    </tr>\n",
       "    <tr>\n",
       "      <th>2</th>\n",
       "      <td>Adelie</td>\n",
       "      <td>Torgersen</td>\n",
       "      <td>40.3</td>\n",
       "      <td>18.0</td>\n",
       "      <td>195.0</td>\n",
       "      <td>3250.0</td>\n",
       "      <td>Female</td>\n",
       "    </tr>\n",
       "    <tr>\n",
       "      <th>3</th>\n",
       "      <td>Adelie</td>\n",
       "      <td>Torgersen</td>\n",
       "      <td>NaN</td>\n",
       "      <td>NaN</td>\n",
       "      <td>NaN</td>\n",
       "      <td>NaN</td>\n",
       "      <td>NaN</td>\n",
       "    </tr>\n",
       "    <tr>\n",
       "      <th>4</th>\n",
       "      <td>Adelie</td>\n",
       "      <td>Torgersen</td>\n",
       "      <td>36.7</td>\n",
       "      <td>19.3</td>\n",
       "      <td>193.0</td>\n",
       "      <td>3450.0</td>\n",
       "      <td>Female</td>\n",
       "    </tr>\n",
       "    <tr>\n",
       "      <th>...</th>\n",
       "      <td>...</td>\n",
       "      <td>...</td>\n",
       "      <td>...</td>\n",
       "      <td>...</td>\n",
       "      <td>...</td>\n",
       "      <td>...</td>\n",
       "      <td>...</td>\n",
       "    </tr>\n",
       "    <tr>\n",
       "      <th>339</th>\n",
       "      <td>Gentoo</td>\n",
       "      <td>Biscoe</td>\n",
       "      <td>NaN</td>\n",
       "      <td>NaN</td>\n",
       "      <td>NaN</td>\n",
       "      <td>NaN</td>\n",
       "      <td>NaN</td>\n",
       "    </tr>\n",
       "    <tr>\n",
       "      <th>340</th>\n",
       "      <td>Gentoo</td>\n",
       "      <td>Biscoe</td>\n",
       "      <td>46.8</td>\n",
       "      <td>14.3</td>\n",
       "      <td>215.0</td>\n",
       "      <td>4850.0</td>\n",
       "      <td>Female</td>\n",
       "    </tr>\n",
       "    <tr>\n",
       "      <th>341</th>\n",
       "      <td>Gentoo</td>\n",
       "      <td>Biscoe</td>\n",
       "      <td>50.4</td>\n",
       "      <td>15.7</td>\n",
       "      <td>222.0</td>\n",
       "      <td>5750.0</td>\n",
       "      <td>Male</td>\n",
       "    </tr>\n",
       "    <tr>\n",
       "      <th>342</th>\n",
       "      <td>Gentoo</td>\n",
       "      <td>Biscoe</td>\n",
       "      <td>45.2</td>\n",
       "      <td>14.8</td>\n",
       "      <td>212.0</td>\n",
       "      <td>5200.0</td>\n",
       "      <td>Female</td>\n",
       "    </tr>\n",
       "    <tr>\n",
       "      <th>343</th>\n",
       "      <td>Gentoo</td>\n",
       "      <td>Biscoe</td>\n",
       "      <td>49.9</td>\n",
       "      <td>16.1</td>\n",
       "      <td>213.0</td>\n",
       "      <td>5400.0</td>\n",
       "      <td>Male</td>\n",
       "    </tr>\n",
       "  </tbody>\n",
       "</table>\n",
       "<p>344 rows × 7 columns</p>\n",
       "</div>"
      ],
      "text/plain": [
       "    species     island  bill_length_mm  bill_depth_mm  flipper_length_mm  \\\n",
       "0    Adelie  Torgersen            39.1           18.7              181.0   \n",
       "1    Adelie  Torgersen            39.5           17.4              186.0   \n",
       "2    Adelie  Torgersen            40.3           18.0              195.0   \n",
       "3    Adelie  Torgersen             NaN            NaN                NaN   \n",
       "4    Adelie  Torgersen            36.7           19.3              193.0   \n",
       "..      ...        ...             ...            ...                ...   \n",
       "339  Gentoo     Biscoe             NaN            NaN                NaN   \n",
       "340  Gentoo     Biscoe            46.8           14.3              215.0   \n",
       "341  Gentoo     Biscoe            50.4           15.7              222.0   \n",
       "342  Gentoo     Biscoe            45.2           14.8              212.0   \n",
       "343  Gentoo     Biscoe            49.9           16.1              213.0   \n",
       "\n",
       "     body_mass_g     sex  \n",
       "0         3750.0    Male  \n",
       "1         3800.0  Female  \n",
       "2         3250.0  Female  \n",
       "3            NaN     NaN  \n",
       "4         3450.0  Female  \n",
       "..           ...     ...  \n",
       "339          NaN     NaN  \n",
       "340       4850.0  Female  \n",
       "341       5750.0    Male  \n",
       "342       5200.0  Female  \n",
       "343       5400.0    Male  \n",
       "\n",
       "[344 rows x 7 columns]"
      ]
     },
     "execution_count": 10,
     "metadata": {},
     "output_type": "execute_result"
    }
   ],
   "source": [
    "df.rename({\"island\": \"location\", \"sex\":\"gender\"}, axis=0)"
   ]
  },
  {
   "cell_type": "markdown",
   "metadata": {},
   "source": [
    "We are trying to change the column names, so we should instead use the argument `axis=1`.  Notice how the \"island\" and \"sex\" columns have been renamed."
   ]
  },
  {
   "cell_type": "code",
   "execution_count": 12,
   "metadata": {
    "cell_id": "51ac028e30474f7798f3bae7e64f06ea",
    "deepnote_cell_type": "code",
    "deepnote_to_be_reexecuted": false,
    "execution_millis": 4,
    "execution_start": 1682107758167,
    "source_hash": "6a51c8ae"
   },
   "outputs": [
    {
     "data": {
      "application/vnd.deepnote.dataframe.v3+json": {
       "column_count": 7,
       "columns": [
        {
         "dtype": "object",
         "name": "species",
         "stats": {
          "categories": [
           {
            "count": 152,
            "name": "Adelie"
           },
           {
            "count": 124,
            "name": "Gentoo"
           },
           {
            "count": 68,
            "name": "Chinstrap"
           }
          ],
          "nan_count": 0,
          "unique_count": 3
         }
        },
        {
         "dtype": "object",
         "name": "location",
         "stats": {
          "categories": [
           {
            "count": 168,
            "name": "Biscoe"
           },
           {
            "count": 124,
            "name": "Dream"
           },
           {
            "count": 52,
            "name": "Torgersen"
           }
          ],
          "nan_count": 0,
          "unique_count": 3
         }
        },
        {
         "dtype": "float64",
         "name": "bill_length_mm",
         "stats": {
          "histogram": [
           {
            "bin_end": 34.85,
            "bin_start": 32.1,
            "count": 9
           },
           {
            "bin_end": 37.6,
            "bin_start": 34.85,
            "count": 40
           },
           {
            "bin_end": 40.35,
            "bin_start": 37.6,
            "count": 57
           },
           {
            "bin_end": 43.1,
            "bin_start": 40.35,
            "count": 48
           },
           {
            "bin_end": 45.85,
            "bin_start": 43.1,
            "count": 49
           },
           {
            "bin_end": 48.6,
            "bin_start": 45.85,
            "count": 55
           },
           {
            "bin_end": 51.35,
            "bin_start": 48.6,
            "count": 61
           },
           {
            "bin_end": 54.1,
            "bin_start": 51.35,
            "count": 16
           },
           {
            "bin_end": 56.85,
            "bin_start": 54.1,
            "count": 5
           },
           {
            "bin_end": 59.6,
            "bin_start": 56.85,
            "count": 2
           }
          ],
          "max": "59.6",
          "min": "32.1",
          "nan_count": 2,
          "unique_count": 164
         }
        },
        {
         "dtype": "float64",
         "name": "bill_depth_mm",
         "stats": {
          "histogram": [
           {
            "bin_end": 13.94,
            "bin_start": 13.1,
            "count": 21
           },
           {
            "bin_end": 14.78,
            "bin_start": 13.94,
            "count": 35
           },
           {
            "bin_end": 15.620000000000001,
            "bin_start": 14.78,
            "count": 32
           },
           {
            "bin_end": 16.46,
            "bin_start": 15.620000000000001,
            "count": 34
           },
           {
            "bin_end": 17.3,
            "bin_start": 16.46,
            "count": 44
           },
           {
            "bin_end": 18.14,
            "bin_start": 17.3,
            "count": 55
           },
           {
            "bin_end": 18.98,
            "bin_start": 18.14,
            "count": 56
           },
           {
            "bin_end": 19.82,
            "bin_start": 18.98,
            "count": 39
           },
           {
            "bin_end": 20.66,
            "bin_start": 19.82,
            "count": 16
           },
           {
            "bin_end": 21.5,
            "bin_start": 20.66,
            "count": 10
           }
          ],
          "max": "21.5",
          "min": "13.1",
          "nan_count": 2,
          "unique_count": 80
         }
        },
        {
         "dtype": "float64",
         "name": "flipper_length_mm",
         "stats": {
          "histogram": [
           {
            "bin_end": 177.9,
            "bin_start": 172,
            "count": 3
           },
           {
            "bin_end": 183.8,
            "bin_start": 177.9,
            "count": 22
           },
           {
            "bin_end": 189.7,
            "bin_start": 183.8,
            "count": 52
           },
           {
            "bin_end": 195.6,
            "bin_start": 189.7,
            "count": 79
           },
           {
            "bin_end": 201.5,
            "bin_start": 195.6,
            "count": 44
           },
           {
            "bin_end": 207.4,
            "bin_start": 201.5,
            "count": 15
           },
           {
            "bin_end": 213.3,
            "bin_start": 207.4,
            "count": 42
           },
           {
            "bin_end": 219.2,
            "bin_start": 213.3,
            "count": 42
           },
           {
            "bin_end": 225.1,
            "bin_start": 219.2,
            "count": 28
           },
           {
            "bin_end": 231,
            "bin_start": 225.1,
            "count": 15
           }
          ],
          "max": "231.0",
          "min": "172.0",
          "nan_count": 2,
          "unique_count": 55
         }
        },
        {
         "dtype": "float64",
         "name": "body_mass_g",
         "stats": {
          "histogram": [
           {
            "bin_end": 3060,
            "bin_start": 2700,
            "count": 15
           },
           {
            "bin_end": 3420,
            "bin_start": 3060,
            "count": 43
           },
           {
            "bin_end": 3780,
            "bin_start": 3420,
            "count": 71
           },
           {
            "bin_end": 4140,
            "bin_start": 3780,
            "count": 53
           },
           {
            "bin_end": 4500,
            "bin_start": 4140,
            "count": 42
           },
           {
            "bin_end": 4860,
            "bin_start": 4500,
            "count": 41
           },
           {
            "bin_end": 5220,
            "bin_start": 4860,
            "count": 28
           },
           {
            "bin_end": 5580,
            "bin_start": 5220,
            "count": 27
           },
           {
            "bin_end": 5940,
            "bin_start": 5580,
            "count": 16
           },
           {
            "bin_end": 6300,
            "bin_start": 5940,
            "count": 6
           }
          ],
          "max": "6300.0",
          "min": "2700.0",
          "nan_count": 2,
          "unique_count": 94
         }
        },
        {
         "dtype": "object",
         "name": "gender",
         "stats": {
          "categories": [
           {
            "count": 168,
            "name": "Male"
           },
           {
            "count": 165,
            "name": "Female"
           },
           {
            "count": 11,
            "name": "Missing"
           }
          ],
          "nan_count": 11,
          "unique_count": 2
         }
        },
        {
         "dtype": "int64",
         "name": "_deepnote_index_column"
        }
       ],
       "row_count": 344,
       "rows": [
        {
         "_deepnote_index_column": "0",
         "bill_depth_mm": "18.7",
         "bill_length_mm": "39.1",
         "body_mass_g": "3750.0",
         "flipper_length_mm": "181.0",
         "gender": "Male",
         "location": "Torgersen",
         "species": "Adelie"
        },
        {
         "_deepnote_index_column": "1",
         "bill_depth_mm": "17.4",
         "bill_length_mm": "39.5",
         "body_mass_g": "3800.0",
         "flipper_length_mm": "186.0",
         "gender": "Female",
         "location": "Torgersen",
         "species": "Adelie"
        },
        {
         "_deepnote_index_column": "2",
         "bill_depth_mm": "18.0",
         "bill_length_mm": "40.3",
         "body_mass_g": "3250.0",
         "flipper_length_mm": "195.0",
         "gender": "Female",
         "location": "Torgersen",
         "species": "Adelie"
        },
        {
         "_deepnote_index_column": "3",
         "bill_depth_mm": "nan",
         "bill_length_mm": "nan",
         "body_mass_g": "nan",
         "flipper_length_mm": "nan",
         "gender": "nan",
         "location": "Torgersen",
         "species": "Adelie"
        },
        {
         "_deepnote_index_column": "4",
         "bill_depth_mm": "19.3",
         "bill_length_mm": "36.7",
         "body_mass_g": "3450.0",
         "flipper_length_mm": "193.0",
         "gender": "Female",
         "location": "Torgersen",
         "species": "Adelie"
        },
        {
         "_deepnote_index_column": "5",
         "bill_depth_mm": "20.6",
         "bill_length_mm": "39.3",
         "body_mass_g": "3650.0",
         "flipper_length_mm": "190.0",
         "gender": "Male",
         "location": "Torgersen",
         "species": "Adelie"
        },
        {
         "_deepnote_index_column": "6",
         "bill_depth_mm": "17.8",
         "bill_length_mm": "38.9",
         "body_mass_g": "3625.0",
         "flipper_length_mm": "181.0",
         "gender": "Female",
         "location": "Torgersen",
         "species": "Adelie"
        },
        {
         "_deepnote_index_column": "7",
         "bill_depth_mm": "19.6",
         "bill_length_mm": "39.2",
         "body_mass_g": "4675.0",
         "flipper_length_mm": "195.0",
         "gender": "Male",
         "location": "Torgersen",
         "species": "Adelie"
        },
        {
         "_deepnote_index_column": "8",
         "bill_depth_mm": "18.1",
         "bill_length_mm": "34.1",
         "body_mass_g": "3475.0",
         "flipper_length_mm": "193.0",
         "gender": "nan",
         "location": "Torgersen",
         "species": "Adelie"
        },
        {
         "_deepnote_index_column": "9",
         "bill_depth_mm": "20.2",
         "bill_length_mm": "42.0",
         "body_mass_g": "4250.0",
         "flipper_length_mm": "190.0",
         "gender": "nan",
         "location": "Torgersen",
         "species": "Adelie"
        }
       ]
      },
      "text/html": [
       "<div>\n",
       "<style scoped>\n",
       "    .dataframe tbody tr th:only-of-type {\n",
       "        vertical-align: middle;\n",
       "    }\n",
       "\n",
       "    .dataframe tbody tr th {\n",
       "        vertical-align: top;\n",
       "    }\n",
       "\n",
       "    .dataframe thead th {\n",
       "        text-align: right;\n",
       "    }\n",
       "</style>\n",
       "<table border=\"1\" class=\"dataframe\">\n",
       "  <thead>\n",
       "    <tr style=\"text-align: right;\">\n",
       "      <th></th>\n",
       "      <th>species</th>\n",
       "      <th>location</th>\n",
       "      <th>bill_length_mm</th>\n",
       "      <th>bill_depth_mm</th>\n",
       "      <th>flipper_length_mm</th>\n",
       "      <th>body_mass_g</th>\n",
       "      <th>gender</th>\n",
       "    </tr>\n",
       "  </thead>\n",
       "  <tbody>\n",
       "    <tr>\n",
       "      <th>0</th>\n",
       "      <td>Adelie</td>\n",
       "      <td>Torgersen</td>\n",
       "      <td>39.1</td>\n",
       "      <td>18.7</td>\n",
       "      <td>181.0</td>\n",
       "      <td>3750.0</td>\n",
       "      <td>Male</td>\n",
       "    </tr>\n",
       "    <tr>\n",
       "      <th>1</th>\n",
       "      <td>Adelie</td>\n",
       "      <td>Torgersen</td>\n",
       "      <td>39.5</td>\n",
       "      <td>17.4</td>\n",
       "      <td>186.0</td>\n",
       "      <td>3800.0</td>\n",
       "      <td>Female</td>\n",
       "    </tr>\n",
       "    <tr>\n",
       "      <th>2</th>\n",
       "      <td>Adelie</td>\n",
       "      <td>Torgersen</td>\n",
       "      <td>40.3</td>\n",
       "      <td>18.0</td>\n",
       "      <td>195.0</td>\n",
       "      <td>3250.0</td>\n",
       "      <td>Female</td>\n",
       "    </tr>\n",
       "    <tr>\n",
       "      <th>3</th>\n",
       "      <td>Adelie</td>\n",
       "      <td>Torgersen</td>\n",
       "      <td>NaN</td>\n",
       "      <td>NaN</td>\n",
       "      <td>NaN</td>\n",
       "      <td>NaN</td>\n",
       "      <td>NaN</td>\n",
       "    </tr>\n",
       "    <tr>\n",
       "      <th>4</th>\n",
       "      <td>Adelie</td>\n",
       "      <td>Torgersen</td>\n",
       "      <td>36.7</td>\n",
       "      <td>19.3</td>\n",
       "      <td>193.0</td>\n",
       "      <td>3450.0</td>\n",
       "      <td>Female</td>\n",
       "    </tr>\n",
       "    <tr>\n",
       "      <th>...</th>\n",
       "      <td>...</td>\n",
       "      <td>...</td>\n",
       "      <td>...</td>\n",
       "      <td>...</td>\n",
       "      <td>...</td>\n",
       "      <td>...</td>\n",
       "      <td>...</td>\n",
       "    </tr>\n",
       "    <tr>\n",
       "      <th>339</th>\n",
       "      <td>Gentoo</td>\n",
       "      <td>Biscoe</td>\n",
       "      <td>NaN</td>\n",
       "      <td>NaN</td>\n",
       "      <td>NaN</td>\n",
       "      <td>NaN</td>\n",
       "      <td>NaN</td>\n",
       "    </tr>\n",
       "    <tr>\n",
       "      <th>340</th>\n",
       "      <td>Gentoo</td>\n",
       "      <td>Biscoe</td>\n",
       "      <td>46.8</td>\n",
       "      <td>14.3</td>\n",
       "      <td>215.0</td>\n",
       "      <td>4850.0</td>\n",
       "      <td>Female</td>\n",
       "    </tr>\n",
       "    <tr>\n",
       "      <th>341</th>\n",
       "      <td>Gentoo</td>\n",
       "      <td>Biscoe</td>\n",
       "      <td>50.4</td>\n",
       "      <td>15.7</td>\n",
       "      <td>222.0</td>\n",
       "      <td>5750.0</td>\n",
       "      <td>Male</td>\n",
       "    </tr>\n",
       "    <tr>\n",
       "      <th>342</th>\n",
       "      <td>Gentoo</td>\n",
       "      <td>Biscoe</td>\n",
       "      <td>45.2</td>\n",
       "      <td>14.8</td>\n",
       "      <td>212.0</td>\n",
       "      <td>5200.0</td>\n",
       "      <td>Female</td>\n",
       "    </tr>\n",
       "    <tr>\n",
       "      <th>343</th>\n",
       "      <td>Gentoo</td>\n",
       "      <td>Biscoe</td>\n",
       "      <td>49.9</td>\n",
       "      <td>16.1</td>\n",
       "      <td>213.0</td>\n",
       "      <td>5400.0</td>\n",
       "      <td>Male</td>\n",
       "    </tr>\n",
       "  </tbody>\n",
       "</table>\n",
       "<p>344 rows × 7 columns</p>\n",
       "</div>"
      ],
      "text/plain": [
       "    species   location  bill_length_mm  bill_depth_mm  flipper_length_mm  \\\n",
       "0    Adelie  Torgersen            39.1           18.7              181.0   \n",
       "1    Adelie  Torgersen            39.5           17.4              186.0   \n",
       "2    Adelie  Torgersen            40.3           18.0              195.0   \n",
       "3    Adelie  Torgersen             NaN            NaN                NaN   \n",
       "4    Adelie  Torgersen            36.7           19.3              193.0   \n",
       "..      ...        ...             ...            ...                ...   \n",
       "339  Gentoo     Biscoe             NaN            NaN                NaN   \n",
       "340  Gentoo     Biscoe            46.8           14.3              215.0   \n",
       "341  Gentoo     Biscoe            50.4           15.7              222.0   \n",
       "342  Gentoo     Biscoe            45.2           14.8              212.0   \n",
       "343  Gentoo     Biscoe            49.9           16.1              213.0   \n",
       "\n",
       "     body_mass_g  gender  \n",
       "0         3750.0    Male  \n",
       "1         3800.0  Female  \n",
       "2         3250.0  Female  \n",
       "3            NaN     NaN  \n",
       "4         3450.0  Female  \n",
       "..           ...     ...  \n",
       "339          NaN     NaN  \n",
       "340       4850.0  Female  \n",
       "341       5750.0    Male  \n",
       "342       5200.0  Female  \n",
       "343       5400.0    Male  \n",
       "\n",
       "[344 rows x 7 columns]"
      ]
     },
     "execution_count": 12,
     "metadata": {},
     "output_type": "execute_result"
    }
   ],
   "source": [
    "df.rename({\"island\": \"location\", \"sex\":\"gender\"}, axis=1)"
   ]
  },
  {
   "cell_type": "markdown",
   "metadata": {},
   "source": [
    "Here is an example of renaming one of the row labels.  Notice how we switch to `axis=0`."
   ]
  },
  {
   "cell_type": "code",
   "execution_count": 13,
   "metadata": {
    "cell_id": "fef6becdc0e84eac89b230e9854cf27b",
    "deepnote_cell_type": "code",
    "deepnote_to_be_reexecuted": false,
    "execution_millis": 32,
    "execution_start": 1682107851581,
    "source_hash": "47e19b2e"
   },
   "outputs": [
    {
     "data": {
      "application/vnd.deepnote.dataframe.v3+json": {
       "column_count": 7,
       "columns": [
        {
         "dtype": "object",
         "name": "species",
         "stats": {
          "categories": [
           {
            "count": 152,
            "name": "Adelie"
           },
           {
            "count": 124,
            "name": "Gentoo"
           },
           {
            "count": 68,
            "name": "Chinstrap"
           }
          ],
          "nan_count": 0,
          "unique_count": 3
         }
        },
        {
         "dtype": "object",
         "name": "island",
         "stats": {
          "categories": [
           {
            "count": 168,
            "name": "Biscoe"
           },
           {
            "count": 124,
            "name": "Dream"
           },
           {
            "count": 52,
            "name": "Torgersen"
           }
          ],
          "nan_count": 0,
          "unique_count": 3
         }
        },
        {
         "dtype": "float64",
         "name": "bill_length_mm",
         "stats": {
          "histogram": [
           {
            "bin_end": 34.85,
            "bin_start": 32.1,
            "count": 9
           },
           {
            "bin_end": 37.6,
            "bin_start": 34.85,
            "count": 40
           },
           {
            "bin_end": 40.35,
            "bin_start": 37.6,
            "count": 57
           },
           {
            "bin_end": 43.1,
            "bin_start": 40.35,
            "count": 48
           },
           {
            "bin_end": 45.85,
            "bin_start": 43.1,
            "count": 49
           },
           {
            "bin_end": 48.6,
            "bin_start": 45.85,
            "count": 55
           },
           {
            "bin_end": 51.35,
            "bin_start": 48.6,
            "count": 61
           },
           {
            "bin_end": 54.1,
            "bin_start": 51.35,
            "count": 16
           },
           {
            "bin_end": 56.85,
            "bin_start": 54.1,
            "count": 5
           },
           {
            "bin_end": 59.6,
            "bin_start": 56.85,
            "count": 2
           }
          ],
          "max": "59.6",
          "min": "32.1",
          "nan_count": 2,
          "unique_count": 164
         }
        },
        {
         "dtype": "float64",
         "name": "bill_depth_mm",
         "stats": {
          "histogram": [
           {
            "bin_end": 13.94,
            "bin_start": 13.1,
            "count": 21
           },
           {
            "bin_end": 14.78,
            "bin_start": 13.94,
            "count": 35
           },
           {
            "bin_end": 15.620000000000001,
            "bin_start": 14.78,
            "count": 32
           },
           {
            "bin_end": 16.46,
            "bin_start": 15.620000000000001,
            "count": 34
           },
           {
            "bin_end": 17.3,
            "bin_start": 16.46,
            "count": 44
           },
           {
            "bin_end": 18.14,
            "bin_start": 17.3,
            "count": 55
           },
           {
            "bin_end": 18.98,
            "bin_start": 18.14,
            "count": 56
           },
           {
            "bin_end": 19.82,
            "bin_start": 18.98,
            "count": 39
           },
           {
            "bin_end": 20.66,
            "bin_start": 19.82,
            "count": 16
           },
           {
            "bin_end": 21.5,
            "bin_start": 20.66,
            "count": 10
           }
          ],
          "max": "21.5",
          "min": "13.1",
          "nan_count": 2,
          "unique_count": 80
         }
        },
        {
         "dtype": "float64",
         "name": "flipper_length_mm",
         "stats": {
          "histogram": [
           {
            "bin_end": 177.9,
            "bin_start": 172,
            "count": 3
           },
           {
            "bin_end": 183.8,
            "bin_start": 177.9,
            "count": 22
           },
           {
            "bin_end": 189.7,
            "bin_start": 183.8,
            "count": 52
           },
           {
            "bin_end": 195.6,
            "bin_start": 189.7,
            "count": 79
           },
           {
            "bin_end": 201.5,
            "bin_start": 195.6,
            "count": 44
           },
           {
            "bin_end": 207.4,
            "bin_start": 201.5,
            "count": 15
           },
           {
            "bin_end": 213.3,
            "bin_start": 207.4,
            "count": 42
           },
           {
            "bin_end": 219.2,
            "bin_start": 213.3,
            "count": 42
           },
           {
            "bin_end": 225.1,
            "bin_start": 219.2,
            "count": 28
           },
           {
            "bin_end": 231,
            "bin_start": 225.1,
            "count": 15
           }
          ],
          "max": "231.0",
          "min": "172.0",
          "nan_count": 2,
          "unique_count": 55
         }
        },
        {
         "dtype": "float64",
         "name": "body_mass_g",
         "stats": {
          "histogram": [
           {
            "bin_end": 3060,
            "bin_start": 2700,
            "count": 15
           },
           {
            "bin_end": 3420,
            "bin_start": 3060,
            "count": 43
           },
           {
            "bin_end": 3780,
            "bin_start": 3420,
            "count": 71
           },
           {
            "bin_end": 4140,
            "bin_start": 3780,
            "count": 53
           },
           {
            "bin_end": 4500,
            "bin_start": 4140,
            "count": 42
           },
           {
            "bin_end": 4860,
            "bin_start": 4500,
            "count": 41
           },
           {
            "bin_end": 5220,
            "bin_start": 4860,
            "count": 28
           },
           {
            "bin_end": 5580,
            "bin_start": 5220,
            "count": 27
           },
           {
            "bin_end": 5940,
            "bin_start": 5580,
            "count": 16
           },
           {
            "bin_end": 6300,
            "bin_start": 5940,
            "count": 6
           }
          ],
          "max": "6300.0",
          "min": "2700.0",
          "nan_count": 2,
          "unique_count": 94
         }
        },
        {
         "dtype": "object",
         "name": "sex",
         "stats": {
          "categories": [
           {
            "count": 168,
            "name": "Male"
           },
           {
            "count": 165,
            "name": "Female"
           },
           {
            "count": 11,
            "name": "Missing"
           }
          ],
          "nan_count": 11,
          "unique_count": 2
         }
        },
        {
         "dtype": "object",
         "name": "_deepnote_index_column"
        }
       ],
       "row_count": 344,
       "rows": [
        {
         "_deepnote_index_column": "0",
         "bill_depth_mm": "18.7",
         "bill_length_mm": "39.1",
         "body_mass_g": "3750.0",
         "flipper_length_mm": "181.0",
         "island": "Torgersen",
         "sex": "Male",
         "species": "Adelie"
        },
        {
         "_deepnote_index_column": "1",
         "bill_depth_mm": "17.4",
         "bill_length_mm": "39.5",
         "body_mass_g": "3800.0",
         "flipper_length_mm": "186.0",
         "island": "Torgersen",
         "sex": "Female",
         "species": "Adelie"
        },
        {
         "_deepnote_index_column": "2",
         "bill_depth_mm": "18.0",
         "bill_length_mm": "40.3",
         "body_mass_g": "3250.0",
         "flipper_length_mm": "195.0",
         "island": "Torgersen",
         "sex": "Female",
         "species": "Adelie"
        },
        {
         "_deepnote_index_column": "Chris Davis",
         "bill_depth_mm": "nan",
         "bill_length_mm": "nan",
         "body_mass_g": "nan",
         "flipper_length_mm": "nan",
         "island": "Torgersen",
         "sex": "nan",
         "species": "Adelie"
        },
        {
         "_deepnote_index_column": "4",
         "bill_depth_mm": "19.3",
         "bill_length_mm": "36.7",
         "body_mass_g": "3450.0",
         "flipper_length_mm": "193.0",
         "island": "Torgersen",
         "sex": "Female",
         "species": "Adelie"
        },
        {
         "_deepnote_index_column": "5",
         "bill_depth_mm": "20.6",
         "bill_length_mm": "39.3",
         "body_mass_g": "3650.0",
         "flipper_length_mm": "190.0",
         "island": "Torgersen",
         "sex": "Male",
         "species": "Adelie"
        },
        {
         "_deepnote_index_column": "6",
         "bill_depth_mm": "17.8",
         "bill_length_mm": "38.9",
         "body_mass_g": "3625.0",
         "flipper_length_mm": "181.0",
         "island": "Torgersen",
         "sex": "Female",
         "species": "Adelie"
        },
        {
         "_deepnote_index_column": "7",
         "bill_depth_mm": "19.6",
         "bill_length_mm": "39.2",
         "body_mass_g": "4675.0",
         "flipper_length_mm": "195.0",
         "island": "Torgersen",
         "sex": "Male",
         "species": "Adelie"
        },
        {
         "_deepnote_index_column": "8",
         "bill_depth_mm": "18.1",
         "bill_length_mm": "34.1",
         "body_mass_g": "3475.0",
         "flipper_length_mm": "193.0",
         "island": "Torgersen",
         "sex": "nan",
         "species": "Adelie"
        },
        {
         "_deepnote_index_column": "9",
         "bill_depth_mm": "20.2",
         "bill_length_mm": "42.0",
         "body_mass_g": "4250.0",
         "flipper_length_mm": "190.0",
         "island": "Torgersen",
         "sex": "nan",
         "species": "Adelie"
        }
       ]
      },
      "text/html": [
       "<div>\n",
       "<style scoped>\n",
       "    .dataframe tbody tr th:only-of-type {\n",
       "        vertical-align: middle;\n",
       "    }\n",
       "\n",
       "    .dataframe tbody tr th {\n",
       "        vertical-align: top;\n",
       "    }\n",
       "\n",
       "    .dataframe thead th {\n",
       "        text-align: right;\n",
       "    }\n",
       "</style>\n",
       "<table border=\"1\" class=\"dataframe\">\n",
       "  <thead>\n",
       "    <tr style=\"text-align: right;\">\n",
       "      <th></th>\n",
       "      <th>species</th>\n",
       "      <th>island</th>\n",
       "      <th>bill_length_mm</th>\n",
       "      <th>bill_depth_mm</th>\n",
       "      <th>flipper_length_mm</th>\n",
       "      <th>body_mass_g</th>\n",
       "      <th>sex</th>\n",
       "    </tr>\n",
       "  </thead>\n",
       "  <tbody>\n",
       "    <tr>\n",
       "      <th>0</th>\n",
       "      <td>Adelie</td>\n",
       "      <td>Torgersen</td>\n",
       "      <td>39.1</td>\n",
       "      <td>18.7</td>\n",
       "      <td>181.0</td>\n",
       "      <td>3750.0</td>\n",
       "      <td>Male</td>\n",
       "    </tr>\n",
       "    <tr>\n",
       "      <th>1</th>\n",
       "      <td>Adelie</td>\n",
       "      <td>Torgersen</td>\n",
       "      <td>39.5</td>\n",
       "      <td>17.4</td>\n",
       "      <td>186.0</td>\n",
       "      <td>3800.0</td>\n",
       "      <td>Female</td>\n",
       "    </tr>\n",
       "    <tr>\n",
       "      <th>2</th>\n",
       "      <td>Adelie</td>\n",
       "      <td>Torgersen</td>\n",
       "      <td>40.3</td>\n",
       "      <td>18.0</td>\n",
       "      <td>195.0</td>\n",
       "      <td>3250.0</td>\n",
       "      <td>Female</td>\n",
       "    </tr>\n",
       "    <tr>\n",
       "      <th>Chris Davis</th>\n",
       "      <td>Adelie</td>\n",
       "      <td>Torgersen</td>\n",
       "      <td>NaN</td>\n",
       "      <td>NaN</td>\n",
       "      <td>NaN</td>\n",
       "      <td>NaN</td>\n",
       "      <td>NaN</td>\n",
       "    </tr>\n",
       "    <tr>\n",
       "      <th>4</th>\n",
       "      <td>Adelie</td>\n",
       "      <td>Torgersen</td>\n",
       "      <td>36.7</td>\n",
       "      <td>19.3</td>\n",
       "      <td>193.0</td>\n",
       "      <td>3450.0</td>\n",
       "      <td>Female</td>\n",
       "    </tr>\n",
       "    <tr>\n",
       "      <th>...</th>\n",
       "      <td>...</td>\n",
       "      <td>...</td>\n",
       "      <td>...</td>\n",
       "      <td>...</td>\n",
       "      <td>...</td>\n",
       "      <td>...</td>\n",
       "      <td>...</td>\n",
       "    </tr>\n",
       "    <tr>\n",
       "      <th>339</th>\n",
       "      <td>Gentoo</td>\n",
       "      <td>Biscoe</td>\n",
       "      <td>NaN</td>\n",
       "      <td>NaN</td>\n",
       "      <td>NaN</td>\n",
       "      <td>NaN</td>\n",
       "      <td>NaN</td>\n",
       "    </tr>\n",
       "    <tr>\n",
       "      <th>340</th>\n",
       "      <td>Gentoo</td>\n",
       "      <td>Biscoe</td>\n",
       "      <td>46.8</td>\n",
       "      <td>14.3</td>\n",
       "      <td>215.0</td>\n",
       "      <td>4850.0</td>\n",
       "      <td>Female</td>\n",
       "    </tr>\n",
       "    <tr>\n",
       "      <th>341</th>\n",
       "      <td>Gentoo</td>\n",
       "      <td>Biscoe</td>\n",
       "      <td>50.4</td>\n",
       "      <td>15.7</td>\n",
       "      <td>222.0</td>\n",
       "      <td>5750.0</td>\n",
       "      <td>Male</td>\n",
       "    </tr>\n",
       "    <tr>\n",
       "      <th>342</th>\n",
       "      <td>Gentoo</td>\n",
       "      <td>Biscoe</td>\n",
       "      <td>45.2</td>\n",
       "      <td>14.8</td>\n",
       "      <td>212.0</td>\n",
       "      <td>5200.0</td>\n",
       "      <td>Female</td>\n",
       "    </tr>\n",
       "    <tr>\n",
       "      <th>343</th>\n",
       "      <td>Gentoo</td>\n",
       "      <td>Biscoe</td>\n",
       "      <td>49.9</td>\n",
       "      <td>16.1</td>\n",
       "      <td>213.0</td>\n",
       "      <td>5400.0</td>\n",
       "      <td>Male</td>\n",
       "    </tr>\n",
       "  </tbody>\n",
       "</table>\n",
       "<p>344 rows × 7 columns</p>\n",
       "</div>"
      ],
      "text/plain": [
       "            species     island  bill_length_mm  bill_depth_mm  \\\n",
       "0            Adelie  Torgersen            39.1           18.7   \n",
       "1            Adelie  Torgersen            39.5           17.4   \n",
       "2            Adelie  Torgersen            40.3           18.0   \n",
       "Chris Davis  Adelie  Torgersen             NaN            NaN   \n",
       "4            Adelie  Torgersen            36.7           19.3   \n",
       "...             ...        ...             ...            ...   \n",
       "339          Gentoo     Biscoe             NaN            NaN   \n",
       "340          Gentoo     Biscoe            46.8           14.3   \n",
       "341          Gentoo     Biscoe            50.4           15.7   \n",
       "342          Gentoo     Biscoe            45.2           14.8   \n",
       "343          Gentoo     Biscoe            49.9           16.1   \n",
       "\n",
       "             flipper_length_mm  body_mass_g     sex  \n",
       "0                        181.0       3750.0    Male  \n",
       "1                        186.0       3800.0  Female  \n",
       "2                        195.0       3250.0  Female  \n",
       "Chris Davis                NaN          NaN     NaN  \n",
       "4                        193.0       3450.0  Female  \n",
       "...                        ...          ...     ...  \n",
       "339                        NaN          NaN     NaN  \n",
       "340                      215.0       4850.0  Female  \n",
       "341                      222.0       5750.0    Male  \n",
       "342                      212.0       5200.0  Female  \n",
       "343                      213.0       5400.0    Male  \n",
       "\n",
       "[344 rows x 7 columns]"
      ]
     },
     "execution_count": 13,
     "metadata": {},
     "output_type": "execute_result"
    }
   ],
   "source": [
    "df.rename({3: \"Chris Davis\"}, axis=0)"
   ]
  },
  {
   "cell_type": "markdown",
   "metadata": {},
   "source": [
    "It's important to point out that we haven't changed `df` itself.  A hint that we haven't changed `df` is that DataFrames were displayed as the result of our code.  The code was creating new DataFrames, not changing the original DataFrame."
   ]
  },
  {
   "cell_type": "code",
   "execution_count": 14,
   "metadata": {
    "cell_id": "3ad3efeb24364b038eaa45a34a59ed59",
    "deepnote_cell_type": "code",
    "deepnote_to_be_reexecuted": false,
    "execution_millis": 19,
    "execution_start": 1682107888528,
    "source_hash": "f804c160"
   },
   "outputs": [
    {
     "data": {
      "application/vnd.deepnote.dataframe.v3+json": {
       "column_count": 7,
       "columns": [
        {
         "dtype": "object",
         "name": "species",
         "stats": {
          "categories": [
           {
            "count": 152,
            "name": "Adelie"
           },
           {
            "count": 124,
            "name": "Gentoo"
           },
           {
            "count": 68,
            "name": "Chinstrap"
           }
          ],
          "nan_count": 0,
          "unique_count": 3
         }
        },
        {
         "dtype": "object",
         "name": "island",
         "stats": {
          "categories": [
           {
            "count": 168,
            "name": "Biscoe"
           },
           {
            "count": 124,
            "name": "Dream"
           },
           {
            "count": 52,
            "name": "Torgersen"
           }
          ],
          "nan_count": 0,
          "unique_count": 3
         }
        },
        {
         "dtype": "float64",
         "name": "bill_length_mm",
         "stats": {
          "histogram": [
           {
            "bin_end": 34.85,
            "bin_start": 32.1,
            "count": 9
           },
           {
            "bin_end": 37.6,
            "bin_start": 34.85,
            "count": 40
           },
           {
            "bin_end": 40.35,
            "bin_start": 37.6,
            "count": 57
           },
           {
            "bin_end": 43.1,
            "bin_start": 40.35,
            "count": 48
           },
           {
            "bin_end": 45.85,
            "bin_start": 43.1,
            "count": 49
           },
           {
            "bin_end": 48.6,
            "bin_start": 45.85,
            "count": 55
           },
           {
            "bin_end": 51.35,
            "bin_start": 48.6,
            "count": 61
           },
           {
            "bin_end": 54.1,
            "bin_start": 51.35,
            "count": 16
           },
           {
            "bin_end": 56.85,
            "bin_start": 54.1,
            "count": 5
           },
           {
            "bin_end": 59.6,
            "bin_start": 56.85,
            "count": 2
           }
          ],
          "max": "59.6",
          "min": "32.1",
          "nan_count": 2,
          "unique_count": 164
         }
        },
        {
         "dtype": "float64",
         "name": "bill_depth_mm",
         "stats": {
          "histogram": [
           {
            "bin_end": 13.94,
            "bin_start": 13.1,
            "count": 21
           },
           {
            "bin_end": 14.78,
            "bin_start": 13.94,
            "count": 35
           },
           {
            "bin_end": 15.620000000000001,
            "bin_start": 14.78,
            "count": 32
           },
           {
            "bin_end": 16.46,
            "bin_start": 15.620000000000001,
            "count": 34
           },
           {
            "bin_end": 17.3,
            "bin_start": 16.46,
            "count": 44
           },
           {
            "bin_end": 18.14,
            "bin_start": 17.3,
            "count": 55
           },
           {
            "bin_end": 18.98,
            "bin_start": 18.14,
            "count": 56
           },
           {
            "bin_end": 19.82,
            "bin_start": 18.98,
            "count": 39
           },
           {
            "bin_end": 20.66,
            "bin_start": 19.82,
            "count": 16
           },
           {
            "bin_end": 21.5,
            "bin_start": 20.66,
            "count": 10
           }
          ],
          "max": "21.5",
          "min": "13.1",
          "nan_count": 2,
          "unique_count": 80
         }
        },
        {
         "dtype": "float64",
         "name": "flipper_length_mm",
         "stats": {
          "histogram": [
           {
            "bin_end": 177.9,
            "bin_start": 172,
            "count": 3
           },
           {
            "bin_end": 183.8,
            "bin_start": 177.9,
            "count": 22
           },
           {
            "bin_end": 189.7,
            "bin_start": 183.8,
            "count": 52
           },
           {
            "bin_end": 195.6,
            "bin_start": 189.7,
            "count": 79
           },
           {
            "bin_end": 201.5,
            "bin_start": 195.6,
            "count": 44
           },
           {
            "bin_end": 207.4,
            "bin_start": 201.5,
            "count": 15
           },
           {
            "bin_end": 213.3,
            "bin_start": 207.4,
            "count": 42
           },
           {
            "bin_end": 219.2,
            "bin_start": 213.3,
            "count": 42
           },
           {
            "bin_end": 225.1,
            "bin_start": 219.2,
            "count": 28
           },
           {
            "bin_end": 231,
            "bin_start": 225.1,
            "count": 15
           }
          ],
          "max": "231.0",
          "min": "172.0",
          "nan_count": 2,
          "unique_count": 55
         }
        },
        {
         "dtype": "float64",
         "name": "body_mass_g",
         "stats": {
          "histogram": [
           {
            "bin_end": 3060,
            "bin_start": 2700,
            "count": 15
           },
           {
            "bin_end": 3420,
            "bin_start": 3060,
            "count": 43
           },
           {
            "bin_end": 3780,
            "bin_start": 3420,
            "count": 71
           },
           {
            "bin_end": 4140,
            "bin_start": 3780,
            "count": 53
           },
           {
            "bin_end": 4500,
            "bin_start": 4140,
            "count": 42
           },
           {
            "bin_end": 4860,
            "bin_start": 4500,
            "count": 41
           },
           {
            "bin_end": 5220,
            "bin_start": 4860,
            "count": 28
           },
           {
            "bin_end": 5580,
            "bin_start": 5220,
            "count": 27
           },
           {
            "bin_end": 5940,
            "bin_start": 5580,
            "count": 16
           },
           {
            "bin_end": 6300,
            "bin_start": 5940,
            "count": 6
           }
          ],
          "max": "6300.0",
          "min": "2700.0",
          "nan_count": 2,
          "unique_count": 94
         }
        },
        {
         "dtype": "object",
         "name": "sex",
         "stats": {
          "categories": [
           {
            "count": 168,
            "name": "Male"
           },
           {
            "count": 165,
            "name": "Female"
           },
           {
            "count": 11,
            "name": "Missing"
           }
          ],
          "nan_count": 11,
          "unique_count": 2
         }
        },
        {
         "dtype": "int64",
         "name": "_deepnote_index_column"
        }
       ],
       "row_count": 344,
       "rows": [
        {
         "_deepnote_index_column": "0",
         "bill_depth_mm": "18.7",
         "bill_length_mm": "39.1",
         "body_mass_g": "3750.0",
         "flipper_length_mm": "181.0",
         "island": "Torgersen",
         "sex": "Male",
         "species": "Adelie"
        },
        {
         "_deepnote_index_column": "1",
         "bill_depth_mm": "17.4",
         "bill_length_mm": "39.5",
         "body_mass_g": "3800.0",
         "flipper_length_mm": "186.0",
         "island": "Torgersen",
         "sex": "Female",
         "species": "Adelie"
        },
        {
         "_deepnote_index_column": "2",
         "bill_depth_mm": "18.0",
         "bill_length_mm": "40.3",
         "body_mass_g": "3250.0",
         "flipper_length_mm": "195.0",
         "island": "Torgersen",
         "sex": "Female",
         "species": "Adelie"
        },
        {
         "_deepnote_index_column": "3",
         "bill_depth_mm": "nan",
         "bill_length_mm": "nan",
         "body_mass_g": "nan",
         "flipper_length_mm": "nan",
         "island": "Torgersen",
         "sex": "nan",
         "species": "Adelie"
        },
        {
         "_deepnote_index_column": "4",
         "bill_depth_mm": "19.3",
         "bill_length_mm": "36.7",
         "body_mass_g": "3450.0",
         "flipper_length_mm": "193.0",
         "island": "Torgersen",
         "sex": "Female",
         "species": "Adelie"
        },
        {
         "_deepnote_index_column": "5",
         "bill_depth_mm": "20.6",
         "bill_length_mm": "39.3",
         "body_mass_g": "3650.0",
         "flipper_length_mm": "190.0",
         "island": "Torgersen",
         "sex": "Male",
         "species": "Adelie"
        },
        {
         "_deepnote_index_column": "6",
         "bill_depth_mm": "17.8",
         "bill_length_mm": "38.9",
         "body_mass_g": "3625.0",
         "flipper_length_mm": "181.0",
         "island": "Torgersen",
         "sex": "Female",
         "species": "Adelie"
        },
        {
         "_deepnote_index_column": "7",
         "bill_depth_mm": "19.6",
         "bill_length_mm": "39.2",
         "body_mass_g": "4675.0",
         "flipper_length_mm": "195.0",
         "island": "Torgersen",
         "sex": "Male",
         "species": "Adelie"
        },
        {
         "_deepnote_index_column": "8",
         "bill_depth_mm": "18.1",
         "bill_length_mm": "34.1",
         "body_mass_g": "3475.0",
         "flipper_length_mm": "193.0",
         "island": "Torgersen",
         "sex": "nan",
         "species": "Adelie"
        },
        {
         "_deepnote_index_column": "9",
         "bill_depth_mm": "20.2",
         "bill_length_mm": "42.0",
         "body_mass_g": "4250.0",
         "flipper_length_mm": "190.0",
         "island": "Torgersen",
         "sex": "nan",
         "species": "Adelie"
        }
       ]
      },
      "text/html": [
       "<div>\n",
       "<style scoped>\n",
       "    .dataframe tbody tr th:only-of-type {\n",
       "        vertical-align: middle;\n",
       "    }\n",
       "\n",
       "    .dataframe tbody tr th {\n",
       "        vertical-align: top;\n",
       "    }\n",
       "\n",
       "    .dataframe thead th {\n",
       "        text-align: right;\n",
       "    }\n",
       "</style>\n",
       "<table border=\"1\" class=\"dataframe\">\n",
       "  <thead>\n",
       "    <tr style=\"text-align: right;\">\n",
       "      <th></th>\n",
       "      <th>species</th>\n",
       "      <th>island</th>\n",
       "      <th>bill_length_mm</th>\n",
       "      <th>bill_depth_mm</th>\n",
       "      <th>flipper_length_mm</th>\n",
       "      <th>body_mass_g</th>\n",
       "      <th>sex</th>\n",
       "    </tr>\n",
       "  </thead>\n",
       "  <tbody>\n",
       "    <tr>\n",
       "      <th>0</th>\n",
       "      <td>Adelie</td>\n",
       "      <td>Torgersen</td>\n",
       "      <td>39.1</td>\n",
       "      <td>18.7</td>\n",
       "      <td>181.0</td>\n",
       "      <td>3750.0</td>\n",
       "      <td>Male</td>\n",
       "    </tr>\n",
       "    <tr>\n",
       "      <th>1</th>\n",
       "      <td>Adelie</td>\n",
       "      <td>Torgersen</td>\n",
       "      <td>39.5</td>\n",
       "      <td>17.4</td>\n",
       "      <td>186.0</td>\n",
       "      <td>3800.0</td>\n",
       "      <td>Female</td>\n",
       "    </tr>\n",
       "    <tr>\n",
       "      <th>2</th>\n",
       "      <td>Adelie</td>\n",
       "      <td>Torgersen</td>\n",
       "      <td>40.3</td>\n",
       "      <td>18.0</td>\n",
       "      <td>195.0</td>\n",
       "      <td>3250.0</td>\n",
       "      <td>Female</td>\n",
       "    </tr>\n",
       "    <tr>\n",
       "      <th>3</th>\n",
       "      <td>Adelie</td>\n",
       "      <td>Torgersen</td>\n",
       "      <td>NaN</td>\n",
       "      <td>NaN</td>\n",
       "      <td>NaN</td>\n",
       "      <td>NaN</td>\n",
       "      <td>NaN</td>\n",
       "    </tr>\n",
       "    <tr>\n",
       "      <th>4</th>\n",
       "      <td>Adelie</td>\n",
       "      <td>Torgersen</td>\n",
       "      <td>36.7</td>\n",
       "      <td>19.3</td>\n",
       "      <td>193.0</td>\n",
       "      <td>3450.0</td>\n",
       "      <td>Female</td>\n",
       "    </tr>\n",
       "    <tr>\n",
       "      <th>...</th>\n",
       "      <td>...</td>\n",
       "      <td>...</td>\n",
       "      <td>...</td>\n",
       "      <td>...</td>\n",
       "      <td>...</td>\n",
       "      <td>...</td>\n",
       "      <td>...</td>\n",
       "    </tr>\n",
       "    <tr>\n",
       "      <th>339</th>\n",
       "      <td>Gentoo</td>\n",
       "      <td>Biscoe</td>\n",
       "      <td>NaN</td>\n",
       "      <td>NaN</td>\n",
       "      <td>NaN</td>\n",
       "      <td>NaN</td>\n",
       "      <td>NaN</td>\n",
       "    </tr>\n",
       "    <tr>\n",
       "      <th>340</th>\n",
       "      <td>Gentoo</td>\n",
       "      <td>Biscoe</td>\n",
       "      <td>46.8</td>\n",
       "      <td>14.3</td>\n",
       "      <td>215.0</td>\n",
       "      <td>4850.0</td>\n",
       "      <td>Female</td>\n",
       "    </tr>\n",
       "    <tr>\n",
       "      <th>341</th>\n",
       "      <td>Gentoo</td>\n",
       "      <td>Biscoe</td>\n",
       "      <td>50.4</td>\n",
       "      <td>15.7</td>\n",
       "      <td>222.0</td>\n",
       "      <td>5750.0</td>\n",
       "      <td>Male</td>\n",
       "    </tr>\n",
       "    <tr>\n",
       "      <th>342</th>\n",
       "      <td>Gentoo</td>\n",
       "      <td>Biscoe</td>\n",
       "      <td>45.2</td>\n",
       "      <td>14.8</td>\n",
       "      <td>212.0</td>\n",
       "      <td>5200.0</td>\n",
       "      <td>Female</td>\n",
       "    </tr>\n",
       "    <tr>\n",
       "      <th>343</th>\n",
       "      <td>Gentoo</td>\n",
       "      <td>Biscoe</td>\n",
       "      <td>49.9</td>\n",
       "      <td>16.1</td>\n",
       "      <td>213.0</td>\n",
       "      <td>5400.0</td>\n",
       "      <td>Male</td>\n",
       "    </tr>\n",
       "  </tbody>\n",
       "</table>\n",
       "<p>344 rows × 7 columns</p>\n",
       "</div>"
      ],
      "text/plain": [
       "    species     island  bill_length_mm  bill_depth_mm  flipper_length_mm  \\\n",
       "0    Adelie  Torgersen            39.1           18.7              181.0   \n",
       "1    Adelie  Torgersen            39.5           17.4              186.0   \n",
       "2    Adelie  Torgersen            40.3           18.0              195.0   \n",
       "3    Adelie  Torgersen             NaN            NaN                NaN   \n",
       "4    Adelie  Torgersen            36.7           19.3              193.0   \n",
       "..      ...        ...             ...            ...                ...   \n",
       "339  Gentoo     Biscoe             NaN            NaN                NaN   \n",
       "340  Gentoo     Biscoe            46.8           14.3              215.0   \n",
       "341  Gentoo     Biscoe            50.4           15.7              222.0   \n",
       "342  Gentoo     Biscoe            45.2           14.8              212.0   \n",
       "343  Gentoo     Biscoe            49.9           16.1              213.0   \n",
       "\n",
       "     body_mass_g     sex  \n",
       "0         3750.0    Male  \n",
       "1         3800.0  Female  \n",
       "2         3250.0  Female  \n",
       "3            NaN     NaN  \n",
       "4         3450.0  Female  \n",
       "..           ...     ...  \n",
       "339          NaN     NaN  \n",
       "340       4850.0  Female  \n",
       "341       5750.0    Male  \n",
       "342       5200.0  Female  \n",
       "343       5400.0    Male  \n",
       "\n",
       "[344 rows x 7 columns]"
      ]
     },
     "execution_count": 14,
     "metadata": {},
     "output_type": "execute_result"
    }
   ],
   "source": [
    "# so far, we haven't changed df itself\n",
    "df"
   ]
  },
  {
   "cell_type": "markdown",
   "metadata": {},
   "source": [
    "If we want to change `df` itself, we should assign the result back to `df`.  (Warning: this can be dangerous; it would be safer to call this DataFrame something different, like `df2`.  If you make a mistake at this stage, it's very possible to destroy `df`, in which case you will need to restart the notebook.)"
   ]
  },
  {
   "cell_type": "code",
   "execution_count": 15,
   "metadata": {
    "cell_id": "003876bd021c418095e568847b3b63e1",
    "deepnote_cell_type": "code",
    "deepnote_to_be_reexecuted": false,
    "execution_millis": 3,
    "execution_start": 1682107955647,
    "source_hash": "85a0a440"
   },
   "outputs": [],
   "source": [
    "# another: df.rename({\"island\": \"location\", \"sex\":\"gender\"}, axis=1, inplace=True) (no df =)\n",
    "df = df.rename({\"island\": \"location\", \"sex\":\"gender\"}, axis=1)"
   ]
  },
  {
   "cell_type": "markdown",
   "metadata": {},
   "source": [
    "Another option to accomplish the same thing would be to use the `inplace` keyword argument:\n",
    "```\n",
    "df.rename({\"island\": \"location\", \"sex\":\"gender\"}, axis=1, inplace=True)\n",
    "```\n",
    "Notice how we do not put `df=` at the beginning when using the `inplace` keyword argument.  How would you know that option existed?  You could check the documentation for the `rename` method, as below."
   ]
  },
  {
   "cell_type": "code",
   "execution_count": 16,
   "metadata": {
    "cell_id": "0a11999982384f578420fc4018b0f7a2",
    "deepnote_cell_type": "code",
    "deepnote_to_be_reexecuted": false,
    "execution_millis": 6,
    "execution_start": 1682108061852,
    "source_hash": "58b7c85a",
    "tags": [
     "output_scroll"
    ]
   },
   "outputs": [
    {
     "name": "stdout",
     "output_type": "stream",
     "text": [
      "Help on method rename in module pandas.core.frame:\n",
      "\n",
      "rename(mapper=None, index=None, columns=None, axis=None, copy=True, inplace=False, level=None, errors='ignore') method of pandas.core.frame.DataFrame instance\n",
      "    Alter axes labels.\n",
      "    \n",
      "    Function / dict values must be unique (1-to-1). Labels not contained in\n",
      "    a dict / Series will be left as-is. Extra labels listed don't throw an\n",
      "    error.\n",
      "    \n",
      "    See the :ref:`user guide <basics.rename>` for more.\n",
      "    \n",
      "    Parameters\n",
      "    ----------\n",
      "    mapper : dict-like or function\n",
      "        Dict-like or function transformations to apply to\n",
      "        that axis' values. Use either ``mapper`` and ``axis`` to\n",
      "        specify the axis to target with ``mapper``, or ``index`` and\n",
      "        ``columns``.\n",
      "    index : dict-like or function\n",
      "        Alternative to specifying axis (``mapper, axis=0``\n",
      "        is equivalent to ``index=mapper``).\n",
      "    columns : dict-like or function\n",
      "        Alternative to specifying axis (``mapper, axis=1``\n",
      "        is equivalent to ``columns=mapper``).\n",
      "    axis : {0 or 'index', 1 or 'columns'}, default 0\n",
      "        Axis to target with ``mapper``. Can be either the axis name\n",
      "        ('index', 'columns') or number (0, 1). The default is 'index'.\n",
      "    copy : bool, default True\n",
      "        Also copy underlying data.\n",
      "    inplace : bool, default False\n",
      "        Whether to return a new DataFrame. If True then value of copy is\n",
      "        ignored.\n",
      "    level : int or level name, default None\n",
      "        In case of a MultiIndex, only rename labels in the specified\n",
      "        level.\n",
      "    errors : {'ignore', 'raise'}, default 'ignore'\n",
      "        If 'raise', raise a `KeyError` when a dict-like `mapper`, `index`,\n",
      "        or `columns` contains labels that are not present in the Index\n",
      "        being transformed.\n",
      "        If 'ignore', existing keys will be renamed and extra keys will be\n",
      "        ignored.\n",
      "    \n",
      "    Returns\n",
      "    -------\n",
      "    DataFrame or None\n",
      "        DataFrame with the renamed axis labels or None if ``inplace=True``.\n",
      "    \n",
      "    Raises\n",
      "    ------\n",
      "    KeyError\n",
      "        If any of the labels is not found in the selected axis and\n",
      "        \"errors='raise'\".\n",
      "    \n",
      "    See Also\n",
      "    --------\n",
      "    DataFrame.rename_axis : Set the name of the axis.\n",
      "    \n",
      "    Examples\n",
      "    --------\n",
      "    ``DataFrame.rename`` supports two calling conventions\n",
      "    \n",
      "    * ``(index=index_mapper, columns=columns_mapper, ...)``\n",
      "    * ``(mapper, axis={'index', 'columns'}, ...)``\n",
      "    \n",
      "    We *highly* recommend using keyword arguments to clarify your\n",
      "    intent.\n",
      "    \n",
      "    Rename columns using a mapping:\n",
      "    \n",
      "    >>> df = pd.DataFrame({\"A\": [1, 2, 3], \"B\": [4, 5, 6]})\n",
      "    >>> df.rename(columns={\"A\": \"a\", \"B\": \"c\"})\n",
      "       a  c\n",
      "    0  1  4\n",
      "    1  2  5\n",
      "    2  3  6\n",
      "    \n",
      "    Rename index using a mapping:\n",
      "    \n",
      "    >>> df.rename(index={0: \"x\", 1: \"y\", 2: \"z\"})\n",
      "       A  B\n",
      "    x  1  4\n",
      "    y  2  5\n",
      "    z  3  6\n",
      "    \n",
      "    Cast index labels to a different type:\n",
      "    \n",
      "    >>> df.index\n",
      "    RangeIndex(start=0, stop=3, step=1)\n",
      "    >>> df.rename(index=str).index\n",
      "    Index(['0', '1', '2'], dtype='object')\n",
      "    \n",
      "    >>> df.rename(columns={\"A\": \"a\", \"B\": \"b\", \"C\": \"c\"}, errors=\"raise\")\n",
      "    Traceback (most recent call last):\n",
      "    KeyError: ['C'] not found in axis\n",
      "    \n",
      "    Using axis-style parameters:\n",
      "    \n",
      "    >>> df.rename(str.lower, axis='columns')\n",
      "       a  b\n",
      "    0  1  4\n",
      "    1  2  5\n",
      "    2  3  6\n",
      "    \n",
      "    >>> df.rename({1: 2, 2: 4}, axis='index')\n",
      "       A  B\n",
      "    0  1  4\n",
      "    2  2  5\n",
      "    4  3  6\n",
      "\n"
     ]
    }
   ],
   "source": [
    "help(df.rename)"
   ]
  },
  {
   "cell_type": "markdown",
   "metadata": {
    "cell_id": "469b0a386c0745ae80ad5c40edb0a743",
    "deepnote_cell_type": "markdown"
   },
   "source": [
    "Delete all the rows which contain missing values.  (There is a shorter way to do this, but the following is a nice example of some useful pandas tools.)\n",
    "* First make a Boolean DataFrame indicating whether the data value is missing, using the `isna` method.\n",
    "\n",
    "Notice how there are missing values.  Here I am \"slicing\" from row 1 (inclusive, that's not the top row) to row 5 (exclusive) just for a different example.  I would usually use something like `df.head(5)` instead.  Notice that this slicing refers to rows, not to columns."
   ]
  },
  {
   "cell_type": "code",
   "execution_count": 18,
   "metadata": {
    "cell_id": "f477806c2a7b438994b06a4291b188ae",
    "deepnote_cell_type": "code",
    "deepnote_to_be_reexecuted": false,
    "execution_millis": 5,
    "execution_start": 1682108276188,
    "source_hash": "6c168ba1"
   },
   "outputs": [
    {
     "data": {
      "application/vnd.deepnote.dataframe.v3+json": {
       "column_count": 7,
       "columns": [
        {
         "dtype": "object",
         "name": "species",
         "stats": {
          "categories": [
           {
            "count": 4,
            "name": "Adelie"
           }
          ],
          "nan_count": 0,
          "unique_count": 1
         }
        },
        {
         "dtype": "object",
         "name": "location",
         "stats": {
          "categories": [
           {
            "count": 4,
            "name": "Torgersen"
           }
          ],
          "nan_count": 0,
          "unique_count": 1
         }
        },
        {
         "dtype": "float64",
         "name": "bill_length_mm",
         "stats": {
          "histogram": [
           {
            "bin_end": 37.06,
            "bin_start": 36.7,
            "count": 1
           },
           {
            "bin_end": 37.42,
            "bin_start": 37.06,
            "count": 0
           },
           {
            "bin_end": 37.78,
            "bin_start": 37.42,
            "count": 0
           },
           {
            "bin_end": 38.14,
            "bin_start": 37.78,
            "count": 0
           },
           {
            "bin_end": 38.5,
            "bin_start": 38.14,
            "count": 0
           },
           {
            "bin_end": 38.86,
            "bin_start": 38.5,
            "count": 0
           },
           {
            "bin_end": 39.22,
            "bin_start": 38.86,
            "count": 0
           },
           {
            "bin_end": 39.58,
            "bin_start": 39.22,
            "count": 1
           },
           {
            "bin_end": 39.94,
            "bin_start": 39.58,
            "count": 0
           },
           {
            "bin_end": 40.3,
            "bin_start": 39.94,
            "count": 1
           }
          ],
          "max": "40.3",
          "min": "36.7",
          "nan_count": 1,
          "unique_count": 3
         }
        },
        {
         "dtype": "float64",
         "name": "bill_depth_mm",
         "stats": {
          "histogram": [
           {
            "bin_end": 17.59,
            "bin_start": 17.4,
            "count": 1
           },
           {
            "bin_end": 17.779999999999998,
            "bin_start": 17.59,
            "count": 0
           },
           {
            "bin_end": 17.97,
            "bin_start": 17.779999999999998,
            "count": 0
           },
           {
            "bin_end": 18.16,
            "bin_start": 17.97,
            "count": 1
           },
           {
            "bin_end": 18.35,
            "bin_start": 18.16,
            "count": 0
           },
           {
            "bin_end": 18.54,
            "bin_start": 18.35,
            "count": 0
           },
           {
            "bin_end": 18.73,
            "bin_start": 18.54,
            "count": 0
           },
           {
            "bin_end": 18.92,
            "bin_start": 18.73,
            "count": 0
           },
           {
            "bin_end": 19.11,
            "bin_start": 18.92,
            "count": 0
           },
           {
            "bin_end": 19.3,
            "bin_start": 19.11,
            "count": 1
           }
          ],
          "max": "19.3",
          "min": "17.4",
          "nan_count": 1,
          "unique_count": 3
         }
        },
        {
         "dtype": "float64",
         "name": "flipper_length_mm",
         "stats": {
          "histogram": [
           {
            "bin_end": 186.9,
            "bin_start": 186,
            "count": 1
           },
           {
            "bin_end": 187.8,
            "bin_start": 186.9,
            "count": 0
           },
           {
            "bin_end": 188.7,
            "bin_start": 187.8,
            "count": 0
           },
           {
            "bin_end": 189.6,
            "bin_start": 188.7,
            "count": 0
           },
           {
            "bin_end": 190.5,
            "bin_start": 189.6,
            "count": 0
           },
           {
            "bin_end": 191.4,
            "bin_start": 190.5,
            "count": 0
           },
           {
            "bin_end": 192.3,
            "bin_start": 191.4,
            "count": 0
           },
           {
            "bin_end": 193.2,
            "bin_start": 192.3,
            "count": 1
           },
           {
            "bin_end": 194.1,
            "bin_start": 193.2,
            "count": 0
           },
           {
            "bin_end": 195,
            "bin_start": 194.1,
            "count": 1
           }
          ],
          "max": "195.0",
          "min": "186.0",
          "nan_count": 1,
          "unique_count": 3
         }
        },
        {
         "dtype": "float64",
         "name": "body_mass_g",
         "stats": {
          "histogram": [
           {
            "bin_end": 3305,
            "bin_start": 3250,
            "count": 1
           },
           {
            "bin_end": 3360,
            "bin_start": 3305,
            "count": 0
           },
           {
            "bin_end": 3415,
            "bin_start": 3360,
            "count": 0
           },
           {
            "bin_end": 3470,
            "bin_start": 3415,
            "count": 1
           },
           {
            "bin_end": 3525,
            "bin_start": 3470,
            "count": 0
           },
           {
            "bin_end": 3580,
            "bin_start": 3525,
            "count": 0
           },
           {
            "bin_end": 3635,
            "bin_start": 3580,
            "count": 0
           },
           {
            "bin_end": 3690,
            "bin_start": 3635,
            "count": 0
           },
           {
            "bin_end": 3745,
            "bin_start": 3690,
            "count": 0
           },
           {
            "bin_end": 3800,
            "bin_start": 3745,
            "count": 1
           }
          ],
          "max": "3800.0",
          "min": "3250.0",
          "nan_count": 1,
          "unique_count": 3
         }
        },
        {
         "dtype": "object",
         "name": "gender",
         "stats": {
          "categories": [
           {
            "count": 3,
            "name": "Female"
           },
           {
            "count": 1,
            "name": "Missing"
           }
          ],
          "nan_count": 1,
          "unique_count": 1
         }
        },
        {
         "dtype": "int64",
         "name": "_deepnote_index_column"
        }
       ],
       "row_count": 4,
       "rows": [
        {
         "_deepnote_index_column": "1",
         "bill_depth_mm": "17.4",
         "bill_length_mm": "39.5",
         "body_mass_g": "3800.0",
         "flipper_length_mm": "186.0",
         "gender": "Female",
         "location": "Torgersen",
         "species": "Adelie"
        },
        {
         "_deepnote_index_column": "2",
         "bill_depth_mm": "18.0",
         "bill_length_mm": "40.3",
         "body_mass_g": "3250.0",
         "flipper_length_mm": "195.0",
         "gender": "Female",
         "location": "Torgersen",
         "species": "Adelie"
        },
        {
         "_deepnote_index_column": "3",
         "bill_depth_mm": "nan",
         "bill_length_mm": "nan",
         "body_mass_g": "nan",
         "flipper_length_mm": "nan",
         "gender": "nan",
         "location": "Torgersen",
         "species": "Adelie"
        },
        {
         "_deepnote_index_column": "4",
         "bill_depth_mm": "19.3",
         "bill_length_mm": "36.7",
         "body_mass_g": "3450.0",
         "flipper_length_mm": "193.0",
         "gender": "Female",
         "location": "Torgersen",
         "species": "Adelie"
        }
       ]
      },
      "text/html": [
       "<div>\n",
       "<style scoped>\n",
       "    .dataframe tbody tr th:only-of-type {\n",
       "        vertical-align: middle;\n",
       "    }\n",
       "\n",
       "    .dataframe tbody tr th {\n",
       "        vertical-align: top;\n",
       "    }\n",
       "\n",
       "    .dataframe thead th {\n",
       "        text-align: right;\n",
       "    }\n",
       "</style>\n",
       "<table border=\"1\" class=\"dataframe\">\n",
       "  <thead>\n",
       "    <tr style=\"text-align: right;\">\n",
       "      <th></th>\n",
       "      <th>species</th>\n",
       "      <th>location</th>\n",
       "      <th>bill_length_mm</th>\n",
       "      <th>bill_depth_mm</th>\n",
       "      <th>flipper_length_mm</th>\n",
       "      <th>body_mass_g</th>\n",
       "      <th>gender</th>\n",
       "    </tr>\n",
       "  </thead>\n",
       "  <tbody>\n",
       "    <tr>\n",
       "      <th>1</th>\n",
       "      <td>Adelie</td>\n",
       "      <td>Torgersen</td>\n",
       "      <td>39.5</td>\n",
       "      <td>17.4</td>\n",
       "      <td>186.0</td>\n",
       "      <td>3800.0</td>\n",
       "      <td>Female</td>\n",
       "    </tr>\n",
       "    <tr>\n",
       "      <th>2</th>\n",
       "      <td>Adelie</td>\n",
       "      <td>Torgersen</td>\n",
       "      <td>40.3</td>\n",
       "      <td>18.0</td>\n",
       "      <td>195.0</td>\n",
       "      <td>3250.0</td>\n",
       "      <td>Female</td>\n",
       "    </tr>\n",
       "    <tr>\n",
       "      <th>3</th>\n",
       "      <td>Adelie</td>\n",
       "      <td>Torgersen</td>\n",
       "      <td>NaN</td>\n",
       "      <td>NaN</td>\n",
       "      <td>NaN</td>\n",
       "      <td>NaN</td>\n",
       "      <td>NaN</td>\n",
       "    </tr>\n",
       "    <tr>\n",
       "      <th>4</th>\n",
       "      <td>Adelie</td>\n",
       "      <td>Torgersen</td>\n",
       "      <td>36.7</td>\n",
       "      <td>19.3</td>\n",
       "      <td>193.0</td>\n",
       "      <td>3450.0</td>\n",
       "      <td>Female</td>\n",
       "    </tr>\n",
       "  </tbody>\n",
       "</table>\n",
       "</div>"
      ],
      "text/plain": [
       "  species   location  bill_length_mm  bill_depth_mm  flipper_length_mm  \\\n",
       "1  Adelie  Torgersen            39.5           17.4              186.0   \n",
       "2  Adelie  Torgersen            40.3           18.0              195.0   \n",
       "3  Adelie  Torgersen             NaN            NaN                NaN   \n",
       "4  Adelie  Torgersen            36.7           19.3              193.0   \n",
       "\n",
       "   body_mass_g  gender  \n",
       "1       3800.0  Female  \n",
       "2       3250.0  Female  \n",
       "3          NaN     NaN  \n",
       "4       3450.0  Female  "
      ]
     },
     "execution_count": 18,
     "metadata": {},
     "output_type": "execute_result"
    }
   ],
   "source": [
    "df[1:5]"
   ]
  },
  {
   "cell_type": "markdown",
   "metadata": {},
   "source": [
    "Here is the row we can see that has missing values."
   ]
  },
  {
   "cell_type": "code",
   "execution_count": 19,
   "metadata": {
    "cell_id": "34b051db77dd4083985fba5fc3dabdcc",
    "deepnote_cell_type": "code",
    "deepnote_to_be_reexecuted": false,
    "execution_millis": 5,
    "execution_start": 1682108633833,
    "source_hash": "836eb324"
   },
   "outputs": [
    {
     "data": {
      "text/plain": [
       "species                 Adelie\n",
       "location             Torgersen\n",
       "bill_length_mm             NaN\n",
       "bill_depth_mm              NaN\n",
       "flipper_length_mm          NaN\n",
       "body_mass_g                NaN\n",
       "gender                     NaN\n",
       "Name: 3, dtype: object"
      ]
     },
     "execution_count": 19,
     "metadata": {},
     "output_type": "execute_result"
    }
   ],
   "source": [
    "# row labeled 3\n",
    "df.loc[3]"
   ]
  },
  {
   "cell_type": "markdown",
   "metadata": {},
   "source": [
    "This is just a reminder of how `df.loc` works.  We need to use the column label."
   ]
  },
  {
   "cell_type": "code",
   "execution_count": 20,
   "metadata": {
    "cell_id": "840d618b7e1b401d88202eabd1bd7506",
    "deepnote_cell_type": "code",
    "deepnote_to_be_reexecuted": false,
    "execution_millis": 3,
    "execution_start": 1682108648327,
    "source_hash": "244a6ca4"
   },
   "outputs": [
    {
     "data": {
      "text/plain": [
       "'Torgersen'"
      ]
     },
     "execution_count": 20,
     "metadata": {},
     "output_type": "execute_result"
    }
   ],
   "source": [
    "df.loc[3, \"location\"]"
   ]
  },
  {
   "cell_type": "markdown",
   "metadata": {},
   "source": [
    "Notice the `True` values in the row labeled `3` in the following.  Those `True` values correspond to the missing values we just saw."
   ]
  },
  {
   "cell_type": "code",
   "execution_count": 17,
   "metadata": {
    "cell_id": "d2181b3f01bc4c3eb0f277ce053cef46",
    "deepnote_cell_type": "code",
    "deepnote_to_be_reexecuted": false,
    "execution_millis": 7,
    "execution_start": 1682108248158,
    "source_hash": "6bf2de06"
   },
   "outputs": [
    {
     "data": {
      "application/vnd.deepnote.dataframe.v3+json": {
       "column_count": 7,
       "columns": [
        {
         "dtype": "bool",
         "name": "species",
         "stats": {
          "categories": [
           {
            "count": 344,
            "name": "False"
           }
          ],
          "nan_count": 0,
          "unique_count": 1
         }
        },
        {
         "dtype": "bool",
         "name": "location",
         "stats": {
          "categories": [
           {
            "count": 344,
            "name": "False"
           }
          ],
          "nan_count": 0,
          "unique_count": 1
         }
        },
        {
         "dtype": "bool",
         "name": "bill_length_mm",
         "stats": {
          "categories": [
           {
            "count": 342,
            "name": "False"
           },
           {
            "count": 2,
            "name": "True"
           }
          ],
          "nan_count": 0,
          "unique_count": 2
         }
        },
        {
         "dtype": "bool",
         "name": "bill_depth_mm",
         "stats": {
          "categories": [
           {
            "count": 342,
            "name": "False"
           },
           {
            "count": 2,
            "name": "True"
           }
          ],
          "nan_count": 0,
          "unique_count": 2
         }
        },
        {
         "dtype": "bool",
         "name": "flipper_length_mm",
         "stats": {
          "categories": [
           {
            "count": 342,
            "name": "False"
           },
           {
            "count": 2,
            "name": "True"
           }
          ],
          "nan_count": 0,
          "unique_count": 2
         }
        },
        {
         "dtype": "bool",
         "name": "body_mass_g",
         "stats": {
          "categories": [
           {
            "count": 342,
            "name": "False"
           },
           {
            "count": 2,
            "name": "True"
           }
          ],
          "nan_count": 0,
          "unique_count": 2
         }
        },
        {
         "dtype": "bool",
         "name": "gender",
         "stats": {
          "categories": [
           {
            "count": 333,
            "name": "False"
           },
           {
            "count": 11,
            "name": "True"
           }
          ],
          "nan_count": 0,
          "unique_count": 2
         }
        },
        {
         "dtype": "int64",
         "name": "_deepnote_index_column"
        }
       ],
       "row_count": 344,
       "rows": [
        {
         "_deepnote_index_column": "0",
         "bill_depth_mm": "False",
         "bill_length_mm": "False",
         "body_mass_g": "False",
         "flipper_length_mm": "False",
         "gender": "False",
         "location": "False",
         "species": "False"
        },
        {
         "_deepnote_index_column": "1",
         "bill_depth_mm": "False",
         "bill_length_mm": "False",
         "body_mass_g": "False",
         "flipper_length_mm": "False",
         "gender": "False",
         "location": "False",
         "species": "False"
        },
        {
         "_deepnote_index_column": "2",
         "bill_depth_mm": "False",
         "bill_length_mm": "False",
         "body_mass_g": "False",
         "flipper_length_mm": "False",
         "gender": "False",
         "location": "False",
         "species": "False"
        },
        {
         "_deepnote_index_column": "3",
         "bill_depth_mm": "True",
         "bill_length_mm": "True",
         "body_mass_g": "True",
         "flipper_length_mm": "True",
         "gender": "True",
         "location": "False",
         "species": "False"
        },
        {
         "_deepnote_index_column": "4",
         "bill_depth_mm": "False",
         "bill_length_mm": "False",
         "body_mass_g": "False",
         "flipper_length_mm": "False",
         "gender": "False",
         "location": "False",
         "species": "False"
        },
        {
         "_deepnote_index_column": "5",
         "bill_depth_mm": "False",
         "bill_length_mm": "False",
         "body_mass_g": "False",
         "flipper_length_mm": "False",
         "gender": "False",
         "location": "False",
         "species": "False"
        },
        {
         "_deepnote_index_column": "6",
         "bill_depth_mm": "False",
         "bill_length_mm": "False",
         "body_mass_g": "False",
         "flipper_length_mm": "False",
         "gender": "False",
         "location": "False",
         "species": "False"
        },
        {
         "_deepnote_index_column": "7",
         "bill_depth_mm": "False",
         "bill_length_mm": "False",
         "body_mass_g": "False",
         "flipper_length_mm": "False",
         "gender": "False",
         "location": "False",
         "species": "False"
        },
        {
         "_deepnote_index_column": "8",
         "bill_depth_mm": "False",
         "bill_length_mm": "False",
         "body_mass_g": "False",
         "flipper_length_mm": "False",
         "gender": "True",
         "location": "False",
         "species": "False"
        },
        {
         "_deepnote_index_column": "9",
         "bill_depth_mm": "False",
         "bill_length_mm": "False",
         "body_mass_g": "False",
         "flipper_length_mm": "False",
         "gender": "True",
         "location": "False",
         "species": "False"
        }
       ]
      },
      "text/html": [
       "<div>\n",
       "<style scoped>\n",
       "    .dataframe tbody tr th:only-of-type {\n",
       "        vertical-align: middle;\n",
       "    }\n",
       "\n",
       "    .dataframe tbody tr th {\n",
       "        vertical-align: top;\n",
       "    }\n",
       "\n",
       "    .dataframe thead th {\n",
       "        text-align: right;\n",
       "    }\n",
       "</style>\n",
       "<table border=\"1\" class=\"dataframe\">\n",
       "  <thead>\n",
       "    <tr style=\"text-align: right;\">\n",
       "      <th></th>\n",
       "      <th>species</th>\n",
       "      <th>location</th>\n",
       "      <th>bill_length_mm</th>\n",
       "      <th>bill_depth_mm</th>\n",
       "      <th>flipper_length_mm</th>\n",
       "      <th>body_mass_g</th>\n",
       "      <th>gender</th>\n",
       "    </tr>\n",
       "  </thead>\n",
       "  <tbody>\n",
       "    <tr>\n",
       "      <th>0</th>\n",
       "      <td>False</td>\n",
       "      <td>False</td>\n",
       "      <td>False</td>\n",
       "      <td>False</td>\n",
       "      <td>False</td>\n",
       "      <td>False</td>\n",
       "      <td>False</td>\n",
       "    </tr>\n",
       "    <tr>\n",
       "      <th>1</th>\n",
       "      <td>False</td>\n",
       "      <td>False</td>\n",
       "      <td>False</td>\n",
       "      <td>False</td>\n",
       "      <td>False</td>\n",
       "      <td>False</td>\n",
       "      <td>False</td>\n",
       "    </tr>\n",
       "    <tr>\n",
       "      <th>2</th>\n",
       "      <td>False</td>\n",
       "      <td>False</td>\n",
       "      <td>False</td>\n",
       "      <td>False</td>\n",
       "      <td>False</td>\n",
       "      <td>False</td>\n",
       "      <td>False</td>\n",
       "    </tr>\n",
       "    <tr>\n",
       "      <th>3</th>\n",
       "      <td>False</td>\n",
       "      <td>False</td>\n",
       "      <td>True</td>\n",
       "      <td>True</td>\n",
       "      <td>True</td>\n",
       "      <td>True</td>\n",
       "      <td>True</td>\n",
       "    </tr>\n",
       "    <tr>\n",
       "      <th>4</th>\n",
       "      <td>False</td>\n",
       "      <td>False</td>\n",
       "      <td>False</td>\n",
       "      <td>False</td>\n",
       "      <td>False</td>\n",
       "      <td>False</td>\n",
       "      <td>False</td>\n",
       "    </tr>\n",
       "    <tr>\n",
       "      <th>...</th>\n",
       "      <td>...</td>\n",
       "      <td>...</td>\n",
       "      <td>...</td>\n",
       "      <td>...</td>\n",
       "      <td>...</td>\n",
       "      <td>...</td>\n",
       "      <td>...</td>\n",
       "    </tr>\n",
       "    <tr>\n",
       "      <th>339</th>\n",
       "      <td>False</td>\n",
       "      <td>False</td>\n",
       "      <td>True</td>\n",
       "      <td>True</td>\n",
       "      <td>True</td>\n",
       "      <td>True</td>\n",
       "      <td>True</td>\n",
       "    </tr>\n",
       "    <tr>\n",
       "      <th>340</th>\n",
       "      <td>False</td>\n",
       "      <td>False</td>\n",
       "      <td>False</td>\n",
       "      <td>False</td>\n",
       "      <td>False</td>\n",
       "      <td>False</td>\n",
       "      <td>False</td>\n",
       "    </tr>\n",
       "    <tr>\n",
       "      <th>341</th>\n",
       "      <td>False</td>\n",
       "      <td>False</td>\n",
       "      <td>False</td>\n",
       "      <td>False</td>\n",
       "      <td>False</td>\n",
       "      <td>False</td>\n",
       "      <td>False</td>\n",
       "    </tr>\n",
       "    <tr>\n",
       "      <th>342</th>\n",
       "      <td>False</td>\n",
       "      <td>False</td>\n",
       "      <td>False</td>\n",
       "      <td>False</td>\n",
       "      <td>False</td>\n",
       "      <td>False</td>\n",
       "      <td>False</td>\n",
       "    </tr>\n",
       "    <tr>\n",
       "      <th>343</th>\n",
       "      <td>False</td>\n",
       "      <td>False</td>\n",
       "      <td>False</td>\n",
       "      <td>False</td>\n",
       "      <td>False</td>\n",
       "      <td>False</td>\n",
       "      <td>False</td>\n",
       "    </tr>\n",
       "  </tbody>\n",
       "</table>\n",
       "<p>344 rows × 7 columns</p>\n",
       "</div>"
      ],
      "text/plain": [
       "     species  location  bill_length_mm  bill_depth_mm  flipper_length_mm  \\\n",
       "0      False     False           False          False              False   \n",
       "1      False     False           False          False              False   \n",
       "2      False     False           False          False              False   \n",
       "3      False     False            True           True               True   \n",
       "4      False     False           False          False              False   \n",
       "..       ...       ...             ...            ...                ...   \n",
       "339    False     False            True           True               True   \n",
       "340    False     False           False          False              False   \n",
       "341    False     False           False          False              False   \n",
       "342    False     False           False          False              False   \n",
       "343    False     False           False          False              False   \n",
       "\n",
       "     body_mass_g  gender  \n",
       "0          False   False  \n",
       "1          False   False  \n",
       "2          False   False  \n",
       "3           True    True  \n",
       "4          False   False  \n",
       "..           ...     ...  \n",
       "339         True    True  \n",
       "340        False   False  \n",
       "341        False   False  \n",
       "342        False   False  \n",
       "343        False   False  \n",
       "\n",
       "[344 rows x 7 columns]"
      ]
     },
     "execution_count": 17,
     "metadata": {},
     "output_type": "execute_result"
    }
   ],
   "source": [
    "df.isna()"
   ]
  },
  {
   "cell_type": "markdown",
   "metadata": {
    "cell_id": "86f0bf5612714625b8ba2792a8465fdc",
    "deepnote_cell_type": "markdown"
   },
   "source": [
    "* Then apply `any` with a suitable `axis` keyword argument to determine which rows have any missing data."
   ]
  },
  {
   "cell_type": "markdown",
   "metadata": {},
   "source": [
    "In this case, we want to keep the row labels the same, but we are getting rid of the column labels completely.  That's why we use `axis=1` in this case.  Also notice the `True` in row `3`."
   ]
  },
  {
   "cell_type": "code",
   "execution_count": 21,
   "metadata": {
    "cell_id": "5e3f323732914e79be59fef0d05b5f8b",
    "deepnote_cell_type": "code",
    "deepnote_to_be_reexecuted": false,
    "execution_millis": 1,
    "execution_start": 1682108782862,
    "source_hash": "ea58230"
   },
   "outputs": [
    {
     "data": {
      "text/plain": [
       "0      False\n",
       "1      False\n",
       "2      False\n",
       "3       True\n",
       "4      False\n",
       "       ...  \n",
       "339     True\n",
       "340    False\n",
       "341    False\n",
       "342    False\n",
       "343    False\n",
       "Length: 344, dtype: bool"
      ]
     },
     "execution_count": 21,
     "metadata": {},
     "output_type": "execute_result"
    }
   ],
   "source": [
    "# notice: row names didn't change, column names disappeared\n",
    "df.isna().any(axis=1)"
   ]
  },
  {
   "cell_type": "markdown",
   "metadata": {},
   "source": [
    "If we use `axis=0` instead, then we are keeping the column labels the same, and finding out which columns have any missing values."
   ]
  },
  {
   "cell_type": "code",
   "execution_count": 23,
   "metadata": {
    "cell_id": "da11725a397a45f58e64c4def3dd64e7",
    "deepnote_cell_type": "code",
    "deepnote_to_be_reexecuted": false,
    "execution_millis": 8,
    "execution_start": 1682108968121,
    "source_hash": "db139358"
   },
   "outputs": [
    {
     "data": {
      "text/plain": [
       "species              False\n",
       "location             False\n",
       "bill_length_mm        True\n",
       "bill_depth_mm         True\n",
       "flipper_length_mm     True\n",
       "body_mass_g           True\n",
       "gender                True\n",
       "dtype: bool"
      ]
     },
     "execution_count": 23,
     "metadata": {},
     "output_type": "execute_result"
    }
   ],
   "source": [
    "df.isna().any(axis=0)"
   ]
  },
  {
   "cell_type": "markdown",
   "metadata": {},
   "source": [
    "There is also an `all` (in contrast to the `any` we are using).  Notice how the row `3` is now `False`, because it is not the case that all of the values are missing in this row."
   ]
  },
  {
   "cell_type": "code",
   "execution_count": 22,
   "metadata": {
    "cell_id": "881e5039308b43c98434c7dbedf553e4",
    "deepnote_cell_type": "code",
    "deepnote_to_be_reexecuted": false,
    "execution_millis": 4,
    "execution_start": 1682108912711,
    "source_hash": "80cc3dd2"
   },
   "outputs": [
    {
     "data": {
      "text/plain": [
       "0      False\n",
       "1      False\n",
       "2      False\n",
       "3      False\n",
       "4      False\n",
       "       ...  \n",
       "339    False\n",
       "340    False\n",
       "341    False\n",
       "342    False\n",
       "343    False\n",
       "Length: 344, dtype: bool"
      ]
     },
     "execution_count": 22,
     "metadata": {},
     "output_type": "execute_result"
    }
   ],
   "source": [
    "df.isna().all(axis=1)"
   ]
  },
  {
   "cell_type": "markdown",
   "metadata": {
    "cell_id": "f7c67bcc394f4745aade0ffd1ec8c135",
    "deepnote_cell_type": "markdown"
   },
   "source": [
    "* Now use Boolean indexing like usual.  You might need to take a negation, using tilde `~`.\n",
    "\n",
    "If we plug in exactly what we have above, we will be doing the exact opposite of what we want.  This is keeping the rows that have any missing values."
   ]
  },
  {
   "cell_type": "code",
   "execution_count": 24,
   "metadata": {
    "cell_id": "fa121705851b425086821caa96b239e4",
    "deepnote_cell_type": "code",
    "deepnote_to_be_reexecuted": false,
    "execution_millis": 27,
    "execution_start": 1682109139654,
    "source_hash": "27fc094"
   },
   "outputs": [
    {
     "data": {
      "application/vnd.deepnote.dataframe.v3+json": {
       "column_count": 7,
       "columns": [
        {
         "dtype": "object",
         "name": "species",
         "stats": {
          "categories": [
           {
            "count": 6,
            "name": "Adelie"
           },
           {
            "count": 5,
            "name": "Gentoo"
           }
          ],
          "nan_count": 0,
          "unique_count": 2
         }
        },
        {
         "dtype": "object",
         "name": "location",
         "stats": {
          "categories": [
           {
            "count": 5,
            "name": "Torgersen"
           },
           {
            "count": 5,
            "name": "Biscoe"
           },
           {
            "count": 1,
            "name": "Dream"
           }
          ],
          "nan_count": 0,
          "unique_count": 3
         }
        },
        {
         "dtype": "float64",
         "name": "bill_length_mm",
         "stats": {
          "histogram": [
           {
            "bin_end": 35.42,
            "bin_start": 34.1,
            "count": 1
           },
           {
            "bin_end": 36.74,
            "bin_start": 35.42,
            "count": 0
           },
           {
            "bin_end": 38.06,
            "bin_start": 36.74,
            "count": 3
           },
           {
            "bin_end": 39.38,
            "bin_start": 38.06,
            "count": 0
           },
           {
            "bin_end": 40.7,
            "bin_start": 39.38,
            "count": 0
           },
           {
            "bin_end": 42.019999999999996,
            "bin_start": 40.7,
            "count": 1
           },
           {
            "bin_end": 43.339999999999996,
            "bin_start": 42.019999999999996,
            "count": 0
           },
           {
            "bin_end": 44.66,
            "bin_start": 43.339999999999996,
            "count": 2
           },
           {
            "bin_end": 45.98,
            "bin_start": 44.66,
            "count": 0
           },
           {
            "bin_end": 47.3,
            "bin_start": 45.98,
            "count": 2
           }
          ],
          "max": "47.3",
          "min": "34.1",
          "nan_count": 2,
          "unique_count": 7
         }
        },
        {
         "dtype": "float64",
         "name": "bill_depth_mm",
         "stats": {
          "histogram": [
           {
            "bin_end": 14.440000000000001,
            "bin_start": 13.8,
            "count": 3
           },
           {
            "bin_end": 15.08,
            "bin_start": 14.440000000000001,
            "count": 0
           },
           {
            "bin_end": 15.72,
            "bin_start": 15.08,
            "count": 1
           },
           {
            "bin_end": 16.36,
            "bin_start": 15.72,
            "count": 0
           },
           {
            "bin_end": 17,
            "bin_start": 16.36,
            "count": 0
           },
           {
            "bin_end": 17.64,
            "bin_start": 17,
            "count": 2
           },
           {
            "bin_end": 18.28,
            "bin_start": 17.64,
            "count": 1
           },
           {
            "bin_end": 18.92,
            "bin_start": 18.28,
            "count": 1
           },
           {
            "bin_end": 19.56,
            "bin_start": 18.92,
            "count": 0
           },
           {
            "bin_end": 20.2,
            "bin_start": 19.56,
            "count": 1
           }
          ],
          "max": "20.2",
          "min": "13.8",
          "nan_count": 2,
          "unique_count": 9
         }
        },
        {
         "dtype": "float64",
         "name": "flipper_length_mm",
         "stats": {
          "histogram": [
           {
            "bin_end": 182.8,
            "bin_start": 179,
            "count": 2
           },
           {
            "bin_end": 186.6,
            "bin_start": 182.8,
            "count": 1
           },
           {
            "bin_end": 190.4,
            "bin_start": 186.6,
            "count": 1
           },
           {
            "bin_end": 194.2,
            "bin_start": 190.4,
            "count": 1
           },
           {
            "bin_end": 198,
            "bin_start": 194.2,
            "count": 0
           },
           {
            "bin_end": 201.8,
            "bin_start": 198,
            "count": 0
           },
           {
            "bin_end": 205.6,
            "bin_start": 201.8,
            "count": 0
           },
           {
            "bin_end": 209.4,
            "bin_start": 205.6,
            "count": 0
           },
           {
            "bin_end": 213.2,
            "bin_start": 209.4,
            "count": 0
           },
           {
            "bin_end": 217,
            "bin_start": 213.2,
            "count": 4
           }
          ],
          "max": "217.0",
          "min": "179.0",
          "nan_count": 2,
          "unique_count": 8
         }
        },
        {
         "dtype": "float64",
         "name": "body_mass_g",
         "stats": {
          "histogram": [
           {
            "bin_end": 3165,
            "bin_start": 2975,
            "count": 1
           },
           {
            "bin_end": 3355,
            "bin_start": 3165,
            "count": 1
           },
           {
            "bin_end": 3545,
            "bin_start": 3355,
            "count": 1
           },
           {
            "bin_end": 3735,
            "bin_start": 3545,
            "count": 1
           },
           {
            "bin_end": 3925,
            "bin_start": 3735,
            "count": 0
           },
           {
            "bin_end": 4115,
            "bin_start": 3925,
            "count": 1
           },
           {
            "bin_end": 4305,
            "bin_start": 4115,
            "count": 1
           },
           {
            "bin_end": 4495,
            "bin_start": 4305,
            "count": 0
           },
           {
            "bin_end": 4685,
            "bin_start": 4495,
            "count": 1
           },
           {
            "bin_end": 4875,
            "bin_start": 4685,
            "count": 2
           }
          ],
          "max": "4875.0",
          "min": "2975.0",
          "nan_count": 2,
          "unique_count": 9
         }
        },
        {
         "dtype": "object",
         "name": "gender",
         "stats": {
          "categories": [
           {
            "count": 11,
            "name": "Missing"
           }
          ],
          "nan_count": 11,
          "unique_count": 0
         }
        },
        {
         "dtype": "int64",
         "name": "_deepnote_index_column"
        }
       ],
       "row_count": 11,
       "rows": [
        {
         "_deepnote_index_column": "3",
         "bill_depth_mm": "nan",
         "bill_length_mm": "nan",
         "body_mass_g": "nan",
         "flipper_length_mm": "nan",
         "gender": "nan",
         "location": "Torgersen",
         "species": "Adelie"
        },
        {
         "_deepnote_index_column": "8",
         "bill_depth_mm": "18.1",
         "bill_length_mm": "34.1",
         "body_mass_g": "3475.0",
         "flipper_length_mm": "193.0",
         "gender": "nan",
         "location": "Torgersen",
         "species": "Adelie"
        },
        {
         "_deepnote_index_column": "9",
         "bill_depth_mm": "20.2",
         "bill_length_mm": "42.0",
         "body_mass_g": "4250.0",
         "flipper_length_mm": "190.0",
         "gender": "nan",
         "location": "Torgersen",
         "species": "Adelie"
        },
        {
         "_deepnote_index_column": "10",
         "bill_depth_mm": "17.1",
         "bill_length_mm": "37.8",
         "body_mass_g": "3300.0",
         "flipper_length_mm": "186.0",
         "gender": "nan",
         "location": "Torgersen",
         "species": "Adelie"
        },
        {
         "_deepnote_index_column": "11",
         "bill_depth_mm": "17.3",
         "bill_length_mm": "37.8",
         "body_mass_g": "3700.0",
         "flipper_length_mm": "180.0",
         "gender": "nan",
         "location": "Torgersen",
         "species": "Adelie"
        },
        {
         "_deepnote_index_column": "47",
         "bill_depth_mm": "18.9",
         "bill_length_mm": "37.5",
         "body_mass_g": "2975.0",
         "flipper_length_mm": "179.0",
         "gender": "nan",
         "location": "Dream",
         "species": "Adelie"
        },
        {
         "_deepnote_index_column": "246",
         "bill_depth_mm": "14.3",
         "bill_length_mm": "44.5",
         "body_mass_g": "4100.0",
         "flipper_length_mm": "216.0",
         "gender": "nan",
         "location": "Biscoe",
         "species": "Gentoo"
        },
        {
         "_deepnote_index_column": "286",
         "bill_depth_mm": "14.4",
         "bill_length_mm": "46.2",
         "body_mass_g": "4650.0",
         "flipper_length_mm": "214.0",
         "gender": "nan",
         "location": "Biscoe",
         "species": "Gentoo"
        },
        {
         "_deepnote_index_column": "324",
         "bill_depth_mm": "13.8",
         "bill_length_mm": "47.3",
         "body_mass_g": "4725.0",
         "flipper_length_mm": "216.0",
         "gender": "nan",
         "location": "Biscoe",
         "species": "Gentoo"
        },
        {
         "_deepnote_index_column": "336",
         "bill_depth_mm": "15.7",
         "bill_length_mm": "44.5",
         "body_mass_g": "4875.0",
         "flipper_length_mm": "217.0",
         "gender": "nan",
         "location": "Biscoe",
         "species": "Gentoo"
        }
       ]
      },
      "text/html": [
       "<div>\n",
       "<style scoped>\n",
       "    .dataframe tbody tr th:only-of-type {\n",
       "        vertical-align: middle;\n",
       "    }\n",
       "\n",
       "    .dataframe tbody tr th {\n",
       "        vertical-align: top;\n",
       "    }\n",
       "\n",
       "    .dataframe thead th {\n",
       "        text-align: right;\n",
       "    }\n",
       "</style>\n",
       "<table border=\"1\" class=\"dataframe\">\n",
       "  <thead>\n",
       "    <tr style=\"text-align: right;\">\n",
       "      <th></th>\n",
       "      <th>species</th>\n",
       "      <th>location</th>\n",
       "      <th>bill_length_mm</th>\n",
       "      <th>bill_depth_mm</th>\n",
       "      <th>flipper_length_mm</th>\n",
       "      <th>body_mass_g</th>\n",
       "      <th>gender</th>\n",
       "    </tr>\n",
       "  </thead>\n",
       "  <tbody>\n",
       "    <tr>\n",
       "      <th>3</th>\n",
       "      <td>Adelie</td>\n",
       "      <td>Torgersen</td>\n",
       "      <td>NaN</td>\n",
       "      <td>NaN</td>\n",
       "      <td>NaN</td>\n",
       "      <td>NaN</td>\n",
       "      <td>NaN</td>\n",
       "    </tr>\n",
       "    <tr>\n",
       "      <th>8</th>\n",
       "      <td>Adelie</td>\n",
       "      <td>Torgersen</td>\n",
       "      <td>34.1</td>\n",
       "      <td>18.1</td>\n",
       "      <td>193.0</td>\n",
       "      <td>3475.0</td>\n",
       "      <td>NaN</td>\n",
       "    </tr>\n",
       "    <tr>\n",
       "      <th>9</th>\n",
       "      <td>Adelie</td>\n",
       "      <td>Torgersen</td>\n",
       "      <td>42.0</td>\n",
       "      <td>20.2</td>\n",
       "      <td>190.0</td>\n",
       "      <td>4250.0</td>\n",
       "      <td>NaN</td>\n",
       "    </tr>\n",
       "    <tr>\n",
       "      <th>10</th>\n",
       "      <td>Adelie</td>\n",
       "      <td>Torgersen</td>\n",
       "      <td>37.8</td>\n",
       "      <td>17.1</td>\n",
       "      <td>186.0</td>\n",
       "      <td>3300.0</td>\n",
       "      <td>NaN</td>\n",
       "    </tr>\n",
       "    <tr>\n",
       "      <th>11</th>\n",
       "      <td>Adelie</td>\n",
       "      <td>Torgersen</td>\n",
       "      <td>37.8</td>\n",
       "      <td>17.3</td>\n",
       "      <td>180.0</td>\n",
       "      <td>3700.0</td>\n",
       "      <td>NaN</td>\n",
       "    </tr>\n",
       "    <tr>\n",
       "      <th>47</th>\n",
       "      <td>Adelie</td>\n",
       "      <td>Dream</td>\n",
       "      <td>37.5</td>\n",
       "      <td>18.9</td>\n",
       "      <td>179.0</td>\n",
       "      <td>2975.0</td>\n",
       "      <td>NaN</td>\n",
       "    </tr>\n",
       "    <tr>\n",
       "      <th>246</th>\n",
       "      <td>Gentoo</td>\n",
       "      <td>Biscoe</td>\n",
       "      <td>44.5</td>\n",
       "      <td>14.3</td>\n",
       "      <td>216.0</td>\n",
       "      <td>4100.0</td>\n",
       "      <td>NaN</td>\n",
       "    </tr>\n",
       "    <tr>\n",
       "      <th>286</th>\n",
       "      <td>Gentoo</td>\n",
       "      <td>Biscoe</td>\n",
       "      <td>46.2</td>\n",
       "      <td>14.4</td>\n",
       "      <td>214.0</td>\n",
       "      <td>4650.0</td>\n",
       "      <td>NaN</td>\n",
       "    </tr>\n",
       "    <tr>\n",
       "      <th>324</th>\n",
       "      <td>Gentoo</td>\n",
       "      <td>Biscoe</td>\n",
       "      <td>47.3</td>\n",
       "      <td>13.8</td>\n",
       "      <td>216.0</td>\n",
       "      <td>4725.0</td>\n",
       "      <td>NaN</td>\n",
       "    </tr>\n",
       "    <tr>\n",
       "      <th>336</th>\n",
       "      <td>Gentoo</td>\n",
       "      <td>Biscoe</td>\n",
       "      <td>44.5</td>\n",
       "      <td>15.7</td>\n",
       "      <td>217.0</td>\n",
       "      <td>4875.0</td>\n",
       "      <td>NaN</td>\n",
       "    </tr>\n",
       "    <tr>\n",
       "      <th>339</th>\n",
       "      <td>Gentoo</td>\n",
       "      <td>Biscoe</td>\n",
       "      <td>NaN</td>\n",
       "      <td>NaN</td>\n",
       "      <td>NaN</td>\n",
       "      <td>NaN</td>\n",
       "      <td>NaN</td>\n",
       "    </tr>\n",
       "  </tbody>\n",
       "</table>\n",
       "</div>"
      ],
      "text/plain": [
       "    species   location  bill_length_mm  bill_depth_mm  flipper_length_mm  \\\n",
       "3    Adelie  Torgersen             NaN            NaN                NaN   \n",
       "8    Adelie  Torgersen            34.1           18.1              193.0   \n",
       "9    Adelie  Torgersen            42.0           20.2              190.0   \n",
       "10   Adelie  Torgersen            37.8           17.1              186.0   \n",
       "11   Adelie  Torgersen            37.8           17.3              180.0   \n",
       "47   Adelie      Dream            37.5           18.9              179.0   \n",
       "246  Gentoo     Biscoe            44.5           14.3              216.0   \n",
       "286  Gentoo     Biscoe            46.2           14.4              214.0   \n",
       "324  Gentoo     Biscoe            47.3           13.8              216.0   \n",
       "336  Gentoo     Biscoe            44.5           15.7              217.0   \n",
       "339  Gentoo     Biscoe             NaN            NaN                NaN   \n",
       "\n",
       "     body_mass_g gender  \n",
       "3            NaN    NaN  \n",
       "8         3475.0    NaN  \n",
       "9         4250.0    NaN  \n",
       "10        3300.0    NaN  \n",
       "11        3700.0    NaN  \n",
       "47        2975.0    NaN  \n",
       "246       4100.0    NaN  \n",
       "286       4650.0    NaN  \n",
       "324       4725.0    NaN  \n",
       "336       4875.0    NaN  \n",
       "339          NaN    NaN  "
      ]
     },
     "execution_count": 24,
     "metadata": {},
     "output_type": "execute_result"
    }
   ],
   "source": [
    "# opposite of what we want\n",
    "df[df.isna().any(axis=1)]"
   ]
  },
  {
   "cell_type": "markdown",
   "metadata": {},
   "source": [
    "So we should take the negation, using tilde `~`.  Here we are keeping the rows which *do not* have any missing values."
   ]
  },
  {
   "cell_type": "code",
   "execution_count": 26,
   "metadata": {
    "cell_id": "3e5bf64997cc4946bfc607e204f10615",
    "deepnote_cell_type": "code",
    "deepnote_to_be_reexecuted": false,
    "execution_millis": 42,
    "execution_start": 1682109230153,
    "source_hash": "87b82268"
   },
   "outputs": [
    {
     "data": {
      "application/vnd.deepnote.dataframe.v3+json": {
       "column_count": 7,
       "columns": [
        {
         "dtype": "object",
         "name": "species",
         "stats": {
          "categories": [
           {
            "count": 146,
            "name": "Adelie"
           },
           {
            "count": 119,
            "name": "Gentoo"
           },
           {
            "count": 68,
            "name": "Chinstrap"
           }
          ],
          "nan_count": 0,
          "unique_count": 3
         }
        },
        {
         "dtype": "object",
         "name": "location",
         "stats": {
          "categories": [
           {
            "count": 163,
            "name": "Biscoe"
           },
           {
            "count": 123,
            "name": "Dream"
           },
           {
            "count": 47,
            "name": "Torgersen"
           }
          ],
          "nan_count": 0,
          "unique_count": 3
         }
        },
        {
         "dtype": "float64",
         "name": "bill_length_mm",
         "stats": {
          "histogram": [
           {
            "bin_end": 34.85,
            "bin_start": 32.1,
            "count": 8
           },
           {
            "bin_end": 37.6,
            "bin_start": 34.85,
            "count": 39
           },
           {
            "bin_end": 40.35,
            "bin_start": 37.6,
            "count": 55
           },
           {
            "bin_end": 43.1,
            "bin_start": 40.35,
            "count": 47
           },
           {
            "bin_end": 45.85,
            "bin_start": 43.1,
            "count": 47
           },
           {
            "bin_end": 48.6,
            "bin_start": 45.85,
            "count": 53
           },
           {
            "bin_end": 51.35,
            "bin_start": 48.6,
            "count": 61
           },
           {
            "bin_end": 54.1,
            "bin_start": 51.35,
            "count": 16
           },
           {
            "bin_end": 56.85,
            "bin_start": 54.1,
            "count": 5
           },
           {
            "bin_end": 59.6,
            "bin_start": 56.85,
            "count": 2
           }
          ],
          "max": "59.6",
          "min": "32.1",
          "nan_count": 0,
          "unique_count": 163
         }
        },
        {
         "dtype": "float64",
         "name": "bill_depth_mm",
         "stats": {
          "histogram": [
           {
            "bin_end": 13.94,
            "bin_start": 13.1,
            "count": 20
           },
           {
            "bin_end": 14.78,
            "bin_start": 13.94,
            "count": 33
           },
           {
            "bin_end": 15.620000000000001,
            "bin_start": 14.78,
            "count": 32
           },
           {
            "bin_end": 16.46,
            "bin_start": 15.620000000000001,
            "count": 33
           },
           {
            "bin_end": 17.3,
            "bin_start": 16.46,
            "count": 43
           },
           {
            "bin_end": 18.14,
            "bin_start": 17.3,
            "count": 53
           },
           {
            "bin_end": 18.98,
            "bin_start": 18.14,
            "count": 55
           },
           {
            "bin_end": 19.82,
            "bin_start": 18.98,
            "count": 39
           },
           {
            "bin_end": 20.66,
            "bin_start": 19.82,
            "count": 15
           },
           {
            "bin_end": 21.5,
            "bin_start": 20.66,
            "count": 10
           }
          ],
          "max": "21.5",
          "min": "13.1",
          "nan_count": 0,
          "unique_count": 79
         }
        },
        {
         "dtype": "float64",
         "name": "flipper_length_mm",
         "stats": {
          "histogram": [
           {
            "bin_end": 177.9,
            "bin_start": 172,
            "count": 3
           },
           {
            "bin_end": 183.8,
            "bin_start": 177.9,
            "count": 20
           },
           {
            "bin_end": 189.7,
            "bin_start": 183.8,
            "count": 51
           },
           {
            "bin_end": 195.6,
            "bin_start": 189.7,
            "count": 77
           },
           {
            "bin_end": 201.5,
            "bin_start": 195.6,
            "count": 44
           },
           {
            "bin_end": 207.4,
            "bin_start": 201.5,
            "count": 15
           },
           {
            "bin_end": 213.3,
            "bin_start": 207.4,
            "count": 42
           },
           {
            "bin_end": 219.2,
            "bin_start": 213.3,
            "count": 38
           },
           {
            "bin_end": 225.1,
            "bin_start": 219.2,
            "count": 28
           },
           {
            "bin_end": 231,
            "bin_start": 225.1,
            "count": 15
           }
          ],
          "max": "231.0",
          "min": "172.0",
          "nan_count": 0,
          "unique_count": 54
         }
        },
        {
         "dtype": "float64",
         "name": "body_mass_g",
         "stats": {
          "histogram": [
           {
            "bin_end": 3060,
            "bin_start": 2700,
            "count": 14
           },
           {
            "bin_end": 3420,
            "bin_start": 3060,
            "count": 42
           },
           {
            "bin_end": 3780,
            "bin_start": 3420,
            "count": 69
           },
           {
            "bin_end": 4140,
            "bin_start": 3780,
            "count": 52
           },
           {
            "bin_end": 4500,
            "bin_start": 4140,
            "count": 41
           },
           {
            "bin_end": 4860,
            "bin_start": 4500,
            "count": 39
           },
           {
            "bin_end": 5220,
            "bin_start": 4860,
            "count": 27
           },
           {
            "bin_end": 5580,
            "bin_start": 5220,
            "count": 27
           },
           {
            "bin_end": 5940,
            "bin_start": 5580,
            "count": 16
           },
           {
            "bin_end": 6300,
            "bin_start": 5940,
            "count": 6
           }
          ],
          "max": "6300.0",
          "min": "2700.0",
          "nan_count": 0,
          "unique_count": 93
         }
        },
        {
         "dtype": "object",
         "name": "gender",
         "stats": {
          "categories": [
           {
            "count": 168,
            "name": "Male"
           },
           {
            "count": 165,
            "name": "Female"
           }
          ],
          "nan_count": 0,
          "unique_count": 2
         }
        },
        {
         "dtype": "int64",
         "name": "_deepnote_index_column"
        }
       ],
       "row_count": 333,
       "rows": [
        {
         "_deepnote_index_column": "0",
         "bill_depth_mm": "18.7",
         "bill_length_mm": "39.1",
         "body_mass_g": "3750.0",
         "flipper_length_mm": "181.0",
         "gender": "Male",
         "location": "Torgersen",
         "species": "Adelie"
        },
        {
         "_deepnote_index_column": "1",
         "bill_depth_mm": "17.4",
         "bill_length_mm": "39.5",
         "body_mass_g": "3800.0",
         "flipper_length_mm": "186.0",
         "gender": "Female",
         "location": "Torgersen",
         "species": "Adelie"
        },
        {
         "_deepnote_index_column": "2",
         "bill_depth_mm": "18.0",
         "bill_length_mm": "40.3",
         "body_mass_g": "3250.0",
         "flipper_length_mm": "195.0",
         "gender": "Female",
         "location": "Torgersen",
         "species": "Adelie"
        },
        {
         "_deepnote_index_column": "4",
         "bill_depth_mm": "19.3",
         "bill_length_mm": "36.7",
         "body_mass_g": "3450.0",
         "flipper_length_mm": "193.0",
         "gender": "Female",
         "location": "Torgersen",
         "species": "Adelie"
        },
        {
         "_deepnote_index_column": "5",
         "bill_depth_mm": "20.6",
         "bill_length_mm": "39.3",
         "body_mass_g": "3650.0",
         "flipper_length_mm": "190.0",
         "gender": "Male",
         "location": "Torgersen",
         "species": "Adelie"
        },
        {
         "_deepnote_index_column": "6",
         "bill_depth_mm": "17.8",
         "bill_length_mm": "38.9",
         "body_mass_g": "3625.0",
         "flipper_length_mm": "181.0",
         "gender": "Female",
         "location": "Torgersen",
         "species": "Adelie"
        },
        {
         "_deepnote_index_column": "7",
         "bill_depth_mm": "19.6",
         "bill_length_mm": "39.2",
         "body_mass_g": "4675.0",
         "flipper_length_mm": "195.0",
         "gender": "Male",
         "location": "Torgersen",
         "species": "Adelie"
        },
        {
         "_deepnote_index_column": "12",
         "bill_depth_mm": "17.6",
         "bill_length_mm": "41.1",
         "body_mass_g": "3200.0",
         "flipper_length_mm": "182.0",
         "gender": "Female",
         "location": "Torgersen",
         "species": "Adelie"
        },
        {
         "_deepnote_index_column": "13",
         "bill_depth_mm": "21.2",
         "bill_length_mm": "38.6",
         "body_mass_g": "3800.0",
         "flipper_length_mm": "191.0",
         "gender": "Male",
         "location": "Torgersen",
         "species": "Adelie"
        },
        {
         "_deepnote_index_column": "14",
         "bill_depth_mm": "21.1",
         "bill_length_mm": "34.6",
         "body_mass_g": "4400.0",
         "flipper_length_mm": "198.0",
         "gender": "Male",
         "location": "Torgersen",
         "species": "Adelie"
        }
       ]
      },
      "text/html": [
       "<div>\n",
       "<style scoped>\n",
       "    .dataframe tbody tr th:only-of-type {\n",
       "        vertical-align: middle;\n",
       "    }\n",
       "\n",
       "    .dataframe tbody tr th {\n",
       "        vertical-align: top;\n",
       "    }\n",
       "\n",
       "    .dataframe thead th {\n",
       "        text-align: right;\n",
       "    }\n",
       "</style>\n",
       "<table border=\"1\" class=\"dataframe\">\n",
       "  <thead>\n",
       "    <tr style=\"text-align: right;\">\n",
       "      <th></th>\n",
       "      <th>species</th>\n",
       "      <th>location</th>\n",
       "      <th>bill_length_mm</th>\n",
       "      <th>bill_depth_mm</th>\n",
       "      <th>flipper_length_mm</th>\n",
       "      <th>body_mass_g</th>\n",
       "      <th>gender</th>\n",
       "    </tr>\n",
       "  </thead>\n",
       "  <tbody>\n",
       "    <tr>\n",
       "      <th>0</th>\n",
       "      <td>Adelie</td>\n",
       "      <td>Torgersen</td>\n",
       "      <td>39.1</td>\n",
       "      <td>18.7</td>\n",
       "      <td>181.0</td>\n",
       "      <td>3750.0</td>\n",
       "      <td>Male</td>\n",
       "    </tr>\n",
       "    <tr>\n",
       "      <th>1</th>\n",
       "      <td>Adelie</td>\n",
       "      <td>Torgersen</td>\n",
       "      <td>39.5</td>\n",
       "      <td>17.4</td>\n",
       "      <td>186.0</td>\n",
       "      <td>3800.0</td>\n",
       "      <td>Female</td>\n",
       "    </tr>\n",
       "    <tr>\n",
       "      <th>2</th>\n",
       "      <td>Adelie</td>\n",
       "      <td>Torgersen</td>\n",
       "      <td>40.3</td>\n",
       "      <td>18.0</td>\n",
       "      <td>195.0</td>\n",
       "      <td>3250.0</td>\n",
       "      <td>Female</td>\n",
       "    </tr>\n",
       "    <tr>\n",
       "      <th>4</th>\n",
       "      <td>Adelie</td>\n",
       "      <td>Torgersen</td>\n",
       "      <td>36.7</td>\n",
       "      <td>19.3</td>\n",
       "      <td>193.0</td>\n",
       "      <td>3450.0</td>\n",
       "      <td>Female</td>\n",
       "    </tr>\n",
       "    <tr>\n",
       "      <th>5</th>\n",
       "      <td>Adelie</td>\n",
       "      <td>Torgersen</td>\n",
       "      <td>39.3</td>\n",
       "      <td>20.6</td>\n",
       "      <td>190.0</td>\n",
       "      <td>3650.0</td>\n",
       "      <td>Male</td>\n",
       "    </tr>\n",
       "    <tr>\n",
       "      <th>...</th>\n",
       "      <td>...</td>\n",
       "      <td>...</td>\n",
       "      <td>...</td>\n",
       "      <td>...</td>\n",
       "      <td>...</td>\n",
       "      <td>...</td>\n",
       "      <td>...</td>\n",
       "    </tr>\n",
       "    <tr>\n",
       "      <th>338</th>\n",
       "      <td>Gentoo</td>\n",
       "      <td>Biscoe</td>\n",
       "      <td>47.2</td>\n",
       "      <td>13.7</td>\n",
       "      <td>214.0</td>\n",
       "      <td>4925.0</td>\n",
       "      <td>Female</td>\n",
       "    </tr>\n",
       "    <tr>\n",
       "      <th>340</th>\n",
       "      <td>Gentoo</td>\n",
       "      <td>Biscoe</td>\n",
       "      <td>46.8</td>\n",
       "      <td>14.3</td>\n",
       "      <td>215.0</td>\n",
       "      <td>4850.0</td>\n",
       "      <td>Female</td>\n",
       "    </tr>\n",
       "    <tr>\n",
       "      <th>341</th>\n",
       "      <td>Gentoo</td>\n",
       "      <td>Biscoe</td>\n",
       "      <td>50.4</td>\n",
       "      <td>15.7</td>\n",
       "      <td>222.0</td>\n",
       "      <td>5750.0</td>\n",
       "      <td>Male</td>\n",
       "    </tr>\n",
       "    <tr>\n",
       "      <th>342</th>\n",
       "      <td>Gentoo</td>\n",
       "      <td>Biscoe</td>\n",
       "      <td>45.2</td>\n",
       "      <td>14.8</td>\n",
       "      <td>212.0</td>\n",
       "      <td>5200.0</td>\n",
       "      <td>Female</td>\n",
       "    </tr>\n",
       "    <tr>\n",
       "      <th>343</th>\n",
       "      <td>Gentoo</td>\n",
       "      <td>Biscoe</td>\n",
       "      <td>49.9</td>\n",
       "      <td>16.1</td>\n",
       "      <td>213.0</td>\n",
       "      <td>5400.0</td>\n",
       "      <td>Male</td>\n",
       "    </tr>\n",
       "  </tbody>\n",
       "</table>\n",
       "<p>333 rows × 7 columns</p>\n",
       "</div>"
      ],
      "text/plain": [
       "    species   location  bill_length_mm  bill_depth_mm  flipper_length_mm  \\\n",
       "0    Adelie  Torgersen            39.1           18.7              181.0   \n",
       "1    Adelie  Torgersen            39.5           17.4              186.0   \n",
       "2    Adelie  Torgersen            40.3           18.0              195.0   \n",
       "4    Adelie  Torgersen            36.7           19.3              193.0   \n",
       "5    Adelie  Torgersen            39.3           20.6              190.0   \n",
       "..      ...        ...             ...            ...                ...   \n",
       "338  Gentoo     Biscoe            47.2           13.7              214.0   \n",
       "340  Gentoo     Biscoe            46.8           14.3              215.0   \n",
       "341  Gentoo     Biscoe            50.4           15.7              222.0   \n",
       "342  Gentoo     Biscoe            45.2           14.8              212.0   \n",
       "343  Gentoo     Biscoe            49.9           16.1              213.0   \n",
       "\n",
       "     body_mass_g  gender  \n",
       "0         3750.0    Male  \n",
       "1         3800.0  Female  \n",
       "2         3250.0  Female  \n",
       "4         3450.0  Female  \n",
       "5         3650.0    Male  \n",
       "..           ...     ...  \n",
       "338       4925.0  Female  \n",
       "340       4850.0  Female  \n",
       "341       5750.0    Male  \n",
       "342       5200.0  Female  \n",
       "343       5400.0    Male  \n",
       "\n",
       "[333 rows x 7 columns]"
      ]
     },
     "execution_count": 26,
     "metadata": {},
     "output_type": "execute_result"
    }
   ],
   "source": [
    "# get rid of rows with missing data\n",
    "df = df[~df.isna().any(axis=1)]\n",
    "df"
   ]
  },
  {
   "cell_type": "markdown",
   "metadata": {
    "cell_id": "69e7d4a0b5704e0a857fdab80df80902",
    "deepnote_cell_type": "markdown"
   },
   "source": [
    "* Be sure to save the resulting DataFrame with the same name `df`.  It should now have 333 rows."
   ]
  },
  {
   "cell_type": "code",
   "execution_count": 27,
   "metadata": {
    "cell_id": "114333c68f3541ff97374292f4523285",
    "deepnote_cell_type": "code",
    "deepnote_to_be_reexecuted": false,
    "execution_millis": 3,
    "execution_start": 1682109255405,
    "source_hash": "14f60b8f"
   },
   "outputs": [
    {
     "data": {
      "text/plain": [
       "(333, 7)"
      ]
     },
     "execution_count": 27,
     "metadata": {},
     "output_type": "execute_result"
    }
   ],
   "source": [
    "df.shape"
   ]
  },
  {
   "cell_type": "markdown",
   "metadata": {
    "cell_id": "60bb64dbfd954db6b1bf376e0d98edd7",
    "deepnote_cell_type": "markdown"
   },
   "source": [
    "## Facet charts\n",
    "\n",
    "* Display an Altair scatter chart showing bill length for the x-axis, flipper length for the y-axis, and color using species."
   ]
  },
  {
   "cell_type": "code",
   "execution_count": 28,
   "metadata": {
    "cell_id": "227ebedc25f34042aa285a465996e9e9",
    "deepnote_cell_type": "code",
    "deepnote_to_be_reexecuted": false,
    "execution_millis": 4,
    "execution_start": 1682109331712,
    "source_hash": "25d43fa0"
   },
   "outputs": [
    {
     "data": {
      "text/plain": [
       "Index(['species', 'location', 'bill_length_mm', 'bill_depth_mm',\n",
       "       'flipper_length_mm', 'body_mass_g', 'gender'],\n",
       "      dtype='object')"
      ]
     },
     "execution_count": 28,
     "metadata": {},
     "output_type": "execute_result"
    }
   ],
   "source": [
    "df.columns"
   ]
  },
  {
   "cell_type": "code",
   "execution_count": 29,
   "metadata": {
    "cell_id": "0b0b095ef9d94ab6b60d564e1862df44",
    "deepnote_cell_type": "code",
    "deepnote_to_be_reexecuted": false,
    "execution_millis": 338,
    "execution_start": 1682109337503,
    "source_hash": "3df74024"
   },
   "outputs": [],
   "source": [
    "import altair as alt"
   ]
  },
  {
   "cell_type": "code",
   "execution_count": 30,
   "metadata": {
    "cell_id": "feff2c31056845568153ced38da8877a",
    "deepnote_cell_type": "code",
    "deepnote_to_be_reexecuted": false,
    "execution_millis": 39,
    "execution_start": 1682109396099,
    "source_hash": "645bebf8"
   },
   "outputs": [
    {
     "data": {
      "text/html": [
       "\n",
       "<div id=\"altair-viz-ef7889da2edc4a7ba75c73573b9bea12\"></div>\n",
       "<script type=\"text/javascript\">\n",
       "  var VEGA_DEBUG = (typeof VEGA_DEBUG == \"undefined\") ? {} : VEGA_DEBUG;\n",
       "  (function(spec, embedOpt){\n",
       "    let outputDiv = document.currentScript.previousElementSibling;\n",
       "    if (outputDiv.id !== \"altair-viz-ef7889da2edc4a7ba75c73573b9bea12\") {\n",
       "      outputDiv = document.getElementById(\"altair-viz-ef7889da2edc4a7ba75c73573b9bea12\");\n",
       "    }\n",
       "    const paths = {\n",
       "      \"vega\": \"https://cdn.jsdelivr.net/npm//vega@5?noext\",\n",
       "      \"vega-lib\": \"https://cdn.jsdelivr.net/npm//vega-lib?noext\",\n",
       "      \"vega-lite\": \"https://cdn.jsdelivr.net/npm//vega-lite@4.17.0?noext\",\n",
       "      \"vega-embed\": \"https://cdn.jsdelivr.net/npm//vega-embed@6?noext\",\n",
       "    };\n",
       "\n",
       "    function maybeLoadScript(lib, version) {\n",
       "      var key = `${lib.replace(\"-\", \"\")}_version`;\n",
       "      return (VEGA_DEBUG[key] == version) ?\n",
       "        Promise.resolve(paths[lib]) :\n",
       "        new Promise(function(resolve, reject) {\n",
       "          var s = document.createElement('script');\n",
       "          document.getElementsByTagName(\"head\")[0].appendChild(s);\n",
       "          s.async = true;\n",
       "          s.onload = () => {\n",
       "            VEGA_DEBUG[key] = version;\n",
       "            return resolve(paths[lib]);\n",
       "          };\n",
       "          s.onerror = () => reject(`Error loading script: ${paths[lib]}`);\n",
       "          s.src = paths[lib];\n",
       "        });\n",
       "    }\n",
       "\n",
       "    function showError(err) {\n",
       "      outputDiv.innerHTML = `<div class=\"error\" style=\"color:red;\">${err}</div>`;\n",
       "      throw err;\n",
       "    }\n",
       "\n",
       "    function displayChart(vegaEmbed) {\n",
       "      vegaEmbed(outputDiv, spec, embedOpt)\n",
       "        .catch(err => showError(`Javascript Error: ${err.message}<br>This usually means there's a typo in your chart specification. See the javascript console for the full traceback.`));\n",
       "    }\n",
       "\n",
       "    if(typeof define === \"function\" && define.amd) {\n",
       "      requirejs.config({paths});\n",
       "      require([\"vega-embed\"], displayChart, err => showError(`Error loading script: ${err.message}`));\n",
       "    } else {\n",
       "      maybeLoadScript(\"vega\", \"5\")\n",
       "        .then(() => maybeLoadScript(\"vega-lite\", \"4.17.0\"))\n",
       "        .then(() => maybeLoadScript(\"vega-embed\", \"6\"))\n",
       "        .catch(showError)\n",
       "        .then(() => displayChart(vegaEmbed));\n",
       "    }\n",
       "  })({\"config\": {\"view\": {\"continuousWidth\": 400, \"continuousHeight\": 300}}, \"data\": {\"name\": \"data-a7bc2cc87e28b8bb84b0376a27fad733\"}, \"mark\": \"circle\", \"encoding\": {\"color\": {\"field\": \"species\", \"type\": \"nominal\"}, \"x\": {\"field\": \"bill_length_mm\", \"type\": \"quantitative\"}, \"y\": {\"field\": \"flipper_length_mm\", \"type\": \"quantitative\"}}, \"$schema\": \"https://vega.github.io/schema/vega-lite/v4.17.0.json\", \"datasets\": {\"data-a7bc2cc87e28b8bb84b0376a27fad733\": [{\"species\": \"Adelie\", \"location\": \"Torgersen\", \"bill_length_mm\": 39.1, \"bill_depth_mm\": 18.7, \"flipper_length_mm\": 181.0, \"body_mass_g\": 3750.0, \"gender\": \"Male\"}, {\"species\": \"Adelie\", \"location\": \"Torgersen\", \"bill_length_mm\": 39.5, \"bill_depth_mm\": 17.4, \"flipper_length_mm\": 186.0, \"body_mass_g\": 3800.0, \"gender\": \"Female\"}, {\"species\": \"Adelie\", \"location\": \"Torgersen\", \"bill_length_mm\": 40.3, \"bill_depth_mm\": 18.0, \"flipper_length_mm\": 195.0, \"body_mass_g\": 3250.0, \"gender\": \"Female\"}, {\"species\": \"Adelie\", \"location\": \"Torgersen\", \"bill_length_mm\": 36.7, \"bill_depth_mm\": 19.3, \"flipper_length_mm\": 193.0, \"body_mass_g\": 3450.0, \"gender\": \"Female\"}, {\"species\": \"Adelie\", \"location\": \"Torgersen\", \"bill_length_mm\": 39.3, \"bill_depth_mm\": 20.6, \"flipper_length_mm\": 190.0, \"body_mass_g\": 3650.0, \"gender\": \"Male\"}, {\"species\": \"Adelie\", \"location\": \"Torgersen\", \"bill_length_mm\": 38.9, \"bill_depth_mm\": 17.8, \"flipper_length_mm\": 181.0, \"body_mass_g\": 3625.0, \"gender\": \"Female\"}, {\"species\": \"Adelie\", \"location\": \"Torgersen\", \"bill_length_mm\": 39.2, \"bill_depth_mm\": 19.6, \"flipper_length_mm\": 195.0, \"body_mass_g\": 4675.0, \"gender\": \"Male\"}, {\"species\": \"Adelie\", \"location\": \"Torgersen\", \"bill_length_mm\": 41.1, \"bill_depth_mm\": 17.6, \"flipper_length_mm\": 182.0, \"body_mass_g\": 3200.0, \"gender\": \"Female\"}, {\"species\": \"Adelie\", \"location\": \"Torgersen\", \"bill_length_mm\": 38.6, \"bill_depth_mm\": 21.2, \"flipper_length_mm\": 191.0, \"body_mass_g\": 3800.0, \"gender\": \"Male\"}, {\"species\": \"Adelie\", \"location\": \"Torgersen\", \"bill_length_mm\": 34.6, \"bill_depth_mm\": 21.1, \"flipper_length_mm\": 198.0, \"body_mass_g\": 4400.0, \"gender\": \"Male\"}, {\"species\": \"Adelie\", \"location\": \"Torgersen\", \"bill_length_mm\": 36.6, \"bill_depth_mm\": 17.8, \"flipper_length_mm\": 185.0, \"body_mass_g\": 3700.0, \"gender\": \"Female\"}, {\"species\": \"Adelie\", \"location\": \"Torgersen\", \"bill_length_mm\": 38.7, \"bill_depth_mm\": 19.0, \"flipper_length_mm\": 195.0, \"body_mass_g\": 3450.0, \"gender\": \"Female\"}, {\"species\": \"Adelie\", \"location\": \"Torgersen\", \"bill_length_mm\": 42.5, \"bill_depth_mm\": 20.7, \"flipper_length_mm\": 197.0, \"body_mass_g\": 4500.0, \"gender\": \"Male\"}, {\"species\": \"Adelie\", \"location\": \"Torgersen\", \"bill_length_mm\": 34.4, \"bill_depth_mm\": 18.4, \"flipper_length_mm\": 184.0, \"body_mass_g\": 3325.0, \"gender\": \"Female\"}, {\"species\": \"Adelie\", \"location\": \"Torgersen\", \"bill_length_mm\": 46.0, \"bill_depth_mm\": 21.5, \"flipper_length_mm\": 194.0, \"body_mass_g\": 4200.0, \"gender\": \"Male\"}, {\"species\": \"Adelie\", \"location\": \"Biscoe\", \"bill_length_mm\": 37.8, \"bill_depth_mm\": 18.3, \"flipper_length_mm\": 174.0, \"body_mass_g\": 3400.0, \"gender\": \"Female\"}, {\"species\": \"Adelie\", \"location\": \"Biscoe\", \"bill_length_mm\": 37.7, \"bill_depth_mm\": 18.7, \"flipper_length_mm\": 180.0, \"body_mass_g\": 3600.0, \"gender\": \"Male\"}, {\"species\": \"Adelie\", \"location\": \"Biscoe\", \"bill_length_mm\": 35.9, \"bill_depth_mm\": 19.2, \"flipper_length_mm\": 189.0, \"body_mass_g\": 3800.0, \"gender\": \"Female\"}, {\"species\": \"Adelie\", \"location\": \"Biscoe\", \"bill_length_mm\": 38.2, \"bill_depth_mm\": 18.1, \"flipper_length_mm\": 185.0, \"body_mass_g\": 3950.0, \"gender\": \"Male\"}, {\"species\": \"Adelie\", \"location\": \"Biscoe\", \"bill_length_mm\": 38.8, \"bill_depth_mm\": 17.2, \"flipper_length_mm\": 180.0, \"body_mass_g\": 3800.0, \"gender\": \"Male\"}, {\"species\": \"Adelie\", \"location\": \"Biscoe\", \"bill_length_mm\": 35.3, \"bill_depth_mm\": 18.9, \"flipper_length_mm\": 187.0, \"body_mass_g\": 3800.0, \"gender\": \"Female\"}, {\"species\": \"Adelie\", \"location\": \"Biscoe\", \"bill_length_mm\": 40.6, \"bill_depth_mm\": 18.6, \"flipper_length_mm\": 183.0, \"body_mass_g\": 3550.0, \"gender\": \"Male\"}, {\"species\": \"Adelie\", \"location\": \"Biscoe\", \"bill_length_mm\": 40.5, \"bill_depth_mm\": 17.9, \"flipper_length_mm\": 187.0, \"body_mass_g\": 3200.0, \"gender\": \"Female\"}, {\"species\": \"Adelie\", \"location\": \"Biscoe\", \"bill_length_mm\": 37.9, \"bill_depth_mm\": 18.6, \"flipper_length_mm\": 172.0, \"body_mass_g\": 3150.0, \"gender\": \"Female\"}, {\"species\": \"Adelie\", \"location\": \"Biscoe\", \"bill_length_mm\": 40.5, \"bill_depth_mm\": 18.9, \"flipper_length_mm\": 180.0, \"body_mass_g\": 3950.0, \"gender\": \"Male\"}, {\"species\": \"Adelie\", \"location\": \"Dream\", \"bill_length_mm\": 39.5, \"bill_depth_mm\": 16.7, \"flipper_length_mm\": 178.0, \"body_mass_g\": 3250.0, \"gender\": \"Female\"}, {\"species\": \"Adelie\", \"location\": \"Dream\", \"bill_length_mm\": 37.2, \"bill_depth_mm\": 18.1, \"flipper_length_mm\": 178.0, \"body_mass_g\": 3900.0, \"gender\": \"Male\"}, {\"species\": \"Adelie\", \"location\": \"Dream\", \"bill_length_mm\": 39.5, \"bill_depth_mm\": 17.8, \"flipper_length_mm\": 188.0, \"body_mass_g\": 3300.0, \"gender\": \"Female\"}, {\"species\": \"Adelie\", \"location\": \"Dream\", \"bill_length_mm\": 40.9, \"bill_depth_mm\": 18.9, \"flipper_length_mm\": 184.0, \"body_mass_g\": 3900.0, \"gender\": \"Male\"}, {\"species\": \"Adelie\", \"location\": \"Dream\", \"bill_length_mm\": 36.4, \"bill_depth_mm\": 17.0, \"flipper_length_mm\": 195.0, \"body_mass_g\": 3325.0, \"gender\": \"Female\"}, {\"species\": \"Adelie\", \"location\": \"Dream\", \"bill_length_mm\": 39.2, \"bill_depth_mm\": 21.1, \"flipper_length_mm\": 196.0, \"body_mass_g\": 4150.0, \"gender\": \"Male\"}, {\"species\": \"Adelie\", \"location\": \"Dream\", \"bill_length_mm\": 38.8, \"bill_depth_mm\": 20.0, \"flipper_length_mm\": 190.0, \"body_mass_g\": 3950.0, \"gender\": \"Male\"}, {\"species\": \"Adelie\", \"location\": \"Dream\", \"bill_length_mm\": 42.2, \"bill_depth_mm\": 18.5, \"flipper_length_mm\": 180.0, \"body_mass_g\": 3550.0, \"gender\": \"Female\"}, {\"species\": \"Adelie\", \"location\": \"Dream\", \"bill_length_mm\": 37.6, \"bill_depth_mm\": 19.3, \"flipper_length_mm\": 181.0, \"body_mass_g\": 3300.0, \"gender\": \"Female\"}, {\"species\": \"Adelie\", \"location\": \"Dream\", \"bill_length_mm\": 39.8, \"bill_depth_mm\": 19.1, \"flipper_length_mm\": 184.0, \"body_mass_g\": 4650.0, \"gender\": \"Male\"}, {\"species\": \"Adelie\", \"location\": \"Dream\", \"bill_length_mm\": 36.5, \"bill_depth_mm\": 18.0, \"flipper_length_mm\": 182.0, \"body_mass_g\": 3150.0, \"gender\": \"Female\"}, {\"species\": \"Adelie\", \"location\": \"Dream\", \"bill_length_mm\": 40.8, \"bill_depth_mm\": 18.4, \"flipper_length_mm\": 195.0, \"body_mass_g\": 3900.0, \"gender\": \"Male\"}, {\"species\": \"Adelie\", \"location\": \"Dream\", \"bill_length_mm\": 36.0, \"bill_depth_mm\": 18.5, \"flipper_length_mm\": 186.0, \"body_mass_g\": 3100.0, \"gender\": \"Female\"}, {\"species\": \"Adelie\", \"location\": \"Dream\", \"bill_length_mm\": 44.1, \"bill_depth_mm\": 19.7, \"flipper_length_mm\": 196.0, \"body_mass_g\": 4400.0, \"gender\": \"Male\"}, {\"species\": \"Adelie\", \"location\": \"Dream\", \"bill_length_mm\": 37.0, \"bill_depth_mm\": 16.9, \"flipper_length_mm\": 185.0, \"body_mass_g\": 3000.0, \"gender\": \"Female\"}, {\"species\": \"Adelie\", \"location\": \"Dream\", \"bill_length_mm\": 39.6, \"bill_depth_mm\": 18.8, \"flipper_length_mm\": 190.0, \"body_mass_g\": 4600.0, \"gender\": \"Male\"}, {\"species\": \"Adelie\", \"location\": \"Dream\", \"bill_length_mm\": 41.1, \"bill_depth_mm\": 19.0, \"flipper_length_mm\": 182.0, \"body_mass_g\": 3425.0, \"gender\": \"Male\"}, {\"species\": \"Adelie\", \"location\": \"Dream\", \"bill_length_mm\": 36.0, \"bill_depth_mm\": 17.9, \"flipper_length_mm\": 190.0, \"body_mass_g\": 3450.0, \"gender\": \"Female\"}, {\"species\": \"Adelie\", \"location\": \"Dream\", \"bill_length_mm\": 42.3, \"bill_depth_mm\": 21.2, \"flipper_length_mm\": 191.0, \"body_mass_g\": 4150.0, \"gender\": \"Male\"}, {\"species\": \"Adelie\", \"location\": \"Biscoe\", \"bill_length_mm\": 39.6, \"bill_depth_mm\": 17.7, \"flipper_length_mm\": 186.0, \"body_mass_g\": 3500.0, \"gender\": \"Female\"}, {\"species\": \"Adelie\", \"location\": \"Biscoe\", \"bill_length_mm\": 40.1, \"bill_depth_mm\": 18.9, \"flipper_length_mm\": 188.0, \"body_mass_g\": 4300.0, \"gender\": \"Male\"}, {\"species\": \"Adelie\", \"location\": \"Biscoe\", \"bill_length_mm\": 35.0, \"bill_depth_mm\": 17.9, \"flipper_length_mm\": 190.0, \"body_mass_g\": 3450.0, \"gender\": \"Female\"}, {\"species\": \"Adelie\", \"location\": \"Biscoe\", \"bill_length_mm\": 42.0, \"bill_depth_mm\": 19.5, \"flipper_length_mm\": 200.0, \"body_mass_g\": 4050.0, \"gender\": \"Male\"}, {\"species\": \"Adelie\", \"location\": \"Biscoe\", \"bill_length_mm\": 34.5, \"bill_depth_mm\": 18.1, \"flipper_length_mm\": 187.0, \"body_mass_g\": 2900.0, \"gender\": \"Female\"}, {\"species\": \"Adelie\", \"location\": \"Biscoe\", \"bill_length_mm\": 41.4, \"bill_depth_mm\": 18.6, \"flipper_length_mm\": 191.0, \"body_mass_g\": 3700.0, \"gender\": \"Male\"}, {\"species\": \"Adelie\", \"location\": \"Biscoe\", \"bill_length_mm\": 39.0, \"bill_depth_mm\": 17.5, \"flipper_length_mm\": 186.0, \"body_mass_g\": 3550.0, \"gender\": \"Female\"}, {\"species\": \"Adelie\", \"location\": \"Biscoe\", \"bill_length_mm\": 40.6, \"bill_depth_mm\": 18.8, \"flipper_length_mm\": 193.0, \"body_mass_g\": 3800.0, \"gender\": \"Male\"}, {\"species\": \"Adelie\", \"location\": \"Biscoe\", \"bill_length_mm\": 36.5, \"bill_depth_mm\": 16.6, \"flipper_length_mm\": 181.0, \"body_mass_g\": 2850.0, \"gender\": \"Female\"}, {\"species\": \"Adelie\", \"location\": \"Biscoe\", \"bill_length_mm\": 37.6, \"bill_depth_mm\": 19.1, \"flipper_length_mm\": 194.0, \"body_mass_g\": 3750.0, \"gender\": \"Male\"}, {\"species\": \"Adelie\", \"location\": \"Biscoe\", \"bill_length_mm\": 35.7, \"bill_depth_mm\": 16.9, \"flipper_length_mm\": 185.0, \"body_mass_g\": 3150.0, \"gender\": \"Female\"}, {\"species\": \"Adelie\", \"location\": \"Biscoe\", \"bill_length_mm\": 41.3, \"bill_depth_mm\": 21.1, \"flipper_length_mm\": 195.0, \"body_mass_g\": 4400.0, \"gender\": \"Male\"}, {\"species\": \"Adelie\", \"location\": \"Biscoe\", \"bill_length_mm\": 37.6, \"bill_depth_mm\": 17.0, \"flipper_length_mm\": 185.0, \"body_mass_g\": 3600.0, \"gender\": \"Female\"}, {\"species\": \"Adelie\", \"location\": \"Biscoe\", \"bill_length_mm\": 41.1, \"bill_depth_mm\": 18.2, \"flipper_length_mm\": 192.0, \"body_mass_g\": 4050.0, \"gender\": \"Male\"}, {\"species\": \"Adelie\", \"location\": \"Biscoe\", \"bill_length_mm\": 36.4, \"bill_depth_mm\": 17.1, \"flipper_length_mm\": 184.0, \"body_mass_g\": 2850.0, \"gender\": \"Female\"}, {\"species\": \"Adelie\", \"location\": \"Biscoe\", \"bill_length_mm\": 41.6, \"bill_depth_mm\": 18.0, \"flipper_length_mm\": 192.0, \"body_mass_g\": 3950.0, \"gender\": \"Male\"}, {\"species\": \"Adelie\", \"location\": \"Biscoe\", \"bill_length_mm\": 35.5, \"bill_depth_mm\": 16.2, \"flipper_length_mm\": 195.0, \"body_mass_g\": 3350.0, \"gender\": \"Female\"}, {\"species\": \"Adelie\", \"location\": \"Biscoe\", \"bill_length_mm\": 41.1, \"bill_depth_mm\": 19.1, \"flipper_length_mm\": 188.0, \"body_mass_g\": 4100.0, \"gender\": \"Male\"}, {\"species\": \"Adelie\", \"location\": \"Torgersen\", \"bill_length_mm\": 35.9, \"bill_depth_mm\": 16.6, \"flipper_length_mm\": 190.0, \"body_mass_g\": 3050.0, \"gender\": \"Female\"}, {\"species\": \"Adelie\", \"location\": \"Torgersen\", \"bill_length_mm\": 41.8, \"bill_depth_mm\": 19.4, \"flipper_length_mm\": 198.0, \"body_mass_g\": 4450.0, \"gender\": \"Male\"}, {\"species\": \"Adelie\", \"location\": \"Torgersen\", \"bill_length_mm\": 33.5, \"bill_depth_mm\": 19.0, \"flipper_length_mm\": 190.0, \"body_mass_g\": 3600.0, \"gender\": \"Female\"}, {\"species\": \"Adelie\", \"location\": \"Torgersen\", \"bill_length_mm\": 39.7, \"bill_depth_mm\": 18.4, \"flipper_length_mm\": 190.0, \"body_mass_g\": 3900.0, \"gender\": \"Male\"}, {\"species\": \"Adelie\", \"location\": \"Torgersen\", \"bill_length_mm\": 39.6, \"bill_depth_mm\": 17.2, \"flipper_length_mm\": 196.0, \"body_mass_g\": 3550.0, \"gender\": \"Female\"}, {\"species\": \"Adelie\", \"location\": \"Torgersen\", \"bill_length_mm\": 45.8, \"bill_depth_mm\": 18.9, \"flipper_length_mm\": 197.0, \"body_mass_g\": 4150.0, \"gender\": \"Male\"}, {\"species\": \"Adelie\", \"location\": \"Torgersen\", \"bill_length_mm\": 35.5, \"bill_depth_mm\": 17.5, \"flipper_length_mm\": 190.0, \"body_mass_g\": 3700.0, \"gender\": \"Female\"}, {\"species\": \"Adelie\", \"location\": \"Torgersen\", \"bill_length_mm\": 42.8, \"bill_depth_mm\": 18.5, \"flipper_length_mm\": 195.0, \"body_mass_g\": 4250.0, \"gender\": \"Male\"}, {\"species\": \"Adelie\", \"location\": \"Torgersen\", \"bill_length_mm\": 40.9, \"bill_depth_mm\": 16.8, \"flipper_length_mm\": 191.0, \"body_mass_g\": 3700.0, \"gender\": \"Female\"}, {\"species\": \"Adelie\", \"location\": \"Torgersen\", \"bill_length_mm\": 37.2, \"bill_depth_mm\": 19.4, \"flipper_length_mm\": 184.0, \"body_mass_g\": 3900.0, \"gender\": \"Male\"}, {\"species\": \"Adelie\", \"location\": \"Torgersen\", \"bill_length_mm\": 36.2, \"bill_depth_mm\": 16.1, \"flipper_length_mm\": 187.0, \"body_mass_g\": 3550.0, \"gender\": \"Female\"}, {\"species\": \"Adelie\", \"location\": \"Torgersen\", \"bill_length_mm\": 42.1, \"bill_depth_mm\": 19.1, \"flipper_length_mm\": 195.0, \"body_mass_g\": 4000.0, \"gender\": \"Male\"}, {\"species\": \"Adelie\", \"location\": \"Torgersen\", \"bill_length_mm\": 34.6, \"bill_depth_mm\": 17.2, \"flipper_length_mm\": 189.0, \"body_mass_g\": 3200.0, \"gender\": \"Female\"}, {\"species\": \"Adelie\", \"location\": \"Torgersen\", \"bill_length_mm\": 42.9, \"bill_depth_mm\": 17.6, \"flipper_length_mm\": 196.0, \"body_mass_g\": 4700.0, \"gender\": \"Male\"}, {\"species\": \"Adelie\", \"location\": \"Torgersen\", \"bill_length_mm\": 36.7, \"bill_depth_mm\": 18.8, \"flipper_length_mm\": 187.0, \"body_mass_g\": 3800.0, \"gender\": \"Female\"}, {\"species\": \"Adelie\", \"location\": \"Torgersen\", \"bill_length_mm\": 35.1, \"bill_depth_mm\": 19.4, \"flipper_length_mm\": 193.0, \"body_mass_g\": 4200.0, \"gender\": \"Male\"}, {\"species\": \"Adelie\", \"location\": \"Dream\", \"bill_length_mm\": 37.3, \"bill_depth_mm\": 17.8, \"flipper_length_mm\": 191.0, \"body_mass_g\": 3350.0, \"gender\": \"Female\"}, {\"species\": \"Adelie\", \"location\": \"Dream\", \"bill_length_mm\": 41.3, \"bill_depth_mm\": 20.3, \"flipper_length_mm\": 194.0, \"body_mass_g\": 3550.0, \"gender\": \"Male\"}, {\"species\": \"Adelie\", \"location\": \"Dream\", \"bill_length_mm\": 36.3, \"bill_depth_mm\": 19.5, \"flipper_length_mm\": 190.0, \"body_mass_g\": 3800.0, \"gender\": \"Male\"}, {\"species\": \"Adelie\", \"location\": \"Dream\", \"bill_length_mm\": 36.9, \"bill_depth_mm\": 18.6, \"flipper_length_mm\": 189.0, \"body_mass_g\": 3500.0, \"gender\": \"Female\"}, {\"species\": \"Adelie\", \"location\": \"Dream\", \"bill_length_mm\": 38.3, \"bill_depth_mm\": 19.2, \"flipper_length_mm\": 189.0, \"body_mass_g\": 3950.0, \"gender\": \"Male\"}, {\"species\": \"Adelie\", \"location\": \"Dream\", \"bill_length_mm\": 38.9, \"bill_depth_mm\": 18.8, \"flipper_length_mm\": 190.0, \"body_mass_g\": 3600.0, \"gender\": \"Female\"}, {\"species\": \"Adelie\", \"location\": \"Dream\", \"bill_length_mm\": 35.7, \"bill_depth_mm\": 18.0, \"flipper_length_mm\": 202.0, \"body_mass_g\": 3550.0, \"gender\": \"Female\"}, {\"species\": \"Adelie\", \"location\": \"Dream\", \"bill_length_mm\": 41.1, \"bill_depth_mm\": 18.1, \"flipper_length_mm\": 205.0, \"body_mass_g\": 4300.0, \"gender\": \"Male\"}, {\"species\": \"Adelie\", \"location\": \"Dream\", \"bill_length_mm\": 34.0, \"bill_depth_mm\": 17.1, \"flipper_length_mm\": 185.0, \"body_mass_g\": 3400.0, \"gender\": \"Female\"}, {\"species\": \"Adelie\", \"location\": \"Dream\", \"bill_length_mm\": 39.6, \"bill_depth_mm\": 18.1, \"flipper_length_mm\": 186.0, \"body_mass_g\": 4450.0, \"gender\": \"Male\"}, {\"species\": \"Adelie\", \"location\": \"Dream\", \"bill_length_mm\": 36.2, \"bill_depth_mm\": 17.3, \"flipper_length_mm\": 187.0, \"body_mass_g\": 3300.0, \"gender\": \"Female\"}, {\"species\": \"Adelie\", \"location\": \"Dream\", \"bill_length_mm\": 40.8, \"bill_depth_mm\": 18.9, \"flipper_length_mm\": 208.0, \"body_mass_g\": 4300.0, \"gender\": \"Male\"}, {\"species\": \"Adelie\", \"location\": \"Dream\", \"bill_length_mm\": 38.1, \"bill_depth_mm\": 18.6, \"flipper_length_mm\": 190.0, \"body_mass_g\": 3700.0, \"gender\": \"Female\"}, {\"species\": \"Adelie\", \"location\": \"Dream\", \"bill_length_mm\": 40.3, \"bill_depth_mm\": 18.5, \"flipper_length_mm\": 196.0, \"body_mass_g\": 4350.0, \"gender\": \"Male\"}, {\"species\": \"Adelie\", \"location\": \"Dream\", \"bill_length_mm\": 33.1, \"bill_depth_mm\": 16.1, \"flipper_length_mm\": 178.0, \"body_mass_g\": 2900.0, \"gender\": \"Female\"}, {\"species\": \"Adelie\", \"location\": \"Dream\", \"bill_length_mm\": 43.2, \"bill_depth_mm\": 18.5, \"flipper_length_mm\": 192.0, \"body_mass_g\": 4100.0, \"gender\": \"Male\"}, {\"species\": \"Adelie\", \"location\": \"Biscoe\", \"bill_length_mm\": 35.0, \"bill_depth_mm\": 17.9, \"flipper_length_mm\": 192.0, \"body_mass_g\": 3725.0, \"gender\": \"Female\"}, {\"species\": \"Adelie\", \"location\": \"Biscoe\", \"bill_length_mm\": 41.0, \"bill_depth_mm\": 20.0, \"flipper_length_mm\": 203.0, \"body_mass_g\": 4725.0, \"gender\": \"Male\"}, {\"species\": \"Adelie\", \"location\": \"Biscoe\", \"bill_length_mm\": 37.7, \"bill_depth_mm\": 16.0, \"flipper_length_mm\": 183.0, \"body_mass_g\": 3075.0, \"gender\": \"Female\"}, {\"species\": \"Adelie\", \"location\": \"Biscoe\", \"bill_length_mm\": 37.8, \"bill_depth_mm\": 20.0, \"flipper_length_mm\": 190.0, \"body_mass_g\": 4250.0, \"gender\": \"Male\"}, {\"species\": \"Adelie\", \"location\": \"Biscoe\", \"bill_length_mm\": 37.9, \"bill_depth_mm\": 18.6, \"flipper_length_mm\": 193.0, \"body_mass_g\": 2925.0, \"gender\": \"Female\"}, {\"species\": \"Adelie\", \"location\": \"Biscoe\", \"bill_length_mm\": 39.7, \"bill_depth_mm\": 18.9, \"flipper_length_mm\": 184.0, \"body_mass_g\": 3550.0, \"gender\": \"Male\"}, {\"species\": \"Adelie\", \"location\": \"Biscoe\", \"bill_length_mm\": 38.6, \"bill_depth_mm\": 17.2, \"flipper_length_mm\": 199.0, \"body_mass_g\": 3750.0, \"gender\": \"Female\"}, {\"species\": \"Adelie\", \"location\": \"Biscoe\", \"bill_length_mm\": 38.2, \"bill_depth_mm\": 20.0, \"flipper_length_mm\": 190.0, \"body_mass_g\": 3900.0, \"gender\": \"Male\"}, {\"species\": \"Adelie\", \"location\": \"Biscoe\", \"bill_length_mm\": 38.1, \"bill_depth_mm\": 17.0, \"flipper_length_mm\": 181.0, \"body_mass_g\": 3175.0, \"gender\": \"Female\"}, {\"species\": \"Adelie\", \"location\": \"Biscoe\", \"bill_length_mm\": 43.2, \"bill_depth_mm\": 19.0, \"flipper_length_mm\": 197.0, \"body_mass_g\": 4775.0, \"gender\": \"Male\"}, {\"species\": \"Adelie\", \"location\": \"Biscoe\", \"bill_length_mm\": 38.1, \"bill_depth_mm\": 16.5, \"flipper_length_mm\": 198.0, \"body_mass_g\": 3825.0, \"gender\": \"Female\"}, {\"species\": \"Adelie\", \"location\": \"Biscoe\", \"bill_length_mm\": 45.6, \"bill_depth_mm\": 20.3, \"flipper_length_mm\": 191.0, \"body_mass_g\": 4600.0, \"gender\": \"Male\"}, {\"species\": \"Adelie\", \"location\": \"Biscoe\", \"bill_length_mm\": 39.7, \"bill_depth_mm\": 17.7, \"flipper_length_mm\": 193.0, \"body_mass_g\": 3200.0, \"gender\": \"Female\"}, {\"species\": \"Adelie\", \"location\": \"Biscoe\", \"bill_length_mm\": 42.2, \"bill_depth_mm\": 19.5, \"flipper_length_mm\": 197.0, \"body_mass_g\": 4275.0, \"gender\": \"Male\"}, {\"species\": \"Adelie\", \"location\": \"Biscoe\", \"bill_length_mm\": 39.6, \"bill_depth_mm\": 20.7, \"flipper_length_mm\": 191.0, \"body_mass_g\": 3900.0, \"gender\": \"Female\"}, {\"species\": \"Adelie\", \"location\": \"Biscoe\", \"bill_length_mm\": 42.7, \"bill_depth_mm\": 18.3, \"flipper_length_mm\": 196.0, \"body_mass_g\": 4075.0, \"gender\": \"Male\"}, {\"species\": \"Adelie\", \"location\": \"Torgersen\", \"bill_length_mm\": 38.6, \"bill_depth_mm\": 17.0, \"flipper_length_mm\": 188.0, \"body_mass_g\": 2900.0, \"gender\": \"Female\"}, {\"species\": \"Adelie\", \"location\": \"Torgersen\", \"bill_length_mm\": 37.3, \"bill_depth_mm\": 20.5, \"flipper_length_mm\": 199.0, \"body_mass_g\": 3775.0, \"gender\": \"Male\"}, {\"species\": \"Adelie\", \"location\": \"Torgersen\", \"bill_length_mm\": 35.7, \"bill_depth_mm\": 17.0, \"flipper_length_mm\": 189.0, \"body_mass_g\": 3350.0, \"gender\": \"Female\"}, {\"species\": \"Adelie\", \"location\": \"Torgersen\", \"bill_length_mm\": 41.1, \"bill_depth_mm\": 18.6, \"flipper_length_mm\": 189.0, \"body_mass_g\": 3325.0, \"gender\": \"Male\"}, {\"species\": \"Adelie\", \"location\": \"Torgersen\", \"bill_length_mm\": 36.2, \"bill_depth_mm\": 17.2, \"flipper_length_mm\": 187.0, \"body_mass_g\": 3150.0, \"gender\": \"Female\"}, {\"species\": \"Adelie\", \"location\": \"Torgersen\", \"bill_length_mm\": 37.7, \"bill_depth_mm\": 19.8, \"flipper_length_mm\": 198.0, \"body_mass_g\": 3500.0, \"gender\": \"Male\"}, {\"species\": \"Adelie\", \"location\": \"Torgersen\", \"bill_length_mm\": 40.2, \"bill_depth_mm\": 17.0, \"flipper_length_mm\": 176.0, \"body_mass_g\": 3450.0, \"gender\": \"Female\"}, {\"species\": \"Adelie\", \"location\": \"Torgersen\", \"bill_length_mm\": 41.4, \"bill_depth_mm\": 18.5, \"flipper_length_mm\": 202.0, \"body_mass_g\": 3875.0, \"gender\": \"Male\"}, {\"species\": \"Adelie\", \"location\": \"Torgersen\", \"bill_length_mm\": 35.2, \"bill_depth_mm\": 15.9, \"flipper_length_mm\": 186.0, \"body_mass_g\": 3050.0, \"gender\": \"Female\"}, {\"species\": \"Adelie\", \"location\": \"Torgersen\", \"bill_length_mm\": 40.6, \"bill_depth_mm\": 19.0, \"flipper_length_mm\": 199.0, \"body_mass_g\": 4000.0, \"gender\": \"Male\"}, {\"species\": \"Adelie\", \"location\": \"Torgersen\", \"bill_length_mm\": 38.8, \"bill_depth_mm\": 17.6, \"flipper_length_mm\": 191.0, \"body_mass_g\": 3275.0, \"gender\": \"Female\"}, {\"species\": \"Adelie\", \"location\": \"Torgersen\", \"bill_length_mm\": 41.5, \"bill_depth_mm\": 18.3, \"flipper_length_mm\": 195.0, \"body_mass_g\": 4300.0, \"gender\": \"Male\"}, {\"species\": \"Adelie\", \"location\": \"Torgersen\", \"bill_length_mm\": 39.0, \"bill_depth_mm\": 17.1, \"flipper_length_mm\": 191.0, \"body_mass_g\": 3050.0, \"gender\": \"Female\"}, {\"species\": \"Adelie\", \"location\": \"Torgersen\", \"bill_length_mm\": 44.1, \"bill_depth_mm\": 18.0, \"flipper_length_mm\": 210.0, \"body_mass_g\": 4000.0, \"gender\": \"Male\"}, {\"species\": \"Adelie\", \"location\": \"Torgersen\", \"bill_length_mm\": 38.5, \"bill_depth_mm\": 17.9, \"flipper_length_mm\": 190.0, \"body_mass_g\": 3325.0, \"gender\": \"Female\"}, {\"species\": \"Adelie\", \"location\": \"Torgersen\", \"bill_length_mm\": 43.1, \"bill_depth_mm\": 19.2, \"flipper_length_mm\": 197.0, \"body_mass_g\": 3500.0, \"gender\": \"Male\"}, {\"species\": \"Adelie\", \"location\": \"Dream\", \"bill_length_mm\": 36.8, \"bill_depth_mm\": 18.5, \"flipper_length_mm\": 193.0, \"body_mass_g\": 3500.0, \"gender\": \"Female\"}, {\"species\": \"Adelie\", \"location\": \"Dream\", \"bill_length_mm\": 37.5, \"bill_depth_mm\": 18.5, \"flipper_length_mm\": 199.0, \"body_mass_g\": 4475.0, \"gender\": \"Male\"}, {\"species\": \"Adelie\", \"location\": \"Dream\", \"bill_length_mm\": 38.1, \"bill_depth_mm\": 17.6, \"flipper_length_mm\": 187.0, \"body_mass_g\": 3425.0, \"gender\": \"Female\"}, {\"species\": \"Adelie\", \"location\": \"Dream\", \"bill_length_mm\": 41.1, \"bill_depth_mm\": 17.5, \"flipper_length_mm\": 190.0, \"body_mass_g\": 3900.0, \"gender\": \"Male\"}, {\"species\": \"Adelie\", \"location\": \"Dream\", \"bill_length_mm\": 35.6, \"bill_depth_mm\": 17.5, \"flipper_length_mm\": 191.0, \"body_mass_g\": 3175.0, \"gender\": \"Female\"}, {\"species\": \"Adelie\", \"location\": \"Dream\", \"bill_length_mm\": 40.2, \"bill_depth_mm\": 20.1, \"flipper_length_mm\": 200.0, \"body_mass_g\": 3975.0, \"gender\": \"Male\"}, {\"species\": \"Adelie\", \"location\": \"Dream\", \"bill_length_mm\": 37.0, \"bill_depth_mm\": 16.5, \"flipper_length_mm\": 185.0, \"body_mass_g\": 3400.0, \"gender\": \"Female\"}, {\"species\": \"Adelie\", \"location\": \"Dream\", \"bill_length_mm\": 39.7, \"bill_depth_mm\": 17.9, \"flipper_length_mm\": 193.0, \"body_mass_g\": 4250.0, \"gender\": \"Male\"}, {\"species\": \"Adelie\", \"location\": \"Dream\", \"bill_length_mm\": 40.2, \"bill_depth_mm\": 17.1, \"flipper_length_mm\": 193.0, \"body_mass_g\": 3400.0, \"gender\": \"Female\"}, {\"species\": \"Adelie\", \"location\": \"Dream\", \"bill_length_mm\": 40.6, \"bill_depth_mm\": 17.2, \"flipper_length_mm\": 187.0, \"body_mass_g\": 3475.0, \"gender\": \"Male\"}, {\"species\": \"Adelie\", \"location\": \"Dream\", \"bill_length_mm\": 32.1, \"bill_depth_mm\": 15.5, \"flipper_length_mm\": 188.0, \"body_mass_g\": 3050.0, \"gender\": \"Female\"}, {\"species\": \"Adelie\", \"location\": \"Dream\", \"bill_length_mm\": 40.7, \"bill_depth_mm\": 17.0, \"flipper_length_mm\": 190.0, \"body_mass_g\": 3725.0, \"gender\": \"Male\"}, {\"species\": \"Adelie\", \"location\": \"Dream\", \"bill_length_mm\": 37.3, \"bill_depth_mm\": 16.8, \"flipper_length_mm\": 192.0, \"body_mass_g\": 3000.0, \"gender\": \"Female\"}, {\"species\": \"Adelie\", \"location\": \"Dream\", \"bill_length_mm\": 39.0, \"bill_depth_mm\": 18.7, \"flipper_length_mm\": 185.0, \"body_mass_g\": 3650.0, \"gender\": \"Male\"}, {\"species\": \"Adelie\", \"location\": \"Dream\", \"bill_length_mm\": 39.2, \"bill_depth_mm\": 18.6, \"flipper_length_mm\": 190.0, \"body_mass_g\": 4250.0, \"gender\": \"Male\"}, {\"species\": \"Adelie\", \"location\": \"Dream\", \"bill_length_mm\": 36.6, \"bill_depth_mm\": 18.4, \"flipper_length_mm\": 184.0, \"body_mass_g\": 3475.0, \"gender\": \"Female\"}, {\"species\": \"Adelie\", \"location\": \"Dream\", \"bill_length_mm\": 36.0, \"bill_depth_mm\": 17.8, \"flipper_length_mm\": 195.0, \"body_mass_g\": 3450.0, \"gender\": \"Female\"}, {\"species\": \"Adelie\", \"location\": \"Dream\", \"bill_length_mm\": 37.8, \"bill_depth_mm\": 18.1, \"flipper_length_mm\": 193.0, \"body_mass_g\": 3750.0, \"gender\": \"Male\"}, {\"species\": \"Adelie\", \"location\": \"Dream\", \"bill_length_mm\": 36.0, \"bill_depth_mm\": 17.1, \"flipper_length_mm\": 187.0, \"body_mass_g\": 3700.0, \"gender\": \"Female\"}, {\"species\": \"Adelie\", \"location\": \"Dream\", \"bill_length_mm\": 41.5, \"bill_depth_mm\": 18.5, \"flipper_length_mm\": 201.0, \"body_mass_g\": 4000.0, \"gender\": \"Male\"}, {\"species\": \"Chinstrap\", \"location\": \"Dream\", \"bill_length_mm\": 46.5, \"bill_depth_mm\": 17.9, \"flipper_length_mm\": 192.0, \"body_mass_g\": 3500.0, \"gender\": \"Female\"}, {\"species\": \"Chinstrap\", \"location\": \"Dream\", \"bill_length_mm\": 50.0, \"bill_depth_mm\": 19.5, \"flipper_length_mm\": 196.0, \"body_mass_g\": 3900.0, \"gender\": \"Male\"}, {\"species\": \"Chinstrap\", \"location\": \"Dream\", \"bill_length_mm\": 51.3, \"bill_depth_mm\": 19.2, \"flipper_length_mm\": 193.0, \"body_mass_g\": 3650.0, \"gender\": \"Male\"}, {\"species\": \"Chinstrap\", \"location\": \"Dream\", \"bill_length_mm\": 45.4, \"bill_depth_mm\": 18.7, \"flipper_length_mm\": 188.0, \"body_mass_g\": 3525.0, \"gender\": \"Female\"}, {\"species\": \"Chinstrap\", \"location\": \"Dream\", \"bill_length_mm\": 52.7, \"bill_depth_mm\": 19.8, \"flipper_length_mm\": 197.0, \"body_mass_g\": 3725.0, \"gender\": \"Male\"}, {\"species\": \"Chinstrap\", \"location\": \"Dream\", \"bill_length_mm\": 45.2, \"bill_depth_mm\": 17.8, \"flipper_length_mm\": 198.0, \"body_mass_g\": 3950.0, \"gender\": \"Female\"}, {\"species\": \"Chinstrap\", \"location\": \"Dream\", \"bill_length_mm\": 46.1, \"bill_depth_mm\": 18.2, \"flipper_length_mm\": 178.0, \"body_mass_g\": 3250.0, \"gender\": \"Female\"}, {\"species\": \"Chinstrap\", \"location\": \"Dream\", \"bill_length_mm\": 51.3, \"bill_depth_mm\": 18.2, \"flipper_length_mm\": 197.0, \"body_mass_g\": 3750.0, \"gender\": \"Male\"}, {\"species\": \"Chinstrap\", \"location\": \"Dream\", \"bill_length_mm\": 46.0, \"bill_depth_mm\": 18.9, \"flipper_length_mm\": 195.0, \"body_mass_g\": 4150.0, \"gender\": \"Female\"}, {\"species\": \"Chinstrap\", \"location\": \"Dream\", \"bill_length_mm\": 51.3, \"bill_depth_mm\": 19.9, \"flipper_length_mm\": 198.0, \"body_mass_g\": 3700.0, \"gender\": \"Male\"}, {\"species\": \"Chinstrap\", \"location\": \"Dream\", \"bill_length_mm\": 46.6, \"bill_depth_mm\": 17.8, \"flipper_length_mm\": 193.0, \"body_mass_g\": 3800.0, \"gender\": \"Female\"}, {\"species\": \"Chinstrap\", \"location\": \"Dream\", \"bill_length_mm\": 51.7, \"bill_depth_mm\": 20.3, \"flipper_length_mm\": 194.0, \"body_mass_g\": 3775.0, \"gender\": \"Male\"}, {\"species\": \"Chinstrap\", \"location\": \"Dream\", \"bill_length_mm\": 47.0, \"bill_depth_mm\": 17.3, \"flipper_length_mm\": 185.0, \"body_mass_g\": 3700.0, \"gender\": \"Female\"}, {\"species\": \"Chinstrap\", \"location\": \"Dream\", \"bill_length_mm\": 52.0, \"bill_depth_mm\": 18.1, \"flipper_length_mm\": 201.0, \"body_mass_g\": 4050.0, \"gender\": \"Male\"}, {\"species\": \"Chinstrap\", \"location\": \"Dream\", \"bill_length_mm\": 45.9, \"bill_depth_mm\": 17.1, \"flipper_length_mm\": 190.0, \"body_mass_g\": 3575.0, \"gender\": \"Female\"}, {\"species\": \"Chinstrap\", \"location\": \"Dream\", \"bill_length_mm\": 50.5, \"bill_depth_mm\": 19.6, \"flipper_length_mm\": 201.0, \"body_mass_g\": 4050.0, \"gender\": \"Male\"}, {\"species\": \"Chinstrap\", \"location\": \"Dream\", \"bill_length_mm\": 50.3, \"bill_depth_mm\": 20.0, \"flipper_length_mm\": 197.0, \"body_mass_g\": 3300.0, \"gender\": \"Male\"}, {\"species\": \"Chinstrap\", \"location\": \"Dream\", \"bill_length_mm\": 58.0, \"bill_depth_mm\": 17.8, \"flipper_length_mm\": 181.0, \"body_mass_g\": 3700.0, \"gender\": \"Female\"}, {\"species\": \"Chinstrap\", \"location\": \"Dream\", \"bill_length_mm\": 46.4, \"bill_depth_mm\": 18.6, \"flipper_length_mm\": 190.0, \"body_mass_g\": 3450.0, \"gender\": \"Female\"}, {\"species\": \"Chinstrap\", \"location\": \"Dream\", \"bill_length_mm\": 49.2, \"bill_depth_mm\": 18.2, \"flipper_length_mm\": 195.0, \"body_mass_g\": 4400.0, \"gender\": \"Male\"}, {\"species\": \"Chinstrap\", \"location\": \"Dream\", \"bill_length_mm\": 42.4, \"bill_depth_mm\": 17.3, \"flipper_length_mm\": 181.0, \"body_mass_g\": 3600.0, \"gender\": \"Female\"}, {\"species\": \"Chinstrap\", \"location\": \"Dream\", \"bill_length_mm\": 48.5, \"bill_depth_mm\": 17.5, \"flipper_length_mm\": 191.0, \"body_mass_g\": 3400.0, \"gender\": \"Male\"}, {\"species\": \"Chinstrap\", \"location\": \"Dream\", \"bill_length_mm\": 43.2, \"bill_depth_mm\": 16.6, \"flipper_length_mm\": 187.0, \"body_mass_g\": 2900.0, \"gender\": \"Female\"}, {\"species\": \"Chinstrap\", \"location\": \"Dream\", \"bill_length_mm\": 50.6, \"bill_depth_mm\": 19.4, \"flipper_length_mm\": 193.0, \"body_mass_g\": 3800.0, \"gender\": \"Male\"}, {\"species\": \"Chinstrap\", \"location\": \"Dream\", \"bill_length_mm\": 46.7, \"bill_depth_mm\": 17.9, \"flipper_length_mm\": 195.0, \"body_mass_g\": 3300.0, \"gender\": \"Female\"}, {\"species\": \"Chinstrap\", \"location\": \"Dream\", \"bill_length_mm\": 52.0, \"bill_depth_mm\": 19.0, \"flipper_length_mm\": 197.0, \"body_mass_g\": 4150.0, \"gender\": \"Male\"}, {\"species\": \"Chinstrap\", \"location\": \"Dream\", \"bill_length_mm\": 50.5, \"bill_depth_mm\": 18.4, \"flipper_length_mm\": 200.0, \"body_mass_g\": 3400.0, \"gender\": \"Female\"}, {\"species\": \"Chinstrap\", \"location\": \"Dream\", \"bill_length_mm\": 49.5, \"bill_depth_mm\": 19.0, \"flipper_length_mm\": 200.0, \"body_mass_g\": 3800.0, \"gender\": \"Male\"}, {\"species\": \"Chinstrap\", \"location\": \"Dream\", \"bill_length_mm\": 46.4, \"bill_depth_mm\": 17.8, \"flipper_length_mm\": 191.0, \"body_mass_g\": 3700.0, \"gender\": \"Female\"}, {\"species\": \"Chinstrap\", \"location\": \"Dream\", \"bill_length_mm\": 52.8, \"bill_depth_mm\": 20.0, \"flipper_length_mm\": 205.0, \"body_mass_g\": 4550.0, \"gender\": \"Male\"}, {\"species\": \"Chinstrap\", \"location\": \"Dream\", \"bill_length_mm\": 40.9, \"bill_depth_mm\": 16.6, \"flipper_length_mm\": 187.0, \"body_mass_g\": 3200.0, \"gender\": \"Female\"}, {\"species\": \"Chinstrap\", \"location\": \"Dream\", \"bill_length_mm\": 54.2, \"bill_depth_mm\": 20.8, \"flipper_length_mm\": 201.0, \"body_mass_g\": 4300.0, \"gender\": \"Male\"}, {\"species\": \"Chinstrap\", \"location\": \"Dream\", \"bill_length_mm\": 42.5, \"bill_depth_mm\": 16.7, \"flipper_length_mm\": 187.0, \"body_mass_g\": 3350.0, \"gender\": \"Female\"}, {\"species\": \"Chinstrap\", \"location\": \"Dream\", \"bill_length_mm\": 51.0, \"bill_depth_mm\": 18.8, \"flipper_length_mm\": 203.0, \"body_mass_g\": 4100.0, \"gender\": \"Male\"}, {\"species\": \"Chinstrap\", \"location\": \"Dream\", \"bill_length_mm\": 49.7, \"bill_depth_mm\": 18.6, \"flipper_length_mm\": 195.0, \"body_mass_g\": 3600.0, \"gender\": \"Male\"}, {\"species\": \"Chinstrap\", \"location\": \"Dream\", \"bill_length_mm\": 47.5, \"bill_depth_mm\": 16.8, \"flipper_length_mm\": 199.0, \"body_mass_g\": 3900.0, \"gender\": \"Female\"}, {\"species\": \"Chinstrap\", \"location\": \"Dream\", \"bill_length_mm\": 47.6, \"bill_depth_mm\": 18.3, \"flipper_length_mm\": 195.0, \"body_mass_g\": 3850.0, \"gender\": \"Female\"}, {\"species\": \"Chinstrap\", \"location\": \"Dream\", \"bill_length_mm\": 52.0, \"bill_depth_mm\": 20.7, \"flipper_length_mm\": 210.0, \"body_mass_g\": 4800.0, \"gender\": \"Male\"}, {\"species\": \"Chinstrap\", \"location\": \"Dream\", \"bill_length_mm\": 46.9, \"bill_depth_mm\": 16.6, \"flipper_length_mm\": 192.0, \"body_mass_g\": 2700.0, \"gender\": \"Female\"}, {\"species\": \"Chinstrap\", \"location\": \"Dream\", \"bill_length_mm\": 53.5, \"bill_depth_mm\": 19.9, \"flipper_length_mm\": 205.0, \"body_mass_g\": 4500.0, \"gender\": \"Male\"}, {\"species\": \"Chinstrap\", \"location\": \"Dream\", \"bill_length_mm\": 49.0, \"bill_depth_mm\": 19.5, \"flipper_length_mm\": 210.0, \"body_mass_g\": 3950.0, \"gender\": \"Male\"}, {\"species\": \"Chinstrap\", \"location\": \"Dream\", \"bill_length_mm\": 46.2, \"bill_depth_mm\": 17.5, \"flipper_length_mm\": 187.0, \"body_mass_g\": 3650.0, \"gender\": \"Female\"}, {\"species\": \"Chinstrap\", \"location\": \"Dream\", \"bill_length_mm\": 50.9, \"bill_depth_mm\": 19.1, \"flipper_length_mm\": 196.0, \"body_mass_g\": 3550.0, \"gender\": \"Male\"}, {\"species\": \"Chinstrap\", \"location\": \"Dream\", \"bill_length_mm\": 45.5, \"bill_depth_mm\": 17.0, \"flipper_length_mm\": 196.0, \"body_mass_g\": 3500.0, \"gender\": \"Female\"}, {\"species\": \"Chinstrap\", \"location\": \"Dream\", \"bill_length_mm\": 50.9, \"bill_depth_mm\": 17.9, \"flipper_length_mm\": 196.0, \"body_mass_g\": 3675.0, \"gender\": \"Female\"}, {\"species\": \"Chinstrap\", \"location\": \"Dream\", \"bill_length_mm\": 50.8, \"bill_depth_mm\": 18.5, \"flipper_length_mm\": 201.0, \"body_mass_g\": 4450.0, \"gender\": \"Male\"}, {\"species\": \"Chinstrap\", \"location\": \"Dream\", \"bill_length_mm\": 50.1, \"bill_depth_mm\": 17.9, \"flipper_length_mm\": 190.0, \"body_mass_g\": 3400.0, \"gender\": \"Female\"}, {\"species\": \"Chinstrap\", \"location\": \"Dream\", \"bill_length_mm\": 49.0, \"bill_depth_mm\": 19.6, \"flipper_length_mm\": 212.0, \"body_mass_g\": 4300.0, \"gender\": \"Male\"}, {\"species\": \"Chinstrap\", \"location\": \"Dream\", \"bill_length_mm\": 51.5, \"bill_depth_mm\": 18.7, \"flipper_length_mm\": 187.0, \"body_mass_g\": 3250.0, \"gender\": \"Male\"}, {\"species\": \"Chinstrap\", \"location\": \"Dream\", \"bill_length_mm\": 49.8, \"bill_depth_mm\": 17.3, \"flipper_length_mm\": 198.0, \"body_mass_g\": 3675.0, \"gender\": \"Female\"}, {\"species\": \"Chinstrap\", \"location\": \"Dream\", \"bill_length_mm\": 48.1, \"bill_depth_mm\": 16.4, \"flipper_length_mm\": 199.0, \"body_mass_g\": 3325.0, \"gender\": \"Female\"}, {\"species\": \"Chinstrap\", \"location\": \"Dream\", \"bill_length_mm\": 51.4, \"bill_depth_mm\": 19.0, \"flipper_length_mm\": 201.0, \"body_mass_g\": 3950.0, \"gender\": \"Male\"}, {\"species\": \"Chinstrap\", \"location\": \"Dream\", \"bill_length_mm\": 45.7, \"bill_depth_mm\": 17.3, \"flipper_length_mm\": 193.0, \"body_mass_g\": 3600.0, \"gender\": \"Female\"}, {\"species\": \"Chinstrap\", \"location\": \"Dream\", \"bill_length_mm\": 50.7, \"bill_depth_mm\": 19.7, \"flipper_length_mm\": 203.0, \"body_mass_g\": 4050.0, \"gender\": \"Male\"}, {\"species\": \"Chinstrap\", \"location\": \"Dream\", \"bill_length_mm\": 42.5, \"bill_depth_mm\": 17.3, \"flipper_length_mm\": 187.0, \"body_mass_g\": 3350.0, \"gender\": \"Female\"}, {\"species\": \"Chinstrap\", \"location\": \"Dream\", \"bill_length_mm\": 52.2, \"bill_depth_mm\": 18.8, \"flipper_length_mm\": 197.0, \"body_mass_g\": 3450.0, \"gender\": \"Male\"}, {\"species\": \"Chinstrap\", \"location\": \"Dream\", \"bill_length_mm\": 45.2, \"bill_depth_mm\": 16.6, \"flipper_length_mm\": 191.0, \"body_mass_g\": 3250.0, \"gender\": \"Female\"}, {\"species\": \"Chinstrap\", \"location\": \"Dream\", \"bill_length_mm\": 49.3, \"bill_depth_mm\": 19.9, \"flipper_length_mm\": 203.0, \"body_mass_g\": 4050.0, \"gender\": \"Male\"}, {\"species\": \"Chinstrap\", \"location\": \"Dream\", \"bill_length_mm\": 50.2, \"bill_depth_mm\": 18.8, \"flipper_length_mm\": 202.0, \"body_mass_g\": 3800.0, \"gender\": \"Male\"}, {\"species\": \"Chinstrap\", \"location\": \"Dream\", \"bill_length_mm\": 45.6, \"bill_depth_mm\": 19.4, \"flipper_length_mm\": 194.0, \"body_mass_g\": 3525.0, \"gender\": \"Female\"}, {\"species\": \"Chinstrap\", \"location\": \"Dream\", \"bill_length_mm\": 51.9, \"bill_depth_mm\": 19.5, \"flipper_length_mm\": 206.0, \"body_mass_g\": 3950.0, \"gender\": \"Male\"}, {\"species\": \"Chinstrap\", \"location\": \"Dream\", \"bill_length_mm\": 46.8, \"bill_depth_mm\": 16.5, \"flipper_length_mm\": 189.0, \"body_mass_g\": 3650.0, \"gender\": \"Female\"}, {\"species\": \"Chinstrap\", \"location\": \"Dream\", \"bill_length_mm\": 45.7, \"bill_depth_mm\": 17.0, \"flipper_length_mm\": 195.0, \"body_mass_g\": 3650.0, \"gender\": \"Female\"}, {\"species\": \"Chinstrap\", \"location\": \"Dream\", \"bill_length_mm\": 55.8, \"bill_depth_mm\": 19.8, \"flipper_length_mm\": 207.0, \"body_mass_g\": 4000.0, \"gender\": \"Male\"}, {\"species\": \"Chinstrap\", \"location\": \"Dream\", \"bill_length_mm\": 43.5, \"bill_depth_mm\": 18.1, \"flipper_length_mm\": 202.0, \"body_mass_g\": 3400.0, \"gender\": \"Female\"}, {\"species\": \"Chinstrap\", \"location\": \"Dream\", \"bill_length_mm\": 49.6, \"bill_depth_mm\": 18.2, \"flipper_length_mm\": 193.0, \"body_mass_g\": 3775.0, \"gender\": \"Male\"}, {\"species\": \"Chinstrap\", \"location\": \"Dream\", \"bill_length_mm\": 50.8, \"bill_depth_mm\": 19.0, \"flipper_length_mm\": 210.0, \"body_mass_g\": 4100.0, \"gender\": \"Male\"}, {\"species\": \"Chinstrap\", \"location\": \"Dream\", \"bill_length_mm\": 50.2, \"bill_depth_mm\": 18.7, \"flipper_length_mm\": 198.0, \"body_mass_g\": 3775.0, \"gender\": \"Female\"}, {\"species\": \"Gentoo\", \"location\": \"Biscoe\", \"bill_length_mm\": 46.1, \"bill_depth_mm\": 13.2, \"flipper_length_mm\": 211.0, \"body_mass_g\": 4500.0, \"gender\": \"Female\"}, {\"species\": \"Gentoo\", \"location\": \"Biscoe\", \"bill_length_mm\": 50.0, \"bill_depth_mm\": 16.3, \"flipper_length_mm\": 230.0, \"body_mass_g\": 5700.0, \"gender\": \"Male\"}, {\"species\": \"Gentoo\", \"location\": \"Biscoe\", \"bill_length_mm\": 48.7, \"bill_depth_mm\": 14.1, \"flipper_length_mm\": 210.0, \"body_mass_g\": 4450.0, \"gender\": \"Female\"}, {\"species\": \"Gentoo\", \"location\": \"Biscoe\", \"bill_length_mm\": 50.0, \"bill_depth_mm\": 15.2, \"flipper_length_mm\": 218.0, \"body_mass_g\": 5700.0, \"gender\": \"Male\"}, {\"species\": \"Gentoo\", \"location\": \"Biscoe\", \"bill_length_mm\": 47.6, \"bill_depth_mm\": 14.5, \"flipper_length_mm\": 215.0, \"body_mass_g\": 5400.0, \"gender\": \"Male\"}, {\"species\": \"Gentoo\", \"location\": \"Biscoe\", \"bill_length_mm\": 46.5, \"bill_depth_mm\": 13.5, \"flipper_length_mm\": 210.0, \"body_mass_g\": 4550.0, \"gender\": \"Female\"}, {\"species\": \"Gentoo\", \"location\": \"Biscoe\", \"bill_length_mm\": 45.4, \"bill_depth_mm\": 14.6, \"flipper_length_mm\": 211.0, \"body_mass_g\": 4800.0, \"gender\": \"Female\"}, {\"species\": \"Gentoo\", \"location\": \"Biscoe\", \"bill_length_mm\": 46.7, \"bill_depth_mm\": 15.3, \"flipper_length_mm\": 219.0, \"body_mass_g\": 5200.0, \"gender\": \"Male\"}, {\"species\": \"Gentoo\", \"location\": \"Biscoe\", \"bill_length_mm\": 43.3, \"bill_depth_mm\": 13.4, \"flipper_length_mm\": 209.0, \"body_mass_g\": 4400.0, \"gender\": \"Female\"}, {\"species\": \"Gentoo\", \"location\": \"Biscoe\", \"bill_length_mm\": 46.8, \"bill_depth_mm\": 15.4, \"flipper_length_mm\": 215.0, \"body_mass_g\": 5150.0, \"gender\": \"Male\"}, {\"species\": \"Gentoo\", \"location\": \"Biscoe\", \"bill_length_mm\": 40.9, \"bill_depth_mm\": 13.7, \"flipper_length_mm\": 214.0, \"body_mass_g\": 4650.0, \"gender\": \"Female\"}, {\"species\": \"Gentoo\", \"location\": \"Biscoe\", \"bill_length_mm\": 49.0, \"bill_depth_mm\": 16.1, \"flipper_length_mm\": 216.0, \"body_mass_g\": 5550.0, \"gender\": \"Male\"}, {\"species\": \"Gentoo\", \"location\": \"Biscoe\", \"bill_length_mm\": 45.5, \"bill_depth_mm\": 13.7, \"flipper_length_mm\": 214.0, \"body_mass_g\": 4650.0, \"gender\": \"Female\"}, {\"species\": \"Gentoo\", \"location\": \"Biscoe\", \"bill_length_mm\": 48.4, \"bill_depth_mm\": 14.6, \"flipper_length_mm\": 213.0, \"body_mass_g\": 5850.0, \"gender\": \"Male\"}, {\"species\": \"Gentoo\", \"location\": \"Biscoe\", \"bill_length_mm\": 45.8, \"bill_depth_mm\": 14.6, \"flipper_length_mm\": 210.0, \"body_mass_g\": 4200.0, \"gender\": \"Female\"}, {\"species\": \"Gentoo\", \"location\": \"Biscoe\", \"bill_length_mm\": 49.3, \"bill_depth_mm\": 15.7, \"flipper_length_mm\": 217.0, \"body_mass_g\": 5850.0, \"gender\": \"Male\"}, {\"species\": \"Gentoo\", \"location\": \"Biscoe\", \"bill_length_mm\": 42.0, \"bill_depth_mm\": 13.5, \"flipper_length_mm\": 210.0, \"body_mass_g\": 4150.0, \"gender\": \"Female\"}, {\"species\": \"Gentoo\", \"location\": \"Biscoe\", \"bill_length_mm\": 49.2, \"bill_depth_mm\": 15.2, \"flipper_length_mm\": 221.0, \"body_mass_g\": 6300.0, \"gender\": \"Male\"}, {\"species\": \"Gentoo\", \"location\": \"Biscoe\", \"bill_length_mm\": 46.2, \"bill_depth_mm\": 14.5, \"flipper_length_mm\": 209.0, \"body_mass_g\": 4800.0, \"gender\": \"Female\"}, {\"species\": \"Gentoo\", \"location\": \"Biscoe\", \"bill_length_mm\": 48.7, \"bill_depth_mm\": 15.1, \"flipper_length_mm\": 222.0, \"body_mass_g\": 5350.0, \"gender\": \"Male\"}, {\"species\": \"Gentoo\", \"location\": \"Biscoe\", \"bill_length_mm\": 50.2, \"bill_depth_mm\": 14.3, \"flipper_length_mm\": 218.0, \"body_mass_g\": 5700.0, \"gender\": \"Male\"}, {\"species\": \"Gentoo\", \"location\": \"Biscoe\", \"bill_length_mm\": 45.1, \"bill_depth_mm\": 14.5, \"flipper_length_mm\": 215.0, \"body_mass_g\": 5000.0, \"gender\": \"Female\"}, {\"species\": \"Gentoo\", \"location\": \"Biscoe\", \"bill_length_mm\": 46.5, \"bill_depth_mm\": 14.5, \"flipper_length_mm\": 213.0, \"body_mass_g\": 4400.0, \"gender\": \"Female\"}, {\"species\": \"Gentoo\", \"location\": \"Biscoe\", \"bill_length_mm\": 46.3, \"bill_depth_mm\": 15.8, \"flipper_length_mm\": 215.0, \"body_mass_g\": 5050.0, \"gender\": \"Male\"}, {\"species\": \"Gentoo\", \"location\": \"Biscoe\", \"bill_length_mm\": 42.9, \"bill_depth_mm\": 13.1, \"flipper_length_mm\": 215.0, \"body_mass_g\": 5000.0, \"gender\": \"Female\"}, {\"species\": \"Gentoo\", \"location\": \"Biscoe\", \"bill_length_mm\": 46.1, \"bill_depth_mm\": 15.1, \"flipper_length_mm\": 215.0, \"body_mass_g\": 5100.0, \"gender\": \"Male\"}, {\"species\": \"Gentoo\", \"location\": \"Biscoe\", \"bill_length_mm\": 47.8, \"bill_depth_mm\": 15.0, \"flipper_length_mm\": 215.0, \"body_mass_g\": 5650.0, \"gender\": \"Male\"}, {\"species\": \"Gentoo\", \"location\": \"Biscoe\", \"bill_length_mm\": 48.2, \"bill_depth_mm\": 14.3, \"flipper_length_mm\": 210.0, \"body_mass_g\": 4600.0, \"gender\": \"Female\"}, {\"species\": \"Gentoo\", \"location\": \"Biscoe\", \"bill_length_mm\": 50.0, \"bill_depth_mm\": 15.3, \"flipper_length_mm\": 220.0, \"body_mass_g\": 5550.0, \"gender\": \"Male\"}, {\"species\": \"Gentoo\", \"location\": \"Biscoe\", \"bill_length_mm\": 47.3, \"bill_depth_mm\": 15.3, \"flipper_length_mm\": 222.0, \"body_mass_g\": 5250.0, \"gender\": \"Male\"}, {\"species\": \"Gentoo\", \"location\": \"Biscoe\", \"bill_length_mm\": 42.8, \"bill_depth_mm\": 14.2, \"flipper_length_mm\": 209.0, \"body_mass_g\": 4700.0, \"gender\": \"Female\"}, {\"species\": \"Gentoo\", \"location\": \"Biscoe\", \"bill_length_mm\": 45.1, \"bill_depth_mm\": 14.5, \"flipper_length_mm\": 207.0, \"body_mass_g\": 5050.0, \"gender\": \"Female\"}, {\"species\": \"Gentoo\", \"location\": \"Biscoe\", \"bill_length_mm\": 59.6, \"bill_depth_mm\": 17.0, \"flipper_length_mm\": 230.0, \"body_mass_g\": 6050.0, \"gender\": \"Male\"}, {\"species\": \"Gentoo\", \"location\": \"Biscoe\", \"bill_length_mm\": 49.1, \"bill_depth_mm\": 14.8, \"flipper_length_mm\": 220.0, \"body_mass_g\": 5150.0, \"gender\": \"Female\"}, {\"species\": \"Gentoo\", \"location\": \"Biscoe\", \"bill_length_mm\": 48.4, \"bill_depth_mm\": 16.3, \"flipper_length_mm\": 220.0, \"body_mass_g\": 5400.0, \"gender\": \"Male\"}, {\"species\": \"Gentoo\", \"location\": \"Biscoe\", \"bill_length_mm\": 42.6, \"bill_depth_mm\": 13.7, \"flipper_length_mm\": 213.0, \"body_mass_g\": 4950.0, \"gender\": \"Female\"}, {\"species\": \"Gentoo\", \"location\": \"Biscoe\", \"bill_length_mm\": 44.4, \"bill_depth_mm\": 17.3, \"flipper_length_mm\": 219.0, \"body_mass_g\": 5250.0, \"gender\": \"Male\"}, {\"species\": \"Gentoo\", \"location\": \"Biscoe\", \"bill_length_mm\": 44.0, \"bill_depth_mm\": 13.6, \"flipper_length_mm\": 208.0, \"body_mass_g\": 4350.0, \"gender\": \"Female\"}, {\"species\": \"Gentoo\", \"location\": \"Biscoe\", \"bill_length_mm\": 48.7, \"bill_depth_mm\": 15.7, \"flipper_length_mm\": 208.0, \"body_mass_g\": 5350.0, \"gender\": \"Male\"}, {\"species\": \"Gentoo\", \"location\": \"Biscoe\", \"bill_length_mm\": 42.7, \"bill_depth_mm\": 13.7, \"flipper_length_mm\": 208.0, \"body_mass_g\": 3950.0, \"gender\": \"Female\"}, {\"species\": \"Gentoo\", \"location\": \"Biscoe\", \"bill_length_mm\": 49.6, \"bill_depth_mm\": 16.0, \"flipper_length_mm\": 225.0, \"body_mass_g\": 5700.0, \"gender\": \"Male\"}, {\"species\": \"Gentoo\", \"location\": \"Biscoe\", \"bill_length_mm\": 45.3, \"bill_depth_mm\": 13.7, \"flipper_length_mm\": 210.0, \"body_mass_g\": 4300.0, \"gender\": \"Female\"}, {\"species\": \"Gentoo\", \"location\": \"Biscoe\", \"bill_length_mm\": 49.6, \"bill_depth_mm\": 15.0, \"flipper_length_mm\": 216.0, \"body_mass_g\": 4750.0, \"gender\": \"Male\"}, {\"species\": \"Gentoo\", \"location\": \"Biscoe\", \"bill_length_mm\": 50.5, \"bill_depth_mm\": 15.9, \"flipper_length_mm\": 222.0, \"body_mass_g\": 5550.0, \"gender\": \"Male\"}, {\"species\": \"Gentoo\", \"location\": \"Biscoe\", \"bill_length_mm\": 43.6, \"bill_depth_mm\": 13.9, \"flipper_length_mm\": 217.0, \"body_mass_g\": 4900.0, \"gender\": \"Female\"}, {\"species\": \"Gentoo\", \"location\": \"Biscoe\", \"bill_length_mm\": 45.5, \"bill_depth_mm\": 13.9, \"flipper_length_mm\": 210.0, \"body_mass_g\": 4200.0, \"gender\": \"Female\"}, {\"species\": \"Gentoo\", \"location\": \"Biscoe\", \"bill_length_mm\": 50.5, \"bill_depth_mm\": 15.9, \"flipper_length_mm\": 225.0, \"body_mass_g\": 5400.0, \"gender\": \"Male\"}, {\"species\": \"Gentoo\", \"location\": \"Biscoe\", \"bill_length_mm\": 44.9, \"bill_depth_mm\": 13.3, \"flipper_length_mm\": 213.0, \"body_mass_g\": 5100.0, \"gender\": \"Female\"}, {\"species\": \"Gentoo\", \"location\": \"Biscoe\", \"bill_length_mm\": 45.2, \"bill_depth_mm\": 15.8, \"flipper_length_mm\": 215.0, \"body_mass_g\": 5300.0, \"gender\": \"Male\"}, {\"species\": \"Gentoo\", \"location\": \"Biscoe\", \"bill_length_mm\": 46.6, \"bill_depth_mm\": 14.2, \"flipper_length_mm\": 210.0, \"body_mass_g\": 4850.0, \"gender\": \"Female\"}, {\"species\": \"Gentoo\", \"location\": \"Biscoe\", \"bill_length_mm\": 48.5, \"bill_depth_mm\": 14.1, \"flipper_length_mm\": 220.0, \"body_mass_g\": 5300.0, \"gender\": \"Male\"}, {\"species\": \"Gentoo\", \"location\": \"Biscoe\", \"bill_length_mm\": 45.1, \"bill_depth_mm\": 14.4, \"flipper_length_mm\": 210.0, \"body_mass_g\": 4400.0, \"gender\": \"Female\"}, {\"species\": \"Gentoo\", \"location\": \"Biscoe\", \"bill_length_mm\": 50.1, \"bill_depth_mm\": 15.0, \"flipper_length_mm\": 225.0, \"body_mass_g\": 5000.0, \"gender\": \"Male\"}, {\"species\": \"Gentoo\", \"location\": \"Biscoe\", \"bill_length_mm\": 46.5, \"bill_depth_mm\": 14.4, \"flipper_length_mm\": 217.0, \"body_mass_g\": 4900.0, \"gender\": \"Female\"}, {\"species\": \"Gentoo\", \"location\": \"Biscoe\", \"bill_length_mm\": 45.0, \"bill_depth_mm\": 15.4, \"flipper_length_mm\": 220.0, \"body_mass_g\": 5050.0, \"gender\": \"Male\"}, {\"species\": \"Gentoo\", \"location\": \"Biscoe\", \"bill_length_mm\": 43.8, \"bill_depth_mm\": 13.9, \"flipper_length_mm\": 208.0, \"body_mass_g\": 4300.0, \"gender\": \"Female\"}, {\"species\": \"Gentoo\", \"location\": \"Biscoe\", \"bill_length_mm\": 45.5, \"bill_depth_mm\": 15.0, \"flipper_length_mm\": 220.0, \"body_mass_g\": 5000.0, \"gender\": \"Male\"}, {\"species\": \"Gentoo\", \"location\": \"Biscoe\", \"bill_length_mm\": 43.2, \"bill_depth_mm\": 14.5, \"flipper_length_mm\": 208.0, \"body_mass_g\": 4450.0, \"gender\": \"Female\"}, {\"species\": \"Gentoo\", \"location\": \"Biscoe\", \"bill_length_mm\": 50.4, \"bill_depth_mm\": 15.3, \"flipper_length_mm\": 224.0, \"body_mass_g\": 5550.0, \"gender\": \"Male\"}, {\"species\": \"Gentoo\", \"location\": \"Biscoe\", \"bill_length_mm\": 45.3, \"bill_depth_mm\": 13.8, \"flipper_length_mm\": 208.0, \"body_mass_g\": 4200.0, \"gender\": \"Female\"}, {\"species\": \"Gentoo\", \"location\": \"Biscoe\", \"bill_length_mm\": 46.2, \"bill_depth_mm\": 14.9, \"flipper_length_mm\": 221.0, \"body_mass_g\": 5300.0, \"gender\": \"Male\"}, {\"species\": \"Gentoo\", \"location\": \"Biscoe\", \"bill_length_mm\": 45.7, \"bill_depth_mm\": 13.9, \"flipper_length_mm\": 214.0, \"body_mass_g\": 4400.0, \"gender\": \"Female\"}, {\"species\": \"Gentoo\", \"location\": \"Biscoe\", \"bill_length_mm\": 54.3, \"bill_depth_mm\": 15.7, \"flipper_length_mm\": 231.0, \"body_mass_g\": 5650.0, \"gender\": \"Male\"}, {\"species\": \"Gentoo\", \"location\": \"Biscoe\", \"bill_length_mm\": 45.8, \"bill_depth_mm\": 14.2, \"flipper_length_mm\": 219.0, \"body_mass_g\": 4700.0, \"gender\": \"Female\"}, {\"species\": \"Gentoo\", \"location\": \"Biscoe\", \"bill_length_mm\": 49.8, \"bill_depth_mm\": 16.8, \"flipper_length_mm\": 230.0, \"body_mass_g\": 5700.0, \"gender\": \"Male\"}, {\"species\": \"Gentoo\", \"location\": \"Biscoe\", \"bill_length_mm\": 49.5, \"bill_depth_mm\": 16.2, \"flipper_length_mm\": 229.0, \"body_mass_g\": 5800.0, \"gender\": \"Male\"}, {\"species\": \"Gentoo\", \"location\": \"Biscoe\", \"bill_length_mm\": 43.5, \"bill_depth_mm\": 14.2, \"flipper_length_mm\": 220.0, \"body_mass_g\": 4700.0, \"gender\": \"Female\"}, {\"species\": \"Gentoo\", \"location\": \"Biscoe\", \"bill_length_mm\": 50.7, \"bill_depth_mm\": 15.0, \"flipper_length_mm\": 223.0, \"body_mass_g\": 5550.0, \"gender\": \"Male\"}, {\"species\": \"Gentoo\", \"location\": \"Biscoe\", \"bill_length_mm\": 47.7, \"bill_depth_mm\": 15.0, \"flipper_length_mm\": 216.0, \"body_mass_g\": 4750.0, \"gender\": \"Female\"}, {\"species\": \"Gentoo\", \"location\": \"Biscoe\", \"bill_length_mm\": 46.4, \"bill_depth_mm\": 15.6, \"flipper_length_mm\": 221.0, \"body_mass_g\": 5000.0, \"gender\": \"Male\"}, {\"species\": \"Gentoo\", \"location\": \"Biscoe\", \"bill_length_mm\": 48.2, \"bill_depth_mm\": 15.6, \"flipper_length_mm\": 221.0, \"body_mass_g\": 5100.0, \"gender\": \"Male\"}, {\"species\": \"Gentoo\", \"location\": \"Biscoe\", \"bill_length_mm\": 46.5, \"bill_depth_mm\": 14.8, \"flipper_length_mm\": 217.0, \"body_mass_g\": 5200.0, \"gender\": \"Female\"}, {\"species\": \"Gentoo\", \"location\": \"Biscoe\", \"bill_length_mm\": 46.4, \"bill_depth_mm\": 15.0, \"flipper_length_mm\": 216.0, \"body_mass_g\": 4700.0, \"gender\": \"Female\"}, {\"species\": \"Gentoo\", \"location\": \"Biscoe\", \"bill_length_mm\": 48.6, \"bill_depth_mm\": 16.0, \"flipper_length_mm\": 230.0, \"body_mass_g\": 5800.0, \"gender\": \"Male\"}, {\"species\": \"Gentoo\", \"location\": \"Biscoe\", \"bill_length_mm\": 47.5, \"bill_depth_mm\": 14.2, \"flipper_length_mm\": 209.0, \"body_mass_g\": 4600.0, \"gender\": \"Female\"}, {\"species\": \"Gentoo\", \"location\": \"Biscoe\", \"bill_length_mm\": 51.1, \"bill_depth_mm\": 16.3, \"flipper_length_mm\": 220.0, \"body_mass_g\": 6000.0, \"gender\": \"Male\"}, {\"species\": \"Gentoo\", \"location\": \"Biscoe\", \"bill_length_mm\": 45.2, \"bill_depth_mm\": 13.8, \"flipper_length_mm\": 215.0, \"body_mass_g\": 4750.0, \"gender\": \"Female\"}, {\"species\": \"Gentoo\", \"location\": \"Biscoe\", \"bill_length_mm\": 45.2, \"bill_depth_mm\": 16.4, \"flipper_length_mm\": 223.0, \"body_mass_g\": 5950.0, \"gender\": \"Male\"}, {\"species\": \"Gentoo\", \"location\": \"Biscoe\", \"bill_length_mm\": 49.1, \"bill_depth_mm\": 14.5, \"flipper_length_mm\": 212.0, \"body_mass_g\": 4625.0, \"gender\": \"Female\"}, {\"species\": \"Gentoo\", \"location\": \"Biscoe\", \"bill_length_mm\": 52.5, \"bill_depth_mm\": 15.6, \"flipper_length_mm\": 221.0, \"body_mass_g\": 5450.0, \"gender\": \"Male\"}, {\"species\": \"Gentoo\", \"location\": \"Biscoe\", \"bill_length_mm\": 47.4, \"bill_depth_mm\": 14.6, \"flipper_length_mm\": 212.0, \"body_mass_g\": 4725.0, \"gender\": \"Female\"}, {\"species\": \"Gentoo\", \"location\": \"Biscoe\", \"bill_length_mm\": 50.0, \"bill_depth_mm\": 15.9, \"flipper_length_mm\": 224.0, \"body_mass_g\": 5350.0, \"gender\": \"Male\"}, {\"species\": \"Gentoo\", \"location\": \"Biscoe\", \"bill_length_mm\": 44.9, \"bill_depth_mm\": 13.8, \"flipper_length_mm\": 212.0, \"body_mass_g\": 4750.0, \"gender\": \"Female\"}, {\"species\": \"Gentoo\", \"location\": \"Biscoe\", \"bill_length_mm\": 50.8, \"bill_depth_mm\": 17.3, \"flipper_length_mm\": 228.0, \"body_mass_g\": 5600.0, \"gender\": \"Male\"}, {\"species\": \"Gentoo\", \"location\": \"Biscoe\", \"bill_length_mm\": 43.4, \"bill_depth_mm\": 14.4, \"flipper_length_mm\": 218.0, \"body_mass_g\": 4600.0, \"gender\": \"Female\"}, {\"species\": \"Gentoo\", \"location\": \"Biscoe\", \"bill_length_mm\": 51.3, \"bill_depth_mm\": 14.2, \"flipper_length_mm\": 218.0, \"body_mass_g\": 5300.0, \"gender\": \"Male\"}, {\"species\": \"Gentoo\", \"location\": \"Biscoe\", \"bill_length_mm\": 47.5, \"bill_depth_mm\": 14.0, \"flipper_length_mm\": 212.0, \"body_mass_g\": 4875.0, \"gender\": \"Female\"}, {\"species\": \"Gentoo\", \"location\": \"Biscoe\", \"bill_length_mm\": 52.1, \"bill_depth_mm\": 17.0, \"flipper_length_mm\": 230.0, \"body_mass_g\": 5550.0, \"gender\": \"Male\"}, {\"species\": \"Gentoo\", \"location\": \"Biscoe\", \"bill_length_mm\": 47.5, \"bill_depth_mm\": 15.0, \"flipper_length_mm\": 218.0, \"body_mass_g\": 4950.0, \"gender\": \"Female\"}, {\"species\": \"Gentoo\", \"location\": \"Biscoe\", \"bill_length_mm\": 52.2, \"bill_depth_mm\": 17.1, \"flipper_length_mm\": 228.0, \"body_mass_g\": 5400.0, \"gender\": \"Male\"}, {\"species\": \"Gentoo\", \"location\": \"Biscoe\", \"bill_length_mm\": 45.5, \"bill_depth_mm\": 14.5, \"flipper_length_mm\": 212.0, \"body_mass_g\": 4750.0, \"gender\": \"Female\"}, {\"species\": \"Gentoo\", \"location\": \"Biscoe\", \"bill_length_mm\": 49.5, \"bill_depth_mm\": 16.1, \"flipper_length_mm\": 224.0, \"body_mass_g\": 5650.0, \"gender\": \"Male\"}, {\"species\": \"Gentoo\", \"location\": \"Biscoe\", \"bill_length_mm\": 44.5, \"bill_depth_mm\": 14.7, \"flipper_length_mm\": 214.0, \"body_mass_g\": 4850.0, \"gender\": \"Female\"}, {\"species\": \"Gentoo\", \"location\": \"Biscoe\", \"bill_length_mm\": 50.8, \"bill_depth_mm\": 15.7, \"flipper_length_mm\": 226.0, \"body_mass_g\": 5200.0, \"gender\": \"Male\"}, {\"species\": \"Gentoo\", \"location\": \"Biscoe\", \"bill_length_mm\": 49.4, \"bill_depth_mm\": 15.8, \"flipper_length_mm\": 216.0, \"body_mass_g\": 4925.0, \"gender\": \"Male\"}, {\"species\": \"Gentoo\", \"location\": \"Biscoe\", \"bill_length_mm\": 46.9, \"bill_depth_mm\": 14.6, \"flipper_length_mm\": 222.0, \"body_mass_g\": 4875.0, \"gender\": \"Female\"}, {\"species\": \"Gentoo\", \"location\": \"Biscoe\", \"bill_length_mm\": 48.4, \"bill_depth_mm\": 14.4, \"flipper_length_mm\": 203.0, \"body_mass_g\": 4625.0, \"gender\": \"Female\"}, {\"species\": \"Gentoo\", \"location\": \"Biscoe\", \"bill_length_mm\": 51.1, \"bill_depth_mm\": 16.5, \"flipper_length_mm\": 225.0, \"body_mass_g\": 5250.0, \"gender\": \"Male\"}, {\"species\": \"Gentoo\", \"location\": \"Biscoe\", \"bill_length_mm\": 48.5, \"bill_depth_mm\": 15.0, \"flipper_length_mm\": 219.0, \"body_mass_g\": 4850.0, \"gender\": \"Female\"}, {\"species\": \"Gentoo\", \"location\": \"Biscoe\", \"bill_length_mm\": 55.9, \"bill_depth_mm\": 17.0, \"flipper_length_mm\": 228.0, \"body_mass_g\": 5600.0, \"gender\": \"Male\"}, {\"species\": \"Gentoo\", \"location\": \"Biscoe\", \"bill_length_mm\": 47.2, \"bill_depth_mm\": 15.5, \"flipper_length_mm\": 215.0, \"body_mass_g\": 4975.0, \"gender\": \"Female\"}, {\"species\": \"Gentoo\", \"location\": \"Biscoe\", \"bill_length_mm\": 49.1, \"bill_depth_mm\": 15.0, \"flipper_length_mm\": 228.0, \"body_mass_g\": 5500.0, \"gender\": \"Male\"}, {\"species\": \"Gentoo\", \"location\": \"Biscoe\", \"bill_length_mm\": 46.8, \"bill_depth_mm\": 16.1, \"flipper_length_mm\": 215.0, \"body_mass_g\": 5500.0, \"gender\": \"Male\"}, {\"species\": \"Gentoo\", \"location\": \"Biscoe\", \"bill_length_mm\": 41.7, \"bill_depth_mm\": 14.7, \"flipper_length_mm\": 210.0, \"body_mass_g\": 4700.0, \"gender\": \"Female\"}, {\"species\": \"Gentoo\", \"location\": \"Biscoe\", \"bill_length_mm\": 53.4, \"bill_depth_mm\": 15.8, \"flipper_length_mm\": 219.0, \"body_mass_g\": 5500.0, \"gender\": \"Male\"}, {\"species\": \"Gentoo\", \"location\": \"Biscoe\", \"bill_length_mm\": 43.3, \"bill_depth_mm\": 14.0, \"flipper_length_mm\": 208.0, \"body_mass_g\": 4575.0, \"gender\": \"Female\"}, {\"species\": \"Gentoo\", \"location\": \"Biscoe\", \"bill_length_mm\": 48.1, \"bill_depth_mm\": 15.1, \"flipper_length_mm\": 209.0, \"body_mass_g\": 5500.0, \"gender\": \"Male\"}, {\"species\": \"Gentoo\", \"location\": \"Biscoe\", \"bill_length_mm\": 50.5, \"bill_depth_mm\": 15.2, \"flipper_length_mm\": 216.0, \"body_mass_g\": 5000.0, \"gender\": \"Female\"}, {\"species\": \"Gentoo\", \"location\": \"Biscoe\", \"bill_length_mm\": 49.8, \"bill_depth_mm\": 15.9, \"flipper_length_mm\": 229.0, \"body_mass_g\": 5950.0, \"gender\": \"Male\"}, {\"species\": \"Gentoo\", \"location\": \"Biscoe\", \"bill_length_mm\": 43.5, \"bill_depth_mm\": 15.2, \"flipper_length_mm\": 213.0, \"body_mass_g\": 4650.0, \"gender\": \"Female\"}, {\"species\": \"Gentoo\", \"location\": \"Biscoe\", \"bill_length_mm\": 51.5, \"bill_depth_mm\": 16.3, \"flipper_length_mm\": 230.0, \"body_mass_g\": 5500.0, \"gender\": \"Male\"}, {\"species\": \"Gentoo\", \"location\": \"Biscoe\", \"bill_length_mm\": 46.2, \"bill_depth_mm\": 14.1, \"flipper_length_mm\": 217.0, \"body_mass_g\": 4375.0, \"gender\": \"Female\"}, {\"species\": \"Gentoo\", \"location\": \"Biscoe\", \"bill_length_mm\": 55.1, \"bill_depth_mm\": 16.0, \"flipper_length_mm\": 230.0, \"body_mass_g\": 5850.0, \"gender\": \"Male\"}, {\"species\": \"Gentoo\", \"location\": \"Biscoe\", \"bill_length_mm\": 48.8, \"bill_depth_mm\": 16.2, \"flipper_length_mm\": 222.0, \"body_mass_g\": 6000.0, \"gender\": \"Male\"}, {\"species\": \"Gentoo\", \"location\": \"Biscoe\", \"bill_length_mm\": 47.2, \"bill_depth_mm\": 13.7, \"flipper_length_mm\": 214.0, \"body_mass_g\": 4925.0, \"gender\": \"Female\"}, {\"species\": \"Gentoo\", \"location\": \"Biscoe\", \"bill_length_mm\": 46.8, \"bill_depth_mm\": 14.3, \"flipper_length_mm\": 215.0, \"body_mass_g\": 4850.0, \"gender\": \"Female\"}, {\"species\": \"Gentoo\", \"location\": \"Biscoe\", \"bill_length_mm\": 50.4, \"bill_depth_mm\": 15.7, \"flipper_length_mm\": 222.0, \"body_mass_g\": 5750.0, \"gender\": \"Male\"}, {\"species\": \"Gentoo\", \"location\": \"Biscoe\", \"bill_length_mm\": 45.2, \"bill_depth_mm\": 14.8, \"flipper_length_mm\": 212.0, \"body_mass_g\": 5200.0, \"gender\": \"Female\"}, {\"species\": \"Gentoo\", \"location\": \"Biscoe\", \"bill_length_mm\": 49.9, \"bill_depth_mm\": 16.1, \"flipper_length_mm\": 213.0, \"body_mass_g\": 5400.0, \"gender\": \"Male\"}]}}, {\"mode\": \"vega-lite\"});\n",
       "</script>"
      ],
      "text/plain": [
       "alt.Chart(...)"
      ]
     },
     "execution_count": 30,
     "metadata": {},
     "output_type": "execute_result"
    }
   ],
   "source": [
    "alt.Chart(df).mark_circle().encode(\n",
    "    x=\"bill_length_mm\",\n",
    "    y=\"flipper_length_mm\",\n",
    "    color=\"species\"\n",
    ")"
   ]
  },
  {
   "cell_type": "markdown",
   "metadata": {
    "cell_id": "a91a9b6f81694381a22a300b772662de",
    "deepnote_cell_type": "markdown"
   },
   "source": [
    "* Use the domain 30-to-60 for the x-axis and 170-to-240 for the y-axis.  (I had some trouble this morning installing the new version of Altair, so let's use the old syntax.)"
   ]
  },
  {
   "cell_type": "markdown",
   "metadata": {},
   "source": [
    "Here we are using a Python `tuple` data type to specify the domains."
   ]
  },
  {
   "cell_type": "code",
   "execution_count": 31,
   "metadata": {
    "cell_id": "981fa5ac6cfc401d810e792915df7730",
    "deepnote_cell_type": "code",
    "deepnote_to_be_reexecuted": false,
    "execution_millis": 7,
    "execution_start": 1682109495750,
    "source_hash": "11bd4685"
   },
   "outputs": [
    {
     "data": {
      "text/html": [
       "\n",
       "<div id=\"altair-viz-603abdeb43554aa29a112462fbb57f06\"></div>\n",
       "<script type=\"text/javascript\">\n",
       "  var VEGA_DEBUG = (typeof VEGA_DEBUG == \"undefined\") ? {} : VEGA_DEBUG;\n",
       "  (function(spec, embedOpt){\n",
       "    let outputDiv = document.currentScript.previousElementSibling;\n",
       "    if (outputDiv.id !== \"altair-viz-603abdeb43554aa29a112462fbb57f06\") {\n",
       "      outputDiv = document.getElementById(\"altair-viz-603abdeb43554aa29a112462fbb57f06\");\n",
       "    }\n",
       "    const paths = {\n",
       "      \"vega\": \"https://cdn.jsdelivr.net/npm//vega@5?noext\",\n",
       "      \"vega-lib\": \"https://cdn.jsdelivr.net/npm//vega-lib?noext\",\n",
       "      \"vega-lite\": \"https://cdn.jsdelivr.net/npm//vega-lite@4.17.0?noext\",\n",
       "      \"vega-embed\": \"https://cdn.jsdelivr.net/npm//vega-embed@6?noext\",\n",
       "    };\n",
       "\n",
       "    function maybeLoadScript(lib, version) {\n",
       "      var key = `${lib.replace(\"-\", \"\")}_version`;\n",
       "      return (VEGA_DEBUG[key] == version) ?\n",
       "        Promise.resolve(paths[lib]) :\n",
       "        new Promise(function(resolve, reject) {\n",
       "          var s = document.createElement('script');\n",
       "          document.getElementsByTagName(\"head\")[0].appendChild(s);\n",
       "          s.async = true;\n",
       "          s.onload = () => {\n",
       "            VEGA_DEBUG[key] = version;\n",
       "            return resolve(paths[lib]);\n",
       "          };\n",
       "          s.onerror = () => reject(`Error loading script: ${paths[lib]}`);\n",
       "          s.src = paths[lib];\n",
       "        });\n",
       "    }\n",
       "\n",
       "    function showError(err) {\n",
       "      outputDiv.innerHTML = `<div class=\"error\" style=\"color:red;\">${err}</div>`;\n",
       "      throw err;\n",
       "    }\n",
       "\n",
       "    function displayChart(vegaEmbed) {\n",
       "      vegaEmbed(outputDiv, spec, embedOpt)\n",
       "        .catch(err => showError(`Javascript Error: ${err.message}<br>This usually means there's a typo in your chart specification. See the javascript console for the full traceback.`));\n",
       "    }\n",
       "\n",
       "    if(typeof define === \"function\" && define.amd) {\n",
       "      requirejs.config({paths});\n",
       "      require([\"vega-embed\"], displayChart, err => showError(`Error loading script: ${err.message}`));\n",
       "    } else {\n",
       "      maybeLoadScript(\"vega\", \"5\")\n",
       "        .then(() => maybeLoadScript(\"vega-lite\", \"4.17.0\"))\n",
       "        .then(() => maybeLoadScript(\"vega-embed\", \"6\"))\n",
       "        .catch(showError)\n",
       "        .then(() => displayChart(vegaEmbed));\n",
       "    }\n",
       "  })({\"config\": {\"view\": {\"continuousWidth\": 400, \"continuousHeight\": 300}}, \"data\": {\"name\": \"data-a7bc2cc87e28b8bb84b0376a27fad733\"}, \"mark\": \"circle\", \"encoding\": {\"color\": {\"field\": \"species\", \"type\": \"nominal\"}, \"x\": {\"field\": \"bill_length_mm\", \"scale\": {\"domain\": [30, 60]}, \"type\": \"quantitative\"}, \"y\": {\"field\": \"flipper_length_mm\", \"scale\": {\"domain\": [170, 240]}, \"type\": \"quantitative\"}}, \"$schema\": \"https://vega.github.io/schema/vega-lite/v4.17.0.json\", \"datasets\": {\"data-a7bc2cc87e28b8bb84b0376a27fad733\": [{\"species\": \"Adelie\", \"location\": \"Torgersen\", \"bill_length_mm\": 39.1, \"bill_depth_mm\": 18.7, \"flipper_length_mm\": 181.0, \"body_mass_g\": 3750.0, \"gender\": \"Male\"}, {\"species\": \"Adelie\", \"location\": \"Torgersen\", \"bill_length_mm\": 39.5, \"bill_depth_mm\": 17.4, \"flipper_length_mm\": 186.0, \"body_mass_g\": 3800.0, \"gender\": \"Female\"}, {\"species\": \"Adelie\", \"location\": \"Torgersen\", \"bill_length_mm\": 40.3, \"bill_depth_mm\": 18.0, \"flipper_length_mm\": 195.0, \"body_mass_g\": 3250.0, \"gender\": \"Female\"}, {\"species\": \"Adelie\", \"location\": \"Torgersen\", \"bill_length_mm\": 36.7, \"bill_depth_mm\": 19.3, \"flipper_length_mm\": 193.0, \"body_mass_g\": 3450.0, \"gender\": \"Female\"}, {\"species\": \"Adelie\", \"location\": \"Torgersen\", \"bill_length_mm\": 39.3, \"bill_depth_mm\": 20.6, \"flipper_length_mm\": 190.0, \"body_mass_g\": 3650.0, \"gender\": \"Male\"}, {\"species\": \"Adelie\", \"location\": \"Torgersen\", \"bill_length_mm\": 38.9, \"bill_depth_mm\": 17.8, \"flipper_length_mm\": 181.0, \"body_mass_g\": 3625.0, \"gender\": \"Female\"}, {\"species\": \"Adelie\", \"location\": \"Torgersen\", \"bill_length_mm\": 39.2, \"bill_depth_mm\": 19.6, \"flipper_length_mm\": 195.0, \"body_mass_g\": 4675.0, \"gender\": \"Male\"}, {\"species\": \"Adelie\", \"location\": \"Torgersen\", \"bill_length_mm\": 41.1, \"bill_depth_mm\": 17.6, \"flipper_length_mm\": 182.0, \"body_mass_g\": 3200.0, \"gender\": \"Female\"}, {\"species\": \"Adelie\", \"location\": \"Torgersen\", \"bill_length_mm\": 38.6, \"bill_depth_mm\": 21.2, \"flipper_length_mm\": 191.0, \"body_mass_g\": 3800.0, \"gender\": \"Male\"}, {\"species\": \"Adelie\", \"location\": \"Torgersen\", \"bill_length_mm\": 34.6, \"bill_depth_mm\": 21.1, \"flipper_length_mm\": 198.0, \"body_mass_g\": 4400.0, \"gender\": \"Male\"}, {\"species\": \"Adelie\", \"location\": \"Torgersen\", \"bill_length_mm\": 36.6, \"bill_depth_mm\": 17.8, \"flipper_length_mm\": 185.0, \"body_mass_g\": 3700.0, \"gender\": \"Female\"}, {\"species\": \"Adelie\", \"location\": \"Torgersen\", \"bill_length_mm\": 38.7, \"bill_depth_mm\": 19.0, \"flipper_length_mm\": 195.0, \"body_mass_g\": 3450.0, \"gender\": \"Female\"}, {\"species\": \"Adelie\", \"location\": \"Torgersen\", \"bill_length_mm\": 42.5, \"bill_depth_mm\": 20.7, \"flipper_length_mm\": 197.0, \"body_mass_g\": 4500.0, \"gender\": \"Male\"}, {\"species\": \"Adelie\", \"location\": \"Torgersen\", \"bill_length_mm\": 34.4, \"bill_depth_mm\": 18.4, \"flipper_length_mm\": 184.0, \"body_mass_g\": 3325.0, \"gender\": \"Female\"}, {\"species\": \"Adelie\", \"location\": \"Torgersen\", \"bill_length_mm\": 46.0, \"bill_depth_mm\": 21.5, \"flipper_length_mm\": 194.0, \"body_mass_g\": 4200.0, \"gender\": \"Male\"}, {\"species\": \"Adelie\", \"location\": \"Biscoe\", \"bill_length_mm\": 37.8, \"bill_depth_mm\": 18.3, \"flipper_length_mm\": 174.0, \"body_mass_g\": 3400.0, \"gender\": \"Female\"}, {\"species\": \"Adelie\", \"location\": \"Biscoe\", \"bill_length_mm\": 37.7, \"bill_depth_mm\": 18.7, \"flipper_length_mm\": 180.0, \"body_mass_g\": 3600.0, \"gender\": \"Male\"}, {\"species\": \"Adelie\", \"location\": \"Biscoe\", \"bill_length_mm\": 35.9, \"bill_depth_mm\": 19.2, \"flipper_length_mm\": 189.0, \"body_mass_g\": 3800.0, \"gender\": \"Female\"}, {\"species\": \"Adelie\", \"location\": \"Biscoe\", \"bill_length_mm\": 38.2, \"bill_depth_mm\": 18.1, \"flipper_length_mm\": 185.0, \"body_mass_g\": 3950.0, \"gender\": \"Male\"}, {\"species\": \"Adelie\", \"location\": \"Biscoe\", \"bill_length_mm\": 38.8, \"bill_depth_mm\": 17.2, \"flipper_length_mm\": 180.0, \"body_mass_g\": 3800.0, \"gender\": \"Male\"}, {\"species\": \"Adelie\", \"location\": \"Biscoe\", \"bill_length_mm\": 35.3, \"bill_depth_mm\": 18.9, \"flipper_length_mm\": 187.0, \"body_mass_g\": 3800.0, \"gender\": \"Female\"}, {\"species\": \"Adelie\", \"location\": \"Biscoe\", \"bill_length_mm\": 40.6, \"bill_depth_mm\": 18.6, \"flipper_length_mm\": 183.0, \"body_mass_g\": 3550.0, \"gender\": \"Male\"}, {\"species\": \"Adelie\", \"location\": \"Biscoe\", \"bill_length_mm\": 40.5, \"bill_depth_mm\": 17.9, \"flipper_length_mm\": 187.0, \"body_mass_g\": 3200.0, \"gender\": \"Female\"}, {\"species\": \"Adelie\", \"location\": \"Biscoe\", \"bill_length_mm\": 37.9, \"bill_depth_mm\": 18.6, \"flipper_length_mm\": 172.0, \"body_mass_g\": 3150.0, \"gender\": \"Female\"}, {\"species\": \"Adelie\", \"location\": \"Biscoe\", \"bill_length_mm\": 40.5, \"bill_depth_mm\": 18.9, \"flipper_length_mm\": 180.0, \"body_mass_g\": 3950.0, \"gender\": \"Male\"}, {\"species\": \"Adelie\", \"location\": \"Dream\", \"bill_length_mm\": 39.5, \"bill_depth_mm\": 16.7, \"flipper_length_mm\": 178.0, \"body_mass_g\": 3250.0, \"gender\": \"Female\"}, {\"species\": \"Adelie\", \"location\": \"Dream\", \"bill_length_mm\": 37.2, \"bill_depth_mm\": 18.1, \"flipper_length_mm\": 178.0, \"body_mass_g\": 3900.0, \"gender\": \"Male\"}, {\"species\": \"Adelie\", \"location\": \"Dream\", \"bill_length_mm\": 39.5, \"bill_depth_mm\": 17.8, \"flipper_length_mm\": 188.0, \"body_mass_g\": 3300.0, \"gender\": \"Female\"}, {\"species\": \"Adelie\", \"location\": \"Dream\", \"bill_length_mm\": 40.9, \"bill_depth_mm\": 18.9, \"flipper_length_mm\": 184.0, \"body_mass_g\": 3900.0, \"gender\": \"Male\"}, {\"species\": \"Adelie\", \"location\": \"Dream\", \"bill_length_mm\": 36.4, \"bill_depth_mm\": 17.0, \"flipper_length_mm\": 195.0, \"body_mass_g\": 3325.0, \"gender\": \"Female\"}, {\"species\": \"Adelie\", \"location\": \"Dream\", \"bill_length_mm\": 39.2, \"bill_depth_mm\": 21.1, \"flipper_length_mm\": 196.0, \"body_mass_g\": 4150.0, \"gender\": \"Male\"}, {\"species\": \"Adelie\", \"location\": \"Dream\", \"bill_length_mm\": 38.8, \"bill_depth_mm\": 20.0, \"flipper_length_mm\": 190.0, \"body_mass_g\": 3950.0, \"gender\": \"Male\"}, {\"species\": \"Adelie\", \"location\": \"Dream\", \"bill_length_mm\": 42.2, \"bill_depth_mm\": 18.5, \"flipper_length_mm\": 180.0, \"body_mass_g\": 3550.0, \"gender\": \"Female\"}, {\"species\": \"Adelie\", \"location\": \"Dream\", \"bill_length_mm\": 37.6, \"bill_depth_mm\": 19.3, \"flipper_length_mm\": 181.0, \"body_mass_g\": 3300.0, \"gender\": \"Female\"}, {\"species\": \"Adelie\", \"location\": \"Dream\", \"bill_length_mm\": 39.8, \"bill_depth_mm\": 19.1, \"flipper_length_mm\": 184.0, \"body_mass_g\": 4650.0, \"gender\": \"Male\"}, {\"species\": \"Adelie\", \"location\": \"Dream\", \"bill_length_mm\": 36.5, \"bill_depth_mm\": 18.0, \"flipper_length_mm\": 182.0, \"body_mass_g\": 3150.0, \"gender\": \"Female\"}, {\"species\": \"Adelie\", \"location\": \"Dream\", \"bill_length_mm\": 40.8, \"bill_depth_mm\": 18.4, \"flipper_length_mm\": 195.0, \"body_mass_g\": 3900.0, \"gender\": \"Male\"}, {\"species\": \"Adelie\", \"location\": \"Dream\", \"bill_length_mm\": 36.0, \"bill_depth_mm\": 18.5, \"flipper_length_mm\": 186.0, \"body_mass_g\": 3100.0, \"gender\": \"Female\"}, {\"species\": \"Adelie\", \"location\": \"Dream\", \"bill_length_mm\": 44.1, \"bill_depth_mm\": 19.7, \"flipper_length_mm\": 196.0, \"body_mass_g\": 4400.0, \"gender\": \"Male\"}, {\"species\": \"Adelie\", \"location\": \"Dream\", \"bill_length_mm\": 37.0, \"bill_depth_mm\": 16.9, \"flipper_length_mm\": 185.0, \"body_mass_g\": 3000.0, \"gender\": \"Female\"}, {\"species\": \"Adelie\", \"location\": \"Dream\", \"bill_length_mm\": 39.6, \"bill_depth_mm\": 18.8, \"flipper_length_mm\": 190.0, \"body_mass_g\": 4600.0, \"gender\": \"Male\"}, {\"species\": \"Adelie\", \"location\": \"Dream\", \"bill_length_mm\": 41.1, \"bill_depth_mm\": 19.0, \"flipper_length_mm\": 182.0, \"body_mass_g\": 3425.0, \"gender\": \"Male\"}, {\"species\": \"Adelie\", \"location\": \"Dream\", \"bill_length_mm\": 36.0, \"bill_depth_mm\": 17.9, \"flipper_length_mm\": 190.0, \"body_mass_g\": 3450.0, \"gender\": \"Female\"}, {\"species\": \"Adelie\", \"location\": \"Dream\", \"bill_length_mm\": 42.3, \"bill_depth_mm\": 21.2, \"flipper_length_mm\": 191.0, \"body_mass_g\": 4150.0, \"gender\": \"Male\"}, {\"species\": \"Adelie\", \"location\": \"Biscoe\", \"bill_length_mm\": 39.6, \"bill_depth_mm\": 17.7, \"flipper_length_mm\": 186.0, \"body_mass_g\": 3500.0, \"gender\": \"Female\"}, {\"species\": \"Adelie\", \"location\": \"Biscoe\", \"bill_length_mm\": 40.1, \"bill_depth_mm\": 18.9, \"flipper_length_mm\": 188.0, \"body_mass_g\": 4300.0, \"gender\": \"Male\"}, {\"species\": \"Adelie\", \"location\": \"Biscoe\", \"bill_length_mm\": 35.0, \"bill_depth_mm\": 17.9, \"flipper_length_mm\": 190.0, \"body_mass_g\": 3450.0, \"gender\": \"Female\"}, {\"species\": \"Adelie\", \"location\": \"Biscoe\", \"bill_length_mm\": 42.0, \"bill_depth_mm\": 19.5, \"flipper_length_mm\": 200.0, \"body_mass_g\": 4050.0, \"gender\": \"Male\"}, {\"species\": \"Adelie\", \"location\": \"Biscoe\", \"bill_length_mm\": 34.5, \"bill_depth_mm\": 18.1, \"flipper_length_mm\": 187.0, \"body_mass_g\": 2900.0, \"gender\": \"Female\"}, {\"species\": \"Adelie\", \"location\": \"Biscoe\", \"bill_length_mm\": 41.4, \"bill_depth_mm\": 18.6, \"flipper_length_mm\": 191.0, \"body_mass_g\": 3700.0, \"gender\": \"Male\"}, {\"species\": \"Adelie\", \"location\": \"Biscoe\", \"bill_length_mm\": 39.0, \"bill_depth_mm\": 17.5, \"flipper_length_mm\": 186.0, \"body_mass_g\": 3550.0, \"gender\": \"Female\"}, {\"species\": \"Adelie\", \"location\": \"Biscoe\", \"bill_length_mm\": 40.6, \"bill_depth_mm\": 18.8, \"flipper_length_mm\": 193.0, \"body_mass_g\": 3800.0, \"gender\": \"Male\"}, {\"species\": \"Adelie\", \"location\": \"Biscoe\", \"bill_length_mm\": 36.5, \"bill_depth_mm\": 16.6, \"flipper_length_mm\": 181.0, \"body_mass_g\": 2850.0, \"gender\": \"Female\"}, {\"species\": \"Adelie\", \"location\": \"Biscoe\", \"bill_length_mm\": 37.6, \"bill_depth_mm\": 19.1, \"flipper_length_mm\": 194.0, \"body_mass_g\": 3750.0, \"gender\": \"Male\"}, {\"species\": \"Adelie\", \"location\": \"Biscoe\", \"bill_length_mm\": 35.7, \"bill_depth_mm\": 16.9, \"flipper_length_mm\": 185.0, \"body_mass_g\": 3150.0, \"gender\": \"Female\"}, {\"species\": \"Adelie\", \"location\": \"Biscoe\", \"bill_length_mm\": 41.3, \"bill_depth_mm\": 21.1, \"flipper_length_mm\": 195.0, \"body_mass_g\": 4400.0, \"gender\": \"Male\"}, {\"species\": \"Adelie\", \"location\": \"Biscoe\", \"bill_length_mm\": 37.6, \"bill_depth_mm\": 17.0, \"flipper_length_mm\": 185.0, \"body_mass_g\": 3600.0, \"gender\": \"Female\"}, {\"species\": \"Adelie\", \"location\": \"Biscoe\", \"bill_length_mm\": 41.1, \"bill_depth_mm\": 18.2, \"flipper_length_mm\": 192.0, \"body_mass_g\": 4050.0, \"gender\": \"Male\"}, {\"species\": \"Adelie\", \"location\": \"Biscoe\", \"bill_length_mm\": 36.4, \"bill_depth_mm\": 17.1, \"flipper_length_mm\": 184.0, \"body_mass_g\": 2850.0, \"gender\": \"Female\"}, {\"species\": \"Adelie\", \"location\": \"Biscoe\", \"bill_length_mm\": 41.6, \"bill_depth_mm\": 18.0, \"flipper_length_mm\": 192.0, \"body_mass_g\": 3950.0, \"gender\": \"Male\"}, {\"species\": \"Adelie\", \"location\": \"Biscoe\", \"bill_length_mm\": 35.5, \"bill_depth_mm\": 16.2, \"flipper_length_mm\": 195.0, \"body_mass_g\": 3350.0, \"gender\": \"Female\"}, {\"species\": \"Adelie\", \"location\": \"Biscoe\", \"bill_length_mm\": 41.1, \"bill_depth_mm\": 19.1, \"flipper_length_mm\": 188.0, \"body_mass_g\": 4100.0, \"gender\": \"Male\"}, {\"species\": \"Adelie\", \"location\": \"Torgersen\", \"bill_length_mm\": 35.9, \"bill_depth_mm\": 16.6, \"flipper_length_mm\": 190.0, \"body_mass_g\": 3050.0, \"gender\": \"Female\"}, {\"species\": \"Adelie\", \"location\": \"Torgersen\", \"bill_length_mm\": 41.8, \"bill_depth_mm\": 19.4, \"flipper_length_mm\": 198.0, \"body_mass_g\": 4450.0, \"gender\": \"Male\"}, {\"species\": \"Adelie\", \"location\": \"Torgersen\", \"bill_length_mm\": 33.5, \"bill_depth_mm\": 19.0, \"flipper_length_mm\": 190.0, \"body_mass_g\": 3600.0, \"gender\": \"Female\"}, {\"species\": \"Adelie\", \"location\": \"Torgersen\", \"bill_length_mm\": 39.7, \"bill_depth_mm\": 18.4, \"flipper_length_mm\": 190.0, \"body_mass_g\": 3900.0, \"gender\": \"Male\"}, {\"species\": \"Adelie\", \"location\": \"Torgersen\", \"bill_length_mm\": 39.6, \"bill_depth_mm\": 17.2, \"flipper_length_mm\": 196.0, \"body_mass_g\": 3550.0, \"gender\": \"Female\"}, {\"species\": \"Adelie\", \"location\": \"Torgersen\", \"bill_length_mm\": 45.8, \"bill_depth_mm\": 18.9, \"flipper_length_mm\": 197.0, \"body_mass_g\": 4150.0, \"gender\": \"Male\"}, {\"species\": \"Adelie\", \"location\": \"Torgersen\", \"bill_length_mm\": 35.5, \"bill_depth_mm\": 17.5, \"flipper_length_mm\": 190.0, \"body_mass_g\": 3700.0, \"gender\": \"Female\"}, {\"species\": \"Adelie\", \"location\": \"Torgersen\", \"bill_length_mm\": 42.8, \"bill_depth_mm\": 18.5, \"flipper_length_mm\": 195.0, \"body_mass_g\": 4250.0, \"gender\": \"Male\"}, {\"species\": \"Adelie\", \"location\": \"Torgersen\", \"bill_length_mm\": 40.9, \"bill_depth_mm\": 16.8, \"flipper_length_mm\": 191.0, \"body_mass_g\": 3700.0, \"gender\": \"Female\"}, {\"species\": \"Adelie\", \"location\": \"Torgersen\", \"bill_length_mm\": 37.2, \"bill_depth_mm\": 19.4, \"flipper_length_mm\": 184.0, \"body_mass_g\": 3900.0, \"gender\": \"Male\"}, {\"species\": \"Adelie\", \"location\": \"Torgersen\", \"bill_length_mm\": 36.2, \"bill_depth_mm\": 16.1, \"flipper_length_mm\": 187.0, \"body_mass_g\": 3550.0, \"gender\": \"Female\"}, {\"species\": \"Adelie\", \"location\": \"Torgersen\", \"bill_length_mm\": 42.1, \"bill_depth_mm\": 19.1, \"flipper_length_mm\": 195.0, \"body_mass_g\": 4000.0, \"gender\": \"Male\"}, {\"species\": \"Adelie\", \"location\": \"Torgersen\", \"bill_length_mm\": 34.6, \"bill_depth_mm\": 17.2, \"flipper_length_mm\": 189.0, \"body_mass_g\": 3200.0, \"gender\": \"Female\"}, {\"species\": \"Adelie\", \"location\": \"Torgersen\", \"bill_length_mm\": 42.9, \"bill_depth_mm\": 17.6, \"flipper_length_mm\": 196.0, \"body_mass_g\": 4700.0, \"gender\": \"Male\"}, {\"species\": \"Adelie\", \"location\": \"Torgersen\", \"bill_length_mm\": 36.7, \"bill_depth_mm\": 18.8, \"flipper_length_mm\": 187.0, \"body_mass_g\": 3800.0, \"gender\": \"Female\"}, {\"species\": \"Adelie\", \"location\": \"Torgersen\", \"bill_length_mm\": 35.1, \"bill_depth_mm\": 19.4, \"flipper_length_mm\": 193.0, \"body_mass_g\": 4200.0, \"gender\": \"Male\"}, {\"species\": \"Adelie\", \"location\": \"Dream\", \"bill_length_mm\": 37.3, \"bill_depth_mm\": 17.8, \"flipper_length_mm\": 191.0, \"body_mass_g\": 3350.0, \"gender\": \"Female\"}, {\"species\": \"Adelie\", \"location\": \"Dream\", \"bill_length_mm\": 41.3, \"bill_depth_mm\": 20.3, \"flipper_length_mm\": 194.0, \"body_mass_g\": 3550.0, \"gender\": \"Male\"}, {\"species\": \"Adelie\", \"location\": \"Dream\", \"bill_length_mm\": 36.3, \"bill_depth_mm\": 19.5, \"flipper_length_mm\": 190.0, \"body_mass_g\": 3800.0, \"gender\": \"Male\"}, {\"species\": \"Adelie\", \"location\": \"Dream\", \"bill_length_mm\": 36.9, \"bill_depth_mm\": 18.6, \"flipper_length_mm\": 189.0, \"body_mass_g\": 3500.0, \"gender\": \"Female\"}, {\"species\": \"Adelie\", \"location\": \"Dream\", \"bill_length_mm\": 38.3, \"bill_depth_mm\": 19.2, \"flipper_length_mm\": 189.0, \"body_mass_g\": 3950.0, \"gender\": \"Male\"}, {\"species\": \"Adelie\", \"location\": \"Dream\", \"bill_length_mm\": 38.9, \"bill_depth_mm\": 18.8, \"flipper_length_mm\": 190.0, \"body_mass_g\": 3600.0, \"gender\": \"Female\"}, {\"species\": \"Adelie\", \"location\": \"Dream\", \"bill_length_mm\": 35.7, \"bill_depth_mm\": 18.0, \"flipper_length_mm\": 202.0, \"body_mass_g\": 3550.0, \"gender\": \"Female\"}, {\"species\": \"Adelie\", \"location\": \"Dream\", \"bill_length_mm\": 41.1, \"bill_depth_mm\": 18.1, \"flipper_length_mm\": 205.0, \"body_mass_g\": 4300.0, \"gender\": \"Male\"}, {\"species\": \"Adelie\", \"location\": \"Dream\", \"bill_length_mm\": 34.0, \"bill_depth_mm\": 17.1, \"flipper_length_mm\": 185.0, \"body_mass_g\": 3400.0, \"gender\": \"Female\"}, {\"species\": \"Adelie\", \"location\": \"Dream\", \"bill_length_mm\": 39.6, \"bill_depth_mm\": 18.1, \"flipper_length_mm\": 186.0, \"body_mass_g\": 4450.0, \"gender\": \"Male\"}, {\"species\": \"Adelie\", \"location\": \"Dream\", \"bill_length_mm\": 36.2, \"bill_depth_mm\": 17.3, \"flipper_length_mm\": 187.0, \"body_mass_g\": 3300.0, \"gender\": \"Female\"}, {\"species\": \"Adelie\", \"location\": \"Dream\", \"bill_length_mm\": 40.8, \"bill_depth_mm\": 18.9, \"flipper_length_mm\": 208.0, \"body_mass_g\": 4300.0, \"gender\": \"Male\"}, {\"species\": \"Adelie\", \"location\": \"Dream\", \"bill_length_mm\": 38.1, \"bill_depth_mm\": 18.6, \"flipper_length_mm\": 190.0, \"body_mass_g\": 3700.0, \"gender\": \"Female\"}, {\"species\": \"Adelie\", \"location\": \"Dream\", \"bill_length_mm\": 40.3, \"bill_depth_mm\": 18.5, \"flipper_length_mm\": 196.0, \"body_mass_g\": 4350.0, \"gender\": \"Male\"}, {\"species\": \"Adelie\", \"location\": \"Dream\", \"bill_length_mm\": 33.1, \"bill_depth_mm\": 16.1, \"flipper_length_mm\": 178.0, \"body_mass_g\": 2900.0, \"gender\": \"Female\"}, {\"species\": \"Adelie\", \"location\": \"Dream\", \"bill_length_mm\": 43.2, \"bill_depth_mm\": 18.5, \"flipper_length_mm\": 192.0, \"body_mass_g\": 4100.0, \"gender\": \"Male\"}, {\"species\": \"Adelie\", \"location\": \"Biscoe\", \"bill_length_mm\": 35.0, \"bill_depth_mm\": 17.9, \"flipper_length_mm\": 192.0, \"body_mass_g\": 3725.0, \"gender\": \"Female\"}, {\"species\": \"Adelie\", \"location\": \"Biscoe\", \"bill_length_mm\": 41.0, \"bill_depth_mm\": 20.0, \"flipper_length_mm\": 203.0, \"body_mass_g\": 4725.0, \"gender\": \"Male\"}, {\"species\": \"Adelie\", \"location\": \"Biscoe\", \"bill_length_mm\": 37.7, \"bill_depth_mm\": 16.0, \"flipper_length_mm\": 183.0, \"body_mass_g\": 3075.0, \"gender\": \"Female\"}, {\"species\": \"Adelie\", \"location\": \"Biscoe\", \"bill_length_mm\": 37.8, \"bill_depth_mm\": 20.0, \"flipper_length_mm\": 190.0, \"body_mass_g\": 4250.0, \"gender\": \"Male\"}, {\"species\": \"Adelie\", \"location\": \"Biscoe\", \"bill_length_mm\": 37.9, \"bill_depth_mm\": 18.6, \"flipper_length_mm\": 193.0, \"body_mass_g\": 2925.0, \"gender\": \"Female\"}, {\"species\": \"Adelie\", \"location\": \"Biscoe\", \"bill_length_mm\": 39.7, \"bill_depth_mm\": 18.9, \"flipper_length_mm\": 184.0, \"body_mass_g\": 3550.0, \"gender\": \"Male\"}, {\"species\": \"Adelie\", \"location\": \"Biscoe\", \"bill_length_mm\": 38.6, \"bill_depth_mm\": 17.2, \"flipper_length_mm\": 199.0, \"body_mass_g\": 3750.0, \"gender\": \"Female\"}, {\"species\": \"Adelie\", \"location\": \"Biscoe\", \"bill_length_mm\": 38.2, \"bill_depth_mm\": 20.0, \"flipper_length_mm\": 190.0, \"body_mass_g\": 3900.0, \"gender\": \"Male\"}, {\"species\": \"Adelie\", \"location\": \"Biscoe\", \"bill_length_mm\": 38.1, \"bill_depth_mm\": 17.0, \"flipper_length_mm\": 181.0, \"body_mass_g\": 3175.0, \"gender\": \"Female\"}, {\"species\": \"Adelie\", \"location\": \"Biscoe\", \"bill_length_mm\": 43.2, \"bill_depth_mm\": 19.0, \"flipper_length_mm\": 197.0, \"body_mass_g\": 4775.0, \"gender\": \"Male\"}, {\"species\": \"Adelie\", \"location\": \"Biscoe\", \"bill_length_mm\": 38.1, \"bill_depth_mm\": 16.5, \"flipper_length_mm\": 198.0, \"body_mass_g\": 3825.0, \"gender\": \"Female\"}, {\"species\": \"Adelie\", \"location\": \"Biscoe\", \"bill_length_mm\": 45.6, \"bill_depth_mm\": 20.3, \"flipper_length_mm\": 191.0, \"body_mass_g\": 4600.0, \"gender\": \"Male\"}, {\"species\": \"Adelie\", \"location\": \"Biscoe\", \"bill_length_mm\": 39.7, \"bill_depth_mm\": 17.7, \"flipper_length_mm\": 193.0, \"body_mass_g\": 3200.0, \"gender\": \"Female\"}, {\"species\": \"Adelie\", \"location\": \"Biscoe\", \"bill_length_mm\": 42.2, \"bill_depth_mm\": 19.5, \"flipper_length_mm\": 197.0, \"body_mass_g\": 4275.0, \"gender\": \"Male\"}, {\"species\": \"Adelie\", \"location\": \"Biscoe\", \"bill_length_mm\": 39.6, \"bill_depth_mm\": 20.7, \"flipper_length_mm\": 191.0, \"body_mass_g\": 3900.0, \"gender\": \"Female\"}, {\"species\": \"Adelie\", \"location\": \"Biscoe\", \"bill_length_mm\": 42.7, \"bill_depth_mm\": 18.3, \"flipper_length_mm\": 196.0, \"body_mass_g\": 4075.0, \"gender\": \"Male\"}, {\"species\": \"Adelie\", \"location\": \"Torgersen\", \"bill_length_mm\": 38.6, \"bill_depth_mm\": 17.0, \"flipper_length_mm\": 188.0, \"body_mass_g\": 2900.0, \"gender\": \"Female\"}, {\"species\": \"Adelie\", \"location\": \"Torgersen\", \"bill_length_mm\": 37.3, \"bill_depth_mm\": 20.5, \"flipper_length_mm\": 199.0, \"body_mass_g\": 3775.0, \"gender\": \"Male\"}, {\"species\": \"Adelie\", \"location\": \"Torgersen\", \"bill_length_mm\": 35.7, \"bill_depth_mm\": 17.0, \"flipper_length_mm\": 189.0, \"body_mass_g\": 3350.0, \"gender\": \"Female\"}, {\"species\": \"Adelie\", \"location\": \"Torgersen\", \"bill_length_mm\": 41.1, \"bill_depth_mm\": 18.6, \"flipper_length_mm\": 189.0, \"body_mass_g\": 3325.0, \"gender\": \"Male\"}, {\"species\": \"Adelie\", \"location\": \"Torgersen\", \"bill_length_mm\": 36.2, \"bill_depth_mm\": 17.2, \"flipper_length_mm\": 187.0, \"body_mass_g\": 3150.0, \"gender\": \"Female\"}, {\"species\": \"Adelie\", \"location\": \"Torgersen\", \"bill_length_mm\": 37.7, \"bill_depth_mm\": 19.8, \"flipper_length_mm\": 198.0, \"body_mass_g\": 3500.0, \"gender\": \"Male\"}, {\"species\": \"Adelie\", \"location\": \"Torgersen\", \"bill_length_mm\": 40.2, \"bill_depth_mm\": 17.0, \"flipper_length_mm\": 176.0, \"body_mass_g\": 3450.0, \"gender\": \"Female\"}, {\"species\": \"Adelie\", \"location\": \"Torgersen\", \"bill_length_mm\": 41.4, \"bill_depth_mm\": 18.5, \"flipper_length_mm\": 202.0, \"body_mass_g\": 3875.0, \"gender\": \"Male\"}, {\"species\": \"Adelie\", \"location\": \"Torgersen\", \"bill_length_mm\": 35.2, \"bill_depth_mm\": 15.9, \"flipper_length_mm\": 186.0, \"body_mass_g\": 3050.0, \"gender\": \"Female\"}, {\"species\": \"Adelie\", \"location\": \"Torgersen\", \"bill_length_mm\": 40.6, \"bill_depth_mm\": 19.0, \"flipper_length_mm\": 199.0, \"body_mass_g\": 4000.0, \"gender\": \"Male\"}, {\"species\": \"Adelie\", \"location\": \"Torgersen\", \"bill_length_mm\": 38.8, \"bill_depth_mm\": 17.6, \"flipper_length_mm\": 191.0, \"body_mass_g\": 3275.0, \"gender\": \"Female\"}, {\"species\": \"Adelie\", \"location\": \"Torgersen\", \"bill_length_mm\": 41.5, \"bill_depth_mm\": 18.3, \"flipper_length_mm\": 195.0, \"body_mass_g\": 4300.0, \"gender\": \"Male\"}, {\"species\": \"Adelie\", \"location\": \"Torgersen\", \"bill_length_mm\": 39.0, \"bill_depth_mm\": 17.1, \"flipper_length_mm\": 191.0, \"body_mass_g\": 3050.0, \"gender\": \"Female\"}, {\"species\": \"Adelie\", \"location\": \"Torgersen\", \"bill_length_mm\": 44.1, \"bill_depth_mm\": 18.0, \"flipper_length_mm\": 210.0, \"body_mass_g\": 4000.0, \"gender\": \"Male\"}, {\"species\": \"Adelie\", \"location\": \"Torgersen\", \"bill_length_mm\": 38.5, \"bill_depth_mm\": 17.9, \"flipper_length_mm\": 190.0, \"body_mass_g\": 3325.0, \"gender\": \"Female\"}, {\"species\": \"Adelie\", \"location\": \"Torgersen\", \"bill_length_mm\": 43.1, \"bill_depth_mm\": 19.2, \"flipper_length_mm\": 197.0, \"body_mass_g\": 3500.0, \"gender\": \"Male\"}, {\"species\": \"Adelie\", \"location\": \"Dream\", \"bill_length_mm\": 36.8, \"bill_depth_mm\": 18.5, \"flipper_length_mm\": 193.0, \"body_mass_g\": 3500.0, \"gender\": \"Female\"}, {\"species\": \"Adelie\", \"location\": \"Dream\", \"bill_length_mm\": 37.5, \"bill_depth_mm\": 18.5, \"flipper_length_mm\": 199.0, \"body_mass_g\": 4475.0, \"gender\": \"Male\"}, {\"species\": \"Adelie\", \"location\": \"Dream\", \"bill_length_mm\": 38.1, \"bill_depth_mm\": 17.6, \"flipper_length_mm\": 187.0, \"body_mass_g\": 3425.0, \"gender\": \"Female\"}, {\"species\": \"Adelie\", \"location\": \"Dream\", \"bill_length_mm\": 41.1, \"bill_depth_mm\": 17.5, \"flipper_length_mm\": 190.0, \"body_mass_g\": 3900.0, \"gender\": \"Male\"}, {\"species\": \"Adelie\", \"location\": \"Dream\", \"bill_length_mm\": 35.6, \"bill_depth_mm\": 17.5, \"flipper_length_mm\": 191.0, \"body_mass_g\": 3175.0, \"gender\": \"Female\"}, {\"species\": \"Adelie\", \"location\": \"Dream\", \"bill_length_mm\": 40.2, \"bill_depth_mm\": 20.1, \"flipper_length_mm\": 200.0, \"body_mass_g\": 3975.0, \"gender\": \"Male\"}, {\"species\": \"Adelie\", \"location\": \"Dream\", \"bill_length_mm\": 37.0, \"bill_depth_mm\": 16.5, \"flipper_length_mm\": 185.0, \"body_mass_g\": 3400.0, \"gender\": \"Female\"}, {\"species\": \"Adelie\", \"location\": \"Dream\", \"bill_length_mm\": 39.7, \"bill_depth_mm\": 17.9, \"flipper_length_mm\": 193.0, \"body_mass_g\": 4250.0, \"gender\": \"Male\"}, {\"species\": \"Adelie\", \"location\": \"Dream\", \"bill_length_mm\": 40.2, \"bill_depth_mm\": 17.1, \"flipper_length_mm\": 193.0, \"body_mass_g\": 3400.0, \"gender\": \"Female\"}, {\"species\": \"Adelie\", \"location\": \"Dream\", \"bill_length_mm\": 40.6, \"bill_depth_mm\": 17.2, \"flipper_length_mm\": 187.0, \"body_mass_g\": 3475.0, \"gender\": \"Male\"}, {\"species\": \"Adelie\", \"location\": \"Dream\", \"bill_length_mm\": 32.1, \"bill_depth_mm\": 15.5, \"flipper_length_mm\": 188.0, \"body_mass_g\": 3050.0, \"gender\": \"Female\"}, {\"species\": \"Adelie\", \"location\": \"Dream\", \"bill_length_mm\": 40.7, \"bill_depth_mm\": 17.0, \"flipper_length_mm\": 190.0, \"body_mass_g\": 3725.0, \"gender\": \"Male\"}, {\"species\": \"Adelie\", \"location\": \"Dream\", \"bill_length_mm\": 37.3, \"bill_depth_mm\": 16.8, \"flipper_length_mm\": 192.0, \"body_mass_g\": 3000.0, \"gender\": \"Female\"}, {\"species\": \"Adelie\", \"location\": \"Dream\", \"bill_length_mm\": 39.0, \"bill_depth_mm\": 18.7, \"flipper_length_mm\": 185.0, \"body_mass_g\": 3650.0, \"gender\": \"Male\"}, {\"species\": \"Adelie\", \"location\": \"Dream\", \"bill_length_mm\": 39.2, \"bill_depth_mm\": 18.6, \"flipper_length_mm\": 190.0, \"body_mass_g\": 4250.0, \"gender\": \"Male\"}, {\"species\": \"Adelie\", \"location\": \"Dream\", \"bill_length_mm\": 36.6, \"bill_depth_mm\": 18.4, \"flipper_length_mm\": 184.0, \"body_mass_g\": 3475.0, \"gender\": \"Female\"}, {\"species\": \"Adelie\", \"location\": \"Dream\", \"bill_length_mm\": 36.0, \"bill_depth_mm\": 17.8, \"flipper_length_mm\": 195.0, \"body_mass_g\": 3450.0, \"gender\": \"Female\"}, {\"species\": \"Adelie\", \"location\": \"Dream\", \"bill_length_mm\": 37.8, \"bill_depth_mm\": 18.1, \"flipper_length_mm\": 193.0, \"body_mass_g\": 3750.0, \"gender\": \"Male\"}, {\"species\": \"Adelie\", \"location\": \"Dream\", \"bill_length_mm\": 36.0, \"bill_depth_mm\": 17.1, \"flipper_length_mm\": 187.0, \"body_mass_g\": 3700.0, \"gender\": \"Female\"}, {\"species\": \"Adelie\", \"location\": \"Dream\", \"bill_length_mm\": 41.5, \"bill_depth_mm\": 18.5, \"flipper_length_mm\": 201.0, \"body_mass_g\": 4000.0, \"gender\": \"Male\"}, {\"species\": \"Chinstrap\", \"location\": \"Dream\", \"bill_length_mm\": 46.5, \"bill_depth_mm\": 17.9, \"flipper_length_mm\": 192.0, \"body_mass_g\": 3500.0, \"gender\": \"Female\"}, {\"species\": \"Chinstrap\", \"location\": \"Dream\", \"bill_length_mm\": 50.0, \"bill_depth_mm\": 19.5, \"flipper_length_mm\": 196.0, \"body_mass_g\": 3900.0, \"gender\": \"Male\"}, {\"species\": \"Chinstrap\", \"location\": \"Dream\", \"bill_length_mm\": 51.3, \"bill_depth_mm\": 19.2, \"flipper_length_mm\": 193.0, \"body_mass_g\": 3650.0, \"gender\": \"Male\"}, {\"species\": \"Chinstrap\", \"location\": \"Dream\", \"bill_length_mm\": 45.4, \"bill_depth_mm\": 18.7, \"flipper_length_mm\": 188.0, \"body_mass_g\": 3525.0, \"gender\": \"Female\"}, {\"species\": \"Chinstrap\", \"location\": \"Dream\", \"bill_length_mm\": 52.7, \"bill_depth_mm\": 19.8, \"flipper_length_mm\": 197.0, \"body_mass_g\": 3725.0, \"gender\": \"Male\"}, {\"species\": \"Chinstrap\", \"location\": \"Dream\", \"bill_length_mm\": 45.2, \"bill_depth_mm\": 17.8, \"flipper_length_mm\": 198.0, \"body_mass_g\": 3950.0, \"gender\": \"Female\"}, {\"species\": \"Chinstrap\", \"location\": \"Dream\", \"bill_length_mm\": 46.1, \"bill_depth_mm\": 18.2, \"flipper_length_mm\": 178.0, \"body_mass_g\": 3250.0, \"gender\": \"Female\"}, {\"species\": \"Chinstrap\", \"location\": \"Dream\", \"bill_length_mm\": 51.3, \"bill_depth_mm\": 18.2, \"flipper_length_mm\": 197.0, \"body_mass_g\": 3750.0, \"gender\": \"Male\"}, {\"species\": \"Chinstrap\", \"location\": \"Dream\", \"bill_length_mm\": 46.0, \"bill_depth_mm\": 18.9, \"flipper_length_mm\": 195.0, \"body_mass_g\": 4150.0, \"gender\": \"Female\"}, {\"species\": \"Chinstrap\", \"location\": \"Dream\", \"bill_length_mm\": 51.3, \"bill_depth_mm\": 19.9, \"flipper_length_mm\": 198.0, \"body_mass_g\": 3700.0, \"gender\": \"Male\"}, {\"species\": \"Chinstrap\", \"location\": \"Dream\", \"bill_length_mm\": 46.6, \"bill_depth_mm\": 17.8, \"flipper_length_mm\": 193.0, \"body_mass_g\": 3800.0, \"gender\": \"Female\"}, {\"species\": \"Chinstrap\", \"location\": \"Dream\", \"bill_length_mm\": 51.7, \"bill_depth_mm\": 20.3, \"flipper_length_mm\": 194.0, \"body_mass_g\": 3775.0, \"gender\": \"Male\"}, {\"species\": \"Chinstrap\", \"location\": \"Dream\", \"bill_length_mm\": 47.0, \"bill_depth_mm\": 17.3, \"flipper_length_mm\": 185.0, \"body_mass_g\": 3700.0, \"gender\": \"Female\"}, {\"species\": \"Chinstrap\", \"location\": \"Dream\", \"bill_length_mm\": 52.0, \"bill_depth_mm\": 18.1, \"flipper_length_mm\": 201.0, \"body_mass_g\": 4050.0, \"gender\": \"Male\"}, {\"species\": \"Chinstrap\", \"location\": \"Dream\", \"bill_length_mm\": 45.9, \"bill_depth_mm\": 17.1, \"flipper_length_mm\": 190.0, \"body_mass_g\": 3575.0, \"gender\": \"Female\"}, {\"species\": \"Chinstrap\", \"location\": \"Dream\", \"bill_length_mm\": 50.5, \"bill_depth_mm\": 19.6, \"flipper_length_mm\": 201.0, \"body_mass_g\": 4050.0, \"gender\": \"Male\"}, {\"species\": \"Chinstrap\", \"location\": \"Dream\", \"bill_length_mm\": 50.3, \"bill_depth_mm\": 20.0, \"flipper_length_mm\": 197.0, \"body_mass_g\": 3300.0, \"gender\": \"Male\"}, {\"species\": \"Chinstrap\", \"location\": \"Dream\", \"bill_length_mm\": 58.0, \"bill_depth_mm\": 17.8, \"flipper_length_mm\": 181.0, \"body_mass_g\": 3700.0, \"gender\": \"Female\"}, {\"species\": \"Chinstrap\", \"location\": \"Dream\", \"bill_length_mm\": 46.4, \"bill_depth_mm\": 18.6, \"flipper_length_mm\": 190.0, \"body_mass_g\": 3450.0, \"gender\": \"Female\"}, {\"species\": \"Chinstrap\", \"location\": \"Dream\", \"bill_length_mm\": 49.2, \"bill_depth_mm\": 18.2, \"flipper_length_mm\": 195.0, \"body_mass_g\": 4400.0, \"gender\": \"Male\"}, {\"species\": \"Chinstrap\", \"location\": \"Dream\", \"bill_length_mm\": 42.4, \"bill_depth_mm\": 17.3, \"flipper_length_mm\": 181.0, \"body_mass_g\": 3600.0, \"gender\": \"Female\"}, {\"species\": \"Chinstrap\", \"location\": \"Dream\", \"bill_length_mm\": 48.5, \"bill_depth_mm\": 17.5, \"flipper_length_mm\": 191.0, \"body_mass_g\": 3400.0, \"gender\": \"Male\"}, {\"species\": \"Chinstrap\", \"location\": \"Dream\", \"bill_length_mm\": 43.2, \"bill_depth_mm\": 16.6, \"flipper_length_mm\": 187.0, \"body_mass_g\": 2900.0, \"gender\": \"Female\"}, {\"species\": \"Chinstrap\", \"location\": \"Dream\", \"bill_length_mm\": 50.6, \"bill_depth_mm\": 19.4, \"flipper_length_mm\": 193.0, \"body_mass_g\": 3800.0, \"gender\": \"Male\"}, {\"species\": \"Chinstrap\", \"location\": \"Dream\", \"bill_length_mm\": 46.7, \"bill_depth_mm\": 17.9, \"flipper_length_mm\": 195.0, \"body_mass_g\": 3300.0, \"gender\": \"Female\"}, {\"species\": \"Chinstrap\", \"location\": \"Dream\", \"bill_length_mm\": 52.0, \"bill_depth_mm\": 19.0, \"flipper_length_mm\": 197.0, \"body_mass_g\": 4150.0, \"gender\": \"Male\"}, {\"species\": \"Chinstrap\", \"location\": \"Dream\", \"bill_length_mm\": 50.5, \"bill_depth_mm\": 18.4, \"flipper_length_mm\": 200.0, \"body_mass_g\": 3400.0, \"gender\": \"Female\"}, {\"species\": \"Chinstrap\", \"location\": \"Dream\", \"bill_length_mm\": 49.5, \"bill_depth_mm\": 19.0, \"flipper_length_mm\": 200.0, \"body_mass_g\": 3800.0, \"gender\": \"Male\"}, {\"species\": \"Chinstrap\", \"location\": \"Dream\", \"bill_length_mm\": 46.4, \"bill_depth_mm\": 17.8, \"flipper_length_mm\": 191.0, \"body_mass_g\": 3700.0, \"gender\": \"Female\"}, {\"species\": \"Chinstrap\", \"location\": \"Dream\", \"bill_length_mm\": 52.8, \"bill_depth_mm\": 20.0, \"flipper_length_mm\": 205.0, \"body_mass_g\": 4550.0, \"gender\": \"Male\"}, {\"species\": \"Chinstrap\", \"location\": \"Dream\", \"bill_length_mm\": 40.9, \"bill_depth_mm\": 16.6, \"flipper_length_mm\": 187.0, \"body_mass_g\": 3200.0, \"gender\": \"Female\"}, {\"species\": \"Chinstrap\", \"location\": \"Dream\", \"bill_length_mm\": 54.2, \"bill_depth_mm\": 20.8, \"flipper_length_mm\": 201.0, \"body_mass_g\": 4300.0, \"gender\": \"Male\"}, {\"species\": \"Chinstrap\", \"location\": \"Dream\", \"bill_length_mm\": 42.5, \"bill_depth_mm\": 16.7, \"flipper_length_mm\": 187.0, \"body_mass_g\": 3350.0, \"gender\": \"Female\"}, {\"species\": \"Chinstrap\", \"location\": \"Dream\", \"bill_length_mm\": 51.0, \"bill_depth_mm\": 18.8, \"flipper_length_mm\": 203.0, \"body_mass_g\": 4100.0, \"gender\": \"Male\"}, {\"species\": \"Chinstrap\", \"location\": \"Dream\", \"bill_length_mm\": 49.7, \"bill_depth_mm\": 18.6, \"flipper_length_mm\": 195.0, \"body_mass_g\": 3600.0, \"gender\": \"Male\"}, {\"species\": \"Chinstrap\", \"location\": \"Dream\", \"bill_length_mm\": 47.5, \"bill_depth_mm\": 16.8, \"flipper_length_mm\": 199.0, \"body_mass_g\": 3900.0, \"gender\": \"Female\"}, {\"species\": \"Chinstrap\", \"location\": \"Dream\", \"bill_length_mm\": 47.6, \"bill_depth_mm\": 18.3, \"flipper_length_mm\": 195.0, \"body_mass_g\": 3850.0, \"gender\": \"Female\"}, {\"species\": \"Chinstrap\", \"location\": \"Dream\", \"bill_length_mm\": 52.0, \"bill_depth_mm\": 20.7, \"flipper_length_mm\": 210.0, \"body_mass_g\": 4800.0, \"gender\": \"Male\"}, {\"species\": \"Chinstrap\", \"location\": \"Dream\", \"bill_length_mm\": 46.9, \"bill_depth_mm\": 16.6, \"flipper_length_mm\": 192.0, \"body_mass_g\": 2700.0, \"gender\": \"Female\"}, {\"species\": \"Chinstrap\", \"location\": \"Dream\", \"bill_length_mm\": 53.5, \"bill_depth_mm\": 19.9, \"flipper_length_mm\": 205.0, \"body_mass_g\": 4500.0, \"gender\": \"Male\"}, {\"species\": \"Chinstrap\", \"location\": \"Dream\", \"bill_length_mm\": 49.0, \"bill_depth_mm\": 19.5, \"flipper_length_mm\": 210.0, \"body_mass_g\": 3950.0, \"gender\": \"Male\"}, {\"species\": \"Chinstrap\", \"location\": \"Dream\", \"bill_length_mm\": 46.2, \"bill_depth_mm\": 17.5, \"flipper_length_mm\": 187.0, \"body_mass_g\": 3650.0, \"gender\": \"Female\"}, {\"species\": \"Chinstrap\", \"location\": \"Dream\", \"bill_length_mm\": 50.9, \"bill_depth_mm\": 19.1, \"flipper_length_mm\": 196.0, \"body_mass_g\": 3550.0, \"gender\": \"Male\"}, {\"species\": \"Chinstrap\", \"location\": \"Dream\", \"bill_length_mm\": 45.5, \"bill_depth_mm\": 17.0, \"flipper_length_mm\": 196.0, \"body_mass_g\": 3500.0, \"gender\": \"Female\"}, {\"species\": \"Chinstrap\", \"location\": \"Dream\", \"bill_length_mm\": 50.9, \"bill_depth_mm\": 17.9, \"flipper_length_mm\": 196.0, \"body_mass_g\": 3675.0, \"gender\": \"Female\"}, {\"species\": \"Chinstrap\", \"location\": \"Dream\", \"bill_length_mm\": 50.8, \"bill_depth_mm\": 18.5, \"flipper_length_mm\": 201.0, \"body_mass_g\": 4450.0, \"gender\": \"Male\"}, {\"species\": \"Chinstrap\", \"location\": \"Dream\", \"bill_length_mm\": 50.1, \"bill_depth_mm\": 17.9, \"flipper_length_mm\": 190.0, \"body_mass_g\": 3400.0, \"gender\": \"Female\"}, {\"species\": \"Chinstrap\", \"location\": \"Dream\", \"bill_length_mm\": 49.0, \"bill_depth_mm\": 19.6, \"flipper_length_mm\": 212.0, \"body_mass_g\": 4300.0, \"gender\": \"Male\"}, {\"species\": \"Chinstrap\", \"location\": \"Dream\", \"bill_length_mm\": 51.5, \"bill_depth_mm\": 18.7, \"flipper_length_mm\": 187.0, \"body_mass_g\": 3250.0, \"gender\": \"Male\"}, {\"species\": \"Chinstrap\", \"location\": \"Dream\", \"bill_length_mm\": 49.8, \"bill_depth_mm\": 17.3, \"flipper_length_mm\": 198.0, \"body_mass_g\": 3675.0, \"gender\": \"Female\"}, {\"species\": \"Chinstrap\", \"location\": \"Dream\", \"bill_length_mm\": 48.1, \"bill_depth_mm\": 16.4, \"flipper_length_mm\": 199.0, \"body_mass_g\": 3325.0, \"gender\": \"Female\"}, {\"species\": \"Chinstrap\", \"location\": \"Dream\", \"bill_length_mm\": 51.4, \"bill_depth_mm\": 19.0, \"flipper_length_mm\": 201.0, \"body_mass_g\": 3950.0, \"gender\": \"Male\"}, {\"species\": \"Chinstrap\", \"location\": \"Dream\", \"bill_length_mm\": 45.7, \"bill_depth_mm\": 17.3, \"flipper_length_mm\": 193.0, \"body_mass_g\": 3600.0, \"gender\": \"Female\"}, {\"species\": \"Chinstrap\", \"location\": \"Dream\", \"bill_length_mm\": 50.7, \"bill_depth_mm\": 19.7, \"flipper_length_mm\": 203.0, \"body_mass_g\": 4050.0, \"gender\": \"Male\"}, {\"species\": \"Chinstrap\", \"location\": \"Dream\", \"bill_length_mm\": 42.5, \"bill_depth_mm\": 17.3, \"flipper_length_mm\": 187.0, \"body_mass_g\": 3350.0, \"gender\": \"Female\"}, {\"species\": \"Chinstrap\", \"location\": \"Dream\", \"bill_length_mm\": 52.2, \"bill_depth_mm\": 18.8, \"flipper_length_mm\": 197.0, \"body_mass_g\": 3450.0, \"gender\": \"Male\"}, {\"species\": \"Chinstrap\", \"location\": \"Dream\", \"bill_length_mm\": 45.2, \"bill_depth_mm\": 16.6, \"flipper_length_mm\": 191.0, \"body_mass_g\": 3250.0, \"gender\": \"Female\"}, {\"species\": \"Chinstrap\", \"location\": \"Dream\", \"bill_length_mm\": 49.3, \"bill_depth_mm\": 19.9, \"flipper_length_mm\": 203.0, \"body_mass_g\": 4050.0, \"gender\": \"Male\"}, {\"species\": \"Chinstrap\", \"location\": \"Dream\", \"bill_length_mm\": 50.2, \"bill_depth_mm\": 18.8, \"flipper_length_mm\": 202.0, \"body_mass_g\": 3800.0, \"gender\": \"Male\"}, {\"species\": \"Chinstrap\", \"location\": \"Dream\", \"bill_length_mm\": 45.6, \"bill_depth_mm\": 19.4, \"flipper_length_mm\": 194.0, \"body_mass_g\": 3525.0, \"gender\": \"Female\"}, {\"species\": \"Chinstrap\", \"location\": \"Dream\", \"bill_length_mm\": 51.9, \"bill_depth_mm\": 19.5, \"flipper_length_mm\": 206.0, \"body_mass_g\": 3950.0, \"gender\": \"Male\"}, {\"species\": \"Chinstrap\", \"location\": \"Dream\", \"bill_length_mm\": 46.8, \"bill_depth_mm\": 16.5, \"flipper_length_mm\": 189.0, \"body_mass_g\": 3650.0, \"gender\": \"Female\"}, {\"species\": \"Chinstrap\", \"location\": \"Dream\", \"bill_length_mm\": 45.7, \"bill_depth_mm\": 17.0, \"flipper_length_mm\": 195.0, \"body_mass_g\": 3650.0, \"gender\": \"Female\"}, {\"species\": \"Chinstrap\", \"location\": \"Dream\", \"bill_length_mm\": 55.8, \"bill_depth_mm\": 19.8, \"flipper_length_mm\": 207.0, \"body_mass_g\": 4000.0, \"gender\": \"Male\"}, {\"species\": \"Chinstrap\", \"location\": \"Dream\", \"bill_length_mm\": 43.5, \"bill_depth_mm\": 18.1, \"flipper_length_mm\": 202.0, \"body_mass_g\": 3400.0, \"gender\": \"Female\"}, {\"species\": \"Chinstrap\", \"location\": \"Dream\", \"bill_length_mm\": 49.6, \"bill_depth_mm\": 18.2, \"flipper_length_mm\": 193.0, \"body_mass_g\": 3775.0, \"gender\": \"Male\"}, {\"species\": \"Chinstrap\", \"location\": \"Dream\", \"bill_length_mm\": 50.8, \"bill_depth_mm\": 19.0, \"flipper_length_mm\": 210.0, \"body_mass_g\": 4100.0, \"gender\": \"Male\"}, {\"species\": \"Chinstrap\", \"location\": \"Dream\", \"bill_length_mm\": 50.2, \"bill_depth_mm\": 18.7, \"flipper_length_mm\": 198.0, \"body_mass_g\": 3775.0, \"gender\": \"Female\"}, {\"species\": \"Gentoo\", \"location\": \"Biscoe\", \"bill_length_mm\": 46.1, \"bill_depth_mm\": 13.2, \"flipper_length_mm\": 211.0, \"body_mass_g\": 4500.0, \"gender\": \"Female\"}, {\"species\": \"Gentoo\", \"location\": \"Biscoe\", \"bill_length_mm\": 50.0, \"bill_depth_mm\": 16.3, \"flipper_length_mm\": 230.0, \"body_mass_g\": 5700.0, \"gender\": \"Male\"}, {\"species\": \"Gentoo\", \"location\": \"Biscoe\", \"bill_length_mm\": 48.7, \"bill_depth_mm\": 14.1, \"flipper_length_mm\": 210.0, \"body_mass_g\": 4450.0, \"gender\": \"Female\"}, {\"species\": \"Gentoo\", \"location\": \"Biscoe\", \"bill_length_mm\": 50.0, \"bill_depth_mm\": 15.2, \"flipper_length_mm\": 218.0, \"body_mass_g\": 5700.0, \"gender\": \"Male\"}, {\"species\": \"Gentoo\", \"location\": \"Biscoe\", \"bill_length_mm\": 47.6, \"bill_depth_mm\": 14.5, \"flipper_length_mm\": 215.0, \"body_mass_g\": 5400.0, \"gender\": \"Male\"}, {\"species\": \"Gentoo\", \"location\": \"Biscoe\", \"bill_length_mm\": 46.5, \"bill_depth_mm\": 13.5, \"flipper_length_mm\": 210.0, \"body_mass_g\": 4550.0, \"gender\": \"Female\"}, {\"species\": \"Gentoo\", \"location\": \"Biscoe\", \"bill_length_mm\": 45.4, \"bill_depth_mm\": 14.6, \"flipper_length_mm\": 211.0, \"body_mass_g\": 4800.0, \"gender\": \"Female\"}, {\"species\": \"Gentoo\", \"location\": \"Biscoe\", \"bill_length_mm\": 46.7, \"bill_depth_mm\": 15.3, \"flipper_length_mm\": 219.0, \"body_mass_g\": 5200.0, \"gender\": \"Male\"}, {\"species\": \"Gentoo\", \"location\": \"Biscoe\", \"bill_length_mm\": 43.3, \"bill_depth_mm\": 13.4, \"flipper_length_mm\": 209.0, \"body_mass_g\": 4400.0, \"gender\": \"Female\"}, {\"species\": \"Gentoo\", \"location\": \"Biscoe\", \"bill_length_mm\": 46.8, \"bill_depth_mm\": 15.4, \"flipper_length_mm\": 215.0, \"body_mass_g\": 5150.0, \"gender\": \"Male\"}, {\"species\": \"Gentoo\", \"location\": \"Biscoe\", \"bill_length_mm\": 40.9, \"bill_depth_mm\": 13.7, \"flipper_length_mm\": 214.0, \"body_mass_g\": 4650.0, \"gender\": \"Female\"}, {\"species\": \"Gentoo\", \"location\": \"Biscoe\", \"bill_length_mm\": 49.0, \"bill_depth_mm\": 16.1, \"flipper_length_mm\": 216.0, \"body_mass_g\": 5550.0, \"gender\": \"Male\"}, {\"species\": \"Gentoo\", \"location\": \"Biscoe\", \"bill_length_mm\": 45.5, \"bill_depth_mm\": 13.7, \"flipper_length_mm\": 214.0, \"body_mass_g\": 4650.0, \"gender\": \"Female\"}, {\"species\": \"Gentoo\", \"location\": \"Biscoe\", \"bill_length_mm\": 48.4, \"bill_depth_mm\": 14.6, \"flipper_length_mm\": 213.0, \"body_mass_g\": 5850.0, \"gender\": \"Male\"}, {\"species\": \"Gentoo\", \"location\": \"Biscoe\", \"bill_length_mm\": 45.8, \"bill_depth_mm\": 14.6, \"flipper_length_mm\": 210.0, \"body_mass_g\": 4200.0, \"gender\": \"Female\"}, {\"species\": \"Gentoo\", \"location\": \"Biscoe\", \"bill_length_mm\": 49.3, \"bill_depth_mm\": 15.7, \"flipper_length_mm\": 217.0, \"body_mass_g\": 5850.0, \"gender\": \"Male\"}, {\"species\": \"Gentoo\", \"location\": \"Biscoe\", \"bill_length_mm\": 42.0, \"bill_depth_mm\": 13.5, \"flipper_length_mm\": 210.0, \"body_mass_g\": 4150.0, \"gender\": \"Female\"}, {\"species\": \"Gentoo\", \"location\": \"Biscoe\", \"bill_length_mm\": 49.2, \"bill_depth_mm\": 15.2, \"flipper_length_mm\": 221.0, \"body_mass_g\": 6300.0, \"gender\": \"Male\"}, {\"species\": \"Gentoo\", \"location\": \"Biscoe\", \"bill_length_mm\": 46.2, \"bill_depth_mm\": 14.5, \"flipper_length_mm\": 209.0, \"body_mass_g\": 4800.0, \"gender\": \"Female\"}, {\"species\": \"Gentoo\", \"location\": \"Biscoe\", \"bill_length_mm\": 48.7, \"bill_depth_mm\": 15.1, \"flipper_length_mm\": 222.0, \"body_mass_g\": 5350.0, \"gender\": \"Male\"}, {\"species\": \"Gentoo\", \"location\": \"Biscoe\", \"bill_length_mm\": 50.2, \"bill_depth_mm\": 14.3, \"flipper_length_mm\": 218.0, \"body_mass_g\": 5700.0, \"gender\": \"Male\"}, {\"species\": \"Gentoo\", \"location\": \"Biscoe\", \"bill_length_mm\": 45.1, \"bill_depth_mm\": 14.5, \"flipper_length_mm\": 215.0, \"body_mass_g\": 5000.0, \"gender\": \"Female\"}, {\"species\": \"Gentoo\", \"location\": \"Biscoe\", \"bill_length_mm\": 46.5, \"bill_depth_mm\": 14.5, \"flipper_length_mm\": 213.0, \"body_mass_g\": 4400.0, \"gender\": \"Female\"}, {\"species\": \"Gentoo\", \"location\": \"Biscoe\", \"bill_length_mm\": 46.3, \"bill_depth_mm\": 15.8, \"flipper_length_mm\": 215.0, \"body_mass_g\": 5050.0, \"gender\": \"Male\"}, {\"species\": \"Gentoo\", \"location\": \"Biscoe\", \"bill_length_mm\": 42.9, \"bill_depth_mm\": 13.1, \"flipper_length_mm\": 215.0, \"body_mass_g\": 5000.0, \"gender\": \"Female\"}, {\"species\": \"Gentoo\", \"location\": \"Biscoe\", \"bill_length_mm\": 46.1, \"bill_depth_mm\": 15.1, \"flipper_length_mm\": 215.0, \"body_mass_g\": 5100.0, \"gender\": \"Male\"}, {\"species\": \"Gentoo\", \"location\": \"Biscoe\", \"bill_length_mm\": 47.8, \"bill_depth_mm\": 15.0, \"flipper_length_mm\": 215.0, \"body_mass_g\": 5650.0, \"gender\": \"Male\"}, {\"species\": \"Gentoo\", \"location\": \"Biscoe\", \"bill_length_mm\": 48.2, \"bill_depth_mm\": 14.3, \"flipper_length_mm\": 210.0, \"body_mass_g\": 4600.0, \"gender\": \"Female\"}, {\"species\": \"Gentoo\", \"location\": \"Biscoe\", \"bill_length_mm\": 50.0, \"bill_depth_mm\": 15.3, \"flipper_length_mm\": 220.0, \"body_mass_g\": 5550.0, \"gender\": \"Male\"}, {\"species\": \"Gentoo\", \"location\": \"Biscoe\", \"bill_length_mm\": 47.3, \"bill_depth_mm\": 15.3, \"flipper_length_mm\": 222.0, \"body_mass_g\": 5250.0, \"gender\": \"Male\"}, {\"species\": \"Gentoo\", \"location\": \"Biscoe\", \"bill_length_mm\": 42.8, \"bill_depth_mm\": 14.2, \"flipper_length_mm\": 209.0, \"body_mass_g\": 4700.0, \"gender\": \"Female\"}, {\"species\": \"Gentoo\", \"location\": \"Biscoe\", \"bill_length_mm\": 45.1, \"bill_depth_mm\": 14.5, \"flipper_length_mm\": 207.0, \"body_mass_g\": 5050.0, \"gender\": \"Female\"}, {\"species\": \"Gentoo\", \"location\": \"Biscoe\", \"bill_length_mm\": 59.6, \"bill_depth_mm\": 17.0, \"flipper_length_mm\": 230.0, \"body_mass_g\": 6050.0, \"gender\": \"Male\"}, {\"species\": \"Gentoo\", \"location\": \"Biscoe\", \"bill_length_mm\": 49.1, \"bill_depth_mm\": 14.8, \"flipper_length_mm\": 220.0, \"body_mass_g\": 5150.0, \"gender\": \"Female\"}, {\"species\": \"Gentoo\", \"location\": \"Biscoe\", \"bill_length_mm\": 48.4, \"bill_depth_mm\": 16.3, \"flipper_length_mm\": 220.0, \"body_mass_g\": 5400.0, \"gender\": \"Male\"}, {\"species\": \"Gentoo\", \"location\": \"Biscoe\", \"bill_length_mm\": 42.6, \"bill_depth_mm\": 13.7, \"flipper_length_mm\": 213.0, \"body_mass_g\": 4950.0, \"gender\": \"Female\"}, {\"species\": \"Gentoo\", \"location\": \"Biscoe\", \"bill_length_mm\": 44.4, \"bill_depth_mm\": 17.3, \"flipper_length_mm\": 219.0, \"body_mass_g\": 5250.0, \"gender\": \"Male\"}, {\"species\": \"Gentoo\", \"location\": \"Biscoe\", \"bill_length_mm\": 44.0, \"bill_depth_mm\": 13.6, \"flipper_length_mm\": 208.0, \"body_mass_g\": 4350.0, \"gender\": \"Female\"}, {\"species\": \"Gentoo\", \"location\": \"Biscoe\", \"bill_length_mm\": 48.7, \"bill_depth_mm\": 15.7, \"flipper_length_mm\": 208.0, \"body_mass_g\": 5350.0, \"gender\": \"Male\"}, {\"species\": \"Gentoo\", \"location\": \"Biscoe\", \"bill_length_mm\": 42.7, \"bill_depth_mm\": 13.7, \"flipper_length_mm\": 208.0, \"body_mass_g\": 3950.0, \"gender\": \"Female\"}, {\"species\": \"Gentoo\", \"location\": \"Biscoe\", \"bill_length_mm\": 49.6, \"bill_depth_mm\": 16.0, \"flipper_length_mm\": 225.0, \"body_mass_g\": 5700.0, \"gender\": \"Male\"}, {\"species\": \"Gentoo\", \"location\": \"Biscoe\", \"bill_length_mm\": 45.3, \"bill_depth_mm\": 13.7, \"flipper_length_mm\": 210.0, \"body_mass_g\": 4300.0, \"gender\": \"Female\"}, {\"species\": \"Gentoo\", \"location\": \"Biscoe\", \"bill_length_mm\": 49.6, \"bill_depth_mm\": 15.0, \"flipper_length_mm\": 216.0, \"body_mass_g\": 4750.0, \"gender\": \"Male\"}, {\"species\": \"Gentoo\", \"location\": \"Biscoe\", \"bill_length_mm\": 50.5, \"bill_depth_mm\": 15.9, \"flipper_length_mm\": 222.0, \"body_mass_g\": 5550.0, \"gender\": \"Male\"}, {\"species\": \"Gentoo\", \"location\": \"Biscoe\", \"bill_length_mm\": 43.6, \"bill_depth_mm\": 13.9, \"flipper_length_mm\": 217.0, \"body_mass_g\": 4900.0, \"gender\": \"Female\"}, {\"species\": \"Gentoo\", \"location\": \"Biscoe\", \"bill_length_mm\": 45.5, \"bill_depth_mm\": 13.9, \"flipper_length_mm\": 210.0, \"body_mass_g\": 4200.0, \"gender\": \"Female\"}, {\"species\": \"Gentoo\", \"location\": \"Biscoe\", \"bill_length_mm\": 50.5, \"bill_depth_mm\": 15.9, \"flipper_length_mm\": 225.0, \"body_mass_g\": 5400.0, \"gender\": \"Male\"}, {\"species\": \"Gentoo\", \"location\": \"Biscoe\", \"bill_length_mm\": 44.9, \"bill_depth_mm\": 13.3, \"flipper_length_mm\": 213.0, \"body_mass_g\": 5100.0, \"gender\": \"Female\"}, {\"species\": \"Gentoo\", \"location\": \"Biscoe\", \"bill_length_mm\": 45.2, \"bill_depth_mm\": 15.8, \"flipper_length_mm\": 215.0, \"body_mass_g\": 5300.0, \"gender\": \"Male\"}, {\"species\": \"Gentoo\", \"location\": \"Biscoe\", \"bill_length_mm\": 46.6, \"bill_depth_mm\": 14.2, \"flipper_length_mm\": 210.0, \"body_mass_g\": 4850.0, \"gender\": \"Female\"}, {\"species\": \"Gentoo\", \"location\": \"Biscoe\", \"bill_length_mm\": 48.5, \"bill_depth_mm\": 14.1, \"flipper_length_mm\": 220.0, \"body_mass_g\": 5300.0, \"gender\": \"Male\"}, {\"species\": \"Gentoo\", \"location\": \"Biscoe\", \"bill_length_mm\": 45.1, \"bill_depth_mm\": 14.4, \"flipper_length_mm\": 210.0, \"body_mass_g\": 4400.0, \"gender\": \"Female\"}, {\"species\": \"Gentoo\", \"location\": \"Biscoe\", \"bill_length_mm\": 50.1, \"bill_depth_mm\": 15.0, \"flipper_length_mm\": 225.0, \"body_mass_g\": 5000.0, \"gender\": \"Male\"}, {\"species\": \"Gentoo\", \"location\": \"Biscoe\", \"bill_length_mm\": 46.5, \"bill_depth_mm\": 14.4, \"flipper_length_mm\": 217.0, \"body_mass_g\": 4900.0, \"gender\": \"Female\"}, {\"species\": \"Gentoo\", \"location\": \"Biscoe\", \"bill_length_mm\": 45.0, \"bill_depth_mm\": 15.4, \"flipper_length_mm\": 220.0, \"body_mass_g\": 5050.0, \"gender\": \"Male\"}, {\"species\": \"Gentoo\", \"location\": \"Biscoe\", \"bill_length_mm\": 43.8, \"bill_depth_mm\": 13.9, \"flipper_length_mm\": 208.0, \"body_mass_g\": 4300.0, \"gender\": \"Female\"}, {\"species\": \"Gentoo\", \"location\": \"Biscoe\", \"bill_length_mm\": 45.5, \"bill_depth_mm\": 15.0, \"flipper_length_mm\": 220.0, \"body_mass_g\": 5000.0, \"gender\": \"Male\"}, {\"species\": \"Gentoo\", \"location\": \"Biscoe\", \"bill_length_mm\": 43.2, \"bill_depth_mm\": 14.5, \"flipper_length_mm\": 208.0, \"body_mass_g\": 4450.0, \"gender\": \"Female\"}, {\"species\": \"Gentoo\", \"location\": \"Biscoe\", \"bill_length_mm\": 50.4, \"bill_depth_mm\": 15.3, \"flipper_length_mm\": 224.0, \"body_mass_g\": 5550.0, \"gender\": \"Male\"}, {\"species\": \"Gentoo\", \"location\": \"Biscoe\", \"bill_length_mm\": 45.3, \"bill_depth_mm\": 13.8, \"flipper_length_mm\": 208.0, \"body_mass_g\": 4200.0, \"gender\": \"Female\"}, {\"species\": \"Gentoo\", \"location\": \"Biscoe\", \"bill_length_mm\": 46.2, \"bill_depth_mm\": 14.9, \"flipper_length_mm\": 221.0, \"body_mass_g\": 5300.0, \"gender\": \"Male\"}, {\"species\": \"Gentoo\", \"location\": \"Biscoe\", \"bill_length_mm\": 45.7, \"bill_depth_mm\": 13.9, \"flipper_length_mm\": 214.0, \"body_mass_g\": 4400.0, \"gender\": \"Female\"}, {\"species\": \"Gentoo\", \"location\": \"Biscoe\", \"bill_length_mm\": 54.3, \"bill_depth_mm\": 15.7, \"flipper_length_mm\": 231.0, \"body_mass_g\": 5650.0, \"gender\": \"Male\"}, {\"species\": \"Gentoo\", \"location\": \"Biscoe\", \"bill_length_mm\": 45.8, \"bill_depth_mm\": 14.2, \"flipper_length_mm\": 219.0, \"body_mass_g\": 4700.0, \"gender\": \"Female\"}, {\"species\": \"Gentoo\", \"location\": \"Biscoe\", \"bill_length_mm\": 49.8, \"bill_depth_mm\": 16.8, \"flipper_length_mm\": 230.0, \"body_mass_g\": 5700.0, \"gender\": \"Male\"}, {\"species\": \"Gentoo\", \"location\": \"Biscoe\", \"bill_length_mm\": 49.5, \"bill_depth_mm\": 16.2, \"flipper_length_mm\": 229.0, \"body_mass_g\": 5800.0, \"gender\": \"Male\"}, {\"species\": \"Gentoo\", \"location\": \"Biscoe\", \"bill_length_mm\": 43.5, \"bill_depth_mm\": 14.2, \"flipper_length_mm\": 220.0, \"body_mass_g\": 4700.0, \"gender\": \"Female\"}, {\"species\": \"Gentoo\", \"location\": \"Biscoe\", \"bill_length_mm\": 50.7, \"bill_depth_mm\": 15.0, \"flipper_length_mm\": 223.0, \"body_mass_g\": 5550.0, \"gender\": \"Male\"}, {\"species\": \"Gentoo\", \"location\": \"Biscoe\", \"bill_length_mm\": 47.7, \"bill_depth_mm\": 15.0, \"flipper_length_mm\": 216.0, \"body_mass_g\": 4750.0, \"gender\": \"Female\"}, {\"species\": \"Gentoo\", \"location\": \"Biscoe\", \"bill_length_mm\": 46.4, \"bill_depth_mm\": 15.6, \"flipper_length_mm\": 221.0, \"body_mass_g\": 5000.0, \"gender\": \"Male\"}, {\"species\": \"Gentoo\", \"location\": \"Biscoe\", \"bill_length_mm\": 48.2, \"bill_depth_mm\": 15.6, \"flipper_length_mm\": 221.0, \"body_mass_g\": 5100.0, \"gender\": \"Male\"}, {\"species\": \"Gentoo\", \"location\": \"Biscoe\", \"bill_length_mm\": 46.5, \"bill_depth_mm\": 14.8, \"flipper_length_mm\": 217.0, \"body_mass_g\": 5200.0, \"gender\": \"Female\"}, {\"species\": \"Gentoo\", \"location\": \"Biscoe\", \"bill_length_mm\": 46.4, \"bill_depth_mm\": 15.0, \"flipper_length_mm\": 216.0, \"body_mass_g\": 4700.0, \"gender\": \"Female\"}, {\"species\": \"Gentoo\", \"location\": \"Biscoe\", \"bill_length_mm\": 48.6, \"bill_depth_mm\": 16.0, \"flipper_length_mm\": 230.0, \"body_mass_g\": 5800.0, \"gender\": \"Male\"}, {\"species\": \"Gentoo\", \"location\": \"Biscoe\", \"bill_length_mm\": 47.5, \"bill_depth_mm\": 14.2, \"flipper_length_mm\": 209.0, \"body_mass_g\": 4600.0, \"gender\": \"Female\"}, {\"species\": \"Gentoo\", \"location\": \"Biscoe\", \"bill_length_mm\": 51.1, \"bill_depth_mm\": 16.3, \"flipper_length_mm\": 220.0, \"body_mass_g\": 6000.0, \"gender\": \"Male\"}, {\"species\": \"Gentoo\", \"location\": \"Biscoe\", \"bill_length_mm\": 45.2, \"bill_depth_mm\": 13.8, \"flipper_length_mm\": 215.0, \"body_mass_g\": 4750.0, \"gender\": \"Female\"}, {\"species\": \"Gentoo\", \"location\": \"Biscoe\", \"bill_length_mm\": 45.2, \"bill_depth_mm\": 16.4, \"flipper_length_mm\": 223.0, \"body_mass_g\": 5950.0, \"gender\": \"Male\"}, {\"species\": \"Gentoo\", \"location\": \"Biscoe\", \"bill_length_mm\": 49.1, \"bill_depth_mm\": 14.5, \"flipper_length_mm\": 212.0, \"body_mass_g\": 4625.0, \"gender\": \"Female\"}, {\"species\": \"Gentoo\", \"location\": \"Biscoe\", \"bill_length_mm\": 52.5, \"bill_depth_mm\": 15.6, \"flipper_length_mm\": 221.0, \"body_mass_g\": 5450.0, \"gender\": \"Male\"}, {\"species\": \"Gentoo\", \"location\": \"Biscoe\", \"bill_length_mm\": 47.4, \"bill_depth_mm\": 14.6, \"flipper_length_mm\": 212.0, \"body_mass_g\": 4725.0, \"gender\": \"Female\"}, {\"species\": \"Gentoo\", \"location\": \"Biscoe\", \"bill_length_mm\": 50.0, \"bill_depth_mm\": 15.9, \"flipper_length_mm\": 224.0, \"body_mass_g\": 5350.0, \"gender\": \"Male\"}, {\"species\": \"Gentoo\", \"location\": \"Biscoe\", \"bill_length_mm\": 44.9, \"bill_depth_mm\": 13.8, \"flipper_length_mm\": 212.0, \"body_mass_g\": 4750.0, \"gender\": \"Female\"}, {\"species\": \"Gentoo\", \"location\": \"Biscoe\", \"bill_length_mm\": 50.8, \"bill_depth_mm\": 17.3, \"flipper_length_mm\": 228.0, \"body_mass_g\": 5600.0, \"gender\": \"Male\"}, {\"species\": \"Gentoo\", \"location\": \"Biscoe\", \"bill_length_mm\": 43.4, \"bill_depth_mm\": 14.4, \"flipper_length_mm\": 218.0, \"body_mass_g\": 4600.0, \"gender\": \"Female\"}, {\"species\": \"Gentoo\", \"location\": \"Biscoe\", \"bill_length_mm\": 51.3, \"bill_depth_mm\": 14.2, \"flipper_length_mm\": 218.0, \"body_mass_g\": 5300.0, \"gender\": \"Male\"}, {\"species\": \"Gentoo\", \"location\": \"Biscoe\", \"bill_length_mm\": 47.5, \"bill_depth_mm\": 14.0, \"flipper_length_mm\": 212.0, \"body_mass_g\": 4875.0, \"gender\": \"Female\"}, {\"species\": \"Gentoo\", \"location\": \"Biscoe\", \"bill_length_mm\": 52.1, \"bill_depth_mm\": 17.0, \"flipper_length_mm\": 230.0, \"body_mass_g\": 5550.0, \"gender\": \"Male\"}, {\"species\": \"Gentoo\", \"location\": \"Biscoe\", \"bill_length_mm\": 47.5, \"bill_depth_mm\": 15.0, \"flipper_length_mm\": 218.0, \"body_mass_g\": 4950.0, \"gender\": \"Female\"}, {\"species\": \"Gentoo\", \"location\": \"Biscoe\", \"bill_length_mm\": 52.2, \"bill_depth_mm\": 17.1, \"flipper_length_mm\": 228.0, \"body_mass_g\": 5400.0, \"gender\": \"Male\"}, {\"species\": \"Gentoo\", \"location\": \"Biscoe\", \"bill_length_mm\": 45.5, \"bill_depth_mm\": 14.5, \"flipper_length_mm\": 212.0, \"body_mass_g\": 4750.0, \"gender\": \"Female\"}, {\"species\": \"Gentoo\", \"location\": \"Biscoe\", \"bill_length_mm\": 49.5, \"bill_depth_mm\": 16.1, \"flipper_length_mm\": 224.0, \"body_mass_g\": 5650.0, \"gender\": \"Male\"}, {\"species\": \"Gentoo\", \"location\": \"Biscoe\", \"bill_length_mm\": 44.5, \"bill_depth_mm\": 14.7, \"flipper_length_mm\": 214.0, \"body_mass_g\": 4850.0, \"gender\": \"Female\"}, {\"species\": \"Gentoo\", \"location\": \"Biscoe\", \"bill_length_mm\": 50.8, \"bill_depth_mm\": 15.7, \"flipper_length_mm\": 226.0, \"body_mass_g\": 5200.0, \"gender\": \"Male\"}, {\"species\": \"Gentoo\", \"location\": \"Biscoe\", \"bill_length_mm\": 49.4, \"bill_depth_mm\": 15.8, \"flipper_length_mm\": 216.0, \"body_mass_g\": 4925.0, \"gender\": \"Male\"}, {\"species\": \"Gentoo\", \"location\": \"Biscoe\", \"bill_length_mm\": 46.9, \"bill_depth_mm\": 14.6, \"flipper_length_mm\": 222.0, \"body_mass_g\": 4875.0, \"gender\": \"Female\"}, {\"species\": \"Gentoo\", \"location\": \"Biscoe\", \"bill_length_mm\": 48.4, \"bill_depth_mm\": 14.4, \"flipper_length_mm\": 203.0, \"body_mass_g\": 4625.0, \"gender\": \"Female\"}, {\"species\": \"Gentoo\", \"location\": \"Biscoe\", \"bill_length_mm\": 51.1, \"bill_depth_mm\": 16.5, \"flipper_length_mm\": 225.0, \"body_mass_g\": 5250.0, \"gender\": \"Male\"}, {\"species\": \"Gentoo\", \"location\": \"Biscoe\", \"bill_length_mm\": 48.5, \"bill_depth_mm\": 15.0, \"flipper_length_mm\": 219.0, \"body_mass_g\": 4850.0, \"gender\": \"Female\"}, {\"species\": \"Gentoo\", \"location\": \"Biscoe\", \"bill_length_mm\": 55.9, \"bill_depth_mm\": 17.0, \"flipper_length_mm\": 228.0, \"body_mass_g\": 5600.0, \"gender\": \"Male\"}, {\"species\": \"Gentoo\", \"location\": \"Biscoe\", \"bill_length_mm\": 47.2, \"bill_depth_mm\": 15.5, \"flipper_length_mm\": 215.0, \"body_mass_g\": 4975.0, \"gender\": \"Female\"}, {\"species\": \"Gentoo\", \"location\": \"Biscoe\", \"bill_length_mm\": 49.1, \"bill_depth_mm\": 15.0, \"flipper_length_mm\": 228.0, \"body_mass_g\": 5500.0, \"gender\": \"Male\"}, {\"species\": \"Gentoo\", \"location\": \"Biscoe\", \"bill_length_mm\": 46.8, \"bill_depth_mm\": 16.1, \"flipper_length_mm\": 215.0, \"body_mass_g\": 5500.0, \"gender\": \"Male\"}, {\"species\": \"Gentoo\", \"location\": \"Biscoe\", \"bill_length_mm\": 41.7, \"bill_depth_mm\": 14.7, \"flipper_length_mm\": 210.0, \"body_mass_g\": 4700.0, \"gender\": \"Female\"}, {\"species\": \"Gentoo\", \"location\": \"Biscoe\", \"bill_length_mm\": 53.4, \"bill_depth_mm\": 15.8, \"flipper_length_mm\": 219.0, \"body_mass_g\": 5500.0, \"gender\": \"Male\"}, {\"species\": \"Gentoo\", \"location\": \"Biscoe\", \"bill_length_mm\": 43.3, \"bill_depth_mm\": 14.0, \"flipper_length_mm\": 208.0, \"body_mass_g\": 4575.0, \"gender\": \"Female\"}, {\"species\": \"Gentoo\", \"location\": \"Biscoe\", \"bill_length_mm\": 48.1, \"bill_depth_mm\": 15.1, \"flipper_length_mm\": 209.0, \"body_mass_g\": 5500.0, \"gender\": \"Male\"}, {\"species\": \"Gentoo\", \"location\": \"Biscoe\", \"bill_length_mm\": 50.5, \"bill_depth_mm\": 15.2, \"flipper_length_mm\": 216.0, \"body_mass_g\": 5000.0, \"gender\": \"Female\"}, {\"species\": \"Gentoo\", \"location\": \"Biscoe\", \"bill_length_mm\": 49.8, \"bill_depth_mm\": 15.9, \"flipper_length_mm\": 229.0, \"body_mass_g\": 5950.0, \"gender\": \"Male\"}, {\"species\": \"Gentoo\", \"location\": \"Biscoe\", \"bill_length_mm\": 43.5, \"bill_depth_mm\": 15.2, \"flipper_length_mm\": 213.0, \"body_mass_g\": 4650.0, \"gender\": \"Female\"}, {\"species\": \"Gentoo\", \"location\": \"Biscoe\", \"bill_length_mm\": 51.5, \"bill_depth_mm\": 16.3, \"flipper_length_mm\": 230.0, \"body_mass_g\": 5500.0, \"gender\": \"Male\"}, {\"species\": \"Gentoo\", \"location\": \"Biscoe\", \"bill_length_mm\": 46.2, \"bill_depth_mm\": 14.1, \"flipper_length_mm\": 217.0, \"body_mass_g\": 4375.0, \"gender\": \"Female\"}, {\"species\": \"Gentoo\", \"location\": \"Biscoe\", \"bill_length_mm\": 55.1, \"bill_depth_mm\": 16.0, \"flipper_length_mm\": 230.0, \"body_mass_g\": 5850.0, \"gender\": \"Male\"}, {\"species\": \"Gentoo\", \"location\": \"Biscoe\", \"bill_length_mm\": 48.8, \"bill_depth_mm\": 16.2, \"flipper_length_mm\": 222.0, \"body_mass_g\": 6000.0, \"gender\": \"Male\"}, {\"species\": \"Gentoo\", \"location\": \"Biscoe\", \"bill_length_mm\": 47.2, \"bill_depth_mm\": 13.7, \"flipper_length_mm\": 214.0, \"body_mass_g\": 4925.0, \"gender\": \"Female\"}, {\"species\": \"Gentoo\", \"location\": \"Biscoe\", \"bill_length_mm\": 46.8, \"bill_depth_mm\": 14.3, \"flipper_length_mm\": 215.0, \"body_mass_g\": 4850.0, \"gender\": \"Female\"}, {\"species\": \"Gentoo\", \"location\": \"Biscoe\", \"bill_length_mm\": 50.4, \"bill_depth_mm\": 15.7, \"flipper_length_mm\": 222.0, \"body_mass_g\": 5750.0, \"gender\": \"Male\"}, {\"species\": \"Gentoo\", \"location\": \"Biscoe\", \"bill_length_mm\": 45.2, \"bill_depth_mm\": 14.8, \"flipper_length_mm\": 212.0, \"body_mass_g\": 5200.0, \"gender\": \"Female\"}, {\"species\": \"Gentoo\", \"location\": \"Biscoe\", \"bill_length_mm\": 49.9, \"bill_depth_mm\": 16.1, \"flipper_length_mm\": 213.0, \"body_mass_g\": 5400.0, \"gender\": \"Male\"}]}}, {\"mode\": \"vega-lite\"});\n",
       "</script>"
      ],
      "text/plain": [
       "alt.Chart(...)"
      ]
     },
     "execution_count": 31,
     "metadata": {},
     "output_type": "execute_result"
    }
   ],
   "source": [
    "# old syntax, didn't pip install today\n",
    "alt.Chart(df).mark_circle().encode(\n",
    "    x=alt.X(\"bill_length_mm\", scale=alt.Scale(domain=(30,60))),\n",
    "    y=alt.Y(\"flipper_length_mm\", scale=alt.Scale(domain=(170,240))),\n",
    "    color=\"species\"\n",
    ")"
   ]
  },
  {
   "cell_type": "markdown",
   "metadata": {
    "cell_id": "20515afe52fd4a138519ef911cb05eec",
    "deepnote_cell_type": "markdown"
   },
   "source": [
    "* What data encoding type makes the most sense for \"species\", Quantitative, Ordinal, or Nominal?  Does adding that abbreviation it change the appearance of the chart?"
   ]
  },
  {
   "cell_type": "markdown",
   "metadata": {},
   "source": [
    "Changing from `\"species\"` to `\"species:N\"` does not have any effect, because when there are strings in the column, Altair automatically defaults to a Nominal data type."
   ]
  },
  {
   "cell_type": "code",
   "execution_count": 32,
   "metadata": {
    "cell_id": "1a182c172f7d47fda0b46538520500c8",
    "deepnote_cell_type": "code",
    "deepnote_to_be_reexecuted": false,
    "execution_millis": 21,
    "execution_start": 1682109575879,
    "source_hash": "1cff9777"
   },
   "outputs": [
    {
     "data": {
      "text/html": [
       "\n",
       "<div id=\"altair-viz-049067c467fe437a83e2017b6a35236d\"></div>\n",
       "<script type=\"text/javascript\">\n",
       "  var VEGA_DEBUG = (typeof VEGA_DEBUG == \"undefined\") ? {} : VEGA_DEBUG;\n",
       "  (function(spec, embedOpt){\n",
       "    let outputDiv = document.currentScript.previousElementSibling;\n",
       "    if (outputDiv.id !== \"altair-viz-049067c467fe437a83e2017b6a35236d\") {\n",
       "      outputDiv = document.getElementById(\"altair-viz-049067c467fe437a83e2017b6a35236d\");\n",
       "    }\n",
       "    const paths = {\n",
       "      \"vega\": \"https://cdn.jsdelivr.net/npm//vega@5?noext\",\n",
       "      \"vega-lib\": \"https://cdn.jsdelivr.net/npm//vega-lib?noext\",\n",
       "      \"vega-lite\": \"https://cdn.jsdelivr.net/npm//vega-lite@4.17.0?noext\",\n",
       "      \"vega-embed\": \"https://cdn.jsdelivr.net/npm//vega-embed@6?noext\",\n",
       "    };\n",
       "\n",
       "    function maybeLoadScript(lib, version) {\n",
       "      var key = `${lib.replace(\"-\", \"\")}_version`;\n",
       "      return (VEGA_DEBUG[key] == version) ?\n",
       "        Promise.resolve(paths[lib]) :\n",
       "        new Promise(function(resolve, reject) {\n",
       "          var s = document.createElement('script');\n",
       "          document.getElementsByTagName(\"head\")[0].appendChild(s);\n",
       "          s.async = true;\n",
       "          s.onload = () => {\n",
       "            VEGA_DEBUG[key] = version;\n",
       "            return resolve(paths[lib]);\n",
       "          };\n",
       "          s.onerror = () => reject(`Error loading script: ${paths[lib]}`);\n",
       "          s.src = paths[lib];\n",
       "        });\n",
       "    }\n",
       "\n",
       "    function showError(err) {\n",
       "      outputDiv.innerHTML = `<div class=\"error\" style=\"color:red;\">${err}</div>`;\n",
       "      throw err;\n",
       "    }\n",
       "\n",
       "    function displayChart(vegaEmbed) {\n",
       "      vegaEmbed(outputDiv, spec, embedOpt)\n",
       "        .catch(err => showError(`Javascript Error: ${err.message}<br>This usually means there's a typo in your chart specification. See the javascript console for the full traceback.`));\n",
       "    }\n",
       "\n",
       "    if(typeof define === \"function\" && define.amd) {\n",
       "      requirejs.config({paths});\n",
       "      require([\"vega-embed\"], displayChart, err => showError(`Error loading script: ${err.message}`));\n",
       "    } else {\n",
       "      maybeLoadScript(\"vega\", \"5\")\n",
       "        .then(() => maybeLoadScript(\"vega-lite\", \"4.17.0\"))\n",
       "        .then(() => maybeLoadScript(\"vega-embed\", \"6\"))\n",
       "        .catch(showError)\n",
       "        .then(() => displayChart(vegaEmbed));\n",
       "    }\n",
       "  })({\"config\": {\"view\": {\"continuousWidth\": 400, \"continuousHeight\": 300}}, \"data\": {\"name\": \"data-a7bc2cc87e28b8bb84b0376a27fad733\"}, \"mark\": \"circle\", \"encoding\": {\"color\": {\"field\": \"species\", \"type\": \"nominal\"}, \"x\": {\"field\": \"bill_length_mm\", \"scale\": {\"domain\": [30, 60]}, \"type\": \"quantitative\"}, \"y\": {\"field\": \"flipper_length_mm\", \"scale\": {\"domain\": [170, 240]}, \"type\": \"quantitative\"}}, \"$schema\": \"https://vega.github.io/schema/vega-lite/v4.17.0.json\", \"datasets\": {\"data-a7bc2cc87e28b8bb84b0376a27fad733\": [{\"species\": \"Adelie\", \"location\": \"Torgersen\", \"bill_length_mm\": 39.1, \"bill_depth_mm\": 18.7, \"flipper_length_mm\": 181.0, \"body_mass_g\": 3750.0, \"gender\": \"Male\"}, {\"species\": \"Adelie\", \"location\": \"Torgersen\", \"bill_length_mm\": 39.5, \"bill_depth_mm\": 17.4, \"flipper_length_mm\": 186.0, \"body_mass_g\": 3800.0, \"gender\": \"Female\"}, {\"species\": \"Adelie\", \"location\": \"Torgersen\", \"bill_length_mm\": 40.3, \"bill_depth_mm\": 18.0, \"flipper_length_mm\": 195.0, \"body_mass_g\": 3250.0, \"gender\": \"Female\"}, {\"species\": \"Adelie\", \"location\": \"Torgersen\", \"bill_length_mm\": 36.7, \"bill_depth_mm\": 19.3, \"flipper_length_mm\": 193.0, \"body_mass_g\": 3450.0, \"gender\": \"Female\"}, {\"species\": \"Adelie\", \"location\": \"Torgersen\", \"bill_length_mm\": 39.3, \"bill_depth_mm\": 20.6, \"flipper_length_mm\": 190.0, \"body_mass_g\": 3650.0, \"gender\": \"Male\"}, {\"species\": \"Adelie\", \"location\": \"Torgersen\", \"bill_length_mm\": 38.9, \"bill_depth_mm\": 17.8, \"flipper_length_mm\": 181.0, \"body_mass_g\": 3625.0, \"gender\": \"Female\"}, {\"species\": \"Adelie\", \"location\": \"Torgersen\", \"bill_length_mm\": 39.2, \"bill_depth_mm\": 19.6, \"flipper_length_mm\": 195.0, \"body_mass_g\": 4675.0, \"gender\": \"Male\"}, {\"species\": \"Adelie\", \"location\": \"Torgersen\", \"bill_length_mm\": 41.1, \"bill_depth_mm\": 17.6, \"flipper_length_mm\": 182.0, \"body_mass_g\": 3200.0, \"gender\": \"Female\"}, {\"species\": \"Adelie\", \"location\": \"Torgersen\", \"bill_length_mm\": 38.6, \"bill_depth_mm\": 21.2, \"flipper_length_mm\": 191.0, \"body_mass_g\": 3800.0, \"gender\": \"Male\"}, {\"species\": \"Adelie\", \"location\": \"Torgersen\", \"bill_length_mm\": 34.6, \"bill_depth_mm\": 21.1, \"flipper_length_mm\": 198.0, \"body_mass_g\": 4400.0, \"gender\": \"Male\"}, {\"species\": \"Adelie\", \"location\": \"Torgersen\", \"bill_length_mm\": 36.6, \"bill_depth_mm\": 17.8, \"flipper_length_mm\": 185.0, \"body_mass_g\": 3700.0, \"gender\": \"Female\"}, {\"species\": \"Adelie\", \"location\": \"Torgersen\", \"bill_length_mm\": 38.7, \"bill_depth_mm\": 19.0, \"flipper_length_mm\": 195.0, \"body_mass_g\": 3450.0, \"gender\": \"Female\"}, {\"species\": \"Adelie\", \"location\": \"Torgersen\", \"bill_length_mm\": 42.5, \"bill_depth_mm\": 20.7, \"flipper_length_mm\": 197.0, \"body_mass_g\": 4500.0, \"gender\": \"Male\"}, {\"species\": \"Adelie\", \"location\": \"Torgersen\", \"bill_length_mm\": 34.4, \"bill_depth_mm\": 18.4, \"flipper_length_mm\": 184.0, \"body_mass_g\": 3325.0, \"gender\": \"Female\"}, {\"species\": \"Adelie\", \"location\": \"Torgersen\", \"bill_length_mm\": 46.0, \"bill_depth_mm\": 21.5, \"flipper_length_mm\": 194.0, \"body_mass_g\": 4200.0, \"gender\": \"Male\"}, {\"species\": \"Adelie\", \"location\": \"Biscoe\", \"bill_length_mm\": 37.8, \"bill_depth_mm\": 18.3, \"flipper_length_mm\": 174.0, \"body_mass_g\": 3400.0, \"gender\": \"Female\"}, {\"species\": \"Adelie\", \"location\": \"Biscoe\", \"bill_length_mm\": 37.7, \"bill_depth_mm\": 18.7, \"flipper_length_mm\": 180.0, \"body_mass_g\": 3600.0, \"gender\": \"Male\"}, {\"species\": \"Adelie\", \"location\": \"Biscoe\", \"bill_length_mm\": 35.9, \"bill_depth_mm\": 19.2, \"flipper_length_mm\": 189.0, \"body_mass_g\": 3800.0, \"gender\": \"Female\"}, {\"species\": \"Adelie\", \"location\": \"Biscoe\", \"bill_length_mm\": 38.2, \"bill_depth_mm\": 18.1, \"flipper_length_mm\": 185.0, \"body_mass_g\": 3950.0, \"gender\": \"Male\"}, {\"species\": \"Adelie\", \"location\": \"Biscoe\", \"bill_length_mm\": 38.8, \"bill_depth_mm\": 17.2, \"flipper_length_mm\": 180.0, \"body_mass_g\": 3800.0, \"gender\": \"Male\"}, {\"species\": \"Adelie\", \"location\": \"Biscoe\", \"bill_length_mm\": 35.3, \"bill_depth_mm\": 18.9, \"flipper_length_mm\": 187.0, \"body_mass_g\": 3800.0, \"gender\": \"Female\"}, {\"species\": \"Adelie\", \"location\": \"Biscoe\", \"bill_length_mm\": 40.6, \"bill_depth_mm\": 18.6, \"flipper_length_mm\": 183.0, \"body_mass_g\": 3550.0, \"gender\": \"Male\"}, {\"species\": \"Adelie\", \"location\": \"Biscoe\", \"bill_length_mm\": 40.5, \"bill_depth_mm\": 17.9, \"flipper_length_mm\": 187.0, \"body_mass_g\": 3200.0, \"gender\": \"Female\"}, {\"species\": \"Adelie\", \"location\": \"Biscoe\", \"bill_length_mm\": 37.9, \"bill_depth_mm\": 18.6, \"flipper_length_mm\": 172.0, \"body_mass_g\": 3150.0, \"gender\": \"Female\"}, {\"species\": \"Adelie\", \"location\": \"Biscoe\", \"bill_length_mm\": 40.5, \"bill_depth_mm\": 18.9, \"flipper_length_mm\": 180.0, \"body_mass_g\": 3950.0, \"gender\": \"Male\"}, {\"species\": \"Adelie\", \"location\": \"Dream\", \"bill_length_mm\": 39.5, \"bill_depth_mm\": 16.7, \"flipper_length_mm\": 178.0, \"body_mass_g\": 3250.0, \"gender\": \"Female\"}, {\"species\": \"Adelie\", \"location\": \"Dream\", \"bill_length_mm\": 37.2, \"bill_depth_mm\": 18.1, \"flipper_length_mm\": 178.0, \"body_mass_g\": 3900.0, \"gender\": \"Male\"}, {\"species\": \"Adelie\", \"location\": \"Dream\", \"bill_length_mm\": 39.5, \"bill_depth_mm\": 17.8, \"flipper_length_mm\": 188.0, \"body_mass_g\": 3300.0, \"gender\": \"Female\"}, {\"species\": \"Adelie\", \"location\": \"Dream\", \"bill_length_mm\": 40.9, \"bill_depth_mm\": 18.9, \"flipper_length_mm\": 184.0, \"body_mass_g\": 3900.0, \"gender\": \"Male\"}, {\"species\": \"Adelie\", \"location\": \"Dream\", \"bill_length_mm\": 36.4, \"bill_depth_mm\": 17.0, \"flipper_length_mm\": 195.0, \"body_mass_g\": 3325.0, \"gender\": \"Female\"}, {\"species\": \"Adelie\", \"location\": \"Dream\", \"bill_length_mm\": 39.2, \"bill_depth_mm\": 21.1, \"flipper_length_mm\": 196.0, \"body_mass_g\": 4150.0, \"gender\": \"Male\"}, {\"species\": \"Adelie\", \"location\": \"Dream\", \"bill_length_mm\": 38.8, \"bill_depth_mm\": 20.0, \"flipper_length_mm\": 190.0, \"body_mass_g\": 3950.0, \"gender\": \"Male\"}, {\"species\": \"Adelie\", \"location\": \"Dream\", \"bill_length_mm\": 42.2, \"bill_depth_mm\": 18.5, \"flipper_length_mm\": 180.0, \"body_mass_g\": 3550.0, \"gender\": \"Female\"}, {\"species\": \"Adelie\", \"location\": \"Dream\", \"bill_length_mm\": 37.6, \"bill_depth_mm\": 19.3, \"flipper_length_mm\": 181.0, \"body_mass_g\": 3300.0, \"gender\": \"Female\"}, {\"species\": \"Adelie\", \"location\": \"Dream\", \"bill_length_mm\": 39.8, \"bill_depth_mm\": 19.1, \"flipper_length_mm\": 184.0, \"body_mass_g\": 4650.0, \"gender\": \"Male\"}, {\"species\": \"Adelie\", \"location\": \"Dream\", \"bill_length_mm\": 36.5, \"bill_depth_mm\": 18.0, \"flipper_length_mm\": 182.0, \"body_mass_g\": 3150.0, \"gender\": \"Female\"}, {\"species\": \"Adelie\", \"location\": \"Dream\", \"bill_length_mm\": 40.8, \"bill_depth_mm\": 18.4, \"flipper_length_mm\": 195.0, \"body_mass_g\": 3900.0, \"gender\": \"Male\"}, {\"species\": \"Adelie\", \"location\": \"Dream\", \"bill_length_mm\": 36.0, \"bill_depth_mm\": 18.5, \"flipper_length_mm\": 186.0, \"body_mass_g\": 3100.0, \"gender\": \"Female\"}, {\"species\": \"Adelie\", \"location\": \"Dream\", \"bill_length_mm\": 44.1, \"bill_depth_mm\": 19.7, \"flipper_length_mm\": 196.0, \"body_mass_g\": 4400.0, \"gender\": \"Male\"}, {\"species\": \"Adelie\", \"location\": \"Dream\", \"bill_length_mm\": 37.0, \"bill_depth_mm\": 16.9, \"flipper_length_mm\": 185.0, \"body_mass_g\": 3000.0, \"gender\": \"Female\"}, {\"species\": \"Adelie\", \"location\": \"Dream\", \"bill_length_mm\": 39.6, \"bill_depth_mm\": 18.8, \"flipper_length_mm\": 190.0, \"body_mass_g\": 4600.0, \"gender\": \"Male\"}, {\"species\": \"Adelie\", \"location\": \"Dream\", \"bill_length_mm\": 41.1, \"bill_depth_mm\": 19.0, \"flipper_length_mm\": 182.0, \"body_mass_g\": 3425.0, \"gender\": \"Male\"}, {\"species\": \"Adelie\", \"location\": \"Dream\", \"bill_length_mm\": 36.0, \"bill_depth_mm\": 17.9, \"flipper_length_mm\": 190.0, \"body_mass_g\": 3450.0, \"gender\": \"Female\"}, {\"species\": \"Adelie\", \"location\": \"Dream\", \"bill_length_mm\": 42.3, \"bill_depth_mm\": 21.2, \"flipper_length_mm\": 191.0, \"body_mass_g\": 4150.0, \"gender\": \"Male\"}, {\"species\": \"Adelie\", \"location\": \"Biscoe\", \"bill_length_mm\": 39.6, \"bill_depth_mm\": 17.7, \"flipper_length_mm\": 186.0, \"body_mass_g\": 3500.0, \"gender\": \"Female\"}, {\"species\": \"Adelie\", \"location\": \"Biscoe\", \"bill_length_mm\": 40.1, \"bill_depth_mm\": 18.9, \"flipper_length_mm\": 188.0, \"body_mass_g\": 4300.0, \"gender\": \"Male\"}, {\"species\": \"Adelie\", \"location\": \"Biscoe\", \"bill_length_mm\": 35.0, \"bill_depth_mm\": 17.9, \"flipper_length_mm\": 190.0, \"body_mass_g\": 3450.0, \"gender\": \"Female\"}, {\"species\": \"Adelie\", \"location\": \"Biscoe\", \"bill_length_mm\": 42.0, \"bill_depth_mm\": 19.5, \"flipper_length_mm\": 200.0, \"body_mass_g\": 4050.0, \"gender\": \"Male\"}, {\"species\": \"Adelie\", \"location\": \"Biscoe\", \"bill_length_mm\": 34.5, \"bill_depth_mm\": 18.1, \"flipper_length_mm\": 187.0, \"body_mass_g\": 2900.0, \"gender\": \"Female\"}, {\"species\": \"Adelie\", \"location\": \"Biscoe\", \"bill_length_mm\": 41.4, \"bill_depth_mm\": 18.6, \"flipper_length_mm\": 191.0, \"body_mass_g\": 3700.0, \"gender\": \"Male\"}, {\"species\": \"Adelie\", \"location\": \"Biscoe\", \"bill_length_mm\": 39.0, \"bill_depth_mm\": 17.5, \"flipper_length_mm\": 186.0, \"body_mass_g\": 3550.0, \"gender\": \"Female\"}, {\"species\": \"Adelie\", \"location\": \"Biscoe\", \"bill_length_mm\": 40.6, \"bill_depth_mm\": 18.8, \"flipper_length_mm\": 193.0, \"body_mass_g\": 3800.0, \"gender\": \"Male\"}, {\"species\": \"Adelie\", \"location\": \"Biscoe\", \"bill_length_mm\": 36.5, \"bill_depth_mm\": 16.6, \"flipper_length_mm\": 181.0, \"body_mass_g\": 2850.0, \"gender\": \"Female\"}, {\"species\": \"Adelie\", \"location\": \"Biscoe\", \"bill_length_mm\": 37.6, \"bill_depth_mm\": 19.1, \"flipper_length_mm\": 194.0, \"body_mass_g\": 3750.0, \"gender\": \"Male\"}, {\"species\": \"Adelie\", \"location\": \"Biscoe\", \"bill_length_mm\": 35.7, \"bill_depth_mm\": 16.9, \"flipper_length_mm\": 185.0, \"body_mass_g\": 3150.0, \"gender\": \"Female\"}, {\"species\": \"Adelie\", \"location\": \"Biscoe\", \"bill_length_mm\": 41.3, \"bill_depth_mm\": 21.1, \"flipper_length_mm\": 195.0, \"body_mass_g\": 4400.0, \"gender\": \"Male\"}, {\"species\": \"Adelie\", \"location\": \"Biscoe\", \"bill_length_mm\": 37.6, \"bill_depth_mm\": 17.0, \"flipper_length_mm\": 185.0, \"body_mass_g\": 3600.0, \"gender\": \"Female\"}, {\"species\": \"Adelie\", \"location\": \"Biscoe\", \"bill_length_mm\": 41.1, \"bill_depth_mm\": 18.2, \"flipper_length_mm\": 192.0, \"body_mass_g\": 4050.0, \"gender\": \"Male\"}, {\"species\": \"Adelie\", \"location\": \"Biscoe\", \"bill_length_mm\": 36.4, \"bill_depth_mm\": 17.1, \"flipper_length_mm\": 184.0, \"body_mass_g\": 2850.0, \"gender\": \"Female\"}, {\"species\": \"Adelie\", \"location\": \"Biscoe\", \"bill_length_mm\": 41.6, \"bill_depth_mm\": 18.0, \"flipper_length_mm\": 192.0, \"body_mass_g\": 3950.0, \"gender\": \"Male\"}, {\"species\": \"Adelie\", \"location\": \"Biscoe\", \"bill_length_mm\": 35.5, \"bill_depth_mm\": 16.2, \"flipper_length_mm\": 195.0, \"body_mass_g\": 3350.0, \"gender\": \"Female\"}, {\"species\": \"Adelie\", \"location\": \"Biscoe\", \"bill_length_mm\": 41.1, \"bill_depth_mm\": 19.1, \"flipper_length_mm\": 188.0, \"body_mass_g\": 4100.0, \"gender\": \"Male\"}, {\"species\": \"Adelie\", \"location\": \"Torgersen\", \"bill_length_mm\": 35.9, \"bill_depth_mm\": 16.6, \"flipper_length_mm\": 190.0, \"body_mass_g\": 3050.0, \"gender\": \"Female\"}, {\"species\": \"Adelie\", \"location\": \"Torgersen\", \"bill_length_mm\": 41.8, \"bill_depth_mm\": 19.4, \"flipper_length_mm\": 198.0, \"body_mass_g\": 4450.0, \"gender\": \"Male\"}, {\"species\": \"Adelie\", \"location\": \"Torgersen\", \"bill_length_mm\": 33.5, \"bill_depth_mm\": 19.0, \"flipper_length_mm\": 190.0, \"body_mass_g\": 3600.0, \"gender\": \"Female\"}, {\"species\": \"Adelie\", \"location\": \"Torgersen\", \"bill_length_mm\": 39.7, \"bill_depth_mm\": 18.4, \"flipper_length_mm\": 190.0, \"body_mass_g\": 3900.0, \"gender\": \"Male\"}, {\"species\": \"Adelie\", \"location\": \"Torgersen\", \"bill_length_mm\": 39.6, \"bill_depth_mm\": 17.2, \"flipper_length_mm\": 196.0, \"body_mass_g\": 3550.0, \"gender\": \"Female\"}, {\"species\": \"Adelie\", \"location\": \"Torgersen\", \"bill_length_mm\": 45.8, \"bill_depth_mm\": 18.9, \"flipper_length_mm\": 197.0, \"body_mass_g\": 4150.0, \"gender\": \"Male\"}, {\"species\": \"Adelie\", \"location\": \"Torgersen\", \"bill_length_mm\": 35.5, \"bill_depth_mm\": 17.5, \"flipper_length_mm\": 190.0, \"body_mass_g\": 3700.0, \"gender\": \"Female\"}, {\"species\": \"Adelie\", \"location\": \"Torgersen\", \"bill_length_mm\": 42.8, \"bill_depth_mm\": 18.5, \"flipper_length_mm\": 195.0, \"body_mass_g\": 4250.0, \"gender\": \"Male\"}, {\"species\": \"Adelie\", \"location\": \"Torgersen\", \"bill_length_mm\": 40.9, \"bill_depth_mm\": 16.8, \"flipper_length_mm\": 191.0, \"body_mass_g\": 3700.0, \"gender\": \"Female\"}, {\"species\": \"Adelie\", \"location\": \"Torgersen\", \"bill_length_mm\": 37.2, \"bill_depth_mm\": 19.4, \"flipper_length_mm\": 184.0, \"body_mass_g\": 3900.0, \"gender\": \"Male\"}, {\"species\": \"Adelie\", \"location\": \"Torgersen\", \"bill_length_mm\": 36.2, \"bill_depth_mm\": 16.1, \"flipper_length_mm\": 187.0, \"body_mass_g\": 3550.0, \"gender\": \"Female\"}, {\"species\": \"Adelie\", \"location\": \"Torgersen\", \"bill_length_mm\": 42.1, \"bill_depth_mm\": 19.1, \"flipper_length_mm\": 195.0, \"body_mass_g\": 4000.0, \"gender\": \"Male\"}, {\"species\": \"Adelie\", \"location\": \"Torgersen\", \"bill_length_mm\": 34.6, \"bill_depth_mm\": 17.2, \"flipper_length_mm\": 189.0, \"body_mass_g\": 3200.0, \"gender\": \"Female\"}, {\"species\": \"Adelie\", \"location\": \"Torgersen\", \"bill_length_mm\": 42.9, \"bill_depth_mm\": 17.6, \"flipper_length_mm\": 196.0, \"body_mass_g\": 4700.0, \"gender\": \"Male\"}, {\"species\": \"Adelie\", \"location\": \"Torgersen\", \"bill_length_mm\": 36.7, \"bill_depth_mm\": 18.8, \"flipper_length_mm\": 187.0, \"body_mass_g\": 3800.0, \"gender\": \"Female\"}, {\"species\": \"Adelie\", \"location\": \"Torgersen\", \"bill_length_mm\": 35.1, \"bill_depth_mm\": 19.4, \"flipper_length_mm\": 193.0, \"body_mass_g\": 4200.0, \"gender\": \"Male\"}, {\"species\": \"Adelie\", \"location\": \"Dream\", \"bill_length_mm\": 37.3, \"bill_depth_mm\": 17.8, \"flipper_length_mm\": 191.0, \"body_mass_g\": 3350.0, \"gender\": \"Female\"}, {\"species\": \"Adelie\", \"location\": \"Dream\", \"bill_length_mm\": 41.3, \"bill_depth_mm\": 20.3, \"flipper_length_mm\": 194.0, \"body_mass_g\": 3550.0, \"gender\": \"Male\"}, {\"species\": \"Adelie\", \"location\": \"Dream\", \"bill_length_mm\": 36.3, \"bill_depth_mm\": 19.5, \"flipper_length_mm\": 190.0, \"body_mass_g\": 3800.0, \"gender\": \"Male\"}, {\"species\": \"Adelie\", \"location\": \"Dream\", \"bill_length_mm\": 36.9, \"bill_depth_mm\": 18.6, \"flipper_length_mm\": 189.0, \"body_mass_g\": 3500.0, \"gender\": \"Female\"}, {\"species\": \"Adelie\", \"location\": \"Dream\", \"bill_length_mm\": 38.3, \"bill_depth_mm\": 19.2, \"flipper_length_mm\": 189.0, \"body_mass_g\": 3950.0, \"gender\": \"Male\"}, {\"species\": \"Adelie\", \"location\": \"Dream\", \"bill_length_mm\": 38.9, \"bill_depth_mm\": 18.8, \"flipper_length_mm\": 190.0, \"body_mass_g\": 3600.0, \"gender\": \"Female\"}, {\"species\": \"Adelie\", \"location\": \"Dream\", \"bill_length_mm\": 35.7, \"bill_depth_mm\": 18.0, \"flipper_length_mm\": 202.0, \"body_mass_g\": 3550.0, \"gender\": \"Female\"}, {\"species\": \"Adelie\", \"location\": \"Dream\", \"bill_length_mm\": 41.1, \"bill_depth_mm\": 18.1, \"flipper_length_mm\": 205.0, \"body_mass_g\": 4300.0, \"gender\": \"Male\"}, {\"species\": \"Adelie\", \"location\": \"Dream\", \"bill_length_mm\": 34.0, \"bill_depth_mm\": 17.1, \"flipper_length_mm\": 185.0, \"body_mass_g\": 3400.0, \"gender\": \"Female\"}, {\"species\": \"Adelie\", \"location\": \"Dream\", \"bill_length_mm\": 39.6, \"bill_depth_mm\": 18.1, \"flipper_length_mm\": 186.0, \"body_mass_g\": 4450.0, \"gender\": \"Male\"}, {\"species\": \"Adelie\", \"location\": \"Dream\", \"bill_length_mm\": 36.2, \"bill_depth_mm\": 17.3, \"flipper_length_mm\": 187.0, \"body_mass_g\": 3300.0, \"gender\": \"Female\"}, {\"species\": \"Adelie\", \"location\": \"Dream\", \"bill_length_mm\": 40.8, \"bill_depth_mm\": 18.9, \"flipper_length_mm\": 208.0, \"body_mass_g\": 4300.0, \"gender\": \"Male\"}, {\"species\": \"Adelie\", \"location\": \"Dream\", \"bill_length_mm\": 38.1, \"bill_depth_mm\": 18.6, \"flipper_length_mm\": 190.0, \"body_mass_g\": 3700.0, \"gender\": \"Female\"}, {\"species\": \"Adelie\", \"location\": \"Dream\", \"bill_length_mm\": 40.3, \"bill_depth_mm\": 18.5, \"flipper_length_mm\": 196.0, \"body_mass_g\": 4350.0, \"gender\": \"Male\"}, {\"species\": \"Adelie\", \"location\": \"Dream\", \"bill_length_mm\": 33.1, \"bill_depth_mm\": 16.1, \"flipper_length_mm\": 178.0, \"body_mass_g\": 2900.0, \"gender\": \"Female\"}, {\"species\": \"Adelie\", \"location\": \"Dream\", \"bill_length_mm\": 43.2, \"bill_depth_mm\": 18.5, \"flipper_length_mm\": 192.0, \"body_mass_g\": 4100.0, \"gender\": \"Male\"}, {\"species\": \"Adelie\", \"location\": \"Biscoe\", \"bill_length_mm\": 35.0, \"bill_depth_mm\": 17.9, \"flipper_length_mm\": 192.0, \"body_mass_g\": 3725.0, \"gender\": \"Female\"}, {\"species\": \"Adelie\", \"location\": \"Biscoe\", \"bill_length_mm\": 41.0, \"bill_depth_mm\": 20.0, \"flipper_length_mm\": 203.0, \"body_mass_g\": 4725.0, \"gender\": \"Male\"}, {\"species\": \"Adelie\", \"location\": \"Biscoe\", \"bill_length_mm\": 37.7, \"bill_depth_mm\": 16.0, \"flipper_length_mm\": 183.0, \"body_mass_g\": 3075.0, \"gender\": \"Female\"}, {\"species\": \"Adelie\", \"location\": \"Biscoe\", \"bill_length_mm\": 37.8, \"bill_depth_mm\": 20.0, \"flipper_length_mm\": 190.0, \"body_mass_g\": 4250.0, \"gender\": \"Male\"}, {\"species\": \"Adelie\", \"location\": \"Biscoe\", \"bill_length_mm\": 37.9, \"bill_depth_mm\": 18.6, \"flipper_length_mm\": 193.0, \"body_mass_g\": 2925.0, \"gender\": \"Female\"}, {\"species\": \"Adelie\", \"location\": \"Biscoe\", \"bill_length_mm\": 39.7, \"bill_depth_mm\": 18.9, \"flipper_length_mm\": 184.0, \"body_mass_g\": 3550.0, \"gender\": \"Male\"}, {\"species\": \"Adelie\", \"location\": \"Biscoe\", \"bill_length_mm\": 38.6, \"bill_depth_mm\": 17.2, \"flipper_length_mm\": 199.0, \"body_mass_g\": 3750.0, \"gender\": \"Female\"}, {\"species\": \"Adelie\", \"location\": \"Biscoe\", \"bill_length_mm\": 38.2, \"bill_depth_mm\": 20.0, \"flipper_length_mm\": 190.0, \"body_mass_g\": 3900.0, \"gender\": \"Male\"}, {\"species\": \"Adelie\", \"location\": \"Biscoe\", \"bill_length_mm\": 38.1, \"bill_depth_mm\": 17.0, \"flipper_length_mm\": 181.0, \"body_mass_g\": 3175.0, \"gender\": \"Female\"}, {\"species\": \"Adelie\", \"location\": \"Biscoe\", \"bill_length_mm\": 43.2, \"bill_depth_mm\": 19.0, \"flipper_length_mm\": 197.0, \"body_mass_g\": 4775.0, \"gender\": \"Male\"}, {\"species\": \"Adelie\", \"location\": \"Biscoe\", \"bill_length_mm\": 38.1, \"bill_depth_mm\": 16.5, \"flipper_length_mm\": 198.0, \"body_mass_g\": 3825.0, \"gender\": \"Female\"}, {\"species\": \"Adelie\", \"location\": \"Biscoe\", \"bill_length_mm\": 45.6, \"bill_depth_mm\": 20.3, \"flipper_length_mm\": 191.0, \"body_mass_g\": 4600.0, \"gender\": \"Male\"}, {\"species\": \"Adelie\", \"location\": \"Biscoe\", \"bill_length_mm\": 39.7, \"bill_depth_mm\": 17.7, \"flipper_length_mm\": 193.0, \"body_mass_g\": 3200.0, \"gender\": \"Female\"}, {\"species\": \"Adelie\", \"location\": \"Biscoe\", \"bill_length_mm\": 42.2, \"bill_depth_mm\": 19.5, \"flipper_length_mm\": 197.0, \"body_mass_g\": 4275.0, \"gender\": \"Male\"}, {\"species\": \"Adelie\", \"location\": \"Biscoe\", \"bill_length_mm\": 39.6, \"bill_depth_mm\": 20.7, \"flipper_length_mm\": 191.0, \"body_mass_g\": 3900.0, \"gender\": \"Female\"}, {\"species\": \"Adelie\", \"location\": \"Biscoe\", \"bill_length_mm\": 42.7, \"bill_depth_mm\": 18.3, \"flipper_length_mm\": 196.0, \"body_mass_g\": 4075.0, \"gender\": \"Male\"}, {\"species\": \"Adelie\", \"location\": \"Torgersen\", \"bill_length_mm\": 38.6, \"bill_depth_mm\": 17.0, \"flipper_length_mm\": 188.0, \"body_mass_g\": 2900.0, \"gender\": \"Female\"}, {\"species\": \"Adelie\", \"location\": \"Torgersen\", \"bill_length_mm\": 37.3, \"bill_depth_mm\": 20.5, \"flipper_length_mm\": 199.0, \"body_mass_g\": 3775.0, \"gender\": \"Male\"}, {\"species\": \"Adelie\", \"location\": \"Torgersen\", \"bill_length_mm\": 35.7, \"bill_depth_mm\": 17.0, \"flipper_length_mm\": 189.0, \"body_mass_g\": 3350.0, \"gender\": \"Female\"}, {\"species\": \"Adelie\", \"location\": \"Torgersen\", \"bill_length_mm\": 41.1, \"bill_depth_mm\": 18.6, \"flipper_length_mm\": 189.0, \"body_mass_g\": 3325.0, \"gender\": \"Male\"}, {\"species\": \"Adelie\", \"location\": \"Torgersen\", \"bill_length_mm\": 36.2, \"bill_depth_mm\": 17.2, \"flipper_length_mm\": 187.0, \"body_mass_g\": 3150.0, \"gender\": \"Female\"}, {\"species\": \"Adelie\", \"location\": \"Torgersen\", \"bill_length_mm\": 37.7, \"bill_depth_mm\": 19.8, \"flipper_length_mm\": 198.0, \"body_mass_g\": 3500.0, \"gender\": \"Male\"}, {\"species\": \"Adelie\", \"location\": \"Torgersen\", \"bill_length_mm\": 40.2, \"bill_depth_mm\": 17.0, \"flipper_length_mm\": 176.0, \"body_mass_g\": 3450.0, \"gender\": \"Female\"}, {\"species\": \"Adelie\", \"location\": \"Torgersen\", \"bill_length_mm\": 41.4, \"bill_depth_mm\": 18.5, \"flipper_length_mm\": 202.0, \"body_mass_g\": 3875.0, \"gender\": \"Male\"}, {\"species\": \"Adelie\", \"location\": \"Torgersen\", \"bill_length_mm\": 35.2, \"bill_depth_mm\": 15.9, \"flipper_length_mm\": 186.0, \"body_mass_g\": 3050.0, \"gender\": \"Female\"}, {\"species\": \"Adelie\", \"location\": \"Torgersen\", \"bill_length_mm\": 40.6, \"bill_depth_mm\": 19.0, \"flipper_length_mm\": 199.0, \"body_mass_g\": 4000.0, \"gender\": \"Male\"}, {\"species\": \"Adelie\", \"location\": \"Torgersen\", \"bill_length_mm\": 38.8, \"bill_depth_mm\": 17.6, \"flipper_length_mm\": 191.0, \"body_mass_g\": 3275.0, \"gender\": \"Female\"}, {\"species\": \"Adelie\", \"location\": \"Torgersen\", \"bill_length_mm\": 41.5, \"bill_depth_mm\": 18.3, \"flipper_length_mm\": 195.0, \"body_mass_g\": 4300.0, \"gender\": \"Male\"}, {\"species\": \"Adelie\", \"location\": \"Torgersen\", \"bill_length_mm\": 39.0, \"bill_depth_mm\": 17.1, \"flipper_length_mm\": 191.0, \"body_mass_g\": 3050.0, \"gender\": \"Female\"}, {\"species\": \"Adelie\", \"location\": \"Torgersen\", \"bill_length_mm\": 44.1, \"bill_depth_mm\": 18.0, \"flipper_length_mm\": 210.0, \"body_mass_g\": 4000.0, \"gender\": \"Male\"}, {\"species\": \"Adelie\", \"location\": \"Torgersen\", \"bill_length_mm\": 38.5, \"bill_depth_mm\": 17.9, \"flipper_length_mm\": 190.0, \"body_mass_g\": 3325.0, \"gender\": \"Female\"}, {\"species\": \"Adelie\", \"location\": \"Torgersen\", \"bill_length_mm\": 43.1, \"bill_depth_mm\": 19.2, \"flipper_length_mm\": 197.0, \"body_mass_g\": 3500.0, \"gender\": \"Male\"}, {\"species\": \"Adelie\", \"location\": \"Dream\", \"bill_length_mm\": 36.8, \"bill_depth_mm\": 18.5, \"flipper_length_mm\": 193.0, \"body_mass_g\": 3500.0, \"gender\": \"Female\"}, {\"species\": \"Adelie\", \"location\": \"Dream\", \"bill_length_mm\": 37.5, \"bill_depth_mm\": 18.5, \"flipper_length_mm\": 199.0, \"body_mass_g\": 4475.0, \"gender\": \"Male\"}, {\"species\": \"Adelie\", \"location\": \"Dream\", \"bill_length_mm\": 38.1, \"bill_depth_mm\": 17.6, \"flipper_length_mm\": 187.0, \"body_mass_g\": 3425.0, \"gender\": \"Female\"}, {\"species\": \"Adelie\", \"location\": \"Dream\", \"bill_length_mm\": 41.1, \"bill_depth_mm\": 17.5, \"flipper_length_mm\": 190.0, \"body_mass_g\": 3900.0, \"gender\": \"Male\"}, {\"species\": \"Adelie\", \"location\": \"Dream\", \"bill_length_mm\": 35.6, \"bill_depth_mm\": 17.5, \"flipper_length_mm\": 191.0, \"body_mass_g\": 3175.0, \"gender\": \"Female\"}, {\"species\": \"Adelie\", \"location\": \"Dream\", \"bill_length_mm\": 40.2, \"bill_depth_mm\": 20.1, \"flipper_length_mm\": 200.0, \"body_mass_g\": 3975.0, \"gender\": \"Male\"}, {\"species\": \"Adelie\", \"location\": \"Dream\", \"bill_length_mm\": 37.0, \"bill_depth_mm\": 16.5, \"flipper_length_mm\": 185.0, \"body_mass_g\": 3400.0, \"gender\": \"Female\"}, {\"species\": \"Adelie\", \"location\": \"Dream\", \"bill_length_mm\": 39.7, \"bill_depth_mm\": 17.9, \"flipper_length_mm\": 193.0, \"body_mass_g\": 4250.0, \"gender\": \"Male\"}, {\"species\": \"Adelie\", \"location\": \"Dream\", \"bill_length_mm\": 40.2, \"bill_depth_mm\": 17.1, \"flipper_length_mm\": 193.0, \"body_mass_g\": 3400.0, \"gender\": \"Female\"}, {\"species\": \"Adelie\", \"location\": \"Dream\", \"bill_length_mm\": 40.6, \"bill_depth_mm\": 17.2, \"flipper_length_mm\": 187.0, \"body_mass_g\": 3475.0, \"gender\": \"Male\"}, {\"species\": \"Adelie\", \"location\": \"Dream\", \"bill_length_mm\": 32.1, \"bill_depth_mm\": 15.5, \"flipper_length_mm\": 188.0, \"body_mass_g\": 3050.0, \"gender\": \"Female\"}, {\"species\": \"Adelie\", \"location\": \"Dream\", \"bill_length_mm\": 40.7, \"bill_depth_mm\": 17.0, \"flipper_length_mm\": 190.0, \"body_mass_g\": 3725.0, \"gender\": \"Male\"}, {\"species\": \"Adelie\", \"location\": \"Dream\", \"bill_length_mm\": 37.3, \"bill_depth_mm\": 16.8, \"flipper_length_mm\": 192.0, \"body_mass_g\": 3000.0, \"gender\": \"Female\"}, {\"species\": \"Adelie\", \"location\": \"Dream\", \"bill_length_mm\": 39.0, \"bill_depth_mm\": 18.7, \"flipper_length_mm\": 185.0, \"body_mass_g\": 3650.0, \"gender\": \"Male\"}, {\"species\": \"Adelie\", \"location\": \"Dream\", \"bill_length_mm\": 39.2, \"bill_depth_mm\": 18.6, \"flipper_length_mm\": 190.0, \"body_mass_g\": 4250.0, \"gender\": \"Male\"}, {\"species\": \"Adelie\", \"location\": \"Dream\", \"bill_length_mm\": 36.6, \"bill_depth_mm\": 18.4, \"flipper_length_mm\": 184.0, \"body_mass_g\": 3475.0, \"gender\": \"Female\"}, {\"species\": \"Adelie\", \"location\": \"Dream\", \"bill_length_mm\": 36.0, \"bill_depth_mm\": 17.8, \"flipper_length_mm\": 195.0, \"body_mass_g\": 3450.0, \"gender\": \"Female\"}, {\"species\": \"Adelie\", \"location\": \"Dream\", \"bill_length_mm\": 37.8, \"bill_depth_mm\": 18.1, \"flipper_length_mm\": 193.0, \"body_mass_g\": 3750.0, \"gender\": \"Male\"}, {\"species\": \"Adelie\", \"location\": \"Dream\", \"bill_length_mm\": 36.0, \"bill_depth_mm\": 17.1, \"flipper_length_mm\": 187.0, \"body_mass_g\": 3700.0, \"gender\": \"Female\"}, {\"species\": \"Adelie\", \"location\": \"Dream\", \"bill_length_mm\": 41.5, \"bill_depth_mm\": 18.5, \"flipper_length_mm\": 201.0, \"body_mass_g\": 4000.0, \"gender\": \"Male\"}, {\"species\": \"Chinstrap\", \"location\": \"Dream\", \"bill_length_mm\": 46.5, \"bill_depth_mm\": 17.9, \"flipper_length_mm\": 192.0, \"body_mass_g\": 3500.0, \"gender\": \"Female\"}, {\"species\": \"Chinstrap\", \"location\": \"Dream\", \"bill_length_mm\": 50.0, \"bill_depth_mm\": 19.5, \"flipper_length_mm\": 196.0, \"body_mass_g\": 3900.0, \"gender\": \"Male\"}, {\"species\": \"Chinstrap\", \"location\": \"Dream\", \"bill_length_mm\": 51.3, \"bill_depth_mm\": 19.2, \"flipper_length_mm\": 193.0, \"body_mass_g\": 3650.0, \"gender\": \"Male\"}, {\"species\": \"Chinstrap\", \"location\": \"Dream\", \"bill_length_mm\": 45.4, \"bill_depth_mm\": 18.7, \"flipper_length_mm\": 188.0, \"body_mass_g\": 3525.0, \"gender\": \"Female\"}, {\"species\": \"Chinstrap\", \"location\": \"Dream\", \"bill_length_mm\": 52.7, \"bill_depth_mm\": 19.8, \"flipper_length_mm\": 197.0, \"body_mass_g\": 3725.0, \"gender\": \"Male\"}, {\"species\": \"Chinstrap\", \"location\": \"Dream\", \"bill_length_mm\": 45.2, \"bill_depth_mm\": 17.8, \"flipper_length_mm\": 198.0, \"body_mass_g\": 3950.0, \"gender\": \"Female\"}, {\"species\": \"Chinstrap\", \"location\": \"Dream\", \"bill_length_mm\": 46.1, \"bill_depth_mm\": 18.2, \"flipper_length_mm\": 178.0, \"body_mass_g\": 3250.0, \"gender\": \"Female\"}, {\"species\": \"Chinstrap\", \"location\": \"Dream\", \"bill_length_mm\": 51.3, \"bill_depth_mm\": 18.2, \"flipper_length_mm\": 197.0, \"body_mass_g\": 3750.0, \"gender\": \"Male\"}, {\"species\": \"Chinstrap\", \"location\": \"Dream\", \"bill_length_mm\": 46.0, \"bill_depth_mm\": 18.9, \"flipper_length_mm\": 195.0, \"body_mass_g\": 4150.0, \"gender\": \"Female\"}, {\"species\": \"Chinstrap\", \"location\": \"Dream\", \"bill_length_mm\": 51.3, \"bill_depth_mm\": 19.9, \"flipper_length_mm\": 198.0, \"body_mass_g\": 3700.0, \"gender\": \"Male\"}, {\"species\": \"Chinstrap\", \"location\": \"Dream\", \"bill_length_mm\": 46.6, \"bill_depth_mm\": 17.8, \"flipper_length_mm\": 193.0, \"body_mass_g\": 3800.0, \"gender\": \"Female\"}, {\"species\": \"Chinstrap\", \"location\": \"Dream\", \"bill_length_mm\": 51.7, \"bill_depth_mm\": 20.3, \"flipper_length_mm\": 194.0, \"body_mass_g\": 3775.0, \"gender\": \"Male\"}, {\"species\": \"Chinstrap\", \"location\": \"Dream\", \"bill_length_mm\": 47.0, \"bill_depth_mm\": 17.3, \"flipper_length_mm\": 185.0, \"body_mass_g\": 3700.0, \"gender\": \"Female\"}, {\"species\": \"Chinstrap\", \"location\": \"Dream\", \"bill_length_mm\": 52.0, \"bill_depth_mm\": 18.1, \"flipper_length_mm\": 201.0, \"body_mass_g\": 4050.0, \"gender\": \"Male\"}, {\"species\": \"Chinstrap\", \"location\": \"Dream\", \"bill_length_mm\": 45.9, \"bill_depth_mm\": 17.1, \"flipper_length_mm\": 190.0, \"body_mass_g\": 3575.0, \"gender\": \"Female\"}, {\"species\": \"Chinstrap\", \"location\": \"Dream\", \"bill_length_mm\": 50.5, \"bill_depth_mm\": 19.6, \"flipper_length_mm\": 201.0, \"body_mass_g\": 4050.0, \"gender\": \"Male\"}, {\"species\": \"Chinstrap\", \"location\": \"Dream\", \"bill_length_mm\": 50.3, \"bill_depth_mm\": 20.0, \"flipper_length_mm\": 197.0, \"body_mass_g\": 3300.0, \"gender\": \"Male\"}, {\"species\": \"Chinstrap\", \"location\": \"Dream\", \"bill_length_mm\": 58.0, \"bill_depth_mm\": 17.8, \"flipper_length_mm\": 181.0, \"body_mass_g\": 3700.0, \"gender\": \"Female\"}, {\"species\": \"Chinstrap\", \"location\": \"Dream\", \"bill_length_mm\": 46.4, \"bill_depth_mm\": 18.6, \"flipper_length_mm\": 190.0, \"body_mass_g\": 3450.0, \"gender\": \"Female\"}, {\"species\": \"Chinstrap\", \"location\": \"Dream\", \"bill_length_mm\": 49.2, \"bill_depth_mm\": 18.2, \"flipper_length_mm\": 195.0, \"body_mass_g\": 4400.0, \"gender\": \"Male\"}, {\"species\": \"Chinstrap\", \"location\": \"Dream\", \"bill_length_mm\": 42.4, \"bill_depth_mm\": 17.3, \"flipper_length_mm\": 181.0, \"body_mass_g\": 3600.0, \"gender\": \"Female\"}, {\"species\": \"Chinstrap\", \"location\": \"Dream\", \"bill_length_mm\": 48.5, \"bill_depth_mm\": 17.5, \"flipper_length_mm\": 191.0, \"body_mass_g\": 3400.0, \"gender\": \"Male\"}, {\"species\": \"Chinstrap\", \"location\": \"Dream\", \"bill_length_mm\": 43.2, \"bill_depth_mm\": 16.6, \"flipper_length_mm\": 187.0, \"body_mass_g\": 2900.0, \"gender\": \"Female\"}, {\"species\": \"Chinstrap\", \"location\": \"Dream\", \"bill_length_mm\": 50.6, \"bill_depth_mm\": 19.4, \"flipper_length_mm\": 193.0, \"body_mass_g\": 3800.0, \"gender\": \"Male\"}, {\"species\": \"Chinstrap\", \"location\": \"Dream\", \"bill_length_mm\": 46.7, \"bill_depth_mm\": 17.9, \"flipper_length_mm\": 195.0, \"body_mass_g\": 3300.0, \"gender\": \"Female\"}, {\"species\": \"Chinstrap\", \"location\": \"Dream\", \"bill_length_mm\": 52.0, \"bill_depth_mm\": 19.0, \"flipper_length_mm\": 197.0, \"body_mass_g\": 4150.0, \"gender\": \"Male\"}, {\"species\": \"Chinstrap\", \"location\": \"Dream\", \"bill_length_mm\": 50.5, \"bill_depth_mm\": 18.4, \"flipper_length_mm\": 200.0, \"body_mass_g\": 3400.0, \"gender\": \"Female\"}, {\"species\": \"Chinstrap\", \"location\": \"Dream\", \"bill_length_mm\": 49.5, \"bill_depth_mm\": 19.0, \"flipper_length_mm\": 200.0, \"body_mass_g\": 3800.0, \"gender\": \"Male\"}, {\"species\": \"Chinstrap\", \"location\": \"Dream\", \"bill_length_mm\": 46.4, \"bill_depth_mm\": 17.8, \"flipper_length_mm\": 191.0, \"body_mass_g\": 3700.0, \"gender\": \"Female\"}, {\"species\": \"Chinstrap\", \"location\": \"Dream\", \"bill_length_mm\": 52.8, \"bill_depth_mm\": 20.0, \"flipper_length_mm\": 205.0, \"body_mass_g\": 4550.0, \"gender\": \"Male\"}, {\"species\": \"Chinstrap\", \"location\": \"Dream\", \"bill_length_mm\": 40.9, \"bill_depth_mm\": 16.6, \"flipper_length_mm\": 187.0, \"body_mass_g\": 3200.0, \"gender\": \"Female\"}, {\"species\": \"Chinstrap\", \"location\": \"Dream\", \"bill_length_mm\": 54.2, \"bill_depth_mm\": 20.8, \"flipper_length_mm\": 201.0, \"body_mass_g\": 4300.0, \"gender\": \"Male\"}, {\"species\": \"Chinstrap\", \"location\": \"Dream\", \"bill_length_mm\": 42.5, \"bill_depth_mm\": 16.7, \"flipper_length_mm\": 187.0, \"body_mass_g\": 3350.0, \"gender\": \"Female\"}, {\"species\": \"Chinstrap\", \"location\": \"Dream\", \"bill_length_mm\": 51.0, \"bill_depth_mm\": 18.8, \"flipper_length_mm\": 203.0, \"body_mass_g\": 4100.0, \"gender\": \"Male\"}, {\"species\": \"Chinstrap\", \"location\": \"Dream\", \"bill_length_mm\": 49.7, \"bill_depth_mm\": 18.6, \"flipper_length_mm\": 195.0, \"body_mass_g\": 3600.0, \"gender\": \"Male\"}, {\"species\": \"Chinstrap\", \"location\": \"Dream\", \"bill_length_mm\": 47.5, \"bill_depth_mm\": 16.8, \"flipper_length_mm\": 199.0, \"body_mass_g\": 3900.0, \"gender\": \"Female\"}, {\"species\": \"Chinstrap\", \"location\": \"Dream\", \"bill_length_mm\": 47.6, \"bill_depth_mm\": 18.3, \"flipper_length_mm\": 195.0, \"body_mass_g\": 3850.0, \"gender\": \"Female\"}, {\"species\": \"Chinstrap\", \"location\": \"Dream\", \"bill_length_mm\": 52.0, \"bill_depth_mm\": 20.7, \"flipper_length_mm\": 210.0, \"body_mass_g\": 4800.0, \"gender\": \"Male\"}, {\"species\": \"Chinstrap\", \"location\": \"Dream\", \"bill_length_mm\": 46.9, \"bill_depth_mm\": 16.6, \"flipper_length_mm\": 192.0, \"body_mass_g\": 2700.0, \"gender\": \"Female\"}, {\"species\": \"Chinstrap\", \"location\": \"Dream\", \"bill_length_mm\": 53.5, \"bill_depth_mm\": 19.9, \"flipper_length_mm\": 205.0, \"body_mass_g\": 4500.0, \"gender\": \"Male\"}, {\"species\": \"Chinstrap\", \"location\": \"Dream\", \"bill_length_mm\": 49.0, \"bill_depth_mm\": 19.5, \"flipper_length_mm\": 210.0, \"body_mass_g\": 3950.0, \"gender\": \"Male\"}, {\"species\": \"Chinstrap\", \"location\": \"Dream\", \"bill_length_mm\": 46.2, \"bill_depth_mm\": 17.5, \"flipper_length_mm\": 187.0, \"body_mass_g\": 3650.0, \"gender\": \"Female\"}, {\"species\": \"Chinstrap\", \"location\": \"Dream\", \"bill_length_mm\": 50.9, \"bill_depth_mm\": 19.1, \"flipper_length_mm\": 196.0, \"body_mass_g\": 3550.0, \"gender\": \"Male\"}, {\"species\": \"Chinstrap\", \"location\": \"Dream\", \"bill_length_mm\": 45.5, \"bill_depth_mm\": 17.0, \"flipper_length_mm\": 196.0, \"body_mass_g\": 3500.0, \"gender\": \"Female\"}, {\"species\": \"Chinstrap\", \"location\": \"Dream\", \"bill_length_mm\": 50.9, \"bill_depth_mm\": 17.9, \"flipper_length_mm\": 196.0, \"body_mass_g\": 3675.0, \"gender\": \"Female\"}, {\"species\": \"Chinstrap\", \"location\": \"Dream\", \"bill_length_mm\": 50.8, \"bill_depth_mm\": 18.5, \"flipper_length_mm\": 201.0, \"body_mass_g\": 4450.0, \"gender\": \"Male\"}, {\"species\": \"Chinstrap\", \"location\": \"Dream\", \"bill_length_mm\": 50.1, \"bill_depth_mm\": 17.9, \"flipper_length_mm\": 190.0, \"body_mass_g\": 3400.0, \"gender\": \"Female\"}, {\"species\": \"Chinstrap\", \"location\": \"Dream\", \"bill_length_mm\": 49.0, \"bill_depth_mm\": 19.6, \"flipper_length_mm\": 212.0, \"body_mass_g\": 4300.0, \"gender\": \"Male\"}, {\"species\": \"Chinstrap\", \"location\": \"Dream\", \"bill_length_mm\": 51.5, \"bill_depth_mm\": 18.7, \"flipper_length_mm\": 187.0, \"body_mass_g\": 3250.0, \"gender\": \"Male\"}, {\"species\": \"Chinstrap\", \"location\": \"Dream\", \"bill_length_mm\": 49.8, \"bill_depth_mm\": 17.3, \"flipper_length_mm\": 198.0, \"body_mass_g\": 3675.0, \"gender\": \"Female\"}, {\"species\": \"Chinstrap\", \"location\": \"Dream\", \"bill_length_mm\": 48.1, \"bill_depth_mm\": 16.4, \"flipper_length_mm\": 199.0, \"body_mass_g\": 3325.0, \"gender\": \"Female\"}, {\"species\": \"Chinstrap\", \"location\": \"Dream\", \"bill_length_mm\": 51.4, \"bill_depth_mm\": 19.0, \"flipper_length_mm\": 201.0, \"body_mass_g\": 3950.0, \"gender\": \"Male\"}, {\"species\": \"Chinstrap\", \"location\": \"Dream\", \"bill_length_mm\": 45.7, \"bill_depth_mm\": 17.3, \"flipper_length_mm\": 193.0, \"body_mass_g\": 3600.0, \"gender\": \"Female\"}, {\"species\": \"Chinstrap\", \"location\": \"Dream\", \"bill_length_mm\": 50.7, \"bill_depth_mm\": 19.7, \"flipper_length_mm\": 203.0, \"body_mass_g\": 4050.0, \"gender\": \"Male\"}, {\"species\": \"Chinstrap\", \"location\": \"Dream\", \"bill_length_mm\": 42.5, \"bill_depth_mm\": 17.3, \"flipper_length_mm\": 187.0, \"body_mass_g\": 3350.0, \"gender\": \"Female\"}, {\"species\": \"Chinstrap\", \"location\": \"Dream\", \"bill_length_mm\": 52.2, \"bill_depth_mm\": 18.8, \"flipper_length_mm\": 197.0, \"body_mass_g\": 3450.0, \"gender\": \"Male\"}, {\"species\": \"Chinstrap\", \"location\": \"Dream\", \"bill_length_mm\": 45.2, \"bill_depth_mm\": 16.6, \"flipper_length_mm\": 191.0, \"body_mass_g\": 3250.0, \"gender\": \"Female\"}, {\"species\": \"Chinstrap\", \"location\": \"Dream\", \"bill_length_mm\": 49.3, \"bill_depth_mm\": 19.9, \"flipper_length_mm\": 203.0, \"body_mass_g\": 4050.0, \"gender\": \"Male\"}, {\"species\": \"Chinstrap\", \"location\": \"Dream\", \"bill_length_mm\": 50.2, \"bill_depth_mm\": 18.8, \"flipper_length_mm\": 202.0, \"body_mass_g\": 3800.0, \"gender\": \"Male\"}, {\"species\": \"Chinstrap\", \"location\": \"Dream\", \"bill_length_mm\": 45.6, \"bill_depth_mm\": 19.4, \"flipper_length_mm\": 194.0, \"body_mass_g\": 3525.0, \"gender\": \"Female\"}, {\"species\": \"Chinstrap\", \"location\": \"Dream\", \"bill_length_mm\": 51.9, \"bill_depth_mm\": 19.5, \"flipper_length_mm\": 206.0, \"body_mass_g\": 3950.0, \"gender\": \"Male\"}, {\"species\": \"Chinstrap\", \"location\": \"Dream\", \"bill_length_mm\": 46.8, \"bill_depth_mm\": 16.5, \"flipper_length_mm\": 189.0, \"body_mass_g\": 3650.0, \"gender\": \"Female\"}, {\"species\": \"Chinstrap\", \"location\": \"Dream\", \"bill_length_mm\": 45.7, \"bill_depth_mm\": 17.0, \"flipper_length_mm\": 195.0, \"body_mass_g\": 3650.0, \"gender\": \"Female\"}, {\"species\": \"Chinstrap\", \"location\": \"Dream\", \"bill_length_mm\": 55.8, \"bill_depth_mm\": 19.8, \"flipper_length_mm\": 207.0, \"body_mass_g\": 4000.0, \"gender\": \"Male\"}, {\"species\": \"Chinstrap\", \"location\": \"Dream\", \"bill_length_mm\": 43.5, \"bill_depth_mm\": 18.1, \"flipper_length_mm\": 202.0, \"body_mass_g\": 3400.0, \"gender\": \"Female\"}, {\"species\": \"Chinstrap\", \"location\": \"Dream\", \"bill_length_mm\": 49.6, \"bill_depth_mm\": 18.2, \"flipper_length_mm\": 193.0, \"body_mass_g\": 3775.0, \"gender\": \"Male\"}, {\"species\": \"Chinstrap\", \"location\": \"Dream\", \"bill_length_mm\": 50.8, \"bill_depth_mm\": 19.0, \"flipper_length_mm\": 210.0, \"body_mass_g\": 4100.0, \"gender\": \"Male\"}, {\"species\": \"Chinstrap\", \"location\": \"Dream\", \"bill_length_mm\": 50.2, \"bill_depth_mm\": 18.7, \"flipper_length_mm\": 198.0, \"body_mass_g\": 3775.0, \"gender\": \"Female\"}, {\"species\": \"Gentoo\", \"location\": \"Biscoe\", \"bill_length_mm\": 46.1, \"bill_depth_mm\": 13.2, \"flipper_length_mm\": 211.0, \"body_mass_g\": 4500.0, \"gender\": \"Female\"}, {\"species\": \"Gentoo\", \"location\": \"Biscoe\", \"bill_length_mm\": 50.0, \"bill_depth_mm\": 16.3, \"flipper_length_mm\": 230.0, \"body_mass_g\": 5700.0, \"gender\": \"Male\"}, {\"species\": \"Gentoo\", \"location\": \"Biscoe\", \"bill_length_mm\": 48.7, \"bill_depth_mm\": 14.1, \"flipper_length_mm\": 210.0, \"body_mass_g\": 4450.0, \"gender\": \"Female\"}, {\"species\": \"Gentoo\", \"location\": \"Biscoe\", \"bill_length_mm\": 50.0, \"bill_depth_mm\": 15.2, \"flipper_length_mm\": 218.0, \"body_mass_g\": 5700.0, \"gender\": \"Male\"}, {\"species\": \"Gentoo\", \"location\": \"Biscoe\", \"bill_length_mm\": 47.6, \"bill_depth_mm\": 14.5, \"flipper_length_mm\": 215.0, \"body_mass_g\": 5400.0, \"gender\": \"Male\"}, {\"species\": \"Gentoo\", \"location\": \"Biscoe\", \"bill_length_mm\": 46.5, \"bill_depth_mm\": 13.5, \"flipper_length_mm\": 210.0, \"body_mass_g\": 4550.0, \"gender\": \"Female\"}, {\"species\": \"Gentoo\", \"location\": \"Biscoe\", \"bill_length_mm\": 45.4, \"bill_depth_mm\": 14.6, \"flipper_length_mm\": 211.0, \"body_mass_g\": 4800.0, \"gender\": \"Female\"}, {\"species\": \"Gentoo\", \"location\": \"Biscoe\", \"bill_length_mm\": 46.7, \"bill_depth_mm\": 15.3, \"flipper_length_mm\": 219.0, \"body_mass_g\": 5200.0, \"gender\": \"Male\"}, {\"species\": \"Gentoo\", \"location\": \"Biscoe\", \"bill_length_mm\": 43.3, \"bill_depth_mm\": 13.4, \"flipper_length_mm\": 209.0, \"body_mass_g\": 4400.0, \"gender\": \"Female\"}, {\"species\": \"Gentoo\", \"location\": \"Biscoe\", \"bill_length_mm\": 46.8, \"bill_depth_mm\": 15.4, \"flipper_length_mm\": 215.0, \"body_mass_g\": 5150.0, \"gender\": \"Male\"}, {\"species\": \"Gentoo\", \"location\": \"Biscoe\", \"bill_length_mm\": 40.9, \"bill_depth_mm\": 13.7, \"flipper_length_mm\": 214.0, \"body_mass_g\": 4650.0, \"gender\": \"Female\"}, {\"species\": \"Gentoo\", \"location\": \"Biscoe\", \"bill_length_mm\": 49.0, \"bill_depth_mm\": 16.1, \"flipper_length_mm\": 216.0, \"body_mass_g\": 5550.0, \"gender\": \"Male\"}, {\"species\": \"Gentoo\", \"location\": \"Biscoe\", \"bill_length_mm\": 45.5, \"bill_depth_mm\": 13.7, \"flipper_length_mm\": 214.0, \"body_mass_g\": 4650.0, \"gender\": \"Female\"}, {\"species\": \"Gentoo\", \"location\": \"Biscoe\", \"bill_length_mm\": 48.4, \"bill_depth_mm\": 14.6, \"flipper_length_mm\": 213.0, \"body_mass_g\": 5850.0, \"gender\": \"Male\"}, {\"species\": \"Gentoo\", \"location\": \"Biscoe\", \"bill_length_mm\": 45.8, \"bill_depth_mm\": 14.6, \"flipper_length_mm\": 210.0, \"body_mass_g\": 4200.0, \"gender\": \"Female\"}, {\"species\": \"Gentoo\", \"location\": \"Biscoe\", \"bill_length_mm\": 49.3, \"bill_depth_mm\": 15.7, \"flipper_length_mm\": 217.0, \"body_mass_g\": 5850.0, \"gender\": \"Male\"}, {\"species\": \"Gentoo\", \"location\": \"Biscoe\", \"bill_length_mm\": 42.0, \"bill_depth_mm\": 13.5, \"flipper_length_mm\": 210.0, \"body_mass_g\": 4150.0, \"gender\": \"Female\"}, {\"species\": \"Gentoo\", \"location\": \"Biscoe\", \"bill_length_mm\": 49.2, \"bill_depth_mm\": 15.2, \"flipper_length_mm\": 221.0, \"body_mass_g\": 6300.0, \"gender\": \"Male\"}, {\"species\": \"Gentoo\", \"location\": \"Biscoe\", \"bill_length_mm\": 46.2, \"bill_depth_mm\": 14.5, \"flipper_length_mm\": 209.0, \"body_mass_g\": 4800.0, \"gender\": \"Female\"}, {\"species\": \"Gentoo\", \"location\": \"Biscoe\", \"bill_length_mm\": 48.7, \"bill_depth_mm\": 15.1, \"flipper_length_mm\": 222.0, \"body_mass_g\": 5350.0, \"gender\": \"Male\"}, {\"species\": \"Gentoo\", \"location\": \"Biscoe\", \"bill_length_mm\": 50.2, \"bill_depth_mm\": 14.3, \"flipper_length_mm\": 218.0, \"body_mass_g\": 5700.0, \"gender\": \"Male\"}, {\"species\": \"Gentoo\", \"location\": \"Biscoe\", \"bill_length_mm\": 45.1, \"bill_depth_mm\": 14.5, \"flipper_length_mm\": 215.0, \"body_mass_g\": 5000.0, \"gender\": \"Female\"}, {\"species\": \"Gentoo\", \"location\": \"Biscoe\", \"bill_length_mm\": 46.5, \"bill_depth_mm\": 14.5, \"flipper_length_mm\": 213.0, \"body_mass_g\": 4400.0, \"gender\": \"Female\"}, {\"species\": \"Gentoo\", \"location\": \"Biscoe\", \"bill_length_mm\": 46.3, \"bill_depth_mm\": 15.8, \"flipper_length_mm\": 215.0, \"body_mass_g\": 5050.0, \"gender\": \"Male\"}, {\"species\": \"Gentoo\", \"location\": \"Biscoe\", \"bill_length_mm\": 42.9, \"bill_depth_mm\": 13.1, \"flipper_length_mm\": 215.0, \"body_mass_g\": 5000.0, \"gender\": \"Female\"}, {\"species\": \"Gentoo\", \"location\": \"Biscoe\", \"bill_length_mm\": 46.1, \"bill_depth_mm\": 15.1, \"flipper_length_mm\": 215.0, \"body_mass_g\": 5100.0, \"gender\": \"Male\"}, {\"species\": \"Gentoo\", \"location\": \"Biscoe\", \"bill_length_mm\": 47.8, \"bill_depth_mm\": 15.0, \"flipper_length_mm\": 215.0, \"body_mass_g\": 5650.0, \"gender\": \"Male\"}, {\"species\": \"Gentoo\", \"location\": \"Biscoe\", \"bill_length_mm\": 48.2, \"bill_depth_mm\": 14.3, \"flipper_length_mm\": 210.0, \"body_mass_g\": 4600.0, \"gender\": \"Female\"}, {\"species\": \"Gentoo\", \"location\": \"Biscoe\", \"bill_length_mm\": 50.0, \"bill_depth_mm\": 15.3, \"flipper_length_mm\": 220.0, \"body_mass_g\": 5550.0, \"gender\": \"Male\"}, {\"species\": \"Gentoo\", \"location\": \"Biscoe\", \"bill_length_mm\": 47.3, \"bill_depth_mm\": 15.3, \"flipper_length_mm\": 222.0, \"body_mass_g\": 5250.0, \"gender\": \"Male\"}, {\"species\": \"Gentoo\", \"location\": \"Biscoe\", \"bill_length_mm\": 42.8, \"bill_depth_mm\": 14.2, \"flipper_length_mm\": 209.0, \"body_mass_g\": 4700.0, \"gender\": \"Female\"}, {\"species\": \"Gentoo\", \"location\": \"Biscoe\", \"bill_length_mm\": 45.1, \"bill_depth_mm\": 14.5, \"flipper_length_mm\": 207.0, \"body_mass_g\": 5050.0, \"gender\": \"Female\"}, {\"species\": \"Gentoo\", \"location\": \"Biscoe\", \"bill_length_mm\": 59.6, \"bill_depth_mm\": 17.0, \"flipper_length_mm\": 230.0, \"body_mass_g\": 6050.0, \"gender\": \"Male\"}, {\"species\": \"Gentoo\", \"location\": \"Biscoe\", \"bill_length_mm\": 49.1, \"bill_depth_mm\": 14.8, \"flipper_length_mm\": 220.0, \"body_mass_g\": 5150.0, \"gender\": \"Female\"}, {\"species\": \"Gentoo\", \"location\": \"Biscoe\", \"bill_length_mm\": 48.4, \"bill_depth_mm\": 16.3, \"flipper_length_mm\": 220.0, \"body_mass_g\": 5400.0, \"gender\": \"Male\"}, {\"species\": \"Gentoo\", \"location\": \"Biscoe\", \"bill_length_mm\": 42.6, \"bill_depth_mm\": 13.7, \"flipper_length_mm\": 213.0, \"body_mass_g\": 4950.0, \"gender\": \"Female\"}, {\"species\": \"Gentoo\", \"location\": \"Biscoe\", \"bill_length_mm\": 44.4, \"bill_depth_mm\": 17.3, \"flipper_length_mm\": 219.0, \"body_mass_g\": 5250.0, \"gender\": \"Male\"}, {\"species\": \"Gentoo\", \"location\": \"Biscoe\", \"bill_length_mm\": 44.0, \"bill_depth_mm\": 13.6, \"flipper_length_mm\": 208.0, \"body_mass_g\": 4350.0, \"gender\": \"Female\"}, {\"species\": \"Gentoo\", \"location\": \"Biscoe\", \"bill_length_mm\": 48.7, \"bill_depth_mm\": 15.7, \"flipper_length_mm\": 208.0, \"body_mass_g\": 5350.0, \"gender\": \"Male\"}, {\"species\": \"Gentoo\", \"location\": \"Biscoe\", \"bill_length_mm\": 42.7, \"bill_depth_mm\": 13.7, \"flipper_length_mm\": 208.0, \"body_mass_g\": 3950.0, \"gender\": \"Female\"}, {\"species\": \"Gentoo\", \"location\": \"Biscoe\", \"bill_length_mm\": 49.6, \"bill_depth_mm\": 16.0, \"flipper_length_mm\": 225.0, \"body_mass_g\": 5700.0, \"gender\": \"Male\"}, {\"species\": \"Gentoo\", \"location\": \"Biscoe\", \"bill_length_mm\": 45.3, \"bill_depth_mm\": 13.7, \"flipper_length_mm\": 210.0, \"body_mass_g\": 4300.0, \"gender\": \"Female\"}, {\"species\": \"Gentoo\", \"location\": \"Biscoe\", \"bill_length_mm\": 49.6, \"bill_depth_mm\": 15.0, \"flipper_length_mm\": 216.0, \"body_mass_g\": 4750.0, \"gender\": \"Male\"}, {\"species\": \"Gentoo\", \"location\": \"Biscoe\", \"bill_length_mm\": 50.5, \"bill_depth_mm\": 15.9, \"flipper_length_mm\": 222.0, \"body_mass_g\": 5550.0, \"gender\": \"Male\"}, {\"species\": \"Gentoo\", \"location\": \"Biscoe\", \"bill_length_mm\": 43.6, \"bill_depth_mm\": 13.9, \"flipper_length_mm\": 217.0, \"body_mass_g\": 4900.0, \"gender\": \"Female\"}, {\"species\": \"Gentoo\", \"location\": \"Biscoe\", \"bill_length_mm\": 45.5, \"bill_depth_mm\": 13.9, \"flipper_length_mm\": 210.0, \"body_mass_g\": 4200.0, \"gender\": \"Female\"}, {\"species\": \"Gentoo\", \"location\": \"Biscoe\", \"bill_length_mm\": 50.5, \"bill_depth_mm\": 15.9, \"flipper_length_mm\": 225.0, \"body_mass_g\": 5400.0, \"gender\": \"Male\"}, {\"species\": \"Gentoo\", \"location\": \"Biscoe\", \"bill_length_mm\": 44.9, \"bill_depth_mm\": 13.3, \"flipper_length_mm\": 213.0, \"body_mass_g\": 5100.0, \"gender\": \"Female\"}, {\"species\": \"Gentoo\", \"location\": \"Biscoe\", \"bill_length_mm\": 45.2, \"bill_depth_mm\": 15.8, \"flipper_length_mm\": 215.0, \"body_mass_g\": 5300.0, \"gender\": \"Male\"}, {\"species\": \"Gentoo\", \"location\": \"Biscoe\", \"bill_length_mm\": 46.6, \"bill_depth_mm\": 14.2, \"flipper_length_mm\": 210.0, \"body_mass_g\": 4850.0, \"gender\": \"Female\"}, {\"species\": \"Gentoo\", \"location\": \"Biscoe\", \"bill_length_mm\": 48.5, \"bill_depth_mm\": 14.1, \"flipper_length_mm\": 220.0, \"body_mass_g\": 5300.0, \"gender\": \"Male\"}, {\"species\": \"Gentoo\", \"location\": \"Biscoe\", \"bill_length_mm\": 45.1, \"bill_depth_mm\": 14.4, \"flipper_length_mm\": 210.0, \"body_mass_g\": 4400.0, \"gender\": \"Female\"}, {\"species\": \"Gentoo\", \"location\": \"Biscoe\", \"bill_length_mm\": 50.1, \"bill_depth_mm\": 15.0, \"flipper_length_mm\": 225.0, \"body_mass_g\": 5000.0, \"gender\": \"Male\"}, {\"species\": \"Gentoo\", \"location\": \"Biscoe\", \"bill_length_mm\": 46.5, \"bill_depth_mm\": 14.4, \"flipper_length_mm\": 217.0, \"body_mass_g\": 4900.0, \"gender\": \"Female\"}, {\"species\": \"Gentoo\", \"location\": \"Biscoe\", \"bill_length_mm\": 45.0, \"bill_depth_mm\": 15.4, \"flipper_length_mm\": 220.0, \"body_mass_g\": 5050.0, \"gender\": \"Male\"}, {\"species\": \"Gentoo\", \"location\": \"Biscoe\", \"bill_length_mm\": 43.8, \"bill_depth_mm\": 13.9, \"flipper_length_mm\": 208.0, \"body_mass_g\": 4300.0, \"gender\": \"Female\"}, {\"species\": \"Gentoo\", \"location\": \"Biscoe\", \"bill_length_mm\": 45.5, \"bill_depth_mm\": 15.0, \"flipper_length_mm\": 220.0, \"body_mass_g\": 5000.0, \"gender\": \"Male\"}, {\"species\": \"Gentoo\", \"location\": \"Biscoe\", \"bill_length_mm\": 43.2, \"bill_depth_mm\": 14.5, \"flipper_length_mm\": 208.0, \"body_mass_g\": 4450.0, \"gender\": \"Female\"}, {\"species\": \"Gentoo\", \"location\": \"Biscoe\", \"bill_length_mm\": 50.4, \"bill_depth_mm\": 15.3, \"flipper_length_mm\": 224.0, \"body_mass_g\": 5550.0, \"gender\": \"Male\"}, {\"species\": \"Gentoo\", \"location\": \"Biscoe\", \"bill_length_mm\": 45.3, \"bill_depth_mm\": 13.8, \"flipper_length_mm\": 208.0, \"body_mass_g\": 4200.0, \"gender\": \"Female\"}, {\"species\": \"Gentoo\", \"location\": \"Biscoe\", \"bill_length_mm\": 46.2, \"bill_depth_mm\": 14.9, \"flipper_length_mm\": 221.0, \"body_mass_g\": 5300.0, \"gender\": \"Male\"}, {\"species\": \"Gentoo\", \"location\": \"Biscoe\", \"bill_length_mm\": 45.7, \"bill_depth_mm\": 13.9, \"flipper_length_mm\": 214.0, \"body_mass_g\": 4400.0, \"gender\": \"Female\"}, {\"species\": \"Gentoo\", \"location\": \"Biscoe\", \"bill_length_mm\": 54.3, \"bill_depth_mm\": 15.7, \"flipper_length_mm\": 231.0, \"body_mass_g\": 5650.0, \"gender\": \"Male\"}, {\"species\": \"Gentoo\", \"location\": \"Biscoe\", \"bill_length_mm\": 45.8, \"bill_depth_mm\": 14.2, \"flipper_length_mm\": 219.0, \"body_mass_g\": 4700.0, \"gender\": \"Female\"}, {\"species\": \"Gentoo\", \"location\": \"Biscoe\", \"bill_length_mm\": 49.8, \"bill_depth_mm\": 16.8, \"flipper_length_mm\": 230.0, \"body_mass_g\": 5700.0, \"gender\": \"Male\"}, {\"species\": \"Gentoo\", \"location\": \"Biscoe\", \"bill_length_mm\": 49.5, \"bill_depth_mm\": 16.2, \"flipper_length_mm\": 229.0, \"body_mass_g\": 5800.0, \"gender\": \"Male\"}, {\"species\": \"Gentoo\", \"location\": \"Biscoe\", \"bill_length_mm\": 43.5, \"bill_depth_mm\": 14.2, \"flipper_length_mm\": 220.0, \"body_mass_g\": 4700.0, \"gender\": \"Female\"}, {\"species\": \"Gentoo\", \"location\": \"Biscoe\", \"bill_length_mm\": 50.7, \"bill_depth_mm\": 15.0, \"flipper_length_mm\": 223.0, \"body_mass_g\": 5550.0, \"gender\": \"Male\"}, {\"species\": \"Gentoo\", \"location\": \"Biscoe\", \"bill_length_mm\": 47.7, \"bill_depth_mm\": 15.0, \"flipper_length_mm\": 216.0, \"body_mass_g\": 4750.0, \"gender\": \"Female\"}, {\"species\": \"Gentoo\", \"location\": \"Biscoe\", \"bill_length_mm\": 46.4, \"bill_depth_mm\": 15.6, \"flipper_length_mm\": 221.0, \"body_mass_g\": 5000.0, \"gender\": \"Male\"}, {\"species\": \"Gentoo\", \"location\": \"Biscoe\", \"bill_length_mm\": 48.2, \"bill_depth_mm\": 15.6, \"flipper_length_mm\": 221.0, \"body_mass_g\": 5100.0, \"gender\": \"Male\"}, {\"species\": \"Gentoo\", \"location\": \"Biscoe\", \"bill_length_mm\": 46.5, \"bill_depth_mm\": 14.8, \"flipper_length_mm\": 217.0, \"body_mass_g\": 5200.0, \"gender\": \"Female\"}, {\"species\": \"Gentoo\", \"location\": \"Biscoe\", \"bill_length_mm\": 46.4, \"bill_depth_mm\": 15.0, \"flipper_length_mm\": 216.0, \"body_mass_g\": 4700.0, \"gender\": \"Female\"}, {\"species\": \"Gentoo\", \"location\": \"Biscoe\", \"bill_length_mm\": 48.6, \"bill_depth_mm\": 16.0, \"flipper_length_mm\": 230.0, \"body_mass_g\": 5800.0, \"gender\": \"Male\"}, {\"species\": \"Gentoo\", \"location\": \"Biscoe\", \"bill_length_mm\": 47.5, \"bill_depth_mm\": 14.2, \"flipper_length_mm\": 209.0, \"body_mass_g\": 4600.0, \"gender\": \"Female\"}, {\"species\": \"Gentoo\", \"location\": \"Biscoe\", \"bill_length_mm\": 51.1, \"bill_depth_mm\": 16.3, \"flipper_length_mm\": 220.0, \"body_mass_g\": 6000.0, \"gender\": \"Male\"}, {\"species\": \"Gentoo\", \"location\": \"Biscoe\", \"bill_length_mm\": 45.2, \"bill_depth_mm\": 13.8, \"flipper_length_mm\": 215.0, \"body_mass_g\": 4750.0, \"gender\": \"Female\"}, {\"species\": \"Gentoo\", \"location\": \"Biscoe\", \"bill_length_mm\": 45.2, \"bill_depth_mm\": 16.4, \"flipper_length_mm\": 223.0, \"body_mass_g\": 5950.0, \"gender\": \"Male\"}, {\"species\": \"Gentoo\", \"location\": \"Biscoe\", \"bill_length_mm\": 49.1, \"bill_depth_mm\": 14.5, \"flipper_length_mm\": 212.0, \"body_mass_g\": 4625.0, \"gender\": \"Female\"}, {\"species\": \"Gentoo\", \"location\": \"Biscoe\", \"bill_length_mm\": 52.5, \"bill_depth_mm\": 15.6, \"flipper_length_mm\": 221.0, \"body_mass_g\": 5450.0, \"gender\": \"Male\"}, {\"species\": \"Gentoo\", \"location\": \"Biscoe\", \"bill_length_mm\": 47.4, \"bill_depth_mm\": 14.6, \"flipper_length_mm\": 212.0, \"body_mass_g\": 4725.0, \"gender\": \"Female\"}, {\"species\": \"Gentoo\", \"location\": \"Biscoe\", \"bill_length_mm\": 50.0, \"bill_depth_mm\": 15.9, \"flipper_length_mm\": 224.0, \"body_mass_g\": 5350.0, \"gender\": \"Male\"}, {\"species\": \"Gentoo\", \"location\": \"Biscoe\", \"bill_length_mm\": 44.9, \"bill_depth_mm\": 13.8, \"flipper_length_mm\": 212.0, \"body_mass_g\": 4750.0, \"gender\": \"Female\"}, {\"species\": \"Gentoo\", \"location\": \"Biscoe\", \"bill_length_mm\": 50.8, \"bill_depth_mm\": 17.3, \"flipper_length_mm\": 228.0, \"body_mass_g\": 5600.0, \"gender\": \"Male\"}, {\"species\": \"Gentoo\", \"location\": \"Biscoe\", \"bill_length_mm\": 43.4, \"bill_depth_mm\": 14.4, \"flipper_length_mm\": 218.0, \"body_mass_g\": 4600.0, \"gender\": \"Female\"}, {\"species\": \"Gentoo\", \"location\": \"Biscoe\", \"bill_length_mm\": 51.3, \"bill_depth_mm\": 14.2, \"flipper_length_mm\": 218.0, \"body_mass_g\": 5300.0, \"gender\": \"Male\"}, {\"species\": \"Gentoo\", \"location\": \"Biscoe\", \"bill_length_mm\": 47.5, \"bill_depth_mm\": 14.0, \"flipper_length_mm\": 212.0, \"body_mass_g\": 4875.0, \"gender\": \"Female\"}, {\"species\": \"Gentoo\", \"location\": \"Biscoe\", \"bill_length_mm\": 52.1, \"bill_depth_mm\": 17.0, \"flipper_length_mm\": 230.0, \"body_mass_g\": 5550.0, \"gender\": \"Male\"}, {\"species\": \"Gentoo\", \"location\": \"Biscoe\", \"bill_length_mm\": 47.5, \"bill_depth_mm\": 15.0, \"flipper_length_mm\": 218.0, \"body_mass_g\": 4950.0, \"gender\": \"Female\"}, {\"species\": \"Gentoo\", \"location\": \"Biscoe\", \"bill_length_mm\": 52.2, \"bill_depth_mm\": 17.1, \"flipper_length_mm\": 228.0, \"body_mass_g\": 5400.0, \"gender\": \"Male\"}, {\"species\": \"Gentoo\", \"location\": \"Biscoe\", \"bill_length_mm\": 45.5, \"bill_depth_mm\": 14.5, \"flipper_length_mm\": 212.0, \"body_mass_g\": 4750.0, \"gender\": \"Female\"}, {\"species\": \"Gentoo\", \"location\": \"Biscoe\", \"bill_length_mm\": 49.5, \"bill_depth_mm\": 16.1, \"flipper_length_mm\": 224.0, \"body_mass_g\": 5650.0, \"gender\": \"Male\"}, {\"species\": \"Gentoo\", \"location\": \"Biscoe\", \"bill_length_mm\": 44.5, \"bill_depth_mm\": 14.7, \"flipper_length_mm\": 214.0, \"body_mass_g\": 4850.0, \"gender\": \"Female\"}, {\"species\": \"Gentoo\", \"location\": \"Biscoe\", \"bill_length_mm\": 50.8, \"bill_depth_mm\": 15.7, \"flipper_length_mm\": 226.0, \"body_mass_g\": 5200.0, \"gender\": \"Male\"}, {\"species\": \"Gentoo\", \"location\": \"Biscoe\", \"bill_length_mm\": 49.4, \"bill_depth_mm\": 15.8, \"flipper_length_mm\": 216.0, \"body_mass_g\": 4925.0, \"gender\": \"Male\"}, {\"species\": \"Gentoo\", \"location\": \"Biscoe\", \"bill_length_mm\": 46.9, \"bill_depth_mm\": 14.6, \"flipper_length_mm\": 222.0, \"body_mass_g\": 4875.0, \"gender\": \"Female\"}, {\"species\": \"Gentoo\", \"location\": \"Biscoe\", \"bill_length_mm\": 48.4, \"bill_depth_mm\": 14.4, \"flipper_length_mm\": 203.0, \"body_mass_g\": 4625.0, \"gender\": \"Female\"}, {\"species\": \"Gentoo\", \"location\": \"Biscoe\", \"bill_length_mm\": 51.1, \"bill_depth_mm\": 16.5, \"flipper_length_mm\": 225.0, \"body_mass_g\": 5250.0, \"gender\": \"Male\"}, {\"species\": \"Gentoo\", \"location\": \"Biscoe\", \"bill_length_mm\": 48.5, \"bill_depth_mm\": 15.0, \"flipper_length_mm\": 219.0, \"body_mass_g\": 4850.0, \"gender\": \"Female\"}, {\"species\": \"Gentoo\", \"location\": \"Biscoe\", \"bill_length_mm\": 55.9, \"bill_depth_mm\": 17.0, \"flipper_length_mm\": 228.0, \"body_mass_g\": 5600.0, \"gender\": \"Male\"}, {\"species\": \"Gentoo\", \"location\": \"Biscoe\", \"bill_length_mm\": 47.2, \"bill_depth_mm\": 15.5, \"flipper_length_mm\": 215.0, \"body_mass_g\": 4975.0, \"gender\": \"Female\"}, {\"species\": \"Gentoo\", \"location\": \"Biscoe\", \"bill_length_mm\": 49.1, \"bill_depth_mm\": 15.0, \"flipper_length_mm\": 228.0, \"body_mass_g\": 5500.0, \"gender\": \"Male\"}, {\"species\": \"Gentoo\", \"location\": \"Biscoe\", \"bill_length_mm\": 46.8, \"bill_depth_mm\": 16.1, \"flipper_length_mm\": 215.0, \"body_mass_g\": 5500.0, \"gender\": \"Male\"}, {\"species\": \"Gentoo\", \"location\": \"Biscoe\", \"bill_length_mm\": 41.7, \"bill_depth_mm\": 14.7, \"flipper_length_mm\": 210.0, \"body_mass_g\": 4700.0, \"gender\": \"Female\"}, {\"species\": \"Gentoo\", \"location\": \"Biscoe\", \"bill_length_mm\": 53.4, \"bill_depth_mm\": 15.8, \"flipper_length_mm\": 219.0, \"body_mass_g\": 5500.0, \"gender\": \"Male\"}, {\"species\": \"Gentoo\", \"location\": \"Biscoe\", \"bill_length_mm\": 43.3, \"bill_depth_mm\": 14.0, \"flipper_length_mm\": 208.0, \"body_mass_g\": 4575.0, \"gender\": \"Female\"}, {\"species\": \"Gentoo\", \"location\": \"Biscoe\", \"bill_length_mm\": 48.1, \"bill_depth_mm\": 15.1, \"flipper_length_mm\": 209.0, \"body_mass_g\": 5500.0, \"gender\": \"Male\"}, {\"species\": \"Gentoo\", \"location\": \"Biscoe\", \"bill_length_mm\": 50.5, \"bill_depth_mm\": 15.2, \"flipper_length_mm\": 216.0, \"body_mass_g\": 5000.0, \"gender\": \"Female\"}, {\"species\": \"Gentoo\", \"location\": \"Biscoe\", \"bill_length_mm\": 49.8, \"bill_depth_mm\": 15.9, \"flipper_length_mm\": 229.0, \"body_mass_g\": 5950.0, \"gender\": \"Male\"}, {\"species\": \"Gentoo\", \"location\": \"Biscoe\", \"bill_length_mm\": 43.5, \"bill_depth_mm\": 15.2, \"flipper_length_mm\": 213.0, \"body_mass_g\": 4650.0, \"gender\": \"Female\"}, {\"species\": \"Gentoo\", \"location\": \"Biscoe\", \"bill_length_mm\": 51.5, \"bill_depth_mm\": 16.3, \"flipper_length_mm\": 230.0, \"body_mass_g\": 5500.0, \"gender\": \"Male\"}, {\"species\": \"Gentoo\", \"location\": \"Biscoe\", \"bill_length_mm\": 46.2, \"bill_depth_mm\": 14.1, \"flipper_length_mm\": 217.0, \"body_mass_g\": 4375.0, \"gender\": \"Female\"}, {\"species\": \"Gentoo\", \"location\": \"Biscoe\", \"bill_length_mm\": 55.1, \"bill_depth_mm\": 16.0, \"flipper_length_mm\": 230.0, \"body_mass_g\": 5850.0, \"gender\": \"Male\"}, {\"species\": \"Gentoo\", \"location\": \"Biscoe\", \"bill_length_mm\": 48.8, \"bill_depth_mm\": 16.2, \"flipper_length_mm\": 222.0, \"body_mass_g\": 6000.0, \"gender\": \"Male\"}, {\"species\": \"Gentoo\", \"location\": \"Biscoe\", \"bill_length_mm\": 47.2, \"bill_depth_mm\": 13.7, \"flipper_length_mm\": 214.0, \"body_mass_g\": 4925.0, \"gender\": \"Female\"}, {\"species\": \"Gentoo\", \"location\": \"Biscoe\", \"bill_length_mm\": 46.8, \"bill_depth_mm\": 14.3, \"flipper_length_mm\": 215.0, \"body_mass_g\": 4850.0, \"gender\": \"Female\"}, {\"species\": \"Gentoo\", \"location\": \"Biscoe\", \"bill_length_mm\": 50.4, \"bill_depth_mm\": 15.7, \"flipper_length_mm\": 222.0, \"body_mass_g\": 5750.0, \"gender\": \"Male\"}, {\"species\": \"Gentoo\", \"location\": \"Biscoe\", \"bill_length_mm\": 45.2, \"bill_depth_mm\": 14.8, \"flipper_length_mm\": 212.0, \"body_mass_g\": 5200.0, \"gender\": \"Female\"}, {\"species\": \"Gentoo\", \"location\": \"Biscoe\", \"bill_length_mm\": 49.9, \"bill_depth_mm\": 16.1, \"flipper_length_mm\": 213.0, \"body_mass_g\": 5400.0, \"gender\": \"Male\"}]}}, {\"mode\": \"vega-lite\"});\n",
       "</script>"
      ],
      "text/plain": [
       "alt.Chart(...)"
      ]
     },
     "execution_count": 32,
     "metadata": {},
     "output_type": "execute_result"
    }
   ],
   "source": [
    "alt.Chart(df).mark_circle().encode(\n",
    "    x=alt.X(\"bill_length_mm\", scale=alt.Scale(domain=(30,60))),\n",
    "    y=alt.Y(\"flipper_length_mm\", scale=alt.Scale(domain=(170,240))),\n",
    "    color=\"species:N\"\n",
    ")"
   ]
  },
  {
   "cell_type": "markdown",
   "metadata": {
    "cell_id": "72a4412d45f14515b47bf456ae3af6e9",
    "deepnote_cell_type": "markdown"
   },
   "source": [
    "* What happens if you try to use the \"Ordinal\" encoding type for the x-axis?  (Get rid of the `scale` part for this.)\n",
    "\n",
    "Notice how different this looks.  Also notice how the gap between 34 and 34.4 is the same as the gap between 36.6 and 36.7.  By using the Ordinal data type, `\":O\"`, we are telling Altair to treat these as distinct categories, and that the numerical difference between the values is not important.\n",
    "\n",
    "This chart definitely looks worse than with the default Quantitative encoding."
   ]
  },
  {
   "cell_type": "code",
   "execution_count": 34,
   "metadata": {
    "cell_id": "37566d6591fa4672a7905ca9f60acf11",
    "deepnote_cell_type": "code",
    "deepnote_to_be_reexecuted": false,
    "execution_millis": 20,
    "execution_start": 1682109606778,
    "source_hash": "a4933a26",
    "tags": [
     "output_scroll"
    ]
   },
   "outputs": [
    {
     "data": {
      "text/html": [
       "\n",
       "<div id=\"altair-viz-0acb1cda085e40658d7ed72c62d1266f\"></div>\n",
       "<script type=\"text/javascript\">\n",
       "  var VEGA_DEBUG = (typeof VEGA_DEBUG == \"undefined\") ? {} : VEGA_DEBUG;\n",
       "  (function(spec, embedOpt){\n",
       "    let outputDiv = document.currentScript.previousElementSibling;\n",
       "    if (outputDiv.id !== \"altair-viz-0acb1cda085e40658d7ed72c62d1266f\") {\n",
       "      outputDiv = document.getElementById(\"altair-viz-0acb1cda085e40658d7ed72c62d1266f\");\n",
       "    }\n",
       "    const paths = {\n",
       "      \"vega\": \"https://cdn.jsdelivr.net/npm//vega@5?noext\",\n",
       "      \"vega-lib\": \"https://cdn.jsdelivr.net/npm//vega-lib?noext\",\n",
       "      \"vega-lite\": \"https://cdn.jsdelivr.net/npm//vega-lite@4.17.0?noext\",\n",
       "      \"vega-embed\": \"https://cdn.jsdelivr.net/npm//vega-embed@6?noext\",\n",
       "    };\n",
       "\n",
       "    function maybeLoadScript(lib, version) {\n",
       "      var key = `${lib.replace(\"-\", \"\")}_version`;\n",
       "      return (VEGA_DEBUG[key] == version) ?\n",
       "        Promise.resolve(paths[lib]) :\n",
       "        new Promise(function(resolve, reject) {\n",
       "          var s = document.createElement('script');\n",
       "          document.getElementsByTagName(\"head\")[0].appendChild(s);\n",
       "          s.async = true;\n",
       "          s.onload = () => {\n",
       "            VEGA_DEBUG[key] = version;\n",
       "            return resolve(paths[lib]);\n",
       "          };\n",
       "          s.onerror = () => reject(`Error loading script: ${paths[lib]}`);\n",
       "          s.src = paths[lib];\n",
       "        });\n",
       "    }\n",
       "\n",
       "    function showError(err) {\n",
       "      outputDiv.innerHTML = `<div class=\"error\" style=\"color:red;\">${err}</div>`;\n",
       "      throw err;\n",
       "    }\n",
       "\n",
       "    function displayChart(vegaEmbed) {\n",
       "      vegaEmbed(outputDiv, spec, embedOpt)\n",
       "        .catch(err => showError(`Javascript Error: ${err.message}<br>This usually means there's a typo in your chart specification. See the javascript console for the full traceback.`));\n",
       "    }\n",
       "\n",
       "    if(typeof define === \"function\" && define.amd) {\n",
       "      requirejs.config({paths});\n",
       "      require([\"vega-embed\"], displayChart, err => showError(`Error loading script: ${err.message}`));\n",
       "    } else {\n",
       "      maybeLoadScript(\"vega\", \"5\")\n",
       "        .then(() => maybeLoadScript(\"vega-lite\", \"4.17.0\"))\n",
       "        .then(() => maybeLoadScript(\"vega-embed\", \"6\"))\n",
       "        .catch(showError)\n",
       "        .then(() => displayChart(vegaEmbed));\n",
       "    }\n",
       "  })({\"config\": {\"view\": {\"continuousWidth\": 400, \"continuousHeight\": 300}}, \"data\": {\"name\": \"data-a7bc2cc87e28b8bb84b0376a27fad733\"}, \"mark\": \"circle\", \"encoding\": {\"color\": {\"field\": \"species\", \"type\": \"nominal\"}, \"x\": {\"field\": \"bill_length_mm\", \"type\": \"ordinal\"}, \"y\": {\"field\": \"flipper_length_mm\", \"scale\": {\"domain\": [170, 240]}, \"type\": \"quantitative\"}}, \"$schema\": \"https://vega.github.io/schema/vega-lite/v4.17.0.json\", \"datasets\": {\"data-a7bc2cc87e28b8bb84b0376a27fad733\": [{\"species\": \"Adelie\", \"location\": \"Torgersen\", \"bill_length_mm\": 39.1, \"bill_depth_mm\": 18.7, \"flipper_length_mm\": 181.0, \"body_mass_g\": 3750.0, \"gender\": \"Male\"}, {\"species\": \"Adelie\", \"location\": \"Torgersen\", \"bill_length_mm\": 39.5, \"bill_depth_mm\": 17.4, \"flipper_length_mm\": 186.0, \"body_mass_g\": 3800.0, \"gender\": \"Female\"}, {\"species\": \"Adelie\", \"location\": \"Torgersen\", \"bill_length_mm\": 40.3, \"bill_depth_mm\": 18.0, \"flipper_length_mm\": 195.0, \"body_mass_g\": 3250.0, \"gender\": \"Female\"}, {\"species\": \"Adelie\", \"location\": \"Torgersen\", \"bill_length_mm\": 36.7, \"bill_depth_mm\": 19.3, \"flipper_length_mm\": 193.0, \"body_mass_g\": 3450.0, \"gender\": \"Female\"}, {\"species\": \"Adelie\", \"location\": \"Torgersen\", \"bill_length_mm\": 39.3, \"bill_depth_mm\": 20.6, \"flipper_length_mm\": 190.0, \"body_mass_g\": 3650.0, \"gender\": \"Male\"}, {\"species\": \"Adelie\", \"location\": \"Torgersen\", \"bill_length_mm\": 38.9, \"bill_depth_mm\": 17.8, \"flipper_length_mm\": 181.0, \"body_mass_g\": 3625.0, \"gender\": \"Female\"}, {\"species\": \"Adelie\", \"location\": \"Torgersen\", \"bill_length_mm\": 39.2, \"bill_depth_mm\": 19.6, \"flipper_length_mm\": 195.0, \"body_mass_g\": 4675.0, \"gender\": \"Male\"}, {\"species\": \"Adelie\", \"location\": \"Torgersen\", \"bill_length_mm\": 41.1, \"bill_depth_mm\": 17.6, \"flipper_length_mm\": 182.0, \"body_mass_g\": 3200.0, \"gender\": \"Female\"}, {\"species\": \"Adelie\", \"location\": \"Torgersen\", \"bill_length_mm\": 38.6, \"bill_depth_mm\": 21.2, \"flipper_length_mm\": 191.0, \"body_mass_g\": 3800.0, \"gender\": \"Male\"}, {\"species\": \"Adelie\", \"location\": \"Torgersen\", \"bill_length_mm\": 34.6, \"bill_depth_mm\": 21.1, \"flipper_length_mm\": 198.0, \"body_mass_g\": 4400.0, \"gender\": \"Male\"}, {\"species\": \"Adelie\", \"location\": \"Torgersen\", \"bill_length_mm\": 36.6, \"bill_depth_mm\": 17.8, \"flipper_length_mm\": 185.0, \"body_mass_g\": 3700.0, \"gender\": \"Female\"}, {\"species\": \"Adelie\", \"location\": \"Torgersen\", \"bill_length_mm\": 38.7, \"bill_depth_mm\": 19.0, \"flipper_length_mm\": 195.0, \"body_mass_g\": 3450.0, \"gender\": \"Female\"}, {\"species\": \"Adelie\", \"location\": \"Torgersen\", \"bill_length_mm\": 42.5, \"bill_depth_mm\": 20.7, \"flipper_length_mm\": 197.0, \"body_mass_g\": 4500.0, \"gender\": \"Male\"}, {\"species\": \"Adelie\", \"location\": \"Torgersen\", \"bill_length_mm\": 34.4, \"bill_depth_mm\": 18.4, \"flipper_length_mm\": 184.0, \"body_mass_g\": 3325.0, \"gender\": \"Female\"}, {\"species\": \"Adelie\", \"location\": \"Torgersen\", \"bill_length_mm\": 46.0, \"bill_depth_mm\": 21.5, \"flipper_length_mm\": 194.0, \"body_mass_g\": 4200.0, \"gender\": \"Male\"}, {\"species\": \"Adelie\", \"location\": \"Biscoe\", \"bill_length_mm\": 37.8, \"bill_depth_mm\": 18.3, \"flipper_length_mm\": 174.0, \"body_mass_g\": 3400.0, \"gender\": \"Female\"}, {\"species\": \"Adelie\", \"location\": \"Biscoe\", \"bill_length_mm\": 37.7, \"bill_depth_mm\": 18.7, \"flipper_length_mm\": 180.0, \"body_mass_g\": 3600.0, \"gender\": \"Male\"}, {\"species\": \"Adelie\", \"location\": \"Biscoe\", \"bill_length_mm\": 35.9, \"bill_depth_mm\": 19.2, \"flipper_length_mm\": 189.0, \"body_mass_g\": 3800.0, \"gender\": \"Female\"}, {\"species\": \"Adelie\", \"location\": \"Biscoe\", \"bill_length_mm\": 38.2, \"bill_depth_mm\": 18.1, \"flipper_length_mm\": 185.0, \"body_mass_g\": 3950.0, \"gender\": \"Male\"}, {\"species\": \"Adelie\", \"location\": \"Biscoe\", \"bill_length_mm\": 38.8, \"bill_depth_mm\": 17.2, \"flipper_length_mm\": 180.0, \"body_mass_g\": 3800.0, \"gender\": \"Male\"}, {\"species\": \"Adelie\", \"location\": \"Biscoe\", \"bill_length_mm\": 35.3, \"bill_depth_mm\": 18.9, \"flipper_length_mm\": 187.0, \"body_mass_g\": 3800.0, \"gender\": \"Female\"}, {\"species\": \"Adelie\", \"location\": \"Biscoe\", \"bill_length_mm\": 40.6, \"bill_depth_mm\": 18.6, \"flipper_length_mm\": 183.0, \"body_mass_g\": 3550.0, \"gender\": \"Male\"}, {\"species\": \"Adelie\", \"location\": \"Biscoe\", \"bill_length_mm\": 40.5, \"bill_depth_mm\": 17.9, \"flipper_length_mm\": 187.0, \"body_mass_g\": 3200.0, \"gender\": \"Female\"}, {\"species\": \"Adelie\", \"location\": \"Biscoe\", \"bill_length_mm\": 37.9, \"bill_depth_mm\": 18.6, \"flipper_length_mm\": 172.0, \"body_mass_g\": 3150.0, \"gender\": \"Female\"}, {\"species\": \"Adelie\", \"location\": \"Biscoe\", \"bill_length_mm\": 40.5, \"bill_depth_mm\": 18.9, \"flipper_length_mm\": 180.0, \"body_mass_g\": 3950.0, \"gender\": \"Male\"}, {\"species\": \"Adelie\", \"location\": \"Dream\", \"bill_length_mm\": 39.5, \"bill_depth_mm\": 16.7, \"flipper_length_mm\": 178.0, \"body_mass_g\": 3250.0, \"gender\": \"Female\"}, {\"species\": \"Adelie\", \"location\": \"Dream\", \"bill_length_mm\": 37.2, \"bill_depth_mm\": 18.1, \"flipper_length_mm\": 178.0, \"body_mass_g\": 3900.0, \"gender\": \"Male\"}, {\"species\": \"Adelie\", \"location\": \"Dream\", \"bill_length_mm\": 39.5, \"bill_depth_mm\": 17.8, \"flipper_length_mm\": 188.0, \"body_mass_g\": 3300.0, \"gender\": \"Female\"}, {\"species\": \"Adelie\", \"location\": \"Dream\", \"bill_length_mm\": 40.9, \"bill_depth_mm\": 18.9, \"flipper_length_mm\": 184.0, \"body_mass_g\": 3900.0, \"gender\": \"Male\"}, {\"species\": \"Adelie\", \"location\": \"Dream\", \"bill_length_mm\": 36.4, \"bill_depth_mm\": 17.0, \"flipper_length_mm\": 195.0, \"body_mass_g\": 3325.0, \"gender\": \"Female\"}, {\"species\": \"Adelie\", \"location\": \"Dream\", \"bill_length_mm\": 39.2, \"bill_depth_mm\": 21.1, \"flipper_length_mm\": 196.0, \"body_mass_g\": 4150.0, \"gender\": \"Male\"}, {\"species\": \"Adelie\", \"location\": \"Dream\", \"bill_length_mm\": 38.8, \"bill_depth_mm\": 20.0, \"flipper_length_mm\": 190.0, \"body_mass_g\": 3950.0, \"gender\": \"Male\"}, {\"species\": \"Adelie\", \"location\": \"Dream\", \"bill_length_mm\": 42.2, \"bill_depth_mm\": 18.5, \"flipper_length_mm\": 180.0, \"body_mass_g\": 3550.0, \"gender\": \"Female\"}, {\"species\": \"Adelie\", \"location\": \"Dream\", \"bill_length_mm\": 37.6, \"bill_depth_mm\": 19.3, \"flipper_length_mm\": 181.0, \"body_mass_g\": 3300.0, \"gender\": \"Female\"}, {\"species\": \"Adelie\", \"location\": \"Dream\", \"bill_length_mm\": 39.8, \"bill_depth_mm\": 19.1, \"flipper_length_mm\": 184.0, \"body_mass_g\": 4650.0, \"gender\": \"Male\"}, {\"species\": \"Adelie\", \"location\": \"Dream\", \"bill_length_mm\": 36.5, \"bill_depth_mm\": 18.0, \"flipper_length_mm\": 182.0, \"body_mass_g\": 3150.0, \"gender\": \"Female\"}, {\"species\": \"Adelie\", \"location\": \"Dream\", \"bill_length_mm\": 40.8, \"bill_depth_mm\": 18.4, \"flipper_length_mm\": 195.0, \"body_mass_g\": 3900.0, \"gender\": \"Male\"}, {\"species\": \"Adelie\", \"location\": \"Dream\", \"bill_length_mm\": 36.0, \"bill_depth_mm\": 18.5, \"flipper_length_mm\": 186.0, \"body_mass_g\": 3100.0, \"gender\": \"Female\"}, {\"species\": \"Adelie\", \"location\": \"Dream\", \"bill_length_mm\": 44.1, \"bill_depth_mm\": 19.7, \"flipper_length_mm\": 196.0, \"body_mass_g\": 4400.0, \"gender\": \"Male\"}, {\"species\": \"Adelie\", \"location\": \"Dream\", \"bill_length_mm\": 37.0, \"bill_depth_mm\": 16.9, \"flipper_length_mm\": 185.0, \"body_mass_g\": 3000.0, \"gender\": \"Female\"}, {\"species\": \"Adelie\", \"location\": \"Dream\", \"bill_length_mm\": 39.6, \"bill_depth_mm\": 18.8, \"flipper_length_mm\": 190.0, \"body_mass_g\": 4600.0, \"gender\": \"Male\"}, {\"species\": \"Adelie\", \"location\": \"Dream\", \"bill_length_mm\": 41.1, \"bill_depth_mm\": 19.0, \"flipper_length_mm\": 182.0, \"body_mass_g\": 3425.0, \"gender\": \"Male\"}, {\"species\": \"Adelie\", \"location\": \"Dream\", \"bill_length_mm\": 36.0, \"bill_depth_mm\": 17.9, \"flipper_length_mm\": 190.0, \"body_mass_g\": 3450.0, \"gender\": \"Female\"}, {\"species\": \"Adelie\", \"location\": \"Dream\", \"bill_length_mm\": 42.3, \"bill_depth_mm\": 21.2, \"flipper_length_mm\": 191.0, \"body_mass_g\": 4150.0, \"gender\": \"Male\"}, {\"species\": \"Adelie\", \"location\": \"Biscoe\", \"bill_length_mm\": 39.6, \"bill_depth_mm\": 17.7, \"flipper_length_mm\": 186.0, \"body_mass_g\": 3500.0, \"gender\": \"Female\"}, {\"species\": \"Adelie\", \"location\": \"Biscoe\", \"bill_length_mm\": 40.1, \"bill_depth_mm\": 18.9, \"flipper_length_mm\": 188.0, \"body_mass_g\": 4300.0, \"gender\": \"Male\"}, {\"species\": \"Adelie\", \"location\": \"Biscoe\", \"bill_length_mm\": 35.0, \"bill_depth_mm\": 17.9, \"flipper_length_mm\": 190.0, \"body_mass_g\": 3450.0, \"gender\": \"Female\"}, {\"species\": \"Adelie\", \"location\": \"Biscoe\", \"bill_length_mm\": 42.0, \"bill_depth_mm\": 19.5, \"flipper_length_mm\": 200.0, \"body_mass_g\": 4050.0, \"gender\": \"Male\"}, {\"species\": \"Adelie\", \"location\": \"Biscoe\", \"bill_length_mm\": 34.5, \"bill_depth_mm\": 18.1, \"flipper_length_mm\": 187.0, \"body_mass_g\": 2900.0, \"gender\": \"Female\"}, {\"species\": \"Adelie\", \"location\": \"Biscoe\", \"bill_length_mm\": 41.4, \"bill_depth_mm\": 18.6, \"flipper_length_mm\": 191.0, \"body_mass_g\": 3700.0, \"gender\": \"Male\"}, {\"species\": \"Adelie\", \"location\": \"Biscoe\", \"bill_length_mm\": 39.0, \"bill_depth_mm\": 17.5, \"flipper_length_mm\": 186.0, \"body_mass_g\": 3550.0, \"gender\": \"Female\"}, {\"species\": \"Adelie\", \"location\": \"Biscoe\", \"bill_length_mm\": 40.6, \"bill_depth_mm\": 18.8, \"flipper_length_mm\": 193.0, \"body_mass_g\": 3800.0, \"gender\": \"Male\"}, {\"species\": \"Adelie\", \"location\": \"Biscoe\", \"bill_length_mm\": 36.5, \"bill_depth_mm\": 16.6, \"flipper_length_mm\": 181.0, \"body_mass_g\": 2850.0, \"gender\": \"Female\"}, {\"species\": \"Adelie\", \"location\": \"Biscoe\", \"bill_length_mm\": 37.6, \"bill_depth_mm\": 19.1, \"flipper_length_mm\": 194.0, \"body_mass_g\": 3750.0, \"gender\": \"Male\"}, {\"species\": \"Adelie\", \"location\": \"Biscoe\", \"bill_length_mm\": 35.7, \"bill_depth_mm\": 16.9, \"flipper_length_mm\": 185.0, \"body_mass_g\": 3150.0, \"gender\": \"Female\"}, {\"species\": \"Adelie\", \"location\": \"Biscoe\", \"bill_length_mm\": 41.3, \"bill_depth_mm\": 21.1, \"flipper_length_mm\": 195.0, \"body_mass_g\": 4400.0, \"gender\": \"Male\"}, {\"species\": \"Adelie\", \"location\": \"Biscoe\", \"bill_length_mm\": 37.6, \"bill_depth_mm\": 17.0, \"flipper_length_mm\": 185.0, \"body_mass_g\": 3600.0, \"gender\": \"Female\"}, {\"species\": \"Adelie\", \"location\": \"Biscoe\", \"bill_length_mm\": 41.1, \"bill_depth_mm\": 18.2, \"flipper_length_mm\": 192.0, \"body_mass_g\": 4050.0, \"gender\": \"Male\"}, {\"species\": \"Adelie\", \"location\": \"Biscoe\", \"bill_length_mm\": 36.4, \"bill_depth_mm\": 17.1, \"flipper_length_mm\": 184.0, \"body_mass_g\": 2850.0, \"gender\": \"Female\"}, {\"species\": \"Adelie\", \"location\": \"Biscoe\", \"bill_length_mm\": 41.6, \"bill_depth_mm\": 18.0, \"flipper_length_mm\": 192.0, \"body_mass_g\": 3950.0, \"gender\": \"Male\"}, {\"species\": \"Adelie\", \"location\": \"Biscoe\", \"bill_length_mm\": 35.5, \"bill_depth_mm\": 16.2, \"flipper_length_mm\": 195.0, \"body_mass_g\": 3350.0, \"gender\": \"Female\"}, {\"species\": \"Adelie\", \"location\": \"Biscoe\", \"bill_length_mm\": 41.1, \"bill_depth_mm\": 19.1, \"flipper_length_mm\": 188.0, \"body_mass_g\": 4100.0, \"gender\": \"Male\"}, {\"species\": \"Adelie\", \"location\": \"Torgersen\", \"bill_length_mm\": 35.9, \"bill_depth_mm\": 16.6, \"flipper_length_mm\": 190.0, \"body_mass_g\": 3050.0, \"gender\": \"Female\"}, {\"species\": \"Adelie\", \"location\": \"Torgersen\", \"bill_length_mm\": 41.8, \"bill_depth_mm\": 19.4, \"flipper_length_mm\": 198.0, \"body_mass_g\": 4450.0, \"gender\": \"Male\"}, {\"species\": \"Adelie\", \"location\": \"Torgersen\", \"bill_length_mm\": 33.5, \"bill_depth_mm\": 19.0, \"flipper_length_mm\": 190.0, \"body_mass_g\": 3600.0, \"gender\": \"Female\"}, {\"species\": \"Adelie\", \"location\": \"Torgersen\", \"bill_length_mm\": 39.7, \"bill_depth_mm\": 18.4, \"flipper_length_mm\": 190.0, \"body_mass_g\": 3900.0, \"gender\": \"Male\"}, {\"species\": \"Adelie\", \"location\": \"Torgersen\", \"bill_length_mm\": 39.6, \"bill_depth_mm\": 17.2, \"flipper_length_mm\": 196.0, \"body_mass_g\": 3550.0, \"gender\": \"Female\"}, {\"species\": \"Adelie\", \"location\": \"Torgersen\", \"bill_length_mm\": 45.8, \"bill_depth_mm\": 18.9, \"flipper_length_mm\": 197.0, \"body_mass_g\": 4150.0, \"gender\": \"Male\"}, {\"species\": \"Adelie\", \"location\": \"Torgersen\", \"bill_length_mm\": 35.5, \"bill_depth_mm\": 17.5, \"flipper_length_mm\": 190.0, \"body_mass_g\": 3700.0, \"gender\": \"Female\"}, {\"species\": \"Adelie\", \"location\": \"Torgersen\", \"bill_length_mm\": 42.8, \"bill_depth_mm\": 18.5, \"flipper_length_mm\": 195.0, \"body_mass_g\": 4250.0, \"gender\": \"Male\"}, {\"species\": \"Adelie\", \"location\": \"Torgersen\", \"bill_length_mm\": 40.9, \"bill_depth_mm\": 16.8, \"flipper_length_mm\": 191.0, \"body_mass_g\": 3700.0, \"gender\": \"Female\"}, {\"species\": \"Adelie\", \"location\": \"Torgersen\", \"bill_length_mm\": 37.2, \"bill_depth_mm\": 19.4, \"flipper_length_mm\": 184.0, \"body_mass_g\": 3900.0, \"gender\": \"Male\"}, {\"species\": \"Adelie\", \"location\": \"Torgersen\", \"bill_length_mm\": 36.2, \"bill_depth_mm\": 16.1, \"flipper_length_mm\": 187.0, \"body_mass_g\": 3550.0, \"gender\": \"Female\"}, {\"species\": \"Adelie\", \"location\": \"Torgersen\", \"bill_length_mm\": 42.1, \"bill_depth_mm\": 19.1, \"flipper_length_mm\": 195.0, \"body_mass_g\": 4000.0, \"gender\": \"Male\"}, {\"species\": \"Adelie\", \"location\": \"Torgersen\", \"bill_length_mm\": 34.6, \"bill_depth_mm\": 17.2, \"flipper_length_mm\": 189.0, \"body_mass_g\": 3200.0, \"gender\": \"Female\"}, {\"species\": \"Adelie\", \"location\": \"Torgersen\", \"bill_length_mm\": 42.9, \"bill_depth_mm\": 17.6, \"flipper_length_mm\": 196.0, \"body_mass_g\": 4700.0, \"gender\": \"Male\"}, {\"species\": \"Adelie\", \"location\": \"Torgersen\", \"bill_length_mm\": 36.7, \"bill_depth_mm\": 18.8, \"flipper_length_mm\": 187.0, \"body_mass_g\": 3800.0, \"gender\": \"Female\"}, {\"species\": \"Adelie\", \"location\": \"Torgersen\", \"bill_length_mm\": 35.1, \"bill_depth_mm\": 19.4, \"flipper_length_mm\": 193.0, \"body_mass_g\": 4200.0, \"gender\": \"Male\"}, {\"species\": \"Adelie\", \"location\": \"Dream\", \"bill_length_mm\": 37.3, \"bill_depth_mm\": 17.8, \"flipper_length_mm\": 191.0, \"body_mass_g\": 3350.0, \"gender\": \"Female\"}, {\"species\": \"Adelie\", \"location\": \"Dream\", \"bill_length_mm\": 41.3, \"bill_depth_mm\": 20.3, \"flipper_length_mm\": 194.0, \"body_mass_g\": 3550.0, \"gender\": \"Male\"}, {\"species\": \"Adelie\", \"location\": \"Dream\", \"bill_length_mm\": 36.3, \"bill_depth_mm\": 19.5, \"flipper_length_mm\": 190.0, \"body_mass_g\": 3800.0, \"gender\": \"Male\"}, {\"species\": \"Adelie\", \"location\": \"Dream\", \"bill_length_mm\": 36.9, \"bill_depth_mm\": 18.6, \"flipper_length_mm\": 189.0, \"body_mass_g\": 3500.0, \"gender\": \"Female\"}, {\"species\": \"Adelie\", \"location\": \"Dream\", \"bill_length_mm\": 38.3, \"bill_depth_mm\": 19.2, \"flipper_length_mm\": 189.0, \"body_mass_g\": 3950.0, \"gender\": \"Male\"}, {\"species\": \"Adelie\", \"location\": \"Dream\", \"bill_length_mm\": 38.9, \"bill_depth_mm\": 18.8, \"flipper_length_mm\": 190.0, \"body_mass_g\": 3600.0, \"gender\": \"Female\"}, {\"species\": \"Adelie\", \"location\": \"Dream\", \"bill_length_mm\": 35.7, \"bill_depth_mm\": 18.0, \"flipper_length_mm\": 202.0, \"body_mass_g\": 3550.0, \"gender\": \"Female\"}, {\"species\": \"Adelie\", \"location\": \"Dream\", \"bill_length_mm\": 41.1, \"bill_depth_mm\": 18.1, \"flipper_length_mm\": 205.0, \"body_mass_g\": 4300.0, \"gender\": \"Male\"}, {\"species\": \"Adelie\", \"location\": \"Dream\", \"bill_length_mm\": 34.0, \"bill_depth_mm\": 17.1, \"flipper_length_mm\": 185.0, \"body_mass_g\": 3400.0, \"gender\": \"Female\"}, {\"species\": \"Adelie\", \"location\": \"Dream\", \"bill_length_mm\": 39.6, \"bill_depth_mm\": 18.1, \"flipper_length_mm\": 186.0, \"body_mass_g\": 4450.0, \"gender\": \"Male\"}, {\"species\": \"Adelie\", \"location\": \"Dream\", \"bill_length_mm\": 36.2, \"bill_depth_mm\": 17.3, \"flipper_length_mm\": 187.0, \"body_mass_g\": 3300.0, \"gender\": \"Female\"}, {\"species\": \"Adelie\", \"location\": \"Dream\", \"bill_length_mm\": 40.8, \"bill_depth_mm\": 18.9, \"flipper_length_mm\": 208.0, \"body_mass_g\": 4300.0, \"gender\": \"Male\"}, {\"species\": \"Adelie\", \"location\": \"Dream\", \"bill_length_mm\": 38.1, \"bill_depth_mm\": 18.6, \"flipper_length_mm\": 190.0, \"body_mass_g\": 3700.0, \"gender\": \"Female\"}, {\"species\": \"Adelie\", \"location\": \"Dream\", \"bill_length_mm\": 40.3, \"bill_depth_mm\": 18.5, \"flipper_length_mm\": 196.0, \"body_mass_g\": 4350.0, \"gender\": \"Male\"}, {\"species\": \"Adelie\", \"location\": \"Dream\", \"bill_length_mm\": 33.1, \"bill_depth_mm\": 16.1, \"flipper_length_mm\": 178.0, \"body_mass_g\": 2900.0, \"gender\": \"Female\"}, {\"species\": \"Adelie\", \"location\": \"Dream\", \"bill_length_mm\": 43.2, \"bill_depth_mm\": 18.5, \"flipper_length_mm\": 192.0, \"body_mass_g\": 4100.0, \"gender\": \"Male\"}, {\"species\": \"Adelie\", \"location\": \"Biscoe\", \"bill_length_mm\": 35.0, \"bill_depth_mm\": 17.9, \"flipper_length_mm\": 192.0, \"body_mass_g\": 3725.0, \"gender\": \"Female\"}, {\"species\": \"Adelie\", \"location\": \"Biscoe\", \"bill_length_mm\": 41.0, \"bill_depth_mm\": 20.0, \"flipper_length_mm\": 203.0, \"body_mass_g\": 4725.0, \"gender\": \"Male\"}, {\"species\": \"Adelie\", \"location\": \"Biscoe\", \"bill_length_mm\": 37.7, \"bill_depth_mm\": 16.0, \"flipper_length_mm\": 183.0, \"body_mass_g\": 3075.0, \"gender\": \"Female\"}, {\"species\": \"Adelie\", \"location\": \"Biscoe\", \"bill_length_mm\": 37.8, \"bill_depth_mm\": 20.0, \"flipper_length_mm\": 190.0, \"body_mass_g\": 4250.0, \"gender\": \"Male\"}, {\"species\": \"Adelie\", \"location\": \"Biscoe\", \"bill_length_mm\": 37.9, \"bill_depth_mm\": 18.6, \"flipper_length_mm\": 193.0, \"body_mass_g\": 2925.0, \"gender\": \"Female\"}, {\"species\": \"Adelie\", \"location\": \"Biscoe\", \"bill_length_mm\": 39.7, \"bill_depth_mm\": 18.9, \"flipper_length_mm\": 184.0, \"body_mass_g\": 3550.0, \"gender\": \"Male\"}, {\"species\": \"Adelie\", \"location\": \"Biscoe\", \"bill_length_mm\": 38.6, \"bill_depth_mm\": 17.2, \"flipper_length_mm\": 199.0, \"body_mass_g\": 3750.0, \"gender\": \"Female\"}, {\"species\": \"Adelie\", \"location\": \"Biscoe\", \"bill_length_mm\": 38.2, \"bill_depth_mm\": 20.0, \"flipper_length_mm\": 190.0, \"body_mass_g\": 3900.0, \"gender\": \"Male\"}, {\"species\": \"Adelie\", \"location\": \"Biscoe\", \"bill_length_mm\": 38.1, \"bill_depth_mm\": 17.0, \"flipper_length_mm\": 181.0, \"body_mass_g\": 3175.0, \"gender\": \"Female\"}, {\"species\": \"Adelie\", \"location\": \"Biscoe\", \"bill_length_mm\": 43.2, \"bill_depth_mm\": 19.0, \"flipper_length_mm\": 197.0, \"body_mass_g\": 4775.0, \"gender\": \"Male\"}, {\"species\": \"Adelie\", \"location\": \"Biscoe\", \"bill_length_mm\": 38.1, \"bill_depth_mm\": 16.5, \"flipper_length_mm\": 198.0, \"body_mass_g\": 3825.0, \"gender\": \"Female\"}, {\"species\": \"Adelie\", \"location\": \"Biscoe\", \"bill_length_mm\": 45.6, \"bill_depth_mm\": 20.3, \"flipper_length_mm\": 191.0, \"body_mass_g\": 4600.0, \"gender\": \"Male\"}, {\"species\": \"Adelie\", \"location\": \"Biscoe\", \"bill_length_mm\": 39.7, \"bill_depth_mm\": 17.7, \"flipper_length_mm\": 193.0, \"body_mass_g\": 3200.0, \"gender\": \"Female\"}, {\"species\": \"Adelie\", \"location\": \"Biscoe\", \"bill_length_mm\": 42.2, \"bill_depth_mm\": 19.5, \"flipper_length_mm\": 197.0, \"body_mass_g\": 4275.0, \"gender\": \"Male\"}, {\"species\": \"Adelie\", \"location\": \"Biscoe\", \"bill_length_mm\": 39.6, \"bill_depth_mm\": 20.7, \"flipper_length_mm\": 191.0, \"body_mass_g\": 3900.0, \"gender\": \"Female\"}, {\"species\": \"Adelie\", \"location\": \"Biscoe\", \"bill_length_mm\": 42.7, \"bill_depth_mm\": 18.3, \"flipper_length_mm\": 196.0, \"body_mass_g\": 4075.0, \"gender\": \"Male\"}, {\"species\": \"Adelie\", \"location\": \"Torgersen\", \"bill_length_mm\": 38.6, \"bill_depth_mm\": 17.0, \"flipper_length_mm\": 188.0, \"body_mass_g\": 2900.0, \"gender\": \"Female\"}, {\"species\": \"Adelie\", \"location\": \"Torgersen\", \"bill_length_mm\": 37.3, \"bill_depth_mm\": 20.5, \"flipper_length_mm\": 199.0, \"body_mass_g\": 3775.0, \"gender\": \"Male\"}, {\"species\": \"Adelie\", \"location\": \"Torgersen\", \"bill_length_mm\": 35.7, \"bill_depth_mm\": 17.0, \"flipper_length_mm\": 189.0, \"body_mass_g\": 3350.0, \"gender\": \"Female\"}, {\"species\": \"Adelie\", \"location\": \"Torgersen\", \"bill_length_mm\": 41.1, \"bill_depth_mm\": 18.6, \"flipper_length_mm\": 189.0, \"body_mass_g\": 3325.0, \"gender\": \"Male\"}, {\"species\": \"Adelie\", \"location\": \"Torgersen\", \"bill_length_mm\": 36.2, \"bill_depth_mm\": 17.2, \"flipper_length_mm\": 187.0, \"body_mass_g\": 3150.0, \"gender\": \"Female\"}, {\"species\": \"Adelie\", \"location\": \"Torgersen\", \"bill_length_mm\": 37.7, \"bill_depth_mm\": 19.8, \"flipper_length_mm\": 198.0, \"body_mass_g\": 3500.0, \"gender\": \"Male\"}, {\"species\": \"Adelie\", \"location\": \"Torgersen\", \"bill_length_mm\": 40.2, \"bill_depth_mm\": 17.0, \"flipper_length_mm\": 176.0, \"body_mass_g\": 3450.0, \"gender\": \"Female\"}, {\"species\": \"Adelie\", \"location\": \"Torgersen\", \"bill_length_mm\": 41.4, \"bill_depth_mm\": 18.5, \"flipper_length_mm\": 202.0, \"body_mass_g\": 3875.0, \"gender\": \"Male\"}, {\"species\": \"Adelie\", \"location\": \"Torgersen\", \"bill_length_mm\": 35.2, \"bill_depth_mm\": 15.9, \"flipper_length_mm\": 186.0, \"body_mass_g\": 3050.0, \"gender\": \"Female\"}, {\"species\": \"Adelie\", \"location\": \"Torgersen\", \"bill_length_mm\": 40.6, \"bill_depth_mm\": 19.0, \"flipper_length_mm\": 199.0, \"body_mass_g\": 4000.0, \"gender\": \"Male\"}, {\"species\": \"Adelie\", \"location\": \"Torgersen\", \"bill_length_mm\": 38.8, \"bill_depth_mm\": 17.6, \"flipper_length_mm\": 191.0, \"body_mass_g\": 3275.0, \"gender\": \"Female\"}, {\"species\": \"Adelie\", \"location\": \"Torgersen\", \"bill_length_mm\": 41.5, \"bill_depth_mm\": 18.3, \"flipper_length_mm\": 195.0, \"body_mass_g\": 4300.0, \"gender\": \"Male\"}, {\"species\": \"Adelie\", \"location\": \"Torgersen\", \"bill_length_mm\": 39.0, \"bill_depth_mm\": 17.1, \"flipper_length_mm\": 191.0, \"body_mass_g\": 3050.0, \"gender\": \"Female\"}, {\"species\": \"Adelie\", \"location\": \"Torgersen\", \"bill_length_mm\": 44.1, \"bill_depth_mm\": 18.0, \"flipper_length_mm\": 210.0, \"body_mass_g\": 4000.0, \"gender\": \"Male\"}, {\"species\": \"Adelie\", \"location\": \"Torgersen\", \"bill_length_mm\": 38.5, \"bill_depth_mm\": 17.9, \"flipper_length_mm\": 190.0, \"body_mass_g\": 3325.0, \"gender\": \"Female\"}, {\"species\": \"Adelie\", \"location\": \"Torgersen\", \"bill_length_mm\": 43.1, \"bill_depth_mm\": 19.2, \"flipper_length_mm\": 197.0, \"body_mass_g\": 3500.0, \"gender\": \"Male\"}, {\"species\": \"Adelie\", \"location\": \"Dream\", \"bill_length_mm\": 36.8, \"bill_depth_mm\": 18.5, \"flipper_length_mm\": 193.0, \"body_mass_g\": 3500.0, \"gender\": \"Female\"}, {\"species\": \"Adelie\", \"location\": \"Dream\", \"bill_length_mm\": 37.5, \"bill_depth_mm\": 18.5, \"flipper_length_mm\": 199.0, \"body_mass_g\": 4475.0, \"gender\": \"Male\"}, {\"species\": \"Adelie\", \"location\": \"Dream\", \"bill_length_mm\": 38.1, \"bill_depth_mm\": 17.6, \"flipper_length_mm\": 187.0, \"body_mass_g\": 3425.0, \"gender\": \"Female\"}, {\"species\": \"Adelie\", \"location\": \"Dream\", \"bill_length_mm\": 41.1, \"bill_depth_mm\": 17.5, \"flipper_length_mm\": 190.0, \"body_mass_g\": 3900.0, \"gender\": \"Male\"}, {\"species\": \"Adelie\", \"location\": \"Dream\", \"bill_length_mm\": 35.6, \"bill_depth_mm\": 17.5, \"flipper_length_mm\": 191.0, \"body_mass_g\": 3175.0, \"gender\": \"Female\"}, {\"species\": \"Adelie\", \"location\": \"Dream\", \"bill_length_mm\": 40.2, \"bill_depth_mm\": 20.1, \"flipper_length_mm\": 200.0, \"body_mass_g\": 3975.0, \"gender\": \"Male\"}, {\"species\": \"Adelie\", \"location\": \"Dream\", \"bill_length_mm\": 37.0, \"bill_depth_mm\": 16.5, \"flipper_length_mm\": 185.0, \"body_mass_g\": 3400.0, \"gender\": \"Female\"}, {\"species\": \"Adelie\", \"location\": \"Dream\", \"bill_length_mm\": 39.7, \"bill_depth_mm\": 17.9, \"flipper_length_mm\": 193.0, \"body_mass_g\": 4250.0, \"gender\": \"Male\"}, {\"species\": \"Adelie\", \"location\": \"Dream\", \"bill_length_mm\": 40.2, \"bill_depth_mm\": 17.1, \"flipper_length_mm\": 193.0, \"body_mass_g\": 3400.0, \"gender\": \"Female\"}, {\"species\": \"Adelie\", \"location\": \"Dream\", \"bill_length_mm\": 40.6, \"bill_depth_mm\": 17.2, \"flipper_length_mm\": 187.0, \"body_mass_g\": 3475.0, \"gender\": \"Male\"}, {\"species\": \"Adelie\", \"location\": \"Dream\", \"bill_length_mm\": 32.1, \"bill_depth_mm\": 15.5, \"flipper_length_mm\": 188.0, \"body_mass_g\": 3050.0, \"gender\": \"Female\"}, {\"species\": \"Adelie\", \"location\": \"Dream\", \"bill_length_mm\": 40.7, \"bill_depth_mm\": 17.0, \"flipper_length_mm\": 190.0, \"body_mass_g\": 3725.0, \"gender\": \"Male\"}, {\"species\": \"Adelie\", \"location\": \"Dream\", \"bill_length_mm\": 37.3, \"bill_depth_mm\": 16.8, \"flipper_length_mm\": 192.0, \"body_mass_g\": 3000.0, \"gender\": \"Female\"}, {\"species\": \"Adelie\", \"location\": \"Dream\", \"bill_length_mm\": 39.0, \"bill_depth_mm\": 18.7, \"flipper_length_mm\": 185.0, \"body_mass_g\": 3650.0, \"gender\": \"Male\"}, {\"species\": \"Adelie\", \"location\": \"Dream\", \"bill_length_mm\": 39.2, \"bill_depth_mm\": 18.6, \"flipper_length_mm\": 190.0, \"body_mass_g\": 4250.0, \"gender\": \"Male\"}, {\"species\": \"Adelie\", \"location\": \"Dream\", \"bill_length_mm\": 36.6, \"bill_depth_mm\": 18.4, \"flipper_length_mm\": 184.0, \"body_mass_g\": 3475.0, \"gender\": \"Female\"}, {\"species\": \"Adelie\", \"location\": \"Dream\", \"bill_length_mm\": 36.0, \"bill_depth_mm\": 17.8, \"flipper_length_mm\": 195.0, \"body_mass_g\": 3450.0, \"gender\": \"Female\"}, {\"species\": \"Adelie\", \"location\": \"Dream\", \"bill_length_mm\": 37.8, \"bill_depth_mm\": 18.1, \"flipper_length_mm\": 193.0, \"body_mass_g\": 3750.0, \"gender\": \"Male\"}, {\"species\": \"Adelie\", \"location\": \"Dream\", \"bill_length_mm\": 36.0, \"bill_depth_mm\": 17.1, \"flipper_length_mm\": 187.0, \"body_mass_g\": 3700.0, \"gender\": \"Female\"}, {\"species\": \"Adelie\", \"location\": \"Dream\", \"bill_length_mm\": 41.5, \"bill_depth_mm\": 18.5, \"flipper_length_mm\": 201.0, \"body_mass_g\": 4000.0, \"gender\": \"Male\"}, {\"species\": \"Chinstrap\", \"location\": \"Dream\", \"bill_length_mm\": 46.5, \"bill_depth_mm\": 17.9, \"flipper_length_mm\": 192.0, \"body_mass_g\": 3500.0, \"gender\": \"Female\"}, {\"species\": \"Chinstrap\", \"location\": \"Dream\", \"bill_length_mm\": 50.0, \"bill_depth_mm\": 19.5, \"flipper_length_mm\": 196.0, \"body_mass_g\": 3900.0, \"gender\": \"Male\"}, {\"species\": \"Chinstrap\", \"location\": \"Dream\", \"bill_length_mm\": 51.3, \"bill_depth_mm\": 19.2, \"flipper_length_mm\": 193.0, \"body_mass_g\": 3650.0, \"gender\": \"Male\"}, {\"species\": \"Chinstrap\", \"location\": \"Dream\", \"bill_length_mm\": 45.4, \"bill_depth_mm\": 18.7, \"flipper_length_mm\": 188.0, \"body_mass_g\": 3525.0, \"gender\": \"Female\"}, {\"species\": \"Chinstrap\", \"location\": \"Dream\", \"bill_length_mm\": 52.7, \"bill_depth_mm\": 19.8, \"flipper_length_mm\": 197.0, \"body_mass_g\": 3725.0, \"gender\": \"Male\"}, {\"species\": \"Chinstrap\", \"location\": \"Dream\", \"bill_length_mm\": 45.2, \"bill_depth_mm\": 17.8, \"flipper_length_mm\": 198.0, \"body_mass_g\": 3950.0, \"gender\": \"Female\"}, {\"species\": \"Chinstrap\", \"location\": \"Dream\", \"bill_length_mm\": 46.1, \"bill_depth_mm\": 18.2, \"flipper_length_mm\": 178.0, \"body_mass_g\": 3250.0, \"gender\": \"Female\"}, {\"species\": \"Chinstrap\", \"location\": \"Dream\", \"bill_length_mm\": 51.3, \"bill_depth_mm\": 18.2, \"flipper_length_mm\": 197.0, \"body_mass_g\": 3750.0, \"gender\": \"Male\"}, {\"species\": \"Chinstrap\", \"location\": \"Dream\", \"bill_length_mm\": 46.0, \"bill_depth_mm\": 18.9, \"flipper_length_mm\": 195.0, \"body_mass_g\": 4150.0, \"gender\": \"Female\"}, {\"species\": \"Chinstrap\", \"location\": \"Dream\", \"bill_length_mm\": 51.3, \"bill_depth_mm\": 19.9, \"flipper_length_mm\": 198.0, \"body_mass_g\": 3700.0, \"gender\": \"Male\"}, {\"species\": \"Chinstrap\", \"location\": \"Dream\", \"bill_length_mm\": 46.6, \"bill_depth_mm\": 17.8, \"flipper_length_mm\": 193.0, \"body_mass_g\": 3800.0, \"gender\": \"Female\"}, {\"species\": \"Chinstrap\", \"location\": \"Dream\", \"bill_length_mm\": 51.7, \"bill_depth_mm\": 20.3, \"flipper_length_mm\": 194.0, \"body_mass_g\": 3775.0, \"gender\": \"Male\"}, {\"species\": \"Chinstrap\", \"location\": \"Dream\", \"bill_length_mm\": 47.0, \"bill_depth_mm\": 17.3, \"flipper_length_mm\": 185.0, \"body_mass_g\": 3700.0, \"gender\": \"Female\"}, {\"species\": \"Chinstrap\", \"location\": \"Dream\", \"bill_length_mm\": 52.0, \"bill_depth_mm\": 18.1, \"flipper_length_mm\": 201.0, \"body_mass_g\": 4050.0, \"gender\": \"Male\"}, {\"species\": \"Chinstrap\", \"location\": \"Dream\", \"bill_length_mm\": 45.9, \"bill_depth_mm\": 17.1, \"flipper_length_mm\": 190.0, \"body_mass_g\": 3575.0, \"gender\": \"Female\"}, {\"species\": \"Chinstrap\", \"location\": \"Dream\", \"bill_length_mm\": 50.5, \"bill_depth_mm\": 19.6, \"flipper_length_mm\": 201.0, \"body_mass_g\": 4050.0, \"gender\": \"Male\"}, {\"species\": \"Chinstrap\", \"location\": \"Dream\", \"bill_length_mm\": 50.3, \"bill_depth_mm\": 20.0, \"flipper_length_mm\": 197.0, \"body_mass_g\": 3300.0, \"gender\": \"Male\"}, {\"species\": \"Chinstrap\", \"location\": \"Dream\", \"bill_length_mm\": 58.0, \"bill_depth_mm\": 17.8, \"flipper_length_mm\": 181.0, \"body_mass_g\": 3700.0, \"gender\": \"Female\"}, {\"species\": \"Chinstrap\", \"location\": \"Dream\", \"bill_length_mm\": 46.4, \"bill_depth_mm\": 18.6, \"flipper_length_mm\": 190.0, \"body_mass_g\": 3450.0, \"gender\": \"Female\"}, {\"species\": \"Chinstrap\", \"location\": \"Dream\", \"bill_length_mm\": 49.2, \"bill_depth_mm\": 18.2, \"flipper_length_mm\": 195.0, \"body_mass_g\": 4400.0, \"gender\": \"Male\"}, {\"species\": \"Chinstrap\", \"location\": \"Dream\", \"bill_length_mm\": 42.4, \"bill_depth_mm\": 17.3, \"flipper_length_mm\": 181.0, \"body_mass_g\": 3600.0, \"gender\": \"Female\"}, {\"species\": \"Chinstrap\", \"location\": \"Dream\", \"bill_length_mm\": 48.5, \"bill_depth_mm\": 17.5, \"flipper_length_mm\": 191.0, \"body_mass_g\": 3400.0, \"gender\": \"Male\"}, {\"species\": \"Chinstrap\", \"location\": \"Dream\", \"bill_length_mm\": 43.2, \"bill_depth_mm\": 16.6, \"flipper_length_mm\": 187.0, \"body_mass_g\": 2900.0, \"gender\": \"Female\"}, {\"species\": \"Chinstrap\", \"location\": \"Dream\", \"bill_length_mm\": 50.6, \"bill_depth_mm\": 19.4, \"flipper_length_mm\": 193.0, \"body_mass_g\": 3800.0, \"gender\": \"Male\"}, {\"species\": \"Chinstrap\", \"location\": \"Dream\", \"bill_length_mm\": 46.7, \"bill_depth_mm\": 17.9, \"flipper_length_mm\": 195.0, \"body_mass_g\": 3300.0, \"gender\": \"Female\"}, {\"species\": \"Chinstrap\", \"location\": \"Dream\", \"bill_length_mm\": 52.0, \"bill_depth_mm\": 19.0, \"flipper_length_mm\": 197.0, \"body_mass_g\": 4150.0, \"gender\": \"Male\"}, {\"species\": \"Chinstrap\", \"location\": \"Dream\", \"bill_length_mm\": 50.5, \"bill_depth_mm\": 18.4, \"flipper_length_mm\": 200.0, \"body_mass_g\": 3400.0, \"gender\": \"Female\"}, {\"species\": \"Chinstrap\", \"location\": \"Dream\", \"bill_length_mm\": 49.5, \"bill_depth_mm\": 19.0, \"flipper_length_mm\": 200.0, \"body_mass_g\": 3800.0, \"gender\": \"Male\"}, {\"species\": \"Chinstrap\", \"location\": \"Dream\", \"bill_length_mm\": 46.4, \"bill_depth_mm\": 17.8, \"flipper_length_mm\": 191.0, \"body_mass_g\": 3700.0, \"gender\": \"Female\"}, {\"species\": \"Chinstrap\", \"location\": \"Dream\", \"bill_length_mm\": 52.8, \"bill_depth_mm\": 20.0, \"flipper_length_mm\": 205.0, \"body_mass_g\": 4550.0, \"gender\": \"Male\"}, {\"species\": \"Chinstrap\", \"location\": \"Dream\", \"bill_length_mm\": 40.9, \"bill_depth_mm\": 16.6, \"flipper_length_mm\": 187.0, \"body_mass_g\": 3200.0, \"gender\": \"Female\"}, {\"species\": \"Chinstrap\", \"location\": \"Dream\", \"bill_length_mm\": 54.2, \"bill_depth_mm\": 20.8, \"flipper_length_mm\": 201.0, \"body_mass_g\": 4300.0, \"gender\": \"Male\"}, {\"species\": \"Chinstrap\", \"location\": \"Dream\", \"bill_length_mm\": 42.5, \"bill_depth_mm\": 16.7, \"flipper_length_mm\": 187.0, \"body_mass_g\": 3350.0, \"gender\": \"Female\"}, {\"species\": \"Chinstrap\", \"location\": \"Dream\", \"bill_length_mm\": 51.0, \"bill_depth_mm\": 18.8, \"flipper_length_mm\": 203.0, \"body_mass_g\": 4100.0, \"gender\": \"Male\"}, {\"species\": \"Chinstrap\", \"location\": \"Dream\", \"bill_length_mm\": 49.7, \"bill_depth_mm\": 18.6, \"flipper_length_mm\": 195.0, \"body_mass_g\": 3600.0, \"gender\": \"Male\"}, {\"species\": \"Chinstrap\", \"location\": \"Dream\", \"bill_length_mm\": 47.5, \"bill_depth_mm\": 16.8, \"flipper_length_mm\": 199.0, \"body_mass_g\": 3900.0, \"gender\": \"Female\"}, {\"species\": \"Chinstrap\", \"location\": \"Dream\", \"bill_length_mm\": 47.6, \"bill_depth_mm\": 18.3, \"flipper_length_mm\": 195.0, \"body_mass_g\": 3850.0, \"gender\": \"Female\"}, {\"species\": \"Chinstrap\", \"location\": \"Dream\", \"bill_length_mm\": 52.0, \"bill_depth_mm\": 20.7, \"flipper_length_mm\": 210.0, \"body_mass_g\": 4800.0, \"gender\": \"Male\"}, {\"species\": \"Chinstrap\", \"location\": \"Dream\", \"bill_length_mm\": 46.9, \"bill_depth_mm\": 16.6, \"flipper_length_mm\": 192.0, \"body_mass_g\": 2700.0, \"gender\": \"Female\"}, {\"species\": \"Chinstrap\", \"location\": \"Dream\", \"bill_length_mm\": 53.5, \"bill_depth_mm\": 19.9, \"flipper_length_mm\": 205.0, \"body_mass_g\": 4500.0, \"gender\": \"Male\"}, {\"species\": \"Chinstrap\", \"location\": \"Dream\", \"bill_length_mm\": 49.0, \"bill_depth_mm\": 19.5, \"flipper_length_mm\": 210.0, \"body_mass_g\": 3950.0, \"gender\": \"Male\"}, {\"species\": \"Chinstrap\", \"location\": \"Dream\", \"bill_length_mm\": 46.2, \"bill_depth_mm\": 17.5, \"flipper_length_mm\": 187.0, \"body_mass_g\": 3650.0, \"gender\": \"Female\"}, {\"species\": \"Chinstrap\", \"location\": \"Dream\", \"bill_length_mm\": 50.9, \"bill_depth_mm\": 19.1, \"flipper_length_mm\": 196.0, \"body_mass_g\": 3550.0, \"gender\": \"Male\"}, {\"species\": \"Chinstrap\", \"location\": \"Dream\", \"bill_length_mm\": 45.5, \"bill_depth_mm\": 17.0, \"flipper_length_mm\": 196.0, \"body_mass_g\": 3500.0, \"gender\": \"Female\"}, {\"species\": \"Chinstrap\", \"location\": \"Dream\", \"bill_length_mm\": 50.9, \"bill_depth_mm\": 17.9, \"flipper_length_mm\": 196.0, \"body_mass_g\": 3675.0, \"gender\": \"Female\"}, {\"species\": \"Chinstrap\", \"location\": \"Dream\", \"bill_length_mm\": 50.8, \"bill_depth_mm\": 18.5, \"flipper_length_mm\": 201.0, \"body_mass_g\": 4450.0, \"gender\": \"Male\"}, {\"species\": \"Chinstrap\", \"location\": \"Dream\", \"bill_length_mm\": 50.1, \"bill_depth_mm\": 17.9, \"flipper_length_mm\": 190.0, \"body_mass_g\": 3400.0, \"gender\": \"Female\"}, {\"species\": \"Chinstrap\", \"location\": \"Dream\", \"bill_length_mm\": 49.0, \"bill_depth_mm\": 19.6, \"flipper_length_mm\": 212.0, \"body_mass_g\": 4300.0, \"gender\": \"Male\"}, {\"species\": \"Chinstrap\", \"location\": \"Dream\", \"bill_length_mm\": 51.5, \"bill_depth_mm\": 18.7, \"flipper_length_mm\": 187.0, \"body_mass_g\": 3250.0, \"gender\": \"Male\"}, {\"species\": \"Chinstrap\", \"location\": \"Dream\", \"bill_length_mm\": 49.8, \"bill_depth_mm\": 17.3, \"flipper_length_mm\": 198.0, \"body_mass_g\": 3675.0, \"gender\": \"Female\"}, {\"species\": \"Chinstrap\", \"location\": \"Dream\", \"bill_length_mm\": 48.1, \"bill_depth_mm\": 16.4, \"flipper_length_mm\": 199.0, \"body_mass_g\": 3325.0, \"gender\": \"Female\"}, {\"species\": \"Chinstrap\", \"location\": \"Dream\", \"bill_length_mm\": 51.4, \"bill_depth_mm\": 19.0, \"flipper_length_mm\": 201.0, \"body_mass_g\": 3950.0, \"gender\": \"Male\"}, {\"species\": \"Chinstrap\", \"location\": \"Dream\", \"bill_length_mm\": 45.7, \"bill_depth_mm\": 17.3, \"flipper_length_mm\": 193.0, \"body_mass_g\": 3600.0, \"gender\": \"Female\"}, {\"species\": \"Chinstrap\", \"location\": \"Dream\", \"bill_length_mm\": 50.7, \"bill_depth_mm\": 19.7, \"flipper_length_mm\": 203.0, \"body_mass_g\": 4050.0, \"gender\": \"Male\"}, {\"species\": \"Chinstrap\", \"location\": \"Dream\", \"bill_length_mm\": 42.5, \"bill_depth_mm\": 17.3, \"flipper_length_mm\": 187.0, \"body_mass_g\": 3350.0, \"gender\": \"Female\"}, {\"species\": \"Chinstrap\", \"location\": \"Dream\", \"bill_length_mm\": 52.2, \"bill_depth_mm\": 18.8, \"flipper_length_mm\": 197.0, \"body_mass_g\": 3450.0, \"gender\": \"Male\"}, {\"species\": \"Chinstrap\", \"location\": \"Dream\", \"bill_length_mm\": 45.2, \"bill_depth_mm\": 16.6, \"flipper_length_mm\": 191.0, \"body_mass_g\": 3250.0, \"gender\": \"Female\"}, {\"species\": \"Chinstrap\", \"location\": \"Dream\", \"bill_length_mm\": 49.3, \"bill_depth_mm\": 19.9, \"flipper_length_mm\": 203.0, \"body_mass_g\": 4050.0, \"gender\": \"Male\"}, {\"species\": \"Chinstrap\", \"location\": \"Dream\", \"bill_length_mm\": 50.2, \"bill_depth_mm\": 18.8, \"flipper_length_mm\": 202.0, \"body_mass_g\": 3800.0, \"gender\": \"Male\"}, {\"species\": \"Chinstrap\", \"location\": \"Dream\", \"bill_length_mm\": 45.6, \"bill_depth_mm\": 19.4, \"flipper_length_mm\": 194.0, \"body_mass_g\": 3525.0, \"gender\": \"Female\"}, {\"species\": \"Chinstrap\", \"location\": \"Dream\", \"bill_length_mm\": 51.9, \"bill_depth_mm\": 19.5, \"flipper_length_mm\": 206.0, \"body_mass_g\": 3950.0, \"gender\": \"Male\"}, {\"species\": \"Chinstrap\", \"location\": \"Dream\", \"bill_length_mm\": 46.8, \"bill_depth_mm\": 16.5, \"flipper_length_mm\": 189.0, \"body_mass_g\": 3650.0, \"gender\": \"Female\"}, {\"species\": \"Chinstrap\", \"location\": \"Dream\", \"bill_length_mm\": 45.7, \"bill_depth_mm\": 17.0, \"flipper_length_mm\": 195.0, \"body_mass_g\": 3650.0, \"gender\": \"Female\"}, {\"species\": \"Chinstrap\", \"location\": \"Dream\", \"bill_length_mm\": 55.8, \"bill_depth_mm\": 19.8, \"flipper_length_mm\": 207.0, \"body_mass_g\": 4000.0, \"gender\": \"Male\"}, {\"species\": \"Chinstrap\", \"location\": \"Dream\", \"bill_length_mm\": 43.5, \"bill_depth_mm\": 18.1, \"flipper_length_mm\": 202.0, \"body_mass_g\": 3400.0, \"gender\": \"Female\"}, {\"species\": \"Chinstrap\", \"location\": \"Dream\", \"bill_length_mm\": 49.6, \"bill_depth_mm\": 18.2, \"flipper_length_mm\": 193.0, \"body_mass_g\": 3775.0, \"gender\": \"Male\"}, {\"species\": \"Chinstrap\", \"location\": \"Dream\", \"bill_length_mm\": 50.8, \"bill_depth_mm\": 19.0, \"flipper_length_mm\": 210.0, \"body_mass_g\": 4100.0, \"gender\": \"Male\"}, {\"species\": \"Chinstrap\", \"location\": \"Dream\", \"bill_length_mm\": 50.2, \"bill_depth_mm\": 18.7, \"flipper_length_mm\": 198.0, \"body_mass_g\": 3775.0, \"gender\": \"Female\"}, {\"species\": \"Gentoo\", \"location\": \"Biscoe\", \"bill_length_mm\": 46.1, \"bill_depth_mm\": 13.2, \"flipper_length_mm\": 211.0, \"body_mass_g\": 4500.0, \"gender\": \"Female\"}, {\"species\": \"Gentoo\", \"location\": \"Biscoe\", \"bill_length_mm\": 50.0, \"bill_depth_mm\": 16.3, \"flipper_length_mm\": 230.0, \"body_mass_g\": 5700.0, \"gender\": \"Male\"}, {\"species\": \"Gentoo\", \"location\": \"Biscoe\", \"bill_length_mm\": 48.7, \"bill_depth_mm\": 14.1, \"flipper_length_mm\": 210.0, \"body_mass_g\": 4450.0, \"gender\": \"Female\"}, {\"species\": \"Gentoo\", \"location\": \"Biscoe\", \"bill_length_mm\": 50.0, \"bill_depth_mm\": 15.2, \"flipper_length_mm\": 218.0, \"body_mass_g\": 5700.0, \"gender\": \"Male\"}, {\"species\": \"Gentoo\", \"location\": \"Biscoe\", \"bill_length_mm\": 47.6, \"bill_depth_mm\": 14.5, \"flipper_length_mm\": 215.0, \"body_mass_g\": 5400.0, \"gender\": \"Male\"}, {\"species\": \"Gentoo\", \"location\": \"Biscoe\", \"bill_length_mm\": 46.5, \"bill_depth_mm\": 13.5, \"flipper_length_mm\": 210.0, \"body_mass_g\": 4550.0, \"gender\": \"Female\"}, {\"species\": \"Gentoo\", \"location\": \"Biscoe\", \"bill_length_mm\": 45.4, \"bill_depth_mm\": 14.6, \"flipper_length_mm\": 211.0, \"body_mass_g\": 4800.0, \"gender\": \"Female\"}, {\"species\": \"Gentoo\", \"location\": \"Biscoe\", \"bill_length_mm\": 46.7, \"bill_depth_mm\": 15.3, \"flipper_length_mm\": 219.0, \"body_mass_g\": 5200.0, \"gender\": \"Male\"}, {\"species\": \"Gentoo\", \"location\": \"Biscoe\", \"bill_length_mm\": 43.3, \"bill_depth_mm\": 13.4, \"flipper_length_mm\": 209.0, \"body_mass_g\": 4400.0, \"gender\": \"Female\"}, {\"species\": \"Gentoo\", \"location\": \"Biscoe\", \"bill_length_mm\": 46.8, \"bill_depth_mm\": 15.4, \"flipper_length_mm\": 215.0, \"body_mass_g\": 5150.0, \"gender\": \"Male\"}, {\"species\": \"Gentoo\", \"location\": \"Biscoe\", \"bill_length_mm\": 40.9, \"bill_depth_mm\": 13.7, \"flipper_length_mm\": 214.0, \"body_mass_g\": 4650.0, \"gender\": \"Female\"}, {\"species\": \"Gentoo\", \"location\": \"Biscoe\", \"bill_length_mm\": 49.0, \"bill_depth_mm\": 16.1, \"flipper_length_mm\": 216.0, \"body_mass_g\": 5550.0, \"gender\": \"Male\"}, {\"species\": \"Gentoo\", \"location\": \"Biscoe\", \"bill_length_mm\": 45.5, \"bill_depth_mm\": 13.7, \"flipper_length_mm\": 214.0, \"body_mass_g\": 4650.0, \"gender\": \"Female\"}, {\"species\": \"Gentoo\", \"location\": \"Biscoe\", \"bill_length_mm\": 48.4, \"bill_depth_mm\": 14.6, \"flipper_length_mm\": 213.0, \"body_mass_g\": 5850.0, \"gender\": \"Male\"}, {\"species\": \"Gentoo\", \"location\": \"Biscoe\", \"bill_length_mm\": 45.8, \"bill_depth_mm\": 14.6, \"flipper_length_mm\": 210.0, \"body_mass_g\": 4200.0, \"gender\": \"Female\"}, {\"species\": \"Gentoo\", \"location\": \"Biscoe\", \"bill_length_mm\": 49.3, \"bill_depth_mm\": 15.7, \"flipper_length_mm\": 217.0, \"body_mass_g\": 5850.0, \"gender\": \"Male\"}, {\"species\": \"Gentoo\", \"location\": \"Biscoe\", \"bill_length_mm\": 42.0, \"bill_depth_mm\": 13.5, \"flipper_length_mm\": 210.0, \"body_mass_g\": 4150.0, \"gender\": \"Female\"}, {\"species\": \"Gentoo\", \"location\": \"Biscoe\", \"bill_length_mm\": 49.2, \"bill_depth_mm\": 15.2, \"flipper_length_mm\": 221.0, \"body_mass_g\": 6300.0, \"gender\": \"Male\"}, {\"species\": \"Gentoo\", \"location\": \"Biscoe\", \"bill_length_mm\": 46.2, \"bill_depth_mm\": 14.5, \"flipper_length_mm\": 209.0, \"body_mass_g\": 4800.0, \"gender\": \"Female\"}, {\"species\": \"Gentoo\", \"location\": \"Biscoe\", \"bill_length_mm\": 48.7, \"bill_depth_mm\": 15.1, \"flipper_length_mm\": 222.0, \"body_mass_g\": 5350.0, \"gender\": \"Male\"}, {\"species\": \"Gentoo\", \"location\": \"Biscoe\", \"bill_length_mm\": 50.2, \"bill_depth_mm\": 14.3, \"flipper_length_mm\": 218.0, \"body_mass_g\": 5700.0, \"gender\": \"Male\"}, {\"species\": \"Gentoo\", \"location\": \"Biscoe\", \"bill_length_mm\": 45.1, \"bill_depth_mm\": 14.5, \"flipper_length_mm\": 215.0, \"body_mass_g\": 5000.0, \"gender\": \"Female\"}, {\"species\": \"Gentoo\", \"location\": \"Biscoe\", \"bill_length_mm\": 46.5, \"bill_depth_mm\": 14.5, \"flipper_length_mm\": 213.0, \"body_mass_g\": 4400.0, \"gender\": \"Female\"}, {\"species\": \"Gentoo\", \"location\": \"Biscoe\", \"bill_length_mm\": 46.3, \"bill_depth_mm\": 15.8, \"flipper_length_mm\": 215.0, \"body_mass_g\": 5050.0, \"gender\": \"Male\"}, {\"species\": \"Gentoo\", \"location\": \"Biscoe\", \"bill_length_mm\": 42.9, \"bill_depth_mm\": 13.1, \"flipper_length_mm\": 215.0, \"body_mass_g\": 5000.0, \"gender\": \"Female\"}, {\"species\": \"Gentoo\", \"location\": \"Biscoe\", \"bill_length_mm\": 46.1, \"bill_depth_mm\": 15.1, \"flipper_length_mm\": 215.0, \"body_mass_g\": 5100.0, \"gender\": \"Male\"}, {\"species\": \"Gentoo\", \"location\": \"Biscoe\", \"bill_length_mm\": 47.8, \"bill_depth_mm\": 15.0, \"flipper_length_mm\": 215.0, \"body_mass_g\": 5650.0, \"gender\": \"Male\"}, {\"species\": \"Gentoo\", \"location\": \"Biscoe\", \"bill_length_mm\": 48.2, \"bill_depth_mm\": 14.3, \"flipper_length_mm\": 210.0, \"body_mass_g\": 4600.0, \"gender\": \"Female\"}, {\"species\": \"Gentoo\", \"location\": \"Biscoe\", \"bill_length_mm\": 50.0, \"bill_depth_mm\": 15.3, \"flipper_length_mm\": 220.0, \"body_mass_g\": 5550.0, \"gender\": \"Male\"}, {\"species\": \"Gentoo\", \"location\": \"Biscoe\", \"bill_length_mm\": 47.3, \"bill_depth_mm\": 15.3, \"flipper_length_mm\": 222.0, \"body_mass_g\": 5250.0, \"gender\": \"Male\"}, {\"species\": \"Gentoo\", \"location\": \"Biscoe\", \"bill_length_mm\": 42.8, \"bill_depth_mm\": 14.2, \"flipper_length_mm\": 209.0, \"body_mass_g\": 4700.0, \"gender\": \"Female\"}, {\"species\": \"Gentoo\", \"location\": \"Biscoe\", \"bill_length_mm\": 45.1, \"bill_depth_mm\": 14.5, \"flipper_length_mm\": 207.0, \"body_mass_g\": 5050.0, \"gender\": \"Female\"}, {\"species\": \"Gentoo\", \"location\": \"Biscoe\", \"bill_length_mm\": 59.6, \"bill_depth_mm\": 17.0, \"flipper_length_mm\": 230.0, \"body_mass_g\": 6050.0, \"gender\": \"Male\"}, {\"species\": \"Gentoo\", \"location\": \"Biscoe\", \"bill_length_mm\": 49.1, \"bill_depth_mm\": 14.8, \"flipper_length_mm\": 220.0, \"body_mass_g\": 5150.0, \"gender\": \"Female\"}, {\"species\": \"Gentoo\", \"location\": \"Biscoe\", \"bill_length_mm\": 48.4, \"bill_depth_mm\": 16.3, \"flipper_length_mm\": 220.0, \"body_mass_g\": 5400.0, \"gender\": \"Male\"}, {\"species\": \"Gentoo\", \"location\": \"Biscoe\", \"bill_length_mm\": 42.6, \"bill_depth_mm\": 13.7, \"flipper_length_mm\": 213.0, \"body_mass_g\": 4950.0, \"gender\": \"Female\"}, {\"species\": \"Gentoo\", \"location\": \"Biscoe\", \"bill_length_mm\": 44.4, \"bill_depth_mm\": 17.3, \"flipper_length_mm\": 219.0, \"body_mass_g\": 5250.0, \"gender\": \"Male\"}, {\"species\": \"Gentoo\", \"location\": \"Biscoe\", \"bill_length_mm\": 44.0, \"bill_depth_mm\": 13.6, \"flipper_length_mm\": 208.0, \"body_mass_g\": 4350.0, \"gender\": \"Female\"}, {\"species\": \"Gentoo\", \"location\": \"Biscoe\", \"bill_length_mm\": 48.7, \"bill_depth_mm\": 15.7, \"flipper_length_mm\": 208.0, \"body_mass_g\": 5350.0, \"gender\": \"Male\"}, {\"species\": \"Gentoo\", \"location\": \"Biscoe\", \"bill_length_mm\": 42.7, \"bill_depth_mm\": 13.7, \"flipper_length_mm\": 208.0, \"body_mass_g\": 3950.0, \"gender\": \"Female\"}, {\"species\": \"Gentoo\", \"location\": \"Biscoe\", \"bill_length_mm\": 49.6, \"bill_depth_mm\": 16.0, \"flipper_length_mm\": 225.0, \"body_mass_g\": 5700.0, \"gender\": \"Male\"}, {\"species\": \"Gentoo\", \"location\": \"Biscoe\", \"bill_length_mm\": 45.3, \"bill_depth_mm\": 13.7, \"flipper_length_mm\": 210.0, \"body_mass_g\": 4300.0, \"gender\": \"Female\"}, {\"species\": \"Gentoo\", \"location\": \"Biscoe\", \"bill_length_mm\": 49.6, \"bill_depth_mm\": 15.0, \"flipper_length_mm\": 216.0, \"body_mass_g\": 4750.0, \"gender\": \"Male\"}, {\"species\": \"Gentoo\", \"location\": \"Biscoe\", \"bill_length_mm\": 50.5, \"bill_depth_mm\": 15.9, \"flipper_length_mm\": 222.0, \"body_mass_g\": 5550.0, \"gender\": \"Male\"}, {\"species\": \"Gentoo\", \"location\": \"Biscoe\", \"bill_length_mm\": 43.6, \"bill_depth_mm\": 13.9, \"flipper_length_mm\": 217.0, \"body_mass_g\": 4900.0, \"gender\": \"Female\"}, {\"species\": \"Gentoo\", \"location\": \"Biscoe\", \"bill_length_mm\": 45.5, \"bill_depth_mm\": 13.9, \"flipper_length_mm\": 210.0, \"body_mass_g\": 4200.0, \"gender\": \"Female\"}, {\"species\": \"Gentoo\", \"location\": \"Biscoe\", \"bill_length_mm\": 50.5, \"bill_depth_mm\": 15.9, \"flipper_length_mm\": 225.0, \"body_mass_g\": 5400.0, \"gender\": \"Male\"}, {\"species\": \"Gentoo\", \"location\": \"Biscoe\", \"bill_length_mm\": 44.9, \"bill_depth_mm\": 13.3, \"flipper_length_mm\": 213.0, \"body_mass_g\": 5100.0, \"gender\": \"Female\"}, {\"species\": \"Gentoo\", \"location\": \"Biscoe\", \"bill_length_mm\": 45.2, \"bill_depth_mm\": 15.8, \"flipper_length_mm\": 215.0, \"body_mass_g\": 5300.0, \"gender\": \"Male\"}, {\"species\": \"Gentoo\", \"location\": \"Biscoe\", \"bill_length_mm\": 46.6, \"bill_depth_mm\": 14.2, \"flipper_length_mm\": 210.0, \"body_mass_g\": 4850.0, \"gender\": \"Female\"}, {\"species\": \"Gentoo\", \"location\": \"Biscoe\", \"bill_length_mm\": 48.5, \"bill_depth_mm\": 14.1, \"flipper_length_mm\": 220.0, \"body_mass_g\": 5300.0, \"gender\": \"Male\"}, {\"species\": \"Gentoo\", \"location\": \"Biscoe\", \"bill_length_mm\": 45.1, \"bill_depth_mm\": 14.4, \"flipper_length_mm\": 210.0, \"body_mass_g\": 4400.0, \"gender\": \"Female\"}, {\"species\": \"Gentoo\", \"location\": \"Biscoe\", \"bill_length_mm\": 50.1, \"bill_depth_mm\": 15.0, \"flipper_length_mm\": 225.0, \"body_mass_g\": 5000.0, \"gender\": \"Male\"}, {\"species\": \"Gentoo\", \"location\": \"Biscoe\", \"bill_length_mm\": 46.5, \"bill_depth_mm\": 14.4, \"flipper_length_mm\": 217.0, \"body_mass_g\": 4900.0, \"gender\": \"Female\"}, {\"species\": \"Gentoo\", \"location\": \"Biscoe\", \"bill_length_mm\": 45.0, \"bill_depth_mm\": 15.4, \"flipper_length_mm\": 220.0, \"body_mass_g\": 5050.0, \"gender\": \"Male\"}, {\"species\": \"Gentoo\", \"location\": \"Biscoe\", \"bill_length_mm\": 43.8, \"bill_depth_mm\": 13.9, \"flipper_length_mm\": 208.0, \"body_mass_g\": 4300.0, \"gender\": \"Female\"}, {\"species\": \"Gentoo\", \"location\": \"Biscoe\", \"bill_length_mm\": 45.5, \"bill_depth_mm\": 15.0, \"flipper_length_mm\": 220.0, \"body_mass_g\": 5000.0, \"gender\": \"Male\"}, {\"species\": \"Gentoo\", \"location\": \"Biscoe\", \"bill_length_mm\": 43.2, \"bill_depth_mm\": 14.5, \"flipper_length_mm\": 208.0, \"body_mass_g\": 4450.0, \"gender\": \"Female\"}, {\"species\": \"Gentoo\", \"location\": \"Biscoe\", \"bill_length_mm\": 50.4, \"bill_depth_mm\": 15.3, \"flipper_length_mm\": 224.0, \"body_mass_g\": 5550.0, \"gender\": \"Male\"}, {\"species\": \"Gentoo\", \"location\": \"Biscoe\", \"bill_length_mm\": 45.3, \"bill_depth_mm\": 13.8, \"flipper_length_mm\": 208.0, \"body_mass_g\": 4200.0, \"gender\": \"Female\"}, {\"species\": \"Gentoo\", \"location\": \"Biscoe\", \"bill_length_mm\": 46.2, \"bill_depth_mm\": 14.9, \"flipper_length_mm\": 221.0, \"body_mass_g\": 5300.0, \"gender\": \"Male\"}, {\"species\": \"Gentoo\", \"location\": \"Biscoe\", \"bill_length_mm\": 45.7, \"bill_depth_mm\": 13.9, \"flipper_length_mm\": 214.0, \"body_mass_g\": 4400.0, \"gender\": \"Female\"}, {\"species\": \"Gentoo\", \"location\": \"Biscoe\", \"bill_length_mm\": 54.3, \"bill_depth_mm\": 15.7, \"flipper_length_mm\": 231.0, \"body_mass_g\": 5650.0, \"gender\": \"Male\"}, {\"species\": \"Gentoo\", \"location\": \"Biscoe\", \"bill_length_mm\": 45.8, \"bill_depth_mm\": 14.2, \"flipper_length_mm\": 219.0, \"body_mass_g\": 4700.0, \"gender\": \"Female\"}, {\"species\": \"Gentoo\", \"location\": \"Biscoe\", \"bill_length_mm\": 49.8, \"bill_depth_mm\": 16.8, \"flipper_length_mm\": 230.0, \"body_mass_g\": 5700.0, \"gender\": \"Male\"}, {\"species\": \"Gentoo\", \"location\": \"Biscoe\", \"bill_length_mm\": 49.5, \"bill_depth_mm\": 16.2, \"flipper_length_mm\": 229.0, \"body_mass_g\": 5800.0, \"gender\": \"Male\"}, {\"species\": \"Gentoo\", \"location\": \"Biscoe\", \"bill_length_mm\": 43.5, \"bill_depth_mm\": 14.2, \"flipper_length_mm\": 220.0, \"body_mass_g\": 4700.0, \"gender\": \"Female\"}, {\"species\": \"Gentoo\", \"location\": \"Biscoe\", \"bill_length_mm\": 50.7, \"bill_depth_mm\": 15.0, \"flipper_length_mm\": 223.0, \"body_mass_g\": 5550.0, \"gender\": \"Male\"}, {\"species\": \"Gentoo\", \"location\": \"Biscoe\", \"bill_length_mm\": 47.7, \"bill_depth_mm\": 15.0, \"flipper_length_mm\": 216.0, \"body_mass_g\": 4750.0, \"gender\": \"Female\"}, {\"species\": \"Gentoo\", \"location\": \"Biscoe\", \"bill_length_mm\": 46.4, \"bill_depth_mm\": 15.6, \"flipper_length_mm\": 221.0, \"body_mass_g\": 5000.0, \"gender\": \"Male\"}, {\"species\": \"Gentoo\", \"location\": \"Biscoe\", \"bill_length_mm\": 48.2, \"bill_depth_mm\": 15.6, \"flipper_length_mm\": 221.0, \"body_mass_g\": 5100.0, \"gender\": \"Male\"}, {\"species\": \"Gentoo\", \"location\": \"Biscoe\", \"bill_length_mm\": 46.5, \"bill_depth_mm\": 14.8, \"flipper_length_mm\": 217.0, \"body_mass_g\": 5200.0, \"gender\": \"Female\"}, {\"species\": \"Gentoo\", \"location\": \"Biscoe\", \"bill_length_mm\": 46.4, \"bill_depth_mm\": 15.0, \"flipper_length_mm\": 216.0, \"body_mass_g\": 4700.0, \"gender\": \"Female\"}, {\"species\": \"Gentoo\", \"location\": \"Biscoe\", \"bill_length_mm\": 48.6, \"bill_depth_mm\": 16.0, \"flipper_length_mm\": 230.0, \"body_mass_g\": 5800.0, \"gender\": \"Male\"}, {\"species\": \"Gentoo\", \"location\": \"Biscoe\", \"bill_length_mm\": 47.5, \"bill_depth_mm\": 14.2, \"flipper_length_mm\": 209.0, \"body_mass_g\": 4600.0, \"gender\": \"Female\"}, {\"species\": \"Gentoo\", \"location\": \"Biscoe\", \"bill_length_mm\": 51.1, \"bill_depth_mm\": 16.3, \"flipper_length_mm\": 220.0, \"body_mass_g\": 6000.0, \"gender\": \"Male\"}, {\"species\": \"Gentoo\", \"location\": \"Biscoe\", \"bill_length_mm\": 45.2, \"bill_depth_mm\": 13.8, \"flipper_length_mm\": 215.0, \"body_mass_g\": 4750.0, \"gender\": \"Female\"}, {\"species\": \"Gentoo\", \"location\": \"Biscoe\", \"bill_length_mm\": 45.2, \"bill_depth_mm\": 16.4, \"flipper_length_mm\": 223.0, \"body_mass_g\": 5950.0, \"gender\": \"Male\"}, {\"species\": \"Gentoo\", \"location\": \"Biscoe\", \"bill_length_mm\": 49.1, \"bill_depth_mm\": 14.5, \"flipper_length_mm\": 212.0, \"body_mass_g\": 4625.0, \"gender\": \"Female\"}, {\"species\": \"Gentoo\", \"location\": \"Biscoe\", \"bill_length_mm\": 52.5, \"bill_depth_mm\": 15.6, \"flipper_length_mm\": 221.0, \"body_mass_g\": 5450.0, \"gender\": \"Male\"}, {\"species\": \"Gentoo\", \"location\": \"Biscoe\", \"bill_length_mm\": 47.4, \"bill_depth_mm\": 14.6, \"flipper_length_mm\": 212.0, \"body_mass_g\": 4725.0, \"gender\": \"Female\"}, {\"species\": \"Gentoo\", \"location\": \"Biscoe\", \"bill_length_mm\": 50.0, \"bill_depth_mm\": 15.9, \"flipper_length_mm\": 224.0, \"body_mass_g\": 5350.0, \"gender\": \"Male\"}, {\"species\": \"Gentoo\", \"location\": \"Biscoe\", \"bill_length_mm\": 44.9, \"bill_depth_mm\": 13.8, \"flipper_length_mm\": 212.0, \"body_mass_g\": 4750.0, \"gender\": \"Female\"}, {\"species\": \"Gentoo\", \"location\": \"Biscoe\", \"bill_length_mm\": 50.8, \"bill_depth_mm\": 17.3, \"flipper_length_mm\": 228.0, \"body_mass_g\": 5600.0, \"gender\": \"Male\"}, {\"species\": \"Gentoo\", \"location\": \"Biscoe\", \"bill_length_mm\": 43.4, \"bill_depth_mm\": 14.4, \"flipper_length_mm\": 218.0, \"body_mass_g\": 4600.0, \"gender\": \"Female\"}, {\"species\": \"Gentoo\", \"location\": \"Biscoe\", \"bill_length_mm\": 51.3, \"bill_depth_mm\": 14.2, \"flipper_length_mm\": 218.0, \"body_mass_g\": 5300.0, \"gender\": \"Male\"}, {\"species\": \"Gentoo\", \"location\": \"Biscoe\", \"bill_length_mm\": 47.5, \"bill_depth_mm\": 14.0, \"flipper_length_mm\": 212.0, \"body_mass_g\": 4875.0, \"gender\": \"Female\"}, {\"species\": \"Gentoo\", \"location\": \"Biscoe\", \"bill_length_mm\": 52.1, \"bill_depth_mm\": 17.0, \"flipper_length_mm\": 230.0, \"body_mass_g\": 5550.0, \"gender\": \"Male\"}, {\"species\": \"Gentoo\", \"location\": \"Biscoe\", \"bill_length_mm\": 47.5, \"bill_depth_mm\": 15.0, \"flipper_length_mm\": 218.0, \"body_mass_g\": 4950.0, \"gender\": \"Female\"}, {\"species\": \"Gentoo\", \"location\": \"Biscoe\", \"bill_length_mm\": 52.2, \"bill_depth_mm\": 17.1, \"flipper_length_mm\": 228.0, \"body_mass_g\": 5400.0, \"gender\": \"Male\"}, {\"species\": \"Gentoo\", \"location\": \"Biscoe\", \"bill_length_mm\": 45.5, \"bill_depth_mm\": 14.5, \"flipper_length_mm\": 212.0, \"body_mass_g\": 4750.0, \"gender\": \"Female\"}, {\"species\": \"Gentoo\", \"location\": \"Biscoe\", \"bill_length_mm\": 49.5, \"bill_depth_mm\": 16.1, \"flipper_length_mm\": 224.0, \"body_mass_g\": 5650.0, \"gender\": \"Male\"}, {\"species\": \"Gentoo\", \"location\": \"Biscoe\", \"bill_length_mm\": 44.5, \"bill_depth_mm\": 14.7, \"flipper_length_mm\": 214.0, \"body_mass_g\": 4850.0, \"gender\": \"Female\"}, {\"species\": \"Gentoo\", \"location\": \"Biscoe\", \"bill_length_mm\": 50.8, \"bill_depth_mm\": 15.7, \"flipper_length_mm\": 226.0, \"body_mass_g\": 5200.0, \"gender\": \"Male\"}, {\"species\": \"Gentoo\", \"location\": \"Biscoe\", \"bill_length_mm\": 49.4, \"bill_depth_mm\": 15.8, \"flipper_length_mm\": 216.0, \"body_mass_g\": 4925.0, \"gender\": \"Male\"}, {\"species\": \"Gentoo\", \"location\": \"Biscoe\", \"bill_length_mm\": 46.9, \"bill_depth_mm\": 14.6, \"flipper_length_mm\": 222.0, \"body_mass_g\": 4875.0, \"gender\": \"Female\"}, {\"species\": \"Gentoo\", \"location\": \"Biscoe\", \"bill_length_mm\": 48.4, \"bill_depth_mm\": 14.4, \"flipper_length_mm\": 203.0, \"body_mass_g\": 4625.0, \"gender\": \"Female\"}, {\"species\": \"Gentoo\", \"location\": \"Biscoe\", \"bill_length_mm\": 51.1, \"bill_depth_mm\": 16.5, \"flipper_length_mm\": 225.0, \"body_mass_g\": 5250.0, \"gender\": \"Male\"}, {\"species\": \"Gentoo\", \"location\": \"Biscoe\", \"bill_length_mm\": 48.5, \"bill_depth_mm\": 15.0, \"flipper_length_mm\": 219.0, \"body_mass_g\": 4850.0, \"gender\": \"Female\"}, {\"species\": \"Gentoo\", \"location\": \"Biscoe\", \"bill_length_mm\": 55.9, \"bill_depth_mm\": 17.0, \"flipper_length_mm\": 228.0, \"body_mass_g\": 5600.0, \"gender\": \"Male\"}, {\"species\": \"Gentoo\", \"location\": \"Biscoe\", \"bill_length_mm\": 47.2, \"bill_depth_mm\": 15.5, \"flipper_length_mm\": 215.0, \"body_mass_g\": 4975.0, \"gender\": \"Female\"}, {\"species\": \"Gentoo\", \"location\": \"Biscoe\", \"bill_length_mm\": 49.1, \"bill_depth_mm\": 15.0, \"flipper_length_mm\": 228.0, \"body_mass_g\": 5500.0, \"gender\": \"Male\"}, {\"species\": \"Gentoo\", \"location\": \"Biscoe\", \"bill_length_mm\": 46.8, \"bill_depth_mm\": 16.1, \"flipper_length_mm\": 215.0, \"body_mass_g\": 5500.0, \"gender\": \"Male\"}, {\"species\": \"Gentoo\", \"location\": \"Biscoe\", \"bill_length_mm\": 41.7, \"bill_depth_mm\": 14.7, \"flipper_length_mm\": 210.0, \"body_mass_g\": 4700.0, \"gender\": \"Female\"}, {\"species\": \"Gentoo\", \"location\": \"Biscoe\", \"bill_length_mm\": 53.4, \"bill_depth_mm\": 15.8, \"flipper_length_mm\": 219.0, \"body_mass_g\": 5500.0, \"gender\": \"Male\"}, {\"species\": \"Gentoo\", \"location\": \"Biscoe\", \"bill_length_mm\": 43.3, \"bill_depth_mm\": 14.0, \"flipper_length_mm\": 208.0, \"body_mass_g\": 4575.0, \"gender\": \"Female\"}, {\"species\": \"Gentoo\", \"location\": \"Biscoe\", \"bill_length_mm\": 48.1, \"bill_depth_mm\": 15.1, \"flipper_length_mm\": 209.0, \"body_mass_g\": 5500.0, \"gender\": \"Male\"}, {\"species\": \"Gentoo\", \"location\": \"Biscoe\", \"bill_length_mm\": 50.5, \"bill_depth_mm\": 15.2, \"flipper_length_mm\": 216.0, \"body_mass_g\": 5000.0, \"gender\": \"Female\"}, {\"species\": \"Gentoo\", \"location\": \"Biscoe\", \"bill_length_mm\": 49.8, \"bill_depth_mm\": 15.9, \"flipper_length_mm\": 229.0, \"body_mass_g\": 5950.0, \"gender\": \"Male\"}, {\"species\": \"Gentoo\", \"location\": \"Biscoe\", \"bill_length_mm\": 43.5, \"bill_depth_mm\": 15.2, \"flipper_length_mm\": 213.0, \"body_mass_g\": 4650.0, \"gender\": \"Female\"}, {\"species\": \"Gentoo\", \"location\": \"Biscoe\", \"bill_length_mm\": 51.5, \"bill_depth_mm\": 16.3, \"flipper_length_mm\": 230.0, \"body_mass_g\": 5500.0, \"gender\": \"Male\"}, {\"species\": \"Gentoo\", \"location\": \"Biscoe\", \"bill_length_mm\": 46.2, \"bill_depth_mm\": 14.1, \"flipper_length_mm\": 217.0, \"body_mass_g\": 4375.0, \"gender\": \"Female\"}, {\"species\": \"Gentoo\", \"location\": \"Biscoe\", \"bill_length_mm\": 55.1, \"bill_depth_mm\": 16.0, \"flipper_length_mm\": 230.0, \"body_mass_g\": 5850.0, \"gender\": \"Male\"}, {\"species\": \"Gentoo\", \"location\": \"Biscoe\", \"bill_length_mm\": 48.8, \"bill_depth_mm\": 16.2, \"flipper_length_mm\": 222.0, \"body_mass_g\": 6000.0, \"gender\": \"Male\"}, {\"species\": \"Gentoo\", \"location\": \"Biscoe\", \"bill_length_mm\": 47.2, \"bill_depth_mm\": 13.7, \"flipper_length_mm\": 214.0, \"body_mass_g\": 4925.0, \"gender\": \"Female\"}, {\"species\": \"Gentoo\", \"location\": \"Biscoe\", \"bill_length_mm\": 46.8, \"bill_depth_mm\": 14.3, \"flipper_length_mm\": 215.0, \"body_mass_g\": 4850.0, \"gender\": \"Female\"}, {\"species\": \"Gentoo\", \"location\": \"Biscoe\", \"bill_length_mm\": 50.4, \"bill_depth_mm\": 15.7, \"flipper_length_mm\": 222.0, \"body_mass_g\": 5750.0, \"gender\": \"Male\"}, {\"species\": \"Gentoo\", \"location\": \"Biscoe\", \"bill_length_mm\": 45.2, \"bill_depth_mm\": 14.8, \"flipper_length_mm\": 212.0, \"body_mass_g\": 5200.0, \"gender\": \"Female\"}, {\"species\": \"Gentoo\", \"location\": \"Biscoe\", \"bill_length_mm\": 49.9, \"bill_depth_mm\": 16.1, \"flipper_length_mm\": 213.0, \"body_mass_g\": 5400.0, \"gender\": \"Male\"}]}}, {\"mode\": \"vega-lite\"});\n",
       "</script>"
      ],
      "text/plain": [
       "alt.Chart(...)"
      ]
     },
     "execution_count": 34,
     "metadata": {},
     "output_type": "execute_result"
    }
   ],
   "source": [
    "alt.Chart(df).mark_circle().encode(\n",
    "    x=alt.X(\"bill_length_mm:O\"),\n",
    "    y=alt.Y(\"flipper_length_mm\", scale=alt.Scale(domain=(170,240))),\n",
    "    color=\"species\"\n",
    ")"
   ]
  },
  {
   "cell_type": "markdown",
   "metadata": {
    "cell_id": "06460b28fad04509a18c1b6ff95bfe1a",
    "deepnote_cell_type": "markdown"
   },
   "source": [
    "* Make a facet chart where the penguins are divided according to gender.  (Go back to \"Quantitative\" encoding for the x channel.)\n",
    "\n",
    "Here the data is divided by \"gender\", and the different genders are put into different rows.  That is what the `row=\"gender\"` part means."
   ]
  },
  {
   "cell_type": "code",
   "execution_count": 35,
   "metadata": {
    "cell_id": "ff2a6a3790774a718b6bc182ea047467",
    "deepnote_cell_type": "code",
    "deepnote_to_be_reexecuted": false,
    "execution_millis": 18,
    "execution_start": 1682109683304,
    "source_hash": "7372800b"
   },
   "outputs": [
    {
     "data": {
      "text/html": [
       "\n",
       "<div id=\"altair-viz-69a3bb1ed21d4b41a83e4cb4aa05faf5\"></div>\n",
       "<script type=\"text/javascript\">\n",
       "  var VEGA_DEBUG = (typeof VEGA_DEBUG == \"undefined\") ? {} : VEGA_DEBUG;\n",
       "  (function(spec, embedOpt){\n",
       "    let outputDiv = document.currentScript.previousElementSibling;\n",
       "    if (outputDiv.id !== \"altair-viz-69a3bb1ed21d4b41a83e4cb4aa05faf5\") {\n",
       "      outputDiv = document.getElementById(\"altair-viz-69a3bb1ed21d4b41a83e4cb4aa05faf5\");\n",
       "    }\n",
       "    const paths = {\n",
       "      \"vega\": \"https://cdn.jsdelivr.net/npm//vega@5?noext\",\n",
       "      \"vega-lib\": \"https://cdn.jsdelivr.net/npm//vega-lib?noext\",\n",
       "      \"vega-lite\": \"https://cdn.jsdelivr.net/npm//vega-lite@4.17.0?noext\",\n",
       "      \"vega-embed\": \"https://cdn.jsdelivr.net/npm//vega-embed@6?noext\",\n",
       "    };\n",
       "\n",
       "    function maybeLoadScript(lib, version) {\n",
       "      var key = `${lib.replace(\"-\", \"\")}_version`;\n",
       "      return (VEGA_DEBUG[key] == version) ?\n",
       "        Promise.resolve(paths[lib]) :\n",
       "        new Promise(function(resolve, reject) {\n",
       "          var s = document.createElement('script');\n",
       "          document.getElementsByTagName(\"head\")[0].appendChild(s);\n",
       "          s.async = true;\n",
       "          s.onload = () => {\n",
       "            VEGA_DEBUG[key] = version;\n",
       "            return resolve(paths[lib]);\n",
       "          };\n",
       "          s.onerror = () => reject(`Error loading script: ${paths[lib]}`);\n",
       "          s.src = paths[lib];\n",
       "        });\n",
       "    }\n",
       "\n",
       "    function showError(err) {\n",
       "      outputDiv.innerHTML = `<div class=\"error\" style=\"color:red;\">${err}</div>`;\n",
       "      throw err;\n",
       "    }\n",
       "\n",
       "    function displayChart(vegaEmbed) {\n",
       "      vegaEmbed(outputDiv, spec, embedOpt)\n",
       "        .catch(err => showError(`Javascript Error: ${err.message}<br>This usually means there's a typo in your chart specification. See the javascript console for the full traceback.`));\n",
       "    }\n",
       "\n",
       "    if(typeof define === \"function\" && define.amd) {\n",
       "      requirejs.config({paths});\n",
       "      require([\"vega-embed\"], displayChart, err => showError(`Error loading script: ${err.message}`));\n",
       "    } else {\n",
       "      maybeLoadScript(\"vega\", \"5\")\n",
       "        .then(() => maybeLoadScript(\"vega-lite\", \"4.17.0\"))\n",
       "        .then(() => maybeLoadScript(\"vega-embed\", \"6\"))\n",
       "        .catch(showError)\n",
       "        .then(() => displayChart(vegaEmbed));\n",
       "    }\n",
       "  })({\"config\": {\"view\": {\"continuousWidth\": 400, \"continuousHeight\": 300}}, \"data\": {\"name\": \"data-a7bc2cc87e28b8bb84b0376a27fad733\"}, \"mark\": \"circle\", \"encoding\": {\"color\": {\"field\": \"species\", \"type\": \"nominal\"}, \"row\": {\"field\": \"gender\", \"type\": \"nominal\"}, \"x\": {\"field\": \"bill_length_mm\", \"scale\": {\"domain\": [30, 60]}, \"type\": \"quantitative\"}, \"y\": {\"field\": \"flipper_length_mm\", \"scale\": {\"domain\": [170, 240]}, \"type\": \"quantitative\"}}, \"$schema\": \"https://vega.github.io/schema/vega-lite/v4.17.0.json\", \"datasets\": {\"data-a7bc2cc87e28b8bb84b0376a27fad733\": [{\"species\": \"Adelie\", \"location\": \"Torgersen\", \"bill_length_mm\": 39.1, \"bill_depth_mm\": 18.7, \"flipper_length_mm\": 181.0, \"body_mass_g\": 3750.0, \"gender\": \"Male\"}, {\"species\": \"Adelie\", \"location\": \"Torgersen\", \"bill_length_mm\": 39.5, \"bill_depth_mm\": 17.4, \"flipper_length_mm\": 186.0, \"body_mass_g\": 3800.0, \"gender\": \"Female\"}, {\"species\": \"Adelie\", \"location\": \"Torgersen\", \"bill_length_mm\": 40.3, \"bill_depth_mm\": 18.0, \"flipper_length_mm\": 195.0, \"body_mass_g\": 3250.0, \"gender\": \"Female\"}, {\"species\": \"Adelie\", \"location\": \"Torgersen\", \"bill_length_mm\": 36.7, \"bill_depth_mm\": 19.3, \"flipper_length_mm\": 193.0, \"body_mass_g\": 3450.0, \"gender\": \"Female\"}, {\"species\": \"Adelie\", \"location\": \"Torgersen\", \"bill_length_mm\": 39.3, \"bill_depth_mm\": 20.6, \"flipper_length_mm\": 190.0, \"body_mass_g\": 3650.0, \"gender\": \"Male\"}, {\"species\": \"Adelie\", \"location\": \"Torgersen\", \"bill_length_mm\": 38.9, \"bill_depth_mm\": 17.8, \"flipper_length_mm\": 181.0, \"body_mass_g\": 3625.0, \"gender\": \"Female\"}, {\"species\": \"Adelie\", \"location\": \"Torgersen\", \"bill_length_mm\": 39.2, \"bill_depth_mm\": 19.6, \"flipper_length_mm\": 195.0, \"body_mass_g\": 4675.0, \"gender\": \"Male\"}, {\"species\": \"Adelie\", \"location\": \"Torgersen\", \"bill_length_mm\": 41.1, \"bill_depth_mm\": 17.6, \"flipper_length_mm\": 182.0, \"body_mass_g\": 3200.0, \"gender\": \"Female\"}, {\"species\": \"Adelie\", \"location\": \"Torgersen\", \"bill_length_mm\": 38.6, \"bill_depth_mm\": 21.2, \"flipper_length_mm\": 191.0, \"body_mass_g\": 3800.0, \"gender\": \"Male\"}, {\"species\": \"Adelie\", \"location\": \"Torgersen\", \"bill_length_mm\": 34.6, \"bill_depth_mm\": 21.1, \"flipper_length_mm\": 198.0, \"body_mass_g\": 4400.0, \"gender\": \"Male\"}, {\"species\": \"Adelie\", \"location\": \"Torgersen\", \"bill_length_mm\": 36.6, \"bill_depth_mm\": 17.8, \"flipper_length_mm\": 185.0, \"body_mass_g\": 3700.0, \"gender\": \"Female\"}, {\"species\": \"Adelie\", \"location\": \"Torgersen\", \"bill_length_mm\": 38.7, \"bill_depth_mm\": 19.0, \"flipper_length_mm\": 195.0, \"body_mass_g\": 3450.0, \"gender\": \"Female\"}, {\"species\": \"Adelie\", \"location\": \"Torgersen\", \"bill_length_mm\": 42.5, \"bill_depth_mm\": 20.7, \"flipper_length_mm\": 197.0, \"body_mass_g\": 4500.0, \"gender\": \"Male\"}, {\"species\": \"Adelie\", \"location\": \"Torgersen\", \"bill_length_mm\": 34.4, \"bill_depth_mm\": 18.4, \"flipper_length_mm\": 184.0, \"body_mass_g\": 3325.0, \"gender\": \"Female\"}, {\"species\": \"Adelie\", \"location\": \"Torgersen\", \"bill_length_mm\": 46.0, \"bill_depth_mm\": 21.5, \"flipper_length_mm\": 194.0, \"body_mass_g\": 4200.0, \"gender\": \"Male\"}, {\"species\": \"Adelie\", \"location\": \"Biscoe\", \"bill_length_mm\": 37.8, \"bill_depth_mm\": 18.3, \"flipper_length_mm\": 174.0, \"body_mass_g\": 3400.0, \"gender\": \"Female\"}, {\"species\": \"Adelie\", \"location\": \"Biscoe\", \"bill_length_mm\": 37.7, \"bill_depth_mm\": 18.7, \"flipper_length_mm\": 180.0, \"body_mass_g\": 3600.0, \"gender\": \"Male\"}, {\"species\": \"Adelie\", \"location\": \"Biscoe\", \"bill_length_mm\": 35.9, \"bill_depth_mm\": 19.2, \"flipper_length_mm\": 189.0, \"body_mass_g\": 3800.0, \"gender\": \"Female\"}, {\"species\": \"Adelie\", \"location\": \"Biscoe\", \"bill_length_mm\": 38.2, \"bill_depth_mm\": 18.1, \"flipper_length_mm\": 185.0, \"body_mass_g\": 3950.0, \"gender\": \"Male\"}, {\"species\": \"Adelie\", \"location\": \"Biscoe\", \"bill_length_mm\": 38.8, \"bill_depth_mm\": 17.2, \"flipper_length_mm\": 180.0, \"body_mass_g\": 3800.0, \"gender\": \"Male\"}, {\"species\": \"Adelie\", \"location\": \"Biscoe\", \"bill_length_mm\": 35.3, \"bill_depth_mm\": 18.9, \"flipper_length_mm\": 187.0, \"body_mass_g\": 3800.0, \"gender\": \"Female\"}, {\"species\": \"Adelie\", \"location\": \"Biscoe\", \"bill_length_mm\": 40.6, \"bill_depth_mm\": 18.6, \"flipper_length_mm\": 183.0, \"body_mass_g\": 3550.0, \"gender\": \"Male\"}, {\"species\": \"Adelie\", \"location\": \"Biscoe\", \"bill_length_mm\": 40.5, \"bill_depth_mm\": 17.9, \"flipper_length_mm\": 187.0, \"body_mass_g\": 3200.0, \"gender\": \"Female\"}, {\"species\": \"Adelie\", \"location\": \"Biscoe\", \"bill_length_mm\": 37.9, \"bill_depth_mm\": 18.6, \"flipper_length_mm\": 172.0, \"body_mass_g\": 3150.0, \"gender\": \"Female\"}, {\"species\": \"Adelie\", \"location\": \"Biscoe\", \"bill_length_mm\": 40.5, \"bill_depth_mm\": 18.9, \"flipper_length_mm\": 180.0, \"body_mass_g\": 3950.0, \"gender\": \"Male\"}, {\"species\": \"Adelie\", \"location\": \"Dream\", \"bill_length_mm\": 39.5, \"bill_depth_mm\": 16.7, \"flipper_length_mm\": 178.0, \"body_mass_g\": 3250.0, \"gender\": \"Female\"}, {\"species\": \"Adelie\", \"location\": \"Dream\", \"bill_length_mm\": 37.2, \"bill_depth_mm\": 18.1, \"flipper_length_mm\": 178.0, \"body_mass_g\": 3900.0, \"gender\": \"Male\"}, {\"species\": \"Adelie\", \"location\": \"Dream\", \"bill_length_mm\": 39.5, \"bill_depth_mm\": 17.8, \"flipper_length_mm\": 188.0, \"body_mass_g\": 3300.0, \"gender\": \"Female\"}, {\"species\": \"Adelie\", \"location\": \"Dream\", \"bill_length_mm\": 40.9, \"bill_depth_mm\": 18.9, \"flipper_length_mm\": 184.0, \"body_mass_g\": 3900.0, \"gender\": \"Male\"}, {\"species\": \"Adelie\", \"location\": \"Dream\", \"bill_length_mm\": 36.4, \"bill_depth_mm\": 17.0, \"flipper_length_mm\": 195.0, \"body_mass_g\": 3325.0, \"gender\": \"Female\"}, {\"species\": \"Adelie\", \"location\": \"Dream\", \"bill_length_mm\": 39.2, \"bill_depth_mm\": 21.1, \"flipper_length_mm\": 196.0, \"body_mass_g\": 4150.0, \"gender\": \"Male\"}, {\"species\": \"Adelie\", \"location\": \"Dream\", \"bill_length_mm\": 38.8, \"bill_depth_mm\": 20.0, \"flipper_length_mm\": 190.0, \"body_mass_g\": 3950.0, \"gender\": \"Male\"}, {\"species\": \"Adelie\", \"location\": \"Dream\", \"bill_length_mm\": 42.2, \"bill_depth_mm\": 18.5, \"flipper_length_mm\": 180.0, \"body_mass_g\": 3550.0, \"gender\": \"Female\"}, {\"species\": \"Adelie\", \"location\": \"Dream\", \"bill_length_mm\": 37.6, \"bill_depth_mm\": 19.3, \"flipper_length_mm\": 181.0, \"body_mass_g\": 3300.0, \"gender\": \"Female\"}, {\"species\": \"Adelie\", \"location\": \"Dream\", \"bill_length_mm\": 39.8, \"bill_depth_mm\": 19.1, \"flipper_length_mm\": 184.0, \"body_mass_g\": 4650.0, \"gender\": \"Male\"}, {\"species\": \"Adelie\", \"location\": \"Dream\", \"bill_length_mm\": 36.5, \"bill_depth_mm\": 18.0, \"flipper_length_mm\": 182.0, \"body_mass_g\": 3150.0, \"gender\": \"Female\"}, {\"species\": \"Adelie\", \"location\": \"Dream\", \"bill_length_mm\": 40.8, \"bill_depth_mm\": 18.4, \"flipper_length_mm\": 195.0, \"body_mass_g\": 3900.0, \"gender\": \"Male\"}, {\"species\": \"Adelie\", \"location\": \"Dream\", \"bill_length_mm\": 36.0, \"bill_depth_mm\": 18.5, \"flipper_length_mm\": 186.0, \"body_mass_g\": 3100.0, \"gender\": \"Female\"}, {\"species\": \"Adelie\", \"location\": \"Dream\", \"bill_length_mm\": 44.1, \"bill_depth_mm\": 19.7, \"flipper_length_mm\": 196.0, \"body_mass_g\": 4400.0, \"gender\": \"Male\"}, {\"species\": \"Adelie\", \"location\": \"Dream\", \"bill_length_mm\": 37.0, \"bill_depth_mm\": 16.9, \"flipper_length_mm\": 185.0, \"body_mass_g\": 3000.0, \"gender\": \"Female\"}, {\"species\": \"Adelie\", \"location\": \"Dream\", \"bill_length_mm\": 39.6, \"bill_depth_mm\": 18.8, \"flipper_length_mm\": 190.0, \"body_mass_g\": 4600.0, \"gender\": \"Male\"}, {\"species\": \"Adelie\", \"location\": \"Dream\", \"bill_length_mm\": 41.1, \"bill_depth_mm\": 19.0, \"flipper_length_mm\": 182.0, \"body_mass_g\": 3425.0, \"gender\": \"Male\"}, {\"species\": \"Adelie\", \"location\": \"Dream\", \"bill_length_mm\": 36.0, \"bill_depth_mm\": 17.9, \"flipper_length_mm\": 190.0, \"body_mass_g\": 3450.0, \"gender\": \"Female\"}, {\"species\": \"Adelie\", \"location\": \"Dream\", \"bill_length_mm\": 42.3, \"bill_depth_mm\": 21.2, \"flipper_length_mm\": 191.0, \"body_mass_g\": 4150.0, \"gender\": \"Male\"}, {\"species\": \"Adelie\", \"location\": \"Biscoe\", \"bill_length_mm\": 39.6, \"bill_depth_mm\": 17.7, \"flipper_length_mm\": 186.0, \"body_mass_g\": 3500.0, \"gender\": \"Female\"}, {\"species\": \"Adelie\", \"location\": \"Biscoe\", \"bill_length_mm\": 40.1, \"bill_depth_mm\": 18.9, \"flipper_length_mm\": 188.0, \"body_mass_g\": 4300.0, \"gender\": \"Male\"}, {\"species\": \"Adelie\", \"location\": \"Biscoe\", \"bill_length_mm\": 35.0, \"bill_depth_mm\": 17.9, \"flipper_length_mm\": 190.0, \"body_mass_g\": 3450.0, \"gender\": \"Female\"}, {\"species\": \"Adelie\", \"location\": \"Biscoe\", \"bill_length_mm\": 42.0, \"bill_depth_mm\": 19.5, \"flipper_length_mm\": 200.0, \"body_mass_g\": 4050.0, \"gender\": \"Male\"}, {\"species\": \"Adelie\", \"location\": \"Biscoe\", \"bill_length_mm\": 34.5, \"bill_depth_mm\": 18.1, \"flipper_length_mm\": 187.0, \"body_mass_g\": 2900.0, \"gender\": \"Female\"}, {\"species\": \"Adelie\", \"location\": \"Biscoe\", \"bill_length_mm\": 41.4, \"bill_depth_mm\": 18.6, \"flipper_length_mm\": 191.0, \"body_mass_g\": 3700.0, \"gender\": \"Male\"}, {\"species\": \"Adelie\", \"location\": \"Biscoe\", \"bill_length_mm\": 39.0, \"bill_depth_mm\": 17.5, \"flipper_length_mm\": 186.0, \"body_mass_g\": 3550.0, \"gender\": \"Female\"}, {\"species\": \"Adelie\", \"location\": \"Biscoe\", \"bill_length_mm\": 40.6, \"bill_depth_mm\": 18.8, \"flipper_length_mm\": 193.0, \"body_mass_g\": 3800.0, \"gender\": \"Male\"}, {\"species\": \"Adelie\", \"location\": \"Biscoe\", \"bill_length_mm\": 36.5, \"bill_depth_mm\": 16.6, \"flipper_length_mm\": 181.0, \"body_mass_g\": 2850.0, \"gender\": \"Female\"}, {\"species\": \"Adelie\", \"location\": \"Biscoe\", \"bill_length_mm\": 37.6, \"bill_depth_mm\": 19.1, \"flipper_length_mm\": 194.0, \"body_mass_g\": 3750.0, \"gender\": \"Male\"}, {\"species\": \"Adelie\", \"location\": \"Biscoe\", \"bill_length_mm\": 35.7, \"bill_depth_mm\": 16.9, \"flipper_length_mm\": 185.0, \"body_mass_g\": 3150.0, \"gender\": \"Female\"}, {\"species\": \"Adelie\", \"location\": \"Biscoe\", \"bill_length_mm\": 41.3, \"bill_depth_mm\": 21.1, \"flipper_length_mm\": 195.0, \"body_mass_g\": 4400.0, \"gender\": \"Male\"}, {\"species\": \"Adelie\", \"location\": \"Biscoe\", \"bill_length_mm\": 37.6, \"bill_depth_mm\": 17.0, \"flipper_length_mm\": 185.0, \"body_mass_g\": 3600.0, \"gender\": \"Female\"}, {\"species\": \"Adelie\", \"location\": \"Biscoe\", \"bill_length_mm\": 41.1, \"bill_depth_mm\": 18.2, \"flipper_length_mm\": 192.0, \"body_mass_g\": 4050.0, \"gender\": \"Male\"}, {\"species\": \"Adelie\", \"location\": \"Biscoe\", \"bill_length_mm\": 36.4, \"bill_depth_mm\": 17.1, \"flipper_length_mm\": 184.0, \"body_mass_g\": 2850.0, \"gender\": \"Female\"}, {\"species\": \"Adelie\", \"location\": \"Biscoe\", \"bill_length_mm\": 41.6, \"bill_depth_mm\": 18.0, \"flipper_length_mm\": 192.0, \"body_mass_g\": 3950.0, \"gender\": \"Male\"}, {\"species\": \"Adelie\", \"location\": \"Biscoe\", \"bill_length_mm\": 35.5, \"bill_depth_mm\": 16.2, \"flipper_length_mm\": 195.0, \"body_mass_g\": 3350.0, \"gender\": \"Female\"}, {\"species\": \"Adelie\", \"location\": \"Biscoe\", \"bill_length_mm\": 41.1, \"bill_depth_mm\": 19.1, \"flipper_length_mm\": 188.0, \"body_mass_g\": 4100.0, \"gender\": \"Male\"}, {\"species\": \"Adelie\", \"location\": \"Torgersen\", \"bill_length_mm\": 35.9, \"bill_depth_mm\": 16.6, \"flipper_length_mm\": 190.0, \"body_mass_g\": 3050.0, \"gender\": \"Female\"}, {\"species\": \"Adelie\", \"location\": \"Torgersen\", \"bill_length_mm\": 41.8, \"bill_depth_mm\": 19.4, \"flipper_length_mm\": 198.0, \"body_mass_g\": 4450.0, \"gender\": \"Male\"}, {\"species\": \"Adelie\", \"location\": \"Torgersen\", \"bill_length_mm\": 33.5, \"bill_depth_mm\": 19.0, \"flipper_length_mm\": 190.0, \"body_mass_g\": 3600.0, \"gender\": \"Female\"}, {\"species\": \"Adelie\", \"location\": \"Torgersen\", \"bill_length_mm\": 39.7, \"bill_depth_mm\": 18.4, \"flipper_length_mm\": 190.0, \"body_mass_g\": 3900.0, \"gender\": \"Male\"}, {\"species\": \"Adelie\", \"location\": \"Torgersen\", \"bill_length_mm\": 39.6, \"bill_depth_mm\": 17.2, \"flipper_length_mm\": 196.0, \"body_mass_g\": 3550.0, \"gender\": \"Female\"}, {\"species\": \"Adelie\", \"location\": \"Torgersen\", \"bill_length_mm\": 45.8, \"bill_depth_mm\": 18.9, \"flipper_length_mm\": 197.0, \"body_mass_g\": 4150.0, \"gender\": \"Male\"}, {\"species\": \"Adelie\", \"location\": \"Torgersen\", \"bill_length_mm\": 35.5, \"bill_depth_mm\": 17.5, \"flipper_length_mm\": 190.0, \"body_mass_g\": 3700.0, \"gender\": \"Female\"}, {\"species\": \"Adelie\", \"location\": \"Torgersen\", \"bill_length_mm\": 42.8, \"bill_depth_mm\": 18.5, \"flipper_length_mm\": 195.0, \"body_mass_g\": 4250.0, \"gender\": \"Male\"}, {\"species\": \"Adelie\", \"location\": \"Torgersen\", \"bill_length_mm\": 40.9, \"bill_depth_mm\": 16.8, \"flipper_length_mm\": 191.0, \"body_mass_g\": 3700.0, \"gender\": \"Female\"}, {\"species\": \"Adelie\", \"location\": \"Torgersen\", \"bill_length_mm\": 37.2, \"bill_depth_mm\": 19.4, \"flipper_length_mm\": 184.0, \"body_mass_g\": 3900.0, \"gender\": \"Male\"}, {\"species\": \"Adelie\", \"location\": \"Torgersen\", \"bill_length_mm\": 36.2, \"bill_depth_mm\": 16.1, \"flipper_length_mm\": 187.0, \"body_mass_g\": 3550.0, \"gender\": \"Female\"}, {\"species\": \"Adelie\", \"location\": \"Torgersen\", \"bill_length_mm\": 42.1, \"bill_depth_mm\": 19.1, \"flipper_length_mm\": 195.0, \"body_mass_g\": 4000.0, \"gender\": \"Male\"}, {\"species\": \"Adelie\", \"location\": \"Torgersen\", \"bill_length_mm\": 34.6, \"bill_depth_mm\": 17.2, \"flipper_length_mm\": 189.0, \"body_mass_g\": 3200.0, \"gender\": \"Female\"}, {\"species\": \"Adelie\", \"location\": \"Torgersen\", \"bill_length_mm\": 42.9, \"bill_depth_mm\": 17.6, \"flipper_length_mm\": 196.0, \"body_mass_g\": 4700.0, \"gender\": \"Male\"}, {\"species\": \"Adelie\", \"location\": \"Torgersen\", \"bill_length_mm\": 36.7, \"bill_depth_mm\": 18.8, \"flipper_length_mm\": 187.0, \"body_mass_g\": 3800.0, \"gender\": \"Female\"}, {\"species\": \"Adelie\", \"location\": \"Torgersen\", \"bill_length_mm\": 35.1, \"bill_depth_mm\": 19.4, \"flipper_length_mm\": 193.0, \"body_mass_g\": 4200.0, \"gender\": \"Male\"}, {\"species\": \"Adelie\", \"location\": \"Dream\", \"bill_length_mm\": 37.3, \"bill_depth_mm\": 17.8, \"flipper_length_mm\": 191.0, \"body_mass_g\": 3350.0, \"gender\": \"Female\"}, {\"species\": \"Adelie\", \"location\": \"Dream\", \"bill_length_mm\": 41.3, \"bill_depth_mm\": 20.3, \"flipper_length_mm\": 194.0, \"body_mass_g\": 3550.0, \"gender\": \"Male\"}, {\"species\": \"Adelie\", \"location\": \"Dream\", \"bill_length_mm\": 36.3, \"bill_depth_mm\": 19.5, \"flipper_length_mm\": 190.0, \"body_mass_g\": 3800.0, \"gender\": \"Male\"}, {\"species\": \"Adelie\", \"location\": \"Dream\", \"bill_length_mm\": 36.9, \"bill_depth_mm\": 18.6, \"flipper_length_mm\": 189.0, \"body_mass_g\": 3500.0, \"gender\": \"Female\"}, {\"species\": \"Adelie\", \"location\": \"Dream\", \"bill_length_mm\": 38.3, \"bill_depth_mm\": 19.2, \"flipper_length_mm\": 189.0, \"body_mass_g\": 3950.0, \"gender\": \"Male\"}, {\"species\": \"Adelie\", \"location\": \"Dream\", \"bill_length_mm\": 38.9, \"bill_depth_mm\": 18.8, \"flipper_length_mm\": 190.0, \"body_mass_g\": 3600.0, \"gender\": \"Female\"}, {\"species\": \"Adelie\", \"location\": \"Dream\", \"bill_length_mm\": 35.7, \"bill_depth_mm\": 18.0, \"flipper_length_mm\": 202.0, \"body_mass_g\": 3550.0, \"gender\": \"Female\"}, {\"species\": \"Adelie\", \"location\": \"Dream\", \"bill_length_mm\": 41.1, \"bill_depth_mm\": 18.1, \"flipper_length_mm\": 205.0, \"body_mass_g\": 4300.0, \"gender\": \"Male\"}, {\"species\": \"Adelie\", \"location\": \"Dream\", \"bill_length_mm\": 34.0, \"bill_depth_mm\": 17.1, \"flipper_length_mm\": 185.0, \"body_mass_g\": 3400.0, \"gender\": \"Female\"}, {\"species\": \"Adelie\", \"location\": \"Dream\", \"bill_length_mm\": 39.6, \"bill_depth_mm\": 18.1, \"flipper_length_mm\": 186.0, \"body_mass_g\": 4450.0, \"gender\": \"Male\"}, {\"species\": \"Adelie\", \"location\": \"Dream\", \"bill_length_mm\": 36.2, \"bill_depth_mm\": 17.3, \"flipper_length_mm\": 187.0, \"body_mass_g\": 3300.0, \"gender\": \"Female\"}, {\"species\": \"Adelie\", \"location\": \"Dream\", \"bill_length_mm\": 40.8, \"bill_depth_mm\": 18.9, \"flipper_length_mm\": 208.0, \"body_mass_g\": 4300.0, \"gender\": \"Male\"}, {\"species\": \"Adelie\", \"location\": \"Dream\", \"bill_length_mm\": 38.1, \"bill_depth_mm\": 18.6, \"flipper_length_mm\": 190.0, \"body_mass_g\": 3700.0, \"gender\": \"Female\"}, {\"species\": \"Adelie\", \"location\": \"Dream\", \"bill_length_mm\": 40.3, \"bill_depth_mm\": 18.5, \"flipper_length_mm\": 196.0, \"body_mass_g\": 4350.0, \"gender\": \"Male\"}, {\"species\": \"Adelie\", \"location\": \"Dream\", \"bill_length_mm\": 33.1, \"bill_depth_mm\": 16.1, \"flipper_length_mm\": 178.0, \"body_mass_g\": 2900.0, \"gender\": \"Female\"}, {\"species\": \"Adelie\", \"location\": \"Dream\", \"bill_length_mm\": 43.2, \"bill_depth_mm\": 18.5, \"flipper_length_mm\": 192.0, \"body_mass_g\": 4100.0, \"gender\": \"Male\"}, {\"species\": \"Adelie\", \"location\": \"Biscoe\", \"bill_length_mm\": 35.0, \"bill_depth_mm\": 17.9, \"flipper_length_mm\": 192.0, \"body_mass_g\": 3725.0, \"gender\": \"Female\"}, {\"species\": \"Adelie\", \"location\": \"Biscoe\", \"bill_length_mm\": 41.0, \"bill_depth_mm\": 20.0, \"flipper_length_mm\": 203.0, \"body_mass_g\": 4725.0, \"gender\": \"Male\"}, {\"species\": \"Adelie\", \"location\": \"Biscoe\", \"bill_length_mm\": 37.7, \"bill_depth_mm\": 16.0, \"flipper_length_mm\": 183.0, \"body_mass_g\": 3075.0, \"gender\": \"Female\"}, {\"species\": \"Adelie\", \"location\": \"Biscoe\", \"bill_length_mm\": 37.8, \"bill_depth_mm\": 20.0, \"flipper_length_mm\": 190.0, \"body_mass_g\": 4250.0, \"gender\": \"Male\"}, {\"species\": \"Adelie\", \"location\": \"Biscoe\", \"bill_length_mm\": 37.9, \"bill_depth_mm\": 18.6, \"flipper_length_mm\": 193.0, \"body_mass_g\": 2925.0, \"gender\": \"Female\"}, {\"species\": \"Adelie\", \"location\": \"Biscoe\", \"bill_length_mm\": 39.7, \"bill_depth_mm\": 18.9, \"flipper_length_mm\": 184.0, \"body_mass_g\": 3550.0, \"gender\": \"Male\"}, {\"species\": \"Adelie\", \"location\": \"Biscoe\", \"bill_length_mm\": 38.6, \"bill_depth_mm\": 17.2, \"flipper_length_mm\": 199.0, \"body_mass_g\": 3750.0, \"gender\": \"Female\"}, {\"species\": \"Adelie\", \"location\": \"Biscoe\", \"bill_length_mm\": 38.2, \"bill_depth_mm\": 20.0, \"flipper_length_mm\": 190.0, \"body_mass_g\": 3900.0, \"gender\": \"Male\"}, {\"species\": \"Adelie\", \"location\": \"Biscoe\", \"bill_length_mm\": 38.1, \"bill_depth_mm\": 17.0, \"flipper_length_mm\": 181.0, \"body_mass_g\": 3175.0, \"gender\": \"Female\"}, {\"species\": \"Adelie\", \"location\": \"Biscoe\", \"bill_length_mm\": 43.2, \"bill_depth_mm\": 19.0, \"flipper_length_mm\": 197.0, \"body_mass_g\": 4775.0, \"gender\": \"Male\"}, {\"species\": \"Adelie\", \"location\": \"Biscoe\", \"bill_length_mm\": 38.1, \"bill_depth_mm\": 16.5, \"flipper_length_mm\": 198.0, \"body_mass_g\": 3825.0, \"gender\": \"Female\"}, {\"species\": \"Adelie\", \"location\": \"Biscoe\", \"bill_length_mm\": 45.6, \"bill_depth_mm\": 20.3, \"flipper_length_mm\": 191.0, \"body_mass_g\": 4600.0, \"gender\": \"Male\"}, {\"species\": \"Adelie\", \"location\": \"Biscoe\", \"bill_length_mm\": 39.7, \"bill_depth_mm\": 17.7, \"flipper_length_mm\": 193.0, \"body_mass_g\": 3200.0, \"gender\": \"Female\"}, {\"species\": \"Adelie\", \"location\": \"Biscoe\", \"bill_length_mm\": 42.2, \"bill_depth_mm\": 19.5, \"flipper_length_mm\": 197.0, \"body_mass_g\": 4275.0, \"gender\": \"Male\"}, {\"species\": \"Adelie\", \"location\": \"Biscoe\", \"bill_length_mm\": 39.6, \"bill_depth_mm\": 20.7, \"flipper_length_mm\": 191.0, \"body_mass_g\": 3900.0, \"gender\": \"Female\"}, {\"species\": \"Adelie\", \"location\": \"Biscoe\", \"bill_length_mm\": 42.7, \"bill_depth_mm\": 18.3, \"flipper_length_mm\": 196.0, \"body_mass_g\": 4075.0, \"gender\": \"Male\"}, {\"species\": \"Adelie\", \"location\": \"Torgersen\", \"bill_length_mm\": 38.6, \"bill_depth_mm\": 17.0, \"flipper_length_mm\": 188.0, \"body_mass_g\": 2900.0, \"gender\": \"Female\"}, {\"species\": \"Adelie\", \"location\": \"Torgersen\", \"bill_length_mm\": 37.3, \"bill_depth_mm\": 20.5, \"flipper_length_mm\": 199.0, \"body_mass_g\": 3775.0, \"gender\": \"Male\"}, {\"species\": \"Adelie\", \"location\": \"Torgersen\", \"bill_length_mm\": 35.7, \"bill_depth_mm\": 17.0, \"flipper_length_mm\": 189.0, \"body_mass_g\": 3350.0, \"gender\": \"Female\"}, {\"species\": \"Adelie\", \"location\": \"Torgersen\", \"bill_length_mm\": 41.1, \"bill_depth_mm\": 18.6, \"flipper_length_mm\": 189.0, \"body_mass_g\": 3325.0, \"gender\": \"Male\"}, {\"species\": \"Adelie\", \"location\": \"Torgersen\", \"bill_length_mm\": 36.2, \"bill_depth_mm\": 17.2, \"flipper_length_mm\": 187.0, \"body_mass_g\": 3150.0, \"gender\": \"Female\"}, {\"species\": \"Adelie\", \"location\": \"Torgersen\", \"bill_length_mm\": 37.7, \"bill_depth_mm\": 19.8, \"flipper_length_mm\": 198.0, \"body_mass_g\": 3500.0, \"gender\": \"Male\"}, {\"species\": \"Adelie\", \"location\": \"Torgersen\", \"bill_length_mm\": 40.2, \"bill_depth_mm\": 17.0, \"flipper_length_mm\": 176.0, \"body_mass_g\": 3450.0, \"gender\": \"Female\"}, {\"species\": \"Adelie\", \"location\": \"Torgersen\", \"bill_length_mm\": 41.4, \"bill_depth_mm\": 18.5, \"flipper_length_mm\": 202.0, \"body_mass_g\": 3875.0, \"gender\": \"Male\"}, {\"species\": \"Adelie\", \"location\": \"Torgersen\", \"bill_length_mm\": 35.2, \"bill_depth_mm\": 15.9, \"flipper_length_mm\": 186.0, \"body_mass_g\": 3050.0, \"gender\": \"Female\"}, {\"species\": \"Adelie\", \"location\": \"Torgersen\", \"bill_length_mm\": 40.6, \"bill_depth_mm\": 19.0, \"flipper_length_mm\": 199.0, \"body_mass_g\": 4000.0, \"gender\": \"Male\"}, {\"species\": \"Adelie\", \"location\": \"Torgersen\", \"bill_length_mm\": 38.8, \"bill_depth_mm\": 17.6, \"flipper_length_mm\": 191.0, \"body_mass_g\": 3275.0, \"gender\": \"Female\"}, {\"species\": \"Adelie\", \"location\": \"Torgersen\", \"bill_length_mm\": 41.5, \"bill_depth_mm\": 18.3, \"flipper_length_mm\": 195.0, \"body_mass_g\": 4300.0, \"gender\": \"Male\"}, {\"species\": \"Adelie\", \"location\": \"Torgersen\", \"bill_length_mm\": 39.0, \"bill_depth_mm\": 17.1, \"flipper_length_mm\": 191.0, \"body_mass_g\": 3050.0, \"gender\": \"Female\"}, {\"species\": \"Adelie\", \"location\": \"Torgersen\", \"bill_length_mm\": 44.1, \"bill_depth_mm\": 18.0, \"flipper_length_mm\": 210.0, \"body_mass_g\": 4000.0, \"gender\": \"Male\"}, {\"species\": \"Adelie\", \"location\": \"Torgersen\", \"bill_length_mm\": 38.5, \"bill_depth_mm\": 17.9, \"flipper_length_mm\": 190.0, \"body_mass_g\": 3325.0, \"gender\": \"Female\"}, {\"species\": \"Adelie\", \"location\": \"Torgersen\", \"bill_length_mm\": 43.1, \"bill_depth_mm\": 19.2, \"flipper_length_mm\": 197.0, \"body_mass_g\": 3500.0, \"gender\": \"Male\"}, {\"species\": \"Adelie\", \"location\": \"Dream\", \"bill_length_mm\": 36.8, \"bill_depth_mm\": 18.5, \"flipper_length_mm\": 193.0, \"body_mass_g\": 3500.0, \"gender\": \"Female\"}, {\"species\": \"Adelie\", \"location\": \"Dream\", \"bill_length_mm\": 37.5, \"bill_depth_mm\": 18.5, \"flipper_length_mm\": 199.0, \"body_mass_g\": 4475.0, \"gender\": \"Male\"}, {\"species\": \"Adelie\", \"location\": \"Dream\", \"bill_length_mm\": 38.1, \"bill_depth_mm\": 17.6, \"flipper_length_mm\": 187.0, \"body_mass_g\": 3425.0, \"gender\": \"Female\"}, {\"species\": \"Adelie\", \"location\": \"Dream\", \"bill_length_mm\": 41.1, \"bill_depth_mm\": 17.5, \"flipper_length_mm\": 190.0, \"body_mass_g\": 3900.0, \"gender\": \"Male\"}, {\"species\": \"Adelie\", \"location\": \"Dream\", \"bill_length_mm\": 35.6, \"bill_depth_mm\": 17.5, \"flipper_length_mm\": 191.0, \"body_mass_g\": 3175.0, \"gender\": \"Female\"}, {\"species\": \"Adelie\", \"location\": \"Dream\", \"bill_length_mm\": 40.2, \"bill_depth_mm\": 20.1, \"flipper_length_mm\": 200.0, \"body_mass_g\": 3975.0, \"gender\": \"Male\"}, {\"species\": \"Adelie\", \"location\": \"Dream\", \"bill_length_mm\": 37.0, \"bill_depth_mm\": 16.5, \"flipper_length_mm\": 185.0, \"body_mass_g\": 3400.0, \"gender\": \"Female\"}, {\"species\": \"Adelie\", \"location\": \"Dream\", \"bill_length_mm\": 39.7, \"bill_depth_mm\": 17.9, \"flipper_length_mm\": 193.0, \"body_mass_g\": 4250.0, \"gender\": \"Male\"}, {\"species\": \"Adelie\", \"location\": \"Dream\", \"bill_length_mm\": 40.2, \"bill_depth_mm\": 17.1, \"flipper_length_mm\": 193.0, \"body_mass_g\": 3400.0, \"gender\": \"Female\"}, {\"species\": \"Adelie\", \"location\": \"Dream\", \"bill_length_mm\": 40.6, \"bill_depth_mm\": 17.2, \"flipper_length_mm\": 187.0, \"body_mass_g\": 3475.0, \"gender\": \"Male\"}, {\"species\": \"Adelie\", \"location\": \"Dream\", \"bill_length_mm\": 32.1, \"bill_depth_mm\": 15.5, \"flipper_length_mm\": 188.0, \"body_mass_g\": 3050.0, \"gender\": \"Female\"}, {\"species\": \"Adelie\", \"location\": \"Dream\", \"bill_length_mm\": 40.7, \"bill_depth_mm\": 17.0, \"flipper_length_mm\": 190.0, \"body_mass_g\": 3725.0, \"gender\": \"Male\"}, {\"species\": \"Adelie\", \"location\": \"Dream\", \"bill_length_mm\": 37.3, \"bill_depth_mm\": 16.8, \"flipper_length_mm\": 192.0, \"body_mass_g\": 3000.0, \"gender\": \"Female\"}, {\"species\": \"Adelie\", \"location\": \"Dream\", \"bill_length_mm\": 39.0, \"bill_depth_mm\": 18.7, \"flipper_length_mm\": 185.0, \"body_mass_g\": 3650.0, \"gender\": \"Male\"}, {\"species\": \"Adelie\", \"location\": \"Dream\", \"bill_length_mm\": 39.2, \"bill_depth_mm\": 18.6, \"flipper_length_mm\": 190.0, \"body_mass_g\": 4250.0, \"gender\": \"Male\"}, {\"species\": \"Adelie\", \"location\": \"Dream\", \"bill_length_mm\": 36.6, \"bill_depth_mm\": 18.4, \"flipper_length_mm\": 184.0, \"body_mass_g\": 3475.0, \"gender\": \"Female\"}, {\"species\": \"Adelie\", \"location\": \"Dream\", \"bill_length_mm\": 36.0, \"bill_depth_mm\": 17.8, \"flipper_length_mm\": 195.0, \"body_mass_g\": 3450.0, \"gender\": \"Female\"}, {\"species\": \"Adelie\", \"location\": \"Dream\", \"bill_length_mm\": 37.8, \"bill_depth_mm\": 18.1, \"flipper_length_mm\": 193.0, \"body_mass_g\": 3750.0, \"gender\": \"Male\"}, {\"species\": \"Adelie\", \"location\": \"Dream\", \"bill_length_mm\": 36.0, \"bill_depth_mm\": 17.1, \"flipper_length_mm\": 187.0, \"body_mass_g\": 3700.0, \"gender\": \"Female\"}, {\"species\": \"Adelie\", \"location\": \"Dream\", \"bill_length_mm\": 41.5, \"bill_depth_mm\": 18.5, \"flipper_length_mm\": 201.0, \"body_mass_g\": 4000.0, \"gender\": \"Male\"}, {\"species\": \"Chinstrap\", \"location\": \"Dream\", \"bill_length_mm\": 46.5, \"bill_depth_mm\": 17.9, \"flipper_length_mm\": 192.0, \"body_mass_g\": 3500.0, \"gender\": \"Female\"}, {\"species\": \"Chinstrap\", \"location\": \"Dream\", \"bill_length_mm\": 50.0, \"bill_depth_mm\": 19.5, \"flipper_length_mm\": 196.0, \"body_mass_g\": 3900.0, \"gender\": \"Male\"}, {\"species\": \"Chinstrap\", \"location\": \"Dream\", \"bill_length_mm\": 51.3, \"bill_depth_mm\": 19.2, \"flipper_length_mm\": 193.0, \"body_mass_g\": 3650.0, \"gender\": \"Male\"}, {\"species\": \"Chinstrap\", \"location\": \"Dream\", \"bill_length_mm\": 45.4, \"bill_depth_mm\": 18.7, \"flipper_length_mm\": 188.0, \"body_mass_g\": 3525.0, \"gender\": \"Female\"}, {\"species\": \"Chinstrap\", \"location\": \"Dream\", \"bill_length_mm\": 52.7, \"bill_depth_mm\": 19.8, \"flipper_length_mm\": 197.0, \"body_mass_g\": 3725.0, \"gender\": \"Male\"}, {\"species\": \"Chinstrap\", \"location\": \"Dream\", \"bill_length_mm\": 45.2, \"bill_depth_mm\": 17.8, \"flipper_length_mm\": 198.0, \"body_mass_g\": 3950.0, \"gender\": \"Female\"}, {\"species\": \"Chinstrap\", \"location\": \"Dream\", \"bill_length_mm\": 46.1, \"bill_depth_mm\": 18.2, \"flipper_length_mm\": 178.0, \"body_mass_g\": 3250.0, \"gender\": \"Female\"}, {\"species\": \"Chinstrap\", \"location\": \"Dream\", \"bill_length_mm\": 51.3, \"bill_depth_mm\": 18.2, \"flipper_length_mm\": 197.0, \"body_mass_g\": 3750.0, \"gender\": \"Male\"}, {\"species\": \"Chinstrap\", \"location\": \"Dream\", \"bill_length_mm\": 46.0, \"bill_depth_mm\": 18.9, \"flipper_length_mm\": 195.0, \"body_mass_g\": 4150.0, \"gender\": \"Female\"}, {\"species\": \"Chinstrap\", \"location\": \"Dream\", \"bill_length_mm\": 51.3, \"bill_depth_mm\": 19.9, \"flipper_length_mm\": 198.0, \"body_mass_g\": 3700.0, \"gender\": \"Male\"}, {\"species\": \"Chinstrap\", \"location\": \"Dream\", \"bill_length_mm\": 46.6, \"bill_depth_mm\": 17.8, \"flipper_length_mm\": 193.0, \"body_mass_g\": 3800.0, \"gender\": \"Female\"}, {\"species\": \"Chinstrap\", \"location\": \"Dream\", \"bill_length_mm\": 51.7, \"bill_depth_mm\": 20.3, \"flipper_length_mm\": 194.0, \"body_mass_g\": 3775.0, \"gender\": \"Male\"}, {\"species\": \"Chinstrap\", \"location\": \"Dream\", \"bill_length_mm\": 47.0, \"bill_depth_mm\": 17.3, \"flipper_length_mm\": 185.0, \"body_mass_g\": 3700.0, \"gender\": \"Female\"}, {\"species\": \"Chinstrap\", \"location\": \"Dream\", \"bill_length_mm\": 52.0, \"bill_depth_mm\": 18.1, \"flipper_length_mm\": 201.0, \"body_mass_g\": 4050.0, \"gender\": \"Male\"}, {\"species\": \"Chinstrap\", \"location\": \"Dream\", \"bill_length_mm\": 45.9, \"bill_depth_mm\": 17.1, \"flipper_length_mm\": 190.0, \"body_mass_g\": 3575.0, \"gender\": \"Female\"}, {\"species\": \"Chinstrap\", \"location\": \"Dream\", \"bill_length_mm\": 50.5, \"bill_depth_mm\": 19.6, \"flipper_length_mm\": 201.0, \"body_mass_g\": 4050.0, \"gender\": \"Male\"}, {\"species\": \"Chinstrap\", \"location\": \"Dream\", \"bill_length_mm\": 50.3, \"bill_depth_mm\": 20.0, \"flipper_length_mm\": 197.0, \"body_mass_g\": 3300.0, \"gender\": \"Male\"}, {\"species\": \"Chinstrap\", \"location\": \"Dream\", \"bill_length_mm\": 58.0, \"bill_depth_mm\": 17.8, \"flipper_length_mm\": 181.0, \"body_mass_g\": 3700.0, \"gender\": \"Female\"}, {\"species\": \"Chinstrap\", \"location\": \"Dream\", \"bill_length_mm\": 46.4, \"bill_depth_mm\": 18.6, \"flipper_length_mm\": 190.0, \"body_mass_g\": 3450.0, \"gender\": \"Female\"}, {\"species\": \"Chinstrap\", \"location\": \"Dream\", \"bill_length_mm\": 49.2, \"bill_depth_mm\": 18.2, \"flipper_length_mm\": 195.0, \"body_mass_g\": 4400.0, \"gender\": \"Male\"}, {\"species\": \"Chinstrap\", \"location\": \"Dream\", \"bill_length_mm\": 42.4, \"bill_depth_mm\": 17.3, \"flipper_length_mm\": 181.0, \"body_mass_g\": 3600.0, \"gender\": \"Female\"}, {\"species\": \"Chinstrap\", \"location\": \"Dream\", \"bill_length_mm\": 48.5, \"bill_depth_mm\": 17.5, \"flipper_length_mm\": 191.0, \"body_mass_g\": 3400.0, \"gender\": \"Male\"}, {\"species\": \"Chinstrap\", \"location\": \"Dream\", \"bill_length_mm\": 43.2, \"bill_depth_mm\": 16.6, \"flipper_length_mm\": 187.0, \"body_mass_g\": 2900.0, \"gender\": \"Female\"}, {\"species\": \"Chinstrap\", \"location\": \"Dream\", \"bill_length_mm\": 50.6, \"bill_depth_mm\": 19.4, \"flipper_length_mm\": 193.0, \"body_mass_g\": 3800.0, \"gender\": \"Male\"}, {\"species\": \"Chinstrap\", \"location\": \"Dream\", \"bill_length_mm\": 46.7, \"bill_depth_mm\": 17.9, \"flipper_length_mm\": 195.0, \"body_mass_g\": 3300.0, \"gender\": \"Female\"}, {\"species\": \"Chinstrap\", \"location\": \"Dream\", \"bill_length_mm\": 52.0, \"bill_depth_mm\": 19.0, \"flipper_length_mm\": 197.0, \"body_mass_g\": 4150.0, \"gender\": \"Male\"}, {\"species\": \"Chinstrap\", \"location\": \"Dream\", \"bill_length_mm\": 50.5, \"bill_depth_mm\": 18.4, \"flipper_length_mm\": 200.0, \"body_mass_g\": 3400.0, \"gender\": \"Female\"}, {\"species\": \"Chinstrap\", \"location\": \"Dream\", \"bill_length_mm\": 49.5, \"bill_depth_mm\": 19.0, \"flipper_length_mm\": 200.0, \"body_mass_g\": 3800.0, \"gender\": \"Male\"}, {\"species\": \"Chinstrap\", \"location\": \"Dream\", \"bill_length_mm\": 46.4, \"bill_depth_mm\": 17.8, \"flipper_length_mm\": 191.0, \"body_mass_g\": 3700.0, \"gender\": \"Female\"}, {\"species\": \"Chinstrap\", \"location\": \"Dream\", \"bill_length_mm\": 52.8, \"bill_depth_mm\": 20.0, \"flipper_length_mm\": 205.0, \"body_mass_g\": 4550.0, \"gender\": \"Male\"}, {\"species\": \"Chinstrap\", \"location\": \"Dream\", \"bill_length_mm\": 40.9, \"bill_depth_mm\": 16.6, \"flipper_length_mm\": 187.0, \"body_mass_g\": 3200.0, \"gender\": \"Female\"}, {\"species\": \"Chinstrap\", \"location\": \"Dream\", \"bill_length_mm\": 54.2, \"bill_depth_mm\": 20.8, \"flipper_length_mm\": 201.0, \"body_mass_g\": 4300.0, \"gender\": \"Male\"}, {\"species\": \"Chinstrap\", \"location\": \"Dream\", \"bill_length_mm\": 42.5, \"bill_depth_mm\": 16.7, \"flipper_length_mm\": 187.0, \"body_mass_g\": 3350.0, \"gender\": \"Female\"}, {\"species\": \"Chinstrap\", \"location\": \"Dream\", \"bill_length_mm\": 51.0, \"bill_depth_mm\": 18.8, \"flipper_length_mm\": 203.0, \"body_mass_g\": 4100.0, \"gender\": \"Male\"}, {\"species\": \"Chinstrap\", \"location\": \"Dream\", \"bill_length_mm\": 49.7, \"bill_depth_mm\": 18.6, \"flipper_length_mm\": 195.0, \"body_mass_g\": 3600.0, \"gender\": \"Male\"}, {\"species\": \"Chinstrap\", \"location\": \"Dream\", \"bill_length_mm\": 47.5, \"bill_depth_mm\": 16.8, \"flipper_length_mm\": 199.0, \"body_mass_g\": 3900.0, \"gender\": \"Female\"}, {\"species\": \"Chinstrap\", \"location\": \"Dream\", \"bill_length_mm\": 47.6, \"bill_depth_mm\": 18.3, \"flipper_length_mm\": 195.0, \"body_mass_g\": 3850.0, \"gender\": \"Female\"}, {\"species\": \"Chinstrap\", \"location\": \"Dream\", \"bill_length_mm\": 52.0, \"bill_depth_mm\": 20.7, \"flipper_length_mm\": 210.0, \"body_mass_g\": 4800.0, \"gender\": \"Male\"}, {\"species\": \"Chinstrap\", \"location\": \"Dream\", \"bill_length_mm\": 46.9, \"bill_depth_mm\": 16.6, \"flipper_length_mm\": 192.0, \"body_mass_g\": 2700.0, \"gender\": \"Female\"}, {\"species\": \"Chinstrap\", \"location\": \"Dream\", \"bill_length_mm\": 53.5, \"bill_depth_mm\": 19.9, \"flipper_length_mm\": 205.0, \"body_mass_g\": 4500.0, \"gender\": \"Male\"}, {\"species\": \"Chinstrap\", \"location\": \"Dream\", \"bill_length_mm\": 49.0, \"bill_depth_mm\": 19.5, \"flipper_length_mm\": 210.0, \"body_mass_g\": 3950.0, \"gender\": \"Male\"}, {\"species\": \"Chinstrap\", \"location\": \"Dream\", \"bill_length_mm\": 46.2, \"bill_depth_mm\": 17.5, \"flipper_length_mm\": 187.0, \"body_mass_g\": 3650.0, \"gender\": \"Female\"}, {\"species\": \"Chinstrap\", \"location\": \"Dream\", \"bill_length_mm\": 50.9, \"bill_depth_mm\": 19.1, \"flipper_length_mm\": 196.0, \"body_mass_g\": 3550.0, \"gender\": \"Male\"}, {\"species\": \"Chinstrap\", \"location\": \"Dream\", \"bill_length_mm\": 45.5, \"bill_depth_mm\": 17.0, \"flipper_length_mm\": 196.0, \"body_mass_g\": 3500.0, \"gender\": \"Female\"}, {\"species\": \"Chinstrap\", \"location\": \"Dream\", \"bill_length_mm\": 50.9, \"bill_depth_mm\": 17.9, \"flipper_length_mm\": 196.0, \"body_mass_g\": 3675.0, \"gender\": \"Female\"}, {\"species\": \"Chinstrap\", \"location\": \"Dream\", \"bill_length_mm\": 50.8, \"bill_depth_mm\": 18.5, \"flipper_length_mm\": 201.0, \"body_mass_g\": 4450.0, \"gender\": \"Male\"}, {\"species\": \"Chinstrap\", \"location\": \"Dream\", \"bill_length_mm\": 50.1, \"bill_depth_mm\": 17.9, \"flipper_length_mm\": 190.0, \"body_mass_g\": 3400.0, \"gender\": \"Female\"}, {\"species\": \"Chinstrap\", \"location\": \"Dream\", \"bill_length_mm\": 49.0, \"bill_depth_mm\": 19.6, \"flipper_length_mm\": 212.0, \"body_mass_g\": 4300.0, \"gender\": \"Male\"}, {\"species\": \"Chinstrap\", \"location\": \"Dream\", \"bill_length_mm\": 51.5, \"bill_depth_mm\": 18.7, \"flipper_length_mm\": 187.0, \"body_mass_g\": 3250.0, \"gender\": \"Male\"}, {\"species\": \"Chinstrap\", \"location\": \"Dream\", \"bill_length_mm\": 49.8, \"bill_depth_mm\": 17.3, \"flipper_length_mm\": 198.0, \"body_mass_g\": 3675.0, \"gender\": \"Female\"}, {\"species\": \"Chinstrap\", \"location\": \"Dream\", \"bill_length_mm\": 48.1, \"bill_depth_mm\": 16.4, \"flipper_length_mm\": 199.0, \"body_mass_g\": 3325.0, \"gender\": \"Female\"}, {\"species\": \"Chinstrap\", \"location\": \"Dream\", \"bill_length_mm\": 51.4, \"bill_depth_mm\": 19.0, \"flipper_length_mm\": 201.0, \"body_mass_g\": 3950.0, \"gender\": \"Male\"}, {\"species\": \"Chinstrap\", \"location\": \"Dream\", \"bill_length_mm\": 45.7, \"bill_depth_mm\": 17.3, \"flipper_length_mm\": 193.0, \"body_mass_g\": 3600.0, \"gender\": \"Female\"}, {\"species\": \"Chinstrap\", \"location\": \"Dream\", \"bill_length_mm\": 50.7, \"bill_depth_mm\": 19.7, \"flipper_length_mm\": 203.0, \"body_mass_g\": 4050.0, \"gender\": \"Male\"}, {\"species\": \"Chinstrap\", \"location\": \"Dream\", \"bill_length_mm\": 42.5, \"bill_depth_mm\": 17.3, \"flipper_length_mm\": 187.0, \"body_mass_g\": 3350.0, \"gender\": \"Female\"}, {\"species\": \"Chinstrap\", \"location\": \"Dream\", \"bill_length_mm\": 52.2, \"bill_depth_mm\": 18.8, \"flipper_length_mm\": 197.0, \"body_mass_g\": 3450.0, \"gender\": \"Male\"}, {\"species\": \"Chinstrap\", \"location\": \"Dream\", \"bill_length_mm\": 45.2, \"bill_depth_mm\": 16.6, \"flipper_length_mm\": 191.0, \"body_mass_g\": 3250.0, \"gender\": \"Female\"}, {\"species\": \"Chinstrap\", \"location\": \"Dream\", \"bill_length_mm\": 49.3, \"bill_depth_mm\": 19.9, \"flipper_length_mm\": 203.0, \"body_mass_g\": 4050.0, \"gender\": \"Male\"}, {\"species\": \"Chinstrap\", \"location\": \"Dream\", \"bill_length_mm\": 50.2, \"bill_depth_mm\": 18.8, \"flipper_length_mm\": 202.0, \"body_mass_g\": 3800.0, \"gender\": \"Male\"}, {\"species\": \"Chinstrap\", \"location\": \"Dream\", \"bill_length_mm\": 45.6, \"bill_depth_mm\": 19.4, \"flipper_length_mm\": 194.0, \"body_mass_g\": 3525.0, \"gender\": \"Female\"}, {\"species\": \"Chinstrap\", \"location\": \"Dream\", \"bill_length_mm\": 51.9, \"bill_depth_mm\": 19.5, \"flipper_length_mm\": 206.0, \"body_mass_g\": 3950.0, \"gender\": \"Male\"}, {\"species\": \"Chinstrap\", \"location\": \"Dream\", \"bill_length_mm\": 46.8, \"bill_depth_mm\": 16.5, \"flipper_length_mm\": 189.0, \"body_mass_g\": 3650.0, \"gender\": \"Female\"}, {\"species\": \"Chinstrap\", \"location\": \"Dream\", \"bill_length_mm\": 45.7, \"bill_depth_mm\": 17.0, \"flipper_length_mm\": 195.0, \"body_mass_g\": 3650.0, \"gender\": \"Female\"}, {\"species\": \"Chinstrap\", \"location\": \"Dream\", \"bill_length_mm\": 55.8, \"bill_depth_mm\": 19.8, \"flipper_length_mm\": 207.0, \"body_mass_g\": 4000.0, \"gender\": \"Male\"}, {\"species\": \"Chinstrap\", \"location\": \"Dream\", \"bill_length_mm\": 43.5, \"bill_depth_mm\": 18.1, \"flipper_length_mm\": 202.0, \"body_mass_g\": 3400.0, \"gender\": \"Female\"}, {\"species\": \"Chinstrap\", \"location\": \"Dream\", \"bill_length_mm\": 49.6, \"bill_depth_mm\": 18.2, \"flipper_length_mm\": 193.0, \"body_mass_g\": 3775.0, \"gender\": \"Male\"}, {\"species\": \"Chinstrap\", \"location\": \"Dream\", \"bill_length_mm\": 50.8, \"bill_depth_mm\": 19.0, \"flipper_length_mm\": 210.0, \"body_mass_g\": 4100.0, \"gender\": \"Male\"}, {\"species\": \"Chinstrap\", \"location\": \"Dream\", \"bill_length_mm\": 50.2, \"bill_depth_mm\": 18.7, \"flipper_length_mm\": 198.0, \"body_mass_g\": 3775.0, \"gender\": \"Female\"}, {\"species\": \"Gentoo\", \"location\": \"Biscoe\", \"bill_length_mm\": 46.1, \"bill_depth_mm\": 13.2, \"flipper_length_mm\": 211.0, \"body_mass_g\": 4500.0, \"gender\": \"Female\"}, {\"species\": \"Gentoo\", \"location\": \"Biscoe\", \"bill_length_mm\": 50.0, \"bill_depth_mm\": 16.3, \"flipper_length_mm\": 230.0, \"body_mass_g\": 5700.0, \"gender\": \"Male\"}, {\"species\": \"Gentoo\", \"location\": \"Biscoe\", \"bill_length_mm\": 48.7, \"bill_depth_mm\": 14.1, \"flipper_length_mm\": 210.0, \"body_mass_g\": 4450.0, \"gender\": \"Female\"}, {\"species\": \"Gentoo\", \"location\": \"Biscoe\", \"bill_length_mm\": 50.0, \"bill_depth_mm\": 15.2, \"flipper_length_mm\": 218.0, \"body_mass_g\": 5700.0, \"gender\": \"Male\"}, {\"species\": \"Gentoo\", \"location\": \"Biscoe\", \"bill_length_mm\": 47.6, \"bill_depth_mm\": 14.5, \"flipper_length_mm\": 215.0, \"body_mass_g\": 5400.0, \"gender\": \"Male\"}, {\"species\": \"Gentoo\", \"location\": \"Biscoe\", \"bill_length_mm\": 46.5, \"bill_depth_mm\": 13.5, \"flipper_length_mm\": 210.0, \"body_mass_g\": 4550.0, \"gender\": \"Female\"}, {\"species\": \"Gentoo\", \"location\": \"Biscoe\", \"bill_length_mm\": 45.4, \"bill_depth_mm\": 14.6, \"flipper_length_mm\": 211.0, \"body_mass_g\": 4800.0, \"gender\": \"Female\"}, {\"species\": \"Gentoo\", \"location\": \"Biscoe\", \"bill_length_mm\": 46.7, \"bill_depth_mm\": 15.3, \"flipper_length_mm\": 219.0, \"body_mass_g\": 5200.0, \"gender\": \"Male\"}, {\"species\": \"Gentoo\", \"location\": \"Biscoe\", \"bill_length_mm\": 43.3, \"bill_depth_mm\": 13.4, \"flipper_length_mm\": 209.0, \"body_mass_g\": 4400.0, \"gender\": \"Female\"}, {\"species\": \"Gentoo\", \"location\": \"Biscoe\", \"bill_length_mm\": 46.8, \"bill_depth_mm\": 15.4, \"flipper_length_mm\": 215.0, \"body_mass_g\": 5150.0, \"gender\": \"Male\"}, {\"species\": \"Gentoo\", \"location\": \"Biscoe\", \"bill_length_mm\": 40.9, \"bill_depth_mm\": 13.7, \"flipper_length_mm\": 214.0, \"body_mass_g\": 4650.0, \"gender\": \"Female\"}, {\"species\": \"Gentoo\", \"location\": \"Biscoe\", \"bill_length_mm\": 49.0, \"bill_depth_mm\": 16.1, \"flipper_length_mm\": 216.0, \"body_mass_g\": 5550.0, \"gender\": \"Male\"}, {\"species\": \"Gentoo\", \"location\": \"Biscoe\", \"bill_length_mm\": 45.5, \"bill_depth_mm\": 13.7, \"flipper_length_mm\": 214.0, \"body_mass_g\": 4650.0, \"gender\": \"Female\"}, {\"species\": \"Gentoo\", \"location\": \"Biscoe\", \"bill_length_mm\": 48.4, \"bill_depth_mm\": 14.6, \"flipper_length_mm\": 213.0, \"body_mass_g\": 5850.0, \"gender\": \"Male\"}, {\"species\": \"Gentoo\", \"location\": \"Biscoe\", \"bill_length_mm\": 45.8, \"bill_depth_mm\": 14.6, \"flipper_length_mm\": 210.0, \"body_mass_g\": 4200.0, \"gender\": \"Female\"}, {\"species\": \"Gentoo\", \"location\": \"Biscoe\", \"bill_length_mm\": 49.3, \"bill_depth_mm\": 15.7, \"flipper_length_mm\": 217.0, \"body_mass_g\": 5850.0, \"gender\": \"Male\"}, {\"species\": \"Gentoo\", \"location\": \"Biscoe\", \"bill_length_mm\": 42.0, \"bill_depth_mm\": 13.5, \"flipper_length_mm\": 210.0, \"body_mass_g\": 4150.0, \"gender\": \"Female\"}, {\"species\": \"Gentoo\", \"location\": \"Biscoe\", \"bill_length_mm\": 49.2, \"bill_depth_mm\": 15.2, \"flipper_length_mm\": 221.0, \"body_mass_g\": 6300.0, \"gender\": \"Male\"}, {\"species\": \"Gentoo\", \"location\": \"Biscoe\", \"bill_length_mm\": 46.2, \"bill_depth_mm\": 14.5, \"flipper_length_mm\": 209.0, \"body_mass_g\": 4800.0, \"gender\": \"Female\"}, {\"species\": \"Gentoo\", \"location\": \"Biscoe\", \"bill_length_mm\": 48.7, \"bill_depth_mm\": 15.1, \"flipper_length_mm\": 222.0, \"body_mass_g\": 5350.0, \"gender\": \"Male\"}, {\"species\": \"Gentoo\", \"location\": \"Biscoe\", \"bill_length_mm\": 50.2, \"bill_depth_mm\": 14.3, \"flipper_length_mm\": 218.0, \"body_mass_g\": 5700.0, \"gender\": \"Male\"}, {\"species\": \"Gentoo\", \"location\": \"Biscoe\", \"bill_length_mm\": 45.1, \"bill_depth_mm\": 14.5, \"flipper_length_mm\": 215.0, \"body_mass_g\": 5000.0, \"gender\": \"Female\"}, {\"species\": \"Gentoo\", \"location\": \"Biscoe\", \"bill_length_mm\": 46.5, \"bill_depth_mm\": 14.5, \"flipper_length_mm\": 213.0, \"body_mass_g\": 4400.0, \"gender\": \"Female\"}, {\"species\": \"Gentoo\", \"location\": \"Biscoe\", \"bill_length_mm\": 46.3, \"bill_depth_mm\": 15.8, \"flipper_length_mm\": 215.0, \"body_mass_g\": 5050.0, \"gender\": \"Male\"}, {\"species\": \"Gentoo\", \"location\": \"Biscoe\", \"bill_length_mm\": 42.9, \"bill_depth_mm\": 13.1, \"flipper_length_mm\": 215.0, \"body_mass_g\": 5000.0, \"gender\": \"Female\"}, {\"species\": \"Gentoo\", \"location\": \"Biscoe\", \"bill_length_mm\": 46.1, \"bill_depth_mm\": 15.1, \"flipper_length_mm\": 215.0, \"body_mass_g\": 5100.0, \"gender\": \"Male\"}, {\"species\": \"Gentoo\", \"location\": \"Biscoe\", \"bill_length_mm\": 47.8, \"bill_depth_mm\": 15.0, \"flipper_length_mm\": 215.0, \"body_mass_g\": 5650.0, \"gender\": \"Male\"}, {\"species\": \"Gentoo\", \"location\": \"Biscoe\", \"bill_length_mm\": 48.2, \"bill_depth_mm\": 14.3, \"flipper_length_mm\": 210.0, \"body_mass_g\": 4600.0, \"gender\": \"Female\"}, {\"species\": \"Gentoo\", \"location\": \"Biscoe\", \"bill_length_mm\": 50.0, \"bill_depth_mm\": 15.3, \"flipper_length_mm\": 220.0, \"body_mass_g\": 5550.0, \"gender\": \"Male\"}, {\"species\": \"Gentoo\", \"location\": \"Biscoe\", \"bill_length_mm\": 47.3, \"bill_depth_mm\": 15.3, \"flipper_length_mm\": 222.0, \"body_mass_g\": 5250.0, \"gender\": \"Male\"}, {\"species\": \"Gentoo\", \"location\": \"Biscoe\", \"bill_length_mm\": 42.8, \"bill_depth_mm\": 14.2, \"flipper_length_mm\": 209.0, \"body_mass_g\": 4700.0, \"gender\": \"Female\"}, {\"species\": \"Gentoo\", \"location\": \"Biscoe\", \"bill_length_mm\": 45.1, \"bill_depth_mm\": 14.5, \"flipper_length_mm\": 207.0, \"body_mass_g\": 5050.0, \"gender\": \"Female\"}, {\"species\": \"Gentoo\", \"location\": \"Biscoe\", \"bill_length_mm\": 59.6, \"bill_depth_mm\": 17.0, \"flipper_length_mm\": 230.0, \"body_mass_g\": 6050.0, \"gender\": \"Male\"}, {\"species\": \"Gentoo\", \"location\": \"Biscoe\", \"bill_length_mm\": 49.1, \"bill_depth_mm\": 14.8, \"flipper_length_mm\": 220.0, \"body_mass_g\": 5150.0, \"gender\": \"Female\"}, {\"species\": \"Gentoo\", \"location\": \"Biscoe\", \"bill_length_mm\": 48.4, \"bill_depth_mm\": 16.3, \"flipper_length_mm\": 220.0, \"body_mass_g\": 5400.0, \"gender\": \"Male\"}, {\"species\": \"Gentoo\", \"location\": \"Biscoe\", \"bill_length_mm\": 42.6, \"bill_depth_mm\": 13.7, \"flipper_length_mm\": 213.0, \"body_mass_g\": 4950.0, \"gender\": \"Female\"}, {\"species\": \"Gentoo\", \"location\": \"Biscoe\", \"bill_length_mm\": 44.4, \"bill_depth_mm\": 17.3, \"flipper_length_mm\": 219.0, \"body_mass_g\": 5250.0, \"gender\": \"Male\"}, {\"species\": \"Gentoo\", \"location\": \"Biscoe\", \"bill_length_mm\": 44.0, \"bill_depth_mm\": 13.6, \"flipper_length_mm\": 208.0, \"body_mass_g\": 4350.0, \"gender\": \"Female\"}, {\"species\": \"Gentoo\", \"location\": \"Biscoe\", \"bill_length_mm\": 48.7, \"bill_depth_mm\": 15.7, \"flipper_length_mm\": 208.0, \"body_mass_g\": 5350.0, \"gender\": \"Male\"}, {\"species\": \"Gentoo\", \"location\": \"Biscoe\", \"bill_length_mm\": 42.7, \"bill_depth_mm\": 13.7, \"flipper_length_mm\": 208.0, \"body_mass_g\": 3950.0, \"gender\": \"Female\"}, {\"species\": \"Gentoo\", \"location\": \"Biscoe\", \"bill_length_mm\": 49.6, \"bill_depth_mm\": 16.0, \"flipper_length_mm\": 225.0, \"body_mass_g\": 5700.0, \"gender\": \"Male\"}, {\"species\": \"Gentoo\", \"location\": \"Biscoe\", \"bill_length_mm\": 45.3, \"bill_depth_mm\": 13.7, \"flipper_length_mm\": 210.0, \"body_mass_g\": 4300.0, \"gender\": \"Female\"}, {\"species\": \"Gentoo\", \"location\": \"Biscoe\", \"bill_length_mm\": 49.6, \"bill_depth_mm\": 15.0, \"flipper_length_mm\": 216.0, \"body_mass_g\": 4750.0, \"gender\": \"Male\"}, {\"species\": \"Gentoo\", \"location\": \"Biscoe\", \"bill_length_mm\": 50.5, \"bill_depth_mm\": 15.9, \"flipper_length_mm\": 222.0, \"body_mass_g\": 5550.0, \"gender\": \"Male\"}, {\"species\": \"Gentoo\", \"location\": \"Biscoe\", \"bill_length_mm\": 43.6, \"bill_depth_mm\": 13.9, \"flipper_length_mm\": 217.0, \"body_mass_g\": 4900.0, \"gender\": \"Female\"}, {\"species\": \"Gentoo\", \"location\": \"Biscoe\", \"bill_length_mm\": 45.5, \"bill_depth_mm\": 13.9, \"flipper_length_mm\": 210.0, \"body_mass_g\": 4200.0, \"gender\": \"Female\"}, {\"species\": \"Gentoo\", \"location\": \"Biscoe\", \"bill_length_mm\": 50.5, \"bill_depth_mm\": 15.9, \"flipper_length_mm\": 225.0, \"body_mass_g\": 5400.0, \"gender\": \"Male\"}, {\"species\": \"Gentoo\", \"location\": \"Biscoe\", \"bill_length_mm\": 44.9, \"bill_depth_mm\": 13.3, \"flipper_length_mm\": 213.0, \"body_mass_g\": 5100.0, \"gender\": \"Female\"}, {\"species\": \"Gentoo\", \"location\": \"Biscoe\", \"bill_length_mm\": 45.2, \"bill_depth_mm\": 15.8, \"flipper_length_mm\": 215.0, \"body_mass_g\": 5300.0, \"gender\": \"Male\"}, {\"species\": \"Gentoo\", \"location\": \"Biscoe\", \"bill_length_mm\": 46.6, \"bill_depth_mm\": 14.2, \"flipper_length_mm\": 210.0, \"body_mass_g\": 4850.0, \"gender\": \"Female\"}, {\"species\": \"Gentoo\", \"location\": \"Biscoe\", \"bill_length_mm\": 48.5, \"bill_depth_mm\": 14.1, \"flipper_length_mm\": 220.0, \"body_mass_g\": 5300.0, \"gender\": \"Male\"}, {\"species\": \"Gentoo\", \"location\": \"Biscoe\", \"bill_length_mm\": 45.1, \"bill_depth_mm\": 14.4, \"flipper_length_mm\": 210.0, \"body_mass_g\": 4400.0, \"gender\": \"Female\"}, {\"species\": \"Gentoo\", \"location\": \"Biscoe\", \"bill_length_mm\": 50.1, \"bill_depth_mm\": 15.0, \"flipper_length_mm\": 225.0, \"body_mass_g\": 5000.0, \"gender\": \"Male\"}, {\"species\": \"Gentoo\", \"location\": \"Biscoe\", \"bill_length_mm\": 46.5, \"bill_depth_mm\": 14.4, \"flipper_length_mm\": 217.0, \"body_mass_g\": 4900.0, \"gender\": \"Female\"}, {\"species\": \"Gentoo\", \"location\": \"Biscoe\", \"bill_length_mm\": 45.0, \"bill_depth_mm\": 15.4, \"flipper_length_mm\": 220.0, \"body_mass_g\": 5050.0, \"gender\": \"Male\"}, {\"species\": \"Gentoo\", \"location\": \"Biscoe\", \"bill_length_mm\": 43.8, \"bill_depth_mm\": 13.9, \"flipper_length_mm\": 208.0, \"body_mass_g\": 4300.0, \"gender\": \"Female\"}, {\"species\": \"Gentoo\", \"location\": \"Biscoe\", \"bill_length_mm\": 45.5, \"bill_depth_mm\": 15.0, \"flipper_length_mm\": 220.0, \"body_mass_g\": 5000.0, \"gender\": \"Male\"}, {\"species\": \"Gentoo\", \"location\": \"Biscoe\", \"bill_length_mm\": 43.2, \"bill_depth_mm\": 14.5, \"flipper_length_mm\": 208.0, \"body_mass_g\": 4450.0, \"gender\": \"Female\"}, {\"species\": \"Gentoo\", \"location\": \"Biscoe\", \"bill_length_mm\": 50.4, \"bill_depth_mm\": 15.3, \"flipper_length_mm\": 224.0, \"body_mass_g\": 5550.0, \"gender\": \"Male\"}, {\"species\": \"Gentoo\", \"location\": \"Biscoe\", \"bill_length_mm\": 45.3, \"bill_depth_mm\": 13.8, \"flipper_length_mm\": 208.0, \"body_mass_g\": 4200.0, \"gender\": \"Female\"}, {\"species\": \"Gentoo\", \"location\": \"Biscoe\", \"bill_length_mm\": 46.2, \"bill_depth_mm\": 14.9, \"flipper_length_mm\": 221.0, \"body_mass_g\": 5300.0, \"gender\": \"Male\"}, {\"species\": \"Gentoo\", \"location\": \"Biscoe\", \"bill_length_mm\": 45.7, \"bill_depth_mm\": 13.9, \"flipper_length_mm\": 214.0, \"body_mass_g\": 4400.0, \"gender\": \"Female\"}, {\"species\": \"Gentoo\", \"location\": \"Biscoe\", \"bill_length_mm\": 54.3, \"bill_depth_mm\": 15.7, \"flipper_length_mm\": 231.0, \"body_mass_g\": 5650.0, \"gender\": \"Male\"}, {\"species\": \"Gentoo\", \"location\": \"Biscoe\", \"bill_length_mm\": 45.8, \"bill_depth_mm\": 14.2, \"flipper_length_mm\": 219.0, \"body_mass_g\": 4700.0, \"gender\": \"Female\"}, {\"species\": \"Gentoo\", \"location\": \"Biscoe\", \"bill_length_mm\": 49.8, \"bill_depth_mm\": 16.8, \"flipper_length_mm\": 230.0, \"body_mass_g\": 5700.0, \"gender\": \"Male\"}, {\"species\": \"Gentoo\", \"location\": \"Biscoe\", \"bill_length_mm\": 49.5, \"bill_depth_mm\": 16.2, \"flipper_length_mm\": 229.0, \"body_mass_g\": 5800.0, \"gender\": \"Male\"}, {\"species\": \"Gentoo\", \"location\": \"Biscoe\", \"bill_length_mm\": 43.5, \"bill_depth_mm\": 14.2, \"flipper_length_mm\": 220.0, \"body_mass_g\": 4700.0, \"gender\": \"Female\"}, {\"species\": \"Gentoo\", \"location\": \"Biscoe\", \"bill_length_mm\": 50.7, \"bill_depth_mm\": 15.0, \"flipper_length_mm\": 223.0, \"body_mass_g\": 5550.0, \"gender\": \"Male\"}, {\"species\": \"Gentoo\", \"location\": \"Biscoe\", \"bill_length_mm\": 47.7, \"bill_depth_mm\": 15.0, \"flipper_length_mm\": 216.0, \"body_mass_g\": 4750.0, \"gender\": \"Female\"}, {\"species\": \"Gentoo\", \"location\": \"Biscoe\", \"bill_length_mm\": 46.4, \"bill_depth_mm\": 15.6, \"flipper_length_mm\": 221.0, \"body_mass_g\": 5000.0, \"gender\": \"Male\"}, {\"species\": \"Gentoo\", \"location\": \"Biscoe\", \"bill_length_mm\": 48.2, \"bill_depth_mm\": 15.6, \"flipper_length_mm\": 221.0, \"body_mass_g\": 5100.0, \"gender\": \"Male\"}, {\"species\": \"Gentoo\", \"location\": \"Biscoe\", \"bill_length_mm\": 46.5, \"bill_depth_mm\": 14.8, \"flipper_length_mm\": 217.0, \"body_mass_g\": 5200.0, \"gender\": \"Female\"}, {\"species\": \"Gentoo\", \"location\": \"Biscoe\", \"bill_length_mm\": 46.4, \"bill_depth_mm\": 15.0, \"flipper_length_mm\": 216.0, \"body_mass_g\": 4700.0, \"gender\": \"Female\"}, {\"species\": \"Gentoo\", \"location\": \"Biscoe\", \"bill_length_mm\": 48.6, \"bill_depth_mm\": 16.0, \"flipper_length_mm\": 230.0, \"body_mass_g\": 5800.0, \"gender\": \"Male\"}, {\"species\": \"Gentoo\", \"location\": \"Biscoe\", \"bill_length_mm\": 47.5, \"bill_depth_mm\": 14.2, \"flipper_length_mm\": 209.0, \"body_mass_g\": 4600.0, \"gender\": \"Female\"}, {\"species\": \"Gentoo\", \"location\": \"Biscoe\", \"bill_length_mm\": 51.1, \"bill_depth_mm\": 16.3, \"flipper_length_mm\": 220.0, \"body_mass_g\": 6000.0, \"gender\": \"Male\"}, {\"species\": \"Gentoo\", \"location\": \"Biscoe\", \"bill_length_mm\": 45.2, \"bill_depth_mm\": 13.8, \"flipper_length_mm\": 215.0, \"body_mass_g\": 4750.0, \"gender\": \"Female\"}, {\"species\": \"Gentoo\", \"location\": \"Biscoe\", \"bill_length_mm\": 45.2, \"bill_depth_mm\": 16.4, \"flipper_length_mm\": 223.0, \"body_mass_g\": 5950.0, \"gender\": \"Male\"}, {\"species\": \"Gentoo\", \"location\": \"Biscoe\", \"bill_length_mm\": 49.1, \"bill_depth_mm\": 14.5, \"flipper_length_mm\": 212.0, \"body_mass_g\": 4625.0, \"gender\": \"Female\"}, {\"species\": \"Gentoo\", \"location\": \"Biscoe\", \"bill_length_mm\": 52.5, \"bill_depth_mm\": 15.6, \"flipper_length_mm\": 221.0, \"body_mass_g\": 5450.0, \"gender\": \"Male\"}, {\"species\": \"Gentoo\", \"location\": \"Biscoe\", \"bill_length_mm\": 47.4, \"bill_depth_mm\": 14.6, \"flipper_length_mm\": 212.0, \"body_mass_g\": 4725.0, \"gender\": \"Female\"}, {\"species\": \"Gentoo\", \"location\": \"Biscoe\", \"bill_length_mm\": 50.0, \"bill_depth_mm\": 15.9, \"flipper_length_mm\": 224.0, \"body_mass_g\": 5350.0, \"gender\": \"Male\"}, {\"species\": \"Gentoo\", \"location\": \"Biscoe\", \"bill_length_mm\": 44.9, \"bill_depth_mm\": 13.8, \"flipper_length_mm\": 212.0, \"body_mass_g\": 4750.0, \"gender\": \"Female\"}, {\"species\": \"Gentoo\", \"location\": \"Biscoe\", \"bill_length_mm\": 50.8, \"bill_depth_mm\": 17.3, \"flipper_length_mm\": 228.0, \"body_mass_g\": 5600.0, \"gender\": \"Male\"}, {\"species\": \"Gentoo\", \"location\": \"Biscoe\", \"bill_length_mm\": 43.4, \"bill_depth_mm\": 14.4, \"flipper_length_mm\": 218.0, \"body_mass_g\": 4600.0, \"gender\": \"Female\"}, {\"species\": \"Gentoo\", \"location\": \"Biscoe\", \"bill_length_mm\": 51.3, \"bill_depth_mm\": 14.2, \"flipper_length_mm\": 218.0, \"body_mass_g\": 5300.0, \"gender\": \"Male\"}, {\"species\": \"Gentoo\", \"location\": \"Biscoe\", \"bill_length_mm\": 47.5, \"bill_depth_mm\": 14.0, \"flipper_length_mm\": 212.0, \"body_mass_g\": 4875.0, \"gender\": \"Female\"}, {\"species\": \"Gentoo\", \"location\": \"Biscoe\", \"bill_length_mm\": 52.1, \"bill_depth_mm\": 17.0, \"flipper_length_mm\": 230.0, \"body_mass_g\": 5550.0, \"gender\": \"Male\"}, {\"species\": \"Gentoo\", \"location\": \"Biscoe\", \"bill_length_mm\": 47.5, \"bill_depth_mm\": 15.0, \"flipper_length_mm\": 218.0, \"body_mass_g\": 4950.0, \"gender\": \"Female\"}, {\"species\": \"Gentoo\", \"location\": \"Biscoe\", \"bill_length_mm\": 52.2, \"bill_depth_mm\": 17.1, \"flipper_length_mm\": 228.0, \"body_mass_g\": 5400.0, \"gender\": \"Male\"}, {\"species\": \"Gentoo\", \"location\": \"Biscoe\", \"bill_length_mm\": 45.5, \"bill_depth_mm\": 14.5, \"flipper_length_mm\": 212.0, \"body_mass_g\": 4750.0, \"gender\": \"Female\"}, {\"species\": \"Gentoo\", \"location\": \"Biscoe\", \"bill_length_mm\": 49.5, \"bill_depth_mm\": 16.1, \"flipper_length_mm\": 224.0, \"body_mass_g\": 5650.0, \"gender\": \"Male\"}, {\"species\": \"Gentoo\", \"location\": \"Biscoe\", \"bill_length_mm\": 44.5, \"bill_depth_mm\": 14.7, \"flipper_length_mm\": 214.0, \"body_mass_g\": 4850.0, \"gender\": \"Female\"}, {\"species\": \"Gentoo\", \"location\": \"Biscoe\", \"bill_length_mm\": 50.8, \"bill_depth_mm\": 15.7, \"flipper_length_mm\": 226.0, \"body_mass_g\": 5200.0, \"gender\": \"Male\"}, {\"species\": \"Gentoo\", \"location\": \"Biscoe\", \"bill_length_mm\": 49.4, \"bill_depth_mm\": 15.8, \"flipper_length_mm\": 216.0, \"body_mass_g\": 4925.0, \"gender\": \"Male\"}, {\"species\": \"Gentoo\", \"location\": \"Biscoe\", \"bill_length_mm\": 46.9, \"bill_depth_mm\": 14.6, \"flipper_length_mm\": 222.0, \"body_mass_g\": 4875.0, \"gender\": \"Female\"}, {\"species\": \"Gentoo\", \"location\": \"Biscoe\", \"bill_length_mm\": 48.4, \"bill_depth_mm\": 14.4, \"flipper_length_mm\": 203.0, \"body_mass_g\": 4625.0, \"gender\": \"Female\"}, {\"species\": \"Gentoo\", \"location\": \"Biscoe\", \"bill_length_mm\": 51.1, \"bill_depth_mm\": 16.5, \"flipper_length_mm\": 225.0, \"body_mass_g\": 5250.0, \"gender\": \"Male\"}, {\"species\": \"Gentoo\", \"location\": \"Biscoe\", \"bill_length_mm\": 48.5, \"bill_depth_mm\": 15.0, \"flipper_length_mm\": 219.0, \"body_mass_g\": 4850.0, \"gender\": \"Female\"}, {\"species\": \"Gentoo\", \"location\": \"Biscoe\", \"bill_length_mm\": 55.9, \"bill_depth_mm\": 17.0, \"flipper_length_mm\": 228.0, \"body_mass_g\": 5600.0, \"gender\": \"Male\"}, {\"species\": \"Gentoo\", \"location\": \"Biscoe\", \"bill_length_mm\": 47.2, \"bill_depth_mm\": 15.5, \"flipper_length_mm\": 215.0, \"body_mass_g\": 4975.0, \"gender\": \"Female\"}, {\"species\": \"Gentoo\", \"location\": \"Biscoe\", \"bill_length_mm\": 49.1, \"bill_depth_mm\": 15.0, \"flipper_length_mm\": 228.0, \"body_mass_g\": 5500.0, \"gender\": \"Male\"}, {\"species\": \"Gentoo\", \"location\": \"Biscoe\", \"bill_length_mm\": 46.8, \"bill_depth_mm\": 16.1, \"flipper_length_mm\": 215.0, \"body_mass_g\": 5500.0, \"gender\": \"Male\"}, {\"species\": \"Gentoo\", \"location\": \"Biscoe\", \"bill_length_mm\": 41.7, \"bill_depth_mm\": 14.7, \"flipper_length_mm\": 210.0, \"body_mass_g\": 4700.0, \"gender\": \"Female\"}, {\"species\": \"Gentoo\", \"location\": \"Biscoe\", \"bill_length_mm\": 53.4, \"bill_depth_mm\": 15.8, \"flipper_length_mm\": 219.0, \"body_mass_g\": 5500.0, \"gender\": \"Male\"}, {\"species\": \"Gentoo\", \"location\": \"Biscoe\", \"bill_length_mm\": 43.3, \"bill_depth_mm\": 14.0, \"flipper_length_mm\": 208.0, \"body_mass_g\": 4575.0, \"gender\": \"Female\"}, {\"species\": \"Gentoo\", \"location\": \"Biscoe\", \"bill_length_mm\": 48.1, \"bill_depth_mm\": 15.1, \"flipper_length_mm\": 209.0, \"body_mass_g\": 5500.0, \"gender\": \"Male\"}, {\"species\": \"Gentoo\", \"location\": \"Biscoe\", \"bill_length_mm\": 50.5, \"bill_depth_mm\": 15.2, \"flipper_length_mm\": 216.0, \"body_mass_g\": 5000.0, \"gender\": \"Female\"}, {\"species\": \"Gentoo\", \"location\": \"Biscoe\", \"bill_length_mm\": 49.8, \"bill_depth_mm\": 15.9, \"flipper_length_mm\": 229.0, \"body_mass_g\": 5950.0, \"gender\": \"Male\"}, {\"species\": \"Gentoo\", \"location\": \"Biscoe\", \"bill_length_mm\": 43.5, \"bill_depth_mm\": 15.2, \"flipper_length_mm\": 213.0, \"body_mass_g\": 4650.0, \"gender\": \"Female\"}, {\"species\": \"Gentoo\", \"location\": \"Biscoe\", \"bill_length_mm\": 51.5, \"bill_depth_mm\": 16.3, \"flipper_length_mm\": 230.0, \"body_mass_g\": 5500.0, \"gender\": \"Male\"}, {\"species\": \"Gentoo\", \"location\": \"Biscoe\", \"bill_length_mm\": 46.2, \"bill_depth_mm\": 14.1, \"flipper_length_mm\": 217.0, \"body_mass_g\": 4375.0, \"gender\": \"Female\"}, {\"species\": \"Gentoo\", \"location\": \"Biscoe\", \"bill_length_mm\": 55.1, \"bill_depth_mm\": 16.0, \"flipper_length_mm\": 230.0, \"body_mass_g\": 5850.0, \"gender\": \"Male\"}, {\"species\": \"Gentoo\", \"location\": \"Biscoe\", \"bill_length_mm\": 48.8, \"bill_depth_mm\": 16.2, \"flipper_length_mm\": 222.0, \"body_mass_g\": 6000.0, \"gender\": \"Male\"}, {\"species\": \"Gentoo\", \"location\": \"Biscoe\", \"bill_length_mm\": 47.2, \"bill_depth_mm\": 13.7, \"flipper_length_mm\": 214.0, \"body_mass_g\": 4925.0, \"gender\": \"Female\"}, {\"species\": \"Gentoo\", \"location\": \"Biscoe\", \"bill_length_mm\": 46.8, \"bill_depth_mm\": 14.3, \"flipper_length_mm\": 215.0, \"body_mass_g\": 4850.0, \"gender\": \"Female\"}, {\"species\": \"Gentoo\", \"location\": \"Biscoe\", \"bill_length_mm\": 50.4, \"bill_depth_mm\": 15.7, \"flipper_length_mm\": 222.0, \"body_mass_g\": 5750.0, \"gender\": \"Male\"}, {\"species\": \"Gentoo\", \"location\": \"Biscoe\", \"bill_length_mm\": 45.2, \"bill_depth_mm\": 14.8, \"flipper_length_mm\": 212.0, \"body_mass_g\": 5200.0, \"gender\": \"Female\"}, {\"species\": \"Gentoo\", \"location\": \"Biscoe\", \"bill_length_mm\": 49.9, \"bill_depth_mm\": 16.1, \"flipper_length_mm\": 213.0, \"body_mass_g\": 5400.0, \"gender\": \"Male\"}]}}, {\"mode\": \"vega-lite\"});\n",
       "</script>"
      ],
      "text/plain": [
       "alt.Chart(...)"
      ]
     },
     "execution_count": 35,
     "metadata": {},
     "output_type": "execute_result"
    }
   ],
   "source": [
    "alt.Chart(df).mark_circle().encode(\n",
    "    x=alt.X(\"bill_length_mm\", scale=alt.Scale(domain=(30,60))),\n",
    "    y=alt.Y(\"flipper_length_mm\", scale=alt.Scale(domain=(170,240))),\n",
    "    color=\"species:N\",\n",
    "    row=\"gender\"\n",
    ")"
   ]
  },
  {
   "cell_type": "markdown",
   "metadata": {},
   "source": [
    "Here is the same thing, but putting different genders into different columns.  This would be a good choice if you wanted to compare the flipper lengths between genders.  If instead you wanted to compare the bill lengths between genders, then I think it would make more sense to use the above vertical facet chart."
   ]
  },
  {
   "cell_type": "code",
   "execution_count": 36,
   "metadata": {
    "cell_id": "98922a2c01f34d599da2c336014224b6",
    "deepnote_cell_type": "code",
    "deepnote_to_be_reexecuted": false,
    "execution_millis": 28,
    "execution_start": 1682109721911,
    "source_hash": "4fcb2566",
    "tags": [
     "output_scroll"
    ]
   },
   "outputs": [
    {
     "data": {
      "text/html": [
       "\n",
       "<div id=\"altair-viz-fab8af24b8604c0fb8804fba8b5a8f0f\"></div>\n",
       "<script type=\"text/javascript\">\n",
       "  var VEGA_DEBUG = (typeof VEGA_DEBUG == \"undefined\") ? {} : VEGA_DEBUG;\n",
       "  (function(spec, embedOpt){\n",
       "    let outputDiv = document.currentScript.previousElementSibling;\n",
       "    if (outputDiv.id !== \"altair-viz-fab8af24b8604c0fb8804fba8b5a8f0f\") {\n",
       "      outputDiv = document.getElementById(\"altair-viz-fab8af24b8604c0fb8804fba8b5a8f0f\");\n",
       "    }\n",
       "    const paths = {\n",
       "      \"vega\": \"https://cdn.jsdelivr.net/npm//vega@5?noext\",\n",
       "      \"vega-lib\": \"https://cdn.jsdelivr.net/npm//vega-lib?noext\",\n",
       "      \"vega-lite\": \"https://cdn.jsdelivr.net/npm//vega-lite@4.17.0?noext\",\n",
       "      \"vega-embed\": \"https://cdn.jsdelivr.net/npm//vega-embed@6?noext\",\n",
       "    };\n",
       "\n",
       "    function maybeLoadScript(lib, version) {\n",
       "      var key = `${lib.replace(\"-\", \"\")}_version`;\n",
       "      return (VEGA_DEBUG[key] == version) ?\n",
       "        Promise.resolve(paths[lib]) :\n",
       "        new Promise(function(resolve, reject) {\n",
       "          var s = document.createElement('script');\n",
       "          document.getElementsByTagName(\"head\")[0].appendChild(s);\n",
       "          s.async = true;\n",
       "          s.onload = () => {\n",
       "            VEGA_DEBUG[key] = version;\n",
       "            return resolve(paths[lib]);\n",
       "          };\n",
       "          s.onerror = () => reject(`Error loading script: ${paths[lib]}`);\n",
       "          s.src = paths[lib];\n",
       "        });\n",
       "    }\n",
       "\n",
       "    function showError(err) {\n",
       "      outputDiv.innerHTML = `<div class=\"error\" style=\"color:red;\">${err}</div>`;\n",
       "      throw err;\n",
       "    }\n",
       "\n",
       "    function displayChart(vegaEmbed) {\n",
       "      vegaEmbed(outputDiv, spec, embedOpt)\n",
       "        .catch(err => showError(`Javascript Error: ${err.message}<br>This usually means there's a typo in your chart specification. See the javascript console for the full traceback.`));\n",
       "    }\n",
       "\n",
       "    if(typeof define === \"function\" && define.amd) {\n",
       "      requirejs.config({paths});\n",
       "      require([\"vega-embed\"], displayChart, err => showError(`Error loading script: ${err.message}`));\n",
       "    } else {\n",
       "      maybeLoadScript(\"vega\", \"5\")\n",
       "        .then(() => maybeLoadScript(\"vega-lite\", \"4.17.0\"))\n",
       "        .then(() => maybeLoadScript(\"vega-embed\", \"6\"))\n",
       "        .catch(showError)\n",
       "        .then(() => displayChart(vegaEmbed));\n",
       "    }\n",
       "  })({\"config\": {\"view\": {\"continuousWidth\": 400, \"continuousHeight\": 300}}, \"data\": {\"name\": \"data-a7bc2cc87e28b8bb84b0376a27fad733\"}, \"mark\": \"circle\", \"encoding\": {\"color\": {\"field\": \"species\", \"type\": \"nominal\"}, \"column\": {\"field\": \"gender\", \"type\": \"nominal\"}, \"x\": {\"field\": \"bill_length_mm\", \"scale\": {\"domain\": [30, 60]}, \"type\": \"quantitative\"}, \"y\": {\"field\": \"flipper_length_mm\", \"scale\": {\"domain\": [170, 240]}, \"type\": \"quantitative\"}}, \"$schema\": \"https://vega.github.io/schema/vega-lite/v4.17.0.json\", \"datasets\": {\"data-a7bc2cc87e28b8bb84b0376a27fad733\": [{\"species\": \"Adelie\", \"location\": \"Torgersen\", \"bill_length_mm\": 39.1, \"bill_depth_mm\": 18.7, \"flipper_length_mm\": 181.0, \"body_mass_g\": 3750.0, \"gender\": \"Male\"}, {\"species\": \"Adelie\", \"location\": \"Torgersen\", \"bill_length_mm\": 39.5, \"bill_depth_mm\": 17.4, \"flipper_length_mm\": 186.0, \"body_mass_g\": 3800.0, \"gender\": \"Female\"}, {\"species\": \"Adelie\", \"location\": \"Torgersen\", \"bill_length_mm\": 40.3, \"bill_depth_mm\": 18.0, \"flipper_length_mm\": 195.0, \"body_mass_g\": 3250.0, \"gender\": \"Female\"}, {\"species\": \"Adelie\", \"location\": \"Torgersen\", \"bill_length_mm\": 36.7, \"bill_depth_mm\": 19.3, \"flipper_length_mm\": 193.0, \"body_mass_g\": 3450.0, \"gender\": \"Female\"}, {\"species\": \"Adelie\", \"location\": \"Torgersen\", \"bill_length_mm\": 39.3, \"bill_depth_mm\": 20.6, \"flipper_length_mm\": 190.0, \"body_mass_g\": 3650.0, \"gender\": \"Male\"}, {\"species\": \"Adelie\", \"location\": \"Torgersen\", \"bill_length_mm\": 38.9, \"bill_depth_mm\": 17.8, \"flipper_length_mm\": 181.0, \"body_mass_g\": 3625.0, \"gender\": \"Female\"}, {\"species\": \"Adelie\", \"location\": \"Torgersen\", \"bill_length_mm\": 39.2, \"bill_depth_mm\": 19.6, \"flipper_length_mm\": 195.0, \"body_mass_g\": 4675.0, \"gender\": \"Male\"}, {\"species\": \"Adelie\", \"location\": \"Torgersen\", \"bill_length_mm\": 41.1, \"bill_depth_mm\": 17.6, \"flipper_length_mm\": 182.0, \"body_mass_g\": 3200.0, \"gender\": \"Female\"}, {\"species\": \"Adelie\", \"location\": \"Torgersen\", \"bill_length_mm\": 38.6, \"bill_depth_mm\": 21.2, \"flipper_length_mm\": 191.0, \"body_mass_g\": 3800.0, \"gender\": \"Male\"}, {\"species\": \"Adelie\", \"location\": \"Torgersen\", \"bill_length_mm\": 34.6, \"bill_depth_mm\": 21.1, \"flipper_length_mm\": 198.0, \"body_mass_g\": 4400.0, \"gender\": \"Male\"}, {\"species\": \"Adelie\", \"location\": \"Torgersen\", \"bill_length_mm\": 36.6, \"bill_depth_mm\": 17.8, \"flipper_length_mm\": 185.0, \"body_mass_g\": 3700.0, \"gender\": \"Female\"}, {\"species\": \"Adelie\", \"location\": \"Torgersen\", \"bill_length_mm\": 38.7, \"bill_depth_mm\": 19.0, \"flipper_length_mm\": 195.0, \"body_mass_g\": 3450.0, \"gender\": \"Female\"}, {\"species\": \"Adelie\", \"location\": \"Torgersen\", \"bill_length_mm\": 42.5, \"bill_depth_mm\": 20.7, \"flipper_length_mm\": 197.0, \"body_mass_g\": 4500.0, \"gender\": \"Male\"}, {\"species\": \"Adelie\", \"location\": \"Torgersen\", \"bill_length_mm\": 34.4, \"bill_depth_mm\": 18.4, \"flipper_length_mm\": 184.0, \"body_mass_g\": 3325.0, \"gender\": \"Female\"}, {\"species\": \"Adelie\", \"location\": \"Torgersen\", \"bill_length_mm\": 46.0, \"bill_depth_mm\": 21.5, \"flipper_length_mm\": 194.0, \"body_mass_g\": 4200.0, \"gender\": \"Male\"}, {\"species\": \"Adelie\", \"location\": \"Biscoe\", \"bill_length_mm\": 37.8, \"bill_depth_mm\": 18.3, \"flipper_length_mm\": 174.0, \"body_mass_g\": 3400.0, \"gender\": \"Female\"}, {\"species\": \"Adelie\", \"location\": \"Biscoe\", \"bill_length_mm\": 37.7, \"bill_depth_mm\": 18.7, \"flipper_length_mm\": 180.0, \"body_mass_g\": 3600.0, \"gender\": \"Male\"}, {\"species\": \"Adelie\", \"location\": \"Biscoe\", \"bill_length_mm\": 35.9, \"bill_depth_mm\": 19.2, \"flipper_length_mm\": 189.0, \"body_mass_g\": 3800.0, \"gender\": \"Female\"}, {\"species\": \"Adelie\", \"location\": \"Biscoe\", \"bill_length_mm\": 38.2, \"bill_depth_mm\": 18.1, \"flipper_length_mm\": 185.0, \"body_mass_g\": 3950.0, \"gender\": \"Male\"}, {\"species\": \"Adelie\", \"location\": \"Biscoe\", \"bill_length_mm\": 38.8, \"bill_depth_mm\": 17.2, \"flipper_length_mm\": 180.0, \"body_mass_g\": 3800.0, \"gender\": \"Male\"}, {\"species\": \"Adelie\", \"location\": \"Biscoe\", \"bill_length_mm\": 35.3, \"bill_depth_mm\": 18.9, \"flipper_length_mm\": 187.0, \"body_mass_g\": 3800.0, \"gender\": \"Female\"}, {\"species\": \"Adelie\", \"location\": \"Biscoe\", \"bill_length_mm\": 40.6, \"bill_depth_mm\": 18.6, \"flipper_length_mm\": 183.0, \"body_mass_g\": 3550.0, \"gender\": \"Male\"}, {\"species\": \"Adelie\", \"location\": \"Biscoe\", \"bill_length_mm\": 40.5, \"bill_depth_mm\": 17.9, \"flipper_length_mm\": 187.0, \"body_mass_g\": 3200.0, \"gender\": \"Female\"}, {\"species\": \"Adelie\", \"location\": \"Biscoe\", \"bill_length_mm\": 37.9, \"bill_depth_mm\": 18.6, \"flipper_length_mm\": 172.0, \"body_mass_g\": 3150.0, \"gender\": \"Female\"}, {\"species\": \"Adelie\", \"location\": \"Biscoe\", \"bill_length_mm\": 40.5, \"bill_depth_mm\": 18.9, \"flipper_length_mm\": 180.0, \"body_mass_g\": 3950.0, \"gender\": \"Male\"}, {\"species\": \"Adelie\", \"location\": \"Dream\", \"bill_length_mm\": 39.5, \"bill_depth_mm\": 16.7, \"flipper_length_mm\": 178.0, \"body_mass_g\": 3250.0, \"gender\": \"Female\"}, {\"species\": \"Adelie\", \"location\": \"Dream\", \"bill_length_mm\": 37.2, \"bill_depth_mm\": 18.1, \"flipper_length_mm\": 178.0, \"body_mass_g\": 3900.0, \"gender\": \"Male\"}, {\"species\": \"Adelie\", \"location\": \"Dream\", \"bill_length_mm\": 39.5, \"bill_depth_mm\": 17.8, \"flipper_length_mm\": 188.0, \"body_mass_g\": 3300.0, \"gender\": \"Female\"}, {\"species\": \"Adelie\", \"location\": \"Dream\", \"bill_length_mm\": 40.9, \"bill_depth_mm\": 18.9, \"flipper_length_mm\": 184.0, \"body_mass_g\": 3900.0, \"gender\": \"Male\"}, {\"species\": \"Adelie\", \"location\": \"Dream\", \"bill_length_mm\": 36.4, \"bill_depth_mm\": 17.0, \"flipper_length_mm\": 195.0, \"body_mass_g\": 3325.0, \"gender\": \"Female\"}, {\"species\": \"Adelie\", \"location\": \"Dream\", \"bill_length_mm\": 39.2, \"bill_depth_mm\": 21.1, \"flipper_length_mm\": 196.0, \"body_mass_g\": 4150.0, \"gender\": \"Male\"}, {\"species\": \"Adelie\", \"location\": \"Dream\", \"bill_length_mm\": 38.8, \"bill_depth_mm\": 20.0, \"flipper_length_mm\": 190.0, \"body_mass_g\": 3950.0, \"gender\": \"Male\"}, {\"species\": \"Adelie\", \"location\": \"Dream\", \"bill_length_mm\": 42.2, \"bill_depth_mm\": 18.5, \"flipper_length_mm\": 180.0, \"body_mass_g\": 3550.0, \"gender\": \"Female\"}, {\"species\": \"Adelie\", \"location\": \"Dream\", \"bill_length_mm\": 37.6, \"bill_depth_mm\": 19.3, \"flipper_length_mm\": 181.0, \"body_mass_g\": 3300.0, \"gender\": \"Female\"}, {\"species\": \"Adelie\", \"location\": \"Dream\", \"bill_length_mm\": 39.8, \"bill_depth_mm\": 19.1, \"flipper_length_mm\": 184.0, \"body_mass_g\": 4650.0, \"gender\": \"Male\"}, {\"species\": \"Adelie\", \"location\": \"Dream\", \"bill_length_mm\": 36.5, \"bill_depth_mm\": 18.0, \"flipper_length_mm\": 182.0, \"body_mass_g\": 3150.0, \"gender\": \"Female\"}, {\"species\": \"Adelie\", \"location\": \"Dream\", \"bill_length_mm\": 40.8, \"bill_depth_mm\": 18.4, \"flipper_length_mm\": 195.0, \"body_mass_g\": 3900.0, \"gender\": \"Male\"}, {\"species\": \"Adelie\", \"location\": \"Dream\", \"bill_length_mm\": 36.0, \"bill_depth_mm\": 18.5, \"flipper_length_mm\": 186.0, \"body_mass_g\": 3100.0, \"gender\": \"Female\"}, {\"species\": \"Adelie\", \"location\": \"Dream\", \"bill_length_mm\": 44.1, \"bill_depth_mm\": 19.7, \"flipper_length_mm\": 196.0, \"body_mass_g\": 4400.0, \"gender\": \"Male\"}, {\"species\": \"Adelie\", \"location\": \"Dream\", \"bill_length_mm\": 37.0, \"bill_depth_mm\": 16.9, \"flipper_length_mm\": 185.0, \"body_mass_g\": 3000.0, \"gender\": \"Female\"}, {\"species\": \"Adelie\", \"location\": \"Dream\", \"bill_length_mm\": 39.6, \"bill_depth_mm\": 18.8, \"flipper_length_mm\": 190.0, \"body_mass_g\": 4600.0, \"gender\": \"Male\"}, {\"species\": \"Adelie\", \"location\": \"Dream\", \"bill_length_mm\": 41.1, \"bill_depth_mm\": 19.0, \"flipper_length_mm\": 182.0, \"body_mass_g\": 3425.0, \"gender\": \"Male\"}, {\"species\": \"Adelie\", \"location\": \"Dream\", \"bill_length_mm\": 36.0, \"bill_depth_mm\": 17.9, \"flipper_length_mm\": 190.0, \"body_mass_g\": 3450.0, \"gender\": \"Female\"}, {\"species\": \"Adelie\", \"location\": \"Dream\", \"bill_length_mm\": 42.3, \"bill_depth_mm\": 21.2, \"flipper_length_mm\": 191.0, \"body_mass_g\": 4150.0, \"gender\": \"Male\"}, {\"species\": \"Adelie\", \"location\": \"Biscoe\", \"bill_length_mm\": 39.6, \"bill_depth_mm\": 17.7, \"flipper_length_mm\": 186.0, \"body_mass_g\": 3500.0, \"gender\": \"Female\"}, {\"species\": \"Adelie\", \"location\": \"Biscoe\", \"bill_length_mm\": 40.1, \"bill_depth_mm\": 18.9, \"flipper_length_mm\": 188.0, \"body_mass_g\": 4300.0, \"gender\": \"Male\"}, {\"species\": \"Adelie\", \"location\": \"Biscoe\", \"bill_length_mm\": 35.0, \"bill_depth_mm\": 17.9, \"flipper_length_mm\": 190.0, \"body_mass_g\": 3450.0, \"gender\": \"Female\"}, {\"species\": \"Adelie\", \"location\": \"Biscoe\", \"bill_length_mm\": 42.0, \"bill_depth_mm\": 19.5, \"flipper_length_mm\": 200.0, \"body_mass_g\": 4050.0, \"gender\": \"Male\"}, {\"species\": \"Adelie\", \"location\": \"Biscoe\", \"bill_length_mm\": 34.5, \"bill_depth_mm\": 18.1, \"flipper_length_mm\": 187.0, \"body_mass_g\": 2900.0, \"gender\": \"Female\"}, {\"species\": \"Adelie\", \"location\": \"Biscoe\", \"bill_length_mm\": 41.4, \"bill_depth_mm\": 18.6, \"flipper_length_mm\": 191.0, \"body_mass_g\": 3700.0, \"gender\": \"Male\"}, {\"species\": \"Adelie\", \"location\": \"Biscoe\", \"bill_length_mm\": 39.0, \"bill_depth_mm\": 17.5, \"flipper_length_mm\": 186.0, \"body_mass_g\": 3550.0, \"gender\": \"Female\"}, {\"species\": \"Adelie\", \"location\": \"Biscoe\", \"bill_length_mm\": 40.6, \"bill_depth_mm\": 18.8, \"flipper_length_mm\": 193.0, \"body_mass_g\": 3800.0, \"gender\": \"Male\"}, {\"species\": \"Adelie\", \"location\": \"Biscoe\", \"bill_length_mm\": 36.5, \"bill_depth_mm\": 16.6, \"flipper_length_mm\": 181.0, \"body_mass_g\": 2850.0, \"gender\": \"Female\"}, {\"species\": \"Adelie\", \"location\": \"Biscoe\", \"bill_length_mm\": 37.6, \"bill_depth_mm\": 19.1, \"flipper_length_mm\": 194.0, \"body_mass_g\": 3750.0, \"gender\": \"Male\"}, {\"species\": \"Adelie\", \"location\": \"Biscoe\", \"bill_length_mm\": 35.7, \"bill_depth_mm\": 16.9, \"flipper_length_mm\": 185.0, \"body_mass_g\": 3150.0, \"gender\": \"Female\"}, {\"species\": \"Adelie\", \"location\": \"Biscoe\", \"bill_length_mm\": 41.3, \"bill_depth_mm\": 21.1, \"flipper_length_mm\": 195.0, \"body_mass_g\": 4400.0, \"gender\": \"Male\"}, {\"species\": \"Adelie\", \"location\": \"Biscoe\", \"bill_length_mm\": 37.6, \"bill_depth_mm\": 17.0, \"flipper_length_mm\": 185.0, \"body_mass_g\": 3600.0, \"gender\": \"Female\"}, {\"species\": \"Adelie\", \"location\": \"Biscoe\", \"bill_length_mm\": 41.1, \"bill_depth_mm\": 18.2, \"flipper_length_mm\": 192.0, \"body_mass_g\": 4050.0, \"gender\": \"Male\"}, {\"species\": \"Adelie\", \"location\": \"Biscoe\", \"bill_length_mm\": 36.4, \"bill_depth_mm\": 17.1, \"flipper_length_mm\": 184.0, \"body_mass_g\": 2850.0, \"gender\": \"Female\"}, {\"species\": \"Adelie\", \"location\": \"Biscoe\", \"bill_length_mm\": 41.6, \"bill_depth_mm\": 18.0, \"flipper_length_mm\": 192.0, \"body_mass_g\": 3950.0, \"gender\": \"Male\"}, {\"species\": \"Adelie\", \"location\": \"Biscoe\", \"bill_length_mm\": 35.5, \"bill_depth_mm\": 16.2, \"flipper_length_mm\": 195.0, \"body_mass_g\": 3350.0, \"gender\": \"Female\"}, {\"species\": \"Adelie\", \"location\": \"Biscoe\", \"bill_length_mm\": 41.1, \"bill_depth_mm\": 19.1, \"flipper_length_mm\": 188.0, \"body_mass_g\": 4100.0, \"gender\": \"Male\"}, {\"species\": \"Adelie\", \"location\": \"Torgersen\", \"bill_length_mm\": 35.9, \"bill_depth_mm\": 16.6, \"flipper_length_mm\": 190.0, \"body_mass_g\": 3050.0, \"gender\": \"Female\"}, {\"species\": \"Adelie\", \"location\": \"Torgersen\", \"bill_length_mm\": 41.8, \"bill_depth_mm\": 19.4, \"flipper_length_mm\": 198.0, \"body_mass_g\": 4450.0, \"gender\": \"Male\"}, {\"species\": \"Adelie\", \"location\": \"Torgersen\", \"bill_length_mm\": 33.5, \"bill_depth_mm\": 19.0, \"flipper_length_mm\": 190.0, \"body_mass_g\": 3600.0, \"gender\": \"Female\"}, {\"species\": \"Adelie\", \"location\": \"Torgersen\", \"bill_length_mm\": 39.7, \"bill_depth_mm\": 18.4, \"flipper_length_mm\": 190.0, \"body_mass_g\": 3900.0, \"gender\": \"Male\"}, {\"species\": \"Adelie\", \"location\": \"Torgersen\", \"bill_length_mm\": 39.6, \"bill_depth_mm\": 17.2, \"flipper_length_mm\": 196.0, \"body_mass_g\": 3550.0, \"gender\": \"Female\"}, {\"species\": \"Adelie\", \"location\": \"Torgersen\", \"bill_length_mm\": 45.8, \"bill_depth_mm\": 18.9, \"flipper_length_mm\": 197.0, \"body_mass_g\": 4150.0, \"gender\": \"Male\"}, {\"species\": \"Adelie\", \"location\": \"Torgersen\", \"bill_length_mm\": 35.5, \"bill_depth_mm\": 17.5, \"flipper_length_mm\": 190.0, \"body_mass_g\": 3700.0, \"gender\": \"Female\"}, {\"species\": \"Adelie\", \"location\": \"Torgersen\", \"bill_length_mm\": 42.8, \"bill_depth_mm\": 18.5, \"flipper_length_mm\": 195.0, \"body_mass_g\": 4250.0, \"gender\": \"Male\"}, {\"species\": \"Adelie\", \"location\": \"Torgersen\", \"bill_length_mm\": 40.9, \"bill_depth_mm\": 16.8, \"flipper_length_mm\": 191.0, \"body_mass_g\": 3700.0, \"gender\": \"Female\"}, {\"species\": \"Adelie\", \"location\": \"Torgersen\", \"bill_length_mm\": 37.2, \"bill_depth_mm\": 19.4, \"flipper_length_mm\": 184.0, \"body_mass_g\": 3900.0, \"gender\": \"Male\"}, {\"species\": \"Adelie\", \"location\": \"Torgersen\", \"bill_length_mm\": 36.2, \"bill_depth_mm\": 16.1, \"flipper_length_mm\": 187.0, \"body_mass_g\": 3550.0, \"gender\": \"Female\"}, {\"species\": \"Adelie\", \"location\": \"Torgersen\", \"bill_length_mm\": 42.1, \"bill_depth_mm\": 19.1, \"flipper_length_mm\": 195.0, \"body_mass_g\": 4000.0, \"gender\": \"Male\"}, {\"species\": \"Adelie\", \"location\": \"Torgersen\", \"bill_length_mm\": 34.6, \"bill_depth_mm\": 17.2, \"flipper_length_mm\": 189.0, \"body_mass_g\": 3200.0, \"gender\": \"Female\"}, {\"species\": \"Adelie\", \"location\": \"Torgersen\", \"bill_length_mm\": 42.9, \"bill_depth_mm\": 17.6, \"flipper_length_mm\": 196.0, \"body_mass_g\": 4700.0, \"gender\": \"Male\"}, {\"species\": \"Adelie\", \"location\": \"Torgersen\", \"bill_length_mm\": 36.7, \"bill_depth_mm\": 18.8, \"flipper_length_mm\": 187.0, \"body_mass_g\": 3800.0, \"gender\": \"Female\"}, {\"species\": \"Adelie\", \"location\": \"Torgersen\", \"bill_length_mm\": 35.1, \"bill_depth_mm\": 19.4, \"flipper_length_mm\": 193.0, \"body_mass_g\": 4200.0, \"gender\": \"Male\"}, {\"species\": \"Adelie\", \"location\": \"Dream\", \"bill_length_mm\": 37.3, \"bill_depth_mm\": 17.8, \"flipper_length_mm\": 191.0, \"body_mass_g\": 3350.0, \"gender\": \"Female\"}, {\"species\": \"Adelie\", \"location\": \"Dream\", \"bill_length_mm\": 41.3, \"bill_depth_mm\": 20.3, \"flipper_length_mm\": 194.0, \"body_mass_g\": 3550.0, \"gender\": \"Male\"}, {\"species\": \"Adelie\", \"location\": \"Dream\", \"bill_length_mm\": 36.3, \"bill_depth_mm\": 19.5, \"flipper_length_mm\": 190.0, \"body_mass_g\": 3800.0, \"gender\": \"Male\"}, {\"species\": \"Adelie\", \"location\": \"Dream\", \"bill_length_mm\": 36.9, \"bill_depth_mm\": 18.6, \"flipper_length_mm\": 189.0, \"body_mass_g\": 3500.0, \"gender\": \"Female\"}, {\"species\": \"Adelie\", \"location\": \"Dream\", \"bill_length_mm\": 38.3, \"bill_depth_mm\": 19.2, \"flipper_length_mm\": 189.0, \"body_mass_g\": 3950.0, \"gender\": \"Male\"}, {\"species\": \"Adelie\", \"location\": \"Dream\", \"bill_length_mm\": 38.9, \"bill_depth_mm\": 18.8, \"flipper_length_mm\": 190.0, \"body_mass_g\": 3600.0, \"gender\": \"Female\"}, {\"species\": \"Adelie\", \"location\": \"Dream\", \"bill_length_mm\": 35.7, \"bill_depth_mm\": 18.0, \"flipper_length_mm\": 202.0, \"body_mass_g\": 3550.0, \"gender\": \"Female\"}, {\"species\": \"Adelie\", \"location\": \"Dream\", \"bill_length_mm\": 41.1, \"bill_depth_mm\": 18.1, \"flipper_length_mm\": 205.0, \"body_mass_g\": 4300.0, \"gender\": \"Male\"}, {\"species\": \"Adelie\", \"location\": \"Dream\", \"bill_length_mm\": 34.0, \"bill_depth_mm\": 17.1, \"flipper_length_mm\": 185.0, \"body_mass_g\": 3400.0, \"gender\": \"Female\"}, {\"species\": \"Adelie\", \"location\": \"Dream\", \"bill_length_mm\": 39.6, \"bill_depth_mm\": 18.1, \"flipper_length_mm\": 186.0, \"body_mass_g\": 4450.0, \"gender\": \"Male\"}, {\"species\": \"Adelie\", \"location\": \"Dream\", \"bill_length_mm\": 36.2, \"bill_depth_mm\": 17.3, \"flipper_length_mm\": 187.0, \"body_mass_g\": 3300.0, \"gender\": \"Female\"}, {\"species\": \"Adelie\", \"location\": \"Dream\", \"bill_length_mm\": 40.8, \"bill_depth_mm\": 18.9, \"flipper_length_mm\": 208.0, \"body_mass_g\": 4300.0, \"gender\": \"Male\"}, {\"species\": \"Adelie\", \"location\": \"Dream\", \"bill_length_mm\": 38.1, \"bill_depth_mm\": 18.6, \"flipper_length_mm\": 190.0, \"body_mass_g\": 3700.0, \"gender\": \"Female\"}, {\"species\": \"Adelie\", \"location\": \"Dream\", \"bill_length_mm\": 40.3, \"bill_depth_mm\": 18.5, \"flipper_length_mm\": 196.0, \"body_mass_g\": 4350.0, \"gender\": \"Male\"}, {\"species\": \"Adelie\", \"location\": \"Dream\", \"bill_length_mm\": 33.1, \"bill_depth_mm\": 16.1, \"flipper_length_mm\": 178.0, \"body_mass_g\": 2900.0, \"gender\": \"Female\"}, {\"species\": \"Adelie\", \"location\": \"Dream\", \"bill_length_mm\": 43.2, \"bill_depth_mm\": 18.5, \"flipper_length_mm\": 192.0, \"body_mass_g\": 4100.0, \"gender\": \"Male\"}, {\"species\": \"Adelie\", \"location\": \"Biscoe\", \"bill_length_mm\": 35.0, \"bill_depth_mm\": 17.9, \"flipper_length_mm\": 192.0, \"body_mass_g\": 3725.0, \"gender\": \"Female\"}, {\"species\": \"Adelie\", \"location\": \"Biscoe\", \"bill_length_mm\": 41.0, \"bill_depth_mm\": 20.0, \"flipper_length_mm\": 203.0, \"body_mass_g\": 4725.0, \"gender\": \"Male\"}, {\"species\": \"Adelie\", \"location\": \"Biscoe\", \"bill_length_mm\": 37.7, \"bill_depth_mm\": 16.0, \"flipper_length_mm\": 183.0, \"body_mass_g\": 3075.0, \"gender\": \"Female\"}, {\"species\": \"Adelie\", \"location\": \"Biscoe\", \"bill_length_mm\": 37.8, \"bill_depth_mm\": 20.0, \"flipper_length_mm\": 190.0, \"body_mass_g\": 4250.0, \"gender\": \"Male\"}, {\"species\": \"Adelie\", \"location\": \"Biscoe\", \"bill_length_mm\": 37.9, \"bill_depth_mm\": 18.6, \"flipper_length_mm\": 193.0, \"body_mass_g\": 2925.0, \"gender\": \"Female\"}, {\"species\": \"Adelie\", \"location\": \"Biscoe\", \"bill_length_mm\": 39.7, \"bill_depth_mm\": 18.9, \"flipper_length_mm\": 184.0, \"body_mass_g\": 3550.0, \"gender\": \"Male\"}, {\"species\": \"Adelie\", \"location\": \"Biscoe\", \"bill_length_mm\": 38.6, \"bill_depth_mm\": 17.2, \"flipper_length_mm\": 199.0, \"body_mass_g\": 3750.0, \"gender\": \"Female\"}, {\"species\": \"Adelie\", \"location\": \"Biscoe\", \"bill_length_mm\": 38.2, \"bill_depth_mm\": 20.0, \"flipper_length_mm\": 190.0, \"body_mass_g\": 3900.0, \"gender\": \"Male\"}, {\"species\": \"Adelie\", \"location\": \"Biscoe\", \"bill_length_mm\": 38.1, \"bill_depth_mm\": 17.0, \"flipper_length_mm\": 181.0, \"body_mass_g\": 3175.0, \"gender\": \"Female\"}, {\"species\": \"Adelie\", \"location\": \"Biscoe\", \"bill_length_mm\": 43.2, \"bill_depth_mm\": 19.0, \"flipper_length_mm\": 197.0, \"body_mass_g\": 4775.0, \"gender\": \"Male\"}, {\"species\": \"Adelie\", \"location\": \"Biscoe\", \"bill_length_mm\": 38.1, \"bill_depth_mm\": 16.5, \"flipper_length_mm\": 198.0, \"body_mass_g\": 3825.0, \"gender\": \"Female\"}, {\"species\": \"Adelie\", \"location\": \"Biscoe\", \"bill_length_mm\": 45.6, \"bill_depth_mm\": 20.3, \"flipper_length_mm\": 191.0, \"body_mass_g\": 4600.0, \"gender\": \"Male\"}, {\"species\": \"Adelie\", \"location\": \"Biscoe\", \"bill_length_mm\": 39.7, \"bill_depth_mm\": 17.7, \"flipper_length_mm\": 193.0, \"body_mass_g\": 3200.0, \"gender\": \"Female\"}, {\"species\": \"Adelie\", \"location\": \"Biscoe\", \"bill_length_mm\": 42.2, \"bill_depth_mm\": 19.5, \"flipper_length_mm\": 197.0, \"body_mass_g\": 4275.0, \"gender\": \"Male\"}, {\"species\": \"Adelie\", \"location\": \"Biscoe\", \"bill_length_mm\": 39.6, \"bill_depth_mm\": 20.7, \"flipper_length_mm\": 191.0, \"body_mass_g\": 3900.0, \"gender\": \"Female\"}, {\"species\": \"Adelie\", \"location\": \"Biscoe\", \"bill_length_mm\": 42.7, \"bill_depth_mm\": 18.3, \"flipper_length_mm\": 196.0, \"body_mass_g\": 4075.0, \"gender\": \"Male\"}, {\"species\": \"Adelie\", \"location\": \"Torgersen\", \"bill_length_mm\": 38.6, \"bill_depth_mm\": 17.0, \"flipper_length_mm\": 188.0, \"body_mass_g\": 2900.0, \"gender\": \"Female\"}, {\"species\": \"Adelie\", \"location\": \"Torgersen\", \"bill_length_mm\": 37.3, \"bill_depth_mm\": 20.5, \"flipper_length_mm\": 199.0, \"body_mass_g\": 3775.0, \"gender\": \"Male\"}, {\"species\": \"Adelie\", \"location\": \"Torgersen\", \"bill_length_mm\": 35.7, \"bill_depth_mm\": 17.0, \"flipper_length_mm\": 189.0, \"body_mass_g\": 3350.0, \"gender\": \"Female\"}, {\"species\": \"Adelie\", \"location\": \"Torgersen\", \"bill_length_mm\": 41.1, \"bill_depth_mm\": 18.6, \"flipper_length_mm\": 189.0, \"body_mass_g\": 3325.0, \"gender\": \"Male\"}, {\"species\": \"Adelie\", \"location\": \"Torgersen\", \"bill_length_mm\": 36.2, \"bill_depth_mm\": 17.2, \"flipper_length_mm\": 187.0, \"body_mass_g\": 3150.0, \"gender\": \"Female\"}, {\"species\": \"Adelie\", \"location\": \"Torgersen\", \"bill_length_mm\": 37.7, \"bill_depth_mm\": 19.8, \"flipper_length_mm\": 198.0, \"body_mass_g\": 3500.0, \"gender\": \"Male\"}, {\"species\": \"Adelie\", \"location\": \"Torgersen\", \"bill_length_mm\": 40.2, \"bill_depth_mm\": 17.0, \"flipper_length_mm\": 176.0, \"body_mass_g\": 3450.0, \"gender\": \"Female\"}, {\"species\": \"Adelie\", \"location\": \"Torgersen\", \"bill_length_mm\": 41.4, \"bill_depth_mm\": 18.5, \"flipper_length_mm\": 202.0, \"body_mass_g\": 3875.0, \"gender\": \"Male\"}, {\"species\": \"Adelie\", \"location\": \"Torgersen\", \"bill_length_mm\": 35.2, \"bill_depth_mm\": 15.9, \"flipper_length_mm\": 186.0, \"body_mass_g\": 3050.0, \"gender\": \"Female\"}, {\"species\": \"Adelie\", \"location\": \"Torgersen\", \"bill_length_mm\": 40.6, \"bill_depth_mm\": 19.0, \"flipper_length_mm\": 199.0, \"body_mass_g\": 4000.0, \"gender\": \"Male\"}, {\"species\": \"Adelie\", \"location\": \"Torgersen\", \"bill_length_mm\": 38.8, \"bill_depth_mm\": 17.6, \"flipper_length_mm\": 191.0, \"body_mass_g\": 3275.0, \"gender\": \"Female\"}, {\"species\": \"Adelie\", \"location\": \"Torgersen\", \"bill_length_mm\": 41.5, \"bill_depth_mm\": 18.3, \"flipper_length_mm\": 195.0, \"body_mass_g\": 4300.0, \"gender\": \"Male\"}, {\"species\": \"Adelie\", \"location\": \"Torgersen\", \"bill_length_mm\": 39.0, \"bill_depth_mm\": 17.1, \"flipper_length_mm\": 191.0, \"body_mass_g\": 3050.0, \"gender\": \"Female\"}, {\"species\": \"Adelie\", \"location\": \"Torgersen\", \"bill_length_mm\": 44.1, \"bill_depth_mm\": 18.0, \"flipper_length_mm\": 210.0, \"body_mass_g\": 4000.0, \"gender\": \"Male\"}, {\"species\": \"Adelie\", \"location\": \"Torgersen\", \"bill_length_mm\": 38.5, \"bill_depth_mm\": 17.9, \"flipper_length_mm\": 190.0, \"body_mass_g\": 3325.0, \"gender\": \"Female\"}, {\"species\": \"Adelie\", \"location\": \"Torgersen\", \"bill_length_mm\": 43.1, \"bill_depth_mm\": 19.2, \"flipper_length_mm\": 197.0, \"body_mass_g\": 3500.0, \"gender\": \"Male\"}, {\"species\": \"Adelie\", \"location\": \"Dream\", \"bill_length_mm\": 36.8, \"bill_depth_mm\": 18.5, \"flipper_length_mm\": 193.0, \"body_mass_g\": 3500.0, \"gender\": \"Female\"}, {\"species\": \"Adelie\", \"location\": \"Dream\", \"bill_length_mm\": 37.5, \"bill_depth_mm\": 18.5, \"flipper_length_mm\": 199.0, \"body_mass_g\": 4475.0, \"gender\": \"Male\"}, {\"species\": \"Adelie\", \"location\": \"Dream\", \"bill_length_mm\": 38.1, \"bill_depth_mm\": 17.6, \"flipper_length_mm\": 187.0, \"body_mass_g\": 3425.0, \"gender\": \"Female\"}, {\"species\": \"Adelie\", \"location\": \"Dream\", \"bill_length_mm\": 41.1, \"bill_depth_mm\": 17.5, \"flipper_length_mm\": 190.0, \"body_mass_g\": 3900.0, \"gender\": \"Male\"}, {\"species\": \"Adelie\", \"location\": \"Dream\", \"bill_length_mm\": 35.6, \"bill_depth_mm\": 17.5, \"flipper_length_mm\": 191.0, \"body_mass_g\": 3175.0, \"gender\": \"Female\"}, {\"species\": \"Adelie\", \"location\": \"Dream\", \"bill_length_mm\": 40.2, \"bill_depth_mm\": 20.1, \"flipper_length_mm\": 200.0, \"body_mass_g\": 3975.0, \"gender\": \"Male\"}, {\"species\": \"Adelie\", \"location\": \"Dream\", \"bill_length_mm\": 37.0, \"bill_depth_mm\": 16.5, \"flipper_length_mm\": 185.0, \"body_mass_g\": 3400.0, \"gender\": \"Female\"}, {\"species\": \"Adelie\", \"location\": \"Dream\", \"bill_length_mm\": 39.7, \"bill_depth_mm\": 17.9, \"flipper_length_mm\": 193.0, \"body_mass_g\": 4250.0, \"gender\": \"Male\"}, {\"species\": \"Adelie\", \"location\": \"Dream\", \"bill_length_mm\": 40.2, \"bill_depth_mm\": 17.1, \"flipper_length_mm\": 193.0, \"body_mass_g\": 3400.0, \"gender\": \"Female\"}, {\"species\": \"Adelie\", \"location\": \"Dream\", \"bill_length_mm\": 40.6, \"bill_depth_mm\": 17.2, \"flipper_length_mm\": 187.0, \"body_mass_g\": 3475.0, \"gender\": \"Male\"}, {\"species\": \"Adelie\", \"location\": \"Dream\", \"bill_length_mm\": 32.1, \"bill_depth_mm\": 15.5, \"flipper_length_mm\": 188.0, \"body_mass_g\": 3050.0, \"gender\": \"Female\"}, {\"species\": \"Adelie\", \"location\": \"Dream\", \"bill_length_mm\": 40.7, \"bill_depth_mm\": 17.0, \"flipper_length_mm\": 190.0, \"body_mass_g\": 3725.0, \"gender\": \"Male\"}, {\"species\": \"Adelie\", \"location\": \"Dream\", \"bill_length_mm\": 37.3, \"bill_depth_mm\": 16.8, \"flipper_length_mm\": 192.0, \"body_mass_g\": 3000.0, \"gender\": \"Female\"}, {\"species\": \"Adelie\", \"location\": \"Dream\", \"bill_length_mm\": 39.0, \"bill_depth_mm\": 18.7, \"flipper_length_mm\": 185.0, \"body_mass_g\": 3650.0, \"gender\": \"Male\"}, {\"species\": \"Adelie\", \"location\": \"Dream\", \"bill_length_mm\": 39.2, \"bill_depth_mm\": 18.6, \"flipper_length_mm\": 190.0, \"body_mass_g\": 4250.0, \"gender\": \"Male\"}, {\"species\": \"Adelie\", \"location\": \"Dream\", \"bill_length_mm\": 36.6, \"bill_depth_mm\": 18.4, \"flipper_length_mm\": 184.0, \"body_mass_g\": 3475.0, \"gender\": \"Female\"}, {\"species\": \"Adelie\", \"location\": \"Dream\", \"bill_length_mm\": 36.0, \"bill_depth_mm\": 17.8, \"flipper_length_mm\": 195.0, \"body_mass_g\": 3450.0, \"gender\": \"Female\"}, {\"species\": \"Adelie\", \"location\": \"Dream\", \"bill_length_mm\": 37.8, \"bill_depth_mm\": 18.1, \"flipper_length_mm\": 193.0, \"body_mass_g\": 3750.0, \"gender\": \"Male\"}, {\"species\": \"Adelie\", \"location\": \"Dream\", \"bill_length_mm\": 36.0, \"bill_depth_mm\": 17.1, \"flipper_length_mm\": 187.0, \"body_mass_g\": 3700.0, \"gender\": \"Female\"}, {\"species\": \"Adelie\", \"location\": \"Dream\", \"bill_length_mm\": 41.5, \"bill_depth_mm\": 18.5, \"flipper_length_mm\": 201.0, \"body_mass_g\": 4000.0, \"gender\": \"Male\"}, {\"species\": \"Chinstrap\", \"location\": \"Dream\", \"bill_length_mm\": 46.5, \"bill_depth_mm\": 17.9, \"flipper_length_mm\": 192.0, \"body_mass_g\": 3500.0, \"gender\": \"Female\"}, {\"species\": \"Chinstrap\", \"location\": \"Dream\", \"bill_length_mm\": 50.0, \"bill_depth_mm\": 19.5, \"flipper_length_mm\": 196.0, \"body_mass_g\": 3900.0, \"gender\": \"Male\"}, {\"species\": \"Chinstrap\", \"location\": \"Dream\", \"bill_length_mm\": 51.3, \"bill_depth_mm\": 19.2, \"flipper_length_mm\": 193.0, \"body_mass_g\": 3650.0, \"gender\": \"Male\"}, {\"species\": \"Chinstrap\", \"location\": \"Dream\", \"bill_length_mm\": 45.4, \"bill_depth_mm\": 18.7, \"flipper_length_mm\": 188.0, \"body_mass_g\": 3525.0, \"gender\": \"Female\"}, {\"species\": \"Chinstrap\", \"location\": \"Dream\", \"bill_length_mm\": 52.7, \"bill_depth_mm\": 19.8, \"flipper_length_mm\": 197.0, \"body_mass_g\": 3725.0, \"gender\": \"Male\"}, {\"species\": \"Chinstrap\", \"location\": \"Dream\", \"bill_length_mm\": 45.2, \"bill_depth_mm\": 17.8, \"flipper_length_mm\": 198.0, \"body_mass_g\": 3950.0, \"gender\": \"Female\"}, {\"species\": \"Chinstrap\", \"location\": \"Dream\", \"bill_length_mm\": 46.1, \"bill_depth_mm\": 18.2, \"flipper_length_mm\": 178.0, \"body_mass_g\": 3250.0, \"gender\": \"Female\"}, {\"species\": \"Chinstrap\", \"location\": \"Dream\", \"bill_length_mm\": 51.3, \"bill_depth_mm\": 18.2, \"flipper_length_mm\": 197.0, \"body_mass_g\": 3750.0, \"gender\": \"Male\"}, {\"species\": \"Chinstrap\", \"location\": \"Dream\", \"bill_length_mm\": 46.0, \"bill_depth_mm\": 18.9, \"flipper_length_mm\": 195.0, \"body_mass_g\": 4150.0, \"gender\": \"Female\"}, {\"species\": \"Chinstrap\", \"location\": \"Dream\", \"bill_length_mm\": 51.3, \"bill_depth_mm\": 19.9, \"flipper_length_mm\": 198.0, \"body_mass_g\": 3700.0, \"gender\": \"Male\"}, {\"species\": \"Chinstrap\", \"location\": \"Dream\", \"bill_length_mm\": 46.6, \"bill_depth_mm\": 17.8, \"flipper_length_mm\": 193.0, \"body_mass_g\": 3800.0, \"gender\": \"Female\"}, {\"species\": \"Chinstrap\", \"location\": \"Dream\", \"bill_length_mm\": 51.7, \"bill_depth_mm\": 20.3, \"flipper_length_mm\": 194.0, \"body_mass_g\": 3775.0, \"gender\": \"Male\"}, {\"species\": \"Chinstrap\", \"location\": \"Dream\", \"bill_length_mm\": 47.0, \"bill_depth_mm\": 17.3, \"flipper_length_mm\": 185.0, \"body_mass_g\": 3700.0, \"gender\": \"Female\"}, {\"species\": \"Chinstrap\", \"location\": \"Dream\", \"bill_length_mm\": 52.0, \"bill_depth_mm\": 18.1, \"flipper_length_mm\": 201.0, \"body_mass_g\": 4050.0, \"gender\": \"Male\"}, {\"species\": \"Chinstrap\", \"location\": \"Dream\", \"bill_length_mm\": 45.9, \"bill_depth_mm\": 17.1, \"flipper_length_mm\": 190.0, \"body_mass_g\": 3575.0, \"gender\": \"Female\"}, {\"species\": \"Chinstrap\", \"location\": \"Dream\", \"bill_length_mm\": 50.5, \"bill_depth_mm\": 19.6, \"flipper_length_mm\": 201.0, \"body_mass_g\": 4050.0, \"gender\": \"Male\"}, {\"species\": \"Chinstrap\", \"location\": \"Dream\", \"bill_length_mm\": 50.3, \"bill_depth_mm\": 20.0, \"flipper_length_mm\": 197.0, \"body_mass_g\": 3300.0, \"gender\": \"Male\"}, {\"species\": \"Chinstrap\", \"location\": \"Dream\", \"bill_length_mm\": 58.0, \"bill_depth_mm\": 17.8, \"flipper_length_mm\": 181.0, \"body_mass_g\": 3700.0, \"gender\": \"Female\"}, {\"species\": \"Chinstrap\", \"location\": \"Dream\", \"bill_length_mm\": 46.4, \"bill_depth_mm\": 18.6, \"flipper_length_mm\": 190.0, \"body_mass_g\": 3450.0, \"gender\": \"Female\"}, {\"species\": \"Chinstrap\", \"location\": \"Dream\", \"bill_length_mm\": 49.2, \"bill_depth_mm\": 18.2, \"flipper_length_mm\": 195.0, \"body_mass_g\": 4400.0, \"gender\": \"Male\"}, {\"species\": \"Chinstrap\", \"location\": \"Dream\", \"bill_length_mm\": 42.4, \"bill_depth_mm\": 17.3, \"flipper_length_mm\": 181.0, \"body_mass_g\": 3600.0, \"gender\": \"Female\"}, {\"species\": \"Chinstrap\", \"location\": \"Dream\", \"bill_length_mm\": 48.5, \"bill_depth_mm\": 17.5, \"flipper_length_mm\": 191.0, \"body_mass_g\": 3400.0, \"gender\": \"Male\"}, {\"species\": \"Chinstrap\", \"location\": \"Dream\", \"bill_length_mm\": 43.2, \"bill_depth_mm\": 16.6, \"flipper_length_mm\": 187.0, \"body_mass_g\": 2900.0, \"gender\": \"Female\"}, {\"species\": \"Chinstrap\", \"location\": \"Dream\", \"bill_length_mm\": 50.6, \"bill_depth_mm\": 19.4, \"flipper_length_mm\": 193.0, \"body_mass_g\": 3800.0, \"gender\": \"Male\"}, {\"species\": \"Chinstrap\", \"location\": \"Dream\", \"bill_length_mm\": 46.7, \"bill_depth_mm\": 17.9, \"flipper_length_mm\": 195.0, \"body_mass_g\": 3300.0, \"gender\": \"Female\"}, {\"species\": \"Chinstrap\", \"location\": \"Dream\", \"bill_length_mm\": 52.0, \"bill_depth_mm\": 19.0, \"flipper_length_mm\": 197.0, \"body_mass_g\": 4150.0, \"gender\": \"Male\"}, {\"species\": \"Chinstrap\", \"location\": \"Dream\", \"bill_length_mm\": 50.5, \"bill_depth_mm\": 18.4, \"flipper_length_mm\": 200.0, \"body_mass_g\": 3400.0, \"gender\": \"Female\"}, {\"species\": \"Chinstrap\", \"location\": \"Dream\", \"bill_length_mm\": 49.5, \"bill_depth_mm\": 19.0, \"flipper_length_mm\": 200.0, \"body_mass_g\": 3800.0, \"gender\": \"Male\"}, {\"species\": \"Chinstrap\", \"location\": \"Dream\", \"bill_length_mm\": 46.4, \"bill_depth_mm\": 17.8, \"flipper_length_mm\": 191.0, \"body_mass_g\": 3700.0, \"gender\": \"Female\"}, {\"species\": \"Chinstrap\", \"location\": \"Dream\", \"bill_length_mm\": 52.8, \"bill_depth_mm\": 20.0, \"flipper_length_mm\": 205.0, \"body_mass_g\": 4550.0, \"gender\": \"Male\"}, {\"species\": \"Chinstrap\", \"location\": \"Dream\", \"bill_length_mm\": 40.9, \"bill_depth_mm\": 16.6, \"flipper_length_mm\": 187.0, \"body_mass_g\": 3200.0, \"gender\": \"Female\"}, {\"species\": \"Chinstrap\", \"location\": \"Dream\", \"bill_length_mm\": 54.2, \"bill_depth_mm\": 20.8, \"flipper_length_mm\": 201.0, \"body_mass_g\": 4300.0, \"gender\": \"Male\"}, {\"species\": \"Chinstrap\", \"location\": \"Dream\", \"bill_length_mm\": 42.5, \"bill_depth_mm\": 16.7, \"flipper_length_mm\": 187.0, \"body_mass_g\": 3350.0, \"gender\": \"Female\"}, {\"species\": \"Chinstrap\", \"location\": \"Dream\", \"bill_length_mm\": 51.0, \"bill_depth_mm\": 18.8, \"flipper_length_mm\": 203.0, \"body_mass_g\": 4100.0, \"gender\": \"Male\"}, {\"species\": \"Chinstrap\", \"location\": \"Dream\", \"bill_length_mm\": 49.7, \"bill_depth_mm\": 18.6, \"flipper_length_mm\": 195.0, \"body_mass_g\": 3600.0, \"gender\": \"Male\"}, {\"species\": \"Chinstrap\", \"location\": \"Dream\", \"bill_length_mm\": 47.5, \"bill_depth_mm\": 16.8, \"flipper_length_mm\": 199.0, \"body_mass_g\": 3900.0, \"gender\": \"Female\"}, {\"species\": \"Chinstrap\", \"location\": \"Dream\", \"bill_length_mm\": 47.6, \"bill_depth_mm\": 18.3, \"flipper_length_mm\": 195.0, \"body_mass_g\": 3850.0, \"gender\": \"Female\"}, {\"species\": \"Chinstrap\", \"location\": \"Dream\", \"bill_length_mm\": 52.0, \"bill_depth_mm\": 20.7, \"flipper_length_mm\": 210.0, \"body_mass_g\": 4800.0, \"gender\": \"Male\"}, {\"species\": \"Chinstrap\", \"location\": \"Dream\", \"bill_length_mm\": 46.9, \"bill_depth_mm\": 16.6, \"flipper_length_mm\": 192.0, \"body_mass_g\": 2700.0, \"gender\": \"Female\"}, {\"species\": \"Chinstrap\", \"location\": \"Dream\", \"bill_length_mm\": 53.5, \"bill_depth_mm\": 19.9, \"flipper_length_mm\": 205.0, \"body_mass_g\": 4500.0, \"gender\": \"Male\"}, {\"species\": \"Chinstrap\", \"location\": \"Dream\", \"bill_length_mm\": 49.0, \"bill_depth_mm\": 19.5, \"flipper_length_mm\": 210.0, \"body_mass_g\": 3950.0, \"gender\": \"Male\"}, {\"species\": \"Chinstrap\", \"location\": \"Dream\", \"bill_length_mm\": 46.2, \"bill_depth_mm\": 17.5, \"flipper_length_mm\": 187.0, \"body_mass_g\": 3650.0, \"gender\": \"Female\"}, {\"species\": \"Chinstrap\", \"location\": \"Dream\", \"bill_length_mm\": 50.9, \"bill_depth_mm\": 19.1, \"flipper_length_mm\": 196.0, \"body_mass_g\": 3550.0, \"gender\": \"Male\"}, {\"species\": \"Chinstrap\", \"location\": \"Dream\", \"bill_length_mm\": 45.5, \"bill_depth_mm\": 17.0, \"flipper_length_mm\": 196.0, \"body_mass_g\": 3500.0, \"gender\": \"Female\"}, {\"species\": \"Chinstrap\", \"location\": \"Dream\", \"bill_length_mm\": 50.9, \"bill_depth_mm\": 17.9, \"flipper_length_mm\": 196.0, \"body_mass_g\": 3675.0, \"gender\": \"Female\"}, {\"species\": \"Chinstrap\", \"location\": \"Dream\", \"bill_length_mm\": 50.8, \"bill_depth_mm\": 18.5, \"flipper_length_mm\": 201.0, \"body_mass_g\": 4450.0, \"gender\": \"Male\"}, {\"species\": \"Chinstrap\", \"location\": \"Dream\", \"bill_length_mm\": 50.1, \"bill_depth_mm\": 17.9, \"flipper_length_mm\": 190.0, \"body_mass_g\": 3400.0, \"gender\": \"Female\"}, {\"species\": \"Chinstrap\", \"location\": \"Dream\", \"bill_length_mm\": 49.0, \"bill_depth_mm\": 19.6, \"flipper_length_mm\": 212.0, \"body_mass_g\": 4300.0, \"gender\": \"Male\"}, {\"species\": \"Chinstrap\", \"location\": \"Dream\", \"bill_length_mm\": 51.5, \"bill_depth_mm\": 18.7, \"flipper_length_mm\": 187.0, \"body_mass_g\": 3250.0, \"gender\": \"Male\"}, {\"species\": \"Chinstrap\", \"location\": \"Dream\", \"bill_length_mm\": 49.8, \"bill_depth_mm\": 17.3, \"flipper_length_mm\": 198.0, \"body_mass_g\": 3675.0, \"gender\": \"Female\"}, {\"species\": \"Chinstrap\", \"location\": \"Dream\", \"bill_length_mm\": 48.1, \"bill_depth_mm\": 16.4, \"flipper_length_mm\": 199.0, \"body_mass_g\": 3325.0, \"gender\": \"Female\"}, {\"species\": \"Chinstrap\", \"location\": \"Dream\", \"bill_length_mm\": 51.4, \"bill_depth_mm\": 19.0, \"flipper_length_mm\": 201.0, \"body_mass_g\": 3950.0, \"gender\": \"Male\"}, {\"species\": \"Chinstrap\", \"location\": \"Dream\", \"bill_length_mm\": 45.7, \"bill_depth_mm\": 17.3, \"flipper_length_mm\": 193.0, \"body_mass_g\": 3600.0, \"gender\": \"Female\"}, {\"species\": \"Chinstrap\", \"location\": \"Dream\", \"bill_length_mm\": 50.7, \"bill_depth_mm\": 19.7, \"flipper_length_mm\": 203.0, \"body_mass_g\": 4050.0, \"gender\": \"Male\"}, {\"species\": \"Chinstrap\", \"location\": \"Dream\", \"bill_length_mm\": 42.5, \"bill_depth_mm\": 17.3, \"flipper_length_mm\": 187.0, \"body_mass_g\": 3350.0, \"gender\": \"Female\"}, {\"species\": \"Chinstrap\", \"location\": \"Dream\", \"bill_length_mm\": 52.2, \"bill_depth_mm\": 18.8, \"flipper_length_mm\": 197.0, \"body_mass_g\": 3450.0, \"gender\": \"Male\"}, {\"species\": \"Chinstrap\", \"location\": \"Dream\", \"bill_length_mm\": 45.2, \"bill_depth_mm\": 16.6, \"flipper_length_mm\": 191.0, \"body_mass_g\": 3250.0, \"gender\": \"Female\"}, {\"species\": \"Chinstrap\", \"location\": \"Dream\", \"bill_length_mm\": 49.3, \"bill_depth_mm\": 19.9, \"flipper_length_mm\": 203.0, \"body_mass_g\": 4050.0, \"gender\": \"Male\"}, {\"species\": \"Chinstrap\", \"location\": \"Dream\", \"bill_length_mm\": 50.2, \"bill_depth_mm\": 18.8, \"flipper_length_mm\": 202.0, \"body_mass_g\": 3800.0, \"gender\": \"Male\"}, {\"species\": \"Chinstrap\", \"location\": \"Dream\", \"bill_length_mm\": 45.6, \"bill_depth_mm\": 19.4, \"flipper_length_mm\": 194.0, \"body_mass_g\": 3525.0, \"gender\": \"Female\"}, {\"species\": \"Chinstrap\", \"location\": \"Dream\", \"bill_length_mm\": 51.9, \"bill_depth_mm\": 19.5, \"flipper_length_mm\": 206.0, \"body_mass_g\": 3950.0, \"gender\": \"Male\"}, {\"species\": \"Chinstrap\", \"location\": \"Dream\", \"bill_length_mm\": 46.8, \"bill_depth_mm\": 16.5, \"flipper_length_mm\": 189.0, \"body_mass_g\": 3650.0, \"gender\": \"Female\"}, {\"species\": \"Chinstrap\", \"location\": \"Dream\", \"bill_length_mm\": 45.7, \"bill_depth_mm\": 17.0, \"flipper_length_mm\": 195.0, \"body_mass_g\": 3650.0, \"gender\": \"Female\"}, {\"species\": \"Chinstrap\", \"location\": \"Dream\", \"bill_length_mm\": 55.8, \"bill_depth_mm\": 19.8, \"flipper_length_mm\": 207.0, \"body_mass_g\": 4000.0, \"gender\": \"Male\"}, {\"species\": \"Chinstrap\", \"location\": \"Dream\", \"bill_length_mm\": 43.5, \"bill_depth_mm\": 18.1, \"flipper_length_mm\": 202.0, \"body_mass_g\": 3400.0, \"gender\": \"Female\"}, {\"species\": \"Chinstrap\", \"location\": \"Dream\", \"bill_length_mm\": 49.6, \"bill_depth_mm\": 18.2, \"flipper_length_mm\": 193.0, \"body_mass_g\": 3775.0, \"gender\": \"Male\"}, {\"species\": \"Chinstrap\", \"location\": \"Dream\", \"bill_length_mm\": 50.8, \"bill_depth_mm\": 19.0, \"flipper_length_mm\": 210.0, \"body_mass_g\": 4100.0, \"gender\": \"Male\"}, {\"species\": \"Chinstrap\", \"location\": \"Dream\", \"bill_length_mm\": 50.2, \"bill_depth_mm\": 18.7, \"flipper_length_mm\": 198.0, \"body_mass_g\": 3775.0, \"gender\": \"Female\"}, {\"species\": \"Gentoo\", \"location\": \"Biscoe\", \"bill_length_mm\": 46.1, \"bill_depth_mm\": 13.2, \"flipper_length_mm\": 211.0, \"body_mass_g\": 4500.0, \"gender\": \"Female\"}, {\"species\": \"Gentoo\", \"location\": \"Biscoe\", \"bill_length_mm\": 50.0, \"bill_depth_mm\": 16.3, \"flipper_length_mm\": 230.0, \"body_mass_g\": 5700.0, \"gender\": \"Male\"}, {\"species\": \"Gentoo\", \"location\": \"Biscoe\", \"bill_length_mm\": 48.7, \"bill_depth_mm\": 14.1, \"flipper_length_mm\": 210.0, \"body_mass_g\": 4450.0, \"gender\": \"Female\"}, {\"species\": \"Gentoo\", \"location\": \"Biscoe\", \"bill_length_mm\": 50.0, \"bill_depth_mm\": 15.2, \"flipper_length_mm\": 218.0, \"body_mass_g\": 5700.0, \"gender\": \"Male\"}, {\"species\": \"Gentoo\", \"location\": \"Biscoe\", \"bill_length_mm\": 47.6, \"bill_depth_mm\": 14.5, \"flipper_length_mm\": 215.0, \"body_mass_g\": 5400.0, \"gender\": \"Male\"}, {\"species\": \"Gentoo\", \"location\": \"Biscoe\", \"bill_length_mm\": 46.5, \"bill_depth_mm\": 13.5, \"flipper_length_mm\": 210.0, \"body_mass_g\": 4550.0, \"gender\": \"Female\"}, {\"species\": \"Gentoo\", \"location\": \"Biscoe\", \"bill_length_mm\": 45.4, \"bill_depth_mm\": 14.6, \"flipper_length_mm\": 211.0, \"body_mass_g\": 4800.0, \"gender\": \"Female\"}, {\"species\": \"Gentoo\", \"location\": \"Biscoe\", \"bill_length_mm\": 46.7, \"bill_depth_mm\": 15.3, \"flipper_length_mm\": 219.0, \"body_mass_g\": 5200.0, \"gender\": \"Male\"}, {\"species\": \"Gentoo\", \"location\": \"Biscoe\", \"bill_length_mm\": 43.3, \"bill_depth_mm\": 13.4, \"flipper_length_mm\": 209.0, \"body_mass_g\": 4400.0, \"gender\": \"Female\"}, {\"species\": \"Gentoo\", \"location\": \"Biscoe\", \"bill_length_mm\": 46.8, \"bill_depth_mm\": 15.4, \"flipper_length_mm\": 215.0, \"body_mass_g\": 5150.0, \"gender\": \"Male\"}, {\"species\": \"Gentoo\", \"location\": \"Biscoe\", \"bill_length_mm\": 40.9, \"bill_depth_mm\": 13.7, \"flipper_length_mm\": 214.0, \"body_mass_g\": 4650.0, \"gender\": \"Female\"}, {\"species\": \"Gentoo\", \"location\": \"Biscoe\", \"bill_length_mm\": 49.0, \"bill_depth_mm\": 16.1, \"flipper_length_mm\": 216.0, \"body_mass_g\": 5550.0, \"gender\": \"Male\"}, {\"species\": \"Gentoo\", \"location\": \"Biscoe\", \"bill_length_mm\": 45.5, \"bill_depth_mm\": 13.7, \"flipper_length_mm\": 214.0, \"body_mass_g\": 4650.0, \"gender\": \"Female\"}, {\"species\": \"Gentoo\", \"location\": \"Biscoe\", \"bill_length_mm\": 48.4, \"bill_depth_mm\": 14.6, \"flipper_length_mm\": 213.0, \"body_mass_g\": 5850.0, \"gender\": \"Male\"}, {\"species\": \"Gentoo\", \"location\": \"Biscoe\", \"bill_length_mm\": 45.8, \"bill_depth_mm\": 14.6, \"flipper_length_mm\": 210.0, \"body_mass_g\": 4200.0, \"gender\": \"Female\"}, {\"species\": \"Gentoo\", \"location\": \"Biscoe\", \"bill_length_mm\": 49.3, \"bill_depth_mm\": 15.7, \"flipper_length_mm\": 217.0, \"body_mass_g\": 5850.0, \"gender\": \"Male\"}, {\"species\": \"Gentoo\", \"location\": \"Biscoe\", \"bill_length_mm\": 42.0, \"bill_depth_mm\": 13.5, \"flipper_length_mm\": 210.0, \"body_mass_g\": 4150.0, \"gender\": \"Female\"}, {\"species\": \"Gentoo\", \"location\": \"Biscoe\", \"bill_length_mm\": 49.2, \"bill_depth_mm\": 15.2, \"flipper_length_mm\": 221.0, \"body_mass_g\": 6300.0, \"gender\": \"Male\"}, {\"species\": \"Gentoo\", \"location\": \"Biscoe\", \"bill_length_mm\": 46.2, \"bill_depth_mm\": 14.5, \"flipper_length_mm\": 209.0, \"body_mass_g\": 4800.0, \"gender\": \"Female\"}, {\"species\": \"Gentoo\", \"location\": \"Biscoe\", \"bill_length_mm\": 48.7, \"bill_depth_mm\": 15.1, \"flipper_length_mm\": 222.0, \"body_mass_g\": 5350.0, \"gender\": \"Male\"}, {\"species\": \"Gentoo\", \"location\": \"Biscoe\", \"bill_length_mm\": 50.2, \"bill_depth_mm\": 14.3, \"flipper_length_mm\": 218.0, \"body_mass_g\": 5700.0, \"gender\": \"Male\"}, {\"species\": \"Gentoo\", \"location\": \"Biscoe\", \"bill_length_mm\": 45.1, \"bill_depth_mm\": 14.5, \"flipper_length_mm\": 215.0, \"body_mass_g\": 5000.0, \"gender\": \"Female\"}, {\"species\": \"Gentoo\", \"location\": \"Biscoe\", \"bill_length_mm\": 46.5, \"bill_depth_mm\": 14.5, \"flipper_length_mm\": 213.0, \"body_mass_g\": 4400.0, \"gender\": \"Female\"}, {\"species\": \"Gentoo\", \"location\": \"Biscoe\", \"bill_length_mm\": 46.3, \"bill_depth_mm\": 15.8, \"flipper_length_mm\": 215.0, \"body_mass_g\": 5050.0, \"gender\": \"Male\"}, {\"species\": \"Gentoo\", \"location\": \"Biscoe\", \"bill_length_mm\": 42.9, \"bill_depth_mm\": 13.1, \"flipper_length_mm\": 215.0, \"body_mass_g\": 5000.0, \"gender\": \"Female\"}, {\"species\": \"Gentoo\", \"location\": \"Biscoe\", \"bill_length_mm\": 46.1, \"bill_depth_mm\": 15.1, \"flipper_length_mm\": 215.0, \"body_mass_g\": 5100.0, \"gender\": \"Male\"}, {\"species\": \"Gentoo\", \"location\": \"Biscoe\", \"bill_length_mm\": 47.8, \"bill_depth_mm\": 15.0, \"flipper_length_mm\": 215.0, \"body_mass_g\": 5650.0, \"gender\": \"Male\"}, {\"species\": \"Gentoo\", \"location\": \"Biscoe\", \"bill_length_mm\": 48.2, \"bill_depth_mm\": 14.3, \"flipper_length_mm\": 210.0, \"body_mass_g\": 4600.0, \"gender\": \"Female\"}, {\"species\": \"Gentoo\", \"location\": \"Biscoe\", \"bill_length_mm\": 50.0, \"bill_depth_mm\": 15.3, \"flipper_length_mm\": 220.0, \"body_mass_g\": 5550.0, \"gender\": \"Male\"}, {\"species\": \"Gentoo\", \"location\": \"Biscoe\", \"bill_length_mm\": 47.3, \"bill_depth_mm\": 15.3, \"flipper_length_mm\": 222.0, \"body_mass_g\": 5250.0, \"gender\": \"Male\"}, {\"species\": \"Gentoo\", \"location\": \"Biscoe\", \"bill_length_mm\": 42.8, \"bill_depth_mm\": 14.2, \"flipper_length_mm\": 209.0, \"body_mass_g\": 4700.0, \"gender\": \"Female\"}, {\"species\": \"Gentoo\", \"location\": \"Biscoe\", \"bill_length_mm\": 45.1, \"bill_depth_mm\": 14.5, \"flipper_length_mm\": 207.0, \"body_mass_g\": 5050.0, \"gender\": \"Female\"}, {\"species\": \"Gentoo\", \"location\": \"Biscoe\", \"bill_length_mm\": 59.6, \"bill_depth_mm\": 17.0, \"flipper_length_mm\": 230.0, \"body_mass_g\": 6050.0, \"gender\": \"Male\"}, {\"species\": \"Gentoo\", \"location\": \"Biscoe\", \"bill_length_mm\": 49.1, \"bill_depth_mm\": 14.8, \"flipper_length_mm\": 220.0, \"body_mass_g\": 5150.0, \"gender\": \"Female\"}, {\"species\": \"Gentoo\", \"location\": \"Biscoe\", \"bill_length_mm\": 48.4, \"bill_depth_mm\": 16.3, \"flipper_length_mm\": 220.0, \"body_mass_g\": 5400.0, \"gender\": \"Male\"}, {\"species\": \"Gentoo\", \"location\": \"Biscoe\", \"bill_length_mm\": 42.6, \"bill_depth_mm\": 13.7, \"flipper_length_mm\": 213.0, \"body_mass_g\": 4950.0, \"gender\": \"Female\"}, {\"species\": \"Gentoo\", \"location\": \"Biscoe\", \"bill_length_mm\": 44.4, \"bill_depth_mm\": 17.3, \"flipper_length_mm\": 219.0, \"body_mass_g\": 5250.0, \"gender\": \"Male\"}, {\"species\": \"Gentoo\", \"location\": \"Biscoe\", \"bill_length_mm\": 44.0, \"bill_depth_mm\": 13.6, \"flipper_length_mm\": 208.0, \"body_mass_g\": 4350.0, \"gender\": \"Female\"}, {\"species\": \"Gentoo\", \"location\": \"Biscoe\", \"bill_length_mm\": 48.7, \"bill_depth_mm\": 15.7, \"flipper_length_mm\": 208.0, \"body_mass_g\": 5350.0, \"gender\": \"Male\"}, {\"species\": \"Gentoo\", \"location\": \"Biscoe\", \"bill_length_mm\": 42.7, \"bill_depth_mm\": 13.7, \"flipper_length_mm\": 208.0, \"body_mass_g\": 3950.0, \"gender\": \"Female\"}, {\"species\": \"Gentoo\", \"location\": \"Biscoe\", \"bill_length_mm\": 49.6, \"bill_depth_mm\": 16.0, \"flipper_length_mm\": 225.0, \"body_mass_g\": 5700.0, \"gender\": \"Male\"}, {\"species\": \"Gentoo\", \"location\": \"Biscoe\", \"bill_length_mm\": 45.3, \"bill_depth_mm\": 13.7, \"flipper_length_mm\": 210.0, \"body_mass_g\": 4300.0, \"gender\": \"Female\"}, {\"species\": \"Gentoo\", \"location\": \"Biscoe\", \"bill_length_mm\": 49.6, \"bill_depth_mm\": 15.0, \"flipper_length_mm\": 216.0, \"body_mass_g\": 4750.0, \"gender\": \"Male\"}, {\"species\": \"Gentoo\", \"location\": \"Biscoe\", \"bill_length_mm\": 50.5, \"bill_depth_mm\": 15.9, \"flipper_length_mm\": 222.0, \"body_mass_g\": 5550.0, \"gender\": \"Male\"}, {\"species\": \"Gentoo\", \"location\": \"Biscoe\", \"bill_length_mm\": 43.6, \"bill_depth_mm\": 13.9, \"flipper_length_mm\": 217.0, \"body_mass_g\": 4900.0, \"gender\": \"Female\"}, {\"species\": \"Gentoo\", \"location\": \"Biscoe\", \"bill_length_mm\": 45.5, \"bill_depth_mm\": 13.9, \"flipper_length_mm\": 210.0, \"body_mass_g\": 4200.0, \"gender\": \"Female\"}, {\"species\": \"Gentoo\", \"location\": \"Biscoe\", \"bill_length_mm\": 50.5, \"bill_depth_mm\": 15.9, \"flipper_length_mm\": 225.0, \"body_mass_g\": 5400.0, \"gender\": \"Male\"}, {\"species\": \"Gentoo\", \"location\": \"Biscoe\", \"bill_length_mm\": 44.9, \"bill_depth_mm\": 13.3, \"flipper_length_mm\": 213.0, \"body_mass_g\": 5100.0, \"gender\": \"Female\"}, {\"species\": \"Gentoo\", \"location\": \"Biscoe\", \"bill_length_mm\": 45.2, \"bill_depth_mm\": 15.8, \"flipper_length_mm\": 215.0, \"body_mass_g\": 5300.0, \"gender\": \"Male\"}, {\"species\": \"Gentoo\", \"location\": \"Biscoe\", \"bill_length_mm\": 46.6, \"bill_depth_mm\": 14.2, \"flipper_length_mm\": 210.0, \"body_mass_g\": 4850.0, \"gender\": \"Female\"}, {\"species\": \"Gentoo\", \"location\": \"Biscoe\", \"bill_length_mm\": 48.5, \"bill_depth_mm\": 14.1, \"flipper_length_mm\": 220.0, \"body_mass_g\": 5300.0, \"gender\": \"Male\"}, {\"species\": \"Gentoo\", \"location\": \"Biscoe\", \"bill_length_mm\": 45.1, \"bill_depth_mm\": 14.4, \"flipper_length_mm\": 210.0, \"body_mass_g\": 4400.0, \"gender\": \"Female\"}, {\"species\": \"Gentoo\", \"location\": \"Biscoe\", \"bill_length_mm\": 50.1, \"bill_depth_mm\": 15.0, \"flipper_length_mm\": 225.0, \"body_mass_g\": 5000.0, \"gender\": \"Male\"}, {\"species\": \"Gentoo\", \"location\": \"Biscoe\", \"bill_length_mm\": 46.5, \"bill_depth_mm\": 14.4, \"flipper_length_mm\": 217.0, \"body_mass_g\": 4900.0, \"gender\": \"Female\"}, {\"species\": \"Gentoo\", \"location\": \"Biscoe\", \"bill_length_mm\": 45.0, \"bill_depth_mm\": 15.4, \"flipper_length_mm\": 220.0, \"body_mass_g\": 5050.0, \"gender\": \"Male\"}, {\"species\": \"Gentoo\", \"location\": \"Biscoe\", \"bill_length_mm\": 43.8, \"bill_depth_mm\": 13.9, \"flipper_length_mm\": 208.0, \"body_mass_g\": 4300.0, \"gender\": \"Female\"}, {\"species\": \"Gentoo\", \"location\": \"Biscoe\", \"bill_length_mm\": 45.5, \"bill_depth_mm\": 15.0, \"flipper_length_mm\": 220.0, \"body_mass_g\": 5000.0, \"gender\": \"Male\"}, {\"species\": \"Gentoo\", \"location\": \"Biscoe\", \"bill_length_mm\": 43.2, \"bill_depth_mm\": 14.5, \"flipper_length_mm\": 208.0, \"body_mass_g\": 4450.0, \"gender\": \"Female\"}, {\"species\": \"Gentoo\", \"location\": \"Biscoe\", \"bill_length_mm\": 50.4, \"bill_depth_mm\": 15.3, \"flipper_length_mm\": 224.0, \"body_mass_g\": 5550.0, \"gender\": \"Male\"}, {\"species\": \"Gentoo\", \"location\": \"Biscoe\", \"bill_length_mm\": 45.3, \"bill_depth_mm\": 13.8, \"flipper_length_mm\": 208.0, \"body_mass_g\": 4200.0, \"gender\": \"Female\"}, {\"species\": \"Gentoo\", \"location\": \"Biscoe\", \"bill_length_mm\": 46.2, \"bill_depth_mm\": 14.9, \"flipper_length_mm\": 221.0, \"body_mass_g\": 5300.0, \"gender\": \"Male\"}, {\"species\": \"Gentoo\", \"location\": \"Biscoe\", \"bill_length_mm\": 45.7, \"bill_depth_mm\": 13.9, \"flipper_length_mm\": 214.0, \"body_mass_g\": 4400.0, \"gender\": \"Female\"}, {\"species\": \"Gentoo\", \"location\": \"Biscoe\", \"bill_length_mm\": 54.3, \"bill_depth_mm\": 15.7, \"flipper_length_mm\": 231.0, \"body_mass_g\": 5650.0, \"gender\": \"Male\"}, {\"species\": \"Gentoo\", \"location\": \"Biscoe\", \"bill_length_mm\": 45.8, \"bill_depth_mm\": 14.2, \"flipper_length_mm\": 219.0, \"body_mass_g\": 4700.0, \"gender\": \"Female\"}, {\"species\": \"Gentoo\", \"location\": \"Biscoe\", \"bill_length_mm\": 49.8, \"bill_depth_mm\": 16.8, \"flipper_length_mm\": 230.0, \"body_mass_g\": 5700.0, \"gender\": \"Male\"}, {\"species\": \"Gentoo\", \"location\": \"Biscoe\", \"bill_length_mm\": 49.5, \"bill_depth_mm\": 16.2, \"flipper_length_mm\": 229.0, \"body_mass_g\": 5800.0, \"gender\": \"Male\"}, {\"species\": \"Gentoo\", \"location\": \"Biscoe\", \"bill_length_mm\": 43.5, \"bill_depth_mm\": 14.2, \"flipper_length_mm\": 220.0, \"body_mass_g\": 4700.0, \"gender\": \"Female\"}, {\"species\": \"Gentoo\", \"location\": \"Biscoe\", \"bill_length_mm\": 50.7, \"bill_depth_mm\": 15.0, \"flipper_length_mm\": 223.0, \"body_mass_g\": 5550.0, \"gender\": \"Male\"}, {\"species\": \"Gentoo\", \"location\": \"Biscoe\", \"bill_length_mm\": 47.7, \"bill_depth_mm\": 15.0, \"flipper_length_mm\": 216.0, \"body_mass_g\": 4750.0, \"gender\": \"Female\"}, {\"species\": \"Gentoo\", \"location\": \"Biscoe\", \"bill_length_mm\": 46.4, \"bill_depth_mm\": 15.6, \"flipper_length_mm\": 221.0, \"body_mass_g\": 5000.0, \"gender\": \"Male\"}, {\"species\": \"Gentoo\", \"location\": \"Biscoe\", \"bill_length_mm\": 48.2, \"bill_depth_mm\": 15.6, \"flipper_length_mm\": 221.0, \"body_mass_g\": 5100.0, \"gender\": \"Male\"}, {\"species\": \"Gentoo\", \"location\": \"Biscoe\", \"bill_length_mm\": 46.5, \"bill_depth_mm\": 14.8, \"flipper_length_mm\": 217.0, \"body_mass_g\": 5200.0, \"gender\": \"Female\"}, {\"species\": \"Gentoo\", \"location\": \"Biscoe\", \"bill_length_mm\": 46.4, \"bill_depth_mm\": 15.0, \"flipper_length_mm\": 216.0, \"body_mass_g\": 4700.0, \"gender\": \"Female\"}, {\"species\": \"Gentoo\", \"location\": \"Biscoe\", \"bill_length_mm\": 48.6, \"bill_depth_mm\": 16.0, \"flipper_length_mm\": 230.0, \"body_mass_g\": 5800.0, \"gender\": \"Male\"}, {\"species\": \"Gentoo\", \"location\": \"Biscoe\", \"bill_length_mm\": 47.5, \"bill_depth_mm\": 14.2, \"flipper_length_mm\": 209.0, \"body_mass_g\": 4600.0, \"gender\": \"Female\"}, {\"species\": \"Gentoo\", \"location\": \"Biscoe\", \"bill_length_mm\": 51.1, \"bill_depth_mm\": 16.3, \"flipper_length_mm\": 220.0, \"body_mass_g\": 6000.0, \"gender\": \"Male\"}, {\"species\": \"Gentoo\", \"location\": \"Biscoe\", \"bill_length_mm\": 45.2, \"bill_depth_mm\": 13.8, \"flipper_length_mm\": 215.0, \"body_mass_g\": 4750.0, \"gender\": \"Female\"}, {\"species\": \"Gentoo\", \"location\": \"Biscoe\", \"bill_length_mm\": 45.2, \"bill_depth_mm\": 16.4, \"flipper_length_mm\": 223.0, \"body_mass_g\": 5950.0, \"gender\": \"Male\"}, {\"species\": \"Gentoo\", \"location\": \"Biscoe\", \"bill_length_mm\": 49.1, \"bill_depth_mm\": 14.5, \"flipper_length_mm\": 212.0, \"body_mass_g\": 4625.0, \"gender\": \"Female\"}, {\"species\": \"Gentoo\", \"location\": \"Biscoe\", \"bill_length_mm\": 52.5, \"bill_depth_mm\": 15.6, \"flipper_length_mm\": 221.0, \"body_mass_g\": 5450.0, \"gender\": \"Male\"}, {\"species\": \"Gentoo\", \"location\": \"Biscoe\", \"bill_length_mm\": 47.4, \"bill_depth_mm\": 14.6, \"flipper_length_mm\": 212.0, \"body_mass_g\": 4725.0, \"gender\": \"Female\"}, {\"species\": \"Gentoo\", \"location\": \"Biscoe\", \"bill_length_mm\": 50.0, \"bill_depth_mm\": 15.9, \"flipper_length_mm\": 224.0, \"body_mass_g\": 5350.0, \"gender\": \"Male\"}, {\"species\": \"Gentoo\", \"location\": \"Biscoe\", \"bill_length_mm\": 44.9, \"bill_depth_mm\": 13.8, \"flipper_length_mm\": 212.0, \"body_mass_g\": 4750.0, \"gender\": \"Female\"}, {\"species\": \"Gentoo\", \"location\": \"Biscoe\", \"bill_length_mm\": 50.8, \"bill_depth_mm\": 17.3, \"flipper_length_mm\": 228.0, \"body_mass_g\": 5600.0, \"gender\": \"Male\"}, {\"species\": \"Gentoo\", \"location\": \"Biscoe\", \"bill_length_mm\": 43.4, \"bill_depth_mm\": 14.4, \"flipper_length_mm\": 218.0, \"body_mass_g\": 4600.0, \"gender\": \"Female\"}, {\"species\": \"Gentoo\", \"location\": \"Biscoe\", \"bill_length_mm\": 51.3, \"bill_depth_mm\": 14.2, \"flipper_length_mm\": 218.0, \"body_mass_g\": 5300.0, \"gender\": \"Male\"}, {\"species\": \"Gentoo\", \"location\": \"Biscoe\", \"bill_length_mm\": 47.5, \"bill_depth_mm\": 14.0, \"flipper_length_mm\": 212.0, \"body_mass_g\": 4875.0, \"gender\": \"Female\"}, {\"species\": \"Gentoo\", \"location\": \"Biscoe\", \"bill_length_mm\": 52.1, \"bill_depth_mm\": 17.0, \"flipper_length_mm\": 230.0, \"body_mass_g\": 5550.0, \"gender\": \"Male\"}, {\"species\": \"Gentoo\", \"location\": \"Biscoe\", \"bill_length_mm\": 47.5, \"bill_depth_mm\": 15.0, \"flipper_length_mm\": 218.0, \"body_mass_g\": 4950.0, \"gender\": \"Female\"}, {\"species\": \"Gentoo\", \"location\": \"Biscoe\", \"bill_length_mm\": 52.2, \"bill_depth_mm\": 17.1, \"flipper_length_mm\": 228.0, \"body_mass_g\": 5400.0, \"gender\": \"Male\"}, {\"species\": \"Gentoo\", \"location\": \"Biscoe\", \"bill_length_mm\": 45.5, \"bill_depth_mm\": 14.5, \"flipper_length_mm\": 212.0, \"body_mass_g\": 4750.0, \"gender\": \"Female\"}, {\"species\": \"Gentoo\", \"location\": \"Biscoe\", \"bill_length_mm\": 49.5, \"bill_depth_mm\": 16.1, \"flipper_length_mm\": 224.0, \"body_mass_g\": 5650.0, \"gender\": \"Male\"}, {\"species\": \"Gentoo\", \"location\": \"Biscoe\", \"bill_length_mm\": 44.5, \"bill_depth_mm\": 14.7, \"flipper_length_mm\": 214.0, \"body_mass_g\": 4850.0, \"gender\": \"Female\"}, {\"species\": \"Gentoo\", \"location\": \"Biscoe\", \"bill_length_mm\": 50.8, \"bill_depth_mm\": 15.7, \"flipper_length_mm\": 226.0, \"body_mass_g\": 5200.0, \"gender\": \"Male\"}, {\"species\": \"Gentoo\", \"location\": \"Biscoe\", \"bill_length_mm\": 49.4, \"bill_depth_mm\": 15.8, \"flipper_length_mm\": 216.0, \"body_mass_g\": 4925.0, \"gender\": \"Male\"}, {\"species\": \"Gentoo\", \"location\": \"Biscoe\", \"bill_length_mm\": 46.9, \"bill_depth_mm\": 14.6, \"flipper_length_mm\": 222.0, \"body_mass_g\": 4875.0, \"gender\": \"Female\"}, {\"species\": \"Gentoo\", \"location\": \"Biscoe\", \"bill_length_mm\": 48.4, \"bill_depth_mm\": 14.4, \"flipper_length_mm\": 203.0, \"body_mass_g\": 4625.0, \"gender\": \"Female\"}, {\"species\": \"Gentoo\", \"location\": \"Biscoe\", \"bill_length_mm\": 51.1, \"bill_depth_mm\": 16.5, \"flipper_length_mm\": 225.0, \"body_mass_g\": 5250.0, \"gender\": \"Male\"}, {\"species\": \"Gentoo\", \"location\": \"Biscoe\", \"bill_length_mm\": 48.5, \"bill_depth_mm\": 15.0, \"flipper_length_mm\": 219.0, \"body_mass_g\": 4850.0, \"gender\": \"Female\"}, {\"species\": \"Gentoo\", \"location\": \"Biscoe\", \"bill_length_mm\": 55.9, \"bill_depth_mm\": 17.0, \"flipper_length_mm\": 228.0, \"body_mass_g\": 5600.0, \"gender\": \"Male\"}, {\"species\": \"Gentoo\", \"location\": \"Biscoe\", \"bill_length_mm\": 47.2, \"bill_depth_mm\": 15.5, \"flipper_length_mm\": 215.0, \"body_mass_g\": 4975.0, \"gender\": \"Female\"}, {\"species\": \"Gentoo\", \"location\": \"Biscoe\", \"bill_length_mm\": 49.1, \"bill_depth_mm\": 15.0, \"flipper_length_mm\": 228.0, \"body_mass_g\": 5500.0, \"gender\": \"Male\"}, {\"species\": \"Gentoo\", \"location\": \"Biscoe\", \"bill_length_mm\": 46.8, \"bill_depth_mm\": 16.1, \"flipper_length_mm\": 215.0, \"body_mass_g\": 5500.0, \"gender\": \"Male\"}, {\"species\": \"Gentoo\", \"location\": \"Biscoe\", \"bill_length_mm\": 41.7, \"bill_depth_mm\": 14.7, \"flipper_length_mm\": 210.0, \"body_mass_g\": 4700.0, \"gender\": \"Female\"}, {\"species\": \"Gentoo\", \"location\": \"Biscoe\", \"bill_length_mm\": 53.4, \"bill_depth_mm\": 15.8, \"flipper_length_mm\": 219.0, \"body_mass_g\": 5500.0, \"gender\": \"Male\"}, {\"species\": \"Gentoo\", \"location\": \"Biscoe\", \"bill_length_mm\": 43.3, \"bill_depth_mm\": 14.0, \"flipper_length_mm\": 208.0, \"body_mass_g\": 4575.0, \"gender\": \"Female\"}, {\"species\": \"Gentoo\", \"location\": \"Biscoe\", \"bill_length_mm\": 48.1, \"bill_depth_mm\": 15.1, \"flipper_length_mm\": 209.0, \"body_mass_g\": 5500.0, \"gender\": \"Male\"}, {\"species\": \"Gentoo\", \"location\": \"Biscoe\", \"bill_length_mm\": 50.5, \"bill_depth_mm\": 15.2, \"flipper_length_mm\": 216.0, \"body_mass_g\": 5000.0, \"gender\": \"Female\"}, {\"species\": \"Gentoo\", \"location\": \"Biscoe\", \"bill_length_mm\": 49.8, \"bill_depth_mm\": 15.9, \"flipper_length_mm\": 229.0, \"body_mass_g\": 5950.0, \"gender\": \"Male\"}, {\"species\": \"Gentoo\", \"location\": \"Biscoe\", \"bill_length_mm\": 43.5, \"bill_depth_mm\": 15.2, \"flipper_length_mm\": 213.0, \"body_mass_g\": 4650.0, \"gender\": \"Female\"}, {\"species\": \"Gentoo\", \"location\": \"Biscoe\", \"bill_length_mm\": 51.5, \"bill_depth_mm\": 16.3, \"flipper_length_mm\": 230.0, \"body_mass_g\": 5500.0, \"gender\": \"Male\"}, {\"species\": \"Gentoo\", \"location\": \"Biscoe\", \"bill_length_mm\": 46.2, \"bill_depth_mm\": 14.1, \"flipper_length_mm\": 217.0, \"body_mass_g\": 4375.0, \"gender\": \"Female\"}, {\"species\": \"Gentoo\", \"location\": \"Biscoe\", \"bill_length_mm\": 55.1, \"bill_depth_mm\": 16.0, \"flipper_length_mm\": 230.0, \"body_mass_g\": 5850.0, \"gender\": \"Male\"}, {\"species\": \"Gentoo\", \"location\": \"Biscoe\", \"bill_length_mm\": 48.8, \"bill_depth_mm\": 16.2, \"flipper_length_mm\": 222.0, \"body_mass_g\": 6000.0, \"gender\": \"Male\"}, {\"species\": \"Gentoo\", \"location\": \"Biscoe\", \"bill_length_mm\": 47.2, \"bill_depth_mm\": 13.7, \"flipper_length_mm\": 214.0, \"body_mass_g\": 4925.0, \"gender\": \"Female\"}, {\"species\": \"Gentoo\", \"location\": \"Biscoe\", \"bill_length_mm\": 46.8, \"bill_depth_mm\": 14.3, \"flipper_length_mm\": 215.0, \"body_mass_g\": 4850.0, \"gender\": \"Female\"}, {\"species\": \"Gentoo\", \"location\": \"Biscoe\", \"bill_length_mm\": 50.4, \"bill_depth_mm\": 15.7, \"flipper_length_mm\": 222.0, \"body_mass_g\": 5750.0, \"gender\": \"Male\"}, {\"species\": \"Gentoo\", \"location\": \"Biscoe\", \"bill_length_mm\": 45.2, \"bill_depth_mm\": 14.8, \"flipper_length_mm\": 212.0, \"body_mass_g\": 5200.0, \"gender\": \"Female\"}, {\"species\": \"Gentoo\", \"location\": \"Biscoe\", \"bill_length_mm\": 49.9, \"bill_depth_mm\": 16.1, \"flipper_length_mm\": 213.0, \"body_mass_g\": 5400.0, \"gender\": \"Male\"}]}}, {\"mode\": \"vega-lite\"});\n",
       "</script>"
      ],
      "text/plain": [
       "alt.Chart(...)"
      ]
     },
     "execution_count": 36,
     "metadata": {},
     "output_type": "execute_result"
    }
   ],
   "source": [
    "alt.Chart(df).mark_circle().encode(\n",
    "    x=alt.X(\"bill_length_mm\", scale=alt.Scale(domain=(30,60))),\n",
    "    y=alt.Y(\"flipper_length_mm\", scale=alt.Scale(domain=(170,240))),\n",
    "    color=\"species:N\",\n",
    "    column=\"gender\"\n",
    ")"
   ]
  },
  {
   "cell_type": "markdown",
   "metadata": {
    "cell_id": "db474c9c6aed4c50934f8ff326a42830",
    "deepnote_cell_type": "markdown"
   },
   "source": [
    "* Assume you want to compare flipper length.  Would it make more sense to have the sub-charts appear in the same row or the same column?"
   ]
  },
  {
   "cell_type": "markdown",
   "metadata": {
    "cell_id": "3e80872a578641b1b0c34ec9b700ada4",
    "deepnote_cell_type": "markdown"
   },
   "source": [
    "## Time to work on Worksheets 5-6\n",
    "\n",
    "* Yufei is here to help.\n",
    "\n",
    "If you're already finished with the worksheets, try to redo our dropping missing values rows example using the following.  (You'll need to re-import the data, so the missing values are back.)\n",
    "* Using the pandas DataFrame method `dropna` and a suitable `axis` argument.  (This is the best approach.)\n",
    "* Using the pandas DataFrame method `apply`, a suitable `axis` argument, and a function which takes as input a row and as output returns `True` if the row has any missing values.  (This isn't the \"right\" approach for dropping missing values, but `apply` can be used in a wide variety of contexts.  We will study `apply` maybe as soon as Week 4.)"
   ]
  }
 ],
 "metadata": {
  "deepnote": {},
  "deepnote_execution_queue": [],
  "deepnote_notebook_id": "d7726e1a4d2e47f19ed73e614f258d8b",
  "deepnote_persisted_session": {
   "createdAt": "2023-04-21T20:50:54.262Z"
  },
  "kernelspec": {
   "display_name": "Python 3 (ipykernel)",
   "language": "python",
   "name": "python3"
  },
  "language_info": {
   "codemirror_mode": {
    "name": "ipython",
    "version": 3
   },
   "file_extension": ".py",
   "mimetype": "text/x-python",
   "name": "python",
   "nbconvert_exporter": "python",
   "pygments_lexer": "ipython3",
   "version": "3.9.16"
  }
 },
 "nbformat": 4,
 "nbformat_minor": 4
}
