{
 "cells": [
  {
   "cell_type": "markdown",
   "metadata": {
    "cell_id": "a815849a270d4f4ebaa804f26dc5dc01",
    "deepnote_cell_type": "markdown",
    "tags": []
   },
   "source": [
    "# Predicting Match/Map Outcomes in LAN versus Online Play Using Player Statistics in Professional Counter-Strike\n",
    "\n",
    "Author: Andre Ngo\n",
    "\n",
    "Email: 0andrengo@gmail.com (personal) and ango14@uci.edu (school)\n",
    "\n",
    "Course Project, UC Irvine, Math 10, S23"
   ]
  },
  {
   "cell_type": "markdown",
   "metadata": {
    "cell_id": "8c1eda861a4c4077a80b591f60d566ea",
    "deepnote_cell_type": "markdown",
    "tags": []
   },
   "source": [
    "## Introduction\n",
    "\n",
    "I intend to explore how individual player performances affect the probability of winning a singular map or best-of-three series of maps in Counter Strike, as well as predicting their end-of-map rating using their basic scoreboard statistics. These predicitions will be separated in various ways, such as for LAN (in-person) vs online play and player role, and compared with each other."
   ]
  },
  {
   "cell_type": "markdown",
   "metadata": {
    "cell_id": "a446087652774c789a979d0f869b687b",
    "deepnote_cell_type": "markdown",
    "tags": []
   },
   "source": [
    "## The Dataset\n",
    "\n",
    "This dataset was taken from [Kaggle](https://www.kaggle.com/datasets/nafisbarizki/csgo-top-tier-match-jan-2020-dec-2022), scraped from [HLTV.org](https://hltv.org) by user Nafis Barzki. It contains match, tournament, and player data from January of 2020 until December of 2022, filtering exclusively for top-tier play. HLTV is the premier website for \"Counter-Strike\" news and statistics, with match, tournament, and player data from all the way to the beginning of the current iteration of Counter-Strike in 2012. One of HLTV's main propritery features are their [\"HLTV Ranking 2.0\"](https://www.hltv.org/news/20695/introducing-rating-20)- a metric used to condense a player's in-game performance into a single number. The formula for this rating was kept a secret, but eventually [reverse engineered](https://flashed.gg/posts/reverse-engineering-hltv-rating/) by a user named \"Dave.\" This rating will be one of the most important variables we will be exploring within this analysis."
   ]
  },
  {
   "cell_type": "code",
   "execution_count": 32,
   "metadata": {
    "cell_id": "064ec95c0d3f4d1e9088277800d60bdd",
    "deepnote_cell_type": "code",
    "deepnote_to_be_reexecuted": false,
    "execution_millis": 105,
    "execution_start": 1686982755374,
    "source_hash": "e38ea4a7"
   },
   "outputs": [],
   "source": [
    "import pandas as pd\n",
    "import numpy as np\n",
    "import altair as alt\n",
    "from sklearn.neighbors import KNeighborsClassifier\n",
    "from sklearn.model_selection import train_test_split\n",
    "from sklearn.tree import DecisionTreeClassifier\n",
    "from sklearn.ensemble import RandomForestClassifier"
   ]
  },
  {
   "cell_type": "code",
   "execution_count": 2,
   "metadata": {
    "cell_id": "3eff8538fa244cd7b44c04952b7249bc",
    "deepnote_cell_type": "code",
    "deepnote_to_be_reexecuted": false,
    "execution_millis": 318,
    "execution_start": 1686982035638,
    "source_hash": "6761757f"
   },
   "outputs": [],
   "source": [
    "df = pd.read_csv(\"hltv_matches.csv\")"
   ]
  },
  {
   "cell_type": "markdown",
   "metadata": {
    "cell_id": "fbd33ffd266c42f89b68fd04effb4a80",
    "deepnote_cell_type": "markdown"
   },
   "source": [
    "### Cleaning and Splitting the Dataset by LAN versus Online\n",
    "\n",
    "The first order of business is splitting the dataset into two, this would ideally be done by the running dates or playing dates of tournemtns or matches respectively, but this dataset unfortunately does not contain any date columns. Therefore, we will instead use the name of the event. This also allows for the oppertunity to only use tier-1 events in our datset, as this dataframe, although filtering for \"top tier\" tournaments only, also allows for tier-2 tournaments."
   ]
  },
  {
   "cell_type": "code",
   "execution_count": 3,
   "metadata": {
    "cell_id": "e01e0f33b7bb424ba8081a3abcdd81a4",
    "deepnote_cell_type": "code",
    "deepnote_to_be_reexecuted": false,
    "execution_millis": 7,
    "execution_start": 1686982035969,
    "source_hash": "8474cdc"
   },
   "outputs": [],
   "source": [
    "df[\"bo_won\"] = df[\"bo_won\"].astype(\"bool\")"
   ]
  },
  {
   "cell_type": "markdown",
   "metadata": {
    "cell_id": "eb8ed5a2c9174aa9b53e312bf7ef4d8a",
    "deepnote_cell_type": "markdown"
   },
   "source": [
    "A little bit of cleanup due to a scraping error, likely."
   ]
  },
  {
   "cell_type": "markdown",
   "metadata": {
    "cell_id": "52e3dea677da456d81d2ef028c0e5536",
    "deepnote_cell_type": "markdown"
   },
   "source": [
    "#### Online Events\n",
    "\n",
    "Using HLTV's built-in [filters](https://www.hltv.org/events/archive?startDate=2020-01-01&endDate=2021-12-31&eventType=ONLINE&prizeMin=200000&prizeMax=2000000), sorting for online events, from 2020-01-01 until 2021-12-31 (considered the \"online era\"), with a minimum prize pool of $200,000, we can get the names of some of the events were are looking for. Using the `.str.contains()` method, we can also get matches from the qualifier for these events, which would otherwise be skipped since they award qualification to the main event instead of prize money."
   ]
  },
  {
   "cell_type": "code",
   "execution_count": 4,
   "metadata": {
    "cell_id": "3bce45e34a384c3bb62379d4fe260068",
    "deepnote_cell_type": "code",
    "deepnote_to_be_reexecuted": false,
    "execution_millis": 4,
    "execution_start": 1686982035987,
    "source_hash": "fffd284e"
   },
   "outputs": [],
   "source": [
    "online_list = [\n",
    "    \"ESL Pro League Season 11\",\n",
    "    \"Flashpoint 1\",\n",
    "    \"BLAST Premier Spring 2020 Europe Finals\",\n",
    "    \"BLAST Premier Spring 2020 Americas Finals\",\n",
    "    \"ESL One Cologne 2020\",\n",
    "    \"ESL Pro League Season 12\",\n",
    "    \"Flashpoint 2\",\n",
    "    \"BLAST Premier Fall 2020 Finals\",\n",
    "    \"IEM Global Challenge 2020\",\n",
    "    \"BLAST Premier Global Final 2020\",\n",
    "    \"cs_summit 7\",\n",
    "    \"IEM Katowice 2021\",\n",
    "    \"ESL Pro League Season 13\",\n",
    "    \"Funspark ULTI 2020 Europe Final\",\n",
    "    \"Dreamhack Masters Spring 2021\",\n",
    "    \"IEM Summer 2021\",\n",
    "    \"BLAST Premier Spring Final 2021\",\n",
    "    \"ESL Pro League Season 14\"\n",
    "]"
   ]
  },
  {
   "cell_type": "code",
   "execution_count": 5,
   "metadata": {
    "cell_id": "ecc300f51b194d0d90c3161284a4c8f6",
    "deepnote_cell_type": "code",
    "deepnote_to_be_reexecuted": false,
    "execution_millis": 145,
    "execution_start": 1686982035994,
    "source_hash": "efe2073d"
   },
   "outputs": [],
   "source": [
    "df_online = df[df[\"event\"].str.contains(\"|\".join(online_list)) & ~df[\"event\"].str.contains(\"Qualifier|Conference\")]"
   ]
  },
  {
   "cell_type": "markdown",
   "metadata": {
    "cell_id": "3ed1e02bddd34e5d89a30094295cdd24",
    "deepnote_cell_type": "markdown"
   },
   "source": [
    "Weeding out lower-level competition which use the words \"qualifier\" or \"conference\" as they would pass through `lan_list` while not being top tier events."
   ]
  },
  {
   "cell_type": "code",
   "execution_count": 6,
   "metadata": {
    "cell_id": "f443a7727fe04ad2aa985741704e649a",
    "deepnote_cell_type": "code",
    "deepnote_to_be_reexecuted": false,
    "execution_millis": 58,
    "execution_start": 1686982036133,
    "source_hash": "356dfbe1"
   },
   "outputs": [
    {
     "data": {
      "text/plain": [
       "array(['BLAST Premier Spring 2020 Americas Finals',\n",
       "       'BLAST Premier Spring 2020 Europe Finals',\n",
       "       'ESL Pro League Season 11 North America', 'Flashpoint 1',\n",
       "       'ESL Pro League Season 11 Europe', 'IEM Global Challenge 2020',\n",
       "       'BLAST Premier Fall 2020 Finals', 'Flashpoint 2',\n",
       "       'ESL Pro League Season 12 North America',\n",
       "       'ESL Pro League Season 12 Europe', 'ESL One Cologne 2020 Europe',\n",
       "       'ESL One Cologne 2020 North America',\n",
       "       'Funspark ULTI 2020 Europe Final', 'ESL Pro League Season 13',\n",
       "       'IEM Katowice 2021', 'IEM Katowice 2021 Play-In', 'cs_summit 7',\n",
       "       'BLAST Premier Global Final 2020', 'ESL Pro League Season 14',\n",
       "       'BLAST Premier Spring Final 2021', 'IEM Summer 2021'], dtype=object)"
      ]
     },
     "execution_count": 6,
     "metadata": {},
     "output_type": "execute_result"
    }
   ],
   "source": [
    "df_online[\"event\"].unique()"
   ]
  },
  {
   "cell_type": "markdown",
   "metadata": {
    "cell_id": "dd92f23df35f4033b0b39fd189061e28",
    "deepnote_cell_type": "markdown"
   },
   "source": [
    "This allows me to make sure that all of the events in this new dataframe are all what spectators would consider tier 1 events."
   ]
  },
  {
   "cell_type": "markdown",
   "metadata": {
    "cell_id": "7da92f1d84584594a2e293551975b0c9",
    "deepnote_cell_type": "markdown"
   },
   "source": [
    "#### International LANs and Majors\n",
    "\n",
    "International LANs are tournaments in which teams from around the world fly into once location to compete. Majors are the pinnicale of \"Counter-Strike\" competition and the marquee events of the year, usually twice a year. Once again, using HLTV's built-in [filters](https://www.hltv.org/events/archive?startDate=2021-01-01&endDate=2022-12-31&eventType=MAJOR&eventType=INTLLAN&prizeMin=200000&prizeMax=2000000), we sort for for majors and international LANs, from 2021-01-01 until 2022-12-31 (considered \"post-online era\"), with a minimum prize pool of $200,000, we can get the names of some of the events were are looking for. Using the `.str.contains()` method, we can also get matches from the  play-in stages for these events, which would otherwise be skipped for the same reasons as above."
   ]
  },
  {
   "cell_type": "code",
   "execution_count": 7,
   "metadata": {
    "cell_id": "0650fe15fe7f408487054528d26c03f5",
    "deepnote_cell_type": "code",
    "deepnote_to_be_reexecuted": false,
    "execution_millis": 3,
    "execution_start": 1686982036189,
    "source_hash": "a5c43219"
   },
   "outputs": [],
   "source": [
    "lan_list = [\n",
    "    \"IEM Cologne 2021\",\n",
    "    \"PGL Major Stockholm 2021\",\n",
    "    \"V4 Future Sports Festival 2021\",\n",
    "    \"BLAST Premier Fall Final 2021\",\n",
    "    \"IEM Winter 2021\",\n",
    "    \"BLAST Premier World Final 2021\",\n",
    "    \"IEM Katowice 2022\",\n",
    "    \"ESL Pro League Season 15\",\n",
    "    \"PGL Major Antwerp 2022\",\n",
    "    \"IEM Dallas 2022\",\n",
    "    \"Pinicle Cup Championship 2022\",\n",
    "    \"Global Esports Tour Dubai 2022\",\n",
    "    \"BLAST Premier Spring Final 2022\",\n",
    "    \"IEM Cologne 2022\",\n",
    "    \"ESL Pro League Season 16\",\n",
    "    \"IEM Rio Major 2022\",\n",
    "    \"Elisa Masters Espoo 2022\",\n",
    "    \"BLAST Premier Fall Final 2022\",\n",
    "    \"BLAST Premier World Final 2022\"\n",
    "]"
   ]
  },
  {
   "cell_type": "code",
   "execution_count": 8,
   "metadata": {
    "cell_id": "db6d9d2f21854de18023ed147a57b549",
    "deepnote_cell_type": "code",
    "deepnote_to_be_reexecuted": false,
    "execution_millis": 105,
    "execution_start": 1686982036189,
    "source_hash": "fcf59a2"
   },
   "outputs": [],
   "source": [
    "df_lan = df[df[\"event\"].str.contains(\"|\".join(lan_list)) & ~df[\"event\"].str.contains(\"Qualifier|Conference\")]"
   ]
  },
  {
   "cell_type": "markdown",
   "metadata": {
    "cell_id": "3050bd11e75e4a569e066a08d9d1e170",
    "deepnote_cell_type": "markdown"
   },
   "source": [
    "Weeding out lower-level competition which use the words \"qualifier\" or \"conference\" as they would pass through `lan_list` while not being top tier events as well as usually being played online."
   ]
  },
  {
   "cell_type": "code",
   "execution_count": 9,
   "metadata": {
    "cell_id": "8a86107dd894443298283a306cefa6e8",
    "deepnote_cell_type": "code",
    "deepnote_to_be_reexecuted": false,
    "execution_millis": 2,
    "execution_start": 1686982036295,
    "source_hash": "8838e876"
   },
   "outputs": [
    {
     "data": {
      "text/plain": [
       "array(['IEM Cologne 2021', 'IEM Cologne 2021 Play-In',\n",
       "       'BLAST Premier World Final 2021', 'IEM Winter 2021',\n",
       "       'BLAST Premier Fall Final 2021', 'V4 Future Sports Festival 2021',\n",
       "       'V4 Future Sports Festival 2021 Play-In',\n",
       "       'PGL Major Stockholm 2021',\n",
       "       'PGL Major Stockholm 2021 Challengers Stage',\n",
       "       'V4 Future Sports Festival 2021 International Cup',\n",
       "       'PGL Major Antwerp 2022 Europe RMR B',\n",
       "       'PGL Major Antwerp 2022 Europe RMR A',\n",
       "       'PGL Major Antwerp 2022 Americas RMR', 'ESL Pro League Season 15',\n",
       "       'IEM Katowice 2022', 'IEM Katowice 2022 Play-In',\n",
       "       'ESL Pro League Season 16', 'IEM Cologne 2022',\n",
       "       'IEM Cologne 2022 Play-In', 'BLAST Premier Spring Final 2022',\n",
       "       'Global Esports Tour Dubai 2022', 'IEM Dallas 2022',\n",
       "       'PGL Major Antwerp 2022',\n",
       "       'PGL Major Antwerp 2022 Challengers Stage',\n",
       "       'IEM Rio Major 2022 Challengers Stage',\n",
       "       'BLAST Premier Fall Final 2022', 'Elisa Masters Espoo 2022',\n",
       "       'IEM Rio Major 2022', 'BLAST Premier World Final 2022'],\n",
       "      dtype=object)"
      ]
     },
     "execution_count": 9,
     "metadata": {},
     "output_type": "execute_result"
    }
   ],
   "source": [
    "df_lan[\"event\"].unique()"
   ]
  },
  {
   "cell_type": "markdown",
   "metadata": {
    "cell_id": "108791d06b614bda9119b871ab2456f9",
    "deepnote_cell_type": "markdown"
   },
   "source": [
    "## Winrate Correlation\n",
    "\n",
    "Before I try predicting winrates, I'm going to first check the [correlations](https://www.youtube.com/watch?v=-HNeDT2qjcg) of our future inputs. This is done using the performance of every member of the team versus the AWPer role. AWPers are widely considered as the most important role in the game. Usually, they are the star players of the roster and teams will build their stratagies and playstyles around the presence of their own AWPer or the opposing team's AWPer. In short, they're important, but how important? Are they more imporant than the rest of the team?"
   ]
  },
  {
   "cell_type": "code",
   "execution_count": 10,
   "metadata": {
    "cell_id": "f2197f1ad1bb40ab84e28247dab871d8",
    "deepnote_cell_type": "code",
    "deepnote_to_be_reexecuted": false,
    "execution_millis": 3,
    "execution_start": 1686982036309,
    "source_hash": "432f21d8"
   },
   "outputs": [],
   "source": [
    "AWP_list = [\n",
    "    \"s1mple\",\n",
    "    \"ZywOo\",\n",
    "    \"CadiaN\",\n",
    "    \"broky\",\n",
    "    \"m0nesy\",\n",
    "    \"SunPayus\",\n",
    "    \"sh1ro\",\n",
    "    \"oSee\",\n",
    "    \"torzsi\",\n",
    "    \"saffee\",\n",
    "    \"Jame\",\n",
    "    \"headtr1ck\",\n",
    "    \"nicoodoz\",\n",
    "    \"FalleN\",\n",
    "    \"degseter\",\n",
    "    \"hyped\",\n",
    "    \"syrsoN\",\n",
    "    \"hallzerk\",\n",
    "    \"junior\",\n",
    "    \"aliStair\",\n",
    "    \"try\",\n",
    "    \"zevy\",\n",
    "    \"acoR\",\n",
    "    \"kennyS\"\n",
    "]"
   ]
  },
  {
   "cell_type": "markdown",
   "metadata": {
    "cell_id": "64839a61f04a41fc8935668ea5336b9a",
    "deepnote_cell_type": "markdown"
   },
   "source": [
    "Here, I begin by manually creating a list of tier-1 AWPers who played within our given timeframe. This will be used to further split our dataframe."
   ]
  },
  {
   "cell_type": "markdown",
   "metadata": {
    "cell_id": "5648fc112af44c89a22a3221454512db",
    "deepnote_cell_type": "markdown"
   },
   "source": [
    "### Correlation of Winrate Using Statistics of the Whole Team"
   ]
  },
  {
   "cell_type": "code",
   "execution_count": 11,
   "metadata": {
    "cell_id": "f1ffb177ab304ba88582fcb123eadd44",
    "deepnote_cell_type": "code",
    "deepnote_to_be_reexecuted": false,
    "execution_millis": 3,
    "execution_start": 1686982036310,
    "source_hash": "f3158c51"
   },
   "outputs": [],
   "source": [
    "player_stats =[\n",
    "    \"kill_score\",\n",
    "    \"death_score\",\n",
    "    \"kddiff\",\n",
    "    \"adr\",\n",
    "    \"kast\",\n",
    "    \"rating\"\n",
    "]"
   ]
  },
  {
   "cell_type": "code",
   "execution_count": 12,
   "metadata": {
    "cell_id": "a2d654aa60b145f6b0588285580e8653",
    "deepnote_cell_type": "code",
    "deepnote_to_be_reexecuted": false,
    "execution_millis": 23,
    "execution_start": 1686982036315,
    "source_hash": "43d414c4"
   },
   "outputs": [],
   "source": [
    "df_lan_team = df_lan[df_lan[\"player_name\"].str.contains(\"|\".join(AWP_list)) == False]"
   ]
  },
  {
   "cell_type": "code",
   "execution_count": 13,
   "metadata": {
    "cell_id": "515cd400e20d41ada619772433b2bae8",
    "deepnote_cell_type": "code",
    "deepnote_to_be_reexecuted": false,
    "execution_millis": 10,
    "execution_start": 1686982036374,
    "source_hash": "15c6433c"
   },
   "outputs": [],
   "source": [
    "df_online_team = df_online[df_online[\"player_name\"].str.contains(\"|\".join(AWP_list)) == False]"
   ]
  },
  {
   "cell_type": "code",
   "execution_count": 14,
   "metadata": {
    "cell_id": "b94a953b42ee4bd3ad17cb0ca3683c02",
    "deepnote_cell_type": "code",
    "deepnote_to_be_reexecuted": false,
    "execution_millis": 66,
    "execution_start": 1686982036389,
    "source_hash": "c07293bc"
   },
   "outputs": [],
   "source": [
    "lan_map_team = df_lan_team.corr()[\"map_won\"].rename(\"lan_map_team\")\n",
    "lan_series_team = df_lan_team.corr()[\"bo_won\"].rename(\"lan_series_team\")\n",
    "online_map_team = df_online_team.corr()[\"map_won\"].rename(\"online_map_team\")\n",
    "online_series_team = df_online_team.corr()[\"bo_won\"].rename(\"online_series_team\")\n",
    "\n",
    "team_correlation = pd.concat([lan_map_team,lan_series_team,online_map_team,online_series_team], axis=1)"
   ]
  },
  {
   "cell_type": "markdown",
   "metadata": {
    "cell_id": "283a81484f9c4d9a8ccf3f11ddb632e9",
    "deepnote_cell_type": "markdown"
   },
   "source": [
    "#### Aside: Map vs Series Winrate\n",
    "BO3 (Best of three) matches are considered better dicators of team and player performance per-match compared to BO1 (Best of one) matches. There are seven maps teams are able to veto and pick from. If you've been keeping track, I've now separated our data firstly between LAN/Online, AWPer/non-AWPer, and now map vs series. We will find out the significance of map vs series soon."
   ]
  },
  {
   "cell_type": "markdown",
   "metadata": {
    "cell_id": "820cd8c77bfb4238ac99037af91dc33c",
    "deepnote_cell_type": "markdown"
   },
   "source": [
    "### Correlation of Winrate Using Only AWPer Statistics"
   ]
  },
  {
   "cell_type": "code",
   "execution_count": 15,
   "metadata": {
    "cell_id": "06635f8d5a4a424aae2d5f72d4b40b2f",
    "deepnote_cell_type": "code",
    "deepnote_to_be_reexecuted": false,
    "execution_millis": 11,
    "execution_start": 1686982036445,
    "source_hash": "b5c68fef"
   },
   "outputs": [],
   "source": [
    "df_lan_awp = df_lan[df_lan[\"player_name\"].str.contains(\"|\".join(AWP_list))]"
   ]
  },
  {
   "cell_type": "code",
   "execution_count": 16,
   "metadata": {
    "cell_id": "784ca0e110a5468eb0e96ef151fc5f96",
    "deepnote_cell_type": "code",
    "deepnote_to_be_reexecuted": false,
    "execution_millis": 14,
    "execution_start": 1686982036471,
    "source_hash": "84e716c"
   },
   "outputs": [],
   "source": [
    "df_online_awp = df_online[df_online[\"player_name\"].str.contains(\"|\".join(AWP_list))]"
   ]
  },
  {
   "cell_type": "code",
   "execution_count": 17,
   "metadata": {
    "cell_id": "7b1844c484064de6a2169a7762cbf418",
    "deepnote_cell_type": "code",
    "deepnote_to_be_reexecuted": false,
    "execution_millis": 11,
    "execution_start": 1686982036489,
    "source_hash": "b9d2d4c5"
   },
   "outputs": [],
   "source": [
    "lan_map_awp = df_lan_awp.corr()[\"map_won\"].rename(\"lan_map_awp\")\n",
    "lan_series_awp = df_lan_awp.corr()[\"bo_won\"].rename(\"lan_series_awp\")\n",
    "online_map_awp = df_online_awp.corr()[\"map_won\"].rename(\"online_map_awp\")\n",
    "online_series_awp = df_online_awp.corr()[\"bo_won\"].rename(\"online_series_awp\")\n",
    "\n",
    "awp_correlation = pd.concat([lan_map_awp,lan_series_awp, online_map_awp, online_series_awp], axis=1)"
   ]
  },
  {
   "cell_type": "code",
   "execution_count": 18,
   "metadata": {
    "cell_id": "411abe001cbf4693b62100e42d4a6d8d",
    "deepnote_cell_type": "code",
    "deepnote_to_be_reexecuted": false,
    "execution_millis": 4,
    "execution_start": 1686982036505,
    "source_hash": "3e2b2048"
   },
   "outputs": [],
   "source": [
    "t_corr = team_correlation.loc[player_stats].T.copy()\n",
    "t_corr[\"index\"] = t_corr.index"
   ]
  },
  {
   "cell_type": "code",
   "execution_count": 19,
   "metadata": {
    "cell_id": "b6fdcca54e6047f0b3c57b6dd2f2119c",
    "deepnote_cell_type": "code",
    "deepnote_to_be_reexecuted": false,
    "execution_millis": 3,
    "execution_start": 1686982036520,
    "source_hash": "eef53623"
   },
   "outputs": [],
   "source": [
    "a_corr = awp_correlation.loc[player_stats].T.copy()\n",
    "a_corr[\"index\"] = a_corr.index"
   ]
  },
  {
   "cell_type": "code",
   "execution_count": null,
   "metadata": {
    "cell_id": "c0a0fe1a84c7415599629e46dd5b0b47",
    "deepnote_cell_type": "code"
   },
   "outputs": [],
   "source": [
    "Here, I transpose these new dataframes using [.T](https://www.youtube.com/watch?v=6AjYmHLHlpY\n",
    ") to make graphs later."
   ]
  },
  {
   "cell_type": "code",
   "execution_count": 20,
   "metadata": {
    "cell_id": "151c486a3a0d4fc9af3ed2c047dcb4a9",
    "deepnote_cell_type": "code",
    "deepnote_to_be_reexecuted": false,
    "execution_millis": 376,
    "execution_start": 1686982036567,
    "source_hash": "4a85966c"
   },
   "outputs": [
    {
     "data": {
      "text/html": [
       "\n",
       "<div id=\"altair-viz-6cf9d3b931c74c62b361893e0aa6a0fe\"></div>\n",
       "<script type=\"text/javascript\">\n",
       "  var VEGA_DEBUG = (typeof VEGA_DEBUG == \"undefined\") ? {} : VEGA_DEBUG;\n",
       "  (function(spec, embedOpt){\n",
       "    let outputDiv = document.currentScript.previousElementSibling;\n",
       "    if (outputDiv.id !== \"altair-viz-6cf9d3b931c74c62b361893e0aa6a0fe\") {\n",
       "      outputDiv = document.getElementById(\"altair-viz-6cf9d3b931c74c62b361893e0aa6a0fe\");\n",
       "    }\n",
       "    const paths = {\n",
       "      \"vega\": \"https://cdn.jsdelivr.net/npm//vega@5?noext\",\n",
       "      \"vega-lib\": \"https://cdn.jsdelivr.net/npm//vega-lib?noext\",\n",
       "      \"vega-lite\": \"https://cdn.jsdelivr.net/npm//vega-lite@4.17.0?noext\",\n",
       "      \"vega-embed\": \"https://cdn.jsdelivr.net/npm//vega-embed@6?noext\",\n",
       "    };\n",
       "\n",
       "    function maybeLoadScript(lib, version) {\n",
       "      var key = `${lib.replace(\"-\", \"\")}_version`;\n",
       "      return (VEGA_DEBUG[key] == version) ?\n",
       "        Promise.resolve(paths[lib]) :\n",
       "        new Promise(function(resolve, reject) {\n",
       "          var s = document.createElement('script');\n",
       "          document.getElementsByTagName(\"head\")[0].appendChild(s);\n",
       "          s.async = true;\n",
       "          s.onload = () => {\n",
       "            VEGA_DEBUG[key] = version;\n",
       "            return resolve(paths[lib]);\n",
       "          };\n",
       "          s.onerror = () => reject(`Error loading script: ${paths[lib]}`);\n",
       "          s.src = paths[lib];\n",
       "        });\n",
       "    }\n",
       "\n",
       "    function showError(err) {\n",
       "      outputDiv.innerHTML = `<div class=\"error\" style=\"color:red;\">${err}</div>`;\n",
       "      throw err;\n",
       "    }\n",
       "\n",
       "    function displayChart(vegaEmbed) {\n",
       "      vegaEmbed(outputDiv, spec, embedOpt)\n",
       "        .catch(err => showError(`Javascript Error: ${err.message}<br>This usually means there's a typo in your chart specification. See the javascript console for the full traceback.`));\n",
       "    }\n",
       "\n",
       "    if(typeof define === \"function\" && define.amd) {\n",
       "      requirejs.config({paths});\n",
       "      require([\"vega-embed\"], displayChart, err => showError(`Error loading script: ${err.message}`));\n",
       "    } else {\n",
       "      maybeLoadScript(\"vega\", \"5\")\n",
       "        .then(() => maybeLoadScript(\"vega-lite\", \"4.17.0\"))\n",
       "        .then(() => maybeLoadScript(\"vega-embed\", \"6\"))\n",
       "        .catch(showError)\n",
       "        .then(() => displayChart(vegaEmbed));\n",
       "    }\n",
       "  })({\"config\": {\"view\": {\"continuousWidth\": 400, \"continuousHeight\": 300}}, \"layer\": [{\"data\": {\"name\": \"data-4b577b7b42e96ab3be053ef83cef7754\"}, \"mark\": \"bar\", \"encoding\": {\"x\": {\"field\": \"index\", \"type\": \"nominal\"}, \"y\": {\"field\": \"kill_score\", \"type\": \"quantitative\"}}}, {\"data\": {\"name\": \"data-f4428fcace702d49899f02e2c4dc839d\"}, \"mark\": \"bar\", \"encoding\": {\"x\": {\"field\": \"index\", \"type\": \"nominal\"}, \"y\": {\"field\": \"kill_score\", \"type\": \"quantitative\"}}}], \"$schema\": \"https://vega.github.io/schema/vega-lite/v4.17.0.json\", \"datasets\": {\"data-4b577b7b42e96ab3be053ef83cef7754\": [{\"kill_score\": 0.2845639841069159, \"death_score\": -0.43405895367574443, \"kddiff\": 0.5509524976081843, \"adr\": 0.35189960728171094, \"kast\": 0.5455413098467984, \"rating\": 0.5413755350984953, \"index\": \"lan_map_awp\"}, {\"kill_score\": 0.20905545141232887, \"death_score\": -0.2969893541227548, \"kddiff\": 0.3900841622017902, \"adr\": 0.25486485841750683, \"kast\": 0.3848299981595522, \"rating\": 0.38648740245372043, \"index\": \"lan_series_awp\"}, {\"kill_score\": 0.25821402657877024, \"death_score\": -0.4415754287418542, \"kddiff\": 0.5197180601735414, \"adr\": 0.3172811359260142, \"kast\": 0.5436152044951517, \"rating\": 0.5366939624232987, \"index\": \"online_map_awp\"}, {\"kill_score\": 0.18570758883344485, \"death_score\": -0.31795408228964356, \"kddiff\": 0.3740173895824777, \"adr\": 0.23685798222966964, \"kast\": 0.38840180452110634, \"rating\": 0.3815494808089194, \"index\": \"online_series_awp\"}], \"data-f4428fcace702d49899f02e2c4dc839d\": [{\"kill_score\": 0.29156672526537625, \"death_score\": -0.3785935915335922, \"kddiff\": 0.5230165467003531, \"adr\": 0.3299809240841028, \"kast\": 0.5304754572168368, \"rating\": 0.5342025217243069, \"index\": \"lan_map_team\"}, {\"kill_score\": 0.16380443515302434, \"death_score\": -0.24683717985440817, \"kddiff\": 0.3172353326870066, \"adr\": 0.2032025092373086, \"kast\": 0.32775204450388673, \"rating\": 0.33014267568074845, \"index\": \"lan_series_team\"}, {\"kill_score\": 0.2882851432915409, \"death_score\": -0.383355203519815, \"kddiff\": 0.510970885231694, \"adr\": 0.32073676558881137, \"kast\": 0.5245435290372297, \"rating\": 0.5314340791332766, \"index\": \"online_map_team\"}, {\"kill_score\": 0.1880280915196171, \"death_score\": -0.2566525794930526, \"kddiff\": 0.33765681978841083, \"adr\": 0.21384070440125386, \"kast\": 0.3472877198130583, \"rating\": 0.35011973510128563, \"index\": \"online_series_team\"}]}}, {\"mode\": \"vega-lite\"});\n",
       "</script>"
      ],
      "text/plain": [
       "alt.LayerChart(...)"
      ]
     },
     "metadata": {},
     "output_type": "display_data"
    },
    {
     "data": {
      "text/html": [
       "\n",
       "<div id=\"altair-viz-753e068a0cdf4b9691f310f5561cbb65\"></div>\n",
       "<script type=\"text/javascript\">\n",
       "  var VEGA_DEBUG = (typeof VEGA_DEBUG == \"undefined\") ? {} : VEGA_DEBUG;\n",
       "  (function(spec, embedOpt){\n",
       "    let outputDiv = document.currentScript.previousElementSibling;\n",
       "    if (outputDiv.id !== \"altair-viz-753e068a0cdf4b9691f310f5561cbb65\") {\n",
       "      outputDiv = document.getElementById(\"altair-viz-753e068a0cdf4b9691f310f5561cbb65\");\n",
       "    }\n",
       "    const paths = {\n",
       "      \"vega\": \"https://cdn.jsdelivr.net/npm//vega@5?noext\",\n",
       "      \"vega-lib\": \"https://cdn.jsdelivr.net/npm//vega-lib?noext\",\n",
       "      \"vega-lite\": \"https://cdn.jsdelivr.net/npm//vega-lite@4.17.0?noext\",\n",
       "      \"vega-embed\": \"https://cdn.jsdelivr.net/npm//vega-embed@6?noext\",\n",
       "    };\n",
       "\n",
       "    function maybeLoadScript(lib, version) {\n",
       "      var key = `${lib.replace(\"-\", \"\")}_version`;\n",
       "      return (VEGA_DEBUG[key] == version) ?\n",
       "        Promise.resolve(paths[lib]) :\n",
       "        new Promise(function(resolve, reject) {\n",
       "          var s = document.createElement('script');\n",
       "          document.getElementsByTagName(\"head\")[0].appendChild(s);\n",
       "          s.async = true;\n",
       "          s.onload = () => {\n",
       "            VEGA_DEBUG[key] = version;\n",
       "            return resolve(paths[lib]);\n",
       "          };\n",
       "          s.onerror = () => reject(`Error loading script: ${paths[lib]}`);\n",
       "          s.src = paths[lib];\n",
       "        });\n",
       "    }\n",
       "\n",
       "    function showError(err) {\n",
       "      outputDiv.innerHTML = `<div class=\"error\" style=\"color:red;\">${err}</div>`;\n",
       "      throw err;\n",
       "    }\n",
       "\n",
       "    function displayChart(vegaEmbed) {\n",
       "      vegaEmbed(outputDiv, spec, embedOpt)\n",
       "        .catch(err => showError(`Javascript Error: ${err.message}<br>This usually means there's a typo in your chart specification. See the javascript console for the full traceback.`));\n",
       "    }\n",
       "\n",
       "    if(typeof define === \"function\" && define.amd) {\n",
       "      requirejs.config({paths});\n",
       "      require([\"vega-embed\"], displayChart, err => showError(`Error loading script: ${err.message}`));\n",
       "    } else {\n",
       "      maybeLoadScript(\"vega\", \"5\")\n",
       "        .then(() => maybeLoadScript(\"vega-lite\", \"4.17.0\"))\n",
       "        .then(() => maybeLoadScript(\"vega-embed\", \"6\"))\n",
       "        .catch(showError)\n",
       "        .then(() => displayChart(vegaEmbed));\n",
       "    }\n",
       "  })({\"config\": {\"view\": {\"continuousWidth\": 400, \"continuousHeight\": 300}}, \"layer\": [{\"data\": {\"name\": \"data-4b577b7b42e96ab3be053ef83cef7754\"}, \"mark\": \"bar\", \"encoding\": {\"x\": {\"field\": \"index\", \"type\": \"nominal\"}, \"y\": {\"field\": \"death_score\", \"type\": \"quantitative\"}}}, {\"data\": {\"name\": \"data-f4428fcace702d49899f02e2c4dc839d\"}, \"mark\": \"bar\", \"encoding\": {\"x\": {\"field\": \"index\", \"type\": \"nominal\"}, \"y\": {\"field\": \"death_score\", \"type\": \"quantitative\"}}}], \"$schema\": \"https://vega.github.io/schema/vega-lite/v4.17.0.json\", \"datasets\": {\"data-4b577b7b42e96ab3be053ef83cef7754\": [{\"kill_score\": 0.2845639841069159, \"death_score\": -0.43405895367574443, \"kddiff\": 0.5509524976081843, \"adr\": 0.35189960728171094, \"kast\": 0.5455413098467984, \"rating\": 0.5413755350984953, \"index\": \"lan_map_awp\"}, {\"kill_score\": 0.20905545141232887, \"death_score\": -0.2969893541227548, \"kddiff\": 0.3900841622017902, \"adr\": 0.25486485841750683, \"kast\": 0.3848299981595522, \"rating\": 0.38648740245372043, \"index\": \"lan_series_awp\"}, {\"kill_score\": 0.25821402657877024, \"death_score\": -0.4415754287418542, \"kddiff\": 0.5197180601735414, \"adr\": 0.3172811359260142, \"kast\": 0.5436152044951517, \"rating\": 0.5366939624232987, \"index\": \"online_map_awp\"}, {\"kill_score\": 0.18570758883344485, \"death_score\": -0.31795408228964356, \"kddiff\": 0.3740173895824777, \"adr\": 0.23685798222966964, \"kast\": 0.38840180452110634, \"rating\": 0.3815494808089194, \"index\": \"online_series_awp\"}], \"data-f4428fcace702d49899f02e2c4dc839d\": [{\"kill_score\": 0.29156672526537625, \"death_score\": -0.3785935915335922, \"kddiff\": 0.5230165467003531, \"adr\": 0.3299809240841028, \"kast\": 0.5304754572168368, \"rating\": 0.5342025217243069, \"index\": \"lan_map_team\"}, {\"kill_score\": 0.16380443515302434, \"death_score\": -0.24683717985440817, \"kddiff\": 0.3172353326870066, \"adr\": 0.2032025092373086, \"kast\": 0.32775204450388673, \"rating\": 0.33014267568074845, \"index\": \"lan_series_team\"}, {\"kill_score\": 0.2882851432915409, \"death_score\": -0.383355203519815, \"kddiff\": 0.510970885231694, \"adr\": 0.32073676558881137, \"kast\": 0.5245435290372297, \"rating\": 0.5314340791332766, \"index\": \"online_map_team\"}, {\"kill_score\": 0.1880280915196171, \"death_score\": -0.2566525794930526, \"kddiff\": 0.33765681978841083, \"adr\": 0.21384070440125386, \"kast\": 0.3472877198130583, \"rating\": 0.35011973510128563, \"index\": \"online_series_team\"}]}}, {\"mode\": \"vega-lite\"});\n",
       "</script>"
      ],
      "text/plain": [
       "alt.LayerChart(...)"
      ]
     },
     "metadata": {},
     "output_type": "display_data"
    },
    {
     "data": {
      "text/html": [
       "\n",
       "<div id=\"altair-viz-6afbe208b5fd4388b4f549bdbd2d37e6\"></div>\n",
       "<script type=\"text/javascript\">\n",
       "  var VEGA_DEBUG = (typeof VEGA_DEBUG == \"undefined\") ? {} : VEGA_DEBUG;\n",
       "  (function(spec, embedOpt){\n",
       "    let outputDiv = document.currentScript.previousElementSibling;\n",
       "    if (outputDiv.id !== \"altair-viz-6afbe208b5fd4388b4f549bdbd2d37e6\") {\n",
       "      outputDiv = document.getElementById(\"altair-viz-6afbe208b5fd4388b4f549bdbd2d37e6\");\n",
       "    }\n",
       "    const paths = {\n",
       "      \"vega\": \"https://cdn.jsdelivr.net/npm//vega@5?noext\",\n",
       "      \"vega-lib\": \"https://cdn.jsdelivr.net/npm//vega-lib?noext\",\n",
       "      \"vega-lite\": \"https://cdn.jsdelivr.net/npm//vega-lite@4.17.0?noext\",\n",
       "      \"vega-embed\": \"https://cdn.jsdelivr.net/npm//vega-embed@6?noext\",\n",
       "    };\n",
       "\n",
       "    function maybeLoadScript(lib, version) {\n",
       "      var key = `${lib.replace(\"-\", \"\")}_version`;\n",
       "      return (VEGA_DEBUG[key] == version) ?\n",
       "        Promise.resolve(paths[lib]) :\n",
       "        new Promise(function(resolve, reject) {\n",
       "          var s = document.createElement('script');\n",
       "          document.getElementsByTagName(\"head\")[0].appendChild(s);\n",
       "          s.async = true;\n",
       "          s.onload = () => {\n",
       "            VEGA_DEBUG[key] = version;\n",
       "            return resolve(paths[lib]);\n",
       "          };\n",
       "          s.onerror = () => reject(`Error loading script: ${paths[lib]}`);\n",
       "          s.src = paths[lib];\n",
       "        });\n",
       "    }\n",
       "\n",
       "    function showError(err) {\n",
       "      outputDiv.innerHTML = `<div class=\"error\" style=\"color:red;\">${err}</div>`;\n",
       "      throw err;\n",
       "    }\n",
       "\n",
       "    function displayChart(vegaEmbed) {\n",
       "      vegaEmbed(outputDiv, spec, embedOpt)\n",
       "        .catch(err => showError(`Javascript Error: ${err.message}<br>This usually means there's a typo in your chart specification. See the javascript console for the full traceback.`));\n",
       "    }\n",
       "\n",
       "    if(typeof define === \"function\" && define.amd) {\n",
       "      requirejs.config({paths});\n",
       "      require([\"vega-embed\"], displayChart, err => showError(`Error loading script: ${err.message}`));\n",
       "    } else {\n",
       "      maybeLoadScript(\"vega\", \"5\")\n",
       "        .then(() => maybeLoadScript(\"vega-lite\", \"4.17.0\"))\n",
       "        .then(() => maybeLoadScript(\"vega-embed\", \"6\"))\n",
       "        .catch(showError)\n",
       "        .then(() => displayChart(vegaEmbed));\n",
       "    }\n",
       "  })({\"config\": {\"view\": {\"continuousWidth\": 400, \"continuousHeight\": 300}}, \"layer\": [{\"data\": {\"name\": \"data-4b577b7b42e96ab3be053ef83cef7754\"}, \"mark\": \"bar\", \"encoding\": {\"x\": {\"field\": \"index\", \"type\": \"nominal\"}, \"y\": {\"field\": \"kddiff\", \"type\": \"quantitative\"}}}, {\"data\": {\"name\": \"data-f4428fcace702d49899f02e2c4dc839d\"}, \"mark\": \"bar\", \"encoding\": {\"x\": {\"field\": \"index\", \"type\": \"nominal\"}, \"y\": {\"field\": \"kddiff\", \"type\": \"quantitative\"}}}], \"$schema\": \"https://vega.github.io/schema/vega-lite/v4.17.0.json\", \"datasets\": {\"data-4b577b7b42e96ab3be053ef83cef7754\": [{\"kill_score\": 0.2845639841069159, \"death_score\": -0.43405895367574443, \"kddiff\": 0.5509524976081843, \"adr\": 0.35189960728171094, \"kast\": 0.5455413098467984, \"rating\": 0.5413755350984953, \"index\": \"lan_map_awp\"}, {\"kill_score\": 0.20905545141232887, \"death_score\": -0.2969893541227548, \"kddiff\": 0.3900841622017902, \"adr\": 0.25486485841750683, \"kast\": 0.3848299981595522, \"rating\": 0.38648740245372043, \"index\": \"lan_series_awp\"}, {\"kill_score\": 0.25821402657877024, \"death_score\": -0.4415754287418542, \"kddiff\": 0.5197180601735414, \"adr\": 0.3172811359260142, \"kast\": 0.5436152044951517, \"rating\": 0.5366939624232987, \"index\": \"online_map_awp\"}, {\"kill_score\": 0.18570758883344485, \"death_score\": -0.31795408228964356, \"kddiff\": 0.3740173895824777, \"adr\": 0.23685798222966964, \"kast\": 0.38840180452110634, \"rating\": 0.3815494808089194, \"index\": \"online_series_awp\"}], \"data-f4428fcace702d49899f02e2c4dc839d\": [{\"kill_score\": 0.29156672526537625, \"death_score\": -0.3785935915335922, \"kddiff\": 0.5230165467003531, \"adr\": 0.3299809240841028, \"kast\": 0.5304754572168368, \"rating\": 0.5342025217243069, \"index\": \"lan_map_team\"}, {\"kill_score\": 0.16380443515302434, \"death_score\": -0.24683717985440817, \"kddiff\": 0.3172353326870066, \"adr\": 0.2032025092373086, \"kast\": 0.32775204450388673, \"rating\": 0.33014267568074845, \"index\": \"lan_series_team\"}, {\"kill_score\": 0.2882851432915409, \"death_score\": -0.383355203519815, \"kddiff\": 0.510970885231694, \"adr\": 0.32073676558881137, \"kast\": 0.5245435290372297, \"rating\": 0.5314340791332766, \"index\": \"online_map_team\"}, {\"kill_score\": 0.1880280915196171, \"death_score\": -0.2566525794930526, \"kddiff\": 0.33765681978841083, \"adr\": 0.21384070440125386, \"kast\": 0.3472877198130583, \"rating\": 0.35011973510128563, \"index\": \"online_series_team\"}]}}, {\"mode\": \"vega-lite\"});\n",
       "</script>"
      ],
      "text/plain": [
       "alt.LayerChart(...)"
      ]
     },
     "metadata": {},
     "output_type": "display_data"
    },
    {
     "data": {
      "text/html": [
       "\n",
       "<div id=\"altair-viz-3c77d7b0c3ce4476acb90e70f7f2bda2\"></div>\n",
       "<script type=\"text/javascript\">\n",
       "  var VEGA_DEBUG = (typeof VEGA_DEBUG == \"undefined\") ? {} : VEGA_DEBUG;\n",
       "  (function(spec, embedOpt){\n",
       "    let outputDiv = document.currentScript.previousElementSibling;\n",
       "    if (outputDiv.id !== \"altair-viz-3c77d7b0c3ce4476acb90e70f7f2bda2\") {\n",
       "      outputDiv = document.getElementById(\"altair-viz-3c77d7b0c3ce4476acb90e70f7f2bda2\");\n",
       "    }\n",
       "    const paths = {\n",
       "      \"vega\": \"https://cdn.jsdelivr.net/npm//vega@5?noext\",\n",
       "      \"vega-lib\": \"https://cdn.jsdelivr.net/npm//vega-lib?noext\",\n",
       "      \"vega-lite\": \"https://cdn.jsdelivr.net/npm//vega-lite@4.17.0?noext\",\n",
       "      \"vega-embed\": \"https://cdn.jsdelivr.net/npm//vega-embed@6?noext\",\n",
       "    };\n",
       "\n",
       "    function maybeLoadScript(lib, version) {\n",
       "      var key = `${lib.replace(\"-\", \"\")}_version`;\n",
       "      return (VEGA_DEBUG[key] == version) ?\n",
       "        Promise.resolve(paths[lib]) :\n",
       "        new Promise(function(resolve, reject) {\n",
       "          var s = document.createElement('script');\n",
       "          document.getElementsByTagName(\"head\")[0].appendChild(s);\n",
       "          s.async = true;\n",
       "          s.onload = () => {\n",
       "            VEGA_DEBUG[key] = version;\n",
       "            return resolve(paths[lib]);\n",
       "          };\n",
       "          s.onerror = () => reject(`Error loading script: ${paths[lib]}`);\n",
       "          s.src = paths[lib];\n",
       "        });\n",
       "    }\n",
       "\n",
       "    function showError(err) {\n",
       "      outputDiv.innerHTML = `<div class=\"error\" style=\"color:red;\">${err}</div>`;\n",
       "      throw err;\n",
       "    }\n",
       "\n",
       "    function displayChart(vegaEmbed) {\n",
       "      vegaEmbed(outputDiv, spec, embedOpt)\n",
       "        .catch(err => showError(`Javascript Error: ${err.message}<br>This usually means there's a typo in your chart specification. See the javascript console for the full traceback.`));\n",
       "    }\n",
       "\n",
       "    if(typeof define === \"function\" && define.amd) {\n",
       "      requirejs.config({paths});\n",
       "      require([\"vega-embed\"], displayChart, err => showError(`Error loading script: ${err.message}`));\n",
       "    } else {\n",
       "      maybeLoadScript(\"vega\", \"5\")\n",
       "        .then(() => maybeLoadScript(\"vega-lite\", \"4.17.0\"))\n",
       "        .then(() => maybeLoadScript(\"vega-embed\", \"6\"))\n",
       "        .catch(showError)\n",
       "        .then(() => displayChart(vegaEmbed));\n",
       "    }\n",
       "  })({\"config\": {\"view\": {\"continuousWidth\": 400, \"continuousHeight\": 300}}, \"layer\": [{\"data\": {\"name\": \"data-4b577b7b42e96ab3be053ef83cef7754\"}, \"mark\": \"bar\", \"encoding\": {\"x\": {\"field\": \"index\", \"type\": \"nominal\"}, \"y\": {\"field\": \"adr\", \"type\": \"quantitative\"}}}, {\"data\": {\"name\": \"data-f4428fcace702d49899f02e2c4dc839d\"}, \"mark\": \"bar\", \"encoding\": {\"x\": {\"field\": \"index\", \"type\": \"nominal\"}, \"y\": {\"field\": \"adr\", \"type\": \"quantitative\"}}}], \"$schema\": \"https://vega.github.io/schema/vega-lite/v4.17.0.json\", \"datasets\": {\"data-4b577b7b42e96ab3be053ef83cef7754\": [{\"kill_score\": 0.2845639841069159, \"death_score\": -0.43405895367574443, \"kddiff\": 0.5509524976081843, \"adr\": 0.35189960728171094, \"kast\": 0.5455413098467984, \"rating\": 0.5413755350984953, \"index\": \"lan_map_awp\"}, {\"kill_score\": 0.20905545141232887, \"death_score\": -0.2969893541227548, \"kddiff\": 0.3900841622017902, \"adr\": 0.25486485841750683, \"kast\": 0.3848299981595522, \"rating\": 0.38648740245372043, \"index\": \"lan_series_awp\"}, {\"kill_score\": 0.25821402657877024, \"death_score\": -0.4415754287418542, \"kddiff\": 0.5197180601735414, \"adr\": 0.3172811359260142, \"kast\": 0.5436152044951517, \"rating\": 0.5366939624232987, \"index\": \"online_map_awp\"}, {\"kill_score\": 0.18570758883344485, \"death_score\": -0.31795408228964356, \"kddiff\": 0.3740173895824777, \"adr\": 0.23685798222966964, \"kast\": 0.38840180452110634, \"rating\": 0.3815494808089194, \"index\": \"online_series_awp\"}], \"data-f4428fcace702d49899f02e2c4dc839d\": [{\"kill_score\": 0.29156672526537625, \"death_score\": -0.3785935915335922, \"kddiff\": 0.5230165467003531, \"adr\": 0.3299809240841028, \"kast\": 0.5304754572168368, \"rating\": 0.5342025217243069, \"index\": \"lan_map_team\"}, {\"kill_score\": 0.16380443515302434, \"death_score\": -0.24683717985440817, \"kddiff\": 0.3172353326870066, \"adr\": 0.2032025092373086, \"kast\": 0.32775204450388673, \"rating\": 0.33014267568074845, \"index\": \"lan_series_team\"}, {\"kill_score\": 0.2882851432915409, \"death_score\": -0.383355203519815, \"kddiff\": 0.510970885231694, \"adr\": 0.32073676558881137, \"kast\": 0.5245435290372297, \"rating\": 0.5314340791332766, \"index\": \"online_map_team\"}, {\"kill_score\": 0.1880280915196171, \"death_score\": -0.2566525794930526, \"kddiff\": 0.33765681978841083, \"adr\": 0.21384070440125386, \"kast\": 0.3472877198130583, \"rating\": 0.35011973510128563, \"index\": \"online_series_team\"}]}}, {\"mode\": \"vega-lite\"});\n",
       "</script>"
      ],
      "text/plain": [
       "alt.LayerChart(...)"
      ]
     },
     "metadata": {},
     "output_type": "display_data"
    },
    {
     "data": {
      "text/html": [
       "\n",
       "<div id=\"altair-viz-6280e170aab74e5699309ce671b7dcd8\"></div>\n",
       "<script type=\"text/javascript\">\n",
       "  var VEGA_DEBUG = (typeof VEGA_DEBUG == \"undefined\") ? {} : VEGA_DEBUG;\n",
       "  (function(spec, embedOpt){\n",
       "    let outputDiv = document.currentScript.previousElementSibling;\n",
       "    if (outputDiv.id !== \"altair-viz-6280e170aab74e5699309ce671b7dcd8\") {\n",
       "      outputDiv = document.getElementById(\"altair-viz-6280e170aab74e5699309ce671b7dcd8\");\n",
       "    }\n",
       "    const paths = {\n",
       "      \"vega\": \"https://cdn.jsdelivr.net/npm//vega@5?noext\",\n",
       "      \"vega-lib\": \"https://cdn.jsdelivr.net/npm//vega-lib?noext\",\n",
       "      \"vega-lite\": \"https://cdn.jsdelivr.net/npm//vega-lite@4.17.0?noext\",\n",
       "      \"vega-embed\": \"https://cdn.jsdelivr.net/npm//vega-embed@6?noext\",\n",
       "    };\n",
       "\n",
       "    function maybeLoadScript(lib, version) {\n",
       "      var key = `${lib.replace(\"-\", \"\")}_version`;\n",
       "      return (VEGA_DEBUG[key] == version) ?\n",
       "        Promise.resolve(paths[lib]) :\n",
       "        new Promise(function(resolve, reject) {\n",
       "          var s = document.createElement('script');\n",
       "          document.getElementsByTagName(\"head\")[0].appendChild(s);\n",
       "          s.async = true;\n",
       "          s.onload = () => {\n",
       "            VEGA_DEBUG[key] = version;\n",
       "            return resolve(paths[lib]);\n",
       "          };\n",
       "          s.onerror = () => reject(`Error loading script: ${paths[lib]}`);\n",
       "          s.src = paths[lib];\n",
       "        });\n",
       "    }\n",
       "\n",
       "    function showError(err) {\n",
       "      outputDiv.innerHTML = `<div class=\"error\" style=\"color:red;\">${err}</div>`;\n",
       "      throw err;\n",
       "    }\n",
       "\n",
       "    function displayChart(vegaEmbed) {\n",
       "      vegaEmbed(outputDiv, spec, embedOpt)\n",
       "        .catch(err => showError(`Javascript Error: ${err.message}<br>This usually means there's a typo in your chart specification. See the javascript console for the full traceback.`));\n",
       "    }\n",
       "\n",
       "    if(typeof define === \"function\" && define.amd) {\n",
       "      requirejs.config({paths});\n",
       "      require([\"vega-embed\"], displayChart, err => showError(`Error loading script: ${err.message}`));\n",
       "    } else {\n",
       "      maybeLoadScript(\"vega\", \"5\")\n",
       "        .then(() => maybeLoadScript(\"vega-lite\", \"4.17.0\"))\n",
       "        .then(() => maybeLoadScript(\"vega-embed\", \"6\"))\n",
       "        .catch(showError)\n",
       "        .then(() => displayChart(vegaEmbed));\n",
       "    }\n",
       "  })({\"config\": {\"view\": {\"continuousWidth\": 400, \"continuousHeight\": 300}}, \"layer\": [{\"data\": {\"name\": \"data-4b577b7b42e96ab3be053ef83cef7754\"}, \"mark\": \"bar\", \"encoding\": {\"x\": {\"field\": \"index\", \"type\": \"nominal\"}, \"y\": {\"field\": \"kast\", \"type\": \"quantitative\"}}}, {\"data\": {\"name\": \"data-f4428fcace702d49899f02e2c4dc839d\"}, \"mark\": \"bar\", \"encoding\": {\"x\": {\"field\": \"index\", \"type\": \"nominal\"}, \"y\": {\"field\": \"kast\", \"type\": \"quantitative\"}}}], \"$schema\": \"https://vega.github.io/schema/vega-lite/v4.17.0.json\", \"datasets\": {\"data-4b577b7b42e96ab3be053ef83cef7754\": [{\"kill_score\": 0.2845639841069159, \"death_score\": -0.43405895367574443, \"kddiff\": 0.5509524976081843, \"adr\": 0.35189960728171094, \"kast\": 0.5455413098467984, \"rating\": 0.5413755350984953, \"index\": \"lan_map_awp\"}, {\"kill_score\": 0.20905545141232887, \"death_score\": -0.2969893541227548, \"kddiff\": 0.3900841622017902, \"adr\": 0.25486485841750683, \"kast\": 0.3848299981595522, \"rating\": 0.38648740245372043, \"index\": \"lan_series_awp\"}, {\"kill_score\": 0.25821402657877024, \"death_score\": -0.4415754287418542, \"kddiff\": 0.5197180601735414, \"adr\": 0.3172811359260142, \"kast\": 0.5436152044951517, \"rating\": 0.5366939624232987, \"index\": \"online_map_awp\"}, {\"kill_score\": 0.18570758883344485, \"death_score\": -0.31795408228964356, \"kddiff\": 0.3740173895824777, \"adr\": 0.23685798222966964, \"kast\": 0.38840180452110634, \"rating\": 0.3815494808089194, \"index\": \"online_series_awp\"}], \"data-f4428fcace702d49899f02e2c4dc839d\": [{\"kill_score\": 0.29156672526537625, \"death_score\": -0.3785935915335922, \"kddiff\": 0.5230165467003531, \"adr\": 0.3299809240841028, \"kast\": 0.5304754572168368, \"rating\": 0.5342025217243069, \"index\": \"lan_map_team\"}, {\"kill_score\": 0.16380443515302434, \"death_score\": -0.24683717985440817, \"kddiff\": 0.3172353326870066, \"adr\": 0.2032025092373086, \"kast\": 0.32775204450388673, \"rating\": 0.33014267568074845, \"index\": \"lan_series_team\"}, {\"kill_score\": 0.2882851432915409, \"death_score\": -0.383355203519815, \"kddiff\": 0.510970885231694, \"adr\": 0.32073676558881137, \"kast\": 0.5245435290372297, \"rating\": 0.5314340791332766, \"index\": \"online_map_team\"}, {\"kill_score\": 0.1880280915196171, \"death_score\": -0.2566525794930526, \"kddiff\": 0.33765681978841083, \"adr\": 0.21384070440125386, \"kast\": 0.3472877198130583, \"rating\": 0.35011973510128563, \"index\": \"online_series_team\"}]}}, {\"mode\": \"vega-lite\"});\n",
       "</script>"
      ],
      "text/plain": [
       "alt.LayerChart(...)"
      ]
     },
     "metadata": {},
     "output_type": "display_data"
    },
    {
     "data": {
      "text/html": [
       "\n",
       "<div id=\"altair-viz-d3bb31511e6147bbba4734ce7641912c\"></div>\n",
       "<script type=\"text/javascript\">\n",
       "  var VEGA_DEBUG = (typeof VEGA_DEBUG == \"undefined\") ? {} : VEGA_DEBUG;\n",
       "  (function(spec, embedOpt){\n",
       "    let outputDiv = document.currentScript.previousElementSibling;\n",
       "    if (outputDiv.id !== \"altair-viz-d3bb31511e6147bbba4734ce7641912c\") {\n",
       "      outputDiv = document.getElementById(\"altair-viz-d3bb31511e6147bbba4734ce7641912c\");\n",
       "    }\n",
       "    const paths = {\n",
       "      \"vega\": \"https://cdn.jsdelivr.net/npm//vega@5?noext\",\n",
       "      \"vega-lib\": \"https://cdn.jsdelivr.net/npm//vega-lib?noext\",\n",
       "      \"vega-lite\": \"https://cdn.jsdelivr.net/npm//vega-lite@4.17.0?noext\",\n",
       "      \"vega-embed\": \"https://cdn.jsdelivr.net/npm//vega-embed@6?noext\",\n",
       "    };\n",
       "\n",
       "    function maybeLoadScript(lib, version) {\n",
       "      var key = `${lib.replace(\"-\", \"\")}_version`;\n",
       "      return (VEGA_DEBUG[key] == version) ?\n",
       "        Promise.resolve(paths[lib]) :\n",
       "        new Promise(function(resolve, reject) {\n",
       "          var s = document.createElement('script');\n",
       "          document.getElementsByTagName(\"head\")[0].appendChild(s);\n",
       "          s.async = true;\n",
       "          s.onload = () => {\n",
       "            VEGA_DEBUG[key] = version;\n",
       "            return resolve(paths[lib]);\n",
       "          };\n",
       "          s.onerror = () => reject(`Error loading script: ${paths[lib]}`);\n",
       "          s.src = paths[lib];\n",
       "        });\n",
       "    }\n",
       "\n",
       "    function showError(err) {\n",
       "      outputDiv.innerHTML = `<div class=\"error\" style=\"color:red;\">${err}</div>`;\n",
       "      throw err;\n",
       "    }\n",
       "\n",
       "    function displayChart(vegaEmbed) {\n",
       "      vegaEmbed(outputDiv, spec, embedOpt)\n",
       "        .catch(err => showError(`Javascript Error: ${err.message}<br>This usually means there's a typo in your chart specification. See the javascript console for the full traceback.`));\n",
       "    }\n",
       "\n",
       "    if(typeof define === \"function\" && define.amd) {\n",
       "      requirejs.config({paths});\n",
       "      require([\"vega-embed\"], displayChart, err => showError(`Error loading script: ${err.message}`));\n",
       "    } else {\n",
       "      maybeLoadScript(\"vega\", \"5\")\n",
       "        .then(() => maybeLoadScript(\"vega-lite\", \"4.17.0\"))\n",
       "        .then(() => maybeLoadScript(\"vega-embed\", \"6\"))\n",
       "        .catch(showError)\n",
       "        .then(() => displayChart(vegaEmbed));\n",
       "    }\n",
       "  })({\"config\": {\"view\": {\"continuousWidth\": 400, \"continuousHeight\": 300}}, \"layer\": [{\"data\": {\"name\": \"data-4b577b7b42e96ab3be053ef83cef7754\"}, \"mark\": \"bar\", \"encoding\": {\"x\": {\"field\": \"index\", \"type\": \"nominal\"}, \"y\": {\"field\": \"rating\", \"type\": \"quantitative\"}}}, {\"data\": {\"name\": \"data-f4428fcace702d49899f02e2c4dc839d\"}, \"mark\": \"bar\", \"encoding\": {\"x\": {\"field\": \"index\", \"type\": \"nominal\"}, \"y\": {\"field\": \"rating\", \"type\": \"quantitative\"}}}], \"$schema\": \"https://vega.github.io/schema/vega-lite/v4.17.0.json\", \"datasets\": {\"data-4b577b7b42e96ab3be053ef83cef7754\": [{\"kill_score\": 0.2845639841069159, \"death_score\": -0.43405895367574443, \"kddiff\": 0.5509524976081843, \"adr\": 0.35189960728171094, \"kast\": 0.5455413098467984, \"rating\": 0.5413755350984953, \"index\": \"lan_map_awp\"}, {\"kill_score\": 0.20905545141232887, \"death_score\": -0.2969893541227548, \"kddiff\": 0.3900841622017902, \"adr\": 0.25486485841750683, \"kast\": 0.3848299981595522, \"rating\": 0.38648740245372043, \"index\": \"lan_series_awp\"}, {\"kill_score\": 0.25821402657877024, \"death_score\": -0.4415754287418542, \"kddiff\": 0.5197180601735414, \"adr\": 0.3172811359260142, \"kast\": 0.5436152044951517, \"rating\": 0.5366939624232987, \"index\": \"online_map_awp\"}, {\"kill_score\": 0.18570758883344485, \"death_score\": -0.31795408228964356, \"kddiff\": 0.3740173895824777, \"adr\": 0.23685798222966964, \"kast\": 0.38840180452110634, \"rating\": 0.3815494808089194, \"index\": \"online_series_awp\"}], \"data-f4428fcace702d49899f02e2c4dc839d\": [{\"kill_score\": 0.29156672526537625, \"death_score\": -0.3785935915335922, \"kddiff\": 0.5230165467003531, \"adr\": 0.3299809240841028, \"kast\": 0.5304754572168368, \"rating\": 0.5342025217243069, \"index\": \"lan_map_team\"}, {\"kill_score\": 0.16380443515302434, \"death_score\": -0.24683717985440817, \"kddiff\": 0.3172353326870066, \"adr\": 0.2032025092373086, \"kast\": 0.32775204450388673, \"rating\": 0.33014267568074845, \"index\": \"lan_series_team\"}, {\"kill_score\": 0.2882851432915409, \"death_score\": -0.383355203519815, \"kddiff\": 0.510970885231694, \"adr\": 0.32073676558881137, \"kast\": 0.5245435290372297, \"rating\": 0.5314340791332766, \"index\": \"online_map_team\"}, {\"kill_score\": 0.1880280915196171, \"death_score\": -0.2566525794930526, \"kddiff\": 0.33765681978841083, \"adr\": 0.21384070440125386, \"kast\": 0.3472877198130583, \"rating\": 0.35011973510128563, \"index\": \"online_series_team\"}]}}, {\"mode\": \"vega-lite\"});\n",
       "</script>"
      ],
      "text/plain": [
       "alt.LayerChart(...)"
      ]
     },
     "metadata": {},
     "output_type": "display_data"
    }
   ],
   "source": [
    "for i in player_stats:\n",
    "    c1 = alt.Chart(a_corr).mark_bar().encode(\n",
    "        x=\"index\",\n",
    "        y=i\n",
    "    )\n",
    "    c2 = alt.Chart(t_corr).mark_bar().encode(\n",
    "        x=\"index\",\n",
    "        y=i\n",
    "    )\n",
    "    (c1+c2).display()"
   ]
  },
  {
   "cell_type": "markdown",
   "metadata": {
    "cell_id": "0ff130191cae458ab7f90321133cee0e",
    "deepnote_cell_type": "markdown"
   },
   "source": [
    "Thusfar, it seems there is no significant difference between LAN and online, but there seems to be even a little bit between map vs series and AWPers and the rest of the team, with AWPers having a slightly higher win correlation in every metric except kill score. Therefore, will will continue forward by using machine learning on AWPers vs the rest of the team, and abandon our LAN vs online angle due to lack of findings.\n",
    "\n",
    "(Small aside: I was originally going to try to make these graphs clearer by creating [double bar graphs](https://stackoverflow.com/questions/43797379/how-to-create-a-grouped-bar-chart-in-altair) using `str.startswith` for LAN/Online and `str.contains` for team/AWP but unfortunately I couldn't find a method despite scouring the internet. I also tried some `.mean` methods/[techniques](https://stackoverflow.com/questions/17712163/pandas-sorting-columns-by-their-mean-value) to try to extract even more information but it quickly became too bloated.)"
   ]
  },
  {
   "cell_type": "markdown",
   "metadata": {
    "cell_id": "23dd29310a1746e59a881bb9cf323ece",
    "deepnote_cell_type": "markdown"
   },
   "source": [
    "## Winrate Prediction\n",
    "\n",
    "Here, we begin the machine learning portion of the project, beginning by splitting our test and train sets. Due to the findings of the previous section, we start by creating two new datasets for our AWP players, as well as one for the rest of the team. The target I have chosen for our machine learning is map wins instead of series wins, as seen by the greater correlation on the graphs as well as my previous aside explaination."
   ]
  },
  {
   "cell_type": "code",
   "execution_count": 50,
   "metadata": {
    "cell_id": "a2ada59f3a3c42e6b47f5f91954c3aeb",
    "deepnote_cell_type": "code",
    "deepnote_to_be_reexecuted": false,
    "execution_millis": 2,
    "execution_start": 1686983659074,
    "source_hash": "a07f99e4"
   },
   "outputs": [],
   "source": [
    "rfc = RandomForestClassifier(n_estimators=200, max_leaf_nodes=5)\n",
    "clf = DecisionTreeClassifier(max_leaf_nodes=5)"
   ]
  },
  {
   "cell_type": "code",
   "execution_count": 21,
   "metadata": {
    "cell_id": "31173f5258c946e49686d0dbd25553d9",
    "deepnote_cell_type": "code",
    "deepnote_to_be_reexecuted": false,
    "execution_millis": 102,
    "execution_start": 1686982036959,
    "source_hash": "c7468b90"
   },
   "outputs": [],
   "source": [
    "df_awpers = df[df[\"player_name\"].str.contains(\"|\".join(AWP_list))]"
   ]
  },
  {
   "cell_type": "markdown",
   "metadata": {
    "cell_id": "321c68c94d3044adbc73bc4122112f36",
    "deepnote_cell_type": "markdown"
   },
   "source": [
    "### Machine Learning for AWPers"
   ]
  },
  {
   "cell_type": "code",
   "execution_count": 42,
   "metadata": {
    "cell_id": "1d86240799f7477f82a3c38893656e78",
    "deepnote_cell_type": "code",
    "deepnote_to_be_reexecuted": false,
    "execution_millis": 641,
    "execution_start": 1686983152191,
    "source_hash": "243828e5"
   },
   "outputs": [
    {
     "data": {
      "text/plain": [
       "RandomForestClassifier(max_leaf_nodes=5, n_estimators=200)"
      ]
     },
     "execution_count": 42,
     "metadata": {},
     "output_type": "execute_result"
    }
   ],
   "source": [
    "X_train_awp,X_test_awp,y_train_awp,y_test_awp=train_test_split(df_awpers[player_stats],df_awpers[\"map_won\"],train_size=0.8)\n",
    "\n",
    "clf.fit(X_train_awp,y_train_awp)\n",
    "rfc.fit(X_train_awp, y_train_awp)"
   ]
  },
  {
   "cell_type": "code",
   "execution_count": 45,
   "metadata": {
    "cell_id": "9d765211e9434e638a0c5151f27c8d13",
    "deepnote_cell_type": "code",
    "deepnote_to_be_reexecuted": false,
    "execution_millis": 20,
    "execution_start": 1686983214151,
    "source_hash": "8558392e"
   },
   "outputs": [
    {
     "name": "stdout",
     "output_type": "stream",
     "text": [
      "0.7793427230046949\n",
      "0.7542448614834674\n",
      "0.025097861521227505\n"
     ]
    }
   ],
   "source": [
    "print(clf.score(X_train_awp,y_train_awp))\n",
    "print(clf.score(X_test_awp,y_test_awp))\n",
    "print(abs(clf.score(X_train_awp,y_train_awp)-clf.score(X_test_awp,y_test_awp)))"
   ]
  },
  {
   "cell_type": "code",
   "execution_count": 44,
   "metadata": {
    "cell_id": "38dc48169e9e49f88cffa1a1d42e90e1",
    "deepnote_cell_type": "code",
    "deepnote_to_be_reexecuted": false,
    "execution_millis": 265,
    "execution_start": 1686983189513,
    "source_hash": "81fc70f0"
   },
   "outputs": [
    {
     "name": "stdout",
     "output_type": "stream",
     "text": [
      "0.7918622848200313\n",
      "0.7631814119749777\n",
      "0.028680872845053607\n"
     ]
    }
   ],
   "source": [
    "print(rfc.score(X_train_awp,y_train_awp))\n",
    "print(rfc.score(X_test_awp,y_test_awp))\n",
    "print(abs(rfc.score(X_train_awp,y_train_awp)-rfc.score(X_test_awp,y_test_awp)))"
   ]
  },
  {
   "cell_type": "markdown",
   "metadata": {
    "cell_id": "cc2e07ebe1e5459b8273ec59eee611d7",
    "deepnote_cell_type": "markdown"
   },
   "source": [
    "The test set probability is similar to the train set probability in both machine learning estimators, which suggests little or no overfitting."
   ]
  },
  {
   "cell_type": "markdown",
   "metadata": {
    "cell_id": "7df198a818424c6b9e461ca171bc82e3",
    "deepnote_cell_type": "markdown"
   },
   "source": [
    "### Machine Learning for the Rest of the Team"
   ]
  },
  {
   "cell_type": "code",
   "execution_count": 22,
   "metadata": {
    "cell_id": "df9343aa23a54cb590350b1406a84ca0",
    "deepnote_cell_type": "code",
    "deepnote_to_be_reexecuted": false,
    "execution_millis": 94,
    "execution_start": 1686982037102,
    "source_hash": "530afc2"
   },
   "outputs": [],
   "source": [
    "df_team = df[df[\"player_name\"].str.contains(\"|\".join(AWP_list)) == False]"
   ]
  },
  {
   "cell_type": "code",
   "execution_count": 37,
   "metadata": {
    "cell_id": "653c857afc7547d2ab6b9f4e1e75dfbf",
    "deepnote_cell_type": "code",
    "deepnote_to_be_reexecuted": false,
    "execution_millis": 4037,
    "execution_start": 1686982907596,
    "source_hash": "d89a6eea"
   },
   "outputs": [
    {
     "data": {
      "text/plain": [
       "RandomForestClassifier(max_leaf_nodes=5, n_estimators=200)"
      ]
     },
     "execution_count": 37,
     "metadata": {},
     "output_type": "execute_result"
    }
   ],
   "source": [
    "X_train_team,X_test_team,y_train_team,y_test_team=train_test_split(df_team[player_stats],df_team[\"map_won\"],train_size=0.8)\n",
    "\n",
    "clf.fit(X_train_team,y_train_team)\n",
    "rfc.fit(X_train_team, y_train_team)"
   ]
  },
  {
   "cell_type": "code",
   "execution_count": 48,
   "metadata": {
    "cell_id": "feb46b5c89a54631a7c4f1e2bfe7e9d6",
    "deepnote_cell_type": "code",
    "deepnote_to_be_reexecuted": false,
    "execution_millis": 41,
    "execution_start": 1686983390427,
    "source_hash": "9ac609fe"
   },
   "outputs": [
    {
     "name": "stdout",
     "output_type": "stream",
     "text": [
      "0.7436487297459492\n",
      "0.7340134693605388\n",
      "0.009635260385410405\n"
     ]
    }
   ],
   "source": [
    "print(clf.score(X_train_team,y_train_team))\n",
    "print(clf.score(X_test_team,y_test_team))\n",
    "print(abs(clf.score(X_train_team,y_train_team)-clf.score(X_test_team,y_test_team)))"
   ]
  },
  {
   "cell_type": "code",
   "execution_count": 49,
   "metadata": {
    "cell_id": "24bf50a3d136443ebfb59aa9f23ee0bd",
    "deepnote_cell_type": "code",
    "deepnote_to_be_reexecuted": false,
    "execution_millis": 1855,
    "execution_start": 1686983413915,
    "source_hash": "20f2b5c5"
   },
   "outputs": [
    {
     "name": "stdout",
     "output_type": "stream",
     "text": [
      "0.7543508701740348\n",
      "0.7456824698272988\n",
      "0.008668400346735994\n"
     ]
    }
   ],
   "source": [
    "print(rfc.score(X_train_team,y_train_team))\n",
    "print(rfc.score(X_test_team,y_test_team))\n",
    "print(abs(rfc.score(X_train_team,y_train_team)-rfc.score(X_test_team,y_test_team)))"
   ]
  },
  {
   "cell_type": "markdown",
   "metadata": {
    "cell_id": "77efe65141764bc5b28c5d10b72bda4a",
    "deepnote_cell_type": "markdown"
   },
   "source": [
    "Once again, the test set probability is similar to the train set probability in both machine learning estimators, which suggests little or no overfitting."
   ]
  },
  {
   "cell_type": "markdown",
   "metadata": {
    "cell_id": "4e30d8a1444a4afa83ec29d929a1e293",
    "deepnote_cell_type": "markdown"
   },
   "source": [
    "## Summary/Findings\n",
    "\n",
    "### AWPers vs The Rest of the Team\n",
    "In winrate correlation, we found out that the performance of AWP players had a slightly higher correlation to map and match wins than the rest of the team. After running our machine learning methods, we see that the scores for the AWPer test sets were also higher than the scores of the test sets for the rest of the team, (~0.75 vs ~0.73 for DecisionTreeClassifier, and ~0.76 vs ~0.75 for RandomForestClassifier). This supports my assumption that the AWP players are a better indicator for team performance than the rest of the team, due to the impact their role inherently has on the game.\n",
    "\n",
    "### Maps vs Series\n",
    "All inputs across the board were less significant when correlating/predicting series winrates due to the nature of being longer/more drawn out and therefore an individual's performance mattering less in the long term. \n",
    "\n",
    "### LAN vs Online\n",
    "Unforunately, there were no significant differences observed in LAN vs Online play using player statistics as inputs. Perhaps something such as player age or LANs attended would be a better choice, although data such as that would be nearly impossible to scrape."
   ]
  },
  {
   "cell_type": "markdown",
   "metadata": {
    "cell_id": "1f77acc5b4054876b029959140856d81",
    "deepnote_cell_type": "markdown",
    "tags": []
   },
   "source": [
    "## References"
   ]
  },
  {
   "cell_type": "markdown",
   "metadata": {
    "cell_id": "b3aa5ec267a14b8e89528984a0b5dc9e",
    "deepnote_cell_type": "markdown",
    "tags": []
   },
   "source": [
    "* What is the source of your dataset(s)?\n",
    "This dataset was taken from [Kaggle](https://www.kaggle.com/datasets/nafisbarizki/csgo-top-tier-match-jan-2020-dec-2022), scraped from [HLTV.org](https://hltv.org) by user Nafis Barzki."
   ]
  },
  {
   "cell_type": "markdown",
   "metadata": {
    "cell_id": "a69ea605cc9e4b70bd39afcc7251b3ad",
    "deepnote_cell_type": "markdown",
    "deepnote_to_be_reexecuted": false,
    "execution_millis": 0,
    "execution_start": 1652916033453,
    "source_hash": "aa45eba7",
    "tags": []
   },
   "source": [
    "* List any other references that you found helpful.\n",
    "\n",
    "[StackOverflow](https://stackoverflow.com/questions/17712163/pandas-sorting-columns-by-their-mean-value)\n",
    "[YouTube](https://www.youtube.com/watch?v=-HNeDT2qjcg)\n",
    "[Miscellaneous](https://sparkbyexamples.com/pandas/pandas-create-dataframe-from-multiple-series/?expand_article=1) [Websites](https://altair-viz.github.io/gallery/grouped_bar_chart.html)"
   ]
  },
  {
   "cell_type": "markdown",
   "metadata": {
    "cell_id": "2956f67958f248e48847de29739fac73",
    "deepnote_cell_type": "markdown",
    "tags": []
   },
   "source": [
    "## Submission\n",
    "\n",
    "Using the Share button at the top right, **enable Comment privileges** for anyone with a link to the project. Then submit that link on Canvas."
   ]
  },
  {
   "cell_type": "markdown",
   "metadata": {
    "created_in_deepnote_cell": true,
    "deepnote_cell_type": "markdown"
   },
   "source": [
    "<a style='text-decoration:none;line-height:16px;display:flex;color:#5B5B62;padding:10px;justify-content:end;' href='https://deepnote.com?utm_source=created-in-deepnote-cell&projectId=8bb74000-e3b2-4a83-9168-802c2298385a' target=\"_blank\">\n",
    "<img alt='Created in deepnote.com' style='display:inline;max-height:16px;margin:0px;margin-right:7.5px;' src='data:image/svg+xml;base64,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' > </img>\n",
    "Created in <span style='font-weight:600;margin-left:4px;'>Deepnote</span></a>"
   ]
  }
 ],
 "metadata": {
  "deepnote": {
   "is_reactive": false
  },
  "deepnote_execution_queue": [],
  "deepnote_notebook_id": "5b41baef78404643b28d19d573447a02",
  "kernelspec": {
   "display_name": "Python 3 (ipykernel)",
   "language": "python",
   "name": "python3"
  },
  "language_info": {
   "codemirror_mode": {
    "name": "ipython",
    "version": 3
   },
   "file_extension": ".py",
   "mimetype": "text/x-python",
   "name": "python",
   "nbconvert_exporter": "python",
   "pygments_lexer": "ipython3",
   "version": "3.9.16"
  }
 },
 "nbformat": 4,
 "nbformat_minor": 4
}
