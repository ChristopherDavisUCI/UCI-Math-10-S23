{
 "cells": [
  {
   "cell_type": "markdown",
   "metadata": {
    "cell_id": "8fe1bd39ab614bfc89cbe5f32f2ce9d0",
    "deepnote_cell_type": "markdown",
    "tags": []
   },
   "source": [
    "# Predicting Heart Disease\n",
    "\n",
    "Author: Emily Wang\n",
    "\n",
    "Course Project, UC Irvine, Math 10, F22"
   ]
  },
  {
   "cell_type": "markdown",
   "metadata": {
    "cell_id": "ae35f9d25ae442188f76de7dfbf92e15",
    "deepnote_cell_type": "markdown",
    "tags": []
   },
   "source": [
    "## Introduction\n",
    "\n",
    "Cardiovascular disease is one of the leading causes of death in the world. So it is important to know what risk factors play a role in determining heart disease, which will lead to helping to find a cure or solution to prevent heart disease. In my project, I am trying to predict whether or not a person has a heart disease based on certain risk factors. In addition, I will be looking at which factors have a greater chance of developing heart disease and which ones have no correlation."
   ]
  },
  {
   "cell_type": "markdown",
   "metadata": {
    "cell_id": "6d1242344ce040dfa411aa4e441ea060",
    "deepnote_cell_type": "markdown",
    "tags": []
   },
   "source": [
    "## Main portion of the project"
   ]
  },
  {
   "cell_type": "code",
   "execution_count": 1,
   "metadata": {
    "cell_id": "af912f7413674d32b7356e68dc88fb26",
    "deepnote_cell_type": "code",
    "deepnote_to_be_reexecuted": false,
    "execution_millis": 2695,
    "execution_start": 1670334560345,
    "source_hash": "a365e06",
    "tags": []
   },
   "outputs": [],
   "source": [
    "import numpy as np\n",
    "import pandas as pd\n",
    "import seaborn as sns\n",
    "import altair as alt\n",
    "import matplotlib.pyplot as plt\n",
    "from sklearn.preprocessing import StandardScaler\n",
    "from sklearn.neighbors import KNeighborsClassifier\n",
    "from sklearn.model_selection import train_test_split\n",
    "from sklearn.tree import DecisionTreeClassifier\n",
    "from sklearn.ensemble import RandomForestClassifier\n",
    "from sklearn.tree import plot_tree\n",
    "from sklearn import tree"
   ]
  },
  {
   "cell_type": "markdown",
   "metadata": {
    "cell_id": "aa5bd527218d4c0d915661f903b9b062",
    "deepnote_cell_type": "markdown",
    "tags": []
   },
   "source": [
    "### Reading Data"
   ]
  },
  {
   "cell_type": "code",
   "execution_count": 2,
   "metadata": {
    "cell_id": "7e283402e519446c8617d32fbfebec70",
    "deepnote_cell_type": "code",
    "deepnote_table_loading": false,
    "deepnote_table_state": {
     "filters": [],
     "pageIndex": 0,
     "pageSize": 10,
     "sortBy": []
    },
    "deepnote_to_be_reexecuted": false,
    "execution_millis": 38,
    "execution_start": 1670334563085,
    "source_hash": "1dc46523",
    "tags": []
   },
   "outputs": [
    {
     "data": {
      "application/vnd.deepnote.dataframe.v3+json": {
       "column_count": 12,
       "columns": [
        {
         "dtype": "int64",
         "name": "Age",
         "stats": {
          "histogram": [
           {
            "bin_end": 32.9,
            "bin_start": 28,
            "count": 12
           },
           {
            "bin_end": 37.8,
            "bin_start": 32.9,
            "count": 37
           },
           {
            "bin_end": 42.7,
            "bin_start": 37.8,
            "count": 86
           },
           {
            "bin_end": 47.6,
            "bin_start": 42.7,
            "count": 104
           },
           {
            "bin_end": 52.5,
            "bin_start": 47.6,
            "count": 148
           },
           {
            "bin_end": 57.400000000000006,
            "bin_start": 52.5,
            "count": 201
           },
           {
            "bin_end": 62.300000000000004,
            "bin_start": 57.400000000000006,
            "count": 175
           },
           {
            "bin_end": 67.2,
            "bin_start": 62.300000000000004,
            "count": 101
           },
           {
            "bin_end": 72.1,
            "bin_start": 67.2,
            "count": 39
           },
           {
            "bin_end": 77,
            "bin_start": 72.1,
            "count": 15
           }
          ],
          "max": "77",
          "min": "28",
          "nan_count": 0,
          "unique_count": 50
         }
        },
        {
         "dtype": "object",
         "name": "Sex",
         "stats": {
          "categories": [
           {
            "count": 725,
            "name": "M"
           },
           {
            "count": 193,
            "name": "F"
           }
          ],
          "nan_count": 0,
          "unique_count": 2
         }
        },
        {
         "dtype": "object",
         "name": "ChestPainType",
         "stats": {
          "categories": [
           {
            "count": 496,
            "name": "ASY"
           },
           {
            "count": 203,
            "name": "NAP"
           },
           {
            "count": 219,
            "name": "2 others"
           }
          ],
          "nan_count": 0,
          "unique_count": 4
         }
        },
        {
         "dtype": "int64",
         "name": "RestingBP",
         "stats": {
          "histogram": [
           {
            "bin_end": 20,
            "bin_start": 0,
            "count": 1
           },
           {
            "bin_end": 40,
            "bin_start": 20,
            "count": 0
           },
           {
            "bin_end": 60,
            "bin_start": 40,
            "count": 0
           },
           {
            "bin_end": 80,
            "bin_start": 60,
            "count": 0
           },
           {
            "bin_end": 100,
            "bin_start": 80,
            "count": 12
           },
           {
            "bin_end": 120,
            "bin_start": 100,
            "count": 148
           },
           {
            "bin_end": 140,
            "bin_start": 120,
            "count": 430
           },
           {
            "bin_end": 160,
            "bin_start": 140,
            "count": 234
           },
           {
            "bin_end": 180,
            "bin_start": 160,
            "count": 73
           },
           {
            "bin_end": 200,
            "bin_start": 180,
            "count": 20
           }
          ],
          "max": "200",
          "min": "0",
          "nan_count": 0,
          "unique_count": 67
         }
        },
        {
         "dtype": "int64",
         "name": "Cholesterol",
         "stats": {
          "histogram": [
           {
            "bin_end": 60.3,
            "bin_start": 0,
            "count": 172
           },
           {
            "bin_end": 120.6,
            "bin_start": 60.3,
            "count": 6
           },
           {
            "bin_end": 180.89999999999998,
            "bin_start": 120.6,
            "count": 70
           },
           {
            "bin_end": 241.2,
            "bin_start": 180.89999999999998,
            "count": 319
           },
           {
            "bin_end": 301.5,
            "bin_start": 241.2,
            "count": 248
           },
           {
            "bin_end": 361.79999999999995,
            "bin_start": 301.5,
            "count": 81
           },
           {
            "bin_end": 422.09999999999997,
            "bin_start": 361.79999999999995,
            "count": 14
           },
           {
            "bin_end": 482.4,
            "bin_start": 422.09999999999997,
            "count": 3
           },
           {
            "bin_end": 542.6999999999999,
            "bin_start": 482.4,
            "count": 3
           },
           {
            "bin_end": 603,
            "bin_start": 542.6999999999999,
            "count": 2
           }
          ],
          "max": "603",
          "min": "0",
          "nan_count": 0,
          "unique_count": 222
         }
        },
        {
         "dtype": "int64",
         "name": "FastingBS",
         "stats": {
          "histogram": [
           {
            "bin_end": 0.1,
            "bin_start": 0,
            "count": 704
           },
           {
            "bin_end": 0.2,
            "bin_start": 0.1,
            "count": 0
           },
           {
            "bin_end": 0.30000000000000004,
            "bin_start": 0.2,
            "count": 0
           },
           {
            "bin_end": 0.4,
            "bin_start": 0.30000000000000004,
            "count": 0
           },
           {
            "bin_end": 0.5,
            "bin_start": 0.4,
            "count": 0
           },
           {
            "bin_end": 0.6000000000000001,
            "bin_start": 0.5,
            "count": 0
           },
           {
            "bin_end": 0.7000000000000001,
            "bin_start": 0.6000000000000001,
            "count": 0
           },
           {
            "bin_end": 0.8,
            "bin_start": 0.7000000000000001,
            "count": 0
           },
           {
            "bin_end": 0.9,
            "bin_start": 0.8,
            "count": 0
           },
           {
            "bin_end": 1,
            "bin_start": 0.9,
            "count": 214
           }
          ],
          "max": "1",
          "min": "0",
          "nan_count": 0,
          "unique_count": 2
         }
        },
        {
         "dtype": "object",
         "name": "RestingECG",
         "stats": {
          "categories": [
           {
            "count": 552,
            "name": "Normal"
           },
           {
            "count": 188,
            "name": "LVH"
           },
           {
            "count": 178,
            "name": "ST"
           }
          ],
          "nan_count": 0,
          "unique_count": 3
         }
        },
        {
         "dtype": "int64",
         "name": "MaxHR",
         "stats": {
          "histogram": [
           {
            "bin_end": 74.2,
            "bin_start": 60,
            "count": 9
           },
           {
            "bin_end": 88.4,
            "bin_start": 74.2,
            "count": 18
           },
           {
            "bin_end": 102.6,
            "bin_start": 88.4,
            "count": 62
           },
           {
            "bin_end": 116.8,
            "bin_start": 102.6,
            "count": 113
           },
           {
            "bin_end": 131,
            "bin_start": 116.8,
            "count": 192
           },
           {
            "bin_end": 145.2,
            "bin_start": 131,
            "count": 175
           },
           {
            "bin_end": 159.39999999999998,
            "bin_start": 145.2,
            "count": 148
           },
           {
            "bin_end": 173.6,
            "bin_start": 159.39999999999998,
            "count": 132
           },
           {
            "bin_end": 187.8,
            "bin_start": 173.6,
            "count": 61
           },
           {
            "bin_end": 202,
            "bin_start": 187.8,
            "count": 8
           }
          ],
          "max": "202",
          "min": "60",
          "nan_count": 0,
          "unique_count": 119
         }
        },
        {
         "dtype": "object",
         "name": "ExerciseAngina",
         "stats": {
          "categories": [
           {
            "count": 547,
            "name": "N"
           },
           {
            "count": 371,
            "name": "Y"
           }
          ],
          "nan_count": 0,
          "unique_count": 2
         }
        },
        {
         "dtype": "float64",
         "name": "Oldpeak",
         "stats": {
          "histogram": [
           {
            "bin_end": -1.72,
            "bin_start": -2.6,
            "count": 2
           },
           {
            "bin_end": -0.8399999999999999,
            "bin_start": -1.72,
            "count": 5
           },
           {
            "bin_end": 0.04000000000000048,
            "bin_start": -0.8399999999999999,
            "count": 374
           },
           {
            "bin_end": 0.9200000000000004,
            "bin_start": 0.04000000000000048,
            "count": 118
           },
           {
            "bin_end": 1.8000000000000003,
            "bin_start": 0.9200000000000004,
            "count": 236
           },
           {
            "bin_end": 2.680000000000001,
            "bin_start": 1.8000000000000003,
            "count": 119
           },
           {
            "bin_end": 3.560000000000001,
            "bin_start": 2.680000000000001,
            "count": 44
           },
           {
            "bin_end": 4.440000000000001,
            "bin_start": 3.560000000000001,
            "count": 17
           },
           {
            "bin_end": 5.32,
            "bin_start": 4.440000000000001,
            "count": 1
           },
           {
            "bin_end": 6.2,
            "bin_start": 5.32,
            "count": 2
           }
          ],
          "max": "6.2",
          "min": "-2.6",
          "nan_count": 0,
          "unique_count": 53
         }
        },
        {
         "dtype": "object",
         "name": "ST_Slope",
         "stats": {
          "categories": [
           {
            "count": 460,
            "name": "Flat"
           },
           {
            "count": 395,
            "name": "Up"
           },
           {
            "count": 63,
            "name": "Down"
           }
          ],
          "nan_count": 0,
          "unique_count": 3
         }
        },
        {
         "dtype": "int64",
         "name": "HeartDisease",
         "stats": {
          "histogram": [
           {
            "bin_end": 0.1,
            "bin_start": 0,
            "count": 410
           },
           {
            "bin_end": 0.2,
            "bin_start": 0.1,
            "count": 0
           },
           {
            "bin_end": 0.30000000000000004,
            "bin_start": 0.2,
            "count": 0
           },
           {
            "bin_end": 0.4,
            "bin_start": 0.30000000000000004,
            "count": 0
           },
           {
            "bin_end": 0.5,
            "bin_start": 0.4,
            "count": 0
           },
           {
            "bin_end": 0.6000000000000001,
            "bin_start": 0.5,
            "count": 0
           },
           {
            "bin_end": 0.7000000000000001,
            "bin_start": 0.6000000000000001,
            "count": 0
           },
           {
            "bin_end": 0.8,
            "bin_start": 0.7000000000000001,
            "count": 0
           },
           {
            "bin_end": 0.9,
            "bin_start": 0.8,
            "count": 0
           },
           {
            "bin_end": 1,
            "bin_start": 0.9,
            "count": 508
           }
          ],
          "max": "1",
          "min": "0",
          "nan_count": 0,
          "unique_count": 2
         }
        },
        {
         "dtype": "int64",
         "name": "_deepnote_index_column"
        }
       ],
       "row_count": 918,
       "rows": [
        {
         "Age": "40",
         "ChestPainType": "ATA",
         "Cholesterol": "289",
         "ExerciseAngina": "N",
         "FastingBS": "0",
         "HeartDisease": "0",
         "MaxHR": "172",
         "Oldpeak": "0.0",
         "RestingBP": "140",
         "RestingECG": "Normal",
         "ST_Slope": "Up",
         "Sex": "M",
         "_deepnote_index_column": "0"
        },
        {
         "Age": "49",
         "ChestPainType": "NAP",
         "Cholesterol": "180",
         "ExerciseAngina": "N",
         "FastingBS": "0",
         "HeartDisease": "1",
         "MaxHR": "156",
         "Oldpeak": "1.0",
         "RestingBP": "160",
         "RestingECG": "Normal",
         "ST_Slope": "Flat",
         "Sex": "F",
         "_deepnote_index_column": "1"
        },
        {
         "Age": "37",
         "ChestPainType": "ATA",
         "Cholesterol": "283",
         "ExerciseAngina": "N",
         "FastingBS": "0",
         "HeartDisease": "0",
         "MaxHR": "98",
         "Oldpeak": "0.0",
         "RestingBP": "130",
         "RestingECG": "ST",
         "ST_Slope": "Up",
         "Sex": "M",
         "_deepnote_index_column": "2"
        },
        {
         "Age": "48",
         "ChestPainType": "ASY",
         "Cholesterol": "214",
         "ExerciseAngina": "Y",
         "FastingBS": "0",
         "HeartDisease": "1",
         "MaxHR": "108",
         "Oldpeak": "1.5",
         "RestingBP": "138",
         "RestingECG": "Normal",
         "ST_Slope": "Flat",
         "Sex": "F",
         "_deepnote_index_column": "3"
        },
        {
         "Age": "54",
         "ChestPainType": "NAP",
         "Cholesterol": "195",
         "ExerciseAngina": "N",
         "FastingBS": "0",
         "HeartDisease": "0",
         "MaxHR": "122",
         "Oldpeak": "0.0",
         "RestingBP": "150",
         "RestingECG": "Normal",
         "ST_Slope": "Up",
         "Sex": "M",
         "_deepnote_index_column": "4"
        },
        {
         "Age": "39",
         "ChestPainType": "NAP",
         "Cholesterol": "339",
         "ExerciseAngina": "N",
         "FastingBS": "0",
         "HeartDisease": "0",
         "MaxHR": "170",
         "Oldpeak": "0.0",
         "RestingBP": "120",
         "RestingECG": "Normal",
         "ST_Slope": "Up",
         "Sex": "M",
         "_deepnote_index_column": "5"
        },
        {
         "Age": "45",
         "ChestPainType": "ATA",
         "Cholesterol": "237",
         "ExerciseAngina": "N",
         "FastingBS": "0",
         "HeartDisease": "0",
         "MaxHR": "170",
         "Oldpeak": "0.0",
         "RestingBP": "130",
         "RestingECG": "Normal",
         "ST_Slope": "Up",
         "Sex": "F",
         "_deepnote_index_column": "6"
        },
        {
         "Age": "54",
         "ChestPainType": "ATA",
         "Cholesterol": "208",
         "ExerciseAngina": "N",
         "FastingBS": "0",
         "HeartDisease": "0",
         "MaxHR": "142",
         "Oldpeak": "0.0",
         "RestingBP": "110",
         "RestingECG": "Normal",
         "ST_Slope": "Up",
         "Sex": "M",
         "_deepnote_index_column": "7"
        },
        {
         "Age": "37",
         "ChestPainType": "ASY",
         "Cholesterol": "207",
         "ExerciseAngina": "Y",
         "FastingBS": "0",
         "HeartDisease": "1",
         "MaxHR": "130",
         "Oldpeak": "1.5",
         "RestingBP": "140",
         "RestingECG": "Normal",
         "ST_Slope": "Flat",
         "Sex": "M",
         "_deepnote_index_column": "8"
        },
        {
         "Age": "48",
         "ChestPainType": "ATA",
         "Cholesterol": "284",
         "ExerciseAngina": "N",
         "FastingBS": "0",
         "HeartDisease": "0",
         "MaxHR": "120",
         "Oldpeak": "0.0",
         "RestingBP": "120",
         "RestingECG": "Normal",
         "ST_Slope": "Up",
         "Sex": "F",
         "_deepnote_index_column": "9"
        }
       ]
      },
      "text/html": [
       "<div>\n",
       "<style scoped>\n",
       "    .dataframe tbody tr th:only-of-type {\n",
       "        vertical-align: middle;\n",
       "    }\n",
       "\n",
       "    .dataframe tbody tr th {\n",
       "        vertical-align: top;\n",
       "    }\n",
       "\n",
       "    .dataframe thead th {\n",
       "        text-align: right;\n",
       "    }\n",
       "</style>\n",
       "<table border=\"1\" class=\"dataframe\">\n",
       "  <thead>\n",
       "    <tr style=\"text-align: right;\">\n",
       "      <th></th>\n",
       "      <th>Age</th>\n",
       "      <th>Sex</th>\n",
       "      <th>ChestPainType</th>\n",
       "      <th>RestingBP</th>\n",
       "      <th>Cholesterol</th>\n",
       "      <th>FastingBS</th>\n",
       "      <th>RestingECG</th>\n",
       "      <th>MaxHR</th>\n",
       "      <th>ExerciseAngina</th>\n",
       "      <th>Oldpeak</th>\n",
       "      <th>ST_Slope</th>\n",
       "      <th>HeartDisease</th>\n",
       "    </tr>\n",
       "  </thead>\n",
       "  <tbody>\n",
       "    <tr>\n",
       "      <th>0</th>\n",
       "      <td>40</td>\n",
       "      <td>M</td>\n",
       "      <td>ATA</td>\n",
       "      <td>140</td>\n",
       "      <td>289</td>\n",
       "      <td>0</td>\n",
       "      <td>Normal</td>\n",
       "      <td>172</td>\n",
       "      <td>N</td>\n",
       "      <td>0.0</td>\n",
       "      <td>Up</td>\n",
       "      <td>0</td>\n",
       "    </tr>\n",
       "    <tr>\n",
       "      <th>1</th>\n",
       "      <td>49</td>\n",
       "      <td>F</td>\n",
       "      <td>NAP</td>\n",
       "      <td>160</td>\n",
       "      <td>180</td>\n",
       "      <td>0</td>\n",
       "      <td>Normal</td>\n",
       "      <td>156</td>\n",
       "      <td>N</td>\n",
       "      <td>1.0</td>\n",
       "      <td>Flat</td>\n",
       "      <td>1</td>\n",
       "    </tr>\n",
       "    <tr>\n",
       "      <th>2</th>\n",
       "      <td>37</td>\n",
       "      <td>M</td>\n",
       "      <td>ATA</td>\n",
       "      <td>130</td>\n",
       "      <td>283</td>\n",
       "      <td>0</td>\n",
       "      <td>ST</td>\n",
       "      <td>98</td>\n",
       "      <td>N</td>\n",
       "      <td>0.0</td>\n",
       "      <td>Up</td>\n",
       "      <td>0</td>\n",
       "    </tr>\n",
       "    <tr>\n",
       "      <th>3</th>\n",
       "      <td>48</td>\n",
       "      <td>F</td>\n",
       "      <td>ASY</td>\n",
       "      <td>138</td>\n",
       "      <td>214</td>\n",
       "      <td>0</td>\n",
       "      <td>Normal</td>\n",
       "      <td>108</td>\n",
       "      <td>Y</td>\n",
       "      <td>1.5</td>\n",
       "      <td>Flat</td>\n",
       "      <td>1</td>\n",
       "    </tr>\n",
       "    <tr>\n",
       "      <th>4</th>\n",
       "      <td>54</td>\n",
       "      <td>M</td>\n",
       "      <td>NAP</td>\n",
       "      <td>150</td>\n",
       "      <td>195</td>\n",
       "      <td>0</td>\n",
       "      <td>Normal</td>\n",
       "      <td>122</td>\n",
       "      <td>N</td>\n",
       "      <td>0.0</td>\n",
       "      <td>Up</td>\n",
       "      <td>0</td>\n",
       "    </tr>\n",
       "    <tr>\n",
       "      <th>...</th>\n",
       "      <td>...</td>\n",
       "      <td>...</td>\n",
       "      <td>...</td>\n",
       "      <td>...</td>\n",
       "      <td>...</td>\n",
       "      <td>...</td>\n",
       "      <td>...</td>\n",
       "      <td>...</td>\n",
       "      <td>...</td>\n",
       "      <td>...</td>\n",
       "      <td>...</td>\n",
       "      <td>...</td>\n",
       "    </tr>\n",
       "    <tr>\n",
       "      <th>913</th>\n",
       "      <td>45</td>\n",
       "      <td>M</td>\n",
       "      <td>TA</td>\n",
       "      <td>110</td>\n",
       "      <td>264</td>\n",
       "      <td>0</td>\n",
       "      <td>Normal</td>\n",
       "      <td>132</td>\n",
       "      <td>N</td>\n",
       "      <td>1.2</td>\n",
       "      <td>Flat</td>\n",
       "      <td>1</td>\n",
       "    </tr>\n",
       "    <tr>\n",
       "      <th>914</th>\n",
       "      <td>68</td>\n",
       "      <td>M</td>\n",
       "      <td>ASY</td>\n",
       "      <td>144</td>\n",
       "      <td>193</td>\n",
       "      <td>1</td>\n",
       "      <td>Normal</td>\n",
       "      <td>141</td>\n",
       "      <td>N</td>\n",
       "      <td>3.4</td>\n",
       "      <td>Flat</td>\n",
       "      <td>1</td>\n",
       "    </tr>\n",
       "    <tr>\n",
       "      <th>915</th>\n",
       "      <td>57</td>\n",
       "      <td>M</td>\n",
       "      <td>ASY</td>\n",
       "      <td>130</td>\n",
       "      <td>131</td>\n",
       "      <td>0</td>\n",
       "      <td>Normal</td>\n",
       "      <td>115</td>\n",
       "      <td>Y</td>\n",
       "      <td>1.2</td>\n",
       "      <td>Flat</td>\n",
       "      <td>1</td>\n",
       "    </tr>\n",
       "    <tr>\n",
       "      <th>916</th>\n",
       "      <td>57</td>\n",
       "      <td>F</td>\n",
       "      <td>ATA</td>\n",
       "      <td>130</td>\n",
       "      <td>236</td>\n",
       "      <td>0</td>\n",
       "      <td>LVH</td>\n",
       "      <td>174</td>\n",
       "      <td>N</td>\n",
       "      <td>0.0</td>\n",
       "      <td>Flat</td>\n",
       "      <td>1</td>\n",
       "    </tr>\n",
       "    <tr>\n",
       "      <th>917</th>\n",
       "      <td>38</td>\n",
       "      <td>M</td>\n",
       "      <td>NAP</td>\n",
       "      <td>138</td>\n",
       "      <td>175</td>\n",
       "      <td>0</td>\n",
       "      <td>Normal</td>\n",
       "      <td>173</td>\n",
       "      <td>N</td>\n",
       "      <td>0.0</td>\n",
       "      <td>Up</td>\n",
       "      <td>0</td>\n",
       "    </tr>\n",
       "  </tbody>\n",
       "</table>\n",
       "<p>918 rows × 12 columns</p>\n",
       "</div>"
      ],
      "text/plain": [
       "     Age Sex ChestPainType  RestingBP  Cholesterol  FastingBS RestingECG  \\\n",
       "0     40   M           ATA        140          289          0     Normal   \n",
       "1     49   F           NAP        160          180          0     Normal   \n",
       "2     37   M           ATA        130          283          0         ST   \n",
       "3     48   F           ASY        138          214          0     Normal   \n",
       "4     54   M           NAP        150          195          0     Normal   \n",
       "..   ...  ..           ...        ...          ...        ...        ...   \n",
       "913   45   M            TA        110          264          0     Normal   \n",
       "914   68   M           ASY        144          193          1     Normal   \n",
       "915   57   M           ASY        130          131          0     Normal   \n",
       "916   57   F           ATA        130          236          0        LVH   \n",
       "917   38   M           NAP        138          175          0     Normal   \n",
       "\n",
       "     MaxHR ExerciseAngina  Oldpeak ST_Slope  HeartDisease  \n",
       "0      172              N      0.0       Up             0  \n",
       "1      156              N      1.0     Flat             1  \n",
       "2       98              N      0.0       Up             0  \n",
       "3      108              Y      1.5     Flat             1  \n",
       "4      122              N      0.0       Up             0  \n",
       "..     ...            ...      ...      ...           ...  \n",
       "913    132              N      1.2     Flat             1  \n",
       "914    141              N      3.4     Flat             1  \n",
       "915    115              Y      1.2     Flat             1  \n",
       "916    174              N      0.0     Flat             1  \n",
       "917    173              N      0.0       Up             0  \n",
       "\n",
       "[918 rows x 12 columns]"
      ]
     },
     "execution_count": 2,
     "metadata": {},
     "output_type": "execute_result"
    }
   ],
   "source": [
    "df = pd.read_csv(\"heart_data.csv\")\n",
    "df"
   ]
  },
  {
   "cell_type": "code",
   "execution_count": 3,
   "metadata": {
    "cell_id": "af82668903074565b216ec8550e24d1a",
    "deepnote_cell_type": "code",
    "deepnote_to_be_reexecuted": false,
    "execution_millis": 4,
    "execution_start": 1670334563154,
    "source_hash": "14f60b8f",
    "tags": []
   },
   "outputs": [
    {
     "data": {
      "text/plain": [
       "(918, 12)"
      ]
     },
     "execution_count": 3,
     "metadata": {},
     "output_type": "execute_result"
    }
   ],
   "source": [
    "df.shape"
   ]
  },
  {
   "cell_type": "code",
   "execution_count": 4,
   "metadata": {
    "cell_id": "7ac9acb80101400389f58b5ce1ba05ae",
    "deepnote_cell_type": "code",
    "deepnote_to_be_reexecuted": false,
    "execution_millis": 2,
    "execution_start": 1670334563156,
    "source_hash": "211fee45",
    "tags": []
   },
   "outputs": [
    {
     "name": "stdout",
     "output_type": "stream",
     "text": [
      "There are 918 rows and 12 columns in this dataset.\n"
     ]
    }
   ],
   "source": [
    "print(f\"There are {df.shape[0]} rows and {df.shape[1]} columns in this dataset.\")"
   ]
  },
  {
   "cell_type": "markdown",
   "metadata": {
    "cell_id": "dc1cf3e1ea93432dae3d78dd42356a6e",
    "deepnote_cell_type": "markdown",
    "tags": []
   },
   "source": [
    "### Cleaning Data"
   ]
  },
  {
   "cell_type": "code",
   "execution_count": 5,
   "metadata": {
    "cell_id": "07b6575489e343a2aba1082e241a655c",
    "deepnote_cell_type": "code",
    "deepnote_to_be_reexecuted": false,
    "execution_millis": 8,
    "execution_start": 1670334563157,
    "source_hash": "469ff24",
    "tags": []
   },
   "outputs": [
    {
     "data": {
      "text/plain": [
       "Age               0\n",
       "Sex               0\n",
       "ChestPainType     0\n",
       "RestingBP         0\n",
       "Cholesterol       0\n",
       "FastingBS         0\n",
       "RestingECG        0\n",
       "MaxHR             0\n",
       "ExerciseAngina    0\n",
       "Oldpeak           0\n",
       "ST_Slope          0\n",
       "HeartDisease      0\n",
       "dtype: int64"
      ]
     },
     "execution_count": 5,
     "metadata": {},
     "output_type": "execute_result"
    }
   ],
   "source": [
    "# Checking to see if there are any missing values in the dataset.\n",
    "df.isna().sum()"
   ]
  },
  {
   "cell_type": "markdown",
   "metadata": {
    "cell_id": "3fb2373dacfa4b52a912fdebcf6b4bf8",
    "deepnote_cell_type": "markdown",
    "tags": []
   },
   "source": [
    "The dataset doesn't have any missing data."
   ]
  },
  {
   "cell_type": "code",
   "execution_count": 6,
   "metadata": {
    "cell_id": "15aa1f2f4acc419882cadf85ab3a84b3",
    "deepnote_cell_type": "code",
    "deepnote_to_be_reexecuted": false,
    "execution_millis": 3,
    "execution_start": 1670334563167,
    "source_hash": "52430027",
    "tags": []
   },
   "outputs": [
    {
     "data": {
      "text/plain": [
       "Age                 int64\n",
       "Sex                object\n",
       "ChestPainType      object\n",
       "RestingBP           int64\n",
       "Cholesterol         int64\n",
       "FastingBS           int64\n",
       "RestingECG         object\n",
       "MaxHR               int64\n",
       "ExerciseAngina     object\n",
       "Oldpeak           float64\n",
       "ST_Slope           object\n",
       "HeartDisease        int64\n",
       "dtype: object"
      ]
     },
     "execution_count": 6,
     "metadata": {},
     "output_type": "execute_result"
    }
   ],
   "source": [
    "df.dtypes"
   ]
  },
  {
   "cell_type": "code",
   "execution_count": 7,
   "metadata": {
    "cell_id": "1aea4c899ad54bb28d46fed66ef30bf9",
    "deepnote_cell_type": "code",
    "deepnote_to_be_reexecuted": false,
    "execution_millis": 6,
    "execution_start": 1670334563171,
    "source_hash": "25d43fa0",
    "tags": []
   },
   "outputs": [
    {
     "data": {
      "text/plain": [
       "Index(['Age', 'Sex', 'ChestPainType', 'RestingBP', 'Cholesterol', 'FastingBS',\n",
       "       'RestingECG', 'MaxHR', 'ExerciseAngina', 'Oldpeak', 'ST_Slope',\n",
       "       'HeartDisease'],\n",
       "      dtype='object')"
      ]
     },
     "execution_count": 7,
     "metadata": {},
     "output_type": "execute_result"
    }
   ],
   "source": [
    "df.columns"
   ]
  },
  {
   "cell_type": "code",
   "execution_count": 8,
   "metadata": {
    "cell_id": "6d986c9b0abb4181875d5f17332671d3",
    "deepnote_cell_type": "code",
    "deepnote_to_be_reexecuted": false,
    "execution_millis": 38,
    "execution_start": 1670334563236,
    "source_hash": "44256aa",
    "tags": []
   },
   "outputs": [
    {
     "data": {
      "text/plain": [
       "['Age',\n",
       " 'RestingBP',\n",
       " 'Cholesterol',\n",
       " 'FastingBS',\n",
       " 'MaxHR',\n",
       " 'Oldpeak',\n",
       " 'HeartDisease']"
      ]
     },
     "execution_count": 8,
     "metadata": {},
     "output_type": "execute_result"
    }
   ],
   "source": [
    "# Sorting the dataset columns based on if they are numeric types or not.\n",
    "num_cols = [cols for cols in df.select_dtypes(include=np.number)]\n",
    "num_cols"
   ]
  },
  {
   "cell_type": "code",
   "execution_count": 9,
   "metadata": {
    "cell_id": "8ee6534816b6407d806e000432ab87f5",
    "deepnote_cell_type": "code",
    "deepnote_to_be_reexecuted": false,
    "execution_millis": 3,
    "execution_start": 1670334563271,
    "source_hash": "f5bf16c0",
    "tags": []
   },
   "outputs": [
    {
     "data": {
      "text/plain": [
       "['Sex', 'ChestPainType', 'RestingECG', 'ExerciseAngina', 'ST_Slope']"
      ]
     },
     "execution_count": 9,
     "metadata": {},
     "output_type": "execute_result"
    }
   ],
   "source": [
    "# creating a list of nonnumerical columns in the data set\n",
    "categorical_cols = [cols for cols in df.select_dtypes(include=\"object\")]\n",
    "categorical_cols"
   ]
  },
  {
   "cell_type": "code",
   "execution_count": 10,
   "metadata": {
    "cell_id": "01ad603f852e4bc6b2de6103b9f52f7a",
    "deepnote_cell_type": "code",
    "deepnote_to_be_reexecuted": false,
    "execution_millis": 2200980,
    "execution_start": 1670334563272,
    "source_hash": "6d7f6efd",
    "tags": []
   },
   "outputs": [],
   "source": [
    "df[\"HD\"] = df[\"HeartDisease\"].map({0:\"False\", 1:\"True\"})"
   ]
  },
  {
   "cell_type": "markdown",
   "metadata": {
    "cell_id": "2f525323c01740d38aa399d3a975b8d4",
    "deepnote_cell_type": "markdown",
    "tags": []
   },
   "source": [
    "To use the HeartDisease column as the output value and y variable for classification in the decision tree, the datatype needs to be changed to object since, in the original data set, the value was an integer datatype."
   ]
  },
  {
   "cell_type": "code",
   "execution_count": 11,
   "metadata": {
    "cell_id": "8965224ed566427dad420fe28e2da0eb",
    "deepnote_cell_type": "code",
    "deepnote_to_be_reexecuted": false,
    "execution_millis": 73,
    "execution_start": 1670334563273,
    "source_hash": "f804c160",
    "tags": []
   },
   "outputs": [
    {
     "data": {
      "application/vnd.deepnote.dataframe.v3+json": {
       "column_count": 13,
       "columns": [
        {
         "dtype": "int64",
         "name": "Age",
         "stats": {
          "histogram": [
           {
            "bin_end": 32.9,
            "bin_start": 28,
            "count": 12
           },
           {
            "bin_end": 37.8,
            "bin_start": 32.9,
            "count": 37
           },
           {
            "bin_end": 42.7,
            "bin_start": 37.8,
            "count": 86
           },
           {
            "bin_end": 47.6,
            "bin_start": 42.7,
            "count": 104
           },
           {
            "bin_end": 52.5,
            "bin_start": 47.6,
            "count": 148
           },
           {
            "bin_end": 57.400000000000006,
            "bin_start": 52.5,
            "count": 201
           },
           {
            "bin_end": 62.300000000000004,
            "bin_start": 57.400000000000006,
            "count": 175
           },
           {
            "bin_end": 67.2,
            "bin_start": 62.300000000000004,
            "count": 101
           },
           {
            "bin_end": 72.1,
            "bin_start": 67.2,
            "count": 39
           },
           {
            "bin_end": 77,
            "bin_start": 72.1,
            "count": 15
           }
          ],
          "max": "77",
          "min": "28",
          "nan_count": 0,
          "unique_count": 50
         }
        },
        {
         "dtype": "object",
         "name": "Sex",
         "stats": {
          "categories": [
           {
            "count": 725,
            "name": "M"
           },
           {
            "count": 193,
            "name": "F"
           }
          ],
          "nan_count": 0,
          "unique_count": 2
         }
        },
        {
         "dtype": "object",
         "name": "ChestPainType",
         "stats": {
          "categories": [
           {
            "count": 496,
            "name": "ASY"
           },
           {
            "count": 203,
            "name": "NAP"
           },
           {
            "count": 219,
            "name": "2 others"
           }
          ],
          "nan_count": 0,
          "unique_count": 4
         }
        },
        {
         "dtype": "int64",
         "name": "RestingBP",
         "stats": {
          "histogram": [
           {
            "bin_end": 20,
            "bin_start": 0,
            "count": 1
           },
           {
            "bin_end": 40,
            "bin_start": 20,
            "count": 0
           },
           {
            "bin_end": 60,
            "bin_start": 40,
            "count": 0
           },
           {
            "bin_end": 80,
            "bin_start": 60,
            "count": 0
           },
           {
            "bin_end": 100,
            "bin_start": 80,
            "count": 12
           },
           {
            "bin_end": 120,
            "bin_start": 100,
            "count": 148
           },
           {
            "bin_end": 140,
            "bin_start": 120,
            "count": 430
           },
           {
            "bin_end": 160,
            "bin_start": 140,
            "count": 234
           },
           {
            "bin_end": 180,
            "bin_start": 160,
            "count": 73
           },
           {
            "bin_end": 200,
            "bin_start": 180,
            "count": 20
           }
          ],
          "max": "200",
          "min": "0",
          "nan_count": 0,
          "unique_count": 67
         }
        },
        {
         "dtype": "int64",
         "name": "Cholesterol",
         "stats": {
          "histogram": [
           {
            "bin_end": 60.3,
            "bin_start": 0,
            "count": 172
           },
           {
            "bin_end": 120.6,
            "bin_start": 60.3,
            "count": 6
           },
           {
            "bin_end": 180.89999999999998,
            "bin_start": 120.6,
            "count": 70
           },
           {
            "bin_end": 241.2,
            "bin_start": 180.89999999999998,
            "count": 319
           },
           {
            "bin_end": 301.5,
            "bin_start": 241.2,
            "count": 248
           },
           {
            "bin_end": 361.79999999999995,
            "bin_start": 301.5,
            "count": 81
           },
           {
            "bin_end": 422.09999999999997,
            "bin_start": 361.79999999999995,
            "count": 14
           },
           {
            "bin_end": 482.4,
            "bin_start": 422.09999999999997,
            "count": 3
           },
           {
            "bin_end": 542.6999999999999,
            "bin_start": 482.4,
            "count": 3
           },
           {
            "bin_end": 603,
            "bin_start": 542.6999999999999,
            "count": 2
           }
          ],
          "max": "603",
          "min": "0",
          "nan_count": 0,
          "unique_count": 222
         }
        },
        {
         "dtype": "int64",
         "name": "FastingBS",
         "stats": {
          "histogram": [
           {
            "bin_end": 0.1,
            "bin_start": 0,
            "count": 704
           },
           {
            "bin_end": 0.2,
            "bin_start": 0.1,
            "count": 0
           },
           {
            "bin_end": 0.30000000000000004,
            "bin_start": 0.2,
            "count": 0
           },
           {
            "bin_end": 0.4,
            "bin_start": 0.30000000000000004,
            "count": 0
           },
           {
            "bin_end": 0.5,
            "bin_start": 0.4,
            "count": 0
           },
           {
            "bin_end": 0.6000000000000001,
            "bin_start": 0.5,
            "count": 0
           },
           {
            "bin_end": 0.7000000000000001,
            "bin_start": 0.6000000000000001,
            "count": 0
           },
           {
            "bin_end": 0.8,
            "bin_start": 0.7000000000000001,
            "count": 0
           },
           {
            "bin_end": 0.9,
            "bin_start": 0.8,
            "count": 0
           },
           {
            "bin_end": 1,
            "bin_start": 0.9,
            "count": 214
           }
          ],
          "max": "1",
          "min": "0",
          "nan_count": 0,
          "unique_count": 2
         }
        },
        {
         "dtype": "object",
         "name": "RestingECG",
         "stats": {
          "categories": [
           {
            "count": 552,
            "name": "Normal"
           },
           {
            "count": 188,
            "name": "LVH"
           },
           {
            "count": 178,
            "name": "ST"
           }
          ],
          "nan_count": 0,
          "unique_count": 3
         }
        },
        {
         "dtype": "int64",
         "name": "MaxHR",
         "stats": {
          "histogram": [
           {
            "bin_end": 74.2,
            "bin_start": 60,
            "count": 9
           },
           {
            "bin_end": 88.4,
            "bin_start": 74.2,
            "count": 18
           },
           {
            "bin_end": 102.6,
            "bin_start": 88.4,
            "count": 62
           },
           {
            "bin_end": 116.8,
            "bin_start": 102.6,
            "count": 113
           },
           {
            "bin_end": 131,
            "bin_start": 116.8,
            "count": 192
           },
           {
            "bin_end": 145.2,
            "bin_start": 131,
            "count": 175
           },
           {
            "bin_end": 159.39999999999998,
            "bin_start": 145.2,
            "count": 148
           },
           {
            "bin_end": 173.6,
            "bin_start": 159.39999999999998,
            "count": 132
           },
           {
            "bin_end": 187.8,
            "bin_start": 173.6,
            "count": 61
           },
           {
            "bin_end": 202,
            "bin_start": 187.8,
            "count": 8
           }
          ],
          "max": "202",
          "min": "60",
          "nan_count": 0,
          "unique_count": 119
         }
        },
        {
         "dtype": "object",
         "name": "ExerciseAngina",
         "stats": {
          "categories": [
           {
            "count": 547,
            "name": "N"
           },
           {
            "count": 371,
            "name": "Y"
           }
          ],
          "nan_count": 0,
          "unique_count": 2
         }
        },
        {
         "dtype": "float64",
         "name": "Oldpeak",
         "stats": {
          "histogram": [
           {
            "bin_end": -1.72,
            "bin_start": -2.6,
            "count": 2
           },
           {
            "bin_end": -0.8399999999999999,
            "bin_start": -1.72,
            "count": 5
           },
           {
            "bin_end": 0.04000000000000048,
            "bin_start": -0.8399999999999999,
            "count": 374
           },
           {
            "bin_end": 0.9200000000000004,
            "bin_start": 0.04000000000000048,
            "count": 118
           },
           {
            "bin_end": 1.8000000000000003,
            "bin_start": 0.9200000000000004,
            "count": 236
           },
           {
            "bin_end": 2.680000000000001,
            "bin_start": 1.8000000000000003,
            "count": 119
           },
           {
            "bin_end": 3.560000000000001,
            "bin_start": 2.680000000000001,
            "count": 44
           },
           {
            "bin_end": 4.440000000000001,
            "bin_start": 3.560000000000001,
            "count": 17
           },
           {
            "bin_end": 5.32,
            "bin_start": 4.440000000000001,
            "count": 1
           },
           {
            "bin_end": 6.2,
            "bin_start": 5.32,
            "count": 2
           }
          ],
          "max": "6.2",
          "min": "-2.6",
          "nan_count": 0,
          "unique_count": 53
         }
        },
        {
         "dtype": "object",
         "name": "ST_Slope",
         "stats": {
          "categories": [
           {
            "count": 460,
            "name": "Flat"
           },
           {
            "count": 395,
            "name": "Up"
           },
           {
            "count": 63,
            "name": "Down"
           }
          ],
          "nan_count": 0,
          "unique_count": 3
         }
        },
        {
         "dtype": "int64",
         "name": "HeartDisease",
         "stats": {
          "histogram": [
           {
            "bin_end": 0.1,
            "bin_start": 0,
            "count": 410
           },
           {
            "bin_end": 0.2,
            "bin_start": 0.1,
            "count": 0
           },
           {
            "bin_end": 0.30000000000000004,
            "bin_start": 0.2,
            "count": 0
           },
           {
            "bin_end": 0.4,
            "bin_start": 0.30000000000000004,
            "count": 0
           },
           {
            "bin_end": 0.5,
            "bin_start": 0.4,
            "count": 0
           },
           {
            "bin_end": 0.6000000000000001,
            "bin_start": 0.5,
            "count": 0
           },
           {
            "bin_end": 0.7000000000000001,
            "bin_start": 0.6000000000000001,
            "count": 0
           },
           {
            "bin_end": 0.8,
            "bin_start": 0.7000000000000001,
            "count": 0
           },
           {
            "bin_end": 0.9,
            "bin_start": 0.8,
            "count": 0
           },
           {
            "bin_end": 1,
            "bin_start": 0.9,
            "count": 508
           }
          ],
          "max": "1",
          "min": "0",
          "nan_count": 0,
          "unique_count": 2
         }
        },
        {
         "dtype": "object",
         "name": "HD",
         "stats": {
          "categories": [
           {
            "count": 508,
            "name": "True"
           },
           {
            "count": 410,
            "name": "False"
           }
          ],
          "nan_count": 0,
          "unique_count": 2
         }
        },
        {
         "dtype": "int64",
         "name": "_deepnote_index_column"
        }
       ],
       "row_count": 918,
       "rows": [
        {
         "Age": "40",
         "ChestPainType": "ATA",
         "Cholesterol": "289",
         "ExerciseAngina": "N",
         "FastingBS": "0",
         "HD": "False",
         "HeartDisease": "0",
         "MaxHR": "172",
         "Oldpeak": "0.0",
         "RestingBP": "140",
         "RestingECG": "Normal",
         "ST_Slope": "Up",
         "Sex": "M",
         "_deepnote_index_column": "0"
        },
        {
         "Age": "49",
         "ChestPainType": "NAP",
         "Cholesterol": "180",
         "ExerciseAngina": "N",
         "FastingBS": "0",
         "HD": "True",
         "HeartDisease": "1",
         "MaxHR": "156",
         "Oldpeak": "1.0",
         "RestingBP": "160",
         "RestingECG": "Normal",
         "ST_Slope": "Flat",
         "Sex": "F",
         "_deepnote_index_column": "1"
        },
        {
         "Age": "37",
         "ChestPainType": "ATA",
         "Cholesterol": "283",
         "ExerciseAngina": "N",
         "FastingBS": "0",
         "HD": "False",
         "HeartDisease": "0",
         "MaxHR": "98",
         "Oldpeak": "0.0",
         "RestingBP": "130",
         "RestingECG": "ST",
         "ST_Slope": "Up",
         "Sex": "M",
         "_deepnote_index_column": "2"
        },
        {
         "Age": "48",
         "ChestPainType": "ASY",
         "Cholesterol": "214",
         "ExerciseAngina": "Y",
         "FastingBS": "0",
         "HD": "True",
         "HeartDisease": "1",
         "MaxHR": "108",
         "Oldpeak": "1.5",
         "RestingBP": "138",
         "RestingECG": "Normal",
         "ST_Slope": "Flat",
         "Sex": "F",
         "_deepnote_index_column": "3"
        },
        {
         "Age": "54",
         "ChestPainType": "NAP",
         "Cholesterol": "195",
         "ExerciseAngina": "N",
         "FastingBS": "0",
         "HD": "False",
         "HeartDisease": "0",
         "MaxHR": "122",
         "Oldpeak": "0.0",
         "RestingBP": "150",
         "RestingECG": "Normal",
         "ST_Slope": "Up",
         "Sex": "M",
         "_deepnote_index_column": "4"
        },
        {
         "Age": "39",
         "ChestPainType": "NAP",
         "Cholesterol": "339",
         "ExerciseAngina": "N",
         "FastingBS": "0",
         "HD": "False",
         "HeartDisease": "0",
         "MaxHR": "170",
         "Oldpeak": "0.0",
         "RestingBP": "120",
         "RestingECG": "Normal",
         "ST_Slope": "Up",
         "Sex": "M",
         "_deepnote_index_column": "5"
        },
        {
         "Age": "45",
         "ChestPainType": "ATA",
         "Cholesterol": "237",
         "ExerciseAngina": "N",
         "FastingBS": "0",
         "HD": "False",
         "HeartDisease": "0",
         "MaxHR": "170",
         "Oldpeak": "0.0",
         "RestingBP": "130",
         "RestingECG": "Normal",
         "ST_Slope": "Up",
         "Sex": "F",
         "_deepnote_index_column": "6"
        },
        {
         "Age": "54",
         "ChestPainType": "ATA",
         "Cholesterol": "208",
         "ExerciseAngina": "N",
         "FastingBS": "0",
         "HD": "False",
         "HeartDisease": "0",
         "MaxHR": "142",
         "Oldpeak": "0.0",
         "RestingBP": "110",
         "RestingECG": "Normal",
         "ST_Slope": "Up",
         "Sex": "M",
         "_deepnote_index_column": "7"
        },
        {
         "Age": "37",
         "ChestPainType": "ASY",
         "Cholesterol": "207",
         "ExerciseAngina": "Y",
         "FastingBS": "0",
         "HD": "True",
         "HeartDisease": "1",
         "MaxHR": "130",
         "Oldpeak": "1.5",
         "RestingBP": "140",
         "RestingECG": "Normal",
         "ST_Slope": "Flat",
         "Sex": "M",
         "_deepnote_index_column": "8"
        },
        {
         "Age": "48",
         "ChestPainType": "ATA",
         "Cholesterol": "284",
         "ExerciseAngina": "N",
         "FastingBS": "0",
         "HD": "False",
         "HeartDisease": "0",
         "MaxHR": "120",
         "Oldpeak": "0.0",
         "RestingBP": "120",
         "RestingECG": "Normal",
         "ST_Slope": "Up",
         "Sex": "F",
         "_deepnote_index_column": "9"
        }
       ]
      },
      "text/html": [
       "<div>\n",
       "<style scoped>\n",
       "    .dataframe tbody tr th:only-of-type {\n",
       "        vertical-align: middle;\n",
       "    }\n",
       "\n",
       "    .dataframe tbody tr th {\n",
       "        vertical-align: top;\n",
       "    }\n",
       "\n",
       "    .dataframe thead th {\n",
       "        text-align: right;\n",
       "    }\n",
       "</style>\n",
       "<table border=\"1\" class=\"dataframe\">\n",
       "  <thead>\n",
       "    <tr style=\"text-align: right;\">\n",
       "      <th></th>\n",
       "      <th>Age</th>\n",
       "      <th>Sex</th>\n",
       "      <th>ChestPainType</th>\n",
       "      <th>RestingBP</th>\n",
       "      <th>Cholesterol</th>\n",
       "      <th>FastingBS</th>\n",
       "      <th>RestingECG</th>\n",
       "      <th>MaxHR</th>\n",
       "      <th>ExerciseAngina</th>\n",
       "      <th>Oldpeak</th>\n",
       "      <th>ST_Slope</th>\n",
       "      <th>HeartDisease</th>\n",
       "      <th>HD</th>\n",
       "    </tr>\n",
       "  </thead>\n",
       "  <tbody>\n",
       "    <tr>\n",
       "      <th>0</th>\n",
       "      <td>40</td>\n",
       "      <td>M</td>\n",
       "      <td>ATA</td>\n",
       "      <td>140</td>\n",
       "      <td>289</td>\n",
       "      <td>0</td>\n",
       "      <td>Normal</td>\n",
       "      <td>172</td>\n",
       "      <td>N</td>\n",
       "      <td>0.0</td>\n",
       "      <td>Up</td>\n",
       "      <td>0</td>\n",
       "      <td>False</td>\n",
       "    </tr>\n",
       "    <tr>\n",
       "      <th>1</th>\n",
       "      <td>49</td>\n",
       "      <td>F</td>\n",
       "      <td>NAP</td>\n",
       "      <td>160</td>\n",
       "      <td>180</td>\n",
       "      <td>0</td>\n",
       "      <td>Normal</td>\n",
       "      <td>156</td>\n",
       "      <td>N</td>\n",
       "      <td>1.0</td>\n",
       "      <td>Flat</td>\n",
       "      <td>1</td>\n",
       "      <td>True</td>\n",
       "    </tr>\n",
       "    <tr>\n",
       "      <th>2</th>\n",
       "      <td>37</td>\n",
       "      <td>M</td>\n",
       "      <td>ATA</td>\n",
       "      <td>130</td>\n",
       "      <td>283</td>\n",
       "      <td>0</td>\n",
       "      <td>ST</td>\n",
       "      <td>98</td>\n",
       "      <td>N</td>\n",
       "      <td>0.0</td>\n",
       "      <td>Up</td>\n",
       "      <td>0</td>\n",
       "      <td>False</td>\n",
       "    </tr>\n",
       "    <tr>\n",
       "      <th>3</th>\n",
       "      <td>48</td>\n",
       "      <td>F</td>\n",
       "      <td>ASY</td>\n",
       "      <td>138</td>\n",
       "      <td>214</td>\n",
       "      <td>0</td>\n",
       "      <td>Normal</td>\n",
       "      <td>108</td>\n",
       "      <td>Y</td>\n",
       "      <td>1.5</td>\n",
       "      <td>Flat</td>\n",
       "      <td>1</td>\n",
       "      <td>True</td>\n",
       "    </tr>\n",
       "    <tr>\n",
       "      <th>4</th>\n",
       "      <td>54</td>\n",
       "      <td>M</td>\n",
       "      <td>NAP</td>\n",
       "      <td>150</td>\n",
       "      <td>195</td>\n",
       "      <td>0</td>\n",
       "      <td>Normal</td>\n",
       "      <td>122</td>\n",
       "      <td>N</td>\n",
       "      <td>0.0</td>\n",
       "      <td>Up</td>\n",
       "      <td>0</td>\n",
       "      <td>False</td>\n",
       "    </tr>\n",
       "    <tr>\n",
       "      <th>...</th>\n",
       "      <td>...</td>\n",
       "      <td>...</td>\n",
       "      <td>...</td>\n",
       "      <td>...</td>\n",
       "      <td>...</td>\n",
       "      <td>...</td>\n",
       "      <td>...</td>\n",
       "      <td>...</td>\n",
       "      <td>...</td>\n",
       "      <td>...</td>\n",
       "      <td>...</td>\n",
       "      <td>...</td>\n",
       "      <td>...</td>\n",
       "    </tr>\n",
       "    <tr>\n",
       "      <th>913</th>\n",
       "      <td>45</td>\n",
       "      <td>M</td>\n",
       "      <td>TA</td>\n",
       "      <td>110</td>\n",
       "      <td>264</td>\n",
       "      <td>0</td>\n",
       "      <td>Normal</td>\n",
       "      <td>132</td>\n",
       "      <td>N</td>\n",
       "      <td>1.2</td>\n",
       "      <td>Flat</td>\n",
       "      <td>1</td>\n",
       "      <td>True</td>\n",
       "    </tr>\n",
       "    <tr>\n",
       "      <th>914</th>\n",
       "      <td>68</td>\n",
       "      <td>M</td>\n",
       "      <td>ASY</td>\n",
       "      <td>144</td>\n",
       "      <td>193</td>\n",
       "      <td>1</td>\n",
       "      <td>Normal</td>\n",
       "      <td>141</td>\n",
       "      <td>N</td>\n",
       "      <td>3.4</td>\n",
       "      <td>Flat</td>\n",
       "      <td>1</td>\n",
       "      <td>True</td>\n",
       "    </tr>\n",
       "    <tr>\n",
       "      <th>915</th>\n",
       "      <td>57</td>\n",
       "      <td>M</td>\n",
       "      <td>ASY</td>\n",
       "      <td>130</td>\n",
       "      <td>131</td>\n",
       "      <td>0</td>\n",
       "      <td>Normal</td>\n",
       "      <td>115</td>\n",
       "      <td>Y</td>\n",
       "      <td>1.2</td>\n",
       "      <td>Flat</td>\n",
       "      <td>1</td>\n",
       "      <td>True</td>\n",
       "    </tr>\n",
       "    <tr>\n",
       "      <th>916</th>\n",
       "      <td>57</td>\n",
       "      <td>F</td>\n",
       "      <td>ATA</td>\n",
       "      <td>130</td>\n",
       "      <td>236</td>\n",
       "      <td>0</td>\n",
       "      <td>LVH</td>\n",
       "      <td>174</td>\n",
       "      <td>N</td>\n",
       "      <td>0.0</td>\n",
       "      <td>Flat</td>\n",
       "      <td>1</td>\n",
       "      <td>True</td>\n",
       "    </tr>\n",
       "    <tr>\n",
       "      <th>917</th>\n",
       "      <td>38</td>\n",
       "      <td>M</td>\n",
       "      <td>NAP</td>\n",
       "      <td>138</td>\n",
       "      <td>175</td>\n",
       "      <td>0</td>\n",
       "      <td>Normal</td>\n",
       "      <td>173</td>\n",
       "      <td>N</td>\n",
       "      <td>0.0</td>\n",
       "      <td>Up</td>\n",
       "      <td>0</td>\n",
       "      <td>False</td>\n",
       "    </tr>\n",
       "  </tbody>\n",
       "</table>\n",
       "<p>918 rows × 13 columns</p>\n",
       "</div>"
      ],
      "text/plain": [
       "     Age Sex ChestPainType  RestingBP  Cholesterol  FastingBS RestingECG  \\\n",
       "0     40   M           ATA        140          289          0     Normal   \n",
       "1     49   F           NAP        160          180          0     Normal   \n",
       "2     37   M           ATA        130          283          0         ST   \n",
       "3     48   F           ASY        138          214          0     Normal   \n",
       "4     54   M           NAP        150          195          0     Normal   \n",
       "..   ...  ..           ...        ...          ...        ...        ...   \n",
       "913   45   M            TA        110          264          0     Normal   \n",
       "914   68   M           ASY        144          193          1     Normal   \n",
       "915   57   M           ASY        130          131          0     Normal   \n",
       "916   57   F           ATA        130          236          0        LVH   \n",
       "917   38   M           NAP        138          175          0     Normal   \n",
       "\n",
       "     MaxHR ExerciseAngina  Oldpeak ST_Slope  HeartDisease     HD  \n",
       "0      172              N      0.0       Up             0  False  \n",
       "1      156              N      1.0     Flat             1   True  \n",
       "2       98              N      0.0       Up             0  False  \n",
       "3      108              Y      1.5     Flat             1   True  \n",
       "4      122              N      0.0       Up             0  False  \n",
       "..     ...            ...      ...      ...           ...    ...  \n",
       "913    132              N      1.2     Flat             1   True  \n",
       "914    141              N      3.4     Flat             1   True  \n",
       "915    115              Y      1.2     Flat             1   True  \n",
       "916    174              N      0.0     Flat             1   True  \n",
       "917    173              N      0.0       Up             0  False  \n",
       "\n",
       "[918 rows x 13 columns]"
      ]
     },
     "execution_count": 11,
     "metadata": {},
     "output_type": "execute_result"
    }
   ],
   "source": [
    "df"
   ]
  },
  {
   "cell_type": "markdown",
   "metadata": {
    "cell_id": "589ee809d94849718b37a4a93ffda434",
    "deepnote_cell_type": "markdown",
    "tags": []
   },
   "source": [
    "### Data Analysis"
   ]
  },
  {
   "cell_type": "code",
   "execution_count": 12,
   "metadata": {
    "cell_id": "8eb74214b18b4fd3b06b7f69ff14c76f",
    "deepnote_cell_type": "code",
    "deepnote_to_be_reexecuted": false,
    "execution_millis": 36,
    "execution_start": 1670334563332,
    "source_hash": "96846a11",
    "tags": []
   },
   "outputs": [
    {
     "data": {
      "application/vnd.deepnote.dataframe.v3+json": {
       "column_count": 13,
       "columns": [
        {
         "dtype": "int64",
         "name": "Age",
         "stats": {
          "histogram": [
           {
            "bin_end": 42.8,
            "bin_start": 40,
            "count": 2
           },
           {
            "bin_end": 45.6,
            "bin_start": 42.8,
            "count": 1
           },
           {
            "bin_end": 48.4,
            "bin_start": 45.6,
            "count": 1
           },
           {
            "bin_end": 51.2,
            "bin_start": 48.4,
            "count": 2
           },
           {
            "bin_end": 54,
            "bin_start": 51.2,
            "count": 1
           },
           {
            "bin_end": 56.8,
            "bin_start": 54,
            "count": 1
           },
           {
            "bin_end": 59.599999999999994,
            "bin_start": 56.8,
            "count": 1
           },
           {
            "bin_end": 62.4,
            "bin_start": 59.599999999999994,
            "count": 0
           },
           {
            "bin_end": 65.2,
            "bin_start": 62.4,
            "count": 0
           },
           {
            "bin_end": 68,
            "bin_start": 65.2,
            "count": 1
           }
          ],
          "max": "68",
          "min": "40",
          "nan_count": 0,
          "unique_count": 9
         }
        },
        {
         "dtype": "object",
         "name": "Sex",
         "stats": {
          "categories": [
           {
            "count": 9,
            "name": "M"
           },
           {
            "count": 1,
            "name": "F"
           }
          ],
          "nan_count": 0,
          "unique_count": 2
         }
        },
        {
         "dtype": "object",
         "name": "ChestPainType",
         "stats": {
          "categories": [
           {
            "count": 5,
            "name": "ASY"
           },
           {
            "count": 3,
            "name": "NAP"
           },
           {
            "count": 2,
            "name": "ATA"
           }
          ],
          "nan_count": 0,
          "unique_count": 3
         }
        },
        {
         "dtype": "int64",
         "name": "RestingBP",
         "stats": {
          "histogram": [
           {
            "bin_end": 100.5,
            "bin_start": 95,
            "count": 1
           },
           {
            "bin_end": 106,
            "bin_start": 100.5,
            "count": 0
           },
           {
            "bin_end": 111.5,
            "bin_start": 106,
            "count": 2
           },
           {
            "bin_end": 117,
            "bin_start": 111.5,
            "count": 0
           },
           {
            "bin_end": 122.5,
            "bin_start": 117,
            "count": 2
           },
           {
            "bin_end": 128,
            "bin_start": 122.5,
            "count": 0
           },
           {
            "bin_end": 133.5,
            "bin_start": 128,
            "count": 3
           },
           {
            "bin_end": 139,
            "bin_start": 133.5,
            "count": 1
           },
           {
            "bin_end": 144.5,
            "bin_start": 139,
            "count": 0
           },
           {
            "bin_end": 150,
            "bin_start": 144.5,
            "count": 1
           }
          ],
          "max": "150",
          "min": "95",
          "nan_count": 0,
          "unique_count": 7
         }
        },
        {
         "dtype": "int64",
         "name": "Cholesterol",
         "stats": {
          "histogram": [
           {
            "bin_end": 28.4,
            "bin_start": 0,
            "count": 3
           },
           {
            "bin_end": 56.8,
            "bin_start": 28.4,
            "count": 0
           },
           {
            "bin_end": 85.19999999999999,
            "bin_start": 56.8,
            "count": 0
           },
           {
            "bin_end": 113.6,
            "bin_start": 85.19999999999999,
            "count": 0
           },
           {
            "bin_end": 142,
            "bin_start": 113.6,
            "count": 0
           },
           {
            "bin_end": 170.39999999999998,
            "bin_start": 142,
            "count": 0
           },
           {
            "bin_end": 198.79999999999998,
            "bin_start": 170.39999999999998,
            "count": 0
           },
           {
            "bin_end": 227.2,
            "bin_start": 198.79999999999998,
            "count": 2
           },
           {
            "bin_end": 255.6,
            "bin_start": 227.2,
            "count": 4
           },
           {
            "bin_end": 284,
            "bin_start": 255.6,
            "count": 1
           }
          ],
          "max": "284",
          "min": "0",
          "nan_count": 0,
          "unique_count": 7
         }
        },
        {
         "dtype": "int64",
         "name": "FastingBS",
         "stats": {
          "histogram": [
           {
            "bin_end": 0.1,
            "bin_start": 0,
            "count": 8
           },
           {
            "bin_end": 0.2,
            "bin_start": 0.1,
            "count": 0
           },
           {
            "bin_end": 0.30000000000000004,
            "bin_start": 0.2,
            "count": 0
           },
           {
            "bin_end": 0.4,
            "bin_start": 0.30000000000000004,
            "count": 0
           },
           {
            "bin_end": 0.5,
            "bin_start": 0.4,
            "count": 0
           },
           {
            "bin_end": 0.6000000000000001,
            "bin_start": 0.5,
            "count": 0
           },
           {
            "bin_end": 0.7000000000000001,
            "bin_start": 0.6000000000000001,
            "count": 0
           },
           {
            "bin_end": 0.8,
            "bin_start": 0.7000000000000001,
            "count": 0
           },
           {
            "bin_end": 0.9,
            "bin_start": 0.8,
            "count": 0
           },
           {
            "bin_end": 1,
            "bin_start": 0.9,
            "count": 2
           }
          ],
          "max": "1",
          "min": "0",
          "nan_count": 0,
          "unique_count": 2
         }
        },
        {
         "dtype": "object",
         "name": "RestingECG",
         "stats": {
          "categories": [
           {
            "count": 6,
            "name": "Normal"
           },
           {
            "count": 4,
            "name": "ST"
           }
          ],
          "nan_count": 0,
          "unique_count": 2
         }
        },
        {
         "dtype": "int64",
         "name": "MaxHR",
         "stats": {
          "histogram": [
           {
            "bin_end": 87.1,
            "bin_start": 80,
            "count": 1
           },
           {
            "bin_end": 94.2,
            "bin_start": 87.1,
            "count": 0
           },
           {
            "bin_end": 101.3,
            "bin_start": 94.2,
            "count": 1
           },
           {
            "bin_end": 108.4,
            "bin_start": 101.3,
            "count": 0
           },
           {
            "bin_end": 115.5,
            "bin_start": 108.4,
            "count": 0
           },
           {
            "bin_end": 122.6,
            "bin_start": 115.5,
            "count": 3
           },
           {
            "bin_end": 129.7,
            "bin_start": 122.6,
            "count": 0
           },
           {
            "bin_end": 136.8,
            "bin_start": 129.7,
            "count": 1
           },
           {
            "bin_end": 143.9,
            "bin_start": 136.8,
            "count": 1
           },
           {
            "bin_end": 151,
            "bin_start": 143.9,
            "count": 3
           }
          ],
          "max": "151",
          "min": "80",
          "nan_count": 0,
          "unique_count": 10
         }
        },
        {
         "dtype": "object",
         "name": "ExerciseAngina",
         "stats": {
          "categories": [
           {
            "count": 6,
            "name": "N"
           },
           {
            "count": 4,
            "name": "Y"
           }
          ],
          "nan_count": 0,
          "unique_count": 2
         }
        },
        {
         "dtype": "float64",
         "name": "Oldpeak",
         "stats": {
          "histogram": [
           {
            "bin_end": 0.2,
            "bin_start": 0,
            "count": 7
           },
           {
            "bin_end": 0.4,
            "bin_start": 0.2,
            "count": 0
           },
           {
            "bin_end": 0.6000000000000001,
            "bin_start": 0.4,
            "count": 1
           },
           {
            "bin_end": 0.8,
            "bin_start": 0.6000000000000001,
            "count": 0
           },
           {
            "bin_end": 1,
            "bin_start": 0.8,
            "count": 0
           },
           {
            "bin_end": 1.2000000000000002,
            "bin_start": 1,
            "count": 1
           },
           {
            "bin_end": 1.4000000000000001,
            "bin_start": 1.2000000000000002,
            "count": 0
           },
           {
            "bin_end": 1.6,
            "bin_start": 1.4000000000000001,
            "count": 0
           },
           {
            "bin_end": 1.8,
            "bin_start": 1.6,
            "count": 0
           },
           {
            "bin_end": 2,
            "bin_start": 1.8,
            "count": 1
           }
          ],
          "max": "2.0",
          "min": "0.0",
          "nan_count": 0,
          "unique_count": 4
         }
        },
        {
         "dtype": "object",
         "name": "ST_Slope",
         "stats": {
          "categories": [
           {
            "count": 7,
            "name": "Up"
           },
           {
            "count": 3,
            "name": "Flat"
           }
          ],
          "nan_count": 0,
          "unique_count": 2
         }
        },
        {
         "dtype": "int64",
         "name": "HeartDisease",
         "stats": {
          "histogram": [
           {
            "bin_end": 0.1,
            "bin_start": 0,
            "count": 6
           },
           {
            "bin_end": 0.2,
            "bin_start": 0.1,
            "count": 0
           },
           {
            "bin_end": 0.30000000000000004,
            "bin_start": 0.2,
            "count": 0
           },
           {
            "bin_end": 0.4,
            "bin_start": 0.30000000000000004,
            "count": 0
           },
           {
            "bin_end": 0.5,
            "bin_start": 0.4,
            "count": 0
           },
           {
            "bin_end": 0.6000000000000001,
            "bin_start": 0.5,
            "count": 0
           },
           {
            "bin_end": 0.7000000000000001,
            "bin_start": 0.6000000000000001,
            "count": 0
           },
           {
            "bin_end": 0.8,
            "bin_start": 0.7000000000000001,
            "count": 0
           },
           {
            "bin_end": 0.9,
            "bin_start": 0.8,
            "count": 0
           },
           {
            "bin_end": 1,
            "bin_start": 0.9,
            "count": 4
           }
          ],
          "max": "1",
          "min": "0",
          "nan_count": 0,
          "unique_count": 2
         }
        },
        {
         "dtype": "object",
         "name": "HD",
         "stats": {
          "categories": [
           {
            "count": 6,
            "name": "False"
           },
           {
            "count": 4,
            "name": "True"
           }
          ],
          "nan_count": 0,
          "unique_count": 2
         }
        },
        {
         "dtype": "int64",
         "name": "_deepnote_index_column"
        }
       ],
       "row_count": 10,
       "rows": [
        {
         "Age": "50",
         "ChestPainType": "ASY",
         "Cholesterol": "233",
         "ExerciseAngina": "Y",
         "FastingBS": "0",
         "HD": "True",
         "HeartDisease": "1",
         "MaxHR": "121",
         "Oldpeak": "2.0",
         "RestingBP": "130",
         "RestingECG": "Normal",
         "ST_Slope": "Flat",
         "Sex": "M",
         "_deepnote_index_column": "50"
        },
        {
         "Age": "68",
         "ChestPainType": "NAP",
         "Cholesterol": "254",
         "ExerciseAngina": "Y",
         "FastingBS": "1",
         "HD": "False",
         "HeartDisease": "0",
         "MaxHR": "151",
         "Oldpeak": "0.0",
         "RestingBP": "134",
         "RestingECG": "Normal",
         "ST_Slope": "Up",
         "Sex": "M",
         "_deepnote_index_column": "604"
        },
        {
         "Age": "52",
         "ChestPainType": "ATA",
         "Cholesterol": "284",
         "ExerciseAngina": "N",
         "FastingBS": "0",
         "HD": "False",
         "HeartDisease": "0",
         "MaxHR": "118",
         "Oldpeak": "0.0",
         "RestingBP": "120",
         "RestingECG": "Normal",
         "ST_Slope": "Up",
         "Sex": "M",
         "_deepnote_index_column": "27"
        },
        {
         "Age": "58",
         "ChestPainType": "ASY",
         "Cholesterol": "0",
         "ExerciseAngina": "Y",
         "FastingBS": "0",
         "HD": "True",
         "HeartDisease": "1",
         "MaxHR": "100",
         "Oldpeak": "1.0",
         "RestingBP": "130",
         "RestingECG": "ST",
         "ST_Slope": "Flat",
         "Sex": "M",
         "_deepnote_index_column": "353"
        },
        {
         "Age": "46",
         "ChestPainType": "ASY",
         "Cholesterol": "240",
         "ExerciseAngina": "N",
         "FastingBS": "0",
         "HD": "False",
         "HeartDisease": "0",
         "MaxHR": "140",
         "Oldpeak": "0.0",
         "RestingBP": "110",
         "RestingECG": "ST",
         "ST_Slope": "Up",
         "Sex": "M",
         "_deepnote_index_column": "122"
        },
        {
         "Age": "51",
         "ChestPainType": "NAP",
         "Cholesterol": "200",
         "ExerciseAngina": "N",
         "FastingBS": "0",
         "HD": "False",
         "HeartDisease": "0",
         "MaxHR": "120",
         "Oldpeak": "0.5",
         "RestingBP": "150",
         "RestingECG": "Normal",
         "ST_Slope": "Up",
         "Sex": "F",
         "_deepnote_index_column": "258"
        },
        {
         "Age": "40",
         "ChestPainType": "ASY",
         "Cholesterol": "0",
         "ExerciseAngina": "N",
         "FastingBS": "1",
         "HD": "True",
         "HeartDisease": "1",
         "MaxHR": "144",
         "Oldpeak": "0.0",
         "RestingBP": "95",
         "RestingECG": "ST",
         "ST_Slope": "Up",
         "Sex": "M",
         "_deepnote_index_column": "333"
        },
        {
         "Age": "56",
         "ChestPainType": "ASY",
         "Cholesterol": "0",
         "ExerciseAngina": "N",
         "FastingBS": "0",
         "HD": "True",
         "HeartDisease": "1",
         "MaxHR": "148",
         "Oldpeak": "0.0",
         "RestingBP": "120",
         "RestingECG": "ST",
         "ST_Slope": "Flat",
         "Sex": "M",
         "_deepnote_index_column": "363"
        },
        {
         "Age": "44",
         "ChestPainType": "ATA",
         "Cholesterol": "215",
         "ExerciseAngina": "N",
         "FastingBS": "0",
         "HD": "False",
         "HeartDisease": "0",
         "MaxHR": "135",
         "Oldpeak": "0.0",
         "RestingBP": "130",
         "RestingECG": "Normal",
         "ST_Slope": "Up",
         "Sex": "M",
         "_deepnote_index_column": "71"
        },
        {
         "Age": "40",
         "ChestPainType": "NAP",
         "Cholesterol": "240",
         "ExerciseAngina": "Y",
         "FastingBS": "0",
         "HD": "False",
         "HeartDisease": "0",
         "MaxHR": "80",
         "Oldpeak": "0.0",
         "RestingBP": "106",
         "RestingECG": "Normal",
         "ST_Slope": "Up",
         "Sex": "M",
         "_deepnote_index_column": "507"
        }
       ]
      },
      "text/html": [
       "<div>\n",
       "<style scoped>\n",
       "    .dataframe tbody tr th:only-of-type {\n",
       "        vertical-align: middle;\n",
       "    }\n",
       "\n",
       "    .dataframe tbody tr th {\n",
       "        vertical-align: top;\n",
       "    }\n",
       "\n",
       "    .dataframe thead th {\n",
       "        text-align: right;\n",
       "    }\n",
       "</style>\n",
       "<table border=\"1\" class=\"dataframe\">\n",
       "  <thead>\n",
       "    <tr style=\"text-align: right;\">\n",
       "      <th></th>\n",
       "      <th>Age</th>\n",
       "      <th>Sex</th>\n",
       "      <th>ChestPainType</th>\n",
       "      <th>RestingBP</th>\n",
       "      <th>Cholesterol</th>\n",
       "      <th>FastingBS</th>\n",
       "      <th>RestingECG</th>\n",
       "      <th>MaxHR</th>\n",
       "      <th>ExerciseAngina</th>\n",
       "      <th>Oldpeak</th>\n",
       "      <th>ST_Slope</th>\n",
       "      <th>HeartDisease</th>\n",
       "      <th>HD</th>\n",
       "    </tr>\n",
       "  </thead>\n",
       "  <tbody>\n",
       "    <tr>\n",
       "      <th>50</th>\n",
       "      <td>50</td>\n",
       "      <td>M</td>\n",
       "      <td>ASY</td>\n",
       "      <td>130</td>\n",
       "      <td>233</td>\n",
       "      <td>0</td>\n",
       "      <td>Normal</td>\n",
       "      <td>121</td>\n",
       "      <td>Y</td>\n",
       "      <td>2.0</td>\n",
       "      <td>Flat</td>\n",
       "      <td>1</td>\n",
       "      <td>True</td>\n",
       "    </tr>\n",
       "    <tr>\n",
       "      <th>604</th>\n",
       "      <td>68</td>\n",
       "      <td>M</td>\n",
       "      <td>NAP</td>\n",
       "      <td>134</td>\n",
       "      <td>254</td>\n",
       "      <td>1</td>\n",
       "      <td>Normal</td>\n",
       "      <td>151</td>\n",
       "      <td>Y</td>\n",
       "      <td>0.0</td>\n",
       "      <td>Up</td>\n",
       "      <td>0</td>\n",
       "      <td>False</td>\n",
       "    </tr>\n",
       "    <tr>\n",
       "      <th>27</th>\n",
       "      <td>52</td>\n",
       "      <td>M</td>\n",
       "      <td>ATA</td>\n",
       "      <td>120</td>\n",
       "      <td>284</td>\n",
       "      <td>0</td>\n",
       "      <td>Normal</td>\n",
       "      <td>118</td>\n",
       "      <td>N</td>\n",
       "      <td>0.0</td>\n",
       "      <td>Up</td>\n",
       "      <td>0</td>\n",
       "      <td>False</td>\n",
       "    </tr>\n",
       "    <tr>\n",
       "      <th>353</th>\n",
       "      <td>58</td>\n",
       "      <td>M</td>\n",
       "      <td>ASY</td>\n",
       "      <td>130</td>\n",
       "      <td>0</td>\n",
       "      <td>0</td>\n",
       "      <td>ST</td>\n",
       "      <td>100</td>\n",
       "      <td>Y</td>\n",
       "      <td>1.0</td>\n",
       "      <td>Flat</td>\n",
       "      <td>1</td>\n",
       "      <td>True</td>\n",
       "    </tr>\n",
       "    <tr>\n",
       "      <th>122</th>\n",
       "      <td>46</td>\n",
       "      <td>M</td>\n",
       "      <td>ASY</td>\n",
       "      <td>110</td>\n",
       "      <td>240</td>\n",
       "      <td>0</td>\n",
       "      <td>ST</td>\n",
       "      <td>140</td>\n",
       "      <td>N</td>\n",
       "      <td>0.0</td>\n",
       "      <td>Up</td>\n",
       "      <td>0</td>\n",
       "      <td>False</td>\n",
       "    </tr>\n",
       "    <tr>\n",
       "      <th>258</th>\n",
       "      <td>51</td>\n",
       "      <td>F</td>\n",
       "      <td>NAP</td>\n",
       "      <td>150</td>\n",
       "      <td>200</td>\n",
       "      <td>0</td>\n",
       "      <td>Normal</td>\n",
       "      <td>120</td>\n",
       "      <td>N</td>\n",
       "      <td>0.5</td>\n",
       "      <td>Up</td>\n",
       "      <td>0</td>\n",
       "      <td>False</td>\n",
       "    </tr>\n",
       "    <tr>\n",
       "      <th>333</th>\n",
       "      <td>40</td>\n",
       "      <td>M</td>\n",
       "      <td>ASY</td>\n",
       "      <td>95</td>\n",
       "      <td>0</td>\n",
       "      <td>1</td>\n",
       "      <td>ST</td>\n",
       "      <td>144</td>\n",
       "      <td>N</td>\n",
       "      <td>0.0</td>\n",
       "      <td>Up</td>\n",
       "      <td>1</td>\n",
       "      <td>True</td>\n",
       "    </tr>\n",
       "    <tr>\n",
       "      <th>363</th>\n",
       "      <td>56</td>\n",
       "      <td>M</td>\n",
       "      <td>ASY</td>\n",
       "      <td>120</td>\n",
       "      <td>0</td>\n",
       "      <td>0</td>\n",
       "      <td>ST</td>\n",
       "      <td>148</td>\n",
       "      <td>N</td>\n",
       "      <td>0.0</td>\n",
       "      <td>Flat</td>\n",
       "      <td>1</td>\n",
       "      <td>True</td>\n",
       "    </tr>\n",
       "    <tr>\n",
       "      <th>71</th>\n",
       "      <td>44</td>\n",
       "      <td>M</td>\n",
       "      <td>ATA</td>\n",
       "      <td>130</td>\n",
       "      <td>215</td>\n",
       "      <td>0</td>\n",
       "      <td>Normal</td>\n",
       "      <td>135</td>\n",
       "      <td>N</td>\n",
       "      <td>0.0</td>\n",
       "      <td>Up</td>\n",
       "      <td>0</td>\n",
       "      <td>False</td>\n",
       "    </tr>\n",
       "    <tr>\n",
       "      <th>507</th>\n",
       "      <td>40</td>\n",
       "      <td>M</td>\n",
       "      <td>NAP</td>\n",
       "      <td>106</td>\n",
       "      <td>240</td>\n",
       "      <td>0</td>\n",
       "      <td>Normal</td>\n",
       "      <td>80</td>\n",
       "      <td>Y</td>\n",
       "      <td>0.0</td>\n",
       "      <td>Up</td>\n",
       "      <td>0</td>\n",
       "      <td>False</td>\n",
       "    </tr>\n",
       "  </tbody>\n",
       "</table>\n",
       "</div>"
      ],
      "text/plain": [
       "     Age Sex ChestPainType  RestingBP  Cholesterol  FastingBS RestingECG  \\\n",
       "50    50   M           ASY        130          233          0     Normal   \n",
       "604   68   M           NAP        134          254          1     Normal   \n",
       "27    52   M           ATA        120          284          0     Normal   \n",
       "353   58   M           ASY        130            0          0         ST   \n",
       "122   46   M           ASY        110          240          0         ST   \n",
       "258   51   F           NAP        150          200          0     Normal   \n",
       "333   40   M           ASY         95            0          1         ST   \n",
       "363   56   M           ASY        120            0          0         ST   \n",
       "71    44   M           ATA        130          215          0     Normal   \n",
       "507   40   M           NAP        106          240          0     Normal   \n",
       "\n",
       "     MaxHR ExerciseAngina  Oldpeak ST_Slope  HeartDisease     HD  \n",
       "50     121              Y      2.0     Flat             1   True  \n",
       "604    151              Y      0.0       Up             0  False  \n",
       "27     118              N      0.0       Up             0  False  \n",
       "353    100              Y      1.0     Flat             1   True  \n",
       "122    140              N      0.0       Up             0  False  \n",
       "258    120              N      0.5       Up             0  False  \n",
       "333    144              N      0.0       Up             1   True  \n",
       "363    148              N      0.0     Flat             1   True  \n",
       "71     135              N      0.0       Up             0  False  \n",
       "507     80              Y      0.0       Up             0  False  "
      ]
     },
     "execution_count": 12,
     "metadata": {},
     "output_type": "execute_result"
    }
   ],
   "source": [
    "df.sample(10)"
   ]
  },
  {
   "cell_type": "code",
   "execution_count": 13,
   "metadata": {
    "cell_id": "d7615147122f4f498c6cd7b4c08fe949",
    "deepnote_cell_type": "code",
    "deepnote_to_be_reexecuted": false,
    "execution_millis": 7,
    "execution_start": 1670334563376,
    "source_hash": "de1e323c",
    "tags": []
   },
   "outputs": [
    {
     "name": "stdout",
     "output_type": "stream",
     "text": [
      "<class 'pandas.core.frame.DataFrame'>\n",
      "RangeIndex: 918 entries, 0 to 917\n",
      "Data columns (total 13 columns):\n",
      " #   Column          Non-Null Count  Dtype  \n",
      "---  ------          --------------  -----  \n",
      " 0   Age             918 non-null    int64  \n",
      " 1   Sex             918 non-null    object \n",
      " 2   ChestPainType   918 non-null    object \n",
      " 3   RestingBP       918 non-null    int64  \n",
      " 4   Cholesterol     918 non-null    int64  \n",
      " 5   FastingBS       918 non-null    int64  \n",
      " 6   RestingECG      918 non-null    object \n",
      " 7   MaxHR           918 non-null    int64  \n",
      " 8   ExerciseAngina  918 non-null    object \n",
      " 9   Oldpeak         918 non-null    float64\n",
      " 10  ST_Slope        918 non-null    object \n",
      " 11  HeartDisease    918 non-null    int64  \n",
      " 12  HD              918 non-null    object \n",
      "dtypes: float64(1), int64(6), object(6)\n",
      "memory usage: 93.4+ KB\n"
     ]
    }
   ],
   "source": [
    "df.info()"
   ]
  },
  {
   "cell_type": "code",
   "execution_count": 14,
   "metadata": {
    "cell_id": "958d7e5ede79488a97a29f25dfeb1720",
    "deepnote_cell_type": "code",
    "deepnote_to_be_reexecuted": false,
    "execution_millis": 39,
    "execution_start": 1670334563385,
    "source_hash": "8794a789",
    "tags": []
   },
   "outputs": [
    {
     "data": {
      "text/plain": [
       "1    508\n",
       "0    410\n",
       "Name: HeartDisease, dtype: int64"
      ]
     },
     "execution_count": 14,
     "metadata": {},
     "output_type": "execute_result"
    }
   ],
   "source": [
    "df[\"HeartDisease\"].value_counts()"
   ]
  },
  {
   "cell_type": "markdown",
   "metadata": {
    "cell_id": "542d51703a3f4c0f8026c5295af84575",
    "deepnote_cell_type": "markdown",
    "tags": []
   },
   "source": [
    "In this heart failure prediction dataset, 508/918, or about 55% of the people, had a heart condition. In the dataset's heart condition column, the value 1 means the person has a heart disease, and 0 means no heart disease was detected."
   ]
  },
  {
   "cell_type": "code",
   "execution_count": 15,
   "metadata": {
    "cell_id": "e1818c0629964bf2855e3cb3498729f4",
    "deepnote_cell_type": "code",
    "deepnote_to_be_reexecuted": false,
    "execution_millis": 909,
    "execution_start": 1670334563428,
    "source_hash": "23a4d7b3",
    "tags": []
   },
   "outputs": [
    {
     "data": {
      "image/png": "[encoded data removed]",
      "text/plain": [
       "<Figure size 640x480 with 2 Axes>"
      ]
     },
     "metadata": {
      "image/png": {
       "height": 498,
       "width": 606
      }
     },
     "output_type": "display_data"
    }
   ],
   "source": [
    "dataplot=sns.heatmap(df.corr(), annot=True)"
   ]
  },
  {
   "cell_type": "markdown",
   "metadata": {
    "cell_id": "7255f668ebce4c8684926d72c4379b38",
    "deepnote_cell_type": "markdown",
    "tags": []
   },
   "source": [
    "- Based on the correlation matrix, there isn't a strong correlation between the different cardiovascular risk factors and the target values. \n",
    "- The risk factor Oldpeak (numeric value for depression measure) has the highest positive correlation with heart disease, which means that if depression measure increases, then heart disease likelihood also increases and vice versa for the opposite direction.\n",
    "- Risk factor MaxHR (Maximum Heart Rate) has the highest negative correlation with HeartDisease, which means that as one variable increases, the other variable decreases. So if MaxHR increases, the likelihood of heart disease decreases.  \n",
    "- There is a surprising finding in this data: the correlation between cholesterol and heart disease is negative. "
   ]
  },
  {
   "cell_type": "markdown",
   "metadata": {
    "cell_id": "471771bf193f422d8802304924c7a095",
    "deepnote_cell_type": "markdown",
    "tags": []
   },
   "source": [
    "### Train_Test_split"
   ]
  },
  {
   "cell_type": "code",
   "execution_count": 16,
   "metadata": {
    "cell_id": "ffd09c8f472048308c91b73b617612a0",
    "deepnote_cell_type": "code",
    "deepnote_to_be_reexecuted": false,
    "execution_millis": 0,
    "execution_start": 1670334564347,
    "source_hash": "fb6c0d8f",
    "tags": []
   },
   "outputs": [],
   "source": [
    "num_cols.remove(\"HeartDisease\")"
   ]
  },
  {
   "cell_type": "code",
   "execution_count": 17,
   "metadata": {
    "cell_id": "4a0c6954db734dc7a2cf2fc0620f75ee",
    "deepnote_cell_type": "code",
    "deepnote_to_be_reexecuted": false,
    "execution_millis": 1,
    "execution_start": 1670334564348,
    "source_hash": "57a4c00d",
    "tags": []
   },
   "outputs": [],
   "source": [
    "X = df[num_cols]\n",
    "y = df[\"HD\"]"
   ]
  },
  {
   "cell_type": "code",
   "execution_count": 18,
   "metadata": {
    "cell_id": "243e57a225f34db8bef1dcc6afe320b3",
    "deepnote_cell_type": "code",
    "deepnote_to_be_reexecuted": false,
    "execution_millis": 12,
    "execution_start": 1670334564353,
    "source_hash": "41583ae9",
    "tags": []
   },
   "outputs": [
    {
     "data": {
      "text/plain": [
       "Index(['Age', 'RestingBP', 'Cholesterol', 'FastingBS', 'MaxHR', 'Oldpeak'], dtype='object')"
      ]
     },
     "execution_count": 18,
     "metadata": {},
     "output_type": "execute_result"
    }
   ],
   "source": [
    "X.columns"
   ]
  },
  {
   "cell_type": "code",
   "execution_count": 19,
   "metadata": {
    "cell_id": "fb50c60a3c26465b9e6239afd9faa205",
    "deepnote_cell_type": "code",
    "deepnote_to_be_reexecuted": false,
    "execution_millis": 5,
    "execution_start": 1670334564362,
    "source_hash": "a2b610a6",
    "tags": []
   },
   "outputs": [],
   "source": [
    "scaler = StandardScaler()"
   ]
  },
  {
   "cell_type": "code",
   "execution_count": 20,
   "metadata": {
    "cell_id": "59aabffa0e334fd3a818787e0b7e733c",
    "deepnote_cell_type": "code",
    "deepnote_to_be_reexecuted": false,
    "execution_millis": 6,
    "execution_start": 1670334564367,
    "source_hash": "bbf3ae1c",
    "tags": []
   },
   "outputs": [],
   "source": [
    "X_train, X_test, y_train, y_test = train_test_split(X,y, train_size = 0.8, random_state = 1)"
   ]
  },
  {
   "cell_type": "code",
   "execution_count": 21,
   "metadata": {
    "cell_id": "584e7d6ee9fb4c8eb02402b5cbdea34f",
    "deepnote_cell_type": "code",
    "deepnote_to_be_reexecuted": false,
    "execution_millis": 105,
    "execution_start": 1670334564377,
    "source_hash": "f4d7347a",
    "tags": []
   },
   "outputs": [],
   "source": [
    "X_train = scaler.fit_transform(X_train)\n",
    "X_test = scaler.transform(X_test)"
   ]
  },
  {
   "cell_type": "code",
   "execution_count": 22,
   "metadata": {
    "cell_id": "da8df4314f73423b8cd1d1601df60d6e",
    "deepnote_cell_type": "code",
    "deepnote_to_be_reexecuted": false,
    "execution_millis": 5,
    "execution_start": 1670334564486,
    "source_hash": "38f368cd",
    "tags": []
   },
   "outputs": [
    {
     "data": {
      "text/plain": [
       "(734, 6)"
      ]
     },
     "execution_count": 22,
     "metadata": {},
     "output_type": "execute_result"
    }
   ],
   "source": [
    "X_train.shape"
   ]
  },
  {
   "cell_type": "code",
   "execution_count": 23,
   "metadata": {
    "cell_id": "d4f469768fe14d8aafaf07090578241a",
    "deepnote_cell_type": "code",
    "deepnote_to_be_reexecuted": false,
    "execution_millis": 5,
    "execution_start": 1670334564495,
    "source_hash": "9cd47083",
    "tags": []
   },
   "outputs": [
    {
     "data": {
      "text/plain": [
       "(734,)"
      ]
     },
     "execution_count": 23,
     "metadata": {},
     "output_type": "execute_result"
    }
   ],
   "source": [
    "y_train.shape"
   ]
  },
  {
   "cell_type": "markdown",
   "metadata": {
    "cell_id": "cccea6b988ba465a9478b1a5a3a20d26",
    "deepnote_cell_type": "markdown",
    "tags": []
   },
   "source": [
    "### Decision Tree Classifier"
   ]
  },
  {
   "cell_type": "code",
   "execution_count": 24,
   "metadata": {
    "cell_id": "55d4e4540d33400eb71be514299ecd40",
    "deepnote_cell_type": "code",
    "deepnote_to_be_reexecuted": false,
    "execution_millis": 23,
    "execution_start": 1670334564502,
    "source_hash": "f9bcbcc6",
    "tags": []
   },
   "outputs": [],
   "source": [
    "X1 = df[num_cols]\n",
    "y1 = df[\"HD\"]"
   ]
  },
  {
   "cell_type": "code",
   "execution_count": 25,
   "metadata": {
    "cell_id": "be4dcd6e6cac49cea311029cbb6b7b56",
    "deepnote_cell_type": "code",
    "deepnote_to_be_reexecuted": false,
    "execution_millis": 10,
    "execution_start": 1670334564527,
    "source_hash": "618a311d",
    "tags": []
   },
   "outputs": [],
   "source": [
    "X1_train, X1_test, y1_train, y1_test = train_test_split(X1,y1, train_size = 0.8, random_state = 1)"
   ]
  },
  {
   "cell_type": "code",
   "execution_count": 26,
   "metadata": {
    "cell_id": "d22f042ac9bc4777a8b77b42a4f8e68f",
    "deepnote_cell_type": "code",
    "deepnote_to_be_reexecuted": false,
    "execution_millis": 1,
    "execution_start": 1670334564542,
    "source_hash": "98655397",
    "tags": []
   },
   "outputs": [],
   "source": [
    "clf = DecisionTreeClassifier(max_leaf_nodes=7, max_depth=10, random_state=1)"
   ]
  },
  {
   "cell_type": "code",
   "execution_count": 27,
   "metadata": {
    "cell_id": "d4dcb0b5241747779528d386a79ab105",
    "deepnote_cell_type": "code",
    "deepnote_to_be_reexecuted": false,
    "execution_millis": 16,
    "execution_start": 1670334564546,
    "source_hash": "d2eaf098",
    "tags": []
   },
   "outputs": [
    {
     "data": {
      "text/plain": [
       "DecisionTreeClassifier(max_depth=10, max_leaf_nodes=7, random_state=1)"
      ]
     },
     "execution_count": 27,
     "metadata": {},
     "output_type": "execute_result"
    }
   ],
   "source": [
    "clf.fit(X1_train, y1_train)"
   ]
  },
  {
   "cell_type": "code",
   "execution_count": 28,
   "metadata": {
    "cell_id": "f84c601e315847a2a85c7315eab0863a",
    "deepnote_cell_type": "code",
    "deepnote_to_be_reexecuted": false,
    "execution_millis": 3,
    "execution_start": 1670334564597,
    "source_hash": "6e7b81e1",
    "tags": []
   },
   "outputs": [
    {
     "data": {
      "text/plain": [
       "array(['True', 'True', 'True', 'True', 'True', 'False', 'False', 'True',\n",
       "       'False', 'False', 'False', 'False', 'True', 'True', 'True',\n",
       "       'False', 'True', 'False', 'True', 'True', 'False', 'False', 'True',\n",
       "       'False', 'True', 'True', 'False', 'False', 'True', 'False',\n",
       "       'False', 'False', 'False', 'False', 'True', 'True', 'True', 'True',\n",
       "       'False', 'False', 'True', 'False', 'True', 'False', 'False',\n",
       "       'False', 'True', 'True', 'False', 'True', 'False', 'True', 'True',\n",
       "       'False', 'True', 'False', 'True', 'False', 'True', 'False', 'True',\n",
       "       'True', 'True', 'True', 'False', 'True', 'True', 'True', 'False',\n",
       "       'True', 'True', 'False', 'True', 'True', 'True', 'False', 'False',\n",
       "       'False', 'True', 'False', 'False', 'True', 'True', 'False',\n",
       "       'False', 'True', 'True', 'False', 'False', 'False', 'True', 'True',\n",
       "       'False', 'True', 'True', 'True', 'True', 'True', 'True', 'False',\n",
       "       'True', 'False', 'True', 'True', 'True', 'False', 'False', 'True',\n",
       "       'False', 'False', 'False', 'True', 'False', 'False', 'False',\n",
       "       'False', 'False', 'False', 'False', 'True', 'True', 'True', 'True',\n",
       "       'False', 'True', 'False', 'True', 'False', 'True', 'True', 'False',\n",
       "       'True', 'False', 'True', 'True', 'False', 'True', 'True', 'False',\n",
       "       'True', 'True', 'False', 'False', 'True', 'True', 'True', 'True',\n",
       "       'True', 'False', 'True', 'True', 'True', 'False', 'False', 'False',\n",
       "       'True', 'False', 'True', 'True', 'True', 'False', 'True', 'True',\n",
       "       'True', 'True', 'False', 'False', 'True', 'True', 'True', 'False',\n",
       "       'True', 'True', 'True', 'True', 'False', 'False', 'False', 'True',\n",
       "       'False', 'False', 'False', 'False', 'False'], dtype=object)"
      ]
     },
     "execution_count": 28,
     "metadata": {},
     "output_type": "execute_result"
    }
   ],
   "source": [
    "clf.predict(X1_test)"
   ]
  },
  {
   "cell_type": "code",
   "execution_count": 29,
   "metadata": {
    "cell_id": "14b9e2456adf49ac83774dcbd971a223",
    "deepnote_cell_type": "code",
    "deepnote_to_be_reexecuted": false,
    "execution_millis": 2,
    "execution_start": 1670334564598,
    "source_hash": "9af826bc",
    "tags": []
   },
   "outputs": [
    {
     "data": {
      "text/plain": [
       "0.8010899182561307"
      ]
     },
     "execution_count": 29,
     "metadata": {},
     "output_type": "execute_result"
    }
   ],
   "source": [
    "clf.score(X1_train, y1_train)"
   ]
  },
  {
   "cell_type": "code",
   "execution_count": 30,
   "metadata": {
    "cell_id": "ffaf75b9936044d6b93cc0fa76a2b481",
    "deepnote_cell_type": "code",
    "deepnote_to_be_reexecuted": false,
    "execution_millis": 28,
    "execution_start": 1670334564599,
    "source_hash": "9ad0c1ee",
    "tags": []
   },
   "outputs": [
    {
     "data": {
      "text/plain": [
       "0.8152173913043478"
      ]
     },
     "execution_count": 30,
     "metadata": {},
     "output_type": "execute_result"
    }
   ],
   "source": [
    "clf.score(X1_test, y1_test)"
   ]
  },
  {
   "cell_type": "markdown",
   "metadata": {
    "cell_id": "69e18c8803ad4465a07fe154b035af27",
    "deepnote_cell_type": "markdown",
    "tags": []
   },
   "source": [
    "Based on the decision tree classification finding, the training and test score were close to each other, so the model could have a high probability of having the correct prediction. Furthermore, we dodn't have to worry about overfitting since the training score was lower than the test score."
   ]
  },
  {
   "cell_type": "code",
   "execution_count": 31,
   "metadata": {
    "cell_id": "01488479bfd14d3e8cd5fc417d63bfbc",
    "deepnote_cell_type": "code",
    "deepnote_to_be_reexecuted": false,
    "execution_millis": 8,
    "execution_start": 1670334564641,
    "source_hash": "ea85e06b",
    "tags": []
   },
   "outputs": [
    {
     "data": {
      "text/plain": [
       "True     588\n",
       "False    146\n",
       "Name: HD, dtype: int64"
      ]
     },
     "execution_count": 31,
     "metadata": {},
     "output_type": "execute_result"
    }
   ],
   "source": [
    "(y1_train == clf.predict(X1_train)).value_counts()"
   ]
  },
  {
   "cell_type": "code",
   "execution_count": 32,
   "metadata": {
    "cell_id": "d1091e48349f45dea4aac357d1bc894c",
    "deepnote_cell_type": "code",
    "deepnote_to_be_reexecuted": false,
    "execution_millis": 995,
    "execution_start": 1670334564696,
    "source_hash": "430208f7",
    "tags": []
   },
   "outputs": [
    {
     "data": {
      "image/png": "[encoded data removed]",
      "text/plain": [
       "<Figure size 640x480 with 1 Axes>"
      ]
     },
     "metadata": {
      "image/png": {
       "height": 389,
       "width": 515
      }
     },
     "output_type": "display_data"
    }
   ],
   "source": [
    "fig = plt.figure()\n",
    "_ = plot_tree(clf,\n",
    "                   feature_names = clf.feature_names_in_,\n",
    "                   class_names=clf.classes_,\n",
    "                   filled=True)"
   ]
  },
  {
   "cell_type": "code",
   "execution_count": 33,
   "metadata": {
    "cell_id": "0b7af3ba5ee34bea903ec8920b9c2235",
    "deepnote_cell_type": "code",
    "deepnote_to_be_reexecuted": false,
    "execution_millis": 8,
    "execution_start": 1670334565700,
    "source_hash": "2de224ae",
    "tags": []
   },
   "outputs": [
    {
     "data": {
      "text/plain": [
       "array(['Age', 'RestingBP', 'Cholesterol', 'FastingBS', 'MaxHR', 'Oldpeak'],\n",
       "      dtype=object)"
      ]
     },
     "execution_count": 33,
     "metadata": {},
     "output_type": "execute_result"
    }
   ],
   "source": [
    "clf.feature_names_in_"
   ]
  },
  {
   "cell_type": "code",
   "execution_count": 34,
   "metadata": {
    "cell_id": "7bfea0ff3cb348c398acf9be290b3445",
    "deepnote_cell_type": "code",
    "deepnote_to_be_reexecuted": false,
    "execution_millis": 2,
    "execution_start": 1670334565721,
    "source_hash": "b515fe8b",
    "tags": []
   },
   "outputs": [
    {
     "data": {
      "text/plain": [
       "0    0.046660\n",
       "1    0.000000\n",
       "2    0.364315\n",
       "3    0.000000\n",
       "4    0.156920\n",
       "5    0.432105\n",
       "dtype: float64"
      ]
     },
     "execution_count": 34,
     "metadata": {},
     "output_type": "execute_result"
    }
   ],
   "source": [
    "pd.Series(clf.feature_importances_)"
   ]
  },
  {
   "cell_type": "code",
   "execution_count": 35,
   "metadata": {
    "cell_id": "3a31d794c14246428838aa5a6a996c84",
    "deepnote_cell_type": "code",
    "deepnote_to_be_reexecuted": false,
    "execution_millis": 9,
    "execution_start": 1670334565727,
    "source_hash": "3a440623",
    "tags": []
   },
   "outputs": [
    {
     "data": {
      "text/plain": [
       "RestingBP      0.000000\n",
       "FastingBS      0.000000\n",
       "Age            0.046660\n",
       "MaxHR          0.156920\n",
       "Cholesterol    0.364315\n",
       "Oldpeak        0.432105\n",
       "dtype: float64"
      ]
     },
     "execution_count": 35,
     "metadata": {},
     "output_type": "execute_result"
    }
   ],
   "source": [
    "pd.Series(clf.feature_importances_, index=clf.feature_names_in_).sort_values()"
   ]
  },
  {
   "cell_type": "markdown",
   "metadata": {
    "cell_id": "a50deda4626748949595571c9804d4ca",
    "deepnote_cell_type": "markdown",
    "tags": []
   },
   "source": [
    "The factors that will most significantly impact the decision tree in the findings of features importance are the higher value numbers. For example, the most relevant factors to predict whether a person has a heart disease or not are Oldpeak and MaxHR."
   ]
  },
  {
   "cell_type": "markdown",
   "metadata": {
    "cell_id": "c045e327606240e8a49d218b32731ed9",
    "deepnote_cell_type": "markdown",
    "tags": []
   },
   "source": [
    "### Random Forest Classifier"
   ]
  },
  {
   "cell_type": "code",
   "execution_count": 36,
   "metadata": {
    "cell_id": "48014b881d804788954d9d3349981af5",
    "deepnote_cell_type": "code",
    "deepnote_to_be_reexecuted": false,
    "execution_millis": 3,
    "execution_start": 1670334565738,
    "source_hash": "20590f74",
    "tags": []
   },
   "outputs": [],
   "source": [
    "X2 = df[num_cols]\n",
    "y2 = df[\"HD\"]"
   ]
  },
  {
   "cell_type": "code",
   "execution_count": 37,
   "metadata": {
    "cell_id": "6a278a0a0590403d8eb0b625d05b52c2",
    "deepnote_cell_type": "code",
    "deepnote_to_be_reexecuted": false,
    "execution_millis": 7,
    "execution_start": 1670334565745,
    "source_hash": "19813b1",
    "tags": []
   },
   "outputs": [],
   "source": [
    "X2_train, X2_test, y2_train, y2_test = train_test_split(X2,y2,  train_size = 0.8, random_state = 1)"
   ]
  },
  {
   "cell_type": "code",
   "execution_count": 38,
   "metadata": {
    "cell_id": "aa073a0f421e4293abe1f371ecbce694",
    "deepnote_cell_type": "code",
    "deepnote_to_be_reexecuted": false,
    "execution_millis": 6,
    "execution_start": 1670334565754,
    "source_hash": "fa97c9b0",
    "tags": []
   },
   "outputs": [],
   "source": [
    "rfc = RandomForestClassifier(n_estimators = 1000, max_leaf_nodes = 10, random_state=1)"
   ]
  },
  {
   "cell_type": "code",
   "execution_count": 39,
   "metadata": {
    "cell_id": "05793d188b0d419f9c2d2117cc4aeb70",
    "deepnote_cell_type": "code",
    "deepnote_to_be_reexecuted": false,
    "execution_millis": 1704,
    "execution_start": 1670334565762,
    "source_hash": "8933e246",
    "tags": []
   },
   "outputs": [
    {
     "data": {
      "text/plain": [
       "RandomForestClassifier(max_leaf_nodes=10, n_estimators=1000, random_state=1)"
      ]
     },
     "execution_count": 39,
     "metadata": {},
     "output_type": "execute_result"
    }
   ],
   "source": [
    "rfc.fit(X2_train, y2_train)"
   ]
  },
  {
   "cell_type": "code",
   "execution_count": 40,
   "metadata": {
    "cell_id": "55bdbb7f66254f61af568ec7a8b2c016",
    "deepnote_cell_type": "code",
    "deepnote_to_be_reexecuted": false,
    "execution_millis": 266,
    "execution_start": 1670334567471,
    "source_hash": "b41a6d35",
    "tags": []
   },
   "outputs": [
    {
     "data": {
      "text/plain": [
       "0.8160762942779292"
      ]
     },
     "execution_count": 40,
     "metadata": {},
     "output_type": "execute_result"
    }
   ],
   "source": [
    "rfc.score(X2_train, y2_train)"
   ]
  },
  {
   "cell_type": "code",
   "execution_count": 41,
   "metadata": {
    "cell_id": "e74e1b1664f14afc944ef8a215e273ab",
    "deepnote_cell_type": "code",
    "deepnote_to_be_reexecuted": false,
    "execution_millis": 134,
    "execution_start": 1670334567740,
    "source_hash": "97c99933",
    "tags": []
   },
   "outputs": [
    {
     "data": {
      "text/plain": [
       "0.8369565217391305"
      ]
     },
     "execution_count": 41,
     "metadata": {},
     "output_type": "execute_result"
    }
   ],
   "source": [
    "rfc.score(X2_test, y2_test)"
   ]
  },
  {
   "cell_type": "markdown",
   "metadata": {
    "cell_id": "ff21c335cbda47e8abb10d1bc46abb52",
    "deepnote_cell_type": "markdown",
    "tags": []
   },
   "source": [
    "The scores for random forest are about the same as the decision tree. In the random forest classification, the test and training set scores are relatively close together, and there are no signs of overfitting. The score is also somewhat high, showing that this information can accurately predict heart disease. "
   ]
  },
  {
   "cell_type": "markdown",
   "metadata": {
    "cell_id": "5db3c5511eb2420a9e37d764b107d4b9",
    "deepnote_cell_type": "markdown",
    "tags": []
   },
   "source": [
    "### K- Nearest Neighbors Classifier"
   ]
  },
  {
   "cell_type": "code",
   "execution_count": 42,
   "metadata": {
    "cell_id": "7a74117a938c483b9fbc3c384a10d962",
    "deepnote_cell_type": "code",
    "deepnote_to_be_reexecuted": false,
    "execution_millis": 1,
    "execution_start": 1670334567885,
    "source_hash": "708fee12",
    "tags": []
   },
   "outputs": [],
   "source": [
    "X3 = df[num_cols]\n",
    "y3 = df[\"HD\"]"
   ]
  },
  {
   "cell_type": "code",
   "execution_count": 43,
   "metadata": {
    "cell_id": "9bd85728a02d42c69cabf5fe5b210f36",
    "deepnote_cell_type": "code",
    "deepnote_to_be_reexecuted": false,
    "execution_millis": 4,
    "execution_start": 1670334567890,
    "source_hash": "250a9c9d",
    "tags": []
   },
   "outputs": [],
   "source": [
    "X3_train, X3_test, y3_train, y3_test = train_test_split(X3,y3,  train_size = 0.8, random_state = 1)"
   ]
  },
  {
   "cell_type": "code",
   "execution_count": 44,
   "metadata": {
    "cell_id": "7e040e94094c46db8e82582ef2f6dea5",
    "deepnote_cell_type": "code",
    "deepnote_to_be_reexecuted": false,
    "execution_millis": 2,
    "execution_start": 1670334567897,
    "source_hash": "9d1515ea",
    "tags": []
   },
   "outputs": [],
   "source": [
    "clf2 = KNeighborsClassifier(n_neighbors=10)"
   ]
  },
  {
   "cell_type": "code",
   "execution_count": 45,
   "metadata": {
    "cell_id": "4f660a2c106b4897a035b04bc0b5d6be",
    "deepnote_cell_type": "code",
    "deepnote_to_be_reexecuted": false,
    "execution_millis": 13,
    "execution_start": 1670334567923,
    "source_hash": "28ccfc52",
    "tags": []
   },
   "outputs": [
    {
     "data": {
      "text/plain": [
       "KNeighborsClassifier(n_neighbors=10)"
      ]
     },
     "execution_count": 45,
     "metadata": {},
     "output_type": "execute_result"
    }
   ],
   "source": [
    "clf2.fit(X3_train, y3_train)"
   ]
  },
  {
   "cell_type": "code",
   "execution_count": 46,
   "metadata": {
    "cell_id": "785db43f891941ccabad9129844465c4",
    "deepnote_cell_type": "code",
    "deepnote_to_be_reexecuted": false,
    "execution_millis": 19,
    "execution_start": 1670334567936,
    "source_hash": "fdeddf1d",
    "tags": []
   },
   "outputs": [
    {
     "data": {
      "text/plain": [
       "array(['False', 'True', 'True', 'True', 'True', 'True', 'False', 'True',\n",
       "       'False', 'False', 'False', 'False', 'False', 'False', 'True',\n",
       "       'False', 'True', 'True', 'True', 'True', 'False', 'False', 'True',\n",
       "       'False', 'False', 'True', 'False', 'True', 'False', 'False',\n",
       "       'False', 'True', 'True', 'False', 'True', 'True', 'False', 'True',\n",
       "       'False', 'False', 'True', 'True', 'True', 'False', 'False',\n",
       "       'False', 'True', 'True', 'False', 'True', 'True', 'True', 'True',\n",
       "       'False', 'True', 'False', 'False', 'False', 'True', 'False',\n",
       "       'True', 'False', 'True', 'True', 'True', 'True', 'False', 'False',\n",
       "       'False', 'True', 'True', 'False', 'True', 'True', 'True', 'True',\n",
       "       'False', 'True', 'True', 'False', 'False', 'True', 'False',\n",
       "       'False', 'False', 'True', 'False', 'False', 'False', 'False',\n",
       "       'True', 'True', 'False', 'True', 'False', 'True', 'False', 'True',\n",
       "       'True', 'False', 'False', 'False', 'True', 'True', 'True', 'False',\n",
       "       'False', 'True', 'True', 'False', 'False', 'True', 'True', 'False',\n",
       "       'False', 'False', 'True', 'False', 'False', 'True', 'True', 'True',\n",
       "       'True', 'False', 'True', 'True', 'True', 'False', 'False', 'True',\n",
       "       'False', 'True', 'False', 'True', 'True', 'True', 'True', 'True',\n",
       "       'False', 'False', 'True', 'False', 'False', 'True', 'True',\n",
       "       'False', 'True', 'True', 'False', 'False', 'True', 'True', 'False',\n",
       "       'False', 'False', 'True', 'False', 'True', 'False', 'False',\n",
       "       'True', 'True', 'False', 'True', 'True', 'False', 'False', 'False',\n",
       "       'True', 'True', 'False', 'True', 'True', 'False', 'False', 'True',\n",
       "       'False', 'False', 'True', 'False', 'False', 'False', 'False',\n",
       "       'False'], dtype=object)"
      ]
     },
     "execution_count": 46,
     "metadata": {},
     "output_type": "execute_result"
    }
   ],
   "source": [
    "clf2.predict(X3_test)"
   ]
  },
  {
   "cell_type": "code",
   "execution_count": 47,
   "metadata": {
    "cell_id": "1cf6e50884ed464ba10b0d336ca42d79",
    "deepnote_cell_type": "code",
    "deepnote_to_be_reexecuted": false,
    "execution_millis": 2,
    "execution_start": 1670334568000,
    "source_hash": "9077f526",
    "tags": []
   },
   "outputs": [
    {
     "data": {
      "text/plain": [
       "0.6847826086956522"
      ]
     },
     "execution_count": 47,
     "metadata": {},
     "output_type": "execute_result"
    }
   ],
   "source": [
    "clf2.score(X3_test, y3_test)"
   ]
  },
  {
   "cell_type": "code",
   "execution_count": 48,
   "metadata": {
    "cell_id": "ac1066b56a004697a07725e0ed86832f",
    "deepnote_cell_type": "code",
    "deepnote_to_be_reexecuted": false,
    "execution_millis": 46,
    "execution_start": 1670334568001,
    "source_hash": "c1e2030d",
    "tags": []
   },
   "outputs": [
    {
     "data": {
      "text/plain": [
       "0.7438692098092643"
      ]
     },
     "execution_count": 48,
     "metadata": {},
     "output_type": "execute_result"
    }
   ],
   "source": [
    "clf2.score(X3_train, y3_train)"
   ]
  },
  {
   "cell_type": "markdown",
   "metadata": {
    "cell_id": "00aab43982234444b3d74c6bb326bcd8",
    "deepnote_cell_type": "markdown",
    "tags": []
   },
   "source": [
    "The scores for this classifier have a more significant difference than the other scores for the training and test set and are about 6% apart from each other, so it could be a sign of overfitting since the training set score is higher than the test set score. But the scores are also much lower than the others, so this classifier is probably not the best one to use. "
   ]
  },
  {
   "cell_type": "code",
   "execution_count": 49,
   "metadata": {
    "cell_id": "1655de06eaab49ed81d1dd6750f15992",
    "deepnote_cell_type": "code",
    "deepnote_to_be_reexecuted": false,
    "execution_millis": 108,
    "execution_start": 1670334568046,
    "source_hash": "81515269",
    "tags": []
   },
   "outputs": [
    {
     "data": {
      "application/vnd.deepnote.dataframe.v3+json": {
       "column_count": 14,
       "columns": [
        {
         "dtype": "int64",
         "name": "Age",
         "stats": {
          "histogram": [
           {
            "bin_end": 32.9,
            "bin_start": 28,
            "count": 12
           },
           {
            "bin_end": 37.8,
            "bin_start": 32.9,
            "count": 37
           },
           {
            "bin_end": 42.7,
            "bin_start": 37.8,
            "count": 86
           },
           {
            "bin_end": 47.6,
            "bin_start": 42.7,
            "count": 104
           },
           {
            "bin_end": 52.5,
            "bin_start": 47.6,
            "count": 148
           },
           {
            "bin_end": 57.400000000000006,
            "bin_start": 52.5,
            "count": 201
           },
           {
            "bin_end": 62.300000000000004,
            "bin_start": 57.400000000000006,
            "count": 175
           },
           {
            "bin_end": 67.2,
            "bin_start": 62.300000000000004,
            "count": 101
           },
           {
            "bin_end": 72.1,
            "bin_start": 67.2,
            "count": 39
           },
           {
            "bin_end": 77,
            "bin_start": 72.1,
            "count": 15
           }
          ],
          "max": "77",
          "min": "28",
          "nan_count": 0,
          "unique_count": 50
         }
        },
        {
         "dtype": "object",
         "name": "Sex",
         "stats": {
          "categories": [
           {
            "count": 725,
            "name": "M"
           },
           {
            "count": 193,
            "name": "F"
           }
          ],
          "nan_count": 0,
          "unique_count": 2
         }
        },
        {
         "dtype": "object",
         "name": "ChestPainType",
         "stats": {
          "categories": [
           {
            "count": 496,
            "name": "ASY"
           },
           {
            "count": 203,
            "name": "NAP"
           },
           {
            "count": 219,
            "name": "2 others"
           }
          ],
          "nan_count": 0,
          "unique_count": 4
         }
        },
        {
         "dtype": "int64",
         "name": "RestingBP",
         "stats": {
          "histogram": [
           {
            "bin_end": 20,
            "bin_start": 0,
            "count": 1
           },
           {
            "bin_end": 40,
            "bin_start": 20,
            "count": 0
           },
           {
            "bin_end": 60,
            "bin_start": 40,
            "count": 0
           },
           {
            "bin_end": 80,
            "bin_start": 60,
            "count": 0
           },
           {
            "bin_end": 100,
            "bin_start": 80,
            "count": 12
           },
           {
            "bin_end": 120,
            "bin_start": 100,
            "count": 148
           },
           {
            "bin_end": 140,
            "bin_start": 120,
            "count": 430
           },
           {
            "bin_end": 160,
            "bin_start": 140,
            "count": 234
           },
           {
            "bin_end": 180,
            "bin_start": 160,
            "count": 73
           },
           {
            "bin_end": 200,
            "bin_start": 180,
            "count": 20
           }
          ],
          "max": "200",
          "min": "0",
          "nan_count": 0,
          "unique_count": 67
         }
        },
        {
         "dtype": "int64",
         "name": "Cholesterol",
         "stats": {
          "histogram": [
           {
            "bin_end": 60.3,
            "bin_start": 0,
            "count": 172
           },
           {
            "bin_end": 120.6,
            "bin_start": 60.3,
            "count": 6
           },
           {
            "bin_end": 180.89999999999998,
            "bin_start": 120.6,
            "count": 70
           },
           {
            "bin_end": 241.2,
            "bin_start": 180.89999999999998,
            "count": 319
           },
           {
            "bin_end": 301.5,
            "bin_start": 241.2,
            "count": 248
           },
           {
            "bin_end": 361.79999999999995,
            "bin_start": 301.5,
            "count": 81
           },
           {
            "bin_end": 422.09999999999997,
            "bin_start": 361.79999999999995,
            "count": 14
           },
           {
            "bin_end": 482.4,
            "bin_start": 422.09999999999997,
            "count": 3
           },
           {
            "bin_end": 542.6999999999999,
            "bin_start": 482.4,
            "count": 3
           },
           {
            "bin_end": 603,
            "bin_start": 542.6999999999999,
            "count": 2
           }
          ],
          "max": "603",
          "min": "0",
          "nan_count": 0,
          "unique_count": 222
         }
        },
        {
         "dtype": "int64",
         "name": "FastingBS",
         "stats": {
          "histogram": [
           {
            "bin_end": 0.1,
            "bin_start": 0,
            "count": 704
           },
           {
            "bin_end": 0.2,
            "bin_start": 0.1,
            "count": 0
           },
           {
            "bin_end": 0.30000000000000004,
            "bin_start": 0.2,
            "count": 0
           },
           {
            "bin_end": 0.4,
            "bin_start": 0.30000000000000004,
            "count": 0
           },
           {
            "bin_end": 0.5,
            "bin_start": 0.4,
            "count": 0
           },
           {
            "bin_end": 0.6000000000000001,
            "bin_start": 0.5,
            "count": 0
           },
           {
            "bin_end": 0.7000000000000001,
            "bin_start": 0.6000000000000001,
            "count": 0
           },
           {
            "bin_end": 0.8,
            "bin_start": 0.7000000000000001,
            "count": 0
           },
           {
            "bin_end": 0.9,
            "bin_start": 0.8,
            "count": 0
           },
           {
            "bin_end": 1,
            "bin_start": 0.9,
            "count": 214
           }
          ],
          "max": "1",
          "min": "0",
          "nan_count": 0,
          "unique_count": 2
         }
        },
        {
         "dtype": "object",
         "name": "RestingECG",
         "stats": {
          "categories": [
           {
            "count": 552,
            "name": "Normal"
           },
           {
            "count": 188,
            "name": "LVH"
           },
           {
            "count": 178,
            "name": "ST"
           }
          ],
          "nan_count": 0,
          "unique_count": 3
         }
        },
        {
         "dtype": "int64",
         "name": "MaxHR",
         "stats": {
          "histogram": [
           {
            "bin_end": 74.2,
            "bin_start": 60,
            "count": 9
           },
           {
            "bin_end": 88.4,
            "bin_start": 74.2,
            "count": 18
           },
           {
            "bin_end": 102.6,
            "bin_start": 88.4,
            "count": 62
           },
           {
            "bin_end": 116.8,
            "bin_start": 102.6,
            "count": 113
           },
           {
            "bin_end": 131,
            "bin_start": 116.8,
            "count": 192
           },
           {
            "bin_end": 145.2,
            "bin_start": 131,
            "count": 175
           },
           {
            "bin_end": 159.39999999999998,
            "bin_start": 145.2,
            "count": 148
           },
           {
            "bin_end": 173.6,
            "bin_start": 159.39999999999998,
            "count": 132
           },
           {
            "bin_end": 187.8,
            "bin_start": 173.6,
            "count": 61
           },
           {
            "bin_end": 202,
            "bin_start": 187.8,
            "count": 8
           }
          ],
          "max": "202",
          "min": "60",
          "nan_count": 0,
          "unique_count": 119
         }
        },
        {
         "dtype": "object",
         "name": "ExerciseAngina",
         "stats": {
          "categories": [
           {
            "count": 547,
            "name": "N"
           },
           {
            "count": 371,
            "name": "Y"
           }
          ],
          "nan_count": 0,
          "unique_count": 2
         }
        },
        {
         "dtype": "float64",
         "name": "Oldpeak",
         "stats": {
          "histogram": [
           {
            "bin_end": -1.72,
            "bin_start": -2.6,
            "count": 2
           },
           {
            "bin_end": -0.8399999999999999,
            "bin_start": -1.72,
            "count": 5
           },
           {
            "bin_end": 0.04000000000000048,
            "bin_start": -0.8399999999999999,
            "count": 374
           },
           {
            "bin_end": 0.9200000000000004,
            "bin_start": 0.04000000000000048,
            "count": 118
           },
           {
            "bin_end": 1.8000000000000003,
            "bin_start": 0.9200000000000004,
            "count": 236
           },
           {
            "bin_end": 2.680000000000001,
            "bin_start": 1.8000000000000003,
            "count": 119
           },
           {
            "bin_end": 3.560000000000001,
            "bin_start": 2.680000000000001,
            "count": 44
           },
           {
            "bin_end": 4.440000000000001,
            "bin_start": 3.560000000000001,
            "count": 17
           },
           {
            "bin_end": 5.32,
            "bin_start": 4.440000000000001,
            "count": 1
           },
           {
            "bin_end": 6.2,
            "bin_start": 5.32,
            "count": 2
           }
          ],
          "max": "6.2",
          "min": "-2.6",
          "nan_count": 0,
          "unique_count": 53
         }
        },
        {
         "dtype": "object",
         "name": "ST_Slope",
         "stats": {
          "categories": [
           {
            "count": 460,
            "name": "Flat"
           },
           {
            "count": 395,
            "name": "Up"
           },
           {
            "count": 63,
            "name": "Down"
           }
          ],
          "nan_count": 0,
          "unique_count": 3
         }
        },
        {
         "dtype": "int64",
         "name": "HeartDisease",
         "stats": {
          "histogram": [
           {
            "bin_end": 0.1,
            "bin_start": 0,
            "count": 410
           },
           {
            "bin_end": 0.2,
            "bin_start": 0.1,
            "count": 0
           },
           {
            "bin_end": 0.30000000000000004,
            "bin_start": 0.2,
            "count": 0
           },
           {
            "bin_end": 0.4,
            "bin_start": 0.30000000000000004,
            "count": 0
           },
           {
            "bin_end": 0.5,
            "bin_start": 0.4,
            "count": 0
           },
           {
            "bin_end": 0.6000000000000001,
            "bin_start": 0.5,
            "count": 0
           },
           {
            "bin_end": 0.7000000000000001,
            "bin_start": 0.6000000000000001,
            "count": 0
           },
           {
            "bin_end": 0.8,
            "bin_start": 0.7000000000000001,
            "count": 0
           },
           {
            "bin_end": 0.9,
            "bin_start": 0.8,
            "count": 0
           },
           {
            "bin_end": 1,
            "bin_start": 0.9,
            "count": 508
           }
          ],
          "max": "1",
          "min": "0",
          "nan_count": 0,
          "unique_count": 2
         }
        },
        {
         "dtype": "object",
         "name": "HD",
         "stats": {
          "categories": [
           {
            "count": 508,
            "name": "True"
           },
           {
            "count": 410,
            "name": "False"
           }
          ],
          "nan_count": 0,
          "unique_count": 2
         }
        },
        {
         "dtype": "object",
         "name": "Prediction",
         "stats": {
          "categories": [
           {
            "count": 472,
            "name": "False"
           },
           {
            "count": 446,
            "name": "True"
           }
          ],
          "nan_count": 0,
          "unique_count": 2
         }
        },
        {
         "dtype": "int64",
         "name": "_deepnote_index_column"
        }
       ],
       "row_count": 918,
       "rows": [
        {
         "Age": "40",
         "ChestPainType": "ATA",
         "Cholesterol": "289",
         "ExerciseAngina": "N",
         "FastingBS": "0",
         "HD": "False",
         "HeartDisease": "0",
         "MaxHR": "172",
         "Oldpeak": "0.0",
         "Prediction": "False",
         "RestingBP": "140",
         "RestingECG": "Normal",
         "ST_Slope": "Up",
         "Sex": "M",
         "_deepnote_index_column": "0"
        },
        {
         "Age": "49",
         "ChestPainType": "NAP",
         "Cholesterol": "180",
         "ExerciseAngina": "N",
         "FastingBS": "0",
         "HD": "True",
         "HeartDisease": "1",
         "MaxHR": "156",
         "Oldpeak": "1.0",
         "Prediction": "False",
         "RestingBP": "160",
         "RestingECG": "Normal",
         "ST_Slope": "Flat",
         "Sex": "F",
         "_deepnote_index_column": "1"
        },
        {
         "Age": "37",
         "ChestPainType": "ATA",
         "Cholesterol": "283",
         "ExerciseAngina": "N",
         "FastingBS": "0",
         "HD": "False",
         "HeartDisease": "0",
         "MaxHR": "98",
         "Oldpeak": "0.0",
         "Prediction": "True",
         "RestingBP": "130",
         "RestingECG": "ST",
         "ST_Slope": "Up",
         "Sex": "M",
         "_deepnote_index_column": "2"
        },
        {
         "Age": "48",
         "ChestPainType": "ASY",
         "Cholesterol": "214",
         "ExerciseAngina": "Y",
         "FastingBS": "0",
         "HD": "True",
         "HeartDisease": "1",
         "MaxHR": "108",
         "Oldpeak": "1.5",
         "Prediction": "True",
         "RestingBP": "138",
         "RestingECG": "Normal",
         "ST_Slope": "Flat",
         "Sex": "F",
         "_deepnote_index_column": "3"
        },
        {
         "Age": "54",
         "ChestPainType": "NAP",
         "Cholesterol": "195",
         "ExerciseAngina": "N",
         "FastingBS": "0",
         "HD": "False",
         "HeartDisease": "0",
         "MaxHR": "122",
         "Oldpeak": "0.0",
         "Prediction": "False",
         "RestingBP": "150",
         "RestingECG": "Normal",
         "ST_Slope": "Up",
         "Sex": "M",
         "_deepnote_index_column": "4"
        },
        {
         "Age": "39",
         "ChestPainType": "NAP",
         "Cholesterol": "339",
         "ExerciseAngina": "N",
         "FastingBS": "0",
         "HD": "False",
         "HeartDisease": "0",
         "MaxHR": "170",
         "Oldpeak": "0.0",
         "Prediction": "False",
         "RestingBP": "120",
         "RestingECG": "Normal",
         "ST_Slope": "Up",
         "Sex": "M",
         "_deepnote_index_column": "5"
        },
        {
         "Age": "45",
         "ChestPainType": "ATA",
         "Cholesterol": "237",
         "ExerciseAngina": "N",
         "FastingBS": "0",
         "HD": "False",
         "HeartDisease": "0",
         "MaxHR": "170",
         "Oldpeak": "0.0",
         "Prediction": "False",
         "RestingBP": "130",
         "RestingECG": "Normal",
         "ST_Slope": "Up",
         "Sex": "F",
         "_deepnote_index_column": "6"
        },
        {
         "Age": "54",
         "ChestPainType": "ATA",
         "Cholesterol": "208",
         "ExerciseAngina": "N",
         "FastingBS": "0",
         "HD": "False",
         "HeartDisease": "0",
         "MaxHR": "142",
         "Oldpeak": "0.0",
         "Prediction": "False",
         "RestingBP": "110",
         "RestingECG": "Normal",
         "ST_Slope": "Up",
         "Sex": "M",
         "_deepnote_index_column": "7"
        },
        {
         "Age": "37",
         "ChestPainType": "ASY",
         "Cholesterol": "207",
         "ExerciseAngina": "Y",
         "FastingBS": "0",
         "HD": "True",
         "HeartDisease": "1",
         "MaxHR": "130",
         "Oldpeak": "1.5",
         "Prediction": "False",
         "RestingBP": "140",
         "RestingECG": "Normal",
         "ST_Slope": "Flat",
         "Sex": "M",
         "_deepnote_index_column": "8"
        },
        {
         "Age": "48",
         "ChestPainType": "ATA",
         "Cholesterol": "284",
         "ExerciseAngina": "N",
         "FastingBS": "0",
         "HD": "False",
         "HeartDisease": "0",
         "MaxHR": "120",
         "Oldpeak": "0.0",
         "Prediction": "False",
         "RestingBP": "120",
         "RestingECG": "Normal",
         "ST_Slope": "Up",
         "Sex": "F",
         "_deepnote_index_column": "9"
        }
       ]
      },
      "text/html": [
       "<div>\n",
       "<style scoped>\n",
       "    .dataframe tbody tr th:only-of-type {\n",
       "        vertical-align: middle;\n",
       "    }\n",
       "\n",
       "    .dataframe tbody tr th {\n",
       "        vertical-align: top;\n",
       "    }\n",
       "\n",
       "    .dataframe thead th {\n",
       "        text-align: right;\n",
       "    }\n",
       "</style>\n",
       "<table border=\"1\" class=\"dataframe\">\n",
       "  <thead>\n",
       "    <tr style=\"text-align: right;\">\n",
       "      <th></th>\n",
       "      <th>Age</th>\n",
       "      <th>Sex</th>\n",
       "      <th>ChestPainType</th>\n",
       "      <th>RestingBP</th>\n",
       "      <th>Cholesterol</th>\n",
       "      <th>FastingBS</th>\n",
       "      <th>RestingECG</th>\n",
       "      <th>MaxHR</th>\n",
       "      <th>ExerciseAngina</th>\n",
       "      <th>Oldpeak</th>\n",
       "      <th>ST_Slope</th>\n",
       "      <th>HeartDisease</th>\n",
       "      <th>HD</th>\n",
       "      <th>Prediction</th>\n",
       "    </tr>\n",
       "  </thead>\n",
       "  <tbody>\n",
       "    <tr>\n",
       "      <th>0</th>\n",
       "      <td>40</td>\n",
       "      <td>M</td>\n",
       "      <td>ATA</td>\n",
       "      <td>140</td>\n",
       "      <td>289</td>\n",
       "      <td>0</td>\n",
       "      <td>Normal</td>\n",
       "      <td>172</td>\n",
       "      <td>N</td>\n",
       "      <td>0.0</td>\n",
       "      <td>Up</td>\n",
       "      <td>0</td>\n",
       "      <td>False</td>\n",
       "      <td>False</td>\n",
       "    </tr>\n",
       "    <tr>\n",
       "      <th>1</th>\n",
       "      <td>49</td>\n",
       "      <td>F</td>\n",
       "      <td>NAP</td>\n",
       "      <td>160</td>\n",
       "      <td>180</td>\n",
       "      <td>0</td>\n",
       "      <td>Normal</td>\n",
       "      <td>156</td>\n",
       "      <td>N</td>\n",
       "      <td>1.0</td>\n",
       "      <td>Flat</td>\n",
       "      <td>1</td>\n",
       "      <td>True</td>\n",
       "      <td>False</td>\n",
       "    </tr>\n",
       "    <tr>\n",
       "      <th>2</th>\n",
       "      <td>37</td>\n",
       "      <td>M</td>\n",
       "      <td>ATA</td>\n",
       "      <td>130</td>\n",
       "      <td>283</td>\n",
       "      <td>0</td>\n",
       "      <td>ST</td>\n",
       "      <td>98</td>\n",
       "      <td>N</td>\n",
       "      <td>0.0</td>\n",
       "      <td>Up</td>\n",
       "      <td>0</td>\n",
       "      <td>False</td>\n",
       "      <td>True</td>\n",
       "    </tr>\n",
       "    <tr>\n",
       "      <th>3</th>\n",
       "      <td>48</td>\n",
       "      <td>F</td>\n",
       "      <td>ASY</td>\n",
       "      <td>138</td>\n",
       "      <td>214</td>\n",
       "      <td>0</td>\n",
       "      <td>Normal</td>\n",
       "      <td>108</td>\n",
       "      <td>Y</td>\n",
       "      <td>1.5</td>\n",
       "      <td>Flat</td>\n",
       "      <td>1</td>\n",
       "      <td>True</td>\n",
       "      <td>True</td>\n",
       "    </tr>\n",
       "    <tr>\n",
       "      <th>4</th>\n",
       "      <td>54</td>\n",
       "      <td>M</td>\n",
       "      <td>NAP</td>\n",
       "      <td>150</td>\n",
       "      <td>195</td>\n",
       "      <td>0</td>\n",
       "      <td>Normal</td>\n",
       "      <td>122</td>\n",
       "      <td>N</td>\n",
       "      <td>0.0</td>\n",
       "      <td>Up</td>\n",
       "      <td>0</td>\n",
       "      <td>False</td>\n",
       "      <td>False</td>\n",
       "    </tr>\n",
       "    <tr>\n",
       "      <th>...</th>\n",
       "      <td>...</td>\n",
       "      <td>...</td>\n",
       "      <td>...</td>\n",
       "      <td>...</td>\n",
       "      <td>...</td>\n",
       "      <td>...</td>\n",
       "      <td>...</td>\n",
       "      <td>...</td>\n",
       "      <td>...</td>\n",
       "      <td>...</td>\n",
       "      <td>...</td>\n",
       "      <td>...</td>\n",
       "      <td>...</td>\n",
       "      <td>...</td>\n",
       "    </tr>\n",
       "    <tr>\n",
       "      <th>913</th>\n",
       "      <td>45</td>\n",
       "      <td>M</td>\n",
       "      <td>TA</td>\n",
       "      <td>110</td>\n",
       "      <td>264</td>\n",
       "      <td>0</td>\n",
       "      <td>Normal</td>\n",
       "      <td>132</td>\n",
       "      <td>N</td>\n",
       "      <td>1.2</td>\n",
       "      <td>Flat</td>\n",
       "      <td>1</td>\n",
       "      <td>True</td>\n",
       "      <td>False</td>\n",
       "    </tr>\n",
       "    <tr>\n",
       "      <th>914</th>\n",
       "      <td>68</td>\n",
       "      <td>M</td>\n",
       "      <td>ASY</td>\n",
       "      <td>144</td>\n",
       "      <td>193</td>\n",
       "      <td>1</td>\n",
       "      <td>Normal</td>\n",
       "      <td>141</td>\n",
       "      <td>N</td>\n",
       "      <td>3.4</td>\n",
       "      <td>Flat</td>\n",
       "      <td>1</td>\n",
       "      <td>True</td>\n",
       "      <td>True</td>\n",
       "    </tr>\n",
       "    <tr>\n",
       "      <th>915</th>\n",
       "      <td>57</td>\n",
       "      <td>M</td>\n",
       "      <td>ASY</td>\n",
       "      <td>130</td>\n",
       "      <td>131</td>\n",
       "      <td>0</td>\n",
       "      <td>Normal</td>\n",
       "      <td>115</td>\n",
       "      <td>Y</td>\n",
       "      <td>1.2</td>\n",
       "      <td>Flat</td>\n",
       "      <td>1</td>\n",
       "      <td>True</td>\n",
       "      <td>True</td>\n",
       "    </tr>\n",
       "    <tr>\n",
       "      <th>916</th>\n",
       "      <td>57</td>\n",
       "      <td>F</td>\n",
       "      <td>ATA</td>\n",
       "      <td>130</td>\n",
       "      <td>236</td>\n",
       "      <td>0</td>\n",
       "      <td>LVH</td>\n",
       "      <td>174</td>\n",
       "      <td>N</td>\n",
       "      <td>0.0</td>\n",
       "      <td>Flat</td>\n",
       "      <td>1</td>\n",
       "      <td>True</td>\n",
       "      <td>False</td>\n",
       "    </tr>\n",
       "    <tr>\n",
       "      <th>917</th>\n",
       "      <td>38</td>\n",
       "      <td>M</td>\n",
       "      <td>NAP</td>\n",
       "      <td>138</td>\n",
       "      <td>175</td>\n",
       "      <td>0</td>\n",
       "      <td>Normal</td>\n",
       "      <td>173</td>\n",
       "      <td>N</td>\n",
       "      <td>0.0</td>\n",
       "      <td>Up</td>\n",
       "      <td>0</td>\n",
       "      <td>False</td>\n",
       "      <td>False</td>\n",
       "    </tr>\n",
       "  </tbody>\n",
       "</table>\n",
       "<p>918 rows × 14 columns</p>\n",
       "</div>"
      ],
      "text/plain": [
       "     Age Sex ChestPainType  RestingBP  Cholesterol  FastingBS RestingECG  \\\n",
       "0     40   M           ATA        140          289          0     Normal   \n",
       "1     49   F           NAP        160          180          0     Normal   \n",
       "2     37   M           ATA        130          283          0         ST   \n",
       "3     48   F           ASY        138          214          0     Normal   \n",
       "4     54   M           NAP        150          195          0     Normal   \n",
       "..   ...  ..           ...        ...          ...        ...        ...   \n",
       "913   45   M            TA        110          264          0     Normal   \n",
       "914   68   M           ASY        144          193          1     Normal   \n",
       "915   57   M           ASY        130          131          0     Normal   \n",
       "916   57   F           ATA        130          236          0        LVH   \n",
       "917   38   M           NAP        138          175          0     Normal   \n",
       "\n",
       "     MaxHR ExerciseAngina  Oldpeak ST_Slope  HeartDisease     HD Prediction  \n",
       "0      172              N      0.0       Up             0  False      False  \n",
       "1      156              N      1.0     Flat             1   True      False  \n",
       "2       98              N      0.0       Up             0  False       True  \n",
       "3      108              Y      1.5     Flat             1   True       True  \n",
       "4      122              N      0.0       Up             0  False      False  \n",
       "..     ...            ...      ...      ...           ...    ...        ...  \n",
       "913    132              N      1.2     Flat             1   True      False  \n",
       "914    141              N      3.4     Flat             1   True       True  \n",
       "915    115              Y      1.2     Flat             1   True       True  \n",
       "916    174              N      0.0     Flat             1   True      False  \n",
       "917    173              N      0.0       Up             0  False      False  \n",
       "\n",
       "[918 rows x 14 columns]"
      ]
     },
     "execution_count": 49,
     "metadata": {},
     "output_type": "execute_result"
    }
   ],
   "source": [
    "df[\"Prediction\"] = clf2.predict(X3)\n",
    "df"
   ]
  },
  {
   "cell_type": "code",
   "execution_count": 50,
   "metadata": {
    "cell_id": "227a966fb5bd49f7b8b1f2b0d1fb4be6",
    "deepnote_cell_type": "code",
    "deepnote_to_be_reexecuted": false,
    "execution_millis": 2,
    "execution_start": 1670334568183,
    "source_hash": "9533ee9",
    "tags": []
   },
   "outputs": [],
   "source": [
    "c1 = alt.Chart(df).mark_circle().encode(\n",
    "    x=\"Age\",\n",
    "    y=\"MaxHR\",\n",
    "    color=\"HD:N\"\n",
    ")\n",
    "c2 = alt.Chart(df).mark_circle().encode(\n",
    "    x=\"Age\",\n",
    "    y=\"MaxHR\",\n",
    "    color=\"Prediction:N\"\n",
    ")"
   ]
  },
  {
   "cell_type": "code",
   "execution_count": 51,
   "metadata": {
    "cell_id": "dd5d03109bfe406c9e583a7b010892f2",
    "deepnote_cell_type": "code",
    "deepnote_to_be_reexecuted": false,
    "execution_millis": 45,
    "execution_start": 1670334568232,
    "source_hash": "83a94981",
    "tags": []
   },
   "outputs": [],
   "source": [
    "c3 = alt.Chart(df).mark_circle().encode(\n",
    "    x=\"Age\",\n",
    "    y=\"Oldpeak\",\n",
    "    color=\"HD:N\"\n",
    ")\n",
    "c4 = alt.Chart(df).mark_circle().encode(\n",
    "    x=\"Age\",\n",
    "    y=\"Oldpeak\",\n",
    "    color=\"Prediction:N\"\n",
    ")"
   ]
  },
  {
   "cell_type": "code",
   "execution_count": 52,
   "metadata": {
    "cell_id": "254c830726014b708ba8af710b659936",
    "deepnote_cell_type": "code",
    "deepnote_to_be_reexecuted": false,
    "execution_millis": 86,
    "execution_start": 1670334568277,
    "source_hash": "776681b1",
    "tags": []
   },
   "outputs": [
    {
     "data": {
      "text/html": [
       "\n",
       "<div id=\"altair-viz-95d7443800d3480bbe0e904accf5e98e\"></div>\n",
       "<script type=\"text/javascript\">\n",
       "  var VEGA_DEBUG = (typeof VEGA_DEBUG == \"undefined\") ? {} : VEGA_DEBUG;\n",
       "  (function(spec, embedOpt){\n",
       "    let outputDiv = document.currentScript.previousElementSibling;\n",
       "    if (outputDiv.id !== \"altair-viz-95d7443800d3480bbe0e904accf5e98e\") {\n",
       "      outputDiv = document.getElementById(\"altair-viz-95d7443800d3480bbe0e904accf5e98e\");\n",
       "    }\n",
       "    const paths = {\n",
       "      \"vega\": \"https://cdn.jsdelivr.net/npm//vega@5?noext\",\n",
       "      \"vega-lib\": \"https://cdn.jsdelivr.net/npm//vega-lib?noext\",\n",
       "      \"vega-lite\": \"https://cdn.jsdelivr.net/npm//vega-lite@4.17.0?noext\",\n",
       "      \"vega-embed\": \"https://cdn.jsdelivr.net/npm//vega-embed@6?noext\",\n",
       "    };\n",
       "\n",
       "    function maybeLoadScript(lib, version) {\n",
       "      var key = `${lib.replace(\"-\", \"\")}_version`;\n",
       "      return (VEGA_DEBUG[key] == version) ?\n",
       "        Promise.resolve(paths[lib]) :\n",
       "        new Promise(function(resolve, reject) {\n",
       "          var s = document.createElement('script');\n",
       "          document.getElementsByTagName(\"head\")[0].appendChild(s);\n",
       "          s.async = true;\n",
       "          s.onload = () => {\n",
       "            VEGA_DEBUG[key] = version;\n",
       "            return resolve(paths[lib]);\n",
       "          };\n",
       "          s.onerror = () => reject(`Error loading script: ${paths[lib]}`);\n",
       "          s.src = paths[lib];\n",
       "        });\n",
       "    }\n",
       "\n",
       "    function showError(err) {\n",
       "      outputDiv.innerHTML = `<div class=\"error\" style=\"color:red;\">${err}</div>`;\n",
       "      throw err;\n",
       "    }\n",
       "\n",
       "    function displayChart(vegaEmbed) {\n",
       "      vegaEmbed(outputDiv, spec, embedOpt)\n",
       "        .catch(err => showError(`Javascript Error: ${err.message}<br>This usually means there's a typo in your chart specification. See the javascript console for the full traceback.`));\n",
       "    }\n",
       "\n",
       "    if(typeof define === \"function\" && define.amd) {\n",
       "      requirejs.config({paths});\n",
       "      require([\"vega-embed\"], displayChart, err => showError(`Error loading script: ${err.message}`));\n",
       "    } else {\n",
       "      maybeLoadScript(\"vega\", \"5\")\n",
       "        .then(() => maybeLoadScript(\"vega-lite\", \"4.17.0\"))\n",
       "        .then(() => maybeLoadScript(\"vega-embed\", \"6\"))\n",
       "        .catch(showError)\n",
       "        .then(() => displayChart(vegaEmbed));\n",
       "    }\n",
       "  })({\"config\": {\"view\": {\"continuousWidth\": 400, \"continuousHeight\": 300}}, \"hconcat\": [{\"mark\": \"circle\", \"encoding\": {\"color\": {\"field\": \"HD\", \"type\": \"nominal\"}, \"x\": {\"field\": \"Age\", \"type\": \"quantitative\"}, \"y\": {\"field\": \"MaxHR\", \"type\": \"quantitative\"}}}, {\"mark\": \"circle\", \"encoding\": {\"color\": {\"field\": \"Prediction\", \"type\": \"nominal\"}, \"x\": {\"field\": \"Age\", \"type\": \"quantitative\"}, \"y\": {\"field\": \"MaxHR\", \"type\": \"quantitative\"}}}], \"data\": {\"name\": \"data-8d08e687100184687c52798f024ff3b2\"}, \"$schema\": \"https://vega.github.io/schema/vega-lite/v4.17.0.json\", \"datasets\": {\"data-8d08e687100184687c52798f024ff3b2\": [{\"Age\": 40, \"Sex\": \"M\", \"ChestPainType\": \"ATA\", \"RestingBP\": 140, \"Cholesterol\": 289, \"FastingBS\": 0, \"RestingECG\": \"Normal\", \"MaxHR\": 172, \"ExerciseAngina\": \"N\", \"Oldpeak\": 0.0, \"ST_Slope\": \"Up\", \"HeartDisease\": 0, \"HD\": \"False\", \"Prediction\": \"False\"}, {\"Age\": 49, \"Sex\": \"F\", \"ChestPainType\": \"NAP\", \"RestingBP\": 160, \"Cholesterol\": 180, \"FastingBS\": 0, \"RestingECG\": \"Normal\", \"MaxHR\": 156, \"ExerciseAngina\": \"N\", \"Oldpeak\": 1.0, \"ST_Slope\": \"Flat\", \"HeartDisease\": 1, \"HD\": \"True\", \"Prediction\": \"False\"}, {\"Age\": 37, \"Sex\": \"M\", \"ChestPainType\": \"ATA\", \"RestingBP\": 130, \"Cholesterol\": 283, \"FastingBS\": 0, \"RestingECG\": \"ST\", \"MaxHR\": 98, \"ExerciseAngina\": \"N\", \"Oldpeak\": 0.0, \"ST_Slope\": \"Up\", \"HeartDisease\": 0, \"HD\": \"False\", \"Prediction\": \"True\"}, {\"Age\": 48, \"Sex\": \"F\", \"ChestPainType\": \"ASY\", \"RestingBP\": 138, \"Cholesterol\": 214, \"FastingBS\": 0, \"RestingECG\": \"Normal\", \"MaxHR\": 108, \"ExerciseAngina\": \"Y\", \"Oldpeak\": 1.5, \"ST_Slope\": \"Flat\", \"HeartDisease\": 1, \"HD\": \"True\", \"Prediction\": \"True\"}, {\"Age\": 54, \"Sex\": \"M\", \"ChestPainType\": \"NAP\", \"RestingBP\": 150, \"Cholesterol\": 195, \"FastingBS\": 0, \"RestingECG\": \"Normal\", \"MaxHR\": 122, \"ExerciseAngina\": \"N\", \"Oldpeak\": 0.0, \"ST_Slope\": \"Up\", \"HeartDisease\": 0, \"HD\": \"False\", \"Prediction\": \"False\"}, {\"Age\": 39, \"Sex\": \"M\", \"ChestPainType\": \"NAP\", \"RestingBP\": 120, \"Cholesterol\": 339, \"FastingBS\": 0, \"RestingECG\": \"Normal\", \"MaxHR\": 170, \"ExerciseAngina\": \"N\", \"Oldpeak\": 0.0, \"ST_Slope\": \"Up\", \"HeartDisease\": 0, \"HD\": \"False\", \"Prediction\": \"False\"}, {\"Age\": 45, \"Sex\": \"F\", \"ChestPainType\": \"ATA\", \"RestingBP\": 130, \"Cholesterol\": 237, \"FastingBS\": 0, \"RestingECG\": \"Normal\", \"MaxHR\": 170, \"ExerciseAngina\": \"N\", \"Oldpeak\": 0.0, \"ST_Slope\": \"Up\", \"HeartDisease\": 0, \"HD\": \"False\", \"Prediction\": \"False\"}, {\"Age\": 54, \"Sex\": \"M\", \"ChestPainType\": \"ATA\", \"RestingBP\": 110, \"Cholesterol\": 208, \"FastingBS\": 0, \"RestingECG\": \"Normal\", \"MaxHR\": 142, \"ExerciseAngina\": \"N\", \"Oldpeak\": 0.0, \"ST_Slope\": \"Up\", \"HeartDisease\": 0, \"HD\": \"False\", \"Prediction\": \"False\"}, {\"Age\": 37, \"Sex\": \"M\", \"ChestPainType\": \"ASY\", \"RestingBP\": 140, \"Cholesterol\": 207, \"FastingBS\": 0, \"RestingECG\": \"Normal\", \"MaxHR\": 130, \"ExerciseAngina\": \"Y\", \"Oldpeak\": 1.5, \"ST_Slope\": \"Flat\", \"HeartDisease\": 1, \"HD\": \"True\", \"Prediction\": \"False\"}, {\"Age\": 48, \"Sex\": \"F\", \"ChestPainType\": \"ATA\", \"RestingBP\": 120, \"Cholesterol\": 284, \"FastingBS\": 0, \"RestingECG\": \"Normal\", \"MaxHR\": 120, \"ExerciseAngina\": \"N\", \"Oldpeak\": 0.0, \"ST_Slope\": \"Up\", \"HeartDisease\": 0, \"HD\": \"False\", \"Prediction\": \"False\"}, {\"Age\": 37, \"Sex\": \"F\", \"ChestPainType\": \"NAP\", \"RestingBP\": 130, \"Cholesterol\": 211, \"FastingBS\": 0, \"RestingECG\": \"Normal\", \"MaxHR\": 142, \"ExerciseAngina\": \"N\", \"Oldpeak\": 0.0, \"ST_Slope\": \"Up\", \"HeartDisease\": 0, \"HD\": \"False\", \"Prediction\": \"False\"}, {\"Age\": 58, \"Sex\": \"M\", \"ChestPainType\": \"ATA\", \"RestingBP\": 136, \"Cholesterol\": 164, \"FastingBS\": 0, \"RestingECG\": \"ST\", \"MaxHR\": 99, \"ExerciseAngina\": \"Y\", \"Oldpeak\": 2.0, \"ST_Slope\": \"Flat\", \"HeartDisease\": 1, \"HD\": \"True\", \"Prediction\": \"True\"}, {\"Age\": 39, \"Sex\": \"M\", \"ChestPainType\": \"ATA\", \"RestingBP\": 120, \"Cholesterol\": 204, \"FastingBS\": 0, \"RestingECG\": \"Normal\", \"MaxHR\": 145, \"ExerciseAngina\": \"N\", \"Oldpeak\": 0.0, \"ST_Slope\": \"Up\", \"HeartDisease\": 0, \"HD\": \"False\", \"Prediction\": \"False\"}, {\"Age\": 49, \"Sex\": \"M\", \"ChestPainType\": \"ASY\", \"RestingBP\": 140, \"Cholesterol\": 234, \"FastingBS\": 0, \"RestingECG\": \"Normal\", \"MaxHR\": 140, \"ExerciseAngina\": \"Y\", \"Oldpeak\": 1.0, \"ST_Slope\": \"Flat\", \"HeartDisease\": 1, \"HD\": \"True\", \"Prediction\": \"False\"}, {\"Age\": 42, \"Sex\": \"F\", \"ChestPainType\": \"NAP\", \"RestingBP\": 115, \"Cholesterol\": 211, \"FastingBS\": 0, \"RestingECG\": \"ST\", \"MaxHR\": 137, \"ExerciseAngina\": \"N\", \"Oldpeak\": 0.0, \"ST_Slope\": \"Up\", \"HeartDisease\": 0, \"HD\": \"False\", \"Prediction\": \"False\"}, {\"Age\": 54, \"Sex\": \"F\", \"ChestPainType\": \"ATA\", \"RestingBP\": 120, \"Cholesterol\": 273, \"FastingBS\": 0, \"RestingECG\": \"Normal\", \"MaxHR\": 150, \"ExerciseAngina\": \"N\", \"Oldpeak\": 1.5, \"ST_Slope\": \"Flat\", \"HeartDisease\": 0, \"HD\": \"False\", \"Prediction\": \"False\"}, {\"Age\": 38, \"Sex\": \"M\", \"ChestPainType\": \"ASY\", \"RestingBP\": 110, \"Cholesterol\": 196, \"FastingBS\": 0, \"RestingECG\": \"Normal\", \"MaxHR\": 166, \"ExerciseAngina\": \"N\", \"Oldpeak\": 0.0, \"ST_Slope\": \"Flat\", \"HeartDisease\": 1, \"HD\": \"True\", \"Prediction\": \"False\"}, {\"Age\": 43, \"Sex\": \"F\", \"ChestPainType\": \"ATA\", \"RestingBP\": 120, \"Cholesterol\": 201, \"FastingBS\": 0, \"RestingECG\": \"Normal\", \"MaxHR\": 165, \"ExerciseAngina\": \"N\", \"Oldpeak\": 0.0, \"ST_Slope\": \"Up\", \"HeartDisease\": 0, \"HD\": \"False\", \"Prediction\": \"False\"}, {\"Age\": 60, \"Sex\": \"M\", \"ChestPainType\": \"ASY\", \"RestingBP\": 100, \"Cholesterol\": 248, \"FastingBS\": 0, \"RestingECG\": \"Normal\", \"MaxHR\": 125, \"ExerciseAngina\": \"N\", \"Oldpeak\": 1.0, \"ST_Slope\": \"Flat\", \"HeartDisease\": 1, \"HD\": \"True\", \"Prediction\": \"False\"}, {\"Age\": 36, \"Sex\": \"M\", \"ChestPainType\": \"ATA\", \"RestingBP\": 120, \"Cholesterol\": 267, \"FastingBS\": 0, \"RestingECG\": \"Normal\", \"MaxHR\": 160, \"ExerciseAngina\": \"N\", \"Oldpeak\": 3.0, \"ST_Slope\": \"Flat\", \"HeartDisease\": 1, \"HD\": \"True\", \"Prediction\": \"False\"}, {\"Age\": 43, \"Sex\": \"F\", \"ChestPainType\": \"TA\", \"RestingBP\": 100, \"Cholesterol\": 223, \"FastingBS\": 0, \"RestingECG\": \"Normal\", \"MaxHR\": 142, \"ExerciseAngina\": \"N\", \"Oldpeak\": 0.0, \"ST_Slope\": \"Up\", \"HeartDisease\": 0, \"HD\": \"False\", \"Prediction\": \"False\"}, {\"Age\": 44, \"Sex\": \"M\", \"ChestPainType\": \"ATA\", \"RestingBP\": 120, \"Cholesterol\": 184, \"FastingBS\": 0, \"RestingECG\": \"Normal\", \"MaxHR\": 142, \"ExerciseAngina\": \"N\", \"Oldpeak\": 1.0, \"ST_Slope\": \"Flat\", \"HeartDisease\": 0, \"HD\": \"False\", \"Prediction\": \"False\"}, {\"Age\": 49, \"Sex\": \"F\", \"ChestPainType\": \"ATA\", \"RestingBP\": 124, \"Cholesterol\": 201, \"FastingBS\": 0, \"RestingECG\": \"Normal\", \"MaxHR\": 164, \"ExerciseAngina\": \"N\", \"Oldpeak\": 0.0, \"ST_Slope\": \"Up\", \"HeartDisease\": 0, \"HD\": \"False\", \"Prediction\": \"False\"}, {\"Age\": 44, \"Sex\": \"M\", \"ChestPainType\": \"ATA\", \"RestingBP\": 150, \"Cholesterol\": 288, \"FastingBS\": 0, \"RestingECG\": \"Normal\", \"MaxHR\": 150, \"ExerciseAngina\": \"Y\", \"Oldpeak\": 3.0, \"ST_Slope\": \"Flat\", \"HeartDisease\": 1, \"HD\": \"True\", \"Prediction\": \"False\"}, {\"Age\": 40, \"Sex\": \"M\", \"ChestPainType\": \"NAP\", \"RestingBP\": 130, \"Cholesterol\": 215, \"FastingBS\": 0, \"RestingECG\": \"Normal\", \"MaxHR\": 138, \"ExerciseAngina\": \"N\", \"Oldpeak\": 0.0, \"ST_Slope\": \"Up\", \"HeartDisease\": 0, \"HD\": \"False\", \"Prediction\": \"False\"}, {\"Age\": 36, \"Sex\": \"M\", \"ChestPainType\": \"NAP\", \"RestingBP\": 130, \"Cholesterol\": 209, \"FastingBS\": 0, \"RestingECG\": \"Normal\", \"MaxHR\": 178, \"ExerciseAngina\": \"N\", \"Oldpeak\": 0.0, \"ST_Slope\": \"Up\", \"HeartDisease\": 0, \"HD\": \"False\", \"Prediction\": \"False\"}, {\"Age\": 53, \"Sex\": \"M\", \"ChestPainType\": \"ASY\", \"RestingBP\": 124, \"Cholesterol\": 260, \"FastingBS\": 0, \"RestingECG\": \"ST\", \"MaxHR\": 112, \"ExerciseAngina\": \"Y\", \"Oldpeak\": 3.0, \"ST_Slope\": \"Flat\", \"HeartDisease\": 0, \"HD\": \"False\", \"Prediction\": \"True\"}, {\"Age\": 52, \"Sex\": \"M\", \"ChestPainType\": \"ATA\", \"RestingBP\": 120, \"Cholesterol\": 284, \"FastingBS\": 0, \"RestingECG\": \"Normal\", \"MaxHR\": 118, \"ExerciseAngina\": \"N\", \"Oldpeak\": 0.0, \"ST_Slope\": \"Up\", \"HeartDisease\": 0, \"HD\": \"False\", \"Prediction\": \"False\"}, {\"Age\": 53, \"Sex\": \"F\", \"ChestPainType\": \"ATA\", \"RestingBP\": 113, \"Cholesterol\": 468, \"FastingBS\": 0, \"RestingECG\": \"Normal\", \"MaxHR\": 127, \"ExerciseAngina\": \"N\", \"Oldpeak\": 0.0, \"ST_Slope\": \"Up\", \"HeartDisease\": 0, \"HD\": \"False\", \"Prediction\": \"True\"}, {\"Age\": 51, \"Sex\": \"M\", \"ChestPainType\": \"ATA\", \"RestingBP\": 125, \"Cholesterol\": 188, \"FastingBS\": 0, \"RestingECG\": \"Normal\", \"MaxHR\": 145, \"ExerciseAngina\": \"N\", \"Oldpeak\": 0.0, \"ST_Slope\": \"Up\", \"HeartDisease\": 0, \"HD\": \"False\", \"Prediction\": \"False\"}, {\"Age\": 53, \"Sex\": \"M\", \"ChestPainType\": \"NAP\", \"RestingBP\": 145, \"Cholesterol\": 518, \"FastingBS\": 0, \"RestingECG\": \"Normal\", \"MaxHR\": 130, \"ExerciseAngina\": \"N\", \"Oldpeak\": 0.0, \"ST_Slope\": \"Flat\", \"HeartDisease\": 1, \"HD\": \"True\", \"Prediction\": \"True\"}, {\"Age\": 56, \"Sex\": \"M\", \"ChestPainType\": \"NAP\", \"RestingBP\": 130, \"Cholesterol\": 167, \"FastingBS\": 0, \"RestingECG\": \"Normal\", \"MaxHR\": 114, \"ExerciseAngina\": \"N\", \"Oldpeak\": 0.0, \"ST_Slope\": \"Up\", \"HeartDisease\": 0, \"HD\": \"False\", \"Prediction\": \"True\"}, {\"Age\": 54, \"Sex\": \"M\", \"ChestPainType\": \"ASY\", \"RestingBP\": 125, \"Cholesterol\": 224, \"FastingBS\": 0, \"RestingECG\": \"Normal\", \"MaxHR\": 122, \"ExerciseAngina\": \"N\", \"Oldpeak\": 2.0, \"ST_Slope\": \"Flat\", \"HeartDisease\": 1, \"HD\": \"True\", \"Prediction\": \"True\"}, {\"Age\": 41, \"Sex\": \"M\", \"ChestPainType\": \"ASY\", \"RestingBP\": 130, \"Cholesterol\": 172, \"FastingBS\": 0, \"RestingECG\": \"ST\", \"MaxHR\": 130, \"ExerciseAngina\": \"N\", \"Oldpeak\": 2.0, \"ST_Slope\": \"Flat\", \"HeartDisease\": 1, \"HD\": \"True\", \"Prediction\": \"False\"}, {\"Age\": 43, \"Sex\": \"F\", \"ChestPainType\": \"ATA\", \"RestingBP\": 150, \"Cholesterol\": 186, \"FastingBS\": 0, \"RestingECG\": \"Normal\", \"MaxHR\": 154, \"ExerciseAngina\": \"N\", \"Oldpeak\": 0.0, \"ST_Slope\": \"Up\", \"HeartDisease\": 0, \"HD\": \"False\", \"Prediction\": \"False\"}, {\"Age\": 32, \"Sex\": \"M\", \"ChestPainType\": \"ATA\", \"RestingBP\": 125, \"Cholesterol\": 254, \"FastingBS\": 0, \"RestingECG\": \"Normal\", \"MaxHR\": 155, \"ExerciseAngina\": \"N\", \"Oldpeak\": 0.0, \"ST_Slope\": \"Up\", \"HeartDisease\": 0, \"HD\": \"False\", \"Prediction\": \"False\"}, {\"Age\": 65, \"Sex\": \"M\", \"ChestPainType\": \"ASY\", \"RestingBP\": 140, \"Cholesterol\": 306, \"FastingBS\": 1, \"RestingECG\": \"Normal\", \"MaxHR\": 87, \"ExerciseAngina\": \"Y\", \"Oldpeak\": 1.5, \"ST_Slope\": \"Flat\", \"HeartDisease\": 1, \"HD\": \"True\", \"Prediction\": \"True\"}, {\"Age\": 41, \"Sex\": \"F\", \"ChestPainType\": \"ATA\", \"RestingBP\": 110, \"Cholesterol\": 250, \"FastingBS\": 0, \"RestingECG\": \"ST\", \"MaxHR\": 142, \"ExerciseAngina\": \"N\", \"Oldpeak\": 0.0, \"ST_Slope\": \"Up\", \"HeartDisease\": 0, \"HD\": \"False\", \"Prediction\": \"False\"}, {\"Age\": 48, \"Sex\": \"F\", \"ChestPainType\": \"ATA\", \"RestingBP\": 120, \"Cholesterol\": 177, \"FastingBS\": 1, \"RestingECG\": \"ST\", \"MaxHR\": 148, \"ExerciseAngina\": \"N\", \"Oldpeak\": 0.0, \"ST_Slope\": \"Up\", \"HeartDisease\": 0, \"HD\": \"False\", \"Prediction\": \"False\"}, {\"Age\": 48, \"Sex\": \"F\", \"ChestPainType\": \"ASY\", \"RestingBP\": 150, \"Cholesterol\": 227, \"FastingBS\": 0, \"RestingECG\": \"Normal\", \"MaxHR\": 130, \"ExerciseAngina\": \"Y\", \"Oldpeak\": 1.0, \"ST_Slope\": \"Flat\", \"HeartDisease\": 0, \"HD\": \"False\", \"Prediction\": \"True\"}, {\"Age\": 54, \"Sex\": \"F\", \"ChestPainType\": \"ATA\", \"RestingBP\": 150, \"Cholesterol\": 230, \"FastingBS\": 0, \"RestingECG\": \"Normal\", \"MaxHR\": 130, \"ExerciseAngina\": \"N\", \"Oldpeak\": 0.0, \"ST_Slope\": \"Up\", \"HeartDisease\": 0, \"HD\": \"False\", \"Prediction\": \"True\"}, {\"Age\": 54, \"Sex\": \"F\", \"ChestPainType\": \"NAP\", \"RestingBP\": 130, \"Cholesterol\": 294, \"FastingBS\": 0, \"RestingECG\": \"ST\", \"MaxHR\": 100, \"ExerciseAngina\": \"Y\", \"Oldpeak\": 0.0, \"ST_Slope\": \"Flat\", \"HeartDisease\": 1, \"HD\": \"True\", \"Prediction\": \"True\"}, {\"Age\": 35, \"Sex\": \"M\", \"ChestPainType\": \"ATA\", \"RestingBP\": 150, \"Cholesterol\": 264, \"FastingBS\": 0, \"RestingECG\": \"Normal\", \"MaxHR\": 168, \"ExerciseAngina\": \"N\", \"Oldpeak\": 0.0, \"ST_Slope\": \"Up\", \"HeartDisease\": 0, \"HD\": \"False\", \"Prediction\": \"False\"}, {\"Age\": 52, \"Sex\": \"M\", \"ChestPainType\": \"NAP\", \"RestingBP\": 140, \"Cholesterol\": 259, \"FastingBS\": 0, \"RestingECG\": \"ST\", \"MaxHR\": 170, \"ExerciseAngina\": \"N\", \"Oldpeak\": 0.0, \"ST_Slope\": \"Up\", \"HeartDisease\": 0, \"HD\": \"False\", \"Prediction\": \"False\"}, {\"Age\": 43, \"Sex\": \"M\", \"ChestPainType\": \"ASY\", \"RestingBP\": 120, \"Cholesterol\": 175, \"FastingBS\": 0, \"RestingECG\": \"Normal\", \"MaxHR\": 120, \"ExerciseAngina\": \"Y\", \"Oldpeak\": 1.0, \"ST_Slope\": \"Flat\", \"HeartDisease\": 1, \"HD\": \"True\", \"Prediction\": \"False\"}, {\"Age\": 59, \"Sex\": \"M\", \"ChestPainType\": \"NAP\", \"RestingBP\": 130, \"Cholesterol\": 318, \"FastingBS\": 0, \"RestingECG\": \"Normal\", \"MaxHR\": 120, \"ExerciseAngina\": \"Y\", \"Oldpeak\": 1.0, \"ST_Slope\": \"Flat\", \"HeartDisease\": 0, \"HD\": \"False\", \"Prediction\": \"True\"}, {\"Age\": 37, \"Sex\": \"M\", \"ChestPainType\": \"ASY\", \"RestingBP\": 120, \"Cholesterol\": 223, \"FastingBS\": 0, \"RestingECG\": \"Normal\", \"MaxHR\": 168, \"ExerciseAngina\": \"N\", \"Oldpeak\": 0.0, \"ST_Slope\": \"Up\", \"HeartDisease\": 0, \"HD\": \"False\", \"Prediction\": \"False\"}, {\"Age\": 50, \"Sex\": \"M\", \"ChestPainType\": \"ATA\", \"RestingBP\": 140, \"Cholesterol\": 216, \"FastingBS\": 0, \"RestingECG\": \"Normal\", \"MaxHR\": 170, \"ExerciseAngina\": \"N\", \"Oldpeak\": 0.0, \"ST_Slope\": \"Up\", \"HeartDisease\": 0, \"HD\": \"False\", \"Prediction\": \"False\"}, {\"Age\": 36, \"Sex\": \"M\", \"ChestPainType\": \"NAP\", \"RestingBP\": 112, \"Cholesterol\": 340, \"FastingBS\": 0, \"RestingECG\": \"Normal\", \"MaxHR\": 184, \"ExerciseAngina\": \"N\", \"Oldpeak\": 1.0, \"ST_Slope\": \"Flat\", \"HeartDisease\": 0, \"HD\": \"False\", \"Prediction\": \"False\"}, {\"Age\": 41, \"Sex\": \"M\", \"ChestPainType\": \"ASY\", \"RestingBP\": 110, \"Cholesterol\": 289, \"FastingBS\": 0, \"RestingECG\": \"Normal\", \"MaxHR\": 170, \"ExerciseAngina\": \"N\", \"Oldpeak\": 0.0, \"ST_Slope\": \"Flat\", \"HeartDisease\": 1, \"HD\": \"True\", \"Prediction\": \"False\"}, {\"Age\": 50, \"Sex\": \"M\", \"ChestPainType\": \"ASY\", \"RestingBP\": 130, \"Cholesterol\": 233, \"FastingBS\": 0, \"RestingECG\": \"Normal\", \"MaxHR\": 121, \"ExerciseAngina\": \"Y\", \"Oldpeak\": 2.0, \"ST_Slope\": \"Flat\", \"HeartDisease\": 1, \"HD\": \"True\", \"Prediction\": \"True\"}, {\"Age\": 47, \"Sex\": \"F\", \"ChestPainType\": \"ASY\", \"RestingBP\": 120, \"Cholesterol\": 205, \"FastingBS\": 0, \"RestingECG\": \"Normal\", \"MaxHR\": 98, \"ExerciseAngina\": \"Y\", \"Oldpeak\": 2.0, \"ST_Slope\": \"Flat\", \"HeartDisease\": 1, \"HD\": \"True\", \"Prediction\": \"True\"}, {\"Age\": 45, \"Sex\": \"M\", \"ChestPainType\": \"ATA\", \"RestingBP\": 140, \"Cholesterol\": 224, \"FastingBS\": 1, \"RestingECG\": \"Normal\", \"MaxHR\": 122, \"ExerciseAngina\": \"N\", \"Oldpeak\": 0.0, \"ST_Slope\": \"Up\", \"HeartDisease\": 0, \"HD\": \"False\", \"Prediction\": \"False\"}, {\"Age\": 41, \"Sex\": \"F\", \"ChestPainType\": \"ATA\", \"RestingBP\": 130, \"Cholesterol\": 245, \"FastingBS\": 0, \"RestingECG\": \"Normal\", \"MaxHR\": 150, \"ExerciseAngina\": \"N\", \"Oldpeak\": 0.0, \"ST_Slope\": \"Up\", \"HeartDisease\": 0, \"HD\": \"False\", \"Prediction\": \"False\"}, {\"Age\": 52, \"Sex\": \"F\", \"ChestPainType\": \"ASY\", \"RestingBP\": 130, \"Cholesterol\": 180, \"FastingBS\": 0, \"RestingECG\": \"Normal\", \"MaxHR\": 140, \"ExerciseAngina\": \"Y\", \"Oldpeak\": 1.5, \"ST_Slope\": \"Flat\", \"HeartDisease\": 0, \"HD\": \"False\", \"Prediction\": \"False\"}, {\"Age\": 51, \"Sex\": \"F\", \"ChestPainType\": \"ATA\", \"RestingBP\": 160, \"Cholesterol\": 194, \"FastingBS\": 0, \"RestingECG\": \"Normal\", \"MaxHR\": 170, \"ExerciseAngina\": \"N\", \"Oldpeak\": 0.0, \"ST_Slope\": \"Up\", \"HeartDisease\": 0, \"HD\": \"False\", \"Prediction\": \"False\"}, {\"Age\": 31, \"Sex\": \"M\", \"ChestPainType\": \"ASY\", \"RestingBP\": 120, \"Cholesterol\": 270, \"FastingBS\": 0, \"RestingECG\": \"Normal\", \"MaxHR\": 153, \"ExerciseAngina\": \"Y\", \"Oldpeak\": 1.5, \"ST_Slope\": \"Flat\", \"HeartDisease\": 1, \"HD\": \"True\", \"Prediction\": \"False\"}, {\"Age\": 58, \"Sex\": \"M\", \"ChestPainType\": \"NAP\", \"RestingBP\": 130, \"Cholesterol\": 213, \"FastingBS\": 0, \"RestingECG\": \"ST\", \"MaxHR\": 140, \"ExerciseAngina\": \"N\", \"Oldpeak\": 0.0, \"ST_Slope\": \"Flat\", \"HeartDisease\": 1, \"HD\": \"True\", \"Prediction\": \"True\"}, {\"Age\": 54, \"Sex\": \"M\", \"ChestPainType\": \"ASY\", \"RestingBP\": 150, \"Cholesterol\": 365, \"FastingBS\": 0, \"RestingECG\": \"ST\", \"MaxHR\": 134, \"ExerciseAngina\": \"N\", \"Oldpeak\": 1.0, \"ST_Slope\": \"Up\", \"HeartDisease\": 0, \"HD\": \"False\", \"Prediction\": \"True\"}, {\"Age\": 52, \"Sex\": \"M\", \"ChestPainType\": \"ASY\", \"RestingBP\": 112, \"Cholesterol\": 342, \"FastingBS\": 0, \"RestingECG\": \"ST\", \"MaxHR\": 96, \"ExerciseAngina\": \"Y\", \"Oldpeak\": 1.0, \"ST_Slope\": \"Flat\", \"HeartDisease\": 1, \"HD\": \"True\", \"Prediction\": \"True\"}, {\"Age\": 49, \"Sex\": \"M\", \"ChestPainType\": \"ATA\", \"RestingBP\": 100, \"Cholesterol\": 253, \"FastingBS\": 0, \"RestingECG\": \"Normal\", \"MaxHR\": 174, \"ExerciseAngina\": \"N\", \"Oldpeak\": 0.0, \"ST_Slope\": \"Up\", \"HeartDisease\": 0, \"HD\": \"False\", \"Prediction\": \"False\"}, {\"Age\": 43, \"Sex\": \"F\", \"ChestPainType\": \"NAP\", \"RestingBP\": 150, \"Cholesterol\": 254, \"FastingBS\": 0, \"RestingECG\": \"Normal\", \"MaxHR\": 175, \"ExerciseAngina\": \"N\", \"Oldpeak\": 0.0, \"ST_Slope\": \"Up\", \"HeartDisease\": 0, \"HD\": \"False\", \"Prediction\": \"False\"}, {\"Age\": 45, \"Sex\": \"M\", \"ChestPainType\": \"ASY\", \"RestingBP\": 140, \"Cholesterol\": 224, \"FastingBS\": 0, \"RestingECG\": \"Normal\", \"MaxHR\": 144, \"ExerciseAngina\": \"N\", \"Oldpeak\": 0.0, \"ST_Slope\": \"Up\", \"HeartDisease\": 0, \"HD\": \"False\", \"Prediction\": \"False\"}, {\"Age\": 46, \"Sex\": \"M\", \"ChestPainType\": \"ASY\", \"RestingBP\": 120, \"Cholesterol\": 277, \"FastingBS\": 0, \"RestingECG\": \"Normal\", \"MaxHR\": 125, \"ExerciseAngina\": \"Y\", \"Oldpeak\": 1.0, \"ST_Slope\": \"Flat\", \"HeartDisease\": 1, \"HD\": \"True\", \"Prediction\": \"False\"}, {\"Age\": 50, \"Sex\": \"F\", \"ChestPainType\": \"ATA\", \"RestingBP\": 110, \"Cholesterol\": 202, \"FastingBS\": 0, \"RestingECG\": \"Normal\", \"MaxHR\": 145, \"ExerciseAngina\": \"N\", \"Oldpeak\": 0.0, \"ST_Slope\": \"Up\", \"HeartDisease\": 0, \"HD\": \"False\", \"Prediction\": \"False\"}, {\"Age\": 37, \"Sex\": \"F\", \"ChestPainType\": \"ATA\", \"RestingBP\": 120, \"Cholesterol\": 260, \"FastingBS\": 0, \"RestingECG\": \"Normal\", \"MaxHR\": 130, \"ExerciseAngina\": \"N\", \"Oldpeak\": 0.0, \"ST_Slope\": \"Up\", \"HeartDisease\": 0, \"HD\": \"False\", \"Prediction\": \"False\"}, {\"Age\": 45, \"Sex\": \"F\", \"ChestPainType\": \"ASY\", \"RestingBP\": 132, \"Cholesterol\": 297, \"FastingBS\": 0, \"RestingECG\": \"Normal\", \"MaxHR\": 144, \"ExerciseAngina\": \"N\", \"Oldpeak\": 0.0, \"ST_Slope\": \"Up\", \"HeartDisease\": 0, \"HD\": \"False\", \"Prediction\": \"False\"}, {\"Age\": 32, \"Sex\": \"M\", \"ChestPainType\": \"ATA\", \"RestingBP\": 110, \"Cholesterol\": 225, \"FastingBS\": 0, \"RestingECG\": \"Normal\", \"MaxHR\": 184, \"ExerciseAngina\": \"N\", \"Oldpeak\": 0.0, \"ST_Slope\": \"Up\", \"HeartDisease\": 0, \"HD\": \"False\", \"Prediction\": \"False\"}, {\"Age\": 52, \"Sex\": \"M\", \"ChestPainType\": \"ASY\", \"RestingBP\": 160, \"Cholesterol\": 246, \"FastingBS\": 0, \"RestingECG\": \"ST\", \"MaxHR\": 82, \"ExerciseAngina\": \"Y\", \"Oldpeak\": 4.0, \"ST_Slope\": \"Flat\", \"HeartDisease\": 1, \"HD\": \"True\", \"Prediction\": \"True\"}, {\"Age\": 44, \"Sex\": \"M\", \"ChestPainType\": \"ASY\", \"RestingBP\": 150, \"Cholesterol\": 412, \"FastingBS\": 0, \"RestingECG\": \"Normal\", \"MaxHR\": 170, \"ExerciseAngina\": \"N\", \"Oldpeak\": 0.0, \"ST_Slope\": \"Up\", \"HeartDisease\": 0, \"HD\": \"False\", \"Prediction\": \"False\"}, {\"Age\": 57, \"Sex\": \"M\", \"ChestPainType\": \"ATA\", \"RestingBP\": 140, \"Cholesterol\": 265, \"FastingBS\": 0, \"RestingECG\": \"ST\", \"MaxHR\": 145, \"ExerciseAngina\": \"Y\", \"Oldpeak\": 1.0, \"ST_Slope\": \"Flat\", \"HeartDisease\": 1, \"HD\": \"True\", \"Prediction\": \"True\"}, {\"Age\": 44, \"Sex\": \"M\", \"ChestPainType\": \"ATA\", \"RestingBP\": 130, \"Cholesterol\": 215, \"FastingBS\": 0, \"RestingECG\": \"Normal\", \"MaxHR\": 135, \"ExerciseAngina\": \"N\", \"Oldpeak\": 0.0, \"ST_Slope\": \"Up\", \"HeartDisease\": 0, \"HD\": \"False\", \"Prediction\": \"False\"}, {\"Age\": 52, \"Sex\": \"M\", \"ChestPainType\": \"ASY\", \"RestingBP\": 120, \"Cholesterol\": 182, \"FastingBS\": 0, \"RestingECG\": \"Normal\", \"MaxHR\": 150, \"ExerciseAngina\": \"N\", \"Oldpeak\": 0.0, \"ST_Slope\": \"Flat\", \"HeartDisease\": 1, \"HD\": \"True\", \"Prediction\": \"False\"}, {\"Age\": 44, \"Sex\": \"F\", \"ChestPainType\": \"ASY\", \"RestingBP\": 120, \"Cholesterol\": 218, \"FastingBS\": 0, \"RestingECG\": \"ST\", \"MaxHR\": 115, \"ExerciseAngina\": \"N\", \"Oldpeak\": 0.0, \"ST_Slope\": \"Up\", \"HeartDisease\": 0, \"HD\": \"False\", \"Prediction\": \"True\"}, {\"Age\": 55, \"Sex\": \"M\", \"ChestPainType\": \"ASY\", \"RestingBP\": 140, \"Cholesterol\": 268, \"FastingBS\": 0, \"RestingECG\": \"Normal\", \"MaxHR\": 128, \"ExerciseAngina\": \"Y\", \"Oldpeak\": 1.5, \"ST_Slope\": \"Flat\", \"HeartDisease\": 1, \"HD\": \"True\", \"Prediction\": \"True\"}, {\"Age\": 46, \"Sex\": \"M\", \"ChestPainType\": \"NAP\", \"RestingBP\": 150, \"Cholesterol\": 163, \"FastingBS\": 0, \"RestingECG\": \"Normal\", \"MaxHR\": 116, \"ExerciseAngina\": \"N\", \"Oldpeak\": 0.0, \"ST_Slope\": \"Up\", \"HeartDisease\": 0, \"HD\": \"False\", \"Prediction\": \"True\"}, {\"Age\": 32, \"Sex\": \"M\", \"ChestPainType\": \"ASY\", \"RestingBP\": 118, \"Cholesterol\": 529, \"FastingBS\": 0, \"RestingECG\": \"Normal\", \"MaxHR\": 130, \"ExerciseAngina\": \"N\", \"Oldpeak\": 0.0, \"ST_Slope\": \"Flat\", \"HeartDisease\": 1, \"HD\": \"True\", \"Prediction\": \"True\"}, {\"Age\": 35, \"Sex\": \"F\", \"ChestPainType\": \"ASY\", \"RestingBP\": 140, \"Cholesterol\": 167, \"FastingBS\": 0, \"RestingECG\": \"Normal\", \"MaxHR\": 150, \"ExerciseAngina\": \"N\", \"Oldpeak\": 0.0, \"ST_Slope\": \"Up\", \"HeartDisease\": 0, \"HD\": \"False\", \"Prediction\": \"False\"}, {\"Age\": 52, \"Sex\": \"M\", \"ChestPainType\": \"ATA\", \"RestingBP\": 140, \"Cholesterol\": 100, \"FastingBS\": 0, \"RestingECG\": \"Normal\", \"MaxHR\": 138, \"ExerciseAngina\": \"Y\", \"Oldpeak\": 0.0, \"ST_Slope\": \"Up\", \"HeartDisease\": 0, \"HD\": \"False\", \"Prediction\": \"True\"}, {\"Age\": 49, \"Sex\": \"M\", \"ChestPainType\": \"ASY\", \"RestingBP\": 130, \"Cholesterol\": 206, \"FastingBS\": 0, \"RestingECG\": \"Normal\", \"MaxHR\": 170, \"ExerciseAngina\": \"N\", \"Oldpeak\": 0.0, \"ST_Slope\": \"Flat\", \"HeartDisease\": 1, \"HD\": \"True\", \"Prediction\": \"False\"}, {\"Age\": 55, \"Sex\": \"M\", \"ChestPainType\": \"NAP\", \"RestingBP\": 110, \"Cholesterol\": 277, \"FastingBS\": 0, \"RestingECG\": \"Normal\", \"MaxHR\": 160, \"ExerciseAngina\": \"N\", \"Oldpeak\": 0.0, \"ST_Slope\": \"Up\", \"HeartDisease\": 0, \"HD\": \"False\", \"Prediction\": \"False\"}, {\"Age\": 54, \"Sex\": \"M\", \"ChestPainType\": \"ATA\", \"RestingBP\": 120, \"Cholesterol\": 238, \"FastingBS\": 0, \"RestingECG\": \"Normal\", \"MaxHR\": 154, \"ExerciseAngina\": \"N\", \"Oldpeak\": 0.0, \"ST_Slope\": \"Up\", \"HeartDisease\": 0, \"HD\": \"False\", \"Prediction\": \"False\"}, {\"Age\": 63, \"Sex\": \"M\", \"ChestPainType\": \"ASY\", \"RestingBP\": 150, \"Cholesterol\": 223, \"FastingBS\": 0, \"RestingECG\": \"Normal\", \"MaxHR\": 115, \"ExerciseAngina\": \"N\", \"Oldpeak\": 0.0, \"ST_Slope\": \"Flat\", \"HeartDisease\": 1, \"HD\": \"True\", \"Prediction\": \"True\"}, {\"Age\": 52, \"Sex\": \"M\", \"ChestPainType\": \"ATA\", \"RestingBP\": 160, \"Cholesterol\": 196, \"FastingBS\": 0, \"RestingECG\": \"Normal\", \"MaxHR\": 165, \"ExerciseAngina\": \"N\", \"Oldpeak\": 0.0, \"ST_Slope\": \"Up\", \"HeartDisease\": 0, \"HD\": \"False\", \"Prediction\": \"False\"}, {\"Age\": 56, \"Sex\": \"M\", \"ChestPainType\": \"ASY\", \"RestingBP\": 150, \"Cholesterol\": 213, \"FastingBS\": 1, \"RestingECG\": \"Normal\", \"MaxHR\": 125, \"ExerciseAngina\": \"Y\", \"Oldpeak\": 1.0, \"ST_Slope\": \"Flat\", \"HeartDisease\": 1, \"HD\": \"True\", \"Prediction\": \"True\"}, {\"Age\": 66, \"Sex\": \"M\", \"ChestPainType\": \"ASY\", \"RestingBP\": 140, \"Cholesterol\": 139, \"FastingBS\": 0, \"RestingECG\": \"Normal\", \"MaxHR\": 94, \"ExerciseAngina\": \"Y\", \"Oldpeak\": 1.0, \"ST_Slope\": \"Flat\", \"HeartDisease\": 1, \"HD\": \"True\", \"Prediction\": \"True\"}, {\"Age\": 65, \"Sex\": \"M\", \"ChestPainType\": \"ASY\", \"RestingBP\": 170, \"Cholesterol\": 263, \"FastingBS\": 1, \"RestingECG\": \"Normal\", \"MaxHR\": 112, \"ExerciseAngina\": \"Y\", \"Oldpeak\": 2.0, \"ST_Slope\": \"Flat\", \"HeartDisease\": 1, \"HD\": \"True\", \"Prediction\": \"True\"}, {\"Age\": 53, \"Sex\": \"F\", \"ChestPainType\": \"ATA\", \"RestingBP\": 140, \"Cholesterol\": 216, \"FastingBS\": 0, \"RestingECG\": \"Normal\", \"MaxHR\": 142, \"ExerciseAngina\": \"Y\", \"Oldpeak\": 2.0, \"ST_Slope\": \"Flat\", \"HeartDisease\": 0, \"HD\": \"False\", \"Prediction\": \"False\"}, {\"Age\": 43, \"Sex\": \"M\", \"ChestPainType\": \"TA\", \"RestingBP\": 120, \"Cholesterol\": 291, \"FastingBS\": 0, \"RestingECG\": \"ST\", \"MaxHR\": 155, \"ExerciseAngina\": \"N\", \"Oldpeak\": 0.0, \"ST_Slope\": \"Flat\", \"HeartDisease\": 1, \"HD\": \"True\", \"Prediction\": \"False\"}, {\"Age\": 55, \"Sex\": \"M\", \"ChestPainType\": \"ASY\", \"RestingBP\": 140, \"Cholesterol\": 229, \"FastingBS\": 0, \"RestingECG\": \"Normal\", \"MaxHR\": 110, \"ExerciseAngina\": \"Y\", \"Oldpeak\": 0.5, \"ST_Slope\": \"Flat\", \"HeartDisease\": 0, \"HD\": \"False\", \"Prediction\": \"True\"}, {\"Age\": 49, \"Sex\": \"F\", \"ChestPainType\": \"ATA\", \"RestingBP\": 110, \"Cholesterol\": 208, \"FastingBS\": 0, \"RestingECG\": \"Normal\", \"MaxHR\": 160, \"ExerciseAngina\": \"N\", \"Oldpeak\": 0.0, \"ST_Slope\": \"Up\", \"HeartDisease\": 0, \"HD\": \"False\", \"Prediction\": \"False\"}, {\"Age\": 39, \"Sex\": \"M\", \"ChestPainType\": \"ASY\", \"RestingBP\": 130, \"Cholesterol\": 307, \"FastingBS\": 0, \"RestingECG\": \"Normal\", \"MaxHR\": 140, \"ExerciseAngina\": \"N\", \"Oldpeak\": 0.0, \"ST_Slope\": \"Up\", \"HeartDisease\": 0, \"HD\": \"False\", \"Prediction\": \"False\"}, {\"Age\": 52, \"Sex\": \"F\", \"ChestPainType\": \"ATA\", \"RestingBP\": 120, \"Cholesterol\": 210, \"FastingBS\": 0, \"RestingECG\": \"Normal\", \"MaxHR\": 148, \"ExerciseAngina\": \"N\", \"Oldpeak\": 0.0, \"ST_Slope\": \"Up\", \"HeartDisease\": 0, \"HD\": \"False\", \"Prediction\": \"False\"}, {\"Age\": 48, \"Sex\": \"M\", \"ChestPainType\": \"ASY\", \"RestingBP\": 160, \"Cholesterol\": 329, \"FastingBS\": 0, \"RestingECG\": \"Normal\", \"MaxHR\": 92, \"ExerciseAngina\": \"Y\", \"Oldpeak\": 1.5, \"ST_Slope\": \"Flat\", \"HeartDisease\": 1, \"HD\": \"True\", \"Prediction\": \"True\"}, {\"Age\": 39, \"Sex\": \"F\", \"ChestPainType\": \"NAP\", \"RestingBP\": 110, \"Cholesterol\": 182, \"FastingBS\": 0, \"RestingECG\": \"ST\", \"MaxHR\": 180, \"ExerciseAngina\": \"N\", \"Oldpeak\": 0.0, \"ST_Slope\": \"Up\", \"HeartDisease\": 0, \"HD\": \"False\", \"Prediction\": \"False\"}, {\"Age\": 58, \"Sex\": \"M\", \"ChestPainType\": \"ASY\", \"RestingBP\": 130, \"Cholesterol\": 263, \"FastingBS\": 0, \"RestingECG\": \"Normal\", \"MaxHR\": 140, \"ExerciseAngina\": \"Y\", \"Oldpeak\": 2.0, \"ST_Slope\": \"Flat\", \"HeartDisease\": 1, \"HD\": \"True\", \"Prediction\": \"True\"}, {\"Age\": 43, \"Sex\": \"M\", \"ChestPainType\": \"ATA\", \"RestingBP\": 142, \"Cholesterol\": 207, \"FastingBS\": 0, \"RestingECG\": \"Normal\", \"MaxHR\": 138, \"ExerciseAngina\": \"N\", \"Oldpeak\": 0.0, \"ST_Slope\": \"Up\", \"HeartDisease\": 0, \"HD\": \"False\", \"Prediction\": \"False\"}, {\"Age\": 39, \"Sex\": \"M\", \"ChestPainType\": \"NAP\", \"RestingBP\": 160, \"Cholesterol\": 147, \"FastingBS\": 1, \"RestingECG\": \"Normal\", \"MaxHR\": 160, \"ExerciseAngina\": \"N\", \"Oldpeak\": 0.0, \"ST_Slope\": \"Up\", \"HeartDisease\": 0, \"HD\": \"False\", \"Prediction\": \"False\"}, {\"Age\": 56, \"Sex\": \"M\", \"ChestPainType\": \"ASY\", \"RestingBP\": 120, \"Cholesterol\": 85, \"FastingBS\": 0, \"RestingECG\": \"Normal\", \"MaxHR\": 140, \"ExerciseAngina\": \"N\", \"Oldpeak\": 0.0, \"ST_Slope\": \"Up\", \"HeartDisease\": 0, \"HD\": \"False\", \"Prediction\": \"True\"}, {\"Age\": 41, \"Sex\": \"M\", \"ChestPainType\": \"ATA\", \"RestingBP\": 125, \"Cholesterol\": 269, \"FastingBS\": 0, \"RestingECG\": \"Normal\", \"MaxHR\": 144, \"ExerciseAngina\": \"N\", \"Oldpeak\": 0.0, \"ST_Slope\": \"Up\", \"HeartDisease\": 0, \"HD\": \"False\", \"Prediction\": \"False\"}, {\"Age\": 65, \"Sex\": \"M\", \"ChestPainType\": \"ASY\", \"RestingBP\": 130, \"Cholesterol\": 275, \"FastingBS\": 0, \"RestingECG\": \"ST\", \"MaxHR\": 115, \"ExerciseAngina\": \"Y\", \"Oldpeak\": 1.0, \"ST_Slope\": \"Flat\", \"HeartDisease\": 1, \"HD\": \"True\", \"Prediction\": \"True\"}, {\"Age\": 51, \"Sex\": \"M\", \"ChestPainType\": \"ASY\", \"RestingBP\": 130, \"Cholesterol\": 179, \"FastingBS\": 0, \"RestingECG\": \"Normal\", \"MaxHR\": 100, \"ExerciseAngina\": \"N\", \"Oldpeak\": 0.0, \"ST_Slope\": \"Up\", \"HeartDisease\": 0, \"HD\": \"False\", \"Prediction\": \"True\"}, {\"Age\": 40, \"Sex\": \"F\", \"ChestPainType\": \"ASY\", \"RestingBP\": 150, \"Cholesterol\": 392, \"FastingBS\": 0, \"RestingECG\": \"Normal\", \"MaxHR\": 130, \"ExerciseAngina\": \"N\", \"Oldpeak\": 2.0, \"ST_Slope\": \"Flat\", \"HeartDisease\": 1, \"HD\": \"True\", \"Prediction\": \"True\"}, {\"Age\": 40, \"Sex\": \"M\", \"ChestPainType\": \"ASY\", \"RestingBP\": 120, \"Cholesterol\": 466, \"FastingBS\": 1, \"RestingECG\": \"Normal\", \"MaxHR\": 152, \"ExerciseAngina\": \"Y\", \"Oldpeak\": 1.0, \"ST_Slope\": \"Flat\", \"HeartDisease\": 1, \"HD\": \"True\", \"Prediction\": \"True\"}, {\"Age\": 46, \"Sex\": \"M\", \"ChestPainType\": \"ASY\", \"RestingBP\": 118, \"Cholesterol\": 186, \"FastingBS\": 0, \"RestingECG\": \"Normal\", \"MaxHR\": 124, \"ExerciseAngina\": \"N\", \"Oldpeak\": 0.0, \"ST_Slope\": \"Flat\", \"HeartDisease\": 1, \"HD\": \"True\", \"Prediction\": \"False\"}, {\"Age\": 57, \"Sex\": \"M\", \"ChestPainType\": \"ATA\", \"RestingBP\": 140, \"Cholesterol\": 260, \"FastingBS\": 1, \"RestingECG\": \"Normal\", \"MaxHR\": 140, \"ExerciseAngina\": \"N\", \"Oldpeak\": 0.0, \"ST_Slope\": \"Up\", \"HeartDisease\": 0, \"HD\": \"False\", \"Prediction\": \"True\"}, {\"Age\": 48, \"Sex\": \"F\", \"ChestPainType\": \"ASY\", \"RestingBP\": 120, \"Cholesterol\": 254, \"FastingBS\": 0, \"RestingECG\": \"ST\", \"MaxHR\": 110, \"ExerciseAngina\": \"N\", \"Oldpeak\": 0.0, \"ST_Slope\": \"Up\", \"HeartDisease\": 0, \"HD\": \"False\", \"Prediction\": \"False\"}, {\"Age\": 34, \"Sex\": \"M\", \"ChestPainType\": \"ATA\", \"RestingBP\": 150, \"Cholesterol\": 214, \"FastingBS\": 0, \"RestingECG\": \"ST\", \"MaxHR\": 168, \"ExerciseAngina\": \"N\", \"Oldpeak\": 0.0, \"ST_Slope\": \"Up\", \"HeartDisease\": 0, \"HD\": \"False\", \"Prediction\": \"False\"}, {\"Age\": 50, \"Sex\": \"M\", \"ChestPainType\": \"ASY\", \"RestingBP\": 140, \"Cholesterol\": 129, \"FastingBS\": 0, \"RestingECG\": \"Normal\", \"MaxHR\": 135, \"ExerciseAngina\": \"N\", \"Oldpeak\": 0.0, \"ST_Slope\": \"Up\", \"HeartDisease\": 0, \"HD\": \"False\", \"Prediction\": \"True\"}, {\"Age\": 39, \"Sex\": \"M\", \"ChestPainType\": \"ATA\", \"RestingBP\": 190, \"Cholesterol\": 241, \"FastingBS\": 0, \"RestingECG\": \"Normal\", \"MaxHR\": 106, \"ExerciseAngina\": \"N\", \"Oldpeak\": 0.0, \"ST_Slope\": \"Up\", \"HeartDisease\": 0, \"HD\": \"False\", \"Prediction\": \"True\"}, {\"Age\": 59, \"Sex\": \"F\", \"ChestPainType\": \"ATA\", \"RestingBP\": 130, \"Cholesterol\": 188, \"FastingBS\": 0, \"RestingECG\": \"Normal\", \"MaxHR\": 124, \"ExerciseAngina\": \"N\", \"Oldpeak\": 1.0, \"ST_Slope\": \"Flat\", \"HeartDisease\": 0, \"HD\": \"False\", \"Prediction\": \"False\"}, {\"Age\": 57, \"Sex\": \"M\", \"ChestPainType\": \"ASY\", \"RestingBP\": 150, \"Cholesterol\": 255, \"FastingBS\": 0, \"RestingECG\": \"Normal\", \"MaxHR\": 92, \"ExerciseAngina\": \"Y\", \"Oldpeak\": 3.0, \"ST_Slope\": \"Flat\", \"HeartDisease\": 1, \"HD\": \"True\", \"Prediction\": \"True\"}, {\"Age\": 47, \"Sex\": \"M\", \"ChestPainType\": \"ASY\", \"RestingBP\": 140, \"Cholesterol\": 276, \"FastingBS\": 1, \"RestingECG\": \"Normal\", \"MaxHR\": 125, \"ExerciseAngina\": \"Y\", \"Oldpeak\": 0.0, \"ST_Slope\": \"Up\", \"HeartDisease\": 0, \"HD\": \"False\", \"Prediction\": \"True\"}, {\"Age\": 38, \"Sex\": \"M\", \"ChestPainType\": \"ATA\", \"RestingBP\": 140, \"Cholesterol\": 297, \"FastingBS\": 0, \"RestingECG\": \"Normal\", \"MaxHR\": 150, \"ExerciseAngina\": \"N\", \"Oldpeak\": 0.0, \"ST_Slope\": \"Up\", \"HeartDisease\": 0, \"HD\": \"False\", \"Prediction\": \"False\"}, {\"Age\": 49, \"Sex\": \"F\", \"ChestPainType\": \"NAP\", \"RestingBP\": 130, \"Cholesterol\": 207, \"FastingBS\": 0, \"RestingECG\": \"ST\", \"MaxHR\": 135, \"ExerciseAngina\": \"N\", \"Oldpeak\": 0.0, \"ST_Slope\": \"Up\", \"HeartDisease\": 0, \"HD\": \"False\", \"Prediction\": \"False\"}, {\"Age\": 33, \"Sex\": \"F\", \"ChestPainType\": \"ASY\", \"RestingBP\": 100, \"Cholesterol\": 246, \"FastingBS\": 0, \"RestingECG\": \"Normal\", \"MaxHR\": 150, \"ExerciseAngina\": \"Y\", \"Oldpeak\": 1.0, \"ST_Slope\": \"Flat\", \"HeartDisease\": 1, \"HD\": \"True\", \"Prediction\": \"False\"}, {\"Age\": 38, \"Sex\": \"M\", \"ChestPainType\": \"ASY\", \"RestingBP\": 120, \"Cholesterol\": 282, \"FastingBS\": 0, \"RestingECG\": \"Normal\", \"MaxHR\": 170, \"ExerciseAngina\": \"N\", \"Oldpeak\": 0.0, \"ST_Slope\": \"Flat\", \"HeartDisease\": 1, \"HD\": \"True\", \"Prediction\": \"False\"}, {\"Age\": 59, \"Sex\": \"F\", \"ChestPainType\": \"ASY\", \"RestingBP\": 130, \"Cholesterol\": 338, \"FastingBS\": 1, \"RestingECG\": \"ST\", \"MaxHR\": 130, \"ExerciseAngina\": \"Y\", \"Oldpeak\": 1.5, \"ST_Slope\": \"Flat\", \"HeartDisease\": 1, \"HD\": \"True\", \"Prediction\": \"True\"}, {\"Age\": 35, \"Sex\": \"F\", \"ChestPainType\": \"TA\", \"RestingBP\": 120, \"Cholesterol\": 160, \"FastingBS\": 0, \"RestingECG\": \"ST\", \"MaxHR\": 185, \"ExerciseAngina\": \"N\", \"Oldpeak\": 0.0, \"ST_Slope\": \"Up\", \"HeartDisease\": 0, \"HD\": \"False\", \"Prediction\": \"False\"}, {\"Age\": 34, \"Sex\": \"M\", \"ChestPainType\": \"TA\", \"RestingBP\": 140, \"Cholesterol\": 156, \"FastingBS\": 0, \"RestingECG\": \"Normal\", \"MaxHR\": 180, \"ExerciseAngina\": \"N\", \"Oldpeak\": 0.0, \"ST_Slope\": \"Flat\", \"HeartDisease\": 1, \"HD\": \"True\", \"Prediction\": \"False\"}, {\"Age\": 47, \"Sex\": \"F\", \"ChestPainType\": \"NAP\", \"RestingBP\": 135, \"Cholesterol\": 248, \"FastingBS\": 1, \"RestingECG\": \"Normal\", \"MaxHR\": 170, \"ExerciseAngina\": \"N\", \"Oldpeak\": 0.0, \"ST_Slope\": \"Flat\", \"HeartDisease\": 1, \"HD\": \"True\", \"Prediction\": \"False\"}, {\"Age\": 52, \"Sex\": \"F\", \"ChestPainType\": \"NAP\", \"RestingBP\": 125, \"Cholesterol\": 272, \"FastingBS\": 0, \"RestingECG\": \"Normal\", \"MaxHR\": 139, \"ExerciseAngina\": \"N\", \"Oldpeak\": 0.0, \"ST_Slope\": \"Up\", \"HeartDisease\": 0, \"HD\": \"False\", \"Prediction\": \"False\"}, {\"Age\": 46, \"Sex\": \"M\", \"ChestPainType\": \"ASY\", \"RestingBP\": 110, \"Cholesterol\": 240, \"FastingBS\": 0, \"RestingECG\": \"ST\", \"MaxHR\": 140, \"ExerciseAngina\": \"N\", \"Oldpeak\": 0.0, \"ST_Slope\": \"Up\", \"HeartDisease\": 0, \"HD\": \"False\", \"Prediction\": \"False\"}, {\"Age\": 58, \"Sex\": \"F\", \"ChestPainType\": \"ATA\", \"RestingBP\": 180, \"Cholesterol\": 393, \"FastingBS\": 0, \"RestingECG\": \"Normal\", \"MaxHR\": 110, \"ExerciseAngina\": \"Y\", \"Oldpeak\": 1.0, \"ST_Slope\": \"Flat\", \"HeartDisease\": 1, \"HD\": \"True\", \"Prediction\": \"True\"}, {\"Age\": 58, \"Sex\": \"M\", \"ChestPainType\": \"ATA\", \"RestingBP\": 130, \"Cholesterol\": 230, \"FastingBS\": 0, \"RestingECG\": \"Normal\", \"MaxHR\": 150, \"ExerciseAngina\": \"N\", \"Oldpeak\": 0.0, \"ST_Slope\": \"Up\", \"HeartDisease\": 0, \"HD\": \"False\", \"Prediction\": \"False\"}, {\"Age\": 54, \"Sex\": \"M\", \"ChestPainType\": \"ATA\", \"RestingBP\": 120, \"Cholesterol\": 246, \"FastingBS\": 0, \"RestingECG\": \"Normal\", \"MaxHR\": 110, \"ExerciseAngina\": \"N\", \"Oldpeak\": 0.0, \"ST_Slope\": \"Up\", \"HeartDisease\": 0, \"HD\": \"False\", \"Prediction\": \"True\"}, {\"Age\": 34, \"Sex\": \"F\", \"ChestPainType\": \"ATA\", \"RestingBP\": 130, \"Cholesterol\": 161, \"FastingBS\": 0, \"RestingECG\": \"Normal\", \"MaxHR\": 190, \"ExerciseAngina\": \"N\", \"Oldpeak\": 0.0, \"ST_Slope\": \"Up\", \"HeartDisease\": 0, \"HD\": \"False\", \"Prediction\": \"False\"}, {\"Age\": 48, \"Sex\": \"F\", \"ChestPainType\": \"ASY\", \"RestingBP\": 108, \"Cholesterol\": 163, \"FastingBS\": 0, \"RestingECG\": \"Normal\", \"MaxHR\": 175, \"ExerciseAngina\": \"N\", \"Oldpeak\": 2.0, \"ST_Slope\": \"Up\", \"HeartDisease\": 0, \"HD\": \"False\", \"Prediction\": \"False\"}, {\"Age\": 54, \"Sex\": \"F\", \"ChestPainType\": \"ATA\", \"RestingBP\": 120, \"Cholesterol\": 230, \"FastingBS\": 1, \"RestingECG\": \"Normal\", \"MaxHR\": 140, \"ExerciseAngina\": \"N\", \"Oldpeak\": 0.0, \"ST_Slope\": \"Up\", \"HeartDisease\": 0, \"HD\": \"False\", \"Prediction\": \"False\"}, {\"Age\": 42, \"Sex\": \"M\", \"ChestPainType\": \"NAP\", \"RestingBP\": 120, \"Cholesterol\": 228, \"FastingBS\": 0, \"RestingECG\": \"Normal\", \"MaxHR\": 152, \"ExerciseAngina\": \"Y\", \"Oldpeak\": 1.5, \"ST_Slope\": \"Flat\", \"HeartDisease\": 0, \"HD\": \"False\", \"Prediction\": \"False\"}, {\"Age\": 38, \"Sex\": \"M\", \"ChestPainType\": \"NAP\", \"RestingBP\": 145, \"Cholesterol\": 292, \"FastingBS\": 0, \"RestingECG\": \"Normal\", \"MaxHR\": 130, \"ExerciseAngina\": \"N\", \"Oldpeak\": 0.0, \"ST_Slope\": \"Up\", \"HeartDisease\": 0, \"HD\": \"False\", \"Prediction\": \"False\"}, {\"Age\": 46, \"Sex\": \"M\", \"ChestPainType\": \"ASY\", \"RestingBP\": 110, \"Cholesterol\": 202, \"FastingBS\": 0, \"RestingECG\": \"Normal\", \"MaxHR\": 150, \"ExerciseAngina\": \"Y\", \"Oldpeak\": 0.0, \"ST_Slope\": \"Flat\", \"HeartDisease\": 1, \"HD\": \"True\", \"Prediction\": \"False\"}, {\"Age\": 56, \"Sex\": \"M\", \"ChestPainType\": \"ASY\", \"RestingBP\": 170, \"Cholesterol\": 388, \"FastingBS\": 0, \"RestingECG\": \"ST\", \"MaxHR\": 122, \"ExerciseAngina\": \"Y\", \"Oldpeak\": 2.0, \"ST_Slope\": \"Flat\", \"HeartDisease\": 1, \"HD\": \"True\", \"Prediction\": \"True\"}, {\"Age\": 56, \"Sex\": \"M\", \"ChestPainType\": \"ASY\", \"RestingBP\": 150, \"Cholesterol\": 230, \"FastingBS\": 0, \"RestingECG\": \"ST\", \"MaxHR\": 124, \"ExerciseAngina\": \"Y\", \"Oldpeak\": 1.5, \"ST_Slope\": \"Flat\", \"HeartDisease\": 1, \"HD\": \"True\", \"Prediction\": \"True\"}, {\"Age\": 61, \"Sex\": \"F\", \"ChestPainType\": \"ASY\", \"RestingBP\": 130, \"Cholesterol\": 294, \"FastingBS\": 0, \"RestingECG\": \"ST\", \"MaxHR\": 120, \"ExerciseAngina\": \"Y\", \"Oldpeak\": 1.0, \"ST_Slope\": \"Flat\", \"HeartDisease\": 0, \"HD\": \"False\", \"Prediction\": \"True\"}, {\"Age\": 49, \"Sex\": \"M\", \"ChestPainType\": \"NAP\", \"RestingBP\": 115, \"Cholesterol\": 265, \"FastingBS\": 0, \"RestingECG\": \"Normal\", \"MaxHR\": 175, \"ExerciseAngina\": \"N\", \"Oldpeak\": 0.0, \"ST_Slope\": \"Flat\", \"HeartDisease\": 1, \"HD\": \"True\", \"Prediction\": \"False\"}, {\"Age\": 43, \"Sex\": \"F\", \"ChestPainType\": \"ATA\", \"RestingBP\": 120, \"Cholesterol\": 215, \"FastingBS\": 0, \"RestingECG\": \"ST\", \"MaxHR\": 175, \"ExerciseAngina\": \"N\", \"Oldpeak\": 0.0, \"ST_Slope\": \"Up\", \"HeartDisease\": 0, \"HD\": \"False\", \"Prediction\": \"False\"}, {\"Age\": 39, \"Sex\": \"M\", \"ChestPainType\": \"ATA\", \"RestingBP\": 120, \"Cholesterol\": 241, \"FastingBS\": 0, \"RestingECG\": \"ST\", \"MaxHR\": 146, \"ExerciseAngina\": \"N\", \"Oldpeak\": 2.0, \"ST_Slope\": \"Up\", \"HeartDisease\": 0, \"HD\": \"False\", \"Prediction\": \"False\"}, {\"Age\": 54, \"Sex\": \"M\", \"ChestPainType\": \"ASY\", \"RestingBP\": 140, \"Cholesterol\": 166, \"FastingBS\": 0, \"RestingECG\": \"Normal\", \"MaxHR\": 118, \"ExerciseAngina\": \"Y\", \"Oldpeak\": 0.0, \"ST_Slope\": \"Flat\", \"HeartDisease\": 1, \"HD\": \"True\", \"Prediction\": \"True\"}, {\"Age\": 43, \"Sex\": \"M\", \"ChestPainType\": \"ASY\", \"RestingBP\": 150, \"Cholesterol\": 247, \"FastingBS\": 0, \"RestingECG\": \"Normal\", \"MaxHR\": 130, \"ExerciseAngina\": \"Y\", \"Oldpeak\": 2.0, \"ST_Slope\": \"Flat\", \"HeartDisease\": 1, \"HD\": \"True\", \"Prediction\": \"False\"}, {\"Age\": 52, \"Sex\": \"M\", \"ChestPainType\": \"ASY\", \"RestingBP\": 160, \"Cholesterol\": 331, \"FastingBS\": 0, \"RestingECG\": \"Normal\", \"MaxHR\": 94, \"ExerciseAngina\": \"Y\", \"Oldpeak\": 2.5, \"ST_Slope\": \"Flat\", \"HeartDisease\": 1, \"HD\": \"True\", \"Prediction\": \"True\"}, {\"Age\": 50, \"Sex\": \"M\", \"ChestPainType\": \"ASY\", \"RestingBP\": 140, \"Cholesterol\": 341, \"FastingBS\": 0, \"RestingECG\": \"ST\", \"MaxHR\": 125, \"ExerciseAngina\": \"Y\", \"Oldpeak\": 2.5, \"ST_Slope\": \"Flat\", \"HeartDisease\": 1, \"HD\": \"True\", \"Prediction\": \"True\"}, {\"Age\": 47, \"Sex\": \"M\", \"ChestPainType\": \"ASY\", \"RestingBP\": 160, \"Cholesterol\": 291, \"FastingBS\": 0, \"RestingECG\": \"ST\", \"MaxHR\": 158, \"ExerciseAngina\": \"Y\", \"Oldpeak\": 3.0, \"ST_Slope\": \"Flat\", \"HeartDisease\": 1, \"HD\": \"True\", \"Prediction\": \"False\"}, {\"Age\": 53, \"Sex\": \"M\", \"ChestPainType\": \"ASY\", \"RestingBP\": 140, \"Cholesterol\": 243, \"FastingBS\": 0, \"RestingECG\": \"Normal\", \"MaxHR\": 155, \"ExerciseAngina\": \"N\", \"Oldpeak\": 0.0, \"ST_Slope\": \"Up\", \"HeartDisease\": 0, \"HD\": \"False\", \"Prediction\": \"False\"}, {\"Age\": 56, \"Sex\": \"F\", \"ChestPainType\": \"ATA\", \"RestingBP\": 120, \"Cholesterol\": 279, \"FastingBS\": 0, \"RestingECG\": \"Normal\", \"MaxHR\": 150, \"ExerciseAngina\": \"N\", \"Oldpeak\": 1.0, \"ST_Slope\": \"Flat\", \"HeartDisease\": 1, \"HD\": \"True\", \"Prediction\": \"False\"}, {\"Age\": 39, \"Sex\": \"M\", \"ChestPainType\": \"ASY\", \"RestingBP\": 110, \"Cholesterol\": 273, \"FastingBS\": 0, \"RestingECG\": \"Normal\", \"MaxHR\": 132, \"ExerciseAngina\": \"N\", \"Oldpeak\": 0.0, \"ST_Slope\": \"Up\", \"HeartDisease\": 0, \"HD\": \"False\", \"Prediction\": \"False\"}, {\"Age\": 42, \"Sex\": \"M\", \"ChestPainType\": \"ATA\", \"RestingBP\": 120, \"Cholesterol\": 198, \"FastingBS\": 0, \"RestingECG\": \"Normal\", \"MaxHR\": 155, \"ExerciseAngina\": \"N\", \"Oldpeak\": 0.0, \"ST_Slope\": \"Up\", \"HeartDisease\": 0, \"HD\": \"False\", \"Prediction\": \"False\"}, {\"Age\": 43, \"Sex\": \"F\", \"ChestPainType\": \"ATA\", \"RestingBP\": 120, \"Cholesterol\": 249, \"FastingBS\": 0, \"RestingECG\": \"ST\", \"MaxHR\": 176, \"ExerciseAngina\": \"N\", \"Oldpeak\": 0.0, \"ST_Slope\": \"Up\", \"HeartDisease\": 0, \"HD\": \"False\", \"Prediction\": \"False\"}, {\"Age\": 50, \"Sex\": \"M\", \"ChestPainType\": \"ATA\", \"RestingBP\": 120, \"Cholesterol\": 168, \"FastingBS\": 0, \"RestingECG\": \"Normal\", \"MaxHR\": 160, \"ExerciseAngina\": \"N\", \"Oldpeak\": 0.0, \"ST_Slope\": \"Up\", \"HeartDisease\": 0, \"HD\": \"False\", \"Prediction\": \"False\"}, {\"Age\": 54, \"Sex\": \"M\", \"ChestPainType\": \"ASY\", \"RestingBP\": 130, \"Cholesterol\": 603, \"FastingBS\": 1, \"RestingECG\": \"Normal\", \"MaxHR\": 125, \"ExerciseAngina\": \"Y\", \"Oldpeak\": 1.0, \"ST_Slope\": \"Flat\", \"HeartDisease\": 1, \"HD\": \"True\", \"Prediction\": \"True\"}, {\"Age\": 39, \"Sex\": \"M\", \"ChestPainType\": \"ATA\", \"RestingBP\": 130, \"Cholesterol\": 215, \"FastingBS\": 0, \"RestingECG\": \"Normal\", \"MaxHR\": 120, \"ExerciseAngina\": \"N\", \"Oldpeak\": 0.0, \"ST_Slope\": \"Up\", \"HeartDisease\": 0, \"HD\": \"False\", \"Prediction\": \"False\"}, {\"Age\": 48, \"Sex\": \"M\", \"ChestPainType\": \"ATA\", \"RestingBP\": 100, \"Cholesterol\": 159, \"FastingBS\": 0, \"RestingECG\": \"Normal\", \"MaxHR\": 100, \"ExerciseAngina\": \"N\", \"Oldpeak\": 0.0, \"ST_Slope\": \"Up\", \"HeartDisease\": 0, \"HD\": \"False\", \"Prediction\": \"True\"}, {\"Age\": 40, \"Sex\": \"M\", \"ChestPainType\": \"ATA\", \"RestingBP\": 130, \"Cholesterol\": 275, \"FastingBS\": 0, \"RestingECG\": \"Normal\", \"MaxHR\": 150, \"ExerciseAngina\": \"N\", \"Oldpeak\": 0.0, \"ST_Slope\": \"Up\", \"HeartDisease\": 0, \"HD\": \"False\", \"Prediction\": \"False\"}, {\"Age\": 55, \"Sex\": \"M\", \"ChestPainType\": \"ASY\", \"RestingBP\": 120, \"Cholesterol\": 270, \"FastingBS\": 0, \"RestingECG\": \"Normal\", \"MaxHR\": 140, \"ExerciseAngina\": \"N\", \"Oldpeak\": 0.0, \"ST_Slope\": \"Up\", \"HeartDisease\": 0, \"HD\": \"False\", \"Prediction\": \"False\"}, {\"Age\": 41, \"Sex\": \"M\", \"ChestPainType\": \"ATA\", \"RestingBP\": 120, \"Cholesterol\": 291, \"FastingBS\": 0, \"RestingECG\": \"ST\", \"MaxHR\": 160, \"ExerciseAngina\": \"N\", \"Oldpeak\": 0.0, \"ST_Slope\": \"Up\", \"HeartDisease\": 0, \"HD\": \"False\", \"Prediction\": \"False\"}, {\"Age\": 56, \"Sex\": \"M\", \"ChestPainType\": \"ASY\", \"RestingBP\": 155, \"Cholesterol\": 342, \"FastingBS\": 1, \"RestingECG\": \"Normal\", \"MaxHR\": 150, \"ExerciseAngina\": \"Y\", \"Oldpeak\": 3.0, \"ST_Slope\": \"Flat\", \"HeartDisease\": 1, \"HD\": \"True\", \"Prediction\": \"False\"}, {\"Age\": 38, \"Sex\": \"M\", \"ChestPainType\": \"ASY\", \"RestingBP\": 110, \"Cholesterol\": 190, \"FastingBS\": 0, \"RestingECG\": \"Normal\", \"MaxHR\": 150, \"ExerciseAngina\": \"Y\", \"Oldpeak\": 1.0, \"ST_Slope\": \"Flat\", \"HeartDisease\": 1, \"HD\": \"True\", \"Prediction\": \"False\"}, {\"Age\": 49, \"Sex\": \"M\", \"ChestPainType\": \"ASY\", \"RestingBP\": 140, \"Cholesterol\": 185, \"FastingBS\": 0, \"RestingECG\": \"Normal\", \"MaxHR\": 130, \"ExerciseAngina\": \"N\", \"Oldpeak\": 0.0, \"ST_Slope\": \"Up\", \"HeartDisease\": 0, \"HD\": \"False\", \"Prediction\": \"False\"}, {\"Age\": 44, \"Sex\": \"M\", \"ChestPainType\": \"ASY\", \"RestingBP\": 130, \"Cholesterol\": 290, \"FastingBS\": 0, \"RestingECG\": \"Normal\", \"MaxHR\": 100, \"ExerciseAngina\": \"Y\", \"Oldpeak\": 2.0, \"ST_Slope\": \"Flat\", \"HeartDisease\": 1, \"HD\": \"True\", \"Prediction\": \"True\"}, {\"Age\": 54, \"Sex\": \"M\", \"ChestPainType\": \"ATA\", \"RestingBP\": 160, \"Cholesterol\": 195, \"FastingBS\": 0, \"RestingECG\": \"ST\", \"MaxHR\": 130, \"ExerciseAngina\": \"N\", \"Oldpeak\": 1.0, \"ST_Slope\": \"Up\", \"HeartDisease\": 0, \"HD\": \"False\", \"Prediction\": \"False\"}, {\"Age\": 59, \"Sex\": \"M\", \"ChestPainType\": \"ASY\", \"RestingBP\": 140, \"Cholesterol\": 264, \"FastingBS\": 1, \"RestingECG\": \"LVH\", \"MaxHR\": 119, \"ExerciseAngina\": \"Y\", \"Oldpeak\": 0.0, \"ST_Slope\": \"Flat\", \"HeartDisease\": 1, \"HD\": \"True\", \"Prediction\": \"True\"}, {\"Age\": 49, \"Sex\": \"M\", \"ChestPainType\": \"ASY\", \"RestingBP\": 128, \"Cholesterol\": 212, \"FastingBS\": 0, \"RestingECG\": \"Normal\", \"MaxHR\": 96, \"ExerciseAngina\": \"Y\", \"Oldpeak\": 0.0, \"ST_Slope\": \"Flat\", \"HeartDisease\": 1, \"HD\": \"True\", \"Prediction\": \"True\"}, {\"Age\": 47, \"Sex\": \"M\", \"ChestPainType\": \"ATA\", \"RestingBP\": 160, \"Cholesterol\": 263, \"FastingBS\": 0, \"RestingECG\": \"Normal\", \"MaxHR\": 174, \"ExerciseAngina\": \"N\", \"Oldpeak\": 0.0, \"ST_Slope\": \"Up\", \"HeartDisease\": 0, \"HD\": \"False\", \"Prediction\": \"False\"}, {\"Age\": 42, \"Sex\": \"M\", \"ChestPainType\": \"ATA\", \"RestingBP\": 120, \"Cholesterol\": 196, \"FastingBS\": 0, \"RestingECG\": \"Normal\", \"MaxHR\": 150, \"ExerciseAngina\": \"N\", \"Oldpeak\": 0.0, \"ST_Slope\": \"Up\", \"HeartDisease\": 0, \"HD\": \"False\", \"Prediction\": \"False\"}, {\"Age\": 52, \"Sex\": \"F\", \"ChestPainType\": \"ATA\", \"RestingBP\": 140, \"Cholesterol\": 225, \"FastingBS\": 0, \"RestingECG\": \"Normal\", \"MaxHR\": 140, \"ExerciseAngina\": \"N\", \"Oldpeak\": 0.0, \"ST_Slope\": \"Up\", \"HeartDisease\": 0, \"HD\": \"False\", \"Prediction\": \"False\"}, {\"Age\": 46, \"Sex\": \"M\", \"ChestPainType\": \"TA\", \"RestingBP\": 140, \"Cholesterol\": 272, \"FastingBS\": 1, \"RestingECG\": \"Normal\", \"MaxHR\": 175, \"ExerciseAngina\": \"N\", \"Oldpeak\": 2.0, \"ST_Slope\": \"Flat\", \"HeartDisease\": 1, \"HD\": \"True\", \"Prediction\": \"False\"}, {\"Age\": 50, \"Sex\": \"M\", \"ChestPainType\": \"ASY\", \"RestingBP\": 140, \"Cholesterol\": 231, \"FastingBS\": 0, \"RestingECG\": \"ST\", \"MaxHR\": 140, \"ExerciseAngina\": \"Y\", \"Oldpeak\": 5.0, \"ST_Slope\": \"Flat\", \"HeartDisease\": 1, \"HD\": \"True\", \"Prediction\": \"False\"}, {\"Age\": 48, \"Sex\": \"M\", \"ChestPainType\": \"ATA\", \"RestingBP\": 140, \"Cholesterol\": 238, \"FastingBS\": 0, \"RestingECG\": \"Normal\", \"MaxHR\": 118, \"ExerciseAngina\": \"N\", \"Oldpeak\": 0.0, \"ST_Slope\": \"Up\", \"HeartDisease\": 0, \"HD\": \"False\", \"Prediction\": \"True\"}, {\"Age\": 58, \"Sex\": \"M\", \"ChestPainType\": \"ASY\", \"RestingBP\": 135, \"Cholesterol\": 222, \"FastingBS\": 0, \"RestingECG\": \"Normal\", \"MaxHR\": 100, \"ExerciseAngina\": \"N\", \"Oldpeak\": 0.0, \"ST_Slope\": \"Up\", \"HeartDisease\": 0, \"HD\": \"False\", \"Prediction\": \"True\"}, {\"Age\": 58, \"Sex\": \"M\", \"ChestPainType\": \"NAP\", \"RestingBP\": 140, \"Cholesterol\": 179, \"FastingBS\": 0, \"RestingECG\": \"Normal\", \"MaxHR\": 160, \"ExerciseAngina\": \"N\", \"Oldpeak\": 0.0, \"ST_Slope\": \"Up\", \"HeartDisease\": 0, \"HD\": \"False\", \"Prediction\": \"False\"}, {\"Age\": 29, \"Sex\": \"M\", \"ChestPainType\": \"ATA\", \"RestingBP\": 120, \"Cholesterol\": 243, \"FastingBS\": 0, \"RestingECG\": \"Normal\", \"MaxHR\": 160, \"ExerciseAngina\": \"N\", \"Oldpeak\": 0.0, \"ST_Slope\": \"Up\", \"HeartDisease\": 0, \"HD\": \"False\", \"Prediction\": \"False\"}, {\"Age\": 40, \"Sex\": \"M\", \"ChestPainType\": \"NAP\", \"RestingBP\": 140, \"Cholesterol\": 235, \"FastingBS\": 0, \"RestingECG\": \"Normal\", \"MaxHR\": 188, \"ExerciseAngina\": \"N\", \"Oldpeak\": 0.0, \"ST_Slope\": \"Up\", \"HeartDisease\": 0, \"HD\": \"False\", \"Prediction\": \"False\"}, {\"Age\": 53, \"Sex\": \"M\", \"ChestPainType\": \"ATA\", \"RestingBP\": 140, \"Cholesterol\": 320, \"FastingBS\": 0, \"RestingECG\": \"Normal\", \"MaxHR\": 162, \"ExerciseAngina\": \"N\", \"Oldpeak\": 0.0, \"ST_Slope\": \"Up\", \"HeartDisease\": 0, \"HD\": \"False\", \"Prediction\": \"False\"}, {\"Age\": 49, \"Sex\": \"M\", \"ChestPainType\": \"NAP\", \"RestingBP\": 140, \"Cholesterol\": 187, \"FastingBS\": 0, \"RestingECG\": \"Normal\", \"MaxHR\": 172, \"ExerciseAngina\": \"N\", \"Oldpeak\": 0.0, \"ST_Slope\": \"Up\", \"HeartDisease\": 0, \"HD\": \"False\", \"Prediction\": \"False\"}, {\"Age\": 52, \"Sex\": \"M\", \"ChestPainType\": \"ASY\", \"RestingBP\": 140, \"Cholesterol\": 266, \"FastingBS\": 0, \"RestingECG\": \"Normal\", \"MaxHR\": 134, \"ExerciseAngina\": \"Y\", \"Oldpeak\": 2.0, \"ST_Slope\": \"Flat\", \"HeartDisease\": 1, \"HD\": \"True\", \"Prediction\": \"False\"}, {\"Age\": 43, \"Sex\": \"M\", \"ChestPainType\": \"ASY\", \"RestingBP\": 140, \"Cholesterol\": 288, \"FastingBS\": 0, \"RestingECG\": \"Normal\", \"MaxHR\": 135, \"ExerciseAngina\": \"Y\", \"Oldpeak\": 2.0, \"ST_Slope\": \"Flat\", \"HeartDisease\": 1, \"HD\": \"True\", \"Prediction\": \"False\"}, {\"Age\": 54, \"Sex\": \"M\", \"ChestPainType\": \"ASY\", \"RestingBP\": 140, \"Cholesterol\": 216, \"FastingBS\": 0, \"RestingECG\": \"Normal\", \"MaxHR\": 105, \"ExerciseAngina\": \"N\", \"Oldpeak\": 1.5, \"ST_Slope\": \"Flat\", \"HeartDisease\": 1, \"HD\": \"True\", \"Prediction\": \"False\"}, {\"Age\": 59, \"Sex\": \"M\", \"ChestPainType\": \"ATA\", \"RestingBP\": 140, \"Cholesterol\": 287, \"FastingBS\": 0, \"RestingECG\": \"Normal\", \"MaxHR\": 150, \"ExerciseAngina\": \"N\", \"Oldpeak\": 0.0, \"ST_Slope\": \"Up\", \"HeartDisease\": 0, \"HD\": \"False\", \"Prediction\": \"False\"}, {\"Age\": 37, \"Sex\": \"M\", \"ChestPainType\": \"NAP\", \"RestingBP\": 130, \"Cholesterol\": 194, \"FastingBS\": 0, \"RestingECG\": \"Normal\", \"MaxHR\": 150, \"ExerciseAngina\": \"N\", \"Oldpeak\": 0.0, \"ST_Slope\": \"Up\", \"HeartDisease\": 0, \"HD\": \"False\", \"Prediction\": \"False\"}, {\"Age\": 46, \"Sex\": \"F\", \"ChestPainType\": \"ASY\", \"RestingBP\": 130, \"Cholesterol\": 238, \"FastingBS\": 0, \"RestingECG\": \"Normal\", \"MaxHR\": 90, \"ExerciseAngina\": \"N\", \"Oldpeak\": 0.0, \"ST_Slope\": \"Up\", \"HeartDisease\": 0, \"HD\": \"False\", \"Prediction\": \"False\"}, {\"Age\": 52, \"Sex\": \"M\", \"ChestPainType\": \"ASY\", \"RestingBP\": 130, \"Cholesterol\": 225, \"FastingBS\": 0, \"RestingECG\": \"Normal\", \"MaxHR\": 120, \"ExerciseAngina\": \"Y\", \"Oldpeak\": 2.0, \"ST_Slope\": \"Flat\", \"HeartDisease\": 1, \"HD\": \"True\", \"Prediction\": \"True\"}, {\"Age\": 51, \"Sex\": \"M\", \"ChestPainType\": \"ATA\", \"RestingBP\": 130, \"Cholesterol\": 224, \"FastingBS\": 0, \"RestingECG\": \"Normal\", \"MaxHR\": 150, \"ExerciseAngina\": \"N\", \"Oldpeak\": 0.0, \"ST_Slope\": \"Up\", \"HeartDisease\": 0, \"HD\": \"False\", \"Prediction\": \"False\"}, {\"Age\": 52, \"Sex\": \"M\", \"ChestPainType\": \"ASY\", \"RestingBP\": 140, \"Cholesterol\": 404, \"FastingBS\": 0, \"RestingECG\": \"Normal\", \"MaxHR\": 124, \"ExerciseAngina\": \"Y\", \"Oldpeak\": 2.0, \"ST_Slope\": \"Flat\", \"HeartDisease\": 1, \"HD\": \"True\", \"Prediction\": \"True\"}, {\"Age\": 46, \"Sex\": \"M\", \"ChestPainType\": \"ASY\", \"RestingBP\": 110, \"Cholesterol\": 238, \"FastingBS\": 0, \"RestingECG\": \"ST\", \"MaxHR\": 140, \"ExerciseAngina\": \"Y\", \"Oldpeak\": 1.0, \"ST_Slope\": \"Flat\", \"HeartDisease\": 0, \"HD\": \"False\", \"Prediction\": \"False\"}, {\"Age\": 54, \"Sex\": \"F\", \"ChestPainType\": \"ATA\", \"RestingBP\": 160, \"Cholesterol\": 312, \"FastingBS\": 0, \"RestingECG\": \"Normal\", \"MaxHR\": 130, \"ExerciseAngina\": \"N\", \"Oldpeak\": 0.0, \"ST_Slope\": \"Up\", \"HeartDisease\": 0, \"HD\": \"False\", \"Prediction\": \"True\"}, {\"Age\": 58, \"Sex\": \"M\", \"ChestPainType\": \"NAP\", \"RestingBP\": 160, \"Cholesterol\": 211, \"FastingBS\": 1, \"RestingECG\": \"ST\", \"MaxHR\": 92, \"ExerciseAngina\": \"N\", \"Oldpeak\": 0.0, \"ST_Slope\": \"Flat\", \"HeartDisease\": 1, \"HD\": \"True\", \"Prediction\": \"True\"}, {\"Age\": 58, \"Sex\": \"M\", \"ChestPainType\": \"ATA\", \"RestingBP\": 130, \"Cholesterol\": 251, \"FastingBS\": 0, \"RestingECG\": \"Normal\", \"MaxHR\": 110, \"ExerciseAngina\": \"N\", \"Oldpeak\": 0.0, \"ST_Slope\": \"Up\", \"HeartDisease\": 0, \"HD\": \"False\", \"Prediction\": \"True\"}, {\"Age\": 41, \"Sex\": \"M\", \"ChestPainType\": \"ASY\", \"RestingBP\": 120, \"Cholesterol\": 237, \"FastingBS\": 1, \"RestingECG\": \"Normal\", \"MaxHR\": 138, \"ExerciseAngina\": \"Y\", \"Oldpeak\": 1.0, \"ST_Slope\": \"Flat\", \"HeartDisease\": 1, \"HD\": \"True\", \"Prediction\": \"False\"}, {\"Age\": 50, \"Sex\": \"F\", \"ChestPainType\": \"ASY\", \"RestingBP\": 120, \"Cholesterol\": 328, \"FastingBS\": 0, \"RestingECG\": \"Normal\", \"MaxHR\": 110, \"ExerciseAngina\": \"Y\", \"Oldpeak\": 1.0, \"ST_Slope\": \"Flat\", \"HeartDisease\": 0, \"HD\": \"False\", \"Prediction\": \"True\"}, {\"Age\": 53, \"Sex\": \"M\", \"ChestPainType\": \"ASY\", \"RestingBP\": 180, \"Cholesterol\": 285, \"FastingBS\": 0, \"RestingECG\": \"ST\", \"MaxHR\": 120, \"ExerciseAngina\": \"Y\", \"Oldpeak\": 1.5, \"ST_Slope\": \"Flat\", \"HeartDisease\": 1, \"HD\": \"True\", \"Prediction\": \"True\"}, {\"Age\": 46, \"Sex\": \"M\", \"ChestPainType\": \"ASY\", \"RestingBP\": 180, \"Cholesterol\": 280, \"FastingBS\": 0, \"RestingECG\": \"ST\", \"MaxHR\": 120, \"ExerciseAngina\": \"N\", \"Oldpeak\": 0.0, \"ST_Slope\": \"Up\", \"HeartDisease\": 0, \"HD\": \"False\", \"Prediction\": \"True\"}, {\"Age\": 50, \"Sex\": \"M\", \"ChestPainType\": \"ATA\", \"RestingBP\": 170, \"Cholesterol\": 209, \"FastingBS\": 0, \"RestingECG\": \"ST\", \"MaxHR\": 116, \"ExerciseAngina\": \"N\", \"Oldpeak\": 0.0, \"ST_Slope\": \"Up\", \"HeartDisease\": 0, \"HD\": \"False\", \"Prediction\": \"True\"}, {\"Age\": 48, \"Sex\": \"M\", \"ChestPainType\": \"ATA\", \"RestingBP\": 130, \"Cholesterol\": 245, \"FastingBS\": 0, \"RestingECG\": \"Normal\", \"MaxHR\": 160, \"ExerciseAngina\": \"N\", \"Oldpeak\": 0.0, \"ST_Slope\": \"Up\", \"HeartDisease\": 0, \"HD\": \"False\", \"Prediction\": \"False\"}, {\"Age\": 45, \"Sex\": \"M\", \"ChestPainType\": \"NAP\", \"RestingBP\": 135, \"Cholesterol\": 192, \"FastingBS\": 0, \"RestingECG\": \"Normal\", \"MaxHR\": 110, \"ExerciseAngina\": \"N\", \"Oldpeak\": 0.0, \"ST_Slope\": \"Up\", \"HeartDisease\": 0, \"HD\": \"False\", \"Prediction\": \"False\"}, {\"Age\": 41, \"Sex\": \"F\", \"ChestPainType\": \"ATA\", \"RestingBP\": 125, \"Cholesterol\": 184, \"FastingBS\": 0, \"RestingECG\": \"Normal\", \"MaxHR\": 180, \"ExerciseAngina\": \"N\", \"Oldpeak\": 0.0, \"ST_Slope\": \"Up\", \"HeartDisease\": 0, \"HD\": \"False\", \"Prediction\": \"False\"}, {\"Age\": 62, \"Sex\": \"F\", \"ChestPainType\": \"TA\", \"RestingBP\": 160, \"Cholesterol\": 193, \"FastingBS\": 0, \"RestingECG\": \"Normal\", \"MaxHR\": 116, \"ExerciseAngina\": \"N\", \"Oldpeak\": 0.0, \"ST_Slope\": \"Up\", \"HeartDisease\": 0, \"HD\": \"False\", \"Prediction\": \"True\"}, {\"Age\": 49, \"Sex\": \"M\", \"ChestPainType\": \"ASY\", \"RestingBP\": 120, \"Cholesterol\": 297, \"FastingBS\": 0, \"RestingECG\": \"Normal\", \"MaxHR\": 132, \"ExerciseAngina\": \"N\", \"Oldpeak\": 1.0, \"ST_Slope\": \"Flat\", \"HeartDisease\": 0, \"HD\": \"False\", \"Prediction\": \"False\"}, {\"Age\": 42, \"Sex\": \"M\", \"ChestPainType\": \"ATA\", \"RestingBP\": 150, \"Cholesterol\": 268, \"FastingBS\": 0, \"RestingECG\": \"Normal\", \"MaxHR\": 136, \"ExerciseAngina\": \"N\", \"Oldpeak\": 0.0, \"ST_Slope\": \"Up\", \"HeartDisease\": 0, \"HD\": \"False\", \"Prediction\": \"False\"}, {\"Age\": 53, \"Sex\": \"M\", \"ChestPainType\": \"ASY\", \"RestingBP\": 120, \"Cholesterol\": 246, \"FastingBS\": 0, \"RestingECG\": \"Normal\", \"MaxHR\": 116, \"ExerciseAngina\": \"Y\", \"Oldpeak\": 0.0, \"ST_Slope\": \"Flat\", \"HeartDisease\": 1, \"HD\": \"True\", \"Prediction\": \"True\"}, {\"Age\": 57, \"Sex\": \"F\", \"ChestPainType\": \"TA\", \"RestingBP\": 130, \"Cholesterol\": 308, \"FastingBS\": 0, \"RestingECG\": \"Normal\", \"MaxHR\": 98, \"ExerciseAngina\": \"N\", \"Oldpeak\": 1.0, \"ST_Slope\": \"Flat\", \"HeartDisease\": 0, \"HD\": \"False\", \"Prediction\": \"True\"}, {\"Age\": 47, \"Sex\": \"M\", \"ChestPainType\": \"TA\", \"RestingBP\": 110, \"Cholesterol\": 249, \"FastingBS\": 0, \"RestingECG\": \"Normal\", \"MaxHR\": 150, \"ExerciseAngina\": \"N\", \"Oldpeak\": 0.0, \"ST_Slope\": \"Up\", \"HeartDisease\": 0, \"HD\": \"False\", \"Prediction\": \"False\"}, {\"Age\": 46, \"Sex\": \"M\", \"ChestPainType\": \"NAP\", \"RestingBP\": 120, \"Cholesterol\": 230, \"FastingBS\": 0, \"RestingECG\": \"Normal\", \"MaxHR\": 150, \"ExerciseAngina\": \"N\", \"Oldpeak\": 0.0, \"ST_Slope\": \"Up\", \"HeartDisease\": 0, \"HD\": \"False\", \"Prediction\": \"False\"}, {\"Age\": 42, \"Sex\": \"M\", \"ChestPainType\": \"NAP\", \"RestingBP\": 160, \"Cholesterol\": 147, \"FastingBS\": 0, \"RestingECG\": \"Normal\", \"MaxHR\": 146, \"ExerciseAngina\": \"N\", \"Oldpeak\": 0.0, \"ST_Slope\": \"Up\", \"HeartDisease\": 0, \"HD\": \"False\", \"Prediction\": \"False\"}, {\"Age\": 31, \"Sex\": \"F\", \"ChestPainType\": \"ATA\", \"RestingBP\": 100, \"Cholesterol\": 219, \"FastingBS\": 0, \"RestingECG\": \"ST\", \"MaxHR\": 150, \"ExerciseAngina\": \"N\", \"Oldpeak\": 0.0, \"ST_Slope\": \"Up\", \"HeartDisease\": 0, \"HD\": \"False\", \"Prediction\": \"False\"}, {\"Age\": 56, \"Sex\": \"M\", \"ChestPainType\": \"ATA\", \"RestingBP\": 130, \"Cholesterol\": 184, \"FastingBS\": 0, \"RestingECG\": \"Normal\", \"MaxHR\": 100, \"ExerciseAngina\": \"N\", \"Oldpeak\": 0.0, \"ST_Slope\": \"Up\", \"HeartDisease\": 0, \"HD\": \"False\", \"Prediction\": \"False\"}, {\"Age\": 50, \"Sex\": \"M\", \"ChestPainType\": \"ASY\", \"RestingBP\": 150, \"Cholesterol\": 215, \"FastingBS\": 0, \"RestingECG\": \"Normal\", \"MaxHR\": 140, \"ExerciseAngina\": \"Y\", \"Oldpeak\": 0.0, \"ST_Slope\": \"Up\", \"HeartDisease\": 0, \"HD\": \"False\", \"Prediction\": \"False\"}, {\"Age\": 35, \"Sex\": \"M\", \"ChestPainType\": \"ATA\", \"RestingBP\": 120, \"Cholesterol\": 308, \"FastingBS\": 0, \"RestingECG\": \"LVH\", \"MaxHR\": 180, \"ExerciseAngina\": \"N\", \"Oldpeak\": 0.0, \"ST_Slope\": \"Up\", \"HeartDisease\": 0, \"HD\": \"False\", \"Prediction\": \"False\"}, {\"Age\": 35, \"Sex\": \"M\", \"ChestPainType\": \"ATA\", \"RestingBP\": 110, \"Cholesterol\": 257, \"FastingBS\": 0, \"RestingECG\": \"Normal\", \"MaxHR\": 140, \"ExerciseAngina\": \"N\", \"Oldpeak\": 0.0, \"ST_Slope\": \"Flat\", \"HeartDisease\": 1, \"HD\": \"True\", \"Prediction\": \"False\"}, {\"Age\": 28, \"Sex\": \"M\", \"ChestPainType\": \"ATA\", \"RestingBP\": 130, \"Cholesterol\": 132, \"FastingBS\": 0, \"RestingECG\": \"LVH\", \"MaxHR\": 185, \"ExerciseAngina\": \"N\", \"Oldpeak\": 0.0, \"ST_Slope\": \"Up\", \"HeartDisease\": 0, \"HD\": \"False\", \"Prediction\": \"False\"}, {\"Age\": 54, \"Sex\": \"M\", \"ChestPainType\": \"ASY\", \"RestingBP\": 125, \"Cholesterol\": 216, \"FastingBS\": 0, \"RestingECG\": \"Normal\", \"MaxHR\": 140, \"ExerciseAngina\": \"N\", \"Oldpeak\": 0.0, \"ST_Slope\": \"Flat\", \"HeartDisease\": 1, \"HD\": \"True\", \"Prediction\": \"False\"}, {\"Age\": 48, \"Sex\": \"M\", \"ChestPainType\": \"ASY\", \"RestingBP\": 106, \"Cholesterol\": 263, \"FastingBS\": 1, \"RestingECG\": \"Normal\", \"MaxHR\": 110, \"ExerciseAngina\": \"N\", \"Oldpeak\": 0.0, \"ST_Slope\": \"Flat\", \"HeartDisease\": 1, \"HD\": \"True\", \"Prediction\": \"False\"}, {\"Age\": 50, \"Sex\": \"F\", \"ChestPainType\": \"NAP\", \"RestingBP\": 140, \"Cholesterol\": 288, \"FastingBS\": 0, \"RestingECG\": \"Normal\", \"MaxHR\": 140, \"ExerciseAngina\": \"Y\", \"Oldpeak\": 0.0, \"ST_Slope\": \"Flat\", \"HeartDisease\": 1, \"HD\": \"True\", \"Prediction\": \"False\"}, {\"Age\": 56, \"Sex\": \"M\", \"ChestPainType\": \"NAP\", \"RestingBP\": 130, \"Cholesterol\": 276, \"FastingBS\": 0, \"RestingECG\": \"Normal\", \"MaxHR\": 128, \"ExerciseAngina\": \"Y\", \"Oldpeak\": 1.0, \"ST_Slope\": \"Up\", \"HeartDisease\": 0, \"HD\": \"False\", \"Prediction\": \"False\"}, {\"Age\": 56, \"Sex\": \"F\", \"ChestPainType\": \"NAP\", \"RestingBP\": 130, \"Cholesterol\": 219, \"FastingBS\": 0, \"RestingECG\": \"ST\", \"MaxHR\": 164, \"ExerciseAngina\": \"N\", \"Oldpeak\": 0.0, \"ST_Slope\": \"Up\", \"HeartDisease\": 0, \"HD\": \"False\", \"Prediction\": \"False\"}, {\"Age\": 47, \"Sex\": \"M\", \"ChestPainType\": \"ASY\", \"RestingBP\": 150, \"Cholesterol\": 226, \"FastingBS\": 0, \"RestingECG\": \"Normal\", \"MaxHR\": 98, \"ExerciseAngina\": \"Y\", \"Oldpeak\": 1.5, \"ST_Slope\": \"Flat\", \"HeartDisease\": 1, \"HD\": \"True\", \"Prediction\": \"True\"}, {\"Age\": 30, \"Sex\": \"F\", \"ChestPainType\": \"TA\", \"RestingBP\": 170, \"Cholesterol\": 237, \"FastingBS\": 0, \"RestingECG\": \"ST\", \"MaxHR\": 170, \"ExerciseAngina\": \"N\", \"Oldpeak\": 0.0, \"ST_Slope\": \"Up\", \"HeartDisease\": 0, \"HD\": \"False\", \"Prediction\": \"False\"}, {\"Age\": 39, \"Sex\": \"M\", \"ChestPainType\": \"ASY\", \"RestingBP\": 110, \"Cholesterol\": 280, \"FastingBS\": 0, \"RestingECG\": \"Normal\", \"MaxHR\": 150, \"ExerciseAngina\": \"N\", \"Oldpeak\": 0.0, \"ST_Slope\": \"Flat\", \"HeartDisease\": 1, \"HD\": \"True\", \"Prediction\": \"False\"}, {\"Age\": 54, \"Sex\": \"M\", \"ChestPainType\": \"NAP\", \"RestingBP\": 120, \"Cholesterol\": 217, \"FastingBS\": 0, \"RestingECG\": \"Normal\", \"MaxHR\": 137, \"ExerciseAngina\": \"N\", \"Oldpeak\": 0.0, \"ST_Slope\": \"Up\", \"HeartDisease\": 0, \"HD\": \"False\", \"Prediction\": \"False\"}, {\"Age\": 55, \"Sex\": \"M\", \"ChestPainType\": \"ATA\", \"RestingBP\": 140, \"Cholesterol\": 196, \"FastingBS\": 0, \"RestingECG\": \"Normal\", \"MaxHR\": 150, \"ExerciseAngina\": \"N\", \"Oldpeak\": 0.0, \"ST_Slope\": \"Up\", \"HeartDisease\": 0, \"HD\": \"False\", \"Prediction\": \"False\"}, {\"Age\": 29, \"Sex\": \"M\", \"ChestPainType\": \"ATA\", \"RestingBP\": 140, \"Cholesterol\": 263, \"FastingBS\": 0, \"RestingECG\": \"Normal\", \"MaxHR\": 170, \"ExerciseAngina\": \"N\", \"Oldpeak\": 0.0, \"ST_Slope\": \"Up\", \"HeartDisease\": 0, \"HD\": \"False\", \"Prediction\": \"False\"}, {\"Age\": 46, \"Sex\": \"M\", \"ChestPainType\": \"ASY\", \"RestingBP\": 130, \"Cholesterol\": 222, \"FastingBS\": 0, \"RestingECG\": \"Normal\", \"MaxHR\": 112, \"ExerciseAngina\": \"N\", \"Oldpeak\": 0.0, \"ST_Slope\": \"Flat\", \"HeartDisease\": 1, \"HD\": \"True\", \"Prediction\": \"False\"}, {\"Age\": 51, \"Sex\": \"F\", \"ChestPainType\": \"ASY\", \"RestingBP\": 160, \"Cholesterol\": 303, \"FastingBS\": 0, \"RestingECG\": \"Normal\", \"MaxHR\": 150, \"ExerciseAngina\": \"Y\", \"Oldpeak\": 1.0, \"ST_Slope\": \"Flat\", \"HeartDisease\": 1, \"HD\": \"True\", \"Prediction\": \"True\"}, {\"Age\": 48, \"Sex\": \"F\", \"ChestPainType\": \"NAP\", \"RestingBP\": 120, \"Cholesterol\": 195, \"FastingBS\": 0, \"RestingECG\": \"Normal\", \"MaxHR\": 125, \"ExerciseAngina\": \"N\", \"Oldpeak\": 0.0, \"ST_Slope\": \"Up\", \"HeartDisease\": 0, \"HD\": \"False\", \"Prediction\": \"False\"}, {\"Age\": 33, \"Sex\": \"M\", \"ChestPainType\": \"NAP\", \"RestingBP\": 120, \"Cholesterol\": 298, \"FastingBS\": 0, \"RestingECG\": \"Normal\", \"MaxHR\": 185, \"ExerciseAngina\": \"N\", \"Oldpeak\": 0.0, \"ST_Slope\": \"Up\", \"HeartDisease\": 0, \"HD\": \"False\", \"Prediction\": \"False\"}, {\"Age\": 55, \"Sex\": \"M\", \"ChestPainType\": \"ATA\", \"RestingBP\": 120, \"Cholesterol\": 256, \"FastingBS\": 1, \"RestingECG\": \"Normal\", \"MaxHR\": 137, \"ExerciseAngina\": \"N\", \"Oldpeak\": 0.0, \"ST_Slope\": \"Up\", \"HeartDisease\": 0, \"HD\": \"False\", \"Prediction\": \"True\"}, {\"Age\": 50, \"Sex\": \"M\", \"ChestPainType\": \"ASY\", \"RestingBP\": 145, \"Cholesterol\": 264, \"FastingBS\": 0, \"RestingECG\": \"Normal\", \"MaxHR\": 150, \"ExerciseAngina\": \"N\", \"Oldpeak\": 0.0, \"ST_Slope\": \"Flat\", \"HeartDisease\": 1, \"HD\": \"True\", \"Prediction\": \"False\"}, {\"Age\": 53, \"Sex\": \"M\", \"ChestPainType\": \"NAP\", \"RestingBP\": 120, \"Cholesterol\": 195, \"FastingBS\": 0, \"RestingECG\": \"Normal\", \"MaxHR\": 140, \"ExerciseAngina\": \"N\", \"Oldpeak\": 0.0, \"ST_Slope\": \"Up\", \"HeartDisease\": 0, \"HD\": \"False\", \"Prediction\": \"False\"}, {\"Age\": 38, \"Sex\": \"M\", \"ChestPainType\": \"ASY\", \"RestingBP\": 92, \"Cholesterol\": 117, \"FastingBS\": 0, \"RestingECG\": \"Normal\", \"MaxHR\": 134, \"ExerciseAngina\": \"Y\", \"Oldpeak\": 2.5, \"ST_Slope\": \"Flat\", \"HeartDisease\": 1, \"HD\": \"True\", \"Prediction\": \"True\"}, {\"Age\": 41, \"Sex\": \"M\", \"ChestPainType\": \"ATA\", \"RestingBP\": 120, \"Cholesterol\": 295, \"FastingBS\": 0, \"RestingECG\": \"Normal\", \"MaxHR\": 170, \"ExerciseAngina\": \"N\", \"Oldpeak\": 0.0, \"ST_Slope\": \"Up\", \"HeartDisease\": 0, \"HD\": \"False\", \"Prediction\": \"False\"}, {\"Age\": 37, \"Sex\": \"F\", \"ChestPainType\": \"ASY\", \"RestingBP\": 130, \"Cholesterol\": 173, \"FastingBS\": 0, \"RestingECG\": \"ST\", \"MaxHR\": 184, \"ExerciseAngina\": \"N\", \"Oldpeak\": 0.0, \"ST_Slope\": \"Up\", \"HeartDisease\": 0, \"HD\": \"False\", \"Prediction\": \"False\"}, {\"Age\": 37, \"Sex\": \"M\", \"ChestPainType\": \"ASY\", \"RestingBP\": 130, \"Cholesterol\": 315, \"FastingBS\": 0, \"RestingECG\": \"Normal\", \"MaxHR\": 158, \"ExerciseAngina\": \"N\", \"Oldpeak\": 0.0, \"ST_Slope\": \"Up\", \"HeartDisease\": 0, \"HD\": \"False\", \"Prediction\": \"False\"}, {\"Age\": 40, \"Sex\": \"M\", \"ChestPainType\": \"NAP\", \"RestingBP\": 130, \"Cholesterol\": 281, \"FastingBS\": 0, \"RestingECG\": \"Normal\", \"MaxHR\": 167, \"ExerciseAngina\": \"N\", \"Oldpeak\": 0.0, \"ST_Slope\": \"Up\", \"HeartDisease\": 0, \"HD\": \"False\", \"Prediction\": \"False\"}, {\"Age\": 38, \"Sex\": \"F\", \"ChestPainType\": \"ATA\", \"RestingBP\": 120, \"Cholesterol\": 275, \"FastingBS\": 0, \"RestingECG\": \"Normal\", \"MaxHR\": 129, \"ExerciseAngina\": \"N\", \"Oldpeak\": 0.0, \"ST_Slope\": \"Up\", \"HeartDisease\": 0, \"HD\": \"False\", \"Prediction\": \"False\"}, {\"Age\": 41, \"Sex\": \"M\", \"ChestPainType\": \"ASY\", \"RestingBP\": 112, \"Cholesterol\": 250, \"FastingBS\": 0, \"RestingECG\": \"Normal\", \"MaxHR\": 142, \"ExerciseAngina\": \"N\", \"Oldpeak\": 0.0, \"ST_Slope\": \"Up\", \"HeartDisease\": 0, \"HD\": \"False\", \"Prediction\": \"False\"}, {\"Age\": 54, \"Sex\": \"F\", \"ChestPainType\": \"ATA\", \"RestingBP\": 140, \"Cholesterol\": 309, \"FastingBS\": 0, \"RestingECG\": \"ST\", \"MaxHR\": 140, \"ExerciseAngina\": \"N\", \"Oldpeak\": 0.0, \"ST_Slope\": \"Up\", \"HeartDisease\": 0, \"HD\": \"False\", \"Prediction\": \"False\"}, {\"Age\": 39, \"Sex\": \"M\", \"ChestPainType\": \"ATA\", \"RestingBP\": 120, \"Cholesterol\": 200, \"FastingBS\": 0, \"RestingECG\": \"Normal\", \"MaxHR\": 160, \"ExerciseAngina\": \"Y\", \"Oldpeak\": 1.0, \"ST_Slope\": \"Flat\", \"HeartDisease\": 0, \"HD\": \"False\", \"Prediction\": \"False\"}, {\"Age\": 41, \"Sex\": \"M\", \"ChestPainType\": \"ASY\", \"RestingBP\": 120, \"Cholesterol\": 336, \"FastingBS\": 0, \"RestingECG\": \"Normal\", \"MaxHR\": 118, \"ExerciseAngina\": \"Y\", \"Oldpeak\": 3.0, \"ST_Slope\": \"Flat\", \"HeartDisease\": 1, \"HD\": \"True\", \"Prediction\": \"True\"}, {\"Age\": 55, \"Sex\": \"M\", \"ChestPainType\": \"TA\", \"RestingBP\": 140, \"Cholesterol\": 295, \"FastingBS\": 0, \"RestingECG\": \"Normal\", \"MaxHR\": 136, \"ExerciseAngina\": \"N\", \"Oldpeak\": 0.0, \"ST_Slope\": \"Flat\", \"HeartDisease\": 1, \"HD\": \"True\", \"Prediction\": \"False\"}, {\"Age\": 48, \"Sex\": \"M\", \"ChestPainType\": \"ASY\", \"RestingBP\": 160, \"Cholesterol\": 355, \"FastingBS\": 0, \"RestingECG\": \"Normal\", \"MaxHR\": 99, \"ExerciseAngina\": \"Y\", \"Oldpeak\": 2.0, \"ST_Slope\": \"Flat\", \"HeartDisease\": 1, \"HD\": \"True\", \"Prediction\": \"True\"}, {\"Age\": 48, \"Sex\": \"M\", \"ChestPainType\": \"ASY\", \"RestingBP\": 160, \"Cholesterol\": 193, \"FastingBS\": 0, \"RestingECG\": \"Normal\", \"MaxHR\": 102, \"ExerciseAngina\": \"Y\", \"Oldpeak\": 3.0, \"ST_Slope\": \"Flat\", \"HeartDisease\": 1, \"HD\": \"True\", \"Prediction\": \"True\"}, {\"Age\": 55, \"Sex\": \"M\", \"ChestPainType\": \"ATA\", \"RestingBP\": 145, \"Cholesterol\": 326, \"FastingBS\": 0, \"RestingECG\": \"Normal\", \"MaxHR\": 155, \"ExerciseAngina\": \"N\", \"Oldpeak\": 0.0, \"ST_Slope\": \"Up\", \"HeartDisease\": 0, \"HD\": \"False\", \"Prediction\": \"True\"}, {\"Age\": 54, \"Sex\": \"M\", \"ChestPainType\": \"ASY\", \"RestingBP\": 200, \"Cholesterol\": 198, \"FastingBS\": 0, \"RestingECG\": \"Normal\", \"MaxHR\": 142, \"ExerciseAngina\": \"Y\", \"Oldpeak\": 2.0, \"ST_Slope\": \"Flat\", \"HeartDisease\": 1, \"HD\": \"True\", \"Prediction\": \"True\"}, {\"Age\": 55, \"Sex\": \"M\", \"ChestPainType\": \"ATA\", \"RestingBP\": 160, \"Cholesterol\": 292, \"FastingBS\": 1, \"RestingECG\": \"Normal\", \"MaxHR\": 143, \"ExerciseAngina\": \"Y\", \"Oldpeak\": 2.0, \"ST_Slope\": \"Flat\", \"HeartDisease\": 1, \"HD\": \"True\", \"Prediction\": \"True\"}, {\"Age\": 43, \"Sex\": \"F\", \"ChestPainType\": \"ATA\", \"RestingBP\": 120, \"Cholesterol\": 266, \"FastingBS\": 0, \"RestingECG\": \"Normal\", \"MaxHR\": 118, \"ExerciseAngina\": \"N\", \"Oldpeak\": 0.0, \"ST_Slope\": \"Up\", \"HeartDisease\": 0, \"HD\": \"False\", \"Prediction\": \"False\"}, {\"Age\": 48, \"Sex\": \"M\", \"ChestPainType\": \"ASY\", \"RestingBP\": 160, \"Cholesterol\": 268, \"FastingBS\": 0, \"RestingECG\": \"Normal\", \"MaxHR\": 103, \"ExerciseAngina\": \"Y\", \"Oldpeak\": 1.0, \"ST_Slope\": \"Flat\", \"HeartDisease\": 1, \"HD\": \"True\", \"Prediction\": \"True\"}, {\"Age\": 54, \"Sex\": \"M\", \"ChestPainType\": \"TA\", \"RestingBP\": 120, \"Cholesterol\": 171, \"FastingBS\": 0, \"RestingECG\": \"Normal\", \"MaxHR\": 137, \"ExerciseAngina\": \"N\", \"Oldpeak\": 2.0, \"ST_Slope\": \"Up\", \"HeartDisease\": 0, \"HD\": \"False\", \"Prediction\": \"False\"}, {\"Age\": 54, \"Sex\": \"M\", \"ChestPainType\": \"NAP\", \"RestingBP\": 120, \"Cholesterol\": 237, \"FastingBS\": 0, \"RestingECG\": \"Normal\", \"MaxHR\": 150, \"ExerciseAngina\": \"Y\", \"Oldpeak\": 1.5, \"ST_Slope\": \"Flat\", \"HeartDisease\": 1, \"HD\": \"True\", \"Prediction\": \"False\"}, {\"Age\": 48, \"Sex\": \"M\", \"ChestPainType\": \"ASY\", \"RestingBP\": 122, \"Cholesterol\": 275, \"FastingBS\": 1, \"RestingECG\": \"ST\", \"MaxHR\": 150, \"ExerciseAngina\": \"Y\", \"Oldpeak\": 2.0, \"ST_Slope\": \"Down\", \"HeartDisease\": 1, \"HD\": \"True\", \"Prediction\": \"False\"}, {\"Age\": 45, \"Sex\": \"M\", \"ChestPainType\": \"ASY\", \"RestingBP\": 130, \"Cholesterol\": 219, \"FastingBS\": 0, \"RestingECG\": \"ST\", \"MaxHR\": 130, \"ExerciseAngina\": \"Y\", \"Oldpeak\": 1.0, \"ST_Slope\": \"Flat\", \"HeartDisease\": 1, \"HD\": \"True\", \"Prediction\": \"False\"}, {\"Age\": 49, \"Sex\": \"M\", \"ChestPainType\": \"ASY\", \"RestingBP\": 130, \"Cholesterol\": 341, \"FastingBS\": 0, \"RestingECG\": \"Normal\", \"MaxHR\": 120, \"ExerciseAngina\": \"Y\", \"Oldpeak\": 1.0, \"ST_Slope\": \"Flat\", \"HeartDisease\": 1, \"HD\": \"True\", \"Prediction\": \"True\"}, {\"Age\": 44, \"Sex\": \"M\", \"ChestPainType\": \"ASY\", \"RestingBP\": 135, \"Cholesterol\": 491, \"FastingBS\": 0, \"RestingECG\": \"Normal\", \"MaxHR\": 135, \"ExerciseAngina\": \"N\", \"Oldpeak\": 0.0, \"ST_Slope\": \"Flat\", \"HeartDisease\": 1, \"HD\": \"True\", \"Prediction\": \"True\"}, {\"Age\": 48, \"Sex\": \"M\", \"ChestPainType\": \"ASY\", \"RestingBP\": 120, \"Cholesterol\": 260, \"FastingBS\": 0, \"RestingECG\": \"Normal\", \"MaxHR\": 115, \"ExerciseAngina\": \"N\", \"Oldpeak\": 2.0, \"ST_Slope\": \"Flat\", \"HeartDisease\": 1, \"HD\": \"True\", \"Prediction\": \"True\"}, {\"Age\": 61, \"Sex\": \"M\", \"ChestPainType\": \"ASY\", \"RestingBP\": 125, \"Cholesterol\": 292, \"FastingBS\": 0, \"RestingECG\": \"ST\", \"MaxHR\": 115, \"ExerciseAngina\": \"Y\", \"Oldpeak\": 0.0, \"ST_Slope\": \"Up\", \"HeartDisease\": 0, \"HD\": \"False\", \"Prediction\": \"True\"}, {\"Age\": 62, \"Sex\": \"M\", \"ChestPainType\": \"ATA\", \"RestingBP\": 140, \"Cholesterol\": 271, \"FastingBS\": 0, \"RestingECG\": \"Normal\", \"MaxHR\": 152, \"ExerciseAngina\": \"N\", \"Oldpeak\": 1.0, \"ST_Slope\": \"Up\", \"HeartDisease\": 0, \"HD\": \"False\", \"Prediction\": \"True\"}, {\"Age\": 55, \"Sex\": \"M\", \"ChestPainType\": \"ASY\", \"RestingBP\": 145, \"Cholesterol\": 248, \"FastingBS\": 0, \"RestingECG\": \"Normal\", \"MaxHR\": 96, \"ExerciseAngina\": \"Y\", \"Oldpeak\": 2.0, \"ST_Slope\": \"Flat\", \"HeartDisease\": 1, \"HD\": \"True\", \"Prediction\": \"True\"}, {\"Age\": 53, \"Sex\": \"F\", \"ChestPainType\": \"NAP\", \"RestingBP\": 120, \"Cholesterol\": 274, \"FastingBS\": 0, \"RestingECG\": \"Normal\", \"MaxHR\": 130, \"ExerciseAngina\": \"N\", \"Oldpeak\": 0.0, \"ST_Slope\": \"Up\", \"HeartDisease\": 0, \"HD\": \"False\", \"Prediction\": \"False\"}, {\"Age\": 55, \"Sex\": \"F\", \"ChestPainType\": \"ATA\", \"RestingBP\": 130, \"Cholesterol\": 394, \"FastingBS\": 0, \"RestingECG\": \"LVH\", \"MaxHR\": 150, \"ExerciseAngina\": \"N\", \"Oldpeak\": 0.0, \"ST_Slope\": \"Up\", \"HeartDisease\": 0, \"HD\": \"False\", \"Prediction\": \"False\"}, {\"Age\": 36, \"Sex\": \"M\", \"ChestPainType\": \"NAP\", \"RestingBP\": 150, \"Cholesterol\": 160, \"FastingBS\": 0, \"RestingECG\": \"Normal\", \"MaxHR\": 172, \"ExerciseAngina\": \"N\", \"Oldpeak\": 0.0, \"ST_Slope\": \"Up\", \"HeartDisease\": 0, \"HD\": \"False\", \"Prediction\": \"False\"}, {\"Age\": 51, \"Sex\": \"F\", \"ChestPainType\": \"NAP\", \"RestingBP\": 150, \"Cholesterol\": 200, \"FastingBS\": 0, \"RestingECG\": \"Normal\", \"MaxHR\": 120, \"ExerciseAngina\": \"N\", \"Oldpeak\": 0.5, \"ST_Slope\": \"Up\", \"HeartDisease\": 0, \"HD\": \"False\", \"Prediction\": \"False\"}, {\"Age\": 55, \"Sex\": \"F\", \"ChestPainType\": \"ATA\", \"RestingBP\": 122, \"Cholesterol\": 320, \"FastingBS\": 0, \"RestingECG\": \"Normal\", \"MaxHR\": 155, \"ExerciseAngina\": \"N\", \"Oldpeak\": 0.0, \"ST_Slope\": \"Up\", \"HeartDisease\": 0, \"HD\": \"False\", \"Prediction\": \"False\"}, {\"Age\": 46, \"Sex\": \"M\", \"ChestPainType\": \"ATA\", \"RestingBP\": 140, \"Cholesterol\": 275, \"FastingBS\": 0, \"RestingECG\": \"Normal\", \"MaxHR\": 165, \"ExerciseAngina\": \"Y\", \"Oldpeak\": 0.0, \"ST_Slope\": \"Up\", \"HeartDisease\": 0, \"HD\": \"False\", \"Prediction\": \"False\"}, {\"Age\": 54, \"Sex\": \"F\", \"ChestPainType\": \"ATA\", \"RestingBP\": 120, \"Cholesterol\": 221, \"FastingBS\": 0, \"RestingECG\": \"Normal\", \"MaxHR\": 138, \"ExerciseAngina\": \"N\", \"Oldpeak\": 1.0, \"ST_Slope\": \"Up\", \"HeartDisease\": 0, \"HD\": \"False\", \"Prediction\": \"False\"}, {\"Age\": 46, \"Sex\": \"M\", \"ChestPainType\": \"ASY\", \"RestingBP\": 120, \"Cholesterol\": 231, \"FastingBS\": 0, \"RestingECG\": \"Normal\", \"MaxHR\": 115, \"ExerciseAngina\": \"Y\", \"Oldpeak\": 0.0, \"ST_Slope\": \"Flat\", \"HeartDisease\": 1, \"HD\": \"True\", \"Prediction\": \"True\"}, {\"Age\": 59, \"Sex\": \"M\", \"ChestPainType\": \"ASY\", \"RestingBP\": 130, \"Cholesterol\": 126, \"FastingBS\": 0, \"RestingECG\": \"Normal\", \"MaxHR\": 125, \"ExerciseAngina\": \"N\", \"Oldpeak\": 0.0, \"ST_Slope\": \"Flat\", \"HeartDisease\": 1, \"HD\": \"True\", \"Prediction\": \"True\"}, {\"Age\": 47, \"Sex\": \"M\", \"ChestPainType\": \"NAP\", \"RestingBP\": 140, \"Cholesterol\": 193, \"FastingBS\": 0, \"RestingECG\": \"Normal\", \"MaxHR\": 145, \"ExerciseAngina\": \"Y\", \"Oldpeak\": 1.0, \"ST_Slope\": \"Flat\", \"HeartDisease\": 1, \"HD\": \"True\", \"Prediction\": \"False\"}, {\"Age\": 54, \"Sex\": \"M\", \"ChestPainType\": \"ATA\", \"RestingBP\": 160, \"Cholesterol\": 305, \"FastingBS\": 0, \"RestingECG\": \"Normal\", \"MaxHR\": 175, \"ExerciseAngina\": \"N\", \"Oldpeak\": 0.0, \"ST_Slope\": \"Up\", \"HeartDisease\": 0, \"HD\": \"False\", \"Prediction\": \"False\"}, {\"Age\": 52, \"Sex\": \"M\", \"ChestPainType\": \"ASY\", \"RestingBP\": 130, \"Cholesterol\": 298, \"FastingBS\": 0, \"RestingECG\": \"Normal\", \"MaxHR\": 110, \"ExerciseAngina\": \"Y\", \"Oldpeak\": 1.0, \"ST_Slope\": \"Flat\", \"HeartDisease\": 1, \"HD\": \"True\", \"Prediction\": \"True\"}, {\"Age\": 34, \"Sex\": \"M\", \"ChestPainType\": \"ATA\", \"RestingBP\": 98, \"Cholesterol\": 220, \"FastingBS\": 0, \"RestingECG\": \"Normal\", \"MaxHR\": 150, \"ExerciseAngina\": \"N\", \"Oldpeak\": 0.0, \"ST_Slope\": \"Up\", \"HeartDisease\": 0, \"HD\": \"False\", \"Prediction\": \"False\"}, {\"Age\": 54, \"Sex\": \"M\", \"ChestPainType\": \"ASY\", \"RestingBP\": 130, \"Cholesterol\": 242, \"FastingBS\": 0, \"RestingECG\": \"Normal\", \"MaxHR\": 91, \"ExerciseAngina\": \"Y\", \"Oldpeak\": 1.0, \"ST_Slope\": \"Flat\", \"HeartDisease\": 1, \"HD\": \"True\", \"Prediction\": \"False\"}, {\"Age\": 47, \"Sex\": \"F\", \"ChestPainType\": \"NAP\", \"RestingBP\": 130, \"Cholesterol\": 235, \"FastingBS\": 0, \"RestingECG\": \"Normal\", \"MaxHR\": 145, \"ExerciseAngina\": \"N\", \"Oldpeak\": 2.0, \"ST_Slope\": \"Flat\", \"HeartDisease\": 0, \"HD\": \"False\", \"Prediction\": \"False\"}, {\"Age\": 45, \"Sex\": \"M\", \"ChestPainType\": \"ASY\", \"RestingBP\": 120, \"Cholesterol\": 225, \"FastingBS\": 0, \"RestingECG\": \"Normal\", \"MaxHR\": 140, \"ExerciseAngina\": \"N\", \"Oldpeak\": 0.0, \"ST_Slope\": \"Up\", \"HeartDisease\": 0, \"HD\": \"False\", \"Prediction\": \"False\"}, {\"Age\": 32, \"Sex\": \"F\", \"ChestPainType\": \"ATA\", \"RestingBP\": 105, \"Cholesterol\": 198, \"FastingBS\": 0, \"RestingECG\": \"Normal\", \"MaxHR\": 165, \"ExerciseAngina\": \"N\", \"Oldpeak\": 0.0, \"ST_Slope\": \"Up\", \"HeartDisease\": 0, \"HD\": \"False\", \"Prediction\": \"False\"}, {\"Age\": 55, \"Sex\": \"M\", \"ChestPainType\": \"ASY\", \"RestingBP\": 140, \"Cholesterol\": 201, \"FastingBS\": 0, \"RestingECG\": \"Normal\", \"MaxHR\": 130, \"ExerciseAngina\": \"Y\", \"Oldpeak\": 3.0, \"ST_Slope\": \"Flat\", \"HeartDisease\": 1, \"HD\": \"True\", \"Prediction\": \"False\"}, {\"Age\": 55, \"Sex\": \"M\", \"ChestPainType\": \"NAP\", \"RestingBP\": 120, \"Cholesterol\": 220, \"FastingBS\": 0, \"RestingECG\": \"LVH\", \"MaxHR\": 134, \"ExerciseAngina\": \"N\", \"Oldpeak\": 0.0, \"ST_Slope\": \"Up\", \"HeartDisease\": 0, \"HD\": \"False\", \"Prediction\": \"False\"}, {\"Age\": 45, \"Sex\": \"F\", \"ChestPainType\": \"ATA\", \"RestingBP\": 180, \"Cholesterol\": 295, \"FastingBS\": 0, \"RestingECG\": \"Normal\", \"MaxHR\": 180, \"ExerciseAngina\": \"N\", \"Oldpeak\": 0.0, \"ST_Slope\": \"Up\", \"HeartDisease\": 0, \"HD\": \"False\", \"Prediction\": \"False\"}, {\"Age\": 59, \"Sex\": \"M\", \"ChestPainType\": \"NAP\", \"RestingBP\": 180, \"Cholesterol\": 213, \"FastingBS\": 0, \"RestingECG\": \"Normal\", \"MaxHR\": 100, \"ExerciseAngina\": \"N\", \"Oldpeak\": 0.0, \"ST_Slope\": \"Up\", \"HeartDisease\": 0, \"HD\": \"False\", \"Prediction\": \"True\"}, {\"Age\": 51, \"Sex\": \"M\", \"ChestPainType\": \"NAP\", \"RestingBP\": 135, \"Cholesterol\": 160, \"FastingBS\": 0, \"RestingECG\": \"Normal\", \"MaxHR\": 150, \"ExerciseAngina\": \"N\", \"Oldpeak\": 2.0, \"ST_Slope\": \"Flat\", \"HeartDisease\": 1, \"HD\": \"True\", \"Prediction\": \"False\"}, {\"Age\": 52, \"Sex\": \"M\", \"ChestPainType\": \"ASY\", \"RestingBP\": 170, \"Cholesterol\": 223, \"FastingBS\": 0, \"RestingECG\": \"Normal\", \"MaxHR\": 126, \"ExerciseAngina\": \"Y\", \"Oldpeak\": 1.5, \"ST_Slope\": \"Flat\", \"HeartDisease\": 1, \"HD\": \"True\", \"Prediction\": \"True\"}, {\"Age\": 57, \"Sex\": \"F\", \"ChestPainType\": \"ASY\", \"RestingBP\": 180, \"Cholesterol\": 347, \"FastingBS\": 0, \"RestingECG\": \"ST\", \"MaxHR\": 126, \"ExerciseAngina\": \"Y\", \"Oldpeak\": 0.8, \"ST_Slope\": \"Flat\", \"HeartDisease\": 0, \"HD\": \"False\", \"Prediction\": \"False\"}, {\"Age\": 54, \"Sex\": \"F\", \"ChestPainType\": \"ATA\", \"RestingBP\": 130, \"Cholesterol\": 253, \"FastingBS\": 0, \"RestingECG\": \"ST\", \"MaxHR\": 155, \"ExerciseAngina\": \"N\", \"Oldpeak\": 0.0, \"ST_Slope\": \"Up\", \"HeartDisease\": 0, \"HD\": \"False\", \"Prediction\": \"False\"}, {\"Age\": 60, \"Sex\": \"M\", \"ChestPainType\": \"NAP\", \"RestingBP\": 120, \"Cholesterol\": 246, \"FastingBS\": 0, \"RestingECG\": \"LVH\", \"MaxHR\": 135, \"ExerciseAngina\": \"N\", \"Oldpeak\": 0.0, \"ST_Slope\": \"Up\", \"HeartDisease\": 0, \"HD\": \"False\", \"Prediction\": \"True\"}, {\"Age\": 49, \"Sex\": \"M\", \"ChestPainType\": \"ASY\", \"RestingBP\": 150, \"Cholesterol\": 222, \"FastingBS\": 0, \"RestingECG\": \"Normal\", \"MaxHR\": 122, \"ExerciseAngina\": \"N\", \"Oldpeak\": 2.0, \"ST_Slope\": \"Flat\", \"HeartDisease\": 1, \"HD\": \"True\", \"Prediction\": \"True\"}, {\"Age\": 51, \"Sex\": \"F\", \"ChestPainType\": \"NAP\", \"RestingBP\": 130, \"Cholesterol\": 220, \"FastingBS\": 0, \"RestingECG\": \"Normal\", \"MaxHR\": 160, \"ExerciseAngina\": \"Y\", \"Oldpeak\": 2.0, \"ST_Slope\": \"Up\", \"HeartDisease\": 0, \"HD\": \"False\", \"Prediction\": \"False\"}, {\"Age\": 55, \"Sex\": \"F\", \"ChestPainType\": \"ATA\", \"RestingBP\": 110, \"Cholesterol\": 344, \"FastingBS\": 0, \"RestingECG\": \"ST\", \"MaxHR\": 160, \"ExerciseAngina\": \"N\", \"Oldpeak\": 0.0, \"ST_Slope\": \"Up\", \"HeartDisease\": 0, \"HD\": \"False\", \"Prediction\": \"False\"}, {\"Age\": 42, \"Sex\": \"M\", \"ChestPainType\": \"ASY\", \"RestingBP\": 140, \"Cholesterol\": 358, \"FastingBS\": 0, \"RestingECG\": \"Normal\", \"MaxHR\": 170, \"ExerciseAngina\": \"N\", \"Oldpeak\": 0.0, \"ST_Slope\": \"Up\", \"HeartDisease\": 0, \"HD\": \"False\", \"Prediction\": \"False\"}, {\"Age\": 51, \"Sex\": \"F\", \"ChestPainType\": \"NAP\", \"RestingBP\": 110, \"Cholesterol\": 190, \"FastingBS\": 0, \"RestingECG\": \"Normal\", \"MaxHR\": 120, \"ExerciseAngina\": \"N\", \"Oldpeak\": 0.0, \"ST_Slope\": \"Up\", \"HeartDisease\": 0, \"HD\": \"False\", \"Prediction\": \"False\"}, {\"Age\": 59, \"Sex\": \"M\", \"ChestPainType\": \"ASY\", \"RestingBP\": 140, \"Cholesterol\": 169, \"FastingBS\": 0, \"RestingECG\": \"Normal\", \"MaxHR\": 140, \"ExerciseAngina\": \"N\", \"Oldpeak\": 0.0, \"ST_Slope\": \"Up\", \"HeartDisease\": 0, \"HD\": \"False\", \"Prediction\": \"False\"}, {\"Age\": 53, \"Sex\": \"M\", \"ChestPainType\": \"ATA\", \"RestingBP\": 120, \"Cholesterol\": 181, \"FastingBS\": 0, \"RestingECG\": \"Normal\", \"MaxHR\": 132, \"ExerciseAngina\": \"N\", \"Oldpeak\": 0.0, \"ST_Slope\": \"Up\", \"HeartDisease\": 0, \"HD\": \"False\", \"Prediction\": \"False\"}, {\"Age\": 48, \"Sex\": \"F\", \"ChestPainType\": \"ATA\", \"RestingBP\": 133, \"Cholesterol\": 308, \"FastingBS\": 0, \"RestingECG\": \"ST\", \"MaxHR\": 156, \"ExerciseAngina\": \"N\", \"Oldpeak\": 2.0, \"ST_Slope\": \"Up\", \"HeartDisease\": 0, \"HD\": \"False\", \"Prediction\": \"False\"}, {\"Age\": 36, \"Sex\": \"M\", \"ChestPainType\": \"ATA\", \"RestingBP\": 120, \"Cholesterol\": 166, \"FastingBS\": 0, \"RestingECG\": \"Normal\", \"MaxHR\": 180, \"ExerciseAngina\": \"N\", \"Oldpeak\": 0.0, \"ST_Slope\": \"Up\", \"HeartDisease\": 0, \"HD\": \"False\", \"Prediction\": \"False\"}, {\"Age\": 48, \"Sex\": \"M\", \"ChestPainType\": \"NAP\", \"RestingBP\": 110, \"Cholesterol\": 211, \"FastingBS\": 0, \"RestingECG\": \"Normal\", \"MaxHR\": 138, \"ExerciseAngina\": \"N\", \"Oldpeak\": 0.0, \"ST_Slope\": \"Up\", \"HeartDisease\": 0, \"HD\": \"False\", \"Prediction\": \"False\"}, {\"Age\": 47, \"Sex\": \"F\", \"ChestPainType\": \"ATA\", \"RestingBP\": 140, \"Cholesterol\": 257, \"FastingBS\": 0, \"RestingECG\": \"Normal\", \"MaxHR\": 135, \"ExerciseAngina\": \"N\", \"Oldpeak\": 1.0, \"ST_Slope\": \"Up\", \"HeartDisease\": 0, \"HD\": \"False\", \"Prediction\": \"True\"}, {\"Age\": 53, \"Sex\": \"M\", \"ChestPainType\": \"ASY\", \"RestingBP\": 130, \"Cholesterol\": 182, \"FastingBS\": 0, \"RestingECG\": \"Normal\", \"MaxHR\": 148, \"ExerciseAngina\": \"N\", \"Oldpeak\": 0.0, \"ST_Slope\": \"Up\", \"HeartDisease\": 0, \"HD\": \"False\", \"Prediction\": \"False\"}, {\"Age\": 65, \"Sex\": \"M\", \"ChestPainType\": \"ASY\", \"RestingBP\": 115, \"Cholesterol\": 0, \"FastingBS\": 0, \"RestingECG\": \"Normal\", \"MaxHR\": 93, \"ExerciseAngina\": \"Y\", \"Oldpeak\": 0.0, \"ST_Slope\": \"Flat\", \"HeartDisease\": 1, \"HD\": \"True\", \"Prediction\": \"True\"}, {\"Age\": 32, \"Sex\": \"M\", \"ChestPainType\": \"TA\", \"RestingBP\": 95, \"Cholesterol\": 0, \"FastingBS\": 1, \"RestingECG\": \"Normal\", \"MaxHR\": 127, \"ExerciseAngina\": \"N\", \"Oldpeak\": 0.7, \"ST_Slope\": \"Up\", \"HeartDisease\": 1, \"HD\": \"True\", \"Prediction\": \"True\"}, {\"Age\": 61, \"Sex\": \"M\", \"ChestPainType\": \"ASY\", \"RestingBP\": 105, \"Cholesterol\": 0, \"FastingBS\": 1, \"RestingECG\": \"Normal\", \"MaxHR\": 110, \"ExerciseAngina\": \"Y\", \"Oldpeak\": 1.5, \"ST_Slope\": \"Up\", \"HeartDisease\": 1, \"HD\": \"True\", \"Prediction\": \"True\"}, {\"Age\": 50, \"Sex\": \"M\", \"ChestPainType\": \"ASY\", \"RestingBP\": 145, \"Cholesterol\": 0, \"FastingBS\": 1, \"RestingECG\": \"Normal\", \"MaxHR\": 139, \"ExerciseAngina\": \"Y\", \"Oldpeak\": 0.7, \"ST_Slope\": \"Flat\", \"HeartDisease\": 1, \"HD\": \"True\", \"Prediction\": \"True\"}, {\"Age\": 57, \"Sex\": \"M\", \"ChestPainType\": \"ASY\", \"RestingBP\": 110, \"Cholesterol\": 0, \"FastingBS\": 1, \"RestingECG\": \"ST\", \"MaxHR\": 131, \"ExerciseAngina\": \"Y\", \"Oldpeak\": 1.4, \"ST_Slope\": \"Up\", \"HeartDisease\": 1, \"HD\": \"True\", \"Prediction\": \"True\"}, {\"Age\": 51, \"Sex\": \"M\", \"ChestPainType\": \"ASY\", \"RestingBP\": 110, \"Cholesterol\": 0, \"FastingBS\": 1, \"RestingECG\": \"Normal\", \"MaxHR\": 92, \"ExerciseAngina\": \"N\", \"Oldpeak\": 0.0, \"ST_Slope\": \"Flat\", \"HeartDisease\": 1, \"HD\": \"True\", \"Prediction\": \"True\"}, {\"Age\": 47, \"Sex\": \"M\", \"ChestPainType\": \"ASY\", \"RestingBP\": 110, \"Cholesterol\": 0, \"FastingBS\": 1, \"RestingECG\": \"ST\", \"MaxHR\": 149, \"ExerciseAngina\": \"N\", \"Oldpeak\": 2.1, \"ST_Slope\": \"Up\", \"HeartDisease\": 1, \"HD\": \"True\", \"Prediction\": \"True\"}, {\"Age\": 60, \"Sex\": \"M\", \"ChestPainType\": \"ASY\", \"RestingBP\": 160, \"Cholesterol\": 0, \"FastingBS\": 1, \"RestingECG\": \"Normal\", \"MaxHR\": 149, \"ExerciseAngina\": \"N\", \"Oldpeak\": 0.4, \"ST_Slope\": \"Flat\", \"HeartDisease\": 1, \"HD\": \"True\", \"Prediction\": \"True\"}, {\"Age\": 55, \"Sex\": \"M\", \"ChestPainType\": \"ATA\", \"RestingBP\": 140, \"Cholesterol\": 0, \"FastingBS\": 0, \"RestingECG\": \"ST\", \"MaxHR\": 150, \"ExerciseAngina\": \"N\", \"Oldpeak\": 0.2, \"ST_Slope\": \"Up\", \"HeartDisease\": 0, \"HD\": \"False\", \"Prediction\": \"True\"}, {\"Age\": 53, \"Sex\": \"M\", \"ChestPainType\": \"ASY\", \"RestingBP\": 125, \"Cholesterol\": 0, \"FastingBS\": 1, \"RestingECG\": \"Normal\", \"MaxHR\": 120, \"ExerciseAngina\": \"N\", \"Oldpeak\": 1.5, \"ST_Slope\": \"Up\", \"HeartDisease\": 1, \"HD\": \"True\", \"Prediction\": \"True\"}, {\"Age\": 62, \"Sex\": \"F\", \"ChestPainType\": \"ASY\", \"RestingBP\": 120, \"Cholesterol\": 0, \"FastingBS\": 1, \"RestingECG\": \"ST\", \"MaxHR\": 123, \"ExerciseAngina\": \"Y\", \"Oldpeak\": 1.7, \"ST_Slope\": \"Down\", \"HeartDisease\": 1, \"HD\": \"True\", \"Prediction\": \"True\"}, {\"Age\": 51, \"Sex\": \"M\", \"ChestPainType\": \"ASY\", \"RestingBP\": 95, \"Cholesterol\": 0, \"FastingBS\": 1, \"RestingECG\": \"Normal\", \"MaxHR\": 126, \"ExerciseAngina\": \"N\", \"Oldpeak\": 2.2, \"ST_Slope\": \"Flat\", \"HeartDisease\": 1, \"HD\": \"True\", \"Prediction\": \"True\"}, {\"Age\": 51, \"Sex\": \"F\", \"ChestPainType\": \"ASY\", \"RestingBP\": 120, \"Cholesterol\": 0, \"FastingBS\": 1, \"RestingECG\": \"Normal\", \"MaxHR\": 127, \"ExerciseAngina\": \"Y\", \"Oldpeak\": 1.5, \"ST_Slope\": \"Up\", \"HeartDisease\": 1, \"HD\": \"True\", \"Prediction\": \"True\"}, {\"Age\": 55, \"Sex\": \"M\", \"ChestPainType\": \"ASY\", \"RestingBP\": 115, \"Cholesterol\": 0, \"FastingBS\": 1, \"RestingECG\": \"Normal\", \"MaxHR\": 155, \"ExerciseAngina\": \"N\", \"Oldpeak\": 0.1, \"ST_Slope\": \"Flat\", \"HeartDisease\": 1, \"HD\": \"True\", \"Prediction\": \"True\"}, {\"Age\": 53, \"Sex\": \"M\", \"ChestPainType\": \"ATA\", \"RestingBP\": 130, \"Cholesterol\": 0, \"FastingBS\": 0, \"RestingECG\": \"ST\", \"MaxHR\": 120, \"ExerciseAngina\": \"N\", \"Oldpeak\": 0.7, \"ST_Slope\": \"Down\", \"HeartDisease\": 0, \"HD\": \"False\", \"Prediction\": \"True\"}, {\"Age\": 58, \"Sex\": \"M\", \"ChestPainType\": \"ASY\", \"RestingBP\": 115, \"Cholesterol\": 0, \"FastingBS\": 1, \"RestingECG\": \"Normal\", \"MaxHR\": 138, \"ExerciseAngina\": \"N\", \"Oldpeak\": 0.5, \"ST_Slope\": \"Up\", \"HeartDisease\": 1, \"HD\": \"True\", \"Prediction\": \"True\"}, {\"Age\": 57, \"Sex\": \"M\", \"ChestPainType\": \"ASY\", \"RestingBP\": 95, \"Cholesterol\": 0, \"FastingBS\": 1, \"RestingECG\": \"Normal\", \"MaxHR\": 182, \"ExerciseAngina\": \"N\", \"Oldpeak\": 0.7, \"ST_Slope\": \"Down\", \"HeartDisease\": 1, \"HD\": \"True\", \"Prediction\": \"True\"}, {\"Age\": 65, \"Sex\": \"M\", \"ChestPainType\": \"ASY\", \"RestingBP\": 155, \"Cholesterol\": 0, \"FastingBS\": 0, \"RestingECG\": \"Normal\", \"MaxHR\": 154, \"ExerciseAngina\": \"N\", \"Oldpeak\": 1.0, \"ST_Slope\": \"Up\", \"HeartDisease\": 0, \"HD\": \"False\", \"Prediction\": \"True\"}, {\"Age\": 60, \"Sex\": \"M\", \"ChestPainType\": \"ASY\", \"RestingBP\": 125, \"Cholesterol\": 0, \"FastingBS\": 1, \"RestingECG\": \"Normal\", \"MaxHR\": 110, \"ExerciseAngina\": \"N\", \"Oldpeak\": 0.1, \"ST_Slope\": \"Up\", \"HeartDisease\": 1, \"HD\": \"True\", \"Prediction\": \"True\"}, {\"Age\": 41, \"Sex\": \"M\", \"ChestPainType\": \"ASY\", \"RestingBP\": 125, \"Cholesterol\": 0, \"FastingBS\": 1, \"RestingECG\": \"Normal\", \"MaxHR\": 176, \"ExerciseAngina\": \"N\", \"Oldpeak\": 1.6, \"ST_Slope\": \"Up\", \"HeartDisease\": 1, \"HD\": \"True\", \"Prediction\": \"True\"}, {\"Age\": 34, \"Sex\": \"M\", \"ChestPainType\": \"ASY\", \"RestingBP\": 115, \"Cholesterol\": 0, \"FastingBS\": 1, \"RestingECG\": \"Normal\", \"MaxHR\": 154, \"ExerciseAngina\": \"N\", \"Oldpeak\": 0.2, \"ST_Slope\": \"Up\", \"HeartDisease\": 1, \"HD\": \"True\", \"Prediction\": \"True\"}, {\"Age\": 53, \"Sex\": \"M\", \"ChestPainType\": \"ASY\", \"RestingBP\": 80, \"Cholesterol\": 0, \"FastingBS\": 0, \"RestingECG\": \"Normal\", \"MaxHR\": 141, \"ExerciseAngina\": \"Y\", \"Oldpeak\": 2.0, \"ST_Slope\": \"Down\", \"HeartDisease\": 0, \"HD\": \"False\", \"Prediction\": \"True\"}, {\"Age\": 74, \"Sex\": \"M\", \"ChestPainType\": \"ATA\", \"RestingBP\": 145, \"Cholesterol\": 0, \"FastingBS\": 1, \"RestingECG\": \"ST\", \"MaxHR\": 123, \"ExerciseAngina\": \"N\", \"Oldpeak\": 1.3, \"ST_Slope\": \"Up\", \"HeartDisease\": 1, \"HD\": \"True\", \"Prediction\": \"True\"}, {\"Age\": 57, \"Sex\": \"M\", \"ChestPainType\": \"NAP\", \"RestingBP\": 105, \"Cholesterol\": 0, \"FastingBS\": 1, \"RestingECG\": \"Normal\", \"MaxHR\": 148, \"ExerciseAngina\": \"N\", \"Oldpeak\": 0.3, \"ST_Slope\": \"Flat\", \"HeartDisease\": 1, \"HD\": \"True\", \"Prediction\": \"True\"}, {\"Age\": 56, \"Sex\": \"M\", \"ChestPainType\": \"ASY\", \"RestingBP\": 140, \"Cholesterol\": 0, \"FastingBS\": 1, \"RestingECG\": \"Normal\", \"MaxHR\": 121, \"ExerciseAngina\": \"Y\", \"Oldpeak\": 1.8, \"ST_Slope\": \"Up\", \"HeartDisease\": 1, \"HD\": \"True\", \"Prediction\": \"True\"}, {\"Age\": 61, \"Sex\": \"M\", \"ChestPainType\": \"ASY\", \"RestingBP\": 130, \"Cholesterol\": 0, \"FastingBS\": 1, \"RestingECG\": \"Normal\", \"MaxHR\": 77, \"ExerciseAngina\": \"N\", \"Oldpeak\": 2.5, \"ST_Slope\": \"Flat\", \"HeartDisease\": 1, \"HD\": \"True\", \"Prediction\": \"True\"}, {\"Age\": 68, \"Sex\": \"M\", \"ChestPainType\": \"ASY\", \"RestingBP\": 145, \"Cholesterol\": 0, \"FastingBS\": 1, \"RestingECG\": \"Normal\", \"MaxHR\": 136, \"ExerciseAngina\": \"N\", \"Oldpeak\": 1.8, \"ST_Slope\": \"Up\", \"HeartDisease\": 1, \"HD\": \"True\", \"Prediction\": \"True\"}, {\"Age\": 59, \"Sex\": \"M\", \"ChestPainType\": \"NAP\", \"RestingBP\": 125, \"Cholesterol\": 0, \"FastingBS\": 1, \"RestingECG\": \"Normal\", \"MaxHR\": 175, \"ExerciseAngina\": \"N\", \"Oldpeak\": 2.6, \"ST_Slope\": \"Flat\", \"HeartDisease\": 1, \"HD\": \"True\", \"Prediction\": \"True\"}, {\"Age\": 63, \"Sex\": \"M\", \"ChestPainType\": \"ASY\", \"RestingBP\": 100, \"Cholesterol\": 0, \"FastingBS\": 1, \"RestingECG\": \"Normal\", \"MaxHR\": 109, \"ExerciseAngina\": \"N\", \"Oldpeak\": -0.9, \"ST_Slope\": \"Flat\", \"HeartDisease\": 1, \"HD\": \"True\", \"Prediction\": \"True\"}, {\"Age\": 38, \"Sex\": \"F\", \"ChestPainType\": \"ASY\", \"RestingBP\": 105, \"Cholesterol\": 0, \"FastingBS\": 1, \"RestingECG\": \"Normal\", \"MaxHR\": 166, \"ExerciseAngina\": \"N\", \"Oldpeak\": 2.8, \"ST_Slope\": \"Up\", \"HeartDisease\": 1, \"HD\": \"True\", \"Prediction\": \"True\"}, {\"Age\": 62, \"Sex\": \"M\", \"ChestPainType\": \"ASY\", \"RestingBP\": 115, \"Cholesterol\": 0, \"FastingBS\": 1, \"RestingECG\": \"Normal\", \"MaxHR\": 128, \"ExerciseAngina\": \"Y\", \"Oldpeak\": 2.5, \"ST_Slope\": \"Down\", \"HeartDisease\": 1, \"HD\": \"True\", \"Prediction\": \"True\"}, {\"Age\": 46, \"Sex\": \"M\", \"ChestPainType\": \"ASY\", \"RestingBP\": 100, \"Cholesterol\": 0, \"FastingBS\": 1, \"RestingECG\": \"ST\", \"MaxHR\": 133, \"ExerciseAngina\": \"N\", \"Oldpeak\": -2.6, \"ST_Slope\": \"Flat\", \"HeartDisease\": 1, \"HD\": \"True\", \"Prediction\": \"True\"}, {\"Age\": 42, \"Sex\": \"M\", \"ChestPainType\": \"ASY\", \"RestingBP\": 105, \"Cholesterol\": 0, \"FastingBS\": 1, \"RestingECG\": \"Normal\", \"MaxHR\": 128, \"ExerciseAngina\": \"Y\", \"Oldpeak\": -1.5, \"ST_Slope\": \"Down\", \"HeartDisease\": 1, \"HD\": \"True\", \"Prediction\": \"True\"}, {\"Age\": 45, \"Sex\": \"M\", \"ChestPainType\": \"NAP\", \"RestingBP\": 110, \"Cholesterol\": 0, \"FastingBS\": 0, \"RestingECG\": \"Normal\", \"MaxHR\": 138, \"ExerciseAngina\": \"N\", \"Oldpeak\": -0.1, \"ST_Slope\": \"Up\", \"HeartDisease\": 0, \"HD\": \"False\", \"Prediction\": \"True\"}, {\"Age\": 59, \"Sex\": \"M\", \"ChestPainType\": \"ASY\", \"RestingBP\": 125, \"Cholesterol\": 0, \"FastingBS\": 1, \"RestingECG\": \"Normal\", \"MaxHR\": 119, \"ExerciseAngina\": \"Y\", \"Oldpeak\": 0.9, \"ST_Slope\": \"Up\", \"HeartDisease\": 1, \"HD\": \"True\", \"Prediction\": \"True\"}, {\"Age\": 52, \"Sex\": \"M\", \"ChestPainType\": \"ASY\", \"RestingBP\": 95, \"Cholesterol\": 0, \"FastingBS\": 1, \"RestingECG\": \"Normal\", \"MaxHR\": 82, \"ExerciseAngina\": \"Y\", \"Oldpeak\": 0.8, \"ST_Slope\": \"Flat\", \"HeartDisease\": 1, \"HD\": \"True\", \"Prediction\": \"True\"}, {\"Age\": 60, \"Sex\": \"M\", \"ChestPainType\": \"ASY\", \"RestingBP\": 130, \"Cholesterol\": 0, \"FastingBS\": 1, \"RestingECG\": \"ST\", \"MaxHR\": 130, \"ExerciseAngina\": \"Y\", \"Oldpeak\": 1.1, \"ST_Slope\": \"Down\", \"HeartDisease\": 1, \"HD\": \"True\", \"Prediction\": \"True\"}, {\"Age\": 60, \"Sex\": \"M\", \"ChestPainType\": \"NAP\", \"RestingBP\": 115, \"Cholesterol\": 0, \"FastingBS\": 1, \"RestingECG\": \"Normal\", \"MaxHR\": 143, \"ExerciseAngina\": \"N\", \"Oldpeak\": 2.4, \"ST_Slope\": \"Up\", \"HeartDisease\": 1, \"HD\": \"True\", \"Prediction\": \"True\"}, {\"Age\": 56, \"Sex\": \"M\", \"ChestPainType\": \"ASY\", \"RestingBP\": 115, \"Cholesterol\": 0, \"FastingBS\": 1, \"RestingECG\": \"ST\", \"MaxHR\": 82, \"ExerciseAngina\": \"N\", \"Oldpeak\": -1.0, \"ST_Slope\": \"Up\", \"HeartDisease\": 1, \"HD\": \"True\", \"Prediction\": \"True\"}, {\"Age\": 38, \"Sex\": \"M\", \"ChestPainType\": \"NAP\", \"RestingBP\": 100, \"Cholesterol\": 0, \"FastingBS\": 0, \"RestingECG\": \"Normal\", \"MaxHR\": 179, \"ExerciseAngina\": \"N\", \"Oldpeak\": -1.1, \"ST_Slope\": \"Up\", \"HeartDisease\": 0, \"HD\": \"False\", \"Prediction\": \"True\"}, {\"Age\": 40, \"Sex\": \"M\", \"ChestPainType\": \"ASY\", \"RestingBP\": 95, \"Cholesterol\": 0, \"FastingBS\": 1, \"RestingECG\": \"ST\", \"MaxHR\": 144, \"ExerciseAngina\": \"N\", \"Oldpeak\": 0.0, \"ST_Slope\": \"Up\", \"HeartDisease\": 1, \"HD\": \"True\", \"Prediction\": \"True\"}, {\"Age\": 51, \"Sex\": \"M\", \"ChestPainType\": \"ASY\", \"RestingBP\": 130, \"Cholesterol\": 0, \"FastingBS\": 1, \"RestingECG\": \"Normal\", \"MaxHR\": 170, \"ExerciseAngina\": \"N\", \"Oldpeak\": -0.7, \"ST_Slope\": \"Up\", \"HeartDisease\": 1, \"HD\": \"True\", \"Prediction\": \"True\"}, {\"Age\": 62, \"Sex\": \"M\", \"ChestPainType\": \"TA\", \"RestingBP\": 120, \"Cholesterol\": 0, \"FastingBS\": 1, \"RestingECG\": \"LVH\", \"MaxHR\": 134, \"ExerciseAngina\": \"N\", \"Oldpeak\": -0.8, \"ST_Slope\": \"Flat\", \"HeartDisease\": 1, \"HD\": \"True\", \"Prediction\": \"True\"}, {\"Age\": 72, \"Sex\": \"M\", \"ChestPainType\": \"NAP\", \"RestingBP\": 160, \"Cholesterol\": 0, \"FastingBS\": 0, \"RestingECG\": \"LVH\", \"MaxHR\": 114, \"ExerciseAngina\": \"N\", \"Oldpeak\": 1.6, \"ST_Slope\": \"Flat\", \"HeartDisease\": 0, \"HD\": \"False\", \"Prediction\": \"True\"}, {\"Age\": 63, \"Sex\": \"M\", \"ChestPainType\": \"ASY\", \"RestingBP\": 150, \"Cholesterol\": 0, \"FastingBS\": 1, \"RestingECG\": \"ST\", \"MaxHR\": 154, \"ExerciseAngina\": \"N\", \"Oldpeak\": 3.7, \"ST_Slope\": \"Up\", \"HeartDisease\": 1, \"HD\": \"True\", \"Prediction\": \"True\"}, {\"Age\": 63, \"Sex\": \"M\", \"ChestPainType\": \"ASY\", \"RestingBP\": 140, \"Cholesterol\": 0, \"FastingBS\": 1, \"RestingECG\": \"LVH\", \"MaxHR\": 149, \"ExerciseAngina\": \"N\", \"Oldpeak\": 2.0, \"ST_Slope\": \"Up\", \"HeartDisease\": 1, \"HD\": \"True\", \"Prediction\": \"True\"}, {\"Age\": 64, \"Sex\": \"F\", \"ChestPainType\": \"ASY\", \"RestingBP\": 95, \"Cholesterol\": 0, \"FastingBS\": 1, \"RestingECG\": \"Normal\", \"MaxHR\": 145, \"ExerciseAngina\": \"N\", \"Oldpeak\": 1.1, \"ST_Slope\": \"Down\", \"HeartDisease\": 1, \"HD\": \"True\", \"Prediction\": \"True\"}, {\"Age\": 43, \"Sex\": \"M\", \"ChestPainType\": \"ASY\", \"RestingBP\": 100, \"Cholesterol\": 0, \"FastingBS\": 1, \"RestingECG\": \"Normal\", \"MaxHR\": 122, \"ExerciseAngina\": \"N\", \"Oldpeak\": 1.5, \"ST_Slope\": \"Down\", \"HeartDisease\": 1, \"HD\": \"True\", \"Prediction\": \"True\"}, {\"Age\": 64, \"Sex\": \"M\", \"ChestPainType\": \"ASY\", \"RestingBP\": 110, \"Cholesterol\": 0, \"FastingBS\": 1, \"RestingECG\": \"Normal\", \"MaxHR\": 114, \"ExerciseAngina\": \"Y\", \"Oldpeak\": 1.3, \"ST_Slope\": \"Down\", \"HeartDisease\": 1, \"HD\": \"True\", \"Prediction\": \"True\"}, {\"Age\": 61, \"Sex\": \"M\", \"ChestPainType\": \"ASY\", \"RestingBP\": 110, \"Cholesterol\": 0, \"FastingBS\": 1, \"RestingECG\": \"Normal\", \"MaxHR\": 113, \"ExerciseAngina\": \"N\", \"Oldpeak\": 1.4, \"ST_Slope\": \"Flat\", \"HeartDisease\": 1, \"HD\": \"True\", \"Prediction\": \"True\"}, {\"Age\": 52, \"Sex\": \"M\", \"ChestPainType\": \"ASY\", \"RestingBP\": 130, \"Cholesterol\": 0, \"FastingBS\": 1, \"RestingECG\": \"Normal\", \"MaxHR\": 120, \"ExerciseAngina\": \"N\", \"Oldpeak\": 0.0, \"ST_Slope\": \"Flat\", \"HeartDisease\": 1, \"HD\": \"True\", \"Prediction\": \"True\"}, {\"Age\": 51, \"Sex\": \"M\", \"ChestPainType\": \"ASY\", \"RestingBP\": 120, \"Cholesterol\": 0, \"FastingBS\": 1, \"RestingECG\": \"Normal\", \"MaxHR\": 104, \"ExerciseAngina\": \"N\", \"Oldpeak\": 0.0, \"ST_Slope\": \"Flat\", \"HeartDisease\": 1, \"HD\": \"True\", \"Prediction\": \"True\"}, {\"Age\": 69, \"Sex\": \"M\", \"ChestPainType\": \"ASY\", \"RestingBP\": 135, \"Cholesterol\": 0, \"FastingBS\": 0, \"RestingECG\": \"Normal\", \"MaxHR\": 130, \"ExerciseAngina\": \"N\", \"Oldpeak\": 0.0, \"ST_Slope\": \"Flat\", \"HeartDisease\": 1, \"HD\": \"True\", \"Prediction\": \"True\"}, {\"Age\": 59, \"Sex\": \"M\", \"ChestPainType\": \"ASY\", \"RestingBP\": 120, \"Cholesterol\": 0, \"FastingBS\": 0, \"RestingECG\": \"Normal\", \"MaxHR\": 115, \"ExerciseAngina\": \"N\", \"Oldpeak\": 0.0, \"ST_Slope\": \"Flat\", \"HeartDisease\": 1, \"HD\": \"True\", \"Prediction\": \"True\"}, {\"Age\": 48, \"Sex\": \"M\", \"ChestPainType\": \"ASY\", \"RestingBP\": 115, \"Cholesterol\": 0, \"FastingBS\": 1, \"RestingECG\": \"Normal\", \"MaxHR\": 128, \"ExerciseAngina\": \"N\", \"Oldpeak\": 0.0, \"ST_Slope\": \"Flat\", \"HeartDisease\": 1, \"HD\": \"True\", \"Prediction\": \"True\"}, {\"Age\": 69, \"Sex\": \"M\", \"ChestPainType\": \"ASY\", \"RestingBP\": 137, \"Cholesterol\": 0, \"FastingBS\": 0, \"RestingECG\": \"ST\", \"MaxHR\": 104, \"ExerciseAngina\": \"Y\", \"Oldpeak\": 1.6, \"ST_Slope\": \"Flat\", \"HeartDisease\": 1, \"HD\": \"True\", \"Prediction\": \"True\"}, {\"Age\": 36, \"Sex\": \"M\", \"ChestPainType\": \"ASY\", \"RestingBP\": 110, \"Cholesterol\": 0, \"FastingBS\": 1, \"RestingECG\": \"Normal\", \"MaxHR\": 125, \"ExerciseAngina\": \"Y\", \"Oldpeak\": 1.0, \"ST_Slope\": \"Flat\", \"HeartDisease\": 1, \"HD\": \"True\", \"Prediction\": \"True\"}, {\"Age\": 53, \"Sex\": \"M\", \"ChestPainType\": \"ASY\", \"RestingBP\": 120, \"Cholesterol\": 0, \"FastingBS\": 1, \"RestingECG\": \"Normal\", \"MaxHR\": 120, \"ExerciseAngina\": \"N\", \"Oldpeak\": 0.0, \"ST_Slope\": \"Flat\", \"HeartDisease\": 1, \"HD\": \"True\", \"Prediction\": \"True\"}, {\"Age\": 43, \"Sex\": \"M\", \"ChestPainType\": \"ASY\", \"RestingBP\": 140, \"Cholesterol\": 0, \"FastingBS\": 0, \"RestingECG\": \"ST\", \"MaxHR\": 140, \"ExerciseAngina\": \"Y\", \"Oldpeak\": 0.5, \"ST_Slope\": \"Up\", \"HeartDisease\": 1, \"HD\": \"True\", \"Prediction\": \"True\"}, {\"Age\": 56, \"Sex\": \"M\", \"ChestPainType\": \"ASY\", \"RestingBP\": 120, \"Cholesterol\": 0, \"FastingBS\": 0, \"RestingECG\": \"ST\", \"MaxHR\": 100, \"ExerciseAngina\": \"Y\", \"Oldpeak\": -1.0, \"ST_Slope\": \"Down\", \"HeartDisease\": 1, \"HD\": \"True\", \"Prediction\": \"True\"}, {\"Age\": 58, \"Sex\": \"M\", \"ChestPainType\": \"ASY\", \"RestingBP\": 130, \"Cholesterol\": 0, \"FastingBS\": 0, \"RestingECG\": \"ST\", \"MaxHR\": 100, \"ExerciseAngina\": \"Y\", \"Oldpeak\": 1.0, \"ST_Slope\": \"Flat\", \"HeartDisease\": 1, \"HD\": \"True\", \"Prediction\": \"True\"}, {\"Age\": 55, \"Sex\": \"M\", \"ChestPainType\": \"ASY\", \"RestingBP\": 120, \"Cholesterol\": 0, \"FastingBS\": 0, \"RestingECG\": \"ST\", \"MaxHR\": 92, \"ExerciseAngina\": \"N\", \"Oldpeak\": 0.3, \"ST_Slope\": \"Up\", \"HeartDisease\": 1, \"HD\": \"True\", \"Prediction\": \"True\"}, {\"Age\": 67, \"Sex\": \"M\", \"ChestPainType\": \"TA\", \"RestingBP\": 145, \"Cholesterol\": 0, \"FastingBS\": 0, \"RestingECG\": \"LVH\", \"MaxHR\": 125, \"ExerciseAngina\": \"N\", \"Oldpeak\": 0.0, \"ST_Slope\": \"Flat\", \"HeartDisease\": 1, \"HD\": \"True\", \"Prediction\": \"True\"}, {\"Age\": 46, \"Sex\": \"M\", \"ChestPainType\": \"ASY\", \"RestingBP\": 115, \"Cholesterol\": 0, \"FastingBS\": 0, \"RestingECG\": \"Normal\", \"MaxHR\": 113, \"ExerciseAngina\": \"Y\", \"Oldpeak\": 1.5, \"ST_Slope\": \"Flat\", \"HeartDisease\": 1, \"HD\": \"True\", \"Prediction\": \"True\"}, {\"Age\": 53, \"Sex\": \"M\", \"ChestPainType\": \"ATA\", \"RestingBP\": 120, \"Cholesterol\": 0, \"FastingBS\": 0, \"RestingECG\": \"Normal\", \"MaxHR\": 95, \"ExerciseAngina\": \"N\", \"Oldpeak\": 0.0, \"ST_Slope\": \"Flat\", \"HeartDisease\": 1, \"HD\": \"True\", \"Prediction\": \"True\"}, {\"Age\": 38, \"Sex\": \"M\", \"ChestPainType\": \"NAP\", \"RestingBP\": 115, \"Cholesterol\": 0, \"FastingBS\": 0, \"RestingECG\": \"Normal\", \"MaxHR\": 128, \"ExerciseAngina\": \"Y\", \"Oldpeak\": 0.0, \"ST_Slope\": \"Flat\", \"HeartDisease\": 1, \"HD\": \"True\", \"Prediction\": \"True\"}, {\"Age\": 53, \"Sex\": \"M\", \"ChestPainType\": \"NAP\", \"RestingBP\": 105, \"Cholesterol\": 0, \"FastingBS\": 0, \"RestingECG\": \"Normal\", \"MaxHR\": 115, \"ExerciseAngina\": \"N\", \"Oldpeak\": 0.0, \"ST_Slope\": \"Flat\", \"HeartDisease\": 1, \"HD\": \"True\", \"Prediction\": \"True\"}, {\"Age\": 62, \"Sex\": \"M\", \"ChestPainType\": \"NAP\", \"RestingBP\": 160, \"Cholesterol\": 0, \"FastingBS\": 0, \"RestingECG\": \"Normal\", \"MaxHR\": 72, \"ExerciseAngina\": \"Y\", \"Oldpeak\": 0.0, \"ST_Slope\": \"Flat\", \"HeartDisease\": 1, \"HD\": \"True\", \"Prediction\": \"True\"}, {\"Age\": 47, \"Sex\": \"M\", \"ChestPainType\": \"ASY\", \"RestingBP\": 160, \"Cholesterol\": 0, \"FastingBS\": 0, \"RestingECG\": \"Normal\", \"MaxHR\": 124, \"ExerciseAngina\": \"Y\", \"Oldpeak\": 0.0, \"ST_Slope\": \"Flat\", \"HeartDisease\": 1, \"HD\": \"True\", \"Prediction\": \"True\"}, {\"Age\": 56, \"Sex\": \"M\", \"ChestPainType\": \"NAP\", \"RestingBP\": 155, \"Cholesterol\": 0, \"FastingBS\": 0, \"RestingECG\": \"ST\", \"MaxHR\": 99, \"ExerciseAngina\": \"N\", \"Oldpeak\": 0.0, \"ST_Slope\": \"Flat\", \"HeartDisease\": 1, \"HD\": \"True\", \"Prediction\": \"True\"}, {\"Age\": 56, \"Sex\": \"M\", \"ChestPainType\": \"ASY\", \"RestingBP\": 120, \"Cholesterol\": 0, \"FastingBS\": 0, \"RestingECG\": \"ST\", \"MaxHR\": 148, \"ExerciseAngina\": \"N\", \"Oldpeak\": 0.0, \"ST_Slope\": \"Flat\", \"HeartDisease\": 1, \"HD\": \"True\", \"Prediction\": \"True\"}, {\"Age\": 56, \"Sex\": \"M\", \"ChestPainType\": \"NAP\", \"RestingBP\": 120, \"Cholesterol\": 0, \"FastingBS\": 0, \"RestingECG\": \"Normal\", \"MaxHR\": 97, \"ExerciseAngina\": \"N\", \"Oldpeak\": 0.0, \"ST_Slope\": \"Flat\", \"HeartDisease\": 0, \"HD\": \"False\", \"Prediction\": \"True\"}, {\"Age\": 64, \"Sex\": \"F\", \"ChestPainType\": \"ASY\", \"RestingBP\": 200, \"Cholesterol\": 0, \"FastingBS\": 0, \"RestingECG\": \"Normal\", \"MaxHR\": 140, \"ExerciseAngina\": \"Y\", \"Oldpeak\": 1.0, \"ST_Slope\": \"Flat\", \"HeartDisease\": 1, \"HD\": \"True\", \"Prediction\": \"True\"}, {\"Age\": 61, \"Sex\": \"M\", \"ChestPainType\": \"ASY\", \"RestingBP\": 150, \"Cholesterol\": 0, \"FastingBS\": 0, \"RestingECG\": \"Normal\", \"MaxHR\": 117, \"ExerciseAngina\": \"Y\", \"Oldpeak\": 2.0, \"ST_Slope\": \"Flat\", \"HeartDisease\": 1, \"HD\": \"True\", \"Prediction\": \"True\"}, {\"Age\": 68, \"Sex\": \"M\", \"ChestPainType\": \"ASY\", \"RestingBP\": 135, \"Cholesterol\": 0, \"FastingBS\": 0, \"RestingECG\": \"ST\", \"MaxHR\": 120, \"ExerciseAngina\": \"Y\", \"Oldpeak\": 0.0, \"ST_Slope\": \"Up\", \"HeartDisease\": 1, \"HD\": \"True\", \"Prediction\": \"True\"}, {\"Age\": 57, \"Sex\": \"M\", \"ChestPainType\": \"ASY\", \"RestingBP\": 140, \"Cholesterol\": 0, \"FastingBS\": 0, \"RestingECG\": \"Normal\", \"MaxHR\": 120, \"ExerciseAngina\": \"Y\", \"Oldpeak\": 2.0, \"ST_Slope\": \"Flat\", \"HeartDisease\": 1, \"HD\": \"True\", \"Prediction\": \"True\"}, {\"Age\": 63, \"Sex\": \"M\", \"ChestPainType\": \"ASY\", \"RestingBP\": 150, \"Cholesterol\": 0, \"FastingBS\": 0, \"RestingECG\": \"Normal\", \"MaxHR\": 86, \"ExerciseAngina\": \"Y\", \"Oldpeak\": 2.0, \"ST_Slope\": \"Flat\", \"HeartDisease\": 1, \"HD\": \"True\", \"Prediction\": \"True\"}, {\"Age\": 60, \"Sex\": \"M\", \"ChestPainType\": \"ASY\", \"RestingBP\": 135, \"Cholesterol\": 0, \"FastingBS\": 0, \"RestingECG\": \"Normal\", \"MaxHR\": 63, \"ExerciseAngina\": \"Y\", \"Oldpeak\": 0.5, \"ST_Slope\": \"Up\", \"HeartDisease\": 1, \"HD\": \"True\", \"Prediction\": \"True\"}, {\"Age\": 66, \"Sex\": \"M\", \"ChestPainType\": \"ASY\", \"RestingBP\": 150, \"Cholesterol\": 0, \"FastingBS\": 0, \"RestingECG\": \"Normal\", \"MaxHR\": 108, \"ExerciseAngina\": \"Y\", \"Oldpeak\": 2.0, \"ST_Slope\": \"Flat\", \"HeartDisease\": 1, \"HD\": \"True\", \"Prediction\": \"True\"}, {\"Age\": 63, \"Sex\": \"M\", \"ChestPainType\": \"ASY\", \"RestingBP\": 185, \"Cholesterol\": 0, \"FastingBS\": 0, \"RestingECG\": \"Normal\", \"MaxHR\": 98, \"ExerciseAngina\": \"Y\", \"Oldpeak\": 0.0, \"ST_Slope\": \"Up\", \"HeartDisease\": 1, \"HD\": \"True\", \"Prediction\": \"True\"}, {\"Age\": 59, \"Sex\": \"M\", \"ChestPainType\": \"ASY\", \"RestingBP\": 135, \"Cholesterol\": 0, \"FastingBS\": 0, \"RestingECG\": \"Normal\", \"MaxHR\": 115, \"ExerciseAngina\": \"Y\", \"Oldpeak\": 1.0, \"ST_Slope\": \"Flat\", \"HeartDisease\": 1, \"HD\": \"True\", \"Prediction\": \"True\"}, {\"Age\": 61, \"Sex\": \"M\", \"ChestPainType\": \"ASY\", \"RestingBP\": 125, \"Cholesterol\": 0, \"FastingBS\": 0, \"RestingECG\": \"Normal\", \"MaxHR\": 105, \"ExerciseAngina\": \"Y\", \"Oldpeak\": 0.0, \"ST_Slope\": \"Down\", \"HeartDisease\": 1, \"HD\": \"True\", \"Prediction\": \"True\"}, {\"Age\": 73, \"Sex\": \"F\", \"ChestPainType\": \"NAP\", \"RestingBP\": 160, \"Cholesterol\": 0, \"FastingBS\": 0, \"RestingECG\": \"ST\", \"MaxHR\": 121, \"ExerciseAngina\": \"N\", \"Oldpeak\": 0.0, \"ST_Slope\": \"Up\", \"HeartDisease\": 1, \"HD\": \"True\", \"Prediction\": \"True\"}, {\"Age\": 47, \"Sex\": \"M\", \"ChestPainType\": \"NAP\", \"RestingBP\": 155, \"Cholesterol\": 0, \"FastingBS\": 0, \"RestingECG\": \"Normal\", \"MaxHR\": 118, \"ExerciseAngina\": \"Y\", \"Oldpeak\": 1.0, \"ST_Slope\": \"Flat\", \"HeartDisease\": 1, \"HD\": \"True\", \"Prediction\": \"True\"}, {\"Age\": 65, \"Sex\": \"M\", \"ChestPainType\": \"ASY\", \"RestingBP\": 160, \"Cholesterol\": 0, \"FastingBS\": 1, \"RestingECG\": \"ST\", \"MaxHR\": 122, \"ExerciseAngina\": \"N\", \"Oldpeak\": 1.2, \"ST_Slope\": \"Flat\", \"HeartDisease\": 1, \"HD\": \"True\", \"Prediction\": \"True\"}, {\"Age\": 70, \"Sex\": \"M\", \"ChestPainType\": \"ASY\", \"RestingBP\": 140, \"Cholesterol\": 0, \"FastingBS\": 1, \"RestingECG\": \"Normal\", \"MaxHR\": 157, \"ExerciseAngina\": \"Y\", \"Oldpeak\": 2.0, \"ST_Slope\": \"Flat\", \"HeartDisease\": 1, \"HD\": \"True\", \"Prediction\": \"True\"}, {\"Age\": 50, \"Sex\": \"M\", \"ChestPainType\": \"ASY\", \"RestingBP\": 120, \"Cholesterol\": 0, \"FastingBS\": 0, \"RestingECG\": \"ST\", \"MaxHR\": 156, \"ExerciseAngina\": \"Y\", \"Oldpeak\": 0.0, \"ST_Slope\": \"Up\", \"HeartDisease\": 1, \"HD\": \"True\", \"Prediction\": \"True\"}, {\"Age\": 60, \"Sex\": \"M\", \"ChestPainType\": \"ASY\", \"RestingBP\": 160, \"Cholesterol\": 0, \"FastingBS\": 0, \"RestingECG\": \"ST\", \"MaxHR\": 99, \"ExerciseAngina\": \"Y\", \"Oldpeak\": 0.5, \"ST_Slope\": \"Flat\", \"HeartDisease\": 1, \"HD\": \"True\", \"Prediction\": \"True\"}, {\"Age\": 50, \"Sex\": \"M\", \"ChestPainType\": \"ASY\", \"RestingBP\": 115, \"Cholesterol\": 0, \"FastingBS\": 0, \"RestingECG\": \"Normal\", \"MaxHR\": 120, \"ExerciseAngina\": \"Y\", \"Oldpeak\": 0.5, \"ST_Slope\": \"Flat\", \"HeartDisease\": 1, \"HD\": \"True\", \"Prediction\": \"True\"}, {\"Age\": 43, \"Sex\": \"M\", \"ChestPainType\": \"ASY\", \"RestingBP\": 115, \"Cholesterol\": 0, \"FastingBS\": 0, \"RestingECG\": \"Normal\", \"MaxHR\": 145, \"ExerciseAngina\": \"Y\", \"Oldpeak\": 2.0, \"ST_Slope\": \"Flat\", \"HeartDisease\": 1, \"HD\": \"True\", \"Prediction\": \"True\"}, {\"Age\": 38, \"Sex\": \"F\", \"ChestPainType\": \"ASY\", \"RestingBP\": 110, \"Cholesterol\": 0, \"FastingBS\": 0, \"RestingECG\": \"Normal\", \"MaxHR\": 156, \"ExerciseAngina\": \"N\", \"Oldpeak\": 0.0, \"ST_Slope\": \"Flat\", \"HeartDisease\": 1, \"HD\": \"True\", \"Prediction\": \"True\"}, {\"Age\": 54, \"Sex\": \"M\", \"ChestPainType\": \"ASY\", \"RestingBP\": 120, \"Cholesterol\": 0, \"FastingBS\": 0, \"RestingECG\": \"Normal\", \"MaxHR\": 155, \"ExerciseAngina\": \"N\", \"Oldpeak\": 0.0, \"ST_Slope\": \"Flat\", \"HeartDisease\": 1, \"HD\": \"True\", \"Prediction\": \"True\"}, {\"Age\": 61, \"Sex\": \"M\", \"ChestPainType\": \"ASY\", \"RestingBP\": 150, \"Cholesterol\": 0, \"FastingBS\": 0, \"RestingECG\": \"Normal\", \"MaxHR\": 105, \"ExerciseAngina\": \"Y\", \"Oldpeak\": 0.0, \"ST_Slope\": \"Flat\", \"HeartDisease\": 1, \"HD\": \"True\", \"Prediction\": \"True\"}, {\"Age\": 42, \"Sex\": \"M\", \"ChestPainType\": \"ASY\", \"RestingBP\": 145, \"Cholesterol\": 0, \"FastingBS\": 0, \"RestingECG\": \"Normal\", \"MaxHR\": 99, \"ExerciseAngina\": \"Y\", \"Oldpeak\": 0.0, \"ST_Slope\": \"Flat\", \"HeartDisease\": 1, \"HD\": \"True\", \"Prediction\": \"True\"}, {\"Age\": 53, \"Sex\": \"M\", \"ChestPainType\": \"ASY\", \"RestingBP\": 130, \"Cholesterol\": 0, \"FastingBS\": 0, \"RestingECG\": \"LVH\", \"MaxHR\": 135, \"ExerciseAngina\": \"Y\", \"Oldpeak\": 1.0, \"ST_Slope\": \"Flat\", \"HeartDisease\": 1, \"HD\": \"True\", \"Prediction\": \"True\"}, {\"Age\": 55, \"Sex\": \"M\", \"ChestPainType\": \"ASY\", \"RestingBP\": 140, \"Cholesterol\": 0, \"FastingBS\": 0, \"RestingECG\": \"Normal\", \"MaxHR\": 83, \"ExerciseAngina\": \"N\", \"Oldpeak\": 0.0, \"ST_Slope\": \"Flat\", \"HeartDisease\": 1, \"HD\": \"True\", \"Prediction\": \"True\"}, {\"Age\": 61, \"Sex\": \"M\", \"ChestPainType\": \"ASY\", \"RestingBP\": 160, \"Cholesterol\": 0, \"FastingBS\": 1, \"RestingECG\": \"ST\", \"MaxHR\": 145, \"ExerciseAngina\": \"N\", \"Oldpeak\": 1.0, \"ST_Slope\": \"Flat\", \"HeartDisease\": 1, \"HD\": \"True\", \"Prediction\": \"True\"}, {\"Age\": 51, \"Sex\": \"M\", \"ChestPainType\": \"ASY\", \"RestingBP\": 140, \"Cholesterol\": 0, \"FastingBS\": 0, \"RestingECG\": \"Normal\", \"MaxHR\": 60, \"ExerciseAngina\": \"N\", \"Oldpeak\": 0.0, \"ST_Slope\": \"Flat\", \"HeartDisease\": 1, \"HD\": \"True\", \"Prediction\": \"True\"}, {\"Age\": 70, \"Sex\": \"M\", \"ChestPainType\": \"ASY\", \"RestingBP\": 115, \"Cholesterol\": 0, \"FastingBS\": 0, \"RestingECG\": \"ST\", \"MaxHR\": 92, \"ExerciseAngina\": \"Y\", \"Oldpeak\": 0.0, \"ST_Slope\": \"Flat\", \"HeartDisease\": 1, \"HD\": \"True\", \"Prediction\": \"True\"}, {\"Age\": 61, \"Sex\": \"M\", \"ChestPainType\": \"ASY\", \"RestingBP\": 130, \"Cholesterol\": 0, \"FastingBS\": 0, \"RestingECG\": \"LVH\", \"MaxHR\": 115, \"ExerciseAngina\": \"N\", \"Oldpeak\": 0.0, \"ST_Slope\": \"Flat\", \"HeartDisease\": 1, \"HD\": \"True\", \"Prediction\": \"True\"}, {\"Age\": 38, \"Sex\": \"M\", \"ChestPainType\": \"ASY\", \"RestingBP\": 150, \"Cholesterol\": 0, \"FastingBS\": 1, \"RestingECG\": \"Normal\", \"MaxHR\": 120, \"ExerciseAngina\": \"Y\", \"Oldpeak\": 0.7, \"ST_Slope\": \"Flat\", \"HeartDisease\": 1, \"HD\": \"True\", \"Prediction\": \"True\"}, {\"Age\": 57, \"Sex\": \"M\", \"ChestPainType\": \"ASY\", \"RestingBP\": 160, \"Cholesterol\": 0, \"FastingBS\": 1, \"RestingECG\": \"Normal\", \"MaxHR\": 98, \"ExerciseAngina\": \"Y\", \"Oldpeak\": 2.0, \"ST_Slope\": \"Flat\", \"HeartDisease\": 1, \"HD\": \"True\", \"Prediction\": \"True\"}, {\"Age\": 38, \"Sex\": \"M\", \"ChestPainType\": \"ASY\", \"RestingBP\": 135, \"Cholesterol\": 0, \"FastingBS\": 1, \"RestingECG\": \"Normal\", \"MaxHR\": 150, \"ExerciseAngina\": \"N\", \"Oldpeak\": 0.0, \"ST_Slope\": \"Flat\", \"HeartDisease\": 1, \"HD\": \"True\", \"Prediction\": \"True\"}, {\"Age\": 62, \"Sex\": \"F\", \"ChestPainType\": \"TA\", \"RestingBP\": 140, \"Cholesterol\": 0, \"FastingBS\": 1, \"RestingECG\": \"Normal\", \"MaxHR\": 143, \"ExerciseAngina\": \"N\", \"Oldpeak\": 0.0, \"ST_Slope\": \"Flat\", \"HeartDisease\": 1, \"HD\": \"True\", \"Prediction\": \"True\"}, {\"Age\": 58, \"Sex\": \"M\", \"ChestPainType\": \"ASY\", \"RestingBP\": 170, \"Cholesterol\": 0, \"FastingBS\": 1, \"RestingECG\": \"ST\", \"MaxHR\": 105, \"ExerciseAngina\": \"Y\", \"Oldpeak\": 0.0, \"ST_Slope\": \"Flat\", \"HeartDisease\": 1, \"HD\": \"True\", \"Prediction\": \"True\"}, {\"Age\": 52, \"Sex\": \"M\", \"ChestPainType\": \"ASY\", \"RestingBP\": 165, \"Cholesterol\": 0, \"FastingBS\": 1, \"RestingECG\": \"Normal\", \"MaxHR\": 122, \"ExerciseAngina\": \"Y\", \"Oldpeak\": 1.0, \"ST_Slope\": \"Up\", \"HeartDisease\": 1, \"HD\": \"True\", \"Prediction\": \"True\"}, {\"Age\": 61, \"Sex\": \"M\", \"ChestPainType\": \"NAP\", \"RestingBP\": 200, \"Cholesterol\": 0, \"FastingBS\": 1, \"RestingECG\": \"ST\", \"MaxHR\": 70, \"ExerciseAngina\": \"N\", \"Oldpeak\": 0.0, \"ST_Slope\": \"Flat\", \"HeartDisease\": 1, \"HD\": \"True\", \"Prediction\": \"True\"}, {\"Age\": 50, \"Sex\": \"F\", \"ChestPainType\": \"ASY\", \"RestingBP\": 160, \"Cholesterol\": 0, \"FastingBS\": 1, \"RestingECG\": \"Normal\", \"MaxHR\": 110, \"ExerciseAngina\": \"N\", \"Oldpeak\": 0.0, \"ST_Slope\": \"Flat\", \"HeartDisease\": 1, \"HD\": \"True\", \"Prediction\": \"True\"}, {\"Age\": 51, \"Sex\": \"M\", \"ChestPainType\": \"ASY\", \"RestingBP\": 130, \"Cholesterol\": 0, \"FastingBS\": 1, \"RestingECG\": \"ST\", \"MaxHR\": 163, \"ExerciseAngina\": \"N\", \"Oldpeak\": 0.0, \"ST_Slope\": \"Flat\", \"HeartDisease\": 1, \"HD\": \"True\", \"Prediction\": \"True\"}, {\"Age\": 65, \"Sex\": \"M\", \"ChestPainType\": \"ASY\", \"RestingBP\": 145, \"Cholesterol\": 0, \"FastingBS\": 1, \"RestingECG\": \"ST\", \"MaxHR\": 67, \"ExerciseAngina\": \"N\", \"Oldpeak\": 0.7, \"ST_Slope\": \"Flat\", \"HeartDisease\": 1, \"HD\": \"True\", \"Prediction\": \"True\"}, {\"Age\": 52, \"Sex\": \"M\", \"ChestPainType\": \"ASY\", \"RestingBP\": 135, \"Cholesterol\": 0, \"FastingBS\": 1, \"RestingECG\": \"Normal\", \"MaxHR\": 128, \"ExerciseAngina\": \"Y\", \"Oldpeak\": 2.0, \"ST_Slope\": \"Flat\", \"HeartDisease\": 1, \"HD\": \"True\", \"Prediction\": \"True\"}, {\"Age\": 47, \"Sex\": \"M\", \"ChestPainType\": \"NAP\", \"RestingBP\": 110, \"Cholesterol\": 0, \"FastingBS\": 1, \"RestingECG\": \"Normal\", \"MaxHR\": 120, \"ExerciseAngina\": \"Y\", \"Oldpeak\": 0.0, \"ST_Slope\": \"Flat\", \"HeartDisease\": 1, \"HD\": \"True\", \"Prediction\": \"True\"}, {\"Age\": 35, \"Sex\": \"M\", \"ChestPainType\": \"ASY\", \"RestingBP\": 120, \"Cholesterol\": 0, \"FastingBS\": 1, \"RestingECG\": \"Normal\", \"MaxHR\": 130, \"ExerciseAngina\": \"Y\", \"Oldpeak\": 1.2, \"ST_Slope\": \"Flat\", \"HeartDisease\": 1, \"HD\": \"True\", \"Prediction\": \"True\"}, {\"Age\": 57, \"Sex\": \"M\", \"ChestPainType\": \"ASY\", \"RestingBP\": 140, \"Cholesterol\": 0, \"FastingBS\": 1, \"RestingECG\": \"Normal\", \"MaxHR\": 100, \"ExerciseAngina\": \"Y\", \"Oldpeak\": 0.0, \"ST_Slope\": \"Flat\", \"HeartDisease\": 1, \"HD\": \"True\", \"Prediction\": \"True\"}, {\"Age\": 62, \"Sex\": \"M\", \"ChestPainType\": \"ASY\", \"RestingBP\": 115, \"Cholesterol\": 0, \"FastingBS\": 1, \"RestingECG\": \"Normal\", \"MaxHR\": 72, \"ExerciseAngina\": \"Y\", \"Oldpeak\": -0.5, \"ST_Slope\": \"Flat\", \"HeartDisease\": 1, \"HD\": \"True\", \"Prediction\": \"True\"}, {\"Age\": 59, \"Sex\": \"M\", \"ChestPainType\": \"ASY\", \"RestingBP\": 110, \"Cholesterol\": 0, \"FastingBS\": 1, \"RestingECG\": \"Normal\", \"MaxHR\": 94, \"ExerciseAngina\": \"N\", \"Oldpeak\": 0.0, \"ST_Slope\": \"Flat\", \"HeartDisease\": 1, \"HD\": \"True\", \"Prediction\": \"True\"}, {\"Age\": 53, \"Sex\": \"M\", \"ChestPainType\": \"NAP\", \"RestingBP\": 160, \"Cholesterol\": 0, \"FastingBS\": 1, \"RestingECG\": \"LVH\", \"MaxHR\": 122, \"ExerciseAngina\": \"Y\", \"Oldpeak\": 0.0, \"ST_Slope\": \"Flat\", \"HeartDisease\": 1, \"HD\": \"True\", \"Prediction\": \"True\"}, {\"Age\": 62, \"Sex\": \"M\", \"ChestPainType\": \"ASY\", \"RestingBP\": 150, \"Cholesterol\": 0, \"FastingBS\": 1, \"RestingECG\": \"ST\", \"MaxHR\": 78, \"ExerciseAngina\": \"N\", \"Oldpeak\": 2.0, \"ST_Slope\": \"Flat\", \"HeartDisease\": 1, \"HD\": \"True\", \"Prediction\": \"True\"}, {\"Age\": 54, \"Sex\": \"M\", \"ChestPainType\": \"ASY\", \"RestingBP\": 180, \"Cholesterol\": 0, \"FastingBS\": 1, \"RestingECG\": \"Normal\", \"MaxHR\": 150, \"ExerciseAngina\": \"N\", \"Oldpeak\": 1.5, \"ST_Slope\": \"Flat\", \"HeartDisease\": 1, \"HD\": \"True\", \"Prediction\": \"True\"}, {\"Age\": 56, \"Sex\": \"M\", \"ChestPainType\": \"ASY\", \"RestingBP\": 125, \"Cholesterol\": 0, \"FastingBS\": 1, \"RestingECG\": \"Normal\", \"MaxHR\": 103, \"ExerciseAngina\": \"Y\", \"Oldpeak\": 1.0, \"ST_Slope\": \"Flat\", \"HeartDisease\": 1, \"HD\": \"True\", \"Prediction\": \"True\"}, {\"Age\": 56, \"Sex\": \"M\", \"ChestPainType\": \"NAP\", \"RestingBP\": 125, \"Cholesterol\": 0, \"FastingBS\": 1, \"RestingECG\": \"Normal\", \"MaxHR\": 98, \"ExerciseAngina\": \"N\", \"Oldpeak\": -2.0, \"ST_Slope\": \"Flat\", \"HeartDisease\": 1, \"HD\": \"True\", \"Prediction\": \"True\"}, {\"Age\": 54, \"Sex\": \"M\", \"ChestPainType\": \"ASY\", \"RestingBP\": 130, \"Cholesterol\": 0, \"FastingBS\": 1, \"RestingECG\": \"Normal\", \"MaxHR\": 110, \"ExerciseAngina\": \"Y\", \"Oldpeak\": 3.0, \"ST_Slope\": \"Flat\", \"HeartDisease\": 1, \"HD\": \"True\", \"Prediction\": \"True\"}, {\"Age\": 66, \"Sex\": \"F\", \"ChestPainType\": \"ASY\", \"RestingBP\": 155, \"Cholesterol\": 0, \"FastingBS\": 1, \"RestingECG\": \"Normal\", \"MaxHR\": 90, \"ExerciseAngina\": \"N\", \"Oldpeak\": 0.0, \"ST_Slope\": \"Flat\", \"HeartDisease\": 1, \"HD\": \"True\", \"Prediction\": \"True\"}, {\"Age\": 63, \"Sex\": \"M\", \"ChestPainType\": \"ASY\", \"RestingBP\": 140, \"Cholesterol\": 260, \"FastingBS\": 0, \"RestingECG\": \"ST\", \"MaxHR\": 112, \"ExerciseAngina\": \"Y\", \"Oldpeak\": 3.0, \"ST_Slope\": \"Flat\", \"HeartDisease\": 1, \"HD\": \"True\", \"Prediction\": \"True\"}, {\"Age\": 44, \"Sex\": \"M\", \"ChestPainType\": \"ASY\", \"RestingBP\": 130, \"Cholesterol\": 209, \"FastingBS\": 0, \"RestingECG\": \"ST\", \"MaxHR\": 127, \"ExerciseAngina\": \"N\", \"Oldpeak\": 0.0, \"ST_Slope\": \"Up\", \"HeartDisease\": 0, \"HD\": \"False\", \"Prediction\": \"False\"}, {\"Age\": 60, \"Sex\": \"M\", \"ChestPainType\": \"ASY\", \"RestingBP\": 132, \"Cholesterol\": 218, \"FastingBS\": 0, \"RestingECG\": \"ST\", \"MaxHR\": 140, \"ExerciseAngina\": \"Y\", \"Oldpeak\": 1.5, \"ST_Slope\": \"Down\", \"HeartDisease\": 1, \"HD\": \"True\", \"Prediction\": \"True\"}, {\"Age\": 55, \"Sex\": \"M\", \"ChestPainType\": \"ASY\", \"RestingBP\": 142, \"Cholesterol\": 228, \"FastingBS\": 0, \"RestingECG\": \"ST\", \"MaxHR\": 149, \"ExerciseAngina\": \"Y\", \"Oldpeak\": 2.5, \"ST_Slope\": \"Up\", \"HeartDisease\": 1, \"HD\": \"True\", \"Prediction\": \"False\"}, {\"Age\": 66, \"Sex\": \"M\", \"ChestPainType\": \"NAP\", \"RestingBP\": 110, \"Cholesterol\": 213, \"FastingBS\": 1, \"RestingECG\": \"LVH\", \"MaxHR\": 99, \"ExerciseAngina\": \"Y\", \"Oldpeak\": 1.3, \"ST_Slope\": \"Flat\", \"HeartDisease\": 0, \"HD\": \"False\", \"Prediction\": \"False\"}, {\"Age\": 66, \"Sex\": \"M\", \"ChestPainType\": \"NAP\", \"RestingBP\": 120, \"Cholesterol\": 0, \"FastingBS\": 0, \"RestingECG\": \"ST\", \"MaxHR\": 120, \"ExerciseAngina\": \"N\", \"Oldpeak\": -0.5, \"ST_Slope\": \"Up\", \"HeartDisease\": 0, \"HD\": \"False\", \"Prediction\": \"True\"}, {\"Age\": 65, \"Sex\": \"M\", \"ChestPainType\": \"ASY\", \"RestingBP\": 150, \"Cholesterol\": 236, \"FastingBS\": 1, \"RestingECG\": \"ST\", \"MaxHR\": 105, \"ExerciseAngina\": \"Y\", \"Oldpeak\": 0.0, \"ST_Slope\": \"Flat\", \"HeartDisease\": 1, \"HD\": \"True\", \"Prediction\": \"True\"}, {\"Age\": 60, \"Sex\": \"M\", \"ChestPainType\": \"NAP\", \"RestingBP\": 180, \"Cholesterol\": 0, \"FastingBS\": 0, \"RestingECG\": \"ST\", \"MaxHR\": 140, \"ExerciseAngina\": \"Y\", \"Oldpeak\": 1.5, \"ST_Slope\": \"Flat\", \"HeartDisease\": 0, \"HD\": \"False\", \"Prediction\": \"True\"}, {\"Age\": 60, \"Sex\": \"M\", \"ChestPainType\": \"NAP\", \"RestingBP\": 120, \"Cholesterol\": 0, \"FastingBS\": 1, \"RestingECG\": \"Normal\", \"MaxHR\": 141, \"ExerciseAngina\": \"Y\", \"Oldpeak\": 2.0, \"ST_Slope\": \"Up\", \"HeartDisease\": 1, \"HD\": \"True\", \"Prediction\": \"True\"}, {\"Age\": 60, \"Sex\": \"M\", \"ChestPainType\": \"ATA\", \"RestingBP\": 160, \"Cholesterol\": 267, \"FastingBS\": 1, \"RestingECG\": \"ST\", \"MaxHR\": 157, \"ExerciseAngina\": \"N\", \"Oldpeak\": 0.5, \"ST_Slope\": \"Flat\", \"HeartDisease\": 1, \"HD\": \"True\", \"Prediction\": \"False\"}, {\"Age\": 56, \"Sex\": \"M\", \"ChestPainType\": \"ATA\", \"RestingBP\": 126, \"Cholesterol\": 166, \"FastingBS\": 0, \"RestingECG\": \"ST\", \"MaxHR\": 140, \"ExerciseAngina\": \"N\", \"Oldpeak\": 0.0, \"ST_Slope\": \"Up\", \"HeartDisease\": 0, \"HD\": \"False\", \"Prediction\": \"False\"}, {\"Age\": 59, \"Sex\": \"M\", \"ChestPainType\": \"ASY\", \"RestingBP\": 140, \"Cholesterol\": 0, \"FastingBS\": 0, \"RestingECG\": \"ST\", \"MaxHR\": 117, \"ExerciseAngina\": \"Y\", \"Oldpeak\": 1.0, \"ST_Slope\": \"Flat\", \"HeartDisease\": 1, \"HD\": \"True\", \"Prediction\": \"True\"}, {\"Age\": 62, \"Sex\": \"M\", \"ChestPainType\": \"ASY\", \"RestingBP\": 110, \"Cholesterol\": 0, \"FastingBS\": 0, \"RestingECG\": \"Normal\", \"MaxHR\": 120, \"ExerciseAngina\": \"Y\", \"Oldpeak\": 0.5, \"ST_Slope\": \"Flat\", \"HeartDisease\": 1, \"HD\": \"True\", \"Prediction\": \"True\"}, {\"Age\": 63, \"Sex\": \"M\", \"ChestPainType\": \"NAP\", \"RestingBP\": 133, \"Cholesterol\": 0, \"FastingBS\": 0, \"RestingECG\": \"LVH\", \"MaxHR\": 120, \"ExerciseAngina\": \"Y\", \"Oldpeak\": 1.0, \"ST_Slope\": \"Flat\", \"HeartDisease\": 1, \"HD\": \"True\", \"Prediction\": \"True\"}, {\"Age\": 57, \"Sex\": \"M\", \"ChestPainType\": \"ASY\", \"RestingBP\": 128, \"Cholesterol\": 0, \"FastingBS\": 1, \"RestingECG\": \"ST\", \"MaxHR\": 148, \"ExerciseAngina\": \"Y\", \"Oldpeak\": 1.0, \"ST_Slope\": \"Flat\", \"HeartDisease\": 1, \"HD\": \"True\", \"Prediction\": \"True\"}, {\"Age\": 62, \"Sex\": \"M\", \"ChestPainType\": \"ASY\", \"RestingBP\": 120, \"Cholesterol\": 220, \"FastingBS\": 0, \"RestingECG\": \"ST\", \"MaxHR\": 86, \"ExerciseAngina\": \"N\", \"Oldpeak\": 0.0, \"ST_Slope\": \"Up\", \"HeartDisease\": 0, \"HD\": \"False\", \"Prediction\": \"False\"}, {\"Age\": 63, \"Sex\": \"M\", \"ChestPainType\": \"ASY\", \"RestingBP\": 170, \"Cholesterol\": 177, \"FastingBS\": 0, \"RestingECG\": \"Normal\", \"MaxHR\": 84, \"ExerciseAngina\": \"Y\", \"Oldpeak\": 2.5, \"ST_Slope\": \"Down\", \"HeartDisease\": 1, \"HD\": \"True\", \"Prediction\": \"True\"}, {\"Age\": 46, \"Sex\": \"M\", \"ChestPainType\": \"ASY\", \"RestingBP\": 110, \"Cholesterol\": 236, \"FastingBS\": 0, \"RestingECG\": \"Normal\", \"MaxHR\": 125, \"ExerciseAngina\": \"Y\", \"Oldpeak\": 2.0, \"ST_Slope\": \"Flat\", \"HeartDisease\": 1, \"HD\": \"True\", \"Prediction\": \"True\"}, {\"Age\": 63, \"Sex\": \"M\", \"ChestPainType\": \"ASY\", \"RestingBP\": 126, \"Cholesterol\": 0, \"FastingBS\": 0, \"RestingECG\": \"ST\", \"MaxHR\": 120, \"ExerciseAngina\": \"N\", \"Oldpeak\": 1.5, \"ST_Slope\": \"Down\", \"HeartDisease\": 0, \"HD\": \"False\", \"Prediction\": \"True\"}, {\"Age\": 60, \"Sex\": \"M\", \"ChestPainType\": \"ASY\", \"RestingBP\": 152, \"Cholesterol\": 0, \"FastingBS\": 0, \"RestingECG\": \"ST\", \"MaxHR\": 118, \"ExerciseAngina\": \"Y\", \"Oldpeak\": 0.0, \"ST_Slope\": \"Up\", \"HeartDisease\": 0, \"HD\": \"False\", \"Prediction\": \"True\"}, {\"Age\": 58, \"Sex\": \"M\", \"ChestPainType\": \"ASY\", \"RestingBP\": 116, \"Cholesterol\": 0, \"FastingBS\": 0, \"RestingECG\": \"Normal\", \"MaxHR\": 124, \"ExerciseAngina\": \"N\", \"Oldpeak\": 1.0, \"ST_Slope\": \"Up\", \"HeartDisease\": 1, \"HD\": \"True\", \"Prediction\": \"True\"}, {\"Age\": 64, \"Sex\": \"M\", \"ChestPainType\": \"ASY\", \"RestingBP\": 120, \"Cholesterol\": 0, \"FastingBS\": 1, \"RestingECG\": \"ST\", \"MaxHR\": 106, \"ExerciseAngina\": \"N\", \"Oldpeak\": 2.0, \"ST_Slope\": \"Flat\", \"HeartDisease\": 1, \"HD\": \"True\", \"Prediction\": \"True\"}, {\"Age\": 63, \"Sex\": \"M\", \"ChestPainType\": \"NAP\", \"RestingBP\": 130, \"Cholesterol\": 0, \"FastingBS\": 0, \"RestingECG\": \"ST\", \"MaxHR\": 111, \"ExerciseAngina\": \"Y\", \"Oldpeak\": 0.0, \"ST_Slope\": \"Flat\", \"HeartDisease\": 1, \"HD\": \"True\", \"Prediction\": \"True\"}, {\"Age\": 74, \"Sex\": \"M\", \"ChestPainType\": \"NAP\", \"RestingBP\": 138, \"Cholesterol\": 0, \"FastingBS\": 0, \"RestingECG\": \"Normal\", \"MaxHR\": 116, \"ExerciseAngina\": \"N\", \"Oldpeak\": 0.2, \"ST_Slope\": \"Up\", \"HeartDisease\": 0, \"HD\": \"False\", \"Prediction\": \"True\"}, {\"Age\": 52, \"Sex\": \"M\", \"ChestPainType\": \"NAP\", \"RestingBP\": 128, \"Cholesterol\": 0, \"FastingBS\": 0, \"RestingECG\": \"ST\", \"MaxHR\": 180, \"ExerciseAngina\": \"N\", \"Oldpeak\": 3.0, \"ST_Slope\": \"Up\", \"HeartDisease\": 1, \"HD\": \"True\", \"Prediction\": \"True\"}, {\"Age\": 69, \"Sex\": \"M\", \"ChestPainType\": \"ASY\", \"RestingBP\": 130, \"Cholesterol\": 0, \"FastingBS\": 1, \"RestingECG\": \"ST\", \"MaxHR\": 129, \"ExerciseAngina\": \"N\", \"Oldpeak\": 1.0, \"ST_Slope\": \"Flat\", \"HeartDisease\": 1, \"HD\": \"True\", \"Prediction\": \"True\"}, {\"Age\": 51, \"Sex\": \"M\", \"ChestPainType\": \"ASY\", \"RestingBP\": 128, \"Cholesterol\": 0, \"FastingBS\": 1, \"RestingECG\": \"ST\", \"MaxHR\": 125, \"ExerciseAngina\": \"Y\", \"Oldpeak\": 1.2, \"ST_Slope\": \"Flat\", \"HeartDisease\": 1, \"HD\": \"True\", \"Prediction\": \"True\"}, {\"Age\": 60, \"Sex\": \"M\", \"ChestPainType\": \"ASY\", \"RestingBP\": 130, \"Cholesterol\": 186, \"FastingBS\": 1, \"RestingECG\": \"ST\", \"MaxHR\": 140, \"ExerciseAngina\": \"Y\", \"Oldpeak\": 0.5, \"ST_Slope\": \"Flat\", \"HeartDisease\": 1, \"HD\": \"True\", \"Prediction\": \"False\"}, {\"Age\": 56, \"Sex\": \"M\", \"ChestPainType\": \"ASY\", \"RestingBP\": 120, \"Cholesterol\": 100, \"FastingBS\": 0, \"RestingECG\": \"Normal\", \"MaxHR\": 120, \"ExerciseAngina\": \"Y\", \"Oldpeak\": 1.5, \"ST_Slope\": \"Flat\", \"HeartDisease\": 1, \"HD\": \"True\", \"Prediction\": \"True\"}, {\"Age\": 55, \"Sex\": \"M\", \"ChestPainType\": \"NAP\", \"RestingBP\": 136, \"Cholesterol\": 228, \"FastingBS\": 0, \"RestingECG\": \"ST\", \"MaxHR\": 124, \"ExerciseAngina\": \"Y\", \"Oldpeak\": 1.6, \"ST_Slope\": \"Flat\", \"HeartDisease\": 1, \"HD\": \"True\", \"Prediction\": \"False\"}, {\"Age\": 54, \"Sex\": \"M\", \"ChestPainType\": \"ASY\", \"RestingBP\": 130, \"Cholesterol\": 0, \"FastingBS\": 0, \"RestingECG\": \"ST\", \"MaxHR\": 117, \"ExerciseAngina\": \"Y\", \"Oldpeak\": 1.4, \"ST_Slope\": \"Flat\", \"HeartDisease\": 1, \"HD\": \"True\", \"Prediction\": \"True\"}, {\"Age\": 77, \"Sex\": \"M\", \"ChestPainType\": \"ASY\", \"RestingBP\": 124, \"Cholesterol\": 171, \"FastingBS\": 0, \"RestingECG\": \"ST\", \"MaxHR\": 110, \"ExerciseAngina\": \"Y\", \"Oldpeak\": 2.0, \"ST_Slope\": \"Up\", \"HeartDisease\": 1, \"HD\": \"True\", \"Prediction\": \"True\"}, {\"Age\": 63, \"Sex\": \"M\", \"ChestPainType\": \"ASY\", \"RestingBP\": 160, \"Cholesterol\": 230, \"FastingBS\": 1, \"RestingECG\": \"Normal\", \"MaxHR\": 105, \"ExerciseAngina\": \"Y\", \"Oldpeak\": 1.0, \"ST_Slope\": \"Flat\", \"HeartDisease\": 1, \"HD\": \"True\", \"Prediction\": \"True\"}, {\"Age\": 55, \"Sex\": \"M\", \"ChestPainType\": \"NAP\", \"RestingBP\": 0, \"Cholesterol\": 0, \"FastingBS\": 0, \"RestingECG\": \"Normal\", \"MaxHR\": 155, \"ExerciseAngina\": \"N\", \"Oldpeak\": 1.5, \"ST_Slope\": \"Flat\", \"HeartDisease\": 1, \"HD\": \"True\", \"Prediction\": \"True\"}, {\"Age\": 52, \"Sex\": \"M\", \"ChestPainType\": \"NAP\", \"RestingBP\": 122, \"Cholesterol\": 0, \"FastingBS\": 0, \"RestingECG\": \"Normal\", \"MaxHR\": 110, \"ExerciseAngina\": \"Y\", \"Oldpeak\": 2.0, \"ST_Slope\": \"Down\", \"HeartDisease\": 1, \"HD\": \"True\", \"Prediction\": \"True\"}, {\"Age\": 64, \"Sex\": \"M\", \"ChestPainType\": \"ASY\", \"RestingBP\": 144, \"Cholesterol\": 0, \"FastingBS\": 0, \"RestingECG\": \"ST\", \"MaxHR\": 122, \"ExerciseAngina\": \"Y\", \"Oldpeak\": 1.0, \"ST_Slope\": \"Flat\", \"HeartDisease\": 1, \"HD\": \"True\", \"Prediction\": \"True\"}, {\"Age\": 60, \"Sex\": \"M\", \"ChestPainType\": \"ASY\", \"RestingBP\": 140, \"Cholesterol\": 281, \"FastingBS\": 0, \"RestingECG\": \"ST\", \"MaxHR\": 118, \"ExerciseAngina\": \"Y\", \"Oldpeak\": 1.5, \"ST_Slope\": \"Flat\", \"HeartDisease\": 1, \"HD\": \"True\", \"Prediction\": \"True\"}, {\"Age\": 60, \"Sex\": \"M\", \"ChestPainType\": \"ASY\", \"RestingBP\": 120, \"Cholesterol\": 0, \"FastingBS\": 0, \"RestingECG\": \"Normal\", \"MaxHR\": 133, \"ExerciseAngina\": \"Y\", \"Oldpeak\": 2.0, \"ST_Slope\": \"Up\", \"HeartDisease\": 0, \"HD\": \"False\", \"Prediction\": \"True\"}, {\"Age\": 58, \"Sex\": \"M\", \"ChestPainType\": \"ASY\", \"RestingBP\": 136, \"Cholesterol\": 203, \"FastingBS\": 1, \"RestingECG\": \"Normal\", \"MaxHR\": 123, \"ExerciseAngina\": \"Y\", \"Oldpeak\": 1.2, \"ST_Slope\": \"Flat\", \"HeartDisease\": 1, \"HD\": \"True\", \"Prediction\": \"True\"}, {\"Age\": 59, \"Sex\": \"M\", \"ChestPainType\": \"ASY\", \"RestingBP\": 154, \"Cholesterol\": 0, \"FastingBS\": 0, \"RestingECG\": \"ST\", \"MaxHR\": 131, \"ExerciseAngina\": \"Y\", \"Oldpeak\": 1.5, \"ST_Slope\": \"Up\", \"HeartDisease\": 0, \"HD\": \"False\", \"Prediction\": \"True\"}, {\"Age\": 61, \"Sex\": \"M\", \"ChestPainType\": \"NAP\", \"RestingBP\": 120, \"Cholesterol\": 0, \"FastingBS\": 0, \"RestingECG\": \"Normal\", \"MaxHR\": 80, \"ExerciseAngina\": \"Y\", \"Oldpeak\": 0.0, \"ST_Slope\": \"Flat\", \"HeartDisease\": 1, \"HD\": \"True\", \"Prediction\": \"True\"}, {\"Age\": 40, \"Sex\": \"M\", \"ChestPainType\": \"ASY\", \"RestingBP\": 125, \"Cholesterol\": 0, \"FastingBS\": 1, \"RestingECG\": \"Normal\", \"MaxHR\": 165, \"ExerciseAngina\": \"N\", \"Oldpeak\": 0.0, \"ST_Slope\": \"Flat\", \"HeartDisease\": 1, \"HD\": \"True\", \"Prediction\": \"True\"}, {\"Age\": 61, \"Sex\": \"M\", \"ChestPainType\": \"ASY\", \"RestingBP\": 134, \"Cholesterol\": 0, \"FastingBS\": 1, \"RestingECG\": \"ST\", \"MaxHR\": 86, \"ExerciseAngina\": \"N\", \"Oldpeak\": 1.5, \"ST_Slope\": \"Flat\", \"HeartDisease\": 1, \"HD\": \"True\", \"Prediction\": \"True\"}, {\"Age\": 41, \"Sex\": \"M\", \"ChestPainType\": \"ASY\", \"RestingBP\": 104, \"Cholesterol\": 0, \"FastingBS\": 0, \"RestingECG\": \"ST\", \"MaxHR\": 111, \"ExerciseAngina\": \"N\", \"Oldpeak\": 0.0, \"ST_Slope\": \"Up\", \"HeartDisease\": 0, \"HD\": \"False\", \"Prediction\": \"True\"}, {\"Age\": 57, \"Sex\": \"M\", \"ChestPainType\": \"ASY\", \"RestingBP\": 139, \"Cholesterol\": 277, \"FastingBS\": 1, \"RestingECG\": \"ST\", \"MaxHR\": 118, \"ExerciseAngina\": \"Y\", \"Oldpeak\": 1.9, \"ST_Slope\": \"Flat\", \"HeartDisease\": 1, \"HD\": \"True\", \"Prediction\": \"True\"}, {\"Age\": 63, \"Sex\": \"M\", \"ChestPainType\": \"ASY\", \"RestingBP\": 136, \"Cholesterol\": 0, \"FastingBS\": 0, \"RestingECG\": \"Normal\", \"MaxHR\": 84, \"ExerciseAngina\": \"Y\", \"Oldpeak\": 0.0, \"ST_Slope\": \"Flat\", \"HeartDisease\": 1, \"HD\": \"True\", \"Prediction\": \"True\"}, {\"Age\": 59, \"Sex\": \"M\", \"ChestPainType\": \"ASY\", \"RestingBP\": 122, \"Cholesterol\": 233, \"FastingBS\": 0, \"RestingECG\": \"Normal\", \"MaxHR\": 117, \"ExerciseAngina\": \"Y\", \"Oldpeak\": 1.3, \"ST_Slope\": \"Down\", \"HeartDisease\": 1, \"HD\": \"True\", \"Prediction\": \"True\"}, {\"Age\": 51, \"Sex\": \"M\", \"ChestPainType\": \"ASY\", \"RestingBP\": 128, \"Cholesterol\": 0, \"FastingBS\": 0, \"RestingECG\": \"Normal\", \"MaxHR\": 107, \"ExerciseAngina\": \"N\", \"Oldpeak\": 0.0, \"ST_Slope\": \"Up\", \"HeartDisease\": 0, \"HD\": \"False\", \"Prediction\": \"True\"}, {\"Age\": 59, \"Sex\": \"M\", \"ChestPainType\": \"NAP\", \"RestingBP\": 131, \"Cholesterol\": 0, \"FastingBS\": 0, \"RestingECG\": \"Normal\", \"MaxHR\": 128, \"ExerciseAngina\": \"Y\", \"Oldpeak\": 2.0, \"ST_Slope\": \"Down\", \"HeartDisease\": 1, \"HD\": \"True\", \"Prediction\": \"True\"}, {\"Age\": 42, \"Sex\": \"M\", \"ChestPainType\": \"NAP\", \"RestingBP\": 134, \"Cholesterol\": 240, \"FastingBS\": 0, \"RestingECG\": \"Normal\", \"MaxHR\": 160, \"ExerciseAngina\": \"N\", \"Oldpeak\": 0.0, \"ST_Slope\": \"Up\", \"HeartDisease\": 0, \"HD\": \"False\", \"Prediction\": \"False\"}, {\"Age\": 55, \"Sex\": \"M\", \"ChestPainType\": \"NAP\", \"RestingBP\": 120, \"Cholesterol\": 0, \"FastingBS\": 0, \"RestingECG\": \"ST\", \"MaxHR\": 125, \"ExerciseAngina\": \"Y\", \"Oldpeak\": 2.5, \"ST_Slope\": \"Flat\", \"HeartDisease\": 1, \"HD\": \"True\", \"Prediction\": \"True\"}, {\"Age\": 63, \"Sex\": \"F\", \"ChestPainType\": \"ATA\", \"RestingBP\": 132, \"Cholesterol\": 0, \"FastingBS\": 0, \"RestingECG\": \"Normal\", \"MaxHR\": 130, \"ExerciseAngina\": \"N\", \"Oldpeak\": 0.1, \"ST_Slope\": \"Up\", \"HeartDisease\": 0, \"HD\": \"False\", \"Prediction\": \"True\"}, {\"Age\": 62, \"Sex\": \"M\", \"ChestPainType\": \"ASY\", \"RestingBP\": 152, \"Cholesterol\": 153, \"FastingBS\": 0, \"RestingECG\": \"ST\", \"MaxHR\": 97, \"ExerciseAngina\": \"Y\", \"Oldpeak\": 1.6, \"ST_Slope\": \"Up\", \"HeartDisease\": 1, \"HD\": \"True\", \"Prediction\": \"True\"}, {\"Age\": 56, \"Sex\": \"M\", \"ChestPainType\": \"ATA\", \"RestingBP\": 124, \"Cholesterol\": 224, \"FastingBS\": 1, \"RestingECG\": \"Normal\", \"MaxHR\": 161, \"ExerciseAngina\": \"N\", \"Oldpeak\": 2.0, \"ST_Slope\": \"Flat\", \"HeartDisease\": 0, \"HD\": \"False\", \"Prediction\": \"True\"}, {\"Age\": 53, \"Sex\": \"M\", \"ChestPainType\": \"ASY\", \"RestingBP\": 126, \"Cholesterol\": 0, \"FastingBS\": 0, \"RestingECG\": \"Normal\", \"MaxHR\": 106, \"ExerciseAngina\": \"N\", \"Oldpeak\": 0.0, \"ST_Slope\": \"Flat\", \"HeartDisease\": 1, \"HD\": \"True\", \"Prediction\": \"True\"}, {\"Age\": 68, \"Sex\": \"M\", \"ChestPainType\": \"ASY\", \"RestingBP\": 138, \"Cholesterol\": 0, \"FastingBS\": 0, \"RestingECG\": \"Normal\", \"MaxHR\": 130, \"ExerciseAngina\": \"Y\", \"Oldpeak\": 3.0, \"ST_Slope\": \"Flat\", \"HeartDisease\": 1, \"HD\": \"True\", \"Prediction\": \"True\"}, {\"Age\": 53, \"Sex\": \"M\", \"ChestPainType\": \"ASY\", \"RestingBP\": 154, \"Cholesterol\": 0, \"FastingBS\": 1, \"RestingECG\": \"ST\", \"MaxHR\": 140, \"ExerciseAngina\": \"Y\", \"Oldpeak\": 1.5, \"ST_Slope\": \"Flat\", \"HeartDisease\": 1, \"HD\": \"True\", \"Prediction\": \"True\"}, {\"Age\": 60, \"Sex\": \"M\", \"ChestPainType\": \"NAP\", \"RestingBP\": 141, \"Cholesterol\": 316, \"FastingBS\": 1, \"RestingECG\": \"ST\", \"MaxHR\": 122, \"ExerciseAngina\": \"Y\", \"Oldpeak\": 1.7, \"ST_Slope\": \"Flat\", \"HeartDisease\": 1, \"HD\": \"True\", \"Prediction\": \"True\"}, {\"Age\": 62, \"Sex\": \"M\", \"ChestPainType\": \"ATA\", \"RestingBP\": 131, \"Cholesterol\": 0, \"FastingBS\": 0, \"RestingECG\": \"Normal\", \"MaxHR\": 130, \"ExerciseAngina\": \"N\", \"Oldpeak\": 0.1, \"ST_Slope\": \"Up\", \"HeartDisease\": 0, \"HD\": \"False\", \"Prediction\": \"True\"}, {\"Age\": 59, \"Sex\": \"M\", \"ChestPainType\": \"ASY\", \"RestingBP\": 178, \"Cholesterol\": 0, \"FastingBS\": 1, \"RestingECG\": \"LVH\", \"MaxHR\": 120, \"ExerciseAngina\": \"Y\", \"Oldpeak\": 0.0, \"ST_Slope\": \"Flat\", \"HeartDisease\": 1, \"HD\": \"True\", \"Prediction\": \"True\"}, {\"Age\": 51, \"Sex\": \"M\", \"ChestPainType\": \"ASY\", \"RestingBP\": 132, \"Cholesterol\": 218, \"FastingBS\": 1, \"RestingECG\": \"LVH\", \"MaxHR\": 139, \"ExerciseAngina\": \"N\", \"Oldpeak\": 0.1, \"ST_Slope\": \"Up\", \"HeartDisease\": 0, \"HD\": \"False\", \"Prediction\": \"False\"}, {\"Age\": 61, \"Sex\": \"M\", \"ChestPainType\": \"ASY\", \"RestingBP\": 110, \"Cholesterol\": 0, \"FastingBS\": 1, \"RestingECG\": \"Normal\", \"MaxHR\": 108, \"ExerciseAngina\": \"Y\", \"Oldpeak\": 2.0, \"ST_Slope\": \"Down\", \"HeartDisease\": 1, \"HD\": \"True\", \"Prediction\": \"True\"}, {\"Age\": 57, \"Sex\": \"M\", \"ChestPainType\": \"ASY\", \"RestingBP\": 130, \"Cholesterol\": 311, \"FastingBS\": 1, \"RestingECG\": \"ST\", \"MaxHR\": 148, \"ExerciseAngina\": \"Y\", \"Oldpeak\": 2.0, \"ST_Slope\": \"Flat\", \"HeartDisease\": 1, \"HD\": \"True\", \"Prediction\": \"False\"}, {\"Age\": 56, \"Sex\": \"M\", \"ChestPainType\": \"NAP\", \"RestingBP\": 170, \"Cholesterol\": 0, \"FastingBS\": 0, \"RestingECG\": \"LVH\", \"MaxHR\": 123, \"ExerciseAngina\": \"Y\", \"Oldpeak\": 2.5, \"ST_Slope\": \"Flat\", \"HeartDisease\": 1, \"HD\": \"True\", \"Prediction\": \"True\"}, {\"Age\": 58, \"Sex\": \"M\", \"ChestPainType\": \"ATA\", \"RestingBP\": 126, \"Cholesterol\": 0, \"FastingBS\": 1, \"RestingECG\": \"Normal\", \"MaxHR\": 110, \"ExerciseAngina\": \"Y\", \"Oldpeak\": 2.0, \"ST_Slope\": \"Flat\", \"HeartDisease\": 1, \"HD\": \"True\", \"Prediction\": \"True\"}, {\"Age\": 69, \"Sex\": \"M\", \"ChestPainType\": \"NAP\", \"RestingBP\": 140, \"Cholesterol\": 0, \"FastingBS\": 1, \"RestingECG\": \"ST\", \"MaxHR\": 118, \"ExerciseAngina\": \"N\", \"Oldpeak\": 2.5, \"ST_Slope\": \"Down\", \"HeartDisease\": 1, \"HD\": \"True\", \"Prediction\": \"True\"}, {\"Age\": 67, \"Sex\": \"M\", \"ChestPainType\": \"TA\", \"RestingBP\": 142, \"Cholesterol\": 270, \"FastingBS\": 1, \"RestingECG\": \"Normal\", \"MaxHR\": 125, \"ExerciseAngina\": \"N\", \"Oldpeak\": 2.5, \"ST_Slope\": \"Up\", \"HeartDisease\": 1, \"HD\": \"True\", \"Prediction\": \"True\"}, {\"Age\": 58, \"Sex\": \"M\", \"ChestPainType\": \"ASY\", \"RestingBP\": 120, \"Cholesterol\": 0, \"FastingBS\": 0, \"RestingECG\": \"LVH\", \"MaxHR\": 106, \"ExerciseAngina\": \"Y\", \"Oldpeak\": 1.5, \"ST_Slope\": \"Down\", \"HeartDisease\": 1, \"HD\": \"True\", \"Prediction\": \"True\"}, {\"Age\": 65, \"Sex\": \"M\", \"ChestPainType\": \"ASY\", \"RestingBP\": 134, \"Cholesterol\": 0, \"FastingBS\": 0, \"RestingECG\": \"Normal\", \"MaxHR\": 112, \"ExerciseAngina\": \"Y\", \"Oldpeak\": 1.1, \"ST_Slope\": \"Flat\", \"HeartDisease\": 1, \"HD\": \"True\", \"Prediction\": \"True\"}, {\"Age\": 63, \"Sex\": \"M\", \"ChestPainType\": \"ATA\", \"RestingBP\": 139, \"Cholesterol\": 217, \"FastingBS\": 1, \"RestingECG\": \"ST\", \"MaxHR\": 128, \"ExerciseAngina\": \"Y\", \"Oldpeak\": 1.2, \"ST_Slope\": \"Flat\", \"HeartDisease\": 1, \"HD\": \"True\", \"Prediction\": \"True\"}, {\"Age\": 55, \"Sex\": \"M\", \"ChestPainType\": \"ATA\", \"RestingBP\": 110, \"Cholesterol\": 214, \"FastingBS\": 1, \"RestingECG\": \"ST\", \"MaxHR\": 180, \"ExerciseAngina\": \"N\", \"Oldpeak\": 0.4, \"ST_Slope\": \"Up\", \"HeartDisease\": 0, \"HD\": \"False\", \"Prediction\": \"False\"}, {\"Age\": 57, \"Sex\": \"M\", \"ChestPainType\": \"ASY\", \"RestingBP\": 140, \"Cholesterol\": 214, \"FastingBS\": 0, \"RestingECG\": \"ST\", \"MaxHR\": 144, \"ExerciseAngina\": \"Y\", \"Oldpeak\": 2.0, \"ST_Slope\": \"Flat\", \"HeartDisease\": 1, \"HD\": \"True\", \"Prediction\": \"True\"}, {\"Age\": 65, \"Sex\": \"M\", \"ChestPainType\": \"TA\", \"RestingBP\": 140, \"Cholesterol\": 252, \"FastingBS\": 0, \"RestingECG\": \"Normal\", \"MaxHR\": 135, \"ExerciseAngina\": \"N\", \"Oldpeak\": 0.3, \"ST_Slope\": \"Up\", \"HeartDisease\": 0, \"HD\": \"False\", \"Prediction\": \"True\"}, {\"Age\": 54, \"Sex\": \"M\", \"ChestPainType\": \"ASY\", \"RestingBP\": 136, \"Cholesterol\": 220, \"FastingBS\": 0, \"RestingECG\": \"Normal\", \"MaxHR\": 140, \"ExerciseAngina\": \"Y\", \"Oldpeak\": 3.0, \"ST_Slope\": \"Flat\", \"HeartDisease\": 1, \"HD\": \"True\", \"Prediction\": \"False\"}, {\"Age\": 72, \"Sex\": \"M\", \"ChestPainType\": \"NAP\", \"RestingBP\": 120, \"Cholesterol\": 214, \"FastingBS\": 0, \"RestingECG\": \"Normal\", \"MaxHR\": 102, \"ExerciseAngina\": \"Y\", \"Oldpeak\": 1.0, \"ST_Slope\": \"Flat\", \"HeartDisease\": 1, \"HD\": \"True\", \"Prediction\": \"False\"}, {\"Age\": 75, \"Sex\": \"M\", \"ChestPainType\": \"ASY\", \"RestingBP\": 170, \"Cholesterol\": 203, \"FastingBS\": 1, \"RestingECG\": \"ST\", \"MaxHR\": 108, \"ExerciseAngina\": \"N\", \"Oldpeak\": 0.0, \"ST_Slope\": \"Flat\", \"HeartDisease\": 1, \"HD\": \"True\", \"Prediction\": \"True\"}, {\"Age\": 49, \"Sex\": \"M\", \"ChestPainType\": \"TA\", \"RestingBP\": 130, \"Cholesterol\": 0, \"FastingBS\": 0, \"RestingECG\": \"ST\", \"MaxHR\": 145, \"ExerciseAngina\": \"N\", \"Oldpeak\": 3.0, \"ST_Slope\": \"Flat\", \"HeartDisease\": 1, \"HD\": \"True\", \"Prediction\": \"True\"}, {\"Age\": 51, \"Sex\": \"M\", \"ChestPainType\": \"NAP\", \"RestingBP\": 137, \"Cholesterol\": 339, \"FastingBS\": 0, \"RestingECG\": \"Normal\", \"MaxHR\": 127, \"ExerciseAngina\": \"Y\", \"Oldpeak\": 1.7, \"ST_Slope\": \"Flat\", \"HeartDisease\": 1, \"HD\": \"True\", \"Prediction\": \"True\"}, {\"Age\": 60, \"Sex\": \"M\", \"ChestPainType\": \"ASY\", \"RestingBP\": 142, \"Cholesterol\": 216, \"FastingBS\": 0, \"RestingECG\": \"Normal\", \"MaxHR\": 110, \"ExerciseAngina\": \"Y\", \"Oldpeak\": 2.5, \"ST_Slope\": \"Flat\", \"HeartDisease\": 1, \"HD\": \"True\", \"Prediction\": \"True\"}, {\"Age\": 64, \"Sex\": \"F\", \"ChestPainType\": \"ASY\", \"RestingBP\": 142, \"Cholesterol\": 276, \"FastingBS\": 0, \"RestingECG\": \"Normal\", \"MaxHR\": 140, \"ExerciseAngina\": \"Y\", \"Oldpeak\": 1.0, \"ST_Slope\": \"Flat\", \"HeartDisease\": 1, \"HD\": \"True\", \"Prediction\": \"False\"}, {\"Age\": 58, \"Sex\": \"M\", \"ChestPainType\": \"ASY\", \"RestingBP\": 132, \"Cholesterol\": 458, \"FastingBS\": 1, \"RestingECG\": \"Normal\", \"MaxHR\": 69, \"ExerciseAngina\": \"N\", \"Oldpeak\": 1.0, \"ST_Slope\": \"Down\", \"HeartDisease\": 0, \"HD\": \"False\", \"Prediction\": \"True\"}, {\"Age\": 61, \"Sex\": \"M\", \"ChestPainType\": \"ASY\", \"RestingBP\": 146, \"Cholesterol\": 241, \"FastingBS\": 0, \"RestingECG\": \"Normal\", \"MaxHR\": 148, \"ExerciseAngina\": \"Y\", \"Oldpeak\": 3.0, \"ST_Slope\": \"Down\", \"HeartDisease\": 1, \"HD\": \"True\", \"Prediction\": \"False\"}, {\"Age\": 67, \"Sex\": \"M\", \"ChestPainType\": \"ASY\", \"RestingBP\": 160, \"Cholesterol\": 384, \"FastingBS\": 1, \"RestingECG\": \"ST\", \"MaxHR\": 130, \"ExerciseAngina\": \"Y\", \"Oldpeak\": 0.0, \"ST_Slope\": \"Flat\", \"HeartDisease\": 1, \"HD\": \"True\", \"Prediction\": \"True\"}, {\"Age\": 62, \"Sex\": \"M\", \"ChestPainType\": \"ASY\", \"RestingBP\": 135, \"Cholesterol\": 297, \"FastingBS\": 0, \"RestingECG\": \"Normal\", \"MaxHR\": 130, \"ExerciseAngina\": \"Y\", \"Oldpeak\": 1.0, \"ST_Slope\": \"Flat\", \"HeartDisease\": 1, \"HD\": \"True\", \"Prediction\": \"True\"}, {\"Age\": 65, \"Sex\": \"M\", \"ChestPainType\": \"ASY\", \"RestingBP\": 136, \"Cholesterol\": 248, \"FastingBS\": 0, \"RestingECG\": \"Normal\", \"MaxHR\": 140, \"ExerciseAngina\": \"Y\", \"Oldpeak\": 4.0, \"ST_Slope\": \"Down\", \"HeartDisease\": 1, \"HD\": \"True\", \"Prediction\": \"True\"}, {\"Age\": 63, \"Sex\": \"M\", \"ChestPainType\": \"ASY\", \"RestingBP\": 130, \"Cholesterol\": 308, \"FastingBS\": 0, \"RestingECG\": \"Normal\", \"MaxHR\": 138, \"ExerciseAngina\": \"Y\", \"Oldpeak\": 2.0, \"ST_Slope\": \"Flat\", \"HeartDisease\": 1, \"HD\": \"True\", \"Prediction\": \"False\"}, {\"Age\": 69, \"Sex\": \"M\", \"ChestPainType\": \"ASY\", \"RestingBP\": 140, \"Cholesterol\": 208, \"FastingBS\": 0, \"RestingECG\": \"ST\", \"MaxHR\": 140, \"ExerciseAngina\": \"Y\", \"Oldpeak\": 2.0, \"ST_Slope\": \"Flat\", \"HeartDisease\": 1, \"HD\": \"True\", \"Prediction\": \"True\"}, {\"Age\": 51, \"Sex\": \"M\", \"ChestPainType\": \"ASY\", \"RestingBP\": 132, \"Cholesterol\": 227, \"FastingBS\": 1, \"RestingECG\": \"ST\", \"MaxHR\": 138, \"ExerciseAngina\": \"N\", \"Oldpeak\": 0.2, \"ST_Slope\": \"Up\", \"HeartDisease\": 0, \"HD\": \"False\", \"Prediction\": \"False\"}, {\"Age\": 62, \"Sex\": \"M\", \"ChestPainType\": \"ASY\", \"RestingBP\": 158, \"Cholesterol\": 210, \"FastingBS\": 1, \"RestingECG\": \"Normal\", \"MaxHR\": 112, \"ExerciseAngina\": \"Y\", \"Oldpeak\": 3.0, \"ST_Slope\": \"Down\", \"HeartDisease\": 1, \"HD\": \"True\", \"Prediction\": \"True\"}, {\"Age\": 55, \"Sex\": \"M\", \"ChestPainType\": \"NAP\", \"RestingBP\": 136, \"Cholesterol\": 245, \"FastingBS\": 1, \"RestingECG\": \"ST\", \"MaxHR\": 131, \"ExerciseAngina\": \"Y\", \"Oldpeak\": 1.2, \"ST_Slope\": \"Flat\", \"HeartDisease\": 1, \"HD\": \"True\", \"Prediction\": \"True\"}, {\"Age\": 75, \"Sex\": \"M\", \"ChestPainType\": \"ASY\", \"RestingBP\": 136, \"Cholesterol\": 225, \"FastingBS\": 0, \"RestingECG\": \"Normal\", \"MaxHR\": 112, \"ExerciseAngina\": \"Y\", \"Oldpeak\": 3.0, \"ST_Slope\": \"Flat\", \"HeartDisease\": 1, \"HD\": \"True\", \"Prediction\": \"True\"}, {\"Age\": 40, \"Sex\": \"M\", \"ChestPainType\": \"NAP\", \"RestingBP\": 106, \"Cholesterol\": 240, \"FastingBS\": 0, \"RestingECG\": \"Normal\", \"MaxHR\": 80, \"ExerciseAngina\": \"Y\", \"Oldpeak\": 0.0, \"ST_Slope\": \"Up\", \"HeartDisease\": 0, \"HD\": \"False\", \"Prediction\": \"False\"}, {\"Age\": 67, \"Sex\": \"M\", \"ChestPainType\": \"ASY\", \"RestingBP\": 120, \"Cholesterol\": 0, \"FastingBS\": 1, \"RestingECG\": \"Normal\", \"MaxHR\": 150, \"ExerciseAngina\": \"N\", \"Oldpeak\": 1.5, \"ST_Slope\": \"Down\", \"HeartDisease\": 1, \"HD\": \"True\", \"Prediction\": \"True\"}, {\"Age\": 58, \"Sex\": \"M\", \"ChestPainType\": \"ASY\", \"RestingBP\": 110, \"Cholesterol\": 198, \"FastingBS\": 0, \"RestingECG\": \"Normal\", \"MaxHR\": 110, \"ExerciseAngina\": \"N\", \"Oldpeak\": 0.0, \"ST_Slope\": \"Flat\", \"HeartDisease\": 1, \"HD\": \"True\", \"Prediction\": \"False\"}, {\"Age\": 60, \"Sex\": \"M\", \"ChestPainType\": \"ASY\", \"RestingBP\": 136, \"Cholesterol\": 195, \"FastingBS\": 0, \"RestingECG\": \"Normal\", \"MaxHR\": 126, \"ExerciseAngina\": \"N\", \"Oldpeak\": 0.3, \"ST_Slope\": \"Up\", \"HeartDisease\": 0, \"HD\": \"False\", \"Prediction\": \"False\"}, {\"Age\": 63, \"Sex\": \"M\", \"ChestPainType\": \"ASY\", \"RestingBP\": 160, \"Cholesterol\": 267, \"FastingBS\": 1, \"RestingECG\": \"ST\", \"MaxHR\": 88, \"ExerciseAngina\": \"Y\", \"Oldpeak\": 2.0, \"ST_Slope\": \"Flat\", \"HeartDisease\": 1, \"HD\": \"True\", \"Prediction\": \"True\"}, {\"Age\": 35, \"Sex\": \"M\", \"ChestPainType\": \"NAP\", \"RestingBP\": 123, \"Cholesterol\": 161, \"FastingBS\": 0, \"RestingECG\": \"ST\", \"MaxHR\": 153, \"ExerciseAngina\": \"N\", \"Oldpeak\": -0.1, \"ST_Slope\": \"Up\", \"HeartDisease\": 0, \"HD\": \"False\", \"Prediction\": \"False\"}, {\"Age\": 62, \"Sex\": \"M\", \"ChestPainType\": \"TA\", \"RestingBP\": 112, \"Cholesterol\": 258, \"FastingBS\": 0, \"RestingECG\": \"ST\", \"MaxHR\": 150, \"ExerciseAngina\": \"Y\", \"Oldpeak\": 1.3, \"ST_Slope\": \"Flat\", \"HeartDisease\": 1, \"HD\": \"True\", \"Prediction\": \"True\"}, {\"Age\": 43, \"Sex\": \"M\", \"ChestPainType\": \"ASY\", \"RestingBP\": 122, \"Cholesterol\": 0, \"FastingBS\": 0, \"RestingECG\": \"Normal\", \"MaxHR\": 120, \"ExerciseAngina\": \"N\", \"Oldpeak\": 0.5, \"ST_Slope\": \"Up\", \"HeartDisease\": 1, \"HD\": \"True\", \"Prediction\": \"True\"}, {\"Age\": 63, \"Sex\": \"M\", \"ChestPainType\": \"NAP\", \"RestingBP\": 130, \"Cholesterol\": 0, \"FastingBS\": 1, \"RestingECG\": \"ST\", \"MaxHR\": 160, \"ExerciseAngina\": \"N\", \"Oldpeak\": 3.0, \"ST_Slope\": \"Flat\", \"HeartDisease\": 0, \"HD\": \"False\", \"Prediction\": \"True\"}, {\"Age\": 68, \"Sex\": \"M\", \"ChestPainType\": \"NAP\", \"RestingBP\": 150, \"Cholesterol\": 195, \"FastingBS\": 1, \"RestingECG\": \"Normal\", \"MaxHR\": 132, \"ExerciseAngina\": \"N\", \"Oldpeak\": 0.0, \"ST_Slope\": \"Flat\", \"HeartDisease\": 1, \"HD\": \"True\", \"Prediction\": \"True\"}, {\"Age\": 65, \"Sex\": \"M\", \"ChestPainType\": \"ASY\", \"RestingBP\": 150, \"Cholesterol\": 235, \"FastingBS\": 0, \"RestingECG\": \"Normal\", \"MaxHR\": 120, \"ExerciseAngina\": \"Y\", \"Oldpeak\": 1.5, \"ST_Slope\": \"Flat\", \"HeartDisease\": 1, \"HD\": \"True\", \"Prediction\": \"True\"}, {\"Age\": 48, \"Sex\": \"M\", \"ChestPainType\": \"NAP\", \"RestingBP\": 102, \"Cholesterol\": 0, \"FastingBS\": 1, \"RestingECG\": \"ST\", \"MaxHR\": 110, \"ExerciseAngina\": \"Y\", \"Oldpeak\": 1.0, \"ST_Slope\": \"Down\", \"HeartDisease\": 1, \"HD\": \"True\", \"Prediction\": \"True\"}, {\"Age\": 63, \"Sex\": \"M\", \"ChestPainType\": \"ASY\", \"RestingBP\": 96, \"Cholesterol\": 305, \"FastingBS\": 0, \"RestingECG\": \"ST\", \"MaxHR\": 121, \"ExerciseAngina\": \"Y\", \"Oldpeak\": 1.0, \"ST_Slope\": \"Up\", \"HeartDisease\": 1, \"HD\": \"True\", \"Prediction\": \"False\"}, {\"Age\": 64, \"Sex\": \"M\", \"ChestPainType\": \"ASY\", \"RestingBP\": 130, \"Cholesterol\": 223, \"FastingBS\": 0, \"RestingECG\": \"ST\", \"MaxHR\": 128, \"ExerciseAngina\": \"N\", \"Oldpeak\": 0.5, \"ST_Slope\": \"Flat\", \"HeartDisease\": 0, \"HD\": \"False\", \"Prediction\": \"True\"}, {\"Age\": 61, \"Sex\": \"M\", \"ChestPainType\": \"ASY\", \"RestingBP\": 120, \"Cholesterol\": 282, \"FastingBS\": 0, \"RestingECG\": \"ST\", \"MaxHR\": 135, \"ExerciseAngina\": \"Y\", \"Oldpeak\": 4.0, \"ST_Slope\": \"Down\", \"HeartDisease\": 1, \"HD\": \"True\", \"Prediction\": \"False\"}, {\"Age\": 50, \"Sex\": \"M\", \"ChestPainType\": \"ASY\", \"RestingBP\": 144, \"Cholesterol\": 349, \"FastingBS\": 0, \"RestingECG\": \"LVH\", \"MaxHR\": 120, \"ExerciseAngina\": \"Y\", \"Oldpeak\": 1.0, \"ST_Slope\": \"Up\", \"HeartDisease\": 1, \"HD\": \"True\", \"Prediction\": \"True\"}, {\"Age\": 59, \"Sex\": \"M\", \"ChestPainType\": \"ASY\", \"RestingBP\": 124, \"Cholesterol\": 160, \"FastingBS\": 0, \"RestingECG\": \"Normal\", \"MaxHR\": 117, \"ExerciseAngina\": \"Y\", \"Oldpeak\": 1.0, \"ST_Slope\": \"Flat\", \"HeartDisease\": 1, \"HD\": \"True\", \"Prediction\": \"True\"}, {\"Age\": 55, \"Sex\": \"M\", \"ChestPainType\": \"ASY\", \"RestingBP\": 150, \"Cholesterol\": 160, \"FastingBS\": 0, \"RestingECG\": \"ST\", \"MaxHR\": 150, \"ExerciseAngina\": \"N\", \"Oldpeak\": 0.0, \"ST_Slope\": \"Up\", \"HeartDisease\": 0, \"HD\": \"False\", \"Prediction\": \"False\"}, {\"Age\": 45, \"Sex\": \"M\", \"ChestPainType\": \"NAP\", \"RestingBP\": 130, \"Cholesterol\": 236, \"FastingBS\": 0, \"RestingECG\": \"Normal\", \"MaxHR\": 144, \"ExerciseAngina\": \"N\", \"Oldpeak\": 0.1, \"ST_Slope\": \"Up\", \"HeartDisease\": 0, \"HD\": \"False\", \"Prediction\": \"False\"}, {\"Age\": 65, \"Sex\": \"M\", \"ChestPainType\": \"ASY\", \"RestingBP\": 144, \"Cholesterol\": 312, \"FastingBS\": 0, \"RestingECG\": \"LVH\", \"MaxHR\": 113, \"ExerciseAngina\": \"Y\", \"Oldpeak\": 1.7, \"ST_Slope\": \"Flat\", \"HeartDisease\": 1, \"HD\": \"True\", \"Prediction\": \"True\"}, {\"Age\": 61, \"Sex\": \"M\", \"ChestPainType\": \"ATA\", \"RestingBP\": 139, \"Cholesterol\": 283, \"FastingBS\": 0, \"RestingECG\": \"Normal\", \"MaxHR\": 135, \"ExerciseAngina\": \"N\", \"Oldpeak\": 0.3, \"ST_Slope\": \"Up\", \"HeartDisease\": 0, \"HD\": \"False\", \"Prediction\": \"True\"}, {\"Age\": 49, \"Sex\": \"M\", \"ChestPainType\": \"NAP\", \"RestingBP\": 131, \"Cholesterol\": 142, \"FastingBS\": 0, \"RestingECG\": \"Normal\", \"MaxHR\": 127, \"ExerciseAngina\": \"Y\", \"Oldpeak\": 1.5, \"ST_Slope\": \"Flat\", \"HeartDisease\": 1, \"HD\": \"True\", \"Prediction\": \"True\"}, {\"Age\": 72, \"Sex\": \"M\", \"ChestPainType\": \"ASY\", \"RestingBP\": 143, \"Cholesterol\": 211, \"FastingBS\": 0, \"RestingECG\": \"Normal\", \"MaxHR\": 109, \"ExerciseAngina\": \"Y\", \"Oldpeak\": 1.4, \"ST_Slope\": \"Flat\", \"HeartDisease\": 1, \"HD\": \"True\", \"Prediction\": \"True\"}, {\"Age\": 50, \"Sex\": \"M\", \"ChestPainType\": \"ASY\", \"RestingBP\": 133, \"Cholesterol\": 218, \"FastingBS\": 0, \"RestingECG\": \"Normal\", \"MaxHR\": 128, \"ExerciseAngina\": \"Y\", \"Oldpeak\": 1.1, \"ST_Slope\": \"Flat\", \"HeartDisease\": 1, \"HD\": \"True\", \"Prediction\": \"False\"}, {\"Age\": 64, \"Sex\": \"M\", \"ChestPainType\": \"ASY\", \"RestingBP\": 143, \"Cholesterol\": 306, \"FastingBS\": 1, \"RestingECG\": \"ST\", \"MaxHR\": 115, \"ExerciseAngina\": \"Y\", \"Oldpeak\": 1.8, \"ST_Slope\": \"Flat\", \"HeartDisease\": 1, \"HD\": \"True\", \"Prediction\": \"True\"}, {\"Age\": 55, \"Sex\": \"M\", \"ChestPainType\": \"ASY\", \"RestingBP\": 116, \"Cholesterol\": 186, \"FastingBS\": 1, \"RestingECG\": \"ST\", \"MaxHR\": 102, \"ExerciseAngina\": \"N\", \"Oldpeak\": 0.0, \"ST_Slope\": \"Flat\", \"HeartDisease\": 1, \"HD\": \"True\", \"Prediction\": \"True\"}, {\"Age\": 63, \"Sex\": \"M\", \"ChestPainType\": \"ASY\", \"RestingBP\": 110, \"Cholesterol\": 252, \"FastingBS\": 0, \"RestingECG\": \"ST\", \"MaxHR\": 140, \"ExerciseAngina\": \"Y\", \"Oldpeak\": 2.0, \"ST_Slope\": \"Flat\", \"HeartDisease\": 1, \"HD\": \"True\", \"Prediction\": \"True\"}, {\"Age\": 59, \"Sex\": \"M\", \"ChestPainType\": \"ASY\", \"RestingBP\": 125, \"Cholesterol\": 222, \"FastingBS\": 0, \"RestingECG\": \"Normal\", \"MaxHR\": 135, \"ExerciseAngina\": \"Y\", \"Oldpeak\": 2.5, \"ST_Slope\": \"Down\", \"HeartDisease\": 1, \"HD\": \"True\", \"Prediction\": \"False\"}, {\"Age\": 56, \"Sex\": \"M\", \"ChestPainType\": \"ASY\", \"RestingBP\": 130, \"Cholesterol\": 0, \"FastingBS\": 0, \"RestingECG\": \"LVH\", \"MaxHR\": 122, \"ExerciseAngina\": \"Y\", \"Oldpeak\": 1.0, \"ST_Slope\": \"Flat\", \"HeartDisease\": 1, \"HD\": \"True\", \"Prediction\": \"True\"}, {\"Age\": 62, \"Sex\": \"M\", \"ChestPainType\": \"NAP\", \"RestingBP\": 133, \"Cholesterol\": 0, \"FastingBS\": 1, \"RestingECG\": \"ST\", \"MaxHR\": 119, \"ExerciseAngina\": \"Y\", \"Oldpeak\": 1.2, \"ST_Slope\": \"Flat\", \"HeartDisease\": 1, \"HD\": \"True\", \"Prediction\": \"True\"}, {\"Age\": 74, \"Sex\": \"M\", \"ChestPainType\": \"ASY\", \"RestingBP\": 150, \"Cholesterol\": 258, \"FastingBS\": 1, \"RestingECG\": \"ST\", \"MaxHR\": 130, \"ExerciseAngina\": \"Y\", \"Oldpeak\": 4.0, \"ST_Slope\": \"Down\", \"HeartDisease\": 1, \"HD\": \"True\", \"Prediction\": \"False\"}, {\"Age\": 54, \"Sex\": \"M\", \"ChestPainType\": \"ASY\", \"RestingBP\": 130, \"Cholesterol\": 202, \"FastingBS\": 1, \"RestingECG\": \"Normal\", \"MaxHR\": 112, \"ExerciseAngina\": \"Y\", \"Oldpeak\": 2.0, \"ST_Slope\": \"Flat\", \"HeartDisease\": 1, \"HD\": \"True\", \"Prediction\": \"False\"}, {\"Age\": 57, \"Sex\": \"M\", \"ChestPainType\": \"ASY\", \"RestingBP\": 110, \"Cholesterol\": 197, \"FastingBS\": 0, \"RestingECG\": \"LVH\", \"MaxHR\": 100, \"ExerciseAngina\": \"N\", \"Oldpeak\": 0.0, \"ST_Slope\": \"Up\", \"HeartDisease\": 0, \"HD\": \"False\", \"Prediction\": \"False\"}, {\"Age\": 62, \"Sex\": \"M\", \"ChestPainType\": \"NAP\", \"RestingBP\": 138, \"Cholesterol\": 204, \"FastingBS\": 0, \"RestingECG\": \"ST\", \"MaxHR\": 122, \"ExerciseAngina\": \"Y\", \"Oldpeak\": 1.2, \"ST_Slope\": \"Flat\", \"HeartDisease\": 1, \"HD\": \"True\", \"Prediction\": \"True\"}, {\"Age\": 76, \"Sex\": \"M\", \"ChestPainType\": \"NAP\", \"RestingBP\": 104, \"Cholesterol\": 113, \"FastingBS\": 0, \"RestingECG\": \"LVH\", \"MaxHR\": 120, \"ExerciseAngina\": \"N\", \"Oldpeak\": 3.5, \"ST_Slope\": \"Down\", \"HeartDisease\": 1, \"HD\": \"True\", \"Prediction\": \"True\"}, {\"Age\": 54, \"Sex\": \"F\", \"ChestPainType\": \"ASY\", \"RestingBP\": 138, \"Cholesterol\": 274, \"FastingBS\": 0, \"RestingECG\": \"Normal\", \"MaxHR\": 105, \"ExerciseAngina\": \"Y\", \"Oldpeak\": 1.5, \"ST_Slope\": \"Flat\", \"HeartDisease\": 1, \"HD\": \"True\", \"Prediction\": \"True\"}, {\"Age\": 70, \"Sex\": \"M\", \"ChestPainType\": \"ASY\", \"RestingBP\": 170, \"Cholesterol\": 192, \"FastingBS\": 0, \"RestingECG\": \"ST\", \"MaxHR\": 129, \"ExerciseAngina\": \"Y\", \"Oldpeak\": 3.0, \"ST_Slope\": \"Down\", \"HeartDisease\": 1, \"HD\": \"True\", \"Prediction\": \"True\"}, {\"Age\": 61, \"Sex\": \"F\", \"ChestPainType\": \"ATA\", \"RestingBP\": 140, \"Cholesterol\": 298, \"FastingBS\": 1, \"RestingECG\": \"Normal\", \"MaxHR\": 120, \"ExerciseAngina\": \"Y\", \"Oldpeak\": 0.0, \"ST_Slope\": \"Up\", \"HeartDisease\": 0, \"HD\": \"False\", \"Prediction\": \"True\"}, {\"Age\": 48, \"Sex\": \"M\", \"ChestPainType\": \"ASY\", \"RestingBP\": 132, \"Cholesterol\": 272, \"FastingBS\": 0, \"RestingECG\": \"ST\", \"MaxHR\": 139, \"ExerciseAngina\": \"N\", \"Oldpeak\": 0.2, \"ST_Slope\": \"Up\", \"HeartDisease\": 0, \"HD\": \"False\", \"Prediction\": \"False\"}, {\"Age\": 48, \"Sex\": \"M\", \"ChestPainType\": \"NAP\", \"RestingBP\": 132, \"Cholesterol\": 220, \"FastingBS\": 1, \"RestingECG\": \"ST\", \"MaxHR\": 162, \"ExerciseAngina\": \"N\", \"Oldpeak\": 0.0, \"ST_Slope\": \"Flat\", \"HeartDisease\": 1, \"HD\": \"True\", \"Prediction\": \"False\"}, {\"Age\": 61, \"Sex\": \"M\", \"ChestPainType\": \"TA\", \"RestingBP\": 142, \"Cholesterol\": 200, \"FastingBS\": 1, \"RestingECG\": \"ST\", \"MaxHR\": 100, \"ExerciseAngina\": \"N\", \"Oldpeak\": 1.5, \"ST_Slope\": \"Down\", \"HeartDisease\": 1, \"HD\": \"True\", \"Prediction\": \"True\"}, {\"Age\": 66, \"Sex\": \"M\", \"ChestPainType\": \"ASY\", \"RestingBP\": 112, \"Cholesterol\": 261, \"FastingBS\": 0, \"RestingECG\": \"Normal\", \"MaxHR\": 140, \"ExerciseAngina\": \"N\", \"Oldpeak\": 1.5, \"ST_Slope\": \"Up\", \"HeartDisease\": 1, \"HD\": \"True\", \"Prediction\": \"True\"}, {\"Age\": 68, \"Sex\": \"M\", \"ChestPainType\": \"TA\", \"RestingBP\": 139, \"Cholesterol\": 181, \"FastingBS\": 1, \"RestingECG\": \"ST\", \"MaxHR\": 135, \"ExerciseAngina\": \"N\", \"Oldpeak\": 0.2, \"ST_Slope\": \"Up\", \"HeartDisease\": 0, \"HD\": \"False\", \"Prediction\": \"False\"}, {\"Age\": 55, \"Sex\": \"M\", \"ChestPainType\": \"ASY\", \"RestingBP\": 172, \"Cholesterol\": 260, \"FastingBS\": 0, \"RestingECG\": \"Normal\", \"MaxHR\": 73, \"ExerciseAngina\": \"N\", \"Oldpeak\": 2.0, \"ST_Slope\": \"Flat\", \"HeartDisease\": 1, \"HD\": \"True\", \"Prediction\": \"True\"}, {\"Age\": 62, \"Sex\": \"M\", \"ChestPainType\": \"NAP\", \"RestingBP\": 120, \"Cholesterol\": 220, \"FastingBS\": 0, \"RestingECG\": \"LVH\", \"MaxHR\": 86, \"ExerciseAngina\": \"N\", \"Oldpeak\": 0.0, \"ST_Slope\": \"Up\", \"HeartDisease\": 0, \"HD\": \"False\", \"Prediction\": \"False\"}, {\"Age\": 71, \"Sex\": \"M\", \"ChestPainType\": \"NAP\", \"RestingBP\": 144, \"Cholesterol\": 221, \"FastingBS\": 0, \"RestingECG\": \"Normal\", \"MaxHR\": 108, \"ExerciseAngina\": \"Y\", \"Oldpeak\": 1.8, \"ST_Slope\": \"Flat\", \"HeartDisease\": 1, \"HD\": \"True\", \"Prediction\": \"True\"}, {\"Age\": 74, \"Sex\": \"M\", \"ChestPainType\": \"TA\", \"RestingBP\": 145, \"Cholesterol\": 216, \"FastingBS\": 1, \"RestingECG\": \"Normal\", \"MaxHR\": 116, \"ExerciseAngina\": \"Y\", \"Oldpeak\": 1.8, \"ST_Slope\": \"Flat\", \"HeartDisease\": 1, \"HD\": \"True\", \"Prediction\": \"True\"}, {\"Age\": 53, \"Sex\": \"M\", \"ChestPainType\": \"NAP\", \"RestingBP\": 155, \"Cholesterol\": 175, \"FastingBS\": 1, \"RestingECG\": \"ST\", \"MaxHR\": 160, \"ExerciseAngina\": \"N\", \"Oldpeak\": 0.3, \"ST_Slope\": \"Up\", \"HeartDisease\": 0, \"HD\": \"False\", \"Prediction\": \"False\"}, {\"Age\": 58, \"Sex\": \"M\", \"ChestPainType\": \"NAP\", \"RestingBP\": 150, \"Cholesterol\": 219, \"FastingBS\": 0, \"RestingECG\": \"ST\", \"MaxHR\": 118, \"ExerciseAngina\": \"Y\", \"Oldpeak\": 0.0, \"ST_Slope\": \"Flat\", \"HeartDisease\": 1, \"HD\": \"True\", \"Prediction\": \"True\"}, {\"Age\": 75, \"Sex\": \"M\", \"ChestPainType\": \"ASY\", \"RestingBP\": 160, \"Cholesterol\": 310, \"FastingBS\": 1, \"RestingECG\": \"Normal\", \"MaxHR\": 112, \"ExerciseAngina\": \"Y\", \"Oldpeak\": 2.0, \"ST_Slope\": \"Down\", \"HeartDisease\": 0, \"HD\": \"False\", \"Prediction\": \"True\"}, {\"Age\": 56, \"Sex\": \"M\", \"ChestPainType\": \"NAP\", \"RestingBP\": 137, \"Cholesterol\": 208, \"FastingBS\": 1, \"RestingECG\": \"ST\", \"MaxHR\": 122, \"ExerciseAngina\": \"Y\", \"Oldpeak\": 1.8, \"ST_Slope\": \"Flat\", \"HeartDisease\": 1, \"HD\": \"True\", \"Prediction\": \"True\"}, {\"Age\": 58, \"Sex\": \"M\", \"ChestPainType\": \"NAP\", \"RestingBP\": 137, \"Cholesterol\": 232, \"FastingBS\": 0, \"RestingECG\": \"ST\", \"MaxHR\": 124, \"ExerciseAngina\": \"Y\", \"Oldpeak\": 1.4, \"ST_Slope\": \"Flat\", \"HeartDisease\": 1, \"HD\": \"True\", \"Prediction\": \"True\"}, {\"Age\": 64, \"Sex\": \"M\", \"ChestPainType\": \"ASY\", \"RestingBP\": 134, \"Cholesterol\": 273, \"FastingBS\": 0, \"RestingECG\": \"Normal\", \"MaxHR\": 102, \"ExerciseAngina\": \"Y\", \"Oldpeak\": 4.0, \"ST_Slope\": \"Down\", \"HeartDisease\": 1, \"HD\": \"True\", \"Prediction\": \"True\"}, {\"Age\": 54, \"Sex\": \"M\", \"ChestPainType\": \"NAP\", \"RestingBP\": 133, \"Cholesterol\": 203, \"FastingBS\": 0, \"RestingECG\": \"ST\", \"MaxHR\": 137, \"ExerciseAngina\": \"N\", \"Oldpeak\": 0.2, \"ST_Slope\": \"Up\", \"HeartDisease\": 0, \"HD\": \"False\", \"Prediction\": \"False\"}, {\"Age\": 54, \"Sex\": \"M\", \"ChestPainType\": \"ATA\", \"RestingBP\": 132, \"Cholesterol\": 182, \"FastingBS\": 0, \"RestingECG\": \"ST\", \"MaxHR\": 141, \"ExerciseAngina\": \"N\", \"Oldpeak\": 0.1, \"ST_Slope\": \"Up\", \"HeartDisease\": 0, \"HD\": \"False\", \"Prediction\": \"False\"}, {\"Age\": 59, \"Sex\": \"M\", \"ChestPainType\": \"ASY\", \"RestingBP\": 140, \"Cholesterol\": 274, \"FastingBS\": 0, \"RestingECG\": \"Normal\", \"MaxHR\": 154, \"ExerciseAngina\": \"Y\", \"Oldpeak\": 2.0, \"ST_Slope\": \"Flat\", \"HeartDisease\": 0, \"HD\": \"False\", \"Prediction\": \"False\"}, {\"Age\": 55, \"Sex\": \"M\", \"ChestPainType\": \"ASY\", \"RestingBP\": 135, \"Cholesterol\": 204, \"FastingBS\": 1, \"RestingECG\": \"ST\", \"MaxHR\": 126, \"ExerciseAngina\": \"Y\", \"Oldpeak\": 1.1, \"ST_Slope\": \"Flat\", \"HeartDisease\": 1, \"HD\": \"True\", \"Prediction\": \"False\"}, {\"Age\": 57, \"Sex\": \"M\", \"ChestPainType\": \"ASY\", \"RestingBP\": 144, \"Cholesterol\": 270, \"FastingBS\": 1, \"RestingECG\": \"ST\", \"MaxHR\": 160, \"ExerciseAngina\": \"Y\", \"Oldpeak\": 2.0, \"ST_Slope\": \"Flat\", \"HeartDisease\": 1, \"HD\": \"True\", \"Prediction\": \"False\"}, {\"Age\": 61, \"Sex\": \"M\", \"ChestPainType\": \"ASY\", \"RestingBP\": 141, \"Cholesterol\": 292, \"FastingBS\": 0, \"RestingECG\": \"ST\", \"MaxHR\": 115, \"ExerciseAngina\": \"Y\", \"Oldpeak\": 1.7, \"ST_Slope\": \"Flat\", \"HeartDisease\": 1, \"HD\": \"True\", \"Prediction\": \"True\"}, {\"Age\": 41, \"Sex\": \"M\", \"ChestPainType\": \"ASY\", \"RestingBP\": 150, \"Cholesterol\": 171, \"FastingBS\": 0, \"RestingECG\": \"Normal\", \"MaxHR\": 128, \"ExerciseAngina\": \"Y\", \"Oldpeak\": 1.5, \"ST_Slope\": \"Flat\", \"HeartDisease\": 0, \"HD\": \"False\", \"Prediction\": \"True\"}, {\"Age\": 71, \"Sex\": \"M\", \"ChestPainType\": \"ASY\", \"RestingBP\": 130, \"Cholesterol\": 221, \"FastingBS\": 0, \"RestingECG\": \"ST\", \"MaxHR\": 115, \"ExerciseAngina\": \"Y\", \"Oldpeak\": 0.0, \"ST_Slope\": \"Flat\", \"HeartDisease\": 1, \"HD\": \"True\", \"Prediction\": \"True\"}, {\"Age\": 38, \"Sex\": \"M\", \"ChestPainType\": \"ASY\", \"RestingBP\": 110, \"Cholesterol\": 289, \"FastingBS\": 0, \"RestingECG\": \"Normal\", \"MaxHR\": 105, \"ExerciseAngina\": \"Y\", \"Oldpeak\": 1.5, \"ST_Slope\": \"Down\", \"HeartDisease\": 1, \"HD\": \"True\", \"Prediction\": \"True\"}, {\"Age\": 55, \"Sex\": \"M\", \"ChestPainType\": \"ASY\", \"RestingBP\": 158, \"Cholesterol\": 217, \"FastingBS\": 0, \"RestingECG\": \"Normal\", \"MaxHR\": 110, \"ExerciseAngina\": \"Y\", \"Oldpeak\": 2.5, \"ST_Slope\": \"Flat\", \"HeartDisease\": 1, \"HD\": \"True\", \"Prediction\": \"True\"}, {\"Age\": 56, \"Sex\": \"M\", \"ChestPainType\": \"ASY\", \"RestingBP\": 128, \"Cholesterol\": 223, \"FastingBS\": 0, \"RestingECG\": \"ST\", \"MaxHR\": 119, \"ExerciseAngina\": \"Y\", \"Oldpeak\": 2.0, \"ST_Slope\": \"Down\", \"HeartDisease\": 1, \"HD\": \"True\", \"Prediction\": \"True\"}, {\"Age\": 69, \"Sex\": \"M\", \"ChestPainType\": \"ASY\", \"RestingBP\": 140, \"Cholesterol\": 110, \"FastingBS\": 1, \"RestingECG\": \"Normal\", \"MaxHR\": 109, \"ExerciseAngina\": \"Y\", \"Oldpeak\": 1.5, \"ST_Slope\": \"Flat\", \"HeartDisease\": 1, \"HD\": \"True\", \"Prediction\": \"True\"}, {\"Age\": 64, \"Sex\": \"M\", \"ChestPainType\": \"ASY\", \"RestingBP\": 150, \"Cholesterol\": 193, \"FastingBS\": 0, \"RestingECG\": \"ST\", \"MaxHR\": 135, \"ExerciseAngina\": \"Y\", \"Oldpeak\": 0.5, \"ST_Slope\": \"Flat\", \"HeartDisease\": 1, \"HD\": \"True\", \"Prediction\": \"False\"}, {\"Age\": 72, \"Sex\": \"M\", \"ChestPainType\": \"ASY\", \"RestingBP\": 160, \"Cholesterol\": 123, \"FastingBS\": 1, \"RestingECG\": \"LVH\", \"MaxHR\": 130, \"ExerciseAngina\": \"N\", \"Oldpeak\": 1.5, \"ST_Slope\": \"Flat\", \"HeartDisease\": 1, \"HD\": \"True\", \"Prediction\": \"True\"}, {\"Age\": 69, \"Sex\": \"M\", \"ChestPainType\": \"ASY\", \"RestingBP\": 142, \"Cholesterol\": 210, \"FastingBS\": 1, \"RestingECG\": \"ST\", \"MaxHR\": 112, \"ExerciseAngina\": \"Y\", \"Oldpeak\": 1.5, \"ST_Slope\": \"Flat\", \"HeartDisease\": 1, \"HD\": \"True\", \"Prediction\": \"True\"}, {\"Age\": 56, \"Sex\": \"M\", \"ChestPainType\": \"ASY\", \"RestingBP\": 137, \"Cholesterol\": 282, \"FastingBS\": 1, \"RestingECG\": \"Normal\", \"MaxHR\": 126, \"ExerciseAngina\": \"Y\", \"Oldpeak\": 1.2, \"ST_Slope\": \"Flat\", \"HeartDisease\": 1, \"HD\": \"True\", \"Prediction\": \"True\"}, {\"Age\": 62, \"Sex\": \"M\", \"ChestPainType\": \"ASY\", \"RestingBP\": 139, \"Cholesterol\": 170, \"FastingBS\": 0, \"RestingECG\": \"ST\", \"MaxHR\": 120, \"ExerciseAngina\": \"Y\", \"Oldpeak\": 3.0, \"ST_Slope\": \"Flat\", \"HeartDisease\": 1, \"HD\": \"True\", \"Prediction\": \"False\"}, {\"Age\": 67, \"Sex\": \"M\", \"ChestPainType\": \"ASY\", \"RestingBP\": 146, \"Cholesterol\": 369, \"FastingBS\": 0, \"RestingECG\": \"Normal\", \"MaxHR\": 110, \"ExerciseAngina\": \"Y\", \"Oldpeak\": 1.9, \"ST_Slope\": \"Flat\", \"HeartDisease\": 1, \"HD\": \"True\", \"Prediction\": \"True\"}, {\"Age\": 57, \"Sex\": \"M\", \"ChestPainType\": \"ASY\", \"RestingBP\": 156, \"Cholesterol\": 173, \"FastingBS\": 0, \"RestingECG\": \"LVH\", \"MaxHR\": 119, \"ExerciseAngina\": \"Y\", \"Oldpeak\": 3.0, \"ST_Slope\": \"Down\", \"HeartDisease\": 1, \"HD\": \"True\", \"Prediction\": \"False\"}, {\"Age\": 69, \"Sex\": \"M\", \"ChestPainType\": \"ASY\", \"RestingBP\": 145, \"Cholesterol\": 289, \"FastingBS\": 1, \"RestingECG\": \"ST\", \"MaxHR\": 110, \"ExerciseAngina\": \"Y\", \"Oldpeak\": 1.8, \"ST_Slope\": \"Flat\", \"HeartDisease\": 1, \"HD\": \"True\", \"Prediction\": \"True\"}, {\"Age\": 51, \"Sex\": \"M\", \"ChestPainType\": \"ASY\", \"RestingBP\": 131, \"Cholesterol\": 152, \"FastingBS\": 1, \"RestingECG\": \"LVH\", \"MaxHR\": 130, \"ExerciseAngina\": \"Y\", \"Oldpeak\": 1.0, \"ST_Slope\": \"Flat\", \"HeartDisease\": 1, \"HD\": \"True\", \"Prediction\": \"True\"}, {\"Age\": 48, \"Sex\": \"M\", \"ChestPainType\": \"ASY\", \"RestingBP\": 140, \"Cholesterol\": 208, \"FastingBS\": 0, \"RestingECG\": \"Normal\", \"MaxHR\": 159, \"ExerciseAngina\": \"Y\", \"Oldpeak\": 1.5, \"ST_Slope\": \"Up\", \"HeartDisease\": 1, \"HD\": \"True\", \"Prediction\": \"True\"}, {\"Age\": 69, \"Sex\": \"M\", \"ChestPainType\": \"ASY\", \"RestingBP\": 122, \"Cholesterol\": 216, \"FastingBS\": 1, \"RestingECG\": \"LVH\", \"MaxHR\": 84, \"ExerciseAngina\": \"Y\", \"Oldpeak\": 0.0, \"ST_Slope\": \"Flat\", \"HeartDisease\": 1, \"HD\": \"True\", \"Prediction\": \"False\"}, {\"Age\": 69, \"Sex\": \"M\", \"ChestPainType\": \"NAP\", \"RestingBP\": 142, \"Cholesterol\": 271, \"FastingBS\": 0, \"RestingECG\": \"LVH\", \"MaxHR\": 126, \"ExerciseAngina\": \"N\", \"Oldpeak\": 0.3, \"ST_Slope\": \"Up\", \"HeartDisease\": 0, \"HD\": \"False\", \"Prediction\": \"True\"}, {\"Age\": 64, \"Sex\": \"M\", \"ChestPainType\": \"ASY\", \"RestingBP\": 141, \"Cholesterol\": 244, \"FastingBS\": 1, \"RestingECG\": \"ST\", \"MaxHR\": 116, \"ExerciseAngina\": \"Y\", \"Oldpeak\": 1.5, \"ST_Slope\": \"Flat\", \"HeartDisease\": 1, \"HD\": \"True\", \"Prediction\": \"True\"}, {\"Age\": 57, \"Sex\": \"M\", \"ChestPainType\": \"ATA\", \"RestingBP\": 180, \"Cholesterol\": 285, \"FastingBS\": 1, \"RestingECG\": \"ST\", \"MaxHR\": 120, \"ExerciseAngina\": \"N\", \"Oldpeak\": 0.8, \"ST_Slope\": \"Flat\", \"HeartDisease\": 1, \"HD\": \"True\", \"Prediction\": \"True\"}, {\"Age\": 53, \"Sex\": \"M\", \"ChestPainType\": \"ASY\", \"RestingBP\": 124, \"Cholesterol\": 243, \"FastingBS\": 0, \"RestingECG\": \"Normal\", \"MaxHR\": 122, \"ExerciseAngina\": \"Y\", \"Oldpeak\": 2.0, \"ST_Slope\": \"Flat\", \"HeartDisease\": 1, \"HD\": \"True\", \"Prediction\": \"True\"}, {\"Age\": 37, \"Sex\": \"M\", \"ChestPainType\": \"NAP\", \"RestingBP\": 118, \"Cholesterol\": 240, \"FastingBS\": 0, \"RestingECG\": \"LVH\", \"MaxHR\": 165, \"ExerciseAngina\": \"N\", \"Oldpeak\": 1.0, \"ST_Slope\": \"Flat\", \"HeartDisease\": 0, \"HD\": \"False\", \"Prediction\": \"False\"}, {\"Age\": 67, \"Sex\": \"M\", \"ChestPainType\": \"ASY\", \"RestingBP\": 140, \"Cholesterol\": 219, \"FastingBS\": 0, \"RestingECG\": \"ST\", \"MaxHR\": 122, \"ExerciseAngina\": \"Y\", \"Oldpeak\": 2.0, \"ST_Slope\": \"Flat\", \"HeartDisease\": 1, \"HD\": \"True\", \"Prediction\": \"True\"}, {\"Age\": 74, \"Sex\": \"M\", \"ChestPainType\": \"NAP\", \"RestingBP\": 140, \"Cholesterol\": 237, \"FastingBS\": 1, \"RestingECG\": \"Normal\", \"MaxHR\": 94, \"ExerciseAngina\": \"N\", \"Oldpeak\": 0.0, \"ST_Slope\": \"Flat\", \"HeartDisease\": 1, \"HD\": \"True\", \"Prediction\": \"True\"}, {\"Age\": 63, \"Sex\": \"M\", \"ChestPainType\": \"ATA\", \"RestingBP\": 136, \"Cholesterol\": 165, \"FastingBS\": 0, \"RestingECG\": \"ST\", \"MaxHR\": 133, \"ExerciseAngina\": \"N\", \"Oldpeak\": 0.2, \"ST_Slope\": \"Up\", \"HeartDisease\": 0, \"HD\": \"False\", \"Prediction\": \"False\"}, {\"Age\": 58, \"Sex\": \"M\", \"ChestPainType\": \"ASY\", \"RestingBP\": 100, \"Cholesterol\": 213, \"FastingBS\": 0, \"RestingECG\": \"ST\", \"MaxHR\": 110, \"ExerciseAngina\": \"N\", \"Oldpeak\": 0.0, \"ST_Slope\": \"Up\", \"HeartDisease\": 0, \"HD\": \"False\", \"Prediction\": \"False\"}, {\"Age\": 61, \"Sex\": \"M\", \"ChestPainType\": \"ASY\", \"RestingBP\": 190, \"Cholesterol\": 287, \"FastingBS\": 1, \"RestingECG\": \"LVH\", \"MaxHR\": 150, \"ExerciseAngina\": \"Y\", \"Oldpeak\": 2.0, \"ST_Slope\": \"Down\", \"HeartDisease\": 1, \"HD\": \"True\", \"Prediction\": \"True\"}, {\"Age\": 64, \"Sex\": \"M\", \"ChestPainType\": \"ASY\", \"RestingBP\": 130, \"Cholesterol\": 258, \"FastingBS\": 1, \"RestingECG\": \"LVH\", \"MaxHR\": 130, \"ExerciseAngina\": \"N\", \"Oldpeak\": 0.0, \"ST_Slope\": \"Flat\", \"HeartDisease\": 1, \"HD\": \"True\", \"Prediction\": \"True\"}, {\"Age\": 58, \"Sex\": \"M\", \"ChestPainType\": \"ASY\", \"RestingBP\": 160, \"Cholesterol\": 256, \"FastingBS\": 1, \"RestingECG\": \"LVH\", \"MaxHR\": 113, \"ExerciseAngina\": \"Y\", \"Oldpeak\": 1.0, \"ST_Slope\": \"Up\", \"HeartDisease\": 1, \"HD\": \"True\", \"Prediction\": \"True\"}, {\"Age\": 60, \"Sex\": \"M\", \"ChestPainType\": \"ASY\", \"RestingBP\": 130, \"Cholesterol\": 186, \"FastingBS\": 1, \"RestingECG\": \"LVH\", \"MaxHR\": 140, \"ExerciseAngina\": \"Y\", \"Oldpeak\": 0.5, \"ST_Slope\": \"Flat\", \"HeartDisease\": 1, \"HD\": \"True\", \"Prediction\": \"False\"}, {\"Age\": 57, \"Sex\": \"M\", \"ChestPainType\": \"ASY\", \"RestingBP\": 122, \"Cholesterol\": 264, \"FastingBS\": 0, \"RestingECG\": \"LVH\", \"MaxHR\": 100, \"ExerciseAngina\": \"N\", \"Oldpeak\": 0.0, \"ST_Slope\": \"Flat\", \"HeartDisease\": 1, \"HD\": \"True\", \"Prediction\": \"True\"}, {\"Age\": 55, \"Sex\": \"M\", \"ChestPainType\": \"NAP\", \"RestingBP\": 133, \"Cholesterol\": 185, \"FastingBS\": 0, \"RestingECG\": \"ST\", \"MaxHR\": 136, \"ExerciseAngina\": \"N\", \"Oldpeak\": 0.2, \"ST_Slope\": \"Up\", \"HeartDisease\": 0, \"HD\": \"False\", \"Prediction\": \"False\"}, {\"Age\": 55, \"Sex\": \"M\", \"ChestPainType\": \"ASY\", \"RestingBP\": 120, \"Cholesterol\": 226, \"FastingBS\": 0, \"RestingECG\": \"LVH\", \"MaxHR\": 127, \"ExerciseAngina\": \"Y\", \"Oldpeak\": 1.7, \"ST_Slope\": \"Down\", \"HeartDisease\": 1, \"HD\": \"True\", \"Prediction\": \"False\"}, {\"Age\": 56, \"Sex\": \"M\", \"ChestPainType\": \"ASY\", \"RestingBP\": 130, \"Cholesterol\": 203, \"FastingBS\": 1, \"RestingECG\": \"Normal\", \"MaxHR\": 98, \"ExerciseAngina\": \"N\", \"Oldpeak\": 1.5, \"ST_Slope\": \"Flat\", \"HeartDisease\": 1, \"HD\": \"True\", \"Prediction\": \"True\"}, {\"Age\": 57, \"Sex\": \"M\", \"ChestPainType\": \"ASY\", \"RestingBP\": 130, \"Cholesterol\": 207, \"FastingBS\": 0, \"RestingECG\": \"ST\", \"MaxHR\": 96, \"ExerciseAngina\": \"Y\", \"Oldpeak\": 1.0, \"ST_Slope\": \"Flat\", \"HeartDisease\": 0, \"HD\": \"False\", \"Prediction\": \"True\"}, {\"Age\": 61, \"Sex\": \"M\", \"ChestPainType\": \"NAP\", \"RestingBP\": 140, \"Cholesterol\": 284, \"FastingBS\": 0, \"RestingECG\": \"Normal\", \"MaxHR\": 123, \"ExerciseAngina\": \"Y\", \"Oldpeak\": 1.3, \"ST_Slope\": \"Flat\", \"HeartDisease\": 1, \"HD\": \"True\", \"Prediction\": \"True\"}, {\"Age\": 61, \"Sex\": \"M\", \"ChestPainType\": \"NAP\", \"RestingBP\": 120, \"Cholesterol\": 337, \"FastingBS\": 0, \"RestingECG\": \"Normal\", \"MaxHR\": 98, \"ExerciseAngina\": \"Y\", \"Oldpeak\": 0.0, \"ST_Slope\": \"Flat\", \"HeartDisease\": 1, \"HD\": \"True\", \"Prediction\": \"True\"}, {\"Age\": 74, \"Sex\": \"M\", \"ChestPainType\": \"ASY\", \"RestingBP\": 155, \"Cholesterol\": 310, \"FastingBS\": 0, \"RestingECG\": \"Normal\", \"MaxHR\": 112, \"ExerciseAngina\": \"Y\", \"Oldpeak\": 1.5, \"ST_Slope\": \"Down\", \"HeartDisease\": 1, \"HD\": \"True\", \"Prediction\": \"True\"}, {\"Age\": 68, \"Sex\": \"M\", \"ChestPainType\": \"NAP\", \"RestingBP\": 134, \"Cholesterol\": 254, \"FastingBS\": 1, \"RestingECG\": \"Normal\", \"MaxHR\": 151, \"ExerciseAngina\": \"Y\", \"Oldpeak\": 0.0, \"ST_Slope\": \"Up\", \"HeartDisease\": 0, \"HD\": \"False\", \"Prediction\": \"True\"}, {\"Age\": 51, \"Sex\": \"F\", \"ChestPainType\": \"ASY\", \"RestingBP\": 114, \"Cholesterol\": 258, \"FastingBS\": 1, \"RestingECG\": \"LVH\", \"MaxHR\": 96, \"ExerciseAngina\": \"N\", \"Oldpeak\": 1.0, \"ST_Slope\": \"Up\", \"HeartDisease\": 0, \"HD\": \"False\", \"Prediction\": \"True\"}, {\"Age\": 62, \"Sex\": \"M\", \"ChestPainType\": \"ASY\", \"RestingBP\": 160, \"Cholesterol\": 254, \"FastingBS\": 1, \"RestingECG\": \"ST\", \"MaxHR\": 108, \"ExerciseAngina\": \"Y\", \"Oldpeak\": 3.0, \"ST_Slope\": \"Flat\", \"HeartDisease\": 1, \"HD\": \"True\", \"Prediction\": \"True\"}, {\"Age\": 53, \"Sex\": \"M\", \"ChestPainType\": \"ASY\", \"RestingBP\": 144, \"Cholesterol\": 300, \"FastingBS\": 1, \"RestingECG\": \"ST\", \"MaxHR\": 128, \"ExerciseAngina\": \"Y\", \"Oldpeak\": 1.5, \"ST_Slope\": \"Flat\", \"HeartDisease\": 1, \"HD\": \"True\", \"Prediction\": \"True\"}, {\"Age\": 62, \"Sex\": \"M\", \"ChestPainType\": \"ASY\", \"RestingBP\": 158, \"Cholesterol\": 170, \"FastingBS\": 0, \"RestingECG\": \"ST\", \"MaxHR\": 138, \"ExerciseAngina\": \"Y\", \"Oldpeak\": 0.0, \"ST_Slope\": \"Flat\", \"HeartDisease\": 1, \"HD\": \"True\", \"Prediction\": \"True\"}, {\"Age\": 46, \"Sex\": \"M\", \"ChestPainType\": \"ASY\", \"RestingBP\": 134, \"Cholesterol\": 310, \"FastingBS\": 0, \"RestingECG\": \"Normal\", \"MaxHR\": 126, \"ExerciseAngina\": \"N\", \"Oldpeak\": 0.0, \"ST_Slope\": \"Flat\", \"HeartDisease\": 1, \"HD\": \"True\", \"Prediction\": \"False\"}, {\"Age\": 54, \"Sex\": \"F\", \"ChestPainType\": \"ASY\", \"RestingBP\": 127, \"Cholesterol\": 333, \"FastingBS\": 1, \"RestingECG\": \"ST\", \"MaxHR\": 154, \"ExerciseAngina\": \"N\", \"Oldpeak\": 0.0, \"ST_Slope\": \"Flat\", \"HeartDisease\": 1, \"HD\": \"True\", \"Prediction\": \"False\"}, {\"Age\": 62, \"Sex\": \"M\", \"ChestPainType\": \"TA\", \"RestingBP\": 135, \"Cholesterol\": 139, \"FastingBS\": 0, \"RestingECG\": \"ST\", \"MaxHR\": 137, \"ExerciseAngina\": \"N\", \"Oldpeak\": 0.2, \"ST_Slope\": \"Up\", \"HeartDisease\": 0, \"HD\": \"False\", \"Prediction\": \"True\"}, {\"Age\": 55, \"Sex\": \"M\", \"ChestPainType\": \"ASY\", \"RestingBP\": 122, \"Cholesterol\": 223, \"FastingBS\": 1, \"RestingECG\": \"ST\", \"MaxHR\": 100, \"ExerciseAngina\": \"N\", \"Oldpeak\": 0.0, \"ST_Slope\": \"Flat\", \"HeartDisease\": 1, \"HD\": \"True\", \"Prediction\": \"False\"}, {\"Age\": 58, \"Sex\": \"M\", \"ChestPainType\": \"ASY\", \"RestingBP\": 140, \"Cholesterol\": 385, \"FastingBS\": 1, \"RestingECG\": \"LVH\", \"MaxHR\": 135, \"ExerciseAngina\": \"N\", \"Oldpeak\": 0.3, \"ST_Slope\": \"Up\", \"HeartDisease\": 0, \"HD\": \"False\", \"Prediction\": \"True\"}, {\"Age\": 62, \"Sex\": \"M\", \"ChestPainType\": \"ATA\", \"RestingBP\": 120, \"Cholesterol\": 254, \"FastingBS\": 0, \"RestingECG\": \"LVH\", \"MaxHR\": 93, \"ExerciseAngina\": \"Y\", \"Oldpeak\": 0.0, \"ST_Slope\": \"Flat\", \"HeartDisease\": 1, \"HD\": \"True\", \"Prediction\": \"False\"}, {\"Age\": 70, \"Sex\": \"M\", \"ChestPainType\": \"ASY\", \"RestingBP\": 130, \"Cholesterol\": 322, \"FastingBS\": 0, \"RestingECG\": \"LVH\", \"MaxHR\": 109, \"ExerciseAngina\": \"N\", \"Oldpeak\": 2.4, \"ST_Slope\": \"Flat\", \"HeartDisease\": 1, \"HD\": \"True\", \"Prediction\": \"True\"}, {\"Age\": 67, \"Sex\": \"F\", \"ChestPainType\": \"NAP\", \"RestingBP\": 115, \"Cholesterol\": 564, \"FastingBS\": 0, \"RestingECG\": \"LVH\", \"MaxHR\": 160, \"ExerciseAngina\": \"N\", \"Oldpeak\": 1.6, \"ST_Slope\": \"Flat\", \"HeartDisease\": 0, \"HD\": \"False\", \"Prediction\": \"True\"}, {\"Age\": 57, \"Sex\": \"M\", \"ChestPainType\": \"ATA\", \"RestingBP\": 124, \"Cholesterol\": 261, \"FastingBS\": 0, \"RestingECG\": \"Normal\", \"MaxHR\": 141, \"ExerciseAngina\": \"N\", \"Oldpeak\": 0.3, \"ST_Slope\": \"Up\", \"HeartDisease\": 1, \"HD\": \"True\", \"Prediction\": \"True\"}, {\"Age\": 64, \"Sex\": \"M\", \"ChestPainType\": \"ASY\", \"RestingBP\": 128, \"Cholesterol\": 263, \"FastingBS\": 0, \"RestingECG\": \"Normal\", \"MaxHR\": 105, \"ExerciseAngina\": \"Y\", \"Oldpeak\": 0.2, \"ST_Slope\": \"Flat\", \"HeartDisease\": 0, \"HD\": \"False\", \"Prediction\": \"True\"}, {\"Age\": 74, \"Sex\": \"F\", \"ChestPainType\": \"ATA\", \"RestingBP\": 120, \"Cholesterol\": 269, \"FastingBS\": 0, \"RestingECG\": \"LVH\", \"MaxHR\": 121, \"ExerciseAngina\": \"Y\", \"Oldpeak\": 0.2, \"ST_Slope\": \"Up\", \"HeartDisease\": 0, \"HD\": \"False\", \"Prediction\": \"True\"}, {\"Age\": 65, \"Sex\": \"M\", \"ChestPainType\": \"ASY\", \"RestingBP\": 120, \"Cholesterol\": 177, \"FastingBS\": 0, \"RestingECG\": \"Normal\", \"MaxHR\": 140, \"ExerciseAngina\": \"N\", \"Oldpeak\": 0.4, \"ST_Slope\": \"Up\", \"HeartDisease\": 0, \"HD\": \"False\", \"Prediction\": \"False\"}, {\"Age\": 56, \"Sex\": \"M\", \"ChestPainType\": \"NAP\", \"RestingBP\": 130, \"Cholesterol\": 256, \"FastingBS\": 1, \"RestingECG\": \"LVH\", \"MaxHR\": 142, \"ExerciseAngina\": \"Y\", \"Oldpeak\": 0.6, \"ST_Slope\": \"Flat\", \"HeartDisease\": 1, \"HD\": \"True\", \"Prediction\": \"True\"}, {\"Age\": 59, \"Sex\": \"M\", \"ChestPainType\": \"ASY\", \"RestingBP\": 110, \"Cholesterol\": 239, \"FastingBS\": 0, \"RestingECG\": \"LVH\", \"MaxHR\": 142, \"ExerciseAngina\": \"Y\", \"Oldpeak\": 1.2, \"ST_Slope\": \"Flat\", \"HeartDisease\": 1, \"HD\": \"True\", \"Prediction\": \"False\"}, {\"Age\": 60, \"Sex\": \"M\", \"ChestPainType\": \"ASY\", \"RestingBP\": 140, \"Cholesterol\": 293, \"FastingBS\": 0, \"RestingECG\": \"LVH\", \"MaxHR\": 170, \"ExerciseAngina\": \"N\", \"Oldpeak\": 1.2, \"ST_Slope\": \"Flat\", \"HeartDisease\": 1, \"HD\": \"True\", \"Prediction\": \"False\"}, {\"Age\": 63, \"Sex\": \"F\", \"ChestPainType\": \"ASY\", \"RestingBP\": 150, \"Cholesterol\": 407, \"FastingBS\": 0, \"RestingECG\": \"LVH\", \"MaxHR\": 154, \"ExerciseAngina\": \"N\", \"Oldpeak\": 4.0, \"ST_Slope\": \"Flat\", \"HeartDisease\": 1, \"HD\": \"True\", \"Prediction\": \"False\"}, {\"Age\": 59, \"Sex\": \"M\", \"ChestPainType\": \"ASY\", \"RestingBP\": 135, \"Cholesterol\": 234, \"FastingBS\": 0, \"RestingECG\": \"Normal\", \"MaxHR\": 161, \"ExerciseAngina\": \"N\", \"Oldpeak\": 0.5, \"ST_Slope\": \"Flat\", \"HeartDisease\": 0, \"HD\": \"False\", \"Prediction\": \"False\"}, {\"Age\": 53, \"Sex\": \"M\", \"ChestPainType\": \"ASY\", \"RestingBP\": 142, \"Cholesterol\": 226, \"FastingBS\": 0, \"RestingECG\": \"LVH\", \"MaxHR\": 111, \"ExerciseAngina\": \"Y\", \"Oldpeak\": 0.0, \"ST_Slope\": \"Up\", \"HeartDisease\": 0, \"HD\": \"False\", \"Prediction\": \"True\"}, {\"Age\": 44, \"Sex\": \"M\", \"ChestPainType\": \"NAP\", \"RestingBP\": 140, \"Cholesterol\": 235, \"FastingBS\": 0, \"RestingECG\": \"LVH\", \"MaxHR\": 180, \"ExerciseAngina\": \"N\", \"Oldpeak\": 0.0, \"ST_Slope\": \"Up\", \"HeartDisease\": 0, \"HD\": \"False\", \"Prediction\": \"False\"}, {\"Age\": 61, \"Sex\": \"M\", \"ChestPainType\": \"TA\", \"RestingBP\": 134, \"Cholesterol\": 234, \"FastingBS\": 0, \"RestingECG\": \"Normal\", \"MaxHR\": 145, \"ExerciseAngina\": \"N\", \"Oldpeak\": 2.6, \"ST_Slope\": \"Flat\", \"HeartDisease\": 1, \"HD\": \"True\", \"Prediction\": \"False\"}, {\"Age\": 57, \"Sex\": \"F\", \"ChestPainType\": \"ASY\", \"RestingBP\": 128, \"Cholesterol\": 303, \"FastingBS\": 0, \"RestingECG\": \"LVH\", \"MaxHR\": 159, \"ExerciseAngina\": \"N\", \"Oldpeak\": 0.0, \"ST_Slope\": \"Up\", \"HeartDisease\": 0, \"HD\": \"False\", \"Prediction\": \"False\"}, {\"Age\": 71, \"Sex\": \"F\", \"ChestPainType\": \"ASY\", \"RestingBP\": 112, \"Cholesterol\": 149, \"FastingBS\": 0, \"RestingECG\": \"Normal\", \"MaxHR\": 125, \"ExerciseAngina\": \"N\", \"Oldpeak\": 1.6, \"ST_Slope\": \"Flat\", \"HeartDisease\": 0, \"HD\": \"False\", \"Prediction\": \"True\"}, {\"Age\": 46, \"Sex\": \"M\", \"ChestPainType\": \"ASY\", \"RestingBP\": 140, \"Cholesterol\": 311, \"FastingBS\": 0, \"RestingECG\": \"Normal\", \"MaxHR\": 120, \"ExerciseAngina\": \"Y\", \"Oldpeak\": 1.8, \"ST_Slope\": \"Flat\", \"HeartDisease\": 1, \"HD\": \"True\", \"Prediction\": \"True\"}, {\"Age\": 53, \"Sex\": \"M\", \"ChestPainType\": \"ASY\", \"RestingBP\": 140, \"Cholesterol\": 203, \"FastingBS\": 1, \"RestingECG\": \"LVH\", \"MaxHR\": 155, \"ExerciseAngina\": \"Y\", \"Oldpeak\": 3.1, \"ST_Slope\": \"Down\", \"HeartDisease\": 1, \"HD\": \"True\", \"Prediction\": \"False\"}, {\"Age\": 64, \"Sex\": \"M\", \"ChestPainType\": \"TA\", \"RestingBP\": 110, \"Cholesterol\": 211, \"FastingBS\": 0, \"RestingECG\": \"LVH\", \"MaxHR\": 144, \"ExerciseAngina\": \"Y\", \"Oldpeak\": 1.8, \"ST_Slope\": \"Flat\", \"HeartDisease\": 0, \"HD\": \"False\", \"Prediction\": \"False\"}, {\"Age\": 40, \"Sex\": \"M\", \"ChestPainType\": \"TA\", \"RestingBP\": 140, \"Cholesterol\": 199, \"FastingBS\": 0, \"RestingECG\": \"Normal\", \"MaxHR\": 178, \"ExerciseAngina\": \"Y\", \"Oldpeak\": 1.4, \"ST_Slope\": \"Up\", \"HeartDisease\": 0, \"HD\": \"False\", \"Prediction\": \"False\"}, {\"Age\": 67, \"Sex\": \"M\", \"ChestPainType\": \"ASY\", \"RestingBP\": 120, \"Cholesterol\": 229, \"FastingBS\": 0, \"RestingECG\": \"LVH\", \"MaxHR\": 129, \"ExerciseAngina\": \"Y\", \"Oldpeak\": 2.6, \"ST_Slope\": \"Flat\", \"HeartDisease\": 1, \"HD\": \"True\", \"Prediction\": \"True\"}, {\"Age\": 48, \"Sex\": \"M\", \"ChestPainType\": \"ATA\", \"RestingBP\": 130, \"Cholesterol\": 245, \"FastingBS\": 0, \"RestingECG\": \"LVH\", \"MaxHR\": 180, \"ExerciseAngina\": \"N\", \"Oldpeak\": 0.2, \"ST_Slope\": \"Flat\", \"HeartDisease\": 0, \"HD\": \"False\", \"Prediction\": \"False\"}, {\"Age\": 43, \"Sex\": \"M\", \"ChestPainType\": \"ASY\", \"RestingBP\": 115, \"Cholesterol\": 303, \"FastingBS\": 0, \"RestingECG\": \"Normal\", \"MaxHR\": 181, \"ExerciseAngina\": \"N\", \"Oldpeak\": 1.2, \"ST_Slope\": \"Flat\", \"HeartDisease\": 0, \"HD\": \"False\", \"Prediction\": \"False\"}, {\"Age\": 47, \"Sex\": \"M\", \"ChestPainType\": \"ASY\", \"RestingBP\": 112, \"Cholesterol\": 204, \"FastingBS\": 0, \"RestingECG\": \"Normal\", \"MaxHR\": 143, \"ExerciseAngina\": \"N\", \"Oldpeak\": 0.1, \"ST_Slope\": \"Up\", \"HeartDisease\": 0, \"HD\": \"False\", \"Prediction\": \"False\"}, {\"Age\": 54, \"Sex\": \"F\", \"ChestPainType\": \"ATA\", \"RestingBP\": 132, \"Cholesterol\": 288, \"FastingBS\": 1, \"RestingECG\": \"LVH\", \"MaxHR\": 159, \"ExerciseAngina\": \"Y\", \"Oldpeak\": 0.0, \"ST_Slope\": \"Up\", \"HeartDisease\": 0, \"HD\": \"False\", \"Prediction\": \"False\"}, {\"Age\": 48, \"Sex\": \"F\", \"ChestPainType\": \"NAP\", \"RestingBP\": 130, \"Cholesterol\": 275, \"FastingBS\": 0, \"RestingECG\": \"Normal\", \"MaxHR\": 139, \"ExerciseAngina\": \"N\", \"Oldpeak\": 0.2, \"ST_Slope\": \"Up\", \"HeartDisease\": 0, \"HD\": \"False\", \"Prediction\": \"False\"}, {\"Age\": 46, \"Sex\": \"F\", \"ChestPainType\": \"ASY\", \"RestingBP\": 138, \"Cholesterol\": 243, \"FastingBS\": 0, \"RestingECG\": \"LVH\", \"MaxHR\": 152, \"ExerciseAngina\": \"Y\", \"Oldpeak\": 0.0, \"ST_Slope\": \"Flat\", \"HeartDisease\": 0, \"HD\": \"False\", \"Prediction\": \"False\"}, {\"Age\": 51, \"Sex\": \"F\", \"ChestPainType\": \"NAP\", \"RestingBP\": 120, \"Cholesterol\": 295, \"FastingBS\": 0, \"RestingECG\": \"LVH\", \"MaxHR\": 157, \"ExerciseAngina\": \"N\", \"Oldpeak\": 0.6, \"ST_Slope\": \"Up\", \"HeartDisease\": 0, \"HD\": \"False\", \"Prediction\": \"False\"}, {\"Age\": 58, \"Sex\": \"M\", \"ChestPainType\": \"NAP\", \"RestingBP\": 112, \"Cholesterol\": 230, \"FastingBS\": 0, \"RestingECG\": \"LVH\", \"MaxHR\": 165, \"ExerciseAngina\": \"N\", \"Oldpeak\": 2.5, \"ST_Slope\": \"Flat\", \"HeartDisease\": 1, \"HD\": \"True\", \"Prediction\": \"False\"}, {\"Age\": 71, \"Sex\": \"F\", \"ChestPainType\": \"NAP\", \"RestingBP\": 110, \"Cholesterol\": 265, \"FastingBS\": 1, \"RestingECG\": \"LVH\", \"MaxHR\": 130, \"ExerciseAngina\": \"N\", \"Oldpeak\": 0.0, \"ST_Slope\": \"Up\", \"HeartDisease\": 0, \"HD\": \"False\", \"Prediction\": \"True\"}, {\"Age\": 57, \"Sex\": \"M\", \"ChestPainType\": \"NAP\", \"RestingBP\": 128, \"Cholesterol\": 229, \"FastingBS\": 0, \"RestingECG\": \"LVH\", \"MaxHR\": 150, \"ExerciseAngina\": \"N\", \"Oldpeak\": 0.4, \"ST_Slope\": \"Flat\", \"HeartDisease\": 1, \"HD\": \"True\", \"Prediction\": \"False\"}, {\"Age\": 66, \"Sex\": \"M\", \"ChestPainType\": \"ASY\", \"RestingBP\": 160, \"Cholesterol\": 228, \"FastingBS\": 0, \"RestingECG\": \"LVH\", \"MaxHR\": 138, \"ExerciseAngina\": \"N\", \"Oldpeak\": 2.3, \"ST_Slope\": \"Up\", \"HeartDisease\": 0, \"HD\": \"False\", \"Prediction\": \"False\"}, {\"Age\": 37, \"Sex\": \"F\", \"ChestPainType\": \"NAP\", \"RestingBP\": 120, \"Cholesterol\": 215, \"FastingBS\": 0, \"RestingECG\": \"Normal\", \"MaxHR\": 170, \"ExerciseAngina\": \"N\", \"Oldpeak\": 0.0, \"ST_Slope\": \"Up\", \"HeartDisease\": 0, \"HD\": \"False\", \"Prediction\": \"False\"}, {\"Age\": 59, \"Sex\": \"M\", \"ChestPainType\": \"ASY\", \"RestingBP\": 170, \"Cholesterol\": 326, \"FastingBS\": 0, \"RestingECG\": \"LVH\", \"MaxHR\": 140, \"ExerciseAngina\": \"Y\", \"Oldpeak\": 3.4, \"ST_Slope\": \"Down\", \"HeartDisease\": 1, \"HD\": \"True\", \"Prediction\": \"False\"}, {\"Age\": 50, \"Sex\": \"M\", \"ChestPainType\": \"ASY\", \"RestingBP\": 144, \"Cholesterol\": 200, \"FastingBS\": 0, \"RestingECG\": \"LVH\", \"MaxHR\": 126, \"ExerciseAngina\": \"Y\", \"Oldpeak\": 0.9, \"ST_Slope\": \"Flat\", \"HeartDisease\": 1, \"HD\": \"True\", \"Prediction\": \"False\"}, {\"Age\": 48, \"Sex\": \"M\", \"ChestPainType\": \"ASY\", \"RestingBP\": 130, \"Cholesterol\": 256, \"FastingBS\": 1, \"RestingECG\": \"LVH\", \"MaxHR\": 150, \"ExerciseAngina\": \"Y\", \"Oldpeak\": 0.0, \"ST_Slope\": \"Up\", \"HeartDisease\": 1, \"HD\": \"True\", \"Prediction\": \"False\"}, {\"Age\": 61, \"Sex\": \"M\", \"ChestPainType\": \"ASY\", \"RestingBP\": 140, \"Cholesterol\": 207, \"FastingBS\": 0, \"RestingECG\": \"LVH\", \"MaxHR\": 138, \"ExerciseAngina\": \"Y\", \"Oldpeak\": 1.9, \"ST_Slope\": \"Up\", \"HeartDisease\": 1, \"HD\": \"True\", \"Prediction\": \"True\"}, {\"Age\": 59, \"Sex\": \"M\", \"ChestPainType\": \"TA\", \"RestingBP\": 160, \"Cholesterol\": 273, \"FastingBS\": 0, \"RestingECG\": \"LVH\", \"MaxHR\": 125, \"ExerciseAngina\": \"N\", \"Oldpeak\": 0.0, \"ST_Slope\": \"Up\", \"HeartDisease\": 1, \"HD\": \"True\", \"Prediction\": \"True\"}, {\"Age\": 42, \"Sex\": \"M\", \"ChestPainType\": \"NAP\", \"RestingBP\": 130, \"Cholesterol\": 180, \"FastingBS\": 0, \"RestingECG\": \"Normal\", \"MaxHR\": 150, \"ExerciseAngina\": \"N\", \"Oldpeak\": 0.0, \"ST_Slope\": \"Up\", \"HeartDisease\": 0, \"HD\": \"False\", \"Prediction\": \"False\"}, {\"Age\": 48, \"Sex\": \"M\", \"ChestPainType\": \"ASY\", \"RestingBP\": 122, \"Cholesterol\": 222, \"FastingBS\": 0, \"RestingECG\": \"LVH\", \"MaxHR\": 186, \"ExerciseAngina\": \"N\", \"Oldpeak\": 0.0, \"ST_Slope\": \"Up\", \"HeartDisease\": 0, \"HD\": \"False\", \"Prediction\": \"False\"}, {\"Age\": 40, \"Sex\": \"M\", \"ChestPainType\": \"ASY\", \"RestingBP\": 152, \"Cholesterol\": 223, \"FastingBS\": 0, \"RestingECG\": \"Normal\", \"MaxHR\": 181, \"ExerciseAngina\": \"N\", \"Oldpeak\": 0.0, \"ST_Slope\": \"Up\", \"HeartDisease\": 1, \"HD\": \"True\", \"Prediction\": \"False\"}, {\"Age\": 62, \"Sex\": \"F\", \"ChestPainType\": \"ASY\", \"RestingBP\": 124, \"Cholesterol\": 209, \"FastingBS\": 0, \"RestingECG\": \"Normal\", \"MaxHR\": 163, \"ExerciseAngina\": \"N\", \"Oldpeak\": 0.0, \"ST_Slope\": \"Up\", \"HeartDisease\": 0, \"HD\": \"False\", \"Prediction\": \"False\"}, {\"Age\": 44, \"Sex\": \"M\", \"ChestPainType\": \"NAP\", \"RestingBP\": 130, \"Cholesterol\": 233, \"FastingBS\": 0, \"RestingECG\": \"Normal\", \"MaxHR\": 179, \"ExerciseAngina\": \"Y\", \"Oldpeak\": 0.4, \"ST_Slope\": \"Up\", \"HeartDisease\": 0, \"HD\": \"False\", \"Prediction\": \"False\"}, {\"Age\": 46, \"Sex\": \"M\", \"ChestPainType\": \"ATA\", \"RestingBP\": 101, \"Cholesterol\": 197, \"FastingBS\": 1, \"RestingECG\": \"Normal\", \"MaxHR\": 156, \"ExerciseAngina\": \"N\", \"Oldpeak\": 0.0, \"ST_Slope\": \"Up\", \"HeartDisease\": 0, \"HD\": \"False\", \"Prediction\": \"False\"}, {\"Age\": 59, \"Sex\": \"M\", \"ChestPainType\": \"NAP\", \"RestingBP\": 126, \"Cholesterol\": 218, \"FastingBS\": 1, \"RestingECG\": \"Normal\", \"MaxHR\": 134, \"ExerciseAngina\": \"N\", \"Oldpeak\": 2.2, \"ST_Slope\": \"Flat\", \"HeartDisease\": 1, \"HD\": \"True\", \"Prediction\": \"True\"}, {\"Age\": 58, \"Sex\": \"M\", \"ChestPainType\": \"NAP\", \"RestingBP\": 140, \"Cholesterol\": 211, \"FastingBS\": 1, \"RestingECG\": \"LVH\", \"MaxHR\": 165, \"ExerciseAngina\": \"N\", \"Oldpeak\": 0.0, \"ST_Slope\": \"Up\", \"HeartDisease\": 0, \"HD\": \"False\", \"Prediction\": \"False\"}, {\"Age\": 49, \"Sex\": \"M\", \"ChestPainType\": \"NAP\", \"RestingBP\": 118, \"Cholesterol\": 149, \"FastingBS\": 0, \"RestingECG\": \"LVH\", \"MaxHR\": 126, \"ExerciseAngina\": \"N\", \"Oldpeak\": 0.8, \"ST_Slope\": \"Up\", \"HeartDisease\": 1, \"HD\": \"True\", \"Prediction\": \"True\"}, {\"Age\": 44, \"Sex\": \"M\", \"ChestPainType\": \"ASY\", \"RestingBP\": 110, \"Cholesterol\": 197, \"FastingBS\": 0, \"RestingECG\": \"LVH\", \"MaxHR\": 177, \"ExerciseAngina\": \"N\", \"Oldpeak\": 0.0, \"ST_Slope\": \"Up\", \"HeartDisease\": 1, \"HD\": \"True\", \"Prediction\": \"False\"}, {\"Age\": 66, \"Sex\": \"M\", \"ChestPainType\": \"ATA\", \"RestingBP\": 160, \"Cholesterol\": 246, \"FastingBS\": 0, \"RestingECG\": \"Normal\", \"MaxHR\": 120, \"ExerciseAngina\": \"Y\", \"Oldpeak\": 0.0, \"ST_Slope\": \"Flat\", \"HeartDisease\": 1, \"HD\": \"True\", \"Prediction\": \"True\"}, {\"Age\": 65, \"Sex\": \"F\", \"ChestPainType\": \"ASY\", \"RestingBP\": 150, \"Cholesterol\": 225, \"FastingBS\": 0, \"RestingECG\": \"LVH\", \"MaxHR\": 114, \"ExerciseAngina\": \"N\", \"Oldpeak\": 1.0, \"ST_Slope\": \"Flat\", \"HeartDisease\": 1, \"HD\": \"True\", \"Prediction\": \"True\"}, {\"Age\": 42, \"Sex\": \"M\", \"ChestPainType\": \"ASY\", \"RestingBP\": 136, \"Cholesterol\": 315, \"FastingBS\": 0, \"RestingECG\": \"Normal\", \"MaxHR\": 125, \"ExerciseAngina\": \"Y\", \"Oldpeak\": 1.8, \"ST_Slope\": \"Flat\", \"HeartDisease\": 1, \"HD\": \"True\", \"Prediction\": \"False\"}, {\"Age\": 52, \"Sex\": \"M\", \"ChestPainType\": \"ATA\", \"RestingBP\": 128, \"Cholesterol\": 205, \"FastingBS\": 1, \"RestingECG\": \"Normal\", \"MaxHR\": 184, \"ExerciseAngina\": \"N\", \"Oldpeak\": 0.0, \"ST_Slope\": \"Up\", \"HeartDisease\": 0, \"HD\": \"False\", \"Prediction\": \"False\"}, {\"Age\": 65, \"Sex\": \"F\", \"ChestPainType\": \"NAP\", \"RestingBP\": 140, \"Cholesterol\": 417, \"FastingBS\": 1, \"RestingECG\": \"LVH\", \"MaxHR\": 157, \"ExerciseAngina\": \"N\", \"Oldpeak\": 0.8, \"ST_Slope\": \"Up\", \"HeartDisease\": 0, \"HD\": \"False\", \"Prediction\": \"False\"}, {\"Age\": 63, \"Sex\": \"F\", \"ChestPainType\": \"ATA\", \"RestingBP\": 140, \"Cholesterol\": 195, \"FastingBS\": 0, \"RestingECG\": \"Normal\", \"MaxHR\": 179, \"ExerciseAngina\": \"N\", \"Oldpeak\": 0.0, \"ST_Slope\": \"Up\", \"HeartDisease\": 0, \"HD\": \"False\", \"Prediction\": \"False\"}, {\"Age\": 45, \"Sex\": \"F\", \"ChestPainType\": \"ATA\", \"RestingBP\": 130, \"Cholesterol\": 234, \"FastingBS\": 0, \"RestingECG\": \"LVH\", \"MaxHR\": 175, \"ExerciseAngina\": \"N\", \"Oldpeak\": 0.6, \"ST_Slope\": \"Flat\", \"HeartDisease\": 0, \"HD\": \"False\", \"Prediction\": \"False\"}, {\"Age\": 41, \"Sex\": \"F\", \"ChestPainType\": \"ATA\", \"RestingBP\": 105, \"Cholesterol\": 198, \"FastingBS\": 0, \"RestingECG\": \"Normal\", \"MaxHR\": 168, \"ExerciseAngina\": \"N\", \"Oldpeak\": 0.0, \"ST_Slope\": \"Up\", \"HeartDisease\": 0, \"HD\": \"False\", \"Prediction\": \"False\"}, {\"Age\": 61, \"Sex\": \"M\", \"ChestPainType\": \"ASY\", \"RestingBP\": 138, \"Cholesterol\": 166, \"FastingBS\": 0, \"RestingECG\": \"LVH\", \"MaxHR\": 125, \"ExerciseAngina\": \"Y\", \"Oldpeak\": 3.6, \"ST_Slope\": \"Flat\", \"HeartDisease\": 1, \"HD\": \"True\", \"Prediction\": \"True\"}, {\"Age\": 60, \"Sex\": \"F\", \"ChestPainType\": \"NAP\", \"RestingBP\": 120, \"Cholesterol\": 178, \"FastingBS\": 1, \"RestingECG\": \"Normal\", \"MaxHR\": 96, \"ExerciseAngina\": \"N\", \"Oldpeak\": 0.0, \"ST_Slope\": \"Up\", \"HeartDisease\": 0, \"HD\": \"False\", \"Prediction\": \"True\"}, {\"Age\": 59, \"Sex\": \"F\", \"ChestPainType\": \"ASY\", \"RestingBP\": 174, \"Cholesterol\": 249, \"FastingBS\": 0, \"RestingECG\": \"Normal\", \"MaxHR\": 143, \"ExerciseAngina\": \"Y\", \"Oldpeak\": 0.0, \"ST_Slope\": \"Flat\", \"HeartDisease\": 1, \"HD\": \"True\", \"Prediction\": \"False\"}, {\"Age\": 62, \"Sex\": \"M\", \"ChestPainType\": \"ATA\", \"RestingBP\": 120, \"Cholesterol\": 281, \"FastingBS\": 0, \"RestingECG\": \"LVH\", \"MaxHR\": 103, \"ExerciseAngina\": \"N\", \"Oldpeak\": 1.4, \"ST_Slope\": \"Flat\", \"HeartDisease\": 1, \"HD\": \"True\", \"Prediction\": \"True\"}, {\"Age\": 57, \"Sex\": \"M\", \"ChestPainType\": \"NAP\", \"RestingBP\": 150, \"Cholesterol\": 126, \"FastingBS\": 1, \"RestingECG\": \"Normal\", \"MaxHR\": 173, \"ExerciseAngina\": \"N\", \"Oldpeak\": 0.2, \"ST_Slope\": \"Up\", \"HeartDisease\": 0, \"HD\": \"False\", \"Prediction\": \"False\"}, {\"Age\": 51, \"Sex\": \"F\", \"ChestPainType\": \"ASY\", \"RestingBP\": 130, \"Cholesterol\": 305, \"FastingBS\": 0, \"RestingECG\": \"Normal\", \"MaxHR\": 142, \"ExerciseAngina\": \"Y\", \"Oldpeak\": 1.2, \"ST_Slope\": \"Flat\", \"HeartDisease\": 1, \"HD\": \"True\", \"Prediction\": \"False\"}, {\"Age\": 44, \"Sex\": \"M\", \"ChestPainType\": \"NAP\", \"RestingBP\": 120, \"Cholesterol\": 226, \"FastingBS\": 0, \"RestingECG\": \"Normal\", \"MaxHR\": 169, \"ExerciseAngina\": \"N\", \"Oldpeak\": 0.0, \"ST_Slope\": \"Up\", \"HeartDisease\": 0, \"HD\": \"False\", \"Prediction\": \"False\"}, {\"Age\": 60, \"Sex\": \"F\", \"ChestPainType\": \"TA\", \"RestingBP\": 150, \"Cholesterol\": 240, \"FastingBS\": 0, \"RestingECG\": \"Normal\", \"MaxHR\": 171, \"ExerciseAngina\": \"N\", \"Oldpeak\": 0.9, \"ST_Slope\": \"Up\", \"HeartDisease\": 0, \"HD\": \"False\", \"Prediction\": \"False\"}, {\"Age\": 63, \"Sex\": \"M\", \"ChestPainType\": \"TA\", \"RestingBP\": 145, \"Cholesterol\": 233, \"FastingBS\": 1, \"RestingECG\": \"LVH\", \"MaxHR\": 150, \"ExerciseAngina\": \"N\", \"Oldpeak\": 2.3, \"ST_Slope\": \"Down\", \"HeartDisease\": 0, \"HD\": \"False\", \"Prediction\": \"False\"}, {\"Age\": 57, \"Sex\": \"M\", \"ChestPainType\": \"ASY\", \"RestingBP\": 150, \"Cholesterol\": 276, \"FastingBS\": 0, \"RestingECG\": \"LVH\", \"MaxHR\": 112, \"ExerciseAngina\": \"Y\", \"Oldpeak\": 0.6, \"ST_Slope\": \"Flat\", \"HeartDisease\": 1, \"HD\": \"True\", \"Prediction\": \"True\"}, {\"Age\": 51, \"Sex\": \"M\", \"ChestPainType\": \"ASY\", \"RestingBP\": 140, \"Cholesterol\": 261, \"FastingBS\": 0, \"RestingECG\": \"LVH\", \"MaxHR\": 186, \"ExerciseAngina\": \"Y\", \"Oldpeak\": 0.0, \"ST_Slope\": \"Up\", \"HeartDisease\": 0, \"HD\": \"False\", \"Prediction\": \"False\"}, {\"Age\": 58, \"Sex\": \"F\", \"ChestPainType\": \"ATA\", \"RestingBP\": 136, \"Cholesterol\": 319, \"FastingBS\": 1, \"RestingECG\": \"LVH\", \"MaxHR\": 152, \"ExerciseAngina\": \"N\", \"Oldpeak\": 0.0, \"ST_Slope\": \"Up\", \"HeartDisease\": 1, \"HD\": \"True\", \"Prediction\": \"False\"}, {\"Age\": 44, \"Sex\": \"F\", \"ChestPainType\": \"NAP\", \"RestingBP\": 118, \"Cholesterol\": 242, \"FastingBS\": 0, \"RestingECG\": \"Normal\", \"MaxHR\": 149, \"ExerciseAngina\": \"N\", \"Oldpeak\": 0.3, \"ST_Slope\": \"Flat\", \"HeartDisease\": 0, \"HD\": \"False\", \"Prediction\": \"False\"}, {\"Age\": 47, \"Sex\": \"M\", \"ChestPainType\": \"NAP\", \"RestingBP\": 108, \"Cholesterol\": 243, \"FastingBS\": 0, \"RestingECG\": \"Normal\", \"MaxHR\": 152, \"ExerciseAngina\": \"N\", \"Oldpeak\": 0.0, \"ST_Slope\": \"Up\", \"HeartDisease\": 1, \"HD\": \"True\", \"Prediction\": \"False\"}, {\"Age\": 61, \"Sex\": \"M\", \"ChestPainType\": \"ASY\", \"RestingBP\": 120, \"Cholesterol\": 260, \"FastingBS\": 0, \"RestingECG\": \"Normal\", \"MaxHR\": 140, \"ExerciseAngina\": \"Y\", \"Oldpeak\": 3.6, \"ST_Slope\": \"Flat\", \"HeartDisease\": 1, \"HD\": \"True\", \"Prediction\": \"True\"}, {\"Age\": 57, \"Sex\": \"F\", \"ChestPainType\": \"ASY\", \"RestingBP\": 120, \"Cholesterol\": 354, \"FastingBS\": 0, \"RestingECG\": \"Normal\", \"MaxHR\": 163, \"ExerciseAngina\": \"Y\", \"Oldpeak\": 0.6, \"ST_Slope\": \"Up\", \"HeartDisease\": 0, \"HD\": \"False\", \"Prediction\": \"False\"}, {\"Age\": 70, \"Sex\": \"M\", \"ChestPainType\": \"ATA\", \"RestingBP\": 156, \"Cholesterol\": 245, \"FastingBS\": 0, \"RestingECG\": \"LVH\", \"MaxHR\": 143, \"ExerciseAngina\": \"N\", \"Oldpeak\": 0.0, \"ST_Slope\": \"Up\", \"HeartDisease\": 0, \"HD\": \"False\", \"Prediction\": \"False\"}, {\"Age\": 76, \"Sex\": \"F\", \"ChestPainType\": \"NAP\", \"RestingBP\": 140, \"Cholesterol\": 197, \"FastingBS\": 0, \"RestingECG\": \"ST\", \"MaxHR\": 116, \"ExerciseAngina\": \"N\", \"Oldpeak\": 1.1, \"ST_Slope\": \"Flat\", \"HeartDisease\": 0, \"HD\": \"False\", \"Prediction\": \"True\"}, {\"Age\": 67, \"Sex\": \"F\", \"ChestPainType\": \"ASY\", \"RestingBP\": 106, \"Cholesterol\": 223, \"FastingBS\": 0, \"RestingECG\": \"Normal\", \"MaxHR\": 142, \"ExerciseAngina\": \"N\", \"Oldpeak\": 0.3, \"ST_Slope\": \"Up\", \"HeartDisease\": 0, \"HD\": \"False\", \"Prediction\": \"False\"}, {\"Age\": 45, \"Sex\": \"M\", \"ChestPainType\": \"ASY\", \"RestingBP\": 142, \"Cholesterol\": 309, \"FastingBS\": 0, \"RestingECG\": \"LVH\", \"MaxHR\": 147, \"ExerciseAngina\": \"Y\", \"Oldpeak\": 0.0, \"ST_Slope\": \"Flat\", \"HeartDisease\": 1, \"HD\": \"True\", \"Prediction\": \"False\"}, {\"Age\": 45, \"Sex\": \"M\", \"ChestPainType\": \"ASY\", \"RestingBP\": 104, \"Cholesterol\": 208, \"FastingBS\": 0, \"RestingECG\": \"LVH\", \"MaxHR\": 148, \"ExerciseAngina\": \"Y\", \"Oldpeak\": 3.0, \"ST_Slope\": \"Flat\", \"HeartDisease\": 0, \"HD\": \"False\", \"Prediction\": \"False\"}, {\"Age\": 39, \"Sex\": \"F\", \"ChestPainType\": \"NAP\", \"RestingBP\": 94, \"Cholesterol\": 199, \"FastingBS\": 0, \"RestingECG\": \"Normal\", \"MaxHR\": 179, \"ExerciseAngina\": \"N\", \"Oldpeak\": 0.0, \"ST_Slope\": \"Up\", \"HeartDisease\": 0, \"HD\": \"False\", \"Prediction\": \"False\"}, {\"Age\": 42, \"Sex\": \"F\", \"ChestPainType\": \"NAP\", \"RestingBP\": 120, \"Cholesterol\": 209, \"FastingBS\": 0, \"RestingECG\": \"Normal\", \"MaxHR\": 173, \"ExerciseAngina\": \"N\", \"Oldpeak\": 0.0, \"ST_Slope\": \"Flat\", \"HeartDisease\": 0, \"HD\": \"False\", \"Prediction\": \"False\"}, {\"Age\": 56, \"Sex\": \"M\", \"ChestPainType\": \"ATA\", \"RestingBP\": 120, \"Cholesterol\": 236, \"FastingBS\": 0, \"RestingECG\": \"Normal\", \"MaxHR\": 178, \"ExerciseAngina\": \"N\", \"Oldpeak\": 0.8, \"ST_Slope\": \"Up\", \"HeartDisease\": 0, \"HD\": \"False\", \"Prediction\": \"False\"}, {\"Age\": 58, \"Sex\": \"M\", \"ChestPainType\": \"ASY\", \"RestingBP\": 146, \"Cholesterol\": 218, \"FastingBS\": 0, \"RestingECG\": \"Normal\", \"MaxHR\": 105, \"ExerciseAngina\": \"N\", \"Oldpeak\": 2.0, \"ST_Slope\": \"Flat\", \"HeartDisease\": 1, \"HD\": \"True\", \"Prediction\": \"True\"}, {\"Age\": 35, \"Sex\": \"M\", \"ChestPainType\": \"ASY\", \"RestingBP\": 120, \"Cholesterol\": 198, \"FastingBS\": 0, \"RestingECG\": \"Normal\", \"MaxHR\": 130, \"ExerciseAngina\": \"Y\", \"Oldpeak\": 1.6, \"ST_Slope\": \"Flat\", \"HeartDisease\": 1, \"HD\": \"True\", \"Prediction\": \"False\"}, {\"Age\": 58, \"Sex\": \"M\", \"ChestPainType\": \"ASY\", \"RestingBP\": 150, \"Cholesterol\": 270, \"FastingBS\": 0, \"RestingECG\": \"LVH\", \"MaxHR\": 111, \"ExerciseAngina\": \"Y\", \"Oldpeak\": 0.8, \"ST_Slope\": \"Up\", \"HeartDisease\": 1, \"HD\": \"True\", \"Prediction\": \"True\"}, {\"Age\": 41, \"Sex\": \"M\", \"ChestPainType\": \"NAP\", \"RestingBP\": 130, \"Cholesterol\": 214, \"FastingBS\": 0, \"RestingECG\": \"LVH\", \"MaxHR\": 168, \"ExerciseAngina\": \"N\", \"Oldpeak\": 2.0, \"ST_Slope\": \"Flat\", \"HeartDisease\": 0, \"HD\": \"False\", \"Prediction\": \"False\"}, {\"Age\": 57, \"Sex\": \"M\", \"ChestPainType\": \"ASY\", \"RestingBP\": 110, \"Cholesterol\": 201, \"FastingBS\": 0, \"RestingECG\": \"Normal\", \"MaxHR\": 126, \"ExerciseAngina\": \"Y\", \"Oldpeak\": 1.5, \"ST_Slope\": \"Flat\", \"HeartDisease\": 0, \"HD\": \"False\", \"Prediction\": \"False\"}, {\"Age\": 42, \"Sex\": \"M\", \"ChestPainType\": \"TA\", \"RestingBP\": 148, \"Cholesterol\": 244, \"FastingBS\": 0, \"RestingECG\": \"LVH\", \"MaxHR\": 178, \"ExerciseAngina\": \"N\", \"Oldpeak\": 0.8, \"ST_Slope\": \"Up\", \"HeartDisease\": 0, \"HD\": \"False\", \"Prediction\": \"False\"}, {\"Age\": 62, \"Sex\": \"M\", \"ChestPainType\": \"ATA\", \"RestingBP\": 128, \"Cholesterol\": 208, \"FastingBS\": 1, \"RestingECG\": \"LVH\", \"MaxHR\": 140, \"ExerciseAngina\": \"N\", \"Oldpeak\": 0.0, \"ST_Slope\": \"Up\", \"HeartDisease\": 0, \"HD\": \"False\", \"Prediction\": \"True\"}, {\"Age\": 59, \"Sex\": \"M\", \"ChestPainType\": \"TA\", \"RestingBP\": 178, \"Cholesterol\": 270, \"FastingBS\": 0, \"RestingECG\": \"LVH\", \"MaxHR\": 145, \"ExerciseAngina\": \"N\", \"Oldpeak\": 4.2, \"ST_Slope\": \"Down\", \"HeartDisease\": 0, \"HD\": \"False\", \"Prediction\": \"True\"}, {\"Age\": 41, \"Sex\": \"F\", \"ChestPainType\": \"ATA\", \"RestingBP\": 126, \"Cholesterol\": 306, \"FastingBS\": 0, \"RestingECG\": \"Normal\", \"MaxHR\": 163, \"ExerciseAngina\": \"N\", \"Oldpeak\": 0.0, \"ST_Slope\": \"Up\", \"HeartDisease\": 0, \"HD\": \"False\", \"Prediction\": \"False\"}, {\"Age\": 50, \"Sex\": \"M\", \"ChestPainType\": \"ASY\", \"RestingBP\": 150, \"Cholesterol\": 243, \"FastingBS\": 0, \"RestingECG\": \"LVH\", \"MaxHR\": 128, \"ExerciseAngina\": \"N\", \"Oldpeak\": 2.6, \"ST_Slope\": \"Flat\", \"HeartDisease\": 1, \"HD\": \"True\", \"Prediction\": \"True\"}, {\"Age\": 59, \"Sex\": \"M\", \"ChestPainType\": \"ATA\", \"RestingBP\": 140, \"Cholesterol\": 221, \"FastingBS\": 0, \"RestingECG\": \"Normal\", \"MaxHR\": 164, \"ExerciseAngina\": \"Y\", \"Oldpeak\": 0.0, \"ST_Slope\": \"Up\", \"HeartDisease\": 0, \"HD\": \"False\", \"Prediction\": \"False\"}, {\"Age\": 61, \"Sex\": \"F\", \"ChestPainType\": \"ASY\", \"RestingBP\": 130, \"Cholesterol\": 330, \"FastingBS\": 0, \"RestingECG\": \"LVH\", \"MaxHR\": 169, \"ExerciseAngina\": \"N\", \"Oldpeak\": 0.0, \"ST_Slope\": \"Up\", \"HeartDisease\": 1, \"HD\": \"True\", \"Prediction\": \"False\"}, {\"Age\": 54, \"Sex\": \"M\", \"ChestPainType\": \"ASY\", \"RestingBP\": 124, \"Cholesterol\": 266, \"FastingBS\": 0, \"RestingECG\": \"LVH\", \"MaxHR\": 109, \"ExerciseAngina\": \"Y\", \"Oldpeak\": 2.2, \"ST_Slope\": \"Flat\", \"HeartDisease\": 1, \"HD\": \"True\", \"Prediction\": \"True\"}, {\"Age\": 54, \"Sex\": \"M\", \"ChestPainType\": \"ASY\", \"RestingBP\": 110, \"Cholesterol\": 206, \"FastingBS\": 0, \"RestingECG\": \"LVH\", \"MaxHR\": 108, \"ExerciseAngina\": \"Y\", \"Oldpeak\": 0.0, \"ST_Slope\": \"Flat\", \"HeartDisease\": 1, \"HD\": \"True\", \"Prediction\": \"False\"}, {\"Age\": 52, \"Sex\": \"M\", \"ChestPainType\": \"ASY\", \"RestingBP\": 125, \"Cholesterol\": 212, \"FastingBS\": 0, \"RestingECG\": \"Normal\", \"MaxHR\": 168, \"ExerciseAngina\": \"N\", \"Oldpeak\": 1.0, \"ST_Slope\": \"Up\", \"HeartDisease\": 1, \"HD\": \"True\", \"Prediction\": \"False\"}, {\"Age\": 47, \"Sex\": \"M\", \"ChestPainType\": \"ASY\", \"RestingBP\": 110, \"Cholesterol\": 275, \"FastingBS\": 0, \"RestingECG\": \"LVH\", \"MaxHR\": 118, \"ExerciseAngina\": \"Y\", \"Oldpeak\": 1.0, \"ST_Slope\": \"Flat\", \"HeartDisease\": 1, \"HD\": \"True\", \"Prediction\": \"False\"}, {\"Age\": 66, \"Sex\": \"M\", \"ChestPainType\": \"ASY\", \"RestingBP\": 120, \"Cholesterol\": 302, \"FastingBS\": 0, \"RestingECG\": \"LVH\", \"MaxHR\": 151, \"ExerciseAngina\": \"N\", \"Oldpeak\": 0.4, \"ST_Slope\": \"Flat\", \"HeartDisease\": 0, \"HD\": \"False\", \"Prediction\": \"False\"}, {\"Age\": 58, \"Sex\": \"M\", \"ChestPainType\": \"ASY\", \"RestingBP\": 100, \"Cholesterol\": 234, \"FastingBS\": 0, \"RestingECG\": \"Normal\", \"MaxHR\": 156, \"ExerciseAngina\": \"N\", \"Oldpeak\": 0.1, \"ST_Slope\": \"Up\", \"HeartDisease\": 1, \"HD\": \"True\", \"Prediction\": \"True\"}, {\"Age\": 64, \"Sex\": \"F\", \"ChestPainType\": \"NAP\", \"RestingBP\": 140, \"Cholesterol\": 313, \"FastingBS\": 0, \"RestingECG\": \"Normal\", \"MaxHR\": 133, \"ExerciseAngina\": \"N\", \"Oldpeak\": 0.2, \"ST_Slope\": \"Up\", \"HeartDisease\": 0, \"HD\": \"False\", \"Prediction\": \"True\"}, {\"Age\": 50, \"Sex\": \"F\", \"ChestPainType\": \"ATA\", \"RestingBP\": 120, \"Cholesterol\": 244, \"FastingBS\": 0, \"RestingECG\": \"Normal\", \"MaxHR\": 162, \"ExerciseAngina\": \"N\", \"Oldpeak\": 1.1, \"ST_Slope\": \"Up\", \"HeartDisease\": 0, \"HD\": \"False\", \"Prediction\": \"False\"}, {\"Age\": 44, \"Sex\": \"F\", \"ChestPainType\": \"NAP\", \"RestingBP\": 108, \"Cholesterol\": 141, \"FastingBS\": 0, \"RestingECG\": \"Normal\", \"MaxHR\": 175, \"ExerciseAngina\": \"N\", \"Oldpeak\": 0.6, \"ST_Slope\": \"Flat\", \"HeartDisease\": 0, \"HD\": \"False\", \"Prediction\": \"False\"}, {\"Age\": 67, \"Sex\": \"M\", \"ChestPainType\": \"ASY\", \"RestingBP\": 120, \"Cholesterol\": 237, \"FastingBS\": 0, \"RestingECG\": \"Normal\", \"MaxHR\": 71, \"ExerciseAngina\": \"N\", \"Oldpeak\": 1.0, \"ST_Slope\": \"Flat\", \"HeartDisease\": 1, \"HD\": \"True\", \"Prediction\": \"False\"}, {\"Age\": 49, \"Sex\": \"F\", \"ChestPainType\": \"ASY\", \"RestingBP\": 130, \"Cholesterol\": 269, \"FastingBS\": 0, \"RestingECG\": \"Normal\", \"MaxHR\": 163, \"ExerciseAngina\": \"N\", \"Oldpeak\": 0.0, \"ST_Slope\": \"Up\", \"HeartDisease\": 0, \"HD\": \"False\", \"Prediction\": \"False\"}, {\"Age\": 57, \"Sex\": \"M\", \"ChestPainType\": \"ASY\", \"RestingBP\": 165, \"Cholesterol\": 289, \"FastingBS\": 1, \"RestingECG\": \"LVH\", \"MaxHR\": 124, \"ExerciseAngina\": \"N\", \"Oldpeak\": 1.0, \"ST_Slope\": \"Flat\", \"HeartDisease\": 1, \"HD\": \"True\", \"Prediction\": \"True\"}, {\"Age\": 63, \"Sex\": \"M\", \"ChestPainType\": \"ASY\", \"RestingBP\": 130, \"Cholesterol\": 254, \"FastingBS\": 0, \"RestingECG\": \"LVH\", \"MaxHR\": 147, \"ExerciseAngina\": \"N\", \"Oldpeak\": 1.4, \"ST_Slope\": \"Flat\", \"HeartDisease\": 1, \"HD\": \"True\", \"Prediction\": \"True\"}, {\"Age\": 48, \"Sex\": \"M\", \"ChestPainType\": \"ASY\", \"RestingBP\": 124, \"Cholesterol\": 274, \"FastingBS\": 0, \"RestingECG\": \"LVH\", \"MaxHR\": 166, \"ExerciseAngina\": \"N\", \"Oldpeak\": 0.5, \"ST_Slope\": \"Flat\", \"HeartDisease\": 1, \"HD\": \"True\", \"Prediction\": \"False\"}, {\"Age\": 51, \"Sex\": \"M\", \"ChestPainType\": \"NAP\", \"RestingBP\": 100, \"Cholesterol\": 222, \"FastingBS\": 0, \"RestingECG\": \"Normal\", \"MaxHR\": 143, \"ExerciseAngina\": \"Y\", \"Oldpeak\": 1.2, \"ST_Slope\": \"Flat\", \"HeartDisease\": 0, \"HD\": \"False\", \"Prediction\": \"False\"}, {\"Age\": 60, \"Sex\": \"F\", \"ChestPainType\": \"ASY\", \"RestingBP\": 150, \"Cholesterol\": 258, \"FastingBS\": 0, \"RestingECG\": \"LVH\", \"MaxHR\": 157, \"ExerciseAngina\": \"N\", \"Oldpeak\": 2.6, \"ST_Slope\": \"Flat\", \"HeartDisease\": 1, \"HD\": \"True\", \"Prediction\": \"True\"}, {\"Age\": 59, \"Sex\": \"M\", \"ChestPainType\": \"ASY\", \"RestingBP\": 140, \"Cholesterol\": 177, \"FastingBS\": 0, \"RestingECG\": \"Normal\", \"MaxHR\": 162, \"ExerciseAngina\": \"Y\", \"Oldpeak\": 0.0, \"ST_Slope\": \"Up\", \"HeartDisease\": 1, \"HD\": \"True\", \"Prediction\": \"False\"}, {\"Age\": 45, \"Sex\": \"F\", \"ChestPainType\": \"ATA\", \"RestingBP\": 112, \"Cholesterol\": 160, \"FastingBS\": 0, \"RestingECG\": \"Normal\", \"MaxHR\": 138, \"ExerciseAngina\": \"N\", \"Oldpeak\": 0.0, \"ST_Slope\": \"Flat\", \"HeartDisease\": 0, \"HD\": \"False\", \"Prediction\": \"False\"}, {\"Age\": 55, \"Sex\": \"F\", \"ChestPainType\": \"ASY\", \"RestingBP\": 180, \"Cholesterol\": 327, \"FastingBS\": 0, \"RestingECG\": \"ST\", \"MaxHR\": 117, \"ExerciseAngina\": \"Y\", \"Oldpeak\": 3.4, \"ST_Slope\": \"Flat\", \"HeartDisease\": 1, \"HD\": \"True\", \"Prediction\": \"True\"}, {\"Age\": 41, \"Sex\": \"M\", \"ChestPainType\": \"ATA\", \"RestingBP\": 110, \"Cholesterol\": 235, \"FastingBS\": 0, \"RestingECG\": \"Normal\", \"MaxHR\": 153, \"ExerciseAngina\": \"N\", \"Oldpeak\": 0.0, \"ST_Slope\": \"Up\", \"HeartDisease\": 0, \"HD\": \"False\", \"Prediction\": \"False\"}, {\"Age\": 60, \"Sex\": \"F\", \"ChestPainType\": \"ASY\", \"RestingBP\": 158, \"Cholesterol\": 305, \"FastingBS\": 0, \"RestingECG\": \"LVH\", \"MaxHR\": 161, \"ExerciseAngina\": \"N\", \"Oldpeak\": 0.0, \"ST_Slope\": \"Up\", \"HeartDisease\": 1, \"HD\": \"True\", \"Prediction\": \"False\"}, {\"Age\": 54, \"Sex\": \"F\", \"ChestPainType\": \"NAP\", \"RestingBP\": 135, \"Cholesterol\": 304, \"FastingBS\": 1, \"RestingECG\": \"Normal\", \"MaxHR\": 170, \"ExerciseAngina\": \"N\", \"Oldpeak\": 0.0, \"ST_Slope\": \"Up\", \"HeartDisease\": 0, \"HD\": \"False\", \"Prediction\": \"False\"}, {\"Age\": 42, \"Sex\": \"M\", \"ChestPainType\": \"ATA\", \"RestingBP\": 120, \"Cholesterol\": 295, \"FastingBS\": 0, \"RestingECG\": \"Normal\", \"MaxHR\": 162, \"ExerciseAngina\": \"N\", \"Oldpeak\": 0.0, \"ST_Slope\": \"Up\", \"HeartDisease\": 0, \"HD\": \"False\", \"Prediction\": \"False\"}, {\"Age\": 49, \"Sex\": \"F\", \"ChestPainType\": \"ATA\", \"RestingBP\": 134, \"Cholesterol\": 271, \"FastingBS\": 0, \"RestingECG\": \"Normal\", \"MaxHR\": 162, \"ExerciseAngina\": \"N\", \"Oldpeak\": 0.0, \"ST_Slope\": \"Flat\", \"HeartDisease\": 0, \"HD\": \"False\", \"Prediction\": \"False\"}, {\"Age\": 46, \"Sex\": \"M\", \"ChestPainType\": \"ASY\", \"RestingBP\": 120, \"Cholesterol\": 249, \"FastingBS\": 0, \"RestingECG\": \"LVH\", \"MaxHR\": 144, \"ExerciseAngina\": \"N\", \"Oldpeak\": 0.8, \"ST_Slope\": \"Up\", \"HeartDisease\": 1, \"HD\": \"True\", \"Prediction\": \"False\"}, {\"Age\": 56, \"Sex\": \"F\", \"ChestPainType\": \"ASY\", \"RestingBP\": 200, \"Cholesterol\": 288, \"FastingBS\": 1, \"RestingECG\": \"LVH\", \"MaxHR\": 133, \"ExerciseAngina\": \"Y\", \"Oldpeak\": 4.0, \"ST_Slope\": \"Down\", \"HeartDisease\": 1, \"HD\": \"True\", \"Prediction\": \"True\"}, {\"Age\": 66, \"Sex\": \"F\", \"ChestPainType\": \"TA\", \"RestingBP\": 150, \"Cholesterol\": 226, \"FastingBS\": 0, \"RestingECG\": \"Normal\", \"MaxHR\": 114, \"ExerciseAngina\": \"N\", \"Oldpeak\": 2.6, \"ST_Slope\": \"Down\", \"HeartDisease\": 0, \"HD\": \"False\", \"Prediction\": \"True\"}, {\"Age\": 56, \"Sex\": \"M\", \"ChestPainType\": \"ASY\", \"RestingBP\": 130, \"Cholesterol\": 283, \"FastingBS\": 1, \"RestingECG\": \"LVH\", \"MaxHR\": 103, \"ExerciseAngina\": \"Y\", \"Oldpeak\": 1.6, \"ST_Slope\": \"Down\", \"HeartDisease\": 1, \"HD\": \"True\", \"Prediction\": \"True\"}, {\"Age\": 49, \"Sex\": \"M\", \"ChestPainType\": \"NAP\", \"RestingBP\": 120, \"Cholesterol\": 188, \"FastingBS\": 0, \"RestingECG\": \"Normal\", \"MaxHR\": 139, \"ExerciseAngina\": \"N\", \"Oldpeak\": 2.0, \"ST_Slope\": \"Flat\", \"HeartDisease\": 1, \"HD\": \"True\", \"Prediction\": \"False\"}, {\"Age\": 54, \"Sex\": \"M\", \"ChestPainType\": \"ASY\", \"RestingBP\": 122, \"Cholesterol\": 286, \"FastingBS\": 0, \"RestingECG\": \"LVH\", \"MaxHR\": 116, \"ExerciseAngina\": \"Y\", \"Oldpeak\": 3.2, \"ST_Slope\": \"Flat\", \"HeartDisease\": 1, \"HD\": \"True\", \"Prediction\": \"False\"}, {\"Age\": 57, \"Sex\": \"M\", \"ChestPainType\": \"ASY\", \"RestingBP\": 152, \"Cholesterol\": 274, \"FastingBS\": 0, \"RestingECG\": \"Normal\", \"MaxHR\": 88, \"ExerciseAngina\": \"Y\", \"Oldpeak\": 1.2, \"ST_Slope\": \"Flat\", \"HeartDisease\": 1, \"HD\": \"True\", \"Prediction\": \"True\"}, {\"Age\": 65, \"Sex\": \"F\", \"ChestPainType\": \"NAP\", \"RestingBP\": 160, \"Cholesterol\": 360, \"FastingBS\": 0, \"RestingECG\": \"LVH\", \"MaxHR\": 151, \"ExerciseAngina\": \"N\", \"Oldpeak\": 0.8, \"ST_Slope\": \"Up\", \"HeartDisease\": 0, \"HD\": \"False\", \"Prediction\": \"False\"}, {\"Age\": 54, \"Sex\": \"M\", \"ChestPainType\": \"NAP\", \"RestingBP\": 125, \"Cholesterol\": 273, \"FastingBS\": 0, \"RestingECG\": \"LVH\", \"MaxHR\": 152, \"ExerciseAngina\": \"N\", \"Oldpeak\": 0.5, \"ST_Slope\": \"Down\", \"HeartDisease\": 0, \"HD\": \"False\", \"Prediction\": \"False\"}, {\"Age\": 54, \"Sex\": \"F\", \"ChestPainType\": \"NAP\", \"RestingBP\": 160, \"Cholesterol\": 201, \"FastingBS\": 0, \"RestingECG\": \"Normal\", \"MaxHR\": 163, \"ExerciseAngina\": \"N\", \"Oldpeak\": 0.0, \"ST_Slope\": \"Up\", \"HeartDisease\": 0, \"HD\": \"False\", \"Prediction\": \"False\"}, {\"Age\": 62, \"Sex\": \"M\", \"ChestPainType\": \"ASY\", \"RestingBP\": 120, \"Cholesterol\": 267, \"FastingBS\": 0, \"RestingECG\": \"Normal\", \"MaxHR\": 99, \"ExerciseAngina\": \"Y\", \"Oldpeak\": 1.8, \"ST_Slope\": \"Flat\", \"HeartDisease\": 1, \"HD\": \"True\", \"Prediction\": \"True\"}, {\"Age\": 52, \"Sex\": \"F\", \"ChestPainType\": \"NAP\", \"RestingBP\": 136, \"Cholesterol\": 196, \"FastingBS\": 0, \"RestingECG\": \"LVH\", \"MaxHR\": 169, \"ExerciseAngina\": \"N\", \"Oldpeak\": 0.1, \"ST_Slope\": \"Flat\", \"HeartDisease\": 0, \"HD\": \"False\", \"Prediction\": \"False\"}, {\"Age\": 52, \"Sex\": \"M\", \"ChestPainType\": \"ATA\", \"RestingBP\": 134, \"Cholesterol\": 201, \"FastingBS\": 0, \"RestingECG\": \"Normal\", \"MaxHR\": 158, \"ExerciseAngina\": \"N\", \"Oldpeak\": 0.8, \"ST_Slope\": \"Up\", \"HeartDisease\": 0, \"HD\": \"False\", \"Prediction\": \"False\"}, {\"Age\": 60, \"Sex\": \"M\", \"ChestPainType\": \"ASY\", \"RestingBP\": 117, \"Cholesterol\": 230, \"FastingBS\": 1, \"RestingECG\": \"Normal\", \"MaxHR\": 160, \"ExerciseAngina\": \"Y\", \"Oldpeak\": 1.4, \"ST_Slope\": \"Up\", \"HeartDisease\": 1, \"HD\": \"True\", \"Prediction\": \"False\"}, {\"Age\": 63, \"Sex\": \"F\", \"ChestPainType\": \"ASY\", \"RestingBP\": 108, \"Cholesterol\": 269, \"FastingBS\": 0, \"RestingECG\": \"Normal\", \"MaxHR\": 169, \"ExerciseAngina\": \"Y\", \"Oldpeak\": 1.8, \"ST_Slope\": \"Flat\", \"HeartDisease\": 1, \"HD\": \"True\", \"Prediction\": \"False\"}, {\"Age\": 66, \"Sex\": \"M\", \"ChestPainType\": \"ASY\", \"RestingBP\": 112, \"Cholesterol\": 212, \"FastingBS\": 0, \"RestingECG\": \"LVH\", \"MaxHR\": 132, \"ExerciseAngina\": \"Y\", \"Oldpeak\": 0.1, \"ST_Slope\": \"Up\", \"HeartDisease\": 1, \"HD\": \"True\", \"Prediction\": \"False\"}, {\"Age\": 42, \"Sex\": \"M\", \"ChestPainType\": \"ASY\", \"RestingBP\": 140, \"Cholesterol\": 226, \"FastingBS\": 0, \"RestingECG\": \"Normal\", \"MaxHR\": 178, \"ExerciseAngina\": \"N\", \"Oldpeak\": 0.0, \"ST_Slope\": \"Up\", \"HeartDisease\": 0, \"HD\": \"False\", \"Prediction\": \"False\"}, {\"Age\": 64, \"Sex\": \"M\", \"ChestPainType\": \"ASY\", \"RestingBP\": 120, \"Cholesterol\": 246, \"FastingBS\": 0, \"RestingECG\": \"LVH\", \"MaxHR\": 96, \"ExerciseAngina\": \"Y\", \"Oldpeak\": 2.2, \"ST_Slope\": \"Down\", \"HeartDisease\": 1, \"HD\": \"True\", \"Prediction\": \"False\"}, {\"Age\": 54, \"Sex\": \"M\", \"ChestPainType\": \"NAP\", \"RestingBP\": 150, \"Cholesterol\": 232, \"FastingBS\": 0, \"RestingECG\": \"LVH\", \"MaxHR\": 165, \"ExerciseAngina\": \"N\", \"Oldpeak\": 1.6, \"ST_Slope\": \"Up\", \"HeartDisease\": 0, \"HD\": \"False\", \"Prediction\": \"False\"}, {\"Age\": 46, \"Sex\": \"F\", \"ChestPainType\": \"NAP\", \"RestingBP\": 142, \"Cholesterol\": 177, \"FastingBS\": 0, \"RestingECG\": \"LVH\", \"MaxHR\": 160, \"ExerciseAngina\": \"Y\", \"Oldpeak\": 1.4, \"ST_Slope\": \"Down\", \"HeartDisease\": 0, \"HD\": \"False\", \"Prediction\": \"False\"}, {\"Age\": 67, \"Sex\": \"F\", \"ChestPainType\": \"NAP\", \"RestingBP\": 152, \"Cholesterol\": 277, \"FastingBS\": 0, \"RestingECG\": \"Normal\", \"MaxHR\": 172, \"ExerciseAngina\": \"N\", \"Oldpeak\": 0.0, \"ST_Slope\": \"Up\", \"HeartDisease\": 0, \"HD\": \"False\", \"Prediction\": \"False\"}, {\"Age\": 56, \"Sex\": \"M\", \"ChestPainType\": \"ASY\", \"RestingBP\": 125, \"Cholesterol\": 249, \"FastingBS\": 1, \"RestingECG\": \"LVH\", \"MaxHR\": 144, \"ExerciseAngina\": \"Y\", \"Oldpeak\": 1.2, \"ST_Slope\": \"Flat\", \"HeartDisease\": 1, \"HD\": \"True\", \"Prediction\": \"True\"}, {\"Age\": 34, \"Sex\": \"F\", \"ChestPainType\": \"ATA\", \"RestingBP\": 118, \"Cholesterol\": 210, \"FastingBS\": 0, \"RestingECG\": \"Normal\", \"MaxHR\": 192, \"ExerciseAngina\": \"N\", \"Oldpeak\": 0.7, \"ST_Slope\": \"Up\", \"HeartDisease\": 0, \"HD\": \"False\", \"Prediction\": \"False\"}, {\"Age\": 57, \"Sex\": \"M\", \"ChestPainType\": \"ASY\", \"RestingBP\": 132, \"Cholesterol\": 207, \"FastingBS\": 0, \"RestingECG\": \"Normal\", \"MaxHR\": 168, \"ExerciseAngina\": \"Y\", \"Oldpeak\": 0.0, \"ST_Slope\": \"Up\", \"HeartDisease\": 0, \"HD\": \"False\", \"Prediction\": \"False\"}, {\"Age\": 64, \"Sex\": \"M\", \"ChestPainType\": \"ASY\", \"RestingBP\": 145, \"Cholesterol\": 212, \"FastingBS\": 0, \"RestingECG\": \"LVH\", \"MaxHR\": 132, \"ExerciseAngina\": \"N\", \"Oldpeak\": 2.0, \"ST_Slope\": \"Flat\", \"HeartDisease\": 1, \"HD\": \"True\", \"Prediction\": \"True\"}, {\"Age\": 59, \"Sex\": \"M\", \"ChestPainType\": \"ASY\", \"RestingBP\": 138, \"Cholesterol\": 271, \"FastingBS\": 0, \"RestingECG\": \"LVH\", \"MaxHR\": 182, \"ExerciseAngina\": \"N\", \"Oldpeak\": 0.0, \"ST_Slope\": \"Up\", \"HeartDisease\": 0, \"HD\": \"False\", \"Prediction\": \"False\"}, {\"Age\": 50, \"Sex\": \"M\", \"ChestPainType\": \"NAP\", \"RestingBP\": 140, \"Cholesterol\": 233, \"FastingBS\": 0, \"RestingECG\": \"Normal\", \"MaxHR\": 163, \"ExerciseAngina\": \"N\", \"Oldpeak\": 0.6, \"ST_Slope\": \"Flat\", \"HeartDisease\": 1, \"HD\": \"True\", \"Prediction\": \"False\"}, {\"Age\": 51, \"Sex\": \"M\", \"ChestPainType\": \"TA\", \"RestingBP\": 125, \"Cholesterol\": 213, \"FastingBS\": 0, \"RestingECG\": \"LVH\", \"MaxHR\": 125, \"ExerciseAngina\": \"Y\", \"Oldpeak\": 1.4, \"ST_Slope\": \"Up\", \"HeartDisease\": 0, \"HD\": \"False\", \"Prediction\": \"False\"}, {\"Age\": 54, \"Sex\": \"M\", \"ChestPainType\": \"ATA\", \"RestingBP\": 192, \"Cholesterol\": 283, \"FastingBS\": 0, \"RestingECG\": \"LVH\", \"MaxHR\": 195, \"ExerciseAngina\": \"N\", \"Oldpeak\": 0.0, \"ST_Slope\": \"Up\", \"HeartDisease\": 1, \"HD\": \"True\", \"Prediction\": \"False\"}, {\"Age\": 53, \"Sex\": \"M\", \"ChestPainType\": \"ASY\", \"RestingBP\": 123, \"Cholesterol\": 282, \"FastingBS\": 0, \"RestingECG\": \"Normal\", \"MaxHR\": 95, \"ExerciseAngina\": \"Y\", \"Oldpeak\": 2.0, \"ST_Slope\": \"Flat\", \"HeartDisease\": 1, \"HD\": \"True\", \"Prediction\": \"True\"}, {\"Age\": 52, \"Sex\": \"M\", \"ChestPainType\": \"ASY\", \"RestingBP\": 112, \"Cholesterol\": 230, \"FastingBS\": 0, \"RestingECG\": \"Normal\", \"MaxHR\": 160, \"ExerciseAngina\": \"N\", \"Oldpeak\": 0.0, \"ST_Slope\": \"Up\", \"HeartDisease\": 1, \"HD\": \"True\", \"Prediction\": \"False\"}, {\"Age\": 40, \"Sex\": \"M\", \"ChestPainType\": \"ASY\", \"RestingBP\": 110, \"Cholesterol\": 167, \"FastingBS\": 0, \"RestingECG\": \"LVH\", \"MaxHR\": 114, \"ExerciseAngina\": \"Y\", \"Oldpeak\": 2.0, \"ST_Slope\": \"Flat\", \"HeartDisease\": 1, \"HD\": \"True\", \"Prediction\": \"True\"}, {\"Age\": 58, \"Sex\": \"M\", \"ChestPainType\": \"NAP\", \"RestingBP\": 132, \"Cholesterol\": 224, \"FastingBS\": 0, \"RestingECG\": \"LVH\", \"MaxHR\": 173, \"ExerciseAngina\": \"N\", \"Oldpeak\": 3.2, \"ST_Slope\": \"Up\", \"HeartDisease\": 1, \"HD\": \"True\", \"Prediction\": \"False\"}, {\"Age\": 41, \"Sex\": \"F\", \"ChestPainType\": \"NAP\", \"RestingBP\": 112, \"Cholesterol\": 268, \"FastingBS\": 0, \"RestingECG\": \"LVH\", \"MaxHR\": 172, \"ExerciseAngina\": \"Y\", \"Oldpeak\": 0.0, \"ST_Slope\": \"Up\", \"HeartDisease\": 0, \"HD\": \"False\", \"Prediction\": \"False\"}, {\"Age\": 41, \"Sex\": \"M\", \"ChestPainType\": \"NAP\", \"RestingBP\": 112, \"Cholesterol\": 250, \"FastingBS\": 0, \"RestingECG\": \"Normal\", \"MaxHR\": 179, \"ExerciseAngina\": \"N\", \"Oldpeak\": 0.0, \"ST_Slope\": \"Up\", \"HeartDisease\": 0, \"HD\": \"False\", \"Prediction\": \"False\"}, {\"Age\": 50, \"Sex\": \"F\", \"ChestPainType\": \"NAP\", \"RestingBP\": 120, \"Cholesterol\": 219, \"FastingBS\": 0, \"RestingECG\": \"Normal\", \"MaxHR\": 158, \"ExerciseAngina\": \"N\", \"Oldpeak\": 1.6, \"ST_Slope\": \"Flat\", \"HeartDisease\": 0, \"HD\": \"False\", \"Prediction\": \"False\"}, {\"Age\": 54, \"Sex\": \"F\", \"ChestPainType\": \"NAP\", \"RestingBP\": 108, \"Cholesterol\": 267, \"FastingBS\": 0, \"RestingECG\": \"LVH\", \"MaxHR\": 167, \"ExerciseAngina\": \"N\", \"Oldpeak\": 0.0, \"ST_Slope\": \"Up\", \"HeartDisease\": 0, \"HD\": \"False\", \"Prediction\": \"False\"}, {\"Age\": 64, \"Sex\": \"F\", \"ChestPainType\": \"ASY\", \"RestingBP\": 130, \"Cholesterol\": 303, \"FastingBS\": 0, \"RestingECG\": \"Normal\", \"MaxHR\": 122, \"ExerciseAngina\": \"N\", \"Oldpeak\": 2.0, \"ST_Slope\": \"Flat\", \"HeartDisease\": 0, \"HD\": \"False\", \"Prediction\": \"True\"}, {\"Age\": 51, \"Sex\": \"F\", \"ChestPainType\": \"NAP\", \"RestingBP\": 130, \"Cholesterol\": 256, \"FastingBS\": 0, \"RestingECG\": \"LVH\", \"MaxHR\": 149, \"ExerciseAngina\": \"N\", \"Oldpeak\": 0.5, \"ST_Slope\": \"Up\", \"HeartDisease\": 0, \"HD\": \"False\", \"Prediction\": \"False\"}, {\"Age\": 46, \"Sex\": \"F\", \"ChestPainType\": \"ATA\", \"RestingBP\": 105, \"Cholesterol\": 204, \"FastingBS\": 0, \"RestingECG\": \"Normal\", \"MaxHR\": 172, \"ExerciseAngina\": \"N\", \"Oldpeak\": 0.0, \"ST_Slope\": \"Up\", \"HeartDisease\": 0, \"HD\": \"False\", \"Prediction\": \"False\"}, {\"Age\": 55, \"Sex\": \"M\", \"ChestPainType\": \"ASY\", \"RestingBP\": 140, \"Cholesterol\": 217, \"FastingBS\": 0, \"RestingECG\": \"Normal\", \"MaxHR\": 111, \"ExerciseAngina\": \"Y\", \"Oldpeak\": 5.6, \"ST_Slope\": \"Down\", \"HeartDisease\": 1, \"HD\": \"True\", \"Prediction\": \"True\"}, {\"Age\": 45, \"Sex\": \"M\", \"ChestPainType\": \"ATA\", \"RestingBP\": 128, \"Cholesterol\": 308, \"FastingBS\": 0, \"RestingECG\": \"LVH\", \"MaxHR\": 170, \"ExerciseAngina\": \"N\", \"Oldpeak\": 0.0, \"ST_Slope\": \"Up\", \"HeartDisease\": 0, \"HD\": \"False\", \"Prediction\": \"False\"}, {\"Age\": 56, \"Sex\": \"M\", \"ChestPainType\": \"TA\", \"RestingBP\": 120, \"Cholesterol\": 193, \"FastingBS\": 0, \"RestingECG\": \"LVH\", \"MaxHR\": 162, \"ExerciseAngina\": \"N\", \"Oldpeak\": 1.9, \"ST_Slope\": \"Flat\", \"HeartDisease\": 0, \"HD\": \"False\", \"Prediction\": \"False\"}, {\"Age\": 66, \"Sex\": \"F\", \"ChestPainType\": \"ASY\", \"RestingBP\": 178, \"Cholesterol\": 228, \"FastingBS\": 1, \"RestingECG\": \"Normal\", \"MaxHR\": 165, \"ExerciseAngina\": \"Y\", \"Oldpeak\": 1.0, \"ST_Slope\": \"Flat\", \"HeartDisease\": 1, \"HD\": \"True\", \"Prediction\": \"False\"}, {\"Age\": 38, \"Sex\": \"M\", \"ChestPainType\": \"TA\", \"RestingBP\": 120, \"Cholesterol\": 231, \"FastingBS\": 0, \"RestingECG\": \"Normal\", \"MaxHR\": 182, \"ExerciseAngina\": \"Y\", \"Oldpeak\": 3.8, \"ST_Slope\": \"Flat\", \"HeartDisease\": 1, \"HD\": \"True\", \"Prediction\": \"False\"}, {\"Age\": 62, \"Sex\": \"F\", \"ChestPainType\": \"ASY\", \"RestingBP\": 150, \"Cholesterol\": 244, \"FastingBS\": 0, \"RestingECG\": \"Normal\", \"MaxHR\": 154, \"ExerciseAngina\": \"Y\", \"Oldpeak\": 1.4, \"ST_Slope\": \"Flat\", \"HeartDisease\": 1, \"HD\": \"True\", \"Prediction\": \"False\"}, {\"Age\": 55, \"Sex\": \"M\", \"ChestPainType\": \"ATA\", \"RestingBP\": 130, \"Cholesterol\": 262, \"FastingBS\": 0, \"RestingECG\": \"Normal\", \"MaxHR\": 155, \"ExerciseAngina\": \"N\", \"Oldpeak\": 0.0, \"ST_Slope\": \"Up\", \"HeartDisease\": 0, \"HD\": \"False\", \"Prediction\": \"False\"}, {\"Age\": 58, \"Sex\": \"M\", \"ChestPainType\": \"ASY\", \"RestingBP\": 128, \"Cholesterol\": 259, \"FastingBS\": 0, \"RestingECG\": \"LVH\", \"MaxHR\": 130, \"ExerciseAngina\": \"Y\", \"Oldpeak\": 3.0, \"ST_Slope\": \"Flat\", \"HeartDisease\": 1, \"HD\": \"True\", \"Prediction\": \"True\"}, {\"Age\": 43, \"Sex\": \"M\", \"ChestPainType\": \"ASY\", \"RestingBP\": 110, \"Cholesterol\": 211, \"FastingBS\": 0, \"RestingECG\": \"Normal\", \"MaxHR\": 161, \"ExerciseAngina\": \"N\", \"Oldpeak\": 0.0, \"ST_Slope\": \"Up\", \"HeartDisease\": 0, \"HD\": \"False\", \"Prediction\": \"False\"}, {\"Age\": 64, \"Sex\": \"F\", \"ChestPainType\": \"ASY\", \"RestingBP\": 180, \"Cholesterol\": 325, \"FastingBS\": 0, \"RestingECG\": \"Normal\", \"MaxHR\": 154, \"ExerciseAngina\": \"Y\", \"Oldpeak\": 0.0, \"ST_Slope\": \"Up\", \"HeartDisease\": 0, \"HD\": \"False\", \"Prediction\": \"False\"}, {\"Age\": 50, \"Sex\": \"F\", \"ChestPainType\": \"ASY\", \"RestingBP\": 110, \"Cholesterol\": 254, \"FastingBS\": 0, \"RestingECG\": \"LVH\", \"MaxHR\": 159, \"ExerciseAngina\": \"N\", \"Oldpeak\": 0.0, \"ST_Slope\": \"Up\", \"HeartDisease\": 0, \"HD\": \"False\", \"Prediction\": \"False\"}, {\"Age\": 53, \"Sex\": \"M\", \"ChestPainType\": \"NAP\", \"RestingBP\": 130, \"Cholesterol\": 197, \"FastingBS\": 1, \"RestingECG\": \"LVH\", \"MaxHR\": 152, \"ExerciseAngina\": \"N\", \"Oldpeak\": 1.2, \"ST_Slope\": \"Down\", \"HeartDisease\": 0, \"HD\": \"False\", \"Prediction\": \"False\"}, {\"Age\": 45, \"Sex\": \"F\", \"ChestPainType\": \"ASY\", \"RestingBP\": 138, \"Cholesterol\": 236, \"FastingBS\": 0, \"RestingECG\": \"LVH\", \"MaxHR\": 152, \"ExerciseAngina\": \"Y\", \"Oldpeak\": 0.2, \"ST_Slope\": \"Flat\", \"HeartDisease\": 0, \"HD\": \"False\", \"Prediction\": \"False\"}, {\"Age\": 65, \"Sex\": \"M\", \"ChestPainType\": \"TA\", \"RestingBP\": 138, \"Cholesterol\": 282, \"FastingBS\": 1, \"RestingECG\": \"LVH\", \"MaxHR\": 174, \"ExerciseAngina\": \"N\", \"Oldpeak\": 1.4, \"ST_Slope\": \"Flat\", \"HeartDisease\": 1, \"HD\": \"True\", \"Prediction\": \"True\"}, {\"Age\": 69, \"Sex\": \"M\", \"ChestPainType\": \"TA\", \"RestingBP\": 160, \"Cholesterol\": 234, \"FastingBS\": 1, \"RestingECG\": \"LVH\", \"MaxHR\": 131, \"ExerciseAngina\": \"N\", \"Oldpeak\": 0.1, \"ST_Slope\": \"Flat\", \"HeartDisease\": 0, \"HD\": \"False\", \"Prediction\": \"False\"}, {\"Age\": 69, \"Sex\": \"M\", \"ChestPainType\": \"NAP\", \"RestingBP\": 140, \"Cholesterol\": 254, \"FastingBS\": 0, \"RestingECG\": \"LVH\", \"MaxHR\": 146, \"ExerciseAngina\": \"N\", \"Oldpeak\": 2.0, \"ST_Slope\": \"Flat\", \"HeartDisease\": 1, \"HD\": \"True\", \"Prediction\": \"True\"}, {\"Age\": 67, \"Sex\": \"M\", \"ChestPainType\": \"ASY\", \"RestingBP\": 100, \"Cholesterol\": 299, \"FastingBS\": 0, \"RestingECG\": \"LVH\", \"MaxHR\": 125, \"ExerciseAngina\": \"Y\", \"Oldpeak\": 0.9, \"ST_Slope\": \"Flat\", \"HeartDisease\": 1, \"HD\": \"True\", \"Prediction\": \"False\"}, {\"Age\": 68, \"Sex\": \"F\", \"ChestPainType\": \"NAP\", \"RestingBP\": 120, \"Cholesterol\": 211, \"FastingBS\": 0, \"RestingECG\": \"LVH\", \"MaxHR\": 115, \"ExerciseAngina\": \"N\", \"Oldpeak\": 1.5, \"ST_Slope\": \"Flat\", \"HeartDisease\": 0, \"HD\": \"False\", \"Prediction\": \"True\"}, {\"Age\": 34, \"Sex\": \"M\", \"ChestPainType\": \"TA\", \"RestingBP\": 118, \"Cholesterol\": 182, \"FastingBS\": 0, \"RestingECG\": \"LVH\", \"MaxHR\": 174, \"ExerciseAngina\": \"N\", \"Oldpeak\": 0.0, \"ST_Slope\": \"Up\", \"HeartDisease\": 0, \"HD\": \"False\", \"Prediction\": \"False\"}, {\"Age\": 62, \"Sex\": \"F\", \"ChestPainType\": \"ASY\", \"RestingBP\": 138, \"Cholesterol\": 294, \"FastingBS\": 1, \"RestingECG\": \"Normal\", \"MaxHR\": 106, \"ExerciseAngina\": \"N\", \"Oldpeak\": 1.9, \"ST_Slope\": \"Flat\", \"HeartDisease\": 1, \"HD\": \"True\", \"Prediction\": \"True\"}, {\"Age\": 51, \"Sex\": \"M\", \"ChestPainType\": \"ASY\", \"RestingBP\": 140, \"Cholesterol\": 298, \"FastingBS\": 0, \"RestingECG\": \"Normal\", \"MaxHR\": 122, \"ExerciseAngina\": \"Y\", \"Oldpeak\": 4.2, \"ST_Slope\": \"Flat\", \"HeartDisease\": 1, \"HD\": \"True\", \"Prediction\": \"True\"}, {\"Age\": 46, \"Sex\": \"M\", \"ChestPainType\": \"NAP\", \"RestingBP\": 150, \"Cholesterol\": 231, \"FastingBS\": 0, \"RestingECG\": \"Normal\", \"MaxHR\": 147, \"ExerciseAngina\": \"N\", \"Oldpeak\": 3.6, \"ST_Slope\": \"Flat\", \"HeartDisease\": 1, \"HD\": \"True\", \"Prediction\": \"False\"}, {\"Age\": 67, \"Sex\": \"M\", \"ChestPainType\": \"ASY\", \"RestingBP\": 125, \"Cholesterol\": 254, \"FastingBS\": 1, \"RestingECG\": \"Normal\", \"MaxHR\": 163, \"ExerciseAngina\": \"N\", \"Oldpeak\": 0.2, \"ST_Slope\": \"Flat\", \"HeartDisease\": 1, \"HD\": \"True\", \"Prediction\": \"False\"}, {\"Age\": 50, \"Sex\": \"M\", \"ChestPainType\": \"NAP\", \"RestingBP\": 129, \"Cholesterol\": 196, \"FastingBS\": 0, \"RestingECG\": \"Normal\", \"MaxHR\": 163, \"ExerciseAngina\": \"N\", \"Oldpeak\": 0.0, \"ST_Slope\": \"Up\", \"HeartDisease\": 0, \"HD\": \"False\", \"Prediction\": \"False\"}, {\"Age\": 42, \"Sex\": \"M\", \"ChestPainType\": \"NAP\", \"RestingBP\": 120, \"Cholesterol\": 240, \"FastingBS\": 1, \"RestingECG\": \"Normal\", \"MaxHR\": 194, \"ExerciseAngina\": \"N\", \"Oldpeak\": 0.8, \"ST_Slope\": \"Down\", \"HeartDisease\": 0, \"HD\": \"False\", \"Prediction\": \"False\"}, {\"Age\": 56, \"Sex\": \"F\", \"ChestPainType\": \"ASY\", \"RestingBP\": 134, \"Cholesterol\": 409, \"FastingBS\": 0, \"RestingECG\": \"LVH\", \"MaxHR\": 150, \"ExerciseAngina\": \"Y\", \"Oldpeak\": 1.9, \"ST_Slope\": \"Flat\", \"HeartDisease\": 1, \"HD\": \"True\", \"Prediction\": \"False\"}, {\"Age\": 41, \"Sex\": \"M\", \"ChestPainType\": \"ASY\", \"RestingBP\": 110, \"Cholesterol\": 172, \"FastingBS\": 0, \"RestingECG\": \"LVH\", \"MaxHR\": 158, \"ExerciseAngina\": \"N\", \"Oldpeak\": 0.0, \"ST_Slope\": \"Up\", \"HeartDisease\": 1, \"HD\": \"True\", \"Prediction\": \"False\"}, {\"Age\": 42, \"Sex\": \"F\", \"ChestPainType\": \"ASY\", \"RestingBP\": 102, \"Cholesterol\": 265, \"FastingBS\": 0, \"RestingECG\": \"LVH\", \"MaxHR\": 122, \"ExerciseAngina\": \"N\", \"Oldpeak\": 0.6, \"ST_Slope\": \"Flat\", \"HeartDisease\": 0, \"HD\": \"False\", \"Prediction\": \"False\"}, {\"Age\": 53, \"Sex\": \"M\", \"ChestPainType\": \"NAP\", \"RestingBP\": 130, \"Cholesterol\": 246, \"FastingBS\": 1, \"RestingECG\": \"LVH\", \"MaxHR\": 173, \"ExerciseAngina\": \"N\", \"Oldpeak\": 0.0, \"ST_Slope\": \"Up\", \"HeartDisease\": 0, \"HD\": \"False\", \"Prediction\": \"False\"}, {\"Age\": 43, \"Sex\": \"M\", \"ChestPainType\": \"NAP\", \"RestingBP\": 130, \"Cholesterol\": 315, \"FastingBS\": 0, \"RestingECG\": \"Normal\", \"MaxHR\": 162, \"ExerciseAngina\": \"N\", \"Oldpeak\": 1.9, \"ST_Slope\": \"Up\", \"HeartDisease\": 0, \"HD\": \"False\", \"Prediction\": \"False\"}, {\"Age\": 56, \"Sex\": \"M\", \"ChestPainType\": \"ASY\", \"RestingBP\": 132, \"Cholesterol\": 184, \"FastingBS\": 0, \"RestingECG\": \"LVH\", \"MaxHR\": 105, \"ExerciseAngina\": \"Y\", \"Oldpeak\": 2.1, \"ST_Slope\": \"Flat\", \"HeartDisease\": 1, \"HD\": \"True\", \"Prediction\": \"False\"}, {\"Age\": 52, \"Sex\": \"M\", \"ChestPainType\": \"ASY\", \"RestingBP\": 108, \"Cholesterol\": 233, \"FastingBS\": 1, \"RestingECG\": \"Normal\", \"MaxHR\": 147, \"ExerciseAngina\": \"N\", \"Oldpeak\": 0.1, \"ST_Slope\": \"Up\", \"HeartDisease\": 0, \"HD\": \"False\", \"Prediction\": \"False\"}, {\"Age\": 62, \"Sex\": \"F\", \"ChestPainType\": \"ASY\", \"RestingBP\": 140, \"Cholesterol\": 394, \"FastingBS\": 0, \"RestingECG\": \"LVH\", \"MaxHR\": 157, \"ExerciseAngina\": \"N\", \"Oldpeak\": 1.2, \"ST_Slope\": \"Flat\", \"HeartDisease\": 0, \"HD\": \"False\", \"Prediction\": \"False\"}, {\"Age\": 70, \"Sex\": \"M\", \"ChestPainType\": \"NAP\", \"RestingBP\": 160, \"Cholesterol\": 269, \"FastingBS\": 0, \"RestingECG\": \"Normal\", \"MaxHR\": 112, \"ExerciseAngina\": \"Y\", \"Oldpeak\": 2.9, \"ST_Slope\": \"Flat\", \"HeartDisease\": 1, \"HD\": \"True\", \"Prediction\": \"True\"}, {\"Age\": 54, \"Sex\": \"M\", \"ChestPainType\": \"ASY\", \"RestingBP\": 140, \"Cholesterol\": 239, \"FastingBS\": 0, \"RestingECG\": \"Normal\", \"MaxHR\": 160, \"ExerciseAngina\": \"N\", \"Oldpeak\": 1.2, \"ST_Slope\": \"Up\", \"HeartDisease\": 0, \"HD\": \"False\", \"Prediction\": \"False\"}, {\"Age\": 70, \"Sex\": \"M\", \"ChestPainType\": \"ASY\", \"RestingBP\": 145, \"Cholesterol\": 174, \"FastingBS\": 0, \"RestingECG\": \"Normal\", \"MaxHR\": 125, \"ExerciseAngina\": \"Y\", \"Oldpeak\": 2.6, \"ST_Slope\": \"Down\", \"HeartDisease\": 1, \"HD\": \"True\", \"Prediction\": \"True\"}, {\"Age\": 54, \"Sex\": \"M\", \"ChestPainType\": \"ATA\", \"RestingBP\": 108, \"Cholesterol\": 309, \"FastingBS\": 0, \"RestingECG\": \"Normal\", \"MaxHR\": 156, \"ExerciseAngina\": \"N\", \"Oldpeak\": 0.0, \"ST_Slope\": \"Up\", \"HeartDisease\": 0, \"HD\": \"False\", \"Prediction\": \"False\"}, {\"Age\": 35, \"Sex\": \"M\", \"ChestPainType\": \"ASY\", \"RestingBP\": 126, \"Cholesterol\": 282, \"FastingBS\": 0, \"RestingECG\": \"LVH\", \"MaxHR\": 156, \"ExerciseAngina\": \"Y\", \"Oldpeak\": 0.0, \"ST_Slope\": \"Up\", \"HeartDisease\": 1, \"HD\": \"True\", \"Prediction\": \"True\"}, {\"Age\": 48, \"Sex\": \"M\", \"ChestPainType\": \"NAP\", \"RestingBP\": 124, \"Cholesterol\": 255, \"FastingBS\": 1, \"RestingECG\": \"Normal\", \"MaxHR\": 175, \"ExerciseAngina\": \"N\", \"Oldpeak\": 0.0, \"ST_Slope\": \"Up\", \"HeartDisease\": 0, \"HD\": \"False\", \"Prediction\": \"False\"}, {\"Age\": 55, \"Sex\": \"F\", \"ChestPainType\": \"ATA\", \"RestingBP\": 135, \"Cholesterol\": 250, \"FastingBS\": 0, \"RestingECG\": \"LVH\", \"MaxHR\": 161, \"ExerciseAngina\": \"N\", \"Oldpeak\": 1.4, \"ST_Slope\": \"Flat\", \"HeartDisease\": 0, \"HD\": \"False\", \"Prediction\": \"False\"}, {\"Age\": 58, \"Sex\": \"F\", \"ChestPainType\": \"ASY\", \"RestingBP\": 100, \"Cholesterol\": 248, \"FastingBS\": 0, \"RestingECG\": \"LVH\", \"MaxHR\": 122, \"ExerciseAngina\": \"N\", \"Oldpeak\": 1.0, \"ST_Slope\": \"Flat\", \"HeartDisease\": 0, \"HD\": \"False\", \"Prediction\": \"True\"}, {\"Age\": 54, \"Sex\": \"F\", \"ChestPainType\": \"NAP\", \"RestingBP\": 110, \"Cholesterol\": 214, \"FastingBS\": 0, \"RestingECG\": \"Normal\", \"MaxHR\": 158, \"ExerciseAngina\": \"N\", \"Oldpeak\": 1.6, \"ST_Slope\": \"Flat\", \"HeartDisease\": 0, \"HD\": \"False\", \"Prediction\": \"False\"}, {\"Age\": 69, \"Sex\": \"F\", \"ChestPainType\": \"TA\", \"RestingBP\": 140, \"Cholesterol\": 239, \"FastingBS\": 0, \"RestingECG\": \"Normal\", \"MaxHR\": 151, \"ExerciseAngina\": \"N\", \"Oldpeak\": 1.8, \"ST_Slope\": \"Up\", \"HeartDisease\": 0, \"HD\": \"False\", \"Prediction\": \"False\"}, {\"Age\": 77, \"Sex\": \"M\", \"ChestPainType\": \"ASY\", \"RestingBP\": 125, \"Cholesterol\": 304, \"FastingBS\": 0, \"RestingECG\": \"LVH\", \"MaxHR\": 162, \"ExerciseAngina\": \"Y\", \"Oldpeak\": 0.0, \"ST_Slope\": \"Up\", \"HeartDisease\": 1, \"HD\": \"True\", \"Prediction\": \"False\"}, {\"Age\": 68, \"Sex\": \"M\", \"ChestPainType\": \"NAP\", \"RestingBP\": 118, \"Cholesterol\": 277, \"FastingBS\": 0, \"RestingECG\": \"Normal\", \"MaxHR\": 151, \"ExerciseAngina\": \"N\", \"Oldpeak\": 1.0, \"ST_Slope\": \"Up\", \"HeartDisease\": 0, \"HD\": \"False\", \"Prediction\": \"False\"}, {\"Age\": 58, \"Sex\": \"M\", \"ChestPainType\": \"ASY\", \"RestingBP\": 125, \"Cholesterol\": 300, \"FastingBS\": 0, \"RestingECG\": \"LVH\", \"MaxHR\": 171, \"ExerciseAngina\": \"N\", \"Oldpeak\": 0.0, \"ST_Slope\": \"Up\", \"HeartDisease\": 1, \"HD\": \"True\", \"Prediction\": \"False\"}, {\"Age\": 60, \"Sex\": \"M\", \"ChestPainType\": \"ASY\", \"RestingBP\": 125, \"Cholesterol\": 258, \"FastingBS\": 0, \"RestingECG\": \"LVH\", \"MaxHR\": 141, \"ExerciseAngina\": \"Y\", \"Oldpeak\": 2.8, \"ST_Slope\": \"Flat\", \"HeartDisease\": 1, \"HD\": \"True\", \"Prediction\": \"True\"}, {\"Age\": 51, \"Sex\": \"M\", \"ChestPainType\": \"ASY\", \"RestingBP\": 140, \"Cholesterol\": 299, \"FastingBS\": 0, \"RestingECG\": \"Normal\", \"MaxHR\": 173, \"ExerciseAngina\": \"Y\", \"Oldpeak\": 1.6, \"ST_Slope\": \"Up\", \"HeartDisease\": 1, \"HD\": \"True\", \"Prediction\": \"False\"}, {\"Age\": 55, \"Sex\": \"M\", \"ChestPainType\": \"ASY\", \"RestingBP\": 160, \"Cholesterol\": 289, \"FastingBS\": 0, \"RestingECG\": \"LVH\", \"MaxHR\": 145, \"ExerciseAngina\": \"Y\", \"Oldpeak\": 0.8, \"ST_Slope\": \"Flat\", \"HeartDisease\": 1, \"HD\": \"True\", \"Prediction\": \"True\"}, {\"Age\": 52, \"Sex\": \"M\", \"ChestPainType\": \"TA\", \"RestingBP\": 152, \"Cholesterol\": 298, \"FastingBS\": 1, \"RestingECG\": \"Normal\", \"MaxHR\": 178, \"ExerciseAngina\": \"N\", \"Oldpeak\": 1.2, \"ST_Slope\": \"Flat\", \"HeartDisease\": 0, \"HD\": \"False\", \"Prediction\": \"False\"}, {\"Age\": 60, \"Sex\": \"F\", \"ChestPainType\": \"NAP\", \"RestingBP\": 102, \"Cholesterol\": 318, \"FastingBS\": 0, \"RestingECG\": \"Normal\", \"MaxHR\": 160, \"ExerciseAngina\": \"N\", \"Oldpeak\": 0.0, \"ST_Slope\": \"Up\", \"HeartDisease\": 0, \"HD\": \"False\", \"Prediction\": \"False\"}, {\"Age\": 58, \"Sex\": \"M\", \"ChestPainType\": \"NAP\", \"RestingBP\": 105, \"Cholesterol\": 240, \"FastingBS\": 0, \"RestingECG\": \"LVH\", \"MaxHR\": 154, \"ExerciseAngina\": \"Y\", \"Oldpeak\": 0.6, \"ST_Slope\": \"Flat\", \"HeartDisease\": 0, \"HD\": \"False\", \"Prediction\": \"True\"}, {\"Age\": 64, \"Sex\": \"M\", \"ChestPainType\": \"NAP\", \"RestingBP\": 125, \"Cholesterol\": 309, \"FastingBS\": 0, \"RestingECG\": \"Normal\", \"MaxHR\": 131, \"ExerciseAngina\": \"Y\", \"Oldpeak\": 1.8, \"ST_Slope\": \"Flat\", \"HeartDisease\": 1, \"HD\": \"True\", \"Prediction\": \"False\"}, {\"Age\": 37, \"Sex\": \"M\", \"ChestPainType\": \"NAP\", \"RestingBP\": 130, \"Cholesterol\": 250, \"FastingBS\": 0, \"RestingECG\": \"Normal\", \"MaxHR\": 187, \"ExerciseAngina\": \"N\", \"Oldpeak\": 3.5, \"ST_Slope\": \"Down\", \"HeartDisease\": 0, \"HD\": \"False\", \"Prediction\": \"False\"}, {\"Age\": 59, \"Sex\": \"M\", \"ChestPainType\": \"TA\", \"RestingBP\": 170, \"Cholesterol\": 288, \"FastingBS\": 0, \"RestingECG\": \"LVH\", \"MaxHR\": 159, \"ExerciseAngina\": \"N\", \"Oldpeak\": 0.2, \"ST_Slope\": \"Flat\", \"HeartDisease\": 1, \"HD\": \"True\", \"Prediction\": \"False\"}, {\"Age\": 51, \"Sex\": \"M\", \"ChestPainType\": \"NAP\", \"RestingBP\": 125, \"Cholesterol\": 245, \"FastingBS\": 1, \"RestingECG\": \"LVH\", \"MaxHR\": 166, \"ExerciseAngina\": \"N\", \"Oldpeak\": 2.4, \"ST_Slope\": \"Flat\", \"HeartDisease\": 0, \"HD\": \"False\", \"Prediction\": \"False\"}, {\"Age\": 43, \"Sex\": \"F\", \"ChestPainType\": \"NAP\", \"RestingBP\": 122, \"Cholesterol\": 213, \"FastingBS\": 0, \"RestingECG\": \"Normal\", \"MaxHR\": 165, \"ExerciseAngina\": \"N\", \"Oldpeak\": 0.2, \"ST_Slope\": \"Flat\", \"HeartDisease\": 0, \"HD\": \"False\", \"Prediction\": \"False\"}, {\"Age\": 58, \"Sex\": \"M\", \"ChestPainType\": \"ASY\", \"RestingBP\": 128, \"Cholesterol\": 216, \"FastingBS\": 0, \"RestingECG\": \"LVH\", \"MaxHR\": 131, \"ExerciseAngina\": \"Y\", \"Oldpeak\": 2.2, \"ST_Slope\": \"Flat\", \"HeartDisease\": 1, \"HD\": \"True\", \"Prediction\": \"True\"}, {\"Age\": 29, \"Sex\": \"M\", \"ChestPainType\": \"ATA\", \"RestingBP\": 130, \"Cholesterol\": 204, \"FastingBS\": 0, \"RestingECG\": \"LVH\", \"MaxHR\": 202, \"ExerciseAngina\": \"N\", \"Oldpeak\": 0.0, \"ST_Slope\": \"Up\", \"HeartDisease\": 0, \"HD\": \"False\", \"Prediction\": \"False\"}, {\"Age\": 41, \"Sex\": \"F\", \"ChestPainType\": \"ATA\", \"RestingBP\": 130, \"Cholesterol\": 204, \"FastingBS\": 0, \"RestingECG\": \"LVH\", \"MaxHR\": 172, \"ExerciseAngina\": \"N\", \"Oldpeak\": 1.4, \"ST_Slope\": \"Up\", \"HeartDisease\": 0, \"HD\": \"False\", \"Prediction\": \"False\"}, {\"Age\": 63, \"Sex\": \"F\", \"ChestPainType\": \"NAP\", \"RestingBP\": 135, \"Cholesterol\": 252, \"FastingBS\": 0, \"RestingECG\": \"LVH\", \"MaxHR\": 172, \"ExerciseAngina\": \"N\", \"Oldpeak\": 0.0, \"ST_Slope\": \"Up\", \"HeartDisease\": 0, \"HD\": \"False\", \"Prediction\": \"False\"}, {\"Age\": 51, \"Sex\": \"M\", \"ChestPainType\": \"NAP\", \"RestingBP\": 94, \"Cholesterol\": 227, \"FastingBS\": 0, \"RestingECG\": \"Normal\", \"MaxHR\": 154, \"ExerciseAngina\": \"Y\", \"Oldpeak\": 0.0, \"ST_Slope\": \"Up\", \"HeartDisease\": 0, \"HD\": \"False\", \"Prediction\": \"False\"}, {\"Age\": 54, \"Sex\": \"M\", \"ChestPainType\": \"NAP\", \"RestingBP\": 120, \"Cholesterol\": 258, \"FastingBS\": 0, \"RestingECG\": \"LVH\", \"MaxHR\": 147, \"ExerciseAngina\": \"N\", \"Oldpeak\": 0.4, \"ST_Slope\": \"Flat\", \"HeartDisease\": 0, \"HD\": \"False\", \"Prediction\": \"True\"}, {\"Age\": 44, \"Sex\": \"M\", \"ChestPainType\": \"ATA\", \"RestingBP\": 120, \"Cholesterol\": 220, \"FastingBS\": 0, \"RestingECG\": \"Normal\", \"MaxHR\": 170, \"ExerciseAngina\": \"N\", \"Oldpeak\": 0.0, \"ST_Slope\": \"Up\", \"HeartDisease\": 0, \"HD\": \"False\", \"Prediction\": \"False\"}, {\"Age\": 54, \"Sex\": \"M\", \"ChestPainType\": \"ASY\", \"RestingBP\": 110, \"Cholesterol\": 239, \"FastingBS\": 0, \"RestingECG\": \"Normal\", \"MaxHR\": 126, \"ExerciseAngina\": \"Y\", \"Oldpeak\": 2.8, \"ST_Slope\": \"Flat\", \"HeartDisease\": 1, \"HD\": \"True\", \"Prediction\": \"True\"}, {\"Age\": 65, \"Sex\": \"M\", \"ChestPainType\": \"ASY\", \"RestingBP\": 135, \"Cholesterol\": 254, \"FastingBS\": 0, \"RestingECG\": \"LVH\", \"MaxHR\": 127, \"ExerciseAngina\": \"N\", \"Oldpeak\": 2.8, \"ST_Slope\": \"Flat\", \"HeartDisease\": 1, \"HD\": \"True\", \"Prediction\": \"True\"}, {\"Age\": 57, \"Sex\": \"M\", \"ChestPainType\": \"NAP\", \"RestingBP\": 150, \"Cholesterol\": 168, \"FastingBS\": 0, \"RestingECG\": \"Normal\", \"MaxHR\": 174, \"ExerciseAngina\": \"N\", \"Oldpeak\": 1.6, \"ST_Slope\": \"Up\", \"HeartDisease\": 0, \"HD\": \"False\", \"Prediction\": \"False\"}, {\"Age\": 63, \"Sex\": \"M\", \"ChestPainType\": \"ASY\", \"RestingBP\": 130, \"Cholesterol\": 330, \"FastingBS\": 1, \"RestingECG\": \"LVH\", \"MaxHR\": 132, \"ExerciseAngina\": \"Y\", \"Oldpeak\": 1.8, \"ST_Slope\": \"Up\", \"HeartDisease\": 1, \"HD\": \"True\", \"Prediction\": \"True\"}, {\"Age\": 35, \"Sex\": \"F\", \"ChestPainType\": \"ASY\", \"RestingBP\": 138, \"Cholesterol\": 183, \"FastingBS\": 0, \"RestingECG\": \"Normal\", \"MaxHR\": 182, \"ExerciseAngina\": \"N\", \"Oldpeak\": 1.4, \"ST_Slope\": \"Up\", \"HeartDisease\": 0, \"HD\": \"False\", \"Prediction\": \"False\"}, {\"Age\": 41, \"Sex\": \"M\", \"ChestPainType\": \"ATA\", \"RestingBP\": 135, \"Cholesterol\": 203, \"FastingBS\": 0, \"RestingECG\": \"Normal\", \"MaxHR\": 132, \"ExerciseAngina\": \"N\", \"Oldpeak\": 0.0, \"ST_Slope\": \"Flat\", \"HeartDisease\": 0, \"HD\": \"False\", \"Prediction\": \"False\"}, {\"Age\": 62, \"Sex\": \"F\", \"ChestPainType\": \"NAP\", \"RestingBP\": 130, \"Cholesterol\": 263, \"FastingBS\": 0, \"RestingECG\": \"Normal\", \"MaxHR\": 97, \"ExerciseAngina\": \"N\", \"Oldpeak\": 1.2, \"ST_Slope\": \"Flat\", \"HeartDisease\": 1, \"HD\": \"True\", \"Prediction\": \"True\"}, {\"Age\": 43, \"Sex\": \"F\", \"ChestPainType\": \"ASY\", \"RestingBP\": 132, \"Cholesterol\": 341, \"FastingBS\": 1, \"RestingECG\": \"LVH\", \"MaxHR\": 136, \"ExerciseAngina\": \"Y\", \"Oldpeak\": 3.0, \"ST_Slope\": \"Flat\", \"HeartDisease\": 1, \"HD\": \"True\", \"Prediction\": \"True\"}, {\"Age\": 58, \"Sex\": \"F\", \"ChestPainType\": \"TA\", \"RestingBP\": 150, \"Cholesterol\": 283, \"FastingBS\": 1, \"RestingECG\": \"LVH\", \"MaxHR\": 162, \"ExerciseAngina\": \"N\", \"Oldpeak\": 1.0, \"ST_Slope\": \"Up\", \"HeartDisease\": 0, \"HD\": \"False\", \"Prediction\": \"False\"}, {\"Age\": 52, \"Sex\": \"M\", \"ChestPainType\": \"TA\", \"RestingBP\": 118, \"Cholesterol\": 186, \"FastingBS\": 0, \"RestingECG\": \"LVH\", \"MaxHR\": 190, \"ExerciseAngina\": \"N\", \"Oldpeak\": 0.0, \"ST_Slope\": \"Flat\", \"HeartDisease\": 0, \"HD\": \"False\", \"Prediction\": \"False\"}, {\"Age\": 61, \"Sex\": \"F\", \"ChestPainType\": \"ASY\", \"RestingBP\": 145, \"Cholesterol\": 307, \"FastingBS\": 0, \"RestingECG\": \"LVH\", \"MaxHR\": 146, \"ExerciseAngina\": \"Y\", \"Oldpeak\": 1.0, \"ST_Slope\": \"Flat\", \"HeartDisease\": 1, \"HD\": \"True\", \"Prediction\": \"False\"}, {\"Age\": 39, \"Sex\": \"M\", \"ChestPainType\": \"ASY\", \"RestingBP\": 118, \"Cholesterol\": 219, \"FastingBS\": 0, \"RestingECG\": \"Normal\", \"MaxHR\": 140, \"ExerciseAngina\": \"N\", \"Oldpeak\": 1.2, \"ST_Slope\": \"Flat\", \"HeartDisease\": 1, \"HD\": \"True\", \"Prediction\": \"False\"}, {\"Age\": 45, \"Sex\": \"M\", \"ChestPainType\": \"ASY\", \"RestingBP\": 115, \"Cholesterol\": 260, \"FastingBS\": 0, \"RestingECG\": \"LVH\", \"MaxHR\": 185, \"ExerciseAngina\": \"N\", \"Oldpeak\": 0.0, \"ST_Slope\": \"Up\", \"HeartDisease\": 0, \"HD\": \"False\", \"Prediction\": \"False\"}, {\"Age\": 52, \"Sex\": \"M\", \"ChestPainType\": \"ASY\", \"RestingBP\": 128, \"Cholesterol\": 255, \"FastingBS\": 0, \"RestingECG\": \"Normal\", \"MaxHR\": 161, \"ExerciseAngina\": \"Y\", \"Oldpeak\": 0.0, \"ST_Slope\": \"Up\", \"HeartDisease\": 1, \"HD\": \"True\", \"Prediction\": \"False\"}, {\"Age\": 62, \"Sex\": \"M\", \"ChestPainType\": \"NAP\", \"RestingBP\": 130, \"Cholesterol\": 231, \"FastingBS\": 0, \"RestingECG\": \"Normal\", \"MaxHR\": 146, \"ExerciseAngina\": \"N\", \"Oldpeak\": 1.8, \"ST_Slope\": \"Flat\", \"HeartDisease\": 0, \"HD\": \"False\", \"Prediction\": \"False\"}, {\"Age\": 62, \"Sex\": \"F\", \"ChestPainType\": \"ASY\", \"RestingBP\": 160, \"Cholesterol\": 164, \"FastingBS\": 0, \"RestingECG\": \"LVH\", \"MaxHR\": 145, \"ExerciseAngina\": \"N\", \"Oldpeak\": 6.2, \"ST_Slope\": \"Down\", \"HeartDisease\": 1, \"HD\": \"True\", \"Prediction\": \"True\"}, {\"Age\": 53, \"Sex\": \"F\", \"ChestPainType\": \"ASY\", \"RestingBP\": 138, \"Cholesterol\": 234, \"FastingBS\": 0, \"RestingECG\": \"LVH\", \"MaxHR\": 160, \"ExerciseAngina\": \"N\", \"Oldpeak\": 0.0, \"ST_Slope\": \"Up\", \"HeartDisease\": 0, \"HD\": \"False\", \"Prediction\": \"False\"}, {\"Age\": 43, \"Sex\": \"M\", \"ChestPainType\": \"ASY\", \"RestingBP\": 120, \"Cholesterol\": 177, \"FastingBS\": 0, \"RestingECG\": \"LVH\", \"MaxHR\": 120, \"ExerciseAngina\": \"Y\", \"Oldpeak\": 2.5, \"ST_Slope\": \"Flat\", \"HeartDisease\": 1, \"HD\": \"True\", \"Prediction\": \"False\"}, {\"Age\": 47, \"Sex\": \"M\", \"ChestPainType\": \"NAP\", \"RestingBP\": 138, \"Cholesterol\": 257, \"FastingBS\": 0, \"RestingECG\": \"LVH\", \"MaxHR\": 156, \"ExerciseAngina\": \"N\", \"Oldpeak\": 0.0, \"ST_Slope\": \"Up\", \"HeartDisease\": 0, \"HD\": \"False\", \"Prediction\": \"False\"}, {\"Age\": 52, \"Sex\": \"M\", \"ChestPainType\": \"ATA\", \"RestingBP\": 120, \"Cholesterol\": 325, \"FastingBS\": 0, \"RestingECG\": \"Normal\", \"MaxHR\": 172, \"ExerciseAngina\": \"N\", \"Oldpeak\": 0.2, \"ST_Slope\": \"Up\", \"HeartDisease\": 0, \"HD\": \"False\", \"Prediction\": \"False\"}, {\"Age\": 68, \"Sex\": \"M\", \"ChestPainType\": \"NAP\", \"RestingBP\": 180, \"Cholesterol\": 274, \"FastingBS\": 1, \"RestingECG\": \"LVH\", \"MaxHR\": 150, \"ExerciseAngina\": \"Y\", \"Oldpeak\": 1.6, \"ST_Slope\": \"Flat\", \"HeartDisease\": 1, \"HD\": \"True\", \"Prediction\": \"True\"}, {\"Age\": 39, \"Sex\": \"M\", \"ChestPainType\": \"NAP\", \"RestingBP\": 140, \"Cholesterol\": 321, \"FastingBS\": 0, \"RestingECG\": \"LVH\", \"MaxHR\": 182, \"ExerciseAngina\": \"N\", \"Oldpeak\": 0.0, \"ST_Slope\": \"Up\", \"HeartDisease\": 0, \"HD\": \"False\", \"Prediction\": \"False\"}, {\"Age\": 53, \"Sex\": \"F\", \"ChestPainType\": \"ASY\", \"RestingBP\": 130, \"Cholesterol\": 264, \"FastingBS\": 0, \"RestingECG\": \"LVH\", \"MaxHR\": 143, \"ExerciseAngina\": \"N\", \"Oldpeak\": 0.4, \"ST_Slope\": \"Flat\", \"HeartDisease\": 0, \"HD\": \"False\", \"Prediction\": \"False\"}, {\"Age\": 62, \"Sex\": \"F\", \"ChestPainType\": \"ASY\", \"RestingBP\": 140, \"Cholesterol\": 268, \"FastingBS\": 0, \"RestingECG\": \"LVH\", \"MaxHR\": 160, \"ExerciseAngina\": \"N\", \"Oldpeak\": 3.6, \"ST_Slope\": \"Down\", \"HeartDisease\": 1, \"HD\": \"True\", \"Prediction\": \"False\"}, {\"Age\": 51, \"Sex\": \"F\", \"ChestPainType\": \"NAP\", \"RestingBP\": 140, \"Cholesterol\": 308, \"FastingBS\": 0, \"RestingECG\": \"LVH\", \"MaxHR\": 142, \"ExerciseAngina\": \"N\", \"Oldpeak\": 1.5, \"ST_Slope\": \"Up\", \"HeartDisease\": 0, \"HD\": \"False\", \"Prediction\": \"False\"}, {\"Age\": 60, \"Sex\": \"M\", \"ChestPainType\": \"ASY\", \"RestingBP\": 130, \"Cholesterol\": 253, \"FastingBS\": 0, \"RestingECG\": \"Normal\", \"MaxHR\": 144, \"ExerciseAngina\": \"Y\", \"Oldpeak\": 1.4, \"ST_Slope\": \"Up\", \"HeartDisease\": 1, \"HD\": \"True\", \"Prediction\": \"True\"}, {\"Age\": 65, \"Sex\": \"M\", \"ChestPainType\": \"ASY\", \"RestingBP\": 110, \"Cholesterol\": 248, \"FastingBS\": 0, \"RestingECG\": \"LVH\", \"MaxHR\": 158, \"ExerciseAngina\": \"N\", \"Oldpeak\": 0.6, \"ST_Slope\": \"Up\", \"HeartDisease\": 1, \"HD\": \"True\", \"Prediction\": \"True\"}, {\"Age\": 65, \"Sex\": \"F\", \"ChestPainType\": \"NAP\", \"RestingBP\": 155, \"Cholesterol\": 269, \"FastingBS\": 0, \"RestingECG\": \"Normal\", \"MaxHR\": 148, \"ExerciseAngina\": \"N\", \"Oldpeak\": 0.8, \"ST_Slope\": \"Up\", \"HeartDisease\": 0, \"HD\": \"False\", \"Prediction\": \"True\"}, {\"Age\": 60, \"Sex\": \"M\", \"ChestPainType\": \"NAP\", \"RestingBP\": 140, \"Cholesterol\": 185, \"FastingBS\": 0, \"RestingECG\": \"LVH\", \"MaxHR\": 155, \"ExerciseAngina\": \"N\", \"Oldpeak\": 3.0, \"ST_Slope\": \"Flat\", \"HeartDisease\": 1, \"HD\": \"True\", \"Prediction\": \"False\"}, {\"Age\": 60, \"Sex\": \"M\", \"ChestPainType\": \"ASY\", \"RestingBP\": 145, \"Cholesterol\": 282, \"FastingBS\": 0, \"RestingECG\": \"LVH\", \"MaxHR\": 142, \"ExerciseAngina\": \"Y\", \"Oldpeak\": 2.8, \"ST_Slope\": \"Flat\", \"HeartDisease\": 1, \"HD\": \"True\", \"Prediction\": \"False\"}, {\"Age\": 54, \"Sex\": \"M\", \"ChestPainType\": \"ASY\", \"RestingBP\": 120, \"Cholesterol\": 188, \"FastingBS\": 0, \"RestingECG\": \"Normal\", \"MaxHR\": 113, \"ExerciseAngina\": \"N\", \"Oldpeak\": 1.4, \"ST_Slope\": \"Flat\", \"HeartDisease\": 1, \"HD\": \"True\", \"Prediction\": \"False\"}, {\"Age\": 44, \"Sex\": \"M\", \"ChestPainType\": \"ATA\", \"RestingBP\": 130, \"Cholesterol\": 219, \"FastingBS\": 0, \"RestingECG\": \"LVH\", \"MaxHR\": 188, \"ExerciseAngina\": \"N\", \"Oldpeak\": 0.0, \"ST_Slope\": \"Up\", \"HeartDisease\": 0, \"HD\": \"False\", \"Prediction\": \"False\"}, {\"Age\": 44, \"Sex\": \"M\", \"ChestPainType\": \"ASY\", \"RestingBP\": 112, \"Cholesterol\": 290, \"FastingBS\": 0, \"RestingECG\": \"LVH\", \"MaxHR\": 153, \"ExerciseAngina\": \"N\", \"Oldpeak\": 0.0, \"ST_Slope\": \"Up\", \"HeartDisease\": 1, \"HD\": \"True\", \"Prediction\": \"True\"}, {\"Age\": 51, \"Sex\": \"M\", \"ChestPainType\": \"NAP\", \"RestingBP\": 110, \"Cholesterol\": 175, \"FastingBS\": 0, \"RestingECG\": \"Normal\", \"MaxHR\": 123, \"ExerciseAngina\": \"N\", \"Oldpeak\": 0.6, \"ST_Slope\": \"Up\", \"HeartDisease\": 0, \"HD\": \"False\", \"Prediction\": \"False\"}, {\"Age\": 59, \"Sex\": \"M\", \"ChestPainType\": \"NAP\", \"RestingBP\": 150, \"Cholesterol\": 212, \"FastingBS\": 1, \"RestingECG\": \"Normal\", \"MaxHR\": 157, \"ExerciseAngina\": \"N\", \"Oldpeak\": 1.6, \"ST_Slope\": \"Up\", \"HeartDisease\": 0, \"HD\": \"False\", \"Prediction\": \"True\"}, {\"Age\": 71, \"Sex\": \"F\", \"ChestPainType\": \"ATA\", \"RestingBP\": 160, \"Cholesterol\": 302, \"FastingBS\": 0, \"RestingECG\": \"Normal\", \"MaxHR\": 162, \"ExerciseAngina\": \"N\", \"Oldpeak\": 0.4, \"ST_Slope\": \"Up\", \"HeartDisease\": 0, \"HD\": \"False\", \"Prediction\": \"False\"}, {\"Age\": 61, \"Sex\": \"M\", \"ChestPainType\": \"NAP\", \"RestingBP\": 150, \"Cholesterol\": 243, \"FastingBS\": 1, \"RestingECG\": \"Normal\", \"MaxHR\": 137, \"ExerciseAngina\": \"Y\", \"Oldpeak\": 1.0, \"ST_Slope\": \"Flat\", \"HeartDisease\": 0, \"HD\": \"False\", \"Prediction\": \"False\"}, {\"Age\": 55, \"Sex\": \"M\", \"ChestPainType\": \"ASY\", \"RestingBP\": 132, \"Cholesterol\": 353, \"FastingBS\": 0, \"RestingECG\": \"Normal\", \"MaxHR\": 132, \"ExerciseAngina\": \"Y\", \"Oldpeak\": 1.2, \"ST_Slope\": \"Flat\", \"HeartDisease\": 1, \"HD\": \"True\", \"Prediction\": \"True\"}, {\"Age\": 64, \"Sex\": \"M\", \"ChestPainType\": \"NAP\", \"RestingBP\": 140, \"Cholesterol\": 335, \"FastingBS\": 0, \"RestingECG\": \"Normal\", \"MaxHR\": 158, \"ExerciseAngina\": \"N\", \"Oldpeak\": 0.0, \"ST_Slope\": \"Up\", \"HeartDisease\": 1, \"HD\": \"True\", \"Prediction\": \"False\"}, {\"Age\": 43, \"Sex\": \"M\", \"ChestPainType\": \"ASY\", \"RestingBP\": 150, \"Cholesterol\": 247, \"FastingBS\": 0, \"RestingECG\": \"Normal\", \"MaxHR\": 171, \"ExerciseAngina\": \"N\", \"Oldpeak\": 1.5, \"ST_Slope\": \"Up\", \"HeartDisease\": 0, \"HD\": \"False\", \"Prediction\": \"False\"}, {\"Age\": 58, \"Sex\": \"F\", \"ChestPainType\": \"NAP\", \"RestingBP\": 120, \"Cholesterol\": 340, \"FastingBS\": 0, \"RestingECG\": \"Normal\", \"MaxHR\": 172, \"ExerciseAngina\": \"N\", \"Oldpeak\": 0.0, \"ST_Slope\": \"Up\", \"HeartDisease\": 0, \"HD\": \"False\", \"Prediction\": \"False\"}, {\"Age\": 60, \"Sex\": \"M\", \"ChestPainType\": \"ASY\", \"RestingBP\": 130, \"Cholesterol\": 206, \"FastingBS\": 0, \"RestingECG\": \"LVH\", \"MaxHR\": 132, \"ExerciseAngina\": \"Y\", \"Oldpeak\": 2.4, \"ST_Slope\": \"Flat\", \"HeartDisease\": 1, \"HD\": \"True\", \"Prediction\": \"True\"}, {\"Age\": 58, \"Sex\": \"M\", \"ChestPainType\": \"ATA\", \"RestingBP\": 120, \"Cholesterol\": 284, \"FastingBS\": 0, \"RestingECG\": \"LVH\", \"MaxHR\": 160, \"ExerciseAngina\": \"N\", \"Oldpeak\": 1.8, \"ST_Slope\": \"Flat\", \"HeartDisease\": 1, \"HD\": \"True\", \"Prediction\": \"False\"}, {\"Age\": 49, \"Sex\": \"M\", \"ChestPainType\": \"ATA\", \"RestingBP\": 130, \"Cholesterol\": 266, \"FastingBS\": 0, \"RestingECG\": \"Normal\", \"MaxHR\": 171, \"ExerciseAngina\": \"N\", \"Oldpeak\": 0.6, \"ST_Slope\": \"Up\", \"HeartDisease\": 0, \"HD\": \"False\", \"Prediction\": \"False\"}, {\"Age\": 48, \"Sex\": \"M\", \"ChestPainType\": \"ATA\", \"RestingBP\": 110, \"Cholesterol\": 229, \"FastingBS\": 0, \"RestingECG\": \"Normal\", \"MaxHR\": 168, \"ExerciseAngina\": \"N\", \"Oldpeak\": 1.0, \"ST_Slope\": \"Down\", \"HeartDisease\": 1, \"HD\": \"True\", \"Prediction\": \"False\"}, {\"Age\": 52, \"Sex\": \"M\", \"ChestPainType\": \"NAP\", \"RestingBP\": 172, \"Cholesterol\": 199, \"FastingBS\": 1, \"RestingECG\": \"Normal\", \"MaxHR\": 162, \"ExerciseAngina\": \"N\", \"Oldpeak\": 0.5, \"ST_Slope\": \"Up\", \"HeartDisease\": 0, \"HD\": \"False\", \"Prediction\": \"False\"}, {\"Age\": 44, \"Sex\": \"M\", \"ChestPainType\": \"ATA\", \"RestingBP\": 120, \"Cholesterol\": 263, \"FastingBS\": 0, \"RestingECG\": \"Normal\", \"MaxHR\": 173, \"ExerciseAngina\": \"N\", \"Oldpeak\": 0.0, \"ST_Slope\": \"Up\", \"HeartDisease\": 0, \"HD\": \"False\", \"Prediction\": \"False\"}, {\"Age\": 56, \"Sex\": \"F\", \"ChestPainType\": \"ATA\", \"RestingBP\": 140, \"Cholesterol\": 294, \"FastingBS\": 0, \"RestingECG\": \"LVH\", \"MaxHR\": 153, \"ExerciseAngina\": \"N\", \"Oldpeak\": 1.3, \"ST_Slope\": \"Flat\", \"HeartDisease\": 0, \"HD\": \"False\", \"Prediction\": \"False\"}, {\"Age\": 57, \"Sex\": \"M\", \"ChestPainType\": \"ASY\", \"RestingBP\": 140, \"Cholesterol\": 192, \"FastingBS\": 0, \"RestingECG\": \"Normal\", \"MaxHR\": 148, \"ExerciseAngina\": \"N\", \"Oldpeak\": 0.4, \"ST_Slope\": \"Flat\", \"HeartDisease\": 0, \"HD\": \"False\", \"Prediction\": \"False\"}, {\"Age\": 67, \"Sex\": \"M\", \"ChestPainType\": \"ASY\", \"RestingBP\": 160, \"Cholesterol\": 286, \"FastingBS\": 0, \"RestingECG\": \"LVH\", \"MaxHR\": 108, \"ExerciseAngina\": \"Y\", \"Oldpeak\": 1.5, \"ST_Slope\": \"Flat\", \"HeartDisease\": 1, \"HD\": \"True\", \"Prediction\": \"True\"}, {\"Age\": 53, \"Sex\": \"F\", \"ChestPainType\": \"NAP\", \"RestingBP\": 128, \"Cholesterol\": 216, \"FastingBS\": 0, \"RestingECG\": \"LVH\", \"MaxHR\": 115, \"ExerciseAngina\": \"N\", \"Oldpeak\": 0.0, \"ST_Slope\": \"Up\", \"HeartDisease\": 0, \"HD\": \"False\", \"Prediction\": \"True\"}, {\"Age\": 52, \"Sex\": \"M\", \"ChestPainType\": \"NAP\", \"RestingBP\": 138, \"Cholesterol\": 223, \"FastingBS\": 0, \"RestingECG\": \"Normal\", \"MaxHR\": 169, \"ExerciseAngina\": \"N\", \"Oldpeak\": 0.0, \"ST_Slope\": \"Up\", \"HeartDisease\": 0, \"HD\": \"False\", \"Prediction\": \"False\"}, {\"Age\": 43, \"Sex\": \"M\", \"ChestPainType\": \"ASY\", \"RestingBP\": 132, \"Cholesterol\": 247, \"FastingBS\": 1, \"RestingECG\": \"LVH\", \"MaxHR\": 143, \"ExerciseAngina\": \"Y\", \"Oldpeak\": 0.1, \"ST_Slope\": \"Flat\", \"HeartDisease\": 1, \"HD\": \"True\", \"Prediction\": \"False\"}, {\"Age\": 52, \"Sex\": \"M\", \"ChestPainType\": \"ASY\", \"RestingBP\": 128, \"Cholesterol\": 204, \"FastingBS\": 1, \"RestingECG\": \"Normal\", \"MaxHR\": 156, \"ExerciseAngina\": \"Y\", \"Oldpeak\": 1.0, \"ST_Slope\": \"Flat\", \"HeartDisease\": 1, \"HD\": \"True\", \"Prediction\": \"False\"}, {\"Age\": 59, \"Sex\": \"M\", \"ChestPainType\": \"TA\", \"RestingBP\": 134, \"Cholesterol\": 204, \"FastingBS\": 0, \"RestingECG\": \"Normal\", \"MaxHR\": 162, \"ExerciseAngina\": \"N\", \"Oldpeak\": 0.8, \"ST_Slope\": \"Up\", \"HeartDisease\": 1, \"HD\": \"True\", \"Prediction\": \"False\"}, {\"Age\": 64, \"Sex\": \"M\", \"ChestPainType\": \"TA\", \"RestingBP\": 170, \"Cholesterol\": 227, \"FastingBS\": 0, \"RestingECG\": \"LVH\", \"MaxHR\": 155, \"ExerciseAngina\": \"N\", \"Oldpeak\": 0.6, \"ST_Slope\": \"Flat\", \"HeartDisease\": 0, \"HD\": \"False\", \"Prediction\": \"False\"}, {\"Age\": 66, \"Sex\": \"F\", \"ChestPainType\": \"NAP\", \"RestingBP\": 146, \"Cholesterol\": 278, \"FastingBS\": 0, \"RestingECG\": \"LVH\", \"MaxHR\": 152, \"ExerciseAngina\": \"N\", \"Oldpeak\": 0.0, \"ST_Slope\": \"Flat\", \"HeartDisease\": 0, \"HD\": \"False\", \"Prediction\": \"False\"}, {\"Age\": 39, \"Sex\": \"F\", \"ChestPainType\": \"NAP\", \"RestingBP\": 138, \"Cholesterol\": 220, \"FastingBS\": 0, \"RestingECG\": \"Normal\", \"MaxHR\": 152, \"ExerciseAngina\": \"N\", \"Oldpeak\": 0.0, \"ST_Slope\": \"Flat\", \"HeartDisease\": 0, \"HD\": \"False\", \"Prediction\": \"False\"}, {\"Age\": 57, \"Sex\": \"M\", \"ChestPainType\": \"ATA\", \"RestingBP\": 154, \"Cholesterol\": 232, \"FastingBS\": 0, \"RestingECG\": \"LVH\", \"MaxHR\": 164, \"ExerciseAngina\": \"N\", \"Oldpeak\": 0.0, \"ST_Slope\": \"Up\", \"HeartDisease\": 1, \"HD\": \"True\", \"Prediction\": \"False\"}, {\"Age\": 58, \"Sex\": \"F\", \"ChestPainType\": \"ASY\", \"RestingBP\": 130, \"Cholesterol\": 197, \"FastingBS\": 0, \"RestingECG\": \"Normal\", \"MaxHR\": 131, \"ExerciseAngina\": \"N\", \"Oldpeak\": 0.6, \"ST_Slope\": \"Flat\", \"HeartDisease\": 0, \"HD\": \"False\", \"Prediction\": \"False\"}, {\"Age\": 57, \"Sex\": \"M\", \"ChestPainType\": \"ASY\", \"RestingBP\": 110, \"Cholesterol\": 335, \"FastingBS\": 0, \"RestingECG\": \"Normal\", \"MaxHR\": 143, \"ExerciseAngina\": \"Y\", \"Oldpeak\": 3.0, \"ST_Slope\": \"Flat\", \"HeartDisease\": 1, \"HD\": \"True\", \"Prediction\": \"False\"}, {\"Age\": 47, \"Sex\": \"M\", \"ChestPainType\": \"NAP\", \"RestingBP\": 130, \"Cholesterol\": 253, \"FastingBS\": 0, \"RestingECG\": \"Normal\", \"MaxHR\": 179, \"ExerciseAngina\": \"N\", \"Oldpeak\": 0.0, \"ST_Slope\": \"Up\", \"HeartDisease\": 0, \"HD\": \"False\", \"Prediction\": \"False\"}, {\"Age\": 55, \"Sex\": \"F\", \"ChestPainType\": \"ASY\", \"RestingBP\": 128, \"Cholesterol\": 205, \"FastingBS\": 0, \"RestingECG\": \"ST\", \"MaxHR\": 130, \"ExerciseAngina\": \"Y\", \"Oldpeak\": 2.0, \"ST_Slope\": \"Flat\", \"HeartDisease\": 1, \"HD\": \"True\", \"Prediction\": \"False\"}, {\"Age\": 35, \"Sex\": \"M\", \"ChestPainType\": \"ATA\", \"RestingBP\": 122, \"Cholesterol\": 192, \"FastingBS\": 0, \"RestingECG\": \"Normal\", \"MaxHR\": 174, \"ExerciseAngina\": \"N\", \"Oldpeak\": 0.0, \"ST_Slope\": \"Up\", \"HeartDisease\": 0, \"HD\": \"False\", \"Prediction\": \"False\"}, {\"Age\": 61, \"Sex\": \"M\", \"ChestPainType\": \"ASY\", \"RestingBP\": 148, \"Cholesterol\": 203, \"FastingBS\": 0, \"RestingECG\": \"Normal\", \"MaxHR\": 161, \"ExerciseAngina\": \"N\", \"Oldpeak\": 0.0, \"ST_Slope\": \"Up\", \"HeartDisease\": 1, \"HD\": \"True\", \"Prediction\": \"False\"}, {\"Age\": 58, \"Sex\": \"M\", \"ChestPainType\": \"ASY\", \"RestingBP\": 114, \"Cholesterol\": 318, \"FastingBS\": 0, \"RestingECG\": \"ST\", \"MaxHR\": 140, \"ExerciseAngina\": \"N\", \"Oldpeak\": 4.4, \"ST_Slope\": \"Down\", \"HeartDisease\": 1, \"HD\": \"True\", \"Prediction\": \"False\"}, {\"Age\": 58, \"Sex\": \"F\", \"ChestPainType\": \"ASY\", \"RestingBP\": 170, \"Cholesterol\": 225, \"FastingBS\": 1, \"RestingECG\": \"LVH\", \"MaxHR\": 146, \"ExerciseAngina\": \"Y\", \"Oldpeak\": 2.8, \"ST_Slope\": \"Flat\", \"HeartDisease\": 1, \"HD\": \"True\", \"Prediction\": \"True\"}, {\"Age\": 58, \"Sex\": \"M\", \"ChestPainType\": \"ATA\", \"RestingBP\": 125, \"Cholesterol\": 220, \"FastingBS\": 0, \"RestingECG\": \"Normal\", \"MaxHR\": 144, \"ExerciseAngina\": \"N\", \"Oldpeak\": 0.4, \"ST_Slope\": \"Flat\", \"HeartDisease\": 0, \"HD\": \"False\", \"Prediction\": \"True\"}, {\"Age\": 56, \"Sex\": \"M\", \"ChestPainType\": \"ATA\", \"RestingBP\": 130, \"Cholesterol\": 221, \"FastingBS\": 0, \"RestingECG\": \"LVH\", \"MaxHR\": 163, \"ExerciseAngina\": \"N\", \"Oldpeak\": 0.0, \"ST_Slope\": \"Up\", \"HeartDisease\": 0, \"HD\": \"False\", \"Prediction\": \"False\"}, {\"Age\": 56, \"Sex\": \"M\", \"ChestPainType\": \"ATA\", \"RestingBP\": 120, \"Cholesterol\": 240, \"FastingBS\": 0, \"RestingECG\": \"Normal\", \"MaxHR\": 169, \"ExerciseAngina\": \"N\", \"Oldpeak\": 0.0, \"ST_Slope\": \"Down\", \"HeartDisease\": 0, \"HD\": \"False\", \"Prediction\": \"False\"}, {\"Age\": 67, \"Sex\": \"M\", \"ChestPainType\": \"NAP\", \"RestingBP\": 152, \"Cholesterol\": 212, \"FastingBS\": 0, \"RestingECG\": \"LVH\", \"MaxHR\": 150, \"ExerciseAngina\": \"N\", \"Oldpeak\": 0.8, \"ST_Slope\": \"Flat\", \"HeartDisease\": 1, \"HD\": \"True\", \"Prediction\": \"True\"}, {\"Age\": 55, \"Sex\": \"F\", \"ChestPainType\": \"ATA\", \"RestingBP\": 132, \"Cholesterol\": 342, \"FastingBS\": 0, \"RestingECG\": \"Normal\", \"MaxHR\": 166, \"ExerciseAngina\": \"N\", \"Oldpeak\": 1.2, \"ST_Slope\": \"Up\", \"HeartDisease\": 0, \"HD\": \"False\", \"Prediction\": \"False\"}, {\"Age\": 44, \"Sex\": \"M\", \"ChestPainType\": \"ASY\", \"RestingBP\": 120, \"Cholesterol\": 169, \"FastingBS\": 0, \"RestingECG\": \"Normal\", \"MaxHR\": 144, \"ExerciseAngina\": \"Y\", \"Oldpeak\": 2.8, \"ST_Slope\": \"Down\", \"HeartDisease\": 1, \"HD\": \"True\", \"Prediction\": \"False\"}, {\"Age\": 63, \"Sex\": \"M\", \"ChestPainType\": \"ASY\", \"RestingBP\": 140, \"Cholesterol\": 187, \"FastingBS\": 0, \"RestingECG\": \"LVH\", \"MaxHR\": 144, \"ExerciseAngina\": \"Y\", \"Oldpeak\": 4.0, \"ST_Slope\": \"Up\", \"HeartDisease\": 1, \"HD\": \"True\", \"Prediction\": \"False\"}, {\"Age\": 63, \"Sex\": \"F\", \"ChestPainType\": \"ASY\", \"RestingBP\": 124, \"Cholesterol\": 197, \"FastingBS\": 0, \"RestingECG\": \"Normal\", \"MaxHR\": 136, \"ExerciseAngina\": \"Y\", \"Oldpeak\": 0.0, \"ST_Slope\": \"Flat\", \"HeartDisease\": 1, \"HD\": \"True\", \"Prediction\": \"False\"}, {\"Age\": 41, \"Sex\": \"M\", \"ChestPainType\": \"ATA\", \"RestingBP\": 120, \"Cholesterol\": 157, \"FastingBS\": 0, \"RestingECG\": \"Normal\", \"MaxHR\": 182, \"ExerciseAngina\": \"N\", \"Oldpeak\": 0.0, \"ST_Slope\": \"Up\", \"HeartDisease\": 0, \"HD\": \"False\", \"Prediction\": \"False\"}, {\"Age\": 59, \"Sex\": \"M\", \"ChestPainType\": \"ASY\", \"RestingBP\": 164, \"Cholesterol\": 176, \"FastingBS\": 1, \"RestingECG\": \"LVH\", \"MaxHR\": 90, \"ExerciseAngina\": \"N\", \"Oldpeak\": 1.0, \"ST_Slope\": \"Flat\", \"HeartDisease\": 1, \"HD\": \"True\", \"Prediction\": \"True\"}, {\"Age\": 57, \"Sex\": \"F\", \"ChestPainType\": \"ASY\", \"RestingBP\": 140, \"Cholesterol\": 241, \"FastingBS\": 0, \"RestingECG\": \"Normal\", \"MaxHR\": 123, \"ExerciseAngina\": \"Y\", \"Oldpeak\": 0.2, \"ST_Slope\": \"Flat\", \"HeartDisease\": 1, \"HD\": \"True\", \"Prediction\": \"True\"}, {\"Age\": 45, \"Sex\": \"M\", \"ChestPainType\": \"TA\", \"RestingBP\": 110, \"Cholesterol\": 264, \"FastingBS\": 0, \"RestingECG\": \"Normal\", \"MaxHR\": 132, \"ExerciseAngina\": \"N\", \"Oldpeak\": 1.2, \"ST_Slope\": \"Flat\", \"HeartDisease\": 1, \"HD\": \"True\", \"Prediction\": \"False\"}, {\"Age\": 68, \"Sex\": \"M\", \"ChestPainType\": \"ASY\", \"RestingBP\": 144, \"Cholesterol\": 193, \"FastingBS\": 1, \"RestingECG\": \"Normal\", \"MaxHR\": 141, \"ExerciseAngina\": \"N\", \"Oldpeak\": 3.4, \"ST_Slope\": \"Flat\", \"HeartDisease\": 1, \"HD\": \"True\", \"Prediction\": \"True\"}, {\"Age\": 57, \"Sex\": \"M\", \"ChestPainType\": \"ASY\", \"RestingBP\": 130, \"Cholesterol\": 131, \"FastingBS\": 0, \"RestingECG\": \"Normal\", \"MaxHR\": 115, \"ExerciseAngina\": \"Y\", \"Oldpeak\": 1.2, \"ST_Slope\": \"Flat\", \"HeartDisease\": 1, \"HD\": \"True\", \"Prediction\": \"True\"}, {\"Age\": 57, \"Sex\": \"F\", \"ChestPainType\": \"ATA\", \"RestingBP\": 130, \"Cholesterol\": 236, \"FastingBS\": 0, \"RestingECG\": \"LVH\", \"MaxHR\": 174, \"ExerciseAngina\": \"N\", \"Oldpeak\": 0.0, \"ST_Slope\": \"Flat\", \"HeartDisease\": 1, \"HD\": \"True\", \"Prediction\": \"False\"}, {\"Age\": 38, \"Sex\": \"M\", \"ChestPainType\": \"NAP\", \"RestingBP\": 138, \"Cholesterol\": 175, \"FastingBS\": 0, \"RestingECG\": \"Normal\", \"MaxHR\": 173, \"ExerciseAngina\": \"N\", \"Oldpeak\": 0.0, \"ST_Slope\": \"Up\", \"HeartDisease\": 0, \"HD\": \"False\", \"Prediction\": \"False\"}]}}, {\"mode\": \"vega-lite\"});\n",
       "</script>"
      ],
      "text/plain": [
       "alt.HConcatChart(...)"
      ]
     },
     "execution_count": 52,
     "metadata": {},
     "output_type": "execute_result"
    }
   ],
   "source": [
    "c1 | c2"
   ]
  },
  {
   "cell_type": "code",
   "execution_count": 53,
   "metadata": {
    "cell_id": "6db812040c6543e285d7581a335dd82e",
    "deepnote_cell_type": "code",
    "deepnote_to_be_reexecuted": false,
    "execution_millis": 97,
    "execution_start": 1670334568360,
    "source_hash": "f2c10f62",
    "tags": []
   },
   "outputs": [
    {
     "data": {
      "text/html": [
       "\n",
       "<div id=\"altair-viz-32392f15622741ffac7c8d3936d1823e\"></div>\n",
       "<script type=\"text/javascript\">\n",
       "  var VEGA_DEBUG = (typeof VEGA_DEBUG == \"undefined\") ? {} : VEGA_DEBUG;\n",
       "  (function(spec, embedOpt){\n",
       "    let outputDiv = document.currentScript.previousElementSibling;\n",
       "    if (outputDiv.id !== \"altair-viz-32392f15622741ffac7c8d3936d1823e\") {\n",
       "      outputDiv = document.getElementById(\"altair-viz-32392f15622741ffac7c8d3936d1823e\");\n",
       "    }\n",
       "    const paths = {\n",
       "      \"vega\": \"https://cdn.jsdelivr.net/npm//vega@5?noext\",\n",
       "      \"vega-lib\": \"https://cdn.jsdelivr.net/npm//vega-lib?noext\",\n",
       "      \"vega-lite\": \"https://cdn.jsdelivr.net/npm//vega-lite@4.17.0?noext\",\n",
       "      \"vega-embed\": \"https://cdn.jsdelivr.net/npm//vega-embed@6?noext\",\n",
       "    };\n",
       "\n",
       "    function maybeLoadScript(lib, version) {\n",
       "      var key = `${lib.replace(\"-\", \"\")}_version`;\n",
       "      return (VEGA_DEBUG[key] == version) ?\n",
       "        Promise.resolve(paths[lib]) :\n",
       "        new Promise(function(resolve, reject) {\n",
       "          var s = document.createElement('script');\n",
       "          document.getElementsByTagName(\"head\")[0].appendChild(s);\n",
       "          s.async = true;\n",
       "          s.onload = () => {\n",
       "            VEGA_DEBUG[key] = version;\n",
       "            return resolve(paths[lib]);\n",
       "          };\n",
       "          s.onerror = () => reject(`Error loading script: ${paths[lib]}`);\n",
       "          s.src = paths[lib];\n",
       "        });\n",
       "    }\n",
       "\n",
       "    function showError(err) {\n",
       "      outputDiv.innerHTML = `<div class=\"error\" style=\"color:red;\">${err}</div>`;\n",
       "      throw err;\n",
       "    }\n",
       "\n",
       "    function displayChart(vegaEmbed) {\n",
       "      vegaEmbed(outputDiv, spec, embedOpt)\n",
       "        .catch(err => showError(`Javascript Error: ${err.message}<br>This usually means there's a typo in your chart specification. See the javascript console for the full traceback.`));\n",
       "    }\n",
       "\n",
       "    if(typeof define === \"function\" && define.amd) {\n",
       "      requirejs.config({paths});\n",
       "      require([\"vega-embed\"], displayChart, err => showError(`Error loading script: ${err.message}`));\n",
       "    } else {\n",
       "      maybeLoadScript(\"vega\", \"5\")\n",
       "        .then(() => maybeLoadScript(\"vega-lite\", \"4.17.0\"))\n",
       "        .then(() => maybeLoadScript(\"vega-embed\", \"6\"))\n",
       "        .catch(showError)\n",
       "        .then(() => displayChart(vegaEmbed));\n",
       "    }\n",
       "  })({\"config\": {\"view\": {\"continuousWidth\": 400, \"continuousHeight\": 300}}, \"hconcat\": [{\"mark\": \"circle\", \"encoding\": {\"color\": {\"field\": \"HD\", \"type\": \"nominal\"}, \"x\": {\"field\": \"Age\", \"type\": \"quantitative\"}, \"y\": {\"field\": \"Oldpeak\", \"type\": \"quantitative\"}}}, {\"mark\": \"circle\", \"encoding\": {\"color\": {\"field\": \"Prediction\", \"type\": \"nominal\"}, \"x\": {\"field\": \"Age\", \"type\": \"quantitative\"}, \"y\": {\"field\": \"Oldpeak\", \"type\": \"quantitative\"}}}], \"data\": {\"name\": \"data-8d08e687100184687c52798f024ff3b2\"}, \"$schema\": \"https://vega.github.io/schema/vega-lite/v4.17.0.json\", \"datasets\": {\"data-8d08e687100184687c52798f024ff3b2\": [{\"Age\": 40, \"Sex\": \"M\", \"ChestPainType\": \"ATA\", \"RestingBP\": 140, \"Cholesterol\": 289, \"FastingBS\": 0, \"RestingECG\": \"Normal\", \"MaxHR\": 172, \"ExerciseAngina\": \"N\", \"Oldpeak\": 0.0, \"ST_Slope\": \"Up\", \"HeartDisease\": 0, \"HD\": \"False\", \"Prediction\": \"False\"}, {\"Age\": 49, \"Sex\": \"F\", \"ChestPainType\": \"NAP\", \"RestingBP\": 160, \"Cholesterol\": 180, \"FastingBS\": 0, \"RestingECG\": \"Normal\", \"MaxHR\": 156, \"ExerciseAngina\": \"N\", \"Oldpeak\": 1.0, \"ST_Slope\": \"Flat\", \"HeartDisease\": 1, \"HD\": \"True\", \"Prediction\": \"False\"}, {\"Age\": 37, \"Sex\": \"M\", \"ChestPainType\": \"ATA\", \"RestingBP\": 130, \"Cholesterol\": 283, \"FastingBS\": 0, \"RestingECG\": \"ST\", \"MaxHR\": 98, \"ExerciseAngina\": \"N\", \"Oldpeak\": 0.0, \"ST_Slope\": \"Up\", \"HeartDisease\": 0, \"HD\": \"False\", \"Prediction\": \"True\"}, {\"Age\": 48, \"Sex\": \"F\", \"ChestPainType\": \"ASY\", \"RestingBP\": 138, \"Cholesterol\": 214, \"FastingBS\": 0, \"RestingECG\": \"Normal\", \"MaxHR\": 108, \"ExerciseAngina\": \"Y\", \"Oldpeak\": 1.5, \"ST_Slope\": \"Flat\", \"HeartDisease\": 1, \"HD\": \"True\", \"Prediction\": \"True\"}, {\"Age\": 54, \"Sex\": \"M\", \"ChestPainType\": \"NAP\", \"RestingBP\": 150, \"Cholesterol\": 195, \"FastingBS\": 0, \"RestingECG\": \"Normal\", \"MaxHR\": 122, \"ExerciseAngina\": \"N\", \"Oldpeak\": 0.0, \"ST_Slope\": \"Up\", \"HeartDisease\": 0, \"HD\": \"False\", \"Prediction\": \"False\"}, {\"Age\": 39, \"Sex\": \"M\", \"ChestPainType\": \"NAP\", \"RestingBP\": 120, \"Cholesterol\": 339, \"FastingBS\": 0, \"RestingECG\": \"Normal\", \"MaxHR\": 170, \"ExerciseAngina\": \"N\", \"Oldpeak\": 0.0, \"ST_Slope\": \"Up\", \"HeartDisease\": 0, \"HD\": \"False\", \"Prediction\": \"False\"}, {\"Age\": 45, \"Sex\": \"F\", \"ChestPainType\": \"ATA\", \"RestingBP\": 130, \"Cholesterol\": 237, \"FastingBS\": 0, \"RestingECG\": \"Normal\", \"MaxHR\": 170, \"ExerciseAngina\": \"N\", \"Oldpeak\": 0.0, \"ST_Slope\": \"Up\", \"HeartDisease\": 0, \"HD\": \"False\", \"Prediction\": \"False\"}, {\"Age\": 54, \"Sex\": \"M\", \"ChestPainType\": \"ATA\", \"RestingBP\": 110, \"Cholesterol\": 208, \"FastingBS\": 0, \"RestingECG\": \"Normal\", \"MaxHR\": 142, \"ExerciseAngina\": \"N\", \"Oldpeak\": 0.0, \"ST_Slope\": \"Up\", \"HeartDisease\": 0, \"HD\": \"False\", \"Prediction\": \"False\"}, {\"Age\": 37, \"Sex\": \"M\", \"ChestPainType\": \"ASY\", \"RestingBP\": 140, \"Cholesterol\": 207, \"FastingBS\": 0, \"RestingECG\": \"Normal\", \"MaxHR\": 130, \"ExerciseAngina\": \"Y\", \"Oldpeak\": 1.5, \"ST_Slope\": \"Flat\", \"HeartDisease\": 1, \"HD\": \"True\", \"Prediction\": \"False\"}, {\"Age\": 48, \"Sex\": \"F\", \"ChestPainType\": \"ATA\", \"RestingBP\": 120, \"Cholesterol\": 284, \"FastingBS\": 0, \"RestingECG\": \"Normal\", \"MaxHR\": 120, \"ExerciseAngina\": \"N\", \"Oldpeak\": 0.0, \"ST_Slope\": \"Up\", \"HeartDisease\": 0, \"HD\": \"False\", \"Prediction\": \"False\"}, {\"Age\": 37, \"Sex\": \"F\", \"ChestPainType\": \"NAP\", \"RestingBP\": 130, \"Cholesterol\": 211, \"FastingBS\": 0, \"RestingECG\": \"Normal\", \"MaxHR\": 142, \"ExerciseAngina\": \"N\", \"Oldpeak\": 0.0, \"ST_Slope\": \"Up\", \"HeartDisease\": 0, \"HD\": \"False\", \"Prediction\": \"False\"}, {\"Age\": 58, \"Sex\": \"M\", \"ChestPainType\": \"ATA\", \"RestingBP\": 136, \"Cholesterol\": 164, \"FastingBS\": 0, \"RestingECG\": \"ST\", \"MaxHR\": 99, \"ExerciseAngina\": \"Y\", \"Oldpeak\": 2.0, \"ST_Slope\": \"Flat\", \"HeartDisease\": 1, \"HD\": \"True\", \"Prediction\": \"True\"}, {\"Age\": 39, \"Sex\": \"M\", \"ChestPainType\": \"ATA\", \"RestingBP\": 120, \"Cholesterol\": 204, \"FastingBS\": 0, \"RestingECG\": \"Normal\", \"MaxHR\": 145, \"ExerciseAngina\": \"N\", \"Oldpeak\": 0.0, \"ST_Slope\": \"Up\", \"HeartDisease\": 0, \"HD\": \"False\", \"Prediction\": \"False\"}, {\"Age\": 49, \"Sex\": \"M\", \"ChestPainType\": \"ASY\", \"RestingBP\": 140, \"Cholesterol\": 234, \"FastingBS\": 0, \"RestingECG\": \"Normal\", \"MaxHR\": 140, \"ExerciseAngina\": \"Y\", \"Oldpeak\": 1.0, \"ST_Slope\": \"Flat\", \"HeartDisease\": 1, \"HD\": \"True\", \"Prediction\": \"False\"}, {\"Age\": 42, \"Sex\": \"F\", \"ChestPainType\": \"NAP\", \"RestingBP\": 115, \"Cholesterol\": 211, \"FastingBS\": 0, \"RestingECG\": \"ST\", \"MaxHR\": 137, \"ExerciseAngina\": \"N\", \"Oldpeak\": 0.0, \"ST_Slope\": \"Up\", \"HeartDisease\": 0, \"HD\": \"False\", \"Prediction\": \"False\"}, {\"Age\": 54, \"Sex\": \"F\", \"ChestPainType\": \"ATA\", \"RestingBP\": 120, \"Cholesterol\": 273, \"FastingBS\": 0, \"RestingECG\": \"Normal\", \"MaxHR\": 150, \"ExerciseAngina\": \"N\", \"Oldpeak\": 1.5, \"ST_Slope\": \"Flat\", \"HeartDisease\": 0, \"HD\": \"False\", \"Prediction\": \"False\"}, {\"Age\": 38, \"Sex\": \"M\", \"ChestPainType\": \"ASY\", \"RestingBP\": 110, \"Cholesterol\": 196, \"FastingBS\": 0, \"RestingECG\": \"Normal\", \"MaxHR\": 166, \"ExerciseAngina\": \"N\", \"Oldpeak\": 0.0, \"ST_Slope\": \"Flat\", \"HeartDisease\": 1, \"HD\": \"True\", \"Prediction\": \"False\"}, {\"Age\": 43, \"Sex\": \"F\", \"ChestPainType\": \"ATA\", \"RestingBP\": 120, \"Cholesterol\": 201, \"FastingBS\": 0, \"RestingECG\": \"Normal\", \"MaxHR\": 165, \"ExerciseAngina\": \"N\", \"Oldpeak\": 0.0, \"ST_Slope\": \"Up\", \"HeartDisease\": 0, \"HD\": \"False\", \"Prediction\": \"False\"}, {\"Age\": 60, \"Sex\": \"M\", \"ChestPainType\": \"ASY\", \"RestingBP\": 100, \"Cholesterol\": 248, \"FastingBS\": 0, \"RestingECG\": \"Normal\", \"MaxHR\": 125, \"ExerciseAngina\": \"N\", \"Oldpeak\": 1.0, \"ST_Slope\": \"Flat\", \"HeartDisease\": 1, \"HD\": \"True\", \"Prediction\": \"False\"}, {\"Age\": 36, \"Sex\": \"M\", \"ChestPainType\": \"ATA\", \"RestingBP\": 120, \"Cholesterol\": 267, \"FastingBS\": 0, \"RestingECG\": \"Normal\", \"MaxHR\": 160, \"ExerciseAngina\": \"N\", \"Oldpeak\": 3.0, \"ST_Slope\": \"Flat\", \"HeartDisease\": 1, \"HD\": \"True\", \"Prediction\": \"False\"}, {\"Age\": 43, \"Sex\": \"F\", \"ChestPainType\": \"TA\", \"RestingBP\": 100, \"Cholesterol\": 223, \"FastingBS\": 0, \"RestingECG\": \"Normal\", \"MaxHR\": 142, \"ExerciseAngina\": \"N\", \"Oldpeak\": 0.0, \"ST_Slope\": \"Up\", \"HeartDisease\": 0, \"HD\": \"False\", \"Prediction\": \"False\"}, {\"Age\": 44, \"Sex\": \"M\", \"ChestPainType\": \"ATA\", \"RestingBP\": 120, \"Cholesterol\": 184, \"FastingBS\": 0, \"RestingECG\": \"Normal\", \"MaxHR\": 142, \"ExerciseAngina\": \"N\", \"Oldpeak\": 1.0, \"ST_Slope\": \"Flat\", \"HeartDisease\": 0, \"HD\": \"False\", \"Prediction\": \"False\"}, {\"Age\": 49, \"Sex\": \"F\", \"ChestPainType\": \"ATA\", \"RestingBP\": 124, \"Cholesterol\": 201, \"FastingBS\": 0, \"RestingECG\": \"Normal\", \"MaxHR\": 164, \"ExerciseAngina\": \"N\", \"Oldpeak\": 0.0, \"ST_Slope\": \"Up\", \"HeartDisease\": 0, \"HD\": \"False\", \"Prediction\": \"False\"}, {\"Age\": 44, \"Sex\": \"M\", \"ChestPainType\": \"ATA\", \"RestingBP\": 150, \"Cholesterol\": 288, \"FastingBS\": 0, \"RestingECG\": \"Normal\", \"MaxHR\": 150, \"ExerciseAngina\": \"Y\", \"Oldpeak\": 3.0, \"ST_Slope\": \"Flat\", \"HeartDisease\": 1, \"HD\": \"True\", \"Prediction\": \"False\"}, {\"Age\": 40, \"Sex\": \"M\", \"ChestPainType\": \"NAP\", \"RestingBP\": 130, \"Cholesterol\": 215, \"FastingBS\": 0, \"RestingECG\": \"Normal\", \"MaxHR\": 138, \"ExerciseAngina\": \"N\", \"Oldpeak\": 0.0, \"ST_Slope\": \"Up\", \"HeartDisease\": 0, \"HD\": \"False\", \"Prediction\": \"False\"}, {\"Age\": 36, \"Sex\": \"M\", \"ChestPainType\": \"NAP\", \"RestingBP\": 130, \"Cholesterol\": 209, \"FastingBS\": 0, \"RestingECG\": \"Normal\", \"MaxHR\": 178, \"ExerciseAngina\": \"N\", \"Oldpeak\": 0.0, \"ST_Slope\": \"Up\", \"HeartDisease\": 0, \"HD\": \"False\", \"Prediction\": \"False\"}, {\"Age\": 53, \"Sex\": \"M\", \"ChestPainType\": \"ASY\", \"RestingBP\": 124, \"Cholesterol\": 260, \"FastingBS\": 0, \"RestingECG\": \"ST\", \"MaxHR\": 112, \"ExerciseAngina\": \"Y\", \"Oldpeak\": 3.0, \"ST_Slope\": \"Flat\", \"HeartDisease\": 0, \"HD\": \"False\", \"Prediction\": \"True\"}, {\"Age\": 52, \"Sex\": \"M\", \"ChestPainType\": \"ATA\", \"RestingBP\": 120, \"Cholesterol\": 284, \"FastingBS\": 0, \"RestingECG\": \"Normal\", \"MaxHR\": 118, \"ExerciseAngina\": \"N\", \"Oldpeak\": 0.0, \"ST_Slope\": \"Up\", \"HeartDisease\": 0, \"HD\": \"False\", \"Prediction\": \"False\"}, {\"Age\": 53, \"Sex\": \"F\", \"ChestPainType\": \"ATA\", \"RestingBP\": 113, \"Cholesterol\": 468, \"FastingBS\": 0, \"RestingECG\": \"Normal\", \"MaxHR\": 127, \"ExerciseAngina\": \"N\", \"Oldpeak\": 0.0, \"ST_Slope\": \"Up\", \"HeartDisease\": 0, \"HD\": \"False\", \"Prediction\": \"True\"}, {\"Age\": 51, \"Sex\": \"M\", \"ChestPainType\": \"ATA\", \"RestingBP\": 125, \"Cholesterol\": 188, \"FastingBS\": 0, \"RestingECG\": \"Normal\", \"MaxHR\": 145, \"ExerciseAngina\": \"N\", \"Oldpeak\": 0.0, \"ST_Slope\": \"Up\", \"HeartDisease\": 0, \"HD\": \"False\", \"Prediction\": \"False\"}, {\"Age\": 53, \"Sex\": \"M\", \"ChestPainType\": \"NAP\", \"RestingBP\": 145, \"Cholesterol\": 518, \"FastingBS\": 0, \"RestingECG\": \"Normal\", \"MaxHR\": 130, \"ExerciseAngina\": \"N\", \"Oldpeak\": 0.0, \"ST_Slope\": \"Flat\", \"HeartDisease\": 1, \"HD\": \"True\", \"Prediction\": \"True\"}, {\"Age\": 56, \"Sex\": \"M\", \"ChestPainType\": \"NAP\", \"RestingBP\": 130, \"Cholesterol\": 167, \"FastingBS\": 0, \"RestingECG\": \"Normal\", \"MaxHR\": 114, \"ExerciseAngina\": \"N\", \"Oldpeak\": 0.0, \"ST_Slope\": \"Up\", \"HeartDisease\": 0, \"HD\": \"False\", \"Prediction\": \"True\"}, {\"Age\": 54, \"Sex\": \"M\", \"ChestPainType\": \"ASY\", \"RestingBP\": 125, \"Cholesterol\": 224, \"FastingBS\": 0, \"RestingECG\": \"Normal\", \"MaxHR\": 122, \"ExerciseAngina\": \"N\", \"Oldpeak\": 2.0, \"ST_Slope\": \"Flat\", \"HeartDisease\": 1, \"HD\": \"True\", \"Prediction\": \"True\"}, {\"Age\": 41, \"Sex\": \"M\", \"ChestPainType\": \"ASY\", \"RestingBP\": 130, \"Cholesterol\": 172, \"FastingBS\": 0, \"RestingECG\": \"ST\", \"MaxHR\": 130, \"ExerciseAngina\": \"N\", \"Oldpeak\": 2.0, \"ST_Slope\": \"Flat\", \"HeartDisease\": 1, \"HD\": \"True\", \"Prediction\": \"False\"}, {\"Age\": 43, \"Sex\": \"F\", \"ChestPainType\": \"ATA\", \"RestingBP\": 150, \"Cholesterol\": 186, \"FastingBS\": 0, \"RestingECG\": \"Normal\", \"MaxHR\": 154, \"ExerciseAngina\": \"N\", \"Oldpeak\": 0.0, \"ST_Slope\": \"Up\", \"HeartDisease\": 0, \"HD\": \"False\", \"Prediction\": \"False\"}, {\"Age\": 32, \"Sex\": \"M\", \"ChestPainType\": \"ATA\", \"RestingBP\": 125, \"Cholesterol\": 254, \"FastingBS\": 0, \"RestingECG\": \"Normal\", \"MaxHR\": 155, \"ExerciseAngina\": \"N\", \"Oldpeak\": 0.0, \"ST_Slope\": \"Up\", \"HeartDisease\": 0, \"HD\": \"False\", \"Prediction\": \"False\"}, {\"Age\": 65, \"Sex\": \"M\", \"ChestPainType\": \"ASY\", \"RestingBP\": 140, \"Cholesterol\": 306, \"FastingBS\": 1, \"RestingECG\": \"Normal\", \"MaxHR\": 87, \"ExerciseAngina\": \"Y\", \"Oldpeak\": 1.5, \"ST_Slope\": \"Flat\", \"HeartDisease\": 1, \"HD\": \"True\", \"Prediction\": \"True\"}, {\"Age\": 41, \"Sex\": \"F\", \"ChestPainType\": \"ATA\", \"RestingBP\": 110, \"Cholesterol\": 250, \"FastingBS\": 0, \"RestingECG\": \"ST\", \"MaxHR\": 142, \"ExerciseAngina\": \"N\", \"Oldpeak\": 0.0, \"ST_Slope\": \"Up\", \"HeartDisease\": 0, \"HD\": \"False\", \"Prediction\": \"False\"}, {\"Age\": 48, \"Sex\": \"F\", \"ChestPainType\": \"ATA\", \"RestingBP\": 120, \"Cholesterol\": 177, \"FastingBS\": 1, \"RestingECG\": \"ST\", \"MaxHR\": 148, \"ExerciseAngina\": \"N\", \"Oldpeak\": 0.0, \"ST_Slope\": \"Up\", \"HeartDisease\": 0, \"HD\": \"False\", \"Prediction\": \"False\"}, {\"Age\": 48, \"Sex\": \"F\", \"ChestPainType\": \"ASY\", \"RestingBP\": 150, \"Cholesterol\": 227, \"FastingBS\": 0, \"RestingECG\": \"Normal\", \"MaxHR\": 130, \"ExerciseAngina\": \"Y\", \"Oldpeak\": 1.0, \"ST_Slope\": \"Flat\", \"HeartDisease\": 0, \"HD\": \"False\", \"Prediction\": \"True\"}, {\"Age\": 54, \"Sex\": \"F\", \"ChestPainType\": \"ATA\", \"RestingBP\": 150, \"Cholesterol\": 230, \"FastingBS\": 0, \"RestingECG\": \"Normal\", \"MaxHR\": 130, \"ExerciseAngina\": \"N\", \"Oldpeak\": 0.0, \"ST_Slope\": \"Up\", \"HeartDisease\": 0, \"HD\": \"False\", \"Prediction\": \"True\"}, {\"Age\": 54, \"Sex\": \"F\", \"ChestPainType\": \"NAP\", \"RestingBP\": 130, \"Cholesterol\": 294, \"FastingBS\": 0, \"RestingECG\": \"ST\", \"MaxHR\": 100, \"ExerciseAngina\": \"Y\", \"Oldpeak\": 0.0, \"ST_Slope\": \"Flat\", \"HeartDisease\": 1, \"HD\": \"True\", \"Prediction\": \"True\"}, {\"Age\": 35, \"Sex\": \"M\", \"ChestPainType\": \"ATA\", \"RestingBP\": 150, \"Cholesterol\": 264, \"FastingBS\": 0, \"RestingECG\": \"Normal\", \"MaxHR\": 168, \"ExerciseAngina\": \"N\", \"Oldpeak\": 0.0, \"ST_Slope\": \"Up\", \"HeartDisease\": 0, \"HD\": \"False\", \"Prediction\": \"False\"}, {\"Age\": 52, \"Sex\": \"M\", \"ChestPainType\": \"NAP\", \"RestingBP\": 140, \"Cholesterol\": 259, \"FastingBS\": 0, \"RestingECG\": \"ST\", \"MaxHR\": 170, \"ExerciseAngina\": \"N\", \"Oldpeak\": 0.0, \"ST_Slope\": \"Up\", \"HeartDisease\": 0, \"HD\": \"False\", \"Prediction\": \"False\"}, {\"Age\": 43, \"Sex\": \"M\", \"ChestPainType\": \"ASY\", \"RestingBP\": 120, \"Cholesterol\": 175, \"FastingBS\": 0, \"RestingECG\": \"Normal\", \"MaxHR\": 120, \"ExerciseAngina\": \"Y\", \"Oldpeak\": 1.0, \"ST_Slope\": \"Flat\", \"HeartDisease\": 1, \"HD\": \"True\", \"Prediction\": \"False\"}, {\"Age\": 59, \"Sex\": \"M\", \"ChestPainType\": \"NAP\", \"RestingBP\": 130, \"Cholesterol\": 318, \"FastingBS\": 0, \"RestingECG\": \"Normal\", \"MaxHR\": 120, \"ExerciseAngina\": \"Y\", \"Oldpeak\": 1.0, \"ST_Slope\": \"Flat\", \"HeartDisease\": 0, \"HD\": \"False\", \"Prediction\": \"True\"}, {\"Age\": 37, \"Sex\": \"M\", \"ChestPainType\": \"ASY\", \"RestingBP\": 120, \"Cholesterol\": 223, \"FastingBS\": 0, \"RestingECG\": \"Normal\", \"MaxHR\": 168, \"ExerciseAngina\": \"N\", \"Oldpeak\": 0.0, \"ST_Slope\": \"Up\", \"HeartDisease\": 0, \"HD\": \"False\", \"Prediction\": \"False\"}, {\"Age\": 50, \"Sex\": \"M\", \"ChestPainType\": \"ATA\", \"RestingBP\": 140, \"Cholesterol\": 216, \"FastingBS\": 0, \"RestingECG\": \"Normal\", \"MaxHR\": 170, \"ExerciseAngina\": \"N\", \"Oldpeak\": 0.0, \"ST_Slope\": \"Up\", \"HeartDisease\": 0, \"HD\": \"False\", \"Prediction\": \"False\"}, {\"Age\": 36, \"Sex\": \"M\", \"ChestPainType\": \"NAP\", \"RestingBP\": 112, \"Cholesterol\": 340, \"FastingBS\": 0, \"RestingECG\": \"Normal\", \"MaxHR\": 184, \"ExerciseAngina\": \"N\", \"Oldpeak\": 1.0, \"ST_Slope\": \"Flat\", \"HeartDisease\": 0, \"HD\": \"False\", \"Prediction\": \"False\"}, {\"Age\": 41, \"Sex\": \"M\", \"ChestPainType\": \"ASY\", \"RestingBP\": 110, \"Cholesterol\": 289, \"FastingBS\": 0, \"RestingECG\": \"Normal\", \"MaxHR\": 170, \"ExerciseAngina\": \"N\", \"Oldpeak\": 0.0, \"ST_Slope\": \"Flat\", \"HeartDisease\": 1, \"HD\": \"True\", \"Prediction\": \"False\"}, {\"Age\": 50, \"Sex\": \"M\", \"ChestPainType\": \"ASY\", \"RestingBP\": 130, \"Cholesterol\": 233, \"FastingBS\": 0, \"RestingECG\": \"Normal\", \"MaxHR\": 121, \"ExerciseAngina\": \"Y\", \"Oldpeak\": 2.0, \"ST_Slope\": \"Flat\", \"HeartDisease\": 1, \"HD\": \"True\", \"Prediction\": \"True\"}, {\"Age\": 47, \"Sex\": \"F\", \"ChestPainType\": \"ASY\", \"RestingBP\": 120, \"Cholesterol\": 205, \"FastingBS\": 0, \"RestingECG\": \"Normal\", \"MaxHR\": 98, \"ExerciseAngina\": \"Y\", \"Oldpeak\": 2.0, \"ST_Slope\": \"Flat\", \"HeartDisease\": 1, \"HD\": \"True\", \"Prediction\": \"True\"}, {\"Age\": 45, \"Sex\": \"M\", \"ChestPainType\": \"ATA\", \"RestingBP\": 140, \"Cholesterol\": 224, \"FastingBS\": 1, \"RestingECG\": \"Normal\", \"MaxHR\": 122, \"ExerciseAngina\": \"N\", \"Oldpeak\": 0.0, \"ST_Slope\": \"Up\", \"HeartDisease\": 0, \"HD\": \"False\", \"Prediction\": \"False\"}, {\"Age\": 41, \"Sex\": \"F\", \"ChestPainType\": \"ATA\", \"RestingBP\": 130, \"Cholesterol\": 245, \"FastingBS\": 0, \"RestingECG\": \"Normal\", \"MaxHR\": 150, \"ExerciseAngina\": \"N\", \"Oldpeak\": 0.0, \"ST_Slope\": \"Up\", \"HeartDisease\": 0, \"HD\": \"False\", \"Prediction\": \"False\"}, {\"Age\": 52, \"Sex\": \"F\", \"ChestPainType\": \"ASY\", \"RestingBP\": 130, \"Cholesterol\": 180, \"FastingBS\": 0, \"RestingECG\": \"Normal\", \"MaxHR\": 140, \"ExerciseAngina\": \"Y\", \"Oldpeak\": 1.5, \"ST_Slope\": \"Flat\", \"HeartDisease\": 0, \"HD\": \"False\", \"Prediction\": \"False\"}, {\"Age\": 51, \"Sex\": \"F\", \"ChestPainType\": \"ATA\", \"RestingBP\": 160, \"Cholesterol\": 194, \"FastingBS\": 0, \"RestingECG\": \"Normal\", \"MaxHR\": 170, \"ExerciseAngina\": \"N\", \"Oldpeak\": 0.0, \"ST_Slope\": \"Up\", \"HeartDisease\": 0, \"HD\": \"False\", \"Prediction\": \"False\"}, {\"Age\": 31, \"Sex\": \"M\", \"ChestPainType\": \"ASY\", \"RestingBP\": 120, \"Cholesterol\": 270, \"FastingBS\": 0, \"RestingECG\": \"Normal\", \"MaxHR\": 153, \"ExerciseAngina\": \"Y\", \"Oldpeak\": 1.5, \"ST_Slope\": \"Flat\", \"HeartDisease\": 1, \"HD\": \"True\", \"Prediction\": \"False\"}, {\"Age\": 58, \"Sex\": \"M\", \"ChestPainType\": \"NAP\", \"RestingBP\": 130, \"Cholesterol\": 213, \"FastingBS\": 0, \"RestingECG\": \"ST\", \"MaxHR\": 140, \"ExerciseAngina\": \"N\", \"Oldpeak\": 0.0, \"ST_Slope\": \"Flat\", \"HeartDisease\": 1, \"HD\": \"True\", \"Prediction\": \"True\"}, {\"Age\": 54, \"Sex\": \"M\", \"ChestPainType\": \"ASY\", \"RestingBP\": 150, \"Cholesterol\": 365, \"FastingBS\": 0, \"RestingECG\": \"ST\", \"MaxHR\": 134, \"ExerciseAngina\": \"N\", \"Oldpeak\": 1.0, \"ST_Slope\": \"Up\", \"HeartDisease\": 0, \"HD\": \"False\", \"Prediction\": \"True\"}, {\"Age\": 52, \"Sex\": \"M\", \"ChestPainType\": \"ASY\", \"RestingBP\": 112, \"Cholesterol\": 342, \"FastingBS\": 0, \"RestingECG\": \"ST\", \"MaxHR\": 96, \"ExerciseAngina\": \"Y\", \"Oldpeak\": 1.0, \"ST_Slope\": \"Flat\", \"HeartDisease\": 1, \"HD\": \"True\", \"Prediction\": \"True\"}, {\"Age\": 49, \"Sex\": \"M\", \"ChestPainType\": \"ATA\", \"RestingBP\": 100, \"Cholesterol\": 253, \"FastingBS\": 0, \"RestingECG\": \"Normal\", \"MaxHR\": 174, \"ExerciseAngina\": \"N\", \"Oldpeak\": 0.0, \"ST_Slope\": \"Up\", \"HeartDisease\": 0, \"HD\": \"False\", \"Prediction\": \"False\"}, {\"Age\": 43, \"Sex\": \"F\", \"ChestPainType\": \"NAP\", \"RestingBP\": 150, \"Cholesterol\": 254, \"FastingBS\": 0, \"RestingECG\": \"Normal\", \"MaxHR\": 175, \"ExerciseAngina\": \"N\", \"Oldpeak\": 0.0, \"ST_Slope\": \"Up\", \"HeartDisease\": 0, \"HD\": \"False\", \"Prediction\": \"False\"}, {\"Age\": 45, \"Sex\": \"M\", \"ChestPainType\": \"ASY\", \"RestingBP\": 140, \"Cholesterol\": 224, \"FastingBS\": 0, \"RestingECG\": \"Normal\", \"MaxHR\": 144, \"ExerciseAngina\": \"N\", \"Oldpeak\": 0.0, \"ST_Slope\": \"Up\", \"HeartDisease\": 0, \"HD\": \"False\", \"Prediction\": \"False\"}, {\"Age\": 46, \"Sex\": \"M\", \"ChestPainType\": \"ASY\", \"RestingBP\": 120, \"Cholesterol\": 277, \"FastingBS\": 0, \"RestingECG\": \"Normal\", \"MaxHR\": 125, \"ExerciseAngina\": \"Y\", \"Oldpeak\": 1.0, \"ST_Slope\": \"Flat\", \"HeartDisease\": 1, \"HD\": \"True\", \"Prediction\": \"False\"}, {\"Age\": 50, \"Sex\": \"F\", \"ChestPainType\": \"ATA\", \"RestingBP\": 110, \"Cholesterol\": 202, \"FastingBS\": 0, \"RestingECG\": \"Normal\", \"MaxHR\": 145, \"ExerciseAngina\": \"N\", \"Oldpeak\": 0.0, \"ST_Slope\": \"Up\", \"HeartDisease\": 0, \"HD\": \"False\", \"Prediction\": \"False\"}, {\"Age\": 37, \"Sex\": \"F\", \"ChestPainType\": \"ATA\", \"RestingBP\": 120, \"Cholesterol\": 260, \"FastingBS\": 0, \"RestingECG\": \"Normal\", \"MaxHR\": 130, \"ExerciseAngina\": \"N\", \"Oldpeak\": 0.0, \"ST_Slope\": \"Up\", \"HeartDisease\": 0, \"HD\": \"False\", \"Prediction\": \"False\"}, {\"Age\": 45, \"Sex\": \"F\", \"ChestPainType\": \"ASY\", \"RestingBP\": 132, \"Cholesterol\": 297, \"FastingBS\": 0, \"RestingECG\": \"Normal\", \"MaxHR\": 144, \"ExerciseAngina\": \"N\", \"Oldpeak\": 0.0, \"ST_Slope\": \"Up\", \"HeartDisease\": 0, \"HD\": \"False\", \"Prediction\": \"False\"}, {\"Age\": 32, \"Sex\": \"M\", \"ChestPainType\": \"ATA\", \"RestingBP\": 110, \"Cholesterol\": 225, \"FastingBS\": 0, \"RestingECG\": \"Normal\", \"MaxHR\": 184, \"ExerciseAngina\": \"N\", \"Oldpeak\": 0.0, \"ST_Slope\": \"Up\", \"HeartDisease\": 0, \"HD\": \"False\", \"Prediction\": \"False\"}, {\"Age\": 52, \"Sex\": \"M\", \"ChestPainType\": \"ASY\", \"RestingBP\": 160, \"Cholesterol\": 246, \"FastingBS\": 0, \"RestingECG\": \"ST\", \"MaxHR\": 82, \"ExerciseAngina\": \"Y\", \"Oldpeak\": 4.0, \"ST_Slope\": \"Flat\", \"HeartDisease\": 1, \"HD\": \"True\", \"Prediction\": \"True\"}, {\"Age\": 44, \"Sex\": \"M\", \"ChestPainType\": \"ASY\", \"RestingBP\": 150, \"Cholesterol\": 412, \"FastingBS\": 0, \"RestingECG\": \"Normal\", \"MaxHR\": 170, \"ExerciseAngina\": \"N\", \"Oldpeak\": 0.0, \"ST_Slope\": \"Up\", \"HeartDisease\": 0, \"HD\": \"False\", \"Prediction\": \"False\"}, {\"Age\": 57, \"Sex\": \"M\", \"ChestPainType\": \"ATA\", \"RestingBP\": 140, \"Cholesterol\": 265, \"FastingBS\": 0, \"RestingECG\": \"ST\", \"MaxHR\": 145, \"ExerciseAngina\": \"Y\", \"Oldpeak\": 1.0, \"ST_Slope\": \"Flat\", \"HeartDisease\": 1, \"HD\": \"True\", \"Prediction\": \"True\"}, {\"Age\": 44, \"Sex\": \"M\", \"ChestPainType\": \"ATA\", \"RestingBP\": 130, \"Cholesterol\": 215, \"FastingBS\": 0, \"RestingECG\": \"Normal\", \"MaxHR\": 135, \"ExerciseAngina\": \"N\", \"Oldpeak\": 0.0, \"ST_Slope\": \"Up\", \"HeartDisease\": 0, \"HD\": \"False\", \"Prediction\": \"False\"}, {\"Age\": 52, \"Sex\": \"M\", \"ChestPainType\": \"ASY\", \"RestingBP\": 120, \"Cholesterol\": 182, \"FastingBS\": 0, \"RestingECG\": \"Normal\", \"MaxHR\": 150, \"ExerciseAngina\": \"N\", \"Oldpeak\": 0.0, \"ST_Slope\": \"Flat\", \"HeartDisease\": 1, \"HD\": \"True\", \"Prediction\": \"False\"}, {\"Age\": 44, \"Sex\": \"F\", \"ChestPainType\": \"ASY\", \"RestingBP\": 120, \"Cholesterol\": 218, \"FastingBS\": 0, \"RestingECG\": \"ST\", \"MaxHR\": 115, \"ExerciseAngina\": \"N\", \"Oldpeak\": 0.0, \"ST_Slope\": \"Up\", \"HeartDisease\": 0, \"HD\": \"False\", \"Prediction\": \"True\"}, {\"Age\": 55, \"Sex\": \"M\", \"ChestPainType\": \"ASY\", \"RestingBP\": 140, \"Cholesterol\": 268, \"FastingBS\": 0, \"RestingECG\": \"Normal\", \"MaxHR\": 128, \"ExerciseAngina\": \"Y\", \"Oldpeak\": 1.5, \"ST_Slope\": \"Flat\", \"HeartDisease\": 1, \"HD\": \"True\", \"Prediction\": \"True\"}, {\"Age\": 46, \"Sex\": \"M\", \"ChestPainType\": \"NAP\", \"RestingBP\": 150, \"Cholesterol\": 163, \"FastingBS\": 0, \"RestingECG\": \"Normal\", \"MaxHR\": 116, \"ExerciseAngina\": \"N\", \"Oldpeak\": 0.0, \"ST_Slope\": \"Up\", \"HeartDisease\": 0, \"HD\": \"False\", \"Prediction\": \"True\"}, {\"Age\": 32, \"Sex\": \"M\", \"ChestPainType\": \"ASY\", \"RestingBP\": 118, \"Cholesterol\": 529, \"FastingBS\": 0, \"RestingECG\": \"Normal\", \"MaxHR\": 130, \"ExerciseAngina\": \"N\", \"Oldpeak\": 0.0, \"ST_Slope\": \"Flat\", \"HeartDisease\": 1, \"HD\": \"True\", \"Prediction\": \"True\"}, {\"Age\": 35, \"Sex\": \"F\", \"ChestPainType\": \"ASY\", \"RestingBP\": 140, \"Cholesterol\": 167, \"FastingBS\": 0, \"RestingECG\": \"Normal\", \"MaxHR\": 150, \"ExerciseAngina\": \"N\", \"Oldpeak\": 0.0, \"ST_Slope\": \"Up\", \"HeartDisease\": 0, \"HD\": \"False\", \"Prediction\": \"False\"}, {\"Age\": 52, \"Sex\": \"M\", \"ChestPainType\": \"ATA\", \"RestingBP\": 140, \"Cholesterol\": 100, \"FastingBS\": 0, \"RestingECG\": \"Normal\", \"MaxHR\": 138, \"ExerciseAngina\": \"Y\", \"Oldpeak\": 0.0, \"ST_Slope\": \"Up\", \"HeartDisease\": 0, \"HD\": \"False\", \"Prediction\": \"True\"}, {\"Age\": 49, \"Sex\": \"M\", \"ChestPainType\": \"ASY\", \"RestingBP\": 130, \"Cholesterol\": 206, \"FastingBS\": 0, \"RestingECG\": \"Normal\", \"MaxHR\": 170, \"ExerciseAngina\": \"N\", \"Oldpeak\": 0.0, \"ST_Slope\": \"Flat\", \"HeartDisease\": 1, \"HD\": \"True\", \"Prediction\": \"False\"}, {\"Age\": 55, \"Sex\": \"M\", \"ChestPainType\": \"NAP\", \"RestingBP\": 110, \"Cholesterol\": 277, \"FastingBS\": 0, \"RestingECG\": \"Normal\", \"MaxHR\": 160, \"ExerciseAngina\": \"N\", \"Oldpeak\": 0.0, \"ST_Slope\": \"Up\", \"HeartDisease\": 0, \"HD\": \"False\", \"Prediction\": \"False\"}, {\"Age\": 54, \"Sex\": \"M\", \"ChestPainType\": \"ATA\", \"RestingBP\": 120, \"Cholesterol\": 238, \"FastingBS\": 0, \"RestingECG\": \"Normal\", \"MaxHR\": 154, \"ExerciseAngina\": \"N\", \"Oldpeak\": 0.0, \"ST_Slope\": \"Up\", \"HeartDisease\": 0, \"HD\": \"False\", \"Prediction\": \"False\"}, {\"Age\": 63, \"Sex\": \"M\", \"ChestPainType\": \"ASY\", \"RestingBP\": 150, \"Cholesterol\": 223, \"FastingBS\": 0, \"RestingECG\": \"Normal\", \"MaxHR\": 115, \"ExerciseAngina\": \"N\", \"Oldpeak\": 0.0, \"ST_Slope\": \"Flat\", \"HeartDisease\": 1, \"HD\": \"True\", \"Prediction\": \"True\"}, {\"Age\": 52, \"Sex\": \"M\", \"ChestPainType\": \"ATA\", \"RestingBP\": 160, \"Cholesterol\": 196, \"FastingBS\": 0, \"RestingECG\": \"Normal\", \"MaxHR\": 165, \"ExerciseAngina\": \"N\", \"Oldpeak\": 0.0, \"ST_Slope\": \"Up\", \"HeartDisease\": 0, \"HD\": \"False\", \"Prediction\": \"False\"}, {\"Age\": 56, \"Sex\": \"M\", \"ChestPainType\": \"ASY\", \"RestingBP\": 150, \"Cholesterol\": 213, \"FastingBS\": 1, \"RestingECG\": \"Normal\", \"MaxHR\": 125, \"ExerciseAngina\": \"Y\", \"Oldpeak\": 1.0, \"ST_Slope\": \"Flat\", \"HeartDisease\": 1, \"HD\": \"True\", \"Prediction\": \"True\"}, {\"Age\": 66, \"Sex\": \"M\", \"ChestPainType\": \"ASY\", \"RestingBP\": 140, \"Cholesterol\": 139, \"FastingBS\": 0, \"RestingECG\": \"Normal\", \"MaxHR\": 94, \"ExerciseAngina\": \"Y\", \"Oldpeak\": 1.0, \"ST_Slope\": \"Flat\", \"HeartDisease\": 1, \"HD\": \"True\", \"Prediction\": \"True\"}, {\"Age\": 65, \"Sex\": \"M\", \"ChestPainType\": \"ASY\", \"RestingBP\": 170, \"Cholesterol\": 263, \"FastingBS\": 1, \"RestingECG\": \"Normal\", \"MaxHR\": 112, \"ExerciseAngina\": \"Y\", \"Oldpeak\": 2.0, \"ST_Slope\": \"Flat\", \"HeartDisease\": 1, \"HD\": \"True\", \"Prediction\": \"True\"}, {\"Age\": 53, \"Sex\": \"F\", \"ChestPainType\": \"ATA\", \"RestingBP\": 140, \"Cholesterol\": 216, \"FastingBS\": 0, \"RestingECG\": \"Normal\", \"MaxHR\": 142, \"ExerciseAngina\": \"Y\", \"Oldpeak\": 2.0, \"ST_Slope\": \"Flat\", \"HeartDisease\": 0, \"HD\": \"False\", \"Prediction\": \"False\"}, {\"Age\": 43, \"Sex\": \"M\", \"ChestPainType\": \"TA\", \"RestingBP\": 120, \"Cholesterol\": 291, \"FastingBS\": 0, \"RestingECG\": \"ST\", \"MaxHR\": 155, \"ExerciseAngina\": \"N\", \"Oldpeak\": 0.0, \"ST_Slope\": \"Flat\", \"HeartDisease\": 1, \"HD\": \"True\", \"Prediction\": \"False\"}, {\"Age\": 55, \"Sex\": \"M\", \"ChestPainType\": \"ASY\", \"RestingBP\": 140, \"Cholesterol\": 229, \"FastingBS\": 0, \"RestingECG\": \"Normal\", \"MaxHR\": 110, \"ExerciseAngina\": \"Y\", \"Oldpeak\": 0.5, \"ST_Slope\": \"Flat\", \"HeartDisease\": 0, \"HD\": \"False\", \"Prediction\": \"True\"}, {\"Age\": 49, \"Sex\": \"F\", \"ChestPainType\": \"ATA\", \"RestingBP\": 110, \"Cholesterol\": 208, \"FastingBS\": 0, \"RestingECG\": \"Normal\", \"MaxHR\": 160, \"ExerciseAngina\": \"N\", \"Oldpeak\": 0.0, \"ST_Slope\": \"Up\", \"HeartDisease\": 0, \"HD\": \"False\", \"Prediction\": \"False\"}, {\"Age\": 39, \"Sex\": \"M\", \"ChestPainType\": \"ASY\", \"RestingBP\": 130, \"Cholesterol\": 307, \"FastingBS\": 0, \"RestingECG\": \"Normal\", \"MaxHR\": 140, \"ExerciseAngina\": \"N\", \"Oldpeak\": 0.0, \"ST_Slope\": \"Up\", \"HeartDisease\": 0, \"HD\": \"False\", \"Prediction\": \"False\"}, {\"Age\": 52, \"Sex\": \"F\", \"ChestPainType\": \"ATA\", \"RestingBP\": 120, \"Cholesterol\": 210, \"FastingBS\": 0, \"RestingECG\": \"Normal\", \"MaxHR\": 148, \"ExerciseAngina\": \"N\", \"Oldpeak\": 0.0, \"ST_Slope\": \"Up\", \"HeartDisease\": 0, \"HD\": \"False\", \"Prediction\": \"False\"}, {\"Age\": 48, \"Sex\": \"M\", \"ChestPainType\": \"ASY\", \"RestingBP\": 160, \"Cholesterol\": 329, \"FastingBS\": 0, \"RestingECG\": \"Normal\", \"MaxHR\": 92, \"ExerciseAngina\": \"Y\", \"Oldpeak\": 1.5, \"ST_Slope\": \"Flat\", \"HeartDisease\": 1, \"HD\": \"True\", \"Prediction\": \"True\"}, {\"Age\": 39, \"Sex\": \"F\", \"ChestPainType\": \"NAP\", \"RestingBP\": 110, \"Cholesterol\": 182, \"FastingBS\": 0, \"RestingECG\": \"ST\", \"MaxHR\": 180, \"ExerciseAngina\": \"N\", \"Oldpeak\": 0.0, \"ST_Slope\": \"Up\", \"HeartDisease\": 0, \"HD\": \"False\", \"Prediction\": \"False\"}, {\"Age\": 58, \"Sex\": \"M\", \"ChestPainType\": \"ASY\", \"RestingBP\": 130, \"Cholesterol\": 263, \"FastingBS\": 0, \"RestingECG\": \"Normal\", \"MaxHR\": 140, \"ExerciseAngina\": \"Y\", \"Oldpeak\": 2.0, \"ST_Slope\": \"Flat\", \"HeartDisease\": 1, \"HD\": \"True\", \"Prediction\": \"True\"}, {\"Age\": 43, \"Sex\": \"M\", \"ChestPainType\": \"ATA\", \"RestingBP\": 142, \"Cholesterol\": 207, \"FastingBS\": 0, \"RestingECG\": \"Normal\", \"MaxHR\": 138, \"ExerciseAngina\": \"N\", \"Oldpeak\": 0.0, \"ST_Slope\": \"Up\", \"HeartDisease\": 0, \"HD\": \"False\", \"Prediction\": \"False\"}, {\"Age\": 39, \"Sex\": \"M\", \"ChestPainType\": \"NAP\", \"RestingBP\": 160, \"Cholesterol\": 147, \"FastingBS\": 1, \"RestingECG\": \"Normal\", \"MaxHR\": 160, \"ExerciseAngina\": \"N\", \"Oldpeak\": 0.0, \"ST_Slope\": \"Up\", \"HeartDisease\": 0, \"HD\": \"False\", \"Prediction\": \"False\"}, {\"Age\": 56, \"Sex\": \"M\", \"ChestPainType\": \"ASY\", \"RestingBP\": 120, \"Cholesterol\": 85, \"FastingBS\": 0, \"RestingECG\": \"Normal\", \"MaxHR\": 140, \"ExerciseAngina\": \"N\", \"Oldpeak\": 0.0, \"ST_Slope\": \"Up\", \"HeartDisease\": 0, \"HD\": \"False\", \"Prediction\": \"True\"}, {\"Age\": 41, \"Sex\": \"M\", \"ChestPainType\": \"ATA\", \"RestingBP\": 125, \"Cholesterol\": 269, \"FastingBS\": 0, \"RestingECG\": \"Normal\", \"MaxHR\": 144, \"ExerciseAngina\": \"N\", \"Oldpeak\": 0.0, \"ST_Slope\": \"Up\", \"HeartDisease\": 0, \"HD\": \"False\", \"Prediction\": \"False\"}, {\"Age\": 65, \"Sex\": \"M\", \"ChestPainType\": \"ASY\", \"RestingBP\": 130, \"Cholesterol\": 275, \"FastingBS\": 0, \"RestingECG\": \"ST\", \"MaxHR\": 115, \"ExerciseAngina\": \"Y\", \"Oldpeak\": 1.0, \"ST_Slope\": \"Flat\", \"HeartDisease\": 1, \"HD\": \"True\", \"Prediction\": \"True\"}, {\"Age\": 51, \"Sex\": \"M\", \"ChestPainType\": \"ASY\", \"RestingBP\": 130, \"Cholesterol\": 179, \"FastingBS\": 0, \"RestingECG\": \"Normal\", \"MaxHR\": 100, \"ExerciseAngina\": \"N\", \"Oldpeak\": 0.0, \"ST_Slope\": \"Up\", \"HeartDisease\": 0, \"HD\": \"False\", \"Prediction\": \"True\"}, {\"Age\": 40, \"Sex\": \"F\", \"ChestPainType\": \"ASY\", \"RestingBP\": 150, \"Cholesterol\": 392, \"FastingBS\": 0, \"RestingECG\": \"Normal\", \"MaxHR\": 130, \"ExerciseAngina\": \"N\", \"Oldpeak\": 2.0, \"ST_Slope\": \"Flat\", \"HeartDisease\": 1, \"HD\": \"True\", \"Prediction\": \"True\"}, {\"Age\": 40, \"Sex\": \"M\", \"ChestPainType\": \"ASY\", \"RestingBP\": 120, \"Cholesterol\": 466, \"FastingBS\": 1, \"RestingECG\": \"Normal\", \"MaxHR\": 152, \"ExerciseAngina\": \"Y\", \"Oldpeak\": 1.0, \"ST_Slope\": \"Flat\", \"HeartDisease\": 1, \"HD\": \"True\", \"Prediction\": \"True\"}, {\"Age\": 46, \"Sex\": \"M\", \"ChestPainType\": \"ASY\", \"RestingBP\": 118, \"Cholesterol\": 186, \"FastingBS\": 0, \"RestingECG\": \"Normal\", \"MaxHR\": 124, \"ExerciseAngina\": \"N\", \"Oldpeak\": 0.0, \"ST_Slope\": \"Flat\", \"HeartDisease\": 1, \"HD\": \"True\", \"Prediction\": \"False\"}, {\"Age\": 57, \"Sex\": \"M\", \"ChestPainType\": \"ATA\", \"RestingBP\": 140, \"Cholesterol\": 260, \"FastingBS\": 1, \"RestingECG\": \"Normal\", \"MaxHR\": 140, \"ExerciseAngina\": \"N\", \"Oldpeak\": 0.0, \"ST_Slope\": \"Up\", \"HeartDisease\": 0, \"HD\": \"False\", \"Prediction\": \"True\"}, {\"Age\": 48, \"Sex\": \"F\", \"ChestPainType\": \"ASY\", \"RestingBP\": 120, \"Cholesterol\": 254, \"FastingBS\": 0, \"RestingECG\": \"ST\", \"MaxHR\": 110, \"ExerciseAngina\": \"N\", \"Oldpeak\": 0.0, \"ST_Slope\": \"Up\", \"HeartDisease\": 0, \"HD\": \"False\", \"Prediction\": \"False\"}, {\"Age\": 34, \"Sex\": \"M\", \"ChestPainType\": \"ATA\", \"RestingBP\": 150, \"Cholesterol\": 214, \"FastingBS\": 0, \"RestingECG\": \"ST\", \"MaxHR\": 168, \"ExerciseAngina\": \"N\", \"Oldpeak\": 0.0, \"ST_Slope\": \"Up\", \"HeartDisease\": 0, \"HD\": \"False\", \"Prediction\": \"False\"}, {\"Age\": 50, \"Sex\": \"M\", \"ChestPainType\": \"ASY\", \"RestingBP\": 140, \"Cholesterol\": 129, \"FastingBS\": 0, \"RestingECG\": \"Normal\", \"MaxHR\": 135, \"ExerciseAngina\": \"N\", \"Oldpeak\": 0.0, \"ST_Slope\": \"Up\", \"HeartDisease\": 0, \"HD\": \"False\", \"Prediction\": \"True\"}, {\"Age\": 39, \"Sex\": \"M\", \"ChestPainType\": \"ATA\", \"RestingBP\": 190, \"Cholesterol\": 241, \"FastingBS\": 0, \"RestingECG\": \"Normal\", \"MaxHR\": 106, \"ExerciseAngina\": \"N\", \"Oldpeak\": 0.0, \"ST_Slope\": \"Up\", \"HeartDisease\": 0, \"HD\": \"False\", \"Prediction\": \"True\"}, {\"Age\": 59, \"Sex\": \"F\", \"ChestPainType\": \"ATA\", \"RestingBP\": 130, \"Cholesterol\": 188, \"FastingBS\": 0, \"RestingECG\": \"Normal\", \"MaxHR\": 124, \"ExerciseAngina\": \"N\", \"Oldpeak\": 1.0, \"ST_Slope\": \"Flat\", \"HeartDisease\": 0, \"HD\": \"False\", \"Prediction\": \"False\"}, {\"Age\": 57, \"Sex\": \"M\", \"ChestPainType\": \"ASY\", \"RestingBP\": 150, \"Cholesterol\": 255, \"FastingBS\": 0, \"RestingECG\": \"Normal\", \"MaxHR\": 92, \"ExerciseAngina\": \"Y\", \"Oldpeak\": 3.0, \"ST_Slope\": \"Flat\", \"HeartDisease\": 1, \"HD\": \"True\", \"Prediction\": \"True\"}, {\"Age\": 47, \"Sex\": \"M\", \"ChestPainType\": \"ASY\", \"RestingBP\": 140, \"Cholesterol\": 276, \"FastingBS\": 1, \"RestingECG\": \"Normal\", \"MaxHR\": 125, \"ExerciseAngina\": \"Y\", \"Oldpeak\": 0.0, \"ST_Slope\": \"Up\", \"HeartDisease\": 0, \"HD\": \"False\", \"Prediction\": \"True\"}, {\"Age\": 38, \"Sex\": \"M\", \"ChestPainType\": \"ATA\", \"RestingBP\": 140, \"Cholesterol\": 297, \"FastingBS\": 0, \"RestingECG\": \"Normal\", \"MaxHR\": 150, \"ExerciseAngina\": \"N\", \"Oldpeak\": 0.0, \"ST_Slope\": \"Up\", \"HeartDisease\": 0, \"HD\": \"False\", \"Prediction\": \"False\"}, {\"Age\": 49, \"Sex\": \"F\", \"ChestPainType\": \"NAP\", \"RestingBP\": 130, \"Cholesterol\": 207, \"FastingBS\": 0, \"RestingECG\": \"ST\", \"MaxHR\": 135, \"ExerciseAngina\": \"N\", \"Oldpeak\": 0.0, \"ST_Slope\": \"Up\", \"HeartDisease\": 0, \"HD\": \"False\", \"Prediction\": \"False\"}, {\"Age\": 33, \"Sex\": \"F\", \"ChestPainType\": \"ASY\", \"RestingBP\": 100, \"Cholesterol\": 246, \"FastingBS\": 0, \"RestingECG\": \"Normal\", \"MaxHR\": 150, \"ExerciseAngina\": \"Y\", \"Oldpeak\": 1.0, \"ST_Slope\": \"Flat\", \"HeartDisease\": 1, \"HD\": \"True\", \"Prediction\": \"False\"}, {\"Age\": 38, \"Sex\": \"M\", \"ChestPainType\": \"ASY\", \"RestingBP\": 120, \"Cholesterol\": 282, \"FastingBS\": 0, \"RestingECG\": \"Normal\", \"MaxHR\": 170, \"ExerciseAngina\": \"N\", \"Oldpeak\": 0.0, \"ST_Slope\": \"Flat\", \"HeartDisease\": 1, \"HD\": \"True\", \"Prediction\": \"False\"}, {\"Age\": 59, \"Sex\": \"F\", \"ChestPainType\": \"ASY\", \"RestingBP\": 130, \"Cholesterol\": 338, \"FastingBS\": 1, \"RestingECG\": \"ST\", \"MaxHR\": 130, \"ExerciseAngina\": \"Y\", \"Oldpeak\": 1.5, \"ST_Slope\": \"Flat\", \"HeartDisease\": 1, \"HD\": \"True\", \"Prediction\": \"True\"}, {\"Age\": 35, \"Sex\": \"F\", \"ChestPainType\": \"TA\", \"RestingBP\": 120, \"Cholesterol\": 160, \"FastingBS\": 0, \"RestingECG\": \"ST\", \"MaxHR\": 185, \"ExerciseAngina\": \"N\", \"Oldpeak\": 0.0, \"ST_Slope\": \"Up\", \"HeartDisease\": 0, \"HD\": \"False\", \"Prediction\": \"False\"}, {\"Age\": 34, \"Sex\": \"M\", \"ChestPainType\": \"TA\", \"RestingBP\": 140, \"Cholesterol\": 156, \"FastingBS\": 0, \"RestingECG\": \"Normal\", \"MaxHR\": 180, \"ExerciseAngina\": \"N\", \"Oldpeak\": 0.0, \"ST_Slope\": \"Flat\", \"HeartDisease\": 1, \"HD\": \"True\", \"Prediction\": \"False\"}, {\"Age\": 47, \"Sex\": \"F\", \"ChestPainType\": \"NAP\", \"RestingBP\": 135, \"Cholesterol\": 248, \"FastingBS\": 1, \"RestingECG\": \"Normal\", \"MaxHR\": 170, \"ExerciseAngina\": \"N\", \"Oldpeak\": 0.0, \"ST_Slope\": \"Flat\", \"HeartDisease\": 1, \"HD\": \"True\", \"Prediction\": \"False\"}, {\"Age\": 52, \"Sex\": \"F\", \"ChestPainType\": \"NAP\", \"RestingBP\": 125, \"Cholesterol\": 272, \"FastingBS\": 0, \"RestingECG\": \"Normal\", \"MaxHR\": 139, \"ExerciseAngina\": \"N\", \"Oldpeak\": 0.0, \"ST_Slope\": \"Up\", \"HeartDisease\": 0, \"HD\": \"False\", \"Prediction\": \"False\"}, {\"Age\": 46, \"Sex\": \"M\", \"ChestPainType\": \"ASY\", \"RestingBP\": 110, \"Cholesterol\": 240, \"FastingBS\": 0, \"RestingECG\": \"ST\", \"MaxHR\": 140, \"ExerciseAngina\": \"N\", \"Oldpeak\": 0.0, \"ST_Slope\": \"Up\", \"HeartDisease\": 0, \"HD\": \"False\", \"Prediction\": \"False\"}, {\"Age\": 58, \"Sex\": \"F\", \"ChestPainType\": \"ATA\", \"RestingBP\": 180, \"Cholesterol\": 393, \"FastingBS\": 0, \"RestingECG\": \"Normal\", \"MaxHR\": 110, \"ExerciseAngina\": \"Y\", \"Oldpeak\": 1.0, \"ST_Slope\": \"Flat\", \"HeartDisease\": 1, \"HD\": \"True\", \"Prediction\": \"True\"}, {\"Age\": 58, \"Sex\": \"M\", \"ChestPainType\": \"ATA\", \"RestingBP\": 130, \"Cholesterol\": 230, \"FastingBS\": 0, \"RestingECG\": \"Normal\", \"MaxHR\": 150, \"ExerciseAngina\": \"N\", \"Oldpeak\": 0.0, \"ST_Slope\": \"Up\", \"HeartDisease\": 0, \"HD\": \"False\", \"Prediction\": \"False\"}, {\"Age\": 54, \"Sex\": \"M\", \"ChestPainType\": \"ATA\", \"RestingBP\": 120, \"Cholesterol\": 246, \"FastingBS\": 0, \"RestingECG\": \"Normal\", \"MaxHR\": 110, \"ExerciseAngina\": \"N\", \"Oldpeak\": 0.0, \"ST_Slope\": \"Up\", \"HeartDisease\": 0, \"HD\": \"False\", \"Prediction\": \"True\"}, {\"Age\": 34, \"Sex\": \"F\", \"ChestPainType\": \"ATA\", \"RestingBP\": 130, \"Cholesterol\": 161, \"FastingBS\": 0, \"RestingECG\": \"Normal\", \"MaxHR\": 190, \"ExerciseAngina\": \"N\", \"Oldpeak\": 0.0, \"ST_Slope\": \"Up\", \"HeartDisease\": 0, \"HD\": \"False\", \"Prediction\": \"False\"}, {\"Age\": 48, \"Sex\": \"F\", \"ChestPainType\": \"ASY\", \"RestingBP\": 108, \"Cholesterol\": 163, \"FastingBS\": 0, \"RestingECG\": \"Normal\", \"MaxHR\": 175, \"ExerciseAngina\": \"N\", \"Oldpeak\": 2.0, \"ST_Slope\": \"Up\", \"HeartDisease\": 0, \"HD\": \"False\", \"Prediction\": \"False\"}, {\"Age\": 54, \"Sex\": \"F\", \"ChestPainType\": \"ATA\", \"RestingBP\": 120, \"Cholesterol\": 230, \"FastingBS\": 1, \"RestingECG\": \"Normal\", \"MaxHR\": 140, \"ExerciseAngina\": \"N\", \"Oldpeak\": 0.0, \"ST_Slope\": \"Up\", \"HeartDisease\": 0, \"HD\": \"False\", \"Prediction\": \"False\"}, {\"Age\": 42, \"Sex\": \"M\", \"ChestPainType\": \"NAP\", \"RestingBP\": 120, \"Cholesterol\": 228, \"FastingBS\": 0, \"RestingECG\": \"Normal\", \"MaxHR\": 152, \"ExerciseAngina\": \"Y\", \"Oldpeak\": 1.5, \"ST_Slope\": \"Flat\", \"HeartDisease\": 0, \"HD\": \"False\", \"Prediction\": \"False\"}, {\"Age\": 38, \"Sex\": \"M\", \"ChestPainType\": \"NAP\", \"RestingBP\": 145, \"Cholesterol\": 292, \"FastingBS\": 0, \"RestingECG\": \"Normal\", \"MaxHR\": 130, \"ExerciseAngina\": \"N\", \"Oldpeak\": 0.0, \"ST_Slope\": \"Up\", \"HeartDisease\": 0, \"HD\": \"False\", \"Prediction\": \"False\"}, {\"Age\": 46, \"Sex\": \"M\", \"ChestPainType\": \"ASY\", \"RestingBP\": 110, \"Cholesterol\": 202, \"FastingBS\": 0, \"RestingECG\": \"Normal\", \"MaxHR\": 150, \"ExerciseAngina\": \"Y\", \"Oldpeak\": 0.0, \"ST_Slope\": \"Flat\", \"HeartDisease\": 1, \"HD\": \"True\", \"Prediction\": \"False\"}, {\"Age\": 56, \"Sex\": \"M\", \"ChestPainType\": \"ASY\", \"RestingBP\": 170, \"Cholesterol\": 388, \"FastingBS\": 0, \"RestingECG\": \"ST\", \"MaxHR\": 122, \"ExerciseAngina\": \"Y\", \"Oldpeak\": 2.0, \"ST_Slope\": \"Flat\", \"HeartDisease\": 1, \"HD\": \"True\", \"Prediction\": \"True\"}, {\"Age\": 56, \"Sex\": \"M\", \"ChestPainType\": \"ASY\", \"RestingBP\": 150, \"Cholesterol\": 230, \"FastingBS\": 0, \"RestingECG\": \"ST\", \"MaxHR\": 124, \"ExerciseAngina\": \"Y\", \"Oldpeak\": 1.5, \"ST_Slope\": \"Flat\", \"HeartDisease\": 1, \"HD\": \"True\", \"Prediction\": \"True\"}, {\"Age\": 61, \"Sex\": \"F\", \"ChestPainType\": \"ASY\", \"RestingBP\": 130, \"Cholesterol\": 294, \"FastingBS\": 0, \"RestingECG\": \"ST\", \"MaxHR\": 120, \"ExerciseAngina\": \"Y\", \"Oldpeak\": 1.0, \"ST_Slope\": \"Flat\", \"HeartDisease\": 0, \"HD\": \"False\", \"Prediction\": \"True\"}, {\"Age\": 49, \"Sex\": \"M\", \"ChestPainType\": \"NAP\", \"RestingBP\": 115, \"Cholesterol\": 265, \"FastingBS\": 0, \"RestingECG\": \"Normal\", \"MaxHR\": 175, \"ExerciseAngina\": \"N\", \"Oldpeak\": 0.0, \"ST_Slope\": \"Flat\", \"HeartDisease\": 1, \"HD\": \"True\", \"Prediction\": \"False\"}, {\"Age\": 43, \"Sex\": \"F\", \"ChestPainType\": \"ATA\", \"RestingBP\": 120, \"Cholesterol\": 215, \"FastingBS\": 0, \"RestingECG\": \"ST\", \"MaxHR\": 175, \"ExerciseAngina\": \"N\", \"Oldpeak\": 0.0, \"ST_Slope\": \"Up\", \"HeartDisease\": 0, \"HD\": \"False\", \"Prediction\": \"False\"}, {\"Age\": 39, \"Sex\": \"M\", \"ChestPainType\": \"ATA\", \"RestingBP\": 120, \"Cholesterol\": 241, \"FastingBS\": 0, \"RestingECG\": \"ST\", \"MaxHR\": 146, \"ExerciseAngina\": \"N\", \"Oldpeak\": 2.0, \"ST_Slope\": \"Up\", \"HeartDisease\": 0, \"HD\": \"False\", \"Prediction\": \"False\"}, {\"Age\": 54, \"Sex\": \"M\", \"ChestPainType\": \"ASY\", \"RestingBP\": 140, \"Cholesterol\": 166, \"FastingBS\": 0, \"RestingECG\": \"Normal\", \"MaxHR\": 118, \"ExerciseAngina\": \"Y\", \"Oldpeak\": 0.0, \"ST_Slope\": \"Flat\", \"HeartDisease\": 1, \"HD\": \"True\", \"Prediction\": \"True\"}, {\"Age\": 43, \"Sex\": \"M\", \"ChestPainType\": \"ASY\", \"RestingBP\": 150, \"Cholesterol\": 247, \"FastingBS\": 0, \"RestingECG\": \"Normal\", \"MaxHR\": 130, \"ExerciseAngina\": \"Y\", \"Oldpeak\": 2.0, \"ST_Slope\": \"Flat\", \"HeartDisease\": 1, \"HD\": \"True\", \"Prediction\": \"False\"}, {\"Age\": 52, \"Sex\": \"M\", \"ChestPainType\": \"ASY\", \"RestingBP\": 160, \"Cholesterol\": 331, \"FastingBS\": 0, \"RestingECG\": \"Normal\", \"MaxHR\": 94, \"ExerciseAngina\": \"Y\", \"Oldpeak\": 2.5, \"ST_Slope\": \"Flat\", \"HeartDisease\": 1, \"HD\": \"True\", \"Prediction\": \"True\"}, {\"Age\": 50, \"Sex\": \"M\", \"ChestPainType\": \"ASY\", \"RestingBP\": 140, \"Cholesterol\": 341, \"FastingBS\": 0, \"RestingECG\": \"ST\", \"MaxHR\": 125, \"ExerciseAngina\": \"Y\", \"Oldpeak\": 2.5, \"ST_Slope\": \"Flat\", \"HeartDisease\": 1, \"HD\": \"True\", \"Prediction\": \"True\"}, {\"Age\": 47, \"Sex\": \"M\", \"ChestPainType\": \"ASY\", \"RestingBP\": 160, \"Cholesterol\": 291, \"FastingBS\": 0, \"RestingECG\": \"ST\", \"MaxHR\": 158, \"ExerciseAngina\": \"Y\", \"Oldpeak\": 3.0, \"ST_Slope\": \"Flat\", \"HeartDisease\": 1, \"HD\": \"True\", \"Prediction\": \"False\"}, {\"Age\": 53, \"Sex\": \"M\", \"ChestPainType\": \"ASY\", \"RestingBP\": 140, \"Cholesterol\": 243, \"FastingBS\": 0, \"RestingECG\": \"Normal\", \"MaxHR\": 155, \"ExerciseAngina\": \"N\", \"Oldpeak\": 0.0, \"ST_Slope\": \"Up\", \"HeartDisease\": 0, \"HD\": \"False\", \"Prediction\": \"False\"}, {\"Age\": 56, \"Sex\": \"F\", \"ChestPainType\": \"ATA\", \"RestingBP\": 120, \"Cholesterol\": 279, \"FastingBS\": 0, \"RestingECG\": \"Normal\", \"MaxHR\": 150, \"ExerciseAngina\": \"N\", \"Oldpeak\": 1.0, \"ST_Slope\": \"Flat\", \"HeartDisease\": 1, \"HD\": \"True\", \"Prediction\": \"False\"}, {\"Age\": 39, \"Sex\": \"M\", \"ChestPainType\": \"ASY\", \"RestingBP\": 110, \"Cholesterol\": 273, \"FastingBS\": 0, \"RestingECG\": \"Normal\", \"MaxHR\": 132, \"ExerciseAngina\": \"N\", \"Oldpeak\": 0.0, \"ST_Slope\": \"Up\", \"HeartDisease\": 0, \"HD\": \"False\", \"Prediction\": \"False\"}, {\"Age\": 42, \"Sex\": \"M\", \"ChestPainType\": \"ATA\", \"RestingBP\": 120, \"Cholesterol\": 198, \"FastingBS\": 0, \"RestingECG\": \"Normal\", \"MaxHR\": 155, \"ExerciseAngina\": \"N\", \"Oldpeak\": 0.0, \"ST_Slope\": \"Up\", \"HeartDisease\": 0, \"HD\": \"False\", \"Prediction\": \"False\"}, {\"Age\": 43, \"Sex\": \"F\", \"ChestPainType\": \"ATA\", \"RestingBP\": 120, \"Cholesterol\": 249, \"FastingBS\": 0, \"RestingECG\": \"ST\", \"MaxHR\": 176, \"ExerciseAngina\": \"N\", \"Oldpeak\": 0.0, \"ST_Slope\": \"Up\", \"HeartDisease\": 0, \"HD\": \"False\", \"Prediction\": \"False\"}, {\"Age\": 50, \"Sex\": \"M\", \"ChestPainType\": \"ATA\", \"RestingBP\": 120, \"Cholesterol\": 168, \"FastingBS\": 0, \"RestingECG\": \"Normal\", \"MaxHR\": 160, \"ExerciseAngina\": \"N\", \"Oldpeak\": 0.0, \"ST_Slope\": \"Up\", \"HeartDisease\": 0, \"HD\": \"False\", \"Prediction\": \"False\"}, {\"Age\": 54, \"Sex\": \"M\", \"ChestPainType\": \"ASY\", \"RestingBP\": 130, \"Cholesterol\": 603, \"FastingBS\": 1, \"RestingECG\": \"Normal\", \"MaxHR\": 125, \"ExerciseAngina\": \"Y\", \"Oldpeak\": 1.0, \"ST_Slope\": \"Flat\", \"HeartDisease\": 1, \"HD\": \"True\", \"Prediction\": \"True\"}, {\"Age\": 39, \"Sex\": \"M\", \"ChestPainType\": \"ATA\", \"RestingBP\": 130, \"Cholesterol\": 215, \"FastingBS\": 0, \"RestingECG\": \"Normal\", \"MaxHR\": 120, \"ExerciseAngina\": \"N\", \"Oldpeak\": 0.0, \"ST_Slope\": \"Up\", \"HeartDisease\": 0, \"HD\": \"False\", \"Prediction\": \"False\"}, {\"Age\": 48, \"Sex\": \"M\", \"ChestPainType\": \"ATA\", \"RestingBP\": 100, \"Cholesterol\": 159, \"FastingBS\": 0, \"RestingECG\": \"Normal\", \"MaxHR\": 100, \"ExerciseAngina\": \"N\", \"Oldpeak\": 0.0, \"ST_Slope\": \"Up\", \"HeartDisease\": 0, \"HD\": \"False\", \"Prediction\": \"True\"}, {\"Age\": 40, \"Sex\": \"M\", \"ChestPainType\": \"ATA\", \"RestingBP\": 130, \"Cholesterol\": 275, \"FastingBS\": 0, \"RestingECG\": \"Normal\", \"MaxHR\": 150, \"ExerciseAngina\": \"N\", \"Oldpeak\": 0.0, \"ST_Slope\": \"Up\", \"HeartDisease\": 0, \"HD\": \"False\", \"Prediction\": \"False\"}, {\"Age\": 55, \"Sex\": \"M\", \"ChestPainType\": \"ASY\", \"RestingBP\": 120, \"Cholesterol\": 270, \"FastingBS\": 0, \"RestingECG\": \"Normal\", \"MaxHR\": 140, \"ExerciseAngina\": \"N\", \"Oldpeak\": 0.0, \"ST_Slope\": \"Up\", \"HeartDisease\": 0, \"HD\": \"False\", \"Prediction\": \"False\"}, {\"Age\": 41, \"Sex\": \"M\", \"ChestPainType\": \"ATA\", \"RestingBP\": 120, \"Cholesterol\": 291, \"FastingBS\": 0, \"RestingECG\": \"ST\", \"MaxHR\": 160, \"ExerciseAngina\": \"N\", \"Oldpeak\": 0.0, \"ST_Slope\": \"Up\", \"HeartDisease\": 0, \"HD\": \"False\", \"Prediction\": \"False\"}, {\"Age\": 56, \"Sex\": \"M\", \"ChestPainType\": \"ASY\", \"RestingBP\": 155, \"Cholesterol\": 342, \"FastingBS\": 1, \"RestingECG\": \"Normal\", \"MaxHR\": 150, \"ExerciseAngina\": \"Y\", \"Oldpeak\": 3.0, \"ST_Slope\": \"Flat\", \"HeartDisease\": 1, \"HD\": \"True\", \"Prediction\": \"False\"}, {\"Age\": 38, \"Sex\": \"M\", \"ChestPainType\": \"ASY\", \"RestingBP\": 110, \"Cholesterol\": 190, \"FastingBS\": 0, \"RestingECG\": \"Normal\", \"MaxHR\": 150, \"ExerciseAngina\": \"Y\", \"Oldpeak\": 1.0, \"ST_Slope\": \"Flat\", \"HeartDisease\": 1, \"HD\": \"True\", \"Prediction\": \"False\"}, {\"Age\": 49, \"Sex\": \"M\", \"ChestPainType\": \"ASY\", \"RestingBP\": 140, \"Cholesterol\": 185, \"FastingBS\": 0, \"RestingECG\": \"Normal\", \"MaxHR\": 130, \"ExerciseAngina\": \"N\", \"Oldpeak\": 0.0, \"ST_Slope\": \"Up\", \"HeartDisease\": 0, \"HD\": \"False\", \"Prediction\": \"False\"}, {\"Age\": 44, \"Sex\": \"M\", \"ChestPainType\": \"ASY\", \"RestingBP\": 130, \"Cholesterol\": 290, \"FastingBS\": 0, \"RestingECG\": \"Normal\", \"MaxHR\": 100, \"ExerciseAngina\": \"Y\", \"Oldpeak\": 2.0, \"ST_Slope\": \"Flat\", \"HeartDisease\": 1, \"HD\": \"True\", \"Prediction\": \"True\"}, {\"Age\": 54, \"Sex\": \"M\", \"ChestPainType\": \"ATA\", \"RestingBP\": 160, \"Cholesterol\": 195, \"FastingBS\": 0, \"RestingECG\": \"ST\", \"MaxHR\": 130, \"ExerciseAngina\": \"N\", \"Oldpeak\": 1.0, \"ST_Slope\": \"Up\", \"HeartDisease\": 0, \"HD\": \"False\", \"Prediction\": \"False\"}, {\"Age\": 59, \"Sex\": \"M\", \"ChestPainType\": \"ASY\", \"RestingBP\": 140, \"Cholesterol\": 264, \"FastingBS\": 1, \"RestingECG\": \"LVH\", \"MaxHR\": 119, \"ExerciseAngina\": \"Y\", \"Oldpeak\": 0.0, \"ST_Slope\": \"Flat\", \"HeartDisease\": 1, \"HD\": \"True\", \"Prediction\": \"True\"}, {\"Age\": 49, \"Sex\": \"M\", \"ChestPainType\": \"ASY\", \"RestingBP\": 128, \"Cholesterol\": 212, \"FastingBS\": 0, \"RestingECG\": \"Normal\", \"MaxHR\": 96, \"ExerciseAngina\": \"Y\", \"Oldpeak\": 0.0, \"ST_Slope\": \"Flat\", \"HeartDisease\": 1, \"HD\": \"True\", \"Prediction\": \"True\"}, {\"Age\": 47, \"Sex\": \"M\", \"ChestPainType\": \"ATA\", \"RestingBP\": 160, \"Cholesterol\": 263, \"FastingBS\": 0, \"RestingECG\": \"Normal\", \"MaxHR\": 174, \"ExerciseAngina\": \"N\", \"Oldpeak\": 0.0, \"ST_Slope\": \"Up\", \"HeartDisease\": 0, \"HD\": \"False\", \"Prediction\": \"False\"}, {\"Age\": 42, \"Sex\": \"M\", \"ChestPainType\": \"ATA\", \"RestingBP\": 120, \"Cholesterol\": 196, \"FastingBS\": 0, \"RestingECG\": \"Normal\", \"MaxHR\": 150, \"ExerciseAngina\": \"N\", \"Oldpeak\": 0.0, \"ST_Slope\": \"Up\", \"HeartDisease\": 0, \"HD\": \"False\", \"Prediction\": \"False\"}, {\"Age\": 52, \"Sex\": \"F\", \"ChestPainType\": \"ATA\", \"RestingBP\": 140, \"Cholesterol\": 225, \"FastingBS\": 0, \"RestingECG\": \"Normal\", \"MaxHR\": 140, \"ExerciseAngina\": \"N\", \"Oldpeak\": 0.0, \"ST_Slope\": \"Up\", \"HeartDisease\": 0, \"HD\": \"False\", \"Prediction\": \"False\"}, {\"Age\": 46, \"Sex\": \"M\", \"ChestPainType\": \"TA\", \"RestingBP\": 140, \"Cholesterol\": 272, \"FastingBS\": 1, \"RestingECG\": \"Normal\", \"MaxHR\": 175, \"ExerciseAngina\": \"N\", \"Oldpeak\": 2.0, \"ST_Slope\": \"Flat\", \"HeartDisease\": 1, \"HD\": \"True\", \"Prediction\": \"False\"}, {\"Age\": 50, \"Sex\": \"M\", \"ChestPainType\": \"ASY\", \"RestingBP\": 140, \"Cholesterol\": 231, \"FastingBS\": 0, \"RestingECG\": \"ST\", \"MaxHR\": 140, \"ExerciseAngina\": \"Y\", \"Oldpeak\": 5.0, \"ST_Slope\": \"Flat\", \"HeartDisease\": 1, \"HD\": \"True\", \"Prediction\": \"False\"}, {\"Age\": 48, \"Sex\": \"M\", \"ChestPainType\": \"ATA\", \"RestingBP\": 140, \"Cholesterol\": 238, \"FastingBS\": 0, \"RestingECG\": \"Normal\", \"MaxHR\": 118, \"ExerciseAngina\": \"N\", \"Oldpeak\": 0.0, \"ST_Slope\": \"Up\", \"HeartDisease\": 0, \"HD\": \"False\", \"Prediction\": \"True\"}, {\"Age\": 58, \"Sex\": \"M\", \"ChestPainType\": \"ASY\", \"RestingBP\": 135, \"Cholesterol\": 222, \"FastingBS\": 0, \"RestingECG\": \"Normal\", \"MaxHR\": 100, \"ExerciseAngina\": \"N\", \"Oldpeak\": 0.0, \"ST_Slope\": \"Up\", \"HeartDisease\": 0, \"HD\": \"False\", \"Prediction\": \"True\"}, {\"Age\": 58, \"Sex\": \"M\", \"ChestPainType\": \"NAP\", \"RestingBP\": 140, \"Cholesterol\": 179, \"FastingBS\": 0, \"RestingECG\": \"Normal\", \"MaxHR\": 160, \"ExerciseAngina\": \"N\", \"Oldpeak\": 0.0, \"ST_Slope\": \"Up\", \"HeartDisease\": 0, \"HD\": \"False\", \"Prediction\": \"False\"}, {\"Age\": 29, \"Sex\": \"M\", \"ChestPainType\": \"ATA\", \"RestingBP\": 120, \"Cholesterol\": 243, \"FastingBS\": 0, \"RestingECG\": \"Normal\", \"MaxHR\": 160, \"ExerciseAngina\": \"N\", \"Oldpeak\": 0.0, \"ST_Slope\": \"Up\", \"HeartDisease\": 0, \"HD\": \"False\", \"Prediction\": \"False\"}, {\"Age\": 40, \"Sex\": \"M\", \"ChestPainType\": \"NAP\", \"RestingBP\": 140, \"Cholesterol\": 235, \"FastingBS\": 0, \"RestingECG\": \"Normal\", \"MaxHR\": 188, \"ExerciseAngina\": \"N\", \"Oldpeak\": 0.0, \"ST_Slope\": \"Up\", \"HeartDisease\": 0, \"HD\": \"False\", \"Prediction\": \"False\"}, {\"Age\": 53, \"Sex\": \"M\", \"ChestPainType\": \"ATA\", \"RestingBP\": 140, \"Cholesterol\": 320, \"FastingBS\": 0, \"RestingECG\": \"Normal\", \"MaxHR\": 162, \"ExerciseAngina\": \"N\", \"Oldpeak\": 0.0, \"ST_Slope\": \"Up\", \"HeartDisease\": 0, \"HD\": \"False\", \"Prediction\": \"False\"}, {\"Age\": 49, \"Sex\": \"M\", \"ChestPainType\": \"NAP\", \"RestingBP\": 140, \"Cholesterol\": 187, \"FastingBS\": 0, \"RestingECG\": \"Normal\", \"MaxHR\": 172, \"ExerciseAngina\": \"N\", \"Oldpeak\": 0.0, \"ST_Slope\": \"Up\", \"HeartDisease\": 0, \"HD\": \"False\", \"Prediction\": \"False\"}, {\"Age\": 52, \"Sex\": \"M\", \"ChestPainType\": \"ASY\", \"RestingBP\": 140, \"Cholesterol\": 266, \"FastingBS\": 0, \"RestingECG\": \"Normal\", \"MaxHR\": 134, \"ExerciseAngina\": \"Y\", \"Oldpeak\": 2.0, \"ST_Slope\": \"Flat\", \"HeartDisease\": 1, \"HD\": \"True\", \"Prediction\": \"False\"}, {\"Age\": 43, \"Sex\": \"M\", \"ChestPainType\": \"ASY\", \"RestingBP\": 140, \"Cholesterol\": 288, \"FastingBS\": 0, \"RestingECG\": \"Normal\", \"MaxHR\": 135, \"ExerciseAngina\": \"Y\", \"Oldpeak\": 2.0, \"ST_Slope\": \"Flat\", \"HeartDisease\": 1, \"HD\": \"True\", \"Prediction\": \"False\"}, {\"Age\": 54, \"Sex\": \"M\", \"ChestPainType\": \"ASY\", \"RestingBP\": 140, \"Cholesterol\": 216, \"FastingBS\": 0, \"RestingECG\": \"Normal\", \"MaxHR\": 105, \"ExerciseAngina\": \"N\", \"Oldpeak\": 1.5, \"ST_Slope\": \"Flat\", \"HeartDisease\": 1, \"HD\": \"True\", \"Prediction\": \"False\"}, {\"Age\": 59, \"Sex\": \"M\", \"ChestPainType\": \"ATA\", \"RestingBP\": 140, \"Cholesterol\": 287, \"FastingBS\": 0, \"RestingECG\": \"Normal\", \"MaxHR\": 150, \"ExerciseAngina\": \"N\", \"Oldpeak\": 0.0, \"ST_Slope\": \"Up\", \"HeartDisease\": 0, \"HD\": \"False\", \"Prediction\": \"False\"}, {\"Age\": 37, \"Sex\": \"M\", \"ChestPainType\": \"NAP\", \"RestingBP\": 130, \"Cholesterol\": 194, \"FastingBS\": 0, \"RestingECG\": \"Normal\", \"MaxHR\": 150, \"ExerciseAngina\": \"N\", \"Oldpeak\": 0.0, \"ST_Slope\": \"Up\", \"HeartDisease\": 0, \"HD\": \"False\", \"Prediction\": \"False\"}, {\"Age\": 46, \"Sex\": \"F\", \"ChestPainType\": \"ASY\", \"RestingBP\": 130, \"Cholesterol\": 238, \"FastingBS\": 0, \"RestingECG\": \"Normal\", \"MaxHR\": 90, \"ExerciseAngina\": \"N\", \"Oldpeak\": 0.0, \"ST_Slope\": \"Up\", \"HeartDisease\": 0, \"HD\": \"False\", \"Prediction\": \"False\"}, {\"Age\": 52, \"Sex\": \"M\", \"ChestPainType\": \"ASY\", \"RestingBP\": 130, \"Cholesterol\": 225, \"FastingBS\": 0, \"RestingECG\": \"Normal\", \"MaxHR\": 120, \"ExerciseAngina\": \"Y\", \"Oldpeak\": 2.0, \"ST_Slope\": \"Flat\", \"HeartDisease\": 1, \"HD\": \"True\", \"Prediction\": \"True\"}, {\"Age\": 51, \"Sex\": \"M\", \"ChestPainType\": \"ATA\", \"RestingBP\": 130, \"Cholesterol\": 224, \"FastingBS\": 0, \"RestingECG\": \"Normal\", \"MaxHR\": 150, \"ExerciseAngina\": \"N\", \"Oldpeak\": 0.0, \"ST_Slope\": \"Up\", \"HeartDisease\": 0, \"HD\": \"False\", \"Prediction\": \"False\"}, {\"Age\": 52, \"Sex\": \"M\", \"ChestPainType\": \"ASY\", \"RestingBP\": 140, \"Cholesterol\": 404, \"FastingBS\": 0, \"RestingECG\": \"Normal\", \"MaxHR\": 124, \"ExerciseAngina\": \"Y\", \"Oldpeak\": 2.0, \"ST_Slope\": \"Flat\", \"HeartDisease\": 1, \"HD\": \"True\", \"Prediction\": \"True\"}, {\"Age\": 46, \"Sex\": \"M\", \"ChestPainType\": \"ASY\", \"RestingBP\": 110, \"Cholesterol\": 238, \"FastingBS\": 0, \"RestingECG\": \"ST\", \"MaxHR\": 140, \"ExerciseAngina\": \"Y\", \"Oldpeak\": 1.0, \"ST_Slope\": \"Flat\", \"HeartDisease\": 0, \"HD\": \"False\", \"Prediction\": \"False\"}, {\"Age\": 54, \"Sex\": \"F\", \"ChestPainType\": \"ATA\", \"RestingBP\": 160, \"Cholesterol\": 312, \"FastingBS\": 0, \"RestingECG\": \"Normal\", \"MaxHR\": 130, \"ExerciseAngina\": \"N\", \"Oldpeak\": 0.0, \"ST_Slope\": \"Up\", \"HeartDisease\": 0, \"HD\": \"False\", \"Prediction\": \"True\"}, {\"Age\": 58, \"Sex\": \"M\", \"ChestPainType\": \"NAP\", \"RestingBP\": 160, \"Cholesterol\": 211, \"FastingBS\": 1, \"RestingECG\": \"ST\", \"MaxHR\": 92, \"ExerciseAngina\": \"N\", \"Oldpeak\": 0.0, \"ST_Slope\": \"Flat\", \"HeartDisease\": 1, \"HD\": \"True\", \"Prediction\": \"True\"}, {\"Age\": 58, \"Sex\": \"M\", \"ChestPainType\": \"ATA\", \"RestingBP\": 130, \"Cholesterol\": 251, \"FastingBS\": 0, \"RestingECG\": \"Normal\", \"MaxHR\": 110, \"ExerciseAngina\": \"N\", \"Oldpeak\": 0.0, \"ST_Slope\": \"Up\", \"HeartDisease\": 0, \"HD\": \"False\", \"Prediction\": \"True\"}, {\"Age\": 41, \"Sex\": \"M\", \"ChestPainType\": \"ASY\", \"RestingBP\": 120, \"Cholesterol\": 237, \"FastingBS\": 1, \"RestingECG\": \"Normal\", \"MaxHR\": 138, \"ExerciseAngina\": \"Y\", \"Oldpeak\": 1.0, \"ST_Slope\": \"Flat\", \"HeartDisease\": 1, \"HD\": \"True\", \"Prediction\": \"False\"}, {\"Age\": 50, \"Sex\": \"F\", \"ChestPainType\": \"ASY\", \"RestingBP\": 120, \"Cholesterol\": 328, \"FastingBS\": 0, \"RestingECG\": \"Normal\", \"MaxHR\": 110, \"ExerciseAngina\": \"Y\", \"Oldpeak\": 1.0, \"ST_Slope\": \"Flat\", \"HeartDisease\": 0, \"HD\": \"False\", \"Prediction\": \"True\"}, {\"Age\": 53, \"Sex\": \"M\", \"ChestPainType\": \"ASY\", \"RestingBP\": 180, \"Cholesterol\": 285, \"FastingBS\": 0, \"RestingECG\": \"ST\", \"MaxHR\": 120, \"ExerciseAngina\": \"Y\", \"Oldpeak\": 1.5, \"ST_Slope\": \"Flat\", \"HeartDisease\": 1, \"HD\": \"True\", \"Prediction\": \"True\"}, {\"Age\": 46, \"Sex\": \"M\", \"ChestPainType\": \"ASY\", \"RestingBP\": 180, \"Cholesterol\": 280, \"FastingBS\": 0, \"RestingECG\": \"ST\", \"MaxHR\": 120, \"ExerciseAngina\": \"N\", \"Oldpeak\": 0.0, \"ST_Slope\": \"Up\", \"HeartDisease\": 0, \"HD\": \"False\", \"Prediction\": \"True\"}, {\"Age\": 50, \"Sex\": \"M\", \"ChestPainType\": \"ATA\", \"RestingBP\": 170, \"Cholesterol\": 209, \"FastingBS\": 0, \"RestingECG\": \"ST\", \"MaxHR\": 116, \"ExerciseAngina\": \"N\", \"Oldpeak\": 0.0, \"ST_Slope\": \"Up\", \"HeartDisease\": 0, \"HD\": \"False\", \"Prediction\": \"True\"}, {\"Age\": 48, \"Sex\": \"M\", \"ChestPainType\": \"ATA\", \"RestingBP\": 130, \"Cholesterol\": 245, \"FastingBS\": 0, \"RestingECG\": \"Normal\", \"MaxHR\": 160, \"ExerciseAngina\": \"N\", \"Oldpeak\": 0.0, \"ST_Slope\": \"Up\", \"HeartDisease\": 0, \"HD\": \"False\", \"Prediction\": \"False\"}, {\"Age\": 45, \"Sex\": \"M\", \"ChestPainType\": \"NAP\", \"RestingBP\": 135, \"Cholesterol\": 192, \"FastingBS\": 0, \"RestingECG\": \"Normal\", \"MaxHR\": 110, \"ExerciseAngina\": \"N\", \"Oldpeak\": 0.0, \"ST_Slope\": \"Up\", \"HeartDisease\": 0, \"HD\": \"False\", \"Prediction\": \"False\"}, {\"Age\": 41, \"Sex\": \"F\", \"ChestPainType\": \"ATA\", \"RestingBP\": 125, \"Cholesterol\": 184, \"FastingBS\": 0, \"RestingECG\": \"Normal\", \"MaxHR\": 180, \"ExerciseAngina\": \"N\", \"Oldpeak\": 0.0, \"ST_Slope\": \"Up\", \"HeartDisease\": 0, \"HD\": \"False\", \"Prediction\": \"False\"}, {\"Age\": 62, \"Sex\": \"F\", \"ChestPainType\": \"TA\", \"RestingBP\": 160, \"Cholesterol\": 193, \"FastingBS\": 0, \"RestingECG\": \"Normal\", \"MaxHR\": 116, \"ExerciseAngina\": \"N\", \"Oldpeak\": 0.0, \"ST_Slope\": \"Up\", \"HeartDisease\": 0, \"HD\": \"False\", \"Prediction\": \"True\"}, {\"Age\": 49, \"Sex\": \"M\", \"ChestPainType\": \"ASY\", \"RestingBP\": 120, \"Cholesterol\": 297, \"FastingBS\": 0, \"RestingECG\": \"Normal\", \"MaxHR\": 132, \"ExerciseAngina\": \"N\", \"Oldpeak\": 1.0, \"ST_Slope\": \"Flat\", \"HeartDisease\": 0, \"HD\": \"False\", \"Prediction\": \"False\"}, {\"Age\": 42, \"Sex\": \"M\", \"ChestPainType\": \"ATA\", \"RestingBP\": 150, \"Cholesterol\": 268, \"FastingBS\": 0, \"RestingECG\": \"Normal\", \"MaxHR\": 136, \"ExerciseAngina\": \"N\", \"Oldpeak\": 0.0, \"ST_Slope\": \"Up\", \"HeartDisease\": 0, \"HD\": \"False\", \"Prediction\": \"False\"}, {\"Age\": 53, \"Sex\": \"M\", \"ChestPainType\": \"ASY\", \"RestingBP\": 120, \"Cholesterol\": 246, \"FastingBS\": 0, \"RestingECG\": \"Normal\", \"MaxHR\": 116, \"ExerciseAngina\": \"Y\", \"Oldpeak\": 0.0, \"ST_Slope\": \"Flat\", \"HeartDisease\": 1, \"HD\": \"True\", \"Prediction\": \"True\"}, {\"Age\": 57, \"Sex\": \"F\", \"ChestPainType\": \"TA\", \"RestingBP\": 130, \"Cholesterol\": 308, \"FastingBS\": 0, \"RestingECG\": \"Normal\", \"MaxHR\": 98, \"ExerciseAngina\": \"N\", \"Oldpeak\": 1.0, \"ST_Slope\": \"Flat\", \"HeartDisease\": 0, \"HD\": \"False\", \"Prediction\": \"True\"}, {\"Age\": 47, \"Sex\": \"M\", \"ChestPainType\": \"TA\", \"RestingBP\": 110, \"Cholesterol\": 249, \"FastingBS\": 0, \"RestingECG\": \"Normal\", \"MaxHR\": 150, \"ExerciseAngina\": \"N\", \"Oldpeak\": 0.0, \"ST_Slope\": \"Up\", \"HeartDisease\": 0, \"HD\": \"False\", \"Prediction\": \"False\"}, {\"Age\": 46, \"Sex\": \"M\", \"ChestPainType\": \"NAP\", \"RestingBP\": 120, \"Cholesterol\": 230, \"FastingBS\": 0, \"RestingECG\": \"Normal\", \"MaxHR\": 150, \"ExerciseAngina\": \"N\", \"Oldpeak\": 0.0, \"ST_Slope\": \"Up\", \"HeartDisease\": 0, \"HD\": \"False\", \"Prediction\": \"False\"}, {\"Age\": 42, \"Sex\": \"M\", \"ChestPainType\": \"NAP\", \"RestingBP\": 160, \"Cholesterol\": 147, \"FastingBS\": 0, \"RestingECG\": \"Normal\", \"MaxHR\": 146, \"ExerciseAngina\": \"N\", \"Oldpeak\": 0.0, \"ST_Slope\": \"Up\", \"HeartDisease\": 0, \"HD\": \"False\", \"Prediction\": \"False\"}, {\"Age\": 31, \"Sex\": \"F\", \"ChestPainType\": \"ATA\", \"RestingBP\": 100, \"Cholesterol\": 219, \"FastingBS\": 0, \"RestingECG\": \"ST\", \"MaxHR\": 150, \"ExerciseAngina\": \"N\", \"Oldpeak\": 0.0, \"ST_Slope\": \"Up\", \"HeartDisease\": 0, \"HD\": \"False\", \"Prediction\": \"False\"}, {\"Age\": 56, \"Sex\": \"M\", \"ChestPainType\": \"ATA\", \"RestingBP\": 130, \"Cholesterol\": 184, \"FastingBS\": 0, \"RestingECG\": \"Normal\", \"MaxHR\": 100, \"ExerciseAngina\": \"N\", \"Oldpeak\": 0.0, \"ST_Slope\": \"Up\", \"HeartDisease\": 0, \"HD\": \"False\", \"Prediction\": \"False\"}, {\"Age\": 50, \"Sex\": \"M\", \"ChestPainType\": \"ASY\", \"RestingBP\": 150, \"Cholesterol\": 215, \"FastingBS\": 0, \"RestingECG\": \"Normal\", \"MaxHR\": 140, \"ExerciseAngina\": \"Y\", \"Oldpeak\": 0.0, \"ST_Slope\": \"Up\", \"HeartDisease\": 0, \"HD\": \"False\", \"Prediction\": \"False\"}, {\"Age\": 35, \"Sex\": \"M\", \"ChestPainType\": \"ATA\", \"RestingBP\": 120, \"Cholesterol\": 308, \"FastingBS\": 0, \"RestingECG\": \"LVH\", \"MaxHR\": 180, \"ExerciseAngina\": \"N\", \"Oldpeak\": 0.0, \"ST_Slope\": \"Up\", \"HeartDisease\": 0, \"HD\": \"False\", \"Prediction\": \"False\"}, {\"Age\": 35, \"Sex\": \"M\", \"ChestPainType\": \"ATA\", \"RestingBP\": 110, \"Cholesterol\": 257, \"FastingBS\": 0, \"RestingECG\": \"Normal\", \"MaxHR\": 140, \"ExerciseAngina\": \"N\", \"Oldpeak\": 0.0, \"ST_Slope\": \"Flat\", \"HeartDisease\": 1, \"HD\": \"True\", \"Prediction\": \"False\"}, {\"Age\": 28, \"Sex\": \"M\", \"ChestPainType\": \"ATA\", \"RestingBP\": 130, \"Cholesterol\": 132, \"FastingBS\": 0, \"RestingECG\": \"LVH\", \"MaxHR\": 185, \"ExerciseAngina\": \"N\", \"Oldpeak\": 0.0, \"ST_Slope\": \"Up\", \"HeartDisease\": 0, \"HD\": \"False\", \"Prediction\": \"False\"}, {\"Age\": 54, \"Sex\": \"M\", \"ChestPainType\": \"ASY\", \"RestingBP\": 125, \"Cholesterol\": 216, \"FastingBS\": 0, \"RestingECG\": \"Normal\", \"MaxHR\": 140, \"ExerciseAngina\": \"N\", \"Oldpeak\": 0.0, \"ST_Slope\": \"Flat\", \"HeartDisease\": 1, \"HD\": \"True\", \"Prediction\": \"False\"}, {\"Age\": 48, \"Sex\": \"M\", \"ChestPainType\": \"ASY\", \"RestingBP\": 106, \"Cholesterol\": 263, \"FastingBS\": 1, \"RestingECG\": \"Normal\", \"MaxHR\": 110, \"ExerciseAngina\": \"N\", \"Oldpeak\": 0.0, \"ST_Slope\": \"Flat\", \"HeartDisease\": 1, \"HD\": \"True\", \"Prediction\": \"False\"}, {\"Age\": 50, \"Sex\": \"F\", \"ChestPainType\": \"NAP\", \"RestingBP\": 140, \"Cholesterol\": 288, \"FastingBS\": 0, \"RestingECG\": \"Normal\", \"MaxHR\": 140, \"ExerciseAngina\": \"Y\", \"Oldpeak\": 0.0, \"ST_Slope\": \"Flat\", \"HeartDisease\": 1, \"HD\": \"True\", \"Prediction\": \"False\"}, {\"Age\": 56, \"Sex\": \"M\", \"ChestPainType\": \"NAP\", \"RestingBP\": 130, \"Cholesterol\": 276, \"FastingBS\": 0, \"RestingECG\": \"Normal\", \"MaxHR\": 128, \"ExerciseAngina\": \"Y\", \"Oldpeak\": 1.0, \"ST_Slope\": \"Up\", \"HeartDisease\": 0, \"HD\": \"False\", \"Prediction\": \"False\"}, {\"Age\": 56, \"Sex\": \"F\", \"ChestPainType\": \"NAP\", \"RestingBP\": 130, \"Cholesterol\": 219, \"FastingBS\": 0, \"RestingECG\": \"ST\", \"MaxHR\": 164, \"ExerciseAngina\": \"N\", \"Oldpeak\": 0.0, \"ST_Slope\": \"Up\", \"HeartDisease\": 0, \"HD\": \"False\", \"Prediction\": \"False\"}, {\"Age\": 47, \"Sex\": \"M\", \"ChestPainType\": \"ASY\", \"RestingBP\": 150, \"Cholesterol\": 226, \"FastingBS\": 0, \"RestingECG\": \"Normal\", \"MaxHR\": 98, \"ExerciseAngina\": \"Y\", \"Oldpeak\": 1.5, \"ST_Slope\": \"Flat\", \"HeartDisease\": 1, \"HD\": \"True\", \"Prediction\": \"True\"}, {\"Age\": 30, \"Sex\": \"F\", \"ChestPainType\": \"TA\", \"RestingBP\": 170, \"Cholesterol\": 237, \"FastingBS\": 0, \"RestingECG\": \"ST\", \"MaxHR\": 170, \"ExerciseAngina\": \"N\", \"Oldpeak\": 0.0, \"ST_Slope\": \"Up\", \"HeartDisease\": 0, \"HD\": \"False\", \"Prediction\": \"False\"}, {\"Age\": 39, \"Sex\": \"M\", \"ChestPainType\": \"ASY\", \"RestingBP\": 110, \"Cholesterol\": 280, \"FastingBS\": 0, \"RestingECG\": \"Normal\", \"MaxHR\": 150, \"ExerciseAngina\": \"N\", \"Oldpeak\": 0.0, \"ST_Slope\": \"Flat\", \"HeartDisease\": 1, \"HD\": \"True\", \"Prediction\": \"False\"}, {\"Age\": 54, \"Sex\": \"M\", \"ChestPainType\": \"NAP\", \"RestingBP\": 120, \"Cholesterol\": 217, \"FastingBS\": 0, \"RestingECG\": \"Normal\", \"MaxHR\": 137, \"ExerciseAngina\": \"N\", \"Oldpeak\": 0.0, \"ST_Slope\": \"Up\", \"HeartDisease\": 0, \"HD\": \"False\", \"Prediction\": \"False\"}, {\"Age\": 55, \"Sex\": \"M\", \"ChestPainType\": \"ATA\", \"RestingBP\": 140, \"Cholesterol\": 196, \"FastingBS\": 0, \"RestingECG\": \"Normal\", \"MaxHR\": 150, \"ExerciseAngina\": \"N\", \"Oldpeak\": 0.0, \"ST_Slope\": \"Up\", \"HeartDisease\": 0, \"HD\": \"False\", \"Prediction\": \"False\"}, {\"Age\": 29, \"Sex\": \"M\", \"ChestPainType\": \"ATA\", \"RestingBP\": 140, \"Cholesterol\": 263, \"FastingBS\": 0, \"RestingECG\": \"Normal\", \"MaxHR\": 170, \"ExerciseAngina\": \"N\", \"Oldpeak\": 0.0, \"ST_Slope\": \"Up\", \"HeartDisease\": 0, \"HD\": \"False\", \"Prediction\": \"False\"}, {\"Age\": 46, \"Sex\": \"M\", \"ChestPainType\": \"ASY\", \"RestingBP\": 130, \"Cholesterol\": 222, \"FastingBS\": 0, \"RestingECG\": \"Normal\", \"MaxHR\": 112, \"ExerciseAngina\": \"N\", \"Oldpeak\": 0.0, \"ST_Slope\": \"Flat\", \"HeartDisease\": 1, \"HD\": \"True\", \"Prediction\": \"False\"}, {\"Age\": 51, \"Sex\": \"F\", \"ChestPainType\": \"ASY\", \"RestingBP\": 160, \"Cholesterol\": 303, \"FastingBS\": 0, \"RestingECG\": \"Normal\", \"MaxHR\": 150, \"ExerciseAngina\": \"Y\", \"Oldpeak\": 1.0, \"ST_Slope\": \"Flat\", \"HeartDisease\": 1, \"HD\": \"True\", \"Prediction\": \"True\"}, {\"Age\": 48, \"Sex\": \"F\", \"ChestPainType\": \"NAP\", \"RestingBP\": 120, \"Cholesterol\": 195, \"FastingBS\": 0, \"RestingECG\": \"Normal\", \"MaxHR\": 125, \"ExerciseAngina\": \"N\", \"Oldpeak\": 0.0, \"ST_Slope\": \"Up\", \"HeartDisease\": 0, \"HD\": \"False\", \"Prediction\": \"False\"}, {\"Age\": 33, \"Sex\": \"M\", \"ChestPainType\": \"NAP\", \"RestingBP\": 120, \"Cholesterol\": 298, \"FastingBS\": 0, \"RestingECG\": \"Normal\", \"MaxHR\": 185, \"ExerciseAngina\": \"N\", \"Oldpeak\": 0.0, \"ST_Slope\": \"Up\", \"HeartDisease\": 0, \"HD\": \"False\", \"Prediction\": \"False\"}, {\"Age\": 55, \"Sex\": \"M\", \"ChestPainType\": \"ATA\", \"RestingBP\": 120, \"Cholesterol\": 256, \"FastingBS\": 1, \"RestingECG\": \"Normal\", \"MaxHR\": 137, \"ExerciseAngina\": \"N\", \"Oldpeak\": 0.0, \"ST_Slope\": \"Up\", \"HeartDisease\": 0, \"HD\": \"False\", \"Prediction\": \"True\"}, {\"Age\": 50, \"Sex\": \"M\", \"ChestPainType\": \"ASY\", \"RestingBP\": 145, \"Cholesterol\": 264, \"FastingBS\": 0, \"RestingECG\": \"Normal\", \"MaxHR\": 150, \"ExerciseAngina\": \"N\", \"Oldpeak\": 0.0, \"ST_Slope\": \"Flat\", \"HeartDisease\": 1, \"HD\": \"True\", \"Prediction\": \"False\"}, {\"Age\": 53, \"Sex\": \"M\", \"ChestPainType\": \"NAP\", \"RestingBP\": 120, \"Cholesterol\": 195, \"FastingBS\": 0, \"RestingECG\": \"Normal\", \"MaxHR\": 140, \"ExerciseAngina\": \"N\", \"Oldpeak\": 0.0, \"ST_Slope\": \"Up\", \"HeartDisease\": 0, \"HD\": \"False\", \"Prediction\": \"False\"}, {\"Age\": 38, \"Sex\": \"M\", \"ChestPainType\": \"ASY\", \"RestingBP\": 92, \"Cholesterol\": 117, \"FastingBS\": 0, \"RestingECG\": \"Normal\", \"MaxHR\": 134, \"ExerciseAngina\": \"Y\", \"Oldpeak\": 2.5, \"ST_Slope\": \"Flat\", \"HeartDisease\": 1, \"HD\": \"True\", \"Prediction\": \"True\"}, {\"Age\": 41, \"Sex\": \"M\", \"ChestPainType\": \"ATA\", \"RestingBP\": 120, \"Cholesterol\": 295, \"FastingBS\": 0, \"RestingECG\": \"Normal\", \"MaxHR\": 170, \"ExerciseAngina\": \"N\", \"Oldpeak\": 0.0, \"ST_Slope\": \"Up\", \"HeartDisease\": 0, \"HD\": \"False\", \"Prediction\": \"False\"}, {\"Age\": 37, \"Sex\": \"F\", \"ChestPainType\": \"ASY\", \"RestingBP\": 130, \"Cholesterol\": 173, \"FastingBS\": 0, \"RestingECG\": \"ST\", \"MaxHR\": 184, \"ExerciseAngina\": \"N\", \"Oldpeak\": 0.0, \"ST_Slope\": \"Up\", \"HeartDisease\": 0, \"HD\": \"False\", \"Prediction\": \"False\"}, {\"Age\": 37, \"Sex\": \"M\", \"ChestPainType\": \"ASY\", \"RestingBP\": 130, \"Cholesterol\": 315, \"FastingBS\": 0, \"RestingECG\": \"Normal\", \"MaxHR\": 158, \"ExerciseAngina\": \"N\", \"Oldpeak\": 0.0, \"ST_Slope\": \"Up\", \"HeartDisease\": 0, \"HD\": \"False\", \"Prediction\": \"False\"}, {\"Age\": 40, \"Sex\": \"M\", \"ChestPainType\": \"NAP\", \"RestingBP\": 130, \"Cholesterol\": 281, \"FastingBS\": 0, \"RestingECG\": \"Normal\", \"MaxHR\": 167, \"ExerciseAngina\": \"N\", \"Oldpeak\": 0.0, \"ST_Slope\": \"Up\", \"HeartDisease\": 0, \"HD\": \"False\", \"Prediction\": \"False\"}, {\"Age\": 38, \"Sex\": \"F\", \"ChestPainType\": \"ATA\", \"RestingBP\": 120, \"Cholesterol\": 275, \"FastingBS\": 0, \"RestingECG\": \"Normal\", \"MaxHR\": 129, \"ExerciseAngina\": \"N\", \"Oldpeak\": 0.0, \"ST_Slope\": \"Up\", \"HeartDisease\": 0, \"HD\": \"False\", \"Prediction\": \"False\"}, {\"Age\": 41, \"Sex\": \"M\", \"ChestPainType\": \"ASY\", \"RestingBP\": 112, \"Cholesterol\": 250, \"FastingBS\": 0, \"RestingECG\": \"Normal\", \"MaxHR\": 142, \"ExerciseAngina\": \"N\", \"Oldpeak\": 0.0, \"ST_Slope\": \"Up\", \"HeartDisease\": 0, \"HD\": \"False\", \"Prediction\": \"False\"}, {\"Age\": 54, \"Sex\": \"F\", \"ChestPainType\": \"ATA\", \"RestingBP\": 140, \"Cholesterol\": 309, \"FastingBS\": 0, \"RestingECG\": \"ST\", \"MaxHR\": 140, \"ExerciseAngina\": \"N\", \"Oldpeak\": 0.0, \"ST_Slope\": \"Up\", \"HeartDisease\": 0, \"HD\": \"False\", \"Prediction\": \"False\"}, {\"Age\": 39, \"Sex\": \"M\", \"ChestPainType\": \"ATA\", \"RestingBP\": 120, \"Cholesterol\": 200, \"FastingBS\": 0, \"RestingECG\": \"Normal\", \"MaxHR\": 160, \"ExerciseAngina\": \"Y\", \"Oldpeak\": 1.0, \"ST_Slope\": \"Flat\", \"HeartDisease\": 0, \"HD\": \"False\", \"Prediction\": \"False\"}, {\"Age\": 41, \"Sex\": \"M\", \"ChestPainType\": \"ASY\", \"RestingBP\": 120, \"Cholesterol\": 336, \"FastingBS\": 0, \"RestingECG\": \"Normal\", \"MaxHR\": 118, \"ExerciseAngina\": \"Y\", \"Oldpeak\": 3.0, \"ST_Slope\": \"Flat\", \"HeartDisease\": 1, \"HD\": \"True\", \"Prediction\": \"True\"}, {\"Age\": 55, \"Sex\": \"M\", \"ChestPainType\": \"TA\", \"RestingBP\": 140, \"Cholesterol\": 295, \"FastingBS\": 0, \"RestingECG\": \"Normal\", \"MaxHR\": 136, \"ExerciseAngina\": \"N\", \"Oldpeak\": 0.0, \"ST_Slope\": \"Flat\", \"HeartDisease\": 1, \"HD\": \"True\", \"Prediction\": \"False\"}, {\"Age\": 48, \"Sex\": \"M\", \"ChestPainType\": \"ASY\", \"RestingBP\": 160, \"Cholesterol\": 355, \"FastingBS\": 0, \"RestingECG\": \"Normal\", \"MaxHR\": 99, \"ExerciseAngina\": \"Y\", \"Oldpeak\": 2.0, \"ST_Slope\": \"Flat\", \"HeartDisease\": 1, \"HD\": \"True\", \"Prediction\": \"True\"}, {\"Age\": 48, \"Sex\": \"M\", \"ChestPainType\": \"ASY\", \"RestingBP\": 160, \"Cholesterol\": 193, \"FastingBS\": 0, \"RestingECG\": \"Normal\", \"MaxHR\": 102, \"ExerciseAngina\": \"Y\", \"Oldpeak\": 3.0, \"ST_Slope\": \"Flat\", \"HeartDisease\": 1, \"HD\": \"True\", \"Prediction\": \"True\"}, {\"Age\": 55, \"Sex\": \"M\", \"ChestPainType\": \"ATA\", \"RestingBP\": 145, \"Cholesterol\": 326, \"FastingBS\": 0, \"RestingECG\": \"Normal\", \"MaxHR\": 155, \"ExerciseAngina\": \"N\", \"Oldpeak\": 0.0, \"ST_Slope\": \"Up\", \"HeartDisease\": 0, \"HD\": \"False\", \"Prediction\": \"True\"}, {\"Age\": 54, \"Sex\": \"M\", \"ChestPainType\": \"ASY\", \"RestingBP\": 200, \"Cholesterol\": 198, \"FastingBS\": 0, \"RestingECG\": \"Normal\", \"MaxHR\": 142, \"ExerciseAngina\": \"Y\", \"Oldpeak\": 2.0, \"ST_Slope\": \"Flat\", \"HeartDisease\": 1, \"HD\": \"True\", \"Prediction\": \"True\"}, {\"Age\": 55, \"Sex\": \"M\", \"ChestPainType\": \"ATA\", \"RestingBP\": 160, \"Cholesterol\": 292, \"FastingBS\": 1, \"RestingECG\": \"Normal\", \"MaxHR\": 143, \"ExerciseAngina\": \"Y\", \"Oldpeak\": 2.0, \"ST_Slope\": \"Flat\", \"HeartDisease\": 1, \"HD\": \"True\", \"Prediction\": \"True\"}, {\"Age\": 43, \"Sex\": \"F\", \"ChestPainType\": \"ATA\", \"RestingBP\": 120, \"Cholesterol\": 266, \"FastingBS\": 0, \"RestingECG\": \"Normal\", \"MaxHR\": 118, \"ExerciseAngina\": \"N\", \"Oldpeak\": 0.0, \"ST_Slope\": \"Up\", \"HeartDisease\": 0, \"HD\": \"False\", \"Prediction\": \"False\"}, {\"Age\": 48, \"Sex\": \"M\", \"ChestPainType\": \"ASY\", \"RestingBP\": 160, \"Cholesterol\": 268, \"FastingBS\": 0, \"RestingECG\": \"Normal\", \"MaxHR\": 103, \"ExerciseAngina\": \"Y\", \"Oldpeak\": 1.0, \"ST_Slope\": \"Flat\", \"HeartDisease\": 1, \"HD\": \"True\", \"Prediction\": \"True\"}, {\"Age\": 54, \"Sex\": \"M\", \"ChestPainType\": \"TA\", \"RestingBP\": 120, \"Cholesterol\": 171, \"FastingBS\": 0, \"RestingECG\": \"Normal\", \"MaxHR\": 137, \"ExerciseAngina\": \"N\", \"Oldpeak\": 2.0, \"ST_Slope\": \"Up\", \"HeartDisease\": 0, \"HD\": \"False\", \"Prediction\": \"False\"}, {\"Age\": 54, \"Sex\": \"M\", \"ChestPainType\": \"NAP\", \"RestingBP\": 120, \"Cholesterol\": 237, \"FastingBS\": 0, \"RestingECG\": \"Normal\", \"MaxHR\": 150, \"ExerciseAngina\": \"Y\", \"Oldpeak\": 1.5, \"ST_Slope\": \"Flat\", \"HeartDisease\": 1, \"HD\": \"True\", \"Prediction\": \"False\"}, {\"Age\": 48, \"Sex\": \"M\", \"ChestPainType\": \"ASY\", \"RestingBP\": 122, \"Cholesterol\": 275, \"FastingBS\": 1, \"RestingECG\": \"ST\", \"MaxHR\": 150, \"ExerciseAngina\": \"Y\", \"Oldpeak\": 2.0, \"ST_Slope\": \"Down\", \"HeartDisease\": 1, \"HD\": \"True\", \"Prediction\": \"False\"}, {\"Age\": 45, \"Sex\": \"M\", \"ChestPainType\": \"ASY\", \"RestingBP\": 130, \"Cholesterol\": 219, \"FastingBS\": 0, \"RestingECG\": \"ST\", \"MaxHR\": 130, \"ExerciseAngina\": \"Y\", \"Oldpeak\": 1.0, \"ST_Slope\": \"Flat\", \"HeartDisease\": 1, \"HD\": \"True\", \"Prediction\": \"False\"}, {\"Age\": 49, \"Sex\": \"M\", \"ChestPainType\": \"ASY\", \"RestingBP\": 130, \"Cholesterol\": 341, \"FastingBS\": 0, \"RestingECG\": \"Normal\", \"MaxHR\": 120, \"ExerciseAngina\": \"Y\", \"Oldpeak\": 1.0, \"ST_Slope\": \"Flat\", \"HeartDisease\": 1, \"HD\": \"True\", \"Prediction\": \"True\"}, {\"Age\": 44, \"Sex\": \"M\", \"ChestPainType\": \"ASY\", \"RestingBP\": 135, \"Cholesterol\": 491, \"FastingBS\": 0, \"RestingECG\": \"Normal\", \"MaxHR\": 135, \"ExerciseAngina\": \"N\", \"Oldpeak\": 0.0, \"ST_Slope\": \"Flat\", \"HeartDisease\": 1, \"HD\": \"True\", \"Prediction\": \"True\"}, {\"Age\": 48, \"Sex\": \"M\", \"ChestPainType\": \"ASY\", \"RestingBP\": 120, \"Cholesterol\": 260, \"FastingBS\": 0, \"RestingECG\": \"Normal\", \"MaxHR\": 115, \"ExerciseAngina\": \"N\", \"Oldpeak\": 2.0, \"ST_Slope\": \"Flat\", \"HeartDisease\": 1, \"HD\": \"True\", \"Prediction\": \"True\"}, {\"Age\": 61, \"Sex\": \"M\", \"ChestPainType\": \"ASY\", \"RestingBP\": 125, \"Cholesterol\": 292, \"FastingBS\": 0, \"RestingECG\": \"ST\", \"MaxHR\": 115, \"ExerciseAngina\": \"Y\", \"Oldpeak\": 0.0, \"ST_Slope\": \"Up\", \"HeartDisease\": 0, \"HD\": \"False\", \"Prediction\": \"True\"}, {\"Age\": 62, \"Sex\": \"M\", \"ChestPainType\": \"ATA\", \"RestingBP\": 140, \"Cholesterol\": 271, \"FastingBS\": 0, \"RestingECG\": \"Normal\", \"MaxHR\": 152, \"ExerciseAngina\": \"N\", \"Oldpeak\": 1.0, \"ST_Slope\": \"Up\", \"HeartDisease\": 0, \"HD\": \"False\", \"Prediction\": \"True\"}, {\"Age\": 55, \"Sex\": \"M\", \"ChestPainType\": \"ASY\", \"RestingBP\": 145, \"Cholesterol\": 248, \"FastingBS\": 0, \"RestingECG\": \"Normal\", \"MaxHR\": 96, \"ExerciseAngina\": \"Y\", \"Oldpeak\": 2.0, \"ST_Slope\": \"Flat\", \"HeartDisease\": 1, \"HD\": \"True\", \"Prediction\": \"True\"}, {\"Age\": 53, \"Sex\": \"F\", \"ChestPainType\": \"NAP\", \"RestingBP\": 120, \"Cholesterol\": 274, \"FastingBS\": 0, \"RestingECG\": \"Normal\", \"MaxHR\": 130, \"ExerciseAngina\": \"N\", \"Oldpeak\": 0.0, \"ST_Slope\": \"Up\", \"HeartDisease\": 0, \"HD\": \"False\", \"Prediction\": \"False\"}, {\"Age\": 55, \"Sex\": \"F\", \"ChestPainType\": \"ATA\", \"RestingBP\": 130, \"Cholesterol\": 394, \"FastingBS\": 0, \"RestingECG\": \"LVH\", \"MaxHR\": 150, \"ExerciseAngina\": \"N\", \"Oldpeak\": 0.0, \"ST_Slope\": \"Up\", \"HeartDisease\": 0, \"HD\": \"False\", \"Prediction\": \"False\"}, {\"Age\": 36, \"Sex\": \"M\", \"ChestPainType\": \"NAP\", \"RestingBP\": 150, \"Cholesterol\": 160, \"FastingBS\": 0, \"RestingECG\": \"Normal\", \"MaxHR\": 172, \"ExerciseAngina\": \"N\", \"Oldpeak\": 0.0, \"ST_Slope\": \"Up\", \"HeartDisease\": 0, \"HD\": \"False\", \"Prediction\": \"False\"}, {\"Age\": 51, \"Sex\": \"F\", \"ChestPainType\": \"NAP\", \"RestingBP\": 150, \"Cholesterol\": 200, \"FastingBS\": 0, \"RestingECG\": \"Normal\", \"MaxHR\": 120, \"ExerciseAngina\": \"N\", \"Oldpeak\": 0.5, \"ST_Slope\": \"Up\", \"HeartDisease\": 0, \"HD\": \"False\", \"Prediction\": \"False\"}, {\"Age\": 55, \"Sex\": \"F\", \"ChestPainType\": \"ATA\", \"RestingBP\": 122, \"Cholesterol\": 320, \"FastingBS\": 0, \"RestingECG\": \"Normal\", \"MaxHR\": 155, \"ExerciseAngina\": \"N\", \"Oldpeak\": 0.0, \"ST_Slope\": \"Up\", \"HeartDisease\": 0, \"HD\": \"False\", \"Prediction\": \"False\"}, {\"Age\": 46, \"Sex\": \"M\", \"ChestPainType\": \"ATA\", \"RestingBP\": 140, \"Cholesterol\": 275, \"FastingBS\": 0, \"RestingECG\": \"Normal\", \"MaxHR\": 165, \"ExerciseAngina\": \"Y\", \"Oldpeak\": 0.0, \"ST_Slope\": \"Up\", \"HeartDisease\": 0, \"HD\": \"False\", \"Prediction\": \"False\"}, {\"Age\": 54, \"Sex\": \"F\", \"ChestPainType\": \"ATA\", \"RestingBP\": 120, \"Cholesterol\": 221, \"FastingBS\": 0, \"RestingECG\": \"Normal\", \"MaxHR\": 138, \"ExerciseAngina\": \"N\", \"Oldpeak\": 1.0, \"ST_Slope\": \"Up\", \"HeartDisease\": 0, \"HD\": \"False\", \"Prediction\": \"False\"}, {\"Age\": 46, \"Sex\": \"M\", \"ChestPainType\": \"ASY\", \"RestingBP\": 120, \"Cholesterol\": 231, \"FastingBS\": 0, \"RestingECG\": \"Normal\", \"MaxHR\": 115, \"ExerciseAngina\": \"Y\", \"Oldpeak\": 0.0, \"ST_Slope\": \"Flat\", \"HeartDisease\": 1, \"HD\": \"True\", \"Prediction\": \"True\"}, {\"Age\": 59, \"Sex\": \"M\", \"ChestPainType\": \"ASY\", \"RestingBP\": 130, \"Cholesterol\": 126, \"FastingBS\": 0, \"RestingECG\": \"Normal\", \"MaxHR\": 125, \"ExerciseAngina\": \"N\", \"Oldpeak\": 0.0, \"ST_Slope\": \"Flat\", \"HeartDisease\": 1, \"HD\": \"True\", \"Prediction\": \"True\"}, {\"Age\": 47, \"Sex\": \"M\", \"ChestPainType\": \"NAP\", \"RestingBP\": 140, \"Cholesterol\": 193, \"FastingBS\": 0, \"RestingECG\": \"Normal\", \"MaxHR\": 145, \"ExerciseAngina\": \"Y\", \"Oldpeak\": 1.0, \"ST_Slope\": \"Flat\", \"HeartDisease\": 1, \"HD\": \"True\", \"Prediction\": \"False\"}, {\"Age\": 54, \"Sex\": \"M\", \"ChestPainType\": \"ATA\", \"RestingBP\": 160, \"Cholesterol\": 305, \"FastingBS\": 0, \"RestingECG\": \"Normal\", \"MaxHR\": 175, \"ExerciseAngina\": \"N\", \"Oldpeak\": 0.0, \"ST_Slope\": \"Up\", \"HeartDisease\": 0, \"HD\": \"False\", \"Prediction\": \"False\"}, {\"Age\": 52, \"Sex\": \"M\", \"ChestPainType\": \"ASY\", \"RestingBP\": 130, \"Cholesterol\": 298, \"FastingBS\": 0, \"RestingECG\": \"Normal\", \"MaxHR\": 110, \"ExerciseAngina\": \"Y\", \"Oldpeak\": 1.0, \"ST_Slope\": \"Flat\", \"HeartDisease\": 1, \"HD\": \"True\", \"Prediction\": \"True\"}, {\"Age\": 34, \"Sex\": \"M\", \"ChestPainType\": \"ATA\", \"RestingBP\": 98, \"Cholesterol\": 220, \"FastingBS\": 0, \"RestingECG\": \"Normal\", \"MaxHR\": 150, \"ExerciseAngina\": \"N\", \"Oldpeak\": 0.0, \"ST_Slope\": \"Up\", \"HeartDisease\": 0, \"HD\": \"False\", \"Prediction\": \"False\"}, {\"Age\": 54, \"Sex\": \"M\", \"ChestPainType\": \"ASY\", \"RestingBP\": 130, \"Cholesterol\": 242, \"FastingBS\": 0, \"RestingECG\": \"Normal\", \"MaxHR\": 91, \"ExerciseAngina\": \"Y\", \"Oldpeak\": 1.0, \"ST_Slope\": \"Flat\", \"HeartDisease\": 1, \"HD\": \"True\", \"Prediction\": \"False\"}, {\"Age\": 47, \"Sex\": \"F\", \"ChestPainType\": \"NAP\", \"RestingBP\": 130, \"Cholesterol\": 235, \"FastingBS\": 0, \"RestingECG\": \"Normal\", \"MaxHR\": 145, \"ExerciseAngina\": \"N\", \"Oldpeak\": 2.0, \"ST_Slope\": \"Flat\", \"HeartDisease\": 0, \"HD\": \"False\", \"Prediction\": \"False\"}, {\"Age\": 45, \"Sex\": \"M\", \"ChestPainType\": \"ASY\", \"RestingBP\": 120, \"Cholesterol\": 225, \"FastingBS\": 0, \"RestingECG\": \"Normal\", \"MaxHR\": 140, \"ExerciseAngina\": \"N\", \"Oldpeak\": 0.0, \"ST_Slope\": \"Up\", \"HeartDisease\": 0, \"HD\": \"False\", \"Prediction\": \"False\"}, {\"Age\": 32, \"Sex\": \"F\", \"ChestPainType\": \"ATA\", \"RestingBP\": 105, \"Cholesterol\": 198, \"FastingBS\": 0, \"RestingECG\": \"Normal\", \"MaxHR\": 165, \"ExerciseAngina\": \"N\", \"Oldpeak\": 0.0, \"ST_Slope\": \"Up\", \"HeartDisease\": 0, \"HD\": \"False\", \"Prediction\": \"False\"}, {\"Age\": 55, \"Sex\": \"M\", \"ChestPainType\": \"ASY\", \"RestingBP\": 140, \"Cholesterol\": 201, \"FastingBS\": 0, \"RestingECG\": \"Normal\", \"MaxHR\": 130, \"ExerciseAngina\": \"Y\", \"Oldpeak\": 3.0, \"ST_Slope\": \"Flat\", \"HeartDisease\": 1, \"HD\": \"True\", \"Prediction\": \"False\"}, {\"Age\": 55, \"Sex\": \"M\", \"ChestPainType\": \"NAP\", \"RestingBP\": 120, \"Cholesterol\": 220, \"FastingBS\": 0, \"RestingECG\": \"LVH\", \"MaxHR\": 134, \"ExerciseAngina\": \"N\", \"Oldpeak\": 0.0, \"ST_Slope\": \"Up\", \"HeartDisease\": 0, \"HD\": \"False\", \"Prediction\": \"False\"}, {\"Age\": 45, \"Sex\": \"F\", \"ChestPainType\": \"ATA\", \"RestingBP\": 180, \"Cholesterol\": 295, \"FastingBS\": 0, \"RestingECG\": \"Normal\", \"MaxHR\": 180, \"ExerciseAngina\": \"N\", \"Oldpeak\": 0.0, \"ST_Slope\": \"Up\", \"HeartDisease\": 0, \"HD\": \"False\", \"Prediction\": \"False\"}, {\"Age\": 59, \"Sex\": \"M\", \"ChestPainType\": \"NAP\", \"RestingBP\": 180, \"Cholesterol\": 213, \"FastingBS\": 0, \"RestingECG\": \"Normal\", \"MaxHR\": 100, \"ExerciseAngina\": \"N\", \"Oldpeak\": 0.0, \"ST_Slope\": \"Up\", \"HeartDisease\": 0, \"HD\": \"False\", \"Prediction\": \"True\"}, {\"Age\": 51, \"Sex\": \"M\", \"ChestPainType\": \"NAP\", \"RestingBP\": 135, \"Cholesterol\": 160, \"FastingBS\": 0, \"RestingECG\": \"Normal\", \"MaxHR\": 150, \"ExerciseAngina\": \"N\", \"Oldpeak\": 2.0, \"ST_Slope\": \"Flat\", \"HeartDisease\": 1, \"HD\": \"True\", \"Prediction\": \"False\"}, {\"Age\": 52, \"Sex\": \"M\", \"ChestPainType\": \"ASY\", \"RestingBP\": 170, \"Cholesterol\": 223, \"FastingBS\": 0, \"RestingECG\": \"Normal\", \"MaxHR\": 126, \"ExerciseAngina\": \"Y\", \"Oldpeak\": 1.5, \"ST_Slope\": \"Flat\", \"HeartDisease\": 1, \"HD\": \"True\", \"Prediction\": \"True\"}, {\"Age\": 57, \"Sex\": \"F\", \"ChestPainType\": \"ASY\", \"RestingBP\": 180, \"Cholesterol\": 347, \"FastingBS\": 0, \"RestingECG\": \"ST\", \"MaxHR\": 126, \"ExerciseAngina\": \"Y\", \"Oldpeak\": 0.8, \"ST_Slope\": \"Flat\", \"HeartDisease\": 0, \"HD\": \"False\", \"Prediction\": \"False\"}, {\"Age\": 54, \"Sex\": \"F\", \"ChestPainType\": \"ATA\", \"RestingBP\": 130, \"Cholesterol\": 253, \"FastingBS\": 0, \"RestingECG\": \"ST\", \"MaxHR\": 155, \"ExerciseAngina\": \"N\", \"Oldpeak\": 0.0, \"ST_Slope\": \"Up\", \"HeartDisease\": 0, \"HD\": \"False\", \"Prediction\": \"False\"}, {\"Age\": 60, \"Sex\": \"M\", \"ChestPainType\": \"NAP\", \"RestingBP\": 120, \"Cholesterol\": 246, \"FastingBS\": 0, \"RestingECG\": \"LVH\", \"MaxHR\": 135, \"ExerciseAngina\": \"N\", \"Oldpeak\": 0.0, \"ST_Slope\": \"Up\", \"HeartDisease\": 0, \"HD\": \"False\", \"Prediction\": \"True\"}, {\"Age\": 49, \"Sex\": \"M\", \"ChestPainType\": \"ASY\", \"RestingBP\": 150, \"Cholesterol\": 222, \"FastingBS\": 0, \"RestingECG\": \"Normal\", \"MaxHR\": 122, \"ExerciseAngina\": \"N\", \"Oldpeak\": 2.0, \"ST_Slope\": \"Flat\", \"HeartDisease\": 1, \"HD\": \"True\", \"Prediction\": \"True\"}, {\"Age\": 51, \"Sex\": \"F\", \"ChestPainType\": \"NAP\", \"RestingBP\": 130, \"Cholesterol\": 220, \"FastingBS\": 0, \"RestingECG\": \"Normal\", \"MaxHR\": 160, \"ExerciseAngina\": \"Y\", \"Oldpeak\": 2.0, \"ST_Slope\": \"Up\", \"HeartDisease\": 0, \"HD\": \"False\", \"Prediction\": \"False\"}, {\"Age\": 55, \"Sex\": \"F\", \"ChestPainType\": \"ATA\", \"RestingBP\": 110, \"Cholesterol\": 344, \"FastingBS\": 0, \"RestingECG\": \"ST\", \"MaxHR\": 160, \"ExerciseAngina\": \"N\", \"Oldpeak\": 0.0, \"ST_Slope\": \"Up\", \"HeartDisease\": 0, \"HD\": \"False\", \"Prediction\": \"False\"}, {\"Age\": 42, \"Sex\": \"M\", \"ChestPainType\": \"ASY\", \"RestingBP\": 140, \"Cholesterol\": 358, \"FastingBS\": 0, \"RestingECG\": \"Normal\", \"MaxHR\": 170, \"ExerciseAngina\": \"N\", \"Oldpeak\": 0.0, \"ST_Slope\": \"Up\", \"HeartDisease\": 0, \"HD\": \"False\", \"Prediction\": \"False\"}, {\"Age\": 51, \"Sex\": \"F\", \"ChestPainType\": \"NAP\", \"RestingBP\": 110, \"Cholesterol\": 190, \"FastingBS\": 0, \"RestingECG\": \"Normal\", \"MaxHR\": 120, \"ExerciseAngina\": \"N\", \"Oldpeak\": 0.0, \"ST_Slope\": \"Up\", \"HeartDisease\": 0, \"HD\": \"False\", \"Prediction\": \"False\"}, {\"Age\": 59, \"Sex\": \"M\", \"ChestPainType\": \"ASY\", \"RestingBP\": 140, \"Cholesterol\": 169, \"FastingBS\": 0, \"RestingECG\": \"Normal\", \"MaxHR\": 140, \"ExerciseAngina\": \"N\", \"Oldpeak\": 0.0, \"ST_Slope\": \"Up\", \"HeartDisease\": 0, \"HD\": \"False\", \"Prediction\": \"False\"}, {\"Age\": 53, \"Sex\": \"M\", \"ChestPainType\": \"ATA\", \"RestingBP\": 120, \"Cholesterol\": 181, \"FastingBS\": 0, \"RestingECG\": \"Normal\", \"MaxHR\": 132, \"ExerciseAngina\": \"N\", \"Oldpeak\": 0.0, \"ST_Slope\": \"Up\", \"HeartDisease\": 0, \"HD\": \"False\", \"Prediction\": \"False\"}, {\"Age\": 48, \"Sex\": \"F\", \"ChestPainType\": \"ATA\", \"RestingBP\": 133, \"Cholesterol\": 308, \"FastingBS\": 0, \"RestingECG\": \"ST\", \"MaxHR\": 156, \"ExerciseAngina\": \"N\", \"Oldpeak\": 2.0, \"ST_Slope\": \"Up\", \"HeartDisease\": 0, \"HD\": \"False\", \"Prediction\": \"False\"}, {\"Age\": 36, \"Sex\": \"M\", \"ChestPainType\": \"ATA\", \"RestingBP\": 120, \"Cholesterol\": 166, \"FastingBS\": 0, \"RestingECG\": \"Normal\", \"MaxHR\": 180, \"ExerciseAngina\": \"N\", \"Oldpeak\": 0.0, \"ST_Slope\": \"Up\", \"HeartDisease\": 0, \"HD\": \"False\", \"Prediction\": \"False\"}, {\"Age\": 48, \"Sex\": \"M\", \"ChestPainType\": \"NAP\", \"RestingBP\": 110, \"Cholesterol\": 211, \"FastingBS\": 0, \"RestingECG\": \"Normal\", \"MaxHR\": 138, \"ExerciseAngina\": \"N\", \"Oldpeak\": 0.0, \"ST_Slope\": \"Up\", \"HeartDisease\": 0, \"HD\": \"False\", \"Prediction\": \"False\"}, {\"Age\": 47, \"Sex\": \"F\", \"ChestPainType\": \"ATA\", \"RestingBP\": 140, \"Cholesterol\": 257, \"FastingBS\": 0, \"RestingECG\": \"Normal\", \"MaxHR\": 135, \"ExerciseAngina\": \"N\", \"Oldpeak\": 1.0, \"ST_Slope\": \"Up\", \"HeartDisease\": 0, \"HD\": \"False\", \"Prediction\": \"True\"}, {\"Age\": 53, \"Sex\": \"M\", \"ChestPainType\": \"ASY\", \"RestingBP\": 130, \"Cholesterol\": 182, \"FastingBS\": 0, \"RestingECG\": \"Normal\", \"MaxHR\": 148, \"ExerciseAngina\": \"N\", \"Oldpeak\": 0.0, \"ST_Slope\": \"Up\", \"HeartDisease\": 0, \"HD\": \"False\", \"Prediction\": \"False\"}, {\"Age\": 65, \"Sex\": \"M\", \"ChestPainType\": \"ASY\", \"RestingBP\": 115, \"Cholesterol\": 0, \"FastingBS\": 0, \"RestingECG\": \"Normal\", \"MaxHR\": 93, \"ExerciseAngina\": \"Y\", \"Oldpeak\": 0.0, \"ST_Slope\": \"Flat\", \"HeartDisease\": 1, \"HD\": \"True\", \"Prediction\": \"True\"}, {\"Age\": 32, \"Sex\": \"M\", \"ChestPainType\": \"TA\", \"RestingBP\": 95, \"Cholesterol\": 0, \"FastingBS\": 1, \"RestingECG\": \"Normal\", \"MaxHR\": 127, \"ExerciseAngina\": \"N\", \"Oldpeak\": 0.7, \"ST_Slope\": \"Up\", \"HeartDisease\": 1, \"HD\": \"True\", \"Prediction\": \"True\"}, {\"Age\": 61, \"Sex\": \"M\", \"ChestPainType\": \"ASY\", \"RestingBP\": 105, \"Cholesterol\": 0, \"FastingBS\": 1, \"RestingECG\": \"Normal\", \"MaxHR\": 110, \"ExerciseAngina\": \"Y\", \"Oldpeak\": 1.5, \"ST_Slope\": \"Up\", \"HeartDisease\": 1, \"HD\": \"True\", \"Prediction\": \"True\"}, {\"Age\": 50, \"Sex\": \"M\", \"ChestPainType\": \"ASY\", \"RestingBP\": 145, \"Cholesterol\": 0, \"FastingBS\": 1, \"RestingECG\": \"Normal\", \"MaxHR\": 139, \"ExerciseAngina\": \"Y\", \"Oldpeak\": 0.7, \"ST_Slope\": \"Flat\", \"HeartDisease\": 1, \"HD\": \"True\", \"Prediction\": \"True\"}, {\"Age\": 57, \"Sex\": \"M\", \"ChestPainType\": \"ASY\", \"RestingBP\": 110, \"Cholesterol\": 0, \"FastingBS\": 1, \"RestingECG\": \"ST\", \"MaxHR\": 131, \"ExerciseAngina\": \"Y\", \"Oldpeak\": 1.4, \"ST_Slope\": \"Up\", \"HeartDisease\": 1, \"HD\": \"True\", \"Prediction\": \"True\"}, {\"Age\": 51, \"Sex\": \"M\", \"ChestPainType\": \"ASY\", \"RestingBP\": 110, \"Cholesterol\": 0, \"FastingBS\": 1, \"RestingECG\": \"Normal\", \"MaxHR\": 92, \"ExerciseAngina\": \"N\", \"Oldpeak\": 0.0, \"ST_Slope\": \"Flat\", \"HeartDisease\": 1, \"HD\": \"True\", \"Prediction\": \"True\"}, {\"Age\": 47, \"Sex\": \"M\", \"ChestPainType\": \"ASY\", \"RestingBP\": 110, \"Cholesterol\": 0, \"FastingBS\": 1, \"RestingECG\": \"ST\", \"MaxHR\": 149, \"ExerciseAngina\": \"N\", \"Oldpeak\": 2.1, \"ST_Slope\": \"Up\", \"HeartDisease\": 1, \"HD\": \"True\", \"Prediction\": \"True\"}, {\"Age\": 60, \"Sex\": \"M\", \"ChestPainType\": \"ASY\", \"RestingBP\": 160, \"Cholesterol\": 0, \"FastingBS\": 1, \"RestingECG\": \"Normal\", \"MaxHR\": 149, \"ExerciseAngina\": \"N\", \"Oldpeak\": 0.4, \"ST_Slope\": \"Flat\", \"HeartDisease\": 1, \"HD\": \"True\", \"Prediction\": \"True\"}, {\"Age\": 55, \"Sex\": \"M\", \"ChestPainType\": \"ATA\", \"RestingBP\": 140, \"Cholesterol\": 0, \"FastingBS\": 0, \"RestingECG\": \"ST\", \"MaxHR\": 150, \"ExerciseAngina\": \"N\", \"Oldpeak\": 0.2, \"ST_Slope\": \"Up\", \"HeartDisease\": 0, \"HD\": \"False\", \"Prediction\": \"True\"}, {\"Age\": 53, \"Sex\": \"M\", \"ChestPainType\": \"ASY\", \"RestingBP\": 125, \"Cholesterol\": 0, \"FastingBS\": 1, \"RestingECG\": \"Normal\", \"MaxHR\": 120, \"ExerciseAngina\": \"N\", \"Oldpeak\": 1.5, \"ST_Slope\": \"Up\", \"HeartDisease\": 1, \"HD\": \"True\", \"Prediction\": \"True\"}, {\"Age\": 62, \"Sex\": \"F\", \"ChestPainType\": \"ASY\", \"RestingBP\": 120, \"Cholesterol\": 0, \"FastingBS\": 1, \"RestingECG\": \"ST\", \"MaxHR\": 123, \"ExerciseAngina\": \"Y\", \"Oldpeak\": 1.7, \"ST_Slope\": \"Down\", \"HeartDisease\": 1, \"HD\": \"True\", \"Prediction\": \"True\"}, {\"Age\": 51, \"Sex\": \"M\", \"ChestPainType\": \"ASY\", \"RestingBP\": 95, \"Cholesterol\": 0, \"FastingBS\": 1, \"RestingECG\": \"Normal\", \"MaxHR\": 126, \"ExerciseAngina\": \"N\", \"Oldpeak\": 2.2, \"ST_Slope\": \"Flat\", \"HeartDisease\": 1, \"HD\": \"True\", \"Prediction\": \"True\"}, {\"Age\": 51, \"Sex\": \"F\", \"ChestPainType\": \"ASY\", \"RestingBP\": 120, \"Cholesterol\": 0, \"FastingBS\": 1, \"RestingECG\": \"Normal\", \"MaxHR\": 127, \"ExerciseAngina\": \"Y\", \"Oldpeak\": 1.5, \"ST_Slope\": \"Up\", \"HeartDisease\": 1, \"HD\": \"True\", \"Prediction\": \"True\"}, {\"Age\": 55, \"Sex\": \"M\", \"ChestPainType\": \"ASY\", \"RestingBP\": 115, \"Cholesterol\": 0, \"FastingBS\": 1, \"RestingECG\": \"Normal\", \"MaxHR\": 155, \"ExerciseAngina\": \"N\", \"Oldpeak\": 0.1, \"ST_Slope\": \"Flat\", \"HeartDisease\": 1, \"HD\": \"True\", \"Prediction\": \"True\"}, {\"Age\": 53, \"Sex\": \"M\", \"ChestPainType\": \"ATA\", \"RestingBP\": 130, \"Cholesterol\": 0, \"FastingBS\": 0, \"RestingECG\": \"ST\", \"MaxHR\": 120, \"ExerciseAngina\": \"N\", \"Oldpeak\": 0.7, \"ST_Slope\": \"Down\", \"HeartDisease\": 0, \"HD\": \"False\", \"Prediction\": \"True\"}, {\"Age\": 58, \"Sex\": \"M\", \"ChestPainType\": \"ASY\", \"RestingBP\": 115, \"Cholesterol\": 0, \"FastingBS\": 1, \"RestingECG\": \"Normal\", \"MaxHR\": 138, \"ExerciseAngina\": \"N\", \"Oldpeak\": 0.5, \"ST_Slope\": \"Up\", \"HeartDisease\": 1, \"HD\": \"True\", \"Prediction\": \"True\"}, {\"Age\": 57, \"Sex\": \"M\", \"ChestPainType\": \"ASY\", \"RestingBP\": 95, \"Cholesterol\": 0, \"FastingBS\": 1, \"RestingECG\": \"Normal\", \"MaxHR\": 182, \"ExerciseAngina\": \"N\", \"Oldpeak\": 0.7, \"ST_Slope\": \"Down\", \"HeartDisease\": 1, \"HD\": \"True\", \"Prediction\": \"True\"}, {\"Age\": 65, \"Sex\": \"M\", \"ChestPainType\": \"ASY\", \"RestingBP\": 155, \"Cholesterol\": 0, \"FastingBS\": 0, \"RestingECG\": \"Normal\", \"MaxHR\": 154, \"ExerciseAngina\": \"N\", \"Oldpeak\": 1.0, \"ST_Slope\": \"Up\", \"HeartDisease\": 0, \"HD\": \"False\", \"Prediction\": \"True\"}, {\"Age\": 60, \"Sex\": \"M\", \"ChestPainType\": \"ASY\", \"RestingBP\": 125, \"Cholesterol\": 0, \"FastingBS\": 1, \"RestingECG\": \"Normal\", \"MaxHR\": 110, \"ExerciseAngina\": \"N\", \"Oldpeak\": 0.1, \"ST_Slope\": \"Up\", \"HeartDisease\": 1, \"HD\": \"True\", \"Prediction\": \"True\"}, {\"Age\": 41, \"Sex\": \"M\", \"ChestPainType\": \"ASY\", \"RestingBP\": 125, \"Cholesterol\": 0, \"FastingBS\": 1, \"RestingECG\": \"Normal\", \"MaxHR\": 176, \"ExerciseAngina\": \"N\", \"Oldpeak\": 1.6, \"ST_Slope\": \"Up\", \"HeartDisease\": 1, \"HD\": \"True\", \"Prediction\": \"True\"}, {\"Age\": 34, \"Sex\": \"M\", \"ChestPainType\": \"ASY\", \"RestingBP\": 115, \"Cholesterol\": 0, \"FastingBS\": 1, \"RestingECG\": \"Normal\", \"MaxHR\": 154, \"ExerciseAngina\": \"N\", \"Oldpeak\": 0.2, \"ST_Slope\": \"Up\", \"HeartDisease\": 1, \"HD\": \"True\", \"Prediction\": \"True\"}, {\"Age\": 53, \"Sex\": \"M\", \"ChestPainType\": \"ASY\", \"RestingBP\": 80, \"Cholesterol\": 0, \"FastingBS\": 0, \"RestingECG\": \"Normal\", \"MaxHR\": 141, \"ExerciseAngina\": \"Y\", \"Oldpeak\": 2.0, \"ST_Slope\": \"Down\", \"HeartDisease\": 0, \"HD\": \"False\", \"Prediction\": \"True\"}, {\"Age\": 74, \"Sex\": \"M\", \"ChestPainType\": \"ATA\", \"RestingBP\": 145, \"Cholesterol\": 0, \"FastingBS\": 1, \"RestingECG\": \"ST\", \"MaxHR\": 123, \"ExerciseAngina\": \"N\", \"Oldpeak\": 1.3, \"ST_Slope\": \"Up\", \"HeartDisease\": 1, \"HD\": \"True\", \"Prediction\": \"True\"}, {\"Age\": 57, \"Sex\": \"M\", \"ChestPainType\": \"NAP\", \"RestingBP\": 105, \"Cholesterol\": 0, \"FastingBS\": 1, \"RestingECG\": \"Normal\", \"MaxHR\": 148, \"ExerciseAngina\": \"N\", \"Oldpeak\": 0.3, \"ST_Slope\": \"Flat\", \"HeartDisease\": 1, \"HD\": \"True\", \"Prediction\": \"True\"}, {\"Age\": 56, \"Sex\": \"M\", \"ChestPainType\": \"ASY\", \"RestingBP\": 140, \"Cholesterol\": 0, \"FastingBS\": 1, \"RestingECG\": \"Normal\", \"MaxHR\": 121, \"ExerciseAngina\": \"Y\", \"Oldpeak\": 1.8, \"ST_Slope\": \"Up\", \"HeartDisease\": 1, \"HD\": \"True\", \"Prediction\": \"True\"}, {\"Age\": 61, \"Sex\": \"M\", \"ChestPainType\": \"ASY\", \"RestingBP\": 130, \"Cholesterol\": 0, \"FastingBS\": 1, \"RestingECG\": \"Normal\", \"MaxHR\": 77, \"ExerciseAngina\": \"N\", \"Oldpeak\": 2.5, \"ST_Slope\": \"Flat\", \"HeartDisease\": 1, \"HD\": \"True\", \"Prediction\": \"True\"}, {\"Age\": 68, \"Sex\": \"M\", \"ChestPainType\": \"ASY\", \"RestingBP\": 145, \"Cholesterol\": 0, \"FastingBS\": 1, \"RestingECG\": \"Normal\", \"MaxHR\": 136, \"ExerciseAngina\": \"N\", \"Oldpeak\": 1.8, \"ST_Slope\": \"Up\", \"HeartDisease\": 1, \"HD\": \"True\", \"Prediction\": \"True\"}, {\"Age\": 59, \"Sex\": \"M\", \"ChestPainType\": \"NAP\", \"RestingBP\": 125, \"Cholesterol\": 0, \"FastingBS\": 1, \"RestingECG\": \"Normal\", \"MaxHR\": 175, \"ExerciseAngina\": \"N\", \"Oldpeak\": 2.6, \"ST_Slope\": \"Flat\", \"HeartDisease\": 1, \"HD\": \"True\", \"Prediction\": \"True\"}, {\"Age\": 63, \"Sex\": \"M\", \"ChestPainType\": \"ASY\", \"RestingBP\": 100, \"Cholesterol\": 0, \"FastingBS\": 1, \"RestingECG\": \"Normal\", \"MaxHR\": 109, \"ExerciseAngina\": \"N\", \"Oldpeak\": -0.9, \"ST_Slope\": \"Flat\", \"HeartDisease\": 1, \"HD\": \"True\", \"Prediction\": \"True\"}, {\"Age\": 38, \"Sex\": \"F\", \"ChestPainType\": \"ASY\", \"RestingBP\": 105, \"Cholesterol\": 0, \"FastingBS\": 1, \"RestingECG\": \"Normal\", \"MaxHR\": 166, \"ExerciseAngina\": \"N\", \"Oldpeak\": 2.8, \"ST_Slope\": \"Up\", \"HeartDisease\": 1, \"HD\": \"True\", \"Prediction\": \"True\"}, {\"Age\": 62, \"Sex\": \"M\", \"ChestPainType\": \"ASY\", \"RestingBP\": 115, \"Cholesterol\": 0, \"FastingBS\": 1, \"RestingECG\": \"Normal\", \"MaxHR\": 128, \"ExerciseAngina\": \"Y\", \"Oldpeak\": 2.5, \"ST_Slope\": \"Down\", \"HeartDisease\": 1, \"HD\": \"True\", \"Prediction\": \"True\"}, {\"Age\": 46, \"Sex\": \"M\", \"ChestPainType\": \"ASY\", \"RestingBP\": 100, \"Cholesterol\": 0, \"FastingBS\": 1, \"RestingECG\": \"ST\", \"MaxHR\": 133, \"ExerciseAngina\": \"N\", \"Oldpeak\": -2.6, \"ST_Slope\": \"Flat\", \"HeartDisease\": 1, \"HD\": \"True\", \"Prediction\": \"True\"}, {\"Age\": 42, \"Sex\": \"M\", \"ChestPainType\": \"ASY\", \"RestingBP\": 105, \"Cholesterol\": 0, \"FastingBS\": 1, \"RestingECG\": \"Normal\", \"MaxHR\": 128, \"ExerciseAngina\": \"Y\", \"Oldpeak\": -1.5, \"ST_Slope\": \"Down\", \"HeartDisease\": 1, \"HD\": \"True\", \"Prediction\": \"True\"}, {\"Age\": 45, \"Sex\": \"M\", \"ChestPainType\": \"NAP\", \"RestingBP\": 110, \"Cholesterol\": 0, \"FastingBS\": 0, \"RestingECG\": \"Normal\", \"MaxHR\": 138, \"ExerciseAngina\": \"N\", \"Oldpeak\": -0.1, \"ST_Slope\": \"Up\", \"HeartDisease\": 0, \"HD\": \"False\", \"Prediction\": \"True\"}, {\"Age\": 59, \"Sex\": \"M\", \"ChestPainType\": \"ASY\", \"RestingBP\": 125, \"Cholesterol\": 0, \"FastingBS\": 1, \"RestingECG\": \"Normal\", \"MaxHR\": 119, \"ExerciseAngina\": \"Y\", \"Oldpeak\": 0.9, \"ST_Slope\": \"Up\", \"HeartDisease\": 1, \"HD\": \"True\", \"Prediction\": \"True\"}, {\"Age\": 52, \"Sex\": \"M\", \"ChestPainType\": \"ASY\", \"RestingBP\": 95, \"Cholesterol\": 0, \"FastingBS\": 1, \"RestingECG\": \"Normal\", \"MaxHR\": 82, \"ExerciseAngina\": \"Y\", \"Oldpeak\": 0.8, \"ST_Slope\": \"Flat\", \"HeartDisease\": 1, \"HD\": \"True\", \"Prediction\": \"True\"}, {\"Age\": 60, \"Sex\": \"M\", \"ChestPainType\": \"ASY\", \"RestingBP\": 130, \"Cholesterol\": 0, \"FastingBS\": 1, \"RestingECG\": \"ST\", \"MaxHR\": 130, \"ExerciseAngina\": \"Y\", \"Oldpeak\": 1.1, \"ST_Slope\": \"Down\", \"HeartDisease\": 1, \"HD\": \"True\", \"Prediction\": \"True\"}, {\"Age\": 60, \"Sex\": \"M\", \"ChestPainType\": \"NAP\", \"RestingBP\": 115, \"Cholesterol\": 0, \"FastingBS\": 1, \"RestingECG\": \"Normal\", \"MaxHR\": 143, \"ExerciseAngina\": \"N\", \"Oldpeak\": 2.4, \"ST_Slope\": \"Up\", \"HeartDisease\": 1, \"HD\": \"True\", \"Prediction\": \"True\"}, {\"Age\": 56, \"Sex\": \"M\", \"ChestPainType\": \"ASY\", \"RestingBP\": 115, \"Cholesterol\": 0, \"FastingBS\": 1, \"RestingECG\": \"ST\", \"MaxHR\": 82, \"ExerciseAngina\": \"N\", \"Oldpeak\": -1.0, \"ST_Slope\": \"Up\", \"HeartDisease\": 1, \"HD\": \"True\", \"Prediction\": \"True\"}, {\"Age\": 38, \"Sex\": \"M\", \"ChestPainType\": \"NAP\", \"RestingBP\": 100, \"Cholesterol\": 0, \"FastingBS\": 0, \"RestingECG\": \"Normal\", \"MaxHR\": 179, \"ExerciseAngina\": \"N\", \"Oldpeak\": -1.1, \"ST_Slope\": \"Up\", \"HeartDisease\": 0, \"HD\": \"False\", \"Prediction\": \"True\"}, {\"Age\": 40, \"Sex\": \"M\", \"ChestPainType\": \"ASY\", \"RestingBP\": 95, \"Cholesterol\": 0, \"FastingBS\": 1, \"RestingECG\": \"ST\", \"MaxHR\": 144, \"ExerciseAngina\": \"N\", \"Oldpeak\": 0.0, \"ST_Slope\": \"Up\", \"HeartDisease\": 1, \"HD\": \"True\", \"Prediction\": \"True\"}, {\"Age\": 51, \"Sex\": \"M\", \"ChestPainType\": \"ASY\", \"RestingBP\": 130, \"Cholesterol\": 0, \"FastingBS\": 1, \"RestingECG\": \"Normal\", \"MaxHR\": 170, \"ExerciseAngina\": \"N\", \"Oldpeak\": -0.7, \"ST_Slope\": \"Up\", \"HeartDisease\": 1, \"HD\": \"True\", \"Prediction\": \"True\"}, {\"Age\": 62, \"Sex\": \"M\", \"ChestPainType\": \"TA\", \"RestingBP\": 120, \"Cholesterol\": 0, \"FastingBS\": 1, \"RestingECG\": \"LVH\", \"MaxHR\": 134, \"ExerciseAngina\": \"N\", \"Oldpeak\": -0.8, \"ST_Slope\": \"Flat\", \"HeartDisease\": 1, \"HD\": \"True\", \"Prediction\": \"True\"}, {\"Age\": 72, \"Sex\": \"M\", \"ChestPainType\": \"NAP\", \"RestingBP\": 160, \"Cholesterol\": 0, \"FastingBS\": 0, \"RestingECG\": \"LVH\", \"MaxHR\": 114, \"ExerciseAngina\": \"N\", \"Oldpeak\": 1.6, \"ST_Slope\": \"Flat\", \"HeartDisease\": 0, \"HD\": \"False\", \"Prediction\": \"True\"}, {\"Age\": 63, \"Sex\": \"M\", \"ChestPainType\": \"ASY\", \"RestingBP\": 150, \"Cholesterol\": 0, \"FastingBS\": 1, \"RestingECG\": \"ST\", \"MaxHR\": 154, \"ExerciseAngina\": \"N\", \"Oldpeak\": 3.7, \"ST_Slope\": \"Up\", \"HeartDisease\": 1, \"HD\": \"True\", \"Prediction\": \"True\"}, {\"Age\": 63, \"Sex\": \"M\", \"ChestPainType\": \"ASY\", \"RestingBP\": 140, \"Cholesterol\": 0, \"FastingBS\": 1, \"RestingECG\": \"LVH\", \"MaxHR\": 149, \"ExerciseAngina\": \"N\", \"Oldpeak\": 2.0, \"ST_Slope\": \"Up\", \"HeartDisease\": 1, \"HD\": \"True\", \"Prediction\": \"True\"}, {\"Age\": 64, \"Sex\": \"F\", \"ChestPainType\": \"ASY\", \"RestingBP\": 95, \"Cholesterol\": 0, \"FastingBS\": 1, \"RestingECG\": \"Normal\", \"MaxHR\": 145, \"ExerciseAngina\": \"N\", \"Oldpeak\": 1.1, \"ST_Slope\": \"Down\", \"HeartDisease\": 1, \"HD\": \"True\", \"Prediction\": \"True\"}, {\"Age\": 43, \"Sex\": \"M\", \"ChestPainType\": \"ASY\", \"RestingBP\": 100, \"Cholesterol\": 0, \"FastingBS\": 1, \"RestingECG\": \"Normal\", \"MaxHR\": 122, \"ExerciseAngina\": \"N\", \"Oldpeak\": 1.5, \"ST_Slope\": \"Down\", \"HeartDisease\": 1, \"HD\": \"True\", \"Prediction\": \"True\"}, {\"Age\": 64, \"Sex\": \"M\", \"ChestPainType\": \"ASY\", \"RestingBP\": 110, \"Cholesterol\": 0, \"FastingBS\": 1, \"RestingECG\": \"Normal\", \"MaxHR\": 114, \"ExerciseAngina\": \"Y\", \"Oldpeak\": 1.3, \"ST_Slope\": \"Down\", \"HeartDisease\": 1, \"HD\": \"True\", \"Prediction\": \"True\"}, {\"Age\": 61, \"Sex\": \"M\", \"ChestPainType\": \"ASY\", \"RestingBP\": 110, \"Cholesterol\": 0, \"FastingBS\": 1, \"RestingECG\": \"Normal\", \"MaxHR\": 113, \"ExerciseAngina\": \"N\", \"Oldpeak\": 1.4, \"ST_Slope\": \"Flat\", \"HeartDisease\": 1, \"HD\": \"True\", \"Prediction\": \"True\"}, {\"Age\": 52, \"Sex\": \"M\", \"ChestPainType\": \"ASY\", \"RestingBP\": 130, \"Cholesterol\": 0, \"FastingBS\": 1, \"RestingECG\": \"Normal\", \"MaxHR\": 120, \"ExerciseAngina\": \"N\", \"Oldpeak\": 0.0, \"ST_Slope\": \"Flat\", \"HeartDisease\": 1, \"HD\": \"True\", \"Prediction\": \"True\"}, {\"Age\": 51, \"Sex\": \"M\", \"ChestPainType\": \"ASY\", \"RestingBP\": 120, \"Cholesterol\": 0, \"FastingBS\": 1, \"RestingECG\": \"Normal\", \"MaxHR\": 104, \"ExerciseAngina\": \"N\", \"Oldpeak\": 0.0, \"ST_Slope\": \"Flat\", \"HeartDisease\": 1, \"HD\": \"True\", \"Prediction\": \"True\"}, {\"Age\": 69, \"Sex\": \"M\", \"ChestPainType\": \"ASY\", \"RestingBP\": 135, \"Cholesterol\": 0, \"FastingBS\": 0, \"RestingECG\": \"Normal\", \"MaxHR\": 130, \"ExerciseAngina\": \"N\", \"Oldpeak\": 0.0, \"ST_Slope\": \"Flat\", \"HeartDisease\": 1, \"HD\": \"True\", \"Prediction\": \"True\"}, {\"Age\": 59, \"Sex\": \"M\", \"ChestPainType\": \"ASY\", \"RestingBP\": 120, \"Cholesterol\": 0, \"FastingBS\": 0, \"RestingECG\": \"Normal\", \"MaxHR\": 115, \"ExerciseAngina\": \"N\", \"Oldpeak\": 0.0, \"ST_Slope\": \"Flat\", \"HeartDisease\": 1, \"HD\": \"True\", \"Prediction\": \"True\"}, {\"Age\": 48, \"Sex\": \"M\", \"ChestPainType\": \"ASY\", \"RestingBP\": 115, \"Cholesterol\": 0, \"FastingBS\": 1, \"RestingECG\": \"Normal\", \"MaxHR\": 128, \"ExerciseAngina\": \"N\", \"Oldpeak\": 0.0, \"ST_Slope\": \"Flat\", \"HeartDisease\": 1, \"HD\": \"True\", \"Prediction\": \"True\"}, {\"Age\": 69, \"Sex\": \"M\", \"ChestPainType\": \"ASY\", \"RestingBP\": 137, \"Cholesterol\": 0, \"FastingBS\": 0, \"RestingECG\": \"ST\", \"MaxHR\": 104, \"ExerciseAngina\": \"Y\", \"Oldpeak\": 1.6, \"ST_Slope\": \"Flat\", \"HeartDisease\": 1, \"HD\": \"True\", \"Prediction\": \"True\"}, {\"Age\": 36, \"Sex\": \"M\", \"ChestPainType\": \"ASY\", \"RestingBP\": 110, \"Cholesterol\": 0, \"FastingBS\": 1, \"RestingECG\": \"Normal\", \"MaxHR\": 125, \"ExerciseAngina\": \"Y\", \"Oldpeak\": 1.0, \"ST_Slope\": \"Flat\", \"HeartDisease\": 1, \"HD\": \"True\", \"Prediction\": \"True\"}, {\"Age\": 53, \"Sex\": \"M\", \"ChestPainType\": \"ASY\", \"RestingBP\": 120, \"Cholesterol\": 0, \"FastingBS\": 1, \"RestingECG\": \"Normal\", \"MaxHR\": 120, \"ExerciseAngina\": \"N\", \"Oldpeak\": 0.0, \"ST_Slope\": \"Flat\", \"HeartDisease\": 1, \"HD\": \"True\", \"Prediction\": \"True\"}, {\"Age\": 43, \"Sex\": \"M\", \"ChestPainType\": \"ASY\", \"RestingBP\": 140, \"Cholesterol\": 0, \"FastingBS\": 0, \"RestingECG\": \"ST\", \"MaxHR\": 140, \"ExerciseAngina\": \"Y\", \"Oldpeak\": 0.5, \"ST_Slope\": \"Up\", \"HeartDisease\": 1, \"HD\": \"True\", \"Prediction\": \"True\"}, {\"Age\": 56, \"Sex\": \"M\", \"ChestPainType\": \"ASY\", \"RestingBP\": 120, \"Cholesterol\": 0, \"FastingBS\": 0, \"RestingECG\": \"ST\", \"MaxHR\": 100, \"ExerciseAngina\": \"Y\", \"Oldpeak\": -1.0, \"ST_Slope\": \"Down\", \"HeartDisease\": 1, \"HD\": \"True\", \"Prediction\": \"True\"}, {\"Age\": 58, \"Sex\": \"M\", \"ChestPainType\": \"ASY\", \"RestingBP\": 130, \"Cholesterol\": 0, \"FastingBS\": 0, \"RestingECG\": \"ST\", \"MaxHR\": 100, \"ExerciseAngina\": \"Y\", \"Oldpeak\": 1.0, \"ST_Slope\": \"Flat\", \"HeartDisease\": 1, \"HD\": \"True\", \"Prediction\": \"True\"}, {\"Age\": 55, \"Sex\": \"M\", \"ChestPainType\": \"ASY\", \"RestingBP\": 120, \"Cholesterol\": 0, \"FastingBS\": 0, \"RestingECG\": \"ST\", \"MaxHR\": 92, \"ExerciseAngina\": \"N\", \"Oldpeak\": 0.3, \"ST_Slope\": \"Up\", \"HeartDisease\": 1, \"HD\": \"True\", \"Prediction\": \"True\"}, {\"Age\": 67, \"Sex\": \"M\", \"ChestPainType\": \"TA\", \"RestingBP\": 145, \"Cholesterol\": 0, \"FastingBS\": 0, \"RestingECG\": \"LVH\", \"MaxHR\": 125, \"ExerciseAngina\": \"N\", \"Oldpeak\": 0.0, \"ST_Slope\": \"Flat\", \"HeartDisease\": 1, \"HD\": \"True\", \"Prediction\": \"True\"}, {\"Age\": 46, \"Sex\": \"M\", \"ChestPainType\": \"ASY\", \"RestingBP\": 115, \"Cholesterol\": 0, \"FastingBS\": 0, \"RestingECG\": \"Normal\", \"MaxHR\": 113, \"ExerciseAngina\": \"Y\", \"Oldpeak\": 1.5, \"ST_Slope\": \"Flat\", \"HeartDisease\": 1, \"HD\": \"True\", \"Prediction\": \"True\"}, {\"Age\": 53, \"Sex\": \"M\", \"ChestPainType\": \"ATA\", \"RestingBP\": 120, \"Cholesterol\": 0, \"FastingBS\": 0, \"RestingECG\": \"Normal\", \"MaxHR\": 95, \"ExerciseAngina\": \"N\", \"Oldpeak\": 0.0, \"ST_Slope\": \"Flat\", \"HeartDisease\": 1, \"HD\": \"True\", \"Prediction\": \"True\"}, {\"Age\": 38, \"Sex\": \"M\", \"ChestPainType\": \"NAP\", \"RestingBP\": 115, \"Cholesterol\": 0, \"FastingBS\": 0, \"RestingECG\": \"Normal\", \"MaxHR\": 128, \"ExerciseAngina\": \"Y\", \"Oldpeak\": 0.0, \"ST_Slope\": \"Flat\", \"HeartDisease\": 1, \"HD\": \"True\", \"Prediction\": \"True\"}, {\"Age\": 53, \"Sex\": \"M\", \"ChestPainType\": \"NAP\", \"RestingBP\": 105, \"Cholesterol\": 0, \"FastingBS\": 0, \"RestingECG\": \"Normal\", \"MaxHR\": 115, \"ExerciseAngina\": \"N\", \"Oldpeak\": 0.0, \"ST_Slope\": \"Flat\", \"HeartDisease\": 1, \"HD\": \"True\", \"Prediction\": \"True\"}, {\"Age\": 62, \"Sex\": \"M\", \"ChestPainType\": \"NAP\", \"RestingBP\": 160, \"Cholesterol\": 0, \"FastingBS\": 0, \"RestingECG\": \"Normal\", \"MaxHR\": 72, \"ExerciseAngina\": \"Y\", \"Oldpeak\": 0.0, \"ST_Slope\": \"Flat\", \"HeartDisease\": 1, \"HD\": \"True\", \"Prediction\": \"True\"}, {\"Age\": 47, \"Sex\": \"M\", \"ChestPainType\": \"ASY\", \"RestingBP\": 160, \"Cholesterol\": 0, \"FastingBS\": 0, \"RestingECG\": \"Normal\", \"MaxHR\": 124, \"ExerciseAngina\": \"Y\", \"Oldpeak\": 0.0, \"ST_Slope\": \"Flat\", \"HeartDisease\": 1, \"HD\": \"True\", \"Prediction\": \"True\"}, {\"Age\": 56, \"Sex\": \"M\", \"ChestPainType\": \"NAP\", \"RestingBP\": 155, \"Cholesterol\": 0, \"FastingBS\": 0, \"RestingECG\": \"ST\", \"MaxHR\": 99, \"ExerciseAngina\": \"N\", \"Oldpeak\": 0.0, \"ST_Slope\": \"Flat\", \"HeartDisease\": 1, \"HD\": \"True\", \"Prediction\": \"True\"}, {\"Age\": 56, \"Sex\": \"M\", \"ChestPainType\": \"ASY\", \"RestingBP\": 120, \"Cholesterol\": 0, \"FastingBS\": 0, \"RestingECG\": \"ST\", \"MaxHR\": 148, \"ExerciseAngina\": \"N\", \"Oldpeak\": 0.0, \"ST_Slope\": \"Flat\", \"HeartDisease\": 1, \"HD\": \"True\", \"Prediction\": \"True\"}, {\"Age\": 56, \"Sex\": \"M\", \"ChestPainType\": \"NAP\", \"RestingBP\": 120, \"Cholesterol\": 0, \"FastingBS\": 0, \"RestingECG\": \"Normal\", \"MaxHR\": 97, \"ExerciseAngina\": \"N\", \"Oldpeak\": 0.0, \"ST_Slope\": \"Flat\", \"HeartDisease\": 0, \"HD\": \"False\", \"Prediction\": \"True\"}, {\"Age\": 64, \"Sex\": \"F\", \"ChestPainType\": \"ASY\", \"RestingBP\": 200, \"Cholesterol\": 0, \"FastingBS\": 0, \"RestingECG\": \"Normal\", \"MaxHR\": 140, \"ExerciseAngina\": \"Y\", \"Oldpeak\": 1.0, \"ST_Slope\": \"Flat\", \"HeartDisease\": 1, \"HD\": \"True\", \"Prediction\": \"True\"}, {\"Age\": 61, \"Sex\": \"M\", \"ChestPainType\": \"ASY\", \"RestingBP\": 150, \"Cholesterol\": 0, \"FastingBS\": 0, \"RestingECG\": \"Normal\", \"MaxHR\": 117, \"ExerciseAngina\": \"Y\", \"Oldpeak\": 2.0, \"ST_Slope\": \"Flat\", \"HeartDisease\": 1, \"HD\": \"True\", \"Prediction\": \"True\"}, {\"Age\": 68, \"Sex\": \"M\", \"ChestPainType\": \"ASY\", \"RestingBP\": 135, \"Cholesterol\": 0, \"FastingBS\": 0, \"RestingECG\": \"ST\", \"MaxHR\": 120, \"ExerciseAngina\": \"Y\", \"Oldpeak\": 0.0, \"ST_Slope\": \"Up\", \"HeartDisease\": 1, \"HD\": \"True\", \"Prediction\": \"True\"}, {\"Age\": 57, \"Sex\": \"M\", \"ChestPainType\": \"ASY\", \"RestingBP\": 140, \"Cholesterol\": 0, \"FastingBS\": 0, \"RestingECG\": \"Normal\", \"MaxHR\": 120, \"ExerciseAngina\": \"Y\", \"Oldpeak\": 2.0, \"ST_Slope\": \"Flat\", \"HeartDisease\": 1, \"HD\": \"True\", \"Prediction\": \"True\"}, {\"Age\": 63, \"Sex\": \"M\", \"ChestPainType\": \"ASY\", \"RestingBP\": 150, \"Cholesterol\": 0, \"FastingBS\": 0, \"RestingECG\": \"Normal\", \"MaxHR\": 86, \"ExerciseAngina\": \"Y\", \"Oldpeak\": 2.0, \"ST_Slope\": \"Flat\", \"HeartDisease\": 1, \"HD\": \"True\", \"Prediction\": \"True\"}, {\"Age\": 60, \"Sex\": \"M\", \"ChestPainType\": \"ASY\", \"RestingBP\": 135, \"Cholesterol\": 0, \"FastingBS\": 0, \"RestingECG\": \"Normal\", \"MaxHR\": 63, \"ExerciseAngina\": \"Y\", \"Oldpeak\": 0.5, \"ST_Slope\": \"Up\", \"HeartDisease\": 1, \"HD\": \"True\", \"Prediction\": \"True\"}, {\"Age\": 66, \"Sex\": \"M\", \"ChestPainType\": \"ASY\", \"RestingBP\": 150, \"Cholesterol\": 0, \"FastingBS\": 0, \"RestingECG\": \"Normal\", \"MaxHR\": 108, \"ExerciseAngina\": \"Y\", \"Oldpeak\": 2.0, \"ST_Slope\": \"Flat\", \"HeartDisease\": 1, \"HD\": \"True\", \"Prediction\": \"True\"}, {\"Age\": 63, \"Sex\": \"M\", \"ChestPainType\": \"ASY\", \"RestingBP\": 185, \"Cholesterol\": 0, \"FastingBS\": 0, \"RestingECG\": \"Normal\", \"MaxHR\": 98, \"ExerciseAngina\": \"Y\", \"Oldpeak\": 0.0, \"ST_Slope\": \"Up\", \"HeartDisease\": 1, \"HD\": \"True\", \"Prediction\": \"True\"}, {\"Age\": 59, \"Sex\": \"M\", \"ChestPainType\": \"ASY\", \"RestingBP\": 135, \"Cholesterol\": 0, \"FastingBS\": 0, \"RestingECG\": \"Normal\", \"MaxHR\": 115, \"ExerciseAngina\": \"Y\", \"Oldpeak\": 1.0, \"ST_Slope\": \"Flat\", \"HeartDisease\": 1, \"HD\": \"True\", \"Prediction\": \"True\"}, {\"Age\": 61, \"Sex\": \"M\", \"ChestPainType\": \"ASY\", \"RestingBP\": 125, \"Cholesterol\": 0, \"FastingBS\": 0, \"RestingECG\": \"Normal\", \"MaxHR\": 105, \"ExerciseAngina\": \"Y\", \"Oldpeak\": 0.0, \"ST_Slope\": \"Down\", \"HeartDisease\": 1, \"HD\": \"True\", \"Prediction\": \"True\"}, {\"Age\": 73, \"Sex\": \"F\", \"ChestPainType\": \"NAP\", \"RestingBP\": 160, \"Cholesterol\": 0, \"FastingBS\": 0, \"RestingECG\": \"ST\", \"MaxHR\": 121, \"ExerciseAngina\": \"N\", \"Oldpeak\": 0.0, \"ST_Slope\": \"Up\", \"HeartDisease\": 1, \"HD\": \"True\", \"Prediction\": \"True\"}, {\"Age\": 47, \"Sex\": \"M\", \"ChestPainType\": \"NAP\", \"RestingBP\": 155, \"Cholesterol\": 0, \"FastingBS\": 0, \"RestingECG\": \"Normal\", \"MaxHR\": 118, \"ExerciseAngina\": \"Y\", \"Oldpeak\": 1.0, \"ST_Slope\": \"Flat\", \"HeartDisease\": 1, \"HD\": \"True\", \"Prediction\": \"True\"}, {\"Age\": 65, \"Sex\": \"M\", \"ChestPainType\": \"ASY\", \"RestingBP\": 160, \"Cholesterol\": 0, \"FastingBS\": 1, \"RestingECG\": \"ST\", \"MaxHR\": 122, \"ExerciseAngina\": \"N\", \"Oldpeak\": 1.2, \"ST_Slope\": \"Flat\", \"HeartDisease\": 1, \"HD\": \"True\", \"Prediction\": \"True\"}, {\"Age\": 70, \"Sex\": \"M\", \"ChestPainType\": \"ASY\", \"RestingBP\": 140, \"Cholesterol\": 0, \"FastingBS\": 1, \"RestingECG\": \"Normal\", \"MaxHR\": 157, \"ExerciseAngina\": \"Y\", \"Oldpeak\": 2.0, \"ST_Slope\": \"Flat\", \"HeartDisease\": 1, \"HD\": \"True\", \"Prediction\": \"True\"}, {\"Age\": 50, \"Sex\": \"M\", \"ChestPainType\": \"ASY\", \"RestingBP\": 120, \"Cholesterol\": 0, \"FastingBS\": 0, \"RestingECG\": \"ST\", \"MaxHR\": 156, \"ExerciseAngina\": \"Y\", \"Oldpeak\": 0.0, \"ST_Slope\": \"Up\", \"HeartDisease\": 1, \"HD\": \"True\", \"Prediction\": \"True\"}, {\"Age\": 60, \"Sex\": \"M\", \"ChestPainType\": \"ASY\", \"RestingBP\": 160, \"Cholesterol\": 0, \"FastingBS\": 0, \"RestingECG\": \"ST\", \"MaxHR\": 99, \"ExerciseAngina\": \"Y\", \"Oldpeak\": 0.5, \"ST_Slope\": \"Flat\", \"HeartDisease\": 1, \"HD\": \"True\", \"Prediction\": \"True\"}, {\"Age\": 50, \"Sex\": \"M\", \"ChestPainType\": \"ASY\", \"RestingBP\": 115, \"Cholesterol\": 0, \"FastingBS\": 0, \"RestingECG\": \"Normal\", \"MaxHR\": 120, \"ExerciseAngina\": \"Y\", \"Oldpeak\": 0.5, \"ST_Slope\": \"Flat\", \"HeartDisease\": 1, \"HD\": \"True\", \"Prediction\": \"True\"}, {\"Age\": 43, \"Sex\": \"M\", \"ChestPainType\": \"ASY\", \"RestingBP\": 115, \"Cholesterol\": 0, \"FastingBS\": 0, \"RestingECG\": \"Normal\", \"MaxHR\": 145, \"ExerciseAngina\": \"Y\", \"Oldpeak\": 2.0, \"ST_Slope\": \"Flat\", \"HeartDisease\": 1, \"HD\": \"True\", \"Prediction\": \"True\"}, {\"Age\": 38, \"Sex\": \"F\", \"ChestPainType\": \"ASY\", \"RestingBP\": 110, \"Cholesterol\": 0, \"FastingBS\": 0, \"RestingECG\": \"Normal\", \"MaxHR\": 156, \"ExerciseAngina\": \"N\", \"Oldpeak\": 0.0, \"ST_Slope\": \"Flat\", \"HeartDisease\": 1, \"HD\": \"True\", \"Prediction\": \"True\"}, {\"Age\": 54, \"Sex\": \"M\", \"ChestPainType\": \"ASY\", \"RestingBP\": 120, \"Cholesterol\": 0, \"FastingBS\": 0, \"RestingECG\": \"Normal\", \"MaxHR\": 155, \"ExerciseAngina\": \"N\", \"Oldpeak\": 0.0, \"ST_Slope\": \"Flat\", \"HeartDisease\": 1, \"HD\": \"True\", \"Prediction\": \"True\"}, {\"Age\": 61, \"Sex\": \"M\", \"ChestPainType\": \"ASY\", \"RestingBP\": 150, \"Cholesterol\": 0, \"FastingBS\": 0, \"RestingECG\": \"Normal\", \"MaxHR\": 105, \"ExerciseAngina\": \"Y\", \"Oldpeak\": 0.0, \"ST_Slope\": \"Flat\", \"HeartDisease\": 1, \"HD\": \"True\", \"Prediction\": \"True\"}, {\"Age\": 42, \"Sex\": \"M\", \"ChestPainType\": \"ASY\", \"RestingBP\": 145, \"Cholesterol\": 0, \"FastingBS\": 0, \"RestingECG\": \"Normal\", \"MaxHR\": 99, \"ExerciseAngina\": \"Y\", \"Oldpeak\": 0.0, \"ST_Slope\": \"Flat\", \"HeartDisease\": 1, \"HD\": \"True\", \"Prediction\": \"True\"}, {\"Age\": 53, \"Sex\": \"M\", \"ChestPainType\": \"ASY\", \"RestingBP\": 130, \"Cholesterol\": 0, \"FastingBS\": 0, \"RestingECG\": \"LVH\", \"MaxHR\": 135, \"ExerciseAngina\": \"Y\", \"Oldpeak\": 1.0, \"ST_Slope\": \"Flat\", \"HeartDisease\": 1, \"HD\": \"True\", \"Prediction\": \"True\"}, {\"Age\": 55, \"Sex\": \"M\", \"ChestPainType\": \"ASY\", \"RestingBP\": 140, \"Cholesterol\": 0, \"FastingBS\": 0, \"RestingECG\": \"Normal\", \"MaxHR\": 83, \"ExerciseAngina\": \"N\", \"Oldpeak\": 0.0, \"ST_Slope\": \"Flat\", \"HeartDisease\": 1, \"HD\": \"True\", \"Prediction\": \"True\"}, {\"Age\": 61, \"Sex\": \"M\", \"ChestPainType\": \"ASY\", \"RestingBP\": 160, \"Cholesterol\": 0, \"FastingBS\": 1, \"RestingECG\": \"ST\", \"MaxHR\": 145, \"ExerciseAngina\": \"N\", \"Oldpeak\": 1.0, \"ST_Slope\": \"Flat\", \"HeartDisease\": 1, \"HD\": \"True\", \"Prediction\": \"True\"}, {\"Age\": 51, \"Sex\": \"M\", \"ChestPainType\": \"ASY\", \"RestingBP\": 140, \"Cholesterol\": 0, \"FastingBS\": 0, \"RestingECG\": \"Normal\", \"MaxHR\": 60, \"ExerciseAngina\": \"N\", \"Oldpeak\": 0.0, \"ST_Slope\": \"Flat\", \"HeartDisease\": 1, \"HD\": \"True\", \"Prediction\": \"True\"}, {\"Age\": 70, \"Sex\": \"M\", \"ChestPainType\": \"ASY\", \"RestingBP\": 115, \"Cholesterol\": 0, \"FastingBS\": 0, \"RestingECG\": \"ST\", \"MaxHR\": 92, \"ExerciseAngina\": \"Y\", \"Oldpeak\": 0.0, \"ST_Slope\": \"Flat\", \"HeartDisease\": 1, \"HD\": \"True\", \"Prediction\": \"True\"}, {\"Age\": 61, \"Sex\": \"M\", \"ChestPainType\": \"ASY\", \"RestingBP\": 130, \"Cholesterol\": 0, \"FastingBS\": 0, \"RestingECG\": \"LVH\", \"MaxHR\": 115, \"ExerciseAngina\": \"N\", \"Oldpeak\": 0.0, \"ST_Slope\": \"Flat\", \"HeartDisease\": 1, \"HD\": \"True\", \"Prediction\": \"True\"}, {\"Age\": 38, \"Sex\": \"M\", \"ChestPainType\": \"ASY\", \"RestingBP\": 150, \"Cholesterol\": 0, \"FastingBS\": 1, \"RestingECG\": \"Normal\", \"MaxHR\": 120, \"ExerciseAngina\": \"Y\", \"Oldpeak\": 0.7, \"ST_Slope\": \"Flat\", \"HeartDisease\": 1, \"HD\": \"True\", \"Prediction\": \"True\"}, {\"Age\": 57, \"Sex\": \"M\", \"ChestPainType\": \"ASY\", \"RestingBP\": 160, \"Cholesterol\": 0, \"FastingBS\": 1, \"RestingECG\": \"Normal\", \"MaxHR\": 98, \"ExerciseAngina\": \"Y\", \"Oldpeak\": 2.0, \"ST_Slope\": \"Flat\", \"HeartDisease\": 1, \"HD\": \"True\", \"Prediction\": \"True\"}, {\"Age\": 38, \"Sex\": \"M\", \"ChestPainType\": \"ASY\", \"RestingBP\": 135, \"Cholesterol\": 0, \"FastingBS\": 1, \"RestingECG\": \"Normal\", \"MaxHR\": 150, \"ExerciseAngina\": \"N\", \"Oldpeak\": 0.0, \"ST_Slope\": \"Flat\", \"HeartDisease\": 1, \"HD\": \"True\", \"Prediction\": \"True\"}, {\"Age\": 62, \"Sex\": \"F\", \"ChestPainType\": \"TA\", \"RestingBP\": 140, \"Cholesterol\": 0, \"FastingBS\": 1, \"RestingECG\": \"Normal\", \"MaxHR\": 143, \"ExerciseAngina\": \"N\", \"Oldpeak\": 0.0, \"ST_Slope\": \"Flat\", \"HeartDisease\": 1, \"HD\": \"True\", \"Prediction\": \"True\"}, {\"Age\": 58, \"Sex\": \"M\", \"ChestPainType\": \"ASY\", \"RestingBP\": 170, \"Cholesterol\": 0, \"FastingBS\": 1, \"RestingECG\": \"ST\", \"MaxHR\": 105, \"ExerciseAngina\": \"Y\", \"Oldpeak\": 0.0, \"ST_Slope\": \"Flat\", \"HeartDisease\": 1, \"HD\": \"True\", \"Prediction\": \"True\"}, {\"Age\": 52, \"Sex\": \"M\", \"ChestPainType\": \"ASY\", \"RestingBP\": 165, \"Cholesterol\": 0, \"FastingBS\": 1, \"RestingECG\": \"Normal\", \"MaxHR\": 122, \"ExerciseAngina\": \"Y\", \"Oldpeak\": 1.0, \"ST_Slope\": \"Up\", \"HeartDisease\": 1, \"HD\": \"True\", \"Prediction\": \"True\"}, {\"Age\": 61, \"Sex\": \"M\", \"ChestPainType\": \"NAP\", \"RestingBP\": 200, \"Cholesterol\": 0, \"FastingBS\": 1, \"RestingECG\": \"ST\", \"MaxHR\": 70, \"ExerciseAngina\": \"N\", \"Oldpeak\": 0.0, \"ST_Slope\": \"Flat\", \"HeartDisease\": 1, \"HD\": \"True\", \"Prediction\": \"True\"}, {\"Age\": 50, \"Sex\": \"F\", \"ChestPainType\": \"ASY\", \"RestingBP\": 160, \"Cholesterol\": 0, \"FastingBS\": 1, \"RestingECG\": \"Normal\", \"MaxHR\": 110, \"ExerciseAngina\": \"N\", \"Oldpeak\": 0.0, \"ST_Slope\": \"Flat\", \"HeartDisease\": 1, \"HD\": \"True\", \"Prediction\": \"True\"}, {\"Age\": 51, \"Sex\": \"M\", \"ChestPainType\": \"ASY\", \"RestingBP\": 130, \"Cholesterol\": 0, \"FastingBS\": 1, \"RestingECG\": \"ST\", \"MaxHR\": 163, \"ExerciseAngina\": \"N\", \"Oldpeak\": 0.0, \"ST_Slope\": \"Flat\", \"HeartDisease\": 1, \"HD\": \"True\", \"Prediction\": \"True\"}, {\"Age\": 65, \"Sex\": \"M\", \"ChestPainType\": \"ASY\", \"RestingBP\": 145, \"Cholesterol\": 0, \"FastingBS\": 1, \"RestingECG\": \"ST\", \"MaxHR\": 67, \"ExerciseAngina\": \"N\", \"Oldpeak\": 0.7, \"ST_Slope\": \"Flat\", \"HeartDisease\": 1, \"HD\": \"True\", \"Prediction\": \"True\"}, {\"Age\": 52, \"Sex\": \"M\", \"ChestPainType\": \"ASY\", \"RestingBP\": 135, \"Cholesterol\": 0, \"FastingBS\": 1, \"RestingECG\": \"Normal\", \"MaxHR\": 128, \"ExerciseAngina\": \"Y\", \"Oldpeak\": 2.0, \"ST_Slope\": \"Flat\", \"HeartDisease\": 1, \"HD\": \"True\", \"Prediction\": \"True\"}, {\"Age\": 47, \"Sex\": \"M\", \"ChestPainType\": \"NAP\", \"RestingBP\": 110, \"Cholesterol\": 0, \"FastingBS\": 1, \"RestingECG\": \"Normal\", \"MaxHR\": 120, \"ExerciseAngina\": \"Y\", \"Oldpeak\": 0.0, \"ST_Slope\": \"Flat\", \"HeartDisease\": 1, \"HD\": \"True\", \"Prediction\": \"True\"}, {\"Age\": 35, \"Sex\": \"M\", \"ChestPainType\": \"ASY\", \"RestingBP\": 120, \"Cholesterol\": 0, \"FastingBS\": 1, \"RestingECG\": \"Normal\", \"MaxHR\": 130, \"ExerciseAngina\": \"Y\", \"Oldpeak\": 1.2, \"ST_Slope\": \"Flat\", \"HeartDisease\": 1, \"HD\": \"True\", \"Prediction\": \"True\"}, {\"Age\": 57, \"Sex\": \"M\", \"ChestPainType\": \"ASY\", \"RestingBP\": 140, \"Cholesterol\": 0, \"FastingBS\": 1, \"RestingECG\": \"Normal\", \"MaxHR\": 100, \"ExerciseAngina\": \"Y\", \"Oldpeak\": 0.0, \"ST_Slope\": \"Flat\", \"HeartDisease\": 1, \"HD\": \"True\", \"Prediction\": \"True\"}, {\"Age\": 62, \"Sex\": \"M\", \"ChestPainType\": \"ASY\", \"RestingBP\": 115, \"Cholesterol\": 0, \"FastingBS\": 1, \"RestingECG\": \"Normal\", \"MaxHR\": 72, \"ExerciseAngina\": \"Y\", \"Oldpeak\": -0.5, \"ST_Slope\": \"Flat\", \"HeartDisease\": 1, \"HD\": \"True\", \"Prediction\": \"True\"}, {\"Age\": 59, \"Sex\": \"M\", \"ChestPainType\": \"ASY\", \"RestingBP\": 110, \"Cholesterol\": 0, \"FastingBS\": 1, \"RestingECG\": \"Normal\", \"MaxHR\": 94, \"ExerciseAngina\": \"N\", \"Oldpeak\": 0.0, \"ST_Slope\": \"Flat\", \"HeartDisease\": 1, \"HD\": \"True\", \"Prediction\": \"True\"}, {\"Age\": 53, \"Sex\": \"M\", \"ChestPainType\": \"NAP\", \"RestingBP\": 160, \"Cholesterol\": 0, \"FastingBS\": 1, \"RestingECG\": \"LVH\", \"MaxHR\": 122, \"ExerciseAngina\": \"Y\", \"Oldpeak\": 0.0, \"ST_Slope\": \"Flat\", \"HeartDisease\": 1, \"HD\": \"True\", \"Prediction\": \"True\"}, {\"Age\": 62, \"Sex\": \"M\", \"ChestPainType\": \"ASY\", \"RestingBP\": 150, \"Cholesterol\": 0, \"FastingBS\": 1, \"RestingECG\": \"ST\", \"MaxHR\": 78, \"ExerciseAngina\": \"N\", \"Oldpeak\": 2.0, \"ST_Slope\": \"Flat\", \"HeartDisease\": 1, \"HD\": \"True\", \"Prediction\": \"True\"}, {\"Age\": 54, \"Sex\": \"M\", \"ChestPainType\": \"ASY\", \"RestingBP\": 180, \"Cholesterol\": 0, \"FastingBS\": 1, \"RestingECG\": \"Normal\", \"MaxHR\": 150, \"ExerciseAngina\": \"N\", \"Oldpeak\": 1.5, \"ST_Slope\": \"Flat\", \"HeartDisease\": 1, \"HD\": \"True\", \"Prediction\": \"True\"}, {\"Age\": 56, \"Sex\": \"M\", \"ChestPainType\": \"ASY\", \"RestingBP\": 125, \"Cholesterol\": 0, \"FastingBS\": 1, \"RestingECG\": \"Normal\", \"MaxHR\": 103, \"ExerciseAngina\": \"Y\", \"Oldpeak\": 1.0, \"ST_Slope\": \"Flat\", \"HeartDisease\": 1, \"HD\": \"True\", \"Prediction\": \"True\"}, {\"Age\": 56, \"Sex\": \"M\", \"ChestPainType\": \"NAP\", \"RestingBP\": 125, \"Cholesterol\": 0, \"FastingBS\": 1, \"RestingECG\": \"Normal\", \"MaxHR\": 98, \"ExerciseAngina\": \"N\", \"Oldpeak\": -2.0, \"ST_Slope\": \"Flat\", \"HeartDisease\": 1, \"HD\": \"True\", \"Prediction\": \"True\"}, {\"Age\": 54, \"Sex\": \"M\", \"ChestPainType\": \"ASY\", \"RestingBP\": 130, \"Cholesterol\": 0, \"FastingBS\": 1, \"RestingECG\": \"Normal\", \"MaxHR\": 110, \"ExerciseAngina\": \"Y\", \"Oldpeak\": 3.0, \"ST_Slope\": \"Flat\", \"HeartDisease\": 1, \"HD\": \"True\", \"Prediction\": \"True\"}, {\"Age\": 66, \"Sex\": \"F\", \"ChestPainType\": \"ASY\", \"RestingBP\": 155, \"Cholesterol\": 0, \"FastingBS\": 1, \"RestingECG\": \"Normal\", \"MaxHR\": 90, \"ExerciseAngina\": \"N\", \"Oldpeak\": 0.0, \"ST_Slope\": \"Flat\", \"HeartDisease\": 1, \"HD\": \"True\", \"Prediction\": \"True\"}, {\"Age\": 63, \"Sex\": \"M\", \"ChestPainType\": \"ASY\", \"RestingBP\": 140, \"Cholesterol\": 260, \"FastingBS\": 0, \"RestingECG\": \"ST\", \"MaxHR\": 112, \"ExerciseAngina\": \"Y\", \"Oldpeak\": 3.0, \"ST_Slope\": \"Flat\", \"HeartDisease\": 1, \"HD\": \"True\", \"Prediction\": \"True\"}, {\"Age\": 44, \"Sex\": \"M\", \"ChestPainType\": \"ASY\", \"RestingBP\": 130, \"Cholesterol\": 209, \"FastingBS\": 0, \"RestingECG\": \"ST\", \"MaxHR\": 127, \"ExerciseAngina\": \"N\", \"Oldpeak\": 0.0, \"ST_Slope\": \"Up\", \"HeartDisease\": 0, \"HD\": \"False\", \"Prediction\": \"False\"}, {\"Age\": 60, \"Sex\": \"M\", \"ChestPainType\": \"ASY\", \"RestingBP\": 132, \"Cholesterol\": 218, \"FastingBS\": 0, \"RestingECG\": \"ST\", \"MaxHR\": 140, \"ExerciseAngina\": \"Y\", \"Oldpeak\": 1.5, \"ST_Slope\": \"Down\", \"HeartDisease\": 1, \"HD\": \"True\", \"Prediction\": \"True\"}, {\"Age\": 55, \"Sex\": \"M\", \"ChestPainType\": \"ASY\", \"RestingBP\": 142, \"Cholesterol\": 228, \"FastingBS\": 0, \"RestingECG\": \"ST\", \"MaxHR\": 149, \"ExerciseAngina\": \"Y\", \"Oldpeak\": 2.5, \"ST_Slope\": \"Up\", \"HeartDisease\": 1, \"HD\": \"True\", \"Prediction\": \"False\"}, {\"Age\": 66, \"Sex\": \"M\", \"ChestPainType\": \"NAP\", \"RestingBP\": 110, \"Cholesterol\": 213, \"FastingBS\": 1, \"RestingECG\": \"LVH\", \"MaxHR\": 99, \"ExerciseAngina\": \"Y\", \"Oldpeak\": 1.3, \"ST_Slope\": \"Flat\", \"HeartDisease\": 0, \"HD\": \"False\", \"Prediction\": \"False\"}, {\"Age\": 66, \"Sex\": \"M\", \"ChestPainType\": \"NAP\", \"RestingBP\": 120, \"Cholesterol\": 0, \"FastingBS\": 0, \"RestingECG\": \"ST\", \"MaxHR\": 120, \"ExerciseAngina\": \"N\", \"Oldpeak\": -0.5, \"ST_Slope\": \"Up\", \"HeartDisease\": 0, \"HD\": \"False\", \"Prediction\": \"True\"}, {\"Age\": 65, \"Sex\": \"M\", \"ChestPainType\": \"ASY\", \"RestingBP\": 150, \"Cholesterol\": 236, \"FastingBS\": 1, \"RestingECG\": \"ST\", \"MaxHR\": 105, \"ExerciseAngina\": \"Y\", \"Oldpeak\": 0.0, \"ST_Slope\": \"Flat\", \"HeartDisease\": 1, \"HD\": \"True\", \"Prediction\": \"True\"}, {\"Age\": 60, \"Sex\": \"M\", \"ChestPainType\": \"NAP\", \"RestingBP\": 180, \"Cholesterol\": 0, \"FastingBS\": 0, \"RestingECG\": \"ST\", \"MaxHR\": 140, \"ExerciseAngina\": \"Y\", \"Oldpeak\": 1.5, \"ST_Slope\": \"Flat\", \"HeartDisease\": 0, \"HD\": \"False\", \"Prediction\": \"True\"}, {\"Age\": 60, \"Sex\": \"M\", \"ChestPainType\": \"NAP\", \"RestingBP\": 120, \"Cholesterol\": 0, \"FastingBS\": 1, \"RestingECG\": \"Normal\", \"MaxHR\": 141, \"ExerciseAngina\": \"Y\", \"Oldpeak\": 2.0, \"ST_Slope\": \"Up\", \"HeartDisease\": 1, \"HD\": \"True\", \"Prediction\": \"True\"}, {\"Age\": 60, \"Sex\": \"M\", \"ChestPainType\": \"ATA\", \"RestingBP\": 160, \"Cholesterol\": 267, \"FastingBS\": 1, \"RestingECG\": \"ST\", \"MaxHR\": 157, \"ExerciseAngina\": \"N\", \"Oldpeak\": 0.5, \"ST_Slope\": \"Flat\", \"HeartDisease\": 1, \"HD\": \"True\", \"Prediction\": \"False\"}, {\"Age\": 56, \"Sex\": \"M\", \"ChestPainType\": \"ATA\", \"RestingBP\": 126, \"Cholesterol\": 166, \"FastingBS\": 0, \"RestingECG\": \"ST\", \"MaxHR\": 140, \"ExerciseAngina\": \"N\", \"Oldpeak\": 0.0, \"ST_Slope\": \"Up\", \"HeartDisease\": 0, \"HD\": \"False\", \"Prediction\": \"False\"}, {\"Age\": 59, \"Sex\": \"M\", \"ChestPainType\": \"ASY\", \"RestingBP\": 140, \"Cholesterol\": 0, \"FastingBS\": 0, \"RestingECG\": \"ST\", \"MaxHR\": 117, \"ExerciseAngina\": \"Y\", \"Oldpeak\": 1.0, \"ST_Slope\": \"Flat\", \"HeartDisease\": 1, \"HD\": \"True\", \"Prediction\": \"True\"}, {\"Age\": 62, \"Sex\": \"M\", \"ChestPainType\": \"ASY\", \"RestingBP\": 110, \"Cholesterol\": 0, \"FastingBS\": 0, \"RestingECG\": \"Normal\", \"MaxHR\": 120, \"ExerciseAngina\": \"Y\", \"Oldpeak\": 0.5, \"ST_Slope\": \"Flat\", \"HeartDisease\": 1, \"HD\": \"True\", \"Prediction\": \"True\"}, {\"Age\": 63, \"Sex\": \"M\", \"ChestPainType\": \"NAP\", \"RestingBP\": 133, \"Cholesterol\": 0, \"FastingBS\": 0, \"RestingECG\": \"LVH\", \"MaxHR\": 120, \"ExerciseAngina\": \"Y\", \"Oldpeak\": 1.0, \"ST_Slope\": \"Flat\", \"HeartDisease\": 1, \"HD\": \"True\", \"Prediction\": \"True\"}, {\"Age\": 57, \"Sex\": \"M\", \"ChestPainType\": \"ASY\", \"RestingBP\": 128, \"Cholesterol\": 0, \"FastingBS\": 1, \"RestingECG\": \"ST\", \"MaxHR\": 148, \"ExerciseAngina\": \"Y\", \"Oldpeak\": 1.0, \"ST_Slope\": \"Flat\", \"HeartDisease\": 1, \"HD\": \"True\", \"Prediction\": \"True\"}, {\"Age\": 62, \"Sex\": \"M\", \"ChestPainType\": \"ASY\", \"RestingBP\": 120, \"Cholesterol\": 220, \"FastingBS\": 0, \"RestingECG\": \"ST\", \"MaxHR\": 86, \"ExerciseAngina\": \"N\", \"Oldpeak\": 0.0, \"ST_Slope\": \"Up\", \"HeartDisease\": 0, \"HD\": \"False\", \"Prediction\": \"False\"}, {\"Age\": 63, \"Sex\": \"M\", \"ChestPainType\": \"ASY\", \"RestingBP\": 170, \"Cholesterol\": 177, \"FastingBS\": 0, \"RestingECG\": \"Normal\", \"MaxHR\": 84, \"ExerciseAngina\": \"Y\", \"Oldpeak\": 2.5, \"ST_Slope\": \"Down\", \"HeartDisease\": 1, \"HD\": \"True\", \"Prediction\": \"True\"}, {\"Age\": 46, \"Sex\": \"M\", \"ChestPainType\": \"ASY\", \"RestingBP\": 110, \"Cholesterol\": 236, \"FastingBS\": 0, \"RestingECG\": \"Normal\", \"MaxHR\": 125, \"ExerciseAngina\": \"Y\", \"Oldpeak\": 2.0, \"ST_Slope\": \"Flat\", \"HeartDisease\": 1, \"HD\": \"True\", \"Prediction\": \"True\"}, {\"Age\": 63, \"Sex\": \"M\", \"ChestPainType\": \"ASY\", \"RestingBP\": 126, \"Cholesterol\": 0, \"FastingBS\": 0, \"RestingECG\": \"ST\", \"MaxHR\": 120, \"ExerciseAngina\": \"N\", \"Oldpeak\": 1.5, \"ST_Slope\": \"Down\", \"HeartDisease\": 0, \"HD\": \"False\", \"Prediction\": \"True\"}, {\"Age\": 60, \"Sex\": \"M\", \"ChestPainType\": \"ASY\", \"RestingBP\": 152, \"Cholesterol\": 0, \"FastingBS\": 0, \"RestingECG\": \"ST\", \"MaxHR\": 118, \"ExerciseAngina\": \"Y\", \"Oldpeak\": 0.0, \"ST_Slope\": \"Up\", \"HeartDisease\": 0, \"HD\": \"False\", \"Prediction\": \"True\"}, {\"Age\": 58, \"Sex\": \"M\", \"ChestPainType\": \"ASY\", \"RestingBP\": 116, \"Cholesterol\": 0, \"FastingBS\": 0, \"RestingECG\": \"Normal\", \"MaxHR\": 124, \"ExerciseAngina\": \"N\", \"Oldpeak\": 1.0, \"ST_Slope\": \"Up\", \"HeartDisease\": 1, \"HD\": \"True\", \"Prediction\": \"True\"}, {\"Age\": 64, \"Sex\": \"M\", \"ChestPainType\": \"ASY\", \"RestingBP\": 120, \"Cholesterol\": 0, \"FastingBS\": 1, \"RestingECG\": \"ST\", \"MaxHR\": 106, \"ExerciseAngina\": \"N\", \"Oldpeak\": 2.0, \"ST_Slope\": \"Flat\", \"HeartDisease\": 1, \"HD\": \"True\", \"Prediction\": \"True\"}, {\"Age\": 63, \"Sex\": \"M\", \"ChestPainType\": \"NAP\", \"RestingBP\": 130, \"Cholesterol\": 0, \"FastingBS\": 0, \"RestingECG\": \"ST\", \"MaxHR\": 111, \"ExerciseAngina\": \"Y\", \"Oldpeak\": 0.0, \"ST_Slope\": \"Flat\", \"HeartDisease\": 1, \"HD\": \"True\", \"Prediction\": \"True\"}, {\"Age\": 74, \"Sex\": \"M\", \"ChestPainType\": \"NAP\", \"RestingBP\": 138, \"Cholesterol\": 0, \"FastingBS\": 0, \"RestingECG\": \"Normal\", \"MaxHR\": 116, \"ExerciseAngina\": \"N\", \"Oldpeak\": 0.2, \"ST_Slope\": \"Up\", \"HeartDisease\": 0, \"HD\": \"False\", \"Prediction\": \"True\"}, {\"Age\": 52, \"Sex\": \"M\", \"ChestPainType\": \"NAP\", \"RestingBP\": 128, \"Cholesterol\": 0, \"FastingBS\": 0, \"RestingECG\": \"ST\", \"MaxHR\": 180, \"ExerciseAngina\": \"N\", \"Oldpeak\": 3.0, \"ST_Slope\": \"Up\", \"HeartDisease\": 1, \"HD\": \"True\", \"Prediction\": \"True\"}, {\"Age\": 69, \"Sex\": \"M\", \"ChestPainType\": \"ASY\", \"RestingBP\": 130, \"Cholesterol\": 0, \"FastingBS\": 1, \"RestingECG\": \"ST\", \"MaxHR\": 129, \"ExerciseAngina\": \"N\", \"Oldpeak\": 1.0, \"ST_Slope\": \"Flat\", \"HeartDisease\": 1, \"HD\": \"True\", \"Prediction\": \"True\"}, {\"Age\": 51, \"Sex\": \"M\", \"ChestPainType\": \"ASY\", \"RestingBP\": 128, \"Cholesterol\": 0, \"FastingBS\": 1, \"RestingECG\": \"ST\", \"MaxHR\": 125, \"ExerciseAngina\": \"Y\", \"Oldpeak\": 1.2, \"ST_Slope\": \"Flat\", \"HeartDisease\": 1, \"HD\": \"True\", \"Prediction\": \"True\"}, {\"Age\": 60, \"Sex\": \"M\", \"ChestPainType\": \"ASY\", \"RestingBP\": 130, \"Cholesterol\": 186, \"FastingBS\": 1, \"RestingECG\": \"ST\", \"MaxHR\": 140, \"ExerciseAngina\": \"Y\", \"Oldpeak\": 0.5, \"ST_Slope\": \"Flat\", \"HeartDisease\": 1, \"HD\": \"True\", \"Prediction\": \"False\"}, {\"Age\": 56, \"Sex\": \"M\", \"ChestPainType\": \"ASY\", \"RestingBP\": 120, \"Cholesterol\": 100, \"FastingBS\": 0, \"RestingECG\": \"Normal\", \"MaxHR\": 120, \"ExerciseAngina\": \"Y\", \"Oldpeak\": 1.5, \"ST_Slope\": \"Flat\", \"HeartDisease\": 1, \"HD\": \"True\", \"Prediction\": \"True\"}, {\"Age\": 55, \"Sex\": \"M\", \"ChestPainType\": \"NAP\", \"RestingBP\": 136, \"Cholesterol\": 228, \"FastingBS\": 0, \"RestingECG\": \"ST\", \"MaxHR\": 124, \"ExerciseAngina\": \"Y\", \"Oldpeak\": 1.6, \"ST_Slope\": \"Flat\", \"HeartDisease\": 1, \"HD\": \"True\", \"Prediction\": \"False\"}, {\"Age\": 54, \"Sex\": \"M\", \"ChestPainType\": \"ASY\", \"RestingBP\": 130, \"Cholesterol\": 0, \"FastingBS\": 0, \"RestingECG\": \"ST\", \"MaxHR\": 117, \"ExerciseAngina\": \"Y\", \"Oldpeak\": 1.4, \"ST_Slope\": \"Flat\", \"HeartDisease\": 1, \"HD\": \"True\", \"Prediction\": \"True\"}, {\"Age\": 77, \"Sex\": \"M\", \"ChestPainType\": \"ASY\", \"RestingBP\": 124, \"Cholesterol\": 171, \"FastingBS\": 0, \"RestingECG\": \"ST\", \"MaxHR\": 110, \"ExerciseAngina\": \"Y\", \"Oldpeak\": 2.0, \"ST_Slope\": \"Up\", \"HeartDisease\": 1, \"HD\": \"True\", \"Prediction\": \"True\"}, {\"Age\": 63, \"Sex\": \"M\", \"ChestPainType\": \"ASY\", \"RestingBP\": 160, \"Cholesterol\": 230, \"FastingBS\": 1, \"RestingECG\": \"Normal\", \"MaxHR\": 105, \"ExerciseAngina\": \"Y\", \"Oldpeak\": 1.0, \"ST_Slope\": \"Flat\", \"HeartDisease\": 1, \"HD\": \"True\", \"Prediction\": \"True\"}, {\"Age\": 55, \"Sex\": \"M\", \"ChestPainType\": \"NAP\", \"RestingBP\": 0, \"Cholesterol\": 0, \"FastingBS\": 0, \"RestingECG\": \"Normal\", \"MaxHR\": 155, \"ExerciseAngina\": \"N\", \"Oldpeak\": 1.5, \"ST_Slope\": \"Flat\", \"HeartDisease\": 1, \"HD\": \"True\", \"Prediction\": \"True\"}, {\"Age\": 52, \"Sex\": \"M\", \"ChestPainType\": \"NAP\", \"RestingBP\": 122, \"Cholesterol\": 0, \"FastingBS\": 0, \"RestingECG\": \"Normal\", \"MaxHR\": 110, \"ExerciseAngina\": \"Y\", \"Oldpeak\": 2.0, \"ST_Slope\": \"Down\", \"HeartDisease\": 1, \"HD\": \"True\", \"Prediction\": \"True\"}, {\"Age\": 64, \"Sex\": \"M\", \"ChestPainType\": \"ASY\", \"RestingBP\": 144, \"Cholesterol\": 0, \"FastingBS\": 0, \"RestingECG\": \"ST\", \"MaxHR\": 122, \"ExerciseAngina\": \"Y\", \"Oldpeak\": 1.0, \"ST_Slope\": \"Flat\", \"HeartDisease\": 1, \"HD\": \"True\", \"Prediction\": \"True\"}, {\"Age\": 60, \"Sex\": \"M\", \"ChestPainType\": \"ASY\", \"RestingBP\": 140, \"Cholesterol\": 281, \"FastingBS\": 0, \"RestingECG\": \"ST\", \"MaxHR\": 118, \"ExerciseAngina\": \"Y\", \"Oldpeak\": 1.5, \"ST_Slope\": \"Flat\", \"HeartDisease\": 1, \"HD\": \"True\", \"Prediction\": \"True\"}, {\"Age\": 60, \"Sex\": \"M\", \"ChestPainType\": \"ASY\", \"RestingBP\": 120, \"Cholesterol\": 0, \"FastingBS\": 0, \"RestingECG\": \"Normal\", \"MaxHR\": 133, \"ExerciseAngina\": \"Y\", \"Oldpeak\": 2.0, \"ST_Slope\": \"Up\", \"HeartDisease\": 0, \"HD\": \"False\", \"Prediction\": \"True\"}, {\"Age\": 58, \"Sex\": \"M\", \"ChestPainType\": \"ASY\", \"RestingBP\": 136, \"Cholesterol\": 203, \"FastingBS\": 1, \"RestingECG\": \"Normal\", \"MaxHR\": 123, \"ExerciseAngina\": \"Y\", \"Oldpeak\": 1.2, \"ST_Slope\": \"Flat\", \"HeartDisease\": 1, \"HD\": \"True\", \"Prediction\": \"True\"}, {\"Age\": 59, \"Sex\": \"M\", \"ChestPainType\": \"ASY\", \"RestingBP\": 154, \"Cholesterol\": 0, \"FastingBS\": 0, \"RestingECG\": \"ST\", \"MaxHR\": 131, \"ExerciseAngina\": \"Y\", \"Oldpeak\": 1.5, \"ST_Slope\": \"Up\", \"HeartDisease\": 0, \"HD\": \"False\", \"Prediction\": \"True\"}, {\"Age\": 61, \"Sex\": \"M\", \"ChestPainType\": \"NAP\", \"RestingBP\": 120, \"Cholesterol\": 0, \"FastingBS\": 0, \"RestingECG\": \"Normal\", \"MaxHR\": 80, \"ExerciseAngina\": \"Y\", \"Oldpeak\": 0.0, \"ST_Slope\": \"Flat\", \"HeartDisease\": 1, \"HD\": \"True\", \"Prediction\": \"True\"}, {\"Age\": 40, \"Sex\": \"M\", \"ChestPainType\": \"ASY\", \"RestingBP\": 125, \"Cholesterol\": 0, \"FastingBS\": 1, \"RestingECG\": \"Normal\", \"MaxHR\": 165, \"ExerciseAngina\": \"N\", \"Oldpeak\": 0.0, \"ST_Slope\": \"Flat\", \"HeartDisease\": 1, \"HD\": \"True\", \"Prediction\": \"True\"}, {\"Age\": 61, \"Sex\": \"M\", \"ChestPainType\": \"ASY\", \"RestingBP\": 134, \"Cholesterol\": 0, \"FastingBS\": 1, \"RestingECG\": \"ST\", \"MaxHR\": 86, \"ExerciseAngina\": \"N\", \"Oldpeak\": 1.5, \"ST_Slope\": \"Flat\", \"HeartDisease\": 1, \"HD\": \"True\", \"Prediction\": \"True\"}, {\"Age\": 41, \"Sex\": \"M\", \"ChestPainType\": \"ASY\", \"RestingBP\": 104, \"Cholesterol\": 0, \"FastingBS\": 0, \"RestingECG\": \"ST\", \"MaxHR\": 111, \"ExerciseAngina\": \"N\", \"Oldpeak\": 0.0, \"ST_Slope\": \"Up\", \"HeartDisease\": 0, \"HD\": \"False\", \"Prediction\": \"True\"}, {\"Age\": 57, \"Sex\": \"M\", \"ChestPainType\": \"ASY\", \"RestingBP\": 139, \"Cholesterol\": 277, \"FastingBS\": 1, \"RestingECG\": \"ST\", \"MaxHR\": 118, \"ExerciseAngina\": \"Y\", \"Oldpeak\": 1.9, \"ST_Slope\": \"Flat\", \"HeartDisease\": 1, \"HD\": \"True\", \"Prediction\": \"True\"}, {\"Age\": 63, \"Sex\": \"M\", \"ChestPainType\": \"ASY\", \"RestingBP\": 136, \"Cholesterol\": 0, \"FastingBS\": 0, \"RestingECG\": \"Normal\", \"MaxHR\": 84, \"ExerciseAngina\": \"Y\", \"Oldpeak\": 0.0, \"ST_Slope\": \"Flat\", \"HeartDisease\": 1, \"HD\": \"True\", \"Prediction\": \"True\"}, {\"Age\": 59, \"Sex\": \"M\", \"ChestPainType\": \"ASY\", \"RestingBP\": 122, \"Cholesterol\": 233, \"FastingBS\": 0, \"RestingECG\": \"Normal\", \"MaxHR\": 117, \"ExerciseAngina\": \"Y\", \"Oldpeak\": 1.3, \"ST_Slope\": \"Down\", \"HeartDisease\": 1, \"HD\": \"True\", \"Prediction\": \"True\"}, {\"Age\": 51, \"Sex\": \"M\", \"ChestPainType\": \"ASY\", \"RestingBP\": 128, \"Cholesterol\": 0, \"FastingBS\": 0, \"RestingECG\": \"Normal\", \"MaxHR\": 107, \"ExerciseAngina\": \"N\", \"Oldpeak\": 0.0, \"ST_Slope\": \"Up\", \"HeartDisease\": 0, \"HD\": \"False\", \"Prediction\": \"True\"}, {\"Age\": 59, \"Sex\": \"M\", \"ChestPainType\": \"NAP\", \"RestingBP\": 131, \"Cholesterol\": 0, \"FastingBS\": 0, \"RestingECG\": \"Normal\", \"MaxHR\": 128, \"ExerciseAngina\": \"Y\", \"Oldpeak\": 2.0, \"ST_Slope\": \"Down\", \"HeartDisease\": 1, \"HD\": \"True\", \"Prediction\": \"True\"}, {\"Age\": 42, \"Sex\": \"M\", \"ChestPainType\": \"NAP\", \"RestingBP\": 134, \"Cholesterol\": 240, \"FastingBS\": 0, \"RestingECG\": \"Normal\", \"MaxHR\": 160, \"ExerciseAngina\": \"N\", \"Oldpeak\": 0.0, \"ST_Slope\": \"Up\", \"HeartDisease\": 0, \"HD\": \"False\", \"Prediction\": \"False\"}, {\"Age\": 55, \"Sex\": \"M\", \"ChestPainType\": \"NAP\", \"RestingBP\": 120, \"Cholesterol\": 0, \"FastingBS\": 0, \"RestingECG\": \"ST\", \"MaxHR\": 125, \"ExerciseAngina\": \"Y\", \"Oldpeak\": 2.5, \"ST_Slope\": \"Flat\", \"HeartDisease\": 1, \"HD\": \"True\", \"Prediction\": \"True\"}, {\"Age\": 63, \"Sex\": \"F\", \"ChestPainType\": \"ATA\", \"RestingBP\": 132, \"Cholesterol\": 0, \"FastingBS\": 0, \"RestingECG\": \"Normal\", \"MaxHR\": 130, \"ExerciseAngina\": \"N\", \"Oldpeak\": 0.1, \"ST_Slope\": \"Up\", \"HeartDisease\": 0, \"HD\": \"False\", \"Prediction\": \"True\"}, {\"Age\": 62, \"Sex\": \"M\", \"ChestPainType\": \"ASY\", \"RestingBP\": 152, \"Cholesterol\": 153, \"FastingBS\": 0, \"RestingECG\": \"ST\", \"MaxHR\": 97, \"ExerciseAngina\": \"Y\", \"Oldpeak\": 1.6, \"ST_Slope\": \"Up\", \"HeartDisease\": 1, \"HD\": \"True\", \"Prediction\": \"True\"}, {\"Age\": 56, \"Sex\": \"M\", \"ChestPainType\": \"ATA\", \"RestingBP\": 124, \"Cholesterol\": 224, \"FastingBS\": 1, \"RestingECG\": \"Normal\", \"MaxHR\": 161, \"ExerciseAngina\": \"N\", \"Oldpeak\": 2.0, \"ST_Slope\": \"Flat\", \"HeartDisease\": 0, \"HD\": \"False\", \"Prediction\": \"True\"}, {\"Age\": 53, \"Sex\": \"M\", \"ChestPainType\": \"ASY\", \"RestingBP\": 126, \"Cholesterol\": 0, \"FastingBS\": 0, \"RestingECG\": \"Normal\", \"MaxHR\": 106, \"ExerciseAngina\": \"N\", \"Oldpeak\": 0.0, \"ST_Slope\": \"Flat\", \"HeartDisease\": 1, \"HD\": \"True\", \"Prediction\": \"True\"}, {\"Age\": 68, \"Sex\": \"M\", \"ChestPainType\": \"ASY\", \"RestingBP\": 138, \"Cholesterol\": 0, \"FastingBS\": 0, \"RestingECG\": \"Normal\", \"MaxHR\": 130, \"ExerciseAngina\": \"Y\", \"Oldpeak\": 3.0, \"ST_Slope\": \"Flat\", \"HeartDisease\": 1, \"HD\": \"True\", \"Prediction\": \"True\"}, {\"Age\": 53, \"Sex\": \"M\", \"ChestPainType\": \"ASY\", \"RestingBP\": 154, \"Cholesterol\": 0, \"FastingBS\": 1, \"RestingECG\": \"ST\", \"MaxHR\": 140, \"ExerciseAngina\": \"Y\", \"Oldpeak\": 1.5, \"ST_Slope\": \"Flat\", \"HeartDisease\": 1, \"HD\": \"True\", \"Prediction\": \"True\"}, {\"Age\": 60, \"Sex\": \"M\", \"ChestPainType\": \"NAP\", \"RestingBP\": 141, \"Cholesterol\": 316, \"FastingBS\": 1, \"RestingECG\": \"ST\", \"MaxHR\": 122, \"ExerciseAngina\": \"Y\", \"Oldpeak\": 1.7, \"ST_Slope\": \"Flat\", \"HeartDisease\": 1, \"HD\": \"True\", \"Prediction\": \"True\"}, {\"Age\": 62, \"Sex\": \"M\", \"ChestPainType\": \"ATA\", \"RestingBP\": 131, \"Cholesterol\": 0, \"FastingBS\": 0, \"RestingECG\": \"Normal\", \"MaxHR\": 130, \"ExerciseAngina\": \"N\", \"Oldpeak\": 0.1, \"ST_Slope\": \"Up\", \"HeartDisease\": 0, \"HD\": \"False\", \"Prediction\": \"True\"}, {\"Age\": 59, \"Sex\": \"M\", \"ChestPainType\": \"ASY\", \"RestingBP\": 178, \"Cholesterol\": 0, \"FastingBS\": 1, \"RestingECG\": \"LVH\", \"MaxHR\": 120, \"ExerciseAngina\": \"Y\", \"Oldpeak\": 0.0, \"ST_Slope\": \"Flat\", \"HeartDisease\": 1, \"HD\": \"True\", \"Prediction\": \"True\"}, {\"Age\": 51, \"Sex\": \"M\", \"ChestPainType\": \"ASY\", \"RestingBP\": 132, \"Cholesterol\": 218, \"FastingBS\": 1, \"RestingECG\": \"LVH\", \"MaxHR\": 139, \"ExerciseAngina\": \"N\", \"Oldpeak\": 0.1, \"ST_Slope\": \"Up\", \"HeartDisease\": 0, \"HD\": \"False\", \"Prediction\": \"False\"}, {\"Age\": 61, \"Sex\": \"M\", \"ChestPainType\": \"ASY\", \"RestingBP\": 110, \"Cholesterol\": 0, \"FastingBS\": 1, \"RestingECG\": \"Normal\", \"MaxHR\": 108, \"ExerciseAngina\": \"Y\", \"Oldpeak\": 2.0, \"ST_Slope\": \"Down\", \"HeartDisease\": 1, \"HD\": \"True\", \"Prediction\": \"True\"}, {\"Age\": 57, \"Sex\": \"M\", \"ChestPainType\": \"ASY\", \"RestingBP\": 130, \"Cholesterol\": 311, \"FastingBS\": 1, \"RestingECG\": \"ST\", \"MaxHR\": 148, \"ExerciseAngina\": \"Y\", \"Oldpeak\": 2.0, \"ST_Slope\": \"Flat\", \"HeartDisease\": 1, \"HD\": \"True\", \"Prediction\": \"False\"}, {\"Age\": 56, \"Sex\": \"M\", \"ChestPainType\": \"NAP\", \"RestingBP\": 170, \"Cholesterol\": 0, \"FastingBS\": 0, \"RestingECG\": \"LVH\", \"MaxHR\": 123, \"ExerciseAngina\": \"Y\", \"Oldpeak\": 2.5, \"ST_Slope\": \"Flat\", \"HeartDisease\": 1, \"HD\": \"True\", \"Prediction\": \"True\"}, {\"Age\": 58, \"Sex\": \"M\", \"ChestPainType\": \"ATA\", \"RestingBP\": 126, \"Cholesterol\": 0, \"FastingBS\": 1, \"RestingECG\": \"Normal\", \"MaxHR\": 110, \"ExerciseAngina\": \"Y\", \"Oldpeak\": 2.0, \"ST_Slope\": \"Flat\", \"HeartDisease\": 1, \"HD\": \"True\", \"Prediction\": \"True\"}, {\"Age\": 69, \"Sex\": \"M\", \"ChestPainType\": \"NAP\", \"RestingBP\": 140, \"Cholesterol\": 0, \"FastingBS\": 1, \"RestingECG\": \"ST\", \"MaxHR\": 118, \"ExerciseAngina\": \"N\", \"Oldpeak\": 2.5, \"ST_Slope\": \"Down\", \"HeartDisease\": 1, \"HD\": \"True\", \"Prediction\": \"True\"}, {\"Age\": 67, \"Sex\": \"M\", \"ChestPainType\": \"TA\", \"RestingBP\": 142, \"Cholesterol\": 270, \"FastingBS\": 1, \"RestingECG\": \"Normal\", \"MaxHR\": 125, \"ExerciseAngina\": \"N\", \"Oldpeak\": 2.5, \"ST_Slope\": \"Up\", \"HeartDisease\": 1, \"HD\": \"True\", \"Prediction\": \"True\"}, {\"Age\": 58, \"Sex\": \"M\", \"ChestPainType\": \"ASY\", \"RestingBP\": 120, \"Cholesterol\": 0, \"FastingBS\": 0, \"RestingECG\": \"LVH\", \"MaxHR\": 106, \"ExerciseAngina\": \"Y\", \"Oldpeak\": 1.5, \"ST_Slope\": \"Down\", \"HeartDisease\": 1, \"HD\": \"True\", \"Prediction\": \"True\"}, {\"Age\": 65, \"Sex\": \"M\", \"ChestPainType\": \"ASY\", \"RestingBP\": 134, \"Cholesterol\": 0, \"FastingBS\": 0, \"RestingECG\": \"Normal\", \"MaxHR\": 112, \"ExerciseAngina\": \"Y\", \"Oldpeak\": 1.1, \"ST_Slope\": \"Flat\", \"HeartDisease\": 1, \"HD\": \"True\", \"Prediction\": \"True\"}, {\"Age\": 63, \"Sex\": \"M\", \"ChestPainType\": \"ATA\", \"RestingBP\": 139, \"Cholesterol\": 217, \"FastingBS\": 1, \"RestingECG\": \"ST\", \"MaxHR\": 128, \"ExerciseAngina\": \"Y\", \"Oldpeak\": 1.2, \"ST_Slope\": \"Flat\", \"HeartDisease\": 1, \"HD\": \"True\", \"Prediction\": \"True\"}, {\"Age\": 55, \"Sex\": \"M\", \"ChestPainType\": \"ATA\", \"RestingBP\": 110, \"Cholesterol\": 214, \"FastingBS\": 1, \"RestingECG\": \"ST\", \"MaxHR\": 180, \"ExerciseAngina\": \"N\", \"Oldpeak\": 0.4, \"ST_Slope\": \"Up\", \"HeartDisease\": 0, \"HD\": \"False\", \"Prediction\": \"False\"}, {\"Age\": 57, \"Sex\": \"M\", \"ChestPainType\": \"ASY\", \"RestingBP\": 140, \"Cholesterol\": 214, \"FastingBS\": 0, \"RestingECG\": \"ST\", \"MaxHR\": 144, \"ExerciseAngina\": \"Y\", \"Oldpeak\": 2.0, \"ST_Slope\": \"Flat\", \"HeartDisease\": 1, \"HD\": \"True\", \"Prediction\": \"True\"}, {\"Age\": 65, \"Sex\": \"M\", \"ChestPainType\": \"TA\", \"RestingBP\": 140, \"Cholesterol\": 252, \"FastingBS\": 0, \"RestingECG\": \"Normal\", \"MaxHR\": 135, \"ExerciseAngina\": \"N\", \"Oldpeak\": 0.3, \"ST_Slope\": \"Up\", \"HeartDisease\": 0, \"HD\": \"False\", \"Prediction\": \"True\"}, {\"Age\": 54, \"Sex\": \"M\", \"ChestPainType\": \"ASY\", \"RestingBP\": 136, \"Cholesterol\": 220, \"FastingBS\": 0, \"RestingECG\": \"Normal\", \"MaxHR\": 140, \"ExerciseAngina\": \"Y\", \"Oldpeak\": 3.0, \"ST_Slope\": \"Flat\", \"HeartDisease\": 1, \"HD\": \"True\", \"Prediction\": \"False\"}, {\"Age\": 72, \"Sex\": \"M\", \"ChestPainType\": \"NAP\", \"RestingBP\": 120, \"Cholesterol\": 214, \"FastingBS\": 0, \"RestingECG\": \"Normal\", \"MaxHR\": 102, \"ExerciseAngina\": \"Y\", \"Oldpeak\": 1.0, \"ST_Slope\": \"Flat\", \"HeartDisease\": 1, \"HD\": \"True\", \"Prediction\": \"False\"}, {\"Age\": 75, \"Sex\": \"M\", \"ChestPainType\": \"ASY\", \"RestingBP\": 170, \"Cholesterol\": 203, \"FastingBS\": 1, \"RestingECG\": \"ST\", \"MaxHR\": 108, \"ExerciseAngina\": \"N\", \"Oldpeak\": 0.0, \"ST_Slope\": \"Flat\", \"HeartDisease\": 1, \"HD\": \"True\", \"Prediction\": \"True\"}, {\"Age\": 49, \"Sex\": \"M\", \"ChestPainType\": \"TA\", \"RestingBP\": 130, \"Cholesterol\": 0, \"FastingBS\": 0, \"RestingECG\": \"ST\", \"MaxHR\": 145, \"ExerciseAngina\": \"N\", \"Oldpeak\": 3.0, \"ST_Slope\": \"Flat\", \"HeartDisease\": 1, \"HD\": \"True\", \"Prediction\": \"True\"}, {\"Age\": 51, \"Sex\": \"M\", \"ChestPainType\": \"NAP\", \"RestingBP\": 137, \"Cholesterol\": 339, \"FastingBS\": 0, \"RestingECG\": \"Normal\", \"MaxHR\": 127, \"ExerciseAngina\": \"Y\", \"Oldpeak\": 1.7, \"ST_Slope\": \"Flat\", \"HeartDisease\": 1, \"HD\": \"True\", \"Prediction\": \"True\"}, {\"Age\": 60, \"Sex\": \"M\", \"ChestPainType\": \"ASY\", \"RestingBP\": 142, \"Cholesterol\": 216, \"FastingBS\": 0, \"RestingECG\": \"Normal\", \"MaxHR\": 110, \"ExerciseAngina\": \"Y\", \"Oldpeak\": 2.5, \"ST_Slope\": \"Flat\", \"HeartDisease\": 1, \"HD\": \"True\", \"Prediction\": \"True\"}, {\"Age\": 64, \"Sex\": \"F\", \"ChestPainType\": \"ASY\", \"RestingBP\": 142, \"Cholesterol\": 276, \"FastingBS\": 0, \"RestingECG\": \"Normal\", \"MaxHR\": 140, \"ExerciseAngina\": \"Y\", \"Oldpeak\": 1.0, \"ST_Slope\": \"Flat\", \"HeartDisease\": 1, \"HD\": \"True\", \"Prediction\": \"False\"}, {\"Age\": 58, \"Sex\": \"M\", \"ChestPainType\": \"ASY\", \"RestingBP\": 132, \"Cholesterol\": 458, \"FastingBS\": 1, \"RestingECG\": \"Normal\", \"MaxHR\": 69, \"ExerciseAngina\": \"N\", \"Oldpeak\": 1.0, \"ST_Slope\": \"Down\", \"HeartDisease\": 0, \"HD\": \"False\", \"Prediction\": \"True\"}, {\"Age\": 61, \"Sex\": \"M\", \"ChestPainType\": \"ASY\", \"RestingBP\": 146, \"Cholesterol\": 241, \"FastingBS\": 0, \"RestingECG\": \"Normal\", \"MaxHR\": 148, \"ExerciseAngina\": \"Y\", \"Oldpeak\": 3.0, \"ST_Slope\": \"Down\", \"HeartDisease\": 1, \"HD\": \"True\", \"Prediction\": \"False\"}, {\"Age\": 67, \"Sex\": \"M\", \"ChestPainType\": \"ASY\", \"RestingBP\": 160, \"Cholesterol\": 384, \"FastingBS\": 1, \"RestingECG\": \"ST\", \"MaxHR\": 130, \"ExerciseAngina\": \"Y\", \"Oldpeak\": 0.0, \"ST_Slope\": \"Flat\", \"HeartDisease\": 1, \"HD\": \"True\", \"Prediction\": \"True\"}, {\"Age\": 62, \"Sex\": \"M\", \"ChestPainType\": \"ASY\", \"RestingBP\": 135, \"Cholesterol\": 297, \"FastingBS\": 0, \"RestingECG\": \"Normal\", \"MaxHR\": 130, \"ExerciseAngina\": \"Y\", \"Oldpeak\": 1.0, \"ST_Slope\": \"Flat\", \"HeartDisease\": 1, \"HD\": \"True\", \"Prediction\": \"True\"}, {\"Age\": 65, \"Sex\": \"M\", \"ChestPainType\": \"ASY\", \"RestingBP\": 136, \"Cholesterol\": 248, \"FastingBS\": 0, \"RestingECG\": \"Normal\", \"MaxHR\": 140, \"ExerciseAngina\": \"Y\", \"Oldpeak\": 4.0, \"ST_Slope\": \"Down\", \"HeartDisease\": 1, \"HD\": \"True\", \"Prediction\": \"True\"}, {\"Age\": 63, \"Sex\": \"M\", \"ChestPainType\": \"ASY\", \"RestingBP\": 130, \"Cholesterol\": 308, \"FastingBS\": 0, \"RestingECG\": \"Normal\", \"MaxHR\": 138, \"ExerciseAngina\": \"Y\", \"Oldpeak\": 2.0, \"ST_Slope\": \"Flat\", \"HeartDisease\": 1, \"HD\": \"True\", \"Prediction\": \"False\"}, {\"Age\": 69, \"Sex\": \"M\", \"ChestPainType\": \"ASY\", \"RestingBP\": 140, \"Cholesterol\": 208, \"FastingBS\": 0, \"RestingECG\": \"ST\", \"MaxHR\": 140, \"ExerciseAngina\": \"Y\", \"Oldpeak\": 2.0, \"ST_Slope\": \"Flat\", \"HeartDisease\": 1, \"HD\": \"True\", \"Prediction\": \"True\"}, {\"Age\": 51, \"Sex\": \"M\", \"ChestPainType\": \"ASY\", \"RestingBP\": 132, \"Cholesterol\": 227, \"FastingBS\": 1, \"RestingECG\": \"ST\", \"MaxHR\": 138, \"ExerciseAngina\": \"N\", \"Oldpeak\": 0.2, \"ST_Slope\": \"Up\", \"HeartDisease\": 0, \"HD\": \"False\", \"Prediction\": \"False\"}, {\"Age\": 62, \"Sex\": \"M\", \"ChestPainType\": \"ASY\", \"RestingBP\": 158, \"Cholesterol\": 210, \"FastingBS\": 1, \"RestingECG\": \"Normal\", \"MaxHR\": 112, \"ExerciseAngina\": \"Y\", \"Oldpeak\": 3.0, \"ST_Slope\": \"Down\", \"HeartDisease\": 1, \"HD\": \"True\", \"Prediction\": \"True\"}, {\"Age\": 55, \"Sex\": \"M\", \"ChestPainType\": \"NAP\", \"RestingBP\": 136, \"Cholesterol\": 245, \"FastingBS\": 1, \"RestingECG\": \"ST\", \"MaxHR\": 131, \"ExerciseAngina\": \"Y\", \"Oldpeak\": 1.2, \"ST_Slope\": \"Flat\", \"HeartDisease\": 1, \"HD\": \"True\", \"Prediction\": \"True\"}, {\"Age\": 75, \"Sex\": \"M\", \"ChestPainType\": \"ASY\", \"RestingBP\": 136, \"Cholesterol\": 225, \"FastingBS\": 0, \"RestingECG\": \"Normal\", \"MaxHR\": 112, \"ExerciseAngina\": \"Y\", \"Oldpeak\": 3.0, \"ST_Slope\": \"Flat\", \"HeartDisease\": 1, \"HD\": \"True\", \"Prediction\": \"True\"}, {\"Age\": 40, \"Sex\": \"M\", \"ChestPainType\": \"NAP\", \"RestingBP\": 106, \"Cholesterol\": 240, \"FastingBS\": 0, \"RestingECG\": \"Normal\", \"MaxHR\": 80, \"ExerciseAngina\": \"Y\", \"Oldpeak\": 0.0, \"ST_Slope\": \"Up\", \"HeartDisease\": 0, \"HD\": \"False\", \"Prediction\": \"False\"}, {\"Age\": 67, \"Sex\": \"M\", \"ChestPainType\": \"ASY\", \"RestingBP\": 120, \"Cholesterol\": 0, \"FastingBS\": 1, \"RestingECG\": \"Normal\", \"MaxHR\": 150, \"ExerciseAngina\": \"N\", \"Oldpeak\": 1.5, \"ST_Slope\": \"Down\", \"HeartDisease\": 1, \"HD\": \"True\", \"Prediction\": \"True\"}, {\"Age\": 58, \"Sex\": \"M\", \"ChestPainType\": \"ASY\", \"RestingBP\": 110, \"Cholesterol\": 198, \"FastingBS\": 0, \"RestingECG\": \"Normal\", \"MaxHR\": 110, \"ExerciseAngina\": \"N\", \"Oldpeak\": 0.0, \"ST_Slope\": \"Flat\", \"HeartDisease\": 1, \"HD\": \"True\", \"Prediction\": \"False\"}, {\"Age\": 60, \"Sex\": \"M\", \"ChestPainType\": \"ASY\", \"RestingBP\": 136, \"Cholesterol\": 195, \"FastingBS\": 0, \"RestingECG\": \"Normal\", \"MaxHR\": 126, \"ExerciseAngina\": \"N\", \"Oldpeak\": 0.3, \"ST_Slope\": \"Up\", \"HeartDisease\": 0, \"HD\": \"False\", \"Prediction\": \"False\"}, {\"Age\": 63, \"Sex\": \"M\", \"ChestPainType\": \"ASY\", \"RestingBP\": 160, \"Cholesterol\": 267, \"FastingBS\": 1, \"RestingECG\": \"ST\", \"MaxHR\": 88, \"ExerciseAngina\": \"Y\", \"Oldpeak\": 2.0, \"ST_Slope\": \"Flat\", \"HeartDisease\": 1, \"HD\": \"True\", \"Prediction\": \"True\"}, {\"Age\": 35, \"Sex\": \"M\", \"ChestPainType\": \"NAP\", \"RestingBP\": 123, \"Cholesterol\": 161, \"FastingBS\": 0, \"RestingECG\": \"ST\", \"MaxHR\": 153, \"ExerciseAngina\": \"N\", \"Oldpeak\": -0.1, \"ST_Slope\": \"Up\", \"HeartDisease\": 0, \"HD\": \"False\", \"Prediction\": \"False\"}, {\"Age\": 62, \"Sex\": \"M\", \"ChestPainType\": \"TA\", \"RestingBP\": 112, \"Cholesterol\": 258, \"FastingBS\": 0, \"RestingECG\": \"ST\", \"MaxHR\": 150, \"ExerciseAngina\": \"Y\", \"Oldpeak\": 1.3, \"ST_Slope\": \"Flat\", \"HeartDisease\": 1, \"HD\": \"True\", \"Prediction\": \"True\"}, {\"Age\": 43, \"Sex\": \"M\", \"ChestPainType\": \"ASY\", \"RestingBP\": 122, \"Cholesterol\": 0, \"FastingBS\": 0, \"RestingECG\": \"Normal\", \"MaxHR\": 120, \"ExerciseAngina\": \"N\", \"Oldpeak\": 0.5, \"ST_Slope\": \"Up\", \"HeartDisease\": 1, \"HD\": \"True\", \"Prediction\": \"True\"}, {\"Age\": 63, \"Sex\": \"M\", \"ChestPainType\": \"NAP\", \"RestingBP\": 130, \"Cholesterol\": 0, \"FastingBS\": 1, \"RestingECG\": \"ST\", \"MaxHR\": 160, \"ExerciseAngina\": \"N\", \"Oldpeak\": 3.0, \"ST_Slope\": \"Flat\", \"HeartDisease\": 0, \"HD\": \"False\", \"Prediction\": \"True\"}, {\"Age\": 68, \"Sex\": \"M\", \"ChestPainType\": \"NAP\", \"RestingBP\": 150, \"Cholesterol\": 195, \"FastingBS\": 1, \"RestingECG\": \"Normal\", \"MaxHR\": 132, \"ExerciseAngina\": \"N\", \"Oldpeak\": 0.0, \"ST_Slope\": \"Flat\", \"HeartDisease\": 1, \"HD\": \"True\", \"Prediction\": \"True\"}, {\"Age\": 65, \"Sex\": \"M\", \"ChestPainType\": \"ASY\", \"RestingBP\": 150, \"Cholesterol\": 235, \"FastingBS\": 0, \"RestingECG\": \"Normal\", \"MaxHR\": 120, \"ExerciseAngina\": \"Y\", \"Oldpeak\": 1.5, \"ST_Slope\": \"Flat\", \"HeartDisease\": 1, \"HD\": \"True\", \"Prediction\": \"True\"}, {\"Age\": 48, \"Sex\": \"M\", \"ChestPainType\": \"NAP\", \"RestingBP\": 102, \"Cholesterol\": 0, \"FastingBS\": 1, \"RestingECG\": \"ST\", \"MaxHR\": 110, \"ExerciseAngina\": \"Y\", \"Oldpeak\": 1.0, \"ST_Slope\": \"Down\", \"HeartDisease\": 1, \"HD\": \"True\", \"Prediction\": \"True\"}, {\"Age\": 63, \"Sex\": \"M\", \"ChestPainType\": \"ASY\", \"RestingBP\": 96, \"Cholesterol\": 305, \"FastingBS\": 0, \"RestingECG\": \"ST\", \"MaxHR\": 121, \"ExerciseAngina\": \"Y\", \"Oldpeak\": 1.0, \"ST_Slope\": \"Up\", \"HeartDisease\": 1, \"HD\": \"True\", \"Prediction\": \"False\"}, {\"Age\": 64, \"Sex\": \"M\", \"ChestPainType\": \"ASY\", \"RestingBP\": 130, \"Cholesterol\": 223, \"FastingBS\": 0, \"RestingECG\": \"ST\", \"MaxHR\": 128, \"ExerciseAngina\": \"N\", \"Oldpeak\": 0.5, \"ST_Slope\": \"Flat\", \"HeartDisease\": 0, \"HD\": \"False\", \"Prediction\": \"True\"}, {\"Age\": 61, \"Sex\": \"M\", \"ChestPainType\": \"ASY\", \"RestingBP\": 120, \"Cholesterol\": 282, \"FastingBS\": 0, \"RestingECG\": \"ST\", \"MaxHR\": 135, \"ExerciseAngina\": \"Y\", \"Oldpeak\": 4.0, \"ST_Slope\": \"Down\", \"HeartDisease\": 1, \"HD\": \"True\", \"Prediction\": \"False\"}, {\"Age\": 50, \"Sex\": \"M\", \"ChestPainType\": \"ASY\", \"RestingBP\": 144, \"Cholesterol\": 349, \"FastingBS\": 0, \"RestingECG\": \"LVH\", \"MaxHR\": 120, \"ExerciseAngina\": \"Y\", \"Oldpeak\": 1.0, \"ST_Slope\": \"Up\", \"HeartDisease\": 1, \"HD\": \"True\", \"Prediction\": \"True\"}, {\"Age\": 59, \"Sex\": \"M\", \"ChestPainType\": \"ASY\", \"RestingBP\": 124, \"Cholesterol\": 160, \"FastingBS\": 0, \"RestingECG\": \"Normal\", \"MaxHR\": 117, \"ExerciseAngina\": \"Y\", \"Oldpeak\": 1.0, \"ST_Slope\": \"Flat\", \"HeartDisease\": 1, \"HD\": \"True\", \"Prediction\": \"True\"}, {\"Age\": 55, \"Sex\": \"M\", \"ChestPainType\": \"ASY\", \"RestingBP\": 150, \"Cholesterol\": 160, \"FastingBS\": 0, \"RestingECG\": \"ST\", \"MaxHR\": 150, \"ExerciseAngina\": \"N\", \"Oldpeak\": 0.0, \"ST_Slope\": \"Up\", \"HeartDisease\": 0, \"HD\": \"False\", \"Prediction\": \"False\"}, {\"Age\": 45, \"Sex\": \"M\", \"ChestPainType\": \"NAP\", \"RestingBP\": 130, \"Cholesterol\": 236, \"FastingBS\": 0, \"RestingECG\": \"Normal\", \"MaxHR\": 144, \"ExerciseAngina\": \"N\", \"Oldpeak\": 0.1, \"ST_Slope\": \"Up\", \"HeartDisease\": 0, \"HD\": \"False\", \"Prediction\": \"False\"}, {\"Age\": 65, \"Sex\": \"M\", \"ChestPainType\": \"ASY\", \"RestingBP\": 144, \"Cholesterol\": 312, \"FastingBS\": 0, \"RestingECG\": \"LVH\", \"MaxHR\": 113, \"ExerciseAngina\": \"Y\", \"Oldpeak\": 1.7, \"ST_Slope\": \"Flat\", \"HeartDisease\": 1, \"HD\": \"True\", \"Prediction\": \"True\"}, {\"Age\": 61, \"Sex\": \"M\", \"ChestPainType\": \"ATA\", \"RestingBP\": 139, \"Cholesterol\": 283, \"FastingBS\": 0, \"RestingECG\": \"Normal\", \"MaxHR\": 135, \"ExerciseAngina\": \"N\", \"Oldpeak\": 0.3, \"ST_Slope\": \"Up\", \"HeartDisease\": 0, \"HD\": \"False\", \"Prediction\": \"True\"}, {\"Age\": 49, \"Sex\": \"M\", \"ChestPainType\": \"NAP\", \"RestingBP\": 131, \"Cholesterol\": 142, \"FastingBS\": 0, \"RestingECG\": \"Normal\", \"MaxHR\": 127, \"ExerciseAngina\": \"Y\", \"Oldpeak\": 1.5, \"ST_Slope\": \"Flat\", \"HeartDisease\": 1, \"HD\": \"True\", \"Prediction\": \"True\"}, {\"Age\": 72, \"Sex\": \"M\", \"ChestPainType\": \"ASY\", \"RestingBP\": 143, \"Cholesterol\": 211, \"FastingBS\": 0, \"RestingECG\": \"Normal\", \"MaxHR\": 109, \"ExerciseAngina\": \"Y\", \"Oldpeak\": 1.4, \"ST_Slope\": \"Flat\", \"HeartDisease\": 1, \"HD\": \"True\", \"Prediction\": \"True\"}, {\"Age\": 50, \"Sex\": \"M\", \"ChestPainType\": \"ASY\", \"RestingBP\": 133, \"Cholesterol\": 218, \"FastingBS\": 0, \"RestingECG\": \"Normal\", \"MaxHR\": 128, \"ExerciseAngina\": \"Y\", \"Oldpeak\": 1.1, \"ST_Slope\": \"Flat\", \"HeartDisease\": 1, \"HD\": \"True\", \"Prediction\": \"False\"}, {\"Age\": 64, \"Sex\": \"M\", \"ChestPainType\": \"ASY\", \"RestingBP\": 143, \"Cholesterol\": 306, \"FastingBS\": 1, \"RestingECG\": \"ST\", \"MaxHR\": 115, \"ExerciseAngina\": \"Y\", \"Oldpeak\": 1.8, \"ST_Slope\": \"Flat\", \"HeartDisease\": 1, \"HD\": \"True\", \"Prediction\": \"True\"}, {\"Age\": 55, \"Sex\": \"M\", \"ChestPainType\": \"ASY\", \"RestingBP\": 116, \"Cholesterol\": 186, \"FastingBS\": 1, \"RestingECG\": \"ST\", \"MaxHR\": 102, \"ExerciseAngina\": \"N\", \"Oldpeak\": 0.0, \"ST_Slope\": \"Flat\", \"HeartDisease\": 1, \"HD\": \"True\", \"Prediction\": \"True\"}, {\"Age\": 63, \"Sex\": \"M\", \"ChestPainType\": \"ASY\", \"RestingBP\": 110, \"Cholesterol\": 252, \"FastingBS\": 0, \"RestingECG\": \"ST\", \"MaxHR\": 140, \"ExerciseAngina\": \"Y\", \"Oldpeak\": 2.0, \"ST_Slope\": \"Flat\", \"HeartDisease\": 1, \"HD\": \"True\", \"Prediction\": \"True\"}, {\"Age\": 59, \"Sex\": \"M\", \"ChestPainType\": \"ASY\", \"RestingBP\": 125, \"Cholesterol\": 222, \"FastingBS\": 0, \"RestingECG\": \"Normal\", \"MaxHR\": 135, \"ExerciseAngina\": \"Y\", \"Oldpeak\": 2.5, \"ST_Slope\": \"Down\", \"HeartDisease\": 1, \"HD\": \"True\", \"Prediction\": \"False\"}, {\"Age\": 56, \"Sex\": \"M\", \"ChestPainType\": \"ASY\", \"RestingBP\": 130, \"Cholesterol\": 0, \"FastingBS\": 0, \"RestingECG\": \"LVH\", \"MaxHR\": 122, \"ExerciseAngina\": \"Y\", \"Oldpeak\": 1.0, \"ST_Slope\": \"Flat\", \"HeartDisease\": 1, \"HD\": \"True\", \"Prediction\": \"True\"}, {\"Age\": 62, \"Sex\": \"M\", \"ChestPainType\": \"NAP\", \"RestingBP\": 133, \"Cholesterol\": 0, \"FastingBS\": 1, \"RestingECG\": \"ST\", \"MaxHR\": 119, \"ExerciseAngina\": \"Y\", \"Oldpeak\": 1.2, \"ST_Slope\": \"Flat\", \"HeartDisease\": 1, \"HD\": \"True\", \"Prediction\": \"True\"}, {\"Age\": 74, \"Sex\": \"M\", \"ChestPainType\": \"ASY\", \"RestingBP\": 150, \"Cholesterol\": 258, \"FastingBS\": 1, \"RestingECG\": \"ST\", \"MaxHR\": 130, \"ExerciseAngina\": \"Y\", \"Oldpeak\": 4.0, \"ST_Slope\": \"Down\", \"HeartDisease\": 1, \"HD\": \"True\", \"Prediction\": \"False\"}, {\"Age\": 54, \"Sex\": \"M\", \"ChestPainType\": \"ASY\", \"RestingBP\": 130, \"Cholesterol\": 202, \"FastingBS\": 1, \"RestingECG\": \"Normal\", \"MaxHR\": 112, \"ExerciseAngina\": \"Y\", \"Oldpeak\": 2.0, \"ST_Slope\": \"Flat\", \"HeartDisease\": 1, \"HD\": \"True\", \"Prediction\": \"False\"}, {\"Age\": 57, \"Sex\": \"M\", \"ChestPainType\": \"ASY\", \"RestingBP\": 110, \"Cholesterol\": 197, \"FastingBS\": 0, \"RestingECG\": \"LVH\", \"MaxHR\": 100, \"ExerciseAngina\": \"N\", \"Oldpeak\": 0.0, \"ST_Slope\": \"Up\", \"HeartDisease\": 0, \"HD\": \"False\", \"Prediction\": \"False\"}, {\"Age\": 62, \"Sex\": \"M\", \"ChestPainType\": \"NAP\", \"RestingBP\": 138, \"Cholesterol\": 204, \"FastingBS\": 0, \"RestingECG\": \"ST\", \"MaxHR\": 122, \"ExerciseAngina\": \"Y\", \"Oldpeak\": 1.2, \"ST_Slope\": \"Flat\", \"HeartDisease\": 1, \"HD\": \"True\", \"Prediction\": \"True\"}, {\"Age\": 76, \"Sex\": \"M\", \"ChestPainType\": \"NAP\", \"RestingBP\": 104, \"Cholesterol\": 113, \"FastingBS\": 0, \"RestingECG\": \"LVH\", \"MaxHR\": 120, \"ExerciseAngina\": \"N\", \"Oldpeak\": 3.5, \"ST_Slope\": \"Down\", \"HeartDisease\": 1, \"HD\": \"True\", \"Prediction\": \"True\"}, {\"Age\": 54, \"Sex\": \"F\", \"ChestPainType\": \"ASY\", \"RestingBP\": 138, \"Cholesterol\": 274, \"FastingBS\": 0, \"RestingECG\": \"Normal\", \"MaxHR\": 105, \"ExerciseAngina\": \"Y\", \"Oldpeak\": 1.5, \"ST_Slope\": \"Flat\", \"HeartDisease\": 1, \"HD\": \"True\", \"Prediction\": \"True\"}, {\"Age\": 70, \"Sex\": \"M\", \"ChestPainType\": \"ASY\", \"RestingBP\": 170, \"Cholesterol\": 192, \"FastingBS\": 0, \"RestingECG\": \"ST\", \"MaxHR\": 129, \"ExerciseAngina\": \"Y\", \"Oldpeak\": 3.0, \"ST_Slope\": \"Down\", \"HeartDisease\": 1, \"HD\": \"True\", \"Prediction\": \"True\"}, {\"Age\": 61, \"Sex\": \"F\", \"ChestPainType\": \"ATA\", \"RestingBP\": 140, \"Cholesterol\": 298, \"FastingBS\": 1, \"RestingECG\": \"Normal\", \"MaxHR\": 120, \"ExerciseAngina\": \"Y\", \"Oldpeak\": 0.0, \"ST_Slope\": \"Up\", \"HeartDisease\": 0, \"HD\": \"False\", \"Prediction\": \"True\"}, {\"Age\": 48, \"Sex\": \"M\", \"ChestPainType\": \"ASY\", \"RestingBP\": 132, \"Cholesterol\": 272, \"FastingBS\": 0, \"RestingECG\": \"ST\", \"MaxHR\": 139, \"ExerciseAngina\": \"N\", \"Oldpeak\": 0.2, \"ST_Slope\": \"Up\", \"HeartDisease\": 0, \"HD\": \"False\", \"Prediction\": \"False\"}, {\"Age\": 48, \"Sex\": \"M\", \"ChestPainType\": \"NAP\", \"RestingBP\": 132, \"Cholesterol\": 220, \"FastingBS\": 1, \"RestingECG\": \"ST\", \"MaxHR\": 162, \"ExerciseAngina\": \"N\", \"Oldpeak\": 0.0, \"ST_Slope\": \"Flat\", \"HeartDisease\": 1, \"HD\": \"True\", \"Prediction\": \"False\"}, {\"Age\": 61, \"Sex\": \"M\", \"ChestPainType\": \"TA\", \"RestingBP\": 142, \"Cholesterol\": 200, \"FastingBS\": 1, \"RestingECG\": \"ST\", \"MaxHR\": 100, \"ExerciseAngina\": \"N\", \"Oldpeak\": 1.5, \"ST_Slope\": \"Down\", \"HeartDisease\": 1, \"HD\": \"True\", \"Prediction\": \"True\"}, {\"Age\": 66, \"Sex\": \"M\", \"ChestPainType\": \"ASY\", \"RestingBP\": 112, \"Cholesterol\": 261, \"FastingBS\": 0, \"RestingECG\": \"Normal\", \"MaxHR\": 140, \"ExerciseAngina\": \"N\", \"Oldpeak\": 1.5, \"ST_Slope\": \"Up\", \"HeartDisease\": 1, \"HD\": \"True\", \"Prediction\": \"True\"}, {\"Age\": 68, \"Sex\": \"M\", \"ChestPainType\": \"TA\", \"RestingBP\": 139, \"Cholesterol\": 181, \"FastingBS\": 1, \"RestingECG\": \"ST\", \"MaxHR\": 135, \"ExerciseAngina\": \"N\", \"Oldpeak\": 0.2, \"ST_Slope\": \"Up\", \"HeartDisease\": 0, \"HD\": \"False\", \"Prediction\": \"False\"}, {\"Age\": 55, \"Sex\": \"M\", \"ChestPainType\": \"ASY\", \"RestingBP\": 172, \"Cholesterol\": 260, \"FastingBS\": 0, \"RestingECG\": \"Normal\", \"MaxHR\": 73, \"ExerciseAngina\": \"N\", \"Oldpeak\": 2.0, \"ST_Slope\": \"Flat\", \"HeartDisease\": 1, \"HD\": \"True\", \"Prediction\": \"True\"}, {\"Age\": 62, \"Sex\": \"M\", \"ChestPainType\": \"NAP\", \"RestingBP\": 120, \"Cholesterol\": 220, \"FastingBS\": 0, \"RestingECG\": \"LVH\", \"MaxHR\": 86, \"ExerciseAngina\": \"N\", \"Oldpeak\": 0.0, \"ST_Slope\": \"Up\", \"HeartDisease\": 0, \"HD\": \"False\", \"Prediction\": \"False\"}, {\"Age\": 71, \"Sex\": \"M\", \"ChestPainType\": \"NAP\", \"RestingBP\": 144, \"Cholesterol\": 221, \"FastingBS\": 0, \"RestingECG\": \"Normal\", \"MaxHR\": 108, \"ExerciseAngina\": \"Y\", \"Oldpeak\": 1.8, \"ST_Slope\": \"Flat\", \"HeartDisease\": 1, \"HD\": \"True\", \"Prediction\": \"True\"}, {\"Age\": 74, \"Sex\": \"M\", \"ChestPainType\": \"TA\", \"RestingBP\": 145, \"Cholesterol\": 216, \"FastingBS\": 1, \"RestingECG\": \"Normal\", \"MaxHR\": 116, \"ExerciseAngina\": \"Y\", \"Oldpeak\": 1.8, \"ST_Slope\": \"Flat\", \"HeartDisease\": 1, \"HD\": \"True\", \"Prediction\": \"True\"}, {\"Age\": 53, \"Sex\": \"M\", \"ChestPainType\": \"NAP\", \"RestingBP\": 155, \"Cholesterol\": 175, \"FastingBS\": 1, \"RestingECG\": \"ST\", \"MaxHR\": 160, \"ExerciseAngina\": \"N\", \"Oldpeak\": 0.3, \"ST_Slope\": \"Up\", \"HeartDisease\": 0, \"HD\": \"False\", \"Prediction\": \"False\"}, {\"Age\": 58, \"Sex\": \"M\", \"ChestPainType\": \"NAP\", \"RestingBP\": 150, \"Cholesterol\": 219, \"FastingBS\": 0, \"RestingECG\": \"ST\", \"MaxHR\": 118, \"ExerciseAngina\": \"Y\", \"Oldpeak\": 0.0, \"ST_Slope\": \"Flat\", \"HeartDisease\": 1, \"HD\": \"True\", \"Prediction\": \"True\"}, {\"Age\": 75, \"Sex\": \"M\", \"ChestPainType\": \"ASY\", \"RestingBP\": 160, \"Cholesterol\": 310, \"FastingBS\": 1, \"RestingECG\": \"Normal\", \"MaxHR\": 112, \"ExerciseAngina\": \"Y\", \"Oldpeak\": 2.0, \"ST_Slope\": \"Down\", \"HeartDisease\": 0, \"HD\": \"False\", \"Prediction\": \"True\"}, {\"Age\": 56, \"Sex\": \"M\", \"ChestPainType\": \"NAP\", \"RestingBP\": 137, \"Cholesterol\": 208, \"FastingBS\": 1, \"RestingECG\": \"ST\", \"MaxHR\": 122, \"ExerciseAngina\": \"Y\", \"Oldpeak\": 1.8, \"ST_Slope\": \"Flat\", \"HeartDisease\": 1, \"HD\": \"True\", \"Prediction\": \"True\"}, {\"Age\": 58, \"Sex\": \"M\", \"ChestPainType\": \"NAP\", \"RestingBP\": 137, \"Cholesterol\": 232, \"FastingBS\": 0, \"RestingECG\": \"ST\", \"MaxHR\": 124, \"ExerciseAngina\": \"Y\", \"Oldpeak\": 1.4, \"ST_Slope\": \"Flat\", \"HeartDisease\": 1, \"HD\": \"True\", \"Prediction\": \"True\"}, {\"Age\": 64, \"Sex\": \"M\", \"ChestPainType\": \"ASY\", \"RestingBP\": 134, \"Cholesterol\": 273, \"FastingBS\": 0, \"RestingECG\": \"Normal\", \"MaxHR\": 102, \"ExerciseAngina\": \"Y\", \"Oldpeak\": 4.0, \"ST_Slope\": \"Down\", \"HeartDisease\": 1, \"HD\": \"True\", \"Prediction\": \"True\"}, {\"Age\": 54, \"Sex\": \"M\", \"ChestPainType\": \"NAP\", \"RestingBP\": 133, \"Cholesterol\": 203, \"FastingBS\": 0, \"RestingECG\": \"ST\", \"MaxHR\": 137, \"ExerciseAngina\": \"N\", \"Oldpeak\": 0.2, \"ST_Slope\": \"Up\", \"HeartDisease\": 0, \"HD\": \"False\", \"Prediction\": \"False\"}, {\"Age\": 54, \"Sex\": \"M\", \"ChestPainType\": \"ATA\", \"RestingBP\": 132, \"Cholesterol\": 182, \"FastingBS\": 0, \"RestingECG\": \"ST\", \"MaxHR\": 141, \"ExerciseAngina\": \"N\", \"Oldpeak\": 0.1, \"ST_Slope\": \"Up\", \"HeartDisease\": 0, \"HD\": \"False\", \"Prediction\": \"False\"}, {\"Age\": 59, \"Sex\": \"M\", \"ChestPainType\": \"ASY\", \"RestingBP\": 140, \"Cholesterol\": 274, \"FastingBS\": 0, \"RestingECG\": \"Normal\", \"MaxHR\": 154, \"ExerciseAngina\": \"Y\", \"Oldpeak\": 2.0, \"ST_Slope\": \"Flat\", \"HeartDisease\": 0, \"HD\": \"False\", \"Prediction\": \"False\"}, {\"Age\": 55, \"Sex\": \"M\", \"ChestPainType\": \"ASY\", \"RestingBP\": 135, \"Cholesterol\": 204, \"FastingBS\": 1, \"RestingECG\": \"ST\", \"MaxHR\": 126, \"ExerciseAngina\": \"Y\", \"Oldpeak\": 1.1, \"ST_Slope\": \"Flat\", \"HeartDisease\": 1, \"HD\": \"True\", \"Prediction\": \"False\"}, {\"Age\": 57, \"Sex\": \"M\", \"ChestPainType\": \"ASY\", \"RestingBP\": 144, \"Cholesterol\": 270, \"FastingBS\": 1, \"RestingECG\": \"ST\", \"MaxHR\": 160, \"ExerciseAngina\": \"Y\", \"Oldpeak\": 2.0, \"ST_Slope\": \"Flat\", \"HeartDisease\": 1, \"HD\": \"True\", \"Prediction\": \"False\"}, {\"Age\": 61, \"Sex\": \"M\", \"ChestPainType\": \"ASY\", \"RestingBP\": 141, \"Cholesterol\": 292, \"FastingBS\": 0, \"RestingECG\": \"ST\", \"MaxHR\": 115, \"ExerciseAngina\": \"Y\", \"Oldpeak\": 1.7, \"ST_Slope\": \"Flat\", \"HeartDisease\": 1, \"HD\": \"True\", \"Prediction\": \"True\"}, {\"Age\": 41, \"Sex\": \"M\", \"ChestPainType\": \"ASY\", \"RestingBP\": 150, \"Cholesterol\": 171, \"FastingBS\": 0, \"RestingECG\": \"Normal\", \"MaxHR\": 128, \"ExerciseAngina\": \"Y\", \"Oldpeak\": 1.5, \"ST_Slope\": \"Flat\", \"HeartDisease\": 0, \"HD\": \"False\", \"Prediction\": \"True\"}, {\"Age\": 71, \"Sex\": \"M\", \"ChestPainType\": \"ASY\", \"RestingBP\": 130, \"Cholesterol\": 221, \"FastingBS\": 0, \"RestingECG\": \"ST\", \"MaxHR\": 115, \"ExerciseAngina\": \"Y\", \"Oldpeak\": 0.0, \"ST_Slope\": \"Flat\", \"HeartDisease\": 1, \"HD\": \"True\", \"Prediction\": \"True\"}, {\"Age\": 38, \"Sex\": \"M\", \"ChestPainType\": \"ASY\", \"RestingBP\": 110, \"Cholesterol\": 289, \"FastingBS\": 0, \"RestingECG\": \"Normal\", \"MaxHR\": 105, \"ExerciseAngina\": \"Y\", \"Oldpeak\": 1.5, \"ST_Slope\": \"Down\", \"HeartDisease\": 1, \"HD\": \"True\", \"Prediction\": \"True\"}, {\"Age\": 55, \"Sex\": \"M\", \"ChestPainType\": \"ASY\", \"RestingBP\": 158, \"Cholesterol\": 217, \"FastingBS\": 0, \"RestingECG\": \"Normal\", \"MaxHR\": 110, \"ExerciseAngina\": \"Y\", \"Oldpeak\": 2.5, \"ST_Slope\": \"Flat\", \"HeartDisease\": 1, \"HD\": \"True\", \"Prediction\": \"True\"}, {\"Age\": 56, \"Sex\": \"M\", \"ChestPainType\": \"ASY\", \"RestingBP\": 128, \"Cholesterol\": 223, \"FastingBS\": 0, \"RestingECG\": \"ST\", \"MaxHR\": 119, \"ExerciseAngina\": \"Y\", \"Oldpeak\": 2.0, \"ST_Slope\": \"Down\", \"HeartDisease\": 1, \"HD\": \"True\", \"Prediction\": \"True\"}, {\"Age\": 69, \"Sex\": \"M\", \"ChestPainType\": \"ASY\", \"RestingBP\": 140, \"Cholesterol\": 110, \"FastingBS\": 1, \"RestingECG\": \"Normal\", \"MaxHR\": 109, \"ExerciseAngina\": \"Y\", \"Oldpeak\": 1.5, \"ST_Slope\": \"Flat\", \"HeartDisease\": 1, \"HD\": \"True\", \"Prediction\": \"True\"}, {\"Age\": 64, \"Sex\": \"M\", \"ChestPainType\": \"ASY\", \"RestingBP\": 150, \"Cholesterol\": 193, \"FastingBS\": 0, \"RestingECG\": \"ST\", \"MaxHR\": 135, \"ExerciseAngina\": \"Y\", \"Oldpeak\": 0.5, \"ST_Slope\": \"Flat\", \"HeartDisease\": 1, \"HD\": \"True\", \"Prediction\": \"False\"}, {\"Age\": 72, \"Sex\": \"M\", \"ChestPainType\": \"ASY\", \"RestingBP\": 160, \"Cholesterol\": 123, \"FastingBS\": 1, \"RestingECG\": \"LVH\", \"MaxHR\": 130, \"ExerciseAngina\": \"N\", \"Oldpeak\": 1.5, \"ST_Slope\": \"Flat\", \"HeartDisease\": 1, \"HD\": \"True\", \"Prediction\": \"True\"}, {\"Age\": 69, \"Sex\": \"M\", \"ChestPainType\": \"ASY\", \"RestingBP\": 142, \"Cholesterol\": 210, \"FastingBS\": 1, \"RestingECG\": \"ST\", \"MaxHR\": 112, \"ExerciseAngina\": \"Y\", \"Oldpeak\": 1.5, \"ST_Slope\": \"Flat\", \"HeartDisease\": 1, \"HD\": \"True\", \"Prediction\": \"True\"}, {\"Age\": 56, \"Sex\": \"M\", \"ChestPainType\": \"ASY\", \"RestingBP\": 137, \"Cholesterol\": 282, \"FastingBS\": 1, \"RestingECG\": \"Normal\", \"MaxHR\": 126, \"ExerciseAngina\": \"Y\", \"Oldpeak\": 1.2, \"ST_Slope\": \"Flat\", \"HeartDisease\": 1, \"HD\": \"True\", \"Prediction\": \"True\"}, {\"Age\": 62, \"Sex\": \"M\", \"ChestPainType\": \"ASY\", \"RestingBP\": 139, \"Cholesterol\": 170, \"FastingBS\": 0, \"RestingECG\": \"ST\", \"MaxHR\": 120, \"ExerciseAngina\": \"Y\", \"Oldpeak\": 3.0, \"ST_Slope\": \"Flat\", \"HeartDisease\": 1, \"HD\": \"True\", \"Prediction\": \"False\"}, {\"Age\": 67, \"Sex\": \"M\", \"ChestPainType\": \"ASY\", \"RestingBP\": 146, \"Cholesterol\": 369, \"FastingBS\": 0, \"RestingECG\": \"Normal\", \"MaxHR\": 110, \"ExerciseAngina\": \"Y\", \"Oldpeak\": 1.9, \"ST_Slope\": \"Flat\", \"HeartDisease\": 1, \"HD\": \"True\", \"Prediction\": \"True\"}, {\"Age\": 57, \"Sex\": \"M\", \"ChestPainType\": \"ASY\", \"RestingBP\": 156, \"Cholesterol\": 173, \"FastingBS\": 0, \"RestingECG\": \"LVH\", \"MaxHR\": 119, \"ExerciseAngina\": \"Y\", \"Oldpeak\": 3.0, \"ST_Slope\": \"Down\", \"HeartDisease\": 1, \"HD\": \"True\", \"Prediction\": \"False\"}, {\"Age\": 69, \"Sex\": \"M\", \"ChestPainType\": \"ASY\", \"RestingBP\": 145, \"Cholesterol\": 289, \"FastingBS\": 1, \"RestingECG\": \"ST\", \"MaxHR\": 110, \"ExerciseAngina\": \"Y\", \"Oldpeak\": 1.8, \"ST_Slope\": \"Flat\", \"HeartDisease\": 1, \"HD\": \"True\", \"Prediction\": \"True\"}, {\"Age\": 51, \"Sex\": \"M\", \"ChestPainType\": \"ASY\", \"RestingBP\": 131, \"Cholesterol\": 152, \"FastingBS\": 1, \"RestingECG\": \"LVH\", \"MaxHR\": 130, \"ExerciseAngina\": \"Y\", \"Oldpeak\": 1.0, \"ST_Slope\": \"Flat\", \"HeartDisease\": 1, \"HD\": \"True\", \"Prediction\": \"True\"}, {\"Age\": 48, \"Sex\": \"M\", \"ChestPainType\": \"ASY\", \"RestingBP\": 140, \"Cholesterol\": 208, \"FastingBS\": 0, \"RestingECG\": \"Normal\", \"MaxHR\": 159, \"ExerciseAngina\": \"Y\", \"Oldpeak\": 1.5, \"ST_Slope\": \"Up\", \"HeartDisease\": 1, \"HD\": \"True\", \"Prediction\": \"True\"}, {\"Age\": 69, \"Sex\": \"M\", \"ChestPainType\": \"ASY\", \"RestingBP\": 122, \"Cholesterol\": 216, \"FastingBS\": 1, \"RestingECG\": \"LVH\", \"MaxHR\": 84, \"ExerciseAngina\": \"Y\", \"Oldpeak\": 0.0, \"ST_Slope\": \"Flat\", \"HeartDisease\": 1, \"HD\": \"True\", \"Prediction\": \"False\"}, {\"Age\": 69, \"Sex\": \"M\", \"ChestPainType\": \"NAP\", \"RestingBP\": 142, \"Cholesterol\": 271, \"FastingBS\": 0, \"RestingECG\": \"LVH\", \"MaxHR\": 126, \"ExerciseAngina\": \"N\", \"Oldpeak\": 0.3, \"ST_Slope\": \"Up\", \"HeartDisease\": 0, \"HD\": \"False\", \"Prediction\": \"True\"}, {\"Age\": 64, \"Sex\": \"M\", \"ChestPainType\": \"ASY\", \"RestingBP\": 141, \"Cholesterol\": 244, \"FastingBS\": 1, \"RestingECG\": \"ST\", \"MaxHR\": 116, \"ExerciseAngina\": \"Y\", \"Oldpeak\": 1.5, \"ST_Slope\": \"Flat\", \"HeartDisease\": 1, \"HD\": \"True\", \"Prediction\": \"True\"}, {\"Age\": 57, \"Sex\": \"M\", \"ChestPainType\": \"ATA\", \"RestingBP\": 180, \"Cholesterol\": 285, \"FastingBS\": 1, \"RestingECG\": \"ST\", \"MaxHR\": 120, \"ExerciseAngina\": \"N\", \"Oldpeak\": 0.8, \"ST_Slope\": \"Flat\", \"HeartDisease\": 1, \"HD\": \"True\", \"Prediction\": \"True\"}, {\"Age\": 53, \"Sex\": \"M\", \"ChestPainType\": \"ASY\", \"RestingBP\": 124, \"Cholesterol\": 243, \"FastingBS\": 0, \"RestingECG\": \"Normal\", \"MaxHR\": 122, \"ExerciseAngina\": \"Y\", \"Oldpeak\": 2.0, \"ST_Slope\": \"Flat\", \"HeartDisease\": 1, \"HD\": \"True\", \"Prediction\": \"True\"}, {\"Age\": 37, \"Sex\": \"M\", \"ChestPainType\": \"NAP\", \"RestingBP\": 118, \"Cholesterol\": 240, \"FastingBS\": 0, \"RestingECG\": \"LVH\", \"MaxHR\": 165, \"ExerciseAngina\": \"N\", \"Oldpeak\": 1.0, \"ST_Slope\": \"Flat\", \"HeartDisease\": 0, \"HD\": \"False\", \"Prediction\": \"False\"}, {\"Age\": 67, \"Sex\": \"M\", \"ChestPainType\": \"ASY\", \"RestingBP\": 140, \"Cholesterol\": 219, \"FastingBS\": 0, \"RestingECG\": \"ST\", \"MaxHR\": 122, \"ExerciseAngina\": \"Y\", \"Oldpeak\": 2.0, \"ST_Slope\": \"Flat\", \"HeartDisease\": 1, \"HD\": \"True\", \"Prediction\": \"True\"}, {\"Age\": 74, \"Sex\": \"M\", \"ChestPainType\": \"NAP\", \"RestingBP\": 140, \"Cholesterol\": 237, \"FastingBS\": 1, \"RestingECG\": \"Normal\", \"MaxHR\": 94, \"ExerciseAngina\": \"N\", \"Oldpeak\": 0.0, \"ST_Slope\": \"Flat\", \"HeartDisease\": 1, \"HD\": \"True\", \"Prediction\": \"True\"}, {\"Age\": 63, \"Sex\": \"M\", \"ChestPainType\": \"ATA\", \"RestingBP\": 136, \"Cholesterol\": 165, \"FastingBS\": 0, \"RestingECG\": \"ST\", \"MaxHR\": 133, \"ExerciseAngina\": \"N\", \"Oldpeak\": 0.2, \"ST_Slope\": \"Up\", \"HeartDisease\": 0, \"HD\": \"False\", \"Prediction\": \"False\"}, {\"Age\": 58, \"Sex\": \"M\", \"ChestPainType\": \"ASY\", \"RestingBP\": 100, \"Cholesterol\": 213, \"FastingBS\": 0, \"RestingECG\": \"ST\", \"MaxHR\": 110, \"ExerciseAngina\": \"N\", \"Oldpeak\": 0.0, \"ST_Slope\": \"Up\", \"HeartDisease\": 0, \"HD\": \"False\", \"Prediction\": \"False\"}, {\"Age\": 61, \"Sex\": \"M\", \"ChestPainType\": \"ASY\", \"RestingBP\": 190, \"Cholesterol\": 287, \"FastingBS\": 1, \"RestingECG\": \"LVH\", \"MaxHR\": 150, \"ExerciseAngina\": \"Y\", \"Oldpeak\": 2.0, \"ST_Slope\": \"Down\", \"HeartDisease\": 1, \"HD\": \"True\", \"Prediction\": \"True\"}, {\"Age\": 64, \"Sex\": \"M\", \"ChestPainType\": \"ASY\", \"RestingBP\": 130, \"Cholesterol\": 258, \"FastingBS\": 1, \"RestingECG\": \"LVH\", \"MaxHR\": 130, \"ExerciseAngina\": \"N\", \"Oldpeak\": 0.0, \"ST_Slope\": \"Flat\", \"HeartDisease\": 1, \"HD\": \"True\", \"Prediction\": \"True\"}, {\"Age\": 58, \"Sex\": \"M\", \"ChestPainType\": \"ASY\", \"RestingBP\": 160, \"Cholesterol\": 256, \"FastingBS\": 1, \"RestingECG\": \"LVH\", \"MaxHR\": 113, \"ExerciseAngina\": \"Y\", \"Oldpeak\": 1.0, \"ST_Slope\": \"Up\", \"HeartDisease\": 1, \"HD\": \"True\", \"Prediction\": \"True\"}, {\"Age\": 60, \"Sex\": \"M\", \"ChestPainType\": \"ASY\", \"RestingBP\": 130, \"Cholesterol\": 186, \"FastingBS\": 1, \"RestingECG\": \"LVH\", \"MaxHR\": 140, \"ExerciseAngina\": \"Y\", \"Oldpeak\": 0.5, \"ST_Slope\": \"Flat\", \"HeartDisease\": 1, \"HD\": \"True\", \"Prediction\": \"False\"}, {\"Age\": 57, \"Sex\": \"M\", \"ChestPainType\": \"ASY\", \"RestingBP\": 122, \"Cholesterol\": 264, \"FastingBS\": 0, \"RestingECG\": \"LVH\", \"MaxHR\": 100, \"ExerciseAngina\": \"N\", \"Oldpeak\": 0.0, \"ST_Slope\": \"Flat\", \"HeartDisease\": 1, \"HD\": \"True\", \"Prediction\": \"True\"}, {\"Age\": 55, \"Sex\": \"M\", \"ChestPainType\": \"NAP\", \"RestingBP\": 133, \"Cholesterol\": 185, \"FastingBS\": 0, \"RestingECG\": \"ST\", \"MaxHR\": 136, \"ExerciseAngina\": \"N\", \"Oldpeak\": 0.2, \"ST_Slope\": \"Up\", \"HeartDisease\": 0, \"HD\": \"False\", \"Prediction\": \"False\"}, {\"Age\": 55, \"Sex\": \"M\", \"ChestPainType\": \"ASY\", \"RestingBP\": 120, \"Cholesterol\": 226, \"FastingBS\": 0, \"RestingECG\": \"LVH\", \"MaxHR\": 127, \"ExerciseAngina\": \"Y\", \"Oldpeak\": 1.7, \"ST_Slope\": \"Down\", \"HeartDisease\": 1, \"HD\": \"True\", \"Prediction\": \"False\"}, {\"Age\": 56, \"Sex\": \"M\", \"ChestPainType\": \"ASY\", \"RestingBP\": 130, \"Cholesterol\": 203, \"FastingBS\": 1, \"RestingECG\": \"Normal\", \"MaxHR\": 98, \"ExerciseAngina\": \"N\", \"Oldpeak\": 1.5, \"ST_Slope\": \"Flat\", \"HeartDisease\": 1, \"HD\": \"True\", \"Prediction\": \"True\"}, {\"Age\": 57, \"Sex\": \"M\", \"ChestPainType\": \"ASY\", \"RestingBP\": 130, \"Cholesterol\": 207, \"FastingBS\": 0, \"RestingECG\": \"ST\", \"MaxHR\": 96, \"ExerciseAngina\": \"Y\", \"Oldpeak\": 1.0, \"ST_Slope\": \"Flat\", \"HeartDisease\": 0, \"HD\": \"False\", \"Prediction\": \"True\"}, {\"Age\": 61, \"Sex\": \"M\", \"ChestPainType\": \"NAP\", \"RestingBP\": 140, \"Cholesterol\": 284, \"FastingBS\": 0, \"RestingECG\": \"Normal\", \"MaxHR\": 123, \"ExerciseAngina\": \"Y\", \"Oldpeak\": 1.3, \"ST_Slope\": \"Flat\", \"HeartDisease\": 1, \"HD\": \"True\", \"Prediction\": \"True\"}, {\"Age\": 61, \"Sex\": \"M\", \"ChestPainType\": \"NAP\", \"RestingBP\": 120, \"Cholesterol\": 337, \"FastingBS\": 0, \"RestingECG\": \"Normal\", \"MaxHR\": 98, \"ExerciseAngina\": \"Y\", \"Oldpeak\": 0.0, \"ST_Slope\": \"Flat\", \"HeartDisease\": 1, \"HD\": \"True\", \"Prediction\": \"True\"}, {\"Age\": 74, \"Sex\": \"M\", \"ChestPainType\": \"ASY\", \"RestingBP\": 155, \"Cholesterol\": 310, \"FastingBS\": 0, \"RestingECG\": \"Normal\", \"MaxHR\": 112, \"ExerciseAngina\": \"Y\", \"Oldpeak\": 1.5, \"ST_Slope\": \"Down\", \"HeartDisease\": 1, \"HD\": \"True\", \"Prediction\": \"True\"}, {\"Age\": 68, \"Sex\": \"M\", \"ChestPainType\": \"NAP\", \"RestingBP\": 134, \"Cholesterol\": 254, \"FastingBS\": 1, \"RestingECG\": \"Normal\", \"MaxHR\": 151, \"ExerciseAngina\": \"Y\", \"Oldpeak\": 0.0, \"ST_Slope\": \"Up\", \"HeartDisease\": 0, \"HD\": \"False\", \"Prediction\": \"True\"}, {\"Age\": 51, \"Sex\": \"F\", \"ChestPainType\": \"ASY\", \"RestingBP\": 114, \"Cholesterol\": 258, \"FastingBS\": 1, \"RestingECG\": \"LVH\", \"MaxHR\": 96, \"ExerciseAngina\": \"N\", \"Oldpeak\": 1.0, \"ST_Slope\": \"Up\", \"HeartDisease\": 0, \"HD\": \"False\", \"Prediction\": \"True\"}, {\"Age\": 62, \"Sex\": \"M\", \"ChestPainType\": \"ASY\", \"RestingBP\": 160, \"Cholesterol\": 254, \"FastingBS\": 1, \"RestingECG\": \"ST\", \"MaxHR\": 108, \"ExerciseAngina\": \"Y\", \"Oldpeak\": 3.0, \"ST_Slope\": \"Flat\", \"HeartDisease\": 1, \"HD\": \"True\", \"Prediction\": \"True\"}, {\"Age\": 53, \"Sex\": \"M\", \"ChestPainType\": \"ASY\", \"RestingBP\": 144, \"Cholesterol\": 300, \"FastingBS\": 1, \"RestingECG\": \"ST\", \"MaxHR\": 128, \"ExerciseAngina\": \"Y\", \"Oldpeak\": 1.5, \"ST_Slope\": \"Flat\", \"HeartDisease\": 1, \"HD\": \"True\", \"Prediction\": \"True\"}, {\"Age\": 62, \"Sex\": \"M\", \"ChestPainType\": \"ASY\", \"RestingBP\": 158, \"Cholesterol\": 170, \"FastingBS\": 0, \"RestingECG\": \"ST\", \"MaxHR\": 138, \"ExerciseAngina\": \"Y\", \"Oldpeak\": 0.0, \"ST_Slope\": \"Flat\", \"HeartDisease\": 1, \"HD\": \"True\", \"Prediction\": \"True\"}, {\"Age\": 46, \"Sex\": \"M\", \"ChestPainType\": \"ASY\", \"RestingBP\": 134, \"Cholesterol\": 310, \"FastingBS\": 0, \"RestingECG\": \"Normal\", \"MaxHR\": 126, \"ExerciseAngina\": \"N\", \"Oldpeak\": 0.0, \"ST_Slope\": \"Flat\", \"HeartDisease\": 1, \"HD\": \"True\", \"Prediction\": \"False\"}, {\"Age\": 54, \"Sex\": \"F\", \"ChestPainType\": \"ASY\", \"RestingBP\": 127, \"Cholesterol\": 333, \"FastingBS\": 1, \"RestingECG\": \"ST\", \"MaxHR\": 154, \"ExerciseAngina\": \"N\", \"Oldpeak\": 0.0, \"ST_Slope\": \"Flat\", \"HeartDisease\": 1, \"HD\": \"True\", \"Prediction\": \"False\"}, {\"Age\": 62, \"Sex\": \"M\", \"ChestPainType\": \"TA\", \"RestingBP\": 135, \"Cholesterol\": 139, \"FastingBS\": 0, \"RestingECG\": \"ST\", \"MaxHR\": 137, \"ExerciseAngina\": \"N\", \"Oldpeak\": 0.2, \"ST_Slope\": \"Up\", \"HeartDisease\": 0, \"HD\": \"False\", \"Prediction\": \"True\"}, {\"Age\": 55, \"Sex\": \"M\", \"ChestPainType\": \"ASY\", \"RestingBP\": 122, \"Cholesterol\": 223, \"FastingBS\": 1, \"RestingECG\": \"ST\", \"MaxHR\": 100, \"ExerciseAngina\": \"N\", \"Oldpeak\": 0.0, \"ST_Slope\": \"Flat\", \"HeartDisease\": 1, \"HD\": \"True\", \"Prediction\": \"False\"}, {\"Age\": 58, \"Sex\": \"M\", \"ChestPainType\": \"ASY\", \"RestingBP\": 140, \"Cholesterol\": 385, \"FastingBS\": 1, \"RestingECG\": \"LVH\", \"MaxHR\": 135, \"ExerciseAngina\": \"N\", \"Oldpeak\": 0.3, \"ST_Slope\": \"Up\", \"HeartDisease\": 0, \"HD\": \"False\", \"Prediction\": \"True\"}, {\"Age\": 62, \"Sex\": \"M\", \"ChestPainType\": \"ATA\", \"RestingBP\": 120, \"Cholesterol\": 254, \"FastingBS\": 0, \"RestingECG\": \"LVH\", \"MaxHR\": 93, \"ExerciseAngina\": \"Y\", \"Oldpeak\": 0.0, \"ST_Slope\": \"Flat\", \"HeartDisease\": 1, \"HD\": \"True\", \"Prediction\": \"False\"}, {\"Age\": 70, \"Sex\": \"M\", \"ChestPainType\": \"ASY\", \"RestingBP\": 130, \"Cholesterol\": 322, \"FastingBS\": 0, \"RestingECG\": \"LVH\", \"MaxHR\": 109, \"ExerciseAngina\": \"N\", \"Oldpeak\": 2.4, \"ST_Slope\": \"Flat\", \"HeartDisease\": 1, \"HD\": \"True\", \"Prediction\": \"True\"}, {\"Age\": 67, \"Sex\": \"F\", \"ChestPainType\": \"NAP\", \"RestingBP\": 115, \"Cholesterol\": 564, \"FastingBS\": 0, \"RestingECG\": \"LVH\", \"MaxHR\": 160, \"ExerciseAngina\": \"N\", \"Oldpeak\": 1.6, \"ST_Slope\": \"Flat\", \"HeartDisease\": 0, \"HD\": \"False\", \"Prediction\": \"True\"}, {\"Age\": 57, \"Sex\": \"M\", \"ChestPainType\": \"ATA\", \"RestingBP\": 124, \"Cholesterol\": 261, \"FastingBS\": 0, \"RestingECG\": \"Normal\", \"MaxHR\": 141, \"ExerciseAngina\": \"N\", \"Oldpeak\": 0.3, \"ST_Slope\": \"Up\", \"HeartDisease\": 1, \"HD\": \"True\", \"Prediction\": \"True\"}, {\"Age\": 64, \"Sex\": \"M\", \"ChestPainType\": \"ASY\", \"RestingBP\": 128, \"Cholesterol\": 263, \"FastingBS\": 0, \"RestingECG\": \"Normal\", \"MaxHR\": 105, \"ExerciseAngina\": \"Y\", \"Oldpeak\": 0.2, \"ST_Slope\": \"Flat\", \"HeartDisease\": 0, \"HD\": \"False\", \"Prediction\": \"True\"}, {\"Age\": 74, \"Sex\": \"F\", \"ChestPainType\": \"ATA\", \"RestingBP\": 120, \"Cholesterol\": 269, \"FastingBS\": 0, \"RestingECG\": \"LVH\", \"MaxHR\": 121, \"ExerciseAngina\": \"Y\", \"Oldpeak\": 0.2, \"ST_Slope\": \"Up\", \"HeartDisease\": 0, \"HD\": \"False\", \"Prediction\": \"True\"}, {\"Age\": 65, \"Sex\": \"M\", \"ChestPainType\": \"ASY\", \"RestingBP\": 120, \"Cholesterol\": 177, \"FastingBS\": 0, \"RestingECG\": \"Normal\", \"MaxHR\": 140, \"ExerciseAngina\": \"N\", \"Oldpeak\": 0.4, \"ST_Slope\": \"Up\", \"HeartDisease\": 0, \"HD\": \"False\", \"Prediction\": \"False\"}, {\"Age\": 56, \"Sex\": \"M\", \"ChestPainType\": \"NAP\", \"RestingBP\": 130, \"Cholesterol\": 256, \"FastingBS\": 1, \"RestingECG\": \"LVH\", \"MaxHR\": 142, \"ExerciseAngina\": \"Y\", \"Oldpeak\": 0.6, \"ST_Slope\": \"Flat\", \"HeartDisease\": 1, \"HD\": \"True\", \"Prediction\": \"True\"}, {\"Age\": 59, \"Sex\": \"M\", \"ChestPainType\": \"ASY\", \"RestingBP\": 110, \"Cholesterol\": 239, \"FastingBS\": 0, \"RestingECG\": \"LVH\", \"MaxHR\": 142, \"ExerciseAngina\": \"Y\", \"Oldpeak\": 1.2, \"ST_Slope\": \"Flat\", \"HeartDisease\": 1, \"HD\": \"True\", \"Prediction\": \"False\"}, {\"Age\": 60, \"Sex\": \"M\", \"ChestPainType\": \"ASY\", \"RestingBP\": 140, \"Cholesterol\": 293, \"FastingBS\": 0, \"RestingECG\": \"LVH\", \"MaxHR\": 170, \"ExerciseAngina\": \"N\", \"Oldpeak\": 1.2, \"ST_Slope\": \"Flat\", \"HeartDisease\": 1, \"HD\": \"True\", \"Prediction\": \"False\"}, {\"Age\": 63, \"Sex\": \"F\", \"ChestPainType\": \"ASY\", \"RestingBP\": 150, \"Cholesterol\": 407, \"FastingBS\": 0, \"RestingECG\": \"LVH\", \"MaxHR\": 154, \"ExerciseAngina\": \"N\", \"Oldpeak\": 4.0, \"ST_Slope\": \"Flat\", \"HeartDisease\": 1, \"HD\": \"True\", \"Prediction\": \"False\"}, {\"Age\": 59, \"Sex\": \"M\", \"ChestPainType\": \"ASY\", \"RestingBP\": 135, \"Cholesterol\": 234, \"FastingBS\": 0, \"RestingECG\": \"Normal\", \"MaxHR\": 161, \"ExerciseAngina\": \"N\", \"Oldpeak\": 0.5, \"ST_Slope\": \"Flat\", \"HeartDisease\": 0, \"HD\": \"False\", \"Prediction\": \"False\"}, {\"Age\": 53, \"Sex\": \"M\", \"ChestPainType\": \"ASY\", \"RestingBP\": 142, \"Cholesterol\": 226, \"FastingBS\": 0, \"RestingECG\": \"LVH\", \"MaxHR\": 111, \"ExerciseAngina\": \"Y\", \"Oldpeak\": 0.0, \"ST_Slope\": \"Up\", \"HeartDisease\": 0, \"HD\": \"False\", \"Prediction\": \"True\"}, {\"Age\": 44, \"Sex\": \"M\", \"ChestPainType\": \"NAP\", \"RestingBP\": 140, \"Cholesterol\": 235, \"FastingBS\": 0, \"RestingECG\": \"LVH\", \"MaxHR\": 180, \"ExerciseAngina\": \"N\", \"Oldpeak\": 0.0, \"ST_Slope\": \"Up\", \"HeartDisease\": 0, \"HD\": \"False\", \"Prediction\": \"False\"}, {\"Age\": 61, \"Sex\": \"M\", \"ChestPainType\": \"TA\", \"RestingBP\": 134, \"Cholesterol\": 234, \"FastingBS\": 0, \"RestingECG\": \"Normal\", \"MaxHR\": 145, \"ExerciseAngina\": \"N\", \"Oldpeak\": 2.6, \"ST_Slope\": \"Flat\", \"HeartDisease\": 1, \"HD\": \"True\", \"Prediction\": \"False\"}, {\"Age\": 57, \"Sex\": \"F\", \"ChestPainType\": \"ASY\", \"RestingBP\": 128, \"Cholesterol\": 303, \"FastingBS\": 0, \"RestingECG\": \"LVH\", \"MaxHR\": 159, \"ExerciseAngina\": \"N\", \"Oldpeak\": 0.0, \"ST_Slope\": \"Up\", \"HeartDisease\": 0, \"HD\": \"False\", \"Prediction\": \"False\"}, {\"Age\": 71, \"Sex\": \"F\", \"ChestPainType\": \"ASY\", \"RestingBP\": 112, \"Cholesterol\": 149, \"FastingBS\": 0, \"RestingECG\": \"Normal\", \"MaxHR\": 125, \"ExerciseAngina\": \"N\", \"Oldpeak\": 1.6, \"ST_Slope\": \"Flat\", \"HeartDisease\": 0, \"HD\": \"False\", \"Prediction\": \"True\"}, {\"Age\": 46, \"Sex\": \"M\", \"ChestPainType\": \"ASY\", \"RestingBP\": 140, \"Cholesterol\": 311, \"FastingBS\": 0, \"RestingECG\": \"Normal\", \"MaxHR\": 120, \"ExerciseAngina\": \"Y\", \"Oldpeak\": 1.8, \"ST_Slope\": \"Flat\", \"HeartDisease\": 1, \"HD\": \"True\", \"Prediction\": \"True\"}, {\"Age\": 53, \"Sex\": \"M\", \"ChestPainType\": \"ASY\", \"RestingBP\": 140, \"Cholesterol\": 203, \"FastingBS\": 1, \"RestingECG\": \"LVH\", \"MaxHR\": 155, \"ExerciseAngina\": \"Y\", \"Oldpeak\": 3.1, \"ST_Slope\": \"Down\", \"HeartDisease\": 1, \"HD\": \"True\", \"Prediction\": \"False\"}, {\"Age\": 64, \"Sex\": \"M\", \"ChestPainType\": \"TA\", \"RestingBP\": 110, \"Cholesterol\": 211, \"FastingBS\": 0, \"RestingECG\": \"LVH\", \"MaxHR\": 144, \"ExerciseAngina\": \"Y\", \"Oldpeak\": 1.8, \"ST_Slope\": \"Flat\", \"HeartDisease\": 0, \"HD\": \"False\", \"Prediction\": \"False\"}, {\"Age\": 40, \"Sex\": \"M\", \"ChestPainType\": \"TA\", \"RestingBP\": 140, \"Cholesterol\": 199, \"FastingBS\": 0, \"RestingECG\": \"Normal\", \"MaxHR\": 178, \"ExerciseAngina\": \"Y\", \"Oldpeak\": 1.4, \"ST_Slope\": \"Up\", \"HeartDisease\": 0, \"HD\": \"False\", \"Prediction\": \"False\"}, {\"Age\": 67, \"Sex\": \"M\", \"ChestPainType\": \"ASY\", \"RestingBP\": 120, \"Cholesterol\": 229, \"FastingBS\": 0, \"RestingECG\": \"LVH\", \"MaxHR\": 129, \"ExerciseAngina\": \"Y\", \"Oldpeak\": 2.6, \"ST_Slope\": \"Flat\", \"HeartDisease\": 1, \"HD\": \"True\", \"Prediction\": \"True\"}, {\"Age\": 48, \"Sex\": \"M\", \"ChestPainType\": \"ATA\", \"RestingBP\": 130, \"Cholesterol\": 245, \"FastingBS\": 0, \"RestingECG\": \"LVH\", \"MaxHR\": 180, \"ExerciseAngina\": \"N\", \"Oldpeak\": 0.2, \"ST_Slope\": \"Flat\", \"HeartDisease\": 0, \"HD\": \"False\", \"Prediction\": \"False\"}, {\"Age\": 43, \"Sex\": \"M\", \"ChestPainType\": \"ASY\", \"RestingBP\": 115, \"Cholesterol\": 303, \"FastingBS\": 0, \"RestingECG\": \"Normal\", \"MaxHR\": 181, \"ExerciseAngina\": \"N\", \"Oldpeak\": 1.2, \"ST_Slope\": \"Flat\", \"HeartDisease\": 0, \"HD\": \"False\", \"Prediction\": \"False\"}, {\"Age\": 47, \"Sex\": \"M\", \"ChestPainType\": \"ASY\", \"RestingBP\": 112, \"Cholesterol\": 204, \"FastingBS\": 0, \"RestingECG\": \"Normal\", \"MaxHR\": 143, \"ExerciseAngina\": \"N\", \"Oldpeak\": 0.1, \"ST_Slope\": \"Up\", \"HeartDisease\": 0, \"HD\": \"False\", \"Prediction\": \"False\"}, {\"Age\": 54, \"Sex\": \"F\", \"ChestPainType\": \"ATA\", \"RestingBP\": 132, \"Cholesterol\": 288, \"FastingBS\": 1, \"RestingECG\": \"LVH\", \"MaxHR\": 159, \"ExerciseAngina\": \"Y\", \"Oldpeak\": 0.0, \"ST_Slope\": \"Up\", \"HeartDisease\": 0, \"HD\": \"False\", \"Prediction\": \"False\"}, {\"Age\": 48, \"Sex\": \"F\", \"ChestPainType\": \"NAP\", \"RestingBP\": 130, \"Cholesterol\": 275, \"FastingBS\": 0, \"RestingECG\": \"Normal\", \"MaxHR\": 139, \"ExerciseAngina\": \"N\", \"Oldpeak\": 0.2, \"ST_Slope\": \"Up\", \"HeartDisease\": 0, \"HD\": \"False\", \"Prediction\": \"False\"}, {\"Age\": 46, \"Sex\": \"F\", \"ChestPainType\": \"ASY\", \"RestingBP\": 138, \"Cholesterol\": 243, \"FastingBS\": 0, \"RestingECG\": \"LVH\", \"MaxHR\": 152, \"ExerciseAngina\": \"Y\", \"Oldpeak\": 0.0, \"ST_Slope\": \"Flat\", \"HeartDisease\": 0, \"HD\": \"False\", \"Prediction\": \"False\"}, {\"Age\": 51, \"Sex\": \"F\", \"ChestPainType\": \"NAP\", \"RestingBP\": 120, \"Cholesterol\": 295, \"FastingBS\": 0, \"RestingECG\": \"LVH\", \"MaxHR\": 157, \"ExerciseAngina\": \"N\", \"Oldpeak\": 0.6, \"ST_Slope\": \"Up\", \"HeartDisease\": 0, \"HD\": \"False\", \"Prediction\": \"False\"}, {\"Age\": 58, \"Sex\": \"M\", \"ChestPainType\": \"NAP\", \"RestingBP\": 112, \"Cholesterol\": 230, \"FastingBS\": 0, \"RestingECG\": \"LVH\", \"MaxHR\": 165, \"ExerciseAngina\": \"N\", \"Oldpeak\": 2.5, \"ST_Slope\": \"Flat\", \"HeartDisease\": 1, \"HD\": \"True\", \"Prediction\": \"False\"}, {\"Age\": 71, \"Sex\": \"F\", \"ChestPainType\": \"NAP\", \"RestingBP\": 110, \"Cholesterol\": 265, \"FastingBS\": 1, \"RestingECG\": \"LVH\", \"MaxHR\": 130, \"ExerciseAngina\": \"N\", \"Oldpeak\": 0.0, \"ST_Slope\": \"Up\", \"HeartDisease\": 0, \"HD\": \"False\", \"Prediction\": \"True\"}, {\"Age\": 57, \"Sex\": \"M\", \"ChestPainType\": \"NAP\", \"RestingBP\": 128, \"Cholesterol\": 229, \"FastingBS\": 0, \"RestingECG\": \"LVH\", \"MaxHR\": 150, \"ExerciseAngina\": \"N\", \"Oldpeak\": 0.4, \"ST_Slope\": \"Flat\", \"HeartDisease\": 1, \"HD\": \"True\", \"Prediction\": \"False\"}, {\"Age\": 66, \"Sex\": \"M\", \"ChestPainType\": \"ASY\", \"RestingBP\": 160, \"Cholesterol\": 228, \"FastingBS\": 0, \"RestingECG\": \"LVH\", \"MaxHR\": 138, \"ExerciseAngina\": \"N\", \"Oldpeak\": 2.3, \"ST_Slope\": \"Up\", \"HeartDisease\": 0, \"HD\": \"False\", \"Prediction\": \"False\"}, {\"Age\": 37, \"Sex\": \"F\", \"ChestPainType\": \"NAP\", \"RestingBP\": 120, \"Cholesterol\": 215, \"FastingBS\": 0, \"RestingECG\": \"Normal\", \"MaxHR\": 170, \"ExerciseAngina\": \"N\", \"Oldpeak\": 0.0, \"ST_Slope\": \"Up\", \"HeartDisease\": 0, \"HD\": \"False\", \"Prediction\": \"False\"}, {\"Age\": 59, \"Sex\": \"M\", \"ChestPainType\": \"ASY\", \"RestingBP\": 170, \"Cholesterol\": 326, \"FastingBS\": 0, \"RestingECG\": \"LVH\", \"MaxHR\": 140, \"ExerciseAngina\": \"Y\", \"Oldpeak\": 3.4, \"ST_Slope\": \"Down\", \"HeartDisease\": 1, \"HD\": \"True\", \"Prediction\": \"False\"}, {\"Age\": 50, \"Sex\": \"M\", \"ChestPainType\": \"ASY\", \"RestingBP\": 144, \"Cholesterol\": 200, \"FastingBS\": 0, \"RestingECG\": \"LVH\", \"MaxHR\": 126, \"ExerciseAngina\": \"Y\", \"Oldpeak\": 0.9, \"ST_Slope\": \"Flat\", \"HeartDisease\": 1, \"HD\": \"True\", \"Prediction\": \"False\"}, {\"Age\": 48, \"Sex\": \"M\", \"ChestPainType\": \"ASY\", \"RestingBP\": 130, \"Cholesterol\": 256, \"FastingBS\": 1, \"RestingECG\": \"LVH\", \"MaxHR\": 150, \"ExerciseAngina\": \"Y\", \"Oldpeak\": 0.0, \"ST_Slope\": \"Up\", \"HeartDisease\": 1, \"HD\": \"True\", \"Prediction\": \"False\"}, {\"Age\": 61, \"Sex\": \"M\", \"ChestPainType\": \"ASY\", \"RestingBP\": 140, \"Cholesterol\": 207, \"FastingBS\": 0, \"RestingECG\": \"LVH\", \"MaxHR\": 138, \"ExerciseAngina\": \"Y\", \"Oldpeak\": 1.9, \"ST_Slope\": \"Up\", \"HeartDisease\": 1, \"HD\": \"True\", \"Prediction\": \"True\"}, {\"Age\": 59, \"Sex\": \"M\", \"ChestPainType\": \"TA\", \"RestingBP\": 160, \"Cholesterol\": 273, \"FastingBS\": 0, \"RestingECG\": \"LVH\", \"MaxHR\": 125, \"ExerciseAngina\": \"N\", \"Oldpeak\": 0.0, \"ST_Slope\": \"Up\", \"HeartDisease\": 1, \"HD\": \"True\", \"Prediction\": \"True\"}, {\"Age\": 42, \"Sex\": \"M\", \"ChestPainType\": \"NAP\", \"RestingBP\": 130, \"Cholesterol\": 180, \"FastingBS\": 0, \"RestingECG\": \"Normal\", \"MaxHR\": 150, \"ExerciseAngina\": \"N\", \"Oldpeak\": 0.0, \"ST_Slope\": \"Up\", \"HeartDisease\": 0, \"HD\": \"False\", \"Prediction\": \"False\"}, {\"Age\": 48, \"Sex\": \"M\", \"ChestPainType\": \"ASY\", \"RestingBP\": 122, \"Cholesterol\": 222, \"FastingBS\": 0, \"RestingECG\": \"LVH\", \"MaxHR\": 186, \"ExerciseAngina\": \"N\", \"Oldpeak\": 0.0, \"ST_Slope\": \"Up\", \"HeartDisease\": 0, \"HD\": \"False\", \"Prediction\": \"False\"}, {\"Age\": 40, \"Sex\": \"M\", \"ChestPainType\": \"ASY\", \"RestingBP\": 152, \"Cholesterol\": 223, \"FastingBS\": 0, \"RestingECG\": \"Normal\", \"MaxHR\": 181, \"ExerciseAngina\": \"N\", \"Oldpeak\": 0.0, \"ST_Slope\": \"Up\", \"HeartDisease\": 1, \"HD\": \"True\", \"Prediction\": \"False\"}, {\"Age\": 62, \"Sex\": \"F\", \"ChestPainType\": \"ASY\", \"RestingBP\": 124, \"Cholesterol\": 209, \"FastingBS\": 0, \"RestingECG\": \"Normal\", \"MaxHR\": 163, \"ExerciseAngina\": \"N\", \"Oldpeak\": 0.0, \"ST_Slope\": \"Up\", \"HeartDisease\": 0, \"HD\": \"False\", \"Prediction\": \"False\"}, {\"Age\": 44, \"Sex\": \"M\", \"ChestPainType\": \"NAP\", \"RestingBP\": 130, \"Cholesterol\": 233, \"FastingBS\": 0, \"RestingECG\": \"Normal\", \"MaxHR\": 179, \"ExerciseAngina\": \"Y\", \"Oldpeak\": 0.4, \"ST_Slope\": \"Up\", \"HeartDisease\": 0, \"HD\": \"False\", \"Prediction\": \"False\"}, {\"Age\": 46, \"Sex\": \"M\", \"ChestPainType\": \"ATA\", \"RestingBP\": 101, \"Cholesterol\": 197, \"FastingBS\": 1, \"RestingECG\": \"Normal\", \"MaxHR\": 156, \"ExerciseAngina\": \"N\", \"Oldpeak\": 0.0, \"ST_Slope\": \"Up\", \"HeartDisease\": 0, \"HD\": \"False\", \"Prediction\": \"False\"}, {\"Age\": 59, \"Sex\": \"M\", \"ChestPainType\": \"NAP\", \"RestingBP\": 126, \"Cholesterol\": 218, \"FastingBS\": 1, \"RestingECG\": \"Normal\", \"MaxHR\": 134, \"ExerciseAngina\": \"N\", \"Oldpeak\": 2.2, \"ST_Slope\": \"Flat\", \"HeartDisease\": 1, \"HD\": \"True\", \"Prediction\": \"True\"}, {\"Age\": 58, \"Sex\": \"M\", \"ChestPainType\": \"NAP\", \"RestingBP\": 140, \"Cholesterol\": 211, \"FastingBS\": 1, \"RestingECG\": \"LVH\", \"MaxHR\": 165, \"ExerciseAngina\": \"N\", \"Oldpeak\": 0.0, \"ST_Slope\": \"Up\", \"HeartDisease\": 0, \"HD\": \"False\", \"Prediction\": \"False\"}, {\"Age\": 49, \"Sex\": \"M\", \"ChestPainType\": \"NAP\", \"RestingBP\": 118, \"Cholesterol\": 149, \"FastingBS\": 0, \"RestingECG\": \"LVH\", \"MaxHR\": 126, \"ExerciseAngina\": \"N\", \"Oldpeak\": 0.8, \"ST_Slope\": \"Up\", \"HeartDisease\": 1, \"HD\": \"True\", \"Prediction\": \"True\"}, {\"Age\": 44, \"Sex\": \"M\", \"ChestPainType\": \"ASY\", \"RestingBP\": 110, \"Cholesterol\": 197, \"FastingBS\": 0, \"RestingECG\": \"LVH\", \"MaxHR\": 177, \"ExerciseAngina\": \"N\", \"Oldpeak\": 0.0, \"ST_Slope\": \"Up\", \"HeartDisease\": 1, \"HD\": \"True\", \"Prediction\": \"False\"}, {\"Age\": 66, \"Sex\": \"M\", \"ChestPainType\": \"ATA\", \"RestingBP\": 160, \"Cholesterol\": 246, \"FastingBS\": 0, \"RestingECG\": \"Normal\", \"MaxHR\": 120, \"ExerciseAngina\": \"Y\", \"Oldpeak\": 0.0, \"ST_Slope\": \"Flat\", \"HeartDisease\": 1, \"HD\": \"True\", \"Prediction\": \"True\"}, {\"Age\": 65, \"Sex\": \"F\", \"ChestPainType\": \"ASY\", \"RestingBP\": 150, \"Cholesterol\": 225, \"FastingBS\": 0, \"RestingECG\": \"LVH\", \"MaxHR\": 114, \"ExerciseAngina\": \"N\", \"Oldpeak\": 1.0, \"ST_Slope\": \"Flat\", \"HeartDisease\": 1, \"HD\": \"True\", \"Prediction\": \"True\"}, {\"Age\": 42, \"Sex\": \"M\", \"ChestPainType\": \"ASY\", \"RestingBP\": 136, \"Cholesterol\": 315, \"FastingBS\": 0, \"RestingECG\": \"Normal\", \"MaxHR\": 125, \"ExerciseAngina\": \"Y\", \"Oldpeak\": 1.8, \"ST_Slope\": \"Flat\", \"HeartDisease\": 1, \"HD\": \"True\", \"Prediction\": \"False\"}, {\"Age\": 52, \"Sex\": \"M\", \"ChestPainType\": \"ATA\", \"RestingBP\": 128, \"Cholesterol\": 205, \"FastingBS\": 1, \"RestingECG\": \"Normal\", \"MaxHR\": 184, \"ExerciseAngina\": \"N\", \"Oldpeak\": 0.0, \"ST_Slope\": \"Up\", \"HeartDisease\": 0, \"HD\": \"False\", \"Prediction\": \"False\"}, {\"Age\": 65, \"Sex\": \"F\", \"ChestPainType\": \"NAP\", \"RestingBP\": 140, \"Cholesterol\": 417, \"FastingBS\": 1, \"RestingECG\": \"LVH\", \"MaxHR\": 157, \"ExerciseAngina\": \"N\", \"Oldpeak\": 0.8, \"ST_Slope\": \"Up\", \"HeartDisease\": 0, \"HD\": \"False\", \"Prediction\": \"False\"}, {\"Age\": 63, \"Sex\": \"F\", \"ChestPainType\": \"ATA\", \"RestingBP\": 140, \"Cholesterol\": 195, \"FastingBS\": 0, \"RestingECG\": \"Normal\", \"MaxHR\": 179, \"ExerciseAngina\": \"N\", \"Oldpeak\": 0.0, \"ST_Slope\": \"Up\", \"HeartDisease\": 0, \"HD\": \"False\", \"Prediction\": \"False\"}, {\"Age\": 45, \"Sex\": \"F\", \"ChestPainType\": \"ATA\", \"RestingBP\": 130, \"Cholesterol\": 234, \"FastingBS\": 0, \"RestingECG\": \"LVH\", \"MaxHR\": 175, \"ExerciseAngina\": \"N\", \"Oldpeak\": 0.6, \"ST_Slope\": \"Flat\", \"HeartDisease\": 0, \"HD\": \"False\", \"Prediction\": \"False\"}, {\"Age\": 41, \"Sex\": \"F\", \"ChestPainType\": \"ATA\", \"RestingBP\": 105, \"Cholesterol\": 198, \"FastingBS\": 0, \"RestingECG\": \"Normal\", \"MaxHR\": 168, \"ExerciseAngina\": \"N\", \"Oldpeak\": 0.0, \"ST_Slope\": \"Up\", \"HeartDisease\": 0, \"HD\": \"False\", \"Prediction\": \"False\"}, {\"Age\": 61, \"Sex\": \"M\", \"ChestPainType\": \"ASY\", \"RestingBP\": 138, \"Cholesterol\": 166, \"FastingBS\": 0, \"RestingECG\": \"LVH\", \"MaxHR\": 125, \"ExerciseAngina\": \"Y\", \"Oldpeak\": 3.6, \"ST_Slope\": \"Flat\", \"HeartDisease\": 1, \"HD\": \"True\", \"Prediction\": \"True\"}, {\"Age\": 60, \"Sex\": \"F\", \"ChestPainType\": \"NAP\", \"RestingBP\": 120, \"Cholesterol\": 178, \"FastingBS\": 1, \"RestingECG\": \"Normal\", \"MaxHR\": 96, \"ExerciseAngina\": \"N\", \"Oldpeak\": 0.0, \"ST_Slope\": \"Up\", \"HeartDisease\": 0, \"HD\": \"False\", \"Prediction\": \"True\"}, {\"Age\": 59, \"Sex\": \"F\", \"ChestPainType\": \"ASY\", \"RestingBP\": 174, \"Cholesterol\": 249, \"FastingBS\": 0, \"RestingECG\": \"Normal\", \"MaxHR\": 143, \"ExerciseAngina\": \"Y\", \"Oldpeak\": 0.0, \"ST_Slope\": \"Flat\", \"HeartDisease\": 1, \"HD\": \"True\", \"Prediction\": \"False\"}, {\"Age\": 62, \"Sex\": \"M\", \"ChestPainType\": \"ATA\", \"RestingBP\": 120, \"Cholesterol\": 281, \"FastingBS\": 0, \"RestingECG\": \"LVH\", \"MaxHR\": 103, \"ExerciseAngina\": \"N\", \"Oldpeak\": 1.4, \"ST_Slope\": \"Flat\", \"HeartDisease\": 1, \"HD\": \"True\", \"Prediction\": \"True\"}, {\"Age\": 57, \"Sex\": \"M\", \"ChestPainType\": \"NAP\", \"RestingBP\": 150, \"Cholesterol\": 126, \"FastingBS\": 1, \"RestingECG\": \"Normal\", \"MaxHR\": 173, \"ExerciseAngina\": \"N\", \"Oldpeak\": 0.2, \"ST_Slope\": \"Up\", \"HeartDisease\": 0, \"HD\": \"False\", \"Prediction\": \"False\"}, {\"Age\": 51, \"Sex\": \"F\", \"ChestPainType\": \"ASY\", \"RestingBP\": 130, \"Cholesterol\": 305, \"FastingBS\": 0, \"RestingECG\": \"Normal\", \"MaxHR\": 142, \"ExerciseAngina\": \"Y\", \"Oldpeak\": 1.2, \"ST_Slope\": \"Flat\", \"HeartDisease\": 1, \"HD\": \"True\", \"Prediction\": \"False\"}, {\"Age\": 44, \"Sex\": \"M\", \"ChestPainType\": \"NAP\", \"RestingBP\": 120, \"Cholesterol\": 226, \"FastingBS\": 0, \"RestingECG\": \"Normal\", \"MaxHR\": 169, \"ExerciseAngina\": \"N\", \"Oldpeak\": 0.0, \"ST_Slope\": \"Up\", \"HeartDisease\": 0, \"HD\": \"False\", \"Prediction\": \"False\"}, {\"Age\": 60, \"Sex\": \"F\", \"ChestPainType\": \"TA\", \"RestingBP\": 150, \"Cholesterol\": 240, \"FastingBS\": 0, \"RestingECG\": \"Normal\", \"MaxHR\": 171, \"ExerciseAngina\": \"N\", \"Oldpeak\": 0.9, \"ST_Slope\": \"Up\", \"HeartDisease\": 0, \"HD\": \"False\", \"Prediction\": \"False\"}, {\"Age\": 63, \"Sex\": \"M\", \"ChestPainType\": \"TA\", \"RestingBP\": 145, \"Cholesterol\": 233, \"FastingBS\": 1, \"RestingECG\": \"LVH\", \"MaxHR\": 150, \"ExerciseAngina\": \"N\", \"Oldpeak\": 2.3, \"ST_Slope\": \"Down\", \"HeartDisease\": 0, \"HD\": \"False\", \"Prediction\": \"False\"}, {\"Age\": 57, \"Sex\": \"M\", \"ChestPainType\": \"ASY\", \"RestingBP\": 150, \"Cholesterol\": 276, \"FastingBS\": 0, \"RestingECG\": \"LVH\", \"MaxHR\": 112, \"ExerciseAngina\": \"Y\", \"Oldpeak\": 0.6, \"ST_Slope\": \"Flat\", \"HeartDisease\": 1, \"HD\": \"True\", \"Prediction\": \"True\"}, {\"Age\": 51, \"Sex\": \"M\", \"ChestPainType\": \"ASY\", \"RestingBP\": 140, \"Cholesterol\": 261, \"FastingBS\": 0, \"RestingECG\": \"LVH\", \"MaxHR\": 186, \"ExerciseAngina\": \"Y\", \"Oldpeak\": 0.0, \"ST_Slope\": \"Up\", \"HeartDisease\": 0, \"HD\": \"False\", \"Prediction\": \"False\"}, {\"Age\": 58, \"Sex\": \"F\", \"ChestPainType\": \"ATA\", \"RestingBP\": 136, \"Cholesterol\": 319, \"FastingBS\": 1, \"RestingECG\": \"LVH\", \"MaxHR\": 152, \"ExerciseAngina\": \"N\", \"Oldpeak\": 0.0, \"ST_Slope\": \"Up\", \"HeartDisease\": 1, \"HD\": \"True\", \"Prediction\": \"False\"}, {\"Age\": 44, \"Sex\": \"F\", \"ChestPainType\": \"NAP\", \"RestingBP\": 118, \"Cholesterol\": 242, \"FastingBS\": 0, \"RestingECG\": \"Normal\", \"MaxHR\": 149, \"ExerciseAngina\": \"N\", \"Oldpeak\": 0.3, \"ST_Slope\": \"Flat\", \"HeartDisease\": 0, \"HD\": \"False\", \"Prediction\": \"False\"}, {\"Age\": 47, \"Sex\": \"M\", \"ChestPainType\": \"NAP\", \"RestingBP\": 108, \"Cholesterol\": 243, \"FastingBS\": 0, \"RestingECG\": \"Normal\", \"MaxHR\": 152, \"ExerciseAngina\": \"N\", \"Oldpeak\": 0.0, \"ST_Slope\": \"Up\", \"HeartDisease\": 1, \"HD\": \"True\", \"Prediction\": \"False\"}, {\"Age\": 61, \"Sex\": \"M\", \"ChestPainType\": \"ASY\", \"RestingBP\": 120, \"Cholesterol\": 260, \"FastingBS\": 0, \"RestingECG\": \"Normal\", \"MaxHR\": 140, \"ExerciseAngina\": \"Y\", \"Oldpeak\": 3.6, \"ST_Slope\": \"Flat\", \"HeartDisease\": 1, \"HD\": \"True\", \"Prediction\": \"True\"}, {\"Age\": 57, \"Sex\": \"F\", \"ChestPainType\": \"ASY\", \"RestingBP\": 120, \"Cholesterol\": 354, \"FastingBS\": 0, \"RestingECG\": \"Normal\", \"MaxHR\": 163, \"ExerciseAngina\": \"Y\", \"Oldpeak\": 0.6, \"ST_Slope\": \"Up\", \"HeartDisease\": 0, \"HD\": \"False\", \"Prediction\": \"False\"}, {\"Age\": 70, \"Sex\": \"M\", \"ChestPainType\": \"ATA\", \"RestingBP\": 156, \"Cholesterol\": 245, \"FastingBS\": 0, \"RestingECG\": \"LVH\", \"MaxHR\": 143, \"ExerciseAngina\": \"N\", \"Oldpeak\": 0.0, \"ST_Slope\": \"Up\", \"HeartDisease\": 0, \"HD\": \"False\", \"Prediction\": \"False\"}, {\"Age\": 76, \"Sex\": \"F\", \"ChestPainType\": \"NAP\", \"RestingBP\": 140, \"Cholesterol\": 197, \"FastingBS\": 0, \"RestingECG\": \"ST\", \"MaxHR\": 116, \"ExerciseAngina\": \"N\", \"Oldpeak\": 1.1, \"ST_Slope\": \"Flat\", \"HeartDisease\": 0, \"HD\": \"False\", \"Prediction\": \"True\"}, {\"Age\": 67, \"Sex\": \"F\", \"ChestPainType\": \"ASY\", \"RestingBP\": 106, \"Cholesterol\": 223, \"FastingBS\": 0, \"RestingECG\": \"Normal\", \"MaxHR\": 142, \"ExerciseAngina\": \"N\", \"Oldpeak\": 0.3, \"ST_Slope\": \"Up\", \"HeartDisease\": 0, \"HD\": \"False\", \"Prediction\": \"False\"}, {\"Age\": 45, \"Sex\": \"M\", \"ChestPainType\": \"ASY\", \"RestingBP\": 142, \"Cholesterol\": 309, \"FastingBS\": 0, \"RestingECG\": \"LVH\", \"MaxHR\": 147, \"ExerciseAngina\": \"Y\", \"Oldpeak\": 0.0, \"ST_Slope\": \"Flat\", \"HeartDisease\": 1, \"HD\": \"True\", \"Prediction\": \"False\"}, {\"Age\": 45, \"Sex\": \"M\", \"ChestPainType\": \"ASY\", \"RestingBP\": 104, \"Cholesterol\": 208, \"FastingBS\": 0, \"RestingECG\": \"LVH\", \"MaxHR\": 148, \"ExerciseAngina\": \"Y\", \"Oldpeak\": 3.0, \"ST_Slope\": \"Flat\", \"HeartDisease\": 0, \"HD\": \"False\", \"Prediction\": \"False\"}, {\"Age\": 39, \"Sex\": \"F\", \"ChestPainType\": \"NAP\", \"RestingBP\": 94, \"Cholesterol\": 199, \"FastingBS\": 0, \"RestingECG\": \"Normal\", \"MaxHR\": 179, \"ExerciseAngina\": \"N\", \"Oldpeak\": 0.0, \"ST_Slope\": \"Up\", \"HeartDisease\": 0, \"HD\": \"False\", \"Prediction\": \"False\"}, {\"Age\": 42, \"Sex\": \"F\", \"ChestPainType\": \"NAP\", \"RestingBP\": 120, \"Cholesterol\": 209, \"FastingBS\": 0, \"RestingECG\": \"Normal\", \"MaxHR\": 173, \"ExerciseAngina\": \"N\", \"Oldpeak\": 0.0, \"ST_Slope\": \"Flat\", \"HeartDisease\": 0, \"HD\": \"False\", \"Prediction\": \"False\"}, {\"Age\": 56, \"Sex\": \"M\", \"ChestPainType\": \"ATA\", \"RestingBP\": 120, \"Cholesterol\": 236, \"FastingBS\": 0, \"RestingECG\": \"Normal\", \"MaxHR\": 178, \"ExerciseAngina\": \"N\", \"Oldpeak\": 0.8, \"ST_Slope\": \"Up\", \"HeartDisease\": 0, \"HD\": \"False\", \"Prediction\": \"False\"}, {\"Age\": 58, \"Sex\": \"M\", \"ChestPainType\": \"ASY\", \"RestingBP\": 146, \"Cholesterol\": 218, \"FastingBS\": 0, \"RestingECG\": \"Normal\", \"MaxHR\": 105, \"ExerciseAngina\": \"N\", \"Oldpeak\": 2.0, \"ST_Slope\": \"Flat\", \"HeartDisease\": 1, \"HD\": \"True\", \"Prediction\": \"True\"}, {\"Age\": 35, \"Sex\": \"M\", \"ChestPainType\": \"ASY\", \"RestingBP\": 120, \"Cholesterol\": 198, \"FastingBS\": 0, \"RestingECG\": \"Normal\", \"MaxHR\": 130, \"ExerciseAngina\": \"Y\", \"Oldpeak\": 1.6, \"ST_Slope\": \"Flat\", \"HeartDisease\": 1, \"HD\": \"True\", \"Prediction\": \"False\"}, {\"Age\": 58, \"Sex\": \"M\", \"ChestPainType\": \"ASY\", \"RestingBP\": 150, \"Cholesterol\": 270, \"FastingBS\": 0, \"RestingECG\": \"LVH\", \"MaxHR\": 111, \"ExerciseAngina\": \"Y\", \"Oldpeak\": 0.8, \"ST_Slope\": \"Up\", \"HeartDisease\": 1, \"HD\": \"True\", \"Prediction\": \"True\"}, {\"Age\": 41, \"Sex\": \"M\", \"ChestPainType\": \"NAP\", \"RestingBP\": 130, \"Cholesterol\": 214, \"FastingBS\": 0, \"RestingECG\": \"LVH\", \"MaxHR\": 168, \"ExerciseAngina\": \"N\", \"Oldpeak\": 2.0, \"ST_Slope\": \"Flat\", \"HeartDisease\": 0, \"HD\": \"False\", \"Prediction\": \"False\"}, {\"Age\": 57, \"Sex\": \"M\", \"ChestPainType\": \"ASY\", \"RestingBP\": 110, \"Cholesterol\": 201, \"FastingBS\": 0, \"RestingECG\": \"Normal\", \"MaxHR\": 126, \"ExerciseAngina\": \"Y\", \"Oldpeak\": 1.5, \"ST_Slope\": \"Flat\", \"HeartDisease\": 0, \"HD\": \"False\", \"Prediction\": \"False\"}, {\"Age\": 42, \"Sex\": \"M\", \"ChestPainType\": \"TA\", \"RestingBP\": 148, \"Cholesterol\": 244, \"FastingBS\": 0, \"RestingECG\": \"LVH\", \"MaxHR\": 178, \"ExerciseAngina\": \"N\", \"Oldpeak\": 0.8, \"ST_Slope\": \"Up\", \"HeartDisease\": 0, \"HD\": \"False\", \"Prediction\": \"False\"}, {\"Age\": 62, \"Sex\": \"M\", \"ChestPainType\": \"ATA\", \"RestingBP\": 128, \"Cholesterol\": 208, \"FastingBS\": 1, \"RestingECG\": \"LVH\", \"MaxHR\": 140, \"ExerciseAngina\": \"N\", \"Oldpeak\": 0.0, \"ST_Slope\": \"Up\", \"HeartDisease\": 0, \"HD\": \"False\", \"Prediction\": \"True\"}, {\"Age\": 59, \"Sex\": \"M\", \"ChestPainType\": \"TA\", \"RestingBP\": 178, \"Cholesterol\": 270, \"FastingBS\": 0, \"RestingECG\": \"LVH\", \"MaxHR\": 145, \"ExerciseAngina\": \"N\", \"Oldpeak\": 4.2, \"ST_Slope\": \"Down\", \"HeartDisease\": 0, \"HD\": \"False\", \"Prediction\": \"True\"}, {\"Age\": 41, \"Sex\": \"F\", \"ChestPainType\": \"ATA\", \"RestingBP\": 126, \"Cholesterol\": 306, \"FastingBS\": 0, \"RestingECG\": \"Normal\", \"MaxHR\": 163, \"ExerciseAngina\": \"N\", \"Oldpeak\": 0.0, \"ST_Slope\": \"Up\", \"HeartDisease\": 0, \"HD\": \"False\", \"Prediction\": \"False\"}, {\"Age\": 50, \"Sex\": \"M\", \"ChestPainType\": \"ASY\", \"RestingBP\": 150, \"Cholesterol\": 243, \"FastingBS\": 0, \"RestingECG\": \"LVH\", \"MaxHR\": 128, \"ExerciseAngina\": \"N\", \"Oldpeak\": 2.6, \"ST_Slope\": \"Flat\", \"HeartDisease\": 1, \"HD\": \"True\", \"Prediction\": \"True\"}, {\"Age\": 59, \"Sex\": \"M\", \"ChestPainType\": \"ATA\", \"RestingBP\": 140, \"Cholesterol\": 221, \"FastingBS\": 0, \"RestingECG\": \"Normal\", \"MaxHR\": 164, \"ExerciseAngina\": \"Y\", \"Oldpeak\": 0.0, \"ST_Slope\": \"Up\", \"HeartDisease\": 0, \"HD\": \"False\", \"Prediction\": \"False\"}, {\"Age\": 61, \"Sex\": \"F\", \"ChestPainType\": \"ASY\", \"RestingBP\": 130, \"Cholesterol\": 330, \"FastingBS\": 0, \"RestingECG\": \"LVH\", \"MaxHR\": 169, \"ExerciseAngina\": \"N\", \"Oldpeak\": 0.0, \"ST_Slope\": \"Up\", \"HeartDisease\": 1, \"HD\": \"True\", \"Prediction\": \"False\"}, {\"Age\": 54, \"Sex\": \"M\", \"ChestPainType\": \"ASY\", \"RestingBP\": 124, \"Cholesterol\": 266, \"FastingBS\": 0, \"RestingECG\": \"LVH\", \"MaxHR\": 109, \"ExerciseAngina\": \"Y\", \"Oldpeak\": 2.2, \"ST_Slope\": \"Flat\", \"HeartDisease\": 1, \"HD\": \"True\", \"Prediction\": \"True\"}, {\"Age\": 54, \"Sex\": \"M\", \"ChestPainType\": \"ASY\", \"RestingBP\": 110, \"Cholesterol\": 206, \"FastingBS\": 0, \"RestingECG\": \"LVH\", \"MaxHR\": 108, \"ExerciseAngina\": \"Y\", \"Oldpeak\": 0.0, \"ST_Slope\": \"Flat\", \"HeartDisease\": 1, \"HD\": \"True\", \"Prediction\": \"False\"}, {\"Age\": 52, \"Sex\": \"M\", \"ChestPainType\": \"ASY\", \"RestingBP\": 125, \"Cholesterol\": 212, \"FastingBS\": 0, \"RestingECG\": \"Normal\", \"MaxHR\": 168, \"ExerciseAngina\": \"N\", \"Oldpeak\": 1.0, \"ST_Slope\": \"Up\", \"HeartDisease\": 1, \"HD\": \"True\", \"Prediction\": \"False\"}, {\"Age\": 47, \"Sex\": \"M\", \"ChestPainType\": \"ASY\", \"RestingBP\": 110, \"Cholesterol\": 275, \"FastingBS\": 0, \"RestingECG\": \"LVH\", \"MaxHR\": 118, \"ExerciseAngina\": \"Y\", \"Oldpeak\": 1.0, \"ST_Slope\": \"Flat\", \"HeartDisease\": 1, \"HD\": \"True\", \"Prediction\": \"False\"}, {\"Age\": 66, \"Sex\": \"M\", \"ChestPainType\": \"ASY\", \"RestingBP\": 120, \"Cholesterol\": 302, \"FastingBS\": 0, \"RestingECG\": \"LVH\", \"MaxHR\": 151, \"ExerciseAngina\": \"N\", \"Oldpeak\": 0.4, \"ST_Slope\": \"Flat\", \"HeartDisease\": 0, \"HD\": \"False\", \"Prediction\": \"False\"}, {\"Age\": 58, \"Sex\": \"M\", \"ChestPainType\": \"ASY\", \"RestingBP\": 100, \"Cholesterol\": 234, \"FastingBS\": 0, \"RestingECG\": \"Normal\", \"MaxHR\": 156, \"ExerciseAngina\": \"N\", \"Oldpeak\": 0.1, \"ST_Slope\": \"Up\", \"HeartDisease\": 1, \"HD\": \"True\", \"Prediction\": \"True\"}, {\"Age\": 64, \"Sex\": \"F\", \"ChestPainType\": \"NAP\", \"RestingBP\": 140, \"Cholesterol\": 313, \"FastingBS\": 0, \"RestingECG\": \"Normal\", \"MaxHR\": 133, \"ExerciseAngina\": \"N\", \"Oldpeak\": 0.2, \"ST_Slope\": \"Up\", \"HeartDisease\": 0, \"HD\": \"False\", \"Prediction\": \"True\"}, {\"Age\": 50, \"Sex\": \"F\", \"ChestPainType\": \"ATA\", \"RestingBP\": 120, \"Cholesterol\": 244, \"FastingBS\": 0, \"RestingECG\": \"Normal\", \"MaxHR\": 162, \"ExerciseAngina\": \"N\", \"Oldpeak\": 1.1, \"ST_Slope\": \"Up\", \"HeartDisease\": 0, \"HD\": \"False\", \"Prediction\": \"False\"}, {\"Age\": 44, \"Sex\": \"F\", \"ChestPainType\": \"NAP\", \"RestingBP\": 108, \"Cholesterol\": 141, \"FastingBS\": 0, \"RestingECG\": \"Normal\", \"MaxHR\": 175, \"ExerciseAngina\": \"N\", \"Oldpeak\": 0.6, \"ST_Slope\": \"Flat\", \"HeartDisease\": 0, \"HD\": \"False\", \"Prediction\": \"False\"}, {\"Age\": 67, \"Sex\": \"M\", \"ChestPainType\": \"ASY\", \"RestingBP\": 120, \"Cholesterol\": 237, \"FastingBS\": 0, \"RestingECG\": \"Normal\", \"MaxHR\": 71, \"ExerciseAngina\": \"N\", \"Oldpeak\": 1.0, \"ST_Slope\": \"Flat\", \"HeartDisease\": 1, \"HD\": \"True\", \"Prediction\": \"False\"}, {\"Age\": 49, \"Sex\": \"F\", \"ChestPainType\": \"ASY\", \"RestingBP\": 130, \"Cholesterol\": 269, \"FastingBS\": 0, \"RestingECG\": \"Normal\", \"MaxHR\": 163, \"ExerciseAngina\": \"N\", \"Oldpeak\": 0.0, \"ST_Slope\": \"Up\", \"HeartDisease\": 0, \"HD\": \"False\", \"Prediction\": \"False\"}, {\"Age\": 57, \"Sex\": \"M\", \"ChestPainType\": \"ASY\", \"RestingBP\": 165, \"Cholesterol\": 289, \"FastingBS\": 1, \"RestingECG\": \"LVH\", \"MaxHR\": 124, \"ExerciseAngina\": \"N\", \"Oldpeak\": 1.0, \"ST_Slope\": \"Flat\", \"HeartDisease\": 1, \"HD\": \"True\", \"Prediction\": \"True\"}, {\"Age\": 63, \"Sex\": \"M\", \"ChestPainType\": \"ASY\", \"RestingBP\": 130, \"Cholesterol\": 254, \"FastingBS\": 0, \"RestingECG\": \"LVH\", \"MaxHR\": 147, \"ExerciseAngina\": \"N\", \"Oldpeak\": 1.4, \"ST_Slope\": \"Flat\", \"HeartDisease\": 1, \"HD\": \"True\", \"Prediction\": \"True\"}, {\"Age\": 48, \"Sex\": \"M\", \"ChestPainType\": \"ASY\", \"RestingBP\": 124, \"Cholesterol\": 274, \"FastingBS\": 0, \"RestingECG\": \"LVH\", \"MaxHR\": 166, \"ExerciseAngina\": \"N\", \"Oldpeak\": 0.5, \"ST_Slope\": \"Flat\", \"HeartDisease\": 1, \"HD\": \"True\", \"Prediction\": \"False\"}, {\"Age\": 51, \"Sex\": \"M\", \"ChestPainType\": \"NAP\", \"RestingBP\": 100, \"Cholesterol\": 222, \"FastingBS\": 0, \"RestingECG\": \"Normal\", \"MaxHR\": 143, \"ExerciseAngina\": \"Y\", \"Oldpeak\": 1.2, \"ST_Slope\": \"Flat\", \"HeartDisease\": 0, \"HD\": \"False\", \"Prediction\": \"False\"}, {\"Age\": 60, \"Sex\": \"F\", \"ChestPainType\": \"ASY\", \"RestingBP\": 150, \"Cholesterol\": 258, \"FastingBS\": 0, \"RestingECG\": \"LVH\", \"MaxHR\": 157, \"ExerciseAngina\": \"N\", \"Oldpeak\": 2.6, \"ST_Slope\": \"Flat\", \"HeartDisease\": 1, \"HD\": \"True\", \"Prediction\": \"True\"}, {\"Age\": 59, \"Sex\": \"M\", \"ChestPainType\": \"ASY\", \"RestingBP\": 140, \"Cholesterol\": 177, \"FastingBS\": 0, \"RestingECG\": \"Normal\", \"MaxHR\": 162, \"ExerciseAngina\": \"Y\", \"Oldpeak\": 0.0, \"ST_Slope\": \"Up\", \"HeartDisease\": 1, \"HD\": \"True\", \"Prediction\": \"False\"}, {\"Age\": 45, \"Sex\": \"F\", \"ChestPainType\": \"ATA\", \"RestingBP\": 112, \"Cholesterol\": 160, \"FastingBS\": 0, \"RestingECG\": \"Normal\", \"MaxHR\": 138, \"ExerciseAngina\": \"N\", \"Oldpeak\": 0.0, \"ST_Slope\": \"Flat\", \"HeartDisease\": 0, \"HD\": \"False\", \"Prediction\": \"False\"}, {\"Age\": 55, \"Sex\": \"F\", \"ChestPainType\": \"ASY\", \"RestingBP\": 180, \"Cholesterol\": 327, \"FastingBS\": 0, \"RestingECG\": \"ST\", \"MaxHR\": 117, \"ExerciseAngina\": \"Y\", \"Oldpeak\": 3.4, \"ST_Slope\": \"Flat\", \"HeartDisease\": 1, \"HD\": \"True\", \"Prediction\": \"True\"}, {\"Age\": 41, \"Sex\": \"M\", \"ChestPainType\": \"ATA\", \"RestingBP\": 110, \"Cholesterol\": 235, \"FastingBS\": 0, \"RestingECG\": \"Normal\", \"MaxHR\": 153, \"ExerciseAngina\": \"N\", \"Oldpeak\": 0.0, \"ST_Slope\": \"Up\", \"HeartDisease\": 0, \"HD\": \"False\", \"Prediction\": \"False\"}, {\"Age\": 60, \"Sex\": \"F\", \"ChestPainType\": \"ASY\", \"RestingBP\": 158, \"Cholesterol\": 305, \"FastingBS\": 0, \"RestingECG\": \"LVH\", \"MaxHR\": 161, \"ExerciseAngina\": \"N\", \"Oldpeak\": 0.0, \"ST_Slope\": \"Up\", \"HeartDisease\": 1, \"HD\": \"True\", \"Prediction\": \"False\"}, {\"Age\": 54, \"Sex\": \"F\", \"ChestPainType\": \"NAP\", \"RestingBP\": 135, \"Cholesterol\": 304, \"FastingBS\": 1, \"RestingECG\": \"Normal\", \"MaxHR\": 170, \"ExerciseAngina\": \"N\", \"Oldpeak\": 0.0, \"ST_Slope\": \"Up\", \"HeartDisease\": 0, \"HD\": \"False\", \"Prediction\": \"False\"}, {\"Age\": 42, \"Sex\": \"M\", \"ChestPainType\": \"ATA\", \"RestingBP\": 120, \"Cholesterol\": 295, \"FastingBS\": 0, \"RestingECG\": \"Normal\", \"MaxHR\": 162, \"ExerciseAngina\": \"N\", \"Oldpeak\": 0.0, \"ST_Slope\": \"Up\", \"HeartDisease\": 0, \"HD\": \"False\", \"Prediction\": \"False\"}, {\"Age\": 49, \"Sex\": \"F\", \"ChestPainType\": \"ATA\", \"RestingBP\": 134, \"Cholesterol\": 271, \"FastingBS\": 0, \"RestingECG\": \"Normal\", \"MaxHR\": 162, \"ExerciseAngina\": \"N\", \"Oldpeak\": 0.0, \"ST_Slope\": \"Flat\", \"HeartDisease\": 0, \"HD\": \"False\", \"Prediction\": \"False\"}, {\"Age\": 46, \"Sex\": \"M\", \"ChestPainType\": \"ASY\", \"RestingBP\": 120, \"Cholesterol\": 249, \"FastingBS\": 0, \"RestingECG\": \"LVH\", \"MaxHR\": 144, \"ExerciseAngina\": \"N\", \"Oldpeak\": 0.8, \"ST_Slope\": \"Up\", \"HeartDisease\": 1, \"HD\": \"True\", \"Prediction\": \"False\"}, {\"Age\": 56, \"Sex\": \"F\", \"ChestPainType\": \"ASY\", \"RestingBP\": 200, \"Cholesterol\": 288, \"FastingBS\": 1, \"RestingECG\": \"LVH\", \"MaxHR\": 133, \"ExerciseAngina\": \"Y\", \"Oldpeak\": 4.0, \"ST_Slope\": \"Down\", \"HeartDisease\": 1, \"HD\": \"True\", \"Prediction\": \"True\"}, {\"Age\": 66, \"Sex\": \"F\", \"ChestPainType\": \"TA\", \"RestingBP\": 150, \"Cholesterol\": 226, \"FastingBS\": 0, \"RestingECG\": \"Normal\", \"MaxHR\": 114, \"ExerciseAngina\": \"N\", \"Oldpeak\": 2.6, \"ST_Slope\": \"Down\", \"HeartDisease\": 0, \"HD\": \"False\", \"Prediction\": \"True\"}, {\"Age\": 56, \"Sex\": \"M\", \"ChestPainType\": \"ASY\", \"RestingBP\": 130, \"Cholesterol\": 283, \"FastingBS\": 1, \"RestingECG\": \"LVH\", \"MaxHR\": 103, \"ExerciseAngina\": \"Y\", \"Oldpeak\": 1.6, \"ST_Slope\": \"Down\", \"HeartDisease\": 1, \"HD\": \"True\", \"Prediction\": \"True\"}, {\"Age\": 49, \"Sex\": \"M\", \"ChestPainType\": \"NAP\", \"RestingBP\": 120, \"Cholesterol\": 188, \"FastingBS\": 0, \"RestingECG\": \"Normal\", \"MaxHR\": 139, \"ExerciseAngina\": \"N\", \"Oldpeak\": 2.0, \"ST_Slope\": \"Flat\", \"HeartDisease\": 1, \"HD\": \"True\", \"Prediction\": \"False\"}, {\"Age\": 54, \"Sex\": \"M\", \"ChestPainType\": \"ASY\", \"RestingBP\": 122, \"Cholesterol\": 286, \"FastingBS\": 0, \"RestingECG\": \"LVH\", \"MaxHR\": 116, \"ExerciseAngina\": \"Y\", \"Oldpeak\": 3.2, \"ST_Slope\": \"Flat\", \"HeartDisease\": 1, \"HD\": \"True\", \"Prediction\": \"False\"}, {\"Age\": 57, \"Sex\": \"M\", \"ChestPainType\": \"ASY\", \"RestingBP\": 152, \"Cholesterol\": 274, \"FastingBS\": 0, \"RestingECG\": \"Normal\", \"MaxHR\": 88, \"ExerciseAngina\": \"Y\", \"Oldpeak\": 1.2, \"ST_Slope\": \"Flat\", \"HeartDisease\": 1, \"HD\": \"True\", \"Prediction\": \"True\"}, {\"Age\": 65, \"Sex\": \"F\", \"ChestPainType\": \"NAP\", \"RestingBP\": 160, \"Cholesterol\": 360, \"FastingBS\": 0, \"RestingECG\": \"LVH\", \"MaxHR\": 151, \"ExerciseAngina\": \"N\", \"Oldpeak\": 0.8, \"ST_Slope\": \"Up\", \"HeartDisease\": 0, \"HD\": \"False\", \"Prediction\": \"False\"}, {\"Age\": 54, \"Sex\": \"M\", \"ChestPainType\": \"NAP\", \"RestingBP\": 125, \"Cholesterol\": 273, \"FastingBS\": 0, \"RestingECG\": \"LVH\", \"MaxHR\": 152, \"ExerciseAngina\": \"N\", \"Oldpeak\": 0.5, \"ST_Slope\": \"Down\", \"HeartDisease\": 0, \"HD\": \"False\", \"Prediction\": \"False\"}, {\"Age\": 54, \"Sex\": \"F\", \"ChestPainType\": \"NAP\", \"RestingBP\": 160, \"Cholesterol\": 201, \"FastingBS\": 0, \"RestingECG\": \"Normal\", \"MaxHR\": 163, \"ExerciseAngina\": \"N\", \"Oldpeak\": 0.0, \"ST_Slope\": \"Up\", \"HeartDisease\": 0, \"HD\": \"False\", \"Prediction\": \"False\"}, {\"Age\": 62, \"Sex\": \"M\", \"ChestPainType\": \"ASY\", \"RestingBP\": 120, \"Cholesterol\": 267, \"FastingBS\": 0, \"RestingECG\": \"Normal\", \"MaxHR\": 99, \"ExerciseAngina\": \"Y\", \"Oldpeak\": 1.8, \"ST_Slope\": \"Flat\", \"HeartDisease\": 1, \"HD\": \"True\", \"Prediction\": \"True\"}, {\"Age\": 52, \"Sex\": \"F\", \"ChestPainType\": \"NAP\", \"RestingBP\": 136, \"Cholesterol\": 196, \"FastingBS\": 0, \"RestingECG\": \"LVH\", \"MaxHR\": 169, \"ExerciseAngina\": \"N\", \"Oldpeak\": 0.1, \"ST_Slope\": \"Flat\", \"HeartDisease\": 0, \"HD\": \"False\", \"Prediction\": \"False\"}, {\"Age\": 52, \"Sex\": \"M\", \"ChestPainType\": \"ATA\", \"RestingBP\": 134, \"Cholesterol\": 201, \"FastingBS\": 0, \"RestingECG\": \"Normal\", \"MaxHR\": 158, \"ExerciseAngina\": \"N\", \"Oldpeak\": 0.8, \"ST_Slope\": \"Up\", \"HeartDisease\": 0, \"HD\": \"False\", \"Prediction\": \"False\"}, {\"Age\": 60, \"Sex\": \"M\", \"ChestPainType\": \"ASY\", \"RestingBP\": 117, \"Cholesterol\": 230, \"FastingBS\": 1, \"RestingECG\": \"Normal\", \"MaxHR\": 160, \"ExerciseAngina\": \"Y\", \"Oldpeak\": 1.4, \"ST_Slope\": \"Up\", \"HeartDisease\": 1, \"HD\": \"True\", \"Prediction\": \"False\"}, {\"Age\": 63, \"Sex\": \"F\", \"ChestPainType\": \"ASY\", \"RestingBP\": 108, \"Cholesterol\": 269, \"FastingBS\": 0, \"RestingECG\": \"Normal\", \"MaxHR\": 169, \"ExerciseAngina\": \"Y\", \"Oldpeak\": 1.8, \"ST_Slope\": \"Flat\", \"HeartDisease\": 1, \"HD\": \"True\", \"Prediction\": \"False\"}, {\"Age\": 66, \"Sex\": \"M\", \"ChestPainType\": \"ASY\", \"RestingBP\": 112, \"Cholesterol\": 212, \"FastingBS\": 0, \"RestingECG\": \"LVH\", \"MaxHR\": 132, \"ExerciseAngina\": \"Y\", \"Oldpeak\": 0.1, \"ST_Slope\": \"Up\", \"HeartDisease\": 1, \"HD\": \"True\", \"Prediction\": \"False\"}, {\"Age\": 42, \"Sex\": \"M\", \"ChestPainType\": \"ASY\", \"RestingBP\": 140, \"Cholesterol\": 226, \"FastingBS\": 0, \"RestingECG\": \"Normal\", \"MaxHR\": 178, \"ExerciseAngina\": \"N\", \"Oldpeak\": 0.0, \"ST_Slope\": \"Up\", \"HeartDisease\": 0, \"HD\": \"False\", \"Prediction\": \"False\"}, {\"Age\": 64, \"Sex\": \"M\", \"ChestPainType\": \"ASY\", \"RestingBP\": 120, \"Cholesterol\": 246, \"FastingBS\": 0, \"RestingECG\": \"LVH\", \"MaxHR\": 96, \"ExerciseAngina\": \"Y\", \"Oldpeak\": 2.2, \"ST_Slope\": \"Down\", \"HeartDisease\": 1, \"HD\": \"True\", \"Prediction\": \"False\"}, {\"Age\": 54, \"Sex\": \"M\", \"ChestPainType\": \"NAP\", \"RestingBP\": 150, \"Cholesterol\": 232, \"FastingBS\": 0, \"RestingECG\": \"LVH\", \"MaxHR\": 165, \"ExerciseAngina\": \"N\", \"Oldpeak\": 1.6, \"ST_Slope\": \"Up\", \"HeartDisease\": 0, \"HD\": \"False\", \"Prediction\": \"False\"}, {\"Age\": 46, \"Sex\": \"F\", \"ChestPainType\": \"NAP\", \"RestingBP\": 142, \"Cholesterol\": 177, \"FastingBS\": 0, \"RestingECG\": \"LVH\", \"MaxHR\": 160, \"ExerciseAngina\": \"Y\", \"Oldpeak\": 1.4, \"ST_Slope\": \"Down\", \"HeartDisease\": 0, \"HD\": \"False\", \"Prediction\": \"False\"}, {\"Age\": 67, \"Sex\": \"F\", \"ChestPainType\": \"NAP\", \"RestingBP\": 152, \"Cholesterol\": 277, \"FastingBS\": 0, \"RestingECG\": \"Normal\", \"MaxHR\": 172, \"ExerciseAngina\": \"N\", \"Oldpeak\": 0.0, \"ST_Slope\": \"Up\", \"HeartDisease\": 0, \"HD\": \"False\", \"Prediction\": \"False\"}, {\"Age\": 56, \"Sex\": \"M\", \"ChestPainType\": \"ASY\", \"RestingBP\": 125, \"Cholesterol\": 249, \"FastingBS\": 1, \"RestingECG\": \"LVH\", \"MaxHR\": 144, \"ExerciseAngina\": \"Y\", \"Oldpeak\": 1.2, \"ST_Slope\": \"Flat\", \"HeartDisease\": 1, \"HD\": \"True\", \"Prediction\": \"True\"}, {\"Age\": 34, \"Sex\": \"F\", \"ChestPainType\": \"ATA\", \"RestingBP\": 118, \"Cholesterol\": 210, \"FastingBS\": 0, \"RestingECG\": \"Normal\", \"MaxHR\": 192, \"ExerciseAngina\": \"N\", \"Oldpeak\": 0.7, \"ST_Slope\": \"Up\", \"HeartDisease\": 0, \"HD\": \"False\", \"Prediction\": \"False\"}, {\"Age\": 57, \"Sex\": \"M\", \"ChestPainType\": \"ASY\", \"RestingBP\": 132, \"Cholesterol\": 207, \"FastingBS\": 0, \"RestingECG\": \"Normal\", \"MaxHR\": 168, \"ExerciseAngina\": \"Y\", \"Oldpeak\": 0.0, \"ST_Slope\": \"Up\", \"HeartDisease\": 0, \"HD\": \"False\", \"Prediction\": \"False\"}, {\"Age\": 64, \"Sex\": \"M\", \"ChestPainType\": \"ASY\", \"RestingBP\": 145, \"Cholesterol\": 212, \"FastingBS\": 0, \"RestingECG\": \"LVH\", \"MaxHR\": 132, \"ExerciseAngina\": \"N\", \"Oldpeak\": 2.0, \"ST_Slope\": \"Flat\", \"HeartDisease\": 1, \"HD\": \"True\", \"Prediction\": \"True\"}, {\"Age\": 59, \"Sex\": \"M\", \"ChestPainType\": \"ASY\", \"RestingBP\": 138, \"Cholesterol\": 271, \"FastingBS\": 0, \"RestingECG\": \"LVH\", \"MaxHR\": 182, \"ExerciseAngina\": \"N\", \"Oldpeak\": 0.0, \"ST_Slope\": \"Up\", \"HeartDisease\": 0, \"HD\": \"False\", \"Prediction\": \"False\"}, {\"Age\": 50, \"Sex\": \"M\", \"ChestPainType\": \"NAP\", \"RestingBP\": 140, \"Cholesterol\": 233, \"FastingBS\": 0, \"RestingECG\": \"Normal\", \"MaxHR\": 163, \"ExerciseAngina\": \"N\", \"Oldpeak\": 0.6, \"ST_Slope\": \"Flat\", \"HeartDisease\": 1, \"HD\": \"True\", \"Prediction\": \"False\"}, {\"Age\": 51, \"Sex\": \"M\", \"ChestPainType\": \"TA\", \"RestingBP\": 125, \"Cholesterol\": 213, \"FastingBS\": 0, \"RestingECG\": \"LVH\", \"MaxHR\": 125, \"ExerciseAngina\": \"Y\", \"Oldpeak\": 1.4, \"ST_Slope\": \"Up\", \"HeartDisease\": 0, \"HD\": \"False\", \"Prediction\": \"False\"}, {\"Age\": 54, \"Sex\": \"M\", \"ChestPainType\": \"ATA\", \"RestingBP\": 192, \"Cholesterol\": 283, \"FastingBS\": 0, \"RestingECG\": \"LVH\", \"MaxHR\": 195, \"ExerciseAngina\": \"N\", \"Oldpeak\": 0.0, \"ST_Slope\": \"Up\", \"HeartDisease\": 1, \"HD\": \"True\", \"Prediction\": \"False\"}, {\"Age\": 53, \"Sex\": \"M\", \"ChestPainType\": \"ASY\", \"RestingBP\": 123, \"Cholesterol\": 282, \"FastingBS\": 0, \"RestingECG\": \"Normal\", \"MaxHR\": 95, \"ExerciseAngina\": \"Y\", \"Oldpeak\": 2.0, \"ST_Slope\": \"Flat\", \"HeartDisease\": 1, \"HD\": \"True\", \"Prediction\": \"True\"}, {\"Age\": 52, \"Sex\": \"M\", \"ChestPainType\": \"ASY\", \"RestingBP\": 112, \"Cholesterol\": 230, \"FastingBS\": 0, \"RestingECG\": \"Normal\", \"MaxHR\": 160, \"ExerciseAngina\": \"N\", \"Oldpeak\": 0.0, \"ST_Slope\": \"Up\", \"HeartDisease\": 1, \"HD\": \"True\", \"Prediction\": \"False\"}, {\"Age\": 40, \"Sex\": \"M\", \"ChestPainType\": \"ASY\", \"RestingBP\": 110, \"Cholesterol\": 167, \"FastingBS\": 0, \"RestingECG\": \"LVH\", \"MaxHR\": 114, \"ExerciseAngina\": \"Y\", \"Oldpeak\": 2.0, \"ST_Slope\": \"Flat\", \"HeartDisease\": 1, \"HD\": \"True\", \"Prediction\": \"True\"}, {\"Age\": 58, \"Sex\": \"M\", \"ChestPainType\": \"NAP\", \"RestingBP\": 132, \"Cholesterol\": 224, \"FastingBS\": 0, \"RestingECG\": \"LVH\", \"MaxHR\": 173, \"ExerciseAngina\": \"N\", \"Oldpeak\": 3.2, \"ST_Slope\": \"Up\", \"HeartDisease\": 1, \"HD\": \"True\", \"Prediction\": \"False\"}, {\"Age\": 41, \"Sex\": \"F\", \"ChestPainType\": \"NAP\", \"RestingBP\": 112, \"Cholesterol\": 268, \"FastingBS\": 0, \"RestingECG\": \"LVH\", \"MaxHR\": 172, \"ExerciseAngina\": \"Y\", \"Oldpeak\": 0.0, \"ST_Slope\": \"Up\", \"HeartDisease\": 0, \"HD\": \"False\", \"Prediction\": \"False\"}, {\"Age\": 41, \"Sex\": \"M\", \"ChestPainType\": \"NAP\", \"RestingBP\": 112, \"Cholesterol\": 250, \"FastingBS\": 0, \"RestingECG\": \"Normal\", \"MaxHR\": 179, \"ExerciseAngina\": \"N\", \"Oldpeak\": 0.0, \"ST_Slope\": \"Up\", \"HeartDisease\": 0, \"HD\": \"False\", \"Prediction\": \"False\"}, {\"Age\": 50, \"Sex\": \"F\", \"ChestPainType\": \"NAP\", \"RestingBP\": 120, \"Cholesterol\": 219, \"FastingBS\": 0, \"RestingECG\": \"Normal\", \"MaxHR\": 158, \"ExerciseAngina\": \"N\", \"Oldpeak\": 1.6, \"ST_Slope\": \"Flat\", \"HeartDisease\": 0, \"HD\": \"False\", \"Prediction\": \"False\"}, {\"Age\": 54, \"Sex\": \"F\", \"ChestPainType\": \"NAP\", \"RestingBP\": 108, \"Cholesterol\": 267, \"FastingBS\": 0, \"RestingECG\": \"LVH\", \"MaxHR\": 167, \"ExerciseAngina\": \"N\", \"Oldpeak\": 0.0, \"ST_Slope\": \"Up\", \"HeartDisease\": 0, \"HD\": \"False\", \"Prediction\": \"False\"}, {\"Age\": 64, \"Sex\": \"F\", \"ChestPainType\": \"ASY\", \"RestingBP\": 130, \"Cholesterol\": 303, \"FastingBS\": 0, \"RestingECG\": \"Normal\", \"MaxHR\": 122, \"ExerciseAngina\": \"N\", \"Oldpeak\": 2.0, \"ST_Slope\": \"Flat\", \"HeartDisease\": 0, \"HD\": \"False\", \"Prediction\": \"True\"}, {\"Age\": 51, \"Sex\": \"F\", \"ChestPainType\": \"NAP\", \"RestingBP\": 130, \"Cholesterol\": 256, \"FastingBS\": 0, \"RestingECG\": \"LVH\", \"MaxHR\": 149, \"ExerciseAngina\": \"N\", \"Oldpeak\": 0.5, \"ST_Slope\": \"Up\", \"HeartDisease\": 0, \"HD\": \"False\", \"Prediction\": \"False\"}, {\"Age\": 46, \"Sex\": \"F\", \"ChestPainType\": \"ATA\", \"RestingBP\": 105, \"Cholesterol\": 204, \"FastingBS\": 0, \"RestingECG\": \"Normal\", \"MaxHR\": 172, \"ExerciseAngina\": \"N\", \"Oldpeak\": 0.0, \"ST_Slope\": \"Up\", \"HeartDisease\": 0, \"HD\": \"False\", \"Prediction\": \"False\"}, {\"Age\": 55, \"Sex\": \"M\", \"ChestPainType\": \"ASY\", \"RestingBP\": 140, \"Cholesterol\": 217, \"FastingBS\": 0, \"RestingECG\": \"Normal\", \"MaxHR\": 111, \"ExerciseAngina\": \"Y\", \"Oldpeak\": 5.6, \"ST_Slope\": \"Down\", \"HeartDisease\": 1, \"HD\": \"True\", \"Prediction\": \"True\"}, {\"Age\": 45, \"Sex\": \"M\", \"ChestPainType\": \"ATA\", \"RestingBP\": 128, \"Cholesterol\": 308, \"FastingBS\": 0, \"RestingECG\": \"LVH\", \"MaxHR\": 170, \"ExerciseAngina\": \"N\", \"Oldpeak\": 0.0, \"ST_Slope\": \"Up\", \"HeartDisease\": 0, \"HD\": \"False\", \"Prediction\": \"False\"}, {\"Age\": 56, \"Sex\": \"M\", \"ChestPainType\": \"TA\", \"RestingBP\": 120, \"Cholesterol\": 193, \"FastingBS\": 0, \"RestingECG\": \"LVH\", \"MaxHR\": 162, \"ExerciseAngina\": \"N\", \"Oldpeak\": 1.9, \"ST_Slope\": \"Flat\", \"HeartDisease\": 0, \"HD\": \"False\", \"Prediction\": \"False\"}, {\"Age\": 66, \"Sex\": \"F\", \"ChestPainType\": \"ASY\", \"RestingBP\": 178, \"Cholesterol\": 228, \"FastingBS\": 1, \"RestingECG\": \"Normal\", \"MaxHR\": 165, \"ExerciseAngina\": \"Y\", \"Oldpeak\": 1.0, \"ST_Slope\": \"Flat\", \"HeartDisease\": 1, \"HD\": \"True\", \"Prediction\": \"False\"}, {\"Age\": 38, \"Sex\": \"M\", \"ChestPainType\": \"TA\", \"RestingBP\": 120, \"Cholesterol\": 231, \"FastingBS\": 0, \"RestingECG\": \"Normal\", \"MaxHR\": 182, \"ExerciseAngina\": \"Y\", \"Oldpeak\": 3.8, \"ST_Slope\": \"Flat\", \"HeartDisease\": 1, \"HD\": \"True\", \"Prediction\": \"False\"}, {\"Age\": 62, \"Sex\": \"F\", \"ChestPainType\": \"ASY\", \"RestingBP\": 150, \"Cholesterol\": 244, \"FastingBS\": 0, \"RestingECG\": \"Normal\", \"MaxHR\": 154, \"ExerciseAngina\": \"Y\", \"Oldpeak\": 1.4, \"ST_Slope\": \"Flat\", \"HeartDisease\": 1, \"HD\": \"True\", \"Prediction\": \"False\"}, {\"Age\": 55, \"Sex\": \"M\", \"ChestPainType\": \"ATA\", \"RestingBP\": 130, \"Cholesterol\": 262, \"FastingBS\": 0, \"RestingECG\": \"Normal\", \"MaxHR\": 155, \"ExerciseAngina\": \"N\", \"Oldpeak\": 0.0, \"ST_Slope\": \"Up\", \"HeartDisease\": 0, \"HD\": \"False\", \"Prediction\": \"False\"}, {\"Age\": 58, \"Sex\": \"M\", \"ChestPainType\": \"ASY\", \"RestingBP\": 128, \"Cholesterol\": 259, \"FastingBS\": 0, \"RestingECG\": \"LVH\", \"MaxHR\": 130, \"ExerciseAngina\": \"Y\", \"Oldpeak\": 3.0, \"ST_Slope\": \"Flat\", \"HeartDisease\": 1, \"HD\": \"True\", \"Prediction\": \"True\"}, {\"Age\": 43, \"Sex\": \"M\", \"ChestPainType\": \"ASY\", \"RestingBP\": 110, \"Cholesterol\": 211, \"FastingBS\": 0, \"RestingECG\": \"Normal\", \"MaxHR\": 161, \"ExerciseAngina\": \"N\", \"Oldpeak\": 0.0, \"ST_Slope\": \"Up\", \"HeartDisease\": 0, \"HD\": \"False\", \"Prediction\": \"False\"}, {\"Age\": 64, \"Sex\": \"F\", \"ChestPainType\": \"ASY\", \"RestingBP\": 180, \"Cholesterol\": 325, \"FastingBS\": 0, \"RestingECG\": \"Normal\", \"MaxHR\": 154, \"ExerciseAngina\": \"Y\", \"Oldpeak\": 0.0, \"ST_Slope\": \"Up\", \"HeartDisease\": 0, \"HD\": \"False\", \"Prediction\": \"False\"}, {\"Age\": 50, \"Sex\": \"F\", \"ChestPainType\": \"ASY\", \"RestingBP\": 110, \"Cholesterol\": 254, \"FastingBS\": 0, \"RestingECG\": \"LVH\", \"MaxHR\": 159, \"ExerciseAngina\": \"N\", \"Oldpeak\": 0.0, \"ST_Slope\": \"Up\", \"HeartDisease\": 0, \"HD\": \"False\", \"Prediction\": \"False\"}, {\"Age\": 53, \"Sex\": \"M\", \"ChestPainType\": \"NAP\", \"RestingBP\": 130, \"Cholesterol\": 197, \"FastingBS\": 1, \"RestingECG\": \"LVH\", \"MaxHR\": 152, \"ExerciseAngina\": \"N\", \"Oldpeak\": 1.2, \"ST_Slope\": \"Down\", \"HeartDisease\": 0, \"HD\": \"False\", \"Prediction\": \"False\"}, {\"Age\": 45, \"Sex\": \"F\", \"ChestPainType\": \"ASY\", \"RestingBP\": 138, \"Cholesterol\": 236, \"FastingBS\": 0, \"RestingECG\": \"LVH\", \"MaxHR\": 152, \"ExerciseAngina\": \"Y\", \"Oldpeak\": 0.2, \"ST_Slope\": \"Flat\", \"HeartDisease\": 0, \"HD\": \"False\", \"Prediction\": \"False\"}, {\"Age\": 65, \"Sex\": \"M\", \"ChestPainType\": \"TA\", \"RestingBP\": 138, \"Cholesterol\": 282, \"FastingBS\": 1, \"RestingECG\": \"LVH\", \"MaxHR\": 174, \"ExerciseAngina\": \"N\", \"Oldpeak\": 1.4, \"ST_Slope\": \"Flat\", \"HeartDisease\": 1, \"HD\": \"True\", \"Prediction\": \"True\"}, {\"Age\": 69, \"Sex\": \"M\", \"ChestPainType\": \"TA\", \"RestingBP\": 160, \"Cholesterol\": 234, \"FastingBS\": 1, \"RestingECG\": \"LVH\", \"MaxHR\": 131, \"ExerciseAngina\": \"N\", \"Oldpeak\": 0.1, \"ST_Slope\": \"Flat\", \"HeartDisease\": 0, \"HD\": \"False\", \"Prediction\": \"False\"}, {\"Age\": 69, \"Sex\": \"M\", \"ChestPainType\": \"NAP\", \"RestingBP\": 140, \"Cholesterol\": 254, \"FastingBS\": 0, \"RestingECG\": \"LVH\", \"MaxHR\": 146, \"ExerciseAngina\": \"N\", \"Oldpeak\": 2.0, \"ST_Slope\": \"Flat\", \"HeartDisease\": 1, \"HD\": \"True\", \"Prediction\": \"True\"}, {\"Age\": 67, \"Sex\": \"M\", \"ChestPainType\": \"ASY\", \"RestingBP\": 100, \"Cholesterol\": 299, \"FastingBS\": 0, \"RestingECG\": \"LVH\", \"MaxHR\": 125, \"ExerciseAngina\": \"Y\", \"Oldpeak\": 0.9, \"ST_Slope\": \"Flat\", \"HeartDisease\": 1, \"HD\": \"True\", \"Prediction\": \"False\"}, {\"Age\": 68, \"Sex\": \"F\", \"ChestPainType\": \"NAP\", \"RestingBP\": 120, \"Cholesterol\": 211, \"FastingBS\": 0, \"RestingECG\": \"LVH\", \"MaxHR\": 115, \"ExerciseAngina\": \"N\", \"Oldpeak\": 1.5, \"ST_Slope\": \"Flat\", \"HeartDisease\": 0, \"HD\": \"False\", \"Prediction\": \"True\"}, {\"Age\": 34, \"Sex\": \"M\", \"ChestPainType\": \"TA\", \"RestingBP\": 118, \"Cholesterol\": 182, \"FastingBS\": 0, \"RestingECG\": \"LVH\", \"MaxHR\": 174, \"ExerciseAngina\": \"N\", \"Oldpeak\": 0.0, \"ST_Slope\": \"Up\", \"HeartDisease\": 0, \"HD\": \"False\", \"Prediction\": \"False\"}, {\"Age\": 62, \"Sex\": \"F\", \"ChestPainType\": \"ASY\", \"RestingBP\": 138, \"Cholesterol\": 294, \"FastingBS\": 1, \"RestingECG\": \"Normal\", \"MaxHR\": 106, \"ExerciseAngina\": \"N\", \"Oldpeak\": 1.9, \"ST_Slope\": \"Flat\", \"HeartDisease\": 1, \"HD\": \"True\", \"Prediction\": \"True\"}, {\"Age\": 51, \"Sex\": \"M\", \"ChestPainType\": \"ASY\", \"RestingBP\": 140, \"Cholesterol\": 298, \"FastingBS\": 0, \"RestingECG\": \"Normal\", \"MaxHR\": 122, \"ExerciseAngina\": \"Y\", \"Oldpeak\": 4.2, \"ST_Slope\": \"Flat\", \"HeartDisease\": 1, \"HD\": \"True\", \"Prediction\": \"True\"}, {\"Age\": 46, \"Sex\": \"M\", \"ChestPainType\": \"NAP\", \"RestingBP\": 150, \"Cholesterol\": 231, \"FastingBS\": 0, \"RestingECG\": \"Normal\", \"MaxHR\": 147, \"ExerciseAngina\": \"N\", \"Oldpeak\": 3.6, \"ST_Slope\": \"Flat\", \"HeartDisease\": 1, \"HD\": \"True\", \"Prediction\": \"False\"}, {\"Age\": 67, \"Sex\": \"M\", \"ChestPainType\": \"ASY\", \"RestingBP\": 125, \"Cholesterol\": 254, \"FastingBS\": 1, \"RestingECG\": \"Normal\", \"MaxHR\": 163, \"ExerciseAngina\": \"N\", \"Oldpeak\": 0.2, \"ST_Slope\": \"Flat\", \"HeartDisease\": 1, \"HD\": \"True\", \"Prediction\": \"False\"}, {\"Age\": 50, \"Sex\": \"M\", \"ChestPainType\": \"NAP\", \"RestingBP\": 129, \"Cholesterol\": 196, \"FastingBS\": 0, \"RestingECG\": \"Normal\", \"MaxHR\": 163, \"ExerciseAngina\": \"N\", \"Oldpeak\": 0.0, \"ST_Slope\": \"Up\", \"HeartDisease\": 0, \"HD\": \"False\", \"Prediction\": \"False\"}, {\"Age\": 42, \"Sex\": \"M\", \"ChestPainType\": \"NAP\", \"RestingBP\": 120, \"Cholesterol\": 240, \"FastingBS\": 1, \"RestingECG\": \"Normal\", \"MaxHR\": 194, \"ExerciseAngina\": \"N\", \"Oldpeak\": 0.8, \"ST_Slope\": \"Down\", \"HeartDisease\": 0, \"HD\": \"False\", \"Prediction\": \"False\"}, {\"Age\": 56, \"Sex\": \"F\", \"ChestPainType\": \"ASY\", \"RestingBP\": 134, \"Cholesterol\": 409, \"FastingBS\": 0, \"RestingECG\": \"LVH\", \"MaxHR\": 150, \"ExerciseAngina\": \"Y\", \"Oldpeak\": 1.9, \"ST_Slope\": \"Flat\", \"HeartDisease\": 1, \"HD\": \"True\", \"Prediction\": \"False\"}, {\"Age\": 41, \"Sex\": \"M\", \"ChestPainType\": \"ASY\", \"RestingBP\": 110, \"Cholesterol\": 172, \"FastingBS\": 0, \"RestingECG\": \"LVH\", \"MaxHR\": 158, \"ExerciseAngina\": \"N\", \"Oldpeak\": 0.0, \"ST_Slope\": \"Up\", \"HeartDisease\": 1, \"HD\": \"True\", \"Prediction\": \"False\"}, {\"Age\": 42, \"Sex\": \"F\", \"ChestPainType\": \"ASY\", \"RestingBP\": 102, \"Cholesterol\": 265, \"FastingBS\": 0, \"RestingECG\": \"LVH\", \"MaxHR\": 122, \"ExerciseAngina\": \"N\", \"Oldpeak\": 0.6, \"ST_Slope\": \"Flat\", \"HeartDisease\": 0, \"HD\": \"False\", \"Prediction\": \"False\"}, {\"Age\": 53, \"Sex\": \"M\", \"ChestPainType\": \"NAP\", \"RestingBP\": 130, \"Cholesterol\": 246, \"FastingBS\": 1, \"RestingECG\": \"LVH\", \"MaxHR\": 173, \"ExerciseAngina\": \"N\", \"Oldpeak\": 0.0, \"ST_Slope\": \"Up\", \"HeartDisease\": 0, \"HD\": \"False\", \"Prediction\": \"False\"}, {\"Age\": 43, \"Sex\": \"M\", \"ChestPainType\": \"NAP\", \"RestingBP\": 130, \"Cholesterol\": 315, \"FastingBS\": 0, \"RestingECG\": \"Normal\", \"MaxHR\": 162, \"ExerciseAngina\": \"N\", \"Oldpeak\": 1.9, \"ST_Slope\": \"Up\", \"HeartDisease\": 0, \"HD\": \"False\", \"Prediction\": \"False\"}, {\"Age\": 56, \"Sex\": \"M\", \"ChestPainType\": \"ASY\", \"RestingBP\": 132, \"Cholesterol\": 184, \"FastingBS\": 0, \"RestingECG\": \"LVH\", \"MaxHR\": 105, \"ExerciseAngina\": \"Y\", \"Oldpeak\": 2.1, \"ST_Slope\": \"Flat\", \"HeartDisease\": 1, \"HD\": \"True\", \"Prediction\": \"False\"}, {\"Age\": 52, \"Sex\": \"M\", \"ChestPainType\": \"ASY\", \"RestingBP\": 108, \"Cholesterol\": 233, \"FastingBS\": 1, \"RestingECG\": \"Normal\", \"MaxHR\": 147, \"ExerciseAngina\": \"N\", \"Oldpeak\": 0.1, \"ST_Slope\": \"Up\", \"HeartDisease\": 0, \"HD\": \"False\", \"Prediction\": \"False\"}, {\"Age\": 62, \"Sex\": \"F\", \"ChestPainType\": \"ASY\", \"RestingBP\": 140, \"Cholesterol\": 394, \"FastingBS\": 0, \"RestingECG\": \"LVH\", \"MaxHR\": 157, \"ExerciseAngina\": \"N\", \"Oldpeak\": 1.2, \"ST_Slope\": \"Flat\", \"HeartDisease\": 0, \"HD\": \"False\", \"Prediction\": \"False\"}, {\"Age\": 70, \"Sex\": \"M\", \"ChestPainType\": \"NAP\", \"RestingBP\": 160, \"Cholesterol\": 269, \"FastingBS\": 0, \"RestingECG\": \"Normal\", \"MaxHR\": 112, \"ExerciseAngina\": \"Y\", \"Oldpeak\": 2.9, \"ST_Slope\": \"Flat\", \"HeartDisease\": 1, \"HD\": \"True\", \"Prediction\": \"True\"}, {\"Age\": 54, \"Sex\": \"M\", \"ChestPainType\": \"ASY\", \"RestingBP\": 140, \"Cholesterol\": 239, \"FastingBS\": 0, \"RestingECG\": \"Normal\", \"MaxHR\": 160, \"ExerciseAngina\": \"N\", \"Oldpeak\": 1.2, \"ST_Slope\": \"Up\", \"HeartDisease\": 0, \"HD\": \"False\", \"Prediction\": \"False\"}, {\"Age\": 70, \"Sex\": \"M\", \"ChestPainType\": \"ASY\", \"RestingBP\": 145, \"Cholesterol\": 174, \"FastingBS\": 0, \"RestingECG\": \"Normal\", \"MaxHR\": 125, \"ExerciseAngina\": \"Y\", \"Oldpeak\": 2.6, \"ST_Slope\": \"Down\", \"HeartDisease\": 1, \"HD\": \"True\", \"Prediction\": \"True\"}, {\"Age\": 54, \"Sex\": \"M\", \"ChestPainType\": \"ATA\", \"RestingBP\": 108, \"Cholesterol\": 309, \"FastingBS\": 0, \"RestingECG\": \"Normal\", \"MaxHR\": 156, \"ExerciseAngina\": \"N\", \"Oldpeak\": 0.0, \"ST_Slope\": \"Up\", \"HeartDisease\": 0, \"HD\": \"False\", \"Prediction\": \"False\"}, {\"Age\": 35, \"Sex\": \"M\", \"ChestPainType\": \"ASY\", \"RestingBP\": 126, \"Cholesterol\": 282, \"FastingBS\": 0, \"RestingECG\": \"LVH\", \"MaxHR\": 156, \"ExerciseAngina\": \"Y\", \"Oldpeak\": 0.0, \"ST_Slope\": \"Up\", \"HeartDisease\": 1, \"HD\": \"True\", \"Prediction\": \"True\"}, {\"Age\": 48, \"Sex\": \"M\", \"ChestPainType\": \"NAP\", \"RestingBP\": 124, \"Cholesterol\": 255, \"FastingBS\": 1, \"RestingECG\": \"Normal\", \"MaxHR\": 175, \"ExerciseAngina\": \"N\", \"Oldpeak\": 0.0, \"ST_Slope\": \"Up\", \"HeartDisease\": 0, \"HD\": \"False\", \"Prediction\": \"False\"}, {\"Age\": 55, \"Sex\": \"F\", \"ChestPainType\": \"ATA\", \"RestingBP\": 135, \"Cholesterol\": 250, \"FastingBS\": 0, \"RestingECG\": \"LVH\", \"MaxHR\": 161, \"ExerciseAngina\": \"N\", \"Oldpeak\": 1.4, \"ST_Slope\": \"Flat\", \"HeartDisease\": 0, \"HD\": \"False\", \"Prediction\": \"False\"}, {\"Age\": 58, \"Sex\": \"F\", \"ChestPainType\": \"ASY\", \"RestingBP\": 100, \"Cholesterol\": 248, \"FastingBS\": 0, \"RestingECG\": \"LVH\", \"MaxHR\": 122, \"ExerciseAngina\": \"N\", \"Oldpeak\": 1.0, \"ST_Slope\": \"Flat\", \"HeartDisease\": 0, \"HD\": \"False\", \"Prediction\": \"True\"}, {\"Age\": 54, \"Sex\": \"F\", \"ChestPainType\": \"NAP\", \"RestingBP\": 110, \"Cholesterol\": 214, \"FastingBS\": 0, \"RestingECG\": \"Normal\", \"MaxHR\": 158, \"ExerciseAngina\": \"N\", \"Oldpeak\": 1.6, \"ST_Slope\": \"Flat\", \"HeartDisease\": 0, \"HD\": \"False\", \"Prediction\": \"False\"}, {\"Age\": 69, \"Sex\": \"F\", \"ChestPainType\": \"TA\", \"RestingBP\": 140, \"Cholesterol\": 239, \"FastingBS\": 0, \"RestingECG\": \"Normal\", \"MaxHR\": 151, \"ExerciseAngina\": \"N\", \"Oldpeak\": 1.8, \"ST_Slope\": \"Up\", \"HeartDisease\": 0, \"HD\": \"False\", \"Prediction\": \"False\"}, {\"Age\": 77, \"Sex\": \"M\", \"ChestPainType\": \"ASY\", \"RestingBP\": 125, \"Cholesterol\": 304, \"FastingBS\": 0, \"RestingECG\": \"LVH\", \"MaxHR\": 162, \"ExerciseAngina\": \"Y\", \"Oldpeak\": 0.0, \"ST_Slope\": \"Up\", \"HeartDisease\": 1, \"HD\": \"True\", \"Prediction\": \"False\"}, {\"Age\": 68, \"Sex\": \"M\", \"ChestPainType\": \"NAP\", \"RestingBP\": 118, \"Cholesterol\": 277, \"FastingBS\": 0, \"RestingECG\": \"Normal\", \"MaxHR\": 151, \"ExerciseAngina\": \"N\", \"Oldpeak\": 1.0, \"ST_Slope\": \"Up\", \"HeartDisease\": 0, \"HD\": \"False\", \"Prediction\": \"False\"}, {\"Age\": 58, \"Sex\": \"M\", \"ChestPainType\": \"ASY\", \"RestingBP\": 125, \"Cholesterol\": 300, \"FastingBS\": 0, \"RestingECG\": \"LVH\", \"MaxHR\": 171, \"ExerciseAngina\": \"N\", \"Oldpeak\": 0.0, \"ST_Slope\": \"Up\", \"HeartDisease\": 1, \"HD\": \"True\", \"Prediction\": \"False\"}, {\"Age\": 60, \"Sex\": \"M\", \"ChestPainType\": \"ASY\", \"RestingBP\": 125, \"Cholesterol\": 258, \"FastingBS\": 0, \"RestingECG\": \"LVH\", \"MaxHR\": 141, \"ExerciseAngina\": \"Y\", \"Oldpeak\": 2.8, \"ST_Slope\": \"Flat\", \"HeartDisease\": 1, \"HD\": \"True\", \"Prediction\": \"True\"}, {\"Age\": 51, \"Sex\": \"M\", \"ChestPainType\": \"ASY\", \"RestingBP\": 140, \"Cholesterol\": 299, \"FastingBS\": 0, \"RestingECG\": \"Normal\", \"MaxHR\": 173, \"ExerciseAngina\": \"Y\", \"Oldpeak\": 1.6, \"ST_Slope\": \"Up\", \"HeartDisease\": 1, \"HD\": \"True\", \"Prediction\": \"False\"}, {\"Age\": 55, \"Sex\": \"M\", \"ChestPainType\": \"ASY\", \"RestingBP\": 160, \"Cholesterol\": 289, \"FastingBS\": 0, \"RestingECG\": \"LVH\", \"MaxHR\": 145, \"ExerciseAngina\": \"Y\", \"Oldpeak\": 0.8, \"ST_Slope\": \"Flat\", \"HeartDisease\": 1, \"HD\": \"True\", \"Prediction\": \"True\"}, {\"Age\": 52, \"Sex\": \"M\", \"ChestPainType\": \"TA\", \"RestingBP\": 152, \"Cholesterol\": 298, \"FastingBS\": 1, \"RestingECG\": \"Normal\", \"MaxHR\": 178, \"ExerciseAngina\": \"N\", \"Oldpeak\": 1.2, \"ST_Slope\": \"Flat\", \"HeartDisease\": 0, \"HD\": \"False\", \"Prediction\": \"False\"}, {\"Age\": 60, \"Sex\": \"F\", \"ChestPainType\": \"NAP\", \"RestingBP\": 102, \"Cholesterol\": 318, \"FastingBS\": 0, \"RestingECG\": \"Normal\", \"MaxHR\": 160, \"ExerciseAngina\": \"N\", \"Oldpeak\": 0.0, \"ST_Slope\": \"Up\", \"HeartDisease\": 0, \"HD\": \"False\", \"Prediction\": \"False\"}, {\"Age\": 58, \"Sex\": \"M\", \"ChestPainType\": \"NAP\", \"RestingBP\": 105, \"Cholesterol\": 240, \"FastingBS\": 0, \"RestingECG\": \"LVH\", \"MaxHR\": 154, \"ExerciseAngina\": \"Y\", \"Oldpeak\": 0.6, \"ST_Slope\": \"Flat\", \"HeartDisease\": 0, \"HD\": \"False\", \"Prediction\": \"True\"}, {\"Age\": 64, \"Sex\": \"M\", \"ChestPainType\": \"NAP\", \"RestingBP\": 125, \"Cholesterol\": 309, \"FastingBS\": 0, \"RestingECG\": \"Normal\", \"MaxHR\": 131, \"ExerciseAngina\": \"Y\", \"Oldpeak\": 1.8, \"ST_Slope\": \"Flat\", \"HeartDisease\": 1, \"HD\": \"True\", \"Prediction\": \"False\"}, {\"Age\": 37, \"Sex\": \"M\", \"ChestPainType\": \"NAP\", \"RestingBP\": 130, \"Cholesterol\": 250, \"FastingBS\": 0, \"RestingECG\": \"Normal\", \"MaxHR\": 187, \"ExerciseAngina\": \"N\", \"Oldpeak\": 3.5, \"ST_Slope\": \"Down\", \"HeartDisease\": 0, \"HD\": \"False\", \"Prediction\": \"False\"}, {\"Age\": 59, \"Sex\": \"M\", \"ChestPainType\": \"TA\", \"RestingBP\": 170, \"Cholesterol\": 288, \"FastingBS\": 0, \"RestingECG\": \"LVH\", \"MaxHR\": 159, \"ExerciseAngina\": \"N\", \"Oldpeak\": 0.2, \"ST_Slope\": \"Flat\", \"HeartDisease\": 1, \"HD\": \"True\", \"Prediction\": \"False\"}, {\"Age\": 51, \"Sex\": \"M\", \"ChestPainType\": \"NAP\", \"RestingBP\": 125, \"Cholesterol\": 245, \"FastingBS\": 1, \"RestingECG\": \"LVH\", \"MaxHR\": 166, \"ExerciseAngina\": \"N\", \"Oldpeak\": 2.4, \"ST_Slope\": \"Flat\", \"HeartDisease\": 0, \"HD\": \"False\", \"Prediction\": \"False\"}, {\"Age\": 43, \"Sex\": \"F\", \"ChestPainType\": \"NAP\", \"RestingBP\": 122, \"Cholesterol\": 213, \"FastingBS\": 0, \"RestingECG\": \"Normal\", \"MaxHR\": 165, \"ExerciseAngina\": \"N\", \"Oldpeak\": 0.2, \"ST_Slope\": \"Flat\", \"HeartDisease\": 0, \"HD\": \"False\", \"Prediction\": \"False\"}, {\"Age\": 58, \"Sex\": \"M\", \"ChestPainType\": \"ASY\", \"RestingBP\": 128, \"Cholesterol\": 216, \"FastingBS\": 0, \"RestingECG\": \"LVH\", \"MaxHR\": 131, \"ExerciseAngina\": \"Y\", \"Oldpeak\": 2.2, \"ST_Slope\": \"Flat\", \"HeartDisease\": 1, \"HD\": \"True\", \"Prediction\": \"True\"}, {\"Age\": 29, \"Sex\": \"M\", \"ChestPainType\": \"ATA\", \"RestingBP\": 130, \"Cholesterol\": 204, \"FastingBS\": 0, \"RestingECG\": \"LVH\", \"MaxHR\": 202, \"ExerciseAngina\": \"N\", \"Oldpeak\": 0.0, \"ST_Slope\": \"Up\", \"HeartDisease\": 0, \"HD\": \"False\", \"Prediction\": \"False\"}, {\"Age\": 41, \"Sex\": \"F\", \"ChestPainType\": \"ATA\", \"RestingBP\": 130, \"Cholesterol\": 204, \"FastingBS\": 0, \"RestingECG\": \"LVH\", \"MaxHR\": 172, \"ExerciseAngina\": \"N\", \"Oldpeak\": 1.4, \"ST_Slope\": \"Up\", \"HeartDisease\": 0, \"HD\": \"False\", \"Prediction\": \"False\"}, {\"Age\": 63, \"Sex\": \"F\", \"ChestPainType\": \"NAP\", \"RestingBP\": 135, \"Cholesterol\": 252, \"FastingBS\": 0, \"RestingECG\": \"LVH\", \"MaxHR\": 172, \"ExerciseAngina\": \"N\", \"Oldpeak\": 0.0, \"ST_Slope\": \"Up\", \"HeartDisease\": 0, \"HD\": \"False\", \"Prediction\": \"False\"}, {\"Age\": 51, \"Sex\": \"M\", \"ChestPainType\": \"NAP\", \"RestingBP\": 94, \"Cholesterol\": 227, \"FastingBS\": 0, \"RestingECG\": \"Normal\", \"MaxHR\": 154, \"ExerciseAngina\": \"Y\", \"Oldpeak\": 0.0, \"ST_Slope\": \"Up\", \"HeartDisease\": 0, \"HD\": \"False\", \"Prediction\": \"False\"}, {\"Age\": 54, \"Sex\": \"M\", \"ChestPainType\": \"NAP\", \"RestingBP\": 120, \"Cholesterol\": 258, \"FastingBS\": 0, \"RestingECG\": \"LVH\", \"MaxHR\": 147, \"ExerciseAngina\": \"N\", \"Oldpeak\": 0.4, \"ST_Slope\": \"Flat\", \"HeartDisease\": 0, \"HD\": \"False\", \"Prediction\": \"True\"}, {\"Age\": 44, \"Sex\": \"M\", \"ChestPainType\": \"ATA\", \"RestingBP\": 120, \"Cholesterol\": 220, \"FastingBS\": 0, \"RestingECG\": \"Normal\", \"MaxHR\": 170, \"ExerciseAngina\": \"N\", \"Oldpeak\": 0.0, \"ST_Slope\": \"Up\", \"HeartDisease\": 0, \"HD\": \"False\", \"Prediction\": \"False\"}, {\"Age\": 54, \"Sex\": \"M\", \"ChestPainType\": \"ASY\", \"RestingBP\": 110, \"Cholesterol\": 239, \"FastingBS\": 0, \"RestingECG\": \"Normal\", \"MaxHR\": 126, \"ExerciseAngina\": \"Y\", \"Oldpeak\": 2.8, \"ST_Slope\": \"Flat\", \"HeartDisease\": 1, \"HD\": \"True\", \"Prediction\": \"True\"}, {\"Age\": 65, \"Sex\": \"M\", \"ChestPainType\": \"ASY\", \"RestingBP\": 135, \"Cholesterol\": 254, \"FastingBS\": 0, \"RestingECG\": \"LVH\", \"MaxHR\": 127, \"ExerciseAngina\": \"N\", \"Oldpeak\": 2.8, \"ST_Slope\": \"Flat\", \"HeartDisease\": 1, \"HD\": \"True\", \"Prediction\": \"True\"}, {\"Age\": 57, \"Sex\": \"M\", \"ChestPainType\": \"NAP\", \"RestingBP\": 150, \"Cholesterol\": 168, \"FastingBS\": 0, \"RestingECG\": \"Normal\", \"MaxHR\": 174, \"ExerciseAngina\": \"N\", \"Oldpeak\": 1.6, \"ST_Slope\": \"Up\", \"HeartDisease\": 0, \"HD\": \"False\", \"Prediction\": \"False\"}, {\"Age\": 63, \"Sex\": \"M\", \"ChestPainType\": \"ASY\", \"RestingBP\": 130, \"Cholesterol\": 330, \"FastingBS\": 1, \"RestingECG\": \"LVH\", \"MaxHR\": 132, \"ExerciseAngina\": \"Y\", \"Oldpeak\": 1.8, \"ST_Slope\": \"Up\", \"HeartDisease\": 1, \"HD\": \"True\", \"Prediction\": \"True\"}, {\"Age\": 35, \"Sex\": \"F\", \"ChestPainType\": \"ASY\", \"RestingBP\": 138, \"Cholesterol\": 183, \"FastingBS\": 0, \"RestingECG\": \"Normal\", \"MaxHR\": 182, \"ExerciseAngina\": \"N\", \"Oldpeak\": 1.4, \"ST_Slope\": \"Up\", \"HeartDisease\": 0, \"HD\": \"False\", \"Prediction\": \"False\"}, {\"Age\": 41, \"Sex\": \"M\", \"ChestPainType\": \"ATA\", \"RestingBP\": 135, \"Cholesterol\": 203, \"FastingBS\": 0, \"RestingECG\": \"Normal\", \"MaxHR\": 132, \"ExerciseAngina\": \"N\", \"Oldpeak\": 0.0, \"ST_Slope\": \"Flat\", \"HeartDisease\": 0, \"HD\": \"False\", \"Prediction\": \"False\"}, {\"Age\": 62, \"Sex\": \"F\", \"ChestPainType\": \"NAP\", \"RestingBP\": 130, \"Cholesterol\": 263, \"FastingBS\": 0, \"RestingECG\": \"Normal\", \"MaxHR\": 97, \"ExerciseAngina\": \"N\", \"Oldpeak\": 1.2, \"ST_Slope\": \"Flat\", \"HeartDisease\": 1, \"HD\": \"True\", \"Prediction\": \"True\"}, {\"Age\": 43, \"Sex\": \"F\", \"ChestPainType\": \"ASY\", \"RestingBP\": 132, \"Cholesterol\": 341, \"FastingBS\": 1, \"RestingECG\": \"LVH\", \"MaxHR\": 136, \"ExerciseAngina\": \"Y\", \"Oldpeak\": 3.0, \"ST_Slope\": \"Flat\", \"HeartDisease\": 1, \"HD\": \"True\", \"Prediction\": \"True\"}, {\"Age\": 58, \"Sex\": \"F\", \"ChestPainType\": \"TA\", \"RestingBP\": 150, \"Cholesterol\": 283, \"FastingBS\": 1, \"RestingECG\": \"LVH\", \"MaxHR\": 162, \"ExerciseAngina\": \"N\", \"Oldpeak\": 1.0, \"ST_Slope\": \"Up\", \"HeartDisease\": 0, \"HD\": \"False\", \"Prediction\": \"False\"}, {\"Age\": 52, \"Sex\": \"M\", \"ChestPainType\": \"TA\", \"RestingBP\": 118, \"Cholesterol\": 186, \"FastingBS\": 0, \"RestingECG\": \"LVH\", \"MaxHR\": 190, \"ExerciseAngina\": \"N\", \"Oldpeak\": 0.0, \"ST_Slope\": \"Flat\", \"HeartDisease\": 0, \"HD\": \"False\", \"Prediction\": \"False\"}, {\"Age\": 61, \"Sex\": \"F\", \"ChestPainType\": \"ASY\", \"RestingBP\": 145, \"Cholesterol\": 307, \"FastingBS\": 0, \"RestingECG\": \"LVH\", \"MaxHR\": 146, \"ExerciseAngina\": \"Y\", \"Oldpeak\": 1.0, \"ST_Slope\": \"Flat\", \"HeartDisease\": 1, \"HD\": \"True\", \"Prediction\": \"False\"}, {\"Age\": 39, \"Sex\": \"M\", \"ChestPainType\": \"ASY\", \"RestingBP\": 118, \"Cholesterol\": 219, \"FastingBS\": 0, \"RestingECG\": \"Normal\", \"MaxHR\": 140, \"ExerciseAngina\": \"N\", \"Oldpeak\": 1.2, \"ST_Slope\": \"Flat\", \"HeartDisease\": 1, \"HD\": \"True\", \"Prediction\": \"False\"}, {\"Age\": 45, \"Sex\": \"M\", \"ChestPainType\": \"ASY\", \"RestingBP\": 115, \"Cholesterol\": 260, \"FastingBS\": 0, \"RestingECG\": \"LVH\", \"MaxHR\": 185, \"ExerciseAngina\": \"N\", \"Oldpeak\": 0.0, \"ST_Slope\": \"Up\", \"HeartDisease\": 0, \"HD\": \"False\", \"Prediction\": \"False\"}, {\"Age\": 52, \"Sex\": \"M\", \"ChestPainType\": \"ASY\", \"RestingBP\": 128, \"Cholesterol\": 255, \"FastingBS\": 0, \"RestingECG\": \"Normal\", \"MaxHR\": 161, \"ExerciseAngina\": \"Y\", \"Oldpeak\": 0.0, \"ST_Slope\": \"Up\", \"HeartDisease\": 1, \"HD\": \"True\", \"Prediction\": \"False\"}, {\"Age\": 62, \"Sex\": \"M\", \"ChestPainType\": \"NAP\", \"RestingBP\": 130, \"Cholesterol\": 231, \"FastingBS\": 0, \"RestingECG\": \"Normal\", \"MaxHR\": 146, \"ExerciseAngina\": \"N\", \"Oldpeak\": 1.8, \"ST_Slope\": \"Flat\", \"HeartDisease\": 0, \"HD\": \"False\", \"Prediction\": \"False\"}, {\"Age\": 62, \"Sex\": \"F\", \"ChestPainType\": \"ASY\", \"RestingBP\": 160, \"Cholesterol\": 164, \"FastingBS\": 0, \"RestingECG\": \"LVH\", \"MaxHR\": 145, \"ExerciseAngina\": \"N\", \"Oldpeak\": 6.2, \"ST_Slope\": \"Down\", \"HeartDisease\": 1, \"HD\": \"True\", \"Prediction\": \"True\"}, {\"Age\": 53, \"Sex\": \"F\", \"ChestPainType\": \"ASY\", \"RestingBP\": 138, \"Cholesterol\": 234, \"FastingBS\": 0, \"RestingECG\": \"LVH\", \"MaxHR\": 160, \"ExerciseAngina\": \"N\", \"Oldpeak\": 0.0, \"ST_Slope\": \"Up\", \"HeartDisease\": 0, \"HD\": \"False\", \"Prediction\": \"False\"}, {\"Age\": 43, \"Sex\": \"M\", \"ChestPainType\": \"ASY\", \"RestingBP\": 120, \"Cholesterol\": 177, \"FastingBS\": 0, \"RestingECG\": \"LVH\", \"MaxHR\": 120, \"ExerciseAngina\": \"Y\", \"Oldpeak\": 2.5, \"ST_Slope\": \"Flat\", \"HeartDisease\": 1, \"HD\": \"True\", \"Prediction\": \"False\"}, {\"Age\": 47, \"Sex\": \"M\", \"ChestPainType\": \"NAP\", \"RestingBP\": 138, \"Cholesterol\": 257, \"FastingBS\": 0, \"RestingECG\": \"LVH\", \"MaxHR\": 156, \"ExerciseAngina\": \"N\", \"Oldpeak\": 0.0, \"ST_Slope\": \"Up\", \"HeartDisease\": 0, \"HD\": \"False\", \"Prediction\": \"False\"}, {\"Age\": 52, \"Sex\": \"M\", \"ChestPainType\": \"ATA\", \"RestingBP\": 120, \"Cholesterol\": 325, \"FastingBS\": 0, \"RestingECG\": \"Normal\", \"MaxHR\": 172, \"ExerciseAngina\": \"N\", \"Oldpeak\": 0.2, \"ST_Slope\": \"Up\", \"HeartDisease\": 0, \"HD\": \"False\", \"Prediction\": \"False\"}, {\"Age\": 68, \"Sex\": \"M\", \"ChestPainType\": \"NAP\", \"RestingBP\": 180, \"Cholesterol\": 274, \"FastingBS\": 1, \"RestingECG\": \"LVH\", \"MaxHR\": 150, \"ExerciseAngina\": \"Y\", \"Oldpeak\": 1.6, \"ST_Slope\": \"Flat\", \"HeartDisease\": 1, \"HD\": \"True\", \"Prediction\": \"True\"}, {\"Age\": 39, \"Sex\": \"M\", \"ChestPainType\": \"NAP\", \"RestingBP\": 140, \"Cholesterol\": 321, \"FastingBS\": 0, \"RestingECG\": \"LVH\", \"MaxHR\": 182, \"ExerciseAngina\": \"N\", \"Oldpeak\": 0.0, \"ST_Slope\": \"Up\", \"HeartDisease\": 0, \"HD\": \"False\", \"Prediction\": \"False\"}, {\"Age\": 53, \"Sex\": \"F\", \"ChestPainType\": \"ASY\", \"RestingBP\": 130, \"Cholesterol\": 264, \"FastingBS\": 0, \"RestingECG\": \"LVH\", \"MaxHR\": 143, \"ExerciseAngina\": \"N\", \"Oldpeak\": 0.4, \"ST_Slope\": \"Flat\", \"HeartDisease\": 0, \"HD\": \"False\", \"Prediction\": \"False\"}, {\"Age\": 62, \"Sex\": \"F\", \"ChestPainType\": \"ASY\", \"RestingBP\": 140, \"Cholesterol\": 268, \"FastingBS\": 0, \"RestingECG\": \"LVH\", \"MaxHR\": 160, \"ExerciseAngina\": \"N\", \"Oldpeak\": 3.6, \"ST_Slope\": \"Down\", \"HeartDisease\": 1, \"HD\": \"True\", \"Prediction\": \"False\"}, {\"Age\": 51, \"Sex\": \"F\", \"ChestPainType\": \"NAP\", \"RestingBP\": 140, \"Cholesterol\": 308, \"FastingBS\": 0, \"RestingECG\": \"LVH\", \"MaxHR\": 142, \"ExerciseAngina\": \"N\", \"Oldpeak\": 1.5, \"ST_Slope\": \"Up\", \"HeartDisease\": 0, \"HD\": \"False\", \"Prediction\": \"False\"}, {\"Age\": 60, \"Sex\": \"M\", \"ChestPainType\": \"ASY\", \"RestingBP\": 130, \"Cholesterol\": 253, \"FastingBS\": 0, \"RestingECG\": \"Normal\", \"MaxHR\": 144, \"ExerciseAngina\": \"Y\", \"Oldpeak\": 1.4, \"ST_Slope\": \"Up\", \"HeartDisease\": 1, \"HD\": \"True\", \"Prediction\": \"True\"}, {\"Age\": 65, \"Sex\": \"M\", \"ChestPainType\": \"ASY\", \"RestingBP\": 110, \"Cholesterol\": 248, \"FastingBS\": 0, \"RestingECG\": \"LVH\", \"MaxHR\": 158, \"ExerciseAngina\": \"N\", \"Oldpeak\": 0.6, \"ST_Slope\": \"Up\", \"HeartDisease\": 1, \"HD\": \"True\", \"Prediction\": \"True\"}, {\"Age\": 65, \"Sex\": \"F\", \"ChestPainType\": \"NAP\", \"RestingBP\": 155, \"Cholesterol\": 269, \"FastingBS\": 0, \"RestingECG\": \"Normal\", \"MaxHR\": 148, \"ExerciseAngina\": \"N\", \"Oldpeak\": 0.8, \"ST_Slope\": \"Up\", \"HeartDisease\": 0, \"HD\": \"False\", \"Prediction\": \"True\"}, {\"Age\": 60, \"Sex\": \"M\", \"ChestPainType\": \"NAP\", \"RestingBP\": 140, \"Cholesterol\": 185, \"FastingBS\": 0, \"RestingECG\": \"LVH\", \"MaxHR\": 155, \"ExerciseAngina\": \"N\", \"Oldpeak\": 3.0, \"ST_Slope\": \"Flat\", \"HeartDisease\": 1, \"HD\": \"True\", \"Prediction\": \"False\"}, {\"Age\": 60, \"Sex\": \"M\", \"ChestPainType\": \"ASY\", \"RestingBP\": 145, \"Cholesterol\": 282, \"FastingBS\": 0, \"RestingECG\": \"LVH\", \"MaxHR\": 142, \"ExerciseAngina\": \"Y\", \"Oldpeak\": 2.8, \"ST_Slope\": \"Flat\", \"HeartDisease\": 1, \"HD\": \"True\", \"Prediction\": \"False\"}, {\"Age\": 54, \"Sex\": \"M\", \"ChestPainType\": \"ASY\", \"RestingBP\": 120, \"Cholesterol\": 188, \"FastingBS\": 0, \"RestingECG\": \"Normal\", \"MaxHR\": 113, \"ExerciseAngina\": \"N\", \"Oldpeak\": 1.4, \"ST_Slope\": \"Flat\", \"HeartDisease\": 1, \"HD\": \"True\", \"Prediction\": \"False\"}, {\"Age\": 44, \"Sex\": \"M\", \"ChestPainType\": \"ATA\", \"RestingBP\": 130, \"Cholesterol\": 219, \"FastingBS\": 0, \"RestingECG\": \"LVH\", \"MaxHR\": 188, \"ExerciseAngina\": \"N\", \"Oldpeak\": 0.0, \"ST_Slope\": \"Up\", \"HeartDisease\": 0, \"HD\": \"False\", \"Prediction\": \"False\"}, {\"Age\": 44, \"Sex\": \"M\", \"ChestPainType\": \"ASY\", \"RestingBP\": 112, \"Cholesterol\": 290, \"FastingBS\": 0, \"RestingECG\": \"LVH\", \"MaxHR\": 153, \"ExerciseAngina\": \"N\", \"Oldpeak\": 0.0, \"ST_Slope\": \"Up\", \"HeartDisease\": 1, \"HD\": \"True\", \"Prediction\": \"True\"}, {\"Age\": 51, \"Sex\": \"M\", \"ChestPainType\": \"NAP\", \"RestingBP\": 110, \"Cholesterol\": 175, \"FastingBS\": 0, \"RestingECG\": \"Normal\", \"MaxHR\": 123, \"ExerciseAngina\": \"N\", \"Oldpeak\": 0.6, \"ST_Slope\": \"Up\", \"HeartDisease\": 0, \"HD\": \"False\", \"Prediction\": \"False\"}, {\"Age\": 59, \"Sex\": \"M\", \"ChestPainType\": \"NAP\", \"RestingBP\": 150, \"Cholesterol\": 212, \"FastingBS\": 1, \"RestingECG\": \"Normal\", \"MaxHR\": 157, \"ExerciseAngina\": \"N\", \"Oldpeak\": 1.6, \"ST_Slope\": \"Up\", \"HeartDisease\": 0, \"HD\": \"False\", \"Prediction\": \"True\"}, {\"Age\": 71, \"Sex\": \"F\", \"ChestPainType\": \"ATA\", \"RestingBP\": 160, \"Cholesterol\": 302, \"FastingBS\": 0, \"RestingECG\": \"Normal\", \"MaxHR\": 162, \"ExerciseAngina\": \"N\", \"Oldpeak\": 0.4, \"ST_Slope\": \"Up\", \"HeartDisease\": 0, \"HD\": \"False\", \"Prediction\": \"False\"}, {\"Age\": 61, \"Sex\": \"M\", \"ChestPainType\": \"NAP\", \"RestingBP\": 150, \"Cholesterol\": 243, \"FastingBS\": 1, \"RestingECG\": \"Normal\", \"MaxHR\": 137, \"ExerciseAngina\": \"Y\", \"Oldpeak\": 1.0, \"ST_Slope\": \"Flat\", \"HeartDisease\": 0, \"HD\": \"False\", \"Prediction\": \"False\"}, {\"Age\": 55, \"Sex\": \"M\", \"ChestPainType\": \"ASY\", \"RestingBP\": 132, \"Cholesterol\": 353, \"FastingBS\": 0, \"RestingECG\": \"Normal\", \"MaxHR\": 132, \"ExerciseAngina\": \"Y\", \"Oldpeak\": 1.2, \"ST_Slope\": \"Flat\", \"HeartDisease\": 1, \"HD\": \"True\", \"Prediction\": \"True\"}, {\"Age\": 64, \"Sex\": \"M\", \"ChestPainType\": \"NAP\", \"RestingBP\": 140, \"Cholesterol\": 335, \"FastingBS\": 0, \"RestingECG\": \"Normal\", \"MaxHR\": 158, \"ExerciseAngina\": \"N\", \"Oldpeak\": 0.0, \"ST_Slope\": \"Up\", \"HeartDisease\": 1, \"HD\": \"True\", \"Prediction\": \"False\"}, {\"Age\": 43, \"Sex\": \"M\", \"ChestPainType\": \"ASY\", \"RestingBP\": 150, \"Cholesterol\": 247, \"FastingBS\": 0, \"RestingECG\": \"Normal\", \"MaxHR\": 171, \"ExerciseAngina\": \"N\", \"Oldpeak\": 1.5, \"ST_Slope\": \"Up\", \"HeartDisease\": 0, \"HD\": \"False\", \"Prediction\": \"False\"}, {\"Age\": 58, \"Sex\": \"F\", \"ChestPainType\": \"NAP\", \"RestingBP\": 120, \"Cholesterol\": 340, \"FastingBS\": 0, \"RestingECG\": \"Normal\", \"MaxHR\": 172, \"ExerciseAngina\": \"N\", \"Oldpeak\": 0.0, \"ST_Slope\": \"Up\", \"HeartDisease\": 0, \"HD\": \"False\", \"Prediction\": \"False\"}, {\"Age\": 60, \"Sex\": \"M\", \"ChestPainType\": \"ASY\", \"RestingBP\": 130, \"Cholesterol\": 206, \"FastingBS\": 0, \"RestingECG\": \"LVH\", \"MaxHR\": 132, \"ExerciseAngina\": \"Y\", \"Oldpeak\": 2.4, \"ST_Slope\": \"Flat\", \"HeartDisease\": 1, \"HD\": \"True\", \"Prediction\": \"True\"}, {\"Age\": 58, \"Sex\": \"M\", \"ChestPainType\": \"ATA\", \"RestingBP\": 120, \"Cholesterol\": 284, \"FastingBS\": 0, \"RestingECG\": \"LVH\", \"MaxHR\": 160, \"ExerciseAngina\": \"N\", \"Oldpeak\": 1.8, \"ST_Slope\": \"Flat\", \"HeartDisease\": 1, \"HD\": \"True\", \"Prediction\": \"False\"}, {\"Age\": 49, \"Sex\": \"M\", \"ChestPainType\": \"ATA\", \"RestingBP\": 130, \"Cholesterol\": 266, \"FastingBS\": 0, \"RestingECG\": \"Normal\", \"MaxHR\": 171, \"ExerciseAngina\": \"N\", \"Oldpeak\": 0.6, \"ST_Slope\": \"Up\", \"HeartDisease\": 0, \"HD\": \"False\", \"Prediction\": \"False\"}, {\"Age\": 48, \"Sex\": \"M\", \"ChestPainType\": \"ATA\", \"RestingBP\": 110, \"Cholesterol\": 229, \"FastingBS\": 0, \"RestingECG\": \"Normal\", \"MaxHR\": 168, \"ExerciseAngina\": \"N\", \"Oldpeak\": 1.0, \"ST_Slope\": \"Down\", \"HeartDisease\": 1, \"HD\": \"True\", \"Prediction\": \"False\"}, {\"Age\": 52, \"Sex\": \"M\", \"ChestPainType\": \"NAP\", \"RestingBP\": 172, \"Cholesterol\": 199, \"FastingBS\": 1, \"RestingECG\": \"Normal\", \"MaxHR\": 162, \"ExerciseAngina\": \"N\", \"Oldpeak\": 0.5, \"ST_Slope\": \"Up\", \"HeartDisease\": 0, \"HD\": \"False\", \"Prediction\": \"False\"}, {\"Age\": 44, \"Sex\": \"M\", \"ChestPainType\": \"ATA\", \"RestingBP\": 120, \"Cholesterol\": 263, \"FastingBS\": 0, \"RestingECG\": \"Normal\", \"MaxHR\": 173, \"ExerciseAngina\": \"N\", \"Oldpeak\": 0.0, \"ST_Slope\": \"Up\", \"HeartDisease\": 0, \"HD\": \"False\", \"Prediction\": \"False\"}, {\"Age\": 56, \"Sex\": \"F\", \"ChestPainType\": \"ATA\", \"RestingBP\": 140, \"Cholesterol\": 294, \"FastingBS\": 0, \"RestingECG\": \"LVH\", \"MaxHR\": 153, \"ExerciseAngina\": \"N\", \"Oldpeak\": 1.3, \"ST_Slope\": \"Flat\", \"HeartDisease\": 0, \"HD\": \"False\", \"Prediction\": \"False\"}, {\"Age\": 57, \"Sex\": \"M\", \"ChestPainType\": \"ASY\", \"RestingBP\": 140, \"Cholesterol\": 192, \"FastingBS\": 0, \"RestingECG\": \"Normal\", \"MaxHR\": 148, \"ExerciseAngina\": \"N\", \"Oldpeak\": 0.4, \"ST_Slope\": \"Flat\", \"HeartDisease\": 0, \"HD\": \"False\", \"Prediction\": \"False\"}, {\"Age\": 67, \"Sex\": \"M\", \"ChestPainType\": \"ASY\", \"RestingBP\": 160, \"Cholesterol\": 286, \"FastingBS\": 0, \"RestingECG\": \"LVH\", \"MaxHR\": 108, \"ExerciseAngina\": \"Y\", \"Oldpeak\": 1.5, \"ST_Slope\": \"Flat\", \"HeartDisease\": 1, \"HD\": \"True\", \"Prediction\": \"True\"}, {\"Age\": 53, \"Sex\": \"F\", \"ChestPainType\": \"NAP\", \"RestingBP\": 128, \"Cholesterol\": 216, \"FastingBS\": 0, \"RestingECG\": \"LVH\", \"MaxHR\": 115, \"ExerciseAngina\": \"N\", \"Oldpeak\": 0.0, \"ST_Slope\": \"Up\", \"HeartDisease\": 0, \"HD\": \"False\", \"Prediction\": \"True\"}, {\"Age\": 52, \"Sex\": \"M\", \"ChestPainType\": \"NAP\", \"RestingBP\": 138, \"Cholesterol\": 223, \"FastingBS\": 0, \"RestingECG\": \"Normal\", \"MaxHR\": 169, \"ExerciseAngina\": \"N\", \"Oldpeak\": 0.0, \"ST_Slope\": \"Up\", \"HeartDisease\": 0, \"HD\": \"False\", \"Prediction\": \"False\"}, {\"Age\": 43, \"Sex\": \"M\", \"ChestPainType\": \"ASY\", \"RestingBP\": 132, \"Cholesterol\": 247, \"FastingBS\": 1, \"RestingECG\": \"LVH\", \"MaxHR\": 143, \"ExerciseAngina\": \"Y\", \"Oldpeak\": 0.1, \"ST_Slope\": \"Flat\", \"HeartDisease\": 1, \"HD\": \"True\", \"Prediction\": \"False\"}, {\"Age\": 52, \"Sex\": \"M\", \"ChestPainType\": \"ASY\", \"RestingBP\": 128, \"Cholesterol\": 204, \"FastingBS\": 1, \"RestingECG\": \"Normal\", \"MaxHR\": 156, \"ExerciseAngina\": \"Y\", \"Oldpeak\": 1.0, \"ST_Slope\": \"Flat\", \"HeartDisease\": 1, \"HD\": \"True\", \"Prediction\": \"False\"}, {\"Age\": 59, \"Sex\": \"M\", \"ChestPainType\": \"TA\", \"RestingBP\": 134, \"Cholesterol\": 204, \"FastingBS\": 0, \"RestingECG\": \"Normal\", \"MaxHR\": 162, \"ExerciseAngina\": \"N\", \"Oldpeak\": 0.8, \"ST_Slope\": \"Up\", \"HeartDisease\": 1, \"HD\": \"True\", \"Prediction\": \"False\"}, {\"Age\": 64, \"Sex\": \"M\", \"ChestPainType\": \"TA\", \"RestingBP\": 170, \"Cholesterol\": 227, \"FastingBS\": 0, \"RestingECG\": \"LVH\", \"MaxHR\": 155, \"ExerciseAngina\": \"N\", \"Oldpeak\": 0.6, \"ST_Slope\": \"Flat\", \"HeartDisease\": 0, \"HD\": \"False\", \"Prediction\": \"False\"}, {\"Age\": 66, \"Sex\": \"F\", \"ChestPainType\": \"NAP\", \"RestingBP\": 146, \"Cholesterol\": 278, \"FastingBS\": 0, \"RestingECG\": \"LVH\", \"MaxHR\": 152, \"ExerciseAngina\": \"N\", \"Oldpeak\": 0.0, \"ST_Slope\": \"Flat\", \"HeartDisease\": 0, \"HD\": \"False\", \"Prediction\": \"False\"}, {\"Age\": 39, \"Sex\": \"F\", \"ChestPainType\": \"NAP\", \"RestingBP\": 138, \"Cholesterol\": 220, \"FastingBS\": 0, \"RestingECG\": \"Normal\", \"MaxHR\": 152, \"ExerciseAngina\": \"N\", \"Oldpeak\": 0.0, \"ST_Slope\": \"Flat\", \"HeartDisease\": 0, \"HD\": \"False\", \"Prediction\": \"False\"}, {\"Age\": 57, \"Sex\": \"M\", \"ChestPainType\": \"ATA\", \"RestingBP\": 154, \"Cholesterol\": 232, \"FastingBS\": 0, \"RestingECG\": \"LVH\", \"MaxHR\": 164, \"ExerciseAngina\": \"N\", \"Oldpeak\": 0.0, \"ST_Slope\": \"Up\", \"HeartDisease\": 1, \"HD\": \"True\", \"Prediction\": \"False\"}, {\"Age\": 58, \"Sex\": \"F\", \"ChestPainType\": \"ASY\", \"RestingBP\": 130, \"Cholesterol\": 197, \"FastingBS\": 0, \"RestingECG\": \"Normal\", \"MaxHR\": 131, \"ExerciseAngina\": \"N\", \"Oldpeak\": 0.6, \"ST_Slope\": \"Flat\", \"HeartDisease\": 0, \"HD\": \"False\", \"Prediction\": \"False\"}, {\"Age\": 57, \"Sex\": \"M\", \"ChestPainType\": \"ASY\", \"RestingBP\": 110, \"Cholesterol\": 335, \"FastingBS\": 0, \"RestingECG\": \"Normal\", \"MaxHR\": 143, \"ExerciseAngina\": \"Y\", \"Oldpeak\": 3.0, \"ST_Slope\": \"Flat\", \"HeartDisease\": 1, \"HD\": \"True\", \"Prediction\": \"False\"}, {\"Age\": 47, \"Sex\": \"M\", \"ChestPainType\": \"NAP\", \"RestingBP\": 130, \"Cholesterol\": 253, \"FastingBS\": 0, \"RestingECG\": \"Normal\", \"MaxHR\": 179, \"ExerciseAngina\": \"N\", \"Oldpeak\": 0.0, \"ST_Slope\": \"Up\", \"HeartDisease\": 0, \"HD\": \"False\", \"Prediction\": \"False\"}, {\"Age\": 55, \"Sex\": \"F\", \"ChestPainType\": \"ASY\", \"RestingBP\": 128, \"Cholesterol\": 205, \"FastingBS\": 0, \"RestingECG\": \"ST\", \"MaxHR\": 130, \"ExerciseAngina\": \"Y\", \"Oldpeak\": 2.0, \"ST_Slope\": \"Flat\", \"HeartDisease\": 1, \"HD\": \"True\", \"Prediction\": \"False\"}, {\"Age\": 35, \"Sex\": \"M\", \"ChestPainType\": \"ATA\", \"RestingBP\": 122, \"Cholesterol\": 192, \"FastingBS\": 0, \"RestingECG\": \"Normal\", \"MaxHR\": 174, \"ExerciseAngina\": \"N\", \"Oldpeak\": 0.0, \"ST_Slope\": \"Up\", \"HeartDisease\": 0, \"HD\": \"False\", \"Prediction\": \"False\"}, {\"Age\": 61, \"Sex\": \"M\", \"ChestPainType\": \"ASY\", \"RestingBP\": 148, \"Cholesterol\": 203, \"FastingBS\": 0, \"RestingECG\": \"Normal\", \"MaxHR\": 161, \"ExerciseAngina\": \"N\", \"Oldpeak\": 0.0, \"ST_Slope\": \"Up\", \"HeartDisease\": 1, \"HD\": \"True\", \"Prediction\": \"False\"}, {\"Age\": 58, \"Sex\": \"M\", \"ChestPainType\": \"ASY\", \"RestingBP\": 114, \"Cholesterol\": 318, \"FastingBS\": 0, \"RestingECG\": \"ST\", \"MaxHR\": 140, \"ExerciseAngina\": \"N\", \"Oldpeak\": 4.4, \"ST_Slope\": \"Down\", \"HeartDisease\": 1, \"HD\": \"True\", \"Prediction\": \"False\"}, {\"Age\": 58, \"Sex\": \"F\", \"ChestPainType\": \"ASY\", \"RestingBP\": 170, \"Cholesterol\": 225, \"FastingBS\": 1, \"RestingECG\": \"LVH\", \"MaxHR\": 146, \"ExerciseAngina\": \"Y\", \"Oldpeak\": 2.8, \"ST_Slope\": \"Flat\", \"HeartDisease\": 1, \"HD\": \"True\", \"Prediction\": \"True\"}, {\"Age\": 58, \"Sex\": \"M\", \"ChestPainType\": \"ATA\", \"RestingBP\": 125, \"Cholesterol\": 220, \"FastingBS\": 0, \"RestingECG\": \"Normal\", \"MaxHR\": 144, \"ExerciseAngina\": \"N\", \"Oldpeak\": 0.4, \"ST_Slope\": \"Flat\", \"HeartDisease\": 0, \"HD\": \"False\", \"Prediction\": \"True\"}, {\"Age\": 56, \"Sex\": \"M\", \"ChestPainType\": \"ATA\", \"RestingBP\": 130, \"Cholesterol\": 221, \"FastingBS\": 0, \"RestingECG\": \"LVH\", \"MaxHR\": 163, \"ExerciseAngina\": \"N\", \"Oldpeak\": 0.0, \"ST_Slope\": \"Up\", \"HeartDisease\": 0, \"HD\": \"False\", \"Prediction\": \"False\"}, {\"Age\": 56, \"Sex\": \"M\", \"ChestPainType\": \"ATA\", \"RestingBP\": 120, \"Cholesterol\": 240, \"FastingBS\": 0, \"RestingECG\": \"Normal\", \"MaxHR\": 169, \"ExerciseAngina\": \"N\", \"Oldpeak\": 0.0, \"ST_Slope\": \"Down\", \"HeartDisease\": 0, \"HD\": \"False\", \"Prediction\": \"False\"}, {\"Age\": 67, \"Sex\": \"M\", \"ChestPainType\": \"NAP\", \"RestingBP\": 152, \"Cholesterol\": 212, \"FastingBS\": 0, \"RestingECG\": \"LVH\", \"MaxHR\": 150, \"ExerciseAngina\": \"N\", \"Oldpeak\": 0.8, \"ST_Slope\": \"Flat\", \"HeartDisease\": 1, \"HD\": \"True\", \"Prediction\": \"True\"}, {\"Age\": 55, \"Sex\": \"F\", \"ChestPainType\": \"ATA\", \"RestingBP\": 132, \"Cholesterol\": 342, \"FastingBS\": 0, \"RestingECG\": \"Normal\", \"MaxHR\": 166, \"ExerciseAngina\": \"N\", \"Oldpeak\": 1.2, \"ST_Slope\": \"Up\", \"HeartDisease\": 0, \"HD\": \"False\", \"Prediction\": \"False\"}, {\"Age\": 44, \"Sex\": \"M\", \"ChestPainType\": \"ASY\", \"RestingBP\": 120, \"Cholesterol\": 169, \"FastingBS\": 0, \"RestingECG\": \"Normal\", \"MaxHR\": 144, \"ExerciseAngina\": \"Y\", \"Oldpeak\": 2.8, \"ST_Slope\": \"Down\", \"HeartDisease\": 1, \"HD\": \"True\", \"Prediction\": \"False\"}, {\"Age\": 63, \"Sex\": \"M\", \"ChestPainType\": \"ASY\", \"RestingBP\": 140, \"Cholesterol\": 187, \"FastingBS\": 0, \"RestingECG\": \"LVH\", \"MaxHR\": 144, \"ExerciseAngina\": \"Y\", \"Oldpeak\": 4.0, \"ST_Slope\": \"Up\", \"HeartDisease\": 1, \"HD\": \"True\", \"Prediction\": \"False\"}, {\"Age\": 63, \"Sex\": \"F\", \"ChestPainType\": \"ASY\", \"RestingBP\": 124, \"Cholesterol\": 197, \"FastingBS\": 0, \"RestingECG\": \"Normal\", \"MaxHR\": 136, \"ExerciseAngina\": \"Y\", \"Oldpeak\": 0.0, \"ST_Slope\": \"Flat\", \"HeartDisease\": 1, \"HD\": \"True\", \"Prediction\": \"False\"}, {\"Age\": 41, \"Sex\": \"M\", \"ChestPainType\": \"ATA\", \"RestingBP\": 120, \"Cholesterol\": 157, \"FastingBS\": 0, \"RestingECG\": \"Normal\", \"MaxHR\": 182, \"ExerciseAngina\": \"N\", \"Oldpeak\": 0.0, \"ST_Slope\": \"Up\", \"HeartDisease\": 0, \"HD\": \"False\", \"Prediction\": \"False\"}, {\"Age\": 59, \"Sex\": \"M\", \"ChestPainType\": \"ASY\", \"RestingBP\": 164, \"Cholesterol\": 176, \"FastingBS\": 1, \"RestingECG\": \"LVH\", \"MaxHR\": 90, \"ExerciseAngina\": \"N\", \"Oldpeak\": 1.0, \"ST_Slope\": \"Flat\", \"HeartDisease\": 1, \"HD\": \"True\", \"Prediction\": \"True\"}, {\"Age\": 57, \"Sex\": \"F\", \"ChestPainType\": \"ASY\", \"RestingBP\": 140, \"Cholesterol\": 241, \"FastingBS\": 0, \"RestingECG\": \"Normal\", \"MaxHR\": 123, \"ExerciseAngina\": \"Y\", \"Oldpeak\": 0.2, \"ST_Slope\": \"Flat\", \"HeartDisease\": 1, \"HD\": \"True\", \"Prediction\": \"True\"}, {\"Age\": 45, \"Sex\": \"M\", \"ChestPainType\": \"TA\", \"RestingBP\": 110, \"Cholesterol\": 264, \"FastingBS\": 0, \"RestingECG\": \"Normal\", \"MaxHR\": 132, \"ExerciseAngina\": \"N\", \"Oldpeak\": 1.2, \"ST_Slope\": \"Flat\", \"HeartDisease\": 1, \"HD\": \"True\", \"Prediction\": \"False\"}, {\"Age\": 68, \"Sex\": \"M\", \"ChestPainType\": \"ASY\", \"RestingBP\": 144, \"Cholesterol\": 193, \"FastingBS\": 1, \"RestingECG\": \"Normal\", \"MaxHR\": 141, \"ExerciseAngina\": \"N\", \"Oldpeak\": 3.4, \"ST_Slope\": \"Flat\", \"HeartDisease\": 1, \"HD\": \"True\", \"Prediction\": \"True\"}, {\"Age\": 57, \"Sex\": \"M\", \"ChestPainType\": \"ASY\", \"RestingBP\": 130, \"Cholesterol\": 131, \"FastingBS\": 0, \"RestingECG\": \"Normal\", \"MaxHR\": 115, \"ExerciseAngina\": \"Y\", \"Oldpeak\": 1.2, \"ST_Slope\": \"Flat\", \"HeartDisease\": 1, \"HD\": \"True\", \"Prediction\": \"True\"}, {\"Age\": 57, \"Sex\": \"F\", \"ChestPainType\": \"ATA\", \"RestingBP\": 130, \"Cholesterol\": 236, \"FastingBS\": 0, \"RestingECG\": \"LVH\", \"MaxHR\": 174, \"ExerciseAngina\": \"N\", \"Oldpeak\": 0.0, \"ST_Slope\": \"Flat\", \"HeartDisease\": 1, \"HD\": \"True\", \"Prediction\": \"False\"}, {\"Age\": 38, \"Sex\": \"M\", \"ChestPainType\": \"NAP\", \"RestingBP\": 138, \"Cholesterol\": 175, \"FastingBS\": 0, \"RestingECG\": \"Normal\", \"MaxHR\": 173, \"ExerciseAngina\": \"N\", \"Oldpeak\": 0.0, \"ST_Slope\": \"Up\", \"HeartDisease\": 0, \"HD\": \"False\", \"Prediction\": \"False\"}]}}, {\"mode\": \"vega-lite\"});\n",
       "</script>"
      ],
      "text/plain": [
       "alt.HConcatChart(...)"
      ]
     },
     "execution_count": 53,
     "metadata": {},
     "output_type": "execute_result"
    }
   ],
   "source": [
    "c3 | c4"
   ]
  },
  {
   "cell_type": "markdown",
   "metadata": {
    "cell_id": "86853ee827214b6d9cd93fbc528a162e",
    "deepnote_cell_type": "markdown",
    "tags": []
   },
   "source": [
    "By looking at the graphs, the heart disease predictor had more points for false for heart disease than the actual data did. This is the same for both sets of graphs looking at the highest factors in correlation to heart disease."
   ]
  },
  {
   "cell_type": "markdown",
   "metadata": {
    "cell_id": "2b32a76f9f0e4799bbb01d7c9d030f02",
    "deepnote_cell_type": "markdown",
    "tags": []
   },
   "source": [
    "## Summary\n",
    "\n",
    "My project aimed to predict the possibility of a person having a heart condition based on some common risk factors. I used several different classifiers to show the probability of predicting a heart disease with the given data. The classifiers with better scores for the training and test set were the decision tree and random forest classifier, with both having about the same score. Even though the models had a pretty high accuracy score of around 80%, the correlations were not high enough to determine if a person has heart disease based on the factors alone. The highest correlation between heart disease and one of the data set risk factors, Oldpeak, was about 40% which needs to be higher to determine if it correlated to someone having a heart disease. Even though the accuracy was relatively high, there were some false negatives which would have a bad outcome since people will think they don't have heart disease when they do."
   ]
  },
  {
   "cell_type": "markdown",
   "metadata": {
    "cell_id": "beb8f80ce72f4876ab6eb9d0b98413f9",
    "deepnote_cell_type": "markdown",
    "tags": []
   },
   "source": [
    "## References\n",
    "\n",
    "Your code above should include references.  Here is some additional space for references."
   ]
  },
  {
   "cell_type": "markdown",
   "metadata": {
    "cell_id": "17a8bc46ca3f4afd9221ca0a05dc2c79",
    "deepnote_cell_type": "markdown",
    "tags": []
   },
   "source": [
    "* What is the source of your dataset(s)?\n",
    "\n",
    "https://www.kaggle.com/datasets/fedesoriano/heart-failure-prediction"
   ]
  },
  {
   "cell_type": "markdown",
   "metadata": {
    "cell_id": "c5734f046362467ebd95495ffabc95e5",
    "deepnote_cell_type": "markdown",
    "deepnote_to_be_reexecuted": false,
    "execution_millis": 0,
    "execution_start": 1652916033453,
    "source_hash": "aa45eba7",
    "tags": []
   },
   "source": [
    "* List any other references that you found helpful.\n",
    "\n",
    "https://www.geeksforgeeks.org/how-to-create-a-seaborn-correlation-heatmap-in-python/\n",
    "https://www.kaggle.com/code/durgancegaur/a-guide-to-any-classification-problem\n",
    "https://www.datacamp.com/tutorial/k-nearest-neighbor-classification-scikit-learn\n",
    "https://christopherdavisuci.github.io/UCI-Math-10-W22/Week6/Week6-Wednesday.html\n"
   ]
  },
  {
   "cell_type": "markdown",
   "metadata": {
    "cell_id": "f9f143f9c8df412e97c960c436555d41",
    "deepnote_cell_type": "markdown",
    "tags": []
   },
   "source": [
    "## Submission\n",
    "\n",
    "Using the Share button at the top right, **enable Comment privileges** for anyone with a link to the project. Then submit that link on Canvas."
   ]
  },
  {
   "cell_type": "markdown",
   "metadata": {
    "created_in_deepnote_cell": true,
    "deepnote_cell_type": "markdown",
    "tags": []
   },
   "source": [
    "<a style='text-decoration:none;line-height:16px;display:flex;color:#5B5B62;padding:10px;justify-content:end;' href='https://deepnote.com?utm_source=created-in-deepnote-cell&projectId=73a12137-6205-47f9-bda5-430423e844bc' target=\"_blank\">\n",
    "<img alt='Created in deepnote.com' style='display:inline;max-height:16px;margin:0px;margin-right:7.5px;' src='data:image/svg+xml;base64,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' > </img>\n",
    "Created in <span style='font-weight:600;margin-left:4px;'>Deepnote</span></a>"
   ]
  }
 ],
 "metadata": {
  "deepnote": {
   "is_reactive": false
  },
  "deepnote_execution_queue": [],
  "deepnote_notebook_id": "cd715ffe0b9a46df8654cbc72490a5e6",
  "kernelspec": {
   "display_name": "Python 3 (ipykernel)",
   "language": "python",
   "name": "python3"
  },
  "language_info": {
   "codemirror_mode": {
    "name": "ipython",
    "version": 3
   },
   "file_extension": ".py",
   "mimetype": "text/x-python",
   "name": "python",
   "nbconvert_exporter": "python",
   "pygments_lexer": "ipython3",
   "version": "3.9.13"
  }
 },
 "nbformat": 4,
 "nbformat_minor": 4
}
